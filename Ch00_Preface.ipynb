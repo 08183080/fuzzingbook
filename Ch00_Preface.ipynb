{
 "cells": [
  {
   "cell_type": "markdown",
   "metadata": {
    "button": false,
    "ipub": {
     "label": "dummy"
    },
    "new_sheet": false,
    "raw_mimetype": "text/latex",
    "run_control": {
     "read_only": false
    }
   },
   "source": [
    "<!-- A little colophon after TOC -->\n",
    "<!-- If someone finds a way to have this in LaTeX only, I'll be happy -->\n",
    "\\vfill"
   ]
  },
  {
   "cell_type": "markdown",
   "metadata": {
    "button": false,
    "new_sheet": false,
    "raw_mimetype": "text/latex",
    "run_control": {
     "read_only": false
    }
   },
   "source": [
    "**Generating Software Tests**, by Andreas Zeller, Rahul Gopinath, Gordon Fraser, and Christian Holler."
   ]
  },
  {
   "cell_type": "markdown",
   "metadata": {
    "button": false,
    "new_sheet": false,
    "run_control": {
     "read_only": false
    }
   },
   "source": [
    "<!-- A short copyright notice sfter the table of contents -->\n",
    "Copyright &copy; 2018 by the authors; all rights reserved."
   ]
  },
  {
   "cell_type": "markdown",
   "metadata": {},
   "source": [
    "\\setcounter{section}{-1}"
   ]
  },
  {
   "cell_type": "markdown",
   "metadata": {},
   "source": [
    "# Preface"
   ]
  },
  {
   "cell_type": "markdown",
   "metadata": {},
   "source": [
    "This is the preface."
   ]
  }
 ],
 "metadata": {
  "ipub": {
   "bibliography": "gstbook.bib",
   "listcode": false,
   "listfigures": false,
   "listtables": false,
   "titlepage": {
    "author": "Andreas Zeller, Rahul Gopinath, Gordon Fraser, and Christian Holler",
    "subtitle": "Lecture Notes",
    "title": "Generating Software Tests"
   },
   "toc": true
  },
  "kernelspec": {
   "display_name": "Python 3",
   "language": "python",
   "name": "python3"
  },
  "language_info": {
   "codemirror_mode": {
    "name": "ipython",
    "version": 3
   },
   "file_extension": ".py",
   "mimetype": "text/x-python",
   "name": "python",
   "nbconvert_exporter": "python",
   "pygments_lexer": "ipython3",
   "version": "3.6.5"
  },
  "toc": {
   "base_numbering": 1,
   "nav_menu": {},
   "number_sections": true,
   "sideBar": true,
   "skip_h1_title": false,
   "title_cell": "Table of Contents",
   "title_sidebar": "Contents",
   "toc_cell": false,
   "toc_position": {},
   "toc_section_display": true,
   "toc_window_display": true
  }
 },
 "nbformat": 4,
 "nbformat_minor": 2
}
