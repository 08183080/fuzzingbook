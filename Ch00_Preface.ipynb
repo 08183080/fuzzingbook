{
 "cells": [
  {
   "cell_type": "markdown",
   "metadata": {
    "button": false,
    "deletable": true,
    "ipub": {
     "label": "dummy"
    },
    "new_sheet": false,
    "raw_mimetype": "text/latex",
    "run_control": {
     "read_only": false
    }
   },
   "source": [
    "<!-- A little colophon after TOC -->\n",
    "<!-- If someone finds a way to have this in LaTeX only, I'll be happy -->\n",
    "\\vfill"
   ]
  },
  {
   "cell_type": "markdown",
   "metadata": {
    "button": false,
    "deletable": true,
    "new_sheet": false,
    "raw_mimetype": "text/latex",
    "run_control": {
     "read_only": false
    }
   },
   "source": [
    "**Generating Software Tests**, by Andreas Zeller, Rahul Gopinath, Gordon Fraser, and Christian Holler."
   ]
  },
  {
   "cell_type": "markdown",
   "metadata": {
    "button": false,
    "deletable": true,
    "new_sheet": false,
    "run_control": {
     "read_only": false
    }
   },
   "source": [
    "<!-- A short copyright notice sfter the table of contents -->\n",
    "Copyright &copy; 2018 by the authors; all rights reserved."
   ]
  },
  {
   "cell_type": "markdown",
   "metadata": {
    "button": false,
    "deletable": true,
    "new_sheet": false,
    "run_control": {
     "read_only": false
    }
   },
   "source": [
    "\\setcounter{section}{-1}"
   ]
  },
  {
   "cell_type": "markdown",
   "metadata": {
    "button": false,
    "deletable": true,
    "new_sheet": false,
    "run_control": {
     "read_only": false
    }
   },
   "source": [
    "# Preface"
   ]
  },
  {
   "cell_type": "markdown",
   "metadata": {
    "button": false,
    "deletable": true,
    "new_sheet": false,
    "run_control": {
     "read_only": false
    }
   },
   "source": [
    "Software has bugs.  This book addresses this problem by automated software testing, specifically by showing how to _generate tests automatically_.  Such generated tests can be extended into ordinary tests, by adding code that checks for correct behavior; or be used for \"fuzzing\", that is, finding inputs that cause a program to crash, hang, or otherwise malfunction.  The aim is to exercise a maximum of functionality with a minimum of effort."
   ]
  },
  {
   "cell_type": "markdown",
   "metadata": {
    "run_control": {}
   },
   "source": [
    "The book is designed as a textbook for a course in software testing; or as supplementary material in a software testing or software engineering course; and as a resource for software developers."
   ]
  },
  {
   "cell_type": "markdown",
   "metadata": {
    "run_control": {}
   },
   "source": [
    "The main characteristics of this book are:\n",
    "\n",
    "* It assumes that the reader's goal is to achieve a maximum of software reliability with a minimum of cost, automating test generation and execution as much as possible;\n",
    "\n",
    "* It presents a set of practical techniques that can be immediately put to use on a large variety of software, presenting and discussing executable source code for all techniques;\n",
    "\n",
    "* It places software test generation techniques in a coherent framework, allowing the techniques to dovetail and integrate with each other."
   ]
  },
  {
   "cell_type": "markdown",
   "metadata": {
    "run_control": {}
   },
   "source": [
    "## Why this book?"
   ]
  },
  {
   "cell_type": "markdown",
   "metadata": {
    "run_control": {}
   },
   "source": [
    "Software test generation brings software quality to a new level.  Not only are we talking about automatically _executing_ software tests (as with unit testing), but actually _producing_ software tests automatically.  In contrast to the simple generation of random inputs (or \"fuzzing\"), we discuss test generation techniques that adhere to the input language, that systematically cover code structure, and that even are able to automatically learn the input language of the program under test.  These novel techniques lead to dramatic improvements in test generation and software testing, and they now are mature enough to be assembled in a book - even with executable code."
   ]
  },
  {
   "cell_type": "markdown",
   "metadata": {
    "run_control": {}
   },
   "source": [
    "## Who is this book for?\n",
    "\n",
    "* _Students_ who read this book will gain a deep understanding of common practices in software test generation, and may use these techniques to extend and adapt them as part of their research.\n",
    "* _Developers_ who read this book will not only gain the same understanding, but will also be able to use the techniques for their own projects, adapting and extending the code samples provided.\n",
    "* _Technical managers_ will get insights into the capabilities (and limitations) of software test and test generation, and may want to integrate test generation into their own testing workflows."
   ]
  },
  {
   "cell_type": "markdown",
   "metadata": {
    "run_control": {}
   },
   "source": [
    "## Book formats\n",
    "\n",
    "This book comes in four formats:\n",
    "\n",
    "1. As a set of _HTML pages_ to view in your browser (free)\n",
    "2. As a set of _Python modules_ to try out examples yourself (free)\n",
    "3. As a _printed book or PDF_ (available for purchase)\n",
    "4. As a set of _Jupyter notebooks_, which you can edit, interact with, and derive the above formats from, as well as others such as slides or Word files (comes with the book).\n",
    "\n",
    "For self-teaching, the HTML pages may be fine; for offline reading, we'd rather recommend the printed book or PDF.  For teaching, we recommend the Notebook format, as you can easily interact with them, and extend the material for your own purposes.\n",
    "\n"
   ]
  },
  {
   "cell_type": "markdown",
   "metadata": {
    "run_control": {}
   },
   "source": [
    "## How to read this book\n",
    "\n",
    "This book allows for selective reading.  There are a few units in the beginning that define central concepts (and code modules) for others; but after that, units are set to be as independent as possible from each other.\n",
    "\n",
    "\\todo{Add possible paths thorugh the book once all chapters are there.}"
   ]
  },
  {
   "cell_type": "code",
   "execution_count": null,
   "metadata": {
    "collapsed": true,
    "run_control": {}
   },
   "outputs": [],
   "source": []
  }
 ],
 "metadata": {
  "ipub": {
   "bibliography": "gstbook.bib",
   "listcode": false,
   "listfigures": false,
   "listtables": false,
   "titlepage": {
    "author": "Andreas Zeller, Rahul Gopinath, Gordon Fraser, and Christian Holler",
    "subtitle": "Lecture Notes",
    "title": "Generating Software Tests"
   },
   "toc": true
  },
  "kernelspec": {
   "display_name": "Python 3",
   "language": "python",
   "name": "python3"
  },
  "language_info": {
   "codemirror_mode": {
    "name": "ipython",
    "version": 3
   },
   "file_extension": ".py",
   "mimetype": "text/x-python",
   "name": "python",
   "nbconvert_exporter": "python",
   "pygments_lexer": "ipython3",
   "version": "3.5.0"
  },
  "toc": {
   "base_numbering": 1,
   "nav_menu": {},
   "number_sections": true,
   "sideBar": true,
   "skip_h1_title": false,
   "title_cell": "Table of Contents",
   "title_sidebar": "Contents",
   "toc_cell": false,
   "toc_position": {},
   "toc_section_display": true,
   "toc_window_display": true
  }
 },
 "nbformat": 4,
 "nbformat_minor": 2
}
