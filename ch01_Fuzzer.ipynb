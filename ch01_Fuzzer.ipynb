{
 "cells": [
  {
   "cell_type": "markdown",
   "metadata": {
    "button": false,
    "deletable": true,
    "new_sheet": false,
    "run_control": {
     "read_only": false
    },
    "slideshow": {
     "slide_type": "slide"
    }
   },
   "source": [
    "# Fuzzing 101\n",
    "\n",
    "We'll start with a simple fuzzer.  The idea is to produce random characters, adding them to a buffer string variable (`out`), and finally returning the string.\n",
    "\n",
    "This implementation uses the following Python features and functions:\n",
    "\n",
    "* `random.randrange(start, end)` - return a random number [`start`, `end`]\n",
    "* `range(start, end)` - create a list with integers from `start` to `end`.  Typically used in iterations.\n",
    "* `for elem in list: body` executes `body` in a loop with `elem` taking each value from `list`.\n",
    "* `for i in range(start, end): body` executes `body` in a loop with `i` from `start` to `end` - 1.\n",
    "* `chr(n)` - return a character with ASCII code `n`\n",
    "\n"
   ]
  },
  {
   "cell_type": "code",
   "execution_count": 22,
   "metadata": {
    "button": false,
    "collapsed": true,
    "deletable": true,
    "new_sheet": false,
    "run_control": {
     "read_only": false
    }
   },
   "outputs": [],
   "source": [
    "import random"
   ]
  },
  {
   "cell_type": "code",
   "execution_count": 3,
   "metadata": {
    "button": "none",
    "collapsed": true,
    "deletable": true,
    "new_sheet": false,
    "run_control": {
     "read_only": false
    },
    "slideshow": {
     "slide_type": "slide"
    }
   },
   "outputs": [],
   "source": [
    "# We set a specific seed to get the same inputs each time\n",
    "random.seed(53727895348829)"
   ]
  },
  {
   "cell_type": "code",
   "execution_count": 23,
   "metadata": {
    "button": false,
    "collapsed": true,
    "deletable": true,
    "new_sheet": false,
    "run_control": {
     "read_only": false
    },
    "slideshow": {
     "slide_type": "subslide"
    }
   },
   "outputs": [],
   "source": [
    "def fuzzer(max_length = 100, char_start = 32, char_range = 32):\n",
    "    \"\"\"A string of up to `max_length` characters \n",
    "       in the range [`char_start`, `char_start` + `char_range`]\"\"\"\n",
    "    string_length = random.randrange(0, max_length)\n",
    "    out = \"\"\n",
    "    for i in range(0, string_length):\n",
    "        out += chr(random.randrange(char_start, char_start + char_range))\n",
    "    return out"
   ]
  },
  {
   "cell_type": "markdown",
   "metadata": {
    "button": false,
    "deletable": true,
    "new_sheet": false,
    "run_control": {
     "read_only": false
    },
    "slideshow": {
     "slide_type": "slide"
    }
   },
   "source": [
    "With its default arguments, the `fuzzer()` function returns a string of random characters:"
   ]
  },
  {
   "cell_type": "code",
   "execution_count": 28,
   "metadata": {
    "button": false,
    "collapsed": false,
    "deletable": true,
    "new_sheet": false,
    "run_control": {
     "read_only": false
    },
    "slideshow": {
     "slide_type": "subslide"
    }
   },
   "outputs": [
    {
     "data": {
      "text/plain": [
       "'MOBEENBEPNC^ITTEJNPVFPB@MDTWPMVBDI^DCR[[IOMN@\\\\DWAO_ODFRX\\\\PEBHZDG\\\\SVDVCM_DY]TN@\\\\KNZ]GJ[L[JS[MLG\\\\FA\\\\WCHNN^@FQ[LFTELA_XJBM'"
      ]
     },
     "execution_count": 28,
     "metadata": {},
     "output_type": "execute_result"
    }
   ],
   "source": [
    "fuzzer(1000, 64, 32)"
   ]
  },
  {
   "cell_type": "markdown",
   "metadata": {
    "button": false,
    "deletable": true,
    "new_sheet": false,
    "run_control": {
     "read_only": false
    },
    "slideshow": {
     "slide_type": "slide"
    }
   },
   "source": [
    "We can also have `fuzzer()` produce a series of upercase letters.  We use `ord(c)` to return the ASCII code of the character `c`."
   ]
  },
  {
   "cell_type": "code",
   "execution_count": 14,
   "metadata": {
    "button": false,
    "collapsed": false,
    "deletable": true,
    "new_sheet": false,
    "run_control": {
     "read_only": false
    },
    "slideshow": {
     "slide_type": "subslide"
    }
   },
   "outputs": [
    {
     "data": {
      "text/plain": [
       "'FTMAVESIGIYWZZTOMLSFCJPLPGNGKMANYRFDBBUDMZXNYULYHJPAZEEKUEIGTCRNEEYDQZXYQRFDVILCD'"
      ]
     },
     "execution_count": 14,
     "metadata": {},
     "output_type": "execute_result"
    }
   ],
   "source": [
    "fuzzer(100, ord('A'), 26)"
   ]
  },
  {
   "cell_type": "markdown",
   "metadata": {
    "button": false,
    "deletable": true,
    "new_sheet": false,
    "run_control": {
     "read_only": false
    },
    "slideshow": {
     "slide_type": "subslide"
    }
   },
   "source": [
    "We can also have it produce a series of digits:"
   ]
  },
  {
   "cell_type": "code",
   "execution_count": 7,
   "metadata": {
    "button": false,
    "collapsed": false,
    "deletable": true,
    "new_sheet": false,
    "run_control": {
     "read_only": false
    },
    "slideshow": {
     "slide_type": "subslide"
    }
   },
   "outputs": [
    {
     "data": {
      "text/plain": [
       "'647778404926'"
      ]
     },
     "execution_count": 7,
     "metadata": {},
     "output_type": "execute_result"
    }
   ],
   "source": [
    "fuzzer(100, ord('0'), 10)"
   ]
  },
  {
   "cell_type": "markdown",
   "metadata": {
    "button": false,
    "deletable": true,
    "new_sheet": false,
    "run_control": {
     "read_only": false
    },
    "slideshow": {
     "slide_type": "slide"
    }
   },
   "source": [
    "My personal favorite, though, is still simply to have `fuzzer()` produce a long list of garbage..."
   ]
  },
  {
   "cell_type": "code",
   "execution_count": 8,
   "metadata": {
    "button": false,
    "collapsed": false,
    "deletable": true,
    "new_sheet": false,
    "run_control": {
     "read_only": false
    },
    "slideshow": {
     "slide_type": "subslide"
    }
   },
   "outputs": [
    {
     "data": {
      "text/plain": [
       "'~cV^t2FGF9dg>7+4`l)(berJ/R|r:WrPY0;?N8N.E[pepB8gn/tV=Yl>\\\\^/y#[u\",,\\\\z=Yr\\'+ruyoXo&OKfIy\\'NBQR%sjCv+>Llwh#C}er\\'8=#-FgB.x! 52aJ#:6Mm}.5T? =E> HnA:UgK(4?*jBr9CDB,jM[I*P\\x7fm:Dv-JXa>#0?*a| QtB\\'LwZQ+1Sk jQAS~f}f40!9vcd>^S HhTPtxkbG.frk6cd^}9uz\\'-!S!i}]MopO6KHk?[Hm(2]=\"sx\\'lkhpCA^~9y4NU2*TXE`Xy`!-?.6R&yc\\x7fFZ+\\\\;2%finsWnGXfBHj[\"{VQ+?,UVLdXvyt8//w4](K^N\"F]nu5-RX_Vm.M{16j+\\')/e(^MCFVI!$9\"Fw5&C.Bh-W\\\\?Hy%Gim\"!UR5S3[>1<19<*.%^7$rU?V|I&~./KSzN;3y}0]I{NMM?qV/nf[:0\\x7fXH^-H^f,~%}-#Zhodl>;)m[\"iYw-`j0|b_5^?Y>c:m1nAU?{l7:lS64/e]@._xSy^-V\"N|FA|kh ]\\\\~n@X6_g/r~XuJ3&;>Vx![]k<sf_/e;7u^<6n,`v+_VC Ehxs@Q!K1%%uJa~q^<%UgNP1D|\"g_hn>*\\\\*MWyp1<SrgB [vm[pA7ge4LJ&wC<*RZ[GWeUrJ[ TjuzDaCacl.rQ\\'/S&+xlD314a9a_G.mI<oNrrdaD;apZE\\x7f*1e+A/aH~Bv7m.6O{V)iG9i^ gi&r8%D7PS^eS;2S$y?&U\\'O[/}csJ2zpCVC|n7kI\"[M\\x7fW[qg$rGy&\\x7f<|\\'W=T8<9Cs%Vqii7D9.jR\\\\;LF,\"BqOJQE%H\\x7f\\\\mP89i^s::?qac{2b{[@H;_Ub Yvw%^5_KMux|kJP\\\\Lq\"*X\"Q?+g9*/Ttt8@e/RvCP5BIGnU4m;|yD}-GnxJ(ALufq#1h1VXxMCX\\x7fUM+\"^M6:y23>:WMKhwau;Dn<V%Qz]Ln:`QN s`NTS2#6^j$,~3Mpm$Ot{C5o&<t:7n|ml}XE-U%j51\"Vbl;>TK$Dv+%C\"JfUa)NETSQtmM+f^@(G32+(vB`o@W|RU6a$21xcqD&\\\\DlVz|ej!\\x7f-1.\\\\Iz+o6J:tncz\\x7fw2-LR4_(TQQ`8BM>kUMcC\\x7f<V;ZP[|ERHIC\"(\\'r@yVO!HwsN_TAMs8oK!}Zcly|$`qk[iGzR }o~i@?btW4%<&?KP\"2F0+6pq2d1\\x7f:xd>CU[U?Wb)o&U0O{,zp~9DfH/.\\x7f/amvvJr0NT@H_>[w5Gkgk*kl.;u}bN/7</k&!u5XZ&A3w\"W_{*JbPyP6=a[AP>(8%B]&r\\'x{>%Guodp8fD1JU*+~_SXFm}5Lo<X&?}ho.ok:2=FXblz:|~1lMd4F.R&i,TE^-cy%3D!}CHudEO5TUb/_7!)W~a=ng1ZbMrn|@ jK>#f;%j$!6[, Pm[JUa14KHeO7ie}g7e,$vHj6A`dim%AV|yChKC;AB<%dB,OB$ME_X|lI?Hx5o=cn4yAq)Ge/BC:bE+}g~SMOD4Z?,m\"651>B)sV0jtwi?:Bq\\\\weO*Fb{o}@D|2(;Ir\\'M-V?z>1hr(Q&cS-<CUjMv;ThAuVqJ[:nLsf=ih~\\'+I1k&I_(q9m>qD&QHwW2 -VffVuC2d,HJ[RGLBQ0t[DL\\\\$@gq|,8nO\\\\: 3FW(\\'Mz1q\\'nAQ@J[ow=8!)jd2BO\\x7f3U[%`BtJ9]y8'"
      ]
     },
     "execution_count": 8,
     "metadata": {},
     "output_type": "execute_result"
    }
   ],
   "source": [
    "fuzzer(2000, 32, 96)"
   ]
  },
  {
   "cell_type": "markdown",
   "metadata": {
    "button": false,
    "deletable": true,
    "new_sheet": false,
    "run_control": {
     "read_only": false
    },
    "slideshow": {
     "slide_type": "subslide"
    }
   },
   "source": [
    "... and to feed this into some function or program."
   ]
  },
  {
   "cell_type": "code",
   "execution_count": 9,
   "metadata": {
    "button": false,
    "collapsed": false,
    "deletable": true,
    "new_sheet": false,
    "run_control": {
     "read_only": false
    },
    "slideshow": {
     "slide_type": "subslide"
    }
   },
   "outputs": [
    {
     "name": "stdout",
     "output_type": "stream",
     "text": [
      "6440960189750740245088536173029\n"
     ]
    }
   ],
   "source": [
    "x = int(fuzzer(100, ord('0'), 10))\n",
    "print(x)"
   ]
  },
  {
   "cell_type": "code",
   "execution_count": null,
   "metadata": {
    "button": false,
    "collapsed": true,
    "deletable": true,
    "new_sheet": false,
    "run_control": {
     "read_only": false
    }
   },
   "outputs": [],
   "source": []
  }
 ],
 "metadata": {
  "kernelspec": {
   "display_name": "Python 3",
   "language": "python",
   "name": "python3"
  },
  "language_info": {
   "codemirror_mode": {
    "name": "ipython",
    "version": 3
   },
   "file_extension": ".py",
   "mimetype": "text/x-python",
   "name": "python",
   "nbconvert_exporter": "python",
   "pygments_lexer": "ipython3",
   "version": "3.5.0"
  }
 },
 "nbformat": 4,
 "nbformat_minor": 2
}
