{
 "cells": [
  {
   "cell_type": "markdown",
   "metadata": {
    "button": false,
    "deletable": true,
    "new_sheet": false,
    "run_control": {
     "read_only": false
    },
    "slideshow": {
     "slide_type": "slide"
    }
   },
   "source": [
    "# Fuzzing 101\n",
    "\n",
    "We'll start with a simple fuzzer.  The idea is to produce random characters, adding them to a buffer string variable (`out`), and finally returning the string.\n",
    "\n",
    "This implementation uses the following Python features and functions:\n",
    "\n",
    "* `random.randrange(start, end)` - return a random number [`start`, `end`]\n",
    "* `range(start, end)` - create a list with integers from `start` to `end`.  Typically used in iterations.\n",
    "* `for elem in list: body` executes `body` in a loop with `elem` taking each value from `list`.\n",
    "* `for i in range(start, end): body` executes `body` in a loop with `i` from `start` to `end` - 1.\n",
    "* `chr(n)` - return a character with ASCII code `n`\n",
    "\n"
   ]
  },
  {
   "cell_type": "code",
   "execution_count": 9,
   "metadata": {
    "button": false,
    "collapsed": true,
    "deletable": true,
    "new_sheet": false,
    "run_control": {
     "read_only": false
    }
   },
   "outputs": [],
   "source": [
    "import gstbook"
   ]
  },
  {
   "cell_type": "code",
   "execution_count": 10,
   "metadata": {
    "button": false,
    "collapsed": true,
    "deletable": true,
    "new_sheet": false,
    "run_control": {
     "read_only": false
    }
   },
   "outputs": [],
   "source": [
    "import random"
   ]
  },
  {
   "cell_type": "code",
   "execution_count": 11,
   "metadata": {
    "button": "none",
    "collapsed": true,
    "deletable": true,
    "new_sheet": false,
    "run_control": {
     "read_only": false
    },
    "slideshow": {
     "slide_type": "slide"
    }
   },
   "outputs": [],
   "source": [
    "# We set a specific seed to get the same inputs each time\n",
    "random.seed(53727895348829)"
   ]
  },
  {
   "cell_type": "code",
   "execution_count": 12,
   "metadata": {
    "button": false,
    "collapsed": true,
    "deletable": true,
    "new_sheet": false,
    "run_control": {
     "read_only": false
    },
    "slideshow": {
     "slide_type": "subslide"
    }
   },
   "outputs": [],
   "source": [
    "def fuzzer(max_length = 100, char_start = 32, char_range = 32):\n",
    "    \"\"\"A string of up to `max_length` characters \n",
    "       in the range [`char_start`, `char_start` + `char_range`]\"\"\"\n",
    "    string_length = random.randrange(0, max_length)\n",
    "    out = \"\"\n",
    "    for i in range(0, string_length):\n",
    "        out += chr(random.randrange(char_start, char_start + char_range))\n",
    "    return out"
   ]
  },
  {
   "cell_type": "markdown",
   "metadata": {
    "button": false,
    "deletable": true,
    "new_sheet": false,
    "run_control": {
     "read_only": false
    },
    "slideshow": {
     "slide_type": "slide"
    }
   },
   "source": [
    "With its default arguments, the `fuzzer()` function returns a string of random characters:"
   ]
  },
  {
   "cell_type": "code",
   "execution_count": 13,
   "metadata": {
    "button": false,
    "collapsed": false,
    "deletable": true,
    "new_sheet": false,
    "run_control": {
     "read_only": false
    },
    "slideshow": {
     "slide_type": "subslide"
    }
   },
   "outputs": [
    {
     "data": {
      "text/plain": [
       "'PHACT\\\\SFTIPSJEVTP\\\\QC]]HXK@]VUZW]TUYKRVG]O^JAWTIMB_XNERCQA[UUUWZWGMOSY[OICOYDO_MJO[\\\\RP_SGN\\\\NVHABXXLHCMK^NIND]NMMYNTEZVANF[S^^^QCQJY[_ISSSLOKEJDDUGYM[X\\\\HMOWLWGR]QLG[N\\\\O^_GA]AFF^N\\\\CE\\\\CWUTCWQXYBQEOVAQCLNAFSQG@@JIUAMKVGJZO@NRO@TPMZUDJOEQLQRQFV]TEXMRFU\\\\OAHOE@XQCV]XEHY@XPYJH@LO_Y@TZXSGK_LCF@Y@^VWKUTO]TDI^NACQP_LJWZIEZ\\\\R\\\\@FOGKYCS]E^MIB[S\\\\QT]A[XEOFZ[V\\\\LGGJ^DU_WAS^JFY\\\\_[GVHKECDGD_VQS[T@BLASJCQGQF[^OTBSA@ZYJYI]OHNHLNEGB_KBZO[TCGGUYWMIH^TWVVO[G]MH\\\\T_FT_FBFA]OMD]A\\\\FH_J_O\\\\OMHPZOKMYKJG^PG_Y_F[AWSP@^^P\\\\K_G\\\\UICMO[@]^N_GMK_NKFE_[Q@RPX@UHBBU_NBZWXHRA_OE^EV[HNYQ@]]PKJVUCQNEY]]S[ZU]@ZRQGXCGYCERIHJL_SGTNWRM]REHEPGTQKGKW'"
      ]
     },
     "execution_count": 13,
     "metadata": {},
     "output_type": "execute_result"
    }
   ],
   "source": [
    "fuzzer(1000, 64, 32)"
   ]
  },
  {
   "cell_type": "markdown",
   "metadata": {
    "button": false,
    "deletable": true,
    "new_sheet": false,
    "run_control": {
     "read_only": false
    },
    "slideshow": {
     "slide_type": "slide"
    }
   },
   "source": [
    "We can also have `fuzzer()` produce a series of upercase letters.  We use `ord(c)` to return the ASCII code of the character `c`."
   ]
  },
  {
   "cell_type": "code",
   "execution_count": 14,
   "metadata": {
    "button": false,
    "collapsed": false,
    "deletable": true,
    "new_sheet": false,
    "run_control": {
     "read_only": false
    },
    "slideshow": {
     "slide_type": "subslide"
    }
   },
   "outputs": [
    {
     "data": {
      "text/plain": [
       "'NCSJGSPARSBYUGBJFMMZPRMGEMBWHYBNBLODXQUKEZWUINIXTFSKZAOLXNOURBUJWBXHXZBNYHNGHGYIUYBNUSSFJGY'"
      ]
     },
     "execution_count": 14,
     "metadata": {},
     "output_type": "execute_result"
    }
   ],
   "source": [
    "fuzzer(100, ord('A'), 26)"
   ]
  },
  {
   "cell_type": "markdown",
   "metadata": {
    "button": false,
    "deletable": true,
    "new_sheet": false,
    "run_control": {
     "read_only": false
    },
    "slideshow": {
     "slide_type": "subslide"
    }
   },
   "source": [
    "We can also have it produce a series of digits:"
   ]
  },
  {
   "cell_type": "code",
   "execution_count": 15,
   "metadata": {
    "button": false,
    "collapsed": false,
    "deletable": true,
    "new_sheet": false,
    "run_control": {
     "read_only": false
    },
    "slideshow": {
     "slide_type": "subslide"
    }
   },
   "outputs": [
    {
     "data": {
      "text/plain": [
       "'96735410455640'"
      ]
     },
     "execution_count": 15,
     "metadata": {},
     "output_type": "execute_result"
    }
   ],
   "source": [
    "fuzzer(100, ord('0'), 10)"
   ]
  },
  {
   "cell_type": "markdown",
   "metadata": {
    "button": false,
    "deletable": true,
    "new_sheet": false,
    "run_control": {
     "read_only": false
    },
    "slideshow": {
     "slide_type": "slide"
    }
   },
   "source": [
    "My personal favorite, though, is still simply to have `fuzzer()` produce a long list of garbage..."
   ]
  },
  {
   "cell_type": "code",
   "execution_count": 16,
   "metadata": {
    "button": false,
    "collapsed": false,
    "deletable": true,
    "new_sheet": false,
    "run_control": {
     "read_only": false
    },
    "slideshow": {
     "slide_type": "subslide"
    }
   },
   "outputs": [
    {
     "data": {
      "text/plain": [
       "'\\x7f\\\\mP89i^s::?qac{2b{[@H;_Ub Yvw%^5_KMux|kJP\\\\Lq\"*X\"Q?+g9*/Ttt8@e/RvCP5BIGnU4m;|yD}-GnxJ(ALufq#1h1VXxMCX\\x7fUM+\"^M6:y23>:WMKhwau;Dn<V%Qz]Ln:`QN s`NTS2#6^j$,~3Mpm$Ot{C5o&<t:7n|ml}XE-U%j51\"Vbl;>TK$Dv+%C\"JfUa)NETSQtmM+f^@(G32+(vB`o@W|RU6a$21xcqD&\\\\DlVz|ej!\\x7f-1.\\\\Iz+o6J:tncz\\x7fw2-LR4_(TQQ`8BM>kUMcC\\x7f<V;ZP[|ERHIC\"(\\'r@yVO!HwsN_TAMs8oK!}Zcly|$`qk[iGzR }o~i@?btW4%<&?KP\"2F0+6pq2d1\\x7f:xd>CU[U?Wb)o&U0O{,zp~9DfH/.\\x7f/amvvJr0NT@H_>[w5Gkgk*kl.;u}bN/7</k&!u5XZ&A3w\"W_{*JbPyP6=a[AP>(8%B]&r\\'x{>%Guodp8fD1JU*+~_SXFm}5Lo<X&?}ho.ok:2=FXblz:|~1lMd4F.R&i,TE^-cy%3D!}CHudEO5TUb/_7!)W~a=ng1ZbMrn|@ jK>#f;%j$!6[, Pm[JUa14KHeO7ie}g7e,$vHj6A`dim%AV|yChKC;AB<%dB,OB$ME_X|lI?Hx5o=cn4yAq)Ge/BC:'"
      ]
     },
     "execution_count": 16,
     "metadata": {},
     "output_type": "execute_result"
    }
   ],
   "source": [
    "fuzzer(2000, 32, 96)"
   ]
  },
  {
   "cell_type": "markdown",
   "metadata": {
    "button": false,
    "deletable": true,
    "new_sheet": false,
    "run_control": {
     "read_only": false
    },
    "slideshow": {
     "slide_type": "subslide"
    }
   },
   "source": [
    "... and to feed this into some function or program."
   ]
  },
  {
   "cell_type": "code",
   "execution_count": 17,
   "metadata": {
    "button": false,
    "collapsed": false,
    "deletable": true,
    "new_sheet": false,
    "run_control": {
     "read_only": false
    },
    "slideshow": {
     "slide_type": "subslide"
    }
   },
   "outputs": [
    {
     "name": "stdout",
     "output_type": "stream",
     "text": [
      "418655427319022234162993347851489442135051633291608613469536946573\n"
     ]
    }
   ],
   "source": [
    "if __name__ == \"__main__\":\n",
    "    x = int(fuzzer(100, ord('0'), 10))\n",
    "    print(x)"
   ]
  },
  {
   "cell_type": "code",
   "execution_count": null,
   "metadata": {
    "button": false,
    "collapsed": true,
    "deletable": true,
    "new_sheet": false,
    "run_control": {
     "read_only": false
    }
   },
   "outputs": [],
   "source": []
  }
 ],
 "metadata": {
  "kernelspec": {
   "display_name": "Python 3",
   "language": "python",
   "name": "python3"
  },
  "language_info": {
   "codemirror_mode": {
    "name": "ipython",
    "version": 3
   },
   "file_extension": ".py",
   "mimetype": "text/x-python",
   "name": "python",
   "nbconvert_exporter": "python",
   "pygments_lexer": "ipython3",
   "version": "3.5.0"
  }
 },
 "nbformat": 4,
 "nbformat_minor": 2
}
