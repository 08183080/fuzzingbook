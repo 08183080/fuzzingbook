{
 "cells": [
  {
   "cell_type": "markdown",
   "metadata": {},
   "source": [
    "# Fuzzing 101\n",
    "\n",
    "We'll start with a simple fuzzer.  The idea is to produce random characters, adding them to a buffer string variable (`out`), and finally returning the string.\n",
    "\n"
   ]
  },
  {
   "cell_type": "markdown",
   "metadata": {},
   "source": [
    "## A Simple Fuzzer"
   ]
  },
  {
   "cell_type": "markdown",
   "metadata": {
    "button": false,
    "new_sheet": false,
    "run_control": {
     "read_only": false
    },
    "slideshow": {
     "slide_type": "slide"
    }
   },
   "source": [
    "This implementation uses the following Python features and functions:\n",
    "\n",
    "* `random.randrange(start, end)` - return a random number [`start`, `end`]\n",
    "* `range(start, end)` - create a list with integers from `start` to `end`.  Typically used in iterations.\n",
    "* `for elem in list: body` executes `body` in a loop with `elem` taking each value from `list`.\n",
    "* `for i in range(start, end): body` executes `body` in a loop with `i` from `start` to `end` - 1.\n",
    "* `chr(n)` - return a character with ASCII code `n`"
   ]
  },
  {
   "cell_type": "code",
   "execution_count": 1,
   "metadata": {
    "button": false,
    "new_sheet": false,
    "run_control": {
     "read_only": false
    },
    "slideshow": {
     "slide_type": "skip"
    }
   },
   "outputs": [],
   "source": [
    "import gstbook"
   ]
  },
  {
   "cell_type": "code",
   "execution_count": 2,
   "metadata": {
    "button": false,
    "new_sheet": false,
    "run_control": {
     "read_only": false
    },
    "slideshow": {
     "slide_type": "skip"
    }
   },
   "outputs": [],
   "source": [
    "import random"
   ]
  },
  {
   "cell_type": "code",
   "execution_count": 3,
   "metadata": {
    "button": "none",
    "new_sheet": false,
    "run_control": {
     "read_only": false
    },
    "slideshow": {
     "slide_type": "skip"
    }
   },
   "outputs": [],
   "source": [
    "# We set a specific seed to get the same inputs each time\n",
    "random.seed(53727895348829)"
   ]
  },
  {
   "cell_type": "code",
   "execution_count": 4,
   "metadata": {
    "button": false,
    "code_folding": [],
    "new_sheet": false,
    "run_control": {
     "read_only": false
    },
    "slideshow": {
     "slide_type": "subslide"
    }
   },
   "outputs": [],
   "source": [
    "def fuzzer(max_length=100, char_start=32, char_range=32):\n",
    "    \"\"\"A string of up to `max_length` characters \n",
    "       in the range [`char_start`, `char_start` + `char_range`]\"\"\"\n",
    "    string_length = random.randrange(0, max_length)\n",
    "    out = \"\"\n",
    "    for i in range(0, string_length):\n",
    "        out += chr(random.randrange(char_start, char_start + char_range))\n",
    "    return out"
   ]
  },
  {
   "cell_type": "markdown",
   "metadata": {
    "button": false,
    "new_sheet": false,
    "run_control": {
     "read_only": false
    },
    "slideshow": {
     "slide_type": "slide"
    }
   },
   "source": [
    "With its default arguments, the `fuzzer()` function returns a string of random characters:"
   ]
  },
  {
   "cell_type": "code",
   "execution_count": 10,
   "metadata": {
    "button": false,
    "new_sheet": false,
    "run_control": {
     "read_only": false
    },
    "scrolled": true,
    "slideshow": {
     "slide_type": "subslide"
    }
   },
   "outputs": [
    {
     "data": {
      "text/plain": [
       "'VNCETHCT_DLORCXT[I@F[[QIFTU]YSVQXH]RV^BPFLW^M@IS[DCVHCPXPU]NL@DIQWIZ]BQUL^LOXQRCYCE^WC^PCJRUAUNXG\\\\MAKTBGFRI_MRZ]NZJLABPNZC@FULS__]KMBJKFYXMH@XB]XGXEEFHQ^VNVSLLA_HF]_^W]T@RJO^N]UQRZ^[]JLUBXBHJG[_D@NZ@UA@KY@IQLP\\\\YVJES_V^LZMTX@ZJGCBFXZVNS^@HITIQMEZHIGKGQWDFZ[HL_AENNDK[]LLK[I@GWH^WH]IRMJGGAJJZCGOSQRLZVF\\\\RVYVHBFZGOU_O]GHTY\\\\\\\\MDYZGYIHL^UEYERY\\\\@HVOJGX]]MPGSWTHBZDWXOIFMEKTKNE]CX[J]WOGGI[NDYGL_XDLEC@JRJPOWMOMXZPOAO_@GICMI^VADUMHXHP\\\\Y^SUJRXCPQ@HTQBXEAV_YLH_EFKM@L@AGVFAIZZY[\\\\LXO@]DDUDIRQYLI^YL\\\\TP^VL^XE]P^BA_@E^LWXG\\\\XVJGE_P\\\\DJW][W\\\\JJGV[YWCE^]H]QKX_UZ^NQAGDFS[RVAKH\\\\@^_QIDM@BDZMPTHQB_LLURC]SASN\\\\[NIOUFYMLCE[L^^GTJMST[SQWUR\\\\UHIY_[QOT'"
      ]
     },
     "execution_count": 10,
     "metadata": {},
     "output_type": "execute_result"
    }
   ],
   "source": [
    "fuzzer(1000, 64, 32)"
   ]
  },
  {
   "cell_type": "markdown",
   "metadata": {
    "button": false,
    "new_sheet": false,
    "run_control": {
     "read_only": false
    },
    "slideshow": {
     "slide_type": "slide"
    }
   },
   "source": [
    "## Fuzzing Alphabets\n",
    "\n",
    "We can also have `fuzzer()` produce a series of upercase letters.  We use `ord(c)` to return the ASCII code of the character `c`."
   ]
  },
  {
   "cell_type": "code",
   "execution_count": 6,
   "metadata": {
    "button": false,
    "new_sheet": false,
    "run_control": {
     "read_only": false
    },
    "slideshow": {
     "slide_type": "subslide"
    }
   },
   "outputs": [
    {
     "data": {
      "text/plain": [
       "'NCSJGSPARSBYUGBJFMMZPRMGEMBWHYBNBLODXQUKEZWUINIXTFSKZAOLXNOURBUJWBXHXZBNYHNGHGYIUYBNUSSFJGY'"
      ]
     },
     "execution_count": 6,
     "metadata": {},
     "output_type": "execute_result"
    }
   ],
   "source": [
    "fuzzer(100, ord('A'), 26)"
   ]
  },
  {
   "cell_type": "markdown",
   "metadata": {
    "button": false,
    "new_sheet": false,
    "run_control": {
     "read_only": false
    },
    "slideshow": {
     "slide_type": "subslide"
    }
   },
   "source": [
    "We can also have it produce a series of digits:"
   ]
  },
  {
   "cell_type": "code",
   "execution_count": 7,
   "metadata": {
    "button": false,
    "new_sheet": false,
    "run_control": {
     "read_only": false
    },
    "slideshow": {
     "slide_type": "subslide"
    }
   },
   "outputs": [
    {
     "data": {
      "text/plain": [
       "'96735410455640'"
      ]
     },
     "execution_count": 7,
     "metadata": {},
     "output_type": "execute_result"
    }
   ],
   "source": [
    "fuzzer(100, ord('0'), 10)"
   ]
  },
  {
   "cell_type": "markdown",
   "metadata": {
    "button": false,
    "new_sheet": false,
    "run_control": {
     "read_only": false
    },
    "slideshow": {
     "slide_type": "slide"
    }
   },
   "source": [
    "My personal favorite, though, is still simply to have `fuzzer()` produce a long list of garbage..."
   ]
  },
  {
   "cell_type": "code",
   "execution_count": 8,
   "metadata": {
    "button": false,
    "new_sheet": false,
    "run_control": {
     "read_only": false
    },
    "slideshow": {
     "slide_type": "subslide"
    }
   },
   "outputs": [
    {
     "data": {
      "text/plain": [
       "'\\x7f\\\\mP89i^s::?qac{2b{[@H;_Ub Yvw%^5_KMux|kJP\\\\Lq\"*X\"Q?+g9*/Ttt8@e/RvCP5BIGnU4m;|yD}-GnxJ(ALufq#1h1VXxMCX\\x7fUM+\"^M6:y23>:WMKhwau;Dn<V%Qz]Ln:`QN s`NTS2#6^j$,~3Mpm$Ot{C5o&<t:7n|ml}XE-U%j51\"Vbl;>TK$Dv+%C\"JfUa)NETSQtmM+f^@(G32+(vB`o@W|RU6a$21xcqD&\\\\DlVz|ej!\\x7f-1.\\\\Iz+o6J:tncz\\x7fw2-LR4_(TQQ`8BM>kUMcC\\x7f<V;ZP[|ERHIC\"(\\'r@yVO!HwsN_TAMs8oK!}Zcly|$`qk[iGzR }o~i@?btW4%<&?KP\"2F0+6pq2d1\\x7f:xd>CU[U?Wb)o&U0O{,zp~9DfH/.\\x7f/amvvJr0NT@H_>[w5Gkgk*kl.;u}bN/7</k&!u5XZ&A3w\"W_{*JbPyP6=a[AP>(8%B]&r\\'x{>%Guodp8fD1JU*+~_SXFm}5Lo<X&?}ho.ok:2=FXblz:|~1lMd4F.R&i,TE^-cy%3D!}CHudEO5TUb/_7!)W~a=ng1ZbMrn|@ jK>#f;%j$!6[, Pm[JUa14KHeO7ie}g7e,$vHj6A`dim%AV|yChKC;AB<%dB,OB$ME_X|lI?Hx5o=cn4yAq)Ge/BC:'"
      ]
     },
     "execution_count": 8,
     "metadata": {},
     "output_type": "execute_result"
    }
   ],
   "source": [
    "fuzzer(2000, 32, 96)"
   ]
  },
  {
   "cell_type": "markdown",
   "metadata": {
    "button": false,
    "new_sheet": false,
    "run_control": {
     "read_only": false
    },
    "slideshow": {
     "slide_type": "subslide"
    }
   },
   "source": [
    "... and to feed this into some function or program."
   ]
  },
  {
   "cell_type": "code",
   "execution_count": 9,
   "metadata": {
    "button": false,
    "new_sheet": false,
    "run_control": {
     "read_only": false
    },
    "slideshow": {
     "slide_type": "subslide"
    }
   },
   "outputs": [
    {
     "name": "stdout",
     "output_type": "stream",
     "text": [
      "418655427319022234162993347851489442135051633291608613469536946573\n"
     ]
    }
   ],
   "source": [
    "if __name__ == \"__main__\":\n",
    "    x = int(fuzzer(100, ord('0'), 10))\n",
    "    print(x)"
   ]
  },
  {
   "cell_type": "markdown",
   "metadata": {
    "button": false,
    "collapsed": true,
    "new_sheet": false,
    "run_control": {
     "read_only": false
    },
    "slideshow": {
     "slide_type": "slide"
    }
   },
   "source": [
    "## Background\n",
    "\n",
    "Here's a citation, just for the fun: \\cite{purdom1972}"
   ]
  },
  {
   "cell_type": "code",
   "execution_count": null,
   "metadata": {},
   "outputs": [],
   "source": []
  }
 ],
 "metadata": {
  "celltoolbar": "Slideshow",
  "ipub": {
   "bibliography": "gstbook.bib",
   "listcode": false,
   "listfigures": false,
   "listtables": false,
   "titlepage": {
    "author": "Andreas Zeller",
    "subtitle": "Generating Software Tests",
    "title": "Fuzzing 101"
   },
   "toc": true
  },
  "kernelspec": {
   "display_name": "Python 3",
   "language": "python",
   "name": "python3"
  },
  "language_info": {
   "codemirror_mode": {
    "name": "ipython",
    "version": 3
   },
   "file_extension": ".py",
   "mimetype": "text/x-python",
   "name": "python",
   "nbconvert_exporter": "python",
   "pygments_lexer": "ipython3",
   "version": "3.6.4"
  },
  "toc": {
   "base_numbering": 1,
   "nav_menu": {},
   "number_sections": true,
   "sideBar": true,
   "skip_h1_title": true,
   "title_cell": "",
   "title_sidebar": "Contents",
   "toc_cell": false,
   "toc_position": {},
   "toc_section_display": true,
   "toc_window_display": true
  }
 },
 "nbformat": 4,
 "nbformat_minor": 2
}
