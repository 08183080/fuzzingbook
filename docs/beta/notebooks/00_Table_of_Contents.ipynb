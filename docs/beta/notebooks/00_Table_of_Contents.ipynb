{
 "cells": [
  {
   "cell_type": "markdown",
   "metadata": {
    "button": false,
    "deletable": true,
    "new_sheet": false,
    "run_control": {
     "read_only": false
    }
   },
   "source": [
    "# Generating Software Tests"
   ]
  },
  {
   "cell_type": "markdown",
   "metadata": {
    "button": false,
    "deletable": true,
    "new_sheet": false,
    "run_control": {
     "read_only": false
    }
   },
   "source": [
    "## Table of Contents\n",
    "\n",
    "1. [Introduction to Software Testing](Intro_Testing.ipynb)\n",
    "1. [Fuzzing: Breaking Things with Random Inputs](Fuzzer.ipynb)\n",
    "1. [Getting Coverage](Coverage.ipynb)\n",
    "1. [Mutation-Based Fuzzing](MutationFuzzer.ipynb)\n",
    "1. [Fuzzing with Grammars](Grammars.ipynb)\n",
    "1. [Efficient Grammar Fuzzing](GrammarFuzzer.ipynb)\n",
    "1. [Grammar Coverage](GrammarCoverageFuzzer.ipynb)\n",
    "1. [Testing Configurations](ConfigurationFuzzer.ipynb)\n",
    "1. [Parsing and Recombining Inputs](Parser.ipynb)\n",
    "1. [Probabilistic Grammar Fuzzing](ProbabilisticGrammarFuzzer.ipynb)\n",
    "1. [Reducing Failure-Inducing Inputs](Reducer.ipynb)\n",
    "1. [Mining Input Grammars](GrammarMiner.ipynb)\n"
   ]
  },
  {
   "cell_type": "markdown",
   "metadata": {
    "button": false,
    "deletable": true,
    "new_sheet": false,
    "run_control": {
     "read_only": false
    }
   },
   "source": [
    "## Appendices\n",
    "\n",
    "* [Error Handling](ExpectError.ipynb)\n",
    "* [Timer](Timer.ipynb)\n"
   ]
  }
 ],
 "metadata": {
  "kernelspec": {
   "display_name": "Python 3",
   "language": "python",
   "name": "python3"
  },
  "language_info": {
   "codemirror_mode": {
    "name": "ipython",
    "version": 3
   },
   "file_extension": ".py",
   "mimetype": "text/x-python",
   "name": "python",
   "nbconvert_exporter": "python",
   "pygments_lexer": "ipython3",
   "version": "3.5.0"
  }
 },
 "nbformat": 4,
 "nbformat_minor": 2
}
