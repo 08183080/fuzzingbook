{
 "cells": [
  {
   "cell_type": "markdown",
   "metadata": {},
   "source": [
    "# Generating Software Tests"
   ]
  },
  {
   "cell_type": "markdown",
   "metadata": {},
   "source": [
    "## Table of Contents\n",
    "\n",
    "\n",
    "### [Part I: Whetting Your Appetite](01_Intro.ipynb)\n",
    "\n",
    "* [Introduction to Software Testing](Intro_Testing.ipynb)\n",
    "\n",
    "### [Part II: Lexical Fuzzing](02_Lexical_Fuzzing.ipynb)\n",
    "\n",
    "* [Fuzzing: Breaking Things with Random Inputs](Fuzzer.ipynb)\n",
    "* [Getting Coverage](Coverage.ipynb)\n",
    "* [Mutation-Based Fuzzing](MutationFuzzer.ipynb)\n",
    "* [Search-Based Fuzzing](SearchBasedFuzzer.ipynb)\n",
    "\n",
    "### [Part III: Syntactical Fuzzing](03_Syntactical_Fuzzing.ipynb)\n",
    "\n",
    "* [Fuzzing with Grammars](Grammars.ipynb)\n",
    "* [Efficient Grammar Fuzzing](GrammarFuzzer.ipynb)\n",
    "* [Grammar Coverage](GrammarCoverageFuzzer.ipynb)\n",
    "* [Probabilistic Grammar Fuzzing](ProbabilisticGrammarFuzzer.ipynb)\n",
    "* [Fuzzing with Generators](GeneratorGrammarFuzzer.ipynb)\n",
    "* [Parsing and Recombining Inputs](Parser.ipynb)\n",
    "* [Reducing Failure-Inducing Inputs](Reducer.ipynb)\n",
    "\n",
    "### [Part IV: Semantical Fuzzing](04_Semantical_Fuzzing.ipynb)\n",
    "\n",
    "* [Mining Input Grammars](GrammarMiner.ipynb)\n",
    "* [Tracking Information Flow](InformationFlow.ipynb)\n",
    "\n",
    "### [Part V: Domain-Specific Fuzzing](05_Domain-Specific_Fuzzing.ipynb)\n",
    "\n",
    "* [Testing Configurations](ConfigurationFuzzer.ipynb)\n",
    "* [Fuzzing APIs](APIFuzzer.ipynb)\n",
    "* [Carving Unit Tests](Carver.ipynb)\n",
    "* [Testing Web Applications](WebFuzzer.ipynb)\n",
    "* [Testing Graphical User Interfaces](GUIFuzzer.ipynb)\n",
    "\n",
    "### [Part VI: Managing Fuzzing](06_Managing_Fuzzing.ipynb)\n",
    "\n",
    "* [Practical Steps with FuzzManager](FuzzingInTheLarge.ipynb)\n"
   ]
  },
  {
   "cell_type": "markdown",
   "metadata": {},
   "source": [
    "## Appendices\n",
    "\n",
    "* [Error Handling](ExpectError.ipynb)\n",
    "* [Timer](Timer.ipynb)\n",
    "* [Railroad Diagrams](RailroadDiagrams.ipynb)\n"
   ]
  }
 ],
 "metadata": {
  "kernelspec": {
   "display_name": "Python 3",
   "language": "python",
   "name": "python3"
  },
  "language_info": {
   "codemirror_mode": {
    "name": "ipython",
    "version": 3
   },
   "file_extension": ".py",
   "mimetype": "text/x-python",
   "name": "python",
   "nbconvert_exporter": "python",
   "pygments_lexer": "ipython3",
   "version": "3.6.6"
  },
  "toc": {
   "base_numbering": 1,
   "nav_menu": {},
   "number_sections": false,
   "sideBar": false,
   "skip_h1_title": false,
   "title_cell": "",
   "title_sidebar": "Contents",
   "toc_cell": false,
   "toc_position": {},
   "toc_section_display": false,
   "toc_window_display": false
  }
 },
 "nbformat": 4,
 "nbformat_minor": 2
}