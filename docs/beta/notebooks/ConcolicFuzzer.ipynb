{
 "cells": [
  {
   "cell_type": "markdown",
   "metadata": {
    "slideshow": {
     "slide_type": "slide"
    }
   },
   "source": [
    "# Concolic Fuzzing\n",
    "\n",
    "We have previously seen how one can use dynamic taints to produce more intelligent test cases than simply looking for program crashes. We have also seen how one can use the taints to update the grammar, and hence focus more on the dangerous methods. "
   ]
  },
  {
   "cell_type": "markdown",
   "metadata": {
    "slideshow": {
     "slide_type": "fragment"
    }
   },
   "source": [
    "While taints are helpful, uninterpreted strings is only one of the attack vectors. Can we say anything more about the properties of variables at any point in the execution? For example, can we say for sure that a function will always receive the buffers with the correct length? Concolic execution offers a solution."
   ]
  },
  {
   "cell_type": "markdown",
   "metadata": {
    "slideshow": {
     "slide_type": "subslide"
    }
   },
   "source": [
    "The idea of _concolic execution_ over a function is as follows: We start with a sample input for the function, and execute the function under trace. At each point the execution passes through a conditional, we save the conditional encountered in the form of relations between symbolic variables.\n",
    "(A _symbolic variable_ can be thought of as a sort of placeholder for the real variable, sort of like the x in solving for x in Algebra. The symbolic variables can be used to specify relations without actually solving them.)"
   ]
  },
  {
   "cell_type": "markdown",
   "metadata": {
    "slideshow": {
     "slide_type": "fragment"
    }
   },
   "source": [
    "With concolic execution, one can collect the constraints that an execution path encounters, and use it to answer questions about the program behavior at any point we prefer along the program execution path. We can further use concolic execution to enhance fuzzing."
   ]
  },
  {
   "cell_type": "markdown",
   "metadata": {
    "slideshow": {
     "slide_type": "subslide"
    }
   },
   "source": [
    "In this chapter, we explore in depth how to execute a Python function concolically, and how concolic execution can be used to enhance fuzzing."
   ]
  },
  {
   "cell_type": "markdown",
   "metadata": {
    "button": false,
    "new_sheet": false,
    "run_control": {
     "read_only": false
    },
    "slideshow": {
     "slide_type": "subslide"
    }
   },
   "source": [
    "**Prerequisites**\n",
    "\n",
    "* You should have read the [chapter on coverage](Coverage.ipynb).\n",
    "* You should have read the [chapter on information flow](InformationFlow.ipynb).\n",
    "* A familiarity with the basic idea of [SMT solvers](https://en.wikipedia.org/wiki/Satisfiability_modulo_theories) would be useful."
   ]
  },
  {
   "cell_type": "markdown",
   "metadata": {
    "slideshow": {
     "slide_type": "fragment"
    }
   },
   "source": [
    "We first set up our infrastructure so that we can make use of previously defined functions."
   ]
  },
  {
   "cell_type": "code",
   "execution_count": 1,
   "metadata": {
    "execution": {
     "iopub.execute_input": "2022-01-02T15:43:20.697057Z",
     "iopub.status.busy": "2022-01-02T15:43:20.695725Z",
     "iopub.status.idle": "2022-01-02T15:43:20.814632Z",
     "shell.execute_reply": "2022-01-02T15:43:20.815018Z"
    },
    "slideshow": {
     "slide_type": "skip"
    }
   },
   "outputs": [],
   "source": [
    "import bookutils"
   ]
  },
  {
   "cell_type": "code",
   "execution_count": 2,
   "metadata": {
    "execution": {
     "iopub.execute_input": "2022-01-02T15:43:20.818683Z",
     "iopub.status.busy": "2022-01-02T15:43:20.818121Z",
     "iopub.status.idle": "2022-01-02T15:43:20.819922Z",
     "shell.execute_reply": "2022-01-02T15:43:20.820331Z"
    },
    "slideshow": {
     "slide_type": "skip"
    }
   },
   "outputs": [],
   "source": [
    "from typing import List, Callable, Dict, Tuple"
   ]
  },
  {
   "cell_type": "markdown",
   "metadata": {
    "slideshow": {
     "slide_type": "skip"
    }
   },
   "source": [
    "## Synopsis\n",
    "<!-- Automatically generated. Do not edit. -->\n",
    "\n",
    "To [use the code provided in this chapter](Importing.ipynb), write\n",
    "\n",
    "```python\n",
    ">>> from fuzzingbook.ConcolicFuzzer import <identifier>\n",
    "```\n",
    "\n",
    "and then make use of the following features.\n",
    "\n",
    "\n",
    "This chapter defines two main classes: `SimpleConcolicFuzzer` and `ConcolicGrammarFuzzer`. The `SimpleConcolicFuzzer` first uses a sample input to collect predicates encountered. The fuzzer then negates random predicates to generate new input constraints. These, when solved, produce inputs that explore paths that are close to the original path.\n",
    "\n",
    "### ConcolicTracer\n",
    "\n",
    "At the heart of both fuzzers lies the concept of a _concolic tracer_, capturing symbolic variables and path conditions as a program gets executed.\n",
    "\n",
    "`ConcolicTracer` is used in a `with` block; the syntax `tracer[function]` executes `function` within the `tracer` while capturing conditions. Here is an example for the `cgi_decode()` function:\n",
    "\n",
    "```python\n",
    ">>> with ConcolicTracer() as _:\n",
    ">>>     _[cgi_decode]('a%20d')\n",
    "```\n",
    "Once executed, we can retrieve the symbolic variables and associated path constraints in the `context` attribute. This is a pair of two elements:\n",
    "\n",
    "```python\n",
    ">>> declarations, path = _.context\n",
    "```\n",
    "In the context, `declarations` is a mapping of symbolic variables to _types_:\n",
    "\n",
    "```python\n",
    ">>> declarations\n",
    "{'cgi_decode_s_str_1': 'String'}\n",
    "```\n",
    "whereas `path` is a list of constraints encountered during execution:\n",
    "\n",
    "```python\n",
    ">>> path\n",
    "[Not(str.substr(cgi_decode_s_str_1, 0, 1) == \"+\"),\n",
    " Not(str.substr(cgi_decode_s_str_1, 0, 1) == \"%\"),\n",
    " Not(str.substr(cgi_decode_s_str_1, 1, 1) == \"+\"),\n",
    " str.substr(cgi_decode_s_str_1, 1, 1) == \"%\",\n",
    " Not(str.substr(cgi_decode_s_str_1, 2, 1) == \"0\"),\n",
    " Not(str.substr(cgi_decode_s_str_1, 2, 1) == \"1\"),\n",
    " str.substr(cgi_decode_s_str_1, 2, 1) == \"2\",\n",
    " str.substr(cgi_decode_s_str_1, 3, 1) == \"0\",\n",
    " Not(str.substr(cgi_decode_s_str_1, 4, 1) == \"+\"),\n",
    " Not(str.substr(cgi_decode_s_str_1, 4, 1) == \"%\")]\n",
    "```\n",
    "We can solve these constraints to obtain a value for the function parameters that follow the same path as the original (traced) invocation:\n",
    "\n",
    "```python\n",
    ">>> _.zeval()\n",
    "('sat', {'s': ('\\\\x00%20', 'String')})\n",
    "```\n",
    "_Negating_ some of these constraints will yield different paths taken, and thus greater code coverage. This is what our concolic fuzzers do.\n",
    "\n",
    "```python\n",
    ">>> from ClassDiagram import display_class_hierarchy\n",
    ">>> display_class_hierarchy(ConcolicTracer)\n",
    "```\n",
    "![](PICS/ConcolicFuzzer-synopsis-1.svg)\n",
    "\n",
    "### SimpleConcolicFuzzer\n",
    "\n",
    "The constraints obtained from `ConcolicTracer` are added to the concolic fuzzer as follows:\n",
    "\n",
    "```python\n",
    ">>> scf = SimpleConcolicFuzzer()\n",
    ">>> scf.add_trace(_, 'a%20d')\n",
    "```\n",
    "The concolic fuzzer then uses the constraints added to guide its fuzzing as follows:\n",
    "\n",
    "```python\n",
    ">>> scf = SimpleConcolicFuzzer()\n",
    ">>> for i in range(20):\n",
    ">>>     v = scf.fuzz()\n",
    ">>>     if v is None:\n",
    ">>>         break\n",
    ">>>     print(repr(v))\n",
    ">>>     with ExpectError(print_traceback=False):\n",
    ">>>         with ConcolicTracer() as _:\n",
    ">>>             _[cgi_decode](v)\n",
    ">>>     scf.add_trace(_, v)\n",
    "' '\n",
    "'+\\\\x00'\n",
    "'++\\\\x00'\n",
    "'+\\\\x00+\\\\x00'\n",
    "'+\\\\x00\\\\x00+\\\\x00'\n",
    "'+\\\\x00\\\\x00\\\\x00%\\\\x00'\n",
    "\n",
    "ValueError: Invalid encoding (expected)\n",
    "\n",
    "'+'\n",
    "'+'\n",
    "'+\\\\x00\\\\x00\\\\x00\\\\x00\\\\x00%\\\\x00'\n",
    "\n",
    "ValueError: Invalid encoding (expected)\n",
    "\n",
    "'+\\\\x00\\\\x00\\\\x00\\\\x00\\\\x00\\\\x00\\\\x00\\\\x00\\\\x00%\\\\x00'\n",
    "\n",
    "ValueError: Invalid encoding (expected)\n",
    "\n",
    "'+\\\\x80@@!+%\\\\x00'\n",
    "\n",
    "ValueError: Invalid encoding (expected)\n",
    "\n",
    "'+\\\\x03@\\\\x04\\\\x01++\\\\x00'\n",
    "'+\\\\x00\\\\x00\\\\x00\\\\x00%\\\\x00'\n",
    "'++\\\\x00\\\\x00+\\\\x00'\n",
    "\n",
    "ValueError: Invalid encoding (expected)\n",
    "\n",
    "'++'\n",
    "'+\\\\x00\\\\x00\\\\x00\\\\x00\\\\x00\\\\x00+\\\\x00'\n",
    "'++\\\\x00\\\\x00\\\\x00%\\\\x00'\n",
    "\n",
    "ValueError: Invalid encoding (expected)\n",
    "\n",
    "'+\\\\x00\\\\x00\\\\x00\\\\x00%\\\\x00'\n",
    "\n",
    "ValueError: Invalid encoding (expected)\n",
    "\n",
    "'++\\\\x00\\\\x00\\\\x00\\\\x00\\\\x00\\\\x00%\\\\x00'\n",
    "\n",
    "ValueError: Invalid encoding (expected)\n",
    "\n",
    "'+\\\\x00\\\\x00\\\\x00\\\\x00\\\\x00\\\\x00\\\\x00+\\\\x00'\n",
    "\n",
    "```\n",
    "We see how the additional inputs generated explore additional paths.\n",
    "\n",
    "```python\n",
    ">>> display_class_hierarchy(SimpleConcolicFuzzer)\n",
    "```\n",
    "![](PICS/ConcolicFuzzer-synopsis-2.svg)\n",
    "\n",
    "### ConcolicGrammarFuzzer\n",
    "\n",
    "The `SimpleConcolicFuzzer` simply explores all paths near the original path traversed by the sample input. It uses a simple mechanism to explore the paths that are near the paths that it knows about, and other than code paths, knows nothing about the input.\n",
    "\n",
    "The `ConcolicGrammarFuzzer` on the other hand, knows about the input grammar, and can collect feedback from the subject under fuzzing. It can lift some of the constraints encountered to the grammar, enabling deeper fuzzing. It is used as follows:\n",
    "\n",
    "```python\n",
    ">>> from InformationFlow import INVENTORY_GRAMMAR, SQLException\n",
    ">>> cgf = ConcolicGrammarFuzzer(INVENTORY_GRAMMAR)\n",
    ">>> cgf.prune_tokens(prune_tokens)\n",
    ">>> for i in range(10):\n",
    ">>>     query = cgf.fuzz()\n",
    ">>>     print(query)\n",
    ">>>     with ConcolicTracer() as _:\n",
    ">>>         with ExpectError(print_traceback=False):\n",
    ">>>             try:\n",
    ">>>                 res = _[db_select](query)\n",
    ">>>                 print(repr(res))\n",
    ">>>             except SQLException as e:\n",
    ">>>                 print(e)\n",
    ">>>         cgf.update_grammar(_)\n",
    ">>>         print()\n",
    "select a from z where ((l))==(-66)*--69.9\n",
    "Table ('z') was not found\n",
    "\n",
    "update vehicles set F3=e where H+Q/W-R!=-4==Z(y)*F<i*.\n",
    "Column ('F3') was not found\n",
    "\n",
    "select m+U+K>N-l,i!=f,z,U,T from vehicles\n",
    "Invalid WHERE ('(m+U+K>N-l,i!=f,z,U,T)')\n",
    "\n",
    "delete from H3vM81 where z!=Z>v-J(Y)*(t)-.\n",
    "Table ('H3vM81') was not found\n",
    "\n",
    "update months set Y=y where ((2.7))==f+z-l*Y<y-N+E-d\n",
    "Column ('Y') was not found\n",
    "\n",
    "update y4 set o=X,L=Fe where n!=L(R)+L<H-F\n",
    "Table ('y4') was not found\n",
    "\n",
    "select Z,(901.20),(X!=a*L*t/h*b*k+V/V/H(E)) from .5\n",
    "Table ('.5') was not found\n",
    "\n",
    "select : from eY70 where c!=(w)!=B!=n==(z-v+M-N==g(n,j))\n",
    "Table ('eY70') was not found\n",
    "\n",
    "insert into D9J1A112hy (f3) values (69)\n",
    "Table ('D9J1A112hy') was not found\n",
    "\n",
    "update u set E2z=j,v3=zf where (p)==G77(B,p(B)!=d/k>P(v))\n",
    "Table ('u') was not found\n",
    "\n",
    "\n",
    ">>> display_class_hierarchy(ConcolicGrammarFuzzer)\n",
    "```\n",
    "![](PICS/ConcolicFuzzer-synopsis-3.svg)\n",
    "\n"
   ]
  },
  {
   "cell_type": "markdown",
   "metadata": {
    "slideshow": {
     "slide_type": "slide"
    },
    "toc-hr-collapsed": false
   },
   "source": [
    "## Tracking Constraints"
   ]
  },
  {
   "cell_type": "markdown",
   "metadata": {
    "slideshow": {
     "slide_type": "fragment"
    }
   },
   "source": [
    "In the chapter on [information flow](InformationFlow), we have seen how dynamic taints can be used to direct fuzzing by indicating which part of input reached interesting places. However, dynamic taint tracking is limited in the information that it can propagate. For example, we might want to explore what happens when certain properties of the input changes."
   ]
  },
  {
   "cell_type": "markdown",
   "metadata": {
    "slideshow": {
     "slide_type": "fragment"
    }
   },
   "source": [
    "For example, say we have a function `factorial()` that returns the *factorial value* of its input."
   ]
  },
  {
   "cell_type": "code",
   "execution_count": 3,
   "metadata": {
    "execution": {
     "iopub.execute_input": "2022-01-02T15:43:20.824985Z",
     "iopub.status.busy": "2022-01-02T15:43:20.824413Z",
     "iopub.status.idle": "2022-01-02T15:43:20.825992Z",
     "shell.execute_reply": "2022-01-02T15:43:20.826398Z"
    },
    "slideshow": {
     "slide_type": "subslide"
    }
   },
   "outputs": [],
   "source": [
    "def factorial(n):\n",
    "    if n < 0:\n",
    "        return None\n",
    "\n",
    "    if n == 0:\n",
    "        return 1\n",
    "\n",
    "    if n == 1:\n",
    "        return 1\n",
    "\n",
    "    v = 1\n",
    "    while n != 0:\n",
    "        v = v * n\n",
    "        n = n - 1\n",
    "\n",
    "    return v"
   ]
  },
  {
   "cell_type": "markdown",
   "metadata": {
    "slideshow": {
     "slide_type": "subslide"
    }
   },
   "source": [
    "We exercise the function with a value of `5`."
   ]
  },
  {
   "cell_type": "code",
   "execution_count": 4,
   "metadata": {
    "execution": {
     "iopub.execute_input": "2022-01-02T15:43:20.834973Z",
     "iopub.status.busy": "2022-01-02T15:43:20.834305Z",
     "iopub.status.idle": "2022-01-02T15:43:20.839018Z",
     "shell.execute_reply": "2022-01-02T15:43:20.839467Z"
    },
    "slideshow": {
     "slide_type": "fragment"
    }
   },
   "outputs": [
    {
     "data": {
      "text/plain": [
       "120"
      ]
     },
     "execution_count": 4,
     "metadata": {},
     "output_type": "execute_result"
    }
   ],
   "source": [
    "factorial(5)"
   ]
  },
  {
   "cell_type": "markdown",
   "metadata": {
    "slideshow": {
     "slide_type": "fragment"
    }
   },
   "source": [
    "Is this sufficient to explore all the features of the function? How do we know? One way to verify that we have explored all features is to look at the coverage obtained. First we need to extend the `Coverage` class from the [chapter on coverage](Coverage.ipynb) to provide us with coverage arcs."
   ]
  },
  {
   "cell_type": "code",
   "execution_count": 5,
   "metadata": {
    "execution": {
     "iopub.execute_input": "2022-01-02T15:43:20.842924Z",
     "iopub.status.busy": "2022-01-02T15:43:20.842366Z",
     "iopub.status.idle": "2022-01-02T15:43:22.173366Z",
     "shell.execute_reply": "2022-01-02T15:43:22.173767Z"
    },
    "slideshow": {
     "slide_type": "skip"
    }
   },
   "outputs": [],
   "source": [
    "from Coverage import Coverage"
   ]
  },
  {
   "cell_type": "code",
   "execution_count": 6,
   "metadata": {
    "execution": {
     "iopub.execute_input": "2022-01-02T15:43:22.177278Z",
     "iopub.status.busy": "2022-01-02T15:43:22.176746Z",
     "iopub.status.idle": "2022-01-02T15:43:22.178791Z",
     "shell.execute_reply": "2022-01-02T15:43:22.179177Z"
    },
    "slideshow": {
     "slide_type": "skip"
    }
   },
   "outputs": [],
   "source": [
    "import inspect"
   ]
  },
  {
   "cell_type": "code",
   "execution_count": 7,
   "metadata": {
    "execution": {
     "iopub.execute_input": "2022-01-02T15:43:22.183614Z",
     "iopub.status.busy": "2022-01-02T15:43:22.183078Z",
     "iopub.status.idle": "2022-01-02T15:43:22.184893Z",
     "shell.execute_reply": "2022-01-02T15:43:22.185260Z"
    },
    "slideshow": {
     "slide_type": "subslide"
    }
   },
   "outputs": [],
   "source": [
    "class ArcCoverage(Coverage):\n",
    "    def traceit(self, frame, event, args):\n",
    "        if event != 'return':\n",
    "            f = inspect.getframeinfo(frame)\n",
    "            self._trace.append((f.function, f.lineno))\n",
    "        return self.traceit\n",
    "\n",
    "    def arcs(self):\n",
    "        t = [i for f, i in self._trace]\n",
    "        return list(zip(t, t[1:]))"
   ]
  },
  {
   "cell_type": "markdown",
   "metadata": {
    "slideshow": {
     "slide_type": "fragment"
    }
   },
   "source": [
    "Next, we use the `Tracer` to obtain the coverage arcs."
   ]
  },
  {
   "cell_type": "code",
   "execution_count": 8,
   "metadata": {
    "execution": {
     "iopub.execute_input": "2022-01-02T15:43:22.188259Z",
     "iopub.status.busy": "2022-01-02T15:43:22.187739Z",
     "iopub.status.idle": "2022-01-02T15:43:22.438092Z",
     "shell.execute_reply": "2022-01-02T15:43:22.438658Z"
    },
    "slideshow": {
     "slide_type": "fragment"
    }
   },
   "outputs": [],
   "source": [
    "with ArcCoverage() as cov:\n",
    "    factorial(5)"
   ]
  },
  {
   "cell_type": "markdown",
   "metadata": {
    "slideshow": {
     "slide_type": "fragment"
    }
   },
   "source": [
    "We can now use the coverage arcs to visualize the coverage obtained."
   ]
  },
  {
   "cell_type": "code",
   "execution_count": 9,
   "metadata": {
    "execution": {
     "iopub.execute_input": "2022-01-02T15:43:22.442402Z",
     "iopub.status.busy": "2022-01-02T15:43:22.441796Z",
     "iopub.status.idle": "2022-01-02T15:43:22.808399Z",
     "shell.execute_reply": "2022-01-02T15:43:22.808834Z"
    },
    "slideshow": {
     "slide_type": "skip"
    }
   },
   "outputs": [],
   "source": [
    "from ControlFlow import to_graph, gen_cfg"
   ]
  },
  {
   "cell_type": "code",
   "execution_count": 10,
   "metadata": {
    "execution": {
     "iopub.execute_input": "2022-01-02T15:43:22.813087Z",
     "iopub.status.busy": "2022-01-02T15:43:22.812488Z",
     "iopub.status.idle": "2022-01-02T15:43:23.345578Z",
     "shell.execute_reply": "2022-01-02T15:43:23.346202Z"
    },
    "slideshow": {
     "slide_type": "subslide"
    }
   },
   "outputs": [
    {
     "data": {
      "image/svg+xml": [
       "<?xml version=\"1.0\" encoding=\"UTF-8\" standalone=\"no\"?>\n",
       "<!DOCTYPE svg PUBLIC \"-//W3C//DTD SVG 1.1//EN\"\n",
       " \"http://www.w3.org/Graphics/SVG/1.1/DTD/svg11.dtd\">\n",
       "<!-- Generated by graphviz version 2.49.3 (20211023.0002)\n",
       " -->\n",
       "<!-- Pages: 1 -->\n",
       "<svg width=\"423pt\" height=\"564pt\"\n",
       " viewBox=\"0.00 0.00 423.11 564.00\" xmlns=\"http://www.w3.org/2000/svg\" xmlns:xlink=\"http://www.w3.org/1999/xlink\">\n",
       "<g id=\"graph0\" class=\"graph\" transform=\"scale(1 1) rotate(0) translate(4 560)\">\n",
       "<polygon fill=\"white\" stroke=\"transparent\" points=\"-4,4 -4,-560 419.11,-560 419.11,4 -4,4\"/>\n",
       "<!-- 1 -->\n",
       "<g id=\"node1\" class=\"node\">\n",
       "<title>1</title>\n",
       "<ellipse fill=\"none\" stroke=\"black\" cx=\"101\" cy=\"-534\" rx=\"83.69\" ry=\"18\"/>\n",
       "<ellipse fill=\"none\" stroke=\"black\" cx=\"101\" cy=\"-534\" rx=\"87.69\" ry=\"22\"/>\n",
       "<text text-anchor=\"middle\" x=\"101\" y=\"-530.3\" font-family=\"Times,serif\" font-size=\"14.00\">1: enter: factorial(n)</text>\n",
       "</g>\n",
       "<!-- 3 -->\n",
       "<g id=\"node7\" class=\"node\">\n",
       "<title>3</title>\n",
       "<polygon fill=\"none\" stroke=\"black\" points=\"101,-476 31.29,-458 101,-440 170.71,-458 101,-476\"/>\n",
       "<text text-anchor=\"middle\" x=\"101\" y=\"-454.3\" font-family=\"Times,serif\" font-size=\"14.00\">2: if: n &lt; 0</text>\n",
       "</g>\n",
       "<!-- 1&#45;&gt;3 -->\n",
       "<g id=\"edge5\" class=\"edge\">\n",
       "<title>1&#45;&gt;3</title>\n",
       "<path fill=\"none\" stroke=\"green\" d=\"M101,-511.99C101,-504.06 101,-494.91 101,-486.48\"/>\n",
       "<polygon fill=\"green\" stroke=\"green\" points=\"104.5,-486.31 101,-476.31 97.5,-486.31 104.5,-486.31\"/>\n",
       "</g>\n",
       "<!-- 2 -->\n",
       "<g id=\"node2\" class=\"node\">\n",
       "<title>2</title>\n",
       "<ellipse fill=\"none\" stroke=\"black\" cx=\"145\" cy=\"-22\" rx=\"79.1\" ry=\"18\"/>\n",
       "<ellipse fill=\"none\" stroke=\"black\" cx=\"145\" cy=\"-22\" rx=\"83.09\" ry=\"22\"/>\n",
       "<text text-anchor=\"middle\" x=\"145\" y=\"-18.3\" font-family=\"Times,serif\" font-size=\"14.00\">1: exit: factorial(n)</text>\n",
       "</g>\n",
       "<!-- 4 -->\n",
       "<g id=\"node3\" class=\"node\">\n",
       "<title>4</title>\n",
       "<polygon fill=\"none\" stroke=\"black\" points=\"98,-188 0,-188 0,-152 98,-152 98,-188\"/>\n",
       "<text text-anchor=\"middle\" x=\"49\" y=\"-166.3\" font-family=\"Times,serif\" font-size=\"14.00\">3: return None</text>\n",
       "</g>\n",
       "<!-- 4&#45;&gt;2 -->\n",
       "<g id=\"edge1\" class=\"edge\">\n",
       "<title>4&#45;&gt;2</title>\n",
       "<path fill=\"none\" stroke=\"red\" d=\"M60.2,-151.97C76.23,-127.59 105.93,-82.42 125.58,-52.53\"/>\n",
       "<polygon fill=\"red\" stroke=\"red\" points=\"128.51,-54.44 131.08,-44.16 122.67,-50.6 128.51,-54.44\"/>\n",
       "</g>\n",
       "<!-- 6 -->\n",
       "<g id=\"node4\" class=\"node\">\n",
       "<title>6</title>\n",
       "<polygon fill=\"none\" stroke=\"black\" points=\"163.5,-332 88.5,-332 88.5,-296 163.5,-296 163.5,-332\"/>\n",
       "<text text-anchor=\"middle\" x=\"126\" y=\"-310.3\" font-family=\"Times,serif\" font-size=\"14.00\">6: return 1</text>\n",
       "</g>\n",
       "<!-- 6&#45;&gt;2 -->\n",
       "<g id=\"edge2\" class=\"edge\">\n",
       "<title>6&#45;&gt;2</title>\n",
       "<path fill=\"none\" stroke=\"red\" d=\"M127.13,-295.73C130.24,-248.22 138.97,-115.09 142.96,-54.16\"/>\n",
       "<polygon fill=\"red\" stroke=\"red\" points=\"146.46,-54.21 143.62,-44 139.48,-53.75 146.46,-54.21\"/>\n",
       "</g>\n",
       "<!-- 8 -->\n",
       "<g id=\"node5\" class=\"node\">\n",
       "<title>8</title>\n",
       "<polygon fill=\"none\" stroke=\"black\" points=\"235.5,-260 160.5,-260 160.5,-224 235.5,-224 235.5,-260\"/>\n",
       "<text text-anchor=\"middle\" x=\"198\" y=\"-238.3\" font-family=\"Times,serif\" font-size=\"14.00\">9: return 1</text>\n",
       "</g>\n",
       "<!-- 8&#45;&gt;2 -->\n",
       "<g id=\"edge3\" class=\"edge\">\n",
       "<title>8&#45;&gt;2</title>\n",
       "<path fill=\"none\" stroke=\"red\" d=\"M193.84,-223.89C184.93,-187.22 163.86,-100.59 152.53,-53.97\"/>\n",
       "<polygon fill=\"red\" stroke=\"red\" points=\"155.9,-53.01 150.13,-44.12 149.1,-54.66 155.9,-53.01\"/>\n",
       "</g>\n",
       "<!-- 13 -->\n",
       "<g id=\"node6\" class=\"node\">\n",
       "<title>13</title>\n",
       "<polygon fill=\"none\" stroke=\"black\" points=\"274,-116 192,-116 192,-80 274,-80 274,-116\"/>\n",
       "<text text-anchor=\"middle\" x=\"233\" y=\"-94.3\" font-family=\"Times,serif\" font-size=\"14.00\">16: return v</text>\n",
       "</g>\n",
       "<!-- 13&#45;&gt;2 -->\n",
       "<g id=\"edge4\" class=\"edge\">\n",
       "<title>13&#45;&gt;2</title>\n",
       "<path fill=\"none\" stroke=\"green\" d=\"M212.59,-79.84C202.03,-70.96 188.89,-59.91 177.02,-49.93\"/>\n",
       "<polygon fill=\"green\" stroke=\"green\" points=\"178.95,-46.98 169.05,-43.22 174.45,-52.34 178.95,-46.98\"/>\n",
       "</g>\n",
       "<!-- 3&#45;&gt;4 -->\n",
       "<g id=\"edge6\" class=\"edge\">\n",
       "<title>3&#45;&gt;4</title>\n",
       "<path fill=\"none\" stroke=\"red\" d=\"M89.42,-442.65C81.92,-432.49 72.69,-418.2 68,-404 44.41,-332.62 45.01,-242.55 47.15,-198.21\"/>\n",
       "<polygon fill=\"red\" stroke=\"red\" points=\"50.64,-198.39 47.69,-188.21 43.65,-198 50.64,-198.39\"/>\n",
       "</g>\n",
       "<!-- 5 -->\n",
       "<g id=\"node8\" class=\"node\">\n",
       "<title>5</title>\n",
       "<polygon fill=\"none\" stroke=\"black\" points=\"154,-404 76.58,-386 154,-368 231.42,-386 154,-404\"/>\n",
       "<text text-anchor=\"middle\" x=\"154\" y=\"-382.3\" font-family=\"Times,serif\" font-size=\"14.00\">5: if: n == 0</text>\n",
       "</g>\n",
       "<!-- 3&#45;&gt;5 -->\n",
       "<g id=\"edge7\" class=\"edge\">\n",
       "<title>3&#45;&gt;5</title>\n",
       "<path fill=\"none\" stroke=\"green\" d=\"M111.98,-442.5C119.16,-433.02 128.68,-420.44 136.85,-409.66\"/>\n",
       "<polygon fill=\"green\" stroke=\"green\" points=\"139.79,-411.57 143.03,-401.49 134.21,-407.35 139.79,-411.57\"/>\n",
       "</g>\n",
       "<!-- 5&#45;&gt;6 -->\n",
       "<g id=\"edge8\" class=\"edge\">\n",
       "<title>5&#45;&gt;6</title>\n",
       "<path fill=\"none\" stroke=\"red\" d=\"M147.65,-369.12C144.42,-361.06 140.42,-351.05 136.74,-341.84\"/>\n",
       "<polygon fill=\"red\" stroke=\"red\" points=\"139.88,-340.28 132.92,-332.29 133.38,-342.88 139.88,-340.28\"/>\n",
       "</g>\n",
       "<!-- 7 -->\n",
       "<g id=\"node9\" class=\"node\">\n",
       "<title>7</title>\n",
       "<polygon fill=\"none\" stroke=\"black\" points=\"259,-332 181.58,-314 259,-296 336.42,-314 259,-332\"/>\n",
       "<text text-anchor=\"middle\" x=\"259\" y=\"-310.3\" font-family=\"Times,serif\" font-size=\"14.00\">8: if: n == 1</text>\n",
       "</g>\n",
       "<!-- 5&#45;&gt;7 -->\n",
       "<g id=\"edge9\" class=\"edge\">\n",
       "<title>5&#45;&gt;7</title>\n",
       "<path fill=\"none\" stroke=\"green\" d=\"M173.26,-372.16C189.54,-361.31 213.07,-345.62 231.36,-333.43\"/>\n",
       "<polygon fill=\"green\" stroke=\"green\" points=\"233.48,-336.22 239.86,-327.76 229.6,-330.39 233.48,-336.22\"/>\n",
       "</g>\n",
       "<!-- 7&#45;&gt;8 -->\n",
       "<g id=\"edge10\" class=\"edge\">\n",
       "<title>7&#45;&gt;8</title>\n",
       "<path fill=\"none\" stroke=\"red\" d=\"M246.66,-298.83C238.89,-289.92 228.65,-278.17 219.57,-267.75\"/>\n",
       "<polygon fill=\"red\" stroke=\"red\" points=\"222.12,-265.35 212.91,-260.11 216.84,-269.95 222.12,-265.35\"/>\n",
       "</g>\n",
       "<!-- 9 -->\n",
       "<g id=\"node10\" class=\"node\">\n",
       "<title>9</title>\n",
       "<polygon fill=\"none\" stroke=\"black\" points=\"323,-260 257,-260 257,-224 323,-224 323,-260\"/>\n",
       "<text text-anchor=\"middle\" x=\"290\" y=\"-238.3\" font-family=\"Times,serif\" font-size=\"14.00\">11: v = 1</text>\n",
       "</g>\n",
       "<!-- 7&#45;&gt;9 -->\n",
       "<g id=\"edge11\" class=\"edge\">\n",
       "<title>7&#45;&gt;9</title>\n",
       "<path fill=\"none\" stroke=\"green\" d=\"M265.88,-297.46C269.48,-289.33 273.99,-279.15 278.14,-269.79\"/>\n",
       "<polygon fill=\"green\" stroke=\"green\" points=\"281.42,-271.02 282.27,-260.46 275.02,-268.19 281.42,-271.02\"/>\n",
       "</g>\n",
       "<!-- 10 -->\n",
       "<g id=\"node11\" class=\"node\">\n",
       "<title>10</title>\n",
       "<polygon fill=\"none\" stroke=\"black\" points=\"314,-188 212.79,-170 314,-152 415.21,-170 314,-188\"/>\n",
       "<text text-anchor=\"middle\" x=\"314\" y=\"-166.3\" font-family=\"Times,serif\" font-size=\"14.00\">12: while: n != 0</text>\n",
       "</g>\n",
       "<!-- 9&#45;&gt;10 -->\n",
       "<g id=\"edge12\" class=\"edge\">\n",
       "<title>9&#45;&gt;10</title>\n",
       "<path fill=\"none\" stroke=\"green\" d=\"M295.93,-223.7C298.72,-215.58 302.09,-205.74 305.17,-196.76\"/>\n",
       "<polygon fill=\"green\" stroke=\"green\" points=\"308.53,-197.74 308.46,-187.14 301.91,-195.47 308.53,-197.74\"/>\n",
       "</g>\n",
       "<!-- 10&#45;&gt;13 -->\n",
       "<g id=\"edge16\" class=\"edge\">\n",
       "<title>10&#45;&gt;13</title>\n",
       "<path fill=\"none\" stroke=\"green\" d=\"M297.61,-154.83C286.99,-145.66 272.9,-133.48 260.58,-122.84\"/>\n",
       "<polygon fill=\"green\" stroke=\"green\" points=\"262.66,-120 252.8,-116.11 258.08,-125.3 262.66,-120\"/>\n",
       "</g>\n",
       "<!-- 11 -->\n",
       "<g id=\"node13\" class=\"node\">\n",
       "<title>11</title>\n",
       "<polygon fill=\"none\" stroke=\"black\" points=\"380,-116 292,-116 292,-80 380,-80 380,-116\"/>\n",
       "<text text-anchor=\"middle\" x=\"336\" y=\"-94.3\" font-family=\"Times,serif\" font-size=\"14.00\">13: v = v * n</text>\n",
       "</g>\n",
       "<!-- 10&#45;&gt;11 -->\n",
       "<g id=\"edge14\" class=\"edge\">\n",
       "<title>10&#45;&gt;11</title>\n",
       "<path fill=\"none\" stroke=\"green\" d=\"M319.1,-152.76C321.61,-144.78 324.7,-134.95 327.55,-125.89\"/>\n",
       "<polygon fill=\"green\" stroke=\"green\" points=\"330.96,-126.71 330.62,-116.12 324.28,-124.61 330.96,-126.71\"/>\n",
       "</g>\n",
       "<!-- 12 -->\n",
       "<g id=\"node12\" class=\"node\">\n",
       "<title>12</title>\n",
       "<polygon fill=\"none\" stroke=\"black\" points=\"414.5,-40 329.5,-40 329.5,-4 414.5,-4 414.5,-40\"/>\n",
       "<text text-anchor=\"middle\" x=\"372\" y=\"-18.3\" font-family=\"Times,serif\" font-size=\"14.00\">14: n = n &#45; 1</text>\n",
       "</g>\n",
       "<!-- 12&#45;&gt;10 -->\n",
       "<g id=\"edge13\" class=\"edge\">\n",
       "<title>12&#45;&gt;10</title>\n",
       "<path fill=\"none\" stroke=\"green\" d=\"M381.31,-40.08C390.53,-59.5 401.6,-91.66 389,-116 380.99,-131.48 366.14,-143.4 351.76,-151.98\"/>\n",
       "<polygon fill=\"green\" stroke=\"green\" points=\"349.97,-148.97 342.93,-156.9 353.37,-155.09 349.97,-148.97\"/>\n",
       "</g>\n",
       "<!-- 11&#45;&gt;12 -->\n",
       "<g id=\"edge15\" class=\"edge\">\n",
       "<title>11&#45;&gt;12</title>\n",
       "<path fill=\"none\" stroke=\"green\" d=\"M344.35,-79.84C348.76,-70.78 354.26,-59.47 359.19,-49.32\"/>\n",
       "<polygon fill=\"green\" stroke=\"green\" points=\"362.47,-50.59 363.7,-40.07 356.17,-47.53 362.47,-50.59\"/>\n",
       "</g>\n",
       "</g>\n",
       "</svg>\n"
      ],
      "text/plain": [
       "<graphviz.dot.Digraph at 0x10c067910>"
      ]
     },
     "execution_count": 10,
     "metadata": {},
     "output_type": "execute_result"
    }
   ],
   "source": [
    "to_graph(gen_cfg(inspect.getsource(factorial)), arcs=cov.arcs())"
   ]
  },
  {
   "cell_type": "markdown",
   "metadata": {
    "slideshow": {
     "slide_type": "fragment"
    }
   },
   "source": [
    "We see that the path `[1, 2, 4, 6, 8, 9, 10, 11, 12]` is covered (green) but sub-paths such as  `[2, 3]`,  `[4, 5]` and `[6, 7]` are unexplored (red). What we need is the ability to generate inputs such that the `True` branch is taken at `2`. How do we do that?"
   ]
  },
  {
   "cell_type": "markdown",
   "metadata": {
    "slideshow": {
     "slide_type": "slide"
    },
    "toc-hr-collapsed": false
   },
   "source": [
    "## Concolic Execution\n",
    "\n",
    "One way is to look at the execution path being taken, and collect the conditional constraints that the path encounters. Then we can try to produce inputs that lead us to taking the non-traversed path."
   ]
  },
  {
   "cell_type": "markdown",
   "metadata": {
    "slideshow": {
     "slide_type": "fragment"
    }
   },
   "source": [
    "First, let us step through the function."
   ]
  },
  {
   "cell_type": "code",
   "execution_count": 11,
   "metadata": {
    "execution": {
     "iopub.execute_input": "2022-01-02T15:43:23.353570Z",
     "iopub.status.busy": "2022-01-02T15:43:23.352687Z",
     "iopub.status.idle": "2022-01-02T15:43:23.355971Z",
     "shell.execute_reply": "2022-01-02T15:43:23.356476Z"
    },
    "slideshow": {
     "slide_type": "fragment"
    }
   },
   "outputs": [],
   "source": [
    "lines = [i[1] for i in cov._trace if i[0] == 'factorial']\n",
    "src = {i + 1: s for i, s in enumerate(\n",
    "    inspect.getsource(factorial).split('\\n'))}"
   ]
  },
  {
   "cell_type": "markdown",
   "metadata": {
    "slideshow": {
     "slide_type": "fragment"
    }
   },
   "source": [
    "* The line (1) is simply the entry point of the function. We know that the input is `n`, which is an integer."
   ]
  },
  {
   "cell_type": "code",
   "execution_count": 12,
   "metadata": {
    "execution": {
     "iopub.execute_input": "2022-01-02T15:43:23.362958Z",
     "iopub.status.busy": "2022-01-02T15:43:23.361968Z",
     "iopub.status.idle": "2022-01-02T15:43:23.366458Z",
     "shell.execute_reply": "2022-01-02T15:43:23.367333Z"
    },
    "slideshow": {
     "slide_type": "fragment"
    }
   },
   "outputs": [
    {
     "data": {
      "text/plain": [
       "'def factorial(n):'"
      ]
     },
     "execution_count": 12,
     "metadata": {},
     "output_type": "execute_result"
    }
   ],
   "source": [
    "src[1]"
   ]
  },
  {
   "cell_type": "markdown",
   "metadata": {
    "slideshow": {
     "slide_type": "subslide"
    }
   },
   "source": [
    "* The line (2) is a predicate `n < 0`. Since the next line taken is line (4), we know that at this point in the execution path, the predicate was `false`."
   ]
  },
  {
   "cell_type": "code",
   "execution_count": 13,
   "metadata": {
    "execution": {
     "iopub.execute_input": "2022-01-02T15:43:23.373055Z",
     "iopub.status.busy": "2022-01-02T15:43:23.372205Z",
     "iopub.status.idle": "2022-01-02T15:43:23.376872Z",
     "shell.execute_reply": "2022-01-02T15:43:23.377613Z"
    },
    "slideshow": {
     "slide_type": "fragment"
    }
   },
   "outputs": [
    {
     "data": {
      "text/plain": [
       "('    if n < 0:', '        return None', '')"
      ]
     },
     "execution_count": 13,
     "metadata": {},
     "output_type": "execute_result"
    }
   ],
   "source": [
    "src[2], src[3], src[4]"
   ]
  },
  {
   "cell_type": "markdown",
   "metadata": {
    "slideshow": {
     "slide_type": "fragment"
    }
   },
   "source": [
    "We notice that this is one of the predicates where the `true` branch was not taken. How do we generate a value that takes the `true` branch here? One way is to use symbolic variables to represent the input, encode the constraint, and use an *SMT Solver* to solve the negation of the constraint."
   ]
  },
  {
   "cell_type": "markdown",
   "metadata": {
    "slideshow": {
     "slide_type": "subslide"
    }
   },
   "source": [
    "As we mentioned in the introduction to the chapter, a symbolic variable can be thought of as a sort of placeholder for the real variable, sort of like the `x` in solving for `x` in Algebra. These variables can be used to encode constraints placed on the variables in the program. We identify what constraints the variable is supposed to obey, and finally produce a value that obeys all constraints imposed."
   ]
  },
  {
   "cell_type": "markdown",
   "metadata": {
    "slideshow": {
     "slide_type": "slide"
    }
   },
   "source": [
    "## Solving Constraints"
   ]
  },
  {
   "cell_type": "markdown",
   "metadata": {
    "slideshow": {
     "slide_type": "fragment"
    }
   },
   "source": [
    "To solve these constraints, one can use a _Satisfiability Modulo Theories_ (SMT) solver. An SMT solver is built on top of a _SATISFIABILITY_ (SAT) solver. A SAT solver is being used to check whether boolean formulas in first order logic (e.g `(a | b ) & (~a | ~b)`) can be satisfied using any assignments for the variables (e.g `a = true, b = false`). An SMT solver extends these SAT solvers to specific background theories -- for example, _theory of integers_, or _theory of strings_. That is, given a string constraint expressed as a formula with string variables (e.g `h + t == 'hello,world'`), an SMT solver that understands _theory of strings_ can be used to check if that constraint can be satisfied, and if satisfiable, provide an instantiation of concrete values for the variables used in the formula (e.g `h = 'hello,', t = 'world'`)."
   ]
  },
  {
   "cell_type": "markdown",
   "metadata": {
    "slideshow": {
     "slide_type": "fragment"
    }
   },
   "source": [
    "We use the SMT solver Z3 in this chapter."
   ]
  },
  {
   "cell_type": "code",
   "execution_count": 14,
   "metadata": {
    "execution": {
     "iopub.execute_input": "2022-01-02T15:43:23.383748Z",
     "iopub.status.busy": "2022-01-02T15:43:23.383140Z",
     "iopub.status.idle": "2022-01-02T15:43:23.414081Z",
     "shell.execute_reply": "2022-01-02T15:43:23.414788Z"
    },
    "slideshow": {
     "slide_type": "skip"
    }
   },
   "outputs": [],
   "source": [
    "import z3  # type: ignore"
   ]
  },
  {
   "cell_type": "code",
   "execution_count": 15,
   "metadata": {
    "execution": {
     "iopub.execute_input": "2022-01-02T15:43:23.421334Z",
     "iopub.status.busy": "2022-01-02T15:43:23.420517Z",
     "iopub.status.idle": "2022-01-02T15:43:23.422680Z",
     "shell.execute_reply": "2022-01-02T15:43:23.423403Z"
    },
    "slideshow": {
     "slide_type": "subslide"
    }
   },
   "outputs": [],
   "source": [
    "assert z3.get_version() >= (4, 8, 6, 0), \"Please check z3 version\"\n",
    "assert z3.get_version() <= (4, 8, 9, 0), \"Please check z3 version\""
   ]
  },
  {
   "cell_type": "markdown",
   "metadata": {
    "slideshow": {
     "slide_type": "fragment"
    }
   },
   "source": [
    "Let us set up Z3 first. To ensure that the string constraints we use in this chapter are successfully evaluated, we need to specify the `z3str3` solver. Further, we set the timeout for Z3 computations to 30 seconds."
   ]
  },
  {
   "cell_type": "code",
   "execution_count": 16,
   "metadata": {
    "execution": {
     "iopub.execute_input": "2022-01-02T15:43:23.429036Z",
     "iopub.status.busy": "2022-01-02T15:43:23.428072Z",
     "iopub.status.idle": "2022-01-02T15:43:23.430512Z",
     "shell.execute_reply": "2022-01-02T15:43:23.431198Z"
    },
    "slideshow": {
     "slide_type": "fragment"
    }
   },
   "outputs": [],
   "source": [
    "z3.set_option('smt.string_solver', 'z3str3')\n",
    "z3.set_option('timeout', 30 * 1000)  # milliseconds"
   ]
  },
  {
   "cell_type": "markdown",
   "metadata": {
    "slideshow": {
     "slide_type": "fragment"
    }
   },
   "source": [
    "To encode constraints, we need symbolic variables. Here, we make `zn` a placeholder for the Z3 symbolic integer variable `n`."
   ]
  },
  {
   "cell_type": "code",
   "execution_count": 17,
   "metadata": {
    "execution": {
     "iopub.execute_input": "2022-01-02T15:43:23.436179Z",
     "iopub.status.busy": "2022-01-02T15:43:23.435387Z",
     "iopub.status.idle": "2022-01-02T15:43:23.438124Z",
     "shell.execute_reply": "2022-01-02T15:43:23.438620Z"
    },
    "slideshow": {
     "slide_type": "fragment"
    }
   },
   "outputs": [],
   "source": [
    "zn = z3.Int('n')"
   ]
  },
  {
   "cell_type": "markdown",
   "metadata": {
    "slideshow": {
     "slide_type": "fragment"
    }
   },
   "source": [
    "Remember the constraint `(n < 0)` from line 2 in `factorial()`? We can now encode the constraint as follows. "
   ]
  },
  {
   "cell_type": "code",
   "execution_count": 18,
   "metadata": {
    "execution": {
     "iopub.execute_input": "2022-01-02T15:43:23.443929Z",
     "iopub.status.busy": "2022-01-02T15:43:23.442860Z",
     "iopub.status.idle": "2022-01-02T15:43:23.449428Z",
     "shell.execute_reply": "2022-01-02T15:43:23.449893Z"
    },
    "slideshow": {
     "slide_type": "fragment"
    }
   },
   "outputs": [
    {
     "data": {
      "text/html": [
       "n &lt; 0"
      ],
      "text/plain": [
       "n < 0"
      ]
     },
     "execution_count": 18,
     "metadata": {},
     "output_type": "execute_result"
    }
   ],
   "source": [
    "zn < 0"
   ]
  },
  {
   "cell_type": "markdown",
   "metadata": {
    "slideshow": {
     "slide_type": "subslide"
    }
   },
   "source": [
    "We previously traced `factorial(5)`. We saw that with input `5`, the execution took the `else` branch on the predicate `n < 0`. We can express this observation as follows."
   ]
  },
  {
   "cell_type": "code",
   "execution_count": 19,
   "metadata": {
    "execution": {
     "iopub.execute_input": "2022-01-02T15:43:23.454353Z",
     "iopub.status.busy": "2022-01-02T15:43:23.453755Z",
     "iopub.status.idle": "2022-01-02T15:43:23.458980Z",
     "shell.execute_reply": "2022-01-02T15:43:23.459544Z"
    },
    "slideshow": {
     "slide_type": "fragment"
    }
   },
   "outputs": [
    {
     "data": {
      "text/html": [
       "&not;(n &lt; 0)"
      ],
      "text/plain": [
       "Not(n < 0)"
      ]
     },
     "execution_count": 19,
     "metadata": {},
     "output_type": "execute_result"
    }
   ],
   "source": [
    "z3.Not(zn < 0)"
   ]
  },
  {
   "cell_type": "markdown",
   "metadata": {
    "slideshow": {
     "slide_type": "fragment"
    }
   },
   "source": [
    "Let us now solve constraints. The `z3.solve()` method checks if the constraints are satisfiable; if they are, it also provides values for variables such that the constraints are satisfied. For example, we can ask Z3 for an input that will take the `else` branch as follows:"
   ]
  },
  {
   "cell_type": "code",
   "execution_count": 20,
   "metadata": {
    "execution": {
     "iopub.execute_input": "2022-01-02T15:43:23.465596Z",
     "iopub.status.busy": "2022-01-02T15:43:23.464672Z",
     "iopub.status.idle": "2022-01-02T15:43:23.490029Z",
     "shell.execute_reply": "2022-01-02T15:43:23.490504Z"
    },
    "slideshow": {
     "slide_type": "fragment"
    }
   },
   "outputs": [
    {
     "name": "stdout",
     "output_type": "stream",
     "text": [
      "[n = 0]\n"
     ]
    }
   ],
   "source": [
    "z3.solve(z3.Not(zn < 0))"
   ]
  },
  {
   "cell_type": "markdown",
   "metadata": {
    "slideshow": {
     "slide_type": "fragment"
    }
   },
   "source": [
    "This is *a solution* (albeit a trivial one). SMT solvers can be used to solve much harder problems. For example, here is how one can solve a quadratic equation."
   ]
  },
  {
   "cell_type": "code",
   "execution_count": 21,
   "metadata": {
    "execution": {
     "iopub.execute_input": "2022-01-02T15:43:23.496549Z",
     "iopub.status.busy": "2022-01-02T15:43:23.495534Z",
     "iopub.status.idle": "2022-01-02T15:43:23.519451Z",
     "shell.execute_reply": "2022-01-02T15:43:23.519917Z"
    },
    "slideshow": {
     "slide_type": "subslide"
    }
   },
   "outputs": [
    {
     "name": "stdout",
     "output_type": "stream",
     "text": [
      "[x = 5]\n"
     ]
    }
   ],
   "source": [
    "x = z3.Real('x')\n",
    "eqn = (2 * x**2 - 11 * x + 5 == 0)\n",
    "z3.solve(eqn)"
   ]
  },
  {
   "cell_type": "markdown",
   "metadata": {
    "slideshow": {
     "slide_type": "fragment"
    }
   },
   "source": [
    "Again, this is _one solution_. We can ask z3 to give us another solution as follows."
   ]
  },
  {
   "cell_type": "code",
   "execution_count": 22,
   "metadata": {
    "execution": {
     "iopub.execute_input": "2022-01-02T15:43:23.525063Z",
     "iopub.status.busy": "2022-01-02T15:43:23.524255Z",
     "iopub.status.idle": "2022-01-02T15:43:23.545126Z",
     "shell.execute_reply": "2022-01-02T15:43:23.545549Z"
    },
    "slideshow": {
     "slide_type": "fragment"
    }
   },
   "outputs": [
    {
     "name": "stdout",
     "output_type": "stream",
     "text": [
      "[x = 1/2]\n"
     ]
    }
   ],
   "source": [
    "z3.solve(x != 5, eqn)"
   ]
  },
  {
   "cell_type": "markdown",
   "metadata": {
    "slideshow": {
     "slide_type": "fragment"
    }
   },
   "source": [
    "Indeed, both `x = 5` and `x = 1/2` are solutions to the quadratic equation $ 2x^2 -11x + 5 = 0 $"
   ]
  },
  {
   "cell_type": "markdown",
   "metadata": {
    "slideshow": {
     "slide_type": "fragment"
    }
   },
   "source": [
    "Similarly, we can ask *Z3* for an input that satisfies the constraint encoded in line 2 of `factorial()` so that we take the `if` branch."
   ]
  },
  {
   "cell_type": "code",
   "execution_count": 23,
   "metadata": {
    "execution": {
     "iopub.execute_input": "2022-01-02T15:43:23.550706Z",
     "iopub.status.busy": "2022-01-02T15:43:23.550057Z",
     "iopub.status.idle": "2022-01-02T15:43:23.570186Z",
     "shell.execute_reply": "2022-01-02T15:43:23.570612Z"
    },
    "slideshow": {
     "slide_type": "subslide"
    }
   },
   "outputs": [
    {
     "name": "stdout",
     "output_type": "stream",
     "text": [
      "[n = -1]\n"
     ]
    }
   ],
   "source": [
    "z3.solve(zn < 0)"
   ]
  },
  {
   "cell_type": "markdown",
   "metadata": {
    "slideshow": {
     "slide_type": "fragment"
    }
   },
   "source": [
    "That is, if one uses `-1` as an input to `factorial()`, it is guaranteed to take the `if` branch in line 2 during execution."
   ]
  },
  {
   "cell_type": "markdown",
   "metadata": {
    "slideshow": {
     "slide_type": "fragment"
    }
   },
   "source": [
    "Let us try using that with our coverage. Here, the `-1` is the solution from above."
   ]
  },
  {
   "cell_type": "code",
   "execution_count": 24,
   "metadata": {
    "execution": {
     "iopub.execute_input": "2022-01-02T15:43:23.578522Z",
     "iopub.status.busy": "2022-01-02T15:43:23.577708Z",
     "iopub.status.idle": "2022-01-02T15:43:23.628043Z",
     "shell.execute_reply": "2022-01-02T15:43:23.628672Z"
    },
    "slideshow": {
     "slide_type": "fragment"
    }
   },
   "outputs": [],
   "source": [
    "with cov as cov:\n",
    "    factorial(-1)"
   ]
  },
  {
   "cell_type": "code",
   "execution_count": 25,
   "metadata": {
    "execution": {
     "iopub.execute_input": "2022-01-02T15:43:23.638762Z",
     "iopub.status.busy": "2022-01-02T15:43:23.632474Z",
     "iopub.status.idle": "2022-01-02T15:43:24.191657Z",
     "shell.execute_reply": "2022-01-02T15:43:24.192081Z"
    },
    "slideshow": {
     "slide_type": "fragment"
    }
   },
   "outputs": [
    {
     "data": {
      "image/svg+xml": [
       "<?xml version=\"1.0\" encoding=\"UTF-8\" standalone=\"no\"?>\n",
       "<!DOCTYPE svg PUBLIC \"-//W3C//DTD SVG 1.1//EN\"\n",
       " \"http://www.w3.org/Graphics/SVG/1.1/DTD/svg11.dtd\">\n",
       "<!-- Generated by graphviz version 2.49.3 (20211023.0002)\n",
       " -->\n",
       "<!-- Pages: 1 -->\n",
       "<svg width=\"423pt\" height=\"564pt\"\n",
       " viewBox=\"0.00 0.00 423.11 564.00\" xmlns=\"http://www.w3.org/2000/svg\" xmlns:xlink=\"http://www.w3.org/1999/xlink\">\n",
       "<g id=\"graph0\" class=\"graph\" transform=\"scale(1 1) rotate(0) translate(4 560)\">\n",
       "<polygon fill=\"white\" stroke=\"transparent\" points=\"-4,4 -4,-560 419.11,-560 419.11,4 -4,4\"/>\n",
       "<!-- 1 -->\n",
       "<g id=\"node1\" class=\"node\">\n",
       "<title>1</title>\n",
       "<ellipse fill=\"none\" stroke=\"black\" cx=\"101\" cy=\"-534\" rx=\"83.69\" ry=\"18\"/>\n",
       "<ellipse fill=\"none\" stroke=\"black\" cx=\"101\" cy=\"-534\" rx=\"87.69\" ry=\"22\"/>\n",
       "<text text-anchor=\"middle\" x=\"101\" y=\"-530.3\" font-family=\"Times,serif\" font-size=\"14.00\">1: enter: factorial(n)</text>\n",
       "</g>\n",
       "<!-- 3 -->\n",
       "<g id=\"node7\" class=\"node\">\n",
       "<title>3</title>\n",
       "<polygon fill=\"none\" stroke=\"black\" points=\"101,-476 31.29,-458 101,-440 170.71,-458 101,-476\"/>\n",
       "<text text-anchor=\"middle\" x=\"101\" y=\"-454.3\" font-family=\"Times,serif\" font-size=\"14.00\">2: if: n &lt; 0</text>\n",
       "</g>\n",
       "<!-- 1&#45;&gt;3 -->\n",
       "<g id=\"edge5\" class=\"edge\">\n",
       "<title>1&#45;&gt;3</title>\n",
       "<path fill=\"none\" stroke=\"green\" d=\"M101,-511.99C101,-504.06 101,-494.91 101,-486.48\"/>\n",
       "<polygon fill=\"green\" stroke=\"green\" points=\"104.5,-486.31 101,-476.31 97.5,-486.31 104.5,-486.31\"/>\n",
       "</g>\n",
       "<!-- 2 -->\n",
       "<g id=\"node2\" class=\"node\">\n",
       "<title>2</title>\n",
       "<ellipse fill=\"none\" stroke=\"black\" cx=\"145\" cy=\"-22\" rx=\"79.1\" ry=\"18\"/>\n",
       "<ellipse fill=\"none\" stroke=\"black\" cx=\"145\" cy=\"-22\" rx=\"83.09\" ry=\"22\"/>\n",
       "<text text-anchor=\"middle\" x=\"145\" y=\"-18.3\" font-family=\"Times,serif\" font-size=\"14.00\">1: exit: factorial(n)</text>\n",
       "</g>\n",
       "<!-- 4 -->\n",
       "<g id=\"node3\" class=\"node\">\n",
       "<title>4</title>\n",
       "<polygon fill=\"none\" stroke=\"black\" points=\"98,-188 0,-188 0,-152 98,-152 98,-188\"/>\n",
       "<text text-anchor=\"middle\" x=\"49\" y=\"-166.3\" font-family=\"Times,serif\" font-size=\"14.00\">3: return None</text>\n",
       "</g>\n",
       "<!-- 4&#45;&gt;2 -->\n",
       "<g id=\"edge1\" class=\"edge\">\n",
       "<title>4&#45;&gt;2</title>\n",
       "<path fill=\"none\" stroke=\"green\" d=\"M60.2,-151.97C76.23,-127.59 105.93,-82.42 125.58,-52.53\"/>\n",
       "<polygon fill=\"green\" stroke=\"green\" points=\"128.51,-54.44 131.08,-44.16 122.67,-50.6 128.51,-54.44\"/>\n",
       "</g>\n",
       "<!-- 6 -->\n",
       "<g id=\"node4\" class=\"node\">\n",
       "<title>6</title>\n",
       "<polygon fill=\"none\" stroke=\"black\" points=\"163.5,-332 88.5,-332 88.5,-296 163.5,-296 163.5,-332\"/>\n",
       "<text text-anchor=\"middle\" x=\"126\" y=\"-310.3\" font-family=\"Times,serif\" font-size=\"14.00\">6: return 1</text>\n",
       "</g>\n",
       "<!-- 6&#45;&gt;2 -->\n",
       "<g id=\"edge2\" class=\"edge\">\n",
       "<title>6&#45;&gt;2</title>\n",
       "<path fill=\"none\" stroke=\"red\" d=\"M127.13,-295.73C130.24,-248.22 138.97,-115.09 142.96,-54.16\"/>\n",
       "<polygon fill=\"red\" stroke=\"red\" points=\"146.46,-54.21 143.62,-44 139.48,-53.75 146.46,-54.21\"/>\n",
       "</g>\n",
       "<!-- 8 -->\n",
       "<g id=\"node5\" class=\"node\">\n",
       "<title>8</title>\n",
       "<polygon fill=\"none\" stroke=\"black\" points=\"235.5,-260 160.5,-260 160.5,-224 235.5,-224 235.5,-260\"/>\n",
       "<text text-anchor=\"middle\" x=\"198\" y=\"-238.3\" font-family=\"Times,serif\" font-size=\"14.00\">9: return 1</text>\n",
       "</g>\n",
       "<!-- 8&#45;&gt;2 -->\n",
       "<g id=\"edge3\" class=\"edge\">\n",
       "<title>8&#45;&gt;2</title>\n",
       "<path fill=\"none\" stroke=\"red\" d=\"M193.84,-223.89C184.93,-187.22 163.86,-100.59 152.53,-53.97\"/>\n",
       "<polygon fill=\"red\" stroke=\"red\" points=\"155.9,-53.01 150.13,-44.12 149.1,-54.66 155.9,-53.01\"/>\n",
       "</g>\n",
       "<!-- 13 -->\n",
       "<g id=\"node6\" class=\"node\">\n",
       "<title>13</title>\n",
       "<polygon fill=\"none\" stroke=\"black\" points=\"274,-116 192,-116 192,-80 274,-80 274,-116\"/>\n",
       "<text text-anchor=\"middle\" x=\"233\" y=\"-94.3\" font-family=\"Times,serif\" font-size=\"14.00\">16: return v</text>\n",
       "</g>\n",
       "<!-- 13&#45;&gt;2 -->\n",
       "<g id=\"edge4\" class=\"edge\">\n",
       "<title>13&#45;&gt;2</title>\n",
       "<path fill=\"none\" stroke=\"green\" d=\"M212.59,-79.84C202.03,-70.96 188.89,-59.91 177.02,-49.93\"/>\n",
       "<polygon fill=\"green\" stroke=\"green\" points=\"178.95,-46.98 169.05,-43.22 174.45,-52.34 178.95,-46.98\"/>\n",
       "</g>\n",
       "<!-- 3&#45;&gt;4 -->\n",
       "<g id=\"edge6\" class=\"edge\">\n",
       "<title>3&#45;&gt;4</title>\n",
       "<path fill=\"none\" stroke=\"green\" d=\"M89.42,-442.65C81.92,-432.49 72.69,-418.2 68,-404 44.41,-332.62 45.01,-242.55 47.15,-198.21\"/>\n",
       "<polygon fill=\"green\" stroke=\"green\" points=\"50.64,-198.39 47.69,-188.21 43.65,-198 50.64,-198.39\"/>\n",
       "</g>\n",
       "<!-- 5 -->\n",
       "<g id=\"node8\" class=\"node\">\n",
       "<title>5</title>\n",
       "<polygon fill=\"none\" stroke=\"black\" points=\"154,-404 76.58,-386 154,-368 231.42,-386 154,-404\"/>\n",
       "<text text-anchor=\"middle\" x=\"154\" y=\"-382.3\" font-family=\"Times,serif\" font-size=\"14.00\">5: if: n == 0</text>\n",
       "</g>\n",
       "<!-- 3&#45;&gt;5 -->\n",
       "<g id=\"edge7\" class=\"edge\">\n",
       "<title>3&#45;&gt;5</title>\n",
       "<path fill=\"none\" stroke=\"green\" d=\"M111.98,-442.5C119.16,-433.02 128.68,-420.44 136.85,-409.66\"/>\n",
       "<polygon fill=\"green\" stroke=\"green\" points=\"139.79,-411.57 143.03,-401.49 134.21,-407.35 139.79,-411.57\"/>\n",
       "</g>\n",
       "<!-- 5&#45;&gt;6 -->\n",
       "<g id=\"edge8\" class=\"edge\">\n",
       "<title>5&#45;&gt;6</title>\n",
       "<path fill=\"none\" stroke=\"red\" d=\"M147.65,-369.12C144.42,-361.06 140.42,-351.05 136.74,-341.84\"/>\n",
       "<polygon fill=\"red\" stroke=\"red\" points=\"139.88,-340.28 132.92,-332.29 133.38,-342.88 139.88,-340.28\"/>\n",
       "</g>\n",
       "<!-- 7 -->\n",
       "<g id=\"node9\" class=\"node\">\n",
       "<title>7</title>\n",
       "<polygon fill=\"none\" stroke=\"black\" points=\"259,-332 181.58,-314 259,-296 336.42,-314 259,-332\"/>\n",
       "<text text-anchor=\"middle\" x=\"259\" y=\"-310.3\" font-family=\"Times,serif\" font-size=\"14.00\">8: if: n == 1</text>\n",
       "</g>\n",
       "<!-- 5&#45;&gt;7 -->\n",
       "<g id=\"edge9\" class=\"edge\">\n",
       "<title>5&#45;&gt;7</title>\n",
       "<path fill=\"none\" stroke=\"green\" d=\"M173.26,-372.16C189.54,-361.31 213.07,-345.62 231.36,-333.43\"/>\n",
       "<polygon fill=\"green\" stroke=\"green\" points=\"233.48,-336.22 239.86,-327.76 229.6,-330.39 233.48,-336.22\"/>\n",
       "</g>\n",
       "<!-- 7&#45;&gt;8 -->\n",
       "<g id=\"edge10\" class=\"edge\">\n",
       "<title>7&#45;&gt;8</title>\n",
       "<path fill=\"none\" stroke=\"red\" d=\"M246.66,-298.83C238.89,-289.92 228.65,-278.17 219.57,-267.75\"/>\n",
       "<polygon fill=\"red\" stroke=\"red\" points=\"222.12,-265.35 212.91,-260.11 216.84,-269.95 222.12,-265.35\"/>\n",
       "</g>\n",
       "<!-- 9 -->\n",
       "<g id=\"node10\" class=\"node\">\n",
       "<title>9</title>\n",
       "<polygon fill=\"none\" stroke=\"black\" points=\"323,-260 257,-260 257,-224 323,-224 323,-260\"/>\n",
       "<text text-anchor=\"middle\" x=\"290\" y=\"-238.3\" font-family=\"Times,serif\" font-size=\"14.00\">11: v = 1</text>\n",
       "</g>\n",
       "<!-- 7&#45;&gt;9 -->\n",
       "<g id=\"edge11\" class=\"edge\">\n",
       "<title>7&#45;&gt;9</title>\n",
       "<path fill=\"none\" stroke=\"green\" d=\"M265.88,-297.46C269.48,-289.33 273.99,-279.15 278.14,-269.79\"/>\n",
       "<polygon fill=\"green\" stroke=\"green\" points=\"281.42,-271.02 282.27,-260.46 275.02,-268.19 281.42,-271.02\"/>\n",
       "</g>\n",
       "<!-- 10 -->\n",
       "<g id=\"node11\" class=\"node\">\n",
       "<title>10</title>\n",
       "<polygon fill=\"none\" stroke=\"black\" points=\"314,-188 212.79,-170 314,-152 415.21,-170 314,-188\"/>\n",
       "<text text-anchor=\"middle\" x=\"314\" y=\"-166.3\" font-family=\"Times,serif\" font-size=\"14.00\">12: while: n != 0</text>\n",
       "</g>\n",
       "<!-- 9&#45;&gt;10 -->\n",
       "<g id=\"edge12\" class=\"edge\">\n",
       "<title>9&#45;&gt;10</title>\n",
       "<path fill=\"none\" stroke=\"green\" d=\"M295.93,-223.7C298.72,-215.58 302.09,-205.74 305.17,-196.76\"/>\n",
       "<polygon fill=\"green\" stroke=\"green\" points=\"308.53,-197.74 308.46,-187.14 301.91,-195.47 308.53,-197.74\"/>\n",
       "</g>\n",
       "<!-- 10&#45;&gt;13 -->\n",
       "<g id=\"edge16\" class=\"edge\">\n",
       "<title>10&#45;&gt;13</title>\n",
       "<path fill=\"none\" stroke=\"green\" d=\"M297.61,-154.83C286.99,-145.66 272.9,-133.48 260.58,-122.84\"/>\n",
       "<polygon fill=\"green\" stroke=\"green\" points=\"262.66,-120 252.8,-116.11 258.08,-125.3 262.66,-120\"/>\n",
       "</g>\n",
       "<!-- 11 -->\n",
       "<g id=\"node13\" class=\"node\">\n",
       "<title>11</title>\n",
       "<polygon fill=\"none\" stroke=\"black\" points=\"380,-116 292,-116 292,-80 380,-80 380,-116\"/>\n",
       "<text text-anchor=\"middle\" x=\"336\" y=\"-94.3\" font-family=\"Times,serif\" font-size=\"14.00\">13: v = v * n</text>\n",
       "</g>\n",
       "<!-- 10&#45;&gt;11 -->\n",
       "<g id=\"edge14\" class=\"edge\">\n",
       "<title>10&#45;&gt;11</title>\n",
       "<path fill=\"none\" stroke=\"green\" d=\"M319.1,-152.76C321.61,-144.78 324.7,-134.95 327.55,-125.89\"/>\n",
       "<polygon fill=\"green\" stroke=\"green\" points=\"330.96,-126.71 330.62,-116.12 324.28,-124.61 330.96,-126.71\"/>\n",
       "</g>\n",
       "<!-- 12 -->\n",
       "<g id=\"node12\" class=\"node\">\n",
       "<title>12</title>\n",
       "<polygon fill=\"none\" stroke=\"black\" points=\"414.5,-40 329.5,-40 329.5,-4 414.5,-4 414.5,-40\"/>\n",
       "<text text-anchor=\"middle\" x=\"372\" y=\"-18.3\" font-family=\"Times,serif\" font-size=\"14.00\">14: n = n &#45; 1</text>\n",
       "</g>\n",
       "<!-- 12&#45;&gt;10 -->\n",
       "<g id=\"edge13\" class=\"edge\">\n",
       "<title>12&#45;&gt;10</title>\n",
       "<path fill=\"none\" stroke=\"green\" d=\"M381.31,-40.08C390.53,-59.5 401.6,-91.66 389,-116 380.99,-131.48 366.14,-143.4 351.76,-151.98\"/>\n",
       "<polygon fill=\"green\" stroke=\"green\" points=\"349.97,-148.97 342.93,-156.9 353.37,-155.09 349.97,-148.97\"/>\n",
       "</g>\n",
       "<!-- 11&#45;&gt;12 -->\n",
       "<g id=\"edge15\" class=\"edge\">\n",
       "<title>11&#45;&gt;12</title>\n",
       "<path fill=\"none\" stroke=\"green\" d=\"M344.35,-79.84C348.76,-70.78 354.26,-59.47 359.19,-49.32\"/>\n",
       "<polygon fill=\"green\" stroke=\"green\" points=\"362.47,-50.59 363.7,-40.07 356.17,-47.53 362.47,-50.59\"/>\n",
       "</g>\n",
       "</g>\n",
       "</svg>\n"
      ],
      "text/plain": [
       "<graphviz.dot.Digraph at 0x10c3b5e80>"
      ]
     },
     "execution_count": 25,
     "metadata": {},
     "output_type": "execute_result"
    }
   ],
   "source": [
    "to_graph(gen_cfg(inspect.getsource(factorial)), arcs=cov.arcs())"
   ]
  },
  {
   "cell_type": "markdown",
   "metadata": {
    "slideshow": {
     "slide_type": "subslide"
    }
   },
   "source": [
    "Ok, so we have managed to cover a little more of the graph. Let us continue with our original input of `factorial(5)`:\n",
    "* In line (4) we encounter a new predicate `n == 0`, for which we again took the false branch."
   ]
  },
  {
   "cell_type": "code",
   "execution_count": 26,
   "metadata": {
    "execution": {
     "iopub.execute_input": "2022-01-02T15:43:24.200703Z",
     "iopub.status.busy": "2022-01-02T15:43:24.198442Z",
     "iopub.status.idle": "2022-01-02T15:43:24.205078Z",
     "shell.execute_reply": "2022-01-02T15:43:24.205836Z"
    },
    "slideshow": {
     "slide_type": "fragment"
    }
   },
   "outputs": [
    {
     "data": {
      "text/plain": [
       "''"
      ]
     },
     "execution_count": 26,
     "metadata": {},
     "output_type": "execute_result"
    }
   ],
   "source": [
    "src[4]"
   ]
  },
  {
   "cell_type": "markdown",
   "metadata": {
    "slideshow": {
     "slide_type": "fragment"
    }
   },
   "source": [
    "The predicates required, to follow the path until this point are as follows."
   ]
  },
  {
   "cell_type": "code",
   "execution_count": 27,
   "metadata": {
    "execution": {
     "iopub.execute_input": "2022-01-02T15:43:24.211787Z",
     "iopub.status.busy": "2022-01-02T15:43:24.211064Z",
     "iopub.status.idle": "2022-01-02T15:43:24.213845Z",
     "shell.execute_reply": "2022-01-02T15:43:24.214533Z"
    },
    "slideshow": {
     "slide_type": "fragment"
    }
   },
   "outputs": [],
   "source": [
    "predicates = [z3.Not(zn < 0), z3.Not(zn == 0)]"
   ]
  },
  {
   "cell_type": "markdown",
   "metadata": {
    "slideshow": {
     "slide_type": "fragment"
    }
   },
   "source": [
    "* If we continue to line (6), we encounter another predicate, for which again, we took the `false` branch"
   ]
  },
  {
   "cell_type": "code",
   "execution_count": 28,
   "metadata": {
    "execution": {
     "iopub.execute_input": "2022-01-02T15:43:24.221186Z",
     "iopub.status.busy": "2022-01-02T15:43:24.220184Z",
     "iopub.status.idle": "2022-01-02T15:43:24.223747Z",
     "shell.execute_reply": "2022-01-02T15:43:24.224235Z"
    },
    "slideshow": {
     "slide_type": "fragment"
    }
   },
   "outputs": [
    {
     "data": {
      "text/plain": [
       "'        return 1'"
      ]
     },
     "execution_count": 28,
     "metadata": {},
     "output_type": "execute_result"
    }
   ],
   "source": [
    "src[6]"
   ]
  },
  {
   "cell_type": "markdown",
   "metadata": {
    "slideshow": {
     "slide_type": "fragment"
    }
   },
   "source": [
    "The predicates encountered so far are as follows"
   ]
  },
  {
   "cell_type": "code",
   "execution_count": 29,
   "metadata": {
    "execution": {
     "iopub.execute_input": "2022-01-02T15:43:24.229244Z",
     "iopub.status.busy": "2022-01-02T15:43:24.228381Z",
     "iopub.status.idle": "2022-01-02T15:43:24.232012Z",
     "shell.execute_reply": "2022-01-02T15:43:24.232973Z"
    },
    "slideshow": {
     "slide_type": "subslide"
    }
   },
   "outputs": [],
   "source": [
    "predicates = [z3.Not(zn < 0), z3.Not(zn == 0), z3.Not(zn == 1)]"
   ]
  },
  {
   "cell_type": "markdown",
   "metadata": {
    "slideshow": {
     "slide_type": "fragment"
    }
   },
   "source": [
    "To take the branch at (6), we essentially have to obey the predicates until that point, but invert the last predicate."
   ]
  },
  {
   "cell_type": "code",
   "execution_count": 30,
   "metadata": {
    "execution": {
     "iopub.execute_input": "2022-01-02T15:43:24.240011Z",
     "iopub.status.busy": "2022-01-02T15:43:24.238977Z",
     "iopub.status.idle": "2022-01-02T15:43:24.265629Z",
     "shell.execute_reply": "2022-01-02T15:43:24.265043Z"
    },
    "slideshow": {
     "slide_type": "fragment"
    }
   },
   "outputs": [
    {
     "name": "stdout",
     "output_type": "stream",
     "text": [
      "[n = 1]\n"
     ]
    }
   ],
   "source": [
    "last = len(predicates) - 1\n",
    "z3.solve(predicates[0:-1] + [z3.Not(predicates[-1])])"
   ]
  },
  {
   "cell_type": "markdown",
   "metadata": {
    "slideshow": {
     "slide_type": "subslide"
    }
   },
   "source": [
    "What we are doing here is tracing the execution corresponding to a particular input `factorial(5)`, using concrete values, and along with it, keeping *symbolic shadow variables* that enable us to capture the constraints. As we mentioned in the introduction, this particular method of execution where one tracks concrete  execution using symbolic variables is called *Concolic Execution*.\n",
    "\n",
    "How do we automate this process? One method is to use a similar infrastructure as that of the chapter on [information flow](InformationFlow.ipynb), and use the Python inheritance to create symbolic proxy objects that can track the concrete execution."
   ]
  },
  {
   "cell_type": "markdown",
   "metadata": {
    "slideshow": {
     "slide_type": "slide"
    },
    "tags": [],
    "toc-nb-collapsed": true
   },
   "source": [
    "## A Concolic Tracer\n",
    "\n",
    "Given that there is a symbolic context under which the program is executed (that is, the symbolic variables that are used in the program execution) we define a class `ConcolicTracer` that keeps track of the context.\n",
    "\n",
    "A `ConcolicTracer` is used in a `with` block, invoking functions through a `[]` item access:\n",
    "\n",
    "```python\n",
    "with ConcolicTracer as _:\n",
    "    _.[function](args, ...)\n",
    "```\n",
    "\n",
    "After execution, we can access the saved context in the `context` attribute:\n",
    "\n",
    "```python\n",
    "_.context\n",
    "```\n",
    "\n",
    "This gives us a pair containing the _declarations_ for the symbolic variables seen, and the _precondition paths), if any. If you read this for the first time, skip the implementation and head right to the examples."
   ]
  },
  {
   "cell_type": "markdown",
   "metadata": {
    "slideshow": {
     "slide_type": "subslide"
    }
   },
   "source": [
    "### Excursion: Implementing ConcolicTracer"
   ]
  },
  {
   "cell_type": "markdown",
   "metadata": {
    "slideshow": {
     "slide_type": "fragment"
    }
   },
   "source": [
    "The `ConcolicTracer` accepts a single `context` argument which contains the declarations for the symbolic variables seen so far, and the pre-conditions if any."
   ]
  },
  {
   "cell_type": "code",
   "execution_count": 31,
   "metadata": {
    "execution": {
     "iopub.execute_input": "2022-01-02T15:43:24.272436Z",
     "iopub.status.busy": "2022-01-02T15:43:24.271627Z",
     "iopub.status.idle": "2022-01-02T15:43:24.273547Z",
     "shell.execute_reply": "2022-01-02T15:43:24.274025Z"
    },
    "slideshow": {
     "slide_type": "fragment"
    }
   },
   "outputs": [],
   "source": [
    "class ConcolicTracer:\n",
    "    \"\"\"Trace function execution, tracking variables and path conditions\"\"\"\n",
    "\n",
    "    def __init__(self, context=None):\n",
    "        \"\"\"Constructor.\"\"\"\n",
    "        self.context = context if context is not None else ({}, [])\n",
    "        self.decls, self.path = self.context"
   ]
  },
  {
   "cell_type": "markdown",
   "metadata": {
    "slideshow": {
     "slide_type": "fragment"
    }
   },
   "source": [
    "We add the enter and exit methods for the `with` block."
   ]
  },
  {
   "cell_type": "code",
   "execution_count": 32,
   "metadata": {
    "execution": {
     "iopub.execute_input": "2022-01-02T15:43:24.278394Z",
     "iopub.status.busy": "2022-01-02T15:43:24.277763Z",
     "iopub.status.idle": "2022-01-02T15:43:24.280254Z",
     "shell.execute_reply": "2022-01-02T15:43:24.280753Z"
    },
    "slideshow": {
     "slide_type": "subslide"
    }
   },
   "outputs": [],
   "source": [
    "class ConcolicTracer(ConcolicTracer):\n",
    "    def __enter__(self):\n",
    "        return self\n",
    "\n",
    "    def __exit__(self, exc_type, exc_value, tb):\n",
    "        return"
   ]
  },
  {
   "cell_type": "markdown",
   "metadata": {
    "slideshow": {
     "slide_type": "fragment"
    }
   },
   "source": [
    "We use introspection to determine the arguments to the function, which is hooked into the `getitem()` method."
   ]
  },
  {
   "cell_type": "code",
   "execution_count": 33,
   "metadata": {
    "execution": {
     "iopub.execute_input": "2022-01-02T15:43:24.286653Z",
     "iopub.status.busy": "2022-01-02T15:43:24.286004Z",
     "iopub.status.idle": "2022-01-02T15:43:24.288301Z",
     "shell.execute_reply": "2022-01-02T15:43:24.288734Z"
    },
    "slideshow": {
     "slide_type": "fragment"
    }
   },
   "outputs": [],
   "source": [
    "class ConcolicTracer(ConcolicTracer):\n",
    "    def __getitem__(self, fn):\n",
    "        self.fn = fn\n",
    "        self.fn_args = {i: None for i in inspect.signature(fn).parameters}\n",
    "        return self"
   ]
  },
  {
   "cell_type": "markdown",
   "metadata": {
    "slideshow": {
     "slide_type": "fragment"
    }
   },
   "source": [
    "Finally, the function itself is invoked using the `call` method."
   ]
  },
  {
   "cell_type": "code",
   "execution_count": 34,
   "metadata": {
    "execution": {
     "iopub.execute_input": "2022-01-02T15:43:24.293256Z",
     "iopub.status.busy": "2022-01-02T15:43:24.292551Z",
     "iopub.status.idle": "2022-01-02T15:43:24.294696Z",
     "shell.execute_reply": "2022-01-02T15:43:24.295363Z"
    },
    "slideshow": {
     "slide_type": "subslide"
    }
   },
   "outputs": [],
   "source": [
    "class ConcolicTracer(ConcolicTracer):\n",
    "    def __call__(self, *args):\n",
    "        self.result = self.fn(*self.concolic(args))\n",
    "        return self.result"
   ]
  },
  {
   "cell_type": "markdown",
   "metadata": {
    "slideshow": {
     "slide_type": "fragment"
    }
   },
   "source": [
    "For now, we define `concolic()` as a transparent function. It will be modified to produce symbolic variables later."
   ]
  },
  {
   "cell_type": "code",
   "execution_count": 35,
   "metadata": {
    "execution": {
     "iopub.execute_input": "2022-01-02T15:43:24.301318Z",
     "iopub.status.busy": "2022-01-02T15:43:24.300085Z",
     "iopub.status.idle": "2022-01-02T15:43:24.303325Z",
     "shell.execute_reply": "2022-01-02T15:43:24.303954Z"
    },
    "slideshow": {
     "slide_type": "fragment"
    }
   },
   "outputs": [],
   "source": [
    "class ConcolicTracer(ConcolicTracer):\n",
    "    def concolic(self, args):\n",
    "        return args"
   ]
  },
  {
   "cell_type": "markdown",
   "metadata": {
    "slideshow": {
     "slide_type": "fragment"
    }
   },
   "source": [
    "It can be used as follows"
   ]
  },
  {
   "cell_type": "code",
   "execution_count": 36,
   "metadata": {
    "execution": {
     "iopub.execute_input": "2022-01-02T15:43:24.308371Z",
     "iopub.status.busy": "2022-01-02T15:43:24.307700Z",
     "iopub.status.idle": "2022-01-02T15:43:24.310233Z",
     "shell.execute_reply": "2022-01-02T15:43:24.310841Z"
    },
    "slideshow": {
     "slide_type": "fragment"
    }
   },
   "outputs": [],
   "source": [
    "with ConcolicTracer() as _:\n",
    "    _[factorial](1)"
   ]
  },
  {
   "cell_type": "code",
   "execution_count": 37,
   "metadata": {
    "execution": {
     "iopub.execute_input": "2022-01-02T15:43:24.316780Z",
     "iopub.status.busy": "2022-01-02T15:43:24.315786Z",
     "iopub.status.idle": "2022-01-02T15:43:24.319741Z",
     "shell.execute_reply": "2022-01-02T15:43:24.320243Z"
    },
    "slideshow": {
     "slide_type": "fragment"
    }
   },
   "outputs": [
    {
     "data": {
      "text/plain": [
       "({}, [])"
      ]
     },
     "execution_count": 37,
     "metadata": {},
     "output_type": "execute_result"
    }
   ],
   "source": [
    "_.context"
   ]
  },
  {
   "cell_type": "markdown",
   "metadata": {
    "slideshow": {
     "slide_type": "subslide"
    }
   },
   "source": [
    "The `context` is empty as we are yet to hook up the necessary infrastructure to `ConcolicTracer`."
   ]
  },
  {
   "cell_type": "markdown",
   "metadata": {
    "slideshow": {
     "slide_type": "subslide"
    },
    "toc-hr-collapsed": true
   },
   "source": [
    "#### Concolic Proxy Objects\n",
    "\n",
    "We now define the concolic proxy objects that can be used for concolic tracing. First, we define the `zproxy_create()` method that given a class name, correctly creates an instance of that class, and the symbolic corresponding variable, and registers the symbolic variable in the context information `context`."
   ]
  },
  {
   "cell_type": "code",
   "execution_count": 38,
   "metadata": {
    "execution": {
     "iopub.execute_input": "2022-01-02T15:43:24.325276Z",
     "iopub.status.busy": "2022-01-02T15:43:24.324487Z",
     "iopub.status.idle": "2022-01-02T15:43:24.326966Z",
     "shell.execute_reply": "2022-01-02T15:43:24.327697Z"
    },
    "slideshow": {
     "slide_type": "fragment"
    }
   },
   "outputs": [],
   "source": [
    "def zproxy_create(cls, sname, z3var, context, zn, v=None):\n",
    "    zv = cls(context, z3var(zn), v)\n",
    "    context[0][zn] = sname\n",
    "    return zv"
   ]
  },
  {
   "cell_type": "markdown",
   "metadata": {
    "slideshow": {
     "slide_type": "subslide"
    },
    "toc-hr-collapsed": false
   },
   "source": [
    "#### A Proxy Class for Booleans\n",
    "\n",
    "First, we define the `zbool` class which is used to track the predicates encountered. It is a wrapper class that contains both symbolic (`z`) as well as concrete (`v`) values. The concrete value is used to determine which path to take, and the symbolic value is used to collect the predicates encountered.\n",
    "\n",
    "The initialization is done in two parts. The first one is using `zproxy_create()` to correctly initialize and register the shadow symbolic variable corresponding to the passed argument. This is used exclusively when the symbolic variable needs to be initialized first. In all other cases, the constructor is called with the preexisting symbolic value."
   ]
  },
  {
   "cell_type": "code",
   "execution_count": 39,
   "metadata": {
    "execution": {
     "iopub.execute_input": "2022-01-02T15:43:24.336782Z",
     "iopub.status.busy": "2022-01-02T15:43:24.335729Z",
     "iopub.status.idle": "2022-01-02T15:43:24.338677Z",
     "shell.execute_reply": "2022-01-02T15:43:24.338127Z"
    },
    "slideshow": {
     "slide_type": "subslide"
    }
   },
   "outputs": [],
   "source": [
    "class zbool:\n",
    "    @classmethod\n",
    "    def create(cls, context, zn, v):\n",
    "        return zproxy_create(cls, 'Bool', z3.Bool, context, zn, v)\n",
    "\n",
    "    def __init__(self, context, z, v=None):\n",
    "        self.context, self.z, self.v = context, z, v\n",
    "        self.decl, self.path = self.context"
   ]
  },
  {
   "cell_type": "markdown",
   "metadata": {
    "slideshow": {
     "slide_type": "fragment"
    }
   },
   "source": [
    "Here is how it can be used."
   ]
  },
  {
   "cell_type": "code",
   "execution_count": 40,
   "metadata": {
    "execution": {
     "iopub.execute_input": "2022-01-02T15:43:24.343530Z",
     "iopub.status.busy": "2022-01-02T15:43:24.342949Z",
     "iopub.status.idle": "2022-01-02T15:43:24.347661Z",
     "shell.execute_reply": "2022-01-02T15:43:24.348182Z"
    },
    "slideshow": {
     "slide_type": "subslide"
    }
   },
   "outputs": [
    {
     "name": "stdout",
     "output_type": "stream",
     "text": [
      "my_bool_arg True\n"
     ]
    },
    {
     "data": {
      "text/plain": [
       "({'my_bool_arg': 'Bool'}, [])"
      ]
     },
     "execution_count": 40,
     "metadata": {},
     "output_type": "execute_result"
    }
   ],
   "source": [
    "with ConcolicTracer() as _:\n",
    "    za, zb = z3.Ints('a b')\n",
    "    val = zbool.create(_.context, 'my_bool_arg', True)\n",
    "    print(val.z, val.v)\n",
    "_.context"
   ]
  },
  {
   "cell_type": "markdown",
   "metadata": {
    "slideshow": {
     "slide_type": "subslide"
    }
   },
   "source": [
    "##### Negation of Encoded formula\n",
    "\n",
    "The `zbool` class allows negation of its concrete and symbolic values."
   ]
  },
  {
   "cell_type": "code",
   "execution_count": 41,
   "metadata": {
    "execution": {
     "iopub.execute_input": "2022-01-02T15:43:24.354129Z",
     "iopub.status.busy": "2022-01-02T15:43:24.353183Z",
     "iopub.status.idle": "2022-01-02T15:43:24.355153Z",
     "shell.execute_reply": "2022-01-02T15:43:24.356050Z"
    },
    "slideshow": {
     "slide_type": "fragment"
    }
   },
   "outputs": [],
   "source": [
    "class zbool(zbool):\n",
    "    def __not__(self):\n",
    "        return zbool(self.context, z3.Not(self.z), not self.v)"
   ]
  },
  {
   "cell_type": "markdown",
   "metadata": {
    "slideshow": {
     "slide_type": "fragment"
    }
   },
   "source": [
    "Here is how it can be used."
   ]
  },
  {
   "cell_type": "code",
   "execution_count": 42,
   "metadata": {
    "execution": {
     "iopub.execute_input": "2022-01-02T15:43:24.362288Z",
     "iopub.status.busy": "2022-01-02T15:43:24.361224Z",
     "iopub.status.idle": "2022-01-02T15:43:24.368166Z",
     "shell.execute_reply": "2022-01-02T15:43:24.368787Z"
    },
    "slideshow": {
     "slide_type": "fragment"
    }
   },
   "outputs": [
    {
     "name": "stdout",
     "output_type": "stream",
     "text": [
      "Not(my_bool_arg) False\n"
     ]
    },
    {
     "data": {
      "text/plain": [
       "({'my_bool_arg': 'Bool'}, [])"
      ]
     },
     "execution_count": 42,
     "metadata": {},
     "output_type": "execute_result"
    }
   ],
   "source": [
    "with ConcolicTracer() as _:\n",
    "    val = zbool.create(_.context, 'my_bool_arg', True).__not__()\n",
    "    print(val.z, val.v)\n",
    "_.context"
   ]
  },
  {
   "cell_type": "markdown",
   "metadata": {
    "slideshow": {
     "slide_type": "subslide"
    }
   },
   "source": [
    "##### Registering Predicates on Conditionals\n",
    "\n",
    "The `zbool` class is being used to track boolean conditions that arise during program execution. It tracks such conditions by registering the corresponding symbolic expressions in the context."
   ]
  },
  {
   "cell_type": "code",
   "execution_count": 43,
   "metadata": {
    "execution": {
     "iopub.execute_input": "2022-01-02T15:43:24.373985Z",
     "iopub.status.busy": "2022-01-02T15:43:24.373327Z",
     "iopub.status.idle": "2022-01-02T15:43:24.375249Z",
     "shell.execute_reply": "2022-01-02T15:43:24.375850Z"
    },
    "slideshow": {
     "slide_type": "fragment"
    }
   },
   "outputs": [],
   "source": [
    "class zbool(zbool):\n",
    "    def __bool__(self):\n",
    "        r, pred = (True, self.z) if self.v else (False, z3.Not(self.z))\n",
    "        self.path.append(pred)\n",
    "        return r"
   ]
  },
  {
   "cell_type": "markdown",
   "metadata": {
    "slideshow": {
     "slide_type": "fragment"
    }
   },
   "source": [
    "The `zbool` class can be used to keep track of boolean values and conditions encountered during the execution. For example, we can encode the conditions encountered by line 6 in `factorial()` as follows:"
   ]
  },
  {
   "cell_type": "markdown",
   "metadata": {
    "slideshow": {
     "slide_type": "subslide"
    }
   },
   "source": [
    "First, we define the concrete value (`ca`), and its shadow symbolic variable (`za`)."
   ]
  },
  {
   "cell_type": "code",
   "execution_count": 44,
   "metadata": {
    "execution": {
     "iopub.execute_input": "2022-01-02T15:43:24.381434Z",
     "iopub.status.busy": "2022-01-02T15:43:24.380382Z",
     "iopub.status.idle": "2022-01-02T15:43:24.383112Z",
     "shell.execute_reply": "2022-01-02T15:43:24.384066Z"
    },
    "slideshow": {
     "slide_type": "fragment"
    }
   },
   "outputs": [],
   "source": [
    "ca = 5\n",
    "za = z3.Int('a')"
   ]
  },
  {
   "cell_type": "markdown",
   "metadata": {
    "slideshow": {
     "slide_type": "fragment"
    }
   },
   "source": [
    "Then, we wrap it in `zbool`, and use it in a conditional, forcing the conditional to be registered in the context."
   ]
  },
  {
   "cell_type": "code",
   "execution_count": 45,
   "metadata": {
    "execution": {
     "iopub.execute_input": "2022-01-02T15:43:24.390974Z",
     "iopub.status.busy": "2022-01-02T15:43:24.389947Z",
     "iopub.status.idle": "2022-01-02T15:43:24.394179Z",
     "shell.execute_reply": "2022-01-02T15:43:24.394900Z"
    },
    "slideshow": {
     "slide_type": "fragment"
    }
   },
   "outputs": [
    {
     "name": "stdout",
     "output_type": "stream",
     "text": [
      "success\n"
     ]
    }
   ],
   "source": [
    "with ConcolicTracer() as _:\n",
    "    if zbool(_.context, za == z3.IntVal(5), ca == 5):\n",
    "        print('success')"
   ]
  },
  {
   "cell_type": "markdown",
   "metadata": {
    "slideshow": {
     "slide_type": "fragment"
    }
   },
   "source": [
    "We can retrieve the registered conditional as follows."
   ]
  },
  {
   "cell_type": "code",
   "execution_count": 46,
   "metadata": {
    "execution": {
     "iopub.execute_input": "2022-01-02T15:43:24.402237Z",
     "iopub.status.busy": "2022-01-02T15:43:24.400922Z",
     "iopub.status.idle": "2022-01-02T15:43:24.406902Z",
     "shell.execute_reply": "2022-01-02T15:43:24.407451Z"
    },
    "slideshow": {
     "slide_type": "fragment"
    }
   },
   "outputs": [
    {
     "data": {
      "text/plain": [
       "[5 == a]"
      ]
     },
     "execution_count": 46,
     "metadata": {},
     "output_type": "execute_result"
    }
   ],
   "source": [
    "_.path"
   ]
  },
  {
   "cell_type": "markdown",
   "metadata": {
    "slideshow": {
     "slide_type": "subslide"
    },
    "toc-hr-collapsed": false
   },
   "source": [
    "#### A Proxy Class for Integers"
   ]
  },
  {
   "cell_type": "markdown",
   "metadata": {
    "slideshow": {
     "slide_type": "fragment"
    }
   },
   "source": [
    "Next, we define a symbolic wrapper `zint` for `int`.\n",
    "This class keeps track of the `int` variables used and the predicates encountered in `context`. Finally, it also keeps the concrete value so that it can be used to determine the path to take. As the `zint` extends the primitive `int` class, we have to define a _new_ method to open it for extension."
   ]
  },
  {
   "cell_type": "code",
   "execution_count": 47,
   "metadata": {
    "execution": {
     "iopub.execute_input": "2022-01-02T15:43:24.413189Z",
     "iopub.status.busy": "2022-01-02T15:43:24.412255Z",
     "iopub.status.idle": "2022-01-02T15:43:24.416092Z",
     "shell.execute_reply": "2022-01-02T15:43:24.415347Z"
    },
    "slideshow": {
     "slide_type": "fragment"
    }
   },
   "outputs": [],
   "source": [
    "class zint(int):\n",
    "    def __new__(cls, context, zn, v, *args, **kw):\n",
    "        return int.__new__(cls, v, *args, **kw)"
   ]
  },
  {
   "cell_type": "markdown",
   "metadata": {
    "slideshow": {
     "slide_type": "fragment"
    }
   },
   "source": [
    "As in the case of `zbool`, the initialization takes place in two parts. The first using `create()` if a new symbolic argument is being registered, and then the usual initialization."
   ]
  },
  {
   "cell_type": "code",
   "execution_count": 48,
   "metadata": {
    "execution": {
     "iopub.execute_input": "2022-01-02T15:43:24.424483Z",
     "iopub.status.busy": "2022-01-02T15:43:24.423403Z",
     "iopub.status.idle": "2022-01-02T15:43:24.426022Z",
     "shell.execute_reply": "2022-01-02T15:43:24.426873Z"
    },
    "slideshow": {
     "slide_type": "subslide"
    }
   },
   "outputs": [],
   "source": [
    "class zint(zint):\n",
    "    @classmethod\n",
    "    def create(cls, context, zn, v=None):\n",
    "        return zproxy_create(cls, 'Int', z3.Int, context, zn, v)\n",
    "\n",
    "    def __init__(self, context, z, v=None):\n",
    "        self.z, self.v = z, v\n",
    "        self.context = context"
   ]
  },
  {
   "cell_type": "markdown",
   "metadata": {
    "slideshow": {
     "slide_type": "fragment"
    }
   },
   "source": [
    "The `int` value of a `zint` object is its concrete value."
   ]
  },
  {
   "cell_type": "code",
   "execution_count": 49,
   "metadata": {
    "execution": {
     "iopub.execute_input": "2022-01-02T15:43:24.434078Z",
     "iopub.status.busy": "2022-01-02T15:43:24.432870Z",
     "iopub.status.idle": "2022-01-02T15:43:24.435933Z",
     "shell.execute_reply": "2022-01-02T15:43:24.436734Z"
    },
    "slideshow": {
     "slide_type": "fragment"
    }
   },
   "outputs": [],
   "source": [
    "class zint(zint):\n",
    "    def __int__(self):\n",
    "        return self.v\n",
    "\n",
    "    def __pos__(self):\n",
    "        return self.v"
   ]
  },
  {
   "cell_type": "markdown",
   "metadata": {
    "slideshow": {
     "slide_type": "subslide"
    }
   },
   "source": [
    "Using these proxies is as follows."
   ]
  },
  {
   "cell_type": "code",
   "execution_count": 50,
   "metadata": {
    "execution": {
     "iopub.execute_input": "2022-01-02T15:43:24.444121Z",
     "iopub.status.busy": "2022-01-02T15:43:24.442747Z",
     "iopub.status.idle": "2022-01-02T15:43:24.450783Z",
     "shell.execute_reply": "2022-01-02T15:43:24.451800Z"
    },
    "slideshow": {
     "slide_type": "fragment"
    }
   },
   "outputs": [
    {
     "name": "stdout",
     "output_type": "stream",
     "text": [
      "int_arg 0\n"
     ]
    },
    {
     "data": {
      "text/plain": [
       "({'int_arg': 'Int'}, [])"
      ]
     },
     "execution_count": 50,
     "metadata": {},
     "output_type": "execute_result"
    }
   ],
   "source": [
    "with ConcolicTracer() as _:\n",
    "    val = zint.create(_.context, 'int_arg', 0)\n",
    "    print(val.z, val.v)\n",
    "_.context"
   ]
  },
  {
   "cell_type": "markdown",
   "metadata": {
    "slideshow": {
     "slide_type": "fragment"
    }
   },
   "source": [
    "The `zint` class is often used to do arithmetic with, or compare to other `int`s. These `int`s can be either a variable or a constant value. We define a helper method `_zv()` that checks what kind of `int` a given value is, and produces the correct symbolic equivalent."
   ]
  },
  {
   "cell_type": "code",
   "execution_count": 51,
   "metadata": {
    "execution": {
     "iopub.execute_input": "2022-01-02T15:43:24.458832Z",
     "iopub.status.busy": "2022-01-02T15:43:24.457668Z",
     "iopub.status.idle": "2022-01-02T15:43:24.460595Z",
     "shell.execute_reply": "2022-01-02T15:43:24.461523Z"
    },
    "slideshow": {
     "slide_type": "fragment"
    }
   },
   "outputs": [],
   "source": [
    "class zint(zint):\n",
    "    def _zv(self, o):\n",
    "        return (o.z, o.v) if isinstance(o, zint) else (z3.IntVal(o), o)"
   ]
  },
  {
   "cell_type": "markdown",
   "metadata": {
    "slideshow": {
     "slide_type": "subslide"
    }
   },
   "source": [
    "It can be used as follows"
   ]
  },
  {
   "cell_type": "code",
   "execution_count": 52,
   "metadata": {
    "execution": {
     "iopub.execute_input": "2022-01-02T15:43:24.468366Z",
     "iopub.status.busy": "2022-01-02T15:43:24.467058Z",
     "iopub.status.idle": "2022-01-02T15:43:24.472158Z",
     "shell.execute_reply": "2022-01-02T15:43:24.472621Z"
    },
    "slideshow": {
     "slide_type": "fragment"
    }
   },
   "outputs": [
    {
     "name": "stdout",
     "output_type": "stream",
     "text": [
      "(0, 0)\n",
      "(int_arg, 0)\n"
     ]
    }
   ],
   "source": [
    "with ConcolicTracer() as _:\n",
    "    val = zint.create(_.context, 'int_arg', 0)\n",
    "    print(val._zv(0))\n",
    "    print(val._zv(val))"
   ]
  },
  {
   "cell_type": "markdown",
   "metadata": {
    "slideshow": {
     "slide_type": "subslide"
    }
   },
   "source": [
    "##### Equality between Integers\n",
    "\n",
    "Two integers can be compared for equality using _ne_ and _eq_."
   ]
  },
  {
   "cell_type": "code",
   "execution_count": 53,
   "metadata": {
    "execution": {
     "iopub.execute_input": "2022-01-02T15:43:24.479871Z",
     "iopub.status.busy": "2022-01-02T15:43:24.478755Z",
     "iopub.status.idle": "2022-01-02T15:43:24.481821Z",
     "shell.execute_reply": "2022-01-02T15:43:24.481113Z"
    },
    "slideshow": {
     "slide_type": "fragment"
    }
   },
   "outputs": [],
   "source": [
    "class zint(zint):\n",
    "    def __ne__(self, other):\n",
    "        z, v = self._zv(other)\n",
    "        return zbool(self.context, self.z != z, self.v != v)\n",
    "\n",
    "    def __eq__(self, other):\n",
    "        z, v = self._zv(other)\n",
    "        return zbool(self.context, self.z == z, self.v == v)"
   ]
  },
  {
   "cell_type": "markdown",
   "metadata": {
    "slideshow": {
     "slide_type": "fragment"
    }
   },
   "source": [
    " We also define _req_ using _eq_ in case the int being compared is on the left hand side."
   ]
  },
  {
   "cell_type": "code",
   "execution_count": 54,
   "metadata": {
    "execution": {
     "iopub.execute_input": "2022-01-02T15:43:24.487295Z",
     "iopub.status.busy": "2022-01-02T15:43:24.486685Z",
     "iopub.status.idle": "2022-01-02T15:43:24.489247Z",
     "shell.execute_reply": "2022-01-02T15:43:24.488675Z"
    },
    "slideshow": {
     "slide_type": "subslide"
    }
   },
   "outputs": [],
   "source": [
    "class zint(zint):\n",
    "    def __req__(self, other):\n",
    "        return self.__eq__(other)"
   ]
  },
  {
   "cell_type": "markdown",
   "metadata": {
    "slideshow": {
     "slide_type": "fragment"
    }
   },
   "source": [
    "It can be used as follows."
   ]
  },
  {
   "cell_type": "code",
   "execution_count": 55,
   "metadata": {
    "execution": {
     "iopub.execute_input": "2022-01-02T15:43:24.494586Z",
     "iopub.status.busy": "2022-01-02T15:43:24.493721Z",
     "iopub.status.idle": "2022-01-02T15:43:24.501065Z",
     "shell.execute_reply": "2022-01-02T15:43:24.501504Z"
    },
    "slideshow": {
     "slide_type": "fragment"
    }
   },
   "outputs": [
    {
     "name": "stdout",
     "output_type": "stream",
     "text": [
      "int_a == int_b int_a != int_b 0 != int_b\n"
     ]
    }
   ],
   "source": [
    "with ConcolicTracer() as _:\n",
    "    ia = zint.create(_.context, 'int_a', 0)\n",
    "    ib = zint.create(_.context, 'int_b', 0)\n",
    "    v1 = ia == ib\n",
    "    v2 = ia != ib\n",
    "    v3 = 0 != ib\n",
    "    print(v1.z, v2.z, v3.z)"
   ]
  },
  {
   "cell_type": "markdown",
   "metadata": {
    "slideshow": {
     "slide_type": "subslide"
    }
   },
   "source": [
    "##### Comparisons between Integers\n",
    "\n",
    "Integers can also be compared for ordering, and the methods for this are defined below."
   ]
  },
  {
   "cell_type": "code",
   "execution_count": 56,
   "metadata": {
    "execution": {
     "iopub.execute_input": "2022-01-02T15:43:24.507775Z",
     "iopub.status.busy": "2022-01-02T15:43:24.506860Z",
     "iopub.status.idle": "2022-01-02T15:43:24.510360Z",
     "shell.execute_reply": "2022-01-02T15:43:24.510925Z"
    },
    "slideshow": {
     "slide_type": "fragment"
    }
   },
   "outputs": [],
   "source": [
    "class zint(zint):\n",
    "    def __lt__(self, other):\n",
    "        z, v = self._zv(other)\n",
    "        return zbool(self.context, self.z < z, self.v < v)\n",
    "\n",
    "    def __gt__(self, other):\n",
    "        z, v = self._zv(other)\n",
    "        return zbool(self.context, self.z > z, self.v > v)"
   ]
  },
  {
   "cell_type": "markdown",
   "metadata": {
    "slideshow": {
     "slide_type": "fragment"
    }
   },
   "source": [
    "We use the comparisons and equality operators to provide the other missing operators."
   ]
  },
  {
   "cell_type": "code",
   "execution_count": 57,
   "metadata": {
    "execution": {
     "iopub.execute_input": "2022-01-02T15:43:24.519967Z",
     "iopub.status.busy": "2022-01-02T15:43:24.518819Z",
     "iopub.status.idle": "2022-01-02T15:43:24.521513Z",
     "shell.execute_reply": "2022-01-02T15:43:24.522321Z"
    },
    "slideshow": {
     "slide_type": "subslide"
    }
   },
   "outputs": [],
   "source": [
    "class zint(zint):\n",
    "    def __le__(self, other):\n",
    "        z, v = self._zv(other)\n",
    "        return zbool(self.context, z3.Or(self.z < z, self.z == z),\n",
    "                     self.v < v or self.v == v)\n",
    "\n",
    "    def __ge__(self, other):\n",
    "        z, v = self._zv(other)\n",
    "        return zbool(self.context, z3.Or(self.z > z, self.z == z),\n",
    "                     self.v > v or self.v == v)"
   ]
  },
  {
   "cell_type": "markdown",
   "metadata": {
    "slideshow": {
     "slide_type": "fragment"
    }
   },
   "source": [
    "These functions can be used as follows."
   ]
  },
  {
   "cell_type": "code",
   "execution_count": 58,
   "metadata": {
    "execution": {
     "iopub.execute_input": "2022-01-02T15:43:24.530911Z",
     "iopub.status.busy": "2022-01-02T15:43:24.529848Z",
     "iopub.status.idle": "2022-01-02T15:43:24.542448Z",
     "shell.execute_reply": "2022-01-02T15:43:24.543108Z"
    },
    "slideshow": {
     "slide_type": "subslide"
    }
   },
   "outputs": [
    {
     "name": "stdout",
     "output_type": "stream",
     "text": [
      "int_a > int_b int_a < int_b\n",
      "Or(int_a > int_b, int_a == int_b) Or(int_a < int_b, int_a == int_b)\n"
     ]
    }
   ],
   "source": [
    "with ConcolicTracer() as _:\n",
    "    ia = zint.create(_.context, 'int_a', 0)\n",
    "    ib = zint.create(_.context, 'int_b', 1)\n",
    "    v1 = ia > ib\n",
    "    v2 = ia < ib\n",
    "    print(v1.z, v2.z)\n",
    "    v3 = ia >= ib\n",
    "    v4 = ia <= ib\n",
    "    print(v3.z, v4.z)"
   ]
  },
  {
   "cell_type": "markdown",
   "metadata": {
    "slideshow": {
     "slide_type": "subslide"
    }
   },
   "source": [
    "##### Binary Operators for Integers\n",
    "\n",
    "We implement relevant arithmetic operators for integers as described in the [Python documentation](https://docs.python.org/3/reference/datamodel.html#object.__add__). (The commented out operators are not directly available for `z3.ArithRef`. They need to be implemented separately if needed. See the exercises for how it can be done.)"
   ]
  },
  {
   "cell_type": "code",
   "execution_count": 59,
   "metadata": {
    "execution": {
     "iopub.execute_input": "2022-01-02T15:43:24.550907Z",
     "iopub.status.busy": "2022-01-02T15:43:24.549410Z",
     "iopub.status.idle": "2022-01-02T15:43:24.553038Z",
     "shell.execute_reply": "2022-01-02T15:43:24.553900Z"
    },
    "slideshow": {
     "slide_type": "subslide"
    }
   },
   "outputs": [],
   "source": [
    "INT_BINARY_OPS = [\n",
    "    '__add__',\n",
    "    '__sub__',\n",
    "    '__mul__',\n",
    "    '__truediv__',\n",
    "    # '__div__',\n",
    "    '__mod__',\n",
    "    # '__divmod__',\n",
    "    '__pow__',\n",
    "    # '__lshift__',\n",
    "    # '__rshift__',\n",
    "    # '__and__',\n",
    "    # '__xor__',\n",
    "    # '__or__',\n",
    "    '__radd__',\n",
    "    '__rsub__',\n",
    "    '__rmul__',\n",
    "    '__rtruediv__',\n",
    "    # '__rdiv__',\n",
    "    '__rmod__',\n",
    "    # '__rdivmod__',\n",
    "    '__rpow__',\n",
    "    # '__rlshift__',\n",
    "    # '__rrshift__',\n",
    "    # '__rand__',\n",
    "    # '__rxor__',\n",
    "    # '__ror__',\n",
    "]"
   ]
  },
  {
   "cell_type": "code",
   "execution_count": 60,
   "metadata": {
    "execution": {
     "iopub.execute_input": "2022-01-02T15:43:24.562258Z",
     "iopub.status.busy": "2022-01-02T15:43:24.561105Z",
     "iopub.status.idle": "2022-01-02T15:43:24.563620Z",
     "shell.execute_reply": "2022-01-02T15:43:24.564913Z"
    },
    "slideshow": {
     "slide_type": "subslide"
    }
   },
   "outputs": [],
   "source": [
    "def make_int_binary_wrapper(fname, fun, zfun):  # type: ignore\n",
    "    def proxy(self, other):\n",
    "        z, v = self._zv(other)\n",
    "        z_ = zfun(self.z, z)\n",
    "        v_ = fun(self.v, v)\n",
    "        if isinstance(v_, float):\n",
    "            # we do not implement float results yet.\n",
    "            assert round(v_) == v_\n",
    "            v_ = round(v_)\n",
    "        return zint(self.context, z_, v_)\n",
    "\n",
    "    return proxy"
   ]
  },
  {
   "cell_type": "code",
   "execution_count": 61,
   "metadata": {
    "execution": {
     "iopub.execute_input": "2022-01-02T15:43:24.570830Z",
     "iopub.status.busy": "2022-01-02T15:43:24.570155Z",
     "iopub.status.idle": "2022-01-02T15:43:24.572176Z",
     "shell.execute_reply": "2022-01-02T15:43:24.572616Z"
    },
    "slideshow": {
     "slide_type": "fragment"
    }
   },
   "outputs": [],
   "source": [
    "INITIALIZER_LIST: List[Callable] = []"
   ]
  },
  {
   "cell_type": "code",
   "execution_count": 62,
   "metadata": {
    "execution": {
     "iopub.execute_input": "2022-01-02T15:43:24.577782Z",
     "iopub.status.busy": "2022-01-02T15:43:24.576799Z",
     "iopub.status.idle": "2022-01-02T15:43:24.580734Z",
     "shell.execute_reply": "2022-01-02T15:43:24.579752Z"
    },
    "slideshow": {
     "slide_type": "subslide"
    }
   },
   "outputs": [],
   "source": [
    "def initialize():\n",
    "    for fn in INITIALIZER_LIST:\n",
    "        fn()"
   ]
  },
  {
   "cell_type": "code",
   "execution_count": 63,
   "metadata": {
    "execution": {
     "iopub.execute_input": "2022-01-02T15:43:24.587970Z",
     "iopub.status.busy": "2022-01-02T15:43:24.586859Z",
     "iopub.status.idle": "2022-01-02T15:43:24.589642Z",
     "shell.execute_reply": "2022-01-02T15:43:24.590120Z"
    },
    "slideshow": {
     "slide_type": "fragment"
    }
   },
   "outputs": [],
   "source": [
    "def init_concolic_1():\n",
    "    for fname in INT_BINARY_OPS:\n",
    "        fun = getattr(int, fname)\n",
    "        zfun = getattr(z3.ArithRef, fname)\n",
    "        setattr(zint, fname, make_int_binary_wrapper(fname, fun, zfun))"
   ]
  },
  {
   "cell_type": "code",
   "execution_count": 64,
   "metadata": {
    "execution": {
     "iopub.execute_input": "2022-01-02T15:43:24.594131Z",
     "iopub.status.busy": "2022-01-02T15:43:24.593386Z",
     "iopub.status.idle": "2022-01-02T15:43:24.595624Z",
     "shell.execute_reply": "2022-01-02T15:43:24.596203Z"
    },
    "slideshow": {
     "slide_type": "fragment"
    }
   },
   "outputs": [],
   "source": [
    "INITIALIZER_LIST.append(init_concolic_1)"
   ]
  },
  {
   "cell_type": "code",
   "execution_count": 65,
   "metadata": {
    "execution": {
     "iopub.execute_input": "2022-01-02T15:43:24.601603Z",
     "iopub.status.busy": "2022-01-02T15:43:24.600647Z",
     "iopub.status.idle": "2022-01-02T15:43:24.603066Z",
     "shell.execute_reply": "2022-01-02T15:43:24.603942Z"
    },
    "slideshow": {
     "slide_type": "fragment"
    }
   },
   "outputs": [],
   "source": [
    "init_concolic_1()"
   ]
  },
  {
   "cell_type": "code",
   "execution_count": 66,
   "metadata": {
    "execution": {
     "iopub.execute_input": "2022-01-02T15:43:24.609914Z",
     "iopub.status.busy": "2022-01-02T15:43:24.609209Z",
     "iopub.status.idle": "2022-01-02T15:43:24.622086Z",
     "shell.execute_reply": "2022-01-02T15:43:24.622522Z"
    },
    "slideshow": {
     "slide_type": "subslide"
    }
   },
   "outputs": [
    {
     "name": "stdout",
     "output_type": "stream",
     "text": [
      "int_a + int_b\n",
      "int_a + 10\n",
      "11 + int_b\n",
      "int_a - int_b\n",
      "int_a*int_b\n",
      "int_a/int_b\n",
      "int_a**int_b\n"
     ]
    }
   ],
   "source": [
    "with ConcolicTracer() as _:\n",
    "    ia = zint.create(_.context, 'int_a', 0)\n",
    "    ib = zint.create(_.context, 'int_b', 1)\n",
    "    print((ia + ib).z)\n",
    "    print((ia + 10).z)\n",
    "    print((11 + ib).z)\n",
    "    print((ia - ib).z)\n",
    "    print((ia * ib).z)\n",
    "    print((ia / ib).z)\n",
    "    print((ia ** ib).z)"
   ]
  },
  {
   "cell_type": "markdown",
   "metadata": {
    "slideshow": {
     "slide_type": "subslide"
    }
   },
   "source": [
    "##### Integer Unary Operators\n",
    "\n",
    "We also implement the relevant unary operators as below."
   ]
  },
  {
   "cell_type": "code",
   "execution_count": 67,
   "metadata": {
    "execution": {
     "iopub.execute_input": "2022-01-02T15:43:24.626595Z",
     "iopub.status.busy": "2022-01-02T15:43:24.626013Z",
     "iopub.status.idle": "2022-01-02T15:43:24.628541Z",
     "shell.execute_reply": "2022-01-02T15:43:24.627960Z"
    },
    "slideshow": {
     "slide_type": "fragment"
    }
   },
   "outputs": [],
   "source": [
    "INT_UNARY_OPS = [\n",
    "    '__neg__',\n",
    "    '__pos__',\n",
    "    # '__abs__',\n",
    "    # '__invert__',\n",
    "    # '__round__',\n",
    "    # '__ceil__',\n",
    "    # '__floor__',\n",
    "    # '__trunc__',\n",
    "]"
   ]
  },
  {
   "cell_type": "code",
   "execution_count": 68,
   "metadata": {
    "execution": {
     "iopub.execute_input": "2022-01-02T15:43:24.634978Z",
     "iopub.status.busy": "2022-01-02T15:43:24.633965Z",
     "iopub.status.idle": "2022-01-02T15:43:24.636475Z",
     "shell.execute_reply": "2022-01-02T15:43:24.637097Z"
    },
    "slideshow": {
     "slide_type": "subslide"
    }
   },
   "outputs": [],
   "source": [
    "def make_int_unary_wrapper(fname, fun, zfun):\n",
    "    def proxy(self):\n",
    "        return zint(self.context, zfun(self.z), fun(self.v))\n",
    "\n",
    "    return proxy"
   ]
  },
  {
   "cell_type": "code",
   "execution_count": 69,
   "metadata": {
    "execution": {
     "iopub.execute_input": "2022-01-02T15:43:24.641667Z",
     "iopub.status.busy": "2022-01-02T15:43:24.641080Z",
     "iopub.status.idle": "2022-01-02T15:43:24.643038Z",
     "shell.execute_reply": "2022-01-02T15:43:24.643497Z"
    },
    "slideshow": {
     "slide_type": "fragment"
    }
   },
   "outputs": [],
   "source": [
    "def init_concolic_2():\n",
    "    for fname in INT_UNARY_OPS:\n",
    "        fun = getattr(int, fname)\n",
    "        zfun = getattr(z3.ArithRef, fname)\n",
    "        setattr(zint, fname, make_int_unary_wrapper(fname, fun, zfun))"
   ]
  },
  {
   "cell_type": "code",
   "execution_count": 70,
   "metadata": {
    "execution": {
     "iopub.execute_input": "2022-01-02T15:43:24.649013Z",
     "iopub.status.busy": "2022-01-02T15:43:24.648007Z",
     "iopub.status.idle": "2022-01-02T15:43:24.650916Z",
     "shell.execute_reply": "2022-01-02T15:43:24.651771Z"
    },
    "slideshow": {
     "slide_type": "fragment"
    }
   },
   "outputs": [],
   "source": [
    "INITIALIZER_LIST.append(init_concolic_2)"
   ]
  },
  {
   "cell_type": "code",
   "execution_count": 71,
   "metadata": {
    "execution": {
     "iopub.execute_input": "2022-01-02T15:43:24.656694Z",
     "iopub.status.busy": "2022-01-02T15:43:24.655698Z",
     "iopub.status.idle": "2022-01-02T15:43:24.657915Z",
     "shell.execute_reply": "2022-01-02T15:43:24.658337Z"
    },
    "slideshow": {
     "slide_type": "fragment"
    }
   },
   "outputs": [],
   "source": [
    "init_concolic_2()"
   ]
  },
  {
   "cell_type": "markdown",
   "metadata": {
    "slideshow": {
     "slide_type": "fragment"
    }
   },
   "source": [
    "We can use the unary operators we defined above as follows:"
   ]
  },
  {
   "cell_type": "code",
   "execution_count": 72,
   "metadata": {
    "execution": {
     "iopub.execute_input": "2022-01-02T15:43:24.664526Z",
     "iopub.status.busy": "2022-01-02T15:43:24.662775Z",
     "iopub.status.idle": "2022-01-02T15:43:24.667923Z",
     "shell.execute_reply": "2022-01-02T15:43:24.668550Z"
    },
    "slideshow": {
     "slide_type": "subslide"
    }
   },
   "outputs": [
    {
     "name": "stdout",
     "output_type": "stream",
     "text": [
      "-int_a\n",
      "int_a\n"
     ]
    }
   ],
   "source": [
    "with ConcolicTracer() as _:\n",
    "    ia = zint.create(_.context, 'int_a', 0)\n",
    "    print((-ia).z)\n",
    "    print((+ia).z)"
   ]
  },
  {
   "cell_type": "markdown",
   "metadata": {
    "slideshow": {
     "slide_type": "subslide"
    }
   },
   "source": [
    "##### Using an Integer in a Boolean Context\n",
    "\n",
    "An integer may be converted to a boolean context in conditionals or as part of boolean predicates such as `or`, `and` and `not`. In these cases, the `__bool__()` method gets called. Unfortunately, this method requires a primitive boolean value. Hence, we force the current integer formula to a boolean predicate and register it in the current context."
   ]
  },
  {
   "cell_type": "code",
   "execution_count": 73,
   "metadata": {
    "execution": {
     "iopub.execute_input": "2022-01-02T15:43:24.673574Z",
     "iopub.status.busy": "2022-01-02T15:43:24.672867Z",
     "iopub.status.idle": "2022-01-02T15:43:24.674885Z",
     "shell.execute_reply": "2022-01-02T15:43:24.675470Z"
    },
    "slideshow": {
     "slide_type": "fragment"
    }
   },
   "outputs": [],
   "source": [
    "class zint(zint):\n",
    "    def __bool__(self):\n",
    "        # return zbool(self.context, self.z, self.v) <-- not allowed\n",
    "        # force registering boolean condition\n",
    "        if self != 0:\n",
    "            return True\n",
    "        return False"
   ]
  },
  {
   "cell_type": "markdown",
   "metadata": {
    "slideshow": {
     "slide_type": "subslide"
    }
   },
   "source": [
    "It is used as follows"
   ]
  },
  {
   "cell_type": "code",
   "execution_count": 74,
   "metadata": {
    "execution": {
     "iopub.execute_input": "2022-01-02T15:43:24.684482Z",
     "iopub.status.busy": "2022-01-02T15:43:24.682255Z",
     "iopub.status.idle": "2022-01-02T15:43:24.687362Z",
     "shell.execute_reply": "2022-01-02T15:43:24.687926Z"
    },
    "slideshow": {
     "slide_type": "fragment"
    }
   },
   "outputs": [],
   "source": [
    "with ConcolicTracer() as _:\n",
    "    za = zint.create(_.context, 'int_a', 1)\n",
    "    zb = zint.create(_.context, 'int_b', 0)\n",
    "    if za and zb:\n",
    "        print(1)"
   ]
  },
  {
   "cell_type": "code",
   "execution_count": 75,
   "metadata": {
    "execution": {
     "iopub.execute_input": "2022-01-02T15:43:24.693367Z",
     "iopub.status.busy": "2022-01-02T15:43:24.692440Z",
     "iopub.status.idle": "2022-01-02T15:43:24.699126Z",
     "shell.execute_reply": "2022-01-02T15:43:24.698457Z"
    },
    "slideshow": {
     "slide_type": "fragment"
    }
   },
   "outputs": [
    {
     "data": {
      "text/plain": [
       "({'int_a': 'Int', 'int_b': 'Int'}, [0 != int_a, Not(0 != int_b)])"
      ]
     },
     "execution_count": 75,
     "metadata": {},
     "output_type": "execute_result"
    }
   ],
   "source": [
    "_.context"
   ]
  },
  {
   "cell_type": "markdown",
   "metadata": {
    "slideshow": {
     "slide_type": "subslide"
    },
    "toc-hr-collapsed": true
   },
   "source": [
    "#### Remaining Methods of the  ConcolicTracer\n",
    "\n",
    "We now complete some of the methods of the `ConcolicTracer`."
   ]
  },
  {
   "cell_type": "markdown",
   "metadata": {
    "slideshow": {
     "slide_type": "subslide"
    }
   },
   "source": [
    "##### Translating to the SMT Expression Format\n",
    "\n",
    "Given that we are using an SMT Solver z3, it is often useful to retrieve the corresponding SMT expression for a symbolic expression. This can be used as an argument to `z3` or other SMT solvers.\n",
    "\n",
    "The format of the SMT expression ([SMT-LIB](http://smtlib.github.io/jSMTLIB/SMTLIBTutorial.pdf)) is as follows:\n",
    "\n",
    "* Variables declarations in [S-EXP](https://en.wikipedia.org/wiki/S-expression) format.\n",
    "  E.g. The following declares a symbolic integer variable `x`\n",
    "```\n",
    "(declare-const x Int)\n",
    "```\n",
    " This declares a `bit vector` `b` of length `8`\n",
    "```\n",
    "(declare-const b (_ BitVec 8))\n",
    "```\n",
    " This declares a symbolic real variable `r`\n",
    "```\n",
    "(declare-const x Real)\n",
    "```\n",
    " This declares a symbolic string variable `s`\n",
    "```\n",
    "(declare-const s String)\n",
    "```\n",
    "\n",
    "The declared variables can be used in logical formulas that are encoded in *S-EXP* format. For example, here is a logical formula.\n",
    "\n",
    "```\n",
    "(assert\n",
    "    (and\n",
    "        (= a b)\n",
    "        (= a c)\n",
    "        (! b c)))\n",
    "```\n",
    "Here is another example, using string variables.\n",
    "\n",
    "```\n",
    "(or (< 0 (str.indexof (str.substr my_str1 7 19) \" where \" 0))\n",
    "    (= (str.indexof (str.substr my_str1 7 19) \" where \" 0) 0))\n",
    "```\n"
   ]
  },
  {
   "cell_type": "code",
   "execution_count": 76,
   "metadata": {
    "execution": {
     "iopub.execute_input": "2022-01-02T15:43:24.710291Z",
     "iopub.status.busy": "2022-01-02T15:43:24.709461Z",
     "iopub.status.idle": "2022-01-02T15:43:24.712938Z",
     "shell.execute_reply": "2022-01-02T15:43:24.712143Z"
    },
    "slideshow": {
     "slide_type": "subslide"
    }
   },
   "outputs": [],
   "source": [
    "class ConcolicTracer(ConcolicTracer):\n",
    "    def smt_expr(self, show_decl=False, simplify=False, path=[]):\n",
    "        r = []\n",
    "        if show_decl:\n",
    "            for decl in self.decls:\n",
    "                v = self.decls[decl]\n",
    "                v = '(_ BitVec 8)' if v == 'BitVec' else v\n",
    "                r.append(\"(declare-const %s %s)\" % (decl, v))\n",
    "        path = path if path else self.path\n",
    "        if path:\n",
    "            path = z3.And(path)\n",
    "            if show_decl:\n",
    "                if simplify:\n",
    "                    return '\\n'.join([\n",
    "                        *r,\n",
    "                        \"(assert %s)\" % z3.simplify(path).sexpr()\n",
    "                    ])\n",
    "                else:\n",
    "                    return '\\n'.join(\n",
    "                        [*r, \"(assert %s)\" % path.sexpr()])\n",
    "            else:\n",
    "                return z3.simplify(path).sexpr()\n",
    "        else:\n",
    "            return ''"
   ]
  },
  {
   "cell_type": "markdown",
   "metadata": {
    "slideshow": {
     "slide_type": "subslide"
    }
   },
   "source": [
    "To see how to use `smt_expr()`, let us consider an example. The `triangle()` function is used to determine if the given sides to a triangle result in an `equilateral` triangle, an `isosceles` triangle, or a `scalene` triangle. It is implemented as follows."
   ]
  },
  {
   "cell_type": "code",
   "execution_count": 77,
   "metadata": {
    "execution": {
     "iopub.execute_input": "2022-01-02T15:43:24.720993Z",
     "iopub.status.busy": "2022-01-02T15:43:24.719853Z",
     "iopub.status.idle": "2022-01-02T15:43:24.722128Z",
     "shell.execute_reply": "2022-01-02T15:43:24.722572Z"
    },
    "slideshow": {
     "slide_type": "subslide"
    }
   },
   "outputs": [],
   "source": [
    "def triangle(a, b, c):\n",
    "    if a == b:\n",
    "        if b == c:\n",
    "            return 'equilateral'\n",
    "        else:\n",
    "            return 'isosceles'\n",
    "    else:\n",
    "        if b == c:\n",
    "            return 'isosceles'\n",
    "        else:\n",
    "            if a == c:\n",
    "                return 'isosceles'\n",
    "            else:\n",
    "                return 'scalene'"
   ]
  },
  {
   "cell_type": "code",
   "execution_count": 78,
   "metadata": {
    "execution": {
     "iopub.execute_input": "2022-01-02T15:43:24.728241Z",
     "iopub.status.busy": "2022-01-02T15:43:24.727329Z",
     "iopub.status.idle": "2022-01-02T15:43:24.731085Z",
     "shell.execute_reply": "2022-01-02T15:43:24.731774Z"
    },
    "slideshow": {
     "slide_type": "subslide"
    }
   },
   "outputs": [
    {
     "data": {
      "text/plain": [
       "'isosceles'"
      ]
     },
     "execution_count": 78,
     "metadata": {},
     "output_type": "execute_result"
    }
   ],
   "source": [
    "triangle(1, 2, 1)"
   ]
  },
  {
   "cell_type": "markdown",
   "metadata": {
    "slideshow": {
     "slide_type": "fragment"
    }
   },
   "source": [
    "To translate make it run under `ConcolicTracer`, we first define the arguments. The triangle being defined has sides `1, 1, 1`. i.e. it is an `equilateral` triangle."
   ]
  },
  {
   "cell_type": "code",
   "execution_count": 79,
   "metadata": {
    "execution": {
     "iopub.execute_input": "2022-01-02T15:43:24.739427Z",
     "iopub.status.busy": "2022-01-02T15:43:24.738483Z",
     "iopub.status.idle": "2022-01-02T15:43:24.743353Z",
     "shell.execute_reply": "2022-01-02T15:43:24.743778Z"
    },
    "slideshow": {
     "slide_type": "fragment"
    }
   },
   "outputs": [
    {
     "name": "stdout",
     "output_type": "stream",
     "text": [
      "({'int_a': 'Int', 'int_b': 'Int', 'int_c': 'Int'}, [int_a == int_b, int_b == int_c])\n"
     ]
    }
   ],
   "source": [
    "with ConcolicTracer() as _:\n",
    "    za = zint.create(_.context, 'int_a', 1)\n",
    "    zb = zint.create(_.context, 'int_b', 1)\n",
    "    zc = zint.create(_.context, 'int_c', 1)\n",
    "    triangle(za, zb, zc)\n",
    "print(_.context)"
   ]
  },
  {
   "cell_type": "markdown",
   "metadata": {
    "slideshow": {
     "slide_type": "fragment"
    }
   },
   "source": [
    "We can now call `smt_expr()` to retrieve the SMT expression as below."
   ]
  },
  {
   "cell_type": "code",
   "execution_count": 80,
   "metadata": {
    "execution": {
     "iopub.execute_input": "2022-01-02T15:43:24.748715Z",
     "iopub.status.busy": "2022-01-02T15:43:24.747599Z",
     "iopub.status.idle": "2022-01-02T15:43:24.752851Z",
     "shell.execute_reply": "2022-01-02T15:43:24.753829Z"
    },
    "slideshow": {
     "slide_type": "subslide"
    }
   },
   "outputs": [
    {
     "name": "stdout",
     "output_type": "stream",
     "text": [
      "(declare-const int_a Int)\n",
      "(declare-const int_b Int)\n",
      "(declare-const int_c Int)\n",
      "(assert (and (= int_a int_b) (= int_b int_c)))\n"
     ]
    }
   ],
   "source": [
    "print(_.smt_expr(show_decl=True))"
   ]
  },
  {
   "cell_type": "markdown",
   "metadata": {
    "slideshow": {
     "slide_type": "fragment"
    }
   },
   "source": [
    "The collected predicates can also be solved directly using the Python z3 API."
   ]
  },
  {
   "cell_type": "code",
   "execution_count": 81,
   "metadata": {
    "execution": {
     "iopub.execute_input": "2022-01-02T15:43:24.758756Z",
     "iopub.status.busy": "2022-01-02T15:43:24.757819Z",
     "iopub.status.idle": "2022-01-02T15:43:24.783203Z",
     "shell.execute_reply": "2022-01-02T15:43:24.784062Z"
    },
    "slideshow": {
     "slide_type": "fragment"
    }
   },
   "outputs": [
    {
     "name": "stdout",
     "output_type": "stream",
     "text": [
      "[int_c = 0, int_a = 0, int_b = 0]\n"
     ]
    }
   ],
   "source": [
    "z3.solve(_.path)"
   ]
  },
  {
   "cell_type": "markdown",
   "metadata": {
    "slideshow": {
     "slide_type": "subslide"
    }
   },
   "source": [
    "##### Generating Fresh Names\n",
    "While using the proxy classes, we often will have to generate new symbolic variables, with names that have not been used before. For this, we define `fresh_name()` that always generates unique integers for names."
   ]
  },
  {
   "cell_type": "code",
   "execution_count": 82,
   "metadata": {
    "execution": {
     "iopub.execute_input": "2022-01-02T15:43:24.789854Z",
     "iopub.status.busy": "2022-01-02T15:43:24.788960Z",
     "iopub.status.idle": "2022-01-02T15:43:24.791208Z",
     "shell.execute_reply": "2022-01-02T15:43:24.791757Z"
    },
    "slideshow": {
     "slide_type": "fragment"
    }
   },
   "outputs": [],
   "source": [
    "COUNTER = 0"
   ]
  },
  {
   "cell_type": "code",
   "execution_count": 83,
   "metadata": {
    "execution": {
     "iopub.execute_input": "2022-01-02T15:43:24.795806Z",
     "iopub.status.busy": "2022-01-02T15:43:24.795196Z",
     "iopub.status.idle": "2022-01-02T15:43:24.797687Z",
     "shell.execute_reply": "2022-01-02T15:43:24.798381Z"
    },
    "slideshow": {
     "slide_type": "fragment"
    }
   },
   "outputs": [],
   "source": [
    "def fresh_name():\n",
    "    global COUNTER\n",
    "    COUNTER += 1\n",
    "    return COUNTER"
   ]
  },
  {
   "cell_type": "markdown",
   "metadata": {
    "slideshow": {
     "slide_type": "fragment"
    }
   },
   "source": [
    "It can be used as follows"
   ]
  },
  {
   "cell_type": "code",
   "execution_count": 84,
   "metadata": {
    "execution": {
     "iopub.execute_input": "2022-01-02T15:43:24.805057Z",
     "iopub.status.busy": "2022-01-02T15:43:24.804140Z",
     "iopub.status.idle": "2022-01-02T15:43:24.808120Z",
     "shell.execute_reply": "2022-01-02T15:43:24.808984Z"
    },
    "slideshow": {
     "slide_type": "fragment"
    }
   },
   "outputs": [
    {
     "data": {
      "text/plain": [
       "1"
      ]
     },
     "execution_count": 84,
     "metadata": {},
     "output_type": "execute_result"
    }
   ],
   "source": [
    "fresh_name()"
   ]
  },
  {
   "cell_type": "code",
   "execution_count": 85,
   "metadata": {
    "execution": {
     "iopub.execute_input": "2022-01-02T15:43:24.813952Z",
     "iopub.status.busy": "2022-01-02T15:43:24.812889Z",
     "iopub.status.idle": "2022-01-02T15:43:24.815721Z",
     "shell.execute_reply": "2022-01-02T15:43:24.816494Z"
    },
    "slideshow": {
     "slide_type": "subslide"
    }
   },
   "outputs": [],
   "source": [
    "def reset_counter():\n",
    "    global COUNTER\n",
    "    COUNTER = 0"
   ]
  },
  {
   "cell_type": "code",
   "execution_count": 86,
   "metadata": {
    "execution": {
     "iopub.execute_input": "2022-01-02T15:43:24.822809Z",
     "iopub.status.busy": "2022-01-02T15:43:24.821806Z",
     "iopub.status.idle": "2022-01-02T15:43:24.824345Z",
     "shell.execute_reply": "2022-01-02T15:43:24.824812Z"
    },
    "slideshow": {
     "slide_type": "fragment"
    }
   },
   "outputs": [],
   "source": [
    "class ConcolicTracer(ConcolicTracer):\n",
    "    def __enter__(self):\n",
    "        reset_counter()\n",
    "        return self\n",
    "\n",
    "    def __exit__(self, exc_type, exc_value, tb):\n",
    "        return"
   ]
  },
  {
   "cell_type": "markdown",
   "metadata": {
    "slideshow": {
     "slide_type": "subslide"
    }
   },
   "source": [
    " ##### Translating Arguments to Concolic Proxies\n",
    " \n",
    "We had previously defined `concolic()` as a transparent function. We now provide the full implementation of this function. It inspects a given function's parameters, and infers the parameter types from the concrete arguments passed in. It then uses this information to instantiate the correct proxy classes for each argument."
   ]
  },
  {
   "cell_type": "code",
   "execution_count": 87,
   "metadata": {
    "execution": {
     "iopub.execute_input": "2022-01-02T15:43:24.832315Z",
     "iopub.status.busy": "2022-01-02T15:43:24.831035Z",
     "iopub.status.idle": "2022-01-02T15:43:24.834011Z",
     "shell.execute_reply": "2022-01-02T15:43:24.834722Z"
    },
    "slideshow": {
     "slide_type": "subslide"
    }
   },
   "outputs": [],
   "source": [
    "class ConcolicTracer(ConcolicTracer):\n",
    "    def concolic(self, args):\n",
    "        my_args = []\n",
    "        for name, arg in zip(self.fn_args, args):\n",
    "            t = type(arg).__name__\n",
    "            zwrap = globals()['z' + t]\n",
    "            vname = \"%s_%s_%s_%s\" % (self.fn.__name__, name, t, fresh_name())\n",
    "            my_args.append(zwrap.create(self.context, vname, arg))\n",
    "            self.fn_args[name] = vname\n",
    "        return my_args"
   ]
  },
  {
   "cell_type": "markdown",
   "metadata": {
    "slideshow": {
     "slide_type": "fragment"
    }
   },
   "source": [
    "This is how it gets used:"
   ]
  },
  {
   "cell_type": "code",
   "execution_count": 88,
   "metadata": {
    "execution": {
     "iopub.execute_input": "2022-01-02T15:43:24.840668Z",
     "iopub.status.busy": "2022-01-02T15:43:24.839730Z",
     "iopub.status.idle": "2022-01-02T15:43:24.845644Z",
     "shell.execute_reply": "2022-01-02T15:43:24.846287Z"
    },
    "slideshow": {
     "slide_type": "fragment"
    }
   },
   "outputs": [],
   "source": [
    "with ConcolicTracer() as _:\n",
    "    _[factorial](5)"
   ]
  },
  {
   "cell_type": "markdown",
   "metadata": {
    "slideshow": {
     "slide_type": "subslide"
    }
   },
   "source": [
    "With the new `concolic()` method, the arguments to the factorial are correctly associated with symbolic variables, which allows us to retrieve the predicates encountered."
   ]
  },
  {
   "cell_type": "code",
   "execution_count": 89,
   "metadata": {
    "execution": {
     "iopub.execute_input": "2022-01-02T15:43:24.853205Z",
     "iopub.status.busy": "2022-01-02T15:43:24.852040Z",
     "iopub.status.idle": "2022-01-02T15:43:24.881791Z",
     "shell.execute_reply": "2022-01-02T15:43:24.882963Z"
    },
    "slideshow": {
     "slide_type": "fragment"
    }
   },
   "outputs": [
    {
     "data": {
      "text/plain": [
       "({'factorial_n_int_1': 'Int'},\n",
       " [Not(0 > factorial_n_int_1),\n",
       "  Not(0 == factorial_n_int_1),\n",
       "  Not(1 == factorial_n_int_1),\n",
       "  0 != factorial_n_int_1,\n",
       "  0 != factorial_n_int_1 - 1,\n",
       "  0 != factorial_n_int_1 - 1 - 1,\n",
       "  0 != factorial_n_int_1 - 1 - 1 - 1,\n",
       "  0 != factorial_n_int_1 - 1 - 1 - 1 - 1,\n",
       "  Not(0 != factorial_n_int_1 - 1 - 1 - 1 - 1 - 1)])"
      ]
     },
     "execution_count": 89,
     "metadata": {},
     "output_type": "execute_result"
    }
   ],
   "source": [
    "_.context"
   ]
  },
  {
   "cell_type": "markdown",
   "metadata": {
    "slideshow": {
     "slide_type": "subslide"
    }
   },
   "source": [
    "As before, we can also print out the SMT expression which can be passed directly to command line SMT solvers."
   ]
  },
  {
   "cell_type": "code",
   "execution_count": 90,
   "metadata": {
    "execution": {
     "iopub.execute_input": "2022-01-02T15:43:24.889289Z",
     "iopub.status.busy": "2022-01-02T15:43:24.888478Z",
     "iopub.status.idle": "2022-01-02T15:43:24.892490Z",
     "shell.execute_reply": "2022-01-02T15:43:24.892964Z"
    },
    "slideshow": {
     "slide_type": "subslide"
    }
   },
   "outputs": [
    {
     "name": "stdout",
     "output_type": "stream",
     "text": [
      "(declare-const factorial_n_int_1 Int)\n",
      "(assert (let ((a!1 (distinct 0 (- (- (- factorial_n_int_1 1) 1) 1)))\n",
      "      (a!2 (- (- (- (- factorial_n_int_1 1) 1) 1) 1)))\n",
      "  (and (not (> 0 factorial_n_int_1))\n",
      "       (not (= 0 factorial_n_int_1))\n",
      "       (not (= 1 factorial_n_int_1))\n",
      "       (distinct 0 factorial_n_int_1)\n",
      "       (distinct 0 (- factorial_n_int_1 1))\n",
      "       (distinct 0 (- (- factorial_n_int_1 1) 1))\n",
      "       a!1\n",
      "       (distinct 0 a!2)\n",
      "       (not (distinct 0 (- a!2 1))))))\n"
     ]
    }
   ],
   "source": [
    "print(_.smt_expr(show_decl=True))"
   ]
  },
  {
   "cell_type": "markdown",
   "metadata": {
    "slideshow": {
     "slide_type": "subslide"
    }
   },
   "source": [
    "We next define methods to evaluate the SMT expression both in Python and from command line."
   ]
  },
  {
   "cell_type": "markdown",
   "metadata": {
    "slideshow": {
     "slide_type": "subslide"
    }
   },
   "source": [
    "##### Evaluating the Concolic Expressions\n",
    "\n",
    "We define `zeval()` to solve the predicates in a context, and return results. It has two modes. The `python` mode uses `z3` Python API to solve and return the results. If the `python` mode is false, it writes the SMT expression to a file, and invokes the command line `z3` for a solution."
   ]
  },
  {
   "cell_type": "code",
   "execution_count": 91,
   "metadata": {
    "execution": {
     "iopub.execute_input": "2022-01-02T15:43:24.900467Z",
     "iopub.status.busy": "2022-01-02T15:43:24.899411Z",
     "iopub.status.idle": "2022-01-02T15:43:24.901961Z",
     "shell.execute_reply": "2022-01-02T15:43:24.902609Z"
    },
    "slideshow": {
     "slide_type": "subslide"
    }
   },
   "outputs": [],
   "source": [
    "class ConcolicTracer(ConcolicTracer):\n",
    "    def zeval(self, python=False, log=False):\n",
    "        \"\"\"Evaluate predicates in given context.\n",
    "        - If `python` is set, use the z3 Python API; otherwise use z3 standalone.\n",
    "        - If `log` is set, show input to Z3.\n",
    "        \"\"\"\n",
    "        r, sol = (zeval_py if python else zeval_smt)(self.path, self, log)\n",
    "        if r == 'sat':\n",
    "            return r, {k: sol.get(self.fn_args[k], None) for k in self.fn_args}\n",
    "        else:\n",
    "            return r, None"
   ]
  },
  {
   "cell_type": "markdown",
   "metadata": {
    "slideshow": {
     "slide_type": "subslide"
    }
   },
   "source": [
    "##### Using the Python API\n",
    "\n",
    "Given a set of predicates that the function encountered, and the tracer under which the function was executed, the `zeval_py()` function first declares the relevant symbolic variables, and uses the `z3.Solver()`to provide a set of inputs that would trace the same path through the function."
   ]
  },
  {
   "cell_type": "code",
   "execution_count": 92,
   "metadata": {
    "execution": {
     "iopub.execute_input": "2022-01-02T15:43:24.911417Z",
     "iopub.status.busy": "2022-01-02T15:43:24.910411Z",
     "iopub.status.idle": "2022-01-02T15:43:24.912987Z",
     "shell.execute_reply": "2022-01-02T15:43:24.913613Z"
    },
    "slideshow": {
     "slide_type": "subslide"
    }
   },
   "outputs": [],
   "source": [
    "def zeval_py(path, cc, log):\n",
    "    for decl in cc.decls:\n",
    "        if cc.decls[decl] == 'BitVec':\n",
    "            v = \"z3.%s('%s', 8)\" % (cc.decls[decl], decl)\n",
    "        else:\n",
    "            v = \"z3.%s('%s')\" % (cc.decls[decl], decl)\n",
    "        exec(v)\n",
    "    s = z3.Solver()\n",
    "    s.add(z3.And(path))\n",
    "    if s.check() == z3.unsat:\n",
    "        return 'No Solutions', {}\n",
    "    elif s.check() == z3.unknown:\n",
    "        return 'Gave up', None\n",
    "    assert s.check() == z3.sat\n",
    "    m = s.model()\n",
    "    return 'sat', {d.name(): m[d] for d in m.decls()}"
   ]
  },
  {
   "cell_type": "markdown",
   "metadata": {
    "slideshow": {
     "slide_type": "subslide"
    }
   },
   "source": [
    "It can be used as follows:"
   ]
  },
  {
   "cell_type": "code",
   "execution_count": 93,
   "metadata": {
    "execution": {
     "iopub.execute_input": "2022-01-02T15:43:24.920536Z",
     "iopub.status.busy": "2022-01-02T15:43:24.919526Z",
     "iopub.status.idle": "2022-01-02T15:43:24.923832Z",
     "shell.execute_reply": "2022-01-02T15:43:24.924626Z"
    },
    "slideshow": {
     "slide_type": "fragment"
    }
   },
   "outputs": [],
   "source": [
    "with ConcolicTracer() as _:\n",
    "    _[factorial](5)"
   ]
  },
  {
   "cell_type": "code",
   "execution_count": 94,
   "metadata": {
    "execution": {
     "iopub.execute_input": "2022-01-02T15:43:24.929661Z",
     "iopub.status.busy": "2022-01-02T15:43:24.928751Z",
     "iopub.status.idle": "2022-01-02T15:43:24.977530Z",
     "shell.execute_reply": "2022-01-02T15:43:24.978483Z"
    },
    "slideshow": {
     "slide_type": "fragment"
    }
   },
   "outputs": [
    {
     "data": {
      "text/plain": [
       "('sat', {'n': 5})"
      ]
     },
     "execution_count": 94,
     "metadata": {},
     "output_type": "execute_result"
    }
   ],
   "source": [
    "_.zeval(python=True)"
   ]
  },
  {
   "cell_type": "markdown",
   "metadata": {
    "slideshow": {
     "slide_type": "fragment"
    }
   },
   "source": [
    "That is, given the set of constraints, the assignment `n == 5` conforms to all constraints."
   ]
  },
  {
   "cell_type": "markdown",
   "metadata": {
    "slideshow": {
     "slide_type": "subslide"
    }
   },
   "source": [
    "##### Using the Command Line\n",
    "\n",
    "The `zeval_smt()` function writes the SMT expression to the file system, and calls the `z3` SMT solver command line to solve it. The result of SMT expression is again an `sexpr`. Hence, we first define `parse_sexp()` to parse and return the correct values."
   ]
  },
  {
   "cell_type": "code",
   "execution_count": 95,
   "metadata": {
    "execution": {
     "iopub.execute_input": "2022-01-02T15:43:24.984614Z",
     "iopub.status.busy": "2022-01-02T15:43:24.983609Z",
     "iopub.status.idle": "2022-01-02T15:43:24.986273Z",
     "shell.execute_reply": "2022-01-02T15:43:24.986974Z"
    },
    "slideshow": {
     "slide_type": "skip"
    }
   },
   "outputs": [],
   "source": [
    "import re"
   ]
  },
  {
   "cell_type": "code",
   "execution_count": 96,
   "metadata": {
    "execution": {
     "iopub.execute_input": "2022-01-02T15:43:24.992012Z",
     "iopub.status.busy": "2022-01-02T15:43:24.991004Z",
     "iopub.status.idle": "2022-01-02T15:43:24.993547Z",
     "shell.execute_reply": "2022-01-02T15:43:24.994240Z"
    },
    "slideshow": {
     "slide_type": "skip"
    }
   },
   "outputs": [],
   "source": [
    "import subprocess"
   ]
  },
  {
   "cell_type": "code",
   "execution_count": 97,
   "metadata": {
    "execution": {
     "iopub.execute_input": "2022-01-02T15:43:25.000474Z",
     "iopub.status.busy": "2022-01-02T15:43:24.999535Z",
     "iopub.status.idle": "2022-01-02T15:43:25.001986Z",
     "shell.execute_reply": "2022-01-02T15:43:25.002826Z"
    },
    "slideshow": {
     "slide_type": "fragment"
    }
   },
   "outputs": [],
   "source": [
    "SEXPR_TOKEN = r'''(?mx)\n",
    "    \\s*(?:\n",
    "        (?P<bra>\\()|\n",
    "        (?P<ket>\\))|\n",
    "        (?P<token>[^\"()\\s]+)|\n",
    "        (?P<string>\"[^\"]*\")\n",
    "       )'''"
   ]
  },
  {
   "cell_type": "code",
   "execution_count": 98,
   "metadata": {
    "execution": {
     "iopub.execute_input": "2022-01-02T15:43:25.011441Z",
     "iopub.status.busy": "2022-01-02T15:43:25.010695Z",
     "iopub.status.idle": "2022-01-02T15:43:25.012840Z",
     "shell.execute_reply": "2022-01-02T15:43:25.013345Z"
    },
    "slideshow": {
     "slide_type": "subslide"
    }
   },
   "outputs": [],
   "source": [
    "def parse_sexp(sexp):\n",
    "    stack, res = [], []\n",
    "    for elements in re.finditer(SEXPR_TOKEN, sexp):\n",
    "        kind, value = [(t, v) for t, v in elements.groupdict().items() if v][0]\n",
    "        if kind == 'bra':\n",
    "            stack.append(res)\n",
    "            res = []\n",
    "        elif kind == 'ket':\n",
    "            last, res = res, stack.pop(-1)\n",
    "            res.append(last)\n",
    "        elif kind == 'token':\n",
    "            res.append(value)\n",
    "        elif kind == 'string':\n",
    "            res.append(value[1:-1])\n",
    "        else:\n",
    "            assert False\n",
    "    return res"
   ]
  },
  {
   "cell_type": "markdown",
   "metadata": {
    "slideshow": {
     "slide_type": "subslide"
    }
   },
   "source": [
    "The `parse_sexp()` function can be used as follows"
   ]
  },
  {
   "cell_type": "code",
   "execution_count": 99,
   "metadata": {
    "execution": {
     "iopub.execute_input": "2022-01-02T15:43:25.020522Z",
     "iopub.status.busy": "2022-01-02T15:43:25.019541Z",
     "iopub.status.idle": "2022-01-02T15:43:25.023637Z",
     "shell.execute_reply": "2022-01-02T15:43:25.024285Z"
    },
    "slideshow": {
     "slide_type": "fragment"
    }
   },
   "outputs": [
    {
     "data": {
      "text/plain": [
       "['abcd', ['hello', '123', ['world', 'hello world']]]"
      ]
     },
     "execution_count": 99,
     "metadata": {},
     "output_type": "execute_result"
    }
   ],
   "source": [
    "parse_sexp('abcd (hello 123 (world \"hello world\"))')"
   ]
  },
  {
   "cell_type": "markdown",
   "metadata": {
    "slideshow": {
     "slide_type": "fragment"
    }
   },
   "source": [
    "We now define `zeval_smt()` which uses the `z3` command line directly, and uses `parse_sexp()` to parse and return the solutions to function arguments if any."
   ]
  },
  {
   "cell_type": "code",
   "execution_count": 100,
   "metadata": {
    "execution": {
     "iopub.execute_input": "2022-01-02T15:43:25.031056Z",
     "iopub.status.busy": "2022-01-02T15:43:25.028327Z",
     "iopub.status.idle": "2022-01-02T15:43:25.032517Z",
     "shell.execute_reply": "2022-01-02T15:43:25.033253Z"
    },
    "slideshow": {
     "slide_type": "skip"
    }
   },
   "outputs": [],
   "source": [
    "import tempfile"
   ]
  },
  {
   "cell_type": "code",
   "execution_count": 101,
   "metadata": {
    "execution": {
     "iopub.execute_input": "2022-01-02T15:43:25.040799Z",
     "iopub.status.busy": "2022-01-02T15:43:25.040113Z",
     "iopub.status.idle": "2022-01-02T15:43:25.042514Z",
     "shell.execute_reply": "2022-01-02T15:43:25.042956Z"
    },
    "slideshow": {
     "slide_type": "subslide"
    }
   },
   "outputs": [],
   "source": [
    "def zeval_smt(path, cc, log):\n",
    "    s = cc.smt_expr(True, True, path)\n",
    "\n",
    "    with tempfile.NamedTemporaryFile(mode='w', suffix='.smt') as f:\n",
    "        f.write(s)\n",
    "        f.write(\"\\n(check-sat)\")\n",
    "        f.write(\"\\n(get-model)\")\n",
    "        f.flush()\n",
    "\n",
    "        if log:\n",
    "            print(s, '(check-sat)', '(get-model)', sep='\\n')\n",
    "        output = subprocess.getoutput(\"z3 -t:60 \" + f.name)\n",
    "\n",
    "    if log:\n",
    "        print(output)\n",
    "\n",
    "    o = parse_sexp(output)\n",
    "    if not o:\n",
    "        return 'Gave up', None\n",
    "\n",
    "    kind = o[0]\n",
    "    if kind == 'unknown':\n",
    "        return 'Gave up', None\n",
    "    elif kind == 'unsat':\n",
    "        return 'No Solutions', {}\n",
    "\n",
    "    assert kind == 'sat'\n",
    "    assert o[1][0] == 'model'\n",
    "    return 'sat', {i[1]: (i[-1], i[-2]) for i in o[1][1:]}"
   ]
  },
  {
   "cell_type": "markdown",
   "metadata": {
    "slideshow": {
     "slide_type": "subslide"
    }
   },
   "source": [
    "We can now use `zeval()` as follows."
   ]
  },
  {
   "cell_type": "code",
   "execution_count": 102,
   "metadata": {
    "execution": {
     "iopub.execute_input": "2022-01-02T15:43:25.048554Z",
     "iopub.status.busy": "2022-01-02T15:43:25.047249Z",
     "iopub.status.idle": "2022-01-02T15:43:25.053482Z",
     "shell.execute_reply": "2022-01-02T15:43:25.053938Z"
    },
    "slideshow": {
     "slide_type": "fragment"
    }
   },
   "outputs": [],
   "source": [
    "with ConcolicTracer() as _:\n",
    "    _[factorial](5)"
   ]
  },
  {
   "cell_type": "code",
   "execution_count": 103,
   "metadata": {
    "execution": {
     "iopub.execute_input": "2022-01-02T15:43:25.058922Z",
     "iopub.status.busy": "2022-01-02T15:43:25.057505Z",
     "iopub.status.idle": "2022-01-02T15:43:25.144135Z",
     "shell.execute_reply": "2022-01-02T15:43:25.144591Z"
    },
    "slideshow": {
     "slide_type": "subslide"
    }
   },
   "outputs": [
    {
     "name": "stdout",
     "output_type": "stream",
     "text": [
      "(declare-const factorial_n_int_1 Int)\n",
      "(assert (and (<= 0 factorial_n_int_1)\n",
      "     (not (= 0 factorial_n_int_1))\n",
      "     (not (= 1 factorial_n_int_1))\n",
      "     (not (= 2 factorial_n_int_1))\n",
      "     (not (= 3 factorial_n_int_1))\n",
      "     (not (= 4 factorial_n_int_1))\n",
      "     (= 5 factorial_n_int_1)))\n",
      "(check-sat)\n",
      "(get-model)\n",
      "sat\n",
      "(model \n",
      "  (define-fun factorial_n_int_1 () Int\n",
      "    5)\n",
      ")\n"
     ]
    },
    {
     "data": {
      "text/plain": [
       "('sat', {'n': ('5', 'Int')})"
      ]
     },
     "execution_count": 103,
     "metadata": {},
     "output_type": "execute_result"
    }
   ],
   "source": [
    "_.zeval(log=True)"
   ]
  },
  {
   "cell_type": "markdown",
   "metadata": {
    "slideshow": {
     "slide_type": "subslide"
    }
   },
   "source": [
    "Indeed, we get similar results (`n == 5`)  from using the command line as from using the Python API."
   ]
  },
  {
   "cell_type": "markdown",
   "metadata": {
    "slideshow": {
     "slide_type": "subslide"
    },
    "toc-hr-collapsed": true
   },
   "source": [
    "#### A Proxy Class for Strings\n",
    "\n",
    "Here, we define the proxy string class `zstr`. First we define our initialization routines. Since `str` is a primitive type, we define `new` to extend it."
   ]
  },
  {
   "cell_type": "code",
   "execution_count": 104,
   "metadata": {
    "execution": {
     "iopub.execute_input": "2022-01-02T15:43:25.151283Z",
     "iopub.status.busy": "2022-01-02T15:43:25.150351Z",
     "iopub.status.idle": "2022-01-02T15:43:25.152748Z",
     "shell.execute_reply": "2022-01-02T15:43:25.153326Z"
    },
    "slideshow": {
     "slide_type": "fragment"
    }
   },
   "outputs": [],
   "source": [
    "class zstr(str):\n",
    "    def __new__(cls, context, zn, v):\n",
    "        return str.__new__(cls, v)"
   ]
  },
  {
   "cell_type": "markdown",
   "metadata": {
    "slideshow": {
     "slide_type": "fragment"
    }
   },
   "source": [
    "As before, initialization proceeds with `create()` and the constructor."
   ]
  },
  {
   "cell_type": "code",
   "execution_count": 105,
   "metadata": {
    "execution": {
     "iopub.execute_input": "2022-01-02T15:43:25.159021Z",
     "iopub.status.busy": "2022-01-02T15:43:25.158271Z",
     "iopub.status.idle": "2022-01-02T15:43:25.160805Z",
     "shell.execute_reply": "2022-01-02T15:43:25.161748Z"
    },
    "slideshow": {
     "slide_type": "subslide"
    }
   },
   "outputs": [],
   "source": [
    "class zstr(zstr):\n",
    "    @classmethod\n",
    "    def create(cls, context, zn, v=None):\n",
    "        return zproxy_create(cls, 'String', z3.String, context, zn, v)\n",
    "\n",
    "    def __init__(self, context, z, v=None):\n",
    "        self.context, self.z, self.v = context, z, v\n",
    "        self._len = zint(context, z3.Length(z), len(v))\n",
    "        #self.context[1].append(z3.Length(z) == z3.IntVal(len(v)))"
   ]
  },
  {
   "cell_type": "markdown",
   "metadata": {
    "slideshow": {
     "slide_type": "fragment"
    }
   },
   "source": [
    "We also define `_zv()` helper to help us with methods that accept another string"
   ]
  },
  {
   "cell_type": "code",
   "execution_count": 106,
   "metadata": {
    "execution": {
     "iopub.execute_input": "2022-01-02T15:43:25.168900Z",
     "iopub.status.busy": "2022-01-02T15:43:25.167869Z",
     "iopub.status.idle": "2022-01-02T15:43:25.170868Z",
     "shell.execute_reply": "2022-01-02T15:43:25.171642Z"
    },
    "slideshow": {
     "slide_type": "fragment"
    }
   },
   "outputs": [],
   "source": [
    "class zstr(zstr):\n",
    "    def _zv(self, o):\n",
    "        return (o.z, o.v) if isinstance(o, zstr) else (z3.StringVal(o), o)"
   ]
  },
  {
   "cell_type": "markdown",
   "metadata": {
    "slideshow": {
     "slide_type": "subslide"
    }
   },
   "source": [
    "##### Retrieving Ordinal Value\n",
    "We define `zord` that given a symbolic one character long string, obtains the `ord()` for that. It returns two values. The first one is the variable that corresponds to `ord()`, and second is the predicate that links the variable to the passed in single character string."
   ]
  },
  {
   "cell_type": "code",
   "execution_count": 107,
   "metadata": {
    "execution": {
     "iopub.execute_input": "2022-01-02T15:43:25.177652Z",
     "iopub.status.busy": "2022-01-02T15:43:25.176889Z",
     "iopub.status.idle": "2022-01-02T15:43:25.179479Z",
     "shell.execute_reply": "2022-01-02T15:43:25.180281Z"
    },
    "slideshow": {
     "slide_type": "fragment"
    }
   },
   "outputs": [],
   "source": [
    "def zord(context, c):\n",
    "    bn = \"bitvec_%d\" % fresh_name()\n",
    "    v = z3.BitVec(bn, 8)\n",
    "    context[0][bn] = 'BitVec'\n",
    "    z = (z3.Unit(v) == c)\n",
    "    context[1].append(z)\n",
    "    return v"
   ]
  },
  {
   "cell_type": "markdown",
   "metadata": {
    "slideshow": {
     "slide_type": "fragment"
    }
   },
   "source": [
    "We use it as follows"
   ]
  },
  {
   "cell_type": "code",
   "execution_count": 108,
   "metadata": {
    "execution": {
     "iopub.execute_input": "2022-01-02T15:43:25.187227Z",
     "iopub.status.busy": "2022-01-02T15:43:25.186144Z",
     "iopub.status.idle": "2022-01-02T15:43:25.189072Z",
     "shell.execute_reply": "2022-01-02T15:43:25.189514Z"
    },
    "slideshow": {
     "slide_type": "fragment"
    }
   },
   "outputs": [],
   "source": [
    "zc = z3.String('arg_%d' % fresh_name())"
   ]
  },
  {
   "cell_type": "code",
   "execution_count": 109,
   "metadata": {
    "execution": {
     "iopub.execute_input": "2022-01-02T15:43:25.193662Z",
     "iopub.status.busy": "2022-01-02T15:43:25.193001Z",
     "iopub.status.idle": "2022-01-02T15:43:25.195652Z",
     "shell.execute_reply": "2022-01-02T15:43:25.196086Z"
    },
    "slideshow": {
     "slide_type": "subslide"
    }
   },
   "outputs": [],
   "source": [
    "with ConcolicTracer() as _:\n",
    "    zi = zord(_.context, zc)"
   ]
  },
  {
   "cell_type": "markdown",
   "metadata": {
    "slideshow": {
     "slide_type": "fragment"
    }
   },
   "source": [
    "The symbolic bitvector is in `zi`. It is linked to the passed in argument in `context`"
   ]
  },
  {
   "cell_type": "code",
   "execution_count": 110,
   "metadata": {
    "execution": {
     "iopub.execute_input": "2022-01-02T15:43:25.203352Z",
     "iopub.status.busy": "2022-01-02T15:43:25.202393Z",
     "iopub.status.idle": "2022-01-02T15:43:25.205343Z",
     "shell.execute_reply": "2022-01-02T15:43:25.205766Z"
    },
    "slideshow": {
     "slide_type": "fragment"
    }
   },
   "outputs": [
    {
     "data": {
      "text/plain": [
       "({'bitvec_1': 'BitVec'}, [Unit(bitvec_1) == arg_2])"
      ]
     },
     "execution_count": 110,
     "metadata": {},
     "output_type": "execute_result"
    }
   ],
   "source": [
    "_.context"
   ]
  },
  {
   "cell_type": "markdown",
   "metadata": {
    "slideshow": {
     "slide_type": "fragment"
    }
   },
   "source": [
    "We can specify what the result of `ord()` should be, and call `z3.solve()` to provide us with a solution that will provide the required result."
   ]
  },
  {
   "cell_type": "code",
   "execution_count": 111,
   "metadata": {
    "execution": {
     "iopub.execute_input": "2022-01-02T15:43:25.210061Z",
     "iopub.status.busy": "2022-01-02T15:43:25.209400Z",
     "iopub.status.idle": "2022-01-02T15:43:25.232407Z",
     "shell.execute_reply": "2022-01-02T15:43:25.233568Z"
    },
    "slideshow": {
     "slide_type": "fragment"
    }
   },
   "outputs": [
    {
     "name": "stdout",
     "output_type": "stream",
     "text": [
      "[bitvec_1 = 65, arg_2 = \"A\"]\n"
     ]
    }
   ],
   "source": [
    "z3.solve(_.path + [zi == 65])"
   ]
  },
  {
   "cell_type": "markdown",
   "metadata": {
    "slideshow": {
     "slide_type": "subslide"
    }
   },
   "source": [
    "##### Translating an Ordinal Value to ASCII\n",
    "Similarly, we can convert the ASCII value back to a single character string using `zchr()`"
   ]
  },
  {
   "cell_type": "code",
   "execution_count": 112,
   "metadata": {
    "execution": {
     "iopub.execute_input": "2022-01-02T15:43:25.239660Z",
     "iopub.status.busy": "2022-01-02T15:43:25.238843Z",
     "iopub.status.idle": "2022-01-02T15:43:25.240806Z",
     "shell.execute_reply": "2022-01-02T15:43:25.241375Z"
    },
    "slideshow": {
     "slide_type": "fragment"
    }
   },
   "outputs": [],
   "source": [
    "def zchr(context, i):\n",
    "    sn = 'string_%d' % fresh_name()\n",
    "    s = z3.String(sn)\n",
    "    context[0][sn] = 'String'\n",
    "    z = z3.And([s == z3.Unit(i), z3.Length(s) == 1])\n",
    "    context[1].append(z)\n",
    "    return s"
   ]
  },
  {
   "cell_type": "markdown",
   "metadata": {
    "slideshow": {
     "slide_type": "fragment"
    }
   },
   "source": [
    "For using it, we first define a bitvector that is 8 bits long."
   ]
  },
  {
   "cell_type": "code",
   "execution_count": 113,
   "metadata": {
    "execution": {
     "iopub.execute_input": "2022-01-02T15:43:25.245720Z",
     "iopub.status.busy": "2022-01-02T15:43:25.245035Z",
     "iopub.status.idle": "2022-01-02T15:43:25.246987Z",
     "shell.execute_reply": "2022-01-02T15:43:25.247422Z"
    },
    "slideshow": {
     "slide_type": "fragment"
    }
   },
   "outputs": [],
   "source": [
    "i = z3.BitVec('bv_%d' % fresh_name(), 8)"
   ]
  },
  {
   "cell_type": "markdown",
   "metadata": {
    "slideshow": {
     "slide_type": "fragment"
    }
   },
   "source": [
    "We can now retrieve the `chr()` representation as below."
   ]
  },
  {
   "cell_type": "code",
   "execution_count": 114,
   "metadata": {
    "execution": {
     "iopub.execute_input": "2022-01-02T15:43:25.251286Z",
     "iopub.status.busy": "2022-01-02T15:43:25.250623Z",
     "iopub.status.idle": "2022-01-02T15:43:25.253644Z",
     "shell.execute_reply": "2022-01-02T15:43:25.254139Z"
    },
    "slideshow": {
     "slide_type": "fragment"
    }
   },
   "outputs": [],
   "source": [
    "with ConcolicTracer() as _:\n",
    "    zc = zchr(_.context, i)"
   ]
  },
  {
   "cell_type": "code",
   "execution_count": 115,
   "metadata": {
    "execution": {
     "iopub.execute_input": "2022-01-02T15:43:25.258710Z",
     "iopub.status.busy": "2022-01-02T15:43:25.258009Z",
     "iopub.status.idle": "2022-01-02T15:43:25.262451Z",
     "shell.execute_reply": "2022-01-02T15:43:25.262884Z"
    },
    "slideshow": {
     "slide_type": "subslide"
    }
   },
   "outputs": [
    {
     "data": {
      "text/plain": [
       "({'string_1': 'String'}, [And(string_1 == Unit(bv_2), Length(string_1) == 1)])"
      ]
     },
     "execution_count": 115,
     "metadata": {},
     "output_type": "execute_result"
    }
   ],
   "source": [
    "_.context"
   ]
  },
  {
   "cell_type": "markdown",
   "metadata": {
    "slideshow": {
     "slide_type": "fragment"
    }
   },
   "source": [
    "As before, we can specify what the end result of calling `chr()` should be to get the original argument."
   ]
  },
  {
   "cell_type": "code",
   "execution_count": 116,
   "metadata": {
    "execution": {
     "iopub.execute_input": "2022-01-02T15:43:25.266870Z",
     "iopub.status.busy": "2022-01-02T15:43:25.266271Z",
     "iopub.status.idle": "2022-01-02T15:43:25.286072Z",
     "shell.execute_reply": "2022-01-02T15:43:25.285310Z"
    },
    "slideshow": {
     "slide_type": "fragment"
    }
   },
   "outputs": [
    {
     "name": "stdout",
     "output_type": "stream",
     "text": [
      "[string_1 = \"a\", bv_2 = 97]\n"
     ]
    }
   ],
   "source": [
    "z3.solve(_.path + [zc == z3.StringVal('a')])"
   ]
  },
  {
   "cell_type": "markdown",
   "metadata": {
    "slideshow": {
     "slide_type": "subslide"
    }
   },
   "source": [
    "##### Equality between Strings\n",
    "\n",
    "The equality of `zstr` is defined similar to that of `zint`"
   ]
  },
  {
   "cell_type": "code",
   "execution_count": 117,
   "metadata": {
    "execution": {
     "iopub.execute_input": "2022-01-02T15:43:25.290837Z",
     "iopub.status.busy": "2022-01-02T15:43:25.290239Z",
     "iopub.status.idle": "2022-01-02T15:43:25.292009Z",
     "shell.execute_reply": "2022-01-02T15:43:25.292509Z"
    },
    "slideshow": {
     "slide_type": "fragment"
    }
   },
   "outputs": [],
   "source": [
    "class zstr(zstr):\n",
    "    def __eq__(self, other):\n",
    "        z, v = self._zv(other)\n",
    "        return zbool(self.context, self.z == z, self.v == v)\n",
    "\n",
    "    def __req__(self, other):\n",
    "        return self.__eq__(other)"
   ]
  },
  {
   "cell_type": "markdown",
   "metadata": {
    "slideshow": {
     "slide_type": "fragment"
    }
   },
   "source": [
    "The `zstr` class is used as follows."
   ]
  },
  {
   "cell_type": "code",
   "execution_count": 118,
   "metadata": {
    "execution": {
     "iopub.execute_input": "2022-01-02T15:43:25.296327Z",
     "iopub.status.busy": "2022-01-02T15:43:25.295738Z",
     "iopub.status.idle": "2022-01-02T15:43:25.297584Z",
     "shell.execute_reply": "2022-01-02T15:43:25.298011Z"
    },
    "slideshow": {
     "slide_type": "subslide"
    }
   },
   "outputs": [],
   "source": [
    "def tstr1(s):\n",
    "    if s == 'h':\n",
    "        return True\n",
    "    else:\n",
    "        return False"
   ]
  },
  {
   "cell_type": "code",
   "execution_count": 119,
   "metadata": {
    "execution": {
     "iopub.execute_input": "2022-01-02T15:43:25.302299Z",
     "iopub.status.busy": "2022-01-02T15:43:25.301624Z",
     "iopub.status.idle": "2022-01-02T15:43:25.303601Z",
     "shell.execute_reply": "2022-01-02T15:43:25.304064Z"
    },
    "slideshow": {
     "slide_type": "fragment"
    }
   },
   "outputs": [],
   "source": [
    "with ConcolicTracer() as _:\n",
    "    r = _[tstr1]('h')"
   ]
  },
  {
   "cell_type": "code",
   "execution_count": 120,
   "metadata": {
    "execution": {
     "iopub.execute_input": "2022-01-02T15:43:25.307500Z",
     "iopub.status.busy": "2022-01-02T15:43:25.306915Z",
     "iopub.status.idle": "2022-01-02T15:43:25.347470Z",
     "shell.execute_reply": "2022-01-02T15:43:25.347902Z"
    },
    "slideshow": {
     "slide_type": "fragment"
    }
   },
   "outputs": [
    {
     "data": {
      "text/plain": [
       "('sat', {'s': ('h', 'String')})"
      ]
     },
     "execution_count": 120,
     "metadata": {},
     "output_type": "execute_result"
    }
   ],
   "source": [
    "_.zeval()"
   ]
  },
  {
   "cell_type": "markdown",
   "metadata": {
    "slideshow": {
     "slide_type": "fragment"
    }
   },
   "source": [
    "It works even if we have more than one character."
   ]
  },
  {
   "cell_type": "code",
   "execution_count": 121,
   "metadata": {
    "execution": {
     "iopub.execute_input": "2022-01-02T15:43:25.352695Z",
     "iopub.status.busy": "2022-01-02T15:43:25.352057Z",
     "iopub.status.idle": "2022-01-02T15:43:25.354463Z",
     "shell.execute_reply": "2022-01-02T15:43:25.353999Z"
    },
    "slideshow": {
     "slide_type": "fragment"
    }
   },
   "outputs": [],
   "source": [
    "def tstr1(s):  # type: ignore\n",
    "    if s == 'hello world':\n",
    "        return True\n",
    "    else:\n",
    "        return False"
   ]
  },
  {
   "cell_type": "code",
   "execution_count": 122,
   "metadata": {
    "execution": {
     "iopub.execute_input": "2022-01-02T15:43:25.360953Z",
     "iopub.status.busy": "2022-01-02T15:43:25.359682Z",
     "iopub.status.idle": "2022-01-02T15:43:25.363291Z",
     "shell.execute_reply": "2022-01-02T15:43:25.364534Z"
    },
    "slideshow": {
     "slide_type": "subslide"
    }
   },
   "outputs": [],
   "source": [
    "with ConcolicTracer() as _:\n",
    "    r = _[tstr1]('hello world')"
   ]
  },
  {
   "cell_type": "code",
   "execution_count": 123,
   "metadata": {
    "execution": {
     "iopub.execute_input": "2022-01-02T15:43:25.373775Z",
     "iopub.status.busy": "2022-01-02T15:43:25.372383Z",
     "iopub.status.idle": "2022-01-02T15:43:25.378038Z",
     "shell.execute_reply": "2022-01-02T15:43:25.378752Z"
    },
    "slideshow": {
     "slide_type": "fragment"
    }
   },
   "outputs": [
    {
     "data": {
      "text/plain": [
       "({'tstr1_s_str_1': 'String'}, [tstr1_s_str_1 == \"hello world\"])"
      ]
     },
     "execution_count": 123,
     "metadata": {},
     "output_type": "execute_result"
    }
   ],
   "source": [
    "_.context"
   ]
  },
  {
   "cell_type": "code",
   "execution_count": 124,
   "metadata": {
    "execution": {
     "iopub.execute_input": "2022-01-02T15:43:25.387217Z",
     "iopub.status.busy": "2022-01-02T15:43:25.385752Z",
     "iopub.status.idle": "2022-01-02T15:43:25.454189Z",
     "shell.execute_reply": "2022-01-02T15:43:25.456106Z"
    },
    "slideshow": {
     "slide_type": "fragment"
    }
   },
   "outputs": [
    {
     "data": {
      "text/plain": [
       "('sat', {'s': ('hello world', 'String')})"
      ]
     },
     "execution_count": 124,
     "metadata": {},
     "output_type": "execute_result"
    }
   ],
   "source": [
    "_.zeval()"
   ]
  },
  {
   "cell_type": "markdown",
   "metadata": {
    "slideshow": {
     "slide_type": "subslide"
    }
   },
   "source": [
    "##### Concatenation of Strings\n",
    "What if we need to concatenate two strings? We need additional helpers to accomplish that."
   ]
  },
  {
   "cell_type": "code",
   "execution_count": 125,
   "metadata": {
    "execution": {
     "iopub.execute_input": "2022-01-02T15:43:25.472668Z",
     "iopub.status.busy": "2022-01-02T15:43:25.468350Z",
     "iopub.status.idle": "2022-01-02T15:43:25.474914Z",
     "shell.execute_reply": "2022-01-02T15:43:25.475941Z"
    },
    "slideshow": {
     "slide_type": "fragment"
    }
   },
   "outputs": [],
   "source": [
    "class zstr(zstr):\n",
    "    def __add__(self, other):\n",
    "        z, v = self._zv(other)\n",
    "        return zstr(self.context, self.z + z, self.v + v)\n",
    "\n",
    "    def __radd__(self, other):\n",
    "        return self.__add__(other)"
   ]
  },
  {
   "cell_type": "markdown",
   "metadata": {
    "slideshow": {
     "slide_type": "fragment"
    }
   },
   "source": [
    "Here is how it can be used. First, we create the wrapped arguments"
   ]
  },
  {
   "cell_type": "code",
   "execution_count": 126,
   "metadata": {
    "execution": {
     "iopub.execute_input": "2022-01-02T15:43:25.492531Z",
     "iopub.status.busy": "2022-01-02T15:43:25.489199Z",
     "iopub.status.idle": "2022-01-02T15:43:25.503891Z",
     "shell.execute_reply": "2022-01-02T15:43:25.505047Z"
    },
    "slideshow": {
     "slide_type": "subslide"
    }
   },
   "outputs": [
    {
     "name": "stdout",
     "output_type": "stream",
     "text": [
      "hello world\n"
     ]
    }
   ],
   "source": [
    "with ConcolicTracer() as _:\n",
    "    v1, v2 = [zstr.create(_.context, 'arg_%d' % fresh_name(), s)\n",
    "              for s in ['hello', 'world']]\n",
    "    if (v1 + ' ' + v2) == 'hello world':\n",
    "        print('hello world')"
   ]
  },
  {
   "cell_type": "markdown",
   "metadata": {
    "slideshow": {
     "slide_type": "fragment"
    }
   },
   "source": [
    "The addition of symbolic variables is preserved in `context`"
   ]
  },
  {
   "cell_type": "code",
   "execution_count": 127,
   "metadata": {
    "execution": {
     "iopub.execute_input": "2022-01-02T15:43:25.514186Z",
     "iopub.status.busy": "2022-01-02T15:43:25.511847Z",
     "iopub.status.idle": "2022-01-02T15:43:25.521215Z",
     "shell.execute_reply": "2022-01-02T15:43:25.521765Z"
    },
    "slideshow": {
     "slide_type": "fragment"
    }
   },
   "outputs": [
    {
     "data": {
      "text/plain": [
       "({'arg_1': 'String', 'arg_2': 'String'},\n",
       " [Concat(Concat(arg_1, \" \"), arg_2) == \"hello world\"])"
      ]
     },
     "execution_count": 127,
     "metadata": {},
     "output_type": "execute_result"
    }
   ],
   "source": [
    "_.context"
   ]
  },
  {
   "cell_type": "markdown",
   "metadata": {
    "slideshow": {
     "slide_type": "subslide"
    }
   },
   "source": [
    "##### Producing Substrings\n",
    "Similarly, accessing substrings also require extra help."
   ]
  },
  {
   "cell_type": "code",
   "execution_count": 128,
   "metadata": {
    "execution": {
     "iopub.execute_input": "2022-01-02T15:43:25.529518Z",
     "iopub.status.busy": "2022-01-02T15:43:25.528585Z",
     "iopub.status.idle": "2022-01-02T15:43:25.532377Z",
     "shell.execute_reply": "2022-01-02T15:43:25.531480Z"
    },
    "slideshow": {
     "slide_type": "subslide"
    }
   },
   "outputs": [],
   "source": [
    "class zstr(zstr):\n",
    "    def __getitem__(self, idx):\n",
    "        if isinstance(idx, slice):\n",
    "            start, stop, step = idx.indices(len(self.v))\n",
    "            assert step == 1  # for now\n",
    "            assert stop >= start  # for now\n",
    "            rz = z3.SubString(self.z, start, stop - start)\n",
    "            rv = self.v[idx]\n",
    "        elif isinstance(idx, int):\n",
    "            rz = z3.SubString(self.z, idx, 1)\n",
    "            rv = self.v[idx]\n",
    "        else:\n",
    "            assert False  # for now\n",
    "        return zstr(self.context, rz, rv)\n",
    "\n",
    "    def __iter__(self):\n",
    "        return zstr_iterator(self.context, self)"
   ]
  },
  {
   "cell_type": "markdown",
   "metadata": {
    "slideshow": {
     "slide_type": "subslide"
    }
   },
   "source": [
    "##### An Iterator Class for Strings\n",
    "\n",
    "We define the iterator as follows."
   ]
  },
  {
   "cell_type": "code",
   "execution_count": 129,
   "metadata": {
    "execution": {
     "iopub.execute_input": "2022-01-02T15:43:25.539164Z",
     "iopub.status.busy": "2022-01-02T15:43:25.538471Z",
     "iopub.status.idle": "2022-01-02T15:43:25.540411Z",
     "shell.execute_reply": "2022-01-02T15:43:25.540898Z"
    },
    "slideshow": {
     "slide_type": "subslide"
    }
   },
   "outputs": [],
   "source": [
    "class zstr_iterator():\n",
    "    def __init__(self, context, zstr):\n",
    "        self.context = context\n",
    "        self._zstr = zstr\n",
    "        self._str_idx = 0\n",
    "        self._str_max = zstr._len  # intz is not an _int_\n",
    "\n",
    "    def __next__(self):\n",
    "        if self._str_idx == self._str_max:  # intz#eq\n",
    "            raise StopIteration\n",
    "        c = self._zstr[self._str_idx]\n",
    "        self._str_idx += 1\n",
    "        return c\n",
    "\n",
    "    def __len__(self):\n",
    "        return self._len"
   ]
  },
  {
   "cell_type": "markdown",
   "metadata": {
    "slideshow": {
     "slide_type": "subslide"
    }
   },
   "source": [
    "Here is how it can be used."
   ]
  },
  {
   "cell_type": "code",
   "execution_count": 130,
   "metadata": {
    "execution": {
     "iopub.execute_input": "2022-01-02T15:43:25.545903Z",
     "iopub.status.busy": "2022-01-02T15:43:25.545114Z",
     "iopub.status.idle": "2022-01-02T15:43:25.547177Z",
     "shell.execute_reply": "2022-01-02T15:43:25.547684Z"
    },
    "slideshow": {
     "slide_type": "fragment"
    }
   },
   "outputs": [],
   "source": [
    "def tstr2(s):\n",
    "    if s[0] == 'h' and s[1] == 'e' and s[3] == 'l':\n",
    "        return True\n",
    "    else:\n",
    "        return False"
   ]
  },
  {
   "cell_type": "code",
   "execution_count": 131,
   "metadata": {
    "execution": {
     "iopub.execute_input": "2022-01-02T15:43:25.553502Z",
     "iopub.status.busy": "2022-01-02T15:43:25.552858Z",
     "iopub.status.idle": "2022-01-02T15:43:25.556967Z",
     "shell.execute_reply": "2022-01-02T15:43:25.557550Z"
    },
    "slideshow": {
     "slide_type": "fragment"
    }
   },
   "outputs": [],
   "source": [
    "with ConcolicTracer() as _:\n",
    "    r = _[tstr2]('hello')"
   ]
  },
  {
   "cell_type": "markdown",
   "metadata": {
    "slideshow": {
     "slide_type": "fragment"
    }
   },
   "source": [
    "Again, the context shows predicates encountered."
   ]
  },
  {
   "cell_type": "code",
   "execution_count": 132,
   "metadata": {
    "execution": {
     "iopub.execute_input": "2022-01-02T15:43:25.563747Z",
     "iopub.status.busy": "2022-01-02T15:43:25.562727Z",
     "iopub.status.idle": "2022-01-02T15:43:25.569839Z",
     "shell.execute_reply": "2022-01-02T15:43:25.570374Z"
    },
    "slideshow": {
     "slide_type": "fragment"
    }
   },
   "outputs": [
    {
     "data": {
      "text/plain": [
       "({'tstr2_s_str_1': 'String'},\n",
       " [str.substr(tstr2_s_str_1, 0, 1) == \"h\",\n",
       "  str.substr(tstr2_s_str_1, 1, 1) == \"e\",\n",
       "  str.substr(tstr2_s_str_1, 3, 1) == \"l\"])"
      ]
     },
     "execution_count": 132,
     "metadata": {},
     "output_type": "execute_result"
    }
   ],
   "source": [
    "_.context"
   ]
  },
  {
   "cell_type": "markdown",
   "metadata": {
    "slideshow": {
     "slide_type": "subslide"
    }
   },
   "source": [
    "The function `zeval()` returns a solution for the predicate. Note that the value returned is not exactly the argument that we passed in. This is a consequence of the predicates we have. That is, we have no constraints on what the character value on `s[2]` should be."
   ]
  },
  {
   "cell_type": "code",
   "execution_count": 133,
   "metadata": {
    "execution": {
     "iopub.execute_input": "2022-01-02T15:43:25.574994Z",
     "iopub.status.busy": "2022-01-02T15:43:25.574368Z",
     "iopub.status.idle": "2022-01-02T15:43:25.648527Z",
     "shell.execute_reply": "2022-01-02T15:43:25.649415Z"
    },
    "slideshow": {
     "slide_type": "fragment"
    }
   },
   "outputs": [
    {
     "data": {
      "text/plain": [
       "('sat', {'s': ('he\\\\x00l\\\\x00', 'String')})"
      ]
     },
     "execution_count": 133,
     "metadata": {},
     "output_type": "execute_result"
    }
   ],
   "source": [
    "_.zeval()"
   ]
  },
  {
   "cell_type": "markdown",
   "metadata": {
    "slideshow": {
     "slide_type": "subslide"
    }
   },
   "source": [
    "##### Translating to Upper and Lower Equivalents\n",
    "\n",
    "A major complication is supporting `upper()` and `lower()` methods. We use the previously defined `zchr()` and `zord()` functions to accomplish this."
   ]
  },
  {
   "cell_type": "code",
   "execution_count": 134,
   "metadata": {
    "execution": {
     "iopub.execute_input": "2022-01-02T15:43:25.665196Z",
     "iopub.status.busy": "2022-01-02T15:43:25.663188Z",
     "iopub.status.idle": "2022-01-02T15:43:25.670000Z",
     "shell.execute_reply": "2022-01-02T15:43:25.670942Z"
    },
    "slideshow": {
     "slide_type": "subslide"
    }
   },
   "outputs": [],
   "source": [
    "class zstr(zstr):\n",
    "    def upper(self):\n",
    "        empty = ''\n",
    "        ne = 'empty_%d' % fresh_name()\n",
    "        result = zstr.create(self.context, ne, empty)\n",
    "        self.context[1].append(z3.StringVal(empty) == result.z)\n",
    "        cdiff = (ord('a') - ord('A'))\n",
    "        for i in self:\n",
    "            oz = zord(self.context, i.z)\n",
    "            uz = zchr(self.context, oz - cdiff)\n",
    "            rz = z3.And([oz >= ord('a'), oz <= ord('z')])\n",
    "            ov = ord(i.v)\n",
    "            uv = chr(ov - cdiff)\n",
    "            rv = ov >= ord('a') and ov <= ord('z')\n",
    "            if zbool(self.context, rz, rv):\n",
    "                i = zstr(self.context, uz, uv)\n",
    "            else:\n",
    "                i = zstr(self.context, i.z, i.v)\n",
    "            result += i\n",
    "        return result"
   ]
  },
  {
   "cell_type": "markdown",
   "metadata": {
    "slideshow": {
     "slide_type": "subslide"
    }
   },
   "source": [
    "The `lower()` function is similar to `upper()` except that the character ranges are switched, and the lowercase is above uppercase. Hence, we add the difference to the ordinal to make a character to lowercase."
   ]
  },
  {
   "cell_type": "code",
   "execution_count": 135,
   "metadata": {
    "execution": {
     "iopub.execute_input": "2022-01-02T15:43:25.686166Z",
     "iopub.status.busy": "2022-01-02T15:43:25.684786Z",
     "iopub.status.idle": "2022-01-02T15:43:25.688008Z",
     "shell.execute_reply": "2022-01-02T15:43:25.688588Z"
    },
    "slideshow": {
     "slide_type": "subslide"
    }
   },
   "outputs": [],
   "source": [
    "class zstr(zstr):\n",
    "    def lower(self):\n",
    "        empty = ''\n",
    "        ne = 'empty_%d' % fresh_name()\n",
    "        result = zstr.create(self.context, ne, empty)\n",
    "        self.context[1].append(z3.StringVal(empty) == result.z)\n",
    "        cdiff = (ord('a') - ord('A'))\n",
    "        for i in self:\n",
    "            oz = zord(self.context, i.z)\n",
    "            uz = zchr(self.context, oz + cdiff)\n",
    "            rz = z3.And([oz >= ord('A'), oz <= ord('Z')])\n",
    "            ov = ord(i.v)\n",
    "            uv = chr(ov + cdiff)\n",
    "            rv = ov >= ord('A') and ov <= ord('Z')\n",
    "            if zbool(self.context, rz, rv):\n",
    "                i = zstr(self.context, uz, uv)\n",
    "            else:\n",
    "                i = zstr(self.context, i.z, i.v)\n",
    "            result += i\n",
    "        return result"
   ]
  },
  {
   "cell_type": "markdown",
   "metadata": {
    "slideshow": {
     "slide_type": "subslide"
    }
   },
   "source": [
    "Here is how it is used."
   ]
  },
  {
   "cell_type": "code",
   "execution_count": 136,
   "metadata": {
    "execution": {
     "iopub.execute_input": "2022-01-02T15:43:25.695684Z",
     "iopub.status.busy": "2022-01-02T15:43:25.694629Z",
     "iopub.status.idle": "2022-01-02T15:43:25.697345Z",
     "shell.execute_reply": "2022-01-02T15:43:25.698028Z"
    },
    "slideshow": {
     "slide_type": "fragment"
    }
   },
   "outputs": [],
   "source": [
    "def tstr3(s):\n",
    "    if s.upper() == 'H':\n",
    "        return True\n",
    "    else:\n",
    "        return False"
   ]
  },
  {
   "cell_type": "code",
   "execution_count": 137,
   "metadata": {
    "execution": {
     "iopub.execute_input": "2022-01-02T15:43:25.705185Z",
     "iopub.status.busy": "2022-01-02T15:43:25.703819Z",
     "iopub.status.idle": "2022-01-02T15:43:25.712258Z",
     "shell.execute_reply": "2022-01-02T15:43:25.713386Z"
    },
    "slideshow": {
     "slide_type": "fragment"
    }
   },
   "outputs": [],
   "source": [
    "with ConcolicTracer() as _:\n",
    "    r = _[tstr3]('h')"
   ]
  },
  {
   "cell_type": "markdown",
   "metadata": {
    "slideshow": {
     "slide_type": "fragment"
    }
   },
   "source": [
    "Again, we use `zeval()` to solve the collected constraints, and verify that our constraints are correct. "
   ]
  },
  {
   "cell_type": "code",
   "execution_count": 138,
   "metadata": {
    "execution": {
     "iopub.execute_input": "2022-01-02T15:43:25.721406Z",
     "iopub.status.busy": "2022-01-02T15:43:25.720142Z",
     "iopub.status.idle": "2022-01-02T15:43:25.778409Z",
     "shell.execute_reply": "2022-01-02T15:43:25.779017Z"
    },
    "slideshow": {
     "slide_type": "fragment"
    }
   },
   "outputs": [
    {
     "data": {
      "text/plain": [
       "('sat', {'s': ('h', 'String')})"
      ]
     },
     "execution_count": 138,
     "metadata": {},
     "output_type": "execute_result"
    }
   ],
   "source": [
    "_.zeval()"
   ]
  },
  {
   "cell_type": "markdown",
   "metadata": {
    "slideshow": {
     "slide_type": "fragment"
    }
   },
   "source": [
    "Here is a larger example using `upper()`"
   ]
  },
  {
   "cell_type": "code",
   "execution_count": 139,
   "metadata": {
    "execution": {
     "iopub.execute_input": "2022-01-02T15:43:25.786329Z",
     "iopub.status.busy": "2022-01-02T15:43:25.785449Z",
     "iopub.status.idle": "2022-01-02T15:43:25.787568Z",
     "shell.execute_reply": "2022-01-02T15:43:25.788119Z"
    },
    "slideshow": {
     "slide_type": "subslide"
    }
   },
   "outputs": [],
   "source": [
    "def tstr4(s):\n",
    "    if s.lower() == 'hello world':\n",
    "        return True\n",
    "    else:\n",
    "        return False"
   ]
  },
  {
   "cell_type": "code",
   "execution_count": 140,
   "metadata": {
    "execution": {
     "iopub.execute_input": "2022-01-02T15:43:25.792316Z",
     "iopub.status.busy": "2022-01-02T15:43:25.791664Z",
     "iopub.status.idle": "2022-01-02T15:43:25.807071Z",
     "shell.execute_reply": "2022-01-02T15:43:25.807639Z"
    },
    "slideshow": {
     "slide_type": "fragment"
    }
   },
   "outputs": [],
   "source": [
    "with ConcolicTracer() as _:\n",
    "    r = _[tstr4]('Hello World')"
   ]
  },
  {
   "cell_type": "code",
   "execution_count": 141,
   "metadata": {
    "execution": {
     "iopub.execute_input": "2022-01-02T15:43:25.812246Z",
     "iopub.status.busy": "2022-01-02T15:43:25.811426Z",
     "iopub.status.idle": "2022-01-02T15:43:25.918996Z",
     "shell.execute_reply": "2022-01-02T15:43:25.919579Z"
    },
    "slideshow": {
     "slide_type": "fragment"
    }
   },
   "outputs": [
    {
     "data": {
      "text/plain": [
       "('Gave up', None)"
      ]
     },
     "execution_count": 141,
     "metadata": {},
     "output_type": "execute_result"
    }
   ],
   "source": [
    "_.zeval()"
   ]
  },
  {
   "cell_type": "markdown",
   "metadata": {
    "slideshow": {
     "slide_type": "fragment"
    }
   },
   "source": [
    "Again, we obtain the right input value."
   ]
  },
  {
   "cell_type": "markdown",
   "metadata": {
    "slideshow": {
     "slide_type": "subslide"
    }
   },
   "source": [
    "##### Checking for String Prefixes\n",
    "We define `startswith()`."
   ]
  },
  {
   "cell_type": "code",
   "execution_count": 142,
   "metadata": {
    "execution": {
     "iopub.execute_input": "2022-01-02T15:43:25.926611Z",
     "iopub.status.busy": "2022-01-02T15:43:25.926003Z",
     "iopub.status.idle": "2022-01-02T15:43:25.927855Z",
     "shell.execute_reply": "2022-01-02T15:43:25.928282Z"
    },
    "slideshow": {
     "slide_type": "subslide"
    }
   },
   "outputs": [],
   "source": [
    "class zstr(zstr):\n",
    "    def startswith(self, other, beg=0, end=None):\n",
    "        assert end is None  # for now\n",
    "        assert isinstance(beg, int)  # for now\n",
    "        zb = z3.IntVal(beg)\n",
    "\n",
    "        others = other if isinstance(other, tuple) else (other, )\n",
    "\n",
    "        last = False\n",
    "        for o in others:\n",
    "            z, v = self._zv(o)\n",
    "            r = z3.IndexOf(self.z, z, zb)\n",
    "            last = zbool(self.context, r == zb, self.v.startswith(v))\n",
    "            if last:\n",
    "                return last\n",
    "        return last"
   ]
  },
  {
   "cell_type": "markdown",
   "metadata": {
    "slideshow": {
     "slide_type": "subslide"
    }
   },
   "source": [
    "An example."
   ]
  },
  {
   "cell_type": "code",
   "execution_count": 143,
   "metadata": {
    "execution": {
     "iopub.execute_input": "2022-01-02T15:43:25.933208Z",
     "iopub.status.busy": "2022-01-02T15:43:25.932461Z",
     "iopub.status.idle": "2022-01-02T15:43:25.934544Z",
     "shell.execute_reply": "2022-01-02T15:43:25.935298Z"
    },
    "slideshow": {
     "slide_type": "fragment"
    }
   },
   "outputs": [],
   "source": [
    "def tstr5(s):\n",
    "    if s.startswith('hello'):\n",
    "        return True\n",
    "    else:\n",
    "        return False"
   ]
  },
  {
   "cell_type": "code",
   "execution_count": 144,
   "metadata": {
    "execution": {
     "iopub.execute_input": "2022-01-02T15:43:25.939746Z",
     "iopub.status.busy": "2022-01-02T15:43:25.939060Z",
     "iopub.status.idle": "2022-01-02T15:43:25.942369Z",
     "shell.execute_reply": "2022-01-02T15:43:25.942877Z"
    },
    "slideshow": {
     "slide_type": "fragment"
    }
   },
   "outputs": [],
   "source": [
    "with ConcolicTracer() as _:\n",
    "    r = _[tstr5]('hello world')"
   ]
  },
  {
   "cell_type": "code",
   "execution_count": 145,
   "metadata": {
    "execution": {
     "iopub.execute_input": "2022-01-02T15:43:25.947517Z",
     "iopub.status.busy": "2022-01-02T15:43:25.946774Z",
     "iopub.status.idle": "2022-01-02T15:43:25.985982Z",
     "shell.execute_reply": "2022-01-02T15:43:25.986473Z"
    },
    "slideshow": {
     "slide_type": "fragment"
    }
   },
   "outputs": [
    {
     "data": {
      "text/plain": [
       "('sat', {'s': ('hello', 'String')})"
      ]
     },
     "execution_count": 145,
     "metadata": {},
     "output_type": "execute_result"
    }
   ],
   "source": [
    "_.zeval()"
   ]
  },
  {
   "cell_type": "code",
   "execution_count": 146,
   "metadata": {
    "execution": {
     "iopub.execute_input": "2022-01-02T15:43:25.991606Z",
     "iopub.status.busy": "2022-01-02T15:43:25.990917Z",
     "iopub.status.idle": "2022-01-02T15:43:25.993435Z",
     "shell.execute_reply": "2022-01-02T15:43:25.993969Z"
    },
    "slideshow": {
     "slide_type": "fragment"
    }
   },
   "outputs": [],
   "source": [
    "with ConcolicTracer() as _:\n",
    "    r = _[tstr5]('my world')"
   ]
  },
  {
   "cell_type": "code",
   "execution_count": 147,
   "metadata": {
    "execution": {
     "iopub.execute_input": "2022-01-02T15:43:25.998872Z",
     "iopub.status.busy": "2022-01-02T15:43:25.997904Z",
     "iopub.status.idle": "2022-01-02T15:43:26.045607Z",
     "shell.execute_reply": "2022-01-02T15:43:26.046240Z"
    },
    "slideshow": {
     "slide_type": "fragment"
    }
   },
   "outputs": [
    {
     "data": {
      "text/plain": [
       "('sat', {'s': ('', 'String')})"
      ]
     },
     "execution_count": 147,
     "metadata": {},
     "output_type": "execute_result"
    }
   ],
   "source": [
    "_.zeval()"
   ]
  },
  {
   "cell_type": "markdown",
   "metadata": {
    "slideshow": {
     "slide_type": "subslide"
    }
   },
   "source": [
    "As before, the predicates only ensure that the `startswith()` returned a true value. Hence, our solution reflects that."
   ]
  },
  {
   "cell_type": "markdown",
   "metadata": {
    "slideshow": {
     "slide_type": "subslide"
    }
   },
   "source": [
    "##### Finding Substrings\n",
    "We also define `find()`"
   ]
  },
  {
   "cell_type": "code",
   "execution_count": 148,
   "metadata": {
    "execution": {
     "iopub.execute_input": "2022-01-02T15:43:26.052900Z",
     "iopub.status.busy": "2022-01-02T15:43:26.052196Z",
     "iopub.status.idle": "2022-01-02T15:43:26.053933Z",
     "shell.execute_reply": "2022-01-02T15:43:26.054438Z"
    },
    "slideshow": {
     "slide_type": "fragment"
    }
   },
   "outputs": [],
   "source": [
    "class zstr(zstr):\n",
    "    def find(self, other, beg=0, end=None):\n",
    "        assert end is None  # for now\n",
    "        assert isinstance(beg, int)  # for now\n",
    "        zb = z3.IntVal(beg)\n",
    "        z, v = self._zv(other)\n",
    "        zi = z3.IndexOf(self.z, z, zb)\n",
    "        vi = self.v.find(v, beg, end)\n",
    "        return zint(self.context, zi, vi)"
   ]
  },
  {
   "cell_type": "markdown",
   "metadata": {
    "slideshow": {
     "slide_type": "fragment"
    }
   },
   "source": [
    "An example."
   ]
  },
  {
   "cell_type": "code",
   "execution_count": 149,
   "metadata": {
    "execution": {
     "iopub.execute_input": "2022-01-02T15:43:26.058919Z",
     "iopub.status.busy": "2022-01-02T15:43:26.058138Z",
     "iopub.status.idle": "2022-01-02T15:43:26.060114Z",
     "shell.execute_reply": "2022-01-02T15:43:26.060542Z"
    },
    "slideshow": {
     "slide_type": "subslide"
    }
   },
   "outputs": [],
   "source": [
    "def tstr6(s):\n",
    "    if s.find('world') != -1:\n",
    "        return True\n",
    "    else:\n",
    "        return False"
   ]
  },
  {
   "cell_type": "code",
   "execution_count": 150,
   "metadata": {
    "execution": {
     "iopub.execute_input": "2022-01-02T15:43:26.064615Z",
     "iopub.status.busy": "2022-01-02T15:43:26.063964Z",
     "iopub.status.idle": "2022-01-02T15:43:26.066520Z",
     "shell.execute_reply": "2022-01-02T15:43:26.066943Z"
    },
    "slideshow": {
     "slide_type": "fragment"
    }
   },
   "outputs": [],
   "source": [
    "with ConcolicTracer() as _:\n",
    "    r = _[tstr6]('hello world')"
   ]
  },
  {
   "cell_type": "code",
   "execution_count": 151,
   "metadata": {
    "execution": {
     "iopub.execute_input": "2022-01-02T15:43:26.070734Z",
     "iopub.status.busy": "2022-01-02T15:43:26.070093Z",
     "iopub.status.idle": "2022-01-02T15:43:26.113483Z",
     "shell.execute_reply": "2022-01-02T15:43:26.113993Z"
    },
    "slideshow": {
     "slide_type": "fragment"
    }
   },
   "outputs": [
    {
     "data": {
      "text/plain": [
       "('sat', {'s': ('world', 'String')})"
      ]
     },
     "execution_count": 151,
     "metadata": {},
     "output_type": "execute_result"
    }
   ],
   "source": [
    "_.zeval()"
   ]
  },
  {
   "cell_type": "markdown",
   "metadata": {
    "slideshow": {
     "slide_type": "fragment"
    }
   },
   "source": [
    "As before, the predicates only ensure that the `find()` returned a value greater than -1. Hence, our solution reflects that."
   ]
  },
  {
   "cell_type": "markdown",
   "metadata": {
    "slideshow": {
     "slide_type": "subslide"
    }
   },
   "source": [
    "##### Remove Space from Ends"
   ]
  },
  {
   "cell_type": "markdown",
   "metadata": {
    "slideshow": {
     "slide_type": "fragment"
    }
   },
   "source": [
    "We next implement `strip()`."
   ]
  },
  {
   "cell_type": "code",
   "execution_count": 152,
   "metadata": {
    "execution": {
     "iopub.execute_input": "2022-01-02T15:43:26.119496Z",
     "iopub.status.busy": "2022-01-02T15:43:26.118769Z",
     "iopub.status.idle": "2022-01-02T15:43:26.120621Z",
     "shell.execute_reply": "2022-01-02T15:43:26.121169Z"
    },
    "slideshow": {
     "slide_type": "skip"
    }
   },
   "outputs": [],
   "source": [
    "import string"
   ]
  },
  {
   "cell_type": "code",
   "execution_count": 153,
   "metadata": {
    "execution": {
     "iopub.execute_input": "2022-01-02T15:43:26.128125Z",
     "iopub.status.busy": "2022-01-02T15:43:26.127493Z",
     "iopub.status.idle": "2022-01-02T15:43:26.129633Z",
     "shell.execute_reply": "2022-01-02T15:43:26.130181Z"
    },
    "slideshow": {
     "slide_type": "subslide"
    }
   },
   "outputs": [],
   "source": [
    "class zstr(zstr):\n",
    "    def rstrip(self, chars=None):\n",
    "        if chars is None:\n",
    "            chars = string.whitespace\n",
    "        if self._len == 0:\n",
    "            return self\n",
    "        else:\n",
    "            last_idx = self._len - 1\n",
    "            cz = z3.SubString(self.z, last_idx.z, 1)\n",
    "            cv = self.v[-1]\n",
    "            zcheck_space = z3.Or([cz == z3.StringVal(char) for char in chars])\n",
    "            vcheck_space = any(cv == char for char in chars)\n",
    "            if zbool(self.context, zcheck_space, vcheck_space):\n",
    "                return zstr(self.context, z3.SubString(self.z, 0, last_idx.z),\n",
    "                            self.v[0:-1]).rstrip(chars)\n",
    "            else:\n",
    "                return self"
   ]
  },
  {
   "cell_type": "code",
   "execution_count": 154,
   "metadata": {
    "execution": {
     "iopub.execute_input": "2022-01-02T15:43:26.134576Z",
     "iopub.status.busy": "2022-01-02T15:43:26.133859Z",
     "iopub.status.idle": "2022-01-02T15:43:26.135816Z",
     "shell.execute_reply": "2022-01-02T15:43:26.136293Z"
    },
    "slideshow": {
     "slide_type": "subslide"
    }
   },
   "outputs": [],
   "source": [
    "def tstr7(s):\n",
    "    if s.rstrip(' ') == 'a b':\n",
    "        return True\n",
    "    else:\n",
    "        return False"
   ]
  },
  {
   "cell_type": "code",
   "execution_count": 155,
   "metadata": {
    "execution": {
     "iopub.execute_input": "2022-01-02T15:43:26.140627Z",
     "iopub.status.busy": "2022-01-02T15:43:26.139878Z",
     "iopub.status.idle": "2022-01-02T15:43:26.144824Z",
     "shell.execute_reply": "2022-01-02T15:43:26.145317Z"
    },
    "slideshow": {
     "slide_type": "fragment"
    }
   },
   "outputs": [
    {
     "name": "stdout",
     "output_type": "stream",
     "text": [
      "True\n"
     ]
    }
   ],
   "source": [
    "with ConcolicTracer() as _:\n",
    "    r = _[tstr7]('a b   ')\n",
    "    print(r)"
   ]
  },
  {
   "cell_type": "code",
   "execution_count": 156,
   "metadata": {
    "execution": {
     "iopub.execute_input": "2022-01-02T15:43:26.148801Z",
     "iopub.status.busy": "2022-01-02T15:43:26.148144Z",
     "iopub.status.idle": "2022-01-02T15:43:26.204791Z",
     "shell.execute_reply": "2022-01-02T15:43:26.205606Z"
    },
    "slideshow": {
     "slide_type": "fragment"
    }
   },
   "outputs": [
    {
     "data": {
      "text/plain": [
       "('sat', {'s': ('a b   ', 'String')})"
      ]
     },
     "execution_count": 156,
     "metadata": {},
     "output_type": "execute_result"
    }
   ],
   "source": [
    "_.zeval()"
   ]
  },
  {
   "cell_type": "code",
   "execution_count": 157,
   "metadata": {
    "execution": {
     "iopub.execute_input": "2022-01-02T15:43:26.215272Z",
     "iopub.status.busy": "2022-01-02T15:43:26.214215Z",
     "iopub.status.idle": "2022-01-02T15:43:26.217382Z",
     "shell.execute_reply": "2022-01-02T15:43:26.216691Z"
    },
    "slideshow": {
     "slide_type": "subslide"
    }
   },
   "outputs": [],
   "source": [
    "class zstr(zstr):\n",
    "    def lstrip(self, chars=None):\n",
    "        if chars is None:\n",
    "            chars = string.whitespace\n",
    "        if self._len == 0:\n",
    "            return self\n",
    "        else:\n",
    "            first_idx = 0\n",
    "            cz = z3.SubString(self.z, 0, 1)\n",
    "            cv = self.v[0]\n",
    "            zcheck_space = z3.Or([cz == z3.StringVal(char) for char in chars])\n",
    "            vcheck_space = any(cv == char for char in chars)\n",
    "            if zbool(self.context, zcheck_space, vcheck_space):\n",
    "                return zstr(self.context, z3.SubString(\n",
    "                    self.z, 1, self._len.z), self.v[1:]).lstrip(chars)\n",
    "            else:\n",
    "                return self"
   ]
  },
  {
   "cell_type": "code",
   "execution_count": 158,
   "metadata": {
    "execution": {
     "iopub.execute_input": "2022-01-02T15:43:26.222820Z",
     "iopub.status.busy": "2022-01-02T15:43:26.222166Z",
     "iopub.status.idle": "2022-01-02T15:43:26.224146Z",
     "shell.execute_reply": "2022-01-02T15:43:26.224572Z"
    },
    "slideshow": {
     "slide_type": "subslide"
    }
   },
   "outputs": [],
   "source": [
    "def tstr8(s):\n",
    "    if s.lstrip(' ') == 'a b':\n",
    "        return True\n",
    "    else:\n",
    "        return False"
   ]
  },
  {
   "cell_type": "code",
   "execution_count": 159,
   "metadata": {
    "execution": {
     "iopub.execute_input": "2022-01-02T15:43:26.228425Z",
     "iopub.status.busy": "2022-01-02T15:43:26.227834Z",
     "iopub.status.idle": "2022-01-02T15:43:26.233296Z",
     "shell.execute_reply": "2022-01-02T15:43:26.233721Z"
    },
    "slideshow": {
     "slide_type": "fragment"
    }
   },
   "outputs": [
    {
     "name": "stdout",
     "output_type": "stream",
     "text": [
      "True\n"
     ]
    }
   ],
   "source": [
    "with ConcolicTracer() as _:\n",
    "    r = _[tstr8]('   a b')\n",
    "    print(r)"
   ]
  },
  {
   "cell_type": "code",
   "execution_count": 160,
   "metadata": {
    "execution": {
     "iopub.execute_input": "2022-01-02T15:43:26.238385Z",
     "iopub.status.busy": "2022-01-02T15:43:26.237733Z",
     "iopub.status.idle": "2022-01-02T15:43:26.280423Z",
     "shell.execute_reply": "2022-01-02T15:43:26.280919Z"
    },
    "slideshow": {
     "slide_type": "fragment"
    }
   },
   "outputs": [
    {
     "data": {
      "text/plain": [
       "('sat', {'s': ('   a b', 'String')})"
      ]
     },
     "execution_count": 160,
     "metadata": {},
     "output_type": "execute_result"
    }
   ],
   "source": [
    "_.zeval()"
   ]
  },
  {
   "cell_type": "code",
   "execution_count": 161,
   "metadata": {
    "execution": {
     "iopub.execute_input": "2022-01-02T15:43:26.285802Z",
     "iopub.status.busy": "2022-01-02T15:43:26.285108Z",
     "iopub.status.idle": "2022-01-02T15:43:26.286696Z",
     "shell.execute_reply": "2022-01-02T15:43:26.287298Z"
    },
    "slideshow": {
     "slide_type": "fragment"
    }
   },
   "outputs": [],
   "source": [
    "class zstr(zstr):\n",
    "    def strip(self, chars=None):\n",
    "        return self.lstrip(chars).rstrip(chars)"
   ]
  },
  {
   "cell_type": "markdown",
   "metadata": {
    "slideshow": {
     "slide_type": "subslide"
    }
   },
   "source": [
    "Example usage."
   ]
  },
  {
   "cell_type": "code",
   "execution_count": 162,
   "metadata": {
    "execution": {
     "iopub.execute_input": "2022-01-02T15:43:26.291396Z",
     "iopub.status.busy": "2022-01-02T15:43:26.290774Z",
     "iopub.status.idle": "2022-01-02T15:43:26.292530Z",
     "shell.execute_reply": "2022-01-02T15:43:26.292942Z"
    },
    "slideshow": {
     "slide_type": "fragment"
    }
   },
   "outputs": [],
   "source": [
    "def tstr9(s):\n",
    "    if s.strip() == 'a b':\n",
    "        return True\n",
    "    else:\n",
    "        return False"
   ]
  },
  {
   "cell_type": "code",
   "execution_count": 163,
   "metadata": {
    "execution": {
     "iopub.execute_input": "2022-01-02T15:43:26.296681Z",
     "iopub.status.busy": "2022-01-02T15:43:26.296087Z",
     "iopub.status.idle": "2022-01-02T15:43:26.307308Z",
     "shell.execute_reply": "2022-01-02T15:43:26.307843Z"
    },
    "slideshow": {
     "slide_type": "fragment"
    }
   },
   "outputs": [
    {
     "name": "stdout",
     "output_type": "stream",
     "text": [
      "True\n"
     ]
    }
   ],
   "source": [
    "with ConcolicTracer() as _:\n",
    "    r = _[tstr9]('    a b  ')\n",
    "    print(r)"
   ]
  },
  {
   "cell_type": "code",
   "execution_count": 164,
   "metadata": {
    "execution": {
     "iopub.execute_input": "2022-01-02T15:43:26.311503Z",
     "iopub.status.busy": "2022-01-02T15:43:26.310870Z",
     "iopub.status.idle": "2022-01-02T15:43:26.373169Z",
     "shell.execute_reply": "2022-01-02T15:43:26.373607Z"
    },
    "slideshow": {
     "slide_type": "fragment"
    }
   },
   "outputs": [
    {
     "data": {
      "text/plain": [
       "('sat', {'s': ('\\\\n\\\\n\\\\f\\\\fa b \\\\f', 'String')})"
      ]
     },
     "execution_count": 164,
     "metadata": {},
     "output_type": "execute_result"
    }
   ],
   "source": [
    "_.zeval()"
   ]
  },
  {
   "cell_type": "markdown",
   "metadata": {
    "slideshow": {
     "slide_type": "fragment"
    }
   },
   "source": [
    "The `strip()` has generated the right constraints. "
   ]
  },
  {
   "cell_type": "markdown",
   "metadata": {
    "slideshow": {
     "slide_type": "subslide"
    }
   },
   "source": [
    "##### Splitting Strings\n",
    "\n",
    "We implement string `split()` as follows."
   ]
  },
  {
   "cell_type": "code",
   "execution_count": 165,
   "metadata": {
    "execution": {
     "iopub.execute_input": "2022-01-02T15:43:26.383025Z",
     "iopub.status.busy": "2022-01-02T15:43:26.382353Z",
     "iopub.status.idle": "2022-01-02T15:43:26.383992Z",
     "shell.execute_reply": "2022-01-02T15:43:26.384412Z"
    },
    "slideshow": {
     "slide_type": "subslide"
    }
   },
   "outputs": [],
   "source": [
    "class zstr(zstr):\n",
    "    def split(self, sep=None, maxsplit=-1):\n",
    "        assert sep is not None  # default space based split is complicated\n",
    "        assert maxsplit == -1  # for now.\n",
    "        zsep = z3.StringVal(sep)\n",
    "        zl = z3.Length(zsep)\n",
    "        # zi would be the length of prefix\n",
    "        zi = z3.IndexOf(self.z, zsep, z3.IntVal(0))\n",
    "        # Z3Bug: There is a bug in the `z3.IndexOf` method which returns\n",
    "        # `z3.SeqRef` instead of `z3.ArithRef`. So we need to fix it.\n",
    "        zi = z3.ArithRef(zi.ast, zi.ctx)\n",
    "\n",
    "        vi = self.v.find(sep)\n",
    "        if zbool(self.context, zi >= z3.IntVal(0), vi >= 0):\n",
    "            zprefix = z3.SubString(self.z, z3.IntVal(0), zi)\n",
    "            zmid = z3.SubString(self.z, zi, zl)\n",
    "            zsuffix = z3.SubString(self.z, zi + zl,\n",
    "                                   z3.Length(self.z))\n",
    "            return [zstr(self.context, zprefix, self.v[0:vi])] + zstr(\n",
    "                self.context, zsuffix, self.v[vi + len(sep):]).split(\n",
    "                    sep, maxsplit)\n",
    "        else:\n",
    "            return [self]"
   ]
  },
  {
   "cell_type": "code",
   "execution_count": 166,
   "metadata": {
    "execution": {
     "iopub.execute_input": "2022-01-02T15:43:26.388520Z",
     "iopub.status.busy": "2022-01-02T15:43:26.387918Z",
     "iopub.status.idle": "2022-01-02T15:43:26.389653Z",
     "shell.execute_reply": "2022-01-02T15:43:26.390069Z"
    },
    "slideshow": {
     "slide_type": "subslide"
    }
   },
   "outputs": [],
   "source": [
    "def tstr10(s):\n",
    "    if s.split(',') == ['a', 'b', 'c']:\n",
    "        return True\n",
    "    else:\n",
    "        return False"
   ]
  },
  {
   "cell_type": "code",
   "execution_count": 167,
   "metadata": {
    "execution": {
     "iopub.execute_input": "2022-01-02T15:43:26.393819Z",
     "iopub.status.busy": "2022-01-02T15:43:26.393172Z",
     "iopub.status.idle": "2022-01-02T15:43:26.397856Z",
     "shell.execute_reply": "2022-01-02T15:43:26.398275Z"
    },
    "slideshow": {
     "slide_type": "fragment"
    }
   },
   "outputs": [
    {
     "name": "stdout",
     "output_type": "stream",
     "text": [
      "True\n"
     ]
    }
   ],
   "source": [
    "with ConcolicTracer() as _:\n",
    "    r = _[tstr10]('a,b,c')\n",
    "    print(r)"
   ]
  },
  {
   "cell_type": "code",
   "execution_count": 168,
   "metadata": {
    "execution": {
     "iopub.execute_input": "2022-01-02T15:43:26.402066Z",
     "iopub.status.busy": "2022-01-02T15:43:26.401340Z",
     "iopub.status.idle": "2022-01-02T15:43:26.458082Z",
     "shell.execute_reply": "2022-01-02T15:43:26.459328Z"
    },
    "slideshow": {
     "slide_type": "fragment"
    }
   },
   "outputs": [
    {
     "data": {
      "text/plain": [
       "('sat', {'s': ('a,b,c', 'String')})"
      ]
     },
     "execution_count": 168,
     "metadata": {},
     "output_type": "execute_result"
    }
   ],
   "source": [
    "_.zeval()"
   ]
  },
  {
   "cell_type": "markdown",
   "metadata": {
    "slideshow": {
     "slide_type": "subslide"
    }
   },
   "source": [
    "##### Trip Wire\n",
    "\n",
    "For easier debugging, we abort any calls to methods in `str` that are not overridden by `zstr`."
   ]
  },
  {
   "cell_type": "code",
   "execution_count": 169,
   "metadata": {
    "execution": {
     "iopub.execute_input": "2022-01-02T15:43:26.465388Z",
     "iopub.status.busy": "2022-01-02T15:43:26.464797Z",
     "iopub.status.idle": "2022-01-02T15:43:26.466489Z",
     "shell.execute_reply": "2022-01-02T15:43:26.466907Z"
    },
    "slideshow": {
     "slide_type": "fragment"
    }
   },
   "outputs": [],
   "source": [
    "def make_str_abort_wrapper(fun):\n",
    "    def proxy(*args, **kwargs):\n",
    "        raise Exception('%s Not implemented in `zstr`' % fun.__name__)\n",
    "    return proxy"
   ]
  },
  {
   "cell_type": "code",
   "execution_count": 170,
   "metadata": {
    "execution": {
     "iopub.execute_input": "2022-01-02T15:43:26.474755Z",
     "iopub.status.busy": "2022-01-02T15:43:26.473997Z",
     "iopub.status.idle": "2022-01-02T15:43:26.476450Z",
     "shell.execute_reply": "2022-01-02T15:43:26.476001Z"
    },
    "slideshow": {
     "slide_type": "subslide"
    }
   },
   "outputs": [],
   "source": [
    "def init_concolic_3():\n",
    "    strmembers = inspect.getmembers(zstr, callable)\n",
    "    zstrmembers = {m[0] for m in strmembers if len(\n",
    "        m) == 2 and 'zstr' in m[1].__qualname__}\n",
    "    for name, fn in inspect.getmembers(str, callable):\n",
    "        # Omitted 'splitlines' as this is needed for formatting output in\n",
    "        # IPython/Jupyter\n",
    "        if name not in zstrmembers and name not in [\n",
    "            'splitlines',\n",
    "            '__class__',\n",
    "            '__contains__',\n",
    "            '__delattr__',\n",
    "            '__dir__',\n",
    "            '__format__',\n",
    "            '__ge__',\n",
    "            '__getattribute__',\n",
    "            '__getnewargs__',\n",
    "            '__gt__',\n",
    "            '__hash__',\n",
    "            '__le__',\n",
    "            '__len__',\n",
    "            '__lt__',\n",
    "            '__mod__',\n",
    "            '__mul__',\n",
    "            '__ne__',\n",
    "            '__reduce__',\n",
    "            '__reduce_ex__',\n",
    "            '__repr__',\n",
    "            '__rmod__',\n",
    "            '__rmul__',\n",
    "            '__setattr__',\n",
    "            '__sizeof__',\n",
    "                '__str__']:\n",
    "            setattr(zstr, name, make_str_abort_wrapper(fn))"
   ]
  },
  {
   "cell_type": "code",
   "execution_count": 171,
   "metadata": {
    "execution": {
     "iopub.execute_input": "2022-01-02T15:43:26.480521Z",
     "iopub.status.busy": "2022-01-02T15:43:26.479766Z",
     "iopub.status.idle": "2022-01-02T15:43:26.481594Z",
     "shell.execute_reply": "2022-01-02T15:43:26.482003Z"
    },
    "slideshow": {
     "slide_type": "subslide"
    }
   },
   "outputs": [],
   "source": [
    "INITIALIZER_LIST.append(init_concolic_3)"
   ]
  },
  {
   "cell_type": "code",
   "execution_count": 172,
   "metadata": {
    "execution": {
     "iopub.execute_input": "2022-01-02T15:43:26.486690Z",
     "iopub.status.busy": "2022-01-02T15:43:26.485957Z",
     "iopub.status.idle": "2022-01-02T15:43:26.487565Z",
     "shell.execute_reply": "2022-01-02T15:43:26.487965Z"
    },
    "slideshow": {
     "slide_type": "fragment"
    },
    "tags": []
   },
   "outputs": [],
   "source": [
    "init_concolic_3()"
   ]
  },
  {
   "cell_type": "markdown",
   "metadata": {
    "slideshow": {
     "slide_type": "subslide"
    }
   },
   "source": [
    "### End of Excursion"
   ]
  },
  {
   "cell_type": "markdown",
   "metadata": {
    "slideshow": {
     "slide_type": "subslide"
    }
   },
   "source": [
    "### Example: Triangle\n",
    "\n",
    "We previously showed how to run `triangle()` under `ConcolicTracer`."
   ]
  },
  {
   "cell_type": "code",
   "execution_count": 173,
   "metadata": {
    "execution": {
     "iopub.execute_input": "2022-01-02T15:43:26.491971Z",
     "iopub.status.busy": "2022-01-02T15:43:26.491358Z",
     "iopub.status.idle": "2022-01-02T15:43:26.494401Z",
     "shell.execute_reply": "2022-01-02T15:43:26.494805Z"
    },
    "slideshow": {
     "slide_type": "fragment"
    }
   },
   "outputs": [
    {
     "name": "stdout",
     "output_type": "stream",
     "text": [
      "scalene\n"
     ]
    }
   ],
   "source": [
    "with ConcolicTracer() as _:\n",
    "    print(_[triangle](1, 2, 3))"
   ]
  },
  {
   "cell_type": "markdown",
   "metadata": {
    "slideshow": {
     "slide_type": "fragment"
    }
   },
   "source": [
    "The predicates are as follows:"
   ]
  },
  {
   "cell_type": "code",
   "execution_count": 174,
   "metadata": {
    "execution": {
     "iopub.execute_input": "2022-01-02T15:43:26.498759Z",
     "iopub.status.busy": "2022-01-02T15:43:26.498044Z",
     "iopub.status.idle": "2022-01-02T15:43:26.503835Z",
     "shell.execute_reply": "2022-01-02T15:43:26.503190Z"
    },
    "slideshow": {
     "slide_type": "fragment"
    }
   },
   "outputs": [
    {
     "data": {
      "text/plain": [
       "[Not(triangle_a_int_1 == triangle_b_int_2),\n",
       " Not(triangle_b_int_2 == triangle_c_int_3),\n",
       " Not(triangle_a_int_1 == triangle_c_int_3)]"
      ]
     },
     "execution_count": 174,
     "metadata": {},
     "output_type": "execute_result"
    }
   ],
   "source": [
    "_.path"
   ]
  },
  {
   "cell_type": "code",
   "execution_count": 175,
   "metadata": {
    "execution": {
     "iopub.execute_input": "2022-01-02T15:43:26.507780Z",
     "iopub.status.busy": "2022-01-02T15:43:26.507076Z",
     "iopub.status.idle": "2022-01-02T15:43:26.547274Z",
     "shell.execute_reply": "2022-01-02T15:43:26.547760Z"
    },
    "slideshow": {
     "slide_type": "subslide"
    }
   },
   "outputs": [
    {
     "data": {
      "text/plain": [
       "('sat',\n",
       " {'a': ('0', 'Int'), 'b': (['-', '2'], 'Int'), 'c': (['-', '1'], 'Int')})"
      ]
     },
     "execution_count": 175,
     "metadata": {},
     "output_type": "execute_result"
    }
   ],
   "source": [
    "_.zeval()"
   ]
  },
  {
   "cell_type": "markdown",
   "metadata": {
    "slideshow": {
     "slide_type": "fragment"
    }
   },
   "source": [
    "We can modify the predicates if necessary. First, we retrieve the symbolic variables."
   ]
  },
  {
   "cell_type": "code",
   "execution_count": 176,
   "metadata": {
    "execution": {
     "iopub.execute_input": "2022-01-02T15:43:26.552827Z",
     "iopub.status.busy": "2022-01-02T15:43:26.552256Z",
     "iopub.status.idle": "2022-01-02T15:43:26.554357Z",
     "shell.execute_reply": "2022-01-02T15:43:26.554832Z"
    },
    "slideshow": {
     "slide_type": "fragment"
    }
   },
   "outputs": [],
   "source": [
    "za, zb, zc = [z3.Int(s) for s in _.context[0].keys()]"
   ]
  },
  {
   "cell_type": "markdown",
   "metadata": {
    "slideshow": {
     "slide_type": "fragment"
    }
   },
   "source": [
    "Then, we pass a modified predicate to `zeval()`. The key determines which predicate the new predicate will replace."
   ]
  },
  {
   "cell_type": "code",
   "execution_count": 177,
   "metadata": {
    "execution": {
     "iopub.execute_input": "2022-01-02T15:43:26.558908Z",
     "iopub.status.busy": "2022-01-02T15:43:26.558274Z",
     "iopub.status.idle": "2022-01-02T15:43:26.603696Z",
     "shell.execute_reply": "2022-01-02T15:43:26.604199Z"
    },
    "slideshow": {
     "slide_type": "fragment"
    }
   },
   "outputs": [
    {
     "data": {
      "text/plain": [
       "('sat', {'a': -1, 'b': 1, 'c': 0})"
      ]
     },
     "execution_count": 177,
     "metadata": {},
     "output_type": "execute_result"
    }
   ],
   "source": [
    "_.zeval({1: zb == zc})"
   ]
  },
  {
   "cell_type": "code",
   "execution_count": 178,
   "metadata": {
    "execution": {
     "iopub.execute_input": "2022-01-02T15:43:26.609327Z",
     "iopub.status.busy": "2022-01-02T15:43:26.608087Z",
     "iopub.status.idle": "2022-01-02T15:43:26.611955Z",
     "shell.execute_reply": "2022-01-02T15:43:26.612446Z"
    },
    "slideshow": {
     "slide_type": "fragment"
    }
   },
   "outputs": [
    {
     "data": {
      "text/plain": [
       "'isosceles'"
      ]
     },
     "execution_count": 178,
     "metadata": {},
     "output_type": "execute_result"
    }
   ],
   "source": [
    "triangle(1, 0, 1)"
   ]
  },
  {
   "cell_type": "markdown",
   "metadata": {
    "slideshow": {
     "slide_type": "fragment"
    }
   },
   "source": [
    "The updated predicate returns `isosceles` as expected."
   ]
  },
  {
   "cell_type": "markdown",
   "metadata": {
    "slideshow": {
     "slide_type": "subslide"
    }
   },
   "source": [
    "### Example: Round\n",
    "\n",
    "Here is a function that gives you the nearest ten's multiplier"
   ]
  },
  {
   "cell_type": "code",
   "execution_count": 179,
   "metadata": {
    "execution": {
     "iopub.execute_input": "2022-01-02T15:43:26.617148Z",
     "iopub.status.busy": "2022-01-02T15:43:26.616470Z",
     "iopub.status.idle": "2022-01-02T15:43:26.618389Z",
     "shell.execute_reply": "2022-01-02T15:43:26.618936Z"
    },
    "slideshow": {
     "slide_type": "fragment"
    }
   },
   "outputs": [],
   "source": [
    "def round10(r):\n",
    "    while r % 10 != 0:\n",
    "        r += 1\n",
    "    return r"
   ]
  },
  {
   "cell_type": "markdown",
   "metadata": {
    "slideshow": {
     "slide_type": "fragment"
    }
   },
   "source": [
    "As before, we execute the function under the `ConcolicTracer` context."
   ]
  },
  {
   "cell_type": "code",
   "execution_count": 180,
   "metadata": {
    "execution": {
     "iopub.execute_input": "2022-01-02T15:43:26.623217Z",
     "iopub.status.busy": "2022-01-02T15:43:26.622634Z",
     "iopub.status.idle": "2022-01-02T15:43:26.628046Z",
     "shell.execute_reply": "2022-01-02T15:43:26.628585Z"
    },
    "slideshow": {
     "slide_type": "fragment"
    }
   },
   "outputs": [],
   "source": [
    "with ConcolicTracer() as _:\n",
    "    r = _[round10](1)"
   ]
  },
  {
   "cell_type": "markdown",
   "metadata": {
    "slideshow": {
     "slide_type": "fragment"
    }
   },
   "source": [
    "We verify that we were able to capture all the predicates:"
   ]
  },
  {
   "cell_type": "code",
   "execution_count": 181,
   "metadata": {
    "execution": {
     "iopub.execute_input": "2022-01-02T15:43:26.632644Z",
     "iopub.status.busy": "2022-01-02T15:43:26.632018Z",
     "iopub.status.idle": "2022-01-02T15:43:26.871103Z",
     "shell.execute_reply": "2022-01-02T15:43:26.871587Z"
    },
    "slideshow": {
     "slide_type": "subslide"
    }
   },
   "outputs": [
    {
     "data": {
      "text/plain": [
       "({'round10_r_int_1': 'Int'},\n",
       " [0 != round10_r_int_1%10,\n",
       "  0 != (round10_r_int_1 + 1)%10,\n",
       "  0 != (round10_r_int_1 + 1 + 1)%10,\n",
       "  0 != (round10_r_int_1 + 1 + 1 + 1)%10,\n",
       "  0 != (round10_r_int_1 + 1 + 1 + 1 + 1)%10,\n",
       "  0 != (round10_r_int_1 + 1 + 1 + 1 + 1 + 1)%10,\n",
       "  0 != (round10_r_int_1 + 1 + 1 + 1 + 1 + 1 + 1)%10,\n",
       "  0 != (round10_r_int_1 + 1 + 1 + 1 + 1 + 1 + 1 + 1)%10,\n",
       "  0 != (round10_r_int_1 + 1 + 1 + 1 + 1 + 1 + 1 + 1 + 1)%10,\n",
       "  Not(0 !=\n",
       "      (round10_r_int_1 + 1 + 1 + 1 + 1 + 1 + 1 + 1 + 1 + 1)%10)])"
      ]
     },
     "execution_count": 181,
     "metadata": {},
     "output_type": "execute_result"
    }
   ],
   "source": [
    "_.context"
   ]
  },
  {
   "cell_type": "markdown",
   "metadata": {
    "slideshow": {
     "slide_type": "fragment"
    }
   },
   "source": [
    "We use `zeval()` to obtain results."
   ]
  },
  {
   "cell_type": "code",
   "execution_count": 182,
   "metadata": {
    "execution": {
     "iopub.execute_input": "2022-01-02T15:43:26.875102Z",
     "iopub.status.busy": "2022-01-02T15:43:26.874493Z",
     "iopub.status.idle": "2022-01-02T15:43:26.910471Z",
     "shell.execute_reply": "2022-01-02T15:43:26.910933Z"
    },
    "slideshow": {
     "slide_type": "subslide"
    }
   },
   "outputs": [
    {
     "data": {
      "text/plain": [
       "('sat', {'r': (['-', '9'], 'Int')})"
      ]
     },
     "execution_count": 182,
     "metadata": {},
     "output_type": "execute_result"
    }
   ],
   "source": [
    "_.zeval()"
   ]
  },
  {
   "cell_type": "markdown",
   "metadata": {
    "slideshow": {
     "slide_type": "subslide"
    }
   },
   "source": [
    "### Example: Absolute Maximum\n",
    "\n",
    "Do our concolic proxies work across functions? Say we have a function `max_value()` as below."
   ]
  },
  {
   "cell_type": "code",
   "execution_count": 183,
   "metadata": {
    "execution": {
     "iopub.execute_input": "2022-01-02T15:43:26.915786Z",
     "iopub.status.busy": "2022-01-02T15:43:26.915235Z",
     "iopub.status.idle": "2022-01-02T15:43:26.917087Z",
     "shell.execute_reply": "2022-01-02T15:43:26.917481Z"
    },
    "slideshow": {
     "slide_type": "fragment"
    }
   },
   "outputs": [],
   "source": [
    "def abs_value(a):\n",
    "    if a > 0:\n",
    "        return a\n",
    "    else:\n",
    "        return -a"
   ]
  },
  {
   "cell_type": "markdown",
   "metadata": {
    "slideshow": {
     "slide_type": "fragment"
    }
   },
   "source": [
    "It is called by another function `abs_max()`"
   ]
  },
  {
   "cell_type": "code",
   "execution_count": 184,
   "metadata": {
    "execution": {
     "iopub.execute_input": "2022-01-02T15:43:26.921656Z",
     "iopub.status.busy": "2022-01-02T15:43:26.920983Z",
     "iopub.status.idle": "2022-01-02T15:43:26.922660Z",
     "shell.execute_reply": "2022-01-02T15:43:26.923186Z"
    },
    "slideshow": {
     "slide_type": "subslide"
    }
   },
   "outputs": [],
   "source": [
    "def abs_max(a, b):\n",
    "    a1 = abs_value(a)\n",
    "    b1 = abs_value(b)\n",
    "    if a1 > b1:\n",
    "        c = a1\n",
    "    else:\n",
    "        c = b1\n",
    "    return c"
   ]
  },
  {
   "cell_type": "markdown",
   "metadata": {
    "slideshow": {
     "slide_type": "fragment"
    }
   },
   "source": [
    "Using the `Concolic()` context on `abs_max()`."
   ]
  },
  {
   "cell_type": "code",
   "execution_count": 185,
   "metadata": {
    "execution": {
     "iopub.execute_input": "2022-01-02T15:43:26.927485Z",
     "iopub.status.busy": "2022-01-02T15:43:26.926830Z",
     "iopub.status.idle": "2022-01-02T15:43:26.929635Z",
     "shell.execute_reply": "2022-01-02T15:43:26.930077Z"
    },
    "slideshow": {
     "slide_type": "fragment"
    }
   },
   "outputs": [],
   "source": [
    "with ConcolicTracer() as _:\n",
    "    _[abs_max](2, 1)"
   ]
  },
  {
   "cell_type": "markdown",
   "metadata": {
    "slideshow": {
     "slide_type": "fragment"
    }
   },
   "source": [
    "As expected, we have the predicates across functions."
   ]
  },
  {
   "cell_type": "code",
   "execution_count": 186,
   "metadata": {
    "execution": {
     "iopub.execute_input": "2022-01-02T15:43:26.933957Z",
     "iopub.status.busy": "2022-01-02T15:43:26.933413Z",
     "iopub.status.idle": "2022-01-02T15:43:26.937393Z",
     "shell.execute_reply": "2022-01-02T15:43:26.937784Z"
    },
    "slideshow": {
     "slide_type": "fragment"
    }
   },
   "outputs": [
    {
     "data": {
      "text/plain": [
       "({'abs_max_a_int_1': 'Int', 'abs_max_b_int_2': 'Int'},\n",
       " [0 < abs_max_a_int_1, 0 < abs_max_b_int_2, abs_max_a_int_1 > abs_max_b_int_2])"
      ]
     },
     "execution_count": 186,
     "metadata": {},
     "output_type": "execute_result"
    }
   ],
   "source": [
    "_.context"
   ]
  },
  {
   "cell_type": "code",
   "execution_count": 187,
   "metadata": {
    "execution": {
     "iopub.execute_input": "2022-01-02T15:43:26.940972Z",
     "iopub.status.busy": "2022-01-02T15:43:26.940432Z",
     "iopub.status.idle": "2022-01-02T15:43:26.981412Z",
     "shell.execute_reply": "2022-01-02T15:43:26.981821Z"
    },
    "slideshow": {
     "slide_type": "subslide"
    }
   },
   "outputs": [
    {
     "data": {
      "text/plain": [
       "('sat', {'a': ('2', 'Int'), 'b': ('1', 'Int')})"
      ]
     },
     "execution_count": 187,
     "metadata": {},
     "output_type": "execute_result"
    }
   ],
   "source": [
    "_.zeval()"
   ]
  },
  {
   "cell_type": "markdown",
   "metadata": {
    "slideshow": {
     "slide_type": "fragment"
    }
   },
   "source": [
    "Solving the predicates works as expected."
   ]
  },
  {
   "cell_type": "markdown",
   "metadata": {
    "slideshow": {
     "slide_type": "fragment"
    }
   },
   "source": [
    "Using negative numbers as arguments so that a different branch is taken in `abs_value()`"
   ]
  },
  {
   "cell_type": "code",
   "execution_count": 188,
   "metadata": {
    "execution": {
     "iopub.execute_input": "2022-01-02T15:43:26.986871Z",
     "iopub.status.busy": "2022-01-02T15:43:26.986198Z",
     "iopub.status.idle": "2022-01-02T15:43:26.988919Z",
     "shell.execute_reply": "2022-01-02T15:43:26.989343Z"
    },
    "slideshow": {
     "slide_type": "fragment"
    }
   },
   "outputs": [],
   "source": [
    "with ConcolicTracer() as _:\n",
    "    _[abs_max](-2, -1)"
   ]
  },
  {
   "cell_type": "code",
   "execution_count": 189,
   "metadata": {
    "execution": {
     "iopub.execute_input": "2022-01-02T15:43:26.993472Z",
     "iopub.status.busy": "2022-01-02T15:43:26.992877Z",
     "iopub.status.idle": "2022-01-02T15:43:26.997712Z",
     "shell.execute_reply": "2022-01-02T15:43:26.998207Z"
    },
    "slideshow": {
     "slide_type": "fragment"
    }
   },
   "outputs": [
    {
     "data": {
      "text/plain": [
       "({'abs_max_a_int_1': 'Int', 'abs_max_b_int_2': 'Int'},\n",
       " [Not(0 < abs_max_a_int_1),\n",
       "  Not(0 < abs_max_b_int_2),\n",
       "  -abs_max_a_int_1 > -abs_max_b_int_2])"
      ]
     },
     "execution_count": 189,
     "metadata": {},
     "output_type": "execute_result"
    }
   ],
   "source": [
    "_.context"
   ]
  },
  {
   "cell_type": "code",
   "execution_count": 190,
   "metadata": {
    "execution": {
     "iopub.execute_input": "2022-01-02T15:43:27.001814Z",
     "iopub.status.busy": "2022-01-02T15:43:27.001048Z",
     "iopub.status.idle": "2022-01-02T15:43:27.038222Z",
     "shell.execute_reply": "2022-01-02T15:43:27.038830Z"
    },
    "slideshow": {
     "slide_type": "fragment"
    }
   },
   "outputs": [
    {
     "data": {
      "text/plain": [
       "('sat', {'a': (['-', '1'], 'Int'), 'b': ('0', 'Int')})"
      ]
     },
     "execution_count": 190,
     "metadata": {},
     "output_type": "execute_result"
    }
   ],
   "source": [
    "_.zeval()"
   ]
  },
  {
   "cell_type": "markdown",
   "metadata": {
    "slideshow": {
     "slide_type": "subslide"
    }
   },
   "source": [
    "The solution reflects our predicates. (We used `a > 0` in `abs_value()`)."
   ]
  },
  {
   "cell_type": "markdown",
   "metadata": {
    "slideshow": {
     "slide_type": "subslide"
    }
   },
   "source": [
    "### Example: Binomial Coefficient\n",
    "\n",
    "For a larger example that uses different kinds of variables, say we want to compute the binomial coefficient by the following formulas\n",
    "\n",
    "$$ \n",
    "^nP_k=\\frac{n!}{(n-k)!}\n",
    "$$\n",
    "\n",
    "$$\n",
    "\\binom nk=\\,^nC_k=\\frac{^nP_k}{k!}\n",
    "$$\n"
   ]
  },
  {
   "cell_type": "markdown",
   "metadata": {
    "slideshow": {
     "slide_type": "subslide"
    }
   },
   "source": [
    "we define the functions as follows."
   ]
  },
  {
   "cell_type": "code",
   "execution_count": 191,
   "metadata": {
    "execution": {
     "iopub.execute_input": "2022-01-02T15:43:27.043860Z",
     "iopub.status.busy": "2022-01-02T15:43:27.043324Z",
     "iopub.status.idle": "2022-01-02T15:43:27.045065Z",
     "shell.execute_reply": "2022-01-02T15:43:27.045462Z"
    },
    "slideshow": {
     "slide_type": "fragment"
    }
   },
   "outputs": [],
   "source": [
    "def factorial(n):  # type: ignore\n",
    "    v = 1\n",
    "    while n != 0:\n",
    "        v *= n\n",
    "        n -= 1\n",
    "\n",
    "    return v"
   ]
  },
  {
   "cell_type": "code",
   "execution_count": 192,
   "metadata": {
    "execution": {
     "iopub.execute_input": "2022-01-02T15:43:27.049546Z",
     "iopub.status.busy": "2022-01-02T15:43:27.048912Z",
     "iopub.status.idle": "2022-01-02T15:43:27.050629Z",
     "shell.execute_reply": "2022-01-02T15:43:27.051036Z"
    },
    "slideshow": {
     "slide_type": "fragment"
    }
   },
   "outputs": [],
   "source": [
    "def permutation(n, k):\n",
    "    return factorial(n) / factorial(n - k)"
   ]
  },
  {
   "cell_type": "code",
   "execution_count": 193,
   "metadata": {
    "execution": {
     "iopub.execute_input": "2022-01-02T15:43:27.054815Z",
     "iopub.status.busy": "2022-01-02T15:43:27.054263Z",
     "iopub.status.idle": "2022-01-02T15:43:27.055940Z",
     "shell.execute_reply": "2022-01-02T15:43:27.056337Z"
    },
    "slideshow": {
     "slide_type": "fragment"
    }
   },
   "outputs": [],
   "source": [
    "def combination(n, k):\n",
    "    return permutation(n, k) / factorial(k)"
   ]
  },
  {
   "cell_type": "code",
   "execution_count": 194,
   "metadata": {
    "execution": {
     "iopub.execute_input": "2022-01-02T15:43:27.060861Z",
     "iopub.status.busy": "2022-01-02T15:43:27.060126Z",
     "iopub.status.idle": "2022-01-02T15:43:27.062043Z",
     "shell.execute_reply": "2022-01-02T15:43:27.062447Z"
    },
    "slideshow": {
     "slide_type": "subslide"
    }
   },
   "outputs": [],
   "source": [
    "def binomial(n, k):\n",
    "    if n < 0 or k < 0 or n < k:\n",
    "        raise Exception('Invalid values')\n",
    "    return combination(n, k)"
   ]
  },
  {
   "cell_type": "markdown",
   "metadata": {
    "slideshow": {
     "slide_type": "fragment"
    }
   },
   "source": [
    "As before, we run the function under `ConcolicTracer`."
   ]
  },
  {
   "cell_type": "code",
   "execution_count": 195,
   "metadata": {
    "execution": {
     "iopub.execute_input": "2022-01-02T15:43:27.066672Z",
     "iopub.status.busy": "2022-01-02T15:43:27.066115Z",
     "iopub.status.idle": "2022-01-02T15:43:27.071347Z",
     "shell.execute_reply": "2022-01-02T15:43:27.071912Z"
    },
    "slideshow": {
     "slide_type": "fragment"
    }
   },
   "outputs": [],
   "source": [
    "with ConcolicTracer() as _:\n",
    "    v = _[binomial](4, 2)"
   ]
  },
  {
   "cell_type": "markdown",
   "metadata": {
    "slideshow": {
     "slide_type": "fragment"
    }
   },
   "source": [
    "Then call `zeval()` to evaluate."
   ]
  },
  {
   "cell_type": "code",
   "execution_count": 196,
   "metadata": {
    "execution": {
     "iopub.execute_input": "2022-01-02T15:43:27.075490Z",
     "iopub.status.busy": "2022-01-02T15:43:27.074933Z",
     "iopub.status.idle": "2022-01-02T15:43:27.110745Z",
     "shell.execute_reply": "2022-01-02T15:43:27.111214Z"
    },
    "slideshow": {
     "slide_type": "fragment"
    }
   },
   "outputs": [
    {
     "data": {
      "text/plain": [
       "('sat', {'n': ('4', 'Int'), 'k': ('2', 'Int')})"
      ]
     },
     "execution_count": 196,
     "metadata": {},
     "output_type": "execute_result"
    }
   ],
   "source": [
    "_.zeval()"
   ]
  },
  {
   "cell_type": "raw",
   "metadata": {
    "slideshow": {
     "slide_type": "skip"
    }
   },
   "source": [
    "The values returned are same as the input values as expected."
   ]
  },
  {
   "cell_type": "markdown",
   "metadata": {
    "slideshow": {
     "slide_type": "subslide"
    }
   },
   "source": [
    "### Example: Database"
   ]
  },
  {
   "cell_type": "markdown",
   "metadata": {
    "slideshow": {
     "slide_type": "fragment"
    },
    "toc-hr-collapsed": true
   },
   "source": [
    "For a larger example using the Concolic String class `zstr`, we use the DB class from the [chapter on information flow](InformationFlow.ipynb)."
   ]
  },
  {
   "cell_type": "code",
   "execution_count": 197,
   "metadata": {
    "execution": {
     "iopub.execute_input": "2022-01-02T15:43:27.117641Z",
     "iopub.status.busy": "2022-01-02T15:43:27.116926Z",
     "iopub.status.idle": "2022-01-02T15:43:29.646517Z",
     "shell.execute_reply": "2022-01-02T15:43:29.647255Z"
    },
    "slideshow": {
     "slide_type": "skip"
    }
   },
   "outputs": [],
   "source": [
    "from InformationFlow import DB, sample_db, update_inventory"
   ]
  },
  {
   "cell_type": "markdown",
   "metadata": {
    "slideshow": {
     "slide_type": "fragment"
    }
   },
   "source": [
    "We first populate our database."
   ]
  },
  {
   "cell_type": "code",
   "execution_count": 198,
   "metadata": {
    "execution": {
     "iopub.execute_input": "2022-01-02T15:43:29.654784Z",
     "iopub.status.busy": "2022-01-02T15:43:29.653498Z",
     "iopub.status.idle": "2022-01-02T15:43:31.452899Z",
     "shell.execute_reply": "2022-01-02T15:43:31.453355Z"
    },
    "slideshow": {
     "slide_type": "skip"
    }
   },
   "outputs": [],
   "source": [
    "from GrammarMiner import VEHICLES  # minor dependency"
   ]
  },
  {
   "cell_type": "code",
   "execution_count": 199,
   "metadata": {
    "execution": {
     "iopub.execute_input": "2022-01-02T15:43:31.457180Z",
     "iopub.status.busy": "2022-01-02T15:43:31.456654Z",
     "iopub.status.idle": "2022-01-02T15:43:31.459011Z",
     "shell.execute_reply": "2022-01-02T15:43:31.458586Z"
    },
    "slideshow": {
     "slide_type": "fragment"
    }
   },
   "outputs": [],
   "source": [
    "db = sample_db()\n",
    "for V in VEHICLES:\n",
    "    update_inventory(db, V)"
   ]
  },
  {
   "cell_type": "code",
   "execution_count": 200,
   "metadata": {
    "execution": {
     "iopub.execute_input": "2022-01-02T15:43:31.463263Z",
     "iopub.status.busy": "2022-01-02T15:43:31.462732Z",
     "iopub.status.idle": "2022-01-02T15:43:31.465042Z",
     "shell.execute_reply": "2022-01-02T15:43:31.465425Z"
    },
    "slideshow": {
     "slide_type": "fragment"
    }
   },
   "outputs": [
    {
     "data": {
      "text/plain": [
       "{'inventory': ({'year': int, 'kind': str, 'company': str, 'model': str},\n",
       "  [{'year': 1997, 'kind': 'van', 'company': 'Ford', 'model': 'E350'},\n",
       "   {'year': 2000, 'kind': 'car', 'company': 'Mercury', 'model': 'Cougar'},\n",
       "   {'year': 1999, 'kind': 'car', 'company': 'Chevy', 'model': 'Venture'}])}"
      ]
     },
     "execution_count": 200,
     "metadata": {},
     "output_type": "execute_result"
    }
   ],
   "source": [
    "db.db"
   ]
  },
  {
   "cell_type": "markdown",
   "metadata": {
    "slideshow": {
     "slide_type": "subslide"
    }
   },
   "source": [
    "We are now ready to fuzz our `DB` class. Hash functions are difficult to handle directly (because they rely on internal C functions). Hence we modify `table()` slightly."
   ]
  },
  {
   "cell_type": "code",
   "execution_count": 201,
   "metadata": {
    "execution": {
     "iopub.execute_input": "2022-01-02T15:43:31.469925Z",
     "iopub.status.busy": "2022-01-02T15:43:31.469381Z",
     "iopub.status.idle": "2022-01-02T15:43:31.471047Z",
     "shell.execute_reply": "2022-01-02T15:43:31.471423Z"
    },
    "slideshow": {
     "slide_type": "fragment"
    }
   },
   "outputs": [],
   "source": [
    "class ConcolicDB(DB):\n",
    "    def table(self, t_name):\n",
    "        for k, v in self.db:\n",
    "            if t_name == k:\n",
    "                return v\n",
    "        raise SQLException('Table (%s) was not found' % repr(t_name))\n",
    "\n",
    "    def column(self, decl, c_name):\n",
    "        for k in decl:\n",
    "            if c_name == k:\n",
    "                return decl[k]\n",
    "        raise SQLException('Column (%s) was not found' % repr(c_name))"
   ]
  },
  {
   "cell_type": "markdown",
   "metadata": {
    "slideshow": {
     "slide_type": "subslide"
    }
   },
   "source": [
    "To make it easy, we define a single function `db_select()` that directly invokes `db.sql()`."
   ]
  },
  {
   "cell_type": "code",
   "execution_count": 202,
   "metadata": {
    "execution": {
     "iopub.execute_input": "2022-01-02T15:43:31.475149Z",
     "iopub.status.busy": "2022-01-02T15:43:31.474614Z",
     "iopub.status.idle": "2022-01-02T15:43:31.476317Z",
     "shell.execute_reply": "2022-01-02T15:43:31.476768Z"
    },
    "slideshow": {
     "slide_type": "fragment"
    }
   },
   "outputs": [],
   "source": [
    "def db_select(s):\n",
    "    my_db = ConcolicDB()\n",
    "    my_db.db = [(k, v) for (k, v) in db.db.items()]\n",
    "    r = my_db.sql(s)\n",
    "    return r"
   ]
  },
  {
   "cell_type": "markdown",
   "metadata": {
    "slideshow": {
     "slide_type": "fragment"
    }
   },
   "source": [
    "We now want to run SQL statements under our `ConcolicTracer`, and collect predicates obtained."
   ]
  },
  {
   "cell_type": "code",
   "execution_count": 203,
   "metadata": {
    "execution": {
     "iopub.execute_input": "2022-01-02T15:43:31.480005Z",
     "iopub.status.busy": "2022-01-02T15:43:31.479471Z",
     "iopub.status.idle": "2022-01-02T15:43:31.483620Z",
     "shell.execute_reply": "2022-01-02T15:43:31.484000Z"
    },
    "slideshow": {
     "slide_type": "fragment"
    }
   },
   "outputs": [],
   "source": [
    "with ConcolicTracer() as _:\n",
    "    _[db_select]('select kind from inventory')"
   ]
  },
  {
   "cell_type": "markdown",
   "metadata": {
    "slideshow": {
     "slide_type": "fragment"
    }
   },
   "source": [
    "The predicates encountered during the execution are as follows:"
   ]
  },
  {
   "cell_type": "code",
   "execution_count": 204,
   "metadata": {
    "execution": {
     "iopub.execute_input": "2022-01-02T15:43:31.487440Z",
     "iopub.status.busy": "2022-01-02T15:43:31.486912Z",
     "iopub.status.idle": "2022-01-02T15:43:31.499695Z",
     "shell.execute_reply": "2022-01-02T15:43:31.500147Z"
    },
    "slideshow": {
     "slide_type": "subslide"
    }
   },
   "outputs": [
    {
     "data": {
      "text/plain": [
       "[0 == IndexOf(db_select_s_str_1, \"select \", 0),\n",
       " 0 == IndexOf(db_select_s_str_1, \"select \", 0),\n",
       " Not(0 >\n",
       "     IndexOf(str.substr(db_select_s_str_1, 7, 19),\n",
       "             \" from \",\n",
       "             0)),\n",
       " Not(19 <\n",
       "     IndexOf(str.substr(db_select_s_str_1, 7, 19),\n",
       "             \" from \",\n",
       "             0)),\n",
       " Or(0 <\n",
       "    IndexOf(str.substr(db_select_s_str_1, 7, 19),\n",
       "            \" from \",\n",
       "            0),\n",
       "    0 ==\n",
       "    IndexOf(str.substr(db_select_s_str_1, 7, 19),\n",
       "            \" from \",\n",
       "            0)),\n",
       " Not(Or(0 <\n",
       "        IndexOf(str.substr(db_select_s_str_1, 7, 19),\n",
       "                \" where \",\n",
       "                0),\n",
       "        0 ==\n",
       "        IndexOf(str.substr(db_select_s_str_1, 7, 19),\n",
       "                \" where \",\n",
       "                0))),\n",
       " Not(19 <\n",
       "     IndexOf(str.substr(db_select_s_str_1, 7, 19),\n",
       "             \" from \",\n",
       "             0) +\n",
       "     6),\n",
       " Or(19 >\n",
       "    IndexOf(str.substr(db_select_s_str_1, 7, 19),\n",
       "            \" from \",\n",
       "            0) +\n",
       "    6,\n",
       "    19 ==\n",
       "    IndexOf(str.substr(db_select_s_str_1, 7, 19),\n",
       "            \" from \",\n",
       "            0) +\n",
       "    6),\n",
       " str.substr(str.substr(db_select_s_str_1, 7, 19), 10, 9) ==\n",
       " \"inventory\"]"
      ]
     },
     "execution_count": 204,
     "metadata": {},
     "output_type": "execute_result"
    }
   ],
   "source": [
    "_.path"
   ]
  },
  {
   "cell_type": "markdown",
   "metadata": {
    "slideshow": {
     "slide_type": "subslide"
    }
   },
   "source": [
    "We can use `zeval()` as before to solve the constraints."
   ]
  },
  {
   "cell_type": "code",
   "execution_count": 205,
   "metadata": {
    "execution": {
     "iopub.execute_input": "2022-01-02T15:43:31.503840Z",
     "iopub.status.busy": "2022-01-02T15:43:31.503315Z",
     "iopub.status.idle": "2022-01-02T15:43:31.601231Z",
     "shell.execute_reply": "2022-01-02T15:43:31.601617Z"
    },
    "slideshow": {
     "slide_type": "fragment"
    }
   },
   "outputs": [
    {
     "data": {
      "text/plain": [
       "('Gave up', None)"
      ]
     },
     "execution_count": 205,
     "metadata": {},
     "output_type": "execute_result"
    }
   ],
   "source": [
    "_.zeval()"
   ]
  },
  {
   "cell_type": "markdown",
   "metadata": {
    "slideshow": {
     "slide_type": "slide"
    },
    "tags": []
   },
   "source": [
    "## Fuzzing with Constraints\n",
    "\n",
    "The `SimpleConcolicFuzzer` class starts with a sample input generated by some other fuzzer. It then runs the function being tested under `ConcolicTracer`, and collects the path predicates. It then negates random predicates within the path and solves it with Z3 to produce a new output that is guaranteed to take a different path than the original."
   ]
  },
  {
   "cell_type": "markdown",
   "metadata": {
    "slideshow": {
     "slide_type": "fragment"
    }
   },
   "source": [
    "As with `ConcolicTracer`, above, please first look at the examples before digging into the implementation."
   ]
  },
  {
   "cell_type": "markdown",
   "metadata": {
    "slideshow": {
     "slide_type": "subslide"
    }
   },
   "source": [
    "### Excursion: Implementing SimpleConcolicFuzzer"
   ]
  },
  {
   "cell_type": "markdown",
   "metadata": {
    "slideshow": {
     "slide_type": "fragment"
    }
   },
   "source": [
    "First, we import the `Fuzzer` interface, and an example program `hang_if_no_space()`"
   ]
  },
  {
   "cell_type": "code",
   "execution_count": 206,
   "metadata": {
    "execution": {
     "iopub.execute_input": "2022-01-02T15:43:31.606172Z",
     "iopub.status.busy": "2022-01-02T15:43:31.605650Z",
     "iopub.status.idle": "2022-01-02T15:43:31.607258Z",
     "shell.execute_reply": "2022-01-02T15:43:31.607730Z"
    },
    "slideshow": {
     "slide_type": "skip"
    }
   },
   "outputs": [],
   "source": [
    "from Fuzzer import Fuzzer, hang_if_no_space"
   ]
  },
  {
   "cell_type": "code",
   "execution_count": 207,
   "metadata": {
    "execution": {
     "iopub.execute_input": "2022-01-02T15:43:31.611083Z",
     "iopub.status.busy": "2022-01-02T15:43:31.610528Z",
     "iopub.status.idle": "2022-01-02T15:43:31.612438Z",
     "shell.execute_reply": "2022-01-02T15:43:31.612812Z"
    },
    "slideshow": {
     "slide_type": "skip"
    }
   },
   "outputs": [],
   "source": [
    "from ExpectError import ExpectTimeout, ExpectError"
   ]
  },
  {
   "cell_type": "code",
   "execution_count": 208,
   "metadata": {
    "execution": {
     "iopub.execute_input": "2022-01-02T15:43:31.615729Z",
     "iopub.status.busy": "2022-01-02T15:43:31.615220Z",
     "iopub.status.idle": "2022-01-02T15:43:31.616818Z",
     "shell.execute_reply": "2022-01-02T15:43:31.617192Z"
    },
    "slideshow": {
     "slide_type": "skip"
    }
   },
   "outputs": [],
   "source": [
    "import random"
   ]
  },
  {
   "cell_type": "markdown",
   "metadata": {
    "slideshow": {
     "slide_type": "subslide"
    }
   },
   "source": [
    "#### Representing Decisions"
   ]
  },
  {
   "cell_type": "markdown",
   "metadata": {
    "slideshow": {
     "slide_type": "fragment"
    }
   },
   "source": [
    "To make the fuzzer work, we need a way to represent decisions made during trace. We keep this in a _binary tree_ where each node represents a decision made, and each leaf represents a complete path. A node in the binary tree is represented by the `TraceNode` class.\n",
    "\n",
    "When a new node is added, it represents a decision taken by the parent on some predicate. This predicate is supplied as `smt_val`, which is `True` for this child to be reached. Since the predicate is actually present in the parent node, we also carry a member `smt` which will be updated by the first child to be added."
   ]
  },
  {
   "cell_type": "code",
   "execution_count": 209,
   "metadata": {
    "execution": {
     "iopub.execute_input": "2022-01-02T15:43:31.623949Z",
     "iopub.status.busy": "2022-01-02T15:43:31.622830Z",
     "iopub.status.idle": "2022-01-02T15:43:31.625130Z",
     "shell.execute_reply": "2022-01-02T15:43:31.625511Z"
    },
    "slideshow": {
     "slide_type": "subslide"
    }
   },
   "outputs": [],
   "source": [
    "class TraceNode:\n",
    "    def __init__(self, smt_val, parent, info):\n",
    "        # This is the smt that lead to this node\n",
    "        self._smt_val = z3.simplify(smt_val) if smt_val is not None else None\n",
    "\n",
    "        # This is the predicate that this node might perform at a future point\n",
    "        self.smt = None\n",
    "        self.info = info\n",
    "        self.parent = parent\n",
    "        self.children = {}\n",
    "        self.path = None\n",
    "        self.tree = None\n",
    "        self._pattern = None\n",
    "        self.log = True\n",
    "\n",
    "    def no(self): return self.children.get(self.tree.no_bit)\n",
    "\n",
    "    def yes(self): return self.children.get(self.tree.yes_bit)\n",
    "\n",
    "    def get_children(self): return (self.no(), self.yes())\n",
    "\n",
    "    def __str__(self):\n",
    "        return 'TraceNode[%s]' % ','.join(self.children.keys())"
   ]
  },
  {
   "cell_type": "markdown",
   "metadata": {
    "slideshow": {
     "slide_type": "subslide"
    }
   },
   "source": [
    "We add a `PlausibleChild` class to track the leaf nodes."
   ]
  },
  {
   "cell_type": "code",
   "execution_count": 210,
   "metadata": {
    "execution": {
     "iopub.execute_input": "2022-01-02T15:43:31.629737Z",
     "iopub.status.busy": "2022-01-02T15:43:31.629146Z",
     "iopub.status.idle": "2022-01-02T15:43:31.630803Z",
     "shell.execute_reply": "2022-01-02T15:43:31.631174Z"
    },
    "slideshow": {
     "slide_type": "fragment"
    }
   },
   "outputs": [],
   "source": [
    "class PlausibleChild:\n",
    "    def __init__(self, parent, cond, tree):\n",
    "        self.parent = parent\n",
    "        self.cond = cond\n",
    "        self.tree = tree\n",
    "        self._smt_val = None\n",
    "\n",
    "    def __repr__(self):\n",
    "        return 'PlausibleChild[%s]' % (self.parent.pattern() + ':' + self.cond)"
   ]
  },
  {
   "cell_type": "markdown",
   "metadata": {
    "slideshow": {
     "slide_type": "fragment"
    }
   },
   "source": [
    "When the leaf nodes are used to generate new paths, we expect its sibling `TraceNode` to have been already explored. Hence, we make use of the sibling's values for context `cc`, and the `smt_val` from the parent."
   ]
  },
  {
   "cell_type": "code",
   "execution_count": 211,
   "metadata": {
    "execution": {
     "iopub.execute_input": "2022-01-02T15:43:31.636266Z",
     "iopub.status.busy": "2022-01-02T15:43:31.635746Z",
     "iopub.status.idle": "2022-01-02T15:43:31.637241Z",
     "shell.execute_reply": "2022-01-02T15:43:31.637779Z"
    },
    "slideshow": {
     "slide_type": "subslide"
    }
   },
   "outputs": [],
   "source": [
    "class PlausibleChild(PlausibleChild):\n",
    "    def smt_val(self):\n",
    "        if self._smt_val is not None:\n",
    "            return self._smt_val\n",
    "        # if the parent has other children, then that child would have updatd the parent's smt\n",
    "        # Hence, we can use that child's smt_value's opposite as our value.\n",
    "        assert self.parent.smt is not None\n",
    "        if self.cond == self.tree.no_bit:\n",
    "            self._smt_val = z3.Not(self.parent.smt)\n",
    "        else:\n",
    "            self._smt_val = self.parent.smt\n",
    "        return self._smt_val\n",
    "\n",
    "    def cc(self):\n",
    "        if self.parent.info.get('cc') is not None:\n",
    "            return self.parent.info['cc']\n",
    "        # if there is a plausible child node, it means that there can\n",
    "        # be at most one child.\n",
    "        sibilings = list(self.parent.children.values())\n",
    "        assert len(sibilings) == 1\n",
    "        # We expect at the other child to have cc\n",
    "        return sibilings[0].info['cc']"
   ]
  },
  {
   "cell_type": "markdown",
   "metadata": {
    "slideshow": {
     "slide_type": "subslide"
    }
   },
   "source": [
    "The `PlausibleChild` instance is used to generate new paths to explore using `path_expression()`."
   ]
  },
  {
   "cell_type": "code",
   "execution_count": 212,
   "metadata": {
    "execution": {
     "iopub.execute_input": "2022-01-02T15:43:31.641595Z",
     "iopub.status.busy": "2022-01-02T15:43:31.641070Z",
     "iopub.status.idle": "2022-01-02T15:43:31.642730Z",
     "shell.execute_reply": "2022-01-02T15:43:31.643194Z"
    },
    "slideshow": {
     "slide_type": "fragment"
    }
   },
   "outputs": [],
   "source": [
    "class PlausibleChild(PlausibleChild):\n",
    "    def path_expression(self):\n",
    "        path_to_root = self.parent.get_path_to_root()\n",
    "        assert path_to_root[0]._smt_val is None\n",
    "        return [i._smt_val for i in path_to_root[1:]] + [self.smt_val()]"
   ]
  },
  {
   "cell_type": "markdown",
   "metadata": {
    "slideshow": {
     "slide_type": "fragment"
    }
   },
   "source": [
    "The `TraceTree` class helps us keep track of the binary tree. In the beginning, the root is a sentinel `TraceNode` instance, and simply have two plausible children as leaves. As soon as the first trace is added, one of the plausible children will become a true child."
   ]
  },
  {
   "cell_type": "code",
   "execution_count": 213,
   "metadata": {
    "execution": {
     "iopub.execute_input": "2022-01-02T15:43:31.647643Z",
     "iopub.status.busy": "2022-01-02T15:43:31.647128Z",
     "iopub.status.idle": "2022-01-02T15:43:31.648780Z",
     "shell.execute_reply": "2022-01-02T15:43:31.649151Z"
    },
    "slideshow": {
     "slide_type": "subslide"
    }
   },
   "outputs": [],
   "source": [
    "class TraceTree:\n",
    "    def __init__(self):\n",
    "        self.root = TraceNode(smt_val=None, parent=None, info={'num': 0})\n",
    "        self.root.tree = self\n",
    "        self.leaves = {}\n",
    "        self.no_bit, self.yes_bit = '0', '1'\n",
    "\n",
    "        pprefix = ':'\n",
    "        for bit in [self.no_bit, self.yes_bit]:\n",
    "            self.leaves[pprefix + bit] = PlausibleChild(self.root, bit, self)\n",
    "        self.completed_paths = {}"
   ]
  },
  {
   "cell_type": "markdown",
   "metadata": {
    "slideshow": {
     "slide_type": "fragment"
    }
   },
   "source": [
    "The `add_trace()` method of the `TraceTree` provides a way for new traces to be added. It is kept separate from the initialization as we might want to add more than one trace from the same function."
   ]
  },
  {
   "cell_type": "code",
   "execution_count": 214,
   "metadata": {
    "execution": {
     "iopub.execute_input": "2022-01-02T15:43:31.653256Z",
     "iopub.status.busy": "2022-01-02T15:43:31.652740Z",
     "iopub.status.idle": "2022-01-02T15:43:31.654362Z",
     "shell.execute_reply": "2022-01-02T15:43:31.654750Z"
    },
    "slideshow": {
     "slide_type": "subslide"
    }
   },
   "outputs": [],
   "source": [
    "class TraceTree(TraceTree):\n",
    "    def add_trace(self, tracer, string):\n",
    "        last = self.root\n",
    "        i = 0\n",
    "        for i, elt in enumerate(tracer.path):\n",
    "            last = last.add_child(elt=elt, i=i + 1, cc=tracer, string=string)\n",
    "        last.add_child(elt=z3.BoolVal(True), i=i + 1, cc=tracer, string=string)"
   ]
  },
  {
   "cell_type": "markdown",
   "metadata": {
    "slideshow": {
     "slide_type": "fragment"
    }
   },
   "source": [
    "To make `add_trace()` work, we need a little more infrastructure, that we define below.\n",
    "\n",
    "The `bit()` method translates a predicate to a bit that corresponds to the decision taken at each predicate. If the `if` branch is taken, the result is `1`, while `else` branch is indicated by `0`. The pattern indicates the bit-pattern of decisions required to reach the leaf from the root."
   ]
  },
  {
   "cell_type": "code",
   "execution_count": 215,
   "metadata": {
    "execution": {
     "iopub.execute_input": "2022-01-02T15:43:31.660145Z",
     "iopub.status.busy": "2022-01-02T15:43:31.659460Z",
     "iopub.status.idle": "2022-01-02T15:43:31.661305Z",
     "shell.execute_reply": "2022-01-02T15:43:31.661740Z"
    },
    "slideshow": {
     "slide_type": "subslide"
    }
   },
   "outputs": [],
   "source": [
    "class TraceNode(TraceNode):\n",
    "    def bit(self):\n",
    "        if self._smt_val is None:\n",
    "            return None\n",
    "        return self.tree.no_bit if self._smt_val.decl(\n",
    "        ).name() == 'not' else self.tree.yes_bit\n",
    "\n",
    "    def pattern(self):\n",
    "        if self._pattern is not None:\n",
    "            return self._pattern\n",
    "        path = self.get_path_to_root()\n",
    "        assert path[0]._smt_val is None\n",
    "        assert path[0].parent is None\n",
    "\n",
    "        self._pattern = ''.join([p.bit() for p in path[1:]])\n",
    "        return self._pattern"
   ]
  },
  {
   "cell_type": "markdown",
   "metadata": {
    "slideshow": {
     "slide_type": "subslide"
    }
   },
   "source": [
    "Each node knows how to add a new child, and get the path to root, which is cached.\n",
    "\n",
    "When we add a child to the root node, it means that there was a decision in the current node, and the child is the result of the decision. Hence, to get the decision being made, we simplify the `smt` expression, and check if it starts with `not`. If it does not start with a `not`, we interpret that as the current decision in the node. If it starts with `not`, then we interpret that `not(smt)` was the expression being evaluated in the current node.\n",
    "\n",
    "We know the first decision made only after going through the program at least once. As soon as the program is traversed, we update the parent with the decision that resulted in the current child."
   ]
  },
  {
   "cell_type": "code",
   "execution_count": 216,
   "metadata": {
    "execution": {
     "iopub.execute_input": "2022-01-02T15:43:31.670883Z",
     "iopub.status.busy": "2022-01-02T15:43:31.670207Z",
     "iopub.status.idle": "2022-01-02T15:43:31.671931Z",
     "shell.execute_reply": "2022-01-02T15:43:31.672348Z"
    },
    "slideshow": {
     "slide_type": "subslide"
    }
   },
   "outputs": [],
   "source": [
    "class TraceNode(TraceNode):\n",
    "    def add_child(self, elt, i, cc, string):\n",
    "        if elt == z3.BoolVal(True):\n",
    "            # No more exploration here. Simply unregister the leaves of *this*\n",
    "            # node and possibly register them in completed nodes, and exit\n",
    "            for bit in [self.tree.no_bit, self.tree.yes_bit]:\n",
    "                child_leaf = self.pattern() + ':' + bit\n",
    "                if child_leaf in self.tree.leaves:\n",
    "                    del self.tree.leaves[child_leaf]\n",
    "            self.tree.completed_paths[self.pattern()] = self\n",
    "            return None\n",
    "\n",
    "        child_node = TraceNode(smt_val=elt,\n",
    "                               parent=self,\n",
    "                               info={'num': i, 'cc': cc, 'string': string})\n",
    "        child_node.tree = self.tree\n",
    "\n",
    "        # bit represents the path that child took from this node.\n",
    "        bit = child_node.bit()\n",
    "\n",
    "        # first we update our smt decision\n",
    "        if bit == self.tree.yes_bit:  # yes, which means the smt can be used as is\n",
    "            if self.smt is not None:\n",
    "                assert self.smt == child_node._smt_val\n",
    "            else:\n",
    "                self.smt = child_node._smt_val\n",
    "        # no, which means we have to negate it to get the decision.\n",
    "        elif bit == self.tree.no_bit:\n",
    "            smt_ = z3.simplify(z3.Not(child_node._smt_val))\n",
    "            if self.smt is not None:\n",
    "                assert smt_ == self.smt\n",
    "            else:\n",
    "                self.smt = smt_\n",
    "        else:\n",
    "            assert False\n",
    "\n",
    "        if bit in self.children:\n",
    "            #    if self.log:\n",
    "            #print(elt, child_node.bit(), i, string)\n",
    "            #print(i,'overwriting', bit,'=>',self.children[bit],'with',child_node)\n",
    "            child_node = self.children[bit]\n",
    "            #self.children[bit] = child_node\n",
    "            #child_node.children = old.children\n",
    "        else:\n",
    "            self.children[bit] = child_node\n",
    "\n",
    "        # At this point, we have to unregister any leaves that correspond to this child from tree,\n",
    "        # and add the plausible children of this child as leaves to be explored. Note that\n",
    "        # if it is the end (z3.True), we do not have any more children.\n",
    "        child_leaf = self.pattern() + ':' + bit\n",
    "        if child_leaf in self.tree.leaves:\n",
    "            del self.tree.leaves[child_leaf]\n",
    "\n",
    "        pprefix = child_node.pattern() + ':'\n",
    "\n",
    "        # Plausible children.\n",
    "        for bit in [self.tree.no_bit, self.tree.yes_bit]:\n",
    "            self.tree.leaves[pprefix +\n",
    "                             bit] = PlausibleChild(child_node, bit, self.tree)\n",
    "        return child_node"
   ]
  },
  {
   "cell_type": "markdown",
   "metadata": {
    "slideshow": {
     "slide_type": "subslide"
    }
   },
   "source": [
    "The path to root from any node is computed once and cached."
   ]
  },
  {
   "cell_type": "code",
   "execution_count": 217,
   "metadata": {
    "execution": {
     "iopub.execute_input": "2022-01-02T15:43:31.678000Z",
     "iopub.status.busy": "2022-01-02T15:43:31.677064Z",
     "iopub.status.idle": "2022-01-02T15:43:31.679434Z",
     "shell.execute_reply": "2022-01-02T15:43:31.679918Z"
    },
    "slideshow": {
     "slide_type": "fragment"
    }
   },
   "outputs": [],
   "source": [
    "class TraceNode(TraceNode):\n",
    "    def get_path_to_root(self):\n",
    "        if self.path is not None:\n",
    "            return self.path\n",
    "        parent_path = []\n",
    "        if self.parent is not None:\n",
    "            parent_path = self.parent.get_path_to_root()\n",
    "        self.path = parent_path + [self]\n",
    "        return self.path"
   ]
  },
  {
   "cell_type": "markdown",
   "metadata": {
    "slideshow": {
     "slide_type": "subslide"
    }
   },
   "source": [
    "#### The SimpleConcolicFuzzer class"
   ]
  },
  {
   "cell_type": "markdown",
   "metadata": {
    "slideshow": {
     "slide_type": "fragment"
    }
   },
   "source": [
    "The `SimpleConcolicFuzzer` is defined with the `Fuzzer` interface. "
   ]
  },
  {
   "cell_type": "code",
   "execution_count": 218,
   "metadata": {
    "execution": {
     "iopub.execute_input": "2022-01-02T15:43:31.685110Z",
     "iopub.status.busy": "2022-01-02T15:43:31.684348Z",
     "iopub.status.idle": "2022-01-02T15:43:31.686315Z",
     "shell.execute_reply": "2022-01-02T15:43:31.686913Z"
    },
    "slideshow": {
     "slide_type": "fragment"
    }
   },
   "outputs": [],
   "source": [
    "class SimpleConcolicFuzzer(Fuzzer):\n",
    "    def __init__(self):\n",
    "        self.ct = TraceTree()\n",
    "        self.max_tries = 1000\n",
    "        self.last = None\n",
    "        self.last_idx = None"
   ]
  },
  {
   "cell_type": "markdown",
   "metadata": {
    "slideshow": {
     "slide_type": "fragment"
    }
   },
   "source": [
    "The `add_trace()` method we defined earlier is used as follows. First, we use a random string to generate the concolic trace."
   ]
  },
  {
   "cell_type": "code",
   "execution_count": 219,
   "metadata": {
    "execution": {
     "iopub.execute_input": "2022-01-02T15:43:31.692673Z",
     "iopub.status.busy": "2022-01-02T15:43:31.691954Z",
     "iopub.status.idle": "2022-01-02T15:43:31.695849Z",
     "shell.execute_reply": "2022-01-02T15:43:31.696593Z"
    },
    "slideshow": {
     "slide_type": "fragment"
    }
   },
   "outputs": [],
   "source": [
    "with ExpectTimeout(2):\n",
    "    with ConcolicTracer() as _:\n",
    "        _[hang_if_no_space]('ab d')"
   ]
  },
  {
   "cell_type": "markdown",
   "metadata": {
    "slideshow": {
     "slide_type": "fragment"
    }
   },
   "source": [
    "Next, we initialize and add this trace to the fuzzer."
   ]
  },
  {
   "cell_type": "code",
   "execution_count": 220,
   "metadata": {
    "execution": {
     "iopub.execute_input": "2022-01-02T15:43:31.703148Z",
     "iopub.status.busy": "2022-01-02T15:43:31.701893Z",
     "iopub.status.idle": "2022-01-02T15:43:31.710468Z",
     "shell.execute_reply": "2022-01-02T15:43:31.711010Z"
    },
    "slideshow": {
     "slide_type": "subslide"
    }
   },
   "outputs": [
    {
     "data": {
      "text/plain": [
       "[Not(str.substr(hang_if_no_space_s_str_1, 0, 1) == \" \"),\n",
       " Not(str.substr(hang_if_no_space_s_str_1, 1, 1) == \" \"),\n",
       " str.substr(hang_if_no_space_s_str_1, 2, 1) == \" \"]"
      ]
     },
     "execution_count": 220,
     "metadata": {},
     "output_type": "execute_result"
    }
   ],
   "source": [
    "_.path"
   ]
  },
  {
   "cell_type": "code",
   "execution_count": 221,
   "metadata": {
    "execution": {
     "iopub.execute_input": "2022-01-02T15:43:31.717024Z",
     "iopub.status.busy": "2022-01-02T15:43:31.716020Z",
     "iopub.status.idle": "2022-01-02T15:43:31.721466Z",
     "shell.execute_reply": "2022-01-02T15:43:31.722031Z"
    },
    "slideshow": {
     "slide_type": "fragment"
    }
   },
   "outputs": [],
   "source": [
    "scf = SimpleConcolicFuzzer()\n",
    "scf.ct.add_trace(_, 'ab d')"
   ]
  },
  {
   "cell_type": "markdown",
   "metadata": {
    "slideshow": {
     "slide_type": "fragment"
    }
   },
   "source": [
    "The path we added above can be obtained from the `TraceTree` as below."
   ]
  },
  {
   "cell_type": "code",
   "execution_count": 222,
   "metadata": {
    "execution": {
     "iopub.execute_input": "2022-01-02T15:43:31.727320Z",
     "iopub.status.busy": "2022-01-02T15:43:31.726487Z",
     "iopub.status.idle": "2022-01-02T15:43:31.732059Z",
     "shell.execute_reply": "2022-01-02T15:43:31.732838Z"
    },
    "slideshow": {
     "slide_type": "fragment"
    }
   },
   "outputs": [
    {
     "data": {
      "text/plain": [
       "[None,\n",
       " Not(str.substr(hang_if_no_space_s_str_1, 0, 1) == \" \"),\n",
       " Not(str.substr(hang_if_no_space_s_str_1, 1, 1) == \" \"),\n",
       " str.substr(hang_if_no_space_s_str_1, 2, 1) == \" \"]"
      ]
     },
     "execution_count": 222,
     "metadata": {},
     "output_type": "execute_result"
    }
   ],
   "source": [
    "[i._smt_val for i in scf.ct.root.get_children()[0].get_children()[\n",
    "    0].get_children()[1].get_path_to_root()]"
   ]
  },
  {
   "cell_type": "markdown",
   "metadata": {
    "slideshow": {
     "slide_type": "fragment"
    }
   },
   "source": [
    "Below are the registered leaves that we can explore at this moment."
   ]
  },
  {
   "cell_type": "code",
   "execution_count": 223,
   "metadata": {
    "execution": {
     "iopub.execute_input": "2022-01-02T15:43:31.737738Z",
     "iopub.status.busy": "2022-01-02T15:43:31.736904Z",
     "iopub.status.idle": "2022-01-02T15:43:31.739722Z",
     "shell.execute_reply": "2022-01-02T15:43:31.740437Z"
    },
    "slideshow": {
     "slide_type": "subslide"
    }
   },
   "outputs": [
    {
     "name": "stdout",
     "output_type": "stream",
     "text": [
      ":1 \t PlausibleChild[:1]\n",
      "0:1 \t PlausibleChild[0:1]\n",
      "00:0 \t PlausibleChild[00:0]\n"
     ]
    }
   ],
   "source": [
    "for key in scf.ct.leaves:\n",
    "    print(key, '\\t', scf.ct.leaves[key])"
   ]
  },
  {
   "cell_type": "markdown",
   "metadata": {
    "slideshow": {
     "slide_type": "fragment"
    }
   },
   "source": [
    "Next, we need a way to visualize the constructed tree."
   ]
  },
  {
   "cell_type": "code",
   "execution_count": 224,
   "metadata": {
    "execution": {
     "iopub.execute_input": "2022-01-02T15:43:31.744369Z",
     "iopub.status.busy": "2022-01-02T15:43:31.743585Z",
     "iopub.status.idle": "2022-01-02T15:43:31.745688Z",
     "shell.execute_reply": "2022-01-02T15:43:31.746119Z"
    },
    "slideshow": {
     "slide_type": "skip"
    }
   },
   "outputs": [],
   "source": [
    "from GrammarFuzzer import display_tree"
   ]
  },
  {
   "cell_type": "code",
   "execution_count": 225,
   "metadata": {
    "execution": {
     "iopub.execute_input": "2022-01-02T15:43:31.750101Z",
     "iopub.status.busy": "2022-01-02T15:43:31.749246Z",
     "iopub.status.idle": "2022-01-02T15:43:31.751914Z",
     "shell.execute_reply": "2022-01-02T15:43:31.752595Z"
    },
    "slideshow": {
     "slide_type": "fragment"
    }
   },
   "outputs": [],
   "source": [
    "TREE_NODES = {}"
   ]
  },
  {
   "cell_type": "code",
   "execution_count": 226,
   "metadata": {
    "execution": {
     "iopub.execute_input": "2022-01-02T15:43:31.758414Z",
     "iopub.status.busy": "2022-01-02T15:43:31.757783Z",
     "iopub.status.idle": "2022-01-02T15:43:31.759382Z",
     "shell.execute_reply": "2022-01-02T15:43:31.759866Z"
    },
    "slideshow": {
     "slide_type": "subslide"
    }
   },
   "outputs": [],
   "source": [
    "def my_extract_node(tnode, id):\n",
    "    key, node, parent = tnode\n",
    "    if node is None:\n",
    "        # return '? (%s:%s)' % (parent.pattern(), key) , [], ''\n",
    "        return '?', [], ''\n",
    "    if node.smt is None:\n",
    "        return '* %s' % node.info.get('string', ''), [], ''\n",
    "\n",
    "    no, yes = node.get_children()\n",
    "    num = str(node.info.get('num'))\n",
    "    children = [('0', no, node), ('1', yes, node)]\n",
    "    TREE_NODES[id] = 0\n",
    "    return \"(%s) %s\" % (num, str(node.smt)), children, ''"
   ]
  },
  {
   "cell_type": "code",
   "execution_count": 227,
   "metadata": {
    "execution": {
     "iopub.execute_input": "2022-01-02T15:43:31.764788Z",
     "iopub.status.busy": "2022-01-02T15:43:31.764186Z",
     "iopub.status.idle": "2022-01-02T15:43:31.766025Z",
     "shell.execute_reply": "2022-01-02T15:43:31.766546Z"
    },
    "slideshow": {
     "slide_type": "subslide"
    }
   },
   "outputs": [],
   "source": [
    "def my_edge_attr(dot, start_node, stop_node):\n",
    "    # the edges are always drawn '0:NO' first.\n",
    "    if TREE_NODES[start_node] == 0:\n",
    "        color, label = 'red', '0'\n",
    "        TREE_NODES[start_node] = 1\n",
    "    else:\n",
    "        color, label = 'blue', '1'\n",
    "        TREE_NODES[start_node] = 2\n",
    "    dot.edge(repr(start_node), repr(stop_node), color=color, label=label)"
   ]
  },
  {
   "cell_type": "code",
   "execution_count": 228,
   "metadata": {
    "execution": {
     "iopub.execute_input": "2022-01-02T15:43:31.771033Z",
     "iopub.status.busy": "2022-01-02T15:43:31.770284Z",
     "iopub.status.idle": "2022-01-02T15:43:31.772120Z",
     "shell.execute_reply": "2022-01-02T15:43:31.772595Z"
    },
    "slideshow": {
     "slide_type": "fragment"
    }
   },
   "outputs": [],
   "source": [
    "def display_trace_tree(root):\n",
    "    TREE_NODES.clear()\n",
    "    return display_tree(\n",
    "        ('', root, None), extract_node=my_extract_node, edge_attr=my_edge_attr)"
   ]
  },
  {
   "cell_type": "code",
   "execution_count": 229,
   "metadata": {
    "execution": {
     "iopub.execute_input": "2022-01-02T15:43:31.776797Z",
     "iopub.status.busy": "2022-01-02T15:43:31.776147Z",
     "iopub.status.idle": "2022-01-02T15:43:32.228530Z",
     "shell.execute_reply": "2022-01-02T15:43:32.228967Z"
    },
    "slideshow": {
     "slide_type": "fragment"
    }
   },
   "outputs": [
    {
     "data": {
      "image/svg+xml": [
       "<?xml version=\"1.0\" encoding=\"UTF-8\" standalone=\"no\"?>\n",
       "<!DOCTYPE svg PUBLIC \"-//W3C//DTD SVG 1.1//EN\"\n",
       " \"http://www.w3.org/Graphics/SVG/1.1/DTD/svg11.dtd\">\n",
       "<!-- Generated by graphviz version 2.49.3 (20211023.0002)\n",
       " -->\n",
       "<!-- Pages: 1 -->\n",
       "<svg width=\"513pt\" height=\"221pt\"\n",
       " viewBox=\"0.00 0.00 513.00 221.00\" xmlns=\"http://www.w3.org/2000/svg\" xmlns:xlink=\"http://www.w3.org/1999/xlink\">\n",
       "<g id=\"graph0\" class=\"graph\" transform=\"scale(1 1) rotate(0) translate(4 217)\">\n",
       "<polygon fill=\"white\" stroke=\"transparent\" points=\"-4,4 -4,-217 509,-217 509,4 -4,4\"/>\n",
       "<!-- 0 -->\n",
       "<g id=\"node1\" class=\"node\">\n",
       "<title>0</title>\n",
       "<text text-anchor=\"middle\" x=\"357.5\" y=\"-201.8\" font-family=\"Times,serif\" font-size=\"14.00\">(0) str.substr(hang_if_no_space_s_str_1, 0, 1) == &quot; &quot;</text>\n",
       "</g>\n",
       "<!-- 1 -->\n",
       "<g id=\"node2\" class=\"node\">\n",
       "<title>1</title>\n",
       "<text text-anchor=\"middle\" x=\"231.5\" y=\"-135.8\" font-family=\"Times,serif\" font-size=\"14.00\">(1) str.substr(hang_if_no_space_s_str_1, 1, 1) == &quot; &quot;</text>\n",
       "</g>\n",
       "<!-- 0&#45;&gt;1 -->\n",
       "<g id=\"edge1\" class=\"edge\">\n",
       "<title>0&#45;&gt;1</title>\n",
       "<path fill=\"none\" stroke=\"red\" d=\"M344.49,-197.89C323.08,-187.02 280.17,-165.22 253.83,-151.84\"/>\n",
       "<polygon fill=\"red\" stroke=\"red\" points=\"255.13,-148.58 244.63,-147.17 251.96,-154.82 255.13,-148.58\"/>\n",
       "<text text-anchor=\"middle\" x=\"310.5\" y=\"-168.8\" font-family=\"Times,serif\" font-size=\"14.00\">0</text>\n",
       "</g>\n",
       "<!-- 6 -->\n",
       "<g id=\"node7\" class=\"node\">\n",
       "<title>6</title>\n",
       "<text text-anchor=\"middle\" x=\"400.5\" y=\"-135.8\" font-family=\"Times,serif\" font-size=\"14.00\">?</text>\n",
       "</g>\n",
       "<!-- 0&#45;&gt;6 -->\n",
       "<g id=\"edge6\" class=\"edge\">\n",
       "<title>0&#45;&gt;6</title>\n",
       "<path fill=\"none\" stroke=\"blue\" d=\"M362.1,-197.65C369.01,-187.38 382.19,-167.75 391.16,-154.4\"/>\n",
       "<polygon fill=\"blue\" stroke=\"blue\" points=\"394.13,-156.26 396.8,-146.01 388.32,-152.35 394.13,-156.26\"/>\n",
       "<text text-anchor=\"middle\" x=\"386.5\" y=\"-168.8\" font-family=\"Times,serif\" font-size=\"14.00\">1</text>\n",
       "</g>\n",
       "<!-- 2 -->\n",
       "<g id=\"node3\" class=\"node\">\n",
       "<title>2</title>\n",
       "<text text-anchor=\"middle\" x=\"147.5\" y=\"-69.8\" font-family=\"Times,serif\" font-size=\"14.00\">(2) str.substr(hang_if_no_space_s_str_1, 2, 1) == &quot; &quot;</text>\n",
       "</g>\n",
       "<!-- 1&#45;&gt;2 -->\n",
       "<g id=\"edge2\" class=\"edge\">\n",
       "<title>1&#45;&gt;2</title>\n",
       "<path fill=\"none\" stroke=\"red\" d=\"M222.83,-131.89C209.12,-121.45 182.2,-100.93 164.53,-87.47\"/>\n",
       "<polygon fill=\"red\" stroke=\"red\" points=\"166.33,-84.44 156.25,-81.17 162.08,-90.01 166.33,-84.44\"/>\n",
       "<text text-anchor=\"middle\" x=\"201.5\" y=\"-102.8\" font-family=\"Times,serif\" font-size=\"14.00\">0</text>\n",
       "</g>\n",
       "<!-- 5 -->\n",
       "<g id=\"node6\" class=\"node\">\n",
       "<title>5</title>\n",
       "<text text-anchor=\"middle\" x=\"316.5\" y=\"-69.8\" font-family=\"Times,serif\" font-size=\"14.00\">?</text>\n",
       "</g>\n",
       "<!-- 1&#45;&gt;5 -->\n",
       "<g id=\"edge5\" class=\"edge\">\n",
       "<title>1&#45;&gt;5</title>\n",
       "<path fill=\"none\" stroke=\"blue\" d=\"M240.28,-131.89C255.59,-120.36 287.22,-96.54 304.53,-83.51\"/>\n",
       "<polygon fill=\"blue\" stroke=\"blue\" points=\"306.96,-86.07 312.84,-77.26 302.75,-80.47 306.96,-86.07\"/>\n",
       "<text text-anchor=\"middle\" x=\"286.5\" y=\"-102.8\" font-family=\"Times,serif\" font-size=\"14.00\">1</text>\n",
       "</g>\n",
       "<!-- 3 -->\n",
       "<g id=\"node4\" class=\"node\">\n",
       "<title>3</title>\n",
       "<text text-anchor=\"middle\" x=\"128.5\" y=\"-3.8\" font-family=\"Times,serif\" font-size=\"14.00\">?</text>\n",
       "</g>\n",
       "<!-- 2&#45;&gt;3 -->\n",
       "<g id=\"edge3\" class=\"edge\">\n",
       "<title>2&#45;&gt;3</title>\n",
       "<path fill=\"none\" stroke=\"red\" d=\"M144.39,-65.75C142.25,-60.89 139.44,-54.13 137.5,-48 135.14,-40.52 133.13,-32.05 131.61,-24.89\"/>\n",
       "<polygon fill=\"red\" stroke=\"red\" points=\"135.03,-24.14 129.65,-15.02 128.16,-25.51 135.03,-24.14\"/>\n",
       "<text text-anchor=\"middle\" x=\"141.5\" y=\"-36.8\" font-family=\"Times,serif\" font-size=\"14.00\">0</text>\n",
       "</g>\n",
       "<!-- 4 -->\n",
       "<g id=\"node5\" class=\"node\">\n",
       "<title>4</title>\n",
       "<text text-anchor=\"middle\" x=\"167.5\" y=\"-3.8\" font-family=\"Times,serif\" font-size=\"14.00\">* ab d</text>\n",
       "</g>\n",
       "<!-- 2&#45;&gt;4 -->\n",
       "<g id=\"edge4\" class=\"edge\">\n",
       "<title>2&#45;&gt;4</title>\n",
       "<path fill=\"none\" stroke=\"blue\" d=\"M149.64,-65.65C152.66,-55.98 158.28,-38.02 162.4,-24.81\"/>\n",
       "<polygon fill=\"blue\" stroke=\"blue\" points=\"165.79,-25.7 165.43,-15.11 159.11,-23.61 165.79,-25.7\"/>\n",
       "<text text-anchor=\"middle\" x=\"163.5\" y=\"-36.8\" font-family=\"Times,serif\" font-size=\"14.00\">1</text>\n",
       "</g>\n",
       "</g>\n",
       "</svg>\n"
      ],
      "text/plain": [
       "<graphviz.dot.Digraph at 0x110a7f8e0>"
      ]
     },
     "execution_count": 229,
     "metadata": {},
     "output_type": "execute_result"
    }
   ],
   "source": [
    "display_trace_tree(scf.ct.root)"
   ]
  },
  {
   "cell_type": "markdown",
   "metadata": {
    "slideshow": {
     "slide_type": "subslide"
    }
   },
   "source": [
    "For example, the pattern `00:0` corresponds to the following predicates."
   ]
  },
  {
   "cell_type": "code",
   "execution_count": 230,
   "metadata": {
    "execution": {
     "iopub.execute_input": "2022-01-02T15:43:32.234740Z",
     "iopub.status.busy": "2022-01-02T15:43:32.233912Z",
     "iopub.status.idle": "2022-01-02T15:43:32.236656Z",
     "shell.execute_reply": "2022-01-02T15:43:32.237024Z"
    },
    "slideshow": {
     "slide_type": "fragment"
    }
   },
   "outputs": [
    {
     "data": {
      "text/plain": [
       "PlausibleChild[00:0]"
      ]
     },
     "execution_count": 230,
     "metadata": {},
     "output_type": "execute_result"
    }
   ],
   "source": [
    "scf.ct.leaves['00:0']"
   ]
  },
  {
   "cell_type": "code",
   "execution_count": 231,
   "metadata": {
    "execution": {
     "iopub.execute_input": "2022-01-02T15:43:32.240613Z",
     "iopub.status.busy": "2022-01-02T15:43:32.240044Z",
     "iopub.status.idle": "2022-01-02T15:43:32.245480Z",
     "shell.execute_reply": "2022-01-02T15:43:32.245903Z"
    },
    "slideshow": {
     "slide_type": "fragment"
    }
   },
   "outputs": [
    {
     "data": {
      "text/plain": [
       "[Not(str.substr(hang_if_no_space_s_str_1, 0, 1) == \" \"),\n",
       " Not(str.substr(hang_if_no_space_s_str_1, 1, 1) == \" \"),\n",
       " Not(str.substr(hang_if_no_space_s_str_1, 2, 1) == \" \")]"
      ]
     },
     "execution_count": 231,
     "metadata": {},
     "output_type": "execute_result"
    }
   ],
   "source": [
    "scf.ct.leaves['00:0'].path_expression()"
   ]
  },
  {
   "cell_type": "markdown",
   "metadata": {
    "slideshow": {
     "slide_type": "fragment"
    }
   },
   "source": [
    "Similarly the pattern `:1` corresponds to the following predicates."
   ]
  },
  {
   "cell_type": "code",
   "execution_count": 232,
   "metadata": {
    "execution": {
     "iopub.execute_input": "2022-01-02T15:43:32.249688Z",
     "iopub.status.busy": "2022-01-02T15:43:32.249159Z",
     "iopub.status.idle": "2022-01-02T15:43:32.251517Z",
     "shell.execute_reply": "2022-01-02T15:43:32.251967Z"
    },
    "slideshow": {
     "slide_type": "fragment"
    }
   },
   "outputs": [
    {
     "data": {
      "text/plain": [
       "PlausibleChild[:1]"
      ]
     },
     "execution_count": 232,
     "metadata": {},
     "output_type": "execute_result"
    }
   ],
   "source": [
    "scf.ct.leaves[':1']"
   ]
  },
  {
   "cell_type": "code",
   "execution_count": 233,
   "metadata": {
    "execution": {
     "iopub.execute_input": "2022-01-02T15:43:32.255752Z",
     "iopub.status.busy": "2022-01-02T15:43:32.255230Z",
     "iopub.status.idle": "2022-01-02T15:43:32.258521Z",
     "shell.execute_reply": "2022-01-02T15:43:32.258904Z"
    },
    "slideshow": {
     "slide_type": "fragment"
    }
   },
   "outputs": [
    {
     "data": {
      "text/plain": [
       "[str.substr(hang_if_no_space_s_str_1, 0, 1) == \" \"]"
      ]
     },
     "execution_count": 233,
     "metadata": {},
     "output_type": "execute_result"
    }
   ],
   "source": [
    "scf.ct.leaves[':1'].path_expression()"
   ]
  },
  {
   "cell_type": "markdown",
   "metadata": {
    "slideshow": {
     "slide_type": "subslide"
    }
   },
   "source": [
    "We can now generate the next input to be generated by looking for the a leaf that is incompletely explored. The idea is to collect all leaf nodes, and choose one at random."
   ]
  },
  {
   "cell_type": "code",
   "execution_count": 234,
   "metadata": {
    "execution": {
     "iopub.execute_input": "2022-01-02T15:43:32.263710Z",
     "iopub.status.busy": "2022-01-02T15:43:32.263076Z",
     "iopub.status.idle": "2022-01-02T15:43:32.264515Z",
     "shell.execute_reply": "2022-01-02T15:43:32.264885Z"
    },
    "slideshow": {
     "slide_type": "fragment"
    }
   },
   "outputs": [],
   "source": [
    "class SimpleConcolicFuzzer(SimpleConcolicFuzzer):\n",
    "    def add_trace(self, trace, s):\n",
    "        self.ct.add_trace(trace, s)\n",
    "\n",
    "    def next_choice(self):\n",
    "        #lst = sorted(list(self.ct.leaves.keys()), key=len)\n",
    "        c = random.choice(list(self.ct.leaves.keys()))\n",
    "        #c = lst[0]\n",
    "        return self.ct.leaves[c]"
   ]
  },
  {
   "cell_type": "markdown",
   "metadata": {
    "slideshow": {
     "slide_type": "fragment"
    }
   },
   "source": [
    "We use the `next_choice()` as follows."
   ]
  },
  {
   "cell_type": "code",
   "execution_count": 235,
   "metadata": {
    "execution": {
     "iopub.execute_input": "2022-01-02T15:43:32.268568Z",
     "iopub.status.busy": "2022-01-02T15:43:32.267956Z",
     "iopub.status.idle": "2022-01-02T15:43:32.271624Z",
     "shell.execute_reply": "2022-01-02T15:43:32.271995Z"
    },
    "slideshow": {
     "slide_type": "subslide"
    }
   },
   "outputs": [],
   "source": [
    "scf = SimpleConcolicFuzzer()\n",
    "scf.add_trace(_, 'ab d')\n",
    "node = scf.next_choice()"
   ]
  },
  {
   "cell_type": "code",
   "execution_count": 236,
   "metadata": {
    "execution": {
     "iopub.execute_input": "2022-01-02T15:43:32.275597Z",
     "iopub.status.busy": "2022-01-02T15:43:32.274901Z",
     "iopub.status.idle": "2022-01-02T15:43:32.277327Z",
     "shell.execute_reply": "2022-01-02T15:43:32.277811Z"
    },
    "slideshow": {
     "slide_type": "fragment"
    }
   },
   "outputs": [
    {
     "data": {
      "text/plain": [
       "PlausibleChild[00:0]"
      ]
     },
     "execution_count": 236,
     "metadata": {},
     "output_type": "execute_result"
    }
   ],
   "source": [
    "node"
   ]
  },
  {
   "cell_type": "code",
   "execution_count": 237,
   "metadata": {
    "execution": {
     "iopub.execute_input": "2022-01-02T15:43:32.280802Z",
     "iopub.status.busy": "2022-01-02T15:43:32.280255Z",
     "iopub.status.idle": "2022-01-02T15:43:32.284992Z",
     "shell.execute_reply": "2022-01-02T15:43:32.285359Z"
    },
    "slideshow": {
     "slide_type": "fragment"
    }
   },
   "outputs": [
    {
     "data": {
      "text/plain": [
       "[Not(str.substr(hang_if_no_space_s_str_1, 0, 1) == \" \"),\n",
       " Not(str.substr(hang_if_no_space_s_str_1, 1, 1) == \" \"),\n",
       " Not(str.substr(hang_if_no_space_s_str_1, 2, 1) == \" \")]"
      ]
     },
     "execution_count": 237,
     "metadata": {},
     "output_type": "execute_result"
    }
   ],
   "source": [
    "node.path_expression()"
   ]
  },
  {
   "cell_type": "markdown",
   "metadata": {
    "slideshow": {
     "slide_type": "fragment"
    }
   },
   "source": [
    "We get the next choice for exploration, and expand the path expression, and return it together with a context using `get_newpath()`"
   ]
  },
  {
   "cell_type": "code",
   "execution_count": 238,
   "metadata": {
    "execution": {
     "iopub.execute_input": "2022-01-02T15:43:32.289230Z",
     "iopub.status.busy": "2022-01-02T15:43:32.288573Z",
     "iopub.status.idle": "2022-01-02T15:43:32.290346Z",
     "shell.execute_reply": "2022-01-02T15:43:32.290711Z"
    },
    "slideshow": {
     "slide_type": "subslide"
    }
   },
   "outputs": [],
   "source": [
    "class SimpleConcolicFuzzer(SimpleConcolicFuzzer):\n",
    "    def get_newpath(self):\n",
    "        node = self.next_choice()\n",
    "        path = node.path_expression()\n",
    "        return path, node.cc()"
   ]
  },
  {
   "cell_type": "code",
   "execution_count": 239,
   "metadata": {
    "execution": {
     "iopub.execute_input": "2022-01-02T15:43:32.294073Z",
     "iopub.status.busy": "2022-01-02T15:43:32.293563Z",
     "iopub.status.idle": "2022-01-02T15:43:32.298235Z",
     "shell.execute_reply": "2022-01-02T15:43:32.298596Z"
    },
    "slideshow": {
     "slide_type": "fragment"
    }
   },
   "outputs": [
    {
     "data": {
      "text/plain": [
       "[str.substr(hang_if_no_space_s_str_1, 0, 1) == \" \"]"
      ]
     },
     "execution_count": 239,
     "metadata": {},
     "output_type": "execute_result"
    }
   ],
   "source": [
    "scf = SimpleConcolicFuzzer()\n",
    "scf.add_trace(_, 'abcd')\n",
    "path, cc = scf.get_newpath()\n",
    "path"
   ]
  },
  {
   "cell_type": "markdown",
   "metadata": {
    "slideshow": {
     "slide_type": "subslide"
    }
   },
   "source": [
    "#### The fuzzing method\n",
    "\n",
    "The `fuzz()` method simply generates new lists of predicates, and solves them to produce new inputs."
   ]
  },
  {
   "cell_type": "code",
   "execution_count": 240,
   "metadata": {
    "execution": {
     "iopub.execute_input": "2022-01-02T15:43:32.304275Z",
     "iopub.status.busy": "2022-01-02T15:43:32.303744Z",
     "iopub.status.idle": "2022-01-02T15:43:32.305338Z",
     "shell.execute_reply": "2022-01-02T15:43:32.305697Z"
    },
    "slideshow": {
     "slide_type": "subslide"
    }
   },
   "outputs": [],
   "source": [
    "class SimpleConcolicFuzzer(SimpleConcolicFuzzer):\n",
    "    def fuzz(self):\n",
    "        if self.ct.root.children == {}:\n",
    "            # a random value to generate comparisons. This would be\n",
    "            # the initial value around which we explore with concolic\n",
    "            # fuzzing.\n",
    "            return ' '\n",
    "        for i in range(self.max_tries):\n",
    "            path, last = self.get_newpath()\n",
    "            s, v = zeval_smt(path, last, log=False)\n",
    "            if s != 'sat':\n",
    "                # raise Exception(\"Unexpected UNSAT\")\n",
    "                continue\n",
    "\n",
    "            val = list(v.values())[0]\n",
    "            elt, typ = val\n",
    "            if len(elt) == 2 and elt[0] == '-':  # negative numbers are [-, x]\n",
    "                elt = '-%s' % elt[1]\n",
    "\n",
    "            # make sure that we do not retry the tried paths\n",
    "            # The tracer we add here is incomplete. This gets updated when\n",
    "            # the add_trace is called from the concolic fuzzer context.\n",
    "            # self.add_trace(ConcolicTracer((last.decls, path)), elt)\n",
    "            if typ == 'Int':\n",
    "                return int(elt)\n",
    "            elif typ == 'String':\n",
    "                return elt\n",
    "            return elt\n",
    "        return None"
   ]
  },
  {
   "cell_type": "markdown",
   "metadata": {
    "slideshow": {
     "slide_type": "subslide"
    }
   },
   "source": [
    "### End of Excursion"
   ]
  },
  {
   "cell_type": "markdown",
   "metadata": {
    "slideshow": {
     "slide_type": "fragment"
    }
   },
   "source": [
    "To illustrate `SimpleConcolicFuzzer`, let us apply it on our example program `cgi_decode()` from the `Coverage` chapter. Note that we cannot use it directly as the hash lookups in `hex_values` can not be used for transferring constraints yet."
   ]
  },
  {
   "cell_type": "code",
   "execution_count": 241,
   "metadata": {
    "execution": {
     "iopub.execute_input": "2022-01-02T15:43:32.313096Z",
     "iopub.status.busy": "2022-01-02T15:43:32.312553Z",
     "iopub.status.idle": "2022-01-02T15:43:32.314274Z",
     "shell.execute_reply": "2022-01-02T15:43:32.314641Z"
    },
    "slideshow": {
     "slide_type": "subslide"
    }
   },
   "outputs": [],
   "source": [
    "def cgi_decode(s):\n",
    "    \"\"\"Decode the CGI-encoded string `s`:\n",
    "       * replace \"+\" by \" \"\n",
    "       * replace \"%xx\" by the character with hex number xx.\n",
    "       Return the decoded string.  Raise `ValueError` for invalid inputs.\"\"\"\n",
    "\n",
    "    # Mapping of hex digits to their integer values\n",
    "    hex_values = {\n",
    "        '0': 0, '1': 1, '2': 2, '3': 3, '4': 4,\n",
    "        '5': 5, '6': 6, '7': 7, '8': 8, '9': 9,\n",
    "        'a': 10, 'b': 11, 'c': 12, 'd': 13, 'e': 14, 'f': 15,\n",
    "        'A': 10, 'B': 11, 'C': 12, 'D': 13, 'E': 14, 'F': 15,\n",
    "    }\n",
    "\n",
    "    t = ''\n",
    "    i = 0\n",
    "    while i < len(s):\n",
    "        c = s[i]\n",
    "        if c == '+':\n",
    "            t += ' '\n",
    "        elif c == '%':\n",
    "            digit_high, digit_low = s[i + 1], s[i + 2]\n",
    "            i = i + 2\n",
    "            found = 0\n",
    "            v = 0\n",
    "            for key in hex_values:\n",
    "                if key == digit_high:\n",
    "                    found = found + 1\n",
    "                    v = hex_values[key] * 16\n",
    "                    break\n",
    "            for key in hex_values:\n",
    "                if key == digit_low:\n",
    "                    found = found + 1\n",
    "                    v = v + hex_values[key]\n",
    "                    break\n",
    "            if found == 2:\n",
    "                if v >= 128:\n",
    "                    # z3.StringVal(urllib.parse.unquote('%80')) <-- bug in z3\n",
    "                    raise ValueError(\"Invalid encoding\")\n",
    "                t = t + chr(v)\n",
    "            else:\n",
    "                raise ValueError(\"Invalid encoding\")\n",
    "        else:\n",
    "            t = t + c\n",
    "        i = i + 1\n",
    "    return t"
   ]
  },
  {
   "cell_type": "code",
   "execution_count": 242,
   "metadata": {
    "execution": {
     "iopub.execute_input": "2022-01-02T15:43:32.317847Z",
     "iopub.status.busy": "2022-01-02T15:43:32.317346Z",
     "iopub.status.idle": "2022-01-02T15:43:32.320394Z",
     "shell.execute_reply": "2022-01-02T15:43:32.320838Z"
    },
    "slideshow": {
     "slide_type": "subslide"
    }
   },
   "outputs": [],
   "source": [
    "with ConcolicTracer() as _:\n",
    "    _[cgi_decode]('a+c')"
   ]
  },
  {
   "cell_type": "code",
   "execution_count": 243,
   "metadata": {
    "execution": {
     "iopub.execute_input": "2022-01-02T15:43:32.323943Z",
     "iopub.status.busy": "2022-01-02T15:43:32.323411Z",
     "iopub.status.idle": "2022-01-02T15:43:32.327506Z",
     "shell.execute_reply": "2022-01-02T15:43:32.327883Z"
    },
    "slideshow": {
     "slide_type": "fragment"
    }
   },
   "outputs": [],
   "source": [
    "scf = SimpleConcolicFuzzer()\n",
    "scf.add_trace(_, 'a+c')"
   ]
  },
  {
   "cell_type": "markdown",
   "metadata": {
    "slideshow": {
     "slide_type": "fragment"
    }
   },
   "source": [
    "The _trace tree_ shows the path conditions encountered so far. Any blue edge towards a \"?\" implies that there is a path not yet taken."
   ]
  },
  {
   "cell_type": "code",
   "execution_count": 244,
   "metadata": {
    "execution": {
     "iopub.execute_input": "2022-01-02T15:43:32.331070Z",
     "iopub.status.busy": "2022-01-02T15:43:32.330547Z",
     "iopub.status.idle": "2022-01-02T15:43:32.745023Z",
     "shell.execute_reply": "2022-01-02T15:43:32.745549Z"
    },
    "slideshow": {
     "slide_type": "fragment"
    }
   },
   "outputs": [
    {
     "data": {
      "image/svg+xml": [
       "<?xml version=\"1.0\" encoding=\"UTF-8\" standalone=\"no\"?>\n",
       "<!DOCTYPE svg PUBLIC \"-//W3C//DTD SVG 1.1//EN\"\n",
       " \"http://www.w3.org/Graphics/SVG/1.1/DTD/svg11.dtd\">\n",
       "<!-- Generated by graphviz version 2.49.3 (20211023.0002)\n",
       " -->\n",
       "<!-- Pages: 1 -->\n",
       "<svg width=\"460pt\" height=\"353pt\"\n",
       " viewBox=\"0.00 0.00 460.00 353.00\" xmlns=\"http://www.w3.org/2000/svg\" xmlns:xlink=\"http://www.w3.org/1999/xlink\">\n",
       "<g id=\"graph0\" class=\"graph\" transform=\"scale(1 1) rotate(0) translate(4 349)\">\n",
       "<polygon fill=\"white\" stroke=\"transparent\" points=\"-4,4 -4,-349 456,-349 456,4 -4,4\"/>\n",
       "<!-- 0 -->\n",
       "<g id=\"node1\" class=\"node\">\n",
       "<title>0</title>\n",
       "<text text-anchor=\"middle\" x=\"321.5\" y=\"-333.8\" font-family=\"Times,serif\" font-size=\"14.00\">(0) str.substr(cgi_decode_s_str_1, 0, 1) == &quot;+&quot;</text>\n",
       "</g>\n",
       "<!-- 1 -->\n",
       "<g id=\"node2\" class=\"node\">\n",
       "<title>1</title>\n",
       "<text text-anchor=\"middle\" x=\"206.5\" y=\"-267.8\" font-family=\"Times,serif\" font-size=\"14.00\">(1) str.substr(cgi_decode_s_str_1, 0, 1) == &quot;%&quot;</text>\n",
       "</g>\n",
       "<!-- 0&#45;&gt;1 -->\n",
       "<g id=\"edge1\" class=\"edge\">\n",
       "<title>0&#45;&gt;1</title>\n",
       "<path fill=\"none\" stroke=\"red\" d=\"M309.63,-329.89C290.26,-319.11 251.61,-297.61 227.52,-284.2\"/>\n",
       "<polygon fill=\"red\" stroke=\"red\" points=\"228.92,-280.97 218.48,-279.17 225.52,-287.09 228.92,-280.97\"/>\n",
       "<text text-anchor=\"middle\" x=\"278.5\" y=\"-300.8\" font-family=\"Times,serif\" font-size=\"14.00\">0</text>\n",
       "</g>\n",
       "<!-- 10 -->\n",
       "<g id=\"node11\" class=\"node\">\n",
       "<title>10</title>\n",
       "<text text-anchor=\"middle\" x=\"360.5\" y=\"-267.8\" font-family=\"Times,serif\" font-size=\"14.00\">?</text>\n",
       "</g>\n",
       "<!-- 0&#45;&gt;10 -->\n",
       "<g id=\"edge10\" class=\"edge\">\n",
       "<title>0&#45;&gt;10</title>\n",
       "<path fill=\"none\" stroke=\"blue\" d=\"M325.67,-329.65C331.81,-319.58 343.42,-300.52 351.55,-287.2\"/>\n",
       "<polygon fill=\"blue\" stroke=\"blue\" points=\"354.71,-288.72 356.93,-278.36 348.73,-285.08 354.71,-288.72\"/>\n",
       "<text text-anchor=\"middle\" x=\"348.5\" y=\"-300.8\" font-family=\"Times,serif\" font-size=\"14.00\">1</text>\n",
       "</g>\n",
       "<!-- 2 -->\n",
       "<g id=\"node3\" class=\"node\">\n",
       "<title>2</title>\n",
       "<text text-anchor=\"middle\" x=\"130.5\" y=\"-201.8\" font-family=\"Times,serif\" font-size=\"14.00\">(2) str.substr(cgi_decode_s_str_1, 1, 1) == &quot;+&quot;</text>\n",
       "</g>\n",
       "<!-- 1&#45;&gt;2 -->\n",
       "<g id=\"edge2\" class=\"edge\">\n",
       "<title>1&#45;&gt;2</title>\n",
       "<path fill=\"none\" stroke=\"red\" d=\"M198.65,-263.89C186.37,-253.54 162.34,-233.31 146.35,-219.85\"/>\n",
       "<polygon fill=\"red\" stroke=\"red\" points=\"148.32,-216.93 138.42,-213.17 143.81,-222.29 148.32,-216.93\"/>\n",
       "<text text-anchor=\"middle\" x=\"179.5\" y=\"-234.8\" font-family=\"Times,serif\" font-size=\"14.00\">0</text>\n",
       "</g>\n",
       "<!-- 9 -->\n",
       "<g id=\"node10\" class=\"node\">\n",
       "<title>9</title>\n",
       "<text text-anchor=\"middle\" x=\"282.5\" y=\"-201.8\" font-family=\"Times,serif\" font-size=\"14.00\">?</text>\n",
       "</g>\n",
       "<!-- 1&#45;&gt;9 -->\n",
       "<g id=\"edge9\" class=\"edge\">\n",
       "<title>1&#45;&gt;9</title>\n",
       "<path fill=\"none\" stroke=\"blue\" d=\"M214.35,-263.89C227.79,-252.57 255.28,-229.42 270.93,-216.24\"/>\n",
       "<polygon fill=\"blue\" stroke=\"blue\" points=\"273.51,-218.64 278.91,-209.52 269.01,-213.29 273.51,-218.64\"/>\n",
       "<text text-anchor=\"middle\" x=\"255.5\" y=\"-234.8\" font-family=\"Times,serif\" font-size=\"14.00\">1</text>\n",
       "</g>\n",
       "<!-- 3 -->\n",
       "<g id=\"node4\" class=\"node\">\n",
       "<title>3</title>\n",
       "<text text-anchor=\"middle\" x=\"115.5\" y=\"-135.8\" font-family=\"Times,serif\" font-size=\"14.00\">?</text>\n",
       "</g>\n",
       "<!-- 2&#45;&gt;3 -->\n",
       "<g id=\"edge3\" class=\"edge\">\n",
       "<title>2&#45;&gt;3</title>\n",
       "<path fill=\"none\" stroke=\"red\" d=\"M128.89,-197.65C126.65,-188.07 122.5,-170.38 119.41,-157.2\"/>\n",
       "<polygon fill=\"red\" stroke=\"red\" points=\"122.74,-156.05 117.05,-147.11 115.92,-157.64 122.74,-156.05\"/>\n",
       "<text text-anchor=\"middle\" x=\"128.5\" y=\"-168.8\" font-family=\"Times,serif\" font-size=\"14.00\">0</text>\n",
       "</g>\n",
       "<!-- 4 -->\n",
       "<g id=\"node5\" class=\"node\">\n",
       "<title>4</title>\n",
       "<text text-anchor=\"middle\" x=\"267.5\" y=\"-135.8\" font-family=\"Times,serif\" font-size=\"14.00\">(3) str.substr(cgi_decode_s_str_1, 2, 1) == &quot;+&quot;</text>\n",
       "</g>\n",
       "<!-- 2&#45;&gt;4 -->\n",
       "<g id=\"edge4\" class=\"edge\">\n",
       "<title>2&#45;&gt;4</title>\n",
       "<path fill=\"none\" stroke=\"blue\" d=\"M144.65,-197.89C168.13,-186.92 215.4,-164.84 243.97,-151.49\"/>\n",
       "<polygon fill=\"blue\" stroke=\"blue\" points=\"245.65,-154.57 253.23,-147.17 242.68,-148.23 245.65,-154.57\"/>\n",
       "<text text-anchor=\"middle\" x=\"215.5\" y=\"-168.8\" font-family=\"Times,serif\" font-size=\"14.00\">1</text>\n",
       "</g>\n",
       "<!-- 5 -->\n",
       "<g id=\"node6\" class=\"node\">\n",
       "<title>5</title>\n",
       "<text text-anchor=\"middle\" x=\"159.5\" y=\"-69.8\" font-family=\"Times,serif\" font-size=\"14.00\">(4) str.substr(cgi_decode_s_str_1, 2, 1) == &quot;%&quot;</text>\n",
       "</g>\n",
       "<!-- 4&#45;&gt;5 -->\n",
       "<g id=\"edge5\" class=\"edge\">\n",
       "<title>4&#45;&gt;5</title>\n",
       "<path fill=\"none\" stroke=\"red\" d=\"M256.35,-131.89C238.24,-121.16 202.19,-99.8 179.55,-86.38\"/>\n",
       "<polygon fill=\"red\" stroke=\"red\" points=\"181.14,-83.26 170.75,-81.17 177.57,-89.28 181.14,-83.26\"/>\n",
       "<text text-anchor=\"middle\" x=\"227.5\" y=\"-102.8\" font-family=\"Times,serif\" font-size=\"14.00\">0</text>\n",
       "</g>\n",
       "<!-- 8 -->\n",
       "<g id=\"node9\" class=\"node\">\n",
       "<title>8</title>\n",
       "<text text-anchor=\"middle\" x=\"313.5\" y=\"-69.8\" font-family=\"Times,serif\" font-size=\"14.00\">?</text>\n",
       "</g>\n",
       "<!-- 4&#45;&gt;8 -->\n",
       "<g id=\"edge8\" class=\"edge\">\n",
       "<title>4&#45;&gt;8</title>\n",
       "<path fill=\"none\" stroke=\"blue\" d=\"M272.42,-131.65C279.88,-121.27 294.2,-101.36 303.8,-88\"/>\n",
       "<polygon fill=\"blue\" stroke=\"blue\" points=\"306.8,-89.82 309.79,-79.66 301.12,-85.73 306.8,-89.82\"/>\n",
       "<text text-anchor=\"middle\" x=\"299.5\" y=\"-102.8\" font-family=\"Times,serif\" font-size=\"14.00\">1</text>\n",
       "</g>\n",
       "<!-- 6 -->\n",
       "<g id=\"node7\" class=\"node\">\n",
       "<title>6</title>\n",
       "<text text-anchor=\"middle\" x=\"141.5\" y=\"-3.8\" font-family=\"Times,serif\" font-size=\"14.00\">* a+c</text>\n",
       "</g>\n",
       "<!-- 5&#45;&gt;6 -->\n",
       "<g id=\"edge6\" class=\"edge\">\n",
       "<title>5&#45;&gt;6</title>\n",
       "<path fill=\"none\" stroke=\"red\" d=\"M155.95,-65.81C153.53,-60.98 150.42,-54.24 148.5,-48 146.24,-40.66 144.63,-32.32 143.53,-25.2\"/>\n",
       "<polygon fill=\"red\" stroke=\"red\" points=\"146.96,-24.49 142.16,-15.05 140.03,-25.42 146.96,-24.49\"/>\n",
       "<text text-anchor=\"middle\" x=\"152.5\" y=\"-36.8\" font-family=\"Times,serif\" font-size=\"14.00\">0</text>\n",
       "</g>\n",
       "<!-- 7 -->\n",
       "<g id=\"node8\" class=\"node\">\n",
       "<title>7</title>\n",
       "<text text-anchor=\"middle\" x=\"178.5\" y=\"-3.8\" font-family=\"Times,serif\" font-size=\"14.00\">?</text>\n",
       "</g>\n",
       "<!-- 5&#45;&gt;7 -->\n",
       "<g id=\"edge7\" class=\"edge\">\n",
       "<title>5&#45;&gt;7</title>\n",
       "<path fill=\"none\" stroke=\"blue\" d=\"M161.53,-65.65C164.41,-55.98 169.74,-38.02 173.66,-24.81\"/>\n",
       "<polygon fill=\"blue\" stroke=\"blue\" points=\"177.05,-25.69 176.54,-15.11 170.34,-23.7 177.05,-25.69\"/>\n",
       "<text text-anchor=\"middle\" x=\"175.5\" y=\"-36.8\" font-family=\"Times,serif\" font-size=\"14.00\">1</text>\n",
       "</g>\n",
       "</g>\n",
       "</svg>\n"
      ],
      "text/plain": [
       "<graphviz.dot.Digraph at 0x110a030a0>"
      ]
     },
     "execution_count": 244,
     "metadata": {},
     "output_type": "execute_result"
    }
   ],
   "source": [
    "display_trace_tree(scf.ct.root)"
   ]
  },
  {
   "cell_type": "markdown",
   "metadata": {
    "slideshow": {
     "slide_type": "fragment"
    }
   },
   "source": [
    "So, we fuzz to get a new path."
   ]
  },
  {
   "cell_type": "code",
   "execution_count": 245,
   "metadata": {
    "execution": {
     "iopub.execute_input": "2022-01-02T15:43:32.749872Z",
     "iopub.status.busy": "2022-01-02T15:43:32.749237Z",
     "iopub.status.idle": "2022-01-02T15:43:32.782718Z",
     "shell.execute_reply": "2022-01-02T15:43:32.783150Z"
    },
    "slideshow": {
     "slide_type": "fragment"
    }
   },
   "outputs": [
    {
     "data": {
      "text/plain": [
       "''"
      ]
     },
     "execution_count": 245,
     "metadata": {},
     "output_type": "execute_result"
    }
   ],
   "source": [
    "v = scf.fuzz()\n",
    "v"
   ]
  },
  {
   "cell_type": "markdown",
   "metadata": {
    "slideshow": {
     "slide_type": "fragment"
    }
   },
   "source": [
    "We can now obtain the new trace as before."
   ]
  },
  {
   "cell_type": "code",
   "execution_count": 246,
   "metadata": {
    "execution": {
     "iopub.execute_input": "2022-01-02T15:43:32.787730Z",
     "iopub.status.busy": "2022-01-02T15:43:32.787221Z",
     "iopub.status.idle": "2022-01-02T15:43:32.788981Z",
     "shell.execute_reply": "2022-01-02T15:43:32.789346Z"
    },
    "slideshow": {
     "slide_type": "subslide"
    }
   },
   "outputs": [],
   "source": [
    "with ExpectError():\n",
    "    with ConcolicTracer() as _:\n",
    "        _[cgi_decode](v)"
   ]
  },
  {
   "cell_type": "markdown",
   "metadata": {
    "slideshow": {
     "slide_type": "fragment"
    }
   },
   "source": [
    "The new trace is added to our fuzzer using `add_trace()`"
   ]
  },
  {
   "cell_type": "code",
   "execution_count": 247,
   "metadata": {
    "execution": {
     "iopub.execute_input": "2022-01-02T15:43:32.792654Z",
     "iopub.status.busy": "2022-01-02T15:43:32.792153Z",
     "iopub.status.idle": "2022-01-02T15:43:32.794234Z",
     "shell.execute_reply": "2022-01-02T15:43:32.794612Z"
    },
    "slideshow": {
     "slide_type": "fragment"
    }
   },
   "outputs": [],
   "source": [
    "scf.add_trace(_, v)"
   ]
  },
  {
   "cell_type": "markdown",
   "metadata": {
    "slideshow": {
     "slide_type": "fragment"
    }
   },
   "source": [
    "The updated binary tree is as follows. Note the difference between the child nodes of `Root` node."
   ]
  },
  {
   "cell_type": "code",
   "execution_count": 248,
   "metadata": {
    "execution": {
     "iopub.execute_input": "2022-01-02T15:43:32.797849Z",
     "iopub.status.busy": "2022-01-02T15:43:32.797316Z",
     "iopub.status.idle": "2022-01-02T15:43:33.347041Z",
     "shell.execute_reply": "2022-01-02T15:43:33.347695Z"
    },
    "slideshow": {
     "slide_type": "fragment"
    }
   },
   "outputs": [
    {
     "data": {
      "image/svg+xml": [
       "<?xml version=\"1.0\" encoding=\"UTF-8\" standalone=\"no\"?>\n",
       "<!DOCTYPE svg PUBLIC \"-//W3C//DTD SVG 1.1//EN\"\n",
       " \"http://www.w3.org/Graphics/SVG/1.1/DTD/svg11.dtd\">\n",
       "<!-- Generated by graphviz version 2.49.3 (20211023.0002)\n",
       " -->\n",
       "<!-- Pages: 1 -->\n",
       "<svg width=\"460pt\" height=\"353pt\"\n",
       " viewBox=\"0.00 0.00 460.00 353.00\" xmlns=\"http://www.w3.org/2000/svg\" xmlns:xlink=\"http://www.w3.org/1999/xlink\">\n",
       "<g id=\"graph0\" class=\"graph\" transform=\"scale(1 1) rotate(0) translate(4 349)\">\n",
       "<polygon fill=\"white\" stroke=\"transparent\" points=\"-4,4 -4,-349 456,-349 456,4 -4,4\"/>\n",
       "<!-- 0 -->\n",
       "<g id=\"node1\" class=\"node\">\n",
       "<title>0</title>\n",
       "<text text-anchor=\"middle\" x=\"321.5\" y=\"-333.8\" font-family=\"Times,serif\" font-size=\"14.00\">(0) str.substr(cgi_decode_s_str_1, 0, 1) == &quot;+&quot;</text>\n",
       "</g>\n",
       "<!-- 1 -->\n",
       "<g id=\"node2\" class=\"node\">\n",
       "<title>1</title>\n",
       "<text text-anchor=\"middle\" x=\"206.5\" y=\"-267.8\" font-family=\"Times,serif\" font-size=\"14.00\">(1) str.substr(cgi_decode_s_str_1, 0, 1) == &quot;%&quot;</text>\n",
       "</g>\n",
       "<!-- 0&#45;&gt;1 -->\n",
       "<g id=\"edge1\" class=\"edge\">\n",
       "<title>0&#45;&gt;1</title>\n",
       "<path fill=\"none\" stroke=\"red\" d=\"M309.63,-329.89C290.26,-319.11 251.61,-297.61 227.52,-284.2\"/>\n",
       "<polygon fill=\"red\" stroke=\"red\" points=\"228.92,-280.97 218.48,-279.17 225.52,-287.09 228.92,-280.97\"/>\n",
       "<text text-anchor=\"middle\" x=\"278.5\" y=\"-300.8\" font-family=\"Times,serif\" font-size=\"14.00\">0</text>\n",
       "</g>\n",
       "<!-- 10 -->\n",
       "<g id=\"node11\" class=\"node\">\n",
       "<title>10</title>\n",
       "<text text-anchor=\"middle\" x=\"360.5\" y=\"-267.8\" font-family=\"Times,serif\" font-size=\"14.00\">?</text>\n",
       "</g>\n",
       "<!-- 0&#45;&gt;10 -->\n",
       "<g id=\"edge10\" class=\"edge\">\n",
       "<title>0&#45;&gt;10</title>\n",
       "<path fill=\"none\" stroke=\"blue\" d=\"M325.67,-329.65C331.81,-319.58 343.42,-300.52 351.55,-287.2\"/>\n",
       "<polygon fill=\"blue\" stroke=\"blue\" points=\"354.71,-288.72 356.93,-278.36 348.73,-285.08 354.71,-288.72\"/>\n",
       "<text text-anchor=\"middle\" x=\"348.5\" y=\"-300.8\" font-family=\"Times,serif\" font-size=\"14.00\">1</text>\n",
       "</g>\n",
       "<!-- 2 -->\n",
       "<g id=\"node3\" class=\"node\">\n",
       "<title>2</title>\n",
       "<text text-anchor=\"middle\" x=\"130.5\" y=\"-201.8\" font-family=\"Times,serif\" font-size=\"14.00\">(2) str.substr(cgi_decode_s_str_1, 1, 1) == &quot;+&quot;</text>\n",
       "</g>\n",
       "<!-- 1&#45;&gt;2 -->\n",
       "<g id=\"edge2\" class=\"edge\">\n",
       "<title>1&#45;&gt;2</title>\n",
       "<path fill=\"none\" stroke=\"red\" d=\"M198.65,-263.89C186.37,-253.54 162.34,-233.31 146.35,-219.85\"/>\n",
       "<polygon fill=\"red\" stroke=\"red\" points=\"148.32,-216.93 138.42,-213.17 143.81,-222.29 148.32,-216.93\"/>\n",
       "<text text-anchor=\"middle\" x=\"179.5\" y=\"-234.8\" font-family=\"Times,serif\" font-size=\"14.00\">0</text>\n",
       "</g>\n",
       "<!-- 9 -->\n",
       "<g id=\"node10\" class=\"node\">\n",
       "<title>9</title>\n",
       "<text text-anchor=\"middle\" x=\"282.5\" y=\"-201.8\" font-family=\"Times,serif\" font-size=\"14.00\">?</text>\n",
       "</g>\n",
       "<!-- 1&#45;&gt;9 -->\n",
       "<g id=\"edge9\" class=\"edge\">\n",
       "<title>1&#45;&gt;9</title>\n",
       "<path fill=\"none\" stroke=\"blue\" d=\"M214.35,-263.89C227.79,-252.57 255.28,-229.42 270.93,-216.24\"/>\n",
       "<polygon fill=\"blue\" stroke=\"blue\" points=\"273.51,-218.64 278.91,-209.52 269.01,-213.29 273.51,-218.64\"/>\n",
       "<text text-anchor=\"middle\" x=\"255.5\" y=\"-234.8\" font-family=\"Times,serif\" font-size=\"14.00\">1</text>\n",
       "</g>\n",
       "<!-- 3 -->\n",
       "<g id=\"node4\" class=\"node\">\n",
       "<title>3</title>\n",
       "<text text-anchor=\"middle\" x=\"115.5\" y=\"-135.8\" font-family=\"Times,serif\" font-size=\"14.00\">?</text>\n",
       "</g>\n",
       "<!-- 2&#45;&gt;3 -->\n",
       "<g id=\"edge3\" class=\"edge\">\n",
       "<title>2&#45;&gt;3</title>\n",
       "<path fill=\"none\" stroke=\"red\" d=\"M128.89,-197.65C126.65,-188.07 122.5,-170.38 119.41,-157.2\"/>\n",
       "<polygon fill=\"red\" stroke=\"red\" points=\"122.74,-156.05 117.05,-147.11 115.92,-157.64 122.74,-156.05\"/>\n",
       "<text text-anchor=\"middle\" x=\"128.5\" y=\"-168.8\" font-family=\"Times,serif\" font-size=\"14.00\">0</text>\n",
       "</g>\n",
       "<!-- 4 -->\n",
       "<g id=\"node5\" class=\"node\">\n",
       "<title>4</title>\n",
       "<text text-anchor=\"middle\" x=\"267.5\" y=\"-135.8\" font-family=\"Times,serif\" font-size=\"14.00\">(3) str.substr(cgi_decode_s_str_1, 2, 1) == &quot;+&quot;</text>\n",
       "</g>\n",
       "<!-- 2&#45;&gt;4 -->\n",
       "<g id=\"edge4\" class=\"edge\">\n",
       "<title>2&#45;&gt;4</title>\n",
       "<path fill=\"none\" stroke=\"blue\" d=\"M144.65,-197.89C168.13,-186.92 215.4,-164.84 243.97,-151.49\"/>\n",
       "<polygon fill=\"blue\" stroke=\"blue\" points=\"245.65,-154.57 253.23,-147.17 242.68,-148.23 245.65,-154.57\"/>\n",
       "<text text-anchor=\"middle\" x=\"215.5\" y=\"-168.8\" font-family=\"Times,serif\" font-size=\"14.00\">1</text>\n",
       "</g>\n",
       "<!-- 5 -->\n",
       "<g id=\"node6\" class=\"node\">\n",
       "<title>5</title>\n",
       "<text text-anchor=\"middle\" x=\"159.5\" y=\"-69.8\" font-family=\"Times,serif\" font-size=\"14.00\">(4) str.substr(cgi_decode_s_str_1, 2, 1) == &quot;%&quot;</text>\n",
       "</g>\n",
       "<!-- 4&#45;&gt;5 -->\n",
       "<g id=\"edge5\" class=\"edge\">\n",
       "<title>4&#45;&gt;5</title>\n",
       "<path fill=\"none\" stroke=\"red\" d=\"M256.35,-131.89C238.24,-121.16 202.19,-99.8 179.55,-86.38\"/>\n",
       "<polygon fill=\"red\" stroke=\"red\" points=\"181.14,-83.26 170.75,-81.17 177.57,-89.28 181.14,-83.26\"/>\n",
       "<text text-anchor=\"middle\" x=\"227.5\" y=\"-102.8\" font-family=\"Times,serif\" font-size=\"14.00\">0</text>\n",
       "</g>\n",
       "<!-- 8 -->\n",
       "<g id=\"node9\" class=\"node\">\n",
       "<title>8</title>\n",
       "<text text-anchor=\"middle\" x=\"313.5\" y=\"-69.8\" font-family=\"Times,serif\" font-size=\"14.00\">?</text>\n",
       "</g>\n",
       "<!-- 4&#45;&gt;8 -->\n",
       "<g id=\"edge8\" class=\"edge\">\n",
       "<title>4&#45;&gt;8</title>\n",
       "<path fill=\"none\" stroke=\"blue\" d=\"M272.42,-131.65C279.88,-121.27 294.2,-101.36 303.8,-88\"/>\n",
       "<polygon fill=\"blue\" stroke=\"blue\" points=\"306.8,-89.82 309.79,-79.66 301.12,-85.73 306.8,-89.82\"/>\n",
       "<text text-anchor=\"middle\" x=\"299.5\" y=\"-102.8\" font-family=\"Times,serif\" font-size=\"14.00\">1</text>\n",
       "</g>\n",
       "<!-- 6 -->\n",
       "<g id=\"node7\" class=\"node\">\n",
       "<title>6</title>\n",
       "<text text-anchor=\"middle\" x=\"141.5\" y=\"-3.8\" font-family=\"Times,serif\" font-size=\"14.00\">* a+c</text>\n",
       "</g>\n",
       "<!-- 5&#45;&gt;6 -->\n",
       "<g id=\"edge6\" class=\"edge\">\n",
       "<title>5&#45;&gt;6</title>\n",
       "<path fill=\"none\" stroke=\"red\" d=\"M155.95,-65.81C153.53,-60.98 150.42,-54.24 148.5,-48 146.24,-40.66 144.63,-32.32 143.53,-25.2\"/>\n",
       "<polygon fill=\"red\" stroke=\"red\" points=\"146.96,-24.49 142.16,-15.05 140.03,-25.42 146.96,-24.49\"/>\n",
       "<text text-anchor=\"middle\" x=\"152.5\" y=\"-36.8\" font-family=\"Times,serif\" font-size=\"14.00\">0</text>\n",
       "</g>\n",
       "<!-- 7 -->\n",
       "<g id=\"node8\" class=\"node\">\n",
       "<title>7</title>\n",
       "<text text-anchor=\"middle\" x=\"178.5\" y=\"-3.8\" font-family=\"Times,serif\" font-size=\"14.00\">?</text>\n",
       "</g>\n",
       "<!-- 5&#45;&gt;7 -->\n",
       "<g id=\"edge7\" class=\"edge\">\n",
       "<title>5&#45;&gt;7</title>\n",
       "<path fill=\"none\" stroke=\"blue\" d=\"M161.53,-65.65C164.41,-55.98 169.74,-38.02 173.66,-24.81\"/>\n",
       "<polygon fill=\"blue\" stroke=\"blue\" points=\"177.05,-25.69 176.54,-15.11 170.34,-23.7 177.05,-25.69\"/>\n",
       "<text text-anchor=\"middle\" x=\"175.5\" y=\"-36.8\" font-family=\"Times,serif\" font-size=\"14.00\">1</text>\n",
       "</g>\n",
       "</g>\n",
       "</svg>\n"
      ],
      "text/plain": [
       "<graphviz.dot.Digraph at 0x1109c8bb0>"
      ]
     },
     "execution_count": 248,
     "metadata": {},
     "output_type": "execute_result"
    }
   ],
   "source": [
    "display_trace_tree(scf.ct.root)"
   ]
  },
  {
   "cell_type": "markdown",
   "metadata": {
    "slideshow": {
     "slide_type": "fragment"
    }
   },
   "source": [
    "A complete fuzzer run is as follows:"
   ]
  },
  {
   "cell_type": "code",
   "execution_count": 249,
   "metadata": {
    "execution": {
     "iopub.execute_input": "2022-01-02T15:43:33.355726Z",
     "iopub.status.busy": "2022-01-02T15:43:33.354886Z",
     "iopub.status.idle": "2022-01-02T15:43:34.007864Z",
     "shell.execute_reply": "2022-01-02T15:43:34.008459Z"
    },
    "slideshow": {
     "slide_type": "subslide"
    }
   },
   "outputs": [
    {
     "name": "stdout",
     "output_type": "stream",
     "text": [
      "' '\n",
      "'+\\\\x00'\n",
      "'++\\\\x00'\n",
      "'+%\\\\x00'\n"
     ]
    },
    {
     "name": "stderr",
     "output_type": "stream",
     "text": [
      "ValueError: Invalid encoding (expected)\n",
      "ValueError: Invalid encoding (expected)\n",
      "ValueError: Invalid encoding (expected)\n"
     ]
    },
    {
     "name": "stdout",
     "output_type": "stream",
     "text": [
      "'+%D\\\\x00'\n",
      "'+%DD\\\\x00'\n",
      "'+%4\\\\x00'\n"
     ]
    },
    {
     "name": "stderr",
     "output_type": "stream",
     "text": [
      "ValueError: Invalid encoding (expected)\n",
      "ValueError: Invalid encoding (expected)\n"
     ]
    },
    {
     "name": "stdout",
     "output_type": "stream",
     "text": [
      "'+%DE\\\\x00'\n",
      "'+++\\\\x00'\n",
      "'+%C\\\\x00'\n"
     ]
    },
    {
     "name": "stderr",
     "output_type": "stream",
     "text": [
      "ValueError: Invalid encoding (expected)\n"
     ]
    }
   ],
   "source": [
    "scf = SimpleConcolicFuzzer()\n",
    "for i in range(10):\n",
    "    v = scf.fuzz()\n",
    "    print(repr(v))\n",
    "    if v is None:\n",
    "        continue\n",
    "    with ConcolicTracer() as _:\n",
    "        with ExpectError(print_traceback=False):\n",
    "            # z3.StringVal(urllib.parse.unquote('%80')) <-- bug in z3\n",
    "            _[cgi_decode](v)\n",
    "    scf.add_trace(_, v)"
   ]
  },
  {
   "cell_type": "code",
   "execution_count": 250,
   "metadata": {
    "execution": {
     "iopub.execute_input": "2022-01-02T15:43:34.014184Z",
     "iopub.status.busy": "2022-01-02T15:43:34.013493Z",
     "iopub.status.idle": "2022-01-02T15:43:34.742467Z",
     "shell.execute_reply": "2022-01-02T15:43:34.742907Z"
    },
    "slideshow": {
     "slide_type": "subslide"
    }
   },
   "outputs": [
    {
     "data": {
      "image/svg+xml": [
       "<?xml version=\"1.0\" encoding=\"UTF-8\" standalone=\"no\"?>\n",
       "<!DOCTYPE svg PUBLIC \"-//W3C//DTD SVG 1.1//EN\"\n",
       " \"http://www.w3.org/Graphics/SVG/1.1/DTD/svg11.dtd\">\n",
       "<!-- Generated by graphviz version 2.49.3 (20211023.0002)\n",
       " -->\n",
       "<!-- Pages: 1 -->\n",
       "<svg width=\"6315pt\" height=\"3125pt\"\n",
       " viewBox=\"0.00 0.00 6314.50 3125.00\" xmlns=\"http://www.w3.org/2000/svg\" xmlns:xlink=\"http://www.w3.org/1999/xlink\">\n",
       "<g id=\"graph0\" class=\"graph\" transform=\"scale(1 1) rotate(0) translate(4 3121)\">\n",
       "<polygon fill=\"white\" stroke=\"transparent\" points=\"-4,4 -4,-3121 6310.5,-3121 6310.5,4 -4,4\"/>\n",
       "<!-- 0 -->\n",
       "<g id=\"node1\" class=\"node\">\n",
       "<title>0</title>\n",
       "<text text-anchor=\"middle\" x=\"5537\" y=\"-3105.8\" font-family=\"Times,serif\" font-size=\"14.00\">(0) str.substr(cgi_decode_s_str_1, 0, 1) == &quot;+&quot;</text>\n",
       "</g>\n",
       "<!-- 1 -->\n",
       "<g id=\"node2\" class=\"node\">\n",
       "<title>1</title>\n",
       "<text text-anchor=\"middle\" x=\"5397\" y=\"-3039.8\" font-family=\"Times,serif\" font-size=\"14.00\">(1) str.substr(cgi_decode_s_str_1, 0, 1) == &quot;%&quot;</text>\n",
       "</g>\n",
       "<!-- 0&#45;&gt;1 -->\n",
       "<g id=\"edge1\" class=\"edge\">\n",
       "<title>0&#45;&gt;1</title>\n",
       "<path fill=\"none\" stroke=\"red\" d=\"M5522.54,-3101.89C5498.55,-3090.92 5450.24,-3068.84 5421.05,-3055.49\"/>\n",
       "<polygon fill=\"red\" stroke=\"red\" points=\"5422.14,-3052.14 5411.59,-3051.17 5419.23,-3058.51 5422.14,-3052.14\"/>\n",
       "<text text-anchor=\"middle\" x=\"5484\" y=\"-3072.8\" font-family=\"Times,serif\" font-size=\"14.00\">0</text>\n",
       "</g>\n",
       "<!-- 4 -->\n",
       "<g id=\"node5\" class=\"node\">\n",
       "<title>4</title>\n",
       "<text text-anchor=\"middle\" x=\"5678\" y=\"-3039.8\" font-family=\"Times,serif\" font-size=\"14.00\">(1) str.substr(cgi_decode_s_str_1, 1, 1) == &quot;+&quot;</text>\n",
       "</g>\n",
       "<!-- 0&#45;&gt;4 -->\n",
       "<g id=\"edge4\" class=\"edge\">\n",
       "<title>0&#45;&gt;4</title>\n",
       "<path fill=\"none\" stroke=\"blue\" d=\"M5551.56,-3101.89C5575.83,-3090.87 5624.8,-3068.65 5654.17,-3055.32\"/>\n",
       "<polygon fill=\"blue\" stroke=\"blue\" points=\"5655.65,-3058.49 5663.31,-3051.17 5652.76,-3052.11 5655.65,-3058.49\"/>\n",
       "<text text-anchor=\"middle\" x=\"5625\" y=\"-3072.8\" font-family=\"Times,serif\" font-size=\"14.00\">1</text>\n",
       "</g>\n",
       "<!-- 2 -->\n",
       "<g id=\"node3\" class=\"node\">\n",
       "<title>2</title>\n",
       "<text text-anchor=\"middle\" x=\"5382\" y=\"-2973.8\" font-family=\"Times,serif\" font-size=\"14.00\">* &#160;</text>\n",
       "</g>\n",
       "<!-- 1&#45;&gt;2 -->\n",
       "<g id=\"edge2\" class=\"edge\">\n",
       "<title>1&#45;&gt;2</title>\n",
       "<path fill=\"none\" stroke=\"red\" d=\"M5392.52,-3035.97C5389.51,-3031.22 5385.79,-3024.5 5384,-3018 5381.99,-3010.7 5381.34,-3002.37 5381.25,-2995.24\"/>\n",
       "<polygon fill=\"red\" stroke=\"red\" points=\"5384.75,-2995.14 5381.47,-2985.07 5377.75,-2994.99 5384.75,-2995.14\"/>\n",
       "<text text-anchor=\"middle\" x=\"5388\" y=\"-3006.8\" font-family=\"Times,serif\" font-size=\"14.00\">0</text>\n",
       "</g>\n",
       "<!-- 3 -->\n",
       "<g id=\"node4\" class=\"node\">\n",
       "<title>3</title>\n",
       "<text text-anchor=\"middle\" x=\"5413\" y=\"-2973.8\" font-family=\"Times,serif\" font-size=\"14.00\">?</text>\n",
       "</g>\n",
       "<!-- 1&#45;&gt;3 -->\n",
       "<g id=\"edge3\" class=\"edge\">\n",
       "<title>1&#45;&gt;3</title>\n",
       "<path fill=\"none\" stroke=\"blue\" d=\"M5398.71,-3035.65C5401.11,-3026.07 5405.53,-3008.38 5408.82,-2995.2\"/>\n",
       "<polygon fill=\"blue\" stroke=\"blue\" points=\"5412.32,-2995.66 5411.35,-2985.11 5405.53,-2993.96 5412.32,-2995.66\"/>\n",
       "<text text-anchor=\"middle\" x=\"5411\" y=\"-3006.8\" font-family=\"Times,serif\" font-size=\"14.00\">1</text>\n",
       "</g>\n",
       "<!-- 5 -->\n",
       "<g id=\"node6\" class=\"node\">\n",
       "<title>5</title>\n",
       "<text text-anchor=\"middle\" x=\"5607\" y=\"-2973.8\" font-family=\"Times,serif\" font-size=\"14.00\">(2) str.substr(cgi_decode_s_str_1, 1, 1) == &quot;%&quot;</text>\n",
       "</g>\n",
       "<!-- 4&#45;&gt;5 -->\n",
       "<g id=\"edge5\" class=\"edge\">\n",
       "<title>4&#45;&gt;5</title>\n",
       "<path fill=\"none\" stroke=\"red\" d=\"M5670.67,-3035.89C5659.3,-3025.64 5637.16,-3005.68 5622.22,-2992.22\"/>\n",
       "<polygon fill=\"red\" stroke=\"red\" points=\"5624.17,-2989.26 5614.4,-2985.17 5619.48,-2994.46 5624.17,-2989.26\"/>\n",
       "<text text-anchor=\"middle\" x=\"5653\" y=\"-3006.8\" font-family=\"Times,serif\" font-size=\"14.00\">0</text>\n",
       "</g>\n",
       "<!-- 240 -->\n",
       "<g id=\"node241\" class=\"node\">\n",
       "<title>240</title>\n",
       "<text text-anchor=\"middle\" x=\"5888\" y=\"-2973.8\" font-family=\"Times,serif\" font-size=\"14.00\">(2) str.substr(cgi_decode_s_str_1, 2, 1) == &quot;+&quot;</text>\n",
       "</g>\n",
       "<!-- 4&#45;&gt;240 -->\n",
       "<g id=\"edge240\" class=\"edge\">\n",
       "<title>4&#45;&gt;240</title>\n",
       "<path fill=\"none\" stroke=\"blue\" d=\"M5699.68,-3035.89C5737.03,-3024.51 5813.64,-3001.16 5856.75,-2988.02\"/>\n",
       "<polygon fill=\"blue\" stroke=\"blue\" points=\"5857.89,-2991.34 5866.44,-2985.07 5855.85,-2984.64 5857.89,-2991.34\"/>\n",
       "<text text-anchor=\"middle\" x=\"5806\" y=\"-3006.8\" font-family=\"Times,serif\" font-size=\"14.00\">1</text>\n",
       "</g>\n",
       "<!-- 6 -->\n",
       "<g id=\"node7\" class=\"node\">\n",
       "<title>6</title>\n",
       "<text text-anchor=\"middle\" x=\"5328\" y=\"-2907.8\" font-family=\"Times,serif\" font-size=\"14.00\">(3) str.substr(cgi_decode_s_str_1, 2, 1) == &quot;+&quot;</text>\n",
       "</g>\n",
       "<!-- 5&#45;&gt;6 -->\n",
       "<g id=\"edge6\" class=\"edge\">\n",
       "<title>5&#45;&gt;6</title>\n",
       "<path fill=\"none\" stroke=\"red\" d=\"M5578.45,-2969.95C5528.12,-2958.4 5423.54,-2934.42 5366.74,-2921.39\"/>\n",
       "<polygon fill=\"red\" stroke=\"red\" points=\"5367.24,-2917.91 5356.71,-2919.09 5365.68,-2924.73 5367.24,-2917.91\"/>\n",
       "<text text-anchor=\"middle\" x=\"5497\" y=\"-2940.8\" font-family=\"Times,serif\" font-size=\"14.00\">0</text>\n",
       "</g>\n",
       "<!-- 19 -->\n",
       "<g id=\"node20\" class=\"node\">\n",
       "<title>19</title>\n",
       "<text text-anchor=\"middle\" x=\"5607\" y=\"-2907.8\" font-family=\"Times,serif\" font-size=\"14.00\">(3) str.substr(cgi_decode_s_str_1, 2, 1) == &quot;0&quot;</text>\n",
       "</g>\n",
       "<!-- 5&#45;&gt;19 -->\n",
       "<g id=\"edge19\" class=\"edge\">\n",
       "<title>5&#45;&gt;19</title>\n",
       "<path fill=\"none\" stroke=\"blue\" d=\"M5607,-2969.65C5607,-2960.07 5607,-2942.38 5607,-2929.2\"/>\n",
       "<polygon fill=\"blue\" stroke=\"blue\" points=\"5610.5,-2929.11 5607,-2919.11 5603.5,-2929.11 5610.5,-2929.11\"/>\n",
       "<text text-anchor=\"middle\" x=\"5611\" y=\"-2940.8\" font-family=\"Times,serif\" font-size=\"14.00\">1</text>\n",
       "</g>\n",
       "<!-- 7 -->\n",
       "<g id=\"node8\" class=\"node\">\n",
       "<title>7</title>\n",
       "<text text-anchor=\"middle\" x=\"5183\" y=\"-2841.8\" font-family=\"Times,serif\" font-size=\"14.00\">(4) str.substr(cgi_decode_s_str_1, 2, 1) == &quot;%&quot;</text>\n",
       "</g>\n",
       "<!-- 6&#45;&gt;7 -->\n",
       "<g id=\"edge7\" class=\"edge\">\n",
       "<title>6&#45;&gt;7</title>\n",
       "<path fill=\"none\" stroke=\"red\" d=\"M5313.03,-2903.89C5288.07,-2892.87 5237.71,-2870.65 5207.51,-2857.32\"/>\n",
       "<polygon fill=\"red\" stroke=\"red\" points=\"5208.67,-2854 5198.11,-2853.17 5205.84,-2860.41 5208.67,-2854\"/>\n",
       "<text text-anchor=\"middle\" x=\"5273\" y=\"-2874.8\" font-family=\"Times,serif\" font-size=\"14.00\">0</text>\n",
       "</g>\n",
       "<!-- 18 -->\n",
       "<g id=\"node19\" class=\"node\">\n",
       "<title>18</title>\n",
       "<text text-anchor=\"middle\" x=\"5337\" y=\"-2841.8\" font-family=\"Times,serif\" font-size=\"14.00\">?</text>\n",
       "</g>\n",
       "<!-- 6&#45;&gt;18 -->\n",
       "<g id=\"edge18\" class=\"edge\">\n",
       "<title>6&#45;&gt;18</title>\n",
       "<path fill=\"none\" stroke=\"blue\" d=\"M5328.96,-2903.65C5330.31,-2894.07 5332.8,-2876.38 5334.65,-2863.2\"/>\n",
       "<polygon fill=\"blue\" stroke=\"blue\" points=\"5338.14,-2863.5 5336.07,-2853.11 5331.21,-2862.52 5338.14,-2863.5\"/>\n",
       "<text text-anchor=\"middle\" x=\"5338\" y=\"-2874.8\" font-family=\"Times,serif\" font-size=\"14.00\">1</text>\n",
       "</g>\n",
       "<!-- 8 -->\n",
       "<g id=\"node9\" class=\"node\">\n",
       "<title>8</title>\n",
       "<text text-anchor=\"middle\" x=\"5045\" y=\"-2775.8\" font-family=\"Times,serif\" font-size=\"14.00\">(5) str.substr(cgi_decode_s_str_1, 3, 1) == &quot;+&quot;</text>\n",
       "</g>\n",
       "<!-- 7&#45;&gt;8 -->\n",
       "<g id=\"edge8\" class=\"edge\">\n",
       "<title>7&#45;&gt;8</title>\n",
       "<path fill=\"none\" stroke=\"red\" d=\"M5168.75,-2837.89C5145.1,-2826.92 5097.48,-2804.84 5068.7,-2791.49\"/>\n",
       "<polygon fill=\"red\" stroke=\"red\" points=\"5069.92,-2788.2 5059.38,-2787.17 5066.98,-2794.55 5069.92,-2788.2\"/>\n",
       "<text text-anchor=\"middle\" x=\"5131\" y=\"-2808.8\" font-family=\"Times,serif\" font-size=\"14.00\">0</text>\n",
       "</g>\n",
       "<!-- 17 -->\n",
       "<g id=\"node18\" class=\"node\">\n",
       "<title>17</title>\n",
       "<text text-anchor=\"middle\" x=\"5197\" y=\"-2775.8\" font-family=\"Times,serif\" font-size=\"14.00\">?</text>\n",
       "</g>\n",
       "<!-- 7&#45;&gt;17 -->\n",
       "<g id=\"edge17\" class=\"edge\">\n",
       "<title>7&#45;&gt;17</title>\n",
       "<path fill=\"none\" stroke=\"blue\" d=\"M5184.5,-2837.65C5186.59,-2828.07 5190.46,-2810.38 5193.35,-2797.2\"/>\n",
       "<polygon fill=\"blue\" stroke=\"blue\" points=\"5196.84,-2797.63 5195.55,-2787.11 5190,-2796.13 5196.84,-2797.63\"/>\n",
       "<text text-anchor=\"middle\" x=\"5196\" y=\"-2808.8\" font-family=\"Times,serif\" font-size=\"14.00\">1</text>\n",
       "</g>\n",
       "<!-- 9 -->\n",
       "<g id=\"node10\" class=\"node\">\n",
       "<title>9</title>\n",
       "<text text-anchor=\"middle\" x=\"4933\" y=\"-2709.8\" font-family=\"Times,serif\" font-size=\"14.00\">(6) str.substr(cgi_decode_s_str_1, 3, 1) == &quot;%&quot;</text>\n",
       "</g>\n",
       "<!-- 8&#45;&gt;9 -->\n",
       "<g id=\"edge9\" class=\"edge\">\n",
       "<title>8&#45;&gt;9</title>\n",
       "<path fill=\"none\" stroke=\"red\" d=\"M5033.44,-2771.89C5014.57,-2761.11 4976.94,-2739.61 4953.47,-2726.2\"/>\n",
       "<polygon fill=\"red\" stroke=\"red\" points=\"4955.09,-2723.09 4944.67,-2721.17 4951.61,-2729.17 4955.09,-2723.09\"/>\n",
       "<text text-anchor=\"middle\" x=\"5004\" y=\"-2742.8\" font-family=\"Times,serif\" font-size=\"14.00\">0</text>\n",
       "</g>\n",
       "<!-- 16 -->\n",
       "<g id=\"node17\" class=\"node\">\n",
       "<title>16</title>\n",
       "<text text-anchor=\"middle\" x=\"5087\" y=\"-2709.8\" font-family=\"Times,serif\" font-size=\"14.00\">?</text>\n",
       "</g>\n",
       "<!-- 8&#45;&gt;16 -->\n",
       "<g id=\"edge16\" class=\"edge\">\n",
       "<title>8&#45;&gt;16</title>\n",
       "<path fill=\"none\" stroke=\"blue\" d=\"M5049.49,-2771.65C5056.24,-2761.38 5069.12,-2741.75 5077.88,-2728.4\"/>\n",
       "<polygon fill=\"blue\" stroke=\"blue\" points=\"5080.83,-2730.29 5083.39,-2720.01 5074.97,-2726.45 5080.83,-2730.29\"/>\n",
       "<text text-anchor=\"middle\" x=\"5074\" y=\"-2742.8\" font-family=\"Times,serif\" font-size=\"14.00\">1</text>\n",
       "</g>\n",
       "<!-- 10 -->\n",
       "<g id=\"node11\" class=\"node\">\n",
       "<title>10</title>\n",
       "<text text-anchor=\"middle\" x=\"4783\" y=\"-2643.8\" font-family=\"Times,serif\" font-size=\"14.00\">(7) str.substr(cgi_decode_s_str_1, 4, 1) == &quot;+&quot;</text>\n",
       "</g>\n",
       "<!-- 9&#45;&gt;10 -->\n",
       "<g id=\"edge10\" class=\"edge\">\n",
       "<title>9&#45;&gt;10</title>\n",
       "<path fill=\"none\" stroke=\"red\" d=\"M4917.51,-2705.89C4891.58,-2694.83 4839.14,-2672.45 4807.95,-2659.14\"/>\n",
       "<polygon fill=\"red\" stroke=\"red\" points=\"4809.2,-2655.87 4798.63,-2655.17 4806.45,-2662.31 4809.2,-2655.87\"/>\n",
       "<text text-anchor=\"middle\" x=\"4876\" y=\"-2676.8\" font-family=\"Times,serif\" font-size=\"14.00\">0</text>\n",
       "</g>\n",
       "<!-- 15 -->\n",
       "<g id=\"node16\" class=\"node\">\n",
       "<title>15</title>\n",
       "<text text-anchor=\"middle\" x=\"4935\" y=\"-2643.8\" font-family=\"Times,serif\" font-size=\"14.00\">?</text>\n",
       "</g>\n",
       "<!-- 9&#45;&gt;15 -->\n",
       "<g id=\"edge15\" class=\"edge\">\n",
       "<title>9&#45;&gt;15</title>\n",
       "<path fill=\"none\" stroke=\"blue\" d=\"M4933.21,-2705.65C4933.51,-2696.07 4934.07,-2678.38 4934.48,-2665.2\"/>\n",
       "<polygon fill=\"blue\" stroke=\"blue\" points=\"4937.98,-2665.21 4934.79,-2655.11 4930.98,-2664.99 4937.98,-2665.21\"/>\n",
       "<text text-anchor=\"middle\" x=\"4939\" y=\"-2676.8\" font-family=\"Times,serif\" font-size=\"14.00\">1</text>\n",
       "</g>\n",
       "<!-- 11 -->\n",
       "<g id=\"node12\" class=\"node\">\n",
       "<title>11</title>\n",
       "<text text-anchor=\"middle\" x=\"4634\" y=\"-2577.8\" font-family=\"Times,serif\" font-size=\"14.00\">(8) str.substr(cgi_decode_s_str_1, 4, 1) == &quot;%&quot;</text>\n",
       "</g>\n",
       "<!-- 10&#45;&gt;11 -->\n",
       "<g id=\"edge11\" class=\"edge\">\n",
       "<title>10&#45;&gt;11</title>\n",
       "<path fill=\"none\" stroke=\"red\" d=\"M4767.62,-2639.89C4741.85,-2628.83 4689.76,-2606.45 4658.78,-2593.14\"/>\n",
       "<polygon fill=\"red\" stroke=\"red\" points=\"4660.09,-2589.9 4649.52,-2589.17 4657.33,-2596.33 4660.09,-2589.9\"/>\n",
       "<text text-anchor=\"middle\" x=\"4726\" y=\"-2610.8\" font-family=\"Times,serif\" font-size=\"14.00\">0</text>\n",
       "</g>\n",
       "<!-- 14 -->\n",
       "<g id=\"node15\" class=\"node\">\n",
       "<title>14</title>\n",
       "<text text-anchor=\"middle\" x=\"4788\" y=\"-2577.8\" font-family=\"Times,serif\" font-size=\"14.00\">?</text>\n",
       "</g>\n",
       "<!-- 10&#45;&gt;14 -->\n",
       "<g id=\"edge14\" class=\"edge\">\n",
       "<title>10&#45;&gt;14</title>\n",
       "<path fill=\"none\" stroke=\"blue\" d=\"M4783.54,-2639.65C4784.28,-2630.07 4785.67,-2612.38 4786.7,-2599.2\"/>\n",
       "<polygon fill=\"blue\" stroke=\"blue\" points=\"4790.19,-2599.35 4787.48,-2589.11 4783.22,-2598.81 4790.19,-2599.35\"/>\n",
       "<text text-anchor=\"middle\" x=\"4790\" y=\"-2610.8\" font-family=\"Times,serif\" font-size=\"14.00\">1</text>\n",
       "</g>\n",
       "<!-- 12 -->\n",
       "<g id=\"node13\" class=\"node\">\n",
       "<title>12</title>\n",
       "<text text-anchor=\"middle\" x=\"4593\" y=\"-2511.8\" font-family=\"Times,serif\" font-size=\"14.00\">* +\\x00</text>\n",
       "</g>\n",
       "<!-- 11&#45;&gt;12 -->\n",
       "<g id=\"edge12\" class=\"edge\">\n",
       "<title>11&#45;&gt;12</title>\n",
       "<path fill=\"none\" stroke=\"red\" d=\"M4629.61,-2573.65C4623.23,-2563.69 4611.22,-2544.93 4602.69,-2531.63\"/>\n",
       "<polygon fill=\"red\" stroke=\"red\" points=\"4605.57,-2529.64 4597.23,-2523.11 4599.68,-2533.42 4605.57,-2529.64\"/>\n",
       "<text text-anchor=\"middle\" x=\"4622\" y=\"-2544.8\" font-family=\"Times,serif\" font-size=\"14.00\">0</text>\n",
       "</g>\n",
       "<!-- 13 -->\n",
       "<g id=\"node14\" class=\"node\">\n",
       "<title>13</title>\n",
       "<text text-anchor=\"middle\" x=\"4637\" y=\"-2511.8\" font-family=\"Times,serif\" font-size=\"14.00\">?</text>\n",
       "</g>\n",
       "<!-- 11&#45;&gt;13 -->\n",
       "<g id=\"edge13\" class=\"edge\">\n",
       "<title>11&#45;&gt;13</title>\n",
       "<path fill=\"none\" stroke=\"blue\" d=\"M4634.32,-2573.65C4634.77,-2564.07 4635.6,-2546.38 4636.22,-2533.2\"/>\n",
       "<polygon fill=\"blue\" stroke=\"blue\" points=\"4639.72,-2533.26 4636.69,-2523.11 4632.73,-2532.93 4639.72,-2533.26\"/>\n",
       "<text text-anchor=\"middle\" x=\"4640\" y=\"-2544.8\" font-family=\"Times,serif\" font-size=\"14.00\">1</text>\n",
       "</g>\n",
       "<!-- 20 -->\n",
       "<g id=\"node21\" class=\"node\">\n",
       "<title>20</title>\n",
       "<text text-anchor=\"middle\" x=\"5496\" y=\"-2841.8\" font-family=\"Times,serif\" font-size=\"14.00\">(4) str.substr(cgi_decode_s_str_1, 2, 1) == &quot;1&quot;</text>\n",
       "</g>\n",
       "<!-- 19&#45;&gt;20 -->\n",
       "<g id=\"edge20\" class=\"edge\">\n",
       "<title>19&#45;&gt;20</title>\n",
       "<path fill=\"none\" stroke=\"red\" d=\"M5595.54,-2903.89C5576.84,-2893.11 5539.54,-2871.61 5516.29,-2858.2\"/>\n",
       "<polygon fill=\"red\" stroke=\"red\" points=\"5517.98,-2855.13 5507.56,-2853.17 5514.48,-2861.2 5517.98,-2855.13\"/>\n",
       "<text text-anchor=\"middle\" x=\"5566\" y=\"-2874.8\" font-family=\"Times,serif\" font-size=\"14.00\">0</text>\n",
       "</g>\n",
       "<!-- 239 -->\n",
       "<g id=\"node240\" class=\"node\">\n",
       "<title>239</title>\n",
       "<text text-anchor=\"middle\" x=\"5648\" y=\"-2841.8\" font-family=\"Times,serif\" font-size=\"14.00\">?</text>\n",
       "</g>\n",
       "<!-- 19&#45;&gt;239 -->\n",
       "<g id=\"edge239\" class=\"edge\">\n",
       "<title>19&#45;&gt;239</title>\n",
       "<path fill=\"none\" stroke=\"blue\" d=\"M5611.39,-2903.65C5617.91,-2893.48 5630.3,-2874.13 5638.85,-2860.79\"/>\n",
       "<polygon fill=\"blue\" stroke=\"blue\" points=\"5642.03,-2862.31 5644.47,-2852.01 5636.13,-2858.54 5642.03,-2862.31\"/>\n",
       "<text text-anchor=\"middle\" x=\"5636\" y=\"-2874.8\" font-family=\"Times,serif\" font-size=\"14.00\">1</text>\n",
       "</g>\n",
       "<!-- 21 -->\n",
       "<g id=\"node22\" class=\"node\">\n",
       "<title>21</title>\n",
       "<text text-anchor=\"middle\" x=\"5349\" y=\"-2775.8\" font-family=\"Times,serif\" font-size=\"14.00\">(5) str.substr(cgi_decode_s_str_1, 2, 1) == &quot;2&quot;</text>\n",
       "</g>\n",
       "<!-- 20&#45;&gt;21 -->\n",
       "<g id=\"edge21\" class=\"edge\">\n",
       "<title>20&#45;&gt;21</title>\n",
       "<path fill=\"none\" stroke=\"red\" d=\"M5480.82,-2837.89C5455.51,-2826.87 5404.46,-2804.65 5373.85,-2791.32\"/>\n",
       "<polygon fill=\"red\" stroke=\"red\" points=\"5374.88,-2787.95 5364.32,-2787.17 5372.09,-2794.37 5374.88,-2787.95\"/>\n",
       "<text text-anchor=\"middle\" x=\"5440\" y=\"-2808.8\" font-family=\"Times,serif\" font-size=\"14.00\">0</text>\n",
       "</g>\n",
       "<!-- 238 -->\n",
       "<g id=\"node239\" class=\"node\">\n",
       "<title>238</title>\n",
       "<text text-anchor=\"middle\" x=\"5501\" y=\"-2775.8\" font-family=\"Times,serif\" font-size=\"14.00\">?</text>\n",
       "</g>\n",
       "<!-- 20&#45;&gt;238 -->\n",
       "<g id=\"edge238\" class=\"edge\">\n",
       "<title>20&#45;&gt;238</title>\n",
       "<path fill=\"none\" stroke=\"blue\" d=\"M5496.54,-2837.65C5497.28,-2828.07 5498.67,-2810.38 5499.7,-2797.2\"/>\n",
       "<polygon fill=\"blue\" stroke=\"blue\" points=\"5503.19,-2797.35 5500.48,-2787.11 5496.22,-2796.81 5503.19,-2797.35\"/>\n",
       "<text text-anchor=\"middle\" x=\"5503\" y=\"-2808.8\" font-family=\"Times,serif\" font-size=\"14.00\">1</text>\n",
       "</g>\n",
       "<!-- 22 -->\n",
       "<g id=\"node23\" class=\"node\">\n",
       "<title>22</title>\n",
       "<text text-anchor=\"middle\" x=\"5333\" y=\"-2709.8\" font-family=\"Times,serif\" font-size=\"14.00\">(6) str.substr(cgi_decode_s_str_1, 2, 1) == &quot;3&quot;</text>\n",
       "</g>\n",
       "<!-- 21&#45;&gt;22 -->\n",
       "<g id=\"edge22\" class=\"edge\">\n",
       "<title>21&#45;&gt;22</title>\n",
       "<path fill=\"none\" stroke=\"red\" d=\"M5347.29,-2771.65C5344.89,-2762.07 5340.47,-2744.38 5337.18,-2731.2\"/>\n",
       "<polygon fill=\"red\" stroke=\"red\" points=\"5340.47,-2729.96 5334.65,-2721.11 5333.68,-2731.66 5340.47,-2729.96\"/>\n",
       "<text text-anchor=\"middle\" x=\"5347\" y=\"-2742.8\" font-family=\"Times,serif\" font-size=\"14.00\">0</text>\n",
       "</g>\n",
       "<!-- 237 -->\n",
       "<g id=\"node238\" class=\"node\">\n",
       "<title>237</title>\n",
       "<text text-anchor=\"middle\" x=\"5485\" y=\"-2709.8\" font-family=\"Times,serif\" font-size=\"14.00\">?</text>\n",
       "</g>\n",
       "<!-- 21&#45;&gt;237 -->\n",
       "<g id=\"edge237\" class=\"edge\">\n",
       "<title>21&#45;&gt;237</title>\n",
       "<path fill=\"none\" stroke=\"blue\" d=\"M5363.45,-2771.89C5386.49,-2761.33 5432.95,-2739.88 5472,-2721 5472.1,-2720.95 5472.19,-2720.91 5472.29,-2720.86\"/>\n",
       "<polygon fill=\"blue\" stroke=\"blue\" points=\"5473.75,-2724.04 5481.15,-2716.46 5470.63,-2717.78 5473.75,-2724.04\"/>\n",
       "<text text-anchor=\"middle\" x=\"5436\" y=\"-2742.8\" font-family=\"Times,serif\" font-size=\"14.00\">1</text>\n",
       "</g>\n",
       "<!-- 23 -->\n",
       "<g id=\"node24\" class=\"node\">\n",
       "<title>23</title>\n",
       "<text text-anchor=\"middle\" x=\"5182\" y=\"-2643.8\" font-family=\"Times,serif\" font-size=\"14.00\">(7) str.substr(cgi_decode_s_str_1, 2, 1) == &quot;4&quot;</text>\n",
       "</g>\n",
       "<!-- 22&#45;&gt;23 -->\n",
       "<g id=\"edge23\" class=\"edge\">\n",
       "<title>22&#45;&gt;23</title>\n",
       "<path fill=\"none\" stroke=\"red\" d=\"M5317.41,-2705.89C5291.3,-2694.83 5238.51,-2672.45 5207.11,-2659.14\"/>\n",
       "<polygon fill=\"red\" stroke=\"red\" points=\"5208.31,-2655.85 5197.73,-2655.17 5205.57,-2662.29 5208.31,-2655.85\"/>\n",
       "<text text-anchor=\"middle\" x=\"5276\" y=\"-2676.8\" font-family=\"Times,serif\" font-size=\"14.00\">0</text>\n",
       "</g>\n",
       "<!-- 236 -->\n",
       "<g id=\"node237\" class=\"node\">\n",
       "<title>236</title>\n",
       "<text text-anchor=\"middle\" x=\"5334\" y=\"-2643.8\" font-family=\"Times,serif\" font-size=\"14.00\">?</text>\n",
       "</g>\n",
       "<!-- 22&#45;&gt;236 -->\n",
       "<g id=\"edge236\" class=\"edge\">\n",
       "<title>22&#45;&gt;236</title>\n",
       "<path fill=\"none\" stroke=\"blue\" d=\"M5333.11,-2705.65C5333.26,-2696.07 5333.53,-2678.38 5333.74,-2665.2\"/>\n",
       "<polygon fill=\"blue\" stroke=\"blue\" points=\"5337.24,-2665.16 5333.9,-2655.11 5330.24,-2665.05 5337.24,-2665.16\"/>\n",
       "<text text-anchor=\"middle\" x=\"5338\" y=\"-2676.8\" font-family=\"Times,serif\" font-size=\"14.00\">1</text>\n",
       "</g>\n",
       "<!-- 24 -->\n",
       "<g id=\"node25\" class=\"node\">\n",
       "<title>24</title>\n",
       "<text text-anchor=\"middle\" x=\"4943\" y=\"-2577.8\" font-family=\"Times,serif\" font-size=\"14.00\">(8) str.substr(cgi_decode_s_str_1, 2, 1) == &quot;5&quot;</text>\n",
       "</g>\n",
       "<!-- 23&#45;&gt;24 -->\n",
       "<g id=\"edge24\" class=\"edge\">\n",
       "<title>23&#45;&gt;24</title>\n",
       "<path fill=\"none\" stroke=\"red\" d=\"M5157.32,-2639.89C5114.45,-2628.41 5026.15,-2604.77 4977.33,-2591.69\"/>\n",
       "<polygon fill=\"red\" stroke=\"red\" points=\"4978.11,-2588.28 4967.54,-2589.07 4976.3,-2595.04 4978.11,-2588.28\"/>\n",
       "<text text-anchor=\"middle\" x=\"5088\" y=\"-2610.8\" font-family=\"Times,serif\" font-size=\"14.00\">0</text>\n",
       "</g>\n",
       "<!-- 191 -->\n",
       "<g id=\"node192\" class=\"node\">\n",
       "<title>191</title>\n",
       "<text text-anchor=\"middle\" x=\"5221\" y=\"-2577.8\" font-family=\"Times,serif\" font-size=\"14.00\">(8) str.substr(cgi_decode_s_str_1, 3, 1) == &quot;0&quot;</text>\n",
       "</g>\n",
       "<!-- 23&#45;&gt;191 -->\n",
       "<g id=\"edge191\" class=\"edge\">\n",
       "<title>23&#45;&gt;191</title>\n",
       "<path fill=\"none\" stroke=\"blue\" d=\"M5186.17,-2639.65C5192.19,-2629.78 5203.45,-2611.3 5211.54,-2598.02\"/>\n",
       "<polygon fill=\"blue\" stroke=\"blue\" points=\"5214.76,-2599.47 5216.97,-2589.11 5208.78,-2595.83 5214.76,-2599.47\"/>\n",
       "<text text-anchor=\"middle\" x=\"5209\" y=\"-2610.8\" font-family=\"Times,serif\" font-size=\"14.00\">1</text>\n",
       "</g>\n",
       "<!-- 25 -->\n",
       "<g id=\"node26\" class=\"node\">\n",
       "<title>25</title>\n",
       "<text text-anchor=\"middle\" x=\"4791\" y=\"-2511.8\" font-family=\"Times,serif\" font-size=\"14.00\">(9) str.substr(cgi_decode_s_str_1, 2, 1) == &quot;6&quot;</text>\n",
       "</g>\n",
       "<!-- 24&#45;&gt;25 -->\n",
       "<g id=\"edge25\" class=\"edge\">\n",
       "<title>24&#45;&gt;25</title>\n",
       "<path fill=\"none\" stroke=\"red\" d=\"M4927.31,-2573.89C4901.02,-2562.83 4847.89,-2540.45 4816.28,-2527.14\"/>\n",
       "<polygon fill=\"red\" stroke=\"red\" points=\"4817.41,-2523.82 4806.84,-2523.17 4814.69,-2530.27 4817.41,-2523.82\"/>\n",
       "<text text-anchor=\"middle\" x=\"4885\" y=\"-2544.8\" font-family=\"Times,serif\" font-size=\"14.00\">0</text>\n",
       "</g>\n",
       "<!-- 190 -->\n",
       "<g id=\"node191\" class=\"node\">\n",
       "<title>190</title>\n",
       "<text text-anchor=\"middle\" x=\"4943\" y=\"-2511.8\" font-family=\"Times,serif\" font-size=\"14.00\">?</text>\n",
       "</g>\n",
       "<!-- 24&#45;&gt;190 -->\n",
       "<g id=\"edge190\" class=\"edge\">\n",
       "<title>24&#45;&gt;190</title>\n",
       "<path fill=\"none\" stroke=\"blue\" d=\"M4943,-2573.65C4943,-2564.07 4943,-2546.38 4943,-2533.2\"/>\n",
       "<polygon fill=\"blue\" stroke=\"blue\" points=\"4946.5,-2533.11 4943,-2523.11 4939.5,-2533.11 4946.5,-2533.11\"/>\n",
       "<text text-anchor=\"middle\" x=\"4947\" y=\"-2544.8\" font-family=\"Times,serif\" font-size=\"14.00\">1</text>\n",
       "</g>\n",
       "<!-- 26 -->\n",
       "<g id=\"node27\" class=\"node\">\n",
       "<title>26</title>\n",
       "<text text-anchor=\"middle\" x=\"4674\" y=\"-2445.8\" font-family=\"Times,serif\" font-size=\"14.00\">(10) str.substr(cgi_decode_s_str_1, 2, 1) == &quot;7&quot;</text>\n",
       "</g>\n",
       "<!-- 25&#45;&gt;26 -->\n",
       "<g id=\"edge26\" class=\"edge\">\n",
       "<title>25&#45;&gt;26</title>\n",
       "<path fill=\"none\" stroke=\"red\" d=\"M4778.92,-2507.89C4759.13,-2497.07 4719.55,-2475.42 4695.06,-2462.02\"/>\n",
       "<polygon fill=\"red\" stroke=\"red\" points=\"4696.64,-2458.9 4686.19,-2457.17 4693.28,-2465.04 4696.64,-2458.9\"/>\n",
       "<text text-anchor=\"middle\" x=\"4747\" y=\"-2478.8\" font-family=\"Times,serif\" font-size=\"14.00\">0</text>\n",
       "</g>\n",
       "<!-- 189 -->\n",
       "<g id=\"node190\" class=\"node\">\n",
       "<title>189</title>\n",
       "<text text-anchor=\"middle\" x=\"4829\" y=\"-2445.8\" font-family=\"Times,serif\" font-size=\"14.00\">?</text>\n",
       "</g>\n",
       "<!-- 25&#45;&gt;189 -->\n",
       "<g id=\"edge189\" class=\"edge\">\n",
       "<title>25&#45;&gt;189</title>\n",
       "<path fill=\"none\" stroke=\"blue\" d=\"M4795.07,-2507.65C4800.99,-2497.68 4812.13,-2478.91 4820.03,-2465.6\"/>\n",
       "<polygon fill=\"blue\" stroke=\"blue\" points=\"4823.2,-2467.12 4825.3,-2456.73 4817.19,-2463.54 4823.2,-2467.12\"/>\n",
       "<text text-anchor=\"middle\" x=\"4818\" y=\"-2478.8\" font-family=\"Times,serif\" font-size=\"14.00\">1</text>\n",
       "</g>\n",
       "<!-- 27 -->\n",
       "<g id=\"node28\" class=\"node\">\n",
       "<title>27</title>\n",
       "<text text-anchor=\"middle\" x=\"4670\" y=\"-2379.8\" font-family=\"Times,serif\" font-size=\"14.00\">(11) str.substr(cgi_decode_s_str_1, 2, 1) == &quot;8&quot;</text>\n",
       "</g>\n",
       "<!-- 26&#45;&gt;27 -->\n",
       "<g id=\"edge27\" class=\"edge\">\n",
       "<title>26&#45;&gt;27</title>\n",
       "<path fill=\"none\" stroke=\"red\" d=\"M4673.57,-2441.65C4672.97,-2432.07 4671.87,-2414.38 4671.04,-2401.2\"/>\n",
       "<polygon fill=\"red\" stroke=\"red\" points=\"4674.53,-2400.87 4670.41,-2391.11 4667.54,-2401.31 4674.53,-2400.87\"/>\n",
       "<text text-anchor=\"middle\" x=\"4677\" y=\"-2412.8\" font-family=\"Times,serif\" font-size=\"14.00\">0</text>\n",
       "</g>\n",
       "<!-- 188 -->\n",
       "<g id=\"node189\" class=\"node\">\n",
       "<title>188</title>\n",
       "<text text-anchor=\"middle\" x=\"4825\" y=\"-2379.8\" font-family=\"Times,serif\" font-size=\"14.00\">?</text>\n",
       "</g>\n",
       "<!-- 26&#45;&gt;188 -->\n",
       "<g id=\"edge188\" class=\"edge\">\n",
       "<title>26&#45;&gt;188</title>\n",
       "<path fill=\"none\" stroke=\"blue\" d=\"M4690.73,-2441.96C4716.85,-2431.66 4768.81,-2410.77 4812,-2391 4812.1,-2390.96 4812.2,-2390.91 4812.29,-2390.87\"/>\n",
       "<polygon fill=\"blue\" stroke=\"blue\" points=\"4813.74,-2394.06 4821.17,-2386.5 4810.65,-2387.77 4813.74,-2394.06\"/>\n",
       "<text text-anchor=\"middle\" x=\"4775\" y=\"-2412.8\" font-family=\"Times,serif\" font-size=\"14.00\">1</text>\n",
       "</g>\n",
       "<!-- 28 -->\n",
       "<g id=\"node29\" class=\"node\">\n",
       "<title>28</title>\n",
       "<text text-anchor=\"middle\" x=\"4529\" y=\"-2313.8\" font-family=\"Times,serif\" font-size=\"14.00\">(12) str.substr(cgi_decode_s_str_1, 2, 1) == &quot;9&quot;</text>\n",
       "</g>\n",
       "<!-- 27&#45;&gt;28 -->\n",
       "<g id=\"edge28\" class=\"edge\">\n",
       "<title>27&#45;&gt;28</title>\n",
       "<path fill=\"none\" stroke=\"red\" d=\"M4655.44,-2375.89C4631.17,-2364.87 4582.2,-2342.65 4552.83,-2329.32\"/>\n",
       "<polygon fill=\"red\" stroke=\"red\" points=\"4554.24,-2326.11 4543.69,-2325.17 4551.35,-2332.49 4554.24,-2326.11\"/>\n",
       "<text text-anchor=\"middle\" x=\"4617\" y=\"-2346.8\" font-family=\"Times,serif\" font-size=\"14.00\">0</text>\n",
       "</g>\n",
       "<!-- 187 -->\n",
       "<g id=\"node188\" class=\"node\">\n",
       "<title>187</title>\n",
       "<text text-anchor=\"middle\" x=\"4684\" y=\"-2313.8\" font-family=\"Times,serif\" font-size=\"14.00\">?</text>\n",
       "</g>\n",
       "<!-- 27&#45;&gt;187 -->\n",
       "<g id=\"edge187\" class=\"edge\">\n",
       "<title>27&#45;&gt;187</title>\n",
       "<path fill=\"none\" stroke=\"blue\" d=\"M4671.5,-2375.65C4673.59,-2366.07 4677.46,-2348.38 4680.35,-2335.2\"/>\n",
       "<polygon fill=\"blue\" stroke=\"blue\" points=\"4683.84,-2335.63 4682.55,-2325.11 4677,-2334.13 4683.84,-2335.63\"/>\n",
       "<text text-anchor=\"middle\" x=\"4683\" y=\"-2346.8\" font-family=\"Times,serif\" font-size=\"14.00\">1</text>\n",
       "</g>\n",
       "<!-- 29 -->\n",
       "<g id=\"node30\" class=\"node\">\n",
       "<title>29</title>\n",
       "<text text-anchor=\"middle\" x=\"4414\" y=\"-2247.8\" font-family=\"Times,serif\" font-size=\"14.00\">(13) str.substr(cgi_decode_s_str_1, 2, 1) == &quot;a&quot;</text>\n",
       "</g>\n",
       "<!-- 28&#45;&gt;29 -->\n",
       "<g id=\"edge29\" class=\"edge\">\n",
       "<title>28&#45;&gt;29</title>\n",
       "<path fill=\"none\" stroke=\"red\" d=\"M4517.13,-2309.89C4497.76,-2299.11 4459.11,-2277.61 4435.02,-2264.2\"/>\n",
       "<polygon fill=\"red\" stroke=\"red\" points=\"4436.42,-2260.97 4425.98,-2259.17 4433.02,-2267.09 4436.42,-2260.97\"/>\n",
       "<text text-anchor=\"middle\" x=\"4486\" y=\"-2280.8\" font-family=\"Times,serif\" font-size=\"14.00\">0</text>\n",
       "</g>\n",
       "<!-- 186 -->\n",
       "<g id=\"node187\" class=\"node\">\n",
       "<title>186</title>\n",
       "<text text-anchor=\"middle\" x=\"4569\" y=\"-2247.8\" font-family=\"Times,serif\" font-size=\"14.00\">?</text>\n",
       "</g>\n",
       "<!-- 28&#45;&gt;186 -->\n",
       "<g id=\"edge186\" class=\"edge\">\n",
       "<title>28&#45;&gt;186</title>\n",
       "<path fill=\"none\" stroke=\"blue\" d=\"M4533.28,-2309.65C4539.58,-2299.58 4551.49,-2280.52 4559.82,-2267.2\"/>\n",
       "<polygon fill=\"blue\" stroke=\"blue\" points=\"4563,-2268.7 4565.34,-2258.36 4557.07,-2264.99 4563,-2268.7\"/>\n",
       "<text text-anchor=\"middle\" x=\"4557\" y=\"-2280.8\" font-family=\"Times,serif\" font-size=\"14.00\">1</text>\n",
       "</g>\n",
       "<!-- 30 -->\n",
       "<g id=\"node31\" class=\"node\">\n",
       "<title>30</title>\n",
       "<text text-anchor=\"middle\" x=\"4403\" y=\"-2181.8\" font-family=\"Times,serif\" font-size=\"14.00\">(14) str.substr(cgi_decode_s_str_1, 2, 1) == &quot;b&quot;</text>\n",
       "</g>\n",
       "<!-- 29&#45;&gt;30 -->\n",
       "<g id=\"edge30\" class=\"edge\">\n",
       "<title>29&#45;&gt;30</title>\n",
       "<path fill=\"none\" stroke=\"red\" d=\"M4412.82,-2243.65C4411.18,-2234.07 4408.14,-2216.38 4405.87,-2203.2\"/>\n",
       "<polygon fill=\"red\" stroke=\"red\" points=\"4409.28,-2202.37 4404.14,-2193.11 4402.38,-2203.56 4409.28,-2202.37\"/>\n",
       "<text text-anchor=\"middle\" x=\"4414\" y=\"-2214.8\" font-family=\"Times,serif\" font-size=\"14.00\">0</text>\n",
       "</g>\n",
       "<!-- 185 -->\n",
       "<g id=\"node186\" class=\"node\">\n",
       "<title>185</title>\n",
       "<text text-anchor=\"middle\" x=\"4558\" y=\"-2181.8\" font-family=\"Times,serif\" font-size=\"14.00\">?</text>\n",
       "</g>\n",
       "<!-- 29&#45;&gt;185 -->\n",
       "<g id=\"edge185\" class=\"edge\">\n",
       "<title>29&#45;&gt;185</title>\n",
       "<path fill=\"none\" stroke=\"blue\" d=\"M4429.84,-2243.85C4454.59,-2233.39 4503.85,-2212.3 4545,-2193 4545.1,-2192.95 4545.19,-2192.91 4545.29,-2192.86\"/>\n",
       "<polygon fill=\"blue\" stroke=\"blue\" points=\"4546.74,-2196.05 4554.16,-2188.48 4543.64,-2189.77 4546.74,-2196.05\"/>\n",
       "<text text-anchor=\"middle\" x=\"4507\" y=\"-2214.8\" font-family=\"Times,serif\" font-size=\"14.00\">1</text>\n",
       "</g>\n",
       "<!-- 31 -->\n",
       "<g id=\"node32\" class=\"node\">\n",
       "<title>31</title>\n",
       "<text text-anchor=\"middle\" x=\"4263\" y=\"-2115.8\" font-family=\"Times,serif\" font-size=\"14.00\">(15) str.substr(cgi_decode_s_str_1, 2, 1) == &quot;c&quot;</text>\n",
       "</g>\n",
       "<!-- 30&#45;&gt;31 -->\n",
       "<g id=\"edge31\" class=\"edge\">\n",
       "<title>30&#45;&gt;31</title>\n",
       "<path fill=\"none\" stroke=\"red\" d=\"M4388.54,-2177.89C4364.55,-2166.92 4316.24,-2144.84 4287.05,-2131.49\"/>\n",
       "<polygon fill=\"red\" stroke=\"red\" points=\"4288.14,-2128.14 4277.59,-2127.17 4285.23,-2134.51 4288.14,-2128.14\"/>\n",
       "<text text-anchor=\"middle\" x=\"4350\" y=\"-2148.8\" font-family=\"Times,serif\" font-size=\"14.00\">0</text>\n",
       "</g>\n",
       "<!-- 184 -->\n",
       "<g id=\"node185\" class=\"node\">\n",
       "<title>184</title>\n",
       "<text text-anchor=\"middle\" x=\"4418\" y=\"-2115.8\" font-family=\"Times,serif\" font-size=\"14.00\">?</text>\n",
       "</g>\n",
       "<!-- 30&#45;&gt;184 -->\n",
       "<g id=\"edge184\" class=\"edge\">\n",
       "<title>30&#45;&gt;184</title>\n",
       "<path fill=\"none\" stroke=\"blue\" d=\"M4404.61,-2177.65C4406.85,-2168.07 4411,-2150.38 4414.09,-2137.2\"/>\n",
       "<polygon fill=\"blue\" stroke=\"blue\" points=\"4417.58,-2137.64 4416.45,-2127.11 4410.76,-2136.05 4417.58,-2137.64\"/>\n",
       "<text text-anchor=\"middle\" x=\"4416\" y=\"-2148.8\" font-family=\"Times,serif\" font-size=\"14.00\">1</text>\n",
       "</g>\n",
       "<!-- 32 -->\n",
       "<g id=\"node33\" class=\"node\">\n",
       "<title>32</title>\n",
       "<text text-anchor=\"middle\" x=\"4123\" y=\"-2049.8\" font-family=\"Times,serif\" font-size=\"14.00\">(16) str.substr(cgi_decode_s_str_1, 2, 1) == &quot;d&quot;</text>\n",
       "</g>\n",
       "<!-- 31&#45;&gt;32 -->\n",
       "<g id=\"edge32\" class=\"edge\">\n",
       "<title>31&#45;&gt;32</title>\n",
       "<path fill=\"none\" stroke=\"red\" d=\"M4248.54,-2111.89C4224.55,-2100.92 4176.24,-2078.84 4147.05,-2065.49\"/>\n",
       "<polygon fill=\"red\" stroke=\"red\" points=\"4148.14,-2062.14 4137.59,-2061.17 4145.23,-2068.51 4148.14,-2062.14\"/>\n",
       "<text text-anchor=\"middle\" x=\"4210\" y=\"-2082.8\" font-family=\"Times,serif\" font-size=\"14.00\">0</text>\n",
       "</g>\n",
       "<!-- 183 -->\n",
       "<g id=\"node184\" class=\"node\">\n",
       "<title>183</title>\n",
       "<text text-anchor=\"middle\" x=\"4278\" y=\"-2049.8\" font-family=\"Times,serif\" font-size=\"14.00\">?</text>\n",
       "</g>\n",
       "<!-- 31&#45;&gt;183 -->\n",
       "<g id=\"edge183\" class=\"edge\">\n",
       "<title>31&#45;&gt;183</title>\n",
       "<path fill=\"none\" stroke=\"blue\" d=\"M4264.61,-2111.65C4266.85,-2102.07 4271,-2084.38 4274.09,-2071.2\"/>\n",
       "<polygon fill=\"blue\" stroke=\"blue\" points=\"4277.58,-2071.64 4276.45,-2061.11 4270.76,-2070.05 4277.58,-2071.64\"/>\n",
       "<text text-anchor=\"middle\" x=\"4276\" y=\"-2082.8\" font-family=\"Times,serif\" font-size=\"14.00\">1</text>\n",
       "</g>\n",
       "<!-- 33 -->\n",
       "<g id=\"node34\" class=\"node\">\n",
       "<title>33</title>\n",
       "<text text-anchor=\"middle\" x=\"4015\" y=\"-1983.8\" font-family=\"Times,serif\" font-size=\"14.00\">(17) str.substr(cgi_decode_s_str_1, 2, 1) == &quot;e&quot;</text>\n",
       "</g>\n",
       "<!-- 32&#45;&gt;33 -->\n",
       "<g id=\"edge33\" class=\"edge\">\n",
       "<title>32&#45;&gt;33</title>\n",
       "<path fill=\"none\" stroke=\"red\" d=\"M4111.85,-2045.89C4093.74,-2035.16 4057.69,-2013.8 4035.05,-2000.38\"/>\n",
       "<polygon fill=\"red\" stroke=\"red\" points=\"4036.64,-1997.26 4026.25,-1995.17 4033.07,-2003.28 4036.64,-1997.26\"/>\n",
       "<text text-anchor=\"middle\" x=\"4083\" y=\"-2016.8\" font-family=\"Times,serif\" font-size=\"14.00\">0</text>\n",
       "</g>\n",
       "<!-- 182 -->\n",
       "<g id=\"node183\" class=\"node\">\n",
       "<title>182</title>\n",
       "<text text-anchor=\"middle\" x=\"4170\" y=\"-1983.8\" font-family=\"Times,serif\" font-size=\"14.00\">?</text>\n",
       "</g>\n",
       "<!-- 32&#45;&gt;182 -->\n",
       "<g id=\"edge182\" class=\"edge\">\n",
       "<title>32&#45;&gt;182</title>\n",
       "<path fill=\"none\" stroke=\"blue\" d=\"M4128.03,-2045.65C4135.73,-2035.17 4150.57,-2014.96 4160.38,-2001.6\"/>\n",
       "<polygon fill=\"blue\" stroke=\"blue\" points=\"4163.36,-2003.45 4166.46,-1993.32 4157.72,-1999.31 4163.36,-2003.45\"/>\n",
       "<text text-anchor=\"middle\" x=\"4155\" y=\"-2016.8\" font-family=\"Times,serif\" font-size=\"14.00\">1</text>\n",
       "</g>\n",
       "<!-- 34 -->\n",
       "<g id=\"node35\" class=\"node\">\n",
       "<title>34</title>\n",
       "<text text-anchor=\"middle\" x=\"3887\" y=\"-1917.8\" font-family=\"Times,serif\" font-size=\"14.00\">(18) str.substr(cgi_decode_s_str_1, 2, 1) == &quot;f&quot;</text>\n",
       "</g>\n",
       "<!-- 33&#45;&gt;34 -->\n",
       "<g id=\"edge34\" class=\"edge\">\n",
       "<title>33&#45;&gt;34</title>\n",
       "<path fill=\"none\" stroke=\"red\" d=\"M4001.78,-1979.89C3979.94,-1968.97 3936.06,-1947.03 3909.33,-1933.67\"/>\n",
       "<polygon fill=\"red\" stroke=\"red\" points=\"3910.85,-1930.51 3900.34,-1929.17 3907.72,-1936.77 3910.85,-1930.51\"/>\n",
       "<text text-anchor=\"middle\" x=\"3967\" y=\"-1950.8\" font-family=\"Times,serif\" font-size=\"14.00\">0</text>\n",
       "</g>\n",
       "<!-- 181 -->\n",
       "<g id=\"node182\" class=\"node\">\n",
       "<title>181</title>\n",
       "<text text-anchor=\"middle\" x=\"4041\" y=\"-1917.8\" font-family=\"Times,serif\" font-size=\"14.00\">?</text>\n",
       "</g>\n",
       "<!-- 33&#45;&gt;181 -->\n",
       "<g id=\"edge181\" class=\"edge\">\n",
       "<title>33&#45;&gt;181</title>\n",
       "<path fill=\"none\" stroke=\"blue\" d=\"M4017.78,-1979.65C4021.75,-1969.88 4029.15,-1951.66 4034.54,-1938.41\"/>\n",
       "<polygon fill=\"blue\" stroke=\"blue\" points=\"4037.79,-1939.69 4038.32,-1929.11 4031.31,-1937.06 4037.79,-1939.69\"/>\n",
       "<text text-anchor=\"middle\" x=\"4035\" y=\"-1950.8\" font-family=\"Times,serif\" font-size=\"14.00\">1</text>\n",
       "</g>\n",
       "<!-- 35 -->\n",
       "<g id=\"node36\" class=\"node\">\n",
       "<title>35</title>\n",
       "<text text-anchor=\"middle\" x=\"3739\" y=\"-1851.8\" font-family=\"Times,serif\" font-size=\"14.00\">(19) str.substr(cgi_decode_s_str_1, 2, 1) == &quot;A&quot;</text>\n",
       "</g>\n",
       "<!-- 34&#45;&gt;35 -->\n",
       "<g id=\"edge35\" class=\"edge\">\n",
       "<title>34&#45;&gt;35</title>\n",
       "<path fill=\"none\" stroke=\"red\" d=\"M3871.72,-1913.89C3846.13,-1902.83 3794.39,-1880.45 3763.62,-1867.14\"/>\n",
       "<polygon fill=\"red\" stroke=\"red\" points=\"3764.99,-1863.92 3754.42,-1863.17 3762.21,-1870.35 3764.99,-1863.92\"/>\n",
       "<text text-anchor=\"middle\" x=\"3831\" y=\"-1884.8\" font-family=\"Times,serif\" font-size=\"14.00\">0</text>\n",
       "</g>\n",
       "<!-- 180 -->\n",
       "<g id=\"node181\" class=\"node\">\n",
       "<title>180</title>\n",
       "<text text-anchor=\"middle\" x=\"3896\" y=\"-1851.8\" font-family=\"Times,serif\" font-size=\"14.00\">?</text>\n",
       "</g>\n",
       "<!-- 34&#45;&gt;180 -->\n",
       "<g id=\"edge180\" class=\"edge\">\n",
       "<title>34&#45;&gt;180</title>\n",
       "<path fill=\"none\" stroke=\"blue\" d=\"M3887.96,-1913.65C3889.31,-1904.07 3891.8,-1886.38 3893.65,-1873.2\"/>\n",
       "<polygon fill=\"blue\" stroke=\"blue\" points=\"3897.14,-1873.5 3895.07,-1863.11 3890.21,-1872.52 3897.14,-1873.5\"/>\n",
       "<text text-anchor=\"middle\" x=\"3897\" y=\"-1884.8\" font-family=\"Times,serif\" font-size=\"14.00\">1</text>\n",
       "</g>\n",
       "<!-- 36 -->\n",
       "<g id=\"node37\" class=\"node\">\n",
       "<title>36</title>\n",
       "<text text-anchor=\"middle\" x=\"3603\" y=\"-1785.8\" font-family=\"Times,serif\" font-size=\"14.00\">(20) str.substr(cgi_decode_s_str_1, 2, 1) == &quot;B&quot;</text>\n",
       "</g>\n",
       "<!-- 35&#45;&gt;36 -->\n",
       "<g id=\"edge36\" class=\"edge\">\n",
       "<title>35&#45;&gt;36</title>\n",
       "<path fill=\"none\" stroke=\"red\" d=\"M3724.96,-1847.89C3701.65,-1836.92 3654.72,-1814.84 3626.36,-1801.49\"/>\n",
       "<polygon fill=\"red\" stroke=\"red\" points=\"3627.71,-1798.26 3617.17,-1797.17 3624.73,-1804.59 3627.71,-1798.26\"/>\n",
       "<text text-anchor=\"middle\" x=\"3688\" y=\"-1818.8\" font-family=\"Times,serif\" font-size=\"14.00\">0</text>\n",
       "</g>\n",
       "<!-- 179 -->\n",
       "<g id=\"node180\" class=\"node\">\n",
       "<title>179</title>\n",
       "<text text-anchor=\"middle\" x=\"3760\" y=\"-1785.8\" font-family=\"Times,serif\" font-size=\"14.00\">?</text>\n",
       "</g>\n",
       "<!-- 35&#45;&gt;179 -->\n",
       "<g id=\"edge179\" class=\"edge\">\n",
       "<title>35&#45;&gt;179</title>\n",
       "<path fill=\"none\" stroke=\"blue\" d=\"M3741.25,-1847.65C3744.42,-1837.98 3750.31,-1820.02 3754.65,-1806.81\"/>\n",
       "<polygon fill=\"blue\" stroke=\"blue\" points=\"3758.04,-1807.7 3757.83,-1797.11 3751.39,-1805.52 3758.04,-1807.7\"/>\n",
       "<text text-anchor=\"middle\" x=\"3756\" y=\"-1818.8\" font-family=\"Times,serif\" font-size=\"14.00\">1</text>\n",
       "</g>\n",
       "<!-- 37 -->\n",
       "<g id=\"node38\" class=\"node\">\n",
       "<title>37</title>\n",
       "<text text-anchor=\"middle\" x=\"3464\" y=\"-1719.8\" font-family=\"Times,serif\" font-size=\"14.00\">(21) str.substr(cgi_decode_s_str_1, 2, 1) == &quot;C&quot;</text>\n",
       "</g>\n",
       "<!-- 36&#45;&gt;37 -->\n",
       "<g id=\"edge37\" class=\"edge\">\n",
       "<title>36&#45;&gt;37</title>\n",
       "<path fill=\"none\" stroke=\"red\" d=\"M3588.65,-1781.89C3564.82,-1770.92 3516.86,-1748.84 3487.87,-1735.49\"/>\n",
       "<polygon fill=\"red\" stroke=\"red\" points=\"3489.03,-1732.17 3478.48,-1731.17 3486.1,-1738.53 3489.03,-1732.17\"/>\n",
       "<text text-anchor=\"middle\" x=\"3550\" y=\"-1752.8\" font-family=\"Times,serif\" font-size=\"14.00\">0</text>\n",
       "</g>\n",
       "<!-- 178 -->\n",
       "<g id=\"node179\" class=\"node\">\n",
       "<title>178</title>\n",
       "<text text-anchor=\"middle\" x=\"3621\" y=\"-1719.8\" font-family=\"Times,serif\" font-size=\"14.00\">?</text>\n",
       "</g>\n",
       "<!-- 36&#45;&gt;178 -->\n",
       "<g id=\"edge178\" class=\"edge\">\n",
       "<title>36&#45;&gt;178</title>\n",
       "<path fill=\"none\" stroke=\"blue\" d=\"M3604.93,-1781.65C3607.65,-1771.98 3612.7,-1754.02 3616.41,-1740.81\"/>\n",
       "<polygon fill=\"blue\" stroke=\"blue\" points=\"3619.8,-1741.68 3619.14,-1731.11 3613.06,-1739.79 3619.8,-1741.68\"/>\n",
       "<text text-anchor=\"middle\" x=\"3618\" y=\"-1752.8\" font-family=\"Times,serif\" font-size=\"14.00\">1</text>\n",
       "</g>\n",
       "<!-- 38 -->\n",
       "<g id=\"node39\" class=\"node\">\n",
       "<title>38</title>\n",
       "<text text-anchor=\"middle\" x=\"3244\" y=\"-1653.8\" font-family=\"Times,serif\" font-size=\"14.00\">(22) str.substr(cgi_decode_s_str_1, 2, 1) == &quot;D&quot;</text>\n",
       "</g>\n",
       "<!-- 37&#45;&gt;38 -->\n",
       "<g id=\"edge38\" class=\"edge\">\n",
       "<title>37&#45;&gt;38</title>\n",
       "<path fill=\"none\" stroke=\"red\" d=\"M3441.28,-1715.89C3402.07,-1704.48 3321.56,-1681.06 3276.45,-1667.94\"/>\n",
       "<polygon fill=\"red\" stroke=\"red\" points=\"3277.17,-1664.5 3266.59,-1665.07 3275.22,-1671.23 3277.17,-1664.5\"/>\n",
       "<text text-anchor=\"middle\" x=\"3378\" y=\"-1686.8\" font-family=\"Times,serif\" font-size=\"14.00\">0</text>\n",
       "</g>\n",
       "<!-- 133 -->\n",
       "<g id=\"node134\" class=\"node\">\n",
       "<title>133</title>\n",
       "<text text-anchor=\"middle\" x=\"3531\" y=\"-1653.8\" font-family=\"Times,serif\" font-size=\"14.00\">(22) str.substr(cgi_decode_s_str_1, 3, 1) == &quot;0&quot;</text>\n",
       "</g>\n",
       "<!-- 37&#45;&gt;133 -->\n",
       "<g id=\"edge133\" class=\"edge\">\n",
       "<title>37&#45;&gt;133</title>\n",
       "<path fill=\"none\" stroke=\"blue\" d=\"M3470.92,-1715.89C3481.65,-1705.64 3502.54,-1685.68 3516.64,-1672.22\"/>\n",
       "<polygon fill=\"blue\" stroke=\"blue\" points=\"3519.21,-1674.61 3524.02,-1665.17 3514.37,-1669.54 3519.21,-1674.61\"/>\n",
       "<text text-anchor=\"middle\" x=\"3508\" y=\"-1686.8\" font-family=\"Times,serif\" font-size=\"14.00\">1</text>\n",
       "</g>\n",
       "<!-- 39 -->\n",
       "<g id=\"node40\" class=\"node\">\n",
       "<title>39</title>\n",
       "<text text-anchor=\"middle\" x=\"2959\" y=\"-1587.8\" font-family=\"Times,serif\" font-size=\"14.00\">(23) str.substr(cgi_decode_s_str_1, 2, 1) == &quot;E&quot;</text>\n",
       "</g>\n",
       "<!-- 38&#45;&gt;39 -->\n",
       "<g id=\"edge39\" class=\"edge\">\n",
       "<title>38&#45;&gt;39</title>\n",
       "<path fill=\"none\" stroke=\"red\" d=\"M3214.84,-1649.95C3163.31,-1638.38 3056.15,-1614.32 2998.21,-1601.31\"/>\n",
       "<polygon fill=\"red\" stroke=\"red\" points=\"2998.86,-1597.86 2988.33,-1599.09 2997.32,-1604.69 2998.86,-1597.86\"/>\n",
       "<text text-anchor=\"middle\" x=\"3132\" y=\"-1620.8\" font-family=\"Times,serif\" font-size=\"14.00\">0</text>\n",
       "</g>\n",
       "<!-- 88 -->\n",
       "<g id=\"node89\" class=\"node\">\n",
       "<title>88</title>\n",
       "<text text-anchor=\"middle\" x=\"3245\" y=\"-1587.8\" font-family=\"Times,serif\" font-size=\"14.00\">(23) str.substr(cgi_decode_s_str_1, 3, 1) == &quot;0&quot;</text>\n",
       "</g>\n",
       "<!-- 38&#45;&gt;88 -->\n",
       "<g id=\"edge88\" class=\"edge\">\n",
       "<title>38&#45;&gt;88</title>\n",
       "<path fill=\"none\" stroke=\"blue\" d=\"M3244.11,-1649.65C3244.26,-1640.07 3244.53,-1622.38 3244.74,-1609.2\"/>\n",
       "<polygon fill=\"blue\" stroke=\"blue\" points=\"3248.24,-1609.16 3244.9,-1599.11 3241.24,-1609.05 3248.24,-1609.16\"/>\n",
       "<text text-anchor=\"middle\" x=\"3249\" y=\"-1620.8\" font-family=\"Times,serif\" font-size=\"14.00\">1</text>\n",
       "</g>\n",
       "<!-- 40 -->\n",
       "<g id=\"node41\" class=\"node\">\n",
       "<title>40</title>\n",
       "<text text-anchor=\"middle\" x=\"2819\" y=\"-1521.8\" font-family=\"Times,serif\" font-size=\"14.00\">(24) str.substr(cgi_decode_s_str_1, 2, 1) == &quot;F&quot;</text>\n",
       "</g>\n",
       "<!-- 39&#45;&gt;40 -->\n",
       "<g id=\"edge40\" class=\"edge\">\n",
       "<title>39&#45;&gt;40</title>\n",
       "<path fill=\"none\" stroke=\"red\" d=\"M2944.54,-1583.89C2920.55,-1572.92 2872.24,-1550.84 2843.05,-1537.49\"/>\n",
       "<polygon fill=\"red\" stroke=\"red\" points=\"2844.14,-1534.14 2833.59,-1533.17 2841.23,-1540.51 2844.14,-1534.14\"/>\n",
       "<text text-anchor=\"middle\" x=\"2906\" y=\"-1554.8\" font-family=\"Times,serif\" font-size=\"14.00\">0</text>\n",
       "</g>\n",
       "<!-- 87 -->\n",
       "<g id=\"node88\" class=\"node\">\n",
       "<title>87</title>\n",
       "<text text-anchor=\"middle\" x=\"2975\" y=\"-1521.8\" font-family=\"Times,serif\" font-size=\"14.00\">?</text>\n",
       "</g>\n",
       "<!-- 39&#45;&gt;87 -->\n",
       "<g id=\"edge87\" class=\"edge\">\n",
       "<title>39&#45;&gt;87</title>\n",
       "<path fill=\"none\" stroke=\"blue\" d=\"M2960.71,-1583.65C2963.11,-1574.07 2967.53,-1556.38 2970.82,-1543.2\"/>\n",
       "<polygon fill=\"blue\" stroke=\"blue\" points=\"2974.32,-1543.66 2973.35,-1533.11 2967.53,-1541.96 2974.32,-1543.66\"/>\n",
       "<text text-anchor=\"middle\" x=\"2973\" y=\"-1554.8\" font-family=\"Times,serif\" font-size=\"14.00\">1</text>\n",
       "</g>\n",
       "<!-- 41 -->\n",
       "<g id=\"node42\" class=\"node\">\n",
       "<title>41</title>\n",
       "<text text-anchor=\"middle\" x=\"2673\" y=\"-1455.8\" font-family=\"Times,serif\" font-size=\"14.00\">(25) str.substr(cgi_decode_s_str_1, 3, 1) == &quot;0&quot;</text>\n",
       "</g>\n",
       "<!-- 40&#45;&gt;41 -->\n",
       "<g id=\"edge41\" class=\"edge\">\n",
       "<title>40&#45;&gt;41</title>\n",
       "<path fill=\"none\" stroke=\"red\" d=\"M2803.93,-1517.89C2778.79,-1506.87 2728.08,-1484.65 2697.68,-1471.32\"/>\n",
       "<polygon fill=\"red\" stroke=\"red\" points=\"2698.78,-1467.98 2688.21,-1467.17 2695.96,-1474.39 2698.78,-1467.98\"/>\n",
       "<text text-anchor=\"middle\" x=\"2764\" y=\"-1488.8\" font-family=\"Times,serif\" font-size=\"14.00\">0</text>\n",
       "</g>\n",
       "<!-- 86 -->\n",
       "<g id=\"node87\" class=\"node\">\n",
       "<title>86</title>\n",
       "<text text-anchor=\"middle\" x=\"2828\" y=\"-1455.8\" font-family=\"Times,serif\" font-size=\"14.00\">?</text>\n",
       "</g>\n",
       "<!-- 40&#45;&gt;86 -->\n",
       "<g id=\"edge86\" class=\"edge\">\n",
       "<title>40&#45;&gt;86</title>\n",
       "<path fill=\"none\" stroke=\"blue\" d=\"M2819.96,-1517.65C2821.31,-1508.07 2823.8,-1490.38 2825.65,-1477.2\"/>\n",
       "<polygon fill=\"blue\" stroke=\"blue\" points=\"2829.14,-1477.5 2827.07,-1467.11 2822.21,-1476.52 2829.14,-1477.5\"/>\n",
       "<text text-anchor=\"middle\" x=\"2829\" y=\"-1488.8\" font-family=\"Times,serif\" font-size=\"14.00\">1</text>\n",
       "</g>\n",
       "<!-- 42 -->\n",
       "<g id=\"node43\" class=\"node\">\n",
       "<title>42</title>\n",
       "<text text-anchor=\"middle\" x=\"2526\" y=\"-1389.8\" font-family=\"Times,serif\" font-size=\"14.00\">(26) str.substr(cgi_decode_s_str_1, 3, 1) == &quot;1&quot;</text>\n",
       "</g>\n",
       "<!-- 41&#45;&gt;42 -->\n",
       "<g id=\"edge42\" class=\"edge\">\n",
       "<title>41&#45;&gt;42</title>\n",
       "<path fill=\"none\" stroke=\"red\" d=\"M2657.82,-1451.89C2632.51,-1440.87 2581.46,-1418.65 2550.85,-1405.32\"/>\n",
       "<polygon fill=\"red\" stroke=\"red\" points=\"2551.88,-1401.95 2541.32,-1401.17 2549.09,-1408.37 2551.88,-1401.95\"/>\n",
       "<text text-anchor=\"middle\" x=\"2617\" y=\"-1422.8\" font-family=\"Times,serif\" font-size=\"14.00\">0</text>\n",
       "</g>\n",
       "<!-- 85 -->\n",
       "<g id=\"node86\" class=\"node\">\n",
       "<title>85</title>\n",
       "<text text-anchor=\"middle\" x=\"2681\" y=\"-1389.8\" font-family=\"Times,serif\" font-size=\"14.00\">?</text>\n",
       "</g>\n",
       "<!-- 41&#45;&gt;85 -->\n",
       "<g id=\"edge85\" class=\"edge\">\n",
       "<title>41&#45;&gt;85</title>\n",
       "<path fill=\"none\" stroke=\"blue\" d=\"M2673.86,-1451.65C2675.05,-1442.07 2677.27,-1424.38 2678.91,-1411.2\"/>\n",
       "<polygon fill=\"blue\" stroke=\"blue\" points=\"2682.41,-1411.47 2680.17,-1401.11 2675.46,-1410.6 2682.41,-1411.47\"/>\n",
       "<text text-anchor=\"middle\" x=\"2682\" y=\"-1422.8\" font-family=\"Times,serif\" font-size=\"14.00\">1</text>\n",
       "</g>\n",
       "<!-- 43 -->\n",
       "<g id=\"node44\" class=\"node\">\n",
       "<title>43</title>\n",
       "<text text-anchor=\"middle\" x=\"2379\" y=\"-1323.8\" font-family=\"Times,serif\" font-size=\"14.00\">(27) str.substr(cgi_decode_s_str_1, 3, 1) == &quot;2&quot;</text>\n",
       "</g>\n",
       "<!-- 42&#45;&gt;43 -->\n",
       "<g id=\"edge43\" class=\"edge\">\n",
       "<title>42&#45;&gt;43</title>\n",
       "<path fill=\"none\" stroke=\"red\" d=\"M2510.82,-1385.89C2485.51,-1374.87 2434.46,-1352.65 2403.85,-1339.32\"/>\n",
       "<polygon fill=\"red\" stroke=\"red\" points=\"2404.88,-1335.95 2394.32,-1335.17 2402.09,-1342.37 2404.88,-1335.95\"/>\n",
       "<text text-anchor=\"middle\" x=\"2470\" y=\"-1356.8\" font-family=\"Times,serif\" font-size=\"14.00\">0</text>\n",
       "</g>\n",
       "<!-- 84 -->\n",
       "<g id=\"node85\" class=\"node\">\n",
       "<title>84</title>\n",
       "<text text-anchor=\"middle\" x=\"2534\" y=\"-1323.8\" font-family=\"Times,serif\" font-size=\"14.00\">?</text>\n",
       "</g>\n",
       "<!-- 42&#45;&gt;84 -->\n",
       "<g id=\"edge84\" class=\"edge\">\n",
       "<title>42&#45;&gt;84</title>\n",
       "<path fill=\"none\" stroke=\"blue\" d=\"M2526.86,-1385.65C2528.05,-1376.07 2530.27,-1358.38 2531.91,-1345.2\"/>\n",
       "<polygon fill=\"blue\" stroke=\"blue\" points=\"2535.41,-1345.47 2533.17,-1335.11 2528.46,-1344.6 2535.41,-1345.47\"/>\n",
       "<text text-anchor=\"middle\" x=\"2535\" y=\"-1356.8\" font-family=\"Times,serif\" font-size=\"14.00\">1</text>\n",
       "</g>\n",
       "<!-- 44 -->\n",
       "<g id=\"node45\" class=\"node\">\n",
       "<title>44</title>\n",
       "<text text-anchor=\"middle\" x=\"2260\" y=\"-1257.8\" font-family=\"Times,serif\" font-size=\"14.00\">(28) str.substr(cgi_decode_s_str_1, 3, 1) == &quot;3&quot;</text>\n",
       "</g>\n",
       "<!-- 43&#45;&gt;44 -->\n",
       "<g id=\"edge44\" class=\"edge\">\n",
       "<title>43&#45;&gt;44</title>\n",
       "<path fill=\"none\" stroke=\"red\" d=\"M2366.71,-1319.89C2346.58,-1309.07 2306.33,-1287.42 2281.42,-1274.02\"/>\n",
       "<polygon fill=\"red\" stroke=\"red\" points=\"2282.86,-1270.82 2272.4,-1269.17 2279.55,-1276.99 2282.86,-1270.82\"/>\n",
       "<text text-anchor=\"middle\" x=\"2335\" y=\"-1290.8\" font-family=\"Times,serif\" font-size=\"14.00\">0</text>\n",
       "</g>\n",
       "<!-- 83 -->\n",
       "<g id=\"node84\" class=\"node\">\n",
       "<title>83</title>\n",
       "<text text-anchor=\"middle\" x=\"2415\" y=\"-1257.8\" font-family=\"Times,serif\" font-size=\"14.00\">?</text>\n",
       "</g>\n",
       "<!-- 43&#45;&gt;83 -->\n",
       "<g id=\"edge83\" class=\"edge\">\n",
       "<title>43&#45;&gt;83</title>\n",
       "<path fill=\"none\" stroke=\"blue\" d=\"M2382.85,-1319.65C2388.46,-1309.68 2399.02,-1290.91 2406.5,-1277.6\"/>\n",
       "<polygon fill=\"blue\" stroke=\"blue\" points=\"2409.64,-1279.16 2411.49,-1268.73 2403.54,-1275.73 2409.64,-1279.16\"/>\n",
       "<text text-anchor=\"middle\" x=\"2405\" y=\"-1290.8\" font-family=\"Times,serif\" font-size=\"14.00\">1</text>\n",
       "</g>\n",
       "<!-- 45 -->\n",
       "<g id=\"node46\" class=\"node\">\n",
       "<title>45</title>\n",
       "<text text-anchor=\"middle\" x=\"2105\" y=\"-1191.8\" font-family=\"Times,serif\" font-size=\"14.00\">(29) str.substr(cgi_decode_s_str_1, 3, 1) == &quot;4&quot;</text>\n",
       "</g>\n",
       "<!-- 44&#45;&gt;45 -->\n",
       "<g id=\"edge45\" class=\"edge\">\n",
       "<title>44&#45;&gt;45</title>\n",
       "<path fill=\"none\" stroke=\"red\" d=\"M2244,-1253.89C2217.19,-1242.83 2163.01,-1220.45 2130.78,-1207.14\"/>\n",
       "<polygon fill=\"red\" stroke=\"red\" points=\"2131.73,-1203.75 2121.15,-1203.17 2129.06,-1210.22 2131.73,-1203.75\"/>\n",
       "<text text-anchor=\"middle\" x=\"2201\" y=\"-1224.8\" font-family=\"Times,serif\" font-size=\"14.00\">0</text>\n",
       "</g>\n",
       "<!-- 82 -->\n",
       "<g id=\"node83\" class=\"node\">\n",
       "<title>82</title>\n",
       "<text text-anchor=\"middle\" x=\"2260\" y=\"-1191.8\" font-family=\"Times,serif\" font-size=\"14.00\">?</text>\n",
       "</g>\n",
       "<!-- 44&#45;&gt;82 -->\n",
       "<g id=\"edge82\" class=\"edge\">\n",
       "<title>44&#45;&gt;82</title>\n",
       "<path fill=\"none\" stroke=\"blue\" d=\"M2260,-1253.65C2260,-1244.07 2260,-1226.38 2260,-1213.2\"/>\n",
       "<polygon fill=\"blue\" stroke=\"blue\" points=\"2263.5,-1213.11 2260,-1203.11 2256.5,-1213.11 2263.5,-1213.11\"/>\n",
       "<text text-anchor=\"middle\" x=\"2264\" y=\"-1224.8\" font-family=\"Times,serif\" font-size=\"14.00\">1</text>\n",
       "</g>\n",
       "<!-- 46 -->\n",
       "<g id=\"node47\" class=\"node\">\n",
       "<title>46</title>\n",
       "<text text-anchor=\"middle\" x=\"1950\" y=\"-1125.8\" font-family=\"Times,serif\" font-size=\"14.00\">(30) str.substr(cgi_decode_s_str_1, 3, 1) == &quot;5&quot;</text>\n",
       "</g>\n",
       "<!-- 45&#45;&gt;46 -->\n",
       "<g id=\"edge46\" class=\"edge\">\n",
       "<title>45&#45;&gt;46</title>\n",
       "<path fill=\"none\" stroke=\"red\" d=\"M2089,-1187.89C2062.19,-1176.83 2008.01,-1154.45 1975.78,-1141.14\"/>\n",
       "<polygon fill=\"red\" stroke=\"red\" points=\"1976.73,-1137.75 1966.15,-1137.17 1974.06,-1144.22 1976.73,-1137.75\"/>\n",
       "<text text-anchor=\"middle\" x=\"2046\" y=\"-1158.8\" font-family=\"Times,serif\" font-size=\"14.00\">0</text>\n",
       "</g>\n",
       "<!-- 81 -->\n",
       "<g id=\"node82\" class=\"node\">\n",
       "<title>81</title>\n",
       "<text text-anchor=\"middle\" x=\"2105\" y=\"-1125.8\" font-family=\"Times,serif\" font-size=\"14.00\">?</text>\n",
       "</g>\n",
       "<!-- 45&#45;&gt;81 -->\n",
       "<g id=\"edge81\" class=\"edge\">\n",
       "<title>45&#45;&gt;81</title>\n",
       "<path fill=\"none\" stroke=\"blue\" d=\"M2105,-1187.65C2105,-1178.07 2105,-1160.38 2105,-1147.2\"/>\n",
       "<polygon fill=\"blue\" stroke=\"blue\" points=\"2108.5,-1147.11 2105,-1137.11 2101.5,-1147.11 2108.5,-1147.11\"/>\n",
       "<text text-anchor=\"middle\" x=\"2109\" y=\"-1158.8\" font-family=\"Times,serif\" font-size=\"14.00\">1</text>\n",
       "</g>\n",
       "<!-- 47 -->\n",
       "<g id=\"node48\" class=\"node\">\n",
       "<title>47</title>\n",
       "<text text-anchor=\"middle\" x=\"1831\" y=\"-1059.8\" font-family=\"Times,serif\" font-size=\"14.00\">(31) str.substr(cgi_decode_s_str_1, 3, 1) == &quot;6&quot;</text>\n",
       "</g>\n",
       "<!-- 46&#45;&gt;47 -->\n",
       "<g id=\"edge47\" class=\"edge\">\n",
       "<title>46&#45;&gt;47</title>\n",
       "<path fill=\"none\" stroke=\"red\" d=\"M1937.71,-1121.89C1917.58,-1111.07 1877.33,-1089.42 1852.42,-1076.02\"/>\n",
       "<polygon fill=\"red\" stroke=\"red\" points=\"1853.86,-1072.82 1843.4,-1071.17 1850.55,-1078.99 1853.86,-1072.82\"/>\n",
       "<text text-anchor=\"middle\" x=\"1906\" y=\"-1092.8\" font-family=\"Times,serif\" font-size=\"14.00\">0</text>\n",
       "</g>\n",
       "<!-- 80 -->\n",
       "<g id=\"node81\" class=\"node\">\n",
       "<title>80</title>\n",
       "<text text-anchor=\"middle\" x=\"1986\" y=\"-1059.8\" font-family=\"Times,serif\" font-size=\"14.00\">?</text>\n",
       "</g>\n",
       "<!-- 46&#45;&gt;80 -->\n",
       "<g id=\"edge80\" class=\"edge\">\n",
       "<title>46&#45;&gt;80</title>\n",
       "<path fill=\"none\" stroke=\"blue\" d=\"M1953.85,-1121.65C1959.46,-1111.68 1970.02,-1092.91 1977.5,-1079.6\"/>\n",
       "<polygon fill=\"blue\" stroke=\"blue\" points=\"1980.64,-1081.16 1982.49,-1070.73 1974.54,-1077.73 1980.64,-1081.16\"/>\n",
       "<text text-anchor=\"middle\" x=\"1976\" y=\"-1092.8\" font-family=\"Times,serif\" font-size=\"14.00\">1</text>\n",
       "</g>\n",
       "<!-- 48 -->\n",
       "<g id=\"node49\" class=\"node\">\n",
       "<title>48</title>\n",
       "<text text-anchor=\"middle\" x=\"1727\" y=\"-993.8\" font-family=\"Times,serif\" font-size=\"14.00\">(32) str.substr(cgi_decode_s_str_1, 3, 1) == &quot;7&quot;</text>\n",
       "</g>\n",
       "<!-- 47&#45;&gt;48 -->\n",
       "<g id=\"edge48\" class=\"edge\">\n",
       "<title>47&#45;&gt;48</title>\n",
       "<path fill=\"none\" stroke=\"red\" d=\"M1820.26,-1055.89C1802.9,-1045.21 1768.42,-1023.99 1746.6,-1010.56\"/>\n",
       "<polygon fill=\"red\" stroke=\"red\" points=\"1748.19,-1007.43 1737.84,-1005.17 1744.52,-1013.39 1748.19,-1007.43\"/>\n",
       "<text text-anchor=\"middle\" x=\"1793\" y=\"-1026.8\" font-family=\"Times,serif\" font-size=\"14.00\">0</text>\n",
       "</g>\n",
       "<!-- 79 -->\n",
       "<g id=\"node80\" class=\"node\">\n",
       "<title>79</title>\n",
       "<text text-anchor=\"middle\" x=\"1882\" y=\"-993.8\" font-family=\"Times,serif\" font-size=\"14.00\">?</text>\n",
       "</g>\n",
       "<!-- 47&#45;&gt;79 -->\n",
       "<g id=\"edge79\" class=\"edge\">\n",
       "<title>47&#45;&gt;79</title>\n",
       "<path fill=\"none\" stroke=\"blue\" d=\"M1836.46,-1055.65C1844.98,-1044.96 1861.56,-1024.16 1872.19,-1010.81\"/>\n",
       "<polygon fill=\"blue\" stroke=\"blue\" points=\"1874.93,-1012.99 1878.42,-1002.99 1869.45,-1008.63 1874.93,-1012.99\"/>\n",
       "<text text-anchor=\"middle\" x=\"1866\" y=\"-1026.8\" font-family=\"Times,serif\" font-size=\"14.00\">1</text>\n",
       "</g>\n",
       "<!-- 49 -->\n",
       "<g id=\"node50\" class=\"node\">\n",
       "<title>49</title>\n",
       "<text text-anchor=\"middle\" x=\"1622\" y=\"-927.8\" font-family=\"Times,serif\" font-size=\"14.00\">(33) str.substr(cgi_decode_s_str_1, 3, 1) == &quot;8&quot;</text>\n",
       "</g>\n",
       "<!-- 48&#45;&gt;49 -->\n",
       "<g id=\"edge49\" class=\"edge\">\n",
       "<title>48&#45;&gt;49</title>\n",
       "<path fill=\"none\" stroke=\"red\" d=\"M1716.16,-989.89C1698.55,-979.16 1663.5,-957.8 1641.49,-944.38\"/>\n",
       "<polygon fill=\"red\" stroke=\"red\" points=\"1643.3,-941.38 1632.94,-939.17 1639.66,-947.36 1643.3,-941.38\"/>\n",
       "<text text-anchor=\"middle\" x=\"1688\" y=\"-960.8\" font-family=\"Times,serif\" font-size=\"14.00\">0</text>\n",
       "</g>\n",
       "<!-- 78 -->\n",
       "<g id=\"node79\" class=\"node\">\n",
       "<title>78</title>\n",
       "<text text-anchor=\"middle\" x=\"1777\" y=\"-927.8\" font-family=\"Times,serif\" font-size=\"14.00\">?</text>\n",
       "</g>\n",
       "<!-- 48&#45;&gt;78 -->\n",
       "<g id=\"edge78\" class=\"edge\">\n",
       "<title>48&#45;&gt;78</title>\n",
       "<path fill=\"none\" stroke=\"blue\" d=\"M1732.35,-989.65C1740.62,-979.06 1756.64,-958.55 1767.08,-945.2\"/>\n",
       "<polygon fill=\"blue\" stroke=\"blue\" points=\"1770.1,-947.02 1773.49,-936.99 1764.58,-942.71 1770.1,-947.02\"/>\n",
       "<text text-anchor=\"middle\" x=\"1761\" y=\"-960.8\" font-family=\"Times,serif\" font-size=\"14.00\">1</text>\n",
       "</g>\n",
       "<!-- 50 -->\n",
       "<g id=\"node51\" class=\"node\">\n",
       "<title>50</title>\n",
       "<text text-anchor=\"middle\" x=\"1482\" y=\"-861.8\" font-family=\"Times,serif\" font-size=\"14.00\">(34) str.substr(cgi_decode_s_str_1, 3, 1) == &quot;9&quot;</text>\n",
       "</g>\n",
       "<!-- 49&#45;&gt;50 -->\n",
       "<g id=\"edge50\" class=\"edge\">\n",
       "<title>49&#45;&gt;50</title>\n",
       "<path fill=\"none\" stroke=\"red\" d=\"M1607.54,-923.89C1583.55,-912.92 1535.24,-890.84 1506.05,-877.49\"/>\n",
       "<polygon fill=\"red\" stroke=\"red\" points=\"1507.14,-874.14 1496.59,-873.17 1504.23,-880.51 1507.14,-874.14\"/>\n",
       "<text text-anchor=\"middle\" x=\"1569\" y=\"-894.8\" font-family=\"Times,serif\" font-size=\"14.00\">0</text>\n",
       "</g>\n",
       "<!-- 77 -->\n",
       "<g id=\"node78\" class=\"node\">\n",
       "<title>77</title>\n",
       "<text text-anchor=\"middle\" x=\"1637\" y=\"-861.8\" font-family=\"Times,serif\" font-size=\"14.00\">?</text>\n",
       "</g>\n",
       "<!-- 49&#45;&gt;77 -->\n",
       "<g id=\"edge77\" class=\"edge\">\n",
       "<title>49&#45;&gt;77</title>\n",
       "<path fill=\"none\" stroke=\"blue\" d=\"M1623.61,-923.65C1625.85,-914.07 1630,-896.38 1633.09,-883.2\"/>\n",
       "<polygon fill=\"blue\" stroke=\"blue\" points=\"1636.58,-883.64 1635.45,-873.11 1629.76,-882.05 1636.58,-883.64\"/>\n",
       "<text text-anchor=\"middle\" x=\"1635\" y=\"-894.8\" font-family=\"Times,serif\" font-size=\"14.00\">1</text>\n",
       "</g>\n",
       "<!-- 51 -->\n",
       "<g id=\"node52\" class=\"node\">\n",
       "<title>51</title>\n",
       "<text text-anchor=\"middle\" x=\"1342\" y=\"-795.8\" font-family=\"Times,serif\" font-size=\"14.00\">(35) str.substr(cgi_decode_s_str_1, 3, 1) == &quot;a&quot;</text>\n",
       "</g>\n",
       "<!-- 50&#45;&gt;51 -->\n",
       "<g id=\"edge51\" class=\"edge\">\n",
       "<title>50&#45;&gt;51</title>\n",
       "<path fill=\"none\" stroke=\"red\" d=\"M1467.54,-857.89C1443.55,-846.92 1395.24,-824.84 1366.05,-811.49\"/>\n",
       "<polygon fill=\"red\" stroke=\"red\" points=\"1367.14,-808.14 1356.59,-807.17 1364.23,-814.51 1367.14,-808.14\"/>\n",
       "<text text-anchor=\"middle\" x=\"1429\" y=\"-828.8\" font-family=\"Times,serif\" font-size=\"14.00\">0</text>\n",
       "</g>\n",
       "<!-- 76 -->\n",
       "<g id=\"node77\" class=\"node\">\n",
       "<title>76</title>\n",
       "<text text-anchor=\"middle\" x=\"1497\" y=\"-795.8\" font-family=\"Times,serif\" font-size=\"14.00\">?</text>\n",
       "</g>\n",
       "<!-- 50&#45;&gt;76 -->\n",
       "<g id=\"edge76\" class=\"edge\">\n",
       "<title>50&#45;&gt;76</title>\n",
       "<path fill=\"none\" stroke=\"blue\" d=\"M1483.61,-857.65C1485.85,-848.07 1490,-830.38 1493.09,-817.2\"/>\n",
       "<polygon fill=\"blue\" stroke=\"blue\" points=\"1496.58,-817.64 1495.45,-807.11 1489.76,-816.05 1496.58,-817.64\"/>\n",
       "<text text-anchor=\"middle\" x=\"1495\" y=\"-828.8\" font-family=\"Times,serif\" font-size=\"14.00\">1</text>\n",
       "</g>\n",
       "<!-- 52 -->\n",
       "<g id=\"node53\" class=\"node\">\n",
       "<title>52</title>\n",
       "<text text-anchor=\"middle\" x=\"1195\" y=\"-729.8\" font-family=\"Times,serif\" font-size=\"14.00\">(36) str.substr(cgi_decode_s_str_1, 3, 1) == &quot;b&quot;</text>\n",
       "</g>\n",
       "<!-- 51&#45;&gt;52 -->\n",
       "<g id=\"edge52\" class=\"edge\">\n",
       "<title>51&#45;&gt;52</title>\n",
       "<path fill=\"none\" stroke=\"red\" d=\"M1326.82,-791.89C1301.51,-780.87 1250.46,-758.65 1219.85,-745.32\"/>\n",
       "<polygon fill=\"red\" stroke=\"red\" points=\"1220.88,-741.95 1210.32,-741.17 1218.09,-748.37 1220.88,-741.95\"/>\n",
       "<text text-anchor=\"middle\" x=\"1286\" y=\"-762.8\" font-family=\"Times,serif\" font-size=\"14.00\">0</text>\n",
       "</g>\n",
       "<!-- 75 -->\n",
       "<g id=\"node76\" class=\"node\">\n",
       "<title>75</title>\n",
       "<text text-anchor=\"middle\" x=\"1350\" y=\"-729.8\" font-family=\"Times,serif\" font-size=\"14.00\">?</text>\n",
       "</g>\n",
       "<!-- 51&#45;&gt;75 -->\n",
       "<g id=\"edge75\" class=\"edge\">\n",
       "<title>51&#45;&gt;75</title>\n",
       "<path fill=\"none\" stroke=\"blue\" d=\"M1342.86,-791.65C1344.05,-782.07 1346.27,-764.38 1347.91,-751.2\"/>\n",
       "<polygon fill=\"blue\" stroke=\"blue\" points=\"1351.41,-751.47 1349.17,-741.11 1344.46,-750.6 1351.41,-751.47\"/>\n",
       "<text text-anchor=\"middle\" x=\"1351\" y=\"-762.8\" font-family=\"Times,serif\" font-size=\"14.00\">1</text>\n",
       "</g>\n",
       "<!-- 53 -->\n",
       "<g id=\"node54\" class=\"node\">\n",
       "<title>53</title>\n",
       "<text text-anchor=\"middle\" x=\"1081\" y=\"-663.8\" font-family=\"Times,serif\" font-size=\"14.00\">(37) str.substr(cgi_decode_s_str_1, 3, 1) == &quot;c&quot;</text>\n",
       "</g>\n",
       "<!-- 52&#45;&gt;53 -->\n",
       "<g id=\"edge53\" class=\"edge\">\n",
       "<title>52&#45;&gt;53</title>\n",
       "<path fill=\"none\" stroke=\"red\" d=\"M1183.23,-725.89C1164.03,-715.11 1125.72,-693.61 1101.84,-680.2\"/>\n",
       "<polygon fill=\"red\" stroke=\"red\" points=\"1103.31,-677.01 1092.88,-675.17 1099.88,-683.12 1103.31,-677.01\"/>\n",
       "<text text-anchor=\"middle\" x=\"1153\" y=\"-696.8\" font-family=\"Times,serif\" font-size=\"14.00\">0</text>\n",
       "</g>\n",
       "<!-- 74 -->\n",
       "<g id=\"node75\" class=\"node\">\n",
       "<title>74</title>\n",
       "<text text-anchor=\"middle\" x=\"1236\" y=\"-663.8\" font-family=\"Times,serif\" font-size=\"14.00\">?</text>\n",
       "</g>\n",
       "<!-- 52&#45;&gt;74 -->\n",
       "<g id=\"edge74\" class=\"edge\">\n",
       "<title>52&#45;&gt;74</title>\n",
       "<path fill=\"none\" stroke=\"blue\" d=\"M1199.39,-725.65C1205.91,-715.48 1218.3,-696.13 1226.85,-682.79\"/>\n",
       "<polygon fill=\"blue\" stroke=\"blue\" points=\"1230.03,-684.31 1232.47,-674.01 1224.13,-680.54 1230.03,-684.31\"/>\n",
       "<text text-anchor=\"middle\" x=\"1224\" y=\"-696.8\" font-family=\"Times,serif\" font-size=\"14.00\">1</text>\n",
       "</g>\n",
       "<!-- 54 -->\n",
       "<g id=\"node55\" class=\"node\">\n",
       "<title>54</title>\n",
       "<text text-anchor=\"middle\" x=\"993\" y=\"-597.8\" font-family=\"Times,serif\" font-size=\"14.00\">(38) str.substr(cgi_decode_s_str_1, 3, 1) == &quot;d&quot;</text>\n",
       "</g>\n",
       "<!-- 53&#45;&gt;54 -->\n",
       "<g id=\"edge54\" class=\"edge\">\n",
       "<title>53&#45;&gt;54</title>\n",
       "<path fill=\"none\" stroke=\"red\" d=\"M1071.91,-659.89C1057.42,-649.35 1028.83,-628.56 1010.33,-615.1\"/>\n",
       "<polygon fill=\"red\" stroke=\"red\" points=\"1012.31,-612.22 1002.17,-609.17 1008.2,-617.88 1012.31,-612.22\"/>\n",
       "<text text-anchor=\"middle\" x=\"1049\" y=\"-630.8\" font-family=\"Times,serif\" font-size=\"14.00\">0</text>\n",
       "</g>\n",
       "<!-- 73 -->\n",
       "<g id=\"node74\" class=\"node\">\n",
       "<title>73</title>\n",
       "<text text-anchor=\"middle\" x=\"1148\" y=\"-597.8\" font-family=\"Times,serif\" font-size=\"14.00\">?</text>\n",
       "</g>\n",
       "<!-- 53&#45;&gt;73 -->\n",
       "<g id=\"edge73\" class=\"edge\">\n",
       "<title>53&#45;&gt;73</title>\n",
       "<path fill=\"none\" stroke=\"blue\" d=\"M1087.92,-659.89C1099.44,-648.89 1122.66,-626.71 1136.62,-613.37\"/>\n",
       "<polygon fill=\"blue\" stroke=\"blue\" points=\"1139.42,-615.53 1144.24,-606.09 1134.59,-610.47 1139.42,-615.53\"/>\n",
       "<text text-anchor=\"middle\" x=\"1125\" y=\"-630.8\" font-family=\"Times,serif\" font-size=\"14.00\">1</text>\n",
       "</g>\n",
       "<!-- 55 -->\n",
       "<g id=\"node56\" class=\"node\">\n",
       "<title>55</title>\n",
       "<text text-anchor=\"middle\" x=\"862\" y=\"-531.8\" font-family=\"Times,serif\" font-size=\"14.00\">(39) str.substr(cgi_decode_s_str_1, 3, 1) == &quot;e&quot;</text>\n",
       "</g>\n",
       "<!-- 54&#45;&gt;55 -->\n",
       "<g id=\"edge55\" class=\"edge\">\n",
       "<title>54&#45;&gt;55</title>\n",
       "<path fill=\"none\" stroke=\"red\" d=\"M979.47,-593.89C957.12,-582.97 912.21,-561.03 884.86,-547.67\"/>\n",
       "<polygon fill=\"red\" stroke=\"red\" points=\"886.17,-544.41 875.65,-543.17 883.1,-550.7 886.17,-544.41\"/>\n",
       "<text text-anchor=\"middle\" x=\"944\" y=\"-564.8\" font-family=\"Times,serif\" font-size=\"14.00\">0</text>\n",
       "</g>\n",
       "<!-- 72 -->\n",
       "<g id=\"node73\" class=\"node\">\n",
       "<title>72</title>\n",
       "<text text-anchor=\"middle\" x=\"1017\" y=\"-531.8\" font-family=\"Times,serif\" font-size=\"14.00\">?</text>\n",
       "</g>\n",
       "<!-- 54&#45;&gt;72 -->\n",
       "<g id=\"edge72\" class=\"edge\">\n",
       "<title>54&#45;&gt;72</title>\n",
       "<path fill=\"none\" stroke=\"blue\" d=\"M995.57,-593.65C999.2,-583.98 1005.93,-566.02 1010.89,-552.81\"/>\n",
       "<polygon fill=\"blue\" stroke=\"blue\" points=\"1014.29,-553.7 1014.52,-543.11 1007.73,-551.24 1014.29,-553.7\"/>\n",
       "<text text-anchor=\"middle\" x=\"1012\" y=\"-564.8\" font-family=\"Times,serif\" font-size=\"14.00\">1</text>\n",
       "</g>\n",
       "<!-- 56 -->\n",
       "<g id=\"node57\" class=\"node\">\n",
       "<title>56</title>\n",
       "<text text-anchor=\"middle\" x=\"783\" y=\"-465.8\" font-family=\"Times,serif\" font-size=\"14.00\">(40) str.substr(cgi_decode_s_str_1, 3, 1) == &quot;f&quot;</text>\n",
       "</g>\n",
       "<!-- 55&#45;&gt;56 -->\n",
       "<g id=\"edge56\" class=\"edge\">\n",
       "<title>55&#45;&gt;56</title>\n",
       "<path fill=\"none\" stroke=\"red\" d=\"M853.84,-527.89C840.95,-517.45 815.63,-496.93 799.01,-483.47\"/>\n",
       "<polygon fill=\"red\" stroke=\"red\" points=\"801.2,-480.74 791.23,-477.17 796.8,-486.18 801.2,-480.74\"/>\n",
       "<text text-anchor=\"middle\" x=\"834\" y=\"-498.8\" font-family=\"Times,serif\" font-size=\"14.00\">0</text>\n",
       "</g>\n",
       "<!-- 71 -->\n",
       "<g id=\"node72\" class=\"node\">\n",
       "<title>71</title>\n",
       "<text text-anchor=\"middle\" x=\"937\" y=\"-465.8\" font-family=\"Times,serif\" font-size=\"14.00\">?</text>\n",
       "</g>\n",
       "<!-- 55&#45;&gt;71 -->\n",
       "<g id=\"edge71\" class=\"edge\">\n",
       "<title>55&#45;&gt;71</title>\n",
       "<path fill=\"none\" stroke=\"blue\" d=\"M869.74,-527.89C883.01,-516.57 910.14,-493.42 925.58,-480.24\"/>\n",
       "<polygon fill=\"blue\" stroke=\"blue\" points=\"928.12,-482.68 933.46,-473.52 923.58,-477.35 928.12,-482.68\"/>\n",
       "<text text-anchor=\"middle\" x=\"911\" y=\"-498.8\" font-family=\"Times,serif\" font-size=\"14.00\">1</text>\n",
       "</g>\n",
       "<!-- 57 -->\n",
       "<g id=\"node58\" class=\"node\">\n",
       "<title>57</title>\n",
       "<text text-anchor=\"middle\" x=\"636\" y=\"-399.8\" font-family=\"Times,serif\" font-size=\"14.00\">(41) str.substr(cgi_decode_s_str_1, 3, 1) == &quot;A&quot;</text>\n",
       "</g>\n",
       "<!-- 56&#45;&gt;57 -->\n",
       "<g id=\"edge57\" class=\"edge\">\n",
       "<title>56&#45;&gt;57</title>\n",
       "<path fill=\"none\" stroke=\"red\" d=\"M767.82,-461.89C742.51,-450.87 691.46,-428.65 660.85,-415.32\"/>\n",
       "<polygon fill=\"red\" stroke=\"red\" points=\"661.88,-411.95 651.32,-411.17 659.09,-418.37 661.88,-411.95\"/>\n",
       "<text text-anchor=\"middle\" x=\"727\" y=\"-432.8\" font-family=\"Times,serif\" font-size=\"14.00\">0</text>\n",
       "</g>\n",
       "<!-- 70 -->\n",
       "<g id=\"node71\" class=\"node\">\n",
       "<title>70</title>\n",
       "<text text-anchor=\"middle\" x=\"793\" y=\"-399.8\" font-family=\"Times,serif\" font-size=\"14.00\">?</text>\n",
       "</g>\n",
       "<!-- 56&#45;&gt;70 -->\n",
       "<g id=\"edge70\" class=\"edge\">\n",
       "<title>56&#45;&gt;70</title>\n",
       "<path fill=\"none\" stroke=\"blue\" d=\"M784.07,-461.65C785.57,-452.07 788.33,-434.38 790.39,-421.2\"/>\n",
       "<polygon fill=\"blue\" stroke=\"blue\" points=\"793.88,-421.53 791.97,-411.11 786.97,-420.45 793.88,-421.53\"/>\n",
       "<text text-anchor=\"middle\" x=\"793\" y=\"-432.8\" font-family=\"Times,serif\" font-size=\"14.00\">1</text>\n",
       "</g>\n",
       "<!-- 58 -->\n",
       "<g id=\"node59\" class=\"node\">\n",
       "<title>58</title>\n",
       "<text text-anchor=\"middle\" x=\"540\" y=\"-333.8\" font-family=\"Times,serif\" font-size=\"14.00\">(42) str.substr(cgi_decode_s_str_1, 3, 1) == &quot;B&quot;</text>\n",
       "</g>\n",
       "<!-- 57&#45;&gt;58 -->\n",
       "<g id=\"edge58\" class=\"edge\">\n",
       "<title>57&#45;&gt;58</title>\n",
       "<path fill=\"none\" stroke=\"red\" d=\"M626.09,-395.89C610.14,-385.26 578.52,-364.18 558.36,-350.74\"/>\n",
       "<polygon fill=\"red\" stroke=\"red\" points=\"560.26,-347.8 550,-345.17 556.38,-353.63 560.26,-347.8\"/>\n",
       "<text text-anchor=\"middle\" x=\"601\" y=\"-366.8\" font-family=\"Times,serif\" font-size=\"14.00\">0</text>\n",
       "</g>\n",
       "<!-- 69 -->\n",
       "<g id=\"node70\" class=\"node\">\n",
       "<title>69</title>\n",
       "<text text-anchor=\"middle\" x=\"697\" y=\"-333.8\" font-family=\"Times,serif\" font-size=\"14.00\">?</text>\n",
       "</g>\n",
       "<!-- 57&#45;&gt;69 -->\n",
       "<g id=\"edge69\" class=\"edge\">\n",
       "<title>57&#45;&gt;69</title>\n",
       "<path fill=\"none\" stroke=\"blue\" d=\"M642.53,-395.65C653.02,-384.65 673.72,-362.92 686.37,-349.66\"/>\n",
       "<polygon fill=\"blue\" stroke=\"blue\" points=\"688.96,-352.01 693.32,-342.36 683.89,-347.18 688.96,-352.01\"/>\n",
       "<text text-anchor=\"middle\" x=\"676\" y=\"-366.8\" font-family=\"Times,serif\" font-size=\"14.00\">1</text>\n",
       "</g>\n",
       "<!-- 59 -->\n",
       "<g id=\"node60\" class=\"node\">\n",
       "<title>59</title>\n",
       "<text text-anchor=\"middle\" x=\"462\" y=\"-267.8\" font-family=\"Times,serif\" font-size=\"14.00\">(43) str.substr(cgi_decode_s_str_1, 3, 1) == &quot;C&quot;</text>\n",
       "</g>\n",
       "<!-- 58&#45;&gt;59 -->\n",
       "<g id=\"edge59\" class=\"edge\">\n",
       "<title>58&#45;&gt;59</title>\n",
       "<path fill=\"none\" stroke=\"red\" d=\"M531.95,-329.89C519.34,-319.54 494.67,-299.31 478.27,-285.85\"/>\n",
       "<polygon fill=\"red\" stroke=\"red\" points=\"480.08,-282.81 470.13,-279.17 475.64,-288.22 480.08,-282.81\"/>\n",
       "<text text-anchor=\"middle\" x=\"512\" y=\"-300.8\" font-family=\"Times,serif\" font-size=\"14.00\">0</text>\n",
       "</g>\n",
       "<!-- 68 -->\n",
       "<g id=\"node69\" class=\"node\">\n",
       "<title>68</title>\n",
       "<text text-anchor=\"middle\" x=\"619\" y=\"-267.8\" font-family=\"Times,serif\" font-size=\"14.00\">?</text>\n",
       "</g>\n",
       "<!-- 58&#45;&gt;68 -->\n",
       "<g id=\"edge68\" class=\"edge\">\n",
       "<title>58&#45;&gt;68</title>\n",
       "<path fill=\"none\" stroke=\"blue\" d=\"M548.16,-329.89C562.26,-318.47 591.25,-294.98 607.43,-281.87\"/>\n",
       "<polygon fill=\"blue\" stroke=\"blue\" points=\"609.7,-284.54 615.27,-275.52 605.29,-279.1 609.7,-284.54\"/>\n",
       "<text text-anchor=\"middle\" x=\"591\" y=\"-300.8\" font-family=\"Times,serif\" font-size=\"14.00\">1</text>\n",
       "</g>\n",
       "<!-- 60 -->\n",
       "<g id=\"node61\" class=\"node\">\n",
       "<title>60</title>\n",
       "<text text-anchor=\"middle\" x=\"352\" y=\"-201.8\" font-family=\"Times,serif\" font-size=\"14.00\">(44) str.substr(cgi_decode_s_str_1, 3, 1) == &quot;D&quot;</text>\n",
       "</g>\n",
       "<!-- 59&#45;&gt;60 -->\n",
       "<g id=\"edge60\" class=\"edge\">\n",
       "<title>59&#45;&gt;60</title>\n",
       "<path fill=\"none\" stroke=\"red\" d=\"M450.64,-263.89C432.12,-253.11 395.15,-231.61 372.11,-218.2\"/>\n",
       "<polygon fill=\"red\" stroke=\"red\" points=\"373.86,-215.17 363.46,-213.17 370.34,-221.22 373.86,-215.17\"/>\n",
       "<text text-anchor=\"middle\" x=\"421\" y=\"-234.8\" font-family=\"Times,serif\" font-size=\"14.00\">0</text>\n",
       "</g>\n",
       "<!-- 67 -->\n",
       "<g id=\"node68\" class=\"node\">\n",
       "<title>67</title>\n",
       "<text text-anchor=\"middle\" x=\"509\" y=\"-201.8\" font-family=\"Times,serif\" font-size=\"14.00\">?</text>\n",
       "</g>\n",
       "<!-- 59&#45;&gt;67 -->\n",
       "<g id=\"edge67\" class=\"edge\">\n",
       "<title>59&#45;&gt;67</title>\n",
       "<path fill=\"none\" stroke=\"blue\" d=\"M467.03,-263.65C474.73,-253.17 489.57,-232.96 499.38,-219.6\"/>\n",
       "<polygon fill=\"blue\" stroke=\"blue\" points=\"502.36,-221.45 505.46,-211.32 496.72,-217.31 502.36,-221.45\"/>\n",
       "<text text-anchor=\"middle\" x=\"494\" y=\"-234.8\" font-family=\"Times,serif\" font-size=\"14.00\">1</text>\n",
       "</g>\n",
       "<!-- 61 -->\n",
       "<g id=\"node62\" class=\"node\">\n",
       "<title>61</title>\n",
       "<text text-anchor=\"middle\" x=\"243\" y=\"-135.8\" font-family=\"Times,serif\" font-size=\"14.00\">(45) str.substr(cgi_decode_s_str_1, 3, 1) == &quot;E&quot;</text>\n",
       "</g>\n",
       "<!-- 60&#45;&gt;61 -->\n",
       "<g id=\"edge61\" class=\"edge\">\n",
       "<title>60&#45;&gt;61</title>\n",
       "<path fill=\"none\" stroke=\"red\" d=\"M340.75,-197.89C322.47,-187.16 286.09,-165.8 263.23,-152.38\"/>\n",
       "<polygon fill=\"red\" stroke=\"red\" points=\"264.75,-149.21 254.36,-147.17 261.21,-155.25 264.75,-149.21\"/>\n",
       "<text text-anchor=\"middle\" x=\"312\" y=\"-168.8\" font-family=\"Times,serif\" font-size=\"14.00\">0</text>\n",
       "</g>\n",
       "<!-- 66 -->\n",
       "<g id=\"node67\" class=\"node\">\n",
       "<title>66</title>\n",
       "<text text-anchor=\"middle\" x=\"399\" y=\"-135.8\" font-family=\"Times,serif\" font-size=\"14.00\">?</text>\n",
       "</g>\n",
       "<!-- 60&#45;&gt;66 -->\n",
       "<g id=\"edge66\" class=\"edge\">\n",
       "<title>60&#45;&gt;66</title>\n",
       "<path fill=\"none\" stroke=\"blue\" d=\"M357.03,-197.65C364.73,-187.17 379.57,-166.96 389.38,-153.6\"/>\n",
       "<polygon fill=\"blue\" stroke=\"blue\" points=\"392.36,-155.45 395.46,-145.32 386.72,-151.31 392.36,-155.45\"/>\n",
       "<text text-anchor=\"middle\" x=\"384\" y=\"-168.8\" font-family=\"Times,serif\" font-size=\"14.00\">1</text>\n",
       "</g>\n",
       "<!-- 62 -->\n",
       "<g id=\"node63\" class=\"node\">\n",
       "<title>62</title>\n",
       "<text text-anchor=\"middle\" x=\"134\" y=\"-69.8\" font-family=\"Times,serif\" font-size=\"14.00\">(46) str.substr(cgi_decode_s_str_1, 3, 1) == &quot;F&quot;</text>\n",
       "</g>\n",
       "<!-- 61&#45;&gt;62 -->\n",
       "<g id=\"edge62\" class=\"edge\">\n",
       "<title>61&#45;&gt;62</title>\n",
       "<path fill=\"none\" stroke=\"red\" d=\"M231.75,-131.89C213.47,-121.16 177.09,-99.8 154.23,-86.38\"/>\n",
       "<polygon fill=\"red\" stroke=\"red\" points=\"155.75,-83.21 145.36,-81.17 152.21,-89.25 155.75,-83.21\"/>\n",
       "<text text-anchor=\"middle\" x=\"203\" y=\"-102.8\" font-family=\"Times,serif\" font-size=\"14.00\">0</text>\n",
       "</g>\n",
       "<!-- 65 -->\n",
       "<g id=\"node66\" class=\"node\">\n",
       "<title>65</title>\n",
       "<text text-anchor=\"middle\" x=\"290\" y=\"-69.8\" font-family=\"Times,serif\" font-size=\"14.00\">?</text>\n",
       "</g>\n",
       "<!-- 61&#45;&gt;65 -->\n",
       "<g id=\"edge65\" class=\"edge\">\n",
       "<title>61&#45;&gt;65</title>\n",
       "<path fill=\"none\" stroke=\"blue\" d=\"M248.03,-131.65C255.73,-121.17 270.57,-100.96 280.38,-87.6\"/>\n",
       "<polygon fill=\"blue\" stroke=\"blue\" points=\"283.36,-89.45 286.46,-79.32 277.72,-85.31 283.36,-89.45\"/>\n",
       "<text text-anchor=\"middle\" x=\"275\" y=\"-102.8\" font-family=\"Times,serif\" font-size=\"14.00\">1</text>\n",
       "</g>\n",
       "<!-- 63 -->\n",
       "<g id=\"node64\" class=\"node\">\n",
       "<title>63</title>\n",
       "<text text-anchor=\"middle\" x=\"110\" y=\"-3.8\" font-family=\"Times,serif\" font-size=\"14.00\">* +%\\x00</text>\n",
       "</g>\n",
       "<!-- 62&#45;&gt;63 -->\n",
       "<g id=\"edge63\" class=\"edge\">\n",
       "<title>62&#45;&gt;63</title>\n",
       "<path fill=\"none\" stroke=\"red\" d=\"M131.43,-65.65C127.8,-55.98 121.07,-38.02 116.11,-24.81\"/>\n",
       "<polygon fill=\"red\" stroke=\"red\" points=\"119.27,-23.24 112.48,-15.11 112.71,-25.7 119.27,-23.24\"/>\n",
       "<text text-anchor=\"middle\" x=\"129\" y=\"-36.8\" font-family=\"Times,serif\" font-size=\"14.00\">0</text>\n",
       "</g>\n",
       "<!-- 64 -->\n",
       "<g id=\"node65\" class=\"node\">\n",
       "<title>64</title>\n",
       "<text text-anchor=\"middle\" x=\"159\" y=\"-3.8\" font-family=\"Times,serif\" font-size=\"14.00\">?</text>\n",
       "</g>\n",
       "<!-- 62&#45;&gt;64 -->\n",
       "<g id=\"edge64\" class=\"edge\">\n",
       "<title>62&#45;&gt;64</title>\n",
       "<path fill=\"none\" stroke=\"blue\" d=\"M136.68,-65.65C140.45,-55.98 147.47,-38.02 152.63,-24.81\"/>\n",
       "<polygon fill=\"blue\" stroke=\"blue\" points=\"156.04,-25.7 156.42,-15.11 149.52,-23.15 156.04,-25.7\"/>\n",
       "<text text-anchor=\"middle\" x=\"153\" y=\"-36.8\" font-family=\"Times,serif\" font-size=\"14.00\">1</text>\n",
       "</g>\n",
       "<!-- 89 -->\n",
       "<g id=\"node90\" class=\"node\">\n",
       "<title>89</title>\n",
       "<text text-anchor=\"middle\" x=\"3137\" y=\"-1521.8\" font-family=\"Times,serif\" font-size=\"14.00\">(24) str.substr(cgi_decode_s_str_1, 3, 1) == &quot;1&quot;</text>\n",
       "</g>\n",
       "<!-- 88&#45;&gt;89 -->\n",
       "<g id=\"edge89\" class=\"edge\">\n",
       "<title>88&#45;&gt;89</title>\n",
       "<path fill=\"none\" stroke=\"red\" d=\"M3233.85,-1583.89C3215.74,-1573.16 3179.69,-1551.8 3157.05,-1538.38\"/>\n",
       "<polygon fill=\"red\" stroke=\"red\" points=\"3158.64,-1535.26 3148.25,-1533.17 3155.07,-1541.28 3158.64,-1535.26\"/>\n",
       "<text text-anchor=\"middle\" x=\"3205\" y=\"-1554.8\" font-family=\"Times,serif\" font-size=\"14.00\">0</text>\n",
       "</g>\n",
       "<!-- 132 -->\n",
       "<g id=\"node133\" class=\"node\">\n",
       "<title>132</title>\n",
       "<text text-anchor=\"middle\" x=\"3292\" y=\"-1521.8\" font-family=\"Times,serif\" font-size=\"14.00\">?</text>\n",
       "</g>\n",
       "<!-- 88&#45;&gt;132 -->\n",
       "<g id=\"edge132\" class=\"edge\">\n",
       "<title>88&#45;&gt;132</title>\n",
       "<path fill=\"none\" stroke=\"blue\" d=\"M3250.03,-1583.65C3257.73,-1573.17 3272.57,-1552.96 3282.38,-1539.6\"/>\n",
       "<polygon fill=\"blue\" stroke=\"blue\" points=\"3285.36,-1541.45 3288.46,-1531.32 3279.72,-1537.31 3285.36,-1541.45\"/>\n",
       "<text text-anchor=\"middle\" x=\"3277\" y=\"-1554.8\" font-family=\"Times,serif\" font-size=\"14.00\">1</text>\n",
       "</g>\n",
       "<!-- 90 -->\n",
       "<g id=\"node91\" class=\"node\">\n",
       "<title>90</title>\n",
       "<text text-anchor=\"middle\" x=\"2997\" y=\"-1455.8\" font-family=\"Times,serif\" font-size=\"14.00\">(25) str.substr(cgi_decode_s_str_1, 3, 1) == &quot;2&quot;</text>\n",
       "</g>\n",
       "<!-- 89&#45;&gt;90 -->\n",
       "<g id=\"edge90\" class=\"edge\">\n",
       "<title>89&#45;&gt;90</title>\n",
       "<path fill=\"none\" stroke=\"red\" d=\"M3122.54,-1517.89C3098.55,-1506.92 3050.24,-1484.84 3021.05,-1471.49\"/>\n",
       "<polygon fill=\"red\" stroke=\"red\" points=\"3022.14,-1468.14 3011.59,-1467.17 3019.23,-1474.51 3022.14,-1468.14\"/>\n",
       "<text text-anchor=\"middle\" x=\"3084\" y=\"-1488.8\" font-family=\"Times,serif\" font-size=\"14.00\">0</text>\n",
       "</g>\n",
       "<!-- 131 -->\n",
       "<g id=\"node132\" class=\"node\">\n",
       "<title>131</title>\n",
       "<text text-anchor=\"middle\" x=\"3152\" y=\"-1455.8\" font-family=\"Times,serif\" font-size=\"14.00\">?</text>\n",
       "</g>\n",
       "<!-- 89&#45;&gt;131 -->\n",
       "<g id=\"edge131\" class=\"edge\">\n",
       "<title>89&#45;&gt;131</title>\n",
       "<path fill=\"none\" stroke=\"blue\" d=\"M3138.61,-1517.65C3140.85,-1508.07 3145,-1490.38 3148.09,-1477.2\"/>\n",
       "<polygon fill=\"blue\" stroke=\"blue\" points=\"3151.58,-1477.64 3150.45,-1467.11 3144.76,-1476.05 3151.58,-1477.64\"/>\n",
       "<text text-anchor=\"middle\" x=\"3150\" y=\"-1488.8\" font-family=\"Times,serif\" font-size=\"14.00\">1</text>\n",
       "</g>\n",
       "<!-- 91 -->\n",
       "<g id=\"node92\" class=\"node\">\n",
       "<title>91</title>\n",
       "<text text-anchor=\"middle\" x=\"2846\" y=\"-1389.8\" font-family=\"Times,serif\" font-size=\"14.00\">(26) str.substr(cgi_decode_s_str_1, 3, 1) == &quot;3&quot;</text>\n",
       "</g>\n",
       "<!-- 90&#45;&gt;91 -->\n",
       "<g id=\"edge91\" class=\"edge\">\n",
       "<title>90&#45;&gt;91</title>\n",
       "<path fill=\"none\" stroke=\"red\" d=\"M2981.41,-1451.89C2955.3,-1440.83 2902.51,-1418.45 2871.11,-1405.14\"/>\n",
       "<polygon fill=\"red\" stroke=\"red\" points=\"2872.31,-1401.85 2861.73,-1401.17 2869.57,-1408.29 2872.31,-1401.85\"/>\n",
       "<text text-anchor=\"middle\" x=\"2940\" y=\"-1422.8\" font-family=\"Times,serif\" font-size=\"14.00\">0</text>\n",
       "</g>\n",
       "<!-- 130 -->\n",
       "<g id=\"node131\" class=\"node\">\n",
       "<title>130</title>\n",
       "<text text-anchor=\"middle\" x=\"3001\" y=\"-1389.8\" font-family=\"Times,serif\" font-size=\"14.00\">?</text>\n",
       "</g>\n",
       "<!-- 90&#45;&gt;130 -->\n",
       "<g id=\"edge130\" class=\"edge\">\n",
       "<title>90&#45;&gt;130</title>\n",
       "<path fill=\"none\" stroke=\"blue\" d=\"M2997.43,-1451.65C2998.03,-1442.07 2999.13,-1424.38 2999.96,-1411.2\"/>\n",
       "<polygon fill=\"blue\" stroke=\"blue\" points=\"3003.46,-1411.31 3000.59,-1401.11 2996.47,-1410.87 3003.46,-1411.31\"/>\n",
       "<text text-anchor=\"middle\" x=\"3004\" y=\"-1422.8\" font-family=\"Times,serif\" font-size=\"14.00\">1</text>\n",
       "</g>\n",
       "<!-- 92 -->\n",
       "<g id=\"node93\" class=\"node\">\n",
       "<title>92</title>\n",
       "<text text-anchor=\"middle\" x=\"2693\" y=\"-1323.8\" font-family=\"Times,serif\" font-size=\"14.00\">(27) str.substr(cgi_decode_s_str_1, 3, 1) == &quot;4&quot;</text>\n",
       "</g>\n",
       "<!-- 91&#45;&gt;92 -->\n",
       "<g id=\"edge92\" class=\"edge\">\n",
       "<title>91&#45;&gt;92</title>\n",
       "<path fill=\"none\" stroke=\"red\" d=\"M2830.2,-1385.89C2803.75,-1374.83 2750.26,-1352.45 2718.45,-1339.14\"/>\n",
       "<polygon fill=\"red\" stroke=\"red\" points=\"2719.52,-1335.8 2708.94,-1335.17 2716.82,-1342.26 2719.52,-1335.8\"/>\n",
       "<text text-anchor=\"middle\" x=\"2788\" y=\"-1356.8\" font-family=\"Times,serif\" font-size=\"14.00\">0</text>\n",
       "</g>\n",
       "<!-- 129 -->\n",
       "<g id=\"node130\" class=\"node\">\n",
       "<title>129</title>\n",
       "<text text-anchor=\"middle\" x=\"2848\" y=\"-1323.8\" font-family=\"Times,serif\" font-size=\"14.00\">?</text>\n",
       "</g>\n",
       "<!-- 91&#45;&gt;129 -->\n",
       "<g id=\"edge129\" class=\"edge\">\n",
       "<title>91&#45;&gt;129</title>\n",
       "<path fill=\"none\" stroke=\"blue\" d=\"M2846.21,-1385.65C2846.51,-1376.07 2847.07,-1358.38 2847.48,-1345.2\"/>\n",
       "<polygon fill=\"blue\" stroke=\"blue\" points=\"2850.98,-1345.21 2847.79,-1335.11 2843.98,-1344.99 2850.98,-1345.21\"/>\n",
       "<text text-anchor=\"middle\" x=\"2852\" y=\"-1356.8\" font-family=\"Times,serif\" font-size=\"14.00\">1</text>\n",
       "</g>\n",
       "<!-- 93 -->\n",
       "<g id=\"node94\" class=\"node\">\n",
       "<title>93</title>\n",
       "<text text-anchor=\"middle\" x=\"2570\" y=\"-1257.8\" font-family=\"Times,serif\" font-size=\"14.00\">(28) str.substr(cgi_decode_s_str_1, 3, 1) == &quot;5&quot;</text>\n",
       "</g>\n",
       "<!-- 92&#45;&gt;93 -->\n",
       "<g id=\"edge93\" class=\"edge\">\n",
       "<title>92&#45;&gt;93</title>\n",
       "<path fill=\"none\" stroke=\"red\" d=\"M2680.3,-1319.89C2659.4,-1309.02 2617.52,-1287.22 2591.8,-1273.84\"/>\n",
       "<polygon fill=\"red\" stroke=\"red\" points=\"2593.3,-1270.68 2582.82,-1269.17 2590.07,-1276.89 2593.3,-1270.68\"/>\n",
       "<text text-anchor=\"middle\" x=\"2647\" y=\"-1290.8\" font-family=\"Times,serif\" font-size=\"14.00\">0</text>\n",
       "</g>\n",
       "<!-- 128 -->\n",
       "<g id=\"node129\" class=\"node\">\n",
       "<title>128</title>\n",
       "<text text-anchor=\"middle\" x=\"2725\" y=\"-1257.8\" font-family=\"Times,serif\" font-size=\"14.00\">?</text>\n",
       "</g>\n",
       "<!-- 92&#45;&gt;128 -->\n",
       "<g id=\"edge128\" class=\"edge\">\n",
       "<title>92&#45;&gt;128</title>\n",
       "<path fill=\"none\" stroke=\"blue\" d=\"M2696.42,-1319.65C2701.31,-1309.88 2710.42,-1291.66 2717.04,-1278.41\"/>\n",
       "<polygon fill=\"blue\" stroke=\"blue\" points=\"2720.35,-1279.62 2721.7,-1269.11 2714.09,-1276.49 2720.35,-1279.62\"/>\n",
       "<text text-anchor=\"middle\" x=\"2716\" y=\"-1290.8\" font-family=\"Times,serif\" font-size=\"14.00\">1</text>\n",
       "</g>\n",
       "<!-- 94 -->\n",
       "<g id=\"node95\" class=\"node\">\n",
       "<title>94</title>\n",
       "<text text-anchor=\"middle\" x=\"2415\" y=\"-1191.8\" font-family=\"Times,serif\" font-size=\"14.00\">(29) str.substr(cgi_decode_s_str_1, 3, 1) == &quot;6&quot;</text>\n",
       "</g>\n",
       "<!-- 93&#45;&gt;94 -->\n",
       "<g id=\"edge94\" class=\"edge\">\n",
       "<title>93&#45;&gt;94</title>\n",
       "<path fill=\"none\" stroke=\"red\" d=\"M2554,-1253.89C2527.19,-1242.83 2473.01,-1220.45 2440.78,-1207.14\"/>\n",
       "<polygon fill=\"red\" stroke=\"red\" points=\"2441.73,-1203.75 2431.15,-1203.17 2439.06,-1210.22 2441.73,-1203.75\"/>\n",
       "<text text-anchor=\"middle\" x=\"2511\" y=\"-1224.8\" font-family=\"Times,serif\" font-size=\"14.00\">0</text>\n",
       "</g>\n",
       "<!-- 127 -->\n",
       "<g id=\"node128\" class=\"node\">\n",
       "<title>127</title>\n",
       "<text text-anchor=\"middle\" x=\"2570\" y=\"-1191.8\" font-family=\"Times,serif\" font-size=\"14.00\">?</text>\n",
       "</g>\n",
       "<!-- 93&#45;&gt;127 -->\n",
       "<g id=\"edge127\" class=\"edge\">\n",
       "<title>93&#45;&gt;127</title>\n",
       "<path fill=\"none\" stroke=\"blue\" d=\"M2570,-1253.65C2570,-1244.07 2570,-1226.38 2570,-1213.2\"/>\n",
       "<polygon fill=\"blue\" stroke=\"blue\" points=\"2573.5,-1213.11 2570,-1203.11 2566.5,-1213.11 2573.5,-1213.11\"/>\n",
       "<text text-anchor=\"middle\" x=\"2574\" y=\"-1224.8\" font-family=\"Times,serif\" font-size=\"14.00\">1</text>\n",
       "</g>\n",
       "<!-- 95 -->\n",
       "<g id=\"node96\" class=\"node\">\n",
       "<title>95</title>\n",
       "<text text-anchor=\"middle\" x=\"2260\" y=\"-1125.8\" font-family=\"Times,serif\" font-size=\"14.00\">(30) str.substr(cgi_decode_s_str_1, 3, 1) == &quot;7&quot;</text>\n",
       "</g>\n",
       "<!-- 94&#45;&gt;95 -->\n",
       "<g id=\"edge95\" class=\"edge\">\n",
       "<title>94&#45;&gt;95</title>\n",
       "<path fill=\"none\" stroke=\"red\" d=\"M2399,-1187.89C2372.19,-1176.83 2318.01,-1154.45 2285.78,-1141.14\"/>\n",
       "<polygon fill=\"red\" stroke=\"red\" points=\"2286.73,-1137.75 2276.15,-1137.17 2284.06,-1144.22 2286.73,-1137.75\"/>\n",
       "<text text-anchor=\"middle\" x=\"2356\" y=\"-1158.8\" font-family=\"Times,serif\" font-size=\"14.00\">0</text>\n",
       "</g>\n",
       "<!-- 126 -->\n",
       "<g id=\"node127\" class=\"node\">\n",
       "<title>126</title>\n",
       "<text text-anchor=\"middle\" x=\"2415\" y=\"-1125.8\" font-family=\"Times,serif\" font-size=\"14.00\">?</text>\n",
       "</g>\n",
       "<!-- 94&#45;&gt;126 -->\n",
       "<g id=\"edge126\" class=\"edge\">\n",
       "<title>94&#45;&gt;126</title>\n",
       "<path fill=\"none\" stroke=\"blue\" d=\"M2415,-1187.65C2415,-1178.07 2415,-1160.38 2415,-1147.2\"/>\n",
       "<polygon fill=\"blue\" stroke=\"blue\" points=\"2418.5,-1147.11 2415,-1137.11 2411.5,-1147.11 2418.5,-1147.11\"/>\n",
       "<text text-anchor=\"middle\" x=\"2419\" y=\"-1158.8\" font-family=\"Times,serif\" font-size=\"14.00\">1</text>\n",
       "</g>\n",
       "<!-- 96 -->\n",
       "<g id=\"node97\" class=\"node\">\n",
       "<title>96</title>\n",
       "<text text-anchor=\"middle\" x=\"2191\" y=\"-1059.8\" font-family=\"Times,serif\" font-size=\"14.00\">(31) str.substr(cgi_decode_s_str_1, 3, 1) == &quot;8&quot;</text>\n",
       "</g>\n",
       "<!-- 95&#45;&gt;96 -->\n",
       "<g id=\"edge96\" class=\"edge\">\n",
       "<title>95&#45;&gt;96</title>\n",
       "<path fill=\"none\" stroke=\"red\" d=\"M2252.88,-1121.89C2241.82,-1111.64 2220.31,-1091.68 2205.79,-1078.22\"/>\n",
       "<polygon fill=\"red\" stroke=\"red\" points=\"2207.9,-1075.4 2198.19,-1071.17 2203.14,-1080.53 2207.9,-1075.4\"/>\n",
       "<text text-anchor=\"middle\" x=\"2236\" y=\"-1092.8\" font-family=\"Times,serif\" font-size=\"14.00\">0</text>\n",
       "</g>\n",
       "<!-- 125 -->\n",
       "<g id=\"node126\" class=\"node\">\n",
       "<title>125</title>\n",
       "<text text-anchor=\"middle\" x=\"2346\" y=\"-1059.8\" font-family=\"Times,serif\" font-size=\"14.00\">?</text>\n",
       "</g>\n",
       "<!-- 95&#45;&gt;125 -->\n",
       "<g id=\"edge125\" class=\"edge\">\n",
       "<title>95&#45;&gt;125</title>\n",
       "<path fill=\"none\" stroke=\"blue\" d=\"M2268.88,-1121.89C2284.38,-1110.36 2316.38,-1086.54 2333.89,-1073.51\"/>\n",
       "<polygon fill=\"blue\" stroke=\"blue\" points=\"2336.36,-1076.03 2342.3,-1067.26 2332.19,-1070.42 2336.36,-1076.03\"/>\n",
       "<text text-anchor=\"middle\" x=\"2315\" y=\"-1092.8\" font-family=\"Times,serif\" font-size=\"14.00\">1</text>\n",
       "</g>\n",
       "<!-- 97 -->\n",
       "<g id=\"node98\" class=\"node\">\n",
       "<title>97</title>\n",
       "<text text-anchor=\"middle\" x=\"2059\" y=\"-993.8\" font-family=\"Times,serif\" font-size=\"14.00\">(32) str.substr(cgi_decode_s_str_1, 3, 1) == &quot;9&quot;</text>\n",
       "</g>\n",
       "<!-- 96&#45;&gt;97 -->\n",
       "<g id=\"edge97\" class=\"edge\">\n",
       "<title>96&#45;&gt;97</title>\n",
       "<path fill=\"none\" stroke=\"red\" d=\"M2177.37,-1055.89C2154.84,-1044.97 2109.6,-1023.03 2082.03,-1009.67\"/>\n",
       "<polygon fill=\"red\" stroke=\"red\" points=\"2083.28,-1006.38 2072.75,-1005.17 2080.22,-1012.68 2083.28,-1006.38\"/>\n",
       "<text text-anchor=\"middle\" x=\"2141\" y=\"-1026.8\" font-family=\"Times,serif\" font-size=\"14.00\">0</text>\n",
       "</g>\n",
       "<!-- 124 -->\n",
       "<g id=\"node125\" class=\"node\">\n",
       "<title>124</title>\n",
       "<text text-anchor=\"middle\" x=\"2214\" y=\"-993.8\" font-family=\"Times,serif\" font-size=\"14.00\">?</text>\n",
       "</g>\n",
       "<!-- 96&#45;&gt;124 -->\n",
       "<g id=\"edge124\" class=\"edge\">\n",
       "<title>96&#45;&gt;124</title>\n",
       "<path fill=\"none\" stroke=\"blue\" d=\"M2193.46,-1055.65C2196.94,-1045.98 2203.39,-1028.02 2208.14,-1014.81\"/>\n",
       "<polygon fill=\"blue\" stroke=\"blue\" points=\"2211.54,-1015.7 2211.63,-1005.11 2204.95,-1013.34 2211.54,-1015.7\"/>\n",
       "<text text-anchor=\"middle\" x=\"2209\" y=\"-1026.8\" font-family=\"Times,serif\" font-size=\"14.00\">1</text>\n",
       "</g>\n",
       "<!-- 98 -->\n",
       "<g id=\"node99\" class=\"node\">\n",
       "<title>98</title>\n",
       "<text text-anchor=\"middle\" x=\"1940\" y=\"-927.8\" font-family=\"Times,serif\" font-size=\"14.00\">(33) str.substr(cgi_decode_s_str_1, 3, 1) == &quot;a&quot;</text>\n",
       "</g>\n",
       "<!-- 97&#45;&gt;98 -->\n",
       "<g id=\"edge98\" class=\"edge\">\n",
       "<title>97&#45;&gt;98</title>\n",
       "<path fill=\"none\" stroke=\"red\" d=\"M2046.71,-989.89C2026.58,-979.07 1986.33,-957.42 1961.42,-944.02\"/>\n",
       "<polygon fill=\"red\" stroke=\"red\" points=\"1962.86,-940.82 1952.4,-939.17 1959.55,-946.99 1962.86,-940.82\"/>\n",
       "<text text-anchor=\"middle\" x=\"2015\" y=\"-960.8\" font-family=\"Times,serif\" font-size=\"14.00\">0</text>\n",
       "</g>\n",
       "<!-- 123 -->\n",
       "<g id=\"node124\" class=\"node\">\n",
       "<title>123</title>\n",
       "<text text-anchor=\"middle\" x=\"2095\" y=\"-927.8\" font-family=\"Times,serif\" font-size=\"14.00\">?</text>\n",
       "</g>\n",
       "<!-- 97&#45;&gt;123 -->\n",
       "<g id=\"edge123\" class=\"edge\">\n",
       "<title>97&#45;&gt;123</title>\n",
       "<path fill=\"none\" stroke=\"blue\" d=\"M2062.85,-989.65C2068.46,-979.68 2079.02,-960.91 2086.5,-947.6\"/>\n",
       "<polygon fill=\"blue\" stroke=\"blue\" points=\"2089.64,-949.16 2091.49,-938.73 2083.54,-945.73 2089.64,-949.16\"/>\n",
       "<text text-anchor=\"middle\" x=\"2085\" y=\"-960.8\" font-family=\"Times,serif\" font-size=\"14.00\">1</text>\n",
       "</g>\n",
       "<!-- 99 -->\n",
       "<g id=\"node100\" class=\"node\">\n",
       "<title>99</title>\n",
       "<text text-anchor=\"middle\" x=\"1800\" y=\"-861.8\" font-family=\"Times,serif\" font-size=\"14.00\">(34) str.substr(cgi_decode_s_str_1, 3, 1) == &quot;b&quot;</text>\n",
       "</g>\n",
       "<!-- 98&#45;&gt;99 -->\n",
       "<g id=\"edge99\" class=\"edge\">\n",
       "<title>98&#45;&gt;99</title>\n",
       "<path fill=\"none\" stroke=\"red\" d=\"M1925.54,-923.89C1901.55,-912.92 1853.24,-890.84 1824.05,-877.49\"/>\n",
       "<polygon fill=\"red\" stroke=\"red\" points=\"1825.14,-874.14 1814.59,-873.17 1822.23,-880.51 1825.14,-874.14\"/>\n",
       "<text text-anchor=\"middle\" x=\"1887\" y=\"-894.8\" font-family=\"Times,serif\" font-size=\"14.00\">0</text>\n",
       "</g>\n",
       "<!-- 122 -->\n",
       "<g id=\"node123\" class=\"node\">\n",
       "<title>122</title>\n",
       "<text text-anchor=\"middle\" x=\"1955\" y=\"-861.8\" font-family=\"Times,serif\" font-size=\"14.00\">?</text>\n",
       "</g>\n",
       "<!-- 98&#45;&gt;122 -->\n",
       "<g id=\"edge122\" class=\"edge\">\n",
       "<title>98&#45;&gt;122</title>\n",
       "<path fill=\"none\" stroke=\"blue\" d=\"M1941.61,-923.65C1943.85,-914.07 1948,-896.38 1951.09,-883.2\"/>\n",
       "<polygon fill=\"blue\" stroke=\"blue\" points=\"1954.58,-883.64 1953.45,-873.11 1947.76,-882.05 1954.58,-883.64\"/>\n",
       "<text text-anchor=\"middle\" x=\"1953\" y=\"-894.8\" font-family=\"Times,serif\" font-size=\"14.00\">1</text>\n",
       "</g>\n",
       "<!-- 100 -->\n",
       "<g id=\"node101\" class=\"node\">\n",
       "<title>100</title>\n",
       "<text text-anchor=\"middle\" x=\"1652\" y=\"-795.8\" font-family=\"Times,serif\" font-size=\"14.00\">(35) str.substr(cgi_decode_s_str_1, 3, 1) == &quot;c&quot;</text>\n",
       "</g>\n",
       "<!-- 99&#45;&gt;100 -->\n",
       "<g id=\"edge100\" class=\"edge\">\n",
       "<title>99&#45;&gt;100</title>\n",
       "<path fill=\"none\" stroke=\"red\" d=\"M1784.72,-857.89C1759.13,-846.83 1707.39,-824.45 1676.62,-811.14\"/>\n",
       "<polygon fill=\"red\" stroke=\"red\" points=\"1677.99,-807.92 1667.42,-807.17 1675.21,-814.35 1677.99,-807.92\"/>\n",
       "<text text-anchor=\"middle\" x=\"1744\" y=\"-828.8\" font-family=\"Times,serif\" font-size=\"14.00\">0</text>\n",
       "</g>\n",
       "<!-- 121 -->\n",
       "<g id=\"node122\" class=\"node\">\n",
       "<title>121</title>\n",
       "<text text-anchor=\"middle\" x=\"1807\" y=\"-795.8\" font-family=\"Times,serif\" font-size=\"14.00\">?</text>\n",
       "</g>\n",
       "<!-- 99&#45;&gt;121 -->\n",
       "<g id=\"edge121\" class=\"edge\">\n",
       "<title>99&#45;&gt;121</title>\n",
       "<path fill=\"none\" stroke=\"blue\" d=\"M1800.75,-857.65C1801.8,-848.07 1803.73,-830.38 1805.17,-817.2\"/>\n",
       "<polygon fill=\"blue\" stroke=\"blue\" points=\"1808.67,-817.43 1806.28,-807.11 1801.71,-816.67 1808.67,-817.43\"/>\n",
       "<text text-anchor=\"middle\" x=\"1809\" y=\"-828.8\" font-family=\"Times,serif\" font-size=\"14.00\">1</text>\n",
       "</g>\n",
       "<!-- 101 -->\n",
       "<g id=\"node102\" class=\"node\">\n",
       "<title>101</title>\n",
       "<text text-anchor=\"middle\" x=\"1520\" y=\"-729.8\" font-family=\"Times,serif\" font-size=\"14.00\">(36) str.substr(cgi_decode_s_str_1, 3, 1) == &quot;d&quot;</text>\n",
       "</g>\n",
       "<!-- 100&#45;&gt;101 -->\n",
       "<g id=\"edge101\" class=\"edge\">\n",
       "<title>100&#45;&gt;101</title>\n",
       "<path fill=\"none\" stroke=\"red\" d=\"M1638.37,-791.89C1615.84,-780.97 1570.6,-759.03 1543.03,-745.67\"/>\n",
       "<polygon fill=\"red\" stroke=\"red\" points=\"1544.28,-742.38 1533.75,-741.17 1541.22,-748.68 1544.28,-742.38\"/>\n",
       "<text text-anchor=\"middle\" x=\"1602\" y=\"-762.8\" font-family=\"Times,serif\" font-size=\"14.00\">0</text>\n",
       "</g>\n",
       "<!-- 120 -->\n",
       "<g id=\"node121\" class=\"node\">\n",
       "<title>120</title>\n",
       "<text text-anchor=\"middle\" x=\"1675\" y=\"-729.8\" font-family=\"Times,serif\" font-size=\"14.00\">?</text>\n",
       "</g>\n",
       "<!-- 100&#45;&gt;120 -->\n",
       "<g id=\"edge120\" class=\"edge\">\n",
       "<title>100&#45;&gt;120</title>\n",
       "<path fill=\"none\" stroke=\"blue\" d=\"M1654.46,-791.65C1657.94,-781.98 1664.39,-764.02 1669.14,-750.81\"/>\n",
       "<polygon fill=\"blue\" stroke=\"blue\" points=\"1672.54,-751.7 1672.63,-741.11 1665.95,-749.34 1672.54,-751.7\"/>\n",
       "<text text-anchor=\"middle\" x=\"1670\" y=\"-762.8\" font-family=\"Times,serif\" font-size=\"14.00\">1</text>\n",
       "</g>\n",
       "<!-- 102 -->\n",
       "<g id=\"node103\" class=\"node\">\n",
       "<title>102</title>\n",
       "<text text-anchor=\"middle\" x=\"1417\" y=\"-663.8\" font-family=\"Times,serif\" font-size=\"14.00\">(37) str.substr(cgi_decode_s_str_1, 3, 1) == &quot;e&quot;</text>\n",
       "</g>\n",
       "<!-- 101&#45;&gt;102 -->\n",
       "<g id=\"edge102\" class=\"edge\">\n",
       "<title>101&#45;&gt;102</title>\n",
       "<path fill=\"none\" stroke=\"red\" d=\"M1509.37,-725.89C1492.17,-715.21 1458.02,-693.99 1436.41,-680.56\"/>\n",
       "<polygon fill=\"red\" stroke=\"red\" points=\"1438.07,-677.47 1427.73,-675.17 1434.38,-683.42 1438.07,-677.47\"/>\n",
       "<text text-anchor=\"middle\" x=\"1482\" y=\"-696.8\" font-family=\"Times,serif\" font-size=\"14.00\">0</text>\n",
       "</g>\n",
       "<!-- 119 -->\n",
       "<g id=\"node120\" class=\"node\">\n",
       "<title>119</title>\n",
       "<text text-anchor=\"middle\" x=\"1572\" y=\"-663.8\" font-family=\"Times,serif\" font-size=\"14.00\">?</text>\n",
       "</g>\n",
       "<!-- 101&#45;&gt;119 -->\n",
       "<g id=\"edge119\" class=\"edge\">\n",
       "<title>101&#45;&gt;119</title>\n",
       "<path fill=\"none\" stroke=\"blue\" d=\"M1525.56,-725.65C1534.25,-714.96 1551.15,-694.16 1561.99,-680.81\"/>\n",
       "<polygon fill=\"blue\" stroke=\"blue\" points=\"1564.76,-682.96 1568.35,-672.99 1559.33,-678.54 1564.76,-682.96\"/>\n",
       "<text text-anchor=\"middle\" x=\"1555\" y=\"-696.8\" font-family=\"Times,serif\" font-size=\"14.00\">1</text>\n",
       "</g>\n",
       "<!-- 103 -->\n",
       "<g id=\"node104\" class=\"node\">\n",
       "<title>103</title>\n",
       "<text text-anchor=\"middle\" x=\"1308\" y=\"-597.8\" font-family=\"Times,serif\" font-size=\"14.00\">(38) str.substr(cgi_decode_s_str_1, 3, 1) == &quot;f&quot;</text>\n",
       "</g>\n",
       "<!-- 102&#45;&gt;103 -->\n",
       "<g id=\"edge103\" class=\"edge\">\n",
       "<title>102&#45;&gt;103</title>\n",
       "<path fill=\"none\" stroke=\"red\" d=\"M1405.75,-659.89C1387.47,-649.16 1351.09,-627.8 1328.23,-614.38\"/>\n",
       "<polygon fill=\"red\" stroke=\"red\" points=\"1329.75,-611.21 1319.36,-609.17 1326.21,-617.25 1329.75,-611.21\"/>\n",
       "<text text-anchor=\"middle\" x=\"1377\" y=\"-630.8\" font-family=\"Times,serif\" font-size=\"14.00\">0</text>\n",
       "</g>\n",
       "<!-- 118 -->\n",
       "<g id=\"node119\" class=\"node\">\n",
       "<title>118</title>\n",
       "<text text-anchor=\"middle\" x=\"1462\" y=\"-597.8\" font-family=\"Times,serif\" font-size=\"14.00\">?</text>\n",
       "</g>\n",
       "<!-- 102&#45;&gt;118 -->\n",
       "<g id=\"edge118\" class=\"edge\">\n",
       "<title>102&#45;&gt;118</title>\n",
       "<path fill=\"none\" stroke=\"blue\" d=\"M1421.82,-659.65C1429.11,-649.27 1443.12,-629.36 1452.51,-616\"/>\n",
       "<polygon fill=\"blue\" stroke=\"blue\" points=\"1455.49,-617.85 1458.37,-607.66 1449.76,-613.82 1455.49,-617.85\"/>\n",
       "<text text-anchor=\"middle\" x=\"1448\" y=\"-630.8\" font-family=\"Times,serif\" font-size=\"14.00\">1</text>\n",
       "</g>\n",
       "<!-- 104 -->\n",
       "<g id=\"node105\" class=\"node\">\n",
       "<title>104</title>\n",
       "<text text-anchor=\"middle\" x=\"1297\" y=\"-531.8\" font-family=\"Times,serif\" font-size=\"14.00\">(39) str.substr(cgi_decode_s_str_1, 3, 1) == &quot;A&quot;</text>\n",
       "</g>\n",
       "<!-- 103&#45;&gt;104 -->\n",
       "<g id=\"edge104\" class=\"edge\">\n",
       "<title>103&#45;&gt;104</title>\n",
       "<path fill=\"none\" stroke=\"red\" d=\"M1306.82,-593.65C1305.18,-584.07 1302.14,-566.38 1299.87,-553.2\"/>\n",
       "<polygon fill=\"red\" stroke=\"red\" points=\"1303.28,-552.37 1298.14,-543.11 1296.38,-553.56 1303.28,-552.37\"/>\n",
       "<text text-anchor=\"middle\" x=\"1308\" y=\"-564.8\" font-family=\"Times,serif\" font-size=\"14.00\">0</text>\n",
       "</g>\n",
       "<!-- 117 -->\n",
       "<g id=\"node118\" class=\"node\">\n",
       "<title>117</title>\n",
       "<text text-anchor=\"middle\" x=\"1454\" y=\"-531.8\" font-family=\"Times,serif\" font-size=\"14.00\">?</text>\n",
       "</g>\n",
       "<!-- 103&#45;&gt;117 -->\n",
       "<g id=\"edge117\" class=\"edge\">\n",
       "<title>103&#45;&gt;117</title>\n",
       "<path fill=\"none\" stroke=\"blue\" d=\"M1324.1,-593.88C1349.24,-583.47 1399.27,-562.44 1441,-543 1441.1,-542.95 1441.19,-542.91 1441.29,-542.86\"/>\n",
       "<polygon fill=\"blue\" stroke=\"blue\" points=\"1442.74,-546.05 1450.16,-538.49 1439.64,-539.77 1442.74,-546.05\"/>\n",
       "<text text-anchor=\"middle\" x=\"1406\" y=\"-564.8\" font-family=\"Times,serif\" font-size=\"14.00\">1</text>\n",
       "</g>\n",
       "<!-- 105 -->\n",
       "<g id=\"node106\" class=\"node\">\n",
       "<title>105</title>\n",
       "<text text-anchor=\"middle\" x=\"1156\" y=\"-465.8\" font-family=\"Times,serif\" font-size=\"14.00\">(40) str.substr(cgi_decode_s_str_1, 3, 1) == &quot;B&quot;</text>\n",
       "</g>\n",
       "<!-- 104&#45;&gt;105 -->\n",
       "<g id=\"edge105\" class=\"edge\">\n",
       "<title>104&#45;&gt;105</title>\n",
       "<path fill=\"none\" stroke=\"red\" d=\"M1282.44,-527.89C1258.17,-516.87 1209.2,-494.65 1179.83,-481.32\"/>\n",
       "<polygon fill=\"red\" stroke=\"red\" points=\"1181.24,-478.11 1170.69,-477.17 1178.35,-484.49 1181.24,-478.11\"/>\n",
       "<text text-anchor=\"middle\" x=\"1244\" y=\"-498.8\" font-family=\"Times,serif\" font-size=\"14.00\">0</text>\n",
       "</g>\n",
       "<!-- 116 -->\n",
       "<g id=\"node117\" class=\"node\">\n",
       "<title>116</title>\n",
       "<text text-anchor=\"middle\" x=\"1313\" y=\"-465.8\" font-family=\"Times,serif\" font-size=\"14.00\">?</text>\n",
       "</g>\n",
       "<!-- 104&#45;&gt;116 -->\n",
       "<g id=\"edge116\" class=\"edge\">\n",
       "<title>104&#45;&gt;116</title>\n",
       "<path fill=\"none\" stroke=\"blue\" d=\"M1298.71,-527.65C1301.11,-518.07 1305.53,-500.38 1308.82,-487.2\"/>\n",
       "<polygon fill=\"blue\" stroke=\"blue\" points=\"1312.32,-487.66 1311.35,-477.11 1305.53,-485.96 1312.32,-487.66\"/>\n",
       "<text text-anchor=\"middle\" x=\"1311\" y=\"-498.8\" font-family=\"Times,serif\" font-size=\"14.00\">1</text>\n",
       "</g>\n",
       "<!-- 106 -->\n",
       "<g id=\"node107\" class=\"node\">\n",
       "<title>106</title>\n",
       "<text text-anchor=\"middle\" x=\"1000\" y=\"-399.8\" font-family=\"Times,serif\" font-size=\"14.00\">(41) str.substr(cgi_decode_s_str_1, 3, 1) == &quot;C&quot;</text>\n",
       "</g>\n",
       "<!-- 105&#45;&gt;106 -->\n",
       "<g id=\"edge106\" class=\"edge\">\n",
       "<title>105&#45;&gt;106</title>\n",
       "<path fill=\"none\" stroke=\"red\" d=\"M1139.89,-461.89C1112.8,-450.78 1057.91,-428.26 1025.53,-414.97\"/>\n",
       "<polygon fill=\"red\" stroke=\"red\" points=\"1026.83,-411.73 1016.25,-411.17 1024.18,-418.2 1026.83,-411.73\"/>\n",
       "<text text-anchor=\"middle\" x=\"1096\" y=\"-432.8\" font-family=\"Times,serif\" font-size=\"14.00\">0</text>\n",
       "</g>\n",
       "<!-- 115 -->\n",
       "<g id=\"node116\" class=\"node\">\n",
       "<title>115</title>\n",
       "<text text-anchor=\"middle\" x=\"1157\" y=\"-399.8\" font-family=\"Times,serif\" font-size=\"14.00\">?</text>\n",
       "</g>\n",
       "<!-- 105&#45;&gt;115 -->\n",
       "<g id=\"edge115\" class=\"edge\">\n",
       "<title>105&#45;&gt;115</title>\n",
       "<path fill=\"none\" stroke=\"blue\" d=\"M1156.11,-461.65C1156.26,-452.07 1156.53,-434.38 1156.74,-421.2\"/>\n",
       "<polygon fill=\"blue\" stroke=\"blue\" points=\"1160.24,-421.16 1156.9,-411.11 1153.24,-421.05 1160.24,-421.16\"/>\n",
       "<text text-anchor=\"middle\" x=\"1161\" y=\"-432.8\" font-family=\"Times,serif\" font-size=\"14.00\">1</text>\n",
       "</g>\n",
       "<!-- 107 -->\n",
       "<g id=\"node108\" class=\"node\">\n",
       "<title>107</title>\n",
       "<text text-anchor=\"middle\" x=\"859\" y=\"-333.8\" font-family=\"Times,serif\" font-size=\"14.00\">(42) str.substr(cgi_decode_s_str_1, 3, 1) == &quot;D&quot;</text>\n",
       "</g>\n",
       "<!-- 106&#45;&gt;107 -->\n",
       "<g id=\"edge107\" class=\"edge\">\n",
       "<title>106&#45;&gt;107</title>\n",
       "<path fill=\"none\" stroke=\"red\" d=\"M985.44,-395.89C961.17,-384.87 912.2,-362.65 882.83,-349.32\"/>\n",
       "<polygon fill=\"red\" stroke=\"red\" points=\"884.24,-346.11 873.69,-345.17 881.35,-352.49 884.24,-346.11\"/>\n",
       "<text text-anchor=\"middle\" x=\"947\" y=\"-366.8\" font-family=\"Times,serif\" font-size=\"14.00\">0</text>\n",
       "</g>\n",
       "<!-- 114 -->\n",
       "<g id=\"node115\" class=\"node\">\n",
       "<title>114</title>\n",
       "<text text-anchor=\"middle\" x=\"1016\" y=\"-333.8\" font-family=\"Times,serif\" font-size=\"14.00\">?</text>\n",
       "</g>\n",
       "<!-- 106&#45;&gt;114 -->\n",
       "<g id=\"edge114\" class=\"edge\">\n",
       "<title>106&#45;&gt;114</title>\n",
       "<path fill=\"none\" stroke=\"blue\" d=\"M1001.71,-395.65C1004.11,-386.07 1008.53,-368.38 1011.82,-355.2\"/>\n",
       "<polygon fill=\"blue\" stroke=\"blue\" points=\"1015.32,-355.66 1014.35,-345.11 1008.53,-353.96 1015.32,-355.66\"/>\n",
       "<text text-anchor=\"middle\" x=\"1014\" y=\"-366.8\" font-family=\"Times,serif\" font-size=\"14.00\">1</text>\n",
       "</g>\n",
       "<!-- 108 -->\n",
       "<g id=\"node109\" class=\"node\">\n",
       "<title>108</title>\n",
       "<text text-anchor=\"middle\" x=\"775\" y=\"-267.8\" font-family=\"Times,serif\" font-size=\"14.00\">(43) str.substr(cgi_decode_s_str_1, 3, 1) == &quot;E&quot;</text>\n",
       "</g>\n",
       "<!-- 107&#45;&gt;108 -->\n",
       "<g id=\"edge108\" class=\"edge\">\n",
       "<title>107&#45;&gt;108</title>\n",
       "<path fill=\"none\" stroke=\"red\" d=\"M850.33,-329.89C836.62,-319.45 809.7,-298.93 792.03,-285.47\"/>\n",
       "<polygon fill=\"red\" stroke=\"red\" points=\"793.83,-282.44 783.75,-279.17 789.58,-288.01 793.83,-282.44\"/>\n",
       "<text text-anchor=\"middle\" x=\"829\" y=\"-300.8\" font-family=\"Times,serif\" font-size=\"14.00\">0</text>\n",
       "</g>\n",
       "<!-- 113 -->\n",
       "<g id=\"node114\" class=\"node\">\n",
       "<title>113</title>\n",
       "<text text-anchor=\"middle\" x=\"966\" y=\"-267.8\" font-family=\"Times,serif\" font-size=\"14.00\">* +%DD\\x00</text>\n",
       "</g>\n",
       "<!-- 107&#45;&gt;113 -->\n",
       "<g id=\"edge113\" class=\"edge\">\n",
       "<title>107&#45;&gt;113</title>\n",
       "<path fill=\"none\" stroke=\"blue\" d=\"M870.05,-329.89C887.99,-319.16 923.71,-297.8 946.14,-284.38\"/>\n",
       "<polygon fill=\"blue\" stroke=\"blue\" points=\"948.07,-287.3 954.85,-279.17 944.47,-281.3 948.07,-287.3\"/>\n",
       "<text text-anchor=\"middle\" x=\"927\" y=\"-300.8\" font-family=\"Times,serif\" font-size=\"14.00\">1</text>\n",
       "</g>\n",
       "<!-- 109 -->\n",
       "<g id=\"node110\" class=\"node\">\n",
       "<title>109</title>\n",
       "<text text-anchor=\"middle\" x=\"696\" y=\"-201.8\" font-family=\"Times,serif\" font-size=\"14.00\">(44) str.substr(cgi_decode_s_str_1, 3, 1) == &quot;F&quot;</text>\n",
       "</g>\n",
       "<!-- 108&#45;&gt;109 -->\n",
       "<g id=\"edge109\" class=\"edge\">\n",
       "<title>108&#45;&gt;109</title>\n",
       "<path fill=\"none\" stroke=\"red\" d=\"M766.84,-263.89C753.95,-253.45 728.63,-232.93 712.01,-219.47\"/>\n",
       "<polygon fill=\"red\" stroke=\"red\" points=\"714.2,-216.74 704.23,-213.17 709.8,-222.18 714.2,-216.74\"/>\n",
       "<text text-anchor=\"middle\" x=\"747\" y=\"-234.8\" font-family=\"Times,serif\" font-size=\"14.00\">0</text>\n",
       "</g>\n",
       "<!-- 112 -->\n",
       "<g id=\"node113\" class=\"node\">\n",
       "<title>112</title>\n",
       "<text text-anchor=\"middle\" x=\"885\" y=\"-201.8\" font-family=\"Times,serif\" font-size=\"14.00\">* +%DE\\x00</text>\n",
       "</g>\n",
       "<!-- 108&#45;&gt;112 -->\n",
       "<g id=\"edge112\" class=\"edge\">\n",
       "<title>108&#45;&gt;112</title>\n",
       "<path fill=\"none\" stroke=\"blue\" d=\"M786.36,-263.89C804.88,-253.11 841.85,-231.61 864.89,-218.2\"/>\n",
       "<polygon fill=\"blue\" stroke=\"blue\" points=\"866.66,-221.22 873.54,-213.17 863.14,-215.17 866.66,-221.22\"/>\n",
       "<text text-anchor=\"middle\" x=\"844\" y=\"-234.8\" font-family=\"Times,serif\" font-size=\"14.00\">1</text>\n",
       "</g>\n",
       "<!-- 110 -->\n",
       "<g id=\"node111\" class=\"node\">\n",
       "<title>110</title>\n",
       "<text text-anchor=\"middle\" x=\"668\" y=\"-135.8\" font-family=\"Times,serif\" font-size=\"14.00\">* +%D\\x00</text>\n",
       "</g>\n",
       "<!-- 109&#45;&gt;110 -->\n",
       "<g id=\"edge110\" class=\"edge\">\n",
       "<title>109&#45;&gt;110</title>\n",
       "<path fill=\"none\" stroke=\"red\" d=\"M693,-197.65C688.73,-187.88 680.76,-169.66 674.96,-156.41\"/>\n",
       "<polygon fill=\"red\" stroke=\"red\" points=\"678.11,-154.87 670.89,-147.11 671.69,-157.67 678.11,-154.87\"/>\n",
       "<text text-anchor=\"middle\" x=\"689\" y=\"-168.8\" font-family=\"Times,serif\" font-size=\"14.00\">0</text>\n",
       "</g>\n",
       "<!-- 111 -->\n",
       "<g id=\"node112\" class=\"node\">\n",
       "<title>111</title>\n",
       "<text text-anchor=\"middle\" x=\"723\" y=\"-135.8\" font-family=\"Times,serif\" font-size=\"14.00\">?</text>\n",
       "</g>\n",
       "<!-- 109&#45;&gt;111 -->\n",
       "<g id=\"edge111\" class=\"edge\">\n",
       "<title>109&#45;&gt;111</title>\n",
       "<path fill=\"none\" stroke=\"blue\" d=\"M698.89,-197.65C703.01,-187.88 710.7,-169.66 716.29,-156.41\"/>\n",
       "<polygon fill=\"blue\" stroke=\"blue\" points=\"719.55,-157.68 720.21,-147.11 713.1,-154.96 719.55,-157.68\"/>\n",
       "<text text-anchor=\"middle\" x=\"716\" y=\"-168.8\" font-family=\"Times,serif\" font-size=\"14.00\">1</text>\n",
       "</g>\n",
       "<!-- 134 -->\n",
       "<g id=\"node135\" class=\"node\">\n",
       "<title>134</title>\n",
       "<text text-anchor=\"middle\" x=\"3530\" y=\"-1587.8\" font-family=\"Times,serif\" font-size=\"14.00\">(23) str.substr(cgi_decode_s_str_1, 3, 1) == &quot;1&quot;</text>\n",
       "</g>\n",
       "<!-- 133&#45;&gt;134 -->\n",
       "<g id=\"edge134\" class=\"edge\">\n",
       "<title>133&#45;&gt;134</title>\n",
       "<path fill=\"none\" stroke=\"red\" d=\"M3530.89,-1649.65C3530.74,-1640.07 3530.47,-1622.38 3530.26,-1609.2\"/>\n",
       "<polygon fill=\"red\" stroke=\"red\" points=\"3533.76,-1609.05 3530.1,-1599.11 3526.76,-1609.16 3533.76,-1609.05\"/>\n",
       "<text text-anchor=\"middle\" x=\"3535\" y=\"-1620.8\" font-family=\"Times,serif\" font-size=\"14.00\">0</text>\n",
       "</g>\n",
       "<!-- 177 -->\n",
       "<g id=\"node178\" class=\"node\">\n",
       "<title>177</title>\n",
       "<text text-anchor=\"middle\" x=\"3685\" y=\"-1587.8\" font-family=\"Times,serif\" font-size=\"14.00\">?</text>\n",
       "</g>\n",
       "<!-- 133&#45;&gt;177 -->\n",
       "<g id=\"edge177\" class=\"edge\">\n",
       "<title>133&#45;&gt;177</title>\n",
       "<path fill=\"none\" stroke=\"blue\" d=\"M3548.55,-1649.84C3575.4,-1639.54 3628.17,-1618.86 3672,-1599 3672.1,-1598.96 3672.2,-1598.91 3672.29,-1598.87\"/>\n",
       "<polygon fill=\"blue\" stroke=\"blue\" points=\"3673.73,-1602.06 3681.17,-1594.51 3670.65,-1595.77 3673.73,-1602.06\"/>\n",
       "<text text-anchor=\"middle\" x=\"3634\" y=\"-1620.8\" font-family=\"Times,serif\" font-size=\"14.00\">1</text>\n",
       "</g>\n",
       "<!-- 135 -->\n",
       "<g id=\"node136\" class=\"node\">\n",
       "<title>135</title>\n",
       "<text text-anchor=\"middle\" x=\"3454\" y=\"-1521.8\" font-family=\"Times,serif\" font-size=\"14.00\">(24) str.substr(cgi_decode_s_str_1, 3, 1) == &quot;2&quot;</text>\n",
       "</g>\n",
       "<!-- 134&#45;&gt;135 -->\n",
       "<g id=\"edge135\" class=\"edge\">\n",
       "<title>134&#45;&gt;135</title>\n",
       "<path fill=\"none\" stroke=\"red\" d=\"M3522.15,-1583.89C3509.87,-1573.54 3485.84,-1553.31 3469.85,-1539.85\"/>\n",
       "<polygon fill=\"red\" stroke=\"red\" points=\"3471.82,-1536.93 3461.92,-1533.17 3467.31,-1542.29 3471.82,-1536.93\"/>\n",
       "<text text-anchor=\"middle\" x=\"3503\" y=\"-1554.8\" font-family=\"Times,serif\" font-size=\"14.00\">0</text>\n",
       "</g>\n",
       "<!-- 176 -->\n",
       "<g id=\"node177\" class=\"node\">\n",
       "<title>176</title>\n",
       "<text text-anchor=\"middle\" x=\"3609\" y=\"-1521.8\" font-family=\"Times,serif\" font-size=\"14.00\">?</text>\n",
       "</g>\n",
       "<!-- 134&#45;&gt;176 -->\n",
       "<g id=\"edge176\" class=\"edge\">\n",
       "<title>134&#45;&gt;176</title>\n",
       "<path fill=\"none\" stroke=\"blue\" d=\"M3538.16,-1583.89C3552.26,-1572.47 3581.25,-1548.98 3597.43,-1535.87\"/>\n",
       "<polygon fill=\"blue\" stroke=\"blue\" points=\"3599.7,-1538.54 3605.27,-1529.52 3595.29,-1533.1 3599.7,-1538.54\"/>\n",
       "<text text-anchor=\"middle\" x=\"3581\" y=\"-1554.8\" font-family=\"Times,serif\" font-size=\"14.00\">1</text>\n",
       "</g>\n",
       "<!-- 136 -->\n",
       "<g id=\"node137\" class=\"node\">\n",
       "<title>136</title>\n",
       "<text text-anchor=\"middle\" x=\"3315\" y=\"-1455.8\" font-family=\"Times,serif\" font-size=\"14.00\">(25) str.substr(cgi_decode_s_str_1, 3, 1) == &quot;3&quot;</text>\n",
       "</g>\n",
       "<!-- 135&#45;&gt;136 -->\n",
       "<g id=\"edge136\" class=\"edge\">\n",
       "<title>135&#45;&gt;136</title>\n",
       "<path fill=\"none\" stroke=\"red\" d=\"M3439.65,-1517.89C3415.82,-1506.92 3367.86,-1484.84 3338.87,-1471.49\"/>\n",
       "<polygon fill=\"red\" stroke=\"red\" points=\"3340.03,-1468.17 3329.48,-1467.17 3337.1,-1474.53 3340.03,-1468.17\"/>\n",
       "<text text-anchor=\"middle\" x=\"3401\" y=\"-1488.8\" font-family=\"Times,serif\" font-size=\"14.00\">0</text>\n",
       "</g>\n",
       "<!-- 175 -->\n",
       "<g id=\"node176\" class=\"node\">\n",
       "<title>175</title>\n",
       "<text text-anchor=\"middle\" x=\"3470\" y=\"-1455.8\" font-family=\"Times,serif\" font-size=\"14.00\">?</text>\n",
       "</g>\n",
       "<!-- 135&#45;&gt;175 -->\n",
       "<g id=\"edge175\" class=\"edge\">\n",
       "<title>135&#45;&gt;175</title>\n",
       "<path fill=\"none\" stroke=\"blue\" d=\"M3455.71,-1517.65C3458.11,-1508.07 3462.53,-1490.38 3465.82,-1477.2\"/>\n",
       "<polygon fill=\"blue\" stroke=\"blue\" points=\"3469.32,-1477.66 3468.35,-1467.11 3462.53,-1475.96 3469.32,-1477.66\"/>\n",
       "<text text-anchor=\"middle\" x=\"3468\" y=\"-1488.8\" font-family=\"Times,serif\" font-size=\"14.00\">1</text>\n",
       "</g>\n",
       "<!-- 137 -->\n",
       "<g id=\"node138\" class=\"node\">\n",
       "<title>137</title>\n",
       "<text text-anchor=\"middle\" x=\"3179\" y=\"-1389.8\" font-family=\"Times,serif\" font-size=\"14.00\">(26) str.substr(cgi_decode_s_str_1, 3, 1) == &quot;4&quot;</text>\n",
       "</g>\n",
       "<!-- 136&#45;&gt;137 -->\n",
       "<g id=\"edge137\" class=\"edge\">\n",
       "<title>136&#45;&gt;137</title>\n",
       "<path fill=\"none\" stroke=\"red\" d=\"M3300.96,-1451.89C3277.65,-1440.92 3230.72,-1418.84 3202.36,-1405.49\"/>\n",
       "<polygon fill=\"red\" stroke=\"red\" points=\"3203.71,-1402.26 3193.17,-1401.17 3200.73,-1408.59 3203.71,-1402.26\"/>\n",
       "<text text-anchor=\"middle\" x=\"3264\" y=\"-1422.8\" font-family=\"Times,serif\" font-size=\"14.00\">0</text>\n",
       "</g>\n",
       "<!-- 174 -->\n",
       "<g id=\"node175\" class=\"node\">\n",
       "<title>174</title>\n",
       "<text text-anchor=\"middle\" x=\"3334\" y=\"-1389.8\" font-family=\"Times,serif\" font-size=\"14.00\">?</text>\n",
       "</g>\n",
       "<!-- 136&#45;&gt;174 -->\n",
       "<g id=\"edge174\" class=\"edge\">\n",
       "<title>136&#45;&gt;174</title>\n",
       "<path fill=\"none\" stroke=\"blue\" d=\"M3317.03,-1451.65C3319.91,-1441.98 3325.24,-1424.02 3329.16,-1410.81\"/>\n",
       "<polygon fill=\"blue\" stroke=\"blue\" points=\"3332.55,-1411.69 3332.04,-1401.11 3325.84,-1409.7 3332.55,-1411.69\"/>\n",
       "<text text-anchor=\"middle\" x=\"3331\" y=\"-1422.8\" font-family=\"Times,serif\" font-size=\"14.00\">1</text>\n",
       "</g>\n",
       "<!-- 138 -->\n",
       "<g id=\"node139\" class=\"node\">\n",
       "<title>138</title>\n",
       "<text text-anchor=\"middle\" x=\"3051\" y=\"-1323.8\" font-family=\"Times,serif\" font-size=\"14.00\">(27) str.substr(cgi_decode_s_str_1, 3, 1) == &quot;5&quot;</text>\n",
       "</g>\n",
       "<!-- 137&#45;&gt;138 -->\n",
       "<g id=\"edge138\" class=\"edge\">\n",
       "<title>137&#45;&gt;138</title>\n",
       "<path fill=\"none\" stroke=\"red\" d=\"M3165.78,-1385.89C3143.94,-1374.97 3100.06,-1353.03 3073.33,-1339.67\"/>\n",
       "<polygon fill=\"red\" stroke=\"red\" points=\"3074.85,-1336.51 3064.34,-1335.17 3071.72,-1342.77 3074.85,-1336.51\"/>\n",
       "<text text-anchor=\"middle\" x=\"3131\" y=\"-1356.8\" font-family=\"Times,serif\" font-size=\"14.00\">0</text>\n",
       "</g>\n",
       "<!-- 173 -->\n",
       "<g id=\"node174\" class=\"node\">\n",
       "<title>173</title>\n",
       "<text text-anchor=\"middle\" x=\"3206\" y=\"-1323.8\" font-family=\"Times,serif\" font-size=\"14.00\">?</text>\n",
       "</g>\n",
       "<!-- 137&#45;&gt;173 -->\n",
       "<g id=\"edge173\" class=\"edge\">\n",
       "<title>137&#45;&gt;173</title>\n",
       "<path fill=\"none\" stroke=\"blue\" d=\"M3181.89,-1385.65C3186.01,-1375.88 3193.7,-1357.66 3199.29,-1344.41\"/>\n",
       "<polygon fill=\"blue\" stroke=\"blue\" points=\"3202.55,-1345.68 3203.21,-1335.11 3196.1,-1342.96 3202.55,-1345.68\"/>\n",
       "<text text-anchor=\"middle\" x=\"3199\" y=\"-1356.8\" font-family=\"Times,serif\" font-size=\"14.00\">1</text>\n",
       "</g>\n",
       "<!-- 139 -->\n",
       "<g id=\"node140\" class=\"node\">\n",
       "<title>139</title>\n",
       "<text text-anchor=\"middle\" x=\"2910\" y=\"-1257.8\" font-family=\"Times,serif\" font-size=\"14.00\">(28) str.substr(cgi_decode_s_str_1, 3, 1) == &quot;6&quot;</text>\n",
       "</g>\n",
       "<!-- 138&#45;&gt;139 -->\n",
       "<g id=\"edge139\" class=\"edge\">\n",
       "<title>138&#45;&gt;139</title>\n",
       "<path fill=\"none\" stroke=\"red\" d=\"M3036.44,-1319.89C3012.17,-1308.87 2963.2,-1286.65 2933.83,-1273.32\"/>\n",
       "<polygon fill=\"red\" stroke=\"red\" points=\"2935.24,-1270.11 2924.69,-1269.17 2932.35,-1276.49 2935.24,-1270.11\"/>\n",
       "<text text-anchor=\"middle\" x=\"2998\" y=\"-1290.8\" font-family=\"Times,serif\" font-size=\"14.00\">0</text>\n",
       "</g>\n",
       "<!-- 172 -->\n",
       "<g id=\"node173\" class=\"node\">\n",
       "<title>172</title>\n",
       "<text text-anchor=\"middle\" x=\"3065\" y=\"-1257.8\" font-family=\"Times,serif\" font-size=\"14.00\">?</text>\n",
       "</g>\n",
       "<!-- 138&#45;&gt;172 -->\n",
       "<g id=\"edge172\" class=\"edge\">\n",
       "<title>138&#45;&gt;172</title>\n",
       "<path fill=\"none\" stroke=\"blue\" d=\"M3052.5,-1319.65C3054.59,-1310.07 3058.46,-1292.38 3061.35,-1279.2\"/>\n",
       "<polygon fill=\"blue\" stroke=\"blue\" points=\"3064.84,-1279.63 3063.55,-1269.11 3058,-1278.13 3064.84,-1279.63\"/>\n",
       "<text text-anchor=\"middle\" x=\"3064\" y=\"-1290.8\" font-family=\"Times,serif\" font-size=\"14.00\">1</text>\n",
       "</g>\n",
       "<!-- 140 -->\n",
       "<g id=\"node141\" class=\"node\">\n",
       "<title>140</title>\n",
       "<text text-anchor=\"middle\" x=\"2755\" y=\"-1191.8\" font-family=\"Times,serif\" font-size=\"14.00\">(29) str.substr(cgi_decode_s_str_1, 3, 1) == &quot;7&quot;</text>\n",
       "</g>\n",
       "<!-- 139&#45;&gt;140 -->\n",
       "<g id=\"edge140\" class=\"edge\">\n",
       "<title>139&#45;&gt;140</title>\n",
       "<path fill=\"none\" stroke=\"red\" d=\"M2894,-1253.89C2867.19,-1242.83 2813.01,-1220.45 2780.78,-1207.14\"/>\n",
       "<polygon fill=\"red\" stroke=\"red\" points=\"2781.73,-1203.75 2771.15,-1203.17 2779.06,-1210.22 2781.73,-1203.75\"/>\n",
       "<text text-anchor=\"middle\" x=\"2851\" y=\"-1224.8\" font-family=\"Times,serif\" font-size=\"14.00\">0</text>\n",
       "</g>\n",
       "<!-- 171 -->\n",
       "<g id=\"node172\" class=\"node\">\n",
       "<title>171</title>\n",
       "<text text-anchor=\"middle\" x=\"2910\" y=\"-1191.8\" font-family=\"Times,serif\" font-size=\"14.00\">?</text>\n",
       "</g>\n",
       "<!-- 139&#45;&gt;171 -->\n",
       "<g id=\"edge171\" class=\"edge\">\n",
       "<title>139&#45;&gt;171</title>\n",
       "<path fill=\"none\" stroke=\"blue\" d=\"M2910,-1253.65C2910,-1244.07 2910,-1226.38 2910,-1213.2\"/>\n",
       "<polygon fill=\"blue\" stroke=\"blue\" points=\"2913.5,-1213.11 2910,-1203.11 2906.5,-1213.11 2913.5,-1213.11\"/>\n",
       "<text text-anchor=\"middle\" x=\"2914\" y=\"-1224.8\" font-family=\"Times,serif\" font-size=\"14.00\">1</text>\n",
       "</g>\n",
       "<!-- 141 -->\n",
       "<g id=\"node142\" class=\"node\">\n",
       "<title>141</title>\n",
       "<text text-anchor=\"middle\" x=\"2647\" y=\"-1125.8\" font-family=\"Times,serif\" font-size=\"14.00\">(30) str.substr(cgi_decode_s_str_1, 3, 1) == &quot;8&quot;</text>\n",
       "</g>\n",
       "<!-- 140&#45;&gt;141 -->\n",
       "<g id=\"edge141\" class=\"edge\">\n",
       "<title>140&#45;&gt;141</title>\n",
       "<path fill=\"none\" stroke=\"red\" d=\"M2743.85,-1187.89C2725.74,-1177.16 2689.69,-1155.8 2667.05,-1142.38\"/>\n",
       "<polygon fill=\"red\" stroke=\"red\" points=\"2668.64,-1139.26 2658.25,-1137.17 2665.07,-1145.28 2668.64,-1139.26\"/>\n",
       "<text text-anchor=\"middle\" x=\"2715\" y=\"-1158.8\" font-family=\"Times,serif\" font-size=\"14.00\">0</text>\n",
       "</g>\n",
       "<!-- 170 -->\n",
       "<g id=\"node171\" class=\"node\">\n",
       "<title>170</title>\n",
       "<text text-anchor=\"middle\" x=\"2802\" y=\"-1125.8\" font-family=\"Times,serif\" font-size=\"14.00\">?</text>\n",
       "</g>\n",
       "<!-- 140&#45;&gt;170 -->\n",
       "<g id=\"edge170\" class=\"edge\">\n",
       "<title>140&#45;&gt;170</title>\n",
       "<path fill=\"none\" stroke=\"blue\" d=\"M2760.03,-1187.65C2767.73,-1177.17 2782.57,-1156.96 2792.38,-1143.6\"/>\n",
       "<polygon fill=\"blue\" stroke=\"blue\" points=\"2795.36,-1145.45 2798.46,-1135.32 2789.72,-1141.31 2795.36,-1145.45\"/>\n",
       "<text text-anchor=\"middle\" x=\"2787\" y=\"-1158.8\" font-family=\"Times,serif\" font-size=\"14.00\">1</text>\n",
       "</g>\n",
       "<!-- 142 -->\n",
       "<g id=\"node143\" class=\"node\">\n",
       "<title>142</title>\n",
       "<text text-anchor=\"middle\" x=\"2513\" y=\"-1059.8\" font-family=\"Times,serif\" font-size=\"14.00\">(31) str.substr(cgi_decode_s_str_1, 3, 1) == &quot;9&quot;</text>\n",
       "</g>\n",
       "<!-- 141&#45;&gt;142 -->\n",
       "<g id=\"edge142\" class=\"edge\">\n",
       "<title>141&#45;&gt;142</title>\n",
       "<path fill=\"none\" stroke=\"red\" d=\"M2633.16,-1121.89C2610.19,-1110.92 2563.96,-1088.84 2536.01,-1075.49\"/>\n",
       "<polygon fill=\"red\" stroke=\"red\" points=\"2537.49,-1072.32 2526.96,-1071.17 2534.48,-1078.64 2537.49,-1072.32\"/>\n",
       "<text text-anchor=\"middle\" x=\"2597\" y=\"-1092.8\" font-family=\"Times,serif\" font-size=\"14.00\">0</text>\n",
       "</g>\n",
       "<!-- 169 -->\n",
       "<g id=\"node170\" class=\"node\">\n",
       "<title>169</title>\n",
       "<text text-anchor=\"middle\" x=\"2668\" y=\"-1059.8\" font-family=\"Times,serif\" font-size=\"14.00\">?</text>\n",
       "</g>\n",
       "<!-- 141&#45;&gt;169 -->\n",
       "<g id=\"edge169\" class=\"edge\">\n",
       "<title>141&#45;&gt;169</title>\n",
       "<path fill=\"none\" stroke=\"blue\" d=\"M2649.25,-1121.65C2652.42,-1111.98 2658.31,-1094.02 2662.65,-1080.81\"/>\n",
       "<polygon fill=\"blue\" stroke=\"blue\" points=\"2666.04,-1081.7 2665.83,-1071.11 2659.39,-1079.52 2666.04,-1081.7\"/>\n",
       "<text text-anchor=\"middle\" x=\"2664\" y=\"-1092.8\" font-family=\"Times,serif\" font-size=\"14.00\">1</text>\n",
       "</g>\n",
       "<!-- 143 -->\n",
       "<g id=\"node144\" class=\"node\">\n",
       "<title>143</title>\n",
       "<text text-anchor=\"middle\" x=\"2369\" y=\"-993.8\" font-family=\"Times,serif\" font-size=\"14.00\">(32) str.substr(cgi_decode_s_str_1, 3, 1) == &quot;a&quot;</text>\n",
       "</g>\n",
       "<!-- 142&#45;&gt;143 -->\n",
       "<g id=\"edge143\" class=\"edge\">\n",
       "<title>142&#45;&gt;143</title>\n",
       "<path fill=\"none\" stroke=\"red\" d=\"M2498.13,-1055.89C2473.34,-1044.87 2423.33,-1022.65 2393.34,-1009.32\"/>\n",
       "<polygon fill=\"red\" stroke=\"red\" points=\"2394.56,-1006.03 2384,-1005.17 2391.72,-1012.43 2394.56,-1006.03\"/>\n",
       "<text text-anchor=\"middle\" x=\"2458\" y=\"-1026.8\" font-family=\"Times,serif\" font-size=\"14.00\">0</text>\n",
       "</g>\n",
       "<!-- 168 -->\n",
       "<g id=\"node169\" class=\"node\">\n",
       "<title>168</title>\n",
       "<text text-anchor=\"middle\" x=\"2524\" y=\"-993.8\" font-family=\"Times,serif\" font-size=\"14.00\">?</text>\n",
       "</g>\n",
       "<!-- 142&#45;&gt;168 -->\n",
       "<g id=\"edge168\" class=\"edge\">\n",
       "<title>142&#45;&gt;168</title>\n",
       "<path fill=\"none\" stroke=\"blue\" d=\"M2514.18,-1055.65C2515.82,-1046.07 2518.86,-1028.38 2521.13,-1015.2\"/>\n",
       "<polygon fill=\"blue\" stroke=\"blue\" points=\"2524.62,-1015.56 2522.86,-1005.11 2517.72,-1014.37 2524.62,-1015.56\"/>\n",
       "<text text-anchor=\"middle\" x=\"2524\" y=\"-1026.8\" font-family=\"Times,serif\" font-size=\"14.00\">1</text>\n",
       "</g>\n",
       "<!-- 144 -->\n",
       "<g id=\"node145\" class=\"node\">\n",
       "<title>144</title>\n",
       "<text text-anchor=\"middle\" x=\"2250\" y=\"-927.8\" font-family=\"Times,serif\" font-size=\"14.00\">(33) str.substr(cgi_decode_s_str_1, 3, 1) == &quot;b&quot;</text>\n",
       "</g>\n",
       "<!-- 143&#45;&gt;144 -->\n",
       "<g id=\"edge144\" class=\"edge\">\n",
       "<title>143&#45;&gt;144</title>\n",
       "<path fill=\"none\" stroke=\"red\" d=\"M2356.71,-989.89C2336.58,-979.07 2296.33,-957.42 2271.42,-944.02\"/>\n",
       "<polygon fill=\"red\" stroke=\"red\" points=\"2272.86,-940.82 2262.4,-939.17 2269.55,-946.99 2272.86,-940.82\"/>\n",
       "<text text-anchor=\"middle\" x=\"2325\" y=\"-960.8\" font-family=\"Times,serif\" font-size=\"14.00\">0</text>\n",
       "</g>\n",
       "<!-- 167 -->\n",
       "<g id=\"node168\" class=\"node\">\n",
       "<title>167</title>\n",
       "<text text-anchor=\"middle\" x=\"2405\" y=\"-927.8\" font-family=\"Times,serif\" font-size=\"14.00\">?</text>\n",
       "</g>\n",
       "<!-- 143&#45;&gt;167 -->\n",
       "<g id=\"edge167\" class=\"edge\">\n",
       "<title>143&#45;&gt;167</title>\n",
       "<path fill=\"none\" stroke=\"blue\" d=\"M2372.85,-989.65C2378.46,-979.68 2389.02,-960.91 2396.5,-947.6\"/>\n",
       "<polygon fill=\"blue\" stroke=\"blue\" points=\"2399.64,-949.16 2401.49,-938.73 2393.54,-945.73 2399.64,-949.16\"/>\n",
       "<text text-anchor=\"middle\" x=\"2395\" y=\"-960.8\" font-family=\"Times,serif\" font-size=\"14.00\">1</text>\n",
       "</g>\n",
       "<!-- 145 -->\n",
       "<g id=\"node146\" class=\"node\">\n",
       "<title>145</title>\n",
       "<text text-anchor=\"middle\" x=\"2141\" y=\"-861.8\" font-family=\"Times,serif\" font-size=\"14.00\">(34) str.substr(cgi_decode_s_str_1, 3, 1) == &quot;c&quot;</text>\n",
       "</g>\n",
       "<!-- 144&#45;&gt;145 -->\n",
       "<g id=\"edge145\" class=\"edge\">\n",
       "<title>144&#45;&gt;145</title>\n",
       "<path fill=\"none\" stroke=\"red\" d=\"M2238.75,-923.89C2220.47,-913.16 2184.09,-891.8 2161.23,-878.38\"/>\n",
       "<polygon fill=\"red\" stroke=\"red\" points=\"2162.75,-875.21 2152.36,-873.17 2159.21,-881.25 2162.75,-875.21\"/>\n",
       "<text text-anchor=\"middle\" x=\"2210\" y=\"-894.8\" font-family=\"Times,serif\" font-size=\"14.00\">0</text>\n",
       "</g>\n",
       "<!-- 166 -->\n",
       "<g id=\"node167\" class=\"node\">\n",
       "<title>166</title>\n",
       "<text text-anchor=\"middle\" x=\"2296\" y=\"-861.8\" font-family=\"Times,serif\" font-size=\"14.00\">?</text>\n",
       "</g>\n",
       "<!-- 144&#45;&gt;166 -->\n",
       "<g id=\"edge166\" class=\"edge\">\n",
       "<title>144&#45;&gt;166</title>\n",
       "<path fill=\"none\" stroke=\"blue\" d=\"M2254.92,-923.65C2262.38,-913.27 2276.7,-893.36 2286.3,-880\"/>\n",
       "<polygon fill=\"blue\" stroke=\"blue\" points=\"2289.3,-881.82 2292.29,-871.66 2283.62,-877.73 2289.3,-881.82\"/>\n",
       "<text text-anchor=\"middle\" x=\"2282\" y=\"-894.8\" font-family=\"Times,serif\" font-size=\"14.00\">1</text>\n",
       "</g>\n",
       "<!-- 146 -->\n",
       "<g id=\"node147\" class=\"node\">\n",
       "<title>146</title>\n",
       "<text text-anchor=\"middle\" x=\"1989\" y=\"-795.8\" font-family=\"Times,serif\" font-size=\"14.00\">(35) str.substr(cgi_decode_s_str_1, 3, 1) == &quot;d&quot;</text>\n",
       "</g>\n",
       "<!-- 145&#45;&gt;146 -->\n",
       "<g id=\"edge146\" class=\"edge\">\n",
       "<title>145&#45;&gt;146</title>\n",
       "<path fill=\"none\" stroke=\"red\" d=\"M2125.31,-857.89C2099.02,-846.83 2045.89,-824.45 2014.28,-811.14\"/>\n",
       "<polygon fill=\"red\" stroke=\"red\" points=\"2015.41,-807.82 2004.84,-807.17 2012.69,-814.27 2015.41,-807.82\"/>\n",
       "<text text-anchor=\"middle\" x=\"2083\" y=\"-828.8\" font-family=\"Times,serif\" font-size=\"14.00\">0</text>\n",
       "</g>\n",
       "<!-- 165 -->\n",
       "<g id=\"node166\" class=\"node\">\n",
       "<title>165</title>\n",
       "<text text-anchor=\"middle\" x=\"2144\" y=\"-795.8\" font-family=\"Times,serif\" font-size=\"14.00\">?</text>\n",
       "</g>\n",
       "<!-- 145&#45;&gt;165 -->\n",
       "<g id=\"edge165\" class=\"edge\">\n",
       "<title>145&#45;&gt;165</title>\n",
       "<path fill=\"none\" stroke=\"blue\" d=\"M2141.32,-857.65C2141.77,-848.07 2142.6,-830.38 2143.22,-817.2\"/>\n",
       "<polygon fill=\"blue\" stroke=\"blue\" points=\"2146.72,-817.26 2143.69,-807.11 2139.73,-816.93 2146.72,-817.26\"/>\n",
       "<text text-anchor=\"middle\" x=\"2147\" y=\"-828.8\" font-family=\"Times,serif\" font-size=\"14.00\">1</text>\n",
       "</g>\n",
       "<!-- 147 -->\n",
       "<g id=\"node148\" class=\"node\">\n",
       "<title>147</title>\n",
       "<text text-anchor=\"middle\" x=\"1861\" y=\"-729.8\" font-family=\"Times,serif\" font-size=\"14.00\">(36) str.substr(cgi_decode_s_str_1, 3, 1) == &quot;e&quot;</text>\n",
       "</g>\n",
       "<!-- 146&#45;&gt;147 -->\n",
       "<g id=\"edge147\" class=\"edge\">\n",
       "<title>146&#45;&gt;147</title>\n",
       "<path fill=\"none\" stroke=\"red\" d=\"M1975.78,-791.89C1953.94,-780.97 1910.06,-759.03 1883.33,-745.67\"/>\n",
       "<polygon fill=\"red\" stroke=\"red\" points=\"1884.85,-742.51 1874.34,-741.17 1881.72,-748.77 1884.85,-742.51\"/>\n",
       "<text text-anchor=\"middle\" x=\"1941\" y=\"-762.8\" font-family=\"Times,serif\" font-size=\"14.00\">0</text>\n",
       "</g>\n",
       "<!-- 164 -->\n",
       "<g id=\"node165\" class=\"node\">\n",
       "<title>164</title>\n",
       "<text text-anchor=\"middle\" x=\"2016\" y=\"-729.8\" font-family=\"Times,serif\" font-size=\"14.00\">?</text>\n",
       "</g>\n",
       "<!-- 146&#45;&gt;164 -->\n",
       "<g id=\"edge164\" class=\"edge\">\n",
       "<title>146&#45;&gt;164</title>\n",
       "<path fill=\"none\" stroke=\"blue\" d=\"M1991.89,-791.65C1996.01,-781.88 2003.7,-763.66 2009.29,-750.41\"/>\n",
       "<polygon fill=\"blue\" stroke=\"blue\" points=\"2012.55,-751.68 2013.21,-741.11 2006.1,-748.96 2012.55,-751.68\"/>\n",
       "<text text-anchor=\"middle\" x=\"2009\" y=\"-762.8\" font-family=\"Times,serif\" font-size=\"14.00\">1</text>\n",
       "</g>\n",
       "<!-- 148 -->\n",
       "<g id=\"node149\" class=\"node\">\n",
       "<title>148</title>\n",
       "<text text-anchor=\"middle\" x=\"1727\" y=\"-663.8\" font-family=\"Times,serif\" font-size=\"14.00\">(37) str.substr(cgi_decode_s_str_1, 3, 1) == &quot;f&quot;</text>\n",
       "</g>\n",
       "<!-- 147&#45;&gt;148 -->\n",
       "<g id=\"edge148\" class=\"edge\">\n",
       "<title>147&#45;&gt;148</title>\n",
       "<path fill=\"none\" stroke=\"red\" d=\"M1847.16,-725.89C1824.19,-714.92 1777.96,-692.84 1750.01,-679.49\"/>\n",
       "<polygon fill=\"red\" stroke=\"red\" points=\"1751.49,-676.32 1740.96,-675.17 1748.48,-682.64 1751.49,-676.32\"/>\n",
       "<text text-anchor=\"middle\" x=\"1811\" y=\"-696.8\" font-family=\"Times,serif\" font-size=\"14.00\">0</text>\n",
       "</g>\n",
       "<!-- 163 -->\n",
       "<g id=\"node164\" class=\"node\">\n",
       "<title>163</title>\n",
       "<text text-anchor=\"middle\" x=\"1881\" y=\"-663.8\" font-family=\"Times,serif\" font-size=\"14.00\">?</text>\n",
       "</g>\n",
       "<!-- 147&#45;&gt;163 -->\n",
       "<g id=\"edge163\" class=\"edge\">\n",
       "<title>147&#45;&gt;163</title>\n",
       "<path fill=\"none\" stroke=\"blue\" d=\"M1863.14,-725.65C1866.16,-715.98 1871.78,-698.02 1875.9,-684.81\"/>\n",
       "<polygon fill=\"blue\" stroke=\"blue\" points=\"1879.29,-685.7 1878.93,-675.11 1872.61,-683.61 1879.29,-685.7\"/>\n",
       "<text text-anchor=\"middle\" x=\"1877\" y=\"-696.8\" font-family=\"Times,serif\" font-size=\"14.00\">1</text>\n",
       "</g>\n",
       "<!-- 149 -->\n",
       "<g id=\"node150\" class=\"node\">\n",
       "<title>149</title>\n",
       "<text text-anchor=\"middle\" x=\"1679\" y=\"-597.8\" font-family=\"Times,serif\" font-size=\"14.00\">(38) str.substr(cgi_decode_s_str_1, 3, 1) == &quot;A&quot;</text>\n",
       "</g>\n",
       "<!-- 148&#45;&gt;149 -->\n",
       "<g id=\"edge149\" class=\"edge\">\n",
       "<title>148&#45;&gt;149</title>\n",
       "<path fill=\"none\" stroke=\"red\" d=\"M1721.86,-659.65C1714.32,-649.59 1700.05,-630.57 1690.06,-617.24\"/>\n",
       "<polygon fill=\"red\" stroke=\"red\" points=\"1692.76,-615.01 1683.96,-609.11 1687.16,-619.21 1692.76,-615.01\"/>\n",
       "<text text-anchor=\"middle\" x=\"1712\" y=\"-630.8\" font-family=\"Times,serif\" font-size=\"14.00\">0</text>\n",
       "</g>\n",
       "<!-- 162 -->\n",
       "<g id=\"node163\" class=\"node\">\n",
       "<title>162</title>\n",
       "<text text-anchor=\"middle\" x=\"1836\" y=\"-597.8\" font-family=\"Times,serif\" font-size=\"14.00\">?</text>\n",
       "</g>\n",
       "<!-- 148&#45;&gt;162 -->\n",
       "<g id=\"edge162\" class=\"edge\">\n",
       "<title>148&#45;&gt;162</title>\n",
       "<path fill=\"none\" stroke=\"blue\" d=\"M1738.25,-659.89C1758.73,-647.87 1801.93,-622.51 1823.37,-609.91\"/>\n",
       "<polygon fill=\"blue\" stroke=\"blue\" points=\"1825.31,-612.83 1832.16,-604.75 1821.77,-606.8 1825.31,-612.83\"/>\n",
       "<text text-anchor=\"middle\" x=\"1796\" y=\"-630.8\" font-family=\"Times,serif\" font-size=\"14.00\">1</text>\n",
       "</g>\n",
       "<!-- 150 -->\n",
       "<g id=\"node151\" class=\"node\">\n",
       "<title>150</title>\n",
       "<text text-anchor=\"middle\" x=\"1651\" y=\"-531.8\" font-family=\"Times,serif\" font-size=\"14.00\">(39) str.substr(cgi_decode_s_str_1, 3, 1) == &quot;B&quot;</text>\n",
       "</g>\n",
       "<!-- 149&#45;&gt;150 -->\n",
       "<g id=\"edge150\" class=\"edge\">\n",
       "<title>149&#45;&gt;150</title>\n",
       "<path fill=\"none\" stroke=\"red\" d=\"M1676,-593.65C1671.73,-583.88 1663.76,-565.66 1657.96,-552.41\"/>\n",
       "<polygon fill=\"red\" stroke=\"red\" points=\"1661.11,-550.87 1653.89,-543.11 1654.69,-553.67 1661.11,-550.87\"/>\n",
       "<text text-anchor=\"middle\" x=\"1672\" y=\"-564.8\" font-family=\"Times,serif\" font-size=\"14.00\">0</text>\n",
       "</g>\n",
       "<!-- 161 -->\n",
       "<g id=\"node162\" class=\"node\">\n",
       "<title>161</title>\n",
       "<text text-anchor=\"middle\" x=\"1808\" y=\"-531.8\" font-family=\"Times,serif\" font-size=\"14.00\">?</text>\n",
       "</g>\n",
       "<!-- 149&#45;&gt;161 -->\n",
       "<g id=\"edge161\" class=\"edge\">\n",
       "<title>149&#45;&gt;161</title>\n",
       "<path fill=\"none\" stroke=\"blue\" d=\"M1692.23,-593.96C1713.77,-583.31 1757.78,-561.53 1795,-543 1795.1,-542.95 1795.19,-542.9 1795.29,-542.86\"/>\n",
       "<polygon fill=\"blue\" stroke=\"blue\" points=\"1796.75,-546.04 1804.13,-538.44 1793.62,-539.78 1796.75,-546.04\"/>\n",
       "<text text-anchor=\"middle\" x=\"1761\" y=\"-564.8\" font-family=\"Times,serif\" font-size=\"14.00\">1</text>\n",
       "</g>\n",
       "<!-- 151 -->\n",
       "<g id=\"node152\" class=\"node\">\n",
       "<title>151</title>\n",
       "<text text-anchor=\"middle\" x=\"1539\" y=\"-465.8\" font-family=\"Times,serif\" font-size=\"14.00\">(40) str.substr(cgi_decode_s_str_1, 3, 1) == &quot;C&quot;</text>\n",
       "</g>\n",
       "<!-- 150&#45;&gt;151 -->\n",
       "<g id=\"edge151\" class=\"edge\">\n",
       "<title>150&#45;&gt;151</title>\n",
       "<path fill=\"none\" stroke=\"red\" d=\"M1639.44,-527.89C1620.57,-517.11 1582.94,-495.61 1559.47,-482.2\"/>\n",
       "<polygon fill=\"red\" stroke=\"red\" points=\"1561.09,-479.09 1550.67,-477.17 1557.61,-485.17 1561.09,-479.09\"/>\n",
       "<text text-anchor=\"middle\" x=\"1610\" y=\"-498.8\" font-family=\"Times,serif\" font-size=\"14.00\">0</text>\n",
       "</g>\n",
       "<!-- 160 -->\n",
       "<g id=\"node161\" class=\"node\">\n",
       "<title>160</title>\n",
       "<text text-anchor=\"middle\" x=\"1696\" y=\"-465.8\" font-family=\"Times,serif\" font-size=\"14.00\">?</text>\n",
       "</g>\n",
       "<!-- 150&#45;&gt;160 -->\n",
       "<g id=\"edge160\" class=\"edge\">\n",
       "<title>150&#45;&gt;160</title>\n",
       "<path fill=\"none\" stroke=\"blue\" d=\"M1655.82,-527.65C1663.11,-517.27 1677.12,-497.36 1686.51,-484\"/>\n",
       "<polygon fill=\"blue\" stroke=\"blue\" points=\"1689.49,-485.85 1692.37,-475.66 1683.76,-481.82 1689.49,-485.85\"/>\n",
       "<text text-anchor=\"middle\" x=\"1682\" y=\"-498.8\" font-family=\"Times,serif\" font-size=\"14.00\">1</text>\n",
       "</g>\n",
       "<!-- 152 -->\n",
       "<g id=\"node153\" class=\"node\">\n",
       "<title>152</title>\n",
       "<text text-anchor=\"middle\" x=\"1429\" y=\"-399.8\" font-family=\"Times,serif\" font-size=\"14.00\">(41) str.substr(cgi_decode_s_str_1, 3, 1) == &quot;D&quot;</text>\n",
       "</g>\n",
       "<!-- 151&#45;&gt;152 -->\n",
       "<g id=\"edge152\" class=\"edge\">\n",
       "<title>151&#45;&gt;152</title>\n",
       "<path fill=\"none\" stroke=\"red\" d=\"M1527.64,-461.89C1509.12,-451.11 1472.15,-429.61 1449.11,-416.2\"/>\n",
       "<polygon fill=\"red\" stroke=\"red\" points=\"1450.86,-413.17 1440.46,-411.17 1447.34,-419.22 1450.86,-413.17\"/>\n",
       "<text text-anchor=\"middle\" x=\"1498\" y=\"-432.8\" font-family=\"Times,serif\" font-size=\"14.00\">0</text>\n",
       "</g>\n",
       "<!-- 159 -->\n",
       "<g id=\"node160\" class=\"node\">\n",
       "<title>159</title>\n",
       "<text text-anchor=\"middle\" x=\"1586\" y=\"-399.8\" font-family=\"Times,serif\" font-size=\"14.00\">?</text>\n",
       "</g>\n",
       "<!-- 151&#45;&gt;159 -->\n",
       "<g id=\"edge159\" class=\"edge\">\n",
       "<title>151&#45;&gt;159</title>\n",
       "<path fill=\"none\" stroke=\"blue\" d=\"M1544.03,-461.65C1551.73,-451.17 1566.57,-430.96 1576.38,-417.6\"/>\n",
       "<polygon fill=\"blue\" stroke=\"blue\" points=\"1579.36,-419.45 1582.46,-409.32 1573.72,-415.31 1579.36,-419.45\"/>\n",
       "<text text-anchor=\"middle\" x=\"1571\" y=\"-432.8\" font-family=\"Times,serif\" font-size=\"14.00\">1</text>\n",
       "</g>\n",
       "<!-- 153 -->\n",
       "<g id=\"node154\" class=\"node\">\n",
       "<title>153</title>\n",
       "<text text-anchor=\"middle\" x=\"1299\" y=\"-333.8\" font-family=\"Times,serif\" font-size=\"14.00\">(42) str.substr(cgi_decode_s_str_1, 3, 1) == &quot;E&quot;</text>\n",
       "</g>\n",
       "<!-- 152&#45;&gt;153 -->\n",
       "<g id=\"edge153\" class=\"edge\">\n",
       "<title>152&#45;&gt;153</title>\n",
       "<path fill=\"none\" stroke=\"red\" d=\"M1415.58,-395.89C1393.39,-384.97 1348.83,-363.03 1321.68,-349.67\"/>\n",
       "<polygon fill=\"red\" stroke=\"red\" points=\"1323.06,-346.44 1312.54,-345.17 1319.97,-352.73 1323.06,-346.44\"/>\n",
       "<text text-anchor=\"middle\" x=\"1380\" y=\"-366.8\" font-family=\"Times,serif\" font-size=\"14.00\">0</text>\n",
       "</g>\n",
       "<!-- 158 -->\n",
       "<g id=\"node159\" class=\"node\">\n",
       "<title>158</title>\n",
       "<text text-anchor=\"middle\" x=\"1455\" y=\"-333.8\" font-family=\"Times,serif\" font-size=\"14.00\">?</text>\n",
       "</g>\n",
       "<!-- 152&#45;&gt;158 -->\n",
       "<g id=\"edge158\" class=\"edge\">\n",
       "<title>152&#45;&gt;158</title>\n",
       "<path fill=\"none\" stroke=\"blue\" d=\"M1431.78,-395.65C1435.75,-385.88 1443.15,-367.66 1448.54,-354.41\"/>\n",
       "<polygon fill=\"blue\" stroke=\"blue\" points=\"1451.79,-355.69 1452.32,-345.11 1445.31,-353.06 1451.79,-355.69\"/>\n",
       "<text text-anchor=\"middle\" x=\"1449\" y=\"-366.8\" font-family=\"Times,serif\" font-size=\"14.00\">1</text>\n",
       "</g>\n",
       "<!-- 154 -->\n",
       "<g id=\"node155\" class=\"node\">\n",
       "<title>154</title>\n",
       "<text text-anchor=\"middle\" x=\"1187\" y=\"-267.8\" font-family=\"Times,serif\" font-size=\"14.00\">(43) str.substr(cgi_decode_s_str_1, 3, 1) == &quot;F&quot;</text>\n",
       "</g>\n",
       "<!-- 153&#45;&gt;154 -->\n",
       "<g id=\"edge154\" class=\"edge\">\n",
       "<title>153&#45;&gt;154</title>\n",
       "<path fill=\"none\" stroke=\"red\" d=\"M1287.44,-329.89C1268.57,-319.11 1230.94,-297.61 1207.47,-284.2\"/>\n",
       "<polygon fill=\"red\" stroke=\"red\" points=\"1209.09,-281.09 1198.67,-279.17 1205.61,-287.17 1209.09,-281.09\"/>\n",
       "<text text-anchor=\"middle\" x=\"1258\" y=\"-300.8\" font-family=\"Times,serif\" font-size=\"14.00\">0</text>\n",
       "</g>\n",
       "<!-- 157 -->\n",
       "<g id=\"node158\" class=\"node\">\n",
       "<title>157</title>\n",
       "<text text-anchor=\"middle\" x=\"1343\" y=\"-267.8\" font-family=\"Times,serif\" font-size=\"14.00\">?</text>\n",
       "</g>\n",
       "<!-- 153&#45;&gt;157 -->\n",
       "<g id=\"edge157\" class=\"edge\">\n",
       "<title>153&#45;&gt;157</title>\n",
       "<path fill=\"none\" stroke=\"blue\" d=\"M1303.71,-329.65C1310.84,-319.27 1324.54,-299.36 1333.72,-286\"/>\n",
       "<polygon fill=\"blue\" stroke=\"blue\" points=\"1336.67,-287.88 1339.46,-277.66 1330.91,-283.91 1336.67,-287.88\"/>\n",
       "<text text-anchor=\"middle\" x=\"1329\" y=\"-300.8\" font-family=\"Times,serif\" font-size=\"14.00\">1</text>\n",
       "</g>\n",
       "<!-- 155 -->\n",
       "<g id=\"node156\" class=\"node\">\n",
       "<title>155</title>\n",
       "<text text-anchor=\"middle\" x=\"1160\" y=\"-201.8\" font-family=\"Times,serif\" font-size=\"14.00\">* +%C\\x00</text>\n",
       "</g>\n",
       "<!-- 154&#45;&gt;155 -->\n",
       "<g id=\"edge155\" class=\"edge\">\n",
       "<title>154&#45;&gt;155</title>\n",
       "<path fill=\"none\" stroke=\"red\" d=\"M1184.11,-263.65C1179.99,-253.88 1172.3,-235.66 1166.71,-222.41\"/>\n",
       "<polygon fill=\"red\" stroke=\"red\" points=\"1169.9,-220.96 1162.79,-213.11 1163.45,-223.68 1169.9,-220.96\"/>\n",
       "<text text-anchor=\"middle\" x=\"1180\" y=\"-234.8\" font-family=\"Times,serif\" font-size=\"14.00\">0</text>\n",
       "</g>\n",
       "<!-- 156 -->\n",
       "<g id=\"node157\" class=\"node\">\n",
       "<title>156</title>\n",
       "<text text-anchor=\"middle\" x=\"1214\" y=\"-201.8\" font-family=\"Times,serif\" font-size=\"14.00\">?</text>\n",
       "</g>\n",
       "<!-- 154&#45;&gt;156 -->\n",
       "<g id=\"edge156\" class=\"edge\">\n",
       "<title>154&#45;&gt;156</title>\n",
       "<path fill=\"none\" stroke=\"blue\" d=\"M1189.89,-263.65C1194.01,-253.88 1201.7,-235.66 1207.29,-222.41\"/>\n",
       "<polygon fill=\"blue\" stroke=\"blue\" points=\"1210.55,-223.68 1211.21,-213.11 1204.1,-220.96 1210.55,-223.68\"/>\n",
       "<text text-anchor=\"middle\" x=\"1207\" y=\"-234.8\" font-family=\"Times,serif\" font-size=\"14.00\">1</text>\n",
       "</g>\n",
       "<!-- 192 -->\n",
       "<g id=\"node193\" class=\"node\">\n",
       "<title>192</title>\n",
       "<text text-anchor=\"middle\" x=\"5099\" y=\"-2511.8\" font-family=\"Times,serif\" font-size=\"14.00\">(9) str.substr(cgi_decode_s_str_1, 3, 1) == &quot;1&quot;</text>\n",
       "</g>\n",
       "<!-- 191&#45;&gt;192 -->\n",
       "<g id=\"edge192\" class=\"edge\">\n",
       "<title>191&#45;&gt;192</title>\n",
       "<path fill=\"none\" stroke=\"red\" d=\"M5208.4,-2573.89C5187.67,-2563.02 5146.13,-2541.22 5120.62,-2527.84\"/>\n",
       "<polygon fill=\"red\" stroke=\"red\" points=\"5122.19,-2524.71 5111.71,-2523.17 5118.94,-2530.91 5122.19,-2524.71\"/>\n",
       "<text text-anchor=\"middle\" x=\"5175\" y=\"-2544.8\" font-family=\"Times,serif\" font-size=\"14.00\">0</text>\n",
       "</g>\n",
       "<!-- 235 -->\n",
       "<g id=\"node236\" class=\"node\">\n",
       "<title>235</title>\n",
       "<text text-anchor=\"middle\" x=\"5251\" y=\"-2511.8\" font-family=\"Times,serif\" font-size=\"14.00\">?</text>\n",
       "</g>\n",
       "<!-- 191&#45;&gt;235 -->\n",
       "<g id=\"edge235\" class=\"edge\">\n",
       "<title>191&#45;&gt;235</title>\n",
       "<path fill=\"none\" stroke=\"blue\" d=\"M5224.21,-2573.65C5228.79,-2563.88 5237.33,-2545.66 5243.54,-2532.41\"/>\n",
       "<polygon fill=\"blue\" stroke=\"blue\" points=\"5246.83,-2533.65 5247.9,-2523.11 5240.49,-2530.68 5246.83,-2533.65\"/>\n",
       "<text text-anchor=\"middle\" x=\"5243\" y=\"-2544.8\" font-family=\"Times,serif\" font-size=\"14.00\">1</text>\n",
       "</g>\n",
       "<!-- 193 -->\n",
       "<g id=\"node194\" class=\"node\">\n",
       "<title>193</title>\n",
       "<text text-anchor=\"middle\" x=\"5006\" y=\"-2445.8\" font-family=\"Times,serif\" font-size=\"14.00\">(10) str.substr(cgi_decode_s_str_1, 3, 1) == &quot;2&quot;</text>\n",
       "</g>\n",
       "<!-- 192&#45;&gt;193 -->\n",
       "<g id=\"edge193\" class=\"edge\">\n",
       "<title>192&#45;&gt;193</title>\n",
       "<path fill=\"none\" stroke=\"red\" d=\"M5089.4,-2507.89C5074.01,-2497.3 5043.59,-2476.37 5024.05,-2462.92\"/>\n",
       "<polygon fill=\"red\" stroke=\"red\" points=\"5025.91,-2459.95 5015.69,-2457.17 5021.94,-2465.72 5025.91,-2459.95\"/>\n",
       "<text text-anchor=\"middle\" x=\"5065\" y=\"-2478.8\" font-family=\"Times,serif\" font-size=\"14.00\">0</text>\n",
       "</g>\n",
       "<!-- 234 -->\n",
       "<g id=\"node235\" class=\"node\">\n",
       "<title>234</title>\n",
       "<text text-anchor=\"middle\" x=\"5161\" y=\"-2445.8\" font-family=\"Times,serif\" font-size=\"14.00\">?</text>\n",
       "</g>\n",
       "<!-- 192&#45;&gt;234 -->\n",
       "<g id=\"edge234\" class=\"edge\">\n",
       "<title>192&#45;&gt;234</title>\n",
       "<path fill=\"none\" stroke=\"blue\" d=\"M5105.64,-2507.65C5116.3,-2496.65 5137.34,-2474.92 5150.19,-2461.66\"/>\n",
       "<polygon fill=\"blue\" stroke=\"blue\" points=\"5152.82,-2463.98 5157.26,-2454.36 5147.79,-2459.11 5152.82,-2463.98\"/>\n",
       "<text text-anchor=\"middle\" x=\"5140\" y=\"-2478.8\" font-family=\"Times,serif\" font-size=\"14.00\">1</text>\n",
       "</g>\n",
       "<!-- 194 -->\n",
       "<g id=\"node195\" class=\"node\">\n",
       "<title>194</title>\n",
       "<text text-anchor=\"middle\" x=\"4987\" y=\"-2379.8\" font-family=\"Times,serif\" font-size=\"14.00\">(11) str.substr(cgi_decode_s_str_1, 3, 1) == &quot;3&quot;</text>\n",
       "</g>\n",
       "<!-- 193&#45;&gt;194 -->\n",
       "<g id=\"edge194\" class=\"edge\">\n",
       "<title>193&#45;&gt;194</title>\n",
       "<path fill=\"none\" stroke=\"red\" d=\"M5003.97,-2441.65C5001.09,-2431.98 4995.76,-2414.02 4991.84,-2400.81\"/>\n",
       "<polygon fill=\"red\" stroke=\"red\" points=\"4995.16,-2399.7 4988.96,-2391.11 4988.45,-2401.69 4995.16,-2399.7\"/>\n",
       "<text text-anchor=\"middle\" x=\"5003\" y=\"-2412.8\" font-family=\"Times,serif\" font-size=\"14.00\">0</text>\n",
       "</g>\n",
       "<!-- 233 -->\n",
       "<g id=\"node234\" class=\"node\">\n",
       "<title>233</title>\n",
       "<text text-anchor=\"middle\" x=\"5142\" y=\"-2379.8\" font-family=\"Times,serif\" font-size=\"14.00\">?</text>\n",
       "</g>\n",
       "<!-- 193&#45;&gt;233 -->\n",
       "<g id=\"edge233\" class=\"edge\">\n",
       "<title>193&#45;&gt;233</title>\n",
       "<path fill=\"none\" stroke=\"blue\" d=\"M5020.45,-2441.89C5043.49,-2431.33 5089.95,-2409.88 5129,-2391 5129.1,-2390.95 5129.19,-2390.91 5129.29,-2390.86\"/>\n",
       "<polygon fill=\"blue\" stroke=\"blue\" points=\"5130.75,-2394.04 5138.15,-2386.46 5127.63,-2387.78 5130.75,-2394.04\"/>\n",
       "<text text-anchor=\"middle\" x=\"5093\" y=\"-2412.8\" font-family=\"Times,serif\" font-size=\"14.00\">1</text>\n",
       "</g>\n",
       "<!-- 195 -->\n",
       "<g id=\"node196\" class=\"node\">\n",
       "<title>195</title>\n",
       "<text text-anchor=\"middle\" x=\"4854\" y=\"-2313.8\" font-family=\"Times,serif\" font-size=\"14.00\">(12) str.substr(cgi_decode_s_str_1, 3, 1) == &quot;4&quot;</text>\n",
       "</g>\n",
       "<!-- 194&#45;&gt;195 -->\n",
       "<g id=\"edge195\" class=\"edge\">\n",
       "<title>194&#45;&gt;195</title>\n",
       "<path fill=\"none\" stroke=\"red\" d=\"M4973.27,-2375.89C4950.57,-2364.97 4904.98,-2343.03 4877.21,-2329.67\"/>\n",
       "<polygon fill=\"red\" stroke=\"red\" points=\"4878.39,-2326.35 4867.86,-2325.17 4875.35,-2332.66 4878.39,-2326.35\"/>\n",
       "<text text-anchor=\"middle\" x=\"4937\" y=\"-2346.8\" font-family=\"Times,serif\" font-size=\"14.00\">0</text>\n",
       "</g>\n",
       "<!-- 232 -->\n",
       "<g id=\"node233\" class=\"node\">\n",
       "<title>232</title>\n",
       "<text text-anchor=\"middle\" x=\"5009\" y=\"-2313.8\" font-family=\"Times,serif\" font-size=\"14.00\">?</text>\n",
       "</g>\n",
       "<!-- 194&#45;&gt;232 -->\n",
       "<g id=\"edge232\" class=\"edge\">\n",
       "<title>194&#45;&gt;232</title>\n",
       "<path fill=\"none\" stroke=\"blue\" d=\"M4989.35,-2375.65C4992.68,-2365.98 4998.85,-2348.02 5003.4,-2334.81\"/>\n",
       "<polygon fill=\"blue\" stroke=\"blue\" points=\"5006.79,-2335.7 5006.73,-2325.11 5000.17,-2333.43 5006.79,-2335.7\"/>\n",
       "<text text-anchor=\"middle\" x=\"5004\" y=\"-2346.8\" font-family=\"Times,serif\" font-size=\"14.00\">1</text>\n",
       "</g>\n",
       "<!-- 196 -->\n",
       "<g id=\"node197\" class=\"node\">\n",
       "<title>196</title>\n",
       "<text text-anchor=\"middle\" x=\"4726\" y=\"-2247.8\" font-family=\"Times,serif\" font-size=\"14.00\">(13) str.substr(cgi_decode_s_str_1, 3, 1) == &quot;5&quot;</text>\n",
       "</g>\n",
       "<!-- 195&#45;&gt;196 -->\n",
       "<g id=\"edge196\" class=\"edge\">\n",
       "<title>195&#45;&gt;196</title>\n",
       "<path fill=\"none\" stroke=\"red\" d=\"M4840.78,-2309.89C4818.94,-2298.97 4775.06,-2277.03 4748.33,-2263.67\"/>\n",
       "<polygon fill=\"red\" stroke=\"red\" points=\"4749.85,-2260.51 4739.34,-2259.17 4746.72,-2266.77 4749.85,-2260.51\"/>\n",
       "<text text-anchor=\"middle\" x=\"4806\" y=\"-2280.8\" font-family=\"Times,serif\" font-size=\"14.00\">0</text>\n",
       "</g>\n",
       "<!-- 231 -->\n",
       "<g id=\"node232\" class=\"node\">\n",
       "<title>231</title>\n",
       "<text text-anchor=\"middle\" x=\"4881\" y=\"-2247.8\" font-family=\"Times,serif\" font-size=\"14.00\">?</text>\n",
       "</g>\n",
       "<!-- 195&#45;&gt;231 -->\n",
       "<g id=\"edge231\" class=\"edge\">\n",
       "<title>195&#45;&gt;231</title>\n",
       "<path fill=\"none\" stroke=\"blue\" d=\"M4856.89,-2309.65C4861.01,-2299.88 4868.7,-2281.66 4874.29,-2268.41\"/>\n",
       "<polygon fill=\"blue\" stroke=\"blue\" points=\"4877.55,-2269.68 4878.21,-2259.11 4871.1,-2266.96 4877.55,-2269.68\"/>\n",
       "<text text-anchor=\"middle\" x=\"4874\" y=\"-2280.8\" font-family=\"Times,serif\" font-size=\"14.00\">1</text>\n",
       "</g>\n",
       "<!-- 197 -->\n",
       "<g id=\"node198\" class=\"node\">\n",
       "<title>197</title>\n",
       "<text text-anchor=\"middle\" x=\"4717\" y=\"-2181.8\" font-family=\"Times,serif\" font-size=\"14.00\">(14) str.substr(cgi_decode_s_str_1, 3, 1) == &quot;6&quot;</text>\n",
       "</g>\n",
       "<!-- 196&#45;&gt;197 -->\n",
       "<g id=\"edge197\" class=\"edge\">\n",
       "<title>196&#45;&gt;197</title>\n",
       "<path fill=\"none\" stroke=\"red\" d=\"M4725.04,-2243.65C4723.69,-2234.07 4721.2,-2216.38 4719.35,-2203.2\"/>\n",
       "<polygon fill=\"red\" stroke=\"red\" points=\"4722.79,-2202.52 4717.93,-2193.11 4715.86,-2203.5 4722.79,-2202.52\"/>\n",
       "<text text-anchor=\"middle\" x=\"4727\" y=\"-2214.8\" font-family=\"Times,serif\" font-size=\"14.00\">0</text>\n",
       "</g>\n",
       "<!-- 230 -->\n",
       "<g id=\"node231\" class=\"node\">\n",
       "<title>230</title>\n",
       "<text text-anchor=\"middle\" x=\"4872\" y=\"-2181.8\" font-family=\"Times,serif\" font-size=\"14.00\">?</text>\n",
       "</g>\n",
       "<!-- 196&#45;&gt;230 -->\n",
       "<g id=\"edge230\" class=\"edge\">\n",
       "<title>196&#45;&gt;230</title>\n",
       "<path fill=\"none\" stroke=\"blue\" d=\"M4742.1,-2243.88C4767.24,-2233.47 4817.27,-2212.44 4859,-2193 4859.1,-2192.95 4859.19,-2192.91 4859.29,-2192.86\"/>\n",
       "<polygon fill=\"blue\" stroke=\"blue\" points=\"4860.74,-2196.05 4868.16,-2188.49 4857.64,-2189.77 4860.74,-2196.05\"/>\n",
       "<text text-anchor=\"middle\" x=\"4824\" y=\"-2214.8\" font-family=\"Times,serif\" font-size=\"14.00\">1</text>\n",
       "</g>\n",
       "<!-- 198 -->\n",
       "<g id=\"node199\" class=\"node\">\n",
       "<title>198</title>\n",
       "<text text-anchor=\"middle\" x=\"4580\" y=\"-2115.8\" font-family=\"Times,serif\" font-size=\"14.00\">(15) str.substr(cgi_decode_s_str_1, 3, 1) == &quot;7&quot;</text>\n",
       "</g>\n",
       "<!-- 197&#45;&gt;198 -->\n",
       "<g id=\"edge198\" class=\"edge\">\n",
       "<title>197&#45;&gt;198</title>\n",
       "<path fill=\"none\" stroke=\"red\" d=\"M4702.85,-2177.89C4679.37,-2166.92 4632.1,-2144.84 4603.53,-2131.49\"/>\n",
       "<polygon fill=\"red\" stroke=\"red\" points=\"4604.82,-2128.23 4594.27,-2127.17 4601.85,-2134.57 4604.82,-2128.23\"/>\n",
       "<text text-anchor=\"middle\" x=\"4665\" y=\"-2148.8\" font-family=\"Times,serif\" font-size=\"14.00\">0</text>\n",
       "</g>\n",
       "<!-- 229 -->\n",
       "<g id=\"node230\" class=\"node\">\n",
       "<title>229</title>\n",
       "<text text-anchor=\"middle\" x=\"4735\" y=\"-2115.8\" font-family=\"Times,serif\" font-size=\"14.00\">?</text>\n",
       "</g>\n",
       "<!-- 197&#45;&gt;229 -->\n",
       "<g id=\"edge229\" class=\"edge\">\n",
       "<title>197&#45;&gt;229</title>\n",
       "<path fill=\"none\" stroke=\"blue\" d=\"M4718.93,-2177.65C4721.65,-2167.98 4726.7,-2150.02 4730.41,-2136.81\"/>\n",
       "<polygon fill=\"blue\" stroke=\"blue\" points=\"4733.8,-2137.68 4733.14,-2127.11 4727.06,-2135.79 4733.8,-2137.68\"/>\n",
       "<text text-anchor=\"middle\" x=\"4732\" y=\"-2148.8\" font-family=\"Times,serif\" font-size=\"14.00\">1</text>\n",
       "</g>\n",
       "<!-- 199 -->\n",
       "<g id=\"node200\" class=\"node\">\n",
       "<title>199</title>\n",
       "<text text-anchor=\"middle\" x=\"4456\" y=\"-2049.8\" font-family=\"Times,serif\" font-size=\"14.00\">(16) str.substr(cgi_decode_s_str_1, 3, 1) == &quot;8&quot;</text>\n",
       "</g>\n",
       "<!-- 198&#45;&gt;199 -->\n",
       "<g id=\"edge199\" class=\"edge\">\n",
       "<title>198&#45;&gt;199</title>\n",
       "<path fill=\"none\" stroke=\"red\" d=\"M4567.2,-2111.89C4546.13,-2101.02 4503.9,-2079.22 4477.98,-2065.84\"/>\n",
       "<polygon fill=\"red\" stroke=\"red\" points=\"4479.41,-2062.64 4468.92,-2061.17 4476.2,-2068.86 4479.41,-2062.64\"/>\n",
       "<text text-anchor=\"middle\" x=\"4534\" y=\"-2082.8\" font-family=\"Times,serif\" font-size=\"14.00\">0</text>\n",
       "</g>\n",
       "<!-- 228 -->\n",
       "<g id=\"node229\" class=\"node\">\n",
       "<title>228</title>\n",
       "<text text-anchor=\"middle\" x=\"4611\" y=\"-2049.8\" font-family=\"Times,serif\" font-size=\"14.00\">?</text>\n",
       "</g>\n",
       "<!-- 198&#45;&gt;228 -->\n",
       "<g id=\"edge228\" class=\"edge\">\n",
       "<title>198&#45;&gt;228</title>\n",
       "<path fill=\"none\" stroke=\"blue\" d=\"M4583.32,-2111.65C4588.05,-2101.88 4596.88,-2083.66 4603.29,-2070.41\"/>\n",
       "<polygon fill=\"blue\" stroke=\"blue\" points=\"4606.59,-2071.63 4607.8,-2061.11 4600.29,-2068.58 4606.59,-2071.63\"/>\n",
       "<text text-anchor=\"middle\" x=\"4603\" y=\"-2082.8\" font-family=\"Times,serif\" font-size=\"14.00\">1</text>\n",
       "</g>\n",
       "<!-- 200 -->\n",
       "<g id=\"node201\" class=\"node\">\n",
       "<title>200</title>\n",
       "<text text-anchor=\"middle\" x=\"4356\" y=\"-1983.8\" font-family=\"Times,serif\" font-size=\"14.00\">(17) str.substr(cgi_decode_s_str_1, 3, 1) == &quot;9&quot;</text>\n",
       "</g>\n",
       "<!-- 199&#45;&gt;200 -->\n",
       "<g id=\"edge200\" class=\"edge\">\n",
       "<title>199&#45;&gt;200</title>\n",
       "<path fill=\"none\" stroke=\"red\" d=\"M4445.67,-2045.89C4428.98,-2035.21 4395.83,-2013.99 4374.84,-2000.56\"/>\n",
       "<polygon fill=\"red\" stroke=\"red\" points=\"4376.73,-1997.61 4366.42,-1995.17 4372.95,-2003.51 4376.73,-1997.61\"/>\n",
       "<text text-anchor=\"middle\" x=\"4419\" y=\"-2016.8\" font-family=\"Times,serif\" font-size=\"14.00\">0</text>\n",
       "</g>\n",
       "<!-- 227 -->\n",
       "<g id=\"node228\" class=\"node\">\n",
       "<title>227</title>\n",
       "<text text-anchor=\"middle\" x=\"4511\" y=\"-1983.8\" font-family=\"Times,serif\" font-size=\"14.00\">?</text>\n",
       "</g>\n",
       "<!-- 199&#45;&gt;227 -->\n",
       "<g id=\"edge227\" class=\"edge\">\n",
       "<title>199&#45;&gt;227</title>\n",
       "<path fill=\"none\" stroke=\"blue\" d=\"M4461.89,-2045.65C4471.16,-2034.86 4489.3,-2013.75 4500.75,-2000.42\"/>\n",
       "<polygon fill=\"blue\" stroke=\"blue\" points=\"4503.55,-2002.53 4507.42,-1992.67 4498.25,-1997.97 4503.55,-2002.53\"/>\n",
       "<text text-anchor=\"middle\" x=\"4493\" y=\"-2016.8\" font-family=\"Times,serif\" font-size=\"14.00\">1</text>\n",
       "</g>\n",
       "<!-- 201 -->\n",
       "<g id=\"node202\" class=\"node\">\n",
       "<title>201</title>\n",
       "<text text-anchor=\"middle\" x=\"4224\" y=\"-1917.8\" font-family=\"Times,serif\" font-size=\"14.00\">(18) str.substr(cgi_decode_s_str_1, 3, 1) == &quot;a&quot;</text>\n",
       "</g>\n",
       "<!-- 200&#45;&gt;201 -->\n",
       "<g id=\"edge201\" class=\"edge\">\n",
       "<title>200&#45;&gt;201</title>\n",
       "<path fill=\"none\" stroke=\"red\" d=\"M4342.37,-1979.89C4319.84,-1968.97 4274.6,-1947.03 4247.03,-1933.67\"/>\n",
       "<polygon fill=\"red\" stroke=\"red\" points=\"4248.28,-1930.38 4237.75,-1929.17 4245.22,-1936.68 4248.28,-1930.38\"/>\n",
       "<text text-anchor=\"middle\" x=\"4306\" y=\"-1950.8\" font-family=\"Times,serif\" font-size=\"14.00\">0</text>\n",
       "</g>\n",
       "<!-- 226 -->\n",
       "<g id=\"node227\" class=\"node\">\n",
       "<title>226</title>\n",
       "<text text-anchor=\"middle\" x=\"4379\" y=\"-1917.8\" font-family=\"Times,serif\" font-size=\"14.00\">?</text>\n",
       "</g>\n",
       "<!-- 200&#45;&gt;226 -->\n",
       "<g id=\"edge226\" class=\"edge\">\n",
       "<title>200&#45;&gt;226</title>\n",
       "<path fill=\"none\" stroke=\"blue\" d=\"M4358.46,-1979.65C4361.94,-1969.98 4368.39,-1952.02 4373.14,-1938.81\"/>\n",
       "<polygon fill=\"blue\" stroke=\"blue\" points=\"4376.54,-1939.7 4376.63,-1929.11 4369.95,-1937.34 4376.54,-1939.7\"/>\n",
       "<text text-anchor=\"middle\" x=\"4374\" y=\"-1950.8\" font-family=\"Times,serif\" font-size=\"14.00\">1</text>\n",
       "</g>\n",
       "<!-- 202 -->\n",
       "<g id=\"node203\" class=\"node\">\n",
       "<title>202</title>\n",
       "<text text-anchor=\"middle\" x=\"4162\" y=\"-1851.8\" font-family=\"Times,serif\" font-size=\"14.00\">(19) str.substr(cgi_decode_s_str_1, 3, 1) == &quot;b&quot;</text>\n",
       "</g>\n",
       "<!-- 201&#45;&gt;202 -->\n",
       "<g id=\"edge202\" class=\"edge\">\n",
       "<title>201&#45;&gt;202</title>\n",
       "<path fill=\"none\" stroke=\"red\" d=\"M4217.36,-1913.65C4207.43,-1903.4 4188.48,-1883.83 4175.54,-1870.48\"/>\n",
       "<polygon fill=\"red\" stroke=\"red\" points=\"4177.87,-1867.86 4168.4,-1863.11 4172.85,-1872.73 4177.87,-1867.86\"/>\n",
       "<text text-anchor=\"middle\" x=\"4203\" y=\"-1884.8\" font-family=\"Times,serif\" font-size=\"14.00\">0</text>\n",
       "</g>\n",
       "<!-- 225 -->\n",
       "<g id=\"node226\" class=\"node\">\n",
       "<title>225</title>\n",
       "<text text-anchor=\"middle\" x=\"4317\" y=\"-1851.8\" font-family=\"Times,serif\" font-size=\"14.00\">?</text>\n",
       "</g>\n",
       "<!-- 201&#45;&gt;225 -->\n",
       "<g id=\"edge225\" class=\"edge\">\n",
       "<title>201&#45;&gt;225</title>\n",
       "<path fill=\"none\" stroke=\"blue\" d=\"M4233.6,-1913.89C4250.68,-1902.14 4286.27,-1877.65 4304.95,-1864.79\"/>\n",
       "<polygon fill=\"blue\" stroke=\"blue\" points=\"4307.12,-1867.55 4313.37,-1859 4303.15,-1861.78 4307.12,-1867.55\"/>\n",
       "<text text-anchor=\"middle\" x=\"4283\" y=\"-1884.8\" font-family=\"Times,serif\" font-size=\"14.00\">1</text>\n",
       "</g>\n",
       "<!-- 203 -->\n",
       "<g id=\"node204\" class=\"node\">\n",
       "<title>203</title>\n",
       "<text text-anchor=\"middle\" x=\"4038\" y=\"-1785.8\" font-family=\"Times,serif\" font-size=\"14.00\">(20) str.substr(cgi_decode_s_str_1, 3, 1) == &quot;c&quot;</text>\n",
       "</g>\n",
       "<!-- 202&#45;&gt;203 -->\n",
       "<g id=\"edge203\" class=\"edge\">\n",
       "<title>202&#45;&gt;203</title>\n",
       "<path fill=\"none\" stroke=\"red\" d=\"M4149.2,-1847.89C4128.13,-1837.02 4085.9,-1815.22 4059.98,-1801.84\"/>\n",
       "<polygon fill=\"red\" stroke=\"red\" points=\"4061.41,-1798.64 4050.92,-1797.17 4058.2,-1804.86 4061.41,-1798.64\"/>\n",
       "<text text-anchor=\"middle\" x=\"4116\" y=\"-1818.8\" font-family=\"Times,serif\" font-size=\"14.00\">0</text>\n",
       "</g>\n",
       "<!-- 224 -->\n",
       "<g id=\"node225\" class=\"node\">\n",
       "<title>224</title>\n",
       "<text text-anchor=\"middle\" x=\"4193\" y=\"-1785.8\" font-family=\"Times,serif\" font-size=\"14.00\">?</text>\n",
       "</g>\n",
       "<!-- 202&#45;&gt;224 -->\n",
       "<g id=\"edge224\" class=\"edge\">\n",
       "<title>202&#45;&gt;224</title>\n",
       "<path fill=\"none\" stroke=\"blue\" d=\"M4165.32,-1847.65C4170.05,-1837.88 4178.88,-1819.66 4185.29,-1806.41\"/>\n",
       "<polygon fill=\"blue\" stroke=\"blue\" points=\"4188.59,-1807.63 4189.8,-1797.11 4182.29,-1804.58 4188.59,-1807.63\"/>\n",
       "<text text-anchor=\"middle\" x=\"4185\" y=\"-1818.8\" font-family=\"Times,serif\" font-size=\"14.00\">1</text>\n",
       "</g>\n",
       "<!-- 204 -->\n",
       "<g id=\"node205\" class=\"node\">\n",
       "<title>204</title>\n",
       "<text text-anchor=\"middle\" x=\"3914\" y=\"-1719.8\" font-family=\"Times,serif\" font-size=\"14.00\">(21) str.substr(cgi_decode_s_str_1, 3, 1) == &quot;d&quot;</text>\n",
       "</g>\n",
       "<!-- 203&#45;&gt;204 -->\n",
       "<g id=\"edge204\" class=\"edge\">\n",
       "<title>203&#45;&gt;204</title>\n",
       "<path fill=\"none\" stroke=\"red\" d=\"M4025.2,-1781.89C4004.13,-1771.02 3961.9,-1749.22 3935.98,-1735.84\"/>\n",
       "<polygon fill=\"red\" stroke=\"red\" points=\"3937.41,-1732.64 3926.92,-1731.17 3934.2,-1738.86 3937.41,-1732.64\"/>\n",
       "<text text-anchor=\"middle\" x=\"3992\" y=\"-1752.8\" font-family=\"Times,serif\" font-size=\"14.00\">0</text>\n",
       "</g>\n",
       "<!-- 223 -->\n",
       "<g id=\"node224\" class=\"node\">\n",
       "<title>223</title>\n",
       "<text text-anchor=\"middle\" x=\"4069\" y=\"-1719.8\" font-family=\"Times,serif\" font-size=\"14.00\">?</text>\n",
       "</g>\n",
       "<!-- 203&#45;&gt;223 -->\n",
       "<g id=\"edge223\" class=\"edge\">\n",
       "<title>203&#45;&gt;223</title>\n",
       "<path fill=\"none\" stroke=\"blue\" d=\"M4041.32,-1781.65C4046.05,-1771.88 4054.88,-1753.66 4061.29,-1740.41\"/>\n",
       "<polygon fill=\"blue\" stroke=\"blue\" points=\"4064.59,-1741.63 4065.8,-1731.11 4058.29,-1738.58 4064.59,-1741.63\"/>\n",
       "<text text-anchor=\"middle\" x=\"4061\" y=\"-1752.8\" font-family=\"Times,serif\" font-size=\"14.00\">1</text>\n",
       "</g>\n",
       "<!-- 205 -->\n",
       "<g id=\"node206\" class=\"node\">\n",
       "<title>205</title>\n",
       "<text text-anchor=\"middle\" x=\"3889\" y=\"-1653.8\" font-family=\"Times,serif\" font-size=\"14.00\">(22) str.substr(cgi_decode_s_str_1, 3, 1) == &quot;e&quot;</text>\n",
       "</g>\n",
       "<!-- 204&#45;&gt;205 -->\n",
       "<g id=\"edge205\" class=\"edge\">\n",
       "<title>204&#45;&gt;205</title>\n",
       "<path fill=\"none\" stroke=\"red\" d=\"M3911.32,-1715.65C3907.55,-1705.98 3900.53,-1688.02 3895.37,-1674.81\"/>\n",
       "<polygon fill=\"red\" stroke=\"red\" points=\"3898.48,-1673.15 3891.58,-1665.11 3891.96,-1675.7 3898.48,-1673.15\"/>\n",
       "<text text-anchor=\"middle\" x=\"3908\" y=\"-1686.8\" font-family=\"Times,serif\" font-size=\"14.00\">0</text>\n",
       "</g>\n",
       "<!-- 222 -->\n",
       "<g id=\"node223\" class=\"node\">\n",
       "<title>222</title>\n",
       "<text text-anchor=\"middle\" x=\"4044\" y=\"-1653.8\" font-family=\"Times,serif\" font-size=\"14.00\">?</text>\n",
       "</g>\n",
       "<!-- 204&#45;&gt;222 -->\n",
       "<g id=\"edge222\" class=\"edge\">\n",
       "<title>204&#45;&gt;222</title>\n",
       "<path fill=\"none\" stroke=\"blue\" d=\"M3927.35,-1715.98C3949.09,-1705.34 3993.49,-1683.6 4031,-1665 4031.1,-1664.95 4031.19,-1664.9 4031.29,-1664.86\"/>\n",
       "<polygon fill=\"blue\" stroke=\"blue\" points=\"4032.75,-1668.04 4040.14,-1660.44 4029.62,-1661.78 4032.75,-1668.04\"/>\n",
       "<text text-anchor=\"middle\" x=\"3997\" y=\"-1686.8\" font-family=\"Times,serif\" font-size=\"14.00\">1</text>\n",
       "</g>\n",
       "<!-- 206 -->\n",
       "<g id=\"node207\" class=\"node\">\n",
       "<title>206</title>\n",
       "<text text-anchor=\"middle\" x=\"3888\" y=\"-1587.8\" font-family=\"Times,serif\" font-size=\"14.00\">(23) str.substr(cgi_decode_s_str_1, 3, 1) == &quot;f&quot;</text>\n",
       "</g>\n",
       "<!-- 205&#45;&gt;206 -->\n",
       "<g id=\"edge206\" class=\"edge\">\n",
       "<title>205&#45;&gt;206</title>\n",
       "<path fill=\"none\" stroke=\"red\" d=\"M3888.89,-1649.65C3888.74,-1640.07 3888.47,-1622.38 3888.26,-1609.2\"/>\n",
       "<polygon fill=\"red\" stroke=\"red\" points=\"3891.76,-1609.05 3888.1,-1599.11 3884.76,-1609.16 3891.76,-1609.05\"/>\n",
       "<text text-anchor=\"middle\" x=\"3893\" y=\"-1620.8\" font-family=\"Times,serif\" font-size=\"14.00\">0</text>\n",
       "</g>\n",
       "<!-- 221 -->\n",
       "<g id=\"node222\" class=\"node\">\n",
       "<title>221</title>\n",
       "<text text-anchor=\"middle\" x=\"4042\" y=\"-1587.8\" font-family=\"Times,serif\" font-size=\"14.00\">?</text>\n",
       "</g>\n",
       "<!-- 205&#45;&gt;221 -->\n",
       "<g id=\"edge221\" class=\"edge\">\n",
       "<title>205&#45;&gt;221</title>\n",
       "<path fill=\"none\" stroke=\"blue\" d=\"M3905.98,-1649.99C3932.5,-1639.73 3985.23,-1618.9 4029,-1599 4029.1,-1598.96 4029.2,-1598.91 4029.29,-1598.87\"/>\n",
       "<polygon fill=\"blue\" stroke=\"blue\" points=\"4030.73,-1602.06 4038.17,-1594.51 4027.65,-1595.77 4030.73,-1602.06\"/>\n",
       "<text text-anchor=\"middle\" x=\"3992\" y=\"-1620.8\" font-family=\"Times,serif\" font-size=\"14.00\">1</text>\n",
       "</g>\n",
       "<!-- 207 -->\n",
       "<g id=\"node208\" class=\"node\">\n",
       "<title>207</title>\n",
       "<text text-anchor=\"middle\" x=\"3791\" y=\"-1521.8\" font-family=\"Times,serif\" font-size=\"14.00\">(24) str.substr(cgi_decode_s_str_1, 3, 1) == &quot;A&quot;</text>\n",
       "</g>\n",
       "<!-- 206&#45;&gt;207 -->\n",
       "<g id=\"edge207\" class=\"edge\">\n",
       "<title>206&#45;&gt;207</title>\n",
       "<path fill=\"none\" stroke=\"red\" d=\"M3877.98,-1583.89C3861.87,-1573.26 3829.92,-1552.18 3809.55,-1538.74\"/>\n",
       "<polygon fill=\"red\" stroke=\"red\" points=\"3811.38,-1535.75 3801.11,-1533.17 3807.53,-1541.6 3811.38,-1535.75\"/>\n",
       "<text text-anchor=\"middle\" x=\"3853\" y=\"-1554.8\" font-family=\"Times,serif\" font-size=\"14.00\">0</text>\n",
       "</g>\n",
       "<!-- 220 -->\n",
       "<g id=\"node221\" class=\"node\">\n",
       "<title>220</title>\n",
       "<text text-anchor=\"middle\" x=\"3948\" y=\"-1521.8\" font-family=\"Times,serif\" font-size=\"14.00\">?</text>\n",
       "</g>\n",
       "<!-- 206&#45;&gt;220 -->\n",
       "<g id=\"edge220\" class=\"edge\">\n",
       "<title>206&#45;&gt;220</title>\n",
       "<path fill=\"none\" stroke=\"blue\" d=\"M3894.42,-1583.65C3904.74,-1572.65 3925.1,-1550.92 3937.54,-1537.66\"/>\n",
       "<polygon fill=\"blue\" stroke=\"blue\" points=\"3940.1,-1540.05 3944.38,-1530.36 3934.99,-1535.26 3940.1,-1540.05\"/>\n",
       "<text text-anchor=\"middle\" x=\"3928\" y=\"-1554.8\" font-family=\"Times,serif\" font-size=\"14.00\">1</text>\n",
       "</g>\n",
       "<!-- 208 -->\n",
       "<g id=\"node209\" class=\"node\">\n",
       "<title>208</title>\n",
       "<text text-anchor=\"middle\" x=\"3653\" y=\"-1455.8\" font-family=\"Times,serif\" font-size=\"14.00\">(25) str.substr(cgi_decode_s_str_1, 3, 1) == &quot;B&quot;</text>\n",
       "</g>\n",
       "<!-- 207&#45;&gt;208 -->\n",
       "<g id=\"edge208\" class=\"edge\">\n",
       "<title>207&#45;&gt;208</title>\n",
       "<path fill=\"none\" stroke=\"red\" d=\"M3776.75,-1517.89C3753.1,-1506.92 3705.48,-1484.84 3676.7,-1471.49\"/>\n",
       "<polygon fill=\"red\" stroke=\"red\" points=\"3677.92,-1468.2 3667.38,-1467.17 3674.98,-1474.55 3677.92,-1468.2\"/>\n",
       "<text text-anchor=\"middle\" x=\"3739\" y=\"-1488.8\" font-family=\"Times,serif\" font-size=\"14.00\">0</text>\n",
       "</g>\n",
       "<!-- 219 -->\n",
       "<g id=\"node220\" class=\"node\">\n",
       "<title>219</title>\n",
       "<text text-anchor=\"middle\" x=\"3810\" y=\"-1455.8\" font-family=\"Times,serif\" font-size=\"14.00\">?</text>\n",
       "</g>\n",
       "<!-- 207&#45;&gt;219 -->\n",
       "<g id=\"edge219\" class=\"edge\">\n",
       "<title>207&#45;&gt;219</title>\n",
       "<path fill=\"none\" stroke=\"blue\" d=\"M3793.03,-1517.65C3795.91,-1507.98 3801.24,-1490.02 3805.16,-1476.81\"/>\n",
       "<polygon fill=\"blue\" stroke=\"blue\" points=\"3808.55,-1477.69 3808.04,-1467.11 3801.84,-1475.7 3808.55,-1477.69\"/>\n",
       "<text text-anchor=\"middle\" x=\"3807\" y=\"-1488.8\" font-family=\"Times,serif\" font-size=\"14.00\">1</text>\n",
       "</g>\n",
       "<!-- 209 -->\n",
       "<g id=\"node210\" class=\"node\">\n",
       "<title>209</title>\n",
       "<text text-anchor=\"middle\" x=\"3506\" y=\"-1389.8\" font-family=\"Times,serif\" font-size=\"14.00\">(26) str.substr(cgi_decode_s_str_1, 3, 1) == &quot;C&quot;</text>\n",
       "</g>\n",
       "<!-- 208&#45;&gt;209 -->\n",
       "<g id=\"edge209\" class=\"edge\">\n",
       "<title>208&#45;&gt;209</title>\n",
       "<path fill=\"none\" stroke=\"red\" d=\"M3637.82,-1451.89C3612.51,-1440.87 3561.46,-1418.65 3530.85,-1405.32\"/>\n",
       "<polygon fill=\"red\" stroke=\"red\" points=\"3531.88,-1401.95 3521.32,-1401.17 3529.09,-1408.37 3531.88,-1401.95\"/>\n",
       "<text text-anchor=\"middle\" x=\"3597\" y=\"-1422.8\" font-family=\"Times,serif\" font-size=\"14.00\">0</text>\n",
       "</g>\n",
       "<!-- 218 -->\n",
       "<g id=\"node219\" class=\"node\">\n",
       "<title>218</title>\n",
       "<text text-anchor=\"middle\" x=\"3663\" y=\"-1389.8\" font-family=\"Times,serif\" font-size=\"14.00\">?</text>\n",
       "</g>\n",
       "<!-- 208&#45;&gt;218 -->\n",
       "<g id=\"edge218\" class=\"edge\">\n",
       "<title>208&#45;&gt;218</title>\n",
       "<path fill=\"none\" stroke=\"blue\" d=\"M3654.07,-1451.65C3655.57,-1442.07 3658.33,-1424.38 3660.39,-1411.2\"/>\n",
       "<polygon fill=\"blue\" stroke=\"blue\" points=\"3663.88,-1411.53 3661.97,-1401.11 3656.97,-1410.45 3663.88,-1411.53\"/>\n",
       "<text text-anchor=\"middle\" x=\"3663\" y=\"-1422.8\" font-family=\"Times,serif\" font-size=\"14.00\">1</text>\n",
       "</g>\n",
       "<!-- 210 -->\n",
       "<g id=\"node211\" class=\"node\">\n",
       "<title>210</title>\n",
       "<text text-anchor=\"middle\" x=\"3370\" y=\"-1323.8\" font-family=\"Times,serif\" font-size=\"14.00\">(27) str.substr(cgi_decode_s_str_1, 3, 1) == &quot;D&quot;</text>\n",
       "</g>\n",
       "<!-- 209&#45;&gt;210 -->\n",
       "<g id=\"edge210\" class=\"edge\">\n",
       "<title>209&#45;&gt;210</title>\n",
       "<path fill=\"none\" stroke=\"red\" d=\"M3491.96,-1385.89C3468.65,-1374.92 3421.72,-1352.84 3393.36,-1339.49\"/>\n",
       "<polygon fill=\"red\" stroke=\"red\" points=\"3394.71,-1336.26 3384.17,-1335.17 3391.73,-1342.59 3394.71,-1336.26\"/>\n",
       "<text text-anchor=\"middle\" x=\"3455\" y=\"-1356.8\" font-family=\"Times,serif\" font-size=\"14.00\">0</text>\n",
       "</g>\n",
       "<!-- 217 -->\n",
       "<g id=\"node218\" class=\"node\">\n",
       "<title>217</title>\n",
       "<text text-anchor=\"middle\" x=\"3527\" y=\"-1323.8\" font-family=\"Times,serif\" font-size=\"14.00\">?</text>\n",
       "</g>\n",
       "<!-- 209&#45;&gt;217 -->\n",
       "<g id=\"edge217\" class=\"edge\">\n",
       "<title>209&#45;&gt;217</title>\n",
       "<path fill=\"none\" stroke=\"blue\" d=\"M3508.25,-1385.65C3511.42,-1375.98 3517.31,-1358.02 3521.65,-1344.81\"/>\n",
       "<polygon fill=\"blue\" stroke=\"blue\" points=\"3525.04,-1345.7 3524.83,-1335.11 3518.39,-1343.52 3525.04,-1345.7\"/>\n",
       "<text text-anchor=\"middle\" x=\"3523\" y=\"-1356.8\" font-family=\"Times,serif\" font-size=\"14.00\">1</text>\n",
       "</g>\n",
       "<!-- 211 -->\n",
       "<g id=\"node212\" class=\"node\">\n",
       "<title>211</title>\n",
       "<text text-anchor=\"middle\" x=\"3221\" y=\"-1257.8\" font-family=\"Times,serif\" font-size=\"14.00\">(28) str.substr(cgi_decode_s_str_1, 3, 1) == &quot;E&quot;</text>\n",
       "</g>\n",
       "<!-- 210&#45;&gt;211 -->\n",
       "<g id=\"edge211\" class=\"edge\">\n",
       "<title>210&#45;&gt;211</title>\n",
       "<path fill=\"none\" stroke=\"red\" d=\"M3354.62,-1319.89C3328.85,-1308.83 3276.76,-1286.45 3245.78,-1273.14\"/>\n",
       "<polygon fill=\"red\" stroke=\"red\" points=\"3247.09,-1269.9 3236.52,-1269.17 3244.33,-1276.33 3247.09,-1269.9\"/>\n",
       "<text text-anchor=\"middle\" x=\"3313\" y=\"-1290.8\" font-family=\"Times,serif\" font-size=\"14.00\">0</text>\n",
       "</g>\n",
       "<!-- 216 -->\n",
       "<g id=\"node217\" class=\"node\">\n",
       "<title>216</title>\n",
       "<text text-anchor=\"middle\" x=\"3377\" y=\"-1257.8\" font-family=\"Times,serif\" font-size=\"14.00\">?</text>\n",
       "</g>\n",
       "<!-- 210&#45;&gt;216 -->\n",
       "<g id=\"edge216\" class=\"edge\">\n",
       "<title>210&#45;&gt;216</title>\n",
       "<path fill=\"none\" stroke=\"blue\" d=\"M3370.75,-1319.65C3371.8,-1310.07 3373.73,-1292.38 3375.17,-1279.2\"/>\n",
       "<polygon fill=\"blue\" stroke=\"blue\" points=\"3378.67,-1279.43 3376.28,-1269.11 3371.71,-1278.67 3378.67,-1279.43\"/>\n",
       "<text text-anchor=\"middle\" x=\"3379\" y=\"-1290.8\" font-family=\"Times,serif\" font-size=\"14.00\">1</text>\n",
       "</g>\n",
       "<!-- 212 -->\n",
       "<g id=\"node213\" class=\"node\">\n",
       "<title>212</title>\n",
       "<text text-anchor=\"middle\" x=\"3112\" y=\"-1191.8\" font-family=\"Times,serif\" font-size=\"14.00\">(29) str.substr(cgi_decode_s_str_1, 3, 1) == &quot;F&quot;</text>\n",
       "</g>\n",
       "<!-- 211&#45;&gt;212 -->\n",
       "<g id=\"edge212\" class=\"edge\">\n",
       "<title>211&#45;&gt;212</title>\n",
       "<path fill=\"none\" stroke=\"red\" d=\"M3209.75,-1253.89C3191.47,-1243.16 3155.09,-1221.8 3132.23,-1208.38\"/>\n",
       "<polygon fill=\"red\" stroke=\"red\" points=\"3133.75,-1205.21 3123.36,-1203.17 3130.21,-1211.25 3133.75,-1205.21\"/>\n",
       "<text text-anchor=\"middle\" x=\"3181\" y=\"-1224.8\" font-family=\"Times,serif\" font-size=\"14.00\">0</text>\n",
       "</g>\n",
       "<!-- 215 -->\n",
       "<g id=\"node216\" class=\"node\">\n",
       "<title>215</title>\n",
       "<text text-anchor=\"middle\" x=\"3268\" y=\"-1191.8\" font-family=\"Times,serif\" font-size=\"14.00\">?</text>\n",
       "</g>\n",
       "<!-- 211&#45;&gt;215 -->\n",
       "<g id=\"edge215\" class=\"edge\">\n",
       "<title>211&#45;&gt;215</title>\n",
       "<path fill=\"none\" stroke=\"blue\" d=\"M3226.03,-1253.65C3233.73,-1243.17 3248.57,-1222.96 3258.38,-1209.6\"/>\n",
       "<polygon fill=\"blue\" stroke=\"blue\" points=\"3261.36,-1211.45 3264.46,-1201.32 3255.72,-1207.31 3261.36,-1211.45\"/>\n",
       "<text text-anchor=\"middle\" x=\"3253\" y=\"-1224.8\" font-family=\"Times,serif\" font-size=\"14.00\">1</text>\n",
       "</g>\n",
       "<!-- 213 -->\n",
       "<g id=\"node214\" class=\"node\">\n",
       "<title>213</title>\n",
       "<text text-anchor=\"middle\" x=\"3085\" y=\"-1125.8\" font-family=\"Times,serif\" font-size=\"14.00\">* +%4\\x00</text>\n",
       "</g>\n",
       "<!-- 212&#45;&gt;213 -->\n",
       "<g id=\"edge213\" class=\"edge\">\n",
       "<title>212&#45;&gt;213</title>\n",
       "<path fill=\"none\" stroke=\"red\" d=\"M3109.11,-1187.65C3104.99,-1177.88 3097.3,-1159.66 3091.71,-1146.41\"/>\n",
       "<polygon fill=\"red\" stroke=\"red\" points=\"3094.9,-1144.96 3087.79,-1137.11 3088.45,-1147.68 3094.9,-1144.96\"/>\n",
       "<text text-anchor=\"middle\" x=\"3105\" y=\"-1158.8\" font-family=\"Times,serif\" font-size=\"14.00\">0</text>\n",
       "</g>\n",
       "<!-- 214 -->\n",
       "<g id=\"node215\" class=\"node\">\n",
       "<title>214</title>\n",
       "<text text-anchor=\"middle\" x=\"3138\" y=\"-1125.8\" font-family=\"Times,serif\" font-size=\"14.00\">?</text>\n",
       "</g>\n",
       "<!-- 212&#45;&gt;214 -->\n",
       "<g id=\"edge214\" class=\"edge\">\n",
       "<title>212&#45;&gt;214</title>\n",
       "<path fill=\"none\" stroke=\"blue\" d=\"M3114.78,-1187.65C3118.75,-1177.88 3126.15,-1159.66 3131.54,-1146.41\"/>\n",
       "<polygon fill=\"blue\" stroke=\"blue\" points=\"3134.79,-1147.69 3135.32,-1137.11 3128.31,-1145.06 3134.79,-1147.69\"/>\n",
       "<text text-anchor=\"middle\" x=\"3132\" y=\"-1158.8\" font-family=\"Times,serif\" font-size=\"14.00\">1</text>\n",
       "</g>\n",
       "<!-- 241 -->\n",
       "<g id=\"node242\" class=\"node\">\n",
       "<title>241</title>\n",
       "<text text-anchor=\"middle\" x=\"5888\" y=\"-2907.8\" font-family=\"Times,serif\" font-size=\"14.00\">(3) str.substr(cgi_decode_s_str_1, 2, 1) == &quot;%&quot;</text>\n",
       "</g>\n",
       "<!-- 240&#45;&gt;241 -->\n",
       "<g id=\"edge241\" class=\"edge\">\n",
       "<title>240&#45;&gt;241</title>\n",
       "<path fill=\"none\" stroke=\"red\" d=\"M5888,-2969.65C5888,-2960.07 5888,-2942.38 5888,-2929.2\"/>\n",
       "<polygon fill=\"red\" stroke=\"red\" points=\"5891.5,-2929.11 5888,-2919.11 5884.5,-2929.11 5891.5,-2929.11\"/>\n",
       "<text text-anchor=\"middle\" x=\"5892\" y=\"-2940.8\" font-family=\"Times,serif\" font-size=\"14.00\">0</text>\n",
       "</g>\n",
       "<!-- 256 -->\n",
       "<g id=\"node257\" class=\"node\">\n",
       "<title>256</title>\n",
       "<text text-anchor=\"middle\" x=\"6169\" y=\"-2907.8\" font-family=\"Times,serif\" font-size=\"14.00\">(3) str.substr(cgi_decode_s_str_1, 3, 1) == &quot;+&quot;</text>\n",
       "</g>\n",
       "<!-- 240&#45;&gt;256 -->\n",
       "<g id=\"edge256\" class=\"edge\">\n",
       "<title>240&#45;&gt;256</title>\n",
       "<path fill=\"none\" stroke=\"blue\" d=\"M5916.75,-2969.95C5967.45,-2958.4 6072.77,-2934.42 6129.98,-2921.39\"/>\n",
       "<polygon fill=\"blue\" stroke=\"blue\" points=\"6131.11,-2924.72 6140.08,-2919.09 6129.55,-2917.9 6131.11,-2924.72\"/>\n",
       "<text text-anchor=\"middle\" x=\"6058\" y=\"-2940.8\" font-family=\"Times,serif\" font-size=\"14.00\">1</text>\n",
       "</g>\n",
       "<!-- 242 -->\n",
       "<g id=\"node243\" class=\"node\">\n",
       "<title>242</title>\n",
       "<text text-anchor=\"middle\" x=\"5804\" y=\"-2841.8\" font-family=\"Times,serif\" font-size=\"14.00\">(4) str.substr(cgi_decode_s_str_1, 3, 1) == &quot;+&quot;</text>\n",
       "</g>\n",
       "<!-- 241&#45;&gt;242 -->\n",
       "<g id=\"edge242\" class=\"edge\">\n",
       "<title>241&#45;&gt;242</title>\n",
       "<path fill=\"none\" stroke=\"red\" d=\"M5879.33,-2903.89C5865.62,-2893.45 5838.7,-2872.93 5821.03,-2859.47\"/>\n",
       "<polygon fill=\"red\" stroke=\"red\" points=\"5822.83,-2856.44 5812.75,-2853.17 5818.58,-2862.01 5822.83,-2856.44\"/>\n",
       "<text text-anchor=\"middle\" x=\"5858\" y=\"-2874.8\" font-family=\"Times,serif\" font-size=\"14.00\">0</text>\n",
       "</g>\n",
       "<!-- 255 -->\n",
       "<g id=\"node256\" class=\"node\">\n",
       "<title>255</title>\n",
       "<text text-anchor=\"middle\" x=\"5956\" y=\"-2841.8\" font-family=\"Times,serif\" font-size=\"14.00\">?</text>\n",
       "</g>\n",
       "<!-- 241&#45;&gt;255 -->\n",
       "<g id=\"edge255\" class=\"edge\">\n",
       "<title>241&#45;&gt;255</title>\n",
       "<path fill=\"none\" stroke=\"blue\" d=\"M5895.02,-2903.89C5906.82,-2892.78 5930.73,-2870.28 5944.85,-2856.99\"/>\n",
       "<polygon fill=\"blue\" stroke=\"blue\" points=\"5947.61,-2859.21 5952.49,-2849.8 5942.81,-2854.11 5947.61,-2859.21\"/>\n",
       "<text text-anchor=\"middle\" x=\"5933\" y=\"-2874.8\" font-family=\"Times,serif\" font-size=\"14.00\">1</text>\n",
       "</g>\n",
       "<!-- 243 -->\n",
       "<g id=\"node244\" class=\"node\">\n",
       "<title>243</title>\n",
       "<text text-anchor=\"middle\" x=\"5792\" y=\"-2775.8\" font-family=\"Times,serif\" font-size=\"14.00\">(5) str.substr(cgi_decode_s_str_1, 3, 1) == &quot;%&quot;</text>\n",
       "</g>\n",
       "<!-- 242&#45;&gt;243 -->\n",
       "<g id=\"edge243\" class=\"edge\">\n",
       "<title>242&#45;&gt;243</title>\n",
       "<path fill=\"none\" stroke=\"red\" d=\"M5802.72,-2837.65C5800.92,-2828.07 5797.6,-2810.38 5795.13,-2797.2\"/>\n",
       "<polygon fill=\"red\" stroke=\"red\" points=\"5798.52,-2796.29 5793.24,-2787.11 5791.64,-2797.58 5798.52,-2796.29\"/>\n",
       "<text text-anchor=\"middle\" x=\"5804\" y=\"-2808.8\" font-family=\"Times,serif\" font-size=\"14.00\">0</text>\n",
       "</g>\n",
       "<!-- 254 -->\n",
       "<g id=\"node255\" class=\"node\">\n",
       "<title>254</title>\n",
       "<text text-anchor=\"middle\" x=\"5946\" y=\"-2775.8\" font-family=\"Times,serif\" font-size=\"14.00\">?</text>\n",
       "</g>\n",
       "<!-- 242&#45;&gt;254 -->\n",
       "<g id=\"edge254\" class=\"edge\">\n",
       "<title>242&#45;&gt;254</title>\n",
       "<path fill=\"none\" stroke=\"blue\" d=\"M5819.19,-2837.99C5843.41,-2827.55 5892.21,-2806.28 5933,-2787 5933.1,-2786.95 5933.19,-2786.91 5933.29,-2786.86\"/>\n",
       "<polygon fill=\"blue\" stroke=\"blue\" points=\"5934.74,-2790.05 5942.15,-2782.48 5931.64,-2783.77 5934.74,-2790.05\"/>\n",
       "<text text-anchor=\"middle\" x=\"5895\" y=\"-2808.8\" font-family=\"Times,serif\" font-size=\"14.00\">1</text>\n",
       "</g>\n",
       "<!-- 244 -->\n",
       "<g id=\"node245\" class=\"node\">\n",
       "<title>244</title>\n",
       "<text text-anchor=\"middle\" x=\"5645\" y=\"-2709.8\" font-family=\"Times,serif\" font-size=\"14.00\">(6) str.substr(cgi_decode_s_str_1, 4, 1) == &quot;+&quot;</text>\n",
       "</g>\n",
       "<!-- 243&#45;&gt;244 -->\n",
       "<g id=\"edge244\" class=\"edge\">\n",
       "<title>243&#45;&gt;244</title>\n",
       "<path fill=\"none\" stroke=\"red\" d=\"M5776.82,-2771.89C5751.51,-2760.87 5700.46,-2738.65 5669.85,-2725.32\"/>\n",
       "<polygon fill=\"red\" stroke=\"red\" points=\"5670.88,-2721.95 5660.32,-2721.17 5668.09,-2728.37 5670.88,-2721.95\"/>\n",
       "<text text-anchor=\"middle\" x=\"5736\" y=\"-2742.8\" font-family=\"Times,serif\" font-size=\"14.00\">0</text>\n",
       "</g>\n",
       "<!-- 253 -->\n",
       "<g id=\"node254\" class=\"node\">\n",
       "<title>253</title>\n",
       "<text text-anchor=\"middle\" x=\"5797\" y=\"-2709.8\" font-family=\"Times,serif\" font-size=\"14.00\">?</text>\n",
       "</g>\n",
       "<!-- 243&#45;&gt;253 -->\n",
       "<g id=\"edge253\" class=\"edge\">\n",
       "<title>243&#45;&gt;253</title>\n",
       "<path fill=\"none\" stroke=\"blue\" d=\"M5792.54,-2771.65C5793.28,-2762.07 5794.67,-2744.38 5795.7,-2731.2\"/>\n",
       "<polygon fill=\"blue\" stroke=\"blue\" points=\"5799.19,-2731.35 5796.48,-2721.11 5792.22,-2730.81 5799.19,-2731.35\"/>\n",
       "<text text-anchor=\"middle\" x=\"5799\" y=\"-2742.8\" font-family=\"Times,serif\" font-size=\"14.00\">1</text>\n",
       "</g>\n",
       "<!-- 245 -->\n",
       "<g id=\"node246\" class=\"node\">\n",
       "<title>245</title>\n",
       "<text text-anchor=\"middle\" x=\"5523\" y=\"-2643.8\" font-family=\"Times,serif\" font-size=\"14.00\">(7) str.substr(cgi_decode_s_str_1, 4, 1) == &quot;%&quot;</text>\n",
       "</g>\n",
       "<!-- 244&#45;&gt;245 -->\n",
       "<g id=\"edge245\" class=\"edge\">\n",
       "<title>244&#45;&gt;245</title>\n",
       "<path fill=\"none\" stroke=\"red\" d=\"M5632.4,-2705.89C5611.67,-2695.02 5570.13,-2673.22 5544.62,-2659.84\"/>\n",
       "<polygon fill=\"red\" stroke=\"red\" points=\"5546.19,-2656.71 5535.71,-2655.17 5542.94,-2662.91 5546.19,-2656.71\"/>\n",
       "<text text-anchor=\"middle\" x=\"5599\" y=\"-2676.8\" font-family=\"Times,serif\" font-size=\"14.00\">0</text>\n",
       "</g>\n",
       "<!-- 252 -->\n",
       "<g id=\"node253\" class=\"node\">\n",
       "<title>252</title>\n",
       "<text text-anchor=\"middle\" x=\"5677\" y=\"-2643.8\" font-family=\"Times,serif\" font-size=\"14.00\">?</text>\n",
       "</g>\n",
       "<!-- 244&#45;&gt;252 -->\n",
       "<g id=\"edge252\" class=\"edge\">\n",
       "<title>244&#45;&gt;252</title>\n",
       "<path fill=\"none\" stroke=\"blue\" d=\"M5648.42,-2705.65C5653.31,-2695.88 5662.42,-2677.66 5669.04,-2664.41\"/>\n",
       "<polygon fill=\"blue\" stroke=\"blue\" points=\"5672.35,-2665.62 5673.7,-2655.11 5666.09,-2662.49 5672.35,-2665.62\"/>\n",
       "<text text-anchor=\"middle\" x=\"5668\" y=\"-2676.8\" font-family=\"Times,serif\" font-size=\"14.00\">1</text>\n",
       "</g>\n",
       "<!-- 246 -->\n",
       "<g id=\"node247\" class=\"node\">\n",
       "<title>246</title>\n",
       "<text text-anchor=\"middle\" x=\"5511\" y=\"-2577.8\" font-family=\"Times,serif\" font-size=\"14.00\">(8) str.substr(cgi_decode_s_str_1, 5, 1) == &quot;+&quot;</text>\n",
       "</g>\n",
       "<!-- 245&#45;&gt;246 -->\n",
       "<g id=\"edge246\" class=\"edge\">\n",
       "<title>245&#45;&gt;246</title>\n",
       "<path fill=\"none\" stroke=\"red\" d=\"M5521.72,-2639.65C5519.92,-2630.07 5516.6,-2612.38 5514.13,-2599.2\"/>\n",
       "<polygon fill=\"red\" stroke=\"red\" points=\"5517.52,-2598.29 5512.24,-2589.11 5510.64,-2599.58 5517.52,-2598.29\"/>\n",
       "<text text-anchor=\"middle\" x=\"5523\" y=\"-2610.8\" font-family=\"Times,serif\" font-size=\"14.00\">0</text>\n",
       "</g>\n",
       "<!-- 251 -->\n",
       "<g id=\"node252\" class=\"node\">\n",
       "<title>251</title>\n",
       "<text text-anchor=\"middle\" x=\"5663\" y=\"-2577.8\" font-family=\"Times,serif\" font-size=\"14.00\">?</text>\n",
       "</g>\n",
       "<!-- 245&#45;&gt;251 -->\n",
       "<g id=\"edge251\" class=\"edge\">\n",
       "<title>245&#45;&gt;251</title>\n",
       "<path fill=\"none\" stroke=\"blue\" d=\"M5537.95,-2639.96C5561.77,-2629.47 5609.79,-2608.15 5650,-2589 5650.1,-2588.95 5650.19,-2588.91 5650.29,-2588.86\"/>\n",
       "<polygon fill=\"blue\" stroke=\"blue\" points=\"5651.74,-2592.05 5659.15,-2584.47 5648.64,-2585.77 5651.74,-2592.05\"/>\n",
       "<text text-anchor=\"middle\" x=\"5613\" y=\"-2610.8\" font-family=\"Times,serif\" font-size=\"14.00\">1</text>\n",
       "</g>\n",
       "<!-- 247 -->\n",
       "<g id=\"node248\" class=\"node\">\n",
       "<title>247</title>\n",
       "<text text-anchor=\"middle\" x=\"5407\" y=\"-2511.8\" font-family=\"Times,serif\" font-size=\"14.00\">(9) str.substr(cgi_decode_s_str_1, 5, 1) == &quot;%&quot;</text>\n",
       "</g>\n",
       "<!-- 246&#45;&gt;247 -->\n",
       "<g id=\"edge247\" class=\"edge\">\n",
       "<title>246&#45;&gt;247</title>\n",
       "<path fill=\"none\" stroke=\"red\" d=\"M5500.26,-2573.89C5482.9,-2563.21 5448.42,-2541.99 5426.6,-2528.56\"/>\n",
       "<polygon fill=\"red\" stroke=\"red\" points=\"5428.19,-2525.43 5417.84,-2523.17 5424.52,-2531.39 5428.19,-2525.43\"/>\n",
       "<text text-anchor=\"middle\" x=\"5473\" y=\"-2544.8\" font-family=\"Times,serif\" font-size=\"14.00\">0</text>\n",
       "</g>\n",
       "<!-- 250 -->\n",
       "<g id=\"node251\" class=\"node\">\n",
       "<title>250</title>\n",
       "<text text-anchor=\"middle\" x=\"5561\" y=\"-2511.8\" font-family=\"Times,serif\" font-size=\"14.00\">?</text>\n",
       "</g>\n",
       "<!-- 246&#45;&gt;250 -->\n",
       "<g id=\"edge250\" class=\"edge\">\n",
       "<title>246&#45;&gt;250</title>\n",
       "<path fill=\"none\" stroke=\"blue\" d=\"M5516.35,-2573.65C5524.62,-2563.06 5540.64,-2542.55 5551.08,-2529.2\"/>\n",
       "<polygon fill=\"blue\" stroke=\"blue\" points=\"5554.1,-2531.02 5557.49,-2520.99 5548.58,-2526.71 5554.1,-2531.02\"/>\n",
       "<text text-anchor=\"middle\" x=\"5545\" y=\"-2544.8\" font-family=\"Times,serif\" font-size=\"14.00\">1</text>\n",
       "</g>\n",
       "<!-- 248 -->\n",
       "<g id=\"node249\" class=\"node\">\n",
       "<title>248</title>\n",
       "<text text-anchor=\"middle\" x=\"5380\" y=\"-2445.8\" font-family=\"Times,serif\" font-size=\"14.00\">* ++\\x00</text>\n",
       "</g>\n",
       "<!-- 247&#45;&gt;248 -->\n",
       "<g id=\"edge248\" class=\"edge\">\n",
       "<title>247&#45;&gt;248</title>\n",
       "<path fill=\"none\" stroke=\"red\" d=\"M5404.11,-2507.65C5399.99,-2497.88 5392.3,-2479.66 5386.71,-2466.41\"/>\n",
       "<polygon fill=\"red\" stroke=\"red\" points=\"5389.9,-2464.96 5382.79,-2457.11 5383.45,-2467.68 5389.9,-2464.96\"/>\n",
       "<text text-anchor=\"middle\" x=\"5400\" y=\"-2478.8\" font-family=\"Times,serif\" font-size=\"14.00\">0</text>\n",
       "</g>\n",
       "<!-- 249 -->\n",
       "<g id=\"node250\" class=\"node\">\n",
       "<title>249</title>\n",
       "<text text-anchor=\"middle\" x=\"5428\" y=\"-2445.8\" font-family=\"Times,serif\" font-size=\"14.00\">?</text>\n",
       "</g>\n",
       "<!-- 247&#45;&gt;249 -->\n",
       "<g id=\"edge249\" class=\"edge\">\n",
       "<title>247&#45;&gt;249</title>\n",
       "<path fill=\"none\" stroke=\"blue\" d=\"M5409.25,-2507.65C5412.42,-2497.98 5418.31,-2480.02 5422.65,-2466.81\"/>\n",
       "<polygon fill=\"blue\" stroke=\"blue\" points=\"5426.04,-2467.7 5425.83,-2457.11 5419.39,-2465.52 5426.04,-2467.7\"/>\n",
       "<text text-anchor=\"middle\" x=\"5424\" y=\"-2478.8\" font-family=\"Times,serif\" font-size=\"14.00\">1</text>\n",
       "</g>\n",
       "<!-- 257 -->\n",
       "<g id=\"node258\" class=\"node\">\n",
       "<title>257</title>\n",
       "<text text-anchor=\"middle\" x=\"6149\" y=\"-2841.8\" font-family=\"Times,serif\" font-size=\"14.00\">(4) str.substr(cgi_decode_s_str_1, 3, 1) == &quot;%&quot;</text>\n",
       "</g>\n",
       "<!-- 256&#45;&gt;257 -->\n",
       "<g id=\"edge257\" class=\"edge\">\n",
       "<title>256&#45;&gt;257</title>\n",
       "<path fill=\"none\" stroke=\"red\" d=\"M6166.86,-2903.65C6163.84,-2893.98 6158.22,-2876.02 6154.1,-2862.81\"/>\n",
       "<polygon fill=\"red\" stroke=\"red\" points=\"6157.39,-2861.61 6151.07,-2853.11 6150.71,-2863.7 6157.39,-2861.61\"/>\n",
       "<text text-anchor=\"middle\" x=\"6165\" y=\"-2874.8\" font-family=\"Times,serif\" font-size=\"14.00\">0</text>\n",
       "</g>\n",
       "<!-- 272 -->\n",
       "<g id=\"node273\" class=\"node\">\n",
       "<title>272</title>\n",
       "<text text-anchor=\"middle\" x=\"6303\" y=\"-2841.8\" font-family=\"Times,serif\" font-size=\"14.00\">?</text>\n",
       "</g>\n",
       "<!-- 256&#45;&gt;272 -->\n",
       "<g id=\"edge272\" class=\"edge\">\n",
       "<title>256&#45;&gt;272</title>\n",
       "<path fill=\"none\" stroke=\"blue\" d=\"M6183.2,-2903.86C6205.85,-2893.25 6251.53,-2871.75 6290,-2853 6290.1,-2852.95 6290.19,-2852.91 6290.29,-2852.86\"/>\n",
       "<polygon fill=\"blue\" stroke=\"blue\" points=\"6291.75,-2856.04 6299.14,-2848.45 6288.63,-2849.78 6291.75,-2856.04\"/>\n",
       "<text text-anchor=\"middle\" x=\"6255\" y=\"-2874.8\" font-family=\"Times,serif\" font-size=\"14.00\">1</text>\n",
       "</g>\n",
       "<!-- 258 -->\n",
       "<g id=\"node259\" class=\"node\">\n",
       "<title>258</title>\n",
       "<text text-anchor=\"middle\" x=\"6109\" y=\"-2775.8\" font-family=\"Times,serif\" font-size=\"14.00\">(5) str.substr(cgi_decode_s_str_1, 4, 1) == &quot;+&quot;</text>\n",
       "</g>\n",
       "<!-- 257&#45;&gt;258 -->\n",
       "<g id=\"edge258\" class=\"edge\">\n",
       "<title>257&#45;&gt;258</title>\n",
       "<path fill=\"none\" stroke=\"red\" d=\"M6144.72,-2837.65C6138.49,-2827.69 6126.77,-2808.93 6118.46,-2795.63\"/>\n",
       "<polygon fill=\"red\" stroke=\"red\" points=\"6121.4,-2793.73 6113.13,-2787.11 6115.46,-2797.44 6121.4,-2793.73\"/>\n",
       "<text text-anchor=\"middle\" x=\"6137\" y=\"-2808.8\" font-family=\"Times,serif\" font-size=\"14.00\">0</text>\n",
       "</g>\n",
       "<!-- 271 -->\n",
       "<g id=\"node272\" class=\"node\">\n",
       "<title>271</title>\n",
       "<text text-anchor=\"middle\" x=\"6261\" y=\"-2775.8\" font-family=\"Times,serif\" font-size=\"14.00\">?</text>\n",
       "</g>\n",
       "<!-- 257&#45;&gt;271 -->\n",
       "<g id=\"edge271\" class=\"edge\">\n",
       "<title>257&#45;&gt;271</title>\n",
       "<path fill=\"none\" stroke=\"blue\" d=\"M6160.56,-2837.89C6181.79,-2825.76 6226.8,-2800.04 6248.62,-2787.57\"/>\n",
       "<polygon fill=\"blue\" stroke=\"blue\" points=\"6250.52,-2790.52 6257.47,-2782.52 6247.05,-2784.44 6250.52,-2790.52\"/>\n",
       "<text text-anchor=\"middle\" x=\"6220\" y=\"-2808.8\" font-family=\"Times,serif\" font-size=\"14.00\">1</text>\n",
       "</g>\n",
       "<!-- 259 -->\n",
       "<g id=\"node260\" class=\"node\">\n",
       "<title>259</title>\n",
       "<text text-anchor=\"middle\" x=\"5976\" y=\"-2709.8\" font-family=\"Times,serif\" font-size=\"14.00\">(6) str.substr(cgi_decode_s_str_1, 4, 1) == &quot;%&quot;</text>\n",
       "</g>\n",
       "<!-- 258&#45;&gt;259 -->\n",
       "<g id=\"edge259\" class=\"edge\">\n",
       "<title>258&#45;&gt;259</title>\n",
       "<path fill=\"none\" stroke=\"red\" d=\"M6095.27,-2771.89C6072.57,-2760.97 6026.98,-2739.03 5999.21,-2725.67\"/>\n",
       "<polygon fill=\"red\" stroke=\"red\" points=\"6000.39,-2722.35 5989.86,-2721.17 5997.35,-2728.66 6000.39,-2722.35\"/>\n",
       "<text text-anchor=\"middle\" x=\"6059\" y=\"-2742.8\" font-family=\"Times,serif\" font-size=\"14.00\">0</text>\n",
       "</g>\n",
       "<!-- 270 -->\n",
       "<g id=\"node271\" class=\"node\">\n",
       "<title>270</title>\n",
       "<text text-anchor=\"middle\" x=\"6130\" y=\"-2709.8\" font-family=\"Times,serif\" font-size=\"14.00\">?</text>\n",
       "</g>\n",
       "<!-- 258&#45;&gt;270 -->\n",
       "<g id=\"edge270\" class=\"edge\">\n",
       "<title>258&#45;&gt;270</title>\n",
       "<path fill=\"none\" stroke=\"blue\" d=\"M6111.25,-2771.65C6114.42,-2761.98 6120.31,-2744.02 6124.65,-2730.81\"/>\n",
       "<polygon fill=\"blue\" stroke=\"blue\" points=\"6128.04,-2731.7 6127.83,-2721.11 6121.39,-2729.52 6128.04,-2731.7\"/>\n",
       "<text text-anchor=\"middle\" x=\"6126\" y=\"-2742.8\" font-family=\"Times,serif\" font-size=\"14.00\">1</text>\n",
       "</g>\n",
       "<!-- 260 -->\n",
       "<g id=\"node261\" class=\"node\">\n",
       "<title>260</title>\n",
       "<text text-anchor=\"middle\" x=\"5835\" y=\"-2643.8\" font-family=\"Times,serif\" font-size=\"14.00\">(7) str.substr(cgi_decode_s_str_1, 5, 1) == &quot;+&quot;</text>\n",
       "</g>\n",
       "<!-- 259&#45;&gt;260 -->\n",
       "<g id=\"edge260\" class=\"edge\">\n",
       "<title>259&#45;&gt;260</title>\n",
       "<path fill=\"none\" stroke=\"red\" d=\"M5961.44,-2705.89C5937.17,-2694.87 5888.2,-2672.65 5858.83,-2659.32\"/>\n",
       "<polygon fill=\"red\" stroke=\"red\" points=\"5860.24,-2656.11 5849.69,-2655.17 5857.35,-2662.49 5860.24,-2656.11\"/>\n",
       "<text text-anchor=\"middle\" x=\"5923\" y=\"-2676.8\" font-family=\"Times,serif\" font-size=\"14.00\">0</text>\n",
       "</g>\n",
       "<!-- 269 -->\n",
       "<g id=\"node270\" class=\"node\">\n",
       "<title>269</title>\n",
       "<text text-anchor=\"middle\" x=\"5987\" y=\"-2643.8\" font-family=\"Times,serif\" font-size=\"14.00\">?</text>\n",
       "</g>\n",
       "<!-- 259&#45;&gt;269 -->\n",
       "<g id=\"edge269\" class=\"edge\">\n",
       "<title>259&#45;&gt;269</title>\n",
       "<path fill=\"none\" stroke=\"blue\" d=\"M5977.18,-2705.65C5978.82,-2696.07 5981.86,-2678.38 5984.13,-2665.2\"/>\n",
       "<polygon fill=\"blue\" stroke=\"blue\" points=\"5987.62,-2665.56 5985.86,-2655.11 5980.72,-2664.37 5987.62,-2665.56\"/>\n",
       "<text text-anchor=\"middle\" x=\"5987\" y=\"-2676.8\" font-family=\"Times,serif\" font-size=\"14.00\">1</text>\n",
       "</g>\n",
       "<!-- 261 -->\n",
       "<g id=\"node262\" class=\"node\">\n",
       "<title>261</title>\n",
       "<text text-anchor=\"middle\" x=\"5833\" y=\"-2577.8\" font-family=\"Times,serif\" font-size=\"14.00\">(8) str.substr(cgi_decode_s_str_1, 5, 1) == &quot;%&quot;</text>\n",
       "</g>\n",
       "<!-- 260&#45;&gt;261 -->\n",
       "<g id=\"edge261\" class=\"edge\">\n",
       "<title>260&#45;&gt;261</title>\n",
       "<path fill=\"none\" stroke=\"red\" d=\"M5834.79,-2639.65C5834.49,-2630.07 5833.93,-2612.38 5833.52,-2599.2\"/>\n",
       "<polygon fill=\"red\" stroke=\"red\" points=\"5837.02,-2598.99 5833.21,-2589.11 5830.02,-2599.21 5837.02,-2598.99\"/>\n",
       "<text text-anchor=\"middle\" x=\"5839\" y=\"-2610.8\" font-family=\"Times,serif\" font-size=\"14.00\">0</text>\n",
       "</g>\n",
       "<!-- 268 -->\n",
       "<g id=\"node269\" class=\"node\">\n",
       "<title>268</title>\n",
       "<text text-anchor=\"middle\" x=\"5987\" y=\"-2577.8\" font-family=\"Times,serif\" font-size=\"14.00\">?</text>\n",
       "</g>\n",
       "<!-- 260&#45;&gt;268 -->\n",
       "<g id=\"edge268\" class=\"edge\">\n",
       "<title>260&#45;&gt;268</title>\n",
       "<path fill=\"none\" stroke=\"blue\" d=\"M5851.86,-2639.98C5878.17,-2629.69 5930.52,-2608.83 5974,-2589 5974.1,-2588.96 5974.2,-2588.91 5974.29,-2588.87\"/>\n",
       "<polygon fill=\"blue\" stroke=\"blue\" points=\"5975.73,-2592.06 5983.17,-2584.51 5972.65,-2585.77 5975.73,-2592.06\"/>\n",
       "<text text-anchor=\"middle\" x=\"5937\" y=\"-2610.8\" font-family=\"Times,serif\" font-size=\"14.00\">1</text>\n",
       "</g>\n",
       "<!-- 262 -->\n",
       "<g id=\"node263\" class=\"node\">\n",
       "<title>262</title>\n",
       "<text text-anchor=\"middle\" x=\"5714\" y=\"-2511.8\" font-family=\"Times,serif\" font-size=\"14.00\">(9) str.substr(cgi_decode_s_str_1, 6, 1) == &quot;+&quot;</text>\n",
       "</g>\n",
       "<!-- 261&#45;&gt;262 -->\n",
       "<g id=\"edge262\" class=\"edge\">\n",
       "<title>261&#45;&gt;262</title>\n",
       "<path fill=\"none\" stroke=\"red\" d=\"M5820.71,-2573.89C5800.58,-2563.07 5760.33,-2541.42 5735.42,-2528.02\"/>\n",
       "<polygon fill=\"red\" stroke=\"red\" points=\"5736.86,-2524.82 5726.4,-2523.17 5733.55,-2530.99 5736.86,-2524.82\"/>\n",
       "<text text-anchor=\"middle\" x=\"5789\" y=\"-2544.8\" font-family=\"Times,serif\" font-size=\"14.00\">0</text>\n",
       "</g>\n",
       "<!-- 267 -->\n",
       "<g id=\"node268\" class=\"node\">\n",
       "<title>267</title>\n",
       "<text text-anchor=\"middle\" x=\"5866\" y=\"-2511.8\" font-family=\"Times,serif\" font-size=\"14.00\">?</text>\n",
       "</g>\n",
       "<!-- 261&#45;&gt;267 -->\n",
       "<g id=\"edge267\" class=\"edge\">\n",
       "<title>261&#45;&gt;267</title>\n",
       "<path fill=\"none\" stroke=\"blue\" d=\"M5836.53,-2573.65C5841.62,-2563.78 5851.15,-2545.3 5858,-2532.02\"/>\n",
       "<polygon fill=\"blue\" stroke=\"blue\" points=\"5861.12,-2533.6 5862.59,-2523.11 5854.9,-2530.39 5861.12,-2533.6\"/>\n",
       "<text text-anchor=\"middle\" x=\"5857\" y=\"-2544.8\" font-family=\"Times,serif\" font-size=\"14.00\">1</text>\n",
       "</g>\n",
       "<!-- 263 -->\n",
       "<g id=\"node264\" class=\"node\">\n",
       "<title>263</title>\n",
       "<text text-anchor=\"middle\" x=\"5628\" y=\"-2445.8\" font-family=\"Times,serif\" font-size=\"14.00\">(10) str.substr(cgi_decode_s_str_1, 6, 1) == &quot;%&quot;</text>\n",
       "</g>\n",
       "<!-- 262&#45;&gt;263 -->\n",
       "<g id=\"edge263\" class=\"edge\">\n",
       "<title>262&#45;&gt;263</title>\n",
       "<path fill=\"none\" stroke=\"red\" d=\"M5705.12,-2507.89C5691.09,-2497.45 5663.52,-2476.93 5645.43,-2463.47\"/>\n",
       "<polygon fill=\"red\" stroke=\"red\" points=\"5647.07,-2460.33 5636.96,-2457.17 5642.89,-2465.95 5647.07,-2460.33\"/>\n",
       "<text text-anchor=\"middle\" x=\"5683\" y=\"-2478.8\" font-family=\"Times,serif\" font-size=\"14.00\">0</text>\n",
       "</g>\n",
       "<!-- 266 -->\n",
       "<g id=\"node267\" class=\"node\">\n",
       "<title>266</title>\n",
       "<text text-anchor=\"middle\" x=\"5786\" y=\"-2445.8\" font-family=\"Times,serif\" font-size=\"14.00\">?</text>\n",
       "</g>\n",
       "<!-- 262&#45;&gt;266 -->\n",
       "<g id=\"edge266\" class=\"edge\">\n",
       "<title>262&#45;&gt;266</title>\n",
       "<path fill=\"none\" stroke=\"blue\" d=\"M5721.43,-2507.89C5734.05,-2496.68 5759.73,-2473.85 5774.62,-2460.62\"/>\n",
       "<polygon fill=\"blue\" stroke=\"blue\" points=\"5777.13,-2463.06 5782.28,-2453.8 5772.48,-2457.83 5777.13,-2463.06\"/>\n",
       "<text text-anchor=\"middle\" x=\"5761\" y=\"-2478.8\" font-family=\"Times,serif\" font-size=\"14.00\">1</text>\n",
       "</g>\n",
       "<!-- 264 -->\n",
       "<g id=\"node265\" class=\"node\">\n",
       "<title>264</title>\n",
       "<text text-anchor=\"middle\" x=\"5602\" y=\"-2379.8\" font-family=\"Times,serif\" font-size=\"14.00\">* +++\\x00</text>\n",
       "</g>\n",
       "<!-- 263&#45;&gt;264 -->\n",
       "<g id=\"edge264\" class=\"edge\">\n",
       "<title>263&#45;&gt;264</title>\n",
       "<path fill=\"none\" stroke=\"red\" d=\"M5625.22,-2441.65C5621.25,-2431.88 5613.85,-2413.66 5608.46,-2400.41\"/>\n",
       "<polygon fill=\"red\" stroke=\"red\" points=\"5611.69,-2399.06 5604.68,-2391.11 5605.21,-2401.69 5611.69,-2399.06\"/>\n",
       "<text text-anchor=\"middle\" x=\"5622\" y=\"-2412.8\" font-family=\"Times,serif\" font-size=\"14.00\">0</text>\n",
       "</g>\n",
       "<!-- 265 -->\n",
       "<g id=\"node266\" class=\"node\">\n",
       "<title>265</title>\n",
       "<text text-anchor=\"middle\" x=\"5654\" y=\"-2379.8\" font-family=\"Times,serif\" font-size=\"14.00\">?</text>\n",
       "</g>\n",
       "<!-- 263&#45;&gt;265 -->\n",
       "<g id=\"edge265\" class=\"edge\">\n",
       "<title>263&#45;&gt;265</title>\n",
       "<path fill=\"none\" stroke=\"blue\" d=\"M5630.78,-2441.65C5634.75,-2431.88 5642.15,-2413.66 5647.54,-2400.41\"/>\n",
       "<polygon fill=\"blue\" stroke=\"blue\" points=\"5650.79,-2401.69 5651.32,-2391.11 5644.31,-2399.06 5650.79,-2401.69\"/>\n",
       "<text text-anchor=\"middle\" x=\"5648\" y=\"-2412.8\" font-family=\"Times,serif\" font-size=\"14.00\">1</text>\n",
       "</g>\n",
       "</g>\n",
       "</svg>\n"
      ],
      "text/plain": [
       "<graphviz.dot.Digraph at 0x110b1cbe0>"
      ]
     },
     "execution_count": 250,
     "metadata": {},
     "output_type": "execute_result"
    }
   ],
   "source": [
    "display_trace_tree(scf.ct.root)"
   ]
  },
  {
   "cell_type": "markdown",
   "metadata": {
    "slideshow": {
     "slide_type": "subslide"
    }
   },
   "source": [
    "**Note.** Our concolic tracer is limited in that it does not track changes in the string length. This leads it to treat every string with same prefix as the same string."
   ]
  },
  {
   "cell_type": "markdown",
   "metadata": {
    "slideshow": {
     "slide_type": "fragment"
    }
   },
   "source": [
    "The `SimpleConcolicFuzzer` is reasonably efficient at exploring paths near the path followed by a given sample input. However, it is not very intelligent when it comes to choosing which paths to follow. We look at another fuzzer that lifts the predicates obtained to the grammar and achieves better fuzzing."
   ]
  },
  {
   "cell_type": "markdown",
   "metadata": {
    "slideshow": {
     "slide_type": "slide"
    }
   },
   "source": [
    "## Concolic Grammar Fuzzing\n",
    "\n",
    "The concolic framework can be used directly in grammar-based fuzzing. We implement a class `ConcolicGrammarFuzzer` wihich does this."
   ]
  },
  {
   "cell_type": "markdown",
   "metadata": {
    "slideshow": {
     "slide_type": "subslide"
    },
    "tags": []
   },
   "source": [
    "### Excursion: Implementing ConcolicGrammarFuzzer"
   ]
  },
  {
   "cell_type": "markdown",
   "metadata": {
    "slideshow": {
     "slide_type": "fragment"
    }
   },
   "source": [
    "First, we extend our `GrammarFuzzer` with a helper method `tree_to_string()` such that we can retrieve the derivation tree of the fuzz output. We also define `prune_tree()` and `coalesce()` methods to reduce the depth of sub trees. These methods accept a list of tokens types such that a node belonging to the token type gets converted from a tree to a leaf node by calling `tree_to_string()`."
   ]
  },
  {
   "cell_type": "code",
   "execution_count": 251,
   "metadata": {
    "execution": {
     "iopub.execute_input": "2022-01-02T15:43:34.748767Z",
     "iopub.status.busy": "2022-01-02T15:43:34.748093Z",
     "iopub.status.idle": "2022-01-02T15:43:34.750760Z",
     "shell.execute_reply": "2022-01-02T15:43:34.750331Z"
    },
    "slideshow": {
     "slide_type": "skip"
    }
   },
   "outputs": [],
   "source": [
    "from InformationFlow import INVENTORY_GRAMMAR, SQLException"
   ]
  },
  {
   "cell_type": "code",
   "execution_count": 252,
   "metadata": {
    "execution": {
     "iopub.execute_input": "2022-01-02T15:43:34.754463Z",
     "iopub.status.busy": "2022-01-02T15:43:34.753687Z",
     "iopub.status.idle": "2022-01-02T15:43:34.755534Z",
     "shell.execute_reply": "2022-01-02T15:43:34.756264Z"
    },
    "slideshow": {
     "slide_type": "skip"
    }
   },
   "outputs": [],
   "source": [
    "from GrammarFuzzer import GrammarFuzzer"
   ]
  },
  {
   "cell_type": "code",
   "execution_count": 253,
   "metadata": {
    "execution": {
     "iopub.execute_input": "2022-01-02T15:43:34.764192Z",
     "iopub.status.busy": "2022-01-02T15:43:34.763607Z",
     "iopub.status.idle": "2022-01-02T15:43:34.765242Z",
     "shell.execute_reply": "2022-01-02T15:43:34.765955Z"
    },
    "slideshow": {
     "slide_type": "subslide"
    }
   },
   "outputs": [],
   "source": [
    "class ConcolicGrammarFuzzer(GrammarFuzzer):\n",
    "    def tree_to_string(self, tree):\n",
    "        symbol, children, *_ = tree\n",
    "        e = ''\n",
    "        if children:\n",
    "            return e.join([self.tree_to_string(c) for c in children])\n",
    "        else:\n",
    "            return e if symbol in self.grammar else symbol\n",
    "\n",
    "    def prune_tree(self, tree, tokens):\n",
    "        name, children = tree\n",
    "        children = self.coalesce(children)\n",
    "        if name in tokens:\n",
    "            return (name, [(self.tree_to_string(tree), [])])\n",
    "        else:\n",
    "            return (name, [self.prune_tree(c, tokens) for c in children])\n",
    "\n",
    "    def coalesce(self, children):\n",
    "        last = ''\n",
    "        new_lst = []\n",
    "        for cn, cc in children:\n",
    "            if cn not in self.grammar:\n",
    "                last += cn\n",
    "            else:\n",
    "                if last:\n",
    "                    new_lst.append((last, []))\n",
    "                    last = ''\n",
    "                new_lst.append((cn, cc))\n",
    "        if last:\n",
    "            new_lst.append((last, []))\n",
    "        return new_lst"
   ]
  },
  {
   "cell_type": "markdown",
   "metadata": {
    "slideshow": {
     "slide_type": "subslide"
    }
   },
   "source": [
    "We can now use the fuzzer to produce inputs for our DB."
   ]
  },
  {
   "cell_type": "code",
   "execution_count": 254,
   "metadata": {
    "execution": {
     "iopub.execute_input": "2022-01-02T15:43:34.793023Z",
     "iopub.status.busy": "2022-01-02T15:43:34.792457Z",
     "iopub.status.idle": "2022-01-02T15:43:34.794851Z",
     "shell.execute_reply": "2022-01-02T15:43:34.794427Z"
    },
    "slideshow": {
     "slide_type": "fragment"
    }
   },
   "outputs": [],
   "source": [
    "tgf = ConcolicGrammarFuzzer(INVENTORY_GRAMMAR)\n",
    "while True:\n",
    "    qtree = tgf.fuzz_tree()\n",
    "    query = str(tgf.tree_to_string(qtree))\n",
    "    if query.startswith('select'):\n",
    "        break"
   ]
  },
  {
   "cell_type": "code",
   "execution_count": 255,
   "metadata": {
    "execution": {
     "iopub.execute_input": "2022-01-02T15:43:34.799127Z",
     "iopub.status.busy": "2022-01-02T15:43:34.798525Z",
     "iopub.status.idle": "2022-01-02T15:43:34.801270Z",
     "shell.execute_reply": "2022-01-02T15:43:34.802107Z"
    },
    "slideshow": {
     "slide_type": "skip"
    }
   },
   "outputs": [],
   "source": [
    "from ExpectError import ExpectError"
   ]
  },
  {
   "cell_type": "code",
   "execution_count": 256,
   "metadata": {
    "execution": {
     "iopub.execute_input": "2022-01-02T15:43:34.807183Z",
     "iopub.status.busy": "2022-01-02T15:43:34.806533Z",
     "iopub.status.idle": "2022-01-02T15:43:34.813836Z",
     "shell.execute_reply": "2022-01-02T15:43:34.814292Z"
    },
    "slideshow": {
     "slide_type": "subslide"
    }
   },
   "outputs": [
    {
     "name": "stdout",
     "output_type": "stream",
     "text": [
      "'select I/k-z-A(z)/W(q,S) from G.2fN0'\n"
     ]
    },
    {
     "name": "stderr",
     "output_type": "stream",
     "text": [
      "Traceback (most recent call last):\n",
      "  File \"/var/folders/n2/xd9445p97rb3xh7m1dfx8_4h0006ts/T/ipykernel_26378/2536269233.py\", line 4, in <module>\n",
      "    res = _[db_select](str(query))\n",
      "  File \"/var/folders/n2/xd9445p97rb3xh7m1dfx8_4h0006ts/T/ipykernel_26378/2687284210.py\", line 3, in __call__\n",
      "    self.result = self.fn(*self.concolic(args))\n",
      "  File \"/var/folders/n2/xd9445p97rb3xh7m1dfx8_4h0006ts/T/ipykernel_26378/1994573112.py\", line 4, in db_select\n",
      "    r = my_db.sql(s)\n",
      "  File \"/Users/zeller/Projects/fuzzingbook/notebooks/InformationFlow.ipynb\", line 62, in sql\n",
      "    return method(query[len(key):])\n",
      "  File \"/Users/zeller/Projects/fuzzingbook/notebooks/InformationFlow.ipynb\", line 81, in do_select\n",
      "    _, table = self.table(t_name)\n",
      "  File \"/var/folders/n2/xd9445p97rb3xh7m1dfx8_4h0006ts/T/ipykernel_26378/2474817571.py\", line 6, in table\n",
      "    raise SQLException('Table (%s) was not found' % repr(t_name))\n",
      "InformationFlow.SQLException: Table ('G.2fN0') was not found (expected)\n"
     ]
    }
   ],
   "source": [
    "with ExpectError():\n",
    "    print(repr(query))\n",
    "    with ConcolicTracer() as _:\n",
    "        res = _[db_select](str(query))\n",
    "    print(repr(res))"
   ]
  },
  {
   "cell_type": "markdown",
   "metadata": {
    "slideshow": {
     "slide_type": "subslide"
    }
   },
   "source": [
    "Our fuzzer returns with an exception. It is unable to find the specified table. Let us examine the predicates it encountered."
   ]
  },
  {
   "cell_type": "code",
   "execution_count": 257,
   "metadata": {
    "execution": {
     "iopub.execute_input": "2022-01-02T15:43:34.819301Z",
     "iopub.status.busy": "2022-01-02T15:43:34.818544Z",
     "iopub.status.idle": "2022-01-02T15:43:34.838709Z",
     "shell.execute_reply": "2022-01-02T15:43:34.839112Z"
    },
    "slideshow": {
     "slide_type": "subslide"
    }
   },
   "outputs": [
    {
     "name": "stdout",
     "output_type": "stream",
     "text": [
      "0 0 == IndexOf(db_select_s_str_1, \"select \", 0)\n",
      "1 0 == IndexOf(db_select_s_str_1, \"select \", 0)\n",
      "2 Not(0 >\n",
      "    IndexOf(str.substr(db_select_s_str_1, 7, 29),\n",
      "            \" from \",\n",
      "            0))\n",
      "3 Not(29 <\n",
      "    IndexOf(str.substr(db_select_s_str_1, 7, 29),\n",
      "            \" from \",\n",
      "            0))\n",
      "4 Or(0 <\n",
      "   IndexOf(str.substr(db_select_s_str_1, 7, 29),\n",
      "           \" from \",\n",
      "           0),\n",
      "   0 ==\n",
      "   IndexOf(str.substr(db_select_s_str_1, 7, 29),\n",
      "           \" from \",\n",
      "           0))\n",
      "5 Not(Or(0 <\n",
      "       IndexOf(str.substr(db_select_s_str_1, 7, 29),\n",
      "               \" where \",\n",
      "               0),\n",
      "       0 ==\n",
      "       IndexOf(str.substr(db_select_s_str_1, 7, 29),\n",
      "               \" where \",\n",
      "               0)))\n",
      "6 Not(29 <\n",
      "    IndexOf(str.substr(db_select_s_str_1, 7, 29),\n",
      "            \" from \",\n",
      "            0) +\n",
      "    6)\n",
      "7 Or(29 >\n",
      "   IndexOf(str.substr(db_select_s_str_1, 7, 29),\n",
      "           \" from \",\n",
      "           0) +\n",
      "   6,\n",
      "   29 ==\n",
      "   IndexOf(str.substr(db_select_s_str_1, 7, 29),\n",
      "           \" from \",\n",
      "           0) +\n",
      "   6)\n",
      "8 Not(str.substr(str.substr(db_select_s_str_1, 7, 29), 23, 6) ==\n",
      "    \"inventory\")\n"
     ]
    }
   ],
   "source": [
    "for i, p in enumerate(_.path):\n",
    "    print(i, p)"
   ]
  },
  {
   "cell_type": "markdown",
   "metadata": {
    "slideshow": {
     "slide_type": "subslide"
    }
   },
   "source": [
    "Note that we can obtain constraints that are not present in the grammar from using the `ConcolicTracer`. In particular, see how we are able to obtain the condition that the table needs to be `inventory` (Predicate 11) for the fuzzing to succeed."
   ]
  },
  {
   "cell_type": "markdown",
   "metadata": {
    "slideshow": {
     "slide_type": "fragment"
    }
   },
   "source": [
    "How do we lift these to the grammar? and in particular how do we do it automatically? One option we have is to simply switch the last predicate obtained. In our case, the last predicate is (11). Can we simply invert the predicate and solve it again?"
   ]
  },
  {
   "cell_type": "code",
   "execution_count": 258,
   "metadata": {
    "execution": {
     "iopub.execute_input": "2022-01-02T15:43:34.842819Z",
     "iopub.status.busy": "2022-01-02T15:43:34.842237Z",
     "iopub.status.idle": "2022-01-02T15:43:34.844198Z",
     "shell.execute_reply": "2022-01-02T15:43:34.844626Z"
    },
    "slideshow": {
     "slide_type": "fragment"
    }
   },
   "outputs": [],
   "source": [
    "new_path = _.path[0:-1] + [z3.Not(_.path[-1])]"
   ]
  },
  {
   "cell_type": "code",
   "execution_count": 259,
   "metadata": {
    "execution": {
     "iopub.execute_input": "2022-01-02T15:43:34.849000Z",
     "iopub.status.busy": "2022-01-02T15:43:34.848331Z",
     "iopub.status.idle": "2022-01-02T15:43:34.850123Z",
     "shell.execute_reply": "2022-01-02T15:43:34.850525Z"
    },
    "slideshow": {
     "slide_type": "fragment"
    }
   },
   "outputs": [],
   "source": [
    "new_ = ConcolicTracer((_.decls, new_path))\n",
    "new_.fn = _.fn\n",
    "new_.fn_args = _.fn_args"
   ]
  },
  {
   "cell_type": "code",
   "execution_count": 260,
   "metadata": {
    "execution": {
     "iopub.execute_input": "2022-01-02T15:43:34.854098Z",
     "iopub.status.busy": "2022-01-02T15:43:34.853534Z",
     "iopub.status.idle": "2022-01-02T15:43:34.895462Z",
     "shell.execute_reply": "2022-01-02T15:43:34.896035Z"
    },
    "slideshow": {
     "slide_type": "fragment"
    }
   },
   "outputs": [
    {
     "data": {
      "text/plain": [
       "('No Solutions', None)"
      ]
     },
     "execution_count": 260,
     "metadata": {},
     "output_type": "execute_result"
    }
   ],
   "source": [
    "new_.zeval()"
   ]
  },
  {
   "cell_type": "markdown",
   "metadata": {
    "slideshow": {
     "slide_type": "subslide"
    }
   },
   "source": [
    "Indeed, this will not work as the string lengths being compared to are different."
   ]
  },
  {
   "cell_type": "code",
   "execution_count": 261,
   "metadata": {
    "execution": {
     "iopub.execute_input": "2022-01-02T15:43:34.901715Z",
     "iopub.status.busy": "2022-01-02T15:43:34.900806Z",
     "iopub.status.idle": "2022-01-02T15:43:34.927377Z",
     "shell.execute_reply": "2022-01-02T15:43:34.927783Z"
    },
    "slideshow": {
     "slide_type": "fragment"
    }
   },
   "outputs": [
    {
     "name": "stdout",
     "output_type": "stream",
     "text": [
      "Not(str.substr(str.substr(db_select_s_str_1, 7, 29), 23, 6) ==\n",
      "    \"inventory\")\n",
      "no solution\n"
     ]
    }
   ],
   "source": [
    "print(_.path[-1])\n",
    "z3.solve(z3.Not(_.path[-1]))"
   ]
  },
  {
   "cell_type": "markdown",
   "metadata": {
    "slideshow": {
     "slide_type": "fragment"
    }
   },
   "source": [
    "A better idea is to investigate what _string_ comparisons are being made, and associate that with the corresponding nodes in the grammar. Let us examine our derivation tree (pruned to avoid recursive structures, and to focus on important parts)."
   ]
  },
  {
   "cell_type": "code",
   "execution_count": 262,
   "metadata": {
    "execution": {
     "iopub.execute_input": "2022-01-02T15:43:34.931502Z",
     "iopub.status.busy": "2022-01-02T15:43:34.930944Z",
     "iopub.status.idle": "2022-01-02T15:43:34.932815Z",
     "shell.execute_reply": "2022-01-02T15:43:34.933403Z"
    },
    "slideshow": {
     "slide_type": "skip"
    }
   },
   "outputs": [],
   "source": [
    "from GrammarFuzzer import display_tree"
   ]
  },
  {
   "cell_type": "code",
   "execution_count": 263,
   "metadata": {
    "execution": {
     "iopub.execute_input": "2022-01-02T15:43:34.941454Z",
     "iopub.status.busy": "2022-01-02T15:43:34.938484Z",
     "iopub.status.idle": "2022-01-02T15:43:35.398063Z",
     "shell.execute_reply": "2022-01-02T15:43:35.398464Z"
    },
    "slideshow": {
     "slide_type": "subslide"
    }
   },
   "outputs": [
    {
     "data": {
      "image/svg+xml": [
       "<?xml version=\"1.0\" encoding=\"UTF-8\" standalone=\"no\"?>\n",
       "<!DOCTYPE svg PUBLIC \"-//W3C//DTD SVG 1.1//EN\"\n",
       " \"http://www.w3.org/Graphics/SVG/1.1/DTD/svg11.dtd\">\n",
       "<!-- Generated by graphviz version 2.49.3 (20211023.0002)\n",
       " -->\n",
       "<!-- Pages: 1 -->\n",
       "<svg width=\"224pt\" height=\"176pt\"\n",
       " viewBox=\"0.00 0.00 223.50 176.00\" xmlns=\"http://www.w3.org/2000/svg\" xmlns:xlink=\"http://www.w3.org/1999/xlink\">\n",
       "<g id=\"graph0\" class=\"graph\" transform=\"scale(1 1) rotate(0) translate(4 172)\">\n",
       "<polygon fill=\"white\" stroke=\"transparent\" points=\"-4,4 -4,-172 219.5,-172 219.5,4 -4,4\"/>\n",
       "<!-- 0 -->\n",
       "<g id=\"node1\" class=\"node\">\n",
       "<title>0</title>\n",
       "<text text-anchor=\"middle\" x=\"107\" y=\"-156.8\" font-family=\"Times,serif\" font-size=\"14.00\">&lt;start&gt;</text>\n",
       "</g>\n",
       "<!-- 1 -->\n",
       "<g id=\"node2\" class=\"node\">\n",
       "<title>1</title>\n",
       "<text text-anchor=\"middle\" x=\"107\" y=\"-105.8\" font-family=\"Times,serif\" font-size=\"14.00\">&lt;query&gt;</text>\n",
       "</g>\n",
       "<!-- 0&#45;&gt;1 -->\n",
       "<g id=\"edge1\" class=\"edge\">\n",
       "<title>0&#45;&gt;1</title>\n",
       "<path fill=\"none\" stroke=\"black\" d=\"M107,-152.69C107,-146.18 107,-136.1 107,-127.43\"/>\n",
       "<polygon fill=\"black\" stroke=\"black\" points=\"110.5,-127.26 107,-117.26 103.5,-127.26 110.5,-127.26\"/>\n",
       "</g>\n",
       "<!-- 2 -->\n",
       "<g id=\"node3\" class=\"node\">\n",
       "<title>2</title>\n",
       "<text text-anchor=\"middle\" x=\"18\" y=\"-54.8\" font-family=\"Times,serif\" font-size=\"14.00\">select </text>\n",
       "</g>\n",
       "<!-- 1&#45;&gt;2 -->\n",
       "<g id=\"edge2\" class=\"edge\">\n",
       "<title>1&#45;&gt;2</title>\n",
       "<path fill=\"none\" stroke=\"black\" d=\"M95,-101.89C80.58,-93.96 56.17,-80.52 38.7,-70.9\"/>\n",
       "<polygon fill=\"black\" stroke=\"black\" points=\"40.26,-67.76 29.81,-66 36.88,-73.89 40.26,-67.76\"/>\n",
       "</g>\n",
       "<!-- 3 -->\n",
       "<g id=\"node4\" class=\"node\">\n",
       "<title>3</title>\n",
       "<text text-anchor=\"middle\" x=\"78\" y=\"-54.8\" font-family=\"Times,serif\" font-size=\"14.00\">&lt;exprs&gt;</text>\n",
       "</g>\n",
       "<!-- 1&#45;&gt;3 -->\n",
       "<g id=\"edge3\" class=\"edge\">\n",
       "<title>1&#45;&gt;3</title>\n",
       "<path fill=\"none\" stroke=\"black\" d=\"M102.97,-101.69C98.9,-94.81 92.48,-83.96 87.16,-74.98\"/>\n",
       "<polygon fill=\"black\" stroke=\"black\" points=\"90.1,-73.08 82,-66.26 84.08,-76.64 90.1,-73.08\"/>\n",
       "</g>\n",
       "<!-- 5 -->\n",
       "<g id=\"node6\" class=\"node\">\n",
       "<title>5</title>\n",
       "<text text-anchor=\"middle\" x=\"137\" y=\"-54.8\" font-family=\"Times,serif\" font-size=\"14.00\"> from </text>\n",
       "</g>\n",
       "<!-- 1&#45;&gt;5 -->\n",
       "<g id=\"edge5\" class=\"edge\">\n",
       "<title>1&#45;&gt;5</title>\n",
       "<path fill=\"none\" stroke=\"black\" d=\"M111.17,-101.69C115.38,-94.81 122.03,-83.96 127.52,-74.98\"/>\n",
       "<polygon fill=\"black\" stroke=\"black\" points=\"130.63,-76.61 132.86,-66.26 124.66,-72.96 130.63,-76.61\"/>\n",
       "</g>\n",
       "<!-- 6 -->\n",
       "<g id=\"node7\" class=\"node\">\n",
       "<title>6</title>\n",
       "<text text-anchor=\"middle\" x=\"194\" y=\"-54.8\" font-family=\"Times,serif\" font-size=\"14.00\">&lt;table&gt;</text>\n",
       "</g>\n",
       "<!-- 1&#45;&gt;6 -->\n",
       "<g id=\"edge6\" class=\"edge\">\n",
       "<title>1&#45;&gt;6</title>\n",
       "<path fill=\"none\" stroke=\"black\" d=\"M118.73,-101.89C132.69,-94.03 156.24,-80.77 173.29,-71.16\"/>\n",
       "<polygon fill=\"black\" stroke=\"black\" points=\"175.46,-73.96 182.45,-66 172.02,-67.86 175.46,-73.96\"/>\n",
       "</g>\n",
       "<!-- 4 -->\n",
       "<g id=\"node5\" class=\"node\">\n",
       "<title>4</title>\n",
       "<text text-anchor=\"middle\" x=\"78\" y=\"-3.8\" font-family=\"Times,serif\" font-size=\"14.00\">I/k&#45;z&#45;A(z)/W(q,S)</text>\n",
       "</g>\n",
       "<!-- 3&#45;&gt;4 -->\n",
       "<g id=\"edge4\" class=\"edge\">\n",
       "<title>3&#45;&gt;4</title>\n",
       "<path fill=\"none\" stroke=\"black\" d=\"M78,-50.69C78,-44.18 78,-34.1 78,-25.43\"/>\n",
       "<polygon fill=\"black\" stroke=\"black\" points=\"81.5,-25.26 78,-15.26 74.5,-25.26 81.5,-25.26\"/>\n",
       "</g>\n",
       "<!-- 7 -->\n",
       "<g id=\"node8\" class=\"node\">\n",
       "<title>7</title>\n",
       "<text text-anchor=\"middle\" x=\"194\" y=\"-3.8\" font-family=\"Times,serif\" font-size=\"14.00\">G.2fN0</text>\n",
       "</g>\n",
       "<!-- 6&#45;&gt;7 -->\n",
       "<g id=\"edge7\" class=\"edge\">\n",
       "<title>6&#45;&gt;7</title>\n",
       "<path fill=\"none\" stroke=\"black\" d=\"M194,-50.69C194,-44.18 194,-34.1 194,-25.43\"/>\n",
       "<polygon fill=\"black\" stroke=\"black\" points=\"197.5,-25.26 194,-15.26 190.5,-25.26 197.5,-25.26\"/>\n",
       "</g>\n",
       "</g>\n",
       "</svg>\n"
      ],
      "text/plain": [
       "<graphviz.dot.Digraph at 0x110b2a3a0>"
      ]
     },
     "execution_count": 263,
     "metadata": {},
     "output_type": "execute_result"
    }
   ],
   "source": [
    "prune_tokens = [\n",
    "    '<value>', '<table>', '<column>', '<literals>', '<exprs>', '<bexpr>'\n",
    "]\n",
    "dt = tgf.prune_tree(qtree, prune_tokens)\n",
    "display_tree(dt)"
   ]
  },
  {
   "cell_type": "markdown",
   "metadata": {
    "slideshow": {
     "slide_type": "fragment"
    }
   },
   "source": [
    "Can we identify which part of the input was supplied by which part of the grammar? We define `span()` that can recover this information from the derivation tree. For a given node, let us assume that the start point is known. Then, for processing the children, we proceed as follows: We choose one child at a time from left to right, and compute the length of the child. The length of the children before the current child in addition to our starting point gives the starting point of the current child. The end point for each node is simply the end point of its last children (or the length of its node if it is a leaf)."
   ]
  },
  {
   "cell_type": "code",
   "execution_count": 264,
   "metadata": {
    "execution": {
     "iopub.execute_input": "2022-01-02T15:43:35.402838Z",
     "iopub.status.busy": "2022-01-02T15:43:35.402291Z",
     "iopub.status.idle": "2022-01-02T15:43:35.403922Z",
     "shell.execute_reply": "2022-01-02T15:43:35.404400Z"
    },
    "slideshow": {
     "slide_type": "skip"
    }
   },
   "outputs": [],
   "source": [
    "from GrammarFuzzer import START_SYMBOL"
   ]
  },
  {
   "cell_type": "code",
   "execution_count": 265,
   "metadata": {
    "execution": {
     "iopub.execute_input": "2022-01-02T15:43:35.411269Z",
     "iopub.status.busy": "2022-01-02T15:43:35.410607Z",
     "iopub.status.idle": "2022-01-02T15:43:35.412386Z",
     "shell.execute_reply": "2022-01-02T15:43:35.412901Z"
    },
    "slideshow": {
     "slide_type": "subslide"
    }
   },
   "outputs": [],
   "source": [
    "def span(node, g, node_start=0):\n",
    "    hm = {}\n",
    "    k, cs = node\n",
    "    end_i = node_start\n",
    "    new_cs = []\n",
    "    for c in cs:\n",
    "        chm, (ck, child_start, child_end, gcs) = span(c, g, end_i)\n",
    "        new_cs.append((ck, child_start, child_end, gcs))\n",
    "        end_i = child_end\n",
    "        hm.update(chm)\n",
    "    node_end = end_i if cs else node_start + len(k)\n",
    "    if k in g and k != START_SYMBOL:\n",
    "        hm[k] = (node_start, node_end - node_start)\n",
    "    return hm, (k, node_start, node_end, new_cs)"
   ]
  },
  {
   "cell_type": "markdown",
   "metadata": {
    "slideshow": {
     "slide_type": "fragment"
    }
   },
   "source": [
    "We use it as follows:"
   ]
  },
  {
   "cell_type": "code",
   "execution_count": 266,
   "metadata": {
    "execution": {
     "iopub.execute_input": "2022-01-02T15:43:35.416714Z",
     "iopub.status.busy": "2022-01-02T15:43:35.416165Z",
     "iopub.status.idle": "2022-01-02T15:43:35.419155Z",
     "shell.execute_reply": "2022-01-02T15:43:35.419690Z"
    },
    "slideshow": {
     "slide_type": "subslide"
    }
   },
   "outputs": [],
   "source": [
    "span_hm, _n = span(dt, INVENTORY_GRAMMAR)"
   ]
  },
  {
   "cell_type": "code",
   "execution_count": 267,
   "metadata": {
    "execution": {
     "iopub.execute_input": "2022-01-02T15:43:35.424778Z",
     "iopub.status.busy": "2022-01-02T15:43:35.424135Z",
     "iopub.status.idle": "2022-01-02T15:43:35.427106Z",
     "shell.execute_reply": "2022-01-02T15:43:35.427539Z"
    },
    "slideshow": {
     "slide_type": "fragment"
    }
   },
   "outputs": [
    {
     "data": {
      "text/plain": [
       "{'<exprs>': (7, 17), '<table>': (30, 6), '<query>': (0, 36)}"
      ]
     },
     "execution_count": 267,
     "metadata": {},
     "output_type": "execute_result"
    }
   ],
   "source": [
    "span_hm"
   ]
  },
  {
   "cell_type": "markdown",
   "metadata": {
    "slideshow": {
     "slide_type": "fragment"
    }
   },
   "source": [
    "We can check if we got the right values as follows."
   ]
  },
  {
   "cell_type": "code",
   "execution_count": 268,
   "metadata": {
    "execution": {
     "iopub.execute_input": "2022-01-02T15:43:35.432365Z",
     "iopub.status.busy": "2022-01-02T15:43:35.431533Z",
     "iopub.status.idle": "2022-01-02T15:43:35.434587Z",
     "shell.execute_reply": "2022-01-02T15:43:35.435134Z"
    },
    "slideshow": {
     "slide_type": "fragment"
    }
   },
   "outputs": [
    {
     "name": "stdout",
     "output_type": "stream",
     "text": [
      "query: select I/k-z-A(z)/W(q,S) from G.2fN0\n",
      "<exprs> I/k-z-A(z)/W(q,S)\n",
      "<table> G.2fN0\n",
      "<query> select I/k-z-A(z)/W(q,S) from G.2fN0\n"
     ]
    }
   ],
   "source": [
    "print(\"query:\", query)\n",
    "for k in span_hm:\n",
    "    start, l = span_hm[k]\n",
    "    print(k, query[start:start + l])"
   ]
  },
  {
   "cell_type": "markdown",
   "metadata": {
    "slideshow": {
     "slide_type": "subslide"
    }
   },
   "source": [
    "Next, we need to obtain all the comparisons made in each predicate. For that, we define two helper functions. The first is `unwrap_substrings()` that translates multiple calls to `z3.SubString` and returns the start, and length of the given z3 string expression."
   ]
  },
  {
   "cell_type": "code",
   "execution_count": 269,
   "metadata": {
    "execution": {
     "iopub.execute_input": "2022-01-02T15:43:35.440717Z",
     "iopub.status.busy": "2022-01-02T15:43:35.439937Z",
     "iopub.status.idle": "2022-01-02T15:43:35.441769Z",
     "shell.execute_reply": "2022-01-02T15:43:35.442166Z"
    },
    "slideshow": {
     "slide_type": "fragment"
    }
   },
   "outputs": [],
   "source": [
    "def unwrap_substrings(s):\n",
    "    assert s.decl().name() == 'str.substr'\n",
    "    cs, frm, l = s.children()\n",
    "    fl = frm.as_long()\n",
    "    ll = l.as_long()\n",
    "    if cs.decl().name() == 'str.substr':\n",
    "        newfrm, _l = unwrap_substrings(cs)\n",
    "        return (fl + newfrm, ll)\n",
    "    else:\n",
    "        return (fl, ll)"
   ]
  },
  {
   "cell_type": "markdown",
   "metadata": {
    "slideshow": {
     "slide_type": "subslide"
    }
   },
   "source": [
    "We define `traverse_z3()` that traverses a given z3 string expression, and collects all direct string comparisons to a substring of the original argument."
   ]
  },
  {
   "cell_type": "code",
   "execution_count": 270,
   "metadata": {
    "execution": {
     "iopub.execute_input": "2022-01-02T15:43:35.450675Z",
     "iopub.status.busy": "2022-01-02T15:43:35.449921Z",
     "iopub.status.idle": "2022-01-02T15:43:35.452247Z",
     "shell.execute_reply": "2022-01-02T15:43:35.452684Z"
    },
    "slideshow": {
     "slide_type": "subslide"
    }
   },
   "outputs": [],
   "source": [
    "def traverse_z3(p, hm):\n",
    "    def z3_as_string(v):\n",
    "        return v.as_string()\n",
    "\n",
    "    n = p.decl().name()\n",
    "    if n == 'not':\n",
    "        return traverse_z3(p.children()[0], hm)\n",
    "    elif n == '=':\n",
    "        i, j = p.children()\n",
    "        if isinstance(i, (int, z3.IntNumRef)):\n",
    "            return traverse_z3(j, hm)\n",
    "        elif isinstance(j, (int, z3.IntNumRef)):\n",
    "            return traverse_z3(i, hm)\n",
    "        else:\n",
    "            if i.is_string() and j.is_string():\n",
    "                if i.is_string_value():\n",
    "                    cs, frm, l = j.children()\n",
    "                    if (isinstance(frm, z3.IntNumRef)\n",
    "                            and isinstance(l, z3.IntNumRef)):\n",
    "                        hm[z3_as_string(i)] = unwrap_substrings(j)\n",
    "                elif j.is_string_value():\n",
    "                    cs, frm, l = i.children()\n",
    "                    if (isinstance(frm, z3.IntNumRef)\n",
    "                            and isinstance(l, z3.IntNumRef)):\n",
    "                        hm[z3_as_string(j)] = unwrap_substrings(i)\n",
    "            else:\n",
    "                assert False  # for now\n",
    "    elif n == '<' or n == '>':\n",
    "        i, j = p.children()\n",
    "        if isinstance(i, (int, z3.IntNumRef)):\n",
    "            return traverse_z3(j, hm)\n",
    "        elif isinstance(j, (int, z3.IntNumRef)):\n",
    "            return traverse_z3(i, hm)\n",
    "        else:\n",
    "            assert False\n",
    "    return p"
   ]
  },
  {
   "cell_type": "code",
   "execution_count": 271,
   "metadata": {
    "execution": {
     "iopub.execute_input": "2022-01-02T15:43:35.457473Z",
     "iopub.status.busy": "2022-01-02T15:43:35.456800Z",
     "iopub.status.idle": "2022-01-02T15:43:35.461301Z",
     "shell.execute_reply": "2022-01-02T15:43:35.461694Z"
    },
    "slideshow": {
     "slide_type": "subslide"
    }
   },
   "outputs": [
    {
     "data": {
      "text/plain": [
       "{'inventory': (30, 6)}"
      ]
     },
     "execution_count": 271,
     "metadata": {},
     "output_type": "execute_result"
    }
   ],
   "source": [
    "comparisons: Dict[str, Tuple] = {}\n",
    "for p in _.path:\n",
    "    traverse_z3(p, comparisons)\n",
    "comparisons"
   ]
  },
  {
   "cell_type": "markdown",
   "metadata": {
    "slideshow": {
     "slide_type": "fragment"
    }
   },
   "source": [
    "All that we need now is to declare string variables that match the substrings in `comparisons`, and solve for them for each item in the path. For that, we define `find_alternatives()`."
   ]
  },
  {
   "cell_type": "code",
   "execution_count": 272,
   "metadata": {
    "execution": {
     "iopub.execute_input": "2022-01-02T15:43:35.466783Z",
     "iopub.status.busy": "2022-01-02T15:43:35.465987Z",
     "iopub.status.idle": "2022-01-02T15:43:35.467993Z",
     "shell.execute_reply": "2022-01-02T15:43:35.468491Z"
    },
    "slideshow": {
     "slide_type": "subslide"
    }
   },
   "outputs": [],
   "source": [
    "def find_alternatives(spans, cmp):\n",
    "    alts = {}\n",
    "    for key in spans:\n",
    "        start, l = spans[key]\n",
    "        rset = set(range(start, start + l))\n",
    "        for ckey in cmp:\n",
    "            cstart, cl = cmp[ckey]\n",
    "            cset = set(range(cstart, cstart + cl))\n",
    "            # if rset.issubset(cset): <- ignoring subsets for now.\n",
    "            if rset == cset:\n",
    "                if key not in alts:\n",
    "                    alts[key] = set()\n",
    "                alts[key].add(ckey)\n",
    "    return alts"
   ]
  },
  {
   "cell_type": "markdown",
   "metadata": {
    "slideshow": {
     "slide_type": "fragment"
    }
   },
   "source": [
    "We use it as follows."
   ]
  },
  {
   "cell_type": "code",
   "execution_count": 273,
   "metadata": {
    "execution": {
     "iopub.execute_input": "2022-01-02T15:43:35.472514Z",
     "iopub.status.busy": "2022-01-02T15:43:35.471887Z",
     "iopub.status.idle": "2022-01-02T15:43:35.474274Z",
     "shell.execute_reply": "2022-01-02T15:43:35.474818Z"
    },
    "slideshow": {
     "slide_type": "subslide"
    }
   },
   "outputs": [
    {
     "data": {
      "text/plain": [
       "{'<table>': {'inventory'}}"
      ]
     },
     "execution_count": 273,
     "metadata": {},
     "output_type": "execute_result"
    }
   ],
   "source": [
    "alternatives = find_alternatives(span_hm, comparisons)\n",
    "alternatives"
   ]
  },
  {
   "cell_type": "markdown",
   "metadata": {
    "slideshow": {
     "slide_type": "fragment"
    }
   },
   "source": [
    "So, we have our alternatives for each key in the grammar. We can now update our grammar as follows."
   ]
  },
  {
   "cell_type": "code",
   "execution_count": 274,
   "metadata": {
    "execution": {
     "iopub.execute_input": "2022-01-02T15:43:35.478590Z",
     "iopub.status.busy": "2022-01-02T15:43:35.478046Z",
     "iopub.status.idle": "2022-01-02T15:43:35.479831Z",
     "shell.execute_reply": "2022-01-02T15:43:35.480224Z"
    },
    "slideshow": {
     "slide_type": "fragment"
    }
   },
   "outputs": [],
   "source": [
    "INVENTORY_GRAMMAR_NEW = dict(INVENTORY_GRAMMAR)"
   ]
  },
  {
   "cell_type": "code",
   "execution_count": 275,
   "metadata": {
    "execution": {
     "iopub.execute_input": "2022-01-02T15:43:35.483514Z",
     "iopub.status.busy": "2022-01-02T15:43:35.482972Z",
     "iopub.status.idle": "2022-01-02T15:43:35.484636Z",
     "shell.execute_reply": "2022-01-02T15:43:35.485029Z"
    },
    "slideshow": {
     "slide_type": "fragment"
    }
   },
   "outputs": [],
   "source": [
    "for k in alternatives:\n",
    "    INVENTORY_GRAMMAR_NEW[k] = INVENTORY_GRAMMAR_NEW[k] + list(alternatives[k])"
   ]
  },
  {
   "cell_type": "markdown",
   "metadata": {
    "slideshow": {
     "slide_type": "fragment"
    }
   },
   "source": [
    "We made a choice here. We could have completely overwritten the definition of `<table>` . Instead, we added our new alternatives to the existing definition. This way, our fuzzer will also attempt other values for `<table>` once in a while."
   ]
  },
  {
   "cell_type": "code",
   "execution_count": 276,
   "metadata": {
    "execution": {
     "iopub.execute_input": "2022-01-02T15:43:35.488979Z",
     "iopub.status.busy": "2022-01-02T15:43:35.488339Z",
     "iopub.status.idle": "2022-01-02T15:43:35.490795Z",
     "shell.execute_reply": "2022-01-02T15:43:35.491894Z"
    },
    "slideshow": {
     "slide_type": "fragment"
    }
   },
   "outputs": [
    {
     "data": {
      "text/plain": [
       "['<word>', 'inventory']"
      ]
     },
     "execution_count": 276,
     "metadata": {},
     "output_type": "execute_result"
    }
   ],
   "source": [
    "INVENTORY_GRAMMAR_NEW['<table>']"
   ]
  },
  {
   "cell_type": "markdown",
   "metadata": {
    "slideshow": {
     "slide_type": "fragment"
    }
   },
   "source": [
    "Let us try fuzzing with our new grammar."
   ]
  },
  {
   "cell_type": "code",
   "execution_count": 277,
   "metadata": {
    "execution": {
     "iopub.execute_input": "2022-01-02T15:43:35.496622Z",
     "iopub.status.busy": "2022-01-02T15:43:35.495880Z",
     "iopub.status.idle": "2022-01-02T15:43:35.498564Z",
     "shell.execute_reply": "2022-01-02T15:43:35.498125Z"
    },
    "slideshow": {
     "slide_type": "subslide"
    }
   },
   "outputs": [],
   "source": [
    "cgf = ConcolicGrammarFuzzer(INVENTORY_GRAMMAR_NEW)"
   ]
  },
  {
   "cell_type": "code",
   "execution_count": 278,
   "metadata": {
    "execution": {
     "iopub.execute_input": "2022-01-02T15:43:35.531513Z",
     "iopub.status.busy": "2022-01-02T15:43:35.530162Z",
     "iopub.status.idle": "2022-01-02T15:43:35.726502Z",
     "shell.execute_reply": "2022-01-02T15:43:35.727031Z"
    },
    "slideshow": {
     "slide_type": "subslide"
    }
   },
   "outputs": [
    {
     "name": "stdout",
     "output_type": "stream",
     "text": [
      "select -089.782+H==(i)/y2(F,t,p)-94424/6180 from C\n",
      "Table ('C') was not found\n",
      "\n",
      "insert into A6_0 (X) values (1.5,1,2,'v')\n",
      "Table ('A6_0') was not found\n",
      "\n",
      "update inventory set f=B,_=h where x-l>c/n\n",
      "Column ('f') was not found\n",
      "\n",
      "delete from B9Se where o*O/a(j)<J+c+C(R,H)*(q)\n",
      "Table ('B9Se') was not found\n",
      "\n",
      "select j1:,k(E) from inventory where a(H)>q/Z/(j!=A)\n",
      "Invalid WHERE ('(a(H)>q/Z/(j!=A))')\n",
      "\n",
      "insert into s (L) values (21,']','+')\n",
      "Table ('s') was not found\n",
      "\n",
      "update mS8 set B=v,y=S,l=E,Q=d where ((M))!=H!=Z\n",
      "Table ('mS8') was not found\n",
      "\n",
      "update inventory set KU=a,t=X where P*t(P)>H+g\n",
      "Column ('KU') was not found\n",
      "\n",
      "insert into PP (Xh) values (4.1)\n",
      "Table ('PP') was not found\n",
      "\n",
      "select (je:(W,T,U)) from J where :!=Y!=z(M)>v+G\n",
      "Table ('J') was not found\n",
      "\n"
     ]
    }
   ],
   "source": [
    "for i in range(10):\n",
    "    qtree = cgf.fuzz_tree()\n",
    "    query = cgf.tree_to_string(qtree)\n",
    "    print(query)\n",
    "    with ExpectError(print_traceback=False):\n",
    "        try:\n",
    "            with ConcolicTracer() as _:\n",
    "                res = _[db_select](query)\n",
    "            print(repr(res))\n",
    "        except SQLException as e:\n",
    "            print(e)\n",
    "        print()"
   ]
  },
  {
   "cell_type": "markdown",
   "metadata": {
    "slideshow": {
     "slide_type": "subslide"
    }
   },
   "source": [
    "That is, we were able to reach the dangerous method `my_eval()`.\n",
    "In effect, what we have done is to lift parts of predicates to the grammar. The new grammar can generate inputs that reach deeper into the program than before. Note that we have only handled the equality predicate. One can also lift the '<' and '>' comparison operators to the grammar if required.\n",
    "\n",
    "Compare the output of our fuzzer to the original `GrammarFuzzer` below."
   ]
  },
  {
   "cell_type": "code",
   "execution_count": 279,
   "metadata": {
    "execution": {
     "iopub.execute_input": "2022-01-02T15:43:35.804131Z",
     "iopub.status.busy": "2022-01-02T15:43:35.765283Z",
     "iopub.status.idle": "2022-01-02T15:43:35.917975Z",
     "shell.execute_reply": "2022-01-02T15:43:35.918488Z"
    },
    "slideshow": {
     "slide_type": "subslide"
    }
   },
   "outputs": [
    {
     "name": "stdout",
     "output_type": "stream",
     "text": [
      "delete from t where Y-Z-V2(d)<G-l-A+v-L\n",
      "Table ('t') was not found\n",
      "\n",
      "select (_),D from lHi where t>x(H)==(r)\n",
      "Table ('lHi') was not found\n",
      "\n",
      "select V2p!=Wy1(t!=I,h)+P8(d,j)>(d+.+z/y) from Cx\n",
      "Table ('Cx') was not found\n",
      "\n",
      "select H+K/z-G+s-s,U*A-(b)-p from W\n",
      "Table ('W') was not found\n",
      "\n",
      "delete from N81 where O6(B!=78,f)>i-K+I*f+f<o\n",
      "Table ('N81') was not found\n",
      "\n",
      "insert into L (LoEW6W) values (6411)\n",
      "Table ('L') was not found\n",
      "\n",
      "select a==g>i!=L from VQ9 where F/a*z-y>z*V\n",
      "Table ('VQ9') was not found\n",
      "\n",
      "insert into MK (IFb) values (')','N')\n",
      "Table ('MK') was not found\n",
      "\n",
      "insert into Yy32AU (ERJhUw,Od) values ('d2=h',7)\n",
      "Table ('Yy32AU') was not found\n",
      "\n",
      "select b==c*k,e,c,V from jm48 where 7!=(C-g(S))\n",
      "Table ('jm48') was not found\n",
      "\n"
     ]
    }
   ],
   "source": [
    "gf = GrammarFuzzer(INVENTORY_GRAMMAR)\n",
    "for i in range(10):\n",
    "    query = gf.fuzz()\n",
    "    print(query)\n",
    "    with ExpectError(print_traceback=False):\n",
    "        try:\n",
    "            res = db_select(query)\n",
    "            print(repr(res))\n",
    "        except SQLException as e:\n",
    "            print(e)\n",
    "        print()"
   ]
  },
  {
   "cell_type": "markdown",
   "metadata": {
    "slideshow": {
     "slide_type": "subslide"
    }
   },
   "source": [
    "As can be seen, the original grammar fuzzer is unable to proceed beyond the table verification."
   ]
  },
  {
   "cell_type": "markdown",
   "metadata": {
    "slideshow": {
     "slide_type": "subslide"
    }
   },
   "source": [
    "#### Pruning and Updating\n",
    "\n",
    "We implement these methods in `ConcolicGrammarFuzzer`. The method `update_grammar()` allows `ConcolicGrammarFuzzer` to collect feedback from concolic fuzzing, and update the grammar used for fuzzing accordingly."
   ]
  },
  {
   "cell_type": "code",
   "execution_count": 280,
   "metadata": {
    "execution": {
     "iopub.execute_input": "2022-01-02T15:43:35.924445Z",
     "iopub.status.busy": "2022-01-02T15:43:35.923773Z",
     "iopub.status.idle": "2022-01-02T15:43:35.925709Z",
     "shell.execute_reply": "2022-01-02T15:43:35.926105Z"
    },
    "slideshow": {
     "slide_type": "subslide"
    }
   },
   "outputs": [],
   "source": [
    "class ConcolicGrammarFuzzer(ConcolicGrammarFuzzer):\n",
    "    def prune_tokens(self, tokens):\n",
    "        self.prune_tokens = tokens\n",
    "\n",
    "    def update_grammar(self, trace):\n",
    "        self.comparisons = {}\n",
    "        for p in trace.path:\n",
    "            traverse_z3(p, self.comparisons)\n",
    "        alternatives = find_alternatives(self.span_range, self.comparisons)\n",
    "        if self.log:\n",
    "            print('Alternatives:', alternatives, 'Span:', self.span_range)\n",
    "        new_grammar = dict(self.grammar)\n",
    "        for k in alternatives:\n",
    "            new_grammar[k] = list(set(new_grammar[k] + list(alternatives[k])))\n",
    "        self.grammar = new_grammar"
   ]
  },
  {
   "cell_type": "markdown",
   "metadata": {
    "slideshow": {
     "slide_type": "subslide"
    }
   },
   "source": [
    "The `fuzz()` method simply generates the derivation tree, computes the span range, and returns the string generated from the derivation tree."
   ]
  },
  {
   "cell_type": "code",
   "execution_count": 281,
   "metadata": {
    "execution": {
     "iopub.execute_input": "2022-01-02T15:43:35.930251Z",
     "iopub.status.busy": "2022-01-02T15:43:35.929721Z",
     "iopub.status.idle": "2022-01-02T15:43:35.931319Z",
     "shell.execute_reply": "2022-01-02T15:43:35.931776Z"
    },
    "slideshow": {
     "slide_type": "fragment"
    }
   },
   "outputs": [],
   "source": [
    "class ConcolicGrammarFuzzer(ConcolicGrammarFuzzer):\n",
    "    def fuzz(self):\n",
    "        qtree = self.fuzz_tree()\n",
    "        self.pruned_tree = self.prune_tree(qtree, self.prune_tokens)\n",
    "        query = self.tree_to_string(qtree)\n",
    "        self.span_range, _n = span(self.pruned_tree, self.grammar)\n",
    "        return query"
   ]
  },
  {
   "cell_type": "markdown",
   "metadata": {
    "slideshow": {
     "slide_type": "fragment"
    }
   },
   "source": [
    "To ensure that our approach works, let us update our tables slightly."
   ]
  },
  {
   "cell_type": "code",
   "execution_count": 282,
   "metadata": {
    "execution": {
     "iopub.execute_input": "2022-01-02T15:43:35.934983Z",
     "iopub.status.busy": "2022-01-02T15:43:35.934387Z",
     "iopub.status.idle": "2022-01-02T15:43:35.936283Z",
     "shell.execute_reply": "2022-01-02T15:43:35.936666Z"
    },
    "slideshow": {
     "slide_type": "fragment"
    }
   },
   "outputs": [],
   "source": [
    "inventory = db.db.pop('inventory', None)"
   ]
  },
  {
   "cell_type": "code",
   "execution_count": 283,
   "metadata": {
    "execution": {
     "iopub.execute_input": "2022-01-02T15:43:35.942832Z",
     "iopub.status.busy": "2022-01-02T15:43:35.942298Z",
     "iopub.status.idle": "2022-01-02T15:43:35.944514Z",
     "shell.execute_reply": "2022-01-02T15:43:35.945023Z"
    },
    "slideshow": {
     "slide_type": "subslide"
    }
   },
   "outputs": [
    {
     "data": {
      "text/plain": [
       "{'vehicles': ({'year': int, 'kind': str, 'company': str, 'model': str},\n",
       "  [{'year': 1997, 'kind': 'van', 'company': 'Ford', 'model': 'E350'},\n",
       "   {'year': 2000, 'kind': 'car', 'company': 'Mercury', 'model': 'Cougar'},\n",
       "   {'year': 1999, 'kind': 'car', 'company': 'Chevy', 'model': 'Venture'}]),\n",
       " 'months': ({'month': int, 'name': str},\n",
       "  [{'month': 1, 'name': 'jan'},\n",
       "   {'month': 2, 'name': 'feb'},\n",
       "   {'month': 3, 'name': 'mar'},\n",
       "   {'month': 4, 'name': 'apr'},\n",
       "   {'month': 5, 'name': 'may'},\n",
       "   {'month': 6, 'name': 'jun'},\n",
       "   {'month': 7, 'name': 'jul'},\n",
       "   {'month': 8, 'name': 'aug'},\n",
       "   {'month': 9, 'name': 'sep'},\n",
       "   {'month': 10, 'name': 'oct'},\n",
       "   {'month': 11, 'name': 'nov'},\n",
       "   {'month': 12, 'name': 'dec'}])}"
      ]
     },
     "execution_count": 283,
     "metadata": {},
     "output_type": "execute_result"
    }
   ],
   "source": [
    "db.db['vehicles'] = inventory\n",
    "db.db['months'] = ({\n",
    "    'month': int,\n",
    "    'name': str\n",
    "}, [{\n",
    "    'month': i + 1,\n",
    "    'name': m\n",
    "} for i, m in enumerate([\n",
    "    'jan', 'feb', 'mar', 'apr', 'may', 'jun', 'jul', 'aug', 'sep', 'oct',\n",
    "    'nov', 'dec'\n",
    "])])\n",
    "db.db"
   ]
  },
  {
   "cell_type": "markdown",
   "metadata": {
    "slideshow": {
     "slide_type": "subslide"
    }
   },
   "source": [
    "### End of Excursion"
   ]
  },
  {
   "cell_type": "markdown",
   "metadata": {
    "slideshow": {
     "slide_type": "fragment"
    }
   },
   "source": [
    "The `ConcolicGrammarFuzzer` is used as follows."
   ]
  },
  {
   "cell_type": "code",
   "execution_count": 284,
   "metadata": {
    "execution": {
     "iopub.execute_input": "2022-01-02T15:43:35.967883Z",
     "iopub.status.busy": "2022-01-02T15:43:35.966909Z",
     "iopub.status.idle": "2022-01-02T15:43:36.131877Z",
     "shell.execute_reply": "2022-01-02T15:43:36.132327Z"
    },
    "slideshow": {
     "slide_type": "subslide"
    }
   },
   "outputs": [
    {
     "name": "stdout",
     "output_type": "stream",
     "text": [
      "update XT set G=D,v=X,B=X where V!=U<Q+e\n",
      "Table ('XT') was not found\n",
      "\n",
      "delete from vehicles where (359)==7.28\n",
      "'0 records were deleted'\n",
      "\n",
      "select (--1.98418) from months\n",
      "[1.98418, 1.98418, 1.98418, 1.98418, 1.98418, 1.98418, 1.98418, 1.98418, 1.98418, 1.98418, 1.98418, 1.98418]\n",
      "\n",
      "select _,l<P!=u!=x,495,w(l)*U-x(T) from months\n",
      "Invalid WHERE ('(_,l<P!=u!=x,495,w(l)*U-x(T))')\n",
      "\n",
      "insert into months (PZe) values ('&',9)\n",
      "Column ('PZe') was not found\n",
      "\n",
      "update months set month=eI,p=wUr,month=q where (i/U)==M71\n",
      "Column ('p') was not found\n",
      "\n",
      "insert into g39yi (month) values (7,-2)\n",
      "Table ('g39yi') was not found\n",
      "\n",
      "select ((X8)) from vehicles\n",
      "Invalid WHERE ('(((X8)))')\n",
      "\n",
      "insert into GB (month,month) values (551954.9,'w',4.4)\n",
      "Table ('GB') was not found\n",
      "\n",
      "select 26,j-E-O-k>.z(M,T)!=n,(R1),: from z0N\n",
      "Table ('z0N') was not found\n",
      "\n"
     ]
    }
   ],
   "source": [
    "cgf = ConcolicGrammarFuzzer(INVENTORY_GRAMMAR)\n",
    "cgf.prune_tokens(prune_tokens)\n",
    "for i in range(10):\n",
    "    query = cgf.fuzz()\n",
    "    print(query)\n",
    "    with ConcolicTracer() as _:\n",
    "        with ExpectError(print_traceback=False):\n",
    "            try:\n",
    "                res = _[db_select](query)\n",
    "                print(repr(res))\n",
    "            except SQLException as e:\n",
    "                print(e)\n",
    "        cgf.update_grammar(_)\n",
    "        print()"
   ]
  },
  {
   "cell_type": "markdown",
   "metadata": {
    "slideshow": {
     "slide_type": "subslide"
    }
   },
   "source": [
    "As can be seen, the fuzzer starts with no knowledge of the tables `vehicles`, `months` and `years`, but identifies it from the concolic execution, and lifts it to the grammar. This allows us to improve the effectiveness of fuzzing."
   ]
  },
  {
   "cell_type": "markdown",
   "metadata": {
    "slideshow": {
     "slide_type": "slide"
    }
   },
   "source": [
    "## Limitations\n",
    "\n",
    "As with dynamic taint analysis, implicit control flow can obscure the predicates encountered during concolic execution. However, this limitation could be overcome to some extent by wrapping any constants in the source with their respective proxy objects. Similarly, calls to internal C functions can cause the symbolic information to be discarded, and only partial information may be obtained."
   ]
  },
  {
   "cell_type": "markdown",
   "metadata": {
    "slideshow": {
     "slide_type": "slide"
    }
   },
   "source": [
    "## Synopsis"
   ]
  },
  {
   "cell_type": "markdown",
   "metadata": {
    "slideshow": {
     "slide_type": "fragment"
    }
   },
   "source": [
    "This chapter defines two main classes: `SimpleConcolicFuzzer` and `ConcolicGrammarFuzzer`. The `SimpleConcolicFuzzer` first uses a sample input to collect predicates encountered. The fuzzer then negates random predicates to generate new input constraints. These, when solved, produce inputs that explore paths that are close to the original path."
   ]
  },
  {
   "cell_type": "markdown",
   "metadata": {
    "slideshow": {
     "slide_type": "subslide"
    }
   },
   "source": [
    "### ConcolicTracer"
   ]
  },
  {
   "cell_type": "markdown",
   "metadata": {
    "slideshow": {
     "slide_type": "fragment"
    }
   },
   "source": [
    "At the heart of both fuzzers lies the concept of a _concolic tracer_, capturing symbolic variables and path conditions as a program gets executed.\n",
    "\n",
    "`ConcolicTracer` is used in a `with` block; the syntax `tracer[function]` executes `function` within the `tracer` while capturing conditions. Here is an example for the `cgi_decode()` function:"
   ]
  },
  {
   "cell_type": "code",
   "execution_count": 285,
   "metadata": {
    "execution": {
     "iopub.execute_input": "2022-01-02T15:43:36.138842Z",
     "iopub.status.busy": "2022-01-02T15:43:36.138133Z",
     "iopub.status.idle": "2022-01-02T15:43:36.142714Z",
     "shell.execute_reply": "2022-01-02T15:43:36.143175Z"
    },
    "slideshow": {
     "slide_type": "fragment"
    }
   },
   "outputs": [],
   "source": [
    "with ConcolicTracer() as _:\n",
    "    _[cgi_decode]('a%20d')"
   ]
  },
  {
   "cell_type": "markdown",
   "metadata": {
    "slideshow": {
     "slide_type": "fragment"
    }
   },
   "source": [
    "Once executed, we can retrieve the symbolic variables and associated path constraints in the `context` attribute. This is a pair of two elements:"
   ]
  },
  {
   "cell_type": "code",
   "execution_count": 286,
   "metadata": {
    "execution": {
     "iopub.execute_input": "2022-01-02T15:43:36.146805Z",
     "iopub.status.busy": "2022-01-02T15:43:36.146042Z",
     "iopub.status.idle": "2022-01-02T15:43:36.147865Z",
     "shell.execute_reply": "2022-01-02T15:43:36.148399Z"
    },
    "slideshow": {
     "slide_type": "fragment"
    }
   },
   "outputs": [],
   "source": [
    "declarations, path = _.context"
   ]
  },
  {
   "cell_type": "markdown",
   "metadata": {
    "slideshow": {
     "slide_type": "subslide"
    }
   },
   "source": [
    "In the context, `declarations` is a mapping of symbolic variables to _types_:"
   ]
  },
  {
   "cell_type": "code",
   "execution_count": 287,
   "metadata": {
    "execution": {
     "iopub.execute_input": "2022-01-02T15:43:36.153664Z",
     "iopub.status.busy": "2022-01-02T15:43:36.152931Z",
     "iopub.status.idle": "2022-01-02T15:43:36.156225Z",
     "shell.execute_reply": "2022-01-02T15:43:36.156696Z"
    },
    "slideshow": {
     "slide_type": "fragment"
    }
   },
   "outputs": [
    {
     "data": {
      "text/plain": [
       "{'cgi_decode_s_str_1': 'String'}"
      ]
     },
     "execution_count": 287,
     "metadata": {},
     "output_type": "execute_result"
    }
   ],
   "source": [
    "declarations"
   ]
  },
  {
   "cell_type": "markdown",
   "metadata": {
    "slideshow": {
     "slide_type": "fragment"
    }
   },
   "source": [
    "whereas `path` is a list of constraints encountered during execution:"
   ]
  },
  {
   "cell_type": "code",
   "execution_count": 288,
   "metadata": {
    "execution": {
     "iopub.execute_input": "2022-01-02T15:43:36.160605Z",
     "iopub.status.busy": "2022-01-02T15:43:36.160000Z",
     "iopub.status.idle": "2022-01-02T15:43:36.169754Z",
     "shell.execute_reply": "2022-01-02T15:43:36.170200Z"
    },
    "slideshow": {
     "slide_type": "subslide"
    }
   },
   "outputs": [
    {
     "data": {
      "text/plain": [
       "[Not(str.substr(cgi_decode_s_str_1, 0, 1) == \"+\"),\n",
       " Not(str.substr(cgi_decode_s_str_1, 0, 1) == \"%\"),\n",
       " Not(str.substr(cgi_decode_s_str_1, 1, 1) == \"+\"),\n",
       " str.substr(cgi_decode_s_str_1, 1, 1) == \"%\",\n",
       " Not(str.substr(cgi_decode_s_str_1, 2, 1) == \"0\"),\n",
       " Not(str.substr(cgi_decode_s_str_1, 2, 1) == \"1\"),\n",
       " str.substr(cgi_decode_s_str_1, 2, 1) == \"2\",\n",
       " str.substr(cgi_decode_s_str_1, 3, 1) == \"0\",\n",
       " Not(str.substr(cgi_decode_s_str_1, 4, 1) == \"+\"),\n",
       " Not(str.substr(cgi_decode_s_str_1, 4, 1) == \"%\")]"
      ]
     },
     "execution_count": 288,
     "metadata": {},
     "output_type": "execute_result"
    }
   ],
   "source": [
    "path"
   ]
  },
  {
   "cell_type": "markdown",
   "metadata": {
    "slideshow": {
     "slide_type": "fragment"
    }
   },
   "source": [
    "We can solve these constraints to obtain a value for the function parameters that follow the same path as the original (traced) invocation:"
   ]
  },
  {
   "cell_type": "code",
   "execution_count": 289,
   "metadata": {
    "execution": {
     "iopub.execute_input": "2022-01-02T15:43:36.174495Z",
     "iopub.status.busy": "2022-01-02T15:43:36.173746Z",
     "iopub.status.idle": "2022-01-02T15:43:36.239147Z",
     "shell.execute_reply": "2022-01-02T15:43:36.239714Z"
    },
    "slideshow": {
     "slide_type": "fragment"
    }
   },
   "outputs": [
    {
     "data": {
      "text/plain": [
       "('sat', {'s': ('\\\\x00%20', 'String')})"
      ]
     },
     "execution_count": 289,
     "metadata": {},
     "output_type": "execute_result"
    }
   ],
   "source": [
    "_.zeval()"
   ]
  },
  {
   "cell_type": "markdown",
   "metadata": {
    "slideshow": {
     "slide_type": "subslide"
    }
   },
   "source": [
    "_Negating_ some of these constraints will yield different paths taken, and thus greater code coverage. This is what our concolic fuzzers do."
   ]
  },
  {
   "cell_type": "code",
   "execution_count": 290,
   "metadata": {
    "execution": {
     "iopub.execute_input": "2022-01-02T15:43:36.247822Z",
     "iopub.status.busy": "2022-01-02T15:43:36.247092Z",
     "iopub.status.idle": "2022-01-02T15:43:36.677551Z",
     "shell.execute_reply": "2022-01-02T15:43:36.677151Z"
    },
    "slideshow": {
     "slide_type": "skip"
    }
   },
   "outputs": [
    {
     "data": {
      "image/svg+xml": [
       "<?xml version=\"1.0\" encoding=\"UTF-8\" standalone=\"no\"?>\n",
       "<!DOCTYPE svg PUBLIC \"-//W3C//DTD SVG 1.1//EN\"\n",
       " \"http://www.w3.org/Graphics/SVG/1.1/DTD/svg11.dtd\">\n",
       "<!-- Generated by graphviz version 2.49.3 (20211023.0002)\n",
       " -->\n",
       "<!-- Pages: 1 -->\n",
       "<svg width=\"250pt\" height=\"128pt\"\n",
       " viewBox=\"0.00 0.00 250.00 128.00\" xmlns=\"http://www.w3.org/2000/svg\" xmlns:xlink=\"http://www.w3.org/1999/xlink\">\n",
       "<g id=\"graph0\" class=\"graph\" transform=\"scale(1 1) rotate(0) translate(4 124)\">\n",
       "<g id=\"a_graph0\"><a xlink:title=\"ConcolicTracer class hierarchy\">\n",
       "<polygon fill=\"white\" stroke=\"transparent\" points=\"-4,4 -4,-124 246,-124 246,4 -4,4\"/>\n",
       "</a>\n",
       "</g>\n",
       "<!-- ConcolicTracer -->\n",
       "<g id=\"node1\" class=\"node\">\n",
       "<title>ConcolicTracer</title>\n",
       "<g id=\"a_node1\"><a xlink:href=\"#\" xlink:title=\"class ConcolicTracer:&#10;Trace function execution, tracking variables and path conditions\">\n",
       "<polygon fill=\"none\" stroke=\"black\" points=\"0,-0.5 0,-119.5 106,-119.5 106,-0.5 0,-0.5\"/>\n",
       "<text text-anchor=\"start\" x=\"8\" y=\"-105.3\" font-family=\"Patua One, Helvetica, sans-serif\" font-weight=\"bold\" font-size=\"14.00\" fill=\"#b03a2e\">ConcolicTracer</text>\n",
       "<polyline fill=\"none\" stroke=\"black\" points=\"0,-96.5 106,-96.5 \"/>\n",
       "<g id=\"a_node1_0\"><a xlink:href=\"#\" xlink:title=\"ConcolicTracer\">\n",
       "<g id=\"a_node1_1\"><a xlink:href=\"#\" xlink:title=\"__call__(self, *args):&#10;Call self as a function.\">\n",
       "<text text-anchor=\"start\" x=\"14\" y=\"-85.5\" font-family=\"'Fira Mono', 'Source Code Pro', 'Courier', monospace\" font-weight=\"bold\" font-size=\"10.00\">__call__()</text>\n",
       "</a>\n",
       "</g>\n",
       "<g id=\"a_node1_2\"><a xlink:href=\"#\" xlink:title=\"__init__(self, context=None):&#10;Constructor.\">\n",
       "<text text-anchor=\"start\" x=\"14\" y=\"-74.5\" font-family=\"'Fira Mono', 'Source Code Pro', 'Courier', monospace\" font-weight=\"bold\" font-size=\"10.00\">__init__()</text>\n",
       "</a>\n",
       "</g>\n",
       "<g id=\"a_node1_3\"><a xlink:href=\"#\" xlink:title=\"zeval(self, python=False, log=False):&#10;Evaluate predicates in given context.&#10;&#45; If `python` is set, use the z3 Python API; otherwise use z3 standalone.&#10;&#45; If `log` is set, show input to Z3.\">\n",
       "<text text-anchor=\"start\" x=\"14\" y=\"-63.5\" font-family=\"'Fira Mono', 'Source Code Pro', 'Courier', monospace\" font-weight=\"bold\" font-size=\"10.00\">zeval()</text>\n",
       "</a>\n",
       "</g>\n",
       "<g id=\"a_node1_4\"><a xlink:href=\"#\" xlink:title=\"__enter__(self)\">\n",
       "<text text-anchor=\"start\" x=\"14\" y=\"-51.5\" font-family=\"'Fira Mono', 'Source Code Pro', 'Courier', monospace\" font-size=\"10.00\">__enter__()</text>\n",
       "</a>\n",
       "</g>\n",
       "<g id=\"a_node1_5\"><a xlink:href=\"#\" xlink:title=\"__exit__(self, exc_type, exc_value, tb)\">\n",
       "<text text-anchor=\"start\" x=\"14\" y=\"-40.5\" font-family=\"'Fira Mono', 'Source Code Pro', 'Courier', monospace\" font-size=\"10.00\">__exit__()</text>\n",
       "</a>\n",
       "</g>\n",
       "<g id=\"a_node1_6\"><a xlink:href=\"#\" xlink:title=\"__getitem__(self, fn)\">\n",
       "<text text-anchor=\"start\" x=\"14\" y=\"-29.5\" font-family=\"'Fira Mono', 'Source Code Pro', 'Courier', monospace\" font-size=\"10.00\">__getitem__()</text>\n",
       "</a>\n",
       "</g>\n",
       "<g id=\"a_node1_7\"><a xlink:href=\"#\" xlink:title=\"concolic(self, args)\">\n",
       "<text text-anchor=\"start\" x=\"14\" y=\"-18.5\" font-family=\"'Fira Mono', 'Source Code Pro', 'Courier', monospace\" font-size=\"10.00\">concolic()</text>\n",
       "</a>\n",
       "</g>\n",
       "<g id=\"a_node1_8\"><a xlink:href=\"#\" xlink:title=\"smt_expr(self, show_decl=False, simplify=False, path=[])\">\n",
       "<text text-anchor=\"start\" x=\"14\" y=\"-7.5\" font-family=\"'Fira Mono', 'Source Code Pro', 'Courier', monospace\" font-size=\"10.00\">smt_expr()</text>\n",
       "</a>\n",
       "</g>\n",
       "</a>\n",
       "</g>\n",
       "</a>\n",
       "</g>\n",
       "</g>\n",
       "<!-- Legend -->\n",
       "<g id=\"node2\" class=\"node\">\n",
       "<title>Legend</title>\n",
       "<text text-anchor=\"start\" x=\"124\" y=\"-77.5\" font-family=\"Patua One, Helvetica, sans-serif\" font-weight=\"bold\" font-size=\"10.00\" fill=\"#b03a2e\">Legend</text>\n",
       "<text text-anchor=\"start\" x=\"124\" y=\"-67.5\" font-family=\"Patua One, Helvetica, sans-serif\" font-size=\"10.00\">• </text>\n",
       "<text text-anchor=\"start\" x=\"130\" y=\"-67.5\" font-family=\"'Fira Mono', 'Source Code Pro', 'Courier', monospace\" font-weight=\"bold\" font-size=\"8.00\">public_method()</text>\n",
       "<text text-anchor=\"start\" x=\"124\" y=\"-57.5\" font-family=\"Patua One, Helvetica, sans-serif\" font-size=\"10.00\">• </text>\n",
       "<text text-anchor=\"start\" x=\"130\" y=\"-57.5\" font-family=\"'Fira Mono', 'Source Code Pro', 'Courier', monospace\" font-size=\"8.00\">private_method()</text>\n",
       "<text text-anchor=\"start\" x=\"124\" y=\"-47.5\" font-family=\"Patua One, Helvetica, sans-serif\" font-size=\"10.00\">• </text>\n",
       "<text text-anchor=\"start\" x=\"130\" y=\"-47.5\" font-family=\"'Fira Mono', 'Source Code Pro', 'Courier', monospace\" font-style=\"italic\" font-size=\"8.00\">overloaded_method()</text>\n",
       "<text text-anchor=\"start\" x=\"124\" y=\"-38.3\" font-family=\"Helvetica,sans-Serif\" font-size=\"9.00\">Hover over names to see doc</text>\n",
       "</g>\n",
       "</g>\n",
       "</svg>\n"
      ],
      "text/plain": [
       "<graphviz.dot.Digraph at 0x110b392e0>"
      ]
     },
     "execution_count": 290,
     "metadata": {},
     "output_type": "execute_result"
    }
   ],
   "source": [
    "from ClassDiagram import display_class_hierarchy\n",
    "display_class_hierarchy(ConcolicTracer)"
   ]
  },
  {
   "cell_type": "markdown",
   "metadata": {
    "slideshow": {
     "slide_type": "subslide"
    }
   },
   "source": [
    "### SimpleConcolicFuzzer"
   ]
  },
  {
   "cell_type": "markdown",
   "metadata": {
    "slideshow": {
     "slide_type": "fragment"
    }
   },
   "source": [
    "The constraints obtained from `ConcolicTracer` are added to the concolic fuzzer as follows:"
   ]
  },
  {
   "cell_type": "code",
   "execution_count": 291,
   "metadata": {
    "execution": {
     "iopub.execute_input": "2022-01-02T15:43:36.681835Z",
     "iopub.status.busy": "2022-01-02T15:43:36.681283Z",
     "iopub.status.idle": "2022-01-02T15:43:36.688223Z",
     "shell.execute_reply": "2022-01-02T15:43:36.688663Z"
    },
    "slideshow": {
     "slide_type": "fragment"
    }
   },
   "outputs": [],
   "source": [
    "scf = SimpleConcolicFuzzer()\n",
    "scf.add_trace(_, 'a%20d')"
   ]
  },
  {
   "cell_type": "markdown",
   "metadata": {
    "slideshow": {
     "slide_type": "fragment"
    }
   },
   "source": [
    "The concolic fuzzer then uses the constraints added to guide its fuzzing as follows:"
   ]
  },
  {
   "cell_type": "code",
   "execution_count": 292,
   "metadata": {
    "execution": {
     "iopub.execute_input": "2022-01-02T15:43:36.693883Z",
     "iopub.status.busy": "2022-01-02T15:43:36.693278Z",
     "iopub.status.idle": "2022-01-02T15:43:48.213932Z",
     "shell.execute_reply": "2022-01-02T15:43:48.214391Z"
    },
    "slideshow": {
     "slide_type": "subslide"
    }
   },
   "outputs": [
    {
     "name": "stdout",
     "output_type": "stream",
     "text": [
      "' '\n",
      "'+\\\\x00'\n",
      "'++\\\\x00'\n",
      "'+\\\\x00+\\\\x00'\n",
      "'+\\\\x00\\\\x00+\\\\x00'\n",
      "'+\\\\x00\\\\x00\\\\x00%\\\\x00'\n"
     ]
    },
    {
     "name": "stderr",
     "output_type": "stream",
     "text": [
      "ValueError: Invalid encoding (expected)\n"
     ]
    },
    {
     "name": "stdout",
     "output_type": "stream",
     "text": [
      "'+'\n",
      "'+'\n",
      "'+\\\\x00\\\\x00\\\\x00\\\\x00\\\\x00%\\\\x00'\n"
     ]
    },
    {
     "name": "stderr",
     "output_type": "stream",
     "text": [
      "ValueError: Invalid encoding (expected)\n"
     ]
    },
    {
     "name": "stdout",
     "output_type": "stream",
     "text": [
      "'+\\\\x00\\\\x00\\\\x00\\\\x00\\\\x00\\\\x00\\\\x00\\\\x00\\\\x00%\\\\x00'\n"
     ]
    },
    {
     "name": "stderr",
     "output_type": "stream",
     "text": [
      "ValueError: Invalid encoding (expected)\n"
     ]
    },
    {
     "name": "stdout",
     "output_type": "stream",
     "text": [
      "'+\\\\x80@@!+%\\\\x00'\n"
     ]
    },
    {
     "name": "stderr",
     "output_type": "stream",
     "text": [
      "ValueError: Invalid encoding (expected)\n"
     ]
    },
    {
     "name": "stdout",
     "output_type": "stream",
     "text": [
      "'+\\\\x03@\\\\x04\\\\x01++\\\\x00'\n",
      "'+\\\\x00\\\\x00\\\\x00\\\\x00%\\\\x00'\n",
      "'++\\\\x00\\\\x00+\\\\x00'\n"
     ]
    },
    {
     "name": "stderr",
     "output_type": "stream",
     "text": [
      "ValueError: Invalid encoding (expected)\n"
     ]
    },
    {
     "name": "stdout",
     "output_type": "stream",
     "text": [
      "'++'\n",
      "'+\\\\x00\\\\x00\\\\x00\\\\x00\\\\x00\\\\x00+\\\\x00'\n",
      "'++\\\\x00\\\\x00\\\\x00%\\\\x00'\n"
     ]
    },
    {
     "name": "stderr",
     "output_type": "stream",
     "text": [
      "ValueError: Invalid encoding (expected)\n"
     ]
    },
    {
     "name": "stdout",
     "output_type": "stream",
     "text": [
      "'+\\\\x00\\\\x00\\\\x00\\\\x00%\\\\x00'\n"
     ]
    },
    {
     "name": "stderr",
     "output_type": "stream",
     "text": [
      "ValueError: Invalid encoding (expected)\n"
     ]
    },
    {
     "name": "stdout",
     "output_type": "stream",
     "text": [
      "'++\\\\x00\\\\x00\\\\x00\\\\x00\\\\x00\\\\x00%\\\\x00'\n"
     ]
    },
    {
     "name": "stderr",
     "output_type": "stream",
     "text": [
      "ValueError: Invalid encoding (expected)\n"
     ]
    },
    {
     "name": "stdout",
     "output_type": "stream",
     "text": [
      "'+\\\\x00\\\\x00\\\\x00\\\\x00\\\\x00\\\\x00\\\\x00+\\\\x00'\n"
     ]
    }
   ],
   "source": [
    "scf = SimpleConcolicFuzzer()\n",
    "for i in range(20):\n",
    "    v = scf.fuzz()\n",
    "    if v is None:\n",
    "        break\n",
    "    print(repr(v))\n",
    "    with ExpectError(print_traceback=False):\n",
    "        with ConcolicTracer() as _:\n",
    "            _[cgi_decode](v)\n",
    "    scf.add_trace(_, v)"
   ]
  },
  {
   "cell_type": "markdown",
   "metadata": {
    "slideshow": {
     "slide_type": "subslide"
    }
   },
   "source": [
    "We see how the additional inputs generated explore additional paths."
   ]
  },
  {
   "cell_type": "code",
   "execution_count": 293,
   "metadata": {
    "execution": {
     "iopub.execute_input": "2022-01-02T15:43:48.223617Z",
     "iopub.status.busy": "2022-01-02T15:43:48.222593Z",
     "iopub.status.idle": "2022-01-02T15:43:48.854835Z",
     "shell.execute_reply": "2022-01-02T15:43:48.855591Z"
    },
    "slideshow": {
     "slide_type": "fragment"
    }
   },
   "outputs": [
    {
     "data": {
      "image/svg+xml": [
       "<?xml version=\"1.0\" encoding=\"UTF-8\" standalone=\"no\"?>\n",
       "<!DOCTYPE svg PUBLIC \"-//W3C//DTD SVG 1.1//EN\"\n",
       " \"http://www.w3.org/Graphics/SVG/1.1/DTD/svg11.dtd\">\n",
       "<!-- Generated by graphviz version 2.49.3 (20211023.0002)\n",
       " -->\n",
       "<!-- Pages: 1 -->\n",
       "<svg width=\"296pt\" height=\"207pt\"\n",
       " viewBox=\"0.00 0.00 296.00 207.00\" xmlns=\"http://www.w3.org/2000/svg\" xmlns:xlink=\"http://www.w3.org/1999/xlink\">\n",
       "<g id=\"graph0\" class=\"graph\" transform=\"scale(1 1) rotate(0) translate(4 203)\">\n",
       "<g id=\"a_graph0\"><a xlink:title=\"SimpleConcolicFuzzer class hierarchy\">\n",
       "<polygon fill=\"white\" stroke=\"transparent\" points=\"-4,4 -4,-203 292,-203 292,4 -4,4\"/>\n",
       "</a>\n",
       "</g>\n",
       "<!-- SimpleConcolicFuzzer -->\n",
       "<g id=\"node1\" class=\"node\">\n",
       "<title>SimpleConcolicFuzzer</title>\n",
       "<g id=\"a_node1\"><a xlink:href=\"#\" xlink:title=\"class SimpleConcolicFuzzer:&#10;Base class for fuzzers.\">\n",
       "<polygon fill=\"none\" stroke=\"black\" points=\"0,-0.5 0,-86.5 152,-86.5 152,-0.5 0,-0.5\"/>\n",
       "<text text-anchor=\"start\" x=\"8\" y=\"-72.3\" font-family=\"Patua One, Helvetica, sans-serif\" font-weight=\"bold\" font-size=\"14.00\" fill=\"#b03a2e\">SimpleConcolicFuzzer</text>\n",
       "<polyline fill=\"none\" stroke=\"black\" points=\"0,-63.5 152,-63.5 \"/>\n",
       "<g id=\"a_node1_0\"><a xlink:href=\"#\" xlink:title=\"SimpleConcolicFuzzer\">\n",
       "<g id=\"a_node1_1\"><a xlink:href=\"#\" xlink:title=\"__init__(self):&#10;Constructor\">\n",
       "<text text-anchor=\"start\" x=\"37\" y=\"-52\" font-family=\"'Fira Mono', 'Source Code Pro', 'Courier', monospace\" font-weight=\"bold\" font-style=\"italic\" font-size=\"10.00\">__init__()</text>\n",
       "</a>\n",
       "</g>\n",
       "<g id=\"a_node1_2\"><a xlink:href=\"#\" xlink:title=\"fuzz(self):&#10;Return fuzz input\">\n",
       "<text text-anchor=\"start\" x=\"37\" y=\"-41\" font-family=\"'Fira Mono', 'Source Code Pro', 'Courier', monospace\" font-weight=\"bold\" font-style=\"italic\" font-size=\"10.00\">fuzz()</text>\n",
       "</a>\n",
       "</g>\n",
       "<g id=\"a_node1_3\"><a xlink:href=\"#\" xlink:title=\"add_trace(self, trace, s)\">\n",
       "<text text-anchor=\"start\" x=\"37\" y=\"-29\" font-family=\"'Fira Mono', 'Source Code Pro', 'Courier', monospace\" font-size=\"10.00\">add_trace()</text>\n",
       "</a>\n",
       "</g>\n",
       "<g id=\"a_node1_4\"><a xlink:href=\"#\" xlink:title=\"get_newpath(self)\">\n",
       "<text text-anchor=\"start\" x=\"37\" y=\"-18\" font-family=\"'Fira Mono', 'Source Code Pro', 'Courier', monospace\" font-size=\"10.00\">get_newpath()</text>\n",
       "</a>\n",
       "</g>\n",
       "<g id=\"a_node1_5\"><a xlink:href=\"#\" xlink:title=\"next_choice(self)\">\n",
       "<text text-anchor=\"start\" x=\"37\" y=\"-7\" font-family=\"'Fira Mono', 'Source Code Pro', 'Courier', monospace\" font-size=\"10.00\">next_choice()</text>\n",
       "</a>\n",
       "</g>\n",
       "</a>\n",
       "</g>\n",
       "</a>\n",
       "</g>\n",
       "</g>\n",
       "<!-- Fuzzer -->\n",
       "<g id=\"node2\" class=\"node\">\n",
       "<title>Fuzzer</title>\n",
       "<g id=\"a_node2\"><a xlink:href=\"Fuzzer.ipynb\" xlink:title=\"class Fuzzer:&#10;Base class for fuzzers.\">\n",
       "<polygon fill=\"none\" stroke=\"black\" points=\"37.5,-123.5 37.5,-198.5 114.5,-198.5 114.5,-123.5 37.5,-123.5\"/>\n",
       "<text text-anchor=\"start\" x=\"55\" y=\"-184.3\" font-family=\"Patua One, Helvetica, sans-serif\" font-weight=\"bold\" font-size=\"14.00\" fill=\"#b03a2e\">Fuzzer</text>\n",
       "<polyline fill=\"none\" stroke=\"black\" points=\"37.5,-175.5 114.5,-175.5 \"/>\n",
       "<g id=\"a_node2_6\"><a xlink:href=\"#\" xlink:title=\"Fuzzer\">\n",
       "<g id=\"a_node2_7\"><a xlink:href=\"Fuzzer.ipynb\" xlink:title=\"__init__(self) &#45;&gt; None:&#10;Constructor\">\n",
       "<text text-anchor=\"start\" x=\"46\" y=\"-164.5\" font-family=\"'Fira Mono', 'Source Code Pro', 'Courier', monospace\" font-weight=\"bold\" font-style=\"italic\" font-size=\"10.00\">__init__()</text>\n",
       "</a>\n",
       "</g>\n",
       "<g id=\"a_node2_8\"><a xlink:href=\"Fuzzer.ipynb\" xlink:title=\"fuzz(self) &#45;&gt; str:&#10;Return fuzz input\">\n",
       "<text text-anchor=\"start\" x=\"46\" y=\"-153.5\" font-family=\"'Fira Mono', 'Source Code Pro', 'Courier', monospace\" font-weight=\"bold\" font-style=\"italic\" font-size=\"10.00\">fuzz()</text>\n",
       "</a>\n",
       "</g>\n",
       "<g id=\"a_node2_9\"><a xlink:href=\"Fuzzer.ipynb\" xlink:title=\"run(self, runner: Fuzzer.Runner = &lt;Fuzzer.Runner object at 0x10c402580&gt;) &#45;&gt; Tuple[subprocess.CompletedProcess, str]:&#10;Run `runner` with fuzz input\">\n",
       "<text text-anchor=\"start\" x=\"46\" y=\"-142.5\" font-family=\"'Fira Mono', 'Source Code Pro', 'Courier', monospace\" font-weight=\"bold\" font-size=\"10.00\">run()</text>\n",
       "</a>\n",
       "</g>\n",
       "<g id=\"a_node2_10\"><a xlink:href=\"Fuzzer.ipynb\" xlink:title=\"runs(self, runner: Fuzzer.Runner = &lt;Fuzzer.PrintRunner object at 0x10c4024c0&gt;, trials: int = 10) &#45;&gt; List[Tuple[subprocess.CompletedProcess, str]]:&#10;Run `runner` with fuzz input, `trials` times\">\n",
       "<text text-anchor=\"start\" x=\"46\" y=\"-131.5\" font-family=\"'Fira Mono', 'Source Code Pro', 'Courier', monospace\" font-weight=\"bold\" font-size=\"10.00\">runs()</text>\n",
       "</a>\n",
       "</g>\n",
       "</a>\n",
       "</g>\n",
       "</a>\n",
       "</g>\n",
       "</g>\n",
       "<!-- SimpleConcolicFuzzer&#45;&gt;Fuzzer -->\n",
       "<g id=\"edge1\" class=\"edge\">\n",
       "<title>SimpleConcolicFuzzer&#45;&gt;Fuzzer</title>\n",
       "<path fill=\"none\" stroke=\"black\" d=\"M76,-86.52C76,-95.15 76,-104.28 76,-113.06\"/>\n",
       "<polygon fill=\"none\" stroke=\"black\" points=\"72.5,-113.16 76,-123.16 79.5,-113.16 72.5,-113.16\"/>\n",
       "</g>\n",
       "<!-- Legend -->\n",
       "<g id=\"node3\" class=\"node\">\n",
       "<title>Legend</title>\n",
       "<text text-anchor=\"start\" x=\"170\" y=\"-61\" font-family=\"Patua One, Helvetica, sans-serif\" font-weight=\"bold\" font-size=\"10.00\" fill=\"#b03a2e\">Legend</text>\n",
       "<text text-anchor=\"start\" x=\"170\" y=\"-51\" font-family=\"Patua One, Helvetica, sans-serif\" font-size=\"10.00\">• </text>\n",
       "<text text-anchor=\"start\" x=\"176\" y=\"-51\" font-family=\"'Fira Mono', 'Source Code Pro', 'Courier', monospace\" font-weight=\"bold\" font-size=\"8.00\">public_method()</text>\n",
       "<text text-anchor=\"start\" x=\"170\" y=\"-41\" font-family=\"Patua One, Helvetica, sans-serif\" font-size=\"10.00\">• </text>\n",
       "<text text-anchor=\"start\" x=\"176\" y=\"-41\" font-family=\"'Fira Mono', 'Source Code Pro', 'Courier', monospace\" font-size=\"8.00\">private_method()</text>\n",
       "<text text-anchor=\"start\" x=\"170\" y=\"-31\" font-family=\"Patua One, Helvetica, sans-serif\" font-size=\"10.00\">• </text>\n",
       "<text text-anchor=\"start\" x=\"176\" y=\"-31\" font-family=\"'Fira Mono', 'Source Code Pro', 'Courier', monospace\" font-style=\"italic\" font-size=\"8.00\">overloaded_method()</text>\n",
       "<text text-anchor=\"start\" x=\"170\" y=\"-21.8\" font-family=\"Helvetica,sans-Serif\" font-size=\"9.00\">Hover over names to see doc</text>\n",
       "</g>\n",
       "</g>\n",
       "</svg>\n"
      ],
      "text/plain": [
       "<graphviz.dot.Digraph at 0x110b34d60>"
      ]
     },
     "execution_count": 293,
     "metadata": {},
     "output_type": "execute_result"
    }
   ],
   "source": [
    "display_class_hierarchy(SimpleConcolicFuzzer)"
   ]
  },
  {
   "cell_type": "markdown",
   "metadata": {
    "slideshow": {
     "slide_type": "subslide"
    }
   },
   "source": [
    "### ConcolicGrammarFuzzer\n",
    "\n",
    "The `SimpleConcolicFuzzer` simply explores all paths near the original path traversed by the sample input. It uses a simple mechanism to explore the paths that are near the paths that it knows about, and other than code paths, knows nothing about the input.\n",
    "\n",
    "The `ConcolicGrammarFuzzer` on the other hand, knows about the input grammar, and can collect feedback from the subject under fuzzing. It can lift some of the constraints encountered to the grammar, enabling deeper fuzzing. It is used as follows:"
   ]
  },
  {
   "cell_type": "code",
   "execution_count": 294,
   "metadata": {
    "execution": {
     "iopub.execute_input": "2022-01-02T15:43:48.863050Z",
     "iopub.status.busy": "2022-01-02T15:43:48.862247Z",
     "iopub.status.idle": "2022-01-02T15:43:48.864393Z",
     "shell.execute_reply": "2022-01-02T15:43:48.865078Z"
    },
    "slideshow": {
     "slide_type": "skip"
    }
   },
   "outputs": [],
   "source": [
    "from InformationFlow import INVENTORY_GRAMMAR, SQLException"
   ]
  },
  {
   "cell_type": "code",
   "execution_count": 295,
   "metadata": {
    "execution": {
     "iopub.execute_input": "2022-01-02T15:43:48.880581Z",
     "iopub.status.busy": "2022-01-02T15:43:48.879745Z",
     "iopub.status.idle": "2022-01-02T15:43:49.184456Z",
     "shell.execute_reply": "2022-01-02T15:43:49.183939Z"
    },
    "slideshow": {
     "slide_type": "subslide"
    }
   },
   "outputs": [
    {
     "name": "stdout",
     "output_type": "stream",
     "text": [
      "select a from z where ((l))==(-66)*--69.9\n",
      "Table ('z') was not found\n",
      "\n",
      "update vehicles set F3=e where H+Q/W-R!=-4==Z(y)*F<i*.\n",
      "Column ('F3') was not found\n",
      "\n",
      "select m+U+K>N-l,i!=f,z,U,T from vehicles\n",
      "Invalid WHERE ('(m+U+K>N-l,i!=f,z,U,T)')\n",
      "\n",
      "delete from H3vM81 where z!=Z>v-J(Y)*(t)-.\n",
      "Table ('H3vM81') was not found\n",
      "\n",
      "update months set Y=y where ((2.7))==f+z-l*Y<y-N+E-d\n",
      "Column ('Y') was not found\n",
      "\n",
      "update y4 set o=X,L=Fe where n!=L(R)+L<H-F\n",
      "Table ('y4') was not found\n",
      "\n",
      "select Z,(901.20),(X!=a*L*t/h*b*k+V/V/H(E)) from .5\n",
      "Table ('.5') was not found\n",
      "\n",
      "select : from eY70 where c!=(w)!=B!=n==(z-v+M-N==g(n,j))\n",
      "Table ('eY70') was not found\n",
      "\n",
      "insert into D9J1A112hy (f3) values (69)\n",
      "Table ('D9J1A112hy') was not found\n",
      "\n",
      "update u set E2z=j,v3=zf where (p)==G77(B,p(B)!=d/k>P(v))\n",
      "Table ('u') was not found\n",
      "\n"
     ]
    }
   ],
   "source": [
    "cgf = ConcolicGrammarFuzzer(INVENTORY_GRAMMAR)\n",
    "cgf.prune_tokens(prune_tokens)\n",
    "for i in range(10):\n",
    "    query = cgf.fuzz()\n",
    "    print(query)\n",
    "    with ConcolicTracer() as _:\n",
    "        with ExpectError(print_traceback=False):\n",
    "            try:\n",
    "                res = _[db_select](query)\n",
    "                print(repr(res))\n",
    "            except SQLException as e:\n",
    "                print(e)\n",
    "        cgf.update_grammar(_)\n",
    "        print()"
   ]
  },
  {
   "cell_type": "code",
   "execution_count": 296,
   "metadata": {
    "execution": {
     "iopub.execute_input": "2022-01-02T15:43:49.205351Z",
     "iopub.status.busy": "2022-01-02T15:43:49.192637Z",
     "iopub.status.idle": "2022-01-02T15:43:49.719884Z",
     "shell.execute_reply": "2022-01-02T15:43:49.720299Z"
    },
    "slideshow": {
     "slide_type": "subslide"
    }
   },
   "outputs": [
    {
     "data": {
      "image/svg+xml": [
       "<?xml version=\"1.0\" encoding=\"UTF-8\" standalone=\"no\"?>\n",
       "<!DOCTYPE svg PUBLIC \"-//W3C//DTD SVG 1.1//EN\"\n",
       " \"http://www.w3.org/Graphics/SVG/1.1/DTD/svg11.dtd\">\n",
       "<!-- Generated by graphviz version 2.49.3 (20211023.0002)\n",
       " -->\n",
       "<!-- Pages: 1 -->\n",
       "<svg width=\"318pt\" height=\"539pt\"\n",
       " viewBox=\"0.00 0.00 317.50 539.00\" xmlns=\"http://www.w3.org/2000/svg\" xmlns:xlink=\"http://www.w3.org/1999/xlink\">\n",
       "<g id=\"graph0\" class=\"graph\" transform=\"scale(1 1) rotate(0) translate(4 535)\">\n",
       "<g id=\"a_graph0\"><a xlink:title=\"ConcolicGrammarFuzzer class hierarchy\">\n",
       "<polygon fill=\"white\" stroke=\"transparent\" points=\"-4,4 -4,-535 313.5,-535 313.5,4 -4,4\"/>\n",
       "</a>\n",
       "</g>\n",
       "<!-- ConcolicGrammarFuzzer -->\n",
       "<g id=\"node1\" class=\"node\">\n",
       "<title>ConcolicGrammarFuzzer</title>\n",
       "<g id=\"a_node1\"><a xlink:href=\"#\" xlink:title=\"class ConcolicGrammarFuzzer:&#10;Produce strings from grammars efficiently, using derivation trees.\">\n",
       "<polygon fill=\"none\" stroke=\"black\" points=\"5.5,-0.5 5.5,-97.5 173.5,-97.5 173.5,-0.5 5.5,-0.5\"/>\n",
       "<text text-anchor=\"start\" x=\"13.5\" y=\"-83.3\" font-family=\"Patua One, Helvetica, sans-serif\" font-weight=\"bold\" font-size=\"14.00\" fill=\"#b03a2e\">ConcolicGrammarFuzzer</text>\n",
       "<polyline fill=\"none\" stroke=\"black\" points=\"5.5,-74.5 173.5,-74.5 \"/>\n",
       "<g id=\"a_node1_0\"><a xlink:href=\"#\" xlink:title=\"ConcolicGrammarFuzzer\">\n",
       "<g id=\"a_node1_1\"><a xlink:href=\"#\" xlink:title=\"fuzz(self):&#10;Produce a string from the grammar.\">\n",
       "<text text-anchor=\"start\" x=\"41.5\" y=\"-63.5\" font-family=\"'Fira Mono', 'Source Code Pro', 'Courier', monospace\" font-weight=\"bold\" font-style=\"italic\" font-size=\"10.00\">fuzz()</text>\n",
       "</a>\n",
       "</g>\n",
       "<g id=\"a_node1_2\"><a xlink:href=\"#\" xlink:title=\"coalesce(self, children)\">\n",
       "<text text-anchor=\"start\" x=\"41.5\" y=\"-51.5\" font-family=\"'Fira Mono', 'Source Code Pro', 'Courier', monospace\" font-size=\"10.00\">coalesce()</text>\n",
       "</a>\n",
       "</g>\n",
       "<g id=\"a_node1_3\"><a xlink:href=\"#\" xlink:title=\"prune_tokens(self, tokens)\">\n",
       "<text text-anchor=\"start\" x=\"41.5\" y=\"-40.5\" font-family=\"'Fira Mono', 'Source Code Pro', 'Courier', monospace\" font-size=\"10.00\">prune_tokens()</text>\n",
       "</a>\n",
       "</g>\n",
       "<g id=\"a_node1_4\"><a xlink:href=\"#\" xlink:title=\"prune_tree(self, tree, tokens)\">\n",
       "<text text-anchor=\"start\" x=\"41.5\" y=\"-29.5\" font-family=\"'Fira Mono', 'Source Code Pro', 'Courier', monospace\" font-size=\"10.00\">prune_tree()</text>\n",
       "</a>\n",
       "</g>\n",
       "<g id=\"a_node1_5\"><a xlink:href=\"#\" xlink:title=\"tree_to_string(self, tree)\">\n",
       "<text text-anchor=\"start\" x=\"41.5\" y=\"-18.5\" font-family=\"'Fira Mono', 'Source Code Pro', 'Courier', monospace\" font-size=\"10.00\">tree_to_string()</text>\n",
       "</a>\n",
       "</g>\n",
       "<g id=\"a_node1_6\"><a xlink:href=\"#\" xlink:title=\"update_grammar(self, trace)\">\n",
       "<text text-anchor=\"start\" x=\"41.5\" y=\"-7.5\" font-family=\"'Fira Mono', 'Source Code Pro', 'Courier', monospace\" font-size=\"10.00\">update_grammar()</text>\n",
       "</a>\n",
       "</g>\n",
       "</a>\n",
       "</g>\n",
       "</a>\n",
       "</g>\n",
       "</g>\n",
       "<!-- GrammarFuzzer -->\n",
       "<g id=\"node2\" class=\"node\">\n",
       "<title>GrammarFuzzer</title>\n",
       "<g id=\"a_node2\"><a xlink:href=\"GrammarFuzzer.ipynb\" xlink:title=\"class GrammarFuzzer:&#10;Produce strings from grammars efficiently, using derivation trees.\">\n",
       "<polygon fill=\"none\" stroke=\"black\" points=\"0,-134.5 0,-418.5 179,-418.5 179,-134.5 0,-134.5\"/>\n",
       "<text text-anchor=\"start\" x=\"39.5\" y=\"-404.3\" font-family=\"Patua One, Helvetica, sans-serif\" font-weight=\"bold\" font-size=\"14.00\" fill=\"#b03a2e\">GrammarFuzzer</text>\n",
       "<polyline fill=\"none\" stroke=\"black\" points=\"0,-395.5 179,-395.5 \"/>\n",
       "<g id=\"a_node2_7\"><a xlink:href=\"#\" xlink:title=\"GrammarFuzzer\">\n",
       "<g id=\"a_node2_8\"><a xlink:href=\"GrammarFuzzer.ipynb\" xlink:title=\"__init__(self, grammar: Dict[str, List[Union[str, Tuple[str, Dict[str, Any]]]]], start_symbol: str = &#39;&lt;start&gt;&#39;, min_nonterminals: int = 0, max_nonterminals: int = 10, disp: bool = False, log: Union[bool, int] = False) &#45;&gt; None:&#10;Produce strings from `grammar`, starting with `start_symbol`.&#10;If `min_nonterminals` or `max_nonterminals` is given, use them as limits&#10;for the number of nonterminals produced.&#10;If `disp` is set, display the intermediate derivation trees.&#10;If `log` is set, show intermediate steps as text on standard output.\">\n",
       "<text text-anchor=\"start\" x=\"8.5\" y=\"-384\" font-family=\"'Fira Mono', 'Source Code Pro', 'Courier', monospace\" font-weight=\"bold\" font-style=\"italic\" font-size=\"10.00\">__init__()</text>\n",
       "</a>\n",
       "</g>\n",
       "<g id=\"a_node2_9\"><a xlink:href=\"GrammarFuzzer.ipynb\" xlink:title=\"check_grammar(self) &#45;&gt; None:&#10;Check the grammar passed\">\n",
       "<text text-anchor=\"start\" x=\"8.5\" y=\"-373\" font-family=\"'Fira Mono', 'Source Code Pro', 'Courier', monospace\" font-weight=\"bold\" font-size=\"10.00\">check_grammar()</text>\n",
       "</a>\n",
       "</g>\n",
       "<g id=\"a_node2_10\"><a xlink:href=\"GrammarFuzzer.ipynb\" xlink:title=\"choose_node_expansion(self, node: Tuple[str, Optional[List[Any]]], children_alternatives: List[List[Tuple[str, Optional[List[Any]]]]]) &#45;&gt; int:&#10;Return index of expansion in `children_alternatives` to be selected.&#10;&#39;children_alternatives`: a list of possible children for `node`.&#10;Defaults to random. To be overloaded in subclasses.\">\n",
       "<text text-anchor=\"start\" x=\"8.5\" y=\"-362\" font-family=\"'Fira Mono', 'Source Code Pro', 'Courier', monospace\" font-weight=\"bold\" font-style=\"italic\" font-size=\"10.00\">choose_node_expansion()</text>\n",
       "</a>\n",
       "</g>\n",
       "<g id=\"a_node2_11\"><a xlink:href=\"GrammarFuzzer.ipynb\" xlink:title=\"choose_tree_expansion(self, tree: Tuple[str, Optional[List[Any]]], children: List[Tuple[str, Optional[List[Any]]]]) &#45;&gt; int:&#10;Return index of subtree in `children` to be selected for expansion.&#10;Defaults to random.\">\n",
       "<text text-anchor=\"start\" x=\"8.5\" y=\"-351\" font-family=\"'Fira Mono', 'Source Code Pro', 'Courier', monospace\" font-weight=\"bold\" font-size=\"10.00\">choose_tree_expansion()</text>\n",
       "</a>\n",
       "</g>\n",
       "<g id=\"a_node2_12\"><a xlink:href=\"GrammarFuzzer.ipynb\" xlink:title=\"expand_node_randomly(self, node: Tuple[str, Optional[List[Any]]]) &#45;&gt; Tuple[str, Optional[List[Any]]]:&#10;Choose a random expansion for `node` and return it\">\n",
       "<text text-anchor=\"start\" x=\"8.5\" y=\"-340\" font-family=\"'Fira Mono', 'Source Code Pro', 'Courier', monospace\" font-weight=\"bold\" font-size=\"10.00\">expand_node_randomly()</text>\n",
       "</a>\n",
       "</g>\n",
       "<g id=\"a_node2_13\"><a xlink:href=\"GrammarFuzzer.ipynb\" xlink:title=\"expand_tree(self, tree: Tuple[str, Optional[List[Any]]]) &#45;&gt; Tuple[str, Optional[List[Any]]]:&#10;Expand `tree` in a three&#45;phase strategy until all expansions are complete.\">\n",
       "<text text-anchor=\"start\" x=\"8.5\" y=\"-329\" font-family=\"'Fira Mono', 'Source Code Pro', 'Courier', monospace\" font-weight=\"bold\" font-size=\"10.00\">expand_tree()</text>\n",
       "</a>\n",
       "</g>\n",
       "<g id=\"a_node2_14\"><a xlink:href=\"GrammarFuzzer.ipynb\" xlink:title=\"expand_tree_once(self, tree: Tuple[str, Optional[List[Any]]]) &#45;&gt; Tuple[str, Optional[List[Any]]]:&#10;Choose an unexpanded symbol in tree; expand it.&#10;Can be overloaded in subclasses.\">\n",
       "<text text-anchor=\"start\" x=\"8.5\" y=\"-318\" font-family=\"'Fira Mono', 'Source Code Pro', 'Courier', monospace\" font-weight=\"bold\" font-style=\"italic\" font-size=\"10.00\">expand_tree_once()</text>\n",
       "</a>\n",
       "</g>\n",
       "<g id=\"a_node2_15\"><a xlink:href=\"GrammarFuzzer.ipynb\" xlink:title=\"expand_tree_with_strategy(self, tree: Tuple[str, Optional[List[Any]]], expand_node_method: Callable, limit: Optional[int] = None):&#10;Expand tree using `expand_node_method` as node expansion function&#10;until the number of possible expansions reaches `limit`.\">\n",
       "<text text-anchor=\"start\" x=\"8.5\" y=\"-307\" font-family=\"'Fira Mono', 'Source Code Pro', 'Courier', monospace\" font-weight=\"bold\" font-size=\"10.00\">expand_tree_with_strategy()</text>\n",
       "</a>\n",
       "</g>\n",
       "<g id=\"a_node2_16\"><a xlink:href=\"GrammarFuzzer.ipynb\" xlink:title=\"fuzz(self) &#45;&gt; str:&#10;Produce a string from the grammar.\">\n",
       "<text text-anchor=\"start\" x=\"8.5\" y=\"-296\" font-family=\"'Fira Mono', 'Source Code Pro', 'Courier', monospace\" font-weight=\"bold\" font-style=\"italic\" font-size=\"10.00\">fuzz()</text>\n",
       "</a>\n",
       "</g>\n",
       "<g id=\"a_node2_17\"><a xlink:href=\"GrammarFuzzer.ipynb\" xlink:title=\"fuzz_tree(self) &#45;&gt; Tuple[str, Optional[List[Any]]]:&#10;Produce a derivation tree from the grammar.\">\n",
       "<text text-anchor=\"start\" x=\"8.5\" y=\"-285\" font-family=\"'Fira Mono', 'Source Code Pro', 'Courier', monospace\" font-weight=\"bold\" font-size=\"10.00\">fuzz_tree()</text>\n",
       "</a>\n",
       "</g>\n",
       "<g id=\"a_node2_18\"><a xlink:href=\"GrammarFuzzer.ipynb\" xlink:title=\"log_tree(self, tree: Tuple[str, Optional[List[Any]]]) &#45;&gt; None:&#10;Output a tree if self.log is set; if self.display is also set, show the tree structure\">\n",
       "<text text-anchor=\"start\" x=\"8.5\" y=\"-274\" font-family=\"'Fira Mono', 'Source Code Pro', 'Courier', monospace\" font-weight=\"bold\" font-size=\"10.00\">log_tree()</text>\n",
       "</a>\n",
       "</g>\n",
       "<g id=\"a_node2_19\"><a xlink:href=\"GrammarFuzzer.ipynb\" xlink:title=\"process_chosen_children(self, chosen_children: List[Tuple[str, Optional[List[Any]]]], expansion: Union[str, Tuple[str, Dict[str, Any]]]) &#45;&gt; List[Tuple[str, Optional[List[Any]]]]:&#10;Process children after selection. &#160;By default, does nothing.\">\n",
       "<text text-anchor=\"start\" x=\"8.5\" y=\"-263\" font-family=\"'Fira Mono', 'Source Code Pro', 'Courier', monospace\" font-weight=\"bold\" font-size=\"10.00\">process_chosen_children()</text>\n",
       "</a>\n",
       "</g>\n",
       "<g id=\"a_node2_20\"><a xlink:href=\"GrammarFuzzer.ipynb\" xlink:title=\"supported_opts(self) &#45;&gt; Set[str]:&#10;Set of supported options. To be overloaded in subclasses.\">\n",
       "<text text-anchor=\"start\" x=\"8.5\" y=\"-252\" font-family=\"'Fira Mono', 'Source Code Pro', 'Courier', monospace\" font-weight=\"bold\" font-style=\"italic\" font-size=\"10.00\">supported_opts()</text>\n",
       "</a>\n",
       "</g>\n",
       "<g id=\"a_node2_21\"><a xlink:href=\"GrammarFuzzer.ipynb\" xlink:title=\"any_possible_expansions(self, node: Tuple[str, Optional[List[Any]]]) &#45;&gt; bool\">\n",
       "<text text-anchor=\"start\" x=\"8.5\" y=\"-240\" font-family=\"'Fira Mono', 'Source Code Pro', 'Courier', monospace\" font-size=\"10.00\">any_possible_expansions()</text>\n",
       "</a>\n",
       "</g>\n",
       "<g id=\"a_node2_22\"><a xlink:href=\"GrammarFuzzer.ipynb\" xlink:title=\"expand_node(self, node: Tuple[str, Optional[List[Any]]]) &#45;&gt; Tuple[str, Optional[List[Any]]]\">\n",
       "<text text-anchor=\"start\" x=\"8.5\" y=\"-229\" font-family=\"'Fira Mono', 'Source Code Pro', 'Courier', monospace\" font-size=\"10.00\">expand_node()</text>\n",
       "</a>\n",
       "</g>\n",
       "<g id=\"a_node2_23\"><a xlink:href=\"GrammarFuzzer.ipynb\" xlink:title=\"expand_node_by_cost(self, node: Tuple[str, Optional[List[Any]]], choose: Callable = &lt;built&#45;in function min&gt;) &#45;&gt; Tuple[str, Optional[List[Any]]]\">\n",
       "<text text-anchor=\"start\" x=\"8.5\" y=\"-218\" font-family=\"'Fira Mono', 'Source Code Pro', 'Courier', monospace\" font-size=\"10.00\">expand_node_by_cost()</text>\n",
       "</a>\n",
       "</g>\n",
       "<g id=\"a_node2_24\"><a xlink:href=\"GrammarFuzzer.ipynb\" xlink:title=\"expand_node_max_cost(self, node: Tuple[str, Optional[List[Any]]]) &#45;&gt; Tuple[str, Optional[List[Any]]]\">\n",
       "<text text-anchor=\"start\" x=\"8.5\" y=\"-207\" font-family=\"'Fira Mono', 'Source Code Pro', 'Courier', monospace\" font-size=\"10.00\">expand_node_max_cost()</text>\n",
       "</a>\n",
       "</g>\n",
       "<g id=\"a_node2_25\"><a xlink:href=\"GrammarFuzzer.ipynb\" xlink:title=\"expand_node_min_cost(self, node: Tuple[str, Optional[List[Any]]]) &#45;&gt; Tuple[str, Optional[List[Any]]]\">\n",
       "<text text-anchor=\"start\" x=\"8.5\" y=\"-196\" font-family=\"'Fira Mono', 'Source Code Pro', 'Courier', monospace\" font-size=\"10.00\">expand_node_min_cost()</text>\n",
       "</a>\n",
       "</g>\n",
       "<g id=\"a_node2_26\"><a xlink:href=\"GrammarFuzzer.ipynb\" xlink:title=\"expansion_cost(self, expansion: Union[str, Tuple[str, Dict[str, Any]]], seen: Set[str] = set()) &#45;&gt; Union[int, float]\">\n",
       "<text text-anchor=\"start\" x=\"8.5\" y=\"-185\" font-family=\"'Fira Mono', 'Source Code Pro', 'Courier', monospace\" font-size=\"10.00\">expansion_cost()</text>\n",
       "</a>\n",
       "</g>\n",
       "<g id=\"a_node2_27\"><a xlink:href=\"GrammarFuzzer.ipynb\" xlink:title=\"expansion_to_children(self, expansion: Union[str, Tuple[str, Dict[str, Any]]]) &#45;&gt; List[Tuple[str, Optional[List[Any]]]]\">\n",
       "<text text-anchor=\"start\" x=\"8.5\" y=\"-174\" font-family=\"'Fira Mono', 'Source Code Pro', 'Courier', monospace\" font-size=\"10.00\">expansion_to_children()</text>\n",
       "</a>\n",
       "</g>\n",
       "<g id=\"a_node2_28\"><a xlink:href=\"GrammarFuzzer.ipynb\" xlink:title=\"init_tree(self) &#45;&gt; Tuple[str, Optional[List[Any]]]\">\n",
       "<text text-anchor=\"start\" x=\"8.5\" y=\"-163\" font-family=\"'Fira Mono', 'Source Code Pro', 'Courier', monospace\" font-size=\"10.00\">init_tree()</text>\n",
       "</a>\n",
       "</g>\n",
       "<g id=\"a_node2_29\"><a xlink:href=\"GrammarFuzzer.ipynb\" xlink:title=\"possible_expansions(self, node: Tuple[str, Optional[List[Any]]]) &#45;&gt; int\">\n",
       "<text text-anchor=\"start\" x=\"8.5\" y=\"-152\" font-family=\"'Fira Mono', 'Source Code Pro', 'Courier', monospace\" font-size=\"10.00\">possible_expansions()</text>\n",
       "</a>\n",
       "</g>\n",
       "<g id=\"a_node2_30\"><a xlink:href=\"GrammarFuzzer.ipynb\" xlink:title=\"symbol_cost(self, symbol: str, seen: Set[str] = set()) &#45;&gt; Union[int, float]\">\n",
       "<text text-anchor=\"start\" x=\"8.5\" y=\"-141\" font-family=\"'Fira Mono', 'Source Code Pro', 'Courier', monospace\" font-size=\"10.00\">symbol_cost()</text>\n",
       "</a>\n",
       "</g>\n",
       "</a>\n",
       "</g>\n",
       "</a>\n",
       "</g>\n",
       "</g>\n",
       "<!-- ConcolicGrammarFuzzer&#45;&gt;GrammarFuzzer -->\n",
       "<g id=\"edge1\" class=\"edge\">\n",
       "<title>ConcolicGrammarFuzzer&#45;&gt;GrammarFuzzer</title>\n",
       "<path fill=\"none\" stroke=\"black\" d=\"M89.5,-97.55C89.5,-105.89 89.5,-114.96 89.5,-124.44\"/>\n",
       "<polygon fill=\"none\" stroke=\"black\" points=\"86,-124.45 89.5,-134.45 93,-124.45 86,-124.45\"/>\n",
       "</g>\n",
       "<!-- Fuzzer -->\n",
       "<g id=\"node3\" class=\"node\">\n",
       "<title>Fuzzer</title>\n",
       "<g id=\"a_node3\"><a xlink:href=\"Fuzzer.ipynb\" xlink:title=\"class Fuzzer:&#10;Base class for fuzzers.\">\n",
       "<polygon fill=\"none\" stroke=\"black\" points=\"51,-455.5 51,-530.5 128,-530.5 128,-455.5 51,-455.5\"/>\n",
       "<text text-anchor=\"start\" x=\"68.5\" y=\"-516.3\" font-family=\"Patua One, Helvetica, sans-serif\" font-weight=\"bold\" font-size=\"14.00\" fill=\"#b03a2e\">Fuzzer</text>\n",
       "<polyline fill=\"none\" stroke=\"black\" points=\"51,-507.5 128,-507.5 \"/>\n",
       "<g id=\"a_node3_31\"><a xlink:href=\"#\" xlink:title=\"Fuzzer\">\n",
       "<g id=\"a_node3_32\"><a xlink:href=\"Fuzzer.ipynb\" xlink:title=\"__init__(self) &#45;&gt; None:&#10;Constructor\">\n",
       "<text text-anchor=\"start\" x=\"59.5\" y=\"-496.5\" font-family=\"'Fira Mono', 'Source Code Pro', 'Courier', monospace\" font-weight=\"bold\" font-style=\"italic\" font-size=\"10.00\">__init__()</text>\n",
       "</a>\n",
       "</g>\n",
       "<g id=\"a_node3_33\"><a xlink:href=\"Fuzzer.ipynb\" xlink:title=\"fuzz(self) &#45;&gt; str:&#10;Return fuzz input\">\n",
       "<text text-anchor=\"start\" x=\"59.5\" y=\"-485.5\" font-family=\"'Fira Mono', 'Source Code Pro', 'Courier', monospace\" font-weight=\"bold\" font-style=\"italic\" font-size=\"10.00\">fuzz()</text>\n",
       "</a>\n",
       "</g>\n",
       "<g id=\"a_node3_34\"><a xlink:href=\"Fuzzer.ipynb\" xlink:title=\"run(self, runner: Fuzzer.Runner = &lt;Fuzzer.Runner object at 0x10c402580&gt;) &#45;&gt; Tuple[subprocess.CompletedProcess, str]:&#10;Run `runner` with fuzz input\">\n",
       "<text text-anchor=\"start\" x=\"59.5\" y=\"-474.5\" font-family=\"'Fira Mono', 'Source Code Pro', 'Courier', monospace\" font-weight=\"bold\" font-size=\"10.00\">run()</text>\n",
       "</a>\n",
       "</g>\n",
       "<g id=\"a_node3_35\"><a xlink:href=\"Fuzzer.ipynb\" xlink:title=\"runs(self, runner: Fuzzer.Runner = &lt;Fuzzer.PrintRunner object at 0x10c4024c0&gt;, trials: int = 10) &#45;&gt; List[Tuple[subprocess.CompletedProcess, str]]:&#10;Run `runner` with fuzz input, `trials` times\">\n",
       "<text text-anchor=\"start\" x=\"59.5\" y=\"-463.5\" font-family=\"'Fira Mono', 'Source Code Pro', 'Courier', monospace\" font-weight=\"bold\" font-size=\"10.00\">runs()</text>\n",
       "</a>\n",
       "</g>\n",
       "</a>\n",
       "</g>\n",
       "</a>\n",
       "</g>\n",
       "</g>\n",
       "<!-- GrammarFuzzer&#45;&gt;Fuzzer -->\n",
       "<g id=\"edge2\" class=\"edge\">\n",
       "<title>GrammarFuzzer&#45;&gt;Fuzzer</title>\n",
       "<path fill=\"none\" stroke=\"black\" d=\"M89.5,-418.78C89.5,-428.16 89.5,-437.15 89.5,-445.42\"/>\n",
       "<polygon fill=\"none\" stroke=\"black\" points=\"86,-445.49 89.5,-455.49 93,-445.49 86,-445.49\"/>\n",
       "</g>\n",
       "<!-- Legend -->\n",
       "<g id=\"node4\" class=\"node\">\n",
       "<title>Legend</title>\n",
       "<text text-anchor=\"start\" x=\"191.5\" y=\"-66.5\" font-family=\"Patua One, Helvetica, sans-serif\" font-weight=\"bold\" font-size=\"10.00\" fill=\"#b03a2e\">Legend</text>\n",
       "<text text-anchor=\"start\" x=\"191.5\" y=\"-56.5\" font-family=\"Patua One, Helvetica, sans-serif\" font-size=\"10.00\">• </text>\n",
       "<text text-anchor=\"start\" x=\"197.5\" y=\"-56.5\" font-family=\"'Fira Mono', 'Source Code Pro', 'Courier', monospace\" font-weight=\"bold\" font-size=\"8.00\">public_method()</text>\n",
       "<text text-anchor=\"start\" x=\"191.5\" y=\"-46.5\" font-family=\"Patua One, Helvetica, sans-serif\" font-size=\"10.00\">• </text>\n",
       "<text text-anchor=\"start\" x=\"197.5\" y=\"-46.5\" font-family=\"'Fira Mono', 'Source Code Pro', 'Courier', monospace\" font-size=\"8.00\">private_method()</text>\n",
       "<text text-anchor=\"start\" x=\"191.5\" y=\"-36.5\" font-family=\"Patua One, Helvetica, sans-serif\" font-size=\"10.00\">• </text>\n",
       "<text text-anchor=\"start\" x=\"197.5\" y=\"-36.5\" font-family=\"'Fira Mono', 'Source Code Pro', 'Courier', monospace\" font-style=\"italic\" font-size=\"8.00\">overloaded_method()</text>\n",
       "<text text-anchor=\"start\" x=\"191.5\" y=\"-27.3\" font-family=\"Helvetica,sans-Serif\" font-size=\"9.00\">Hover over names to see doc</text>\n",
       "</g>\n",
       "</g>\n",
       "</svg>\n"
      ],
      "text/plain": [
       "<graphviz.dot.Digraph at 0x121243910>"
      ]
     },
     "execution_count": 296,
     "metadata": {},
     "output_type": "execute_result"
    }
   ],
   "source": [
    "display_class_hierarchy(ConcolicGrammarFuzzer)"
   ]
  },
  {
   "cell_type": "markdown",
   "metadata": {
    "button": false,
    "new_sheet": true,
    "run_control": {
     "read_only": false
    },
    "slideshow": {
     "slide_type": "slide"
    }
   },
   "source": [
    "## Lessons Learned\n",
    "\n",
    "* Concolic execution can often provide more information than taint analysis with respect to the program behavior. However, this comes at a much larger runtime cost. Hence, unlike taint analysis, real-time analysis is often not possible.\n",
    "\n",
    "* Similar to taint analysis, concolic execution also suffers from limitations such as indirect control flow and internal function calls.\n",
    "\n",
    "* Predicates from concolic execution can be used in conjunction with fuzzing to provide an even more robust indication of incorrect behavior than taints, and can be used to create grammars that are better at producing valid inputs."
   ]
  },
  {
   "cell_type": "markdown",
   "metadata": {
    "button": false,
    "new_sheet": false,
    "run_control": {
     "read_only": false
    },
    "slideshow": {
     "slide_type": "slide"
    }
   },
   "source": [
    "## Next Steps\n",
    "\n",
    "A costlier but stronger alternative to concolic fuzzing is [symbolic fuzzing](SymbolicFuzzer.ipynb). Similarly, [search based fuzzing](SearchBasedFuzzer.ipynb) can often provide a cheaper exploration strategy than relying on SMT solvers to provide inputs slightly different from the current path."
   ]
  },
  {
   "cell_type": "markdown",
   "metadata": {
    "slideshow": {
     "slide_type": "slide"
    }
   },
   "source": [
    "## Background\n",
    "\n",
    "The technique of concolic execution was originally used to inform and expand the scope of _symbolic execution_ \\cite{king1976symbolic}, a static analysis technique for program analysis. Laron et al. cite{Larson2003} was the first to use the concolic execution technique.\n",
    "\n",
    "The idea of using proxy objects for collecting constraints was pioneered by Cadar et al. \\cite{cadar2005execution}. The concolic execution technique for Python programs used in this chapter was pioneered by PeerCheck \\cite{PeerCheck}, and Python Error Finder \\cite{Barsotti2018}."
   ]
  },
  {
   "cell_type": "markdown",
   "metadata": {
    "button": false,
    "new_sheet": true,
    "run_control": {
     "read_only": false
    },
    "slideshow": {
     "slide_type": "slide"
    }
   },
   "source": [
    "## Exercises"
   ]
  },
  {
   "cell_type": "markdown",
   "metadata": {
    "slideshow": {
     "slide_type": "subslide"
    }
   },
   "source": [
    "### Exercise 1: Implment a Concolic Float Proxy Class\n"
   ]
  },
  {
   "cell_type": "markdown",
   "metadata": {
    "slideshow": {
     "slide_type": "fragment"
    }
   },
   "source": [
    "While implementing the `zint` binary operators, we asserted that the results were `int`. However, that need not be the case. For example, division can result in `float`. Hence, we need proxy objects for `float`. Can you implement a similar proxy object for `float` and fix the `zint` binary operator definition?"
   ]
  },
  {
   "cell_type": "markdown",
   "metadata": {
    "slideshow": {
     "slide_type": "fragment"
    }
   },
   "source": [
    "__Solution.__ The solution is as follows."
   ]
  },
  {
   "cell_type": "markdown",
   "metadata": {
    "slideshow": {
     "slide_type": "fragment"
    }
   },
   "source": [
    "As in the case of `zint`, we first open up `zfloat` for extension."
   ]
  },
  {
   "cell_type": "code",
   "execution_count": 297,
   "metadata": {
    "execution": {
     "iopub.execute_input": "2022-01-02T15:43:49.726074Z",
     "iopub.status.busy": "2022-01-02T15:43:49.725524Z",
     "iopub.status.idle": "2022-01-02T15:43:49.727144Z",
     "shell.execute_reply": "2022-01-02T15:43:49.727556Z"
    },
    "slideshow": {
     "slide_type": "fragment"
    }
   },
   "outputs": [],
   "source": [
    "class zfloat(float):\n",
    "    def __new__(cls, context, zn, v, *args, **kw):\n",
    "        return float.__new__(cls, v, *args, **kw)"
   ]
  },
  {
   "cell_type": "markdown",
   "metadata": {
    "slideshow": {
     "slide_type": "fragment"
    }
   },
   "source": [
    "We then implement the initialization methods."
   ]
  },
  {
   "cell_type": "code",
   "execution_count": 298,
   "metadata": {
    "execution": {
     "iopub.execute_input": "2022-01-02T15:43:49.731883Z",
     "iopub.status.busy": "2022-01-02T15:43:49.731340Z",
     "iopub.status.idle": "2022-01-02T15:43:49.732984Z",
     "shell.execute_reply": "2022-01-02T15:43:49.733374Z"
    },
    "slideshow": {
     "slide_type": "subslide"
    }
   },
   "outputs": [],
   "source": [
    "class zfloat(zfloat):\n",
    "    @classmethod\n",
    "    def create(cls, context, zn, v=None):\n",
    "        return zproxy_create(cls, 'Real', z3.Real, context, zn, v)\n",
    "\n",
    "    def __init__(self, context, z, v=None):\n",
    "        self.z, self.v = z, v\n",
    "        self.context = context"
   ]
  },
  {
   "cell_type": "markdown",
   "metadata": {
    "slideshow": {
     "slide_type": "fragment"
    }
   },
   "source": [
    "The helper for when one of the arguments in a binary operation is not `float`."
   ]
  },
  {
   "cell_type": "code",
   "execution_count": 299,
   "metadata": {
    "execution": {
     "iopub.execute_input": "2022-01-02T15:43:49.737188Z",
     "iopub.status.busy": "2022-01-02T15:43:49.736641Z",
     "iopub.status.idle": "2022-01-02T15:43:49.738497Z",
     "shell.execute_reply": "2022-01-02T15:43:49.738892Z"
    },
    "slideshow": {
     "slide_type": "fragment"
    }
   },
   "outputs": [],
   "source": [
    "class zfloat(zfloat):\n",
    "    def _zv(self, o):\n",
    "        return (o.z, o.v) if isinstance(o, zfloat) else (z3.RealVal(o), o)"
   ]
  },
  {
   "cell_type": "markdown",
   "metadata": {
    "slideshow": {
     "slide_type": "fragment"
    }
   },
   "source": [
    "Coerce `float` into bool value for use in conditionals."
   ]
  },
  {
   "cell_type": "code",
   "execution_count": 300,
   "metadata": {
    "execution": {
     "iopub.execute_input": "2022-01-02T15:43:49.742814Z",
     "iopub.status.busy": "2022-01-02T15:43:49.742210Z",
     "iopub.status.idle": "2022-01-02T15:43:49.743954Z",
     "shell.execute_reply": "2022-01-02T15:43:49.744344Z"
    },
    "slideshow": {
     "slide_type": "subslide"
    }
   },
   "outputs": [],
   "source": [
    "class zfloat(zfloat):\n",
    "    def __bool__(self):\n",
    "        # force registering boolean condition\n",
    "        if self != 0.0:\n",
    "            return True\n",
    "        return False"
   ]
  },
  {
   "cell_type": "markdown",
   "metadata": {
    "slideshow": {
     "slide_type": "fragment"
    }
   },
   "source": [
    "Define the common proxy method for comparison methods"
   ]
  },
  {
   "cell_type": "code",
   "execution_count": 301,
   "metadata": {
    "execution": {
     "iopub.execute_input": "2022-01-02T15:43:49.748483Z",
     "iopub.status.busy": "2022-01-02T15:43:49.747916Z",
     "iopub.status.idle": "2022-01-02T15:43:49.749612Z",
     "shell.execute_reply": "2022-01-02T15:43:49.750038Z"
    },
    "slideshow": {
     "slide_type": "fragment"
    }
   },
   "outputs": [],
   "source": [
    "def make_float_bool_wrapper(fname, fun, zfun):\n",
    "    def proxy(self, other):\n",
    "        z, v = self._zv(other)\n",
    "        z_ = zfun(self.z, z)\n",
    "        v_ = fun(self.v, v)\n",
    "        return zbool(self.context, z_, v_)\n",
    "\n",
    "    return proxy"
   ]
  },
  {
   "cell_type": "markdown",
   "metadata": {
    "slideshow": {
     "slide_type": "subslide"
    }
   },
   "source": [
    "We apply the comparison methods on the defined `zfloat` class."
   ]
  },
  {
   "cell_type": "code",
   "execution_count": 302,
   "metadata": {
    "execution": {
     "iopub.execute_input": "2022-01-02T15:43:49.755118Z",
     "iopub.status.busy": "2022-01-02T15:43:49.754179Z",
     "iopub.status.idle": "2022-01-02T15:43:49.756303Z",
     "shell.execute_reply": "2022-01-02T15:43:49.756713Z"
    },
    "slideshow": {
     "slide_type": "fragment"
    }
   },
   "outputs": [],
   "source": [
    "FLOAT_BOOL_OPS = [\n",
    "    '__eq__',\n",
    "    # '__req__',\n",
    "    '__ne__',\n",
    "    # '__rne__',\n",
    "    '__gt__',\n",
    "    '__lt__',\n",
    "    '__le__',\n",
    "    '__ge__',\n",
    "]"
   ]
  },
  {
   "cell_type": "code",
   "execution_count": 303,
   "metadata": {
    "execution": {
     "iopub.execute_input": "2022-01-02T15:43:49.762539Z",
     "iopub.status.busy": "2022-01-02T15:43:49.761736Z",
     "iopub.status.idle": "2022-01-02T15:43:49.763930Z",
     "shell.execute_reply": "2022-01-02T15:43:49.764463Z"
    },
    "slideshow": {
     "slide_type": "fragment"
    }
   },
   "outputs": [],
   "source": [
    "for fname in FLOAT_BOOL_OPS:\n",
    "    fun = getattr(float, fname)\n",
    "    zfun = getattr(z3.ArithRef, fname)\n",
    "    setattr(zfloat, fname, make_float_bool_wrapper(fname, fun, zfun))"
   ]
  },
  {
   "cell_type": "markdown",
   "metadata": {
    "slideshow": {
     "slide_type": "subslide"
    }
   },
   "source": [
    "Similarly, we define the common proxy method for binary operators."
   ]
  },
  {
   "cell_type": "code",
   "execution_count": 304,
   "metadata": {
    "execution": {
     "iopub.execute_input": "2022-01-02T15:43:49.770385Z",
     "iopub.status.busy": "2022-01-02T15:43:49.769372Z",
     "iopub.status.idle": "2022-01-02T15:43:49.772173Z",
     "shell.execute_reply": "2022-01-02T15:43:49.772670Z"
    },
    "slideshow": {
     "slide_type": "fragment"
    }
   },
   "outputs": [],
   "source": [
    "def make_float_binary_wrapper(fname, fun, zfun):\n",
    "    def proxy(self, other):\n",
    "        z, v = self._zv(other)\n",
    "        z_ = zfun(self.z, z)\n",
    "        v_ = fun(self.v, v)\n",
    "        return zfloat(self.context, z_, v_)\n",
    "\n",
    "    return proxy"
   ]
  },
  {
   "cell_type": "markdown",
   "metadata": {
    "slideshow": {
     "slide_type": "fragment"
    }
   },
   "source": [
    "And apply them on `zfloat`"
   ]
  },
  {
   "cell_type": "code",
   "execution_count": 305,
   "metadata": {
    "execution": {
     "iopub.execute_input": "2022-01-02T15:43:49.777280Z",
     "iopub.status.busy": "2022-01-02T15:43:49.776660Z",
     "iopub.status.idle": "2022-01-02T15:43:49.778384Z",
     "shell.execute_reply": "2022-01-02T15:43:49.778776Z"
    },
    "slideshow": {
     "slide_type": "subslide"
    }
   },
   "outputs": [],
   "source": [
    "FLOAT_BINARY_OPS = [\n",
    "    '__add__',\n",
    "    '__sub__',\n",
    "    '__mul__',\n",
    "    '__truediv__',\n",
    "    # '__div__',\n",
    "    '__mod__',\n",
    "    # '__divmod__',\n",
    "    '__pow__',\n",
    "    # '__lshift__',\n",
    "    # '__rshift__',\n",
    "    # '__and__',\n",
    "    # '__xor__',\n",
    "    # '__or__',\n",
    "    '__radd__',\n",
    "    '__rsub__',\n",
    "    '__rmul__',\n",
    "    '__rtruediv__',\n",
    "    # '__rdiv__',\n",
    "    '__rmod__',\n",
    "    # '__rdivmod__',\n",
    "    '__rpow__',\n",
    "    # '__rlshift__',\n",
    "    # '__rrshift__',\n",
    "    # '__rand__',\n",
    "    # '__rxor__',\n",
    "    # '__ror__',\n",
    "]"
   ]
  },
  {
   "cell_type": "code",
   "execution_count": 306,
   "metadata": {
    "execution": {
     "iopub.execute_input": "2022-01-02T15:43:49.782600Z",
     "iopub.status.busy": "2022-01-02T15:43:49.782054Z",
     "iopub.status.idle": "2022-01-02T15:43:49.783631Z",
     "shell.execute_reply": "2022-01-02T15:43:49.784087Z"
    },
    "slideshow": {
     "slide_type": "subslide"
    }
   },
   "outputs": [],
   "source": [
    "for fname in FLOAT_BINARY_OPS:\n",
    "    fun = getattr(float, fname)\n",
    "    zfun = getattr(z3.ArithRef, fname)\n",
    "    setattr(zfloat, fname, make_float_binary_wrapper(fname, fun, zfun))"
   ]
  },
  {
   "cell_type": "markdown",
   "metadata": {
    "slideshow": {
     "slide_type": "fragment"
    }
   },
   "source": [
    "These are used as follows."
   ]
  },
  {
   "cell_type": "code",
   "execution_count": 307,
   "metadata": {
    "execution": {
     "iopub.execute_input": "2022-01-02T15:43:49.789123Z",
     "iopub.status.busy": "2022-01-02T15:43:49.788465Z",
     "iopub.status.idle": "2022-01-02T15:43:49.791568Z",
     "shell.execute_reply": "2022-01-02T15:43:49.791976Z"
    },
    "slideshow": {
     "slide_type": "fragment"
    }
   },
   "outputs": [],
   "source": [
    "with ConcolicTracer() as _:\n",
    "    za = zfloat.create(_.context, 'float_a', 1.0)\n",
    "    zb = zfloat.create(_.context, 'float_b', 0.0)\n",
    "    if za * zb:\n",
    "        print(1)"
   ]
  },
  {
   "cell_type": "code",
   "execution_count": 308,
   "metadata": {
    "execution": {
     "iopub.execute_input": "2022-01-02T15:43:49.795713Z",
     "iopub.status.busy": "2022-01-02T15:43:49.795163Z",
     "iopub.status.idle": "2022-01-02T15:43:49.799074Z",
     "shell.execute_reply": "2022-01-02T15:43:49.799465Z"
    },
    "slideshow": {
     "slide_type": "fragment"
    }
   },
   "outputs": [
    {
     "data": {
      "text/plain": [
       "({'float_a': 'Real', 'float_b': 'Real'}, [Not(float_a*float_b != 0)])"
      ]
     },
     "execution_count": 308,
     "metadata": {},
     "output_type": "execute_result"
    }
   ],
   "source": [
    "_.context"
   ]
  },
  {
   "cell_type": "markdown",
   "metadata": {
    "slideshow": {
     "slide_type": "fragment"
    }
   },
   "source": [
    "Finally, we fix the `zint` binary wrapper to correctly create `zfloat` when needed."
   ]
  },
  {
   "cell_type": "code",
   "execution_count": 309,
   "metadata": {
    "execution": {
     "iopub.execute_input": "2022-01-02T15:43:49.805250Z",
     "iopub.status.busy": "2022-01-02T15:43:49.804616Z",
     "iopub.status.idle": "2022-01-02T15:43:49.806326Z",
     "shell.execute_reply": "2022-01-02T15:43:49.806837Z"
    },
    "slideshow": {
     "slide_type": "subslide"
    }
   },
   "outputs": [],
   "source": [
    "def make_int_binary_wrapper(fname, fun, zfun):  # type: ignore\n",
    "    def proxy(self, other):\n",
    "        z, v = self._zv(other)\n",
    "        z_ = zfun(self.z, z)\n",
    "        v_ = fun(self.v, v)\n",
    "        if isinstance(v_, float):\n",
    "            return zfloat(self.context, z_, v_)\n",
    "        elif isinstance(v_, int):\n",
    "            return zint(self.context, z_, v_)\n",
    "        else:\n",
    "            assert False\n",
    "\n",
    "    return proxy"
   ]
  },
  {
   "cell_type": "code",
   "execution_count": 310,
   "metadata": {
    "execution": {
     "iopub.execute_input": "2022-01-02T15:43:49.810902Z",
     "iopub.status.busy": "2022-01-02T15:43:49.810342Z",
     "iopub.status.idle": "2022-01-02T15:43:49.811866Z",
     "shell.execute_reply": "2022-01-02T15:43:49.812252Z"
    },
    "slideshow": {
     "slide_type": "subslide"
    }
   },
   "outputs": [],
   "source": [
    "for fname in INT_BINARY_OPS:\n",
    "    fun = getattr(int, fname)\n",
    "    zfun = getattr(z3.ArithRef, fname)\n",
    "    setattr(zint, fname, make_int_binary_wrapper(fname, fun, zfun))"
   ]
  },
  {
   "cell_type": "markdown",
   "metadata": {
    "slideshow": {
     "slide_type": "fragment"
    }
   },
   "source": [
    "Checking whether it worked as expected."
   ]
  },
  {
   "cell_type": "code",
   "execution_count": 311,
   "metadata": {
    "execution": {
     "iopub.execute_input": "2022-01-02T15:43:49.816006Z",
     "iopub.status.busy": "2022-01-02T15:43:49.815346Z",
     "iopub.status.idle": "2022-01-02T15:43:49.821489Z",
     "shell.execute_reply": "2022-01-02T15:43:49.821936Z"
    },
    "slideshow": {
     "slide_type": "fragment"
    }
   },
   "outputs": [],
   "source": [
    "with ConcolicTracer() as _:\n",
    "    v = _[binomial](4, 2)"
   ]
  },
  {
   "cell_type": "code",
   "execution_count": 312,
   "metadata": {
    "execution": {
     "iopub.execute_input": "2022-01-02T15:43:49.825491Z",
     "iopub.status.busy": "2022-01-02T15:43:49.824938Z",
     "iopub.status.idle": "2022-01-02T15:43:49.858934Z",
     "shell.execute_reply": "2022-01-02T15:43:49.859515Z"
    },
    "slideshow": {
     "slide_type": "fragment"
    }
   },
   "outputs": [
    {
     "data": {
      "text/plain": [
       "('sat', {'n': ('4', 'Int'), 'k': ('2', 'Int')})"
      ]
     },
     "execution_count": 312,
     "metadata": {},
     "output_type": "execute_result"
    }
   ],
   "source": [
    "_.zeval()"
   ]
  },
  {
   "cell_type": "markdown",
   "metadata": {
    "slideshow": {
     "slide_type": "subslide"
    }
   },
   "source": [
    "### Exercise 2: Bit Manipulation"
   ]
  },
  {
   "cell_type": "markdown",
   "metadata": {
    "slideshow": {
     "slide_type": "fragment"
    }
   },
   "source": [
    "Similar to floats, implementing the bit manipulation functions such as `xor` involves converting `int` to its bit vector equivalents, performing operations on them, and converting it back to the original type. Can you implement the bit manipulation operations for `zint`?"
   ]
  },
  {
   "cell_type": "markdown",
   "metadata": {
    "slideshow": {
     "slide_type": "fragment"
    }
   },
   "source": [
    "__Solution.__ The solution is as follows."
   ]
  },
  {
   "cell_type": "markdown",
   "metadata": {
    "slideshow": {
     "slide_type": "fragment"
    }
   },
   "source": [
    "We first define the proxy method as before."
   ]
  },
  {
   "cell_type": "code",
   "execution_count": 313,
   "metadata": {
    "execution": {
     "iopub.execute_input": "2022-01-02T15:43:49.865602Z",
     "iopub.status.busy": "2022-01-02T15:43:49.865057Z",
     "iopub.status.idle": "2022-01-02T15:43:49.866856Z",
     "shell.execute_reply": "2022-01-02T15:43:49.867365Z"
    },
    "slideshow": {
     "slide_type": "subslide"
    }
   },
   "outputs": [],
   "source": [
    "def make_int_bit_wrapper(fname, fun, zfun):\n",
    "    def proxy(self, other):\n",
    "        z, v = self._zv(other)\n",
    "        z_ = z3.BV2Int(\n",
    "            zfun(\n",
    "                z3.Int2BV(\n",
    "                    self.z, num_bits=64), z3.Int2BV(\n",
    "                    z, num_bits=64)))\n",
    "        v_ = fun(self.v, v)\n",
    "        return zint(self.context, z_, v_)\n",
    "\n",
    "    return proxy"
   ]
  },
  {
   "cell_type": "markdown",
   "metadata": {
    "slideshow": {
     "slide_type": "fragment"
    }
   },
   "source": [
    "It is then applied to the `zint` class."
   ]
  },
  {
   "cell_type": "code",
   "execution_count": 314,
   "metadata": {
    "execution": {
     "iopub.execute_input": "2022-01-02T15:43:49.871506Z",
     "iopub.status.busy": "2022-01-02T15:43:49.870681Z",
     "iopub.status.idle": "2022-01-02T15:43:49.872591Z",
     "shell.execute_reply": "2022-01-02T15:43:49.873319Z"
    },
    "slideshow": {
     "slide_type": "subslide"
    }
   },
   "outputs": [],
   "source": [
    "BIT_OPS = [\n",
    "    '__lshift__',\n",
    "    '__rshift__',\n",
    "    '__and__',\n",
    "    '__xor__',\n",
    "    '__or__',\n",
    "    '__rlshift__',\n",
    "    '__rrshift__',\n",
    "    '__rand__',\n",
    "    '__rxor__',\n",
    "    '__ror__',\n",
    "]"
   ]
  },
  {
   "cell_type": "code",
   "execution_count": 315,
   "metadata": {
    "execution": {
     "iopub.execute_input": "2022-01-02T15:43:49.877377Z",
     "iopub.status.busy": "2022-01-02T15:43:49.876836Z",
     "iopub.status.idle": "2022-01-02T15:43:49.878486Z",
     "shell.execute_reply": "2022-01-02T15:43:49.878880Z"
    },
    "slideshow": {
     "slide_type": "subslide"
    }
   },
   "outputs": [],
   "source": [
    "def init_concolic_4():\n",
    "    for fname in BIT_OPS:\n",
    "        fun = getattr(int, fname)\n",
    "        zfun = getattr(z3.BitVecRef, fname)\n",
    "        setattr(zint, fname, make_int_bit_wrapper(fname, fun, zfun))"
   ]
  },
  {
   "cell_type": "code",
   "execution_count": 316,
   "metadata": {
    "execution": {
     "iopub.execute_input": "2022-01-02T15:43:49.882109Z",
     "iopub.status.busy": "2022-01-02T15:43:49.881545Z",
     "iopub.status.idle": "2022-01-02T15:43:49.883143Z",
     "shell.execute_reply": "2022-01-02T15:43:49.883702Z"
    },
    "slideshow": {
     "slide_type": "fragment"
    }
   },
   "outputs": [],
   "source": [
    "INITIALIZER_LIST.append(init_concolic_4)"
   ]
  },
  {
   "cell_type": "code",
   "execution_count": 317,
   "metadata": {
    "execution": {
     "iopub.execute_input": "2022-01-02T15:43:49.886826Z",
     "iopub.status.busy": "2022-01-02T15:43:49.886284Z",
     "iopub.status.idle": "2022-01-02T15:43:49.888093Z",
     "shell.execute_reply": "2022-01-02T15:43:49.888742Z"
    },
    "slideshow": {
     "slide_type": "fragment"
    }
   },
   "outputs": [],
   "source": [
    "init_concolic_4()"
   ]
  },
  {
   "cell_type": "markdown",
   "metadata": {
    "slideshow": {
     "slide_type": "fragment"
    }
   },
   "source": [
    "Invert is the only unary bit manipulation method."
   ]
  },
  {
   "cell_type": "code",
   "execution_count": 318,
   "metadata": {
    "execution": {
     "iopub.execute_input": "2022-01-02T15:43:49.893058Z",
     "iopub.status.busy": "2022-01-02T15:43:49.892515Z",
     "iopub.status.idle": "2022-01-02T15:43:49.894269Z",
     "shell.execute_reply": "2022-01-02T15:43:49.894672Z"
    },
    "slideshow": {
     "slide_type": "fragment"
    }
   },
   "outputs": [],
   "source": [
    "class zint(zint):\n",
    "    def __invert__(self):\n",
    "        return zint(self.context, z3.BV2Int(\n",
    "            ~z3.Int2BV(self.z, num_bits=64)), ~self.v)"
   ]
  },
  {
   "cell_type": "markdown",
   "metadata": {
    "slideshow": {
     "slide_type": "fragment"
    }
   },
   "source": [
    "The `my_fn()` computes `xor` and returns `True` if the `xor` results in a non zero value."
   ]
  },
  {
   "cell_type": "code",
   "execution_count": 319,
   "metadata": {
    "execution": {
     "iopub.execute_input": "2022-01-02T15:43:49.898460Z",
     "iopub.status.busy": "2022-01-02T15:43:49.897922Z",
     "iopub.status.idle": "2022-01-02T15:43:49.899654Z",
     "shell.execute_reply": "2022-01-02T15:43:49.900047Z"
    },
    "slideshow": {
     "slide_type": "subslide"
    }
   },
   "outputs": [],
   "source": [
    "def my_fn(a, b):\n",
    "    o_ = (a | b)\n",
    "    a_ = (a & b)\n",
    "    if o_ & ~a_:\n",
    "        return True\n",
    "    else:\n",
    "        return False"
   ]
  },
  {
   "cell_type": "markdown",
   "metadata": {
    "slideshow": {
     "slide_type": "fragment"
    }
   },
   "source": [
    "Using that under `ConcolicTracer`"
   ]
  },
  {
   "cell_type": "code",
   "execution_count": 320,
   "metadata": {
    "execution": {
     "iopub.execute_input": "2022-01-02T15:43:49.904422Z",
     "iopub.status.busy": "2022-01-02T15:43:49.903584Z",
     "iopub.status.idle": "2022-01-02T15:43:49.907021Z",
     "shell.execute_reply": "2022-01-02T15:43:49.907423Z"
    },
    "slideshow": {
     "slide_type": "fragment"
    }
   },
   "outputs": [
    {
     "name": "stdout",
     "output_type": "stream",
     "text": [
      "True\n"
     ]
    }
   ],
   "source": [
    "with ConcolicTracer() as _:\n",
    "    print(_[my_fn](2, 1))"
   ]
  },
  {
   "cell_type": "markdown",
   "metadata": {
    "slideshow": {
     "slide_type": "fragment"
    }
   },
   "source": [
    "We log the computed SMT expression to verify that everything went well."
   ]
  },
  {
   "cell_type": "code",
   "execution_count": 321,
   "metadata": {
    "execution": {
     "iopub.execute_input": "2022-01-02T15:43:49.911317Z",
     "iopub.status.busy": "2022-01-02T15:43:49.910627Z",
     "iopub.status.idle": "2022-01-02T15:43:50.016693Z",
     "shell.execute_reply": "2022-01-02T15:43:50.017393Z"
    },
    "slideshow": {
     "slide_type": "subslide"
    }
   },
   "outputs": [
    {
     "name": "stdout",
     "output_type": "stream",
     "text": [
      "(declare-const my_fn_a_int_1 Int)\n",
      "(declare-const my_fn_b_int_2 Int)\n",
      "(assert (let ((a!1 (bvnot (bvor (bvnot ((_ int2bv 64) my_fn_a_int_1))\n",
      "                        (bvnot ((_ int2bv 64) my_fn_b_int_2))))))\n",
      "(let ((a!2 (bvor (bvnot (bvor ((_ int2bv 64) my_fn_a_int_1)\n",
      "                              ((_ int2bv 64) my_fn_b_int_2)))\n",
      "                 a!1)))\n",
      "  (not (= 0 (bv2int (bvnot a!2)))))))\n",
      "(check-sat)\n",
      "(get-model)\n",
      "unknown\n",
      "(error \"line 10 column 10: model is not available\")\n"
     ]
    },
    {
     "data": {
      "text/plain": [
       "('Gave up', None)"
      ]
     },
     "execution_count": 321,
     "metadata": {},
     "output_type": "execute_result"
    }
   ],
   "source": [
    "_.zeval(log=True)"
   ]
  },
  {
   "cell_type": "markdown",
   "metadata": {
    "slideshow": {
     "slide_type": "subslide"
    }
   },
   "source": [
    "We can confirm from the formulas generated that the bit manipulation functions worked correctly. "
   ]
  },
  {
   "cell_type": "markdown",
   "metadata": {
    "slideshow": {
     "slide_type": "subslide"
    }
   },
   "source": [
    "### Exercise 3: String Translation Functions"
   ]
  },
  {
   "cell_type": "markdown",
   "metadata": {
    "slideshow": {
     "slide_type": "fragment"
    }
   },
   "source": [
    "We have seen how to define `upper()` and `lower()`. Can you define the `capitalize()`, `title()`, and `swapcase()` methods?"
   ]
  },
  {
   "cell_type": "markdown",
   "metadata": {
    "slideshow": {
     "slide_type": "fragment"
    }
   },
   "source": [
    "__Solution.__ Solution not yet available."
   ]
  }
 ],
 "metadata": {
  "ipub": {
   "bibliography": "fuzzingbook.bib",
   "toc": true
  },
  "kernelspec": {
   "display_name": "Python 3 (ipykernel)",
   "language": "python",
   "name": "python3"
  },
  "language_info": {
   "codemirror_mode": {
    "name": "ipython",
    "version": 3
   },
   "file_extension": ".py",
   "mimetype": "text/x-python",
   "name": "python",
   "nbconvert_exporter": "python",
   "pygments_lexer": "ipython3",
   "version": "3.9.7"
  },
  "toc": {
   "base_numbering": 1,
   "nav_menu": {},
   "number_sections": true,
   "sideBar": true,
   "skip_h1_title": true,
   "title_cell": "",
   "title_sidebar": "Contents",
   "toc_cell": false,
   "toc_position": {},
   "toc_section_display": true,
   "toc_window_display": true
  },
  "toc-autonumbering": false,
  "varInspector": {
   "cols": {
    "lenName": 16,
    "lenType": 16,
    "lenVar": 40
   },
   "kernels_config": {
    "python": {
     "delete_cmd_postfix": "",
     "delete_cmd_prefix": "del ",
     "library": "var_list.py",
     "varRefreshCmd": "print(var_dic_list())"
    },
    "r": {
     "delete_cmd_postfix": ") ",
     "delete_cmd_prefix": "rm(",
     "library": "var_list.r",
     "varRefreshCmd": "cat(var_dic_list()) "
    }
   },
   "types_to_exclude": [
    "module",
    "function",
    "builtin_function_or_method",
    "instance",
    "_Feature"
   ],
   "window_display": false
  }
 },
 "nbformat": 4,
 "nbformat_minor": 4
}