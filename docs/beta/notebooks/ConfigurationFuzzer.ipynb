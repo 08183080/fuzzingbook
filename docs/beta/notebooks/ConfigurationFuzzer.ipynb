{
 "cells": [
  {
   "cell_type": "markdown",
   "metadata": {
    "button": false,
    "new_sheet": false,
    "run_control": {
     "read_only": false
    },
    "slideshow": {
     "slide_type": "slide"
    },
    "toc-hr-collapsed": false
   },
   "source": [
    "# Testing Configurations\n",
    "\n",
    "The behavior of a program is not only governed by its data.  The _configuration_ of a program – that is, the settings that govern the execution of a program on its (regular) input data, as set by options or configuration files – just as well influences behavior, and thus can and should be tested.  In this chapter, we explore how to systematically _test_ and _cover_ software configurations.  By _automatically inferring configuration options_, we can apply these techniques out of the box, with no need for writing a grammar.  Finally, we show how to systematically cover _combinations_ of configuration options, quickly detecting unwanted interferences."
   ]
  },
  {
   "cell_type": "markdown",
   "metadata": {
    "button": false,
    "new_sheet": false,
    "run_control": {
     "read_only": false
    },
    "slideshow": {
     "slide_type": "skip"
    }
   },
   "source": [
    "**Prerequisites**\n",
    "\n",
    "* You should have read the [chapter on grammars](Grammars.ipynb).\n",
    "* You should have read the [chapter on grammar coverage](GrammarCoverageFuzzer.ipynb)."
   ]
  },
  {
   "cell_type": "markdown",
   "metadata": {
    "slideshow": {
     "slide_type": "skip"
    }
   },
   "source": [
    "## Synopsis\n",
    "<!-- Automatically generated. Do not edit. -->\n",
    "\n",
    "To [use the code provided in this chapter](Importing.ipynb), write\n",
    "\n",
    "```python\n",
    ">>> from fuzzingbook.ConfigurationFuzzer import <identifier>\n",
    "```\n",
    "\n",
    "and then make use of the following features.\n",
    "\n",
    "\n",
    "This chapter provides two classes:\n",
    "\n",
    "* `OptionRunner` automatically extract command-line options from a Python program;\n",
    "* `OptionFuzzer` uses these to automatically test a Python program with a large variety of options.\n",
    "\n",
    "`OptionRunner` runs a program up to the point where it parses its arguments, and then extracts a grammar that describes its invocations:\n",
    "\n",
    "```python\n",
    ">>> autopep8_runner = OptionRunner(\"autopep8\", \"foo.py\")\n",
    "```\n",
    "The grammar can be extracted via the method `ebnf_grammar()`:\n",
    "\n",
    "```python\n",
    ">>> option_ebnf_grammar = autopep8_runner.ebnf_grammar()\n",
    ">>> print(option_ebnf_grammar)\n",
    "{'<start>': ['(<option>)*<arguments>'], '<option>': [' -h', ' --help', ' --version', ' -v', ' --verbose', ' -d', ' --diff', ' -i', ' --in-place', ' --global-config <filename>', ' --ignore-local-config', ' -r', ' --recursive', ' -j <n>', ' --jobs <n>', ' -p <n>', ' --pep8-passes <n>', ' -a', ' --aggressive', ' --experimental', ' --exclude <globs>', ' --list-fixes', ' --ignore <errors>', ' --select <errors>', ' --max-line-length <n>', ' --line-range <line> <line>', ' --range <line> <line>', ' --indent-size <int>', ' --hang-closing', ' --exit-code'], '<arguments>': [' foo.py'], '<str>': ['<char>+'], '<char>': ['0', '1', '2', '3', '4', '5', '6', '7', '8', '9', 'a', 'b', 'c', 'd', 'e', 'f', 'g', 'h', 'i', 'j', 'k', 'l', 'm', 'n', 'o', 'p', 'q', 'r', 's', 't', 'u', 'v', 'w', 'x', 'y', 'z', 'A', 'B', 'C', 'D', 'E', 'F', 'G', 'H', 'I', 'J', 'K', 'L', 'M', 'N', 'O', 'P', 'Q', 'R', 'S', 'T', 'U', 'V', 'W', 'X', 'Y', 'Z', '!', '\"', '#', '$', '%', '&', \"'\", '(', ')', '*', '+', ',', '-', '.', '/', ':', ';', '<', '=', '>', '?', '@', '[', '\\\\', ']', '^', '_', '`', '{', '|', '}', '~'], '<filename>': ['<str>'], '<int>': ['(-)?<digit>+'], '<digit>': ['0', '1', '2', '3', '4', '5', '6', '7', '8', '9'], '<n>': ['<int>'], '<globs>': ['<str>'], '<errors>': ['<str>'], '<line>': ['<int>']}\n",
    "\n",
    "```\n",
    "The grammar can be immediately used for fuzzing. A `GrammarCoverageFuzzer` will ensure all options are covered:\n",
    "\n",
    "```python\n",
    ">>> from Grammars import convert_ebnf_grammar\n",
    ">>> fuzzer = GrammarCoverageFuzzer(convert_ebnf_grammar(option_ebnf_grammar))\n",
    ">>> [fuzzer.fuzz() for i in range(3)]\n",
    "[' -v foo.py',\n",
    " ' --verbose --global-config e\\\\ --in-place --indent-size -9 --pep8-passes 48 -i --ignore-local-config -h --exit-code --select ] -r -a --help --exclude t --jobs -5 --aggressive --hang-closing --experimental --diff --range -26 -0 --max-line-length 7 --list-fixes --recursive -d --version -p -31 --line-range 6 2 --help -r -v --exit-code foo.py',\n",
    " ' --ignore P -j -9 --ignore }go --select * --global-config ;0 --select \\' --exclude !s --exclude L/HW:n\" --global-config T --ignore #V --select jur --exclude &+w --select 3 --ignore %RhF[` --exclude yMB --global-config 1 --ignore X --exclude _ --global-config xQ) --exclude =>d --ignore ( --ignore ~Y --exclude K --ignore .b --global-config A? --ignore CU --ignore , --global-config f --global-config Ez --exclude p$8c@ --ignore O --select <6 --global-config 5DS --global-config Iq2 --select 4 --exclude J^ --global-config Nv --select 79 --select i- --ignore |Zkml{Z --select aG --version --exclude d --exclude 8g foo.py']\n",
    "```\n",
    "The `OptionFuzzer` class summarizes these steps.  Its constructor takes an `OptionRunner` to automatically extract the grammar; it does the necessary steps to extract the grammar and fuzz with it.\n",
    "\n",
    "```python\n",
    ">>> autopep8_runner = OptionRunner(\"autopep8\", \"foo.py\")\n",
    ">>> autopep8_fuzzer = OptionFuzzer(autopep8_runner)\n",
    ">>> [autopep8_fuzzer.fuzz() for i in range(3)]\n",
    "[' foo.py',\n",
    " ' -v --pep8-passes 4 --global-config b --hang-closing --experimental --recursive -a --verbose -j -10729 --ignore-local-config -r --select ,! --exit-code --max-line-length -5 --ignore Di --indent-size -86 --jobs -3 --exclude { --help --diff -d --version -p -89 --list-fixes --line-range 1 -0 --range 6 5 --aggressive -i foo.py',\n",
    " \" --in-place -h --ignore vU --select O; --ignore mq' --ignore ~Q --global-config =F --ignore nfA?0% --exclude / --global-config g --select LB --global-config s --ignore 3\\\\ --select (y --global-config - --global-config : --exclude ke --select ^ --ignore `6 --ignore p --ignore T --select 4j --exclude I$ --ignore 1Z --exclude M --exclude rK --ignore wN95t --select a --global-config > --recursive --aggressive -a foo.py\"]\n",
    "```\n",
    "The final step in testing would now to invoke the program with these arguments.\n",
    "\n",
    "Note that `OptionRunner` is experimental: It assumes that the Python program in question uses the `argparse` module; and not all `argparse` features are supported.  Still, it does a pretty good job even on nontrivial programs.\n",
    "\n"
   ]
  },
  {
   "cell_type": "markdown",
   "metadata": {
    "button": false,
    "new_sheet": true,
    "run_control": {
     "read_only": false
    },
    "slideshow": {
     "slide_type": "slide"
    }
   },
   "source": [
    "## Configuration Options\n",
    "\n",
    "When we talk about the input to a program, we usually think of the _data_ it processes. This is also what we have been fuzzing in the past chapters – be it with [random input](Fuzzer.ipynb), [mutation-based fuzzing](MutationFuzzer.ipynb), or [grammar-based fuzzing](GrammarFuzzer.ipynb).  However, programs typically have several input sources, all of which can and should be tested – and included in test generation."
   ]
  },
  {
   "cell_type": "markdown",
   "metadata": {
    "button": false,
    "new_sheet": true,
    "run_control": {
     "read_only": false
    },
    "slideshow": {
     "slide_type": "subslide"
    }
   },
   "source": [
    "One important source of input is the program's _configuration_ – that is, a set of inputs that typically is set once when beginning to process data and then stays constant while processing data, while the program is running, or even while the program is deployed.  Such a configuration is frequently set in _configuration files_ (for instance, as key/value pairs); the most ubiquitous method for command-line tools, though, are _configuration options_ on the command line."
   ]
  },
  {
   "cell_type": "markdown",
   "metadata": {
    "slideshow": {
     "slide_type": "subslide"
    }
   },
   "source": [
    "As an example, consider the `grep` utility to find textual patterns in files.  The exact mode by which `grep` works is governed by a multitude of options, which can be listed by providing a `--help` option:"
   ]
  },
  {
   "cell_type": "code",
   "execution_count": 1,
   "metadata": {
    "execution": {
     "iopub.execute_input": "2021-11-02T16:40:49.479804Z",
     "iopub.status.busy": "2021-11-02T16:40:49.478731Z",
     "iopub.status.idle": "2021-11-02T16:40:49.609517Z",
     "shell.execute_reply": "2021-11-02T16:40:49.610109Z"
    },
    "slideshow": {
     "slide_type": "fragment"
    }
   },
   "outputs": [
    {
     "name": "stdout",
     "output_type": "stream",
     "text": [
      "usage: grep [-abcDEFGHhIiJLlmnOoqRSsUVvwxZ] [-A num] [-B num] [-C[num]]\r\n",
      "\t[-e pattern] [-f file] [--binary-files=value] [--color=when]\r\n",
      "\t[--context[=num]] [--directories=action] [--label] [--line-buffered]\r\n",
      "\t[--null] [pattern] [file ...]\r\n"
     ]
    }
   ],
   "source": [
    "!grep --help"
   ]
  },
  {
   "cell_type": "markdown",
   "metadata": {
    "slideshow": {
     "slide_type": "fragment"
    }
   },
   "source": [
    "All these options need to be tested for whether they operate correctly.  In security testing, any such option may also trigger a yet unknown vulnerability.  Hence, such options can become _fuzz targets_ on their own.  In this chapter, we analyze how to systematically test such options – and better yet, how to extract possible configurations right out of given program files, such that we do not have to specify anything."
   ]
  },
  {
   "cell_type": "markdown",
   "metadata": {
    "slideshow": {
     "slide_type": "slide"
    }
   },
   "source": [
    "## Options in Python\n",
    "\n",
    "Let us stick to our common programming language here and examine how options are processed in Python.  The `argparse` module provides a parser for command-line arguments (and options) with great functionality – and great complexity.  You start by defining a parser (`argparse.ArgumentParser()`) to which individual arguments with various features are added, one after another.  Additional parameters for each argument can specify the type (`type`) of the argument (say, integers or strings), or the number of arguments (`nargs`)."
   ]
  },
  {
   "cell_type": "markdown",
   "metadata": {
    "slideshow": {
     "slide_type": "subslide"
    }
   },
   "source": [
    "By default, arguments are stored under their name in the `args` object coming from `parse_args()` – thus, `args.integers` holds the `integer` arguments added earlier.  Special actions (`actions`) allow to store specific values in given variables; the `store_const` action stores the given `const` in the attribute named by `dest`.  The following example takes a number of integer arguments (`integers`) as well as an operator (`--sum`, `--min`, or `--max`) to be applied on these integers.  The operators all store a function reference in the `accumulate` attribute, which is finally invoked on the integers parsed:"
   ]
  },
  {
   "cell_type": "code",
   "execution_count": 2,
   "metadata": {
    "execution": {
     "iopub.execute_input": "2021-11-02T16:40:49.615761Z",
     "iopub.status.busy": "2021-11-02T16:40:49.615065Z",
     "iopub.status.idle": "2021-11-02T16:40:49.617152Z",
     "shell.execute_reply": "2021-11-02T16:40:49.617658Z"
    },
    "slideshow": {
     "slide_type": "skip"
    }
   },
   "outputs": [],
   "source": [
    "import argparse"
   ]
  },
  {
   "cell_type": "code",
   "execution_count": 3,
   "metadata": {
    "execution": {
     "iopub.execute_input": "2021-11-02T16:40:49.624548Z",
     "iopub.status.busy": "2021-11-02T16:40:49.623849Z",
     "iopub.status.idle": "2021-11-02T16:40:49.626018Z",
     "shell.execute_reply": "2021-11-02T16:40:49.626579Z"
    },
    "slideshow": {
     "slide_type": "subslide"
    }
   },
   "outputs": [],
   "source": [
    "def process_numbers(args=[]):\n",
    "    parser = argparse.ArgumentParser(description='Process some integers.')\n",
    "    parser.add_argument('integers', metavar='N', type=int, nargs='+',\n",
    "                        help='an integer for the accumulator')\n",
    "    group = parser.add_mutually_exclusive_group(required=True)\n",
    "    group.add_argument('--sum', dest='accumulate', action='store_const',\n",
    "                       const=sum,\n",
    "                       help='sum the integers')\n",
    "    group.add_argument('--min', dest='accumulate', action='store_const',\n",
    "                       const=min,\n",
    "                       help='compute the minimum')\n",
    "    group.add_argument('--max', dest='accumulate', action='store_const',\n",
    "                       const=max,\n",
    "                       help='compute the maximum')\n",
    "\n",
    "    args = parser.parse_args(args)\n",
    "    print(args.accumulate(args.integers))"
   ]
  },
  {
   "cell_type": "markdown",
   "metadata": {
    "slideshow": {
     "slide_type": "subslide"
    }
   },
   "source": [
    "Here's how `process_numbers()` works.  We can, for instance, invoke the `--min` option on the given arguments to compute the minimum:"
   ]
  },
  {
   "cell_type": "code",
   "execution_count": 4,
   "metadata": {
    "execution": {
     "iopub.execute_input": "2021-11-02T16:40:49.631132Z",
     "iopub.status.busy": "2021-11-02T16:40:49.630437Z",
     "iopub.status.idle": "2021-11-02T16:40:49.633981Z",
     "shell.execute_reply": "2021-11-02T16:40:49.634489Z"
    },
    "slideshow": {
     "slide_type": "fragment"
    }
   },
   "outputs": [
    {
     "name": "stdout",
     "output_type": "stream",
     "text": [
      "100\n"
     ]
    }
   ],
   "source": [
    "process_numbers([\"--min\", \"100\", \"200\", \"300\"])"
   ]
  },
  {
   "cell_type": "markdown",
   "metadata": {
    "slideshow": {
     "slide_type": "fragment"
    }
   },
   "source": [
    "Or compute the sum of three numbers:"
   ]
  },
  {
   "cell_type": "code",
   "execution_count": 5,
   "metadata": {
    "execution": {
     "iopub.execute_input": "2021-11-02T16:40:49.638639Z",
     "iopub.status.busy": "2021-11-02T16:40:49.637952Z",
     "iopub.status.idle": "2021-11-02T16:40:49.641389Z",
     "shell.execute_reply": "2021-11-02T16:40:49.641886Z"
    },
    "slideshow": {
     "slide_type": "fragment"
    }
   },
   "outputs": [
    {
     "name": "stdout",
     "output_type": "stream",
     "text": [
      "6\n"
     ]
    }
   ],
   "source": [
    "process_numbers([\"--sum\", \"1\", \"2\", \"3\"])"
   ]
  },
  {
   "cell_type": "markdown",
   "metadata": {
    "slideshow": {
     "slide_type": "subslide"
    }
   },
   "source": [
    "When defined via `add_mutually_exclusive_group()` (as above), options are mutually exclusive.  Consequently, we can have only one operator:"
   ]
  },
  {
   "cell_type": "code",
   "execution_count": 6,
   "metadata": {
    "execution": {
     "iopub.execute_input": "2021-11-02T16:40:49.645785Z",
     "iopub.status.busy": "2021-11-02T16:40:49.645109Z",
     "iopub.status.idle": "2021-11-02T16:40:49.762512Z",
     "shell.execute_reply": "2021-11-02T16:40:49.763022Z"
    },
    "slideshow": {
     "slide_type": "skip"
    }
   },
   "outputs": [],
   "source": [
    "import bookutils"
   ]
  },
  {
   "cell_type": "code",
   "execution_count": 7,
   "metadata": {
    "execution": {
     "iopub.execute_input": "2021-11-02T16:40:49.767696Z",
     "iopub.status.busy": "2021-11-02T16:40:49.766999Z",
     "iopub.status.idle": "2021-11-02T16:40:49.840240Z",
     "shell.execute_reply": "2021-11-02T16:40:49.840703Z"
    },
    "slideshow": {
     "slide_type": "skip"
    }
   },
   "outputs": [],
   "source": [
    "from ExpectError import ExpectError"
   ]
  },
  {
   "cell_type": "code",
   "execution_count": 8,
   "metadata": {
    "execution": {
     "iopub.execute_input": "2021-11-02T16:40:49.845602Z",
     "iopub.status.busy": "2021-11-02T16:40:49.844800Z",
     "iopub.status.idle": "2021-11-02T16:40:49.851914Z",
     "shell.execute_reply": "2021-11-02T16:40:49.852433Z"
    },
    "slideshow": {
     "slide_type": "fragment"
    }
   },
   "outputs": [
    {
     "name": "stderr",
     "output_type": "stream",
     "text": [
      "usage: ipykernel_launcher.py [-h] (--sum | --min | --max) N [N ...]\n",
      "ipykernel_launcher.py: error: argument --max: not allowed with argument --sum\n",
      "SystemExit: 2 (expected)\n"
     ]
    }
   ],
   "source": [
    "with ExpectError(print_traceback=False):\n",
    "    process_numbers([\"--sum\", \"--max\", \"1\", \"2\", \"3\"])"
   ]
  },
  {
   "cell_type": "markdown",
   "metadata": {
    "slideshow": {
     "slide_type": "slide"
    }
   },
   "source": [
    "## A Grammar for Configurations\n",
    "\n",
    "How can we test a system with several options?  The easiest answer is to write a grammar for it.  The grammar `PROCESS_NUMBERS_EBNF_GRAMMAR` reflects the possible combinations of options and arguments:"
   ]
  },
  {
   "cell_type": "code",
   "execution_count": 9,
   "metadata": {
    "execution": {
     "iopub.execute_input": "2021-11-02T16:40:49.857719Z",
     "iopub.status.busy": "2021-11-02T16:40:49.857010Z",
     "iopub.status.idle": "2021-11-02T16:40:52.261631Z",
     "shell.execute_reply": "2021-11-02T16:40:52.262161Z"
    },
    "slideshow": {
     "slide_type": "skip"
    }
   },
   "outputs": [],
   "source": [
    "from Grammars import crange, srange, convert_ebnf_grammar, extend_grammar, is_valid_grammar\n",
    "from Grammars import START_SYMBOL, new_symbol"
   ]
  },
  {
   "cell_type": "code",
   "execution_count": 10,
   "metadata": {
    "execution": {
     "iopub.execute_input": "2021-11-02T16:40:52.267657Z",
     "iopub.status.busy": "2021-11-02T16:40:52.266948Z",
     "iopub.status.idle": "2021-11-02T16:40:52.269277Z",
     "shell.execute_reply": "2021-11-02T16:40:52.269911Z"
    },
    "slideshow": {
     "slide_type": "fragment"
    }
   },
   "outputs": [],
   "source": [
    "PROCESS_NUMBERS_EBNF_GRAMMAR = {\n",
    "    \"<start>\": [\"<operator> <integers>\"],\n",
    "    \"<operator>\": [\"--sum\", \"--min\", \"--max\"],\n",
    "    \"<integers>\": [\"<integer>\", \"<integers> <integer>\"],\n",
    "    \"<integer>\": [\"<digit>+\"],\n",
    "    \"<digit>\": crange('0', '9')\n",
    "}\n",
    "\n",
    "assert is_valid_grammar(PROCESS_NUMBERS_EBNF_GRAMMAR)"
   ]
  },
  {
   "cell_type": "code",
   "execution_count": 11,
   "metadata": {
    "execution": {
     "iopub.execute_input": "2021-11-02T16:40:52.274186Z",
     "iopub.status.busy": "2021-11-02T16:40:52.273495Z",
     "iopub.status.idle": "2021-11-02T16:40:52.275543Z",
     "shell.execute_reply": "2021-11-02T16:40:52.276114Z"
    },
    "slideshow": {
     "slide_type": "fragment"
    }
   },
   "outputs": [],
   "source": [
    "PROCESS_NUMBERS_GRAMMAR = convert_ebnf_grammar(PROCESS_NUMBERS_EBNF_GRAMMAR)"
   ]
  },
  {
   "cell_type": "markdown",
   "metadata": {
    "slideshow": {
     "slide_type": "subslide"
    }
   },
   "source": [
    "We can feed this grammar into our [grammar coverage fuzzer](GrammarCoverageFuzzer.ipynb) and have it cover one option after another:"
   ]
  },
  {
   "cell_type": "code",
   "execution_count": 12,
   "metadata": {
    "execution": {
     "iopub.execute_input": "2021-11-02T16:40:52.280368Z",
     "iopub.status.busy": "2021-11-02T16:40:52.279403Z",
     "iopub.status.idle": "2021-11-02T16:40:53.515485Z",
     "shell.execute_reply": "2021-11-02T16:40:53.516190Z"
    },
    "slideshow": {
     "slide_type": "skip"
    }
   },
   "outputs": [],
   "source": [
    "from GrammarCoverageFuzzer import GrammarCoverageFuzzer"
   ]
  },
  {
   "cell_type": "code",
   "execution_count": 13,
   "metadata": {
    "execution": {
     "iopub.execute_input": "2021-11-02T16:40:53.568486Z",
     "iopub.status.busy": "2021-11-02T16:40:53.560667Z",
     "iopub.status.idle": "2021-11-02T16:40:53.571155Z",
     "shell.execute_reply": "2021-11-02T16:40:53.571716Z"
    },
    "slideshow": {
     "slide_type": "fragment"
    }
   },
   "outputs": [
    {
     "name": "stdout",
     "output_type": "stream",
     "text": [
      "--max 9 5 8 210 80 9756431\n",
      "--sum 9 4 99 1245 612370\n",
      "--min 2 3 0 46 15798 7570926\n"
     ]
    }
   ],
   "source": [
    "f = GrammarCoverageFuzzer(PROCESS_NUMBERS_GRAMMAR, min_nonterminals=10)\n",
    "for i in range(3):\n",
    "    print(f.fuzz())"
   ]
  },
  {
   "cell_type": "markdown",
   "metadata": {
    "slideshow": {
     "slide_type": "subslide"
    }
   },
   "source": [
    "Of course, we can also invoke `process_numbers()` with these very arguments. To this end, we need to convert the string produced by the grammar back into a list of individual arguments, using `split()`:"
   ]
  },
  {
   "cell_type": "code",
   "execution_count": 14,
   "metadata": {
    "execution": {
     "iopub.execute_input": "2021-11-02T16:40:53.589423Z",
     "iopub.status.busy": "2021-11-02T16:40:53.574793Z",
     "iopub.status.idle": "2021-11-02T16:40:53.642180Z",
     "shell.execute_reply": "2021-11-02T16:40:53.642722Z"
    },
    "slideshow": {
     "slide_type": "fragment"
    }
   },
   "outputs": [
    {
     "name": "stdout",
     "output_type": "stream",
     "text": [
      "['--max', '8', '9', '3067', '44', '13852967057']\n",
      "13852967057\n",
      "['--sum', '9', '8', '63', '9278111', '59206197798']\n",
      "59215475989\n",
      "['--min', '4', '1', '4864', '33342', '7827970808951']\n",
      "1\n"
     ]
    }
   ],
   "source": [
    "f = GrammarCoverageFuzzer(PROCESS_NUMBERS_GRAMMAR, min_nonterminals=10)\n",
    "for i in range(3):\n",
    "    args = f.fuzz().split()\n",
    "    print(args)\n",
    "    process_numbers(args)"
   ]
  },
  {
   "cell_type": "markdown",
   "metadata": {
    "slideshow": {
     "slide_type": "subslide"
    }
   },
   "source": [
    "In a similar way, we can define grammars for any program to be tested; as well as define grammars for, say, configuration files.  Yet, the grammar has to be updated with every change to the program, which creates a maintenance burden.  Given that the information required for the grammar is already all encoded in the program, the question arises: _Can't we go and extract configuration options right out of the program in the first place?_"
   ]
  },
  {
   "cell_type": "markdown",
   "metadata": {
    "slideshow": {
     "slide_type": "fragment"
    }
   },
   "source": [
    "## Mining Configuration Options\n",
    "\n",
    "In this section, we try to extract option and argument information right out of a program, such that we do not have to specify a configuration grammar.  The aim is to have a configuration fuzzer that works on the options and arguments of an arbitrary program, as long as it follows specific conventions for processing its arguments.  In the case of Python programs, this means using the `argparse` module.\n",
    "\n",
    "Our idea is as follows: We execute the given program up to the point where the arguments are actually parsed – that is, `argparse.parse_args()` is invoked.  Up to this point, we track all calls into the argument parser, notably those calls that define arguments and options (`add_argument()`).  From these, we construct the grammar."
   ]
  },
  {
   "cell_type": "markdown",
   "metadata": {
    "slideshow": {
     "slide_type": "fragment"
    }
   },
   "source": [
    "### Tracking Arguments\n",
    "\n",
    "Let us illustrate this approach with a simple experiment: We define a trace function (see [our chapter on coverage](Coverage.ipynb) for details) that is active while `process_numbers` is invoked.  If we have a call to a method `add_argument`, we access and print out the local variables (which at this point are the arguments to the method)."
   ]
  },
  {
   "cell_type": "code",
   "execution_count": 15,
   "metadata": {
    "execution": {
     "iopub.execute_input": "2021-11-02T16:40:53.647574Z",
     "iopub.status.busy": "2021-11-02T16:40:53.646851Z",
     "iopub.status.idle": "2021-11-02T16:40:53.649309Z",
     "shell.execute_reply": "2021-11-02T16:40:53.649863Z"
    },
    "slideshow": {
     "slide_type": "skip"
    }
   },
   "outputs": [],
   "source": [
    "import sys"
   ]
  },
  {
   "cell_type": "code",
   "execution_count": 16,
   "metadata": {
    "execution": {
     "iopub.execute_input": "2021-11-02T16:40:53.655277Z",
     "iopub.status.busy": "2021-11-02T16:40:53.654398Z",
     "iopub.status.idle": "2021-11-02T16:40:53.656792Z",
     "shell.execute_reply": "2021-11-02T16:40:53.657399Z"
    },
    "slideshow": {
     "slide_type": "skip"
    }
   },
   "outputs": [],
   "source": [
    "import string"
   ]
  },
  {
   "cell_type": "code",
   "execution_count": 17,
   "metadata": {
    "execution": {
     "iopub.execute_input": "2021-11-02T16:40:53.662826Z",
     "iopub.status.busy": "2021-11-02T16:40:53.662036Z",
     "iopub.status.idle": "2021-11-02T16:40:53.664248Z",
     "shell.execute_reply": "2021-11-02T16:40:53.664883Z"
    },
    "slideshow": {
     "slide_type": "fragment"
    }
   },
   "outputs": [],
   "source": [
    "def traceit(frame, event, arg):\n",
    "    if event != \"call\":\n",
    "        return\n",
    "    method_name = frame.f_code.co_name\n",
    "    if method_name != \"add_argument\":\n",
    "        return\n",
    "    locals = frame.f_locals\n",
    "    print(method_name, locals)"
   ]
  },
  {
   "cell_type": "markdown",
   "metadata": {
    "slideshow": {
     "slide_type": "subslide"
    }
   },
   "source": [
    "What we get is a list of all calls to `add_argument()`, together with the method arguments passed:"
   ]
  },
  {
   "cell_type": "code",
   "execution_count": 18,
   "metadata": {
    "execution": {
     "iopub.execute_input": "2021-11-02T16:40:53.669875Z",
     "iopub.status.busy": "2021-11-02T16:40:53.669136Z",
     "iopub.status.idle": "2021-11-02T16:40:53.676101Z",
     "shell.execute_reply": "2021-11-02T16:40:53.677304Z"
    },
    "slideshow": {
     "slide_type": "fragment"
    }
   },
   "outputs": [
    {
     "name": "stdout",
     "output_type": "stream",
     "text": [
      "add_argument {'self': ArgumentParser(prog='ipykernel_launcher.py', usage=None, description='Process some integers.', formatter_class=<class 'argparse.HelpFormatter'>, conflict_handler='error', add_help=True), 'args': ('-h', '--help'), 'kwargs': {'action': 'help', 'default': '==SUPPRESS==', 'help': 'show this help message and exit'}}\n",
      "add_argument {'self': ArgumentParser(prog='ipykernel_launcher.py', usage=None, description='Process some integers.', formatter_class=<class 'argparse.HelpFormatter'>, conflict_handler='error', add_help=True), 'args': ('integers',), 'kwargs': {'metavar': 'N', 'type': <class 'int'>, 'nargs': '+', 'help': 'an integer for the accumulator'}}\n",
      "add_argument {'self': <argparse._MutuallyExclusiveGroup object at 0x10968af10>, 'args': ('--sum',), 'kwargs': {'dest': 'accumulate', 'action': 'store_const', 'const': <built-in function sum>, 'help': 'sum the integers'}}\n",
      "add_argument {'self': <argparse._MutuallyExclusiveGroup object at 0x10968af10>, 'args': ('--min',), 'kwargs': {'dest': 'accumulate', 'action': 'store_const', 'const': <built-in function min>, 'help': 'compute the minimum'}}\n",
      "add_argument {'self': <argparse._MutuallyExclusiveGroup object at 0x10968af10>, 'args': ('--max',), 'kwargs': {'dest': 'accumulate', 'action': 'store_const', 'const': <built-in function max>, 'help': 'compute the maximum'}}\n",
      "6\n"
     ]
    }
   ],
   "source": [
    "sys.settrace(traceit)\n",
    "process_numbers([\"--sum\", \"1\", \"2\", \"3\"])\n",
    "sys.settrace(None)"
   ]
  },
  {
   "cell_type": "markdown",
   "metadata": {
    "slideshow": {
     "slide_type": "subslide"
    }
   },
   "source": [
    "From the `args` argument, we can access the individual options and arguments to be defined:"
   ]
  },
  {
   "cell_type": "code",
   "execution_count": 19,
   "metadata": {
    "execution": {
     "iopub.execute_input": "2021-11-02T16:40:53.684490Z",
     "iopub.status.busy": "2021-11-02T16:40:53.683274Z",
     "iopub.status.idle": "2021-11-02T16:40:53.685684Z",
     "shell.execute_reply": "2021-11-02T16:40:53.686479Z"
    },
    "slideshow": {
     "slide_type": "fragment"
    }
   },
   "outputs": [],
   "source": [
    "def traceit(frame, event, arg):\n",
    "    if event != \"call\":\n",
    "        return\n",
    "    method_name = frame.f_code.co_name\n",
    "    if method_name != \"add_argument\":\n",
    "        return\n",
    "    locals = frame.f_locals\n",
    "    print(locals['args'])"
   ]
  },
  {
   "cell_type": "code",
   "execution_count": 20,
   "metadata": {
    "execution": {
     "iopub.execute_input": "2021-11-02T16:40:53.693753Z",
     "iopub.status.busy": "2021-11-02T16:40:53.692823Z",
     "iopub.status.idle": "2021-11-02T16:40:53.696246Z",
     "shell.execute_reply": "2021-11-02T16:40:53.696838Z"
    },
    "slideshow": {
     "slide_type": "fragment"
    }
   },
   "outputs": [
    {
     "name": "stdout",
     "output_type": "stream",
     "text": [
      "('-h', '--help')\n",
      "('integers',)\n",
      "('--sum',)\n",
      "('--min',)\n",
      "('--max',)\n",
      "6\n"
     ]
    }
   ],
   "source": [
    "sys.settrace(traceit)\n",
    "process_numbers([\"--sum\", \"1\", \"2\", \"3\"])\n",
    "sys.settrace(None)"
   ]
  },
  {
   "cell_type": "markdown",
   "metadata": {
    "slideshow": {
     "slide_type": "subslide"
    }
   },
   "source": [
    "We see that each argument comes as a tuple with one (say, `integers` or `--sum`) or two members (`-h` and `--help`), which denote alternate forms for the same option.  Our job will be to go through the arguments of `add_arguments()` and detect not only the names of options and arguments, but also whether they accept additional parameters, as well as the type of the parameters."
   ]
  },
  {
   "cell_type": "markdown",
   "metadata": {
    "slideshow": {
     "slide_type": "subslide"
    }
   },
   "source": [
    "### A Grammar Miner for Options and Arguments"
   ]
  },
  {
   "cell_type": "markdown",
   "metadata": {
    "slideshow": {
     "slide_type": "fragment"
    }
   },
   "source": [
    "Let us now build a class that gathers all this information to create a grammar."
   ]
  },
  {
   "cell_type": "markdown",
   "metadata": {
    "slideshow": {
     "slide_type": "fragment"
    }
   },
   "source": [
    "We use the `ParseInterrupt` exception to interrupt program execution after gathering all arguments and options:"
   ]
  },
  {
   "cell_type": "code",
   "execution_count": 21,
   "metadata": {
    "execution": {
     "iopub.execute_input": "2021-11-02T16:40:53.704356Z",
     "iopub.status.busy": "2021-11-02T16:40:53.703490Z",
     "iopub.status.idle": "2021-11-02T16:40:53.705654Z",
     "shell.execute_reply": "2021-11-02T16:40:53.706392Z"
    },
    "slideshow": {
     "slide_type": "fragment"
    }
   },
   "outputs": [],
   "source": [
    "class ParseInterrupt(Exception):\n",
    "    pass"
   ]
  },
  {
   "cell_type": "markdown",
   "metadata": {
    "slideshow": {
     "slide_type": "fragment"
    }
   },
   "source": [
    "The class `OptionGrammarMiner` takes an executable function for which the grammar of options and arguments is to be mined:"
   ]
  },
  {
   "cell_type": "code",
   "execution_count": 22,
   "metadata": {
    "execution": {
     "iopub.execute_input": "2021-11-02T16:40:53.711992Z",
     "iopub.status.busy": "2021-11-02T16:40:53.710990Z",
     "iopub.status.idle": "2021-11-02T16:40:53.713252Z",
     "shell.execute_reply": "2021-11-02T16:40:53.713800Z"
    },
    "slideshow": {
     "slide_type": "fragment"
    }
   },
   "outputs": [],
   "source": [
    "class OptionGrammarMiner(object):\n",
    "    def __init__(self, function, log=False):\n",
    "        self.function = function\n",
    "        self.log = log"
   ]
  },
  {
   "cell_type": "markdown",
   "metadata": {
    "slideshow": {
     "slide_type": "subslide"
    }
   },
   "source": [
    "The method `mine_ebnf_grammar()` is where everything happens.  It creates a grammar of the form\n",
    "\n",
    "```\n",
    "<start> ::= <option>* <arguments>\n",
    "<option> ::= <empty>\n",
    "<arguments> ::= <empty>\n",
    "```\n",
    "\n",
    "in which the options and arguments will be collected.  It then sets a trace function (see [our chapter on coverage](Coverage.ipynb) for details) that is active while the previously defined `function` is invoked.  Raising `ParseInterrupt` (when `parse_args()` is invoked) ends execution."
   ]
  },
  {
   "cell_type": "code",
   "execution_count": 23,
   "metadata": {
    "execution": {
     "iopub.execute_input": "2021-11-02T16:40:53.721650Z",
     "iopub.status.busy": "2021-11-02T16:40:53.720884Z",
     "iopub.status.idle": "2021-11-02T16:40:53.723069Z",
     "shell.execute_reply": "2021-11-02T16:40:53.723614Z"
    },
    "slideshow": {
     "slide_type": "subslide"
    }
   },
   "outputs": [],
   "source": [
    "class OptionGrammarMiner(OptionGrammarMiner):\n",
    "    OPTION_SYMBOL = \"<option>\"\n",
    "    ARGUMENTS_SYMBOL = \"<arguments>\"\n",
    "\n",
    "    def mine_ebnf_grammar(self):\n",
    "        self.grammar = {\n",
    "            START_SYMBOL: [\"(\" + self.OPTION_SYMBOL + \")*\" + self.ARGUMENTS_SYMBOL],\n",
    "            self.OPTION_SYMBOL: [],\n",
    "            self.ARGUMENTS_SYMBOL: []\n",
    "        }\n",
    "        self.current_group = self.OPTION_SYMBOL\n",
    "\n",
    "        old_trace = sys.gettrace()\n",
    "        sys.settrace(self.traceit)\n",
    "        try:\n",
    "            self.function()\n",
    "        except ParseInterrupt:\n",
    "            pass\n",
    "        sys.settrace(old_trace)\n",
    "\n",
    "        return self.grammar\n",
    "\n",
    "    def mine_grammar(self):\n",
    "        return convert_ebnf_grammar(self.mine_ebnf_grammar())"
   ]
  },
  {
   "cell_type": "markdown",
   "metadata": {
    "slideshow": {
     "slide_type": "subslide"
    }
   },
   "source": [
    "The trace function checks for four methods: `add_argument()` is the most important function, resulting in processing arguments; `frame.f_locals` again is the set of local variables, which at this point is mostly the arguments to `add_argument()`.  Since mutually exclusive groups also have a method `add_argument()`, we set the flag `in_group` to differentiate."
   ]
  },
  {
   "cell_type": "markdown",
   "metadata": {
    "slideshow": {
     "slide_type": "fragment"
    }
   },
   "source": [
    "Note that we make no specific efforts to differentiate between multiple parsers or groups; we simply assume that there is one parser, and at any point at most one mutually exclusive group."
   ]
  },
  {
   "cell_type": "code",
   "execution_count": 24,
   "metadata": {
    "execution": {
     "iopub.execute_input": "2021-11-02T16:40:53.731582Z",
     "iopub.status.busy": "2021-11-02T16:40:53.730815Z",
     "iopub.status.idle": "2021-11-02T16:40:53.732973Z",
     "shell.execute_reply": "2021-11-02T16:40:53.733513Z"
    },
    "slideshow": {
     "slide_type": "subslide"
    }
   },
   "outputs": [],
   "source": [
    "class OptionGrammarMiner(OptionGrammarMiner):\n",
    "    def traceit(self, frame, event, arg):\n",
    "        if event != \"call\":\n",
    "            return\n",
    "\n",
    "        if \"self\" not in frame.f_locals:\n",
    "            return\n",
    "        self_var = frame.f_locals[\"self\"]\n",
    "\n",
    "        method_name = frame.f_code.co_name\n",
    "\n",
    "        if method_name == \"add_argument\":\n",
    "            in_group = repr(type(self_var)).find(\"Group\") >= 0\n",
    "            self.process_argument(frame.f_locals, in_group)\n",
    "        elif method_name == \"add_mutually_exclusive_group\":\n",
    "            self.add_group(frame.f_locals, exclusive=True)\n",
    "        elif method_name == \"add_argument_group\":\n",
    "            # self.add_group(frame.f_locals, exclusive=False)\n",
    "            pass\n",
    "        elif method_name == \"parse_args\":\n",
    "            raise ParseInterrupt\n",
    "\n",
    "        return None"
   ]
  },
  {
   "cell_type": "markdown",
   "metadata": {
    "slideshow": {
     "slide_type": "subslide"
    }
   },
   "source": [
    "The `process_arguments()` now analyzes the arguments passed and adds them to the grammar:\n",
    "\n",
    "* If the argument starts with `-`, it gets added as an optional element to the `<option>` list\n",
    "* Otherwise, it gets added to the `<argument>` list.\n",
    "\n",
    "The optional `nargs` argument specifies how many arguments can follow.  If it is a number, we add the appropriate number of elements to the grammar; if it is an abstract specifier (say, `+` or `*`), we use it directly as EBNF operator.\n",
    "\n",
    "Given the large number of parameters and optional behavior, this is a somewhat messy function, but it does the job."
   ]
  },
  {
   "cell_type": "code",
   "execution_count": 25,
   "metadata": {
    "execution": {
     "iopub.execute_input": "2021-11-02T16:40:53.739726Z",
     "iopub.status.busy": "2021-11-02T16:40:53.738984Z",
     "iopub.status.idle": "2021-11-02T16:40:53.741303Z",
     "shell.execute_reply": "2021-11-02T16:40:53.742044Z"
    },
    "slideshow": {
     "slide_type": "subslide"
    }
   },
   "outputs": [],
   "source": [
    "class OptionGrammarMiner(OptionGrammarMiner):\n",
    "    def process_argument(self, locals, in_group):\n",
    "        args = locals[\"args\"]\n",
    "        kwargs = locals[\"kwargs\"]\n",
    "\n",
    "        if self.log:\n",
    "            print(args)\n",
    "            print(kwargs)\n",
    "            print()\n",
    "\n",
    "        for arg in args:\n",
    "            self.process_arg(arg, in_group, kwargs)"
   ]
  },
  {
   "cell_type": "code",
   "execution_count": 26,
   "metadata": {
    "execution": {
     "iopub.execute_input": "2021-11-02T16:40:53.753095Z",
     "iopub.status.busy": "2021-11-02T16:40:53.751760Z",
     "iopub.status.idle": "2021-11-02T16:40:53.754748Z",
     "shell.execute_reply": "2021-11-02T16:40:53.755479Z"
    },
    "slideshow": {
     "slide_type": "subslide"
    }
   },
   "outputs": [],
   "source": [
    "class OptionGrammarMiner(OptionGrammarMiner):\n",
    "    def process_arg(self, arg, in_group, kwargs):\n",
    "        if arg.startswith('-'):\n",
    "            if not in_group:\n",
    "                target = self.OPTION_SYMBOL\n",
    "            else:\n",
    "                target = self.current_group\n",
    "            metavar = None\n",
    "            arg = \" \" + arg\n",
    "        else:\n",
    "            target = self.ARGUMENTS_SYMBOL\n",
    "            metavar = arg\n",
    "            arg = \"\"\n",
    "\n",
    "        if \"nargs\" in kwargs:\n",
    "            nargs = kwargs[\"nargs\"]\n",
    "        else:\n",
    "            nargs = 1\n",
    "\n",
    "        param = self.add_parameter(kwargs, metavar)\n",
    "        if param == \"\":\n",
    "            nargs = 0\n",
    "\n",
    "        if isinstance(nargs, int):\n",
    "            for i in range(nargs):\n",
    "                arg += param\n",
    "        else:\n",
    "            assert nargs in \"?+*\"\n",
    "            arg += '(' + param + ')' + nargs\n",
    "\n",
    "        if target == self.OPTION_SYMBOL:\n",
    "            self.grammar[target].append(arg)\n",
    "        else:\n",
    "            self.grammar[target].append(arg)"
   ]
  },
  {
   "cell_type": "markdown",
   "metadata": {
    "slideshow": {
     "slide_type": "subslide"
    }
   },
   "source": [
    "The method `add_parameter()` handles possible parameters of options.  If the argument has an `action` defined, it takes no parameter.  Otherwise, we identify the type of the parameter (as `int` or `str`) and augment the grammar with an appropriate rule."
   ]
  },
  {
   "cell_type": "code",
   "execution_count": 27,
   "metadata": {
    "execution": {
     "iopub.execute_input": "2021-11-02T16:40:53.760774Z",
     "iopub.status.busy": "2021-11-02T16:40:53.760048Z",
     "iopub.status.idle": "2021-11-02T16:40:53.762475Z",
     "shell.execute_reply": "2021-11-02T16:40:53.763068Z"
    },
    "slideshow": {
     "slide_type": "skip"
    }
   },
   "outputs": [],
   "source": [
    "import inspect"
   ]
  },
  {
   "cell_type": "code",
   "execution_count": 28,
   "metadata": {
    "execution": {
     "iopub.execute_input": "2021-11-02T16:40:53.770261Z",
     "iopub.status.busy": "2021-11-02T16:40:53.769504Z",
     "iopub.status.idle": "2021-11-02T16:40:53.771678Z",
     "shell.execute_reply": "2021-11-02T16:40:53.772455Z"
    },
    "slideshow": {
     "slide_type": "subslide"
    }
   },
   "outputs": [],
   "source": [
    "class OptionGrammarMiner(OptionGrammarMiner):\n",
    "    def add_parameter(self, kwargs, metavar):\n",
    "        if \"action\" in kwargs:\n",
    "            # No parameter\n",
    "            return \"\"\n",
    "\n",
    "        type_ = \"str\"\n",
    "        if \"type\" in kwargs:\n",
    "            given_type = kwargs[\"type\"]\n",
    "            # int types come as '<class int>'\n",
    "            if inspect.isclass(given_type) and issubclass(given_type, int):\n",
    "                type_ = \"int\"\n",
    "\n",
    "        if metavar is None:\n",
    "            if \"metavar\" in kwargs:\n",
    "                metavar = kwargs[\"metavar\"]\n",
    "            else:\n",
    "                metavar = type_\n",
    "\n",
    "        self.add_type_rule(type_)\n",
    "        if metavar != type_:\n",
    "            self.add_metavar_rule(metavar, type_)\n",
    "\n",
    "        param = \" <\" + metavar + \">\"\n",
    "\n",
    "        return param"
   ]
  },
  {
   "cell_type": "markdown",
   "metadata": {
    "slideshow": {
     "slide_type": "subslide"
    }
   },
   "source": [
    "The method `add_type_rule()` adds a rule for parameter types to the grammar.  If the parameter is identified by a meta-variable (say, `N`), we add a rule for this as well to improve legibility."
   ]
  },
  {
   "cell_type": "code",
   "execution_count": 29,
   "metadata": {
    "execution": {
     "iopub.execute_input": "2021-11-02T16:40:53.780095Z",
     "iopub.status.busy": "2021-11-02T16:40:53.779145Z",
     "iopub.status.idle": "2021-11-02T16:40:53.781577Z",
     "shell.execute_reply": "2021-11-02T16:40:53.782122Z"
    },
    "slideshow": {
     "slide_type": "fragment"
    }
   },
   "outputs": [],
   "source": [
    "class OptionGrammarMiner(OptionGrammarMiner):\n",
    "    def add_type_rule(self, type_):\n",
    "        if type_ == \"int\":\n",
    "            self.add_int_rule()\n",
    "        else:\n",
    "            self.add_str_rule()\n",
    "\n",
    "    def add_int_rule(self):\n",
    "        self.grammar[\"<int>\"] = [\"(-)?<digit>+\"]\n",
    "        self.grammar[\"<digit>\"] = crange('0', '9')\n",
    "\n",
    "    def add_str_rule(self):\n",
    "        self.grammar[\"<str>\"] = [\"<char>+\"]\n",
    "        self.grammar[\"<char>\"] = srange(\n",
    "            string.digits\n",
    "            + string.ascii_letters\n",
    "            + string.punctuation)\n",
    "\n",
    "    def add_metavar_rule(self, metavar, type_):\n",
    "        self.grammar[\"<\" + metavar + \">\"] = [\"<\" + type_ + \">\"]"
   ]
  },
  {
   "cell_type": "markdown",
   "metadata": {
    "slideshow": {
     "slide_type": "subslide"
    }
   },
   "source": [
    "The method `add_group()` adds a new mutually exclusive group to the grammar.  We define a new symbol (say, `<group>`) for the options added to the group, and use the `required` and `exclusive` flags to define an appropriate expansion operator.  The group is then prefixed to the grammar, as in\n",
    "\n",
    "```\n",
    "<start> ::= <group><option>* <arguments>\n",
    "<group> ::= <empty>\n",
    "```\n",
    "\n",
    "and filled with the next calls to `add_argument()` within the group."
   ]
  },
  {
   "cell_type": "code",
   "execution_count": 30,
   "metadata": {
    "execution": {
     "iopub.execute_input": "2021-11-02T16:40:53.789761Z",
     "iopub.status.busy": "2021-11-02T16:40:53.788989Z",
     "iopub.status.idle": "2021-11-02T16:40:53.791294Z",
     "shell.execute_reply": "2021-11-02T16:40:53.791827Z"
    },
    "slideshow": {
     "slide_type": "subslide"
    }
   },
   "outputs": [],
   "source": [
    "class OptionGrammarMiner(OptionGrammarMiner):\n",
    "    def add_group(self, locals, exclusive):\n",
    "        kwargs = locals[\"kwargs\"]\n",
    "        if self.log:\n",
    "            print(kwargs)\n",
    "\n",
    "        required = kwargs.get(\"required\", False)\n",
    "        group = new_symbol(self.grammar, \"<group>\")\n",
    "\n",
    "        if required and exclusive:\n",
    "            group_expansion = group\n",
    "        if required and not exclusive:\n",
    "            group_expansion = group + \"+\"\n",
    "        if not required and exclusive:\n",
    "            group_expansion = group + \"?\"\n",
    "        if not required and not exclusive:\n",
    "            group_expansion = group + \"*\"\n",
    "\n",
    "        self.grammar[START_SYMBOL][0] = group_expansion + \\\n",
    "            self.grammar[START_SYMBOL][0]\n",
    "        self.grammar[group] = []\n",
    "        self.current_group = group"
   ]
  },
  {
   "cell_type": "markdown",
   "metadata": {
    "slideshow": {
     "slide_type": "subslide"
    }
   },
   "source": [
    "That's it!  With this, we can now extract the grammar from our `process_numbers()` program.  Turning on logging again reveals the variables we draw upon."
   ]
  },
  {
   "cell_type": "code",
   "execution_count": 31,
   "metadata": {
    "execution": {
     "iopub.execute_input": "2021-11-02T16:40:53.796997Z",
     "iopub.status.busy": "2021-11-02T16:40:53.796220Z",
     "iopub.status.idle": "2021-11-02T16:40:53.800279Z",
     "shell.execute_reply": "2021-11-02T16:40:53.801092Z"
    },
    "slideshow": {
     "slide_type": "subslide"
    }
   },
   "outputs": [
    {
     "name": "stdout",
     "output_type": "stream",
     "text": [
      "('-h', '--help')\n",
      "{'action': 'help', 'default': '==SUPPRESS==', 'help': 'show this help message and exit'}\n",
      "\n",
      "('integers',)\n",
      "{'metavar': 'N', 'type': <class 'int'>, 'nargs': '+', 'help': 'an integer for the accumulator'}\n",
      "\n",
      "{'required': True}\n",
      "('--sum',)\n",
      "{'dest': 'accumulate', 'action': 'store_const', 'const': <built-in function sum>, 'help': 'sum the integers'}\n",
      "\n",
      "('--min',)\n",
      "{'dest': 'accumulate', 'action': 'store_const', 'const': <built-in function min>, 'help': 'compute the minimum'}\n",
      "\n",
      "('--max',)\n",
      "{'dest': 'accumulate', 'action': 'store_const', 'const': <built-in function max>, 'help': 'compute the maximum'}\n",
      "\n"
     ]
    }
   ],
   "source": [
    "miner = OptionGrammarMiner(process_numbers, log=True)\n",
    "process_numbers_grammar = miner.mine_ebnf_grammar()"
   ]
  },
  {
   "cell_type": "markdown",
   "metadata": {
    "slideshow": {
     "slide_type": "subslide"
    }
   },
   "source": [
    "Here is the extracted grammar:"
   ]
  },
  {
   "cell_type": "code",
   "execution_count": 32,
   "metadata": {
    "execution": {
     "iopub.execute_input": "2021-11-02T16:40:53.808704Z",
     "iopub.status.busy": "2021-11-02T16:40:53.807844Z",
     "iopub.status.idle": "2021-11-02T16:40:53.812531Z",
     "shell.execute_reply": "2021-11-02T16:40:53.813088Z"
    },
    "slideshow": {
     "slide_type": "fragment"
    }
   },
   "outputs": [
    {
     "data": {
      "text/plain": [
       "{'<start>': ['<group>(<option>)*<arguments>'],\n",
       " '<option>': [' -h', ' --help'],\n",
       " '<arguments>': ['( <integers>)+'],\n",
       " '<int>': ['(-)?<digit>+'],\n",
       " '<digit>': ['0', '1', '2', '3', '4', '5', '6', '7', '8', '9'],\n",
       " '<integers>': ['<int>'],\n",
       " '<group>': [' --sum', ' --min', ' --max']}"
      ]
     },
     "execution_count": 32,
     "metadata": {},
     "output_type": "execute_result"
    }
   ],
   "source": [
    "process_numbers_grammar"
   ]
  },
  {
   "cell_type": "markdown",
   "metadata": {
    "slideshow": {
     "slide_type": "subslide"
    }
   },
   "source": [
    "The grammar properly identifies the group found:"
   ]
  },
  {
   "cell_type": "code",
   "execution_count": 33,
   "metadata": {
    "execution": {
     "iopub.execute_input": "2021-11-02T16:40:53.818309Z",
     "iopub.status.busy": "2021-11-02T16:40:53.817443Z",
     "iopub.status.idle": "2021-11-02T16:40:53.820786Z",
     "shell.execute_reply": "2021-11-02T16:40:53.821324Z"
    },
    "slideshow": {
     "slide_type": "fragment"
    }
   },
   "outputs": [
    {
     "data": {
      "text/plain": [
       "['<group>(<option>)*<arguments>']"
      ]
     },
     "execution_count": 33,
     "metadata": {},
     "output_type": "execute_result"
    }
   ],
   "source": [
    "process_numbers_grammar[\"<start>\"]"
   ]
  },
  {
   "cell_type": "code",
   "execution_count": 34,
   "metadata": {
    "execution": {
     "iopub.execute_input": "2021-11-02T16:40:53.826065Z",
     "iopub.status.busy": "2021-11-02T16:40:53.825303Z",
     "iopub.status.idle": "2021-11-02T16:40:53.828360Z",
     "shell.execute_reply": "2021-11-02T16:40:53.828899Z"
    },
    "slideshow": {
     "slide_type": "fragment"
    }
   },
   "outputs": [
    {
     "data": {
      "text/plain": [
       "[' --sum', ' --min', ' --max']"
      ]
     },
     "execution_count": 34,
     "metadata": {},
     "output_type": "execute_result"
    }
   ],
   "source": [
    "process_numbers_grammar[\"<group>\"]"
   ]
  },
  {
   "cell_type": "markdown",
   "metadata": {
    "slideshow": {
     "slide_type": "fragment"
    }
   },
   "source": [
    "It also identifies a `--help` option provided not by us, but by the `argparse` module:"
   ]
  },
  {
   "cell_type": "code",
   "execution_count": 35,
   "metadata": {
    "execution": {
     "iopub.execute_input": "2021-11-02T16:40:53.833827Z",
     "iopub.status.busy": "2021-11-02T16:40:53.833092Z",
     "iopub.status.idle": "2021-11-02T16:40:53.836289Z",
     "shell.execute_reply": "2021-11-02T16:40:53.836821Z"
    },
    "slideshow": {
     "slide_type": "fragment"
    }
   },
   "outputs": [
    {
     "data": {
      "text/plain": [
       "[' -h', ' --help']"
      ]
     },
     "execution_count": 35,
     "metadata": {},
     "output_type": "execute_result"
    }
   ],
   "source": [
    "process_numbers_grammar[\"<option>\"]"
   ]
  },
  {
   "cell_type": "markdown",
   "metadata": {
    "slideshow": {
     "slide_type": "subslide"
    }
   },
   "source": [
    "The grammar also correctly identifies the types of the arguments:"
   ]
  },
  {
   "cell_type": "code",
   "execution_count": 36,
   "metadata": {
    "execution": {
     "iopub.execute_input": "2021-11-02T16:40:53.841575Z",
     "iopub.status.busy": "2021-11-02T16:40:53.840803Z",
     "iopub.status.idle": "2021-11-02T16:40:53.843828Z",
     "shell.execute_reply": "2021-11-02T16:40:53.844354Z"
    },
    "slideshow": {
     "slide_type": "fragment"
    }
   },
   "outputs": [
    {
     "data": {
      "text/plain": [
       "['( <integers>)+']"
      ]
     },
     "execution_count": 36,
     "metadata": {},
     "output_type": "execute_result"
    }
   ],
   "source": [
    "process_numbers_grammar[\"<arguments>\"]"
   ]
  },
  {
   "cell_type": "code",
   "execution_count": 37,
   "metadata": {
    "execution": {
     "iopub.execute_input": "2021-11-02T16:40:53.849168Z",
     "iopub.status.busy": "2021-11-02T16:40:53.848321Z",
     "iopub.status.idle": "2021-11-02T16:40:53.852057Z",
     "shell.execute_reply": "2021-11-02T16:40:53.852719Z"
    },
    "slideshow": {
     "slide_type": "fragment"
    }
   },
   "outputs": [
    {
     "data": {
      "text/plain": [
       "['<int>']"
      ]
     },
     "execution_count": 37,
     "metadata": {},
     "output_type": "execute_result"
    }
   ],
   "source": [
    "process_numbers_grammar[\"<integers>\"]"
   ]
  },
  {
   "cell_type": "markdown",
   "metadata": {
    "slideshow": {
     "slide_type": "fragment"
    }
   },
   "source": [
    "The rules for `int` are set as defined by `add_int_rule()`"
   ]
  },
  {
   "cell_type": "code",
   "execution_count": 38,
   "metadata": {
    "execution": {
     "iopub.execute_input": "2021-11-02T16:40:53.858062Z",
     "iopub.status.busy": "2021-11-02T16:40:53.857138Z",
     "iopub.status.idle": "2021-11-02T16:40:53.860655Z",
     "shell.execute_reply": "2021-11-02T16:40:53.861195Z"
    },
    "slideshow": {
     "slide_type": "fragment"
    }
   },
   "outputs": [
    {
     "data": {
      "text/plain": [
       "['(-)?<digit>+']"
      ]
     },
     "execution_count": 38,
     "metadata": {},
     "output_type": "execute_result"
    }
   ],
   "source": [
    "process_numbers_grammar[\"<int>\"]"
   ]
  },
  {
   "cell_type": "markdown",
   "metadata": {
    "slideshow": {
     "slide_type": "subslide"
    }
   },
   "source": [
    "We can take this grammar and convert it to BNF, such that we can fuzz with it right away:"
   ]
  },
  {
   "cell_type": "code",
   "execution_count": 39,
   "metadata": {
    "execution": {
     "iopub.execute_input": "2021-11-02T16:40:53.866204Z",
     "iopub.status.busy": "2021-11-02T16:40:53.865292Z",
     "iopub.status.idle": "2021-11-02T16:40:53.868204Z",
     "shell.execute_reply": "2021-11-02T16:40:53.867648Z"
    },
    "slideshow": {
     "slide_type": "fragment"
    }
   },
   "outputs": [],
   "source": [
    "assert is_valid_grammar(process_numbers_grammar)"
   ]
  },
  {
   "cell_type": "code",
   "execution_count": 40,
   "metadata": {
    "execution": {
     "iopub.execute_input": "2021-11-02T16:40:53.873053Z",
     "iopub.status.busy": "2021-11-02T16:40:53.872332Z",
     "iopub.status.idle": "2021-11-02T16:40:53.874556Z",
     "shell.execute_reply": "2021-11-02T16:40:53.875087Z"
    },
    "slideshow": {
     "slide_type": "fragment"
    }
   },
   "outputs": [],
   "source": [
    "grammar = convert_ebnf_grammar(process_numbers_grammar)\n",
    "assert is_valid_grammar(grammar)"
   ]
  },
  {
   "cell_type": "code",
   "execution_count": 41,
   "metadata": {
    "execution": {
     "iopub.execute_input": "2021-11-02T16:40:53.916204Z",
     "iopub.status.busy": "2021-11-02T16:40:53.884682Z",
     "iopub.status.idle": "2021-11-02T16:40:54.085951Z",
     "shell.execute_reply": "2021-11-02T16:40:54.086571Z"
    },
    "slideshow": {
     "slide_type": "fragment"
    }
   },
   "outputs": [
    {
     "name": "stdout",
     "output_type": "stream",
     "text": [
      " --sum 9\n",
      " --max -h --help --help -16 -0\n",
      " --min --help 2745341 8\n",
      " --min 1 27\n",
      " --sum --help --help -2\n",
      " --sum --help 0 3 -77\n",
      " --sum -3\n",
      " --sum --help 429 8 10 0295 -694 1\n",
      " --max -h 91 -1425 99\n",
      " --sum -795 -94 8 -44\n"
     ]
    }
   ],
   "source": [
    "f = GrammarCoverageFuzzer(grammar)\n",
    "for i in range(10):\n",
    "    print(f.fuzz())"
   ]
  },
  {
   "cell_type": "markdown",
   "metadata": {
    "slideshow": {
     "slide_type": "fragment"
    }
   },
   "source": [
    "Each and every invocation adheres to the rules as set forth in the `argparse` calls.  By mining options and arguments from existing programs, we can now fuzz these options out of the box – without having to specify a grammar."
   ]
  },
  {
   "cell_type": "markdown",
   "metadata": {
    "slideshow": {
     "slide_type": "slide"
    },
    "toc-hr-collapsed": true
   },
   "source": [
    "## Testing Autopep8"
   ]
  },
  {
   "cell_type": "markdown",
   "metadata": {
    "slideshow": {
     "slide_type": "fragment"
    }
   },
   "source": [
    "Let us try out the option grammar miner on real-world Python programs.  `autopep8` is a tool that automatically converts Python code to the [PEP 8 Style Guide for Python Code](https://www.python.org/dev/peps/pep-0008/).  (Actually, all Python code in this book runs through `autopep8` during production.)  `autopep8` offers a wide range of options, as can be seen by invoking it with `--help`:"
   ]
  },
  {
   "cell_type": "code",
   "execution_count": 42,
   "metadata": {
    "execution": {
     "iopub.execute_input": "2021-11-02T16:40:54.091653Z",
     "iopub.status.busy": "2021-11-02T16:40:54.090924Z",
     "iopub.status.idle": "2021-11-02T16:40:54.371880Z",
     "shell.execute_reply": "2021-11-02T16:40:54.372594Z"
    },
    "slideshow": {
     "slide_type": "subslide"
    }
   },
   "outputs": [
    {
     "name": "stdout",
     "output_type": "stream",
     "text": [
      "usage: autopep8 [-h] [--version] [-v] [-d] [-i] [--global-config filename]\r\n",
      "                [--ignore-local-config] [-r] [-j n] [-p n] [-a]\r\n",
      "                [--experimental] [--exclude globs] [--list-fixes]\r\n",
      "                [--ignore errors] [--select errors] [--max-line-length n]\r\n",
      "                [--line-range line line] [--hang-closing] [--exit-code]\r\n",
      "                [files ...]\r\n",
      "\r\n",
      "Automatically formats Python code to conform to the PEP 8 style guide.\r\n",
      "\r\n",
      "positional arguments:\r\n",
      "  files                 files to format or '-' for standard in\r\n",
      "\r\n",
      "optional arguments:\r\n",
      "  -h, --help            show this help message and exit\r\n",
      "  --version             show program's version number and exit\r\n",
      "  -v, --verbose         print verbose messages; multiple -v result in more\r\n",
      "                        verbose messages\r\n",
      "  -d, --diff            print the diff for the fixed source\r\n",
      "  -i, --in-place        make changes to files in place\r\n",
      "  --global-config filename\r\n",
      "                        path to a global pep8 config file; if this file does\r\n",
      "                        not exist then this is ignored (default:\r\n",
      "                        /Users/zeller/.config/pep8)\r\n",
      "  --ignore-local-config\r\n",
      "                        don't look for and apply local config files; if not\r\n",
      "                        passed, defaults are updated with any config files in\r\n",
      "                        the project's root directory\r\n",
      "  -r, --recursive       run recursively over directories; must be used with\r\n",
      "                        --in-place or --diff\r\n",
      "  -j n, --jobs n        number of parallel jobs; match CPU count if value is\r\n",
      "                        less than 1\r\n",
      "  -p n, --pep8-passes n\r\n",
      "                        maximum number of additional pep8 passes (default:\r\n",
      "                        infinite)\r\n",
      "  -a, --aggressive      enable non-whitespace changes; multiple -a result in\r\n",
      "                        more aggressive changes\r\n",
      "  --experimental        enable experimental fixes\r\n",
      "  --exclude globs       exclude file/directory names that match these comma-\r\n",
      "                        separated globs\r\n",
      "  --list-fixes          list codes for fixes; used by --ignore and --select\r\n",
      "  --ignore errors       do not fix these errors/warnings (default:\r\n",
      "                        E226,E24,W50,W690)\r\n",
      "  --select errors       fix only these errors/warnings (e.g. E4,W)\r\n",
      "  --max-line-length n   set maximum allowed line length (default: 79)\r\n",
      "  --line-range line line, --range line line\r\n",
      "                        only fix errors found within this inclusive range of\r\n",
      "                        line numbers (e.g. 1 99); line numbers are indexed at\r\n",
      "                        1\r\n",
      "  --hang-closing        hang-closing option passed to pycodestyle\r\n",
      "  --exit-code           change to behavior of exit code. default behavior of\r\n",
      "                        return value, 0 is no differences, 1 is error exit.\r\n",
      "                        return 2 when add this option. 2 is exists\r\n",
      "                        differences.\r\n"
     ]
    }
   ],
   "source": [
    "!autopep8 --help"
   ]
  },
  {
   "cell_type": "markdown",
   "metadata": {
    "slideshow": {
     "slide_type": "subslide"
    }
   },
   "source": [
    "### Autopep8 Setup\n",
    "\n",
    "We want to systematically test these options.  In order to deploy our configuration grammar miner, we need to find the source code of the executable:"
   ]
  },
  {
   "cell_type": "code",
   "execution_count": 43,
   "metadata": {
    "execution": {
     "iopub.execute_input": "2021-11-02T16:40:54.378147Z",
     "iopub.status.busy": "2021-11-02T16:40:54.377431Z",
     "iopub.status.idle": "2021-11-02T16:40:54.379831Z",
     "shell.execute_reply": "2021-11-02T16:40:54.380531Z"
    },
    "slideshow": {
     "slide_type": "skip"
    }
   },
   "outputs": [],
   "source": [
    "import os"
   ]
  },
  {
   "cell_type": "code",
   "execution_count": 44,
   "metadata": {
    "execution": {
     "iopub.execute_input": "2021-11-02T16:40:54.386091Z",
     "iopub.status.busy": "2021-11-02T16:40:54.385354Z",
     "iopub.status.idle": "2021-11-02T16:40:54.387965Z",
     "shell.execute_reply": "2021-11-02T16:40:54.387187Z"
    },
    "slideshow": {
     "slide_type": "fragment"
    }
   },
   "outputs": [],
   "source": [
    "def find_executable(name):\n",
    "    for path in os.get_exec_path():\n",
    "        qualified_name = os.path.join(path, name)\n",
    "        if os.path.exists(qualified_name):\n",
    "            return qualified_name\n",
    "    return None"
   ]
  },
  {
   "cell_type": "code",
   "execution_count": 45,
   "metadata": {
    "execution": {
     "iopub.execute_input": "2021-11-02T16:40:54.394036Z",
     "iopub.status.busy": "2021-11-02T16:40:54.393209Z",
     "iopub.status.idle": "2021-11-02T16:40:54.396312Z",
     "shell.execute_reply": "2021-11-02T16:40:54.396842Z"
    },
    "slideshow": {
     "slide_type": "fragment"
    }
   },
   "outputs": [
    {
     "data": {
      "text/plain": [
       "'/Users/zeller/.pyenv/versions/3.9.7/bin/autopep8'"
      ]
     },
     "execution_count": 45,
     "metadata": {},
     "output_type": "execute_result"
    }
   ],
   "source": [
    "autopep8_executable = find_executable(\"autopep8\")\n",
    "assert autopep8_executable is not None\n",
    "autopep8_executable"
   ]
  },
  {
   "cell_type": "markdown",
   "metadata": {
    "slideshow": {
     "slide_type": "subslide"
    }
   },
   "source": [
    "Next, we build a function that reads the contents of the file and executes it."
   ]
  },
  {
   "cell_type": "code",
   "execution_count": 46,
   "metadata": {
    "execution": {
     "iopub.execute_input": "2021-11-02T16:40:54.402465Z",
     "iopub.status.busy": "2021-11-02T16:40:54.401722Z",
     "iopub.status.idle": "2021-11-02T16:40:54.404025Z",
     "shell.execute_reply": "2021-11-02T16:40:54.404564Z"
    },
    "slideshow": {
     "slide_type": "fragment"
    }
   },
   "outputs": [],
   "source": [
    "def autopep8():\n",
    "    executable = find_executable(\"autopep8\")\n",
    "\n",
    "    # First line has to contain \"/usr/bin/env python\" or like\n",
    "    first_line = open(executable).readline()\n",
    "    assert first_line.find(\"python\") >= 0\n",
    "\n",
    "    contents = open(executable).read()\n",
    "    exec(contents)"
   ]
  },
  {
   "cell_type": "markdown",
   "metadata": {
    "slideshow": {
     "slide_type": "subslide"
    }
   },
   "source": [
    "### Mining an Autopep8 Grammar\n",
    "\n",
    "We can use the `autopep8()` function in our grammar miner:"
   ]
  },
  {
   "cell_type": "code",
   "execution_count": 47,
   "metadata": {
    "execution": {
     "iopub.execute_input": "2021-11-02T16:40:54.408905Z",
     "iopub.status.busy": "2021-11-02T16:40:54.408193Z",
     "iopub.status.idle": "2021-11-02T16:40:54.410412Z",
     "shell.execute_reply": "2021-11-02T16:40:54.411000Z"
    },
    "slideshow": {
     "slide_type": "fragment"
    }
   },
   "outputs": [],
   "source": [
    "autopep8_miner = OptionGrammarMiner(autopep8)"
   ]
  },
  {
   "cell_type": "markdown",
   "metadata": {
    "slideshow": {
     "slide_type": "fragment"
    }
   },
   "source": [
    "and extract a grammar for it:"
   ]
  },
  {
   "cell_type": "code",
   "execution_count": 48,
   "metadata": {
    "execution": {
     "iopub.execute_input": "2021-11-02T16:40:54.415238Z",
     "iopub.status.busy": "2021-11-02T16:40:54.414482Z",
     "iopub.status.idle": "2021-11-02T16:40:54.454972Z",
     "shell.execute_reply": "2021-11-02T16:40:54.455665Z"
    },
    "slideshow": {
     "slide_type": "fragment"
    }
   },
   "outputs": [],
   "source": [
    "autopep8_ebnf_grammar = autopep8_miner.mine_ebnf_grammar()"
   ]
  },
  {
   "cell_type": "markdown",
   "metadata": {
    "slideshow": {
     "slide_type": "fragment"
    }
   },
   "source": [
    "This works because here, `autopep8` is not a separate process (and a separate Python interpreter), but we run the `autopep8()` function (and the `autopep8` code) in our current Python interpreter – up to the call to `parse_args()`, where we interrupt execution again.  At this point, the `autopep8` code has done nothing but setting up the argument parser – which is what we are interested in."
   ]
  },
  {
   "cell_type": "markdown",
   "metadata": {
    "slideshow": {
     "slide_type": "subslide"
    }
   },
   "source": [
    "The grammar options mined reflect precisely the options seen when providing `--help`:"
   ]
  },
  {
   "cell_type": "code",
   "execution_count": 49,
   "metadata": {
    "execution": {
     "iopub.execute_input": "2021-11-02T16:40:54.460616Z",
     "iopub.status.busy": "2021-11-02T16:40:54.459784Z",
     "iopub.status.idle": "2021-11-02T16:40:54.462960Z",
     "shell.execute_reply": "2021-11-02T16:40:54.463539Z"
    },
    "slideshow": {
     "slide_type": "fragment"
    }
   },
   "outputs": [
    {
     "name": "stdout",
     "output_type": "stream",
     "text": [
      "[' -h', ' --help', ' --version', ' -v', ' --verbose', ' -d', ' --diff', ' -i', ' --in-place', ' --global-config <filename>', ' --ignore-local-config', ' -r', ' --recursive', ' -j <n>', ' --jobs <n>', ' -p <n>', ' --pep8-passes <n>', ' -a', ' --aggressive', ' --experimental', ' --exclude <globs>', ' --list-fixes', ' --ignore <errors>', ' --select <errors>', ' --max-line-length <n>', ' --line-range <line> <line>', ' --range <line> <line>', ' --indent-size <int>', ' --hang-closing', ' --exit-code']\n"
     ]
    }
   ],
   "source": [
    "print(autopep8_ebnf_grammar[\"<option>\"])"
   ]
  },
  {
   "cell_type": "markdown",
   "metadata": {
    "slideshow": {
     "slide_type": "subslide"
    }
   },
   "source": [
    "Metavariables like `<n>` or `<line>` are placeholders for integers.  We assume all metavariables of the same name have the same type:"
   ]
  },
  {
   "cell_type": "code",
   "execution_count": 50,
   "metadata": {
    "execution": {
     "iopub.execute_input": "2021-11-02T16:40:54.468530Z",
     "iopub.status.busy": "2021-11-02T16:40:54.467703Z",
     "iopub.status.idle": "2021-11-02T16:40:54.470918Z",
     "shell.execute_reply": "2021-11-02T16:40:54.471450Z"
    },
    "slideshow": {
     "slide_type": "fragment"
    }
   },
   "outputs": [
    {
     "data": {
      "text/plain": [
       "['<int>']"
      ]
     },
     "execution_count": 50,
     "metadata": {},
     "output_type": "execute_result"
    }
   ],
   "source": [
    "autopep8_ebnf_grammar[\"<line>\"]"
   ]
  },
  {
   "cell_type": "markdown",
   "metadata": {
    "slideshow": {
     "slide_type": "fragment"
    }
   },
   "source": [
    "The grammar miner has inferred that the argument to `autopep8` is a list of files:"
   ]
  },
  {
   "cell_type": "code",
   "execution_count": 51,
   "metadata": {
    "execution": {
     "iopub.execute_input": "2021-11-02T16:40:54.476034Z",
     "iopub.status.busy": "2021-11-02T16:40:54.475271Z",
     "iopub.status.idle": "2021-11-02T16:40:54.478356Z",
     "shell.execute_reply": "2021-11-02T16:40:54.478937Z"
    },
    "slideshow": {
     "slide_type": "fragment"
    }
   },
   "outputs": [
    {
     "data": {
      "text/plain": [
       "['( <files>)*']"
      ]
     },
     "execution_count": 51,
     "metadata": {},
     "output_type": "execute_result"
    }
   ],
   "source": [
    "autopep8_ebnf_grammar[\"<arguments>\"]"
   ]
  },
  {
   "cell_type": "markdown",
   "metadata": {
    "slideshow": {
     "slide_type": "fragment"
    }
   },
   "source": [
    "which in turn all are strings:"
   ]
  },
  {
   "cell_type": "code",
   "execution_count": 52,
   "metadata": {
    "execution": {
     "iopub.execute_input": "2021-11-02T16:40:54.483754Z",
     "iopub.status.busy": "2021-11-02T16:40:54.482978Z",
     "iopub.status.idle": "2021-11-02T16:40:54.486237Z",
     "shell.execute_reply": "2021-11-02T16:40:54.486771Z"
    },
    "slideshow": {
     "slide_type": "fragment"
    }
   },
   "outputs": [
    {
     "data": {
      "text/plain": [
       "['<str>']"
      ]
     },
     "execution_count": 52,
     "metadata": {},
     "output_type": "execute_result"
    }
   ],
   "source": [
    "autopep8_ebnf_grammar[\"<files>\"]"
   ]
  },
  {
   "cell_type": "markdown",
   "metadata": {
    "slideshow": {
     "slide_type": "subslide"
    }
   },
   "source": [
    "As we are only interested in testing options, not arguments, we fix the arguments to a single mandatory input.  (Otherwise, we'd have plenty of random file names generated.)"
   ]
  },
  {
   "cell_type": "code",
   "execution_count": 53,
   "metadata": {
    "execution": {
     "iopub.execute_input": "2021-11-02T16:40:54.492093Z",
     "iopub.status.busy": "2021-11-02T16:40:54.491384Z",
     "iopub.status.idle": "2021-11-02T16:40:54.493456Z",
     "shell.execute_reply": "2021-11-02T16:40:54.494036Z"
    },
    "slideshow": {
     "slide_type": "fragment"
    }
   },
   "outputs": [],
   "source": [
    "autopep8_ebnf_grammar[\"<arguments>\"] = [\" <files>\"]\n",
    "autopep8_ebnf_grammar[\"<files>\"] = [\"foo.py\"]\n",
    "assert is_valid_grammar(autopep8_ebnf_grammar)"
   ]
  },
  {
   "cell_type": "markdown",
   "metadata": {
    "slideshow": {
     "slide_type": "subslide"
    }
   },
   "source": [
    "### Creating Autopep8 Options"
   ]
  },
  {
   "cell_type": "markdown",
   "metadata": {
    "slideshow": {
     "slide_type": "fragment"
    }
   },
   "source": [
    "Let us now use the inferred grammar for fuzzing.  Again, we convert the EBNF grammar into a regular BNF grammar:"
   ]
  },
  {
   "cell_type": "code",
   "execution_count": 54,
   "metadata": {
    "execution": {
     "iopub.execute_input": "2021-11-02T16:40:54.500091Z",
     "iopub.status.busy": "2021-11-02T16:40:54.499320Z",
     "iopub.status.idle": "2021-11-02T16:40:54.501275Z",
     "shell.execute_reply": "2021-11-02T16:40:54.501856Z"
    },
    "slideshow": {
     "slide_type": "fragment"
    }
   },
   "outputs": [],
   "source": [
    "autopep8_grammar = convert_ebnf_grammar(autopep8_ebnf_grammar)\n",
    "assert is_valid_grammar(autopep8_grammar)"
   ]
  },
  {
   "cell_type": "markdown",
   "metadata": {
    "slideshow": {
     "slide_type": "fragment"
    }
   },
   "source": [
    "And we can use the grammar for fuzzing all options:"
   ]
  },
  {
   "cell_type": "code",
   "execution_count": 55,
   "metadata": {
    "execution": {
     "iopub.execute_input": "2021-11-02T16:40:54.516472Z",
     "iopub.status.busy": "2021-11-02T16:40:54.515740Z",
     "iopub.status.idle": "2021-11-02T16:40:54.673225Z",
     "shell.execute_reply": "2021-11-02T16:40:54.673967Z"
    },
    "slideshow": {
     "slide_type": "subslide"
    }
   },
   "outputs": [
    {
     "name": "stdout",
     "output_type": "stream",
     "text": [
      " -r foo.py\n",
      " -h --experimental --hang-closing foo.py\n",
      " --list-fixes -v foo.py\n",
      " --aggressive -d foo.py\n",
      " --indent-size 9 --help foo.py\n",
      " --exit-code --recursive foo.py\n",
      " --diff --version -i foo.py\n",
      " --max-line-length 0 --in-place --verbose foo.py\n",
      " --ignore-local-config -a foo.py\n",
      " --select x -i --exit-code foo.py\n",
      " -j 8 --diff foo.py\n",
      " -d -v -d foo.py\n",
      " -p 6 -i foo.py\n",
      " -v --diff foo.py\n",
      " --ignore uA --recursive foo.py\n",
      " --jobs 5 -r foo.py\n",
      " --range 4 1 foo.py\n",
      " --ignore-local-config -i foo.py\n",
      " -r --exit-code foo.py\n",
      " -v -r foo.py\n"
     ]
    }
   ],
   "source": [
    "f = GrammarCoverageFuzzer(autopep8_grammar, max_nonterminals=4)\n",
    "for i in range(20):\n",
    "    print(f.fuzz())"
   ]
  },
  {
   "cell_type": "markdown",
   "metadata": {
    "slideshow": {
     "slide_type": "subslide"
    }
   },
   "source": [
    "Let us apply these options on the actual program.  We need a file `foo.py` that will serve as input: (Note that the following commands will overwrite the file `foo.py`, if it already exists in the current working directory. Be aware of this, if you downloaded the notebooks and are working locally.)"
   ]
  },
  {
   "cell_type": "code",
   "execution_count": 56,
   "metadata": {
    "execution": {
     "iopub.execute_input": "2021-11-02T16:40:54.678563Z",
     "iopub.status.busy": "2021-11-02T16:40:54.677827Z",
     "iopub.status.idle": "2021-11-02T16:40:54.680251Z",
     "shell.execute_reply": "2021-11-02T16:40:54.680837Z"
    },
    "slideshow": {
     "slide_type": "fragment"
    }
   },
   "outputs": [],
   "source": [
    "def create_foo_py():\n",
    "    open(\"foo.py\", \"w\").write(\"\"\"\n",
    "def twice(x = 2):\n",
    "    return  x  +  x\n",
    "\"\"\")"
   ]
  },
  {
   "cell_type": "code",
   "execution_count": 57,
   "metadata": {
    "execution": {
     "iopub.execute_input": "2021-11-02T16:40:54.684852Z",
     "iopub.status.busy": "2021-11-02T16:40:54.684090Z",
     "iopub.status.idle": "2021-11-02T16:40:54.687272Z",
     "shell.execute_reply": "2021-11-02T16:40:54.687933Z"
    },
    "slideshow": {
     "slide_type": "fragment"
    }
   },
   "outputs": [],
   "source": [
    "create_foo_py()"
   ]
  },
  {
   "cell_type": "code",
   "execution_count": 58,
   "metadata": {
    "execution": {
     "iopub.execute_input": "2021-11-02T16:40:54.692111Z",
     "iopub.status.busy": "2021-11-02T16:40:54.691399Z",
     "iopub.status.idle": "2021-11-02T16:40:54.694267Z",
     "shell.execute_reply": "2021-11-02T16:40:54.694894Z"
    },
    "slideshow": {
     "slide_type": "fragment"
    }
   },
   "outputs": [
    {
     "name": "stdout",
     "output_type": "stream",
     "text": [
      "\n",
      "def twice(x = 2):\n",
      "    return  x  +  x\n"
     ]
    }
   ],
   "source": [
    "print(open(\"foo.py\").read(), end=\"\")"
   ]
  },
  {
   "cell_type": "markdown",
   "metadata": {
    "slideshow": {
     "slide_type": "fragment"
    }
   },
   "source": [
    "We see how `autopep8` fixes the spacing:"
   ]
  },
  {
   "cell_type": "code",
   "execution_count": 59,
   "metadata": {
    "execution": {
     "iopub.execute_input": "2021-11-02T16:40:54.699543Z",
     "iopub.status.busy": "2021-11-02T16:40:54.698817Z",
     "iopub.status.idle": "2021-11-02T16:51:28.006142Z",
     "shell.execute_reply": "2021-11-02T16:51:28.006868Z"
    },
    "slideshow": {
     "slide_type": "fragment"
    }
   },
   "outputs": [
    {
     "name": "stdout",
     "output_type": "stream",
     "text": [
      "\r\n",
      "def twice(x=2):\r\n",
      "    return x + x\r\n"
     ]
    }
   ],
   "source": [
    "!autopep8 foo.py"
   ]
  },
  {
   "cell_type": "markdown",
   "metadata": {
    "slideshow": {
     "slide_type": "subslide"
    }
   },
   "source": [
    "Let us now put things together.  We define a `ProgramRunner` that will run the `autopep8` executable with arguments coming from the mined `autopep8` grammar."
   ]
  },
  {
   "cell_type": "code",
   "execution_count": 60,
   "metadata": {
    "execution": {
     "iopub.execute_input": "2021-11-02T16:51:28.015185Z",
     "iopub.status.busy": "2021-11-02T16:51:28.014035Z",
     "iopub.status.idle": "2021-11-02T16:51:28.018094Z",
     "shell.execute_reply": "2021-11-02T16:51:28.023539Z"
    },
    "slideshow": {
     "slide_type": "skip"
    }
   },
   "outputs": [],
   "source": [
    "from Fuzzer import ProgramRunner"
   ]
  },
  {
   "cell_type": "markdown",
   "metadata": {
    "slideshow": {
     "slide_type": "fragment"
    }
   },
   "source": [
    "Running `autopep8` with the mined options reveals a surprisingly high number of passing runs.  (We see that some options depend on each other or are mutually exclusive, but this is handled by the program logic, not the argument parser, and hence out of our scope.)  The `GrammarCoverageFuzzer` ensures that each option is tested at least once.  (Digits and letters, too, by the way.)"
   ]
  },
  {
   "cell_type": "code",
   "execution_count": 61,
   "metadata": {
    "execution": {
     "iopub.execute_input": "2021-11-02T16:51:28.037484Z",
     "iopub.status.busy": "2021-11-02T16:51:28.036264Z",
     "iopub.status.idle": "2021-11-02T16:51:30.298085Z",
     "shell.execute_reply": "2021-11-02T16:51:30.298941Z"
    },
    "slideshow": {
     "slide_type": "subslide"
    }
   },
   "outputs": [
    {
     "name": "stdout",
     "output_type": "stream",
     "text": [
      "$ autopep8 foo.py\n",
      "$ autopep8 --diff --max-line-length 4 --exit-code --range 5 8 -p 2 foo.py\n",
      "$ autopep8 --ignore z --verbose -r --list-fixes foo.py\n",
      "--recursive must be used with --in-place or --diff$ autopep8 --exclude 5 -h -i --aggressive --in-place foo.py\n",
      "$ autopep8 --select a --help --experimental foo.py\n",
      "$ autopep8 --indent-size -30 --recursive foo.py\n",
      "--recursive must be used with --in-place or --diff$ autopep8 --global-config < -j 9 -v -a foo.py\n",
      "parallel jobs requires --in-place$ autopep8 --line-range 7 1 --hang-closing -d foo.py\n",
      "First value of --range should be less than or equal to the second$ autopep8 --pep8-passes 6 --hang-closing --version --ignore-local-config foo.py\n",
      "$ autopep8 --jobs -2 --experimental --version foo.py\n",
      "$ autopep8 --ignore Y: --select ! --global-config e foo.py\n",
      "$ autopep8 --select 1 -a --recursive --aggressive foo.py\n",
      "--recursive must be used with --in-place or --diff$ autopep8 --ignore * --ignore `0 --global-config _ --verbose foo.py\n",
      "[file:foo.py]\n",
      "--->  Applying global fix for E265\n",
      "--->  5 issue(s) to fix {'E251': {2}, 'E271': {3}, 'E221': {3}, 'E222': {3}}\n",
      "--->  3 issue(s) to fix {'E251': {2}, 'E221': {3}, 'E222': {3}}\n",
      "--->  1 issue(s) to fix {'E222': {3}}\n",
      "--->  0 issue(s) to fix {}\n",
      "$ autopep8 --global-config ,\\ --exclude r -v foo.py\n",
      "[file:foo.py]\n",
      "--->  Applying global fix for E265\n",
      "--->  5 issue(s) to fix {'E251': {2}, 'E271': {3}, 'E221': {3}, 'E222': {3}}\n",
      "--->  3 issue(s) to fix {'E251': {2}, 'E221': {3}, 'E222': {3}}\n",
      "--->  1 issue(s) to fix {'E222': {3}}\n",
      "--->  0 issue(s) to fix {}\n",
      "$ autopep8 --global-config xd6M --recursive foo.py\n",
      "--recursive must be used with --in-place or --diff$ autopep8 --select R --exclude L --version --ignore-local-config foo.py\n",
      "$ autopep8 --select \" --verbose -h -d foo.py\n",
      "$ autopep8 --diff -i -h foo.py\n",
      "$ autopep8 --in-place --select w --version -i foo.py\n",
      "$ autopep8 --ignore 49 --exclude lI -i foo.py\n"
     ]
    }
   ],
   "source": [
    "f = GrammarCoverageFuzzer(autopep8_grammar, max_nonterminals=5)\n",
    "for i in range(20):\n",
    "    invocation = \"autopep8\" + f.fuzz()\n",
    "    print(\"$ \" + invocation)\n",
    "    args = invocation.split()\n",
    "    autopep8 = ProgramRunner(args)\n",
    "    result, outcome = autopep8.run()\n",
    "    if result.stderr != \"\":\n",
    "        print(result.stderr, end=\"\")"
   ]
  },
  {
   "cell_type": "markdown",
   "metadata": {
    "slideshow": {
     "slide_type": "subslide"
    }
   },
   "source": [
    "Our `foo.py` file now has been formatted in place a number of times:"
   ]
  },
  {
   "cell_type": "code",
   "execution_count": 62,
   "metadata": {
    "execution": {
     "iopub.execute_input": "2021-11-02T16:51:30.304422Z",
     "iopub.status.busy": "2021-11-02T16:51:30.303683Z",
     "iopub.status.idle": "2021-11-02T16:51:30.306347Z",
     "shell.execute_reply": "2021-11-02T16:51:30.306789Z"
    },
    "slideshow": {
     "slide_type": "fragment"
    }
   },
   "outputs": [
    {
     "name": "stdout",
     "output_type": "stream",
     "text": [
      "\n",
      "def twice(x=2):\n",
      "    return x + x\n"
     ]
    }
   ],
   "source": [
    "print(open(\"foo.py\").read(), end=\"\")"
   ]
  },
  {
   "cell_type": "markdown",
   "metadata": {
    "slideshow": {
     "slide_type": "skip"
    }
   },
   "source": [
    "We don't need it anymore, so we clean up things:"
   ]
  },
  {
   "cell_type": "code",
   "execution_count": 63,
   "metadata": {
    "execution": {
     "iopub.execute_input": "2021-11-02T16:51:30.310624Z",
     "iopub.status.busy": "2021-11-02T16:51:30.309899Z",
     "iopub.status.idle": "2021-11-02T16:51:30.312084Z",
     "shell.execute_reply": "2021-11-02T16:51:30.312467Z"
    },
    "slideshow": {
     "slide_type": "skip"
    }
   },
   "outputs": [],
   "source": [
    "import os"
   ]
  },
  {
   "cell_type": "code",
   "execution_count": 64,
   "metadata": {
    "execution": {
     "iopub.execute_input": "2021-11-02T16:51:30.316206Z",
     "iopub.status.busy": "2021-11-02T16:51:30.315661Z",
     "iopub.status.idle": "2021-11-02T16:51:30.317757Z",
     "shell.execute_reply": "2021-11-02T16:51:30.318142Z"
    },
    "slideshow": {
     "slide_type": "skip"
    }
   },
   "outputs": [],
   "source": [
    "os.remove(\"foo.py\")"
   ]
  },
  {
   "cell_type": "markdown",
   "metadata": {
    "slideshow": {
     "slide_type": "fragment"
    }
   },
   "source": [
    "## Classes for Fuzzing Configuration Options\n",
    "\n",
    "Let us now create reusable classes that we can use for testing arbitrary programs.  (Okay, make that \"arbitrary programs that are written in Python and use the `argparse` module to process command-line arguments.\")"
   ]
  },
  {
   "cell_type": "markdown",
   "metadata": {
    "slideshow": {
     "slide_type": "subslide"
    }
   },
   "source": [
    "The class `OptionRunner` is a subclass of `ProgramRunner` that takes care of automatically determining the grammar, using the same steps we used for `autopep8`, above."
   ]
  },
  {
   "cell_type": "code",
   "execution_count": 65,
   "metadata": {
    "execution": {
     "iopub.execute_input": "2021-11-02T16:51:30.324903Z",
     "iopub.status.busy": "2021-11-02T16:51:30.323862Z",
     "iopub.status.idle": "2021-11-02T16:51:30.326572Z",
     "shell.execute_reply": "2021-11-02T16:51:30.327151Z"
    },
    "slideshow": {
     "slide_type": "fragment"
    }
   },
   "outputs": [],
   "source": [
    "class OptionRunner(ProgramRunner):\n",
    "    def __init__(self, program, arguments=None):\n",
    "        if isinstance(program, str):\n",
    "            self.base_executable = program\n",
    "        else:\n",
    "            self.base_executable = program[0]\n",
    "\n",
    "        self.find_contents()\n",
    "        self.find_grammar()\n",
    "        if arguments is not None:\n",
    "            self.set_arguments(arguments)\n",
    "        super().__init__(program)"
   ]
  },
  {
   "cell_type": "markdown",
   "metadata": {
    "slideshow": {
     "slide_type": "subslide"
    }
   },
   "source": [
    "First, we find the contents of the Python executable:"
   ]
  },
  {
   "cell_type": "code",
   "execution_count": 66,
   "metadata": {
    "execution": {
     "iopub.execute_input": "2021-11-02T16:51:30.333271Z",
     "iopub.status.busy": "2021-11-02T16:51:30.332445Z",
     "iopub.status.idle": "2021-11-02T16:51:30.334544Z",
     "shell.execute_reply": "2021-11-02T16:51:30.335134Z"
    },
    "slideshow": {
     "slide_type": "fragment"
    }
   },
   "outputs": [],
   "source": [
    "class OptionRunner(OptionRunner):\n",
    "    def find_contents(self):\n",
    "        self._executable = find_executable(self.base_executable)\n",
    "        first_line = open(self._executable).readline()\n",
    "        assert first_line.find(\"python\") >= 0\n",
    "        self.contents = open(self._executable).read()\n",
    "\n",
    "    def invoker(self):\n",
    "        exec(self.contents)\n",
    "\n",
    "    def executable(self):\n",
    "        return self._executable"
   ]
  },
  {
   "cell_type": "markdown",
   "metadata": {
    "slideshow": {
     "slide_type": "subslide"
    }
   },
   "source": [
    "Next, we determine the grammar using the `OptionGrammarMiner` class:"
   ]
  },
  {
   "cell_type": "code",
   "execution_count": 67,
   "metadata": {
    "execution": {
     "iopub.execute_input": "2021-11-02T16:51:30.340385Z",
     "iopub.status.busy": "2021-11-02T16:51:30.339584Z",
     "iopub.status.idle": "2021-11-02T16:51:30.341563Z",
     "shell.execute_reply": "2021-11-02T16:51:30.341963Z"
    },
    "slideshow": {
     "slide_type": "fragment"
    }
   },
   "outputs": [],
   "source": [
    "class OptionRunner(OptionRunner):\n",
    "    def find_grammar(self):\n",
    "        miner = OptionGrammarMiner(self.invoker)\n",
    "        self._ebnf_grammar = miner.mine_ebnf_grammar()\n",
    "\n",
    "    def ebnf_grammar(self):\n",
    "        return self._ebnf_grammar\n",
    "\n",
    "    def grammar(self):\n",
    "        return convert_ebnf_grammar(self._ebnf_grammar)"
   ]
  },
  {
   "cell_type": "markdown",
   "metadata": {
    "slideshow": {
     "slide_type": "subslide"
    }
   },
   "source": [
    "The two service methods `set_arguments()` and `set_invocation()` help us to change the arguments and program, respectively."
   ]
  },
  {
   "cell_type": "code",
   "execution_count": 68,
   "metadata": {
    "execution": {
     "iopub.execute_input": "2021-11-02T16:51:30.346409Z",
     "iopub.status.busy": "2021-11-02T16:51:30.345734Z",
     "iopub.status.idle": "2021-11-02T16:51:30.348008Z",
     "shell.execute_reply": "2021-11-02T16:51:30.348543Z"
    },
    "slideshow": {
     "slide_type": "skip"
    }
   },
   "outputs": [],
   "source": [
    "from Grammars import unreachable_nonterminals"
   ]
  },
  {
   "cell_type": "code",
   "execution_count": 69,
   "metadata": {
    "execution": {
     "iopub.execute_input": "2021-11-02T16:51:30.353746Z",
     "iopub.status.busy": "2021-11-02T16:51:30.353108Z",
     "iopub.status.idle": "2021-11-02T16:51:30.355042Z",
     "shell.execute_reply": "2021-11-02T16:51:30.355786Z"
    },
    "slideshow": {
     "slide_type": "fragment"
    }
   },
   "outputs": [],
   "source": [
    "class OptionRunner(OptionRunner):\n",
    "    def set_arguments(self, args):\n",
    "        self._ebnf_grammar[\"<arguments>\"] = [\" \" + args]\n",
    "        # Delete rules for previous arguments\n",
    "        for nonterminal in unreachable_nonterminals(self._ebnf_grammar):\n",
    "            del self._ebnf_grammar[nonterminal]\n",
    "\n",
    "    def set_invocation(self, program):\n",
    "        self.program = program"
   ]
  },
  {
   "cell_type": "markdown",
   "metadata": {
    "slideshow": {
     "slide_type": "subslide"
    }
   },
   "source": [
    "We can instantiate the class on `autopep8` and immediately get the grammar:"
   ]
  },
  {
   "cell_type": "code",
   "execution_count": 70,
   "metadata": {
    "execution": {
     "iopub.execute_input": "2021-11-02T16:51:30.360090Z",
     "iopub.status.busy": "2021-11-02T16:51:30.359431Z",
     "iopub.status.idle": "2021-11-02T16:51:30.365380Z",
     "shell.execute_reply": "2021-11-02T16:51:30.366112Z"
    },
    "slideshow": {
     "slide_type": "fragment"
    }
   },
   "outputs": [],
   "source": [
    "autopep8_runner = OptionRunner(\"autopep8\", \"foo.py\")"
   ]
  },
  {
   "cell_type": "code",
   "execution_count": 71,
   "metadata": {
    "execution": {
     "iopub.execute_input": "2021-11-02T16:51:30.371444Z",
     "iopub.status.busy": "2021-11-02T16:51:30.370437Z",
     "iopub.status.idle": "2021-11-02T16:51:30.392785Z",
     "shell.execute_reply": "2021-11-02T16:51:30.405840Z"
    },
    "slideshow": {
     "slide_type": "fragment"
    }
   },
   "outputs": [
    {
     "name": "stdout",
     "output_type": "stream",
     "text": [
      "[' -h', ' --help', ' --version', ' -v', ' --verbose', ' -d', ' --diff', ' -i', ' --in-place', ' --global-config <filename>', ' --ignore-local-config', ' -r', ' --recursive', ' -j <n>', ' --jobs <n>', ' -p <n>', ' --pep8-passes <n>', ' -a', ' --aggressive', ' --experimental', ' --exclude <globs>', ' --list-fixes', ' --ignore <errors>', ' --select <errors>', ' --max-line-length <n>', ' --line-range <line> <line>', ' --range <line> <line>', ' --indent-size <int>', ' --hang-closing', ' --exit-code']\n"
     ]
    }
   ],
   "source": [
    "print(autopep8_runner.ebnf_grammar()[\"<option>\"])"
   ]
  },
  {
   "cell_type": "markdown",
   "metadata": {
    "slideshow": {
     "slide_type": "subslide"
    }
   },
   "source": [
    "An `OptionFuzzer` interacts with the given `OptionRunner` to obtain its grammar, which is then passed to its `GrammarCoverageFuzzer` superclass."
   ]
  },
  {
   "cell_type": "code",
   "execution_count": 72,
   "metadata": {
    "execution": {
     "iopub.execute_input": "2021-11-02T16:51:30.414210Z",
     "iopub.status.busy": "2021-11-02T16:51:30.413339Z",
     "iopub.status.idle": "2021-11-02T16:51:30.415217Z",
     "shell.execute_reply": "2021-11-02T16:51:30.416070Z"
    },
    "slideshow": {
     "slide_type": "fragment"
    }
   },
   "outputs": [],
   "source": [
    "class OptionFuzzer(GrammarCoverageFuzzer):\n",
    "    def __init__(self, runner, *args, **kwargs):\n",
    "        assert issubclass(type(runner), OptionRunner)\n",
    "        self.runner = runner\n",
    "        grammar = runner.grammar()\n",
    "        super().__init__(grammar, *args, **kwargs)"
   ]
  },
  {
   "cell_type": "markdown",
   "metadata": {
    "slideshow": {
     "slide_type": "subslide"
    }
   },
   "source": [
    "When invoking `run()`, the `OptionFuzzer` creates a new invocation (using `fuzz()` from its grammar) and runs the now given (or previously set) runner with the arguments from the grammar.  Note that the runner specified in `run()` can differ from the one set during initialization; this allows for mining options from one program and applying it in another context."
   ]
  },
  {
   "cell_type": "code",
   "execution_count": 73,
   "metadata": {
    "execution": {
     "iopub.execute_input": "2021-11-02T16:51:30.422474Z",
     "iopub.status.busy": "2021-11-02T16:51:30.421627Z",
     "iopub.status.idle": "2021-11-02T16:51:30.423828Z",
     "shell.execute_reply": "2021-11-02T16:51:30.424433Z"
    },
    "slideshow": {
     "slide_type": "fragment"
    }
   },
   "outputs": [],
   "source": [
    "class OptionFuzzer(OptionFuzzer):\n",
    "    def run(self, runner=None, inp=\"\"):\n",
    "        if runner is None:\n",
    "            runner = self.runner\n",
    "        assert issubclass(type(runner), OptionRunner)\n",
    "        invocation = runner.executable() + \" \" + self.fuzz()\n",
    "        runner.set_invocation(invocation.split())\n",
    "        return runner.run(inp)"
   ]
  },
  {
   "cell_type": "markdown",
   "metadata": {
    "slideshow": {
     "slide_type": "fragment"
    }
   },
   "source": [
    "### Example: Autopep8\n",
    "\n",
    "Let us apply our newly defined classes on the `autopep8` runner:"
   ]
  },
  {
   "cell_type": "code",
   "execution_count": 74,
   "metadata": {
    "execution": {
     "iopub.execute_input": "2021-11-02T16:51:30.431145Z",
     "iopub.status.busy": "2021-11-02T16:51:30.430332Z",
     "iopub.status.idle": "2021-11-02T16:51:30.432099Z",
     "shell.execute_reply": "2021-11-02T16:51:30.432493Z"
    },
    "slideshow": {
     "slide_type": "fragment"
    }
   },
   "outputs": [],
   "source": [
    "autopep8_fuzzer = OptionFuzzer(autopep8_runner, max_nonterminals=5)"
   ]
  },
  {
   "cell_type": "code",
   "execution_count": 75,
   "metadata": {
    "execution": {
     "iopub.execute_input": "2021-11-02T16:51:30.458357Z",
     "iopub.status.busy": "2021-11-02T16:51:30.446287Z",
     "iopub.status.idle": "2021-11-02T16:51:30.462052Z",
     "shell.execute_reply": "2021-11-02T16:51:30.462583Z"
    },
    "slideshow": {
     "slide_type": "fragment"
    }
   },
   "outputs": [
    {
     "name": "stdout",
     "output_type": "stream",
     "text": [
      " foo.py\n",
      " --in-place --ignore-local-config --jobs 6 --recursive -i foo.py\n",
      " --help -a --indent-size -95 --pep8-passes 3 --exclude = -r foo.py\n"
     ]
    }
   ],
   "source": [
    "for i in range(3):\n",
    "    print(autopep8_fuzzer.fuzz())"
   ]
  },
  {
   "cell_type": "markdown",
   "metadata": {
    "slideshow": {
     "slide_type": "subslide"
    }
   },
   "source": [
    "We can now systematically test `autopep8` with these classes:"
   ]
  },
  {
   "cell_type": "code",
   "execution_count": 76,
   "metadata": {
    "execution": {
     "iopub.execute_input": "2021-11-02T16:51:30.476552Z",
     "iopub.status.busy": "2021-11-02T16:51:30.475627Z",
     "iopub.status.idle": "2021-11-02T16:51:30.551969Z",
     "shell.execute_reply": "2021-11-02T16:51:30.552352Z"
    },
    "slideshow": {
     "slide_type": "fragment"
    }
   },
   "outputs": [
    {
     "data": {
      "text/plain": [
       "(CompletedProcess(args=['/Users/zeller/.pyenv/versions/3.9.7/bin/autopep8', '--hang-closing', '--exit-code', '-d', '--version', 'foo.py'], returncode=0, stdout='autopep8 1.5.7 (pycodestyle: 2.5.0)\\n', stderr=''),\n",
       " 'PASS')"
      ]
     },
     "execution_count": 76,
     "metadata": {},
     "output_type": "execute_result"
    }
   ],
   "source": [
    "autopep8_fuzzer.run(autopep8_runner)"
   ]
  },
  {
   "cell_type": "markdown",
   "metadata": {
    "slideshow": {
     "slide_type": "subslide"
    }
   },
   "source": [
    "### Example: MyPy\n",
    "\n",
    "We can extract options for the `mypy` static type checker for Python:"
   ]
  },
  {
   "cell_type": "code",
   "execution_count": 77,
   "metadata": {
    "execution": {
     "iopub.execute_input": "2021-11-02T16:51:30.556878Z",
     "iopub.status.busy": "2021-11-02T16:51:30.556346Z",
     "iopub.status.idle": "2021-11-02T16:51:30.558328Z",
     "shell.execute_reply": "2021-11-02T16:51:30.558937Z"
    },
    "slideshow": {
     "slide_type": "skip"
    }
   },
   "outputs": [],
   "source": [
    "assert find_executable(\"mypy\") is not None"
   ]
  },
  {
   "cell_type": "code",
   "execution_count": 78,
   "metadata": {
    "execution": {
     "iopub.execute_input": "2021-11-02T16:51:30.562556Z",
     "iopub.status.busy": "2021-11-02T16:51:30.562004Z",
     "iopub.status.idle": "2021-11-02T16:51:30.689556Z",
     "shell.execute_reply": "2021-11-02T16:51:30.689020Z"
    },
    "slideshow": {
     "slide_type": "fragment"
    }
   },
   "outputs": [
    {
     "name": "stdout",
     "output_type": "stream",
     "text": [
      "[' -h', ' --help', ' -v', ' --verbose', ' -V', ' --version', ' --config-file <str>', ' --warn-unused-configs', ' --no-warn-unused-configs', ' --namespace-packages', ' --no-namespace-packages', ' --ignore-missing-imports', ' --follow-imports <str>', ' --python-executable', ' --no-site-packages', ' --no-silence-site-packages', ' --python-version <x.y>', ' -2', ' --py2', ' --platform', ' --always-true', ' --always-false', ' --disallow-any-unimported', ' --disallow-any-expr', ' --disallow-any-decorated', ' --disallow-any-explicit', ' --disallow-any-generics', ' --allow-any-generics', ' --disallow-subclassing-any', ' --allow-subclassing-any', ' --disallow-untyped-calls', ' --allow-untyped-calls', ' --disallow-untyped-defs', ' --allow-untyped-defs', ' --disallow-incomplete-defs', ' --allow-incomplete-defs', ' --check-untyped-defs', ' --no-check-untyped-defs', ' --disallow-untyped-decorators', ' --allow-untyped-decorators', ' --no-implicit-optional', ' --implicit-optional', ' --strict-optional', ' --no-strict-optional', ' --strict-optional-whitelist( <GLOB>)*', ' --warn-redundant-casts', ' --no-warn-redundant-casts', ' --warn-unused-ignores', ' --no-warn-unused-ignores', ' --no-warn-no-return', ' --warn-no-return', ' --warn-return-any', ' --no-warn-return-any', ' --warn-unreachable', ' --no-warn-unreachable', ' --allow-untyped-globals', ' --disallow-untyped-globals', ' --allow-redefinition', ' --disallow-redefinition', ' --no-implicit-reexport', ' --implicit-reexport', ' --strict-equality', ' --no-strict-equality', ' --strict', ' --disable-error-code', ' --enable-error-code', ' --show-error-context', ' --hide-error-context', ' --show-column-numbers', ' --hide-column-numbers', ' --show-error-codes', ' --hide-error-codes', ' --pretty', ' --no-pretty', ' --no-color-output', ' --color-output', ' --no-error-summary', ' --error-summary', ' --show-absolute-path', ' --hide-absolute-path', ' --soft-error-limit <int>', ' -i', ' --incremental', ' --no-incremental', ' --cache-dir', ' --sqlite-cache', ' --no-sqlite-cache', ' --cache-fine-grained', ' --skip-version-check', ' --skip-cache-mtime-checks', ' --pdb', ' --show-traceback', ' --tb', ' --raise-exceptions', ' --custom-typing-module <MODULE>', ' --custom-typeshed-dir <DIR>', ' --warn-incomplete-stub', ' --no-warn-incomplete-stub', ' --shadow-file', ' --fast-exit', ' --no-fast-exit', ' --any-exprs-report <DIR>', ' --cobertura-xml-report <DIR>', ' --html-report <DIR>', ' --linecount-report <DIR>', ' --linecoverage-report <DIR>', ' --lineprecision-report <DIR>', ' --txt-report <DIR>', ' --xml-report <DIR>', ' --xslt-html-report <DIR>', ' --xslt-txt-report <DIR>', ' --quickstart-file <str>', ' --junit-xml <str>', ' --find-occurrences <CLASS.MEMBER>', ' --scripts-are-modules', ' --install-types', ' --no-install-types', ' --non-interactive', ' --interactive', ' --stats', ' --inferstats', ' --dump-build-stats', ' --debug-cache', ' --dump-deps', ' --dump-graph', ' --semantic-analysis-only', ' --local-partial-types', ' --logical-deps', ' --bazel', ' --package-root', ' --cache-map( <str>)+', ' --wip-pep-612', ' --explicit-package-bases', ' --no-explicit-package-bases', ' --exclude <PATTERN>', ' -m', ' --module', ' -p', ' --package', ' -c', ' --command']\n"
     ]
    }
   ],
   "source": [
    "mypy_runner = OptionRunner(\"mypy\", \"foo.py\")\n",
    "print(mypy_runner.ebnf_grammar()[\"<option>\"])"
   ]
  },
  {
   "cell_type": "code",
   "execution_count": 79,
   "metadata": {
    "execution": {
     "iopub.execute_input": "2021-11-02T16:51:30.765880Z",
     "iopub.status.busy": "2021-11-02T16:51:30.727909Z",
     "iopub.status.idle": "2021-11-02T16:51:31.118401Z",
     "shell.execute_reply": "2021-11-02T16:51:31.117361Z"
    },
    "slideshow": {
     "slide_type": "subslide"
    }
   },
   "outputs": [
    {
     "name": "stdout",
     "output_type": "stream",
     "text": [
      " --follow-imports l foo.py\n",
      " --logical-deps --allow-any-generics --any-exprs-report yB --fast-exit --show-error-context -i --no-site-packages --explicit-package-bases --no-sqlite-cache --warn-unused-ignores foo.py\n",
      " --html-report 7/ --tb --error-summary foo.py\n",
      " --no-implicit-reexport --no-error-summary --warn-return-any --dump-build-stats --check-untyped-defs --hide-error-context --no-install-types --install-types foo.py\n",
      " --no-warn-redundant-casts --no-warn-return-any --bazel --sqlite-cache --enable-error-code foo.py\n",
      " --cache-map { t --version --warn-unused-configs foo.py\n",
      " --wip-pep-612 --no-explicit-package-bases --help --semantic-analysis-only --soft-error-limit 6 --skip-version-check --no-warn-unused-configs foo.py\n",
      " --disallow-untyped-defs --hide-error-codes --show-absolute-path --shadow-file --package-root --interactive foo.py\n",
      " --strict-optional --disable-error-code --disallow-untyped-globals --disallow-incomplete-defs --no-namespace-packages --show-column-numbers --command --raise-exceptions --no-color-output --allow-incomplete-defs --warn-incomplete-stub --package --txt-report ( -c --dump-deps --no-implicit-optional --pretty --no-fast-exit --dump-graph --xml-report La --warn-no-return --disallow-any-decorated --skip-cache-mtime-checks --allow-untyped-calls --no-check-untyped-defs --color-output --ignore-missing-imports --cache-dir --no-incremental --no-silence-site-packages --scripts-are-modules --allow-subclassing-any --quickstart-file Q4 --allow-redefinition --disallow-any-explicit --always-false foo.py\n",
      " -p --xslt-html-report -U --strict --pdb --disallow-any-unimported foo.py\n"
     ]
    }
   ],
   "source": [
    "mypy_fuzzer = OptionFuzzer(mypy_runner, max_nonterminals=5)\n",
    "for i in range(10):\n",
    "    print(mypy_fuzzer.fuzz())"
   ]
  },
  {
   "cell_type": "markdown",
   "metadata": {
    "slideshow": {
     "slide_type": "subslide"
    }
   },
   "source": [
    "### Example: Notedown\n",
    "\n",
    "Here's the configuration options for the `notedown` Notebook to Markdown converter:"
   ]
  },
  {
   "cell_type": "code",
   "execution_count": 80,
   "metadata": {
    "execution": {
     "iopub.execute_input": "2021-11-02T16:51:31.157070Z",
     "iopub.status.busy": "2021-11-02T16:51:31.155819Z",
     "iopub.status.idle": "2021-11-02T16:51:31.158213Z",
     "shell.execute_reply": "2021-11-02T16:51:31.179258Z"
    },
    "slideshow": {
     "slide_type": "fragment"
    }
   },
   "outputs": [],
   "source": [
    "assert find_executable(\"notedown\") is not None"
   ]
  },
  {
   "cell_type": "code",
   "execution_count": 81,
   "metadata": {
    "execution": {
     "iopub.execute_input": "2021-11-02T16:51:31.248477Z",
     "iopub.status.busy": "2021-11-02T16:51:31.247739Z",
     "iopub.status.idle": "2021-11-02T16:51:32.285259Z",
     "shell.execute_reply": "2021-11-02T16:51:32.285673Z"
    },
    "slideshow": {
     "slide_type": "fragment"
    }
   },
   "outputs": [],
   "source": [
    "notedown_runner = OptionRunner(\"notedown\")"
   ]
  },
  {
   "cell_type": "code",
   "execution_count": 82,
   "metadata": {
    "execution": {
     "iopub.execute_input": "2021-11-02T16:51:32.290783Z",
     "iopub.status.busy": "2021-11-02T16:51:32.290115Z",
     "iopub.status.idle": "2021-11-02T16:51:32.292671Z",
     "shell.execute_reply": "2021-11-02T16:51:32.293078Z"
    },
    "slideshow": {
     "slide_type": "fragment"
    }
   },
   "outputs": [
    {
     "name": "stdout",
     "output_type": "stream",
     "text": [
      "[' -h', ' --help', ' -o( <str>)?', ' --output( <str>)?', ' --from <str>', ' --to <str>', ' --run', ' --execute', ' --timeout <int>', ' --strip', ' --precode( <str>)+', ' --knit( <str>)?', ' --rmagic', ' --nomagic', ' --render', ' --template <str>', ' --match <str>', ' --examples', ' --version', ' --debug']\n"
     ]
    }
   ],
   "source": [
    "print(notedown_runner.ebnf_grammar()[\"<option>\"])"
   ]
  },
  {
   "cell_type": "code",
   "execution_count": 83,
   "metadata": {
    "execution": {
     "iopub.execute_input": "2021-11-02T16:51:32.346034Z",
     "iopub.status.busy": "2021-11-02T16:51:32.307909Z",
     "iopub.status.idle": "2021-11-02T16:51:32.402235Z",
     "shell.execute_reply": "2021-11-02T16:51:32.401692Z"
    },
    "slideshow": {
     "slide_type": "fragment"
    }
   },
   "outputs": [
    {
     "name": "stdout",
     "output_type": "stream",
     "text": [
      " --render TI\n",
      " --to q --knit 'U --debug --from | --run\n",
      " --version --nomagic -h x\n",
      " --rmagic --strip --examples --help 8F\n",
      " --precode 2 --execute --help @\n",
      " --examples --nomagic !_\n",
      " --nomagic --debug --debug\n",
      " --timeout 3 -h m\n",
      " --debug --rmagic gp\n",
      " --debug --execute --rmagic P\n"
     ]
    }
   ],
   "source": [
    "notedown_fuzzer = OptionFuzzer(notedown_runner, max_nonterminals=5)\n",
    "for i in range(10):\n",
    "    print(notedown_fuzzer.fuzz())"
   ]
  },
  {
   "cell_type": "markdown",
   "metadata": {
    "button": false,
    "new_sheet": false,
    "run_control": {
     "read_only": false
    },
    "slideshow": {
     "slide_type": "slide"
    }
   },
   "source": [
    "## Combinatorial Testing\n",
    "\n",
    "Our `CoverageGrammarFuzzer` does a good job in covering each and every option at least once, which is great for systematic testing.  However, as we also can see in our examples above, some options require each other, while others interfere with each other.  What we should do as good testers is not only to cover every option individually, but also _combinations_ of options."
   ]
  },
  {
   "cell_type": "markdown",
   "metadata": {
    "slideshow": {
     "slide_type": "subslide"
    }
   },
   "source": [
    "The Python `itertools` module gives us means to create combinations from lists.  We can, for instance, take the `notedown` options and create a list of all pairs."
   ]
  },
  {
   "cell_type": "code",
   "execution_count": 84,
   "metadata": {
    "execution": {
     "iopub.execute_input": "2021-11-02T16:51:32.405860Z",
     "iopub.status.busy": "2021-11-02T16:51:32.405318Z",
     "iopub.status.idle": "2021-11-02T16:51:32.407067Z",
     "shell.execute_reply": "2021-11-02T16:51:32.407512Z"
    },
    "slideshow": {
     "slide_type": "skip"
    }
   },
   "outputs": [],
   "source": [
    "from itertools import combinations"
   ]
  },
  {
   "cell_type": "code",
   "execution_count": 85,
   "metadata": {
    "execution": {
     "iopub.execute_input": "2021-11-02T16:51:32.410879Z",
     "iopub.status.busy": "2021-11-02T16:51:32.410358Z",
     "iopub.status.idle": "2021-11-02T16:51:32.412155Z",
     "shell.execute_reply": "2021-11-02T16:51:32.412647Z"
    },
    "slideshow": {
     "slide_type": "fragment"
    }
   },
   "outputs": [],
   "source": [
    "option_list = notedown_runner.ebnf_grammar()[\"<option>\"]\n",
    "pairs = list(combinations(option_list, 2))"
   ]
  },
  {
   "cell_type": "markdown",
   "metadata": {
    "slideshow": {
     "slide_type": "fragment"
    }
   },
   "source": [
    "There's quite a number of pairs:"
   ]
  },
  {
   "cell_type": "code",
   "execution_count": 86,
   "metadata": {
    "execution": {
     "iopub.execute_input": "2021-11-02T16:51:32.416366Z",
     "iopub.status.busy": "2021-11-02T16:51:32.415747Z",
     "iopub.status.idle": "2021-11-02T16:51:32.418243Z",
     "shell.execute_reply": "2021-11-02T16:51:32.418617Z"
    },
    "slideshow": {
     "slide_type": "fragment"
    }
   },
   "outputs": [
    {
     "data": {
      "text/plain": [
       "190"
      ]
     },
     "execution_count": 86,
     "metadata": {},
     "output_type": "execute_result"
    }
   ],
   "source": [
    "len(pairs)"
   ]
  },
  {
   "cell_type": "code",
   "execution_count": 87,
   "metadata": {
    "execution": {
     "iopub.execute_input": "2021-11-02T16:51:32.422563Z",
     "iopub.status.busy": "2021-11-02T16:51:32.421955Z",
     "iopub.status.idle": "2021-11-02T16:51:32.424180Z",
     "shell.execute_reply": "2021-11-02T16:51:32.424554Z"
    },
    "slideshow": {
     "slide_type": "fragment"
    }
   },
   "outputs": [
    {
     "name": "stdout",
     "output_type": "stream",
     "text": [
      "[(' -h', ' --help'), (' -h', ' -o( <str>)?'), (' -h', ' --output( <str>)?'), (' -h', ' --from <str>'), (' -h', ' --to <str>'), (' -h', ' --run'), (' -h', ' --execute'), (' -h', ' --timeout <int>'), (' -h', ' --strip'), (' -h', ' --precode( <str>)+'), (' -h', ' --knit( <str>)?'), (' -h', ' --rmagic'), (' -h', ' --nomagic'), (' -h', ' --render'), (' -h', ' --template <str>'), (' -h', ' --match <str>'), (' -h', ' --examples'), (' -h', ' --version'), (' -h', ' --debug'), (' --help', ' -o( <str>)?')]\n"
     ]
    }
   ],
   "source": [
    "print(pairs[:20])"
   ]
  },
  {
   "cell_type": "markdown",
   "metadata": {
    "slideshow": {
     "slide_type": "subslide"
    }
   },
   "source": [
    "Testing every such pair of options frequently suffices to cover all interferences between options.  (Programs rarely have conditions involving three or more configuration settings.)  To this end, we _change_ the grammar from having a list of options to having a list of _option pairs_, such that covering these will automatically cover all pairs."
   ]
  },
  {
   "cell_type": "markdown",
   "metadata": {
    "slideshow": {
     "slide_type": "subslide"
    }
   },
   "source": [
    "We create a function `pairwise()` that takes a list of options as occurring in our grammar and returns a list of _pairwise options_ – that is, our original options, but concatenated."
   ]
  },
  {
   "cell_type": "code",
   "execution_count": 88,
   "metadata": {
    "execution": {
     "iopub.execute_input": "2021-11-02T16:51:32.428061Z",
     "iopub.status.busy": "2021-11-02T16:51:32.427540Z",
     "iopub.status.idle": "2021-11-02T16:51:32.429454Z",
     "shell.execute_reply": "2021-11-02T16:51:32.429827Z"
    },
    "slideshow": {
     "slide_type": "fragment"
    }
   },
   "outputs": [],
   "source": [
    "def pairwise(option_list):\n",
    "    return [option_1 + option_2\n",
    "            for (option_1, option_2) in combinations(option_list, 2)]"
   ]
  },
  {
   "cell_type": "markdown",
   "metadata": {
    "slideshow": {
     "slide_type": "fragment"
    }
   },
   "source": [
    "Here's the first 20 pairs:"
   ]
  },
  {
   "cell_type": "code",
   "execution_count": 89,
   "metadata": {
    "execution": {
     "iopub.execute_input": "2021-11-02T16:51:32.433279Z",
     "iopub.status.busy": "2021-11-02T16:51:32.432694Z",
     "iopub.status.idle": "2021-11-02T16:51:32.434838Z",
     "shell.execute_reply": "2021-11-02T16:51:32.435283Z"
    },
    "slideshow": {
     "slide_type": "fragment"
    }
   },
   "outputs": [
    {
     "name": "stdout",
     "output_type": "stream",
     "text": [
      "[' -h --help', ' -h -o( <str>)?', ' -h --output( <str>)?', ' -h --from <str>', ' -h --to <str>', ' -h --run', ' -h --execute', ' -h --timeout <int>', ' -h --strip', ' -h --precode( <str>)+', ' -h --knit( <str>)?', ' -h --rmagic', ' -h --nomagic', ' -h --render', ' -h --template <str>', ' -h --match <str>', ' -h --examples', ' -h --version', ' -h --debug', ' --help -o( <str>)?']\n"
     ]
    }
   ],
   "source": [
    "print(pairwise(option_list)[:20])"
   ]
  },
  {
   "cell_type": "markdown",
   "metadata": {
    "slideshow": {
     "slide_type": "subslide"
    }
   },
   "source": [
    "The new grammar `pairwise_notedown_grammar` is a copy of the `notedown` grammar, but with the list of options replaced with the above pairwise option list."
   ]
  },
  {
   "cell_type": "code",
   "execution_count": 90,
   "metadata": {
    "execution": {
     "iopub.execute_input": "2021-11-02T16:51:32.440906Z",
     "iopub.status.busy": "2021-11-02T16:51:32.440370Z",
     "iopub.status.idle": "2021-11-02T16:51:32.442185Z",
     "shell.execute_reply": "2021-11-02T16:51:32.442561Z"
    },
    "slideshow": {
     "slide_type": "fragment"
    }
   },
   "outputs": [],
   "source": [
    "notedown_grammar = notedown_runner.grammar()\n",
    "pairwise_notedown_grammar = extend_grammar(notedown_grammar)\n",
    "pairwise_notedown_grammar[\"<option>\"] = pairwise(notedown_grammar[\"<option>\"])\n",
    "assert is_valid_grammar(pairwise_notedown_grammar)"
   ]
  },
  {
   "cell_type": "markdown",
   "metadata": {
    "slideshow": {
     "slide_type": "subslide"
    }
   },
   "source": [
    "Using the \"pairwise\" grammar to fuzz now covers one pair after another:"
   ]
  },
  {
   "cell_type": "code",
   "execution_count": 91,
   "metadata": {
    "execution": {
     "iopub.execute_input": "2021-11-02T16:51:32.447327Z",
     "iopub.status.busy": "2021-11-02T16:51:32.446750Z",
     "iopub.status.idle": "2021-11-02T16:51:32.448316Z",
     "shell.execute_reply": "2021-11-02T16:51:32.448728Z"
    },
    "slideshow": {
     "slide_type": "fragment"
    }
   },
   "outputs": [],
   "source": [
    "notedown_fuzzer = GrammarCoverageFuzzer(\n",
    "    pairwise_notedown_grammar, max_nonterminals=4)"
   ]
  },
  {
   "cell_type": "code",
   "execution_count": 92,
   "metadata": {
    "execution": {
     "iopub.execute_input": "2021-11-02T16:51:32.536166Z",
     "iopub.status.busy": "2021-11-02T16:51:32.497344Z",
     "iopub.status.idle": "2021-11-02T16:51:33.305320Z",
     "shell.execute_reply": "2021-11-02T16:51:33.306159Z"
    },
    "slideshow": {
     "slide_type": "fragment"
    }
   },
   "outputs": [
    {
     "name": "stdout",
     "output_type": "stream",
     "text": [
      " --timeout 56 --debug\n",
      " --help --render --help --run\n",
      " -h --debug --help --debug\n",
      " --run --examples --rmagic --nomagic |\n",
      " --rmagic --version --nomagic --render\n",
      " --strip --nomagic -h --examples\n",
      " --examples --version -h --help\n",
      " --run --debug --execute --rmagic %\n",
      " --output : --run zj\n",
      " --nomagic --debug --nomagic --examples\n"
     ]
    }
   ],
   "source": [
    "for i in range(10):\n",
    "    print(notedown_fuzzer.fuzz())"
   ]
  },
  {
   "cell_type": "markdown",
   "metadata": {
    "slideshow": {
     "slide_type": "subslide"
    }
   },
   "source": [
    "Can we actually test all combinations of options?  Not in practice, as the number of combinations quickly grows as the length increases.  It decreases again as the number of options reaches the maximum (with 20 options, there is only 1 combination involving _all_ options), but the absolute numbers are still staggering:"
   ]
  },
  {
   "cell_type": "code",
   "execution_count": 93,
   "metadata": {
    "execution": {
     "iopub.execute_input": "2021-11-02T16:51:33.330427Z",
     "iopub.status.busy": "2021-11-02T16:51:33.318594Z",
     "iopub.status.idle": "2021-11-02T16:51:33.525797Z",
     "shell.execute_reply": "2021-11-02T16:51:33.526480Z"
    },
    "slideshow": {
     "slide_type": "fragment"
    }
   },
   "outputs": [
    {
     "name": "stdout",
     "output_type": "stream",
     "text": [
      "1 20\n",
      "2 190\n",
      "3 1140\n",
      "4 4845\n",
      "5 15504\n",
      "6 38760\n",
      "7 77520\n",
      "8 125970\n",
      "9 167960\n",
      "10 184756\n",
      "11 167960\n",
      "12 125970\n",
      "13 77520\n",
      "14 38760\n",
      "15 15504\n",
      "16 4845\n",
      "17 1140\n",
      "18 190\n",
      "19 20\n"
     ]
    }
   ],
   "source": [
    "for combination_length in range(1, 20):\n",
    "    tuples = list(combinations(option_list, combination_length))\n",
    "    print(combination_length, len(tuples))"
   ]
  },
  {
   "cell_type": "markdown",
   "metadata": {
    "slideshow": {
     "slide_type": "subslide"
    }
   },
   "source": [
    "Formally, the number of combinations of length $k$ in a set of options of length $n$ is the binomial coefficient\n",
    "$$\n",
    "{n \\choose k} = \\frac{n!}{k!(n - k)!}\n",
    "$$"
   ]
  },
  {
   "cell_type": "markdown",
   "metadata": {
    "slideshow": {
     "slide_type": "fragment"
    }
   },
   "source": [
    "which for $k = 2$ (all pairs) gives us\n",
    "\n",
    "$$\n",
    "{n \\choose 2} = \\frac{n!}{2(n - 2)!} = \\frac{n (n - 1)}{2}\n",
    "$$"
   ]
  },
  {
   "cell_type": "markdown",
   "metadata": {
    "slideshow": {
     "slide_type": "subslide"
    }
   },
   "source": [
    "For `autopep8` with its 29 options..."
   ]
  },
  {
   "cell_type": "code",
   "execution_count": 94,
   "metadata": {
    "execution": {
     "iopub.execute_input": "2021-11-02T16:51:33.532924Z",
     "iopub.status.busy": "2021-11-02T16:51:33.531897Z",
     "iopub.status.idle": "2021-11-02T16:51:33.536227Z",
     "shell.execute_reply": "2021-11-02T16:51:33.536774Z"
    },
    "slideshow": {
     "slide_type": "fragment"
    }
   },
   "outputs": [
    {
     "data": {
      "text/plain": [
       "30"
      ]
     },
     "execution_count": 94,
     "metadata": {},
     "output_type": "execute_result"
    }
   ],
   "source": [
    "len(autopep8_runner.ebnf_grammar()[\"<option>\"])"
   ]
  },
  {
   "cell_type": "markdown",
   "metadata": {
    "slideshow": {
     "slide_type": "fragment"
    }
   },
   "source": [
    "... we thus have 406 distinct pairs. However, the binomial coefficient does not differentiate between permutations of elements of the pairs, which our tests do. Therefore we need 812 tests to cover all pairs:"
   ]
  },
  {
   "cell_type": "code",
   "execution_count": 95,
   "metadata": {
    "execution": {
     "iopub.execute_input": "2021-11-02T16:51:33.541143Z",
     "iopub.status.busy": "2021-11-02T16:51:33.540501Z",
     "iopub.status.idle": "2021-11-02T16:51:33.542963Z",
     "shell.execute_reply": "2021-11-02T16:51:33.543334Z"
    },
    "slideshow": {
     "slide_type": "fragment"
    }
   },
   "outputs": [
    {
     "data": {
      "text/plain": [
       "870"
      ]
     },
     "execution_count": 95,
     "metadata": {},
     "output_type": "execute_result"
    }
   ],
   "source": [
    "len(autopep8_runner.ebnf_grammar()[\"<option>\"]) * \\\n",
    "    (len(autopep8_runner.ebnf_grammar()[\"<option>\"]) - 1)"
   ]
  },
  {
   "cell_type": "markdown",
   "metadata": {
    "slideshow": {
     "slide_type": "subslide"
    }
   },
   "source": [
    "For `mypy` with its 110 options, though, we already end up with 11,990 tests to be conducted:"
   ]
  },
  {
   "cell_type": "code",
   "execution_count": 96,
   "metadata": {
    "execution": {
     "iopub.execute_input": "2021-11-02T16:51:33.548768Z",
     "iopub.status.busy": "2021-11-02T16:51:33.547898Z",
     "iopub.status.idle": "2021-11-02T16:51:33.550999Z",
     "shell.execute_reply": "2021-11-02T16:51:33.551438Z"
    },
    "slideshow": {
     "slide_type": "fragment"
    }
   },
   "outputs": [
    {
     "data": {
      "text/plain": [
       "141"
      ]
     },
     "execution_count": 96,
     "metadata": {},
     "output_type": "execute_result"
    }
   ],
   "source": [
    "len(mypy_runner.ebnf_grammar()[\"<option>\"])"
   ]
  },
  {
   "cell_type": "code",
   "execution_count": 97,
   "metadata": {
    "execution": {
     "iopub.execute_input": "2021-11-02T16:51:33.555936Z",
     "iopub.status.busy": "2021-11-02T16:51:33.555206Z",
     "iopub.status.idle": "2021-11-02T16:51:33.557952Z",
     "shell.execute_reply": "2021-11-02T16:51:33.558333Z"
    },
    "slideshow": {
     "slide_type": "fragment"
    }
   },
   "outputs": [
    {
     "data": {
      "text/plain": [
       "19740"
      ]
     },
     "execution_count": 97,
     "metadata": {},
     "output_type": "execute_result"
    }
   ],
   "source": [
    "len(mypy_runner.ebnf_grammar()[\"<option>\"]) * \\\n",
    "    (len(mypy_runner.ebnf_grammar()[\"<option>\"]) - 1)"
   ]
  },
  {
   "cell_type": "markdown",
   "metadata": {
    "slideshow": {
     "slide_type": "fragment"
    }
   },
   "source": [
    "Even if each pair takes a second to run, we'd still be done in three hours of testing, though."
   ]
  },
  {
   "cell_type": "markdown",
   "metadata": {
    "slideshow": {
     "slide_type": "subslide"
    }
   },
   "source": [
    "If your program has more options that you all want to get covered in combinations, it is advisable that you limit the number of configurations further – for instance by limiting combinatorial testing to those combinations that possibly can interact with each other; and covering all other (presumably orthogonal) options individually."
   ]
  },
  {
   "cell_type": "markdown",
   "metadata": {
    "slideshow": {
     "slide_type": "fragment"
    }
   },
   "source": [
    "This mechanism of creating configurations by extending grammars can be easily extended to other configuration targets.  One may want to explore a greater number of configurations, or expansions in specific contexts.  The [exercises](#Exercises), below, have a number of options ready for you."
   ]
  },
  {
   "cell_type": "markdown",
   "metadata": {
    "slideshow": {
     "slide_type": "slide"
    }
   },
   "source": [
    "## Synopsis\n",
    "\n",
    "This chapter provides two classes:\n",
    "\n",
    "* `OptionRunner` automatically extract command-line options from a Python program;\n",
    "* `OptionFuzzer` uses these to automatically test a Python program with a large variety of options."
   ]
  },
  {
   "cell_type": "markdown",
   "metadata": {
    "slideshow": {
     "slide_type": "fragment"
    }
   },
   "source": [
    "`OptionRunner` runs a program up to the point where it parses its arguments, and then extracts a grammar that describes its invocations:"
   ]
  },
  {
   "cell_type": "code",
   "execution_count": 98,
   "metadata": {
    "execution": {
     "iopub.execute_input": "2021-11-02T16:51:33.562267Z",
     "iopub.status.busy": "2021-11-02T16:51:33.561740Z",
     "iopub.status.idle": "2021-11-02T16:51:33.566875Z",
     "shell.execute_reply": "2021-11-02T16:51:33.567281Z"
    },
    "slideshow": {
     "slide_type": "fragment"
    }
   },
   "outputs": [],
   "source": [
    "autopep8_runner = OptionRunner(\"autopep8\", \"foo.py\")"
   ]
  },
  {
   "cell_type": "markdown",
   "metadata": {
    "slideshow": {
     "slide_type": "fragment"
    }
   },
   "source": [
    "The grammar can be extracted via the method `ebnf_grammar()`:"
   ]
  },
  {
   "cell_type": "code",
   "execution_count": 99,
   "metadata": {
    "execution": {
     "iopub.execute_input": "2021-11-02T16:51:33.570978Z",
     "iopub.status.busy": "2021-11-02T16:51:33.570363Z",
     "iopub.status.idle": "2021-11-02T16:51:33.572815Z",
     "shell.execute_reply": "2021-11-02T16:51:33.573199Z"
    },
    "slideshow": {
     "slide_type": "fragment"
    }
   },
   "outputs": [
    {
     "name": "stdout",
     "output_type": "stream",
     "text": [
      "{'<start>': ['(<option>)*<arguments>'], '<option>': [' -h', ' --help', ' --version', ' -v', ' --verbose', ' -d', ' --diff', ' -i', ' --in-place', ' --global-config <filename>', ' --ignore-local-config', ' -r', ' --recursive', ' -j <n>', ' --jobs <n>', ' -p <n>', ' --pep8-passes <n>', ' -a', ' --aggressive', ' --experimental', ' --exclude <globs>', ' --list-fixes', ' --ignore <errors>', ' --select <errors>', ' --max-line-length <n>', ' --line-range <line> <line>', ' --range <line> <line>', ' --indent-size <int>', ' --hang-closing', ' --exit-code'], '<arguments>': [' foo.py'], '<str>': ['<char>+'], '<char>': ['0', '1', '2', '3', '4', '5', '6', '7', '8', '9', 'a', 'b', 'c', 'd', 'e', 'f', 'g', 'h', 'i', 'j', 'k', 'l', 'm', 'n', 'o', 'p', 'q', 'r', 's', 't', 'u', 'v', 'w', 'x', 'y', 'z', 'A', 'B', 'C', 'D', 'E', 'F', 'G', 'H', 'I', 'J', 'K', 'L', 'M', 'N', 'O', 'P', 'Q', 'R', 'S', 'T', 'U', 'V', 'W', 'X', 'Y', 'Z', '!', '\"', '#', '$', '%', '&', \"'\", '(', ')', '*', '+', ',', '-', '.', '/', ':', ';', '<', '=', '>', '?', '@', '[', '\\\\', ']', '^', '_', '`', '{', '|', '}', '~'], '<filename>': ['<str>'], '<int>': ['(-)?<digit>+'], '<digit>': ['0', '1', '2', '3', '4', '5', '6', '7', '8', '9'], '<n>': ['<int>'], '<globs>': ['<str>'], '<errors>': ['<str>'], '<line>': ['<int>']}\n"
     ]
    }
   ],
   "source": [
    "option_ebnf_grammar = autopep8_runner.ebnf_grammar()\n",
    "print(option_ebnf_grammar)"
   ]
  },
  {
   "cell_type": "markdown",
   "metadata": {
    "slideshow": {
     "slide_type": "fragment"
    }
   },
   "source": [
    "The grammar can be immediately used for fuzzing. A `GrammarCoverageFuzzer` will ensure all options are covered:"
   ]
  },
  {
   "cell_type": "code",
   "execution_count": 100,
   "metadata": {
    "execution": {
     "iopub.execute_input": "2021-11-02T16:51:33.576497Z",
     "iopub.status.busy": "2021-11-02T16:51:33.575950Z",
     "iopub.status.idle": "2021-11-02T16:51:33.577937Z",
     "shell.execute_reply": "2021-11-02T16:51:33.578314Z"
    },
    "slideshow": {
     "slide_type": "skip"
    }
   },
   "outputs": [],
   "source": [
    "from Grammars import convert_ebnf_grammar"
   ]
  },
  {
   "cell_type": "code",
   "execution_count": 101,
   "metadata": {
    "execution": {
     "iopub.execute_input": "2021-11-02T16:51:33.672553Z",
     "iopub.status.busy": "2021-11-02T16:51:33.627586Z",
     "iopub.status.idle": "2021-11-02T16:51:35.101020Z",
     "shell.execute_reply": "2021-11-02T16:51:35.101405Z"
    },
    "slideshow": {
     "slide_type": "fragment"
    }
   },
   "outputs": [
    {
     "data": {
      "text/plain": [
       "[' -v foo.py',\n",
       " ' --verbose --global-config e\\\\ --in-place --indent-size -9 --pep8-passes 48 -i --ignore-local-config -h --exit-code --select ] -r -a --help --exclude t --jobs -5 --aggressive --hang-closing --experimental --diff --range -26 -0 --max-line-length 7 --list-fixes --recursive -d --version -p -31 --line-range 6 2 --help -r -v --exit-code foo.py',\n",
       " ' --ignore P -j -9 --ignore }go --select * --global-config ;0 --select \\' --exclude !s --exclude L/HW:n\" --global-config T --ignore #V --select jur --exclude &+w --select 3 --ignore %RhF[` --exclude yMB --global-config 1 --ignore X --exclude _ --global-config xQ) --exclude =>d --ignore ( --ignore ~Y --exclude K --ignore .b --global-config A? --ignore CU --ignore , --global-config f --global-config Ez --exclude p$8c@ --ignore O --select <6 --global-config 5DS --global-config Iq2 --select 4 --exclude J^ --global-config Nv --select 79 --select i- --ignore |Zkml{Z --select aG --version --exclude d --exclude 8g foo.py']"
      ]
     },
     "execution_count": 101,
     "metadata": {},
     "output_type": "execute_result"
    }
   ],
   "source": [
    "fuzzer = GrammarCoverageFuzzer(convert_ebnf_grammar(option_ebnf_grammar))\n",
    "[fuzzer.fuzz() for i in range(3)]"
   ]
  },
  {
   "cell_type": "markdown",
   "metadata": {
    "slideshow": {
     "slide_type": "fragment"
    }
   },
   "source": [
    "The `OptionFuzzer` class summarizes these steps.  Its constructor takes an `OptionRunner` to automatically extract the grammar; it does the necessary steps to extract the grammar and fuzz with it."
   ]
  },
  {
   "cell_type": "code",
   "execution_count": 102,
   "metadata": {
    "execution": {
     "iopub.execute_input": "2021-11-02T16:51:35.107062Z",
     "iopub.status.busy": "2021-11-02T16:51:35.106521Z",
     "iopub.status.idle": "2021-11-02T16:51:35.113054Z",
     "shell.execute_reply": "2021-11-02T16:51:35.113437Z"
    },
    "slideshow": {
     "slide_type": "fragment"
    }
   },
   "outputs": [],
   "source": [
    "autopep8_runner = OptionRunner(\"autopep8\", \"foo.py\")\n",
    "autopep8_fuzzer = OptionFuzzer(autopep8_runner)"
   ]
  },
  {
   "cell_type": "code",
   "execution_count": 103,
   "metadata": {
    "execution": {
     "iopub.execute_input": "2021-11-02T16:51:35.201473Z",
     "iopub.status.busy": "2021-11-02T16:51:35.158086Z",
     "iopub.status.idle": "2021-11-02T16:51:35.725826Z",
     "shell.execute_reply": "2021-11-02T16:51:35.726194Z"
    },
    "slideshow": {
     "slide_type": "fragment"
    }
   },
   "outputs": [
    {
     "data": {
      "text/plain": [
       "[' foo.py',\n",
       " ' -v --pep8-passes 4 --global-config b --hang-closing --experimental --recursive -a --verbose -j -10729 --ignore-local-config -r --select ,! --exit-code --max-line-length -5 --ignore Di --indent-size -86 --jobs -3 --exclude { --help --diff -d --version -p -89 --list-fixes --line-range 1 -0 --range 6 5 --aggressive -i foo.py',\n",
       " \" --in-place -h --ignore vU --select O; --ignore mq' --ignore ~Q --global-config =F --ignore nfA?0% --exclude / --global-config g --select LB --global-config s --ignore 3\\\\ --select (y --global-config - --global-config : --exclude ke --select ^ --ignore `6 --ignore p --ignore T --select 4j --exclude I$ --ignore 1Z --exclude M --exclude rK --ignore wN95t --select a --global-config > --recursive --aggressive -a foo.py\"]"
      ]
     },
     "execution_count": 103,
     "metadata": {},
     "output_type": "execute_result"
    }
   ],
   "source": [
    "[autopep8_fuzzer.fuzz() for i in range(3)]"
   ]
  },
  {
   "cell_type": "markdown",
   "metadata": {
    "slideshow": {
     "slide_type": "fragment"
    }
   },
   "source": [
    "The final step in testing would now to invoke the program with these arguments."
   ]
  },
  {
   "cell_type": "markdown",
   "metadata": {
    "slideshow": {
     "slide_type": "fragment"
    }
   },
   "source": [
    "Note that `OptionRunner` is experimental: It assumes that the Python program in question uses the `argparse` module; and not all `argparse` features are supported.  Still, it does a pretty good job even on nontrivial programs."
   ]
  },
  {
   "cell_type": "markdown",
   "metadata": {
    "button": false,
    "new_sheet": true,
    "run_control": {
     "read_only": false
    },
    "slideshow": {
     "slide_type": "slide"
    }
   },
   "source": [
    "## Lessons Learned\n",
    "\n",
    "* Besides regular input data, program _configurations_ make an important testing target.\n",
    "* For a given program using a standard library to parse command-line options and arguments, one can automatically extract these and convert them into a grammar.\n",
    "* To cover not only single options, but combinations of options, one can expand the grammar to cover all pairs, or come up with even more ambitious targets."
   ]
  },
  {
   "cell_type": "markdown",
   "metadata": {
    "button": false,
    "new_sheet": false,
    "run_control": {
     "read_only": false
    },
    "slideshow": {
     "slide_type": "skip"
    }
   },
   "source": [
    "## Next Steps\n",
    "\n",
    "If you liked the idea of mining a grammar from a program, do not miss:\n",
    "\n",
    "* [how to mine grammars for input data](GrammarMiner.ipynb)"
   ]
  },
  {
   "cell_type": "markdown",
   "metadata": {
    "button": false,
    "new_sheet": false,
    "run_control": {
     "read_only": false
    },
    "slideshow": {
     "slide_type": "skip"
    }
   },
   "source": [
    "Our next steps in the book focus on:\n",
    "\n",
    "* [how to parse and recombine inputs](Parser.ipynb)\n",
    "* [how to assign weights and probabilities to specific productions](ProbabilisticGrammarFuzzer.ipynb)\n",
    "* [how to simplify inputs that cause a failure](Reducer.ipynb)"
   ]
  },
  {
   "cell_type": "markdown",
   "metadata": {
    "slideshow": {
     "slide_type": "slide"
    }
   },
   "source": [
    "## Background\n",
    "\n",
    "Although configuration data is just as likely to cause failures as other input data, it has received relatively little attention in test generation – possibly because, unlike \"regular\" input data, configuration data is not so much under control of external parties, and because, again unlike regular data, there is little variance in configurations.  Creating models for software configurations and using these models for testing is commonplace, as is the idea of pairwise testing.  For an overview, see \\cite{Pezze2008}; for a discussion and comparison of state-of-the-art techniques, see \\cite{Petke2015}.\n",
    "\n",
    "More specifically, \\cite{Sutton2007} also discuss techniques to systematically cover command-line options.  Dai et al. \\cite{Dai2010} apply configuration fuzzing by changing variables associated with configuration files.  "
   ]
  },
  {
   "cell_type": "markdown",
   "metadata": {
    "button": false,
    "new_sheet": false,
    "run_control": {
     "read_only": false
    },
    "slideshow": {
     "slide_type": "subslide"
    },
    "toc-hr-collapsed": false
   },
   "source": [
    "## Exercises"
   ]
  },
  {
   "cell_type": "markdown",
   "metadata": {
    "slideshow": {
     "slide_type": "subslide"
    },
    "toc-hr-collapsed": true
   },
   "source": [
    "### Exercise 1: #ifdef Configuration Fuzzing\n",
    "\n",
    "In C programs, the *C preprocessor* can be used to choose which code parts should be compiled and which ones should not.  As an example, in the C code\n",
    "\n",
    "```C\n",
    "#ifdef LONG_FOO\n",
    "long foo() { ... }\n",
    "#else\n",
    "int foo() { ... }\n",
    "#endif\n",
    "```\n",
    "\n",
    "the compiler will compile the function `foo()` with return type`long` if the _preprocessor variable_ `LONG_FOO` is defined, and with return type `int` if not.  Such preprocessor variables are either set in the source files (using `#define`, as in `#define LONG_FOO`) or on the C compiler command line (using `-D<variable>` or `-D<variable>=<value>`, as in `-DLONG_FOO`."
   ]
  },
  {
   "cell_type": "markdown",
   "metadata": {
    "slideshow": {
     "slide_type": "subslide"
    }
   },
   "source": [
    "Such *conditional compilation* is used to configure C programs towards their environment.  System-specific code can contain lots of conditional compilation.  As an example, consider this excerpt of `xmlparse.c`, the XML parser that is part of the Python runtime library:\n",
    "\n",
    "```c\n",
    "#if defined(_WIN32) && !defined(LOAD_LIBRARY_SEARCH_SYSTEM32)\n",
    "# define LOAD_LIBRARY_SEARCH_SYSTEM32  0x00000800\n",
    "#endif\n",
    "\n",
    "#if !defined(HAVE_GETRANDOM) && !defined(HAVE_SYSCALL_GETRANDOM) \\\n",
    "    && !defined(HAVE_ARC4RANDOM_BUF) && !defined(HAVE_ARC4RANDOM) \\\n",
    "    && !defined(XML_DEV_URANDOM) \\\n",
    "    && !defined(_WIN32) \\\n",
    "    && !defined(XML_POOR_ENTROPY)\n",
    "# error\n",
    "#endif\n",
    "\n",
    "#if !defined(TIOCSWINSZ) || defined(__SCO__) || defined(__UNIXWARE__)\n",
    "#define USE_SYSV_ENVVARS\t/* COLUMNS/LINES vs. TERMCAP */\n",
    "#endif\n",
    "\n",
    "#ifdef XML_UNICODE_WCHAR_T\n",
    "#define XML_T(x) (const wchar_t)x\n",
    "#define XML_L(x) L ## x\n",
    "#else\n",
    "#define XML_T(x) (const unsigned short)x\n",
    "#define XML_L(x) x\n",
    "#endif\n",
    "\n",
    "int fun(int x) { return XML_T(x); }\n",
    "```"
   ]
  },
  {
   "cell_type": "markdown",
   "metadata": {
    "slideshow": {
     "slide_type": "subslide"
    }
   },
   "source": [
    "A typical configuration for the C preprocessor on the above code could be `cc -c -D_WIN32 -DXML_POOR_ENTROPY -DXML_UNICODE_WCHAR_T xmlparse.c`, defining the given preprocessor variables and selecting the appropriate code fragments."
   ]
  },
  {
   "cell_type": "markdown",
   "metadata": {
    "slideshow": {
     "slide_type": "subslide"
    }
   },
   "source": [
    "Since the compiler can only compile one configuration at a time (implying that we can also only _test_ one resulting executable at a time), your task is to find out which of these configurations actually compile.  To this end, proceed in three steps."
   ]
  },
  {
   "cell_type": "markdown",
   "metadata": {
    "slideshow": {
     "slide_type": "subslide"
    },
    "solution2": "hidden",
    "solution2_first": true
   },
   "source": [
    "#### Part 1: Extract Preprocessor Variables\n",
    "\n",
    "Write a _function_ `cpp_identifiers()` that, given a set of lines (say, from `open(filename).readlines()`), extracts all preprocessor variables referenced in `#if` or `#ifdef` preprocessor instructions.  Apply `ifdef_identifiers()` on the sample C input above, such that\n",
    "\n",
    "```python\n",
    "cpp_identifiers(open(\"xmlparse.c\").readlines()) \n",
    "```\n",
    "\n",
    "returns the set\n",
    "\n",
    "```python\n",
    "{'_WIN32', 'LOAD_LIBRARY_SEARCH_SYSTEM32', 'HAVE_GETRANDOM', 'HAVE_SYSCALL_GETRANDOM', 'HAVE_ARC4RANDOM_BUF', ...}\n",
    "\n",
    "```"
   ]
  },
  {
   "cell_type": "markdown",
   "metadata": {
    "slideshow": {
     "slide_type": "skip"
    },
    "solution2": "hidden"
   },
   "source": [
    "**Solution.**  Let us start with creating a sample input file, `xmlparse.c`:"
   ]
  },
  {
   "cell_type": "code",
   "execution_count": 104,
   "metadata": {
    "execution": {
     "iopub.execute_input": "2021-11-02T16:51:35.731456Z",
     "iopub.status.busy": "2021-11-02T16:51:35.730928Z",
     "iopub.status.idle": "2021-11-02T16:51:35.733126Z",
     "shell.execute_reply": "2021-11-02T16:51:35.733610Z"
    },
    "slideshow": {
     "slide_type": "skip"
    },
    "solution2": "hidden"
   },
   "outputs": [],
   "source": [
    "filename = \"xmlparse.c\"\n",
    "\n",
    "open(filename, \"w\").write(\n",
    "    \"\"\"\n",
    "#if defined(_WIN32) && !defined(LOAD_LIBRARY_SEARCH_SYSTEM32)\n",
    "# define LOAD_LIBRARY_SEARCH_SYSTEM32  0x00000800\n",
    "#endif\n",
    "\n",
    "#if !defined(HAVE_GETRANDOM) && !defined(HAVE_SYSCALL_GETRANDOM) \\\n",
    "    && !defined(HAVE_ARC4RANDOM_BUF) && !defined(HAVE_ARC4RANDOM) \\\n",
    "    && !defined(XML_DEV_URANDOM) \\\n",
    "    && !defined(_WIN32) \\\n",
    "    && !defined(XML_POOR_ENTROPY)\n",
    "# error\n",
    "#endif\n",
    "\n",
    "#if !defined(TIOCSWINSZ) || defined(__SCO__) || defined(__UNIXWARE__)\n",
    "#define USE_SYSV_ENVVARS\t/* COLUMNS/LINES vs. TERMCAP */\n",
    "#endif\n",
    "\n",
    "#ifdef XML_UNICODE_WCHAR_T\n",
    "#define XML_T(x) (const wchar_t)x\n",
    "#define XML_L(x) L ## x\n",
    "#else\n",
    "#define XML_T(x) (const unsigned short)x\n",
    "#define XML_L(x) x\n",
    "#endif\n",
    "\n",
    "int fun(int x) { return XML_T(x); }\n",
    "\"\"\");"
   ]
  },
  {
   "cell_type": "markdown",
   "metadata": {
    "slideshow": {
     "slide_type": "skip"
    },
    "solution2": "hidden"
   },
   "source": [
    "To find C preprocessor `#if` directives and preprocessor variables, we use regular expressions matching them."
   ]
  },
  {
   "cell_type": "code",
   "execution_count": 105,
   "metadata": {
    "execution": {
     "iopub.execute_input": "2021-11-02T16:51:35.737877Z",
     "iopub.status.busy": "2021-11-02T16:51:35.737322Z",
     "iopub.status.idle": "2021-11-02T16:51:35.739075Z",
     "shell.execute_reply": "2021-11-02T16:51:35.739686Z"
    },
    "slideshow": {
     "slide_type": "skip"
    },
    "solution2": "hidden"
   },
   "outputs": [],
   "source": [
    "import re"
   ]
  },
  {
   "cell_type": "code",
   "execution_count": 106,
   "metadata": {
    "execution": {
     "iopub.execute_input": "2021-11-02T16:51:35.746151Z",
     "iopub.status.busy": "2021-11-02T16:51:35.745440Z",
     "iopub.status.idle": "2021-11-02T16:51:35.747665Z",
     "shell.execute_reply": "2021-11-02T16:51:35.747268Z"
    },
    "slideshow": {
     "slide_type": "skip"
    },
    "solution2": "hidden"
   },
   "outputs": [],
   "source": [
    "re_cpp_if_directive = re.compile(r\"\\s*#\\s*(el)?if\")\n",
    "re_cpp_identifier = re.compile(r\"[a-zA-Z_$]+\")"
   ]
  },
  {
   "cell_type": "code",
   "execution_count": 107,
   "metadata": {
    "execution": {
     "iopub.execute_input": "2021-11-02T16:51:35.752354Z",
     "iopub.status.busy": "2021-11-02T16:51:35.751836Z",
     "iopub.status.idle": "2021-11-02T16:51:35.753577Z",
     "shell.execute_reply": "2021-11-02T16:51:35.754013Z"
    },
    "slideshow": {
     "slide_type": "skip"
    },
    "solution2": "hidden"
   },
   "outputs": [],
   "source": [
    "def cpp_identifiers(lines):\n",
    "    identifiers = set()\n",
    "    for line in lines:\n",
    "        if re_cpp_if_directive.match(line):\n",
    "            identifiers |= set(re_cpp_identifier.findall(line))\n",
    "\n",
    "    # These are preprocessor keywords\n",
    "    identifiers -= {\"if\", \"ifdef\", \"ifndef\", \"defined\"}\n",
    "    return identifiers"
   ]
  },
  {
   "cell_type": "code",
   "execution_count": 108,
   "metadata": {
    "execution": {
     "iopub.execute_input": "2021-11-02T16:51:35.757027Z",
     "iopub.status.busy": "2021-11-02T16:51:35.756489Z",
     "iopub.status.idle": "2021-11-02T16:51:35.768203Z",
     "shell.execute_reply": "2021-11-02T16:51:35.768706Z"
    },
    "slideshow": {
     "slide_type": "skip"
    },
    "solution2": "hidden"
   },
   "outputs": [
    {
     "data": {
      "text/plain": [
       "{'HAVE_ARC',\n",
       " 'HAVE_GETRANDOM',\n",
       " 'HAVE_SYSCALL_GETRANDOM',\n",
       " 'LOAD_LIBRARY_SEARCH_SYSTEM',\n",
       " 'RANDOM',\n",
       " 'RANDOM_BUF',\n",
       " 'TIOCSWINSZ',\n",
       " 'XML_DEV_URANDOM',\n",
       " 'XML_POOR_ENTROPY',\n",
       " 'XML_UNICODE_WCHAR_T',\n",
       " '_WIN',\n",
       " '__SCO__',\n",
       " '__UNIXWARE__'}"
      ]
     },
     "execution_count": 108,
     "metadata": {},
     "output_type": "execute_result"
    }
   ],
   "source": [
    "cpp_ids = cpp_identifiers(open(\"xmlparse.c\").readlines())\n",
    "cpp_ids"
   ]
  },
  {
   "cell_type": "markdown",
   "metadata": {
    "slideshow": {
     "slide_type": "subslide"
    },
    "solution2": "hidden",
    "solution2_first": true
   },
   "source": [
    "#### Part 2: Derive an Option Grammar\n",
    "\n",
    "With the help of `cpp_identifiers()`, create a grammar which has C compiler invocations with a list of options, where each option takes the form `-D<variable>` for a preprocessor variable `<variable>`.  Using this grammar `cpp_grammar`, a fuzzer \n",
    "\n",
    "```python\n",
    "g = GrammarCoverageFuzzer(cpp_grammar)\n",
    "```\n",
    "\n",
    "would create C compiler invocations such as\n",
    "\n",
    "```python\n",
    "[g.fuzz() for i in range(10)]\n",
    "['cc -DHAVE_SYSCALL_GETRANDOM xmlparse.c',\n",
    " 'cc -D__SCO__ -DRANDOM_BUF -DXML_UNICODE_WCHAR_T -D__UNIXWARE__ xmlparse.c',\n",
    " 'cc -DXML_POOR_ENTROPY xmlparse.c',\n",
    " 'cc -DRANDOM xmlparse.c',\n",
    " 'cc -D_WIN xmlparse.c',\n",
    " 'cc -DHAVE_ARC xmlparse.c', ...]\n",
    "```"
   ]
  },
  {
   "cell_type": "markdown",
   "metadata": {
    "slideshow": {
     "slide_type": "skip"
    },
    "solution2": "hidden"
   },
   "source": [
    "**Solution.** This is not very difficult:"
   ]
  },
  {
   "cell_type": "code",
   "execution_count": 109,
   "metadata": {
    "execution": {
     "iopub.execute_input": "2021-11-02T16:51:35.772323Z",
     "iopub.status.busy": "2021-11-02T16:51:35.771786Z",
     "iopub.status.idle": "2021-11-02T16:51:35.773593Z",
     "shell.execute_reply": "2021-11-02T16:51:35.773980Z"
    },
    "slideshow": {
     "slide_type": "skip"
    },
    "solution2": "hidden"
   },
   "outputs": [],
   "source": [
    "from Grammars import new_symbol"
   ]
  },
  {
   "cell_type": "code",
   "execution_count": 110,
   "metadata": {
    "execution": {
     "iopub.execute_input": "2021-11-02T16:51:35.779298Z",
     "iopub.status.busy": "2021-11-02T16:51:35.778772Z",
     "iopub.status.idle": "2021-11-02T16:51:35.781018Z",
     "shell.execute_reply": "2021-11-02T16:51:35.781383Z"
    },
    "slideshow": {
     "slide_type": "skip"
    },
    "solution2": "hidden"
   },
   "outputs": [
    {
     "data": {
      "text/plain": [
       "{'<start>': ['cc -c<options> xmlparse.c'],\n",
       " '<options>': ['<option>', '<options><option>'],\n",
       " '<option>': ['<HAVE_ARC>',\n",
       "  '<_WIN>',\n",
       "  '<RANDOM>',\n",
       "  '<__SCO__>',\n",
       "  '<XML_UNICODE_WCHAR_T>',\n",
       "  '<LOAD_LIBRARY_SEARCH_SYSTEM>',\n",
       "  '<TIOCSWINSZ>',\n",
       "  '<HAVE_GETRANDOM>',\n",
       "  '<RANDOM_BUF>',\n",
       "  '<XML_POOR_ENTROPY>',\n",
       "  '<HAVE_SYSCALL_GETRANDOM>',\n",
       "  '<XML_DEV_URANDOM>',\n",
       "  '<__UNIXWARE__>'],\n",
       " '<HAVE_ARC>': [' -DHAVE_ARC'],\n",
       " '<_WIN>': [' -D_WIN'],\n",
       " '<RANDOM>': [' -DRANDOM'],\n",
       " '<__SCO__>': [' -D__SCO__'],\n",
       " '<XML_UNICODE_WCHAR_T>': [' -DXML_UNICODE_WCHAR_T'],\n",
       " '<LOAD_LIBRARY_SEARCH_SYSTEM>': [' -DLOAD_LIBRARY_SEARCH_SYSTEM'],\n",
       " '<TIOCSWINSZ>': [' -DTIOCSWINSZ'],\n",
       " '<HAVE_GETRANDOM>': [' -DHAVE_GETRANDOM'],\n",
       " '<RANDOM_BUF>': [' -DRANDOM_BUF'],\n",
       " '<XML_POOR_ENTROPY>': [' -DXML_POOR_ENTROPY'],\n",
       " '<HAVE_SYSCALL_GETRANDOM>': [' -DHAVE_SYSCALL_GETRANDOM'],\n",
       " '<XML_DEV_URANDOM>': [' -DXML_DEV_URANDOM'],\n",
       " '<__UNIXWARE__>': [' -D__UNIXWARE__']}"
      ]
     },
     "execution_count": 110,
     "metadata": {},
     "output_type": "execute_result"
    }
   ],
   "source": [
    "cpp_grammar = {\n",
    "    \"<start>\": [\"cc -c<options> \" + filename],\n",
    "    \"<options>\": [\"<option>\", \"<options><option>\"],\n",
    "    \"<option>\": []\n",
    "}\n",
    "for id in cpp_ids:\n",
    "    s = new_symbol(cpp_grammar, \"<\" + id + \">\")\n",
    "    cpp_grammar[\"<option>\"].append(s)\n",
    "    cpp_grammar[s] = [\" -D\" + id]\n",
    "\n",
    "cpp_grammar"
   ]
  },
  {
   "cell_type": "code",
   "execution_count": 111,
   "metadata": {
    "execution": {
     "iopub.execute_input": "2021-11-02T16:51:35.784379Z",
     "iopub.status.busy": "2021-11-02T16:51:35.783874Z",
     "iopub.status.idle": "2021-11-02T16:51:35.785580Z",
     "shell.execute_reply": "2021-11-02T16:51:35.786006Z"
    },
    "slideshow": {
     "slide_type": "skip"
    },
    "solution2": "hidden"
   },
   "outputs": [],
   "source": [
    "assert is_valid_grammar(cpp_grammar)"
   ]
  },
  {
   "cell_type": "markdown",
   "metadata": {
    "slideshow": {
     "slide_type": "subslide"
    },
    "solution2": "hidden",
    "solution2_first": true
   },
   "source": [
    "#### Part 3: C Preprocessor Configuration Fuzzing\n",
    "\n",
    "Using the grammar just produced, use a `GrammarCoverageFuzzer` to\n",
    "\n",
    "1. Test each processor variable individually\n",
    "2. Test each pair of processor variables, using `pairwise()`.\n",
    "\n",
    "What happens if you actually run the invocations?"
   ]
  },
  {
   "cell_type": "markdown",
   "metadata": {
    "slideshow": {
     "slide_type": "skip"
    },
    "solution2": "hidden"
   },
   "source": [
    "**Solution.** We can simply run the coverage fuzzer, as described above."
   ]
  },
  {
   "cell_type": "code",
   "execution_count": 112,
   "metadata": {
    "execution": {
     "iopub.execute_input": "2021-11-02T16:51:35.790128Z",
     "iopub.status.busy": "2021-11-02T16:51:35.789539Z",
     "iopub.status.idle": "2021-11-02T16:51:35.791814Z",
     "shell.execute_reply": "2021-11-02T16:51:35.792181Z"
    },
    "slideshow": {
     "slide_type": "skip"
    },
    "solution2": "hidden"
   },
   "outputs": [
    {
     "data": {
      "text/plain": [
       "'cc -c -D__SCO__ -DHAVE_GETRANDOM xmlparse.c'"
      ]
     },
     "execution_count": 112,
     "metadata": {},
     "output_type": "execute_result"
    }
   ],
   "source": [
    "g = GrammarCoverageFuzzer(cpp_grammar)\n",
    "g.fuzz()"
   ]
  },
  {
   "cell_type": "code",
   "execution_count": 113,
   "metadata": {
    "execution": {
     "iopub.execute_input": "2021-11-02T16:51:35.795268Z",
     "iopub.status.busy": "2021-11-02T16:51:35.794746Z",
     "iopub.status.idle": "2021-11-02T16:51:35.796580Z",
     "shell.execute_reply": "2021-11-02T16:51:35.796997Z"
    },
    "slideshow": {
     "slide_type": "skip"
    },
    "solution2": "hidden"
   },
   "outputs": [],
   "source": [
    "from Fuzzer import ProgramRunner"
   ]
  },
  {
   "cell_type": "code",
   "execution_count": 114,
   "metadata": {
    "execution": {
     "iopub.execute_input": "2021-11-02T16:51:35.801439Z",
     "iopub.status.busy": "2021-11-02T16:51:35.800917Z",
     "iopub.status.idle": "2021-11-02T16:51:36.291778Z",
     "shell.execute_reply": "2021-11-02T16:51:36.292160Z"
    },
    "slideshow": {
     "slide_type": "skip"
    },
    "solution2": "hidden"
   },
   "outputs": [
    {
     "name": "stdout",
     "output_type": "stream",
     "text": [
      "$ cc -c -DXML_POOR_ENTROPY -DXML_DEV_URANDOM xmlparse.c\n",
      "$ cc -c -DRANDOM xmlparse.c\n",
      "xmlparse.c:7:3: error: \n",
      "# error\n",
      "  ^\n",
      "1 error generated.\n",
      "$ cc -c -DHAVE_SYSCALL_GETRANDOM -DRANDOM_BUF -D_WIN xmlparse.c\n",
      "$ cc -c -DXML_UNICODE_WCHAR_T -DTIOCSWINSZ -DHAVE_ARC -DLOAD_LIBRARY_SEARCH_SYSTEM xmlparse.c\n",
      "xmlparse.c:7:3: error: \n",
      "# error\n",
      "  ^\n",
      "xmlparse.c:22:25: error: expected ')'\n",
      "int fun(int x) { return XML_T(x); }\n",
      "                        ^\n",
      "xmlparse.c:15:25: note: expanded from macro 'XML_T'\n",
      "#define XML_T(x) (const wchar_t)x\n",
      "                        ^\n",
      "xmlparse.c:22:25: note: to match this '('\n",
      "xmlparse.c:15:18: note: expanded from macro 'XML_T'\n",
      "#define XML_T(x) (const wchar_t)x\n",
      "                 ^\n",
      "xmlparse.c:22:25: warning: type specifier missing, defaults to 'int' [-Wimplicit-int]\n",
      "int fun(int x) { return XML_T(x); }\n",
      "                        ^~~~~~~~\n",
      "xmlparse.c:15:25: note: expanded from macro 'XML_T'\n",
      "#define XML_T(x) (const wchar_t)x\n",
      "                  ~~~~~ ^\n",
      "1 warning and 2 errors generated.\n",
      "$ cc -c -DTIOCSWINSZ -D__UNIXWARE__ -D__UNIXWARE__ xmlparse.c\n",
      "xmlparse.c:7:3: error: \n",
      "# error\n",
      "  ^\n",
      "1 error generated.\n",
      "$ cc -c -DXML_POOR_ENTROPY -DLOAD_LIBRARY_SEARCH_SYSTEM xmlparse.c\n",
      "$ cc -c -DXML_POOR_ENTROPY xmlparse.c\n",
      "$ cc -c -DRANDOM_BUF xmlparse.c\n",
      "xmlparse.c:7:3: error: \n",
      "# error\n",
      "  ^\n",
      "1 error generated.\n",
      "$ cc -c -DLOAD_LIBRARY_SEARCH_SYSTEM -DHAVE_GETRANDOM xmlparse.c\n",
      "$ cc -c -DHAVE_GETRANDOM -DHAVE_SYSCALL_GETRANDOM xmlparse.c\n"
     ]
    }
   ],
   "source": [
    "for i in range(10):\n",
    "    invocation = g.fuzz()\n",
    "    print(\"$\", invocation)\n",
    "    # subprocess.call(invocation, shell=True)\n",
    "    cc_runner = ProgramRunner(invocation.split(' '))\n",
    "    (result, outcome) = cc_runner.run()\n",
    "    print(result.stderr, end=\"\")"
   ]
  },
  {
   "cell_type": "markdown",
   "metadata": {
    "slideshow": {
     "slide_type": "skip"
    },
    "solution2": "hidden"
   },
   "source": [
    "To test all pairs, we can use `pairwise()`:"
   ]
  },
  {
   "cell_type": "code",
   "execution_count": 115,
   "metadata": {
    "execution": {
     "iopub.execute_input": "2021-11-02T16:51:36.298321Z",
     "iopub.status.busy": "2021-11-02T16:51:36.297789Z",
     "iopub.status.idle": "2021-11-02T16:51:36.300043Z",
     "shell.execute_reply": "2021-11-02T16:51:36.300429Z"
    },
    "slideshow": {
     "slide_type": "skip"
    },
    "solution2": "hidden"
   },
   "outputs": [
    {
     "data": {
      "text/plain": [
       "['<HAVE_ARC><_WIN>',\n",
       " '<HAVE_ARC><RANDOM>',\n",
       " '<HAVE_ARC><__SCO__>',\n",
       " '<HAVE_ARC><XML_UNICODE_WCHAR_T>',\n",
       " '<HAVE_ARC><LOAD_LIBRARY_SEARCH_SYSTEM>',\n",
       " '<HAVE_ARC><TIOCSWINSZ>',\n",
       " '<HAVE_ARC><HAVE_GETRANDOM>',\n",
       " '<HAVE_ARC><RANDOM_BUF>',\n",
       " '<HAVE_ARC><XML_POOR_ENTROPY>',\n",
       " '<HAVE_ARC><HAVE_SYSCALL_GETRANDOM>']"
      ]
     },
     "execution_count": 115,
     "metadata": {},
     "output_type": "execute_result"
    }
   ],
   "source": [
    "pairwise_cpp_grammar = extend_grammar(cpp_grammar)\n",
    "pairwise_cpp_grammar[\"<option>\"] = pairwise(cpp_grammar[\"<option>\"])\n",
    "pairwise_cpp_grammar[\"<option>\"][:10]"
   ]
  },
  {
   "cell_type": "code",
   "execution_count": 116,
   "metadata": {
    "execution": {
     "iopub.execute_input": "2021-11-02T16:51:36.312756Z",
     "iopub.status.busy": "2021-11-02T16:51:36.310831Z",
     "iopub.status.idle": "2021-11-02T16:51:36.724332Z",
     "shell.execute_reply": "2021-11-02T16:51:36.724771Z"
    },
    "slideshow": {
     "slide_type": "skip"
    },
    "solution2": "hidden"
   },
   "outputs": [
    {
     "name": "stdout",
     "output_type": "stream",
     "text": [
      "$ cc -c -DXML_POOR_ENTROPY xmlparse.c\n",
      "$ cc -c -DHAVE_SYSCALL_GETRANDOM -DHAVE_SYSCALL_GETRANDOM -DRANDOM xmlparse.c\n",
      "$ cc -c -DLOAD_LIBRARY_SEARCH_SYSTEM -D__UNIXWARE__ xmlparse.c\n",
      "xmlparse.c:7:3: error: \n",
      "# error\n",
      "  ^\n",
      "1 error generated.\n",
      "$ cc -c -DXML_POOR_ENTROPY -DHAVE_GETRANDOM xmlparse.c\n",
      "$ cc -c -DHAVE_SYSCALL_GETRANDOM xmlparse.c\n",
      "$ cc -c -DHAVE_ARC -DHAVE_GETRANDOM -DLOAD_LIBRARY_SEARCH_SYSTEM xmlparse.c\n",
      "$ cc -c -DTIOCSWINSZ xmlparse.c\n",
      "xmlparse.c:7:3: error: \n",
      "# error\n",
      "  ^\n",
      "1 error generated.\n",
      "$ cc -c -D__UNIXWARE__ xmlparse.c\n",
      "xmlparse.c:7:3: error: \n",
      "# error\n",
      "  ^\n",
      "1 error generated.\n",
      "$ cc -c -DXML_POOR_ENTROPY xmlparse.c\n",
      "$ cc -c -DHAVE_SYSCALL_GETRANDOM -DRANDOM xmlparse.c\n"
     ]
    }
   ],
   "source": [
    "for i in range(10):\n",
    "    invocation = g.fuzz()\n",
    "    print(\"$\", invocation)\n",
    "    # subprocess.call(invocation, shell=True)\n",
    "    cc_runner = ProgramRunner(invocation.split(' '))\n",
    "    (result, outcome) = cc_runner.run()\n",
    "    print(result.stderr, end=\"\")"
   ]
  },
  {
   "cell_type": "markdown",
   "metadata": {
    "slideshow": {
     "slide_type": "skip"
    },
    "solution2": "hidden"
   },
   "source": [
    "Some of the compilation errors we get could be expected – for instance, defining `XML_UNICODE_WCHAR_T` when actually, the type is not supported in our environment.  Other errors may not be expected – and it is these errors we would find through systematic configuration fuzzing, as described above."
   ]
  },
  {
   "cell_type": "markdown",
   "metadata": {
    "slideshow": {
     "slide_type": "skip"
    },
    "solution2": "hidden"
   },
   "source": [
    "At the end, don't forget to clean up:"
   ]
  },
  {
   "cell_type": "code",
   "execution_count": 117,
   "metadata": {
    "execution": {
     "iopub.execute_input": "2021-11-02T16:51:36.728984Z",
     "iopub.status.busy": "2021-11-02T16:51:36.728461Z",
     "iopub.status.idle": "2021-11-02T16:51:36.730491Z",
     "shell.execute_reply": "2021-11-02T16:51:36.730862Z"
    },
    "slideshow": {
     "slide_type": "skip"
    },
    "solution2": "hidden",
    "solution2_first": true
   },
   "outputs": [],
   "source": [
    "os.remove(\"xmlparse.c\")"
   ]
  },
  {
   "cell_type": "code",
   "execution_count": 118,
   "metadata": {
    "execution": {
     "iopub.execute_input": "2021-11-02T16:51:36.733972Z",
     "iopub.status.busy": "2021-11-02T16:51:36.733449Z",
     "iopub.status.idle": "2021-11-02T16:51:36.735589Z",
     "shell.execute_reply": "2021-11-02T16:51:36.735983Z"
    },
    "slideshow": {
     "slide_type": "skip"
    },
    "solution2": "hidden",
    "solution2_first": true
   },
   "outputs": [],
   "source": [
    "if os.path.exists(\"xmlparse.o\"):\n",
    "    os.remove(\"xmlparse.o\")"
   ]
  },
  {
   "cell_type": "markdown",
   "metadata": {
    "button": false,
    "new_sheet": false,
    "run_control": {
     "read_only": false
    },
    "slideshow": {
     "slide_type": "subslide"
    },
    "toc-hr-collapsed": true
   },
   "source": [
    "### Exercise 2: .ini Configuration Fuzzing\n",
    "\n",
    "Besides command-line options, another important source of configurations are _configuration files_.  In this exercise, we will consider the very simple configuration language provided by the Python `ConfigParser` module, which is very similar to what is found in Microsoft Windows _.ini_ files."
   ]
  },
  {
   "cell_type": "markdown",
   "metadata": {
    "button": false,
    "new_sheet": false,
    "run_control": {
     "read_only": false
    },
    "slideshow": {
     "slide_type": "subslide"
    }
   },
   "source": [
    "The following example for a `ConfigParser` input file stems right from [the ConfigParser documentation](https://docs.python.org/3/library/configparser.html):\n",
    "```\n",
    "[DEFAULT]\n",
    "ServerAliveInterval = 45\n",
    "Compression = yes\n",
    "CompressionLevel = 9\n",
    "ForwardX11 = yes\n",
    "\n",
    "[bitbucket.org]\n",
    "User = hg\n",
    "\n",
    "[topsecret.server.com]\n",
    "Port = 50022\n",
    "ForwardX11 = no\n",
    "```"
   ]
  },
  {
   "cell_type": "markdown",
   "metadata": {
    "slideshow": {
     "slide_type": "subslide"
    }
   },
   "source": [
    "The above `ConfigParser` file can be created programmatically:"
   ]
  },
  {
   "cell_type": "code",
   "execution_count": 119,
   "metadata": {
    "execution": {
     "iopub.execute_input": "2021-11-02T16:51:36.739308Z",
     "iopub.status.busy": "2021-11-02T16:51:36.738797Z",
     "iopub.status.idle": "2021-11-02T16:51:36.740592Z",
     "shell.execute_reply": "2021-11-02T16:51:36.740960Z"
    },
    "slideshow": {
     "slide_type": "skip"
    }
   },
   "outputs": [],
   "source": [
    "import configparser"
   ]
  },
  {
   "cell_type": "code",
   "execution_count": 120,
   "metadata": {
    "execution": {
     "iopub.execute_input": "2021-11-02T16:51:36.746664Z",
     "iopub.status.busy": "2021-11-02T16:51:36.746124Z",
     "iopub.status.idle": "2021-11-02T16:51:36.748713Z",
     "shell.execute_reply": "2021-11-02T16:51:36.749081Z"
    },
    "slideshow": {
     "slide_type": "subslide"
    }
   },
   "outputs": [
    {
     "name": "stdout",
     "output_type": "stream",
     "text": [
      "[DEFAULT]\n",
      "serveraliveinterval = 45\n",
      "compression = yes\n",
      "compressionlevel = 9\n",
      "forwardx11 = yes\n",
      "\n",
      "[bitbucket.org]\n",
      "user = hg\n",
      "\n",
      "[topsecret.server.com]\n",
      "port = 50022\n",
      "forwardx11 = no\n",
      "\n"
     ]
    }
   ],
   "source": [
    "config = configparser.ConfigParser()\n",
    "config['DEFAULT'] = {'ServerAliveInterval': '45',\n",
    "                     'Compression': 'yes',\n",
    "                     'CompressionLevel': '9'}\n",
    "config['bitbucket.org'] = {}\n",
    "config['bitbucket.org']['User'] = 'hg'\n",
    "config['topsecret.server.com'] = {}\n",
    "topsecret = config['topsecret.server.com']\n",
    "topsecret['Port'] = '50022'     # mutates the parser\n",
    "topsecret['ForwardX11'] = 'no'  # same here\n",
    "config['DEFAULT']['ForwardX11'] = 'yes'\n",
    "with open('example.ini', 'w') as configfile:\n",
    "    config.write(configfile)\n",
    "\n",
    "with open('example.ini') as configfile:\n",
    "    print(configfile.read(), end=\"\")"
   ]
  },
  {
   "cell_type": "markdown",
   "metadata": {
    "slideshow": {
     "slide_type": "subslide"
    }
   },
   "source": [
    "and be read in again:"
   ]
  },
  {
   "cell_type": "code",
   "execution_count": 121,
   "metadata": {
    "cell_style": "center",
    "execution": {
     "iopub.execute_input": "2021-11-02T16:51:36.752626Z",
     "iopub.status.busy": "2021-11-02T16:51:36.752056Z",
     "iopub.status.idle": "2021-11-02T16:51:36.755598Z",
     "shell.execute_reply": "2021-11-02T16:51:36.755973Z"
    },
    "slideshow": {
     "slide_type": "fragment"
    }
   },
   "outputs": [
    {
     "data": {
      "text/plain": [
       "'50022'"
      ]
     },
     "execution_count": 121,
     "metadata": {},
     "output_type": "execute_result"
    }
   ],
   "source": [
    "config = configparser.ConfigParser()\n",
    "config.read('example.ini')\n",
    "topsecret = config['topsecret.server.com']\n",
    "topsecret['Port']"
   ]
  },
  {
   "cell_type": "markdown",
   "metadata": {
    "slideshow": {
     "slide_type": "subslide"
    }
   },
   "source": [
    "#### Part 1: Read Configuration\n",
    "\n",
    "Using `configparser`, create a program reading in the above configuration file and accessing the individual elements."
   ]
  },
  {
   "cell_type": "markdown",
   "metadata": {
    "slideshow": {
     "slide_type": "subslide"
    }
   },
   "source": [
    "#### Part 2: Create a Configuration Grammar\n",
    "\n",
    "Design a grammar that will automatically create configuration files suitable for your above program.  Fuzz your program with it."
   ]
  },
  {
   "cell_type": "markdown",
   "metadata": {
    "slideshow": {
     "slide_type": "subslide"
    }
   },
   "source": [
    "#### Part 3: Mine a Configuration Grammar\n",
    "\n",
    "By dynamically tracking the individual accesses to configuration elements, you can again extract a basic grammar from the execution.  To this end, create a subclass of `ConfigParser` with a special method `__getitem__`:"
   ]
  },
  {
   "cell_type": "code",
   "execution_count": 122,
   "metadata": {
    "execution": {
     "iopub.execute_input": "2021-11-02T16:51:36.759868Z",
     "iopub.status.busy": "2021-11-02T16:51:36.759351Z",
     "iopub.status.idle": "2021-11-02T16:51:36.761172Z",
     "shell.execute_reply": "2021-11-02T16:51:36.761540Z"
    },
    "slideshow": {
     "slide_type": "fragment"
    },
    "solution2": "hidden",
    "solution2_first": true
   },
   "outputs": [],
   "source": [
    "class TrackingConfigParser(configparser.ConfigParser):\n",
    "    def __getitem__(self, key):\n",
    "        print(\"Accessing\", repr(key))\n",
    "        return super().__getitem__(key)"
   ]
  },
  {
   "cell_type": "markdown",
   "metadata": {
    "slideshow": {
     "slide_type": "fragment"
    }
   },
   "source": [
    "For a `TrackingConfigParser` object `p`, `p.__getitem__(key)` will be invoked whenever `p[key]` is accessed:"
   ]
  },
  {
   "cell_type": "code",
   "execution_count": 123,
   "metadata": {
    "execution": {
     "iopub.execute_input": "2021-11-02T16:51:36.764888Z",
     "iopub.status.busy": "2021-11-02T16:51:36.764327Z",
     "iopub.status.idle": "2021-11-02T16:51:36.767000Z",
     "shell.execute_reply": "2021-11-02T16:51:36.767436Z"
    },
    "slideshow": {
     "slide_type": "subslide"
    }
   },
   "outputs": [
    {
     "name": "stdout",
     "output_type": "stream",
     "text": [
      "Accessing 'topsecret.server.com'\n"
     ]
    }
   ],
   "source": [
    "tracking_config_parser = TrackingConfigParser()\n",
    "tracking_config_parser.read('example.ini')\n",
    "section = tracking_config_parser['topsecret.server.com']"
   ]
  },
  {
   "cell_type": "markdown",
   "metadata": {
    "slideshow": {
     "slide_type": "fragment"
    }
   },
   "source": [
    "Using `__getitem__()`, as above, implement a tracking mechanism that, while your program accesses the read configuration, automatically saves options accessed and values read.  Create a prototype grammar from these values; use it for fuzzing."
   ]
  },
  {
   "cell_type": "markdown",
   "metadata": {
    "slideshow": {
     "slide_type": "skip"
    }
   },
   "source": [
    "At the end, don't forget to clean up:"
   ]
  },
  {
   "cell_type": "code",
   "execution_count": 124,
   "metadata": {
    "execution": {
     "iopub.execute_input": "2021-11-02T16:51:36.770623Z",
     "iopub.status.busy": "2021-11-02T16:51:36.769996Z",
     "iopub.status.idle": "2021-11-02T16:51:36.771804Z",
     "shell.execute_reply": "2021-11-02T16:51:36.772174Z"
    },
    "slideshow": {
     "slide_type": "skip"
    }
   },
   "outputs": [],
   "source": [
    "import os"
   ]
  },
  {
   "cell_type": "code",
   "execution_count": 125,
   "metadata": {
    "execution": {
     "iopub.execute_input": "2021-11-02T16:51:36.775013Z",
     "iopub.status.busy": "2021-11-02T16:51:36.774506Z",
     "iopub.status.idle": "2021-11-02T16:51:36.776496Z",
     "shell.execute_reply": "2021-11-02T16:51:36.776874Z"
    },
    "slideshow": {
     "slide_type": "skip"
    },
    "solution2": "hidden",
    "solution2_first": true
   },
   "outputs": [],
   "source": [
    "os.remove(\"example.ini\")"
   ]
  },
  {
   "cell_type": "markdown",
   "metadata": {
    "slideshow": {
     "slide_type": "skip"
    },
    "solution2": "hidden"
   },
   "source": [
    "**Solution.** Left to the reader.  Enjoy!"
   ]
  },
  {
   "cell_type": "markdown",
   "metadata": {
    "button": false,
    "new_sheet": false,
    "run_control": {
     "read_only": false
    },
    "slideshow": {
     "slide_type": "subslide"
    },
    "toc-hr-collapsed": true
   },
   "source": [
    "### Exercise 3: Extracting and Fuzzing C Command-Line Options\n",
    "\n",
    "In C programs, the `getopt()` function are frequently used to process configuration options.  A call\n",
    "\n",
    "```\n",
    "getopt(argc, argv, \"bf:\")\n",
    "```\n",
    "\n",
    "indicates that the program accepts two options `-b` and `-f`, with `-f` taking an argument (as indicated by the following colon)."
   ]
  },
  {
   "cell_type": "markdown",
   "metadata": {
    "cell_style": "center",
    "slideshow": {
     "slide_type": "subslide"
    },
    "solution2": "hidden",
    "solution2_first": true
   },
   "source": [
    "#### Part 1: Getopt Fuzzing\n",
    "\n",
    "Write a framework which, for a given C program, automatically extracts the argument to `getopt()` and derives a fuzzing grammar for it.  There are multiple ways to achieve this:\n",
    "\n",
    "1. Scan the program source code for occurrences of `getopt()` and return the string passed.  (Crude, but should frequently work.)\n",
    "2. Insert your own implementation of `getopt()` into the source code (effectively replacing `getopt()` from the runtime library), which outputs the `getopt()` argument and exits the program.  Recompile and run.\n",
    "3. (Advanced.) As above, but instead of changing the source code, hook into the _dynamic linker_ which at runtime links the program with the C runtime library.  Set the library loading path (on Linux and Unix, this is the `LD_LIBRARY_PATH` environment variable) such that your own version of `getopt()` is linked first, and the regular libraries later.  Executing the program (without recompiling) should yield the desired result.\n",
    "\n",
    "Apply this on `grep` and `ls`; report the resulting grammars and results."
   ]
  },
  {
   "cell_type": "markdown",
   "metadata": {
    "slideshow": {
     "slide_type": "skip"
    },
    "solution2": "hidden"
   },
   "source": [
    "**Solution.** Left to the reader.  Enjoy hacking!"
   ]
  },
  {
   "cell_type": "markdown",
   "metadata": {
    "slideshow": {
     "slide_type": "subslide"
    },
    "solution2": "hidden",
    "solution2_first": true
   },
   "source": [
    "#### Part 2: Fuzzing Long Options in C\n",
    "\n",
    "Same as Part 1, but also hook into the GNU variant `getopt_long()`, which accepts \"long\" arguments with double dashes such as `--help`.  Note that method 1, above, will not work here, since the \"long\" options are defined in a separately defined structure."
   ]
  },
  {
   "cell_type": "markdown",
   "metadata": {
    "slideshow": {
     "slide_type": "skip"
    },
    "solution2": "hidden"
   },
   "source": [
    "**Solution.** Left to the reader.  Enjoy hacking!"
   ]
  },
  {
   "cell_type": "markdown",
   "metadata": {
    "button": false,
    "new_sheet": false,
    "run_control": {
     "read_only": false
    },
    "slideshow": {
     "slide_type": "subslide"
    }
   },
   "source": [
    "### Exercise 4: Expansions in Context\n",
    "\n",
    "In our above option configurations, we have multiple symbols which all expand to the same integer.  For instance, the `--line-range` option of `autopep8` takes two `<line>` parameters which both expand into the same `<int>` symbol:\n",
    "\n",
    "```\n",
    "<option> ::= ... | --line-range <line> <line> | ...\n",
    "<line> ::= <int>\n",
    "<int> ::= (-)?<digit>+\n",
    "<digit> ::= 0 | 1 | 2 | 3 | 4 | 5 | 6 | 7 | 8 | 9\n",
    "```"
   ]
  },
  {
   "cell_type": "code",
   "execution_count": 126,
   "metadata": {
    "cell_style": "center",
    "execution": {
     "iopub.execute_input": "2021-11-02T16:51:36.780726Z",
     "iopub.status.busy": "2021-11-02T16:51:36.780210Z",
     "iopub.status.idle": "2021-11-02T16:51:36.782463Z",
     "shell.execute_reply": "2021-11-02T16:51:36.782829Z"
    },
    "slideshow": {
     "slide_type": "subslide"
    }
   },
   "outputs": [
    {
     "data": {
      "text/plain": [
       "['<int>']"
      ]
     },
     "execution_count": 126,
     "metadata": {},
     "output_type": "execute_result"
    }
   ],
   "source": [
    "autopep8_runner.ebnf_grammar()[\"<line>\"]"
   ]
  },
  {
   "cell_type": "code",
   "execution_count": 127,
   "metadata": {
    "cell_style": "center",
    "execution": {
     "iopub.execute_input": "2021-11-02T16:51:36.786155Z",
     "iopub.status.busy": "2021-11-02T16:51:36.785606Z",
     "iopub.status.idle": "2021-11-02T16:51:36.787839Z",
     "shell.execute_reply": "2021-11-02T16:51:36.788259Z"
    },
    "slideshow": {
     "slide_type": "fragment"
    }
   },
   "outputs": [
    {
     "data": {
      "text/plain": [
       "['(-)?<digit>+']"
      ]
     },
     "execution_count": 127,
     "metadata": {},
     "output_type": "execute_result"
    }
   ],
   "source": [
    "autopep8_runner.ebnf_grammar()[\"<int>\"]"
   ]
  },
  {
   "cell_type": "code",
   "execution_count": 128,
   "metadata": {
    "execution": {
     "iopub.execute_input": "2021-11-02T16:51:36.792871Z",
     "iopub.status.busy": "2021-11-02T16:51:36.792113Z",
     "iopub.status.idle": "2021-11-02T16:51:36.794735Z",
     "shell.execute_reply": "2021-11-02T16:51:36.795106Z"
    },
    "slideshow": {
     "slide_type": "fragment"
    }
   },
   "outputs": [
    {
     "data": {
      "text/plain": [
       "['0', '1', '2', '3', '4', '5', '6', '7', '8', '9']"
      ]
     },
     "execution_count": 128,
     "metadata": {},
     "output_type": "execute_result"
    }
   ],
   "source": [
    "autopep8_runner.ebnf_grammar()[\"<digit>\"]"
   ]
  },
  {
   "cell_type": "markdown",
   "metadata": {
    "slideshow": {
     "slide_type": "fragment"
    }
   },
   "source": [
    "Once the `GrammarCoverageFuzzer` has covered all variations of `<int>` (especially by covering all digits) for _one_ option, though, it will no longer strive to achieve such coverage for the next option.  Yet, it could be desirable to achieve such coverage for each option separately."
   ]
  },
  {
   "cell_type": "markdown",
   "metadata": {
    "slideshow": {
     "slide_type": "subslide"
    }
   },
   "source": [
    "One way to achieve this with our existing `GrammarCoverageFuzzer` is again to change the grammar accordingly.  The idea is to _duplicate_ expansions – that is, to replace an expansion of a symbol $s$ with a new symbol $s'$ whose definition is duplicated from $s$.  This way, $s'$ and $s$ are separate symbols from a coverage point of view and would be independently covered."
   ]
  },
  {
   "cell_type": "markdown",
   "metadata": {
    "slideshow": {
     "slide_type": "subslide"
    }
   },
   "source": [
    "As an example, consider again the above `--line-range` option.  If we want our tests to independently cover all elements of the two `<line>` parameters, we can duplicate the second `<line>` expansion into a new symbol `<line'>` with subsequent duplicated expansions:\n",
    "```\n",
    "<option> ::= ... | --line-range <line> <line'> | ...\n",
    "<line> ::= <int>\n",
    "<line'> ::= <int'>\n",
    "<int> ::= (-)?<digit>+\n",
    "<int'> ::= (-)?<digit'>+\n",
    "<digit> ::= 0 | 1 | 2 | 3 | 4 | 5 | 6 | 7 | 8 | 9\n",
    "<digit'> ::= 0 | 1 | 2 | 3 | 4 | 5 | 6 | 7 | 8 | 9\n",
    "```"
   ]
  },
  {
   "cell_type": "markdown",
   "metadata": {
    "slideshow": {
     "slide_type": "subslide"
    }
   },
   "source": [
    "Design a function `inline(grammar, symbol)` that returns a duplicate of `grammar` in which every occurrence of `<symbol>` and its expansions become separate copies.  The above grammar could be a result of `inline(autopep8_runner.ebnf_grammar(), \"<line>\")`."
   ]
  },
  {
   "cell_type": "markdown",
   "metadata": {
    "slideshow": {
     "slide_type": "subslide"
    }
   },
   "source": [
    "When copying, expansions in the copy should also refer to symbols in the copy.  Hence, when expanding `<int>` in\n",
    "\n",
    "```<int> ::= <int><digit>```\n",
    "\n",
    "make that\n",
    "\n",
    "```<int> ::= <int><digit>\n",
    "<int'> ::= <int'><digit'>\n",
    "```\n",
    "\n",
    "(and not `<int'> ::= <int><digit'>` or `<int'> ::= <int><digit>`)."
   ]
  },
  {
   "cell_type": "markdown",
   "metadata": {
    "slideshow": {
     "slide_type": "subslide"
    },
    "solution2": "hidden",
    "solution2_first": true
   },
   "source": [
    "Be sure to add precisely one new set of symbols for each occurrence in the original grammar, and not to expand further in the presence of recursion."
   ]
  },
  {
   "cell_type": "markdown",
   "metadata": {
    "slideshow": {
     "slide_type": "skip"
    },
    "solution2": "hidden"
   },
   "source": [
    "**Solution.** Again, left to the reader.  Enjoy!"
   ]
  }
 ],
 "metadata": {
  "ipub": {
   "bibliography": "fuzzingbook.bib",
   "toc": true
  },
  "kernelspec": {
   "display_name": "Python 3 (ipykernel)",
   "language": "python",
   "name": "python3"
  },
  "language_info": {
   "codemirror_mode": {
    "name": "ipython",
    "version": 3
   },
   "file_extension": ".py",
   "mimetype": "text/x-python",
   "name": "python",
   "nbconvert_exporter": "python",
   "pygments_lexer": "ipython3",
   "version": "3.9.7"
  },
  "toc": {
   "base_numbering": 1,
   "nav_menu": {},
   "number_sections": true,
   "sideBar": true,
   "skip_h1_title": true,
   "title_cell": "",
   "title_sidebar": "Contents",
   "toc_cell": false,
   "toc_position": {},
   "toc_section_display": true,
   "toc_window_display": true
  },
  "toc-autonumbering": false
 },
 "nbformat": 4,
 "nbformat_minor": 4
}