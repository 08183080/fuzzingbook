{
 "cells": [
  {
   "cell_type": "markdown",
   "metadata": {
    "button": false,
    "new_sheet": false,
    "run_control": {
     "read_only": false
    },
    "slideshow": {
     "slide_type": "slide"
    }
   },
   "source": [
    "# Fuzzing Configurations\n",
    "\n",
    "In this chapter, we explore how to systematically cover software configurations – that is, the settings that govern the execution of a program on its (regular) input data.  By _automatically inferring configuration options_, we can apply these techniques out of the box, with no need for writing a grammar."
   ]
  },
  {
   "cell_type": "markdown",
   "metadata": {
    "button": false,
    "new_sheet": false,
    "run_control": {
     "read_only": false
    },
    "slideshow": {
     "slide_type": "subslide"
    }
   },
   "source": [
    "**Prerequisites**\n",
    "\n",
    "* You should have read the [chapter on grammars](Grammars.ipynb).\n",
    "* You should have read the [chapter on grammar coverage](GrammarCoverage.ipynb)."
   ]
  },
  {
   "cell_type": "markdown",
   "metadata": {
    "button": false,
    "new_sheet": true,
    "run_control": {
     "read_only": false
    },
    "slideshow": {
     "slide_type": "slide"
    }
   },
   "source": [
    "## Configuration Options\n"
   ]
  },
  {
   "cell_type": "code",
   "execution_count": 1,
   "metadata": {
    "slideshow": {
     "slide_type": "skip"
    }
   },
   "outputs": [],
   "source": [
    "import fuzzingbook_utils"
   ]
  },
  {
   "cell_type": "code",
   "execution_count": 2,
   "metadata": {
    "slideshow": {
     "slide_type": "skip"
    }
   },
   "outputs": [],
   "source": [
    "import argparse"
   ]
  },
  {
   "cell_type": "code",
   "execution_count": 3,
   "metadata": {
    "slideshow": {
     "slide_type": "subslide"
    }
   },
   "outputs": [],
   "source": [
    "def process_numbers(args=[]):\n",
    "    parser = argparse.ArgumentParser(description='Process some integers.')\n",
    "    parser.add_argument('integers', metavar='N', type=int, nargs='+',\n",
    "                        help='an integer for the accumulator')\n",
    "    group = parser.add_mutually_exclusive_group(required=True)\n",
    "    group.add_argument('--sum', dest='accumulate', action='store_const',\n",
    "                        const=sum,\n",
    "                        help='sum the integers')\n",
    "    group.add_argument('--min', dest='accumulate', action='store_const',\n",
    "                        const=min,\n",
    "                        help='compute the minimum')\n",
    "    group.add_argument('--max', dest='accumulate', action='store_const',\n",
    "                        const=max,\n",
    "                        help='compute the maximum')\n",
    "\n",
    "    args = parser.parse_args(args)\n",
    "    print(args.accumulate(args.integers))"
   ]
  },
  {
   "cell_type": "code",
   "execution_count": 4,
   "metadata": {
    "slideshow": {
     "slide_type": "subslide"
    }
   },
   "outputs": [
    {
     "name": "stdout",
     "output_type": "stream",
     "text": [
      "100\n"
     ]
    }
   ],
   "source": [
    "process_numbers([\"--min\", \"100\", \"200\", \"300\"])"
   ]
  },
  {
   "cell_type": "code",
   "execution_count": 5,
   "metadata": {
    "slideshow": {
     "slide_type": "fragment"
    }
   },
   "outputs": [
    {
     "name": "stdout",
     "output_type": "stream",
     "text": [
      "6\n"
     ]
    }
   ],
   "source": [
    "process_numbers([\"--sum\", '1', '2', '3'])"
   ]
  },
  {
   "cell_type": "markdown",
   "metadata": {
    "slideshow": {
     "slide_type": "slide"
    }
   },
   "source": [
    "## A Grammar for Configurations"
   ]
  },
  {
   "cell_type": "code",
   "execution_count": 6,
   "metadata": {
    "slideshow": {
     "slide_type": "skip"
    }
   },
   "outputs": [],
   "source": [
    "from Grammars import crange, srange, convert_ebnf_grammar, is_valid_grammar, START_SYMBOL, new_symbol"
   ]
  },
  {
   "cell_type": "code",
   "execution_count": 7,
   "metadata": {
    "slideshow": {
     "slide_type": "fragment"
    }
   },
   "outputs": [],
   "source": [
    "PROCESS_NUMBERS_GRAMMAR_EBNF = {\n",
    "    \"<start>\": [\"<operator> <integers>\"],\n",
    "    \"<operator>\": [\"--sum\", \"--min\", \"--max\"],\n",
    "    \"<integers>\": [\"<integer>\", \"<integers> <integer>\"],\n",
    "    \"<integer>\": [\"<digit>+\"],\n",
    "    \"<digit>\": crange('0', '9')\n",
    "}\n",
    "\n",
    "assert is_valid_grammar(PROCESS_NUMBERS_GRAMMAR_EBNF)"
   ]
  },
  {
   "cell_type": "code",
   "execution_count": 8,
   "metadata": {
    "slideshow": {
     "slide_type": "fragment"
    }
   },
   "outputs": [],
   "source": [
    "PROCESS_NUMBERS_GRAMMAR = convert_ebnf_grammar(PROCESS_NUMBERS_GRAMMAR_EBNF)"
   ]
  },
  {
   "cell_type": "code",
   "execution_count": 9,
   "metadata": {
    "slideshow": {
     "slide_type": "skip"
    }
   },
   "outputs": [],
   "source": [
    "from GrammarCoverageFuzzer import GrammarCoverageFuzzer"
   ]
  },
  {
   "cell_type": "code",
   "execution_count": 10,
   "metadata": {
    "slideshow": {
     "slide_type": "subslide"
    }
   },
   "outputs": [
    {
     "name": "stdout",
     "output_type": "stream",
     "text": [
      "--max 9 5 8 210 80 9756431\n",
      "--sum 9 4 99 1245 612370\n",
      "--min 2 3 0 46 15798 7570926\n"
     ]
    }
   ],
   "source": [
    "f = GrammarCoverageFuzzer(PROCESS_NUMBERS_GRAMMAR, min_nonterminals=10)\n",
    "for i in range(3):\n",
    "    print(f.fuzz())"
   ]
  },
  {
   "cell_type": "markdown",
   "metadata": {
    "slideshow": {
     "slide_type": "slide"
    }
   },
   "source": [
    "## Mining Configuration Options\n"
   ]
  },
  {
   "cell_type": "code",
   "execution_count": 11,
   "metadata": {
    "slideshow": {
     "slide_type": "skip"
    }
   },
   "outputs": [],
   "source": [
    "import sys"
   ]
  },
  {
   "cell_type": "code",
   "execution_count": 12,
   "metadata": {
    "slideshow": {
     "slide_type": "skip"
    }
   },
   "outputs": [],
   "source": [
    "import string"
   ]
  },
  {
   "cell_type": "code",
   "execution_count": 13,
   "metadata": {
    "slideshow": {
     "slide_type": "fragment"
    }
   },
   "outputs": [],
   "source": [
    "class ParseInterrupt(Exception):\n",
    "    pass"
   ]
  },
  {
   "cell_type": "code",
   "execution_count": 14,
   "metadata": {
    "slideshow": {
     "slide_type": "fragment"
    }
   },
   "outputs": [],
   "source": [
    "class ConfigurationGrammarMiner(object):\n",
    "    def __init__(self, function, log=False):\n",
    "        self.function = function    # FIXME: Should this be a runner?\n",
    "        self.log = log"
   ]
  },
  {
   "cell_type": "code",
   "execution_count": 15,
   "metadata": {
    "slideshow": {
     "slide_type": "subslide"
    }
   },
   "outputs": [],
   "source": [
    "class ConfigurationGrammarMiner(ConfigurationGrammarMiner):\n",
    "    OPTION_SYMBOL = \"<option>\"\n",
    "    ARGUMENTS_SYMBOL = \"<arguments>\" \n",
    "    def mine_ebnf_grammar(self):\n",
    "        self.grammar = { \n",
    "            START_SYMBOL: [ \"(\" + self.OPTION_SYMBOL + \")*\" + self.ARGUMENTS_SYMBOL],\n",
    "            self.OPTION_SYMBOL: [], \n",
    "            self.ARGUMENTS_SYMBOL: []\n",
    "        }\n",
    "        self.current_group = self.OPTION_SYMBOL\n",
    "\n",
    "        old_trace = sys.settrace(self.traceit)\n",
    "        try:\n",
    "            self.function()\n",
    "        except ParseInterrupt:\n",
    "            pass\n",
    "        sys.settrace(old_trace)\n",
    "        \n",
    "        return self.grammar\n",
    "    \n",
    "    def mine_grammar(self):\n",
    "        return convert_ebnf_grammar(self.mine_ebnf_grammar())"
   ]
  },
  {
   "cell_type": "code",
   "execution_count": 16,
   "metadata": {
    "slideshow": {
     "slide_type": "subslide"
    }
   },
   "outputs": [],
   "source": [
    "class ConfigurationGrammarMiner(ConfigurationGrammarMiner):\n",
    "    def traceit(self, frame, event, arg):\n",
    "        if event != \"call\":\n",
    "            return\n",
    "\n",
    "        if \"self\" not in frame.f_locals:\n",
    "            return\n",
    "        self_var = frame.f_locals[\"self\"]\n",
    "\n",
    "        method_name = frame.f_code.co_name\n",
    "\n",
    "        if method_name == \"add_argument\":\n",
    "            in_group = repr(type(self_var)).find(\"Group\") >= 0\n",
    "            self.process_argument(frame.f_locals, in_group)\n",
    "            \n",
    "        if method_name == \"add_mutually_exclusive_group\":\n",
    "            self.add_group(frame.f_locals, exclusive=True)\n",
    "\n",
    "        if method_name == \"add_argument_group\":\n",
    "            # self.add_group(frame.f_locals, exclusive=False)\n",
    "            pass\n",
    "    \n",
    "        if method_name == \"parse_args\":\n",
    "            raise ParseInterrupt\n",
    "\n",
    "        return None"
   ]
  },
  {
   "cell_type": "code",
   "execution_count": 17,
   "metadata": {
    "slideshow": {
     "slide_type": "subslide"
    }
   },
   "outputs": [],
   "source": [
    "class ConfigurationGrammarMiner(ConfigurationGrammarMiner):\n",
    "    def process_argument(self, locals, in_group):\n",
    "        args = locals[\"args\"]\n",
    "        kwargs = locals[\"kwargs\"]\n",
    "\n",
    "        if self.log:\n",
    "            print(args)\n",
    "            print(kwargs)\n",
    "            print()\n",
    "\n",
    "        for arg in args:\n",
    "            if arg.startswith('-'):\n",
    "                if not in_group:\n",
    "                    target = self.OPTION_SYMBOL\n",
    "                else:\n",
    "                    target = self.current_group\n",
    "                metavar = None\n",
    "                arg = \" \" + arg\n",
    "            else:\n",
    "                target = self.ARGUMENTS_SYMBOL\n",
    "                metavar = arg\n",
    "                arg = \"\"\n",
    "\n",
    "            if \"nargs\" in kwargs:\n",
    "                nargs = kwargs[\"nargs\"]\n",
    "            else:\n",
    "                nargs = 1\n",
    "            \n",
    "            if \"action\" in kwargs:\n",
    "                # No argument\n",
    "                param = \"\"\n",
    "                nargs = 0\n",
    "            else:\n",
    "                if \"type\" in kwargs and isinstance(kwargs[\"type\"], int):\n",
    "                    type_ = \"int\"\n",
    "                else:\n",
    "                    type_ = \"str\"\n",
    "\n",
    "                if metavar is None and \"metavar\" in kwargs:\n",
    "                    metavar = kwargs[\"metavar\"]\n",
    "                    \n",
    "                if metavar is not None:\n",
    "                    self.grammar[\"<\" + metavar + \">\"] = [\"<\" + type_ + \">\"]\n",
    "                else:\n",
    "                    metavar = type_\n",
    "                    \n",
    "                if type_ == \"int\":\n",
    "                    self.grammar[\"<int>\"] = [\"(-)?<digit>+\"]\n",
    "                    self.grammar[\"<digit>\"] = crange('0', '9')\n",
    "                    param = \" <\" + metavar + \">\"\n",
    "                else:\n",
    "                    self.grammar[\"<str>\"] = [\"<char>+\"]\n",
    "                    self.grammar[\"<char>\"] = srange(string.digits + string.ascii_letters + string.punctuation)\n",
    "                    param = \" <\" + metavar + \">\"\n",
    "\n",
    "            if isinstance(nargs, int):\n",
    "                for i in range(nargs):\n",
    "                    arg += param\n",
    "            else:\n",
    "                assert nargs in \"?+*\"\n",
    "                arg += '(' + param + ')' + nargs\n",
    "                    \n",
    "            if target == self.OPTION_SYMBOL:\n",
    "                self.grammar[target].append(arg)\n",
    "            else:\n",
    "                self.grammar[target].append(arg)"
   ]
  },
  {
   "cell_type": "code",
   "execution_count": 18,
   "metadata": {
    "slideshow": {
     "slide_type": "subslide"
    }
   },
   "outputs": [],
   "source": [
    "class ConfigurationGrammarMiner(ConfigurationGrammarMiner):\n",
    "    def add_group(self, locals, exclusive):\n",
    "        kwargs = locals[\"kwargs\"]\n",
    "        if self.log:\n",
    "            print(kwargs)\n",
    "\n",
    "        required = kwargs.get(\"required\", False)\n",
    "        group = new_symbol(self.grammar, \"<group>\")\n",
    "\n",
    "        if required and exclusive:\n",
    "            group_expansion = group\n",
    "        if required and not exclusive:\n",
    "            group_expansion = group + \"+\"\n",
    "        if not required and exclusive:\n",
    "            group_expansion = group + \"?\"\n",
    "        if not required and not exclusive:\n",
    "            group_expansion = group + \"*\"\n",
    "\n",
    "        self.grammar[START_SYMBOL][0] = group_expansion + self.grammar[START_SYMBOL][0]\n",
    "        self.grammar[group] = []\n",
    "        self.current_group = group"
   ]
  },
  {
   "cell_type": "code",
   "execution_count": 19,
   "metadata": {
    "slideshow": {
     "slide_type": "subslide"
    }
   },
   "outputs": [
    {
     "name": "stdout",
     "output_type": "stream",
     "text": [
      "('-h', '--help')\n",
      "{'action': 'help', 'default': '==SUPPRESS==', 'help': 'show this help message and exit'}\n",
      "\n",
      "('integers',)\n",
      "{'metavar': 'N', 'type': <class 'int'>, 'nargs': '+', 'help': 'an integer for the accumulator'}\n",
      "\n",
      "{'required': True}\n",
      "('--sum',)\n",
      "{'dest': 'accumulate', 'action': 'store_const', 'const': <built-in function sum>, 'help': 'sum the integers'}\n",
      "\n",
      "('--min',)\n",
      "{'dest': 'accumulate', 'action': 'store_const', 'const': <built-in function min>, 'help': 'compute the minimum'}\n",
      "\n",
      "('--max',)\n",
      "{'dest': 'accumulate', 'action': 'store_const', 'const': <built-in function max>, 'help': 'compute the maximum'}\n",
      "\n",
      "{'<start>': ['<group-1>(<option>)*<arguments>'], '<option>': [' -h', ' --help'], '<arguments>': ['( <integers>)+'], '<integers>': ['<str>'], '<str>': ['<char>+'], '<char>': ['0', '1', '2', '3', '4', '5', '6', '7', '8', '9', 'a', 'b', 'c', 'd', 'e', 'f', 'g', 'h', 'i', 'j', 'k', 'l', 'm', 'n', 'o', 'p', 'q', 'r', 's', 't', 'u', 'v', 'w', 'x', 'y', 'z', 'A', 'B', 'C', 'D', 'E', 'F', 'G', 'H', 'I', 'J', 'K', 'L', 'M', 'N', 'O', 'P', 'Q', 'R', 'S', 'T', 'U', 'V', 'W', 'X', 'Y', 'Z', '!', '\"', '#', '$', '%', '&', \"'\", '(', ')', '*', '+', ',', '-', '.', '/', ':', ';', '<', '=', '>', '?', '@', '[', '\\\\', ']', '^', '_', '`', '{', '|', '}', '~'], '<group-1>': [' --sum', ' --min', ' --max']}\n"
     ]
    }
   ],
   "source": [
    "miner = ConfigurationGrammarMiner(process_numbers, log=True)\n",
    "grammar_ebnf = miner.mine_ebnf_grammar()\n",
    "print(grammar_ebnf)"
   ]
  },
  {
   "cell_type": "code",
   "execution_count": 20,
   "metadata": {
    "slideshow": {
     "slide_type": "subslide"
    }
   },
   "outputs": [],
   "source": [
    "assert is_valid_grammar(grammar_ebnf)"
   ]
  },
  {
   "cell_type": "code",
   "execution_count": 21,
   "metadata": {
    "slideshow": {
     "slide_type": "fragment"
    }
   },
   "outputs": [],
   "source": [
    "grammar = convert_ebnf_grammar(grammar_ebnf)\n",
    "assert is_valid_grammar(grammar)"
   ]
  },
  {
   "cell_type": "code",
   "execution_count": 22,
   "metadata": {
    "slideshow": {
     "slide_type": "subslide"
    }
   },
   "outputs": [
    {
     "name": "stdout",
     "output_type": "stream",
     "text": [
      " --sum -h q\n",
      " --max --help --help --help --help ta y 1 Z \"\n",
      " --min S9\n",
      " --max -h p& V MHe\n",
      " --min >\n",
      " --min U< ~\n",
      " --max -h -h K 8N?lj W\n",
      " --min X3 J\n",
      " --min w%\n",
      " --sum --help --help --help -h @\n"
     ]
    }
   ],
   "source": [
    "f = GrammarCoverageFuzzer(grammar)\n",
    "for i in range(10):\n",
    "    print(f.fuzz())"
   ]
  },
  {
   "cell_type": "markdown",
   "metadata": {
    "slideshow": {
     "slide_type": "slide"
    }
   },
   "source": [
    "## Complex Args"
   ]
  },
  {
   "cell_type": "code",
   "execution_count": 23,
   "metadata": {
    "slideshow": {
     "slide_type": "subslide"
    }
   },
   "outputs": [
    {
     "name": "stdout",
     "output_type": "stream",
     "text": [
      "usage: autopep8 [-h] [--version] [-v] [-d] [-i] [--global-config filename]\r\n",
      "                [--ignore-local-config] [-r] [-j n] [-p n] [-a]\r\n",
      "                [--experimental] [--exclude globs] [--list-fixes]\r\n",
      "                [--ignore errors] [--select errors] [--max-line-length n]\r\n",
      "                [--line-range line line] [--hang-closing]\r\n",
      "                [files [files ...]]\r\n",
      "\r\n",
      "Automatically formats Python code to conform to the PEP 8 style guide.\r\n",
      "\r\n",
      "positional arguments:\r\n",
      "  files                 files to format or '-' for standard in\r\n",
      "\r\n",
      "optional arguments:\r\n",
      "  -h, --help            show this help message and exit\r\n",
      "  --version             show program's version number and exit\r\n",
      "  -v, --verbose         print verbose messages; multiple -v result in more\r\n",
      "                        verbose messages\r\n",
      "  -d, --diff            print the diff for the fixed source\r\n",
      "  -i, --in-place        make changes to files in place\r\n",
      "  --global-config filename\r\n",
      "                        path to a global pep8 config file; if this file does\r\n",
      "                        not exist then this is ignored (default:\r\n",
      "                        /Users/zeller/.config/pep8)\r\n",
      "  --ignore-local-config\r\n",
      "                        don't look for and apply local config files; if not\r\n",
      "                        passed, defaults are updated with any config files in\r\n",
      "                        the project's root directory\r\n",
      "  -r, --recursive       run recursively over directories; must be used with\r\n",
      "                        --in-place or --diff\r\n",
      "  -j n, --jobs n        number of parallel jobs; match CPU count if value is\r\n",
      "                        less than 1\r\n",
      "  -p n, --pep8-passes n\r\n",
      "                        maximum number of additional pep8 passes (default:\r\n",
      "                        infinite)\r\n",
      "  -a, --aggressive      enable non-whitespace changes; multiple -a result in\r\n",
      "                        more aggressive changes\r\n",
      "  --experimental        enable experimental fixes\r\n",
      "  --exclude globs       exclude file/directory names that match these comma-\r\n",
      "                        separated globs\r\n",
      "  --list-fixes          list codes for fixes; used by --ignore and --select\r\n",
      "  --ignore errors       do not fix these errors/warnings (default:\r\n",
      "                        E226,E24,W503)\r\n",
      "  --select errors       fix only these errors/warnings (e.g. E4,W)\r\n",
      "  --max-line-length n   set maximum allowed line length (default: 79)\r\n",
      "  --line-range line line, --range line line\r\n",
      "                        only fix errors found within this inclusive range of\r\n",
      "                        line numbers (e.g. 1 99); line numbers are indexed at\r\n",
      "                        1\r\n",
      "  --hang-closing        hang-closing option passed to pycodestyle\r\n"
     ]
    }
   ],
   "source": [
    "!autopep8 --help"
   ]
  },
  {
   "cell_type": "code",
   "execution_count": 24,
   "metadata": {
    "slideshow": {
     "slide_type": "skip"
    }
   },
   "outputs": [],
   "source": [
    "import os"
   ]
  },
  {
   "cell_type": "code",
   "execution_count": 25,
   "metadata": {
    "slideshow": {
     "slide_type": "subslide"
    }
   },
   "outputs": [],
   "source": [
    "def find_executable(name):\n",
    "    for path in os.get_exec_path():\n",
    "        qualified_name = os.path.join(path, name)\n",
    "        if os.path.exists(qualified_name):\n",
    "            return qualified_name\n",
    "    return None"
   ]
  },
  {
   "cell_type": "code",
   "execution_count": 26,
   "metadata": {
    "slideshow": {
     "slide_type": "fragment"
    }
   },
   "outputs": [
    {
     "data": {
      "text/plain": [
       "'/Users/zeller/anaconda3/bin/autopep8'"
      ]
     },
     "execution_count": 26,
     "metadata": {},
     "output_type": "execute_result"
    }
   ],
   "source": [
    "find_executable(\"autopep8\")"
   ]
  },
  {
   "cell_type": "code",
   "execution_count": 27,
   "metadata": {
    "slideshow": {
     "slide_type": "fragment"
    }
   },
   "outputs": [],
   "source": [
    "def autopep8():\n",
    "    executable = find_executable(\"autopep8\")\n",
    "    first_line = open(executable).readline()\n",
    "    assert first_line.find(\"python\") >= 0\n",
    "    contents = open(executable).read()\n",
    "    exec(contents)"
   ]
  },
  {
   "cell_type": "code",
   "execution_count": 28,
   "metadata": {
    "slideshow": {
     "slide_type": "fragment"
    }
   },
   "outputs": [],
   "source": [
    "miner = ConfigurationGrammarMiner(autopep8, log=True)"
   ]
  },
  {
   "cell_type": "code",
   "execution_count": 29,
   "metadata": {
    "slideshow": {
     "slide_type": "subslide"
    }
   },
   "outputs": [
    {
     "name": "stdout",
     "output_type": "stream",
     "text": [
      "('-h', '--help')\n",
      "{'action': 'help', 'default': '==SUPPRESS==', 'help': 'show this help message and exit'}\n",
      "\n",
      "('--version',)\n",
      "{'action': 'version', 'version': '%(prog)s 1.3.4 (pycodestyle: 2.4.0)'}\n",
      "\n",
      "('-v', '--verbose')\n",
      "{'action': 'count', 'default': 0, 'help': 'print verbose messages; multiple -v result in more verbose messages'}\n",
      "\n",
      "('-d', '--diff')\n",
      "{'action': 'store_true', 'help': 'print the diff for the fixed source'}\n",
      "\n",
      "('-i', '--in-place')\n",
      "{'action': 'store_true', 'help': 'make changes to files in place'}\n",
      "\n",
      "('--global-config',)\n",
      "{'metavar': 'filename', 'default': '/Users/zeller/.config/pep8', 'help': 'path to a global pep8 config file; if this file does not exist then this is ignored (default: /Users/zeller/.config/pep8)'}\n",
      "\n",
      "('--ignore-local-config',)\n",
      "{'action': 'store_true', 'help': \"don't look for and apply local config files; if not passed, defaults are updated with any config files in the project's root directory\"}\n",
      "\n",
      "('-r', '--recursive')\n",
      "{'action': 'store_true', 'help': 'run recursively over directories; must be used with --in-place or --diff'}\n",
      "\n",
      "('-j', '--jobs')\n",
      "{'type': <class 'int'>, 'metavar': 'n', 'default': 1, 'help': 'number of parallel jobs; match CPU count if value is less than 1'}\n",
      "\n",
      "('-p', '--pep8-passes')\n",
      "{'metavar': 'n', 'default': -1, 'type': <class 'int'>, 'help': 'maximum number of additional pep8 passes (default: infinite)'}\n",
      "\n",
      "('-a', '--aggressive')\n",
      "{'action': 'count', 'default': 0, 'help': 'enable non-whitespace changes; multiple -a result in more aggressive changes'}\n",
      "\n",
      "('--experimental',)\n",
      "{'action': 'store_true', 'help': 'enable experimental fixes'}\n",
      "\n",
      "('--exclude',)\n",
      "{'metavar': 'globs', 'help': 'exclude file/directory names that match these comma-separated globs'}\n",
      "\n",
      "('--list-fixes',)\n",
      "{'action': 'store_true', 'help': 'list codes for fixes; used by --ignore and --select'}\n",
      "\n",
      "('--ignore',)\n",
      "{'metavar': 'errors', 'default': '', 'help': 'do not fix these errors/warnings (default: E226,E24,W503)'}\n",
      "\n",
      "('--select',)\n",
      "{'metavar': 'errors', 'default': '', 'help': 'fix only these errors/warnings (e.g. E4,W)'}\n",
      "\n",
      "('--max-line-length',)\n",
      "{'metavar': 'n', 'default': 79, 'type': <class 'int'>, 'help': 'set maximum allowed line length (default: %(default)s)'}\n",
      "\n",
      "('--line-range', '--range')\n",
      "{'metavar': 'line', 'default': None, 'type': <class 'int'>, 'nargs': 2, 'help': 'only fix errors found within this inclusive range of line numbers (e.g. 1 99); line numbers are indexed at 1'}\n",
      "\n",
      "('--indent-size',)\n",
      "{'default': 4, 'type': <class 'int'>, 'help': '==SUPPRESS=='}\n",
      "\n",
      "('--hang-closing',)\n",
      "{'action': 'store_true', 'help': 'hang-closing option passed to pycodestyle'}\n",
      "\n",
      "('files',)\n",
      "{'nargs': '*', 'help': \"files to format or '-' for standard in\"}\n",
      "\n",
      "[' -h', ' --help', ' --version', ' -v', ' --verbose', ' -d', ' --diff', ' -i', ' --in-place', ' --global-config <filename>', ' --ignore-local-config', ' -r', ' --recursive', ' -j <n>', ' --jobs <n>', ' -p <n>', ' --pep8-passes <n>', ' -a', ' --aggressive', ' --experimental', ' --exclude <globs>', ' --list-fixes', ' --ignore <errors>', ' --select <errors>', ' --max-line-length <n>', ' --line-range <line> <line>', ' --range <line> <line>', ' --indent-size <str>', ' --hang-closing']\n"
     ]
    }
   ],
   "source": [
    "grammar = miner.mine_ebnf_grammar()\n",
    "print(grammar[\"<option>\"])"
   ]
  },
  {
   "cell_type": "code",
   "execution_count": 30,
   "metadata": {
    "slideshow": {
     "slide_type": "subslide"
    }
   },
   "outputs": [
    {
     "name": "stdout",
     "output_type": "stream",
     "text": [
      "[' -h', ' --help']\n"
     ]
    }
   ],
   "source": [
    "grammar = convert_ebnf_grammar(grammar_ebnf)\n",
    "assert is_valid_grammar(grammar)\n",
    "print(grammar[\"<option>\"])"
   ]
  },
  {
   "cell_type": "code",
   "execution_count": 31,
   "metadata": {
    "slideshow": {
     "slide_type": "subslide"
    }
   },
   "outputs": [
    {
     "name": "stdout",
     "output_type": "stream",
     "text": [
      " --min foo.py\n",
      " --sum foo.py\n",
      " --max foo.py\n",
      " --min foo.py\n",
      " --min foo.py\n",
      " --max foo.py\n",
      " --min foo.py\n",
      " --sum foo.py\n",
      " --min foo.py\n",
      " --max foo.py\n",
      " --min foo.py\n",
      " --sum foo.py\n",
      " --sum foo.py\n",
      " --sum foo.py\n",
      " --max foo.py\n",
      " --max foo.py\n",
      " --sum foo.py\n",
      " --max foo.py\n",
      " --sum foo.py\n",
      " --min foo.py\n"
     ]
    }
   ],
   "source": [
    "grammar[\"<arguments>\"] = [\" foo.py\"]\n",
    "f = GrammarCoverageFuzzer(grammar, max_nonterminals=3)\n",
    "for i in range(20):\n",
    "    print(f.fuzz())"
   ]
  },
  {
   "cell_type": "code",
   "execution_count": 32,
   "metadata": {
    "slideshow": {
     "slide_type": "subslide"
    }
   },
   "outputs": [],
   "source": [
    "def create_foo_py():\n",
    "    open(\"foo.py\", \"w\").write(\"\"\"\n",
    "def twice(x):\n",
    "    return x+x\n",
    "\"\"\")"
   ]
  },
  {
   "cell_type": "code",
   "execution_count": 33,
   "metadata": {
    "slideshow": {
     "slide_type": "fragment"
    }
   },
   "outputs": [],
   "source": [
    "create_foo_py()"
   ]
  },
  {
   "cell_type": "code",
   "execution_count": 34,
   "metadata": {
    "slideshow": {
     "slide_type": "fragment"
    }
   },
   "outputs": [
    {
     "name": "stdout",
     "output_type": "stream",
     "text": [
      "\n",
      "def twice(x):\n",
      "    return x+x\n",
      "\n"
     ]
    }
   ],
   "source": [
    "print(open(\"foo.py\").read())"
   ]
  },
  {
   "cell_type": "code",
   "execution_count": 35,
   "metadata": {
    "slideshow": {
     "slide_type": "skip"
    }
   },
   "outputs": [],
   "source": [
    "from Fuzzer import ProgramRunner"
   ]
  },
  {
   "cell_type": "code",
   "execution_count": 36,
   "metadata": {
    "slideshow": {
     "slide_type": "subslide"
    }
   },
   "outputs": [
    {
     "name": "stdout",
     "output_type": "stream",
     "text": [
      "$ autopep8 --sum foo.py\n",
      "usage: autopep8 [-h] [--version] [-v] [-d] [-i] [--global-config filename]\n",
      "                [--ignore-local-config] [-r] [-j n] [-p n] [-a]\n",
      "                [--experimental] [--exclude globs] [--list-fixes]\n",
      "                [--ignore errors] [--select errors] [--max-line-length n]\n",
      "                [--line-range line line] [--hang-closing]\n",
      "                [files [files ...]]\n",
      "autopep8: error: unrecognized arguments: --sum\n",
      "$ autopep8 --min --help -h foo.py\n",
      "$ autopep8 --max foo.py\n",
      "usage: autopep8 [-h] [--version] [-v] [-d] [-i] [--global-config filename]\n",
      "                [--ignore-local-config] [-r] [-j n] [-p n] [-a]\n",
      "                [--experimental] [--exclude globs] [--list-fixes]\n",
      "                [--ignore errors] [--select errors] [--max-line-length n]\n",
      "                [--line-range line line] [--hang-closing]\n",
      "                [files [files ...]]\n",
      "autopep8: error: argument --max-line-length: invalid int value: 'foo.py'\n",
      "$ autopep8 --max --help -h -h --help foo.py\n",
      "usage: autopep8 [-h] [--version] [-v] [-d] [-i] [--global-config filename]\n",
      "                [--ignore-local-config] [-r] [-j n] [-p n] [-a]\n",
      "                [--experimental] [--exclude globs] [--list-fixes]\n",
      "                [--ignore errors] [--select errors] [--max-line-length n]\n",
      "                [--line-range line line] [--hang-closing]\n",
      "                [files [files ...]]\n",
      "autopep8: error: argument --max-line-length: expected one argument\n",
      "$ autopep8 --sum --help foo.py\n",
      "$ autopep8 --min foo.py\n",
      "usage: autopep8 [-h] [--version] [-v] [-d] [-i] [--global-config filename]\n",
      "                [--ignore-local-config] [-r] [-j n] [-p n] [-a]\n",
      "                [--experimental] [--exclude globs] [--list-fixes]\n",
      "                [--ignore errors] [--select errors] [--max-line-length n]\n",
      "                [--line-range line line] [--hang-closing]\n",
      "                [files [files ...]]\n",
      "autopep8: error: unrecognized arguments: --min\n",
      "$ autopep8 --min foo.py\n",
      "usage: autopep8 [-h] [--version] [-v] [-d] [-i] [--global-config filename]\n",
      "                [--ignore-local-config] [-r] [-j n] [-p n] [-a]\n",
      "                [--experimental] [--exclude globs] [--list-fixes]\n",
      "                [--ignore errors] [--select errors] [--max-line-length n]\n",
      "                [--line-range line line] [--hang-closing]\n",
      "                [files [files ...]]\n",
      "autopep8: error: unrecognized arguments: --min\n",
      "$ autopep8 --max --help --help --help -h --help -h -h foo.py\n",
      "usage: autopep8 [-h] [--version] [-v] [-d] [-i] [--global-config filename]\n",
      "                [--ignore-local-config] [-r] [-j n] [-p n] [-a]\n",
      "                [--experimental] [--exclude globs] [--list-fixes]\n",
      "                [--ignore errors] [--select errors] [--max-line-length n]\n",
      "                [--line-range line line] [--hang-closing]\n",
      "                [files [files ...]]\n",
      "autopep8: error: argument --max-line-length: expected one argument\n",
      "$ autopep8 --sum --help foo.py\n",
      "$ autopep8 --max -h foo.py\n",
      "usage: autopep8 [-h] [--version] [-v] [-d] [-i] [--global-config filename]\n",
      "                [--ignore-local-config] [-r] [-j n] [-p n] [-a]\n",
      "                [--experimental] [--exclude globs] [--list-fixes]\n",
      "                [--ignore errors] [--select errors] [--max-line-length n]\n",
      "                [--line-range line line] [--hang-closing]\n",
      "                [files [files ...]]\n",
      "autopep8: error: argument --max-line-length: expected one argument\n",
      "$ autopep8 --max foo.py\n",
      "usage: autopep8 [-h] [--version] [-v] [-d] [-i] [--global-config filename]\n",
      "                [--ignore-local-config] [-r] [-j n] [-p n] [-a]\n",
      "                [--experimental] [--exclude globs] [--list-fixes]\n",
      "                [--ignore errors] [--select errors] [--max-line-length n]\n",
      "                [--line-range line line] [--hang-closing]\n",
      "                [files [files ...]]\n",
      "autopep8: error: argument --max-line-length: invalid int value: 'foo.py'\n",
      "$ autopep8 --sum --help foo.py\n",
      "$ autopep8 --min -h foo.py\n",
      "$ autopep8 --sum -h foo.py\n",
      "$ autopep8 --sum -h foo.py\n",
      "$ autopep8 --sum foo.py\n",
      "usage: autopep8 [-h] [--version] [-v] [-d] [-i] [--global-config filename]\n",
      "                [--ignore-local-config] [-r] [-j n] [-p n] [-a]\n",
      "                [--experimental] [--exclude globs] [--list-fixes]\n",
      "                [--ignore errors] [--select errors] [--max-line-length n]\n",
      "                [--line-range line line] [--hang-closing]\n",
      "                [files [files ...]]\n",
      "autopep8: error: unrecognized arguments: --sum\n",
      "$ autopep8 --min --help foo.py\n",
      "$ autopep8 --max foo.py\n",
      "usage: autopep8 [-h] [--version] [-v] [-d] [-i] [--global-config filename]\n",
      "                [--ignore-local-config] [-r] [-j n] [-p n] [-a]\n",
      "                [--experimental] [--exclude globs] [--list-fixes]\n",
      "                [--ignore errors] [--select errors] [--max-line-length n]\n",
      "                [--line-range line line] [--hang-closing]\n",
      "                [files [files ...]]\n",
      "autopep8: error: argument --max-line-length: invalid int value: 'foo.py'\n",
      "$ autopep8 --min foo.py\n",
      "usage: autopep8 [-h] [--version] [-v] [-d] [-i] [--global-config filename]\n",
      "                [--ignore-local-config] [-r] [-j n] [-p n] [-a]\n",
      "                [--experimental] [--exclude globs] [--list-fixes]\n",
      "                [--ignore errors] [--select errors] [--max-line-length n]\n",
      "                [--line-range line line] [--hang-closing]\n",
      "                [files [files ...]]\n",
      "autopep8: error: unrecognized arguments: --min\n",
      "$ autopep8 --min foo.py\n",
      "usage: autopep8 [-h] [--version] [-v] [-d] [-i] [--global-config filename]\n",
      "                [--ignore-local-config] [-r] [-j n] [-p n] [-a]\n",
      "                [--experimental] [--exclude globs] [--list-fixes]\n",
      "                [--ignore errors] [--select errors] [--max-line-length n]\n",
      "                [--line-range line line] [--hang-closing]\n",
      "                [files [files ...]]\n",
      "autopep8: error: unrecognized arguments: --min\n"
     ]
    }
   ],
   "source": [
    "f = GrammarCoverageFuzzer(grammar, max_nonterminals=5)\n",
    "for i in range(20):\n",
    "    invocation = \"autopep8\" + f.fuzz()\n",
    "    print(\"$ \" + invocation)\n",
    "    args = invocation.split()\n",
    "    autopep8 = ProgramRunner(args)\n",
    "    result, outcome = autopep8.run()\n",
    "    if result.stderr != \"\":\n",
    "        print(result.stderr, end=\"\")"
   ]
  },
  {
   "cell_type": "code",
   "execution_count": 37,
   "metadata": {
    "slideshow": {
     "slide_type": "skip"
    }
   },
   "outputs": [],
   "source": [
    "import os"
   ]
  },
  {
   "cell_type": "code",
   "execution_count": 38,
   "metadata": {
    "slideshow": {
     "slide_type": "subslide"
    }
   },
   "outputs": [],
   "source": [
    "os.remove(\"foo.py\")"
   ]
  },
  {
   "cell_type": "markdown",
   "metadata": {
    "slideshow": {
     "slide_type": "slide"
    }
   },
   "source": [
    "## Putting it all Together"
   ]
  },
  {
   "cell_type": "code",
   "execution_count": 39,
   "metadata": {
    "slideshow": {
     "slide_type": "subslide"
    }
   },
   "outputs": [],
   "source": [
    "class ConfigurationRunner(ProgramRunner):\n",
    "    def __init__(self, program, arguments=None):\n",
    "        if isinstance(program, str):\n",
    "            self.base_executable = program\n",
    "        else:\n",
    "            self.base_executable = program[0]\n",
    "\n",
    "        self.find_contents()\n",
    "        self.find_grammar()\n",
    "        if arguments is not None:\n",
    "            self.set_arguments(arguments)\n",
    "        super().__init__(program)\n",
    "\n",
    "    def find_contents(self):\n",
    "        self._executable = find_executable(self.base_executable)\n",
    "        first_line = open(self._executable).readline()\n",
    "        assert first_line.find(\"python\") >= 0\n",
    "        self.contents = open(self._executable).read()\n",
    "\n",
    "    def invoker(self):\n",
    "        exec(self.contents)\n",
    "    \n",
    "    def find_grammar(self):\n",
    "        miner = ConfigurationGrammarMiner(self.invoker)\n",
    "        self._grammar = miner.mine_grammar()\n",
    "\n",
    "    def grammar(self):\n",
    "        return self._grammar\n",
    "\n",
    "    def executable(self):\n",
    "        return self._executable\n",
    "\n",
    "    def set_arguments(self, args):\n",
    "        self._grammar[\"<arguments>\"] = [\" \" + args]\n",
    "        \n",
    "    def set_invocation(self, program):\n",
    "        self.program = program"
   ]
  },
  {
   "cell_type": "code",
   "execution_count": 40,
   "metadata": {
    "slideshow": {
     "slide_type": "subslide"
    }
   },
   "outputs": [],
   "source": [
    "conf_runner = ConfigurationRunner(\"autopep8\", \"foo.py\")"
   ]
  },
  {
   "cell_type": "code",
   "execution_count": 41,
   "metadata": {
    "slideshow": {
     "slide_type": "subslide"
    }
   },
   "outputs": [
    {
     "data": {
      "text/plain": [
       "[' -h',\n",
       " ' --help',\n",
       " ' --version',\n",
       " ' -v',\n",
       " ' --verbose',\n",
       " ' -d',\n",
       " ' --diff',\n",
       " ' -i',\n",
       " ' --in-place',\n",
       " ' --global-config <filename>',\n",
       " ' --ignore-local-config',\n",
       " ' -r',\n",
       " ' --recursive',\n",
       " ' -j <n>',\n",
       " ' --jobs <n>',\n",
       " ' -p <n>',\n",
       " ' --pep8-passes <n>',\n",
       " ' -a',\n",
       " ' --aggressive',\n",
       " ' --experimental',\n",
       " ' --exclude <globs>',\n",
       " ' --list-fixes',\n",
       " ' --ignore <errors>',\n",
       " ' --select <errors>',\n",
       " ' --max-line-length <n>',\n",
       " ' --line-range <line> <line>',\n",
       " ' --range <line> <line>',\n",
       " ' --indent-size <str>',\n",
       " ' --hang-closing']"
      ]
     },
     "execution_count": 41,
     "metadata": {},
     "output_type": "execute_result"
    }
   ],
   "source": [
    "conf_runner.grammar()[\"<option>\"]"
   ]
  },
  {
   "cell_type": "code",
   "execution_count": 42,
   "metadata": {
    "slideshow": {
     "slide_type": "subslide"
    }
   },
   "outputs": [],
   "source": [
    "class ConfigurationFuzzer(GrammarCoverageFuzzer):\n",
    "    def __init__(self, runner, *args, **kwargs):\n",
    "        self.runner = runner\n",
    "        grammar = runner.grammar()\n",
    "        super().__init__(grammar, *args, **kwargs)\n",
    "\n",
    "    def run(self, runner=None, inp=\"\"):\n",
    "        if runner is None:\n",
    "            runner = self.runner\n",
    "        invocation = runner.executable() + \" \" + self.fuzz()\n",
    "        runner.set_invocation(invocation.split())\n",
    "        return runner.run(inp)"
   ]
  },
  {
   "cell_type": "code",
   "execution_count": 43,
   "metadata": {
    "slideshow": {
     "slide_type": "fragment"
    }
   },
   "outputs": [],
   "source": [
    "conf_fuzzer = ConfigurationFuzzer(conf_runner, max_nonterminals=5)"
   ]
  },
  {
   "cell_type": "code",
   "execution_count": 44,
   "metadata": {
    "slideshow": {
     "slide_type": "fragment"
    }
   },
   "outputs": [
    {
     "data": {
      "text/plain": [
       "' --global-config M! foo.py'"
      ]
     },
     "execution_count": 44,
     "metadata": {},
     "output_type": "execute_result"
    }
   ],
   "source": [
    "conf_fuzzer.fuzz()"
   ]
  },
  {
   "cell_type": "code",
   "execution_count": 45,
   "metadata": {
    "slideshow": {
     "slide_type": "subslide"
    }
   },
   "outputs": [
    {
     "data": {
      "text/plain": [
       "(CompletedProcess(args=['/Users/zeller/anaconda3/bin/autopep8', '--exclude', 'To', '--recursive', '--select', '^c', '--version', 'foo.py'], returncode=0, stdout='autopep8 1.3.4 (pycodestyle: 2.4.0)\\n', stderr=''),\n",
       " 'PASS')"
      ]
     },
     "execution_count": 45,
     "metadata": {},
     "output_type": "execute_result"
    }
   ],
   "source": [
    "conf_fuzzer.run(conf_runner)"
   ]
  },
  {
   "cell_type": "markdown",
   "metadata": {
    "slideshow": {
     "slide_type": "slide"
    }
   },
   "source": [
    "## MyPy"
   ]
  },
  {
   "cell_type": "code",
   "execution_count": 46,
   "metadata": {
    "slideshow": {
     "slide_type": "fragment"
    }
   },
   "outputs": [
    {
     "name": "stdout",
     "output_type": "stream",
     "text": [
      "[' -h', ' --help', ' -v', ' --verbose', ' -V', ' --version', ' --config-file <str>', ' --warn-unused-configs', ' --no-warn-unused-configs', ' --ignore-missing-imports', ' --follow-imports <str>', ' --python-executable', ' --no-site-packages', ' --no-silence-site-packages', ' --python-version <x.y>', ' -2', ' --py2', ' --platform', ' --always-true', ' --always-false', ' --disallow-any-unimported', ' --disallow-subclassing-any', ' --allow-subclassing-any', ' --disallow-any-expr', ' --disallow-any-decorated', ' --disallow-any-explicit', ' --disallow-any-generics', ' --disallow-untyped-calls', ' --allow-untyped-calls', ' --disallow-untyped-defs', ' --allow-untyped-defs', ' --disallow-incomplete-defs', ' --allow-incomplete-defs', ' --check-untyped-defs', ' --no-check-untyped-defs', ' --warn-incomplete-stub', ' --no-warn-incomplete-stub', ' --no-implicit-optional', ' --implicit-optional', ' --strict-optional', ' --no-strict-optional', ' --strict-optional-whitelist<symbol-2-1>', ' --warn-redundant-casts', ' --no-warn-redundant-casts', ' --no-warn-no-return', ' --warn-no-return', ' --warn-return-any', ' --no-warn-return-any', ' --warn-unused-ignores', ' --no-warn-unused-ignores', ' --disallow-untyped-decorators', ' --allow-untyped-decorators', ' -i', ' --incremental', ' --no-incremental', ' --cache-dir', ' --cache-fine-grained', ' --quick-and-dirty', ' --skip-version-check', ' --pdb', ' --show-traceback', ' --tb', ' --custom-typing <MODULE>', ' --custom-typeshed-dir <DIR>', ' --shadow-file', ' --show-error-context', ' --hide-error-context', ' --show-column-numbers', ' --hide-column-numbers', ' --stats', ' --inferstats', ' --find-occurrences <CLASS.MEMBER>', ' --strict', ' --any-exprs-report <DIR>', ' --cobertura-xml-report <DIR>', ' --html-report <DIR>', ' --linecount-report <DIR>', ' --linecoverage-report <DIR>', ' --memory-xml-report <DIR>', ' --txt-report <DIR>', ' --xml-report <DIR>', ' --xslt-html-report <DIR>', ' --xslt-txt-report <DIR>', ' --junit-xml <str>', ' --scripts-are-modules', ' --debug-cache', ' --dump-deps', ' --dump-graph', ' --semantic-analysis-only', ' --local-partial-types', ' --bazel', ' --package-root', ' --cache-map<symbol-3-1>', ' --disallow-any <str>', ' --strict-boolean', ' --no-strict-boolean', ' -f', ' --dirty-stubs', ' --use-python-path', ' -s', ' --silent-imports', ' --almost-silent', ' --fast-parser', ' --no-fast-parser', ' -m', ' --module', ' -p', ' --package', ' -c', ' --command']\n"
     ]
    }
   ],
   "source": [
    "mypy = ConfigurationRunner(\"mypy\", \"foo.py\")\n",
    "print(mypy.grammar()[\"<option>\"])"
   ]
  },
  {
   "cell_type": "code",
   "execution_count": 47,
   "metadata": {
    "slideshow": {
     "slide_type": "subslide"
    }
   },
   "outputs": [
    {
     "name": "stdout",
     "output_type": "stream",
     "text": [
      " foo.py\n",
      " --no-warn-redundant-casts --allow-untyped-decorators foo.py\n",
      " --disallow-untyped-decorators --warn-unused-ignores foo.py\n",
      " --check-untyped-defs --stats foo.py\n",
      " -V foo.py\n",
      " --cache-fine-grained --semantic-analysis-only --no-strict-boolean foo.py\n",
      " --show-traceback foo.py\n",
      " --verbose foo.py\n",
      " --no-warn-return-any foo.py\n",
      " --hide-error-context -h foo.py\n"
     ]
    }
   ],
   "source": [
    "mypy_fuzzer = ConfigurationFuzzer(mypy, max_nonterminals=3)\n",
    "for i in range(10):\n",
    "    print(mypy_fuzzer.fuzz())"
   ]
  },
  {
   "cell_type": "code",
   "execution_count": 48,
   "metadata": {
    "slideshow": {
     "slide_type": "subslide"
    }
   },
   "outputs": [
    {
     "name": "stdout",
     "output_type": "stream",
     "text": [
      "[' -h', ' --help', ' -o<symbol-2-1>', ' --output<symbol-3-1>', ' --from <str>', ' --to <str>', ' --run', ' --execute', ' --timeout <str>', ' --strip', ' --precode<symbol-4-1>', ' --knit<symbol-5-1>', ' --rmagic', ' --nomagic', ' --render', ' --template <str>', ' --match <str>', ' --examples', ' --version', ' --debug']\n"
     ]
    }
   ],
   "source": [
    "notedown = ConfigurationRunner(\"notedown\")\n",
    "print(notedown.grammar()[\"<option>\"])"
   ]
  },
  {
   "cell_type": "code",
   "execution_count": 49,
   "metadata": {
    "slideshow": {
     "slide_type": "subslide"
    }
   },
   "outputs": [
    {
     "name": "stdout",
     "output_type": "stream",
     "text": [
      " --strip\n",
      " --examples\n",
      " --execute\n",
      " --run\n",
      " --rmagic\n",
      " --render\n",
      " --help\n",
      " -h\n",
      " --version\n",
      " --nomagic\n"
     ]
    }
   ],
   "source": [
    "notedown_fuzzer = ConfigurationFuzzer(notedown, max_nonterminals=3)\n",
    "for i in range(10):\n",
    "    print(notedown_fuzzer.fuzz())"
   ]
  },
  {
   "cell_type": "markdown",
   "metadata": {
    "button": false,
    "new_sheet": false,
    "run_control": {
     "read_only": false
    },
    "slideshow": {
     "slide_type": "slide"
    }
   },
   "source": [
    "## Combinatorial Testing\n",
    "\n",
    "\\todo{Add}"
   ]
  },
  {
   "cell_type": "markdown",
   "metadata": {
    "button": false,
    "new_sheet": true,
    "run_control": {
     "read_only": false
    },
    "slideshow": {
     "slide_type": "slide"
    }
   },
   "source": [
    "## Lessons Learned\n",
    "\n",
    "* _Lesson one_\n",
    "* _Lesson two_\n",
    "* _Lesson three_"
   ]
  },
  {
   "cell_type": "markdown",
   "metadata": {
    "button": false,
    "new_sheet": false,
    "run_control": {
     "read_only": false
    },
    "slideshow": {
     "slide_type": "slide"
    }
   },
   "source": [
    "## Next Steps\n",
    "\n",
    "_Link to subsequent chapters (notebooks) here, as in:_\n",
    "\n",
    "* [use _mutations_ on existing inputs to get more valid inputs](MutationFuzzer.ipynb)\n",
    "* [use _grammars_ (i.e., a specification of the input format) to get even more valid inputs](Grammars.ipynb)\n",
    "* [reduce _failing inputs_ for efficient debugging](Reducing.ipynb)\n"
   ]
  },
  {
   "cell_type": "markdown",
   "metadata": {
    "slideshow": {
     "slide_type": "slide"
    }
   },
   "source": [
    "## Background\n",
    "\n",
    "_Cite relevant works in the literature and put them into context, as in:_\n",
    "\n",
    "The idea of ensuring that each expansion in the grammar is used at least once goes back to Burkhardt \\cite{Burkhardt1967}, to be later rediscovered by Paul Purdom \\cite{Purdom1972}."
   ]
  },
  {
   "cell_type": "markdown",
   "metadata": {
    "button": false,
    "new_sheet": true,
    "run_control": {
     "read_only": false
    },
    "slideshow": {
     "slide_type": "slide"
    }
   },
   "source": [
    "## Exercises\n",
    "\n",
    "_Close the chapter with a few exercises such that people have things to do.  To make the solutions hidden (to be revealed by the user), have them start with_\n",
    "\n",
    "```markdown\n",
    "**Solution.**\n",
    "```\n",
    "\n",
    "_Your solution can then extend up to the next title (i.e., any markdown cell starting with `#`)._\n",
    "\n",
    "_Running `make metadata` will automatically add metadata to the cells such that the cells will be hidden by default, and can be uncovered by the user.  The button will be introduced above the solution._"
   ]
  },
  {
   "cell_type": "markdown",
   "metadata": {
    "button": false,
    "new_sheet": false,
    "run_control": {
     "read_only": false
    },
    "slideshow": {
     "slide_type": "subslide"
    }
   },
   "source": [
    "### Exercise 1: _Title_\n",
    "\n",
    "_Text of the exercise_"
   ]
  },
  {
   "cell_type": "code",
   "execution_count": 50,
   "metadata": {
    "cell_style": "center",
    "slideshow": {
     "slide_type": "fragment"
    }
   },
   "outputs": [],
   "source": [
    "# Some code that is part of the exercise\n",
    "pass"
   ]
  },
  {
   "cell_type": "markdown",
   "metadata": {
    "slideshow": {
     "slide_type": "fragment"
    },
    "solution2": "hidden",
    "solution2_first": true
   },
   "source": [
    "_Some more text for the exercise_"
   ]
  },
  {
   "cell_type": "markdown",
   "metadata": {
    "slideshow": {
     "slide_type": "skip"
    },
    "solution2": "hidden"
   },
   "source": [
    "**Solution.** _Some text for the solution_"
   ]
  },
  {
   "cell_type": "code",
   "execution_count": 51,
   "metadata": {
    "cell_style": "split",
    "slideshow": {
     "slide_type": "skip"
    },
    "solution2": "hidden"
   },
   "outputs": [
    {
     "data": {
      "text/plain": [
       "4"
      ]
     },
     "execution_count": 51,
     "metadata": {},
     "output_type": "execute_result"
    }
   ],
   "source": [
    "# Some code for the solution\n",
    "2 + 2"
   ]
  },
  {
   "cell_type": "markdown",
   "metadata": {
    "slideshow": {
     "slide_type": "skip"
    },
    "solution2": "hidden"
   },
   "source": [
    "_Some more text for the solution_"
   ]
  },
  {
   "cell_type": "markdown",
   "metadata": {
    "button": false,
    "new_sheet": false,
    "run_control": {
     "read_only": false
    },
    "slideshow": {
     "slide_type": "subslide"
    },
    "solution": "hidden",
    "solution2": "hidden",
    "solution2_first": true,
    "solution_first": true
   },
   "source": [
    "### Exercise 2: _Title_\n",
    "\n",
    "_Text of the exercise_"
   ]
  },
  {
   "cell_type": "markdown",
   "metadata": {
    "button": false,
    "new_sheet": false,
    "run_control": {
     "read_only": false
    },
    "slideshow": {
     "slide_type": "skip"
    },
    "solution": "hidden",
    "solution2": "hidden"
   },
   "source": [
    "**Solution.** _Solution for the exercise_"
   ]
  }
 ],
 "metadata": {
  "ipub": {
   "bibliography": "fuzzingbook.bib",
   "toc": true
  },
  "kernelspec": {
   "display_name": "Python 3",
   "language": "python",
   "name": "python3"
  },
  "language_info": {
   "codemirror_mode": {
    "name": "ipython",
    "version": 3
   },
   "file_extension": ".py",
   "mimetype": "text/x-python",
   "name": "python",
   "nbconvert_exporter": "python",
   "pygments_lexer": "ipython3",
   "version": "3.6.5"
  },
  "toc": {
   "base_numbering": 1,
   "nav_menu": {},
   "number_sections": true,
   "sideBar": true,
   "skip_h1_title": true,
   "title_cell": "",
   "title_sidebar": "Contents",
   "toc_cell": false,
   "toc_position": {},
   "toc_section_display": true,
   "toc_window_display": true
  }
 },
 "nbformat": 4,
 "nbformat_minor": 2
}
