{
 "cells": [
  {
   "cell_type": "markdown",
   "metadata": {
    "button": false,
    "new_sheet": false,
    "run_control": {
     "read_only": false
    },
    "slideshow": {
     "slide_type": "slide"
    }
   },
   "source": [
    "# Control Flow Graph\n",
    "\n",
    "The code in this notebook helps with obtaining the control flow graph of python functions."
   ]
  },
  {
   "cell_type": "markdown",
   "metadata": {
    "button": false,
    "new_sheet": false,
    "run_control": {
     "read_only": false
    },
    "slideshow": {
     "slide_type": "subslide"
    }
   },
   "source": [
    "**Prerequisites**\n",
    "\n",
    "* This notebook needs some understanding on advanced concepts in Python, notably \n",
    "    * classes"
   ]
  },
  {
   "cell_type": "markdown",
   "metadata": {
    "button": false,
    "new_sheet": false,
    "run_control": {
     "read_only": false
    },
    "slideshow": {
     "slide_type": "slide"
    }
   },
   "source": [
    "## Control Flow Graph\n",
    "\n",
    "The class `PyCFG` allows one to obtain the control flow graph.\n",
    "\n",
    "```Python\n",
    "from ControlFlow import PyCFG\n",
    "\n",
    "cfg = PyCFG.gen_cfg(function_source)\n",
    "graph = PyCFG.to_graph(cfg)\n",
    "```\n"
   ]
  },
  {
   "cell_type": "code",
   "execution_count": 1,
   "metadata": {
    "button": false,
    "new_sheet": false,
    "run_control": {
     "read_only": false
    },
    "slideshow": {
     "slide_type": "skip"
    }
   },
   "outputs": [],
   "source": [
    "import fuzzingbook_utils"
   ]
  },
  {
   "cell_type": "code",
   "execution_count": 2,
   "metadata": {
    "slideshow": {
     "slide_type": "skip"
    }
   },
   "outputs": [],
   "source": [
    "import ast\n",
    "import re\n",
    "import astunparse\n",
    "from graphviz import Source, Graph, Digraph"
   ]
  },
  {
   "cell_type": "markdown",
   "metadata": {
    "slideshow": {
     "slide_type": "subslide"
    }
   },
   "source": [
    "### Registry"
   ]
  },
  {
   "cell_type": "code",
   "execution_count": 3,
   "metadata": {
    "slideshow": {
     "slide_type": "fragment"
    }
   },
   "outputs": [],
   "source": [
    "REGISTRY_IDX = 0"
   ]
  },
  {
   "cell_type": "code",
   "execution_count": 4,
   "metadata": {
    "slideshow": {
     "slide_type": "fragment"
    }
   },
   "outputs": [],
   "source": [
    "REGISTRY = {}"
   ]
  },
  {
   "cell_type": "code",
   "execution_count": 5,
   "metadata": {
    "slideshow": {
     "slide_type": "fragment"
    }
   },
   "outputs": [],
   "source": [
    "def get_registry_idx():\n",
    "    global REGISTRY_IDX\n",
    "    v = REGISTRY_IDX\n",
    "    REGISTRY_IDX += 1\n",
    "    return v"
   ]
  },
  {
   "cell_type": "code",
   "execution_count": 6,
   "metadata": {
    "slideshow": {
     "slide_type": "fragment"
    }
   },
   "outputs": [],
   "source": [
    "def reset_registry():\n",
    "    global REGISTRY_IDX\n",
    "    global REGISTRY\n",
    "    REGISTRY_IDX = 0\n",
    "    REGISTRY = {}"
   ]
  },
  {
   "cell_type": "code",
   "execution_count": 7,
   "metadata": {
    "slideshow": {
     "slide_type": "subslide"
    }
   },
   "outputs": [],
   "source": [
    "def register_node(node):\n",
    "    node.rid = get_registry_idx()\n",
    "    REGISTRY[node.rid] = node"
   ]
  },
  {
   "cell_type": "markdown",
   "metadata": {
    "slideshow": {
     "slide_type": "subslide"
    }
   },
   "source": [
    "### CFGNode\n",
    "We start with the `CFGNode` representing each node in the control flow graph."
   ]
  },
  {
   "cell_type": "code",
   "execution_count": 8,
   "metadata": {
    "slideshow": {
     "slide_type": "subslide"
    }
   },
   "outputs": [],
   "source": [
    "class CFGNode(dict):\n",
    "    def __init__(self, parents=[], ast=None):\n",
    "        assert type(parents) is list\n",
    "        register_node(self)\n",
    "        self.parents = parents\n",
    "        self.ast_node = ast\n",
    "        self.update_children(parents)  # requires self.rid\n",
    "        self.children = []\n",
    "        self.calls = []\n",
    "        self._child_annotation = None  # one shot annotation for branches (if)\n",
    "        self.child_node_annotations = {}\n",
    "\n",
    "    def set_oneshot_annotation(self, a):\n",
    "        self._child_annotation = a\n",
    "        \n",
    "    def i(self):\n",
    "        return str(self.rid)\n",
    "\n",
    "    def update_children(self, parents):\n",
    "        for p in parents:\n",
    "            p.add_child(self)\n",
    "\n",
    "    def add_child(self, c):\n",
    "        if c not in self.children:\n",
    "            self.children.append(c)\n",
    "        # the current annotation is in self._child_annotation\n",
    "        # it is a oneshot annotation: essentially True/False\n",
    "        if self._child_annotation is not None:\n",
    "            # there can be only one annotation to an edge to c.rid\n",
    "            self.child_node_annotations[c.rid] = self._child_annotation\n",
    "            self._child_annotation = None\n",
    "\n",
    "    def lineno(self):\n",
    "        return self.ast_node.lineno if hasattr(self.ast_node, 'lineno') else 0\n",
    "\n",
    "    def __str__(self):\n",
    "        return \"id:%d line[%d] parents: %s : %s %s\" % (\n",
    "            self.rid, self.lineno(), str([p.rid for p in self.parents]),\n",
    "            self.source())\n",
    "\n",
    "    def __repr__(self):\n",
    "        return str(self)\n",
    "\n",
    "    def __eq__(self, other):\n",
    "        return self.rid == other.rid\n",
    "\n",
    "    def __neq__(self, other):\n",
    "        return self.rid != other.rid\n",
    "\n",
    "    def set_parents(self, p):\n",
    "        self.parents = p\n",
    "\n",
    "    def add_parent(self, p):\n",
    "        if p not in self.parents:\n",
    "            self.parents.append(p)\n",
    "\n",
    "    def add_parents(self, ps):\n",
    "        for p in ps:\n",
    "            self.add_parent(p)\n",
    "\n",
    "    def add_calls(self, func):\n",
    "        self.calls.append(func)\n",
    "\n",
    "    def source(self):\n",
    "        return astunparse.unparse(self.ast_node).strip()\n",
    "\n",
    "    def to_json(self):\n",
    "        return {\n",
    "            'id': self.rid,\n",
    "            'parents': [p.rid for p in self.parents],\n",
    "            'children': [c.rid for c in self.children],\n",
    "            'calls': self.calls,\n",
    "            'at': self.lineno(),\n",
    "            'ast': self.source()\n",
    "        }"
   ]
  },
  {
   "cell_type": "code",
   "execution_count": 9,
   "metadata": {
    "slideshow": {
     "slide_type": "subslide"
    }
   },
   "outputs": [],
   "source": [
    "REGISTRY_IDX = 0"
   ]
  },
  {
   "cell_type": "code",
   "execution_count": 10,
   "metadata": {
    "slideshow": {
     "slide_type": "fragment"
    }
   },
   "outputs": [],
   "source": [
    "REGISTRY = {}"
   ]
  },
  {
   "cell_type": "code",
   "execution_count": 11,
   "metadata": {
    "slideshow": {
     "slide_type": "fragment"
    }
   },
   "outputs": [],
   "source": [
    "def get_registry_idx():\n",
    "    global REGISTRY_IDX\n",
    "    v = REGISTRY_IDX\n",
    "    REGISTRY_IDX += 1\n",
    "    return v"
   ]
  },
  {
   "cell_type": "code",
   "execution_count": 12,
   "metadata": {
    "slideshow": {
     "slide_type": "fragment"
    }
   },
   "outputs": [],
   "source": [
    "def reset_registry():\n",
    "    global REGISTRY_IDX\n",
    "    global REGISTRY\n",
    "    REGISTRY_IDX = 0\n",
    "    REGISTRY = {}"
   ]
  },
  {
   "cell_type": "code",
   "execution_count": 13,
   "metadata": {
    "slideshow": {
     "slide_type": "fragment"
    }
   },
   "outputs": [],
   "source": [
    "def register_node(node):\n",
    "    node.rid = get_registry_idx()\n",
    "    REGISTRY[node.rid] = node"
   ]
  },
  {
   "cell_type": "markdown",
   "metadata": {
    "slideshow": {
     "slide_type": "subslide"
    }
   },
   "source": [
    "### PyCFG\n",
    "\n",
    "Next, the `PyCFG` class which is responsible for parsing, and holding the graph."
   ]
  },
  {
   "cell_type": "code",
   "execution_count": 14,
   "metadata": {
    "button": false,
    "new_sheet": false,
    "run_control": {
     "read_only": false
    },
    "slideshow": {
     "slide_type": "subslide"
    }
   },
   "outputs": [],
   "source": [
    "class PyCFG:\n",
    "    def __init__(self):\n",
    "        self.founder = CFGNode(\n",
    "            parents=[], ast=ast.parse('start').body[0])  # sentinel\n",
    "        self.founder.ast_node.lineno = 0\n",
    "        self.functions = {}\n",
    "        self.functions_node = {}\n",
    "\n",
    "    def parse(self, src):\n",
    "        return ast.parse(src)\n",
    "\n",
    "    def walk(self, node, myparents, annot=None):\n",
    "        fname = \"on_%s\" % node.__class__.__name__.lower()\n",
    "        if hasattr(self, fname):\n",
    "            fn = getattr(self, fname)\n",
    "            v = fn(node, myparents, annot)\n",
    "            return v\n",
    "        else:\n",
    "            return myparents\n",
    "\n",
    "    def on_module(self, node, myparents, annot):\n",
    "        \"\"\"\n",
    "        Module(stmt* body)\n",
    "        \"\"\"\n",
    "        # each time a statement is executed unconditionally, make a link from\n",
    "        # the result to next statement\n",
    "        p = myparents\n",
    "        for n in node.body:\n",
    "            p = self.walk(n, p)\n",
    "        return p\n",
    "\n",
    "    def on_assign(self, node, myparents, annot):\n",
    "        \"\"\"\n",
    "        Assign(expr* targets, expr value)\n",
    "        TODO: AugAssign(expr target, operator op, expr value)\n",
    "        -- 'simple' indicates that we annotate simple name without parens\n",
    "        TODO: AnnAssign(expr target, expr annotation, expr? value, int simple)\n",
    "        \"\"\"\n",
    "        if len(node.targets) > 1:\n",
    "            raise NotImplemented('Parallel assignments')\n",
    "\n",
    "        p = [CFGNode(parents=myparents, ast=node)]\n",
    "        p = self.walk(node.value, p)\n",
    "\n",
    "        return p\n",
    "\n",
    "    def on_pass(self, node, myparents, annot):\n",
    "        return [CFGNode(parents=myparents, ast=node)]\n",
    "\n",
    "    def on_break(self, node, myparents, annot):\n",
    "        parent = myparents[0]\n",
    "        while not hasattr(parent, 'exit_nodes'):\n",
    "            # we have ordered parents\n",
    "            parent = parent.parents[0]\n",
    "\n",
    "        assert hasattr(parent, 'exit_nodes')\n",
    "        p = CFGNode(parents=myparents, ast=node)\n",
    "\n",
    "        # make the break one of the parents of label node.\n",
    "        parent.exit_nodes.append(p)\n",
    "\n",
    "        # break doesnt have immediate children\n",
    "        return []\n",
    "\n",
    "    def on_continue(self, node, myparents, annot):\n",
    "        parent = myparents[0]\n",
    "        while not hasattr(parent, 'exit_nodes'):\n",
    "            # we have ordered parents\n",
    "            parent = parent.parents[0]\n",
    "        assert hasattr(parent, 'exit_nodes')\n",
    "        p = CFGNode(parents=myparents, ast=node)\n",
    "\n",
    "        # make continue one of the parents of the original test node.\n",
    "        parent.add_parent(p)\n",
    "\n",
    "        # return the parent because a continue is not the parent\n",
    "        # for the just next node\n",
    "        return []\n",
    "\n",
    "    def on_for(self, node, myparents, annot):\n",
    "        # node.target in node.iter: node.body\n",
    "        # TODO: The For loop in python (no else) can be translated\n",
    "        # as follows:\n",
    "        # \n",
    "        # for a in iterator:\n",
    "        #      mystatements\n",
    "        #\n",
    "        # __iv = iter(iterator)\n",
    "        # while __iv.__length_hint() > 0:\n",
    "        #     a = next(__iv)\n",
    "        #     mystatements\n",
    "        \n",
    "        _test_node = CFGNode(\n",
    "            parents=myparents,\n",
    "            ast=ast.parse('_for: True if %s else False' % astunparse.unparse(\n",
    "                node.iter).strip()).body[0])\n",
    "        ast.copy_location(_test_node.ast_node, node)\n",
    "\n",
    "        # we attach the label node here so that break can find it.\n",
    "        _test_node.exit_nodes = []\n",
    "        test_node = self.walk(node.iter, [_test_node])\n",
    "\n",
    "        test_node[0].set_oneshot_annotation('T')\n",
    "        extract_node = CFGNode(\n",
    "            parents=[_test_node],\n",
    "            ast=ast.parse('%s = %s.shift()' %\n",
    "                          (astunparse.unparse(node.target).strip(),\n",
    "                           astunparse.unparse(node.iter).strip())).body[0])\n",
    "        ast.copy_location(extract_node.ast_node, _test_node.ast_node)\n",
    "\n",
    "        # now we evaluate the body, one at a time.\n",
    "        p1 = [extract_node]\n",
    "        for n in node.body:\n",
    "            p1 = self.walk(n, p1)\n",
    "\n",
    "        # the test node is looped back at the end of processing.\n",
    "        _test_node.add_parents(p1)\n",
    "\n",
    "        test_node[0].set_oneshot_annotation('F')\n",
    "        return _test_node.exit_nodes + test_node\n",
    "\n",
    "    def on_while(self, node, myparents, annot):\n",
    "        # For a while, the earliest parent is the node.test\n",
    "        _test_node = CFGNode(\n",
    "            parents=myparents,\n",
    "            ast=ast.parse(\n",
    "                '_while: %s' % astunparse.unparse(node.test).strip()).body[0])\n",
    "        ast.copy_location(_test_node.ast_node, node.test)\n",
    "        _test_node.exit_nodes = []\n",
    "        test_node = self.walk(node.test, [_test_node])\n",
    "\n",
    "        # we attach the label node here so that break can find it.\n",
    "\n",
    "        # now we evaluate the body, one at a time.\n",
    "        assert len(test_node) == 1\n",
    "        test_node[0].set_oneshot_annotation('T')\n",
    "        p1 = test_node\n",
    "        for n in node.body:\n",
    "            p1 = self.walk(n, p1)\n",
    "\n",
    "        # the test node is looped back at the end of processing.\n",
    "        _test_node.add_parents(p1)\n",
    "\n",
    "        # link label node back to the condition.\n",
    "        test_node[0].set_oneshot_annotation('F')\n",
    "        return _test_node.exit_nodes + test_node\n",
    "\n",
    "    def on_if(self, node, myparents, annot):\n",
    "        _test_node = CFGNode(\n",
    "            parents=myparents,\n",
    "            ast=ast.parse(\n",
    "                '_if: %s' % astunparse.unparse(node.test).strip()).body[0])\n",
    "        ast.copy_location(_test_node.ast_node, node.test)\n",
    "        test_node = self.walk(node.test, [_test_node])\n",
    "        assert len(test_node) == 1\n",
    "        g1 = test_node\n",
    "        test_node[0].set_oneshot_annotation('T')\n",
    "        for n in node.body:\n",
    "            g1 = self.walk(n, g1)\n",
    "        g2 = test_node\n",
    "        test_node[0].set_oneshot_annotation('F')\n",
    "        for n in node.orelse:\n",
    "            g2 = self.walk(n, g2)\n",
    "        return g1 + g2\n",
    "\n",
    "    def on_binop(self, node, myparents, annot):\n",
    "        left = self.walk(node.left, myparents)\n",
    "        right = self.walk(node.right, left)\n",
    "        return right\n",
    "\n",
    "    def on_compare(self, node, myparents, annot):\n",
    "        left = self.walk(node.left, myparents)\n",
    "        right = self.walk(node.comparators[0], left)\n",
    "        return right\n",
    "\n",
    "    def on_unaryop(self, node, myparents, annot):\n",
    "        return self.walk(node.operand, myparents)\n",
    "\n",
    "    def on_call(self, node, myparents, annot):\n",
    "        def get_func(node):\n",
    "            if type(node.func) is ast.Name:\n",
    "                mid = node.func.id\n",
    "            elif type(node.func) is ast.Attribute:\n",
    "                mid = node.func.attr\n",
    "            elif type(node.func) is ast.Call:\n",
    "                mid = get_func(node.func)\n",
    "            else:\n",
    "                raise Exception(str(type(node.func)))\n",
    "            return mid\n",
    "            #mid = node.func.value.id\n",
    "\n",
    "        p = myparents\n",
    "        for a in node.args:\n",
    "            p = self.walk(a, p)\n",
    "        mid = get_func(node)\n",
    "        myparents[0].add_calls(mid)\n",
    "\n",
    "        # these need to be unlinked later if our module actually defines these\n",
    "        # functions. Otherwsise we may leave them around.\n",
    "        # during a call, the direct child is not the next\n",
    "        # statement in text.\n",
    "        for c in p:\n",
    "            c.calllink = 0\n",
    "        return p\n",
    "\n",
    "    def on_expr(self, node, myparents, annot):\n",
    "        p = [CFGNode(parents=myparents, ast=node)]\n",
    "        return self.walk(node.value, p)\n",
    "\n",
    "    def on_return(self, node, myparents, annot):\n",
    "        if type(myparents) is tuple:\n",
    "            parent = myparents[0][0]\n",
    "        else:\n",
    "            parent = myparents[0]\n",
    "\n",
    "        val_node = self.walk(node.value, myparents)\n",
    "        # on return look back to the function definition.\n",
    "        while not hasattr(parent, 'return_nodes'):\n",
    "            parent = parent.parents[0]\n",
    "        assert hasattr(parent, 'return_nodes')\n",
    "\n",
    "        p = CFGNode(parents=val_node, ast=node)\n",
    "\n",
    "        # make the break one of the parents of label node.\n",
    "        parent.return_nodes.append(p)\n",
    "\n",
    "        # return doesnt have immediate children\n",
    "        return []\n",
    "\n",
    "    def on_functiondef(self, node, myparents, annot):\n",
    "        # a function definition does not actually continue the thread of\n",
    "        # control flow\n",
    "        # name, args, body, decorator_list, returns\n",
    "        fname = node.name\n",
    "        args = node.args\n",
    "        returns = node.returns\n",
    "\n",
    "        enter_node = CFGNode(\n",
    "            parents=[],\n",
    "            ast=ast.parse('enter: %s(%s)' % (node.name, ', '.join(\n",
    "                [a.arg for a in node.args.args]))).body[0])  # sentinel\n",
    "        enter_node.calleelink = True\n",
    "        ast.copy_location(enter_node.ast_node, node)\n",
    "        exit_node = CFGNode(\n",
    "            parents=[],\n",
    "            ast=ast.parse('exit: %s(%s)' % (node.name, ', '.join(\n",
    "                [a.arg for a in node.args.args]))).body[0])  # sentinel\n",
    "        exit_node.fn_exit_node = True\n",
    "        ast.copy_location(exit_node.ast_node, node)\n",
    "        enter_node.return_nodes = []  # sentinel\n",
    "\n",
    "        p = [enter_node]\n",
    "        for n in node.body:\n",
    "            p = self.walk(n, p)\n",
    "\n",
    "        for n in p:\n",
    "            if n not in enter_node.return_nodes:\n",
    "                enter_node.return_nodes.append(n)\n",
    "\n",
    "        for n in enter_node.return_nodes:\n",
    "            exit_node.add_parent(n)\n",
    "\n",
    "        self.functions[fname] = [enter_node, exit_node]\n",
    "        self.functions_node[enter_node.lineno()] = fname\n",
    "\n",
    "        return myparents\n",
    "\n",
    "    def get_defining_function(self, node):\n",
    "        if node.lineno() in self.functions_node:\n",
    "            return self.functions_node[node.lineno()]\n",
    "        if not node.parents:\n",
    "            self.functions_node[node.lineno()] = ''\n",
    "            return ''\n",
    "        val = self.get_defining_function(node.parents[0])\n",
    "        self.functions_node[node.lineno()] = val\n",
    "        return val\n",
    "\n",
    "    def link_functions(self):\n",
    "        for nid, node in REGISTRY.items():\n",
    "            if node.calls:\n",
    "                for calls in node.calls:\n",
    "                    if calls in self.functions:\n",
    "                        enter, exit = self.functions[calls]\n",
    "                        enter.add_parent(node)\n",
    "                        if node.children:\n",
    "                            # # until we link the functions up, the node\n",
    "                            # # should only have succeeding node in text as\n",
    "                            # # children.\n",
    "                            # assert(len(node.children) == 1)\n",
    "                            # passn = node.children[0]\n",
    "                            # # We require a single pass statement after every\n",
    "                            # # call (which means no complex expressions)\n",
    "                            # assert(type(passn.ast_node) == ast.Pass)\n",
    "\n",
    "                            # # unlink the call statement\n",
    "                            assert node.calllink > -1\n",
    "                            node.calllink += 1\n",
    "                            for i in node.children:\n",
    "                                i.add_parent(exit)\n",
    "                            # passn.set_parents([exit])\n",
    "                            # ast.copy_location(exit.ast_node, passn.ast_node)\n",
    "\n",
    "                            # #for c in passn.children: c.add_parent(exit)\n",
    "                            # #passn.ast_node = exit.ast_node\n",
    "\n",
    "    def update_functions(self):\n",
    "        for nid, node in REGISTRY.items():\n",
    "            _n = self.get_defining_function(node)\n",
    "\n",
    "    def update_children(self):\n",
    "        for nid, node in REGISTRY.items():\n",
    "            for p in node.parents:\n",
    "                p.add_child(node)\n",
    "\n",
    "    def gen_cfg(self, src):\n",
    "        \"\"\"\n",
    "        >>> i = PyCFG()\n",
    "        >>> i.walk(\"100\")\n",
    "        5\n",
    "        \"\"\"\n",
    "        node = self.parse(src)\n",
    "        nodes = self.walk(node, [self.founder])\n",
    "        self.last_node = CFGNode(parents=nodes, ast=ast.parse('stop').body[0])\n",
    "        ast.copy_location(self.last_node.ast_node, self.founder.ast_node)\n",
    "        self.update_children()\n",
    "        self.update_functions()\n",
    "        self.link_functions()"
   ]
  },
  {
   "cell_type": "markdown",
   "metadata": {
    "slideshow": {
     "slide_type": "subslide"
    }
   },
   "source": [
    "### Supporting Functions"
   ]
  },
  {
   "cell_type": "code",
   "execution_count": 15,
   "metadata": {
    "slideshow": {
     "slide_type": "subslide"
    }
   },
   "outputs": [],
   "source": [
    "def compute_dominator(cfg, start=0, key='parents'):\n",
    "    dominator = {}\n",
    "    dominator[start] = {start}\n",
    "    all_nodes = set(cfg.keys())\n",
    "    rem_nodes = all_nodes - {start}\n",
    "    for n in rem_nodes:\n",
    "        dominator[n] = all_nodes\n",
    "\n",
    "    c = True\n",
    "    while c:\n",
    "        c = False\n",
    "        for n in rem_nodes:\n",
    "            pred_n = cfg[n][key]\n",
    "            doms = [dominator[p] for p in pred_n]\n",
    "            i = set.intersection(*doms) if doms else set()\n",
    "            v = {n} | i\n",
    "            if dominator[n] != v:\n",
    "                c = True\n",
    "            dominator[n] = v\n",
    "    return dominator\n",
    "\n",
    "\n",
    "\n",
    "def compute_flow(pythonfile):\n",
    "    cfg, first, last = get_cfg(pythonfile)\n",
    "    return cfg, compute_dominator(\n",
    "        cfg, start=first), compute_dominator(\n",
    "            cfg, start=last, key='children')"
   ]
  },
  {
   "cell_type": "code",
   "execution_count": 16,
   "metadata": {
    "slideshow": {
     "slide_type": "subslide"
    }
   },
   "outputs": [],
   "source": [
    "def gen_cfg(fnsrc, remove_start_stop=True):\n",
    "    reset_registry()\n",
    "    cfg = PyCFG()\n",
    "    cfg.gen_cfg(fnsrc)\n",
    "    cache = dict(REGISTRY)\n",
    "    if remove_start_stop:\n",
    "        return {\n",
    "            k: cache[k]\n",
    "            for k in cache if cache[k].source() not in {'start', 'stop'}\n",
    "        }\n",
    "    else:\n",
    "        return cache\n",
    "\n",
    "def get_cfg(src):\n",
    "    reset_registry()\n",
    "    cfg = PyCFG()\n",
    "    cfg.gen_cfg(src)\n",
    "    cache = dict(REGISTRY)\n",
    "    g = {}\n",
    "    for k, v in cache.items():\n",
    "        j = v.to_json()\n",
    "        at = j['at']\n",
    "        parents_at = [cache[p].to_json()['at'] for p in j['parents']]\n",
    "        children_at = [cache[c].to_json()['at'] for c in j['children']]\n",
    "        if at not in g:\n",
    "            g[at] = {'parents': set(), 'children': set()}\n",
    "        # remove dummy nodes\n",
    "        ps = set([p for p in parents_at if p != at])\n",
    "        cs = set([c for c in children_at if c != at])\n",
    "        g[at]['parents'] |= ps\n",
    "        g[at]['children'] |= cs\n",
    "        if v.calls:\n",
    "            g[at]['calls'] = v.calls\n",
    "        g[at]['function'] = cfg.functions_node[v.lineno()]\n",
    "    return (g, cfg.founder.ast_node.lineno, cfg.last_node.ast_node.lineno)\n",
    "\n",
    "def to_graph(cache, arcs=[]):\n",
    "    graph = Digraph(comment='The Round Table')\n",
    "    colors = {'T': 'blue', 'F': 'red'}\n",
    "    cov_lines = set(i for i, j in arcs)\n",
    "    for nid, cnode in cache.items():\n",
    "        lineno = cnode.lineno()\n",
    "        graph.node(cnode.i(), \"%d: %s\" % (lineno, unhack(cnode.source())))\n",
    "        for pn in cnode.parents:\n",
    "            plineno = pn.lineno()\n",
    "            if hasattr(pn, 'calllink') and pn.calllink > 0 and not hasattr(\n",
    "                    cnode, 'calleelink'):\n",
    "                graph.edge(pn.i(), cnode.i(), style='dotted', weight=100)\n",
    "                continue\n",
    "\n",
    "            if arcs:\n",
    "                if (plineno, lineno) in arcs:\n",
    "                    graph.edge(pn.i(), cnode.i(), color='green')\n",
    "                elif plineno == lineno and lineno in cov_lines:\n",
    "                    graph.edge(pn.i(), cnode.i(), color='green')\n",
    "                # child is exit and parent is covered\n",
    "                elif hasattr(cnode, 'fn_exit_node') and plineno in cov_lines:\n",
    "                    graph.edge(pn.i(), cnode.i(), color='green')\n",
    "                # parent is exit and one of its parents is covered.\n",
    "                elif hasattr(pn, 'fn_exit_node') and len(\n",
    "                        set(n.lineno() for n in pn.parents) | cov_lines) > 0:\n",
    "                    graph.edge(pn.i(), cnode.i(), color='green')\n",
    "                # child is a callee (has calleelink) and one of the parents is covered.\n",
    "                elif plineno in cov_lines and hasattr(cnode, 'calleelink'):\n",
    "                    graph.edge(pn.i(), cnode.i(), color='green')\n",
    "                else:\n",
    "                    graph.edge(pn.i(), cnode.i(), color='red')\n",
    "            else:\n",
    "                a = pn.child_node_annotations.get(cnode.rid, None)\n",
    "                if a is not None:\n",
    "                    graph.edge(pn.i(), cnode.i(), color=colors[a], label=a)\n",
    "                else:\n",
    "                    graph.edge(pn.i(), cnode.i())\n",
    "    return graph"
   ]
  },
  {
   "cell_type": "code",
   "execution_count": 17,
   "metadata": {
    "slideshow": {
     "slide_type": "subslide"
    }
   },
   "outputs": [],
   "source": [
    "def unhack(v):\n",
    "    for i in ['if', 'while', 'for', 'elif']:\n",
    "        v = re.sub(r'^_%s:' % i, '%s:' % i, v)\n",
    "    return v"
   ]
  },
  {
   "cell_type": "markdown",
   "metadata": {
    "slideshow": {
     "slide_type": "subslide"
    }
   },
   "source": [
    "### Examples"
   ]
  },
  {
   "cell_type": "markdown",
   "metadata": {
    "slideshow": {
     "slide_type": "subslide"
    }
   },
   "source": [
    "#### check_triangle"
   ]
  },
  {
   "cell_type": "code",
   "execution_count": 18,
   "metadata": {
    "slideshow": {
     "slide_type": "subslide"
    }
   },
   "outputs": [],
   "source": [
    "def check_triangle(a,b,c):\n",
    "    if a == b:\n",
    "        if a == c:\n",
    "            if b == c:\n",
    "                return \"Equilateral\"\n",
    "            else:\n",
    "                return \"Isosceles\"\n",
    "        else:\n",
    "            return \"Isosceles\"\n",
    "    else:\n",
    "        if b != c:\n",
    "            if a == c:\n",
    "                return \"Isosceles\"\n",
    "            else:\n",
    "                return \"Scalene\"\n",
    "        else:\n",
    "              return \"Isosceles\""
   ]
  },
  {
   "cell_type": "code",
   "execution_count": 19,
   "metadata": {
    "slideshow": {
     "slide_type": "skip"
    }
   },
   "outputs": [],
   "source": [
    "import inspect"
   ]
  },
  {
   "cell_type": "code",
   "execution_count": 20,
   "metadata": {
    "slideshow": {
     "slide_type": "subslide"
    }
   },
   "outputs": [],
   "source": [
    "graph = to_graph(gen_cfg(inspect.getsource(check_triangle)))"
   ]
  },
  {
   "cell_type": "code",
   "execution_count": 21,
   "metadata": {
    "scrolled": false,
    "slideshow": {
     "slide_type": "fragment"
    }
   },
   "outputs": [
    {
     "data": {
      "image/svg+xml": [
       "<?xml version=\"1.0\" encoding=\"UTF-8\" standalone=\"no\"?>\n",
       "<!DOCTYPE svg PUBLIC \"-//W3C//DTD SVG 1.1//EN\"\n",
       " \"http://www.w3.org/Graphics/SVG/1.1/DTD/svg11.dtd\">\n",
       "<!-- Generated by graphviz version 2.40.1 (20161225.0304)\n",
       " -->\n",
       "<!-- Title: %3 Pages: 1 -->\n",
       "<svg width=\"831pt\" height=\"472pt\"\n",
       " viewBox=\"0.00 0.00 830.89 472.00\" xmlns=\"http://www.w3.org/2000/svg\" xmlns:xlink=\"http://www.w3.org/1999/xlink\">\n",
       "<g id=\"graph0\" class=\"graph\" transform=\"scale(1 1) rotate(0) translate(4 468)\">\n",
       "<title>%3</title>\n",
       "<polygon fill=\"#ffffff\" stroke=\"transparent\" points=\"-4,4 -4,-468 826.8858,-468 826.8858,4 -4,4\"/>\n",
       "<!-- 1 -->\n",
       "<g id=\"node1\" class=\"node\">\n",
       "<title>1</title>\n",
       "<ellipse fill=\"none\" stroke=\"#000000\" cx=\"350.9429\" cy=\"-446\" rx=\"124.2781\" ry=\"18\"/>\n",
       "<text text-anchor=\"middle\" x=\"350.9429\" y=\"-442.3\" font-family=\"Times,serif\" font-size=\"14.00\" fill=\"#000000\">1: enter: check_triangle(a, b, c)</text>\n",
       "</g>\n",
       "<!-- 3 -->\n",
       "<g id=\"node9\" class=\"node\">\n",
       "<title>3</title>\n",
       "<ellipse fill=\"none\" stroke=\"#000000\" cx=\"350.9429\" cy=\"-373\" rx=\"59.5901\" ry=\"18\"/>\n",
       "<text text-anchor=\"middle\" x=\"350.9429\" y=\"-369.3\" font-family=\"Times,serif\" font-size=\"14.00\" fill=\"#000000\">2: if: (a == b)</text>\n",
       "</g>\n",
       "<!-- 1&#45;&gt;3 -->\n",
       "<g id=\"edge7\" class=\"edge\">\n",
       "<title>1&#45;&gt;3</title>\n",
       "<path fill=\"none\" stroke=\"#000000\" d=\"M350.9429,-427.9551C350.9429,-419.8828 350.9429,-410.1764 350.9429,-401.1817\"/>\n",
       "<polygon fill=\"#000000\" stroke=\"#000000\" points=\"354.443,-401.0903 350.9429,-391.0904 347.443,-401.0904 354.443,-401.0903\"/>\n",
       "</g>\n",
       "<!-- 2 -->\n",
       "<g id=\"node2\" class=\"node\">\n",
       "<title>2</title>\n",
       "<ellipse fill=\"none\" stroke=\"#000000\" cx=\"421.9429\" cy=\"-18\" rx=\"119.6788\" ry=\"18\"/>\n",
       "<text text-anchor=\"middle\" x=\"421.9429\" y=\"-14.3\" font-family=\"Times,serif\" font-size=\"14.00\" fill=\"#000000\">1: exit: check_triangle(a, b, c)</text>\n",
       "</g>\n",
       "<!-- 6 -->\n",
       "<g id=\"node3\" class=\"node\">\n",
       "<title>6</title>\n",
       "<ellipse fill=\"none\" stroke=\"#000000\" cx=\"155.9429\" cy=\"-91\" rx=\"87.1846\" ry=\"18\"/>\n",
       "<text text-anchor=\"middle\" x=\"155.9429\" y=\"-87.3\" font-family=\"Times,serif\" font-size=\"14.00\" fill=\"#000000\">5: return &#39;Equilateral&#39;</text>\n",
       "</g>\n",
       "<!-- 6&#45;&gt;2 -->\n",
       "<g id=\"edge1\" class=\"edge\">\n",
       "<title>6&#45;&gt;2</title>\n",
       "<path fill=\"none\" stroke=\"#000000\" d=\"M208.4959,-76.5775C250.3899,-65.0803 309.3419,-48.9018 354.6792,-36.4596\"/>\n",
       "<polygon fill=\"#000000\" stroke=\"#000000\" points=\"355.7099,-39.8062 364.4271,-33.7844 353.8573,-33.0558 355.7099,-39.8062\"/>\n",
       "</g>\n",
       "<!-- 7 -->\n",
       "<g id=\"node4\" class=\"node\">\n",
       "<title>7</title>\n",
       "<ellipse fill=\"none\" stroke=\"#000000\" cx=\"340.9429\" cy=\"-91\" rx=\"79.8859\" ry=\"18\"/>\n",
       "<text text-anchor=\"middle\" x=\"340.9429\" y=\"-87.3\" font-family=\"Times,serif\" font-size=\"14.00\" fill=\"#000000\">7: return &#39;Isosceles&#39;</text>\n",
       "</g>\n",
       "<!-- 7&#45;&gt;2 -->\n",
       "<g id=\"edge2\" class=\"edge\">\n",
       "<title>7&#45;&gt;2</title>\n",
       "<path fill=\"none\" stroke=\"#000000\" d=\"M360.5507,-73.3287C370.822,-64.0719 383.5621,-52.5901 394.7698,-42.4894\"/>\n",
       "<polygon fill=\"#000000\" stroke=\"#000000\" points=\"397.1496,-45.0562 402.2349,-35.7615 392.4633,-39.8564 397.1496,-45.0562\"/>\n",
       "</g>\n",
       "<!-- 8 -->\n",
       "<g id=\"node5\" class=\"node\">\n",
       "<title>8</title>\n",
       "<ellipse fill=\"none\" stroke=\"#000000\" cx=\"79.9429\" cy=\"-145\" rx=\"79.8859\" ry=\"18\"/>\n",
       "<text text-anchor=\"middle\" x=\"79.9429\" y=\"-141.3\" font-family=\"Times,serif\" font-size=\"14.00\" fill=\"#000000\">9: return &#39;Isosceles&#39;</text>\n",
       "</g>\n",
       "<!-- 8&#45;&gt;2 -->\n",
       "<g id=\"edge3\" class=\"edge\">\n",
       "<title>8&#45;&gt;2</title>\n",
       "<path fill=\"none\" stroke=\"#000000\" d=\"M66.7456,-127.0337C56.8027,-111.1287 46.9199,-88.1511 59.9429,-73 76.1424,-54.1533 207.6297,-37.8088 307.5113,-27.9422\"/>\n",
       "<polygon fill=\"#000000\" stroke=\"#000000\" points=\"308.0719,-31.4042 317.6844,-26.9487 307.3915,-24.4373 308.0719,-31.4042\"/>\n",
       "</g>\n",
       "<!-- 11 -->\n",
       "<g id=\"node6\" class=\"node\">\n",
       "<title>11</title>\n",
       "<ellipse fill=\"none\" stroke=\"#000000\" cx=\"560.9429\" cy=\"-91\" rx=\"84.485\" ry=\"18\"/>\n",
       "<text text-anchor=\"middle\" x=\"560.9429\" y=\"-87.3\" font-family=\"Times,serif\" font-size=\"14.00\" fill=\"#000000\">13: return &#39;Isosceles&#39;</text>\n",
       "</g>\n",
       "<!-- 11&#45;&gt;2 -->\n",
       "<g id=\"edge4\" class=\"edge\">\n",
       "<title>11&#45;&gt;2</title>\n",
       "<path fill=\"none\" stroke=\"#000000\" d=\"M529.0535,-74.2523C509.7833,-64.132 484.9928,-51.1126 464.1155,-40.1482\"/>\n",
       "<polygon fill=\"#000000\" stroke=\"#000000\" points=\"465.6154,-36.9827 455.1347,-35.4317 462.3607,-43.18 465.6154,-36.9827\"/>\n",
       "</g>\n",
       "<!-- 12 -->\n",
       "<g id=\"node7\" class=\"node\">\n",
       "<title>12</title>\n",
       "<ellipse fill=\"none\" stroke=\"#000000\" cx=\"742.9429\" cy=\"-91\" rx=\"79.8859\" ry=\"18\"/>\n",
       "<text text-anchor=\"middle\" x=\"742.9429\" y=\"-87.3\" font-family=\"Times,serif\" font-size=\"14.00\" fill=\"#000000\">15: return &#39;Scalene&#39;</text>\n",
       "</g>\n",
       "<!-- 12&#45;&gt;2 -->\n",
       "<g id=\"edge5\" class=\"edge\">\n",
       "<title>12&#45;&gt;2</title>\n",
       "<path fill=\"none\" stroke=\"#000000\" d=\"M686.6616,-78.2008C634.3096,-66.2952 555.8945,-48.4625 497.9881,-35.2938\"/>\n",
       "<polygon fill=\"#000000\" stroke=\"#000000\" points=\"498.6804,-31.8619 488.1532,-33.0572 497.1281,-38.6876 498.6804,-31.8619\"/>\n",
       "</g>\n",
       "<!-- 13 -->\n",
       "<g id=\"node8\" class=\"node\">\n",
       "<title>13</title>\n",
       "<ellipse fill=\"none\" stroke=\"#000000\" cx=\"448.9429\" cy=\"-145\" rx=\"84.485\" ry=\"18\"/>\n",
       "<text text-anchor=\"middle\" x=\"448.9429\" y=\"-141.3\" font-family=\"Times,serif\" font-size=\"14.00\" fill=\"#000000\">17: return &#39;Isosceles&#39;</text>\n",
       "</g>\n",
       "<!-- 13&#45;&gt;2 -->\n",
       "<g id=\"edge6\" class=\"edge\">\n",
       "<title>13&#45;&gt;2</title>\n",
       "<path fill=\"none\" stroke=\"#000000\" d=\"M445.0745,-126.804C440.5834,-105.6791 433.1248,-70.5964 427.8943,-45.9935\"/>\n",
       "<polygon fill=\"#000000\" stroke=\"#000000\" points=\"431.3072,-45.2158 425.8042,-36.1622 424.4603,-46.6715 431.3072,-45.2158\"/>\n",
       "</g>\n",
       "<!-- 4 -->\n",
       "<g id=\"node10\" class=\"node\">\n",
       "<title>4</title>\n",
       "<ellipse fill=\"none\" stroke=\"#000000\" cx=\"204.9429\" cy=\"-286\" rx=\"59.2899\" ry=\"18\"/>\n",
       "<text text-anchor=\"middle\" x=\"204.9429\" y=\"-282.3\" font-family=\"Times,serif\" font-size=\"14.00\" fill=\"#000000\">3: if: (a == c)</text>\n",
       "</g>\n",
       "<!-- 3&#45;&gt;4 -->\n",
       "<g id=\"edge8\" class=\"edge\">\n",
       "<title>3&#45;&gt;4</title>\n",
       "<path fill=\"none\" stroke=\"#0000ff\" d=\"M323.8236,-356.8399C300.3655,-342.8614 266.2776,-322.5488 240.6125,-307.2552\"/>\n",
       "<polygon fill=\"#0000ff\" stroke=\"#0000ff\" points=\"242.2991,-304.186 231.917,-302.0736 238.7158,-310.1993 242.2991,-304.186\"/>\n",
       "<text text-anchor=\"middle\" x=\"291.4429\" y=\"-325.8\" font-family=\"Times,serif\" font-size=\"14.00\" fill=\"#000000\">T</text>\n",
       "</g>\n",
       "<!-- 9 -->\n",
       "<g id=\"node12\" class=\"node\">\n",
       "<title>9</title>\n",
       "<ellipse fill=\"none\" stroke=\"#000000\" cx=\"448.9429\" cy=\"-286\" rx=\"62.2891\" ry=\"18\"/>\n",
       "<text text-anchor=\"middle\" x=\"448.9429\" y=\"-282.3\" font-family=\"Times,serif\" font-size=\"14.00\" fill=\"#000000\">11: if: (b != c)</text>\n",
       "</g>\n",
       "<!-- 3&#45;&gt;9 -->\n",
       "<g id=\"edge13\" class=\"edge\">\n",
       "<title>3&#45;&gt;9</title>\n",
       "<path fill=\"none\" stroke=\"#ff0000\" d=\"M370.3046,-355.8116C385.0693,-342.7042 405.5848,-324.4914 421.9591,-309.955\"/>\n",
       "<polygon fill=\"#ff0000\" stroke=\"#ff0000\" points=\"424.4668,-312.409 429.6215,-303.1527 419.8195,-307.1742 424.4668,-312.409\"/>\n",
       "<text text-anchor=\"middle\" x=\"408.9429\" y=\"-325.8\" font-family=\"Times,serif\" font-size=\"14.00\" fill=\"#000000\">F</text>\n",
       "</g>\n",
       "<!-- 4&#45;&gt;8 -->\n",
       "<g id=\"edge12\" class=\"edge\">\n",
       "<title>4&#45;&gt;8</title>\n",
       "<path fill=\"none\" stroke=\"#ff0000\" d=\"M186.4446,-268.7192C172.177,-255.106 152.1998,-235.4155 135.9429,-217 123.0114,-202.3514 109.5359,-185.0969 99.045,-171.1518\"/>\n",
       "<polygon fill=\"#ff0000\" stroke=\"#ff0000\" points=\"101.7131,-168.8749 92.9302,-162.9495 96.101,-173.0587 101.7131,-168.8749\"/>\n",
       "<text text-anchor=\"middle\" x=\"170.9429\" y=\"-238.8\" font-family=\"Times,serif\" font-size=\"14.00\" fill=\"#000000\">F</text>\n",
       "</g>\n",
       "<!-- 5 -->\n",
       "<g id=\"node11\" class=\"node\">\n",
       "<title>5</title>\n",
       "<ellipse fill=\"none\" stroke=\"#000000\" cx=\"204.9429\" cy=\"-199\" rx=\"59.5901\" ry=\"18\"/>\n",
       "<text text-anchor=\"middle\" x=\"204.9429\" y=\"-195.3\" font-family=\"Times,serif\" font-size=\"14.00\" fill=\"#000000\">4: if: (b == c)</text>\n",
       "</g>\n",
       "<!-- 4&#45;&gt;5 -->\n",
       "<g id=\"edge9\" class=\"edge\">\n",
       "<title>4&#45;&gt;5</title>\n",
       "<path fill=\"none\" stroke=\"#0000ff\" d=\"M204.9429,-267.9735C204.9429,-256.1918 204.9429,-240.5607 204.9429,-227.1581\"/>\n",
       "<polygon fill=\"#0000ff\" stroke=\"#0000ff\" points=\"208.443,-227.0033 204.9429,-217.0034 201.443,-227.0034 208.443,-227.0033\"/>\n",
       "<text text-anchor=\"middle\" x=\"209.4429\" y=\"-238.8\" font-family=\"Times,serif\" font-size=\"14.00\" fill=\"#000000\">T</text>\n",
       "</g>\n",
       "<!-- 5&#45;&gt;6 -->\n",
       "<g id=\"edge10\" class=\"edge\">\n",
       "<title>5&#45;&gt;6</title>\n",
       "<path fill=\"none\" stroke=\"#0000ff\" d=\"M196.6307,-180.6793C188.8758,-163.5868 177.2043,-137.8619 168.3478,-118.3413\"/>\n",
       "<polygon fill=\"#0000ff\" stroke=\"#0000ff\" points=\"171.4514,-116.7106 164.1323,-109.0502 165.0768,-119.6028 171.4514,-116.7106\"/>\n",
       "<text text-anchor=\"middle\" x=\"192.4429\" y=\"-141.3\" font-family=\"Times,serif\" font-size=\"14.00\" fill=\"#000000\">T</text>\n",
       "</g>\n",
       "<!-- 5&#45;&gt;7 -->\n",
       "<g id=\"edge11\" class=\"edge\">\n",
       "<title>5&#45;&gt;7</title>\n",
       "<path fill=\"none\" stroke=\"#ff0000\" d=\"M226.1929,-182.125C248.978,-164.031 285.3358,-135.1586 311.011,-114.7694\"/>\n",
       "<polygon fill=\"#ff0000\" stroke=\"#ff0000\" points=\"313.2865,-117.4319 318.941,-108.4721 308.9333,-111.9501 313.2865,-117.4319\"/>\n",
       "<text text-anchor=\"middle\" x=\"297.9429\" y=\"-141.3\" font-family=\"Times,serif\" font-size=\"14.00\" fill=\"#000000\">F</text>\n",
       "</g>\n",
       "<!-- 9&#45;&gt;13 -->\n",
       "<g id=\"edge17\" class=\"edge\">\n",
       "<title>9&#45;&gt;13</title>\n",
       "<path fill=\"none\" stroke=\"#ff0000\" d=\"M448.9429,-267.8554C448.9429,-243.8485 448.9429,-201.2861 448.9429,-173.1035\"/>\n",
       "<polygon fill=\"#ff0000\" stroke=\"#ff0000\" points=\"452.443,-173.075 448.9429,-163.075 445.443,-173.075 452.443,-173.075\"/>\n",
       "<text text-anchor=\"middle\" x=\"452.9429\" y=\"-238.8\" font-family=\"Times,serif\" font-size=\"14.00\" fill=\"#000000\">F</text>\n",
       "</g>\n",
       "<!-- 10 -->\n",
       "<g id=\"node13\" class=\"node\">\n",
       "<title>10</title>\n",
       "<ellipse fill=\"none\" stroke=\"#000000\" cx=\"560.9429\" cy=\"-199\" rx=\"63.8893\" ry=\"18\"/>\n",
       "<text text-anchor=\"middle\" x=\"560.9429\" y=\"-195.3\" font-family=\"Times,serif\" font-size=\"14.00\" fill=\"#000000\">12: if: (a == c)</text>\n",
       "</g>\n",
       "<!-- 9&#45;&gt;10 -->\n",
       "<g id=\"edge14\" class=\"edge\">\n",
       "<title>9&#45;&gt;10</title>\n",
       "<path fill=\"none\" stroke=\"#0000ff\" d=\"M470.8035,-269.019C487.9943,-255.6655 512.1258,-236.9205 531.0947,-222.1857\"/>\n",
       "<polygon fill=\"#0000ff\" stroke=\"#0000ff\" points=\"533.3872,-224.8368 539.1374,-215.9382 529.093,-219.3087 533.3872,-224.8368\"/>\n",
       "<text text-anchor=\"middle\" x=\"515.4429\" y=\"-238.8\" font-family=\"Times,serif\" font-size=\"14.00\" fill=\"#000000\">T</text>\n",
       "</g>\n",
       "<!-- 10&#45;&gt;11 -->\n",
       "<g id=\"edge15\" class=\"edge\">\n",
       "<title>10&#45;&gt;11</title>\n",
       "<path fill=\"none\" stroke=\"#0000ff\" d=\"M560.9429,-180.6793C560.9429,-163.821 560.9429,-138.5651 560.9429,-119.147\"/>\n",
       "<polygon fill=\"#0000ff\" stroke=\"#0000ff\" points=\"564.443,-119.0501 560.9429,-109.0502 557.443,-119.0502 564.443,-119.0501\"/>\n",
       "<text text-anchor=\"middle\" x=\"565.4429\" y=\"-141.3\" font-family=\"Times,serif\" font-size=\"14.00\" fill=\"#000000\">T</text>\n",
       "</g>\n",
       "<!-- 10&#45;&gt;12 -->\n",
       "<g id=\"edge16\" class=\"edge\">\n",
       "<title>10&#45;&gt;12</title>\n",
       "<path fill=\"none\" stroke=\"#ff0000\" d=\"M588.5848,-182.5971C619.8039,-164.0715 670.7735,-133.8258 705.5348,-113.1982\"/>\n",
       "<polygon fill=\"#ff0000\" stroke=\"#ff0000\" points=\"707.6261,-116.0272 714.4398,-107.9139 704.0538,-110.0073 707.6261,-116.0272\"/>\n",
       "<text text-anchor=\"middle\" x=\"681.9429\" y=\"-141.3\" font-family=\"Times,serif\" font-size=\"14.00\" fill=\"#000000\">F</text>\n",
       "</g>\n",
       "</g>\n",
       "</svg>\n"
      ],
      "text/plain": [
       "<graphviz.files.Source at 0x1071939b0>"
      ]
     },
     "execution_count": 21,
     "metadata": {},
     "output_type": "execute_result"
    }
   ],
   "source": [
    "Source(graph)"
   ]
  },
  {
   "cell_type": "markdown",
   "metadata": {
    "slideshow": {
     "slide_type": "subslide"
    }
   },
   "source": [
    "#### cgi_decode\n",
    "\n",
    "Note that we do not yet support _augmented assignments_: i.e assignments such as `+=`"
   ]
  },
  {
   "cell_type": "code",
   "execution_count": 22,
   "metadata": {
    "slideshow": {
     "slide_type": "subslide"
    }
   },
   "outputs": [],
   "source": [
    "def cgi_decode(s):\n",
    "    hex_values = {\n",
    "        '0': 0, '1': 1, '2': 2, '3': 3, '4': 4,\n",
    "        '5': 5, '6': 6, '7': 7, '8': 8, '9': 9,\n",
    "        'a': 10, 'b': 11, 'c': 12, 'd': 13, 'e': 14, 'f': 15,\n",
    "        'A': 10, 'B': 11, 'C': 12, 'D': 13, 'E': 14, 'F': 15,\n",
    "    }\n",
    "\n",
    "    t = \"\"\n",
    "    i = 0\n",
    "    while i < len(s):\n",
    "        c = s[i]\n",
    "        if c == '+':\n",
    "            t = t + ' '\n",
    "        elif c == '%':\n",
    "            digit_high, digit_low = s[i + 1], s[i + 2]\n",
    "            i = i + 2\n",
    "            if digit_high in hex_values and digit_low in hex_values:\n",
    "                v = hex_values[digit_high] * 16 + hex_values[digit_low]\n",
    "                t = t + chr(v)\n",
    "            else:\n",
    "                raise ValueError(\"Invalid encoding\")\n",
    "        else:\n",
    "            t = t + c\n",
    "        i = i + 1\n",
    "    return t"
   ]
  },
  {
   "cell_type": "code",
   "execution_count": 23,
   "metadata": {
    "slideshow": {
     "slide_type": "subslide"
    }
   },
   "outputs": [],
   "source": [
    "graph = to_graph(gen_cfg(inspect.getsource(cgi_decode)))"
   ]
  },
  {
   "cell_type": "code",
   "execution_count": 24,
   "metadata": {
    "scrolled": false,
    "slideshow": {
     "slide_type": "fragment"
    }
   },
   "outputs": [
    {
     "data": {
      "image/svg+xml": [
       "<?xml version=\"1.0\" encoding=\"UTF-8\" standalone=\"no\"?>\n",
       "<!DOCTYPE svg PUBLIC \"-//W3C//DTD SVG 1.1//EN\"\n",
       " \"http://www.w3.org/Graphics/SVG/1.1/DTD/svg11.dtd\">\n",
       "<!-- Generated by graphviz version 2.40.1 (20161225.0304)\n",
       " -->\n",
       "<!-- Title: %3 Pages: 1 -->\n",
       "<svg width=\"630pt\" height=\"1603pt\"\n",
       " viewBox=\"0.00 0.00 630.00 1603.43\" xmlns=\"http://www.w3.org/2000/svg\" xmlns:xlink=\"http://www.w3.org/1999/xlink\">\n",
       "<g id=\"graph0\" class=\"graph\" transform=\"scale(1 1) rotate(0) translate(4 1599.4306)\">\n",
       "<title>%3</title>\n",
       "<polygon fill=\"#ffffff\" stroke=\"transparent\" points=\"-4,4 -4,-1599.4306 626,-1599.4306 626,4 -4,4\"/>\n",
       "<!-- 1 -->\n",
       "<g id=\"node1\" class=\"node\">\n",
       "<title>1</title>\n",
       "<ellipse fill=\"none\" stroke=\"#000000\" cx=\"478\" cy=\"-1577.4306\" rx=\"94.4839\" ry=\"18\"/>\n",
       "<text text-anchor=\"middle\" x=\"478\" y=\"-1573.7306\" font-family=\"Times,serif\" font-size=\"14.00\" fill=\"#000000\">1: enter: cgi_decode(s)</text>\n",
       "</g>\n",
       "<!-- 3 -->\n",
       "<g id=\"node4\" class=\"node\">\n",
       "<title>3</title>\n",
       "<ellipse fill=\"none\" stroke=\"#000000\" cx=\"478\" cy=\"-1262.2153\" rx=\"81.135\" ry=\"260.4308\"/>\n",
       "<text text-anchor=\"middle\" x=\"478\" y=\"-1431.0153\" font-family=\"Times,serif\" font-size=\"14.00\" fill=\"#000000\">2: hex_values = {</text>\n",
       "<text text-anchor=\"middle\" x=\"478\" y=\"-1416.0153\" font-family=\"Times,serif\" font-size=\"14.00\" fill=\"#000000\"> &#160;&#160;&#160;&#39;0&#39;: 0,</text>\n",
       "<text text-anchor=\"middle\" x=\"478\" y=\"-1401.0153\" font-family=\"Times,serif\" font-size=\"14.00\" fill=\"#000000\"> &#160;&#160;&#160;&#39;1&#39;: 1,</text>\n",
       "<text text-anchor=\"middle\" x=\"478\" y=\"-1386.0153\" font-family=\"Times,serif\" font-size=\"14.00\" fill=\"#000000\"> &#160;&#160;&#160;&#39;2&#39;: 2,</text>\n",
       "<text text-anchor=\"middle\" x=\"478\" y=\"-1371.0153\" font-family=\"Times,serif\" font-size=\"14.00\" fill=\"#000000\"> &#160;&#160;&#160;&#39;3&#39;: 3,</text>\n",
       "<text text-anchor=\"middle\" x=\"478\" y=\"-1356.0153\" font-family=\"Times,serif\" font-size=\"14.00\" fill=\"#000000\"> &#160;&#160;&#160;&#39;4&#39;: 4,</text>\n",
       "<text text-anchor=\"middle\" x=\"478\" y=\"-1341.0153\" font-family=\"Times,serif\" font-size=\"14.00\" fill=\"#000000\"> &#160;&#160;&#160;&#39;5&#39;: 5,</text>\n",
       "<text text-anchor=\"middle\" x=\"478\" y=\"-1326.0153\" font-family=\"Times,serif\" font-size=\"14.00\" fill=\"#000000\"> &#160;&#160;&#160;&#39;6&#39;: 6,</text>\n",
       "<text text-anchor=\"middle\" x=\"478\" y=\"-1311.0153\" font-family=\"Times,serif\" font-size=\"14.00\" fill=\"#000000\"> &#160;&#160;&#160;&#39;7&#39;: 7,</text>\n",
       "<text text-anchor=\"middle\" x=\"478\" y=\"-1296.0153\" font-family=\"Times,serif\" font-size=\"14.00\" fill=\"#000000\"> &#160;&#160;&#160;&#39;8&#39;: 8,</text>\n",
       "<text text-anchor=\"middle\" x=\"478\" y=\"-1281.0153\" font-family=\"Times,serif\" font-size=\"14.00\" fill=\"#000000\"> &#160;&#160;&#160;&#39;9&#39;: 9,</text>\n",
       "<text text-anchor=\"middle\" x=\"478\" y=\"-1266.0153\" font-family=\"Times,serif\" font-size=\"14.00\" fill=\"#000000\"> &#160;&#160;&#160;&#39;a&#39;: 10,</text>\n",
       "<text text-anchor=\"middle\" x=\"478\" y=\"-1251.0153\" font-family=\"Times,serif\" font-size=\"14.00\" fill=\"#000000\"> &#160;&#160;&#160;&#39;b&#39;: 11,</text>\n",
       "<text text-anchor=\"middle\" x=\"478\" y=\"-1236.0153\" font-family=\"Times,serif\" font-size=\"14.00\" fill=\"#000000\"> &#160;&#160;&#160;&#39;c&#39;: 12,</text>\n",
       "<text text-anchor=\"middle\" x=\"478\" y=\"-1221.0153\" font-family=\"Times,serif\" font-size=\"14.00\" fill=\"#000000\"> &#160;&#160;&#160;&#39;d&#39;: 13,</text>\n",
       "<text text-anchor=\"middle\" x=\"478\" y=\"-1206.0153\" font-family=\"Times,serif\" font-size=\"14.00\" fill=\"#000000\"> &#160;&#160;&#160;&#39;e&#39;: 14,</text>\n",
       "<text text-anchor=\"middle\" x=\"478\" y=\"-1191.0153\" font-family=\"Times,serif\" font-size=\"14.00\" fill=\"#000000\"> &#160;&#160;&#160;&#39;f&#39;: 15,</text>\n",
       "<text text-anchor=\"middle\" x=\"478\" y=\"-1176.0153\" font-family=\"Times,serif\" font-size=\"14.00\" fill=\"#000000\"> &#160;&#160;&#160;&#39;A&#39;: 10,</text>\n",
       "<text text-anchor=\"middle\" x=\"478\" y=\"-1161.0153\" font-family=\"Times,serif\" font-size=\"14.00\" fill=\"#000000\"> &#160;&#160;&#160;&#39;B&#39;: 11,</text>\n",
       "<text text-anchor=\"middle\" x=\"478\" y=\"-1146.0153\" font-family=\"Times,serif\" font-size=\"14.00\" fill=\"#000000\"> &#160;&#160;&#160;&#39;C&#39;: 12,</text>\n",
       "<text text-anchor=\"middle\" x=\"478\" y=\"-1131.0153\" font-family=\"Times,serif\" font-size=\"14.00\" fill=\"#000000\"> &#160;&#160;&#160;&#39;D&#39;: 13,</text>\n",
       "<text text-anchor=\"middle\" x=\"478\" y=\"-1116.0153\" font-family=\"Times,serif\" font-size=\"14.00\" fill=\"#000000\"> &#160;&#160;&#160;&#39;E&#39;: 14,</text>\n",
       "<text text-anchor=\"middle\" x=\"478\" y=\"-1101.0153\" font-family=\"Times,serif\" font-size=\"14.00\" fill=\"#000000\"> &#160;&#160;&#160;&#39;F&#39;: 15,</text>\n",
       "<text text-anchor=\"middle\" x=\"478\" y=\"-1086.0153\" font-family=\"Times,serif\" font-size=\"14.00\" fill=\"#000000\">}</text>\n",
       "</g>\n",
       "<!-- 1&#45;&gt;3 -->\n",
       "<g id=\"edge2\" class=\"edge\">\n",
       "<title>1&#45;&gt;3</title>\n",
       "<path fill=\"none\" stroke=\"#000000\" d=\"M478,-1559.1208C478,-1552.0013 478,-1543.0635 478,-1532.772\"/>\n",
       "<polygon fill=\"#000000\" stroke=\"#000000\" points=\"481.5001,-1532.5052 478,-1522.5053 474.5001,-1532.5053 481.5001,-1532.5052\"/>\n",
       "</g>\n",
       "<!-- 2 -->\n",
       "<g id=\"node2\" class=\"node\">\n",
       "<title>2</title>\n",
       "<ellipse fill=\"none\" stroke=\"#000000\" cx=\"302\" cy=\"-641\" rx=\"89.8845\" ry=\"18\"/>\n",
       "<text text-anchor=\"middle\" x=\"302\" y=\"-637.3\" font-family=\"Times,serif\" font-size=\"14.00\" fill=\"#000000\">1: exit: cgi_decode(s)</text>\n",
       "</g>\n",
       "<!-- 18 -->\n",
       "<g id=\"node3\" class=\"node\">\n",
       "<title>18</title>\n",
       "<ellipse fill=\"none\" stroke=\"#000000\" cx=\"330\" cy=\"-714\" rx=\"51.1914\" ry=\"18\"/>\n",
       "<text text-anchor=\"middle\" x=\"330\" y=\"-710.3\" font-family=\"Times,serif\" font-size=\"14.00\" fill=\"#000000\">26: return t</text>\n",
       "</g>\n",
       "<!-- 18&#45;&gt;2 -->\n",
       "<g id=\"edge1\" class=\"edge\">\n",
       "<title>18&#45;&gt;2</title>\n",
       "<path fill=\"none\" stroke=\"#000000\" d=\"M323.0786,-695.9551C319.9151,-687.7074 316.0973,-677.7536 312.5848,-668.5962\"/>\n",
       "<polygon fill=\"#000000\" stroke=\"#000000\" points=\"315.7879,-667.1737 308.9388,-659.0904 309.2522,-669.6806 315.7879,-667.1737\"/>\n",
       "</g>\n",
       "<!-- 4 -->\n",
       "<g id=\"node5\" class=\"node\">\n",
       "<title>4</title>\n",
       "<ellipse fill=\"none\" stroke=\"#000000\" cx=\"478\" cy=\"-947\" rx=\"35.9954\" ry=\"18\"/>\n",
       "<text text-anchor=\"middle\" x=\"478\" y=\"-943.3\" font-family=\"Times,serif\" font-size=\"14.00\" fill=\"#000000\">9: t = &#39;&#39;</text>\n",
       "</g>\n",
       "<!-- 3&#45;&gt;4 -->\n",
       "<g id=\"edge3\" class=\"edge\">\n",
       "<title>3&#45;&gt;4</title>\n",
       "<path fill=\"none\" stroke=\"#000000\" d=\"M478,-1001.9063C478,-991.8458 478,-982.7742 478,-975.0365\"/>\n",
       "<polygon fill=\"#000000\" stroke=\"#000000\" points=\"481.5001,-975.0221 478,-965.0221 474.5001,-975.0222 481.5001,-975.0221\"/>\n",
       "</g>\n",
       "<!-- 5 -->\n",
       "<g id=\"node6\" class=\"node\">\n",
       "<title>5</title>\n",
       "<ellipse fill=\"none\" stroke=\"#000000\" cx=\"478\" cy=\"-874\" rx=\"41.6928\" ry=\"18\"/>\n",
       "<text text-anchor=\"middle\" x=\"478\" y=\"-870.3\" font-family=\"Times,serif\" font-size=\"14.00\" fill=\"#000000\">10: i = 0</text>\n",
       "</g>\n",
       "<!-- 4&#45;&gt;5 -->\n",
       "<g id=\"edge4\" class=\"edge\">\n",
       "<title>4&#45;&gt;5</title>\n",
       "<path fill=\"none\" stroke=\"#000000\" d=\"M478,-928.9551C478,-920.8828 478,-911.1764 478,-902.1817\"/>\n",
       "<polygon fill=\"#000000\" stroke=\"#000000\" points=\"481.5001,-902.0903 478,-892.0904 474.5001,-902.0904 481.5001,-902.0903\"/>\n",
       "</g>\n",
       "<!-- 6 -->\n",
       "<g id=\"node7\" class=\"node\">\n",
       "<title>6</title>\n",
       "<ellipse fill=\"none\" stroke=\"#000000\" cx=\"478\" cy=\"-801\" rx=\"88.2844\" ry=\"18\"/>\n",
       "<text text-anchor=\"middle\" x=\"478\" y=\"-797.3\" font-family=\"Times,serif\" font-size=\"14.00\" fill=\"#000000\">11: while: (i &lt; len(s))</text>\n",
       "</g>\n",
       "<!-- 5&#45;&gt;6 -->\n",
       "<g id=\"edge5\" class=\"edge\">\n",
       "<title>5&#45;&gt;6</title>\n",
       "<path fill=\"none\" stroke=\"#000000\" d=\"M478,-855.9551C478,-847.8828 478,-838.1764 478,-829.1817\"/>\n",
       "<polygon fill=\"#000000\" stroke=\"#000000\" points=\"481.5001,-829.0903 478,-819.0904 474.5001,-829.0904 481.5001,-829.0903\"/>\n",
       "</g>\n",
       "<!-- 6&#45;&gt;18 -->\n",
       "<g id=\"edge21\" class=\"edge\">\n",
       "<title>6&#45;&gt;18</title>\n",
       "<path fill=\"none\" stroke=\"#ff0000\" d=\"M448.76,-783.8116C424.7965,-769.725 390.8021,-749.7418 365.3199,-734.7624\"/>\n",
       "<polygon fill=\"#ff0000\" stroke=\"#ff0000\" points=\"367.0864,-731.7409 356.6919,-729.6905 363.539,-737.7755 367.0864,-731.7409\"/>\n",
       "<text text-anchor=\"middle\" x=\"417\" y=\"-753.8\" font-family=\"Times,serif\" font-size=\"14.00\" fill=\"#000000\">F</text>\n",
       "</g>\n",
       "<!-- 7 -->\n",
       "<g id=\"node9\" class=\"node\">\n",
       "<title>7</title>\n",
       "<ellipse fill=\"none\" stroke=\"#000000\" cx=\"478\" cy=\"-714\" rx=\"50.8918\" ry=\"18\"/>\n",
       "<text text-anchor=\"middle\" x=\"478\" y=\"-710.3\" font-family=\"Times,serif\" font-size=\"14.00\" fill=\"#000000\">12: c = s[i]</text>\n",
       "</g>\n",
       "<!-- 6&#45;&gt;7 -->\n",
       "<g id=\"edge7\" class=\"edge\">\n",
       "<title>6&#45;&gt;7</title>\n",
       "<path fill=\"none\" stroke=\"#0000ff\" d=\"M478,-782.9735C478,-771.1918 478,-755.5607 478,-742.1581\"/>\n",
       "<polygon fill=\"#0000ff\" stroke=\"#0000ff\" points=\"481.5001,-742.0033 478,-732.0034 474.5001,-742.0034 481.5001,-742.0033\"/>\n",
       "<text text-anchor=\"middle\" x=\"482.5\" y=\"-753.8\" font-family=\"Times,serif\" font-size=\"14.00\" fill=\"#000000\">T</text>\n",
       "</g>\n",
       "<!-- 17 -->\n",
       "<g id=\"node8\" class=\"node\">\n",
       "<title>17</title>\n",
       "<ellipse fill=\"none\" stroke=\"#000000\" cx=\"311\" cy=\"-18\" rx=\"59.5901\" ry=\"18\"/>\n",
       "<text text-anchor=\"middle\" x=\"311\" y=\"-14.3\" font-family=\"Times,serif\" font-size=\"14.00\" fill=\"#000000\">25: i = (i + 1)</text>\n",
       "</g>\n",
       "<!-- 17&#45;&gt;6 -->\n",
       "<g id=\"edge6\" class=\"edge\">\n",
       "<title>17&#45;&gt;6</title>\n",
       "<path fill=\"none\" stroke=\"#000000\" d=\"M370.5959,-19.9482C460.9,-24.5455 622,-39.907 622,-91 622,-714 622,-714 622,-714 622,-751.1353 586.4829,-772.8434 550.7267,-785.2885\"/>\n",
       "<polygon fill=\"#000000\" stroke=\"#000000\" points=\"549.5831,-781.98 541.1605,-788.4073 551.7529,-788.6352 549.5831,-781.98\"/>\n",
       "</g>\n",
       "<!-- 8 -->\n",
       "<g id=\"node10\" class=\"node\">\n",
       "<title>8</title>\n",
       "<ellipse fill=\"none\" stroke=\"#000000\" cx=\"478\" cy=\"-641\" rx=\"68.4888\" ry=\"18\"/>\n",
       "<text text-anchor=\"middle\" x=\"478\" y=\"-637.3\" font-family=\"Times,serif\" font-size=\"14.00\" fill=\"#000000\">13: if: (c == &#39;+&#39;)</text>\n",
       "</g>\n",
       "<!-- 7&#45;&gt;8 -->\n",
       "<g id=\"edge8\" class=\"edge\">\n",
       "<title>7&#45;&gt;8</title>\n",
       "<path fill=\"none\" stroke=\"#000000\" d=\"M478,-695.9551C478,-687.8828 478,-678.1764 478,-669.1817\"/>\n",
       "<polygon fill=\"#000000\" stroke=\"#000000\" points=\"481.5001,-669.0903 478,-659.0904 474.5001,-669.0904 481.5001,-669.0903\"/>\n",
       "</g>\n",
       "<!-- 9 -->\n",
       "<g id=\"node11\" class=\"node\">\n",
       "<title>9</title>\n",
       "<ellipse fill=\"none\" stroke=\"#000000\" cx=\"190\" cy=\"-500\" rx=\"60.3893\" ry=\"18\"/>\n",
       "<text text-anchor=\"middle\" x=\"190\" y=\"-496.3\" font-family=\"Times,serif\" font-size=\"14.00\" fill=\"#000000\">14: t = (t + &#39; &#39;)</text>\n",
       "</g>\n",
       "<!-- 8&#45;&gt;9 -->\n",
       "<g id=\"edge9\" class=\"edge\">\n",
       "<title>8&#45;&gt;9</title>\n",
       "<path fill=\"none\" stroke=\"#0000ff\" d=\"M445.5226,-625.0996C392.7088,-599.2428 288.3257,-548.1386 230.6614,-519.9071\"/>\n",
       "<polygon fill=\"#0000ff\" stroke=\"#0000ff\" points=\"232.0026,-516.6669 221.4822,-515.4132 228.9246,-522.9538 232.0026,-516.6669\"/>\n",
       "<text text-anchor=\"middle\" x=\"404.5\" y=\"-593.8\" font-family=\"Times,serif\" font-size=\"14.00\" fill=\"#000000\">T</text>\n",
       "</g>\n",
       "<!-- 10 -->\n",
       "<g id=\"node12\" class=\"node\">\n",
       "<title>10</title>\n",
       "<ellipse fill=\"none\" stroke=\"#000000\" cx=\"478\" cy=\"-554\" rx=\"70.6878\" ry=\"18\"/>\n",
       "<text text-anchor=\"middle\" x=\"478\" y=\"-550.3\" font-family=\"Times,serif\" font-size=\"14.00\" fill=\"#000000\">15: if: (c == &#39;%&#39;)</text>\n",
       "</g>\n",
       "<!-- 8&#45;&gt;10 -->\n",
       "<g id=\"edge10\" class=\"edge\">\n",
       "<title>8&#45;&gt;10</title>\n",
       "<path fill=\"none\" stroke=\"#ff0000\" d=\"M478,-622.9735C478,-611.1918 478,-595.5607 478,-582.1581\"/>\n",
       "<polygon fill=\"#ff0000\" stroke=\"#ff0000\" points=\"481.5001,-582.0033 478,-572.0034 474.5001,-582.0034 481.5001,-582.0033\"/>\n",
       "<text text-anchor=\"middle\" x=\"482\" y=\"-593.8\" font-family=\"Times,serif\" font-size=\"14.00\" fill=\"#000000\">F</text>\n",
       "</g>\n",
       "<!-- 9&#45;&gt;17 -->\n",
       "<g id=\"edge17\" class=\"edge\">\n",
       "<title>9&#45;&gt;17</title>\n",
       "<path fill=\"none\" stroke=\"#000000\" d=\"M135.0441,-492.494C78.9299,-481.3739 0,-454.6054 0,-392 0,-392 0,-392 0,-91 0,-41.7531 149.6683,-25.7023 241.3489,-20.4899\"/>\n",
       "<polygon fill=\"#000000\" stroke=\"#000000\" points=\"241.6068,-23.9812 251.4041,-19.9482 241.2302,-16.9913 241.6068,-23.9812\"/>\n",
       "</g>\n",
       "<!-- 11 -->\n",
       "<g id=\"node13\" class=\"node\">\n",
       "<title>11</title>\n",
       "<ellipse fill=\"none\" stroke=\"#000000\" cx=\"313\" cy=\"-446\" rx=\"192.2659\" ry=\"18\"/>\n",
       "<text text-anchor=\"middle\" x=\"313\" y=\"-442.3\" font-family=\"Times,serif\" font-size=\"14.00\" fill=\"#000000\">16: (digit_high, digit_low) = (s[(i + 1)], s[(i + 2)])</text>\n",
       "</g>\n",
       "<!-- 10&#45;&gt;11 -->\n",
       "<g id=\"edge11\" class=\"edge\">\n",
       "<title>10&#45;&gt;11</title>\n",
       "<path fill=\"none\" stroke=\"#0000ff\" d=\"M452.2188,-537.125C424.3818,-518.9044 379.8468,-489.7542 348.6628,-469.343\"/>\n",
       "<polygon fill=\"#0000ff\" stroke=\"#0000ff\" points=\"350.5302,-466.3822 340.2464,-463.834 346.6966,-472.2391 350.5302,-466.3822\"/>\n",
       "<text text-anchor=\"middle\" x=\"424.5\" y=\"-496.3\" font-family=\"Times,serif\" font-size=\"14.00\" fill=\"#000000\">T</text>\n",
       "</g>\n",
       "<!-- 16 -->\n",
       "<g id=\"node18\" class=\"node\">\n",
       "<title>16</title>\n",
       "<ellipse fill=\"none\" stroke=\"#000000\" cx=\"543\" cy=\"-392\" rx=\"59.2899\" ry=\"18\"/>\n",
       "<text text-anchor=\"middle\" x=\"543\" y=\"-388.3\" font-family=\"Times,serif\" font-size=\"14.00\" fill=\"#000000\">24: t = (t + c)</text>\n",
       "</g>\n",
       "<!-- 10&#45;&gt;16 -->\n",
       "<g id=\"edge16\" class=\"edge\">\n",
       "<title>10&#45;&gt;16</title>\n",
       "<path fill=\"none\" stroke=\"#ff0000\" d=\"M485.2045,-536.0442C496.5275,-507.8238 518.571,-452.8846 531.9208,-419.6128\"/>\n",
       "<polygon fill=\"#ff0000\" stroke=\"#ff0000\" points=\"535.2877,-420.6204 535.7632,-410.0362 528.7911,-418.0137 535.2877,-420.6204\"/>\n",
       "<text text-anchor=\"middle\" x=\"510\" y=\"-496.3\" font-family=\"Times,serif\" font-size=\"14.00\" fill=\"#000000\">F</text>\n",
       "</g>\n",
       "<!-- 12 -->\n",
       "<g id=\"node14\" class=\"node\">\n",
       "<title>12</title>\n",
       "<ellipse fill=\"none\" stroke=\"#000000\" cx=\"310\" cy=\"-338\" rx=\"59.5901\" ry=\"18\"/>\n",
       "<text text-anchor=\"middle\" x=\"310\" y=\"-334.3\" font-family=\"Times,serif\" font-size=\"14.00\" fill=\"#000000\">17: i = (i + 2)</text>\n",
       "</g>\n",
       "<!-- 11&#45;&gt;12 -->\n",
       "<g id=\"edge12\" class=\"edge\">\n",
       "<title>11&#45;&gt;12</title>\n",
       "<path fill=\"none\" stroke=\"#000000\" d=\"M312.4911,-427.6793C312.0228,-410.821 311.3213,-385.5651 310.7819,-366.147\"/>\n",
       "<polygon fill=\"#000000\" stroke=\"#000000\" points=\"314.2778,-365.9491 310.5014,-356.0502 307.2805,-366.1435 314.2778,-365.9491\"/>\n",
       "</g>\n",
       "<!-- 13 -->\n",
       "<g id=\"node15\" class=\"node\">\n",
       "<title>13</title>\n",
       "<ellipse fill=\"none\" stroke=\"#000000\" cx=\"308\" cy=\"-265\" rx=\"248.0561\" ry=\"18\"/>\n",
       "<text text-anchor=\"middle\" x=\"308\" y=\"-261.3\" font-family=\"Times,serif\" font-size=\"14.00\" fill=\"#000000\">18: if: ((digit_high in hex_values) and (digit_low in hex_values))</text>\n",
       "</g>\n",
       "<!-- 12&#45;&gt;13 -->\n",
       "<g id=\"edge13\" class=\"edge\">\n",
       "<title>12&#45;&gt;13</title>\n",
       "<path fill=\"none\" stroke=\"#000000\" d=\"M309.5056,-319.9551C309.2845,-311.8828 309.0185,-302.1764 308.7721,-293.1817\"/>\n",
       "<polygon fill=\"#000000\" stroke=\"#000000\" points=\"312.2683,-292.9907 308.4956,-283.0904 305.2709,-293.1825 312.2683,-292.9907\"/>\n",
       "</g>\n",
       "<!-- 13&#45;&gt;17 -->\n",
       "<g id=\"edge19\" class=\"edge\">\n",
       "<title>13&#45;&gt;17</title>\n",
       "<path fill=\"none\" stroke=\"#ff0000\" d=\"M227.2461,-247.9075C157.9712,-232.4291 67.65,-209.9728 57,-196 -4.4925,-115.322 162.064,-56.992 254.3349,-31.808\"/>\n",
       "<polygon fill=\"#ff0000\" stroke=\"#ff0000\" points=\"255.3578,-35.1574 264.1106,-29.1876 253.5454,-28.3961 255.3578,-35.1574\"/>\n",
       "<text text-anchor=\"middle\" x=\"62\" y=\"-130.8\" font-family=\"Times,serif\" font-size=\"14.00\" fill=\"#000000\">F</text>\n",
       "</g>\n",
       "<!-- 14 -->\n",
       "<g id=\"node16\" class=\"node\">\n",
       "<title>14</title>\n",
       "<ellipse fill=\"none\" stroke=\"#000000\" cx=\"311\" cy=\"-178\" rx=\"245.0565\" ry=\"18\"/>\n",
       "<text text-anchor=\"middle\" x=\"311\" y=\"-174.3\" font-family=\"Times,serif\" font-size=\"14.00\" fill=\"#000000\">19: v = ((hex_values[digit_high] * 16) + hex_values[digit_low])</text>\n",
       "</g>\n",
       "<!-- 13&#45;&gt;14 -->\n",
       "<g id=\"edge14\" class=\"edge\">\n",
       "<title>13&#45;&gt;14</title>\n",
       "<path fill=\"none\" stroke=\"#0000ff\" d=\"M308.6216,-246.9735C309.0279,-235.1918 309.5669,-219.5607 310.029,-206.1581\"/>\n",
       "<polygon fill=\"#0000ff\" stroke=\"#0000ff\" points=\"313.5324,-206.1181 310.3792,-196.0034 306.5366,-205.8768 313.5324,-206.1181\"/>\n",
       "<text text-anchor=\"middle\" x=\"314.5\" y=\"-217.8\" font-family=\"Times,serif\" font-size=\"14.00\" fill=\"#000000\">T</text>\n",
       "</g>\n",
       "<!-- 15 -->\n",
       "<g id=\"node17\" class=\"node\">\n",
       "<title>15</title>\n",
       "<ellipse fill=\"none\" stroke=\"#000000\" cx=\"311\" cy=\"-91\" rx=\"77.1866\" ry=\"18\"/>\n",
       "<text text-anchor=\"middle\" x=\"311\" y=\"-87.3\" font-family=\"Times,serif\" font-size=\"14.00\" fill=\"#000000\">20: t = (t + chr(v))</text>\n",
       "</g>\n",
       "<!-- 14&#45;&gt;15 -->\n",
       "<g id=\"edge15\" class=\"edge\">\n",
       "<title>14&#45;&gt;15</title>\n",
       "<path fill=\"none\" stroke=\"#000000\" d=\"M311,-159.9735C311,-148.1918 311,-132.5607 311,-119.1581\"/>\n",
       "<polygon fill=\"#000000\" stroke=\"#000000\" points=\"314.5001,-119.0033 311,-109.0034 307.5001,-119.0034 314.5001,-119.0033\"/>\n",
       "</g>\n",
       "<!-- 15&#45;&gt;17 -->\n",
       "<g id=\"edge18\" class=\"edge\">\n",
       "<title>15&#45;&gt;17</title>\n",
       "<path fill=\"none\" stroke=\"#000000\" d=\"M311,-72.9551C311,-64.8828 311,-55.1764 311,-46.1817\"/>\n",
       "<polygon fill=\"#000000\" stroke=\"#000000\" points=\"314.5001,-46.0903 311,-36.0904 307.5001,-46.0904 314.5001,-46.0903\"/>\n",
       "</g>\n",
       "<!-- 16&#45;&gt;17 -->\n",
       "<g id=\"edge20\" class=\"edge\">\n",
       "<title>16&#45;&gt;17</title>\n",
       "<path fill=\"none\" stroke=\"#000000\" d=\"M556.4249,-374.3485C568.3823,-356.8392 584,-328.7534 584,-301.5 584,-301.5 584,-301.5 584,-91 584,-48.7737 460.566,-30.3283 379.6953,-22.7747\"/>\n",
       "<polygon fill=\"#000000\" stroke=\"#000000\" points=\"379.8385,-19.2736 369.5653,-21.8643 379.2119,-26.2455 379.8385,-19.2736\"/>\n",
       "</g>\n",
       "</g>\n",
       "</svg>\n"
      ],
      "text/plain": [
       "<graphviz.files.Source at 0x1070f09e8>"
      ]
     },
     "execution_count": 24,
     "metadata": {},
     "output_type": "execute_result"
    }
   ],
   "source": [
    "Source(graph)"
   ]
  },
  {
   "cell_type": "markdown",
   "metadata": {
    "slideshow": {
     "slide_type": "subslide"
    }
   },
   "source": [
    "#### gcd"
   ]
  },
  {
   "cell_type": "code",
   "execution_count": 25,
   "metadata": {
    "slideshow": {
     "slide_type": "fragment"
    }
   },
   "outputs": [],
   "source": [
    "def gcd(a, b):\n",
    "    if a<b:\n",
    "        c = a\n",
    "        a = b\n",
    "        b = c\n",
    "\n",
    "    while b != 0 :\n",
    "        c = a\n",
    "        a = b\n",
    "        b = c % b\n",
    "    return a"
   ]
  },
  {
   "cell_type": "code",
   "execution_count": 26,
   "metadata": {
    "slideshow": {
     "slide_type": "fragment"
    }
   },
   "outputs": [],
   "source": [
    "graph = to_graph(gen_cfg(inspect.getsource(gcd)))"
   ]
  },
  {
   "cell_type": "code",
   "execution_count": 27,
   "metadata": {
    "slideshow": {
     "slide_type": "fragment"
    }
   },
   "outputs": [
    {
     "data": {
      "image/svg+xml": [
       "<?xml version=\"1.0\" encoding=\"UTF-8\" standalone=\"no\"?>\n",
       "<!DOCTYPE svg PUBLIC \"-//W3C//DTD SVG 1.1//EN\"\n",
       " \"http://www.w3.org/Graphics/SVG/1.1/DTD/svg11.dtd\">\n",
       "<!-- Generated by graphviz version 2.40.1 (20161225.0304)\n",
       " -->\n",
       "<!-- Title: %3 Pages: 1 -->\n",
       "<svg width=\"304pt\" height=\"656pt\"\n",
       " viewBox=\"0.00 0.00 304.49 656.00\" xmlns=\"http://www.w3.org/2000/svg\" xmlns:xlink=\"http://www.w3.org/1999/xlink\">\n",
       "<g id=\"graph0\" class=\"graph\" transform=\"scale(1 1) rotate(0) translate(4 652)\">\n",
       "<title>%3</title>\n",
       "<polygon fill=\"#ffffff\" stroke=\"transparent\" points=\"-4,4 -4,-652 300.4879,-652 300.4879,4 -4,4\"/>\n",
       "<!-- 1 -->\n",
       "<g id=\"node1\" class=\"node\">\n",
       "<title>1</title>\n",
       "<ellipse fill=\"none\" stroke=\"#000000\" cx=\"198.8437\" cy=\"-630\" rx=\"75.2868\" ry=\"18\"/>\n",
       "<text text-anchor=\"middle\" x=\"198.8437\" y=\"-626.3\" font-family=\"Times,serif\" font-size=\"14.00\" fill=\"#000000\">1: enter: gcd(a, b)</text>\n",
       "</g>\n",
       "<!-- 3 -->\n",
       "<g id=\"node4\" class=\"node\">\n",
       "<title>3</title>\n",
       "<ellipse fill=\"none\" stroke=\"#000000\" cx=\"198.8437\" cy=\"-557\" rx=\"54.6905\" ry=\"18\"/>\n",
       "<text text-anchor=\"middle\" x=\"198.8437\" y=\"-553.3\" font-family=\"Times,serif\" font-size=\"14.00\" fill=\"#000000\">2: if: (a &lt; b)</text>\n",
       "</g>\n",
       "<!-- 1&#45;&gt;3 -->\n",
       "<g id=\"edge2\" class=\"edge\">\n",
       "<title>1&#45;&gt;3</title>\n",
       "<path fill=\"none\" stroke=\"#000000\" d=\"M198.8437,-611.9551C198.8437,-603.8828 198.8437,-594.1764 198.8437,-585.1817\"/>\n",
       "<polygon fill=\"#000000\" stroke=\"#000000\" points=\"202.3438,-585.0903 198.8437,-575.0904 195.3438,-585.0904 202.3438,-585.0903\"/>\n",
       "</g>\n",
       "<!-- 2 -->\n",
       "<g id=\"node2\" class=\"node\">\n",
       "<title>2</title>\n",
       "<ellipse fill=\"none\" stroke=\"#000000\" cx=\"70.8437\" cy=\"-91\" rx=\"70.6878\" ry=\"18\"/>\n",
       "<text text-anchor=\"middle\" x=\"70.8437\" y=\"-87.3\" font-family=\"Times,serif\" font-size=\"14.00\" fill=\"#000000\">1: exit: gcd(a, b)</text>\n",
       "</g>\n",
       "<!-- 11 -->\n",
       "<g id=\"node3\" class=\"node\">\n",
       "<title>11</title>\n",
       "<ellipse fill=\"none\" stroke=\"#000000\" cx=\"80.8437\" cy=\"-164\" rx=\"52.7911\" ry=\"18\"/>\n",
       "<text text-anchor=\"middle\" x=\"80.8437\" y=\"-160.3\" font-family=\"Times,serif\" font-size=\"14.00\" fill=\"#000000\">11: return a</text>\n",
       "</g>\n",
       "<!-- 11&#45;&gt;2 -->\n",
       "<g id=\"edge1\" class=\"edge\">\n",
       "<title>11&#45;&gt;2</title>\n",
       "<path fill=\"none\" stroke=\"#000000\" d=\"M78.3718,-145.9551C77.266,-137.8828 75.9364,-128.1764 74.7042,-119.1817\"/>\n",
       "<polygon fill=\"#000000\" stroke=\"#000000\" points=\"78.1467,-118.5228 73.3218,-109.0904 71.2115,-119.4729 78.1467,-118.5228\"/>\n",
       "</g>\n",
       "<!-- 4 -->\n",
       "<g id=\"node5\" class=\"node\">\n",
       "<title>4</title>\n",
       "<ellipse fill=\"none\" stroke=\"#000000\" cx=\"163.8437\" cy=\"-470\" rx=\"37.8943\" ry=\"18\"/>\n",
       "<text text-anchor=\"middle\" x=\"163.8437\" y=\"-466.3\" font-family=\"Times,serif\" font-size=\"14.00\" fill=\"#000000\">3: c = a</text>\n",
       "</g>\n",
       "<!-- 3&#45;&gt;4 -->\n",
       "<g id=\"edge3\" class=\"edge\">\n",
       "<title>3&#45;&gt;4</title>\n",
       "<path fill=\"none\" stroke=\"#0000ff\" d=\"M191.5917,-538.9735C186.7258,-526.8784 180.2279,-510.7263 174.7433,-497.0934\"/>\n",
       "<polygon fill=\"#0000ff\" stroke=\"#0000ff\" points=\"177.9461,-495.6768 170.9667,-487.7057 171.452,-498.2894 177.9461,-495.6768\"/>\n",
       "<text text-anchor=\"middle\" x=\"188.3437\" y=\"-509.8\" font-family=\"Times,serif\" font-size=\"14.00\" fill=\"#000000\">T</text>\n",
       "</g>\n",
       "<!-- 7 -->\n",
       "<g id=\"node8\" class=\"node\">\n",
       "<title>7</title>\n",
       "<ellipse fill=\"none\" stroke=\"#000000\" cx=\"197.8437\" cy=\"-251\" rx=\"72.5877\" ry=\"18\"/>\n",
       "<text text-anchor=\"middle\" x=\"197.8437\" y=\"-247.3\" font-family=\"Times,serif\" font-size=\"14.00\" fill=\"#000000\">7: while: (b != 0)</text>\n",
       "</g>\n",
       "<!-- 3&#45;&gt;7 -->\n",
       "<g id=\"edge7\" class=\"edge\">\n",
       "<title>3&#45;&gt;7</title>\n",
       "<path fill=\"none\" stroke=\"#ff0000\" d=\"M210.016,-539.0817C219.5896,-521.9944 231.8437,-495.2006 231.8437,-470 231.8437,-470 231.8437,-470 231.8437,-324 231.8437,-307.5289 224.6429,-290.7573 216.869,-277.4503\"/>\n",
       "<polygon fill=\"#ff0000\" stroke=\"#ff0000\" points=\"219.75,-275.4563 211.4769,-268.8375 213.8168,-279.1708 219.75,-275.4563\"/>\n",
       "<text text-anchor=\"middle\" x=\"235.8437\" y=\"-393.3\" font-family=\"Times,serif\" font-size=\"14.00\" fill=\"#000000\">F</text>\n",
       "</g>\n",
       "<!-- 5 -->\n",
       "<g id=\"node6\" class=\"node\">\n",
       "<title>5</title>\n",
       "<ellipse fill=\"none\" stroke=\"#000000\" cx=\"157.8437\" cy=\"-397\" rx=\"38.1938\" ry=\"18\"/>\n",
       "<text text-anchor=\"middle\" x=\"157.8437\" y=\"-393.3\" font-family=\"Times,serif\" font-size=\"14.00\" fill=\"#000000\">4: a = b</text>\n",
       "</g>\n",
       "<!-- 4&#45;&gt;5 -->\n",
       "<g id=\"edge4\" class=\"edge\">\n",
       "<title>4&#45;&gt;5</title>\n",
       "<path fill=\"none\" stroke=\"#000000\" d=\"M162.3606,-451.9551C161.6971,-443.8828 160.8993,-434.1764 160.16,-425.1817\"/>\n",
       "<polygon fill=\"#000000\" stroke=\"#000000\" points=\"163.6381,-424.77 159.3306,-415.0904 156.6616,-425.3435 163.6381,-424.77\"/>\n",
       "</g>\n",
       "<!-- 6 -->\n",
       "<g id=\"node7\" class=\"node\">\n",
       "<title>6</title>\n",
       "<ellipse fill=\"none\" stroke=\"#000000\" cx=\"163.8437\" cy=\"-324\" rx=\"38.1938\" ry=\"18\"/>\n",
       "<text text-anchor=\"middle\" x=\"163.8437\" y=\"-320.3\" font-family=\"Times,serif\" font-size=\"14.00\" fill=\"#000000\">5: b = c</text>\n",
       "</g>\n",
       "<!-- 5&#45;&gt;6 -->\n",
       "<g id=\"edge5\" class=\"edge\">\n",
       "<title>5&#45;&gt;6</title>\n",
       "<path fill=\"none\" stroke=\"#000000\" d=\"M159.3269,-378.9551C159.9903,-370.8828 160.7881,-361.1764 161.5274,-352.1817\"/>\n",
       "<polygon fill=\"#000000\" stroke=\"#000000\" points=\"165.0258,-352.3435 162.3568,-342.0904 158.0494,-351.77 165.0258,-352.3435\"/>\n",
       "</g>\n",
       "<!-- 6&#45;&gt;7 -->\n",
       "<g id=\"edge6\" class=\"edge\">\n",
       "<title>6&#45;&gt;7</title>\n",
       "<path fill=\"none\" stroke=\"#000000\" d=\"M172.0742,-306.3287C175.9833,-297.9356 180.7443,-287.7133 185.1054,-278.3499\"/>\n",
       "<polygon fill=\"#000000\" stroke=\"#000000\" points=\"188.4035,-279.5584 189.4529,-269.0157 182.058,-276.6029 188.4035,-279.5584\"/>\n",
       "</g>\n",
       "<!-- 7&#45;&gt;11 -->\n",
       "<g id=\"edge12\" class=\"edge\">\n",
       "<title>7&#45;&gt;11</title>\n",
       "<path fill=\"none\" stroke=\"#ff0000\" d=\"M174.7283,-233.8116C156.5474,-220.2925 131.0629,-201.3424 111.2322,-186.5966\"/>\n",
       "<polygon fill=\"#ff0000\" stroke=\"#ff0000\" points=\"113.2304,-183.7208 103.1173,-180.5624 109.0535,-189.3381 113.2304,-183.7208\"/>\n",
       "<text text-anchor=\"middle\" x=\"150.8437\" y=\"-203.8\" font-family=\"Times,serif\" font-size=\"14.00\" fill=\"#000000\">F</text>\n",
       "</g>\n",
       "<!-- 8 -->\n",
       "<g id=\"node10\" class=\"node\">\n",
       "<title>8</title>\n",
       "<ellipse fill=\"none\" stroke=\"#000000\" cx=\"197.8437\" cy=\"-164\" rx=\"37.8943\" ry=\"18\"/>\n",
       "<text text-anchor=\"middle\" x=\"197.8437\" y=\"-160.3\" font-family=\"Times,serif\" font-size=\"14.00\" fill=\"#000000\">8: c = a</text>\n",
       "</g>\n",
       "<!-- 7&#45;&gt;8 -->\n",
       "<g id=\"edge9\" class=\"edge\">\n",
       "<title>7&#45;&gt;8</title>\n",
       "<path fill=\"none\" stroke=\"#0000ff\" d=\"M197.8437,-232.9735C197.8437,-221.1918 197.8437,-205.5607 197.8437,-192.1581\"/>\n",
       "<polygon fill=\"#0000ff\" stroke=\"#0000ff\" points=\"201.3438,-192.0033 197.8437,-182.0034 194.3438,-192.0034 201.3438,-192.0033\"/>\n",
       "<text text-anchor=\"middle\" x=\"202.3437\" y=\"-203.8\" font-family=\"Times,serif\" font-size=\"14.00\" fill=\"#000000\">T</text>\n",
       "</g>\n",
       "<!-- 10 -->\n",
       "<g id=\"node9\" class=\"node\">\n",
       "<title>10</title>\n",
       "<ellipse fill=\"none\" stroke=\"#000000\" cx=\"230.8437\" cy=\"-18\" rx=\"65.7887\" ry=\"18\"/>\n",
       "<text text-anchor=\"middle\" x=\"230.8437\" y=\"-14.3\" font-family=\"Times,serif\" font-size=\"14.00\" fill=\"#000000\">10: b = (c % b)</text>\n",
       "</g>\n",
       "<!-- 10&#45;&gt;7 -->\n",
       "<g id=\"edge8\" class=\"edge\">\n",
       "<title>10&#45;&gt;7</title>\n",
       "<path fill=\"none\" stroke=\"#000000\" d=\"M236.777,-36.1905C245.8583,-66.9643 260.5835,-130.934 244.8437,-182 239.9874,-197.7557 230.1674,-213.1327 220.7535,-225.3569\"/>\n",
       "<polygon fill=\"#000000\" stroke=\"#000000\" points=\"217.9166,-223.2994 214.3671,-233.282 223.3671,-227.6917 217.9166,-223.2994\"/>\n",
       "</g>\n",
       "<!-- 9 -->\n",
       "<g id=\"node11\" class=\"node\">\n",
       "<title>9</title>\n",
       "<ellipse fill=\"none\" stroke=\"#000000\" cx=\"197.8437\" cy=\"-91\" rx=\"38.1938\" ry=\"18\"/>\n",
       "<text text-anchor=\"middle\" x=\"197.8437\" y=\"-87.3\" font-family=\"Times,serif\" font-size=\"14.00\" fill=\"#000000\">9: a = b</text>\n",
       "</g>\n",
       "<!-- 8&#45;&gt;9 -->\n",
       "<g id=\"edge10\" class=\"edge\">\n",
       "<title>8&#45;&gt;9</title>\n",
       "<path fill=\"none\" stroke=\"#000000\" d=\"M197.8437,-145.9551C197.8437,-137.8828 197.8437,-128.1764 197.8437,-119.1817\"/>\n",
       "<polygon fill=\"#000000\" stroke=\"#000000\" points=\"201.3438,-119.0903 197.8437,-109.0904 194.3438,-119.0904 201.3438,-119.0903\"/>\n",
       "</g>\n",
       "<!-- 9&#45;&gt;10 -->\n",
       "<g id=\"edge11\" class=\"edge\">\n",
       "<title>9&#45;&gt;10</title>\n",
       "<path fill=\"none\" stroke=\"#000000\" d=\"M205.8321,-73.3287C209.6262,-64.9356 214.2473,-54.7133 218.4801,-45.3499\"/>\n",
       "<polygon fill=\"#000000\" stroke=\"#000000\" points=\"221.7696,-46.5696 222.6996,-36.0157 215.3911,-43.6861 221.7696,-46.5696\"/>\n",
       "</g>\n",
       "</g>\n",
       "</svg>\n"
      ],
      "text/plain": [
       "<graphviz.files.Source at 0x1070fe780>"
      ]
     },
     "execution_count": 27,
     "metadata": {},
     "output_type": "execute_result"
    }
   ],
   "source": [
    "Source(graph)"
   ]
  },
  {
   "cell_type": "code",
   "execution_count": 28,
   "metadata": {
    "slideshow": {
     "slide_type": "subslide"
    }
   },
   "outputs": [],
   "source": [
    "def compute_gcd(x, y): \n",
    "  \n",
    "    if x > y: \n",
    "        small = y \n",
    "    else: \n",
    "        small = x \n",
    "    for i in range(1, small+1): \n",
    "        if((x % i == 0) and (y % i == 0)): \n",
    "            gcd = i \n",
    "              \n",
    "    return gcd "
   ]
  },
  {
   "cell_type": "code",
   "execution_count": 29,
   "metadata": {
    "slideshow": {
     "slide_type": "fragment"
    }
   },
   "outputs": [],
   "source": [
    "graph = to_graph(gen_cfg(inspect.getsource(compute_gcd)))"
   ]
  },
  {
   "cell_type": "code",
   "execution_count": 30,
   "metadata": {
    "slideshow": {
     "slide_type": "fragment"
    }
   },
   "outputs": [
    {
     "data": {
      "image/svg+xml": [
       "<?xml version=\"1.0\" encoding=\"UTF-8\" standalone=\"no\"?>\n",
       "<!DOCTYPE svg PUBLIC \"-//W3C//DTD SVG 1.1//EN\"\n",
       " \"http://www.w3.org/Graphics/SVG/1.1/DTD/svg11.dtd\">\n",
       "<!-- Generated by graphviz version 2.40.1 (20161225.0304)\n",
       " -->\n",
       "<!-- Title: %3 Pages: 1 -->\n",
       "<svg width=\"589pt\" height=\"524pt\"\n",
       " viewBox=\"0.00 0.00 588.58 524.00\" xmlns=\"http://www.w3.org/2000/svg\" xmlns:xlink=\"http://www.w3.org/1999/xlink\">\n",
       "<g id=\"graph0\" class=\"graph\" transform=\"scale(1 1) rotate(0) translate(4 520)\">\n",
       "<title>%3</title>\n",
       "<polygon fill=\"#ffffff\" stroke=\"transparent\" points=\"-4,4 -4,-520 584.5767,-520 584.5767,4 -4,4\"/>\n",
       "<!-- 1 -->\n",
       "<g id=\"node1\" class=\"node\">\n",
       "<title>1</title>\n",
       "<ellipse fill=\"none\" stroke=\"#000000\" cx=\"291.2405\" cy=\"-498\" rx=\"111.5806\" ry=\"18\"/>\n",
       "<text text-anchor=\"middle\" x=\"291.2405\" y=\"-494.3\" font-family=\"Times,serif\" font-size=\"14.00\" fill=\"#000000\">1: enter: compute_gcd(x, y)</text>\n",
       "</g>\n",
       "<!-- 3 -->\n",
       "<g id=\"node4\" class=\"node\">\n",
       "<title>3</title>\n",
       "<ellipse fill=\"none\" stroke=\"#000000\" cx=\"291.2405\" cy=\"-425\" rx=\"55.4913\" ry=\"18\"/>\n",
       "<text text-anchor=\"middle\" x=\"291.2405\" y=\"-421.3\" font-family=\"Times,serif\" font-size=\"14.00\" fill=\"#000000\">3: if: (x &gt; y)</text>\n",
       "</g>\n",
       "<!-- 1&#45;&gt;3 -->\n",
       "<g id=\"edge2\" class=\"edge\">\n",
       "<title>1&#45;&gt;3</title>\n",
       "<path fill=\"none\" stroke=\"#000000\" d=\"M291.2405,-479.9551C291.2405,-471.8828 291.2405,-462.1764 291.2405,-453.1817\"/>\n",
       "<polygon fill=\"#000000\" stroke=\"#000000\" points=\"294.7406,-453.0903 291.2405,-443.0904 287.7406,-453.0904 294.7406,-453.0903\"/>\n",
       "</g>\n",
       "<!-- 2 -->\n",
       "<g id=\"node2\" class=\"node\">\n",
       "<title>2</title>\n",
       "<ellipse fill=\"none\" stroke=\"#000000\" cx=\"107.2405\" cy=\"-105\" rx=\"107.4815\" ry=\"18\"/>\n",
       "<text text-anchor=\"middle\" x=\"107.2405\" y=\"-101.3\" font-family=\"Times,serif\" font-size=\"14.00\" fill=\"#000000\">1: exit: compute_gcd(x, y)</text>\n",
       "</g>\n",
       "<!-- 10 -->\n",
       "<g id=\"node3\" class=\"node\">\n",
       "<title>10</title>\n",
       "<ellipse fill=\"none\" stroke=\"#000000\" cx=\"130.2405\" cy=\"-178\" rx=\"61.99\" ry=\"18\"/>\n",
       "<text text-anchor=\"middle\" x=\"130.2405\" y=\"-174.3\" font-family=\"Times,serif\" font-size=\"14.00\" fill=\"#000000\">11: return gcd</text>\n",
       "</g>\n",
       "<!-- 10&#45;&gt;2 -->\n",
       "<g id=\"edge1\" class=\"edge\">\n",
       "<title>10&#45;&gt;2</title>\n",
       "<path fill=\"none\" stroke=\"#000000\" d=\"M124.5551,-159.9551C121.9841,-151.7951 118.887,-141.9652 116.0273,-132.8887\"/>\n",
       "<polygon fill=\"#000000\" stroke=\"#000000\" points=\"119.2835,-131.5764 112.9402,-123.0904 112.6071,-133.68 119.2835,-131.5764\"/>\n",
       "</g>\n",
       "<!-- 4 -->\n",
       "<g id=\"node5\" class=\"node\">\n",
       "<title>4</title>\n",
       "<ellipse fill=\"none\" stroke=\"#000000\" cx=\"228.2405\" cy=\"-338\" rx=\"53.8905\" ry=\"18\"/>\n",
       "<text text-anchor=\"middle\" x=\"228.2405\" y=\"-334.3\" font-family=\"Times,serif\" font-size=\"14.00\" fill=\"#000000\">4: small = y</text>\n",
       "</g>\n",
       "<!-- 3&#45;&gt;4 -->\n",
       "<g id=\"edge3\" class=\"edge\">\n",
       "<title>3&#45;&gt;4</title>\n",
       "<path fill=\"none\" stroke=\"#0000ff\" d=\"M278.4915,-407.3943C269.4399,-394.8944 257.1405,-377.9096 246.9756,-363.8724\"/>\n",
       "<polygon fill=\"#0000ff\" stroke=\"#0000ff\" points=\"249.6705,-361.6262 240.9705,-355.5796 244.0008,-365.7318 249.6705,-361.6262\"/>\n",
       "<text text-anchor=\"middle\" x=\"268.7405\" y=\"-377.8\" font-family=\"Times,serif\" font-size=\"14.00\" fill=\"#000000\">T</text>\n",
       "</g>\n",
       "<!-- 5 -->\n",
       "<g id=\"node6\" class=\"node\">\n",
       "<title>5</title>\n",
       "<ellipse fill=\"none\" stroke=\"#000000\" cx=\"354.2405\" cy=\"-338\" rx=\"53.8905\" ry=\"18\"/>\n",
       "<text text-anchor=\"middle\" x=\"354.2405\" y=\"-334.3\" font-family=\"Times,serif\" font-size=\"14.00\" fill=\"#000000\">6: small = x</text>\n",
       "</g>\n",
       "<!-- 3&#45;&gt;5 -->\n",
       "<g id=\"edge4\" class=\"edge\">\n",
       "<title>3&#45;&gt;5</title>\n",
       "<path fill=\"none\" stroke=\"#ff0000\" d=\"M303.9895,-407.3943C313.0411,-394.8944 325.3404,-377.9096 335.5053,-363.8724\"/>\n",
       "<polygon fill=\"#ff0000\" stroke=\"#ff0000\" points=\"338.4801,-365.7318 341.5105,-355.5796 332.8105,-361.6262 338.4801,-365.7318\"/>\n",
       "<text text-anchor=\"middle\" x=\"330.2405\" y=\"-377.8\" font-family=\"Times,serif\" font-size=\"14.00\" fill=\"#000000\">F</text>\n",
       "</g>\n",
       "<!-- 6 -->\n",
       "<g id=\"node7\" class=\"node\">\n",
       "<title>6</title>\n",
       "<ellipse fill=\"none\" stroke=\"#000000\" cx=\"290.2405\" cy=\"-265\" rx=\"181.9677\" ry=\"18\"/>\n",
       "<text text-anchor=\"middle\" x=\"290.2405\" y=\"-261.3\" font-family=\"Times,serif\" font-size=\"14.00\" fill=\"#000000\">7: for: (True if range(1, (small + 1)) else False)</text>\n",
       "</g>\n",
       "<!-- 4&#45;&gt;6 -->\n",
       "<g id=\"edge5\" class=\"edge\">\n",
       "<title>4&#45;&gt;6</title>\n",
       "<path fill=\"none\" stroke=\"#000000\" d=\"M243.249,-320.3287C250.7525,-311.4939 259.9775,-300.6323 268.2611,-290.8789\"/>\n",
       "<polygon fill=\"#000000\" stroke=\"#000000\" points=\"271.1337,-292.9034 274.9395,-283.0157 265.7983,-288.3719 271.1337,-292.9034\"/>\n",
       "</g>\n",
       "<!-- 5&#45;&gt;6 -->\n",
       "<g id=\"edge6\" class=\"edge\">\n",
       "<title>5&#45;&gt;6</title>\n",
       "<path fill=\"none\" stroke=\"#000000\" d=\"M339.0734,-320.7C331.1983,-311.7175 321.4218,-300.5661 312.6898,-290.6062\"/>\n",
       "<polygon fill=\"#000000\" stroke=\"#000000\" points=\"315.1912,-288.1502 305.9671,-282.9381 309.9277,-292.7649 315.1912,-288.1502\"/>\n",
       "</g>\n",
       "<!-- 6&#45;&gt;10 -->\n",
       "<g id=\"edge12\" class=\"edge\">\n",
       "<title>6&#45;&gt;10</title>\n",
       "<path fill=\"none\" stroke=\"#ff0000\" d=\"M255.2011,-247.3315C243.9827,-241.5808 231.5427,-235.1053 220.2405,-229 202.5085,-219.4214 183.0284,-208.4405 166.7401,-199.1274\"/>\n",
       "<polygon fill=\"#ff0000\" stroke=\"#ff0000\" points=\"168.4667,-196.0829 158.0507,-194.1445 164.9845,-202.1553 168.4667,-196.0829\"/>\n",
       "<text text-anchor=\"middle\" x=\"224.2405\" y=\"-217.8\" font-family=\"Times,serif\" font-size=\"14.00\" fill=\"#000000\">F</text>\n",
       "</g>\n",
       "<!-- 7 -->\n",
       "<g id=\"node10\" class=\"node\">\n",
       "<title>7</title>\n",
       "<ellipse fill=\"none\" stroke=\"#000000\" cx=\"402.2405\" cy=\"-178\" rx=\"131.8766\" ry=\"18\"/>\n",
       "<text text-anchor=\"middle\" x=\"402.2405\" y=\"-174.3\" font-family=\"Times,serif\" font-size=\"14.00\" fill=\"#000000\">7: i = range(1, (small + 1)).shift()</text>\n",
       "</g>\n",
       "<!-- 6&#45;&gt;7 -->\n",
       "<g id=\"edge9\" class=\"edge\">\n",
       "<title>6&#45;&gt;7</title>\n",
       "<path fill=\"none\" stroke=\"#0000ff\" d=\"M313.447,-246.9735C330.116,-234.0253 352.7704,-216.4276 371.024,-202.2485\"/>\n",
       "<polygon fill=\"#0000ff\" stroke=\"#0000ff\" points=\"373.3135,-204.902 379.0637,-196.0034 369.0193,-199.3739 373.3135,-204.902\"/>\n",
       "<text text-anchor=\"middle\" x=\"356.7405\" y=\"-217.8\" font-family=\"Times,serif\" font-size=\"14.00\" fill=\"#000000\">T</text>\n",
       "</g>\n",
       "<!-- 9 -->\n",
       "<g id=\"node8\" class=\"node\">\n",
       "<title>9</title>\n",
       "<ellipse fill=\"none\" stroke=\"#000000\" cx=\"258.2405\" cy=\"-18\" rx=\"45.4919\" ry=\"18\"/>\n",
       "<text text-anchor=\"middle\" x=\"258.2405\" y=\"-14.3\" font-family=\"Times,serif\" font-size=\"14.00\" fill=\"#000000\">9: gcd = i</text>\n",
       "</g>\n",
       "<!-- 9&#45;&gt;6 -->\n",
       "<g id=\"edge7\" class=\"edge\">\n",
       "<title>9&#45;&gt;6</title>\n",
       "<path fill=\"none\" stroke=\"#000000\" d=\"M256.3016,-36.1908C253.332,-68.6888 249.1823,-138.6856 261.2405,-196 264.238,-210.2477 270.167,-225.2415 275.8872,-237.599\"/>\n",
       "<polygon fill=\"#000000\" stroke=\"#000000\" points=\"272.8688,-239.3972 280.3699,-246.8795 279.1721,-236.3526 272.8688,-239.3972\"/>\n",
       "</g>\n",
       "<!-- 8 -->\n",
       "<g id=\"node9\" class=\"node\">\n",
       "<title>8</title>\n",
       "<ellipse fill=\"none\" stroke=\"#000000\" cx=\"425.2405\" cy=\"-105\" rx=\"155.1726\" ry=\"18\"/>\n",
       "<text text-anchor=\"middle\" x=\"425.2405\" y=\"-101.3\" font-family=\"Times,serif\" font-size=\"14.00\" fill=\"#000000\">8: if: (((x % i) == 0) and ((y % i) == 0))</text>\n",
       "</g>\n",
       "<!-- 8&#45;&gt;6 -->\n",
       "<g id=\"edge8\" class=\"edge\">\n",
       "<title>8&#45;&gt;6</title>\n",
       "<path fill=\"none\" stroke=\"#ff0000\" d=\"M492.5504,-121.2826C512.2749,-129.5203 531.6413,-141.7963 543.2405,-160 551.8384,-173.4935 552.9524,-183.2847 543.2405,-196 525.4069,-219.3487 461.2484,-236.6926 402.0082,-248.1519\"/>\n",
       "<polygon fill=\"#ff0000\" stroke=\"#ff0000\" points=\"401.3454,-244.7151 392.1691,-250.011 402.6451,-251.5934 401.3454,-244.7151\"/>\n",
       "<text text-anchor=\"middle\" x=\"553.2405\" y=\"-174.3\" font-family=\"Times,serif\" font-size=\"14.00\" fill=\"#000000\">F</text>\n",
       "</g>\n",
       "<!-- 8&#45;&gt;9 -->\n",
       "<g id=\"edge11\" class=\"edge\">\n",
       "<title>8&#45;&gt;9</title>\n",
       "<path fill=\"none\" stroke=\"#0000ff\" d=\"M391.4455,-87.3943C363.4092,-72.7885 323.6185,-52.0592 294.8347,-37.0641\"/>\n",
       "<polygon fill=\"#0000ff\" stroke=\"#0000ff\" points=\"296.3907,-33.9283 285.905,-32.412 293.1566,-40.1363 296.3907,-33.9283\"/>\n",
       "<text text-anchor=\"middle\" x=\"355.7405\" y=\"-57.8\" font-family=\"Times,serif\" font-size=\"14.00\" fill=\"#000000\">T</text>\n",
       "</g>\n",
       "<!-- 7&#45;&gt;8 -->\n",
       "<g id=\"edge10\" class=\"edge\">\n",
       "<title>7&#45;&gt;8</title>\n",
       "<path fill=\"none\" stroke=\"#000000\" d=\"M407.9259,-159.9551C410.4968,-151.7951 413.5939,-141.9652 416.4536,-132.8887\"/>\n",
       "<polygon fill=\"#000000\" stroke=\"#000000\" points=\"419.8739,-133.68 419.5408,-123.0904 413.1974,-131.5764 419.8739,-133.68\"/>\n",
       "</g>\n",
       "</g>\n",
       "</svg>\n"
      ],
      "text/plain": [
       "<graphviz.files.Source at 0x1070fea58>"
      ]
     },
     "execution_count": 30,
     "metadata": {},
     "output_type": "execute_result"
    }
   ],
   "source": [
    "Source(graph)"
   ]
  },
  {
   "cell_type": "markdown",
   "metadata": {
    "slideshow": {
     "slide_type": "subslide"
    }
   },
   "source": [
    "#### fib\n",
    "\n",
    "Note that the *for-loop* requires additional massaging. While we show the labels correctly, the *comparison node* needs to be extracted. Hence, the representation is not accurate."
   ]
  },
  {
   "cell_type": "code",
   "execution_count": 31,
   "metadata": {
    "slideshow": {
     "slide_type": "fragment"
    }
   },
   "outputs": [],
   "source": [
    "def fib(n,):\n",
    "    l = [0, 1]\n",
    "    for i in range(n-2):\n",
    "        l.append(l[-1]+l[-2])\n",
    "    return l"
   ]
  },
  {
   "cell_type": "code",
   "execution_count": 32,
   "metadata": {
    "slideshow": {
     "slide_type": "fragment"
    }
   },
   "outputs": [],
   "source": [
    "graph = to_graph(gen_cfg(inspect.getsource(fib)))"
   ]
  },
  {
   "cell_type": "code",
   "execution_count": 33,
   "metadata": {
    "slideshow": {
     "slide_type": "fragment"
    }
   },
   "outputs": [
    {
     "data": {
      "image/svg+xml": [
       "<?xml version=\"1.0\" encoding=\"UTF-8\" standalone=\"no\"?>\n",
       "<!DOCTYPE svg PUBLIC \"-//W3C//DTD SVG 1.1//EN\"\n",
       " \"http://www.w3.org/Graphics/SVG/1.1/DTD/svg11.dtd\">\n",
       "<!-- Generated by graphviz version 2.40.1 (20161225.0304)\n",
       " -->\n",
       "<!-- Title: %3 Pages: 1 -->\n",
       "<svg width=\"454pt\" height=\"350pt\"\n",
       " viewBox=\"0.00 0.00 453.68 350.00\" xmlns=\"http://www.w3.org/2000/svg\" xmlns:xlink=\"http://www.w3.org/1999/xlink\">\n",
       "<g id=\"graph0\" class=\"graph\" transform=\"scale(1 1) rotate(0) translate(4 346)\">\n",
       "<title>%3</title>\n",
       "<polygon fill=\"#ffffff\" stroke=\"transparent\" points=\"-4,4 -4,-346 449.684,-346 449.684,4 -4,4\"/>\n",
       "<!-- 1 -->\n",
       "<g id=\"node1\" class=\"node\">\n",
       "<title>1</title>\n",
       "<ellipse fill=\"none\" stroke=\"#000000\" cx=\"229.4948\" cy=\"-324\" rx=\"63.0888\" ry=\"18\"/>\n",
       "<text text-anchor=\"middle\" x=\"229.4948\" y=\"-320.3\" font-family=\"Times,serif\" font-size=\"14.00\" fill=\"#000000\">1: enter: fib(n)</text>\n",
       "</g>\n",
       "<!-- 3 -->\n",
       "<g id=\"node4\" class=\"node\">\n",
       "<title>3</title>\n",
       "<ellipse fill=\"none\" stroke=\"#000000\" cx=\"229.4948\" cy=\"-251\" rx=\"51.9908\" ry=\"18\"/>\n",
       "<text text-anchor=\"middle\" x=\"229.4948\" y=\"-247.3\" font-family=\"Times,serif\" font-size=\"14.00\" fill=\"#000000\">2: l = [0, 1]</text>\n",
       "</g>\n",
       "<!-- 1&#45;&gt;3 -->\n",
       "<g id=\"edge2\" class=\"edge\">\n",
       "<title>1&#45;&gt;3</title>\n",
       "<path fill=\"none\" stroke=\"#000000\" d=\"M229.4948,-305.9551C229.4948,-297.8828 229.4948,-288.1764 229.4948,-279.1817\"/>\n",
       "<polygon fill=\"#000000\" stroke=\"#000000\" points=\"232.9949,-279.0903 229.4948,-269.0904 225.9949,-279.0904 232.9949,-279.0903\"/>\n",
       "</g>\n",
       "<!-- 2 -->\n",
       "<g id=\"node2\" class=\"node\">\n",
       "<title>2</title>\n",
       "<ellipse fill=\"none\" stroke=\"#000000\" cx=\"58.4948\" cy=\"-18\" rx=\"58.4896\" ry=\"18\"/>\n",
       "<text text-anchor=\"middle\" x=\"58.4948\" y=\"-14.3\" font-family=\"Times,serif\" font-size=\"14.00\" fill=\"#000000\">1: exit: fib(n)</text>\n",
       "</g>\n",
       "<!-- 7 -->\n",
       "<g id=\"node3\" class=\"node\">\n",
       "<title>7</title>\n",
       "<ellipse fill=\"none\" stroke=\"#000000\" cx=\"58.4948\" cy=\"-91\" rx=\"46.5926\" ry=\"18\"/>\n",
       "<text text-anchor=\"middle\" x=\"58.4948\" y=\"-87.3\" font-family=\"Times,serif\" font-size=\"14.00\" fill=\"#000000\">5: return l</text>\n",
       "</g>\n",
       "<!-- 7&#45;&gt;2 -->\n",
       "<g id=\"edge1\" class=\"edge\">\n",
       "<title>7&#45;&gt;2</title>\n",
       "<path fill=\"none\" stroke=\"#000000\" d=\"M58.4948,-72.9551C58.4948,-64.8828 58.4948,-55.1764 58.4948,-46.1817\"/>\n",
       "<polygon fill=\"#000000\" stroke=\"#000000\" points=\"61.9949,-46.0903 58.4948,-36.0904 54.9949,-46.0904 61.9949,-46.0903\"/>\n",
       "</g>\n",
       "<!-- 4 -->\n",
       "<g id=\"node5\" class=\"node\">\n",
       "<title>4</title>\n",
       "<ellipse fill=\"none\" stroke=\"#000000\" cx=\"229.4948\" cy=\"-178\" rx=\"155.9723\" ry=\"18\"/>\n",
       "<text text-anchor=\"middle\" x=\"229.4948\" y=\"-174.3\" font-family=\"Times,serif\" font-size=\"14.00\" fill=\"#000000\">3: for: (True if range((n &#45; 2)) else False)</text>\n",
       "</g>\n",
       "<!-- 3&#45;&gt;4 -->\n",
       "<g id=\"edge3\" class=\"edge\">\n",
       "<title>3&#45;&gt;4</title>\n",
       "<path fill=\"none\" stroke=\"#000000\" d=\"M229.4948,-232.9551C229.4948,-224.8828 229.4948,-215.1764 229.4948,-206.1817\"/>\n",
       "<polygon fill=\"#000000\" stroke=\"#000000\" points=\"232.9949,-206.0903 229.4948,-196.0904 225.9949,-206.0904 232.9949,-206.0903\"/>\n",
       "</g>\n",
       "<!-- 4&#45;&gt;7 -->\n",
       "<g id=\"edge7\" class=\"edge\">\n",
       "<title>4&#45;&gt;7</title>\n",
       "<path fill=\"none\" stroke=\"#ff0000\" d=\"M194.8904,-160.3943C166.1826,-145.7885 125.4388,-125.0592 95.9656,-110.0641\"/>\n",
       "<polygon fill=\"#ff0000\" stroke=\"#ff0000\" points=\"97.3218,-106.8272 86.8219,-105.412 94.1476,-113.0661 97.3218,-106.8272\"/>\n",
       "<text text-anchor=\"middle\" x=\"158.4948\" y=\"-130.8\" font-family=\"Times,serif\" font-size=\"14.00\" fill=\"#000000\">F</text>\n",
       "</g>\n",
       "<!-- 5 -->\n",
       "<g id=\"node7\" class=\"node\">\n",
       "<title>5</title>\n",
       "<ellipse fill=\"none\" stroke=\"#000000\" cx=\"229.4948\" cy=\"-91\" rx=\"105.8812\" ry=\"18\"/>\n",
       "<text text-anchor=\"middle\" x=\"229.4948\" y=\"-87.3\" font-family=\"Times,serif\" font-size=\"14.00\" fill=\"#000000\">3: i = range((n &#45; 2)).shift()</text>\n",
       "</g>\n",
       "<!-- 4&#45;&gt;5 -->\n",
       "<g id=\"edge5\" class=\"edge\">\n",
       "<title>4&#45;&gt;5</title>\n",
       "<path fill=\"none\" stroke=\"#0000ff\" d=\"M229.4948,-159.9735C229.4948,-148.1918 229.4948,-132.5607 229.4948,-119.1581\"/>\n",
       "<polygon fill=\"#0000ff\" stroke=\"#0000ff\" points=\"232.9949,-119.0033 229.4948,-109.0034 225.9949,-119.0034 232.9949,-119.0033\"/>\n",
       "<text text-anchor=\"middle\" x=\"233.9948\" y=\"-130.8\" font-family=\"Times,serif\" font-size=\"14.00\" fill=\"#000000\">T</text>\n",
       "</g>\n",
       "<!-- 6 -->\n",
       "<g id=\"node6\" class=\"node\">\n",
       "<title>6</title>\n",
       "<ellipse fill=\"none\" stroke=\"#000000\" cx=\"323.4948\" cy=\"-18\" rx=\"122.3786\" ry=\"18\"/>\n",
       "<text text-anchor=\"middle\" x=\"323.4948\" y=\"-14.3\" font-family=\"Times,serif\" font-size=\"14.00\" fill=\"#000000\">4: l.append((l[(&#45; 1)] + l[(&#45; 2)]))</text>\n",
       "</g>\n",
       "<!-- 6&#45;&gt;4 -->\n",
       "<g id=\"edge4\" class=\"edge\">\n",
       "<title>6&#45;&gt;4</title>\n",
       "<path fill=\"none\" stroke=\"#000000\" d=\"M334.9509,-36.1976C345.442,-55.3981 357.5161,-86.0019 344.4948,-109 332.4496,-130.2742 310.9389,-145.7046 289.7539,-156.5061\"/>\n",
       "<polygon fill=\"#000000\" stroke=\"#000000\" points=\"288.2139,-153.363 280.723,-160.8555 291.2513,-159.6697 288.2139,-153.363\"/>\n",
       "</g>\n",
       "<!-- 5&#45;&gt;6 -->\n",
       "<g id=\"edge6\" class=\"edge\">\n",
       "<title>5&#45;&gt;6</title>\n",
       "<path fill=\"none\" stroke=\"#000000\" d=\"M252.2496,-73.3287C264.3986,-63.8939 279.5238,-52.1477 292.7089,-41.9082\"/>\n",
       "<polygon fill=\"#000000\" stroke=\"#000000\" points=\"294.8725,-44.6595 300.6238,-35.7615 290.5789,-39.1309 294.8725,-44.6595\"/>\n",
       "</g>\n",
       "</g>\n",
       "</svg>\n"
      ],
      "text/plain": [
       "<graphviz.files.Source at 0x1070fee10>"
      ]
     },
     "execution_count": 33,
     "metadata": {},
     "output_type": "execute_result"
    }
   ],
   "source": [
    "Source(graph)"
   ]
  }
 ],
 "metadata": {
  "ipub": {
   "bibliography": "fuzzingbook.bib",
   "toc": true
  },
  "kernelspec": {
   "display_name": "Python 3",
   "language": "python",
   "name": "python3"
  },
  "language_info": {
   "codemirror_mode": {
    "name": "ipython",
    "version": 3
   },
   "file_extension": ".py",
   "mimetype": "text/x-python",
   "name": "python",
   "nbconvert_exporter": "python",
   "pygments_lexer": "ipython3",
   "version": "3.6.6"
  },
  "toc": {
   "base_numbering": 1,
   "nav_menu": {},
   "number_sections": true,
   "sideBar": true,
   "skip_h1_title": true,
   "title_cell": "",
   "title_sidebar": "Contents",
   "toc_cell": false,
   "toc_position": {},
   "toc_section_display": true,
   "toc_window_display": true
  },
  "toc-autonumbering": false,
  "varInspector": {
   "cols": {
    "lenName": 16,
    "lenType": 16,
    "lenVar": 40
   },
   "kernels_config": {
    "python": {
     "delete_cmd_postfix": "",
     "delete_cmd_prefix": "del ",
     "library": "var_list.py",
     "varRefreshCmd": "print(var_dic_list())"
    },
    "r": {
     "delete_cmd_postfix": ") ",
     "delete_cmd_prefix": "rm(",
     "library": "var_list.r",
     "varRefreshCmd": "cat(var_dic_list()) "
    }
   },
   "types_to_exclude": [
    "module",
    "function",
    "builtin_function_or_method",
    "instance",
    "_Feature"
   ],
   "window_display": false
  }
 },
 "nbformat": 4,
 "nbformat_minor": 2
}
