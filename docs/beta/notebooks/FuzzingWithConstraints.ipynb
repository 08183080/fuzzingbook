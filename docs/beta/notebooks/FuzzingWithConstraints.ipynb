{
 "cells": [
  {
   "cell_type": "markdown",
   "metadata": {
    "button": false,
    "new_sheet": false,
    "run_control": {
     "read_only": false
    },
    "slideshow": {
     "slide_type": "slide"
    }
   },
   "source": [
    "# Fuzzing with Constraints\n",
    "\n",
    "In previous chapters, we have seen how [Grammar-Based Fuzzing](GrammarFuzzer.ipynb) allows us to express the structure of an input using context-free grammars, and how we can use these very grammars to efficiently generate myriads of valid inputs.\n",
    "However, there are input features that cannot be expressed in a context-free language: \"$X$ is the length of $Y$\", for instance, or \"$X$ is an identifier previously declared\".\n",
    "In this chapter, we show how the *ISLa* framework allows us to express such features as _constraints_ added to a grammar, and how ISLa solves these constraints automatically to produce inputs that are not only _syntactically_ valid, but actually _semantically_ valid."
   ]
  },
  {
   "cell_type": "code",
   "execution_count": 1,
   "metadata": {
    "execution": {
     "iopub.execute_input": "2022-08-06T16:16:09.073661Z",
     "iopub.status.busy": "2022-08-06T16:16:09.073346Z",
     "iopub.status.idle": "2022-08-06T16:16:09.128764Z",
     "shell.execute_reply": "2022-08-06T16:16:09.128960Z"
    },
    "slideshow": {
     "slide_type": "skip"
    }
   },
   "outputs": [
    {
     "data": {
      "text/html": [
       "\n",
       "        <iframe\n",
       "            width=\"640\"\n",
       "            height=\"360\"\n",
       "            src=\"https://www.youtube-nocookie.com/embed/w4u5gCgPlmg\"\n",
       "            frameborder=\"0\"\n",
       "            allowfullscreen\n",
       "        ></iframe>\n",
       "        "
      ],
      "text/plain": [
       "<IPython.lib.display.IFrame at 0x107f36f80>"
      ]
     },
     "execution_count": 1,
     "metadata": {},
     "output_type": "execute_result"
    }
   ],
   "source": [
    "from bookutils import YouTubeVideo\n",
    "YouTubeVideo(\"w4u5gCgPlmg\")"
   ]
  },
  {
   "cell_type": "markdown",
   "metadata": {
    "button": false,
    "new_sheet": false,
    "run_control": {
     "read_only": false
    },
    "slideshow": {
     "slide_type": "subslide"
    }
   },
   "source": [
    "**Prerequisites**\n",
    "\n",
    "* You should have read the [chapter on grammars](Grammars.ipynb).\n",
    "* The chapter on [generators and filters](GeneratorGrammarFuzzer.ipynb) addresses a similar problem, but with program code instead of constraints."
   ]
  },
  {
   "cell_type": "code",
   "execution_count": 2,
   "metadata": {
    "button": false,
    "execution": {
     "iopub.execute_input": "2022-08-06T16:16:09.131037Z",
     "iopub.status.busy": "2022-08-06T16:16:09.130742Z",
     "iopub.status.idle": "2022-08-06T16:16:09.131929Z",
     "shell.execute_reply": "2022-08-06T16:16:09.132117Z"
    },
    "new_sheet": false,
    "run_control": {
     "read_only": false
    },
    "slideshow": {
     "slide_type": "skip"
    }
   },
   "outputs": [],
   "source": [
    "import bookutils"
   ]
  },
  {
   "cell_type": "code",
   "execution_count": 3,
   "metadata": {
    "execution": {
     "iopub.execute_input": "2022-08-06T16:16:09.133919Z",
     "iopub.status.busy": "2022-08-06T16:16:09.133522Z",
     "iopub.status.idle": "2022-08-06T16:16:09.134880Z",
     "shell.execute_reply": "2022-08-06T16:16:09.134640Z"
    },
    "slideshow": {
     "slide_type": "fragment"
    }
   },
   "outputs": [],
   "source": [
    "# ignore\n",
    "import sys"
   ]
  },
  {
   "cell_type": "code",
   "execution_count": 4,
   "metadata": {
    "execution": {
     "iopub.execute_input": "2022-08-06T16:16:09.136579Z",
     "iopub.status.busy": "2022-08-06T16:16:09.136292Z",
     "iopub.status.idle": "2022-08-06T16:16:09.137561Z",
     "shell.execute_reply": "2022-08-06T16:16:09.137739Z"
    },
    "slideshow": {
     "slide_type": "fragment"
    }
   },
   "outputs": [],
   "source": [
    "# ignore\n",
    "if sys.version_info < (3, 10):\n",
    "    print(\"This code requires Python 3.10 or later\")\n",
    "    sys.exit(0)"
   ]
  },
  {
   "cell_type": "markdown",
   "id": "71ee4f20",
   "metadata": {
    "slideshow": {
     "slide_type": "skip"
    }
   },
   "source": [
    "## Synopsis\n",
    "<!-- Automatically generated. Do not edit. -->\n",
    "\n",
    "To [use the code provided in this chapter](Importing.ipynb), write\n",
    "\n",
    "```python\n",
    ">>> from fuzzingbook.FuzzingWithConstraints import <identifier>\n",
    "```\n",
    "\n",
    "and then make use of the following features.\n",
    "\n",
    "\n",
    "This chapter introduces the _ISLa framework_, consisting of \n",
    "* the _ISLa specification language_, allowing to add _constraints_ to a grammar\n",
    "* the _ISLa solver_, solving these constraints to produce semantically (and syntactically) valid inputs\n",
    "* the _ISLa checker_, checking given inputs for whether they satisfy these constraints.\n",
    "\n",
    "A typical usage of the ISLa solver is as follows.\n",
    "First, install ISLa, using \n",
    "```shell\n",
    "$ pip install isla-solver\n",
    "```\n",
    "Then, you can import the solver as\n",
    "\n",
    "```python\n",
    ">>> from isla.solver import ISLaSolver  # type: ignore\n",
    "```\n",
    "The ISLa solver needs two things. First, a _grammar_ - say, US phone numbers.\n",
    "\n",
    "```python\n",
    ">>> from Grammars import US_PHONE_GRAMMAR\n",
    "```\n",
    "Second, you need )constraints – a string expressing a condition over one or more grammar elements.\n",
    "Common functions include\n",
    "* `str.len()`, returning the length of a string\n",
    "* `str.to.int()`, converting a string to an integer\n",
    "\n",
    "Here, we instantiate the ISLa solver with a constraint stating that the area code should be above 900:\n",
    "\n",
    "```python\n",
    ">>> solver = ISLaSolver(US_PHONE_GRAMMAR, \n",
    ">>>             \"\"\"\n",
    ">>>             str.to.int(<area>) > 900\n",
    ">>>             \"\"\")\n",
    "```\n",
    "With that, invoking `solver.solve()` produces an iterator over multiple solutions.\n",
    "\n",
    "```python\n",
    ">>> for _ in range(10):\n",
    ">>>     print(next(solver.solve()))\n",
    "(906)465-8279\n",
    "(901)695-2708\n",
    "(902)382-9074\n",
    "(904)632-6458\n",
    "(992)839-0278\n",
    "(920)458-0439\n",
    "(908)847-3098\n",
    "(910)589-0372\n",
    "(914)992-6350\n",
    "(984)431-0475\n",
    "\n",
    "```\n",
    "We see that the solver produces a number of inputs that all satisfy the constraint.\n",
    "\n",
    "The `solve()` method provides several additional parameters to configure the solver, as documented below\n",
    "Additional `ISLaSolver` methods allow to check inputs against constraints, and provide additional functionality.\n",
    "\n",
    "```python\n",
    "/Users/zeller/Projects/fuzzingbook/notebooks/ClassDiagram.ipynb:367: UserWarning: ISLaSolver.solve() is listed as public, but has no docstring\n",
    "  warnings.warn(f\"{f.__qualname__}() is listed as public,\"\n",
    "/Users/zeller/Projects/fuzzingbook/notebooks/ClassDiagram.ipynb:440: UserWarning: Class ISLaSolver has no docstring\n",
    "  warnings.warn(f\"Class {cls.__name__} has no docstring\")\n",
    "\n",
    "```\n",
    "![](PICS/FuzzingWithConstraints-synopsis-1.svg)\n",
    "\n",
    "* FIXME: Have docstrings for publicly available methods\n",
    "* FIXME: Have a docstring for the `ISLaSolver` class\n",
    "* FIXME: Have a public interface for checking inputs against constraints (preferably in `ISLaSolver`, as it already has the grammar and the constraints).\n",
    "\n"
   ]
  },
  {
   "cell_type": "markdown",
   "metadata": {
    "slideshow": {
     "slide_type": "slide"
    }
   },
   "source": [
    "## Semantic Input Properties"
   ]
  },
  {
   "cell_type": "markdown",
   "metadata": {
    "slideshow": {
     "slide_type": "fragment"
    }
   },
   "source": [
    "In this book, we have frequently used [grammars](Grammars.ipynb) to [systematically generate inputs](GrammarFuzzer.ipynb) that [cover input structure](GrammarCoverageFuzzer.ipynb) and more.\n",
    "But while it is relatively easy to express the _syntax_ of an input using a grammar, there are input properties that _cannot_ be expressed using a grammar.\n",
    "Such input properties are called _semantic_ properties."
   ]
  },
  {
   "cell_type": "markdown",
   "metadata": {
    "slideshow": {
     "slide_type": "subslide"
    }
   },
   "source": [
    "Let us illustrate semantic properties using a simple example.\n",
    "We want to test some system that is configured by two settings, a _page size_ and a _buffer size_. \n",
    "Both these come as integer numbers as part of a human-readable configuration file.\n",
    "The _syntax_ of this file is given by the following grammar:"
   ]
  },
  {
   "cell_type": "code",
   "execution_count": 5,
   "metadata": {
    "execution": {
     "iopub.execute_input": "2022-08-06T16:16:09.139417Z",
     "iopub.status.busy": "2022-08-06T16:16:09.139140Z",
     "iopub.status.idle": "2022-08-06T16:16:09.792280Z",
     "shell.execute_reply": "2022-08-06T16:16:09.792479Z"
    },
    "slideshow": {
     "slide_type": "skip"
    }
   },
   "outputs": [],
   "source": [
    "from Grammars import Grammar, is_valid_grammar, syntax_diagram, crange"
   ]
  },
  {
   "cell_type": "code",
   "execution_count": 6,
   "metadata": {
    "execution": {
     "iopub.execute_input": "2022-08-06T16:16:09.794212Z",
     "iopub.status.busy": "2022-08-06T16:16:09.793901Z",
     "iopub.status.idle": "2022-08-06T16:16:09.795232Z",
     "shell.execute_reply": "2022-08-06T16:16:09.795410Z"
    },
    "slideshow": {
     "slide_type": "skip"
    }
   },
   "outputs": [],
   "source": [
    "import string"
   ]
  },
  {
   "cell_type": "code",
   "execution_count": 7,
   "metadata": {
    "execution": {
     "iopub.execute_input": "2022-08-06T16:16:09.797246Z",
     "iopub.status.busy": "2022-08-06T16:16:09.796958Z",
     "iopub.status.idle": "2022-08-06T16:16:09.798063Z",
     "shell.execute_reply": "2022-08-06T16:16:09.798292Z"
    },
    "slideshow": {
     "slide_type": "subslide"
    }
   },
   "outputs": [],
   "source": [
    "CONFIG_GRAMMAR: Grammar = {\n",
    "    \"<start>\": [\"<config>\"],\n",
    "    \"<config>\": [\n",
    "        \"pagesize=<pagesize>\\n\"\n",
    "        \"bufsize=<bufsize>\"\n",
    "    ],\n",
    "    \"<pagesize>\": [\"<int>\"],\n",
    "    \"<bufsize>\": [\"<int>\"],\n",
    "    \"<int>\": [\"<digit>\", \"<leaddigit><int>\"],\n",
    "    \"<digit>\": list(\"0123456789\"),\n",
    "    \"<leaddigit>\": list(\"123456789\")\n",
    "}"
   ]
  },
  {
   "cell_type": "code",
   "execution_count": 8,
   "metadata": {
    "execution": {
     "iopub.execute_input": "2022-08-06T16:16:09.799856Z",
     "iopub.status.busy": "2022-08-06T16:16:09.799550Z",
     "iopub.status.idle": "2022-08-06T16:16:09.800727Z",
     "shell.execute_reply": "2022-08-06T16:16:09.801036Z"
    },
    "slideshow": {
     "slide_type": "fragment"
    },
    "tags": []
   },
   "outputs": [],
   "source": [
    "assert is_valid_grammar(CONFIG_GRAMMAR)"
   ]
  },
  {
   "cell_type": "markdown",
   "metadata": {
    "slideshow": {
     "slide_type": "fragment"
    }
   },
   "source": [
    "Here's a visualization of this grammar as a railroad diagram, showing its structure:"
   ]
  },
  {
   "cell_type": "code",
   "execution_count": 9,
   "metadata": {
    "execution": {
     "iopub.execute_input": "2022-08-06T16:16:09.803551Z",
     "iopub.status.busy": "2022-08-06T16:16:09.802607Z",
     "iopub.status.idle": "2022-08-06T16:16:09.813850Z",
     "shell.execute_reply": "2022-08-06T16:16:09.814043Z"
    },
    "slideshow": {
     "slide_type": "subslide"
    }
   },
   "outputs": [
    {
     "name": "stdout",
     "output_type": "stream",
     "text": [
      "start\n"
     ]
    },
    {
     "data": {
      "image/svg+xml": [
       "<svg xmlns=\"http://www.w3.org/2000/svg\" class=\"railroad-diagram\" height=\"62\" viewBox=\"0 0 191.0 62\" width=\"191.0\">\n",
       "<g transform=\"translate(.5 .5)\">\n",
       "<style>/* <![CDATA[ */\n",
       "    svg.railroad-diagram {\n",
       "    }\n",
       "    svg.railroad-diagram path {\n",
       "        stroke-width:3;\n",
       "        stroke:black;\n",
       "        fill:white;\n",
       "    }\n",
       "    svg.railroad-diagram text {\n",
       "        font:14px \"Fira Mono\", monospace;\n",
       "        text-anchor:middle;\n",
       "    }\n",
       "    svg.railroad-diagram text.label{\n",
       "        text-anchor:start;\n",
       "    }\n",
       "    svg.railroad-diagram text.comment{\n",
       "        font:italic 12px \"Fira Mono\", monospace;\n",
       "    }\n",
       "    svg.railroad-diagram rect{\n",
       "        stroke-width:2;\n",
       "        stroke:black;\n",
       "        fill:mistyrose;\n",
       "    }\n",
       "\n",
       "/* ]]> */\n",
       "</style><g>\n",
       "<path d=\"M20 21v20m10 -20v20m-10 -10h20\"/></g><g>\n",
       "<path d=\"M40 31h0.0\"/><path d=\"M151.0 31h0.0\"/><path d=\"M40.0 31h20\"/><g>\n",
       "<path d=\"M60.0 31h0.0\"/><path d=\"M131.0 31h0.0\"/><g class=\"non-terminal\">\n",
       "<path d=\"M60.0 31h0.0\"/><path d=\"M131.0 31h0.0\"/><rect height=\"22\" width=\"71.0\" x=\"60.0\" y=\"20\"/><text x=\"95.5\" y=\"35\">config</text></g></g><path d=\"M131.0 31h20\"/></g><path d=\"M 151.0 31 h 20 m -10 -10 v 20 m 10 -20 v 20\"/></g></svg>"
      ],
      "text/plain": [
       "<IPython.core.display.SVG object>"
      ]
     },
     "metadata": {},
     "output_type": "display_data"
    },
    {
     "name": "stdout",
     "output_type": "stream",
     "text": [
      "config\n"
     ]
    },
    {
     "data": {
      "image/svg+xml": [
       "<svg xmlns=\"http://www.w3.org/2000/svg\" class=\"railroad-diagram\" height=\"62\" viewBox=\"0 0 540.5 62\" width=\"540.5\">\n",
       "<g transform=\"translate(.5 .5)\">\n",
       "<style>/* <![CDATA[ */\n",
       "    svg.railroad-diagram {\n",
       "    }\n",
       "    svg.railroad-diagram path {\n",
       "        stroke-width:3;\n",
       "        stroke:black;\n",
       "        fill:white;\n",
       "    }\n",
       "    svg.railroad-diagram text {\n",
       "        font:14px \"Fira Mono\", monospace;\n",
       "        text-anchor:middle;\n",
       "    }\n",
       "    svg.railroad-diagram text.label{\n",
       "        text-anchor:start;\n",
       "    }\n",
       "    svg.railroad-diagram text.comment{\n",
       "        font:italic 12px \"Fira Mono\", monospace;\n",
       "    }\n",
       "    svg.railroad-diagram rect{\n",
       "        stroke-width:2;\n",
       "        stroke:black;\n",
       "        fill:mistyrose;\n",
       "    }\n",
       "\n",
       "/* ]]> */\n",
       "</style><g>\n",
       "<path d=\"M20 21v20m10 -20v20m-10 -10h20\"/></g><g>\n",
       "<path d=\"M40 31h0.0\"/><path d=\"M500.5 31h0.0\"/><path d=\"M40.0 31h20\"/><g>\n",
       "<path d=\"M60.0 31h0.0\"/><path d=\"M480.5 31h0.0\"/><g class=\"terminal\">\n",
       "<path d=\"M60.0 31h0.0\"/><path d=\"M156.5 31h0.0\"/><rect height=\"22\" rx=\"10\" ry=\"10\" width=\"96.5\" x=\"60.0\" y=\"20\"/><text x=\"108.25\" y=\"35\">pagesize=</text></g><path d=\"M156.5 31h10\"/><path d=\"M166.5 31h10\"/><g class=\"non-terminal\">\n",
       "<path d=\"M176.5 31h0.0\"/><path d=\"M264.5 31h0.0\"/><rect height=\"22\" width=\"88.0\" x=\"176.5\" y=\"20\"/><text x=\"220.5\" y=\"35\">pagesize</text></g><path d=\"M264.5 31h10\"/><path d=\"M274.5 31h10\"/><g class=\"terminal\">\n",
       "<path d=\"M284.5 31h0.0\"/><path d=\"M381.0 31h0.0\"/><rect height=\"22\" rx=\"10\" ry=\"10\" width=\"96.5\" x=\"284.5\" y=\"20\"/><text x=\"332.75\" y=\"35\">\n",
       "bufsize=</text></g><path d=\"M381.0 31h10\"/><path d=\"M391.0 31h10\"/><g class=\"non-terminal\">\n",
       "<path d=\"M401.0 31h0.0\"/><path d=\"M480.5 31h0.0\"/><rect height=\"22\" width=\"79.5\" x=\"401.0\" y=\"20\"/><text x=\"440.75\" y=\"35\">bufsize</text></g></g><path d=\"M480.5 31h20\"/></g><path d=\"M 500.5 31 h 20 m -10 -10 v 20 m 10 -20 v 20\"/></g></svg>"
      ],
      "text/plain": [
       "<IPython.core.display.SVG object>"
      ]
     },
     "metadata": {},
     "output_type": "display_data"
    },
    {
     "name": "stdout",
     "output_type": "stream",
     "text": [
      "pagesize\n"
     ]
    },
    {
     "data": {
      "image/svg+xml": [
       "<svg xmlns=\"http://www.w3.org/2000/svg\" class=\"railroad-diagram\" height=\"62\" viewBox=\"0 0 165.5 62\" width=\"165.5\">\n",
       "<g transform=\"translate(.5 .5)\">\n",
       "<style>/* <![CDATA[ */\n",
       "    svg.railroad-diagram {\n",
       "    }\n",
       "    svg.railroad-diagram path {\n",
       "        stroke-width:3;\n",
       "        stroke:black;\n",
       "        fill:white;\n",
       "    }\n",
       "    svg.railroad-diagram text {\n",
       "        font:14px \"Fira Mono\", monospace;\n",
       "        text-anchor:middle;\n",
       "    }\n",
       "    svg.railroad-diagram text.label{\n",
       "        text-anchor:start;\n",
       "    }\n",
       "    svg.railroad-diagram text.comment{\n",
       "        font:italic 12px \"Fira Mono\", monospace;\n",
       "    }\n",
       "    svg.railroad-diagram rect{\n",
       "        stroke-width:2;\n",
       "        stroke:black;\n",
       "        fill:mistyrose;\n",
       "    }\n",
       "\n",
       "/* ]]> */\n",
       "</style><g>\n",
       "<path d=\"M20 21v20m10 -20v20m-10 -10h20\"/></g><g>\n",
       "<path d=\"M40 31h0.0\"/><path d=\"M125.5 31h0.0\"/><path d=\"M40.0 31h20\"/><g>\n",
       "<path d=\"M60.0 31h0.0\"/><path d=\"M105.5 31h0.0\"/><g class=\"non-terminal\">\n",
       "<path d=\"M60.0 31h0.0\"/><path d=\"M105.5 31h0.0\"/><rect height=\"22\" width=\"45.5\" x=\"60.0\" y=\"20\"/><text x=\"82.75\" y=\"35\">int</text></g></g><path d=\"M105.5 31h20\"/></g><path d=\"M 125.5 31 h 20 m -10 -10 v 20 m 10 -20 v 20\"/></g></svg>"
      ],
      "text/plain": [
       "<IPython.core.display.SVG object>"
      ]
     },
     "metadata": {},
     "output_type": "display_data"
    },
    {
     "name": "stdout",
     "output_type": "stream",
     "text": [
      "bufsize\n"
     ]
    },
    {
     "data": {
      "image/svg+xml": [
       "<svg xmlns=\"http://www.w3.org/2000/svg\" class=\"railroad-diagram\" height=\"62\" viewBox=\"0 0 165.5 62\" width=\"165.5\">\n",
       "<g transform=\"translate(.5 .5)\">\n",
       "<style>/* <![CDATA[ */\n",
       "    svg.railroad-diagram {\n",
       "    }\n",
       "    svg.railroad-diagram path {\n",
       "        stroke-width:3;\n",
       "        stroke:black;\n",
       "        fill:white;\n",
       "    }\n",
       "    svg.railroad-diagram text {\n",
       "        font:14px \"Fira Mono\", monospace;\n",
       "        text-anchor:middle;\n",
       "    }\n",
       "    svg.railroad-diagram text.label{\n",
       "        text-anchor:start;\n",
       "    }\n",
       "    svg.railroad-diagram text.comment{\n",
       "        font:italic 12px \"Fira Mono\", monospace;\n",
       "    }\n",
       "    svg.railroad-diagram rect{\n",
       "        stroke-width:2;\n",
       "        stroke:black;\n",
       "        fill:mistyrose;\n",
       "    }\n",
       "\n",
       "/* ]]> */\n",
       "</style><g>\n",
       "<path d=\"M20 21v20m10 -20v20m-10 -10h20\"/></g><g>\n",
       "<path d=\"M40 31h0.0\"/><path d=\"M125.5 31h0.0\"/><path d=\"M40.0 31h20\"/><g>\n",
       "<path d=\"M60.0 31h0.0\"/><path d=\"M105.5 31h0.0\"/><g class=\"non-terminal\">\n",
       "<path d=\"M60.0 31h0.0\"/><path d=\"M105.5 31h0.0\"/><rect height=\"22\" width=\"45.5\" x=\"60.0\" y=\"20\"/><text x=\"82.75\" y=\"35\">int</text></g></g><path d=\"M105.5 31h20\"/></g><path d=\"M 125.5 31 h 20 m -10 -10 v 20 m 10 -20 v 20\"/></g></svg>"
      ],
      "text/plain": [
       "<IPython.core.display.SVG object>"
      ]
     },
     "metadata": {},
     "output_type": "display_data"
    },
    {
     "name": "stdout",
     "output_type": "stream",
     "text": [
      "int\n"
     ]
    },
    {
     "data": {
      "image/svg+xml": [
       "<svg xmlns=\"http://www.w3.org/2000/svg\" class=\"railroad-diagram\" height=\"92\" viewBox=\"0 0 282.0 92\" width=\"282.0\">\n",
       "<g transform=\"translate(.5 .5)\">\n",
       "<style>/* <![CDATA[ */\n",
       "    svg.railroad-diagram {\n",
       "    }\n",
       "    svg.railroad-diagram path {\n",
       "        stroke-width:3;\n",
       "        stroke:black;\n",
       "        fill:white;\n",
       "    }\n",
       "    svg.railroad-diagram text {\n",
       "        font:14px \"Fira Mono\", monospace;\n",
       "        text-anchor:middle;\n",
       "    }\n",
       "    svg.railroad-diagram text.label{\n",
       "        text-anchor:start;\n",
       "    }\n",
       "    svg.railroad-diagram text.comment{\n",
       "        font:italic 12px \"Fira Mono\", monospace;\n",
       "    }\n",
       "    svg.railroad-diagram rect{\n",
       "        stroke-width:2;\n",
       "        stroke:black;\n",
       "        fill:mistyrose;\n",
       "    }\n",
       "\n",
       "/* ]]> */\n",
       "</style><g>\n",
       "<path d=\"M20 51v20m10 -20v20m-10 -10h20\"/></g><g>\n",
       "<path d=\"M40 61h0.0\"/><path d=\"M242.0 61h0.0\"/><path d=\"M40.0 61a10 10 0 0 0 10 -10v-10a10 10 0 0 1 10 -10\"/><g>\n",
       "<path d=\"M60.0 31h49.75\"/><path d=\"M172.25 31h49.75\"/><g class=\"non-terminal\">\n",
       "<path d=\"M109.75 31h0.0\"/><path d=\"M172.25 31h0.0\"/><rect height=\"22\" width=\"62.5\" x=\"109.75\" y=\"20\"/><text x=\"141.0\" y=\"35\">digit</text></g></g><path d=\"M222.0 31a10 10 0 0 1 10 10v10a10 10 0 0 0 10 10\"/><path d=\"M40.0 61h20\"/><g>\n",
       "<path d=\"M60.0 61h0.0\"/><path d=\"M222.0 61h0.0\"/><g class=\"non-terminal\">\n",
       "<path d=\"M60.0 61h0.0\"/><path d=\"M156.5 61h0.0\"/><rect height=\"22\" width=\"96.5\" x=\"60.0\" y=\"50\"/><text x=\"108.25\" y=\"65\">leaddigit</text></g><path d=\"M156.5 61h10\"/><path d=\"M166.5 61h10\"/><g class=\"non-terminal\">\n",
       "<path d=\"M176.5 61h0.0\"/><path d=\"M222.0 61h0.0\"/><rect height=\"22\" width=\"45.5\" x=\"176.5\" y=\"50\"/><text x=\"199.25\" y=\"65\">int</text></g></g><path d=\"M222.0 61h20\"/></g><path d=\"M 242.0 61 h 20 m -10 -10 v 20 m 10 -20 v 20\"/></g></svg>"
      ],
      "text/plain": [
       "<IPython.core.display.SVG object>"
      ]
     },
     "metadata": {},
     "output_type": "display_data"
    },
    {
     "name": "stdout",
     "output_type": "stream",
     "text": [
      "digit\n"
     ]
    },
    {
     "data": {
      "image/svg+xml": [
       "<svg xmlns=\"http://www.w3.org/2000/svg\" class=\"railroad-diagram\" height=\"109\" viewBox=\"0 0 522.5 109\" width=\"522.5\">\n",
       "<g transform=\"translate(.5 .5)\">\n",
       "<style>/* <![CDATA[ */\n",
       "    svg.railroad-diagram {\n",
       "    }\n",
       "    svg.railroad-diagram path {\n",
       "        stroke-width:3;\n",
       "        stroke:black;\n",
       "        fill:white;\n",
       "    }\n",
       "    svg.railroad-diagram text {\n",
       "        font:14px \"Fira Mono\", monospace;\n",
       "        text-anchor:middle;\n",
       "    }\n",
       "    svg.railroad-diagram text.label{\n",
       "        text-anchor:start;\n",
       "    }\n",
       "    svg.railroad-diagram text.comment{\n",
       "        font:italic 12px \"Fira Mono\", monospace;\n",
       "    }\n",
       "    svg.railroad-diagram rect{\n",
       "        stroke-width:2;\n",
       "        stroke:black;\n",
       "        fill:mistyrose;\n",
       "    }\n",
       "\n",
       "/* ]]> */\n",
       "</style><g>\n",
       "<path d=\"M20 59v20m10 -20v20m-10 -10h20\"/></g><g>\n",
       "<path d=\"M40 69h0.0\"/><path d=\"M482.5 69h0.0\"/><path d=\"M40.0 69a10 10 0 0 0 10 -10v-29a10 10 0 0 1 10 -10h324.0\"/><path d=\"M138.5 89h324.0a10 10 0 0 0 10 -10v0a10 10 0 0 1 10 -10\"/><path d=\"M40.0 69h10\"/><g>\n",
       "<path d=\"M50.0 69h0.0\"/><path d=\"M118.5 69h0.0\"/><path d=\"M50.0 69a10 10 0 0 0 10 -10v-10a10 10 0 0 1 10 -10\"/><g>\n",
       "<path d=\"M70.0 39h0.0\"/><path d=\"M98.5 39h0.0\"/><g class=\"terminal\">\n",
       "<path d=\"M70.0 39h0.0\"/><path d=\"M98.5 39h0.0\"/><rect height=\"22\" rx=\"10\" ry=\"10\" width=\"28.5\" x=\"70.0\" y=\"28\"/><text x=\"84.25\" y=\"43\">0</text></g></g><path d=\"M98.5 39a10 10 0 0 1 10 10v10a10 10 0 0 0 10 10\"/><path d=\"M50.0 69h20\"/><g>\n",
       "<path d=\"M70.0 69h0.0\"/><path d=\"M98.5 69h0.0\"/><g class=\"terminal\">\n",
       "<path d=\"M70.0 69h0.0\"/><path d=\"M98.5 69h0.0\"/><rect height=\"22\" rx=\"10\" ry=\"10\" width=\"28.5\" x=\"70.0\" y=\"58\"/><text x=\"84.25\" y=\"73\">1</text></g></g><path d=\"M98.5 69h20\"/></g><path d=\"M118.5 69a10 10 0 0 1 10 10v0a10 10 0 0 0 10 10\"/><path d=\"M118.5 20a10 10 0 0 1 10 10v29a10 10 0 0 0 10 10\"/><g>\n",
       "<path d=\"M138.5 69h0.0\"/><path d=\"M207.0 69h0.0\"/><path d=\"M138.5 69a10 10 0 0 0 10 -10v-10a10 10 0 0 1 10 -10\"/><g>\n",
       "<path d=\"M158.5 39h0.0\"/><path d=\"M187.0 39h0.0\"/><g class=\"terminal\">\n",
       "<path d=\"M158.5 39h0.0\"/><path d=\"M187.0 39h0.0\"/><rect height=\"22\" rx=\"10\" ry=\"10\" width=\"28.5\" x=\"158.5\" y=\"28\"/><text x=\"172.75\" y=\"43\">2</text></g></g><path d=\"M187.0 39a10 10 0 0 1 10 10v10a10 10 0 0 0 10 10\"/><path d=\"M138.5 69h20\"/><g>\n",
       "<path d=\"M158.5 69h0.0\"/><path d=\"M187.0 69h0.0\"/><g class=\"terminal\">\n",
       "<path d=\"M158.5 69h0.0\"/><path d=\"M187.0 69h0.0\"/><rect height=\"22\" rx=\"10\" ry=\"10\" width=\"28.5\" x=\"158.5\" y=\"58\"/><text x=\"172.75\" y=\"73\">3</text></g></g><path d=\"M187.0 69h20\"/></g><path d=\"M207.0 69a10 10 0 0 1 10 10v0a10 10 0 0 0 10 10\"/><path d=\"M207.0 20a10 10 0 0 1 10 10v29a10 10 0 0 0 10 10\"/><g>\n",
       "<path d=\"M227.0 69h0.0\"/><path d=\"M295.5 69h0.0\"/><path d=\"M227.0 69a10 10 0 0 0 10 -10v-10a10 10 0 0 1 10 -10\"/><g>\n",
       "<path d=\"M247.0 39h0.0\"/><path d=\"M275.5 39h0.0\"/><g class=\"terminal\">\n",
       "<path d=\"M247.0 39h0.0\"/><path d=\"M275.5 39h0.0\"/><rect height=\"22\" rx=\"10\" ry=\"10\" width=\"28.5\" x=\"247.0\" y=\"28\"/><text x=\"261.25\" y=\"43\">4</text></g></g><path d=\"M275.5 39a10 10 0 0 1 10 10v10a10 10 0 0 0 10 10\"/><path d=\"M227.0 69h20\"/><g>\n",
       "<path d=\"M247.0 69h0.0\"/><path d=\"M275.5 69h0.0\"/><g class=\"terminal\">\n",
       "<path d=\"M247.0 69h0.0\"/><path d=\"M275.5 69h0.0\"/><rect height=\"22\" rx=\"10\" ry=\"10\" width=\"28.5\" x=\"247.0\" y=\"58\"/><text x=\"261.25\" y=\"73\">5</text></g></g><path d=\"M275.5 69h20\"/></g><path d=\"M295.5 69a10 10 0 0 1 10 10v0a10 10 0 0 0 10 10\"/><path d=\"M295.5 20a10 10 0 0 1 10 10v29a10 10 0 0 0 10 10\"/><g>\n",
       "<path d=\"M315.5 69h0.0\"/><path d=\"M384.0 69h0.0\"/><path d=\"M315.5 69a10 10 0 0 0 10 -10v-10a10 10 0 0 1 10 -10\"/><g>\n",
       "<path d=\"M335.5 39h0.0\"/><path d=\"M364.0 39h0.0\"/><g class=\"terminal\">\n",
       "<path d=\"M335.5 39h0.0\"/><path d=\"M364.0 39h0.0\"/><rect height=\"22\" rx=\"10\" ry=\"10\" width=\"28.5\" x=\"335.5\" y=\"28\"/><text x=\"349.75\" y=\"43\">6</text></g></g><path d=\"M364.0 39a10 10 0 0 1 10 10v10a10 10 0 0 0 10 10\"/><path d=\"M315.5 69h20\"/><g>\n",
       "<path d=\"M335.5 69h0.0\"/><path d=\"M364.0 69h0.0\"/><g class=\"terminal\">\n",
       "<path d=\"M335.5 69h0.0\"/><path d=\"M364.0 69h0.0\"/><rect height=\"22\" rx=\"10\" ry=\"10\" width=\"28.5\" x=\"335.5\" y=\"58\"/><text x=\"349.75\" y=\"73\">7</text></g></g><path d=\"M364.0 69h20\"/></g><path d=\"M384.0 69a10 10 0 0 1 10 10v0a10 10 0 0 0 10 10\"/><path d=\"M384.0 20a10 10 0 0 1 10 10v29a10 10 0 0 0 10 10\"/><g>\n",
       "<path d=\"M404.0 69h0.0\"/><path d=\"M472.5 69h0.0\"/><path d=\"M404.0 69a10 10 0 0 0 10 -10v-10a10 10 0 0 1 10 -10\"/><g>\n",
       "<path d=\"M424.0 39h0.0\"/><path d=\"M452.5 39h0.0\"/><g class=\"terminal\">\n",
       "<path d=\"M424.0 39h0.0\"/><path d=\"M452.5 39h0.0\"/><rect height=\"22\" rx=\"10\" ry=\"10\" width=\"28.5\" x=\"424.0\" y=\"28\"/><text x=\"438.25\" y=\"43\">8</text></g></g><path d=\"M452.5 39a10 10 0 0 1 10 10v10a10 10 0 0 0 10 10\"/><path d=\"M404.0 69h20\"/><g>\n",
       "<path d=\"M424.0 69h0.0\"/><path d=\"M452.5 69h0.0\"/><g class=\"terminal\">\n",
       "<path d=\"M424.0 69h0.0\"/><path d=\"M452.5 69h0.0\"/><rect height=\"22\" rx=\"10\" ry=\"10\" width=\"28.5\" x=\"424.0\" y=\"58\"/><text x=\"438.25\" y=\"73\">9</text></g></g><path d=\"M452.5 69h20\"/></g><path d=\"M472.5 69h10\"/></g><path d=\"M 482.5 69 h 20 m -10 -10 v 20 m 10 -20 v 20\"/></g></svg>"
      ],
      "text/plain": [
       "<IPython.core.display.SVG object>"
      ]
     },
     "metadata": {},
     "output_type": "display_data"
    },
    {
     "name": "stdout",
     "output_type": "stream",
     "text": [
      "leaddigit\n"
     ]
    },
    {
     "data": {
      "image/svg+xml": [
       "<svg xmlns=\"http://www.w3.org/2000/svg\" class=\"railroad-diagram\" height=\"80\" viewBox=\"0 0 876.5 80\" width=\"876.5\">\n",
       "<g transform=\"translate(.5 .5)\">\n",
       "<style>/* <![CDATA[ */\n",
       "    svg.railroad-diagram {\n",
       "    }\n",
       "    svg.railroad-diagram path {\n",
       "        stroke-width:3;\n",
       "        stroke:black;\n",
       "        fill:white;\n",
       "    }\n",
       "    svg.railroad-diagram text {\n",
       "        font:14px \"Fira Mono\", monospace;\n",
       "        text-anchor:middle;\n",
       "    }\n",
       "    svg.railroad-diagram text.label{\n",
       "        text-anchor:start;\n",
       "    }\n",
       "    svg.railroad-diagram text.comment{\n",
       "        font:italic 12px \"Fira Mono\", monospace;\n",
       "    }\n",
       "    svg.railroad-diagram rect{\n",
       "        stroke-width:2;\n",
       "        stroke:black;\n",
       "        fill:mistyrose;\n",
       "    }\n",
       "\n",
       "/* ]]> */\n",
       "</style><g>\n",
       "<path d=\"M20 30v20m10 -20v20m-10 -10h20\"/></g><g>\n",
       "<path d=\"M40 40h0.0\"/><path d=\"M836.5 40h0.0\"/><path d=\"M40.0 40a10 10 0 0 0 10 -10v0a10 10 0 0 1 10 -10h678.0\"/><path d=\"M138.5 60h678.0a10 10 0 0 0 10 -10v0a10 10 0 0 1 10 -10\"/><path d=\"M40.0 40h10\"/><g>\n",
       "<path d=\"M50.0 40h0.0\"/><path d=\"M118.5 40h0.0\"/><path d=\"M50.0 40h20\"/><g>\n",
       "<path d=\"M70.0 40h0.0\"/><path d=\"M98.5 40h0.0\"/><g class=\"terminal\">\n",
       "<path d=\"M70.0 40h0.0\"/><path d=\"M98.5 40h0.0\"/><rect height=\"22\" rx=\"10\" ry=\"10\" width=\"28.5\" x=\"70.0\" y=\"29\"/><text x=\"84.25\" y=\"44\">1</text></g></g><path d=\"M98.5 40h20\"/></g><path d=\"M118.5 40a10 10 0 0 1 10 10v0a10 10 0 0 0 10 10\"/><path d=\"M118.5 20a10 10 0 0 1 10 10v0a10 10 0 0 0 10 10\"/><g>\n",
       "<path d=\"M138.5 40h0.0\"/><path d=\"M207.0 40h0.0\"/><path d=\"M138.5 40h20\"/><g>\n",
       "<path d=\"M158.5 40h0.0\"/><path d=\"M187.0 40h0.0\"/><g class=\"terminal\">\n",
       "<path d=\"M158.5 40h0.0\"/><path d=\"M187.0 40h0.0\"/><rect height=\"22\" rx=\"10\" ry=\"10\" width=\"28.5\" x=\"158.5\" y=\"29\"/><text x=\"172.75\" y=\"44\">2</text></g></g><path d=\"M187.0 40h20\"/></g><path d=\"M207.0 40a10 10 0 0 1 10 10v0a10 10 0 0 0 10 10\"/><path d=\"M207.0 20a10 10 0 0 1 10 10v0a10 10 0 0 0 10 10\"/><g>\n",
       "<path d=\"M227.0 40h0.0\"/><path d=\"M295.5 40h0.0\"/><path d=\"M227.0 40h20\"/><g>\n",
       "<path d=\"M247.0 40h0.0\"/><path d=\"M275.5 40h0.0\"/><g class=\"terminal\">\n",
       "<path d=\"M247.0 40h0.0\"/><path d=\"M275.5 40h0.0\"/><rect height=\"22\" rx=\"10\" ry=\"10\" width=\"28.5\" x=\"247.0\" y=\"29\"/><text x=\"261.25\" y=\"44\">3</text></g></g><path d=\"M275.5 40h20\"/></g><path d=\"M295.5 40a10 10 0 0 1 10 10v0a10 10 0 0 0 10 10\"/><path d=\"M295.5 20a10 10 0 0 1 10 10v0a10 10 0 0 0 10 10\"/><g>\n",
       "<path d=\"M315.5 40h0.0\"/><path d=\"M384.0 40h0.0\"/><path d=\"M315.5 40h20\"/><g>\n",
       "<path d=\"M335.5 40h0.0\"/><path d=\"M364.0 40h0.0\"/><g class=\"terminal\">\n",
       "<path d=\"M335.5 40h0.0\"/><path d=\"M364.0 40h0.0\"/><rect height=\"22\" rx=\"10\" ry=\"10\" width=\"28.5\" x=\"335.5\" y=\"29\"/><text x=\"349.75\" y=\"44\">4</text></g></g><path d=\"M364.0 40h20\"/></g><path d=\"M384.0 40a10 10 0 0 1 10 10v0a10 10 0 0 0 10 10\"/><path d=\"M384.0 20a10 10 0 0 1 10 10v0a10 10 0 0 0 10 10\"/><g>\n",
       "<path d=\"M404.0 40h0.0\"/><path d=\"M472.5 40h0.0\"/><path d=\"M404.0 40h20\"/><g>\n",
       "<path d=\"M424.0 40h0.0\"/><path d=\"M452.5 40h0.0\"/><g class=\"terminal\">\n",
       "<path d=\"M424.0 40h0.0\"/><path d=\"M452.5 40h0.0\"/><rect height=\"22\" rx=\"10\" ry=\"10\" width=\"28.5\" x=\"424.0\" y=\"29\"/><text x=\"438.25\" y=\"44\">5</text></g></g><path d=\"M452.5 40h20\"/></g><path d=\"M472.5 40a10 10 0 0 1 10 10v0a10 10 0 0 0 10 10\"/><path d=\"M472.5 20a10 10 0 0 1 10 10v0a10 10 0 0 0 10 10\"/><g>\n",
       "<path d=\"M492.5 40h0.0\"/><path d=\"M561.0 40h0.0\"/><path d=\"M492.5 40h20\"/><g>\n",
       "<path d=\"M512.5 40h0.0\"/><path d=\"M541.0 40h0.0\"/><g class=\"terminal\">\n",
       "<path d=\"M512.5 40h0.0\"/><path d=\"M541.0 40h0.0\"/><rect height=\"22\" rx=\"10\" ry=\"10\" width=\"28.5\" x=\"512.5\" y=\"29\"/><text x=\"526.75\" y=\"44\">6</text></g></g><path d=\"M541.0 40h20\"/></g><path d=\"M561.0 40a10 10 0 0 1 10 10v0a10 10 0 0 0 10 10\"/><path d=\"M561.0 20a10 10 0 0 1 10 10v0a10 10 0 0 0 10 10\"/><g>\n",
       "<path d=\"M581.0 40h0.0\"/><path d=\"M649.5 40h0.0\"/><path d=\"M581.0 40h20\"/><g>\n",
       "<path d=\"M601.0 40h0.0\"/><path d=\"M629.5 40h0.0\"/><g class=\"terminal\">\n",
       "<path d=\"M601.0 40h0.0\"/><path d=\"M629.5 40h0.0\"/><rect height=\"22\" rx=\"10\" ry=\"10\" width=\"28.5\" x=\"601.0\" y=\"29\"/><text x=\"615.25\" y=\"44\">7</text></g></g><path d=\"M629.5 40h20\"/></g><path d=\"M649.5 40a10 10 0 0 1 10 10v0a10 10 0 0 0 10 10\"/><path d=\"M649.5 20a10 10 0 0 1 10 10v0a10 10 0 0 0 10 10\"/><g>\n",
       "<path d=\"M669.5 40h0.0\"/><path d=\"M738.0 40h0.0\"/><path d=\"M669.5 40h20\"/><g>\n",
       "<path d=\"M689.5 40h0.0\"/><path d=\"M718.0 40h0.0\"/><g class=\"terminal\">\n",
       "<path d=\"M689.5 40h0.0\"/><path d=\"M718.0 40h0.0\"/><rect height=\"22\" rx=\"10\" ry=\"10\" width=\"28.5\" x=\"689.5\" y=\"29\"/><text x=\"703.75\" y=\"44\">8</text></g></g><path d=\"M718.0 40h20\"/></g><path d=\"M738.0 40a10 10 0 0 1 10 10v0a10 10 0 0 0 10 10\"/><path d=\"M738.0 20a10 10 0 0 1 10 10v0a10 10 0 0 0 10 10\"/><g>\n",
       "<path d=\"M758.0 40h0.0\"/><path d=\"M826.5 40h0.0\"/><path d=\"M758.0 40h20\"/><g>\n",
       "<path d=\"M778.0 40h0.0\"/><path d=\"M806.5 40h0.0\"/><g class=\"terminal\">\n",
       "<path d=\"M778.0 40h0.0\"/><path d=\"M806.5 40h0.0\"/><rect height=\"22\" rx=\"10\" ry=\"10\" width=\"28.5\" x=\"778.0\" y=\"29\"/><text x=\"792.25\" y=\"44\">9</text></g></g><path d=\"M806.5 40h20\"/></g><path d=\"M826.5 40h10\"/></g><path d=\"M 836.5 40 h 20 m -10 -10 v 20 m 10 -20 v 20\"/></g></svg>"
      ],
      "text/plain": [
       "<IPython.core.display.SVG object>"
      ]
     },
     "metadata": {},
     "output_type": "display_data"
    }
   ],
   "source": [
    "# ignore\n",
    "syntax_diagram(CONFIG_GRAMMAR)"
   ]
  },
  {
   "cell_type": "markdown",
   "metadata": {
    "slideshow": {
     "slide_type": "subslide"
    }
   },
   "source": [
    "Using this grammar, we can now use any of our grammar-based fuzzers to generate valid inputs.\n",
    "For instance:"
   ]
  },
  {
   "cell_type": "code",
   "execution_count": 10,
   "metadata": {
    "execution": {
     "iopub.execute_input": "2022-08-06T16:16:09.816032Z",
     "iopub.status.busy": "2022-08-06T16:16:09.815695Z",
     "iopub.status.idle": "2022-08-06T16:16:09.848693Z",
     "shell.execute_reply": "2022-08-06T16:16:09.848936Z"
    },
    "slideshow": {
     "slide_type": "skip"
    }
   },
   "outputs": [],
   "source": [
    "from GrammarFuzzer import GrammarFuzzer, DerivationTree"
   ]
  },
  {
   "cell_type": "code",
   "execution_count": 11,
   "metadata": {
    "execution": {
     "iopub.execute_input": "2022-08-06T16:16:09.851375Z",
     "iopub.status.busy": "2022-08-06T16:16:09.851072Z",
     "iopub.status.idle": "2022-08-06T16:16:09.852453Z",
     "shell.execute_reply": "2022-08-06T16:16:09.852638Z"
    },
    "slideshow": {
     "slide_type": "fragment"
    }
   },
   "outputs": [],
   "source": [
    "fuzzer = GrammarFuzzer(CONFIG_GRAMMAR)"
   ]
  },
  {
   "cell_type": "code",
   "execution_count": 12,
   "metadata": {
    "execution": {
     "iopub.execute_input": "2022-08-06T16:16:09.856833Z",
     "iopub.status.busy": "2022-08-06T16:16:09.856539Z",
     "iopub.status.idle": "2022-08-06T16:16:09.857664Z",
     "shell.execute_reply": "2022-08-06T16:16:09.857844Z"
    },
    "slideshow": {
     "slide_type": "subslide"
    }
   },
   "outputs": [
    {
     "name": "stdout",
     "output_type": "stream",
     "text": [
      "0\n",
      "pagesize=5\n",
      "bufsize=7\n",
      "1\n",
      "pagesize=949\n",
      "bufsize=1\n",
      "2\n",
      "pagesize=3\n",
      "bufsize=7\n",
      "3\n",
      "pagesize=89\n",
      "bufsize=597\n",
      "4\n",
      "pagesize=9\n",
      "bufsize=0\n",
      "5\n",
      "pagesize=35\n",
      "bufsize=222\n",
      "6\n",
      "pagesize=0\n",
      "bufsize=3\n",
      "7\n",
      "pagesize=1\n",
      "bufsize=58\n",
      "8\n",
      "pagesize=351\n",
      "bufsize=1\n",
      "9\n",
      "pagesize=0\n",
      "bufsize=42\n"
     ]
    }
   ],
   "source": [
    "for i in range(10):\n",
    "    print(i)\n",
    "    print(fuzzer.fuzz())"
   ]
  },
  {
   "cell_type": "markdown",
   "metadata": {
    "slideshow": {
     "slide_type": "subslide"
    }
   },
   "source": [
    "So far, so good - and indeed, these random values will help us test our (hypothetical) system.\n",
    "But what if we want to _control_ these values further, putting our system to the test?"
   ]
  },
  {
   "cell_type": "markdown",
   "metadata": {
    "slideshow": {
     "slide_type": "subslide"
    }
   },
   "source": [
    "A grammar gives us _some_ control. If we want to ensure a page size of at least 100,000, for instance, a rule like\n",
    "```python\n",
    "\"<bufsize>\": [\"<leaddigit><digit><digit><digit><digit><digit>\"]\n",
    "```\n",
    "would do the job.\n",
    "We could also express that the page size should be an odd number, by having it end in an odd digit.\n",
    "But if we want to state that the page size should be, say, a multiple of 8, or larger or less than the buffer size, we are out of luck."
   ]
  },
  {
   "cell_type": "markdown",
   "metadata": {
    "slideshow": {
     "slide_type": "subslide"
    }
   },
   "source": [
    "In the [chapter on fuzzing with generators](GeneratorGrammarFuzzer.ipynb), we have seen how to attach _program code_ to individual rules - program code that would either _generate_ individual elements right away or _filter_ only these that satisfy specific conditions."
   ]
  },
  {
   "cell_type": "markdown",
   "metadata": {
    "slideshow": {
     "slide_type": "subslide"
    }
   },
   "source": [
    "Attaching code makes things very flexible, but also has several disadvantages:\n",
    "\n",
    "* First, it is pretty hard to generate inputs that satisfy multiple constraints at once.\n",
    "In essence, you have to code your own _strategy_ for generating inputs, which at some point negates the advantage of having an abstract representation such as a grammar.\n",
    "* Second, your code is not portable. While a grammar can be easily adapted to _any_ grammar-based fuzzer, adding, say, Python code, ties you to the Python environment forever.\n",
    "* Third, program code can only be used for _producing_ inputs or _checking_ inputs, but not both. This, again, is a downside compared to a pure grammar representation."
   ]
  },
  {
   "cell_type": "markdown",
   "metadata": {
    "slideshow": {
     "slide_type": "subslide"
    }
   },
   "source": [
    "Another, very general solution to this problem would be to use _unrestricted_ grammars rather than the _context-free_ grammars we have used so far.\n",
    "In an unrestricted grammar, one can have multiple symbols also on the left hand side of an expansion rule, making them very flexible.\n",
    "In fact, they are _Turing-universal_, meaning that they can express any feature that could also be expressed in program code; and they could thus check and produce arbitrary strings with arbitrary features. (If they finish, that is – unrestricted grammars also suffer from the halting problem.)"
   ]
  },
  {
   "cell_type": "markdown",
   "metadata": {
    "slideshow": {
     "slide_type": "fragment"
    }
   },
   "source": [
    "The downside is that there is literally no programming support for unrestricted grammars – we'd have to implement all of arithmetics, strings, and other functionality from scratch in a grammar, which is - well - not fun."
   ]
  },
  {
   "cell_type": "markdown",
   "metadata": {
    "slideshow": {
     "slide_type": "slide"
    }
   },
   "source": [
    "## Specifying Constraints"
   ]
  },
  {
   "cell_type": "markdown",
   "metadata": {
    "slideshow": {
     "slide_type": "fragment"
    }
   },
   "source": [
    "In recent work, Dominic Steinhöfel and Andreas Zeller (one of the authors of this book) have presented an infrastructure that allows to produce inputs with _arbitrary properties_, but without having to go through the trouble of implementing producers or checkers.\n",
    "Instead, they suggest a dedicated _language_ for specifiying inputs, named _ISLa_ (for input specification language).\n",
    "_ISLa_ combines a standard context-free _grammar_ with _constraints_ that express _semantic_ properties of the inputs and their elements.\n",
    "ISLa can be used as a _fuzzer_ (producing inputs that satisfy the constraints) as well as a _checker_ (checking inputs whether they satisfy the given constraints)."
   ]
  },
  {
   "cell_type": "markdown",
   "metadata": {
    "slideshow": {
     "slide_type": "subslide"
    }
   },
   "source": [
    "Let us illustrate ISLa by example. ISLa comes as a Python package named `isla-solver` that can be easily installed using `pip`:\n",
    "\n",
    "```shell\n",
    "$ pip install isla-solver\n",
    "```\n",
    "\n",
    "This also installs all dependent packages (such as `fuzzingbook`, for instance)."
   ]
  },
  {
   "cell_type": "markdown",
   "metadata": {
    "slideshow": {
     "slide_type": "fragment"
    }
   },
   "source": [
    "The core of ISLa is the _ISLa Solver_ – the component that actually _solves_ constraints to produce satisfying inputs."
   ]
  },
  {
   "cell_type": "code",
   "execution_count": 13,
   "metadata": {
    "execution": {
     "iopub.execute_input": "2022-08-06T16:16:09.860356Z",
     "iopub.status.busy": "2022-08-06T16:16:09.859921Z",
     "iopub.status.idle": "2022-08-06T16:16:09.861681Z",
     "shell.execute_reply": "2022-08-06T16:16:09.861954Z"
    },
    "slideshow": {
     "slide_type": "skip"
    }
   },
   "outputs": [],
   "source": [
    "import isla  # type: ignore"
   ]
  },
  {
   "cell_type": "code",
   "execution_count": 14,
   "metadata": {
    "execution": {
     "iopub.execute_input": "2022-08-06T16:16:09.863825Z",
     "iopub.status.busy": "2022-08-06T16:16:09.863490Z",
     "iopub.status.idle": "2022-08-06T16:16:09.903117Z",
     "shell.execute_reply": "2022-08-06T16:16:09.903384Z"
    },
    "slideshow": {
     "slide_type": "skip"
    }
   },
   "outputs": [],
   "source": [
    "from isla.solver import ISLaSolver  # type: ignore"
   ]
  },
  {
   "cell_type": "markdown",
   "metadata": {
    "slideshow": {
     "slide_type": "subslide"
    }
   },
   "source": [
    "The constructor of an `ISLASolver` takes two mandatory arguments.\n",
    "* The _grammar_ is the grammar the solver should produce inputs from.\n",
    "* The _constraint_ is the constraint the produced inputs should satisfy."
   ]
  },
  {
   "cell_type": "markdown",
   "metadata": {
    "slideshow": {
     "slide_type": "fragment"
    }
   },
   "source": [
    "To express a constraint, we have a variety of _functions_ and _predicates_ at our disposition.\n",
    "These can be applied to individual elements of the grammar, notably their nonterminals.\n",
    "The function `str.len()`, for instance, returns the length of a string.\n",
    "If we want to have inputs in which the page size has at least 6 digits, we can write:"
   ]
  },
  {
   "cell_type": "code",
   "execution_count": 15,
   "metadata": {
    "execution": {
     "iopub.execute_input": "2022-08-06T16:16:09.914099Z",
     "iopub.status.busy": "2022-08-06T16:16:09.913644Z",
     "iopub.status.idle": "2022-08-06T16:16:09.920089Z",
     "shell.execute_reply": "2022-08-06T16:16:09.920361Z"
    },
    "slideshow": {
     "slide_type": "fragment"
    }
   },
   "outputs": [],
   "source": [
    "solver = ISLaSolver(CONFIG_GRAMMAR, 'str.len(<pagesize>) >= 6')"
   ]
  },
  {
   "cell_type": "markdown",
   "metadata": {
    "slideshow": {
     "slide_type": "subslide"
    }
   },
   "source": [
    "The method `solve()` returns an iterator over all produced strings from the ISLa solver. To get these inputs, we can thus write"
   ]
  },
  {
   "cell_type": "code",
   "execution_count": 16,
   "metadata": {
    "execution": {
     "iopub.execute_input": "2022-08-06T16:16:09.922429Z",
     "iopub.status.busy": "2022-08-06T16:16:09.922081Z",
     "iopub.status.idle": "2022-08-06T16:16:10.915624Z",
     "shell.execute_reply": "2022-08-06T16:16:10.916128Z"
    },
    "slideshow": {
     "slide_type": "subslide"
    }
   },
   "outputs": [
    {
     "name": "stdout",
     "output_type": "stream",
     "text": [
      "0\n",
      "pagesize=842420\n",
      "bufsize=2\n",
      "1\n",
      "pagesize=448420\n",
      "bufsize=99\n",
      "2\n",
      "pagesize=824480\n",
      "bufsize=4\n",
      "3\n",
      "pagesize=828210\n",
      "bufsize=6\n",
      "4\n",
      "pagesize=842810\n",
      "bufsize=2\n",
      "5\n",
      "pagesize=824280\n",
      "bufsize=90\n",
      "6\n",
      "pagesize=822810\n",
      "bufsize=1\n",
      "7\n",
      "pagesize=442280\n",
      "bufsize=81\n",
      "8\n",
      "pagesize=828820\n",
      "bufsize=4\n",
      "9\n",
      "pagesize=822280\n",
      "bufsize=5\n"
     ]
    }
   ],
   "source": [
    "for i in range(10):\n",
    "    print(i)\n",
    "    print(next(solver.solve()))   "
   ]
  },
  {
   "cell_type": "markdown",
   "metadata": {
    "slideshow": {
     "slide_type": "subslide"
    }
   },
   "source": [
    "... and we see that, indeed, each page size has exactly six digits."
   ]
  },
  {
   "cell_type": "markdown",
   "metadata": {
    "slideshow": {
     "slide_type": "fragment"
    }
   },
   "source": [
    "To express a minimum numeric value, however, we can use a more elegant way.\n",
    "The function `str.to_int()`, for instance, converts a string into an integer.\n",
    "To obtain a page size that of at least 100000, we can thus also write"
   ]
  },
  {
   "cell_type": "code",
   "execution_count": 17,
   "metadata": {
    "execution": {
     "iopub.execute_input": "2022-08-06T16:16:10.921161Z",
     "iopub.status.busy": "2022-08-06T16:16:10.920805Z",
     "iopub.status.idle": "2022-08-06T16:16:12.355236Z",
     "shell.execute_reply": "2022-08-06T16:16:12.355492Z"
    },
    "slideshow": {
     "slide_type": "fragment"
    }
   },
   "outputs": [
    {
     "name": "stdout",
     "output_type": "stream",
     "text": [
      "pagesize=9929220\n",
      "bufsize=10\n"
     ]
    }
   ],
   "source": [
    "solver = ISLaSolver(CONFIG_GRAMMAR, 'str.to.int(<pagesize>) >= 100000')\n",
    "print(next(solver.solve()))"
   ]
  },
  {
   "cell_type": "markdown",
   "metadata": {
    "slideshow": {
     "slide_type": "fragment"
    }
   },
   "source": [
    "If we want the page size to be in the range of 100 to 200, we can state this as a logical conjunction (using `and`)"
   ]
  },
  {
   "cell_type": "code",
   "execution_count": 18,
   "metadata": {
    "execution": {
     "iopub.execute_input": "2022-08-06T16:16:12.360957Z",
     "iopub.status.busy": "2022-08-06T16:16:12.360655Z",
     "iopub.status.idle": "2022-08-06T16:16:13.411365Z",
     "shell.execute_reply": "2022-08-06T16:16:13.411606Z"
    },
    "slideshow": {
     "slide_type": "subslide"
    }
   },
   "outputs": [
    {
     "name": "stdout",
     "output_type": "stream",
     "text": [
      "pagesize=114\n",
      "bufsize=31\n"
     ]
    }
   ],
   "source": [
    "solver = ISLaSolver(CONFIG_GRAMMAR, \n",
    "                    '''\n",
    "                    str.to.int(<pagesize>) >= 100 and \n",
    "                    str.to.int(<pagesize>) <= 200\n",
    "                    ''')\n",
    "print(next(solver.solve()))"
   ]
  },
  {
   "cell_type": "markdown",
   "metadata": {
    "slideshow": {
     "slide_type": "fragment"
    }
   },
   "source": [
    "And if we want the page size to be a multiple of seven, we can write"
   ]
  },
  {
   "cell_type": "code",
   "execution_count": 19,
   "metadata": {
    "execution": {
     "iopub.execute_input": "2022-08-06T16:16:13.416243Z",
     "iopub.status.busy": "2022-08-06T16:16:13.415900Z",
     "iopub.status.idle": "2022-08-06T16:16:14.520074Z",
     "shell.execute_reply": "2022-08-06T16:16:14.520304Z"
    },
    "slideshow": {
     "slide_type": "subslide"
    }
   },
   "outputs": [
    {
     "name": "stderr",
     "output_type": "stream",
     "text": [
      "Evaluation of expression StrToInt(\"7\")%7 not implemented.\n",
      "Evaluation of expression StrToInt(\"0\")%7 not implemented.\n",
      "Evaluation of expression StrToInt(\"63\")%7 not implemented.\n",
      "Evaluation of expression StrToInt(\"70\")%7 not implemented.\n",
      "Evaluation of expression StrToInt(\"56\")%7 not implemented.\n",
      "Evaluation of expression StrToInt(\"14\")%7 not implemented.\n",
      "Evaluation of expression StrToInt(\"77\")%7 not implemented.\n",
      "Evaluation of expression StrToInt(\"28\")%7 not implemented.\n",
      "Evaluation of expression StrToInt(\"42\")%7 not implemented.\n",
      "Evaluation of expression StrToInt(\"49\")%7 not implemented.\n"
     ]
    },
    {
     "name": "stdout",
     "output_type": "stream",
     "text": [
      "pagesize=63\n",
      "bufsize=0\n"
     ]
    }
   ],
   "source": [
    "solver = ISLaSolver(CONFIG_GRAMMAR, \n",
    "                    '''\n",
    "                    (= (mod (str.to.int <pagesize>) 7) 0)\n",
    "                    ''')\n",
    "print(next(solver.solve()))"
   ]
  },
  {
   "cell_type": "markdown",
   "metadata": {
    "slideshow": {
     "slide_type": "subslide"
    }
   },
   "source": [
    "* FIXME: How do I write this in infix syntax?\n",
    "* FIXME: Suppress warnings unless relevant for the user"
   ]
  },
  {
   "cell_type": "markdown",
   "metadata": {
    "slideshow": {
     "slide_type": "fragment"
    }
   },
   "source": [
    "ISLa constraints can also involve multiple elements. Expressing equality between two elements is easy:"
   ]
  },
  {
   "cell_type": "code",
   "execution_count": 20,
   "metadata": {
    "execution": {
     "iopub.execute_input": "2022-08-06T16:16:14.524081Z",
     "iopub.status.busy": "2022-08-06T16:16:14.523778Z",
     "iopub.status.idle": "2022-08-06T16:16:16.351315Z",
     "shell.execute_reply": "2022-08-06T16:16:16.351576Z"
    },
    "slideshow": {
     "slide_type": "fragment"
    }
   },
   "outputs": [
    {
     "name": "stdout",
     "output_type": "stream",
     "text": [
      "pagesize=0\n",
      "bufsize=0\n"
     ]
    }
   ],
   "source": [
    "solver = ISLaSolver(CONFIG_GRAMMAR, \n",
    "                    '''\n",
    "                    <pagesize> = <bufsize>\n",
    "                    ''')\n",
    "print(next(solver.solve()))"
   ]
  },
  {
   "cell_type": "markdown",
   "metadata": {
    "slideshow": {
     "slide_type": "fragment"
    }
   },
   "source": [
    "We can also use numerical constraints, stating that the buffer size should always be exactly one more than the page size:"
   ]
  },
  {
   "cell_type": "code",
   "execution_count": 21,
   "metadata": {
    "execution": {
     "iopub.execute_input": "2022-08-06T16:16:16.359481Z",
     "iopub.status.busy": "2022-08-06T16:16:16.359137Z",
     "iopub.status.idle": "2022-08-06T16:16:18.739492Z",
     "shell.execute_reply": "2022-08-06T16:16:18.739737Z"
    },
    "slideshow": {
     "slide_type": "subslide"
    }
   },
   "outputs": [
    {
     "name": "stdout",
     "output_type": "stream",
     "text": [
      "pagesize=5122\n",
      "bufsize=5123\n"
     ]
    }
   ],
   "source": [
    "solver = ISLaSolver(CONFIG_GRAMMAR, \n",
    "                    '''\n",
    "                    str.to.int(<pagesize>) > 1024 and\n",
    "                    str.to.int(<bufsize>) = str.to.int(<pagesize>) + 1\n",
    "                    ''')\n",
    "print(next(solver.solve()))"
   ]
  },
  {
   "cell_type": "markdown",
   "metadata": {
    "slideshow": {
     "slide_type": "subslide"
    }
   },
   "source": [
    "All the above functions (like `str.to.int`) actually stem from the _SMT-LIB_ library for _satisfiability modulo theories_ (SMT), a standard for expressing constraints for constraint solvers (like ISLa).\n",
    "The [list of all theories defined in SMT-LIB](https://smtlib.cs.uiowa.edu/theories.shtml) lists dozens of functions and predicates that can be used in ISLa constraints."
   ]
  },
  {
   "cell_type": "markdown",
   "metadata": {
    "slideshow": {
     "slide_type": "subslide"
    },
    "tags": []
   },
   "source": [
    "### Excursion: Using SMT-LIB Syntax"
   ]
  },
  {
   "cell_type": "markdown",
   "metadata": {
    "slideshow": {
     "slide_type": "fragment"
    }
   },
   "source": [
    "Instead of the above \"infix\" syntax which is familiar to programmers, ISLa also supports full SMT-LIB syntax.\n",
    "Instead of writing $f(x_1, x_2, x_3, \\dots)$ for a function $f$ and its arguments $x_1 \\dots x_n$, SMT-LIB uses a \"prefix\" LISP-like syntax in which all functions and operators are written as $(f x_1 x_2 x_3 \\dots)$.\n",
    "The above predicate would thus be written as"
   ]
  },
  {
   "cell_type": "code",
   "execution_count": 22,
   "metadata": {
    "execution": {
     "iopub.execute_input": "2022-08-06T16:16:18.744266Z",
     "iopub.status.busy": "2022-08-06T16:16:18.743972Z",
     "iopub.status.idle": "2022-08-06T16:16:21.163230Z",
     "shell.execute_reply": "2022-08-06T16:16:21.163469Z"
    },
    "slideshow": {
     "slide_type": "subslide"
    }
   },
   "outputs": [
    {
     "name": "stdout",
     "output_type": "stream",
     "text": [
      "pagesize=1916\n",
      "bufsize=1917\n"
     ]
    }
   ],
   "source": [
    "solver = ISLaSolver(CONFIG_GRAMMAR, \n",
    "                '''\n",
    "                (> (str.to.int <pagesize>) 1024)\n",
    "                and\n",
    "                (= (str.to.int <bufsize>) (+ (str.to.int <pagesize>) 1))\n",
    "                ''')\n",
    "print(next(solver.solve()))"
   ]
  },
  {
   "cell_type": "markdown",
   "metadata": {
    "slideshow": {
     "slide_type": "fragment"
    }
   },
   "source": [
    "Note that for boolean operators such as `and`, we still use the ISLa infix syntax; having ISLa handle these operators is more efficient than passing them on to the constraint solver."
   ]
  },
  {
   "cell_type": "markdown",
   "metadata": {
    "slideshow": {
     "slide_type": "fragment"
    }
   },
   "source": [
    "* FIXME: Support `and` as part of SMT-LIB expressions"
   ]
  },
  {
   "cell_type": "markdown",
   "metadata": {
    "slideshow": {
     "slide_type": "subslide"
    }
   },
   "source": [
    "### End of Excursion"
   ]
  },
  {
   "cell_type": "markdown",
   "metadata": {
    "slideshow": {
     "slide_type": "slide"
    },
    "tags": []
   },
   "source": [
    "## Accessing Elements"
   ]
  },
  {
   "cell_type": "markdown",
   "metadata": {
    "slideshow": {
     "slide_type": "fragment"
    }
   },
   "source": [
    "So far, we have accessed nonterminals simply by referencing their name, as in `<bufsize>` or `<pagesize>`.\n",
    "However, in some cases, this simple method is not sufficient.\n",
    "In our configuration grammar, for instance, we may want to access (or constrain) `<int>` elements.\n",
    "However, we do not want to constrain _all_ integers at once, but only those in a particular _context_ – say, those that occur as a part of a `<pagesize>` element, or only those that occur as part of a `<config>` element."
   ]
  },
  {
   "cell_type": "markdown",
   "metadata": {
    "slideshow": {
     "slide_type": "fragment"
    }
   },
   "source": [
    "To this end, ISLa allows to reference _parts_ of a given element, using two special operators."
   ]
  },
  {
   "cell_type": "markdown",
   "metadata": {
    "slideshow": {
     "slide_type": "subslide"
    }
   },
   "source": [
    "The expression `<a>.<b>` refers to the _immediate_ subpart `<b>` of some element `<a>`.\n",
    "That is, `<b>` has to appear in one of the expansion rules of `<a>`.\n",
    "For instance, `<pagesize>.<int>` refers to the `<int>` element of a page size.\n",
    "Here is an example using the dot operator:"
   ]
  },
  {
   "cell_type": "code",
   "execution_count": 23,
   "metadata": {
    "execution": {
     "iopub.execute_input": "2022-08-06T16:16:21.167944Z",
     "iopub.status.busy": "2022-08-06T16:16:21.167598Z",
     "iopub.status.idle": "2022-08-06T16:16:22.104234Z",
     "shell.execute_reply": "2022-08-06T16:16:22.104476Z"
    },
    "slideshow": {
     "slide_type": "fragment"
    }
   },
   "outputs": [
    {
     "name": "stdout",
     "output_type": "stream",
     "text": [
      "pagesize=0\n",
      "bufsize=0\n"
     ]
    }
   ],
   "source": [
    "solver = ISLaSolver(CONFIG_GRAMMAR, \n",
    "                '''\n",
    "                <pagesize>.<int> = <bufsize>.<int>\n",
    "                ''')\n",
    "print(next(solver.solve()))"
   ]
  },
  {
   "cell_type": "markdown",
   "metadata": {
    "slideshow": {
     "slide_type": "subslide"
    }
   },
   "source": [
    "The expression `<a>..<b>`, however, refers to _any_ subpart `<b>` of some element `<a>`. That is, `<b>` can appear in the expansion of `<a>`, but also in the expansion of any subelement (and any subelement thereof).\n",
    "Here is an example using the double dot operator, enforcing _every_ digit in a `<config>` element to be `7`:"
   ]
  },
  {
   "cell_type": "code",
   "execution_count": 24,
   "metadata": {
    "execution": {
     "iopub.execute_input": "2022-08-06T16:16:22.105869Z",
     "iopub.status.busy": "2022-08-06T16:16:22.105582Z",
     "iopub.status.idle": "2022-08-06T16:16:22.107400Z",
     "shell.execute_reply": "2022-08-06T16:16:22.107588Z"
    },
    "slideshow": {
     "slide_type": "skip"
    }
   },
   "outputs": [],
   "source": [
    "from ExpectError import ExpectError"
   ]
  },
  {
   "cell_type": "code",
   "execution_count": 25,
   "metadata": {
    "execution": {
     "iopub.execute_input": "2022-08-06T16:16:22.111462Z",
     "iopub.status.busy": "2022-08-06T16:16:22.111137Z",
     "iopub.status.idle": "2022-08-06T16:16:22.115645Z",
     "shell.execute_reply": "2022-08-06T16:16:22.115905Z"
    },
    "slideshow": {
     "slide_type": "subslide"
    }
   },
   "outputs": [
    {
     "name": "stderr",
     "output_type": "stream",
     "text": [
      "Traceback (most recent call last):\n",
      "  File \"/var/folders/n2/xd9445p97rb3xh7m1dfx8_4h0006ts/T/ipykernel_39459/2177507368.py\", line 2, in <module>\n",
      "    solver = ISLaSolver(CONFIG_GRAMMAR,\n",
      "  File \"/Users/zeller/.pyenv/versions/3.10.2/lib/python3.10/site-packages/isla/solver.py\", line 236, in __init__\n",
      "    formula = parse_isla(formula, grammar, structural_predicates, semantic_predicates)\n",
      "  File \"/Users/zeller/.pyenv/versions/3.10.2/lib/python3.10/site-packages/isla/language.py\", line 2693, in parse_isla\n",
      "    antlr4.ParseTreeWalker().walk(isla_emitter, parser.start())\n",
      "  File \"/Users/zeller/.pyenv/versions/3.10.2/lib/python3.10/site-packages/antlr4/tree/Tree.py\", line 161, in walk\n",
      "    self.exitRule(listener, t)\n",
      "  File \"/Users/zeller/.pyenv/versions/3.10.2/lib/python3.10/site-packages/antlr4/tree/Tree.py\", line 188, in exitRule\n",
      "    ctx.exitRule(listener)\n",
      "  File \"/Users/zeller/.pyenv/versions/3.10.2/lib/python3.10/site-packages/isla/isla_language/IslaLanguageParser.py\", line 202, in exitRule\n",
      "    listener.exitStart(self)\n",
      "  File \"/Users/zeller/.pyenv/versions/3.10.2/lib/python3.10/site-packages/isla/language.py\", line 2406, in exitStart\n",
      "    self.close_over_xpath_expressions(\n",
      "  File \"/Users/zeller/.pyenv/versions/3.10.2/lib/python3.10/site-packages/isla/language.py\", line 2281, in close_over_xpath_expressions\n",
      "    assert all(len(xpath_segments) == 1 for xpath_segments, _ in group), 'The .. axis is not yet supported'\n",
      "AssertionError: The .. axis is not yet supported (expected)\n"
     ]
    }
   ],
   "source": [
    "with ExpectError():\n",
    "    solver = ISLaSolver(CONFIG_GRAMMAR, \n",
    "                '''\n",
    "                <config>..<digit> = \"7\"\n",
    "                ''')\n",
    "    print(next(solver.solve()))"
   ]
  },
  {
   "cell_type": "markdown",
   "metadata": {
    "slideshow": {
     "slide_type": "subslide"
    }
   },
   "source": [
    "To reason about dots and double dots, it helps visualizing the string in question as a _derivation tree_ discussed in the [chapter on grammar-based fuzzing](GrammarFuzzer.ipynb).\n",
    "The derivation tree of the input \n",
    "```\n",
    "pagesize=12\n",
    "bufsize=34\n",
    "```\n",
    "for instance, looks like this:"
   ]
  },
  {
   "cell_type": "code",
   "execution_count": 26,
   "metadata": {
    "execution": {
     "iopub.execute_input": "2022-08-06T16:16:22.117765Z",
     "iopub.status.busy": "2022-08-06T16:16:22.117468Z",
     "iopub.status.idle": "2022-08-06T16:16:22.173247Z",
     "shell.execute_reply": "2022-08-06T16:16:22.173475Z"
    },
    "slideshow": {
     "slide_type": "fragment"
    }
   },
   "outputs": [],
   "source": [
    "# ignore\n",
    "from Parser import EarleyParser\n",
    "from GrammarFuzzer import display_tree"
   ]
  },
  {
   "cell_type": "code",
   "execution_count": 27,
   "metadata": {
    "execution": {
     "iopub.execute_input": "2022-08-06T16:16:22.179888Z",
     "iopub.status.busy": "2022-08-06T16:16:22.179371Z",
     "iopub.status.idle": "2022-08-06T16:16:22.482408Z",
     "shell.execute_reply": "2022-08-06T16:16:22.482606Z"
    },
    "slideshow": {
     "slide_type": "subslide"
    }
   },
   "outputs": [
    {
     "data": {
      "image/svg+xml": [
       "<?xml version=\"1.0\" encoding=\"UTF-8\" standalone=\"no\"?>\n",
       "<!DOCTYPE svg PUBLIC \"-//W3C//DTD SVG 1.1//EN\"\n",
       " \"http://www.w3.org/Graphics/SVG/1.1/DTD/svg11.dtd\">\n",
       "<!-- Generated by graphviz version 5.0.0 (20220707.1540)\n",
       " -->\n",
       "<!-- Pages: 1 -->\n",
       "<svg width=\"328pt\" height=\"329pt\"\n",
       " viewBox=\"0.00 0.00 327.50 329.00\" xmlns=\"http://www.w3.org/2000/svg\" xmlns:xlink=\"http://www.w3.org/1999/xlink\">\n",
       "<g id=\"graph0\" class=\"graph\" transform=\"scale(1 1) rotate(0) translate(4 325)\">\n",
       "<polygon fill=\"white\" stroke=\"transparent\" points=\"-4,4 -4,-325 323.5,-325 323.5,4 -4,4\"/>\n",
       "<!-- 0 -->\n",
       "<g id=\"node1\" class=\"node\">\n",
       "<title>0</title>\n",
       "<text text-anchor=\"middle\" x=\"144.5\" y=\"-309.8\" font-family=\"Times,serif\" font-size=\"14.00\">&lt;start&gt;</text>\n",
       "</g>\n",
       "<!-- 1 -->\n",
       "<g id=\"node2\" class=\"node\">\n",
       "<title>1</title>\n",
       "<text text-anchor=\"middle\" x=\"144.5\" y=\"-258.8\" font-family=\"Times,serif\" font-size=\"14.00\">&lt;config&gt;</text>\n",
       "</g>\n",
       "<!-- 0&#45;&gt;1 -->\n",
       "<g id=\"edge1\" class=\"edge\">\n",
       "<title>0&#45;&gt;1</title>\n",
       "<path fill=\"none\" stroke=\"black\" d=\"M144.5,-305.69C144.5,-299.18 144.5,-289.1 144.5,-280.43\"/>\n",
       "<polygon fill=\"black\" stroke=\"black\" points=\"148,-280.26 144.5,-270.26 141,-280.26 148,-280.26\"/>\n",
       "</g>\n",
       "<!-- 2 -->\n",
       "<g id=\"node3\" class=\"node\">\n",
       "<title>2</title>\n",
       "<text text-anchor=\"middle\" x=\"27.5\" y=\"-207.8\" font-family=\"Times,serif\" font-size=\"14.00\">pagesize=</text>\n",
       "</g>\n",
       "<!-- 1&#45;&gt;2 -->\n",
       "<g id=\"edge2\" class=\"edge\">\n",
       "<title>1&#45;&gt;2</title>\n",
       "<path fill=\"none\" stroke=\"black\" d=\"M128.72,-254.89C109.16,-246.7 75.59,-232.64 52.51,-222.97\"/>\n",
       "<polygon fill=\"black\" stroke=\"black\" points=\"53.6,-219.64 43.03,-219 50.9,-226.09 53.6,-219.64\"/>\n",
       "</g>\n",
       "<!-- 3 -->\n",
       "<g id=\"node4\" class=\"node\">\n",
       "<title>3</title>\n",
       "<text text-anchor=\"middle\" x=\"105.5\" y=\"-207.8\" font-family=\"Times,serif\" font-size=\"14.00\">&lt;pagesize&gt;</text>\n",
       "</g>\n",
       "<!-- 1&#45;&gt;3 -->\n",
       "<g id=\"edge3\" class=\"edge\">\n",
       "<title>1&#45;&gt;3</title>\n",
       "<path fill=\"none\" stroke=\"black\" d=\"M139.08,-254.69C133.43,-247.59 124.41,-236.26 117.14,-227.13\"/>\n",
       "<polygon fill=\"black\" stroke=\"black\" points=\"119.84,-224.9 110.88,-219.26 114.37,-229.26 119.84,-224.9\"/>\n",
       "</g>\n",
       "<!-- 10 -->\n",
       "<g id=\"node11\" class=\"node\">\n",
       "<title>10</title>\n",
       "<text text-anchor=\"middle\" x=\"184.5\" y=\"-207.8\" font-family=\"Times,serif\" font-size=\"14.00\">\\nbufsize=</text>\n",
       "</g>\n",
       "<!-- 1&#45;&gt;10 -->\n",
       "<g id=\"edge10\" class=\"edge\">\n",
       "<title>1&#45;&gt;10</title>\n",
       "<path fill=\"none\" stroke=\"black\" d=\"M150.06,-254.69C155.85,-247.59 165.1,-236.26 172.56,-227.13\"/>\n",
       "<polygon fill=\"black\" stroke=\"black\" points=\"175.37,-229.22 178.99,-219.26 169.95,-224.79 175.37,-229.22\"/>\n",
       "</g>\n",
       "<!-- 11 -->\n",
       "<g id=\"node12\" class=\"node\">\n",
       "<title>11</title>\n",
       "<text text-anchor=\"middle\" x=\"259.5\" y=\"-207.8\" font-family=\"Times,serif\" font-size=\"14.00\">&lt;bufsize&gt;</text>\n",
       "</g>\n",
       "<!-- 1&#45;&gt;11 -->\n",
       "<g id=\"edge11\" class=\"edge\">\n",
       "<title>1&#45;&gt;11</title>\n",
       "<path fill=\"none\" stroke=\"black\" d=\"M160.01,-254.89C179.24,-246.7 212.23,-232.64 234.92,-222.97\"/>\n",
       "<polygon fill=\"black\" stroke=\"black\" points=\"236.41,-226.14 244.24,-219 233.66,-219.7 236.41,-226.14\"/>\n",
       "</g>\n",
       "<!-- 4 -->\n",
       "<g id=\"node5\" class=\"node\">\n",
       "<title>4</title>\n",
       "<text text-anchor=\"middle\" x=\"105.5\" y=\"-156.8\" font-family=\"Times,serif\" font-size=\"14.00\">&lt;int&gt;</text>\n",
       "</g>\n",
       "<!-- 3&#45;&gt;4 -->\n",
       "<g id=\"edge4\" class=\"edge\">\n",
       "<title>3&#45;&gt;4</title>\n",
       "<path fill=\"none\" stroke=\"black\" d=\"M105.5,-203.69C105.5,-197.18 105.5,-187.1 105.5,-178.43\"/>\n",
       "<polygon fill=\"black\" stroke=\"black\" points=\"109,-178.26 105.5,-168.26 102,-178.26 109,-178.26\"/>\n",
       "</g>\n",
       "<!-- 5 -->\n",
       "<g id=\"node6\" class=\"node\">\n",
       "<title>5</title>\n",
       "<text text-anchor=\"middle\" x=\"72.5\" y=\"-105.8\" font-family=\"Times,serif\" font-size=\"14.00\">&lt;leaddigit&gt;</text>\n",
       "</g>\n",
       "<!-- 4&#45;&gt;5 -->\n",
       "<g id=\"edge5\" class=\"edge\">\n",
       "<title>4&#45;&gt;5</title>\n",
       "<path fill=\"none\" stroke=\"black\" d=\"M100.91,-152.69C96.23,-145.74 88.82,-134.73 82.73,-125.7\"/>\n",
       "<polygon fill=\"black\" stroke=\"black\" points=\"85.54,-123.59 77.05,-117.26 79.73,-127.5 85.54,-123.59\"/>\n",
       "</g>\n",
       "<!-- 7 -->\n",
       "<g id=\"node8\" class=\"node\">\n",
       "<title>7</title>\n",
       "<text text-anchor=\"middle\" x=\"138.5\" y=\"-105.8\" font-family=\"Times,serif\" font-size=\"14.00\">&lt;int&gt;</text>\n",
       "</g>\n",
       "<!-- 4&#45;&gt;7 -->\n",
       "<g id=\"edge7\" class=\"edge\">\n",
       "<title>4&#45;&gt;7</title>\n",
       "<path fill=\"none\" stroke=\"black\" d=\"M110.09,-152.69C114.77,-145.74 122.18,-134.73 128.27,-125.7\"/>\n",
       "<polygon fill=\"black\" stroke=\"black\" points=\"131.27,-127.5 133.95,-117.26 125.46,-123.59 131.27,-127.5\"/>\n",
       "</g>\n",
       "<!-- 6 -->\n",
       "<g id=\"node7\" class=\"node\">\n",
       "<title>6</title>\n",
       "<text text-anchor=\"middle\" x=\"72.5\" y=\"-54.8\" font-family=\"Times,serif\" font-size=\"14.00\">1</text>\n",
       "</g>\n",
       "<!-- 5&#45;&gt;6 -->\n",
       "<g id=\"edge6\" class=\"edge\">\n",
       "<title>5&#45;&gt;6</title>\n",
       "<path fill=\"none\" stroke=\"black\" d=\"M72.5,-101.69C72.5,-95.18 72.5,-85.1 72.5,-76.43\"/>\n",
       "<polygon fill=\"black\" stroke=\"black\" points=\"76,-76.26 72.5,-66.26 69,-76.26 76,-76.26\"/>\n",
       "</g>\n",
       "<!-- 8 -->\n",
       "<g id=\"node9\" class=\"node\">\n",
       "<title>8</title>\n",
       "<text text-anchor=\"middle\" x=\"138.5\" y=\"-54.8\" font-family=\"Times,serif\" font-size=\"14.00\">&lt;digit&gt;</text>\n",
       "</g>\n",
       "<!-- 7&#45;&gt;8 -->\n",
       "<g id=\"edge8\" class=\"edge\">\n",
       "<title>7&#45;&gt;8</title>\n",
       "<path fill=\"none\" stroke=\"black\" d=\"M138.5,-101.69C138.5,-95.18 138.5,-85.1 138.5,-76.43\"/>\n",
       "<polygon fill=\"black\" stroke=\"black\" points=\"142,-76.26 138.5,-66.26 135,-76.26 142,-76.26\"/>\n",
       "</g>\n",
       "<!-- 9 -->\n",
       "<g id=\"node10\" class=\"node\">\n",
       "<title>9</title>\n",
       "<text text-anchor=\"middle\" x=\"138.5\" y=\"-3.8\" font-family=\"Times,serif\" font-size=\"14.00\">2</text>\n",
       "</g>\n",
       "<!-- 8&#45;&gt;9 -->\n",
       "<g id=\"edge9\" class=\"edge\">\n",
       "<title>8&#45;&gt;9</title>\n",
       "<path fill=\"none\" stroke=\"black\" d=\"M138.5,-50.69C138.5,-44.18 138.5,-34.1 138.5,-25.43\"/>\n",
       "<polygon fill=\"black\" stroke=\"black\" points=\"142,-25.26 138.5,-15.26 135,-25.26 142,-25.26\"/>\n",
       "</g>\n",
       "<!-- 12 -->\n",
       "<g id=\"node13\" class=\"node\">\n",
       "<title>12</title>\n",
       "<text text-anchor=\"middle\" x=\"259.5\" y=\"-156.8\" font-family=\"Times,serif\" font-size=\"14.00\">&lt;int&gt;</text>\n",
       "</g>\n",
       "<!-- 11&#45;&gt;12 -->\n",
       "<g id=\"edge12\" class=\"edge\">\n",
       "<title>11&#45;&gt;12</title>\n",
       "<path fill=\"none\" stroke=\"black\" d=\"M259.5,-203.69C259.5,-197.18 259.5,-187.1 259.5,-178.43\"/>\n",
       "<polygon fill=\"black\" stroke=\"black\" points=\"263,-178.26 259.5,-168.26 256,-178.26 263,-178.26\"/>\n",
       "</g>\n",
       "<!-- 13 -->\n",
       "<g id=\"node14\" class=\"node\">\n",
       "<title>13</title>\n",
       "<text text-anchor=\"middle\" x=\"232.5\" y=\"-105.8\" font-family=\"Times,serif\" font-size=\"14.00\">&lt;leaddigit&gt;</text>\n",
       "</g>\n",
       "<!-- 12&#45;&gt;13 -->\n",
       "<g id=\"edge13\" class=\"edge\">\n",
       "<title>12&#45;&gt;13</title>\n",
       "<path fill=\"none\" stroke=\"black\" d=\"M255.75,-152.69C252,-145.88 246.1,-135.19 241.19,-126.27\"/>\n",
       "<polygon fill=\"black\" stroke=\"black\" points=\"244.11,-124.32 236.22,-117.26 237.98,-127.7 244.11,-124.32\"/>\n",
       "</g>\n",
       "<!-- 15 -->\n",
       "<g id=\"node16\" class=\"node\">\n",
       "<title>15</title>\n",
       "<text text-anchor=\"middle\" x=\"298.5\" y=\"-105.8\" font-family=\"Times,serif\" font-size=\"14.00\">&lt;int&gt;</text>\n",
       "</g>\n",
       "<!-- 12&#45;&gt;15 -->\n",
       "<g id=\"edge15\" class=\"edge\">\n",
       "<title>12&#45;&gt;15</title>\n",
       "<path fill=\"none\" stroke=\"black\" d=\"M264.92,-152.69C270.57,-145.59 279.59,-134.26 286.86,-125.13\"/>\n",
       "<polygon fill=\"black\" stroke=\"black\" points=\"289.63,-127.26 293.12,-117.26 284.16,-122.9 289.63,-127.26\"/>\n",
       "</g>\n",
       "<!-- 14 -->\n",
       "<g id=\"node15\" class=\"node\">\n",
       "<title>14</title>\n",
       "<text text-anchor=\"middle\" x=\"232.5\" y=\"-54.8\" font-family=\"Times,serif\" font-size=\"14.00\">3</text>\n",
       "</g>\n",
       "<!-- 13&#45;&gt;14 -->\n",
       "<g id=\"edge14\" class=\"edge\">\n",
       "<title>13&#45;&gt;14</title>\n",
       "<path fill=\"none\" stroke=\"black\" d=\"M232.5,-101.69C232.5,-95.18 232.5,-85.1 232.5,-76.43\"/>\n",
       "<polygon fill=\"black\" stroke=\"black\" points=\"236,-76.26 232.5,-66.26 229,-76.26 236,-76.26\"/>\n",
       "</g>\n",
       "<!-- 16 -->\n",
       "<g id=\"node17\" class=\"node\">\n",
       "<title>16</title>\n",
       "<text text-anchor=\"middle\" x=\"298.5\" y=\"-54.8\" font-family=\"Times,serif\" font-size=\"14.00\">&lt;digit&gt;</text>\n",
       "</g>\n",
       "<!-- 15&#45;&gt;16 -->\n",
       "<g id=\"edge16\" class=\"edge\">\n",
       "<title>15&#45;&gt;16</title>\n",
       "<path fill=\"none\" stroke=\"black\" d=\"M298.5,-101.69C298.5,-95.18 298.5,-85.1 298.5,-76.43\"/>\n",
       "<polygon fill=\"black\" stroke=\"black\" points=\"302,-76.26 298.5,-66.26 295,-76.26 302,-76.26\"/>\n",
       "</g>\n",
       "<!-- 17 -->\n",
       "<g id=\"node18\" class=\"node\">\n",
       "<title>17</title>\n",
       "<text text-anchor=\"middle\" x=\"298.5\" y=\"-3.8\" font-family=\"Times,serif\" font-size=\"14.00\">4</text>\n",
       "</g>\n",
       "<!-- 16&#45;&gt;17 -->\n",
       "<g id=\"edge17\" class=\"edge\">\n",
       "<title>16&#45;&gt;17</title>\n",
       "<path fill=\"none\" stroke=\"black\" d=\"M298.5,-50.69C298.5,-44.18 298.5,-34.1 298.5,-25.43\"/>\n",
       "<polygon fill=\"black\" stroke=\"black\" points=\"302,-25.26 298.5,-15.26 295,-25.26 302,-25.26\"/>\n",
       "</g>\n",
       "</g>\n",
       "</svg>\n"
      ],
      "text/plain": [
       "<graphviz.graphs.Digraph at 0x156844430>"
      ]
     },
     "execution_count": 27,
     "metadata": {},
     "output_type": "execute_result"
    }
   ],
   "source": [
    "# ignore\n",
    "inp = 'pagesize=12\\nbufsize=34'\n",
    "parser = EarleyParser(CONFIG_GRAMMAR)\n",
    "tree = next(parser.parse(inp))\n",
    "display_tree(tree)"
   ]
  },
  {
   "cell_type": "markdown",
   "metadata": {
    "slideshow": {
     "slide_type": "fragment"
    }
   },
   "source": [
    "In this tree, the `.` syntax refers to _immediate_ children. `<bufsize>.<int>` is the one `<int>` node that is the immediate descendant of `<bufsize>` (but not any other `<int>` node).\n",
    "In contrast, `<config>..<digit>` refers to _all_ `<digit>` descendants of the `<config>` node."
   ]
  },
  {
   "cell_type": "markdown",
   "metadata": {
    "slideshow": {
     "slide_type": "subslide"
    }
   },
   "source": [
    "If an element has multiple children of the same type, one can use the special `<a>[$n$]` syntax to access the $n$-th child of type `<a>`. (Note that to access the first child, $n$ is equal to one, not zero.) If, for whatever reason, we wanted to ensure that the second `<digit>` in our `<int>` elements is 7, we can enforce this with"
   ]
  },
  {
   "cell_type": "code",
   "execution_count": 28,
   "metadata": {
    "execution": {
     "iopub.execute_input": "2022-08-06T16:16:22.486705Z",
     "iopub.status.busy": "2022-08-06T16:16:22.486390Z",
     "iopub.status.idle": "2022-08-06T16:16:22.487949Z",
     "shell.execute_reply": "2022-08-06T16:16:22.488133Z"
    },
    "slideshow": {
     "slide_type": "subslide"
    }
   },
   "outputs": [
    {
     "name": "stderr",
     "output_type": "stream",
     "text": [
      "Traceback (most recent call last):\n",
      "  File \"/var/folders/n2/xd9445p97rb3xh7m1dfx8_4h0006ts/T/ipykernel_39459/3992921923.py\", line 2, in <module>\n",
      "    solver = ISLaSolver(CONFIG_GRAMMAR,\n",
      "  File \"/Users/zeller/.pyenv/versions/3.10.2/lib/python3.10/site-packages/isla/solver.py\", line 236, in __init__\n",
      "    formula = parse_isla(formula, grammar, structural_predicates, semantic_predicates)\n",
      "  File \"/Users/zeller/.pyenv/versions/3.10.2/lib/python3.10/site-packages/isla/language.py\", line 2693, in parse_isla\n",
      "    antlr4.ParseTreeWalker().walk(isla_emitter, parser.start())\n",
      "  File \"/Users/zeller/.pyenv/versions/3.10.2/lib/python3.10/site-packages/antlr4/tree/Tree.py\", line 160, in walk\n",
      "    self.walk(listener, child)\n",
      "  File \"/Users/zeller/.pyenv/versions/3.10.2/lib/python3.10/site-packages/antlr4/tree/Tree.py\", line 160, in walk\n",
      "    self.walk(listener, child)\n",
      "  File \"/Users/zeller/.pyenv/versions/3.10.2/lib/python3.10/site-packages/antlr4/tree/Tree.py\", line 160, in walk\n",
      "    self.walk(listener, child)\n",
      "  File \"/Users/zeller/.pyenv/versions/3.10.2/lib/python3.10/site-packages/antlr4/tree/Tree.py\", line 158, in walk\n",
      "    self.enterRule(listener, t)\n",
      "  File \"/Users/zeller/.pyenv/versions/3.10.2/lib/python3.10/site-packages/antlr4/tree/Tree.py\", line 178, in enterRule\n",
      "    ctx.enterRule(listener)\n",
      "  File \"/Users/zeller/.pyenv/versions/3.10.2/lib/python3.10/site-packages/isla/isla_language/IslaLanguageParser.py\", line 1123, in enterRule\n",
      "    listener.enterSexprXPathExpr(self)\n",
      "  File \"/Users/zeller/.pyenv/versions/3.10.2/lib/python3.10/site-packages/isla/language.py\", line 2596, in enterSexprXPathExpr\n",
      "    self.register_var_for_xpath_expression(parse_tree_text(ctx))\n",
      "  File \"/Users/zeller/.pyenv/versions/3.10.2/lib/python3.10/site-packages/isla/language.py\", line 2213, in register_var_for_xpath_expression\n",
      "    assert nonterminal[-1] == '>'\n",
      "AssertionError (expected)\n"
     ]
    }
   ],
   "source": [
    "with ExpectError():\n",
    "    solver = ISLaSolver(CONFIG_GRAMMAR, \n",
    "                '''\n",
    "                <int>.<digit>[2] = \"7\"\n",
    "                ''')\n",
    "    print(next(solver.solve()))"
   ]
  },
  {
   "cell_type": "markdown",
   "metadata": {
    "slideshow": {
     "slide_type": "subslide"
    }
   },
   "source": [
    "Note that `<digit>[2]` is actually the _third_ digit in our integers; the first digit is the `<leaddigit>`, followed by `<digit>[1]`, and then `<digit>[2]`."
   ]
  },
  {
   "cell_type": "markdown",
   "metadata": {
    "slideshow": {
     "slide_type": "fragment"
    }
   },
   "source": [
    "* FIXME: Is there more support for XPath-like selectors? If so, we should have an excursion for them"
   ]
  },
  {
   "cell_type": "markdown",
   "metadata": {
    "slideshow": {
     "slide_type": "slide"
    }
   },
   "source": [
    "## Quantifiers"
   ]
  },
  {
   "cell_type": "markdown",
   "metadata": {
    "slideshow": {
     "slide_type": "fragment"
    }
   },
   "source": [
    "By default, all nonterminals in ISLa constraints are _universally_ quantified - that is, any constraint applying to, say, some `<int>` element applies to _all_ `<int>` elements in the resulting string.\n",
    "If you only want to constrain _one_ element, though, you have to (and can) specify this in ISLa, using an _existential quantifier_."
   ]
  },
  {
   "cell_type": "markdown",
   "metadata": {
    "slideshow": {
     "slide_type": "subslide"
    }
   },
   "source": [
    "To use an existential quantifier in ISLa, use the construct\n",
    "```\n",
    "exists TYPE VARIABLE in CONTEXT:\n",
    "    (CONSTRAINT)\n",
    "```\n",
    "where `VARIABLE` is some identifier, `TYPE` is its type (as a nonterminal), and `CONTEXT` is the context (again a nonterminal) in which the constraint should hold.\n",
    "`CONSTRAINT` is again a constraint expression, in which you now can make use of `VARIABLE` as the element whose existence you assume."
   ]
  },
  {
   "cell_type": "markdown",
   "metadata": {
    "slideshow": {
     "slide_type": "subslide"
    }
   },
   "source": [
    "Let us illustrate existential quantification again using a simple example.\n",
    "We want to make sure that at least one integer in our generated string has a value of more than 1000.\n",
    "So we write"
   ]
  },
  {
   "cell_type": "code",
   "execution_count": 29,
   "metadata": {
    "execution": {
     "iopub.execute_input": "2022-08-06T16:16:22.500419Z",
     "iopub.status.busy": "2022-08-06T16:16:22.500127Z",
     "iopub.status.idle": "2022-08-06T16:16:23.797777Z",
     "shell.execute_reply": "2022-08-06T16:16:23.798054Z"
    },
    "slideshow": {
     "slide_type": "subslide"
    }
   },
   "outputs": [
    {
     "name": "stdout",
     "output_type": "stream",
     "text": [
      "0\n",
      "pagesize=14\n",
      "bufsize=2949\n",
      "1\n",
      "pagesize=5\n",
      "bufsize=1190\n",
      "2\n",
      "pagesize=54\n",
      "bufsize=9740\n",
      "3\n",
      "pagesize=7\n",
      "bufsize=1751\n",
      "4\n",
      "pagesize=1\n",
      "bufsize=2249\n",
      "5\n",
      "pagesize=66\n",
      "bufsize=1940\n",
      "6\n",
      "pagesize=9\n",
      "bufsize=7480\n",
      "7\n",
      "pagesize=9\n",
      "bufsize=8440\n",
      "8\n",
      "pagesize=1\n",
      "bufsize=3340\n",
      "9\n",
      "pagesize=95\n",
      "bufsize=1980\n"
     ]
    }
   ],
   "source": [
    "solver = ISLaSolver(CONFIG_GRAMMAR, \n",
    "            '''\n",
    "            exists <int> i in <start>:\n",
    "                (str.to.int(i) > 1000)\n",
    "            ''')\n",
    "for i in range(10):\n",
    "    print(i)\n",
    "    print(next(solver.solve()))"
   ]
  },
  {
   "cell_type": "markdown",
   "metadata": {
    "slideshow": {
     "slide_type": "subslide"
    }
   },
   "source": [
    "We note that all generated inputs satisfy the constraint of having at least one integer that satisfies the constraint."
   ]
  },
  {
   "cell_type": "markdown",
   "metadata": {
    "slideshow": {
     "slide_type": "fragment"
    }
   },
   "source": [
    "Besides existential quantification, there also is _universal_ quantification, using the `forall` keyword instead of `exists`.\n",
    "If we want _all_ elements in some context to satisfy a constraint, this comes in handy."
   ]
  },
  {
   "cell_type": "code",
   "execution_count": 30,
   "metadata": {
    "execution": {
     "iopub.execute_input": "2022-08-06T16:16:23.805801Z",
     "iopub.status.busy": "2022-08-06T16:16:23.805350Z",
     "iopub.status.idle": "2022-08-06T16:16:25.310268Z",
     "shell.execute_reply": "2022-08-06T16:16:25.310570Z"
    },
    "slideshow": {
     "slide_type": "subslide"
    }
   },
   "outputs": [
    {
     "name": "stdout",
     "output_type": "stream",
     "text": [
      "pagesize=9210\n",
      "bufsize=4320\n"
     ]
    }
   ],
   "source": [
    "solver = ISLaSolver(CONFIG_GRAMMAR, \n",
    "            '''\n",
    "            forall <int> i in <start>:\n",
    "                (str.to.int(i) > 1000)\n",
    "            ''')\n",
    "print(next(solver.solve()))"
   ]
  },
  {
   "cell_type": "markdown",
   "metadata": {
    "slideshow": {
     "slide_type": "fragment"
    }
   },
   "source": [
    "We see that all `<int>` elements satisfy the constraint."
   ]
  },
  {
   "cell_type": "markdown",
   "metadata": {
    "slideshow": {
     "slide_type": "fragment"
    }
   },
   "source": [
    "* FIXME: Is it `<start>` or `start`?"
   ]
  },
  {
   "cell_type": "markdown",
   "metadata": {
    "slideshow": {
     "slide_type": "fragment"
    }
   },
   "source": [
    "By default, all nonterminals that re used directly in constraints are universally quantified within the `<start>` symbol, so the above can actually be simplified to"
   ]
  },
  {
   "cell_type": "code",
   "execution_count": 31,
   "metadata": {
    "execution": {
     "iopub.execute_input": "2022-08-06T16:16:25.313823Z",
     "iopub.status.busy": "2022-08-06T16:16:25.313540Z",
     "iopub.status.idle": "2022-08-06T16:16:26.701657Z",
     "shell.execute_reply": "2022-08-06T16:16:26.701998Z"
    },
    "slideshow": {
     "slide_type": "subslide"
    }
   },
   "outputs": [
    {
     "name": "stdout",
     "output_type": "stream",
     "text": [
      "pagesize=4990\n",
      "bufsize=4120\n"
     ]
    }
   ],
   "source": [
    "solver = ISLaSolver(CONFIG_GRAMMAR, \n",
    "            '''\n",
    "            str.to.int(<int>) > 1000\n",
    "            ''')\n",
    "print(next(solver.solve()))"
   ]
  },
  {
   "cell_type": "markdown",
   "metadata": {
    "slideshow": {
     "slide_type": "fragment"
    }
   },
   "source": [
    "... and you realize that in all our initial constraints, we always had an implicit universal quantification."
   ]
  },
  {
   "cell_type": "markdown",
   "metadata": {
    "slideshow": {
     "slide_type": "fragment"
    }
   },
   "source": [
    "* FIXME: The above `forall` iterators return only one solution. Why?"
   ]
  },
  {
   "cell_type": "markdown",
   "metadata": {
    "slideshow": {
     "slide_type": "slide"
    }
   },
   "source": [
    "## Picking Expansions"
   ]
  },
  {
   "cell_type": "markdown",
   "metadata": {
    "slideshow": {
     "slide_type": "fragment"
    }
   },
   "source": [
    "Sometimes, we'd like a quantifier to apply only for a specific expansion alternative of a nonterminal.\n",
    "The form\n",
    "```\n",
    "forall TYPE VARIABLE=PATTERN in CONTEXT:\n",
    "    (CONSTRAINT)\n",
    "```\n",
    "means that the CONSTRAINT only applies to a VARIABLE that actually matches the expansion given in PATTERN.\n",
    "(Again, we can replace `forall` with `exists`, and make this an existential quantification rather than a universal quantification.)"
   ]
  },
  {
   "cell_type": "markdown",
   "metadata": {
    "slideshow": {
     "slide_type": "subslide"
    }
   },
   "source": [
    "In our grammar, we have two possible expansions for `<int>`, namely `<digit>` (for values 0..9) and `<leaddigit><int>` (for 10 and above):\n",
    "```\n",
    "<int> ::= <digit> | <leaddigit><int>\n",
    "```"
   ]
  },
  {
   "cell_type": "markdown",
   "metadata": {
    "slideshow": {
     "slide_type": "fragment"
    }
   },
   "source": [
    "If we now want to constrain only _one_ of the two alternatives, we can use the following expression:"
   ]
  },
  {
   "cell_type": "code",
   "execution_count": 32,
   "metadata": {
    "execution": {
     "iopub.execute_input": "2022-08-06T16:16:26.710065Z",
     "iopub.status.busy": "2022-08-06T16:16:26.709723Z",
     "iopub.status.idle": "2022-08-06T16:16:26.712357Z",
     "shell.execute_reply": "2022-08-06T16:16:26.712672Z"
    },
    "slideshow": {
     "slide_type": "fragment"
    }
   },
   "outputs": [],
   "source": [
    "solver = ISLaSolver(CONFIG_GRAMMAR, \n",
    "            '''\n",
    "            forall <int> i=\"<digit>\" in <start>:\n",
    "                (i = \"7\")\n",
    "            ''')"
   ]
  },
  {
   "cell_type": "markdown",
   "metadata": {
    "slideshow": {
     "slide_type": "subslide"
    }
   },
   "source": [
    "This ensures that _if_ `<int>` is expanded to a single digit, this single digit becomes `7`.\n",
    "The effect is that all `<int>` values now end in a `7` digit:"
   ]
  },
  {
   "cell_type": "code",
   "execution_count": 33,
   "metadata": {
    "execution": {
     "iopub.execute_input": "2022-08-06T16:16:26.717999Z",
     "iopub.status.busy": "2022-08-06T16:16:26.717689Z",
     "iopub.status.idle": "2022-08-06T16:16:27.546550Z",
     "shell.execute_reply": "2022-08-06T16:16:27.546803Z"
    },
    "slideshow": {
     "slide_type": "fragment"
    }
   },
   "outputs": [
    {
     "name": "stdout",
     "output_type": "stream",
     "text": [
      "pagesize=37\n",
      "bufsize=7\n"
     ]
    }
   ],
   "source": [
    "print(next(solver.solve()))"
   ]
  },
  {
   "cell_type": "markdown",
   "metadata": {
    "slideshow": {
     "slide_type": "fragment"
    }
   },
   "source": [
    "Likewise, we can constrain `i` to the second expansion alternative, and thus ensure that all multi-digit numbers are greater than 100:"
   ]
  },
  {
   "cell_type": "code",
   "execution_count": 34,
   "metadata": {
    "execution": {
     "iopub.execute_input": "2022-08-06T16:16:27.554704Z",
     "iopub.status.busy": "2022-08-06T16:16:27.554288Z",
     "iopub.status.idle": "2022-08-06T16:16:27.557388Z",
     "shell.execute_reply": "2022-08-06T16:16:27.557606Z"
    },
    "slideshow": {
     "slide_type": "fragment"
    }
   },
   "outputs": [],
   "source": [
    "solver = ISLaSolver(CONFIG_GRAMMAR, \n",
    "            '''\n",
    "            forall <int> i=\"<leaddigit><int>\" in <start>:\n",
    "                (str.to.int(i) > 100)\n",
    "            ''')"
   ]
  },
  {
   "cell_type": "markdown",
   "metadata": {
    "slideshow": {
     "slide_type": "subslide"
    }
   },
   "source": [
    "Here, however, the solver can also choose the less constrained alternative for `<int>`s, picking single digits:"
   ]
  },
  {
   "cell_type": "code",
   "execution_count": 35,
   "metadata": {
    "execution": {
     "iopub.execute_input": "2022-08-06T16:16:27.562407Z",
     "iopub.status.busy": "2022-08-06T16:16:27.560006Z",
     "iopub.status.idle": "2022-08-06T16:16:27.570766Z",
     "shell.execute_reply": "2022-08-06T16:16:27.570978Z"
    },
    "slideshow": {
     "slide_type": "fragment"
    }
   },
   "outputs": [
    {
     "name": "stdout",
     "output_type": "stream",
     "text": [
      "pagesize=5\n",
      "bufsize=6\n"
     ]
    }
   ],
   "source": [
    "print(next(solver.solve()))"
   ]
  },
  {
   "cell_type": "markdown",
   "metadata": {
    "slideshow": {
     "slide_type": "slide"
    }
   },
   "source": [
    "## Matching Expansion Elements"
   ]
  },
  {
   "cell_type": "markdown",
   "metadata": {
    "slideshow": {
     "slide_type": "fragment"
    }
   },
   "source": [
    "In a quantification pattern, we can also _name_ individual nonterminal elements and use them in our constraints.\n",
    "This is done by replacing the nonterminal `<ID>` with the special form `{<ID> VARIABLE}` (in curly braces) which then makes the variable VARIABLE a placeholder for the value matched by ID; VARIABLE can then be used in constraints."
   ]
  },
  {
   "cell_type": "markdown",
   "metadata": {
    "slideshow": {
     "slide_type": "fragment"
    }
   },
   "source": [
    "Here is an example. In the expansion `<leaddigit><int>`, we want to ensure that the `<leaddigit>` is always `9`.\n",
    "Using the special brace form, we make `lead` a variable holding the value of `<leaddigit>`, and can then use it in a constraint:"
   ]
  },
  {
   "cell_type": "code",
   "execution_count": 36,
   "metadata": {
    "execution": {
     "iopub.execute_input": "2022-08-06T16:16:27.577904Z",
     "iopub.status.busy": "2022-08-06T16:16:27.577598Z",
     "iopub.status.idle": "2022-08-06T16:16:27.580700Z",
     "shell.execute_reply": "2022-08-06T16:16:27.580904Z"
    },
    "slideshow": {
     "slide_type": "subslide"
    }
   },
   "outputs": [],
   "source": [
    "solver = ISLaSolver(CONFIG_GRAMMAR, \n",
    "            '''\n",
    "            forall <int> i=\"{<leaddigit> lead}{<int> remainder}\" in <start>:\n",
    "                (lead = \"9\")\n",
    "            ''')"
   ]
  },
  {
   "cell_type": "markdown",
   "metadata": {
    "slideshow": {
     "slide_type": "fragment"
    }
   },
   "source": [
    "This (again) ensures that all lead digits should be `9`:"
   ]
  },
  {
   "cell_type": "code",
   "execution_count": 37,
   "metadata": {
    "execution": {
     "iopub.execute_input": "2022-08-06T16:16:27.583672Z",
     "iopub.status.busy": "2022-08-06T16:16:27.583370Z",
     "iopub.status.idle": "2022-08-06T16:16:27.593843Z",
     "shell.execute_reply": "2022-08-06T16:16:27.594138Z"
    },
    "slideshow": {
     "slide_type": "fragment"
    }
   },
   "outputs": [
    {
     "name": "stdout",
     "output_type": "stream",
     "text": [
      "pagesize=2\n",
      "bufsize=7\n"
     ]
    }
   ],
   "source": [
    "print(next(solver.solve()))"
   ]
  },
  {
   "cell_type": "markdown",
   "metadata": {
    "slideshow": {
     "slide_type": "subslide"
    }
   },
   "source": [
    "... if we _have_ <leaddigit> elements, that is.\n",
    "    Fortunately, ISLa is set up to systematically cover all alternatives.\n",
    "Hence, the next solution actually _does_ contain a `<leaddigit>` element, and it is properly constrained."
   ]
  },
  {
   "cell_type": "code",
   "execution_count": 38,
   "metadata": {
    "execution": {
     "iopub.execute_input": "2022-08-06T16:16:27.596875Z",
     "iopub.status.busy": "2022-08-06T16:16:27.596476Z",
     "iopub.status.idle": "2022-08-06T16:16:28.789909Z",
     "shell.execute_reply": "2022-08-06T16:16:28.790130Z"
    },
    "slideshow": {
     "slide_type": "subslide"
    }
   },
   "outputs": [
    {
     "name": "stdout",
     "output_type": "stream",
     "text": [
      "1\n",
      "pagesize=5\n",
      "bufsize=92\n",
      "2\n",
      "pagesize=94\n",
      "bufsize=7\n",
      "3\n",
      "pagesize=91\n",
      "bufsize=98\n",
      "4\n",
      "pagesize=998\n",
      "bufsize=95\n",
      "5\n",
      "pagesize=994\n",
      "bufsize=5\n",
      "6\n",
      "pagesize=96\n",
      "bufsize=997\n",
      "7\n",
      "pagesize=7\n",
      "bufsize=996\n",
      "8\n",
      "pagesize=9\n",
      "bufsize=9991\n",
      "9\n",
      "pagesize=92\n",
      "bufsize=9996\n"
     ]
    }
   ],
   "source": [
    "for i in range(1, 10):\n",
    "    print(i)\n",
    "    print(next(solver.solve()))"
   ]
  },
  {
   "cell_type": "markdown",
   "metadata": {
    "slideshow": {
     "slide_type": "subslide"
    }
   },
   "source": [
    "(Note how ISLa systematically explores longer and longer combinations of lead digits here – this again is due to ISLa exploring all possible syntactic combinations.)"
   ]
  },
  {
   "cell_type": "markdown",
   "metadata": {
    "slideshow": {
     "slide_type": "fragment"
    }
   },
   "source": [
    "Could we express the above in a simpler fashion? Of course! Using implicit universal quantification and the dot notation introduced earlier, we could write, for instance"
   ]
  },
  {
   "cell_type": "code",
   "execution_count": 39,
   "metadata": {
    "execution": {
     "iopub.execute_input": "2022-08-06T16:16:28.794006Z",
     "iopub.status.busy": "2022-08-06T16:16:28.793704Z",
     "iopub.status.idle": "2022-08-06T16:16:28.796532Z",
     "shell.execute_reply": "2022-08-06T16:16:28.796803Z"
    },
    "slideshow": {
     "slide_type": "fragment"
    }
   },
   "outputs": [],
   "source": [
    "solver = ISLaSolver(CONFIG_GRAMMAR, \n",
    "            '''\n",
    "            <int>.<leaddigit> = \"9\"\n",
    "            ''')"
   ]
  },
  {
   "cell_type": "markdown",
   "metadata": {
    "slideshow": {
     "slide_type": "fragment"
    }
   },
   "source": [
    "and obtain the same result:"
   ]
  },
  {
   "cell_type": "code",
   "execution_count": 40,
   "metadata": {
    "execution": {
     "iopub.execute_input": "2022-08-06T16:16:28.808453Z",
     "iopub.status.busy": "2022-08-06T16:16:28.799378Z",
     "iopub.status.idle": "2022-08-06T16:16:29.921197Z",
     "shell.execute_reply": "2022-08-06T16:16:29.921394Z"
    },
    "slideshow": {
     "slide_type": "subslide"
    }
   },
   "outputs": [
    {
     "name": "stdout",
     "output_type": "stream",
     "text": [
      "0\n",
      "pagesize=4\n",
      "bufsize=6\n",
      "1\n",
      "pagesize=94\n",
      "bufsize=5\n",
      "2\n",
      "pagesize=2\n",
      "bufsize=91\n",
      "3\n",
      "pagesize=95\n",
      "bufsize=91\n",
      "4\n",
      "pagesize=5\n",
      "bufsize=990\n",
      "5\n",
      "pagesize=996\n",
      "bufsize=91\n",
      "6\n",
      "pagesize=93\n",
      "bufsize=998\n",
      "7\n",
      "pagesize=995\n",
      "bufsize=1\n",
      "8\n",
      "pagesize=9992\n",
      "bufsize=5\n",
      "9\n",
      "pagesize=0\n",
      "bufsize=9994\n"
     ]
    }
   ],
   "source": [
    "for i in range(10):\n",
    "    print(i)\n",
    "    print(next(solver.solve()))"
   ]
  },
  {
   "cell_type": "markdown",
   "metadata": {
    "slideshow": {
     "slide_type": "subslide"
    }
   },
   "source": [
    "But while the dot notation is sufficient for many cases, the pattern matching notation is more general and more flexible – even if it is harder to read."
   ]
  },
  {
   "cell_type": "markdown",
   "metadata": {
    "slideshow": {
     "slide_type": "slide"
    }
   },
   "source": [
    "## Checking Inputs"
   ]
  },
  {
   "cell_type": "markdown",
   "metadata": {
    "slideshow": {
     "slide_type": "fragment"
    }
   },
   "source": [
    "Using an `ISLaSolver`, we can also check if an input satisfies the constraints.\n",
    "Let us check if in a given input, `<pagesize>` and `<bufsize>` are the same."
   ]
  },
  {
   "cell_type": "code",
   "execution_count": 41,
   "metadata": {
    "execution": {
     "iopub.execute_input": "2022-08-06T16:16:29.924460Z",
     "iopub.status.busy": "2022-08-06T16:16:29.924037Z",
     "iopub.status.idle": "2022-08-06T16:16:29.926204Z",
     "shell.execute_reply": "2022-08-06T16:16:29.926447Z"
    },
    "slideshow": {
     "slide_type": "fragment"
    }
   },
   "outputs": [],
   "source": [
    "constraint = '<pagesize> = <bufsize>'\n",
    "solver = ISLaSolver(CONFIG_GRAMMAR, constraint)"
   ]
  },
  {
   "cell_type": "markdown",
   "metadata": {
    "slideshow": {
     "slide_type": "fragment"
    }
   },
   "source": [
    "First, we need to parse the input into a derivation tree. This is done using the `parse()` method.\n",
    "Note that this does not yet check the constraint; it will, however, detect if the given string does not conform to the grammar."
   ]
  },
  {
   "cell_type": "code",
   "execution_count": 42,
   "metadata": {
    "execution": {
     "iopub.execute_input": "2022-08-06T16:16:29.928858Z",
     "iopub.status.busy": "2022-08-06T16:16:29.928580Z",
     "iopub.status.idle": "2022-08-06T16:16:29.929815Z",
     "shell.execute_reply": "2022-08-06T16:16:29.930048Z"
    },
    "slideshow": {
     "slide_type": "fragment"
    }
   },
   "outputs": [],
   "source": [
    "tree = solver.parse('<config>', 'pagesize=12\\nbufsize=34')"
   ]
  },
  {
   "cell_type": "markdown",
   "metadata": {
    "slideshow": {
     "slide_type": "subslide"
    }
   },
   "source": [
    "* FIXME: The `nonterminal` should be an optional second parameter, and default to `<start>`\n",
    "* FIXME: Using `<start>` as `nonterminal` always fails"
   ]
  },
  {
   "cell_type": "markdown",
   "metadata": {
    "slideshow": {
     "slide_type": "fragment"
    }
   },
   "source": [
    "To check the tree, we can pass it into the `evaluate()` function – and find that the given input does _not_ satisfy our constraint."
   ]
  },
  {
   "cell_type": "code",
   "execution_count": 43,
   "metadata": {
    "execution": {
     "iopub.execute_input": "2022-08-06T16:16:29.932256Z",
     "iopub.status.busy": "2022-08-06T16:16:29.931955Z",
     "iopub.status.idle": "2022-08-06T16:16:29.933132Z",
     "shell.execute_reply": "2022-08-06T16:16:29.933356Z"
    },
    "slideshow": {
     "slide_type": "skip"
    },
    "tags": []
   },
   "outputs": [],
   "source": [
    "from isla.evaluator import evaluate  # type: ignore"
   ]
  },
  {
   "cell_type": "code",
   "execution_count": 44,
   "metadata": {
    "execution": {
     "iopub.execute_input": "2022-08-06T16:16:29.935937Z",
     "iopub.status.busy": "2022-08-06T16:16:29.935517Z",
     "iopub.status.idle": "2022-08-06T16:16:29.938537Z",
     "shell.execute_reply": "2022-08-06T16:16:29.938714Z"
    },
    "slideshow": {
     "slide_type": "fragment"
    }
   },
   "outputs": [
    {
     "data": {
      "text/plain": [
       "ThreeValuedTruth(0)"
      ]
     },
     "execution_count": 44,
     "metadata": {},
     "output_type": "execute_result"
    }
   ],
   "source": [
    "evaluate(constraint, tree, CONFIG_GRAMMAR)"
   ]
  },
  {
   "cell_type": "markdown",
   "metadata": {
    "slideshow": {
     "slide_type": "fragment"
    }
   },
   "source": [
    "If we repeat the above, however, with an input that satisfies the constraint, we obtain a `true` result."
   ]
  },
  {
   "cell_type": "code",
   "execution_count": 45,
   "metadata": {
    "execution": {
     "iopub.execute_input": "2022-08-06T16:16:29.941846Z",
     "iopub.status.busy": "2022-08-06T16:16:29.941571Z",
     "iopub.status.idle": "2022-08-06T16:16:29.942770Z",
     "shell.execute_reply": "2022-08-06T16:16:29.943006Z"
    },
    "slideshow": {
     "slide_type": "fragment"
    }
   },
   "outputs": [],
   "source": [
    "tree = solver.parse('<config>', 'pagesize=27\\nbufsize=27')"
   ]
  },
  {
   "cell_type": "code",
   "execution_count": 46,
   "metadata": {
    "execution": {
     "iopub.execute_input": "2022-08-06T16:16:29.945203Z",
     "iopub.status.busy": "2022-08-06T16:16:29.944911Z",
     "iopub.status.idle": "2022-08-06T16:16:29.947195Z",
     "shell.execute_reply": "2022-08-06T16:16:29.947436Z"
    },
    "slideshow": {
     "slide_type": "fragment"
    }
   },
   "outputs": [
    {
     "data": {
      "text/plain": [
       "ThreeValuedTruth(1)"
      ]
     },
     "execution_count": 46,
     "metadata": {},
     "output_type": "execute_result"
    }
   ],
   "source": [
    "evaluate(constraint, tree, CONFIG_GRAMMAR)"
   ]
  },
  {
   "cell_type": "markdown",
   "metadata": {
    "slideshow": {
     "slide_type": "subslide"
    }
   },
   "source": [
    "* FIXME: `evaluate()` should become part of the solver (which already has the constraints and the grammar); optionally also include the parsing step\n",
    "* FIXME: `'pagesize=1027\\nbufsize=1027'` does not parse"
   ]
  },
  {
   "cell_type": "markdown",
   "metadata": {
    "slideshow": {
     "slide_type": "slide"
    }
   },
   "source": [
    "## Case Studies\n",
    "\n",
    "Let us further illustrate ISLa using a few case studies."
   ]
  },
  {
   "cell_type": "markdown",
   "metadata": {
    "slideshow": {
     "slide_type": "subslide"
    }
   },
   "source": [
    "### Matching Identifiers in XML"
   ]
  },
  {
   "cell_type": "markdown",
   "metadata": {
    "slideshow": {
     "slide_type": "fragment"
    }
   },
   "source": [
    "The Extensible Markup Language (XML) is a typical example of an input language that cannot be fully expressed using a context-free grammar.\n",
    "The problem is not so much expressing the _syntax_ of XML – the basics are fairly easy:"
   ]
  },
  {
   "cell_type": "code",
   "execution_count": 47,
   "metadata": {
    "execution": {
     "iopub.execute_input": "2022-08-06T16:16:29.949611Z",
     "iopub.status.busy": "2022-08-06T16:16:29.949321Z",
     "iopub.status.idle": "2022-08-06T16:16:29.950536Z",
     "shell.execute_reply": "2022-08-06T16:16:29.950739Z"
    },
    "slideshow": {
     "slide_type": "fragment"
    }
   },
   "outputs": [],
   "source": [
    "XML_GRAMMAR: Grammar = {\n",
    "    \"<start>\": [\"<xml-tree>\"],\n",
    "    \"<xml-tree>\": [\"<open-tag><xml-content><close-tag>\"],\n",
    "    \"<open-tag>\": [\"<<id>>\"],\n",
    "    \"<close-tag>\": [\"</<id>>\"],\n",
    "    \"<xml-content>\": [\"Text\", \"<xml-tree>\"],\n",
    "    \"<id>\": [\"<letter>\", \"<id><letter>\"],\n",
    "    \"<letter>\": crange('a', 'z')\n",
    "}"
   ]
  },
  {
   "cell_type": "code",
   "execution_count": 48,
   "metadata": {
    "execution": {
     "iopub.execute_input": "2022-08-06T16:16:29.952345Z",
     "iopub.status.busy": "2022-08-06T16:16:29.952052Z",
     "iopub.status.idle": "2022-08-06T16:16:29.953549Z",
     "shell.execute_reply": "2022-08-06T16:16:29.953276Z"
    },
    "slideshow": {
     "slide_type": "subslide"
    }
   },
   "outputs": [],
   "source": [
    "assert is_valid_grammar(XML_GRAMMAR)"
   ]
  },
  {
   "cell_type": "code",
   "execution_count": 49,
   "metadata": {
    "execution": {
     "iopub.execute_input": "2022-08-06T16:16:29.955878Z",
     "iopub.status.busy": "2022-08-06T16:16:29.955613Z",
     "iopub.status.idle": "2022-08-06T16:16:29.968517Z",
     "shell.execute_reply": "2022-08-06T16:16:29.968806Z"
    },
    "slideshow": {
     "slide_type": "subslide"
    }
   },
   "outputs": [
    {
     "name": "stdout",
     "output_type": "stream",
     "text": [
      "start\n"
     ]
    },
    {
     "data": {
      "image/svg+xml": [
       "<svg xmlns=\"http://www.w3.org/2000/svg\" class=\"railroad-diagram\" height=\"62\" viewBox=\"0 0 208.0 62\" width=\"208.0\">\n",
       "<g transform=\"translate(.5 .5)\">\n",
       "<style>/* <![CDATA[ */\n",
       "    svg.railroad-diagram {\n",
       "    }\n",
       "    svg.railroad-diagram path {\n",
       "        stroke-width:3;\n",
       "        stroke:black;\n",
       "        fill:white;\n",
       "    }\n",
       "    svg.railroad-diagram text {\n",
       "        font:14px \"Fira Mono\", monospace;\n",
       "        text-anchor:middle;\n",
       "    }\n",
       "    svg.railroad-diagram text.label{\n",
       "        text-anchor:start;\n",
       "    }\n",
       "    svg.railroad-diagram text.comment{\n",
       "        font:italic 12px \"Fira Mono\", monospace;\n",
       "    }\n",
       "    svg.railroad-diagram rect{\n",
       "        stroke-width:2;\n",
       "        stroke:black;\n",
       "        fill:mistyrose;\n",
       "    }\n",
       "\n",
       "/* ]]> */\n",
       "</style><g>\n",
       "<path d=\"M20 21v20m10 -20v20m-10 -10h20\"/></g><g>\n",
       "<path d=\"M40 31h0.0\"/><path d=\"M168.0 31h0.0\"/><path d=\"M40.0 31h20\"/><g>\n",
       "<path d=\"M60.0 31h0.0\"/><path d=\"M148.0 31h0.0\"/><g class=\"non-terminal\">\n",
       "<path d=\"M60.0 31h0.0\"/><path d=\"M148.0 31h0.0\"/><rect height=\"22\" width=\"88.0\" x=\"60.0\" y=\"20\"/><text x=\"104.0\" y=\"35\">xml-tree</text></g></g><path d=\"M148.0 31h20\"/></g><path d=\"M 168.0 31 h 20 m -10 -10 v 20 m 10 -20 v 20\"/></g></svg>"
      ],
      "text/plain": [
       "<IPython.core.display.SVG object>"
      ]
     },
     "metadata": {},
     "output_type": "display_data"
    },
    {
     "name": "stdout",
     "output_type": "stream",
     "text": [
      "xml-tree\n"
     ]
    },
    {
     "data": {
      "image/svg+xml": [
       "<svg xmlns=\"http://www.w3.org/2000/svg\" class=\"railroad-diagram\" height=\"62\" viewBox=\"0 0 458.0 62\" width=\"458.0\">\n",
       "<g transform=\"translate(.5 .5)\">\n",
       "<style>/* <![CDATA[ */\n",
       "    svg.railroad-diagram {\n",
       "    }\n",
       "    svg.railroad-diagram path {\n",
       "        stroke-width:3;\n",
       "        stroke:black;\n",
       "        fill:white;\n",
       "    }\n",
       "    svg.railroad-diagram text {\n",
       "        font:14px \"Fira Mono\", monospace;\n",
       "        text-anchor:middle;\n",
       "    }\n",
       "    svg.railroad-diagram text.label{\n",
       "        text-anchor:start;\n",
       "    }\n",
       "    svg.railroad-diagram text.comment{\n",
       "        font:italic 12px \"Fira Mono\", monospace;\n",
       "    }\n",
       "    svg.railroad-diagram rect{\n",
       "        stroke-width:2;\n",
       "        stroke:black;\n",
       "        fill:mistyrose;\n",
       "    }\n",
       "\n",
       "/* ]]> */\n",
       "</style><g>\n",
       "<path d=\"M20 21v20m10 -20v20m-10 -10h20\"/></g><g>\n",
       "<path d=\"M40 31h0.0\"/><path d=\"M418.0 31h0.0\"/><path d=\"M40.0 31h20\"/><g>\n",
       "<path d=\"M60.0 31h0.0\"/><path d=\"M398.0 31h0.0\"/><g class=\"non-terminal\">\n",
       "<path d=\"M60.0 31h0.0\"/><path d=\"M148.0 31h0.0\"/><rect height=\"22\" width=\"88.0\" x=\"60.0\" y=\"20\"/><text x=\"104.0\" y=\"35\">open-tag</text></g><path d=\"M148.0 31h10\"/><path d=\"M158.0 31h10\"/><g class=\"non-terminal\">\n",
       "<path d=\"M168.0 31h0.0\"/><path d=\"M281.5 31h0.0\"/><rect height=\"22\" width=\"113.5\" x=\"168.0\" y=\"20\"/><text x=\"224.75\" y=\"35\">xml-content</text></g><path d=\"M281.5 31h10\"/><path d=\"M291.5 31h10\"/><g class=\"non-terminal\">\n",
       "<path d=\"M301.5 31h0.0\"/><path d=\"M398.0 31h0.0\"/><rect height=\"22\" width=\"96.5\" x=\"301.5\" y=\"20\"/><text x=\"349.75\" y=\"35\">close-tag</text></g></g><path d=\"M398.0 31h20\"/></g><path d=\"M 418.0 31 h 20 m -10 -10 v 20 m 10 -20 v 20\"/></g></svg>"
      ],
      "text/plain": [
       "<IPython.core.display.SVG object>"
      ]
     },
     "metadata": {},
     "output_type": "display_data"
    },
    {
     "name": "stdout",
     "output_type": "stream",
     "text": [
      "open-tag\n"
     ]
    },
    {
     "data": {
      "image/svg+xml": [
       "<svg xmlns=\"http://www.w3.org/2000/svg\" class=\"railroad-diagram\" height=\"62\" viewBox=\"0 0 254.0 62\" width=\"254.0\">\n",
       "<g transform=\"translate(.5 .5)\">\n",
       "<style>/* <![CDATA[ */\n",
       "    svg.railroad-diagram {\n",
       "    }\n",
       "    svg.railroad-diagram path {\n",
       "        stroke-width:3;\n",
       "        stroke:black;\n",
       "        fill:white;\n",
       "    }\n",
       "    svg.railroad-diagram text {\n",
       "        font:14px \"Fira Mono\", monospace;\n",
       "        text-anchor:middle;\n",
       "    }\n",
       "    svg.railroad-diagram text.label{\n",
       "        text-anchor:start;\n",
       "    }\n",
       "    svg.railroad-diagram text.comment{\n",
       "        font:italic 12px \"Fira Mono\", monospace;\n",
       "    }\n",
       "    svg.railroad-diagram rect{\n",
       "        stroke-width:2;\n",
       "        stroke:black;\n",
       "        fill:mistyrose;\n",
       "    }\n",
       "\n",
       "/* ]]> */\n",
       "</style><g>\n",
       "<path d=\"M20 21v20m10 -20v20m-10 -10h20\"/></g><g>\n",
       "<path d=\"M40 31h0.0\"/><path d=\"M214.0 31h0.0\"/><path d=\"M40.0 31h20\"/><g>\n",
       "<path d=\"M60.0 31h0.0\"/><path d=\"M194.0 31h0.0\"/><g class=\"terminal\">\n",
       "<path d=\"M60.0 31h0.0\"/><path d=\"M88.5 31h0.0\"/><rect height=\"22\" rx=\"10\" ry=\"10\" width=\"28.5\" x=\"60.0\" y=\"20\"/><text x=\"74.25\" y=\"35\">&lt;</text></g><path d=\"M88.5 31h10\"/><path d=\"M98.5 31h10\"/><g class=\"non-terminal\">\n",
       "<path d=\"M108.5 31h0.0\"/><path d=\"M145.5 31h0.0\"/><rect height=\"22\" width=\"37.0\" x=\"108.5\" y=\"20\"/><text x=\"127.0\" y=\"35\">id</text></g><path d=\"M145.5 31h10\"/><path d=\"M155.5 31h10\"/><g class=\"terminal\">\n",
       "<path d=\"M165.5 31h0.0\"/><path d=\"M194.0 31h0.0\"/><rect height=\"22\" rx=\"10\" ry=\"10\" width=\"28.5\" x=\"165.5\" y=\"20\"/><text x=\"179.75\" y=\"35\">&gt;</text></g></g><path d=\"M194.0 31h20\"/></g><path d=\"M 214.0 31 h 20 m -10 -10 v 20 m 10 -20 v 20\"/></g></svg>"
      ],
      "text/plain": [
       "<IPython.core.display.SVG object>"
      ]
     },
     "metadata": {},
     "output_type": "display_data"
    },
    {
     "name": "stdout",
     "output_type": "stream",
     "text": [
      "close-tag\n"
     ]
    },
    {
     "data": {
      "image/svg+xml": [
       "<svg xmlns=\"http://www.w3.org/2000/svg\" class=\"railroad-diagram\" height=\"62\" viewBox=\"0 0 262.5 62\" width=\"262.5\">\n",
       "<g transform=\"translate(.5 .5)\">\n",
       "<style>/* <![CDATA[ */\n",
       "    svg.railroad-diagram {\n",
       "    }\n",
       "    svg.railroad-diagram path {\n",
       "        stroke-width:3;\n",
       "        stroke:black;\n",
       "        fill:white;\n",
       "    }\n",
       "    svg.railroad-diagram text {\n",
       "        font:14px \"Fira Mono\", monospace;\n",
       "        text-anchor:middle;\n",
       "    }\n",
       "    svg.railroad-diagram text.label{\n",
       "        text-anchor:start;\n",
       "    }\n",
       "    svg.railroad-diagram text.comment{\n",
       "        font:italic 12px \"Fira Mono\", monospace;\n",
       "    }\n",
       "    svg.railroad-diagram rect{\n",
       "        stroke-width:2;\n",
       "        stroke:black;\n",
       "        fill:mistyrose;\n",
       "    }\n",
       "\n",
       "/* ]]> */\n",
       "</style><g>\n",
       "<path d=\"M20 21v20m10 -20v20m-10 -10h20\"/></g><g>\n",
       "<path d=\"M40 31h0.0\"/><path d=\"M222.5 31h0.0\"/><path d=\"M40.0 31h20\"/><g>\n",
       "<path d=\"M60.0 31h0.0\"/><path d=\"M202.5 31h0.0\"/><g class=\"terminal\">\n",
       "<path d=\"M60.0 31h0.0\"/><path d=\"M97.0 31h0.0\"/><rect height=\"22\" rx=\"10\" ry=\"10\" width=\"37.0\" x=\"60.0\" y=\"20\"/><text x=\"78.5\" y=\"35\">&lt;/</text></g><path d=\"M97.0 31h10\"/><path d=\"M107.0 31h10\"/><g class=\"non-terminal\">\n",
       "<path d=\"M117.0 31h0.0\"/><path d=\"M154.0 31h0.0\"/><rect height=\"22\" width=\"37.0\" x=\"117.0\" y=\"20\"/><text x=\"135.5\" y=\"35\">id</text></g><path d=\"M154.0 31h10\"/><path d=\"M164.0 31h10\"/><g class=\"terminal\">\n",
       "<path d=\"M174.0 31h0.0\"/><path d=\"M202.5 31h0.0\"/><rect height=\"22\" rx=\"10\" ry=\"10\" width=\"28.5\" x=\"174.0\" y=\"20\"/><text x=\"188.25\" y=\"35\">&gt;</text></g></g><path d=\"M202.5 31h20\"/></g><path d=\"M 222.5 31 h 20 m -10 -10 v 20 m 10 -20 v 20\"/></g></svg>"
      ],
      "text/plain": [
       "<IPython.core.display.SVG object>"
      ]
     },
     "metadata": {},
     "output_type": "display_data"
    },
    {
     "name": "stdout",
     "output_type": "stream",
     "text": [
      "xml-content\n"
     ]
    },
    {
     "data": {
      "image/svg+xml": [
       "<svg xmlns=\"http://www.w3.org/2000/svg\" class=\"railroad-diagram\" height=\"92\" viewBox=\"0 0 208.0 92\" width=\"208.0\">\n",
       "<g transform=\"translate(.5 .5)\">\n",
       "<style>/* <![CDATA[ */\n",
       "    svg.railroad-diagram {\n",
       "    }\n",
       "    svg.railroad-diagram path {\n",
       "        stroke-width:3;\n",
       "        stroke:black;\n",
       "        fill:white;\n",
       "    }\n",
       "    svg.railroad-diagram text {\n",
       "        font:14px \"Fira Mono\", monospace;\n",
       "        text-anchor:middle;\n",
       "    }\n",
       "    svg.railroad-diagram text.label{\n",
       "        text-anchor:start;\n",
       "    }\n",
       "    svg.railroad-diagram text.comment{\n",
       "        font:italic 12px \"Fira Mono\", monospace;\n",
       "    }\n",
       "    svg.railroad-diagram rect{\n",
       "        stroke-width:2;\n",
       "        stroke:black;\n",
       "        fill:mistyrose;\n",
       "    }\n",
       "\n",
       "/* ]]> */\n",
       "</style><g>\n",
       "<path d=\"M20 51v20m10 -20v20m-10 -10h20\"/></g><g>\n",
       "<path d=\"M40 61h0.0\"/><path d=\"M168.0 61h0.0\"/><path d=\"M40.0 61a10 10 0 0 0 10 -10v-10a10 10 0 0 1 10 -10\"/><g>\n",
       "<path d=\"M60.0 31h17.0\"/><path d=\"M131.0 31h17.0\"/><g class=\"terminal\">\n",
       "<path d=\"M77.0 31h0.0\"/><path d=\"M131.0 31h0.0\"/><rect height=\"22\" rx=\"10\" ry=\"10\" width=\"54.0\" x=\"77.0\" y=\"20\"/><text x=\"104.0\" y=\"35\">Text</text></g></g><path d=\"M148.0 31a10 10 0 0 1 10 10v10a10 10 0 0 0 10 10\"/><path d=\"M40.0 61h20\"/><g>\n",
       "<path d=\"M60.0 61h0.0\"/><path d=\"M148.0 61h0.0\"/><g class=\"non-terminal\">\n",
       "<path d=\"M60.0 61h0.0\"/><path d=\"M148.0 61h0.0\"/><rect height=\"22\" width=\"88.0\" x=\"60.0\" y=\"50\"/><text x=\"104.0\" y=\"65\">xml-tree</text></g></g><path d=\"M148.0 61h20\"/></g><path d=\"M 168.0 61 h 20 m -10 -10 v 20 m 10 -20 v 20\"/></g></svg>"
      ],
      "text/plain": [
       "<IPython.core.display.SVG object>"
      ]
     },
     "metadata": {},
     "output_type": "display_data"
    },
    {
     "name": "stdout",
     "output_type": "stream",
     "text": [
      "id\n"
     ]
    },
    {
     "data": {
      "image/svg+xml": [
       "<svg xmlns=\"http://www.w3.org/2000/svg\" class=\"railroad-diagram\" height=\"92\" viewBox=\"0 0 248.0 92\" width=\"248.0\">\n",
       "<g transform=\"translate(.5 .5)\">\n",
       "<style>/* <![CDATA[ */\n",
       "    svg.railroad-diagram {\n",
       "    }\n",
       "    svg.railroad-diagram path {\n",
       "        stroke-width:3;\n",
       "        stroke:black;\n",
       "        fill:white;\n",
       "    }\n",
       "    svg.railroad-diagram text {\n",
       "        font:14px \"Fira Mono\", monospace;\n",
       "        text-anchor:middle;\n",
       "    }\n",
       "    svg.railroad-diagram text.label{\n",
       "        text-anchor:start;\n",
       "    }\n",
       "    svg.railroad-diagram text.comment{\n",
       "        font:italic 12px \"Fira Mono\", monospace;\n",
       "    }\n",
       "    svg.railroad-diagram rect{\n",
       "        stroke-width:2;\n",
       "        stroke:black;\n",
       "        fill:mistyrose;\n",
       "    }\n",
       "\n",
       "/* ]]> */\n",
       "</style><g>\n",
       "<path d=\"M20 51v20m10 -20v20m-10 -10h20\"/></g><g>\n",
       "<path d=\"M40 61h0.0\"/><path d=\"M208.0 61h0.0\"/><path d=\"M40.0 61a10 10 0 0 0 10 -10v-10a10 10 0 0 1 10 -10\"/><g>\n",
       "<path d=\"M60.0 31h28.5\"/><path d=\"M159.5 31h28.5\"/><g class=\"non-terminal\">\n",
       "<path d=\"M88.5 31h0.0\"/><path d=\"M159.5 31h0.0\"/><rect height=\"22\" width=\"71.0\" x=\"88.5\" y=\"20\"/><text x=\"124.0\" y=\"35\">letter</text></g></g><path d=\"M188.0 31a10 10 0 0 1 10 10v10a10 10 0 0 0 10 10\"/><path d=\"M40.0 61h20\"/><g>\n",
       "<path d=\"M60.0 61h0.0\"/><path d=\"M188.0 61h0.0\"/><g class=\"non-terminal\">\n",
       "<path d=\"M60.0 61h0.0\"/><path d=\"M97.0 61h0.0\"/><rect height=\"22\" width=\"37.0\" x=\"60.0\" y=\"50\"/><text x=\"78.5\" y=\"65\">id</text></g><path d=\"M97.0 61h10\"/><path d=\"M107.0 61h10\"/><g class=\"non-terminal\">\n",
       "<path d=\"M117.0 61h0.0\"/><path d=\"M188.0 61h0.0\"/><rect height=\"22\" width=\"71.0\" x=\"117.0\" y=\"50\"/><text x=\"152.5\" y=\"65\">letter</text></g></g><path d=\"M188.0 61h20\"/></g><path d=\"M 208.0 61 h 20 m -10 -10 v 20 m 10 -20 v 20\"/></g></svg>"
      ],
      "text/plain": [
       "<IPython.core.display.SVG object>"
      ]
     },
     "metadata": {},
     "output_type": "display_data"
    },
    {
     "name": "stdout",
     "output_type": "stream",
     "text": [
      "letter\n"
     ]
    },
    {
     "data": {
      "image/svg+xml": [
       "<svg xmlns=\"http://www.w3.org/2000/svg\" class=\"railroad-diagram\" height=\"198\" viewBox=\"0 0 611.0 198\" width=\"611.0\">\n",
       "<g transform=\"translate(.5 .5)\">\n",
       "<style>/* <![CDATA[ */\n",
       "    svg.railroad-diagram {\n",
       "    }\n",
       "    svg.railroad-diagram path {\n",
       "        stroke-width:3;\n",
       "        stroke:black;\n",
       "        fill:white;\n",
       "    }\n",
       "    svg.railroad-diagram text {\n",
       "        font:14px \"Fira Mono\", monospace;\n",
       "        text-anchor:middle;\n",
       "    }\n",
       "    svg.railroad-diagram text.label{\n",
       "        text-anchor:start;\n",
       "    }\n",
       "    svg.railroad-diagram text.comment{\n",
       "        font:italic 12px \"Fira Mono\", monospace;\n",
       "    }\n",
       "    svg.railroad-diagram rect{\n",
       "        stroke-width:2;\n",
       "        stroke:black;\n",
       "        fill:mistyrose;\n",
       "    }\n",
       "\n",
       "/* ]]> */\n",
       "</style><g>\n",
       "<path d=\"M20 89v20m10 -20v20m-10 -10h20\"/></g><g>\n",
       "<path d=\"M40 99h0.0\"/><path d=\"M571.0 99h0.0\"/><path d=\"M40.0 99a10 10 0 0 0 10 -10v-59a10 10 0 0 1 10 -10h412.5\"/><path d=\"M138.5 178h412.5a10 10 0 0 0 10 -10v-59a10 10 0 0 1 10 -10\"/><path d=\"M40.0 99h10\"/><g>\n",
       "<path d=\"M50.0 99h0.0\"/><path d=\"M118.5 99h0.0\"/><path d=\"M50.0 99a10 10 0 0 0 10 -10v-10a10 10 0 0 1 10 -10\"/><g>\n",
       "<path d=\"M70.0 69h0.0\"/><path d=\"M98.5 69h0.0\"/><g class=\"terminal\">\n",
       "<path d=\"M70.0 69h0.0\"/><path d=\"M98.5 69h0.0\"/><rect height=\"22\" rx=\"10\" ry=\"10\" width=\"28.5\" x=\"70.0\" y=\"58\"/><text x=\"84.25\" y=\"73\">b</text></g></g><path d=\"M98.5 69a10 10 0 0 1 10 10v10a10 10 0 0 0 10 10\"/><path d=\"M50.0 99a10 10 0 0 0 10 -10v-40a10 10 0 0 1 10 -10\"/><g>\n",
       "<path d=\"M70.0 39h0.0\"/><path d=\"M98.5 39h0.0\"/><g class=\"terminal\">\n",
       "<path d=\"M70.0 39h0.0\"/><path d=\"M98.5 39h0.0\"/><rect height=\"22\" rx=\"10\" ry=\"10\" width=\"28.5\" x=\"70.0\" y=\"28\"/><text x=\"84.25\" y=\"43\">a</text></g></g><path d=\"M98.5 39a10 10 0 0 1 10 10v40a10 10 0 0 0 10 10\"/><path d=\"M50.0 99h20\"/><g>\n",
       "<path d=\"M70.0 99h0.0\"/><path d=\"M98.5 99h0.0\"/><g class=\"terminal\">\n",
       "<path d=\"M70.0 99h0.0\"/><path d=\"M98.5 99h0.0\"/><rect height=\"22\" rx=\"10\" ry=\"10\" width=\"28.5\" x=\"70.0\" y=\"88\"/><text x=\"84.25\" y=\"103\">c</text></g></g><path d=\"M98.5 99h20\"/><path d=\"M50.0 99a10 10 0 0 1 10 10v10a10 10 0 0 0 10 10\"/><g>\n",
       "<path d=\"M70.0 129h0.0\"/><path d=\"M98.5 129h0.0\"/><g class=\"terminal\">\n",
       "<path d=\"M70.0 129h0.0\"/><path d=\"M98.5 129h0.0\"/><rect height=\"22\" rx=\"10\" ry=\"10\" width=\"28.5\" x=\"70.0\" y=\"118\"/><text x=\"84.25\" y=\"133\">d</text></g></g><path d=\"M98.5 129a10 10 0 0 0 10 -10v-10a10 10 0 0 1 10 -10\"/><path d=\"M50.0 99a10 10 0 0 1 10 10v40a10 10 0 0 0 10 10\"/><g>\n",
       "<path d=\"M70.0 159h0.0\"/><path d=\"M98.5 159h0.0\"/><g class=\"terminal\">\n",
       "<path d=\"M70.0 159h0.0\"/><path d=\"M98.5 159h0.0\"/><rect height=\"22\" rx=\"10\" ry=\"10\" width=\"28.5\" x=\"70.0\" y=\"148\"/><text x=\"84.25\" y=\"163\">e</text></g></g><path d=\"M98.5 159a10 10 0 0 0 10 -10v-40a10 10 0 0 1 10 -10\"/></g><path d=\"M118.5 99a10 10 0 0 1 10 10v59a10 10 0 0 0 10 10\"/><path d=\"M118.5 20a10 10 0 0 1 10 10v59a10 10 0 0 0 10 10\"/><g>\n",
       "<path d=\"M138.5 99h0.0\"/><path d=\"M207.0 99h0.0\"/><path d=\"M138.5 99a10 10 0 0 0 10 -10v-10a10 10 0 0 1 10 -10\"/><g>\n",
       "<path d=\"M158.5 69h0.0\"/><path d=\"M187.0 69h0.0\"/><g class=\"terminal\">\n",
       "<path d=\"M158.5 69h0.0\"/><path d=\"M187.0 69h0.0\"/><rect height=\"22\" rx=\"10\" ry=\"10\" width=\"28.5\" x=\"158.5\" y=\"58\"/><text x=\"172.75\" y=\"73\">g</text></g></g><path d=\"M187.0 69a10 10 0 0 1 10 10v10a10 10 0 0 0 10 10\"/><path d=\"M138.5 99a10 10 0 0 0 10 -10v-40a10 10 0 0 1 10 -10\"/><g>\n",
       "<path d=\"M158.5 39h0.0\"/><path d=\"M187.0 39h0.0\"/><g class=\"terminal\">\n",
       "<path d=\"M158.5 39h0.0\"/><path d=\"M187.0 39h0.0\"/><rect height=\"22\" rx=\"10\" ry=\"10\" width=\"28.5\" x=\"158.5\" y=\"28\"/><text x=\"172.75\" y=\"43\">f</text></g></g><path d=\"M187.0 39a10 10 0 0 1 10 10v40a10 10 0 0 0 10 10\"/><path d=\"M138.5 99h20\"/><g>\n",
       "<path d=\"M158.5 99h0.0\"/><path d=\"M187.0 99h0.0\"/><g class=\"terminal\">\n",
       "<path d=\"M158.5 99h0.0\"/><path d=\"M187.0 99h0.0\"/><rect height=\"22\" rx=\"10\" ry=\"10\" width=\"28.5\" x=\"158.5\" y=\"88\"/><text x=\"172.75\" y=\"103\">h</text></g></g><path d=\"M187.0 99h20\"/><path d=\"M138.5 99a10 10 0 0 1 10 10v10a10 10 0 0 0 10 10\"/><g>\n",
       "<path d=\"M158.5 129h0.0\"/><path d=\"M187.0 129h0.0\"/><g class=\"terminal\">\n",
       "<path d=\"M158.5 129h0.0\"/><path d=\"M187.0 129h0.0\"/><rect height=\"22\" rx=\"10\" ry=\"10\" width=\"28.5\" x=\"158.5\" y=\"118\"/><text x=\"172.75\" y=\"133\">i</text></g></g><path d=\"M187.0 129a10 10 0 0 0 10 -10v-10a10 10 0 0 1 10 -10\"/><path d=\"M138.5 99a10 10 0 0 1 10 10v40a10 10 0 0 0 10 10\"/><g>\n",
       "<path d=\"M158.5 159h0.0\"/><path d=\"M187.0 159h0.0\"/><g class=\"terminal\">\n",
       "<path d=\"M158.5 159h0.0\"/><path d=\"M187.0 159h0.0\"/><rect height=\"22\" rx=\"10\" ry=\"10\" width=\"28.5\" x=\"158.5\" y=\"148\"/><text x=\"172.75\" y=\"163\">j</text></g></g><path d=\"M187.0 159a10 10 0 0 0 10 -10v-40a10 10 0 0 1 10 -10\"/></g><path d=\"M207.0 99a10 10 0 0 1 10 10v59a10 10 0 0 0 10 10\"/><path d=\"M207.0 20a10 10 0 0 1 10 10v59a10 10 0 0 0 10 10\"/><g>\n",
       "<path d=\"M227.0 99h0.0\"/><path d=\"M295.5 99h0.0\"/><path d=\"M227.0 99a10 10 0 0 0 10 -10v-10a10 10 0 0 1 10 -10\"/><g>\n",
       "<path d=\"M247.0 69h0.0\"/><path d=\"M275.5 69h0.0\"/><g class=\"terminal\">\n",
       "<path d=\"M247.0 69h0.0\"/><path d=\"M275.5 69h0.0\"/><rect height=\"22\" rx=\"10\" ry=\"10\" width=\"28.5\" x=\"247.0\" y=\"58\"/><text x=\"261.25\" y=\"73\">l</text></g></g><path d=\"M275.5 69a10 10 0 0 1 10 10v10a10 10 0 0 0 10 10\"/><path d=\"M227.0 99a10 10 0 0 0 10 -10v-40a10 10 0 0 1 10 -10\"/><g>\n",
       "<path d=\"M247.0 39h0.0\"/><path d=\"M275.5 39h0.0\"/><g class=\"terminal\">\n",
       "<path d=\"M247.0 39h0.0\"/><path d=\"M275.5 39h0.0\"/><rect height=\"22\" rx=\"10\" ry=\"10\" width=\"28.5\" x=\"247.0\" y=\"28\"/><text x=\"261.25\" y=\"43\">k</text></g></g><path d=\"M275.5 39a10 10 0 0 1 10 10v40a10 10 0 0 0 10 10\"/><path d=\"M227.0 99h20\"/><g>\n",
       "<path d=\"M247.0 99h0.0\"/><path d=\"M275.5 99h0.0\"/><g class=\"terminal\">\n",
       "<path d=\"M247.0 99h0.0\"/><path d=\"M275.5 99h0.0\"/><rect height=\"22\" rx=\"10\" ry=\"10\" width=\"28.5\" x=\"247.0\" y=\"88\"/><text x=\"261.25\" y=\"103\">m</text></g></g><path d=\"M275.5 99h20\"/><path d=\"M227.0 99a10 10 0 0 1 10 10v10a10 10 0 0 0 10 10\"/><g>\n",
       "<path d=\"M247.0 129h0.0\"/><path d=\"M275.5 129h0.0\"/><g class=\"terminal\">\n",
       "<path d=\"M247.0 129h0.0\"/><path d=\"M275.5 129h0.0\"/><rect height=\"22\" rx=\"10\" ry=\"10\" width=\"28.5\" x=\"247.0\" y=\"118\"/><text x=\"261.25\" y=\"133\">n</text></g></g><path d=\"M275.5 129a10 10 0 0 0 10 -10v-10a10 10 0 0 1 10 -10\"/><path d=\"M227.0 99a10 10 0 0 1 10 10v40a10 10 0 0 0 10 10\"/><g>\n",
       "<path d=\"M247.0 159h0.0\"/><path d=\"M275.5 159h0.0\"/><g class=\"terminal\">\n",
       "<path d=\"M247.0 159h0.0\"/><path d=\"M275.5 159h0.0\"/><rect height=\"22\" rx=\"10\" ry=\"10\" width=\"28.5\" x=\"247.0\" y=\"148\"/><text x=\"261.25\" y=\"163\">o</text></g></g><path d=\"M275.5 159a10 10 0 0 0 10 -10v-40a10 10 0 0 1 10 -10\"/></g><path d=\"M295.5 99a10 10 0 0 1 10 10v59a10 10 0 0 0 10 10\"/><path d=\"M295.5 20a10 10 0 0 1 10 10v59a10 10 0 0 0 10 10\"/><g>\n",
       "<path d=\"M315.5 99h0.0\"/><path d=\"M384.0 99h0.0\"/><path d=\"M315.5 99a10 10 0 0 0 10 -10v-10a10 10 0 0 1 10 -10\"/><g>\n",
       "<path d=\"M335.5 69h0.0\"/><path d=\"M364.0 69h0.0\"/><g class=\"terminal\">\n",
       "<path d=\"M335.5 69h0.0\"/><path d=\"M364.0 69h0.0\"/><rect height=\"22\" rx=\"10\" ry=\"10\" width=\"28.5\" x=\"335.5\" y=\"58\"/><text x=\"349.75\" y=\"73\">q</text></g></g><path d=\"M364.0 69a10 10 0 0 1 10 10v10a10 10 0 0 0 10 10\"/><path d=\"M315.5 99a10 10 0 0 0 10 -10v-40a10 10 0 0 1 10 -10\"/><g>\n",
       "<path d=\"M335.5 39h0.0\"/><path d=\"M364.0 39h0.0\"/><g class=\"terminal\">\n",
       "<path d=\"M335.5 39h0.0\"/><path d=\"M364.0 39h0.0\"/><rect height=\"22\" rx=\"10\" ry=\"10\" width=\"28.5\" x=\"335.5\" y=\"28\"/><text x=\"349.75\" y=\"43\">p</text></g></g><path d=\"M364.0 39a10 10 0 0 1 10 10v40a10 10 0 0 0 10 10\"/><path d=\"M315.5 99h20\"/><g>\n",
       "<path d=\"M335.5 99h0.0\"/><path d=\"M364.0 99h0.0\"/><g class=\"terminal\">\n",
       "<path d=\"M335.5 99h0.0\"/><path d=\"M364.0 99h0.0\"/><rect height=\"22\" rx=\"10\" ry=\"10\" width=\"28.5\" x=\"335.5\" y=\"88\"/><text x=\"349.75\" y=\"103\">r</text></g></g><path d=\"M364.0 99h20\"/><path d=\"M315.5 99a10 10 0 0 1 10 10v10a10 10 0 0 0 10 10\"/><g>\n",
       "<path d=\"M335.5 129h0.0\"/><path d=\"M364.0 129h0.0\"/><g class=\"terminal\">\n",
       "<path d=\"M335.5 129h0.0\"/><path d=\"M364.0 129h0.0\"/><rect height=\"22\" rx=\"10\" ry=\"10\" width=\"28.5\" x=\"335.5\" y=\"118\"/><text x=\"349.75\" y=\"133\">s</text></g></g><path d=\"M364.0 129a10 10 0 0 0 10 -10v-10a10 10 0 0 1 10 -10\"/><path d=\"M315.5 99a10 10 0 0 1 10 10v40a10 10 0 0 0 10 10\"/><g>\n",
       "<path d=\"M335.5 159h0.0\"/><path d=\"M364.0 159h0.0\"/><g class=\"terminal\">\n",
       "<path d=\"M335.5 159h0.0\"/><path d=\"M364.0 159h0.0\"/><rect height=\"22\" rx=\"10\" ry=\"10\" width=\"28.5\" x=\"335.5\" y=\"148\"/><text x=\"349.75\" y=\"163\">t</text></g></g><path d=\"M364.0 159a10 10 0 0 0 10 -10v-40a10 10 0 0 1 10 -10\"/></g><path d=\"M384.0 99a10 10 0 0 1 10 10v59a10 10 0 0 0 10 10\"/><path d=\"M384.0 20a10 10 0 0 1 10 10v59a10 10 0 0 0 10 10\"/><g>\n",
       "<path d=\"M404.0 99h0.0\"/><path d=\"M472.5 99h0.0\"/><path d=\"M404.0 99a10 10 0 0 0 10 -10v-10a10 10 0 0 1 10 -10\"/><g>\n",
       "<path d=\"M424.0 69h0.0\"/><path d=\"M452.5 69h0.0\"/><g class=\"terminal\">\n",
       "<path d=\"M424.0 69h0.0\"/><path d=\"M452.5 69h0.0\"/><rect height=\"22\" rx=\"10\" ry=\"10\" width=\"28.5\" x=\"424.0\" y=\"58\"/><text x=\"438.25\" y=\"73\">v</text></g></g><path d=\"M452.5 69a10 10 0 0 1 10 10v10a10 10 0 0 0 10 10\"/><path d=\"M404.0 99a10 10 0 0 0 10 -10v-40a10 10 0 0 1 10 -10\"/><g>\n",
       "<path d=\"M424.0 39h0.0\"/><path d=\"M452.5 39h0.0\"/><g class=\"terminal\">\n",
       "<path d=\"M424.0 39h0.0\"/><path d=\"M452.5 39h0.0\"/><rect height=\"22\" rx=\"10\" ry=\"10\" width=\"28.5\" x=\"424.0\" y=\"28\"/><text x=\"438.25\" y=\"43\">u</text></g></g><path d=\"M452.5 39a10 10 0 0 1 10 10v40a10 10 0 0 0 10 10\"/><path d=\"M404.0 99h20\"/><g>\n",
       "<path d=\"M424.0 99h0.0\"/><path d=\"M452.5 99h0.0\"/><g class=\"terminal\">\n",
       "<path d=\"M424.0 99h0.0\"/><path d=\"M452.5 99h0.0\"/><rect height=\"22\" rx=\"10\" ry=\"10\" width=\"28.5\" x=\"424.0\" y=\"88\"/><text x=\"438.25\" y=\"103\">w</text></g></g><path d=\"M452.5 99h20\"/><path d=\"M404.0 99a10 10 0 0 1 10 10v10a10 10 0 0 0 10 10\"/><g>\n",
       "<path d=\"M424.0 129h0.0\"/><path d=\"M452.5 129h0.0\"/><g class=\"terminal\">\n",
       "<path d=\"M424.0 129h0.0\"/><path d=\"M452.5 129h0.0\"/><rect height=\"22\" rx=\"10\" ry=\"10\" width=\"28.5\" x=\"424.0\" y=\"118\"/><text x=\"438.25\" y=\"133\">x</text></g></g><path d=\"M452.5 129a10 10 0 0 0 10 -10v-10a10 10 0 0 1 10 -10\"/><path d=\"M404.0 99a10 10 0 0 1 10 10v40a10 10 0 0 0 10 10\"/><g>\n",
       "<path d=\"M424.0 159h0.0\"/><path d=\"M452.5 159h0.0\"/><g class=\"terminal\">\n",
       "<path d=\"M424.0 159h0.0\"/><path d=\"M452.5 159h0.0\"/><rect height=\"22\" rx=\"10\" ry=\"10\" width=\"28.5\" x=\"424.0\" y=\"148\"/><text x=\"438.25\" y=\"163\">y</text></g></g><path d=\"M452.5 159a10 10 0 0 0 10 -10v-40a10 10 0 0 1 10 -10\"/></g><path d=\"M472.5 99a10 10 0 0 1 10 10v59a10 10 0 0 0 10 10\"/><path d=\"M472.5 20a10 10 0 0 1 10 10v59a10 10 0 0 0 10 10\"/><g>\n",
       "<path d=\"M492.5 99h0.0\"/><path d=\"M561.0 99h0.0\"/><path d=\"M492.5 99h20\"/><g>\n",
       "<path d=\"M512.5 99h0.0\"/><path d=\"M541.0 99h0.0\"/><g class=\"terminal\">\n",
       "<path d=\"M512.5 99h0.0\"/><path d=\"M541.0 99h0.0\"/><rect height=\"22\" rx=\"10\" ry=\"10\" width=\"28.5\" x=\"512.5\" y=\"88\"/><text x=\"526.75\" y=\"103\">z</text></g></g><path d=\"M541.0 99h20\"/></g><path d=\"M561.0 99h10\"/></g><path d=\"M 571.0 99 h 20 m -10 -10 v 20 m 10 -20 v 20\"/></g></svg>"
      ],
      "text/plain": [
       "<IPython.core.display.SVG object>"
      ]
     },
     "metadata": {},
     "output_type": "display_data"
    }
   ],
   "source": [
    "# ignore\n",
    "syntax_diagram(XML_GRAMMAR)"
   ]
  },
  {
   "cell_type": "markdown",
   "metadata": {
    "slideshow": {
     "slide_type": "subslide"
    }
   },
   "source": [
    "The problem becomes evident when we produce inputs from the grammar: The `<id>` elements in `<open-tag>` and `<close-tag>` do not match."
   ]
  },
  {
   "cell_type": "code",
   "execution_count": 50,
   "metadata": {
    "execution": {
     "iopub.execute_input": "2022-08-06T16:16:29.979137Z",
     "iopub.status.busy": "2022-08-06T16:16:29.978844Z",
     "iopub.status.idle": "2022-08-06T16:16:29.980189Z",
     "shell.execute_reply": "2022-08-06T16:16:29.980421Z"
    },
    "slideshow": {
     "slide_type": "fragment"
    }
   },
   "outputs": [
    {
     "data": {
      "text/plain": [
       "'<rfi><d><u><sfrbw><m><ku>Text</ugp></ym></im></hp></s></h>'"
      ]
     },
     "execution_count": 50,
     "metadata": {},
     "output_type": "execute_result"
    }
   ],
   "source": [
    "fuzzer = GrammarFuzzer(XML_GRAMMAR)\n",
    "fuzzer.fuzz()"
   ]
  },
  {
   "cell_type": "markdown",
   "metadata": {
    "slideshow": {
     "slide_type": "fragment"
    }
   },
   "source": [
    "If we want the tag IDs to match, we need to come up with a _finite_ set of tags (as in, say, HTML); then we can extend the grammar with one rule for each tag - `<body>...</body>`, `<p>...</p>`, `<strong>...</strong>`, and so on.\n",
    "For an _infinite_ set of tags, though, as in our grammar, expressing that the two tag IDs must match is not possible in a context-free grammar."
   ]
  },
  {
   "cell_type": "markdown",
   "metadata": {
    "slideshow": {
     "slide_type": "fragment"
    }
   },
   "source": [
    "With ISLa, however, constraining the grammar is easy.\n",
    "All we need is the rule that constrains the `<xml-tree>`:"
   ]
  },
  {
   "cell_type": "code",
   "execution_count": 51,
   "metadata": {
    "execution": {
     "iopub.execute_input": "2022-08-06T16:16:29.984504Z",
     "iopub.status.busy": "2022-08-06T16:16:29.984158Z",
     "iopub.status.idle": "2022-08-06T16:16:33.610207Z",
     "shell.execute_reply": "2022-08-06T16:16:33.610451Z"
    },
    "slideshow": {
     "slide_type": "subslide"
    }
   },
   "outputs": [
    {
     "name": "stdout",
     "output_type": "stream",
     "text": [
      "<p>Text</p>\n",
      "<p><p>Text</p></p>\n",
      "<p><p><p>Text</p></p></p>\n"
     ]
    }
   ],
   "source": [
    "solver = ISLaSolver(XML_GRAMMAR, \n",
    "            '''\n",
    "            <xml-tree>.<open-tag>.<id> = <xml-tree>.<close-tag>.<id>\n",
    "            ''')\n",
    "for _ in range(3):\n",
    "    print(next(solver.solve()))"
   ]
  },
  {
   "cell_type": "markdown",
   "metadata": {
    "slideshow": {
     "slide_type": "fragment"
    }
   },
   "source": [
    "and we see that the `<id>` tags now indeed match each other."
   ]
  },
  {
   "cell_type": "markdown",
   "metadata": {
    "slideshow": {
     "slide_type": "fragment"
    }
   },
   "source": [
    "* FIXME: This is rather slow. If we have simple equality A = B, one may also go and generate A and then set B to the value of A (or vice versa)"
   ]
  },
  {
   "cell_type": "markdown",
   "metadata": {
    "slideshow": {
     "slide_type": "subslide"
    }
   },
   "source": [
    "In contrast to the \"input generator\" solution in the [chapter on generators](GeneratorGrammarFuzzer), our constraint-based solution is purely declarative - and can also be used to parse and check inputs.\n",
    "Plus, of course, we can easily add more constraints:"
   ]
  },
  {
   "cell_type": "code",
   "execution_count": 52,
   "metadata": {
    "execution": {
     "iopub.execute_input": "2022-08-06T16:16:33.614484Z",
     "iopub.status.busy": "2022-08-06T16:16:33.614174Z",
     "iopub.status.idle": "2022-08-06T16:16:35.484179Z",
     "shell.execute_reply": "2022-08-06T16:16:35.484387Z"
    },
    "slideshow": {
     "slide_type": "subslide"
    }
   },
   "outputs": [
    {
     "name": "stdout",
     "output_type": "stream",
     "text": [
      "<ppkpuhxnchk>Text</ppkpuhxnchk>\n",
      "<ppkxucumadm><ppkxucumadm>Text</ppkxucumadm></ppkxucumadm>\n",
      "<ppmxxklmphn><ppmxxklmphn><ppmxxklmphn>Text</ppmxxklmphn></ppmxxklmphn></ppmxxklmphn>\n"
     ]
    }
   ],
   "source": [
    "solver = ISLaSolver(XML_GRAMMAR, \n",
    "            '''\n",
    "            <xml-tree>.<open-tag>.<id> = <xml-tree>.<close-tag>.<id>\n",
    "            and\n",
    "            str.len(<id>) > 10\n",
    "            ''')\n",
    "for _ in range(3):\n",
    "    print(next(solver.solve()))"
   ]
  },
  {
   "cell_type": "markdown",
   "metadata": {
    "slideshow": {
     "slide_type": "subslide"
    }
   },
   "source": [
    "### Definitions and Usages in Programming Languages\n",
    "\n",
    "When testing compilers with generated program code, one often encounters the problem that before _using_ an identifier, one has to _declare_ it first - specifying its type, some initial value, and more."
   ]
  },
  {
   "cell_type": "markdown",
   "metadata": {
    "slideshow": {
     "slide_type": "fragment"
    }
   },
   "source": [
    "This problem is easily illustrated in the following grammar, which produces _sequences of assignments_.\n",
    "Variable names consist of a single lowercase letter; values can only be digits; assignments are separated by semicolons."
   ]
  },
  {
   "cell_type": "code",
   "execution_count": 53,
   "metadata": {
    "execution": {
     "iopub.execute_input": "2022-08-06T16:16:35.486837Z",
     "iopub.status.busy": "2022-08-06T16:16:35.486537Z",
     "iopub.status.idle": "2022-08-06T16:16:35.487759Z",
     "shell.execute_reply": "2022-08-06T16:16:35.488001Z"
    },
    "slideshow": {
     "slide_type": "subslide"
    }
   },
   "outputs": [],
   "source": [
    "LANG_GRAMMAR: Grammar = {\n",
    "    \"<start>\":\n",
    "        [\"<stmt>\"],\n",
    "    \"<stmt>\":\n",
    "        [\"<assgn>\", \"<assgn>; <stmt>\"],\n",
    "    \"<assgn>\":\n",
    "        [\"<lhs> := <rhs>\"],\n",
    "    \"<lhs>\":\n",
    "        [\"<var>\"],\n",
    "    \"<rhs>\":\n",
    "        [\"<var>\", \"<digit>\"],\n",
    "    \"<var>\": list(string.ascii_lowercase),\n",
    "    \"<digit>\": list(string.digits)\n",
    "}"
   ]
  },
  {
   "cell_type": "code",
   "execution_count": 54,
   "metadata": {
    "execution": {
     "iopub.execute_input": "2022-08-06T16:16:35.489726Z",
     "iopub.status.busy": "2022-08-06T16:16:35.489431Z",
     "iopub.status.idle": "2022-08-06T16:16:35.490795Z",
     "shell.execute_reply": "2022-08-06T16:16:35.490573Z"
    },
    "slideshow": {
     "slide_type": "fragment"
    }
   },
   "outputs": [],
   "source": [
    "assert is_valid_grammar(LANG_GRAMMAR)"
   ]
  },
  {
   "cell_type": "code",
   "execution_count": 55,
   "metadata": {
    "execution": {
     "iopub.execute_input": "2022-08-06T16:16:35.492230Z",
     "iopub.status.busy": "2022-08-06T16:16:35.491948Z",
     "iopub.status.idle": "2022-08-06T16:16:35.504856Z",
     "shell.execute_reply": "2022-08-06T16:16:35.505052Z"
    },
    "slideshow": {
     "slide_type": "subslide"
    }
   },
   "outputs": [
    {
     "name": "stdout",
     "output_type": "stream",
     "text": [
      "start\n"
     ]
    },
    {
     "data": {
      "image/svg+xml": [
       "<svg xmlns=\"http://www.w3.org/2000/svg\" class=\"railroad-diagram\" height=\"62\" viewBox=\"0 0 174.0 62\" width=\"174.0\">\n",
       "<g transform=\"translate(.5 .5)\">\n",
       "<style>/* <![CDATA[ */\n",
       "    svg.railroad-diagram {\n",
       "    }\n",
       "    svg.railroad-diagram path {\n",
       "        stroke-width:3;\n",
       "        stroke:black;\n",
       "        fill:white;\n",
       "    }\n",
       "    svg.railroad-diagram text {\n",
       "        font:14px \"Fira Mono\", monospace;\n",
       "        text-anchor:middle;\n",
       "    }\n",
       "    svg.railroad-diagram text.label{\n",
       "        text-anchor:start;\n",
       "    }\n",
       "    svg.railroad-diagram text.comment{\n",
       "        font:italic 12px \"Fira Mono\", monospace;\n",
       "    }\n",
       "    svg.railroad-diagram rect{\n",
       "        stroke-width:2;\n",
       "        stroke:black;\n",
       "        fill:mistyrose;\n",
       "    }\n",
       "\n",
       "/* ]]> */\n",
       "</style><g>\n",
       "<path d=\"M20 21v20m10 -20v20m-10 -10h20\"/></g><g>\n",
       "<path d=\"M40 31h0.0\"/><path d=\"M134.0 31h0.0\"/><path d=\"M40.0 31h20\"/><g>\n",
       "<path d=\"M60.0 31h0.0\"/><path d=\"M114.0 31h0.0\"/><g class=\"non-terminal\">\n",
       "<path d=\"M60.0 31h0.0\"/><path d=\"M114.0 31h0.0\"/><rect height=\"22\" width=\"54.0\" x=\"60.0\" y=\"20\"/><text x=\"87.0\" y=\"35\">stmt</text></g></g><path d=\"M114.0 31h20\"/></g><path d=\"M 134.0 31 h 20 m -10 -10 v 20 m 10 -20 v 20\"/></g></svg>"
      ],
      "text/plain": [
       "<IPython.core.display.SVG object>"
      ]
     },
     "metadata": {},
     "output_type": "display_data"
    },
    {
     "name": "stdout",
     "output_type": "stream",
     "text": [
      "stmt\n"
     ]
    },
    {
     "data": {
      "image/svg+xml": [
       "<svg xmlns=\"http://www.w3.org/2000/svg\" class=\"railroad-diagram\" height=\"92\" viewBox=\"0 0 313.5 92\" width=\"313.5\">\n",
       "<g transform=\"translate(.5 .5)\">\n",
       "<style>/* <![CDATA[ */\n",
       "    svg.railroad-diagram {\n",
       "    }\n",
       "    svg.railroad-diagram path {\n",
       "        stroke-width:3;\n",
       "        stroke:black;\n",
       "        fill:white;\n",
       "    }\n",
       "    svg.railroad-diagram text {\n",
       "        font:14px \"Fira Mono\", monospace;\n",
       "        text-anchor:middle;\n",
       "    }\n",
       "    svg.railroad-diagram text.label{\n",
       "        text-anchor:start;\n",
       "    }\n",
       "    svg.railroad-diagram text.comment{\n",
       "        font:italic 12px \"Fira Mono\", monospace;\n",
       "    }\n",
       "    svg.railroad-diagram rect{\n",
       "        stroke-width:2;\n",
       "        stroke:black;\n",
       "        fill:mistyrose;\n",
       "    }\n",
       "\n",
       "/* ]]> */\n",
       "</style><g>\n",
       "<path d=\"M20 51v20m10 -20v20m-10 -10h20\"/></g><g>\n",
       "<path d=\"M40 61h0.0\"/><path d=\"M273.5 61h0.0\"/><path d=\"M40.0 61a10 10 0 0 0 10 -10v-10a10 10 0 0 1 10 -10\"/><g>\n",
       "<path d=\"M60.0 31h65.5\"/><path d=\"M188.0 31h65.5\"/><g class=\"non-terminal\">\n",
       "<path d=\"M125.5 31h0.0\"/><path d=\"M188.0 31h0.0\"/><rect height=\"22\" width=\"62.5\" x=\"125.5\" y=\"20\"/><text x=\"156.75\" y=\"35\">assgn</text></g></g><path d=\"M253.5 31a10 10 0 0 1 10 10v10a10 10 0 0 0 10 10\"/><path d=\"M40.0 61h20\"/><g>\n",
       "<path d=\"M60.0 61h0.0\"/><path d=\"M253.5 61h0.0\"/><g class=\"non-terminal\">\n",
       "<path d=\"M60.0 61h0.0\"/><path d=\"M122.5 61h0.0\"/><rect height=\"22\" width=\"62.5\" x=\"60.0\" y=\"50\"/><text x=\"91.25\" y=\"65\">assgn</text></g><path d=\"M122.5 61h10\"/><path d=\"M132.5 61h10\"/><g class=\"terminal\">\n",
       "<path d=\"M142.5 61h0.0\"/><path d=\"M179.5 61h0.0\"/><rect height=\"22\" rx=\"10\" ry=\"10\" width=\"37.0\" x=\"142.5\" y=\"50\"/><text x=\"161.0\" y=\"65\">; </text></g><path d=\"M179.5 61h10\"/><path d=\"M189.5 61h10\"/><g class=\"non-terminal\">\n",
       "<path d=\"M199.5 61h0.0\"/><path d=\"M253.5 61h0.0\"/><rect height=\"22\" width=\"54.0\" x=\"199.5\" y=\"50\"/><text x=\"226.5\" y=\"65\">stmt</text></g></g><path d=\"M253.5 61h20\"/></g><path d=\"M 273.5 61 h 20 m -10 -10 v 20 m 10 -20 v 20\"/></g></svg>"
      ],
      "text/plain": [
       "<IPython.core.display.SVG object>"
      ]
     },
     "metadata": {},
     "output_type": "display_data"
    },
    {
     "name": "stdout",
     "output_type": "stream",
     "text": [
      "assgn\n"
     ]
    },
    {
     "data": {
      "image/svg+xml": [
       "<svg xmlns=\"http://www.w3.org/2000/svg\" class=\"railroad-diagram\" height=\"62\" viewBox=\"0 0 305.0 62\" width=\"305.0\">\n",
       "<g transform=\"translate(.5 .5)\">\n",
       "<style>/* <![CDATA[ */\n",
       "    svg.railroad-diagram {\n",
       "    }\n",
       "    svg.railroad-diagram path {\n",
       "        stroke-width:3;\n",
       "        stroke:black;\n",
       "        fill:white;\n",
       "    }\n",
       "    svg.railroad-diagram text {\n",
       "        font:14px \"Fira Mono\", monospace;\n",
       "        text-anchor:middle;\n",
       "    }\n",
       "    svg.railroad-diagram text.label{\n",
       "        text-anchor:start;\n",
       "    }\n",
       "    svg.railroad-diagram text.comment{\n",
       "        font:italic 12px \"Fira Mono\", monospace;\n",
       "    }\n",
       "    svg.railroad-diagram rect{\n",
       "        stroke-width:2;\n",
       "        stroke:black;\n",
       "        fill:mistyrose;\n",
       "    }\n",
       "\n",
       "/* ]]> */\n",
       "</style><g>\n",
       "<path d=\"M20 21v20m10 -20v20m-10 -10h20\"/></g><g>\n",
       "<path d=\"M40 31h0.0\"/><path d=\"M265.0 31h0.0\"/><path d=\"M40.0 31h20\"/><g>\n",
       "<path d=\"M60.0 31h0.0\"/><path d=\"M245.0 31h0.0\"/><g class=\"non-terminal\">\n",
       "<path d=\"M60.0 31h0.0\"/><path d=\"M105.5 31h0.0\"/><rect height=\"22\" width=\"45.5\" x=\"60.0\" y=\"20\"/><text x=\"82.75\" y=\"35\">lhs</text></g><path d=\"M105.5 31h10\"/><path d=\"M115.5 31h10\"/><g class=\"terminal\">\n",
       "<path d=\"M125.5 31h0.0\"/><path d=\"M179.5 31h0.0\"/><rect height=\"22\" rx=\"10\" ry=\"10\" width=\"54.0\" x=\"125.5\" y=\"20\"/><text x=\"152.5\" y=\"35\"> := </text></g><path d=\"M179.5 31h10\"/><path d=\"M189.5 31h10\"/><g class=\"non-terminal\">\n",
       "<path d=\"M199.5 31h0.0\"/><path d=\"M245.0 31h0.0\"/><rect height=\"22\" width=\"45.5\" x=\"199.5\" y=\"20\"/><text x=\"222.25\" y=\"35\">rhs</text></g></g><path d=\"M245.0 31h20\"/></g><path d=\"M 265.0 31 h 20 m -10 -10 v 20 m 10 -20 v 20\"/></g></svg>"
      ],
      "text/plain": [
       "<IPython.core.display.SVG object>"
      ]
     },
     "metadata": {},
     "output_type": "display_data"
    },
    {
     "name": "stdout",
     "output_type": "stream",
     "text": [
      "lhs\n"
     ]
    },
    {
     "data": {
      "image/svg+xml": [
       "<svg xmlns=\"http://www.w3.org/2000/svg\" class=\"railroad-diagram\" height=\"62\" viewBox=\"0 0 165.5 62\" width=\"165.5\">\n",
       "<g transform=\"translate(.5 .5)\">\n",
       "<style>/* <![CDATA[ */\n",
       "    svg.railroad-diagram {\n",
       "    }\n",
       "    svg.railroad-diagram path {\n",
       "        stroke-width:3;\n",
       "        stroke:black;\n",
       "        fill:white;\n",
       "    }\n",
       "    svg.railroad-diagram text {\n",
       "        font:14px \"Fira Mono\", monospace;\n",
       "        text-anchor:middle;\n",
       "    }\n",
       "    svg.railroad-diagram text.label{\n",
       "        text-anchor:start;\n",
       "    }\n",
       "    svg.railroad-diagram text.comment{\n",
       "        font:italic 12px \"Fira Mono\", monospace;\n",
       "    }\n",
       "    svg.railroad-diagram rect{\n",
       "        stroke-width:2;\n",
       "        stroke:black;\n",
       "        fill:mistyrose;\n",
       "    }\n",
       "\n",
       "/* ]]> */\n",
       "</style><g>\n",
       "<path d=\"M20 21v20m10 -20v20m-10 -10h20\"/></g><g>\n",
       "<path d=\"M40 31h0.0\"/><path d=\"M125.5 31h0.0\"/><path d=\"M40.0 31h20\"/><g>\n",
       "<path d=\"M60.0 31h0.0\"/><path d=\"M105.5 31h0.0\"/><g class=\"non-terminal\">\n",
       "<path d=\"M60.0 31h0.0\"/><path d=\"M105.5 31h0.0\"/><rect height=\"22\" width=\"45.5\" x=\"60.0\" y=\"20\"/><text x=\"82.75\" y=\"35\">var</text></g></g><path d=\"M105.5 31h20\"/></g><path d=\"M 125.5 31 h 20 m -10 -10 v 20 m 10 -20 v 20\"/></g></svg>"
      ],
      "text/plain": [
       "<IPython.core.display.SVG object>"
      ]
     },
     "metadata": {},
     "output_type": "display_data"
    },
    {
     "name": "stdout",
     "output_type": "stream",
     "text": [
      "rhs\n"
     ]
    },
    {
     "data": {
      "image/svg+xml": [
       "<svg xmlns=\"http://www.w3.org/2000/svg\" class=\"railroad-diagram\" height=\"92\" viewBox=\"0 0 182.5 92\" width=\"182.5\">\n",
       "<g transform=\"translate(.5 .5)\">\n",
       "<style>/* <![CDATA[ */\n",
       "    svg.railroad-diagram {\n",
       "    }\n",
       "    svg.railroad-diagram path {\n",
       "        stroke-width:3;\n",
       "        stroke:black;\n",
       "        fill:white;\n",
       "    }\n",
       "    svg.railroad-diagram text {\n",
       "        font:14px \"Fira Mono\", monospace;\n",
       "        text-anchor:middle;\n",
       "    }\n",
       "    svg.railroad-diagram text.label{\n",
       "        text-anchor:start;\n",
       "    }\n",
       "    svg.railroad-diagram text.comment{\n",
       "        font:italic 12px \"Fira Mono\", monospace;\n",
       "    }\n",
       "    svg.railroad-diagram rect{\n",
       "        stroke-width:2;\n",
       "        stroke:black;\n",
       "        fill:mistyrose;\n",
       "    }\n",
       "\n",
       "/* ]]> */\n",
       "</style><g>\n",
       "<path d=\"M20 51v20m10 -20v20m-10 -10h20\"/></g><g>\n",
       "<path d=\"M40 61h0.0\"/><path d=\"M142.5 61h0.0\"/><path d=\"M40.0 61a10 10 0 0 0 10 -10v-10a10 10 0 0 1 10 -10\"/><g>\n",
       "<path d=\"M60.0 31h8.5\"/><path d=\"M114.0 31h8.5\"/><g class=\"non-terminal\">\n",
       "<path d=\"M68.5 31h0.0\"/><path d=\"M114.0 31h0.0\"/><rect height=\"22\" width=\"45.5\" x=\"68.5\" y=\"20\"/><text x=\"91.25\" y=\"35\">var</text></g></g><path d=\"M122.5 31a10 10 0 0 1 10 10v10a10 10 0 0 0 10 10\"/><path d=\"M40.0 61h20\"/><g>\n",
       "<path d=\"M60.0 61h0.0\"/><path d=\"M122.5 61h0.0\"/><g class=\"non-terminal\">\n",
       "<path d=\"M60.0 61h0.0\"/><path d=\"M122.5 61h0.0\"/><rect height=\"22\" width=\"62.5\" x=\"60.0\" y=\"50\"/><text x=\"91.25\" y=\"65\">digit</text></g></g><path d=\"M122.5 61h20\"/></g><path d=\"M 142.5 61 h 20 m -10 -10 v 20 m 10 -20 v 20\"/></g></svg>"
      ],
      "text/plain": [
       "<IPython.core.display.SVG object>"
      ]
     },
     "metadata": {},
     "output_type": "display_data"
    },
    {
     "name": "stdout",
     "output_type": "stream",
     "text": [
      "var\n"
     ]
    },
    {
     "data": {
      "image/svg+xml": [
       "<svg xmlns=\"http://www.w3.org/2000/svg\" class=\"railroad-diagram\" height=\"198\" viewBox=\"0 0 611.0 198\" width=\"611.0\">\n",
       "<g transform=\"translate(.5 .5)\">\n",
       "<style>/* <![CDATA[ */\n",
       "    svg.railroad-diagram {\n",
       "    }\n",
       "    svg.railroad-diagram path {\n",
       "        stroke-width:3;\n",
       "        stroke:black;\n",
       "        fill:white;\n",
       "    }\n",
       "    svg.railroad-diagram text {\n",
       "        font:14px \"Fira Mono\", monospace;\n",
       "        text-anchor:middle;\n",
       "    }\n",
       "    svg.railroad-diagram text.label{\n",
       "        text-anchor:start;\n",
       "    }\n",
       "    svg.railroad-diagram text.comment{\n",
       "        font:italic 12px \"Fira Mono\", monospace;\n",
       "    }\n",
       "    svg.railroad-diagram rect{\n",
       "        stroke-width:2;\n",
       "        stroke:black;\n",
       "        fill:mistyrose;\n",
       "    }\n",
       "\n",
       "/* ]]> */\n",
       "</style><g>\n",
       "<path d=\"M20 89v20m10 -20v20m-10 -10h20\"/></g><g>\n",
       "<path d=\"M40 99h0.0\"/><path d=\"M571.0 99h0.0\"/><path d=\"M40.0 99a10 10 0 0 0 10 -10v-59a10 10 0 0 1 10 -10h412.5\"/><path d=\"M138.5 178h412.5a10 10 0 0 0 10 -10v-59a10 10 0 0 1 10 -10\"/><path d=\"M40.0 99h10\"/><g>\n",
       "<path d=\"M50.0 99h0.0\"/><path d=\"M118.5 99h0.0\"/><path d=\"M50.0 99a10 10 0 0 0 10 -10v-10a10 10 0 0 1 10 -10\"/><g>\n",
       "<path d=\"M70.0 69h0.0\"/><path d=\"M98.5 69h0.0\"/><g class=\"terminal\">\n",
       "<path d=\"M70.0 69h0.0\"/><path d=\"M98.5 69h0.0\"/><rect height=\"22\" rx=\"10\" ry=\"10\" width=\"28.5\" x=\"70.0\" y=\"58\"/><text x=\"84.25\" y=\"73\">b</text></g></g><path d=\"M98.5 69a10 10 0 0 1 10 10v10a10 10 0 0 0 10 10\"/><path d=\"M50.0 99a10 10 0 0 0 10 -10v-40a10 10 0 0 1 10 -10\"/><g>\n",
       "<path d=\"M70.0 39h0.0\"/><path d=\"M98.5 39h0.0\"/><g class=\"terminal\">\n",
       "<path d=\"M70.0 39h0.0\"/><path d=\"M98.5 39h0.0\"/><rect height=\"22\" rx=\"10\" ry=\"10\" width=\"28.5\" x=\"70.0\" y=\"28\"/><text x=\"84.25\" y=\"43\">a</text></g></g><path d=\"M98.5 39a10 10 0 0 1 10 10v40a10 10 0 0 0 10 10\"/><path d=\"M50.0 99h20\"/><g>\n",
       "<path d=\"M70.0 99h0.0\"/><path d=\"M98.5 99h0.0\"/><g class=\"terminal\">\n",
       "<path d=\"M70.0 99h0.0\"/><path d=\"M98.5 99h0.0\"/><rect height=\"22\" rx=\"10\" ry=\"10\" width=\"28.5\" x=\"70.0\" y=\"88\"/><text x=\"84.25\" y=\"103\">c</text></g></g><path d=\"M98.5 99h20\"/><path d=\"M50.0 99a10 10 0 0 1 10 10v10a10 10 0 0 0 10 10\"/><g>\n",
       "<path d=\"M70.0 129h0.0\"/><path d=\"M98.5 129h0.0\"/><g class=\"terminal\">\n",
       "<path d=\"M70.0 129h0.0\"/><path d=\"M98.5 129h0.0\"/><rect height=\"22\" rx=\"10\" ry=\"10\" width=\"28.5\" x=\"70.0\" y=\"118\"/><text x=\"84.25\" y=\"133\">d</text></g></g><path d=\"M98.5 129a10 10 0 0 0 10 -10v-10a10 10 0 0 1 10 -10\"/><path d=\"M50.0 99a10 10 0 0 1 10 10v40a10 10 0 0 0 10 10\"/><g>\n",
       "<path d=\"M70.0 159h0.0\"/><path d=\"M98.5 159h0.0\"/><g class=\"terminal\">\n",
       "<path d=\"M70.0 159h0.0\"/><path d=\"M98.5 159h0.0\"/><rect height=\"22\" rx=\"10\" ry=\"10\" width=\"28.5\" x=\"70.0\" y=\"148\"/><text x=\"84.25\" y=\"163\">e</text></g></g><path d=\"M98.5 159a10 10 0 0 0 10 -10v-40a10 10 0 0 1 10 -10\"/></g><path d=\"M118.5 99a10 10 0 0 1 10 10v59a10 10 0 0 0 10 10\"/><path d=\"M118.5 20a10 10 0 0 1 10 10v59a10 10 0 0 0 10 10\"/><g>\n",
       "<path d=\"M138.5 99h0.0\"/><path d=\"M207.0 99h0.0\"/><path d=\"M138.5 99a10 10 0 0 0 10 -10v-10a10 10 0 0 1 10 -10\"/><g>\n",
       "<path d=\"M158.5 69h0.0\"/><path d=\"M187.0 69h0.0\"/><g class=\"terminal\">\n",
       "<path d=\"M158.5 69h0.0\"/><path d=\"M187.0 69h0.0\"/><rect height=\"22\" rx=\"10\" ry=\"10\" width=\"28.5\" x=\"158.5\" y=\"58\"/><text x=\"172.75\" y=\"73\">g</text></g></g><path d=\"M187.0 69a10 10 0 0 1 10 10v10a10 10 0 0 0 10 10\"/><path d=\"M138.5 99a10 10 0 0 0 10 -10v-40a10 10 0 0 1 10 -10\"/><g>\n",
       "<path d=\"M158.5 39h0.0\"/><path d=\"M187.0 39h0.0\"/><g class=\"terminal\">\n",
       "<path d=\"M158.5 39h0.0\"/><path d=\"M187.0 39h0.0\"/><rect height=\"22\" rx=\"10\" ry=\"10\" width=\"28.5\" x=\"158.5\" y=\"28\"/><text x=\"172.75\" y=\"43\">f</text></g></g><path d=\"M187.0 39a10 10 0 0 1 10 10v40a10 10 0 0 0 10 10\"/><path d=\"M138.5 99h20\"/><g>\n",
       "<path d=\"M158.5 99h0.0\"/><path d=\"M187.0 99h0.0\"/><g class=\"terminal\">\n",
       "<path d=\"M158.5 99h0.0\"/><path d=\"M187.0 99h0.0\"/><rect height=\"22\" rx=\"10\" ry=\"10\" width=\"28.5\" x=\"158.5\" y=\"88\"/><text x=\"172.75\" y=\"103\">h</text></g></g><path d=\"M187.0 99h20\"/><path d=\"M138.5 99a10 10 0 0 1 10 10v10a10 10 0 0 0 10 10\"/><g>\n",
       "<path d=\"M158.5 129h0.0\"/><path d=\"M187.0 129h0.0\"/><g class=\"terminal\">\n",
       "<path d=\"M158.5 129h0.0\"/><path d=\"M187.0 129h0.0\"/><rect height=\"22\" rx=\"10\" ry=\"10\" width=\"28.5\" x=\"158.5\" y=\"118\"/><text x=\"172.75\" y=\"133\">i</text></g></g><path d=\"M187.0 129a10 10 0 0 0 10 -10v-10a10 10 0 0 1 10 -10\"/><path d=\"M138.5 99a10 10 0 0 1 10 10v40a10 10 0 0 0 10 10\"/><g>\n",
       "<path d=\"M158.5 159h0.0\"/><path d=\"M187.0 159h0.0\"/><g class=\"terminal\">\n",
       "<path d=\"M158.5 159h0.0\"/><path d=\"M187.0 159h0.0\"/><rect height=\"22\" rx=\"10\" ry=\"10\" width=\"28.5\" x=\"158.5\" y=\"148\"/><text x=\"172.75\" y=\"163\">j</text></g></g><path d=\"M187.0 159a10 10 0 0 0 10 -10v-40a10 10 0 0 1 10 -10\"/></g><path d=\"M207.0 99a10 10 0 0 1 10 10v59a10 10 0 0 0 10 10\"/><path d=\"M207.0 20a10 10 0 0 1 10 10v59a10 10 0 0 0 10 10\"/><g>\n",
       "<path d=\"M227.0 99h0.0\"/><path d=\"M295.5 99h0.0\"/><path d=\"M227.0 99a10 10 0 0 0 10 -10v-10a10 10 0 0 1 10 -10\"/><g>\n",
       "<path d=\"M247.0 69h0.0\"/><path d=\"M275.5 69h0.0\"/><g class=\"terminal\">\n",
       "<path d=\"M247.0 69h0.0\"/><path d=\"M275.5 69h0.0\"/><rect height=\"22\" rx=\"10\" ry=\"10\" width=\"28.5\" x=\"247.0\" y=\"58\"/><text x=\"261.25\" y=\"73\">l</text></g></g><path d=\"M275.5 69a10 10 0 0 1 10 10v10a10 10 0 0 0 10 10\"/><path d=\"M227.0 99a10 10 0 0 0 10 -10v-40a10 10 0 0 1 10 -10\"/><g>\n",
       "<path d=\"M247.0 39h0.0\"/><path d=\"M275.5 39h0.0\"/><g class=\"terminal\">\n",
       "<path d=\"M247.0 39h0.0\"/><path d=\"M275.5 39h0.0\"/><rect height=\"22\" rx=\"10\" ry=\"10\" width=\"28.5\" x=\"247.0\" y=\"28\"/><text x=\"261.25\" y=\"43\">k</text></g></g><path d=\"M275.5 39a10 10 0 0 1 10 10v40a10 10 0 0 0 10 10\"/><path d=\"M227.0 99h20\"/><g>\n",
       "<path d=\"M247.0 99h0.0\"/><path d=\"M275.5 99h0.0\"/><g class=\"terminal\">\n",
       "<path d=\"M247.0 99h0.0\"/><path d=\"M275.5 99h0.0\"/><rect height=\"22\" rx=\"10\" ry=\"10\" width=\"28.5\" x=\"247.0\" y=\"88\"/><text x=\"261.25\" y=\"103\">m</text></g></g><path d=\"M275.5 99h20\"/><path d=\"M227.0 99a10 10 0 0 1 10 10v10a10 10 0 0 0 10 10\"/><g>\n",
       "<path d=\"M247.0 129h0.0\"/><path d=\"M275.5 129h0.0\"/><g class=\"terminal\">\n",
       "<path d=\"M247.0 129h0.0\"/><path d=\"M275.5 129h0.0\"/><rect height=\"22\" rx=\"10\" ry=\"10\" width=\"28.5\" x=\"247.0\" y=\"118\"/><text x=\"261.25\" y=\"133\">n</text></g></g><path d=\"M275.5 129a10 10 0 0 0 10 -10v-10a10 10 0 0 1 10 -10\"/><path d=\"M227.0 99a10 10 0 0 1 10 10v40a10 10 0 0 0 10 10\"/><g>\n",
       "<path d=\"M247.0 159h0.0\"/><path d=\"M275.5 159h0.0\"/><g class=\"terminal\">\n",
       "<path d=\"M247.0 159h0.0\"/><path d=\"M275.5 159h0.0\"/><rect height=\"22\" rx=\"10\" ry=\"10\" width=\"28.5\" x=\"247.0\" y=\"148\"/><text x=\"261.25\" y=\"163\">o</text></g></g><path d=\"M275.5 159a10 10 0 0 0 10 -10v-40a10 10 0 0 1 10 -10\"/></g><path d=\"M295.5 99a10 10 0 0 1 10 10v59a10 10 0 0 0 10 10\"/><path d=\"M295.5 20a10 10 0 0 1 10 10v59a10 10 0 0 0 10 10\"/><g>\n",
       "<path d=\"M315.5 99h0.0\"/><path d=\"M384.0 99h0.0\"/><path d=\"M315.5 99a10 10 0 0 0 10 -10v-10a10 10 0 0 1 10 -10\"/><g>\n",
       "<path d=\"M335.5 69h0.0\"/><path d=\"M364.0 69h0.0\"/><g class=\"terminal\">\n",
       "<path d=\"M335.5 69h0.0\"/><path d=\"M364.0 69h0.0\"/><rect height=\"22\" rx=\"10\" ry=\"10\" width=\"28.5\" x=\"335.5\" y=\"58\"/><text x=\"349.75\" y=\"73\">q</text></g></g><path d=\"M364.0 69a10 10 0 0 1 10 10v10a10 10 0 0 0 10 10\"/><path d=\"M315.5 99a10 10 0 0 0 10 -10v-40a10 10 0 0 1 10 -10\"/><g>\n",
       "<path d=\"M335.5 39h0.0\"/><path d=\"M364.0 39h0.0\"/><g class=\"terminal\">\n",
       "<path d=\"M335.5 39h0.0\"/><path d=\"M364.0 39h0.0\"/><rect height=\"22\" rx=\"10\" ry=\"10\" width=\"28.5\" x=\"335.5\" y=\"28\"/><text x=\"349.75\" y=\"43\">p</text></g></g><path d=\"M364.0 39a10 10 0 0 1 10 10v40a10 10 0 0 0 10 10\"/><path d=\"M315.5 99h20\"/><g>\n",
       "<path d=\"M335.5 99h0.0\"/><path d=\"M364.0 99h0.0\"/><g class=\"terminal\">\n",
       "<path d=\"M335.5 99h0.0\"/><path d=\"M364.0 99h0.0\"/><rect height=\"22\" rx=\"10\" ry=\"10\" width=\"28.5\" x=\"335.5\" y=\"88\"/><text x=\"349.75\" y=\"103\">r</text></g></g><path d=\"M364.0 99h20\"/><path d=\"M315.5 99a10 10 0 0 1 10 10v10a10 10 0 0 0 10 10\"/><g>\n",
       "<path d=\"M335.5 129h0.0\"/><path d=\"M364.0 129h0.0\"/><g class=\"terminal\">\n",
       "<path d=\"M335.5 129h0.0\"/><path d=\"M364.0 129h0.0\"/><rect height=\"22\" rx=\"10\" ry=\"10\" width=\"28.5\" x=\"335.5\" y=\"118\"/><text x=\"349.75\" y=\"133\">s</text></g></g><path d=\"M364.0 129a10 10 0 0 0 10 -10v-10a10 10 0 0 1 10 -10\"/><path d=\"M315.5 99a10 10 0 0 1 10 10v40a10 10 0 0 0 10 10\"/><g>\n",
       "<path d=\"M335.5 159h0.0\"/><path d=\"M364.0 159h0.0\"/><g class=\"terminal\">\n",
       "<path d=\"M335.5 159h0.0\"/><path d=\"M364.0 159h0.0\"/><rect height=\"22\" rx=\"10\" ry=\"10\" width=\"28.5\" x=\"335.5\" y=\"148\"/><text x=\"349.75\" y=\"163\">t</text></g></g><path d=\"M364.0 159a10 10 0 0 0 10 -10v-40a10 10 0 0 1 10 -10\"/></g><path d=\"M384.0 99a10 10 0 0 1 10 10v59a10 10 0 0 0 10 10\"/><path d=\"M384.0 20a10 10 0 0 1 10 10v59a10 10 0 0 0 10 10\"/><g>\n",
       "<path d=\"M404.0 99h0.0\"/><path d=\"M472.5 99h0.0\"/><path d=\"M404.0 99a10 10 0 0 0 10 -10v-10a10 10 0 0 1 10 -10\"/><g>\n",
       "<path d=\"M424.0 69h0.0\"/><path d=\"M452.5 69h0.0\"/><g class=\"terminal\">\n",
       "<path d=\"M424.0 69h0.0\"/><path d=\"M452.5 69h0.0\"/><rect height=\"22\" rx=\"10\" ry=\"10\" width=\"28.5\" x=\"424.0\" y=\"58\"/><text x=\"438.25\" y=\"73\">v</text></g></g><path d=\"M452.5 69a10 10 0 0 1 10 10v10a10 10 0 0 0 10 10\"/><path d=\"M404.0 99a10 10 0 0 0 10 -10v-40a10 10 0 0 1 10 -10\"/><g>\n",
       "<path d=\"M424.0 39h0.0\"/><path d=\"M452.5 39h0.0\"/><g class=\"terminal\">\n",
       "<path d=\"M424.0 39h0.0\"/><path d=\"M452.5 39h0.0\"/><rect height=\"22\" rx=\"10\" ry=\"10\" width=\"28.5\" x=\"424.0\" y=\"28\"/><text x=\"438.25\" y=\"43\">u</text></g></g><path d=\"M452.5 39a10 10 0 0 1 10 10v40a10 10 0 0 0 10 10\"/><path d=\"M404.0 99h20\"/><g>\n",
       "<path d=\"M424.0 99h0.0\"/><path d=\"M452.5 99h0.0\"/><g class=\"terminal\">\n",
       "<path d=\"M424.0 99h0.0\"/><path d=\"M452.5 99h0.0\"/><rect height=\"22\" rx=\"10\" ry=\"10\" width=\"28.5\" x=\"424.0\" y=\"88\"/><text x=\"438.25\" y=\"103\">w</text></g></g><path d=\"M452.5 99h20\"/><path d=\"M404.0 99a10 10 0 0 1 10 10v10a10 10 0 0 0 10 10\"/><g>\n",
       "<path d=\"M424.0 129h0.0\"/><path d=\"M452.5 129h0.0\"/><g class=\"terminal\">\n",
       "<path d=\"M424.0 129h0.0\"/><path d=\"M452.5 129h0.0\"/><rect height=\"22\" rx=\"10\" ry=\"10\" width=\"28.5\" x=\"424.0\" y=\"118\"/><text x=\"438.25\" y=\"133\">x</text></g></g><path d=\"M452.5 129a10 10 0 0 0 10 -10v-10a10 10 0 0 1 10 -10\"/><path d=\"M404.0 99a10 10 0 0 1 10 10v40a10 10 0 0 0 10 10\"/><g>\n",
       "<path d=\"M424.0 159h0.0\"/><path d=\"M452.5 159h0.0\"/><g class=\"terminal\">\n",
       "<path d=\"M424.0 159h0.0\"/><path d=\"M452.5 159h0.0\"/><rect height=\"22\" rx=\"10\" ry=\"10\" width=\"28.5\" x=\"424.0\" y=\"148\"/><text x=\"438.25\" y=\"163\">y</text></g></g><path d=\"M452.5 159a10 10 0 0 0 10 -10v-40a10 10 0 0 1 10 -10\"/></g><path d=\"M472.5 99a10 10 0 0 1 10 10v59a10 10 0 0 0 10 10\"/><path d=\"M472.5 20a10 10 0 0 1 10 10v59a10 10 0 0 0 10 10\"/><g>\n",
       "<path d=\"M492.5 99h0.0\"/><path d=\"M561.0 99h0.0\"/><path d=\"M492.5 99h20\"/><g>\n",
       "<path d=\"M512.5 99h0.0\"/><path d=\"M541.0 99h0.0\"/><g class=\"terminal\">\n",
       "<path d=\"M512.5 99h0.0\"/><path d=\"M541.0 99h0.0\"/><rect height=\"22\" rx=\"10\" ry=\"10\" width=\"28.5\" x=\"512.5\" y=\"88\"/><text x=\"526.75\" y=\"103\">z</text></g></g><path d=\"M541.0 99h20\"/></g><path d=\"M561.0 99h10\"/></g><path d=\"M 571.0 99 h 20 m -10 -10 v 20 m 10 -20 v 20\"/></g></svg>"
      ],
      "text/plain": [
       "<IPython.core.display.SVG object>"
      ]
     },
     "metadata": {},
     "output_type": "display_data"
    },
    {
     "name": "stdout",
     "output_type": "stream",
     "text": [
      "digit\n"
     ]
    },
    {
     "data": {
      "image/svg+xml": [
       "<svg xmlns=\"http://www.w3.org/2000/svg\" class=\"railroad-diagram\" height=\"109\" viewBox=\"0 0 522.5 109\" width=\"522.5\">\n",
       "<g transform=\"translate(.5 .5)\">\n",
       "<style>/* <![CDATA[ */\n",
       "    svg.railroad-diagram {\n",
       "    }\n",
       "    svg.railroad-diagram path {\n",
       "        stroke-width:3;\n",
       "        stroke:black;\n",
       "        fill:white;\n",
       "    }\n",
       "    svg.railroad-diagram text {\n",
       "        font:14px \"Fira Mono\", monospace;\n",
       "        text-anchor:middle;\n",
       "    }\n",
       "    svg.railroad-diagram text.label{\n",
       "        text-anchor:start;\n",
       "    }\n",
       "    svg.railroad-diagram text.comment{\n",
       "        font:italic 12px \"Fira Mono\", monospace;\n",
       "    }\n",
       "    svg.railroad-diagram rect{\n",
       "        stroke-width:2;\n",
       "        stroke:black;\n",
       "        fill:mistyrose;\n",
       "    }\n",
       "\n",
       "/* ]]> */\n",
       "</style><g>\n",
       "<path d=\"M20 59v20m10 -20v20m-10 -10h20\"/></g><g>\n",
       "<path d=\"M40 69h0.0\"/><path d=\"M482.5 69h0.0\"/><path d=\"M40.0 69a10 10 0 0 0 10 -10v-29a10 10 0 0 1 10 -10h324.0\"/><path d=\"M138.5 89h324.0a10 10 0 0 0 10 -10v0a10 10 0 0 1 10 -10\"/><path d=\"M40.0 69h10\"/><g>\n",
       "<path d=\"M50.0 69h0.0\"/><path d=\"M118.5 69h0.0\"/><path d=\"M50.0 69a10 10 0 0 0 10 -10v-10a10 10 0 0 1 10 -10\"/><g>\n",
       "<path d=\"M70.0 39h0.0\"/><path d=\"M98.5 39h0.0\"/><g class=\"terminal\">\n",
       "<path d=\"M70.0 39h0.0\"/><path d=\"M98.5 39h0.0\"/><rect height=\"22\" rx=\"10\" ry=\"10\" width=\"28.5\" x=\"70.0\" y=\"28\"/><text x=\"84.25\" y=\"43\">0</text></g></g><path d=\"M98.5 39a10 10 0 0 1 10 10v10a10 10 0 0 0 10 10\"/><path d=\"M50.0 69h20\"/><g>\n",
       "<path d=\"M70.0 69h0.0\"/><path d=\"M98.5 69h0.0\"/><g class=\"terminal\">\n",
       "<path d=\"M70.0 69h0.0\"/><path d=\"M98.5 69h0.0\"/><rect height=\"22\" rx=\"10\" ry=\"10\" width=\"28.5\" x=\"70.0\" y=\"58\"/><text x=\"84.25\" y=\"73\">1</text></g></g><path d=\"M98.5 69h20\"/></g><path d=\"M118.5 69a10 10 0 0 1 10 10v0a10 10 0 0 0 10 10\"/><path d=\"M118.5 20a10 10 0 0 1 10 10v29a10 10 0 0 0 10 10\"/><g>\n",
       "<path d=\"M138.5 69h0.0\"/><path d=\"M207.0 69h0.0\"/><path d=\"M138.5 69a10 10 0 0 0 10 -10v-10a10 10 0 0 1 10 -10\"/><g>\n",
       "<path d=\"M158.5 39h0.0\"/><path d=\"M187.0 39h0.0\"/><g class=\"terminal\">\n",
       "<path d=\"M158.5 39h0.0\"/><path d=\"M187.0 39h0.0\"/><rect height=\"22\" rx=\"10\" ry=\"10\" width=\"28.5\" x=\"158.5\" y=\"28\"/><text x=\"172.75\" y=\"43\">2</text></g></g><path d=\"M187.0 39a10 10 0 0 1 10 10v10a10 10 0 0 0 10 10\"/><path d=\"M138.5 69h20\"/><g>\n",
       "<path d=\"M158.5 69h0.0\"/><path d=\"M187.0 69h0.0\"/><g class=\"terminal\">\n",
       "<path d=\"M158.5 69h0.0\"/><path d=\"M187.0 69h0.0\"/><rect height=\"22\" rx=\"10\" ry=\"10\" width=\"28.5\" x=\"158.5\" y=\"58\"/><text x=\"172.75\" y=\"73\">3</text></g></g><path d=\"M187.0 69h20\"/></g><path d=\"M207.0 69a10 10 0 0 1 10 10v0a10 10 0 0 0 10 10\"/><path d=\"M207.0 20a10 10 0 0 1 10 10v29a10 10 0 0 0 10 10\"/><g>\n",
       "<path d=\"M227.0 69h0.0\"/><path d=\"M295.5 69h0.0\"/><path d=\"M227.0 69a10 10 0 0 0 10 -10v-10a10 10 0 0 1 10 -10\"/><g>\n",
       "<path d=\"M247.0 39h0.0\"/><path d=\"M275.5 39h0.0\"/><g class=\"terminal\">\n",
       "<path d=\"M247.0 39h0.0\"/><path d=\"M275.5 39h0.0\"/><rect height=\"22\" rx=\"10\" ry=\"10\" width=\"28.5\" x=\"247.0\" y=\"28\"/><text x=\"261.25\" y=\"43\">4</text></g></g><path d=\"M275.5 39a10 10 0 0 1 10 10v10a10 10 0 0 0 10 10\"/><path d=\"M227.0 69h20\"/><g>\n",
       "<path d=\"M247.0 69h0.0\"/><path d=\"M275.5 69h0.0\"/><g class=\"terminal\">\n",
       "<path d=\"M247.0 69h0.0\"/><path d=\"M275.5 69h0.0\"/><rect height=\"22\" rx=\"10\" ry=\"10\" width=\"28.5\" x=\"247.0\" y=\"58\"/><text x=\"261.25\" y=\"73\">5</text></g></g><path d=\"M275.5 69h20\"/></g><path d=\"M295.5 69a10 10 0 0 1 10 10v0a10 10 0 0 0 10 10\"/><path d=\"M295.5 20a10 10 0 0 1 10 10v29a10 10 0 0 0 10 10\"/><g>\n",
       "<path d=\"M315.5 69h0.0\"/><path d=\"M384.0 69h0.0\"/><path d=\"M315.5 69a10 10 0 0 0 10 -10v-10a10 10 0 0 1 10 -10\"/><g>\n",
       "<path d=\"M335.5 39h0.0\"/><path d=\"M364.0 39h0.0\"/><g class=\"terminal\">\n",
       "<path d=\"M335.5 39h0.0\"/><path d=\"M364.0 39h0.0\"/><rect height=\"22\" rx=\"10\" ry=\"10\" width=\"28.5\" x=\"335.5\" y=\"28\"/><text x=\"349.75\" y=\"43\">6</text></g></g><path d=\"M364.0 39a10 10 0 0 1 10 10v10a10 10 0 0 0 10 10\"/><path d=\"M315.5 69h20\"/><g>\n",
       "<path d=\"M335.5 69h0.0\"/><path d=\"M364.0 69h0.0\"/><g class=\"terminal\">\n",
       "<path d=\"M335.5 69h0.0\"/><path d=\"M364.0 69h0.0\"/><rect height=\"22\" rx=\"10\" ry=\"10\" width=\"28.5\" x=\"335.5\" y=\"58\"/><text x=\"349.75\" y=\"73\">7</text></g></g><path d=\"M364.0 69h20\"/></g><path d=\"M384.0 69a10 10 0 0 1 10 10v0a10 10 0 0 0 10 10\"/><path d=\"M384.0 20a10 10 0 0 1 10 10v29a10 10 0 0 0 10 10\"/><g>\n",
       "<path d=\"M404.0 69h0.0\"/><path d=\"M472.5 69h0.0\"/><path d=\"M404.0 69a10 10 0 0 0 10 -10v-10a10 10 0 0 1 10 -10\"/><g>\n",
       "<path d=\"M424.0 39h0.0\"/><path d=\"M452.5 39h0.0\"/><g class=\"terminal\">\n",
       "<path d=\"M424.0 39h0.0\"/><path d=\"M452.5 39h0.0\"/><rect height=\"22\" rx=\"10\" ry=\"10\" width=\"28.5\" x=\"424.0\" y=\"28\"/><text x=\"438.25\" y=\"43\">8</text></g></g><path d=\"M452.5 39a10 10 0 0 1 10 10v10a10 10 0 0 0 10 10\"/><path d=\"M404.0 69h20\"/><g>\n",
       "<path d=\"M424.0 69h0.0\"/><path d=\"M452.5 69h0.0\"/><g class=\"terminal\">\n",
       "<path d=\"M424.0 69h0.0\"/><path d=\"M452.5 69h0.0\"/><rect height=\"22\" rx=\"10\" ry=\"10\" width=\"28.5\" x=\"424.0\" y=\"58\"/><text x=\"438.25\" y=\"73\">9</text></g></g><path d=\"M452.5 69h20\"/></g><path d=\"M472.5 69h10\"/></g><path d=\"M 482.5 69 h 20 m -10 -10 v 20 m 10 -20 v 20\"/></g></svg>"
      ],
      "text/plain": [
       "<IPython.core.display.SVG object>"
      ]
     },
     "metadata": {},
     "output_type": "display_data"
    }
   ],
   "source": [
    "syntax_diagram(LANG_GRAMMAR)"
   ]
  },
  {
   "cell_type": "markdown",
   "metadata": {
    "slideshow": {
     "slide_type": "subslide"
    }
   },
   "source": [
    "Here are some assignment sequences produced by the grammar:"
   ]
  },
  {
   "cell_type": "code",
   "execution_count": 56,
   "metadata": {
    "execution": {
     "iopub.execute_input": "2022-08-06T16:16:35.506796Z",
     "iopub.status.busy": "2022-08-06T16:16:35.506525Z",
     "iopub.status.idle": "2022-08-06T16:16:35.507685Z",
     "shell.execute_reply": "2022-08-06T16:16:35.507863Z"
    },
    "slideshow": {
     "slide_type": "fragment"
    }
   },
   "outputs": [],
   "source": [
    "fuzzer = GrammarFuzzer(LANG_GRAMMAR)"
   ]
  },
  {
   "cell_type": "code",
   "execution_count": 57,
   "metadata": {
    "execution": {
     "iopub.execute_input": "2022-08-06T16:16:35.514834Z",
     "iopub.status.busy": "2022-08-06T16:16:35.514542Z",
     "iopub.status.idle": "2022-08-06T16:16:35.515728Z",
     "shell.execute_reply": "2022-08-06T16:16:35.515949Z"
    },
    "slideshow": {
     "slide_type": "fragment"
    }
   },
   "outputs": [
    {
     "name": "stdout",
     "output_type": "stream",
     "text": [
      "h := v\n",
      "e := k\n",
      "t := i; v := 5\n",
      "e := 2\n",
      "j := b; y := 7\n",
      "j := g; n := 5; k := 5\n",
      "k := g; c := n; x := 4; b := 9; k := c\n",
      "i := 1; y := 8; s := w; t := 7; d := 0\n",
      "k := f\n",
      "p := 5; e := 1\n"
     ]
    }
   ],
   "source": [
    "for _ in range(10):\n",
    "    print(fuzzer.fuzz())"
   ]
  },
  {
   "cell_type": "markdown",
   "metadata": {
    "slideshow": {
     "slide_type": "subslide"
    }
   },
   "source": [
    "We see that the assignment _syntax_ is similar to what we have in common programming languages.\n",
    "The _semantics_, however, are, well, questionable, as we commonly access variables whose values have not been previously defined.\n",
    "Again, this is a _semantic_ property that cannot be expressed in a context-free grammar alone."
   ]
  },
  {
   "cell_type": "markdown",
   "metadata": {
    "slideshow": {
     "slide_type": "fragment"
    }
   },
   "source": [
    "What we need here is a constraint specifying that on the right-hand side of an assignment, we can only have variable names that occur on the left-hand side.\n",
    "In ISLa, we achive this thorugh the following constraint:"
   ]
  },
  {
   "cell_type": "code",
   "execution_count": 58,
   "metadata": {
    "execution": {
     "iopub.execute_input": "2022-08-06T16:16:35.519521Z",
     "iopub.status.busy": "2022-08-06T16:16:35.519240Z",
     "iopub.status.idle": "2022-08-06T16:16:35.529570Z",
     "shell.execute_reply": "2022-08-06T16:16:35.529758Z"
    },
    "slideshow": {
     "slide_type": "subslide"
    }
   },
   "outputs": [],
   "source": [
    "solver = ISLaSolver(LANG_GRAMMAR, \n",
    "            '''\n",
    "            forall <rhs> in <stmt>:\n",
    "                exists <lhs> in <stmt>:\n",
    "                    <rhs>.<var> = <lhs>.<var>\n",
    "            ''')"
   ]
  },
  {
   "cell_type": "code",
   "execution_count": 59,
   "metadata": {
    "execution": {
     "iopub.execute_input": "2022-08-06T16:16:35.551909Z",
     "iopub.status.busy": "2022-08-06T16:16:35.551426Z",
     "iopub.status.idle": "2022-08-06T16:16:36.530417Z",
     "shell.execute_reply": "2022-08-06T16:16:36.530656Z"
    },
    "slideshow": {
     "slide_type": "subslide"
    }
   },
   "outputs": [
    {
     "name": "stdout",
     "output_type": "stream",
     "text": [
      "p := 5\n",
      "p := 9; r := 3\n",
      "p := 5; r := p\n",
      "b := 7; r := b\n",
      "a := 5; v := a\n",
      "d := 1; j := d\n",
      "l := 7; x := l\n",
      "e := 3; z := e\n",
      "h := 8; v := h\n",
      "f := 6; p := f\n"
     ]
    }
   ],
   "source": [
    "for _ in range(10):\n",
    "    print(next(solver.solve()))"
   ]
  },
  {
   "cell_type": "markdown",
   "metadata": {
    "slideshow": {
     "slide_type": "subslide"
    }
   },
   "source": [
    "This is much better already, but not perfect yet - we might still have assignments like `a := a` or `a := b; b := 5`.\n",
    "That is because our constraints do not yet take care of _ordering_ – in a `<rhs>` element, we can only use variables that are defined earlier."
   ]
  },
  {
   "cell_type": "markdown",
   "metadata": {
    "slideshow": {
     "slide_type": "fragment"
    }
   },
   "source": [
    "For this purpose, ISLa provides a `before()` predicate: `before(A, B)` expresses that the element `A` must occur before the element `B`.\n",
    "With `before()`, we can rewrite our constraint as"
   ]
  },
  {
   "cell_type": "code",
   "execution_count": 60,
   "metadata": {
    "execution": {
     "iopub.execute_input": "2022-08-06T16:16:36.537620Z",
     "iopub.status.busy": "2022-08-06T16:16:36.535604Z",
     "iopub.status.idle": "2022-08-06T16:16:36.540031Z",
     "shell.execute_reply": "2022-08-06T16:16:36.540250Z"
    },
    "slideshow": {
     "slide_type": "subslide"
    }
   },
   "outputs": [],
   "source": [
    "solver = ISLaSolver(LANG_GRAMMAR, \n",
    "            '''\n",
    "            forall <rhs> in <stmt>:\n",
    "                exists <lhs> in <stmt>:\n",
    "                    (before(<lhs>, <rhs>) and\n",
    "                     <rhs>.<var> = <lhs>.<var>)\n",
    "            ''')"
   ]
  },
  {
   "cell_type": "markdown",
   "metadata": {
    "slideshow": {
     "slide_type": "fragment"
    }
   },
   "source": [
    "... and thus ensure that on the right-hand-side of assignments, we only use identifiers defined earlier."
   ]
  },
  {
   "cell_type": "code",
   "execution_count": 61,
   "metadata": {
    "execution": {
     "iopub.execute_input": "2022-08-06T16:16:36.544485Z",
     "iopub.status.busy": "2022-08-06T16:16:36.544203Z",
     "iopub.status.idle": "2022-08-06T16:16:37.562938Z",
     "shell.execute_reply": "2022-08-06T16:16:37.563135Z"
    },
    "slideshow": {
     "slide_type": "subslide"
    }
   },
   "outputs": [
    {
     "name": "stdout",
     "output_type": "stream",
     "text": [
      "p := 5\n",
      "v := 6; e := 8\n",
      "i := 9; m := i\n",
      "f := 9; d := f\n",
      "p := 5; e := p\n",
      "h := 6; u := h\n",
      "a := 4; o := a\n",
      "d := 0; f := d\n",
      "e := 6; n := e\n",
      "x := 7; x := x\n"
     ]
    }
   ],
   "source": [
    "for _ in range(10):\n",
    "    print(next(solver.solve()))"
   ]
  },
  {
   "cell_type": "markdown",
   "metadata": {
    "slideshow": {
     "slide_type": "fragment"
    }
   },
   "source": [
    "* FIXME: What does one have to do to prevent `a := a`, though?"
   ]
  },
  {
   "cell_type": "markdown",
   "metadata": {
    "slideshow": {
     "slide_type": "subslide"
    }
   },
   "source": [
    "In case you find that the assignment sequences are too short, you can use the ISLa `count()` predicate.\n",
    "`count(VARIABLE, NONTERMINAL, N)` ensures that the number of NONTERMINALs in VARIABLE is exactly N.\n",
    "To have statements with exactly 5 assignments, write"
   ]
  },
  {
   "cell_type": "code",
   "execution_count": 62,
   "metadata": {
    "execution": {
     "iopub.execute_input": "2022-08-06T16:16:37.569627Z",
     "iopub.status.busy": "2022-08-06T16:16:37.568517Z",
     "iopub.status.idle": "2022-08-06T16:16:37.574150Z",
     "shell.execute_reply": "2022-08-06T16:16:37.573831Z"
    },
    "slideshow": {
     "slide_type": "fragment"
    }
   },
   "outputs": [],
   "source": [
    "solver = ISLaSolver(LANG_GRAMMAR, \n",
    "            '''\n",
    "            forall <rhs> in <stmt>:\n",
    "                exists <lhs> in <stmt>:\n",
    "                    (before(<lhs>, <rhs>) and\n",
    "                     <rhs>.<var> = <lhs>.<var>)\n",
    "            and\n",
    "            count(<start>, \"<assgn>\", 5)\n",
    "            ''')"
   ]
  },
  {
   "cell_type": "code",
   "execution_count": 63,
   "metadata": {
    "execution": {
     "iopub.execute_input": "2022-08-06T16:16:37.575861Z",
     "iopub.status.busy": "2022-08-06T16:16:37.575456Z",
     "iopub.status.idle": "2022-08-06T16:16:37.592030Z",
     "shell.execute_reply": "2022-08-06T16:16:37.592280Z"
    },
    "slideshow": {
     "slide_type": "subslide"
    }
   },
   "outputs": [
    {
     "name": "stderr",
     "output_type": "stream",
     "text": [
      "Traceback (most recent call last):\n",
      "  File \"/var/folders/n2/xd9445p97rb3xh7m1dfx8_4h0006ts/T/ipykernel_39459/2187918683.py\", line 3, in <module>\n",
      "    print(next(solver.solve()))\n",
      "  File \"/Users/zeller/.pyenv/versions/3.10.2/lib/python3.10/site-packages/isla/solver.py\", line 376, in solve\n",
      "    result_state = self.eliminate_all_ready_semantic_predicate_formulas(state)\n",
      "  File \"/Users/zeller/.pyenv/versions/3.10.2/lib/python3.10/site-packages/isla/solver.py\", line 776, in eliminate_all_ready_semantic_predicate_formulas\n",
      "    evaluation_result = semantic_predicate_formula.evaluate(self.graph, negate=negated)\n",
      "  File \"/Users/zeller/.pyenv/versions/3.10.2/lib/python3.10/site-packages/isla/language.py\", line 854, in evaluate\n",
      "    return self.predicate.evaluate(graph, *self.args, negate=negate)\n",
      "  File \"/Users/zeller/.pyenv/versions/3.10.2/lib/python3.10/site-packages/isla/language.py\", line 831, in evaluate\n",
      "    return self.eval_fun(graph, *instantiations)\n",
      "  File \"/Users/zeller/.pyenv/versions/3.10.2/lib/python3.10/site-packages/isla/isla_predicates.py\", line 210, in count\n",
      "    assert not num.children\n",
      "AttributeError: 'int' object has no attribute 'children' (expected)\n"
     ]
    }
   ],
   "source": [
    "with ExpectError():\n",
    "    for _ in range(10):\n",
    "        print(next(solver.solve()))"
   ]
  },
  {
   "cell_type": "markdown",
   "metadata": {
    "slideshow": {
     "slide_type": "subslide"
    }
   },
   "source": [
    "* FIXME: What am I doing wrong here?"
   ]
  },
  {
   "cell_type": "markdown",
   "metadata": {
    "slideshow": {
     "slide_type": "fragment"
    }
   },
   "source": [
    "Here's a poor man's alternative:"
   ]
  },
  {
   "cell_type": "code",
   "execution_count": 64,
   "metadata": {
    "execution": {
     "iopub.execute_input": "2022-08-06T16:16:37.595914Z",
     "iopub.status.busy": "2022-08-06T16:16:37.595550Z",
     "iopub.status.idle": "2022-08-06T16:16:37.598387Z",
     "shell.execute_reply": "2022-08-06T16:16:37.598664Z"
    },
    "slideshow": {
     "slide_type": "fragment"
    }
   },
   "outputs": [],
   "source": [
    "solver = ISLaSolver(LANG_GRAMMAR, \n",
    "            '''\n",
    "            str.len(<stmt>) > 20\n",
    "            ''')"
   ]
  },
  {
   "cell_type": "code",
   "execution_count": 65,
   "metadata": {
    "execution": {
     "iopub.execute_input": "2022-08-06T16:16:37.603169Z",
     "iopub.status.busy": "2022-08-06T16:16:37.602644Z",
     "iopub.status.idle": "2022-08-06T16:16:39.200095Z",
     "shell.execute_reply": "2022-08-06T16:16:39.200664Z"
    },
    "slideshow": {
     "slide_type": "subslide"
    }
   },
   "outputs": [
    {
     "name": "stdout",
     "output_type": "stream",
     "text": [
      "p := 2; l := 2; p := 0\n"
     ]
    },
    {
     "name": "stderr",
     "output_type": "stream",
     "text": [
      "Traceback (most recent call last):\n",
      "  File \"/var/folders/n2/xd9445p97rb3xh7m1dfx8_4h0006ts/T/ipykernel_39459/2187918683.py\", line 3, in <module>\n",
      "    print(next(solver.solve()))\n",
      "StopIteration (expected)\n"
     ]
    }
   ],
   "source": [
    "with ExpectError():\n",
    "    for _ in range(10):\n",
    "        print(next(solver.solve()))"
   ]
  },
  {
   "cell_type": "markdown",
   "metadata": {
    "slideshow": {
     "slide_type": "fragment"
    }
   },
   "source": [
    "* FIXME: This doesn't satisfy the constraint"
   ]
  },
  {
   "cell_type": "markdown",
   "metadata": {
    "slideshow": {
     "slide_type": "slide"
    }
   },
   "source": [
    "## Synopsis"
   ]
  },
  {
   "cell_type": "markdown",
   "metadata": {
    "slideshow": {
     "slide_type": "fragment"
    }
   },
   "source": [
    "This chapter introduces the _ISLa framework_, consisting of \n",
    "* the _ISLa specification language_, allowing to add _constraints_ to a grammar\n",
    "* the _ISLa solver_, solving these constraints to produce semantically (and syntactically) valid inputs\n",
    "* the _ISLa checker_, checking given inputs for whether they satisfy these constraints."
   ]
  },
  {
   "cell_type": "markdown",
   "metadata": {
    "slideshow": {
     "slide_type": "subslide"
    }
   },
   "source": [
    "A typical usage of the ISLa solver is as follows.\n",
    "First, install ISLa, using \n",
    "```shell\n",
    "$ pip install isla-solver\n",
    "```\n",
    "Then, you can import the solver as"
   ]
  },
  {
   "cell_type": "code",
   "execution_count": 66,
   "metadata": {
    "execution": {
     "iopub.execute_input": "2022-08-06T16:16:39.203504Z",
     "iopub.status.busy": "2022-08-06T16:16:39.203191Z",
     "iopub.status.idle": "2022-08-06T16:16:39.204505Z",
     "shell.execute_reply": "2022-08-06T16:16:39.204763Z"
    },
    "slideshow": {
     "slide_type": "skip"
    },
    "tags": []
   },
   "outputs": [],
   "source": [
    "from isla.solver import ISLaSolver  # type: ignore"
   ]
  },
  {
   "cell_type": "markdown",
   "metadata": {
    "slideshow": {
     "slide_type": "fragment"
    }
   },
   "source": [
    "The ISLa solver needs two things. First, a _grammar_ - say, US phone numbers."
   ]
  },
  {
   "cell_type": "code",
   "execution_count": 67,
   "metadata": {
    "execution": {
     "iopub.execute_input": "2022-08-06T16:16:39.206806Z",
     "iopub.status.busy": "2022-08-06T16:16:39.206471Z",
     "iopub.status.idle": "2022-08-06T16:16:39.207613Z",
     "shell.execute_reply": "2022-08-06T16:16:39.207814Z"
    },
    "slideshow": {
     "slide_type": "skip"
    }
   },
   "outputs": [],
   "source": [
    "from Grammars import US_PHONE_GRAMMAR"
   ]
  },
  {
   "cell_type": "markdown",
   "metadata": {
    "slideshow": {
     "slide_type": "subslide"
    }
   },
   "source": [
    "Second, you need )constraints – a string expressing a condition over one or more grammar elements.\n",
    "Common functions include\n",
    "* `str.len()`, returning the length of a string\n",
    "* `str.to.int()`, converting a string to an integer"
   ]
  },
  {
   "cell_type": "markdown",
   "metadata": {
    "slideshow": {
     "slide_type": "fragment"
    }
   },
   "source": [
    "Here, we instantiate the ISLa solver with a constraint stating that the area code should be above 900:"
   ]
  },
  {
   "cell_type": "code",
   "execution_count": 68,
   "metadata": {
    "execution": {
     "iopub.execute_input": "2022-08-06T16:16:39.211431Z",
     "iopub.status.busy": "2022-08-06T16:16:39.211069Z",
     "iopub.status.idle": "2022-08-06T16:16:39.219858Z",
     "shell.execute_reply": "2022-08-06T16:16:39.220113Z"
    },
    "slideshow": {
     "slide_type": "fragment"
    }
   },
   "outputs": [],
   "source": [
    "solver = ISLaSolver(US_PHONE_GRAMMAR, \n",
    "            \"\"\"\n",
    "            str.to.int(<area>) > 900\n",
    "            \"\"\")"
   ]
  },
  {
   "cell_type": "markdown",
   "metadata": {
    "slideshow": {
     "slide_type": "fragment"
    }
   },
   "source": [
    "With that, invoking `solver.solve()` produces an iterator over multiple solutions."
   ]
  },
  {
   "cell_type": "code",
   "execution_count": 69,
   "metadata": {
    "execution": {
     "iopub.execute_input": "2022-08-06T16:16:39.232140Z",
     "iopub.status.busy": "2022-08-06T16:16:39.231806Z",
     "iopub.status.idle": "2022-08-06T16:16:40.379048Z",
     "shell.execute_reply": "2022-08-06T16:16:40.379394Z"
    },
    "slideshow": {
     "slide_type": "subslide"
    }
   },
   "outputs": [
    {
     "name": "stdout",
     "output_type": "stream",
     "text": [
      "(906)465-8279\n",
      "(901)695-2708\n",
      "(902)382-9074\n",
      "(904)632-6458\n",
      "(992)839-0278\n",
      "(920)458-0439\n",
      "(908)847-3098\n",
      "(910)589-0372\n",
      "(914)992-6350\n",
      "(984)431-0475\n"
     ]
    }
   ],
   "source": [
    "for _ in range(10):\n",
    "    print(next(solver.solve()))"
   ]
  },
  {
   "cell_type": "markdown",
   "metadata": {
    "slideshow": {
     "slide_type": "fragment"
    }
   },
   "source": [
    "We see that the solver produces a number of inputs that all satisfy the constraint."
   ]
  },
  {
   "cell_type": "markdown",
   "metadata": {
    "slideshow": {
     "slide_type": "subslide"
    }
   },
   "source": [
    "The `solve()` method provides several additional parameters to configure the solver, as documented below\n",
    "Additional `ISLaSolver` methods allow to check inputs against constraints, and provide additional functionality."
   ]
  },
  {
   "cell_type": "code",
   "execution_count": 70,
   "metadata": {
    "execution": {
     "iopub.execute_input": "2022-08-06T16:16:40.381352Z",
     "iopub.status.busy": "2022-08-06T16:16:40.381087Z",
     "iopub.status.idle": "2022-08-06T16:16:40.382182Z",
     "shell.execute_reply": "2022-08-06T16:16:40.382418Z"
    },
    "slideshow": {
     "slide_type": "fragment"
    }
   },
   "outputs": [],
   "source": [
    "# ignore\n",
    "import warnings"
   ]
  },
  {
   "cell_type": "code",
   "execution_count": 71,
   "metadata": {
    "execution": {
     "iopub.execute_input": "2022-08-06T16:16:40.384651Z",
     "iopub.status.busy": "2022-08-06T16:16:40.384355Z",
     "iopub.status.idle": "2022-08-06T16:16:40.761656Z",
     "shell.execute_reply": "2022-08-06T16:16:40.761898Z"
    },
    "slideshow": {
     "slide_type": "subslide"
    }
   },
   "outputs": [
    {
     "name": "stderr",
     "output_type": "stream",
     "text": [
      "/Users/zeller/Projects/fuzzingbook/notebooks/ClassDiagram.ipynb:367: UserWarning: ISLaSolver.solve() is listed as public, but has no docstring\n",
      "  warnings.warn(f\"{f.__qualname__}() is listed as public,\"\n",
      "/Users/zeller/Projects/fuzzingbook/notebooks/ClassDiagram.ipynb:440: UserWarning: Class ISLaSolver has no docstring\n",
      "  warnings.warn(f\"Class {cls.__name__} has no docstring\")\n"
     ]
    },
    {
     "data": {
      "image/svg+xml": [
       "<?xml version=\"1.0\" encoding=\"UTF-8\" standalone=\"no\"?>\n",
       "<!DOCTYPE svg PUBLIC \"-//W3C//DTD SVG 1.1//EN\"\n",
       " \"http://www.w3.org/Graphics/SVG/1.1/DTD/svg11.dtd\">\n",
       "<!-- Generated by graphviz version 5.0.0 (20220707.1540)\n",
       " -->\n",
       "<!-- Pages: 1 -->\n",
       "<svg width=\"228pt\" height=\"62pt\"\n",
       " viewBox=\"0.00 0.00 228.00 62.00\" xmlns=\"http://www.w3.org/2000/svg\" xmlns:xlink=\"http://www.w3.org/1999/xlink\">\n",
       "<g id=\"graph0\" class=\"graph\" transform=\"scale(1 1) rotate(0) translate(4 58)\">\n",
       "<g id=\"a_graph0\"><a xlink:title=\"ISLaSolver class hierarchy\">\n",
       "<polygon fill=\"white\" stroke=\"transparent\" points=\"-4,4 -4,-58 224,-58 224,4 -4,4\"/>\n",
       "</a>\n",
       "</g>\n",
       "<!-- ISLaSolver -->\n",
       "<g id=\"node1\" class=\"node\">\n",
       "<title>ISLaSolver</title>\n",
       "<g id=\"a_node1\"><a xlink:href=\"isla.solver.ipynb\" xlink:title=\"class ISLaSolver\">\n",
       "<polygon fill=\"none\" stroke=\"black\" points=\"0,-0.5 0,-53.5 82,-53.5 82,-0.5 0,-0.5\"/>\n",
       "<text text-anchor=\"start\" x=\"8\" y=\"-39.3\" font-family=\"Patua One, Helvetica, sans-serif\" font-weight=\"bold\" font-size=\"14.00\" fill=\"#b03a2e\">ISLaSolver</text>\n",
       "<polyline fill=\"none\" stroke=\"black\" points=\"0,-30.5 82,-30.5 \"/>\n",
       "<g id=\"a_node1_0\"><a xlink:href=\"#\" xlink:title=\"ISLaSolver\">\n",
       "<g id=\"a_node1_1\"><a xlink:href=\"isla.solver.ipynb\" xlink:title=\"__init__(self, grammar: Dict[str, List[str]], formula: Union[isla.language.Formula, str], structural_predicates: Set[isla.language.StructuralPredicate] = {Predicate(level, 4), Predicate(same_position, 2), Predicate(inside, 2), Predicate(after, 2), Predicate(consecutive, 2), Predicate(before, 2), Predicate(different_position, 2), Predicate(nth, 3)}, semantic_predicates: Set[isla.language.SemanticPredicate] = {SemanticPredicate(count, 3)}, max_number_free_instantiations: int = 10, max_number_smt_instantiations: int = 10, max_number_tree_insertion_results: int = 5, enforce_unique_trees_in_queue: bool = True, precompute_reachability: bool = False, debug: bool = False, cost_computer: Optional[ForwardRef(&#39;CostComputer&#39;)] = None, timeout_seconds: Optional[int] = None, global_fuzzer: bool = False, predicates_unique_in_int_arg: Tuple[isla.language.SemanticPredicate, ...] = (SemanticPredicate(count, 3),), fuzzer_factory: Callable[[Dict[str, List[str]]], isla.fuzzer.GrammarFuzzer] = &lt;function ISLaSolver.&lt;lambda&gt; at 0x122344040&gt;, tree_insertion_methods=7):&#10;:param grammar: The underlying grammar.&#10;:param formula: The formula to solve.&#10;:param max_number_free_instantiations: Number of times that nonterminals that are not bound by any formula&#10;should be expanded by a coverage&#45;based fuzzer.&#10;:param max_number_smt_instantiations: Number of solutions of SMT formulas that should be produced.&#10;:param precompute_reachability: If true, the distances between all grammar nodes are pre&#45;computed using&#10;Floyd&#45;Warshall&#39;s algorithm. This makes sense if there are many expensive distance queries, e.g., in a big&#10;grammar and a constraint with relatively many universal quantifiers.&#10;:param debug: If true, debug information about the evolution of states is collected, notably in the&#10;field state_tree. The root of the tree is in the field state_tree_root. The field costs stores the computed&#10;cost values for all new nodes.&#10;:param global_fuzzer: If set to True, only one coverage&#45;guided grammar fuzzer object is used to finish&#10;off unconstrained open derivation trees throughout the whole generation time. This may be beneficial for&#10;some targets; e.g., we experienced that CSV works significantly faster. However, the achieved k&#45;path coverage&#10;can be lower with that setting.&#10;:param predicates_unique_in_int_arg: This is needed in certain cases for instantiating universal&#10;integer quantifiers. The supplied predicates should have exactly one integer argument, and hold&#10;for exactly one integer value once all other parameters are fixed.&#10;:param fuzzer_factory: Constructor of the fuzzer to use for instantiating &quot;free&quot; nonterminals.&#10;:param tree_insertion_methods: Combination of methods to use for existential quantifier elimination by&#10;tree insertion. Full selection: `DIRECT_EMBEDDING &amp; SELF_EMBEDDING &amp; CONTEXT_ADDITION`.\">\n",
       "<text text-anchor=\"start\" x=\"11\" y=\"-19.5\" font-family=\"'Fira Mono', 'Source Code Pro', 'Courier', monospace\" font-weight=\"bold\" font-size=\"10.00\">__init__()</text>\n",
       "</a>\n",
       "</g>\n",
       "<g id=\"a_node1_2\"><a xlink:href=\"isla.solver.ipynb\" xlink:title=\"solve(self) &#45;&gt; Generator[isla.derivation_tree.DerivationTree, NoneType, NoneType]\">\n",
       "<text text-anchor=\"start\" x=\"11\" y=\"-8.5\" font-family=\"'Fira Mono', 'Source Code Pro', 'Courier', monospace\" font-weight=\"bold\" font-size=\"10.00\">solve()</text>\n",
       "</a>\n",
       "</g>\n",
       "</a>\n",
       "</g>\n",
       "</a>\n",
       "</g>\n",
       "</g>\n",
       "<!-- Legend -->\n",
       "<g id=\"node2\" class=\"node\">\n",
       "<title>Legend</title>\n",
       "<text text-anchor=\"start\" x=\"100\" y=\"-44.5\" font-family=\"Patua One, Helvetica, sans-serif\" font-weight=\"bold\" font-size=\"10.00\" fill=\"#b03a2e\">Legend</text>\n",
       "<text text-anchor=\"start\" x=\"100\" y=\"-34.5\" font-family=\"Patua One, Helvetica, sans-serif\" font-size=\"10.00\">• </text>\n",
       "<text text-anchor=\"start\" x=\"107\" y=\"-34.5\" font-family=\"'Fira Mono', 'Source Code Pro', 'Courier', monospace\" font-weight=\"bold\" font-size=\"8.00\">public_method()</text>\n",
       "<text text-anchor=\"start\" x=\"100\" y=\"-24.5\" font-family=\"Patua One, Helvetica, sans-serif\" font-size=\"10.00\">• </text>\n",
       "<text text-anchor=\"start\" x=\"107\" y=\"-24.5\" font-family=\"'Fira Mono', 'Source Code Pro', 'Courier', monospace\" font-size=\"8.00\">private_method()</text>\n",
       "<text text-anchor=\"start\" x=\"100\" y=\"-14.5\" font-family=\"Patua One, Helvetica, sans-serif\" font-size=\"10.00\">• </text>\n",
       "<text text-anchor=\"start\" x=\"107\" y=\"-14.5\" font-family=\"'Fira Mono', 'Source Code Pro', 'Courier', monospace\" font-style=\"italic\" font-size=\"8.00\">overloaded_method()</text>\n",
       "<text text-anchor=\"start\" x=\"100\" y=\"-5.3\" font-family=\"Helvetica,sans-Serif\" font-size=\"9.00\">Hover over names to see doc</text>\n",
       "</g>\n",
       "</g>\n",
       "</svg>\n"
      ],
      "text/plain": [
       "<graphviz.graphs.Digraph at 0x1570f6680>"
      ]
     },
     "execution_count": 71,
     "metadata": {},
     "output_type": "execute_result"
    }
   ],
   "source": [
    "# ignore\n",
    "with warnings.catch_warnings():\n",
    "    warnings.simplefilter(\"default\")\n",
    "\n",
    "    from ClassDiagram import display_class_hierarchy\n",
    "    hierarchy = display_class_hierarchy([ISLaSolver],\n",
    "                           public_methods=[\n",
    "                                ISLaSolver.__init__,\n",
    "                                ISLaSolver.solve,\n",
    "                            ])\n",
    "hierarchy"
   ]
  },
  {
   "cell_type": "markdown",
   "metadata": {
    "slideshow": {
     "slide_type": "subslide"
    }
   },
   "source": [
    "* FIXME: Have docstrings for publicly available methods\n",
    "* FIXME: Have a docstring for the `ISLaSolver` class\n",
    "* FIXME: Have a public interface for checking inputs against constraints (preferably in `ISLaSolver`, as it already has the grammar and the constraints)."
   ]
  },
  {
   "cell_type": "markdown",
   "metadata": {
    "button": false,
    "new_sheet": true,
    "run_control": {
     "read_only": false
    },
    "slideshow": {
     "slide_type": "slide"
    }
   },
   "source": [
    "## Lessons Learned\n",
    "\n",
    "* Using ISLa, we can add and solve _constraints_ to grammars, allowing to express _semantic properties_ of our test inputs\n",
    "* Declaring constraints (and have a solver solve them) is much more versatile than adding generator code, and language-independent, too\n",
    "* Using ISLa is fun :-)"
   ]
  },
  {
   "cell_type": "markdown",
   "metadata": {
    "button": false,
    "new_sheet": false,
    "run_control": {
     "read_only": false
    },
    "slideshow": {
     "slide_type": "slide"
    }
   },
   "source": [
    "## Next Steps\n",
    "\n",
    "In the remainder of this part, we will continue to focus on semantics.\n",
    "Among others, we will learn how to\n",
    "\n",
    "* [mine grammars from existing inputs](GrammarMiner.ipynb)\n",
    "* [use symbolic fuzzing - that is, using constraint solvers to reach particular locations](SymbolicFuzzer.ipynb)\n",
    "* [use concolic fuzzing - that is, combining symbolic fuzzing with concrete runs for higher efficiency](ConcolicFuzzer.ipynb)"
   ]
  },
  {
   "cell_type": "markdown",
   "metadata": {
    "slideshow": {
     "slide_type": "slide"
    }
   },
   "source": [
    "## Background\n",
    "\n",
    "* ISLa is published in the paper [\"Input Invariants\"](https://publications.cispa.saarland/3596/) at ESEC/FSE 2022.\n",
    "* The [ISLa project](https://github.com/rindPHI/isla) contains the full source code and a complete reference."
   ]
  },
  {
   "cell_type": "markdown",
   "metadata": {
    "button": false,
    "new_sheet": true,
    "run_control": {
     "read_only": false
    },
    "slideshow": {
     "slide_type": "slide"
    }
   },
   "source": [
    "## Exercises\n",
    "\n",
    "To be added."
   ]
  }
 ],
 "metadata": {
  "ipub": {
   "bibliography": "fuzzingbook.bib",
   "toc": true
  },
  "kernelspec": {
   "display_name": "Python 3 (ipykernel)",
   "language": "python",
   "name": "python3"
  },
  "language_info": {
   "codemirror_mode": {
    "name": "ipython",
    "version": 3
   },
   "file_extension": ".py",
   "mimetype": "text/x-python",
   "name": "python",
   "nbconvert_exporter": "python",
   "pygments_lexer": "ipython3",
   "version": "3.10.2"
  },
  "toc": {
   "base_numbering": 1,
   "nav_menu": {},
   "number_sections": true,
   "sideBar": true,
   "skip_h1_title": true,
   "title_cell": "",
   "title_sidebar": "Contents",
   "toc_cell": false,
   "toc_position": {},
   "toc_section_display": true,
   "toc_window_display": true
  },
  "toc-autonumbering": false
 },
 "nbformat": 4,
 "nbformat_minor": 4
}