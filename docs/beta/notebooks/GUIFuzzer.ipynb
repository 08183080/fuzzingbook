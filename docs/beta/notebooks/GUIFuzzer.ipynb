{
 "cells": [
  {
   "cell_type": "markdown",
   "metadata": {
    "button": false,
    "new_sheet": false,
    "run_control": {
     "read_only": false
    },
    "slideshow": {
     "slide_type": "slide"
    }
   },
   "source": [
    "# Testing Graphical User Interfaces\n",
    "\n",
    "In this chapter, we explore how to generate tests for Graphical User Interfaces (GUIs), abstracting from our [previous examples on Web testing](WebFuzzer.ipynb).  Building on general means to extract user interface elements and to activate them, our techniques generalize to arbitrary graphical user interfaces, from rich Web applications to mobile apps, and systematically explore user interfaces through forms and navigation elements."
   ]
  },
  {
   "cell_type": "markdown",
   "metadata": {
    "button": false,
    "new_sheet": false,
    "run_control": {
     "read_only": false
    },
    "slideshow": {
     "slide_type": "subslide"
    }
   },
   "source": [
    "**Prerequisites**\n",
    "\n",
    "* We build on the Web server introduced in the [chapter on Web testing](WebFuzzer.ipynb)."
   ]
  },
  {
   "cell_type": "markdown",
   "metadata": {
    "slideshow": {
     "slide_type": "slide"
    }
   },
   "source": [
    "## Synopsis\n",
    "<!-- Automatically generated. Do not edit. -->\n",
    "\n",
    "To [use the code provided in this chapter](Importing.ipynb), write\n",
    "\n",
    "```python\n",
    ">>> from fuzzingbook.GUIFuzzer import <identifier>\n",
    "```\n",
    "\n",
    "and then make use of the following features.\n",
    "\n",
    "\n",
    "This chapter demonstrates how to programmatically interact with user interfaces, using Selenium on Web browsers.  It provides an experimental  `GUICoverageFuzzer` class that automatically explores a user interface by systematically interacting with all available user interface elements.\n",
    "\n",
    "The function `start_webdriver()` starts a headless Web browser in the background and returns a _GUI driver_ as handle for further communication.\n",
    "\n",
    "```python\n",
    ">>> gui_driver = start_webdriver()\n",
    "```\n",
    "We let it the browser open the URL of the server we want to investigate (in this case, the vulnerable server from [the chapter on Web fuzzing](WebFuzzer.ipynb)) and obtain a screen shot.\n",
    "\n",
    "```python\n",
    ">>> gui_driver.get(httpd_url)\n",
    ">>> Image(gui_driver.get_screenshot_as_png())\n",
    "```\n",
    "\n",
    "![](PICS/GUIFuzzer-synopsis-1.png)\n",
    "\n",
    "The `GUICoverageFuzzer` class explores the user interface and builds a _grammar_ that encodes all states as well as the user interactions required to move from one state to the next.  It is paired with a `GUIRunner` which interacts with the GUI driver.\n",
    "\n",
    "```python\n",
    ">>> gui_fuzzer = GUICoverageFuzzer(gui_driver)\n",
    ">>> gui_runner = GUIRunner(gui_driver)\n",
    "```\n",
    "The `explore_all()` method extracts all states and all transitions from a Web user interface.\n",
    "\n",
    "```python\n",
    ">>> gui_fuzzer.explore_all(gui_runner)\n",
    "```\n",
    "The grammar embeds a finite state automation and is best visualized as such.\n",
    "\n",
    "```python\n",
    ">>> fsm_diagram(gui_fuzzer.grammar)\n",
    "```\n",
    "\n",
    "![](PICS/GUIFuzzer-synopsis-2.svg)\n",
    "\n",
    "The GUI Fuzzer `fuzz()` method produces sequences of interactions that follow paths through the finite state machine.  Since `GUICoverageFuzzer` is derived from `CoverageFuzzer` (see the [chapter on coverage-based grammar fuzzing](GrammarCoverageFuzzer.ipynb)), it automatically covers (a) as many transitions between states as well as (b) as many form elements as possible.  In our case, the first set of actions explores the transition via the \"order form\" link; the second set then goes until the \"<end>\" state.\n",
    "\n",
    "```python\n",
    ">>> gui_driver.get(httpd_url)\n",
    ">>> actions = gui_fuzzer.fuzz()\n",
    ">>> print(actions)\n",
    "click('terms and conditions')\n",
    "click('order form')\n",
    "check('terms', True)\n",
    "fill('city', 'a')\n",
    "fill('zip', '4')\n",
    "fill('email', 'GM@pC')\n",
    "fill('name', 'YTZk')\n",
    "submit('submit')\n",
    "\n",
    "\n",
    "```\n",
    "These actions can be fed into the GUI runner, which will execute them on the given GUI driver.\n",
    "\n",
    "```python\n",
    ">>> gui_driver.get(httpd_url)\n",
    ">>> result, outcome = gui_runner.run(actions)\n",
    ">>> Image(gui_driver.get_screenshot_as_png())\n",
    "```\n",
    "\n",
    "![](PICS/GUIFuzzer-synopsis-3.png)\n",
    "\n",
    "Further invocations of `fuzz()` will further cover the model – for instance, exploring the terms and conditions.\n",
    "\n",
    "A tool like `GUICoverageFuzzer` will provide \"deep\" exploration of user interfaces, even filling out forms to explore what is behind them. Keep in mind, though, that `GUICoverageFuzzer` is experimental: It only supports a subset of HTML form and link features, and does not take JavaScript into account.\n",
    "\n"
   ]
  },
  {
   "cell_type": "markdown",
   "metadata": {
    "button": false,
    "new_sheet": true,
    "run_control": {
     "read_only": false
    },
    "slideshow": {
     "slide_type": "slide"
    }
   },
   "source": [
    "## Automated GUI Interaction\n",
    "\n",
    "In the [chapter on Web testing](WebFuzzer.ipynb), we have shown how to test Web-based interfaces by directly interacting with a Web server using the HTTP protocol, and processing the retrieved HTML pages to identify user interface elements.  While these techniques work well for user interfaces that are based on HTML only, they fail as soon as there are interactive elements that use JavaScript to execute code within the browser, and generate and change the user interface without having to interact with the browser."
   ]
  },
  {
   "cell_type": "markdown",
   "metadata": {
    "button": false,
    "new_sheet": true,
    "run_control": {
     "read_only": false
    },
    "slideshow": {
     "slide_type": "subslide"
    }
   },
   "source": [
    "In this chapter, we therefore take a different approach to user interface testing.  Rather than using HTTP and HTML as the mechanisms for interaction, we leverage a dedicated _UI testing framework_, which allows us to\n",
    "\n",
    "* query the program under test for available user interface elements, and\n",
    "* query the UI elements for how they can be interacted with.\n",
    "\n",
    "Although we will again illustrate our approach using a Web server, the approach easily generalizes to _arbitrary user interfaces_.  In fact, the UI testing framework we use, *Selenium*, also comes in variants that run for Android apps."
   ]
  },
  {
   "cell_type": "markdown",
   "metadata": {
    "button": false,
    "new_sheet": true,
    "run_control": {
     "read_only": false
    },
    "slideshow": {
     "slide_type": "subslide"
    }
   },
   "source": [
    "### Our Web Server, Again\n",
    "\n",
    "As in the [chapter on Web testing](WebFuzzer.ipynb), we run a Web server that allows us to order products."
   ]
  },
  {
   "cell_type": "code",
   "execution_count": 1,
   "metadata": {
    "button": false,
    "new_sheet": false,
    "run_control": {
     "read_only": false
    },
    "slideshow": {
     "slide_type": "skip"
    }
   },
   "outputs": [],
   "source": [
    "import fuzzingbook_utils"
   ]
  },
  {
   "cell_type": "code",
   "execution_count": 2,
   "metadata": {
    "slideshow": {
     "slide_type": "skip"
    }
   },
   "outputs": [],
   "source": [
    "from WebFuzzer import init_db, start_httpd, webbrowser, print_httpd_messages, print_url, ORDERS_DB"
   ]
  },
  {
   "cell_type": "code",
   "execution_count": 3,
   "metadata": {
    "slideshow": {
     "slide_type": "skip"
    }
   },
   "outputs": [],
   "source": [
    "import html"
   ]
  },
  {
   "cell_type": "code",
   "execution_count": 4,
   "metadata": {
    "slideshow": {
     "slide_type": "fragment"
    }
   },
   "outputs": [],
   "source": [
    "db = init_db()"
   ]
  },
  {
   "cell_type": "markdown",
   "metadata": {
    "slideshow": {
     "slide_type": "fragment"
    }
   },
   "source": [
    "This is the address of our web server:"
   ]
  },
  {
   "cell_type": "code",
   "execution_count": 5,
   "metadata": {
    "slideshow": {
     "slide_type": "fragment"
    }
   },
   "outputs": [
    {
     "data": {
      "text/html": [
       "<pre><a href=\"http://127.0.0.1:8800\">http://127.0.0.1:8800</a></pre>"
      ],
      "text/plain": [
       "<IPython.core.display.HTML object>"
      ]
     },
     "metadata": {},
     "output_type": "display_data"
    }
   ],
   "source": [
    "httpd_process, httpd_url = start_httpd()\n",
    "print_url(httpd_url)"
   ]
  },
  {
   "cell_type": "markdown",
   "metadata": {
    "slideshow": {
     "slide_type": "fragment"
    }
   },
   "source": [
    "Using `webbrowser()`, we can retrieve the HTML of the home page, and use `HTML()` to render it."
   ]
  },
  {
   "cell_type": "code",
   "execution_count": 6,
   "metadata": {
    "slideshow": {
     "slide_type": "skip"
    }
   },
   "outputs": [],
   "source": [
    "from IPython.display import display, Image"
   ]
  },
  {
   "cell_type": "code",
   "execution_count": 7,
   "metadata": {
    "slideshow": {
     "slide_type": "skip"
    }
   },
   "outputs": [],
   "source": [
    "from fuzzingbook_utils import HTML, rich_output"
   ]
  },
  {
   "cell_type": "code",
   "execution_count": 8,
   "metadata": {
    "slideshow": {
     "slide_type": "fragment"
    }
   },
   "outputs": [
    {
     "data": {
      "text/html": [
       "<pre style=\"background: NavajoWhite;\">127.0.0.1 - - [21/May/2019 19:23:01] \"GET / HTTP/1.1\" 200 -\n",
       "</pre>"
      ],
      "text/plain": [
       "<IPython.core.display.HTML object>"
      ]
     },
     "metadata": {},
     "output_type": "display_data"
    },
    {
     "data": {
      "text/html": [
       "\n",
       "<html><body>\n",
       "<form action=\"/order\" style=\"border:3px; border-style:solid; border-color:#FF0000; padding: 1em;\">\n",
       "  <strong id=\"title\" style=\"font-size: x-large\">Fuzzingbook Swag Order Form</strong>\n",
       "  <p>\n",
       "  Yes! Please send me at your earliest convenience\n",
       "  <select name=\"item\">\n",
       "  <option value=\"tshirt\">One FuzzingBook T-Shirt</option>\n",
       "<option value=\"drill\">One FuzzingBook Rotary Hammer</option>\n",
       "<option value=\"lockset\">One FuzzingBook Lock Set</option>\n",
       "\n",
       "  </select>\n",
       "  <br>\n",
       "  <table>\n",
       "  <tr><td>\n",
       "  <label for=\"name\">Name: </label><input type=\"text\" name=\"name\">\n",
       "  </td><td>\n",
       "  <label for=\"email\">Email: </label><input type=\"email\" name=\"email\"><br>\n",
       "  </td></tr>\n",
       "  <tr><td>\n",
       "  <label for=\"city\">City: </label><input type=\"text\" name=\"city\">\n",
       "  </td><td>\n",
       "  <label for=\"zip\">ZIP Code: </label><input type=\"number\" name=\"zip\">\n",
       "  </tr></tr>\n",
       "  </table>\n",
       "  <input type=\"checkbox\" name=\"terms\"><label for=\"terms\">I have read\n",
       "  the <a href=\"/terms\">terms and conditions</a></label>.<br>\n",
       "  <input type=\"submit\" name=\"submit\" value=\"Place order\">\n",
       "</p>\n",
       "</form>\n",
       "</body></html>\n"
      ],
      "text/plain": [
       "<IPython.core.display.HTML object>"
      ]
     },
     "execution_count": 8,
     "metadata": {},
     "output_type": "execute_result"
    }
   ],
   "source": [
    "HTML(webbrowser(httpd_url))"
   ]
  },
  {
   "cell_type": "markdown",
   "metadata": {
    "button": false,
    "new_sheet": false,
    "run_control": {
     "read_only": false
    },
    "slideshow": {
     "slide_type": "subslide"
    }
   },
   "source": [
    "### Remote Control with Selenium\n",
    "\n",
    "Let us take a look at the GUI above.  In contrast to the [chapter on Web testing](WebFuzzer.ipynb), we do not assume we can access the HTML source of the current page.  All we assume is that there is a set of *user interface elements* we can interact with."
   ]
  },
  {
   "cell_type": "markdown",
   "metadata": {
    "slideshow": {
     "slide_type": "fragment"
    }
   },
   "source": [
    "[Selenium](https://www.seleniumhq.org) is a framework for testing Web applications by _automating interaction in the browser_.  Selenium provides an API that allows one to launch a Web browser, query the state of the user interface, and interact with individual user interface elements.  The Selenium API is available in a number of languages; we use the [Selenium API for Python](https://selenium-python.readthedocs.io/index.html)."
   ]
  },
  {
   "cell_type": "markdown",
   "metadata": {
    "slideshow": {
     "slide_type": "subslide"
    }
   },
   "source": [
    "A Selenium *web driver* is the interface between a program and a browser controlled by the program."
   ]
  },
  {
   "cell_type": "code",
   "execution_count": 9,
   "metadata": {
    "slideshow": {
     "slide_type": "skip"
    }
   },
   "outputs": [],
   "source": [
    "from selenium import webdriver"
   ]
  },
  {
   "cell_type": "markdown",
   "metadata": {
    "slideshow": {
     "slide_type": "fragment"
    }
   },
   "source": [
    "The following code starts a Firefox browser in the background, which we then control through the web driver."
   ]
  },
  {
   "cell_type": "code",
   "execution_count": 10,
   "metadata": {
    "slideshow": {
     "slide_type": "fragment"
    }
   },
   "outputs": [],
   "source": [
    "BROWSER = 'firefox'"
   ]
  },
  {
   "cell_type": "markdown",
   "metadata": {
    "slideshow": {
     "slide_type": "subslide"
    }
   },
   "source": [
    "**Note:** If you don't have Firefox installed, you can also set `BROWSER` to `'chrome'` to use Google Chrome instead."
   ]
  },
  {
   "cell_type": "code",
   "execution_count": 11,
   "metadata": {
    "slideshow": {
     "slide_type": "fragment"
    }
   },
   "outputs": [],
   "source": [
    "# BROWSER = 'chrome'"
   ]
  },
  {
   "cell_type": "markdown",
   "metadata": {
    "slideshow": {
     "slide_type": "fragment"
    }
   },
   "source": [
    "The browser is _headless_, meaning that it does not show on the screen."
   ]
  },
  {
   "cell_type": "code",
   "execution_count": 12,
   "metadata": {
    "slideshow": {
     "slide_type": "fragment"
    }
   },
   "outputs": [],
   "source": [
    "HEADLESS = True"
   ]
  },
  {
   "cell_type": "markdown",
   "metadata": {
    "slideshow": {
     "slide_type": "subslide"
    }
   },
   "source": [
    "**Note**: If the notebook server runs locally (i.e. on the same machine on which you are seeing this), you can also set `HEADLESS` to `False` and see what happens right on the screen as you execute the notebook cells.  This is very much recommended for interactive sessions."
   ]
  },
  {
   "cell_type": "code",
   "execution_count": 13,
   "metadata": {
    "slideshow": {
     "slide_type": "subslide"
    }
   },
   "outputs": [],
   "source": [
    "def start_webdriver(browser=BROWSER, headless=HEADLESS, zoom=1.4):\n",
    "    if browser == 'firefox':\n",
    "        options = webdriver.FirefoxOptions()\n",
    "    if browser == 'chrome':\n",
    "        options = webdriver.ChromeOptions()\n",
    "\n",
    "    if headless and browser == 'chrome':\n",
    "        options.add_argument('headless')\n",
    "    else:\n",
    "        options.headless = headless\n",
    "    \n",
    "    # Start the browser, and obtain a _web driver_ object such that we can interact with it.\n",
    "    if browser == 'firefox':\n",
    "        # For firefox, set a higher resolution for our screenshots\n",
    "        profile = webdriver.firefox.firefox_profile.FirefoxProfile()\n",
    "        profile.set_preference(\"layout.css.devPixelsPerPx\", repr(zoom))\n",
    "        gui_driver = webdriver.Firefox(firefox_profile=profile, options=options)\n",
    "        \n",
    "        # We set the window size such that it fits our order form exactly;\n",
    "        # this is useful for not wasting too much space when taking screen shots.\n",
    "        gui_driver.set_window_size(700, 300)\n",
    "\n",
    "    elif browser == 'chrome':\n",
    "        gui_driver = webdriver.Chrome(options=options)\n",
    "        gui_driver.set_window_size(700, 210 if headless else 340)\n",
    "            \n",
    "    return gui_driver"
   ]
  },
  {
   "cell_type": "code",
   "execution_count": 14,
   "metadata": {
    "slideshow": {
     "slide_type": "subslide"
    }
   },
   "outputs": [],
   "source": [
    "gui_driver = start_webdriver(browser=BROWSER, headless=HEADLESS)"
   ]
  },
  {
   "cell_type": "markdown",
   "metadata": {
    "slideshow": {
     "slide_type": "fragment"
    }
   },
   "source": [
    "We can now interact with the browser programmatically.  First, we have it navigate to the URL of our Web server:"
   ]
  },
  {
   "cell_type": "code",
   "execution_count": 15,
   "metadata": {
    "slideshow": {
     "slide_type": "fragment"
    }
   },
   "outputs": [],
   "source": [
    "gui_driver.get(httpd_url)"
   ]
  },
  {
   "cell_type": "markdown",
   "metadata": {
    "slideshow": {
     "slide_type": "fragment"
    }
   },
   "source": [
    "We see that the home page is actually accessed, together with a (failing) request to get a page icon:"
   ]
  },
  {
   "cell_type": "code",
   "execution_count": 16,
   "metadata": {
    "slideshow": {
     "slide_type": "fragment"
    }
   },
   "outputs": [
    {
     "data": {
      "text/html": [
       "<pre style=\"background: NavajoWhite;\">127.0.0.1 - - [21/May/2019 19:23:04] \"GET / HTTP/1.1\" 200 -\n",
       "</pre>"
      ],
      "text/plain": [
       "<IPython.core.display.HTML object>"
      ]
     },
     "metadata": {},
     "output_type": "display_data"
    },
    {
     "data": {
      "text/html": [
       "<pre style=\"background: NavajoWhite;\">127.0.0.1 - - [21/May/2019 19:23:04] \"GET /favicon.ico HTTP/1.1\" 404 -\n",
       "</pre>"
      ],
      "text/plain": [
       "<IPython.core.display.HTML object>"
      ]
     },
     "metadata": {},
     "output_type": "display_data"
    }
   ],
   "source": [
    "print_httpd_messages()"
   ]
  },
  {
   "cell_type": "markdown",
   "metadata": {
    "slideshow": {
     "slide_type": "fragment"
    }
   },
   "source": [
    "To see what the \"headless\" browser displays, we can obtain a screenshot.  We see that it actually displays the home page."
   ]
  },
  {
   "cell_type": "code",
   "execution_count": 17,
   "metadata": {
    "slideshow": {
     "slide_type": "fragment"
    }
   },
   "outputs": [
    {
     "data": {
      "image/png": "[encoded data removed]",
      "text/plain": [
       "<IPython.core.display.Image object>"
      ]
     },
     "execution_count": 17,
     "metadata": {},
     "output_type": "execute_result"
    }
   ],
   "source": [
    "Image(gui_driver.get_screenshot_as_png())"
   ]
  },
  {
   "cell_type": "markdown",
   "metadata": {
    "slideshow": {
     "slide_type": "subslide"
    }
   },
   "source": [
    "### Filling out Forms\n",
    "\n",
    "To interact with the Web page through Selenium and the browser, we can _query_ Selenium for individual elements.  For instance, we can access the UI element whose `name` attribute (as defined in HTML) is `\"name\"`."
   ]
  },
  {
   "cell_type": "code",
   "execution_count": 18,
   "metadata": {
    "slideshow": {
     "slide_type": "fragment"
    }
   },
   "outputs": [],
   "source": [
    "name = gui_driver.find_element_by_name(\"name\")"
   ]
  },
  {
   "cell_type": "markdown",
   "metadata": {
    "slideshow": {
     "slide_type": "fragment"
    }
   },
   "source": [
    "Once we have an element, we can interact with it.  Since `name` is a text field, we can send it a string using the `send_keys()` method; the string will be translated into appropriate key strokes."
   ]
  },
  {
   "cell_type": "code",
   "execution_count": 19,
   "metadata": {
    "slideshow": {
     "slide_type": "fragment"
    }
   },
   "outputs": [],
   "source": [
    "name.send_keys(\"Jane Doe\")"
   ]
  },
  {
   "cell_type": "markdown",
   "metadata": {
    "slideshow": {
     "slide_type": "fragment"
    }
   },
   "source": [
    "In the screenshot, we can see that the `name` field is now filled:"
   ]
  },
  {
   "cell_type": "code",
   "execution_count": 20,
   "metadata": {
    "slideshow": {
     "slide_type": "fragment"
    }
   },
   "outputs": [
    {
     "data": {
      "image/png": "[encoded data removed]",
      "text/plain": [
       "<IPython.core.display.Image object>"
      ]
     },
     "execution_count": 20,
     "metadata": {},
     "output_type": "execute_result"
    }
   ],
   "source": [
    "Image(gui_driver.get_screenshot_as_png())"
   ]
  },
  {
   "cell_type": "markdown",
   "metadata": {
    "slideshow": {
     "slide_type": "subslide"
    }
   },
   "source": [
    "In a similar fashion, we can fill out the email, city, and ZIP fields:"
   ]
  },
  {
   "cell_type": "code",
   "execution_count": 21,
   "metadata": {
    "slideshow": {
     "slide_type": "fragment"
    }
   },
   "outputs": [],
   "source": [
    "email = gui_driver.find_element_by_name(\"email\")\n",
    "email.send_keys(\"j.doe@example.com\")"
   ]
  },
  {
   "cell_type": "code",
   "execution_count": 22,
   "metadata": {
    "slideshow": {
     "slide_type": "fragment"
    }
   },
   "outputs": [],
   "source": [
    "city = gui_driver.find_element_by_name('city')\n",
    "city.send_keys(\"Seattle\")"
   ]
  },
  {
   "cell_type": "code",
   "execution_count": 23,
   "metadata": {
    "slideshow": {
     "slide_type": "fragment"
    }
   },
   "outputs": [],
   "source": [
    "zip = gui_driver.find_element_by_name('zip')\n",
    "zip.send_keys(\"98104\")"
   ]
  },
  {
   "cell_type": "code",
   "execution_count": 24,
   "metadata": {
    "slideshow": {
     "slide_type": "fragment"
    }
   },
   "outputs": [
    {
     "data": {
      "image/png": "[encoded data removed]",
      "text/plain": [
       "<IPython.core.display.Image object>"
      ]
     },
     "execution_count": 24,
     "metadata": {},
     "output_type": "execute_result"
    }
   ],
   "source": [
    "Image(gui_driver.get_screenshot_as_png())"
   ]
  },
  {
   "cell_type": "markdown",
   "metadata": {
    "slideshow": {
     "slide_type": "fragment"
    }
   },
   "source": [
    "The check box for terms and conditions is not filled out, but clicked instead using the `click()` method."
   ]
  },
  {
   "cell_type": "code",
   "execution_count": 25,
   "metadata": {
    "slideshow": {
     "slide_type": "fragment"
    }
   },
   "outputs": [],
   "source": [
    "terms = gui_driver.find_element_by_name('terms')\n",
    "terms.click()"
   ]
  },
  {
   "cell_type": "code",
   "execution_count": 26,
   "metadata": {
    "slideshow": {
     "slide_type": "subslide"
    }
   },
   "outputs": [
    {
     "data": {
      "image/png": "[encoded data removed]",
      "text/plain": [
       "<IPython.core.display.Image object>"
      ]
     },
     "execution_count": 26,
     "metadata": {},
     "output_type": "execute_result"
    }
   ],
   "source": [
    "Image(gui_driver.get_screenshot_as_png())"
   ]
  },
  {
   "cell_type": "markdown",
   "metadata": {
    "slideshow": {
     "slide_type": "fragment"
    }
   },
   "source": [
    "The form is now fully filled out.  By clicking on the `submit` button, we can place the order:"
   ]
  },
  {
   "cell_type": "code",
   "execution_count": 27,
   "metadata": {
    "slideshow": {
     "slide_type": "fragment"
    }
   },
   "outputs": [],
   "source": [
    "submit = gui_driver.find_element_by_name('submit')\n",
    "submit.click()"
   ]
  },
  {
   "cell_type": "markdown",
   "metadata": {
    "slideshow": {
     "slide_type": "fragment"
    }
   },
   "source": [
    "We see that the order is being processed, and that the Web browser has switched to the confirmation page."
   ]
  },
  {
   "cell_type": "code",
   "execution_count": 28,
   "metadata": {
    "slideshow": {
     "slide_type": "fragment"
    }
   },
   "outputs": [
    {
     "data": {
      "text/html": [
       "<pre style=\"background: NavajoWhite;\">127.0.0.1 - - [21/May/2019 19:23:05] INSERT INTO orders VALUES ('tshirt', 'Jane Doe', 'j.doe@example.com', 'Seattle', '98104')\n",
       "</pre>"
      ],
      "text/plain": [
       "<IPython.core.display.HTML object>"
      ]
     },
     "metadata": {},
     "output_type": "display_data"
    },
    {
     "data": {
      "text/html": [
       "<pre style=\"background: NavajoWhite;\">127.0.0.1 - - [21/May/2019 19:23:05] \"GET /order?item=tshirt&name=Jane+Doe&email=j.doe%40example.com&city=Seattle&zip=98104&terms=on&submit=Place+order HTTP/1.1\" 200 -\n",
       "</pre>"
      ],
      "text/plain": [
       "<IPython.core.display.HTML object>"
      ]
     },
     "metadata": {},
     "output_type": "display_data"
    }
   ],
   "source": [
    "print_httpd_messages()"
   ]
  },
  {
   "cell_type": "code",
   "execution_count": 29,
   "metadata": {
    "slideshow": {
     "slide_type": "fragment"
    }
   },
   "outputs": [
    {
     "data": {
      "image/png": "[encoded data removed]",
      "text/plain": [
       "<IPython.core.display.Image object>"
      ]
     },
     "execution_count": 29,
     "metadata": {},
     "output_type": "execute_result"
    }
   ],
   "source": [
    "Image(gui_driver.get_screenshot_as_png())"
   ]
  },
  {
   "cell_type": "markdown",
   "metadata": {
    "slideshow": {
     "slide_type": "subslide"
    }
   },
   "source": [
    "### Navigating\n",
    "\n",
    "Just as we fill out forms, we can also navigate through a Web site by clicking on links.  Let us go back to the home page:"
   ]
  },
  {
   "cell_type": "code",
   "execution_count": 30,
   "metadata": {
    "slideshow": {
     "slide_type": "fragment"
    }
   },
   "outputs": [],
   "source": [
    "gui_driver.back()"
   ]
  },
  {
   "cell_type": "code",
   "execution_count": 31,
   "metadata": {
    "slideshow": {
     "slide_type": "fragment"
    }
   },
   "outputs": [
    {
     "data": {
      "image/png": "[encoded data removed]",
      "text/plain": [
       "<IPython.core.display.Image object>"
      ]
     },
     "execution_count": 31,
     "metadata": {},
     "output_type": "execute_result"
    }
   ],
   "source": [
    "Image(gui_driver.get_screenshot_as_png())"
   ]
  },
  {
   "cell_type": "markdown",
   "metadata": {
    "slideshow": {
     "slide_type": "fragment"
    }
   },
   "source": [
    "We can query the web driver for all elements of a particular type.  Querying for HTML anchor elements (`<a>`) for instance, gives us all links on a page."
   ]
  },
  {
   "cell_type": "code",
   "execution_count": 32,
   "metadata": {
    "button": false,
    "new_sheet": false,
    "run_control": {
     "read_only": false
    },
    "slideshow": {
     "slide_type": "subslide"
    }
   },
   "outputs": [],
   "source": [
    "links = gui_driver.find_elements_by_tag_name(\"a\")"
   ]
  },
  {
   "cell_type": "markdown",
   "metadata": {
    "slideshow": {
     "slide_type": "fragment"
    }
   },
   "source": [
    "We can query the attributes of UI elements – for instance, the URL the first anchor on the page links to:"
   ]
  },
  {
   "cell_type": "code",
   "execution_count": 33,
   "metadata": {
    "slideshow": {
     "slide_type": "fragment"
    }
   },
   "outputs": [
    {
     "data": {
      "text/plain": [
       "'http://127.0.0.1:8800/terms'"
      ]
     },
     "execution_count": 33,
     "metadata": {},
     "output_type": "execute_result"
    }
   ],
   "source": [
    "links[0].get_attribute('href')"
   ]
  },
  {
   "cell_type": "markdown",
   "metadata": {
    "slideshow": {
     "slide_type": "subslide"
    }
   },
   "source": [
    "What happens if we click on it?  Very simple: We switch to the Web page being referenced."
   ]
  },
  {
   "cell_type": "code",
   "execution_count": 34,
   "metadata": {
    "slideshow": {
     "slide_type": "fragment"
    }
   },
   "outputs": [],
   "source": [
    "links[0].click()"
   ]
  },
  {
   "cell_type": "code",
   "execution_count": 35,
   "metadata": {
    "slideshow": {
     "slide_type": "fragment"
    }
   },
   "outputs": [
    {
     "data": {
      "text/html": [
       "<pre style=\"background: NavajoWhite;\">127.0.0.1 - - [21/May/2019 19:23:05] \"GET /terms HTTP/1.1\" 200 -\n",
       "</pre>"
      ],
      "text/plain": [
       "<IPython.core.display.HTML object>"
      ]
     },
     "metadata": {},
     "output_type": "display_data"
    }
   ],
   "source": [
    "print_httpd_messages()"
   ]
  },
  {
   "cell_type": "code",
   "execution_count": 36,
   "metadata": {
    "slideshow": {
     "slide_type": "fragment"
    }
   },
   "outputs": [
    {
     "data": {
      "image/png": "[encoded data removed]",
      "text/plain": [
       "<IPython.core.display.Image object>"
      ]
     },
     "execution_count": 36,
     "metadata": {},
     "output_type": "execute_result"
    }
   ],
   "source": [
    "Image(gui_driver.get_screenshot_as_png())"
   ]
  },
  {
   "cell_type": "markdown",
   "metadata": {
    "slideshow": {
     "slide_type": "fragment"
    }
   },
   "source": [
    "Okay.  Let's get back to our home page again."
   ]
  },
  {
   "cell_type": "code",
   "execution_count": 37,
   "metadata": {
    "slideshow": {
     "slide_type": "fragment"
    }
   },
   "outputs": [],
   "source": [
    "gui_driver.back()"
   ]
  },
  {
   "cell_type": "code",
   "execution_count": 38,
   "metadata": {
    "slideshow": {
     "slide_type": "fragment"
    }
   },
   "outputs": [],
   "source": [
    "print_httpd_messages()"
   ]
  },
  {
   "cell_type": "code",
   "execution_count": 39,
   "metadata": {
    "slideshow": {
     "slide_type": "fragment"
    }
   },
   "outputs": [
    {
     "data": {
      "image/png": "[encoded data removed]",
      "text/plain": [
       "<IPython.core.display.Image object>"
      ]
     },
     "execution_count": 39,
     "metadata": {},
     "output_type": "execute_result"
    }
   ],
   "source": [
    "Image(gui_driver.get_screenshot_as_png())"
   ]
  },
  {
   "cell_type": "markdown",
   "metadata": {
    "slideshow": {
     "slide_type": "subslide"
    }
   },
   "source": [
    "### Writing Test Cases\n",
    "\n",
    "The above calls, interacting with a user interface automatically, are typically used in *Selenium tests* – that is, code snippets that interact with a Web site, occasionally checking whether everything works as expected.  The following code, for instance, places an order just as above.  It then retrieves the `title` element and checks whether the title contains a \"Thank you\" message, indicating success."
   ]
  },
  {
   "cell_type": "code",
   "execution_count": 40,
   "metadata": {
    "slideshow": {
     "slide_type": "subslide"
    }
   },
   "outputs": [],
   "source": [
    "def test_successful_order(driver, url):\n",
    "    name = \"Walter White\"\n",
    "    email = \"white@jpwynne.edu\"\n",
    "    city = \"Albuquerque\"\n",
    "    zip_code = \"87101\"\n",
    "    \n",
    "    driver.get(url)\n",
    "    driver.find_element_by_name(\"name\").send_keys(name)\n",
    "    driver.find_element_by_name(\"email\").send_keys(email)\n",
    "    driver.find_element_by_name('city').send_keys(city)\n",
    "    driver.find_element_by_name('zip').send_keys(zip_code)\n",
    "    driver.find_element_by_name('terms').click()\n",
    "    driver.find_element_by_name('submit').click()\n",
    "    \n",
    "    title = driver.find_element_by_id('title')\n",
    "    assert title is not None\n",
    "    assert title.text.find(\"Thank you\") >= 0\n",
    "\n",
    "    confirmation = driver.find_element_by_id(\"confirmation\")\n",
    "    assert confirmation is not None\n",
    "\n",
    "    assert confirmation.text.find(name) >= 0\n",
    "    assert confirmation.text.find(email) >= 0\n",
    "    assert confirmation.text.find(city) >= 0\n",
    "    assert confirmation.text.find(zip_code) >= 0\n",
    "    \n",
    "    return True"
   ]
  },
  {
   "cell_type": "code",
   "execution_count": 41,
   "metadata": {
    "slideshow": {
     "slide_type": "subslide"
    }
   },
   "outputs": [
    {
     "data": {
      "text/plain": [
       "True"
      ]
     },
     "execution_count": 41,
     "metadata": {},
     "output_type": "execute_result"
    }
   ],
   "source": [
    "test_successful_order(gui_driver, httpd_url)"
   ]
  },
  {
   "cell_type": "markdown",
   "metadata": {
    "slideshow": {
     "slide_type": "fragment"
    }
   },
   "source": [
    "In a similar vein, we can set up automated test cases for unsuccessful orders, canceling orders, changing orders, and many more.  All these test cases would be automatically run after any change to the program code, ensuring the Web application still works."
   ]
  },
  {
   "cell_type": "markdown",
   "metadata": {
    "slideshow": {
     "slide_type": "fragment"
    }
   },
   "source": [
    "Of course, writing such tests is quite some effort.  Hence, in the remainder of this chapter, we will again explore how to automatically generate them."
   ]
  },
  {
   "cell_type": "markdown",
   "metadata": {
    "button": false,
    "new_sheet": false,
    "run_control": {
     "read_only": false
    },
    "slideshow": {
     "slide_type": "subslide"
    }
   },
   "source": [
    "## Retrieving User Interface Actions\n",
    "\n",
    "To automatically interact with a user interface, we first need to find out which elements there are, and which user interactions (or short *actions*) they support."
   ]
  },
  {
   "cell_type": "markdown",
   "metadata": {
    "button": false,
    "new_sheet": false,
    "run_control": {
     "read_only": false
    },
    "slideshow": {
     "slide_type": "subslide"
    }
   },
   "source": [
    "### User Interface Elements\n",
    "\n",
    "We start with finding available user elements.  Let us get back to the order form."
   ]
  },
  {
   "cell_type": "code",
   "execution_count": 42,
   "metadata": {
    "slideshow": {
     "slide_type": "fragment"
    }
   },
   "outputs": [],
   "source": [
    "gui_driver.get(httpd_url)"
   ]
  },
  {
   "cell_type": "code",
   "execution_count": 43,
   "metadata": {
    "slideshow": {
     "slide_type": "fragment"
    }
   },
   "outputs": [
    {
     "data": {
      "image/png": "[encoded data removed]",
      "text/plain": [
       "<IPython.core.display.Image object>"
      ]
     },
     "execution_count": 43,
     "metadata": {},
     "output_type": "execute_result"
    }
   ],
   "source": [
    "Image(gui_driver.get_screenshot_as_png())"
   ]
  },
  {
   "cell_type": "markdown",
   "metadata": {
    "slideshow": {
     "slide_type": "fragment"
    }
   },
   "source": [
    "Using `find_elements_by_tag_name()` (and other similar `find_elements_...()` functions), we can retrieve all elements of a particular type, such as HTML `input` elements."
   ]
  },
  {
   "cell_type": "code",
   "execution_count": 44,
   "metadata": {
    "button": false,
    "new_sheet": false,
    "run_control": {
     "read_only": false
    },
    "slideshow": {
     "slide_type": "subslide"
    }
   },
   "outputs": [],
   "source": [
    "ui_elements = gui_driver.find_elements_by_tag_name(\"input\")"
   ]
  },
  {
   "cell_type": "markdown",
   "metadata": {
    "slideshow": {
     "slide_type": "fragment"
    }
   },
   "source": [
    "For each element, we can retrieve its HTML attributes, using `get_attribute()`.  We can thus retrieve the `name` and `type` of each input element (if defined)."
   ]
  },
  {
   "cell_type": "code",
   "execution_count": 45,
   "metadata": {
    "slideshow": {
     "slide_type": "subslide"
    }
   },
   "outputs": [
    {
     "name": "stdout",
     "output_type": "stream",
     "text": [
      "Name: name       | Type: text       | Text: \n",
      "Name: email      | Type: email      | Text: \n",
      "Name: city       | Type: text       | Text: \n",
      "Name: zip        | Type: number     | Text: \n",
      "Name: terms      | Type: checkbox   | Text: \n",
      "Name: submit     | Type: submit     | Text: \n"
     ]
    }
   ],
   "source": [
    "for element in ui_elements:\n",
    "    print(\"Name: %-10s | Type: %-10s | Text: %s\" % (element.get_attribute('name'), element.get_attribute('type'), element.text))"
   ]
  },
  {
   "cell_type": "code",
   "execution_count": 46,
   "metadata": {
    "button": false,
    "new_sheet": false,
    "run_control": {
     "read_only": false
    },
    "slideshow": {
     "slide_type": "subslide"
    }
   },
   "outputs": [],
   "source": [
    "ui_elements = gui_driver.find_elements_by_tag_name(\"a\")"
   ]
  },
  {
   "cell_type": "code",
   "execution_count": 47,
   "metadata": {
    "slideshow": {
     "slide_type": "fragment"
    }
   },
   "outputs": [
    {
     "name": "stdout",
     "output_type": "stream",
     "text": [
      "Name:            | Type:            | Text: terms and conditions\n"
     ]
    }
   ],
   "source": [
    "for element in ui_elements:\n",
    "    print(\"Name: %-10s | Type: %-10s | Text: %s\" % (element.get_attribute('name'), element.get_attribute('type'), element.text))"
   ]
  },
  {
   "cell_type": "markdown",
   "metadata": {
    "slideshow": {
     "slide_type": "subslide"
    }
   },
   "source": [
    "### User Interface Actions\n",
    "\n",
    "Similarly to what we did in the [chapter on Web fuzzing](WebFuzzer.ipynb), our idea is now to mine a _grammar_ for the user interface – first for an individual user interface *page* (i.e., a single Web page), later for all pages offered by the application.  The idea is that a grammar defines _legal sequences of actions_ – clicks and keystrokes – that can be applied on the application."
   ]
  },
  {
   "cell_type": "markdown",
   "metadata": {
    "slideshow": {
     "slide_type": "subslide"
    }
   },
   "source": [
    "We assume the following actions:\n",
    "\n",
    "1. `fill(<name>, <text>)` – fill the UI input element named `<name>` with the text `<text>`.\n",
    "1. `check(<name>, <value>)` – set the UI checkbox `<name>` to the given value `<value>` (True or False)\n",
    "1. `submit(<name>)` – submit the form by clicking on the UI element `<name>`.\n",
    "1. `click(<name>)` – click on the UI element `<name>`, typically for following a link."
   ]
  },
  {
   "cell_type": "markdown",
   "metadata": {
    "slideshow": {
     "slide_type": "subslide"
    }
   },
   "source": [
    "This sequence of actions, for instance would fill out the order form:\n",
    "\n",
    "```python\n",
    "fill('name', \"Walter White\")\n",
    "fill('email', \"white@jpwynne.edu\")\n",
    "fill('city', \"Albuquerque\")\n",
    "fill('zip', \"87101\")\n",
    "check('terms', True)\n",
    "submit('submit')\n",
    "```"
   ]
  },
  {
   "cell_type": "markdown",
   "metadata": {
    "slideshow": {
     "slide_type": "subslide"
    }
   },
   "source": [
    "Our set of actions is deliberately defined to be small – for real user interfaces, one would also have to define interactions such as swipes, double clicks, long clicks, right button clicks, modifier keys, and more.  Selenium supports all of this; but in the interest of simplicity, we focus on the most important set of interactions."
   ]
  },
  {
   "cell_type": "markdown",
   "metadata": {
    "slideshow": {
     "slide_type": "subslide"
    },
    "toc-hr-collapsed": false
   },
   "source": [
    "### Retrieving Actions\n",
    "\n",
    "As a first step in mining an action grammar, we need to be able to retrieve possible interactions.  We introduce a class `GUIGrammarMiner`, which is set to do precisely that."
   ]
  },
  {
   "cell_type": "code",
   "execution_count": 48,
   "metadata": {
    "slideshow": {
     "slide_type": "fragment"
    }
   },
   "outputs": [],
   "source": [
    "class GUIGrammarMiner(object):\n",
    "    def __init__(self, driver, stay_on_host=True):\n",
    "        self.driver = driver\n",
    "        self.stay_on_host = stay_on_host\n",
    "        self.grammar = {}"
   ]
  },
  {
   "cell_type": "markdown",
   "metadata": {
    "slideshow": {
     "slide_type": "subslide"
    }
   },
   "source": [
    "Our first task is to obtain the set of possible interactions.  Given a single UI page, the method `mine_input_actions()` of `GUIGrammarMiner` returns a set of *actions* as defined above.  It first gets all `input` elements, followed by `button` elements, finally followed by links (`a` elements), and merges them into a set.  (We use a `frozenset` here since we want to use the set as an index later.)"
   ]
  },
  {
   "cell_type": "code",
   "execution_count": 49,
   "metadata": {
    "slideshow": {
     "slide_type": "fragment"
    }
   },
   "outputs": [],
   "source": [
    "class GUIGrammarMiner(GUIGrammarMiner):\n",
    "    def mine_state_actions(self):\n",
    "        return frozenset(self.mine_input_element_actions()\n",
    "            | self.mine_button_element_actions()\n",
    "            | self.mine_a_element_actions())"
   ]
  },
  {
   "cell_type": "markdown",
   "metadata": {
    "slideshow": {
     "slide_type": "subslide"
    }
   },
   "source": [
    "#### Input Element Actions\n",
    "\n",
    "Mining input actions goes through the set of input elements, and returns an action depending on the input type.  If the input field is a text, for instance, the associated action is `fill()`; for checkboxes, the action is `check()`."
   ]
  },
  {
   "cell_type": "markdown",
   "metadata": {
    "slideshow": {
     "slide_type": "fragment"
    }
   },
   "source": [
    "The respective values are placeholders depending on the type; if the input field is a number, for instance, the value becomes `<number>`.  As these actions later become part of the grammar, they will be expanded into actual values during grammar expansion."
   ]
  },
  {
   "cell_type": "code",
   "execution_count": 50,
   "metadata": {
    "slideshow": {
     "slide_type": "skip"
    }
   },
   "outputs": [],
   "source": [
    "from selenium.common.exceptions import StaleElementReferenceException"
   ]
  },
  {
   "cell_type": "code",
   "execution_count": 51,
   "metadata": {
    "slideshow": {
     "slide_type": "subslide"
    }
   },
   "outputs": [],
   "source": [
    "class GUIGrammarMiner(GUIGrammarMiner):\n",
    "    def mine_input_element_actions(self):\n",
    "        actions = set()\n",
    "        \n",
    "        for elem in self.driver.find_elements_by_tag_name(\"input\"):\n",
    "            try:\n",
    "                input_type = elem.get_attribute(\"type\")\n",
    "                input_name = elem.get_attribute(\"name\")\n",
    "                if input_name is None:\n",
    "                    input_name = elem.text\n",
    "\n",
    "                if input_type in [\"checkbox\", \"radio\"]:\n",
    "                    actions.add(\"check('%s', <boolean>)\" % html.escape(input_name))\n",
    "                elif input_type in [\"text\", \"number\", \"email\", \"password\"]:\n",
    "                    actions.add(\"fill('%s', '<%s>')\" % (html.escape(input_name), html.escape(input_type)))\n",
    "                elif input_type in [\"button\", \"submit\"]:\n",
    "                    actions.add(\"submit('%s')\" % html.escape(input_name))\n",
    "                elif input_type in [\"hidden\"]:\n",
    "                    pass\n",
    "                else:\n",
    "                    # TODO: Handle more types here\n",
    "                    actions.add(\"fill('%s', <%s>)\" % (html.escape(input_name), html.escape(input_type)))\n",
    "            except StaleElementReferenceException:\n",
    "                pass\n",
    "\n",
    "        return actions"
   ]
  },
  {
   "cell_type": "markdown",
   "metadata": {
    "slideshow": {
     "slide_type": "subslide"
    }
   },
   "source": [
    "Applied on our order form, we see that the method gets us all input actions:"
   ]
  },
  {
   "cell_type": "code",
   "execution_count": 52,
   "metadata": {
    "slideshow": {
     "slide_type": "fragment"
    }
   },
   "outputs": [
    {
     "data": {
      "text/plain": [
       "{\"check('terms', <boolean>)\",\n",
       " \"fill('city', '<text>')\",\n",
       " \"fill('email', '<email>')\",\n",
       " \"fill('name', '<text>')\",\n",
       " \"fill('zip', '<number>')\",\n",
       " \"submit('submit')\"}"
      ]
     },
     "execution_count": 52,
     "metadata": {},
     "output_type": "execute_result"
    }
   ],
   "source": [
    "gui_grammar_miner = GUIGrammarMiner(gui_driver)\n",
    "gui_grammar_miner.mine_input_element_actions()"
   ]
  },
  {
   "cell_type": "markdown",
   "metadata": {
    "slideshow": {
     "slide_type": "subslide"
    }
   },
   "source": [
    "#### Button Element Actions\n",
    "\n",
    "Mining buttons works in a similar way:"
   ]
  },
  {
   "cell_type": "code",
   "execution_count": 53,
   "metadata": {
    "slideshow": {
     "slide_type": "subslide"
    }
   },
   "outputs": [],
   "source": [
    "class GUIGrammarMiner(GUIGrammarMiner):\n",
    "    def mine_button_element_actions(self):\n",
    "        actions = set()\n",
    "        \n",
    "        for elem in self.driver.find_elements_by_tag_name(\"button\"):\n",
    "            try:\n",
    "                button_type = elem.get_attribute(\"type\")\n",
    "                button_name = elem.get_attribute(\"name\")\n",
    "                if button_name is None:\n",
    "                    button_name = elem.text\n",
    "                if button_type == \"submit\":\n",
    "                    actions.add(\"submit('%s')\" % html.escape(button_name))\n",
    "                elif button_type != \"reset\":\n",
    "                    actions.add(\"click('%s')\" % html.escape(button_name))\n",
    "            except StaleElementReferenceException:\n",
    "                pass\n",
    "\n",
    "        return actions"
   ]
  },
  {
   "cell_type": "markdown",
   "metadata": {
    "slideshow": {
     "slide_type": "subslide"
    }
   },
   "source": [
    "Our order form has no `button` elements.  (The `submit` button is an `input` element, and was handled above)."
   ]
  },
  {
   "cell_type": "code",
   "execution_count": 54,
   "metadata": {
    "slideshow": {
     "slide_type": "fragment"
    }
   },
   "outputs": [
    {
     "data": {
      "text/plain": [
       "set()"
      ]
     },
     "execution_count": 54,
     "metadata": {},
     "output_type": "execute_result"
    }
   ],
   "source": [
    "gui_grammar_miner = GUIGrammarMiner(gui_driver)\n",
    "gui_grammar_miner.mine_button_element_actions()"
   ]
  },
  {
   "cell_type": "markdown",
   "metadata": {
    "slideshow": {
     "slide_type": "subslide"
    }
   },
   "source": [
    "#### Link Element Actions\n",
    "\n",
    "When following links, we need to make sure that we stay on the current host – we want to explore a single Web site only, not all of the Internet.  To this end, we check the `href` attribute of the link to check whether it still points to the same host.  If it does not, we give it a special action `ignore()`, which, as the name suggests, will later be ignored as it comes to executing these actions.  We still return an action, though, as we use the set of actions to characterize a state in the application."
   ]
  },
  {
   "cell_type": "code",
   "execution_count": 55,
   "metadata": {
    "slideshow": {
     "slide_type": "subslide"
    }
   },
   "outputs": [],
   "source": [
    "class GUIGrammarMiner(GUIGrammarMiner):\n",
    "    def mine_a_element_actions(self):\n",
    "        actions = set()\n",
    "\n",
    "        for elem in self.driver.find_elements_by_tag_name(\"a\"):\n",
    "            try:\n",
    "                a_href = elem.get_attribute(\"href\")\n",
    "                if a_href is not None:\n",
    "                    if self.follow_link(a_href):\n",
    "                        actions.add(\"click('%s')\" % html.escape(elem.text))\n",
    "                    else:\n",
    "                        actions.add(\"ignore('%s')\" % html.escape(elem.text))\n",
    "            except StaleElementReferenceException:\n",
    "                pass\n",
    "\n",
    "        return actions"
   ]
  },
  {
   "cell_type": "markdown",
   "metadata": {
    "slideshow": {
     "slide_type": "subslide"
    }
   },
   "source": [
    "To check whether we can follow a link, the method `follow_link()` checks the URL:"
   ]
  },
  {
   "cell_type": "code",
   "execution_count": 56,
   "metadata": {
    "slideshow": {
     "slide_type": "skip"
    }
   },
   "outputs": [],
   "source": [
    "from urllib.parse import urljoin, urlsplit"
   ]
  },
  {
   "cell_type": "code",
   "execution_count": 57,
   "metadata": {
    "slideshow": {
     "slide_type": "fragment"
    }
   },
   "outputs": [],
   "source": [
    "class GUIGrammarMiner(GUIGrammarMiner):\n",
    "    def follow_link(self, link):\n",
    "        if not self.stay_on_host:\n",
    "            return True\n",
    "        \n",
    "        current_url = self.driver.current_url\n",
    "        target_url = urljoin(current_url, link)\n",
    "        return urlsplit(current_url).hostname == urlsplit(target_url).hostname       "
   ]
  },
  {
   "cell_type": "markdown",
   "metadata": {
    "slideshow": {
     "slide_type": "fragment"
    }
   },
   "source": [
    "In our application, we would not be allowed to follow a link to `foo.bar`:"
   ]
  },
  {
   "cell_type": "code",
   "execution_count": 58,
   "metadata": {
    "slideshow": {
     "slide_type": "fragment"
    }
   },
   "outputs": [],
   "source": [
    "gui_grammar_miner = GUIGrammarMiner(gui_driver)"
   ]
  },
  {
   "cell_type": "code",
   "execution_count": 59,
   "metadata": {
    "slideshow": {
     "slide_type": "fragment"
    }
   },
   "outputs": [
    {
     "data": {
      "text/plain": [
       "False"
      ]
     },
     "execution_count": 59,
     "metadata": {},
     "output_type": "execute_result"
    }
   ],
   "source": [
    "gui_grammar_miner.follow_link(\"ftp://foo.bar/\")"
   ]
  },
  {
   "cell_type": "markdown",
   "metadata": {
    "slideshow": {
     "slide_type": "subslide"
    }
   },
   "source": [
    "Following a link to `localhost`, though, works well:"
   ]
  },
  {
   "cell_type": "code",
   "execution_count": 60,
   "metadata": {
    "slideshow": {
     "slide_type": "fragment"
    }
   },
   "outputs": [
    {
     "data": {
      "text/plain": [
       "True"
      ]
     },
     "execution_count": 60,
     "metadata": {},
     "output_type": "execute_result"
    }
   ],
   "source": [
    "gui_grammar_miner.follow_link(\"https://127.0.0.1/\")"
   ]
  },
  {
   "cell_type": "markdown",
   "metadata": {
    "slideshow": {
     "slide_type": "fragment"
    }
   },
   "source": [
    "When adapting this for other user interfaces, similar measures would be taken to ensure we stay in the same application."
   ]
  },
  {
   "cell_type": "markdown",
   "metadata": {
    "slideshow": {
     "slide_type": "fragment"
    }
   },
   "source": [
    "Running this method on our page gets us the set of links:"
   ]
  },
  {
   "cell_type": "code",
   "execution_count": 61,
   "metadata": {
    "slideshow": {
     "slide_type": "fragment"
    }
   },
   "outputs": [
    {
     "data": {
      "text/plain": [
       "{\"click('terms and conditions')\"}"
      ]
     },
     "execution_count": 61,
     "metadata": {},
     "output_type": "execute_result"
    }
   ],
   "source": [
    "gui_grammar_miner = GUIGrammarMiner(gui_driver)\n",
    "gui_grammar_miner.mine_a_element_actions()"
   ]
  },
  {
   "cell_type": "markdown",
   "metadata": {
    "slideshow": {
     "slide_type": "subslide"
    }
   },
   "source": [
    "#### All Together\n",
    "\n",
    "Let us now apply `mine_state_actions()` on our current page to retrieve all elements.  We see that we get the union of all three sets."
   ]
  },
  {
   "cell_type": "code",
   "execution_count": 62,
   "metadata": {
    "slideshow": {
     "slide_type": "fragment"
    }
   },
   "outputs": [
    {
     "data": {
      "text/plain": [
       "frozenset({\"check('terms', <boolean>)\",\n",
       "           \"click('terms and conditions')\",\n",
       "           \"fill('city', '<text>')\",\n",
       "           \"fill('email', '<email>')\",\n",
       "           \"fill('name', '<text>')\",\n",
       "           \"fill('zip', '<number>')\",\n",
       "           \"submit('submit')\"})"
      ]
     },
     "execution_count": 62,
     "metadata": {},
     "output_type": "execute_result"
    }
   ],
   "source": [
    "gui_grammar_miner = GUIGrammarMiner(gui_driver)\n",
    "gui_grammar_miner.mine_state_actions()"
   ]
  },
  {
   "cell_type": "markdown",
   "metadata": {
    "slideshow": {
     "slide_type": "subslide"
    }
   },
   "source": [
    "We assume that we can identify a user interface *state* from the set of interactive elements it contains – that is, the current Web page is identified by the set above.  This is in contrast to [Web fuzzing](WebFuzzer.ipynb), where we assumed the URL to uniquely characterize a page – but with JavaScript, the URL can stay unchanged although the page contents change, and UIs other than the Web may have no concept of unique URLs.  Therefore, we say that the way a UI can be interacted with uniquely defines its state."
   ]
  },
  {
   "cell_type": "markdown",
   "metadata": {
    "slideshow": {
     "slide_type": "slide"
    }
   },
   "source": [
    "## Models for User Interfaces"
   ]
  },
  {
   "cell_type": "markdown",
   "metadata": {
    "slideshow": {
     "slide_type": "subslide"
    }
   },
   "source": [
    "### User Interfaces as Finite State Machines\n",
    "\n",
    "Now that we can retrieve UI elements from a page, let us go and systematically explore a user interface.  The idea is to represent the user interface as a *finite state machine* – that is, a sequence of *states* that can be reached by interacting with the individual user interface elements."
   ]
  },
  {
   "cell_type": "markdown",
   "metadata": {
    "slideshow": {
     "slide_type": "fragment"
    }
   },
   "source": [
    "Let us illustrate such a finite state machine by looking our Web server.  The following diagram shows the states our server can be in:"
   ]
  },
  {
   "cell_type": "code",
   "execution_count": 63,
   "metadata": {
    "slideshow": {
     "slide_type": "skip"
    }
   },
   "outputs": [],
   "source": [
    "from graphviz import Digraph"
   ]
  },
  {
   "cell_type": "code",
   "execution_count": 64,
   "metadata": {
    "slideshow": {
     "slide_type": "skip"
    }
   },
   "outputs": [],
   "source": [
    "from IPython.display import display"
   ]
  },
  {
   "cell_type": "code",
   "execution_count": 65,
   "metadata": {
    "slideshow": {
     "slide_type": "skip"
    }
   },
   "outputs": [],
   "source": [
    "from GrammarFuzzer import dot_escape"
   ]
  },
  {
   "cell_type": "code",
   "execution_count": 66,
   "metadata": {
    "slideshow": {
     "slide_type": "subslide"
    }
   },
   "outputs": [
    {
     "data": {
      "image/svg+xml": [
       "<?xml version=\"1.0\" encoding=\"UTF-8\" standalone=\"no\"?>\n",
       "<!DOCTYPE svg PUBLIC \"-//W3C//DTD SVG 1.1//EN\"\n",
       " \"http://www.w3.org/Graphics/SVG/1.1/DTD/svg11.dtd\">\n",
       "<!-- Generated by graphviz version 2.40.1 (20161225.0304)\n",
       " -->\n",
       "<!-- Title: %3 Pages: 1 -->\n",
       "<svg width=\"556pt\" height=\"219pt\"\n",
       " viewBox=\"0.00 0.00 556.04 219.00\" xmlns=\"http://www.w3.org/2000/svg\" xmlns:xlink=\"http://www.w3.org/1999/xlink\">\n",
       "<g id=\"graph0\" class=\"graph\" transform=\"scale(1 1) rotate(0) translate(4 215)\">\n",
       "<title>%3</title>\n",
       "<polygon fill=\"#ffffff\" stroke=\"transparent\" points=\"-4,4 -4,-215 552.0409,-215 552.0409,4 -4,4\"/>\n",
       "<!-- \\&lt;start\\&gt; -->\n",
       "<g id=\"node1\" class=\"node\">\n",
       "<title>\\&lt;start\\&gt;</title>\n",
       "<ellipse fill=\"none\" stroke=\"#000000\" cx=\"286.0409\" cy=\"-193\" rx=\"36.2938\" ry=\"18\"/>\n",
       "<text text-anchor=\"middle\" x=\"286.0409\" y=\"-189.3\" font-family=\"Times,serif\" font-size=\"14.00\" fill=\"#000000\">&lt;start&gt;</text>\n",
       "</g>\n",
       "<!-- \\&lt;Order Form\\&gt; -->\n",
       "<g id=\"node2\" class=\"node\">\n",
       "<title>\\&lt;Order Form\\&gt;</title>\n",
       "<ellipse fill=\"none\" stroke=\"#000000\" cx=\"286.0409\" cy=\"-120\" rx=\"64.189\" ry=\"18\"/>\n",
       "<text text-anchor=\"middle\" x=\"286.0409\" y=\"-116.3\" font-family=\"Times,serif\" font-size=\"14.00\" fill=\"#000000\">&lt;Order Form&gt;</text>\n",
       "</g>\n",
       "<!-- \\&lt;start\\&gt;&#45;&gt;\\&lt;Order Form\\&gt; -->\n",
       "<g id=\"edge1\" class=\"edge\">\n",
       "<title>\\&lt;start\\&gt;&#45;&gt;\\&lt;Order Form\\&gt;</title>\n",
       "<path fill=\"none\" stroke=\"#000000\" d=\"M286.0409,-174.9551C286.0409,-166.8828 286.0409,-157.1764 286.0409,-148.1817\"/>\n",
       "<polygon fill=\"#000000\" stroke=\"#000000\" points=\"289.541,-148.0903 286.0409,-138.0904 282.541,-148.0904 289.541,-148.0903\"/>\n",
       "</g>\n",
       "<!-- \\&lt;Terms and Conditions\\&gt; -->\n",
       "<g id=\"node3\" class=\"node\">\n",
       "<title>\\&lt;Terms and Conditions\\&gt;</title>\n",
       "<ellipse fill=\"none\" stroke=\"#000000\" cx=\"102.0409\" cy=\"-18\" rx=\"102.0819\" ry=\"18\"/>\n",
       "<text text-anchor=\"middle\" x=\"102.0409\" y=\"-14.3\" font-family=\"Times,serif\" font-size=\"14.00\" fill=\"#000000\">&lt;Terms and Conditions&gt;</text>\n",
       "</g>\n",
       "<!-- \\&lt;Order Form\\&gt;&#45;&gt;\\&lt;Terms and Conditions\\&gt; -->\n",
       "<g id=\"edge2\" class=\"edge\">\n",
       "<title>\\&lt;Order Form\\&gt;&#45;&gt;\\&lt;Terms and Conditions\\&gt;</title>\n",
       "<path fill=\"none\" stroke=\"#000000\" d=\"M223.9991,-115.1509C154.8254,-109.1018 51.0175,-97.8486 39.0409,-84 30.3192,-73.9149 32.3486,-65.5321 39.0409,-54 42.0384,-48.8348 46.0861,-44.3482 50.6923,-40.4658\"/>\n",
       "<polygon fill=\"#000000\" stroke=\"#000000\" points=\"52.8686,-43.2106 58.8846,-34.4895 48.7431,-37.5554 52.8686,-43.2106\"/>\n",
       "<text text-anchor=\"middle\" x=\"120.5409\" y=\"-65.3\" font-family=\"Times,serif\" font-size=\"14.00\" fill=\"#000000\">click(&#39;Terms and conditions&#39;)</text>\n",
       "</g>\n",
       "<!-- \\&lt;Thank You\\&gt; -->\n",
       "<g id=\"node4\" class=\"node\">\n",
       "<title>\\&lt;Thank You\\&gt;</title>\n",
       "<ellipse fill=\"none\" stroke=\"#000000\" cx=\"406.0409\" cy=\"-18\" rx=\"62.2891\" ry=\"18\"/>\n",
       "<text text-anchor=\"middle\" x=\"406.0409\" y=\"-14.3\" font-family=\"Times,serif\" font-size=\"14.00\" fill=\"#000000\">&lt;Thank You&gt;</text>\n",
       "</g>\n",
       "<!-- \\&lt;Order Form\\&gt;&#45;&gt;\\&lt;Thank You\\&gt; -->\n",
       "<g id=\"edge3\" class=\"edge\">\n",
       "<title>\\&lt;Order Form\\&gt;&#45;&gt;\\&lt;Thank You\\&gt;</title>\n",
       "<path fill=\"none\" stroke=\"#000000\" d=\"M307.2083,-102.808C313.8136,-97.0828 320.9574,-90.502 327.0409,-84 338.5197,-71.7317 337.6797,-65.3785 350.0409,-54 355.5949,-48.8876 361.96,-44.0406 368.3607,-39.6563\"/>\n",
       "<polygon fill=\"#000000\" stroke=\"#000000\" points=\"370.5836,-42.3847 377.0384,-33.9831 366.7532,-36.5257 370.5836,-42.3847\"/>\n",
       "<text text-anchor=\"start\" x=\"350.0409\" y=\"-72.8\" font-family=\"Times,serif\" font-size=\"14.00\" fill=\"#000000\">fill(...)</text>\n",
       "<text text-anchor=\"middle\" x=\"395.5409\" y=\"-57.8\" font-family=\"Times,serif\" font-size=\"14.00\" fill=\"#000000\">submit(&#39;submit&#39;)</text>\n",
       "</g>\n",
       "<!-- \\&lt;Terms and Conditions\\&gt;&#45;&gt;\\&lt;Order Form\\&gt; -->\n",
       "<g id=\"edge4\" class=\"edge\">\n",
       "<title>\\&lt;Terms and Conditions\\&gt;&#45;&gt;\\&lt;Order Form\\&gt;</title>\n",
       "<path fill=\"none\" stroke=\"#000000\" d=\"M162.518,-32.5559C176.4406,-37.7867 190.5248,-44.7653 202.0409,-54 214.3536,-63.8734 209.5579,-73.1729 221.0409,-84 227.3147,-89.9154 234.7437,-95.1961 242.297,-99.7702\"/>\n",
       "<polygon fill=\"#000000\" stroke=\"#000000\" points=\"240.7365,-102.9091 251.1592,-104.811 244.1974,-96.8245 240.7365,-102.9091\"/>\n",
       "<text text-anchor=\"middle\" x=\"272.0409\" y=\"-65.3\" font-family=\"Times,serif\" font-size=\"14.00\" fill=\"#000000\">click(&#39;order form&#39;)</text>\n",
       "</g>\n",
       "<!-- \\&lt;Thank You\\&gt;&#45;&gt;\\&lt;Order Form\\&gt; -->\n",
       "<g id=\"edge5\" class=\"edge\">\n",
       "<title>\\&lt;Thank You\\&gt;&#45;&gt;\\&lt;Order Form\\&gt;</title>\n",
       "<path fill=\"none\" stroke=\"#000000\" d=\"M427.7489,-34.98C433.1179,-40.4175 438.1554,-46.8925 441.0409,-54 446.0565,-66.354 449.3343,-73.5598 441.0409,-84 430.1641,-97.6926 392.1394,-106.6465 356.4772,-112.1999\"/>\n",
       "<polygon fill=\"#000000\" stroke=\"#000000\" points=\"355.8848,-108.7494 346.5058,-113.6772 356.9107,-115.6738 355.8848,-108.7494\"/>\n",
       "<text text-anchor=\"middle\" x=\"497.0409\" y=\"-65.3\" font-family=\"Times,serif\" font-size=\"14.00\" fill=\"#000000\">click(&#39;order form&#39;)</text>\n",
       "</g>\n",
       "</g>\n",
       "</svg>\n"
      ],
      "text/plain": [
       "<graphviz.dot.Digraph at 0x1194e0b70>"
      ]
     },
     "metadata": {},
     "output_type": "display_data"
    }
   ],
   "source": [
    "dot = Digraph(comment=\"Finite State Machine\")\n",
    "dot.node(dot_escape('<start>'))\n",
    "dot.edge(dot_escape('<start>'), dot_escape('<Order Form>'))\n",
    "dot.edge(dot_escape('<Order Form>'), dot_escape('<Terms and Conditions>'), \"click('Terms and conditions')\")\n",
    "dot.edge(dot_escape('<Order Form>'), dot_escape('<Thank You>'), \"fill(...)\\lsubmit('submit')\")\n",
    "dot.edge(dot_escape('<Terms and Conditions>'), dot_escape('<Order Form>'), \"click('order form')\")\n",
    "dot.edge(dot_escape('<Thank You>'), dot_escape('<Order Form>'), \"click('order form')\")\n",
    "display(dot)"
   ]
  },
  {
   "cell_type": "markdown",
   "metadata": {
    "slideshow": {
     "slide_type": "subslide"
    }
   },
   "source": [
    "Initially, we are in the `<Order Form>` state.  From here, we can click on `Terms and Conditions`, and we'll be in the `Terms and Conditions` state, showing the page with the same title.  We can also fill out the form and place the order, having us end in the `Thank You` state (again showing the page with the same title).  From both `<Terms and Conditions>` and `<Thank You>`, we can return to the order form by clicking on the `order form` link."
   ]
  },
  {
   "cell_type": "markdown",
   "metadata": {
    "slideshow": {
     "slide_type": "subslide"
    }
   },
   "source": [
    "### State Machines as Grammars\n",
    "\n",
    "To systematically explore a user interface, we must retrieve its finite state machine, and eventually cover all states and transitions.  In the presence of forms, such an exploration is difficult, as we need a special mechanism to fill out forms and submit the values to get to the next state.  There is a trick, though, which allows us to have a single representation for both states and (form) values.  We can *embed the finite state machine into a grammar*, which is then used for both states and form values."
   ]
  },
  {
   "cell_type": "markdown",
   "metadata": {
    "slideshow": {
     "slide_type": "subslide"
    }
   },
   "source": [
    "To embed a finite state machine into a grammar, we proceed as follows:\n",
    "\n",
    "1. Every _state_ $\\langle s \\rangle$ in the finite state machine becomes a _symbol_ $\\langle s \\rangle$ in the grammar.\n",
    "2. Every _transition_ in the finite state machine from $\\langle s \\rangle$ to $\\langle t \\rangle$ and actions $a_1, a_2, \\dots$ becomes an _alternative_ of $\\langle s \\rangle$ in the form $a_1, a_2, dots$ $\\langle t \\rangle$ in the grammar."
   ]
  },
  {
   "cell_type": "markdown",
   "metadata": {
    "slideshow": {
     "slide_type": "subslide"
    }
   },
   "source": [
    "The above finite state machine thus gets encoded into the grammar\n",
    "\n",
    "```\n",
    "<start> ::= <Order Form>\n",
    "<Order Form> ::= click('Terms and Conditions') <Terms and Conditions> | \n",
    "                 fill(...) submit('submit') <Thank You>\n",
    "<Terms and Conditions> ::= click('order form') <Order Form>\n",
    "<Thank You> ::= click('order form') <Order Form>\n",
    "```"
   ]
  },
  {
   "cell_type": "markdown",
   "metadata": {
    "slideshow": {
     "slide_type": "subslide"
    }
   },
   "source": [
    "Expanding this grammar gets us a stream of actions, navigating through the user interface:\n",
    "\n",
    "```\n",
    "fill(...) submit('submit') click('order form') click('Terms and Conditions') click('order form') ...\n",
    "```\n",
    "\n",
    "This stream is actually _infinite_ (as one can interact with the UI forever); to have it end, one can introduce an alternative `<end>` that simply expands to the empty string, without having any expansion (state) follow."
   ]
  },
  {
   "cell_type": "markdown",
   "metadata": {
    "slideshow": {
     "slide_type": "subslide"
    }
   },
   "source": [
    "### Retrieving State Grammars\n",
    "\n",
    "Let us build a method that retrieves a grammar from the _current state_ of a user interface.  We first define a constant `GUI_GRAMMAR` that servers as template for all sorts of input types.  We will use this to fill out forms."
   ]
  },
  {
   "cell_type": "markdown",
   "metadata": {
    "slideshow": {
     "slide_type": "fragment"
    }
   },
   "source": [
    "\\todo{}: Have a generic interface `BaseGrammarMiner` with `__init__()` and `mine_grammar()`"
   ]
  },
  {
   "cell_type": "code",
   "execution_count": 67,
   "metadata": {
    "slideshow": {
     "slide_type": "skip"
    }
   },
   "outputs": [],
   "source": [
    "from Grammars import new_symbol"
   ]
  },
  {
   "cell_type": "code",
   "execution_count": 68,
   "metadata": {
    "slideshow": {
     "slide_type": "skip"
    }
   },
   "outputs": [],
   "source": [
    "from Grammars import nonterminals, START_SYMBOL\n",
    "from Grammars import extend_grammar, unreachable_nonterminals, opts, crange, srange\n",
    "from Grammars import syntax_diagram, is_valid_grammar"
   ]
  },
  {
   "cell_type": "code",
   "execution_count": 69,
   "metadata": {
    "slideshow": {
     "slide_type": "subslide"
    }
   },
   "outputs": [],
   "source": [
    "class GUIGrammarMiner(GUIGrammarMiner):\n",
    "    START_STATE = \"<state>\"\n",
    "    UNEXPLORED_STATE = \"<unexplored>\"\n",
    "    FINAL_STATE = \"<end>\"\n",
    "\n",
    "    GUI_GRAMMAR = ({\n",
    "        START_SYMBOL: [START_STATE],\n",
    "        UNEXPLORED_STATE: [\"\"],\n",
    "        FINAL_STATE: [\"\"],\n",
    "\n",
    "        \"<text>\": [\"<string>\"],\n",
    "        \"<string>\": [\"<character>\", \"<string><character>\"],\n",
    "        \"<character>\": [\"<letter>\", \"<digit>\", \"<special>\"],\n",
    "        \"<letter>\": crange('a', 'z') + crange('A', 'Z'),\n",
    "        \n",
    "        \"<number>\": [\"<digits>\"],\n",
    "        \"<digits>\": [\"<digit>\", \"<digits><digit>\"],\n",
    "        \"<digit>\": crange('0', '9'),\n",
    "        \n",
    "        \"<special>\": srange(\". !\"),\n",
    "\n",
    "        \"<email>\": [\"<letters>@<letters>\"],\n",
    "        \"<letters>\": [\"<letter>\", \"<letters><letter>\"],\n",
    "        \n",
    "        \"<boolean>\": [\"True\", \"False\"],\n",
    "\n",
    "        # Use a fixed password in case we need to repeat it\n",
    "        \"<password>\": [\"abcABC.123\"],\n",
    "        \n",
    "        \"<hidden>\": \"<string>\",\n",
    "    })"
   ]
  },
  {
   "cell_type": "code",
   "execution_count": 70,
   "metadata": {
    "slideshow": {
     "slide_type": "subslide"
    }
   },
   "outputs": [
    {
     "name": "stdout",
     "output_type": "stream",
     "text": [
      "start\n"
     ]
    },
    {
     "data": {
      "image/svg+xml": [
       "<svg class=\"railroad-diagram\" height=\"62\" viewBox=\"0 0 182.5 62\" width=\"182.5\" xmlns=\"http://www.w3.org/2000/svg\">\n",
       "<g transform=\"translate(.5 .5)\">\n",
       "<style>/* <![CDATA[ */\n",
       "    svg.railroad-diagram {\n",
       "        background-color:hsl(100,100%,100%);\n",
       "    }\n",
       "    svg.railroad-diagram path {\n",
       "        stroke-width:3;\n",
       "        stroke:black;\n",
       "        fill:rgba(0,0,0,0);\n",
       "    }\n",
       "    svg.railroad-diagram text {\n",
       "        font:bold 14px monospace;\n",
       "        text-anchor:middle;\n",
       "    }\n",
       "    svg.railroad-diagram text.label{\n",
       "        text-anchor:start;\n",
       "    }\n",
       "    svg.railroad-diagram text.comment{\n",
       "        font:italic 12px monospace;\n",
       "    }\n",
       "    svg.railroad-diagram rect{\n",
       "        stroke-width:3;\n",
       "        stroke:black;\n",
       "        fill:hsl(0,62%,82%);\n",
       "    }\n",
       "\n",
       "/* ]]> */\n",
       "</style><g>\n",
       "<path d=\"M20 21v20m10 -20v20m-10 -10h20\"/></g><g>\n",
       "<path d=\"M40 31h0.0\"/><path d=\"M142.5 31h0.0\"/><path d=\"M40.0 31h20\"/><g>\n",
       "<path d=\"M60.0 31h0.0\"/><path d=\"M122.5 31h0.0\"/><g class=\"non-terminal\">\n",
       "<path d=\"M60.0 31h0.0\"/><path d=\"M122.5 31h0.0\"/><rect height=\"22\" width=\"62.5\" x=\"60.0\" y=\"20\"/><text x=\"91.25\" y=\"35\">state</text></g></g><path d=\"M122.5 31h20\"/></g><path d=\"M 142.5 31 h 20 m -10 -10 v 20 m 10 -20 v 20\"/></g></svg>"
      ],
      "text/plain": [
       "<IPython.core.display.SVG object>"
      ]
     },
     "metadata": {},
     "output_type": "display_data"
    },
    {
     "name": "stdout",
     "output_type": "stream",
     "text": [
      "unexplored\n"
     ]
    },
    {
     "data": {
      "image/svg+xml": [
       "<svg class=\"railroad-diagram\" height=\"62\" viewBox=\"0 0 140.0 62\" width=\"140.0\" xmlns=\"http://www.w3.org/2000/svg\">\n",
       "<g transform=\"translate(.5 .5)\">\n",
       "<style>/* <![CDATA[ */\n",
       "    svg.railroad-diagram {\n",
       "        background-color:hsl(100,100%,100%);\n",
       "    }\n",
       "    svg.railroad-diagram path {\n",
       "        stroke-width:3;\n",
       "        stroke:black;\n",
       "        fill:rgba(0,0,0,0);\n",
       "    }\n",
       "    svg.railroad-diagram text {\n",
       "        font:bold 14px monospace;\n",
       "        text-anchor:middle;\n",
       "    }\n",
       "    svg.railroad-diagram text.label{\n",
       "        text-anchor:start;\n",
       "    }\n",
       "    svg.railroad-diagram text.comment{\n",
       "        font:italic 12px monospace;\n",
       "    }\n",
       "    svg.railroad-diagram rect{\n",
       "        stroke-width:3;\n",
       "        stroke:black;\n",
       "        fill:hsl(0,62%,82%);\n",
       "    }\n",
       "\n",
       "/* ]]> */\n",
       "</style><g>\n",
       "<path d=\"M20 21v20m10 -20v20m-10 -10h20\"/></g><g>\n",
       "<path d=\"M40 31h0.0\"/><path d=\"M100.0 31h0.0\"/><path d=\"M40.0 31h20\"/><g>\n",
       "<path d=\"M60.0 31h0.0\"/><path d=\"M80.0 31h0.0\"/><g class=\"terminal\">\n",
       "<path d=\"M60.0 31h0.0\"/><path d=\"M80.0 31h0.0\"/><rect height=\"22\" rx=\"10\" ry=\"10\" width=\"20.0\" x=\"60.0\" y=\"20\"/><text x=\"70.0\" y=\"35\"/></g></g><path d=\"M80.0 31h20\"/></g><path d=\"M 100.0 31 h 20 m -10 -10 v 20 m 10 -20 v 20\"/></g></svg>"
      ],
      "text/plain": [
       "<IPython.core.display.SVG object>"
      ]
     },
     "metadata": {},
     "output_type": "display_data"
    },
    {
     "name": "stdout",
     "output_type": "stream",
     "text": [
      "end\n"
     ]
    },
    {
     "data": {
      "image/svg+xml": [
       "<svg class=\"railroad-diagram\" height=\"62\" viewBox=\"0 0 140.0 62\" width=\"140.0\" xmlns=\"http://www.w3.org/2000/svg\">\n",
       "<g transform=\"translate(.5 .5)\">\n",
       "<style>/* <![CDATA[ */\n",
       "    svg.railroad-diagram {\n",
       "        background-color:hsl(100,100%,100%);\n",
       "    }\n",
       "    svg.railroad-diagram path {\n",
       "        stroke-width:3;\n",
       "        stroke:black;\n",
       "        fill:rgba(0,0,0,0);\n",
       "    }\n",
       "    svg.railroad-diagram text {\n",
       "        font:bold 14px monospace;\n",
       "        text-anchor:middle;\n",
       "    }\n",
       "    svg.railroad-diagram text.label{\n",
       "        text-anchor:start;\n",
       "    }\n",
       "    svg.railroad-diagram text.comment{\n",
       "        font:italic 12px monospace;\n",
       "    }\n",
       "    svg.railroad-diagram rect{\n",
       "        stroke-width:3;\n",
       "        stroke:black;\n",
       "        fill:hsl(0,62%,82%);\n",
       "    }\n",
       "\n",
       "/* ]]> */\n",
       "</style><g>\n",
       "<path d=\"M20 21v20m10 -20v20m-10 -10h20\"/></g><g>\n",
       "<path d=\"M40 31h0.0\"/><path d=\"M100.0 31h0.0\"/><path d=\"M40.0 31h20\"/><g>\n",
       "<path d=\"M60.0 31h0.0\"/><path d=\"M80.0 31h0.0\"/><g class=\"terminal\">\n",
       "<path d=\"M60.0 31h0.0\"/><path d=\"M80.0 31h0.0\"/><rect height=\"22\" rx=\"10\" ry=\"10\" width=\"20.0\" x=\"60.0\" y=\"20\"/><text x=\"70.0\" y=\"35\"/></g></g><path d=\"M80.0 31h20\"/></g><path d=\"M 100.0 31 h 20 m -10 -10 v 20 m 10 -20 v 20\"/></g></svg>"
      ],
      "text/plain": [
       "<IPython.core.display.SVG object>"
      ]
     },
     "metadata": {},
     "output_type": "display_data"
    },
    {
     "name": "stdout",
     "output_type": "stream",
     "text": [
      "text\n"
     ]
    },
    {
     "data": {
      "image/svg+xml": [
       "<svg class=\"railroad-diagram\" height=\"62\" viewBox=\"0 0 191.0 62\" width=\"191.0\" xmlns=\"http://www.w3.org/2000/svg\">\n",
       "<g transform=\"translate(.5 .5)\">\n",
       "<style>/* <![CDATA[ */\n",
       "    svg.railroad-diagram {\n",
       "        background-color:hsl(100,100%,100%);\n",
       "    }\n",
       "    svg.railroad-diagram path {\n",
       "        stroke-width:3;\n",
       "        stroke:black;\n",
       "        fill:rgba(0,0,0,0);\n",
       "    }\n",
       "    svg.railroad-diagram text {\n",
       "        font:bold 14px monospace;\n",
       "        text-anchor:middle;\n",
       "    }\n",
       "    svg.railroad-diagram text.label{\n",
       "        text-anchor:start;\n",
       "    }\n",
       "    svg.railroad-diagram text.comment{\n",
       "        font:italic 12px monospace;\n",
       "    }\n",
       "    svg.railroad-diagram rect{\n",
       "        stroke-width:3;\n",
       "        stroke:black;\n",
       "        fill:hsl(0,62%,82%);\n",
       "    }\n",
       "\n",
       "/* ]]> */\n",
       "</style><g>\n",
       "<path d=\"M20 21v20m10 -20v20m-10 -10h20\"/></g><g>\n",
       "<path d=\"M40 31h0.0\"/><path d=\"M151.0 31h0.0\"/><path d=\"M40.0 31h20\"/><g>\n",
       "<path d=\"M60.0 31h0.0\"/><path d=\"M131.0 31h0.0\"/><g class=\"non-terminal\">\n",
       "<path d=\"M60.0 31h0.0\"/><path d=\"M131.0 31h0.0\"/><rect height=\"22\" width=\"71.0\" x=\"60.0\" y=\"20\"/><text x=\"95.5\" y=\"35\">string</text></g></g><path d=\"M131.0 31h20\"/></g><path d=\"M 151.0 31 h 20 m -10 -10 v 20 m 10 -20 v 20\"/></g></svg>"
      ],
      "text/plain": [
       "<IPython.core.display.SVG object>"
      ]
     },
     "metadata": {},
     "output_type": "display_data"
    },
    {
     "name": "stdout",
     "output_type": "stream",
     "text": [
      "string\n"
     ]
    },
    {
     "data": {
      "image/svg+xml": [
       "<svg class=\"railroad-diagram\" height=\"92\" viewBox=\"0 0 307.5 92\" width=\"307.5\" xmlns=\"http://www.w3.org/2000/svg\">\n",
       "<g transform=\"translate(.5 .5)\">\n",
       "<style>/* <![CDATA[ */\n",
       "    svg.railroad-diagram {\n",
       "        background-color:hsl(100,100%,100%);\n",
       "    }\n",
       "    svg.railroad-diagram path {\n",
       "        stroke-width:3;\n",
       "        stroke:black;\n",
       "        fill:rgba(0,0,0,0);\n",
       "    }\n",
       "    svg.railroad-diagram text {\n",
       "        font:bold 14px monospace;\n",
       "        text-anchor:middle;\n",
       "    }\n",
       "    svg.railroad-diagram text.label{\n",
       "        text-anchor:start;\n",
       "    }\n",
       "    svg.railroad-diagram text.comment{\n",
       "        font:italic 12px monospace;\n",
       "    }\n",
       "    svg.railroad-diagram rect{\n",
       "        stroke-width:3;\n",
       "        stroke:black;\n",
       "        fill:hsl(0,62%,82%);\n",
       "    }\n",
       "\n",
       "/* ]]> */\n",
       "</style><g>\n",
       "<path d=\"M20 51v20m10 -20v20m-10 -10h20\"/></g><g>\n",
       "<path d=\"M40 61h0.0\"/><path d=\"M267.5 61h0.0\"/><path d=\"M40.0 61a10 10 0 0 0 10 -10v-10a10 10 0 0 1 10 -10\"/><g>\n",
       "<path d=\"M60.0 31h45.5\"/><path d=\"M202.0 31h45.5\"/><g class=\"non-terminal\">\n",
       "<path d=\"M105.5 31h0.0\"/><path d=\"M202.0 31h0.0\"/><rect height=\"22\" width=\"96.5\" x=\"105.5\" y=\"20\"/><text x=\"153.75\" y=\"35\">character</text></g></g><path d=\"M247.5 31a10 10 0 0 1 10 10v10a10 10 0 0 0 10 10\"/><path d=\"M40.0 61h20\"/><g>\n",
       "<path d=\"M60.0 61h0.0\"/><path d=\"M247.5 61h0.0\"/><g class=\"non-terminal\">\n",
       "<path d=\"M60.0 61h0.0\"/><path d=\"M131.0 61h0.0\"/><rect height=\"22\" width=\"71.0\" x=\"60.0\" y=\"50\"/><text x=\"95.5\" y=\"65\">string</text></g><path d=\"M131.0 61h10\"/><path d=\"M141.0 61h10\"/><g class=\"non-terminal\">\n",
       "<path d=\"M151.0 61h0.0\"/><path d=\"M247.5 61h0.0\"/><rect height=\"22\" width=\"96.5\" x=\"151.0\" y=\"50\"/><text x=\"199.25\" y=\"65\">character</text></g></g><path d=\"M247.5 61h20\"/></g><path d=\"M 267.5 61 h 20 m -10 -10 v 20 m 10 -20 v 20\"/></g></svg>"
      ],
      "text/plain": [
       "<IPython.core.display.SVG object>"
      ]
     },
     "metadata": {},
     "output_type": "display_data"
    },
    {
     "name": "stdout",
     "output_type": "stream",
     "text": [
      "character\n"
     ]
    },
    {
     "data": {
      "image/svg+xml": [
       "<svg class=\"railroad-diagram\" height=\"122\" viewBox=\"0 0 199.5 122\" width=\"199.5\" xmlns=\"http://www.w3.org/2000/svg\">\n",
       "<g transform=\"translate(.5 .5)\">\n",
       "<style>/* <![CDATA[ */\n",
       "    svg.railroad-diagram {\n",
       "        background-color:hsl(100,100%,100%);\n",
       "    }\n",
       "    svg.railroad-diagram path {\n",
       "        stroke-width:3;\n",
       "        stroke:black;\n",
       "        fill:rgba(0,0,0,0);\n",
       "    }\n",
       "    svg.railroad-diagram text {\n",
       "        font:bold 14px monospace;\n",
       "        text-anchor:middle;\n",
       "    }\n",
       "    svg.railroad-diagram text.label{\n",
       "        text-anchor:start;\n",
       "    }\n",
       "    svg.railroad-diagram text.comment{\n",
       "        font:italic 12px monospace;\n",
       "    }\n",
       "    svg.railroad-diagram rect{\n",
       "        stroke-width:3;\n",
       "        stroke:black;\n",
       "        fill:hsl(0,62%,82%);\n",
       "    }\n",
       "\n",
       "/* ]]> */\n",
       "</style><g>\n",
       "<path d=\"M20 51v20m10 -20v20m-10 -10h20\"/></g><g>\n",
       "<path d=\"M40 61h0.0\"/><path d=\"M159.5 61h0.0\"/><path d=\"M40.0 61a10 10 0 0 0 10 -10v-10a10 10 0 0 1 10 -10\"/><g>\n",
       "<path d=\"M60.0 31h4.25\"/><path d=\"M135.25 31h4.25\"/><g class=\"non-terminal\">\n",
       "<path d=\"M64.25 31h0.0\"/><path d=\"M135.25 31h0.0\"/><rect height=\"22\" width=\"71.0\" x=\"64.25\" y=\"20\"/><text x=\"99.75\" y=\"35\">letter</text></g></g><path d=\"M139.5 31a10 10 0 0 1 10 10v10a10 10 0 0 0 10 10\"/><path d=\"M40.0 61h20\"/><g>\n",
       "<path d=\"M60.0 61h8.5\"/><path d=\"M131.0 61h8.5\"/><g class=\"non-terminal\">\n",
       "<path d=\"M68.5 61h0.0\"/><path d=\"M131.0 61h0.0\"/><rect height=\"22\" width=\"62.5\" x=\"68.5\" y=\"50\"/><text x=\"99.75\" y=\"65\">digit</text></g></g><path d=\"M139.5 61h20\"/><path d=\"M40.0 61a10 10 0 0 1 10 10v10a10 10 0 0 0 10 10\"/><g>\n",
       "<path d=\"M60.0 91h0.0\"/><path d=\"M139.5 91h0.0\"/><g class=\"non-terminal\">\n",
       "<path d=\"M60.0 91h0.0\"/><path d=\"M139.5 91h0.0\"/><rect height=\"22\" width=\"79.5\" x=\"60.0\" y=\"80\"/><text x=\"99.75\" y=\"95\">special</text></g></g><path d=\"M139.5 91a10 10 0 0 0 10 -10v-10a10 10 0 0 1 10 -10\"/></g><path d=\"M 159.5 61 h 20 m -10 -10 v 20 m 10 -20 v 20\"/></g></svg>"
      ],
      "text/plain": [
       "<IPython.core.display.SVG object>"
      ]
     },
     "metadata": {},
     "output_type": "display_data"
    },
    {
     "name": "stdout",
     "output_type": "stream",
     "text": [
      "letter\n"
     ]
    },
    {
     "data": {
      "image/svg+xml": [
       "<svg class=\"railroad-diagram\" height=\"348\" viewBox=\"0 0 611.0 348\" width=\"611.0\" xmlns=\"http://www.w3.org/2000/svg\">\n",
       "<g transform=\"translate(.5 .5)\">\n",
       "<style>/* <![CDATA[ */\n",
       "    svg.railroad-diagram {\n",
       "        background-color:hsl(100,100%,100%);\n",
       "    }\n",
       "    svg.railroad-diagram path {\n",
       "        stroke-width:3;\n",
       "        stroke:black;\n",
       "        fill:rgba(0,0,0,0);\n",
       "    }\n",
       "    svg.railroad-diagram text {\n",
       "        font:bold 14px monospace;\n",
       "        text-anchor:middle;\n",
       "    }\n",
       "    svg.railroad-diagram text.label{\n",
       "        text-anchor:start;\n",
       "    }\n",
       "    svg.railroad-diagram text.comment{\n",
       "        font:italic 12px monospace;\n",
       "    }\n",
       "    svg.railroad-diagram rect{\n",
       "        stroke-width:3;\n",
       "        stroke:black;\n",
       "        fill:hsl(0,62%,82%);\n",
       "    }\n",
       "\n",
       "/* ]]> */\n",
       "</style><g>\n",
       "<path d=\"M20 179v20m10 -20v20m-10 -10h20\"/></g><g>\n",
       "<path d=\"M40 189h0.0\"/><path d=\"M571.0 189h0.0\"/><path d=\"M40.0 189a10 10 0 0 0 10 -10v-149a10 10 0 0 1 10 -10h412.5\"/><path d=\"M138.5 328h412.5a10 10 0 0 0 10 -10v-119a10 10 0 0 1 10 -10\"/><path d=\"M40.0 189h10\"/><g>\n",
       "<path d=\"M50.0 189h0.0\"/><path d=\"M118.5 189h0.0\"/><path d=\"M50.0 189a10 10 0 0 0 10 -10v-10a10 10 0 0 1 10 -10\"/><g>\n",
       "<path d=\"M70.0 159h0.0\"/><path d=\"M98.5 159h0.0\"/><g class=\"terminal\">\n",
       "<path d=\"M70.0 159h0.0\"/><path d=\"M98.5 159h0.0\"/><rect height=\"22\" rx=\"10\" ry=\"10\" width=\"28.5\" x=\"70.0\" y=\"148\"/><text x=\"84.25\" y=\"163\">e</text></g></g><path d=\"M98.5 159a10 10 0 0 1 10 10v10a10 10 0 0 0 10 10\"/><path d=\"M50.0 189a10 10 0 0 0 10 -10v-40a10 10 0 0 1 10 -10\"/><g>\n",
       "<path d=\"M70.0 129h0.0\"/><path d=\"M98.5 129h0.0\"/><g class=\"terminal\">\n",
       "<path d=\"M70.0 129h0.0\"/><path d=\"M98.5 129h0.0\"/><rect height=\"22\" rx=\"10\" ry=\"10\" width=\"28.5\" x=\"70.0\" y=\"118\"/><text x=\"84.25\" y=\"133\">d</text></g></g><path d=\"M98.5 129a10 10 0 0 1 10 10v40a10 10 0 0 0 10 10\"/><path d=\"M50.0 189a10 10 0 0 0 10 -10v-70a10 10 0 0 1 10 -10\"/><g>\n",
       "<path d=\"M70.0 99h0.0\"/><path d=\"M98.5 99h0.0\"/><g class=\"terminal\">\n",
       "<path d=\"M70.0 99h0.0\"/><path d=\"M98.5 99h0.0\"/><rect height=\"22\" rx=\"10\" ry=\"10\" width=\"28.5\" x=\"70.0\" y=\"88\"/><text x=\"84.25\" y=\"103\">c</text></g></g><path d=\"M98.5 99a10 10 0 0 1 10 10v70a10 10 0 0 0 10 10\"/><path d=\"M50.0 189a10 10 0 0 0 10 -10v-100a10 10 0 0 1 10 -10\"/><g>\n",
       "<path d=\"M70.0 69h0.0\"/><path d=\"M98.5 69h0.0\"/><g class=\"terminal\">\n",
       "<path d=\"M70.0 69h0.0\"/><path d=\"M98.5 69h0.0\"/><rect height=\"22\" rx=\"10\" ry=\"10\" width=\"28.5\" x=\"70.0\" y=\"58\"/><text x=\"84.25\" y=\"73\">b</text></g></g><path d=\"M98.5 69a10 10 0 0 1 10 10v100a10 10 0 0 0 10 10\"/><path d=\"M50.0 189a10 10 0 0 0 10 -10v-130a10 10 0 0 1 10 -10\"/><g>\n",
       "<path d=\"M70.0 39h0.0\"/><path d=\"M98.5 39h0.0\"/><g class=\"terminal\">\n",
       "<path d=\"M70.0 39h0.0\"/><path d=\"M98.5 39h0.0\"/><rect height=\"22\" rx=\"10\" ry=\"10\" width=\"28.5\" x=\"70.0\" y=\"28\"/><text x=\"84.25\" y=\"43\">a</text></g></g><path d=\"M98.5 39a10 10 0 0 1 10 10v130a10 10 0 0 0 10 10\"/><path d=\"M50.0 189h20\"/><g>\n",
       "<path d=\"M70.0 189h0.0\"/><path d=\"M98.5 189h0.0\"/><g class=\"terminal\">\n",
       "<path d=\"M70.0 189h0.0\"/><path d=\"M98.5 189h0.0\"/><rect height=\"22\" rx=\"10\" ry=\"10\" width=\"28.5\" x=\"70.0\" y=\"178\"/><text x=\"84.25\" y=\"193\">f</text></g></g><path d=\"M98.5 189h20\"/><path d=\"M50.0 189a10 10 0 0 1 10 10v10a10 10 0 0 0 10 10\"/><g>\n",
       "<path d=\"M70.0 219h0.0\"/><path d=\"M98.5 219h0.0\"/><g class=\"terminal\">\n",
       "<path d=\"M70.0 219h0.0\"/><path d=\"M98.5 219h0.0\"/><rect height=\"22\" rx=\"10\" ry=\"10\" width=\"28.5\" x=\"70.0\" y=\"208\"/><text x=\"84.25\" y=\"223\">g</text></g></g><path d=\"M98.5 219a10 10 0 0 0 10 -10v-10a10 10 0 0 1 10 -10\"/><path d=\"M50.0 189a10 10 0 0 1 10 10v40a10 10 0 0 0 10 10\"/><g>\n",
       "<path d=\"M70.0 249h0.0\"/><path d=\"M98.5 249h0.0\"/><g class=\"terminal\">\n",
       "<path d=\"M70.0 249h0.0\"/><path d=\"M98.5 249h0.0\"/><rect height=\"22\" rx=\"10\" ry=\"10\" width=\"28.5\" x=\"70.0\" y=\"238\"/><text x=\"84.25\" y=\"253\">h</text></g></g><path d=\"M98.5 249a10 10 0 0 0 10 -10v-40a10 10 0 0 1 10 -10\"/><path d=\"M50.0 189a10 10 0 0 1 10 10v70a10 10 0 0 0 10 10\"/><g>\n",
       "<path d=\"M70.0 279h0.0\"/><path d=\"M98.5 279h0.0\"/><g class=\"terminal\">\n",
       "<path d=\"M70.0 279h0.0\"/><path d=\"M98.5 279h0.0\"/><rect height=\"22\" rx=\"10\" ry=\"10\" width=\"28.5\" x=\"70.0\" y=\"268\"/><text x=\"84.25\" y=\"283\">i</text></g></g><path d=\"M98.5 279a10 10 0 0 0 10 -10v-70a10 10 0 0 1 10 -10\"/><path d=\"M50.0 189a10 10 0 0 1 10 10v100a10 10 0 0 0 10 10\"/><g>\n",
       "<path d=\"M70.0 309h0.0\"/><path d=\"M98.5 309h0.0\"/><g class=\"terminal\">\n",
       "<path d=\"M70.0 309h0.0\"/><path d=\"M98.5 309h0.0\"/><rect height=\"22\" rx=\"10\" ry=\"10\" width=\"28.5\" x=\"70.0\" y=\"298\"/><text x=\"84.25\" y=\"313\">j</text></g></g><path d=\"M98.5 309a10 10 0 0 0 10 -10v-100a10 10 0 0 1 10 -10\"/></g><path d=\"M118.5 189a10 10 0 0 1 10 10v119a10 10 0 0 0 10 10\"/><path d=\"M118.5 20a10 10 0 0 1 10 10v149a10 10 0 0 0 10 10\"/><g>\n",
       "<path d=\"M138.5 189h0.0\"/><path d=\"M207.0 189h0.0\"/><path d=\"M138.5 189a10 10 0 0 0 10 -10v-10a10 10 0 0 1 10 -10\"/><g>\n",
       "<path d=\"M158.5 159h0.0\"/><path d=\"M187.0 159h0.0\"/><g class=\"terminal\">\n",
       "<path d=\"M158.5 159h0.0\"/><path d=\"M187.0 159h0.0\"/><rect height=\"22\" rx=\"10\" ry=\"10\" width=\"28.5\" x=\"158.5\" y=\"148\"/><text x=\"172.75\" y=\"163\">o</text></g></g><path d=\"M187.0 159a10 10 0 0 1 10 10v10a10 10 0 0 0 10 10\"/><path d=\"M138.5 189a10 10 0 0 0 10 -10v-40a10 10 0 0 1 10 -10\"/><g>\n",
       "<path d=\"M158.5 129h0.0\"/><path d=\"M187.0 129h0.0\"/><g class=\"terminal\">\n",
       "<path d=\"M158.5 129h0.0\"/><path d=\"M187.0 129h0.0\"/><rect height=\"22\" rx=\"10\" ry=\"10\" width=\"28.5\" x=\"158.5\" y=\"118\"/><text x=\"172.75\" y=\"133\">n</text></g></g><path d=\"M187.0 129a10 10 0 0 1 10 10v40a10 10 0 0 0 10 10\"/><path d=\"M138.5 189a10 10 0 0 0 10 -10v-70a10 10 0 0 1 10 -10\"/><g>\n",
       "<path d=\"M158.5 99h0.0\"/><path d=\"M187.0 99h0.0\"/><g class=\"terminal\">\n",
       "<path d=\"M158.5 99h0.0\"/><path d=\"M187.0 99h0.0\"/><rect height=\"22\" rx=\"10\" ry=\"10\" width=\"28.5\" x=\"158.5\" y=\"88\"/><text x=\"172.75\" y=\"103\">m</text></g></g><path d=\"M187.0 99a10 10 0 0 1 10 10v70a10 10 0 0 0 10 10\"/><path d=\"M138.5 189a10 10 0 0 0 10 -10v-100a10 10 0 0 1 10 -10\"/><g>\n",
       "<path d=\"M158.5 69h0.0\"/><path d=\"M187.0 69h0.0\"/><g class=\"terminal\">\n",
       "<path d=\"M158.5 69h0.0\"/><path d=\"M187.0 69h0.0\"/><rect height=\"22\" rx=\"10\" ry=\"10\" width=\"28.5\" x=\"158.5\" y=\"58\"/><text x=\"172.75\" y=\"73\">l</text></g></g><path d=\"M187.0 69a10 10 0 0 1 10 10v100a10 10 0 0 0 10 10\"/><path d=\"M138.5 189a10 10 0 0 0 10 -10v-130a10 10 0 0 1 10 -10\"/><g>\n",
       "<path d=\"M158.5 39h0.0\"/><path d=\"M187.0 39h0.0\"/><g class=\"terminal\">\n",
       "<path d=\"M158.5 39h0.0\"/><path d=\"M187.0 39h0.0\"/><rect height=\"22\" rx=\"10\" ry=\"10\" width=\"28.5\" x=\"158.5\" y=\"28\"/><text x=\"172.75\" y=\"43\">k</text></g></g><path d=\"M187.0 39a10 10 0 0 1 10 10v130a10 10 0 0 0 10 10\"/><path d=\"M138.5 189h20\"/><g>\n",
       "<path d=\"M158.5 189h0.0\"/><path d=\"M187.0 189h0.0\"/><g class=\"terminal\">\n",
       "<path d=\"M158.5 189h0.0\"/><path d=\"M187.0 189h0.0\"/><rect height=\"22\" rx=\"10\" ry=\"10\" width=\"28.5\" x=\"158.5\" y=\"178\"/><text x=\"172.75\" y=\"193\">p</text></g></g><path d=\"M187.0 189h20\"/><path d=\"M138.5 189a10 10 0 0 1 10 10v10a10 10 0 0 0 10 10\"/><g>\n",
       "<path d=\"M158.5 219h0.0\"/><path d=\"M187.0 219h0.0\"/><g class=\"terminal\">\n",
       "<path d=\"M158.5 219h0.0\"/><path d=\"M187.0 219h0.0\"/><rect height=\"22\" rx=\"10\" ry=\"10\" width=\"28.5\" x=\"158.5\" y=\"208\"/><text x=\"172.75\" y=\"223\">q</text></g></g><path d=\"M187.0 219a10 10 0 0 0 10 -10v-10a10 10 0 0 1 10 -10\"/><path d=\"M138.5 189a10 10 0 0 1 10 10v40a10 10 0 0 0 10 10\"/><g>\n",
       "<path d=\"M158.5 249h0.0\"/><path d=\"M187.0 249h0.0\"/><g class=\"terminal\">\n",
       "<path d=\"M158.5 249h0.0\"/><path d=\"M187.0 249h0.0\"/><rect height=\"22\" rx=\"10\" ry=\"10\" width=\"28.5\" x=\"158.5\" y=\"238\"/><text x=\"172.75\" y=\"253\">r</text></g></g><path d=\"M187.0 249a10 10 0 0 0 10 -10v-40a10 10 0 0 1 10 -10\"/><path d=\"M138.5 189a10 10 0 0 1 10 10v70a10 10 0 0 0 10 10\"/><g>\n",
       "<path d=\"M158.5 279h0.0\"/><path d=\"M187.0 279h0.0\"/><g class=\"terminal\">\n",
       "<path d=\"M158.5 279h0.0\"/><path d=\"M187.0 279h0.0\"/><rect height=\"22\" rx=\"10\" ry=\"10\" width=\"28.5\" x=\"158.5\" y=\"268\"/><text x=\"172.75\" y=\"283\">s</text></g></g><path d=\"M187.0 279a10 10 0 0 0 10 -10v-70a10 10 0 0 1 10 -10\"/><path d=\"M138.5 189a10 10 0 0 1 10 10v100a10 10 0 0 0 10 10\"/><g>\n",
       "<path d=\"M158.5 309h0.0\"/><path d=\"M187.0 309h0.0\"/><g class=\"terminal\">\n",
       "<path d=\"M158.5 309h0.0\"/><path d=\"M187.0 309h0.0\"/><rect height=\"22\" rx=\"10\" ry=\"10\" width=\"28.5\" x=\"158.5\" y=\"298\"/><text x=\"172.75\" y=\"313\">t</text></g></g><path d=\"M187.0 309a10 10 0 0 0 10 -10v-100a10 10 0 0 1 10 -10\"/></g><path d=\"M207.0 189a10 10 0 0 1 10 10v119a10 10 0 0 0 10 10\"/><path d=\"M207.0 20a10 10 0 0 1 10 10v149a10 10 0 0 0 10 10\"/><g>\n",
       "<path d=\"M227.0 189h0.0\"/><path d=\"M295.5 189h0.0\"/><path d=\"M227.0 189a10 10 0 0 0 10 -10v-10a10 10 0 0 1 10 -10\"/><g>\n",
       "<path d=\"M247.0 159h0.0\"/><path d=\"M275.5 159h0.0\"/><g class=\"terminal\">\n",
       "<path d=\"M247.0 159h0.0\"/><path d=\"M275.5 159h0.0\"/><rect height=\"22\" rx=\"10\" ry=\"10\" width=\"28.5\" x=\"247.0\" y=\"148\"/><text x=\"261.25\" y=\"163\">y</text></g></g><path d=\"M275.5 159a10 10 0 0 1 10 10v10a10 10 0 0 0 10 10\"/><path d=\"M227.0 189a10 10 0 0 0 10 -10v-40a10 10 0 0 1 10 -10\"/><g>\n",
       "<path d=\"M247.0 129h0.0\"/><path d=\"M275.5 129h0.0\"/><g class=\"terminal\">\n",
       "<path d=\"M247.0 129h0.0\"/><path d=\"M275.5 129h0.0\"/><rect height=\"22\" rx=\"10\" ry=\"10\" width=\"28.5\" x=\"247.0\" y=\"118\"/><text x=\"261.25\" y=\"133\">x</text></g></g><path d=\"M275.5 129a10 10 0 0 1 10 10v40a10 10 0 0 0 10 10\"/><path d=\"M227.0 189a10 10 0 0 0 10 -10v-70a10 10 0 0 1 10 -10\"/><g>\n",
       "<path d=\"M247.0 99h0.0\"/><path d=\"M275.5 99h0.0\"/><g class=\"terminal\">\n",
       "<path d=\"M247.0 99h0.0\"/><path d=\"M275.5 99h0.0\"/><rect height=\"22\" rx=\"10\" ry=\"10\" width=\"28.5\" x=\"247.0\" y=\"88\"/><text x=\"261.25\" y=\"103\">w</text></g></g><path d=\"M275.5 99a10 10 0 0 1 10 10v70a10 10 0 0 0 10 10\"/><path d=\"M227.0 189a10 10 0 0 0 10 -10v-100a10 10 0 0 1 10 -10\"/><g>\n",
       "<path d=\"M247.0 69h0.0\"/><path d=\"M275.5 69h0.0\"/><g class=\"terminal\">\n",
       "<path d=\"M247.0 69h0.0\"/><path d=\"M275.5 69h0.0\"/><rect height=\"22\" rx=\"10\" ry=\"10\" width=\"28.5\" x=\"247.0\" y=\"58\"/><text x=\"261.25\" y=\"73\">v</text></g></g><path d=\"M275.5 69a10 10 0 0 1 10 10v100a10 10 0 0 0 10 10\"/><path d=\"M227.0 189a10 10 0 0 0 10 -10v-130a10 10 0 0 1 10 -10\"/><g>\n",
       "<path d=\"M247.0 39h0.0\"/><path d=\"M275.5 39h0.0\"/><g class=\"terminal\">\n",
       "<path d=\"M247.0 39h0.0\"/><path d=\"M275.5 39h0.0\"/><rect height=\"22\" rx=\"10\" ry=\"10\" width=\"28.5\" x=\"247.0\" y=\"28\"/><text x=\"261.25\" y=\"43\">u</text></g></g><path d=\"M275.5 39a10 10 0 0 1 10 10v130a10 10 0 0 0 10 10\"/><path d=\"M227.0 189h20\"/><g>\n",
       "<path d=\"M247.0 189h0.0\"/><path d=\"M275.5 189h0.0\"/><g class=\"terminal\">\n",
       "<path d=\"M247.0 189h0.0\"/><path d=\"M275.5 189h0.0\"/><rect height=\"22\" rx=\"10\" ry=\"10\" width=\"28.5\" x=\"247.0\" y=\"178\"/><text x=\"261.25\" y=\"193\">z</text></g></g><path d=\"M275.5 189h20\"/><path d=\"M227.0 189a10 10 0 0 1 10 10v10a10 10 0 0 0 10 10\"/><g>\n",
       "<path d=\"M247.0 219h0.0\"/><path d=\"M275.5 219h0.0\"/><g class=\"terminal\">\n",
       "<path d=\"M247.0 219h0.0\"/><path d=\"M275.5 219h0.0\"/><rect height=\"22\" rx=\"10\" ry=\"10\" width=\"28.5\" x=\"247.0\" y=\"208\"/><text x=\"261.25\" y=\"223\">A</text></g></g><path d=\"M275.5 219a10 10 0 0 0 10 -10v-10a10 10 0 0 1 10 -10\"/><path d=\"M227.0 189a10 10 0 0 1 10 10v40a10 10 0 0 0 10 10\"/><g>\n",
       "<path d=\"M247.0 249h0.0\"/><path d=\"M275.5 249h0.0\"/><g class=\"terminal\">\n",
       "<path d=\"M247.0 249h0.0\"/><path d=\"M275.5 249h0.0\"/><rect height=\"22\" rx=\"10\" ry=\"10\" width=\"28.5\" x=\"247.0\" y=\"238\"/><text x=\"261.25\" y=\"253\">B</text></g></g><path d=\"M275.5 249a10 10 0 0 0 10 -10v-40a10 10 0 0 1 10 -10\"/><path d=\"M227.0 189a10 10 0 0 1 10 10v70a10 10 0 0 0 10 10\"/><g>\n",
       "<path d=\"M247.0 279h0.0\"/><path d=\"M275.5 279h0.0\"/><g class=\"terminal\">\n",
       "<path d=\"M247.0 279h0.0\"/><path d=\"M275.5 279h0.0\"/><rect height=\"22\" rx=\"10\" ry=\"10\" width=\"28.5\" x=\"247.0\" y=\"268\"/><text x=\"261.25\" y=\"283\">C</text></g></g><path d=\"M275.5 279a10 10 0 0 0 10 -10v-70a10 10 0 0 1 10 -10\"/><path d=\"M227.0 189a10 10 0 0 1 10 10v100a10 10 0 0 0 10 10\"/><g>\n",
       "<path d=\"M247.0 309h0.0\"/><path d=\"M275.5 309h0.0\"/><g class=\"terminal\">\n",
       "<path d=\"M247.0 309h0.0\"/><path d=\"M275.5 309h0.0\"/><rect height=\"22\" rx=\"10\" ry=\"10\" width=\"28.5\" x=\"247.0\" y=\"298\"/><text x=\"261.25\" y=\"313\">D</text></g></g><path d=\"M275.5 309a10 10 0 0 0 10 -10v-100a10 10 0 0 1 10 -10\"/></g><path d=\"M295.5 189a10 10 0 0 1 10 10v119a10 10 0 0 0 10 10\"/><path d=\"M295.5 20a10 10 0 0 1 10 10v149a10 10 0 0 0 10 10\"/><g>\n",
       "<path d=\"M315.5 189h0.0\"/><path d=\"M384.0 189h0.0\"/><path d=\"M315.5 189a10 10 0 0 0 10 -10v-10a10 10 0 0 1 10 -10\"/><g>\n",
       "<path d=\"M335.5 159h0.0\"/><path d=\"M364.0 159h0.0\"/><g class=\"terminal\">\n",
       "<path d=\"M335.5 159h0.0\"/><path d=\"M364.0 159h0.0\"/><rect height=\"22\" rx=\"10\" ry=\"10\" width=\"28.5\" x=\"335.5\" y=\"148\"/><text x=\"349.75\" y=\"163\">I</text></g></g><path d=\"M364.0 159a10 10 0 0 1 10 10v10a10 10 0 0 0 10 10\"/><path d=\"M315.5 189a10 10 0 0 0 10 -10v-40a10 10 0 0 1 10 -10\"/><g>\n",
       "<path d=\"M335.5 129h0.0\"/><path d=\"M364.0 129h0.0\"/><g class=\"terminal\">\n",
       "<path d=\"M335.5 129h0.0\"/><path d=\"M364.0 129h0.0\"/><rect height=\"22\" rx=\"10\" ry=\"10\" width=\"28.5\" x=\"335.5\" y=\"118\"/><text x=\"349.75\" y=\"133\">H</text></g></g><path d=\"M364.0 129a10 10 0 0 1 10 10v40a10 10 0 0 0 10 10\"/><path d=\"M315.5 189a10 10 0 0 0 10 -10v-70a10 10 0 0 1 10 -10\"/><g>\n",
       "<path d=\"M335.5 99h0.0\"/><path d=\"M364.0 99h0.0\"/><g class=\"terminal\">\n",
       "<path d=\"M335.5 99h0.0\"/><path d=\"M364.0 99h0.0\"/><rect height=\"22\" rx=\"10\" ry=\"10\" width=\"28.5\" x=\"335.5\" y=\"88\"/><text x=\"349.75\" y=\"103\">G</text></g></g><path d=\"M364.0 99a10 10 0 0 1 10 10v70a10 10 0 0 0 10 10\"/><path d=\"M315.5 189a10 10 0 0 0 10 -10v-100a10 10 0 0 1 10 -10\"/><g>\n",
       "<path d=\"M335.5 69h0.0\"/><path d=\"M364.0 69h0.0\"/><g class=\"terminal\">\n",
       "<path d=\"M335.5 69h0.0\"/><path d=\"M364.0 69h0.0\"/><rect height=\"22\" rx=\"10\" ry=\"10\" width=\"28.5\" x=\"335.5\" y=\"58\"/><text x=\"349.75\" y=\"73\">F</text></g></g><path d=\"M364.0 69a10 10 0 0 1 10 10v100a10 10 0 0 0 10 10\"/><path d=\"M315.5 189a10 10 0 0 0 10 -10v-130a10 10 0 0 1 10 -10\"/><g>\n",
       "<path d=\"M335.5 39h0.0\"/><path d=\"M364.0 39h0.0\"/><g class=\"terminal\">\n",
       "<path d=\"M335.5 39h0.0\"/><path d=\"M364.0 39h0.0\"/><rect height=\"22\" rx=\"10\" ry=\"10\" width=\"28.5\" x=\"335.5\" y=\"28\"/><text x=\"349.75\" y=\"43\">E</text></g></g><path d=\"M364.0 39a10 10 0 0 1 10 10v130a10 10 0 0 0 10 10\"/><path d=\"M315.5 189h20\"/><g>\n",
       "<path d=\"M335.5 189h0.0\"/><path d=\"M364.0 189h0.0\"/><g class=\"terminal\">\n",
       "<path d=\"M335.5 189h0.0\"/><path d=\"M364.0 189h0.0\"/><rect height=\"22\" rx=\"10\" ry=\"10\" width=\"28.5\" x=\"335.5\" y=\"178\"/><text x=\"349.75\" y=\"193\">J</text></g></g><path d=\"M364.0 189h20\"/><path d=\"M315.5 189a10 10 0 0 1 10 10v10a10 10 0 0 0 10 10\"/><g>\n",
       "<path d=\"M335.5 219h0.0\"/><path d=\"M364.0 219h0.0\"/><g class=\"terminal\">\n",
       "<path d=\"M335.5 219h0.0\"/><path d=\"M364.0 219h0.0\"/><rect height=\"22\" rx=\"10\" ry=\"10\" width=\"28.5\" x=\"335.5\" y=\"208\"/><text x=\"349.75\" y=\"223\">K</text></g></g><path d=\"M364.0 219a10 10 0 0 0 10 -10v-10a10 10 0 0 1 10 -10\"/><path d=\"M315.5 189a10 10 0 0 1 10 10v40a10 10 0 0 0 10 10\"/><g>\n",
       "<path d=\"M335.5 249h0.0\"/><path d=\"M364.0 249h0.0\"/><g class=\"terminal\">\n",
       "<path d=\"M335.5 249h0.0\"/><path d=\"M364.0 249h0.0\"/><rect height=\"22\" rx=\"10\" ry=\"10\" width=\"28.5\" x=\"335.5\" y=\"238\"/><text x=\"349.75\" y=\"253\">L</text></g></g><path d=\"M364.0 249a10 10 0 0 0 10 -10v-40a10 10 0 0 1 10 -10\"/><path d=\"M315.5 189a10 10 0 0 1 10 10v70a10 10 0 0 0 10 10\"/><g>\n",
       "<path d=\"M335.5 279h0.0\"/><path d=\"M364.0 279h0.0\"/><g class=\"terminal\">\n",
       "<path d=\"M335.5 279h0.0\"/><path d=\"M364.0 279h0.0\"/><rect height=\"22\" rx=\"10\" ry=\"10\" width=\"28.5\" x=\"335.5\" y=\"268\"/><text x=\"349.75\" y=\"283\">M</text></g></g><path d=\"M364.0 279a10 10 0 0 0 10 -10v-70a10 10 0 0 1 10 -10\"/><path d=\"M315.5 189a10 10 0 0 1 10 10v100a10 10 0 0 0 10 10\"/><g>\n",
       "<path d=\"M335.5 309h0.0\"/><path d=\"M364.0 309h0.0\"/><g class=\"terminal\">\n",
       "<path d=\"M335.5 309h0.0\"/><path d=\"M364.0 309h0.0\"/><rect height=\"22\" rx=\"10\" ry=\"10\" width=\"28.5\" x=\"335.5\" y=\"298\"/><text x=\"349.75\" y=\"313\">N</text></g></g><path d=\"M364.0 309a10 10 0 0 0 10 -10v-100a10 10 0 0 1 10 -10\"/></g><path d=\"M384.0 189a10 10 0 0 1 10 10v119a10 10 0 0 0 10 10\"/><path d=\"M384.0 20a10 10 0 0 1 10 10v149a10 10 0 0 0 10 10\"/><g>\n",
       "<path d=\"M404.0 189h0.0\"/><path d=\"M472.5 189h0.0\"/><path d=\"M404.0 189a10 10 0 0 0 10 -10v-10a10 10 0 0 1 10 -10\"/><g>\n",
       "<path d=\"M424.0 159h0.0\"/><path d=\"M452.5 159h0.0\"/><g class=\"terminal\">\n",
       "<path d=\"M424.0 159h0.0\"/><path d=\"M452.5 159h0.0\"/><rect height=\"22\" rx=\"10\" ry=\"10\" width=\"28.5\" x=\"424.0\" y=\"148\"/><text x=\"438.25\" y=\"163\">S</text></g></g><path d=\"M452.5 159a10 10 0 0 1 10 10v10a10 10 0 0 0 10 10\"/><path d=\"M404.0 189a10 10 0 0 0 10 -10v-40a10 10 0 0 1 10 -10\"/><g>\n",
       "<path d=\"M424.0 129h0.0\"/><path d=\"M452.5 129h0.0\"/><g class=\"terminal\">\n",
       "<path d=\"M424.0 129h0.0\"/><path d=\"M452.5 129h0.0\"/><rect height=\"22\" rx=\"10\" ry=\"10\" width=\"28.5\" x=\"424.0\" y=\"118\"/><text x=\"438.25\" y=\"133\">R</text></g></g><path d=\"M452.5 129a10 10 0 0 1 10 10v40a10 10 0 0 0 10 10\"/><path d=\"M404.0 189a10 10 0 0 0 10 -10v-70a10 10 0 0 1 10 -10\"/><g>\n",
       "<path d=\"M424.0 99h0.0\"/><path d=\"M452.5 99h0.0\"/><g class=\"terminal\">\n",
       "<path d=\"M424.0 99h0.0\"/><path d=\"M452.5 99h0.0\"/><rect height=\"22\" rx=\"10\" ry=\"10\" width=\"28.5\" x=\"424.0\" y=\"88\"/><text x=\"438.25\" y=\"103\">Q</text></g></g><path d=\"M452.5 99a10 10 0 0 1 10 10v70a10 10 0 0 0 10 10\"/><path d=\"M404.0 189a10 10 0 0 0 10 -10v-100a10 10 0 0 1 10 -10\"/><g>\n",
       "<path d=\"M424.0 69h0.0\"/><path d=\"M452.5 69h0.0\"/><g class=\"terminal\">\n",
       "<path d=\"M424.0 69h0.0\"/><path d=\"M452.5 69h0.0\"/><rect height=\"22\" rx=\"10\" ry=\"10\" width=\"28.5\" x=\"424.0\" y=\"58\"/><text x=\"438.25\" y=\"73\">P</text></g></g><path d=\"M452.5 69a10 10 0 0 1 10 10v100a10 10 0 0 0 10 10\"/><path d=\"M404.0 189a10 10 0 0 0 10 -10v-130a10 10 0 0 1 10 -10\"/><g>\n",
       "<path d=\"M424.0 39h0.0\"/><path d=\"M452.5 39h0.0\"/><g class=\"terminal\">\n",
       "<path d=\"M424.0 39h0.0\"/><path d=\"M452.5 39h0.0\"/><rect height=\"22\" rx=\"10\" ry=\"10\" width=\"28.5\" x=\"424.0\" y=\"28\"/><text x=\"438.25\" y=\"43\">O</text></g></g><path d=\"M452.5 39a10 10 0 0 1 10 10v130a10 10 0 0 0 10 10\"/><path d=\"M404.0 189h20\"/><g>\n",
       "<path d=\"M424.0 189h0.0\"/><path d=\"M452.5 189h0.0\"/><g class=\"terminal\">\n",
       "<path d=\"M424.0 189h0.0\"/><path d=\"M452.5 189h0.0\"/><rect height=\"22\" rx=\"10\" ry=\"10\" width=\"28.5\" x=\"424.0\" y=\"178\"/><text x=\"438.25\" y=\"193\">T</text></g></g><path d=\"M452.5 189h20\"/><path d=\"M404.0 189a10 10 0 0 1 10 10v10a10 10 0 0 0 10 10\"/><g>\n",
       "<path d=\"M424.0 219h0.0\"/><path d=\"M452.5 219h0.0\"/><g class=\"terminal\">\n",
       "<path d=\"M424.0 219h0.0\"/><path d=\"M452.5 219h0.0\"/><rect height=\"22\" rx=\"10\" ry=\"10\" width=\"28.5\" x=\"424.0\" y=\"208\"/><text x=\"438.25\" y=\"223\">U</text></g></g><path d=\"M452.5 219a10 10 0 0 0 10 -10v-10a10 10 0 0 1 10 -10\"/><path d=\"M404.0 189a10 10 0 0 1 10 10v40a10 10 0 0 0 10 10\"/><g>\n",
       "<path d=\"M424.0 249h0.0\"/><path d=\"M452.5 249h0.0\"/><g class=\"terminal\">\n",
       "<path d=\"M424.0 249h0.0\"/><path d=\"M452.5 249h0.0\"/><rect height=\"22\" rx=\"10\" ry=\"10\" width=\"28.5\" x=\"424.0\" y=\"238\"/><text x=\"438.25\" y=\"253\">V</text></g></g><path d=\"M452.5 249a10 10 0 0 0 10 -10v-40a10 10 0 0 1 10 -10\"/><path d=\"M404.0 189a10 10 0 0 1 10 10v70a10 10 0 0 0 10 10\"/><g>\n",
       "<path d=\"M424.0 279h0.0\"/><path d=\"M452.5 279h0.0\"/><g class=\"terminal\">\n",
       "<path d=\"M424.0 279h0.0\"/><path d=\"M452.5 279h0.0\"/><rect height=\"22\" rx=\"10\" ry=\"10\" width=\"28.5\" x=\"424.0\" y=\"268\"/><text x=\"438.25\" y=\"283\">W</text></g></g><path d=\"M452.5 279a10 10 0 0 0 10 -10v-70a10 10 0 0 1 10 -10\"/><path d=\"M404.0 189a10 10 0 0 1 10 10v100a10 10 0 0 0 10 10\"/><g>\n",
       "<path d=\"M424.0 309h0.0\"/><path d=\"M452.5 309h0.0\"/><g class=\"terminal\">\n",
       "<path d=\"M424.0 309h0.0\"/><path d=\"M452.5 309h0.0\"/><rect height=\"22\" rx=\"10\" ry=\"10\" width=\"28.5\" x=\"424.0\" y=\"298\"/><text x=\"438.25\" y=\"313\">X</text></g></g><path d=\"M452.5 309a10 10 0 0 0 10 -10v-100a10 10 0 0 1 10 -10\"/></g><path d=\"M472.5 189a10 10 0 0 1 10 10v119a10 10 0 0 0 10 10\"/><path d=\"M472.5 20a10 10 0 0 1 10 10v149a10 10 0 0 0 10 10\"/><g>\n",
       "<path d=\"M492.5 189h0.0\"/><path d=\"M561.0 189h0.0\"/><path d=\"M492.5 189a10 10 0 0 0 10 -10v-10a10 10 0 0 1 10 -10\"/><g>\n",
       "<path d=\"M512.5 159h0.0\"/><path d=\"M541.0 159h0.0\"/><g class=\"terminal\">\n",
       "<path d=\"M512.5 159h0.0\"/><path d=\"M541.0 159h0.0\"/><rect height=\"22\" rx=\"10\" ry=\"10\" width=\"28.5\" x=\"512.5\" y=\"148\"/><text x=\"526.75\" y=\"163\">Y</text></g></g><path d=\"M541.0 159a10 10 0 0 1 10 10v10a10 10 0 0 0 10 10\"/><path d=\"M492.5 189h20\"/><g>\n",
       "<path d=\"M512.5 189h0.0\"/><path d=\"M541.0 189h0.0\"/><g class=\"terminal\">\n",
       "<path d=\"M512.5 189h0.0\"/><path d=\"M541.0 189h0.0\"/><rect height=\"22\" rx=\"10\" ry=\"10\" width=\"28.5\" x=\"512.5\" y=\"178\"/><text x=\"526.75\" y=\"193\">Z</text></g></g><path d=\"M541.0 189h20\"/></g><path d=\"M561.0 189h10\"/></g><path d=\"M 571.0 189 h 20 m -10 -10 v 20 m 10 -20 v 20\"/></g></svg>"
      ],
      "text/plain": [
       "<IPython.core.display.SVG object>"
      ]
     },
     "metadata": {},
     "output_type": "display_data"
    },
    {
     "name": "stdout",
     "output_type": "stream",
     "text": [
      "number\n"
     ]
    },
    {
     "data": {
      "image/svg+xml": [
       "<svg class=\"railroad-diagram\" height=\"62\" viewBox=\"0 0 191.0 62\" width=\"191.0\" xmlns=\"http://www.w3.org/2000/svg\">\n",
       "<g transform=\"translate(.5 .5)\">\n",
       "<style>/* <![CDATA[ */\n",
       "    svg.railroad-diagram {\n",
       "        background-color:hsl(100,100%,100%);\n",
       "    }\n",
       "    svg.railroad-diagram path {\n",
       "        stroke-width:3;\n",
       "        stroke:black;\n",
       "        fill:rgba(0,0,0,0);\n",
       "    }\n",
       "    svg.railroad-diagram text {\n",
       "        font:bold 14px monospace;\n",
       "        text-anchor:middle;\n",
       "    }\n",
       "    svg.railroad-diagram text.label{\n",
       "        text-anchor:start;\n",
       "    }\n",
       "    svg.railroad-diagram text.comment{\n",
       "        font:italic 12px monospace;\n",
       "    }\n",
       "    svg.railroad-diagram rect{\n",
       "        stroke-width:3;\n",
       "        stroke:black;\n",
       "        fill:hsl(0,62%,82%);\n",
       "    }\n",
       "\n",
       "/* ]]> */\n",
       "</style><g>\n",
       "<path d=\"M20 21v20m10 -20v20m-10 -10h20\"/></g><g>\n",
       "<path d=\"M40 31h0.0\"/><path d=\"M151.0 31h0.0\"/><path d=\"M40.0 31h20\"/><g>\n",
       "<path d=\"M60.0 31h0.0\"/><path d=\"M131.0 31h0.0\"/><g class=\"non-terminal\">\n",
       "<path d=\"M60.0 31h0.0\"/><path d=\"M131.0 31h0.0\"/><rect height=\"22\" width=\"71.0\" x=\"60.0\" y=\"20\"/><text x=\"95.5\" y=\"35\">digits</text></g></g><path d=\"M131.0 31h20\"/></g><path d=\"M 151.0 31 h 20 m -10 -10 v 20 m 10 -20 v 20\"/></g></svg>"
      ],
      "text/plain": [
       "<IPython.core.display.SVG object>"
      ]
     },
     "metadata": {},
     "output_type": "display_data"
    },
    {
     "name": "stdout",
     "output_type": "stream",
     "text": [
      "digits\n"
     ]
    },
    {
     "data": {
      "image/svg+xml": [
       "<svg class=\"railroad-diagram\" height=\"92\" viewBox=\"0 0 273.5 92\" width=\"273.5\" xmlns=\"http://www.w3.org/2000/svg\">\n",
       "<g transform=\"translate(.5 .5)\">\n",
       "<style>/* <![CDATA[ */\n",
       "    svg.railroad-diagram {\n",
       "        background-color:hsl(100,100%,100%);\n",
       "    }\n",
       "    svg.railroad-diagram path {\n",
       "        stroke-width:3;\n",
       "        stroke:black;\n",
       "        fill:rgba(0,0,0,0);\n",
       "    }\n",
       "    svg.railroad-diagram text {\n",
       "        font:bold 14px monospace;\n",
       "        text-anchor:middle;\n",
       "    }\n",
       "    svg.railroad-diagram text.label{\n",
       "        text-anchor:start;\n",
       "    }\n",
       "    svg.railroad-diagram text.comment{\n",
       "        font:italic 12px monospace;\n",
       "    }\n",
       "    svg.railroad-diagram rect{\n",
       "        stroke-width:3;\n",
       "        stroke:black;\n",
       "        fill:hsl(0,62%,82%);\n",
       "    }\n",
       "\n",
       "/* ]]> */\n",
       "</style><g>\n",
       "<path d=\"M20 51v20m10 -20v20m-10 -10h20\"/></g><g>\n",
       "<path d=\"M40 61h0.0\"/><path d=\"M233.5 61h0.0\"/><path d=\"M40.0 61a10 10 0 0 0 10 -10v-10a10 10 0 0 1 10 -10\"/><g>\n",
       "<path d=\"M60.0 31h45.5\"/><path d=\"M168.0 31h45.5\"/><g class=\"non-terminal\">\n",
       "<path d=\"M105.5 31h0.0\"/><path d=\"M168.0 31h0.0\"/><rect height=\"22\" width=\"62.5\" x=\"105.5\" y=\"20\"/><text x=\"136.75\" y=\"35\">digit</text></g></g><path d=\"M213.5 31a10 10 0 0 1 10 10v10a10 10 0 0 0 10 10\"/><path d=\"M40.0 61h20\"/><g>\n",
       "<path d=\"M60.0 61h0.0\"/><path d=\"M213.5 61h0.0\"/><g class=\"non-terminal\">\n",
       "<path d=\"M60.0 61h0.0\"/><path d=\"M131.0 61h0.0\"/><rect height=\"22\" width=\"71.0\" x=\"60.0\" y=\"50\"/><text x=\"95.5\" y=\"65\">digits</text></g><path d=\"M131.0 61h10\"/><path d=\"M141.0 61h10\"/><g class=\"non-terminal\">\n",
       "<path d=\"M151.0 61h0.0\"/><path d=\"M213.5 61h0.0\"/><rect height=\"22\" width=\"62.5\" x=\"151.0\" y=\"50\"/><text x=\"182.25\" y=\"65\">digit</text></g></g><path d=\"M213.5 61h20\"/></g><path d=\"M 233.5 61 h 20 m -10 -10 v 20 m 10 -20 v 20\"/></g></svg>"
      ],
      "text/plain": [
       "<IPython.core.display.SVG object>"
      ]
     },
     "metadata": {},
     "output_type": "display_data"
    },
    {
     "name": "stdout",
     "output_type": "stream",
     "text": [
      "digit\n"
     ]
    },
    {
     "data": {
      "image/svg+xml": [
       "<svg class=\"railroad-diagram\" height=\"109\" viewBox=\"0 0 522.5 109\" width=\"522.5\" xmlns=\"http://www.w3.org/2000/svg\">\n",
       "<g transform=\"translate(.5 .5)\">\n",
       "<style>/* <![CDATA[ */\n",
       "    svg.railroad-diagram {\n",
       "        background-color:hsl(100,100%,100%);\n",
       "    }\n",
       "    svg.railroad-diagram path {\n",
       "        stroke-width:3;\n",
       "        stroke:black;\n",
       "        fill:rgba(0,0,0,0);\n",
       "    }\n",
       "    svg.railroad-diagram text {\n",
       "        font:bold 14px monospace;\n",
       "        text-anchor:middle;\n",
       "    }\n",
       "    svg.railroad-diagram text.label{\n",
       "        text-anchor:start;\n",
       "    }\n",
       "    svg.railroad-diagram text.comment{\n",
       "        font:italic 12px monospace;\n",
       "    }\n",
       "    svg.railroad-diagram rect{\n",
       "        stroke-width:3;\n",
       "        stroke:black;\n",
       "        fill:hsl(0,62%,82%);\n",
       "    }\n",
       "\n",
       "/* ]]> */\n",
       "</style><g>\n",
       "<path d=\"M20 59v20m10 -20v20m-10 -10h20\"/></g><g>\n",
       "<path d=\"M40 69h0.0\"/><path d=\"M482.5 69h0.0\"/><path d=\"M40.0 69a10 10 0 0 0 10 -10v-29a10 10 0 0 1 10 -10h324.0\"/><path d=\"M138.5 89h324.0a10 10 0 0 0 10 -10v0a10 10 0 0 1 10 -10\"/><path d=\"M40.0 69h10\"/><g>\n",
       "<path d=\"M50.0 69h0.0\"/><path d=\"M118.5 69h0.0\"/><path d=\"M50.0 69a10 10 0 0 0 10 -10v-10a10 10 0 0 1 10 -10\"/><g>\n",
       "<path d=\"M70.0 39h0.0\"/><path d=\"M98.5 39h0.0\"/><g class=\"terminal\">\n",
       "<path d=\"M70.0 39h0.0\"/><path d=\"M98.5 39h0.0\"/><rect height=\"22\" rx=\"10\" ry=\"10\" width=\"28.5\" x=\"70.0\" y=\"28\"/><text x=\"84.25\" y=\"43\">0</text></g></g><path d=\"M98.5 39a10 10 0 0 1 10 10v10a10 10 0 0 0 10 10\"/><path d=\"M50.0 69h20\"/><g>\n",
       "<path d=\"M70.0 69h0.0\"/><path d=\"M98.5 69h0.0\"/><g class=\"terminal\">\n",
       "<path d=\"M70.0 69h0.0\"/><path d=\"M98.5 69h0.0\"/><rect height=\"22\" rx=\"10\" ry=\"10\" width=\"28.5\" x=\"70.0\" y=\"58\"/><text x=\"84.25\" y=\"73\">1</text></g></g><path d=\"M98.5 69h20\"/></g><path d=\"M118.5 69a10 10 0 0 1 10 10v0a10 10 0 0 0 10 10\"/><path d=\"M118.5 20a10 10 0 0 1 10 10v29a10 10 0 0 0 10 10\"/><g>\n",
       "<path d=\"M138.5 69h0.0\"/><path d=\"M207.0 69h0.0\"/><path d=\"M138.5 69a10 10 0 0 0 10 -10v-10a10 10 0 0 1 10 -10\"/><g>\n",
       "<path d=\"M158.5 39h0.0\"/><path d=\"M187.0 39h0.0\"/><g class=\"terminal\">\n",
       "<path d=\"M158.5 39h0.0\"/><path d=\"M187.0 39h0.0\"/><rect height=\"22\" rx=\"10\" ry=\"10\" width=\"28.5\" x=\"158.5\" y=\"28\"/><text x=\"172.75\" y=\"43\">2</text></g></g><path d=\"M187.0 39a10 10 0 0 1 10 10v10a10 10 0 0 0 10 10\"/><path d=\"M138.5 69h20\"/><g>\n",
       "<path d=\"M158.5 69h0.0\"/><path d=\"M187.0 69h0.0\"/><g class=\"terminal\">\n",
       "<path d=\"M158.5 69h0.0\"/><path d=\"M187.0 69h0.0\"/><rect height=\"22\" rx=\"10\" ry=\"10\" width=\"28.5\" x=\"158.5\" y=\"58\"/><text x=\"172.75\" y=\"73\">3</text></g></g><path d=\"M187.0 69h20\"/></g><path d=\"M207.0 69a10 10 0 0 1 10 10v0a10 10 0 0 0 10 10\"/><path d=\"M207.0 20a10 10 0 0 1 10 10v29a10 10 0 0 0 10 10\"/><g>\n",
       "<path d=\"M227.0 69h0.0\"/><path d=\"M295.5 69h0.0\"/><path d=\"M227.0 69a10 10 0 0 0 10 -10v-10a10 10 0 0 1 10 -10\"/><g>\n",
       "<path d=\"M247.0 39h0.0\"/><path d=\"M275.5 39h0.0\"/><g class=\"terminal\">\n",
       "<path d=\"M247.0 39h0.0\"/><path d=\"M275.5 39h0.0\"/><rect height=\"22\" rx=\"10\" ry=\"10\" width=\"28.5\" x=\"247.0\" y=\"28\"/><text x=\"261.25\" y=\"43\">4</text></g></g><path d=\"M275.5 39a10 10 0 0 1 10 10v10a10 10 0 0 0 10 10\"/><path d=\"M227.0 69h20\"/><g>\n",
       "<path d=\"M247.0 69h0.0\"/><path d=\"M275.5 69h0.0\"/><g class=\"terminal\">\n",
       "<path d=\"M247.0 69h0.0\"/><path d=\"M275.5 69h0.0\"/><rect height=\"22\" rx=\"10\" ry=\"10\" width=\"28.5\" x=\"247.0\" y=\"58\"/><text x=\"261.25\" y=\"73\">5</text></g></g><path d=\"M275.5 69h20\"/></g><path d=\"M295.5 69a10 10 0 0 1 10 10v0a10 10 0 0 0 10 10\"/><path d=\"M295.5 20a10 10 0 0 1 10 10v29a10 10 0 0 0 10 10\"/><g>\n",
       "<path d=\"M315.5 69h0.0\"/><path d=\"M384.0 69h0.0\"/><path d=\"M315.5 69a10 10 0 0 0 10 -10v-10a10 10 0 0 1 10 -10\"/><g>\n",
       "<path d=\"M335.5 39h0.0\"/><path d=\"M364.0 39h0.0\"/><g class=\"terminal\">\n",
       "<path d=\"M335.5 39h0.0\"/><path d=\"M364.0 39h0.0\"/><rect height=\"22\" rx=\"10\" ry=\"10\" width=\"28.5\" x=\"335.5\" y=\"28\"/><text x=\"349.75\" y=\"43\">6</text></g></g><path d=\"M364.0 39a10 10 0 0 1 10 10v10a10 10 0 0 0 10 10\"/><path d=\"M315.5 69h20\"/><g>\n",
       "<path d=\"M335.5 69h0.0\"/><path d=\"M364.0 69h0.0\"/><g class=\"terminal\">\n",
       "<path d=\"M335.5 69h0.0\"/><path d=\"M364.0 69h0.0\"/><rect height=\"22\" rx=\"10\" ry=\"10\" width=\"28.5\" x=\"335.5\" y=\"58\"/><text x=\"349.75\" y=\"73\">7</text></g></g><path d=\"M364.0 69h20\"/></g><path d=\"M384.0 69a10 10 0 0 1 10 10v0a10 10 0 0 0 10 10\"/><path d=\"M384.0 20a10 10 0 0 1 10 10v29a10 10 0 0 0 10 10\"/><g>\n",
       "<path d=\"M404.0 69h0.0\"/><path d=\"M472.5 69h0.0\"/><path d=\"M404.0 69a10 10 0 0 0 10 -10v-10a10 10 0 0 1 10 -10\"/><g>\n",
       "<path d=\"M424.0 39h0.0\"/><path d=\"M452.5 39h0.0\"/><g class=\"terminal\">\n",
       "<path d=\"M424.0 39h0.0\"/><path d=\"M452.5 39h0.0\"/><rect height=\"22\" rx=\"10\" ry=\"10\" width=\"28.5\" x=\"424.0\" y=\"28\"/><text x=\"438.25\" y=\"43\">8</text></g></g><path d=\"M452.5 39a10 10 0 0 1 10 10v10a10 10 0 0 0 10 10\"/><path d=\"M404.0 69h20\"/><g>\n",
       "<path d=\"M424.0 69h0.0\"/><path d=\"M452.5 69h0.0\"/><g class=\"terminal\">\n",
       "<path d=\"M424.0 69h0.0\"/><path d=\"M452.5 69h0.0\"/><rect height=\"22\" rx=\"10\" ry=\"10\" width=\"28.5\" x=\"424.0\" y=\"58\"/><text x=\"438.25\" y=\"73\">9</text></g></g><path d=\"M452.5 69h20\"/></g><path d=\"M472.5 69h10\"/></g><path d=\"M 482.5 69 h 20 m -10 -10 v 20 m 10 -20 v 20\"/></g></svg>"
      ],
      "text/plain": [
       "<IPython.core.display.SVG object>"
      ]
     },
     "metadata": {},
     "output_type": "display_data"
    },
    {
     "name": "stdout",
     "output_type": "stream",
     "text": [
      "special\n"
     ]
    },
    {
     "data": {
      "image/svg+xml": [
       "<svg class=\"railroad-diagram\" height=\"122\" viewBox=\"0 0 148.5 122\" width=\"148.5\" xmlns=\"http://www.w3.org/2000/svg\">\n",
       "<g transform=\"translate(.5 .5)\">\n",
       "<style>/* <![CDATA[ */\n",
       "    svg.railroad-diagram {\n",
       "        background-color:hsl(100,100%,100%);\n",
       "    }\n",
       "    svg.railroad-diagram path {\n",
       "        stroke-width:3;\n",
       "        stroke:black;\n",
       "        fill:rgba(0,0,0,0);\n",
       "    }\n",
       "    svg.railroad-diagram text {\n",
       "        font:bold 14px monospace;\n",
       "        text-anchor:middle;\n",
       "    }\n",
       "    svg.railroad-diagram text.label{\n",
       "        text-anchor:start;\n",
       "    }\n",
       "    svg.railroad-diagram text.comment{\n",
       "        font:italic 12px monospace;\n",
       "    }\n",
       "    svg.railroad-diagram rect{\n",
       "        stroke-width:3;\n",
       "        stroke:black;\n",
       "        fill:hsl(0,62%,82%);\n",
       "    }\n",
       "\n",
       "/* ]]> */\n",
       "</style><g>\n",
       "<path d=\"M20 51v20m10 -20v20m-10 -10h20\"/></g><g>\n",
       "<path d=\"M40 61h0.0\"/><path d=\"M108.5 61h0.0\"/><path d=\"M40.0 61a10 10 0 0 0 10 -10v-10a10 10 0 0 1 10 -10\"/><g>\n",
       "<path d=\"M60.0 31h0.0\"/><path d=\"M88.5 31h0.0\"/><g class=\"terminal\">\n",
       "<path d=\"M60.0 31h0.0\"/><path d=\"M88.5 31h0.0\"/><rect height=\"22\" rx=\"10\" ry=\"10\" width=\"28.5\" x=\"60.0\" y=\"20\"/><text x=\"74.25\" y=\"35\">.</text></g></g><path d=\"M88.5 31a10 10 0 0 1 10 10v10a10 10 0 0 0 10 10\"/><path d=\"M40.0 61h20\"/><g>\n",
       "<path d=\"M60.0 61h0.0\"/><path d=\"M88.5 61h0.0\"/><g class=\"terminal\">\n",
       "<path d=\"M60.0 61h0.0\"/><path d=\"M88.5 61h0.0\"/><rect height=\"22\" rx=\"10\" ry=\"10\" width=\"28.5\" x=\"60.0\" y=\"50\"/><text x=\"74.25\" y=\"65\"> </text></g></g><path d=\"M88.5 61h20\"/><path d=\"M40.0 61a10 10 0 0 1 10 10v10a10 10 0 0 0 10 10\"/><g>\n",
       "<path d=\"M60.0 91h0.0\"/><path d=\"M88.5 91h0.0\"/><g class=\"terminal\">\n",
       "<path d=\"M60.0 91h0.0\"/><path d=\"M88.5 91h0.0\"/><rect height=\"22\" rx=\"10\" ry=\"10\" width=\"28.5\" x=\"60.0\" y=\"80\"/><text x=\"74.25\" y=\"95\">!</text></g></g><path d=\"M88.5 91a10 10 0 0 0 10 -10v-10a10 10 0 0 1 10 -10\"/></g><path d=\"M 108.5 61 h 20 m -10 -10 v 20 m 10 -20 v 20\"/></g></svg>"
      ],
      "text/plain": [
       "<IPython.core.display.SVG object>"
      ]
     },
     "metadata": {},
     "output_type": "display_data"
    },
    {
     "name": "stdout",
     "output_type": "stream",
     "text": [
      "email\n"
     ]
    },
    {
     "data": {
      "image/svg+xml": [
       "<svg class=\"railroad-diagram\" height=\"62\" viewBox=\"0 0 347.5 62\" width=\"347.5\" xmlns=\"http://www.w3.org/2000/svg\">\n",
       "<g transform=\"translate(.5 .5)\">\n",
       "<style>/* <![CDATA[ */\n",
       "    svg.railroad-diagram {\n",
       "        background-color:hsl(100,100%,100%);\n",
       "    }\n",
       "    svg.railroad-diagram path {\n",
       "        stroke-width:3;\n",
       "        stroke:black;\n",
       "        fill:rgba(0,0,0,0);\n",
       "    }\n",
       "    svg.railroad-diagram text {\n",
       "        font:bold 14px monospace;\n",
       "        text-anchor:middle;\n",
       "    }\n",
       "    svg.railroad-diagram text.label{\n",
       "        text-anchor:start;\n",
       "    }\n",
       "    svg.railroad-diagram text.comment{\n",
       "        font:italic 12px monospace;\n",
       "    }\n",
       "    svg.railroad-diagram rect{\n",
       "        stroke-width:3;\n",
       "        stroke:black;\n",
       "        fill:hsl(0,62%,82%);\n",
       "    }\n",
       "\n",
       "/* ]]> */\n",
       "</style><g>\n",
       "<path d=\"M20 21v20m10 -20v20m-10 -10h20\"/></g><g>\n",
       "<path d=\"M40 31h0.0\"/><path d=\"M307.5 31h0.0\"/><path d=\"M40.0 31h20\"/><g>\n",
       "<path d=\"M60.0 31h0.0\"/><path d=\"M287.5 31h0.0\"/><g class=\"non-terminal\">\n",
       "<path d=\"M60.0 31h0.0\"/><path d=\"M139.5 31h0.0\"/><rect height=\"22\" width=\"79.5\" x=\"60.0\" y=\"20\"/><text x=\"99.75\" y=\"35\">letters</text></g><path d=\"M139.5 31h10\"/><path d=\"M149.5 31h10\"/><g class=\"terminal\">\n",
       "<path d=\"M159.5 31h0.0\"/><path d=\"M188.0 31h0.0\"/><rect height=\"22\" rx=\"10\" ry=\"10\" width=\"28.5\" x=\"159.5\" y=\"20\"/><text x=\"173.75\" y=\"35\">@</text></g><path d=\"M188.0 31h10\"/><path d=\"M198.0 31h10\"/><g class=\"non-terminal\">\n",
       "<path d=\"M208.0 31h0.0\"/><path d=\"M287.5 31h0.0\"/><rect height=\"22\" width=\"79.5\" x=\"208.0\" y=\"20\"/><text x=\"247.75\" y=\"35\">letters</text></g></g><path d=\"M287.5 31h20\"/></g><path d=\"M 307.5 31 h 20 m -10 -10 v 20 m 10 -20 v 20\"/></g></svg>"
      ],
      "text/plain": [
       "<IPython.core.display.SVG object>"
      ]
     },
     "metadata": {},
     "output_type": "display_data"
    },
    {
     "name": "stdout",
     "output_type": "stream",
     "text": [
      "letters\n"
     ]
    },
    {
     "data": {
      "image/svg+xml": [
       "<svg class=\"railroad-diagram\" height=\"92\" viewBox=\"0 0 290.5 92\" width=\"290.5\" xmlns=\"http://www.w3.org/2000/svg\">\n",
       "<g transform=\"translate(.5 .5)\">\n",
       "<style>/* <![CDATA[ */\n",
       "    svg.railroad-diagram {\n",
       "        background-color:hsl(100,100%,100%);\n",
       "    }\n",
       "    svg.railroad-diagram path {\n",
       "        stroke-width:3;\n",
       "        stroke:black;\n",
       "        fill:rgba(0,0,0,0);\n",
       "    }\n",
       "    svg.railroad-diagram text {\n",
       "        font:bold 14px monospace;\n",
       "        text-anchor:middle;\n",
       "    }\n",
       "    svg.railroad-diagram text.label{\n",
       "        text-anchor:start;\n",
       "    }\n",
       "    svg.railroad-diagram text.comment{\n",
       "        font:italic 12px monospace;\n",
       "    }\n",
       "    svg.railroad-diagram rect{\n",
       "        stroke-width:3;\n",
       "        stroke:black;\n",
       "        fill:hsl(0,62%,82%);\n",
       "    }\n",
       "\n",
       "/* ]]> */\n",
       "</style><g>\n",
       "<path d=\"M20 51v20m10 -20v20m-10 -10h20\"/></g><g>\n",
       "<path d=\"M40 61h0.0\"/><path d=\"M250.5 61h0.0\"/><path d=\"M40.0 61a10 10 0 0 0 10 -10v-10a10 10 0 0 1 10 -10\"/><g>\n",
       "<path d=\"M60.0 31h49.75\"/><path d=\"M180.75 31h49.75\"/><g class=\"non-terminal\">\n",
       "<path d=\"M109.75 31h0.0\"/><path d=\"M180.75 31h0.0\"/><rect height=\"22\" width=\"71.0\" x=\"109.75\" y=\"20\"/><text x=\"145.25\" y=\"35\">letter</text></g></g><path d=\"M230.5 31a10 10 0 0 1 10 10v10a10 10 0 0 0 10 10\"/><path d=\"M40.0 61h20\"/><g>\n",
       "<path d=\"M60.0 61h0.0\"/><path d=\"M230.5 61h0.0\"/><g class=\"non-terminal\">\n",
       "<path d=\"M60.0 61h0.0\"/><path d=\"M139.5 61h0.0\"/><rect height=\"22\" width=\"79.5\" x=\"60.0\" y=\"50\"/><text x=\"99.75\" y=\"65\">letters</text></g><path d=\"M139.5 61h10\"/><path d=\"M149.5 61h10\"/><g class=\"non-terminal\">\n",
       "<path d=\"M159.5 61h0.0\"/><path d=\"M230.5 61h0.0\"/><rect height=\"22\" width=\"71.0\" x=\"159.5\" y=\"50\"/><text x=\"195.0\" y=\"65\">letter</text></g></g><path d=\"M230.5 61h20\"/></g><path d=\"M 250.5 61 h 20 m -10 -10 v 20 m 10 -20 v 20\"/></g></svg>"
      ],
      "text/plain": [
       "<IPython.core.display.SVG object>"
      ]
     },
     "metadata": {},
     "output_type": "display_data"
    },
    {
     "name": "stdout",
     "output_type": "stream",
     "text": [
      "boolean\n"
     ]
    },
    {
     "data": {
      "image/svg+xml": [
       "<svg class=\"railroad-diagram\" height=\"92\" viewBox=\"0 0 182.5 92\" width=\"182.5\" xmlns=\"http://www.w3.org/2000/svg\">\n",
       "<g transform=\"translate(.5 .5)\">\n",
       "<style>/* <![CDATA[ */\n",
       "    svg.railroad-diagram {\n",
       "        background-color:hsl(100,100%,100%);\n",
       "    }\n",
       "    svg.railroad-diagram path {\n",
       "        stroke-width:3;\n",
       "        stroke:black;\n",
       "        fill:rgba(0,0,0,0);\n",
       "    }\n",
       "    svg.railroad-diagram text {\n",
       "        font:bold 14px monospace;\n",
       "        text-anchor:middle;\n",
       "    }\n",
       "    svg.railroad-diagram text.label{\n",
       "        text-anchor:start;\n",
       "    }\n",
       "    svg.railroad-diagram text.comment{\n",
       "        font:italic 12px monospace;\n",
       "    }\n",
       "    svg.railroad-diagram rect{\n",
       "        stroke-width:3;\n",
       "        stroke:black;\n",
       "        fill:hsl(0,62%,82%);\n",
       "    }\n",
       "\n",
       "/* ]]> */\n",
       "</style><g>\n",
       "<path d=\"M20 51v20m10 -20v20m-10 -10h20\"/></g><g>\n",
       "<path d=\"M40 61h0.0\"/><path d=\"M142.5 61h0.0\"/><path d=\"M40.0 61a10 10 0 0 0 10 -10v-10a10 10 0 0 1 10 -10\"/><g>\n",
       "<path d=\"M60.0 31h4.25\"/><path d=\"M118.25 31h4.25\"/><g class=\"terminal\">\n",
       "<path d=\"M64.25 31h0.0\"/><path d=\"M118.25 31h0.0\"/><rect height=\"22\" rx=\"10\" ry=\"10\" width=\"54.0\" x=\"64.25\" y=\"20\"/><text x=\"91.25\" y=\"35\">True</text></g></g><path d=\"M122.5 31a10 10 0 0 1 10 10v10a10 10 0 0 0 10 10\"/><path d=\"M40.0 61h20\"/><g>\n",
       "<path d=\"M60.0 61h0.0\"/><path d=\"M122.5 61h0.0\"/><g class=\"terminal\">\n",
       "<path d=\"M60.0 61h0.0\"/><path d=\"M122.5 61h0.0\"/><rect height=\"22\" rx=\"10\" ry=\"10\" width=\"62.5\" x=\"60.0\" y=\"50\"/><text x=\"91.25\" y=\"65\">False</text></g></g><path d=\"M122.5 61h20\"/></g><path d=\"M 142.5 61 h 20 m -10 -10 v 20 m 10 -20 v 20\"/></g></svg>"
      ],
      "text/plain": [
       "<IPython.core.display.SVG object>"
      ]
     },
     "metadata": {},
     "output_type": "display_data"
    },
    {
     "name": "stdout",
     "output_type": "stream",
     "text": [
      "password\n"
     ]
    },
    {
     "data": {
      "image/svg+xml": [
       "<svg class=\"railroad-diagram\" height=\"62\" viewBox=\"0 0 225.0 62\" width=\"225.0\" xmlns=\"http://www.w3.org/2000/svg\">\n",
       "<g transform=\"translate(.5 .5)\">\n",
       "<style>/* <![CDATA[ */\n",
       "    svg.railroad-diagram {\n",
       "        background-color:hsl(100,100%,100%);\n",
       "    }\n",
       "    svg.railroad-diagram path {\n",
       "        stroke-width:3;\n",
       "        stroke:black;\n",
       "        fill:rgba(0,0,0,0);\n",
       "    }\n",
       "    svg.railroad-diagram text {\n",
       "        font:bold 14px monospace;\n",
       "        text-anchor:middle;\n",
       "    }\n",
       "    svg.railroad-diagram text.label{\n",
       "        text-anchor:start;\n",
       "    }\n",
       "    svg.railroad-diagram text.comment{\n",
       "        font:italic 12px monospace;\n",
       "    }\n",
       "    svg.railroad-diagram rect{\n",
       "        stroke-width:3;\n",
       "        stroke:black;\n",
       "        fill:hsl(0,62%,82%);\n",
       "    }\n",
       "\n",
       "/* ]]> */\n",
       "</style><g>\n",
       "<path d=\"M20 21v20m10 -20v20m-10 -10h20\"/></g><g>\n",
       "<path d=\"M40 31h0.0\"/><path d=\"M185.0 31h0.0\"/><path d=\"M40.0 31h20\"/><g>\n",
       "<path d=\"M60.0 31h0.0\"/><path d=\"M165.0 31h0.0\"/><g class=\"terminal\">\n",
       "<path d=\"M60.0 31h0.0\"/><path d=\"M165.0 31h0.0\"/><rect height=\"22\" rx=\"10\" ry=\"10\" width=\"105.0\" x=\"60.0\" y=\"20\"/><text x=\"112.5\" y=\"35\">abcABC.123</text></g></g><path d=\"M165.0 31h20\"/></g><path d=\"M 185.0 31 h 20 m -10 -10 v 20 m 10 -20 v 20\"/></g></svg>"
      ],
      "text/plain": [
       "<IPython.core.display.SVG object>"
      ]
     },
     "metadata": {},
     "output_type": "display_data"
    },
    {
     "name": "stdout",
     "output_type": "stream",
     "text": [
      "hidden\n"
     ]
    },
    {
     "data": {
      "image/svg+xml": [
       "<svg class=\"railroad-diagram\" height=\"80\" viewBox=\"0 0 788.0 80\" width=\"788.0\" xmlns=\"http://www.w3.org/2000/svg\">\n",
       "<g transform=\"translate(.5 .5)\">\n",
       "<style>/* <![CDATA[ */\n",
       "    svg.railroad-diagram {\n",
       "        background-color:hsl(100,100%,100%);\n",
       "    }\n",
       "    svg.railroad-diagram path {\n",
       "        stroke-width:3;\n",
       "        stroke:black;\n",
       "        fill:rgba(0,0,0,0);\n",
       "    }\n",
       "    svg.railroad-diagram text {\n",
       "        font:bold 14px monospace;\n",
       "        text-anchor:middle;\n",
       "    }\n",
       "    svg.railroad-diagram text.label{\n",
       "        text-anchor:start;\n",
       "    }\n",
       "    svg.railroad-diagram text.comment{\n",
       "        font:italic 12px monospace;\n",
       "    }\n",
       "    svg.railroad-diagram rect{\n",
       "        stroke-width:3;\n",
       "        stroke:black;\n",
       "        fill:hsl(0,62%,82%);\n",
       "    }\n",
       "\n",
       "/* ]]> */\n",
       "</style><g>\n",
       "<path d=\"M20 30v20m10 -20v20m-10 -10h20\"/></g><g>\n",
       "<path d=\"M40 40h0.0\"/><path d=\"M748.0 40h0.0\"/><path d=\"M40.0 40a10 10 0 0 0 10 -10v0a10 10 0 0 1 10 -10h589.5\"/><path d=\"M138.5 60h589.5a10 10 0 0 0 10 -10v0a10 10 0 0 1 10 -10\"/><path d=\"M40.0 40h10\"/><g>\n",
       "<path d=\"M50.0 40h0.0\"/><path d=\"M118.5 40h0.0\"/><path d=\"M50.0 40h20\"/><g>\n",
       "<path d=\"M70.0 40h0.0\"/><path d=\"M98.5 40h0.0\"/><g class=\"terminal\">\n",
       "<path d=\"M70.0 40h0.0\"/><path d=\"M98.5 40h0.0\"/><rect height=\"22\" rx=\"10\" ry=\"10\" width=\"28.5\" x=\"70.0\" y=\"29\"/><text x=\"84.25\" y=\"44\">&lt;</text></g></g><path d=\"M98.5 40h20\"/></g><path d=\"M118.5 40a10 10 0 0 1 10 10v0a10 10 0 0 0 10 10\"/><path d=\"M118.5 20a10 10 0 0 1 10 10v0a10 10 0 0 0 10 10\"/><g>\n",
       "<path d=\"M138.5 40h0.0\"/><path d=\"M207.0 40h0.0\"/><path d=\"M138.5 40h20\"/><g>\n",
       "<path d=\"M158.5 40h0.0\"/><path d=\"M187.0 40h0.0\"/><g class=\"terminal\">\n",
       "<path d=\"M158.5 40h0.0\"/><path d=\"M187.0 40h0.0\"/><rect height=\"22\" rx=\"10\" ry=\"10\" width=\"28.5\" x=\"158.5\" y=\"29\"/><text x=\"172.75\" y=\"44\">s</text></g></g><path d=\"M187.0 40h20\"/></g><path d=\"M207.0 40a10 10 0 0 1 10 10v0a10 10 0 0 0 10 10\"/><path d=\"M207.0 20a10 10 0 0 1 10 10v0a10 10 0 0 0 10 10\"/><g>\n",
       "<path d=\"M227.0 40h0.0\"/><path d=\"M295.5 40h0.0\"/><path d=\"M227.0 40h20\"/><g>\n",
       "<path d=\"M247.0 40h0.0\"/><path d=\"M275.5 40h0.0\"/><g class=\"terminal\">\n",
       "<path d=\"M247.0 40h0.0\"/><path d=\"M275.5 40h0.0\"/><rect height=\"22\" rx=\"10\" ry=\"10\" width=\"28.5\" x=\"247.0\" y=\"29\"/><text x=\"261.25\" y=\"44\">t</text></g></g><path d=\"M275.5 40h20\"/></g><path d=\"M295.5 40a10 10 0 0 1 10 10v0a10 10 0 0 0 10 10\"/><path d=\"M295.5 20a10 10 0 0 1 10 10v0a10 10 0 0 0 10 10\"/><g>\n",
       "<path d=\"M315.5 40h0.0\"/><path d=\"M384.0 40h0.0\"/><path d=\"M315.5 40h20\"/><g>\n",
       "<path d=\"M335.5 40h0.0\"/><path d=\"M364.0 40h0.0\"/><g class=\"terminal\">\n",
       "<path d=\"M335.5 40h0.0\"/><path d=\"M364.0 40h0.0\"/><rect height=\"22\" rx=\"10\" ry=\"10\" width=\"28.5\" x=\"335.5\" y=\"29\"/><text x=\"349.75\" y=\"44\">r</text></g></g><path d=\"M364.0 40h20\"/></g><path d=\"M384.0 40a10 10 0 0 1 10 10v0a10 10 0 0 0 10 10\"/><path d=\"M384.0 20a10 10 0 0 1 10 10v0a10 10 0 0 0 10 10\"/><g>\n",
       "<path d=\"M404.0 40h0.0\"/><path d=\"M472.5 40h0.0\"/><path d=\"M404.0 40h20\"/><g>\n",
       "<path d=\"M424.0 40h0.0\"/><path d=\"M452.5 40h0.0\"/><g class=\"terminal\">\n",
       "<path d=\"M424.0 40h0.0\"/><path d=\"M452.5 40h0.0\"/><rect height=\"22\" rx=\"10\" ry=\"10\" width=\"28.5\" x=\"424.0\" y=\"29\"/><text x=\"438.25\" y=\"44\">i</text></g></g><path d=\"M452.5 40h20\"/></g><path d=\"M472.5 40a10 10 0 0 1 10 10v0a10 10 0 0 0 10 10\"/><path d=\"M472.5 20a10 10 0 0 1 10 10v0a10 10 0 0 0 10 10\"/><g>\n",
       "<path d=\"M492.5 40h0.0\"/><path d=\"M561.0 40h0.0\"/><path d=\"M492.5 40h20\"/><g>\n",
       "<path d=\"M512.5 40h0.0\"/><path d=\"M541.0 40h0.0\"/><g class=\"terminal\">\n",
       "<path d=\"M512.5 40h0.0\"/><path d=\"M541.0 40h0.0\"/><rect height=\"22\" rx=\"10\" ry=\"10\" width=\"28.5\" x=\"512.5\" y=\"29\"/><text x=\"526.75\" y=\"44\">n</text></g></g><path d=\"M541.0 40h20\"/></g><path d=\"M561.0 40a10 10 0 0 1 10 10v0a10 10 0 0 0 10 10\"/><path d=\"M561.0 20a10 10 0 0 1 10 10v0a10 10 0 0 0 10 10\"/><g>\n",
       "<path d=\"M581.0 40h0.0\"/><path d=\"M649.5 40h0.0\"/><path d=\"M581.0 40h20\"/><g>\n",
       "<path d=\"M601.0 40h0.0\"/><path d=\"M629.5 40h0.0\"/><g class=\"terminal\">\n",
       "<path d=\"M601.0 40h0.0\"/><path d=\"M629.5 40h0.0\"/><rect height=\"22\" rx=\"10\" ry=\"10\" width=\"28.5\" x=\"601.0\" y=\"29\"/><text x=\"615.25\" y=\"44\">g</text></g></g><path d=\"M629.5 40h20\"/></g><path d=\"M649.5 40a10 10 0 0 1 10 10v0a10 10 0 0 0 10 10\"/><path d=\"M649.5 20a10 10 0 0 1 10 10v0a10 10 0 0 0 10 10\"/><g>\n",
       "<path d=\"M669.5 40h0.0\"/><path d=\"M738.0 40h0.0\"/><path d=\"M669.5 40h20\"/><g>\n",
       "<path d=\"M689.5 40h0.0\"/><path d=\"M718.0 40h0.0\"/><g class=\"terminal\">\n",
       "<path d=\"M689.5 40h0.0\"/><path d=\"M718.0 40h0.0\"/><rect height=\"22\" rx=\"10\" ry=\"10\" width=\"28.5\" x=\"689.5\" y=\"29\"/><text x=\"703.75\" y=\"44\">&gt;</text></g></g><path d=\"M718.0 40h20\"/></g><path d=\"M738.0 40h10\"/></g><path d=\"M 748.0 40 h 20 m -10 -10 v 20 m 10 -20 v 20\"/></g></svg>"
      ],
      "text/plain": [
       "<IPython.core.display.SVG object>"
      ]
     },
     "metadata": {},
     "output_type": "display_data"
    }
   ],
   "source": [
    "syntax_diagram(GUIGrammarMiner.GUI_GRAMMAR)"
   ]
  },
  {
   "cell_type": "markdown",
   "metadata": {
    "slideshow": {
     "slide_type": "subslide"
    }
   },
   "source": [
    "The method `mine_state_grammar()` goes through the actions mined from the page (using `mine_state_actions()`) and creates a grammar for the current state.  For each `click()` and `submit()` action, it assumes a new state follows, and introduces an appropriate state symbol into the grammar – a state symbol that now will be marked as `<unexplored>`, but will be expanded later as the appropriate state is seen."
   ]
  },
  {
   "cell_type": "code",
   "execution_count": 71,
   "metadata": {
    "slideshow": {
     "slide_type": "subslide"
    }
   },
   "outputs": [],
   "source": [
    "class GUIGrammarMiner(GUIGrammarMiner):\n",
    "    def new_state_symbol(self, grammar):\n",
    "        return new_symbol(grammar, self.START_STATE)\n",
    "\n",
    "    def mine_state_grammar(self, grammar={}, state_symbol=None):\n",
    "        grammar = extend_grammar(self.GUI_GRAMMAR, grammar)\n",
    "\n",
    "        if state_symbol is None:\n",
    "            state_symbol = self.new_state_symbol(grammar)\n",
    "            grammar[state_symbol] = []\n",
    "\n",
    "        alternatives = []\n",
    "        form = \"\"\n",
    "        submit = None\n",
    "\n",
    "        for action in self.mine_state_actions():\n",
    "            if action.startswith(\"submit\"):\n",
    "                submit = action\n",
    "                \n",
    "            elif action.startswith(\"click\"):\n",
    "                link_target = self.new_state_symbol(grammar)\n",
    "                grammar[link_target] = [self.UNEXPLORED_STATE]\n",
    "                alternatives.append(action + '\\n' + link_target)\n",
    "                \n",
    "            elif action.startswith(\"ignore\"):\n",
    "                pass\n",
    "\n",
    "            else:  # fill(), check() actions\n",
    "                if len(form) > 0:\n",
    "                    form += '\\n'\n",
    "                form += action\n",
    "\n",
    "        if submit is not None:\n",
    "            if len(form) > 0:\n",
    "                form += '\\n'\n",
    "            form += submit\n",
    "\n",
    "        if len(form) > 0:\n",
    "            form_target = self.new_state_symbol(grammar)\n",
    "            grammar[form_target] = [self.UNEXPLORED_STATE]\n",
    "            alternatives.append(form + '\\n' + form_target)\n",
    "            \n",
    "        alternatives += [self.FINAL_STATE]\n",
    "\n",
    "        grammar[state_symbol] = alternatives\n",
    "        \n",
    "        # Remove unused parts\n",
    "        for nonterminal in unreachable_nonterminals(grammar):\n",
    "            del grammar[nonterminal]\n",
    "\n",
    "        assert is_valid_grammar(grammar)\n",
    "        \n",
    "        return grammar"
   ]
  },
  {
   "cell_type": "markdown",
   "metadata": {
    "slideshow": {
     "slide_type": "subslide"
    }
   },
   "source": [
    "Let us show `mine_state_grammar()` in action.  Here's the grammar for the home page:"
   ]
  },
  {
   "cell_type": "code",
   "execution_count": 72,
   "metadata": {
    "slideshow": {
     "slide_type": "fragment"
    }
   },
   "outputs": [],
   "source": [
    "gui_grammar_miner = GUIGrammarMiner(gui_driver)\n",
    "state_grammar = gui_grammar_miner.mine_state_grammar()"
   ]
  },
  {
   "cell_type": "markdown",
   "metadata": {
    "slideshow": {
     "slide_type": "fragment"
    }
   },
   "source": [
    "From the start state (`<state>`), we can go and either click on \"terms and conditions\", ending in `<state-1>`, or fill out the form, ending in `<state-2>`."
   ]
  },
  {
   "cell_type": "code",
   "execution_count": 73,
   "metadata": {
    "slideshow": {
     "slide_type": "fragment"
    }
   },
   "outputs": [
    {
     "data": {
      "text/plain": [
       "[\"click('terms and conditions')\\n<state-1>\",\n",
       " \"check('terms', <boolean>)\\nfill('city', '<text>')\\nfill('zip', '<number>')\\nfill('email', '<email>')\\nfill('name', '<text>')\\nsubmit('submit')\\n<state-2>\",\n",
       " '<end>']"
      ]
     },
     "execution_count": 73,
     "metadata": {},
     "output_type": "execute_result"
    }
   ],
   "source": [
    "state_grammar[GUIGrammarMiner.START_STATE]"
   ]
  },
  {
   "cell_type": "markdown",
   "metadata": {
    "slideshow": {
     "slide_type": "fragment"
    }
   },
   "source": [
    "Both these states are yet unexplored:"
   ]
  },
  {
   "cell_type": "code",
   "execution_count": 74,
   "metadata": {
    "slideshow": {
     "slide_type": "fragment"
    }
   },
   "outputs": [
    {
     "data": {
      "text/plain": [
       "['<unexplored>']"
      ]
     },
     "execution_count": 74,
     "metadata": {},
     "output_type": "execute_result"
    }
   ],
   "source": [
    "state_grammar['<state-1>']"
   ]
  },
  {
   "cell_type": "code",
   "execution_count": 75,
   "metadata": {
    "slideshow": {
     "slide_type": "subslide"
    }
   },
   "outputs": [
    {
     "data": {
      "text/plain": [
       "['<unexplored>']"
      ]
     },
     "execution_count": 75,
     "metadata": {},
     "output_type": "execute_result"
    }
   ],
   "source": [
    "state_grammar['<state-2>']"
   ]
  },
  {
   "cell_type": "code",
   "execution_count": 76,
   "metadata": {
    "slideshow": {
     "slide_type": "fragment"
    }
   },
   "outputs": [
    {
     "data": {
      "text/plain": [
       "['']"
      ]
     },
     "execution_count": 76,
     "metadata": {},
     "output_type": "execute_result"
    }
   ],
   "source": [
    "state_grammar['<unexplored>']"
   ]
  },
  {
   "cell_type": "markdown",
   "metadata": {
    "slideshow": {
     "slide_type": "fragment"
    }
   },
   "source": [
    "To better see the state structure, the function `fsm_diagram()` shows the resulting state grammar as a finite state machine.  (This assumes that the grammar actually encodes a state machine.)"
   ]
  },
  {
   "cell_type": "code",
   "execution_count": 77,
   "metadata": {
    "slideshow": {
     "slide_type": "skip"
    }
   },
   "outputs": [],
   "source": [
    "from collections import deque"
   ]
  },
  {
   "cell_type": "code",
   "execution_count": 78,
   "metadata": {
    "slideshow": {
     "slide_type": "skip"
    }
   },
   "outputs": [],
   "source": [
    "from fuzzingbook_utils import unicode_escape"
   ]
  },
  {
   "cell_type": "code",
   "execution_count": 79,
   "metadata": {
    "slideshow": {
     "slide_type": "subslide"
    }
   },
   "outputs": [],
   "source": [
    "def fsm_diagram(grammar, start_symbol=START_SYMBOL):\n",
    "    def left_align(label):\n",
    "        return dot_escape(label.replace('\\n', r'\\l')).replace(r'\\\\l', '\\\\l')\n",
    "\n",
    "    dot = Digraph(comment=\"Grammar as Finite State Machine\")\n",
    "\n",
    "    symbols = deque([start_symbol])\n",
    "    symbols_seen = set()\n",
    "    \n",
    "    while len(symbols) > 0:\n",
    "        symbol = symbols.popleft()\n",
    "        symbols_seen.add(symbol)\n",
    "        dot.node(symbol, dot_escape(unicode_escape(symbol)))\n",
    "        \n",
    "        for expansion in grammar[symbol]:\n",
    "            nts = nonterminals(expansion)\n",
    "            if len(nts) > 0:\n",
    "                target_symbol = nts[-1]\n",
    "                if target_symbol not in symbols_seen:\n",
    "                    symbols.append(target_symbol)\n",
    "\n",
    "                label = expansion.replace(target_symbol, '')\n",
    "                dot.edge(symbol, target_symbol, left_align(unicode_escape(label)))\n",
    "                         \n",
    "                \n",
    "    return display(dot)"
   ]
  },
  {
   "cell_type": "markdown",
   "metadata": {
    "slideshow": {
     "slide_type": "subslide"
    }
   },
   "source": [
    "Here's our current grammar as a state machine.  We see that it nicely reflects what we can see from our Web server's home page:"
   ]
  },
  {
   "cell_type": "code",
   "execution_count": 80,
   "metadata": {
    "slideshow": {
     "slide_type": "fragment"
    }
   },
   "outputs": [
    {
     "data": {
      "image/svg+xml": [
       "<?xml version=\"1.0\" encoding=\"UTF-8\" standalone=\"no\"?>\n",
       "<!DOCTYPE svg PUBLIC \"-//W3C//DTD SVG 1.1//EN\"\n",
       " \"http://www.w3.org/Graphics/SVG/1.1/DTD/svg11.dtd\">\n",
       "<!-- Generated by graphviz version 2.40.1 (20161225.0304)\n",
       " -->\n",
       "<!-- Title: %3 Pages: 1 -->\n",
       "<svg width=\"412pt\" height=\"352pt\"\n",
       " viewBox=\"0.00 0.00 411.94 352.00\" xmlns=\"http://www.w3.org/2000/svg\" xmlns:xlink=\"http://www.w3.org/1999/xlink\">\n",
       "<g id=\"graph0\" class=\"graph\" transform=\"scale(1 1) rotate(0) translate(4 348)\">\n",
       "<title>%3</title>\n",
       "<polygon fill=\"#ffffff\" stroke=\"transparent\" points=\"-4,4 -4,-348 407.9429,-348 407.9429,4 -4,4\"/>\n",
       "<!-- start -->\n",
       "<g id=\"node1\" class=\"node\">\n",
       "<title>start</title>\n",
       "<ellipse fill=\"none\" stroke=\"#000000\" cx=\"208.496\" cy=\"-326\" rx=\"36.2938\" ry=\"18\"/>\n",
       "<text text-anchor=\"middle\" x=\"208.496\" y=\"-322.3\" font-family=\"Times,serif\" font-size=\"14.00\" fill=\"#000000\">&lt;start&gt;</text>\n",
       "</g>\n",
       "<!-- state -->\n",
       "<g id=\"node2\" class=\"node\">\n",
       "<title>state</title>\n",
       "<ellipse fill=\"none\" stroke=\"#000000\" cx=\"208.496\" cy=\"-253\" rx=\"37.8943\" ry=\"18\"/>\n",
       "<text text-anchor=\"middle\" x=\"208.496\" y=\"-249.3\" font-family=\"Times,serif\" font-size=\"14.00\" fill=\"#000000\">&lt;state&gt;</text>\n",
       "</g>\n",
       "<!-- start&#45;&gt;state -->\n",
       "<g id=\"edge1\" class=\"edge\">\n",
       "<title>start&#45;&gt;state</title>\n",
       "<path fill=\"none\" stroke=\"#000000\" d=\"M208.496,-307.9551C208.496,-299.8828 208.496,-290.1764 208.496,-281.1817\"/>\n",
       "<polygon fill=\"#000000\" stroke=\"#000000\" points=\"211.9961,-281.0903 208.496,-271.0904 204.9961,-281.0904 211.9961,-281.0903\"/>\n",
       "</g>\n",
       "<!-- state&#45;1 -->\n",
       "<g id=\"node3\" class=\"node\">\n",
       "<title>state&#45;1</title>\n",
       "<ellipse fill=\"none\" stroke=\"#000000\" cx=\"45.496\" cy=\"-91\" rx=\"45.4919\" ry=\"18\"/>\n",
       "<text text-anchor=\"middle\" x=\"45.496\" y=\"-87.3\" font-family=\"Times,serif\" font-size=\"14.00\" fill=\"#000000\">&lt;state&#45;1&gt;</text>\n",
       "</g>\n",
       "<!-- state&#45;&gt;state&#45;1 -->\n",
       "<g id=\"edge2\" class=\"edge\">\n",
       "<title>state&#45;&gt;state&#45;1</title>\n",
       "<path fill=\"none\" stroke=\"#000000\" d=\"M170.9534,-251.1602C122.383,-247.9032 41.8089,-239.2201 23.496,-217 -1.944,-186.1324 12.662,-165.5049 23.496,-127 24.4085,-123.7566 25.7035,-120.5164 27.2139,-117.3831\"/>\n",
       "<polygon fill=\"#000000\" stroke=\"#000000\" points=\"30.4065,-118.8446 32.2248,-108.407 24.2944,-115.4325 30.4065,-118.8446\"/>\n",
       "<text text-anchor=\"start\" x=\"23.496\" y=\"-168.3\" font-family=\"Times,serif\" font-size=\"14.00\" fill=\"#000000\">click(&#39;terms and conditions&#39;)</text>\n",
       "</g>\n",
       "<!-- state&#45;2 -->\n",
       "<g id=\"node4\" class=\"node\">\n",
       "<title>state&#45;2</title>\n",
       "<ellipse fill=\"none\" stroke=\"#000000\" cx=\"172.496\" cy=\"-91\" rx=\"45.4919\" ry=\"18\"/>\n",
       "<text text-anchor=\"middle\" x=\"172.496\" y=\"-87.3\" font-family=\"Times,serif\" font-size=\"14.00\" fill=\"#000000\">&lt;state&#45;2&gt;</text>\n",
       "</g>\n",
       "<!-- state&#45;&gt;state&#45;2 -->\n",
       "<g id=\"edge3\" class=\"edge\">\n",
       "<title>state&#45;&gt;state&#45;2</title>\n",
       "<path fill=\"none\" stroke=\"#000000\" d=\"M206.4682,-234.8057C203.4539,-210.084 196.9911,-164.6469 186.496,-127 185.7194,-124.2143 184.8071,-121.3455 183.827,-118.5007\"/>\n",
       "<polygon fill=\"#000000\" stroke=\"#000000\" points=\"187.0907,-117.2353 180.3314,-109.0766 180.5276,-119.6697 187.0907,-117.2353\"/>\n",
       "<text text-anchor=\"start\" x=\"204.496\" y=\"-205.8\" font-family=\"Times,serif\" font-size=\"14.00\" fill=\"#000000\">check(&#39;terms&#39;, &lt;boolean&gt;)</text>\n",
       "<text text-anchor=\"start\" x=\"204.496\" y=\"-190.8\" font-family=\"Times,serif\" font-size=\"14.00\" fill=\"#000000\">fill(&#39;city&#39;, &#39;&lt;text&gt;&#39;)</text>\n",
       "<text text-anchor=\"start\" x=\"204.496\" y=\"-175.8\" font-family=\"Times,serif\" font-size=\"14.00\" fill=\"#000000\">fill(&#39;zip&#39;, &#39;&lt;number&gt;&#39;)</text>\n",
       "<text text-anchor=\"start\" x=\"204.496\" y=\"-160.8\" font-family=\"Times,serif\" font-size=\"14.00\" fill=\"#000000\">fill(&#39;email&#39;, &#39;&lt;email&gt;&#39;)</text>\n",
       "<text text-anchor=\"start\" x=\"204.496\" y=\"-145.8\" font-family=\"Times,serif\" font-size=\"14.00\" fill=\"#000000\">fill(&#39;name&#39;, &#39;&lt;text&gt;&#39;)</text>\n",
       "<text text-anchor=\"start\" x=\"204.496\" y=\"-130.8\" font-family=\"Times,serif\" font-size=\"14.00\" fill=\"#000000\">submit(&#39;submit&#39;)</text>\n",
       "</g>\n",
       "<!-- end -->\n",
       "<g id=\"node5\" class=\"node\">\n",
       "<title>end</title>\n",
       "<ellipse fill=\"none\" stroke=\"#000000\" cx=\"369.496\" cy=\"-91\" rx=\"34.394\" ry=\"18\"/>\n",
       "<text text-anchor=\"middle\" x=\"369.496\" y=\"-87.3\" font-family=\"Times,serif\" font-size=\"14.00\" fill=\"#000000\">&lt;end&gt;</text>\n",
       "</g>\n",
       "<!-- state&#45;&gt;end -->\n",
       "<g id=\"edge4\" class=\"edge\">\n",
       "<title>state&#45;&gt;end</title>\n",
       "<path fill=\"none\" stroke=\"#000000\" d=\"M245.3186,-248.705C283.7048,-243.4287 340.2334,-233.1386 354.496,-217 378.0388,-190.3605 377.8598,-147.235 374.5115,-118.9958\"/>\n",
       "<polygon fill=\"#000000\" stroke=\"#000000\" points=\"377.9609,-118.3892 373.1159,-108.9671 371.0277,-119.3541 377.9609,-118.3892\"/>\n",
       "</g>\n",
       "<!-- unexplored -->\n",
       "<g id=\"node6\" class=\"node\">\n",
       "<title>unexplored</title>\n",
       "<ellipse fill=\"none\" stroke=\"#000000\" cx=\"99.496\" cy=\"-18\" rx=\"61.99\" ry=\"18\"/>\n",
       "<text text-anchor=\"middle\" x=\"99.496\" y=\"-14.3\" font-family=\"Times,serif\" font-size=\"14.00\" fill=\"#000000\">&lt;unexplored&gt;</text>\n",
       "</g>\n",
       "<!-- state&#45;1&#45;&gt;unexplored -->\n",
       "<g id=\"edge5\" class=\"edge\">\n",
       "<title>state&#45;1&#45;&gt;unexplored</title>\n",
       "<path fill=\"none\" stroke=\"#000000\" d=\"M58.2932,-73.7C64.8545,-64.8301 72.9801,-53.8455 80.2768,-43.9815\"/>\n",
       "<polygon fill=\"#000000\" stroke=\"#000000\" points=\"83.2822,-45.8039 86.4155,-35.6829 77.6546,-41.6409 83.2822,-45.8039\"/>\n",
       "</g>\n",
       "<!-- state&#45;2&#45;&gt;unexplored -->\n",
       "<g id=\"edge6\" class=\"edge\">\n",
       "<title>state&#45;2&#45;&gt;unexplored</title>\n",
       "<path fill=\"none\" stroke=\"#000000\" d=\"M155.5648,-74.0688C146.2104,-64.7145 134.4214,-52.9255 124.0701,-42.5742\"/>\n",
       "<polygon fill=\"#000000\" stroke=\"#000000\" points=\"126.3882,-39.9425 116.8422,-35.3463 121.4384,-44.8922 126.3882,-39.9425\"/>\n",
       "</g>\n",
       "</g>\n",
       "</svg>\n"
      ],
      "text/plain": [
       "<graphviz.dot.Digraph at 0x11a616f98>"
      ]
     },
     "metadata": {},
     "output_type": "display_data"
    }
   ],
   "source": [
    "fsm_diagram(state_grammar)"
   ]
  },
  {
   "cell_type": "markdown",
   "metadata": {
    "slideshow": {
     "slide_type": "fragment"
    }
   },
   "source": [
    "Given the grammar, we can use any of our grammar fuzzers to create valid input sequences:"
   ]
  },
  {
   "cell_type": "code",
   "execution_count": 81,
   "metadata": {
    "slideshow": {
     "slide_type": "skip"
    }
   },
   "outputs": [],
   "source": [
    "from GrammarFuzzer import GrammarFuzzer"
   ]
  },
  {
   "cell_type": "code",
   "execution_count": 82,
   "metadata": {
    "slideshow": {
     "slide_type": "subslide"
    }
   },
   "outputs": [
    {
     "name": "stdout",
     "output_type": "stream",
     "text": [
      "check('terms', False)\n",
      "fill('city', '17!')\n",
      "fill('zip', '8')\n",
      "fill('email', 'J@E')\n",
      "fill('name', ' G')\n",
      "submit('submit')\n",
      "\n"
     ]
    }
   ],
   "source": [
    "gui_fuzzer = GrammarFuzzer(state_grammar)\n",
    "while True:\n",
    "    action = gui_fuzzer.fuzz()\n",
    "    if action.find('submit(') > 0:\n",
    "        break\n",
    "print(action)"
   ]
  },
  {
   "cell_type": "markdown",
   "metadata": {
    "slideshow": {
     "slide_type": "subslide"
    }
   },
   "source": [
    "These actions, however, must also be _executed_ such that we can explore the user interface.  This is what we do in the next section."
   ]
  },
  {
   "cell_type": "markdown",
   "metadata": {
    "slideshow": {
     "slide_type": "subslide"
    }
   },
   "source": [
    "### Executing User Interface Actions"
   ]
  },
  {
   "cell_type": "markdown",
   "metadata": {
    "slideshow": {
     "slide_type": "fragment"
    }
   },
   "source": [
    "To execute actions, we introduce a `Runner` class, conveniently named `GUIRunner`.  The aim of its `run()` method is to execute the actions as given in an action string.  The way we do this is fairly simple: We introduce four methods named `fill()`, `check()`, `submit()` and `click()`, and run `exec()` on the action string to have the Python interpreter invoke these methods."
   ]
  },
  {
   "cell_type": "markdown",
   "metadata": {
    "slideshow": {
     "slide_type": "subslide"
    }
   },
   "source": [
    "Running `exec()` on third-party input is dangerous, as the names of UI elements may contain valid Python code.  We restrict access to the four functions defined above, and also set `__builtins__` to the empty dictionary such that built-in Python functions are not available during `exec()`.  This will prevent accidents, but as we will see in the [chapter on information flow](InformationFlow.ipynb), it is still possible to inject Python code.  To prevent such injection attacks, we use `html.escape()` to quote angle and quote characters in all third-party strings."
   ]
  },
  {
   "cell_type": "code",
   "execution_count": 83,
   "metadata": {
    "slideshow": {
     "slide_type": "skip"
    }
   },
   "outputs": [],
   "source": [
    "from Fuzzer import Runner"
   ]
  },
  {
   "cell_type": "code",
   "execution_count": 84,
   "metadata": {
    "slideshow": {
     "slide_type": "subslide"
    }
   },
   "outputs": [],
   "source": [
    "class GUIRunner(Runner):\n",
    "    def __init__(self, driver):\n",
    "        self.driver = driver\n",
    "        \n",
    "    def run(self, inp):\n",
    "        def fill(name, value):\n",
    "            self.do_fill(html.unescape(name), html.unescape(value))\n",
    "        def check(name, state):\n",
    "            self.do_check(html.unescape(name), state)\n",
    "        def submit(name):\n",
    "            self.do_submit(html.unescape(name))\n",
    "        def click(name):\n",
    "            self.do_click(html.unescape(name))\n",
    "        \n",
    "        exec(inp, {'__builtins__': {}},\n",
    "                  {'fill': fill, 'check': check, 'submit': submit, 'click': click})\n",
    "        \n",
    "        return inp, self.PASS"
   ]
  },
  {
   "cell_type": "markdown",
   "metadata": {
    "slideshow": {
     "slide_type": "subslide"
    }
   },
   "source": [
    "To identify elements in an action, we first search them by their name, and then by the displayed link text."
   ]
  },
  {
   "cell_type": "code",
   "execution_count": 85,
   "metadata": {
    "slideshow": {
     "slide_type": "skip"
    }
   },
   "outputs": [],
   "source": [
    "from selenium.common.exceptions import NoSuchElementException\n",
    "from selenium.common.exceptions import ElementClickInterceptedException, ElementNotInteractableException"
   ]
  },
  {
   "cell_type": "code",
   "execution_count": 86,
   "metadata": {
    "slideshow": {
     "slide_type": "fragment"
    }
   },
   "outputs": [],
   "source": [
    "class GUIRunner(GUIRunner):\n",
    "    def find_element(self, name):\n",
    "        try:\n",
    "            return self.driver.find_element_by_name(name)\n",
    "        except NoSuchElementException:\n",
    "            return self.driver.find_element_by_link_text(name)"
   ]
  },
  {
   "cell_type": "markdown",
   "metadata": {
    "slideshow": {
     "slide_type": "fragment"
    }
   },
   "source": [
    "The implementations of the actions simply defer to the appropriate Selenium methods, introducing explicit delays such that the page can reload and refresh."
   ]
  },
  {
   "cell_type": "code",
   "execution_count": 87,
   "metadata": {
    "slideshow": {
     "slide_type": "skip"
    }
   },
   "outputs": [],
   "source": [
    "from selenium.webdriver.support.ui import WebDriverWait"
   ]
  },
  {
   "cell_type": "code",
   "execution_count": 88,
   "metadata": {
    "slideshow": {
     "slide_type": "subslide"
    }
   },
   "outputs": [],
   "source": [
    "class GUIRunner(GUIRunner):\n",
    "    # Delays (in seconds)\n",
    "    DELAY_AFTER_FILL = 0.1\n",
    "    DELAY_AFTER_CHECK = 0.1\n",
    "    DELAY_AFTER_SUBMIT = 1\n",
    "    DELAY_AFTER_CLICK = 1"
   ]
  },
  {
   "cell_type": "code",
   "execution_count": 89,
   "metadata": {
    "slideshow": {
     "slide_type": "fragment"
    }
   },
   "outputs": [],
   "source": [
    "class GUIRunner(GUIRunner):\n",
    "    def do_fill(self, name, value):\n",
    "        element = self.find_element(name)\n",
    "        element.send_keys(value)\n",
    "        WebDriverWait(self.driver, self.DELAY_AFTER_FILL)"
   ]
  },
  {
   "cell_type": "code",
   "execution_count": 90,
   "metadata": {
    "slideshow": {
     "slide_type": "subslide"
    }
   },
   "outputs": [],
   "source": [
    "class GUIRunner(GUIRunner):\n",
    "    def do_check(self, name, state):\n",
    "        element = self.find_element(name)\n",
    "        if bool(state) != bool(element.is_selected()):\n",
    "            element.click()\n",
    "        WebDriverWait(self.driver, self.DELAY_AFTER_CHECK)"
   ]
  },
  {
   "cell_type": "code",
   "execution_count": 91,
   "metadata": {
    "slideshow": {
     "slide_type": "fragment"
    }
   },
   "outputs": [],
   "source": [
    "class GUIRunner(GUIRunner):\n",
    "    def do_submit(self, name):\n",
    "        element = self.find_element(name)\n",
    "        element.click()\n",
    "        WebDriverWait(self.driver, self.DELAY_AFTER_SUBMIT)"
   ]
  },
  {
   "cell_type": "code",
   "execution_count": 92,
   "metadata": {
    "slideshow": {
     "slide_type": "subslide"
    }
   },
   "outputs": [],
   "source": [
    "class GUIRunner(GUIRunner):\n",
    "    def do_click(self, name):\n",
    "        element = self.find_element(name)\n",
    "        element.click()\n",
    "        WebDriverWait(self.driver, self.DELAY_AFTER_CLICK)"
   ]
  },
  {
   "cell_type": "markdown",
   "metadata": {
    "slideshow": {
     "slide_type": "fragment"
    }
   },
   "source": [
    "Let us try out `GUIRunner`.  We create a runner on our Web server, and let it execute a `fill()` action:"
   ]
  },
  {
   "cell_type": "code",
   "execution_count": 93,
   "metadata": {
    "slideshow": {
     "slide_type": "fragment"
    }
   },
   "outputs": [],
   "source": [
    "gui_driver.get(httpd_url)"
   ]
  },
  {
   "cell_type": "code",
   "execution_count": 94,
   "metadata": {
    "slideshow": {
     "slide_type": "fragment"
    }
   },
   "outputs": [],
   "source": [
    "gui_runner = GUIRunner(gui_driver)"
   ]
  },
  {
   "cell_type": "code",
   "execution_count": 95,
   "metadata": {
    "slideshow": {
     "slide_type": "fragment"
    }
   },
   "outputs": [
    {
     "data": {
      "text/plain": [
       "(\"fill('name', 'Walter White')\", 'PASS')"
      ]
     },
     "execution_count": 95,
     "metadata": {},
     "output_type": "execute_result"
    }
   ],
   "source": [
    "gui_runner.run(\"fill('name', 'Walter White')\")"
   ]
  },
  {
   "cell_type": "code",
   "execution_count": 96,
   "metadata": {
    "slideshow": {
     "slide_type": "fragment"
    }
   },
   "outputs": [
    {
     "data": {
      "image/png": "[encoded data removed]",
      "text/plain": [
       "<IPython.core.display.Image object>"
      ]
     },
     "execution_count": 96,
     "metadata": {},
     "output_type": "execute_result"
    }
   ],
   "source": [
    "Image(gui_driver.get_screenshot_as_png())"
   ]
  },
  {
   "cell_type": "markdown",
   "metadata": {
    "slideshow": {
     "slide_type": "fragment"
    }
   },
   "source": [
    "A `submit()` action submits the order.  (Note that our Web server does no effort whatsoever to validate the form.)"
   ]
  },
  {
   "cell_type": "code",
   "execution_count": 97,
   "metadata": {
    "slideshow": {
     "slide_type": "subslide"
    }
   },
   "outputs": [
    {
     "data": {
      "text/plain": [
       "(\"submit('submit')\", 'PASS')"
      ]
     },
     "execution_count": 97,
     "metadata": {},
     "output_type": "execute_result"
    }
   ],
   "source": [
    "gui_runner.run(\"submit('submit')\")"
   ]
  },
  {
   "cell_type": "code",
   "execution_count": 98,
   "metadata": {
    "slideshow": {
     "slide_type": "fragment"
    }
   },
   "outputs": [
    {
     "data": {
      "image/png": "[encoded data removed]",
      "text/plain": [
       "<IPython.core.display.Image object>"
      ]
     },
     "execution_count": 98,
     "metadata": {},
     "output_type": "execute_result"
    }
   ],
   "source": [
    "Image(gui_driver.get_screenshot_as_png())"
   ]
  },
  {
   "cell_type": "markdown",
   "metadata": {
    "slideshow": {
     "slide_type": "fragment"
    }
   },
   "source": [
    "Of course, we can also execute action sequences generated from the grammar.  This allows us to fill the form again and again, using values matching the type given in the form."
   ]
  },
  {
   "cell_type": "code",
   "execution_count": 99,
   "metadata": {
    "slideshow": {
     "slide_type": "fragment"
    }
   },
   "outputs": [],
   "source": [
    "gui_driver.get(httpd_url)"
   ]
  },
  {
   "cell_type": "code",
   "execution_count": 100,
   "metadata": {
    "slideshow": {
     "slide_type": "fragment"
    }
   },
   "outputs": [],
   "source": [
    "gui_fuzzer = GrammarFuzzer(state_grammar)"
   ]
  },
  {
   "cell_type": "code",
   "execution_count": 101,
   "metadata": {
    "slideshow": {
     "slide_type": "fragment"
    }
   },
   "outputs": [],
   "source": [
    "while True:\n",
    "    action = gui_fuzzer.fuzz()\n",
    "    if action.find('submit(') > 0:\n",
    "        break"
   ]
  },
  {
   "cell_type": "code",
   "execution_count": 102,
   "metadata": {
    "slideshow": {
     "slide_type": "subslide"
    }
   },
   "outputs": [
    {
     "name": "stdout",
     "output_type": "stream",
     "text": [
      "check('terms', False)\n",
      "fill('city', '24')\n",
      "fill('zip', '7')\n",
      "fill('email', 'd@l')\n",
      "fill('name', '..d')\n",
      "submit('submit')\n",
      "\n"
     ]
    }
   ],
   "source": [
    "print(action)"
   ]
  },
  {
   "cell_type": "code",
   "execution_count": 103,
   "metadata": {
    "slideshow": {
     "slide_type": "fragment"
    }
   },
   "outputs": [
    {
     "data": {
      "text/plain": [
       "(\"check('terms', False)\\nfill('city', '24')\\nfill('zip', '7')\\nfill('email', 'd@l')\\nfill('name', '..d')\\nsubmit('submit')\\n\",\n",
       " 'PASS')"
      ]
     },
     "execution_count": 103,
     "metadata": {},
     "output_type": "execute_result"
    }
   ],
   "source": [
    "gui_runner.run(action)"
   ]
  },
  {
   "cell_type": "code",
   "execution_count": 104,
   "metadata": {
    "slideshow": {
     "slide_type": "fragment"
    }
   },
   "outputs": [
    {
     "data": {
      "image/png": "[encoded data removed]",
      "text/plain": [
       "<IPython.core.display.Image object>"
      ]
     },
     "execution_count": 104,
     "metadata": {},
     "output_type": "execute_result"
    }
   ],
   "source": [
    "Image(gui_driver.get_screenshot_as_png())"
   ]
  },
  {
   "cell_type": "markdown",
   "metadata": {
    "slideshow": {
     "slide_type": "slide"
    }
   },
   "source": [
    "## Exploring User Interfaces\n",
    "\n",
    "So far, our grammar retrieval and execution of actions is limited to the current user interface state (i.e., the current page shown).  To systematically explore a user interface, we must explore all states, notably those ending in `<unexplored>` – and whenever we reach a new state, again retrieve its grammar such that we may be able to reach other states.  Since some states can only be reached by generating inputs, test generation and user interface exploration _take place at the same time._  \n",
    "\n",
    "Consequently, we introduce a `GUIFuzzer` class, which generates inputs for all forms and follows all links, and which updates its grammar (i.e., its user interface model as a finite state machine) every time it encounters a new state. "
   ]
  },
  {
   "cell_type": "markdown",
   "metadata": {
    "slideshow": {
     "slide_type": "subslide"
    }
   },
   "source": [
    "Exploring states and updating the grammar at the same time is a fairly complex operation, so we need to introduce quite a number of methods before we can put this to use.  The `GUIFuzzer` constructor sets three important attributes:\n",
    "\n",
    "1. `state_symbol`: This holds the symbol of the current state (e.g. `<state-1>`).\n",
    "2. `state`: This holds the set of actions for the current state, as returned by the `GUIGrammarMiner` method `mine_state_actions()`.\n",
    "3. `states_seen`: This maps the states seen (as in `state`) to the respective symbols.\n",
    "\n",
    "Let us show these three attributes after initialization."
   ]
  },
  {
   "cell_type": "code",
   "execution_count": 105,
   "metadata": {
    "slideshow": {
     "slide_type": "skip"
    }
   },
   "outputs": [],
   "source": [
    "from Grammars import is_nonterminal"
   ]
  },
  {
   "cell_type": "code",
   "execution_count": 106,
   "metadata": {
    "slideshow": {
     "slide_type": "skip"
    }
   },
   "outputs": [],
   "source": [
    "from GrammarFuzzer import GrammarFuzzer"
   ]
  },
  {
   "cell_type": "code",
   "execution_count": 107,
   "metadata": {
    "slideshow": {
     "slide_type": "subslide"
    }
   },
   "outputs": [],
   "source": [
    "class GUIFuzzer(GrammarFuzzer):\n",
    "    def __init__(self, driver, \n",
    "                 stay_on_host=True,\n",
    "                 log_gui_exploration=False, \n",
    "                 disp_gui_exploration=False, \n",
    "                 **kwargs):\n",
    "        self.driver = driver\n",
    "        self.miner = GUIGrammarMiner(driver)\n",
    "        self.stay_on_host = True\n",
    "        self.log_gui_exploration = log_gui_exploration\n",
    "        self.disp_gui_exploration = disp_gui_exploration\n",
    "        self.initial_url = driver.current_url\n",
    "\n",
    "        self.states_seen = {}  # Maps states to symbols\n",
    "        self.state_symbol = GUIGrammarMiner.START_STATE\n",
    "        self.state = self.miner.mine_state_actions()\n",
    "        self.states_seen[self.state] = self.state_symbol\n",
    "        \n",
    "        grammar = self.miner.mine_state_grammar()\n",
    "        super().__init__(grammar, **kwargs)"
   ]
  },
  {
   "cell_type": "code",
   "execution_count": 108,
   "metadata": {
    "slideshow": {
     "slide_type": "subslide"
    }
   },
   "outputs": [],
   "source": [
    "gui_driver.get(httpd_url)"
   ]
  },
  {
   "cell_type": "markdown",
   "metadata": {
    "slideshow": {
     "slide_type": "fragment"
    }
   },
   "source": [
    "The initial state symbol is always `<state>`:"
   ]
  },
  {
   "cell_type": "code",
   "execution_count": 109,
   "metadata": {
    "slideshow": {
     "slide_type": "fragment"
    }
   },
   "outputs": [
    {
     "data": {
      "text/plain": [
       "'<state>'"
      ]
     },
     "execution_count": 109,
     "metadata": {},
     "output_type": "execute_result"
    }
   ],
   "source": [
    "gui_fuzzer = GUIFuzzer(gui_driver)\n",
    "gui_fuzzer.state_symbol"
   ]
  },
  {
   "cell_type": "markdown",
   "metadata": {
    "slideshow": {
     "slide_type": "fragment"
    }
   },
   "source": [
    "The current state is characterized by the available UI actions:"
   ]
  },
  {
   "cell_type": "code",
   "execution_count": 110,
   "metadata": {
    "slideshow": {
     "slide_type": "fragment"
    }
   },
   "outputs": [
    {
     "data": {
      "text/plain": [
       "frozenset({\"check('terms', <boolean>)\",\n",
       "           \"click('terms and conditions')\",\n",
       "           \"fill('city', '<text>')\",\n",
       "           \"fill('email', '<email>')\",\n",
       "           \"fill('name', '<text>')\",\n",
       "           \"fill('zip', '<number>')\",\n",
       "           \"submit('submit')\"})"
      ]
     },
     "execution_count": 110,
     "metadata": {},
     "output_type": "execute_result"
    }
   ],
   "source": [
    "gui_fuzzer.state"
   ]
  },
  {
   "cell_type": "markdown",
   "metadata": {
    "slideshow": {
     "slide_type": "fragment"
    }
   },
   "source": [
    "`states_seen` maps this state to its symbol:"
   ]
  },
  {
   "cell_type": "code",
   "execution_count": 111,
   "metadata": {
    "slideshow": {
     "slide_type": "subslide"
    }
   },
   "outputs": [
    {
     "data": {
      "text/plain": [
       "'<state>'"
      ]
     },
     "execution_count": 111,
     "metadata": {},
     "output_type": "execute_result"
    }
   ],
   "source": [
    "gui_fuzzer.states_seen[gui_fuzzer.state]"
   ]
  },
  {
   "cell_type": "markdown",
   "metadata": {
    "slideshow": {
     "slide_type": "fragment"
    }
   },
   "source": [
    "The `restart()` method gets us back to the initial URL and resets the state.  This is what we use with every new exploration."
   ]
  },
  {
   "cell_type": "code",
   "execution_count": 112,
   "metadata": {
    "slideshow": {
     "slide_type": "fragment"
    }
   },
   "outputs": [],
   "source": [
    "class GUIFuzzer(GUIFuzzer):\n",
    "    def restart(self):\n",
    "        self.driver.get(self.initial_url)\n",
    "        self.state = GUIGrammarMiner.START_STATE"
   ]
  },
  {
   "cell_type": "markdown",
   "metadata": {
    "slideshow": {
     "slide_type": "fragment"
    }
   },
   "source": [
    "When producing a sequence of actions from the grammar, we want to know which final state we are to be in.  We can retrieve this path from the _derivation tree_ produced – it is the last symbol being expanded."
   ]
  },
  {
   "cell_type": "code",
   "execution_count": 113,
   "metadata": {
    "slideshow": {
     "slide_type": "fragment"
    }
   },
   "outputs": [],
   "source": [
    "while True:\n",
    "    action = gui_fuzzer.fuzz()\n",
    "    if action.find('click(') >= 0:\n",
    "        break"
   ]
  },
  {
   "cell_type": "code",
   "execution_count": 114,
   "metadata": {
    "slideshow": {
     "slide_type": "skip"
    }
   },
   "outputs": [],
   "source": [
    "from GrammarFuzzer import display_tree"
   ]
  },
  {
   "cell_type": "code",
   "execution_count": 115,
   "metadata": {
    "slideshow": {
     "slide_type": "subslide"
    }
   },
   "outputs": [
    {
     "data": {
      "image/svg+xml": [
       "<?xml version=\"1.0\" encoding=\"UTF-8\" standalone=\"no\"?>\n",
       "<!DOCTYPE svg PUBLIC \"-//W3C//DTD SVG 1.1//EN\"\n",
       " \"http://www.w3.org/Graphics/SVG/1.1/DTD/svg11.dtd\">\n",
       "<!-- Generated by graphviz version 2.40.1 (20161225.0304)\n",
       " -->\n",
       "<!-- Title: %3 Pages: 1 -->\n",
       "<svg width=\"252pt\" height=\"212pt\"\n",
       " viewBox=\"0.00 0.00 252.00 212.00\" xmlns=\"http://www.w3.org/2000/svg\" xmlns:xlink=\"http://www.w3.org/1999/xlink\">\n",
       "<g id=\"graph0\" class=\"graph\" transform=\"scale(1 1) rotate(0) translate(4 208)\">\n",
       "<title>%3</title>\n",
       "<polygon fill=\"#ffffff\" stroke=\"transparent\" points=\"-4,4 -4,-208 248,-208 248,4 -4,4\"/>\n",
       "<!-- 0 -->\n",
       "<g id=\"node1\" class=\"node\">\n",
       "<title>0</title>\n",
       "<text text-anchor=\"middle\" x=\"141.5\" y=\"-192.8\" font-family=\"Times,serif\" font-size=\"14.00\" fill=\"#000000\">&lt;start&gt;</text>\n",
       "</g>\n",
       "<!-- 1 -->\n",
       "<g id=\"node2\" class=\"node\">\n",
       "<title>1</title>\n",
       "<text text-anchor=\"middle\" x=\"141.5\" y=\"-141.8\" font-family=\"Times,serif\" font-size=\"14.00\" fill=\"#000000\">&lt;state&gt;</text>\n",
       "</g>\n",
       "<!-- 0&#45;&gt;1 -->\n",
       "<g id=\"edge1\" class=\"edge\">\n",
       "<title>0&#45;&gt;1</title>\n",
       "<path fill=\"none\" stroke=\"#000000\" d=\"M141.5,-188.9748C141.5,-182.195 141.5,-171.966 141.5,-163.1331\"/>\n",
       "<polygon fill=\"#000000\" stroke=\"#000000\" points=\"145.0001,-163.0561 141.5,-153.0561 138.0001,-163.0561 145.0001,-163.0561\"/>\n",
       "</g>\n",
       "<!-- 2 -->\n",
       "<g id=\"node3\" class=\"node\">\n",
       "<title>2</title>\n",
       "<text text-anchor=\"middle\" x=\"79.5\" y=\"-90.8\" font-family=\"Times,serif\" font-size=\"14.00\" fill=\"#000000\">click(&#39;terms and conditions&#39;)</text>\n",
       "</g>\n",
       "<!-- 1&#45;&gt;2 -->\n",
       "<g id=\"edge2\" class=\"edge\">\n",
       "<title>1&#45;&gt;2</title>\n",
       "<path fill=\"none\" stroke=\"#000000\" d=\"M132.3517,-137.9748C123.0106,-130.291 108.2838,-118.177 96.7456,-108.6859\"/>\n",
       "<polygon fill=\"#000000\" stroke=\"#000000\" points=\"98.6322,-105.7058 88.6858,-102.0561 94.1853,-111.1119 98.6322,-105.7058\"/>\n",
       "</g>\n",
       "<!-- 3 -->\n",
       "<g id=\"node4\" class=\"node\">\n",
       "<title>3</title>\n",
       "<text text-anchor=\"middle\" x=\"204.5\" y=\"-90.8\" font-family=\"Times,serif\" font-size=\"14.00\" fill=\"#000000\">&lt;state&#45;1&gt;</text>\n",
       "</g>\n",
       "<!-- 1&#45;&gt;3 -->\n",
       "<g id=\"edge3\" class=\"edge\">\n",
       "<title>1&#45;&gt;3</title>\n",
       "<path fill=\"none\" stroke=\"#000000\" d=\"M150.7959,-137.9748C160.3807,-130.2157 175.5459,-117.939 187.3201,-108.4075\"/>\n",
       "<polygon fill=\"#000000\" stroke=\"#000000\" points=\"189.5957,-111.0685 195.166,-102.0561 185.1913,-105.6278 189.5957,-111.0685\"/>\n",
       "</g>\n",
       "<!-- 4 -->\n",
       "<g id=\"node5\" class=\"node\">\n",
       "<title>4</title>\n",
       "<text text-anchor=\"middle\" x=\"204.5\" y=\"-39.8\" font-family=\"Times,serif\" font-size=\"14.00\" fill=\"#000000\">&lt;unexplored&gt;</text>\n",
       "</g>\n",
       "<!-- 3&#45;&gt;4 -->\n",
       "<g id=\"edge4\" class=\"edge\">\n",
       "<title>3&#45;&gt;4</title>\n",
       "<path fill=\"none\" stroke=\"#000000\" d=\"M204.5,-86.9748C204.5,-80.195 204.5,-69.966 204.5,-61.1331\"/>\n",
       "<polygon fill=\"#000000\" stroke=\"#000000\" points=\"208.0001,-61.0561 204.5,-51.0561 201.0001,-61.0561 208.0001,-61.0561\"/>\n",
       "</g>\n",
       "<!-- 5 -->\n",
       "<g id=\"node6\" class=\"node\">\n",
       "<title>5</title>\n",
       "</g>\n",
       "<!-- 4&#45;&gt;5 -->\n",
       "<g id=\"edge5\" class=\"edge\">\n",
       "<title>4&#45;&gt;5</title>\n",
       "<path fill=\"none\" stroke=\"#000000\" d=\"M204.5,-35.9229C204.5,-35.8742 204.5,-35.8253 204.5,-35.7763\"/>\n",
       "<polygon fill=\"#000000\" stroke=\"#000000\" points=\"208.0068,-45.6264 204.5,-35.6288 201.0068,-45.6311 208.0068,-45.6264\"/>\n",
       "</g>\n",
       "</g>\n",
       "</svg>\n"
      ],
      "text/plain": [
       "<graphviz.dot.Digraph at 0x1194b2ba8>"
      ]
     },
     "execution_count": 115,
     "metadata": {},
     "output_type": "execute_result"
    }
   ],
   "source": [
    "tree = gui_fuzzer.derivation_tree\n",
    "display_tree(tree)"
   ]
  },
  {
   "cell_type": "code",
   "execution_count": 116,
   "metadata": {
    "slideshow": {
     "slide_type": "fragment"
    }
   },
   "outputs": [],
   "source": [
    "class GUIFuzzer(GUIFuzzer):\n",
    "    def fsm_path(self, tree):\n",
    "        \"\"\"Return sequence of state symbols\"\"\"\n",
    "        (node, children) = tree\n",
    "        if node == GUIGrammarMiner.UNEXPLORED_STATE:\n",
    "            return []\n",
    "        elif children is None or len(children) == 0:\n",
    "            return [node]\n",
    "        else:\n",
    "            return [node] + self.fsm_path(children[-1])"
   ]
  },
  {
   "cell_type": "markdown",
   "metadata": {
    "slideshow": {
     "slide_type": "fragment"
    }
   },
   "source": [
    "This is the path in the finite state machine towards the \"fuzzed\" state:"
   ]
  },
  {
   "cell_type": "code",
   "execution_count": 117,
   "metadata": {
    "slideshow": {
     "slide_type": "subslide"
    }
   },
   "outputs": [
    {
     "data": {
      "text/plain": [
       "['<start>', '<state>', '<state-1>']"
      ]
     },
     "execution_count": 117,
     "metadata": {},
     "output_type": "execute_result"
    }
   ],
   "source": [
    "gui_fuzzer = GUIFuzzer(gui_driver)\n",
    "gui_fuzzer.fsm_path(tree)"
   ]
  },
  {
   "cell_type": "markdown",
   "metadata": {
    "slideshow": {
     "slide_type": "fragment"
    }
   },
   "source": [
    "This is its last element:"
   ]
  },
  {
   "cell_type": "code",
   "execution_count": 118,
   "metadata": {
    "slideshow": {
     "slide_type": "fragment"
    }
   },
   "outputs": [],
   "source": [
    "class GUIFuzzer(GUIFuzzer):\n",
    "    def fsm_last_state_symbol(self, tree):\n",
    "        \"\"\"Return current (expected) state symbol\"\"\"\n",
    "        for state in reversed(self.fsm_path(tree)):\n",
    "            if is_nonterminal(state):\n",
    "                return state\n",
    "        assert False"
   ]
  },
  {
   "cell_type": "code",
   "execution_count": 119,
   "metadata": {
    "slideshow": {
     "slide_type": "fragment"
    }
   },
   "outputs": [
    {
     "data": {
      "text/plain": [
       "'<state-1>'"
      ]
     },
     "execution_count": 119,
     "metadata": {},
     "output_type": "execute_result"
    }
   ],
   "source": [
    "gui_fuzzer = GUIFuzzer(gui_driver)\n",
    "gui_fuzzer.fsm_last_state_symbol(tree)"
   ]
  },
  {
   "cell_type": "markdown",
   "metadata": {
    "slideshow": {
     "slide_type": "subslide"
    }
   },
   "source": [
    "As we run (`run()`) the fuzzer, we create an action (via `fuzz()`) and retrieve and update the state symbol (`state_symbol`) we are supposed to be in after running this action.  After actually running the action in the given `GUIRunner`, we retrieve and update the current state, using `update_state()`."
   ]
  },
  {
   "cell_type": "code",
   "execution_count": 120,
   "metadata": {
    "slideshow": {
     "slide_type": "subslide"
    }
   },
   "outputs": [],
   "source": [
    "class GUIFuzzer(GUIFuzzer):\n",
    "    def run(self, runner):\n",
    "        assert isinstance(runner, GUIRunner)\n",
    "        \n",
    "        self.restart()\n",
    "        action = self.fuzz()\n",
    "        self.state_symbol = self.fsm_last_state_symbol(self.derivation_tree)\n",
    "\n",
    "        if self.log_gui_exploration:\n",
    "            print(\"Action\", action.strip(), \"->\", self.state_symbol)\n",
    "\n",
    "        result, outcome = runner.run(action)\n",
    "        \n",
    "        if self.state_symbol != GUIGrammarMiner.FINAL_STATE:\n",
    "            self.update_state()\n",
    "\n",
    "        return self.state_symbol, outcome"
   ]
  },
  {
   "cell_type": "markdown",
   "metadata": {
    "slideshow": {
     "slide_type": "subslide"
    }
   },
   "source": [
    "When updating the current state, we check whether we are in a new or in a previously seen state, and invoke `update_new_state()` or `update_existing_state()`, respectively."
   ]
  },
  {
   "cell_type": "code",
   "execution_count": 121,
   "metadata": {
    "slideshow": {
     "slide_type": "fragment"
    }
   },
   "outputs": [],
   "source": [
    "class GUIFuzzer(GUIFuzzer):\n",
    "    def update_state(self):\n",
    "        if self.disp_gui_exploration:\n",
    "            display(Image(self.driver.get_screenshot_as_png()))\n",
    "\n",
    "        self.state = self.miner.mine_state_actions()\n",
    "        if self.state not in self.states_seen:\n",
    "            self.states_seen[self.state] = self.state_symbol\n",
    "            self.update_new_state()\n",
    "        else:\n",
    "            self.update_existing_state()"
   ]
  },
  {
   "cell_type": "markdown",
   "metadata": {
    "slideshow": {
     "slide_type": "subslide"
    }
   },
   "source": [
    "Finding a new state means that we mine a new grammar for the newly found state, and update our existing grammar with it."
   ]
  },
  {
   "cell_type": "code",
   "execution_count": 122,
   "metadata": {
    "slideshow": {
     "slide_type": "fragment"
    }
   },
   "outputs": [],
   "source": [
    "class GUIFuzzer(GUIFuzzer):\n",
    "    def set_grammar(self, new_grammar):\n",
    "        self.grammar = new_grammar\n",
    "        \n",
    "        if self.disp_gui_exploration and rich_output():\n",
    "            display(fsm_diagram(self.grammar))"
   ]
  },
  {
   "cell_type": "code",
   "execution_count": 123,
   "metadata": {
    "slideshow": {
     "slide_type": "subslide"
    }
   },
   "outputs": [],
   "source": [
    "class GUIFuzzer(GUIFuzzer):\n",
    "    def update_new_state(self):\n",
    "        if self.log_gui_exploration:\n",
    "            print(\"In new state\", unicode_escape(self.state_symbol), unicode_escape(repr(self.state)))\n",
    "\n",
    "        state_grammar = self.miner.mine_state_grammar(grammar=self.grammar, \n",
    "                                                      state_symbol=self.state_symbol)\n",
    "        del state_grammar[START_SYMBOL]\n",
    "        del state_grammar[GUIGrammarMiner.START_STATE]\n",
    "        self.set_grammar(extend_grammar(self.grammar, state_grammar))"
   ]
  },
  {
   "cell_type": "markdown",
   "metadata": {
    "slideshow": {
     "slide_type": "subslide"
    }
   },
   "source": [
    "If we find an existing state, we need to _merge_ both states.  If, for instance, we find that we are in existing `<state-1>` rather than in the expected `<state-3>`, we replace all instances of `<state-3>` in the grammar by `<state-1>`.  The method `replace_symbol()` takes care of the renaming; `update_existing_state()` sets the grammar accordingly."
   ]
  },
  {
   "cell_type": "code",
   "execution_count": 124,
   "metadata": {
    "slideshow": {
     "slide_type": "skip"
    }
   },
   "outputs": [],
   "source": [
    "from Grammars import exp_string, exp_opts"
   ]
  },
  {
   "cell_type": "code",
   "execution_count": 125,
   "metadata": {
    "slideshow": {
     "slide_type": "subslide"
    }
   },
   "outputs": [],
   "source": [
    "def replace_symbol(grammar, old_symbol, new_symbol):\n",
    "    \"\"\"Return a grammar in which all occurrences of `old_symbol` are replaced by `new_symbol`\"\"\"\n",
    "    new_grammar = {}\n",
    "    \n",
    "    for symbol in grammar:\n",
    "        new_expansions = []\n",
    "        for expansion in grammar[symbol]:\n",
    "            new_expansion_string = exp_string(expansion).replace(old_symbol, new_symbol)\n",
    "            if len(exp_opts(expansion)) > 0:\n",
    "                new_expansion = (new_expansion_string, exp_opts(expansion))\n",
    "            else:\n",
    "                new_expansion = new_expansion_string\n",
    "            new_expansions.append(new_expansion)\n",
    "                \n",
    "        new_grammar[symbol] = new_expansions\n",
    "        \n",
    "    # Remove unused parts\n",
    "    for nonterminal in unreachable_nonterminals(new_grammar):\n",
    "        del new_grammar[nonterminal]\n",
    "\n",
    "    return new_grammar"
   ]
  },
  {
   "cell_type": "code",
   "execution_count": 126,
   "metadata": {
    "slideshow": {
     "slide_type": "subslide"
    }
   },
   "outputs": [],
   "source": [
    "class GUIFuzzer(GUIFuzzer):            \n",
    "    def update_existing_state(self):\n",
    "        if self.log_gui_exploration:\n",
    "            print(\"In existing state\", self.states_seen[self.state])\n",
    "\n",
    "        if self.state_symbol != self.states_seen[self.state]:\n",
    "            if self.log_gui_exploration:\n",
    "                print(\"Replacing expected state %s by %s\" %\n",
    "                      (self.state_symbol, self.states_seen[self.state]))\n",
    "            \n",
    "            new_grammar = replace_symbol(self.grammar, self.state_symbol, \n",
    "                                         self.states_seen[self.state])\n",
    "            self.state_symbol = self.states_seen[self.state]\n",
    "            self.set_grammar(new_grammar)"
   ]
  },
  {
   "cell_type": "markdown",
   "metadata": {
    "slideshow": {
     "slide_type": "subslide"
    }
   },
   "source": [
    "This concludes our definitions for `GUIFuzzer`.  We can now put it to use, enabling its logging mechanisms to see what it is doing."
   ]
  },
  {
   "cell_type": "code",
   "execution_count": 127,
   "metadata": {
    "slideshow": {
     "slide_type": "fragment"
    }
   },
   "outputs": [],
   "source": [
    "gui_driver.get(httpd_url)"
   ]
  },
  {
   "cell_type": "code",
   "execution_count": 128,
   "metadata": {
    "slideshow": {
     "slide_type": "fragment"
    }
   },
   "outputs": [],
   "source": [
    "gui_fuzzer = GUIFuzzer(gui_driver, log_gui_exploration=True, disp_gui_exploration=True)"
   ]
  },
  {
   "cell_type": "markdown",
   "metadata": {
    "slideshow": {
     "slide_type": "fragment"
    }
   },
   "source": [
    "Running it the first time yields a new state:"
   ]
  },
  {
   "cell_type": "code",
   "execution_count": 129,
   "metadata": {
    "slideshow": {
     "slide_type": "fragment"
    }
   },
   "outputs": [
    {
     "name": "stdout",
     "output_type": "stream",
     "text": [
      "Action click('terms and conditions') -> <state-1>\n"
     ]
    },
    {
     "data": {
      "image/png": "[encoded data removed]",
      "text/plain": [
       "<IPython.core.display.Image object>"
      ]
     },
     "metadata": {},
     "output_type": "display_data"
    },
    {
     "name": "stdout",
     "output_type": "stream",
     "text": [
      "In new state <state-1> frozenset({\"ignore('Creative Commons Attribution-NonCommercial-ShareAlike 4.0 International License.')\", \"click('order form')\"})\n"
     ]
    },
    {
     "data": {
      "image/svg+xml": [
       "<?xml version=\"1.0\" encoding=\"UTF-8\" standalone=\"no\"?>\n",
       "<!DOCTYPE svg PUBLIC \"-//W3C//DTD SVG 1.1//EN\"\n",
       " \"http://www.w3.org/Graphics/SVG/1.1/DTD/svg11.dtd\">\n",
       "<!-- Generated by graphviz version 2.40.1 (20161225.0304)\n",
       " -->\n",
       "<!-- Title: %3 Pages: 1 -->\n",
       "<svg width=\"381pt\" height=\"460pt\"\n",
       " viewBox=\"0.00 0.00 381.39 460.00\" xmlns=\"http://www.w3.org/2000/svg\" xmlns:xlink=\"http://www.w3.org/1999/xlink\">\n",
       "<g id=\"graph0\" class=\"graph\" transform=\"scale(1 1) rotate(0) translate(4 456)\">\n",
       "<title>%3</title>\n",
       "<polygon fill=\"#ffffff\" stroke=\"transparent\" points=\"-4,4 -4,-456 377.3924,-456 377.3924,4 -4,4\"/>\n",
       "<!-- start -->\n",
       "<g id=\"node1\" class=\"node\">\n",
       "<title>start</title>\n",
       "<ellipse fill=\"none\" stroke=\"#000000\" cx=\"188.3924\" cy=\"-434\" rx=\"36.2938\" ry=\"18\"/>\n",
       "<text text-anchor=\"middle\" x=\"188.3924\" y=\"-430.3\" font-family=\"Times,serif\" font-size=\"14.00\" fill=\"#000000\">&lt;start&gt;</text>\n",
       "</g>\n",
       "<!-- state -->\n",
       "<g id=\"node2\" class=\"node\">\n",
       "<title>state</title>\n",
       "<ellipse fill=\"none\" stroke=\"#000000\" cx=\"188.3924\" cy=\"-361\" rx=\"37.8943\" ry=\"18\"/>\n",
       "<text text-anchor=\"middle\" x=\"188.3924\" y=\"-357.3\" font-family=\"Times,serif\" font-size=\"14.00\" fill=\"#000000\">&lt;state&gt;</text>\n",
       "</g>\n",
       "<!-- start&#45;&gt;state -->\n",
       "<g id=\"edge1\" class=\"edge\">\n",
       "<title>start&#45;&gt;state</title>\n",
       "<path fill=\"none\" stroke=\"#000000\" d=\"M188.3924,-415.9551C188.3924,-407.8828 188.3924,-398.1764 188.3924,-389.1817\"/>\n",
       "<polygon fill=\"#000000\" stroke=\"#000000\" points=\"191.8925,-389.0903 188.3924,-379.0904 184.8925,-389.0904 191.8925,-389.0903\"/>\n",
       "</g>\n",
       "<!-- state&#45;1 -->\n",
       "<g id=\"node3\" class=\"node\">\n",
       "<title>state&#45;1</title>\n",
       "<ellipse fill=\"none\" stroke=\"#000000\" cx=\"46.3924\" cy=\"-199\" rx=\"45.4919\" ry=\"18\"/>\n",
       "<text text-anchor=\"middle\" x=\"46.3924\" y=\"-195.3\" font-family=\"Times,serif\" font-size=\"14.00\" fill=\"#000000\">&lt;state&#45;1&gt;</text>\n",
       "</g>\n",
       "<!-- state&#45;&gt;state&#45;1 -->\n",
       "<g id=\"edge2\" class=\"edge\">\n",
       "<title>state&#45;&gt;state&#45;1</title>\n",
       "<path fill=\"none\" stroke=\"#000000\" d=\"M150.9086,-358.5933C105.2555,-354.7899 32.1364,-345.587 15.3924,-325 -9.8468,-293.968 1.4717,-272.4995 15.3924,-235 16.8778,-230.9985 19.0295,-227.1437 21.5173,-223.5398\"/>\n",
       "<polygon fill=\"#000000\" stroke=\"#000000\" points=\"24.3127,-225.6476 27.777,-215.6351 18.825,-221.3018 24.3127,-225.6476\"/>\n",
       "<text text-anchor=\"start\" x=\"15.3924\" y=\"-276.3\" font-family=\"Times,serif\" font-size=\"14.00\" fill=\"#000000\">click(&#39;terms and conditions&#39;)</text>\n",
       "</g>\n",
       "<!-- state&#45;2 -->\n",
       "<g id=\"node4\" class=\"node\">\n",
       "<title>state&#45;2</title>\n",
       "<ellipse fill=\"none\" stroke=\"#000000\" cx=\"248.3924\" cy=\"-145\" rx=\"45.4919\" ry=\"18\"/>\n",
       "<text text-anchor=\"middle\" x=\"248.3924\" y=\"-141.3\" font-family=\"Times,serif\" font-size=\"14.00\" fill=\"#000000\">&lt;state&#45;2&gt;</text>\n",
       "</g>\n",
       "<!-- state&#45;&gt;state&#45;2 -->\n",
       "<g id=\"edge3\" class=\"edge\">\n",
       "<title>state&#45;&gt;state&#45;2</title>\n",
       "<path fill=\"none\" stroke=\"#000000\" d=\"M195.8017,-343.2074C198.0669,-337.4502 200.4661,-331.0021 202.3924,-325 219.3635,-272.1187 234.3153,-208.942 242.2864,-173.2429\"/>\n",
       "<polygon fill=\"#000000\" stroke=\"#000000\" points=\"245.7902,-173.6076 244.5306,-163.0879 238.9551,-172.097 245.7902,-173.6076\"/>\n",
       "<text text-anchor=\"start\" x=\"227.3924\" y=\"-313.8\" font-family=\"Times,serif\" font-size=\"14.00\" fill=\"#000000\">check(&#39;terms&#39;, &lt;boolean&gt;)</text>\n",
       "<text text-anchor=\"start\" x=\"227.3924\" y=\"-298.8\" font-family=\"Times,serif\" font-size=\"14.00\" fill=\"#000000\">fill(&#39;city&#39;, &#39;&lt;text&gt;&#39;)</text>\n",
       "<text text-anchor=\"start\" x=\"227.3924\" y=\"-283.8\" font-family=\"Times,serif\" font-size=\"14.00\" fill=\"#000000\">fill(&#39;zip&#39;, &#39;&lt;number&gt;&#39;)</text>\n",
       "<text text-anchor=\"start\" x=\"227.3924\" y=\"-268.8\" font-family=\"Times,serif\" font-size=\"14.00\" fill=\"#000000\">fill(&#39;email&#39;, &#39;&lt;email&gt;&#39;)</text>\n",
       "<text text-anchor=\"start\" x=\"227.3924\" y=\"-253.8\" font-family=\"Times,serif\" font-size=\"14.00\" fill=\"#000000\">fill(&#39;name&#39;, &#39;&lt;text&gt;&#39;)</text>\n",
       "<text text-anchor=\"start\" x=\"227.3924\" y=\"-238.8\" font-family=\"Times,serif\" font-size=\"14.00\" fill=\"#000000\">submit(&#39;submit&#39;)</text>\n",
       "</g>\n",
       "<!-- end -->\n",
       "<g id=\"node5\" class=\"node\">\n",
       "<title>end</title>\n",
       "<ellipse fill=\"none\" stroke=\"#000000\" cx=\"169.3924\" cy=\"-91\" rx=\"34.394\" ry=\"18\"/>\n",
       "<text text-anchor=\"middle\" x=\"169.3924\" y=\"-87.3\" font-family=\"Times,serif\" font-size=\"14.00\" fill=\"#000000\">&lt;end&gt;</text>\n",
       "</g>\n",
       "<!-- state&#45;&gt;end -->\n",
       "<g id=\"edge4\" class=\"edge\">\n",
       "<title>state&#45;&gt;end</title>\n",
       "<path fill=\"none\" stroke=\"#000000\" d=\"M187.2397,-342.7887C184.7268,-303.4088 178.4903,-207.3944 172.3924,-127 172.2083,-124.5728 172.011,-122.0541 171.8089,-119.5274\"/>\n",
       "<polygon fill=\"#000000\" stroke=\"#000000\" points=\"175.2767,-118.9905 170.9712,-109.3099 168.3001,-119.5625 175.2767,-118.9905\"/>\n",
       "</g>\n",
       "<!-- state&#45;1&#45;&gt;end -->\n",
       "<g id=\"edge6\" class=\"edge\">\n",
       "<title>state&#45;1&#45;&gt;end</title>\n",
       "<path fill=\"none\" stroke=\"#000000\" d=\"M89.8154,-193.3002C110.4456,-188.4618 133.9169,-179.5204 149.3924,-163 160.3832,-151.267 165.4199,-134.0219 167.6914,-119.3505\"/>\n",
       "<polygon fill=\"#000000\" stroke=\"#000000\" points=\"171.1884,-119.5831 168.9023,-109.2379 164.2381,-118.7508 171.1884,-119.5831\"/>\n",
       "</g>\n",
       "<!-- state&#45;3 -->\n",
       "<g id=\"node6\" class=\"node\">\n",
       "<title>state&#45;3</title>\n",
       "<ellipse fill=\"none\" stroke=\"#000000\" cx=\"62.3924\" cy=\"-91\" rx=\"45.4919\" ry=\"18\"/>\n",
       "<text text-anchor=\"middle\" x=\"62.3924\" y=\"-87.3\" font-family=\"Times,serif\" font-size=\"14.00\" fill=\"#000000\">&lt;state&#45;3&gt;</text>\n",
       "</g>\n",
       "<!-- state&#45;1&#45;&gt;state&#45;3 -->\n",
       "<g id=\"edge5\" class=\"edge\">\n",
       "<title>state&#45;1&#45;&gt;state&#45;3</title>\n",
       "<path fill=\"none\" stroke=\"#000000\" d=\"M44.7537,-180.7434C43.8871,-166.0638 43.6633,-144.9944 47.3924,-127 47.9849,-124.1408 48.8034,-121.2233 49.755,-118.3483\"/>\n",
       "<polygon fill=\"#000000\" stroke=\"#000000\" points=\"53.0715,-119.4744 53.368,-108.8837 46.5318,-116.978 53.0715,-119.4744\"/>\n",
       "<text text-anchor=\"start\" x=\"47.3924\" y=\"-141.3\" font-family=\"Times,serif\" font-size=\"14.00\" fill=\"#000000\">click(&#39;order form&#39;)</text>\n",
       "</g>\n",
       "<!-- unexplored -->\n",
       "<g id=\"node7\" class=\"node\">\n",
       "<title>unexplored</title>\n",
       "<ellipse fill=\"none\" stroke=\"#000000\" cx=\"152.3924\" cy=\"-18\" rx=\"61.99\" ry=\"18\"/>\n",
       "<text text-anchor=\"middle\" x=\"152.3924\" y=\"-14.3\" font-family=\"Times,serif\" font-size=\"14.00\" fill=\"#000000\">&lt;unexplored&gt;</text>\n",
       "</g>\n",
       "<!-- state&#45;2&#45;&gt;unexplored -->\n",
       "<g id=\"edge7\" class=\"edge\">\n",
       "<title>state&#45;2&#45;&gt;unexplored</title>\n",
       "<path fill=\"none\" stroke=\"#000000\" d=\"M241.6053,-127.1013C235.3419,-111.8701 225.1004,-89.8475 212.3924,-73 203.7804,-61.5829 192.6006,-50.5972 182.2291,-41.4861\"/>\n",
       "<polygon fill=\"#000000\" stroke=\"#000000\" points=\"184.3925,-38.7312 174.5114,-34.9082 179.8517,-44.0587 184.3925,-38.7312\"/>\n",
       "</g>\n",
       "<!-- state&#45;3&#45;&gt;unexplored -->\n",
       "<g id=\"edge8\" class=\"edge\">\n",
       "<title>state&#45;3&#45;&gt;unexplored</title>\n",
       "<path fill=\"none\" stroke=\"#000000\" d=\"M82.3663,-74.7989C94.3743,-65.0591 109.8683,-52.4917 123.228,-41.6555\"/>\n",
       "<polygon fill=\"#000000\" stroke=\"#000000\" points=\"125.6586,-44.1906 131.2203,-35.1729 121.249,-38.7541 125.6586,-44.1906\"/>\n",
       "</g>\n",
       "</g>\n",
       "</svg>\n"
      ],
      "text/plain": [
       "<graphviz.dot.Digraph at 0x1193476d8>"
      ]
     },
     "metadata": {},
     "output_type": "display_data"
    },
    {
     "data": {
      "text/plain": [
       "None"
      ]
     },
     "metadata": {},
     "output_type": "display_data"
    },
    {
     "data": {
      "text/plain": [
       "('<state-1>', 'PASS')"
      ]
     },
     "execution_count": 129,
     "metadata": {},
     "output_type": "execute_result"
    }
   ],
   "source": [
    "gui_fuzzer.run(gui_runner)"
   ]
  },
  {
   "cell_type": "markdown",
   "metadata": {
    "slideshow": {
     "slide_type": "fragment"
    }
   },
   "source": [
    "The next actions fill out the order form."
   ]
  },
  {
   "cell_type": "code",
   "execution_count": 130,
   "metadata": {
    "slideshow": {
     "slide_type": "subslide"
    }
   },
   "outputs": [
    {
     "name": "stdout",
     "output_type": "stream",
     "text": [
      "Action  -> <end>\n"
     ]
    },
    {
     "data": {
      "text/plain": [
       "('<end>', 'PASS')"
      ]
     },
     "execution_count": 130,
     "metadata": {},
     "output_type": "execute_result"
    }
   ],
   "source": [
    "gui_fuzzer.run(gui_runner)"
   ]
  },
  {
   "cell_type": "code",
   "execution_count": 131,
   "metadata": {
    "slideshow": {
     "slide_type": "fragment"
    }
   },
   "outputs": [
    {
     "name": "stdout",
     "output_type": "stream",
     "text": [
      "Action  -> <end>\n"
     ]
    },
    {
     "data": {
      "text/plain": [
       "('<end>', 'PASS')"
      ]
     },
     "execution_count": 131,
     "metadata": {},
     "output_type": "execute_result"
    }
   ],
   "source": [
    "gui_fuzzer.run(gui_runner)"
   ]
  },
  {
   "cell_type": "markdown",
   "metadata": {
    "slideshow": {
     "slide_type": "fragment"
    }
   },
   "source": [
    "At this point, our GUI model is fairly complete already.  In order to systematically cover _all_ states, random exploration is not efficient enough, though."
   ]
  },
  {
   "cell_type": "markdown",
   "metadata": {
    "slideshow": {
     "slide_type": "slide"
    }
   },
   "source": [
    "## Covering States\n",
    "\n",
    "During exploration as well as during testing, we want to _cover_ all states and transitions between states.  How can we achieve this?"
   ]
  },
  {
   "cell_type": "markdown",
   "metadata": {
    "slideshow": {
     "slide_type": "fragment"
    }
   },
   "source": [
    "It turns out that _we already have this._  Our `GrammarCoverageFuzzer` from the [chapter on coverage-based grammar testing](GrammarCoverageFuzzer.ipynb) strives to systematically _cover all expansion alternatives_ in a grammar.  In the finite state model, these expansion alternatives translate into transitions between states.  Hence, applying the coverage strategy from `GrammarCoverageFuzzer` to our state grammars would automatically cover one transition after another."
   ]
  },
  {
   "cell_type": "markdown",
   "metadata": {
    "slideshow": {
     "slide_type": "subslide"
    }
   },
   "source": [
    "How do we get these features into `GUIFuzzer`?  Using _multiple inheritance_, we can create a class `GUICoverageFuzzer` which combines the `run()` method from `GUIFuzzer` with the coverage choices from `GrammarCoverageFuzzer`."
   ]
  },
  {
   "cell_type": "code",
   "execution_count": 132,
   "metadata": {
    "slideshow": {
     "slide_type": "skip"
    }
   },
   "outputs": [],
   "source": [
    "from GrammarCoverageFuzzer import GrammarCoverageFuzzer"
   ]
  },
  {
   "cell_type": "code",
   "execution_count": 133,
   "metadata": {
    "slideshow": {
     "slide_type": "skip"
    }
   },
   "outputs": [],
   "source": [
    "from fuzzingbook_utils import inheritance_conflicts"
   ]
  },
  {
   "cell_type": "markdown",
   "metadata": {
    "slideshow": {
     "slide_type": "fragment"
    }
   },
   "source": [
    "Since the `__init__()` constructor is defined in both superclasses, we need to define our own constructor that serves both:"
   ]
  },
  {
   "cell_type": "code",
   "execution_count": 134,
   "metadata": {
    "slideshow": {
     "slide_type": "fragment"
    }
   },
   "outputs": [
    {
     "data": {
      "text/plain": [
       "['__init__']"
      ]
     },
     "execution_count": 134,
     "metadata": {},
     "output_type": "execute_result"
    }
   ],
   "source": [
    "inheritance_conflicts(GUIFuzzer, GrammarCoverageFuzzer)"
   ]
  },
  {
   "cell_type": "code",
   "execution_count": 135,
   "metadata": {
    "slideshow": {
     "slide_type": "fragment"
    }
   },
   "outputs": [],
   "source": [
    "class GUICoverageFuzzer(GUIFuzzer, GrammarCoverageFuzzer):\n",
    "    def __init__(self, *args, **kwargs):\n",
    "        GUIFuzzer.__init__(self, *args, **kwargs)\n",
    "        self.reset_coverage()"
   ]
  },
  {
   "cell_type": "markdown",
   "metadata": {
    "slideshow": {
     "slide_type": "fragment"
    }
   },
   "source": [
    "With `GUICoverageFuzzer`, we can set up a method `explore_all()` that keeps on running the fuzzer until there are no unexplored states anymore:"
   ]
  },
  {
   "cell_type": "code",
   "execution_count": 136,
   "metadata": {
    "slideshow": {
     "slide_type": "subslide"
    }
   },
   "outputs": [],
   "source": [
    "class GUICoverageFuzzer(GUICoverageFuzzer):            \n",
    "    def explore_all(self, runner, max_actions=100):\n",
    "        actions = 0\n",
    "        while GUIGrammarMiner.UNEXPLORED_STATE in self.grammar and actions < max_actions:\n",
    "            actions += 1\n",
    "            if self.log_gui_exploration:\n",
    "                print(\"Run #\" + repr(actions))\n",
    "            try:\n",
    "                self.run(runner)\n",
    "            except ElementClickInterceptedException:\n",
    "                pass\n",
    "            except ElementNotInteractableException:\n",
    "                pass\n",
    "            except NoSuchElementException:\n",
    "                pass"
   ]
  },
  {
   "cell_type": "markdown",
   "metadata": {
    "slideshow": {
     "slide_type": "subslide"
    }
   },
   "source": [
    "Let us use this to fully explore our Web server:"
   ]
  },
  {
   "cell_type": "code",
   "execution_count": 137,
   "metadata": {
    "slideshow": {
     "slide_type": "fragment"
    }
   },
   "outputs": [],
   "source": [
    "gui_driver.get(httpd_url)"
   ]
  },
  {
   "cell_type": "code",
   "execution_count": 138,
   "metadata": {
    "slideshow": {
     "slide_type": "fragment"
    }
   },
   "outputs": [],
   "source": [
    "gui_fuzzer = GUICoverageFuzzer(gui_driver)"
   ]
  },
  {
   "cell_type": "code",
   "execution_count": 139,
   "metadata": {
    "slideshow": {
     "slide_type": "fragment"
    }
   },
   "outputs": [],
   "source": [
    "gui_fuzzer.explore_all(gui_runner)"
   ]
  },
  {
   "cell_type": "markdown",
   "metadata": {
    "slideshow": {
     "slide_type": "fragment"
    }
   },
   "source": [
    "Success! We have covered all states:"
   ]
  },
  {
   "cell_type": "code",
   "execution_count": 140,
   "metadata": {
    "slideshow": {
     "slide_type": "fragment"
    }
   },
   "outputs": [
    {
     "data": {
      "image/svg+xml": [
       "<?xml version=\"1.0\" encoding=\"UTF-8\" standalone=\"no\"?>\n",
       "<!DOCTYPE svg PUBLIC \"-//W3C//DTD SVG 1.1//EN\"\n",
       " \"http://www.w3.org/Graphics/SVG/1.1/DTD/svg11.dtd\">\n",
       "<!-- Generated by graphviz version 2.40.1 (20161225.0304)\n",
       " -->\n",
       "<!-- Title: %3 Pages: 1 -->\n",
       "<svg width=\"620pt\" height=\"352pt\"\n",
       " viewBox=\"0.00 0.00 620.29 352.00\" xmlns=\"http://www.w3.org/2000/svg\" xmlns:xlink=\"http://www.w3.org/1999/xlink\">\n",
       "<g id=\"graph0\" class=\"graph\" transform=\"scale(1 1) rotate(0) translate(4 348)\">\n",
       "<title>%3</title>\n",
       "<polygon fill=\"#ffffff\" stroke=\"transparent\" points=\"-4,4 -4,-348 616.2856,-348 616.2856,4 -4,4\"/>\n",
       "<!-- start -->\n",
       "<g id=\"node1\" class=\"node\">\n",
       "<title>start</title>\n",
       "<ellipse fill=\"none\" stroke=\"#000000\" cx=\"325.559\" cy=\"-326\" rx=\"36.2938\" ry=\"18\"/>\n",
       "<text text-anchor=\"middle\" x=\"325.559\" y=\"-322.3\" font-family=\"Times,serif\" font-size=\"14.00\" fill=\"#000000\">&lt;start&gt;</text>\n",
       "</g>\n",
       "<!-- state -->\n",
       "<g id=\"node2\" class=\"node\">\n",
       "<title>state</title>\n",
       "<ellipse fill=\"none\" stroke=\"#000000\" cx=\"325.559\" cy=\"-253\" rx=\"37.8943\" ry=\"18\"/>\n",
       "<text text-anchor=\"middle\" x=\"325.559\" y=\"-249.3\" font-family=\"Times,serif\" font-size=\"14.00\" fill=\"#000000\">&lt;state&gt;</text>\n",
       "</g>\n",
       "<!-- start&#45;&gt;state -->\n",
       "<g id=\"edge1\" class=\"edge\">\n",
       "<title>start&#45;&gt;state</title>\n",
       "<path fill=\"none\" stroke=\"#000000\" d=\"M325.559,-307.9551C325.559,-299.8828 325.559,-290.1764 325.559,-281.1817\"/>\n",
       "<polygon fill=\"#000000\" stroke=\"#000000\" points=\"329.0591,-281.0903 325.559,-271.0904 322.0591,-281.0904 329.0591,-281.0903\"/>\n",
       "</g>\n",
       "<!-- state&#45;1 -->\n",
       "<g id=\"node3\" class=\"node\">\n",
       "<title>state&#45;1</title>\n",
       "<ellipse fill=\"none\" stroke=\"#000000\" cx=\"200.559\" cy=\"-91\" rx=\"45.4919\" ry=\"18\"/>\n",
       "<text text-anchor=\"middle\" x=\"200.559\" y=\"-87.3\" font-family=\"Times,serif\" font-size=\"14.00\" fill=\"#000000\">&lt;state&#45;1&gt;</text>\n",
       "</g>\n",
       "<!-- state&#45;&gt;state&#45;1 -->\n",
       "<g id=\"edge2\" class=\"edge\">\n",
       "<title>state&#45;&gt;state&#45;1</title>\n",
       "<path fill=\"none\" stroke=\"#000000\" d=\"M287.9696,-251.326C210.145,-247.4741 37.132,-236.7616 19.559,-217 -7.0216,-187.109 -5.817,-157.9202 19.559,-127 35.276,-107.8491 98.0593,-98.6985 145.3065,-94.4548\"/>\n",
       "<polygon fill=\"#000000\" stroke=\"#000000\" points=\"145.7619,-97.9289 155.4311,-93.5979 145.1715,-90.9538 145.7619,-97.9289\"/>\n",
       "<text text-anchor=\"start\" x=\"19.559\" y=\"-168.3\" font-family=\"Times,serif\" font-size=\"14.00\" fill=\"#000000\">click(&#39;terms and conditions&#39;)</text>\n",
       "</g>\n",
       "<!-- state&#45;2 -->\n",
       "<g id=\"node4\" class=\"node\">\n",
       "<title>state&#45;2</title>\n",
       "<ellipse fill=\"none\" stroke=\"#000000\" cx=\"409.559\" cy=\"-91\" rx=\"45.4919\" ry=\"18\"/>\n",
       "<text text-anchor=\"middle\" x=\"409.559\" y=\"-87.3\" font-family=\"Times,serif\" font-size=\"14.00\" fill=\"#000000\">&lt;state&#45;2&gt;</text>\n",
       "</g>\n",
       "<!-- state&#45;&gt;state&#45;2 -->\n",
       "<g id=\"edge3\" class=\"edge\">\n",
       "<title>state&#45;&gt;state&#45;2</title>\n",
       "<path fill=\"none\" stroke=\"#000000\" d=\"M320.0242,-234.9601C313.1594,-208.7877 304.8239,-159.834 326.559,-127 334.0896,-115.6239 346.0651,-107.8231 358.6022,-102.4812\"/>\n",
       "<polygon fill=\"#000000\" stroke=\"#000000\" points=\"360.1077,-105.6543 368.2346,-98.8569 357.6426,-99.1027 360.1077,-105.6543\"/>\n",
       "<text text-anchor=\"start\" x=\"326.559\" y=\"-205.8\" font-family=\"Times,serif\" font-size=\"14.00\" fill=\"#000000\">check(&#39;terms&#39;, &lt;boolean&gt;)</text>\n",
       "<text text-anchor=\"start\" x=\"326.559\" y=\"-190.8\" font-family=\"Times,serif\" font-size=\"14.00\" fill=\"#000000\">fill(&#39;city&#39;, &#39;&lt;text&gt;&#39;)</text>\n",
       "<text text-anchor=\"start\" x=\"326.559\" y=\"-175.8\" font-family=\"Times,serif\" font-size=\"14.00\" fill=\"#000000\">fill(&#39;zip&#39;, &#39;&lt;number&gt;&#39;)</text>\n",
       "<text text-anchor=\"start\" x=\"326.559\" y=\"-160.8\" font-family=\"Times,serif\" font-size=\"14.00\" fill=\"#000000\">fill(&#39;email&#39;, &#39;&lt;email&gt;&#39;)</text>\n",
       "<text text-anchor=\"start\" x=\"326.559\" y=\"-145.8\" font-family=\"Times,serif\" font-size=\"14.00\" fill=\"#000000\">fill(&#39;name&#39;, &#39;&lt;text&gt;&#39;)</text>\n",
       "<text text-anchor=\"start\" x=\"326.559\" y=\"-130.8\" font-family=\"Times,serif\" font-size=\"14.00\" fill=\"#000000\">submit(&#39;submit&#39;)</text>\n",
       "</g>\n",
       "<!-- end -->\n",
       "<g id=\"node5\" class=\"node\">\n",
       "<title>end</title>\n",
       "<ellipse fill=\"none\" stroke=\"#000000\" cx=\"409.559\" cy=\"-18\" rx=\"34.394\" ry=\"18\"/>\n",
       "<text text-anchor=\"middle\" x=\"409.559\" y=\"-14.3\" font-family=\"Times,serif\" font-size=\"14.00\" fill=\"#000000\">&lt;end&gt;</text>\n",
       "</g>\n",
       "<!-- state&#45;&gt;end -->\n",
       "<g id=\"edge4\" class=\"edge\">\n",
       "<title>state&#45;&gt;end</title>\n",
       "<path fill=\"none\" stroke=\"#000000\" d=\"M363.147,-250.6776C433.5438,-245.9431 579.5487,-234.1529 594.559,-217 620.9007,-186.8982 614.4058,-161.729 594.559,-127 563.7784,-73.1385 494.8403,-43.2426 450.3606,-28.9147\"/>\n",
       "<polygon fill=\"#000000\" stroke=\"#000000\" points=\"451.3032,-25.5427 440.7153,-25.9273 449.2321,-32.2293 451.3032,-25.5427\"/>\n",
       "</g>\n",
       "<!-- state&#45;1&#45;&gt;state -->\n",
       "<g id=\"edge5\" class=\"edge\">\n",
       "<title>state&#45;1&#45;&gt;state</title>\n",
       "<path fill=\"none\" stroke=\"#000000\" d=\"M195.3433,-109.0438C188.8335,-135.6645 181.2799,-185.6845 205.559,-217 214.9283,-229.0847 250.2054,-238.7545 280.1047,-245.0166\"/>\n",
       "<polygon fill=\"#000000\" stroke=\"#000000\" points=\"279.4988,-248.4648 289.9931,-247.0082 280.881,-241.6026 279.4988,-248.4648\"/>\n",
       "<text text-anchor=\"start\" x=\"205.559\" y=\"-168.3\" font-family=\"Times,serif\" font-size=\"14.00\" fill=\"#000000\">click(&#39;order form&#39;)</text>\n",
       "</g>\n",
       "<!-- state&#45;1&#45;&gt;end -->\n",
       "<g id=\"edge6\" class=\"edge\">\n",
       "<title>state&#45;1&#45;&gt;end</title>\n",
       "<path fill=\"none\" stroke=\"#000000\" d=\"M235.0711,-78.9455C272.4281,-65.8974 331.8696,-45.1355 370.805,-31.5361\"/>\n",
       "<polygon fill=\"#000000\" stroke=\"#000000\" points=\"372.4347,-34.6743 380.7213,-28.0725 370.1265,-28.0658 372.4347,-34.6743\"/>\n",
       "</g>\n",
       "<!-- state&#45;2&#45;&gt;state -->\n",
       "<g id=\"edge7\" class=\"edge\">\n",
       "<title>state&#45;2&#45;&gt;state</title>\n",
       "<path fill=\"none\" stroke=\"#000000\" d=\"M444.5179,-102.8416C455.4594,-108.3858 466.2993,-116.2134 472.559,-127 492.6361,-161.5964 497.2512,-185.531 472.559,-217 460.2382,-232.7022 410.7697,-242.4461 372.5835,-247.7735\"/>\n",
       "<polygon fill=\"#000000\" stroke=\"#000000\" points=\"372.1013,-244.3067 362.6512,-249.097 373.0259,-251.2454 372.1013,-244.3067\"/>\n",
       "<text text-anchor=\"start\" x=\"488.559\" y=\"-168.3\" font-family=\"Times,serif\" font-size=\"14.00\" fill=\"#000000\">click(&#39;order form&#39;)</text>\n",
       "</g>\n",
       "<!-- state&#45;2&#45;&gt;end -->\n",
       "<g id=\"edge8\" class=\"edge\">\n",
       "<title>state&#45;2&#45;&gt;end</title>\n",
       "<path fill=\"none\" stroke=\"#000000\" d=\"M409.559,-72.9551C409.559,-64.8828 409.559,-55.1764 409.559,-46.1817\"/>\n",
       "<polygon fill=\"#000000\" stroke=\"#000000\" points=\"413.0591,-46.0903 409.559,-36.0904 406.0591,-46.0904 413.0591,-46.0903\"/>\n",
       "</g>\n",
       "</g>\n",
       "</svg>\n"
      ],
      "text/plain": [
       "<graphviz.dot.Digraph at 0x119541c50>"
      ]
     },
     "metadata": {},
     "output_type": "display_data"
    }
   ],
   "source": [
    "fsm_diagram(gui_fuzzer.grammar)"
   ]
  },
  {
   "cell_type": "markdown",
   "metadata": {
    "slideshow": {
     "slide_type": "fragment"
    }
   },
   "source": [
    "We can retrieve the expansions covered so far, which of course cover all states."
   ]
  },
  {
   "cell_type": "code",
   "execution_count": 141,
   "metadata": {
    "slideshow": {
     "slide_type": "subslide"
    }
   },
   "outputs": [
    {
     "data": {
      "text/plain": [
       "{'<boolean> -> False',\n",
       " '<boolean> -> True',\n",
       " '<character> -> <digit>',\n",
       " '<character> -> <letter>',\n",
       " '<character> -> <special>',\n",
       " '<digit> -> 0',\n",
       " '<digit> -> 2',\n",
       " '<digit> -> 3',\n",
       " '<digit> -> 4',\n",
       " '<digit> -> 5',\n",
       " '<digit> -> 7',\n",
       " '<digit> -> 9',\n",
       " '<digits> -> <digit>',\n",
       " '<digits> -> <digits><digit>',\n",
       " '<email> -> <letters>@<letters>',\n",
       " '<end> -> ',\n",
       " '<letter> -> F',\n",
       " '<letter> -> L',\n",
       " '<letter> -> S',\n",
       " '<letter> -> T',\n",
       " '<letter> -> V',\n",
       " '<letter> -> c',\n",
       " '<letter> -> d',\n",
       " '<letter> -> e',\n",
       " '<letter> -> f',\n",
       " '<letter> -> g',\n",
       " '<letter> -> j',\n",
       " '<letter> -> l',\n",
       " '<letter> -> m',\n",
       " '<letter> -> q',\n",
       " '<letter> -> u',\n",
       " '<letter> -> w',\n",
       " '<letters> -> <letter>',\n",
       " '<letters> -> <letters><letter>',\n",
       " '<number> -> <digits>',\n",
       " '<special> -> .',\n",
       " '<start> -> <state>',\n",
       " '<state-1> -> <unexplored>',\n",
       " \"<state-1> -> click('order form')\\n<state-4>\",\n",
       " '<state-2> -> <end>',\n",
       " '<state-2> -> <unexplored>',\n",
       " \"<state-2> -> click('order form')\\n<state-3>\",\n",
       " '<state-3> -> <unexplored>',\n",
       " '<state-4> -> <unexplored>',\n",
       " '<state> -> <end>',\n",
       " \"<state> -> check('terms', <boolean>)\\nfill('city', '<text>')\\nfill('zip', '<number>')\\nfill('email', '<email>')\\nfill('name', '<text>')\\nsubmit('submit')\\n<state-2>\",\n",
       " \"<state> -> click('terms and conditions')\\n<state-1>\",\n",
       " '<string> -> <character>',\n",
       " '<string> -> <string><character>',\n",
       " '<text> -> <string>',\n",
       " '<unexplored> -> '}"
      ]
     },
     "execution_count": 141,
     "metadata": {},
     "output_type": "execute_result"
    }
   ],
   "source": [
    "gui_fuzzer.covered_expansions"
   ]
  },
  {
   "cell_type": "markdown",
   "metadata": {
    "slideshow": {
     "slide_type": "subslide"
    }
   },
   "source": [
    "Still, we haven't seen all expansions covered.  A few digits and letters remain to be used."
   ]
  },
  {
   "cell_type": "code",
   "execution_count": 142,
   "metadata": {
    "slideshow": {
     "slide_type": "subslide"
    }
   },
   "outputs": [
    {
     "data": {
      "text/plain": [
       "{'<digit> -> 1',\n",
       " '<digit> -> 6',\n",
       " '<digit> -> 8',\n",
       " '<letter> -> A',\n",
       " '<letter> -> B',\n",
       " '<letter> -> C',\n",
       " '<letter> -> D',\n",
       " '<letter> -> E',\n",
       " '<letter> -> G',\n",
       " '<letter> -> H',\n",
       " '<letter> -> I',\n",
       " '<letter> -> J',\n",
       " '<letter> -> K',\n",
       " '<letter> -> M',\n",
       " '<letter> -> N',\n",
       " '<letter> -> O',\n",
       " '<letter> -> P',\n",
       " '<letter> -> Q',\n",
       " '<letter> -> R',\n",
       " '<letter> -> U',\n",
       " '<letter> -> W',\n",
       " '<letter> -> X',\n",
       " '<letter> -> Y',\n",
       " '<letter> -> Z',\n",
       " '<letter> -> a',\n",
       " '<letter> -> b',\n",
       " '<letter> -> h',\n",
       " '<letter> -> i',\n",
       " '<letter> -> k',\n",
       " '<letter> -> n',\n",
       " '<letter> -> o',\n",
       " '<letter> -> p',\n",
       " '<letter> -> r',\n",
       " '<letter> -> s',\n",
       " '<letter> -> t',\n",
       " '<letter> -> v',\n",
       " '<letter> -> x',\n",
       " '<letter> -> y',\n",
       " '<letter> -> z',\n",
       " '<special> ->  ',\n",
       " '<special> -> !',\n",
       " '<state-1> -> <end>',\n",
       " \"<state-1> -> click('order form')\\n<state>\",\n",
       " \"<state-2> -> click('order form')\\n<state>\"}"
      ]
     },
     "execution_count": 142,
     "metadata": {},
     "output_type": "execute_result"
    }
   ],
   "source": [
    "gui_fuzzer.missing_expansion_coverage()"
   ]
  },
  {
   "cell_type": "markdown",
   "metadata": {
    "slideshow": {
     "slide_type": "subslide"
    }
   },
   "source": [
    "Running the fuzzer again and again will eventually cover these expansions too, leading to letter and digit coverage within the order form."
   ]
  },
  {
   "cell_type": "markdown",
   "metadata": {
    "button": false,
    "new_sheet": false,
    "run_control": {
     "read_only": false
    },
    "slideshow": {
     "slide_type": "slide"
    }
   },
   "source": [
    "## Exploring Large Sites\n",
    "\n",
    "Our GUI fuzzer is robust enough to handle exploration even on nontrivial sites such as [fuzzingbook.org](https://www.fuzzingbook.org).  Let us demonstrate this:"
   ]
  },
  {
   "cell_type": "code",
   "execution_count": 143,
   "metadata": {
    "slideshow": {
     "slide_type": "fragment"
    }
   },
   "outputs": [],
   "source": [
    "gui_driver.get(\"https://www.fuzzingbook.org/html/Fuzzer.html\")"
   ]
  },
  {
   "cell_type": "code",
   "execution_count": 144,
   "metadata": {
    "slideshow": {
     "slide_type": "fragment"
    }
   },
   "outputs": [
    {
     "data": {
      "image/png": "[encoded data removed]",
      "text/plain": [
       "<IPython.core.display.Image object>"
      ]
     },
     "execution_count": 144,
     "metadata": {},
     "output_type": "execute_result"
    }
   ],
   "source": [
    "Image(gui_driver.get_screenshot_as_png())"
   ]
  },
  {
   "cell_type": "code",
   "execution_count": 145,
   "metadata": {
    "slideshow": {
     "slide_type": "fragment"
    }
   },
   "outputs": [],
   "source": [
    "book_runner = GUIRunner(gui_driver)"
   ]
  },
  {
   "cell_type": "code",
   "execution_count": 146,
   "metadata": {
    "button": false,
    "new_sheet": false,
    "run_control": {
     "read_only": false
    },
    "slideshow": {
     "slide_type": "subslide"
    }
   },
   "outputs": [],
   "source": [
    "book_fuzzer = GUICoverageFuzzer(gui_driver, log_gui_exploration=True)  # , disp_gui_exploration=True)"
   ]
  },
  {
   "cell_type": "markdown",
   "metadata": {
    "slideshow": {
     "slide_type": "fragment"
    }
   },
   "source": [
    "We explore the first few states of the site, defined in `ACTIONS`:"
   ]
  },
  {
   "cell_type": "code",
   "execution_count": 147,
   "metadata": {
    "slideshow": {
     "slide_type": "fragment"
    }
   },
   "outputs": [],
   "source": [
    "ACTIONS = 5"
   ]
  },
  {
   "cell_type": "code",
   "execution_count": 148,
   "metadata": {
    "slideshow": {
     "slide_type": "subslide"
    }
   },
   "outputs": [
    {
     "name": "stdout",
     "output_type": "stream",
     "text": [
      "Run #1\n",
      "Action click('ExpectError') -> <state-8>\n",
      "Run #2\n",
      "Action click('chapter on testing') -> <state-13>\n",
      "Run #3\n",
      "Action click('reduce failing inputs for efficient debugging') -> <state-11>\n",
      "Run #4\n",
      "Action click('Introduction to Testing') -> <state-5>\n",
      "In new state <state-5> frozenset({\"ignore('Use the notebook')\", \"click('use fuzzing to test programs with random inputs')\", \"ignore('Last change: 2019-03-13 21:14:41+01:00')\", \"ignore('Python tutorial')\", \"click('Timer')\", \"ignore('Newton\\xe2\\x80\\x93Raphson method')\", \"ignore('Beizer et al, 1990.')\", \"click('ExpectError')\", \"ignore('Myers et al, 2004.')\", \"ignore('random')\", \"click('Generating Software Tests')\", \"click('Timer module')\", \"click('')\", \"ignore('')\", \"ignore('fuzzingbook_utils')\", \"click('Cite')\", \"ignore('Creative Commons Attribution-NonCommercial-ShareAlike 4.0 International License')\", \"ignore('Shellsort')\", \"ignore('Pezz\\xc3\\xa8 et al, 2008.')\", \"ignore('Imprint')\", \"ignore('MIT License')\"})\n",
      "Run #5\n",
      "Action click('discussed above') -> <state-4>\n",
      "In existing state <state>\n",
      "Replacing expected state <state-4> by <state>\n"
     ]
    }
   ],
   "source": [
    "book_fuzzer.explore_all(book_runner, max_actions=ACTIONS)"
   ]
  },
  {
   "cell_type": "markdown",
   "metadata": {
    "slideshow": {
     "slide_type": "subslide"
    }
   },
   "source": [
    "After the first `ACTIONS` actions already, we can see that the finite state model is quite complex, with dozens of transitions still left to explore.  Most of the yet unexplored states will eventually merge with existing states, yielding one state per chapter.  Still, following _all_ links on _all_ pages will take quite some time."
   ]
  },
  {
   "cell_type": "code",
   "execution_count": 149,
   "metadata": {
    "slideshow": {
     "slide_type": "fragment"
    }
   },
   "outputs": [
    {
     "data": {
      "image/svg+xml": [
       "<?xml version=\"1.0\" encoding=\"UTF-8\" standalone=\"no\"?>\n",
       "<!DOCTYPE svg PUBLIC \"-//W3C//DTD SVG 1.1//EN\"\n",
       " \"http://www.w3.org/Graphics/SVG/1.1/DTD/svg11.dtd\">\n",
       "<!-- Generated by graphviz version 2.40.1 (20161225.0304)\n",
       " -->\n",
       "<!-- Title: %3 Pages: 1 -->\n",
       "<svg width=\"2952pt\" height=\"385pt\"\n",
       " viewBox=\"0.00 0.00 2952.28 385.00\" xmlns=\"http://www.w3.org/2000/svg\" xmlns:xlink=\"http://www.w3.org/1999/xlink\">\n",
       "<g id=\"graph0\" class=\"graph\" transform=\"scale(1 1) rotate(0) translate(4 381)\">\n",
       "<title>%3</title>\n",
       "<polygon fill=\"#ffffff\" stroke=\"transparent\" points=\"-4,4 -4,-381 2948.2823,-381 2948.2823,4 -4,4\"/>\n",
       "<!-- start -->\n",
       "<g id=\"node1\" class=\"node\">\n",
       "<title>start</title>\n",
       "<ellipse fill=\"none\" stroke=\"#000000\" cx=\"1489.0022\" cy=\"-359\" rx=\"36.2938\" ry=\"18\"/>\n",
       "<text text-anchor=\"middle\" x=\"1489.0022\" y=\"-355.3\" font-family=\"Times,serif\" font-size=\"14.00\" fill=\"#000000\">&lt;start&gt;</text>\n",
       "</g>\n",
       "<!-- state -->\n",
       "<g id=\"node2\" class=\"node\">\n",
       "<title>state</title>\n",
       "<ellipse fill=\"none\" stroke=\"#000000\" cx=\"1489.0022\" cy=\"-286\" rx=\"37.8943\" ry=\"18\"/>\n",
       "<text text-anchor=\"middle\" x=\"1489.0022\" y=\"-282.3\" font-family=\"Times,serif\" font-size=\"14.00\" fill=\"#000000\">&lt;state&gt;</text>\n",
       "</g>\n",
       "<!-- start&#45;&gt;state -->\n",
       "<g id=\"edge1\" class=\"edge\">\n",
       "<title>start&#45;&gt;state</title>\n",
       "<path fill=\"none\" stroke=\"#000000\" d=\"M1489.0022,-340.9551C1489.0022,-332.8828 1489.0022,-323.1764 1489.0022,-314.1817\"/>\n",
       "<polygon fill=\"#000000\" stroke=\"#000000\" points=\"1492.5023,-314.0903 1489.0022,-304.0904 1485.5023,-314.0904 1492.5023,-314.0903\"/>\n",
       "</g>\n",
       "<!-- state&#45;&gt;state -->\n",
       "<g id=\"edge5\" class=\"edge\">\n",
       "<title>state&#45;&gt;state</title>\n",
       "<path fill=\"none\" stroke=\"#000000\" d=\"M1524.0842,-292.7496C1535.5606,-292.7147 1544.6989,-290.4648 1544.6989,-286 1544.6989,-283.0002 1540.5737,-281.0002 1534.3858,-280.0002\"/>\n",
       "<polygon fill=\"#000000\" stroke=\"#000000\" points=\"1534.3119,-276.4856 1524.0842,-279.2504 1533.8037,-283.4672 1534.3119,-276.4856\"/>\n",
       "<text text-anchor=\"start\" x=\"1544.6989\" y=\"-282.3\" font-family=\"Times,serif\" font-size=\"14.00\" fill=\"#000000\">click(&#39;discussed above&#39;)</text>\n",
       "</g>\n",
       "<!-- state&#45;1 -->\n",
       "<g id=\"node3\" class=\"node\">\n",
       "<title>state&#45;1</title>\n",
       "<ellipse fill=\"none\" stroke=\"#000000\" cx=\"47.0022\" cy=\"-145\" rx=\"45.4919\" ry=\"18\"/>\n",
       "<text text-anchor=\"middle\" x=\"47.0022\" y=\"-141.3\" font-family=\"Times,serif\" font-size=\"14.00\" fill=\"#000000\">&lt;state&#45;1&gt;</text>\n",
       "</g>\n",
       "<!-- state&#45;&gt;state&#45;1 -->\n",
       "<g id=\"edge2\" class=\"edge\">\n",
       "<title>state&#45;&gt;state&#45;1</title>\n",
       "<path fill=\"none\" stroke=\"#000000\" d=\"M1451.3005,-285.8026C1223.1438,-284.5211 35.9444,-276.5813 10.0022,-250 -11.1583,-228.3181 7.4665,-193.8218 25.0886,-170.3326\"/>\n",
       "<polygon fill=\"#000000\" stroke=\"#000000\" points=\"28.0355,-172.247 31.46,-162.2208 22.5305,-167.9231 28.0355,-172.247\"/>\n",
       "<text text-anchor=\"start\" x=\"10.0022\" y=\"-238.8\" font-family=\"Times,serif\" font-size=\"14.00\" fill=\"#000000\">click(&#39;use grammars to specify the input format and thus get many more valid inputs&#39;)</text>\n",
       "</g>\n",
       "<!-- state&#45;2 -->\n",
       "<g id=\"node4\" class=\"node\">\n",
       "<title>state&#45;2</title>\n",
       "<ellipse fill=\"none\" stroke=\"#000000\" cx=\"439.0022\" cy=\"-145\" rx=\"45.4919\" ry=\"18\"/>\n",
       "<text text-anchor=\"middle\" x=\"439.0022\" y=\"-141.3\" font-family=\"Times,serif\" font-size=\"14.00\" fill=\"#000000\">&lt;state&#45;2&gt;</text>\n",
       "</g>\n",
       "<!-- state&#45;&gt;state&#45;2 -->\n",
       "<g id=\"edge3\" class=\"edge\">\n",
       "<title>state&#45;&gt;state&#45;2</title>\n",
       "<path fill=\"none\" stroke=\"#000000\" d=\"M1451.0442,-285.5474C1276.0542,-283.3409 553.8713,-272.876 512.0022,-250 481.3859,-233.2721 460.8505,-197.5177 449.556,-172.3977\"/>\n",
       "<polygon fill=\"#000000\" stroke=\"#000000\" points=\"452.6972,-170.8418 445.5447,-163.0257 446.2619,-173.5963 452.6972,-170.8418\"/>\n",
       "<text text-anchor=\"start\" x=\"512.0022\" y=\"-238.8\" font-family=\"Times,serif\" font-size=\"14.00\" fill=\"#000000\">click(&#39;&#39;)</text>\n",
       "</g>\n",
       "<!-- state&#45;3 -->\n",
       "<g id=\"node5\" class=\"node\">\n",
       "<title>state&#45;3</title>\n",
       "<ellipse fill=\"none\" stroke=\"#000000\" cx=\"734.0022\" cy=\"-145\" rx=\"45.4919\" ry=\"18\"/>\n",
       "<text text-anchor=\"middle\" x=\"734.0022\" y=\"-141.3\" font-family=\"Times,serif\" font-size=\"14.00\" fill=\"#000000\">&lt;state&#45;3&gt;</text>\n",
       "</g>\n",
       "<!-- state&#45;&gt;state&#45;3 -->\n",
       "<g id=\"edge4\" class=\"edge\">\n",
       "<title>state&#45;&gt;state&#45;3</title>\n",
       "<path fill=\"none\" stroke=\"#000000\" d=\"M1451.2257,-285.2356C1279.6709,-281.6768 581.5999,-266.2178 566.0022,-250 523.7382,-206.0554 620.5587,-172.6236 684.1111,-156.2163\"/>\n",
       "<polygon fill=\"#000000\" stroke=\"#000000\" points=\"685.1542,-159.5631 693.9989,-153.7302 683.4472,-152.7744 685.1542,-159.5631\"/>\n",
       "<text text-anchor=\"start\" x=\"566.0022\" y=\"-238.8\" font-family=\"Times,serif\" font-size=\"14.00\" fill=\"#000000\">click(&#39;&amp;quot;Introduction to Software Testing&amp;quot;&#39;)</text>\n",
       "</g>\n",
       "<!-- state&#45;5 -->\n",
       "<g id=\"node6\" class=\"node\">\n",
       "<title>state&#45;5</title>\n",
       "<ellipse fill=\"none\" stroke=\"#000000\" cx=\"2493.0022\" cy=\"-199\" rx=\"45.4919\" ry=\"18\"/>\n",
       "<text text-anchor=\"middle\" x=\"2493.0022\" y=\"-195.3\" font-family=\"Times,serif\" font-size=\"14.00\" fill=\"#000000\">&lt;state&#45;5&gt;</text>\n",
       "</g>\n",
       "<!-- state&#45;&gt;state&#45;5 -->\n",
       "<g id=\"edge6\" class=\"edge\">\n",
       "<title>state&#45;&gt;state&#45;5</title>\n",
       "<path fill=\"none\" stroke=\"#000000\" d=\"M1526.8033,-285.6418C1734.7758,-283.5836 2731.0791,-272.5564 2753.0022,-250 2757.6487,-245.2193 2757.3811,-240.0269 2753.0022,-235 2739.7544,-219.7915 2620.4789,-208.4007 2548.1637,-202.821\"/>\n",
       "<polygon fill=\"#000000\" stroke=\"#000000\" points=\"2548.089,-199.3054 2537.8533,-202.0402 2547.5604,-206.2854 2548.089,-199.3054\"/>\n",
       "<text text-anchor=\"start\" x=\"2756.0022\" y=\"-238.8\" font-family=\"Times,serif\" font-size=\"14.00\" fill=\"#000000\">click(&#39;Introduction to Testing&#39;)</text>\n",
       "</g>\n",
       "<!-- state&#45;6 -->\n",
       "<g id=\"node7\" class=\"node\">\n",
       "<title>state&#45;6</title>\n",
       "<ellipse fill=\"none\" stroke=\"#000000\" cx=\"914.0022\" cy=\"-145\" rx=\"45.4919\" ry=\"18\"/>\n",
       "<text text-anchor=\"middle\" x=\"914.0022\" y=\"-141.3\" font-family=\"Times,serif\" font-size=\"14.00\" fill=\"#000000\">&lt;state&#45;6&gt;</text>\n",
       "</g>\n",
       "<!-- state&#45;&gt;state&#45;6 -->\n",
       "<g id=\"edge7\" class=\"edge\">\n",
       "<title>state&#45;&gt;state&#45;6</title>\n",
       "<path fill=\"none\" stroke=\"#000000\" d=\"M1451.0586,-285.1677C1321.2129,-282.1373 901.5739,-270.7668 882.0022,-250 861.6044,-228.3566 877.9687,-194.0799 893.8539,-170.6164\"/>\n",
       "<polygon fill=\"#000000\" stroke=\"#000000\" points=\"896.8952,-172.3792 899.841,-162.2021 891.1916,-168.3209 896.8952,-172.3792\"/>\n",
       "<text text-anchor=\"start\" x=\"882.0022\" y=\"-238.8\" font-family=\"Times,serif\" font-size=\"14.00\" fill=\"#000000\">click(&#39;chapter on oracles&#39;)</text>\n",
       "</g>\n",
       "<!-- state&#45;7 -->\n",
       "<g id=\"node8\" class=\"node\">\n",
       "<title>state&#45;7</title>\n",
       "<ellipse fill=\"none\" stroke=\"#000000\" cx=\"1108.0022\" cy=\"-145\" rx=\"45.4919\" ry=\"18\"/>\n",
       "<text text-anchor=\"middle\" x=\"1108.0022\" y=\"-141.3\" font-family=\"Times,serif\" font-size=\"14.00\" fill=\"#000000\">&lt;state&#45;7&gt;</text>\n",
       "</g>\n",
       "<!-- state&#45;&gt;state&#45;7 -->\n",
       "<g id=\"edge8\" class=\"edge\">\n",
       "<title>state&#45;&gt;state&#45;7</title>\n",
       "<path fill=\"none\" stroke=\"#000000\" d=\"M1451.4449,-284.3842C1345.4947,-279.6459 1051.0053,-265.1627 1037.0022,-250 1012.8828,-223.8831 1047.4805,-188.9136 1076.2921,-166.6655\"/>\n",
       "<polygon fill=\"#000000\" stroke=\"#000000\" points=\"1078.6728,-169.256 1084.5931,-160.4696 1074.4857,-163.6463 1078.6728,-169.256\"/>\n",
       "<text text-anchor=\"start\" x=\"1037.0022\" y=\"-238.8\" font-family=\"Times,serif\" font-size=\"14.00\" fill=\"#000000\">click(&#39;chapter on information flow&#39;)</text>\n",
       "</g>\n",
       "<!-- state&#45;8 -->\n",
       "<g id=\"node9\" class=\"node\">\n",
       "<title>state&#45;8</title>\n",
       "<ellipse fill=\"none\" stroke=\"#000000\" cx=\"1253.0022\" cy=\"-145\" rx=\"45.4919\" ry=\"18\"/>\n",
       "<text text-anchor=\"middle\" x=\"1253.0022\" y=\"-141.3\" font-family=\"Times,serif\" font-size=\"14.00\" fill=\"#000000\">&lt;state&#45;8&gt;</text>\n",
       "</g>\n",
       "<!-- state&#45;&gt;state&#45;8 -->\n",
       "<g id=\"edge9\" class=\"edge\">\n",
       "<title>state&#45;&gt;state&#45;8</title>\n",
       "<path fill=\"none\" stroke=\"#000000\" d=\"M1451.6681,-283.1023C1387.0996,-277.7092 1260.1776,-265.2803 1247.0022,-250 1228.93,-229.0404 1234.3612,-196.0924 1241.7995,-172.6993\"/>\n",
       "<polygon fill=\"#000000\" stroke=\"#000000\" points=\"1245.1895,-173.6063 1245.164,-163.0115 1238.577,-171.3098 1245.1895,-173.6063\"/>\n",
       "<text text-anchor=\"start\" x=\"1247.0022\" y=\"-238.8\" font-family=\"Times,serif\" font-size=\"14.00\" fill=\"#000000\">click(&#39;ExpectError&#39;)</text>\n",
       "</g>\n",
       "<!-- state&#45;9 -->\n",
       "<g id=\"node10\" class=\"node\">\n",
       "<title>state&#45;9</title>\n",
       "<ellipse fill=\"none\" stroke=\"#000000\" cx=\"1388.0022\" cy=\"-145\" rx=\"45.4919\" ry=\"18\"/>\n",
       "<text text-anchor=\"middle\" x=\"1388.0022\" y=\"-141.3\" font-family=\"Times,serif\" font-size=\"14.00\" fill=\"#000000\">&lt;state&#45;9&gt;</text>\n",
       "</g>\n",
       "<!-- state&#45;&gt;state&#45;9 -->\n",
       "<g id=\"edge10\" class=\"edge\">\n",
       "<title>state&#45;&gt;state&#45;9</title>\n",
       "<path fill=\"none\" stroke=\"#000000\" d=\"M1453.0348,-280.242C1420.916,-274.2791 1377.3817,-263.8847 1367.0022,-250 1350.0779,-227.3602 1360.6662,-194.5728 1372.0554,-171.6788\"/>\n",
       "<polygon fill=\"#000000\" stroke=\"#000000\" points=\"1375.1535,-173.3074 1376.7387,-162.8318 1368.9668,-170.0324 1375.1535,-173.3074\"/>\n",
       "<text text-anchor=\"start\" x=\"1367.0022\" y=\"-238.8\" font-family=\"Times,serif\" font-size=\"14.00\" fill=\"#000000\">click(&#39;Intro_Testing&#39;)</text>\n",
       "</g>\n",
       "<!-- state&#45;10 -->\n",
       "<g id=\"node11\" class=\"node\">\n",
       "<title>state&#45;10</title>\n",
       "<ellipse fill=\"none\" stroke=\"#000000\" cx=\"1489.0022\" cy=\"-199\" rx=\"50.0912\" ry=\"18\"/>\n",
       "<text text-anchor=\"middle\" x=\"1489.0022\" y=\"-195.3\" font-family=\"Times,serif\" font-size=\"14.00\" fill=\"#000000\">&lt;state&#45;10&gt;</text>\n",
       "</g>\n",
       "<!-- state&#45;&gt;state&#45;10 -->\n",
       "<g id=\"edge11\" class=\"edge\">\n",
       "<title>state&#45;&gt;state&#45;10</title>\n",
       "<path fill=\"none\" stroke=\"#000000\" d=\"M1489.0022,-267.9735C1489.0022,-256.1918 1489.0022,-240.5607 1489.0022,-227.1581\"/>\n",
       "<polygon fill=\"#000000\" stroke=\"#000000\" points=\"1492.5023,-227.0033 1489.0022,-217.0034 1485.5023,-227.0034 1492.5023,-227.0033\"/>\n",
       "<text text-anchor=\"start\" x=\"1489.0022\" y=\"-238.8\" font-family=\"Times,serif\" font-size=\"14.00\" fill=\"#000000\">click(&#39;Generating Software Tests&#39;)</text>\n",
       "</g>\n",
       "<!-- state&#45;11 -->\n",
       "<g id=\"node12\" class=\"node\">\n",
       "<title>state&#45;11</title>\n",
       "<ellipse fill=\"none\" stroke=\"#000000\" cx=\"1655.0022\" cy=\"-199\" rx=\"50.0912\" ry=\"18\"/>\n",
       "<text text-anchor=\"middle\" x=\"1655.0022\" y=\"-195.3\" font-family=\"Times,serif\" font-size=\"14.00\" fill=\"#000000\">&lt;state&#45;11&gt;</text>\n",
       "</g>\n",
       "<!-- state&#45;&gt;state&#45;11 -->\n",
       "<g id=\"edge12\" class=\"edge\">\n",
       "<title>state&#45;&gt;state&#45;11</title>\n",
       "<path fill=\"none\" stroke=\"#000000\" d=\"M1526.6685,-284.4544C1576.9102,-281.5113 1661.78,-273.1613 1681.0022,-250 1687.2858,-242.4288 1684.8211,-233.0863 1679.4346,-224.4748\"/>\n",
       "<polygon fill=\"#000000\" stroke=\"#000000\" points=\"1682.0617,-222.1418 1673.29,-216.1997 1676.4416,-226.3149 1682.0617,-222.1418\"/>\n",
       "<text text-anchor=\"start\" x=\"1684.0022\" y=\"-238.8\" font-family=\"Times,serif\" font-size=\"14.00\" fill=\"#000000\">click(&#39;reduce failing inputs for efficient debugging&#39;)</text>\n",
       "</g>\n",
       "<!-- state&#45;12 -->\n",
       "<g id=\"node13\" class=\"node\">\n",
       "<title>state&#45;12</title>\n",
       "<ellipse fill=\"none\" stroke=\"#000000\" cx=\"1894.0022\" cy=\"-199\" rx=\"50.0912\" ry=\"18\"/>\n",
       "<text text-anchor=\"middle\" x=\"1894.0022\" y=\"-195.3\" font-family=\"Times,serif\" font-size=\"14.00\" fill=\"#000000\">&lt;state&#45;12&gt;</text>\n",
       "</g>\n",
       "<!-- state&#45;&gt;state&#45;12 -->\n",
       "<g id=\"edge13\" class=\"edge\">\n",
       "<title>state&#45;&gt;state&#45;12</title>\n",
       "<path fill=\"none\" stroke=\"#000000\" d=\"M1526.7268,-284.6064C1638.5988,-280.2928 1961.7165,-266.4549 1977.0022,-250 1991.9551,-233.9034 1970.3607,-221.0107 1945.4597,-212.2151\"/>\n",
       "<polygon fill=\"#000000\" stroke=\"#000000\" points=\"1946.4164,-208.8454 1935.8235,-209.0465 1944.2298,-215.4951 1946.4164,-208.8454\"/>\n",
       "<text text-anchor=\"start\" x=\"1981.0022\" y=\"-238.8\" font-family=\"Times,serif\" font-size=\"14.00\" fill=\"#000000\">click(&#39;use mutations on existing inputs to get more valid inputs&#39;)</text>\n",
       "</g>\n",
       "<!-- state&#45;13 -->\n",
       "<g id=\"node14\" class=\"node\">\n",
       "<title>state&#45;13</title>\n",
       "<ellipse fill=\"none\" stroke=\"#000000\" cx=\"2029.0022\" cy=\"-199\" rx=\"50.0912\" ry=\"18\"/>\n",
       "<text text-anchor=\"middle\" x=\"2029.0022\" y=\"-195.3\" font-family=\"Times,serif\" font-size=\"14.00\" fill=\"#000000\">&lt;state&#45;13&gt;</text>\n",
       "</g>\n",
       "<!-- state&#45;&gt;state&#45;13 -->\n",
       "<g id=\"edge14\" class=\"edge\">\n",
       "<title>state&#45;&gt;state&#45;13</title>\n",
       "<path fill=\"none\" stroke=\"#000000\" d=\"M1526.8045,-285.8484C1688.5386,-285.0181 2315.357,-279.8767 2344.0022,-250 2366.7491,-226.2752 2378.6035,-243.9875 2153.0022,-217 2130.7278,-214.3354 2106.2772,-210.8967 2085.0182,-207.7399\"/>\n",
       "<polygon fill=\"#000000\" stroke=\"#000000\" points=\"2085.2702,-204.2386 2074.8618,-206.2174 2084.2325,-211.1613 2085.2702,-204.2386\"/>\n",
       "<text text-anchor=\"start\" x=\"2355.0022\" y=\"-238.8\" font-family=\"Times,serif\" font-size=\"14.00\" fill=\"#000000\">click(&#39;chapter on testing&#39;)</text>\n",
       "</g>\n",
       "<!-- state&#45;14 -->\n",
       "<g id=\"node15\" class=\"node\">\n",
       "<title>state&#45;14</title>\n",
       "<ellipse fill=\"none\" stroke=\"#000000\" cx=\"2212.0022\" cy=\"-199\" rx=\"50.0912\" ry=\"18\"/>\n",
       "<text text-anchor=\"middle\" x=\"2212.0022\" y=\"-195.3\" font-family=\"Times,serif\" font-size=\"14.00\" fill=\"#000000\">&lt;state&#45;14&gt;</text>\n",
       "</g>\n",
       "<!-- state&#45;&gt;state&#45;14 -->\n",
       "<g id=\"edge15\" class=\"edge\">\n",
       "<title>state&#45;&gt;state&#45;14</title>\n",
       "<path fill=\"none\" stroke=\"#000000\" d=\"M1526.7276,-285.3689C1708.2504,-282.2448 2483.7579,-267.8687 2501.0022,-250 2505.6317,-245.2029 2505.4967,-239.9238 2501.0022,-235 2486.184,-218.766 2325.7606,-220.1143 2304.0022,-217 2291.2898,-215.1805 2277.6736,-212.7725 2264.9185,-210.3117\"/>\n",
       "<polygon fill=\"#000000\" stroke=\"#000000\" points=\"2265.3958,-206.8385 2254.9075,-208.3372 2264.0412,-213.7062 2265.3958,-206.8385\"/>\n",
       "<text text-anchor=\"start\" x=\"2504.0022\" y=\"-238.8\" font-family=\"Times,serif\" font-size=\"14.00\" fill=\"#000000\">click(&#39;Cite&#39;)</text>\n",
       "</g>\n",
       "<!-- state&#45;15 -->\n",
       "<g id=\"node16\" class=\"node\">\n",
       "<title>state&#45;15</title>\n",
       "<ellipse fill=\"none\" stroke=\"#000000\" cx=\"2363.0022\" cy=\"-199\" rx=\"50.0912\" ry=\"18\"/>\n",
       "<text text-anchor=\"middle\" x=\"2363.0022\" y=\"-195.3\" font-family=\"Times,serif\" font-size=\"14.00\" fill=\"#000000\">&lt;state&#45;15&gt;</text>\n",
       "</g>\n",
       "<!-- state&#45;&gt;state&#45;15 -->\n",
       "<g id=\"edge16\" class=\"edge\">\n",
       "<title>state&#45;&gt;state&#45;15</title>\n",
       "<path fill=\"none\" stroke=\"#000000\" d=\"M1526.8673,-285.4579C1716.4772,-282.656 2554.4282,-269.2012 2573.0022,-250 2606.2847,-215.5939 2646.3589,-255.3848 2439.0022,-217 2430.7608,-215.4744 2422.0684,-213.6361 2413.6233,-211.7251\"/>\n",
       "<polygon fill=\"#000000\" stroke=\"#000000\" points=\"2414.397,-208.3117 2403.8649,-209.4627 2412.816,-215.1308 2414.397,-208.3117\"/>\n",
       "<text text-anchor=\"start\" x=\"2596.0022\" y=\"-238.8\" font-family=\"Times,serif\" font-size=\"14.00\" fill=\"#000000\">click(&#39;runtime verification&#39;)</text>\n",
       "</g>\n",
       "<!-- end -->\n",
       "<g id=\"node17\" class=\"node\">\n",
       "<title>end</title>\n",
       "<ellipse fill=\"none\" stroke=\"#000000\" cx=\"2806.0022\" cy=\"-91\" rx=\"34.394\" ry=\"18\"/>\n",
       "<text text-anchor=\"middle\" x=\"2806.0022\" y=\"-87.3\" font-family=\"Times,serif\" font-size=\"14.00\" fill=\"#000000\">&lt;end&gt;</text>\n",
       "</g>\n",
       "<!-- state&#45;&gt;end -->\n",
       "<g id=\"edge17\" class=\"edge\">\n",
       "<title>state&#45;&gt;end</title>\n",
       "<path fill=\"none\" stroke=\"#000000\" d=\"M1526.85,-285.7776C1751.9603,-284.3673 2905.7577,-275.8826 2931.0022,-250 2976.7964,-203.0483 2889.2201,-139.9662 2838.5165,-109.2873\"/>\n",
       "<polygon fill=\"#000000\" stroke=\"#000000\" points=\"2840.2044,-106.219 2829.8191,-104.1222 2836.6301,-112.2377 2840.2044,-106.219\"/>\n",
       "</g>\n",
       "<!-- unexplored -->\n",
       "<g id=\"node18\" class=\"node\">\n",
       "<title>unexplored</title>\n",
       "<ellipse fill=\"none\" stroke=\"#000000\" cx=\"1584.0022\" cy=\"-18\" rx=\"61.99\" ry=\"18\"/>\n",
       "<text text-anchor=\"middle\" x=\"1584.0022\" y=\"-14.3\" font-family=\"Times,serif\" font-size=\"14.00\" fill=\"#000000\">&lt;unexplored&gt;</text>\n",
       "</g>\n",
       "<!-- state&#45;1&#45;&gt;unexplored -->\n",
       "<g id=\"edge18\" class=\"edge\">\n",
       "<title>state&#45;1&#45;&gt;unexplored</title>\n",
       "<path fill=\"none\" stroke=\"#000000\" d=\"M89.9099,-138.7649C186.6178,-124.9235 429.0851,-91.4047 633.0022,-73 960.9869,-43.3975 1354.1236,-26.57 1512.6122,-20.5543\"/>\n",
       "<polygon fill=\"#000000\" stroke=\"#000000\" points=\"1512.848,-24.048 1522.709,-20.1737 1512.5842,-17.053 1512.848,-24.048\"/>\n",
       "</g>\n",
       "<!-- state&#45;2&#45;&gt;unexplored -->\n",
       "<g id=\"edge19\" class=\"edge\">\n",
       "<title>state&#45;2&#45;&gt;unexplored</title>\n",
       "<path fill=\"none\" stroke=\"#000000\" d=\"M479.819,-137.0058C556.5358,-122.2535 727.6165,-90.6488 873.0022,-73 1106.3458,-44.6738 1384.6435,-28.1118 1512.8722,-21.4445\"/>\n",
       "<polygon fill=\"#000000\" stroke=\"#000000\" points=\"1513.1495,-24.935 1522.956,-20.9246 1512.789,-17.9443 1513.1495,-24.935\"/>\n",
       "</g>\n",
       "<!-- state&#45;3&#45;&gt;unexplored -->\n",
       "<g id=\"edge20\" class=\"edge\">\n",
       "<title>state&#45;3&#45;&gt;unexplored</title>\n",
       "<path fill=\"none\" stroke=\"#000000\" d=\"M772.0103,-134.7257C830.9122,-119.1649 947.9903,-89.6723 1049.0022,-73 1214.2201,-45.7304 1410.5133,-29.6759 1513.2582,-22.5061\"/>\n",
       "<polygon fill=\"#000000\" stroke=\"#000000\" points=\"1513.7727,-25.979 1523.508,-21.7987 1513.2907,-18.9956 1513.7727,-25.979\"/>\n",
       "</g>\n",
       "<!-- state&#45;5&#45;&gt;end -->\n",
       "<g id=\"edge28\" class=\"edge\">\n",
       "<title>state&#45;5&#45;&gt;end</title>\n",
       "<path fill=\"none\" stroke=\"#000000\" d=\"M2538.4125,-197.0779C2603.5383,-193.6038 2719.5306,-184.53 2755.0022,-163 2772.2444,-152.5346 2785.2418,-133.7873 2793.7996,-118.0462\"/>\n",
       "<polygon fill=\"#000000\" stroke=\"#000000\" points=\"2797.1235,-119.2325 2798.5525,-108.7345 2790.8888,-116.0501 2797.1235,-119.2325\"/>\n",
       "</g>\n",
       "<!-- state&#45;16 -->\n",
       "<g id=\"node19\" class=\"node\">\n",
       "<title>state&#45;16</title>\n",
       "<ellipse fill=\"none\" stroke=\"#000000\" cx=\"1757.0022\" cy=\"-91\" rx=\"50.0912\" ry=\"18\"/>\n",
       "<text text-anchor=\"middle\" x=\"1757.0022\" y=\"-87.3\" font-family=\"Times,serif\" font-size=\"14.00\" fill=\"#000000\">&lt;state&#45;16&gt;</text>\n",
       "</g>\n",
       "<!-- state&#45;5&#45;&gt;state&#45;16 -->\n",
       "<g id=\"edge21\" class=\"edge\">\n",
       "<title>state&#45;5&#45;&gt;state&#45;16</title>\n",
       "<path fill=\"none\" stroke=\"#000000\" d=\"M2456.4598,-188.0782C2445.4813,-185.2483 2433.3401,-182.5604 2422.0022,-181 2382.7485,-175.5977 1736.6646,-191.3696 1709.0022,-163 1697.8322,-151.5444 1701.8468,-141.3108 1709.0022,-127 1711.7478,-121.5088 1715.7734,-116.6379 1720.344,-112.3928\"/>\n",
       "<polygon fill=\"#000000\" stroke=\"#000000\" points=\"1722.8602,-114.8584 1728.4209,-105.8402 1718.45,-109.4224 1722.8602,-114.8584\"/>\n",
       "<text text-anchor=\"start\" x=\"1709.0022\" y=\"-141.3\" font-family=\"Times,serif\" font-size=\"14.00\" fill=\"#000000\">click(&#39;use fuzzing to test programs with random inputs&#39;)</text>\n",
       "</g>\n",
       "<!-- state&#45;17 -->\n",
       "<g id=\"node20\" class=\"node\">\n",
       "<title>state&#45;17</title>\n",
       "<ellipse fill=\"none\" stroke=\"#000000\" cx=\"1914.0022\" cy=\"-91\" rx=\"50.0912\" ry=\"18\"/>\n",
       "<text text-anchor=\"middle\" x=\"1914.0022\" y=\"-87.3\" font-family=\"Times,serif\" font-size=\"14.00\" fill=\"#000000\">&lt;state&#45;17&gt;</text>\n",
       "</g>\n",
       "<!-- state&#45;5&#45;&gt;state&#45;17 -->\n",
       "<g id=\"edge22\" class=\"edge\">\n",
       "<title>state&#45;5&#45;&gt;state&#45;17</title>\n",
       "<path fill=\"none\" stroke=\"#000000\" d=\"M2456.4369,-188.2378C2445.4578,-185.4125 2433.3219,-182.6869 2422.0022,-181 2380.4139,-174.8023 2079.4841,-185.5619 2044.0022,-163 2028.7356,-153.2924 2038.8465,-138.6466 2025.0022,-127 2009.5564,-114.006 1989.3202,-105.6734 1970.3619,-100.342\"/>\n",
       "<polygon fill=\"#000000\" stroke=\"#000000\" points=\"1971.1543,-96.9319 1960.5966,-97.8189 1969.403,-103.7093 1971.1543,-96.9319\"/>\n",
       "<text text-anchor=\"start\" x=\"2044.0022\" y=\"-141.3\" font-family=\"Times,serif\" font-size=\"14.00\" fill=\"#000000\">click(&#39;Timer&#39;)</text>\n",
       "</g>\n",
       "<!-- state&#45;18 -->\n",
       "<g id=\"node21\" class=\"node\">\n",
       "<title>state&#45;18</title>\n",
       "<ellipse fill=\"none\" stroke=\"#000000\" cx=\"2070.0022\" cy=\"-91\" rx=\"50.0912\" ry=\"18\"/>\n",
       "<text text-anchor=\"middle\" x=\"2070.0022\" y=\"-87.3\" font-family=\"Times,serif\" font-size=\"14.00\" fill=\"#000000\">&lt;state&#45;18&gt;</text>\n",
       "</g>\n",
       "<!-- state&#45;5&#45;&gt;state&#45;18 -->\n",
       "<g id=\"edge23\" class=\"edge\">\n",
       "<title>state&#45;5&#45;&gt;state&#45;18</title>\n",
       "<path fill=\"none\" stroke=\"#000000\" d=\"M2456.0521,-188.264C2445.1694,-185.4749 2433.1817,-182.7624 2422.0022,-181 2391.3168,-176.1626 2169.0747,-179.8887 2143.0022,-163 2127.8179,-153.1641 2136.1237,-140.4306 2124.0022,-127 2118.9679,-121.422 2112.8921,-116.3071 2106.6589,-111.7927\"/>\n",
       "<polygon fill=\"#000000\" stroke=\"#000000\" points=\"2108.3862,-108.7352 2098.1448,-106.0217 2104.4587,-114.5296 2108.3862,-108.7352\"/>\n",
       "<text text-anchor=\"start\" x=\"2143.0022\" y=\"-141.3\" font-family=\"Times,serif\" font-size=\"14.00\" fill=\"#000000\">click(&#39;ExpectError&#39;)</text>\n",
       "</g>\n",
       "<!-- state&#45;19 -->\n",
       "<g id=\"node22\" class=\"node\">\n",
       "<title>state&#45;19</title>\n",
       "<ellipse fill=\"none\" stroke=\"#000000\" cx=\"2234.0022\" cy=\"-91\" rx=\"50.0912\" ry=\"18\"/>\n",
       "<text text-anchor=\"middle\" x=\"2234.0022\" y=\"-87.3\" font-family=\"Times,serif\" font-size=\"14.00\" fill=\"#000000\">&lt;state&#45;19&gt;</text>\n",
       "</g>\n",
       "<!-- state&#45;5&#45;&gt;state&#45;19 -->\n",
       "<g id=\"edge24\" class=\"edge\">\n",
       "<title>state&#45;5&#45;&gt;state&#45;19</title>\n",
       "<path fill=\"none\" stroke=\"#000000\" d=\"M2455.6132,-188.5849C2444.8274,-185.8356 2433.0007,-183.0637 2422.0022,-181 2389.8729,-174.9714 2302.9099,-181.5639 2276.0022,-163 2261.1107,-152.7262 2266.1025,-142.6363 2257.0022,-127 2255.1941,-123.8931 2253.2461,-120.6722 2251.2761,-117.4918\"/>\n",
       "<polygon fill=\"#000000\" stroke=\"#000000\" points=\"2254.063,-115.35 2245.7636,-108.7644 2248.1447,-119.0882 2254.063,-115.35\"/>\n",
       "<text text-anchor=\"start\" x=\"2276.0022\" y=\"-141.3\" font-family=\"Times,serif\" font-size=\"14.00\" fill=\"#000000\">click(&#39;Generating Software Tests&#39;)</text>\n",
       "</g>\n",
       "<!-- state&#45;20 -->\n",
       "<g id=\"node23\" class=\"node\">\n",
       "<title>state&#45;20</title>\n",
       "<ellipse fill=\"none\" stroke=\"#000000\" cx=\"2377.0022\" cy=\"-91\" rx=\"50.0912\" ry=\"18\"/>\n",
       "<text text-anchor=\"middle\" x=\"2377.0022\" y=\"-87.3\" font-family=\"Times,serif\" font-size=\"14.00\" fill=\"#000000\">&lt;state&#45;20&gt;</text>\n",
       "</g>\n",
       "<!-- state&#45;5&#45;&gt;state&#45;20 -->\n",
       "<g id=\"edge25\" class=\"edge\">\n",
       "<title>state&#45;5&#45;&gt;state&#45;20</title>\n",
       "<path fill=\"none\" stroke=\"#000000\" d=\"M2491.8478,-180.8269C2489.9064,-164.7827 2484.7344,-141.7169 2471.0022,-127 2460.5406,-115.7882 2446.2066,-108.0328 2431.8839,-102.6817\"/>\n",
       "<polygon fill=\"#000000\" stroke=\"#000000\" points=\"2432.612,-99.2334 2422.0178,-99.3482 2430.3713,-105.8651 2432.612,-99.2334\"/>\n",
       "<text text-anchor=\"start\" x=\"2488.0022\" y=\"-141.3\" font-family=\"Times,serif\" font-size=\"14.00\" fill=\"#000000\">click(&#39;Timer module&#39;)</text>\n",
       "</g>\n",
       "<!-- state&#45;21 -->\n",
       "<g id=\"node24\" class=\"node\">\n",
       "<title>state&#45;21</title>\n",
       "<ellipse fill=\"none\" stroke=\"#000000\" cx=\"2547.0022\" cy=\"-91\" rx=\"50.0912\" ry=\"18\"/>\n",
       "<text text-anchor=\"middle\" x=\"2547.0022\" y=\"-87.3\" font-family=\"Times,serif\" font-size=\"14.00\" fill=\"#000000\">&lt;state&#45;21&gt;</text>\n",
       "</g>\n",
       "<!-- state&#45;5&#45;&gt;state&#45;21 -->\n",
       "<g id=\"edge26\" class=\"edge\">\n",
       "<title>state&#45;5&#45;&gt;state&#45;21</title>\n",
       "<path fill=\"none\" stroke=\"#000000\" d=\"M2535.2548,-192.1582C2566.8289,-186.0826 2606.1628,-176.1321 2616.0022,-163 2625.5963,-150.1955 2624.2963,-140.6824 2616.0022,-127 2610.9598,-118.6817 2603.2966,-112.1949 2594.8855,-107.1673\"/>\n",
       "<polygon fill=\"#000000\" stroke=\"#000000\" points=\"2596.4056,-104.0121 2585.9279,-102.4407 2593.1388,-110.2031 2596.4056,-104.0121\"/>\n",
       "<text text-anchor=\"start\" x=\"2622.0022\" y=\"-141.3\" font-family=\"Times,serif\" font-size=\"14.00\" fill=\"#000000\">click(&#39;&#39;)</text>\n",
       "</g>\n",
       "<!-- state&#45;22 -->\n",
       "<g id=\"node25\" class=\"node\">\n",
       "<title>state&#45;22</title>\n",
       "<ellipse fill=\"none\" stroke=\"#000000\" cx=\"2691.0022\" cy=\"-91\" rx=\"50.0912\" ry=\"18\"/>\n",
       "<text text-anchor=\"middle\" x=\"2691.0022\" y=\"-87.3\" font-family=\"Times,serif\" font-size=\"14.00\" fill=\"#000000\">&lt;state&#45;22&gt;</text>\n",
       "</g>\n",
       "<!-- state&#45;5&#45;&gt;state&#45;22 -->\n",
       "<g id=\"edge27\" class=\"edge\">\n",
       "<title>state&#45;5&#45;&gt;state&#45;22</title>\n",
       "<path fill=\"none\" stroke=\"#000000\" d=\"M2537.6481,-194.9361C2582.9918,-189.9352 2649.1445,-179.9523 2668.0022,-163 2680.3715,-151.8805 2686.1305,-134.1218 2688.7928,-119.0241\"/>\n",
       "<polygon fill=\"#000000\" stroke=\"#000000\" points=\"2692.2601,-119.5007 2690.1843,-109.1112 2685.3281,-118.5275 2692.2601,-119.5007\"/>\n",
       "<text text-anchor=\"start\" x=\"2686.0022\" y=\"-141.3\" font-family=\"Times,serif\" font-size=\"14.00\" fill=\"#000000\">click(&#39;Cite&#39;)</text>\n",
       "</g>\n",
       "<!-- state&#45;6&#45;&gt;unexplored -->\n",
       "<g id=\"edge29\" class=\"edge\">\n",
       "<title>state&#45;6&#45;&gt;unexplored</title>\n",
       "<path fill=\"none\" stroke=\"#000000\" d=\"M951.3419,-134.6466C1006.9319,-119.5088 1114.9053,-91.166 1208.0022,-73 1314.9898,-52.1235 1440.5037,-35.2839 1516.0613,-25.9668\"/>\n",
       "<polygon fill=\"#000000\" stroke=\"#000000\" points=\"1516.8839,-29.3923 1526.3842,-24.7024 1516.0328,-22.4442 1516.8839,-29.3923\"/>\n",
       "</g>\n",
       "<!-- state&#45;7&#45;&gt;unexplored -->\n",
       "<g id=\"edge30\" class=\"edge\">\n",
       "<title>state&#45;7&#45;&gt;unexplored</title>\n",
       "<path fill=\"none\" stroke=\"#000000\" d=\"M1141.5906,-132.7897C1184.4556,-117.49 1261.0792,-91.0868 1328.0022,-73 1393.4171,-55.3208 1469.4484,-39.5825 1521.5543,-29.5188\"/>\n",
       "<polygon fill=\"#000000\" stroke=\"#000000\" points=\"1522.4847,-32.9042 1531.6462,-27.5829 1521.1659,-26.0296 1522.4847,-32.9042\"/>\n",
       "</g>\n",
       "<!-- state&#45;8&#45;&gt;unexplored -->\n",
       "<g id=\"edge31\" class=\"edge\">\n",
       "<title>state&#45;8&#45;&gt;unexplored</title>\n",
       "<path fill=\"none\" stroke=\"#000000\" d=\"M1281.8047,-130.9203C1313.5381,-115.6725 1366.2801,-91.1063 1413.0022,-73 1438.2951,-63.1982 1445.1903,-62.3393 1471.0022,-54 1491.0232,-47.5316 1513.0657,-40.4911 1532.3258,-34.3658\"/>\n",
       "<polygon fill=\"#000000\" stroke=\"#000000\" points=\"1533.6481,-37.6182 1542.1185,-31.254 1531.5281,-30.9469 1533.6481,-37.6182\"/>\n",
       "</g>\n",
       "<!-- state&#45;9&#45;&gt;unexplored -->\n",
       "<g id=\"edge32\" class=\"edge\">\n",
       "<title>state&#45;9&#45;&gt;unexplored</title>\n",
       "<path fill=\"none\" stroke=\"#000000\" d=\"M1400.4965,-127.4492C1415.8613,-107.0676 1443.7734,-73.7285 1475.0022,-54 1490.0725,-44.4795 1507.9182,-37.2171 1524.7602,-31.7971\"/>\n",
       "<polygon fill=\"#000000\" stroke=\"#000000\" points=\"1525.9887,-35.0816 1534.5319,-28.8156 1523.9458,-28.3863 1525.9887,-35.0816\"/>\n",
       "</g>\n",
       "<!-- state&#45;10&#45;&gt;unexplored -->\n",
       "<g id=\"edge33\" class=\"edge\">\n",
       "<title>state&#45;10&#45;&gt;unexplored</title>\n",
       "<path fill=\"none\" stroke=\"#000000\" d=\"M1492.4129,-180.9203C1497.7336,-155.5419 1509.5767,-108.4889 1530.0022,-73 1536.5209,-61.674 1545.9242,-50.9855 1555.0629,-42.0963\"/>\n",
       "<polygon fill=\"#000000\" stroke=\"#000000\" points=\"1557.6696,-44.4516 1562.6079,-35.078 1552.902,-39.3262 1557.6696,-44.4516\"/>\n",
       "</g>\n",
       "<!-- state&#45;11&#45;&gt;unexplored -->\n",
       "<g id=\"edge34\" class=\"edge\">\n",
       "<title>state&#45;11&#45;&gt;unexplored</title>\n",
       "<path fill=\"none\" stroke=\"#000000\" d=\"M1612.2773,-189.5162C1586.9954,-182.9425 1558.483,-173.5058 1551.0022,-163 1522.9026,-123.5377 1533.44,-99.149 1551.0022,-54 1552.4814,-50.1973 1554.5707,-46.552 1556.9884,-43.1395\"/>\n",
       "<polygon fill=\"#000000\" stroke=\"#000000\" points=\"1559.8813,-45.1314 1563.5143,-35.1789 1554.4677,-40.6935 1559.8813,-45.1314\"/>\n",
       "</g>\n",
       "<!-- state&#45;12&#45;&gt;unexplored -->\n",
       "<g id=\"edge35\" class=\"edge\">\n",
       "<title>state&#45;12&#45;&gt;unexplored</title>\n",
       "<path fill=\"none\" stroke=\"#000000\" d=\"M1845.4987,-194.0876C1760.5324,-185.3716 1593.3067,-167.6775 1589.0022,-163 1560.2213,-131.7247 1567.2091,-78.6823 1575.3169,-46.1554\"/>\n",
       "<polygon fill=\"#000000\" stroke=\"#000000\" points=\"1578.7315,-46.9348 1577.9447,-36.3692 1571.971,-45.1194 1578.7315,-46.9348\"/>\n",
       "</g>\n",
       "<!-- state&#45;13&#45;&gt;unexplored -->\n",
       "<g id=\"edge36\" class=\"edge\">\n",
       "<title>state&#45;13&#45;&gt;unexplored</title>\n",
       "<path fill=\"none\" stroke=\"#000000\" d=\"M1989.0268,-188.1287C1977.4821,-185.3722 1964.8113,-182.7106 1953.0022,-181 1917.0996,-175.7992 1655.4635,-185.4945 1627.0022,-163 1608.6433,-148.4899 1595.0041,-83.8929 1588.4123,-45.9899\"/>\n",
       "<polygon fill=\"#000000\" stroke=\"#000000\" points=\"1591.8541,-45.3509 1586.7419,-36.071 1584.9513,-46.5134 1591.8541,-45.3509\"/>\n",
       "</g>\n",
       "<!-- state&#45;14&#45;&gt;unexplored -->\n",
       "<g id=\"edge37\" class=\"edge\">\n",
       "<title>state&#45;14&#45;&gt;unexplored</title>\n",
       "<path fill=\"none\" stroke=\"#000000\" d=\"M2166.4944,-191.2633C2143.1038,-187.5744 2114.101,-183.4432 2088.0022,-181 2041.1645,-176.6154 1705.0593,-187.6664 1665.0022,-163 1662.162,-161.251 1621.0899,-86.2394 1598.5523,-44.8142\"/>\n",
       "<polygon fill=\"#000000\" stroke=\"#000000\" points=\"1601.5008,-42.9099 1593.6498,-35.7957 1595.3508,-46.2531 1601.5008,-42.9099\"/>\n",
       "</g>\n",
       "<!-- state&#45;15&#45;&gt;unexplored -->\n",
       "<g id=\"edge38\" class=\"edge\">\n",
       "<title>state&#45;15&#45;&gt;unexplored</title>\n",
       "<path fill=\"none\" stroke=\"#000000\" d=\"M2320.6275,-189.2206C2305.1023,-186.0326 2287.3365,-182.8422 2271.0022,-181 2207.7055,-173.8613 1753.8023,-193.7212 1698.0022,-163 1676.837,-151.3473 1652.2183,-91.7676 1637.0022,-73 1628.651,-62.6996 1618.7371,-52.054 1609.7555,-42.9047\"/>\n",
       "<polygon fill=\"#000000\" stroke=\"#000000\" points=\"1612.0239,-40.2227 1602.4851,-35.6116 1607.0664,-45.1647 1612.0239,-40.2227\"/>\n",
       "</g>\n",
       "<!-- state&#45;16&#45;&gt;unexplored -->\n",
       "<g id=\"edge39\" class=\"edge\">\n",
       "<title>state&#45;16&#45;&gt;unexplored</title>\n",
       "<path fill=\"none\" stroke=\"#000000\" d=\"M1732.4002,-75.188C1720.7522,-68.1196 1706.4694,-60.0397 1693.0022,-54 1675.6649,-46.2246 1656.1224,-39.2473 1638.4222,-33.5523\"/>\n",
       "<polygon fill=\"#000000\" stroke=\"#000000\" points=\"1639.3935,-30.1887 1628.8039,-30.5233 1637.2908,-36.8655 1639.3935,-30.1887\"/>\n",
       "</g>\n",
       "<!-- state&#45;17&#45;&gt;unexplored -->\n",
       "<g id=\"edge40\" class=\"edge\">\n",
       "<title>state&#45;17&#45;&gt;unexplored</title>\n",
       "<path fill=\"none\" stroke=\"#000000\" d=\"M1871.1988,-81.5314C1813.0582,-68.67 1708.8654,-45.6212 1643.2445,-31.1051\"/>\n",
       "<polygon fill=\"#000000\" stroke=\"#000000\" points=\"1643.975,-27.6822 1633.455,-28.9396 1642.463,-34.5169 1643.975,-27.6822\"/>\n",
       "</g>\n",
       "<!-- state&#45;18&#45;&gt;unexplored -->\n",
       "<g id=\"edge41\" class=\"edge\">\n",
       "<title>state&#45;18&#45;&gt;unexplored</title>\n",
       "<path fill=\"none\" stroke=\"#000000\" d=\"M2025.6463,-82.3541C2009.1451,-79.2471 1990.2439,-75.8173 1973.0022,-73 1860.2649,-54.5787 1728.544,-36.7204 1650.9305,-26.5728\"/>\n",
       "<polygon fill=\"#000000\" stroke=\"#000000\" points=\"1651.1788,-23.0756 1640.8102,-25.2532 1650.2737,-30.0168 1651.1788,-23.0756\"/>\n",
       "</g>\n",
       "<!-- state&#45;19&#45;&gt;unexplored -->\n",
       "<g id=\"edge42\" class=\"edge\">\n",
       "<title>state&#45;19&#45;&gt;unexplored</title>\n",
       "<path fill=\"none\" stroke=\"#000000\" d=\"M2189.401,-82.6526C2170.7767,-79.3497 2148.8863,-75.7044 2129.0022,-73 1958.9248,-49.8683 1757.7616,-32.0147 1653.8878,-23.495\"/>\n",
       "<polygon fill=\"#000000\" stroke=\"#000000\" points=\"1654.0909,-20 1643.8393,-22.6751 1653.5215,-26.9768 1654.0909,-20\"/>\n",
       "</g>\n",
       "<!-- state&#45;20&#45;&gt;unexplored -->\n",
       "<g id=\"edge43\" class=\"edge\">\n",
       "<title>state&#45;20&#45;&gt;unexplored</title>\n",
       "<path fill=\"none\" stroke=\"#000000\" d=\"M2335.3289,-80.9196C2321.8869,-77.9776 2306.8762,-75.0154 2293.0022,-73 2061.335,-39.3468 1783.886,-25.3727 1655.5703,-20.3882\"/>\n",
       "<polygon fill=\"#000000\" stroke=\"#000000\" points=\"1655.6037,-16.8871 1645.4774,-20.0029 1655.3366,-23.882 1655.6037,-16.8871\"/>\n",
       "</g>\n",
       "<!-- state&#45;21&#45;&gt;unexplored -->\n",
       "<g id=\"edge44\" class=\"edge\">\n",
       "<title>state&#45;21&#45;&gt;unexplored</title>\n",
       "<path fill=\"none\" stroke=\"#000000\" d=\"M2502.3051,-82.7947C2482.1124,-79.3351 2457.917,-75.5313 2436.0022,-73 2148.0538,-39.7399 1802.8592,-25.1998 1655.9056,-20.1879\"/>\n",
       "<polygon fill=\"#000000\" stroke=\"#000000\" points=\"1655.7832,-16.6819 1645.6711,-19.8434 1655.5476,-23.678 1655.7832,-16.6819\"/>\n",
       "</g>\n",
       "<!-- state&#45;22&#45;&gt;unexplored -->\n",
       "<g id=\"edge45\" class=\"edge\">\n",
       "<title>state&#45;22&#45;&gt;unexplored</title>\n",
       "<path fill=\"none\" stroke=\"#000000\" d=\"M2649.2864,-80.8348C2635.5753,-77.8513 2620.2076,-74.8862 2606.0022,-73 2421.834,-48.5459 1856.6154,-27.3439 1655.7558,-20.398\"/>\n",
       "<polygon fill=\"#000000\" stroke=\"#000000\" points=\"1655.7277,-16.8951 1645.6131,-20.0487 1655.4867,-23.8909 1655.7277,-16.8951\"/>\n",
       "</g>\n",
       "</g>\n",
       "</svg>\n"
      ],
      "text/plain": [
       "<graphviz.dot.Digraph at 0x119541160>"
      ]
     },
     "metadata": {},
     "output_type": "display_data"
    }
   ],
   "source": [
    "# Inspect this graph in the notebook to see it in full glory\n",
    "fsm_diagram(book_fuzzer.grammar)"
   ]
  },
  {
   "cell_type": "markdown",
   "metadata": {
    "slideshow": {
     "slide_type": "fragment"
    }
   },
   "source": [
    "We now have all the basic capabilities we need: We can automatically explore large Web sites; we can explore \"deep\" functionality by filling out forms; and we can have our coverage-based fuzzer automatcially focus on yet unexplored states.  Still, there is a lot more one can do; the [exercises](#Exercises) will give you some ideas."
   ]
  },
  {
   "cell_type": "code",
   "execution_count": 150,
   "metadata": {
    "slideshow": {
     "slide_type": "fragment"
    }
   },
   "outputs": [],
   "source": [
    "gui_driver.quit()"
   ]
  },
  {
   "cell_type": "markdown",
   "metadata": {
    "slideshow": {
     "slide_type": "slide"
    }
   },
   "source": [
    "## Synopsis\n",
    "\n",
    "This chapter demonstrates how to programmatically interact with user interfaces, using Selenium on Web browsers.  It provides an experimental  `GUICoverageFuzzer` class that automatically explores a user interface by systematically interacting with all available user interface elements."
   ]
  },
  {
   "cell_type": "markdown",
   "metadata": {
    "slideshow": {
     "slide_type": "fragment"
    }
   },
   "source": [
    "The function `start_webdriver()` starts a headless Web browser in the background and returns a _GUI driver_ as handle for further communication."
   ]
  },
  {
   "cell_type": "code",
   "execution_count": 151,
   "metadata": {
    "slideshow": {
     "slide_type": "fragment"
    }
   },
   "outputs": [],
   "source": [
    "gui_driver = start_webdriver()"
   ]
  },
  {
   "cell_type": "markdown",
   "metadata": {
    "slideshow": {
     "slide_type": "fragment"
    }
   },
   "source": [
    "We let it the browser open the URL of the server we want to investigate (in this case, the vulnerable server from [the chapter on Web fuzzing](WebFuzzer.ipynb)) and obtain a screen shot."
   ]
  },
  {
   "cell_type": "code",
   "execution_count": 152,
   "metadata": {
    "slideshow": {
     "slide_type": "subslide"
    }
   },
   "outputs": [
    {
     "data": {
      "image/png": "[encoded data removed]",
      "text/plain": [
       "<IPython.core.display.Image object>"
      ]
     },
     "execution_count": 152,
     "metadata": {},
     "output_type": "execute_result"
    }
   ],
   "source": [
    "gui_driver.get(httpd_url)\n",
    "Image(gui_driver.get_screenshot_as_png())"
   ]
  },
  {
   "cell_type": "markdown",
   "metadata": {
    "slideshow": {
     "slide_type": "fragment"
    }
   },
   "source": [
    "The `GUICoverageFuzzer` class explores the user interface and builds a _grammar_ that encodes all states as well as the user interactions required to move from one state to the next.  It is paired with a `GUIRunner` which interacts with the GUI driver."
   ]
  },
  {
   "cell_type": "code",
   "execution_count": 153,
   "metadata": {
    "slideshow": {
     "slide_type": "fragment"
    }
   },
   "outputs": [],
   "source": [
    "gui_fuzzer = GUICoverageFuzzer(gui_driver)"
   ]
  },
  {
   "cell_type": "code",
   "execution_count": 154,
   "metadata": {
    "slideshow": {
     "slide_type": "fragment"
    }
   },
   "outputs": [],
   "source": [
    "gui_runner = GUIRunner(gui_driver)"
   ]
  },
  {
   "cell_type": "markdown",
   "metadata": {
    "slideshow": {
     "slide_type": "fragment"
    }
   },
   "source": [
    "The `explore_all()` method extracts all states and all transitions from a Web user interface."
   ]
  },
  {
   "cell_type": "code",
   "execution_count": 155,
   "metadata": {
    "slideshow": {
     "slide_type": "fragment"
    }
   },
   "outputs": [],
   "source": [
    "gui_fuzzer.explore_all(gui_runner)"
   ]
  },
  {
   "cell_type": "markdown",
   "metadata": {
    "slideshow": {
     "slide_type": "fragment"
    }
   },
   "source": [
    "The grammar embeds a finite state automation and is best visualized as such."
   ]
  },
  {
   "cell_type": "code",
   "execution_count": 156,
   "metadata": {
    "slideshow": {
     "slide_type": "subslide"
    }
   },
   "outputs": [
    {
     "data": {
      "image/svg+xml": [
       "<?xml version=\"1.0\" encoding=\"UTF-8\" standalone=\"no\"?>\n",
       "<!DOCTYPE svg PUBLIC \"-//W3C//DTD SVG 1.1//EN\"\n",
       " \"http://www.w3.org/Graphics/SVG/1.1/DTD/svg11.dtd\">\n",
       "<!-- Generated by graphviz version 2.40.1 (20161225.0304)\n",
       " -->\n",
       "<!-- Title: %3 Pages: 1 -->\n",
       "<svg width=\"620pt\" height=\"352pt\"\n",
       " viewBox=\"0.00 0.00 620.29 352.00\" xmlns=\"http://www.w3.org/2000/svg\" xmlns:xlink=\"http://www.w3.org/1999/xlink\">\n",
       "<g id=\"graph0\" class=\"graph\" transform=\"scale(1 1) rotate(0) translate(4 348)\">\n",
       "<title>%3</title>\n",
       "<polygon fill=\"#ffffff\" stroke=\"transparent\" points=\"-4,4 -4,-348 616.2856,-348 616.2856,4 -4,4\"/>\n",
       "<!-- start -->\n",
       "<g id=\"node1\" class=\"node\">\n",
       "<title>start</title>\n",
       "<ellipse fill=\"none\" stroke=\"#000000\" cx=\"325.559\" cy=\"-326\" rx=\"36.2938\" ry=\"18\"/>\n",
       "<text text-anchor=\"middle\" x=\"325.559\" y=\"-322.3\" font-family=\"Times,serif\" font-size=\"14.00\" fill=\"#000000\">&lt;start&gt;</text>\n",
       "</g>\n",
       "<!-- state -->\n",
       "<g id=\"node2\" class=\"node\">\n",
       "<title>state</title>\n",
       "<ellipse fill=\"none\" stroke=\"#000000\" cx=\"325.559\" cy=\"-253\" rx=\"37.8943\" ry=\"18\"/>\n",
       "<text text-anchor=\"middle\" x=\"325.559\" y=\"-249.3\" font-family=\"Times,serif\" font-size=\"14.00\" fill=\"#000000\">&lt;state&gt;</text>\n",
       "</g>\n",
       "<!-- start&#45;&gt;state -->\n",
       "<g id=\"edge1\" class=\"edge\">\n",
       "<title>start&#45;&gt;state</title>\n",
       "<path fill=\"none\" stroke=\"#000000\" d=\"M325.559,-307.9551C325.559,-299.8828 325.559,-290.1764 325.559,-281.1817\"/>\n",
       "<polygon fill=\"#000000\" stroke=\"#000000\" points=\"329.0591,-281.0903 325.559,-271.0904 322.0591,-281.0904 329.0591,-281.0903\"/>\n",
       "</g>\n",
       "<!-- state&#45;1 -->\n",
       "<g id=\"node3\" class=\"node\">\n",
       "<title>state&#45;1</title>\n",
       "<ellipse fill=\"none\" stroke=\"#000000\" cx=\"200.559\" cy=\"-91\" rx=\"45.4919\" ry=\"18\"/>\n",
       "<text text-anchor=\"middle\" x=\"200.559\" y=\"-87.3\" font-family=\"Times,serif\" font-size=\"14.00\" fill=\"#000000\">&lt;state&#45;1&gt;</text>\n",
       "</g>\n",
       "<!-- state&#45;&gt;state&#45;1 -->\n",
       "<g id=\"edge2\" class=\"edge\">\n",
       "<title>state&#45;&gt;state&#45;1</title>\n",
       "<path fill=\"none\" stroke=\"#000000\" d=\"M287.9696,-251.326C210.145,-247.4741 37.132,-236.7616 19.559,-217 -7.0216,-187.109 -5.817,-157.9202 19.559,-127 35.276,-107.8491 98.0593,-98.6985 145.3065,-94.4548\"/>\n",
       "<polygon fill=\"#000000\" stroke=\"#000000\" points=\"145.7619,-97.9289 155.4311,-93.5979 145.1715,-90.9538 145.7619,-97.9289\"/>\n",
       "<text text-anchor=\"start\" x=\"19.559\" y=\"-168.3\" font-family=\"Times,serif\" font-size=\"14.00\" fill=\"#000000\">click(&#39;terms and conditions&#39;)</text>\n",
       "</g>\n",
       "<!-- state&#45;2 -->\n",
       "<g id=\"node4\" class=\"node\">\n",
       "<title>state&#45;2</title>\n",
       "<ellipse fill=\"none\" stroke=\"#000000\" cx=\"409.559\" cy=\"-91\" rx=\"45.4919\" ry=\"18\"/>\n",
       "<text text-anchor=\"middle\" x=\"409.559\" y=\"-87.3\" font-family=\"Times,serif\" font-size=\"14.00\" fill=\"#000000\">&lt;state&#45;2&gt;</text>\n",
       "</g>\n",
       "<!-- state&#45;&gt;state&#45;2 -->\n",
       "<g id=\"edge3\" class=\"edge\">\n",
       "<title>state&#45;&gt;state&#45;2</title>\n",
       "<path fill=\"none\" stroke=\"#000000\" d=\"M320.0242,-234.9601C313.1594,-208.7877 304.8239,-159.834 326.559,-127 334.0896,-115.6239 346.0651,-107.8231 358.6022,-102.4812\"/>\n",
       "<polygon fill=\"#000000\" stroke=\"#000000\" points=\"360.1077,-105.6543 368.2346,-98.8569 357.6426,-99.1027 360.1077,-105.6543\"/>\n",
       "<text text-anchor=\"start\" x=\"326.559\" y=\"-205.8\" font-family=\"Times,serif\" font-size=\"14.00\" fill=\"#000000\">check(&#39;terms&#39;, &lt;boolean&gt;)</text>\n",
       "<text text-anchor=\"start\" x=\"326.559\" y=\"-190.8\" font-family=\"Times,serif\" font-size=\"14.00\" fill=\"#000000\">fill(&#39;city&#39;, &#39;&lt;text&gt;&#39;)</text>\n",
       "<text text-anchor=\"start\" x=\"326.559\" y=\"-175.8\" font-family=\"Times,serif\" font-size=\"14.00\" fill=\"#000000\">fill(&#39;zip&#39;, &#39;&lt;number&gt;&#39;)</text>\n",
       "<text text-anchor=\"start\" x=\"326.559\" y=\"-160.8\" font-family=\"Times,serif\" font-size=\"14.00\" fill=\"#000000\">fill(&#39;email&#39;, &#39;&lt;email&gt;&#39;)</text>\n",
       "<text text-anchor=\"start\" x=\"326.559\" y=\"-145.8\" font-family=\"Times,serif\" font-size=\"14.00\" fill=\"#000000\">fill(&#39;name&#39;, &#39;&lt;text&gt;&#39;)</text>\n",
       "<text text-anchor=\"start\" x=\"326.559\" y=\"-130.8\" font-family=\"Times,serif\" font-size=\"14.00\" fill=\"#000000\">submit(&#39;submit&#39;)</text>\n",
       "</g>\n",
       "<!-- end -->\n",
       "<g id=\"node5\" class=\"node\">\n",
       "<title>end</title>\n",
       "<ellipse fill=\"none\" stroke=\"#000000\" cx=\"409.559\" cy=\"-18\" rx=\"34.394\" ry=\"18\"/>\n",
       "<text text-anchor=\"middle\" x=\"409.559\" y=\"-14.3\" font-family=\"Times,serif\" font-size=\"14.00\" fill=\"#000000\">&lt;end&gt;</text>\n",
       "</g>\n",
       "<!-- state&#45;&gt;end -->\n",
       "<g id=\"edge4\" class=\"edge\">\n",
       "<title>state&#45;&gt;end</title>\n",
       "<path fill=\"none\" stroke=\"#000000\" d=\"M363.147,-250.6776C433.5438,-245.9431 579.5487,-234.1529 594.559,-217 620.9007,-186.8982 614.4058,-161.729 594.559,-127 563.7784,-73.1385 494.8403,-43.2426 450.3606,-28.9147\"/>\n",
       "<polygon fill=\"#000000\" stroke=\"#000000\" points=\"451.3032,-25.5427 440.7153,-25.9273 449.2321,-32.2293 451.3032,-25.5427\"/>\n",
       "</g>\n",
       "<!-- state&#45;1&#45;&gt;state -->\n",
       "<g id=\"edge5\" class=\"edge\">\n",
       "<title>state&#45;1&#45;&gt;state</title>\n",
       "<path fill=\"none\" stroke=\"#000000\" d=\"M195.3433,-109.0438C188.8335,-135.6645 181.2799,-185.6845 205.559,-217 214.9283,-229.0847 250.2054,-238.7545 280.1047,-245.0166\"/>\n",
       "<polygon fill=\"#000000\" stroke=\"#000000\" points=\"279.4988,-248.4648 289.9931,-247.0082 280.881,-241.6026 279.4988,-248.4648\"/>\n",
       "<text text-anchor=\"start\" x=\"205.559\" y=\"-168.3\" font-family=\"Times,serif\" font-size=\"14.00\" fill=\"#000000\">click(&#39;order form&#39;)</text>\n",
       "</g>\n",
       "<!-- state&#45;1&#45;&gt;end -->\n",
       "<g id=\"edge6\" class=\"edge\">\n",
       "<title>state&#45;1&#45;&gt;end</title>\n",
       "<path fill=\"none\" stroke=\"#000000\" d=\"M235.0711,-78.9455C272.4281,-65.8974 331.8696,-45.1355 370.805,-31.5361\"/>\n",
       "<polygon fill=\"#000000\" stroke=\"#000000\" points=\"372.4347,-34.6743 380.7213,-28.0725 370.1265,-28.0658 372.4347,-34.6743\"/>\n",
       "</g>\n",
       "<!-- state&#45;2&#45;&gt;state -->\n",
       "<g id=\"edge7\" class=\"edge\">\n",
       "<title>state&#45;2&#45;&gt;state</title>\n",
       "<path fill=\"none\" stroke=\"#000000\" d=\"M444.5179,-102.8416C455.4594,-108.3858 466.2993,-116.2134 472.559,-127 492.6361,-161.5964 497.2512,-185.531 472.559,-217 460.2382,-232.7022 410.7697,-242.4461 372.5835,-247.7735\"/>\n",
       "<polygon fill=\"#000000\" stroke=\"#000000\" points=\"372.1013,-244.3067 362.6512,-249.097 373.0259,-251.2454 372.1013,-244.3067\"/>\n",
       "<text text-anchor=\"start\" x=\"488.559\" y=\"-168.3\" font-family=\"Times,serif\" font-size=\"14.00\" fill=\"#000000\">click(&#39;order form&#39;)</text>\n",
       "</g>\n",
       "<!-- state&#45;2&#45;&gt;end -->\n",
       "<g id=\"edge8\" class=\"edge\">\n",
       "<title>state&#45;2&#45;&gt;end</title>\n",
       "<path fill=\"none\" stroke=\"#000000\" d=\"M409.559,-72.9551C409.559,-64.8828 409.559,-55.1764 409.559,-46.1817\"/>\n",
       "<polygon fill=\"#000000\" stroke=\"#000000\" points=\"413.0591,-46.0903 409.559,-36.0904 406.0591,-46.0904 413.0591,-46.0903\"/>\n",
       "</g>\n",
       "</g>\n",
       "</svg>\n"
      ],
      "text/plain": [
       "<graphviz.dot.Digraph at 0x11a668ac8>"
      ]
     },
     "metadata": {},
     "output_type": "display_data"
    }
   ],
   "source": [
    "fsm_diagram(gui_fuzzer.grammar)"
   ]
  },
  {
   "cell_type": "markdown",
   "metadata": {
    "slideshow": {
     "slide_type": "fragment"
    }
   },
   "source": [
    "The GUI Fuzzer `fuzz()` method produces sequences of interactions that follow paths through the finite state machine.  Since `GUICoverageFuzzer` is derived from `CoverageFuzzer` (see the [chapter on coverage-based grammar fuzzing](GrammarCoverageFuzzer.ipynb)), it automatically covers (a) as many transitions between states as well as (b) as many form elements as possible.  In our case, the first set of actions explores the transition via the \"order form\" link; the second set then goes until the \"<end>\" state."
   ]
  },
  {
   "cell_type": "code",
   "execution_count": 157,
   "metadata": {
    "slideshow": {
     "slide_type": "subslide"
    }
   },
   "outputs": [
    {
     "name": "stdout",
     "output_type": "stream",
     "text": [
      "click('terms and conditions')\n",
      "click('order form')\n",
      "check('terms', True)\n",
      "fill('city', 'a')\n",
      "fill('zip', '4')\n",
      "fill('email', 'GM@pC')\n",
      "fill('name', 'YTZk')\n",
      "submit('submit')\n",
      "\n"
     ]
    }
   ],
   "source": [
    "gui_driver.get(httpd_url)\n",
    "actions = gui_fuzzer.fuzz()\n",
    "print(actions)"
   ]
  },
  {
   "cell_type": "markdown",
   "metadata": {
    "slideshow": {
     "slide_type": "fragment"
    }
   },
   "source": [
    "These actions can be fed into the GUI runner, which will execute them on the given GUI driver."
   ]
  },
  {
   "cell_type": "code",
   "execution_count": 158,
   "metadata": {
    "slideshow": {
     "slide_type": "subslide"
    }
   },
   "outputs": [],
   "source": [
    "gui_driver.get(httpd_url)\n",
    "result, outcome = gui_runner.run(actions)"
   ]
  },
  {
   "cell_type": "code",
   "execution_count": 159,
   "metadata": {
    "slideshow": {
     "slide_type": "fragment"
    }
   },
   "outputs": [
    {
     "data": {
      "image/png": "[encoded data removed]",
      "text/plain": [
       "<IPython.core.display.Image object>"
      ]
     },
     "execution_count": 159,
     "metadata": {},
     "output_type": "execute_result"
    }
   ],
   "source": [
    "Image(gui_driver.get_screenshot_as_png())"
   ]
  },
  {
   "cell_type": "markdown",
   "metadata": {
    "slideshow": {
     "slide_type": "fragment"
    }
   },
   "source": [
    "Further invocations of `fuzz()` will further cover the model – for instance, exploring the terms and conditions."
   ]
  },
  {
   "cell_type": "markdown",
   "metadata": {
    "slideshow": {
     "slide_type": "fragment"
    }
   },
   "source": [
    "A tool like `GUICoverageFuzzer` will provide \"deep\" exploration of user interfaces, even filling out forms to explore what is behind them. Keep in mind, though, that `GUICoverageFuzzer` is experimental: It only supports a subset of HTML form and link features, and does not take JavaScript into account."
   ]
  },
  {
   "cell_type": "markdown",
   "metadata": {
    "button": false,
    "new_sheet": true,
    "run_control": {
     "read_only": false
    },
    "slideshow": {
     "slide_type": "slide"
    }
   },
   "source": [
    "## Lessons Learned\n",
    "\n",
    "* _Selenium_ is a powerful framework for interacting with user interfaces, especially Web-based user interfaces.\n",
    "* A _finite state model_ can encode user interface states and transitions.\n",
    "* Encoding user interface models into a _grammar_ integrates generating text (for forms) and generating user interactions (for navigating)\n",
    "* To systematically explore a user interface, cover all _state transitions_, which is equivalent to covering all _expansion alternatives_ in the equivalent grammar."
   ]
  },
  {
   "cell_type": "markdown",
   "metadata": {
    "slideshow": {
     "slide_type": "subslide"
    }
   },
   "source": [
    "We are done, so we clean up. We shut down our Web server, quit the Web driver (and the associated browser), and finally clean up temporary files left by Selenium."
   ]
  },
  {
   "cell_type": "code",
   "execution_count": 160,
   "metadata": {
    "slideshow": {
     "slide_type": "fragment"
    }
   },
   "outputs": [],
   "source": [
    "httpd_process.terminate()"
   ]
  },
  {
   "cell_type": "code",
   "execution_count": 161,
   "metadata": {
    "slideshow": {
     "slide_type": "fragment"
    }
   },
   "outputs": [],
   "source": [
    "gui_driver.quit()"
   ]
  },
  {
   "cell_type": "code",
   "execution_count": 162,
   "metadata": {
    "slideshow": {
     "slide_type": "skip"
    }
   },
   "outputs": [],
   "source": [
    "import os"
   ]
  },
  {
   "cell_type": "code",
   "execution_count": 163,
   "metadata": {
    "slideshow": {
     "slide_type": "fragment"
    }
   },
   "outputs": [],
   "source": [
    "for temp_file in [ORDERS_DB, \"geckodriver.log\", \"ghostdriver.log\"]:\n",
    "    if os.path.exists(temp_file):\n",
    "        os.remove(temp_file)"
   ]
  },
  {
   "cell_type": "markdown",
   "metadata": {
    "button": false,
    "new_sheet": false,
    "run_control": {
     "read_only": false
    },
    "slideshow": {
     "slide_type": "slide"
    }
   },
   "source": [
    "## Next Steps\n",
    "\n",
    "From here, you can learn how to\n",
    "\n",
    "* [fuzz in the large](FuzzingInTheLarge.ipynb). running a myriad of fuzzers on a same system"
   ]
  },
  {
   "cell_type": "markdown",
   "metadata": {
    "slideshow": {
     "slide_type": "slide"
    }
   },
   "source": [
    "## Background\n",
    "\n",
    "Automatic testing of graphical user interfaces is a rich field – in research as in practice.\n",
    "\n",
    "Coverage criteria for GUIs as well as how to achieve them were first discussed in \\cite{Memon2001}.  Memon also introduced the concept of *GUI Ripping* \\cite{Memon2003} – the process in which the software's GUI is automatically traversed by interacting with all its user interface elements.\n",
    "\n",
    "The CrawlJax tool \\cite{Mesbah2012} uses dynamic state changes in Web user interfaces to identify candidate elements to interact with.  As our approach above, it uses the set of interactable user interface elements as a state in a finite-state model.\n",
    "\n",
    "The [Alex framework](https://learnlib.github.io/alex/) uses a similar approach to learn automata for web applications.  Starting from a set of test inputs, it produces a mixed-mode behavioral model of the application."
   ]
  },
  {
   "cell_type": "markdown",
   "metadata": {
    "slideshow": {
     "slide_type": "slide"
    }
   },
   "source": [
    "## Exercises\n",
    "\n",
    "As powerful our GUI fuzzer is at this point, there are still several possibilities left for further optimization and extension.  Here are some ideas to get you started.  Enjoy user interface fuzzing!"
   ]
  },
  {
   "cell_type": "markdown",
   "metadata": {
    "slideshow": {
     "slide_type": "subslide"
    }
   },
   "source": [
    "### Exercise 1: Stay in Local State\n",
    "\n",
    "Rather than having each `run()` start at the very beginning, have the miner start from the current state and explore states reachable from there."
   ]
  },
  {
   "cell_type": "markdown",
   "metadata": {
    "slideshow": {
     "slide_type": "subslide"
    }
   },
   "source": [
    "### Exercise 2: Going Back\n",
    "\n",
    "Make use of the web driver `back()` method and go back to an earlier state, from which we could again start exploration.  (Note that a \"back\" functionality may not be available on non-Web user interfaces.)"
   ]
  },
  {
   "cell_type": "markdown",
   "metadata": {
    "slideshow": {
     "slide_type": "subslide"
    }
   },
   "source": [
    "### Exercise 3: Avoiding Bad Form Values\n",
    "\n",
    "Detect that some form values are _invalid_, such that the miner does not produce them again."
   ]
  },
  {
   "cell_type": "markdown",
   "metadata": {
    "slideshow": {
     "slide_type": "subslide"
    }
   },
   "source": [
    "### Exercise 4: Saving Form Values\n",
    "\n",
    "Save _successful_ form values, such that the tester does not have to infer them again and again."
   ]
  },
  {
   "cell_type": "markdown",
   "metadata": {
    "slideshow": {
     "slide_type": "subslide"
    }
   },
   "source": [
    "### Exercise 5: Same Names, Same States\n",
    "\n",
    "When the miner finds a link with a name it has already seen, it is likely to lead to a state already seen, too; therefore, one could give its exploration a lower priority."
   ]
  },
  {
   "cell_type": "markdown",
   "metadata": {
    "slideshow": {
     "slide_type": "subslide"
    }
   },
   "source": [
    "### Exercise 6: Combinatorial Coverage\n",
    "\n",
    "Extend the grammar miner such that for every boolean value, there is a separate value to be covered."
   ]
  },
  {
   "cell_type": "markdown",
   "metadata": {
    "slideshow": {
     "slide_type": "subslide"
    }
   },
   "source": [
    "### Exercise 7: Implicit Delays\n",
    "\n",
    "Rather than using _explicit_ (given) delays, use _implicit_ delays and wait for specific elements to appear. these elements could stem from previous explorations of the state."
   ]
  },
  {
   "cell_type": "markdown",
   "metadata": {
    "slideshow": {
     "slide_type": "subslide"
    }
   },
   "source": [
    "### Exercise 8: Oracles\n",
    "\n",
    "Extend the grammar miner such that it also produces _oracles_ – for instance, checking for the presence of specific UI elements."
   ]
  },
  {
   "cell_type": "markdown",
   "metadata": {
    "slideshow": {
     "slide_type": "subslide"
    }
   },
   "source": [
    "### Exercise 9: More UI Elements\n",
    "\n",
    "Run the miner on a Web site of your choice.  Find out which other types of user interface elements and actions need to be supported."
   ]
  }
 ],
 "metadata": {
  "ipub": {
   "bibliography": "fuzzingbook.bib",
   "toc": true
  },
  "kernelspec": {
   "display_name": "Python 3",
   "language": "python",
   "name": "python3"
  },
  "language_info": {
   "codemirror_mode": {
    "name": "ipython",
    "version": 3
   },
   "file_extension": ".py",
   "mimetype": "text/x-python",
   "name": "python",
   "nbconvert_exporter": "python",
   "pygments_lexer": "ipython3",
   "version": "3.6.8"
  },
  "toc": {
   "base_numbering": 1,
   "nav_menu": {},
   "number_sections": true,
   "sideBar": true,
   "skip_h1_title": true,
   "title_cell": "",
   "title_sidebar": "Contents",
   "toc_cell": false,
   "toc_position": {},
   "toc_section_display": true,
   "toc_window_display": true
  },
  "toc-autonumbering": false
 },
 "nbformat": 4,
 "nbformat_minor": 2
}