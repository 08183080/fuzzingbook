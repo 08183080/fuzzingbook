{
 "cells": [
  {
   "cell_type": "markdown",
   "metadata": {
    "button": false,
    "new_sheet": false,
    "run_control": {
     "read_only": false
    },
    "slideshow": {
     "slide_type": "slide"
    }
   },
   "source": [
    "# Grammar Coverage\n",
    "\n",
    "[Producing inputs from grammars](GrammarFuzzer.ipynb) gives all possible expansions of a rule the same likelihood.  For producing a comprehensive test suite, however, it makes more sense to maximize _variety_ – for instance, by not repeating the same expansions over and over again.  In this chapter, we explore how to systematically _cover_ elements of a grammar such that we maximize variety and do not miss out individual elements."
   ]
  },
  {
   "cell_type": "markdown",
   "metadata": {
    "button": false,
    "new_sheet": false,
    "run_control": {
     "read_only": false
    },
    "slideshow": {
     "slide_type": "skip"
    }
   },
   "source": [
    "**Prerequisites**\n",
    "\n",
    "* You should have read the [chapter on grammars](Grammars.ipynb).\n",
    "* You should have read the [chapter on efficient grammar fuzzing](GrammarFuzzer.ipynb)."
   ]
  },
  {
   "cell_type": "markdown",
   "metadata": {
    "button": false,
    "new_sheet": false,
    "run_control": {
     "read_only": false
    },
    "slideshow": {
     "slide_type": "slide"
    }
   },
   "source": [
    "## Covering Grammar Elements\n",
    "\n",
    "During testing, it is important to maximize _variety_: The more diverse the inputs, the quicker we will cover the functionality of a program.  One way to maximize such variety is to aim for _coverage_ of grammar elements: If we already have seen some expansion, we can prefer other possible expansion candidates out of the set of possible expansions."
   ]
  },
  {
   "cell_type": "markdown",
   "metadata": {
    "button": false,
    "new_sheet": false,
    "run_control": {
     "read_only": false
    },
    "slideshow": {
     "slide_type": "subslide"
    }
   },
   "source": [
    "As an example, consider the grammar\n",
    "\n",
    "```grammar\n",
    "<start> ::= <digit><digit>\n",
    "<digit> ::= 0 | 1 | 2 | 3 | 4 | 5 | 6 | 7 | 8 | 9\n",
    "```"
   ]
  },
  {
   "cell_type": "markdown",
   "metadata": {
    "button": false,
    "new_sheet": false,
    "run_control": {
     "read_only": false
    },
    "slideshow": {
     "slide_type": "fragment"
    }
   },
   "source": [
    "Let us assume we have already produced a `0` in the first expansion of `<digit>`.  As it comes to expand the next digit, we would mark the `0` expansion as already covered, and choose one of the yet uncovered alternatives.  Only when we have covered all alternatives would we go back and consider expansions covered before."
   ]
  },
  {
   "cell_type": "markdown",
   "metadata": {
    "slideshow": {
     "slide_type": "subslide"
    }
   },
   "source": [
    "### Tracking Grammar Coverage"
   ]
  },
  {
   "cell_type": "markdown",
   "metadata": {
    "button": false,
    "new_sheet": false,
    "run_control": {
     "read_only": false
    },
    "slideshow": {
     "slide_type": "fragment"
    }
   },
   "source": [
    "This concept of coverage is very easy to implement.  We introduce a class `GrammarCoverageFuzzer` that keeps track of the current grammar coverage achieved:"
   ]
  },
  {
   "cell_type": "code",
   "execution_count": 1,
   "metadata": {
    "button": false,
    "new_sheet": false,
    "run_control": {
     "read_only": false
    },
    "slideshow": {
     "slide_type": "skip"
    }
   },
   "outputs": [],
   "source": [
    "import fuzzingbook_utils"
   ]
  },
  {
   "cell_type": "code",
   "execution_count": 2,
   "metadata": {
    "slideshow": {
     "slide_type": "skip"
    }
   },
   "outputs": [],
   "source": [
    "from Grammars import DIGIT_GRAMMAR, EXPR_GRAMMAR, CGI_GRAMMAR, URL_GRAMMAR, START_SYMBOL, is_valid_grammar"
   ]
  },
  {
   "cell_type": "code",
   "execution_count": 3,
   "metadata": {
    "slideshow": {
     "slide_type": "skip"
    }
   },
   "outputs": [],
   "source": [
    "from GrammarFuzzer import GrammarFuzzer, all_terminals, nonterminals, display_tree"
   ]
  },
  {
   "cell_type": "code",
   "execution_count": 4,
   "metadata": {
    "slideshow": {
     "slide_type": "skip"
    }
   },
   "outputs": [],
   "source": [
    "import random"
   ]
  },
  {
   "cell_type": "code",
   "execution_count": 5,
   "metadata": {
    "button": false,
    "new_sheet": false,
    "run_control": {
     "read_only": false
    },
    "slideshow": {
     "slide_type": "fragment"
    }
   },
   "outputs": [],
   "source": [
    "class TrackingGrammarCoverageFuzzer(GrammarFuzzer):\n",
    "    def __init__(self, *args, **kwargs):\n",
    "        # invoke superclass __init__(), passing all arguments\n",
    "        super().__init__(*args, **kwargs)\n",
    "        self.reset_coverage()\n",
    "\n",
    "    def reset_coverage(self):\n",
    "        self.covered_expansions = set()\n",
    "\n",
    "    def expansion_coverage(self):\n",
    "        return self.covered_expansions"
   ]
  },
  {
   "cell_type": "markdown",
   "metadata": {
    "slideshow": {
     "slide_type": "subslide"
    }
   },
   "source": [
    "In this set `covered_expansions`, we store individual expansions seen as pairs of (_symbol_, _expansion_), using the method `expansion_key()` to generate a string representation for the pair."
   ]
  },
  {
   "cell_type": "code",
   "execution_count": 6,
   "metadata": {
    "slideshow": {
     "slide_type": "fragment"
    }
   },
   "outputs": [],
   "source": [
    "class TrackingGrammarCoverageFuzzer(TrackingGrammarCoverageFuzzer):\n",
    "    def expansion_key(self, symbol, expansion):\n",
    "        \"\"\"Convert (symbol, children) into a key.  `children` can be an expansion string or a derivation tree.\"\"\"\n",
    "        if isinstance(expansion, tuple):\n",
    "            expansion = expansion[0]\n",
    "        if not isinstance(expansion, str):\n",
    "            children = expansion\n",
    "            expansion = all_terminals((symbol, children))\n",
    "        return symbol + \" -> \" + expansion"
   ]
  },
  {
   "cell_type": "code",
   "execution_count": 7,
   "metadata": {
    "slideshow": {
     "slide_type": "fragment"
    }
   },
   "outputs": [
    {
     "data": {
      "text/plain": [
       "'<start> -> <expr>'"
      ]
     },
     "execution_count": 7,
     "metadata": {},
     "output_type": "execute_result"
    }
   ],
   "source": [
    "f = TrackingGrammarCoverageFuzzer(EXPR_GRAMMAR)\n",
    "f.expansion_key(START_SYMBOL, EXPR_GRAMMAR[START_SYMBOL][0])"
   ]
  },
  {
   "cell_type": "markdown",
   "metadata": {
    "slideshow": {
     "slide_type": "subslide"
    }
   },
   "source": [
    "Instead of _expansion_, we can also pass a list of children as argument, which will then automatically be converted into a string."
   ]
  },
  {
   "cell_type": "code",
   "execution_count": 8,
   "metadata": {
    "slideshow": {
     "slide_type": "fragment"
    }
   },
   "outputs": [
    {
     "data": {
      "text/plain": [
       "'<expr> -> <expr> + <term>'"
      ]
     },
     "execution_count": 8,
     "metadata": {},
     "output_type": "execute_result"
    }
   ],
   "source": [
    "children = [(\"<expr>\", None), (\" + \", []), (\"<term>\", None)]\n",
    "f.expansion_key(\"<expr>\", children)"
   ]
  },
  {
   "cell_type": "markdown",
   "metadata": {
    "slideshow": {
     "slide_type": "subslide"
    }
   },
   "source": [
    "We can compute the set of possible expansions in a grammar by enumerating all expansions:"
   ]
  },
  {
   "cell_type": "code",
   "execution_count": 9,
   "metadata": {
    "slideshow": {
     "slide_type": "fragment"
    }
   },
   "outputs": [],
   "source": [
    "class TrackingGrammarCoverageFuzzer(TrackingGrammarCoverageFuzzer):\n",
    "    def max_expansion_coverage(self):\n",
    "        \"\"\"Return set of all expansions in a grammar\"\"\"\n",
    "        expansions = set()\n",
    "        for nonterminal in self.grammar:\n",
    "            for expansion in self.grammar[nonterminal]:\n",
    "                expansions.add(self.expansion_key(nonterminal, expansion))\n",
    "        return expansions"
   ]
  },
  {
   "cell_type": "code",
   "execution_count": 10,
   "metadata": {
    "slideshow": {
     "slide_type": "fragment"
    }
   },
   "outputs": [
    {
     "data": {
      "text/plain": [
       "{'<start> -> 0',\n",
       " '<start> -> 1',\n",
       " '<start> -> 2',\n",
       " '<start> -> 3',\n",
       " '<start> -> 4',\n",
       " '<start> -> 5',\n",
       " '<start> -> 6',\n",
       " '<start> -> 7',\n",
       " '<start> -> 8',\n",
       " '<start> -> 9'}"
      ]
     },
     "execution_count": 10,
     "metadata": {},
     "output_type": "execute_result"
    }
   ],
   "source": [
    "f = TrackingGrammarCoverageFuzzer(DIGIT_GRAMMAR)\n",
    "f.max_expansion_coverage()"
   ]
  },
  {
   "cell_type": "markdown",
   "metadata": {
    "slideshow": {
     "slide_type": "subslide"
    }
   },
   "source": [
    "During expansion, we can keep track of expansions seen.  To do so, we hook into the method `choose_node_expansion()`, expanding a single node in our [Grammar fuzzer](GrammarFuzzer.ipynb)."
   ]
  },
  {
   "cell_type": "code",
   "execution_count": 11,
   "metadata": {
    "slideshow": {
     "slide_type": "fragment"
    }
   },
   "outputs": [],
   "source": [
    "class TrackingGrammarCoverageFuzzer(TrackingGrammarCoverageFuzzer):\n",
    "    def add_coverage(self, symbol, new_children):\n",
    "        key = self.expansion_key(symbol, new_children)\n",
    "\n",
    "        if self.log and key not in self.covered_expansions:\n",
    "            print(\"Now covered:\", key)\n",
    "        self.covered_expansions.add(key)\n",
    "\n",
    "    def choose_node_expansion(self, node, possible_children):\n",
    "        (symbol, children) = node\n",
    "        index = super().choose_node_expansion(node, possible_children)\n",
    "        self.add_coverage(symbol, possible_children[index])\n",
    "        return index"
   ]
  },
  {
   "cell_type": "markdown",
   "metadata": {
    "slideshow": {
     "slide_type": "subslide"
    }
   },
   "source": [
    "With this, we can now systematically check which expansions already have been covered – and which ones still have to be covered."
   ]
  },
  {
   "cell_type": "code",
   "execution_count": 12,
   "metadata": {
    "button": false,
    "new_sheet": false,
    "run_control": {
     "read_only": false
    },
    "slideshow": {
     "slide_type": "fragment"
    }
   },
   "outputs": [
    {
     "name": "stdout",
     "output_type": "stream",
     "text": [
      "Tree: <start>\n",
      "Expanding <start> randomly\n",
      "Now covered: <start> -> 9\n",
      "Tree: 9\n",
      "'9'\n"
     ]
    },
    {
     "data": {
      "text/plain": [
       "'9'"
      ]
     },
     "execution_count": 12,
     "metadata": {},
     "output_type": "execute_result"
    }
   ],
   "source": [
    "f = TrackingGrammarCoverageFuzzer(DIGIT_GRAMMAR, log=True)\n",
    "f.fuzz()"
   ]
  },
  {
   "cell_type": "code",
   "execution_count": 13,
   "metadata": {
    "slideshow": {
     "slide_type": "fragment"
    }
   },
   "outputs": [
    {
     "name": "stdout",
     "output_type": "stream",
     "text": [
      "Tree: <start>\n",
      "Expanding <start> randomly\n",
      "Now covered: <start> -> 0\n",
      "Tree: 0\n",
      "'0'\n"
     ]
    },
    {
     "data": {
      "text/plain": [
       "'0'"
      ]
     },
     "execution_count": 13,
     "metadata": {},
     "output_type": "execute_result"
    }
   ],
   "source": [
    "f.fuzz()"
   ]
  },
  {
   "cell_type": "code",
   "execution_count": 14,
   "metadata": {
    "slideshow": {
     "slide_type": "fragment"
    }
   },
   "outputs": [
    {
     "name": "stdout",
     "output_type": "stream",
     "text": [
      "Tree: <start>\n",
      "Expanding <start> randomly\n",
      "Now covered: <start> -> 5\n",
      "Tree: 5\n",
      "'5'\n"
     ]
    },
    {
     "data": {
      "text/plain": [
       "'5'"
      ]
     },
     "execution_count": 14,
     "metadata": {},
     "output_type": "execute_result"
    }
   ],
   "source": [
    "f.fuzz()"
   ]
  },
  {
   "cell_type": "markdown",
   "metadata": {
    "slideshow": {
     "slide_type": "subslide"
    }
   },
   "source": [
    "Here's the set of covered expansions so far:"
   ]
  },
  {
   "cell_type": "code",
   "execution_count": 15,
   "metadata": {
    "slideshow": {
     "slide_type": "fragment"
    }
   },
   "outputs": [
    {
     "data": {
      "text/plain": [
       "{'<start> -> 0', '<start> -> 5', '<start> -> 9'}"
      ]
     },
     "execution_count": 15,
     "metadata": {},
     "output_type": "execute_result"
    }
   ],
   "source": [
    "f.expansion_coverage()"
   ]
  },
  {
   "cell_type": "markdown",
   "metadata": {
    "slideshow": {
     "slide_type": "subslide"
    }
   },
   "source": [
    "On average, how many characters do we have to produce until all expansions are covered?"
   ]
  },
  {
   "cell_type": "code",
   "execution_count": 16,
   "metadata": {
    "slideshow": {
     "slide_type": "fragment"
    }
   },
   "outputs": [],
   "source": [
    "def average_length_until_full_coverage(fuzzer):\n",
    "    trials = 50\n",
    "\n",
    "    sum = 0\n",
    "    for trial in range(trials):\n",
    "        fuzzer.reset_coverage()\n",
    "        while len(fuzzer.max_expansion_coverage()\n",
    "                  - fuzzer.expansion_coverage()) > 0:\n",
    "            s = fuzzer.fuzz()\n",
    "            sum += len(s)\n",
    "\n",
    "    return sum / trials"
   ]
  },
  {
   "cell_type": "code",
   "execution_count": 17,
   "metadata": {
    "slideshow": {
     "slide_type": "fragment"
    }
   },
   "outputs": [
    {
     "data": {
      "text/plain": [
       "130.82"
      ]
     },
     "execution_count": 17,
     "metadata": {},
     "output_type": "execute_result"
    }
   ],
   "source": [
    "average_length_until_full_coverage(TrackingGrammarCoverageFuzzer(EXPR_GRAMMAR))"
   ]
  },
  {
   "cell_type": "markdown",
   "metadata": {
    "slideshow": {
     "slide_type": "subslide"
    }
   },
   "source": [
    "### Covering Grammar Expansions\n",
    "\n",
    "Let us now not only track coverage, but actually _produce_ coverage.  The idea is as follows:\n",
    "\n",
    "1. We determine children yet uncovered (in `uncovered_children`)\n",
    "2. If all children are covered, we fall back to the original method (i.e., choosing one expansion randomly)\n",
    "3. Otherwise, we select a child from the uncovered children and mark it as covered.\n",
    "\n",
    "To this end, we introduce a new fuzzer `SimpleGrammarCoverageFuzzer` that implements this strategy in the `choose_node_expansion()` method."
   ]
  },
  {
   "cell_type": "code",
   "execution_count": 18,
   "metadata": {
    "slideshow": {
     "slide_type": "subslide"
    }
   },
   "outputs": [],
   "source": [
    "class SimpleGrammarCoverageFuzzer(TrackingGrammarCoverageFuzzer):\n",
    "    def choose_node_expansion(self, node, possible_children):\n",
    "        # Prefer uncovered expansions\n",
    "        (symbol, children) = node\n",
    "        uncovered_children = [c for (i, c) in enumerate(possible_children)\n",
    "                              if self.expansion_key(symbol, c) not in self.covered_expansions]\n",
    "        index_map = [i for (i, c) in enumerate(possible_children)\n",
    "                     if self.expansion_key(symbol, c) not in self.covered_expansions]\n",
    "\n",
    "        if len(uncovered_children) == 0:\n",
    "            # All expansions covered - use superclass method\n",
    "            return self.choose_covered_node_expansion(node, possible_children)\n",
    "\n",
    "        # select a random expansion\n",
    "        index = self.choose_uncovered_node_expansion(node, uncovered_children)\n",
    "\n",
    "        return index_map[index]"
   ]
  },
  {
   "cell_type": "markdown",
   "metadata": {
    "slideshow": {
     "slide_type": "subslide"
    }
   },
   "source": [
    "The two methods `choose_covered_node_expansion()` and `choose_uncovered_node_expansion()` are provided for subclasses to hook in:"
   ]
  },
  {
   "cell_type": "code",
   "execution_count": 19,
   "metadata": {
    "slideshow": {
     "slide_type": "fragment"
    }
   },
   "outputs": [],
   "source": [
    "class SimpleGrammarCoverageFuzzer(SimpleGrammarCoverageFuzzer):\n",
    "    def choose_uncovered_node_expansion(self, node, possible_children):\n",
    "        return TrackingGrammarCoverageFuzzer.choose_node_expansion(self, node, possible_children)\n",
    "\n",
    "    def choose_covered_node_expansion(self, node, possible_children):\n",
    "        return TrackingGrammarCoverageFuzzer.choose_node_expansion(self, node, possible_children)"
   ]
  },
  {
   "cell_type": "markdown",
   "metadata": {
    "button": false,
    "new_sheet": false,
    "run_control": {
     "read_only": false
    },
    "slideshow": {
     "slide_type": "subslide"
    }
   },
   "source": [
    "By returning the set of expansions covered so far, we can invoke the fuzzer multiple times, each time adding to the grammar coverage.  Using the `DIGIT_GRAMMAR` grammar, for instance, the fuzzer produces one digit after the other:"
   ]
  },
  {
   "cell_type": "code",
   "execution_count": 20,
   "metadata": {
    "button": false,
    "new_sheet": false,
    "run_control": {
     "read_only": false
    },
    "slideshow": {
     "slide_type": "fragment"
    }
   },
   "outputs": [
    {
     "name": "stdout",
     "output_type": "stream",
     "text": [
      "Tree: <start>\n",
      "Expanding <start> randomly\n",
      "Now covered: <start> -> 4\n",
      "Tree: 4\n",
      "'4'\n"
     ]
    },
    {
     "data": {
      "text/plain": [
       "'4'"
      ]
     },
     "execution_count": 20,
     "metadata": {},
     "output_type": "execute_result"
    }
   ],
   "source": [
    "f = SimpleGrammarCoverageFuzzer(DIGIT_GRAMMAR, log=True)\n",
    "f.fuzz()"
   ]
  },
  {
   "cell_type": "code",
   "execution_count": 21,
   "metadata": {
    "slideshow": {
     "slide_type": "fragment"
    }
   },
   "outputs": [
    {
     "name": "stdout",
     "output_type": "stream",
     "text": [
      "Tree: <start>\n",
      "Expanding <start> randomly\n",
      "Now covered: <start> -> 6\n",
      "Tree: 6\n",
      "'6'\n"
     ]
    },
    {
     "data": {
      "text/plain": [
       "'6'"
      ]
     },
     "execution_count": 21,
     "metadata": {},
     "output_type": "execute_result"
    }
   ],
   "source": [
    "f.fuzz()"
   ]
  },
  {
   "cell_type": "code",
   "execution_count": 22,
   "metadata": {
    "slideshow": {
     "slide_type": "fragment"
    }
   },
   "outputs": [
    {
     "name": "stdout",
     "output_type": "stream",
     "text": [
      "Tree: <start>\n",
      "Expanding <start> randomly\n",
      "Now covered: <start> -> 0\n",
      "Tree: 0\n",
      "'0'\n"
     ]
    },
    {
     "data": {
      "text/plain": [
       "'0'"
      ]
     },
     "execution_count": 22,
     "metadata": {},
     "output_type": "execute_result"
    }
   ],
   "source": [
    "f.fuzz()"
   ]
  },
  {
   "cell_type": "markdown",
   "metadata": {
    "slideshow": {
     "slide_type": "subslide"
    }
   },
   "source": [
    "Here's the set of covered expansions so far:"
   ]
  },
  {
   "cell_type": "code",
   "execution_count": 23,
   "metadata": {
    "slideshow": {
     "slide_type": "fragment"
    }
   },
   "outputs": [
    {
     "data": {
      "text/plain": [
       "{'<start> -> 0', '<start> -> 4', '<start> -> 6'}"
      ]
     },
     "execution_count": 23,
     "metadata": {},
     "output_type": "execute_result"
    }
   ],
   "source": [
    "f.expansion_coverage()"
   ]
  },
  {
   "cell_type": "markdown",
   "metadata": {
    "slideshow": {
     "slide_type": "subslide"
    }
   },
   "source": [
    "Let us fuzz some more. We see that with each iteration, we cover another expansion:"
   ]
  },
  {
   "cell_type": "code",
   "execution_count": 24,
   "metadata": {
    "slideshow": {
     "slide_type": "fragment"
    }
   },
   "outputs": [
    {
     "name": "stdout",
     "output_type": "stream",
     "text": [
      "Tree: <start>\n",
      "Expanding <start> randomly\n",
      "Now covered: <start> -> 2\n",
      "Tree: 2\n",
      "'2'\n",
      "Tree: <start>\n",
      "Expanding <start> randomly\n",
      "Now covered: <start> -> 9\n",
      "Tree: 9\n",
      "'9'\n",
      "Tree: <start>\n",
      "Expanding <start> randomly\n",
      "Now covered: <start> -> 5\n",
      "Tree: 5\n",
      "'5'\n",
      "Tree: <start>\n",
      "Expanding <start> randomly\n",
      "Now covered: <start> -> 1\n",
      "Tree: 1\n",
      "'1'\n",
      "Tree: <start>\n",
      "Expanding <start> randomly\n",
      "Now covered: <start> -> 8\n",
      "Tree: 8\n",
      "'8'\n",
      "Tree: <start>\n",
      "Expanding <start> randomly\n",
      "Now covered: <start> -> 7\n",
      "Tree: 7\n",
      "'7'\n",
      "Tree: <start>\n",
      "Expanding <start> randomly\n",
      "Now covered: <start> -> 3\n",
      "Tree: 3\n",
      "'3'\n"
     ]
    }
   ],
   "source": [
    "for i in range(7):\n",
    "    f.fuzz()"
   ]
  },
  {
   "cell_type": "markdown",
   "metadata": {
    "button": false,
    "new_sheet": false,
    "run_control": {
     "read_only": false
    },
    "slideshow": {
     "slide_type": "subslide"
    }
   },
   "source": [
    "At the end, all expansions are covered:"
   ]
  },
  {
   "cell_type": "code",
   "execution_count": 25,
   "metadata": {
    "slideshow": {
     "slide_type": "fragment"
    }
   },
   "outputs": [
    {
     "data": {
      "text/plain": [
       "set()"
      ]
     },
     "execution_count": 25,
     "metadata": {},
     "output_type": "execute_result"
    }
   ],
   "source": [
    "f.max_expansion_coverage() - f.expansion_coverage()"
   ]
  },
  {
   "cell_type": "markdown",
   "metadata": {
    "button": false,
    "new_sheet": false,
    "run_control": {
     "read_only": false
    },
    "slideshow": {
     "slide_type": "subslide"
    }
   },
   "source": [
    "Let us apply this on a more complex grammar – e.g., the expression grammar.  We see that after a few iterations, we cover each and every digit, operator, and expansion:"
   ]
  },
  {
   "cell_type": "code",
   "execution_count": 26,
   "metadata": {
    "button": false,
    "new_sheet": false,
    "run_control": {
     "read_only": false
    },
    "slideshow": {
     "slide_type": "fragment"
    }
   },
   "outputs": [
    {
     "name": "stdout",
     "output_type": "stream",
     "text": [
      "084.7\n",
      "2 / 3 / 6 / 3 / 0 - -5 * 1 + 4 * 9 / 3\n",
      "(+0 / 0 - 0 - 2) - +8.1 * 5 + 1 * 7 - 7\n",
      "7477.0\n",
      "66.0 * +6 / 2 + 4 / 4 - 6 * 4 + 2\n",
      "(8 / 2 * 7) * (7 / 7) / 3 * 6 + 15.306\n",
      "+2\n",
      "39 / +-(3 * 7 * 4 - 2 + 0 / 4) / 41 / 3 / 2\n",
      "(++(6) * 0 * 7 / 0 - 0 * 2 + 07 * 5 / 9)\n",
      "-((63) + 1 + 1 + 1) * +8 * -+-2.4 - +(1.3 - 0 * 5)\n"
     ]
    }
   ],
   "source": [
    "f = SimpleGrammarCoverageFuzzer(EXPR_GRAMMAR)\n",
    "for i in range(10):\n",
    "    print(f.fuzz())"
   ]
  },
  {
   "cell_type": "markdown",
   "metadata": {
    "button": false,
    "new_sheet": false,
    "run_control": {
     "read_only": false
    },
    "slideshow": {
     "slide_type": "fragment"
    }
   },
   "source": [
    "Again, all expansions are covered:"
   ]
  },
  {
   "cell_type": "code",
   "execution_count": 27,
   "metadata": {
    "button": false,
    "new_sheet": false,
    "run_control": {
     "read_only": false
    },
    "slideshow": {
     "slide_type": "fragment"
    }
   },
   "outputs": [
    {
     "data": {
      "text/plain": [
       "set()"
      ]
     },
     "execution_count": 27,
     "metadata": {},
     "output_type": "execute_result"
    }
   ],
   "source": [
    "f.max_expansion_coverage() - f.expansion_coverage()"
   ]
  },
  {
   "cell_type": "markdown",
   "metadata": {
    "slideshow": {
     "slide_type": "subslide"
    }
   },
   "source": [
    "We see that our strategy is much more effective in achieving coverage than the random approach:"
   ]
  },
  {
   "cell_type": "code",
   "execution_count": 28,
   "metadata": {
    "slideshow": {
     "slide_type": "fragment"
    }
   },
   "outputs": [
    {
     "data": {
      "text/plain": [
       "49.36"
      ]
     },
     "execution_count": 28,
     "metadata": {},
     "output_type": "execute_result"
    }
   ],
   "source": [
    "average_length_until_full_coverage(SimpleGrammarCoverageFuzzer(EXPR_GRAMMAR))"
   ]
  },
  {
   "cell_type": "markdown",
   "metadata": {
    "slideshow": {
     "slide_type": "slide"
    },
    "toc-hr-collapsed": true
   },
   "source": [
    "## Deep Foresight\n",
    "\n",
    "Selecting expansions for individual rules is a good start; however, it is not sufficient, as the following example shows.  We apply our coverage fuzzer on the CGI grammar:"
   ]
  },
  {
   "cell_type": "code",
   "execution_count": 29,
   "metadata": {
    "slideshow": {
     "slide_type": "fragment"
    }
   },
   "outputs": [
    {
     "name": "stdout",
     "output_type": "stream",
     "text": [
      "%361\n",
      "+%4f\n",
      "c%a05\n",
      "%d5\n",
      "4+\n",
      "%7b\n",
      "0b-3\n",
      "e\n",
      "%2e\n",
      "%81\n"
     ]
    }
   ],
   "source": [
    "f = SimpleGrammarCoverageFuzzer(CGI_GRAMMAR)\n",
    "for i in range(10):\n",
    "    print(f.fuzz())"
   ]
  },
  {
   "cell_type": "markdown",
   "metadata": {
    "slideshow": {
     "slide_type": "subslide"
    }
   },
   "source": [
    "After 10 iterations, we still have a number of expansions uncovered:"
   ]
  },
  {
   "cell_type": "code",
   "execution_count": 30,
   "metadata": {
    "slideshow": {
     "slide_type": "fragment"
    }
   },
   "outputs": [
    {
     "data": {
      "text/plain": [
       "{'<hexdigit> -> 9',\n",
       " '<hexdigit> -> c',\n",
       " '<other> -> 2',\n",
       " '<other> -> _',\n",
       " '<other> -> a',\n",
       " '<other> -> d'}"
      ]
     },
     "execution_count": 30,
     "metadata": {},
     "output_type": "execute_result"
    }
   ],
   "source": [
    "f.max_expansion_coverage() - f.expansion_coverage()"
   ]
  },
  {
   "cell_type": "markdown",
   "metadata": {
    "slideshow": {
     "slide_type": "subslide"
    }
   },
   "source": [
    "Why is that so?  The problem is that in the CGI grammar, the largest number of variations to be covered occurs in the `hexdigit` rule.  However, we first need to _reach_ this expansion.  When expanding a `<letter>` symbol, we have the choice between three possible expansions:"
   ]
  },
  {
   "cell_type": "code",
   "execution_count": 31,
   "metadata": {
    "slideshow": {
     "slide_type": "fragment"
    }
   },
   "outputs": [
    {
     "data": {
      "text/plain": [
       "['<plus>', '<percent>', '<other>']"
      ]
     },
     "execution_count": 31,
     "metadata": {},
     "output_type": "execute_result"
    }
   ],
   "source": [
    "CGI_GRAMMAR[\"<letter>\"]"
   ]
  },
  {
   "cell_type": "markdown",
   "metadata": {
    "slideshow": {
     "slide_type": "fragment"
    }
   },
   "source": [
    "If all three expansions are covered already, then `choose_node_expansion()` above will choose one randomly – even if there may be more expansions to cover when choosing `<percent>`."
   ]
  },
  {
   "cell_type": "markdown",
   "metadata": {
    "slideshow": {
     "slide_type": "subslide"
    }
   },
   "source": [
    "What we need is a better strategy that will pick `<percent>` if there are more uncovered expansions following – even if `<percent>` is covered.  Such a strategy was first discussed by W. Burkhardt \\cite{Burkhardt1967} under the name of \"Shortest Path Selection\":\n",
    "\n",
    "> This version selects, from several alternatives for development, that syntactic unit under which there is still an unused unit available, starting with the shortest path.\n",
    "    \n",
    "This is what we will implement in the next steps."
   ]
  },
  {
   "cell_type": "markdown",
   "metadata": {
    "slideshow": {
     "slide_type": "subslide"
    }
   },
   "source": [
    "### Determining Maximum per-Symbol Coverage\n",
    "\n",
    "To address this problem, we introduce a new class `GrammarCoverageFuzzer` that builds on `SimpleGrammarCoverageFuzzer`, but with a better strategy.  First, we need to compute the _maximum set of expansions_ that can be reached from a particular symbol. The idea is to later compute the _intersection_ of this set and the expansions already covered, such that we can favor those expansions with a non-empty intersection."
   ]
  },
  {
   "cell_type": "markdown",
   "metadata": {
    "slideshow": {
     "slide_type": "fragment"
    }
   },
   "source": [
    "Our method `max_symbol_expansion_coverage()` computes this maximum set of expansions.  The helper method `_max_symbol_expansion_coverage()` does the heavy lifting, iterating through the grammar up to a given depth and tracking which symbols (`symbols_seen`) and which coverage (`cov`) has already been seen:"
   ]
  },
  {
   "cell_type": "code",
   "execution_count": 32,
   "metadata": {
    "slideshow": {
     "slide_type": "subslide"
    }
   },
   "outputs": [],
   "source": [
    "class GrammarCoverageFuzzer(SimpleGrammarCoverageFuzzer):\n",
    "    def _max_symbol_expansion_coverage(\n",
    "            self, symbol, max_depth, cov, symbols_seen):\n",
    "        \"\"\"Return set of all expansions in a grammar starting with `symbol`\"\"\"\n",
    "        if max_depth <= 0:\n",
    "            return (cov, symbols_seen)\n",
    "\n",
    "        symbols_seen.add(symbol)\n",
    "        for expansion in self.grammar[symbol]:\n",
    "            key = self.expansion_key(symbol, expansion)\n",
    "            if key in cov:\n",
    "                continue\n",
    "\n",
    "            cov.add(key)\n",
    "            for s in nonterminals(expansion):\n",
    "                if s in symbols_seen:\n",
    "                    continue\n",
    "                new_cov, new_symbols_seen = (\n",
    "                    self._max_symbol_expansion_coverage(s, max_depth - 1, cov, symbols_seen))\n",
    "                cov |= new_cov\n",
    "                symbols_seen |= new_symbols_seen\n",
    "\n",
    "        return (cov, symbols_seen)"
   ]
  },
  {
   "cell_type": "markdown",
   "metadata": {
    "slideshow": {
     "slide_type": "subslide"
    }
   },
   "source": [
    "The main method `max_symbol_expansion_coverage()` simply returns the coverage that can be achieved:"
   ]
  },
  {
   "cell_type": "code",
   "execution_count": 33,
   "metadata": {
    "slideshow": {
     "slide_type": "fragment"
    }
   },
   "outputs": [],
   "source": [
    "class GrammarCoverageFuzzer(GrammarCoverageFuzzer):\n",
    "    def max_symbol_expansion_coverage(self, symbol, max_depth=float('inf')):\n",
    "        cov, symbols_seen = self._max_symbol_expansion_coverage(\n",
    "            symbol, max_depth, set(), set())\n",
    "        return cov"
   ]
  },
  {
   "cell_type": "markdown",
   "metadata": {
    "slideshow": {
     "slide_type": "fragment"
    }
   },
   "source": [
    "With this, we can compute the possible expansions for every symbol"
   ]
  },
  {
   "cell_type": "code",
   "execution_count": 34,
   "metadata": {
    "slideshow": {
     "slide_type": "subslide"
    }
   },
   "outputs": [
    {
     "data": {
      "text/plain": [
       "{'<digit> -> 0',\n",
       " '<digit> -> 1',\n",
       " '<digit> -> 2',\n",
       " '<digit> -> 3',\n",
       " '<digit> -> 4',\n",
       " '<digit> -> 5',\n",
       " '<digit> -> 6',\n",
       " '<digit> -> 7',\n",
       " '<digit> -> 8',\n",
       " '<digit> -> 9',\n",
       " '<integer> -> <digit>',\n",
       " '<integer> -> <digit><integer>'}"
      ]
     },
     "execution_count": 34,
     "metadata": {},
     "output_type": "execute_result"
    }
   ],
   "source": [
    "f = GrammarCoverageFuzzer(EXPR_GRAMMAR)\n",
    "f.max_symbol_expansion_coverage('<integer>')"
   ]
  },
  {
   "cell_type": "code",
   "execution_count": 35,
   "metadata": {
    "slideshow": {
     "slide_type": "subslide"
    }
   },
   "outputs": [
    {
     "data": {
      "text/plain": [
       "{'<digit> -> 0',\n",
       " '<digit> -> 1',\n",
       " '<digit> -> 2',\n",
       " '<digit> -> 3',\n",
       " '<digit> -> 4',\n",
       " '<digit> -> 5',\n",
       " '<digit> -> 6',\n",
       " '<digit> -> 7',\n",
       " '<digit> -> 8',\n",
       " '<digit> -> 9'}"
      ]
     },
     "execution_count": 35,
     "metadata": {},
     "output_type": "execute_result"
    }
   ],
   "source": [
    "f.max_symbol_expansion_coverage('<digit>')"
   ]
  },
  {
   "cell_type": "markdown",
   "metadata": {
    "slideshow": {
     "slide_type": "fragment"
    }
   },
   "source": [
    "The maximum coverage achievable in a grammar is the same as starting with the start symbol:"
   ]
  },
  {
   "cell_type": "code",
   "execution_count": 36,
   "metadata": {
    "slideshow": {
     "slide_type": "fragment"
    }
   },
   "outputs": [],
   "source": [
    "assert f.max_expansion_coverage() == f.max_symbol_expansion_coverage(START_SYMBOL)"
   ]
  },
  {
   "cell_type": "markdown",
   "metadata": {
    "slideshow": {
     "slide_type": "subslide"
    }
   },
   "source": [
    "### Determining Children with new Coverage\n",
    "\n",
    "The definition of `max_symbol_expansion_coverage()` allows us to determine the _new_ coverage for each child.  To this end, we _subtract_ the coverage already seen (`expansion_coverage()`) from the coverage that could be obtained."
   ]
  },
  {
   "cell_type": "code",
   "execution_count": 37,
   "metadata": {
    "slideshow": {
     "slide_type": "subslide"
    }
   },
   "outputs": [],
   "source": [
    "class GrammarCoverageFuzzer(GrammarCoverageFuzzer):\n",
    "    def _new_child_coverage(self, children, max_depth):\n",
    "        new_cov = set()\n",
    "        for (c_symbol, _) in children:\n",
    "            if c_symbol in self.grammar:\n",
    "                new_cov |= self.max_symbol_expansion_coverage(\n",
    "                    c_symbol, max_depth)\n",
    "        return new_cov\n",
    "\n",
    "    def new_child_coverage(self, symbol, children, max_depth=float('inf')):\n",
    "        \"\"\"Return new coverage that would be obtained by expanding (symbol, children)\"\"\"\n",
    "        new_cov = self._new_child_coverage(children, max_depth)\n",
    "        new_cov.add(self.expansion_key(symbol, children))\n",
    "        new_cov -= self.expansion_coverage()   # -= is set subtraction\n",
    "        return new_cov"
   ]
  },
  {
   "cell_type": "markdown",
   "metadata": {
    "slideshow": {
     "slide_type": "subslide"
    }
   },
   "source": [
    "Let us illustrate `new_child_coverage()`.  We again start fuzzing, choosing expansions randomly."
   ]
  },
  {
   "cell_type": "code",
   "execution_count": 38,
   "metadata": {
    "slideshow": {
     "slide_type": "fragment"
    }
   },
   "outputs": [
    {
     "name": "stdout",
     "output_type": "stream",
     "text": [
      "Tree: <start>\n",
      "Expanding <start> randomly\n",
      "Now covered: <start> -> 8\n",
      "Tree: 8\n",
      "'8'\n"
     ]
    },
    {
     "data": {
      "text/plain": [
       "'8'"
      ]
     },
     "execution_count": 38,
     "metadata": {},
     "output_type": "execute_result"
    }
   ],
   "source": [
    "f = GrammarCoverageFuzzer(DIGIT_GRAMMAR, log=True)\n",
    "f.fuzz()"
   ]
  },
  {
   "cell_type": "markdown",
   "metadata": {
    "slideshow": {
     "slide_type": "fragment"
    }
   },
   "source": [
    "This is our current coverage:"
   ]
  },
  {
   "cell_type": "code",
   "execution_count": 39,
   "metadata": {
    "slideshow": {
     "slide_type": "fragment"
    }
   },
   "outputs": [
    {
     "data": {
      "text/plain": [
       "{'<start> -> 8'}"
      ]
     },
     "execution_count": 39,
     "metadata": {},
     "output_type": "execute_result"
    }
   ],
   "source": [
    "f.expansion_coverage()"
   ]
  },
  {
   "cell_type": "markdown",
   "metadata": {
    "slideshow": {
     "slide_type": "subslide"
    }
   },
   "source": [
    "When we go through the individual expansion possibilities for `START_SYMBOL`, we see that all expansions offer additional coverage, _except_ for the one we have just seen."
   ]
  },
  {
   "cell_type": "code",
   "execution_count": 40,
   "metadata": {
    "slideshow": {
     "slide_type": "fragment"
    }
   },
   "outputs": [
    {
     "name": "stdout",
     "output_type": "stream",
     "text": [
      "0 {'<start> -> 0'}\n",
      "1 {'<start> -> 1'}\n",
      "2 {'<start> -> 2'}\n",
      "3 {'<start> -> 3'}\n",
      "4 {'<start> -> 4'}\n",
      "5 {'<start> -> 5'}\n",
      "6 {'<start> -> 6'}\n",
      "7 {'<start> -> 7'}\n",
      "8 set()\n",
      "9 {'<start> -> 9'}\n"
     ]
    }
   ],
   "source": [
    "for expansion in DIGIT_GRAMMAR[START_SYMBOL]:\n",
    "    children = f.expansion_to_children(expansion)\n",
    "    print(expansion, f.new_child_coverage(START_SYMBOL, children))"
   ]
  },
  {
   "cell_type": "markdown",
   "metadata": {
    "slideshow": {
     "slide_type": "fragment"
    }
   },
   "source": [
    "This means that whenever choosing an expansion, we can make use of `new_child_coverage()` and choose among the expansions that offer the greatest new (unseen) coverage."
   ]
  },
  {
   "cell_type": "markdown",
   "metadata": {
    "slideshow": {
     "slide_type": "subslide"
    }
   },
   "source": [
    "### Adaptive Lookahead\n",
    "\n",
    "When choosing a child, we do not look out for the maximum overall coverage to be obtained, as this would have expansions with many uncovered possibilities totally dominate other expansions.  Instead, we aim for a _breadth-first_ strategy, first covering all expansions up to a given depth, and only then looking for a greater depth.  The method `new_coverages()` is at the heart of this strategy: Starting with a maximum depth (`max_depth`) of zero, it increases the depth until it finds at least one uncovered expansion."
   ]
  },
  {
   "cell_type": "code",
   "execution_count": 41,
   "metadata": {
    "slideshow": {
     "slide_type": "subslide"
    }
   },
   "outputs": [],
   "source": [
    "class GrammarCoverageFuzzer(GrammarCoverageFuzzer):\n",
    "    def new_coverages(self, node, possible_children):\n",
    "        \"\"\"Return coverage to be obtained for each child at minimum depth\"\"\"\n",
    "        (symbol, children) = node\n",
    "        for max_depth in range(len(self.grammar)):\n",
    "            new_coverages = [\n",
    "                self.new_child_coverage(\n",
    "                    symbol, c, max_depth) for c in possible_children]\n",
    "            max_new_coverage = max(len(new_coverage)\n",
    "                                   for new_coverage in new_coverages)\n",
    "            if max_new_coverage > 0:\n",
    "                # Uncovered node found\n",
    "                return new_coverages\n",
    "\n",
    "        # All covered\n",
    "        return None"
   ]
  },
  {
   "cell_type": "markdown",
   "metadata": {
    "slideshow": {
     "slide_type": "subslide"
    }
   },
   "source": [
    "### All Together\n",
    "\n",
    "We can now define `choose_node_expansion()` to make use of this strategy: First, we determine the possible coverages to be obtained (using `new_coverages()`); then we (randomly) select among the children which sport the maximum coverage."
   ]
  },
  {
   "cell_type": "code",
   "execution_count": 42,
   "metadata": {
    "slideshow": {
     "slide_type": "subslide"
    }
   },
   "outputs": [],
   "source": [
    "class GrammarCoverageFuzzer(GrammarCoverageFuzzer):\n",
    "    def choose_node_expansion(self, node, possible_children):\n",
    "        (symbol, children) = node\n",
    "        new_coverages = self.new_coverages(node, possible_children)\n",
    "\n",
    "        if new_coverages is None:\n",
    "            # All expansions covered - use superclass method\n",
    "            return self.choose_covered_node_expansion(node, possible_children)\n",
    "\n",
    "        max_new_coverage = max(len(cov) for cov in new_coverages)\n",
    "\n",
    "        children_with_max_new_coverage = [c for (i, c) in enumerate(possible_children)\n",
    "                                          if len(new_coverages[i]) == max_new_coverage]\n",
    "        index_map = [i for (i, c) in enumerate(possible_children)\n",
    "                     if len(new_coverages[i]) == max_new_coverage]\n",
    "\n",
    "        # Select a random expansion\n",
    "        new_children_index = self.choose_uncovered_node_expansion(\n",
    "            node, children_with_max_new_coverage)\n",
    "        new_children = children_with_max_new_coverage[new_children_index]\n",
    "\n",
    "        # Save the expansion as covered\n",
    "        key = self.expansion_key(symbol, new_children)\n",
    "\n",
    "        if self.log:\n",
    "            print(\"Now covered:\", key)\n",
    "        self.covered_expansions.add(key)\n",
    "\n",
    "        return index_map[new_children_index]"
   ]
  },
  {
   "cell_type": "markdown",
   "metadata": {
    "slideshow": {
     "slide_type": "subslide"
    }
   },
   "source": [
    "Our fuzzer is now complete.  Let us apply it on a series of examples.  On expressions, it quickly covers all digits and operators:"
   ]
  },
  {
   "cell_type": "code",
   "execution_count": 43,
   "metadata": {
    "slideshow": {
     "slide_type": "fragment"
    }
   },
   "outputs": [
    {
     "data": {
      "text/plain": [
       "'(3 / 7 * 9 + 6) * -5.8 / +0 * 7 - 14.2'"
      ]
     },
     "execution_count": 43,
     "metadata": {},
     "output_type": "execute_result"
    }
   ],
   "source": [
    "f = GrammarCoverageFuzzer(EXPR_GRAMMAR, min_nonterminals=3)\n",
    "f.fuzz()"
   ]
  },
  {
   "cell_type": "code",
   "execution_count": 44,
   "metadata": {
    "slideshow": {
     "slide_type": "fragment"
    }
   },
   "outputs": [
    {
     "data": {
      "text/plain": [
       "set()"
      ]
     },
     "execution_count": 44,
     "metadata": {},
     "output_type": "execute_result"
    }
   ],
   "source": [
    "f.max_expansion_coverage() - f.expansion_coverage()"
   ]
  },
  {
   "cell_type": "markdown",
   "metadata": {
    "slideshow": {
     "slide_type": "fragment"
    }
   },
   "source": [
    "On average, it is again faster than the simple strategy:"
   ]
  },
  {
   "cell_type": "code",
   "execution_count": 45,
   "metadata": {
    "slideshow": {
     "slide_type": "fragment"
    }
   },
   "outputs": [
    {
     "data": {
      "text/plain": [
       "50.92"
      ]
     },
     "execution_count": 45,
     "metadata": {},
     "output_type": "execute_result"
    }
   ],
   "source": [
    "average_length_until_full_coverage(GrammarCoverageFuzzer(EXPR_GRAMMAR))"
   ]
  },
  {
   "cell_type": "markdown",
   "metadata": {
    "slideshow": {
     "slide_type": "subslide"
    }
   },
   "source": [
    "On the CGI grammar, it takes but a few iterations to cover all letters and digits:"
   ]
  },
  {
   "cell_type": "code",
   "execution_count": 46,
   "metadata": {
    "slideshow": {
     "slide_type": "fragment"
    }
   },
   "outputs": [
    {
     "name": "stdout",
     "output_type": "stream",
     "text": [
      "%68+41\n",
      "e%1ea25_\n",
      "%c2%ab%97-c\n",
      "%3fb0d\n",
      "%d53%4024\n"
     ]
    }
   ],
   "source": [
    "f = GrammarCoverageFuzzer(CGI_GRAMMAR, min_nonterminals=5)\n",
    "while len(f.max_expansion_coverage() - f.expansion_coverage()) > 0:\n",
    "    print(f.fuzz())"
   ]
  },
  {
   "cell_type": "markdown",
   "metadata": {
    "slideshow": {
     "slide_type": "subslide"
    }
   },
   "source": [
    "This improvement can also be seen in comparing the random, expansion-only, and deep foresight strategies on the CGI grammar:"
   ]
  },
  {
   "cell_type": "code",
   "execution_count": 47,
   "metadata": {
    "slideshow": {
     "slide_type": "fragment"
    }
   },
   "outputs": [
    {
     "data": {
      "text/plain": [
       "214.44"
      ]
     },
     "execution_count": 47,
     "metadata": {},
     "output_type": "execute_result"
    }
   ],
   "source": [
    "average_length_until_full_coverage(TrackingGrammarCoverageFuzzer(CGI_GRAMMAR))"
   ]
  },
  {
   "cell_type": "code",
   "execution_count": 48,
   "metadata": {
    "slideshow": {
     "slide_type": "fragment"
    }
   },
   "outputs": [
    {
     "data": {
      "text/plain": [
       "68.02"
      ]
     },
     "execution_count": 48,
     "metadata": {},
     "output_type": "execute_result"
    }
   ],
   "source": [
    "average_length_until_full_coverage(SimpleGrammarCoverageFuzzer(CGI_GRAMMAR))"
   ]
  },
  {
   "cell_type": "code",
   "execution_count": 49,
   "metadata": {
    "slideshow": {
     "slide_type": "fragment"
    }
   },
   "outputs": [
    {
     "data": {
      "text/plain": [
       "40.26"
      ]
     },
     "execution_count": 49,
     "metadata": {},
     "output_type": "execute_result"
    }
   ],
   "source": [
    "average_length_until_full_coverage(GrammarCoverageFuzzer(CGI_GRAMMAR))"
   ]
  },
  {
   "cell_type": "markdown",
   "metadata": {
    "slideshow": {
     "slide_type": "slide"
    },
    "toc-hr-collapsed": true
   },
   "source": [
    "## Coverage in Context\n",
    "\n",
    "Sometimes, grammar elements are used in more than just one place.  In our expression grammar, for instance, the `<integer>` symbol is used for integer numbers as well as for floating point numbers:"
   ]
  },
  {
   "cell_type": "code",
   "execution_count": 50,
   "metadata": {
    "slideshow": {
     "slide_type": "fragment"
    }
   },
   "outputs": [
    {
     "data": {
      "text/plain": [
       "['+<factor>', '-<factor>', '(<expr>)', '<integer>.<integer>', '<integer>']"
      ]
     },
     "execution_count": 50,
     "metadata": {},
     "output_type": "execute_result"
    }
   ],
   "source": [
    "EXPR_GRAMMAR[\"<factor>\"]"
   ]
  },
  {
   "cell_type": "markdown",
   "metadata": {
    "slideshow": {
     "slide_type": "fragment"
    }
   },
   "source": [
    "Our coverage production, as defined above, will ensure that all `<integer>` expansions (i.e., all `<digit>` expansions) are covered.  However, the individual digits would be _distributed_ across all occurrences of `<integer>` in the grammar.  If our coverage-based fuzzer produces, say, `1234.56`  and `7890`, we would have full coverage of all integer expansions, but `<integer>.<integer>` and `<integer>` in the `<factor>` expansions above would be covered only by a fraction of the digits."
   ]
  },
  {
   "cell_type": "markdown",
   "metadata": {
    "slideshow": {
     "slide_type": "subslide"
    }
   },
   "source": [
    "Ignoring the context in which a symbol is used (in our case, the various uses of `<integer>` in the `<factor>` context) can be useful if we can assume that all occurrences of this symbol are treated alike anyway.  If not, though, one way to ensure that an occurrence of a symbol is systematically covered independently of other occurrences is to assign the occurrence to a new symbol which is a _duplicate_ of the old symbol.  We will first show how to _manually_ create such duplicates, and then a dedicated function which does it automatically."
   ]
  },
  {
   "cell_type": "markdown",
   "metadata": {
    "slideshow": {
     "slide_type": "subslide"
    }
   },
   "source": [
    "### Extending Grammars for Context Coverage Manually\n",
    "\n",
    "As stated above, one simple way to achieve coverage in context is by _duplicating_ symbols as well as the rules they reference to.  For instance, we could replace `<integer>.<integer>` by `<integer-1>.<integer-2>` and give `<integer-1>` and `<integer-2>` the same definitions as the original `<integer>`.  This would mean that not only all expansions of `<integer>`, but also all expansions of `<integer-1>` and `<integer-2>` would be covered."
   ]
  },
  {
   "cell_type": "markdown",
   "metadata": {
    "slideshow": {
     "slide_type": "subslide"
    }
   },
   "source": [
    "Let us illustrate this with actual code:"
   ]
  },
  {
   "cell_type": "code",
   "execution_count": 51,
   "metadata": {
    "slideshow": {
     "slide_type": "skip"
    }
   },
   "outputs": [],
   "source": [
    "import copy"
   ]
  },
  {
   "cell_type": "code",
   "execution_count": 52,
   "metadata": {
    "slideshow": {
     "slide_type": "fragment"
    }
   },
   "outputs": [
    {
     "data": {
      "text/plain": [
       "['+<factor>', '-<factor>', '(<expr>)', '<integer-1>.<integer-2>', '<integer>']"
      ]
     },
     "execution_count": 52,
     "metadata": {},
     "output_type": "execute_result"
    }
   ],
   "source": [
    "dup_expr_grammar = copy.deepcopy(EXPR_GRAMMAR)\n",
    "dup_expr_grammar[\"<factor>\"][3] = \"<integer-1>.<integer-2>\"\n",
    "dup_expr_grammar[\"<factor>\"]"
   ]
  },
  {
   "cell_type": "code",
   "execution_count": 53,
   "metadata": {
    "slideshow": {
     "slide_type": "fragment"
    }
   },
   "outputs": [],
   "source": [
    "dup_expr_grammar.update({\n",
    "    \"<integer-1>\": [\"<digit-1><integer-1>\", \"<digit-1>\"],\n",
    "    \"<integer-2>\": [\"<digit-2><integer-2>\", \"<digit-2>\"],\n",
    "    \"<digit-1>\":\n",
    "        [\"0\", \"1\", \"2\", \"3\", \"4\", \"5\", \"6\", \"7\", \"8\", \"9\"],\n",
    "    \"<digit-2>\":\n",
    "        [\"0\", \"1\", \"2\", \"3\", \"4\", \"5\", \"6\", \"7\", \"8\", \"9\"]\n",
    "})"
   ]
  },
  {
   "cell_type": "code",
   "execution_count": 54,
   "metadata": {
    "slideshow": {
     "slide_type": "skip"
    }
   },
   "outputs": [],
   "source": [
    "assert is_valid_grammar(dup_expr_grammar)"
   ]
  },
  {
   "cell_type": "markdown",
   "metadata": {
    "slideshow": {
     "slide_type": "subslide"
    }
   },
   "source": [
    "If we now run our coverage-based fuzzer on the extended grammar, we will cover all digits both of regular integers, as well as all digits in the whole and fraction part of floating-point numbers:"
   ]
  },
  {
   "cell_type": "code",
   "execution_count": 55,
   "metadata": {
    "slideshow": {
     "slide_type": "fragment"
    }
   },
   "outputs": [
    {
     "name": "stdout",
     "output_type": "stream",
     "text": [
      "+16.1\n",
      "(-8136 * (0 * 2 + 9) / 5 * 5.4 / 4 - 7)\n",
      "2.026\n",
      "3.75\n",
      "780.3\n",
      "9.98\n",
      "4143.85\n",
      "8\n",
      "((9 + 9) / -9 / 8 * 6 + 8.8 / 2 * 2 + 3)\n",
      "-201.7\n"
     ]
    }
   ],
   "source": [
    "f = GrammarCoverageFuzzer(dup_expr_grammar, start_symbol=\"<factor>\")\n",
    "for i in range(10):\n",
    "    print(f.fuzz())"
   ]
  },
  {
   "cell_type": "markdown",
   "metadata": {
    "slideshow": {
     "slide_type": "fragment"
    }
   },
   "source": [
    "We see how our \"foresighted\" coverage fuzzer specifically generates floating-point numbers that cover all digits both in the whole and fractional parts."
   ]
  },
  {
   "cell_type": "markdown",
   "metadata": {
    "slideshow": {
     "slide_type": "subslide"
    }
   },
   "source": [
    "### Extending Grammars for Context Coverage Programmatically\n",
    "\n",
    "If we want to enhance coverage in context, manually adapting our grammars may not be the perfect choice, since any change to the grammar will have to be replicated in all duplicates.  Instead, we introduce a function that will do the duplication for us."
   ]
  },
  {
   "cell_type": "markdown",
   "metadata": {
    "slideshow": {
     "slide_type": "subslide"
    }
   },
   "source": [
    "The function `duplicate_context()` takes a grammar, a symbol in the grammar, and an expansion of this symbol (`None` or not given: all expansions of symbol),  and it changes the expansion to refer to a duplicate of all originally referenced rules.  The idea is that we invoke it as\n",
    "\n",
    "```python\n",
    "dup_expr_grammar = copy.deepcopy(EXPR_GRAMMAR)\n",
    "duplicate_context(dup_expr_grammar, \"<factor>\", \"<integer>.<integer>\")\n",
    "```\n",
    "\n",
    "and get a similar result as with our manual changes, above."
   ]
  },
  {
   "cell_type": "markdown",
   "metadata": {
    "slideshow": {
     "slide_type": "subslide"
    }
   },
   "source": [
    "Here is the code:"
   ]
  },
  {
   "cell_type": "code",
   "execution_count": 56,
   "metadata": {
    "slideshow": {
     "slide_type": "skip"
    }
   },
   "outputs": [],
   "source": [
    "from Grammars import new_symbol\n",
    "from GrammarFuzzer import expansion_to_children"
   ]
  },
  {
   "cell_type": "code",
   "execution_count": 57,
   "metadata": {
    "slideshow": {
     "slide_type": "fragment"
    }
   },
   "outputs": [],
   "source": [
    "def duplicate_context(grammar, symbol, expansion=None, depth=-1):\n",
    "    \"\"\"Duplicate an expansion within a grammar.\n",
    "\n",
    "    In the given grammar, take the given expansion of the given symbol\n",
    "    (if expansion is omitted: all symbols), and replace it with a \n",
    "    new expansion referring to a duplicate of all originally referenced rules.\n",
    "\n",
    "    If depth is given, limit duplication to `depth` references (default: unlimited)\n",
    "    \"\"\"\n",
    "    orig_grammar = copy.deepcopy(grammar)\n",
    "    _duplicate_context(grammar, orig_grammar, symbol,\n",
    "                       expansion, depth, seen={})"
   ]
  },
  {
   "cell_type": "markdown",
   "metadata": {
    "slideshow": {
     "slide_type": "subslide"
    }
   },
   "source": [
    "The gist of the work takes place in this helper function.  The additional parameter `seen` keeps track of symbols already expanded and avoids infinite recursion."
   ]
  },
  {
   "cell_type": "code",
   "execution_count": 58,
   "metadata": {
    "slideshow": {
     "slide_type": "fragment"
    }
   },
   "outputs": [],
   "source": [
    "def _duplicate_context(grammar, orig_grammar, symbol, expansion, depth, seen):\n",
    "    for i in range(len(grammar[symbol])):\n",
    "        if expansion is None or grammar[symbol][i] == expansion:\n",
    "            new_expansion = \"\"\n",
    "            for (s, c) in expansion_to_children(grammar[symbol][i]):\n",
    "                if s in seen:                 # Duplicated already\n",
    "                    new_expansion += seen[s]\n",
    "                elif c == [] or depth == 0:   # Terminal symbol or end of recursion\n",
    "                    new_expansion += s\n",
    "                else:                         # Nonterminal symbol - duplicate\n",
    "                    # Add new symbol with copy of rule\n",
    "                    new_s = new_symbol(grammar, s)\n",
    "                    grammar[new_s] = copy.deepcopy(orig_grammar[s])\n",
    "\n",
    "                    # Duplicate its expansions recursively\n",
    "                    # {**seen, **{s: new_s}} is seen + {s: new_s}\n",
    "                    _duplicate_context(grammar, orig_grammar, new_s, expansion=None,\n",
    "                                       depth=depth - 1, seen={**seen, **{s: new_s}})\n",
    "                    new_expansion += new_s\n",
    "\n",
    "            grammar[symbol][i] = new_expansion"
   ]
  },
  {
   "cell_type": "markdown",
   "metadata": {
    "slideshow": {
     "slide_type": "subslide"
    }
   },
   "source": [
    "Here's our above example of how `duplicate_context()` works, now with results.  We let it duplicate the `<integer>.<integer>` expansion in our expression grammar, and obtain a new grammar with an `<integer-1>.<integer-2>` expansion where both `<integer-1>` and `<integer-2>` refer to copies of the original rules:"
   ]
  },
  {
   "cell_type": "code",
   "execution_count": 59,
   "metadata": {
    "slideshow": {
     "slide_type": "fragment"
    }
   },
   "outputs": [
    {
     "data": {
      "text/plain": [
       "{'<start>': ['<expr>'],\n",
       " '<expr>': ['<term> + <expr>', '<term> - <expr>', '<term>'],\n",
       " '<term>': ['<factor> * <term>', '<factor> / <term>', '<factor>'],\n",
       " '<factor>': ['+<factor>',\n",
       "  '-<factor>',\n",
       "  '(<expr>)',\n",
       "  '<integer-1>.<integer-2>',\n",
       "  '<integer>'],\n",
       " '<integer>': ['<digit><integer>', '<digit>'],\n",
       " '<digit>': ['0', '1', '2', '3', '4', '5', '6', '7', '8', '9'],\n",
       " '<integer-1>': ['<digit-1><integer-1>', '<digit-2>'],\n",
       " '<digit-1>': ['0', '1', '2', '3', '4', '5', '6', '7', '8', '9'],\n",
       " '<digit-2>': ['0', '1', '2', '3', '4', '5', '6', '7', '8', '9'],\n",
       " '<integer-2>': ['<digit-3><integer-2>', '<digit-4>'],\n",
       " '<digit-3>': ['0', '1', '2', '3', '4', '5', '6', '7', '8', '9'],\n",
       " '<digit-4>': ['0', '1', '2', '3', '4', '5', '6', '7', '8', '9']}"
      ]
     },
     "execution_count": 59,
     "metadata": {},
     "output_type": "execute_result"
    }
   ],
   "source": [
    "dup_expr_grammar = copy.deepcopy(EXPR_GRAMMAR)\n",
    "duplicate_context(dup_expr_grammar, \"<factor>\", \"<integer>.<integer>\")\n",
    "dup_expr_grammar"
   ]
  },
  {
   "cell_type": "markdown",
   "metadata": {
    "slideshow": {
     "slide_type": "subslide"
    }
   },
   "source": [
    "Just like above, using such a grammar for coverage fuzzing will now cover digits in a number of contexts.  To be precise, there are five contexts: Regular integers, as well as single-digit and multi-digit whole and fractional parts of floating-point numbers."
   ]
  },
  {
   "cell_type": "code",
   "execution_count": 60,
   "metadata": {
    "slideshow": {
     "slide_type": "fragment"
    }
   },
   "outputs": [
    {
     "name": "stdout",
     "output_type": "stream",
     "text": [
      "2.0\n",
      "-+7\n",
      "((3 * 6 / 9 - 2 + 1) + 5.74 * 4 / 5)\n",
      "087\n",
      "351.6296\n",
      "060.5\n",
      "28.3\n",
      "9.548\n",
      "493.081\n",
      "16.2\n"
     ]
    }
   ],
   "source": [
    "f = GrammarCoverageFuzzer(dup_expr_grammar, start_symbol=\"<factor>\")\n",
    "for i in range(10):\n",
    "    print(f.fuzz())"
   ]
  },
  {
   "cell_type": "markdown",
   "metadata": {
    "slideshow": {
     "slide_type": "subslide"
    }
   },
   "source": [
    "The `depth` parameter controls how deep the duplication should go.  Setting `depth` to 1 will duplicate only the next rule:"
   ]
  },
  {
   "cell_type": "code",
   "execution_count": 61,
   "metadata": {
    "slideshow": {
     "slide_type": "fragment"
    }
   },
   "outputs": [
    {
     "data": {
      "text/plain": [
       "{'<start>': ['<expr>'],\n",
       " '<expr>': ['<term> + <expr>', '<term> - <expr>', '<term>'],\n",
       " '<term>': ['<factor> * <term>', '<factor> / <term>', '<factor>'],\n",
       " '<factor>': ['+<factor>',\n",
       "  '-<factor>',\n",
       "  '(<expr>)',\n",
       "  '<integer-1>.<integer-2>',\n",
       "  '<integer>'],\n",
       " '<integer>': ['<digit><integer>', '<digit>'],\n",
       " '<digit>': ['0', '1', '2', '3', '4', '5', '6', '7', '8', '9'],\n",
       " '<integer-1>': ['<digit><integer-1>', '<digit>'],\n",
       " '<integer-2>': ['<digit><integer-2>', '<digit>']}"
      ]
     },
     "execution_count": 61,
     "metadata": {},
     "output_type": "execute_result"
    }
   ],
   "source": [
    "dup_expr_grammar = copy.deepcopy(EXPR_GRAMMAR)\n",
    "duplicate_context(dup_expr_grammar, \"<factor>\", \"<integer>.<integer>\", depth=1)\n",
    "dup_expr_grammar"
   ]
  },
  {
   "cell_type": "code",
   "execution_count": 62,
   "metadata": {
    "slideshow": {
     "slide_type": "skip"
    }
   },
   "outputs": [],
   "source": [
    "assert is_valid_grammar(dup_expr_grammar)"
   ]
  },
  {
   "cell_type": "markdown",
   "metadata": {
    "slideshow": {
     "slide_type": "subslide"
    }
   },
   "source": [
    "By default, `depth` is set to `-1`, indicating unlimited duplication.  True unbounded duplication could lead to problems for a recursive grammar such as `EXPR_GRAMMAR`, so `duplicate_context()` is set to no longer duplicate symbols once duplicated.  Still, if we apply it to duplicate _all_ `<expr>` expansions, we obtain a grammar with no less than 296 rules:"
   ]
  },
  {
   "cell_type": "code",
   "execution_count": 63,
   "metadata": {
    "slideshow": {
     "slide_type": "fragment"
    }
   },
   "outputs": [
    {
     "data": {
      "text/plain": [
       "296"
      ]
     },
     "execution_count": 63,
     "metadata": {},
     "output_type": "execute_result"
    }
   ],
   "source": [
    "dup_expr_grammar = copy.deepcopy(EXPR_GRAMMAR)\n",
    "duplicate_context(dup_expr_grammar, \"<expr>\")\n",
    "len(dup_expr_grammar)"
   ]
  },
  {
   "cell_type": "markdown",
   "metadata": {
    "slideshow": {
     "slide_type": "fragment"
    }
   },
   "source": [
    "This gives us more than 2000 expansions to cover:"
   ]
  },
  {
   "cell_type": "code",
   "execution_count": 64,
   "metadata": {
    "slideshow": {
     "slide_type": "fragment"
    }
   },
   "outputs": [
    {
     "data": {
      "text/plain": [
       "2001"
      ]
     },
     "execution_count": 64,
     "metadata": {},
     "output_type": "execute_result"
    }
   ],
   "source": [
    "f = GrammarCoverageFuzzer(dup_expr_grammar)\n",
    "len(f.max_expansion_coverage())"
   ]
  },
  {
   "cell_type": "markdown",
   "metadata": {
    "slideshow": {
     "slide_type": "subslide"
    }
   },
   "source": [
    "Duplicating one more time keeps on both growing the grammar and the coverage requirements:"
   ]
  },
  {
   "cell_type": "code",
   "execution_count": 65,
   "metadata": {
    "slideshow": {
     "slide_type": "fragment"
    }
   },
   "outputs": [
    {
     "data": {
      "text/plain": [
       "586"
      ]
     },
     "execution_count": 65,
     "metadata": {},
     "output_type": "execute_result"
    }
   ],
   "source": [
    "dup_expr_grammar = copy.deepcopy(EXPR_GRAMMAR)\n",
    "duplicate_context(dup_expr_grammar, \"<expr>\")\n",
    "duplicate_context(dup_expr_grammar, \"<expr>\")\n",
    "len(dup_expr_grammar)"
   ]
  },
  {
   "cell_type": "code",
   "execution_count": 66,
   "metadata": {
    "slideshow": {
     "slide_type": "fragment"
    }
   },
   "outputs": [
    {
     "data": {
      "text/plain": [
       "3978"
      ]
     },
     "execution_count": 66,
     "metadata": {},
     "output_type": "execute_result"
    }
   ],
   "source": [
    "f = GrammarCoverageFuzzer(dup_expr_grammar)\n",
    "len(f.max_expansion_coverage())"
   ]
  },
  {
   "cell_type": "markdown",
   "metadata": {
    "slideshow": {
     "slide_type": "subslide"
    }
   },
   "source": [
    "At this point, plenty of contexts can be covered individually – for instance, multiplications of elements within additions:"
   ]
  },
  {
   "cell_type": "code",
   "execution_count": 67,
   "metadata": {
    "slideshow": {
     "slide_type": "fragment"
    }
   },
   "outputs": [
    {
     "data": {
      "text/plain": [
       "['<term-1-1> + <expr-4-1>', '<term-5-1> - <expr-8-1>', '<term-9-1>']"
      ]
     },
     "execution_count": 67,
     "metadata": {},
     "output_type": "execute_result"
    }
   ],
   "source": [
    "dup_expr_grammar[\"<expr>\"]"
   ]
  },
  {
   "cell_type": "code",
   "execution_count": 68,
   "metadata": {
    "slideshow": {
     "slide_type": "fragment"
    }
   },
   "outputs": [
    {
     "data": {
      "text/plain": [
       "['<factor-1-1> * <term-1-1>', '<factor-2-1> / <term-1-1>', '<factor-3-1>']"
      ]
     },
     "execution_count": 68,
     "metadata": {},
     "output_type": "execute_result"
    }
   ],
   "source": [
    "dup_expr_grammar[\"<term-1-1>\"]"
   ]
  },
  {
   "cell_type": "code",
   "execution_count": 69,
   "metadata": {
    "slideshow": {
     "slide_type": "fragment"
    }
   },
   "outputs": [
    {
     "data": {
      "text/plain": [
       "['+<factor-1-1>',\n",
       " '-<factor-1-1>',\n",
       " '(<expr-1-1>)',\n",
       " '<integer-1-1>.<integer-2-1>',\n",
       " '<integer-3-1>']"
      ]
     },
     "execution_count": 69,
     "metadata": {},
     "output_type": "execute_result"
    }
   ],
   "source": [
    "dup_expr_grammar[\"<factor-1-1>\"]"
   ]
  },
  {
   "cell_type": "markdown",
   "metadata": {
    "slideshow": {
     "slide_type": "subslide"
    }
   },
   "source": [
    "The resulting grammars may no longer be useful for human maintenance; but running a coverage-driven fuzzer such as `GrammarCoverageFuzzer()` will then go and cover all these expansions in all contexts.  If you want to cover elements in a large number of contexts, then `duplicate_context()` followed by a coverage-driven fuzzer is your friend."
   ]
  },
  {
   "cell_type": "markdown",
   "metadata": {
    "slideshow": {
     "slide_type": "slide"
    },
    "toc-hr-collapsed": true
   },
   "source": [
    "## Covering Code by Covering Grammars\n",
    "\n",
    "With or without context: By systematically covering all input elements, we get a larger variety in inputs – but does this translate into a wider variety of program behaviors?  After all, these behaviors are what we want to cover, including the unexpected behaviors. "
   ]
  },
  {
   "cell_type": "markdown",
   "metadata": {
    "slideshow": {
     "slide_type": "fragment"
    }
   },
   "source": [
    "In a grammar, there are elements that directly correspond to program features.  A program handling arithmetic expressions will have functionality that is directly triggered by individual elements - say, an addition feature triggered by the presence of `+`, subtraction triggered by the presence of `-`, and floating-point arithmetic triggered by the presence of floating-point numbers in the input."
   ]
  },
  {
   "cell_type": "markdown",
   "metadata": {
    "slideshow": {
     "slide_type": "fragment"
    }
   },
   "source": [
    "Such a connection between input structure and functionality leads to a strong _correlation between grammar coverage and code coverage_.  In other words: If we can achieve a high grammar coverage, this also leads to a high code coverage."
   ]
  },
  {
   "cell_type": "markdown",
   "metadata": {
    "slideshow": {
     "slide_type": "subslide"
    }
   },
   "source": [
    "### CGI Grammars\n",
    "\n",
    "Let us explore this relationship on one of our grammars – say, the CGI decoder.  We compute a mapping `coverages` where in `coverages[x]` = `{y_1, y_2, ...}`, `x` is the grammar coverage obtained, and `y_n` is the code coverage obtained for the `n`-th run:"
   ]
  },
  {
   "cell_type": "code",
   "execution_count": 70,
   "metadata": {
    "slideshow": {
     "slide_type": "skip"
    }
   },
   "outputs": [],
   "source": [
    "from Coverage import Coverage, cgi_decode"
   ]
  },
  {
   "cell_type": "code",
   "execution_count": 71,
   "metadata": {
    "slideshow": {
     "slide_type": "subslide"
    }
   },
   "outputs": [],
   "source": [
    "f = GrammarCoverageFuzzer(CGI_GRAMMAR, max_nonterminals=2)\n",
    "coverages = {}\n",
    "\n",
    "trials = 100\n",
    "for trial in range(trials):\n",
    "    f.reset_coverage()\n",
    "    overall_cov = set()\n",
    "\n",
    "    for i in range(10):\n",
    "        s = f.fuzz()\n",
    "        with Coverage() as cov:\n",
    "            cgi_decode(s)\n",
    "        overall_cov |= cov.coverage()\n",
    "\n",
    "        x = len(f.expansion_coverage())\n",
    "        y = len(overall_cov)\n",
    "        if x not in coverages:\n",
    "            coverages[x] = []\n",
    "        coverages[x].append(y)"
   ]
  },
  {
   "cell_type": "markdown",
   "metadata": {
    "slideshow": {
     "slide_type": "subslide"
    }
   },
   "source": [
    "We compute the averages for the `y`-values:"
   ]
  },
  {
   "cell_type": "code",
   "execution_count": 72,
   "metadata": {
    "slideshow": {
     "slide_type": "fragment"
    }
   },
   "outputs": [],
   "source": [
    "xs = list(coverages.keys())\n",
    "ys = [sum(coverages[x]) / len(coverages[x]) for x in coverages]"
   ]
  },
  {
   "cell_type": "markdown",
   "metadata": {
    "slideshow": {
     "slide_type": "fragment"
    }
   },
   "source": [
    "and create a scatter plot:"
   ]
  },
  {
   "cell_type": "code",
   "execution_count": 73,
   "metadata": {
    "slideshow": {
     "slide_type": "skip"
    }
   },
   "outputs": [],
   "source": [
    "%matplotlib inline"
   ]
  },
  {
   "cell_type": "code",
   "execution_count": 74,
   "metadata": {
    "slideshow": {
     "slide_type": "skip"
    }
   },
   "outputs": [],
   "source": [
    "import matplotlib.pyplot as plt"
   ]
  },
  {
   "cell_type": "code",
   "execution_count": 75,
   "metadata": {
    "slideshow": {
     "slide_type": "fragment"
    }
   },
   "outputs": [
    {
     "data": {
      "text/plain": [
       "Text(0, 0.5, 'code coverage (lines)')"
      ]
     },
     "execution_count": 75,
     "metadata": {},
     "output_type": "execute_result"
    },
    {
     "data": {
      "image/png": "[encoded data removed]",
      "text/plain": [
       "<Figure size 432x288 with 1 Axes>"
      ]
     },
     "metadata": {
      "needs_background": "light"
     },
     "output_type": "display_data"
    }
   ],
   "source": [
    "plt.scatter(xs, ys)\n",
    "plt.title('Coverage of cgi_decode() vs. grammar coverage')\n",
    "plt.xlabel('grammar coverage (expansions)')\n",
    "plt.ylabel('code coverage (lines)')"
   ]
  },
  {
   "cell_type": "markdown",
   "metadata": {
    "slideshow": {
     "slide_type": "fragment"
    }
   },
   "source": [
    "We see that the higher the grammar coverage, the higher the code coverage."
   ]
  },
  {
   "cell_type": "markdown",
   "metadata": {
    "slideshow": {
     "slide_type": "subslide"
    }
   },
   "source": [
    "This also translates into a correlation coefficient of about 0.8, indicating a strong correlation:"
   ]
  },
  {
   "cell_type": "code",
   "execution_count": 76,
   "metadata": {
    "slideshow": {
     "slide_type": "skip"
    }
   },
   "outputs": [],
   "source": [
    "import numpy as np"
   ]
  },
  {
   "cell_type": "code",
   "execution_count": 77,
   "metadata": {
    "slideshow": {
     "slide_type": "fragment"
    }
   },
   "outputs": [
    {
     "data": {
      "text/plain": [
       "array([[1.        , 0.79173661],\n",
       "       [0.79173661, 1.        ]])"
      ]
     },
     "execution_count": 77,
     "metadata": {},
     "output_type": "execute_result"
    }
   ],
   "source": [
    "np.corrcoef(xs, ys)"
   ]
  },
  {
   "cell_type": "markdown",
   "metadata": {
    "slideshow": {
     "slide_type": "subslide"
    }
   },
   "source": [
    "### URL Grammars\n",
    "\n",
    "Let us repeat this experiment on URL grammars.  We use the same code as above, except for exchanging the grammars and the function in place:"
   ]
  },
  {
   "cell_type": "code",
   "execution_count": 78,
   "metadata": {
    "button": false,
    "new_sheet": false,
    "run_control": {
     "read_only": false
    },
    "slideshow": {
     "slide_type": "skip"
    }
   },
   "outputs": [],
   "source": [
    "try:\n",
    "    from urlparse import urlparse      # Python 2\n",
    "except ImportError:\n",
    "    from urllib.parse import urlparse  # Python 3"
   ]
  },
  {
   "cell_type": "code",
   "execution_count": 79,
   "metadata": {
    "slideshow": {
     "slide_type": "fragment"
    }
   },
   "outputs": [],
   "source": [
    "f = GrammarCoverageFuzzer(URL_GRAMMAR, max_nonterminals=2)\n",
    "coverages = {}\n",
    "\n",
    "trials = 100\n",
    "for trial in range(trials):\n",
    "    f.reset_coverage()\n",
    "    overall_cov = set()\n",
    "\n",
    "    for i in range(20):\n",
    "        s = f.fuzz()\n",
    "        with Coverage() as cov:\n",
    "            urlparse(s)\n",
    "        overall_cov |= cov.coverage()\n",
    "\n",
    "        x = len(f.expansion_coverage())\n",
    "        y = len(overall_cov)\n",
    "        if x not in coverages:\n",
    "            coverages[x] = []\n",
    "        coverages[x].append(y)"
   ]
  },
  {
   "cell_type": "code",
   "execution_count": 80,
   "metadata": {
    "slideshow": {
     "slide_type": "subslide"
    }
   },
   "outputs": [],
   "source": [
    "xs = list(coverages.keys())\n",
    "ys = [sum(coverages[x]) / len(coverages[x]) for x in coverages]"
   ]
  },
  {
   "cell_type": "code",
   "execution_count": 81,
   "metadata": {
    "slideshow": {
     "slide_type": "fragment"
    }
   },
   "outputs": [
    {
     "data": {
      "text/plain": [
       "Text(0, 0.5, 'code coverage (lines)')"
      ]
     },
     "execution_count": 81,
     "metadata": {},
     "output_type": "execute_result"
    },
    {
     "data": {
      "image/png": "[encoded data removed]",
      "text/plain": [
       "<Figure size 432x288 with 1 Axes>"
      ]
     },
     "metadata": {
      "needs_background": "light"
     },
     "output_type": "display_data"
    }
   ],
   "source": [
    "plt.scatter(xs, ys)\n",
    "plt.title('Coverage of cgi_decode() vs. grammar coverage')\n",
    "plt.xlabel('grammar coverage (expansions)')\n",
    "plt.ylabel('code coverage (lines)')"
   ]
  },
  {
   "cell_type": "markdown",
   "metadata": {
    "slideshow": {
     "slide_type": "subslide"
    }
   },
   "source": [
    "Here, we have an even stronger correlation of almost .95:"
   ]
  },
  {
   "cell_type": "code",
   "execution_count": 82,
   "metadata": {
    "slideshow": {
     "slide_type": "fragment"
    }
   },
   "outputs": [
    {
     "data": {
      "text/plain": [
       "array([[1.        , 0.92987135],\n",
       "       [0.92987135, 1.        ]])"
      ]
     },
     "execution_count": 82,
     "metadata": {},
     "output_type": "execute_result"
    }
   ],
   "source": [
    "np.corrcoef(xs, ys)"
   ]
  },
  {
   "cell_type": "markdown",
   "metadata": {
    "slideshow": {
     "slide_type": "fragment"
    }
   },
   "source": [
    "We conclude: If one wants to obtain high code coverage, it is a good idea to strive for high grammar coverage first."
   ]
  },
  {
   "cell_type": "markdown",
   "metadata": {
    "slideshow": {
     "slide_type": "subslide"
    },
    "toc-hr-collapsed": true
   },
   "source": [
    "### Will this always work?\n",
    "\n",
    "The correlation observed for the CGI and URL examples will not hold for every program and every structure."
   ]
  },
  {
   "cell_type": "markdown",
   "metadata": {
    "slideshow": {
     "slide_type": "subslide"
    }
   },
   "source": [
    "#### Equivalent Elements\n",
    "\n",
    "First, some grammar elements are treated uniformly by a program even though the grammar sees them as different symbols.  In the host name of a URL, for instance, we can have many different characters, although a URL-handling program treats them all the same.  Likewise, individual digits, once composed into a number, make less of a difference than the value of the number itself.  Hence, achieving variety in digits or characters will not yield a large difference in functionality."
   ]
  },
  {
   "cell_type": "markdown",
   "metadata": {
    "slideshow": {
     "slide_type": "subslide"
    }
   },
   "source": [
    "#### Deep Data Processing\n",
    "\n",
    "Second, the way the data is processed can make a large difference.  Consider the input to a _media player_, consisting of compressed media data.  While processing the media data, the media player will show differences in behavior (notably in its output), but these differences cannot be directly triggered through individual elements of the media data.  Likewise, a _machine learner_ that is trained on a large set of inputs typically will not have its behavior controlled by a single syntactic element of the input.  (Well, it could, but then, we would not need a machine learner.)"
   ]
  },
  {
   "cell_type": "markdown",
   "metadata": {
    "slideshow": {
     "slide_type": "fragment"
    }
   },
   "source": [
    "In these cases of \"deep\" data processing, achieving coverage in the grammar will not necessarily induce code coverage.  We still can make use of the grammar to produce _valid_ inputs, but will have to rely on chance and patience to cover functionality and trigger bugs.  _Some_ parts of the input, though, can still be covered: _Metadata_ (such as author name or composer for the media player) or _configuration data_ (such as settings for the machine learner) can and should be covered systematically; we will see how this is done [in the chapter on \"Configuration fuzzing\"](ConfigurationFuzzer.ipynb)."
   ]
  },
  {
   "cell_type": "markdown",
   "metadata": {
    "button": false,
    "new_sheet": true,
    "run_control": {
     "read_only": false
    },
    "slideshow": {
     "slide_type": "slide"
    }
   },
   "source": [
    "## Lessons Learned\n",
    "\n",
    "* Achieving _grammar coverage_ quickly results in a large variety of inputs.\n",
    "* Achieving grammar coverage can help in obtaining _code coverage_."
   ]
  },
  {
   "cell_type": "markdown",
   "metadata": {
    "button": false,
    "new_sheet": false,
    "run_control": {
     "read_only": false
    },
    "slideshow": {
     "slide_type": "skip"
    }
   },
   "source": [
    "## Next Steps\n",
    "\n",
    "From here, you can learn how to\n",
    "\n",
    "* [use grammar coverage to systematically test configurations](ConfigurationFuzzer.ipynb)\n"
   ]
  },
  {
   "cell_type": "markdown",
   "metadata": {
    "slideshow": {
     "slide_type": "slide"
    }
   },
   "source": [
    "## Background\n",
    "\n",
    "The idea of ensuring that each expansion in the grammar is used at least once goes back to Burkhardt \\cite{Burkhardt1967}, to be later rediscovered by Paul Purdom \\cite{Purdom1972}.  The relation between grammar coverage and code coverage was discovered by Nikolas Havrikov, who explores it in his PhD thesis."
   ]
  },
  {
   "cell_type": "markdown",
   "metadata": {
    "button": false,
    "new_sheet": true,
    "run_control": {
     "read_only": false
    },
    "slideshow": {
     "slide_type": "slide"
    }
   },
   "source": [
    "## Exercises\n"
   ]
  },
  {
   "cell_type": "markdown",
   "metadata": {
    "button": false,
    "new_sheet": false,
    "run_control": {
     "read_only": false
    },
    "slideshow": {
     "slide_type": "subslide"
    }
   },
   "source": [
    "### Exercise 1: Testing ls\n",
    "\n",
    "Consider the Unix `ls` program, used to list the contents of a directory.  Create a grammar for invoking `ls`:"
   ]
  },
  {
   "cell_type": "code",
   "execution_count": 83,
   "metadata": {
    "cell_style": "center",
    "slideshow": {
     "slide_type": "fragment"
    }
   },
   "outputs": [],
   "source": [
    "LS_EBNF_GRAMMAR = {\n",
    "    '<start>': ['-<options>'],\n",
    "    '<options>': ['<option>*'],\n",
    "    '<option>': ['1', 'A', '@',\n",
    "                 # many more\n",
    "                 ]\n",
    "}"
   ]
  },
  {
   "cell_type": "code",
   "execution_count": 84,
   "metadata": {
    "cell_style": "center",
    "slideshow": {
     "slide_type": "skip"
    }
   },
   "outputs": [],
   "source": [
    "assert is_valid_grammar(LS_EBNF_GRAMMAR)"
   ]
  },
  {
   "cell_type": "markdown",
   "metadata": {
    "slideshow": {
     "slide_type": "fragment"
    },
    "solution2": "hidden",
    "solution2_first": true
   },
   "source": [
    "Use `GrammarCoverageFuzzer` to test all options.  Be sure to invoke `ls` with each option set."
   ]
  },
  {
   "cell_type": "markdown",
   "metadata": {
    "slideshow": {
     "slide_type": "skip"
    },
    "solution2": "hidden"
   },
   "source": [
    "**Solution.**  We can copy the set of option characters right from the manual page:"
   ]
  },
  {
   "cell_type": "code",
   "execution_count": 85,
   "metadata": {
    "slideshow": {
     "slide_type": "skip"
    },
    "solution2": "hidden"
   },
   "outputs": [],
   "source": [
    "from Grammars import convert_ebnf_grammar, srange"
   ]
  },
  {
   "cell_type": "code",
   "execution_count": 86,
   "metadata": {
    "slideshow": {
     "slide_type": "skip"
    },
    "solution2": "hidden"
   },
   "outputs": [],
   "source": [
    "LS_EBNF_GRAMMAR = {\n",
    "    '<start>': ['-<options>'],\n",
    "    '<options>': ['<option>*'],\n",
    "    '<option>': srange(\"ABCFGHLOPRSTUW@abcdefghiklmnopqrstuwx1\")\n",
    "}"
   ]
  },
  {
   "cell_type": "code",
   "execution_count": 87,
   "metadata": {
    "slideshow": {
     "slide_type": "skip"
    },
    "solution2": "hidden"
   },
   "outputs": [],
   "source": [
    "assert is_valid_grammar(LS_EBNF_GRAMMAR)"
   ]
  },
  {
   "cell_type": "code",
   "execution_count": 88,
   "metadata": {
    "slideshow": {
     "slide_type": "skip"
    },
    "solution2": "hidden"
   },
   "outputs": [],
   "source": [
    "LS_GRAMMAR = convert_ebnf_grammar(LS_EBNF_GRAMMAR)"
   ]
  },
  {
   "cell_type": "code",
   "execution_count": 89,
   "metadata": {
    "slideshow": {
     "slide_type": "skip"
    },
    "solution2": "hidden"
   },
   "outputs": [],
   "source": [
    "from Fuzzer import ProgramRunner"
   ]
  },
  {
   "cell_type": "code",
   "execution_count": 90,
   "metadata": {
    "slideshow": {
     "slide_type": "skip"
    },
    "solution2": "hidden"
   },
   "outputs": [
    {
     "name": "stdout",
     "output_type": "stream",
     "text": [
      "ls -w; ls -qC; ls -Hhxoe; ls -staL; ls -OB; ls -URu; ls -PS; ls -lf; ls -ic@; ls -rg; ls -Gk; ls -FnW; ls -1b; ls -dTmpA; \n"
     ]
    }
   ],
   "source": [
    "f = GrammarCoverageFuzzer(LS_GRAMMAR, max_nonterminals=3)\n",
    "while len(f.max_expansion_coverage() - f.expansion_coverage()) > 0:\n",
    "    invocation = f.fuzz()\n",
    "    print(\"ls\", invocation, end=\"; \")\n",
    "    args = invocation.split()\n",
    "    ls = ProgramRunner([\"ls\"] + args)\n",
    "    ls.run()\n",
    "print()"
   ]
  },
  {
   "cell_type": "markdown",
   "metadata": {
    "slideshow": {
     "slide_type": "skip"
    },
    "solution2": "hidden"
   },
   "source": [
    "By setting `max_nonterminals` to other values, you can control how many options `ls` should be invoked with.  We will see more of such examples in the [chapter on configuration testing](ConfigurationFuzzer.ipynb)."
   ]
  },
  {
   "cell_type": "markdown",
   "metadata": {
    "button": false,
    "new_sheet": false,
    "run_control": {
     "read_only": false
    },
    "slideshow": {
     "slide_type": "subslide"
    },
    "solution": "hidden",
    "solution2": "hidden",
    "solution2_first": true,
    "solution_first": true
   },
   "source": [
    "### Exercise 2: Caching\n",
    "\n",
    "The value of `max_symbol_expansion_coverage()` depends on the grammar only.  Change the implementation such that the values are precomputed for each symbol upon initialization (`__init__()`); this way, `max_symbol_expansion_coverage()` can simply lookup the value in the table."
   ]
  },
  {
   "cell_type": "markdown",
   "metadata": {
    "slideshow": {
     "slide_type": "skip"
    },
    "solution2": "hidden"
   },
   "source": [
    "**Solution.** This is like exercise 1 and 2 [in the chapter on efficient grammar fuzzing](GrammarFuzzer.ipynb); you can implement a similar solution here."
   ]
  }
 ],
 "metadata": {
  "ipub": {
   "bibliography": "fuzzingbook.bib",
   "toc": true
  },
  "kernelspec": {
   "display_name": "Python 3",
   "language": "python",
   "name": "python3"
  },
  "language_info": {
   "codemirror_mode": {
    "name": "ipython",
    "version": 3
   },
   "file_extension": ".py",
   "mimetype": "text/x-python",
   "name": "python",
   "nbconvert_exporter": "python",
   "pygments_lexer": "ipython3",
   "version": "3.6.6"
  },
  "toc": {
   "base_numbering": 1,
   "nav_menu": {},
   "number_sections": true,
   "sideBar": true,
   "skip_h1_title": true,
   "title_cell": "",
   "title_sidebar": "Contents",
   "toc_cell": false,
   "toc_position": {},
   "toc_section_display": true,
   "toc_window_display": true
  },
  "toc-autonumbering": false,
  "toc-showmarkdowntxt": false
 },
 "nbformat": 4,
 "nbformat_minor": 2
}
