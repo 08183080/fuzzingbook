{
 "cells": [
  {
   "cell_type": "markdown",
   "metadata": {
    "button": false,
    "new_sheet": true,
    "run_control": {
     "read_only": false
    },
    "slideshow": {
     "slide_type": "slide"
    }
   },
   "source": [
    "# Efficient Grammar Fuzzing\n",
    "\n",
    "In the [chapter on grammars](Grammars.ipynb), we have seen how to use _grammars_ for very effective and efficient testing.  In this chapter, we refine the previous string-based algorithm into a tree-based algorithm, which is much faster and allows for much more control over the production of fuzz inputs."
   ]
  },
  {
   "cell_type": "markdown",
   "metadata": {
    "button": false,
    "new_sheet": true,
    "run_control": {
     "read_only": false
    },
    "slideshow": {
     "slide_type": "skip"
    }
   },
   "source": [
    "The algorithm in this chapter serves as a foundation for several more techniques; this chapter thus is a \"hub\" in the book."
   ]
  },
  {
   "cell_type": "markdown",
   "metadata": {
    "button": false,
    "new_sheet": false,
    "run_control": {
     "read_only": false
    },
    "slideshow": {
     "slide_type": "skip"
    }
   },
   "source": [
    "**Prerequisites**\n",
    "\n",
    "* You should know how grammar-based fuzzing works, e.g. from the [chapter on grammars](Grammars.ipynb)."
   ]
  },
  {
   "cell_type": "markdown",
   "metadata": {
    "slideshow": {
     "slide_type": "slide"
    }
   },
   "source": [
    "## An Insufficient Algorithm\n",
    "\n",
    "In the [previous chapter](Grammars.ipynb), we have introduced the `simple_grammar_fuzzer()` function which takes a grammar and automatically produces a syntactically valid string from it.  However, `simple_grammar_fuzzer()` is just what its name suggests – simple.  To illustrate the problem, let us get back to the `expr_grammar` we created from `EXPR_GRAMMAR_BNF` in the [chapter on grammars](Grammars.ipynb):"
   ]
  },
  {
   "cell_type": "code",
   "execution_count": 1,
   "metadata": {
    "slideshow": {
     "slide_type": "skip"
    }
   },
   "outputs": [],
   "source": [
    "import fuzzingbook_utils"
   ]
  },
  {
   "cell_type": "code",
   "execution_count": 2,
   "metadata": {
    "slideshow": {
     "slide_type": "skip"
    }
   },
   "outputs": [],
   "source": [
    "from Grammars import EXPR_EBNF_GRAMMAR, convert_ebnf_grammar, simple_grammar_fuzzer"
   ]
  },
  {
   "cell_type": "code",
   "execution_count": 3,
   "metadata": {
    "slideshow": {
     "slide_type": "subslide"
    }
   },
   "outputs": [
    {
     "data": {
      "text/plain": [
       "{'<start>': ['<expr>'],\n",
       " '<expr>': ['<term> + <expr>', '<term> - <expr>', '<term>'],\n",
       " '<term>': ['<factor> * <term>', '<factor> / <term>', '<factor>'],\n",
       " '<factor>': ['<sign-1><factor>', '(<expr>)', '<integer><symbol-1>'],\n",
       " '<sign>': ['+', '-'],\n",
       " '<integer>': ['<digit-1>'],\n",
       " '<digit>': ['0', '1', '2', '3', '4', '5', '6', '7', '8', '9'],\n",
       " '<symbol>': ['.<integer>'],\n",
       " '<sign-1>': ['', '<sign>'],\n",
       " '<symbol-1>': ['', '<symbol>'],\n",
       " '<digit-1>': ['<digit>', '<digit><digit-1>']}"
      ]
     },
     "execution_count": 3,
     "metadata": {},
     "output_type": "execute_result"
    }
   ],
   "source": [
    "expr_grammar = convert_ebnf_grammar(EXPR_EBNF_GRAMMAR)\n",
    "expr_grammar"
   ]
  },
  {
   "cell_type": "markdown",
   "metadata": {
    "slideshow": {
     "slide_type": "subslide"
    }
   },
   "source": [
    "`expr_grammar` has an interesting property.  If we feed it into `simple_grammar_fuzzer()`, the function gets stuck in an infinite expansion:"
   ]
  },
  {
   "cell_type": "code",
   "execution_count": 4,
   "metadata": {
    "slideshow": {
     "slide_type": "skip"
    }
   },
   "outputs": [],
   "source": [
    "from ExpectError import ExpectTimeout"
   ]
  },
  {
   "cell_type": "code",
   "execution_count": 5,
   "metadata": {
    "slideshow": {
     "slide_type": "fragment"
    }
   },
   "outputs": [
    {
     "name": "stderr",
     "output_type": "stream",
     "text": [
      "Traceback (most recent call last):\n",
      "  File \"<ipython-input-5-fbcda5f486bb>\", line 2, in <module>\n",
      "    simple_grammar_fuzzer(grammar=expr_grammar, max_nonterminals=3)\n",
      "  File \"<string>\", line 8, in simple_grammar_fuzzer\n",
      "  File \"<string>\", line 7, in nonterminals\n",
      "  File \"/Users/zeller/anaconda3/lib/python3.6/re.py\", line 222, in findall\n",
      "    return _compile(pattern, flags).findall(string)\n",
      "  File \"/Users/zeller/anaconda3/lib/python3.6/re.py\", line 298, in _compile\n",
      "    return pattern\n",
      "  File \"<string>\", line 16, in check_time\n",
      "TimeoutError (expected)\n"
     ]
    }
   ],
   "source": [
    "with ExpectTimeout(1):\n",
    "    simple_grammar_fuzzer(grammar=expr_grammar, max_nonterminals=3)"
   ]
  },
  {
   "cell_type": "markdown",
   "metadata": {
    "slideshow": {
     "slide_type": "subslide"
    }
   },
   "source": [
    "Why is that so?  The problem is in this rule:"
   ]
  },
  {
   "cell_type": "code",
   "execution_count": 6,
   "metadata": {
    "slideshow": {
     "slide_type": "fragment"
    }
   },
   "outputs": [
    {
     "data": {
      "text/plain": [
       "['<sign-1><factor>', '(<expr>)', '<integer><symbol-1>']"
      ]
     },
     "execution_count": 6,
     "metadata": {},
     "output_type": "execute_result"
    }
   ],
   "source": [
    "expr_grammar['<factor>']"
   ]
  },
  {
   "cell_type": "markdown",
   "metadata": {
    "slideshow": {
     "slide_type": "fragment"
    }
   },
   "source": [
    "Here, any choice except for `(expr)` increases the number of symbols, even if only temporary.  Since we place a hard limit on the number of symbols to expand, the only choice left for expanding `<factor>` is `(<expr>)`, which leads to an infinite addition of parentheses."
   ]
  },
  {
   "cell_type": "markdown",
   "metadata": {
    "button": false,
    "new_sheet": false,
    "run_control": {
     "read_only": false
    },
    "slideshow": {
     "slide_type": "subslide"
    }
   },
   "source": [
    "The problem of potentially infinite expansion is only one of the problems with `simple_grammar_fuzzer()`.  More problems include:\n",
    "\n",
    "1. *It is inefficient*.  With each iteration, this fuzzer would go search the string produced so far for symbols to expand.  This becomes inefficient as the production string grows.\n",
    "\n",
    "2. *It is hard to control.*  Even while limiting the number of symbols, it is still possible to obtain very long strings – and even infinitely long ones, as discussed above.\n",
    "\n",
    "Let us illustrate both problems by plotting the time required for strings of different lengths."
   ]
  },
  {
   "cell_type": "code",
   "execution_count": 7,
   "metadata": {
    "button": false,
    "new_sheet": false,
    "run_control": {
     "read_only": false
    },
    "slideshow": {
     "slide_type": "skip"
    }
   },
   "outputs": [],
   "source": [
    "from Grammars import simple_grammar_fuzzer"
   ]
  },
  {
   "cell_type": "code",
   "execution_count": 8,
   "metadata": {
    "button": false,
    "new_sheet": false,
    "run_control": {
     "read_only": false
    },
    "slideshow": {
     "slide_type": "skip"
    }
   },
   "outputs": [],
   "source": [
    "from Grammars import START_SYMBOL, EXPR_GRAMMAR, URL_GRAMMAR, CGI_GRAMMAR"
   ]
  },
  {
   "cell_type": "code",
   "execution_count": 9,
   "metadata": {
    "button": false,
    "new_sheet": false,
    "run_control": {
     "read_only": false
    },
    "slideshow": {
     "slide_type": "skip"
    }
   },
   "outputs": [],
   "source": [
    "from Grammars import RE_NONTERMINAL, nonterminals, is_nonterminal"
   ]
  },
  {
   "cell_type": "code",
   "execution_count": 10,
   "metadata": {
    "button": false,
    "new_sheet": false,
    "run_control": {
     "read_only": false
    },
    "slideshow": {
     "slide_type": "skip"
    }
   },
   "outputs": [],
   "source": [
    "from Timer import Timer"
   ]
  },
  {
   "cell_type": "code",
   "execution_count": 11,
   "metadata": {
    "button": false,
    "new_sheet": false,
    "run_control": {
     "read_only": false
    },
    "slideshow": {
     "slide_type": "subslide"
    }
   },
   "outputs": [
    {
     "name": "stdout",
     "output_type": "stream",
     "text": [
      "0 1 2 3 4 5 6 7 8 9 10 11 12 13 14 15 16 17 18 19 20 21 22 23 24 25 26 27 28 29 30 31 32 33 34 35 36 37 38 39 40 41 42 43 44 45 46 47 48 49 \n"
     ]
    }
   ],
   "source": [
    "trials = 50\n",
    "xs = []\n",
    "ys = []\n",
    "for i in range(trials):\n",
    "    with Timer() as t:\n",
    "        s = simple_grammar_fuzzer(EXPR_GRAMMAR, max_nonterminals=15)\n",
    "    xs.append(len(s))\n",
    "    ys.append(t.elapsed_time())\n",
    "    print(i, end=\" \")\n",
    "print()"
   ]
  },
  {
   "cell_type": "code",
   "execution_count": 12,
   "metadata": {
    "button": false,
    "new_sheet": false,
    "run_control": {
     "read_only": false
    },
    "slideshow": {
     "slide_type": "subslide"
    }
   },
   "outputs": [
    {
     "name": "stdout",
     "output_type": "stream",
     "text": [
      "Average time: 0.12261552562122233\n"
     ]
    }
   ],
   "source": [
    "average_time = sum(ys) / trials\n",
    "print(\"Average time:\", average_time)"
   ]
  },
  {
   "cell_type": "code",
   "execution_count": 13,
   "metadata": {
    "button": false,
    "new_sheet": false,
    "run_control": {
     "read_only": false
    },
    "slideshow": {
     "slide_type": "fragment"
    }
   },
   "outputs": [
    {
     "data": {
      "text/plain": [
       "Text(0.5,1,'Time required for generating an output')"
      ]
     },
     "execution_count": 13,
     "metadata": {},
     "output_type": "execute_result"
    },
    {
     "data": {
      "image/png": "[encoded data removed]",
      "text/plain": [
       "<Figure size 432x288 with 1 Axes>"
      ]
     },
     "metadata": {
      "needs_background": "light"
     },
     "output_type": "display_data"
    }
   ],
   "source": [
    "%matplotlib inline\n",
    "\n",
    "import matplotlib.pyplot as plt\n",
    "plt.scatter(xs, ys)\n",
    "plt.title('Time required for generating an output')"
   ]
  },
  {
   "cell_type": "markdown",
   "metadata": {
    "button": false,
    "new_sheet": false,
    "run_control": {
     "read_only": false
    },
    "slideshow": {
     "slide_type": "fragment"
    }
   },
   "source": [
    "We see that (1) the effort increases quadratically over time, and (2) we can easily produce outputs that are tens of thousands of characters long."
   ]
  },
  {
   "cell_type": "markdown",
   "metadata": {
    "slideshow": {
     "slide_type": "subslide"
    }
   },
   "source": [
    "To address these problem, we need a _smarter algorithm_ – one that is more efficient, that gets us better control over expansions, and that is able to foresee in `expr_grammar` that the `(expr)` alternative yields a potentially infinite expansion, in contrast to the other two."
   ]
  },
  {
   "cell_type": "markdown",
   "metadata": {
    "button": false,
    "new_sheet": false,
    "run_control": {
     "read_only": false
    },
    "slideshow": {
     "slide_type": "slide"
    }
   },
   "source": [
    "## Derivation Trees\n",
    "\n",
    "To both obtain a more efficient algorithm _and_ exercise better control over expansions, we will use a special representation for the strings that our grammar produces.  The general idea is to use a _tree_ structure that will be subsequently expanded – a so-called _derivation tree_."
   ]
  },
  {
   "cell_type": "markdown",
   "metadata": {
    "button": false,
    "new_sheet": false,
    "run_control": {
     "read_only": false
    },
    "slideshow": {
     "slide_type": "fragment"
    }
   },
   "source": [
    "Like other trees used in programming, a derivation tree (also known as _parse tree_ or _concrete syntax tree_) consists of _nodes_ which have other nodes as their _children_.  The tree starts with one node that has no parent; this is called the _root node_; a node without children is called a _leaf_."
   ]
  },
  {
   "cell_type": "markdown",
   "metadata": {
    "button": false,
    "new_sheet": false,
    "run_control": {
     "read_only": false
    },
    "slideshow": {
     "slide_type": "subslide"
    }
   },
   "source": [
    "The grammar expansion process with derivation trees is illustrated in the following steps, using the arithmetic grammar [from\n",
    "the chapter on grammars](Grammars.ipynb).  We start with a single node as root of the tree, representing the _start symbol_ – in our case `<start>`."
   ]
  },
  {
   "cell_type": "markdown",
   "metadata": {
    "ipub": {
     "ignore": true
    },
    "slideshow": {
     "slide_type": "skip"
    }
   },
   "source": [
    "(We use `dot` as a drawing program; you don't need to look at the code, just at its results.)"
   ]
  },
  {
   "cell_type": "code",
   "execution_count": 14,
   "metadata": {
    "button": false,
    "ipub": {
     "ignore": true
    },
    "new_sheet": false,
    "run_control": {
     "read_only": false
    },
    "slideshow": {
     "slide_type": "skip"
    }
   },
   "outputs": [],
   "source": [
    "from graphviz import Digraph"
   ]
  },
  {
   "cell_type": "code",
   "execution_count": 15,
   "metadata": {
    "button": false,
    "ipub": {
     "ignore": true
    },
    "new_sheet": false,
    "run_control": {
     "read_only": false
    },
    "slideshow": {
     "slide_type": "skip"
    }
   },
   "outputs": [],
   "source": [
    "tree = Digraph(\"root\")\n",
    "tree.attr('node', shape='plain')\n",
    "tree.node(r\"\\<start\\>\")"
   ]
  },
  {
   "cell_type": "code",
   "execution_count": 16,
   "metadata": {
    "button": false,
    "new_sheet": false,
    "run_control": {
     "read_only": false
    },
    "slideshow": {
     "slide_type": "fragment"
    }
   },
   "outputs": [
    {
     "data": {
      "image/svg+xml": [
       "<?xml version=\"1.0\" encoding=\"UTF-8\" standalone=\"no\"?>\n",
       "<!DOCTYPE svg PUBLIC \"-//W3C//DTD SVG 1.1//EN\"\n",
       " \"http://www.w3.org/Graphics/SVG/1.1/DTD/svg11.dtd\">\n",
       "<!-- Generated by graphviz version 2.40.1 (20161225.0304)\n",
       " -->\n",
       "<!-- Title: root Pages: 1 -->\n",
       "<svg width=\"48pt\" height=\"23pt\"\n",
       " viewBox=\"0.00 0.00 48.00 23.00\" xmlns=\"http://www.w3.org/2000/svg\" xmlns:xlink=\"http://www.w3.org/1999/xlink\">\n",
       "<g id=\"graph0\" class=\"graph\" transform=\"scale(1 1) rotate(0) translate(4 19)\">\n",
       "<title>root</title>\n",
       "<polygon fill=\"#ffffff\" stroke=\"transparent\" points=\"-4,4 -4,-19 44,-19 44,4 -4,4\"/>\n",
       "<!-- \\&lt;start\\&gt; -->\n",
       "<g id=\"node1\" class=\"node\">\n",
       "<title>\\&lt;start\\&gt;</title>\n",
       "<text text-anchor=\"middle\" x=\"20\" y=\"-3.8\" font-family=\"Times,serif\" font-size=\"14.00\" fill=\"#000000\">&lt;start&gt;</text>\n",
       "</g>\n",
       "</g>\n",
       "</svg>\n"
      ],
      "text/plain": [
       "<graphviz.dot.Digraph at 0x115fa97f0>"
      ]
     },
     "execution_count": 16,
     "metadata": {},
     "output_type": "execute_result"
    }
   ],
   "source": [
    "tree"
   ]
  },
  {
   "cell_type": "markdown",
   "metadata": {
    "button": false,
    "new_sheet": false,
    "run_control": {
     "read_only": false
    },
    "slideshow": {
     "slide_type": "subslide"
    }
   },
   "source": [
    "To expand the tree, we traverse it, searching for a symbol $S$ without children to expand, and chose an expansion for $S$ from the grammar.  Then, we add the expansion as a new child of $S$.  For our start symbol `<start>`, the only expansion is `<expr>`, so we add it as a child."
   ]
  },
  {
   "cell_type": "code",
   "execution_count": 17,
   "metadata": {
    "button": false,
    "ipub": {
     "ignore": true
    },
    "new_sheet": false,
    "run_control": {
     "read_only": false
    },
    "slideshow": {
     "slide_type": "skip"
    }
   },
   "outputs": [],
   "source": [
    "tree.edge(r\"\\<start\\>\", r\"\\<expr\\>\")"
   ]
  },
  {
   "cell_type": "code",
   "execution_count": 18,
   "metadata": {
    "button": false,
    "new_sheet": false,
    "run_control": {
     "read_only": false
    },
    "slideshow": {
     "slide_type": "fragment"
    }
   },
   "outputs": [
    {
     "data": {
      "image/svg+xml": [
       "<?xml version=\"1.0\" encoding=\"UTF-8\" standalone=\"no\"?>\n",
       "<!DOCTYPE svg PUBLIC \"-//W3C//DTD SVG 1.1//EN\"\n",
       " \"http://www.w3.org/Graphics/SVG/1.1/DTD/svg11.dtd\">\n",
       "<!-- Generated by graphviz version 2.40.1 (20161225.0304)\n",
       " -->\n",
       "<!-- Title: root Pages: 1 -->\n",
       "<svg width=\"49pt\" height=\"74pt\"\n",
       " viewBox=\"0.00 0.00 49.00 74.00\" xmlns=\"http://www.w3.org/2000/svg\" xmlns:xlink=\"http://www.w3.org/1999/xlink\">\n",
       "<g id=\"graph0\" class=\"graph\" transform=\"scale(1 1) rotate(0) translate(4 70)\">\n",
       "<title>root</title>\n",
       "<polygon fill=\"#ffffff\" stroke=\"transparent\" points=\"-4,4 -4,-70 45,-70 45,4 -4,4\"/>\n",
       "<!-- \\&lt;start\\&gt; -->\n",
       "<g id=\"node1\" class=\"node\">\n",
       "<title>\\&lt;start\\&gt;</title>\n",
       "<text text-anchor=\"middle\" x=\"20.5\" y=\"-54.8\" font-family=\"Times,serif\" font-size=\"14.00\" fill=\"#000000\">&lt;start&gt;</text>\n",
       "</g>\n",
       "<!-- \\&lt;expr\\&gt; -->\n",
       "<g id=\"node2\" class=\"node\">\n",
       "<title>\\&lt;expr\\&gt;</title>\n",
       "<text text-anchor=\"middle\" x=\"20.5\" y=\"-3.8\" font-family=\"Times,serif\" font-size=\"14.00\" fill=\"#000000\">&lt;expr&gt;</text>\n",
       "</g>\n",
       "<!-- \\&lt;start\\&gt;&#45;&gt;\\&lt;expr\\&gt; -->\n",
       "<g id=\"edge1\" class=\"edge\">\n",
       "<title>\\&lt;start\\&gt;&#45;&gt;\\&lt;expr\\&gt;</title>\n",
       "<path fill=\"none\" stroke=\"#000000\" d=\"M20.5,-50.9748C20.5,-44.195 20.5,-33.966 20.5,-25.1331\"/>\n",
       "<polygon fill=\"#000000\" stroke=\"#000000\" points=\"24.0001,-25.0561 20.5,-15.0561 17.0001,-25.0561 24.0001,-25.0561\"/>\n",
       "</g>\n",
       "</g>\n",
       "</svg>\n"
      ],
      "text/plain": [
       "<graphviz.dot.Digraph at 0x115fa97f0>"
      ]
     },
     "execution_count": 18,
     "metadata": {},
     "output_type": "execute_result"
    }
   ],
   "source": [
    "tree"
   ]
  },
  {
   "cell_type": "markdown",
   "metadata": {
    "button": false,
    "new_sheet": false,
    "run_control": {
     "read_only": false
    },
    "slideshow": {
     "slide_type": "subslide"
    }
   },
   "source": [
    "To construct the produced string from a derivation tree, we traverse the tree in order and collect the symbols at the leaves of the tree.  In the case above, we obtain the string `\"<expr>\"`.\n",
    "\n",
    "To further expand the tree, we choose another symbol to expand, and add its expansion as new children.  This would get us the `<expr>` symbol, which gets expanded into `<expr> + <term>`, adding three children."
   ]
  },
  {
   "cell_type": "code",
   "execution_count": 19,
   "metadata": {
    "button": false,
    "ipub": {
     "ignore": true
    },
    "new_sheet": false,
    "run_control": {
     "read_only": false
    },
    "slideshow": {
     "slide_type": "skip"
    }
   },
   "outputs": [],
   "source": [
    "tree.edge(r\"\\<expr\\>\", r\"\\<expr\\> \")\n",
    "tree.edge(r\"\\<expr\\>\", r\"+\")\n",
    "tree.edge(r\"\\<expr\\>\", r\"\\<term\\>\")"
   ]
  },
  {
   "cell_type": "code",
   "execution_count": 20,
   "metadata": {
    "button": false,
    "new_sheet": false,
    "run_control": {
     "read_only": false
    },
    "slideshow": {
     "slide_type": "fragment"
    }
   },
   "outputs": [
    {
     "data": {
      "image/svg+xml": [
       "<?xml version=\"1.0\" encoding=\"UTF-8\" standalone=\"no\"?>\n",
       "<!DOCTYPE svg PUBLIC \"-//W3C//DTD SVG 1.1//EN\"\n",
       " \"http://www.w3.org/Graphics/SVG/1.1/DTD/svg11.dtd\">\n",
       "<!-- Generated by graphviz version 2.40.1 (20161225.0304)\n",
       " -->\n",
       "<!-- Title: root Pages: 1 -->\n",
       "<svg width=\"140pt\" height=\"125pt\"\n",
       " viewBox=\"0.00 0.00 139.50 125.00\" xmlns=\"http://www.w3.org/2000/svg\" xmlns:xlink=\"http://www.w3.org/1999/xlink\">\n",
       "<g id=\"graph0\" class=\"graph\" transform=\"scale(1 1) rotate(0) translate(4 121)\">\n",
       "<title>root</title>\n",
       "<polygon fill=\"#ffffff\" stroke=\"transparent\" points=\"-4,4 -4,-121 135.5,-121 135.5,4 -4,4\"/>\n",
       "<!-- \\&lt;start\\&gt; -->\n",
       "<g id=\"node1\" class=\"node\">\n",
       "<title>\\&lt;start\\&gt;</title>\n",
       "<text text-anchor=\"middle\" x=\"67.5\" y=\"-105.8\" font-family=\"Times,serif\" font-size=\"14.00\" fill=\"#000000\">&lt;start&gt;</text>\n",
       "</g>\n",
       "<!-- \\&lt;expr\\&gt; -->\n",
       "<g id=\"node2\" class=\"node\">\n",
       "<title>\\&lt;expr\\&gt;</title>\n",
       "<text text-anchor=\"middle\" x=\"67.5\" y=\"-54.8\" font-family=\"Times,serif\" font-size=\"14.00\" fill=\"#000000\">&lt;expr&gt;</text>\n",
       "</g>\n",
       "<!-- \\&lt;start\\&gt;&#45;&gt;\\&lt;expr\\&gt; -->\n",
       "<g id=\"edge1\" class=\"edge\">\n",
       "<title>\\&lt;start\\&gt;&#45;&gt;\\&lt;expr\\&gt;</title>\n",
       "<path fill=\"none\" stroke=\"#000000\" d=\"M67.5,-101.9748C67.5,-95.195 67.5,-84.966 67.5,-76.1331\"/>\n",
       "<polygon fill=\"#000000\" stroke=\"#000000\" points=\"71.0001,-76.0561 67.5,-66.0561 64.0001,-76.0561 71.0001,-76.0561\"/>\n",
       "</g>\n",
       "<!-- \\&lt;expr\\&gt;  -->\n",
       "<g id=\"node3\" class=\"node\">\n",
       "<title>\\&lt;expr\\&gt; </title>\n",
       "<text text-anchor=\"middle\" x=\"22.5\" y=\"-3.8\" font-family=\"Times,serif\" font-size=\"14.00\" fill=\"#000000\">&lt;expr&gt; </text>\n",
       "</g>\n",
       "<!-- \\&lt;expr\\&gt;&#45;&gt;\\&lt;expr\\&gt;  -->\n",
       "<g id=\"edge2\" class=\"edge\">\n",
       "<title>\\&lt;expr\\&gt;&#45;&gt;\\&lt;expr\\&gt; </title>\n",
       "<path fill=\"none\" stroke=\"#000000\" d=\"M60.8601,-50.9748C54.3462,-43.5923 44.2238,-32.1203 36.0125,-22.8142\"/>\n",
       "<polygon fill=\"#000000\" stroke=\"#000000\" points=\"38.4078,-20.2388 29.1671,-15.0561 33.159,-24.8702 38.4078,-20.2388\"/>\n",
       "</g>\n",
       "<!-- + -->\n",
       "<g id=\"node4\" class=\"node\">\n",
       "<title>+</title>\n",
       "<text text-anchor=\"middle\" x=\"67.5\" y=\"-3.8\" font-family=\"Times,serif\" font-size=\"14.00\" fill=\"#000000\">+</text>\n",
       "</g>\n",
       "<!-- \\&lt;expr\\&gt;&#45;&gt;+ -->\n",
       "<g id=\"edge3\" class=\"edge\">\n",
       "<title>\\&lt;expr\\&gt;&#45;&gt;+</title>\n",
       "<path fill=\"none\" stroke=\"#000000\" d=\"M67.5,-50.9748C67.5,-44.195 67.5,-33.966 67.5,-25.1331\"/>\n",
       "<polygon fill=\"#000000\" stroke=\"#000000\" points=\"71.0001,-25.0561 67.5,-15.0561 64.0001,-25.0561 71.0001,-25.0561\"/>\n",
       "</g>\n",
       "<!-- \\&lt;term\\&gt; -->\n",
       "<g id=\"node5\" class=\"node\">\n",
       "<title>\\&lt;term\\&gt;</title>\n",
       "<text text-anchor=\"middle\" x=\"110.5\" y=\"-3.8\" font-family=\"Times,serif\" font-size=\"14.00\" fill=\"#000000\">&lt;term&gt;</text>\n",
       "</g>\n",
       "<!-- \\&lt;expr\\&gt;&#45;&gt;\\&lt;term\\&gt; -->\n",
       "<g id=\"edge4\" class=\"edge\">\n",
       "<title>\\&lt;expr\\&gt;&#45;&gt;\\&lt;term\\&gt;</title>\n",
       "<path fill=\"none\" stroke=\"#000000\" d=\"M73.8448,-50.9748C80.0692,-43.5923 89.7417,-32.1203 97.5881,-22.8142\"/>\n",
       "<polygon fill=\"#000000\" stroke=\"#000000\" points=\"100.359,-24.9574 104.1292,-15.0561 95.0073,-20.4452 100.359,-24.9574\"/>\n",
       "</g>\n",
       "</g>\n",
       "</svg>\n"
      ],
      "text/plain": [
       "<graphviz.dot.Digraph at 0x115fa97f0>"
      ]
     },
     "execution_count": 20,
     "metadata": {},
     "output_type": "execute_result"
    }
   ],
   "source": [
    "tree"
   ]
  },
  {
   "cell_type": "markdown",
   "metadata": {
    "button": false,
    "new_sheet": false,
    "run_control": {
     "read_only": false
    },
    "slideshow": {
     "slide_type": "subslide"
    }
   },
   "source": [
    "We repeat the expansion until there are no symbols left to expand:"
   ]
  },
  {
   "cell_type": "code",
   "execution_count": 21,
   "metadata": {
    "button": false,
    "ipub": {
     "ignore": true
    },
    "new_sheet": false,
    "run_control": {
     "read_only": false
    },
    "slideshow": {
     "slide_type": "skip"
    }
   },
   "outputs": [],
   "source": [
    "tree.edge(r\"\\<expr\\> \", r\"\\<term\\> \")\n",
    "tree.edge(r\"\\<term\\> \", r\"\\<factor\\> \")\n",
    "tree.edge(r\"\\<factor\\> \", r\"\\<integer\\> \")\n",
    "tree.edge(r\"\\<integer\\> \", r\"\\<digit\\> \")\n",
    "tree.edge(r\"\\<digit\\> \", r\"2 \")\n",
    "\n",
    "tree.edge(r\"\\<term\\>\", r\"\\<factor\\>\")\n",
    "tree.edge(r\"\\<factor\\>\", r\"\\<integer\\>\")\n",
    "tree.edge(r\"\\<integer\\>\", r\"\\<digit\\>\")\n",
    "tree.edge(r\"\\<digit\\>\", r\"2\")"
   ]
  },
  {
   "cell_type": "code",
   "execution_count": 22,
   "metadata": {
    "button": false,
    "new_sheet": false,
    "run_control": {
     "read_only": false
    },
    "slideshow": {
     "slide_type": "fragment"
    }
   },
   "outputs": [
    {
     "data": {
      "image/svg+xml": [
       "<?xml version=\"1.0\" encoding=\"UTF-8\" standalone=\"no\"?>\n",
       "<!DOCTYPE svg PUBLIC \"-//W3C//DTD SVG 1.1//EN\"\n",
       " \"http://www.w3.org/Graphics/SVG/1.1/DTD/svg11.dtd\">\n",
       "<!-- Generated by graphviz version 2.40.1 (20161225.0304)\n",
       " -->\n",
       "<!-- Title: root Pages: 1 -->\n",
       "<svg width=\"153pt\" height=\"380pt\"\n",
       " viewBox=\"0.00 0.00 153.00 380.00\" xmlns=\"http://www.w3.org/2000/svg\" xmlns:xlink=\"http://www.w3.org/1999/xlink\">\n",
       "<g id=\"graph0\" class=\"graph\" transform=\"scale(1 1) rotate(0) translate(4 376)\">\n",
       "<title>root</title>\n",
       "<polygon fill=\"#ffffff\" stroke=\"transparent\" points=\"-4,4 -4,-376 149,-376 149,4 -4,4\"/>\n",
       "<!-- \\&lt;start\\&gt; -->\n",
       "<g id=\"node1\" class=\"node\">\n",
       "<title>\\&lt;start\\&gt;</title>\n",
       "<text text-anchor=\"middle\" x=\"74.5\" y=\"-360.8\" font-family=\"Times,serif\" font-size=\"14.00\" fill=\"#000000\">&lt;start&gt;</text>\n",
       "</g>\n",
       "<!-- \\&lt;expr\\&gt; -->\n",
       "<g id=\"node2\" class=\"node\">\n",
       "<title>\\&lt;expr\\&gt;</title>\n",
       "<text text-anchor=\"middle\" x=\"74.5\" y=\"-309.8\" font-family=\"Times,serif\" font-size=\"14.00\" fill=\"#000000\">&lt;expr&gt;</text>\n",
       "</g>\n",
       "<!-- \\&lt;start\\&gt;&#45;&gt;\\&lt;expr\\&gt; -->\n",
       "<g id=\"edge1\" class=\"edge\">\n",
       "<title>\\&lt;start\\&gt;&#45;&gt;\\&lt;expr\\&gt;</title>\n",
       "<path fill=\"none\" stroke=\"#000000\" d=\"M74.5,-356.9748C74.5,-350.195 74.5,-339.966 74.5,-331.1331\"/>\n",
       "<polygon fill=\"#000000\" stroke=\"#000000\" points=\"78.0001,-331.0561 74.5,-321.0561 71.0001,-331.0561 78.0001,-331.0561\"/>\n",
       "</g>\n",
       "<!-- \\&lt;expr\\&gt;  -->\n",
       "<g id=\"node3\" class=\"node\">\n",
       "<title>\\&lt;expr\\&gt; </title>\n",
       "<text text-anchor=\"middle\" x=\"29.5\" y=\"-258.8\" font-family=\"Times,serif\" font-size=\"14.00\" fill=\"#000000\">&lt;expr&gt; </text>\n",
       "</g>\n",
       "<!-- \\&lt;expr\\&gt;&#45;&gt;\\&lt;expr\\&gt;  -->\n",
       "<g id=\"edge2\" class=\"edge\">\n",
       "<title>\\&lt;expr\\&gt;&#45;&gt;\\&lt;expr\\&gt; </title>\n",
       "<path fill=\"none\" stroke=\"#000000\" d=\"M67.8601,-305.9748C61.3462,-298.5923 51.2238,-287.1203 43.0125,-277.8142\"/>\n",
       "<polygon fill=\"#000000\" stroke=\"#000000\" points=\"45.4078,-275.2388 36.1671,-270.0561 40.159,-279.8702 45.4078,-275.2388\"/>\n",
       "</g>\n",
       "<!-- + -->\n",
       "<g id=\"node4\" class=\"node\">\n",
       "<title>+</title>\n",
       "<text text-anchor=\"middle\" x=\"74.5\" y=\"-258.8\" font-family=\"Times,serif\" font-size=\"14.00\" fill=\"#000000\">+</text>\n",
       "</g>\n",
       "<!-- \\&lt;expr\\&gt;&#45;&gt;+ -->\n",
       "<g id=\"edge3\" class=\"edge\">\n",
       "<title>\\&lt;expr\\&gt;&#45;&gt;+</title>\n",
       "<path fill=\"none\" stroke=\"#000000\" d=\"M74.5,-305.9748C74.5,-299.195 74.5,-288.966 74.5,-280.1331\"/>\n",
       "<polygon fill=\"#000000\" stroke=\"#000000\" points=\"78.0001,-280.0561 74.5,-270.0561 71.0001,-280.0561 78.0001,-280.0561\"/>\n",
       "</g>\n",
       "<!-- \\&lt;term\\&gt; -->\n",
       "<g id=\"node5\" class=\"node\">\n",
       "<title>\\&lt;term\\&gt;</title>\n",
       "<text text-anchor=\"middle\" x=\"117.5\" y=\"-258.8\" font-family=\"Times,serif\" font-size=\"14.00\" fill=\"#000000\">&lt;term&gt;</text>\n",
       "</g>\n",
       "<!-- \\&lt;expr\\&gt;&#45;&gt;\\&lt;term\\&gt; -->\n",
       "<g id=\"edge4\" class=\"edge\">\n",
       "<title>\\&lt;expr\\&gt;&#45;&gt;\\&lt;term\\&gt;</title>\n",
       "<path fill=\"none\" stroke=\"#000000\" d=\"M80.8448,-305.9748C87.0692,-298.5923 96.7417,-287.1203 104.5881,-277.8142\"/>\n",
       "<polygon fill=\"#000000\" stroke=\"#000000\" points=\"107.359,-279.9574 111.1292,-270.0561 102.0073,-275.4452 107.359,-279.9574\"/>\n",
       "</g>\n",
       "<!-- \\&lt;term\\&gt;  -->\n",
       "<g id=\"node6\" class=\"node\">\n",
       "<title>\\&lt;term\\&gt; </title>\n",
       "<text text-anchor=\"middle\" x=\"29.5\" y=\"-207.8\" font-family=\"Times,serif\" font-size=\"14.00\" fill=\"#000000\">&lt;term&gt; </text>\n",
       "</g>\n",
       "<!-- \\&lt;expr\\&gt; &#45;&gt;\\&lt;term\\&gt;  -->\n",
       "<g id=\"edge5\" class=\"edge\">\n",
       "<title>\\&lt;expr\\&gt; &#45;&gt;\\&lt;term\\&gt; </title>\n",
       "<path fill=\"none\" stroke=\"#000000\" d=\"M29.5,-254.9748C29.5,-248.195 29.5,-237.966 29.5,-229.1331\"/>\n",
       "<polygon fill=\"#000000\" stroke=\"#000000\" points=\"33.0001,-229.0561 29.5,-219.0561 26.0001,-229.0561 33.0001,-229.0561\"/>\n",
       "</g>\n",
       "<!-- \\&lt;factor\\&gt; -->\n",
       "<g id=\"node11\" class=\"node\">\n",
       "<title>\\&lt;factor\\&gt;</title>\n",
       "<text text-anchor=\"middle\" x=\"117.5\" y=\"-207.8\" font-family=\"Times,serif\" font-size=\"14.00\" fill=\"#000000\">&lt;factor&gt;</text>\n",
       "</g>\n",
       "<!-- \\&lt;term\\&gt;&#45;&gt;\\&lt;factor\\&gt; -->\n",
       "<g id=\"edge10\" class=\"edge\">\n",
       "<title>\\&lt;term\\&gt;&#45;&gt;\\&lt;factor\\&gt;</title>\n",
       "<path fill=\"none\" stroke=\"#000000\" d=\"M117.5,-254.9748C117.5,-248.195 117.5,-237.966 117.5,-229.1331\"/>\n",
       "<polygon fill=\"#000000\" stroke=\"#000000\" points=\"121.0001,-229.0561 117.5,-219.0561 114.0001,-229.0561 121.0001,-229.0561\"/>\n",
       "</g>\n",
       "<!-- \\&lt;factor\\&gt;  -->\n",
       "<g id=\"node7\" class=\"node\">\n",
       "<title>\\&lt;factor\\&gt; </title>\n",
       "<text text-anchor=\"middle\" x=\"29.5\" y=\"-156.8\" font-family=\"Times,serif\" font-size=\"14.00\" fill=\"#000000\">&lt;factor&gt; </text>\n",
       "</g>\n",
       "<!-- \\&lt;term\\&gt; &#45;&gt;\\&lt;factor\\&gt;  -->\n",
       "<g id=\"edge6\" class=\"edge\">\n",
       "<title>\\&lt;term\\&gt; &#45;&gt;\\&lt;factor\\&gt; </title>\n",
       "<path fill=\"none\" stroke=\"#000000\" d=\"M29.5,-203.9748C29.5,-197.195 29.5,-186.966 29.5,-178.1331\"/>\n",
       "<polygon fill=\"#000000\" stroke=\"#000000\" points=\"33.0001,-178.0561 29.5,-168.0561 26.0001,-178.0561 33.0001,-178.0561\"/>\n",
       "</g>\n",
       "<!-- \\&lt;integer\\&gt;  -->\n",
       "<g id=\"node8\" class=\"node\">\n",
       "<title>\\&lt;integer\\&gt; </title>\n",
       "<text text-anchor=\"middle\" x=\"29.5\" y=\"-105.8\" font-family=\"Times,serif\" font-size=\"14.00\" fill=\"#000000\">&lt;integer&gt; </text>\n",
       "</g>\n",
       "<!-- \\&lt;factor\\&gt; &#45;&gt;\\&lt;integer\\&gt;  -->\n",
       "<g id=\"edge7\" class=\"edge\">\n",
       "<title>\\&lt;factor\\&gt; &#45;&gt;\\&lt;integer\\&gt; </title>\n",
       "<path fill=\"none\" stroke=\"#000000\" d=\"M29.5,-152.9748C29.5,-146.195 29.5,-135.966 29.5,-127.1331\"/>\n",
       "<polygon fill=\"#000000\" stroke=\"#000000\" points=\"33.0001,-127.0561 29.5,-117.0561 26.0001,-127.0561 33.0001,-127.0561\"/>\n",
       "</g>\n",
       "<!-- \\&lt;digit\\&gt;  -->\n",
       "<g id=\"node9\" class=\"node\">\n",
       "<title>\\&lt;digit\\&gt; </title>\n",
       "<text text-anchor=\"middle\" x=\"29.5\" y=\"-54.8\" font-family=\"Times,serif\" font-size=\"14.00\" fill=\"#000000\">&lt;digit&gt; </text>\n",
       "</g>\n",
       "<!-- \\&lt;integer\\&gt; &#45;&gt;\\&lt;digit\\&gt;  -->\n",
       "<g id=\"edge8\" class=\"edge\">\n",
       "<title>\\&lt;integer\\&gt; &#45;&gt;\\&lt;digit\\&gt; </title>\n",
       "<path fill=\"none\" stroke=\"#000000\" d=\"M29.5,-101.9748C29.5,-95.195 29.5,-84.966 29.5,-76.1331\"/>\n",
       "<polygon fill=\"#000000\" stroke=\"#000000\" points=\"33.0001,-76.0561 29.5,-66.0561 26.0001,-76.0561 33.0001,-76.0561\"/>\n",
       "</g>\n",
       "<!-- 2  -->\n",
       "<g id=\"node10\" class=\"node\">\n",
       "<title>2 </title>\n",
       "<text text-anchor=\"middle\" x=\"29.5\" y=\"-3.8\" font-family=\"Times,serif\" font-size=\"14.00\" fill=\"#000000\">2 </text>\n",
       "</g>\n",
       "<!-- \\&lt;digit\\&gt; &#45;&gt;2  -->\n",
       "<g id=\"edge9\" class=\"edge\">\n",
       "<title>\\&lt;digit\\&gt; &#45;&gt;2 </title>\n",
       "<path fill=\"none\" stroke=\"#000000\" d=\"M29.5,-50.9748C29.5,-44.195 29.5,-33.966 29.5,-25.1331\"/>\n",
       "<polygon fill=\"#000000\" stroke=\"#000000\" points=\"33.0001,-25.0561 29.5,-15.0561 26.0001,-25.0561 33.0001,-25.0561\"/>\n",
       "</g>\n",
       "<!-- \\&lt;integer\\&gt; -->\n",
       "<g id=\"node12\" class=\"node\">\n",
       "<title>\\&lt;integer\\&gt;</title>\n",
       "<text text-anchor=\"middle\" x=\"117.5\" y=\"-156.8\" font-family=\"Times,serif\" font-size=\"14.00\" fill=\"#000000\">&lt;integer&gt;</text>\n",
       "</g>\n",
       "<!-- \\&lt;factor\\&gt;&#45;&gt;\\&lt;integer\\&gt; -->\n",
       "<g id=\"edge11\" class=\"edge\">\n",
       "<title>\\&lt;factor\\&gt;&#45;&gt;\\&lt;integer\\&gt;</title>\n",
       "<path fill=\"none\" stroke=\"#000000\" d=\"M117.5,-203.9748C117.5,-197.195 117.5,-186.966 117.5,-178.1331\"/>\n",
       "<polygon fill=\"#000000\" stroke=\"#000000\" points=\"121.0001,-178.0561 117.5,-168.0561 114.0001,-178.0561 121.0001,-178.0561\"/>\n",
       "</g>\n",
       "<!-- \\&lt;digit\\&gt; -->\n",
       "<g id=\"node13\" class=\"node\">\n",
       "<title>\\&lt;digit\\&gt;</title>\n",
       "<text text-anchor=\"middle\" x=\"117.5\" y=\"-105.8\" font-family=\"Times,serif\" font-size=\"14.00\" fill=\"#000000\">&lt;digit&gt;</text>\n",
       "</g>\n",
       "<!-- \\&lt;integer\\&gt;&#45;&gt;\\&lt;digit\\&gt; -->\n",
       "<g id=\"edge12\" class=\"edge\">\n",
       "<title>\\&lt;integer\\&gt;&#45;&gt;\\&lt;digit\\&gt;</title>\n",
       "<path fill=\"none\" stroke=\"#000000\" d=\"M117.5,-152.9748C117.5,-146.195 117.5,-135.966 117.5,-127.1331\"/>\n",
       "<polygon fill=\"#000000\" stroke=\"#000000\" points=\"121.0001,-127.0561 117.5,-117.0561 114.0001,-127.0561 121.0001,-127.0561\"/>\n",
       "</g>\n",
       "<!-- 2 -->\n",
       "<g id=\"node14\" class=\"node\">\n",
       "<title>2</title>\n",
       "<text text-anchor=\"middle\" x=\"117.5\" y=\"-54.8\" font-family=\"Times,serif\" font-size=\"14.00\" fill=\"#000000\">2</text>\n",
       "</g>\n",
       "<!-- \\&lt;digit\\&gt;&#45;&gt;2 -->\n",
       "<g id=\"edge13\" class=\"edge\">\n",
       "<title>\\&lt;digit\\&gt;&#45;&gt;2</title>\n",
       "<path fill=\"none\" stroke=\"#000000\" d=\"M117.5,-101.9748C117.5,-95.195 117.5,-84.966 117.5,-76.1331\"/>\n",
       "<polygon fill=\"#000000\" stroke=\"#000000\" points=\"121.0001,-76.0561 117.5,-66.0561 114.0001,-76.0561 121.0001,-76.0561\"/>\n",
       "</g>\n",
       "</g>\n",
       "</svg>\n"
      ],
      "text/plain": [
       "<graphviz.dot.Digraph at 0x115fa97f0>"
      ]
     },
     "execution_count": 22,
     "metadata": {},
     "output_type": "execute_result"
    }
   ],
   "source": [
    "tree"
   ]
  },
  {
   "cell_type": "markdown",
   "metadata": {
    "button": false,
    "new_sheet": false,
    "run_control": {
     "read_only": false
    },
    "slideshow": {
     "slide_type": "fragment"
    }
   },
   "source": [
    "We now have a representation for the string `2 + 2`.  In contrast to the string alone, though, the derivation tree records _the entire structure_ (and production history, or _derivation_ history) of the produced string.  It also allows for simple comparison and manipulation – say, replacing one subtree (substructure) against another."
   ]
  },
  {
   "cell_type": "markdown",
   "metadata": {
    "button": false,
    "new_sheet": false,
    "run_control": {
     "read_only": false
    },
    "slideshow": {
     "slide_type": "slide"
    }
   },
   "source": [
    "## Representing Derivation Trees\n",
    "\n",
    "To represent a derivation tree in Python, we use the following format.  A node is a pair\n",
    "\n",
    "```python\n",
    "(SYMBOL_NAME, CHILDREN)\n",
    "```\n",
    "\n",
    "where `SYMBOL_NAME` is a string representing the node (i.e. `\"<start>\"` or `\"+\"`) and `CHILDREN` is a list of children nodes.\n",
    "\n",
    "`CHILDREN` can take some special values:\n",
    "\n",
    "1. `None` as a placeholder for future expansion.  This means that the node is a _nonterminal symbol_ that should be expanded further.\n",
    "2. `[]` (i.e., the empty list) to indicate _no_ children.  This means that the node is a _terminal symbol_ that can no longer be expanded."
   ]
  },
  {
   "cell_type": "markdown",
   "metadata": {
    "button": false,
    "new_sheet": false,
    "run_control": {
     "read_only": false
    },
    "slideshow": {
     "slide_type": "subslide"
    }
   },
   "source": [
    "Let us take a very simple derivation tree, representing the intermediate step `<expr> + <term>`, above."
   ]
  },
  {
   "cell_type": "code",
   "execution_count": 23,
   "metadata": {
    "button": false,
    "new_sheet": false,
    "run_control": {
     "read_only": false
    },
    "slideshow": {
     "slide_type": "fragment"
    }
   },
   "outputs": [],
   "source": [
    "derivation_tree = (\"<start>\",\n",
    "                   [(\"<expr>\",\n",
    "                     [(\"<expr>\", None),\n",
    "                      (\" + \", []),\n",
    "                         (\"<term>\", None)]\n",
    "                     )])"
   ]
  },
  {
   "cell_type": "markdown",
   "metadata": {
    "button": false,
    "new_sheet": false,
    "run_control": {
     "read_only": false
    },
    "slideshow": {
     "slide_type": "subslide"
    }
   },
   "source": [
    "To better understand the structure of this tree, let us introduce a function that visualizes this tree.  We use the `dot` drawing program from the `graphviz` package algorithmically, traversing the above structure.  (Unless you're deeply interested in tree visualization, you can directly skip to the example below.)"
   ]
  },
  {
   "cell_type": "code",
   "execution_count": 24,
   "metadata": {
    "button": false,
    "ipub": {
     "ignore": true
    },
    "new_sheet": false,
    "run_control": {
     "read_only": false
    },
    "slideshow": {
     "slide_type": "skip"
    }
   },
   "outputs": [],
   "source": [
    "from graphviz import Digraph"
   ]
  },
  {
   "cell_type": "code",
   "execution_count": 25,
   "metadata": {
    "button": false,
    "new_sheet": false,
    "run_control": {
     "read_only": false
    },
    "slideshow": {
     "slide_type": "skip"
    }
   },
   "outputs": [],
   "source": [
    "from IPython.display import display"
   ]
  },
  {
   "cell_type": "code",
   "execution_count": 26,
   "metadata": {
    "button": false,
    "new_sheet": false,
    "run_control": {
     "read_only": false
    },
    "slideshow": {
     "slide_type": "skip"
    }
   },
   "outputs": [],
   "source": [
    "import re"
   ]
  },
  {
   "cell_type": "code",
   "execution_count": 27,
   "metadata": {
    "button": false,
    "new_sheet": false,
    "run_control": {
     "read_only": false
    },
    "slideshow": {
     "slide_type": "skip"
    }
   },
   "outputs": [],
   "source": [
    "def dot_escape(s):\n",
    "    \"\"\"Return s in a form suitable for dot\"\"\"\n",
    "    # s = s.replace(\"\\\\\", \"\\\\\\\\\")\n",
    "    s = re.sub(r'([^a-zA-Z0-9\" ])', r\"\\\\\\1\", s)\n",
    "    return s"
   ]
  },
  {
   "cell_type": "code",
   "execution_count": 28,
   "metadata": {
    "button": false,
    "new_sheet": false,
    "run_control": {
     "read_only": false
    },
    "slideshow": {
     "slide_type": "skip"
    }
   },
   "outputs": [],
   "source": [
    "assert dot_escape(\"hello\") == \"hello\"\n",
    "assert dot_escape(\"<hello>, world\") == \"\\\\<hello\\\\>\\\\, world\"\n",
    "assert dot_escape(\"\\\\n\") == \"\\\\\\\\n\""
   ]
  },
  {
   "cell_type": "code",
   "execution_count": 29,
   "metadata": {
    "button": false,
    "new_sheet": false,
    "run_control": {
     "read_only": false
    },
    "slideshow": {
     "slide_type": "skip"
    }
   },
   "outputs": [],
   "source": [
    "def display_tree(derivation_tree, log=False):\n",
    "    \"\"\"Visualize a derivation tree as SVG using the graphviz/dot package.\"\"\"\n",
    "\n",
    "    counter = 0\n",
    "\n",
    "    def traverse_tree(dot, tree, id=0):\n",
    "        (symbol, children) = tree\n",
    "        dot.node(repr(id), dot_escape(symbol))\n",
    "\n",
    "        if children is not None:\n",
    "            for child in children:\n",
    "                nonlocal counter  # Assign each node a unique identifier\n",
    "                counter += 1\n",
    "                child_id = counter\n",
    "                dot.edge(repr(id), repr(child_id))\n",
    "                traverse_tree(dot, child, child_id)\n",
    "\n",
    "    dot = Digraph(comment=\"Derivation Tree\")\n",
    "    dot.attr('node', shape='plain')\n",
    "    traverse_tree(dot, derivation_tree)\n",
    "    if log:\n",
    "        print(dot)\n",
    "    display(dot)"
   ]
  },
  {
   "cell_type": "markdown",
   "metadata": {
    "button": false,
    "new_sheet": false,
    "run_control": {
     "read_only": false
    },
    "slideshow": {
     "slide_type": "fragment"
    }
   },
   "source": [
    "This is what our tree visualizes into:"
   ]
  },
  {
   "cell_type": "code",
   "execution_count": 30,
   "metadata": {
    "button": false,
    "new_sheet": false,
    "run_control": {
     "read_only": false
    },
    "slideshow": {
     "slide_type": "fragment"
    }
   },
   "outputs": [
    {
     "data": {
      "image/svg+xml": [
       "<?xml version=\"1.0\" encoding=\"UTF-8\" standalone=\"no\"?>\n",
       "<!DOCTYPE svg PUBLIC \"-//W3C//DTD SVG 1.1//EN\"\n",
       " \"http://www.w3.org/Graphics/SVG/1.1/DTD/svg11.dtd\">\n",
       "<!-- Generated by graphviz version 2.40.1 (20161225.0304)\n",
       " -->\n",
       "<!-- Title: %3 Pages: 1 -->\n",
       "<svg width=\"143pt\" height=\"125pt\"\n",
       " viewBox=\"0.00 0.00 142.50 125.00\" xmlns=\"http://www.w3.org/2000/svg\" xmlns:xlink=\"http://www.w3.org/1999/xlink\">\n",
       "<g id=\"graph0\" class=\"graph\" transform=\"scale(1 1) rotate(0) translate(4 121)\">\n",
       "<title>%3</title>\n",
       "<polygon fill=\"#ffffff\" stroke=\"transparent\" points=\"-4,4 -4,-121 138.5,-121 138.5,4 -4,4\"/>\n",
       "<!-- 0 -->\n",
       "<g id=\"node1\" class=\"node\">\n",
       "<title>0</title>\n",
       "<text text-anchor=\"middle\" x=\"66.5\" y=\"-105.8\" font-family=\"Times,serif\" font-size=\"14.00\" fill=\"#000000\">&lt;start&gt;</text>\n",
       "</g>\n",
       "<!-- 1 -->\n",
       "<g id=\"node2\" class=\"node\">\n",
       "<title>1</title>\n",
       "<text text-anchor=\"middle\" x=\"66.5\" y=\"-54.8\" font-family=\"Times,serif\" font-size=\"14.00\" fill=\"#000000\">&lt;expr&gt;</text>\n",
       "</g>\n",
       "<!-- 0&#45;&gt;1 -->\n",
       "<g id=\"edge1\" class=\"edge\">\n",
       "<title>0&#45;&gt;1</title>\n",
       "<path fill=\"none\" stroke=\"#000000\" d=\"M66.5,-101.9748C66.5,-95.195 66.5,-84.966 66.5,-76.1331\"/>\n",
       "<polygon fill=\"#000000\" stroke=\"#000000\" points=\"70.0001,-76.0561 66.5,-66.0561 63.0001,-76.0561 70.0001,-76.0561\"/>\n",
       "</g>\n",
       "<!-- 2 -->\n",
       "<g id=\"node3\" class=\"node\">\n",
       "<title>2</title>\n",
       "<text text-anchor=\"middle\" x=\"20.5\" y=\"-3.8\" font-family=\"Times,serif\" font-size=\"14.00\" fill=\"#000000\">&lt;expr&gt;</text>\n",
       "</g>\n",
       "<!-- 1&#45;&gt;2 -->\n",
       "<g id=\"edge2\" class=\"edge\">\n",
       "<title>1&#45;&gt;2</title>\n",
       "<path fill=\"none\" stroke=\"#000000\" d=\"M59.7125,-50.9748C52.9859,-43.517 42.495,-31.8857 34.0564,-22.53\"/>\n",
       "<polygon fill=\"#000000\" stroke=\"#000000\" points=\"36.612,-20.1376 27.3153,-15.0561 31.414,-24.826 36.612,-20.1376\"/>\n",
       "</g>\n",
       "<!-- 3 -->\n",
       "<g id=\"node4\" class=\"node\">\n",
       "<title>3</title>\n",
       "<text text-anchor=\"middle\" x=\"66.5\" y=\"-3.8\" font-family=\"Times,serif\" font-size=\"14.00\" fill=\"#000000\"> + </text>\n",
       "</g>\n",
       "<!-- 1&#45;&gt;3 -->\n",
       "<g id=\"edge3\" class=\"edge\">\n",
       "<title>1&#45;&gt;3</title>\n",
       "<path fill=\"none\" stroke=\"#000000\" d=\"M66.5,-50.9748C66.5,-44.195 66.5,-33.966 66.5,-25.1331\"/>\n",
       "<polygon fill=\"#000000\" stroke=\"#000000\" points=\"70.0001,-25.0561 66.5,-15.0561 63.0001,-25.0561 70.0001,-25.0561\"/>\n",
       "</g>\n",
       "<!-- 4 -->\n",
       "<g id=\"node5\" class=\"node\">\n",
       "<title>4</title>\n",
       "<text text-anchor=\"middle\" x=\"113.5\" y=\"-3.8\" font-family=\"Times,serif\" font-size=\"14.00\" fill=\"#000000\">&lt;term&gt;</text>\n",
       "</g>\n",
       "<!-- 1&#45;&gt;4 -->\n",
       "<g id=\"edge4\" class=\"edge\">\n",
       "<title>1&#45;&gt;4</title>\n",
       "<path fill=\"none\" stroke=\"#000000\" d=\"M73.435,-50.9748C80.3079,-43.517 91.0269,-31.8857 99.6488,-22.53\"/>\n",
       "<polygon fill=\"#000000\" stroke=\"#000000\" points=\"102.3334,-24.7816 106.5365,-15.0561 97.1859,-20.0378 102.3334,-24.7816\"/>\n",
       "</g>\n",
       "</g>\n",
       "</svg>\n"
      ],
      "text/plain": [
       "<graphviz.dot.Digraph at 0x115fb55f8>"
      ]
     },
     "metadata": {},
     "output_type": "display_data"
    }
   ],
   "source": [
    "display_tree(derivation_tree)"
   ]
  },
  {
   "cell_type": "markdown",
   "metadata": {
    "button": false,
    "new_sheet": false,
    "run_control": {
     "read_only": false
    },
    "slideshow": {
     "slide_type": "subslide"
    }
   },
   "source": [
    "To turn the tree into a string, the following `all_terminals()` function comes in handy:"
   ]
  },
  {
   "cell_type": "code",
   "execution_count": 31,
   "metadata": {
    "button": false,
    "new_sheet": false,
    "run_control": {
     "read_only": false
    },
    "slideshow": {
     "slide_type": "fragment"
    }
   },
   "outputs": [],
   "source": [
    "def all_terminals(tree):\n",
    "    (symbol, children) = tree\n",
    "    if children is None:\n",
    "        # This is a nonterminal symbol not expanded yet\n",
    "        return symbol\n",
    "\n",
    "    if len(children) == 0:\n",
    "        # This is a terminal symbol\n",
    "        return symbol\n",
    "\n",
    "    # This is an expanded symbol:\n",
    "    # Concatenate all terminal symbols from all children\n",
    "    return ''.join([all_terminals(c) for c in children])"
   ]
  },
  {
   "cell_type": "code",
   "execution_count": 32,
   "metadata": {
    "button": false,
    "new_sheet": false,
    "run_control": {
     "read_only": false
    },
    "slideshow": {
     "slide_type": "fragment"
    }
   },
   "outputs": [
    {
     "data": {
      "text/plain": [
       "'<expr> + <term>'"
      ]
     },
     "execution_count": 32,
     "metadata": {},
     "output_type": "execute_result"
    }
   ],
   "source": [
    "all_terminals(derivation_tree)"
   ]
  },
  {
   "cell_type": "markdown",
   "metadata": {
    "button": false,
    "new_sheet": false,
    "run_control": {
     "read_only": false
    },
    "slideshow": {
     "slide_type": "slide"
    }
   },
   "source": [
    "## Expanding a Node"
   ]
  },
  {
   "cell_type": "markdown",
   "metadata": {
    "button": false,
    "new_sheet": false,
    "run_control": {
     "read_only": false
    },
    "slideshow": {
     "slide_type": "fragment"
    }
   },
   "source": [
    "Let us now develop an algorithm that takes a tree with unexpanded symbols (say, `derivation_tree`, above), and expands all these symbols one after the other.  As with earlier fuzzers, we create a special subclass of `Fuzzer` – in this case, `GrammarFuzzer`.  A `GrammarFuzzer` gets a grammar and a start symbol; the other parameters will be used later to further control creation and to support debugging."
   ]
  },
  {
   "cell_type": "code",
   "execution_count": 33,
   "metadata": {
    "slideshow": {
     "slide_type": "skip"
    }
   },
   "outputs": [],
   "source": [
    "from Fuzzer import Fuzzer"
   ]
  },
  {
   "cell_type": "code",
   "execution_count": 34,
   "metadata": {
    "button": false,
    "new_sheet": false,
    "run_control": {
     "read_only": false
    },
    "slideshow": {
     "slide_type": "subslide"
    }
   },
   "outputs": [],
   "source": [
    "class GrammarFuzzer(Fuzzer):\n",
    "    def __init__(self, grammar, start_symbol=START_SYMBOL,\n",
    "                 min_nonterminals=0, max_nonterminals=10, disp=False, log=False):\n",
    "        self.grammar = grammar\n",
    "        self.start_symbol = start_symbol\n",
    "        self.min_nonterminals = min_nonterminals\n",
    "        self.max_nonterminals = max_nonterminals\n",
    "        self.disp = disp\n",
    "        self.log = log\n"
   ]
  },
  {
   "cell_type": "markdown",
   "metadata": {
    "slideshow": {
     "slide_type": "subslide"
    }
   },
   "source": [
    "In the following, we will add further methods to `GrammarFuzzer`, using the hack already introduced for [the `MutationFuzzer` class](MutationFuzzer.ipynb).  The construct\n",
    "\n",
    "```python\n",
    "class GrammarFuzzer(GrammarFuzzer):\n",
    "    def new_method(self, args):\n",
    "        pass\n",
    "```\n",
    "\n",
    "allows us to add a new method `new_method()` to the `GrammarFuzzer` class. (Actually, we get a new `GrammarFuzzer` class that extends the old one, but for all our purposes, this does not matter.)"
   ]
  },
  {
   "cell_type": "markdown",
   "metadata": {
    "button": false,
    "new_sheet": false,
    "run_control": {
     "read_only": false
    },
    "slideshow": {
     "slide_type": "subslide"
    }
   },
   "source": [
    "Using this hack, let us define a helper method `init_tree()` that constructs a tree with just the start symbol:"
   ]
  },
  {
   "cell_type": "code",
   "execution_count": 35,
   "metadata": {
    "button": false,
    "new_sheet": false,
    "run_control": {
     "read_only": false
    },
    "slideshow": {
     "slide_type": "fragment"
    }
   },
   "outputs": [],
   "source": [
    "class GrammarFuzzer(GrammarFuzzer):\n",
    "    def init_tree(self):\n",
    "        return (self.start_symbol, None)"
   ]
  },
  {
   "cell_type": "code",
   "execution_count": 36,
   "metadata": {
    "button": false,
    "new_sheet": false,
    "run_control": {
     "read_only": false
    },
    "slideshow": {
     "slide_type": "fragment"
    }
   },
   "outputs": [
    {
     "data": {
      "image/svg+xml": [
       "<?xml version=\"1.0\" encoding=\"UTF-8\" standalone=\"no\"?>\n",
       "<!DOCTYPE svg PUBLIC \"-//W3C//DTD SVG 1.1//EN\"\n",
       " \"http://www.w3.org/Graphics/SVG/1.1/DTD/svg11.dtd\">\n",
       "<!-- Generated by graphviz version 2.40.1 (20161225.0304)\n",
       " -->\n",
       "<!-- Title: %3 Pages: 1 -->\n",
       "<svg width=\"48pt\" height=\"23pt\"\n",
       " viewBox=\"0.00 0.00 48.00 23.00\" xmlns=\"http://www.w3.org/2000/svg\" xmlns:xlink=\"http://www.w3.org/1999/xlink\">\n",
       "<g id=\"graph0\" class=\"graph\" transform=\"scale(1 1) rotate(0) translate(4 19)\">\n",
       "<title>%3</title>\n",
       "<polygon fill=\"#ffffff\" stroke=\"transparent\" points=\"-4,4 -4,-19 44,-19 44,4 -4,4\"/>\n",
       "<!-- 0 -->\n",
       "<g id=\"node1\" class=\"node\">\n",
       "<title>0</title>\n",
       "<text text-anchor=\"middle\" x=\"20\" y=\"-3.8\" font-family=\"Times,serif\" font-size=\"14.00\" fill=\"#000000\">&lt;start&gt;</text>\n",
       "</g>\n",
       "</g>\n",
       "</svg>\n"
      ],
      "text/plain": [
       "<graphviz.dot.Digraph at 0x115fb5278>"
      ]
     },
     "metadata": {},
     "output_type": "display_data"
    }
   ],
   "source": [
    "f = GrammarFuzzer(EXPR_GRAMMAR)\n",
    "display_tree(f.init_tree())"
   ]
  },
  {
   "cell_type": "markdown",
   "metadata": {
    "button": false,
    "new_sheet": false,
    "run_control": {
     "read_only": false
    },
    "slideshow": {
     "slide_type": "subslide"
    }
   },
   "source": [
    "Next, we will need a helper function `expansion_to_children()` that takes an expansion string and converts it into a list of derivation trees.  It uses the `re.split()` method to split an expansion string into a list of children nodes:"
   ]
  },
  {
   "cell_type": "code",
   "execution_count": 37,
   "metadata": {
    "button": false,
    "new_sheet": false,
    "run_control": {
     "read_only": false
    },
    "slideshow": {
     "slide_type": "subslide"
    }
   },
   "outputs": [],
   "source": [
    "def expansion_to_children(expansion):\n",
    "    # print(\"Converting \" + repr(expansion))\n",
    "    # strings contains all substrings -- both terminals and nonterminals such\n",
    "    # that ''.join(strings) == expansion\n",
    "\n",
    "    # See nonterminals() in Grammars.py\n",
    "    if isinstance(expansion, tuple):\n",
    "        expansion = expansion[0]\n",
    "\n",
    "    if expansion == \"\":  # Special case: empty expansion\n",
    "        return [(\"\", [])]\n",
    "\n",
    "    strings = re.split(RE_NONTERMINAL, expansion)\n",
    "    return [(s, None) if is_nonterminal(s) else (s, [])\n",
    "            for s in strings if len(s) > 0]\n"
   ]
  },
  {
   "cell_type": "code",
   "execution_count": 38,
   "metadata": {
    "button": false,
    "new_sheet": false,
    "run_control": {
     "read_only": false
    },
    "slideshow": {
     "slide_type": "subslide"
    }
   },
   "outputs": [
    {
     "data": {
      "text/plain": [
       "[('<term>', None), (' + ', []), ('<expr>', None)]"
      ]
     },
     "execution_count": 38,
     "metadata": {},
     "output_type": "execute_result"
    }
   ],
   "source": [
    "expansion_to_children(\"<term> + <expr>\")"
   ]
  },
  {
   "cell_type": "markdown",
   "metadata": {
    "button": false,
    "new_sheet": false,
    "run_control": {
     "read_only": false
    },
    "slideshow": {
     "slide_type": "fragment"
    }
   },
   "source": [
    "The case of an empty expansion needs special treatment:"
   ]
  },
  {
   "cell_type": "code",
   "execution_count": 39,
   "metadata": {
    "button": false,
    "new_sheet": false,
    "run_control": {
     "read_only": false
    },
    "slideshow": {
     "slide_type": "fragment"
    }
   },
   "outputs": [
    {
     "data": {
      "text/plain": [
       "[('', [])]"
      ]
     },
     "execution_count": 39,
     "metadata": {},
     "output_type": "execute_result"
    }
   ],
   "source": [
    "expansion_to_children(\"\")"
   ]
  },
  {
   "cell_type": "markdown",
   "metadata": {
    "slideshow": {
     "slide_type": "subslide"
    }
   },
   "source": [
    "Just like `nonterminals()` in the [chapter on Grammars](Grammars.ipynb), we provide for future extensions, allowing the expansion to be a tuple with extra data (which will be ignored)."
   ]
  },
  {
   "cell_type": "code",
   "execution_count": 40,
   "metadata": {
    "button": false,
    "new_sheet": false,
    "run_control": {
     "read_only": false
    },
    "slideshow": {
     "slide_type": "fragment"
    }
   },
   "outputs": [
    {
     "data": {
      "text/plain": [
       "[('+', []), ('<term>', None)]"
      ]
     },
     "execution_count": 40,
     "metadata": {},
     "output_type": "execute_result"
    }
   ],
   "source": [
    "expansion_to_children((\"+<term>\", [\"extra_data\"]))"
   ]
  },
  {
   "cell_type": "markdown",
   "metadata": {
    "slideshow": {
     "slide_type": "fragment"
    }
   },
   "source": [
    "We realize this helper as a method in `GrammarFuzzer` such that it can be overloaded by subclasses:"
   ]
  },
  {
   "cell_type": "code",
   "execution_count": 41,
   "metadata": {
    "slideshow": {
     "slide_type": "fragment"
    }
   },
   "outputs": [],
   "source": [
    "class GrammarFuzzer(GrammarFuzzer):\n",
    "    def expansion_to_children(self, expansion):\n",
    "        return expansion_to_children(expansion)"
   ]
  },
  {
   "cell_type": "markdown",
   "metadata": {
    "button": false,
    "new_sheet": false,
    "run_control": {
     "read_only": false
    },
    "slideshow": {
     "slide_type": "subslide"
    }
   },
   "source": [
    "With this, we can now take some unexpanded node in the tree, choose a random expansion, and return the new tree.  This is what the method `expand_node_randomly()` does, using a helper function `choose_node_expansion()` to randomly pick an index from an array of possible children.  (`choose_node_expansion()` can be overloaded in subclasses.)"
   ]
  },
  {
   "cell_type": "code",
   "execution_count": 42,
   "metadata": {
    "slideshow": {
     "slide_type": "skip"
    }
   },
   "outputs": [],
   "source": [
    "import random"
   ]
  },
  {
   "cell_type": "code",
   "execution_count": 43,
   "metadata": {
    "button": false,
    "new_sheet": false,
    "run_control": {
     "read_only": false
    },
    "slideshow": {
     "slide_type": "subslide"
    }
   },
   "outputs": [],
   "source": [
    "class GrammarFuzzer(GrammarFuzzer):\n",
    "    def choose_node_expansion(self, node, possible_children):\n",
    "        \"\"\"Return index of expansion in `possible_children` to be selected.  Defaults to random.\"\"\"\n",
    "        return random.randrange(0, len(possible_children))\n",
    "\n",
    "    def expand_node_randomly(self, node):\n",
    "        (symbol, children) = node\n",
    "        assert children is None\n",
    "\n",
    "        if self.log:\n",
    "            print(\"Expanding\", all_terminals(node), \"randomly\")\n",
    "\n",
    "        # Fetch the possible expansions from grammar...\n",
    "        expansions = self.grammar[symbol]\n",
    "        possible_children = [self.expansion_to_children(expansion) for expansion in expansions]\n",
    "\n",
    "        # ... and select a random expansion\n",
    "        index = self.choose_node_expansion(node, possible_children)\n",
    "        children = possible_children[index]\n",
    "\n",
    "        # Return with new children\n",
    "        return (symbol, children)\n"
   ]
  },
  {
   "cell_type": "markdown",
   "metadata": {
    "slideshow": {
     "slide_type": "subslide"
    }
   },
   "source": [
    "The generic `expand_node()` method can later be used to select different expansion strategies; as of now, it only uses `expand_node_randomly()`."
   ]
  },
  {
   "cell_type": "code",
   "execution_count": 44,
   "metadata": {
    "slideshow": {
     "slide_type": "fragment"
    }
   },
   "outputs": [],
   "source": [
    "class GrammarFuzzer(GrammarFuzzer):\n",
    "    def expand_node(self, node):\n",
    "        return self.expand_node_randomly(node)"
   ]
  },
  {
   "cell_type": "markdown",
   "metadata": {
    "slideshow": {
     "slide_type": "subslide"
    }
   },
   "source": [
    "This is how `expand_node_randomly()` works:"
   ]
  },
  {
   "cell_type": "code",
   "execution_count": 45,
   "metadata": {
    "button": false,
    "new_sheet": false,
    "run_control": {
     "read_only": false
    },
    "slideshow": {
     "slide_type": "fragment"
    }
   },
   "outputs": [
    {
     "name": "stdout",
     "output_type": "stream",
     "text": [
      "Before:\n"
     ]
    },
    {
     "data": {
      "image/svg+xml": [
       "<?xml version=\"1.0\" encoding=\"UTF-8\" standalone=\"no\"?>\n",
       "<!DOCTYPE svg PUBLIC \"-//W3C//DTD SVG 1.1//EN\"\n",
       " \"http://www.w3.org/Graphics/SVG/1.1/DTD/svg11.dtd\">\n",
       "<!-- Generated by graphviz version 2.40.1 (20161225.0304)\n",
       " -->\n",
       "<!-- Title: %3 Pages: 1 -->\n",
       "<svg width=\"63pt\" height=\"23pt\"\n",
       " viewBox=\"0.00 0.00 63.00 23.00\" xmlns=\"http://www.w3.org/2000/svg\" xmlns:xlink=\"http://www.w3.org/1999/xlink\">\n",
       "<g id=\"graph0\" class=\"graph\" transform=\"scale(1 1) rotate(0) translate(4 19)\">\n",
       "<title>%3</title>\n",
       "<polygon fill=\"#ffffff\" stroke=\"transparent\" points=\"-4,4 -4,-19 59,-19 59,4 -4,4\"/>\n",
       "<!-- 0 -->\n",
       "<g id=\"node1\" class=\"node\">\n",
       "<title>0</title>\n",
       "<text text-anchor=\"middle\" x=\"27.5\" y=\"-3.8\" font-family=\"Times,serif\" font-size=\"14.00\" fill=\"#000000\">&lt;integer&gt;</text>\n",
       "</g>\n",
       "</g>\n",
       "</svg>\n"
      ],
      "text/plain": [
       "<graphviz.dot.Digraph at 0x115fb3128>"
      ]
     },
     "metadata": {},
     "output_type": "display_data"
    },
    {
     "name": "stdout",
     "output_type": "stream",
     "text": [
      "After:\n",
      "Expanding <integer> randomly\n"
     ]
    },
    {
     "data": {
      "image/svg+xml": [
       "<?xml version=\"1.0\" encoding=\"UTF-8\" standalone=\"no\"?>\n",
       "<!DOCTYPE svg PUBLIC \"-//W3C//DTD SVG 1.1//EN\"\n",
       " \"http://www.w3.org/Graphics/SVG/1.1/DTD/svg11.dtd\">\n",
       "<!-- Generated by graphviz version 2.40.1 (20161225.0304)\n",
       " -->\n",
       "<!-- Title: %3 Pages: 1 -->\n",
       "<svg width=\"63pt\" height=\"74pt\"\n",
       " viewBox=\"0.00 0.00 63.00 74.00\" xmlns=\"http://www.w3.org/2000/svg\" xmlns:xlink=\"http://www.w3.org/1999/xlink\">\n",
       "<g id=\"graph0\" class=\"graph\" transform=\"scale(1 1) rotate(0) translate(4 70)\">\n",
       "<title>%3</title>\n",
       "<polygon fill=\"#ffffff\" stroke=\"transparent\" points=\"-4,4 -4,-70 59,-70 59,4 -4,4\"/>\n",
       "<!-- 0 -->\n",
       "<g id=\"node1\" class=\"node\">\n",
       "<title>0</title>\n",
       "<text text-anchor=\"middle\" x=\"27.5\" y=\"-54.8\" font-family=\"Times,serif\" font-size=\"14.00\" fill=\"#000000\">&lt;integer&gt;</text>\n",
       "</g>\n",
       "<!-- 1 -->\n",
       "<g id=\"node2\" class=\"node\">\n",
       "<title>1</title>\n",
       "<text text-anchor=\"middle\" x=\"27.5\" y=\"-3.8\" font-family=\"Times,serif\" font-size=\"14.00\" fill=\"#000000\">&lt;digit&gt;</text>\n",
       "</g>\n",
       "<!-- 0&#45;&gt;1 -->\n",
       "<g id=\"edge1\" class=\"edge\">\n",
       "<title>0&#45;&gt;1</title>\n",
       "<path fill=\"none\" stroke=\"#000000\" d=\"M27.5,-50.9748C27.5,-44.195 27.5,-33.966 27.5,-25.1331\"/>\n",
       "<polygon fill=\"#000000\" stroke=\"#000000\" points=\"31.0001,-25.0561 27.5,-15.0561 24.0001,-25.0561 31.0001,-25.0561\"/>\n",
       "</g>\n",
       "</g>\n",
       "</svg>\n"
      ],
      "text/plain": [
       "<graphviz.dot.Digraph at 0x115fb52e8>"
      ]
     },
     "metadata": {},
     "output_type": "display_data"
    }
   ],
   "source": [
    "f = GrammarFuzzer(EXPR_GRAMMAR, log=True)\n",
    "\n",
    "print(\"Before:\")\n",
    "tree = (\"<integer>\", None)\n",
    "display_tree(tree)\n",
    "\n",
    "print(\"After:\")\n",
    "tree = f.expand_node_randomly(tree)\n",
    "display_tree(tree)"
   ]
  },
  {
   "cell_type": "markdown",
   "metadata": {
    "button": false,
    "new_sheet": false,
    "run_control": {
     "read_only": false
    },
    "slideshow": {
     "slide_type": "slide"
    }
   },
   "source": [
    "## Expanding a Tree\n",
    "\n",
    "Let us now apply the above node expansion to some node in the tree.  To this end, we first need to search the tree for unexpanded nodes.  `possible_expansions()` counts how many unexpanded symbols there are in a tree:"
   ]
  },
  {
   "cell_type": "code",
   "execution_count": 46,
   "metadata": {
    "button": false,
    "new_sheet": false,
    "run_control": {
     "read_only": false
    },
    "slideshow": {
     "slide_type": "fragment"
    }
   },
   "outputs": [],
   "source": [
    "class GrammarFuzzer(GrammarFuzzer):\n",
    "    def possible_expansions(self, node):\n",
    "        (symbol, children) = node\n",
    "        if children is None:\n",
    "            return 1\n",
    "\n",
    "        return sum(self.possible_expansions(c) for c in children)"
   ]
  },
  {
   "cell_type": "code",
   "execution_count": 47,
   "metadata": {
    "button": false,
    "new_sheet": false,
    "run_control": {
     "read_only": false
    },
    "slideshow": {
     "slide_type": "fragment"
    }
   },
   "outputs": [
    {
     "name": "stdout",
     "output_type": "stream",
     "text": [
      "2\n"
     ]
    }
   ],
   "source": [
    "f = GrammarFuzzer(EXPR_GRAMMAR)\n",
    "print(f.possible_expansions(derivation_tree))"
   ]
  },
  {
   "cell_type": "markdown",
   "metadata": {
    "button": false,
    "new_sheet": false,
    "run_control": {
     "read_only": false
    },
    "slideshow": {
     "slide_type": "subslide"
    }
   },
   "source": [
    "The method `any_possible_expansions()` returns True if the tree has any unexpanded nodes."
   ]
  },
  {
   "cell_type": "code",
   "execution_count": 48,
   "metadata": {
    "button": false,
    "new_sheet": false,
    "run_control": {
     "read_only": false
    },
    "slideshow": {
     "slide_type": "fragment"
    }
   },
   "outputs": [],
   "source": [
    "class GrammarFuzzer(GrammarFuzzer):\n",
    "    def any_possible_expansions(self, node):\n",
    "        (symbol, children) = node\n",
    "        if children is None:\n",
    "            return True\n",
    "\n",
    "        return any(self.any_possible_expansions(c) for c in children)"
   ]
  },
  {
   "cell_type": "code",
   "execution_count": 49,
   "metadata": {
    "button": false,
    "new_sheet": false,
    "run_control": {
     "read_only": false
    },
    "slideshow": {
     "slide_type": "fragment"
    }
   },
   "outputs": [
    {
     "data": {
      "text/plain": [
       "True"
      ]
     },
     "execution_count": 49,
     "metadata": {},
     "output_type": "execute_result"
    }
   ],
   "source": [
    "f = GrammarFuzzer(EXPR_GRAMMAR)\n",
    "f.any_possible_expansions(derivation_tree)"
   ]
  },
  {
   "cell_type": "markdown",
   "metadata": {
    "button": false,
    "new_sheet": false,
    "run_control": {
     "read_only": false
    },
    "slideshow": {
     "slide_type": "subslide"
    }
   },
   "source": [
    "Here comes `expand_tree_once()`, the core method of our tree expansion algorithm.  It first checks whether it is currently being applied on a nonterminal symbol without expansion; if so, it invokes `expand_node()` on it, as discussed above.  \n",
    "\n",
    "If the node is already expanded (i.e. has children), it checks the subset of children which still have unexpanded symbols, randomly selects one of them, and applies itself recursively on that child.\n",
    "\n",
    "The `expand_tree_once()` method replaces the child _in place_, meaning that it actually mutates the tree being passed as an argument rather than returning a new tree.  This in-place mutation is what makes this function particularly efficient.  Again, we use a helper method (`choose_tree_expansion()`) to return the chosen index from a list of children that can be expanded."
   ]
  },
  {
   "cell_type": "code",
   "execution_count": 50,
   "metadata": {
    "button": false,
    "new_sheet": false,
    "run_control": {
     "read_only": false
    },
    "slideshow": {
     "slide_type": "subslide"
    }
   },
   "outputs": [],
   "source": [
    "class GrammarFuzzer(GrammarFuzzer):\n",
    "    def choose_tree_expansion(self, tree, children):\n",
    "        \"\"\"Return index of subtree in `children` to be selected for expansion.  Defaults to random.\"\"\"\n",
    "        return random.randrange(0, len(children))\n",
    "\n",
    "    def expand_tree_once(self, tree):\n",
    "        (symbol, children) = tree\n",
    "        if children is None:\n",
    "            # Expand this node\n",
    "            return self.expand_node(tree)\n",
    "\n",
    "        # Find all children with possible expansions\n",
    "        expandable_children = [\n",
    "            c for c in children if self.any_possible_expansions(c)]\n",
    "\n",
    "        # `index_map` translates an index in `expandable_children`\n",
    "        # back into the original index in `children`\n",
    "        index_map = [i for (i, c) in enumerate(children)\n",
    "                     if self.any_possible_expansions(c)]\n",
    "\n",
    "        # Select a random child\n",
    "        child_to_be_expanded = \\\n",
    "            self.choose_tree_expansion(tree, expandable_children)\n",
    "\n",
    "        # Expand in place\n",
    "        children[index_map[child_to_be_expanded]] = \\\n",
    "            self.expand_tree_once(expandable_children[child_to_be_expanded])\n",
    "\n",
    "        return tree"
   ]
  },
  {
   "cell_type": "markdown",
   "metadata": {
    "button": false,
    "new_sheet": false,
    "run_control": {
     "read_only": false
    },
    "slideshow": {
     "slide_type": "subslide"
    }
   },
   "source": [
    "Let's put it to use, expanding our derivation tree from above twice."
   ]
  },
  {
   "cell_type": "code",
   "execution_count": 51,
   "metadata": {
    "button": false,
    "new_sheet": false,
    "run_control": {
     "read_only": false
    },
    "slideshow": {
     "slide_type": "fragment"
    }
   },
   "outputs": [
    {
     "data": {
      "image/svg+xml": [
       "<?xml version=\"1.0\" encoding=\"UTF-8\" standalone=\"no\"?>\n",
       "<!DOCTYPE svg PUBLIC \"-//W3C//DTD SVG 1.1//EN\"\n",
       " \"http://www.w3.org/Graphics/SVG/1.1/DTD/svg11.dtd\">\n",
       "<!-- Generated by graphviz version 2.40.1 (20161225.0304)\n",
       " -->\n",
       "<!-- Title: %3 Pages: 1 -->\n",
       "<svg width=\"143pt\" height=\"125pt\"\n",
       " viewBox=\"0.00 0.00 142.50 125.00\" xmlns=\"http://www.w3.org/2000/svg\" xmlns:xlink=\"http://www.w3.org/1999/xlink\">\n",
       "<g id=\"graph0\" class=\"graph\" transform=\"scale(1 1) rotate(0) translate(4 121)\">\n",
       "<title>%3</title>\n",
       "<polygon fill=\"#ffffff\" stroke=\"transparent\" points=\"-4,4 -4,-121 138.5,-121 138.5,4 -4,4\"/>\n",
       "<!-- 0 -->\n",
       "<g id=\"node1\" class=\"node\">\n",
       "<title>0</title>\n",
       "<text text-anchor=\"middle\" x=\"66.5\" y=\"-105.8\" font-family=\"Times,serif\" font-size=\"14.00\" fill=\"#000000\">&lt;start&gt;</text>\n",
       "</g>\n",
       "<!-- 1 -->\n",
       "<g id=\"node2\" class=\"node\">\n",
       "<title>1</title>\n",
       "<text text-anchor=\"middle\" x=\"66.5\" y=\"-54.8\" font-family=\"Times,serif\" font-size=\"14.00\" fill=\"#000000\">&lt;expr&gt;</text>\n",
       "</g>\n",
       "<!-- 0&#45;&gt;1 -->\n",
       "<g id=\"edge1\" class=\"edge\">\n",
       "<title>0&#45;&gt;1</title>\n",
       "<path fill=\"none\" stroke=\"#000000\" d=\"M66.5,-101.9748C66.5,-95.195 66.5,-84.966 66.5,-76.1331\"/>\n",
       "<polygon fill=\"#000000\" stroke=\"#000000\" points=\"70.0001,-76.0561 66.5,-66.0561 63.0001,-76.0561 70.0001,-76.0561\"/>\n",
       "</g>\n",
       "<!-- 2 -->\n",
       "<g id=\"node3\" class=\"node\">\n",
       "<title>2</title>\n",
       "<text text-anchor=\"middle\" x=\"20.5\" y=\"-3.8\" font-family=\"Times,serif\" font-size=\"14.00\" fill=\"#000000\">&lt;expr&gt;</text>\n",
       "</g>\n",
       "<!-- 1&#45;&gt;2 -->\n",
       "<g id=\"edge2\" class=\"edge\">\n",
       "<title>1&#45;&gt;2</title>\n",
       "<path fill=\"none\" stroke=\"#000000\" d=\"M59.7125,-50.9748C52.9859,-43.517 42.495,-31.8857 34.0564,-22.53\"/>\n",
       "<polygon fill=\"#000000\" stroke=\"#000000\" points=\"36.612,-20.1376 27.3153,-15.0561 31.414,-24.826 36.612,-20.1376\"/>\n",
       "</g>\n",
       "<!-- 3 -->\n",
       "<g id=\"node4\" class=\"node\">\n",
       "<title>3</title>\n",
       "<text text-anchor=\"middle\" x=\"66.5\" y=\"-3.8\" font-family=\"Times,serif\" font-size=\"14.00\" fill=\"#000000\"> + </text>\n",
       "</g>\n",
       "<!-- 1&#45;&gt;3 -->\n",
       "<g id=\"edge3\" class=\"edge\">\n",
       "<title>1&#45;&gt;3</title>\n",
       "<path fill=\"none\" stroke=\"#000000\" d=\"M66.5,-50.9748C66.5,-44.195 66.5,-33.966 66.5,-25.1331\"/>\n",
       "<polygon fill=\"#000000\" stroke=\"#000000\" points=\"70.0001,-25.0561 66.5,-15.0561 63.0001,-25.0561 70.0001,-25.0561\"/>\n",
       "</g>\n",
       "<!-- 4 -->\n",
       "<g id=\"node5\" class=\"node\">\n",
       "<title>4</title>\n",
       "<text text-anchor=\"middle\" x=\"113.5\" y=\"-3.8\" font-family=\"Times,serif\" font-size=\"14.00\" fill=\"#000000\">&lt;term&gt;</text>\n",
       "</g>\n",
       "<!-- 1&#45;&gt;4 -->\n",
       "<g id=\"edge4\" class=\"edge\">\n",
       "<title>1&#45;&gt;4</title>\n",
       "<path fill=\"none\" stroke=\"#000000\" d=\"M73.435,-50.9748C80.3079,-43.517 91.0269,-31.8857 99.6488,-22.53\"/>\n",
       "<polygon fill=\"#000000\" stroke=\"#000000\" points=\"102.3334,-24.7816 106.5365,-15.0561 97.1859,-20.0378 102.3334,-24.7816\"/>\n",
       "</g>\n",
       "</g>\n",
       "</svg>\n"
      ],
      "text/plain": [
       "<graphviz.dot.Digraph at 0x115fa9710>"
      ]
     },
     "metadata": {},
     "output_type": "display_data"
    }
   ],
   "source": [
    "derivation_tree = (\"<start>\",\n",
    "                   [(\"<expr>\",\n",
    "                     [(\"<expr>\", None),\n",
    "                      (\" + \", []),\n",
    "                         (\"<term>\", None)]\n",
    "                     )])\n",
    "display_tree(derivation_tree)"
   ]
  },
  {
   "cell_type": "code",
   "execution_count": 52,
   "metadata": {
    "button": false,
    "new_sheet": false,
    "run_control": {
     "read_only": false
    },
    "slideshow": {
     "slide_type": "subslide"
    }
   },
   "outputs": [
    {
     "name": "stdout",
     "output_type": "stream",
     "text": [
      "Expanding <expr> randomly\n"
     ]
    },
    {
     "data": {
      "image/svg+xml": [
       "<?xml version=\"1.0\" encoding=\"UTF-8\" standalone=\"no\"?>\n",
       "<!DOCTYPE svg PUBLIC \"-//W3C//DTD SVG 1.1//EN\"\n",
       " \"http://www.w3.org/Graphics/SVG/1.1/DTD/svg11.dtd\">\n",
       "<!-- Generated by graphviz version 2.40.1 (20161225.0304)\n",
       " -->\n",
       "<!-- Title: %3 Pages: 1 -->\n",
       "<svg width=\"188pt\" height=\"176pt\"\n",
       " viewBox=\"0.00 0.00 188.00 176.00\" xmlns=\"http://www.w3.org/2000/svg\" xmlns:xlink=\"http://www.w3.org/1999/xlink\">\n",
       "<g id=\"graph0\" class=\"graph\" transform=\"scale(1 1) rotate(0) translate(4 172)\">\n",
       "<title>%3</title>\n",
       "<polygon fill=\"#ffffff\" stroke=\"transparent\" points=\"-4,4 -4,-172 184,-172 184,4 -4,4\"/>\n",
       "<!-- 0 -->\n",
       "<g id=\"node1\" class=\"node\">\n",
       "<title>0</title>\n",
       "<text text-anchor=\"middle\" x=\"112\" y=\"-156.8\" font-family=\"Times,serif\" font-size=\"14.00\" fill=\"#000000\">&lt;start&gt;</text>\n",
       "</g>\n",
       "<!-- 1 -->\n",
       "<g id=\"node2\" class=\"node\">\n",
       "<title>1</title>\n",
       "<text text-anchor=\"middle\" x=\"112\" y=\"-105.8\" font-family=\"Times,serif\" font-size=\"14.00\" fill=\"#000000\">&lt;expr&gt;</text>\n",
       "</g>\n",
       "<!-- 0&#45;&gt;1 -->\n",
       "<g id=\"edge1\" class=\"edge\">\n",
       "<title>0&#45;&gt;1</title>\n",
       "<path fill=\"none\" stroke=\"#000000\" d=\"M112,-152.9748C112,-146.195 112,-135.966 112,-127.1331\"/>\n",
       "<polygon fill=\"#000000\" stroke=\"#000000\" points=\"115.5001,-127.0561 112,-117.0561 108.5001,-127.0561 115.5001,-127.0561\"/>\n",
       "</g>\n",
       "<!-- 2 -->\n",
       "<g id=\"node3\" class=\"node\">\n",
       "<title>2</title>\n",
       "<text text-anchor=\"middle\" x=\"66\" y=\"-54.8\" font-family=\"Times,serif\" font-size=\"14.00\" fill=\"#000000\">&lt;expr&gt;</text>\n",
       "</g>\n",
       "<!-- 1&#45;&gt;2 -->\n",
       "<g id=\"edge2\" class=\"edge\">\n",
       "<title>1&#45;&gt;2</title>\n",
       "<path fill=\"none\" stroke=\"#000000\" d=\"M105.2125,-101.9748C98.4859,-94.517 87.995,-82.8857 79.5564,-73.53\"/>\n",
       "<polygon fill=\"#000000\" stroke=\"#000000\" points=\"82.112,-71.1376 72.8153,-66.0561 76.914,-75.826 82.112,-71.1376\"/>\n",
       "</g>\n",
       "<!-- 6 -->\n",
       "<g id=\"node7\" class=\"node\">\n",
       "<title>6</title>\n",
       "<text text-anchor=\"middle\" x=\"112\" y=\"-54.8\" font-family=\"Times,serif\" font-size=\"14.00\" fill=\"#000000\"> + </text>\n",
       "</g>\n",
       "<!-- 1&#45;&gt;6 -->\n",
       "<g id=\"edge6\" class=\"edge\">\n",
       "<title>1&#45;&gt;6</title>\n",
       "<path fill=\"none\" stroke=\"#000000\" d=\"M112,-101.9748C112,-95.195 112,-84.966 112,-76.1331\"/>\n",
       "<polygon fill=\"#000000\" stroke=\"#000000\" points=\"115.5001,-76.0561 112,-66.0561 108.5001,-76.0561 115.5001,-76.0561\"/>\n",
       "</g>\n",
       "<!-- 7 -->\n",
       "<g id=\"node8\" class=\"node\">\n",
       "<title>7</title>\n",
       "<text text-anchor=\"middle\" x=\"159\" y=\"-54.8\" font-family=\"Times,serif\" font-size=\"14.00\" fill=\"#000000\">&lt;term&gt;</text>\n",
       "</g>\n",
       "<!-- 1&#45;&gt;7 -->\n",
       "<g id=\"edge7\" class=\"edge\">\n",
       "<title>1&#45;&gt;7</title>\n",
       "<path fill=\"none\" stroke=\"#000000\" d=\"M118.935,-101.9748C125.8079,-94.517 136.5269,-82.8857 145.1488,-73.53\"/>\n",
       "<polygon fill=\"#000000\" stroke=\"#000000\" points=\"147.8334,-75.7816 152.0365,-66.0561 142.6859,-71.0378 147.8334,-75.7816\"/>\n",
       "</g>\n",
       "<!-- 3 -->\n",
       "<g id=\"node4\" class=\"node\">\n",
       "<title>3</title>\n",
       "<text text-anchor=\"middle\" x=\"21\" y=\"-3.8\" font-family=\"Times,serif\" font-size=\"14.00\" fill=\"#000000\">&lt;term&gt;</text>\n",
       "</g>\n",
       "<!-- 2&#45;&gt;3 -->\n",
       "<g id=\"edge3\" class=\"edge\">\n",
       "<title>2&#45;&gt;3</title>\n",
       "<path fill=\"none\" stroke=\"#000000\" d=\"M59.3601,-50.9748C52.8462,-43.5923 42.7238,-32.1203 34.5125,-22.8142\"/>\n",
       "<polygon fill=\"#000000\" stroke=\"#000000\" points=\"36.9078,-20.2388 27.6671,-15.0561 31.659,-24.8702 36.9078,-20.2388\"/>\n",
       "</g>\n",
       "<!-- 4 -->\n",
       "<g id=\"node5\" class=\"node\">\n",
       "<title>4</title>\n",
       "<text text-anchor=\"middle\" x=\"66\" y=\"-3.8\" font-family=\"Times,serif\" font-size=\"14.00\" fill=\"#000000\"> &#45; </text>\n",
       "</g>\n",
       "<!-- 2&#45;&gt;4 -->\n",
       "<g id=\"edge4\" class=\"edge\">\n",
       "<title>2&#45;&gt;4</title>\n",
       "<path fill=\"none\" stroke=\"#000000\" d=\"M66,-50.9748C66,-44.195 66,-33.966 66,-25.1331\"/>\n",
       "<polygon fill=\"#000000\" stroke=\"#000000\" points=\"69.5001,-25.0561 66,-15.0561 62.5001,-25.0561 69.5001,-25.0561\"/>\n",
       "</g>\n",
       "<!-- 5 -->\n",
       "<g id=\"node6\" class=\"node\">\n",
       "<title>5</title>\n",
       "<text text-anchor=\"middle\" x=\"111\" y=\"-3.8\" font-family=\"Times,serif\" font-size=\"14.00\" fill=\"#000000\">&lt;expr&gt;</text>\n",
       "</g>\n",
       "<!-- 2&#45;&gt;5 -->\n",
       "<g id=\"edge5\" class=\"edge\">\n",
       "<title>2&#45;&gt;5</title>\n",
       "<path fill=\"none\" stroke=\"#000000\" d=\"M72.6399,-50.9748C79.1538,-43.5923 89.2762,-32.1203 97.4875,-22.8142\"/>\n",
       "<polygon fill=\"#000000\" stroke=\"#000000\" points=\"100.341,-24.8702 104.3329,-15.0561 95.0922,-20.2388 100.341,-24.8702\"/>\n",
       "</g>\n",
       "</g>\n",
       "</svg>\n"
      ],
      "text/plain": [
       "<graphviz.dot.Digraph at 0x115fa9dd8>"
      ]
     },
     "metadata": {},
     "output_type": "display_data"
    }
   ],
   "source": [
    "f = GrammarFuzzer(EXPR_GRAMMAR, log=True)\n",
    "derivation_tree = f.expand_tree_once(derivation_tree)\n",
    "display_tree(derivation_tree)"
   ]
  },
  {
   "cell_type": "code",
   "execution_count": 53,
   "metadata": {
    "button": false,
    "new_sheet": false,
    "run_control": {
     "read_only": false
    },
    "slideshow": {
     "slide_type": "subslide"
    }
   },
   "outputs": [
    {
     "name": "stdout",
     "output_type": "stream",
     "text": [
      "Expanding <term> randomly\n"
     ]
    },
    {
     "data": {
      "image/svg+xml": [
       "<?xml version=\"1.0\" encoding=\"UTF-8\" standalone=\"no\"?>\n",
       "<!DOCTYPE svg PUBLIC \"-//W3C//DTD SVG 1.1//EN\"\n",
       " \"http://www.w3.org/Graphics/SVG/1.1/DTD/svg11.dtd\">\n",
       "<!-- Generated by graphviz version 2.40.1 (20161225.0304)\n",
       " -->\n",
       "<!-- Title: %3 Pages: 1 -->\n",
       "<svg width=\"296pt\" height=\"176pt\"\n",
       " viewBox=\"0.00 0.00 296.00 176.00\" xmlns=\"http://www.w3.org/2000/svg\" xmlns:xlink=\"http://www.w3.org/1999/xlink\">\n",
       "<g id=\"graph0\" class=\"graph\" transform=\"scale(1 1) rotate(0) translate(4 172)\">\n",
       "<title>%3</title>\n",
       "<polygon fill=\"#ffffff\" stroke=\"transparent\" points=\"-4,4 -4,-172 292,-172 292,4 -4,4\"/>\n",
       "<!-- 0 -->\n",
       "<g id=\"node1\" class=\"node\">\n",
       "<title>0</title>\n",
       "<text text-anchor=\"middle\" x=\"143\" y=\"-156.8\" font-family=\"Times,serif\" font-size=\"14.00\" fill=\"#000000\">&lt;start&gt;</text>\n",
       "</g>\n",
       "<!-- 1 -->\n",
       "<g id=\"node2\" class=\"node\">\n",
       "<title>1</title>\n",
       "<text text-anchor=\"middle\" x=\"143\" y=\"-105.8\" font-family=\"Times,serif\" font-size=\"14.00\" fill=\"#000000\">&lt;expr&gt;</text>\n",
       "</g>\n",
       "<!-- 0&#45;&gt;1 -->\n",
       "<g id=\"edge1\" class=\"edge\">\n",
       "<title>0&#45;&gt;1</title>\n",
       "<path fill=\"none\" stroke=\"#000000\" d=\"M143,-152.9748C143,-146.195 143,-135.966 143,-127.1331\"/>\n",
       "<polygon fill=\"#000000\" stroke=\"#000000\" points=\"146.5001,-127.0561 143,-117.0561 139.5001,-127.0561 146.5001,-127.0561\"/>\n",
       "</g>\n",
       "<!-- 2 -->\n",
       "<g id=\"node3\" class=\"node\">\n",
       "<title>2</title>\n",
       "<text text-anchor=\"middle\" x=\"90\" y=\"-54.8\" font-family=\"Times,serif\" font-size=\"14.00\" fill=\"#000000\">&lt;expr&gt;</text>\n",
       "</g>\n",
       "<!-- 1&#45;&gt;2 -->\n",
       "<g id=\"edge2\" class=\"edge\">\n",
       "<title>1&#45;&gt;2</title>\n",
       "<path fill=\"none\" stroke=\"#000000\" d=\"M135.1797,-101.9748C127.3511,-94.4417 115.0974,-82.6503 105.3255,-73.2472\"/>\n",
       "<polygon fill=\"#000000\" stroke=\"#000000\" points=\"107.485,-70.4679 97.8524,-66.0561 102.6313,-75.5119 107.485,-70.4679\"/>\n",
       "</g>\n",
       "<!-- 6 -->\n",
       "<g id=\"node7\" class=\"node\">\n",
       "<title>6</title>\n",
       "<text text-anchor=\"middle\" x=\"143\" y=\"-54.8\" font-family=\"Times,serif\" font-size=\"14.00\" fill=\"#000000\"> + </text>\n",
       "</g>\n",
       "<!-- 1&#45;&gt;6 -->\n",
       "<g id=\"edge6\" class=\"edge\">\n",
       "<title>1&#45;&gt;6</title>\n",
       "<path fill=\"none\" stroke=\"#000000\" d=\"M143,-101.9748C143,-95.195 143,-84.966 143,-76.1331\"/>\n",
       "<polygon fill=\"#000000\" stroke=\"#000000\" points=\"146.5001,-76.0561 143,-66.0561 139.5001,-76.0561 146.5001,-76.0561\"/>\n",
       "</g>\n",
       "<!-- 7 -->\n",
       "<g id=\"node8\" class=\"node\">\n",
       "<title>7</title>\n",
       "<text text-anchor=\"middle\" x=\"194\" y=\"-54.8\" font-family=\"Times,serif\" font-size=\"14.00\" fill=\"#000000\">&lt;term&gt;</text>\n",
       "</g>\n",
       "<!-- 1&#45;&gt;7 -->\n",
       "<g id=\"edge7\" class=\"edge\">\n",
       "<title>1&#45;&gt;7</title>\n",
       "<path fill=\"none\" stroke=\"#000000\" d=\"M150.5252,-101.9748C158.0583,-94.4417 169.8497,-82.6503 179.2528,-73.2472\"/>\n",
       "<polygon fill=\"#000000\" stroke=\"#000000\" points=\"181.8477,-75.6021 186.4439,-66.0561 176.8979,-70.6523 181.8477,-75.6021\"/>\n",
       "</g>\n",
       "<!-- 3 -->\n",
       "<g id=\"node4\" class=\"node\">\n",
       "<title>3</title>\n",
       "<text text-anchor=\"middle\" x=\"21\" y=\"-3.8\" font-family=\"Times,serif\" font-size=\"14.00\" fill=\"#000000\">&lt;term&gt;</text>\n",
       "</g>\n",
       "<!-- 2&#45;&gt;3 -->\n",
       "<g id=\"edge3\" class=\"edge\">\n",
       "<title>2&#45;&gt;3</title>\n",
       "<path fill=\"none\" stroke=\"#000000\" d=\"M79.8188,-50.9748C69.2193,-43.1403 52.3885,-30.7002 39.4415,-21.1307\"/>\n",
       "<polygon fill=\"#000000\" stroke=\"#000000\" points=\"41.3451,-18.1854 31.223,-15.0561 37.1844,-23.8147 41.3451,-18.1854\"/>\n",
       "</g>\n",
       "<!-- 4 -->\n",
       "<g id=\"node5\" class=\"node\">\n",
       "<title>4</title>\n",
       "<text text-anchor=\"middle\" x=\"66\" y=\"-3.8\" font-family=\"Times,serif\" font-size=\"14.00\" fill=\"#000000\"> &#45; </text>\n",
       "</g>\n",
       "<!-- 2&#45;&gt;4 -->\n",
       "<g id=\"edge4\" class=\"edge\">\n",
       "<title>2&#45;&gt;4</title>\n",
       "<path fill=\"none\" stroke=\"#000000\" d=\"M86.4587,-50.9748C83.1619,-43.969 78.1319,-33.2803 73.8845,-24.2547\"/>\n",
       "<polygon fill=\"#000000\" stroke=\"#000000\" points=\"76.9807,-22.614 69.5558,-15.0561 70.647,-25.5946 76.9807,-22.614\"/>\n",
       "</g>\n",
       "<!-- 5 -->\n",
       "<g id=\"node6\" class=\"node\">\n",
       "<title>5</title>\n",
       "<text text-anchor=\"middle\" x=\"111\" y=\"-3.8\" font-family=\"Times,serif\" font-size=\"14.00\" fill=\"#000000\">&lt;expr&gt;</text>\n",
       "</g>\n",
       "<!-- 2&#45;&gt;5 -->\n",
       "<g id=\"edge5\" class=\"edge\">\n",
       "<title>2&#45;&gt;5</title>\n",
       "<path fill=\"none\" stroke=\"#000000\" d=\"M93.0986,-50.9748C95.9523,-44.0443 100.2901,-33.5097 103.9809,-24.5464\"/>\n",
       "<polygon fill=\"#000000\" stroke=\"#000000\" points=\"107.3175,-25.6355 107.8887,-15.0561 100.8447,-22.9702 107.3175,-25.6355\"/>\n",
       "</g>\n",
       "<!-- 8 -->\n",
       "<g id=\"node9\" class=\"node\">\n",
       "<title>8</title>\n",
       "<text text-anchor=\"middle\" x=\"174\" y=\"-3.8\" font-family=\"Times,serif\" font-size=\"14.00\" fill=\"#000000\">&lt;factor&gt;</text>\n",
       "</g>\n",
       "<!-- 7&#45;&gt;8 -->\n",
       "<g id=\"edge8\" class=\"edge\">\n",
       "<title>7&#45;&gt;8</title>\n",
       "<path fill=\"none\" stroke=\"#000000\" d=\"M191.0489,-50.9748C188.3311,-44.0443 184.1999,-33.5097 180.6849,-24.5464\"/>\n",
       "<polygon fill=\"#000000\" stroke=\"#000000\" points=\"183.8725,-23.088 176.9632,-15.0561 177.3557,-25.6437 183.8725,-23.088\"/>\n",
       "</g>\n",
       "<!-- 9 -->\n",
       "<g id=\"node10\" class=\"node\">\n",
       "<title>9</title>\n",
       "<text text-anchor=\"middle\" x=\"222\" y=\"-3.8\" font-family=\"Times,serif\" font-size=\"14.00\" fill=\"#000000\"> / </text>\n",
       "</g>\n",
       "<!-- 7&#45;&gt;9 -->\n",
       "<g id=\"edge9\" class=\"edge\">\n",
       "<title>7&#45;&gt;9</title>\n",
       "<path fill=\"none\" stroke=\"#000000\" d=\"M198.1315,-50.9748C202.0192,-43.8936 207.9726,-33.05 212.9609,-23.9641\"/>\n",
       "<polygon fill=\"#000000\" stroke=\"#000000\" points=\"216.1069,-25.5063 217.8516,-15.0561 209.9709,-22.1375 216.1069,-25.5063\"/>\n",
       "</g>\n",
       "<!-- 10 -->\n",
       "<g id=\"node11\" class=\"node\">\n",
       "<title>10</title>\n",
       "<text text-anchor=\"middle\" x=\"267\" y=\"-3.8\" font-family=\"Times,serif\" font-size=\"14.00\" fill=\"#000000\">&lt;term&gt;</text>\n",
       "</g>\n",
       "<!-- 7&#45;&gt;10 -->\n",
       "<g id=\"edge10\" class=\"edge\">\n",
       "<title>7&#45;&gt;10</title>\n",
       "<path fill=\"none\" stroke=\"#000000\" d=\"M204.7714,-50.9748C216.0932,-43.065 234.1349,-30.4606 247.8834,-20.8554\"/>\n",
       "<polygon fill=\"#000000\" stroke=\"#000000\" points=\"249.9913,-23.6524 256.1844,-15.0561 245.9823,-17.9141 249.9913,-23.6524\"/>\n",
       "</g>\n",
       "</g>\n",
       "</svg>\n"
      ],
      "text/plain": [
       "<graphviz.dot.Digraph at 0x115fb37b8>"
      ]
     },
     "metadata": {},
     "output_type": "display_data"
    }
   ],
   "source": [
    "derivation_tree = f.expand_tree_once(derivation_tree)\n",
    "display_tree(derivation_tree)"
   ]
  },
  {
   "cell_type": "markdown",
   "metadata": {
    "button": false,
    "new_sheet": false,
    "run_control": {
     "read_only": false
    },
    "slideshow": {
     "slide_type": "fragment"
    }
   },
   "source": [
    "We see that with each step, one more symbol is expanded.  Now all it takes is to apply this again and again, expanding the tree further and further."
   ]
  },
  {
   "cell_type": "markdown",
   "metadata": {
    "button": false,
    "new_sheet": false,
    "run_control": {
     "read_only": false
    },
    "slideshow": {
     "slide_type": "slide"
    }
   },
   "source": [
    "## Closing the Expansion\n",
    "\n",
    "With `expand_tree_once()`, we can keep on expanding the tree – but how do we actually stop?  The key idea here, introduced by Luke in \\cite{Luke2000}, is that after inflating the derivation tree to some maximum size, we _only want to apply expansions that increase the size of the tree by a minimum_.  For `<factor>`, for instance, we would prefer an expansion into `<integer>`, as this will not introduce further recursion (and potential size inflation); for `<integer>`, likewise, an expansion into `<digit>` is preferred, as it will less increase tree size than `<digit><integer>`."
   ]
  },
  {
   "cell_type": "markdown",
   "metadata": {
    "button": false,
    "new_sheet": false,
    "run_control": {
     "read_only": false
    },
    "slideshow": {
     "slide_type": "subslide"
    }
   },
   "source": [
    "To identify the _cost_ of expanding a symbol, we introduce two functions that mutually rely on each other:\n",
    "\n",
    "* `symbol_cost()` returns the minimum cost of all expansions of a symbol, using `expansion_cost()` to compute the cost for each expansion.\n",
    "* `expansion_cost()` returns the sum of all expansions in `expansions`.  If a nonterminal is encountered again during traversal, the cost of the expansion is $\\infty$, indicating (potentially infinite) recursion."
   ]
  },
  {
   "cell_type": "code",
   "execution_count": 54,
   "metadata": {
    "button": false,
    "new_sheet": false,
    "run_control": {
     "read_only": false
    },
    "slideshow": {
     "slide_type": "fragment"
    }
   },
   "outputs": [],
   "source": [
    "class GrammarFuzzer(GrammarFuzzer):\n",
    "    def symbol_cost(self, symbol, seen=set()):\n",
    "        expansions = self.grammar[symbol]\n",
    "        return min(self.expansion_cost(e, seen | {symbol}) for e in expansions)\n",
    "\n",
    "    def expansion_cost(self, expansion, seen=set()):\n",
    "        symbols = nonterminals(expansion)\n",
    "        if len(symbols) == 0:\n",
    "            return 1  # no symbol\n",
    "\n",
    "        if any(s in seen for s in symbols):\n",
    "            return float('inf')\n",
    "\n",
    "        # the value of a expansion is the sum of all expandable variables\n",
    "        # inside + 1\n",
    "        return sum(self.symbol_cost(s, seen) for s in symbols) + 1"
   ]
  },
  {
   "cell_type": "markdown",
   "metadata": {
    "button": false,
    "new_sheet": false,
    "run_control": {
     "read_only": false
    },
    "slideshow": {
     "slide_type": "subslide"
    }
   },
   "source": [
    "Here's two examples: The minimum cost of expanding a digit is 1, since we have to choose from one of its expansions."
   ]
  },
  {
   "cell_type": "code",
   "execution_count": 55,
   "metadata": {
    "button": false,
    "new_sheet": false,
    "run_control": {
     "read_only": false
    },
    "slideshow": {
     "slide_type": "fragment"
    }
   },
   "outputs": [],
   "source": [
    "f = GrammarFuzzer(EXPR_GRAMMAR)\n",
    "assert f.symbol_cost(\"<digit>\") == 1"
   ]
  },
  {
   "cell_type": "markdown",
   "metadata": {
    "button": false,
    "new_sheet": false,
    "run_control": {
     "read_only": false
    },
    "slideshow": {
     "slide_type": "fragment"
    }
   },
   "source": [
    "The minimum cost of expanding `<expr>`, though, is five, as this is the minimum number of expansions required.  (`<expr>` $\\rightarrow$ `<term>` $\\rightarrow$ `<factor>` $\\rightarrow$ `<integer>` $\\rightarrow$ `<digit>` $\\rightarrow$ 1)"
   ]
  },
  {
   "cell_type": "code",
   "execution_count": 56,
   "metadata": {
    "button": false,
    "new_sheet": false,
    "run_control": {
     "read_only": false
    },
    "slideshow": {
     "slide_type": "fragment"
    }
   },
   "outputs": [],
   "source": [
    "assert f.symbol_cost(\"<expr>\") == 5"
   ]
  },
  {
   "cell_type": "markdown",
   "metadata": {
    "button": false,
    "new_sheet": false,
    "run_control": {
     "read_only": false
    },
    "slideshow": {
     "slide_type": "subslide"
    }
   },
   "source": [
    "Here's now a variant of `expand_node()` that takes the above cost into account.  It determines the minimum cost `cost` across all children and then chooses a child from the list using the `choose` function, which by default is the minimum cost.  If multiple children all have the same minimum cost, it chooses randomly between these."
   ]
  },
  {
   "cell_type": "code",
   "execution_count": 57,
   "metadata": {
    "button": false,
    "new_sheet": false,
    "run_control": {
     "read_only": false
    },
    "slideshow": {
     "slide_type": "subslide"
    }
   },
   "outputs": [],
   "source": [
    "class GrammarFuzzer(GrammarFuzzer):\n",
    "    def expand_node_by_cost(self, node, choose=min):\n",
    "        (symbol, children) = node\n",
    "        assert children is None\n",
    "\n",
    "        # Fetch the possible expansions from grammar...\n",
    "        expansions = self.grammar[symbol]\n",
    "\n",
    "        possible_children_with_cost = [(self.expansion_to_children(expansion),\n",
    "                                        self.expansion_cost(expansion, {symbol}))\n",
    "                                       for expansion in expansions]\n",
    "\n",
    "        costs = [cost for (child, cost) in possible_children_with_cost]\n",
    "        chosen_cost = choose(costs)\n",
    "        children_with_chosen_cost = [child for (child, child_cost) in possible_children_with_cost\n",
    "                                     if child_cost == chosen_cost]\n",
    "\n",
    "        index = self.choose_node_expansion(node, children_with_chosen_cost)\n",
    "\n",
    "        # Return with a new list\n",
    "        return (symbol, children_with_chosen_cost[index])\n"
   ]
  },
  {
   "cell_type": "markdown",
   "metadata": {
    "slideshow": {
     "slide_type": "subslide"
    }
   },
   "source": [
    "The shortcut `expand_node_min_cost()` passes `min()` as the `choose` function, which makes it expand nodes at minimum cost."
   ]
  },
  {
   "cell_type": "code",
   "execution_count": 58,
   "metadata": {
    "button": false,
    "new_sheet": false,
    "run_control": {
     "read_only": false
    },
    "slideshow": {
     "slide_type": "fragment"
    }
   },
   "outputs": [],
   "source": [
    "class GrammarFuzzer(GrammarFuzzer):\n",
    "    def expand_node_min_cost(self, node):\n",
    "        if self.log:\n",
    "            print(\"Expanding\", all_terminals(node), \"at minimum cost\")\n",
    "\n",
    "        return self.expand_node_by_cost(node, min)"
   ]
  },
  {
   "cell_type": "markdown",
   "metadata": {
    "button": false,
    "new_sheet": false,
    "run_control": {
     "read_only": false
    },
    "slideshow": {
     "slide_type": "subslide"
    }
   },
   "source": [
    "We can now apply this function to close the expansion of our derivation tree, using `expand_tree_once()` with the above `expand_node_min_cost()` as expansion function."
   ]
  },
  {
   "cell_type": "code",
   "execution_count": 59,
   "metadata": {
    "button": false,
    "new_sheet": false,
    "run_control": {
     "read_only": false
    },
    "slideshow": {
     "slide_type": "fragment"
    }
   },
   "outputs": [],
   "source": [
    "class GrammarFuzzer(GrammarFuzzer):\n",
    "    def expand_node(self, node):\n",
    "        return self.expand_node_min_cost(node)"
   ]
  },
  {
   "cell_type": "code",
   "execution_count": 60,
   "metadata": {
    "button": false,
    "new_sheet": false,
    "run_control": {
     "read_only": false
    },
    "slideshow": {
     "slide_type": "subslide"
    }
   },
   "outputs": [
    {
     "data": {
      "image/svg+xml": [
       "<?xml version=\"1.0\" encoding=\"UTF-8\" standalone=\"no\"?>\n",
       "<!DOCTYPE svg PUBLIC \"-//W3C//DTD SVG 1.1//EN\"\n",
       " \"http://www.w3.org/Graphics/SVG/1.1/DTD/svg11.dtd\">\n",
       "<!-- Generated by graphviz version 2.40.1 (20161225.0304)\n",
       " -->\n",
       "<!-- Title: %3 Pages: 1 -->\n",
       "<svg width=\"296pt\" height=\"176pt\"\n",
       " viewBox=\"0.00 0.00 296.00 176.00\" xmlns=\"http://www.w3.org/2000/svg\" xmlns:xlink=\"http://www.w3.org/1999/xlink\">\n",
       "<g id=\"graph0\" class=\"graph\" transform=\"scale(1 1) rotate(0) translate(4 172)\">\n",
       "<title>%3</title>\n",
       "<polygon fill=\"#ffffff\" stroke=\"transparent\" points=\"-4,4 -4,-172 292,-172 292,4 -4,4\"/>\n",
       "<!-- 0 -->\n",
       "<g id=\"node1\" class=\"node\">\n",
       "<title>0</title>\n",
       "<text text-anchor=\"middle\" x=\"143\" y=\"-156.8\" font-family=\"Times,serif\" font-size=\"14.00\" fill=\"#000000\">&lt;start&gt;</text>\n",
       "</g>\n",
       "<!-- 1 -->\n",
       "<g id=\"node2\" class=\"node\">\n",
       "<title>1</title>\n",
       "<text text-anchor=\"middle\" x=\"143\" y=\"-105.8\" font-family=\"Times,serif\" font-size=\"14.00\" fill=\"#000000\">&lt;expr&gt;</text>\n",
       "</g>\n",
       "<!-- 0&#45;&gt;1 -->\n",
       "<g id=\"edge1\" class=\"edge\">\n",
       "<title>0&#45;&gt;1</title>\n",
       "<path fill=\"none\" stroke=\"#000000\" d=\"M143,-152.9748C143,-146.195 143,-135.966 143,-127.1331\"/>\n",
       "<polygon fill=\"#000000\" stroke=\"#000000\" points=\"146.5001,-127.0561 143,-117.0561 139.5001,-127.0561 146.5001,-127.0561\"/>\n",
       "</g>\n",
       "<!-- 2 -->\n",
       "<g id=\"node3\" class=\"node\">\n",
       "<title>2</title>\n",
       "<text text-anchor=\"middle\" x=\"90\" y=\"-54.8\" font-family=\"Times,serif\" font-size=\"14.00\" fill=\"#000000\">&lt;expr&gt;</text>\n",
       "</g>\n",
       "<!-- 1&#45;&gt;2 -->\n",
       "<g id=\"edge2\" class=\"edge\">\n",
       "<title>1&#45;&gt;2</title>\n",
       "<path fill=\"none\" stroke=\"#000000\" d=\"M135.1797,-101.9748C127.3511,-94.4417 115.0974,-82.6503 105.3255,-73.2472\"/>\n",
       "<polygon fill=\"#000000\" stroke=\"#000000\" points=\"107.485,-70.4679 97.8524,-66.0561 102.6313,-75.5119 107.485,-70.4679\"/>\n",
       "</g>\n",
       "<!-- 6 -->\n",
       "<g id=\"node7\" class=\"node\">\n",
       "<title>6</title>\n",
       "<text text-anchor=\"middle\" x=\"143\" y=\"-54.8\" font-family=\"Times,serif\" font-size=\"14.00\" fill=\"#000000\"> + </text>\n",
       "</g>\n",
       "<!-- 1&#45;&gt;6 -->\n",
       "<g id=\"edge6\" class=\"edge\">\n",
       "<title>1&#45;&gt;6</title>\n",
       "<path fill=\"none\" stroke=\"#000000\" d=\"M143,-101.9748C143,-95.195 143,-84.966 143,-76.1331\"/>\n",
       "<polygon fill=\"#000000\" stroke=\"#000000\" points=\"146.5001,-76.0561 143,-66.0561 139.5001,-76.0561 146.5001,-76.0561\"/>\n",
       "</g>\n",
       "<!-- 7 -->\n",
       "<g id=\"node8\" class=\"node\">\n",
       "<title>7</title>\n",
       "<text text-anchor=\"middle\" x=\"194\" y=\"-54.8\" font-family=\"Times,serif\" font-size=\"14.00\" fill=\"#000000\">&lt;term&gt;</text>\n",
       "</g>\n",
       "<!-- 1&#45;&gt;7 -->\n",
       "<g id=\"edge7\" class=\"edge\">\n",
       "<title>1&#45;&gt;7</title>\n",
       "<path fill=\"none\" stroke=\"#000000\" d=\"M150.5252,-101.9748C158.0583,-94.4417 169.8497,-82.6503 179.2528,-73.2472\"/>\n",
       "<polygon fill=\"#000000\" stroke=\"#000000\" points=\"181.8477,-75.6021 186.4439,-66.0561 176.8979,-70.6523 181.8477,-75.6021\"/>\n",
       "</g>\n",
       "<!-- 3 -->\n",
       "<g id=\"node4\" class=\"node\">\n",
       "<title>3</title>\n",
       "<text text-anchor=\"middle\" x=\"21\" y=\"-3.8\" font-family=\"Times,serif\" font-size=\"14.00\" fill=\"#000000\">&lt;term&gt;</text>\n",
       "</g>\n",
       "<!-- 2&#45;&gt;3 -->\n",
       "<g id=\"edge3\" class=\"edge\">\n",
       "<title>2&#45;&gt;3</title>\n",
       "<path fill=\"none\" stroke=\"#000000\" d=\"M79.8188,-50.9748C69.2193,-43.1403 52.3885,-30.7002 39.4415,-21.1307\"/>\n",
       "<polygon fill=\"#000000\" stroke=\"#000000\" points=\"41.3451,-18.1854 31.223,-15.0561 37.1844,-23.8147 41.3451,-18.1854\"/>\n",
       "</g>\n",
       "<!-- 4 -->\n",
       "<g id=\"node5\" class=\"node\">\n",
       "<title>4</title>\n",
       "<text text-anchor=\"middle\" x=\"66\" y=\"-3.8\" font-family=\"Times,serif\" font-size=\"14.00\" fill=\"#000000\"> &#45; </text>\n",
       "</g>\n",
       "<!-- 2&#45;&gt;4 -->\n",
       "<g id=\"edge4\" class=\"edge\">\n",
       "<title>2&#45;&gt;4</title>\n",
       "<path fill=\"none\" stroke=\"#000000\" d=\"M86.4587,-50.9748C83.1619,-43.969 78.1319,-33.2803 73.8845,-24.2547\"/>\n",
       "<polygon fill=\"#000000\" stroke=\"#000000\" points=\"76.9807,-22.614 69.5558,-15.0561 70.647,-25.5946 76.9807,-22.614\"/>\n",
       "</g>\n",
       "<!-- 5 -->\n",
       "<g id=\"node6\" class=\"node\">\n",
       "<title>5</title>\n",
       "<text text-anchor=\"middle\" x=\"111\" y=\"-3.8\" font-family=\"Times,serif\" font-size=\"14.00\" fill=\"#000000\">&lt;expr&gt;</text>\n",
       "</g>\n",
       "<!-- 2&#45;&gt;5 -->\n",
       "<g id=\"edge5\" class=\"edge\">\n",
       "<title>2&#45;&gt;5</title>\n",
       "<path fill=\"none\" stroke=\"#000000\" d=\"M93.0986,-50.9748C95.9523,-44.0443 100.2901,-33.5097 103.9809,-24.5464\"/>\n",
       "<polygon fill=\"#000000\" stroke=\"#000000\" points=\"107.3175,-25.6355 107.8887,-15.0561 100.8447,-22.9702 107.3175,-25.6355\"/>\n",
       "</g>\n",
       "<!-- 8 -->\n",
       "<g id=\"node9\" class=\"node\">\n",
       "<title>8</title>\n",
       "<text text-anchor=\"middle\" x=\"174\" y=\"-3.8\" font-family=\"Times,serif\" font-size=\"14.00\" fill=\"#000000\">&lt;factor&gt;</text>\n",
       "</g>\n",
       "<!-- 7&#45;&gt;8 -->\n",
       "<g id=\"edge8\" class=\"edge\">\n",
       "<title>7&#45;&gt;8</title>\n",
       "<path fill=\"none\" stroke=\"#000000\" d=\"M191.0489,-50.9748C188.3311,-44.0443 184.1999,-33.5097 180.6849,-24.5464\"/>\n",
       "<polygon fill=\"#000000\" stroke=\"#000000\" points=\"183.8725,-23.088 176.9632,-15.0561 177.3557,-25.6437 183.8725,-23.088\"/>\n",
       "</g>\n",
       "<!-- 9 -->\n",
       "<g id=\"node10\" class=\"node\">\n",
       "<title>9</title>\n",
       "<text text-anchor=\"middle\" x=\"222\" y=\"-3.8\" font-family=\"Times,serif\" font-size=\"14.00\" fill=\"#000000\"> / </text>\n",
       "</g>\n",
       "<!-- 7&#45;&gt;9 -->\n",
       "<g id=\"edge9\" class=\"edge\">\n",
       "<title>7&#45;&gt;9</title>\n",
       "<path fill=\"none\" stroke=\"#000000\" d=\"M198.1315,-50.9748C202.0192,-43.8936 207.9726,-33.05 212.9609,-23.9641\"/>\n",
       "<polygon fill=\"#000000\" stroke=\"#000000\" points=\"216.1069,-25.5063 217.8516,-15.0561 209.9709,-22.1375 216.1069,-25.5063\"/>\n",
       "</g>\n",
       "<!-- 10 -->\n",
       "<g id=\"node11\" class=\"node\">\n",
       "<title>10</title>\n",
       "<text text-anchor=\"middle\" x=\"267\" y=\"-3.8\" font-family=\"Times,serif\" font-size=\"14.00\" fill=\"#000000\">&lt;term&gt;</text>\n",
       "</g>\n",
       "<!-- 7&#45;&gt;10 -->\n",
       "<g id=\"edge10\" class=\"edge\">\n",
       "<title>7&#45;&gt;10</title>\n",
       "<path fill=\"none\" stroke=\"#000000\" d=\"M204.7714,-50.9748C216.0932,-43.065 234.1349,-30.4606 247.8834,-20.8554\"/>\n",
       "<polygon fill=\"#000000\" stroke=\"#000000\" points=\"249.9913,-23.6524 256.1844,-15.0561 245.9823,-17.9141 249.9913,-23.6524\"/>\n",
       "</g>\n",
       "</g>\n",
       "</svg>\n"
      ],
      "text/plain": [
       "<graphviz.dot.Digraph at 0x115fb3438>"
      ]
     },
     "metadata": {},
     "output_type": "display_data"
    }
   ],
   "source": [
    "f = GrammarFuzzer(EXPR_GRAMMAR, log=True)\n",
    "display_tree(derivation_tree)"
   ]
  },
  {
   "cell_type": "code",
   "execution_count": 61,
   "metadata": {
    "button": false,
    "new_sheet": false,
    "run_control": {
     "read_only": false
    },
    "slideshow": {
     "slide_type": "subslide"
    }
   },
   "outputs": [
    {
     "name": "stdout",
     "output_type": "stream",
     "text": [
      "Expanding <expr> at minimum cost\n"
     ]
    },
    {
     "data": {
      "image/svg+xml": [
       "<?xml version=\"1.0\" encoding=\"UTF-8\" standalone=\"no\"?>\n",
       "<!DOCTYPE svg PUBLIC \"-//W3C//DTD SVG 1.1//EN\"\n",
       " \"http://www.w3.org/Graphics/SVG/1.1/DTD/svg11.dtd\">\n",
       "<!-- Generated by graphviz version 2.40.1 (20161225.0304)\n",
       " -->\n",
       "<!-- Title: %3 Pages: 1 -->\n",
       "<svg width=\"296pt\" height=\"227pt\"\n",
       " viewBox=\"0.00 0.00 296.00 227.00\" xmlns=\"http://www.w3.org/2000/svg\" xmlns:xlink=\"http://www.w3.org/1999/xlink\">\n",
       "<g id=\"graph0\" class=\"graph\" transform=\"scale(1 1) rotate(0) translate(4 223)\">\n",
       "<title>%3</title>\n",
       "<polygon fill=\"#ffffff\" stroke=\"transparent\" points=\"-4,4 -4,-223 292,-223 292,4 -4,4\"/>\n",
       "<!-- 0 -->\n",
       "<g id=\"node1\" class=\"node\">\n",
       "<title>0</title>\n",
       "<text text-anchor=\"middle\" x=\"143\" y=\"-207.8\" font-family=\"Times,serif\" font-size=\"14.00\" fill=\"#000000\">&lt;start&gt;</text>\n",
       "</g>\n",
       "<!-- 1 -->\n",
       "<g id=\"node2\" class=\"node\">\n",
       "<title>1</title>\n",
       "<text text-anchor=\"middle\" x=\"143\" y=\"-156.8\" font-family=\"Times,serif\" font-size=\"14.00\" fill=\"#000000\">&lt;expr&gt;</text>\n",
       "</g>\n",
       "<!-- 0&#45;&gt;1 -->\n",
       "<g id=\"edge1\" class=\"edge\">\n",
       "<title>0&#45;&gt;1</title>\n",
       "<path fill=\"none\" stroke=\"#000000\" d=\"M143,-203.9748C143,-197.195 143,-186.966 143,-178.1331\"/>\n",
       "<polygon fill=\"#000000\" stroke=\"#000000\" points=\"146.5001,-178.0561 143,-168.0561 139.5001,-178.0561 146.5001,-178.0561\"/>\n",
       "</g>\n",
       "<!-- 2 -->\n",
       "<g id=\"node3\" class=\"node\">\n",
       "<title>2</title>\n",
       "<text text-anchor=\"middle\" x=\"90\" y=\"-105.8\" font-family=\"Times,serif\" font-size=\"14.00\" fill=\"#000000\">&lt;expr&gt;</text>\n",
       "</g>\n",
       "<!-- 1&#45;&gt;2 -->\n",
       "<g id=\"edge2\" class=\"edge\">\n",
       "<title>1&#45;&gt;2</title>\n",
       "<path fill=\"none\" stroke=\"#000000\" d=\"M135.1797,-152.9748C127.3511,-145.4417 115.0974,-133.6503 105.3255,-124.2472\"/>\n",
       "<polygon fill=\"#000000\" stroke=\"#000000\" points=\"107.485,-121.4679 97.8524,-117.0561 102.6313,-126.5119 107.485,-121.4679\"/>\n",
       "</g>\n",
       "<!-- 7 -->\n",
       "<g id=\"node8\" class=\"node\">\n",
       "<title>7</title>\n",
       "<text text-anchor=\"middle\" x=\"143\" y=\"-105.8\" font-family=\"Times,serif\" font-size=\"14.00\" fill=\"#000000\"> + </text>\n",
       "</g>\n",
       "<!-- 1&#45;&gt;7 -->\n",
       "<g id=\"edge7\" class=\"edge\">\n",
       "<title>1&#45;&gt;7</title>\n",
       "<path fill=\"none\" stroke=\"#000000\" d=\"M143,-152.9748C143,-146.195 143,-135.966 143,-127.1331\"/>\n",
       "<polygon fill=\"#000000\" stroke=\"#000000\" points=\"146.5001,-127.0561 143,-117.0561 139.5001,-127.0561 146.5001,-127.0561\"/>\n",
       "</g>\n",
       "<!-- 8 -->\n",
       "<g id=\"node9\" class=\"node\">\n",
       "<title>8</title>\n",
       "<text text-anchor=\"middle\" x=\"194\" y=\"-105.8\" font-family=\"Times,serif\" font-size=\"14.00\" fill=\"#000000\">&lt;term&gt;</text>\n",
       "</g>\n",
       "<!-- 1&#45;&gt;8 -->\n",
       "<g id=\"edge8\" class=\"edge\">\n",
       "<title>1&#45;&gt;8</title>\n",
       "<path fill=\"none\" stroke=\"#000000\" d=\"M150.5252,-152.9748C158.0583,-145.4417 169.8497,-133.6503 179.2528,-124.2472\"/>\n",
       "<polygon fill=\"#000000\" stroke=\"#000000\" points=\"181.8477,-126.6021 186.4439,-117.0561 176.8979,-121.6523 181.8477,-126.6021\"/>\n",
       "</g>\n",
       "<!-- 3 -->\n",
       "<g id=\"node4\" class=\"node\">\n",
       "<title>3</title>\n",
       "<text text-anchor=\"middle\" x=\"21\" y=\"-54.8\" font-family=\"Times,serif\" font-size=\"14.00\" fill=\"#000000\">&lt;term&gt;</text>\n",
       "</g>\n",
       "<!-- 2&#45;&gt;3 -->\n",
       "<g id=\"edge3\" class=\"edge\">\n",
       "<title>2&#45;&gt;3</title>\n",
       "<path fill=\"none\" stroke=\"#000000\" d=\"M79.8188,-101.9748C69.2193,-94.1403 52.3885,-81.7002 39.4415,-72.1307\"/>\n",
       "<polygon fill=\"#000000\" stroke=\"#000000\" points=\"41.3451,-69.1854 31.223,-66.0561 37.1844,-74.8147 41.3451,-69.1854\"/>\n",
       "</g>\n",
       "<!-- 4 -->\n",
       "<g id=\"node5\" class=\"node\">\n",
       "<title>4</title>\n",
       "<text text-anchor=\"middle\" x=\"66\" y=\"-54.8\" font-family=\"Times,serif\" font-size=\"14.00\" fill=\"#000000\"> &#45; </text>\n",
       "</g>\n",
       "<!-- 2&#45;&gt;4 -->\n",
       "<g id=\"edge4\" class=\"edge\">\n",
       "<title>2&#45;&gt;4</title>\n",
       "<path fill=\"none\" stroke=\"#000000\" d=\"M86.4587,-101.9748C83.1619,-94.969 78.1319,-84.2803 73.8845,-75.2547\"/>\n",
       "<polygon fill=\"#000000\" stroke=\"#000000\" points=\"76.9807,-73.614 69.5558,-66.0561 70.647,-76.5946 76.9807,-73.614\"/>\n",
       "</g>\n",
       "<!-- 5 -->\n",
       "<g id=\"node6\" class=\"node\">\n",
       "<title>5</title>\n",
       "<text text-anchor=\"middle\" x=\"111\" y=\"-54.8\" font-family=\"Times,serif\" font-size=\"14.00\" fill=\"#000000\">&lt;expr&gt;</text>\n",
       "</g>\n",
       "<!-- 2&#45;&gt;5 -->\n",
       "<g id=\"edge5\" class=\"edge\">\n",
       "<title>2&#45;&gt;5</title>\n",
       "<path fill=\"none\" stroke=\"#000000\" d=\"M93.0986,-101.9748C95.9523,-95.0443 100.2901,-84.5097 103.9809,-75.5464\"/>\n",
       "<polygon fill=\"#000000\" stroke=\"#000000\" points=\"107.3175,-76.6355 107.8887,-66.0561 100.8447,-73.9702 107.3175,-76.6355\"/>\n",
       "</g>\n",
       "<!-- 6 -->\n",
       "<g id=\"node7\" class=\"node\">\n",
       "<title>6</title>\n",
       "<text text-anchor=\"middle\" x=\"111\" y=\"-3.8\" font-family=\"Times,serif\" font-size=\"14.00\" fill=\"#000000\">&lt;term&gt;</text>\n",
       "</g>\n",
       "<!-- 5&#45;&gt;6 -->\n",
       "<g id=\"edge6\" class=\"edge\">\n",
       "<title>5&#45;&gt;6</title>\n",
       "<path fill=\"none\" stroke=\"#000000\" d=\"M111,-50.9748C111,-44.195 111,-33.966 111,-25.1331\"/>\n",
       "<polygon fill=\"#000000\" stroke=\"#000000\" points=\"114.5001,-25.0561 111,-15.0561 107.5001,-25.0561 114.5001,-25.0561\"/>\n",
       "</g>\n",
       "<!-- 9 -->\n",
       "<g id=\"node10\" class=\"node\">\n",
       "<title>9</title>\n",
       "<text text-anchor=\"middle\" x=\"174\" y=\"-54.8\" font-family=\"Times,serif\" font-size=\"14.00\" fill=\"#000000\">&lt;factor&gt;</text>\n",
       "</g>\n",
       "<!-- 8&#45;&gt;9 -->\n",
       "<g id=\"edge9\" class=\"edge\">\n",
       "<title>8&#45;&gt;9</title>\n",
       "<path fill=\"none\" stroke=\"#000000\" d=\"M191.0489,-101.9748C188.3311,-95.0443 184.1999,-84.5097 180.6849,-75.5464\"/>\n",
       "<polygon fill=\"#000000\" stroke=\"#000000\" points=\"183.8725,-74.088 176.9632,-66.0561 177.3557,-76.6437 183.8725,-74.088\"/>\n",
       "</g>\n",
       "<!-- 10 -->\n",
       "<g id=\"node11\" class=\"node\">\n",
       "<title>10</title>\n",
       "<text text-anchor=\"middle\" x=\"222\" y=\"-54.8\" font-family=\"Times,serif\" font-size=\"14.00\" fill=\"#000000\"> / </text>\n",
       "</g>\n",
       "<!-- 8&#45;&gt;10 -->\n",
       "<g id=\"edge10\" class=\"edge\">\n",
       "<title>8&#45;&gt;10</title>\n",
       "<path fill=\"none\" stroke=\"#000000\" d=\"M198.1315,-101.9748C202.0192,-94.8936 207.9726,-84.05 212.9609,-74.9641\"/>\n",
       "<polygon fill=\"#000000\" stroke=\"#000000\" points=\"216.1069,-76.5063 217.8516,-66.0561 209.9709,-73.1375 216.1069,-76.5063\"/>\n",
       "</g>\n",
       "<!-- 11 -->\n",
       "<g id=\"node12\" class=\"node\">\n",
       "<title>11</title>\n",
       "<text text-anchor=\"middle\" x=\"267\" y=\"-54.8\" font-family=\"Times,serif\" font-size=\"14.00\" fill=\"#000000\">&lt;term&gt;</text>\n",
       "</g>\n",
       "<!-- 8&#45;&gt;11 -->\n",
       "<g id=\"edge11\" class=\"edge\">\n",
       "<title>8&#45;&gt;11</title>\n",
       "<path fill=\"none\" stroke=\"#000000\" d=\"M204.7714,-101.9748C216.0932,-94.065 234.1349,-81.4606 247.8834,-71.8554\"/>\n",
       "<polygon fill=\"#000000\" stroke=\"#000000\" points=\"249.9913,-74.6524 256.1844,-66.0561 245.9823,-68.9141 249.9913,-74.6524\"/>\n",
       "</g>\n",
       "</g>\n",
       "</svg>\n"
      ],
      "text/plain": [
       "<graphviz.dot.Digraph at 0x115fb3780>"
      ]
     },
     "metadata": {},
     "output_type": "display_data"
    }
   ],
   "source": [
    "if f.any_possible_expansions(derivation_tree):\n",
    "    derivation_tree = f.expand_tree_once(derivation_tree)\n",
    "    display_tree(derivation_tree)"
   ]
  },
  {
   "cell_type": "code",
   "execution_count": 62,
   "metadata": {
    "button": false,
    "new_sheet": false,
    "run_control": {
     "read_only": false
    },
    "slideshow": {
     "slide_type": "subslide"
    }
   },
   "outputs": [
    {
     "name": "stdout",
     "output_type": "stream",
     "text": [
      "Expanding <term> at minimum cost\n"
     ]
    },
    {
     "data": {
      "image/svg+xml": [
       "<?xml version=\"1.0\" encoding=\"UTF-8\" standalone=\"no\"?>\n",
       "<!DOCTYPE svg PUBLIC \"-//W3C//DTD SVG 1.1//EN\"\n",
       " \"http://www.w3.org/Graphics/SVG/1.1/DTD/svg11.dtd\">\n",
       "<!-- Generated by graphviz version 2.40.1 (20161225.0304)\n",
       " -->\n",
       "<!-- Title: %3 Pages: 1 -->\n",
       "<svg width=\"300pt\" height=\"227pt\"\n",
       " viewBox=\"0.00 0.00 299.50 227.00\" xmlns=\"http://www.w3.org/2000/svg\" xmlns:xlink=\"http://www.w3.org/1999/xlink\">\n",
       "<g id=\"graph0\" class=\"graph\" transform=\"scale(1 1) rotate(0) translate(4 223)\">\n",
       "<title>%3</title>\n",
       "<polygon fill=\"#ffffff\" stroke=\"transparent\" points=\"-4,4 -4,-223 295.5,-223 295.5,4 -4,4\"/>\n",
       "<!-- 0 -->\n",
       "<g id=\"node1\" class=\"node\">\n",
       "<title>0</title>\n",
       "<text text-anchor=\"middle\" x=\"143\" y=\"-207.8\" font-family=\"Times,serif\" font-size=\"14.00\" fill=\"#000000\">&lt;start&gt;</text>\n",
       "</g>\n",
       "<!-- 1 -->\n",
       "<g id=\"node2\" class=\"node\">\n",
       "<title>1</title>\n",
       "<text text-anchor=\"middle\" x=\"143\" y=\"-156.8\" font-family=\"Times,serif\" font-size=\"14.00\" fill=\"#000000\">&lt;expr&gt;</text>\n",
       "</g>\n",
       "<!-- 0&#45;&gt;1 -->\n",
       "<g id=\"edge1\" class=\"edge\">\n",
       "<title>0&#45;&gt;1</title>\n",
       "<path fill=\"none\" stroke=\"#000000\" d=\"M143,-203.9748C143,-197.195 143,-186.966 143,-178.1331\"/>\n",
       "<polygon fill=\"#000000\" stroke=\"#000000\" points=\"146.5001,-178.0561 143,-168.0561 139.5001,-178.0561 146.5001,-178.0561\"/>\n",
       "</g>\n",
       "<!-- 2 -->\n",
       "<g id=\"node3\" class=\"node\">\n",
       "<title>2</title>\n",
       "<text text-anchor=\"middle\" x=\"90\" y=\"-105.8\" font-family=\"Times,serif\" font-size=\"14.00\" fill=\"#000000\">&lt;expr&gt;</text>\n",
       "</g>\n",
       "<!-- 1&#45;&gt;2 -->\n",
       "<g id=\"edge2\" class=\"edge\">\n",
       "<title>1&#45;&gt;2</title>\n",
       "<path fill=\"none\" stroke=\"#000000\" d=\"M135.1797,-152.9748C127.3511,-145.4417 115.0974,-133.6503 105.3255,-124.2472\"/>\n",
       "<polygon fill=\"#000000\" stroke=\"#000000\" points=\"107.485,-121.4679 97.8524,-117.0561 102.6313,-126.5119 107.485,-121.4679\"/>\n",
       "</g>\n",
       "<!-- 7 -->\n",
       "<g id=\"node8\" class=\"node\">\n",
       "<title>7</title>\n",
       "<text text-anchor=\"middle\" x=\"143\" y=\"-105.8\" font-family=\"Times,serif\" font-size=\"14.00\" fill=\"#000000\"> + </text>\n",
       "</g>\n",
       "<!-- 1&#45;&gt;7 -->\n",
       "<g id=\"edge7\" class=\"edge\">\n",
       "<title>1&#45;&gt;7</title>\n",
       "<path fill=\"none\" stroke=\"#000000\" d=\"M143,-152.9748C143,-146.195 143,-135.966 143,-127.1331\"/>\n",
       "<polygon fill=\"#000000\" stroke=\"#000000\" points=\"146.5001,-127.0561 143,-117.0561 139.5001,-127.0561 146.5001,-127.0561\"/>\n",
       "</g>\n",
       "<!-- 8 -->\n",
       "<g id=\"node9\" class=\"node\">\n",
       "<title>8</title>\n",
       "<text text-anchor=\"middle\" x=\"194\" y=\"-105.8\" font-family=\"Times,serif\" font-size=\"14.00\" fill=\"#000000\">&lt;term&gt;</text>\n",
       "</g>\n",
       "<!-- 1&#45;&gt;8 -->\n",
       "<g id=\"edge8\" class=\"edge\">\n",
       "<title>1&#45;&gt;8</title>\n",
       "<path fill=\"none\" stroke=\"#000000\" d=\"M150.5252,-152.9748C158.0583,-145.4417 169.8497,-133.6503 179.2528,-124.2472\"/>\n",
       "<polygon fill=\"#000000\" stroke=\"#000000\" points=\"181.8477,-126.6021 186.4439,-117.0561 176.8979,-121.6523 181.8477,-126.6021\"/>\n",
       "</g>\n",
       "<!-- 3 -->\n",
       "<g id=\"node4\" class=\"node\">\n",
       "<title>3</title>\n",
       "<text text-anchor=\"middle\" x=\"21\" y=\"-54.8\" font-family=\"Times,serif\" font-size=\"14.00\" fill=\"#000000\">&lt;term&gt;</text>\n",
       "</g>\n",
       "<!-- 2&#45;&gt;3 -->\n",
       "<g id=\"edge3\" class=\"edge\">\n",
       "<title>2&#45;&gt;3</title>\n",
       "<path fill=\"none\" stroke=\"#000000\" d=\"M79.8188,-101.9748C69.2193,-94.1403 52.3885,-81.7002 39.4415,-72.1307\"/>\n",
       "<polygon fill=\"#000000\" stroke=\"#000000\" points=\"41.3451,-69.1854 31.223,-66.0561 37.1844,-74.8147 41.3451,-69.1854\"/>\n",
       "</g>\n",
       "<!-- 4 -->\n",
       "<g id=\"node5\" class=\"node\">\n",
       "<title>4</title>\n",
       "<text text-anchor=\"middle\" x=\"66\" y=\"-54.8\" font-family=\"Times,serif\" font-size=\"14.00\" fill=\"#000000\"> &#45; </text>\n",
       "</g>\n",
       "<!-- 2&#45;&gt;4 -->\n",
       "<g id=\"edge4\" class=\"edge\">\n",
       "<title>2&#45;&gt;4</title>\n",
       "<path fill=\"none\" stroke=\"#000000\" d=\"M86.4587,-101.9748C83.1619,-94.969 78.1319,-84.2803 73.8845,-75.2547\"/>\n",
       "<polygon fill=\"#000000\" stroke=\"#000000\" points=\"76.9807,-73.614 69.5558,-66.0561 70.647,-76.5946 76.9807,-73.614\"/>\n",
       "</g>\n",
       "<!-- 5 -->\n",
       "<g id=\"node6\" class=\"node\">\n",
       "<title>5</title>\n",
       "<text text-anchor=\"middle\" x=\"111\" y=\"-54.8\" font-family=\"Times,serif\" font-size=\"14.00\" fill=\"#000000\">&lt;expr&gt;</text>\n",
       "</g>\n",
       "<!-- 2&#45;&gt;5 -->\n",
       "<g id=\"edge5\" class=\"edge\">\n",
       "<title>2&#45;&gt;5</title>\n",
       "<path fill=\"none\" stroke=\"#000000\" d=\"M93.0986,-101.9748C95.9523,-95.0443 100.2901,-84.5097 103.9809,-75.5464\"/>\n",
       "<polygon fill=\"#000000\" stroke=\"#000000\" points=\"107.3175,-76.6355 107.8887,-66.0561 100.8447,-73.9702 107.3175,-76.6355\"/>\n",
       "</g>\n",
       "<!-- 6 -->\n",
       "<g id=\"node7\" class=\"node\">\n",
       "<title>6</title>\n",
       "<text text-anchor=\"middle\" x=\"111\" y=\"-3.8\" font-family=\"Times,serif\" font-size=\"14.00\" fill=\"#000000\">&lt;term&gt;</text>\n",
       "</g>\n",
       "<!-- 5&#45;&gt;6 -->\n",
       "<g id=\"edge6\" class=\"edge\">\n",
       "<title>5&#45;&gt;6</title>\n",
       "<path fill=\"none\" stroke=\"#000000\" d=\"M111,-50.9748C111,-44.195 111,-33.966 111,-25.1331\"/>\n",
       "<polygon fill=\"#000000\" stroke=\"#000000\" points=\"114.5001,-25.0561 111,-15.0561 107.5001,-25.0561 114.5001,-25.0561\"/>\n",
       "</g>\n",
       "<!-- 9 -->\n",
       "<g id=\"node10\" class=\"node\">\n",
       "<title>9</title>\n",
       "<text text-anchor=\"middle\" x=\"174\" y=\"-54.8\" font-family=\"Times,serif\" font-size=\"14.00\" fill=\"#000000\">&lt;factor&gt;</text>\n",
       "</g>\n",
       "<!-- 8&#45;&gt;9 -->\n",
       "<g id=\"edge9\" class=\"edge\">\n",
       "<title>8&#45;&gt;9</title>\n",
       "<path fill=\"none\" stroke=\"#000000\" d=\"M191.0489,-101.9748C188.3311,-95.0443 184.1999,-84.5097 180.6849,-75.5464\"/>\n",
       "<polygon fill=\"#000000\" stroke=\"#000000\" points=\"183.8725,-74.088 176.9632,-66.0561 177.3557,-76.6437 183.8725,-74.088\"/>\n",
       "</g>\n",
       "<!-- 10 -->\n",
       "<g id=\"node11\" class=\"node\">\n",
       "<title>10</title>\n",
       "<text text-anchor=\"middle\" x=\"222\" y=\"-54.8\" font-family=\"Times,serif\" font-size=\"14.00\" fill=\"#000000\"> / </text>\n",
       "</g>\n",
       "<!-- 8&#45;&gt;10 -->\n",
       "<g id=\"edge10\" class=\"edge\">\n",
       "<title>8&#45;&gt;10</title>\n",
       "<path fill=\"none\" stroke=\"#000000\" d=\"M198.1315,-101.9748C202.0192,-94.8936 207.9726,-84.05 212.9609,-74.9641\"/>\n",
       "<polygon fill=\"#000000\" stroke=\"#000000\" points=\"216.1069,-76.5063 217.8516,-66.0561 209.9709,-73.1375 216.1069,-76.5063\"/>\n",
       "</g>\n",
       "<!-- 11 -->\n",
       "<g id=\"node12\" class=\"node\">\n",
       "<title>11</title>\n",
       "<text text-anchor=\"middle\" x=\"267\" y=\"-54.8\" font-family=\"Times,serif\" font-size=\"14.00\" fill=\"#000000\">&lt;term&gt;</text>\n",
       "</g>\n",
       "<!-- 8&#45;&gt;11 -->\n",
       "<g id=\"edge11\" class=\"edge\">\n",
       "<title>8&#45;&gt;11</title>\n",
       "<path fill=\"none\" stroke=\"#000000\" d=\"M204.7714,-101.9748C216.0932,-94.065 234.1349,-81.4606 247.8834,-71.8554\"/>\n",
       "<polygon fill=\"#000000\" stroke=\"#000000\" points=\"249.9913,-74.6524 256.1844,-66.0561 245.9823,-68.9141 249.9913,-74.6524\"/>\n",
       "</g>\n",
       "<!-- 12 -->\n",
       "<g id=\"node13\" class=\"node\">\n",
       "<title>12</title>\n",
       "<text text-anchor=\"middle\" x=\"267\" y=\"-3.8\" font-family=\"Times,serif\" font-size=\"14.00\" fill=\"#000000\">&lt;factor&gt;</text>\n",
       "</g>\n",
       "<!-- 11&#45;&gt;12 -->\n",
       "<g id=\"edge12\" class=\"edge\">\n",
       "<title>11&#45;&gt;12</title>\n",
       "<path fill=\"none\" stroke=\"#000000\" d=\"M267,-50.9748C267,-44.195 267,-33.966 267,-25.1331\"/>\n",
       "<polygon fill=\"#000000\" stroke=\"#000000\" points=\"270.5001,-25.0561 267,-15.0561 263.5001,-25.0561 270.5001,-25.0561\"/>\n",
       "</g>\n",
       "</g>\n",
       "</svg>\n"
      ],
      "text/plain": [
       "<graphviz.dot.Digraph at 0x115fb3320>"
      ]
     },
     "metadata": {},
     "output_type": "display_data"
    }
   ],
   "source": [
    "if f.any_possible_expansions(derivation_tree):\n",
    "    derivation_tree = f.expand_tree_once(derivation_tree)\n",
    "    display_tree(derivation_tree)"
   ]
  },
  {
   "cell_type": "code",
   "execution_count": 63,
   "metadata": {
    "button": false,
    "new_sheet": false,
    "run_control": {
     "read_only": false
    },
    "slideshow": {
     "slide_type": "subslide"
    }
   },
   "outputs": [
    {
     "name": "stdout",
     "output_type": "stream",
     "text": [
      "Expanding <factor> at minimum cost\n"
     ]
    },
    {
     "data": {
      "image/svg+xml": [
       "<?xml version=\"1.0\" encoding=\"UTF-8\" standalone=\"no\"?>\n",
       "<!DOCTYPE svg PUBLIC \"-//W3C//DTD SVG 1.1//EN\"\n",
       " \"http://www.w3.org/Graphics/SVG/1.1/DTD/svg11.dtd\">\n",
       "<!-- Generated by graphviz version 2.40.1 (20161225.0304)\n",
       " -->\n",
       "<!-- Title: %3 Pages: 1 -->\n",
       "<svg width=\"303pt\" height=\"278pt\"\n",
       " viewBox=\"0.00 0.00 302.50 278.00\" xmlns=\"http://www.w3.org/2000/svg\" xmlns:xlink=\"http://www.w3.org/1999/xlink\">\n",
       "<g id=\"graph0\" class=\"graph\" transform=\"scale(1 1) rotate(0) translate(4 274)\">\n",
       "<title>%3</title>\n",
       "<polygon fill=\"#ffffff\" stroke=\"transparent\" points=\"-4,4 -4,-274 298.5,-274 298.5,4 -4,4\"/>\n",
       "<!-- 0 -->\n",
       "<g id=\"node1\" class=\"node\">\n",
       "<title>0</title>\n",
       "<text text-anchor=\"middle\" x=\"143\" y=\"-258.8\" font-family=\"Times,serif\" font-size=\"14.00\" fill=\"#000000\">&lt;start&gt;</text>\n",
       "</g>\n",
       "<!-- 1 -->\n",
       "<g id=\"node2\" class=\"node\">\n",
       "<title>1</title>\n",
       "<text text-anchor=\"middle\" x=\"143\" y=\"-207.8\" font-family=\"Times,serif\" font-size=\"14.00\" fill=\"#000000\">&lt;expr&gt;</text>\n",
       "</g>\n",
       "<!-- 0&#45;&gt;1 -->\n",
       "<g id=\"edge1\" class=\"edge\">\n",
       "<title>0&#45;&gt;1</title>\n",
       "<path fill=\"none\" stroke=\"#000000\" d=\"M143,-254.9748C143,-248.195 143,-237.966 143,-229.1331\"/>\n",
       "<polygon fill=\"#000000\" stroke=\"#000000\" points=\"146.5001,-229.0561 143,-219.0561 139.5001,-229.0561 146.5001,-229.0561\"/>\n",
       "</g>\n",
       "<!-- 2 -->\n",
       "<g id=\"node3\" class=\"node\">\n",
       "<title>2</title>\n",
       "<text text-anchor=\"middle\" x=\"90\" y=\"-156.8\" font-family=\"Times,serif\" font-size=\"14.00\" fill=\"#000000\">&lt;expr&gt;</text>\n",
       "</g>\n",
       "<!-- 1&#45;&gt;2 -->\n",
       "<g id=\"edge2\" class=\"edge\">\n",
       "<title>1&#45;&gt;2</title>\n",
       "<path fill=\"none\" stroke=\"#000000\" d=\"M135.1797,-203.9748C127.3511,-196.4417 115.0974,-184.6503 105.3255,-175.2472\"/>\n",
       "<polygon fill=\"#000000\" stroke=\"#000000\" points=\"107.485,-172.4679 97.8524,-168.0561 102.6313,-177.5119 107.485,-172.4679\"/>\n",
       "</g>\n",
       "<!-- 7 -->\n",
       "<g id=\"node8\" class=\"node\">\n",
       "<title>7</title>\n",
       "<text text-anchor=\"middle\" x=\"143\" y=\"-156.8\" font-family=\"Times,serif\" font-size=\"14.00\" fill=\"#000000\"> + </text>\n",
       "</g>\n",
       "<!-- 1&#45;&gt;7 -->\n",
       "<g id=\"edge7\" class=\"edge\">\n",
       "<title>1&#45;&gt;7</title>\n",
       "<path fill=\"none\" stroke=\"#000000\" d=\"M143,-203.9748C143,-197.195 143,-186.966 143,-178.1331\"/>\n",
       "<polygon fill=\"#000000\" stroke=\"#000000\" points=\"146.5001,-178.0561 143,-168.0561 139.5001,-178.0561 146.5001,-178.0561\"/>\n",
       "</g>\n",
       "<!-- 8 -->\n",
       "<g id=\"node9\" class=\"node\">\n",
       "<title>8</title>\n",
       "<text text-anchor=\"middle\" x=\"194\" y=\"-156.8\" font-family=\"Times,serif\" font-size=\"14.00\" fill=\"#000000\">&lt;term&gt;</text>\n",
       "</g>\n",
       "<!-- 1&#45;&gt;8 -->\n",
       "<g id=\"edge8\" class=\"edge\">\n",
       "<title>1&#45;&gt;8</title>\n",
       "<path fill=\"none\" stroke=\"#000000\" d=\"M150.5252,-203.9748C158.0583,-196.4417 169.8497,-184.6503 179.2528,-175.2472\"/>\n",
       "<polygon fill=\"#000000\" stroke=\"#000000\" points=\"181.8477,-177.6021 186.4439,-168.0561 176.8979,-172.6523 181.8477,-177.6021\"/>\n",
       "</g>\n",
       "<!-- 3 -->\n",
       "<g id=\"node4\" class=\"node\">\n",
       "<title>3</title>\n",
       "<text text-anchor=\"middle\" x=\"21\" y=\"-105.8\" font-family=\"Times,serif\" font-size=\"14.00\" fill=\"#000000\">&lt;term&gt;</text>\n",
       "</g>\n",
       "<!-- 2&#45;&gt;3 -->\n",
       "<g id=\"edge3\" class=\"edge\">\n",
       "<title>2&#45;&gt;3</title>\n",
       "<path fill=\"none\" stroke=\"#000000\" d=\"M79.8188,-152.9748C69.2193,-145.1403 52.3885,-132.7002 39.4415,-123.1307\"/>\n",
       "<polygon fill=\"#000000\" stroke=\"#000000\" points=\"41.3451,-120.1854 31.223,-117.0561 37.1844,-125.8147 41.3451,-120.1854\"/>\n",
       "</g>\n",
       "<!-- 4 -->\n",
       "<g id=\"node5\" class=\"node\">\n",
       "<title>4</title>\n",
       "<text text-anchor=\"middle\" x=\"66\" y=\"-105.8\" font-family=\"Times,serif\" font-size=\"14.00\" fill=\"#000000\"> &#45; </text>\n",
       "</g>\n",
       "<!-- 2&#45;&gt;4 -->\n",
       "<g id=\"edge4\" class=\"edge\">\n",
       "<title>2&#45;&gt;4</title>\n",
       "<path fill=\"none\" stroke=\"#000000\" d=\"M86.4587,-152.9748C83.1619,-145.969 78.1319,-135.2803 73.8845,-126.2547\"/>\n",
       "<polygon fill=\"#000000\" stroke=\"#000000\" points=\"76.9807,-124.614 69.5558,-117.0561 70.647,-127.5946 76.9807,-124.614\"/>\n",
       "</g>\n",
       "<!-- 5 -->\n",
       "<g id=\"node6\" class=\"node\">\n",
       "<title>5</title>\n",
       "<text text-anchor=\"middle\" x=\"111\" y=\"-105.8\" font-family=\"Times,serif\" font-size=\"14.00\" fill=\"#000000\">&lt;expr&gt;</text>\n",
       "</g>\n",
       "<!-- 2&#45;&gt;5 -->\n",
       "<g id=\"edge5\" class=\"edge\">\n",
       "<title>2&#45;&gt;5</title>\n",
       "<path fill=\"none\" stroke=\"#000000\" d=\"M93.0986,-152.9748C95.9523,-146.0443 100.2901,-135.5097 103.9809,-126.5464\"/>\n",
       "<polygon fill=\"#000000\" stroke=\"#000000\" points=\"107.3175,-127.6355 107.8887,-117.0561 100.8447,-124.9702 107.3175,-127.6355\"/>\n",
       "</g>\n",
       "<!-- 6 -->\n",
       "<g id=\"node7\" class=\"node\">\n",
       "<title>6</title>\n",
       "<text text-anchor=\"middle\" x=\"111\" y=\"-54.8\" font-family=\"Times,serif\" font-size=\"14.00\" fill=\"#000000\">&lt;term&gt;</text>\n",
       "</g>\n",
       "<!-- 5&#45;&gt;6 -->\n",
       "<g id=\"edge6\" class=\"edge\">\n",
       "<title>5&#45;&gt;6</title>\n",
       "<path fill=\"none\" stroke=\"#000000\" d=\"M111,-101.9748C111,-95.195 111,-84.966 111,-76.1331\"/>\n",
       "<polygon fill=\"#000000\" stroke=\"#000000\" points=\"114.5001,-76.0561 111,-66.0561 107.5001,-76.0561 114.5001,-76.0561\"/>\n",
       "</g>\n",
       "<!-- 9 -->\n",
       "<g id=\"node10\" class=\"node\">\n",
       "<title>9</title>\n",
       "<text text-anchor=\"middle\" x=\"174\" y=\"-105.8\" font-family=\"Times,serif\" font-size=\"14.00\" fill=\"#000000\">&lt;factor&gt;</text>\n",
       "</g>\n",
       "<!-- 8&#45;&gt;9 -->\n",
       "<g id=\"edge9\" class=\"edge\">\n",
       "<title>8&#45;&gt;9</title>\n",
       "<path fill=\"none\" stroke=\"#000000\" d=\"M191.0489,-152.9748C188.3311,-146.0443 184.1999,-135.5097 180.6849,-126.5464\"/>\n",
       "<polygon fill=\"#000000\" stroke=\"#000000\" points=\"183.8725,-125.088 176.9632,-117.0561 177.3557,-127.6437 183.8725,-125.088\"/>\n",
       "</g>\n",
       "<!-- 10 -->\n",
       "<g id=\"node11\" class=\"node\">\n",
       "<title>10</title>\n",
       "<text text-anchor=\"middle\" x=\"222\" y=\"-105.8\" font-family=\"Times,serif\" font-size=\"14.00\" fill=\"#000000\"> / </text>\n",
       "</g>\n",
       "<!-- 8&#45;&gt;10 -->\n",
       "<g id=\"edge10\" class=\"edge\">\n",
       "<title>8&#45;&gt;10</title>\n",
       "<path fill=\"none\" stroke=\"#000000\" d=\"M198.1315,-152.9748C202.0192,-145.8936 207.9726,-135.05 212.9609,-125.9641\"/>\n",
       "<polygon fill=\"#000000\" stroke=\"#000000\" points=\"216.1069,-127.5063 217.8516,-117.0561 209.9709,-124.1375 216.1069,-127.5063\"/>\n",
       "</g>\n",
       "<!-- 11 -->\n",
       "<g id=\"node12\" class=\"node\">\n",
       "<title>11</title>\n",
       "<text text-anchor=\"middle\" x=\"267\" y=\"-105.8\" font-family=\"Times,serif\" font-size=\"14.00\" fill=\"#000000\">&lt;term&gt;</text>\n",
       "</g>\n",
       "<!-- 8&#45;&gt;11 -->\n",
       "<g id=\"edge11\" class=\"edge\">\n",
       "<title>8&#45;&gt;11</title>\n",
       "<path fill=\"none\" stroke=\"#000000\" d=\"M204.7714,-152.9748C216.0932,-145.065 234.1349,-132.4606 247.8834,-122.8554\"/>\n",
       "<polygon fill=\"#000000\" stroke=\"#000000\" points=\"249.9913,-125.6524 256.1844,-117.0561 245.9823,-119.9141 249.9913,-125.6524\"/>\n",
       "</g>\n",
       "<!-- 12 -->\n",
       "<g id=\"node13\" class=\"node\">\n",
       "<title>12</title>\n",
       "<text text-anchor=\"middle\" x=\"267\" y=\"-54.8\" font-family=\"Times,serif\" font-size=\"14.00\" fill=\"#000000\">&lt;factor&gt;</text>\n",
       "</g>\n",
       "<!-- 11&#45;&gt;12 -->\n",
       "<g id=\"edge12\" class=\"edge\">\n",
       "<title>11&#45;&gt;12</title>\n",
       "<path fill=\"none\" stroke=\"#000000\" d=\"M267,-101.9748C267,-95.195 267,-84.966 267,-76.1331\"/>\n",
       "<polygon fill=\"#000000\" stroke=\"#000000\" points=\"270.5001,-76.0561 267,-66.0561 263.5001,-76.0561 270.5001,-76.0561\"/>\n",
       "</g>\n",
       "<!-- 13 -->\n",
       "<g id=\"node14\" class=\"node\">\n",
       "<title>13</title>\n",
       "<text text-anchor=\"middle\" x=\"267\" y=\"-3.8\" font-family=\"Times,serif\" font-size=\"14.00\" fill=\"#000000\">&lt;integer&gt;</text>\n",
       "</g>\n",
       "<!-- 12&#45;&gt;13 -->\n",
       "<g id=\"edge13\" class=\"edge\">\n",
       "<title>12&#45;&gt;13</title>\n",
       "<path fill=\"none\" stroke=\"#000000\" d=\"M267,-50.9748C267,-44.195 267,-33.966 267,-25.1331\"/>\n",
       "<polygon fill=\"#000000\" stroke=\"#000000\" points=\"270.5001,-25.0561 267,-15.0561 263.5001,-25.0561 270.5001,-25.0561\"/>\n",
       "</g>\n",
       "</g>\n",
       "</svg>\n"
      ],
      "text/plain": [
       "<graphviz.dot.Digraph at 0x115fb3710>"
      ]
     },
     "metadata": {},
     "output_type": "display_data"
    }
   ],
   "source": [
    "if f.any_possible_expansions(derivation_tree):\n",
    "    derivation_tree = f.expand_tree_once(derivation_tree)\n",
    "    display_tree(derivation_tree)"
   ]
  },
  {
   "cell_type": "markdown",
   "metadata": {
    "slideshow": {
     "slide_type": "subslide"
    }
   },
   "source": [
    "We keep on expanding until all nonterminals are expanded."
   ]
  },
  {
   "cell_type": "code",
   "execution_count": 64,
   "metadata": {
    "button": false,
    "new_sheet": false,
    "run_control": {
     "read_only": false
    },
    "slideshow": {
     "slide_type": "fragment"
    }
   },
   "outputs": [
    {
     "name": "stdout",
     "output_type": "stream",
     "text": [
      "Expanding <integer> at minimum cost\n",
      "Expanding <digit> at minimum cost\n",
      "Expanding <term> at minimum cost\n",
      "Expanding <factor> at minimum cost\n",
      "Expanding <integer> at minimum cost\n",
      "Expanding <factor> at minimum cost\n",
      "Expanding <term> at minimum cost\n",
      "Expanding <factor> at minimum cost\n",
      "Expanding <integer> at minimum cost\n",
      "Expanding <digit> at minimum cost\n",
      "Expanding <integer> at minimum cost\n",
      "Expanding <digit> at minimum cost\n",
      "Expanding <digit> at minimum cost\n"
     ]
    }
   ],
   "source": [
    "while f.any_possible_expansions(derivation_tree):\n",
    "    derivation_tree = f.expand_tree_once(derivation_tree)    "
   ]
  },
  {
   "cell_type": "markdown",
   "metadata": {
    "slideshow": {
     "slide_type": "subslide"
    }
   },
   "source": [
    "Here is the final tree:"
   ]
  },
  {
   "cell_type": "code",
   "execution_count": 65,
   "metadata": {
    "button": false,
    "new_sheet": false,
    "run_control": {
     "read_only": false
    },
    "slideshow": {
     "slide_type": "fragment"
    }
   },
   "outputs": [
    {
     "data": {
      "image/svg+xml": [
       "<?xml version=\"1.0\" encoding=\"UTF-8\" standalone=\"no\"?>\n",
       "<!DOCTYPE svg PUBLIC \"-//W3C//DTD SVG 1.1//EN\"\n",
       " \"http://www.w3.org/Graphics/SVG/1.1/DTD/svg11.dtd\">\n",
       "<!-- Generated by graphviz version 2.40.1 (20161225.0304)\n",
       " -->\n",
       "<!-- Title: %3 Pages: 1 -->\n",
       "<svg width=\"311pt\" height=\"431pt\"\n",
       " viewBox=\"0.00 0.00 311.00 431.00\" xmlns=\"http://www.w3.org/2000/svg\" xmlns:xlink=\"http://www.w3.org/1999/xlink\">\n",
       "<g id=\"graph0\" class=\"graph\" transform=\"scale(1 1) rotate(0) translate(4 427)\">\n",
       "<title>%3</title>\n",
       "<polygon fill=\"#ffffff\" stroke=\"transparent\" points=\"-4,4 -4,-427 307,-427 307,4 -4,4\"/>\n",
       "<!-- 0 -->\n",
       "<g id=\"node1\" class=\"node\">\n",
       "<title>0</title>\n",
       "<text text-anchor=\"middle\" x=\"150.5\" y=\"-411.8\" font-family=\"Times,serif\" font-size=\"14.00\" fill=\"#000000\">&lt;start&gt;</text>\n",
       "</g>\n",
       "<!-- 1 -->\n",
       "<g id=\"node2\" class=\"node\">\n",
       "<title>1</title>\n",
       "<text text-anchor=\"middle\" x=\"150.5\" y=\"-360.8\" font-family=\"Times,serif\" font-size=\"14.00\" fill=\"#000000\">&lt;expr&gt;</text>\n",
       "</g>\n",
       "<!-- 0&#45;&gt;1 -->\n",
       "<g id=\"edge1\" class=\"edge\">\n",
       "<title>0&#45;&gt;1</title>\n",
       "<path fill=\"none\" stroke=\"#000000\" d=\"M150.5,-407.9748C150.5,-401.195 150.5,-390.966 150.5,-382.1331\"/>\n",
       "<polygon fill=\"#000000\" stroke=\"#000000\" points=\"154.0001,-382.0561 150.5,-372.0561 147.0001,-382.0561 154.0001,-382.0561\"/>\n",
       "</g>\n",
       "<!-- 2 -->\n",
       "<g id=\"node3\" class=\"node\">\n",
       "<title>2</title>\n",
       "<text text-anchor=\"middle\" x=\"97.5\" y=\"-309.8\" font-family=\"Times,serif\" font-size=\"14.00\" fill=\"#000000\">&lt;expr&gt;</text>\n",
       "</g>\n",
       "<!-- 1&#45;&gt;2 -->\n",
       "<g id=\"edge2\" class=\"edge\">\n",
       "<title>1&#45;&gt;2</title>\n",
       "<path fill=\"none\" stroke=\"#000000\" d=\"M142.6797,-356.9748C134.8511,-349.4417 122.5974,-337.6503 112.8255,-328.2472\"/>\n",
       "<polygon fill=\"#000000\" stroke=\"#000000\" points=\"114.985,-325.4679 105.3524,-321.0561 110.1313,-330.5119 114.985,-325.4679\"/>\n",
       "</g>\n",
       "<!-- 15 -->\n",
       "<g id=\"node16\" class=\"node\">\n",
       "<title>15</title>\n",
       "<text text-anchor=\"middle\" x=\"150.5\" y=\"-309.8\" font-family=\"Times,serif\" font-size=\"14.00\" fill=\"#000000\"> + </text>\n",
       "</g>\n",
       "<!-- 1&#45;&gt;15 -->\n",
       "<g id=\"edge15\" class=\"edge\">\n",
       "<title>1&#45;&gt;15</title>\n",
       "<path fill=\"none\" stroke=\"#000000\" d=\"M150.5,-356.9748C150.5,-350.195 150.5,-339.966 150.5,-331.1331\"/>\n",
       "<polygon fill=\"#000000\" stroke=\"#000000\" points=\"154.0001,-331.0561 150.5,-321.0561 147.0001,-331.0561 154.0001,-331.0561\"/>\n",
       "</g>\n",
       "<!-- 16 -->\n",
       "<g id=\"node17\" class=\"node\">\n",
       "<title>16</title>\n",
       "<text text-anchor=\"middle\" x=\"201.5\" y=\"-309.8\" font-family=\"Times,serif\" font-size=\"14.00\" fill=\"#000000\">&lt;term&gt;</text>\n",
       "</g>\n",
       "<!-- 1&#45;&gt;16 -->\n",
       "<g id=\"edge16\" class=\"edge\">\n",
       "<title>1&#45;&gt;16</title>\n",
       "<path fill=\"none\" stroke=\"#000000\" d=\"M158.0252,-356.9748C165.5583,-349.4417 177.3497,-337.6503 186.7528,-328.2472\"/>\n",
       "<polygon fill=\"#000000\" stroke=\"#000000\" points=\"189.3477,-330.6021 193.9439,-321.0561 184.3979,-325.6523 189.3477,-330.6021\"/>\n",
       "</g>\n",
       "<!-- 3 -->\n",
       "<g id=\"node4\" class=\"node\">\n",
       "<title>3</title>\n",
       "<text text-anchor=\"middle\" x=\"27.5\" y=\"-258.8\" font-family=\"Times,serif\" font-size=\"14.00\" fill=\"#000000\">&lt;term&gt;</text>\n",
       "</g>\n",
       "<!-- 2&#45;&gt;3 -->\n",
       "<g id=\"edge3\" class=\"edge\">\n",
       "<title>2&#45;&gt;3</title>\n",
       "<path fill=\"none\" stroke=\"#000000\" d=\"M87.1713,-305.9748C76.4181,-298.1403 59.3434,-285.7002 46.2088,-276.1307\"/>\n",
       "<polygon fill=\"#000000\" stroke=\"#000000\" points=\"48.0145,-273.1159 37.8711,-270.0561 43.8925,-278.7736 48.0145,-273.1159\"/>\n",
       "</g>\n",
       "<!-- 8 -->\n",
       "<g id=\"node9\" class=\"node\">\n",
       "<title>8</title>\n",
       "<text text-anchor=\"middle\" x=\"72.5\" y=\"-258.8\" font-family=\"Times,serif\" font-size=\"14.00\" fill=\"#000000\"> &#45; </text>\n",
       "</g>\n",
       "<!-- 2&#45;&gt;8 -->\n",
       "<g id=\"edge8\" class=\"edge\">\n",
       "<title>2&#45;&gt;8</title>\n",
       "<path fill=\"none\" stroke=\"#000000\" d=\"M93.8112,-305.9748C90.3769,-298.969 85.1374,-288.2803 80.7131,-279.2547\"/>\n",
       "<polygon fill=\"#000000\" stroke=\"#000000\" points=\"83.7483,-277.4947 76.204,-270.0561 77.4629,-280.5759 83.7483,-277.4947\"/>\n",
       "</g>\n",
       "<!-- 9 -->\n",
       "<g id=\"node10\" class=\"node\">\n",
       "<title>9</title>\n",
       "<text text-anchor=\"middle\" x=\"117.5\" y=\"-258.8\" font-family=\"Times,serif\" font-size=\"14.00\" fill=\"#000000\">&lt;expr&gt;</text>\n",
       "</g>\n",
       "<!-- 2&#45;&gt;9 -->\n",
       "<g id=\"edge9\" class=\"edge\">\n",
       "<title>2&#45;&gt;9</title>\n",
       "<path fill=\"none\" stroke=\"#000000\" d=\"M100.4511,-305.9748C103.1689,-299.0443 107.3001,-288.5097 110.8151,-279.5464\"/>\n",
       "<polygon fill=\"#000000\" stroke=\"#000000\" points=\"114.1443,-280.6437 114.5368,-270.0561 107.6275,-278.088 114.1443,-280.6437\"/>\n",
       "</g>\n",
       "<!-- 4 -->\n",
       "<g id=\"node5\" class=\"node\">\n",
       "<title>4</title>\n",
       "<text text-anchor=\"middle\" x=\"27.5\" y=\"-207.8\" font-family=\"Times,serif\" font-size=\"14.00\" fill=\"#000000\">&lt;factor&gt;</text>\n",
       "</g>\n",
       "<!-- 3&#45;&gt;4 -->\n",
       "<g id=\"edge4\" class=\"edge\">\n",
       "<title>3&#45;&gt;4</title>\n",
       "<path fill=\"none\" stroke=\"#000000\" d=\"M27.5,-254.9748C27.5,-248.195 27.5,-237.966 27.5,-229.1331\"/>\n",
       "<polygon fill=\"#000000\" stroke=\"#000000\" points=\"31.0001,-229.0561 27.5,-219.0561 24.0001,-229.0561 31.0001,-229.0561\"/>\n",
       "</g>\n",
       "<!-- 5 -->\n",
       "<g id=\"node6\" class=\"node\">\n",
       "<title>5</title>\n",
       "<text text-anchor=\"middle\" x=\"27.5\" y=\"-156.8\" font-family=\"Times,serif\" font-size=\"14.00\" fill=\"#000000\">&lt;integer&gt;</text>\n",
       "</g>\n",
       "<!-- 4&#45;&gt;5 -->\n",
       "<g id=\"edge5\" class=\"edge\">\n",
       "<title>4&#45;&gt;5</title>\n",
       "<path fill=\"none\" stroke=\"#000000\" d=\"M27.5,-203.9748C27.5,-197.195 27.5,-186.966 27.5,-178.1331\"/>\n",
       "<polygon fill=\"#000000\" stroke=\"#000000\" points=\"31.0001,-178.0561 27.5,-168.0561 24.0001,-178.0561 31.0001,-178.0561\"/>\n",
       "</g>\n",
       "<!-- 6 -->\n",
       "<g id=\"node7\" class=\"node\">\n",
       "<title>6</title>\n",
       "<text text-anchor=\"middle\" x=\"27.5\" y=\"-105.8\" font-family=\"Times,serif\" font-size=\"14.00\" fill=\"#000000\">&lt;digit&gt;</text>\n",
       "</g>\n",
       "<!-- 5&#45;&gt;6 -->\n",
       "<g id=\"edge6\" class=\"edge\">\n",
       "<title>5&#45;&gt;6</title>\n",
       "<path fill=\"none\" stroke=\"#000000\" d=\"M27.5,-152.9748C27.5,-146.195 27.5,-135.966 27.5,-127.1331\"/>\n",
       "<polygon fill=\"#000000\" stroke=\"#000000\" points=\"31.0001,-127.0561 27.5,-117.0561 24.0001,-127.0561 31.0001,-127.0561\"/>\n",
       "</g>\n",
       "<!-- 7 -->\n",
       "<g id=\"node8\" class=\"node\">\n",
       "<title>7</title>\n",
       "<text text-anchor=\"middle\" x=\"27.5\" y=\"-54.8\" font-family=\"Times,serif\" font-size=\"14.00\" fill=\"#000000\">3</text>\n",
       "</g>\n",
       "<!-- 6&#45;&gt;7 -->\n",
       "<g id=\"edge7\" class=\"edge\">\n",
       "<title>6&#45;&gt;7</title>\n",
       "<path fill=\"none\" stroke=\"#000000\" d=\"M27.5,-101.9748C27.5,-95.195 27.5,-84.966 27.5,-76.1331\"/>\n",
       "<polygon fill=\"#000000\" stroke=\"#000000\" points=\"31.0001,-76.0561 27.5,-66.0561 24.0001,-76.0561 31.0001,-76.0561\"/>\n",
       "</g>\n",
       "<!-- 10 -->\n",
       "<g id=\"node11\" class=\"node\">\n",
       "<title>10</title>\n",
       "<text text-anchor=\"middle\" x=\"116.5\" y=\"-207.8\" font-family=\"Times,serif\" font-size=\"14.00\" fill=\"#000000\">&lt;term&gt;</text>\n",
       "</g>\n",
       "<!-- 9&#45;&gt;10 -->\n",
       "<g id=\"edge10\" class=\"edge\">\n",
       "<title>9&#45;&gt;10</title>\n",
       "<path fill=\"none\" stroke=\"#000000\" d=\"M117.3524,-254.9748C117.2195,-248.195 117.0189,-237.966 116.8457,-229.1331\"/>\n",
       "<polygon fill=\"#000000\" stroke=\"#000000\" points=\"120.3436,-228.9855 116.6482,-219.0561 113.345,-229.1228 120.3436,-228.9855\"/>\n",
       "</g>\n",
       "<!-- 11 -->\n",
       "<g id=\"node12\" class=\"node\">\n",
       "<title>11</title>\n",
       "<text text-anchor=\"middle\" x=\"116.5\" y=\"-156.8\" font-family=\"Times,serif\" font-size=\"14.00\" fill=\"#000000\">&lt;factor&gt;</text>\n",
       "</g>\n",
       "<!-- 10&#45;&gt;11 -->\n",
       "<g id=\"edge11\" class=\"edge\">\n",
       "<title>10&#45;&gt;11</title>\n",
       "<path fill=\"none\" stroke=\"#000000\" d=\"M116.5,-203.9748C116.5,-197.195 116.5,-186.966 116.5,-178.1331\"/>\n",
       "<polygon fill=\"#000000\" stroke=\"#000000\" points=\"120.0001,-178.0561 116.5,-168.0561 113.0001,-178.0561 120.0001,-178.0561\"/>\n",
       "</g>\n",
       "<!-- 12 -->\n",
       "<g id=\"node13\" class=\"node\">\n",
       "<title>12</title>\n",
       "<text text-anchor=\"middle\" x=\"116.5\" y=\"-105.8\" font-family=\"Times,serif\" font-size=\"14.00\" fill=\"#000000\">&lt;integer&gt;</text>\n",
       "</g>\n",
       "<!-- 11&#45;&gt;12 -->\n",
       "<g id=\"edge12\" class=\"edge\">\n",
       "<title>11&#45;&gt;12</title>\n",
       "<path fill=\"none\" stroke=\"#000000\" d=\"M116.5,-152.9748C116.5,-146.195 116.5,-135.966 116.5,-127.1331\"/>\n",
       "<polygon fill=\"#000000\" stroke=\"#000000\" points=\"120.0001,-127.0561 116.5,-117.0561 113.0001,-127.0561 120.0001,-127.0561\"/>\n",
       "</g>\n",
       "<!-- 13 -->\n",
       "<g id=\"node14\" class=\"node\">\n",
       "<title>13</title>\n",
       "<text text-anchor=\"middle\" x=\"116.5\" y=\"-54.8\" font-family=\"Times,serif\" font-size=\"14.00\" fill=\"#000000\">&lt;digit&gt;</text>\n",
       "</g>\n",
       "<!-- 12&#45;&gt;13 -->\n",
       "<g id=\"edge13\" class=\"edge\">\n",
       "<title>12&#45;&gt;13</title>\n",
       "<path fill=\"none\" stroke=\"#000000\" d=\"M116.5,-101.9748C116.5,-95.195 116.5,-84.966 116.5,-76.1331\"/>\n",
       "<polygon fill=\"#000000\" stroke=\"#000000\" points=\"120.0001,-76.0561 116.5,-66.0561 113.0001,-76.0561 120.0001,-76.0561\"/>\n",
       "</g>\n",
       "<!-- 14 -->\n",
       "<g id=\"node15\" class=\"node\">\n",
       "<title>14</title>\n",
       "<text text-anchor=\"middle\" x=\"116.5\" y=\"-3.8\" font-family=\"Times,serif\" font-size=\"14.00\" fill=\"#000000\">4</text>\n",
       "</g>\n",
       "<!-- 13&#45;&gt;14 -->\n",
       "<g id=\"edge14\" class=\"edge\">\n",
       "<title>13&#45;&gt;14</title>\n",
       "<path fill=\"none\" stroke=\"#000000\" d=\"M116.5,-50.9748C116.5,-44.195 116.5,-33.966 116.5,-25.1331\"/>\n",
       "<polygon fill=\"#000000\" stroke=\"#000000\" points=\"120.0001,-25.0561 116.5,-15.0561 113.0001,-25.0561 120.0001,-25.0561\"/>\n",
       "</g>\n",
       "<!-- 17 -->\n",
       "<g id=\"node18\" class=\"node\">\n",
       "<title>17</title>\n",
       "<text text-anchor=\"middle\" x=\"182.5\" y=\"-258.8\" font-family=\"Times,serif\" font-size=\"14.00\" fill=\"#000000\">&lt;factor&gt;</text>\n",
       "</g>\n",
       "<!-- 16&#45;&gt;17 -->\n",
       "<g id=\"edge17\" class=\"edge\">\n",
       "<title>16&#45;&gt;17</title>\n",
       "<path fill=\"none\" stroke=\"#000000\" d=\"M198.6965,-305.9748C196.1145,-299.0443 192.1899,-288.5097 188.8506,-279.5464\"/>\n",
       "<polygon fill=\"#000000\" stroke=\"#000000\" points=\"192.086,-278.205 185.315,-270.0561 185.5264,-280.6488 192.086,-278.205\"/>\n",
       "</g>\n",
       "<!-- 21 -->\n",
       "<g id=\"node22\" class=\"node\">\n",
       "<title>21</title>\n",
       "<text text-anchor=\"middle\" x=\"230.5\" y=\"-258.8\" font-family=\"Times,serif\" font-size=\"14.00\" fill=\"#000000\"> / </text>\n",
       "</g>\n",
       "<!-- 16&#45;&gt;21 -->\n",
       "<g id=\"edge21\" class=\"edge\">\n",
       "<title>16&#45;&gt;21</title>\n",
       "<path fill=\"none\" stroke=\"#000000\" d=\"M205.779,-305.9748C209.8056,-298.8936 215.9716,-288.05 221.1381,-278.9641\"/>\n",
       "<polygon fill=\"#000000\" stroke=\"#000000\" points=\"224.3028,-280.4791 226.2034,-270.0561 218.2178,-277.0189 224.3028,-280.4791\"/>\n",
       "</g>\n",
       "<!-- 22 -->\n",
       "<g id=\"node23\" class=\"node\">\n",
       "<title>22</title>\n",
       "<text text-anchor=\"middle\" x=\"275.5\" y=\"-258.8\" font-family=\"Times,serif\" font-size=\"14.00\" fill=\"#000000\">&lt;term&gt;</text>\n",
       "</g>\n",
       "<!-- 16&#45;&gt;22 -->\n",
       "<g id=\"edge22\" class=\"edge\">\n",
       "<title>16&#45;&gt;22</title>\n",
       "<path fill=\"none\" stroke=\"#000000\" d=\"M212.419,-305.9748C223.8959,-298.065 242.1847,-285.4606 256.1215,-275.8554\"/>\n",
       "<polygon fill=\"#000000\" stroke=\"#000000\" points=\"258.2885,-278.6127 264.5362,-270.0561 254.3161,-272.849 258.2885,-278.6127\"/>\n",
       "</g>\n",
       "<!-- 18 -->\n",
       "<g id=\"node19\" class=\"node\">\n",
       "<title>18</title>\n",
       "<text text-anchor=\"middle\" x=\"183.5\" y=\"-207.8\" font-family=\"Times,serif\" font-size=\"14.00\" fill=\"#000000\">&lt;integer&gt;</text>\n",
       "</g>\n",
       "<!-- 17&#45;&gt;18 -->\n",
       "<g id=\"edge18\" class=\"edge\">\n",
       "<title>17&#45;&gt;18</title>\n",
       "<path fill=\"none\" stroke=\"#000000\" d=\"M182.6476,-254.9748C182.7805,-248.195 182.9811,-237.966 183.1543,-229.1331\"/>\n",
       "<polygon fill=\"#000000\" stroke=\"#000000\" points=\"186.655,-229.1228 183.3518,-219.0561 179.6564,-228.9855 186.655,-229.1228\"/>\n",
       "</g>\n",
       "<!-- 19 -->\n",
       "<g id=\"node20\" class=\"node\">\n",
       "<title>19</title>\n",
       "<text text-anchor=\"middle\" x=\"183.5\" y=\"-156.8\" font-family=\"Times,serif\" font-size=\"14.00\" fill=\"#000000\">&lt;digit&gt;</text>\n",
       "</g>\n",
       "<!-- 18&#45;&gt;19 -->\n",
       "<g id=\"edge19\" class=\"edge\">\n",
       "<title>18&#45;&gt;19</title>\n",
       "<path fill=\"none\" stroke=\"#000000\" d=\"M183.5,-203.9748C183.5,-197.195 183.5,-186.966 183.5,-178.1331\"/>\n",
       "<polygon fill=\"#000000\" stroke=\"#000000\" points=\"187.0001,-178.0561 183.5,-168.0561 180.0001,-178.0561 187.0001,-178.0561\"/>\n",
       "</g>\n",
       "<!-- 20 -->\n",
       "<g id=\"node21\" class=\"node\">\n",
       "<title>20</title>\n",
       "<text text-anchor=\"middle\" x=\"183.5\" y=\"-105.8\" font-family=\"Times,serif\" font-size=\"14.00\" fill=\"#000000\">2</text>\n",
       "</g>\n",
       "<!-- 19&#45;&gt;20 -->\n",
       "<g id=\"edge20\" class=\"edge\">\n",
       "<title>19&#45;&gt;20</title>\n",
       "<path fill=\"none\" stroke=\"#000000\" d=\"M183.5,-152.9748C183.5,-146.195 183.5,-135.966 183.5,-127.1331\"/>\n",
       "<polygon fill=\"#000000\" stroke=\"#000000\" points=\"187.0001,-127.0561 183.5,-117.0561 180.0001,-127.0561 187.0001,-127.0561\"/>\n",
       "</g>\n",
       "<!-- 23 -->\n",
       "<g id=\"node24\" class=\"node\">\n",
       "<title>23</title>\n",
       "<text text-anchor=\"middle\" x=\"275.5\" y=\"-207.8\" font-family=\"Times,serif\" font-size=\"14.00\" fill=\"#000000\">&lt;factor&gt;</text>\n",
       "</g>\n",
       "<!-- 22&#45;&gt;23 -->\n",
       "<g id=\"edge23\" class=\"edge\">\n",
       "<title>22&#45;&gt;23</title>\n",
       "<path fill=\"none\" stroke=\"#000000\" d=\"M275.5,-254.9748C275.5,-248.195 275.5,-237.966 275.5,-229.1331\"/>\n",
       "<polygon fill=\"#000000\" stroke=\"#000000\" points=\"279.0001,-229.0561 275.5,-219.0561 272.0001,-229.0561 279.0001,-229.0561\"/>\n",
       "</g>\n",
       "<!-- 24 -->\n",
       "<g id=\"node25\" class=\"node\">\n",
       "<title>24</title>\n",
       "<text text-anchor=\"middle\" x=\"275.5\" y=\"-156.8\" font-family=\"Times,serif\" font-size=\"14.00\" fill=\"#000000\">&lt;integer&gt;</text>\n",
       "</g>\n",
       "<!-- 23&#45;&gt;24 -->\n",
       "<g id=\"edge24\" class=\"edge\">\n",
       "<title>23&#45;&gt;24</title>\n",
       "<path fill=\"none\" stroke=\"#000000\" d=\"M275.5,-203.9748C275.5,-197.195 275.5,-186.966 275.5,-178.1331\"/>\n",
       "<polygon fill=\"#000000\" stroke=\"#000000\" points=\"279.0001,-178.0561 275.5,-168.0561 272.0001,-178.0561 279.0001,-178.0561\"/>\n",
       "</g>\n",
       "<!-- 25 -->\n",
       "<g id=\"node26\" class=\"node\">\n",
       "<title>25</title>\n",
       "<text text-anchor=\"middle\" x=\"275.5\" y=\"-105.8\" font-family=\"Times,serif\" font-size=\"14.00\" fill=\"#000000\">&lt;digit&gt;</text>\n",
       "</g>\n",
       "<!-- 24&#45;&gt;25 -->\n",
       "<g id=\"edge25\" class=\"edge\">\n",
       "<title>24&#45;&gt;25</title>\n",
       "<path fill=\"none\" stroke=\"#000000\" d=\"M275.5,-152.9748C275.5,-146.195 275.5,-135.966 275.5,-127.1331\"/>\n",
       "<polygon fill=\"#000000\" stroke=\"#000000\" points=\"279.0001,-127.0561 275.5,-117.0561 272.0001,-127.0561 279.0001,-127.0561\"/>\n",
       "</g>\n",
       "<!-- 26 -->\n",
       "<g id=\"node27\" class=\"node\">\n",
       "<title>26</title>\n",
       "<text text-anchor=\"middle\" x=\"275.5\" y=\"-54.8\" font-family=\"Times,serif\" font-size=\"14.00\" fill=\"#000000\">0</text>\n",
       "</g>\n",
       "<!-- 25&#45;&gt;26 -->\n",
       "<g id=\"edge26\" class=\"edge\">\n",
       "<title>25&#45;&gt;26</title>\n",
       "<path fill=\"none\" stroke=\"#000000\" d=\"M275.5,-101.9748C275.5,-95.195 275.5,-84.966 275.5,-76.1331\"/>\n",
       "<polygon fill=\"#000000\" stroke=\"#000000\" points=\"279.0001,-76.0561 275.5,-66.0561 272.0001,-76.0561 279.0001,-76.0561\"/>\n",
       "</g>\n",
       "</g>\n",
       "</svg>\n"
      ],
      "text/plain": [
       "<graphviz.dot.Digraph at 0x115fb3f98>"
      ]
     },
     "metadata": {},
     "output_type": "display_data"
    }
   ],
   "source": [
    "display_tree(derivation_tree)"
   ]
  },
  {
   "cell_type": "markdown",
   "metadata": {
    "button": false,
    "new_sheet": false,
    "run_control": {
     "read_only": false
    },
    "slideshow": {
     "slide_type": "subslide"
    }
   },
   "source": [
    "We see that in each step, `expand_node_min_cost()` chooses an expansion that does not increase the number of symbols, eventually closing all open expansions."
   ]
  },
  {
   "cell_type": "markdown",
   "metadata": {
    "slideshow": {
     "slide_type": "slide"
    }
   },
   "source": [
    "## Node Inflation\n",
    "\n",
    "Especially at the beginning of an expansion, we may be interested in getting _as many nodes as possible_ – that is, we'd like to prefer expansions that give us _more_ nonterminals to expand.  This is actually the exact opposite of what `expand_node_min_cost()` gives us, and we can implement a method `expand_node_max_cost()` that will always choose among the nodes with the _highest_ cost:"
   ]
  },
  {
   "cell_type": "code",
   "execution_count": 66,
   "metadata": {
    "button": false,
    "new_sheet": false,
    "run_control": {
     "read_only": false
    },
    "slideshow": {
     "slide_type": "fragment"
    }
   },
   "outputs": [],
   "source": [
    "class GrammarFuzzer(GrammarFuzzer):\n",
    "    def expand_node_max_cost(self, node):\n",
    "        if self.log:\n",
    "            print(\"Expanding\", all_terminals(node), \"at maximum cost\")\n",
    "\n",
    "        return self.expand_node_by_cost(node, max)"
   ]
  },
  {
   "cell_type": "markdown",
   "metadata": {
    "slideshow": {
     "slide_type": "subslide"
    }
   },
   "source": [
    "To illustrate `expand_node_max_cost()`, we can again redefine `expand_node()` to use it, and then use `expand_tree_once()` to show a few expansion steps:"
   ]
  },
  {
   "cell_type": "code",
   "execution_count": 67,
   "metadata": {
    "button": false,
    "new_sheet": false,
    "run_control": {
     "read_only": false
    },
    "slideshow": {
     "slide_type": "fragment"
    }
   },
   "outputs": [],
   "source": [
    "class GrammarFuzzer(GrammarFuzzer):\n",
    "    def expand_node(self, node):\n",
    "        return self.expand_node_max_cost(node)"
   ]
  },
  {
   "cell_type": "code",
   "execution_count": 68,
   "metadata": {
    "button": false,
    "new_sheet": false,
    "run_control": {
     "read_only": false
    },
    "slideshow": {
     "slide_type": "subslide"
    }
   },
   "outputs": [],
   "source": [
    "derivation_tree = (\"<start>\",\n",
    "                   [(\"<expr>\",\n",
    "                     [(\"<expr>\", None),\n",
    "                      (\" + \", []),\n",
    "                         (\"<term>\", None)]\n",
    "                     )])"
   ]
  },
  {
   "cell_type": "code",
   "execution_count": 69,
   "metadata": {
    "button": false,
    "new_sheet": false,
    "run_control": {
     "read_only": false
    },
    "slideshow": {
     "slide_type": "fragment"
    }
   },
   "outputs": [
    {
     "data": {
      "image/svg+xml": [
       "<?xml version=\"1.0\" encoding=\"UTF-8\" standalone=\"no\"?>\n",
       "<!DOCTYPE svg PUBLIC \"-//W3C//DTD SVG 1.1//EN\"\n",
       " \"http://www.w3.org/Graphics/SVG/1.1/DTD/svg11.dtd\">\n",
       "<!-- Generated by graphviz version 2.40.1 (20161225.0304)\n",
       " -->\n",
       "<!-- Title: %3 Pages: 1 -->\n",
       "<svg width=\"143pt\" height=\"125pt\"\n",
       " viewBox=\"0.00 0.00 142.50 125.00\" xmlns=\"http://www.w3.org/2000/svg\" xmlns:xlink=\"http://www.w3.org/1999/xlink\">\n",
       "<g id=\"graph0\" class=\"graph\" transform=\"scale(1 1) rotate(0) translate(4 121)\">\n",
       "<title>%3</title>\n",
       "<polygon fill=\"#ffffff\" stroke=\"transparent\" points=\"-4,4 -4,-121 138.5,-121 138.5,4 -4,4\"/>\n",
       "<!-- 0 -->\n",
       "<g id=\"node1\" class=\"node\">\n",
       "<title>0</title>\n",
       "<text text-anchor=\"middle\" x=\"66.5\" y=\"-105.8\" font-family=\"Times,serif\" font-size=\"14.00\" fill=\"#000000\">&lt;start&gt;</text>\n",
       "</g>\n",
       "<!-- 1 -->\n",
       "<g id=\"node2\" class=\"node\">\n",
       "<title>1</title>\n",
       "<text text-anchor=\"middle\" x=\"66.5\" y=\"-54.8\" font-family=\"Times,serif\" font-size=\"14.00\" fill=\"#000000\">&lt;expr&gt;</text>\n",
       "</g>\n",
       "<!-- 0&#45;&gt;1 -->\n",
       "<g id=\"edge1\" class=\"edge\">\n",
       "<title>0&#45;&gt;1</title>\n",
       "<path fill=\"none\" stroke=\"#000000\" d=\"M66.5,-101.9748C66.5,-95.195 66.5,-84.966 66.5,-76.1331\"/>\n",
       "<polygon fill=\"#000000\" stroke=\"#000000\" points=\"70.0001,-76.0561 66.5,-66.0561 63.0001,-76.0561 70.0001,-76.0561\"/>\n",
       "</g>\n",
       "<!-- 2 -->\n",
       "<g id=\"node3\" class=\"node\">\n",
       "<title>2</title>\n",
       "<text text-anchor=\"middle\" x=\"20.5\" y=\"-3.8\" font-family=\"Times,serif\" font-size=\"14.00\" fill=\"#000000\">&lt;expr&gt;</text>\n",
       "</g>\n",
       "<!-- 1&#45;&gt;2 -->\n",
       "<g id=\"edge2\" class=\"edge\">\n",
       "<title>1&#45;&gt;2</title>\n",
       "<path fill=\"none\" stroke=\"#000000\" d=\"M59.7125,-50.9748C52.9859,-43.517 42.495,-31.8857 34.0564,-22.53\"/>\n",
       "<polygon fill=\"#000000\" stroke=\"#000000\" points=\"36.612,-20.1376 27.3153,-15.0561 31.414,-24.826 36.612,-20.1376\"/>\n",
       "</g>\n",
       "<!-- 3 -->\n",
       "<g id=\"node4\" class=\"node\">\n",
       "<title>3</title>\n",
       "<text text-anchor=\"middle\" x=\"66.5\" y=\"-3.8\" font-family=\"Times,serif\" font-size=\"14.00\" fill=\"#000000\"> + </text>\n",
       "</g>\n",
       "<!-- 1&#45;&gt;3 -->\n",
       "<g id=\"edge3\" class=\"edge\">\n",
       "<title>1&#45;&gt;3</title>\n",
       "<path fill=\"none\" stroke=\"#000000\" d=\"M66.5,-50.9748C66.5,-44.195 66.5,-33.966 66.5,-25.1331\"/>\n",
       "<polygon fill=\"#000000\" stroke=\"#000000\" points=\"70.0001,-25.0561 66.5,-15.0561 63.0001,-25.0561 70.0001,-25.0561\"/>\n",
       "</g>\n",
       "<!-- 4 -->\n",
       "<g id=\"node5\" class=\"node\">\n",
       "<title>4</title>\n",
       "<text text-anchor=\"middle\" x=\"113.5\" y=\"-3.8\" font-family=\"Times,serif\" font-size=\"14.00\" fill=\"#000000\">&lt;term&gt;</text>\n",
       "</g>\n",
       "<!-- 1&#45;&gt;4 -->\n",
       "<g id=\"edge4\" class=\"edge\">\n",
       "<title>1&#45;&gt;4</title>\n",
       "<path fill=\"none\" stroke=\"#000000\" d=\"M73.435,-50.9748C80.3079,-43.517 91.0269,-31.8857 99.6488,-22.53\"/>\n",
       "<polygon fill=\"#000000\" stroke=\"#000000\" points=\"102.3334,-24.7816 106.5365,-15.0561 97.1859,-20.0378 102.3334,-24.7816\"/>\n",
       "</g>\n",
       "</g>\n",
       "</svg>\n"
      ],
      "text/plain": [
       "<graphviz.dot.Digraph at 0x115fb3d30>"
      ]
     },
     "metadata": {},
     "output_type": "display_data"
    }
   ],
   "source": [
    "f = GrammarFuzzer(EXPR_GRAMMAR, log=True)\n",
    "display_tree(derivation_tree)"
   ]
  },
  {
   "cell_type": "code",
   "execution_count": 70,
   "metadata": {
    "button": false,
    "new_sheet": false,
    "run_control": {
     "read_only": false
    },
    "slideshow": {
     "slide_type": "subslide"
    }
   },
   "outputs": [
    {
     "name": "stdout",
     "output_type": "stream",
     "text": [
      "Expanding <expr> at maximum cost\n"
     ]
    },
    {
     "data": {
      "image/svg+xml": [
       "<?xml version=\"1.0\" encoding=\"UTF-8\" standalone=\"no\"?>\n",
       "<!DOCTYPE svg PUBLIC \"-//W3C//DTD SVG 1.1//EN\"\n",
       " \"http://www.w3.org/Graphics/SVG/1.1/DTD/svg11.dtd\">\n",
       "<!-- Generated by graphviz version 2.40.1 (20161225.0304)\n",
       " -->\n",
       "<!-- Title: %3 Pages: 1 -->\n",
       "<svg width=\"188pt\" height=\"176pt\"\n",
       " viewBox=\"0.00 0.00 188.00 176.00\" xmlns=\"http://www.w3.org/2000/svg\" xmlns:xlink=\"http://www.w3.org/1999/xlink\">\n",
       "<g id=\"graph0\" class=\"graph\" transform=\"scale(1 1) rotate(0) translate(4 172)\">\n",
       "<title>%3</title>\n",
       "<polygon fill=\"#ffffff\" stroke=\"transparent\" points=\"-4,4 -4,-172 184,-172 184,4 -4,4\"/>\n",
       "<!-- 0 -->\n",
       "<g id=\"node1\" class=\"node\">\n",
       "<title>0</title>\n",
       "<text text-anchor=\"middle\" x=\"112\" y=\"-156.8\" font-family=\"Times,serif\" font-size=\"14.00\" fill=\"#000000\">&lt;start&gt;</text>\n",
       "</g>\n",
       "<!-- 1 -->\n",
       "<g id=\"node2\" class=\"node\">\n",
       "<title>1</title>\n",
       "<text text-anchor=\"middle\" x=\"112\" y=\"-105.8\" font-family=\"Times,serif\" font-size=\"14.00\" fill=\"#000000\">&lt;expr&gt;</text>\n",
       "</g>\n",
       "<!-- 0&#45;&gt;1 -->\n",
       "<g id=\"edge1\" class=\"edge\">\n",
       "<title>0&#45;&gt;1</title>\n",
       "<path fill=\"none\" stroke=\"#000000\" d=\"M112,-152.9748C112,-146.195 112,-135.966 112,-127.1331\"/>\n",
       "<polygon fill=\"#000000\" stroke=\"#000000\" points=\"115.5001,-127.0561 112,-117.0561 108.5001,-127.0561 115.5001,-127.0561\"/>\n",
       "</g>\n",
       "<!-- 2 -->\n",
       "<g id=\"node3\" class=\"node\">\n",
       "<title>2</title>\n",
       "<text text-anchor=\"middle\" x=\"66\" y=\"-54.8\" font-family=\"Times,serif\" font-size=\"14.00\" fill=\"#000000\">&lt;expr&gt;</text>\n",
       "</g>\n",
       "<!-- 1&#45;&gt;2 -->\n",
       "<g id=\"edge2\" class=\"edge\">\n",
       "<title>1&#45;&gt;2</title>\n",
       "<path fill=\"none\" stroke=\"#000000\" d=\"M105.2125,-101.9748C98.4859,-94.517 87.995,-82.8857 79.5564,-73.53\"/>\n",
       "<polygon fill=\"#000000\" stroke=\"#000000\" points=\"82.112,-71.1376 72.8153,-66.0561 76.914,-75.826 82.112,-71.1376\"/>\n",
       "</g>\n",
       "<!-- 6 -->\n",
       "<g id=\"node7\" class=\"node\">\n",
       "<title>6</title>\n",
       "<text text-anchor=\"middle\" x=\"112\" y=\"-54.8\" font-family=\"Times,serif\" font-size=\"14.00\" fill=\"#000000\"> + </text>\n",
       "</g>\n",
       "<!-- 1&#45;&gt;6 -->\n",
       "<g id=\"edge6\" class=\"edge\">\n",
       "<title>1&#45;&gt;6</title>\n",
       "<path fill=\"none\" stroke=\"#000000\" d=\"M112,-101.9748C112,-95.195 112,-84.966 112,-76.1331\"/>\n",
       "<polygon fill=\"#000000\" stroke=\"#000000\" points=\"115.5001,-76.0561 112,-66.0561 108.5001,-76.0561 115.5001,-76.0561\"/>\n",
       "</g>\n",
       "<!-- 7 -->\n",
       "<g id=\"node8\" class=\"node\">\n",
       "<title>7</title>\n",
       "<text text-anchor=\"middle\" x=\"159\" y=\"-54.8\" font-family=\"Times,serif\" font-size=\"14.00\" fill=\"#000000\">&lt;term&gt;</text>\n",
       "</g>\n",
       "<!-- 1&#45;&gt;7 -->\n",
       "<g id=\"edge7\" class=\"edge\">\n",
       "<title>1&#45;&gt;7</title>\n",
       "<path fill=\"none\" stroke=\"#000000\" d=\"M118.935,-101.9748C125.8079,-94.517 136.5269,-82.8857 145.1488,-73.53\"/>\n",
       "<polygon fill=\"#000000\" stroke=\"#000000\" points=\"147.8334,-75.7816 152.0365,-66.0561 142.6859,-71.0378 147.8334,-75.7816\"/>\n",
       "</g>\n",
       "<!-- 3 -->\n",
       "<g id=\"node4\" class=\"node\">\n",
       "<title>3</title>\n",
       "<text text-anchor=\"middle\" x=\"21\" y=\"-3.8\" font-family=\"Times,serif\" font-size=\"14.00\" fill=\"#000000\">&lt;term&gt;</text>\n",
       "</g>\n",
       "<!-- 2&#45;&gt;3 -->\n",
       "<g id=\"edge3\" class=\"edge\">\n",
       "<title>2&#45;&gt;3</title>\n",
       "<path fill=\"none\" stroke=\"#000000\" d=\"M59.3601,-50.9748C52.8462,-43.5923 42.7238,-32.1203 34.5125,-22.8142\"/>\n",
       "<polygon fill=\"#000000\" stroke=\"#000000\" points=\"36.9078,-20.2388 27.6671,-15.0561 31.659,-24.8702 36.9078,-20.2388\"/>\n",
       "</g>\n",
       "<!-- 4 -->\n",
       "<g id=\"node5\" class=\"node\">\n",
       "<title>4</title>\n",
       "<text text-anchor=\"middle\" x=\"66\" y=\"-3.8\" font-family=\"Times,serif\" font-size=\"14.00\" fill=\"#000000\"> &#45; </text>\n",
       "</g>\n",
       "<!-- 2&#45;&gt;4 -->\n",
       "<g id=\"edge4\" class=\"edge\">\n",
       "<title>2&#45;&gt;4</title>\n",
       "<path fill=\"none\" stroke=\"#000000\" d=\"M66,-50.9748C66,-44.195 66,-33.966 66,-25.1331\"/>\n",
       "<polygon fill=\"#000000\" stroke=\"#000000\" points=\"69.5001,-25.0561 66,-15.0561 62.5001,-25.0561 69.5001,-25.0561\"/>\n",
       "</g>\n",
       "<!-- 5 -->\n",
       "<g id=\"node6\" class=\"node\">\n",
       "<title>5</title>\n",
       "<text text-anchor=\"middle\" x=\"111\" y=\"-3.8\" font-family=\"Times,serif\" font-size=\"14.00\" fill=\"#000000\">&lt;expr&gt;</text>\n",
       "</g>\n",
       "<!-- 2&#45;&gt;5 -->\n",
       "<g id=\"edge5\" class=\"edge\">\n",
       "<title>2&#45;&gt;5</title>\n",
       "<path fill=\"none\" stroke=\"#000000\" d=\"M72.6399,-50.9748C79.1538,-43.5923 89.2762,-32.1203 97.4875,-22.8142\"/>\n",
       "<polygon fill=\"#000000\" stroke=\"#000000\" points=\"100.341,-24.8702 104.3329,-15.0561 95.0922,-20.2388 100.341,-24.8702\"/>\n",
       "</g>\n",
       "</g>\n",
       "</svg>\n"
      ],
      "text/plain": [
       "<graphviz.dot.Digraph at 0x115fb3400>"
      ]
     },
     "metadata": {},
     "output_type": "display_data"
    }
   ],
   "source": [
    "if f.any_possible_expansions(derivation_tree):\n",
    "    derivation_tree = f.expand_tree_once(derivation_tree)\n",
    "    display_tree(derivation_tree)"
   ]
  },
  {
   "cell_type": "code",
   "execution_count": 71,
   "metadata": {
    "button": false,
    "new_sheet": false,
    "run_control": {
     "read_only": false
    },
    "slideshow": {
     "slide_type": "subslide"
    }
   },
   "outputs": [
    {
     "name": "stdout",
     "output_type": "stream",
     "text": [
      "Expanding <term> at maximum cost\n"
     ]
    },
    {
     "data": {
      "image/svg+xml": [
       "<?xml version=\"1.0\" encoding=\"UTF-8\" standalone=\"no\"?>\n",
       "<!DOCTYPE svg PUBLIC \"-//W3C//DTD SVG 1.1//EN\"\n",
       " \"http://www.w3.org/Graphics/SVG/1.1/DTD/svg11.dtd\">\n",
       "<!-- Generated by graphviz version 2.40.1 (20161225.0304)\n",
       " -->\n",
       "<!-- Title: %3 Pages: 1 -->\n",
       "<svg width=\"300pt\" height=\"176pt\"\n",
       " viewBox=\"0.00 0.00 300.00 176.00\" xmlns=\"http://www.w3.org/2000/svg\" xmlns:xlink=\"http://www.w3.org/1999/xlink\">\n",
       "<g id=\"graph0\" class=\"graph\" transform=\"scale(1 1) rotate(0) translate(4 172)\">\n",
       "<title>%3</title>\n",
       "<polygon fill=\"#ffffff\" stroke=\"transparent\" points=\"-4,4 -4,-172 296,-172 296,4 -4,4\"/>\n",
       "<!-- 0 -->\n",
       "<g id=\"node1\" class=\"node\">\n",
       "<title>0</title>\n",
       "<text text-anchor=\"middle\" x=\"143\" y=\"-156.8\" font-family=\"Times,serif\" font-size=\"14.00\" fill=\"#000000\">&lt;start&gt;</text>\n",
       "</g>\n",
       "<!-- 1 -->\n",
       "<g id=\"node2\" class=\"node\">\n",
       "<title>1</title>\n",
       "<text text-anchor=\"middle\" x=\"143\" y=\"-105.8\" font-family=\"Times,serif\" font-size=\"14.00\" fill=\"#000000\">&lt;expr&gt;</text>\n",
       "</g>\n",
       "<!-- 0&#45;&gt;1 -->\n",
       "<g id=\"edge1\" class=\"edge\">\n",
       "<title>0&#45;&gt;1</title>\n",
       "<path fill=\"none\" stroke=\"#000000\" d=\"M143,-152.9748C143,-146.195 143,-135.966 143,-127.1331\"/>\n",
       "<polygon fill=\"#000000\" stroke=\"#000000\" points=\"146.5001,-127.0561 143,-117.0561 139.5001,-127.0561 146.5001,-127.0561\"/>\n",
       "</g>\n",
       "<!-- 2 -->\n",
       "<g id=\"node3\" class=\"node\">\n",
       "<title>2</title>\n",
       "<text text-anchor=\"middle\" x=\"90\" y=\"-54.8\" font-family=\"Times,serif\" font-size=\"14.00\" fill=\"#000000\">&lt;expr&gt;</text>\n",
       "</g>\n",
       "<!-- 1&#45;&gt;2 -->\n",
       "<g id=\"edge2\" class=\"edge\">\n",
       "<title>1&#45;&gt;2</title>\n",
       "<path fill=\"none\" stroke=\"#000000\" d=\"M135.1797,-101.9748C127.3511,-94.4417 115.0974,-82.6503 105.3255,-73.2472\"/>\n",
       "<polygon fill=\"#000000\" stroke=\"#000000\" points=\"107.485,-70.4679 97.8524,-66.0561 102.6313,-75.5119 107.485,-70.4679\"/>\n",
       "</g>\n",
       "<!-- 6 -->\n",
       "<g id=\"node7\" class=\"node\">\n",
       "<title>6</title>\n",
       "<text text-anchor=\"middle\" x=\"143\" y=\"-54.8\" font-family=\"Times,serif\" font-size=\"14.00\" fill=\"#000000\"> + </text>\n",
       "</g>\n",
       "<!-- 1&#45;&gt;6 -->\n",
       "<g id=\"edge6\" class=\"edge\">\n",
       "<title>1&#45;&gt;6</title>\n",
       "<path fill=\"none\" stroke=\"#000000\" d=\"M143,-101.9748C143,-95.195 143,-84.966 143,-76.1331\"/>\n",
       "<polygon fill=\"#000000\" stroke=\"#000000\" points=\"146.5001,-76.0561 143,-66.0561 139.5001,-76.0561 146.5001,-76.0561\"/>\n",
       "</g>\n",
       "<!-- 7 -->\n",
       "<g id=\"node8\" class=\"node\">\n",
       "<title>7</title>\n",
       "<text text-anchor=\"middle\" x=\"194\" y=\"-54.8\" font-family=\"Times,serif\" font-size=\"14.00\" fill=\"#000000\">&lt;term&gt;</text>\n",
       "</g>\n",
       "<!-- 1&#45;&gt;7 -->\n",
       "<g id=\"edge7\" class=\"edge\">\n",
       "<title>1&#45;&gt;7</title>\n",
       "<path fill=\"none\" stroke=\"#000000\" d=\"M150.5252,-101.9748C158.0583,-94.4417 169.8497,-82.6503 179.2528,-73.2472\"/>\n",
       "<polygon fill=\"#000000\" stroke=\"#000000\" points=\"181.8477,-75.6021 186.4439,-66.0561 176.8979,-70.6523 181.8477,-75.6021\"/>\n",
       "</g>\n",
       "<!-- 3 -->\n",
       "<g id=\"node4\" class=\"node\">\n",
       "<title>3</title>\n",
       "<text text-anchor=\"middle\" x=\"21\" y=\"-3.8\" font-family=\"Times,serif\" font-size=\"14.00\" fill=\"#000000\">&lt;term&gt;</text>\n",
       "</g>\n",
       "<!-- 2&#45;&gt;3 -->\n",
       "<g id=\"edge3\" class=\"edge\">\n",
       "<title>2&#45;&gt;3</title>\n",
       "<path fill=\"none\" stroke=\"#000000\" d=\"M79.8188,-50.9748C69.2193,-43.1403 52.3885,-30.7002 39.4415,-21.1307\"/>\n",
       "<polygon fill=\"#000000\" stroke=\"#000000\" points=\"41.3451,-18.1854 31.223,-15.0561 37.1844,-23.8147 41.3451,-18.1854\"/>\n",
       "</g>\n",
       "<!-- 4 -->\n",
       "<g id=\"node5\" class=\"node\">\n",
       "<title>4</title>\n",
       "<text text-anchor=\"middle\" x=\"66\" y=\"-3.8\" font-family=\"Times,serif\" font-size=\"14.00\" fill=\"#000000\"> &#45; </text>\n",
       "</g>\n",
       "<!-- 2&#45;&gt;4 -->\n",
       "<g id=\"edge4\" class=\"edge\">\n",
       "<title>2&#45;&gt;4</title>\n",
       "<path fill=\"none\" stroke=\"#000000\" d=\"M86.4587,-50.9748C83.1619,-43.969 78.1319,-33.2803 73.8845,-24.2547\"/>\n",
       "<polygon fill=\"#000000\" stroke=\"#000000\" points=\"76.9807,-22.614 69.5558,-15.0561 70.647,-25.5946 76.9807,-22.614\"/>\n",
       "</g>\n",
       "<!-- 5 -->\n",
       "<g id=\"node6\" class=\"node\">\n",
       "<title>5</title>\n",
       "<text text-anchor=\"middle\" x=\"111\" y=\"-3.8\" font-family=\"Times,serif\" font-size=\"14.00\" fill=\"#000000\">&lt;expr&gt;</text>\n",
       "</g>\n",
       "<!-- 2&#45;&gt;5 -->\n",
       "<g id=\"edge5\" class=\"edge\">\n",
       "<title>2&#45;&gt;5</title>\n",
       "<path fill=\"none\" stroke=\"#000000\" d=\"M93.0986,-50.9748C95.9523,-44.0443 100.2901,-33.5097 103.9809,-24.5464\"/>\n",
       "<polygon fill=\"#000000\" stroke=\"#000000\" points=\"107.3175,-25.6355 107.8887,-15.0561 100.8447,-22.9702 107.3175,-25.6355\"/>\n",
       "</g>\n",
       "<!-- 8 -->\n",
       "<g id=\"node9\" class=\"node\">\n",
       "<title>8</title>\n",
       "<text text-anchor=\"middle\" x=\"174\" y=\"-3.8\" font-family=\"Times,serif\" font-size=\"14.00\" fill=\"#000000\">&lt;factor&gt;</text>\n",
       "</g>\n",
       "<!-- 7&#45;&gt;8 -->\n",
       "<g id=\"edge8\" class=\"edge\">\n",
       "<title>7&#45;&gt;8</title>\n",
       "<path fill=\"none\" stroke=\"#000000\" d=\"M191.0489,-50.9748C188.3311,-44.0443 184.1999,-33.5097 180.6849,-24.5464\"/>\n",
       "<polygon fill=\"#000000\" stroke=\"#000000\" points=\"183.8725,-23.088 176.9632,-15.0561 177.3557,-25.6437 183.8725,-23.088\"/>\n",
       "</g>\n",
       "<!-- 9 -->\n",
       "<g id=\"node10\" class=\"node\">\n",
       "<title>9</title>\n",
       "<text text-anchor=\"middle\" x=\"224\" y=\"-3.8\" font-family=\"Times,serif\" font-size=\"14.00\" fill=\"#000000\"> * </text>\n",
       "</g>\n",
       "<!-- 7&#45;&gt;9 -->\n",
       "<g id=\"edge9\" class=\"edge\">\n",
       "<title>7&#45;&gt;9</title>\n",
       "<path fill=\"none\" stroke=\"#000000\" d=\"M198.4266,-50.9748C202.592,-43.8936 208.9706,-33.05 214.3152,-23.9641\"/>\n",
       "<polygon fill=\"#000000\" stroke=\"#000000\" points=\"217.5018,-25.45 219.5552,-15.0561 211.4682,-21.9009 217.5018,-25.45\"/>\n",
       "</g>\n",
       "<!-- 10 -->\n",
       "<g id=\"node11\" class=\"node\">\n",
       "<title>10</title>\n",
       "<text text-anchor=\"middle\" x=\"271\" y=\"-3.8\" font-family=\"Times,serif\" font-size=\"14.00\" fill=\"#000000\">&lt;term&gt;</text>\n",
       "</g>\n",
       "<!-- 7&#45;&gt;10 -->\n",
       "<g id=\"edge10\" class=\"edge\">\n",
       "<title>7&#45;&gt;10</title>\n",
       "<path fill=\"none\" stroke=\"#000000\" d=\"M205.3616,-50.9748C217.4176,-42.9897 236.6972,-30.22 251.249,-20.5818\"/>\n",
       "<polygon fill=\"#000000\" stroke=\"#000000\" points=\"253.1873,-23.4961 259.5918,-15.0561 249.3219,-17.6601 253.1873,-23.4961\"/>\n",
       "</g>\n",
       "</g>\n",
       "</svg>\n"
      ],
      "text/plain": [
       "<graphviz.dot.Digraph at 0x115fb32b0>"
      ]
     },
     "metadata": {},
     "output_type": "display_data"
    }
   ],
   "source": [
    "if f.any_possible_expansions(derivation_tree):\n",
    "    derivation_tree = f.expand_tree_once(derivation_tree)\n",
    "    display_tree(derivation_tree)"
   ]
  },
  {
   "cell_type": "code",
   "execution_count": 72,
   "metadata": {
    "button": false,
    "new_sheet": false,
    "run_control": {
     "read_only": false
    },
    "slideshow": {
     "slide_type": "subslide"
    }
   },
   "outputs": [
    {
     "name": "stdout",
     "output_type": "stream",
     "text": [
      "Expanding <term> at maximum cost\n"
     ]
    },
    {
     "data": {
      "image/svg+xml": [
       "<?xml version=\"1.0\" encoding=\"UTF-8\" standalone=\"no\"?>\n",
       "<!DOCTYPE svg PUBLIC \"-//W3C//DTD SVG 1.1//EN\"\n",
       " \"http://www.w3.org/Graphics/SVG/1.1/DTD/svg11.dtd\">\n",
       "<!-- Generated by graphviz version 2.40.1 (20161225.0304)\n",
       " -->\n",
       "<!-- Title: %3 Pages: 1 -->\n",
       "<svg width=\"345pt\" height=\"227pt\"\n",
       " viewBox=\"0.00 0.00 345.00 227.00\" xmlns=\"http://www.w3.org/2000/svg\" xmlns:xlink=\"http://www.w3.org/1999/xlink\">\n",
       "<g id=\"graph0\" class=\"graph\" transform=\"scale(1 1) rotate(0) translate(4 223)\">\n",
       "<title>%3</title>\n",
       "<polygon fill=\"#ffffff\" stroke=\"transparent\" points=\"-4,4 -4,-223 341,-223 341,4 -4,4\"/>\n",
       "<!-- 0 -->\n",
       "<g id=\"node1\" class=\"node\">\n",
       "<title>0</title>\n",
       "<text text-anchor=\"middle\" x=\"143\" y=\"-207.8\" font-family=\"Times,serif\" font-size=\"14.00\" fill=\"#000000\">&lt;start&gt;</text>\n",
       "</g>\n",
       "<!-- 1 -->\n",
       "<g id=\"node2\" class=\"node\">\n",
       "<title>1</title>\n",
       "<text text-anchor=\"middle\" x=\"143\" y=\"-156.8\" font-family=\"Times,serif\" font-size=\"14.00\" fill=\"#000000\">&lt;expr&gt;</text>\n",
       "</g>\n",
       "<!-- 0&#45;&gt;1 -->\n",
       "<g id=\"edge1\" class=\"edge\">\n",
       "<title>0&#45;&gt;1</title>\n",
       "<path fill=\"none\" stroke=\"#000000\" d=\"M143,-203.9748C143,-197.195 143,-186.966 143,-178.1331\"/>\n",
       "<polygon fill=\"#000000\" stroke=\"#000000\" points=\"146.5001,-178.0561 143,-168.0561 139.5001,-178.0561 146.5001,-178.0561\"/>\n",
       "</g>\n",
       "<!-- 2 -->\n",
       "<g id=\"node3\" class=\"node\">\n",
       "<title>2</title>\n",
       "<text text-anchor=\"middle\" x=\"90\" y=\"-105.8\" font-family=\"Times,serif\" font-size=\"14.00\" fill=\"#000000\">&lt;expr&gt;</text>\n",
       "</g>\n",
       "<!-- 1&#45;&gt;2 -->\n",
       "<g id=\"edge2\" class=\"edge\">\n",
       "<title>1&#45;&gt;2</title>\n",
       "<path fill=\"none\" stroke=\"#000000\" d=\"M135.1797,-152.9748C127.3511,-145.4417 115.0974,-133.6503 105.3255,-124.2472\"/>\n",
       "<polygon fill=\"#000000\" stroke=\"#000000\" points=\"107.485,-121.4679 97.8524,-117.0561 102.6313,-126.5119 107.485,-121.4679\"/>\n",
       "</g>\n",
       "<!-- 6 -->\n",
       "<g id=\"node7\" class=\"node\">\n",
       "<title>6</title>\n",
       "<text text-anchor=\"middle\" x=\"143\" y=\"-105.8\" font-family=\"Times,serif\" font-size=\"14.00\" fill=\"#000000\"> + </text>\n",
       "</g>\n",
       "<!-- 1&#45;&gt;6 -->\n",
       "<g id=\"edge6\" class=\"edge\">\n",
       "<title>1&#45;&gt;6</title>\n",
       "<path fill=\"none\" stroke=\"#000000\" d=\"M143,-152.9748C143,-146.195 143,-135.966 143,-127.1331\"/>\n",
       "<polygon fill=\"#000000\" stroke=\"#000000\" points=\"146.5001,-127.0561 143,-117.0561 139.5001,-127.0561 146.5001,-127.0561\"/>\n",
       "</g>\n",
       "<!-- 7 -->\n",
       "<g id=\"node8\" class=\"node\">\n",
       "<title>7</title>\n",
       "<text text-anchor=\"middle\" x=\"194\" y=\"-105.8\" font-family=\"Times,serif\" font-size=\"14.00\" fill=\"#000000\">&lt;term&gt;</text>\n",
       "</g>\n",
       "<!-- 1&#45;&gt;7 -->\n",
       "<g id=\"edge7\" class=\"edge\">\n",
       "<title>1&#45;&gt;7</title>\n",
       "<path fill=\"none\" stroke=\"#000000\" d=\"M150.5252,-152.9748C158.0583,-145.4417 169.8497,-133.6503 179.2528,-124.2472\"/>\n",
       "<polygon fill=\"#000000\" stroke=\"#000000\" points=\"181.8477,-126.6021 186.4439,-117.0561 176.8979,-121.6523 181.8477,-126.6021\"/>\n",
       "</g>\n",
       "<!-- 3 -->\n",
       "<g id=\"node4\" class=\"node\">\n",
       "<title>3</title>\n",
       "<text text-anchor=\"middle\" x=\"21\" y=\"-54.8\" font-family=\"Times,serif\" font-size=\"14.00\" fill=\"#000000\">&lt;term&gt;</text>\n",
       "</g>\n",
       "<!-- 2&#45;&gt;3 -->\n",
       "<g id=\"edge3\" class=\"edge\">\n",
       "<title>2&#45;&gt;3</title>\n",
       "<path fill=\"none\" stroke=\"#000000\" d=\"M79.8188,-101.9748C69.2193,-94.1403 52.3885,-81.7002 39.4415,-72.1307\"/>\n",
       "<polygon fill=\"#000000\" stroke=\"#000000\" points=\"41.3451,-69.1854 31.223,-66.0561 37.1844,-74.8147 41.3451,-69.1854\"/>\n",
       "</g>\n",
       "<!-- 4 -->\n",
       "<g id=\"node5\" class=\"node\">\n",
       "<title>4</title>\n",
       "<text text-anchor=\"middle\" x=\"66\" y=\"-54.8\" font-family=\"Times,serif\" font-size=\"14.00\" fill=\"#000000\"> &#45; </text>\n",
       "</g>\n",
       "<!-- 2&#45;&gt;4 -->\n",
       "<g id=\"edge4\" class=\"edge\">\n",
       "<title>2&#45;&gt;4</title>\n",
       "<path fill=\"none\" stroke=\"#000000\" d=\"M86.4587,-101.9748C83.1619,-94.969 78.1319,-84.2803 73.8845,-75.2547\"/>\n",
       "<polygon fill=\"#000000\" stroke=\"#000000\" points=\"76.9807,-73.614 69.5558,-66.0561 70.647,-76.5946 76.9807,-73.614\"/>\n",
       "</g>\n",
       "<!-- 5 -->\n",
       "<g id=\"node6\" class=\"node\">\n",
       "<title>5</title>\n",
       "<text text-anchor=\"middle\" x=\"111\" y=\"-54.8\" font-family=\"Times,serif\" font-size=\"14.00\" fill=\"#000000\">&lt;expr&gt;</text>\n",
       "</g>\n",
       "<!-- 2&#45;&gt;5 -->\n",
       "<g id=\"edge5\" class=\"edge\">\n",
       "<title>2&#45;&gt;5</title>\n",
       "<path fill=\"none\" stroke=\"#000000\" d=\"M93.0986,-101.9748C95.9523,-95.0443 100.2901,-84.5097 103.9809,-75.5464\"/>\n",
       "<polygon fill=\"#000000\" stroke=\"#000000\" points=\"107.3175,-76.6355 107.8887,-66.0561 100.8447,-73.9702 107.3175,-76.6355\"/>\n",
       "</g>\n",
       "<!-- 8 -->\n",
       "<g id=\"node9\" class=\"node\">\n",
       "<title>8</title>\n",
       "<text text-anchor=\"middle\" x=\"174\" y=\"-54.8\" font-family=\"Times,serif\" font-size=\"14.00\" fill=\"#000000\">&lt;factor&gt;</text>\n",
       "</g>\n",
       "<!-- 7&#45;&gt;8 -->\n",
       "<g id=\"edge8\" class=\"edge\">\n",
       "<title>7&#45;&gt;8</title>\n",
       "<path fill=\"none\" stroke=\"#000000\" d=\"M191.0489,-101.9748C188.3311,-95.0443 184.1999,-84.5097 180.6849,-75.5464\"/>\n",
       "<polygon fill=\"#000000\" stroke=\"#000000\" points=\"183.8725,-74.088 176.9632,-66.0561 177.3557,-76.6437 183.8725,-74.088\"/>\n",
       "</g>\n",
       "<!-- 9 -->\n",
       "<g id=\"node10\" class=\"node\">\n",
       "<title>9</title>\n",
       "<text text-anchor=\"middle\" x=\"224\" y=\"-54.8\" font-family=\"Times,serif\" font-size=\"14.00\" fill=\"#000000\"> * </text>\n",
       "</g>\n",
       "<!-- 7&#45;&gt;9 -->\n",
       "<g id=\"edge9\" class=\"edge\">\n",
       "<title>7&#45;&gt;9</title>\n",
       "<path fill=\"none\" stroke=\"#000000\" d=\"M198.4266,-101.9748C202.592,-94.8936 208.9706,-84.05 214.3152,-74.9641\"/>\n",
       "<polygon fill=\"#000000\" stroke=\"#000000\" points=\"217.5018,-76.45 219.5552,-66.0561 211.4682,-72.9009 217.5018,-76.45\"/>\n",
       "</g>\n",
       "<!-- 10 -->\n",
       "<g id=\"node11\" class=\"node\">\n",
       "<title>10</title>\n",
       "<text text-anchor=\"middle\" x=\"271\" y=\"-54.8\" font-family=\"Times,serif\" font-size=\"14.00\" fill=\"#000000\">&lt;term&gt;</text>\n",
       "</g>\n",
       "<!-- 7&#45;&gt;10 -->\n",
       "<g id=\"edge10\" class=\"edge\">\n",
       "<title>7&#45;&gt;10</title>\n",
       "<path fill=\"none\" stroke=\"#000000\" d=\"M205.3616,-101.9748C217.4176,-93.9897 236.6972,-81.22 251.249,-71.5818\"/>\n",
       "<polygon fill=\"#000000\" stroke=\"#000000\" points=\"253.1873,-74.4961 259.5918,-66.0561 249.3219,-68.6601 253.1873,-74.4961\"/>\n",
       "</g>\n",
       "<!-- 11 -->\n",
       "<g id=\"node12\" class=\"node\">\n",
       "<title>11</title>\n",
       "<text text-anchor=\"middle\" x=\"223\" y=\"-3.8\" font-family=\"Times,serif\" font-size=\"14.00\" fill=\"#000000\">&lt;factor&gt;</text>\n",
       "</g>\n",
       "<!-- 10&#45;&gt;11 -->\n",
       "<g id=\"edge11\" class=\"edge\">\n",
       "<title>10&#45;&gt;11</title>\n",
       "<path fill=\"none\" stroke=\"#000000\" d=\"M263.9174,-50.9748C256.8983,-43.517 245.9513,-31.8857 237.1459,-22.53\"/>\n",
       "<polygon fill=\"#000000\" stroke=\"#000000\" points=\"239.514,-19.9393 230.1116,-15.0561 234.4166,-24.7369 239.514,-19.9393\"/>\n",
       "</g>\n",
       "<!-- 12 -->\n",
       "<g id=\"node13\" class=\"node\">\n",
       "<title>12</title>\n",
       "<text text-anchor=\"middle\" x=\"271\" y=\"-3.8\" font-family=\"Times,serif\" font-size=\"14.00\" fill=\"#000000\"> / </text>\n",
       "</g>\n",
       "<!-- 10&#45;&gt;12 -->\n",
       "<g id=\"edge12\" class=\"edge\">\n",
       "<title>10&#45;&gt;12</title>\n",
       "<path fill=\"none\" stroke=\"#000000\" d=\"M271,-50.9748C271,-44.195 271,-33.966 271,-25.1331\"/>\n",
       "<polygon fill=\"#000000\" stroke=\"#000000\" points=\"274.5001,-25.0561 271,-15.0561 267.5001,-25.0561 274.5001,-25.0561\"/>\n",
       "</g>\n",
       "<!-- 13 -->\n",
       "<g id=\"node14\" class=\"node\">\n",
       "<title>13</title>\n",
       "<text text-anchor=\"middle\" x=\"316\" y=\"-3.8\" font-family=\"Times,serif\" font-size=\"14.00\" fill=\"#000000\">&lt;term&gt;</text>\n",
       "</g>\n",
       "<!-- 10&#45;&gt;13 -->\n",
       "<g id=\"edge13\" class=\"edge\">\n",
       "<title>10&#45;&gt;13</title>\n",
       "<path fill=\"none\" stroke=\"#000000\" d=\"M277.6399,-50.9748C284.1538,-43.5923 294.2762,-32.1203 302.4875,-22.8142\"/>\n",
       "<polygon fill=\"#000000\" stroke=\"#000000\" points=\"305.341,-24.8702 309.3329,-15.0561 300.0922,-20.2388 305.341,-24.8702\"/>\n",
       "</g>\n",
       "</g>\n",
       "</svg>\n"
      ],
      "text/plain": [
       "<graphviz.dot.Digraph at 0x115fb31d0>"
      ]
     },
     "metadata": {},
     "output_type": "display_data"
    }
   ],
   "source": [
    "if f.any_possible_expansions(derivation_tree):\n",
    "    derivation_tree = f.expand_tree_once(derivation_tree)\n",
    "    display_tree(derivation_tree)"
   ]
  },
  {
   "cell_type": "markdown",
   "metadata": {
    "slideshow": {
     "slide_type": "fragment"
    }
   },
   "source": [
    "We see that with each step, the number of nonterminals increases.  Obviously, we have to put a limit on this number."
   ]
  },
  {
   "cell_type": "markdown",
   "metadata": {
    "button": false,
    "new_sheet": false,
    "run_control": {
     "read_only": false
    },
    "slideshow": {
     "slide_type": "slide"
    }
   },
   "source": [
    "## Three Expansion Phases\n",
    "\n",
    "We can now put all three phases together in a single function `expand_tree()` which will work as follows:\n",
    "\n",
    "1. **Max cost expansion.** Expand the tree using expansions with maximum cost until we have at least `min_nonterminals` nonterminals.  This phase can be easily skipped by setting `min_nonterminals` to zero.\n",
    "2. **Random expansion.**  Keep on expanding the tree randomly until we reach `max_nonterminals` nonterminals.\n",
    "3. **Min cost expansion.** Close the expansion with minimum cost.\n",
    "\n",
    "We implement these three phases by having `expand_node` reference the expansion method to apply.  This is controlled by setting `expand_node` (the method reference) to first `expand_node_max_cost` (i.e., calling `expand_node()` invokes `expand_node_max_cost()`), then `expand_node_randomly`, and finally `expand_node_min_cost`.  In the first two phases, we also set a maximum limit of `min_nonterminals` and `max_nonterminals`, respectively."
   ]
  },
  {
   "cell_type": "code",
   "execution_count": 73,
   "metadata": {
    "button": false,
    "new_sheet": false,
    "run_control": {
     "read_only": false
    },
    "slideshow": {
     "slide_type": "subslide"
    }
   },
   "outputs": [],
   "source": [
    "class GrammarFuzzer(GrammarFuzzer):\n",
    "    def log_tree(self, tree):\n",
    "        \"\"\"Output a tree if self.log is set; if self.display is also set, show the tree structure\"\"\"\n",
    "        if self.log:\n",
    "            print(\"Tree:\", all_terminals(tree))\n",
    "            if self.disp:\n",
    "                display_tree(tree)\n",
    "            # print(self.possible_expansions(tree), \"possible expansion(s) left\")\n",
    "\n",
    "    def expand_tree_with_strategy(self, tree, expand_node_method, limit=None):\n",
    "        \"\"\"Expand tree using `expand_node_method` as node expansion function\n",
    "        until the number of possible expansions reaches `limit`.\"\"\"\n",
    "        self.expand_node = expand_node_method\n",
    "        while (limit is None or self.possible_expansions(tree)\n",
    "               < limit) and self.any_possible_expansions(tree):\n",
    "            tree = self.expand_tree_once(tree)\n",
    "            self.log_tree(tree)\n",
    "        return tree\n",
    "\n",
    "    def expand_tree(self, tree):\n",
    "        \"\"\"Expand `tree` in a three-phase strategy until all expansions are complete.\"\"\"\n",
    "        self.log_tree(tree)\n",
    "        tree = self.expand_tree_with_strategy(\n",
    "            tree, self.expand_node_max_cost, self.min_nonterminals)\n",
    "        tree = self.expand_tree_with_strategy(\n",
    "            tree, self.expand_node_randomly, self.max_nonterminals)\n",
    "        tree = self.expand_tree_with_strategy(tree, self.expand_node_min_cost)\n",
    "\n",
    "        assert self.possible_expansions(tree) == 0\n",
    "\n",
    "        return tree\n"
   ]
  },
  {
   "cell_type": "markdown",
   "metadata": {
    "slideshow": {
     "slide_type": "subslide"
    }
   },
   "source": [
    "Let us try this out on our example."
   ]
  },
  {
   "cell_type": "code",
   "execution_count": 74,
   "metadata": {
    "button": false,
    "new_sheet": false,
    "run_control": {
     "read_only": false
    },
    "slideshow": {
     "slide_type": "subslide"
    }
   },
   "outputs": [
    {
     "name": "stdout",
     "output_type": "stream",
     "text": [
      "Tree: <expr> + <term>\n",
      "Expanding <term> at maximum cost\n",
      "Tree: <expr> + <factor> / <term>\n",
      "Expanding <factor> randomly\n",
      "Tree: <expr> + (<expr>) / <term>\n",
      "Expanding <expr> randomly\n",
      "Tree: <expr> + (<term> - <expr>) / <term>\n",
      "Expanding <expr> randomly\n",
      "Tree: <term> - <expr> + (<term> - <expr>) / <term>\n",
      "Expanding <expr> at minimum cost\n",
      "Tree: <term> - <term> + (<term> - <expr>) / <term>\n",
      "Expanding <term> at minimum cost\n",
      "Tree: <term> - <factor> + (<term> - <expr>) / <term>\n",
      "Expanding <expr> at minimum cost\n",
      "Tree: <term> - <factor> + (<term> - <term>) / <term>\n",
      "Expanding <factor> at minimum cost\n",
      "Tree: <term> - <integer> + (<term> - <term>) / <term>\n",
      "Expanding <term> at minimum cost\n",
      "Tree: <factor> - <integer> + (<term> - <term>) / <term>\n",
      "Expanding <term> at minimum cost\n",
      "Tree: <factor> - <integer> + (<term> - <factor>) / <term>\n",
      "Expanding <integer> at minimum cost\n",
      "Tree: <factor> - <digit> + (<term> - <factor>) / <term>\n",
      "Expanding <term> at minimum cost\n",
      "Tree: <factor> - <digit> + (<term> - <factor>) / <factor>\n",
      "Expanding <digit> at minimum cost\n",
      "Tree: <factor> - 4 + (<term> - <factor>) / <factor>\n",
      "Expanding <factor> at minimum cost\n",
      "Tree: <factor> - 4 + (<term> - <factor>) / <integer>\n",
      "Expanding <integer> at minimum cost\n",
      "Tree: <factor> - 4 + (<term> - <factor>) / <digit>\n",
      "Expanding <factor> at minimum cost\n",
      "Tree: <integer> - 4 + (<term> - <factor>) / <digit>\n",
      "Expanding <factor> at minimum cost\n",
      "Tree: <integer> - 4 + (<term> - <integer>) / <digit>\n",
      "Expanding <term> at minimum cost\n",
      "Tree: <integer> - 4 + (<factor> - <integer>) / <digit>\n",
      "Expanding <integer> at minimum cost\n",
      "Tree: <digit> - 4 + (<factor> - <integer>) / <digit>\n",
      "Expanding <integer> at minimum cost\n",
      "Tree: <digit> - 4 + (<factor> - <digit>) / <digit>\n",
      "Expanding <digit> at minimum cost\n",
      "Tree: 1 - 4 + (<factor> - <digit>) / <digit>\n",
      "Expanding <digit> at minimum cost\n",
      "Tree: 1 - 4 + (<factor> - <digit>) / 5\n",
      "Expanding <digit> at minimum cost\n",
      "Tree: 1 - 4 + (<factor> - 2) / 5\n",
      "Expanding <factor> at minimum cost\n",
      "Tree: 1 - 4 + (<integer> - 2) / 5\n",
      "Expanding <integer> at minimum cost\n",
      "Tree: 1 - 4 + (<digit> - 2) / 5\n",
      "Expanding <digit> at minimum cost\n",
      "Tree: 1 - 4 + (6 - 2) / 5\n"
     ]
    }
   ],
   "source": [
    "derivation_tree = (\"<start>\",\n",
    "                   [(\"<expr>\",\n",
    "                     [(\"<expr>\", None),\n",
    "                      (\" + \", []),\n",
    "                         (\"<term>\", None)]\n",
    "                     )])\n",
    "\n",
    "f = GrammarFuzzer(\n",
    "    EXPR_GRAMMAR,\n",
    "    min_nonterminals=3,\n",
    "    max_nonterminals=5,\n",
    "    log=True)\n",
    "derivation_tree = f.expand_tree(derivation_tree)"
   ]
  },
  {
   "cell_type": "code",
   "execution_count": 75,
   "metadata": {
    "button": false,
    "new_sheet": false,
    "run_control": {
     "read_only": false
    },
    "slideshow": {
     "slide_type": "subslide"
    }
   },
   "outputs": [
    {
     "data": {
      "image/svg+xml": [
       "<?xml version=\"1.0\" encoding=\"UTF-8\" standalone=\"no\"?>\n",
       "<!DOCTYPE svg PUBLIC \"-//W3C//DTD SVG 1.1//EN\"\n",
       " \"http://www.w3.org/Graphics/SVG/1.1/DTD/svg11.dtd\">\n",
       "<!-- Generated by graphviz version 2.40.1 (20161225.0304)\n",
       " -->\n",
       "<!-- Title: %3 Pages: 1 -->\n",
       "<svg width=\"366pt\" height=\"533pt\"\n",
       " viewBox=\"0.00 0.00 366.00 533.00\" xmlns=\"http://www.w3.org/2000/svg\" xmlns:xlink=\"http://www.w3.org/1999/xlink\">\n",
       "<g id=\"graph0\" class=\"graph\" transform=\"scale(1 1) rotate(0) translate(4 529)\">\n",
       "<title>%3</title>\n",
       "<polygon fill=\"#ffffff\" stroke=\"transparent\" points=\"-4,4 -4,-529 362,-529 362,4 -4,4\"/>\n",
       "<!-- 0 -->\n",
       "<g id=\"node1\" class=\"node\">\n",
       "<title>0</title>\n",
       "<text text-anchor=\"middle\" x=\"172.5\" y=\"-513.8\" font-family=\"Times,serif\" font-size=\"14.00\" fill=\"#000000\">&lt;start&gt;</text>\n",
       "</g>\n",
       "<!-- 1 -->\n",
       "<g id=\"node2\" class=\"node\">\n",
       "<title>1</title>\n",
       "<text text-anchor=\"middle\" x=\"172.5\" y=\"-462.8\" font-family=\"Times,serif\" font-size=\"14.00\" fill=\"#000000\">&lt;expr&gt;</text>\n",
       "</g>\n",
       "<!-- 0&#45;&gt;1 -->\n",
       "<g id=\"edge1\" class=\"edge\">\n",
       "<title>0&#45;&gt;1</title>\n",
       "<path fill=\"none\" stroke=\"#000000\" d=\"M172.5,-509.9748C172.5,-503.195 172.5,-492.966 172.5,-484.1331\"/>\n",
       "<polygon fill=\"#000000\" stroke=\"#000000\" points=\"176.0001,-484.0561 172.5,-474.0561 169.0001,-484.0561 176.0001,-484.0561\"/>\n",
       "</g>\n",
       "<!-- 2 -->\n",
       "<g id=\"node3\" class=\"node\">\n",
       "<title>2</title>\n",
       "<text text-anchor=\"middle\" x=\"106.5\" y=\"-411.8\" font-family=\"Times,serif\" font-size=\"14.00\" fill=\"#000000\">&lt;expr&gt;</text>\n",
       "</g>\n",
       "<!-- 1&#45;&gt;2 -->\n",
       "<g id=\"edge2\" class=\"edge\">\n",
       "<title>1&#45;&gt;2</title>\n",
       "<path fill=\"none\" stroke=\"#000000\" d=\"M162.7615,-458.9748C152.7203,-451.2157 136.8329,-438.939 124.498,-429.4075\"/>\n",
       "<polygon fill=\"#000000\" stroke=\"#000000\" points=\"126.3314,-426.4011 116.2785,-423.0561 122.0513,-431.9401 126.3314,-426.4011\"/>\n",
       "</g>\n",
       "<!-- 15 -->\n",
       "<g id=\"node16\" class=\"node\">\n",
       "<title>15</title>\n",
       "<text text-anchor=\"middle\" x=\"172.5\" y=\"-411.8\" font-family=\"Times,serif\" font-size=\"14.00\" fill=\"#000000\"> + </text>\n",
       "</g>\n",
       "<!-- 1&#45;&gt;15 -->\n",
       "<g id=\"edge15\" class=\"edge\">\n",
       "<title>1&#45;&gt;15</title>\n",
       "<path fill=\"none\" stroke=\"#000000\" d=\"M172.5,-458.9748C172.5,-452.195 172.5,-441.966 172.5,-433.1331\"/>\n",
       "<polygon fill=\"#000000\" stroke=\"#000000\" points=\"176.0001,-433.0561 172.5,-423.0561 169.0001,-433.0561 176.0001,-433.0561\"/>\n",
       "</g>\n",
       "<!-- 16 -->\n",
       "<g id=\"node17\" class=\"node\">\n",
       "<title>16</title>\n",
       "<text text-anchor=\"middle\" x=\"229.5\" y=\"-411.8\" font-family=\"Times,serif\" font-size=\"14.00\" fill=\"#000000\">&lt;term&gt;</text>\n",
       "</g>\n",
       "<!-- 1&#45;&gt;16 -->\n",
       "<g id=\"edge16\" class=\"edge\">\n",
       "<title>1&#45;&gt;16</title>\n",
       "<path fill=\"none\" stroke=\"#000000\" d=\"M180.9105,-458.9748C189.4141,-451.3663 202.7725,-439.4141 213.3323,-429.9658\"/>\n",
       "<polygon fill=\"#000000\" stroke=\"#000000\" points=\"215.9363,-432.3324 221.0549,-423.0561 211.2687,-427.1157 215.9363,-432.3324\"/>\n",
       "</g>\n",
       "<!-- 3 -->\n",
       "<g id=\"node4\" class=\"node\">\n",
       "<title>3</title>\n",
       "<text text-anchor=\"middle\" x=\"27.5\" y=\"-360.8\" font-family=\"Times,serif\" font-size=\"14.00\" fill=\"#000000\">&lt;term&gt;</text>\n",
       "</g>\n",
       "<!-- 2&#45;&gt;3 -->\n",
       "<g id=\"edge3\" class=\"edge\">\n",
       "<title>2&#45;&gt;3</title>\n",
       "<path fill=\"none\" stroke=\"#000000\" d=\"M94.8433,-407.9748C82.4742,-399.9897 62.6938,-387.22 47.764,-377.5818\"/>\n",
       "<polygon fill=\"#000000\" stroke=\"#000000\" points=\"49.5043,-374.5393 39.2045,-372.0561 45.7077,-380.4203 49.5043,-374.5393\"/>\n",
       "</g>\n",
       "<!-- 8 -->\n",
       "<g id=\"node9\" class=\"node\">\n",
       "<title>8</title>\n",
       "<text text-anchor=\"middle\" x=\"72.5\" y=\"-360.8\" font-family=\"Times,serif\" font-size=\"14.00\" fill=\"#000000\"> &#45; </text>\n",
       "</g>\n",
       "<!-- 2&#45;&gt;8 -->\n",
       "<g id=\"edge8\" class=\"edge\">\n",
       "<title>2&#45;&gt;8</title>\n",
       "<path fill=\"none\" stroke=\"#000000\" d=\"M101.4832,-407.9748C96.662,-400.743 89.2246,-389.5868 83.0911,-380.3866\"/>\n",
       "<polygon fill=\"#000000\" stroke=\"#000000\" points=\"85.9966,-378.4352 77.5374,-372.0561 80.1723,-382.3181 85.9966,-378.4352\"/>\n",
       "</g>\n",
       "<!-- 9 -->\n",
       "<g id=\"node10\" class=\"node\">\n",
       "<title>9</title>\n",
       "<text text-anchor=\"middle\" x=\"117.5\" y=\"-360.8\" font-family=\"Times,serif\" font-size=\"14.00\" fill=\"#000000\">&lt;expr&gt;</text>\n",
       "</g>\n",
       "<!-- 2&#45;&gt;9 -->\n",
       "<g id=\"edge9\" class=\"edge\">\n",
       "<title>2&#45;&gt;9</title>\n",
       "<path fill=\"none\" stroke=\"#000000\" d=\"M108.1231,-407.9748C109.6016,-401.1196 111.8408,-390.7383 113.7602,-381.8392\"/>\n",
       "<polygon fill=\"#000000\" stroke=\"#000000\" points=\"117.1831,-382.5693 115.8703,-372.0561 110.3405,-381.0934 117.1831,-382.5693\"/>\n",
       "</g>\n",
       "<!-- 4 -->\n",
       "<g id=\"node5\" class=\"node\">\n",
       "<title>4</title>\n",
       "<text text-anchor=\"middle\" x=\"27.5\" y=\"-309.8\" font-family=\"Times,serif\" font-size=\"14.00\" fill=\"#000000\">&lt;factor&gt;</text>\n",
       "</g>\n",
       "<!-- 3&#45;&gt;4 -->\n",
       "<g id=\"edge4\" class=\"edge\">\n",
       "<title>3&#45;&gt;4</title>\n",
       "<path fill=\"none\" stroke=\"#000000\" d=\"M27.5,-356.9748C27.5,-350.195 27.5,-339.966 27.5,-331.1331\"/>\n",
       "<polygon fill=\"#000000\" stroke=\"#000000\" points=\"31.0001,-331.0561 27.5,-321.0561 24.0001,-331.0561 31.0001,-331.0561\"/>\n",
       "</g>\n",
       "<!-- 5 -->\n",
       "<g id=\"node6\" class=\"node\">\n",
       "<title>5</title>\n",
       "<text text-anchor=\"middle\" x=\"27.5\" y=\"-258.8\" font-family=\"Times,serif\" font-size=\"14.00\" fill=\"#000000\">&lt;integer&gt;</text>\n",
       "</g>\n",
       "<!-- 4&#45;&gt;5 -->\n",
       "<g id=\"edge5\" class=\"edge\">\n",
       "<title>4&#45;&gt;5</title>\n",
       "<path fill=\"none\" stroke=\"#000000\" d=\"M27.5,-305.9748C27.5,-299.195 27.5,-288.966 27.5,-280.1331\"/>\n",
       "<polygon fill=\"#000000\" stroke=\"#000000\" points=\"31.0001,-280.0561 27.5,-270.0561 24.0001,-280.0561 31.0001,-280.0561\"/>\n",
       "</g>\n",
       "<!-- 6 -->\n",
       "<g id=\"node7\" class=\"node\">\n",
       "<title>6</title>\n",
       "<text text-anchor=\"middle\" x=\"27.5\" y=\"-207.8\" font-family=\"Times,serif\" font-size=\"14.00\" fill=\"#000000\">&lt;digit&gt;</text>\n",
       "</g>\n",
       "<!-- 5&#45;&gt;6 -->\n",
       "<g id=\"edge6\" class=\"edge\">\n",
       "<title>5&#45;&gt;6</title>\n",
       "<path fill=\"none\" stroke=\"#000000\" d=\"M27.5,-254.9748C27.5,-248.195 27.5,-237.966 27.5,-229.1331\"/>\n",
       "<polygon fill=\"#000000\" stroke=\"#000000\" points=\"31.0001,-229.0561 27.5,-219.0561 24.0001,-229.0561 31.0001,-229.0561\"/>\n",
       "</g>\n",
       "<!-- 7 -->\n",
       "<g id=\"node8\" class=\"node\">\n",
       "<title>7</title>\n",
       "<text text-anchor=\"middle\" x=\"27.5\" y=\"-156.8\" font-family=\"Times,serif\" font-size=\"14.00\" fill=\"#000000\">1</text>\n",
       "</g>\n",
       "<!-- 6&#45;&gt;7 -->\n",
       "<g id=\"edge7\" class=\"edge\">\n",
       "<title>6&#45;&gt;7</title>\n",
       "<path fill=\"none\" stroke=\"#000000\" d=\"M27.5,-203.9748C27.5,-197.195 27.5,-186.966 27.5,-178.1331\"/>\n",
       "<polygon fill=\"#000000\" stroke=\"#000000\" points=\"31.0001,-178.0561 27.5,-168.0561 24.0001,-178.0561 31.0001,-178.0561\"/>\n",
       "</g>\n",
       "<!-- 10 -->\n",
       "<g id=\"node11\" class=\"node\">\n",
       "<title>10</title>\n",
       "<text text-anchor=\"middle\" x=\"112.5\" y=\"-309.8\" font-family=\"Times,serif\" font-size=\"14.00\" fill=\"#000000\">&lt;term&gt;</text>\n",
       "</g>\n",
       "<!-- 9&#45;&gt;10 -->\n",
       "<g id=\"edge10\" class=\"edge\">\n",
       "<title>9&#45;&gt;10</title>\n",
       "<path fill=\"none\" stroke=\"#000000\" d=\"M116.7622,-356.9748C116.0975,-350.195 115.0947,-339.966 114.2287,-331.1331\"/>\n",
       "<polygon fill=\"#000000\" stroke=\"#000000\" points=\"117.6999,-330.6669 113.2408,-321.0561 110.7333,-331.3499 117.6999,-330.6669\"/>\n",
       "</g>\n",
       "<!-- 11 -->\n",
       "<g id=\"node12\" class=\"node\">\n",
       "<title>11</title>\n",
       "<text text-anchor=\"middle\" x=\"107.5\" y=\"-258.8\" font-family=\"Times,serif\" font-size=\"14.00\" fill=\"#000000\">&lt;factor&gt;</text>\n",
       "</g>\n",
       "<!-- 10&#45;&gt;11 -->\n",
       "<g id=\"edge11\" class=\"edge\">\n",
       "<title>10&#45;&gt;11</title>\n",
       "<path fill=\"none\" stroke=\"#000000\" d=\"M111.7622,-305.9748C111.0975,-299.195 110.0947,-288.966 109.2287,-280.1331\"/>\n",
       "<polygon fill=\"#000000\" stroke=\"#000000\" points=\"112.6999,-279.6669 108.2408,-270.0561 105.7333,-280.3499 112.6999,-279.6669\"/>\n",
       "</g>\n",
       "<!-- 12 -->\n",
       "<g id=\"node13\" class=\"node\">\n",
       "<title>12</title>\n",
       "<text text-anchor=\"middle\" x=\"106.5\" y=\"-207.8\" font-family=\"Times,serif\" font-size=\"14.00\" fill=\"#000000\">&lt;integer&gt;</text>\n",
       "</g>\n",
       "<!-- 11&#45;&gt;12 -->\n",
       "<g id=\"edge12\" class=\"edge\">\n",
       "<title>11&#45;&gt;12</title>\n",
       "<path fill=\"none\" stroke=\"#000000\" d=\"M107.3524,-254.9748C107.2195,-248.195 107.0189,-237.966 106.8457,-229.1331\"/>\n",
       "<polygon fill=\"#000000\" stroke=\"#000000\" points=\"110.3436,-228.9855 106.6482,-219.0561 103.345,-229.1228 110.3436,-228.9855\"/>\n",
       "</g>\n",
       "<!-- 13 -->\n",
       "<g id=\"node14\" class=\"node\">\n",
       "<title>13</title>\n",
       "<text text-anchor=\"middle\" x=\"106.5\" y=\"-156.8\" font-family=\"Times,serif\" font-size=\"14.00\" fill=\"#000000\">&lt;digit&gt;</text>\n",
       "</g>\n",
       "<!-- 12&#45;&gt;13 -->\n",
       "<g id=\"edge13\" class=\"edge\">\n",
       "<title>12&#45;&gt;13</title>\n",
       "<path fill=\"none\" stroke=\"#000000\" d=\"M106.5,-203.9748C106.5,-197.195 106.5,-186.966 106.5,-178.1331\"/>\n",
       "<polygon fill=\"#000000\" stroke=\"#000000\" points=\"110.0001,-178.0561 106.5,-168.0561 103.0001,-178.0561 110.0001,-178.0561\"/>\n",
       "</g>\n",
       "<!-- 14 -->\n",
       "<g id=\"node15\" class=\"node\">\n",
       "<title>14</title>\n",
       "<text text-anchor=\"middle\" x=\"106.5\" y=\"-105.8\" font-family=\"Times,serif\" font-size=\"14.00\" fill=\"#000000\">4</text>\n",
       "</g>\n",
       "<!-- 13&#45;&gt;14 -->\n",
       "<g id=\"edge14\" class=\"edge\">\n",
       "<title>13&#45;&gt;14</title>\n",
       "<path fill=\"none\" stroke=\"#000000\" d=\"M106.5,-152.9748C106.5,-146.195 106.5,-135.966 106.5,-127.1331\"/>\n",
       "<polygon fill=\"#000000\" stroke=\"#000000\" points=\"110.0001,-127.0561 106.5,-117.0561 103.0001,-127.0561 110.0001,-127.0561\"/>\n",
       "</g>\n",
       "<!-- 17 -->\n",
       "<g id=\"node18\" class=\"node\">\n",
       "<title>17</title>\n",
       "<text text-anchor=\"middle\" x=\"219.5\" y=\"-360.8\" font-family=\"Times,serif\" font-size=\"14.00\" fill=\"#000000\">&lt;factor&gt;</text>\n",
       "</g>\n",
       "<!-- 16&#45;&gt;17 -->\n",
       "<g id=\"edge17\" class=\"edge\">\n",
       "<title>16&#45;&gt;17</title>\n",
       "<path fill=\"none\" stroke=\"#000000\" d=\"M228.0245,-407.9748C226.6951,-401.195 224.6894,-390.966 222.9575,-382.1331\"/>\n",
       "<polygon fill=\"#000000\" stroke=\"#000000\" points=\"226.3404,-381.1958 220.9816,-372.0561 219.4712,-382.5427 226.3404,-381.1958\"/>\n",
       "</g>\n",
       "<!-- 33 -->\n",
       "<g id=\"node34\" class=\"node\">\n",
       "<title>33</title>\n",
       "<text text-anchor=\"middle\" x=\"267.5\" y=\"-360.8\" font-family=\"Times,serif\" font-size=\"14.00\" fill=\"#000000\"> / </text>\n",
       "</g>\n",
       "<!-- 16&#45;&gt;33 -->\n",
       "<g id=\"edge33\" class=\"edge\">\n",
       "<title>16&#45;&gt;33</title>\n",
       "<path fill=\"none\" stroke=\"#000000\" d=\"M235.107,-407.9748C240.5516,-400.6677 248.9813,-389.354 255.8767,-380.0997\"/>\n",
       "<polygon fill=\"#000000\" stroke=\"#000000\" points=\"258.7017,-382.1661 261.87,-372.0561 253.0885,-377.9837 258.7017,-382.1661\"/>\n",
       "</g>\n",
       "<!-- 34 -->\n",
       "<g id=\"node35\" class=\"node\">\n",
       "<title>34</title>\n",
       "<text text-anchor=\"middle\" x=\"321.5\" y=\"-360.8\" font-family=\"Times,serif\" font-size=\"14.00\" fill=\"#000000\">&lt;term&gt;</text>\n",
       "</g>\n",
       "<!-- 16&#45;&gt;34 -->\n",
       "<g id=\"edge34\" class=\"edge\">\n",
       "<title>16&#45;&gt;34</title>\n",
       "<path fill=\"none\" stroke=\"#000000\" d=\"M243.0749,-407.9748C257.7512,-399.839 281.3871,-386.7365 298.8794,-377.0397\"/>\n",
       "<polygon fill=\"#000000\" stroke=\"#000000\" points=\"300.8203,-379.9656 307.8694,-372.0561 297.4264,-373.8434 300.8203,-379.9656\"/>\n",
       "</g>\n",
       "<!-- 18 -->\n",
       "<g id=\"node19\" class=\"node\">\n",
       "<title>18</title>\n",
       "<text text-anchor=\"middle\" x=\"178.5\" y=\"-309.8\" font-family=\"Times,serif\" font-size=\"14.00\" fill=\"#000000\">(</text>\n",
       "</g>\n",
       "<!-- 17&#45;&gt;18 -->\n",
       "<g id=\"edge18\" class=\"edge\">\n",
       "<title>17&#45;&gt;18</title>\n",
       "<path fill=\"none\" stroke=\"#000000\" d=\"M213.4503,-356.9748C206.6341,-348.4961 195.4814,-334.6232 187.6104,-324.8324\"/>\n",
       "<polygon fill=\"#000000\" stroke=\"#000000\" points=\"190.1088,-322.3541 181.1154,-316.7533 184.6531,-326.74 190.1088,-322.3541\"/>\n",
       "</g>\n",
       "<!-- 19 -->\n",
       "<g id=\"node20\" class=\"node\">\n",
       "<title>19</title>\n",
       "<text text-anchor=\"middle\" x=\"219.5\" y=\"-309.8\" font-family=\"Times,serif\" font-size=\"14.00\" fill=\"#000000\">&lt;expr&gt;</text>\n",
       "</g>\n",
       "<!-- 17&#45;&gt;19 -->\n",
       "<g id=\"edge19\" class=\"edge\">\n",
       "<title>17&#45;&gt;19</title>\n",
       "<path fill=\"none\" stroke=\"#000000\" d=\"M219.5,-356.9748C219.5,-350.195 219.5,-339.966 219.5,-331.1331\"/>\n",
       "<polygon fill=\"#000000\" stroke=\"#000000\" points=\"223.0001,-331.0561 219.5,-321.0561 216.0001,-331.0561 223.0001,-331.0561\"/>\n",
       "</g>\n",
       "<!-- 32 -->\n",
       "<g id=\"node33\" class=\"node\">\n",
       "<title>32</title>\n",
       "<text text-anchor=\"middle\" x=\"260.5\" y=\"-309.8\" font-family=\"Times,serif\" font-size=\"14.00\" fill=\"#000000\">)</text>\n",
       "</g>\n",
       "<!-- 17&#45;&gt;32 -->\n",
       "<g id=\"edge32\" class=\"edge\">\n",
       "<title>17&#45;&gt;32</title>\n",
       "<path fill=\"none\" stroke=\"#000000\" d=\"M225.5497,-356.9748C232.3659,-348.4961 243.5186,-334.6232 251.3896,-324.8324\"/>\n",
       "<polygon fill=\"#000000\" stroke=\"#000000\" points=\"254.3469,-326.74 257.8846,-316.7533 248.8912,-322.3541 254.3469,-326.74\"/>\n",
       "</g>\n",
       "<!-- 20 -->\n",
       "<g id=\"node21\" class=\"node\">\n",
       "<title>20</title>\n",
       "<text text-anchor=\"middle\" x=\"174.5\" y=\"-258.8\" font-family=\"Times,serif\" font-size=\"14.00\" fill=\"#000000\">&lt;term&gt;</text>\n",
       "</g>\n",
       "<!-- 19&#45;&gt;20 -->\n",
       "<g id=\"edge20\" class=\"edge\">\n",
       "<title>19&#45;&gt;20</title>\n",
       "<path fill=\"none\" stroke=\"#000000\" d=\"M212.8601,-305.9748C206.3462,-298.5923 196.2238,-287.1203 188.0125,-277.8142\"/>\n",
       "<polygon fill=\"#000000\" stroke=\"#000000\" points=\"190.4078,-275.2388 181.1671,-270.0561 185.159,-279.8702 190.4078,-275.2388\"/>\n",
       "</g>\n",
       "<!-- 25 -->\n",
       "<g id=\"node26\" class=\"node\">\n",
       "<title>25</title>\n",
       "<text text-anchor=\"middle\" x=\"219.5\" y=\"-258.8\" font-family=\"Times,serif\" font-size=\"14.00\" fill=\"#000000\"> &#45; </text>\n",
       "</g>\n",
       "<!-- 19&#45;&gt;25 -->\n",
       "<g id=\"edge25\" class=\"edge\">\n",
       "<title>19&#45;&gt;25</title>\n",
       "<path fill=\"none\" stroke=\"#000000\" d=\"M219.5,-305.9748C219.5,-299.195 219.5,-288.966 219.5,-280.1331\"/>\n",
       "<polygon fill=\"#000000\" stroke=\"#000000\" points=\"223.0001,-280.0561 219.5,-270.0561 216.0001,-280.0561 223.0001,-280.0561\"/>\n",
       "</g>\n",
       "<!-- 26 -->\n",
       "<g id=\"node27\" class=\"node\">\n",
       "<title>26</title>\n",
       "<text text-anchor=\"middle\" x=\"264.5\" y=\"-258.8\" font-family=\"Times,serif\" font-size=\"14.00\" fill=\"#000000\">&lt;expr&gt;</text>\n",
       "</g>\n",
       "<!-- 19&#45;&gt;26 -->\n",
       "<g id=\"edge26\" class=\"edge\">\n",
       "<title>19&#45;&gt;26</title>\n",
       "<path fill=\"none\" stroke=\"#000000\" d=\"M226.1399,-305.9748C232.6538,-298.5923 242.7762,-287.1203 250.9875,-277.8142\"/>\n",
       "<polygon fill=\"#000000\" stroke=\"#000000\" points=\"253.841,-279.8702 257.8329,-270.0561 248.5922,-275.2388 253.841,-279.8702\"/>\n",
       "</g>\n",
       "<!-- 21 -->\n",
       "<g id=\"node22\" class=\"node\">\n",
       "<title>21</title>\n",
       "<text text-anchor=\"middle\" x=\"176.5\" y=\"-207.8\" font-family=\"Times,serif\" font-size=\"14.00\" fill=\"#000000\">&lt;factor&gt;</text>\n",
       "</g>\n",
       "<!-- 20&#45;&gt;21 -->\n",
       "<g id=\"edge21\" class=\"edge\">\n",
       "<title>20&#45;&gt;21</title>\n",
       "<path fill=\"none\" stroke=\"#000000\" d=\"M174.7951,-254.9748C175.061,-248.195 175.4621,-237.966 175.8085,-229.1331\"/>\n",
       "<polygon fill=\"#000000\" stroke=\"#000000\" points=\"179.309,-229.1856 176.2037,-219.0561 172.3144,-228.9112 179.309,-229.1856\"/>\n",
       "</g>\n",
       "<!-- 22 -->\n",
       "<g id=\"node23\" class=\"node\">\n",
       "<title>22</title>\n",
       "<text text-anchor=\"middle\" x=\"176.5\" y=\"-156.8\" font-family=\"Times,serif\" font-size=\"14.00\" fill=\"#000000\">&lt;integer&gt;</text>\n",
       "</g>\n",
       "<!-- 21&#45;&gt;22 -->\n",
       "<g id=\"edge22\" class=\"edge\">\n",
       "<title>21&#45;&gt;22</title>\n",
       "<path fill=\"none\" stroke=\"#000000\" d=\"M176.5,-203.9748C176.5,-197.195 176.5,-186.966 176.5,-178.1331\"/>\n",
       "<polygon fill=\"#000000\" stroke=\"#000000\" points=\"180.0001,-178.0561 176.5,-168.0561 173.0001,-178.0561 180.0001,-178.0561\"/>\n",
       "</g>\n",
       "<!-- 23 -->\n",
       "<g id=\"node24\" class=\"node\">\n",
       "<title>23</title>\n",
       "<text text-anchor=\"middle\" x=\"176.5\" y=\"-105.8\" font-family=\"Times,serif\" font-size=\"14.00\" fill=\"#000000\">&lt;digit&gt;</text>\n",
       "</g>\n",
       "<!-- 22&#45;&gt;23 -->\n",
       "<g id=\"edge23\" class=\"edge\">\n",
       "<title>22&#45;&gt;23</title>\n",
       "<path fill=\"none\" stroke=\"#000000\" d=\"M176.5,-152.9748C176.5,-146.195 176.5,-135.966 176.5,-127.1331\"/>\n",
       "<polygon fill=\"#000000\" stroke=\"#000000\" points=\"180.0001,-127.0561 176.5,-117.0561 173.0001,-127.0561 180.0001,-127.0561\"/>\n",
       "</g>\n",
       "<!-- 24 -->\n",
       "<g id=\"node25\" class=\"node\">\n",
       "<title>24</title>\n",
       "<text text-anchor=\"middle\" x=\"176.5\" y=\"-54.8\" font-family=\"Times,serif\" font-size=\"14.00\" fill=\"#000000\">6</text>\n",
       "</g>\n",
       "<!-- 23&#45;&gt;24 -->\n",
       "<g id=\"edge24\" class=\"edge\">\n",
       "<title>23&#45;&gt;24</title>\n",
       "<path fill=\"none\" stroke=\"#000000\" d=\"M176.5,-101.9748C176.5,-95.195 176.5,-84.966 176.5,-76.1331\"/>\n",
       "<polygon fill=\"#000000\" stroke=\"#000000\" points=\"180.0001,-76.0561 176.5,-66.0561 173.0001,-76.0561 180.0001,-76.0561\"/>\n",
       "</g>\n",
       "<!-- 27 -->\n",
       "<g id=\"node28\" class=\"node\">\n",
       "<title>27</title>\n",
       "<text text-anchor=\"middle\" x=\"264.5\" y=\"-207.8\" font-family=\"Times,serif\" font-size=\"14.00\" fill=\"#000000\">&lt;term&gt;</text>\n",
       "</g>\n",
       "<!-- 26&#45;&gt;27 -->\n",
       "<g id=\"edge27\" class=\"edge\">\n",
       "<title>26&#45;&gt;27</title>\n",
       "<path fill=\"none\" stroke=\"#000000\" d=\"M264.5,-254.9748C264.5,-248.195 264.5,-237.966 264.5,-229.1331\"/>\n",
       "<polygon fill=\"#000000\" stroke=\"#000000\" points=\"268.0001,-229.0561 264.5,-219.0561 261.0001,-229.0561 268.0001,-229.0561\"/>\n",
       "</g>\n",
       "<!-- 28 -->\n",
       "<g id=\"node29\" class=\"node\">\n",
       "<title>28</title>\n",
       "<text text-anchor=\"middle\" x=\"264.5\" y=\"-156.8\" font-family=\"Times,serif\" font-size=\"14.00\" fill=\"#000000\">&lt;factor&gt;</text>\n",
       "</g>\n",
       "<!-- 27&#45;&gt;28 -->\n",
       "<g id=\"edge28\" class=\"edge\">\n",
       "<title>27&#45;&gt;28</title>\n",
       "<path fill=\"none\" stroke=\"#000000\" d=\"M264.5,-203.9748C264.5,-197.195 264.5,-186.966 264.5,-178.1331\"/>\n",
       "<polygon fill=\"#000000\" stroke=\"#000000\" points=\"268.0001,-178.0561 264.5,-168.0561 261.0001,-178.0561 268.0001,-178.0561\"/>\n",
       "</g>\n",
       "<!-- 29 -->\n",
       "<g id=\"node30\" class=\"node\">\n",
       "<title>29</title>\n",
       "<text text-anchor=\"middle\" x=\"264.5\" y=\"-105.8\" font-family=\"Times,serif\" font-size=\"14.00\" fill=\"#000000\">&lt;integer&gt;</text>\n",
       "</g>\n",
       "<!-- 28&#45;&gt;29 -->\n",
       "<g id=\"edge29\" class=\"edge\">\n",
       "<title>28&#45;&gt;29</title>\n",
       "<path fill=\"none\" stroke=\"#000000\" d=\"M264.5,-152.9748C264.5,-146.195 264.5,-135.966 264.5,-127.1331\"/>\n",
       "<polygon fill=\"#000000\" stroke=\"#000000\" points=\"268.0001,-127.0561 264.5,-117.0561 261.0001,-127.0561 268.0001,-127.0561\"/>\n",
       "</g>\n",
       "<!-- 30 -->\n",
       "<g id=\"node31\" class=\"node\">\n",
       "<title>30</title>\n",
       "<text text-anchor=\"middle\" x=\"264.5\" y=\"-54.8\" font-family=\"Times,serif\" font-size=\"14.00\" fill=\"#000000\">&lt;digit&gt;</text>\n",
       "</g>\n",
       "<!-- 29&#45;&gt;30 -->\n",
       "<g id=\"edge30\" class=\"edge\">\n",
       "<title>29&#45;&gt;30</title>\n",
       "<path fill=\"none\" stroke=\"#000000\" d=\"M264.5,-101.9748C264.5,-95.195 264.5,-84.966 264.5,-76.1331\"/>\n",
       "<polygon fill=\"#000000\" stroke=\"#000000\" points=\"268.0001,-76.0561 264.5,-66.0561 261.0001,-76.0561 268.0001,-76.0561\"/>\n",
       "</g>\n",
       "<!-- 31 -->\n",
       "<g id=\"node32\" class=\"node\">\n",
       "<title>31</title>\n",
       "<text text-anchor=\"middle\" x=\"264.5\" y=\"-3.8\" font-family=\"Times,serif\" font-size=\"14.00\" fill=\"#000000\">2</text>\n",
       "</g>\n",
       "<!-- 30&#45;&gt;31 -->\n",
       "<g id=\"edge31\" class=\"edge\">\n",
       "<title>30&#45;&gt;31</title>\n",
       "<path fill=\"none\" stroke=\"#000000\" d=\"M264.5,-50.9748C264.5,-44.195 264.5,-33.966 264.5,-25.1331\"/>\n",
       "<polygon fill=\"#000000\" stroke=\"#000000\" points=\"268.0001,-25.0561 264.5,-15.0561 261.0001,-25.0561 268.0001,-25.0561\"/>\n",
       "</g>\n",
       "<!-- 35 -->\n",
       "<g id=\"node36\" class=\"node\">\n",
       "<title>35</title>\n",
       "<text text-anchor=\"middle\" x=\"325.5\" y=\"-309.8\" font-family=\"Times,serif\" font-size=\"14.00\" fill=\"#000000\">&lt;factor&gt;</text>\n",
       "</g>\n",
       "<!-- 34&#45;&gt;35 -->\n",
       "<g id=\"edge35\" class=\"edge\">\n",
       "<title>34&#45;&gt;35</title>\n",
       "<path fill=\"none\" stroke=\"#000000\" d=\"M322.0902,-356.9748C322.622,-350.195 323.4242,-339.966 324.117,-331.1331\"/>\n",
       "<polygon fill=\"#000000\" stroke=\"#000000\" points=\"327.6146,-331.2992 324.9074,-321.0561 320.6361,-330.7518 327.6146,-331.2992\"/>\n",
       "</g>\n",
       "<!-- 36 -->\n",
       "<g id=\"node37\" class=\"node\">\n",
       "<title>36</title>\n",
       "<text text-anchor=\"middle\" x=\"330.5\" y=\"-258.8\" font-family=\"Times,serif\" font-size=\"14.00\" fill=\"#000000\">&lt;integer&gt;</text>\n",
       "</g>\n",
       "<!-- 35&#45;&gt;36 -->\n",
       "<g id=\"edge36\" class=\"edge\">\n",
       "<title>35&#45;&gt;36</title>\n",
       "<path fill=\"none\" stroke=\"#000000\" d=\"M326.2378,-305.9748C326.9025,-299.195 327.9053,-288.966 328.7713,-280.1331\"/>\n",
       "<polygon fill=\"#000000\" stroke=\"#000000\" points=\"332.2667,-280.3499 329.7592,-270.0561 325.3001,-279.6669 332.2667,-280.3499\"/>\n",
       "</g>\n",
       "<!-- 37 -->\n",
       "<g id=\"node38\" class=\"node\">\n",
       "<title>37</title>\n",
       "<text text-anchor=\"middle\" x=\"330.5\" y=\"-207.8\" font-family=\"Times,serif\" font-size=\"14.00\" fill=\"#000000\">&lt;digit&gt;</text>\n",
       "</g>\n",
       "<!-- 36&#45;&gt;37 -->\n",
       "<g id=\"edge37\" class=\"edge\">\n",
       "<title>36&#45;&gt;37</title>\n",
       "<path fill=\"none\" stroke=\"#000000\" d=\"M330.5,-254.9748C330.5,-248.195 330.5,-237.966 330.5,-229.1331\"/>\n",
       "<polygon fill=\"#000000\" stroke=\"#000000\" points=\"334.0001,-229.0561 330.5,-219.0561 327.0001,-229.0561 334.0001,-229.0561\"/>\n",
       "</g>\n",
       "<!-- 38 -->\n",
       "<g id=\"node39\" class=\"node\">\n",
       "<title>38</title>\n",
       "<text text-anchor=\"middle\" x=\"330.5\" y=\"-156.8\" font-family=\"Times,serif\" font-size=\"14.00\" fill=\"#000000\">5</text>\n",
       "</g>\n",
       "<!-- 37&#45;&gt;38 -->\n",
       "<g id=\"edge38\" class=\"edge\">\n",
       "<title>37&#45;&gt;38</title>\n",
       "<path fill=\"none\" stroke=\"#000000\" d=\"M330.5,-203.9748C330.5,-197.195 330.5,-186.966 330.5,-178.1331\"/>\n",
       "<polygon fill=\"#000000\" stroke=\"#000000\" points=\"334.0001,-178.0561 330.5,-168.0561 327.0001,-178.0561 334.0001,-178.0561\"/>\n",
       "</g>\n",
       "</g>\n",
       "</svg>\n"
      ],
      "text/plain": [
       "<graphviz.dot.Digraph at 0x115fc08d0>"
      ]
     },
     "metadata": {},
     "output_type": "display_data"
    }
   ],
   "source": [
    "display_tree(derivation_tree)"
   ]
  },
  {
   "cell_type": "code",
   "execution_count": 76,
   "metadata": {
    "button": false,
    "new_sheet": false,
    "run_control": {
     "read_only": false
    },
    "slideshow": {
     "slide_type": "subslide"
    }
   },
   "outputs": [
    {
     "data": {
      "text/plain": [
       "'1 - 4 + (6 - 2) / 5'"
      ]
     },
     "execution_count": 76,
     "metadata": {},
     "output_type": "execute_result"
    }
   ],
   "source": [
    "all_terminals(derivation_tree)"
   ]
  },
  {
   "cell_type": "markdown",
   "metadata": {
    "slideshow": {
     "slide_type": "slide"
    }
   },
   "source": [
    "## Putting it all Together"
   ]
  },
  {
   "cell_type": "markdown",
   "metadata": {
    "button": false,
    "new_sheet": false,
    "run_control": {
     "read_only": false
    },
    "slideshow": {
     "slide_type": "fragment"
    }
   },
   "source": [
    "Based on this, we can now define a function `fuzz()` that – like `simple_grammar_fuzzer()` – simply takes a grammar and produces a string from it.  It thus no longer exposes the complexity of derivation trees."
   ]
  },
  {
   "cell_type": "code",
   "execution_count": 77,
   "metadata": {
    "button": false,
    "new_sheet": false,
    "run_control": {
     "read_only": false
    },
    "slideshow": {
     "slide_type": "fragment"
    }
   },
   "outputs": [],
   "source": [
    "class GrammarFuzzer(GrammarFuzzer):\n",
    "    def fuzz_tree(self):\n",
    "        # Create an initial derivation tree\n",
    "        tree = self.init_tree()\n",
    "        # print(tree)\n",
    "\n",
    "        # Expand all nonterminals\n",
    "        tree = self.expand_tree(tree)\n",
    "        if self.log:\n",
    "            print(repr(all_terminals(tree)))\n",
    "        if self.disp:\n",
    "            display_tree(tree)\n",
    "        return tree\n",
    "\n",
    "    def fuzz(self):\n",
    "        self.derivation_tree = self.fuzz_tree()\n",
    "        return all_terminals(self.derivation_tree)"
   ]
  },
  {
   "cell_type": "markdown",
   "metadata": {
    "button": false,
    "new_sheet": false,
    "run_control": {
     "read_only": false
    },
    "slideshow": {
     "slide_type": "subslide"
    }
   },
   "source": [
    "We can now apply this on all our defined grammars (and visualize the derivation tree along)"
   ]
  },
  {
   "cell_type": "code",
   "execution_count": 78,
   "metadata": {
    "button": false,
    "new_sheet": false,
    "run_control": {
     "read_only": false
    },
    "slideshow": {
     "slide_type": "fragment"
    }
   },
   "outputs": [
    {
     "data": {
      "text/plain": [
       "'6.410 - -1 * -63 * (9.7 - -4 / 6 * 7 - 4 + 0) / -0 * (1 * 1 / 1 + 1) / 0'"
      ]
     },
     "execution_count": 78,
     "metadata": {},
     "output_type": "execute_result"
    }
   ],
   "source": [
    "f = GrammarFuzzer(EXPR_GRAMMAR)\n",
    "f.fuzz()"
   ]
  },
  {
   "cell_type": "markdown",
   "metadata": {
    "slideshow": {
     "slide_type": "subslide"
    }
   },
   "source": [
    "After calling `fuzz()`, the produced derivation tree is accessible in the `derivation_tree` attribute:"
   ]
  },
  {
   "cell_type": "code",
   "execution_count": 79,
   "metadata": {
    "button": false,
    "new_sheet": false,
    "run_control": {
     "read_only": false
    },
    "slideshow": {
     "slide_type": "fragment"
    }
   },
   "outputs": [
    {
     "data": {
      "image/svg+xml": [
       "<?xml version=\"1.0\" encoding=\"UTF-8\" standalone=\"no\"?>\n",
       "<!DOCTYPE svg PUBLIC \"-//W3C//DTD SVG 1.1//EN\"\n",
       " \"http://www.w3.org/Graphics/SVG/1.1/DTD/svg11.dtd\">\n",
       "<!-- Generated by graphviz version 2.40.1 (20161225.0304)\n",
       " -->\n",
       "<!-- Title: %3 Pages: 1 -->\n",
       "<svg width=\"1170pt\" height=\"839pt\"\n",
       " viewBox=\"0.00 0.00 1169.50 839.00\" xmlns=\"http://www.w3.org/2000/svg\" xmlns:xlink=\"http://www.w3.org/1999/xlink\">\n",
       "<g id=\"graph0\" class=\"graph\" transform=\"scale(1 1) rotate(0) translate(4 835)\">\n",
       "<title>%3</title>\n",
       "<polygon fill=\"#ffffff\" stroke=\"transparent\" points=\"-4,4 -4,-835 1165.5,-835 1165.5,4 -4,4\"/>\n",
       "<!-- 0 -->\n",
       "<g id=\"node1\" class=\"node\">\n",
       "<title>0</title>\n",
       "<text text-anchor=\"middle\" x=\"183\" y=\"-819.8\" font-family=\"Times,serif\" font-size=\"14.00\" fill=\"#000000\">&lt;start&gt;</text>\n",
       "</g>\n",
       "<!-- 1 -->\n",
       "<g id=\"node2\" class=\"node\">\n",
       "<title>1</title>\n",
       "<text text-anchor=\"middle\" x=\"183\" y=\"-768.8\" font-family=\"Times,serif\" font-size=\"14.00\" fill=\"#000000\">&lt;expr&gt;</text>\n",
       "</g>\n",
       "<!-- 0&#45;&gt;1 -->\n",
       "<g id=\"edge1\" class=\"edge\">\n",
       "<title>0&#45;&gt;1</title>\n",
       "<path fill=\"none\" stroke=\"#000000\" d=\"M183,-815.9748C183,-809.195 183,-798.966 183,-790.1331\"/>\n",
       "<polygon fill=\"#000000\" stroke=\"#000000\" points=\"186.5001,-790.0561 183,-780.0561 179.5001,-790.0561 186.5001,-790.0561\"/>\n",
       "</g>\n",
       "<!-- 2 -->\n",
       "<g id=\"node3\" class=\"node\">\n",
       "<title>2</title>\n",
       "<text text-anchor=\"middle\" x=\"124\" y=\"-717.8\" font-family=\"Times,serif\" font-size=\"14.00\" fill=\"#000000\">&lt;term&gt;</text>\n",
       "</g>\n",
       "<!-- 1&#45;&gt;2 -->\n",
       "<g id=\"edge2\" class=\"edge\">\n",
       "<title>1&#45;&gt;2</title>\n",
       "<path fill=\"none\" stroke=\"#000000\" d=\"M174.2943,-764.9748C165.4053,-757.291 151.391,-745.177 140.4111,-735.6859\"/>\n",
       "<polygon fill=\"#000000\" stroke=\"#000000\" points=\"142.5956,-732.9478 132.7414,-729.0561 138.0179,-738.2435 142.5956,-732.9478\"/>\n",
       "</g>\n",
       "<!-- 17 -->\n",
       "<g id=\"node18\" class=\"node\">\n",
       "<title>17</title>\n",
       "<text text-anchor=\"middle\" x=\"183\" y=\"-717.8\" font-family=\"Times,serif\" font-size=\"14.00\" fill=\"#000000\"> &#45; </text>\n",
       "</g>\n",
       "<!-- 1&#45;&gt;17 -->\n",
       "<g id=\"edge17\" class=\"edge\">\n",
       "<title>1&#45;&gt;17</title>\n",
       "<path fill=\"none\" stroke=\"#000000\" d=\"M183,-764.9748C183,-758.195 183,-747.966 183,-739.1331\"/>\n",
       "<polygon fill=\"#000000\" stroke=\"#000000\" points=\"186.5001,-739.0561 183,-729.0561 179.5001,-739.0561 186.5001,-739.0561\"/>\n",
       "</g>\n",
       "<!-- 18 -->\n",
       "<g id=\"node19\" class=\"node\">\n",
       "<title>18</title>\n",
       "<text text-anchor=\"middle\" x=\"235\" y=\"-717.8\" font-family=\"Times,serif\" font-size=\"14.00\" fill=\"#000000\">&lt;expr&gt;</text>\n",
       "</g>\n",
       "<!-- 1&#45;&gt;18 -->\n",
       "<g id=\"edge18\" class=\"edge\">\n",
       "<title>1&#45;&gt;18</title>\n",
       "<path fill=\"none\" stroke=\"#000000\" d=\"M190.6728,-764.9748C198.3536,-757.4417 210.3761,-745.6503 219.9637,-736.2472\"/>\n",
       "<polygon fill=\"#000000\" stroke=\"#000000\" points=\"222.6071,-738.557 227.2957,-729.0561 217.7056,-733.5594 222.6071,-738.557\"/>\n",
       "</g>\n",
       "<!-- 3 -->\n",
       "<g id=\"node4\" class=\"node\">\n",
       "<title>3</title>\n",
       "<text text-anchor=\"middle\" x=\"96\" y=\"-666.8\" font-family=\"Times,serif\" font-size=\"14.00\" fill=\"#000000\">&lt;factor&gt;</text>\n",
       "</g>\n",
       "<!-- 2&#45;&gt;3 -->\n",
       "<g id=\"edge3\" class=\"edge\">\n",
       "<title>2&#45;&gt;3</title>\n",
       "<path fill=\"none\" stroke=\"#000000\" d=\"M119.8685,-713.9748C115.9808,-706.8936 110.0274,-696.05 105.0391,-686.9641\"/>\n",
       "<polygon fill=\"#000000\" stroke=\"#000000\" points=\"108.0291,-685.1375 100.1484,-678.0561 101.8931,-688.5063 108.0291,-685.1375\"/>\n",
       "</g>\n",
       "<!-- 4 -->\n",
       "<g id=\"node5\" class=\"node\">\n",
       "<title>4</title>\n",
       "<text text-anchor=\"middle\" x=\"41\" y=\"-615.8\" font-family=\"Times,serif\" font-size=\"14.00\" fill=\"#000000\">&lt;integer&gt;</text>\n",
       "</g>\n",
       "<!-- 3&#45;&gt;4 -->\n",
       "<g id=\"edge4\" class=\"edge\">\n",
       "<title>3&#45;&gt;4</title>\n",
       "<path fill=\"none\" stroke=\"#000000\" d=\"M87.8846,-662.9748C79.6794,-655.3663 66.7897,-643.4141 56.6004,-633.9658\"/>\n",
       "<polygon fill=\"#000000\" stroke=\"#000000\" points=\"58.8612,-631.2891 49.1487,-627.0561 54.1016,-636.422 58.8612,-631.2891\"/>\n",
       "</g>\n",
       "<!-- 7 -->\n",
       "<g id=\"node8\" class=\"node\">\n",
       "<title>7</title>\n",
       "<text text-anchor=\"middle\" x=\"93\" y=\"-615.8\" font-family=\"Times,serif\" font-size=\"14.00\" fill=\"#000000\">.</text>\n",
       "</g>\n",
       "<!-- 3&#45;&gt;7 -->\n",
       "<g id=\"edge7\" class=\"edge\">\n",
       "<title>3&#45;&gt;7</title>\n",
       "<path fill=\"none\" stroke=\"#000000\" d=\"M95.5573,-662.9748C95.1585,-656.195 94.5568,-645.966 94.0372,-637.1331\"/>\n",
       "<polygon fill=\"#000000\" stroke=\"#000000\" points=\"97.5258,-636.8333 93.4445,-627.0561 90.5378,-637.2444 97.5258,-636.8333\"/>\n",
       "</g>\n",
       "<!-- 8 -->\n",
       "<g id=\"node9\" class=\"node\">\n",
       "<title>8</title>\n",
       "<text text-anchor=\"middle\" x=\"141\" y=\"-615.8\" font-family=\"Times,serif\" font-size=\"14.00\" fill=\"#000000\">&lt;integer&gt;</text>\n",
       "</g>\n",
       "<!-- 3&#45;&gt;8 -->\n",
       "<g id=\"edge8\" class=\"edge\">\n",
       "<title>3&#45;&gt;8</title>\n",
       "<path fill=\"none\" stroke=\"#000000\" d=\"M102.6399,-662.9748C109.1538,-655.5923 119.2762,-644.1203 127.4875,-634.8142\"/>\n",
       "<polygon fill=\"#000000\" stroke=\"#000000\" points=\"130.341,-636.8702 134.3329,-627.0561 125.0922,-632.2388 130.341,-636.8702\"/>\n",
       "</g>\n",
       "<!-- 5 -->\n",
       "<g id=\"node6\" class=\"node\">\n",
       "<title>5</title>\n",
       "<text text-anchor=\"middle\" x=\"21\" y=\"-564.8\" font-family=\"Times,serif\" font-size=\"14.00\" fill=\"#000000\">&lt;digit&gt;</text>\n",
       "</g>\n",
       "<!-- 4&#45;&gt;5 -->\n",
       "<g id=\"edge5\" class=\"edge\">\n",
       "<title>4&#45;&gt;5</title>\n",
       "<path fill=\"none\" stroke=\"#000000\" d=\"M38.0489,-611.9748C35.3311,-605.0443 31.1999,-594.5097 27.6849,-585.5464\"/>\n",
       "<polygon fill=\"#000000\" stroke=\"#000000\" points=\"30.8725,-584.088 23.9632,-576.0561 24.3557,-586.6437 30.8725,-584.088\"/>\n",
       "</g>\n",
       "<!-- 6 -->\n",
       "<g id=\"node7\" class=\"node\">\n",
       "<title>6</title>\n",
       "<text text-anchor=\"middle\" x=\"21\" y=\"-513.8\" font-family=\"Times,serif\" font-size=\"14.00\" fill=\"#000000\">6</text>\n",
       "</g>\n",
       "<!-- 5&#45;&gt;6 -->\n",
       "<g id=\"edge6\" class=\"edge\">\n",
       "<title>5&#45;&gt;6</title>\n",
       "<path fill=\"none\" stroke=\"#000000\" d=\"M21,-560.9748C21,-554.195 21,-543.966 21,-535.1331\"/>\n",
       "<polygon fill=\"#000000\" stroke=\"#000000\" points=\"24.5001,-535.0561 21,-525.0561 17.5001,-535.0561 24.5001,-535.0561\"/>\n",
       "</g>\n",
       "<!-- 9 -->\n",
       "<g id=\"node10\" class=\"node\">\n",
       "<title>9</title>\n",
       "<text text-anchor=\"middle\" x=\"81\" y=\"-564.8\" font-family=\"Times,serif\" font-size=\"14.00\" fill=\"#000000\">&lt;digit&gt;</text>\n",
       "</g>\n",
       "<!-- 8&#45;&gt;9 -->\n",
       "<g id=\"edge9\" class=\"edge\">\n",
       "<title>8&#45;&gt;9</title>\n",
       "<path fill=\"none\" stroke=\"#000000\" d=\"M132.1468,-611.9748C123.1071,-604.291 108.8553,-592.177 97.6893,-582.6859\"/>\n",
       "<polygon fill=\"#000000\" stroke=\"#000000\" points=\"99.7757,-579.8658 89.8895,-576.0561 95.2422,-585.1994 99.7757,-579.8658\"/>\n",
       "</g>\n",
       "<!-- 11 -->\n",
       "<g id=\"node12\" class=\"node\">\n",
       "<title>11</title>\n",
       "<text text-anchor=\"middle\" x=\"148\" y=\"-564.8\" font-family=\"Times,serif\" font-size=\"14.00\" fill=\"#000000\">&lt;integer&gt;</text>\n",
       "</g>\n",
       "<!-- 8&#45;&gt;11 -->\n",
       "<g id=\"edge11\" class=\"edge\">\n",
       "<title>8&#45;&gt;11</title>\n",
       "<path fill=\"none\" stroke=\"#000000\" d=\"M142.0329,-611.9748C142.9634,-605.195 144.3674,-594.966 145.5798,-586.1331\"/>\n",
       "<polygon fill=\"#000000\" stroke=\"#000000\" points=\"149.0705,-586.4392 146.9629,-576.0561 142.1355,-585.4873 149.0705,-586.4392\"/>\n",
       "</g>\n",
       "<!-- 10 -->\n",
       "<g id=\"node11\" class=\"node\">\n",
       "<title>10</title>\n",
       "<text text-anchor=\"middle\" x=\"69\" y=\"-513.8\" font-family=\"Times,serif\" font-size=\"14.00\" fill=\"#000000\">4</text>\n",
       "</g>\n",
       "<!-- 9&#45;&gt;10 -->\n",
       "<g id=\"edge10\" class=\"edge\">\n",
       "<title>9&#45;&gt;10</title>\n",
       "<path fill=\"none\" stroke=\"#000000\" d=\"M79.2294,-560.9748C77.6164,-554.1196 75.1737,-543.7383 73.0798,-534.8392\"/>\n",
       "<polygon fill=\"#000000\" stroke=\"#000000\" points=\"76.4753,-533.9886 70.7779,-525.0561 69.6614,-535.5919 76.4753,-533.9886\"/>\n",
       "</g>\n",
       "<!-- 12 -->\n",
       "<g id=\"node13\" class=\"node\">\n",
       "<title>12</title>\n",
       "<text text-anchor=\"middle\" x=\"112\" y=\"-513.8\" font-family=\"Times,serif\" font-size=\"14.00\" fill=\"#000000\">&lt;digit&gt;</text>\n",
       "</g>\n",
       "<!-- 11&#45;&gt;12 -->\n",
       "<g id=\"edge12\" class=\"edge\">\n",
       "<title>11&#45;&gt;12</title>\n",
       "<path fill=\"none\" stroke=\"#000000\" d=\"M142.6881,-560.9748C137.5833,-553.743 129.7084,-542.5868 123.2141,-533.3866\"/>\n",
       "<polygon fill=\"#000000\" stroke=\"#000000\" points=\"125.96,-531.2074 117.3337,-525.0561 120.2412,-535.2442 125.96,-531.2074\"/>\n",
       "</g>\n",
       "<!-- 14 -->\n",
       "<g id=\"node15\" class=\"node\">\n",
       "<title>14</title>\n",
       "<text text-anchor=\"middle\" x=\"179\" y=\"-513.8\" font-family=\"Times,serif\" font-size=\"14.00\" fill=\"#000000\">&lt;integer&gt;</text>\n",
       "</g>\n",
       "<!-- 11&#45;&gt;14 -->\n",
       "<g id=\"edge14\" class=\"edge\">\n",
       "<title>11&#45;&gt;14</title>\n",
       "<path fill=\"none\" stroke=\"#000000\" d=\"M152.5742,-560.9748C156.9242,-553.8183 163.6101,-542.8188 169.1683,-533.6747\"/>\n",
       "<polygon fill=\"#000000\" stroke=\"#000000\" points=\"172.2037,-535.4193 174.4071,-525.0561 166.222,-531.7834 172.2037,-535.4193\"/>\n",
       "</g>\n",
       "<!-- 13 -->\n",
       "<g id=\"node14\" class=\"node\">\n",
       "<title>13</title>\n",
       "<text text-anchor=\"middle\" x=\"112\" y=\"-462.8\" font-family=\"Times,serif\" font-size=\"14.00\" fill=\"#000000\">1</text>\n",
       "</g>\n",
       "<!-- 12&#45;&gt;13 -->\n",
       "<g id=\"edge13\" class=\"edge\">\n",
       "<title>12&#45;&gt;13</title>\n",
       "<path fill=\"none\" stroke=\"#000000\" d=\"M112,-509.9748C112,-503.195 112,-492.966 112,-484.1331\"/>\n",
       "<polygon fill=\"#000000\" stroke=\"#000000\" points=\"115.5001,-484.0561 112,-474.0561 108.5001,-484.0561 115.5001,-484.0561\"/>\n",
       "</g>\n",
       "<!-- 15 -->\n",
       "<g id=\"node16\" class=\"node\">\n",
       "<title>15</title>\n",
       "<text text-anchor=\"middle\" x=\"179\" y=\"-462.8\" font-family=\"Times,serif\" font-size=\"14.00\" fill=\"#000000\">&lt;digit&gt;</text>\n",
       "</g>\n",
       "<!-- 14&#45;&gt;15 -->\n",
       "<g id=\"edge15\" class=\"edge\">\n",
       "<title>14&#45;&gt;15</title>\n",
       "<path fill=\"none\" stroke=\"#000000\" d=\"M179,-509.9748C179,-503.195 179,-492.966 179,-484.1331\"/>\n",
       "<polygon fill=\"#000000\" stroke=\"#000000\" points=\"182.5001,-484.0561 179,-474.0561 175.5001,-484.0561 182.5001,-484.0561\"/>\n",
       "</g>\n",
       "<!-- 16 -->\n",
       "<g id=\"node17\" class=\"node\">\n",
       "<title>16</title>\n",
       "<text text-anchor=\"middle\" x=\"179\" y=\"-411.8\" font-family=\"Times,serif\" font-size=\"14.00\" fill=\"#000000\">0</text>\n",
       "</g>\n",
       "<!-- 15&#45;&gt;16 -->\n",
       "<g id=\"edge16\" class=\"edge\">\n",
       "<title>15&#45;&gt;16</title>\n",
       "<path fill=\"none\" stroke=\"#000000\" d=\"M179,-458.9748C179,-452.195 179,-441.966 179,-433.1331\"/>\n",
       "<polygon fill=\"#000000\" stroke=\"#000000\" points=\"182.5001,-433.0561 179,-423.0561 175.5001,-433.0561 182.5001,-433.0561\"/>\n",
       "</g>\n",
       "<!-- 19 -->\n",
       "<g id=\"node20\" class=\"node\">\n",
       "<title>19</title>\n",
       "<text text-anchor=\"middle\" x=\"238\" y=\"-666.8\" font-family=\"Times,serif\" font-size=\"14.00\" fill=\"#000000\">&lt;term&gt;</text>\n",
       "</g>\n",
       "<!-- 18&#45;&gt;19 -->\n",
       "<g id=\"edge19\" class=\"edge\">\n",
       "<title>18&#45;&gt;19</title>\n",
       "<path fill=\"none\" stroke=\"#000000\" d=\"M235.4427,-713.9748C235.8415,-707.195 236.4432,-696.966 236.9628,-688.1331\"/>\n",
       "<polygon fill=\"#000000\" stroke=\"#000000\" points=\"240.4622,-688.2444 237.5555,-678.0561 233.4742,-687.8333 240.4622,-688.2444\"/>\n",
       "</g>\n",
       "<!-- 20 -->\n",
       "<g id=\"node21\" class=\"node\">\n",
       "<title>20</title>\n",
       "<text text-anchor=\"middle\" x=\"213\" y=\"-615.8\" font-family=\"Times,serif\" font-size=\"14.00\" fill=\"#000000\">&lt;factor&gt;</text>\n",
       "</g>\n",
       "<!-- 19&#45;&gt;20 -->\n",
       "<g id=\"edge20\" class=\"edge\">\n",
       "<title>19&#45;&gt;20</title>\n",
       "<path fill=\"none\" stroke=\"#000000\" d=\"M234.3112,-662.9748C230.8769,-655.969 225.6374,-645.2803 221.2131,-636.2547\"/>\n",
       "<polygon fill=\"#000000\" stroke=\"#000000\" points=\"224.2483,-634.4947 216.704,-627.0561 217.9629,-637.5759 224.2483,-634.4947\"/>\n",
       "</g>\n",
       "<!-- 26 -->\n",
       "<g id=\"node27\" class=\"node\">\n",
       "<title>26</title>\n",
       "<text text-anchor=\"middle\" x=\"263\" y=\"-615.8\" font-family=\"Times,serif\" font-size=\"14.00\" fill=\"#000000\"> * </text>\n",
       "</g>\n",
       "<!-- 19&#45;&gt;26 -->\n",
       "<g id=\"edge26\" class=\"edge\">\n",
       "<title>19&#45;&gt;26</title>\n",
       "<path fill=\"none\" stroke=\"#000000\" d=\"M241.6888,-662.9748C245.1231,-655.969 250.3626,-645.2803 254.7869,-636.2547\"/>\n",
       "<polygon fill=\"#000000\" stroke=\"#000000\" points=\"258.0371,-637.5759 259.296,-627.0561 251.7517,-634.4947 258.0371,-637.5759\"/>\n",
       "</g>\n",
       "<!-- 27 -->\n",
       "<g id=\"node28\" class=\"node\">\n",
       "<title>27</title>\n",
       "<text text-anchor=\"middle\" x=\"360\" y=\"-615.8\" font-family=\"Times,serif\" font-size=\"14.00\" fill=\"#000000\">&lt;term&gt;</text>\n",
       "</g>\n",
       "<!-- 19&#45;&gt;27 -->\n",
       "<g id=\"edge27\" class=\"edge\">\n",
       "<title>19&#45;&gt;27</title>\n",
       "<path fill=\"none\" stroke=\"#000000\" d=\"M256.0015,-662.9748C276.1844,-654.5377 309.1449,-640.7591 332.546,-630.9767\"/>\n",
       "<polygon fill=\"#000000\" stroke=\"#000000\" points=\"334.0483,-634.1423 341.9246,-627.0561 331.3484,-627.6838 334.0483,-634.1423\"/>\n",
       "</g>\n",
       "<!-- 21 -->\n",
       "<g id=\"node22\" class=\"node\">\n",
       "<title>21</title>\n",
       "<text text-anchor=\"middle\" x=\"207\" y=\"-564.8\" font-family=\"Times,serif\" font-size=\"14.00\" fill=\"#000000\">&#45;</text>\n",
       "</g>\n",
       "<!-- 20&#45;&gt;21 -->\n",
       "<g id=\"edge21\" class=\"edge\">\n",
       "<title>20&#45;&gt;21</title>\n",
       "<path fill=\"none\" stroke=\"#000000\" d=\"M212.1147,-611.9748C211.3171,-605.195 210.1136,-594.966 209.0745,-586.1331\"/>\n",
       "<polygon fill=\"#000000\" stroke=\"#000000\" points=\"212.5335,-585.5786 207.889,-576.0561 205.5814,-586.3966 212.5335,-585.5786\"/>\n",
       "</g>\n",
       "<!-- 22 -->\n",
       "<g id=\"node23\" class=\"node\">\n",
       "<title>22</title>\n",
       "<text text-anchor=\"middle\" x=\"252\" y=\"-564.8\" font-family=\"Times,serif\" font-size=\"14.00\" fill=\"#000000\">&lt;factor&gt;</text>\n",
       "</g>\n",
       "<!-- 20&#45;&gt;22 -->\n",
       "<g id=\"edge22\" class=\"edge\">\n",
       "<title>20&#45;&gt;22</title>\n",
       "<path fill=\"none\" stroke=\"#000000\" d=\"M218.7546,-611.9748C224.3424,-604.6677 232.994,-593.354 240.0708,-584.0997\"/>\n",
       "<polygon fill=\"#000000\" stroke=\"#000000\" points=\"242.9275,-586.1258 246.2218,-576.0561 237.367,-581.8736 242.9275,-586.1258\"/>\n",
       "</g>\n",
       "<!-- 23 -->\n",
       "<g id=\"node24\" class=\"node\">\n",
       "<title>23</title>\n",
       "<text text-anchor=\"middle\" x=\"252\" y=\"-513.8\" font-family=\"Times,serif\" font-size=\"14.00\" fill=\"#000000\">&lt;integer&gt;</text>\n",
       "</g>\n",
       "<!-- 22&#45;&gt;23 -->\n",
       "<g id=\"edge23\" class=\"edge\">\n",
       "<title>22&#45;&gt;23</title>\n",
       "<path fill=\"none\" stroke=\"#000000\" d=\"M252,-560.9748C252,-554.195 252,-543.966 252,-535.1331\"/>\n",
       "<polygon fill=\"#000000\" stroke=\"#000000\" points=\"255.5001,-535.0561 252,-525.0561 248.5001,-535.0561 255.5001,-535.0561\"/>\n",
       "</g>\n",
       "<!-- 24 -->\n",
       "<g id=\"node25\" class=\"node\">\n",
       "<title>24</title>\n",
       "<text text-anchor=\"middle\" x=\"246\" y=\"-462.8\" font-family=\"Times,serif\" font-size=\"14.00\" fill=\"#000000\">&lt;digit&gt;</text>\n",
       "</g>\n",
       "<!-- 23&#45;&gt;24 -->\n",
       "<g id=\"edge24\" class=\"edge\">\n",
       "<title>23&#45;&gt;24</title>\n",
       "<path fill=\"none\" stroke=\"#000000\" d=\"M251.1147,-509.9748C250.3171,-503.195 249.1136,-492.966 248.0745,-484.1331\"/>\n",
       "<polygon fill=\"#000000\" stroke=\"#000000\" points=\"251.5335,-483.5786 246.889,-474.0561 244.5814,-484.3966 251.5335,-483.5786\"/>\n",
       "</g>\n",
       "<!-- 25 -->\n",
       "<g id=\"node26\" class=\"node\">\n",
       "<title>25</title>\n",
       "<text text-anchor=\"middle\" x=\"243\" y=\"-411.8\" font-family=\"Times,serif\" font-size=\"14.00\" fill=\"#000000\">1</text>\n",
       "</g>\n",
       "<!-- 24&#45;&gt;25 -->\n",
       "<g id=\"edge25\" class=\"edge\">\n",
       "<title>24&#45;&gt;25</title>\n",
       "<path fill=\"none\" stroke=\"#000000\" d=\"M245.5573,-458.9748C245.1585,-452.195 244.5568,-441.966 244.0372,-433.1331\"/>\n",
       "<polygon fill=\"#000000\" stroke=\"#000000\" points=\"247.5258,-432.8333 243.4445,-423.0561 240.5378,-433.2444 247.5258,-432.8333\"/>\n",
       "</g>\n",
       "<!-- 28 -->\n",
       "<g id=\"node29\" class=\"node\">\n",
       "<title>28</title>\n",
       "<text text-anchor=\"middle\" x=\"335\" y=\"-564.8\" font-family=\"Times,serif\" font-size=\"14.00\" fill=\"#000000\">&lt;factor&gt;</text>\n",
       "</g>\n",
       "<!-- 27&#45;&gt;28 -->\n",
       "<g id=\"edge28\" class=\"edge\">\n",
       "<title>27&#45;&gt;28</title>\n",
       "<path fill=\"none\" stroke=\"#000000\" d=\"M356.3112,-611.9748C352.8769,-604.969 347.6374,-594.2803 343.2131,-585.2547\"/>\n",
       "<polygon fill=\"#000000\" stroke=\"#000000\" points=\"346.2483,-583.4947 338.704,-576.0561 339.9629,-586.5759 346.2483,-583.4947\"/>\n",
       "</g>\n",
       "<!-- 37 -->\n",
       "<g id=\"node38\" class=\"node\">\n",
       "<title>37</title>\n",
       "<text text-anchor=\"middle\" x=\"385\" y=\"-564.8\" font-family=\"Times,serif\" font-size=\"14.00\" fill=\"#000000\"> * </text>\n",
       "</g>\n",
       "<!-- 27&#45;&gt;37 -->\n",
       "<g id=\"edge37\" class=\"edge\">\n",
       "<title>27&#45;&gt;37</title>\n",
       "<path fill=\"none\" stroke=\"#000000\" d=\"M363.6888,-611.9748C367.1231,-604.969 372.3626,-594.2803 376.7869,-585.2547\"/>\n",
       "<polygon fill=\"#000000\" stroke=\"#000000\" points=\"380.0371,-586.5759 381.296,-576.0561 373.7517,-583.4947 380.0371,-586.5759\"/>\n",
       "</g>\n",
       "<!-- 38 -->\n",
       "<g id=\"node39\" class=\"node\">\n",
       "<title>38</title>\n",
       "<text text-anchor=\"middle\" x=\"540\" y=\"-564.8\" font-family=\"Times,serif\" font-size=\"14.00\" fill=\"#000000\">&lt;term&gt;</text>\n",
       "</g>\n",
       "<!-- 27&#45;&gt;38 -->\n",
       "<g id=\"edge38\" class=\"edge\">\n",
       "<title>27&#45;&gt;38</title>\n",
       "<path fill=\"none\" stroke=\"#000000\" d=\"M381.0006,-613.5498C412.6193,-604.5912 472.6335,-587.5872 509.2047,-577.2253\"/>\n",
       "<polygon fill=\"#000000\" stroke=\"#000000\" points=\"510.1878,-580.5846 518.855,-574.4911 508.2795,-573.8498 510.1878,-580.5846\"/>\n",
       "</g>\n",
       "<!-- 29 -->\n",
       "<g id=\"node30\" class=\"node\">\n",
       "<title>29</title>\n",
       "<text text-anchor=\"middle\" x=\"303\" y=\"-513.8\" font-family=\"Times,serif\" font-size=\"14.00\" fill=\"#000000\">&#45;</text>\n",
       "</g>\n",
       "<!-- 28&#45;&gt;29 -->\n",
       "<g id=\"edge29\" class=\"edge\">\n",
       "<title>28&#45;&gt;29</title>\n",
       "<path fill=\"none\" stroke=\"#000000\" d=\"M330.2783,-560.9748C325.1686,-552.8312 316.9365,-539.7114 310.8505,-530.0118\"/>\n",
       "<polygon fill=\"#000000\" stroke=\"#000000\" points=\"313.7857,-528.1043 305.506,-521.4939 307.8562,-531.8248 313.7857,-528.1043\"/>\n",
       "</g>\n",
       "<!-- 30 -->\n",
       "<g id=\"node31\" class=\"node\">\n",
       "<title>30</title>\n",
       "<text text-anchor=\"middle\" x=\"348\" y=\"-513.8\" font-family=\"Times,serif\" font-size=\"14.00\" fill=\"#000000\">&lt;factor&gt;</text>\n",
       "</g>\n",
       "<!-- 28&#45;&gt;30 -->\n",
       "<g id=\"edge30\" class=\"edge\">\n",
       "<title>28&#45;&gt;30</title>\n",
       "<path fill=\"none\" stroke=\"#000000\" d=\"M336.9182,-560.9748C338.6656,-554.1196 341.3118,-543.7383 343.5802,-534.8392\"/>\n",
       "<polygon fill=\"#000000\" stroke=\"#000000\" points=\"346.9954,-535.6108 346.0739,-525.0561 340.2123,-533.8817 346.9954,-535.6108\"/>\n",
       "</g>\n",
       "<!-- 31 -->\n",
       "<g id=\"node32\" class=\"node\">\n",
       "<title>31</title>\n",
       "<text text-anchor=\"middle\" x=\"348\" y=\"-462.8\" font-family=\"Times,serif\" font-size=\"14.00\" fill=\"#000000\">&lt;integer&gt;</text>\n",
       "</g>\n",
       "<!-- 30&#45;&gt;31 -->\n",
       "<g id=\"edge31\" class=\"edge\">\n",
       "<title>30&#45;&gt;31</title>\n",
       "<path fill=\"none\" stroke=\"#000000\" d=\"M348,-509.9748C348,-503.195 348,-492.966 348,-484.1331\"/>\n",
       "<polygon fill=\"#000000\" stroke=\"#000000\" points=\"351.5001,-484.0561 348,-474.0561 344.5001,-484.0561 351.5001,-484.0561\"/>\n",
       "</g>\n",
       "<!-- 32 -->\n",
       "<g id=\"node33\" class=\"node\">\n",
       "<title>32</title>\n",
       "<text text-anchor=\"middle\" x=\"286\" y=\"-411.8\" font-family=\"Times,serif\" font-size=\"14.00\" fill=\"#000000\">&lt;digit&gt;</text>\n",
       "</g>\n",
       "<!-- 31&#45;&gt;32 -->\n",
       "<g id=\"edge32\" class=\"edge\">\n",
       "<title>31&#45;&gt;32</title>\n",
       "<path fill=\"none\" stroke=\"#000000\" d=\"M338.8517,-458.9748C329.5106,-451.291 314.7838,-439.177 303.2456,-429.6859\"/>\n",
       "<polygon fill=\"#000000\" stroke=\"#000000\" points=\"305.1322,-426.7058 295.1858,-423.0561 300.6853,-432.1119 305.1322,-426.7058\"/>\n",
       "</g>\n",
       "<!-- 34 -->\n",
       "<g id=\"node35\" class=\"node\">\n",
       "<title>34</title>\n",
       "<text text-anchor=\"middle\" x=\"353\" y=\"-411.8\" font-family=\"Times,serif\" font-size=\"14.00\" fill=\"#000000\">&lt;integer&gt;</text>\n",
       "</g>\n",
       "<!-- 31&#45;&gt;34 -->\n",
       "<g id=\"edge34\" class=\"edge\">\n",
       "<title>31&#45;&gt;34</title>\n",
       "<path fill=\"none\" stroke=\"#000000\" d=\"M348.7378,-458.9748C349.4025,-452.195 350.4053,-441.966 351.2713,-433.1331\"/>\n",
       "<polygon fill=\"#000000\" stroke=\"#000000\" points=\"354.7667,-433.3499 352.2592,-423.0561 347.8001,-432.6669 354.7667,-433.3499\"/>\n",
       "</g>\n",
       "<!-- 33 -->\n",
       "<g id=\"node34\" class=\"node\">\n",
       "<title>33</title>\n",
       "<text text-anchor=\"middle\" x=\"286\" y=\"-360.8\" font-family=\"Times,serif\" font-size=\"14.00\" fill=\"#000000\">6</text>\n",
       "</g>\n",
       "<!-- 32&#45;&gt;33 -->\n",
       "<g id=\"edge33\" class=\"edge\">\n",
       "<title>32&#45;&gt;33</title>\n",
       "<path fill=\"none\" stroke=\"#000000\" d=\"M286,-407.9748C286,-401.195 286,-390.966 286,-382.1331\"/>\n",
       "<polygon fill=\"#000000\" stroke=\"#000000\" points=\"289.5001,-382.0561 286,-372.0561 282.5001,-382.0561 289.5001,-382.0561\"/>\n",
       "</g>\n",
       "<!-- 35 -->\n",
       "<g id=\"node36\" class=\"node\">\n",
       "<title>35</title>\n",
       "<text text-anchor=\"middle\" x=\"341\" y=\"-360.8\" font-family=\"Times,serif\" font-size=\"14.00\" fill=\"#000000\">&lt;digit&gt;</text>\n",
       "</g>\n",
       "<!-- 34&#45;&gt;35 -->\n",
       "<g id=\"edge35\" class=\"edge\">\n",
       "<title>34&#45;&gt;35</title>\n",
       "<path fill=\"none\" stroke=\"#000000\" d=\"M351.2294,-407.9748C349.6164,-401.1196 347.1737,-390.7383 345.0798,-381.8392\"/>\n",
       "<polygon fill=\"#000000\" stroke=\"#000000\" points=\"348.4753,-380.9886 342.7779,-372.0561 341.6614,-382.5919 348.4753,-380.9886\"/>\n",
       "</g>\n",
       "<!-- 36 -->\n",
       "<g id=\"node37\" class=\"node\">\n",
       "<title>36</title>\n",
       "<text text-anchor=\"middle\" x=\"290\" y=\"-309.8\" font-family=\"Times,serif\" font-size=\"14.00\" fill=\"#000000\">3</text>\n",
       "</g>\n",
       "<!-- 35&#45;&gt;36 -->\n",
       "<g id=\"edge36\" class=\"edge\">\n",
       "<title>35&#45;&gt;36</title>\n",
       "<path fill=\"none\" stroke=\"#000000\" d=\"M333.4748,-356.9748C325.074,-348.574 311.3778,-334.8778 301.6034,-325.1034\"/>\n",
       "<polygon fill=\"#000000\" stroke=\"#000000\" points=\"303.801,-322.3513 294.2551,-317.7551 298.8513,-327.301 303.801,-322.3513\"/>\n",
       "</g>\n",
       "<!-- 39 -->\n",
       "<g id=\"node40\" class=\"node\">\n",
       "<title>39</title>\n",
       "<text text-anchor=\"middle\" x=\"516\" y=\"-513.8\" font-family=\"Times,serif\" font-size=\"14.00\" fill=\"#000000\">&lt;factor&gt;</text>\n",
       "</g>\n",
       "<!-- 38&#45;&gt;39 -->\n",
       "<g id=\"edge39\" class=\"edge\">\n",
       "<title>38&#45;&gt;39</title>\n",
       "<path fill=\"none\" stroke=\"#000000\" d=\"M536.4587,-560.9748C533.1619,-553.969 528.1319,-543.2803 523.8845,-534.2547\"/>\n",
       "<polygon fill=\"#000000\" stroke=\"#000000\" points=\"526.9807,-532.614 519.5558,-525.0561 520.647,-535.5946 526.9807,-532.614\"/>\n",
       "</g>\n",
       "<!-- 87 -->\n",
       "<g id=\"node88\" class=\"node\">\n",
       "<title>87</title>\n",
       "<text text-anchor=\"middle\" x=\"564\" y=\"-513.8\" font-family=\"Times,serif\" font-size=\"14.00\" fill=\"#000000\"> / </text>\n",
       "</g>\n",
       "<!-- 38&#45;&gt;87 -->\n",
       "<g id=\"edge87\" class=\"edge\">\n",
       "<title>38&#45;&gt;87</title>\n",
       "<path fill=\"none\" stroke=\"#000000\" d=\"M543.5413,-560.9748C546.8381,-553.969 551.8681,-543.2803 556.1155,-534.2547\"/>\n",
       "<polygon fill=\"#000000\" stroke=\"#000000\" points=\"559.353,-535.5946 560.4442,-525.0561 553.0193,-532.614 559.353,-535.5946\"/>\n",
       "</g>\n",
       "<!-- 88 -->\n",
       "<g id=\"node89\" class=\"node\">\n",
       "<title>88</title>\n",
       "<text text-anchor=\"middle\" x=\"852\" y=\"-513.8\" font-family=\"Times,serif\" font-size=\"14.00\" fill=\"#000000\">&lt;term&gt;</text>\n",
       "</g>\n",
       "<!-- 38&#45;&gt;88 -->\n",
       "<g id=\"edge88\" class=\"edge\">\n",
       "<title>38&#45;&gt;88</title>\n",
       "<path fill=\"none\" stroke=\"#000000\" d=\"M561.445,-564.9946C615.4556,-556.1659 757.2811,-532.9829 820.6411,-522.626\"/>\n",
       "<polygon fill=\"#000000\" stroke=\"#000000\" points=\"821.5131,-526.03 830.8175,-520.9625 820.3838,-519.1217 821.5131,-526.03\"/>\n",
       "</g>\n",
       "<!-- 40 -->\n",
       "<g id=\"node41\" class=\"node\">\n",
       "<title>40</title>\n",
       "<text text-anchor=\"middle\" x=\"475\" y=\"-462.8\" font-family=\"Times,serif\" font-size=\"14.00\" fill=\"#000000\">(</text>\n",
       "</g>\n",
       "<!-- 39&#45;&gt;40 -->\n",
       "<g id=\"edge40\" class=\"edge\">\n",
       "<title>39&#45;&gt;40</title>\n",
       "<path fill=\"none\" stroke=\"#000000\" d=\"M509.9503,-509.9748C503.1341,-501.4961 491.9814,-487.6232 484.1104,-477.8324\"/>\n",
       "<polygon fill=\"#000000\" stroke=\"#000000\" points=\"486.6088,-475.3541 477.6154,-469.7533 481.1531,-479.74 486.6088,-475.3541\"/>\n",
       "</g>\n",
       "<!-- 41 -->\n",
       "<g id=\"node42\" class=\"node\">\n",
       "<title>41</title>\n",
       "<text text-anchor=\"middle\" x=\"516\" y=\"-462.8\" font-family=\"Times,serif\" font-size=\"14.00\" fill=\"#000000\">&lt;expr&gt;</text>\n",
       "</g>\n",
       "<!-- 39&#45;&gt;41 -->\n",
       "<g id=\"edge41\" class=\"edge\">\n",
       "<title>39&#45;&gt;41</title>\n",
       "<path fill=\"none\" stroke=\"#000000\" d=\"M516,-509.9748C516,-503.195 516,-492.966 516,-484.1331\"/>\n",
       "<polygon fill=\"#000000\" stroke=\"#000000\" points=\"519.5001,-484.0561 516,-474.0561 512.5001,-484.0561 519.5001,-484.0561\"/>\n",
       "</g>\n",
       "<!-- 86 -->\n",
       "<g id=\"node87\" class=\"node\">\n",
       "<title>86</title>\n",
       "<text text-anchor=\"middle\" x=\"557\" y=\"-462.8\" font-family=\"Times,serif\" font-size=\"14.00\" fill=\"#000000\">)</text>\n",
       "</g>\n",
       "<!-- 39&#45;&gt;86 -->\n",
       "<g id=\"edge86\" class=\"edge\">\n",
       "<title>39&#45;&gt;86</title>\n",
       "<path fill=\"none\" stroke=\"#000000\" d=\"M522.0497,-509.9748C528.8659,-501.4961 540.0186,-487.6232 547.8896,-477.8324\"/>\n",
       "<polygon fill=\"#000000\" stroke=\"#000000\" points=\"550.8469,-479.74 554.3846,-469.7533 545.3912,-475.3541 550.8469,-479.74\"/>\n",
       "</g>\n",
       "<!-- 42 -->\n",
       "<g id=\"node43\" class=\"node\">\n",
       "<title>42</title>\n",
       "<text text-anchor=\"middle\" x=\"454\" y=\"-411.8\" font-family=\"Times,serif\" font-size=\"14.00\" fill=\"#000000\">&lt;term&gt;</text>\n",
       "</g>\n",
       "<!-- 41&#45;&gt;42 -->\n",
       "<g id=\"edge42\" class=\"edge\">\n",
       "<title>41&#45;&gt;42</title>\n",
       "<path fill=\"none\" stroke=\"#000000\" d=\"M506.8517,-458.9748C497.5106,-451.291 482.7838,-439.177 471.2456,-429.6859\"/>\n",
       "<polygon fill=\"#000000\" stroke=\"#000000\" points=\"473.1322,-426.7058 463.1858,-423.0561 468.6853,-432.1119 473.1322,-426.7058\"/>\n",
       "</g>\n",
       "<!-- 51 -->\n",
       "<g id=\"node52\" class=\"node\">\n",
       "<title>51</title>\n",
       "<text text-anchor=\"middle\" x=\"516\" y=\"-411.8\" font-family=\"Times,serif\" font-size=\"14.00\" fill=\"#000000\"> &#45; </text>\n",
       "</g>\n",
       "<!-- 41&#45;&gt;51 -->\n",
       "<g id=\"edge51\" class=\"edge\">\n",
       "<title>41&#45;&gt;51</title>\n",
       "<path fill=\"none\" stroke=\"#000000\" d=\"M516,-458.9748C516,-452.195 516,-441.966 516,-433.1331\"/>\n",
       "<polygon fill=\"#000000\" stroke=\"#000000\" points=\"519.5001,-433.0561 516,-423.0561 512.5001,-433.0561 519.5001,-433.0561\"/>\n",
       "</g>\n",
       "<!-- 52 -->\n",
       "<g id=\"node53\" class=\"node\">\n",
       "<title>52</title>\n",
       "<text text-anchor=\"middle\" x=\"582\" y=\"-411.8\" font-family=\"Times,serif\" font-size=\"14.00\" fill=\"#000000\">&lt;expr&gt;</text>\n",
       "</g>\n",
       "<!-- 41&#45;&gt;52 -->\n",
       "<g id=\"edge52\" class=\"edge\">\n",
       "<title>41&#45;&gt;52</title>\n",
       "<path fill=\"none\" stroke=\"#000000\" d=\"M525.7385,-458.9748C535.7797,-451.2157 551.6671,-438.939 564.002,-429.4075\"/>\n",
       "<polygon fill=\"#000000\" stroke=\"#000000\" points=\"566.4487,-431.9401 572.2215,-423.0561 562.1686,-426.4011 566.4487,-431.9401\"/>\n",
       "</g>\n",
       "<!-- 43 -->\n",
       "<g id=\"node44\" class=\"node\">\n",
       "<title>43</title>\n",
       "<text text-anchor=\"middle\" x=\"412\" y=\"-360.8\" font-family=\"Times,serif\" font-size=\"14.00\" fill=\"#000000\">&lt;factor&gt;</text>\n",
       "</g>\n",
       "<!-- 42&#45;&gt;43 -->\n",
       "<g id=\"edge43\" class=\"edge\">\n",
       "<title>42&#45;&gt;43</title>\n",
       "<path fill=\"none\" stroke=\"#000000\" d=\"M447.8028,-407.9748C441.7231,-400.5923 432.2755,-389.1203 424.6117,-379.8142\"/>\n",
       "<polygon fill=\"#000000\" stroke=\"#000000\" points=\"427.2815,-377.5504 418.2227,-372.0561 421.878,-382.0004 427.2815,-377.5504\"/>\n",
       "</g>\n",
       "<!-- 44 -->\n",
       "<g id=\"node45\" class=\"node\">\n",
       "<title>44</title>\n",
       "<text text-anchor=\"middle\" x=\"340\" y=\"-309.8\" font-family=\"Times,serif\" font-size=\"14.00\" fill=\"#000000\">&lt;integer&gt;</text>\n",
       "</g>\n",
       "<!-- 43&#45;&gt;44 -->\n",
       "<g id=\"edge44\" class=\"edge\">\n",
       "<title>43&#45;&gt;44</title>\n",
       "<path fill=\"none\" stroke=\"#000000\" d=\"M401.3762,-356.9748C390.2094,-349.065 372.4149,-336.4606 358.8547,-326.8554\"/>\n",
       "<polygon fill=\"#000000\" stroke=\"#000000\" points=\"360.8508,-323.9802 350.6674,-321.0561 356.8046,-329.6924 360.8508,-323.9802\"/>\n",
       "</g>\n",
       "<!-- 47 -->\n",
       "<g id=\"node48\" class=\"node\">\n",
       "<title>47</title>\n",
       "<text text-anchor=\"middle\" x=\"388\" y=\"-309.8\" font-family=\"Times,serif\" font-size=\"14.00\" fill=\"#000000\">.</text>\n",
       "</g>\n",
       "<!-- 43&#45;&gt;47 -->\n",
       "<g id=\"edge47\" class=\"edge\">\n",
       "<title>43&#45;&gt;47</title>\n",
       "<path fill=\"none\" stroke=\"#000000\" d=\"M408.4587,-356.9748C404.745,-349.0832 398.8322,-336.5185 394.3161,-326.9217\"/>\n",
       "<polygon fill=\"#000000\" stroke=\"#000000\" points=\"397.4273,-325.3129 390.0024,-317.7551 391.0935,-328.2936 397.4273,-325.3129\"/>\n",
       "</g>\n",
       "<!-- 48 -->\n",
       "<g id=\"node49\" class=\"node\">\n",
       "<title>48</title>\n",
       "<text text-anchor=\"middle\" x=\"436\" y=\"-309.8\" font-family=\"Times,serif\" font-size=\"14.00\" fill=\"#000000\">&lt;integer&gt;</text>\n",
       "</g>\n",
       "<!-- 43&#45;&gt;48 -->\n",
       "<g id=\"edge48\" class=\"edge\">\n",
       "<title>43&#45;&gt;48</title>\n",
       "<path fill=\"none\" stroke=\"#000000\" d=\"M415.5413,-356.9748C418.8381,-349.969 423.8681,-339.2803 428.1155,-330.2547\"/>\n",
       "<polygon fill=\"#000000\" stroke=\"#000000\" points=\"431.353,-331.5946 432.4442,-321.0561 425.0193,-328.614 431.353,-331.5946\"/>\n",
       "</g>\n",
       "<!-- 45 -->\n",
       "<g id=\"node46\" class=\"node\">\n",
       "<title>45</title>\n",
       "<text text-anchor=\"middle\" x=\"340\" y=\"-258.8\" font-family=\"Times,serif\" font-size=\"14.00\" fill=\"#000000\">&lt;digit&gt;</text>\n",
       "</g>\n",
       "<!-- 44&#45;&gt;45 -->\n",
       "<g id=\"edge45\" class=\"edge\">\n",
       "<title>44&#45;&gt;45</title>\n",
       "<path fill=\"none\" stroke=\"#000000\" d=\"M340,-305.9748C340,-299.195 340,-288.966 340,-280.1331\"/>\n",
       "<polygon fill=\"#000000\" stroke=\"#000000\" points=\"343.5001,-280.0561 340,-270.0561 336.5001,-280.0561 343.5001,-280.0561\"/>\n",
       "</g>\n",
       "<!-- 46 -->\n",
       "<g id=\"node47\" class=\"node\">\n",
       "<title>46</title>\n",
       "<text text-anchor=\"middle\" x=\"340\" y=\"-207.8\" font-family=\"Times,serif\" font-size=\"14.00\" fill=\"#000000\">9</text>\n",
       "</g>\n",
       "<!-- 45&#45;&gt;46 -->\n",
       "<g id=\"edge46\" class=\"edge\">\n",
       "<title>45&#45;&gt;46</title>\n",
       "<path fill=\"none\" stroke=\"#000000\" d=\"M340,-254.9748C340,-248.195 340,-237.966 340,-229.1331\"/>\n",
       "<polygon fill=\"#000000\" stroke=\"#000000\" points=\"343.5001,-229.0561 340,-219.0561 336.5001,-229.0561 343.5001,-229.0561\"/>\n",
       "</g>\n",
       "<!-- 49 -->\n",
       "<g id=\"node50\" class=\"node\">\n",
       "<title>49</title>\n",
       "<text text-anchor=\"middle\" x=\"409\" y=\"-258.8\" font-family=\"Times,serif\" font-size=\"14.00\" fill=\"#000000\">&lt;digit&gt;</text>\n",
       "</g>\n",
       "<!-- 48&#45;&gt;49 -->\n",
       "<g id=\"edge49\" class=\"edge\">\n",
       "<title>48&#45;&gt;49</title>\n",
       "<path fill=\"none\" stroke=\"#000000\" d=\"M432.0161,-305.9748C428.2672,-298.8936 422.5265,-288.05 417.7163,-278.9641\"/>\n",
       "<polygon fill=\"#000000\" stroke=\"#000000\" points=\"420.7725,-277.2564 413.0003,-270.0561 414.586,-280.5316 420.7725,-277.2564\"/>\n",
       "</g>\n",
       "<!-- 50 -->\n",
       "<g id=\"node51\" class=\"node\">\n",
       "<title>50</title>\n",
       "<text text-anchor=\"middle\" x=\"409\" y=\"-207.8\" font-family=\"Times,serif\" font-size=\"14.00\" fill=\"#000000\">7</text>\n",
       "</g>\n",
       "<!-- 49&#45;&gt;50 -->\n",
       "<g id=\"edge50\" class=\"edge\">\n",
       "<title>49&#45;&gt;50</title>\n",
       "<path fill=\"none\" stroke=\"#000000\" d=\"M409,-254.9748C409,-248.195 409,-237.966 409,-229.1331\"/>\n",
       "<polygon fill=\"#000000\" stroke=\"#000000\" points=\"412.5001,-229.0561 409,-219.0561 405.5001,-229.0561 412.5001,-229.0561\"/>\n",
       "</g>\n",
       "<!-- 53 -->\n",
       "<g id=\"node54\" class=\"node\">\n",
       "<title>53</title>\n",
       "<text text-anchor=\"middle\" x=\"558\" y=\"-360.8\" font-family=\"Times,serif\" font-size=\"14.00\" fill=\"#000000\">&lt;term&gt;</text>\n",
       "</g>\n",
       "<!-- 52&#45;&gt;53 -->\n",
       "<g id=\"edge53\" class=\"edge\">\n",
       "<title>52&#45;&gt;53</title>\n",
       "<path fill=\"none\" stroke=\"#000000\" d=\"M578.4587,-407.9748C575.1619,-400.969 570.1319,-390.2803 565.8845,-381.2547\"/>\n",
       "<polygon fill=\"#000000\" stroke=\"#000000\" points=\"568.9807,-379.614 561.5558,-372.0561 562.647,-382.5946 568.9807,-379.614\"/>\n",
       "</g>\n",
       "<!-- 72 -->\n",
       "<g id=\"node73\" class=\"node\">\n",
       "<title>72</title>\n",
       "<text text-anchor=\"middle\" x=\"603\" y=\"-360.8\" font-family=\"Times,serif\" font-size=\"14.00\" fill=\"#000000\"> &#45; </text>\n",
       "</g>\n",
       "<!-- 52&#45;&gt;72 -->\n",
       "<g id=\"edge72\" class=\"edge\">\n",
       "<title>52&#45;&gt;72</title>\n",
       "<path fill=\"none\" stroke=\"#000000\" d=\"M585.0986,-407.9748C587.9523,-401.0443 592.2901,-390.5097 595.9809,-381.5464\"/>\n",
       "<polygon fill=\"#000000\" stroke=\"#000000\" points=\"599.3175,-382.6355 599.8887,-372.0561 592.8447,-379.9702 599.3175,-382.6355\"/>\n",
       "</g>\n",
       "<!-- 73 -->\n",
       "<g id=\"node74\" class=\"node\">\n",
       "<title>73</title>\n",
       "<text text-anchor=\"middle\" x=\"719\" y=\"-360.8\" font-family=\"Times,serif\" font-size=\"14.00\" fill=\"#000000\">&lt;expr&gt;</text>\n",
       "</g>\n",
       "<!-- 52&#45;&gt;73 -->\n",
       "<g id=\"edge73\" class=\"edge\">\n",
       "<title>52&#45;&gt;73</title>\n",
       "<path fill=\"none\" stroke=\"#000000\" d=\"M602.2148,-407.9748C625.1827,-399.4247 662.8862,-385.3891 689.2205,-375.5858\"/>\n",
       "<polygon fill=\"#000000\" stroke=\"#000000\" points=\"690.5516,-378.825 698.7022,-372.0561 688.1095,-372.2648 690.5516,-378.825\"/>\n",
       "</g>\n",
       "<!-- 54 -->\n",
       "<g id=\"node55\" class=\"node\">\n",
       "<title>54</title>\n",
       "<text text-anchor=\"middle\" x=\"506\" y=\"-309.8\" font-family=\"Times,serif\" font-size=\"14.00\" fill=\"#000000\">&lt;factor&gt;</text>\n",
       "</g>\n",
       "<!-- 53&#45;&gt;54 -->\n",
       "<g id=\"edge54\" class=\"edge\">\n",
       "<title>53&#45;&gt;54</title>\n",
       "<path fill=\"none\" stroke=\"#000000\" d=\"M550.3272,-356.9748C542.6464,-349.4417 530.6239,-337.6503 521.0363,-328.2472\"/>\n",
       "<polygon fill=\"#000000\" stroke=\"#000000\" points=\"523.2944,-325.5594 513.7043,-321.0561 518.3929,-330.557 523.2944,-325.5594\"/>\n",
       "</g>\n",
       "<!-- 60 -->\n",
       "<g id=\"node61\" class=\"node\">\n",
       "<title>60</title>\n",
       "<text text-anchor=\"middle\" x=\"558\" y=\"-309.8\" font-family=\"Times,serif\" font-size=\"14.00\" fill=\"#000000\"> / </text>\n",
       "</g>\n",
       "<!-- 53&#45;&gt;60 -->\n",
       "<g id=\"edge60\" class=\"edge\">\n",
       "<title>53&#45;&gt;60</title>\n",
       "<path fill=\"none\" stroke=\"#000000\" d=\"M558,-356.9748C558,-350.195 558,-339.966 558,-331.1331\"/>\n",
       "<polygon fill=\"#000000\" stroke=\"#000000\" points=\"561.5001,-331.0561 558,-321.0561 554.5001,-331.0561 561.5001,-331.0561\"/>\n",
       "</g>\n",
       "<!-- 61 -->\n",
       "<g id=\"node62\" class=\"node\">\n",
       "<title>61</title>\n",
       "<text text-anchor=\"middle\" x=\"606\" y=\"-309.8\" font-family=\"Times,serif\" font-size=\"14.00\" fill=\"#000000\">&lt;term&gt;</text>\n",
       "</g>\n",
       "<!-- 53&#45;&gt;61 -->\n",
       "<g id=\"edge61\" class=\"edge\">\n",
       "<title>53&#45;&gt;61</title>\n",
       "<path fill=\"none\" stroke=\"#000000\" d=\"M565.0826,-356.9748C572.1017,-349.517 583.0487,-337.8857 591.8541,-328.53\"/>\n",
       "<polygon fill=\"#000000\" stroke=\"#000000\" points=\"594.5834,-330.7369 598.8884,-321.0561 589.486,-325.9393 594.5834,-330.7369\"/>\n",
       "</g>\n",
       "<!-- 55 -->\n",
       "<g id=\"node56\" class=\"node\">\n",
       "<title>55</title>\n",
       "<text text-anchor=\"middle\" x=\"451\" y=\"-258.8\" font-family=\"Times,serif\" font-size=\"14.00\" fill=\"#000000\">&#45;</text>\n",
       "</g>\n",
       "<!-- 54&#45;&gt;55 -->\n",
       "<g id=\"edge55\" class=\"edge\">\n",
       "<title>54&#45;&gt;55</title>\n",
       "<path fill=\"none\" stroke=\"#000000\" d=\"M497.8846,-305.9748C488.0854,-296.8883 471.6049,-281.6064 461.022,-271.7931\"/>\n",
       "<polygon fill=\"#000000\" stroke=\"#000000\" points=\"463.2686,-269.1032 453.5561,-264.8702 458.509,-274.2361 463.2686,-269.1032\"/>\n",
       "</g>\n",
       "<!-- 56 -->\n",
       "<g id=\"node57\" class=\"node\">\n",
       "<title>56</title>\n",
       "<text text-anchor=\"middle\" x=\"496\" y=\"-258.8\" font-family=\"Times,serif\" font-size=\"14.00\" fill=\"#000000\">&lt;factor&gt;</text>\n",
       "</g>\n",
       "<!-- 54&#45;&gt;56 -->\n",
       "<g id=\"edge56\" class=\"edge\">\n",
       "<title>54&#45;&gt;56</title>\n",
       "<path fill=\"none\" stroke=\"#000000\" d=\"M504.5245,-305.9748C503.1951,-299.195 501.1894,-288.966 499.4575,-280.1331\"/>\n",
       "<polygon fill=\"#000000\" stroke=\"#000000\" points=\"502.8404,-279.1958 497.4816,-270.0561 495.9712,-280.5427 502.8404,-279.1958\"/>\n",
       "</g>\n",
       "<!-- 57 -->\n",
       "<g id=\"node58\" class=\"node\">\n",
       "<title>57</title>\n",
       "<text text-anchor=\"middle\" x=\"493\" y=\"-207.8\" font-family=\"Times,serif\" font-size=\"14.00\" fill=\"#000000\">&lt;integer&gt;</text>\n",
       "</g>\n",
       "<!-- 56&#45;&gt;57 -->\n",
       "<g id=\"edge57\" class=\"edge\">\n",
       "<title>56&#45;&gt;57</title>\n",
       "<path fill=\"none\" stroke=\"#000000\" d=\"M495.5573,-254.9748C495.1585,-248.195 494.5568,-237.966 494.0372,-229.1331\"/>\n",
       "<polygon fill=\"#000000\" stroke=\"#000000\" points=\"497.5258,-228.8333 493.4445,-219.0561 490.5378,-229.2444 497.5258,-228.8333\"/>\n",
       "</g>\n",
       "<!-- 58 -->\n",
       "<g id=\"node59\" class=\"node\">\n",
       "<title>58</title>\n",
       "<text text-anchor=\"middle\" x=\"493\" y=\"-156.8\" font-family=\"Times,serif\" font-size=\"14.00\" fill=\"#000000\">&lt;digit&gt;</text>\n",
       "</g>\n",
       "<!-- 57&#45;&gt;58 -->\n",
       "<g id=\"edge58\" class=\"edge\">\n",
       "<title>57&#45;&gt;58</title>\n",
       "<path fill=\"none\" stroke=\"#000000\" d=\"M493,-203.9748C493,-197.195 493,-186.966 493,-178.1331\"/>\n",
       "<polygon fill=\"#000000\" stroke=\"#000000\" points=\"496.5001,-178.0561 493,-168.0561 489.5001,-178.0561 496.5001,-178.0561\"/>\n",
       "</g>\n",
       "<!-- 59 -->\n",
       "<g id=\"node60\" class=\"node\">\n",
       "<title>59</title>\n",
       "<text text-anchor=\"middle\" x=\"493\" y=\"-105.8\" font-family=\"Times,serif\" font-size=\"14.00\" fill=\"#000000\">4</text>\n",
       "</g>\n",
       "<!-- 58&#45;&gt;59 -->\n",
       "<g id=\"edge59\" class=\"edge\">\n",
       "<title>58&#45;&gt;59</title>\n",
       "<path fill=\"none\" stroke=\"#000000\" d=\"M493,-152.9748C493,-146.195 493,-135.966 493,-127.1331\"/>\n",
       "<polygon fill=\"#000000\" stroke=\"#000000\" points=\"496.5001,-127.0561 493,-117.0561 489.5001,-127.0561 496.5001,-127.0561\"/>\n",
       "</g>\n",
       "<!-- 62 -->\n",
       "<g id=\"node63\" class=\"node\">\n",
       "<title>62</title>\n",
       "<text text-anchor=\"middle\" x=\"563\" y=\"-258.8\" font-family=\"Times,serif\" font-size=\"14.00\" fill=\"#000000\">&lt;factor&gt;</text>\n",
       "</g>\n",
       "<!-- 61&#45;&gt;62 -->\n",
       "<g id=\"edge62\" class=\"edge\">\n",
       "<title>61&#45;&gt;62</title>\n",
       "<path fill=\"none\" stroke=\"#000000\" d=\"M599.6552,-305.9748C593.4308,-298.5923 583.7583,-287.1203 575.9119,-277.8142\"/>\n",
       "<polygon fill=\"#000000\" stroke=\"#000000\" points=\"578.4927,-275.4452 569.3708,-270.0561 573.141,-279.9574 578.4927,-275.4452\"/>\n",
       "</g>\n",
       "<!-- 66 -->\n",
       "<g id=\"node67\" class=\"node\">\n",
       "<title>66</title>\n",
       "<text text-anchor=\"middle\" x=\"613\" y=\"-258.8\" font-family=\"Times,serif\" font-size=\"14.00\" fill=\"#000000\"> * </text>\n",
       "</g>\n",
       "<!-- 61&#45;&gt;66 -->\n",
       "<g id=\"edge66\" class=\"edge\">\n",
       "<title>61&#45;&gt;66</title>\n",
       "<path fill=\"none\" stroke=\"#000000\" d=\"M607.0329,-305.9748C607.9634,-299.195 609.3674,-288.966 610.5798,-280.1331\"/>\n",
       "<polygon fill=\"#000000\" stroke=\"#000000\" points=\"614.0705,-280.4392 611.9629,-270.0561 607.1355,-279.4873 614.0705,-280.4392\"/>\n",
       "</g>\n",
       "<!-- 67 -->\n",
       "<g id=\"node68\" class=\"node\">\n",
       "<title>67</title>\n",
       "<text text-anchor=\"middle\" x=\"660\" y=\"-258.8\" font-family=\"Times,serif\" font-size=\"14.00\" fill=\"#000000\">&lt;term&gt;</text>\n",
       "</g>\n",
       "<!-- 61&#45;&gt;67 -->\n",
       "<g id=\"edge67\" class=\"edge\">\n",
       "<title>61&#45;&gt;67</title>\n",
       "<path fill=\"none\" stroke=\"#000000\" d=\"M613.9679,-305.9748C622.0239,-298.3663 634.6792,-286.4141 644.6833,-276.9658\"/>\n",
       "<polygon fill=\"#000000\" stroke=\"#000000\" points=\"647.1325,-279.4669 651.9994,-270.0561 642.3261,-274.3778 647.1325,-279.4669\"/>\n",
       "</g>\n",
       "<!-- 63 -->\n",
       "<g id=\"node64\" class=\"node\">\n",
       "<title>63</title>\n",
       "<text text-anchor=\"middle\" x=\"566\" y=\"-207.8\" font-family=\"Times,serif\" font-size=\"14.00\" fill=\"#000000\">&lt;integer&gt;</text>\n",
       "</g>\n",
       "<!-- 62&#45;&gt;63 -->\n",
       "<g id=\"edge63\" class=\"edge\">\n",
       "<title>62&#45;&gt;63</title>\n",
       "<path fill=\"none\" stroke=\"#000000\" d=\"M563.4427,-254.9748C563.8415,-248.195 564.4432,-237.966 564.9628,-229.1331\"/>\n",
       "<polygon fill=\"#000000\" stroke=\"#000000\" points=\"568.4622,-229.2444 565.5555,-219.0561 561.4742,-228.8333 568.4622,-229.2444\"/>\n",
       "</g>\n",
       "<!-- 64 -->\n",
       "<g id=\"node65\" class=\"node\">\n",
       "<title>64</title>\n",
       "<text text-anchor=\"middle\" x=\"566\" y=\"-156.8\" font-family=\"Times,serif\" font-size=\"14.00\" fill=\"#000000\">&lt;digit&gt;</text>\n",
       "</g>\n",
       "<!-- 63&#45;&gt;64 -->\n",
       "<g id=\"edge64\" class=\"edge\">\n",
       "<title>63&#45;&gt;64</title>\n",
       "<path fill=\"none\" stroke=\"#000000\" d=\"M566,-203.9748C566,-197.195 566,-186.966 566,-178.1331\"/>\n",
       "<polygon fill=\"#000000\" stroke=\"#000000\" points=\"569.5001,-178.0561 566,-168.0561 562.5001,-178.0561 569.5001,-178.0561\"/>\n",
       "</g>\n",
       "<!-- 65 -->\n",
       "<g id=\"node66\" class=\"node\">\n",
       "<title>65</title>\n",
       "<text text-anchor=\"middle\" x=\"566\" y=\"-105.8\" font-family=\"Times,serif\" font-size=\"14.00\" fill=\"#000000\">6</text>\n",
       "</g>\n",
       "<!-- 64&#45;&gt;65 -->\n",
       "<g id=\"edge65\" class=\"edge\">\n",
       "<title>64&#45;&gt;65</title>\n",
       "<path fill=\"none\" stroke=\"#000000\" d=\"M566,-152.9748C566,-146.195 566,-135.966 566,-127.1331\"/>\n",
       "<polygon fill=\"#000000\" stroke=\"#000000\" points=\"569.5001,-127.0561 566,-117.0561 562.5001,-127.0561 569.5001,-127.0561\"/>\n",
       "</g>\n",
       "<!-- 68 -->\n",
       "<g id=\"node69\" class=\"node\">\n",
       "<title>68</title>\n",
       "<text text-anchor=\"middle\" x=\"654\" y=\"-207.8\" font-family=\"Times,serif\" font-size=\"14.00\" fill=\"#000000\">&lt;factor&gt;</text>\n",
       "</g>\n",
       "<!-- 67&#45;&gt;68 -->\n",
       "<g id=\"edge68\" class=\"edge\">\n",
       "<title>67&#45;&gt;68</title>\n",
       "<path fill=\"none\" stroke=\"#000000\" d=\"M659.1147,-254.9748C658.3171,-248.195 657.1136,-237.966 656.0745,-229.1331\"/>\n",
       "<polygon fill=\"#000000\" stroke=\"#000000\" points=\"659.5335,-228.5786 654.889,-219.0561 652.5814,-229.3966 659.5335,-228.5786\"/>\n",
       "</g>\n",
       "<!-- 69 -->\n",
       "<g id=\"node70\" class=\"node\">\n",
       "<title>69</title>\n",
       "<text text-anchor=\"middle\" x=\"654\" y=\"-156.8\" font-family=\"Times,serif\" font-size=\"14.00\" fill=\"#000000\">&lt;integer&gt;</text>\n",
       "</g>\n",
       "<!-- 68&#45;&gt;69 -->\n",
       "<g id=\"edge69\" class=\"edge\">\n",
       "<title>68&#45;&gt;69</title>\n",
       "<path fill=\"none\" stroke=\"#000000\" d=\"M654,-203.9748C654,-197.195 654,-186.966 654,-178.1331\"/>\n",
       "<polygon fill=\"#000000\" stroke=\"#000000\" points=\"657.5001,-178.0561 654,-168.0561 650.5001,-178.0561 657.5001,-178.0561\"/>\n",
       "</g>\n",
       "<!-- 70 -->\n",
       "<g id=\"node71\" class=\"node\">\n",
       "<title>70</title>\n",
       "<text text-anchor=\"middle\" x=\"654\" y=\"-105.8\" font-family=\"Times,serif\" font-size=\"14.00\" fill=\"#000000\">&lt;digit&gt;</text>\n",
       "</g>\n",
       "<!-- 69&#45;&gt;70 -->\n",
       "<g id=\"edge70\" class=\"edge\">\n",
       "<title>69&#45;&gt;70</title>\n",
       "<path fill=\"none\" stroke=\"#000000\" d=\"M654,-152.9748C654,-146.195 654,-135.966 654,-127.1331\"/>\n",
       "<polygon fill=\"#000000\" stroke=\"#000000\" points=\"657.5001,-127.0561 654,-117.0561 650.5001,-127.0561 657.5001,-127.0561\"/>\n",
       "</g>\n",
       "<!-- 71 -->\n",
       "<g id=\"node72\" class=\"node\">\n",
       "<title>71</title>\n",
       "<text text-anchor=\"middle\" x=\"654\" y=\"-54.8\" font-family=\"Times,serif\" font-size=\"14.00\" fill=\"#000000\">7</text>\n",
       "</g>\n",
       "<!-- 70&#45;&gt;71 -->\n",
       "<g id=\"edge71\" class=\"edge\">\n",
       "<title>70&#45;&gt;71</title>\n",
       "<path fill=\"none\" stroke=\"#000000\" d=\"M654,-101.9748C654,-95.195 654,-84.966 654,-76.1331\"/>\n",
       "<polygon fill=\"#000000\" stroke=\"#000000\" points=\"657.5001,-76.0561 654,-66.0561 650.5001,-76.0561 657.5001,-76.0561\"/>\n",
       "</g>\n",
       "<!-- 74 -->\n",
       "<g id=\"node75\" class=\"node\">\n",
       "<title>74</title>\n",
       "<text text-anchor=\"middle\" x=\"696\" y=\"-309.8\" font-family=\"Times,serif\" font-size=\"14.00\" fill=\"#000000\">&lt;term&gt;</text>\n",
       "</g>\n",
       "<!-- 73&#45;&gt;74 -->\n",
       "<g id=\"edge74\" class=\"edge\">\n",
       "<title>73&#45;&gt;74</title>\n",
       "<path fill=\"none\" stroke=\"#000000\" d=\"M715.6063,-356.9748C712.4468,-349.969 707.6264,-339.2803 703.556,-330.2547\"/>\n",
       "<polygon fill=\"#000000\" stroke=\"#000000\" points=\"706.7093,-328.7331 699.4077,-321.0561 700.3282,-331.6109 706.7093,-328.7331\"/>\n",
       "</g>\n",
       "<!-- 79 -->\n",
       "<g id=\"node80\" class=\"node\">\n",
       "<title>79</title>\n",
       "<text text-anchor=\"middle\" x=\"743\" y=\"-309.8\" font-family=\"Times,serif\" font-size=\"14.00\" fill=\"#000000\"> + </text>\n",
       "</g>\n",
       "<!-- 73&#45;&gt;79 -->\n",
       "<g id=\"edge79\" class=\"edge\">\n",
       "<title>73&#45;&gt;79</title>\n",
       "<path fill=\"none\" stroke=\"#000000\" d=\"M722.5413,-356.9748C725.8381,-349.969 730.8681,-339.2803 735.1155,-330.2547\"/>\n",
       "<polygon fill=\"#000000\" stroke=\"#000000\" points=\"738.353,-331.5946 739.4442,-321.0561 732.0193,-328.614 738.353,-331.5946\"/>\n",
       "</g>\n",
       "<!-- 80 -->\n",
       "<g id=\"node81\" class=\"node\">\n",
       "<title>80</title>\n",
       "<text text-anchor=\"middle\" x=\"789\" y=\"-309.8\" font-family=\"Times,serif\" font-size=\"14.00\" fill=\"#000000\">&lt;expr&gt;</text>\n",
       "</g>\n",
       "<!-- 73&#45;&gt;80 -->\n",
       "<g id=\"edge80\" class=\"edge\">\n",
       "<title>73&#45;&gt;80</title>\n",
       "<path fill=\"none\" stroke=\"#000000\" d=\"M729.3287,-356.9748C740.0819,-349.1403 757.1566,-336.7002 770.2912,-327.1307\"/>\n",
       "<polygon fill=\"#000000\" stroke=\"#000000\" points=\"772.6075,-329.7736 778.6289,-321.0561 768.4855,-324.1159 772.6075,-329.7736\"/>\n",
       "</g>\n",
       "<!-- 75 -->\n",
       "<g id=\"node76\" class=\"node\">\n",
       "<title>75</title>\n",
       "<text text-anchor=\"middle\" x=\"724\" y=\"-258.8\" font-family=\"Times,serif\" font-size=\"14.00\" fill=\"#000000\">&lt;factor&gt;</text>\n",
       "</g>\n",
       "<!-- 74&#45;&gt;75 -->\n",
       "<g id=\"edge75\" class=\"edge\">\n",
       "<title>74&#45;&gt;75</title>\n",
       "<path fill=\"none\" stroke=\"#000000\" d=\"M700.1315,-305.9748C704.0192,-298.8936 709.9726,-288.05 714.9609,-278.9641\"/>\n",
       "<polygon fill=\"#000000\" stroke=\"#000000\" points=\"718.1069,-280.5063 719.8516,-270.0561 711.9709,-277.1375 718.1069,-280.5063\"/>\n",
       "</g>\n",
       "<!-- 76 -->\n",
       "<g id=\"node77\" class=\"node\">\n",
       "<title>76</title>\n",
       "<text text-anchor=\"middle\" x=\"724\" y=\"-207.8\" font-family=\"Times,serif\" font-size=\"14.00\" fill=\"#000000\">&lt;integer&gt;</text>\n",
       "</g>\n",
       "<!-- 75&#45;&gt;76 -->\n",
       "<g id=\"edge76\" class=\"edge\">\n",
       "<title>75&#45;&gt;76</title>\n",
       "<path fill=\"none\" stroke=\"#000000\" d=\"M724,-254.9748C724,-248.195 724,-237.966 724,-229.1331\"/>\n",
       "<polygon fill=\"#000000\" stroke=\"#000000\" points=\"727.5001,-229.0561 724,-219.0561 720.5001,-229.0561 727.5001,-229.0561\"/>\n",
       "</g>\n",
       "<!-- 77 -->\n",
       "<g id=\"node78\" class=\"node\">\n",
       "<title>77</title>\n",
       "<text text-anchor=\"middle\" x=\"724\" y=\"-156.8\" font-family=\"Times,serif\" font-size=\"14.00\" fill=\"#000000\">&lt;digit&gt;</text>\n",
       "</g>\n",
       "<!-- 76&#45;&gt;77 -->\n",
       "<g id=\"edge77\" class=\"edge\">\n",
       "<title>76&#45;&gt;77</title>\n",
       "<path fill=\"none\" stroke=\"#000000\" d=\"M724,-203.9748C724,-197.195 724,-186.966 724,-178.1331\"/>\n",
       "<polygon fill=\"#000000\" stroke=\"#000000\" points=\"727.5001,-178.0561 724,-168.0561 720.5001,-178.0561 727.5001,-178.0561\"/>\n",
       "</g>\n",
       "<!-- 78 -->\n",
       "<g id=\"node79\" class=\"node\">\n",
       "<title>78</title>\n",
       "<text text-anchor=\"middle\" x=\"724\" y=\"-105.8\" font-family=\"Times,serif\" font-size=\"14.00\" fill=\"#000000\">4</text>\n",
       "</g>\n",
       "<!-- 77&#45;&gt;78 -->\n",
       "<g id=\"edge78\" class=\"edge\">\n",
       "<title>77&#45;&gt;78</title>\n",
       "<path fill=\"none\" stroke=\"#000000\" d=\"M724,-152.9748C724,-146.195 724,-135.966 724,-127.1331\"/>\n",
       "<polygon fill=\"#000000\" stroke=\"#000000\" points=\"727.5001,-127.0561 724,-117.0561 720.5001,-127.0561 727.5001,-127.0561\"/>\n",
       "</g>\n",
       "<!-- 81 -->\n",
       "<g id=\"node82\" class=\"node\">\n",
       "<title>81</title>\n",
       "<text text-anchor=\"middle\" x=\"791\" y=\"-258.8\" font-family=\"Times,serif\" font-size=\"14.00\" fill=\"#000000\">&lt;term&gt;</text>\n",
       "</g>\n",
       "<!-- 80&#45;&gt;81 -->\n",
       "<g id=\"edge81\" class=\"edge\">\n",
       "<title>80&#45;&gt;81</title>\n",
       "<path fill=\"none\" stroke=\"#000000\" d=\"M789.2951,-305.9748C789.561,-299.195 789.9621,-288.966 790.3085,-280.1331\"/>\n",
       "<polygon fill=\"#000000\" stroke=\"#000000\" points=\"793.809,-280.1856 790.7037,-270.0561 786.8144,-279.9112 793.809,-280.1856\"/>\n",
       "</g>\n",
       "<!-- 82 -->\n",
       "<g id=\"node83\" class=\"node\">\n",
       "<title>82</title>\n",
       "<text text-anchor=\"middle\" x=\"794\" y=\"-207.8\" font-family=\"Times,serif\" font-size=\"14.00\" fill=\"#000000\">&lt;factor&gt;</text>\n",
       "</g>\n",
       "<!-- 81&#45;&gt;82 -->\n",
       "<g id=\"edge82\" class=\"edge\">\n",
       "<title>81&#45;&gt;82</title>\n",
       "<path fill=\"none\" stroke=\"#000000\" d=\"M791.4427,-254.9748C791.8415,-248.195 792.4432,-237.966 792.9628,-229.1331\"/>\n",
       "<polygon fill=\"#000000\" stroke=\"#000000\" points=\"796.4622,-229.2444 793.5555,-219.0561 789.4742,-228.8333 796.4622,-229.2444\"/>\n",
       "</g>\n",
       "<!-- 83 -->\n",
       "<g id=\"node84\" class=\"node\">\n",
       "<title>83</title>\n",
       "<text text-anchor=\"middle\" x=\"794\" y=\"-156.8\" font-family=\"Times,serif\" font-size=\"14.00\" fill=\"#000000\">&lt;integer&gt;</text>\n",
       "</g>\n",
       "<!-- 82&#45;&gt;83 -->\n",
       "<g id=\"edge83\" class=\"edge\">\n",
       "<title>82&#45;&gt;83</title>\n",
       "<path fill=\"none\" stroke=\"#000000\" d=\"M794,-203.9748C794,-197.195 794,-186.966 794,-178.1331\"/>\n",
       "<polygon fill=\"#000000\" stroke=\"#000000\" points=\"797.5001,-178.0561 794,-168.0561 790.5001,-178.0561 797.5001,-178.0561\"/>\n",
       "</g>\n",
       "<!-- 84 -->\n",
       "<g id=\"node85\" class=\"node\">\n",
       "<title>84</title>\n",
       "<text text-anchor=\"middle\" x=\"794\" y=\"-105.8\" font-family=\"Times,serif\" font-size=\"14.00\" fill=\"#000000\">&lt;digit&gt;</text>\n",
       "</g>\n",
       "<!-- 83&#45;&gt;84 -->\n",
       "<g id=\"edge84\" class=\"edge\">\n",
       "<title>83&#45;&gt;84</title>\n",
       "<path fill=\"none\" stroke=\"#000000\" d=\"M794,-152.9748C794,-146.195 794,-135.966 794,-127.1331\"/>\n",
       "<polygon fill=\"#000000\" stroke=\"#000000\" points=\"797.5001,-127.0561 794,-117.0561 790.5001,-127.0561 797.5001,-127.0561\"/>\n",
       "</g>\n",
       "<!-- 85 -->\n",
       "<g id=\"node86\" class=\"node\">\n",
       "<title>85</title>\n",
       "<text text-anchor=\"middle\" x=\"794\" y=\"-54.8\" font-family=\"Times,serif\" font-size=\"14.00\" fill=\"#000000\">0</text>\n",
       "</g>\n",
       "<!-- 84&#45;&gt;85 -->\n",
       "<g id=\"edge85\" class=\"edge\">\n",
       "<title>84&#45;&gt;85</title>\n",
       "<path fill=\"none\" stroke=\"#000000\" d=\"M794,-101.9748C794,-95.195 794,-84.966 794,-76.1331\"/>\n",
       "<polygon fill=\"#000000\" stroke=\"#000000\" points=\"797.5001,-76.0561 794,-66.0561 790.5001,-76.0561 797.5001,-76.0561\"/>\n",
       "</g>\n",
       "<!-- 89 -->\n",
       "<g id=\"node90\" class=\"node\">\n",
       "<title>89</title>\n",
       "<text text-anchor=\"middle\" x=\"827\" y=\"-462.8\" font-family=\"Times,serif\" font-size=\"14.00\" fill=\"#000000\">&lt;factor&gt;</text>\n",
       "</g>\n",
       "<!-- 88&#45;&gt;89 -->\n",
       "<g id=\"edge89\" class=\"edge\">\n",
       "<title>88&#45;&gt;89</title>\n",
       "<path fill=\"none\" stroke=\"#000000\" d=\"M848.3112,-509.9748C844.8769,-502.969 839.6374,-492.2803 835.2131,-483.2547\"/>\n",
       "<polygon fill=\"#000000\" stroke=\"#000000\" points=\"838.2483,-481.4947 830.704,-474.0561 831.9629,-484.5759 838.2483,-481.4947\"/>\n",
       "</g>\n",
       "<!-- 95 -->\n",
       "<g id=\"node96\" class=\"node\">\n",
       "<title>95</title>\n",
       "<text text-anchor=\"middle\" x=\"877\" y=\"-462.8\" font-family=\"Times,serif\" font-size=\"14.00\" fill=\"#000000\"> * </text>\n",
       "</g>\n",
       "<!-- 88&#45;&gt;95 -->\n",
       "<g id=\"edge95\" class=\"edge\">\n",
       "<title>88&#45;&gt;95</title>\n",
       "<path fill=\"none\" stroke=\"#000000\" d=\"M855.6888,-509.9748C859.1231,-502.969 864.3626,-492.2803 868.7869,-483.2547\"/>\n",
       "<polygon fill=\"#000000\" stroke=\"#000000\" points=\"872.0371,-484.5759 873.296,-474.0561 865.7517,-481.4947 872.0371,-484.5759\"/>\n",
       "</g>\n",
       "<!-- 96 -->\n",
       "<g id=\"node97\" class=\"node\">\n",
       "<title>96</title>\n",
       "<text text-anchor=\"middle\" x=\"1033\" y=\"-462.8\" font-family=\"Times,serif\" font-size=\"14.00\" fill=\"#000000\">&lt;term&gt;</text>\n",
       "</g>\n",
       "<!-- 88&#45;&gt;96 -->\n",
       "<g id=\"edge96\" class=\"edge\">\n",
       "<title>88&#45;&gt;96</title>\n",
       "<path fill=\"none\" stroke=\"#000000\" d=\"M873.1172,-511.5498C904.9116,-502.5912 965.2592,-485.5872 1002.0336,-475.2253\"/>\n",
       "<polygon fill=\"#000000\" stroke=\"#000000\" points=\"1003.0615,-478.5721 1011.7375,-472.4911 1001.163,-471.8344 1003.0615,-478.5721\"/>\n",
       "</g>\n",
       "<!-- 90 -->\n",
       "<g id=\"node91\" class=\"node\">\n",
       "<title>90</title>\n",
       "<text text-anchor=\"middle\" x=\"804\" y=\"-411.8\" font-family=\"Times,serif\" font-size=\"14.00\" fill=\"#000000\">&#45;</text>\n",
       "</g>\n",
       "<!-- 89&#45;&gt;90 -->\n",
       "<g id=\"edge90\" class=\"edge\">\n",
       "<title>89&#45;&gt;90</title>\n",
       "<path fill=\"none\" stroke=\"#000000\" d=\"M823.6063,-458.9748C820.2289,-451.4858 814.9536,-439.7884 810.7254,-430.4128\"/>\n",
       "<polygon fill=\"#000000\" stroke=\"#000000\" points=\"813.8551,-428.8389 806.5534,-421.162 807.474,-431.7167 813.8551,-428.8389\"/>\n",
       "</g>\n",
       "<!-- 91 -->\n",
       "<g id=\"node92\" class=\"node\">\n",
       "<title>91</title>\n",
       "<text text-anchor=\"middle\" x=\"849\" y=\"-411.8\" font-family=\"Times,serif\" font-size=\"14.00\" fill=\"#000000\">&lt;factor&gt;</text>\n",
       "</g>\n",
       "<!-- 89&#45;&gt;91 -->\n",
       "<g id=\"edge91\" class=\"edge\">\n",
       "<title>89&#45;&gt;91</title>\n",
       "<path fill=\"none\" stroke=\"#000000\" d=\"M830.2462,-458.9748C833.2683,-451.969 837.8791,-441.2803 841.7725,-432.2547\"/>\n",
       "<polygon fill=\"#000000\" stroke=\"#000000\" points=\"844.9933,-433.6246 845.7405,-423.0561 838.5658,-430.8519 844.9933,-433.6246\"/>\n",
       "</g>\n",
       "<!-- 92 -->\n",
       "<g id=\"node93\" class=\"node\">\n",
       "<title>92</title>\n",
       "<text text-anchor=\"middle\" x=\"849\" y=\"-360.8\" font-family=\"Times,serif\" font-size=\"14.00\" fill=\"#000000\">&lt;integer&gt;</text>\n",
       "</g>\n",
       "<!-- 91&#45;&gt;92 -->\n",
       "<g id=\"edge92\" class=\"edge\">\n",
       "<title>91&#45;&gt;92</title>\n",
       "<path fill=\"none\" stroke=\"#000000\" d=\"M849,-407.9748C849,-401.195 849,-390.966 849,-382.1331\"/>\n",
       "<polygon fill=\"#000000\" stroke=\"#000000\" points=\"852.5001,-382.0561 849,-372.0561 845.5001,-382.0561 852.5001,-382.0561\"/>\n",
       "</g>\n",
       "<!-- 93 -->\n",
       "<g id=\"node94\" class=\"node\">\n",
       "<title>93</title>\n",
       "<text text-anchor=\"middle\" x=\"849\" y=\"-309.8\" font-family=\"Times,serif\" font-size=\"14.00\" fill=\"#000000\">&lt;digit&gt;</text>\n",
       "</g>\n",
       "<!-- 92&#45;&gt;93 -->\n",
       "<g id=\"edge93\" class=\"edge\">\n",
       "<title>92&#45;&gt;93</title>\n",
       "<path fill=\"none\" stroke=\"#000000\" d=\"M849,-356.9748C849,-350.195 849,-339.966 849,-331.1331\"/>\n",
       "<polygon fill=\"#000000\" stroke=\"#000000\" points=\"852.5001,-331.0561 849,-321.0561 845.5001,-331.0561 852.5001,-331.0561\"/>\n",
       "</g>\n",
       "<!-- 94 -->\n",
       "<g id=\"node95\" class=\"node\">\n",
       "<title>94</title>\n",
       "<text text-anchor=\"middle\" x=\"846\" y=\"-258.8\" font-family=\"Times,serif\" font-size=\"14.00\" fill=\"#000000\">0</text>\n",
       "</g>\n",
       "<!-- 93&#45;&gt;94 -->\n",
       "<g id=\"edge94\" class=\"edge\">\n",
       "<title>93&#45;&gt;94</title>\n",
       "<path fill=\"none\" stroke=\"#000000\" d=\"M848.5573,-305.9748C848.1585,-299.195 847.5568,-288.966 847.0372,-280.1331\"/>\n",
       "<polygon fill=\"#000000\" stroke=\"#000000\" points=\"850.5258,-279.8333 846.4445,-270.0561 843.5378,-280.2444 850.5258,-279.8333\"/>\n",
       "</g>\n",
       "<!-- 97 -->\n",
       "<g id=\"node98\" class=\"node\">\n",
       "<title>97</title>\n",
       "<text text-anchor=\"middle\" x=\"1009\" y=\"-411.8\" font-family=\"Times,serif\" font-size=\"14.00\" fill=\"#000000\">&lt;factor&gt;</text>\n",
       "</g>\n",
       "<!-- 96&#45;&gt;97 -->\n",
       "<g id=\"edge97\" class=\"edge\">\n",
       "<title>96&#45;&gt;97</title>\n",
       "<path fill=\"none\" stroke=\"#000000\" d=\"M1029.4587,-458.9748C1026.1619,-451.969 1021.1319,-441.2803 1016.8845,-432.2547\"/>\n",
       "<polygon fill=\"#000000\" stroke=\"#000000\" points=\"1019.9807,-430.614 1012.5558,-423.0561 1013.647,-433.5946 1019.9807,-430.614\"/>\n",
       "</g>\n",
       "<!-- 125 -->\n",
       "<g id=\"node126\" class=\"node\">\n",
       "<title>125</title>\n",
       "<text text-anchor=\"middle\" x=\"1057\" y=\"-411.8\" font-family=\"Times,serif\" font-size=\"14.00\" fill=\"#000000\"> / </text>\n",
       "</g>\n",
       "<!-- 96&#45;&gt;125 -->\n",
       "<g id=\"edge125\" class=\"edge\">\n",
       "<title>96&#45;&gt;125</title>\n",
       "<path fill=\"none\" stroke=\"#000000\" d=\"M1036.5413,-458.9748C1039.8381,-451.969 1044.8681,-441.2803 1049.1155,-432.2547\"/>\n",
       "<polygon fill=\"#000000\" stroke=\"#000000\" points=\"1052.353,-433.5946 1053.4442,-423.0561 1046.0193,-430.614 1052.353,-433.5946\"/>\n",
       "</g>\n",
       "<!-- 126 -->\n",
       "<g id=\"node127\" class=\"node\">\n",
       "<title>126</title>\n",
       "<text text-anchor=\"middle\" x=\"1118\" y=\"-411.8\" font-family=\"Times,serif\" font-size=\"14.00\" fill=\"#000000\">&lt;term&gt;</text>\n",
       "</g>\n",
       "<!-- 96&#45;&gt;126 -->\n",
       "<g id=\"edge126\" class=\"edge\">\n",
       "<title>96&#45;&gt;126</title>\n",
       "<path fill=\"none\" stroke=\"#000000\" d=\"M1045.542,-458.9748C1058.9761,-450.9143 1080.5355,-437.9787 1096.6502,-428.3099\"/>\n",
       "<polygon fill=\"#000000\" stroke=\"#000000\" points=\"1098.6323,-431.2023 1105.4065,-423.0561 1095.0308,-425.1999 1098.6323,-431.2023\"/>\n",
       "</g>\n",
       "<!-- 98 -->\n",
       "<g id=\"node99\" class=\"node\">\n",
       "<title>98</title>\n",
       "<text text-anchor=\"middle\" x=\"968\" y=\"-360.8\" font-family=\"Times,serif\" font-size=\"14.00\" fill=\"#000000\">(</text>\n",
       "</g>\n",
       "<!-- 97&#45;&gt;98 -->\n",
       "<g id=\"edge98\" class=\"edge\">\n",
       "<title>97&#45;&gt;98</title>\n",
       "<path fill=\"none\" stroke=\"#000000\" d=\"M1002.9503,-407.9748C996.1341,-399.4961 984.9814,-385.6232 977.1104,-375.8324\"/>\n",
       "<polygon fill=\"#000000\" stroke=\"#000000\" points=\"979.6088,-373.3541 970.6154,-367.7533 974.1531,-377.74 979.6088,-373.3541\"/>\n",
       "</g>\n",
       "<!-- 99 -->\n",
       "<g id=\"node100\" class=\"node\">\n",
       "<title>99</title>\n",
       "<text text-anchor=\"middle\" x=\"1009\" y=\"-360.8\" font-family=\"Times,serif\" font-size=\"14.00\" fill=\"#000000\">&lt;expr&gt;</text>\n",
       "</g>\n",
       "<!-- 97&#45;&gt;99 -->\n",
       "<g id=\"edge99\" class=\"edge\">\n",
       "<title>97&#45;&gt;99</title>\n",
       "<path fill=\"none\" stroke=\"#000000\" d=\"M1009,-407.9748C1009,-401.195 1009,-390.966 1009,-382.1331\"/>\n",
       "<polygon fill=\"#000000\" stroke=\"#000000\" points=\"1012.5001,-382.0561 1009,-372.0561 1005.5001,-382.0561 1012.5001,-382.0561\"/>\n",
       "</g>\n",
       "<!-- 124 -->\n",
       "<g id=\"node125\" class=\"node\">\n",
       "<title>124</title>\n",
       "<text text-anchor=\"middle\" x=\"1050\" y=\"-360.8\" font-family=\"Times,serif\" font-size=\"14.00\" fill=\"#000000\">)</text>\n",
       "</g>\n",
       "<!-- 97&#45;&gt;124 -->\n",
       "<g id=\"edge124\" class=\"edge\">\n",
       "<title>97&#45;&gt;124</title>\n",
       "<path fill=\"none\" stroke=\"#000000\" d=\"M1015.0497,-407.9748C1021.8659,-399.4961 1033.0186,-385.6232 1040.8896,-375.8324\"/>\n",
       "<polygon fill=\"#000000\" stroke=\"#000000\" points=\"1043.8469,-377.74 1047.3846,-367.7533 1038.3912,-373.3541 1043.8469,-377.74\"/>\n",
       "</g>\n",
       "<!-- 100 -->\n",
       "<g id=\"node101\" class=\"node\">\n",
       "<title>100</title>\n",
       "<text text-anchor=\"middle\" x=\"946\" y=\"-309.8\" font-family=\"Times,serif\" font-size=\"14.00\" fill=\"#000000\">&lt;term&gt;</text>\n",
       "</g>\n",
       "<!-- 99&#45;&gt;100 -->\n",
       "<g id=\"edge100\" class=\"edge\">\n",
       "<title>99&#45;&gt;100</title>\n",
       "<path fill=\"none\" stroke=\"#000000\" d=\"M999.7041,-356.9748C990.1193,-349.2157 974.9541,-336.939 963.1799,-327.4075\"/>\n",
       "<polygon fill=\"#000000\" stroke=\"#000000\" points=\"965.3087,-324.6278 955.334,-321.0561 960.9043,-330.0685 965.3087,-324.6278\"/>\n",
       "</g>\n",
       "<!-- 117 -->\n",
       "<g id=\"node118\" class=\"node\">\n",
       "<title>117</title>\n",
       "<text text-anchor=\"middle\" x=\"1009\" y=\"-309.8\" font-family=\"Times,serif\" font-size=\"14.00\" fill=\"#000000\"> + </text>\n",
       "</g>\n",
       "<!-- 99&#45;&gt;117 -->\n",
       "<g id=\"edge117\" class=\"edge\">\n",
       "<title>99&#45;&gt;117</title>\n",
       "<path fill=\"none\" stroke=\"#000000\" d=\"M1009,-356.9748C1009,-350.195 1009,-339.966 1009,-331.1331\"/>\n",
       "<polygon fill=\"#000000\" stroke=\"#000000\" points=\"1012.5001,-331.0561 1009,-321.0561 1005.5001,-331.0561 1012.5001,-331.0561\"/>\n",
       "</g>\n",
       "<!-- 118 -->\n",
       "<g id=\"node119\" class=\"node\">\n",
       "<title>118</title>\n",
       "<text text-anchor=\"middle\" x=\"1063\" y=\"-309.8\" font-family=\"Times,serif\" font-size=\"14.00\" fill=\"#000000\">&lt;expr&gt;</text>\n",
       "</g>\n",
       "<!-- 99&#45;&gt;118 -->\n",
       "<g id=\"edge118\" class=\"edge\">\n",
       "<title>99&#45;&gt;118</title>\n",
       "<path fill=\"none\" stroke=\"#000000\" d=\"M1016.9679,-356.9748C1025.0239,-349.3663 1037.6792,-337.4141 1047.6833,-327.9658\"/>\n",
       "<polygon fill=\"#000000\" stroke=\"#000000\" points=\"1050.1325,-330.4669 1054.9994,-321.0561 1045.3261,-325.3778 1050.1325,-330.4669\"/>\n",
       "</g>\n",
       "<!-- 101 -->\n",
       "<g id=\"node102\" class=\"node\">\n",
       "<title>101</title>\n",
       "<text text-anchor=\"middle\" x=\"893\" y=\"-258.8\" font-family=\"Times,serif\" font-size=\"14.00\" fill=\"#000000\">&lt;factor&gt;</text>\n",
       "</g>\n",
       "<!-- 100&#45;&gt;101 -->\n",
       "<g id=\"edge101\" class=\"edge\">\n",
       "<title>100&#45;&gt;101</title>\n",
       "<path fill=\"none\" stroke=\"#000000\" d=\"M938.1797,-305.9748C930.3511,-298.4417 918.0974,-286.6503 908.3255,-277.2472\"/>\n",
       "<polygon fill=\"#000000\" stroke=\"#000000\" points=\"910.485,-274.4679 900.8524,-270.0561 905.6313,-279.5119 910.485,-274.4679\"/>\n",
       "</g>\n",
       "<!-- 105 -->\n",
       "<g id=\"node106\" class=\"node\">\n",
       "<title>105</title>\n",
       "<text text-anchor=\"middle\" x=\"943\" y=\"-258.8\" font-family=\"Times,serif\" font-size=\"14.00\" fill=\"#000000\"> * </text>\n",
       "</g>\n",
       "<!-- 100&#45;&gt;105 -->\n",
       "<g id=\"edge105\" class=\"edge\">\n",
       "<title>100&#45;&gt;105</title>\n",
       "<path fill=\"none\" stroke=\"#000000\" d=\"M945.5573,-305.9748C945.1585,-299.195 944.5568,-288.966 944.0372,-280.1331\"/>\n",
       "<polygon fill=\"#000000\" stroke=\"#000000\" points=\"947.5258,-279.8333 943.4445,-270.0561 940.5378,-280.2444 947.5258,-279.8333\"/>\n",
       "</g>\n",
       "<!-- 106 -->\n",
       "<g id=\"node107\" class=\"node\">\n",
       "<title>106</title>\n",
       "<text text-anchor=\"middle\" x=\"990\" y=\"-258.8\" font-family=\"Times,serif\" font-size=\"14.00\" fill=\"#000000\">&lt;term&gt;</text>\n",
       "</g>\n",
       "<!-- 100&#45;&gt;106 -->\n",
       "<g id=\"edge106\" class=\"edge\">\n",
       "<title>100&#45;&gt;106</title>\n",
       "<path fill=\"none\" stroke=\"#000000\" d=\"M952.4924,-305.9748C958.8615,-298.5923 968.759,-287.1203 976.7878,-277.8142\"/>\n",
       "<polygon fill=\"#000000\" stroke=\"#000000\" points=\"979.5987,-279.914 983.481,-270.0561 974.2986,-275.3414 979.5987,-279.914\"/>\n",
       "</g>\n",
       "<!-- 102 -->\n",
       "<g id=\"node103\" class=\"node\">\n",
       "<title>102</title>\n",
       "<text text-anchor=\"middle\" x=\"868\" y=\"-207.8\" font-family=\"Times,serif\" font-size=\"14.00\" fill=\"#000000\">&lt;integer&gt;</text>\n",
       "</g>\n",
       "<!-- 101&#45;&gt;102 -->\n",
       "<g id=\"edge102\" class=\"edge\">\n",
       "<title>101&#45;&gt;102</title>\n",
       "<path fill=\"none\" stroke=\"#000000\" d=\"M889.3112,-254.9748C885.8769,-247.969 880.6374,-237.2803 876.2131,-228.2547\"/>\n",
       "<polygon fill=\"#000000\" stroke=\"#000000\" points=\"879.2483,-226.4947 871.704,-219.0561 872.9629,-229.5759 879.2483,-226.4947\"/>\n",
       "</g>\n",
       "<!-- 103 -->\n",
       "<g id=\"node104\" class=\"node\">\n",
       "<title>103</title>\n",
       "<text text-anchor=\"middle\" x=\"868\" y=\"-156.8\" font-family=\"Times,serif\" font-size=\"14.00\" fill=\"#000000\">&lt;digit&gt;</text>\n",
       "</g>\n",
       "<!-- 102&#45;&gt;103 -->\n",
       "<g id=\"edge103\" class=\"edge\">\n",
       "<title>102&#45;&gt;103</title>\n",
       "<path fill=\"none\" stroke=\"#000000\" d=\"M868,-203.9748C868,-197.195 868,-186.966 868,-178.1331\"/>\n",
       "<polygon fill=\"#000000\" stroke=\"#000000\" points=\"871.5001,-178.0561 868,-168.0561 864.5001,-178.0561 871.5001,-178.0561\"/>\n",
       "</g>\n",
       "<!-- 104 -->\n",
       "<g id=\"node105\" class=\"node\">\n",
       "<title>104</title>\n",
       "<text text-anchor=\"middle\" x=\"868\" y=\"-105.8\" font-family=\"Times,serif\" font-size=\"14.00\" fill=\"#000000\">1</text>\n",
       "</g>\n",
       "<!-- 103&#45;&gt;104 -->\n",
       "<g id=\"edge104\" class=\"edge\">\n",
       "<title>103&#45;&gt;104</title>\n",
       "<path fill=\"none\" stroke=\"#000000\" d=\"M868,-152.9748C868,-146.195 868,-135.966 868,-127.1331\"/>\n",
       "<polygon fill=\"#000000\" stroke=\"#000000\" points=\"871.5001,-127.0561 868,-117.0561 864.5001,-127.0561 871.5001,-127.0561\"/>\n",
       "</g>\n",
       "<!-- 107 -->\n",
       "<g id=\"node108\" class=\"node\">\n",
       "<title>107</title>\n",
       "<text text-anchor=\"middle\" x=\"938\" y=\"-207.8\" font-family=\"Times,serif\" font-size=\"14.00\" fill=\"#000000\">&lt;factor&gt;</text>\n",
       "</g>\n",
       "<!-- 106&#45;&gt;107 -->\n",
       "<g id=\"edge107\" class=\"edge\">\n",
       "<title>106&#45;&gt;107</title>\n",
       "<path fill=\"none\" stroke=\"#000000\" d=\"M982.3272,-254.9748C974.6464,-247.4417 962.6239,-235.6503 953.0363,-226.2472\"/>\n",
       "<polygon fill=\"#000000\" stroke=\"#000000\" points=\"955.2944,-223.5594 945.7043,-219.0561 950.3929,-228.557 955.2944,-223.5594\"/>\n",
       "</g>\n",
       "<!-- 111 -->\n",
       "<g id=\"node112\" class=\"node\">\n",
       "<title>111</title>\n",
       "<text text-anchor=\"middle\" x=\"986\" y=\"-207.8\" font-family=\"Times,serif\" font-size=\"14.00\" fill=\"#000000\"> / </text>\n",
       "</g>\n",
       "<!-- 106&#45;&gt;111 -->\n",
       "<g id=\"edge111\" class=\"edge\">\n",
       "<title>106&#45;&gt;111</title>\n",
       "<path fill=\"none\" stroke=\"#000000\" d=\"M989.4098,-254.9748C988.878,-248.195 988.0758,-237.966 987.383,-229.1331\"/>\n",
       "<polygon fill=\"#000000\" stroke=\"#000000\" points=\"990.8639,-228.7518 986.5926,-219.0561 983.8854,-229.2992 990.8639,-228.7518\"/>\n",
       "</g>\n",
       "<!-- 112 -->\n",
       "<g id=\"node113\" class=\"node\">\n",
       "<title>112</title>\n",
       "<text text-anchor=\"middle\" x=\"1031\" y=\"-207.8\" font-family=\"Times,serif\" font-size=\"14.00\" fill=\"#000000\">&lt;term&gt;</text>\n",
       "</g>\n",
       "<!-- 106&#45;&gt;112 -->\n",
       "<g id=\"edge112\" class=\"edge\">\n",
       "<title>106&#45;&gt;112</title>\n",
       "<path fill=\"none\" stroke=\"#000000\" d=\"M996.0497,-254.9748C1001.924,-247.6677 1011.0193,-236.354 1018.459,-227.0997\"/>\n",
       "<polygon fill=\"#000000\" stroke=\"#000000\" points=\"1021.3877,-229.0428 1024.9255,-219.0561 1015.9321,-224.6569 1021.3877,-229.0428\"/>\n",
       "</g>\n",
       "<!-- 108 -->\n",
       "<g id=\"node109\" class=\"node\">\n",
       "<title>108</title>\n",
       "<text text-anchor=\"middle\" x=\"938\" y=\"-156.8\" font-family=\"Times,serif\" font-size=\"14.00\" fill=\"#000000\">&lt;integer&gt;</text>\n",
       "</g>\n",
       "<!-- 107&#45;&gt;108 -->\n",
       "<g id=\"edge108\" class=\"edge\">\n",
       "<title>107&#45;&gt;108</title>\n",
       "<path fill=\"none\" stroke=\"#000000\" d=\"M938,-203.9748C938,-197.195 938,-186.966 938,-178.1331\"/>\n",
       "<polygon fill=\"#000000\" stroke=\"#000000\" points=\"941.5001,-178.0561 938,-168.0561 934.5001,-178.0561 941.5001,-178.0561\"/>\n",
       "</g>\n",
       "<!-- 109 -->\n",
       "<g id=\"node110\" class=\"node\">\n",
       "<title>109</title>\n",
       "<text text-anchor=\"middle\" x=\"938\" y=\"-105.8\" font-family=\"Times,serif\" font-size=\"14.00\" fill=\"#000000\">&lt;digit&gt;</text>\n",
       "</g>\n",
       "<!-- 108&#45;&gt;109 -->\n",
       "<g id=\"edge109\" class=\"edge\">\n",
       "<title>108&#45;&gt;109</title>\n",
       "<path fill=\"none\" stroke=\"#000000\" d=\"M938,-152.9748C938,-146.195 938,-135.966 938,-127.1331\"/>\n",
       "<polygon fill=\"#000000\" stroke=\"#000000\" points=\"941.5001,-127.0561 938,-117.0561 934.5001,-127.0561 941.5001,-127.0561\"/>\n",
       "</g>\n",
       "<!-- 110 -->\n",
       "<g id=\"node111\" class=\"node\">\n",
       "<title>110</title>\n",
       "<text text-anchor=\"middle\" x=\"938\" y=\"-54.8\" font-family=\"Times,serif\" font-size=\"14.00\" fill=\"#000000\">1</text>\n",
       "</g>\n",
       "<!-- 109&#45;&gt;110 -->\n",
       "<g id=\"edge110\" class=\"edge\">\n",
       "<title>109&#45;&gt;110</title>\n",
       "<path fill=\"none\" stroke=\"#000000\" d=\"M938,-101.9748C938,-95.195 938,-84.966 938,-76.1331\"/>\n",
       "<polygon fill=\"#000000\" stroke=\"#000000\" points=\"941.5001,-76.0561 938,-66.0561 934.5001,-76.0561 941.5001,-76.0561\"/>\n",
       "</g>\n",
       "<!-- 113 -->\n",
       "<g id=\"node114\" class=\"node\">\n",
       "<title>113</title>\n",
       "<text text-anchor=\"middle\" x=\"1028\" y=\"-156.8\" font-family=\"Times,serif\" font-size=\"14.00\" fill=\"#000000\">&lt;factor&gt;</text>\n",
       "</g>\n",
       "<!-- 112&#45;&gt;113 -->\n",
       "<g id=\"edge113\" class=\"edge\">\n",
       "<title>112&#45;&gt;113</title>\n",
       "<path fill=\"none\" stroke=\"#000000\" d=\"M1030.5573,-203.9748C1030.1585,-197.195 1029.5568,-186.966 1029.0372,-178.1331\"/>\n",
       "<polygon fill=\"#000000\" stroke=\"#000000\" points=\"1032.5258,-177.8333 1028.4445,-168.0561 1025.5378,-178.2444 1032.5258,-177.8333\"/>\n",
       "</g>\n",
       "<!-- 114 -->\n",
       "<g id=\"node115\" class=\"node\">\n",
       "<title>114</title>\n",
       "<text text-anchor=\"middle\" x=\"1028\" y=\"-105.8\" font-family=\"Times,serif\" font-size=\"14.00\" fill=\"#000000\">&lt;integer&gt;</text>\n",
       "</g>\n",
       "<!-- 113&#45;&gt;114 -->\n",
       "<g id=\"edge114\" class=\"edge\">\n",
       "<title>113&#45;&gt;114</title>\n",
       "<path fill=\"none\" stroke=\"#000000\" d=\"M1028,-152.9748C1028,-146.195 1028,-135.966 1028,-127.1331\"/>\n",
       "<polygon fill=\"#000000\" stroke=\"#000000\" points=\"1031.5001,-127.0561 1028,-117.0561 1024.5001,-127.0561 1031.5001,-127.0561\"/>\n",
       "</g>\n",
       "<!-- 115 -->\n",
       "<g id=\"node116\" class=\"node\">\n",
       "<title>115</title>\n",
       "<text text-anchor=\"middle\" x=\"1028\" y=\"-54.8\" font-family=\"Times,serif\" font-size=\"14.00\" fill=\"#000000\">&lt;digit&gt;</text>\n",
       "</g>\n",
       "<!-- 114&#45;&gt;115 -->\n",
       "<g id=\"edge115\" class=\"edge\">\n",
       "<title>114&#45;&gt;115</title>\n",
       "<path fill=\"none\" stroke=\"#000000\" d=\"M1028,-101.9748C1028,-95.195 1028,-84.966 1028,-76.1331\"/>\n",
       "<polygon fill=\"#000000\" stroke=\"#000000\" points=\"1031.5001,-76.0561 1028,-66.0561 1024.5001,-76.0561 1031.5001,-76.0561\"/>\n",
       "</g>\n",
       "<!-- 116 -->\n",
       "<g id=\"node117\" class=\"node\">\n",
       "<title>116</title>\n",
       "<text text-anchor=\"middle\" x=\"1028\" y=\"-3.8\" font-family=\"Times,serif\" font-size=\"14.00\" fill=\"#000000\">1</text>\n",
       "</g>\n",
       "<!-- 115&#45;&gt;116 -->\n",
       "<g id=\"edge116\" class=\"edge\">\n",
       "<title>115&#45;&gt;116</title>\n",
       "<path fill=\"none\" stroke=\"#000000\" d=\"M1028,-50.9748C1028,-44.195 1028,-33.966 1028,-25.1331\"/>\n",
       "<polygon fill=\"#000000\" stroke=\"#000000\" points=\"1031.5001,-25.0561 1028,-15.0561 1024.5001,-25.0561 1031.5001,-25.0561\"/>\n",
       "</g>\n",
       "<!-- 119 -->\n",
       "<g id=\"node120\" class=\"node\">\n",
       "<title>119</title>\n",
       "<text text-anchor=\"middle\" x=\"1068\" y=\"-258.8\" font-family=\"Times,serif\" font-size=\"14.00\" fill=\"#000000\">&lt;term&gt;</text>\n",
       "</g>\n",
       "<!-- 118&#45;&gt;119 -->\n",
       "<g id=\"edge119\" class=\"edge\">\n",
       "<title>118&#45;&gt;119</title>\n",
       "<path fill=\"none\" stroke=\"#000000\" d=\"M1063.7378,-305.9748C1064.4025,-299.195 1065.4053,-288.966 1066.2713,-280.1331\"/>\n",
       "<polygon fill=\"#000000\" stroke=\"#000000\" points=\"1069.7667,-280.3499 1067.2592,-270.0561 1062.8001,-279.6669 1069.7667,-280.3499\"/>\n",
       "</g>\n",
       "<!-- 120 -->\n",
       "<g id=\"node121\" class=\"node\">\n",
       "<title>120</title>\n",
       "<text text-anchor=\"middle\" x=\"1095\" y=\"-207.8\" font-family=\"Times,serif\" font-size=\"14.00\" fill=\"#000000\">&lt;factor&gt;</text>\n",
       "</g>\n",
       "<!-- 119&#45;&gt;120 -->\n",
       "<g id=\"edge120\" class=\"edge\">\n",
       "<title>119&#45;&gt;120</title>\n",
       "<path fill=\"none\" stroke=\"#000000\" d=\"M1071.9839,-254.9748C1075.7328,-247.8936 1081.4735,-237.05 1086.2837,-227.9641\"/>\n",
       "<polygon fill=\"#000000\" stroke=\"#000000\" points=\"1089.414,-229.5316 1090.9997,-219.0561 1083.2275,-226.2564 1089.414,-229.5316\"/>\n",
       "</g>\n",
       "<!-- 121 -->\n",
       "<g id=\"node122\" class=\"node\">\n",
       "<title>121</title>\n",
       "<text text-anchor=\"middle\" x=\"1098\" y=\"-156.8\" font-family=\"Times,serif\" font-size=\"14.00\" fill=\"#000000\">&lt;integer&gt;</text>\n",
       "</g>\n",
       "<!-- 120&#45;&gt;121 -->\n",
       "<g id=\"edge121\" class=\"edge\">\n",
       "<title>120&#45;&gt;121</title>\n",
       "<path fill=\"none\" stroke=\"#000000\" d=\"M1095.4427,-203.9748C1095.8415,-197.195 1096.4432,-186.966 1096.9628,-178.1331\"/>\n",
       "<polygon fill=\"#000000\" stroke=\"#000000\" points=\"1100.4622,-178.2444 1097.5555,-168.0561 1093.4742,-177.8333 1100.4622,-178.2444\"/>\n",
       "</g>\n",
       "<!-- 122 -->\n",
       "<g id=\"node123\" class=\"node\">\n",
       "<title>122</title>\n",
       "<text text-anchor=\"middle\" x=\"1098\" y=\"-105.8\" font-family=\"Times,serif\" font-size=\"14.00\" fill=\"#000000\">&lt;digit&gt;</text>\n",
       "</g>\n",
       "<!-- 121&#45;&gt;122 -->\n",
       "<g id=\"edge122\" class=\"edge\">\n",
       "<title>121&#45;&gt;122</title>\n",
       "<path fill=\"none\" stroke=\"#000000\" d=\"M1098,-152.9748C1098,-146.195 1098,-135.966 1098,-127.1331\"/>\n",
       "<polygon fill=\"#000000\" stroke=\"#000000\" points=\"1101.5001,-127.0561 1098,-117.0561 1094.5001,-127.0561 1101.5001,-127.0561\"/>\n",
       "</g>\n",
       "<!-- 123 -->\n",
       "<g id=\"node124\" class=\"node\">\n",
       "<title>123</title>\n",
       "<text text-anchor=\"middle\" x=\"1098\" y=\"-54.8\" font-family=\"Times,serif\" font-size=\"14.00\" fill=\"#000000\">1</text>\n",
       "</g>\n",
       "<!-- 122&#45;&gt;123 -->\n",
       "<g id=\"edge123\" class=\"edge\">\n",
       "<title>122&#45;&gt;123</title>\n",
       "<path fill=\"none\" stroke=\"#000000\" d=\"M1098,-101.9748C1098,-95.195 1098,-84.966 1098,-76.1331\"/>\n",
       "<polygon fill=\"#000000\" stroke=\"#000000\" points=\"1101.5001,-76.0561 1098,-66.0561 1094.5001,-76.0561 1101.5001,-76.0561\"/>\n",
       "</g>\n",
       "<!-- 127 -->\n",
       "<g id=\"node128\" class=\"node\">\n",
       "<title>127</title>\n",
       "<text text-anchor=\"middle\" x=\"1126\" y=\"-360.8\" font-family=\"Times,serif\" font-size=\"14.00\" fill=\"#000000\">&lt;factor&gt;</text>\n",
       "</g>\n",
       "<!-- 126&#45;&gt;127 -->\n",
       "<g id=\"edge127\" class=\"edge\">\n",
       "<title>126&#45;&gt;127</title>\n",
       "<path fill=\"none\" stroke=\"#000000\" d=\"M1119.1804,-407.9748C1120.2439,-401.195 1121.8485,-390.966 1123.234,-382.1331\"/>\n",
       "<polygon fill=\"#000000\" stroke=\"#000000\" points=\"1126.7227,-382.4777 1124.8147,-372.0561 1119.8073,-381.3929 1126.7227,-382.4777\"/>\n",
       "</g>\n",
       "<!-- 128 -->\n",
       "<g id=\"node129\" class=\"node\">\n",
       "<title>128</title>\n",
       "<text text-anchor=\"middle\" x=\"1134\" y=\"-309.8\" font-family=\"Times,serif\" font-size=\"14.00\" fill=\"#000000\">&lt;integer&gt;</text>\n",
       "</g>\n",
       "<!-- 127&#45;&gt;128 -->\n",
       "<g id=\"edge128\" class=\"edge\">\n",
       "<title>127&#45;&gt;128</title>\n",
       "<path fill=\"none\" stroke=\"#000000\" d=\"M1127.1804,-356.9748C1128.2439,-350.195 1129.8485,-339.966 1131.234,-331.1331\"/>\n",
       "<polygon fill=\"#000000\" stroke=\"#000000\" points=\"1134.7227,-331.4777 1132.8147,-321.0561 1127.8073,-330.3929 1134.7227,-331.4777\"/>\n",
       "</g>\n",
       "<!-- 129 -->\n",
       "<g id=\"node130\" class=\"node\">\n",
       "<title>129</title>\n",
       "<text text-anchor=\"middle\" x=\"1137\" y=\"-258.8\" font-family=\"Times,serif\" font-size=\"14.00\" fill=\"#000000\">&lt;digit&gt;</text>\n",
       "</g>\n",
       "<!-- 128&#45;&gt;129 -->\n",
       "<g id=\"edge129\" class=\"edge\">\n",
       "<title>128&#45;&gt;129</title>\n",
       "<path fill=\"none\" stroke=\"#000000\" d=\"M1134.4427,-305.9748C1134.8415,-299.195 1135.4432,-288.966 1135.9628,-280.1331\"/>\n",
       "<polygon fill=\"#000000\" stroke=\"#000000\" points=\"1139.4622,-280.2444 1136.5555,-270.0561 1132.4742,-279.8333 1139.4622,-280.2444\"/>\n",
       "</g>\n",
       "<!-- 130 -->\n",
       "<g id=\"node131\" class=\"node\">\n",
       "<title>130</title>\n",
       "<text text-anchor=\"middle\" x=\"1142\" y=\"-207.8\" font-family=\"Times,serif\" font-size=\"14.00\" fill=\"#000000\">0</text>\n",
       "</g>\n",
       "<!-- 129&#45;&gt;130 -->\n",
       "<g id=\"edge130\" class=\"edge\">\n",
       "<title>129&#45;&gt;130</title>\n",
       "<path fill=\"none\" stroke=\"#000000\" d=\"M1137.7378,-254.9748C1138.4025,-248.195 1139.4053,-237.966 1140.2713,-229.1331\"/>\n",
       "<polygon fill=\"#000000\" stroke=\"#000000\" points=\"1143.7667,-229.3499 1141.2592,-219.0561 1136.8001,-228.6669 1143.7667,-229.3499\"/>\n",
       "</g>\n",
       "</g>\n",
       "</svg>\n"
      ],
      "text/plain": [
       "<graphviz.dot.Digraph at 0x115fc0048>"
      ]
     },
     "metadata": {},
     "output_type": "display_data"
    }
   ],
   "source": [
    "display_tree(f.derivation_tree)"
   ]
  },
  {
   "cell_type": "markdown",
   "metadata": {
    "slideshow": {
     "slide_type": "subslide"
    }
   },
   "source": [
    "Let us try out the grammar fuzzer (and its trees) on other grammar formats."
   ]
  },
  {
   "cell_type": "code",
   "execution_count": 80,
   "metadata": {
    "button": false,
    "new_sheet": false,
    "run_control": {
     "read_only": false
    },
    "slideshow": {
     "slide_type": "fragment"
    }
   },
   "outputs": [
    {
     "data": {
      "text/plain": [
       "'http://cispa.saarland:80/def?def=def'"
      ]
     },
     "execution_count": 80,
     "metadata": {},
     "output_type": "execute_result"
    }
   ],
   "source": [
    "f = GrammarFuzzer(URL_GRAMMAR)\n",
    "f.fuzz()"
   ]
  },
  {
   "cell_type": "code",
   "execution_count": 81,
   "metadata": {
    "slideshow": {
     "slide_type": "fragment"
    }
   },
   "outputs": [
    {
     "data": {
      "image/svg+xml": [
       "<?xml version=\"1.0\" encoding=\"UTF-8\" standalone=\"no\"?>\n",
       "<!DOCTYPE svg PUBLIC \"-//W3C//DTD SVG 1.1//EN\"\n",
       " \"http://www.w3.org/Graphics/SVG/1.1/DTD/svg11.dtd\">\n",
       "<!-- Generated by graphviz version 2.40.1 (20161225.0304)\n",
       " -->\n",
       "<!-- Title: %3 Pages: 1 -->\n",
       "<svg width=\"385pt\" height=\"329pt\"\n",
       " viewBox=\"0.00 0.00 384.50 329.00\" xmlns=\"http://www.w3.org/2000/svg\" xmlns:xlink=\"http://www.w3.org/1999/xlink\">\n",
       "<g id=\"graph0\" class=\"graph\" transform=\"scale(1 1) rotate(0) translate(4 325)\">\n",
       "<title>%3</title>\n",
       "<polygon fill=\"#ffffff\" stroke=\"transparent\" points=\"-4,4 -4,-325 380.5,-325 380.5,4 -4,4\"/>\n",
       "<!-- 0 -->\n",
       "<g id=\"node1\" class=\"node\">\n",
       "<title>0</title>\n",
       "<text text-anchor=\"middle\" x=\"140\" y=\"-309.8\" font-family=\"Times,serif\" font-size=\"14.00\" fill=\"#000000\">&lt;start&gt;</text>\n",
       "</g>\n",
       "<!-- 1 -->\n",
       "<g id=\"node2\" class=\"node\">\n",
       "<title>1</title>\n",
       "<text text-anchor=\"middle\" x=\"140\" y=\"-258.8\" font-family=\"Times,serif\" font-size=\"14.00\" fill=\"#000000\">&lt;url&gt;</text>\n",
       "</g>\n",
       "<!-- 0&#45;&gt;1 -->\n",
       "<g id=\"edge1\" class=\"edge\">\n",
       "<title>0&#45;&gt;1</title>\n",
       "<path fill=\"none\" stroke=\"#000000\" d=\"M140,-305.9748C140,-299.195 140,-288.966 140,-280.1331\"/>\n",
       "<polygon fill=\"#000000\" stroke=\"#000000\" points=\"143.5001,-280.0561 140,-270.0561 136.5001,-280.0561 143.5001,-280.0561\"/>\n",
       "</g>\n",
       "<!-- 2 -->\n",
       "<g id=\"node3\" class=\"node\">\n",
       "<title>2</title>\n",
       "<text text-anchor=\"middle\" x=\"29\" y=\"-207.8\" font-family=\"Times,serif\" font-size=\"14.00\" fill=\"#000000\">&lt;scheme&gt;</text>\n",
       "</g>\n",
       "<!-- 1&#45;&gt;2 -->\n",
       "<g id=\"edge2\" class=\"edge\">\n",
       "<title>1&#45;&gt;2</title>\n",
       "<path fill=\"none\" stroke=\"#000000\" d=\"M123.6216,-254.9748C105.4224,-246.613 75.8044,-233.0047 54.551,-223.2397\"/>\n",
       "<polygon fill=\"#000000\" stroke=\"#000000\" points=\"55.9937,-220.0508 45.4456,-219.0561 53.0711,-226.4115 55.9937,-220.0508\"/>\n",
       "</g>\n",
       "<!-- 4 -->\n",
       "<g id=\"node5\" class=\"node\">\n",
       "<title>4</title>\n",
       "<text text-anchor=\"middle\" x=\"82\" y=\"-207.8\" font-family=\"Times,serif\" font-size=\"14.00\" fill=\"#000000\">://</text>\n",
       "</g>\n",
       "<!-- 1&#45;&gt;4 -->\n",
       "<g id=\"edge4\" class=\"edge\">\n",
       "<title>1&#45;&gt;4</title>\n",
       "<path fill=\"none\" stroke=\"#000000\" d=\"M131.4419,-254.9748C122.093,-246.7542 106.9771,-233.4626 95.917,-223.7374\"/>\n",
       "<polygon fill=\"#000000\" stroke=\"#000000\" points=\"97.9251,-220.8425 88.1042,-216.8675 93.3028,-226.0993 97.9251,-220.8425\"/>\n",
       "</g>\n",
       "<!-- 5 -->\n",
       "<g id=\"node6\" class=\"node\">\n",
       "<title>5</title>\n",
       "<text text-anchor=\"middle\" x=\"140\" y=\"-207.8\" font-family=\"Times,serif\" font-size=\"14.00\" fill=\"#000000\">&lt;authority&gt;</text>\n",
       "</g>\n",
       "<!-- 1&#45;&gt;5 -->\n",
       "<g id=\"edge5\" class=\"edge\">\n",
       "<title>1&#45;&gt;5</title>\n",
       "<path fill=\"none\" stroke=\"#000000\" d=\"M140,-254.9748C140,-248.195 140,-237.966 140,-229.1331\"/>\n",
       "<polygon fill=\"#000000\" stroke=\"#000000\" points=\"143.5001,-229.0561 140,-219.0561 136.5001,-229.0561 143.5001,-229.0561\"/>\n",
       "</g>\n",
       "<!-- 11 -->\n",
       "<g id=\"node12\" class=\"node\">\n",
       "<title>11</title>\n",
       "<text text-anchor=\"middle\" x=\"212\" y=\"-207.8\" font-family=\"Times,serif\" font-size=\"14.00\" fill=\"#000000\">&lt;path&gt;</text>\n",
       "</g>\n",
       "<!-- 1&#45;&gt;11 -->\n",
       "<g id=\"edge11\" class=\"edge\">\n",
       "<title>1&#45;&gt;11</title>\n",
       "<path fill=\"none\" stroke=\"#000000\" d=\"M150.6238,-254.9748C161.7906,-247.065 179.5851,-234.4606 193.1453,-224.8554\"/>\n",
       "<polygon fill=\"#000000\" stroke=\"#000000\" points=\"195.1954,-227.6924 201.3326,-219.0561 191.1492,-221.9802 195.1954,-227.6924\"/>\n",
       "</g>\n",
       "<!-- 15 -->\n",
       "<g id=\"node16\" class=\"node\">\n",
       "<title>15</title>\n",
       "<text text-anchor=\"middle\" x=\"277\" y=\"-207.8\" font-family=\"Times,serif\" font-size=\"14.00\" fill=\"#000000\">&lt;query&gt;</text>\n",
       "</g>\n",
       "<!-- 1&#45;&gt;15 -->\n",
       "<g id=\"edge15\" class=\"edge\">\n",
       "<title>1&#45;&gt;15</title>\n",
       "<path fill=\"none\" stroke=\"#000000\" d=\"M156.2537,-256.4494C178.6004,-248.1305 219.2114,-233.0126 247.1193,-222.6235\"/>\n",
       "<polygon fill=\"#000000\" stroke=\"#000000\" points=\"248.6184,-225.8001 256.7691,-219.0312 246.1763,-219.2399 248.6184,-225.8001\"/>\n",
       "</g>\n",
       "<!-- 3 -->\n",
       "<g id=\"node4\" class=\"node\">\n",
       "<title>3</title>\n",
       "<text text-anchor=\"middle\" x=\"29\" y=\"-156.8\" font-family=\"Times,serif\" font-size=\"14.00\" fill=\"#000000\">http</text>\n",
       "</g>\n",
       "<!-- 2&#45;&gt;3 -->\n",
       "<g id=\"edge3\" class=\"edge\">\n",
       "<title>2&#45;&gt;3</title>\n",
       "<path fill=\"none\" stroke=\"#000000\" d=\"M29,-203.9748C29,-197.195 29,-186.966 29,-178.1331\"/>\n",
       "<polygon fill=\"#000000\" stroke=\"#000000\" points=\"32.5001,-178.0561 29,-168.0561 25.5001,-178.0561 32.5001,-178.0561\"/>\n",
       "</g>\n",
       "<!-- 6 -->\n",
       "<g id=\"node7\" class=\"node\">\n",
       "<title>6</title>\n",
       "<text text-anchor=\"middle\" x=\"88\" y=\"-156.8\" font-family=\"Times,serif\" font-size=\"14.00\" fill=\"#000000\">&lt;host&gt;</text>\n",
       "</g>\n",
       "<!-- 5&#45;&gt;6 -->\n",
       "<g id=\"edge6\" class=\"edge\">\n",
       "<title>5&#45;&gt;6</title>\n",
       "<path fill=\"none\" stroke=\"#000000\" d=\"M132.3272,-203.9748C124.6464,-196.4417 112.6239,-184.6503 103.0363,-175.2472\"/>\n",
       "<polygon fill=\"#000000\" stroke=\"#000000\" points=\"105.2944,-172.5594 95.7043,-168.0561 100.3929,-177.557 105.2944,-172.5594\"/>\n",
       "</g>\n",
       "<!-- 8 -->\n",
       "<g id=\"node9\" class=\"node\">\n",
       "<title>8</title>\n",
       "<text text-anchor=\"middle\" x=\"128\" y=\"-156.8\" font-family=\"Times,serif\" font-size=\"14.00\" fill=\"#000000\">:</text>\n",
       "</g>\n",
       "<!-- 5&#45;&gt;8 -->\n",
       "<g id=\"edge8\" class=\"edge\">\n",
       "<title>5&#45;&gt;8</title>\n",
       "<path fill=\"none\" stroke=\"#000000\" d=\"M138.2294,-203.9748C136.6164,-197.1196 134.1737,-186.7383 132.0798,-177.8392\"/>\n",
       "<polygon fill=\"#000000\" stroke=\"#000000\" points=\"135.4753,-176.9886 129.7779,-168.0561 128.6614,-178.5919 135.4753,-176.9886\"/>\n",
       "</g>\n",
       "<!-- 9 -->\n",
       "<g id=\"node10\" class=\"node\">\n",
       "<title>9</title>\n",
       "<text text-anchor=\"middle\" x=\"168\" y=\"-156.8\" font-family=\"Times,serif\" font-size=\"14.00\" fill=\"#000000\">&lt;port&gt;</text>\n",
       "</g>\n",
       "<!-- 5&#45;&gt;9 -->\n",
       "<g id=\"edge9\" class=\"edge\">\n",
       "<title>5&#45;&gt;9</title>\n",
       "<path fill=\"none\" stroke=\"#000000\" d=\"M144.1315,-203.9748C148.0192,-196.8936 153.9726,-186.05 158.9609,-176.9641\"/>\n",
       "<polygon fill=\"#000000\" stroke=\"#000000\" points=\"162.1069,-178.5063 163.8516,-168.0561 155.9709,-175.1375 162.1069,-178.5063\"/>\n",
       "</g>\n",
       "<!-- 7 -->\n",
       "<g id=\"node8\" class=\"node\">\n",
       "<title>7</title>\n",
       "<text text-anchor=\"middle\" x=\"88\" y=\"-105.8\" font-family=\"Times,serif\" font-size=\"14.00\" fill=\"#000000\">cispa.saarland</text>\n",
       "</g>\n",
       "<!-- 6&#45;&gt;7 -->\n",
       "<g id=\"edge7\" class=\"edge\">\n",
       "<title>6&#45;&gt;7</title>\n",
       "<path fill=\"none\" stroke=\"#000000\" d=\"M88,-152.9748C88,-146.195 88,-135.966 88,-127.1331\"/>\n",
       "<polygon fill=\"#000000\" stroke=\"#000000\" points=\"91.5001,-127.0561 88,-117.0561 84.5001,-127.0561 91.5001,-127.0561\"/>\n",
       "</g>\n",
       "<!-- 10 -->\n",
       "<g id=\"node11\" class=\"node\">\n",
       "<title>10</title>\n",
       "<text text-anchor=\"middle\" x=\"168\" y=\"-105.8\" font-family=\"Times,serif\" font-size=\"14.00\" fill=\"#000000\">80</text>\n",
       "</g>\n",
       "<!-- 9&#45;&gt;10 -->\n",
       "<g id=\"edge10\" class=\"edge\">\n",
       "<title>9&#45;&gt;10</title>\n",
       "<path fill=\"none\" stroke=\"#000000\" d=\"M168,-152.9748C168,-146.195 168,-135.966 168,-127.1331\"/>\n",
       "<polygon fill=\"#000000\" stroke=\"#000000\" points=\"171.5001,-127.0561 168,-117.0561 164.5001,-127.0561 171.5001,-127.0561\"/>\n",
       "</g>\n",
       "<!-- 12 -->\n",
       "<g id=\"node13\" class=\"node\">\n",
       "<title>12</title>\n",
       "<text text-anchor=\"middle\" x=\"208\" y=\"-156.8\" font-family=\"Times,serif\" font-size=\"14.00\" fill=\"#000000\">/</text>\n",
       "</g>\n",
       "<!-- 11&#45;&gt;12 -->\n",
       "<g id=\"edge12\" class=\"edge\">\n",
       "<title>11&#45;&gt;12</title>\n",
       "<path fill=\"none\" stroke=\"#000000\" d=\"M211.4098,-203.9748C210.878,-197.195 210.0758,-186.966 209.383,-178.1331\"/>\n",
       "<polygon fill=\"#000000\" stroke=\"#000000\" points=\"212.8639,-177.7518 208.5926,-168.0561 205.8854,-178.2992 212.8639,-177.7518\"/>\n",
       "</g>\n",
       "<!-- 13 -->\n",
       "<g id=\"node14\" class=\"node\">\n",
       "<title>13</title>\n",
       "<text text-anchor=\"middle\" x=\"242\" y=\"-156.8\" font-family=\"Times,serif\" font-size=\"14.00\" fill=\"#000000\">&lt;id&gt;</text>\n",
       "</g>\n",
       "<!-- 11&#45;&gt;13 -->\n",
       "<g id=\"edge13\" class=\"edge\">\n",
       "<title>11&#45;&gt;13</title>\n",
       "<path fill=\"none\" stroke=\"#000000\" d=\"M216.4266,-203.9748C220.592,-196.8936 226.9706,-186.05 232.3152,-176.9641\"/>\n",
       "<polygon fill=\"#000000\" stroke=\"#000000\" points=\"235.5018,-178.45 237.5552,-168.0561 229.4682,-174.9009 235.5018,-178.45\"/>\n",
       "</g>\n",
       "<!-- 14 -->\n",
       "<g id=\"node15\" class=\"node\">\n",
       "<title>14</title>\n",
       "<text text-anchor=\"middle\" x=\"242\" y=\"-105.8\" font-family=\"Times,serif\" font-size=\"14.00\" fill=\"#000000\">def</text>\n",
       "</g>\n",
       "<!-- 13&#45;&gt;14 -->\n",
       "<g id=\"edge14\" class=\"edge\">\n",
       "<title>13&#45;&gt;14</title>\n",
       "<path fill=\"none\" stroke=\"#000000\" d=\"M242,-152.9748C242,-146.195 242,-135.966 242,-127.1331\"/>\n",
       "<polygon fill=\"#000000\" stroke=\"#000000\" points=\"245.5001,-127.0561 242,-117.0561 238.5001,-127.0561 245.5001,-127.0561\"/>\n",
       "</g>\n",
       "<!-- 16 -->\n",
       "<g id=\"node17\" class=\"node\">\n",
       "<title>16</title>\n",
       "<text text-anchor=\"middle\" x=\"277\" y=\"-156.8\" font-family=\"Times,serif\" font-size=\"14.00\" fill=\"#000000\">?</text>\n",
       "</g>\n",
       "<!-- 15&#45;&gt;16 -->\n",
       "<g id=\"edge16\" class=\"edge\">\n",
       "<title>15&#45;&gt;16</title>\n",
       "<path fill=\"none\" stroke=\"#000000\" d=\"M277,-203.9748C277,-197.195 277,-186.966 277,-178.1331\"/>\n",
       "<polygon fill=\"#000000\" stroke=\"#000000\" points=\"280.5001,-178.0561 277,-168.0561 273.5001,-178.0561 280.5001,-178.0561\"/>\n",
       "</g>\n",
       "<!-- 17 -->\n",
       "<g id=\"node18\" class=\"node\">\n",
       "<title>17</title>\n",
       "<text text-anchor=\"middle\" x=\"327\" y=\"-156.8\" font-family=\"Times,serif\" font-size=\"14.00\" fill=\"#000000\">&lt;params&gt;</text>\n",
       "</g>\n",
       "<!-- 15&#45;&gt;17 -->\n",
       "<g id=\"edge17\" class=\"edge\">\n",
       "<title>15&#45;&gt;17</title>\n",
       "<path fill=\"none\" stroke=\"#000000\" d=\"M284.3777,-203.9748C291.7631,-196.4417 303.3232,-184.6503 312.542,-175.2472\"/>\n",
       "<polygon fill=\"#000000\" stroke=\"#000000\" points=\"315.0906,-177.6471 319.5921,-168.0561 310.0921,-172.7466 315.0906,-177.6471\"/>\n",
       "</g>\n",
       "<!-- 18 -->\n",
       "<g id=\"node19\" class=\"node\">\n",
       "<title>18</title>\n",
       "<text text-anchor=\"middle\" x=\"327\" y=\"-105.8\" font-family=\"Times,serif\" font-size=\"14.00\" fill=\"#000000\">&lt;param&gt;</text>\n",
       "</g>\n",
       "<!-- 17&#45;&gt;18 -->\n",
       "<g id=\"edge18\" class=\"edge\">\n",
       "<title>17&#45;&gt;18</title>\n",
       "<path fill=\"none\" stroke=\"#000000\" d=\"M327,-152.9748C327,-146.195 327,-135.966 327,-127.1331\"/>\n",
       "<polygon fill=\"#000000\" stroke=\"#000000\" points=\"330.5001,-127.0561 327,-117.0561 323.5001,-127.0561 330.5001,-127.0561\"/>\n",
       "</g>\n",
       "<!-- 19 -->\n",
       "<g id=\"node20\" class=\"node\">\n",
       "<title>19</title>\n",
       "<text text-anchor=\"middle\" x=\"291\" y=\"-54.8\" font-family=\"Times,serif\" font-size=\"14.00\" fill=\"#000000\">&lt;id&gt;</text>\n",
       "</g>\n",
       "<!-- 18&#45;&gt;19 -->\n",
       "<g id=\"edge19\" class=\"edge\">\n",
       "<title>18&#45;&gt;19</title>\n",
       "<path fill=\"none\" stroke=\"#000000\" d=\"M321.6881,-101.9748C316.5833,-94.743 308.7084,-83.5868 302.2141,-74.3866\"/>\n",
       "<polygon fill=\"#000000\" stroke=\"#000000\" points=\"304.96,-72.2074 296.3337,-66.0561 299.2412,-76.2442 304.96,-72.2074\"/>\n",
       "</g>\n",
       "<!-- 21 -->\n",
       "<g id=\"node22\" class=\"node\">\n",
       "<title>21</title>\n",
       "<text text-anchor=\"middle\" x=\"327\" y=\"-54.8\" font-family=\"Times,serif\" font-size=\"14.00\" fill=\"#000000\">=</text>\n",
       "</g>\n",
       "<!-- 18&#45;&gt;21 -->\n",
       "<g id=\"edge21\" class=\"edge\">\n",
       "<title>18&#45;&gt;21</title>\n",
       "<path fill=\"none\" stroke=\"#000000\" d=\"M327,-101.9748C327,-95.195 327,-84.966 327,-76.1331\"/>\n",
       "<polygon fill=\"#000000\" stroke=\"#000000\" points=\"330.5001,-76.0561 327,-66.0561 323.5001,-76.0561 330.5001,-76.0561\"/>\n",
       "</g>\n",
       "<!-- 22 -->\n",
       "<g id=\"node23\" class=\"node\">\n",
       "<title>22</title>\n",
       "<text text-anchor=\"middle\" x=\"363\" y=\"-54.8\" font-family=\"Times,serif\" font-size=\"14.00\" fill=\"#000000\">&lt;id&gt;</text>\n",
       "</g>\n",
       "<!-- 18&#45;&gt;22 -->\n",
       "<g id=\"edge22\" class=\"edge\">\n",
       "<title>18&#45;&gt;22</title>\n",
       "<path fill=\"none\" stroke=\"#000000\" d=\"M332.3119,-101.9748C337.4167,-94.743 345.2916,-83.5868 351.7859,-74.3866\"/>\n",
       "<polygon fill=\"#000000\" stroke=\"#000000\" points=\"354.7588,-76.2442 357.6663,-66.0561 349.04,-72.2074 354.7588,-76.2442\"/>\n",
       "</g>\n",
       "<!-- 20 -->\n",
       "<g id=\"node21\" class=\"node\">\n",
       "<title>20</title>\n",
       "<text text-anchor=\"middle\" x=\"291\" y=\"-3.8\" font-family=\"Times,serif\" font-size=\"14.00\" fill=\"#000000\">def</text>\n",
       "</g>\n",
       "<!-- 19&#45;&gt;20 -->\n",
       "<g id=\"edge20\" class=\"edge\">\n",
       "<title>19&#45;&gt;20</title>\n",
       "<path fill=\"none\" stroke=\"#000000\" d=\"M291,-50.9748C291,-44.195 291,-33.966 291,-25.1331\"/>\n",
       "<polygon fill=\"#000000\" stroke=\"#000000\" points=\"294.5001,-25.0561 291,-15.0561 287.5001,-25.0561 294.5001,-25.0561\"/>\n",
       "</g>\n",
       "<!-- 23 -->\n",
       "<g id=\"node24\" class=\"node\">\n",
       "<title>23</title>\n",
       "<text text-anchor=\"middle\" x=\"363\" y=\"-3.8\" font-family=\"Times,serif\" font-size=\"14.00\" fill=\"#000000\">def</text>\n",
       "</g>\n",
       "<!-- 22&#45;&gt;23 -->\n",
       "<g id=\"edge23\" class=\"edge\">\n",
       "<title>22&#45;&gt;23</title>\n",
       "<path fill=\"none\" stroke=\"#000000\" d=\"M363,-50.9748C363,-44.195 363,-33.966 363,-25.1331\"/>\n",
       "<polygon fill=\"#000000\" stroke=\"#000000\" points=\"366.5001,-25.0561 363,-15.0561 359.5001,-25.0561 366.5001,-25.0561\"/>\n",
       "</g>\n",
       "</g>\n",
       "</svg>\n"
      ],
      "text/plain": [
       "<graphviz.dot.Digraph at 0x115fc13c8>"
      ]
     },
     "metadata": {},
     "output_type": "display_data"
    }
   ],
   "source": [
    "display_tree(f.derivation_tree)"
   ]
  },
  {
   "cell_type": "code",
   "execution_count": 82,
   "metadata": {
    "button": false,
    "new_sheet": false,
    "run_control": {
     "read_only": false
    },
    "slideshow": {
     "slide_type": "subslide"
    }
   },
   "outputs": [
    {
     "data": {
      "text/plain": [
       "'%bd%ca%54'"
      ]
     },
     "execution_count": 82,
     "metadata": {},
     "output_type": "execute_result"
    }
   ],
   "source": [
    "f = GrammarFuzzer(CGI_GRAMMAR, min_nonterminals=3, max_nonterminals=5)\n",
    "f.fuzz()"
   ]
  },
  {
   "cell_type": "code",
   "execution_count": 83,
   "metadata": {
    "slideshow": {
     "slide_type": "fragment"
    }
   },
   "outputs": [
    {
     "data": {
      "image/svg+xml": [
       "<?xml version=\"1.0\" encoding=\"UTF-8\" standalone=\"no\"?>\n",
       "<!DOCTYPE svg PUBLIC \"-//W3C//DTD SVG 1.1//EN\"\n",
       " \"http://www.w3.org/Graphics/SVG/1.1/DTD/svg11.dtd\">\n",
       "<!-- Generated by graphviz version 2.40.1 (20161225.0304)\n",
       " -->\n",
       "<!-- Title: %3 Pages: 1 -->\n",
       "<svg width=\"501pt\" height=\"380pt\"\n",
       " viewBox=\"0.00 0.00 501.00 380.00\" xmlns=\"http://www.w3.org/2000/svg\" xmlns:xlink=\"http://www.w3.org/1999/xlink\">\n",
       "<g id=\"graph0\" class=\"graph\" transform=\"scale(1 1) rotate(0) translate(4 376)\">\n",
       "<title>%3</title>\n",
       "<polygon fill=\"#ffffff\" stroke=\"transparent\" points=\"-4,4 -4,-376 497,-376 497,4 -4,4\"/>\n",
       "<!-- 0 -->\n",
       "<g id=\"node1\" class=\"node\">\n",
       "<title>0</title>\n",
       "<text text-anchor=\"middle\" x=\"182\" y=\"-360.8\" font-family=\"Times,serif\" font-size=\"14.00\" fill=\"#000000\">&lt;start&gt;</text>\n",
       "</g>\n",
       "<!-- 1 -->\n",
       "<g id=\"node2\" class=\"node\">\n",
       "<title>1</title>\n",
       "<text text-anchor=\"middle\" x=\"182\" y=\"-309.8\" font-family=\"Times,serif\" font-size=\"14.00\" fill=\"#000000\">&lt;string&gt;</text>\n",
       "</g>\n",
       "<!-- 0&#45;&gt;1 -->\n",
       "<g id=\"edge1\" class=\"edge\">\n",
       "<title>0&#45;&gt;1</title>\n",
       "<path fill=\"none\" stroke=\"#000000\" d=\"M182,-356.9748C182,-350.195 182,-339.966 182,-331.1331\"/>\n",
       "<polygon fill=\"#000000\" stroke=\"#000000\" points=\"185.5001,-331.0561 182,-321.0561 178.5001,-331.0561 185.5001,-331.0561\"/>\n",
       "</g>\n",
       "<!-- 2 -->\n",
       "<g id=\"node3\" class=\"node\">\n",
       "<title>2</title>\n",
       "<text text-anchor=\"middle\" x=\"150\" y=\"-258.8\" font-family=\"Times,serif\" font-size=\"14.00\" fill=\"#000000\">&lt;letter&gt;</text>\n",
       "</g>\n",
       "<!-- 1&#45;&gt;2 -->\n",
       "<g id=\"edge2\" class=\"edge\">\n",
       "<title>1&#45;&gt;2</title>\n",
       "<path fill=\"none\" stroke=\"#000000\" d=\"M177.2783,-305.9748C172.788,-298.8183 165.8863,-287.8188 160.1488,-278.6747\"/>\n",
       "<polygon fill=\"#000000\" stroke=\"#000000\" points=\"163.0208,-276.6665 154.7411,-270.0561 157.0913,-280.387 163.0208,-276.6665\"/>\n",
       "</g>\n",
       "<!-- 9 -->\n",
       "<g id=\"node10\" class=\"node\">\n",
       "<title>9</title>\n",
       "<text text-anchor=\"middle\" x=\"221\" y=\"-258.8\" font-family=\"Times,serif\" font-size=\"14.00\" fill=\"#000000\">&lt;string&gt;</text>\n",
       "</g>\n",
       "<!-- 1&#45;&gt;9 -->\n",
       "<g id=\"edge9\" class=\"edge\">\n",
       "<title>1&#45;&gt;9</title>\n",
       "<path fill=\"none\" stroke=\"#000000\" d=\"M187.7546,-305.9748C193.3424,-298.6677 201.994,-287.354 209.0708,-278.0997\"/>\n",
       "<polygon fill=\"#000000\" stroke=\"#000000\" points=\"211.9275,-280.1258 215.2218,-270.0561 206.367,-275.8736 211.9275,-280.1258\"/>\n",
       "</g>\n",
       "<!-- 3 -->\n",
       "<g id=\"node4\" class=\"node\">\n",
       "<title>3</title>\n",
       "<text text-anchor=\"middle\" x=\"101\" y=\"-207.8\" font-family=\"Times,serif\" font-size=\"14.00\" fill=\"#000000\">&lt;percent&gt;</text>\n",
       "</g>\n",
       "<!-- 2&#45;&gt;3 -->\n",
       "<g id=\"edge3\" class=\"edge\">\n",
       "<title>2&#45;&gt;3</title>\n",
       "<path fill=\"none\" stroke=\"#000000\" d=\"M142.7699,-254.9748C135.6046,-247.517 124.4294,-235.8857 115.4406,-226.53\"/>\n",
       "<polygon fill=\"#000000\" stroke=\"#000000\" points=\"117.7119,-223.8423 108.2598,-219.0561 112.6642,-228.6921 117.7119,-223.8423\"/>\n",
       "</g>\n",
       "<!-- 4 -->\n",
       "<g id=\"node5\" class=\"node\">\n",
       "<title>4</title>\n",
       "<text text-anchor=\"middle\" x=\"6\" y=\"-156.8\" font-family=\"Times,serif\" font-size=\"14.00\" fill=\"#000000\">%</text>\n",
       "</g>\n",
       "<!-- 3&#45;&gt;4 -->\n",
       "<g id=\"edge4\" class=\"edge\">\n",
       "<title>3&#45;&gt;4</title>\n",
       "<path fill=\"none\" stroke=\"#000000\" d=\"M86.9824,-203.9748C69.2969,-194.4804 39.0118,-178.2221 20.9129,-168.5059\"/>\n",
       "<polygon fill=\"#000000\" stroke=\"#000000\" points=\"22.5261,-165.3995 12.06,-163.7533 19.2152,-171.567 22.5261,-165.3995\"/>\n",
       "</g>\n",
       "<!-- 5 -->\n",
       "<g id=\"node6\" class=\"node\">\n",
       "<title>5</title>\n",
       "<text text-anchor=\"middle\" x=\"61\" y=\"-156.8\" font-family=\"Times,serif\" font-size=\"14.00\" fill=\"#000000\">&lt;hexdigit&gt;</text>\n",
       "</g>\n",
       "<!-- 3&#45;&gt;5 -->\n",
       "<g id=\"edge5\" class=\"edge\">\n",
       "<title>3&#45;&gt;5</title>\n",
       "<path fill=\"none\" stroke=\"#000000\" d=\"M95.0979,-203.9748C89.3668,-196.6677 80.4933,-185.354 73.2351,-176.0997\"/>\n",
       "<polygon fill=\"#000000\" stroke=\"#000000\" points=\"75.8518,-173.7647 66.9264,-168.0561 70.3438,-178.0847 75.8518,-173.7647\"/>\n",
       "</g>\n",
       "<!-- 7 -->\n",
       "<g id=\"node8\" class=\"node\">\n",
       "<title>7</title>\n",
       "<text text-anchor=\"middle\" x=\"141\" y=\"-156.8\" font-family=\"Times,serif\" font-size=\"14.00\" fill=\"#000000\">&lt;hexdigit&gt;</text>\n",
       "</g>\n",
       "<!-- 3&#45;&gt;7 -->\n",
       "<g id=\"edge7\" class=\"edge\">\n",
       "<title>3&#45;&gt;7</title>\n",
       "<path fill=\"none\" stroke=\"#000000\" d=\"M106.9021,-203.9748C112.6332,-196.6677 121.5067,-185.354 128.7649,-176.0997\"/>\n",
       "<polygon fill=\"#000000\" stroke=\"#000000\" points=\"131.6562,-178.0847 135.0736,-168.0561 126.1482,-173.7647 131.6562,-178.0847\"/>\n",
       "</g>\n",
       "<!-- 6 -->\n",
       "<g id=\"node7\" class=\"node\">\n",
       "<title>6</title>\n",
       "<text text-anchor=\"middle\" x=\"61\" y=\"-105.8\" font-family=\"Times,serif\" font-size=\"14.00\" fill=\"#000000\">b</text>\n",
       "</g>\n",
       "<!-- 5&#45;&gt;6 -->\n",
       "<g id=\"edge6\" class=\"edge\">\n",
       "<title>5&#45;&gt;6</title>\n",
       "<path fill=\"none\" stroke=\"#000000\" d=\"M61,-152.9748C61,-146.195 61,-135.966 61,-127.1331\"/>\n",
       "<polygon fill=\"#000000\" stroke=\"#000000\" points=\"64.5001,-127.0561 61,-117.0561 57.5001,-127.0561 64.5001,-127.0561\"/>\n",
       "</g>\n",
       "<!-- 8 -->\n",
       "<g id=\"node9\" class=\"node\">\n",
       "<title>8</title>\n",
       "<text text-anchor=\"middle\" x=\"138\" y=\"-105.8\" font-family=\"Times,serif\" font-size=\"14.00\" fill=\"#000000\">d</text>\n",
       "</g>\n",
       "<!-- 7&#45;&gt;8 -->\n",
       "<g id=\"edge8\" class=\"edge\">\n",
       "<title>7&#45;&gt;8</title>\n",
       "<path fill=\"none\" stroke=\"#000000\" d=\"M140.5573,-152.9748C140.1585,-146.195 139.5568,-135.966 139.0372,-127.1331\"/>\n",
       "<polygon fill=\"#000000\" stroke=\"#000000\" points=\"142.5258,-126.8333 138.4445,-117.0561 135.5378,-127.2444 142.5258,-126.8333\"/>\n",
       "</g>\n",
       "<!-- 10 -->\n",
       "<g id=\"node11\" class=\"node\">\n",
       "<title>10</title>\n",
       "<text text-anchor=\"middle\" x=\"221\" y=\"-207.8\" font-family=\"Times,serif\" font-size=\"14.00\" fill=\"#000000\">&lt;letter&gt;</text>\n",
       "</g>\n",
       "<!-- 9&#45;&gt;10 -->\n",
       "<g id=\"edge10\" class=\"edge\">\n",
       "<title>9&#45;&gt;10</title>\n",
       "<path fill=\"none\" stroke=\"#000000\" d=\"M221,-254.9748C221,-248.195 221,-237.966 221,-229.1331\"/>\n",
       "<polygon fill=\"#000000\" stroke=\"#000000\" points=\"224.5001,-229.0561 221,-219.0561 217.5001,-229.0561 224.5001,-229.0561\"/>\n",
       "</g>\n",
       "<!-- 17 -->\n",
       "<g id=\"node18\" class=\"node\">\n",
       "<title>17</title>\n",
       "<text text-anchor=\"middle\" x=\"333\" y=\"-207.8\" font-family=\"Times,serif\" font-size=\"14.00\" fill=\"#000000\">&lt;string&gt;</text>\n",
       "</g>\n",
       "<!-- 9&#45;&gt;17 -->\n",
       "<g id=\"edge17\" class=\"edge\">\n",
       "<title>9&#45;&gt;17</title>\n",
       "<path fill=\"none\" stroke=\"#000000\" d=\"M237.526,-254.9748C255.8891,-246.613 285.7739,-233.0047 307.2188,-223.2397\"/>\n",
       "<polygon fill=\"#000000\" stroke=\"#000000\" points=\"308.7558,-226.3856 316.4062,-219.0561 305.8549,-220.015 308.7558,-226.3856\"/>\n",
       "</g>\n",
       "<!-- 11 -->\n",
       "<g id=\"node12\" class=\"node\">\n",
       "<title>11</title>\n",
       "<text text-anchor=\"middle\" x=\"221\" y=\"-156.8\" font-family=\"Times,serif\" font-size=\"14.00\" fill=\"#000000\">&lt;percent&gt;</text>\n",
       "</g>\n",
       "<!-- 10&#45;&gt;11 -->\n",
       "<g id=\"edge11\" class=\"edge\">\n",
       "<title>10&#45;&gt;11</title>\n",
       "<path fill=\"none\" stroke=\"#000000\" d=\"M221,-203.9748C221,-197.195 221,-186.966 221,-178.1331\"/>\n",
       "<polygon fill=\"#000000\" stroke=\"#000000\" points=\"224.5001,-178.0561 221,-168.0561 217.5001,-178.0561 224.5001,-178.0561\"/>\n",
       "</g>\n",
       "<!-- 12 -->\n",
       "<g id=\"node13\" class=\"node\">\n",
       "<title>12</title>\n",
       "<text text-anchor=\"middle\" x=\"166\" y=\"-105.8\" font-family=\"Times,serif\" font-size=\"14.00\" fill=\"#000000\">%</text>\n",
       "</g>\n",
       "<!-- 11&#45;&gt;12 -->\n",
       "<g id=\"edge12\" class=\"edge\">\n",
       "<title>11&#45;&gt;12</title>\n",
       "<path fill=\"none\" stroke=\"#000000\" d=\"M212.8846,-152.9748C204.1135,-144.8416 189.9895,-131.7448 179.5332,-122.049\"/>\n",
       "<polygon fill=\"#000000\" stroke=\"#000000\" points=\"181.8185,-119.3949 172.106,-115.162 177.0589,-124.5278 181.8185,-119.3949\"/>\n",
       "</g>\n",
       "<!-- 13 -->\n",
       "<g id=\"node14\" class=\"node\">\n",
       "<title>13</title>\n",
       "<text text-anchor=\"middle\" x=\"221\" y=\"-105.8\" font-family=\"Times,serif\" font-size=\"14.00\" fill=\"#000000\">&lt;hexdigit&gt;</text>\n",
       "</g>\n",
       "<!-- 11&#45;&gt;13 -->\n",
       "<g id=\"edge13\" class=\"edge\">\n",
       "<title>11&#45;&gt;13</title>\n",
       "<path fill=\"none\" stroke=\"#000000\" d=\"M221,-152.9748C221,-146.195 221,-135.966 221,-127.1331\"/>\n",
       "<polygon fill=\"#000000\" stroke=\"#000000\" points=\"224.5001,-127.0561 221,-117.0561 217.5001,-127.0561 224.5001,-127.0561\"/>\n",
       "</g>\n",
       "<!-- 15 -->\n",
       "<g id=\"node16\" class=\"node\">\n",
       "<title>15</title>\n",
       "<text text-anchor=\"middle\" x=\"301\" y=\"-105.8\" font-family=\"Times,serif\" font-size=\"14.00\" fill=\"#000000\">&lt;hexdigit&gt;</text>\n",
       "</g>\n",
       "<!-- 11&#45;&gt;15 -->\n",
       "<g id=\"edge15\" class=\"edge\">\n",
       "<title>11&#45;&gt;15</title>\n",
       "<path fill=\"none\" stroke=\"#000000\" d=\"M232.8043,-152.9748C245.3299,-144.9897 265.3607,-132.22 280.4795,-122.5818\"/>\n",
       "<polygon fill=\"#000000\" stroke=\"#000000\" points=\"282.5965,-125.383 289.1473,-117.0561 278.8335,-119.4804 282.5965,-125.383\"/>\n",
       "</g>\n",
       "<!-- 14 -->\n",
       "<g id=\"node15\" class=\"node\">\n",
       "<title>14</title>\n",
       "<text text-anchor=\"middle\" x=\"221\" y=\"-54.8\" font-family=\"Times,serif\" font-size=\"14.00\" fill=\"#000000\">c</text>\n",
       "</g>\n",
       "<!-- 13&#45;&gt;14 -->\n",
       "<g id=\"edge14\" class=\"edge\">\n",
       "<title>13&#45;&gt;14</title>\n",
       "<path fill=\"none\" stroke=\"#000000\" d=\"M221,-101.9748C221,-95.195 221,-84.966 221,-76.1331\"/>\n",
       "<polygon fill=\"#000000\" stroke=\"#000000\" points=\"224.5001,-76.0561 221,-66.0561 217.5001,-76.0561 224.5001,-76.0561\"/>\n",
       "</g>\n",
       "<!-- 16 -->\n",
       "<g id=\"node17\" class=\"node\">\n",
       "<title>16</title>\n",
       "<text text-anchor=\"middle\" x=\"299\" y=\"-54.8\" font-family=\"Times,serif\" font-size=\"14.00\" fill=\"#000000\">a</text>\n",
       "</g>\n",
       "<!-- 15&#45;&gt;16 -->\n",
       "<g id=\"edge16\" class=\"edge\">\n",
       "<title>15&#45;&gt;16</title>\n",
       "<path fill=\"none\" stroke=\"#000000\" d=\"M300.7049,-101.9748C300.439,-95.195 300.0379,-84.966 299.6915,-76.1331\"/>\n",
       "<polygon fill=\"#000000\" stroke=\"#000000\" points=\"303.1856,-75.9112 299.2963,-66.0561 296.191,-76.1856 303.1856,-75.9112\"/>\n",
       "</g>\n",
       "<!-- 18 -->\n",
       "<g id=\"node19\" class=\"node\">\n",
       "<title>18</title>\n",
       "<text text-anchor=\"middle\" x=\"357\" y=\"-156.8\" font-family=\"Times,serif\" font-size=\"14.00\" fill=\"#000000\">&lt;letter&gt;</text>\n",
       "</g>\n",
       "<!-- 17&#45;&gt;18 -->\n",
       "<g id=\"edge18\" class=\"edge\">\n",
       "<title>17&#45;&gt;18</title>\n",
       "<path fill=\"none\" stroke=\"#000000\" d=\"M336.5413,-203.9748C339.8381,-196.969 344.8681,-186.2803 349.1155,-177.2547\"/>\n",
       "<polygon fill=\"#000000\" stroke=\"#000000\" points=\"352.353,-178.5946 353.4442,-168.0561 346.0193,-175.614 352.353,-178.5946\"/>\n",
       "</g>\n",
       "<!-- 19 -->\n",
       "<g id=\"node20\" class=\"node\">\n",
       "<title>19</title>\n",
       "<text text-anchor=\"middle\" x=\"381\" y=\"-105.8\" font-family=\"Times,serif\" font-size=\"14.00\" fill=\"#000000\">&lt;percent&gt;</text>\n",
       "</g>\n",
       "<!-- 18&#45;&gt;19 -->\n",
       "<g id=\"edge19\" class=\"edge\">\n",
       "<title>18&#45;&gt;19</title>\n",
       "<path fill=\"none\" stroke=\"#000000\" d=\"M360.5413,-152.9748C363.8381,-145.969 368.8681,-135.2803 373.1155,-126.2547\"/>\n",
       "<polygon fill=\"#000000\" stroke=\"#000000\" points=\"376.353,-127.5946 377.4442,-117.0561 370.0193,-124.614 376.353,-127.5946\"/>\n",
       "</g>\n",
       "<!-- 20 -->\n",
       "<g id=\"node21\" class=\"node\">\n",
       "<title>20</title>\n",
       "<text text-anchor=\"middle\" x=\"327\" y=\"-54.8\" font-family=\"Times,serif\" font-size=\"14.00\" fill=\"#000000\">%</text>\n",
       "</g>\n",
       "<!-- 19&#45;&gt;20 -->\n",
       "<g id=\"edge20\" class=\"edge\">\n",
       "<title>19&#45;&gt;20</title>\n",
       "<path fill=\"none\" stroke=\"#000000\" d=\"M373.0321,-101.9748C364.5131,-93.9291 350.851,-81.0259 340.6195,-71.3629\"/>\n",
       "<polygon fill=\"#000000\" stroke=\"#000000\" points=\"342.9868,-68.7844 333.3134,-64.4627 338.1804,-73.8735 342.9868,-68.7844\"/>\n",
       "</g>\n",
       "<!-- 21 -->\n",
       "<g id=\"node22\" class=\"node\">\n",
       "<title>21</title>\n",
       "<text text-anchor=\"middle\" x=\"382\" y=\"-54.8\" font-family=\"Times,serif\" font-size=\"14.00\" fill=\"#000000\">&lt;hexdigit&gt;</text>\n",
       "</g>\n",
       "<!-- 19&#45;&gt;21 -->\n",
       "<g id=\"edge21\" class=\"edge\">\n",
       "<title>19&#45;&gt;21</title>\n",
       "<path fill=\"none\" stroke=\"#000000\" d=\"M381.1476,-101.9748C381.2805,-95.195 381.4811,-84.966 381.6543,-76.1331\"/>\n",
       "<polygon fill=\"#000000\" stroke=\"#000000\" points=\"385.155,-76.1228 381.8518,-66.0561 378.1564,-75.9855 385.155,-76.1228\"/>\n",
       "</g>\n",
       "<!-- 23 -->\n",
       "<g id=\"node24\" class=\"node\">\n",
       "<title>23</title>\n",
       "<text text-anchor=\"middle\" x=\"462\" y=\"-54.8\" font-family=\"Times,serif\" font-size=\"14.00\" fill=\"#000000\">&lt;hexdigit&gt;</text>\n",
       "</g>\n",
       "<!-- 19&#45;&gt;23 -->\n",
       "<g id=\"edge23\" class=\"edge\">\n",
       "<title>19&#45;&gt;23</title>\n",
       "<path fill=\"none\" stroke=\"#000000\" d=\"M392.9518,-101.9748C405.6341,-93.9897 425.9152,-81.22 441.223,-71.5818\"/>\n",
       "<polygon fill=\"#000000\" stroke=\"#000000\" points=\"443.4017,-74.3461 449.9991,-66.0561 439.6719,-68.4225 443.4017,-74.3461\"/>\n",
       "</g>\n",
       "<!-- 22 -->\n",
       "<g id=\"node23\" class=\"node\">\n",
       "<title>22</title>\n",
       "<text text-anchor=\"middle\" x=\"382\" y=\"-3.8\" font-family=\"Times,serif\" font-size=\"14.00\" fill=\"#000000\">5</text>\n",
       "</g>\n",
       "<!-- 21&#45;&gt;22 -->\n",
       "<g id=\"edge22\" class=\"edge\">\n",
       "<title>21&#45;&gt;22</title>\n",
       "<path fill=\"none\" stroke=\"#000000\" d=\"M382,-50.9748C382,-44.195 382,-33.966 382,-25.1331\"/>\n",
       "<polygon fill=\"#000000\" stroke=\"#000000\" points=\"385.5001,-25.0561 382,-15.0561 378.5001,-25.0561 385.5001,-25.0561\"/>\n",
       "</g>\n",
       "<!-- 24 -->\n",
       "<g id=\"node25\" class=\"node\">\n",
       "<title>24</title>\n",
       "<text text-anchor=\"middle\" x=\"462\" y=\"-3.8\" font-family=\"Times,serif\" font-size=\"14.00\" fill=\"#000000\">4</text>\n",
       "</g>\n",
       "<!-- 23&#45;&gt;24 -->\n",
       "<g id=\"edge24\" class=\"edge\">\n",
       "<title>23&#45;&gt;24</title>\n",
       "<path fill=\"none\" stroke=\"#000000\" d=\"M462,-50.9748C462,-44.195 462,-33.966 462,-25.1331\"/>\n",
       "<polygon fill=\"#000000\" stroke=\"#000000\" points=\"465.5001,-25.0561 462,-15.0561 458.5001,-25.0561 465.5001,-25.0561\"/>\n",
       "</g>\n",
       "</g>\n",
       "</svg>\n"
      ],
      "text/plain": [
       "<graphviz.dot.Digraph at 0x115fc14a8>"
      ]
     },
     "metadata": {},
     "output_type": "display_data"
    }
   ],
   "source": [
    "display_tree(f.derivation_tree)"
   ]
  },
  {
   "cell_type": "markdown",
   "metadata": {
    "button": false,
    "new_sheet": false,
    "run_control": {
     "read_only": false
    },
    "slideshow": {
     "slide_type": "subslide"
    }
   },
   "source": [
    "How do we stack up against `simple_grammar_fuzzer()`?"
   ]
  },
  {
   "cell_type": "code",
   "execution_count": 84,
   "metadata": {
    "button": false,
    "new_sheet": false,
    "run_control": {
     "read_only": false
    },
    "slideshow": {
     "slide_type": "fragment"
    }
   },
   "outputs": [
    {
     "name": "stdout",
     "output_type": "stream",
     "text": [
      "0 1 2 3 4 5 6 7 8 9 10 11 12 13 14 15 16 17 18 19 20 21 22 23 24 25 26 27 28 29 30 31 32 33 34 35 36 37 38 39 40 41 42 43 44 45 46 47 48 49 \n"
     ]
    }
   ],
   "source": [
    "trials = 50\n",
    "xs = []\n",
    "ys = []\n",
    "f = GrammarFuzzer(EXPR_GRAMMAR, max_nonterminals=20)\n",
    "for i in range(trials):\n",
    "    with Timer() as t:\n",
    "        s = f.fuzz()\n",
    "    xs.append(len(s))\n",
    "    ys.append(t.elapsed_time())\n",
    "    print(i, end=\" \")\n",
    "print()"
   ]
  },
  {
   "cell_type": "code",
   "execution_count": 85,
   "metadata": {
    "button": false,
    "new_sheet": false,
    "run_control": {
     "read_only": false
    },
    "slideshow": {
     "slide_type": "fragment"
    }
   },
   "outputs": [
    {
     "name": "stdout",
     "output_type": "stream",
     "text": [
      "Average time: 0.05829588716267608\n"
     ]
    }
   ],
   "source": [
    "average_time = sum(ys) / trials\n",
    "print(\"Average time:\", average_time)"
   ]
  },
  {
   "cell_type": "code",
   "execution_count": 86,
   "metadata": {
    "button": false,
    "new_sheet": false,
    "run_control": {
     "read_only": false
    },
    "slideshow": {
     "slide_type": "subslide"
    }
   },
   "outputs": [
    {
     "data": {
      "text/plain": [
       "Text(0.5,1,'Time required for generating an output')"
      ]
     },
     "execution_count": 86,
     "metadata": {},
     "output_type": "execute_result"
    },
    {
     "data": {
      "image/png": "[encoded data removed]",
      "text/plain": [
       "<Figure size 432x288 with 1 Axes>"
      ]
     },
     "metadata": {
      "needs_background": "light"
     },
     "output_type": "display_data"
    }
   ],
   "source": [
    "%matplotlib inline\n",
    "\n",
    "import matplotlib.pyplot as plt\n",
    "plt.scatter(xs, ys)\n",
    "plt.title('Time required for generating an output')"
   ]
  },
  {
   "cell_type": "markdown",
   "metadata": {
    "button": false,
    "new_sheet": false,
    "run_control": {
     "read_only": false
    },
    "slideshow": {
     "slide_type": "fragment"
    }
   },
   "source": [
    "Our test generation is much faster, but also our inputs are much smaller.  We see that with derivation trees, we can get much better control over grammar production."
   ]
  },
  {
   "cell_type": "markdown",
   "metadata": {
    "slideshow": {
     "slide_type": "subslide"
    }
   },
   "source": [
    "Finally, how does `GrammarFuzzer` work with `expr_grammar`, where `simple_grammar_fuzzer()` failed?  It works without any issue:"
   ]
  },
  {
   "cell_type": "code",
   "execution_count": 87,
   "metadata": {
    "slideshow": {
     "slide_type": "fragment"
    }
   },
   "outputs": [
    {
     "data": {
      "text/plain": [
       "'(6 / 3 / 1 - 5 * 1 / 3 - 2 - 0)'"
      ]
     },
     "execution_count": 87,
     "metadata": {},
     "output_type": "execute_result"
    }
   ],
   "source": [
    "f = GrammarFuzzer(expr_grammar, max_nonterminals=10)\n",
    "f.fuzz()"
   ]
  },
  {
   "cell_type": "markdown",
   "metadata": {
    "slideshow": {
     "slide_type": "fragment"
    }
   },
   "source": [
    "With `GrammarFuzzer`, we now have a solid foundation on which to build further fuzzers and illustrate more exciting concepts from the world of generating software tests.  Many of these do not even require writing a grammar – instead, they _infer_ a grammar from the domain at hand, and thus allow to use grammar-based fuzzing even without writing a grammar.  Stay tuned!"
   ]
  },
  {
   "cell_type": "markdown",
   "metadata": {
    "button": false,
    "new_sheet": true,
    "run_control": {
     "read_only": false
    },
    "slideshow": {
     "slide_type": "slide"
    }
   },
   "source": [
    "## Lessons Learned\n",
    "\n",
    "* _Derivation trees_ are important for expressing input structure\n",
    "* _Grammar fuzzing based on derivation trees_ \n",
    "    1. is much more efficient than string-based grammar fuzzing,\n",
    "    2. gives much better control over input generation, and\n",
    "    3. effectively avoids running into infinite expansions."
   ]
  },
  {
   "cell_type": "markdown",
   "metadata": {
    "button": false,
    "new_sheet": false,
    "run_control": {
     "read_only": false
    },
    "slideshow": {
     "slide_type": "skip"
    }
   },
   "source": [
    "## Next Steps\n",
    "\n",
    "Congratulations!  You have reached one of the central \"hubs\" of the book.  From here, there is a wide range of techniques that build on grammar fuzzing."
   ]
  },
  {
   "cell_type": "markdown",
   "metadata": {
    "button": false,
    "new_sheet": false,
    "run_control": {
     "read_only": false
    },
    "slideshow": {
     "slide_type": "skip"
    }
   },
   "source": [
    "### Extending Grammars\n",
    "\n",
    "First, we have a number of techniques that all _extend_ grammars in some form:\n",
    "\n",
    "* [Parsing and recombining inputs](Parser.ipynb) allows to make use of existing inputs, again using derivation trees\n",
    "* [Covering grammar expansions](GrammarCoverageFuzzer.ipynb) allows for _combinatorial_ coverage\n",
    "* [Assigning _probabilities_ to individual expansions](ProbabilisticGrammarFuzzer.ipynb) gives additional control over expansions\n",
    "* [Assigning _constraints_ to individual expansions](ConstraintGrammarFuzzer.ipynb) allows to express _semantic constraints_ on individual rules."
   ]
  },
  {
   "cell_type": "markdown",
   "metadata": {
    "button": false,
    "new_sheet": false,
    "run_control": {
     "read_only": false
    },
    "slideshow": {
     "slide_type": "skip"
    }
   },
   "source": [
    "### Applying Grammars\n",
    "\n",
    "Second, we can _apply_ grammars in a variety of contexts that all involve some form of learning it automatically:\n",
    "\n",
    "* [Fuzzing APIs](APIFuzzer.ipynb), learning a grammar from APIs\n",
    "* [Fuzzing GUIs](GUIFuzzer.ipynb), learning a grammar from user interfaces for subsequent fuzzing\n",
    "* [Mining Grammars](GrammarMiner.ipynb), learning a grammar for arbitrary input formats\n",
    "\n",
    "Keep on expanding!"
   ]
  },
  {
   "cell_type": "markdown",
   "metadata": {
    "slideshow": {
     "slide_type": "slide"
    }
   },
   "source": [
    "## Background\n",
    "\n",
    "Derivation trees (then frequently called _parse trees_) are a standard data structure into which _parsers_ decompose inputs.  The \"Dragon Book\" (also known as \"Compilers: Principles, Techniques, and Tools\") \\cite{Aho2006} discusses parsing into derivation trees as part of compiling programs.  We also use derivation trees [when parsing and recombining inputs](Parser.ipynb).\n",
    "\n",
    "The key idea in this chapter, namely expanding until a limit of symbols is reached, and then always choosing the shortest path, stems from Luke \\cite{Luke2000}."
   ]
  },
  {
   "cell_type": "markdown",
   "metadata": {
    "button": false,
    "new_sheet": false,
    "run_control": {
     "read_only": false
    },
    "slideshow": {
     "slide_type": "slide"
    }
   },
   "source": [
    "## Exercises"
   ]
  },
  {
   "cell_type": "markdown",
   "metadata": {
    "button": false,
    "new_sheet": false,
    "run_control": {
     "read_only": false
    },
    "slideshow": {
     "slide_type": "subslide"
    }
   },
   "source": [
    "### Exercise 1: Caching Method Results\n",
    "\n",
    "Tracking `GrammarFuzzer` reveals that some methods are called again and again, always with the same values.  \n",
    "\n",
    "Set up a class `FasterGrammarFuzzer` with a _cache_ that checks whether the method has been called before, and if so, return the previously computed \"memoized\" value.  Do this for `expansion_to_children()`.  Compare the number of invocations before and after the optimization."
   ]
  },
  {
   "cell_type": "markdown",
   "metadata": {
    "button": false,
    "new_sheet": false,
    "run_control": {
     "read_only": false
    },
    "slideshow": {
     "slide_type": "fragment"
    },
    "solution": "hidden",
    "solution2": "hidden",
    "solution2_first": true,
    "solution_first": true
   },
   "source": [
    "**Important**: For `expansion_to_children()`, make sure that each list returned is an individual copy.  If you return the sane (cached) list, this will interfere with the in-place modification of `GrammarFuzzer`.  Use the Python `copy.deepcopy()` function for this purpose."
   ]
  },
  {
   "cell_type": "markdown",
   "metadata": {
    "slideshow": {
     "slide_type": "skip"
    },
    "solution2": "hidden"
   },
   "source": [
    "**Solution.** Let us demonstrate this for `expansion_to_children()`:"
   ]
  },
  {
   "cell_type": "code",
   "execution_count": 88,
   "metadata": {
    "slideshow": {
     "slide_type": "skip"
    },
    "solution2": "hidden"
   },
   "outputs": [],
   "source": [
    "from copy import deepcopy"
   ]
  },
  {
   "cell_type": "code",
   "execution_count": 89,
   "metadata": {
    "slideshow": {
     "slide_type": "skip"
    },
    "solution2": "hidden"
   },
   "outputs": [],
   "source": [
    "class FasterGrammarFuzzer(GrammarFuzzer):\n",
    "    def __init__(self, *args, **kwargs):\n",
    "        super().__init__(*args, **kwargs)\n",
    "        self._expansion_cache = {}\n",
    "        self._expansion_invocations = 0\n",
    "        self._expansion_invocations_cached = 0\n",
    "\n",
    "    def expansion_to_children(self, expansion):\n",
    "        self._expansion_invocations += 1\n",
    "        if expansion in self._expansion_cache:\n",
    "            self._expansion_invocations_cached += 1\n",
    "            cached_result = deepcopy(self._expansion_cache[expansion])\n",
    "            return cached_result\n",
    "\n",
    "        result = super().expansion_to_children(expansion)\n",
    "        self._expansion_cache[expansion] = result\n",
    "        return result"
   ]
  },
  {
   "cell_type": "code",
   "execution_count": 90,
   "metadata": {
    "slideshow": {
     "slide_type": "skip"
    },
    "solution2": "hidden"
   },
   "outputs": [
    {
     "data": {
      "text/plain": [
       "'(8 / (8 / 8) * 8) * 8 - 8'"
      ]
     },
     "execution_count": 90,
     "metadata": {},
     "output_type": "execute_result"
    }
   ],
   "source": [
    "f = FasterGrammarFuzzer(EXPR_GRAMMAR, min_nonterminals=3, max_nonterminals=5)\n",
    "f.fuzz()"
   ]
  },
  {
   "cell_type": "code",
   "execution_count": 91,
   "metadata": {
    "slideshow": {
     "slide_type": "skip"
    },
    "solution2": "hidden"
   },
   "outputs": [
    {
     "data": {
      "text/plain": [
       "88"
      ]
     },
     "execution_count": 91,
     "metadata": {},
     "output_type": "execute_result"
    }
   ],
   "source": [
    "f._expansion_invocations"
   ]
  },
  {
   "cell_type": "code",
   "execution_count": 92,
   "metadata": {
    "slideshow": {
     "slide_type": "skip"
    },
    "solution2": "hidden"
   },
   "outputs": [
    {
     "data": {
      "text/plain": [
       "64"
      ]
     },
     "execution_count": 92,
     "metadata": {},
     "output_type": "execute_result"
    }
   ],
   "source": [
    "f._expansion_invocations_cached"
   ]
  },
  {
   "cell_type": "code",
   "execution_count": 93,
   "metadata": {
    "slideshow": {
     "slide_type": "skip"
    },
    "solution2": "hidden"
   },
   "outputs": [
    {
     "name": "stdout",
     "output_type": "stream",
     "text": [
      "72.73% of invocations can be cached\n"
     ]
    }
   ],
   "source": [
    "print(\"%.2f%% of invocations can be cached\" %\n",
    "      (f._expansion_invocations_cached * 100 / f._expansion_invocations))"
   ]
  },
  {
   "cell_type": "markdown",
   "metadata": {
    "slideshow": {
     "slide_type": "subslide"
    },
    "solution2": "hidden",
    "solution2_first": true
   },
   "source": [
    "### Exercise 2: Grammar Pre-Compilation\n",
    "\n",
    "Some methods such as `symbol_cost()` or `expansion_cost()` return a value that is dependent on the grammar only.  Set up a class `EvenFasterGrammarFuzzer()` that pre-computes these values once upon initialization, such that later invocations of `symbol_cost()` or `expansion_cost()` need only look up these values."
   ]
  },
  {
   "cell_type": "markdown",
   "metadata": {
    "slideshow": {
     "slide_type": "skip"
    },
    "solution2": "hidden"
   },
   "source": [
    "**Solution.** Here's a possible solution, using a hack to substitute the `symbol_cost()` and `expansion_cost()` functions once the pre-computed values are set up."
   ]
  },
  {
   "cell_type": "code",
   "execution_count": 94,
   "metadata": {
    "slideshow": {
     "slide_type": "skip"
    },
    "solution2": "hidden"
   },
   "outputs": [],
   "source": [
    "class EvenFasterGrammarFuzzer(GrammarFuzzer):\n",
    "    def __init__(self, *args, **kwargs):\n",
    "        super().__init__(*args, **kwargs)\n",
    "        self._symbol_costs = {}\n",
    "        self._expansion_costs = {}\n",
    "        self.precompute_costs()\n",
    "\n",
    "    def new_symbol_cost(self, symbol, seen=set()):\n",
    "        return self._symbol_costs[symbol]\n",
    "\n",
    "    def new_expansion_cost(self, expansion, seen=set()):\n",
    "        return self._expansion_costs[expansion]\n",
    "\n",
    "    def precompute_costs(self):\n",
    "        for symbol in self.grammar:\n",
    "            self._symbol_costs[symbol] = super().symbol_cost(symbol)\n",
    "            for expansion in self.grammar[symbol]:\n",
    "                self._expansion_costs[expansion] = super(\n",
    "                ).expansion_cost(expansion)\n",
    "\n",
    "        # Make sure we now call the caching methods\n",
    "        self.symbol_cost = self.new_symbol_cost\n",
    "        self.expansion_cost = self.new_expansion_cost"
   ]
  },
  {
   "cell_type": "code",
   "execution_count": 95,
   "metadata": {
    "slideshow": {
     "slide_type": "skip"
    },
    "solution2": "hidden"
   },
   "outputs": [],
   "source": [
    "f = EvenFasterGrammarFuzzer(EXPR_GRAMMAR)"
   ]
  },
  {
   "cell_type": "markdown",
   "metadata": {
    "slideshow": {
     "slide_type": "skip"
    },
    "solution2": "hidden"
   },
   "source": [
    "Here are the individual costs:"
   ]
  },
  {
   "cell_type": "code",
   "execution_count": 96,
   "metadata": {
    "slideshow": {
     "slide_type": "skip"
    },
    "solution2": "hidden"
   },
   "outputs": [
    {
     "data": {
      "text/plain": [
       "{'<start>': 6,\n",
       " '<expr>': 5,\n",
       " '<term>': 4,\n",
       " '<factor>': 3,\n",
       " '<integer>': 2,\n",
       " '<digit>': 1}"
      ]
     },
     "execution_count": 96,
     "metadata": {},
     "output_type": "execute_result"
    }
   ],
   "source": [
    "f._symbol_costs"
   ]
  },
  {
   "cell_type": "code",
   "execution_count": 97,
   "metadata": {
    "slideshow": {
     "slide_type": "skip"
    },
    "solution2": "hidden"
   },
   "outputs": [
    {
     "data": {
      "text/plain": [
       "{'<expr>': 6,\n",
       " '<term> + <expr>': 10,\n",
       " '<term> - <expr>': 10,\n",
       " '<term>': 5,\n",
       " '<factor> * <term>': 8,\n",
       " '<factor> / <term>': 8,\n",
       " '<factor>': 4,\n",
       " '+<factor>': 4,\n",
       " '-<factor>': 4,\n",
       " '(<expr>)': 6,\n",
       " '<integer>.<integer>': 5,\n",
       " '<integer>': 3,\n",
       " '<digit><integer>': 4,\n",
       " '<digit>': 2,\n",
       " '0': 1,\n",
       " '1': 1,\n",
       " '2': 1,\n",
       " '3': 1,\n",
       " '4': 1,\n",
       " '5': 1,\n",
       " '6': 1,\n",
       " '7': 1,\n",
       " '8': 1,\n",
       " '9': 1}"
      ]
     },
     "execution_count": 97,
     "metadata": {},
     "output_type": "execute_result"
    }
   ],
   "source": [
    "f._expansion_costs"
   ]
  },
  {
   "cell_type": "code",
   "execution_count": 98,
   "metadata": {
    "slideshow": {
     "slide_type": "skip"
    },
    "solution2": "hidden"
   },
   "outputs": [
    {
     "data": {
      "text/plain": [
       "'(9) / +++9 / 3 - ((9) / +-5.7 - (5)) + --(6 * 9 / 4 - 8 * 8 + 0)'"
      ]
     },
     "execution_count": 98,
     "metadata": {},
     "output_type": "execute_result"
    }
   ],
   "source": [
    "f = EvenFasterGrammarFuzzer(EXPR_GRAMMAR)\n",
    "f.fuzz()"
   ]
  },
  {
   "cell_type": "markdown",
   "metadata": {
    "button": false,
    "new_sheet": false,
    "run_control": {
     "read_only": false
    },
    "slideshow": {
     "slide_type": "subslide"
    },
    "solution": "hidden",
    "solution2": "hidden",
    "solution2_first": true,
    "solution_first": true
   },
   "source": [
    "### Exercise 3: Maintaining Trees to be Expanded\n",
    "\n",
    "In `expand_tree_once()`, the algorithm traverses the tree again and again to find nonterminals that still can be extended.  Speed up the process by keeping a list of nonterminal symbols in the tree that still can be expanded."
   ]
  },
  {
   "cell_type": "markdown",
   "metadata": {
    "button": false,
    "new_sheet": false,
    "run_control": {
     "read_only": false
    },
    "slideshow": {
     "slide_type": "skip"
    },
    "solution": "hidden",
    "solution2": "hidden"
   },
   "source": [
    "**Solution.** Left as exercise for the reader."
   ]
  },
  {
   "cell_type": "markdown",
   "metadata": {
    "slideshow": {
     "slide_type": "subslide"
    }
   },
   "source": [
    "### Exercise 4: Alternate Random Expansions"
   ]
  },
  {
   "cell_type": "markdown",
   "metadata": {
    "slideshow": {
     "slide_type": "fragment"
    }
   },
   "source": [
    "We could define `expand_node_randomly()` such that it simply invokes `expand_node_by_cost(node, random.choice)`:"
   ]
  },
  {
   "cell_type": "code",
   "execution_count": 99,
   "metadata": {
    "slideshow": {
     "slide_type": "fragment"
    }
   },
   "outputs": [],
   "source": [
    "class ExerciseGrammarFuzzer(GrammarFuzzer):\n",
    "    def expand_node_randomly(self, node):\n",
    "        if self.log:\n",
    "            print(\"Expanding\", all_terminals(node), \"randomly by cost\")\n",
    "\n",
    "        return self.expand_node_by_cost(node, random.choice)"
   ]
  },
  {
   "cell_type": "markdown",
   "metadata": {
    "slideshow": {
     "slide_type": "fragment"
    },
    "solution2": "hidden",
    "solution2_first": true
   },
   "source": [
    "What is the difference between the original implementation and this alternative?"
   ]
  },
  {
   "cell_type": "markdown",
   "metadata": {
    "button": false,
    "new_sheet": false,
    "run_control": {
     "read_only": false
    },
    "slideshow": {
     "slide_type": "skip"
    },
    "solution": "hidden",
    "solution2": "hidden"
   },
   "source": [
    "**Solution.** The alternative in `ExerciseGrammarFuzzer` has another probability distribution.  In the original `GrammarFuzzer`, all expansions have the same likelihood of being expanded.  In `ExerciseGrammarFuzzer`, first, a cost is chosen (randomly); then, one of the expansions with this cost is chosen (again randomly).  This means that expansions whose cost is unique have a higher chance of being selected."
   ]
  }
 ],
 "metadata": {
  "ipub": {
   "bibliography": "fuzzingbook.bib",
   "toc": true
  },
  "kernelspec": {
   "display_name": "Python 3",
   "language": "python",
   "name": "python3"
  },
  "language_info": {
   "codemirror_mode": {
    "name": "ipython",
    "version": 3
   },
   "file_extension": ".py",
   "mimetype": "text/x-python",
   "name": "python",
   "nbconvert_exporter": "python",
   "pygments_lexer": "ipython3",
   "version": "3.6.6"
  },
  "toc": {
   "base_numbering": 1,
   "nav_menu": {},
   "number_sections": true,
   "sideBar": true,
   "skip_h1_title": true,
   "title_cell": "",
   "title_sidebar": "Contents",
   "toc_cell": false,
   "toc_position": {},
   "toc_section_display": true,
   "toc_window_display": true
  }
 },
 "nbformat": 4,
 "nbformat_minor": 2
}
