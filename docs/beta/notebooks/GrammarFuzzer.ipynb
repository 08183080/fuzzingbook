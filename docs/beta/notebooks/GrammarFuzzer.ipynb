{
 "cells": [
  {
   "cell_type": "markdown",
   "metadata": {
    "button": false,
    "new_sheet": true,
    "run_control": {
     "read_only": false
    },
    "slideshow": {
     "slide_type": "slide"
    }
   },
   "source": [
    "# Efficient Grammar Fuzzing\n",
    "\n",
    "In the [chapter on grammars](Grammars.ipynb), we have seen how to use _grammars_ for very effective and efficient testing.  In this chapter, we refine the previous string-based algorithm into a tree-based algorithm, which is much faster and allows for much more control over the production of fuzz inputs.  The algorithm in this chapter serves as a foundation for several more techniques; this chapter thus is a \"hub\" in the book."
   ]
  },
  {
   "cell_type": "markdown",
   "metadata": {
    "button": false,
    "new_sheet": false,
    "run_control": {
     "read_only": false
    },
    "slideshow": {
     "slide_type": "subslide"
    }
   },
   "source": [
    "**Prerequisites**\n",
    "\n",
    "* You should know how grammar-based fuzzing works, e.g. from the [chapter on grammars](Grammars.ipynb)."
   ]
  },
  {
   "cell_type": "markdown",
   "metadata": {
    "slideshow": {
     "slide_type": "slide"
    }
   },
   "source": [
    "## An Insufficient Algorithm\n",
    "\n",
    "In the [last chapter](Grammars.ipynb), we have introduced the `simple_grammar_fuzzer()` function which takes a grammar and automatically produces a syntactically valid string from it.  However, `simple_grammar_fuzzer()` is just what its name suggests – simple.  To illustrate the problem, let us get back to the `expr_grammar` we created from `EXPR_GRAMMAR_BNF` in the [chapter on grammars](Grammars.ipynb):"
   ]
  },
  {
   "cell_type": "code",
   "execution_count": 1,
   "metadata": {
    "slideshow": {
     "slide_type": "skip"
    }
   },
   "outputs": [],
   "source": [
    "import fuzzingbook_utils"
   ]
  },
  {
   "cell_type": "code",
   "execution_count": 2,
   "metadata": {
    "slideshow": {
     "slide_type": "skip"
    }
   },
   "outputs": [],
   "source": [
    "from Grammars import EXPR_GRAMMAR_EBNF, convert_ebnf_grammar, simple_grammar_fuzzer"
   ]
  },
  {
   "cell_type": "code",
   "execution_count": 3,
   "metadata": {
    "slideshow": {
     "slide_type": "subslide"
    }
   },
   "outputs": [
    {
     "data": {
      "text/plain": [
       "{'<start>': ['<expr>'],\n",
       " '<expr>': ['<term> + <expr>', '<term> - <expr>', '<term>'],\n",
       " '<term>': ['<factor> * <term>', '<factor> / <term>', '<factor>'],\n",
       " '<factor>': ['<sign-1><factor>', '(<expr>)', '<integer><symbol-1-1>'],\n",
       " '<sign>': ['+', '-'],\n",
       " '<integer>': ['<digit-1>'],\n",
       " '<digit>': ['0', '1', '2', '3', '4', '5', '6', '7', '8', '9'],\n",
       " '<symbol-1>': ['.<integer>'],\n",
       " '<sign-1>': ['', '<sign>'],\n",
       " '<symbol-1-1>': ['', '<symbol-1>'],\n",
       " '<digit-1>': ['<digit>', '<digit><digit-1>']}"
      ]
     },
     "execution_count": 3,
     "metadata": {},
     "output_type": "execute_result"
    }
   ],
   "source": [
    "expr_grammar = convert_ebnf_grammar(EXPR_GRAMMAR_EBNF)\n",
    "expr_grammar"
   ]
  },
  {
   "cell_type": "markdown",
   "metadata": {
    "slideshow": {
     "slide_type": "subslide"
    }
   },
   "source": [
    "`expr_grammar` has an interesting property.  If we feed it into `simple_grammar_fuzzer()`, the function gets stuck in an infinite expansion:"
   ]
  },
  {
   "cell_type": "code",
   "execution_count": 4,
   "metadata": {
    "slideshow": {
     "slide_type": "skip"
    }
   },
   "outputs": [],
   "source": [
    "from ExpectError import ExpectTimeout"
   ]
  },
  {
   "cell_type": "code",
   "execution_count": 5,
   "metadata": {
    "slideshow": {
     "slide_type": "subslide"
    }
   },
   "outputs": [
    {
     "name": "stderr",
     "output_type": "stream",
     "text": [
      "Traceback (most recent call last):\n",
      "  File \"<ipython-input-5-fbcda5f486bb>\", line 2, in <module>\n",
      "    simple_grammar_fuzzer(grammar=expr_grammar, max_nonterminals=3)\n",
      "  File \"<string>\", line 10, in simple_grammar_fuzzer\n",
      "  File \"/Users/rahul.gopinath/anaconda3/lib/python3.6/random.py\", line 256, in choice\n",
      "    i = self._randbelow(len(seq))\n",
      "  File \"/Users/rahul.gopinath/anaconda3/lib/python3.6/random.py\", line 235, in _randbelow\n",
      "    r = getrandbits(k)\n",
      "  File \"/Users/rahul.gopinath/anaconda3/lib/python3.6/random.py\", line 235, in _randbelow\n",
      "    r = getrandbits(k)\n",
      "  File \"<string>\", line 14, in check_time\n",
      "TimeoutError (expected)\n"
     ]
    }
   ],
   "source": [
    "with ExpectTimeout(1):\n",
    "    simple_grammar_fuzzer(grammar=expr_grammar, max_nonterminals=3)"
   ]
  },
  {
   "cell_type": "markdown",
   "metadata": {
    "slideshow": {
     "slide_type": "subslide"
    }
   },
   "source": [
    "Why is that so?  The problem is in this rule:"
   ]
  },
  {
   "cell_type": "code",
   "execution_count": 6,
   "metadata": {
    "slideshow": {
     "slide_type": "fragment"
    }
   },
   "outputs": [
    {
     "data": {
      "text/plain": [
       "['<sign-1><factor>', '(<expr>)', '<integer><symbol-1-1>']"
      ]
     },
     "execution_count": 6,
     "metadata": {},
     "output_type": "execute_result"
    }
   ],
   "source": [
    "expr_grammar['<factor>']"
   ]
  },
  {
   "cell_type": "markdown",
   "metadata": {
    "slideshow": {
     "slide_type": "fragment"
    }
   },
   "source": [
    "Here, any choice except for `(expr)` increases the number of symbols, even if only temporary.  Since we place a hard limit on the number of symbols to expand, the only choice left for expanding `<factor>` is `(<expr>)`, which leads to an infinite addition of parentheses."
   ]
  },
  {
   "cell_type": "markdown",
   "metadata": {
    "button": false,
    "new_sheet": false,
    "run_control": {
     "read_only": false
    },
    "slideshow": {
     "slide_type": "subslide"
    }
   },
   "source": [
    "The problem of potentially infinite expansion is only one of the problems with `simple_grammar_fuzzer()`.  More problems include:\n",
    "\n",
    "1. *It is inefficient*.  With each iteration, this fuzzer would go search the string produced so far for symbols to expand.  This becomes inefficient as the production string grows.\n",
    "\n",
    "2. *It is hard to control.*  Even while limiting the number of symbols, it is still possible to obtain very long strings – and even infinitely long ones, as discussed above.\n",
    "\n",
    "Let us illustrate both problems by plotting the time required for strings of different lengths."
   ]
  },
  {
   "cell_type": "code",
   "execution_count": 7,
   "metadata": {
    "button": false,
    "new_sheet": false,
    "run_control": {
     "read_only": false
    },
    "slideshow": {
     "slide_type": "skip"
    }
   },
   "outputs": [],
   "source": [
    "from Grammars import simple_grammar_fuzzer"
   ]
  },
  {
   "cell_type": "code",
   "execution_count": 8,
   "metadata": {
    "button": false,
    "new_sheet": false,
    "run_control": {
     "read_only": false
    },
    "slideshow": {
     "slide_type": "skip"
    }
   },
   "outputs": [],
   "source": [
    "from Grammars import START_SYMBOL, EXPR_GRAMMAR, URL_GRAMMAR, CGI_GRAMMAR"
   ]
  },
  {
   "cell_type": "code",
   "execution_count": 9,
   "metadata": {
    "button": false,
    "new_sheet": false,
    "run_control": {
     "read_only": false
    },
    "slideshow": {
     "slide_type": "skip"
    }
   },
   "outputs": [],
   "source": [
    "from Grammars import RE_NONTERMINAL, nonterminals, is_nonterminal"
   ]
  },
  {
   "cell_type": "code",
   "execution_count": 10,
   "metadata": {
    "button": false,
    "new_sheet": false,
    "run_control": {
     "read_only": false
    },
    "slideshow": {
     "slide_type": "skip"
    }
   },
   "outputs": [],
   "source": [
    "from Timer import Timer"
   ]
  },
  {
   "cell_type": "code",
   "execution_count": 11,
   "metadata": {
    "button": false,
    "new_sheet": false,
    "run_control": {
     "read_only": false
    },
    "slideshow": {
     "slide_type": "subslide"
    }
   },
   "outputs": [
    {
     "name": "stdout",
     "output_type": "stream",
     "text": [
      "0 1 2 3 4 5 6 7 8 9 10 11 12 13 14 15 16 17 18 19 20 21 22 23 24 25 26 27 28 29 30 31 32 33 34 35 36 37 38 39 40 41 42 43 44 45 46 47 48 49 \n"
     ]
    }
   ],
   "source": [
    "trials = 50\n",
    "xs = []\n",
    "ys = []\n",
    "for i in range(trials):\n",
    "    with Timer() as t:\n",
    "        s = simple_grammar_fuzzer(EXPR_GRAMMAR, max_nonterminals=15)\n",
    "    xs.append(len(s))\n",
    "    ys.append(t.elapsed_time())\n",
    "    print(i, end=\" \")\n",
    "print()"
   ]
  },
  {
   "cell_type": "code",
   "execution_count": 12,
   "metadata": {
    "button": false,
    "new_sheet": false,
    "run_control": {
     "read_only": false
    },
    "slideshow": {
     "slide_type": "subslide"
    }
   },
   "outputs": [
    {
     "name": "stdout",
     "output_type": "stream",
     "text": [
      "Average time: 0.19149707785574718\n"
     ]
    }
   ],
   "source": [
    "average_time = sum(ys) / trials\n",
    "print(\"Average time:\", average_time)"
   ]
  },
  {
   "cell_type": "code",
   "execution_count": 13,
   "metadata": {
    "button": false,
    "new_sheet": false,
    "run_control": {
     "read_only": false
    },
    "slideshow": {
     "slide_type": "fragment"
    }
   },
   "outputs": [
    {
     "data": {
      "image/png": "[encoded data removed]",
      "text/plain": [
       "<Figure size 432x288 with 1 Axes>"
      ]
     },
     "metadata": {},
     "output_type": "display_data"
    }
   ],
   "source": [
    "%matplotlib inline\n",
    "\n",
    "import matplotlib.pyplot as plt\n",
    "plt.scatter(xs, ys)\n",
    "plt.title('Time required for generating an output');"
   ]
  },
  {
   "cell_type": "markdown",
   "metadata": {
    "button": false,
    "new_sheet": false,
    "run_control": {
     "read_only": false
    },
    "slideshow": {
     "slide_type": "fragment"
    }
   },
   "source": [
    "We see that (1) the effort increases quadratically over time, and (2) we can easily produce outputs that are tens of thousands of characters long."
   ]
  },
  {
   "cell_type": "markdown",
   "metadata": {
    "slideshow": {
     "slide_type": "subslide"
    }
   },
   "source": [
    "To address these problem, we need a _smarter algorithm_ – one that is more efficient, that gets us better control over expansions, and that is able to foresee in `expr_grammar` that the `(expr)` alternative yields a potentially infinite expansion, in contrast to the other two."
   ]
  },
  {
   "cell_type": "markdown",
   "metadata": {
    "button": false,
    "new_sheet": false,
    "run_control": {
     "read_only": false
    },
    "slideshow": {
     "slide_type": "slide"
    }
   },
   "source": [
    "## Derivation Trees\n",
    "\n",
    "To both obtain a more efficient algorithm _and_ exercise better control over expansions, we will use a special representation for the strings that our grammar produces.  The general idea is to use a _tree_ structure that will be subsequently expanded – a so-called _derivation tree_."
   ]
  },
  {
   "cell_type": "markdown",
   "metadata": {
    "button": false,
    "new_sheet": false,
    "run_control": {
     "read_only": false
    },
    "slideshow": {
     "slide_type": "fragment"
    }
   },
   "source": [
    "Like other trees used in programming, a derivation tree consists of _nodes_ which have other nodes as their _children_.  The tree starts with one node that has no parent; this is called the _root node_; a node without children is called a _leaf_."
   ]
  },
  {
   "cell_type": "markdown",
   "metadata": {
    "button": false,
    "new_sheet": false,
    "run_control": {
     "read_only": false
    },
    "slideshow": {
     "slide_type": "subslide"
    }
   },
   "source": [
    "The grammar expansion process with derivation trees is illustrated in the following steps, using the arithmetic grammar [from\n",
    "the chapter on grammars](Grammars.ipynb).  We start with a single node as root of the tree, representing the _start symbol_ – in our case `<start>`."
   ]
  },
  {
   "cell_type": "markdown",
   "metadata": {
    "ipub": {
     "ignore": true
    },
    "slideshow": {
     "slide_type": "fragment"
    }
   },
   "source": [
    "(We use `dot` as a drawing program; you don't need to look at the code, just at its results.)"
   ]
  },
  {
   "cell_type": "code",
   "execution_count": 14,
   "metadata": {
    "button": false,
    "ipub": {
     "ignore": true
    },
    "new_sheet": false,
    "run_control": {
     "read_only": false
    },
    "slideshow": {
     "slide_type": "skip"
    }
   },
   "outputs": [],
   "source": [
    "from graphviz import Digraph"
   ]
  },
  {
   "cell_type": "code",
   "execution_count": 15,
   "metadata": {
    "button": false,
    "ipub": {
     "ignore": true
    },
    "new_sheet": false,
    "run_control": {
     "read_only": false
    },
    "slideshow": {
     "slide_type": "fragment"
    }
   },
   "outputs": [],
   "source": [
    "tree = Digraph(\"root\")\n",
    "tree.attr('node', shape='plain')\n",
    "tree.node(r\"\\<start\\>\")"
   ]
  },
  {
   "cell_type": "code",
   "execution_count": 16,
   "metadata": {
    "button": false,
    "new_sheet": false,
    "run_control": {
     "read_only": false
    },
    "slideshow": {
     "slide_type": "fragment"
    }
   },
   "outputs": [
    {
     "data": {
      "image/svg+xml": [
       "<?xml version=\"1.0\" encoding=\"UTF-8\" standalone=\"no\"?>\n",
       "<!DOCTYPE svg PUBLIC \"-//W3C//DTD SVG 1.1//EN\"\n",
       " \"http://www.w3.org/Graphics/SVG/1.1/DTD/svg11.dtd\">\n",
       "<!-- Generated by graphviz version 2.40.1 (20161225.0304)\n",
       " -->\n",
       "<!-- Title: root Pages: 1 -->\n",
       "<svg width=\"48pt\" height=\"22pt\"\n",
       " viewBox=\"0.00 0.00 47.89 22.00\" xmlns=\"http://www.w3.org/2000/svg\" xmlns:xlink=\"http://www.w3.org/1999/xlink\">\n",
       "<g id=\"graph0\" class=\"graph\" transform=\"scale(1 1) rotate(0) translate(4 18)\">\n",
       "<title>root</title>\n",
       "<polygon fill=\"#ffffff\" stroke=\"transparent\" points=\"-4,4 -4,-18 43.8945,-18 43.8945,4 -4,4\"/>\n",
       "<!-- \\&lt;start\\&gt; -->\n",
       "<g id=\"node1\" class=\"node\">\n",
       "<title>\\&lt;start\\&gt;</title>\n",
       "<text text-anchor=\"middle\" x=\"19.9473\" y=\"-2.8\" font-family=\"Times,serif\" font-size=\"14.00\" fill=\"#000000\">&lt;start&gt;</text>\n",
       "</g>\n",
       "</g>\n",
       "</svg>\n"
      ],
      "text/plain": [
       "<graphviz.dot.Digraph at 0x11e328ac8>"
      ]
     },
     "execution_count": 16,
     "metadata": {},
     "output_type": "execute_result"
    }
   ],
   "source": [
    "tree"
   ]
  },
  {
   "cell_type": "markdown",
   "metadata": {
    "button": false,
    "new_sheet": false,
    "run_control": {
     "read_only": false
    },
    "slideshow": {
     "slide_type": "subslide"
    }
   },
   "source": [
    "To expand the tree, we traverse it, searching for a symbol $S$ without children to expand, and chose an expansion for $S$ from the grammar.  Then, we add the expansion as a new child of $S$.  In the case of our start symbol `<start>`, its only expansion is `<expr>`, so we add this as a child."
   ]
  },
  {
   "cell_type": "code",
   "execution_count": 17,
   "metadata": {
    "button": false,
    "ipub": {
     "ignore": true
    },
    "new_sheet": false,
    "run_control": {
     "read_only": false
    },
    "slideshow": {
     "slide_type": "fragment"
    }
   },
   "outputs": [],
   "source": [
    "tree.edge(r\"\\<start\\>\", r\"\\<expr\\>\")"
   ]
  },
  {
   "cell_type": "code",
   "execution_count": 18,
   "metadata": {
    "button": false,
    "new_sheet": false,
    "run_control": {
     "read_only": false
    },
    "slideshow": {
     "slide_type": "fragment"
    }
   },
   "outputs": [
    {
     "data": {
      "image/svg+xml": [
       "<?xml version=\"1.0\" encoding=\"UTF-8\" standalone=\"no\"?>\n",
       "<!DOCTYPE svg PUBLIC \"-//W3C//DTD SVG 1.1//EN\"\n",
       " \"http://www.w3.org/Graphics/SVG/1.1/DTD/svg11.dtd\">\n",
       "<!-- Generated by graphviz version 2.40.1 (20161225.0304)\n",
       " -->\n",
       "<!-- Title: root Pages: 1 -->\n",
       "<svg width=\"49pt\" height=\"72pt\"\n",
       " viewBox=\"0.00 0.00 48.67 72.00\" xmlns=\"http://www.w3.org/2000/svg\" xmlns:xlink=\"http://www.w3.org/1999/xlink\">\n",
       "<g id=\"graph0\" class=\"graph\" transform=\"scale(1 1) rotate(0) translate(4 68)\">\n",
       "<title>root</title>\n",
       "<polygon fill=\"#ffffff\" stroke=\"transparent\" points=\"-4,4 -4,-68 44.667,-68 44.667,4 -4,4\"/>\n",
       "<!-- \\&lt;start\\&gt; -->\n",
       "<g id=\"node1\" class=\"node\">\n",
       "<title>\\&lt;start\\&gt;</title>\n",
       "<text text-anchor=\"middle\" x=\"20.3335\" y=\"-52.8\" font-family=\"Times,serif\" font-size=\"14.00\" fill=\"#000000\">&lt;start&gt;</text>\n",
       "</g>\n",
       "<!-- \\&lt;expr\\&gt; -->\n",
       "<g id=\"node2\" class=\"node\">\n",
       "<title>\\&lt;expr\\&gt;</title>\n",
       "<text text-anchor=\"middle\" x=\"20.3335\" y=\"-2.8\" font-family=\"Times,serif\" font-size=\"14.00\" fill=\"#000000\">&lt;expr&gt;</text>\n",
       "</g>\n",
       "<!-- \\&lt;start\\&gt;&#45;&gt;\\&lt;expr\\&gt; -->\n",
       "<g id=\"edge1\" class=\"edge\">\n",
       "<title>\\&lt;start\\&gt;&#45;&gt;\\&lt;expr\\&gt;</title>\n",
       "<path fill=\"none\" stroke=\"#000000\" d=\"M20.3335,-49.6223C20.3335,-42.9738 20.3335,-32.942 20.3335,-24.2807\"/>\n",
       "<polygon fill=\"#000000\" stroke=\"#000000\" points=\"23.8336,-24.0842 20.3335,-14.0842 16.8336,-24.0842 23.8336,-24.0842\"/>\n",
       "</g>\n",
       "</g>\n",
       "</svg>\n"
      ],
      "text/plain": [
       "<graphviz.dot.Digraph at 0x11e328ac8>"
      ]
     },
     "execution_count": 18,
     "metadata": {},
     "output_type": "execute_result"
    }
   ],
   "source": [
    "tree"
   ]
  },
  {
   "cell_type": "markdown",
   "metadata": {
    "button": false,
    "new_sheet": false,
    "run_control": {
     "read_only": false
    },
    "slideshow": {
     "slide_type": "subslide"
    }
   },
   "source": [
    "To construct the produced string from a derivation tree, we traverse the tree in order and collect the symbols at the leaves of the tree.  In the case above, we obtain the string `\"<expr>\"`.\n",
    "\n",
    "To further expand the tree, we choose another symbol to expand, and add its expansion as new children.  This would get us the `<expr>` symbol, which gets expanded into `<expr> + <term>`, adding three children."
   ]
  },
  {
   "cell_type": "code",
   "execution_count": 19,
   "metadata": {
    "button": false,
    "ipub": {
     "ignore": true
    },
    "new_sheet": false,
    "run_control": {
     "read_only": false
    },
    "slideshow": {
     "slide_type": "fragment"
    }
   },
   "outputs": [],
   "source": [
    "tree.edge(r\"\\<expr\\>\", r\"\\<expr\\> \")\n",
    "tree.edge(r\"\\<expr\\>\", r\"+\")\n",
    "tree.edge(r\"\\<expr\\>\", r\"\\<term\\>\")"
   ]
  },
  {
   "cell_type": "code",
   "execution_count": 20,
   "metadata": {
    "button": false,
    "new_sheet": false,
    "run_control": {
     "read_only": false
    },
    "slideshow": {
     "slide_type": "fragment"
    }
   },
   "outputs": [
    {
     "data": {
      "image/svg+xml": [
       "<?xml version=\"1.0\" encoding=\"UTF-8\" standalone=\"no\"?>\n",
       "<!DOCTYPE svg PUBLIC \"-//W3C//DTD SVG 1.1//EN\"\n",
       " \"http://www.w3.org/Graphics/SVG/1.1/DTD/svg11.dtd\">\n",
       "<!-- Generated by graphviz version 2.40.1 (20161225.0304)\n",
       " -->\n",
       "<!-- Title: root Pages: 1 -->\n",
       "<svg width=\"138pt\" height=\"122pt\"\n",
       " viewBox=\"0.00 0.00 137.81 122.00\" xmlns=\"http://www.w3.org/2000/svg\" xmlns:xlink=\"http://www.w3.org/1999/xlink\">\n",
       "<g id=\"graph0\" class=\"graph\" transform=\"scale(1 1) rotate(0) translate(4 118)\">\n",
       "<title>root</title>\n",
       "<polygon fill=\"#ffffff\" stroke=\"transparent\" points=\"-4,4 -4,-118 133.8066,-118 133.8066,4 -4,4\"/>\n",
       "<!-- \\&lt;start\\&gt; -->\n",
       "<g id=\"node1\" class=\"node\">\n",
       "<title>\\&lt;start\\&gt;</title>\n",
       "<text text-anchor=\"middle\" x=\"66.0835\" y=\"-102.8\" font-family=\"Times,serif\" font-size=\"14.00\" fill=\"#000000\">&lt;start&gt;</text>\n",
       "</g>\n",
       "<!-- \\&lt;expr\\&gt; -->\n",
       "<g id=\"node2\" class=\"node\">\n",
       "<title>\\&lt;expr\\&gt;</title>\n",
       "<text text-anchor=\"middle\" x=\"66.0835\" y=\"-52.8\" font-family=\"Times,serif\" font-size=\"14.00\" fill=\"#000000\">&lt;expr&gt;</text>\n",
       "</g>\n",
       "<!-- \\&lt;start\\&gt;&#45;&gt;\\&lt;expr\\&gt; -->\n",
       "<g id=\"edge1\" class=\"edge\">\n",
       "<title>\\&lt;start\\&gt;&#45;&gt;\\&lt;expr\\&gt;</title>\n",
       "<path fill=\"none\" stroke=\"#000000\" d=\"M66.0835,-99.6223C66.0835,-92.9738 66.0835,-82.942 66.0835,-74.2807\"/>\n",
       "<polygon fill=\"#000000\" stroke=\"#000000\" points=\"69.5836,-74.0842 66.0835,-64.0842 62.5836,-74.0842 69.5836,-74.0842\"/>\n",
       "</g>\n",
       "<!-- \\&lt;expr\\&gt;  -->\n",
       "<g id=\"node3\" class=\"node\">\n",
       "<title>\\&lt;expr\\&gt; </title>\n",
       "<text text-anchor=\"middle\" x=\"22.0835\" y=\"-2.8\" font-family=\"Times,serif\" font-size=\"14.00\" fill=\"#000000\">&lt;expr&gt; </text>\n",
       "</g>\n",
       "<!-- \\&lt;expr\\&gt;&#45;&gt;\\&lt;expr\\&gt;  -->\n",
       "<g id=\"edge2\" class=\"edge\">\n",
       "<title>\\&lt;expr\\&gt;&#45;&gt;\\&lt;expr\\&gt; </title>\n",
       "<path fill=\"none\" stroke=\"#000000\" d=\"M59.5911,-49.6223C53.1488,-42.3014 43.0965,-30.8785 35.0196,-21.7001\"/>\n",
       "<polygon fill=\"#000000\" stroke=\"#000000\" points=\"37.5514,-19.2791 28.3176,-14.0842 32.2964,-23.9036 37.5514,-19.2791\"/>\n",
       "</g>\n",
       "<!-- + -->\n",
       "<g id=\"node4\" class=\"node\">\n",
       "<title>+</title>\n",
       "<text text-anchor=\"middle\" x=\"66.0835\" y=\"-2.8\" font-family=\"Times,serif\" font-size=\"14.00\" fill=\"#000000\">+</text>\n",
       "</g>\n",
       "<!-- \\&lt;expr\\&gt;&#45;&gt;+ -->\n",
       "<g id=\"edge3\" class=\"edge\">\n",
       "<title>\\&lt;expr\\&gt;&#45;&gt;+</title>\n",
       "<path fill=\"none\" stroke=\"#000000\" d=\"M66.0835,-49.6223C66.0835,-42.9738 66.0835,-32.942 66.0835,-24.2807\"/>\n",
       "<polygon fill=\"#000000\" stroke=\"#000000\" points=\"69.5836,-24.0842 66.0835,-14.0842 62.5836,-24.0842 69.5836,-24.0842\"/>\n",
       "</g>\n",
       "<!-- \\&lt;term\\&gt; -->\n",
       "<g id=\"node5\" class=\"node\">\n",
       "<title>\\&lt;term\\&gt;</title>\n",
       "<text text-anchor=\"middle\" x=\"109.0835\" y=\"-2.8\" font-family=\"Times,serif\" font-size=\"14.00\" fill=\"#000000\">&lt;term&gt;</text>\n",
       "</g>\n",
       "<!-- \\&lt;expr\\&gt;&#45;&gt;\\&lt;term\\&gt; -->\n",
       "<g id=\"edge4\" class=\"edge\">\n",
       "<title>\\&lt;expr\\&gt;&#45;&gt;\\&lt;term\\&gt;</title>\n",
       "<path fill=\"none\" stroke=\"#000000\" d=\"M72.4283,-49.6223C78.7243,-42.3014 88.548,-30.8785 96.4414,-21.7001\"/>\n",
       "<polygon fill=\"#000000\" stroke=\"#000000\" points=\"99.1243,-23.9482 102.9911,-14.0842 93.817,-19.3839 99.1243,-23.9482\"/>\n",
       "</g>\n",
       "</g>\n",
       "</svg>\n"
      ],
      "text/plain": [
       "<graphviz.dot.Digraph at 0x11e328ac8>"
      ]
     },
     "execution_count": 20,
     "metadata": {},
     "output_type": "execute_result"
    }
   ],
   "source": [
    "tree"
   ]
  },
  {
   "cell_type": "markdown",
   "metadata": {
    "button": false,
    "new_sheet": false,
    "run_control": {
     "read_only": false
    },
    "slideshow": {
     "slide_type": "fragment"
    }
   },
   "source": [
    "We repeat the expansion until there are no symbols left to expand:"
   ]
  },
  {
   "cell_type": "code",
   "execution_count": 21,
   "metadata": {
    "button": false,
    "ipub": {
     "ignore": true
    },
    "new_sheet": false,
    "run_control": {
     "read_only": false
    },
    "slideshow": {
     "slide_type": "subslide"
    }
   },
   "outputs": [],
   "source": [
    "tree.edge(r\"\\<expr\\> \", r\"\\<term\\> \")\n",
    "tree.edge(r\"\\<term\\> \", r\"\\<factor\\> \")\n",
    "tree.edge(r\"\\<factor\\> \", r\"\\<integer\\> \")\n",
    "tree.edge(r\"\\<integer\\> \", r\"\\<digit\\> \")\n",
    "tree.edge(r\"\\<digit\\> \", r\"2 \")\n",
    "\n",
    "tree.edge(r\"\\<term\\>\", r\"\\<factor\\>\")\n",
    "tree.edge(r\"\\<factor\\>\", r\"\\<integer\\>\")\n",
    "tree.edge(r\"\\<integer\\>\", r\"\\<digit\\>\")\n",
    "tree.edge(r\"\\<digit\\>\", r\"2\")"
   ]
  },
  {
   "cell_type": "code",
   "execution_count": 22,
   "metadata": {
    "button": false,
    "new_sheet": false,
    "run_control": {
     "read_only": false
    },
    "slideshow": {
     "slide_type": "fragment"
    }
   },
   "outputs": [
    {
     "data": {
      "image/svg+xml": [
       "<?xml version=\"1.0\" encoding=\"UTF-8\" standalone=\"no\"?>\n",
       "<!DOCTYPE svg PUBLIC \"-//W3C//DTD SVG 1.1//EN\"\n",
       " \"http://www.w3.org/Graphics/SVG/1.1/DTD/svg11.dtd\">\n",
       "<!-- Generated by graphviz version 2.40.1 (20161225.0304)\n",
       " -->\n",
       "<!-- Title: root Pages: 1 -->\n",
       "<svg width=\"151pt\" height=\"372pt\"\n",
       " viewBox=\"0.00 0.00 151.41 372.00\" xmlns=\"http://www.w3.org/2000/svg\" xmlns:xlink=\"http://www.w3.org/1999/xlink\">\n",
       "<g id=\"graph0\" class=\"graph\" transform=\"scale(1 1) rotate(0) translate(4 368)\">\n",
       "<title>root</title>\n",
       "<polygon fill=\"#ffffff\" stroke=\"transparent\" points=\"-4,4 -4,-368 147.4102,-368 147.4102,4 -4,4\"/>\n",
       "<!-- \\&lt;start\\&gt; -->\n",
       "<g id=\"node1\" class=\"node\">\n",
       "<title>\\&lt;start\\&gt;</title>\n",
       "<text text-anchor=\"middle\" x=\"73.0801\" y=\"-352.8\" font-family=\"Times,serif\" font-size=\"14.00\" fill=\"#000000\">&lt;start&gt;</text>\n",
       "</g>\n",
       "<!-- \\&lt;expr\\&gt; -->\n",
       "<g id=\"node2\" class=\"node\">\n",
       "<title>\\&lt;expr\\&gt;</title>\n",
       "<text text-anchor=\"middle\" x=\"73.0801\" y=\"-302.8\" font-family=\"Times,serif\" font-size=\"14.00\" fill=\"#000000\">&lt;expr&gt;</text>\n",
       "</g>\n",
       "<!-- \\&lt;start\\&gt;&#45;&gt;\\&lt;expr\\&gt; -->\n",
       "<g id=\"edge1\" class=\"edge\">\n",
       "<title>\\&lt;start\\&gt;&#45;&gt;\\&lt;expr\\&gt;</title>\n",
       "<path fill=\"none\" stroke=\"#000000\" d=\"M73.0801,-349.6223C73.0801,-342.9738 73.0801,-332.942 73.0801,-324.2807\"/>\n",
       "<polygon fill=\"#000000\" stroke=\"#000000\" points=\"76.5802,-324.0842 73.0801,-314.0842 69.5802,-324.0842 76.5802,-324.0842\"/>\n",
       "</g>\n",
       "<!-- \\&lt;expr\\&gt;  -->\n",
       "<g id=\"node3\" class=\"node\">\n",
       "<title>\\&lt;expr\\&gt; </title>\n",
       "<text text-anchor=\"middle\" x=\"29.0801\" y=\"-252.8\" font-family=\"Times,serif\" font-size=\"14.00\" fill=\"#000000\">&lt;expr&gt; </text>\n",
       "</g>\n",
       "<!-- \\&lt;expr\\&gt;&#45;&gt;\\&lt;expr\\&gt;  -->\n",
       "<g id=\"edge2\" class=\"edge\">\n",
       "<title>\\&lt;expr\\&gt;&#45;&gt;\\&lt;expr\\&gt; </title>\n",
       "<path fill=\"none\" stroke=\"#000000\" d=\"M66.5877,-299.6223C60.1453,-292.3014 50.0931,-280.8785 42.0162,-271.7001\"/>\n",
       "<polygon fill=\"#000000\" stroke=\"#000000\" points=\"44.548,-269.2791 35.3142,-264.0842 39.293,-273.9036 44.548,-269.2791\"/>\n",
       "</g>\n",
       "<!-- + -->\n",
       "<g id=\"node4\" class=\"node\">\n",
       "<title>+</title>\n",
       "<text text-anchor=\"middle\" x=\"73.0801\" y=\"-252.8\" font-family=\"Times,serif\" font-size=\"14.00\" fill=\"#000000\">+</text>\n",
       "</g>\n",
       "<!-- \\&lt;expr\\&gt;&#45;&gt;+ -->\n",
       "<g id=\"edge3\" class=\"edge\">\n",
       "<title>\\&lt;expr\\&gt;&#45;&gt;+</title>\n",
       "<path fill=\"none\" stroke=\"#000000\" d=\"M73.0801,-299.6223C73.0801,-292.9738 73.0801,-282.942 73.0801,-274.2807\"/>\n",
       "<polygon fill=\"#000000\" stroke=\"#000000\" points=\"76.5802,-274.0842 73.0801,-264.0842 69.5802,-274.0842 76.5802,-274.0842\"/>\n",
       "</g>\n",
       "<!-- \\&lt;term\\&gt; -->\n",
       "<g id=\"node5\" class=\"node\">\n",
       "<title>\\&lt;term\\&gt;</title>\n",
       "<text text-anchor=\"middle\" x=\"116.0801\" y=\"-252.8\" font-family=\"Times,serif\" font-size=\"14.00\" fill=\"#000000\">&lt;term&gt;</text>\n",
       "</g>\n",
       "<!-- \\&lt;expr\\&gt;&#45;&gt;\\&lt;term\\&gt; -->\n",
       "<g id=\"edge4\" class=\"edge\">\n",
       "<title>\\&lt;expr\\&gt;&#45;&gt;\\&lt;term\\&gt;</title>\n",
       "<path fill=\"none\" stroke=\"#000000\" d=\"M79.4249,-299.6223C85.7208,-292.3014 95.5446,-280.8785 103.438,-271.7001\"/>\n",
       "<polygon fill=\"#000000\" stroke=\"#000000\" points=\"106.1209,-273.9482 109.9877,-264.0842 100.8136,-269.3839 106.1209,-273.9482\"/>\n",
       "</g>\n",
       "<!-- \\&lt;term\\&gt;  -->\n",
       "<g id=\"node6\" class=\"node\">\n",
       "<title>\\&lt;term\\&gt; </title>\n",
       "<text text-anchor=\"middle\" x=\"29.0801\" y=\"-202.8\" font-family=\"Times,serif\" font-size=\"14.00\" fill=\"#000000\">&lt;term&gt; </text>\n",
       "</g>\n",
       "<!-- \\&lt;expr\\&gt; &#45;&gt;\\&lt;term\\&gt;  -->\n",
       "<g id=\"edge5\" class=\"edge\">\n",
       "<title>\\&lt;expr\\&gt; &#45;&gt;\\&lt;term\\&gt; </title>\n",
       "<path fill=\"none\" stroke=\"#000000\" d=\"M29.0801,-249.6223C29.0801,-242.9738 29.0801,-232.942 29.0801,-224.2807\"/>\n",
       "<polygon fill=\"#000000\" stroke=\"#000000\" points=\"32.5802,-224.0842 29.0801,-214.0842 25.5802,-224.0842 32.5802,-224.0842\"/>\n",
       "</g>\n",
       "<!-- \\&lt;factor\\&gt; -->\n",
       "<g id=\"node11\" class=\"node\">\n",
       "<title>\\&lt;factor\\&gt;</title>\n",
       "<text text-anchor=\"middle\" x=\"116.0801\" y=\"-202.8\" font-family=\"Times,serif\" font-size=\"14.00\" fill=\"#000000\">&lt;factor&gt;</text>\n",
       "</g>\n",
       "<!-- \\&lt;term\\&gt;&#45;&gt;\\&lt;factor\\&gt; -->\n",
       "<g id=\"edge10\" class=\"edge\">\n",
       "<title>\\&lt;term\\&gt;&#45;&gt;\\&lt;factor\\&gt;</title>\n",
       "<path fill=\"none\" stroke=\"#000000\" d=\"M116.0801,-249.6223C116.0801,-242.9738 116.0801,-232.942 116.0801,-224.2807\"/>\n",
       "<polygon fill=\"#000000\" stroke=\"#000000\" points=\"119.5802,-224.0842 116.0801,-214.0842 112.5802,-224.0842 119.5802,-224.0842\"/>\n",
       "</g>\n",
       "<!-- \\&lt;factor\\&gt;  -->\n",
       "<g id=\"node7\" class=\"node\">\n",
       "<title>\\&lt;factor\\&gt; </title>\n",
       "<text text-anchor=\"middle\" x=\"29.0801\" y=\"-152.8\" font-family=\"Times,serif\" font-size=\"14.00\" fill=\"#000000\">&lt;factor&gt; </text>\n",
       "</g>\n",
       "<!-- \\&lt;term\\&gt; &#45;&gt;\\&lt;factor\\&gt;  -->\n",
       "<g id=\"edge6\" class=\"edge\">\n",
       "<title>\\&lt;term\\&gt; &#45;&gt;\\&lt;factor\\&gt; </title>\n",
       "<path fill=\"none\" stroke=\"#000000\" d=\"M29.0801,-199.6223C29.0801,-192.9738 29.0801,-182.942 29.0801,-174.2807\"/>\n",
       "<polygon fill=\"#000000\" stroke=\"#000000\" points=\"32.5802,-174.0842 29.0801,-164.0842 25.5802,-174.0842 32.5802,-174.0842\"/>\n",
       "</g>\n",
       "<!-- \\&lt;integer\\&gt;  -->\n",
       "<g id=\"node8\" class=\"node\">\n",
       "<title>\\&lt;integer\\&gt; </title>\n",
       "<text text-anchor=\"middle\" x=\"29.0801\" y=\"-102.8\" font-family=\"Times,serif\" font-size=\"14.00\" fill=\"#000000\">&lt;integer&gt; </text>\n",
       "</g>\n",
       "<!-- \\&lt;factor\\&gt; &#45;&gt;\\&lt;integer\\&gt;  -->\n",
       "<g id=\"edge7\" class=\"edge\">\n",
       "<title>\\&lt;factor\\&gt; &#45;&gt;\\&lt;integer\\&gt; </title>\n",
       "<path fill=\"none\" stroke=\"#000000\" d=\"M29.0801,-149.6223C29.0801,-142.9738 29.0801,-132.942 29.0801,-124.2807\"/>\n",
       "<polygon fill=\"#000000\" stroke=\"#000000\" points=\"32.5802,-124.0842 29.0801,-114.0842 25.5802,-124.0842 32.5802,-124.0842\"/>\n",
       "</g>\n",
       "<!-- \\&lt;digit\\&gt;  -->\n",
       "<g id=\"node9\" class=\"node\">\n",
       "<title>\\&lt;digit\\&gt; </title>\n",
       "<text text-anchor=\"middle\" x=\"29.0801\" y=\"-52.8\" font-family=\"Times,serif\" font-size=\"14.00\" fill=\"#000000\">&lt;digit&gt; </text>\n",
       "</g>\n",
       "<!-- \\&lt;integer\\&gt; &#45;&gt;\\&lt;digit\\&gt;  -->\n",
       "<g id=\"edge8\" class=\"edge\">\n",
       "<title>\\&lt;integer\\&gt; &#45;&gt;\\&lt;digit\\&gt; </title>\n",
       "<path fill=\"none\" stroke=\"#000000\" d=\"M29.0801,-99.6223C29.0801,-92.9738 29.0801,-82.942 29.0801,-74.2807\"/>\n",
       "<polygon fill=\"#000000\" stroke=\"#000000\" points=\"32.5802,-74.0842 29.0801,-64.0842 25.5802,-74.0842 32.5802,-74.0842\"/>\n",
       "</g>\n",
       "<!-- 2  -->\n",
       "<g id=\"node10\" class=\"node\">\n",
       "<title>2 </title>\n",
       "<text text-anchor=\"middle\" x=\"29.0801\" y=\"-2.8\" font-family=\"Times,serif\" font-size=\"14.00\" fill=\"#000000\">2 </text>\n",
       "</g>\n",
       "<!-- \\&lt;digit\\&gt; &#45;&gt;2  -->\n",
       "<g id=\"edge9\" class=\"edge\">\n",
       "<title>\\&lt;digit\\&gt; &#45;&gt;2 </title>\n",
       "<path fill=\"none\" stroke=\"#000000\" d=\"M29.0801,-49.6223C29.0801,-42.9738 29.0801,-32.942 29.0801,-24.2807\"/>\n",
       "<polygon fill=\"#000000\" stroke=\"#000000\" points=\"32.5802,-24.0842 29.0801,-14.0842 25.5802,-24.0842 32.5802,-24.0842\"/>\n",
       "</g>\n",
       "<!-- \\&lt;integer\\&gt; -->\n",
       "<g id=\"node12\" class=\"node\">\n",
       "<title>\\&lt;integer\\&gt;</title>\n",
       "<text text-anchor=\"middle\" x=\"116.0801\" y=\"-152.8\" font-family=\"Times,serif\" font-size=\"14.00\" fill=\"#000000\">&lt;integer&gt;</text>\n",
       "</g>\n",
       "<!-- \\&lt;factor\\&gt;&#45;&gt;\\&lt;integer\\&gt; -->\n",
       "<g id=\"edge11\" class=\"edge\">\n",
       "<title>\\&lt;factor\\&gt;&#45;&gt;\\&lt;integer\\&gt;</title>\n",
       "<path fill=\"none\" stroke=\"#000000\" d=\"M116.0801,-199.6223C116.0801,-192.9738 116.0801,-182.942 116.0801,-174.2807\"/>\n",
       "<polygon fill=\"#000000\" stroke=\"#000000\" points=\"119.5802,-174.0842 116.0801,-164.0842 112.5802,-174.0842 119.5802,-174.0842\"/>\n",
       "</g>\n",
       "<!-- \\&lt;digit\\&gt; -->\n",
       "<g id=\"node13\" class=\"node\">\n",
       "<title>\\&lt;digit\\&gt;</title>\n",
       "<text text-anchor=\"middle\" x=\"116.0801\" y=\"-102.8\" font-family=\"Times,serif\" font-size=\"14.00\" fill=\"#000000\">&lt;digit&gt;</text>\n",
       "</g>\n",
       "<!-- \\&lt;integer\\&gt;&#45;&gt;\\&lt;digit\\&gt; -->\n",
       "<g id=\"edge12\" class=\"edge\">\n",
       "<title>\\&lt;integer\\&gt;&#45;&gt;\\&lt;digit\\&gt;</title>\n",
       "<path fill=\"none\" stroke=\"#000000\" d=\"M116.0801,-149.6223C116.0801,-142.9738 116.0801,-132.942 116.0801,-124.2807\"/>\n",
       "<polygon fill=\"#000000\" stroke=\"#000000\" points=\"119.5802,-124.0842 116.0801,-114.0842 112.5802,-124.0842 119.5802,-124.0842\"/>\n",
       "</g>\n",
       "<!-- 2 -->\n",
       "<g id=\"node14\" class=\"node\">\n",
       "<title>2</title>\n",
       "<text text-anchor=\"middle\" x=\"116.0801\" y=\"-52.8\" font-family=\"Times,serif\" font-size=\"14.00\" fill=\"#000000\">2</text>\n",
       "</g>\n",
       "<!-- \\&lt;digit\\&gt;&#45;&gt;2 -->\n",
       "<g id=\"edge13\" class=\"edge\">\n",
       "<title>\\&lt;digit\\&gt;&#45;&gt;2</title>\n",
       "<path fill=\"none\" stroke=\"#000000\" d=\"M116.0801,-99.6223C116.0801,-92.9738 116.0801,-82.942 116.0801,-74.2807\"/>\n",
       "<polygon fill=\"#000000\" stroke=\"#000000\" points=\"119.5802,-74.0842 116.0801,-64.0842 112.5802,-74.0842 119.5802,-74.0842\"/>\n",
       "</g>\n",
       "</g>\n",
       "</svg>\n"
      ],
      "text/plain": [
       "<graphviz.dot.Digraph at 0x11e328ac8>"
      ]
     },
     "execution_count": 22,
     "metadata": {},
     "output_type": "execute_result"
    }
   ],
   "source": [
    "tree"
   ]
  },
  {
   "cell_type": "markdown",
   "metadata": {
    "button": false,
    "new_sheet": false,
    "run_control": {
     "read_only": false
    },
    "slideshow": {
     "slide_type": "subslide"
    }
   },
   "source": [
    "We now have a representation for the string `2 + 2`.  In contrast to the string alone, though, the derivation tree records _the entire structure_ (and production history, or _derivation_ history) of the produced string.  It also allows for simple comparison and manipulation – say, replacing one subtree (substructure) against another."
   ]
  },
  {
   "cell_type": "markdown",
   "metadata": {
    "button": false,
    "new_sheet": false,
    "run_control": {
     "read_only": false
    },
    "slideshow": {
     "slide_type": "slide"
    }
   },
   "source": [
    "## Representing Derivation Trees\n",
    "\n",
    "To represent a derivation tree in Python, we use the following format.  A node is a pair\n",
    "\n",
    "```python\n",
    "(SYMBOL_NAME, CHILDREN)\n",
    "```\n",
    "\n",
    "where `SYMBOL_NAME` is a string representing the node (i.e. `\"<start>\"` or `\"+\"`) and `CHILDREN` is a list of children nodes.\n",
    "\n",
    "`CHILDREN` can take some special values:\n",
    "\n",
    "1. `None` as a placeholder for future expansion.  This means that the node is a _nonterminal symbol_ that should be expanded further.\n",
    "2. `[]` (i.e., the empty list) to indicate _no_ children.  This means that the node is a _terminal symbol_ that can no longer be expanded.\n",
    "\n",
    "Let us take a very simple derivation tree, representing the intermediate step `<expr> + <term>`, above."
   ]
  },
  {
   "cell_type": "code",
   "execution_count": 23,
   "metadata": {
    "button": false,
    "new_sheet": false,
    "run_control": {
     "read_only": false
    },
    "slideshow": {
     "slide_type": "subslide"
    }
   },
   "outputs": [],
   "source": [
    "derivation_tree = (\"<start>\",\n",
    "                   [(\"<expr>\",\n",
    "                     [(\"<expr>\", None),\n",
    "                      (\" + \", []),\n",
    "                         (\"<term>\", None)]\n",
    "                     )])\n"
   ]
  },
  {
   "cell_type": "markdown",
   "metadata": {
    "button": false,
    "new_sheet": false,
    "run_control": {
     "read_only": false
    },
    "slideshow": {
     "slide_type": "fragment"
    }
   },
   "source": [
    "To better understand the structure of this tree, let us introduce a function that visualizes this tree.  We use the `dot` drawing program from the `graphviz` package algorithmically, traversing the above structure.  (Unless you're deeply interested in tree visualization, you can directly skip to the example below.)"
   ]
  },
  {
   "cell_type": "code",
   "execution_count": 24,
   "metadata": {
    "button": false,
    "ipub": {
     "ignore": true
    },
    "new_sheet": false,
    "run_control": {
     "read_only": false
    },
    "slideshow": {
     "slide_type": "skip"
    }
   },
   "outputs": [],
   "source": [
    "from graphviz import Digraph"
   ]
  },
  {
   "cell_type": "code",
   "execution_count": 25,
   "metadata": {
    "button": false,
    "new_sheet": false,
    "run_control": {
     "read_only": false
    },
    "slideshow": {
     "slide_type": "skip"
    }
   },
   "outputs": [],
   "source": [
    "from IPython.display import display"
   ]
  },
  {
   "cell_type": "code",
   "execution_count": 26,
   "metadata": {
    "button": false,
    "new_sheet": false,
    "run_control": {
     "read_only": false
    },
    "slideshow": {
     "slide_type": "skip"
    }
   },
   "outputs": [],
   "source": [
    "import re"
   ]
  },
  {
   "cell_type": "code",
   "execution_count": 27,
   "metadata": {
    "button": false,
    "new_sheet": false,
    "run_control": {
     "read_only": false
    },
    "slideshow": {
     "slide_type": "subslide"
    }
   },
   "outputs": [],
   "source": [
    "def dot_escape(s):\n",
    "    \"\"\"Return s in a form suitable for dot\"\"\"\n",
    "    # s = s.replace(\"\\\\\", \"\\\\\\\\\")\n",
    "    s = re.sub(r\"([^a-zA-Z0-9 ])\", r\"\\\\\\1\", s)\n",
    "    return s"
   ]
  },
  {
   "cell_type": "code",
   "execution_count": 28,
   "metadata": {
    "button": false,
    "new_sheet": false,
    "run_control": {
     "read_only": false
    },
    "slideshow": {
     "slide_type": "fragment"
    }
   },
   "outputs": [],
   "source": [
    "assert dot_escape(\"hello\") == \"hello\"\n",
    "assert dot_escape(\"<hello>, world\") == \"\\\\<hello\\\\>\\\\, world\"\n",
    "assert dot_escape(\"\\\\n\") == \"\\\\\\\\n\""
   ]
  },
  {
   "cell_type": "code",
   "execution_count": 29,
   "metadata": {
    "button": false,
    "new_sheet": false,
    "run_control": {
     "read_only": false
    },
    "slideshow": {
     "slide_type": "subslide"
    }
   },
   "outputs": [],
   "source": [
    "def display_tree(derivation_tree):\n",
    "    \"\"\"Visualize a derivation tree as SVG using the graphviz/dot package.\"\"\"\n",
    "\n",
    "    counter = 0\n",
    "\n",
    "    def traverse_tree(dot, tree, id=0):\n",
    "        (symbol, children) = tree\n",
    "        dot.node(repr(id), dot_escape(symbol))\n",
    "\n",
    "        if children is not None:\n",
    "            for child in children:\n",
    "                nonlocal counter  # Assign each node a unique identifier\n",
    "                counter += 1\n",
    "                child_id = counter\n",
    "                dot.edge(repr(id), repr(child_id))\n",
    "                traverse_tree(dot, child, child_id)\n",
    "\n",
    "    dot = Digraph(comment=\"Derivation Tree\")\n",
    "    dot.attr('node', shape='plain')\n",
    "    traverse_tree(dot, derivation_tree)\n",
    "    display(dot)\n"
   ]
  },
  {
   "cell_type": "markdown",
   "metadata": {
    "button": false,
    "new_sheet": false,
    "run_control": {
     "read_only": false
    },
    "slideshow": {
     "slide_type": "subslide"
    }
   },
   "source": [
    "This is what our tree visualizes into:"
   ]
  },
  {
   "cell_type": "code",
   "execution_count": 30,
   "metadata": {
    "button": false,
    "new_sheet": false,
    "run_control": {
     "read_only": false
    },
    "slideshow": {
     "slide_type": "fragment"
    }
   },
   "outputs": [
    {
     "data": {
      "image/svg+xml": [
       "<?xml version=\"1.0\" encoding=\"UTF-8\" standalone=\"no\"?>\n",
       "<!DOCTYPE svg PUBLIC \"-//W3C//DTD SVG 1.1//EN\"\n",
       " \"http://www.w3.org/Graphics/SVG/1.1/DTD/svg11.dtd\">\n",
       "<!-- Generated by graphviz version 2.40.1 (20161225.0304)\n",
       " -->\n",
       "<!-- Title: %3 Pages: 1 -->\n",
       "<svg width=\"141pt\" height=\"122pt\"\n",
       " viewBox=\"0.00 0.00 141.06 122.00\" xmlns=\"http://www.w3.org/2000/svg\" xmlns:xlink=\"http://www.w3.org/1999/xlink\">\n",
       "<g id=\"graph0\" class=\"graph\" transform=\"scale(1 1) rotate(0) translate(4 118)\">\n",
       "<title>%3</title>\n",
       "<polygon fill=\"#ffffff\" stroke=\"transparent\" points=\"-4,4 -4,-118 137.0566,-118 137.0566,4 -4,4\"/>\n",
       "<!-- 0 -->\n",
       "<g id=\"node1\" class=\"node\">\n",
       "<title>0</title>\n",
       "<text text-anchor=\"middle\" x=\"66.3335\" y=\"-102.8\" font-family=\"Times,serif\" font-size=\"14.00\" fill=\"#000000\">&lt;start&gt;</text>\n",
       "</g>\n",
       "<!-- 1 -->\n",
       "<g id=\"node2\" class=\"node\">\n",
       "<title>1</title>\n",
       "<text text-anchor=\"middle\" x=\"66.3335\" y=\"-52.8\" font-family=\"Times,serif\" font-size=\"14.00\" fill=\"#000000\">&lt;expr&gt;</text>\n",
       "</g>\n",
       "<!-- 0&#45;&gt;1 -->\n",
       "<g id=\"edge1\" class=\"edge\">\n",
       "<title>0&#45;&gt;1</title>\n",
       "<path fill=\"none\" stroke=\"#000000\" d=\"M66.3335,-99.6223C66.3335,-92.9738 66.3335,-82.942 66.3335,-74.2807\"/>\n",
       "<polygon fill=\"#000000\" stroke=\"#000000\" points=\"69.8336,-74.0842 66.3335,-64.0842 62.8336,-74.0842 69.8336,-74.0842\"/>\n",
       "</g>\n",
       "<!-- 2 -->\n",
       "<g id=\"node3\" class=\"node\">\n",
       "<title>2</title>\n",
       "<text text-anchor=\"middle\" x=\"20.3335\" y=\"-2.8\" font-family=\"Times,serif\" font-size=\"14.00\" fill=\"#000000\">&lt;expr&gt;</text>\n",
       "</g>\n",
       "<!-- 1&#45;&gt;2 -->\n",
       "<g id=\"edge2\" class=\"edge\">\n",
       "<title>1&#45;&gt;2</title>\n",
       "<path fill=\"none\" stroke=\"#000000\" d=\"M59.546,-49.6223C52.8108,-42.3014 42.3017,-30.8785 33.8576,-21.7001\"/>\n",
       "<polygon fill=\"#000000\" stroke=\"#000000\" points=\"36.1973,-19.0738 26.8509,-14.0842 31.0458,-23.8132 36.1973,-19.0738\"/>\n",
       "</g>\n",
       "<!-- 3 -->\n",
       "<g id=\"node4\" class=\"node\">\n",
       "<title>3</title>\n",
       "<text text-anchor=\"middle\" x=\"66.3335\" y=\"-2.8\" font-family=\"Times,serif\" font-size=\"14.00\" fill=\"#000000\"> + </text>\n",
       "</g>\n",
       "<!-- 1&#45;&gt;3 -->\n",
       "<g id=\"edge3\" class=\"edge\">\n",
       "<title>1&#45;&gt;3</title>\n",
       "<path fill=\"none\" stroke=\"#000000\" d=\"M66.3335,-49.6223C66.3335,-42.9738 66.3335,-32.942 66.3335,-24.2807\"/>\n",
       "<polygon fill=\"#000000\" stroke=\"#000000\" points=\"69.8336,-24.0842 66.3335,-14.0842 62.8336,-24.0842 69.8336,-24.0842\"/>\n",
       "</g>\n",
       "<!-- 4 -->\n",
       "<g id=\"node5\" class=\"node\">\n",
       "<title>4</title>\n",
       "<text text-anchor=\"middle\" x=\"112.3335\" y=\"-2.8\" font-family=\"Times,serif\" font-size=\"14.00\" fill=\"#000000\">&lt;term&gt;</text>\n",
       "</g>\n",
       "<!-- 1&#45;&gt;4 -->\n",
       "<g id=\"edge4\" class=\"edge\">\n",
       "<title>1&#45;&gt;4</title>\n",
       "<path fill=\"none\" stroke=\"#000000\" d=\"M73.121,-49.6223C79.8562,-42.3014 90.3653,-30.8785 98.8094,-21.7001\"/>\n",
       "<polygon fill=\"#000000\" stroke=\"#000000\" points=\"101.6212,-23.8132 105.816,-14.0842 96.4697,-19.0738 101.6212,-23.8132\"/>\n",
       "</g>\n",
       "</g>\n",
       "</svg>\n"
      ],
      "text/plain": [
       "<graphviz.dot.Digraph at 0x11e3315f8>"
      ]
     },
     "metadata": {},
     "output_type": "display_data"
    }
   ],
   "source": [
    "display_tree(derivation_tree)"
   ]
  },
  {
   "cell_type": "markdown",
   "metadata": {
    "button": false,
    "new_sheet": false,
    "run_control": {
     "read_only": false
    },
    "slideshow": {
     "slide_type": "fragment"
    }
   },
   "source": [
    "To turn the tree into a string, the following `all_terminals()` function comes in handy:"
   ]
  },
  {
   "cell_type": "code",
   "execution_count": 31,
   "metadata": {
    "button": false,
    "new_sheet": false,
    "run_control": {
     "read_only": false
    },
    "slideshow": {
     "slide_type": "subslide"
    }
   },
   "outputs": [],
   "source": [
    "def all_terminals(tree):\n",
    "    (symbol, children) = tree\n",
    "    if children is None:\n",
    "        # This is a nonterminal symbol not expanded yet\n",
    "        return symbol\n",
    "\n",
    "    if len(children) == 0:\n",
    "        # This is a terminal symbol\n",
    "        return symbol\n",
    "\n",
    "    # This is an expanded symbol:\n",
    "    # Concatenate all terminal symbols from all children\n",
    "    return ''.join([all_terminals(c) for c in children])"
   ]
  },
  {
   "cell_type": "code",
   "execution_count": 32,
   "metadata": {
    "button": false,
    "new_sheet": false,
    "run_control": {
     "read_only": false
    },
    "slideshow": {
     "slide_type": "fragment"
    }
   },
   "outputs": [
    {
     "data": {
      "text/plain": [
       "'<expr> + <term>'"
      ]
     },
     "execution_count": 32,
     "metadata": {},
     "output_type": "execute_result"
    }
   ],
   "source": [
    "all_terminals(derivation_tree)"
   ]
  },
  {
   "cell_type": "markdown",
   "metadata": {
    "button": false,
    "new_sheet": false,
    "run_control": {
     "read_only": false
    },
    "slideshow": {
     "slide_type": "slide"
    }
   },
   "source": [
    "## Expanding a Node"
   ]
  },
  {
   "cell_type": "markdown",
   "metadata": {
    "button": false,
    "new_sheet": false,
    "run_control": {
     "read_only": false
    },
    "slideshow": {
     "slide_type": "fragment"
    }
   },
   "source": [
    "Let us now develop an algorithm that takes a tree with unexpanded symbols (say, `derivation_tree`, above), and expands all these symbols one after the other.  As with earlier fuzzers, we create a special subclass of `Fuzzer` – in this case, `GrammarFuzzer`.  A `GrammarFuzzer` gets a grammar and a start symbol; the other parameters will be used later to further control creation and to support debugging."
   ]
  },
  {
   "cell_type": "code",
   "execution_count": 33,
   "metadata": {
    "slideshow": {
     "slide_type": "skip"
    }
   },
   "outputs": [],
   "source": [
    "from Fuzzer import Fuzzer"
   ]
  },
  {
   "cell_type": "code",
   "execution_count": 34,
   "metadata": {
    "button": false,
    "new_sheet": false,
    "run_control": {
     "read_only": false
    },
    "slideshow": {
     "slide_type": "subslide"
    }
   },
   "outputs": [],
   "source": [
    "class GrammarFuzzer(Fuzzer):\n",
    "    def __init__(self, grammar, start_symbol=START_SYMBOL,\n",
    "                 min_nonterminals=0, max_nonterminals=10, disp=False, log=False):\n",
    "        self.grammar = grammar\n",
    "        self.start_symbol = start_symbol\n",
    "        self.min_nonterminals = min_nonterminals\n",
    "        self.max_nonterminals = max_nonterminals\n",
    "        self.disp = disp\n",
    "        self.log = log\n"
   ]
  },
  {
   "cell_type": "markdown",
   "metadata": {
    "slideshow": {
     "slide_type": "subslide"
    }
   },
   "source": [
    "In the following, we will add further methods to `GrammarFuzzer`, using the hack already introduced for [the `MutationFuzzer` class](MutationFuzzer.ipynb).  The construct\n",
    "\n",
    "```python\n",
    "class GrammarFuzzer(GrammarFuzzer):\n",
    "    def new_method(self, args):\n",
    "        pass\n",
    "```\n",
    "\n",
    "allows us to add a new method `new_method()` to the `GrammarFuzzer` class. (Actually, we get a new `GrammarFuzzer` class that extends the old one, but for all our purposes, this does not matter.)"
   ]
  },
  {
   "cell_type": "markdown",
   "metadata": {
    "button": false,
    "new_sheet": false,
    "run_control": {
     "read_only": false
    },
    "slideshow": {
     "slide_type": "subslide"
    }
   },
   "source": [
    "Using this hack, let us define a helper method `init_tree()` that constructs a tree with just the start symbol:"
   ]
  },
  {
   "cell_type": "code",
   "execution_count": 35,
   "metadata": {
    "button": false,
    "new_sheet": false,
    "run_control": {
     "read_only": false
    },
    "slideshow": {
     "slide_type": "fragment"
    }
   },
   "outputs": [],
   "source": [
    "class GrammarFuzzer(GrammarFuzzer):\n",
    "    def init_tree(self):\n",
    "        return (self.start_symbol, None)"
   ]
  },
  {
   "cell_type": "code",
   "execution_count": 36,
   "metadata": {
    "button": false,
    "new_sheet": false,
    "run_control": {
     "read_only": false
    },
    "slideshow": {
     "slide_type": "fragment"
    }
   },
   "outputs": [
    {
     "data": {
      "image/svg+xml": [
       "<?xml version=\"1.0\" encoding=\"UTF-8\" standalone=\"no\"?>\n",
       "<!DOCTYPE svg PUBLIC \"-//W3C//DTD SVG 1.1//EN\"\n",
       " \"http://www.w3.org/Graphics/SVG/1.1/DTD/svg11.dtd\">\n",
       "<!-- Generated by graphviz version 2.40.1 (20161225.0304)\n",
       " -->\n",
       "<!-- Title: %3 Pages: 1 -->\n",
       "<svg width=\"48pt\" height=\"22pt\"\n",
       " viewBox=\"0.00 0.00 47.89 22.00\" xmlns=\"http://www.w3.org/2000/svg\" xmlns:xlink=\"http://www.w3.org/1999/xlink\">\n",
       "<g id=\"graph0\" class=\"graph\" transform=\"scale(1 1) rotate(0) translate(4 18)\">\n",
       "<title>%3</title>\n",
       "<polygon fill=\"#ffffff\" stroke=\"transparent\" points=\"-4,4 -4,-18 43.8945,-18 43.8945,4 -4,4\"/>\n",
       "<!-- 0 -->\n",
       "<g id=\"node1\" class=\"node\">\n",
       "<title>0</title>\n",
       "<text text-anchor=\"middle\" x=\"19.9473\" y=\"-2.8\" font-family=\"Times,serif\" font-size=\"14.00\" fill=\"#000000\">&lt;start&gt;</text>\n",
       "</g>\n",
       "</g>\n",
       "</svg>\n"
      ],
      "text/plain": [
       "<graphviz.dot.Digraph at 0x11e331828>"
      ]
     },
     "metadata": {},
     "output_type": "display_data"
    }
   ],
   "source": [
    "f = GrammarFuzzer(EXPR_GRAMMAR)\n",
    "display_tree(f.init_tree())"
   ]
  },
  {
   "cell_type": "markdown",
   "metadata": {
    "button": false,
    "new_sheet": false,
    "run_control": {
     "read_only": false
    },
    "slideshow": {
     "slide_type": "fragment"
    }
   },
   "source": [
    "Next, we will need a helper method `expansion_to_children()` that takes an expansion string and converts it into a list of derivation trees.  It uses the `re.split()` method to split an expansion string into a list of children nodes:"
   ]
  },
  {
   "cell_type": "code",
   "execution_count": 37,
   "metadata": {
    "button": false,
    "new_sheet": false,
    "run_control": {
     "read_only": false
    },
    "slideshow": {
     "slide_type": "subslide"
    }
   },
   "outputs": [],
   "source": [
    "class GrammarFuzzer(GrammarFuzzer):\n",
    "    def expansion_to_children(self, expansion):\n",
    "        # print(\"Converting \" + repr(expansion))\n",
    "        # strings contains all substrings -- both terminals and non-terminals such\n",
    "        # that ''.join(strings) == expansion\n",
    "\n",
    "        # See nonterminals() in Grammars.py\n",
    "        if isinstance(expansion, tuple):\n",
    "            expansion = expansion[0]\n",
    "\n",
    "        if expansion == \"\":  # Special case: empty expansion\n",
    "            return [(\"\", [])]\n",
    "\n",
    "        strings = re.split(RE_NONTERMINAL, expansion)\n",
    "        return [(s, None) if is_nonterminal(s) else (s, [])\n",
    "                for s in strings if len(s) > 0]\n"
   ]
  },
  {
   "cell_type": "code",
   "execution_count": 38,
   "metadata": {
    "button": false,
    "new_sheet": false,
    "run_control": {
     "read_only": false
    },
    "slideshow": {
     "slide_type": "subslide"
    }
   },
   "outputs": [
    {
     "data": {
      "text/plain": [
       "[('<term>', None), (' + ', []), ('<expr>', None)]"
      ]
     },
     "execution_count": 38,
     "metadata": {},
     "output_type": "execute_result"
    }
   ],
   "source": [
    "f = GrammarFuzzer(EXPR_GRAMMAR)\n",
    "f.expansion_to_children(\"<term> + <expr>\")"
   ]
  },
  {
   "cell_type": "markdown",
   "metadata": {
    "button": false,
    "new_sheet": false,
    "run_control": {
     "read_only": false
    },
    "slideshow": {
     "slide_type": "fragment"
    }
   },
   "source": [
    "The case of an empty expansion needs special treatment:"
   ]
  },
  {
   "cell_type": "code",
   "execution_count": 39,
   "metadata": {
    "button": false,
    "new_sheet": false,
    "run_control": {
     "read_only": false
    },
    "slideshow": {
     "slide_type": "fragment"
    }
   },
   "outputs": [
    {
     "data": {
      "text/plain": [
       "[('', [])]"
      ]
     },
     "execution_count": 39,
     "metadata": {},
     "output_type": "execute_result"
    }
   ],
   "source": [
    "f.expansion_to_children(\"\")"
   ]
  },
  {
   "cell_type": "markdown",
   "metadata": {
    "slideshow": {
     "slide_type": "fragment"
    }
   },
   "source": [
    "Just like `nonterminals()` in the [chapter on Grammars](Grammars.ipynb), we provide for future extensions, allowing the expansion to be a tuple with extra data (which will be ignored)."
   ]
  },
  {
   "cell_type": "code",
   "execution_count": 40,
   "metadata": {
    "button": false,
    "new_sheet": false,
    "run_control": {
     "read_only": false
    },
    "slideshow": {
     "slide_type": "fragment"
    }
   },
   "outputs": [
    {
     "data": {
      "text/plain": [
       "[('+', []), ('<term>', None)]"
      ]
     },
     "execution_count": 40,
     "metadata": {},
     "output_type": "execute_result"
    }
   ],
   "source": [
    "f.expansion_to_children((\"+<term>\", [\"extra_data\"]))"
   ]
  },
  {
   "cell_type": "markdown",
   "metadata": {
    "button": false,
    "new_sheet": false,
    "run_control": {
     "read_only": false
    },
    "slideshow": {
     "slide_type": "subslide"
    }
   },
   "source": [
    "With this, we can now take some unexpanded node in the tree, choose a random expansion, and return the new tree.  This is what the method `expand_node_randomly()` does, using a helper function `choose_node_expansion()` to randomly pick an index from an array of possible children.  (`choose_node_expansion()` can be overloaded in subclasses.)"
   ]
  },
  {
   "cell_type": "code",
   "execution_count": 41,
   "metadata": {
    "slideshow": {
     "slide_type": "skip"
    }
   },
   "outputs": [],
   "source": [
    "import random"
   ]
  },
  {
   "cell_type": "code",
   "execution_count": 42,
   "metadata": {
    "button": false,
    "new_sheet": false,
    "run_control": {
     "read_only": false
    },
    "slideshow": {
     "slide_type": "subslide"
    }
   },
   "outputs": [],
   "source": [
    "class GrammarFuzzer(GrammarFuzzer):\n",
    "    def choose_node_expansion(self, node, possible_children):\n",
    "        \"\"\"Return index of expansion in `possible_children` to be selected.  Defaults to random.\"\"\"\n",
    "        return random.randrange(0, len(possible_children))\n",
    "\n",
    "    def expand_node_randomly(self, node):\n",
    "        (symbol, children) = node\n",
    "        assert children is None\n",
    "\n",
    "        if self.log:\n",
    "            print(\"Expanding\", all_terminals(node), \"randomly\")\n",
    "\n",
    "        # Fetch the possible expansions from grammar...\n",
    "        expansions = self.grammar[symbol]\n",
    "        possible_children = [self.expansion_to_children(\n",
    "            expansion) for expansion in expansions]\n",
    "\n",
    "        # ... and select a random expansion\n",
    "        index = self.choose_node_expansion(node, possible_children)\n",
    "        children = possible_children[index]\n",
    "\n",
    "        # Return with new children\n",
    "        return (symbol, children)\n"
   ]
  },
  {
   "cell_type": "markdown",
   "metadata": {
    "slideshow": {
     "slide_type": "subslide"
    }
   },
   "source": [
    "The generic `expand_node()` method can later be used to select different expansion strategies; as of now, it only uses `expand_node_randomly()`."
   ]
  },
  {
   "cell_type": "code",
   "execution_count": 43,
   "metadata": {
    "slideshow": {
     "slide_type": "fragment"
    }
   },
   "outputs": [],
   "source": [
    "class GrammarFuzzer(GrammarFuzzer):\n",
    "    def expand_node(self, node):\n",
    "        return self.expand_node_randomly(node)"
   ]
  },
  {
   "cell_type": "markdown",
   "metadata": {
    "slideshow": {
     "slide_type": "fragment"
    }
   },
   "source": [
    "This is how `expand_node_randomly()` works:"
   ]
  },
  {
   "cell_type": "code",
   "execution_count": 44,
   "metadata": {
    "button": false,
    "new_sheet": false,
    "run_control": {
     "read_only": false
    },
    "slideshow": {
     "slide_type": "subslide"
    }
   },
   "outputs": [
    {
     "name": "stdout",
     "output_type": "stream",
     "text": [
      "Before:\n"
     ]
    },
    {
     "data": {
      "image/svg+xml": [
       "<?xml version=\"1.0\" encoding=\"UTF-8\" standalone=\"no\"?>\n",
       "<!DOCTYPE svg PUBLIC \"-//W3C//DTD SVG 1.1//EN\"\n",
       " \"http://www.w3.org/Graphics/SVG/1.1/DTD/svg11.dtd\">\n",
       "<!-- Generated by graphviz version 2.40.1 (20161225.0304)\n",
       " -->\n",
       "<!-- Title: %3 Pages: 1 -->\n",
       "<svg width=\"49pt\" height=\"22pt\"\n",
       " viewBox=\"0.00 0.00 49.45 22.00\" xmlns=\"http://www.w3.org/2000/svg\" xmlns:xlink=\"http://www.w3.org/1999/xlink\">\n",
       "<g id=\"graph0\" class=\"graph\" transform=\"scale(1 1) rotate(0) translate(4 18)\">\n",
       "<title>%3</title>\n",
       "<polygon fill=\"#ffffff\" stroke=\"transparent\" points=\"-4,4 -4,-18 45.4463,-18 45.4463,4 -4,4\"/>\n",
       "<!-- 0 -->\n",
       "<g id=\"node1\" class=\"node\">\n",
       "<title>0</title>\n",
       "<text text-anchor=\"middle\" x=\"20.7231\" y=\"-2.8\" font-family=\"Times,serif\" font-size=\"14.00\" fill=\"#000000\">&lt;term&gt;</text>\n",
       "</g>\n",
       "</g>\n",
       "</svg>\n"
      ],
      "text/plain": [
       "<graphviz.dot.Digraph at 0x11e3362b0>"
      ]
     },
     "metadata": {},
     "output_type": "display_data"
    },
    {
     "name": "stdout",
     "output_type": "stream",
     "text": [
      "After:\n",
      "Expanding <term> randomly\n"
     ]
    },
    {
     "data": {
      "image/svg+xml": [
       "<?xml version=\"1.0\" encoding=\"UTF-8\" standalone=\"no\"?>\n",
       "<!DOCTYPE svg PUBLIC \"-//W3C//DTD SVG 1.1//EN\"\n",
       " \"http://www.w3.org/Graphics/SVG/1.1/DTD/svg11.dtd\">\n",
       "<!-- Generated by graphviz version 2.40.1 (20161225.0304)\n",
       " -->\n",
       "<!-- Title: %3 Pages: 1 -->\n",
       "<svg width=\"145pt\" height=\"72pt\"\n",
       " viewBox=\"0.00 0.00 144.94 72.00\" xmlns=\"http://www.w3.org/2000/svg\" xmlns:xlink=\"http://www.w3.org/1999/xlink\">\n",
       "<g id=\"graph0\" class=\"graph\" transform=\"scale(1 1) rotate(0) translate(4 68)\">\n",
       "<title>%3</title>\n",
       "<polygon fill=\"#ffffff\" stroke=\"transparent\" points=\"-4,4 -4,-68 140.9395,-68 140.9395,4 -4,4\"/>\n",
       "<!-- 0 -->\n",
       "<g id=\"node1\" class=\"node\">\n",
       "<title>0</title>\n",
       "<text text-anchor=\"middle\" x=\"72.2163\" y=\"-52.8\" font-family=\"Times,serif\" font-size=\"14.00\" fill=\"#000000\">&lt;term&gt;</text>\n",
       "</g>\n",
       "<!-- 1 -->\n",
       "<g id=\"node2\" class=\"node\">\n",
       "<title>1</title>\n",
       "<text text-anchor=\"middle\" x=\"24.2163\" y=\"-2.8\" font-family=\"Times,serif\" font-size=\"14.00\" fill=\"#000000\">&lt;factor&gt;</text>\n",
       "</g>\n",
       "<!-- 0&#45;&gt;1 -->\n",
       "<g id=\"edge1\" class=\"edge\">\n",
       "<title>0&#45;&gt;1</title>\n",
       "<path fill=\"none\" stroke=\"#000000\" d=\"M65.1337,-49.6223C58.034,-42.2267 46.9154,-30.6449 38.0594,-21.4199\"/>\n",
       "<polygon fill=\"#000000\" stroke=\"#000000\" points=\"40.4673,-18.8742 31.0171,-14.0842 35.4176,-23.722 40.4673,-18.8742\"/>\n",
       "</g>\n",
       "<!-- 2 -->\n",
       "<g id=\"node3\" class=\"node\">\n",
       "<title>2</title>\n",
       "<text text-anchor=\"middle\" x=\"72.2163\" y=\"-2.8\" font-family=\"Times,serif\" font-size=\"14.00\" fill=\"#000000\"> / </text>\n",
       "</g>\n",
       "<!-- 0&#45;&gt;2 -->\n",
       "<g id=\"edge2\" class=\"edge\">\n",
       "<title>0&#45;&gt;2</title>\n",
       "<path fill=\"none\" stroke=\"#000000\" d=\"M72.2163,-49.6223C72.2163,-42.9738 72.2163,-32.942 72.2163,-24.2807\"/>\n",
       "<polygon fill=\"#000000\" stroke=\"#000000\" points=\"75.7164,-24.0842 72.2163,-14.0842 68.7164,-24.0842 75.7164,-24.0842\"/>\n",
       "</g>\n",
       "<!-- 3 -->\n",
       "<g id=\"node4\" class=\"node\">\n",
       "<title>3</title>\n",
       "<text text-anchor=\"middle\" x=\"116.2163\" y=\"-2.8\" font-family=\"Times,serif\" font-size=\"14.00\" fill=\"#000000\">&lt;term&gt;</text>\n",
       "</g>\n",
       "<!-- 0&#45;&gt;3 -->\n",
       "<g id=\"edge3\" class=\"edge\">\n",
       "<title>0&#45;&gt;3</title>\n",
       "<path fill=\"none\" stroke=\"#000000\" d=\"M78.7087,-49.6223C85.151,-42.3014 95.2033,-30.8785 103.2802,-21.7001\"/>\n",
       "<polygon fill=\"#000000\" stroke=\"#000000\" points=\"106.0034,-23.9036 109.9822,-14.0842 100.7484,-19.2791 106.0034,-23.9036\"/>\n",
       "</g>\n",
       "</g>\n",
       "</svg>\n"
      ],
      "text/plain": [
       "<graphviz.dot.Digraph at 0x11e331da0>"
      ]
     },
     "metadata": {},
     "output_type": "display_data"
    }
   ],
   "source": [
    "f = GrammarFuzzer(EXPR_GRAMMAR, log=True)\n",
    "\n",
    "print(\"Before:\")\n",
    "tree = (\"<term>\", None)\n",
    "display_tree(tree)\n",
    "\n",
    "print(\"After:\")\n",
    "tree = f.expand_node_randomly(tree)\n",
    "display_tree(tree)"
   ]
  },
  {
   "cell_type": "markdown",
   "metadata": {
    "button": false,
    "new_sheet": false,
    "run_control": {
     "read_only": false
    },
    "slideshow": {
     "slide_type": "slide"
    }
   },
   "source": [
    "## Expanding a Tree\n",
    "\n",
    "Let us now apply the above node expansion to some node in the tree.  To this end, we first need to search the tree for unexpanded nodes.  `possible_expansions()` counts how many unexpanded symbols there are in a tree:"
   ]
  },
  {
   "cell_type": "code",
   "execution_count": 45,
   "metadata": {
    "button": false,
    "new_sheet": false,
    "run_control": {
     "read_only": false
    },
    "slideshow": {
     "slide_type": "fragment"
    }
   },
   "outputs": [],
   "source": [
    "class GrammarFuzzer(GrammarFuzzer):\n",
    "    def possible_expansions(self, node):\n",
    "        (symbol, children) = node\n",
    "        if children is None:\n",
    "            return 1\n",
    "\n",
    "        return sum(self.possible_expansions(c) for c in children)"
   ]
  },
  {
   "cell_type": "code",
   "execution_count": 46,
   "metadata": {
    "button": false,
    "new_sheet": false,
    "run_control": {
     "read_only": false
    },
    "slideshow": {
     "slide_type": "subslide"
    }
   },
   "outputs": [
    {
     "name": "stdout",
     "output_type": "stream",
     "text": [
      "2\n"
     ]
    }
   ],
   "source": [
    "f = GrammarFuzzer(EXPR_GRAMMAR)\n",
    "print(f.possible_expansions(derivation_tree))"
   ]
  },
  {
   "cell_type": "markdown",
   "metadata": {
    "button": false,
    "new_sheet": false,
    "run_control": {
     "read_only": false
    },
    "slideshow": {
     "slide_type": "fragment"
    }
   },
   "source": [
    "`any_possible_expansions()` returns True if the tree has any unexpanded nodes."
   ]
  },
  {
   "cell_type": "code",
   "execution_count": 47,
   "metadata": {
    "button": false,
    "new_sheet": false,
    "run_control": {
     "read_only": false
    },
    "slideshow": {
     "slide_type": "fragment"
    }
   },
   "outputs": [],
   "source": [
    "class GrammarFuzzer(GrammarFuzzer):\n",
    "    def any_possible_expansions(self, node):\n",
    "        (symbol, children) = node\n",
    "        if children is None:\n",
    "            return True\n",
    "\n",
    "        return any(self.any_possible_expansions(c) for c in children)"
   ]
  },
  {
   "cell_type": "code",
   "execution_count": 48,
   "metadata": {
    "button": false,
    "new_sheet": false,
    "run_control": {
     "read_only": false
    },
    "slideshow": {
     "slide_type": "subslide"
    }
   },
   "outputs": [
    {
     "data": {
      "text/plain": [
       "True"
      ]
     },
     "execution_count": 48,
     "metadata": {},
     "output_type": "execute_result"
    }
   ],
   "source": [
    "f = GrammarFuzzer(EXPR_GRAMMAR)\n",
    "f.any_possible_expansions(derivation_tree)"
   ]
  },
  {
   "cell_type": "markdown",
   "metadata": {
    "button": false,
    "new_sheet": false,
    "run_control": {
     "read_only": false
    },
    "slideshow": {
     "slide_type": "subslide"
    }
   },
   "source": [
    "Here comes `expand_tree_once()`, the core method of our tree expansion algorithm.  It first checks whether it is currently being applied on a nonterminal symbol without expansion; if so, it invokes `expand_node()` on it as above.  \n",
    "\n",
    "If the node is already expanded (i.e. has children), it checks the subset of children which still have unexpanded symbols; randomly selects one of them, and applies itself recursively on that child.\n",
    "\n",
    "The `expand_tree_once()` method replaces the child _in place_, meaning that it actually mutates the tree being passed as an argument rather than returning a new tree.  This in-place mutation is what makes this function particularly efficient.  Again, we use a helper method (`choose_tree_expansion()`) to return the chosen index from a list of children that can be expanded."
   ]
  },
  {
   "cell_type": "code",
   "execution_count": 49,
   "metadata": {
    "button": false,
    "new_sheet": false,
    "run_control": {
     "read_only": false
    },
    "slideshow": {
     "slide_type": "subslide"
    }
   },
   "outputs": [],
   "source": [
    "class GrammarFuzzer(GrammarFuzzer):\n",
    "    def choose_tree_expansion(self, tree, children):\n",
    "        \"\"\"Return index of subtree in `children` to be selected for expansion.  Defaults to random.\"\"\"\n",
    "        return random.randrange(0, len(children))\n",
    "\n",
    "    def expand_tree_once(self, tree):\n",
    "        # print(\"Expanding \" + repr(tree))\n",
    "\n",
    "        (symbol, children) = tree\n",
    "        if children is None:\n",
    "            # Expand this node\n",
    "            return self.expand_node(tree)\n",
    "\n",
    "        # Find all children with possible expansions\n",
    "        expandable_children = [\n",
    "            c for c in children if self.any_possible_expansions(c)]\n",
    "\n",
    "        # `index_map` translates an index in `expandable_children` back into the original index in `children`\n",
    "        index_map = [i for (i, c) in enumerate(children)\n",
    "                     if self.any_possible_expansions(c)]\n",
    "\n",
    "        # print(\"expandable_children =\", expandable_children)\n",
    "        # print(\"index_map =\", index_map)\n",
    "\n",
    "        # Select a random child\n",
    "        child_to_be_expanded = self.choose_tree_expansion(\n",
    "            tree, expandable_children)\n",
    "\n",
    "        # Expand in place\n",
    "        children[index_map[child_to_be_expanded]] = \\\n",
    "            self.expand_tree_once(expandable_children[child_to_be_expanded])\n",
    "\n",
    "        return tree\n"
   ]
  },
  {
   "cell_type": "markdown",
   "metadata": {
    "button": false,
    "new_sheet": false,
    "run_control": {
     "read_only": false
    },
    "slideshow": {
     "slide_type": "subslide"
    }
   },
   "source": [
    "Let's put it to use, expanding our derivation tree from above twice."
   ]
  },
  {
   "cell_type": "code",
   "execution_count": 50,
   "metadata": {
    "button": false,
    "new_sheet": false,
    "run_control": {
     "read_only": false
    },
    "slideshow": {
     "slide_type": "fragment"
    }
   },
   "outputs": [
    {
     "data": {
      "image/svg+xml": [
       "<?xml version=\"1.0\" encoding=\"UTF-8\" standalone=\"no\"?>\n",
       "<!DOCTYPE svg PUBLIC \"-//W3C//DTD SVG 1.1//EN\"\n",
       " \"http://www.w3.org/Graphics/SVG/1.1/DTD/svg11.dtd\">\n",
       "<!-- Generated by graphviz version 2.40.1 (20161225.0304)\n",
       " -->\n",
       "<!-- Title: %3 Pages: 1 -->\n",
       "<svg width=\"141pt\" height=\"122pt\"\n",
       " viewBox=\"0.00 0.00 141.06 122.00\" xmlns=\"http://www.w3.org/2000/svg\" xmlns:xlink=\"http://www.w3.org/1999/xlink\">\n",
       "<g id=\"graph0\" class=\"graph\" transform=\"scale(1 1) rotate(0) translate(4 118)\">\n",
       "<title>%3</title>\n",
       "<polygon fill=\"#ffffff\" stroke=\"transparent\" points=\"-4,4 -4,-118 137.0566,-118 137.0566,4 -4,4\"/>\n",
       "<!-- 0 -->\n",
       "<g id=\"node1\" class=\"node\">\n",
       "<title>0</title>\n",
       "<text text-anchor=\"middle\" x=\"66.3335\" y=\"-102.8\" font-family=\"Times,serif\" font-size=\"14.00\" fill=\"#000000\">&lt;start&gt;</text>\n",
       "</g>\n",
       "<!-- 1 -->\n",
       "<g id=\"node2\" class=\"node\">\n",
       "<title>1</title>\n",
       "<text text-anchor=\"middle\" x=\"66.3335\" y=\"-52.8\" font-family=\"Times,serif\" font-size=\"14.00\" fill=\"#000000\">&lt;expr&gt;</text>\n",
       "</g>\n",
       "<!-- 0&#45;&gt;1 -->\n",
       "<g id=\"edge1\" class=\"edge\">\n",
       "<title>0&#45;&gt;1</title>\n",
       "<path fill=\"none\" stroke=\"#000000\" d=\"M66.3335,-99.6223C66.3335,-92.9738 66.3335,-82.942 66.3335,-74.2807\"/>\n",
       "<polygon fill=\"#000000\" stroke=\"#000000\" points=\"69.8336,-74.0842 66.3335,-64.0842 62.8336,-74.0842 69.8336,-74.0842\"/>\n",
       "</g>\n",
       "<!-- 2 -->\n",
       "<g id=\"node3\" class=\"node\">\n",
       "<title>2</title>\n",
       "<text text-anchor=\"middle\" x=\"20.3335\" y=\"-2.8\" font-family=\"Times,serif\" font-size=\"14.00\" fill=\"#000000\">&lt;expr&gt;</text>\n",
       "</g>\n",
       "<!-- 1&#45;&gt;2 -->\n",
       "<g id=\"edge2\" class=\"edge\">\n",
       "<title>1&#45;&gt;2</title>\n",
       "<path fill=\"none\" stroke=\"#000000\" d=\"M59.546,-49.6223C52.8108,-42.3014 42.3017,-30.8785 33.8576,-21.7001\"/>\n",
       "<polygon fill=\"#000000\" stroke=\"#000000\" points=\"36.1973,-19.0738 26.8509,-14.0842 31.0458,-23.8132 36.1973,-19.0738\"/>\n",
       "</g>\n",
       "<!-- 3 -->\n",
       "<g id=\"node4\" class=\"node\">\n",
       "<title>3</title>\n",
       "<text text-anchor=\"middle\" x=\"66.3335\" y=\"-2.8\" font-family=\"Times,serif\" font-size=\"14.00\" fill=\"#000000\"> + </text>\n",
       "</g>\n",
       "<!-- 1&#45;&gt;3 -->\n",
       "<g id=\"edge3\" class=\"edge\">\n",
       "<title>1&#45;&gt;3</title>\n",
       "<path fill=\"none\" stroke=\"#000000\" d=\"M66.3335,-49.6223C66.3335,-42.9738 66.3335,-32.942 66.3335,-24.2807\"/>\n",
       "<polygon fill=\"#000000\" stroke=\"#000000\" points=\"69.8336,-24.0842 66.3335,-14.0842 62.8336,-24.0842 69.8336,-24.0842\"/>\n",
       "</g>\n",
       "<!-- 4 -->\n",
       "<g id=\"node5\" class=\"node\">\n",
       "<title>4</title>\n",
       "<text text-anchor=\"middle\" x=\"112.3335\" y=\"-2.8\" font-family=\"Times,serif\" font-size=\"14.00\" fill=\"#000000\">&lt;term&gt;</text>\n",
       "</g>\n",
       "<!-- 1&#45;&gt;4 -->\n",
       "<g id=\"edge4\" class=\"edge\">\n",
       "<title>1&#45;&gt;4</title>\n",
       "<path fill=\"none\" stroke=\"#000000\" d=\"M73.121,-49.6223C79.8562,-42.3014 90.3653,-30.8785 98.8094,-21.7001\"/>\n",
       "<polygon fill=\"#000000\" stroke=\"#000000\" points=\"101.6212,-23.8132 105.816,-14.0842 96.4697,-19.0738 101.6212,-23.8132\"/>\n",
       "</g>\n",
       "</g>\n",
       "</svg>\n"
      ],
      "text/plain": [
       "<graphviz.dot.Digraph at 0x11e328f98>"
      ]
     },
     "metadata": {},
     "output_type": "display_data"
    }
   ],
   "source": [
    "derivation_tree = (\"<start>\",\n",
    "                   [(\"<expr>\",\n",
    "                     [(\"<expr>\", None),\n",
    "                      (\" + \", []),\n",
    "                         (\"<term>\", None)]\n",
    "                     )])\n",
    "display_tree(derivation_tree)"
   ]
  },
  {
   "cell_type": "code",
   "execution_count": 51,
   "metadata": {
    "button": false,
    "new_sheet": false,
    "run_control": {
     "read_only": false
    },
    "slideshow": {
     "slide_type": "fragment"
    }
   },
   "outputs": [
    {
     "name": "stdout",
     "output_type": "stream",
     "text": [
      "Expanding <expr> randomly\n"
     ]
    },
    {
     "data": {
      "image/svg+xml": [
       "<?xml version=\"1.0\" encoding=\"UTF-8\" standalone=\"no\"?>\n",
       "<!DOCTYPE svg PUBLIC \"-//W3C//DTD SVG 1.1//EN\"\n",
       " \"http://www.w3.org/Graphics/SVG/1.1/DTD/svg11.dtd\">\n",
       "<!-- Generated by graphviz version 2.40.1 (20161225.0304)\n",
       " -->\n",
       "<!-- Title: %3 Pages: 1 -->\n",
       "<svg width=\"141pt\" height=\"172pt\"\n",
       " viewBox=\"0.00 0.00 141.45 172.00\" xmlns=\"http://www.w3.org/2000/svg\" xmlns:xlink=\"http://www.w3.org/1999/xlink\">\n",
       "<g id=\"graph0\" class=\"graph\" transform=\"scale(1 1) rotate(0) translate(4 168)\">\n",
       "<title>%3</title>\n",
       "<polygon fill=\"#ffffff\" stroke=\"transparent\" points=\"-4,4 -4,-168 137.4463,-168 137.4463,4 -4,4\"/>\n",
       "<!-- 0 -->\n",
       "<g id=\"node1\" class=\"node\">\n",
       "<title>0</title>\n",
       "<text text-anchor=\"middle\" x=\"66.7231\" y=\"-152.8\" font-family=\"Times,serif\" font-size=\"14.00\" fill=\"#000000\">&lt;start&gt;</text>\n",
       "</g>\n",
       "<!-- 1 -->\n",
       "<g id=\"node2\" class=\"node\">\n",
       "<title>1</title>\n",
       "<text text-anchor=\"middle\" x=\"66.7231\" y=\"-102.8\" font-family=\"Times,serif\" font-size=\"14.00\" fill=\"#000000\">&lt;expr&gt;</text>\n",
       "</g>\n",
       "<!-- 0&#45;&gt;1 -->\n",
       "<g id=\"edge1\" class=\"edge\">\n",
       "<title>0&#45;&gt;1</title>\n",
       "<path fill=\"none\" stroke=\"#000000\" d=\"M66.7231,-149.6223C66.7231,-142.9738 66.7231,-132.942 66.7231,-124.2807\"/>\n",
       "<polygon fill=\"#000000\" stroke=\"#000000\" points=\"70.2232,-124.0842 66.7231,-114.0842 63.2232,-124.0842 70.2232,-124.0842\"/>\n",
       "</g>\n",
       "<!-- 2 -->\n",
       "<g id=\"node3\" class=\"node\">\n",
       "<title>2</title>\n",
       "<text text-anchor=\"middle\" x=\"20.7231\" y=\"-52.8\" font-family=\"Times,serif\" font-size=\"14.00\" fill=\"#000000\">&lt;expr&gt;</text>\n",
       "</g>\n",
       "<!-- 1&#45;&gt;2 -->\n",
       "<g id=\"edge2\" class=\"edge\">\n",
       "<title>1&#45;&gt;2</title>\n",
       "<path fill=\"none\" stroke=\"#000000\" d=\"M59.9357,-99.6223C53.2005,-92.3014 42.6913,-80.8785 34.2473,-71.7001\"/>\n",
       "<polygon fill=\"#000000\" stroke=\"#000000\" points=\"36.587,-69.0738 27.2406,-64.0842 31.4354,-73.8132 36.587,-69.0738\"/>\n",
       "</g>\n",
       "<!-- 4 -->\n",
       "<g id=\"node5\" class=\"node\">\n",
       "<title>4</title>\n",
       "<text text-anchor=\"middle\" x=\"66.7231\" y=\"-52.8\" font-family=\"Times,serif\" font-size=\"14.00\" fill=\"#000000\"> + </text>\n",
       "</g>\n",
       "<!-- 1&#45;&gt;4 -->\n",
       "<g id=\"edge4\" class=\"edge\">\n",
       "<title>1&#45;&gt;4</title>\n",
       "<path fill=\"none\" stroke=\"#000000\" d=\"M66.7231,-99.6223C66.7231,-92.9738 66.7231,-82.942 66.7231,-74.2807\"/>\n",
       "<polygon fill=\"#000000\" stroke=\"#000000\" points=\"70.2232,-74.0842 66.7231,-64.0842 63.2232,-74.0842 70.2232,-74.0842\"/>\n",
       "</g>\n",
       "<!-- 5 -->\n",
       "<g id=\"node6\" class=\"node\">\n",
       "<title>5</title>\n",
       "<text text-anchor=\"middle\" x=\"112.7231\" y=\"-52.8\" font-family=\"Times,serif\" font-size=\"14.00\" fill=\"#000000\">&lt;term&gt;</text>\n",
       "</g>\n",
       "<!-- 1&#45;&gt;5 -->\n",
       "<g id=\"edge5\" class=\"edge\">\n",
       "<title>1&#45;&gt;5</title>\n",
       "<path fill=\"none\" stroke=\"#000000\" d=\"M73.5106,-99.6223C80.2458,-92.3014 90.755,-80.8785 99.199,-71.7001\"/>\n",
       "<polygon fill=\"#000000\" stroke=\"#000000\" points=\"102.0109,-73.8132 106.2057,-64.0842 96.8593,-69.0738 102.0109,-73.8132\"/>\n",
       "</g>\n",
       "<!-- 3 -->\n",
       "<g id=\"node4\" class=\"node\">\n",
       "<title>3</title>\n",
       "<text text-anchor=\"middle\" x=\"20.7231\" y=\"-2.8\" font-family=\"Times,serif\" font-size=\"14.00\" fill=\"#000000\">&lt;term&gt;</text>\n",
       "</g>\n",
       "<!-- 2&#45;&gt;3 -->\n",
       "<g id=\"edge3\" class=\"edge\">\n",
       "<title>2&#45;&gt;3</title>\n",
       "<path fill=\"none\" stroke=\"#000000\" d=\"M20.7231,-49.6223C20.7231,-42.9738 20.7231,-32.942 20.7231,-24.2807\"/>\n",
       "<polygon fill=\"#000000\" stroke=\"#000000\" points=\"24.2232,-24.0842 20.7231,-14.0842 17.2232,-24.0842 24.2232,-24.0842\"/>\n",
       "</g>\n",
       "</g>\n",
       "</svg>\n"
      ],
      "text/plain": [
       "<graphviz.dot.Digraph at 0x11e328c18>"
      ]
     },
     "metadata": {},
     "output_type": "display_data"
    }
   ],
   "source": [
    "f = GrammarFuzzer(EXPR_GRAMMAR, log=True)\n",
    "derivation_tree = f.expand_tree_once(derivation_tree)\n",
    "display_tree(derivation_tree)"
   ]
  },
  {
   "cell_type": "code",
   "execution_count": 52,
   "metadata": {
    "button": false,
    "new_sheet": false,
    "run_control": {
     "read_only": false
    },
    "slideshow": {
     "slide_type": "subslide"
    }
   },
   "outputs": [
    {
     "name": "stdout",
     "output_type": "stream",
     "text": [
      "Expanding <term> randomly\n"
     ]
    },
    {
     "data": {
      "image/svg+xml": [
       "<?xml version=\"1.0\" encoding=\"UTF-8\" standalone=\"no\"?>\n",
       "<!DOCTYPE svg PUBLIC \"-//W3C//DTD SVG 1.1//EN\"\n",
       " \"http://www.w3.org/Graphics/SVG/1.1/DTD/svg11.dtd\">\n",
       "<!-- Generated by graphviz version 2.40.1 (20161225.0304)\n",
       " -->\n",
       "<!-- Title: %3 Pages: 1 -->\n",
       "<svg width=\"207pt\" height=\"172pt\"\n",
       " viewBox=\"0.00 0.00 207.45 172.00\" xmlns=\"http://www.w3.org/2000/svg\" xmlns:xlink=\"http://www.w3.org/1999/xlink\">\n",
       "<g id=\"graph0\" class=\"graph\" transform=\"scale(1 1) rotate(0) translate(4 168)\">\n",
       "<title>%3</title>\n",
       "<polygon fill=\"#ffffff\" stroke=\"transparent\" points=\"-4,4 -4,-168 203.4463,-168 203.4463,4 -4,4\"/>\n",
       "<!-- 0 -->\n",
       "<g id=\"node1\" class=\"node\">\n",
       "<title>0</title>\n",
       "<text text-anchor=\"middle\" x=\"81.7231\" y=\"-152.8\" font-family=\"Times,serif\" font-size=\"14.00\" fill=\"#000000\">&lt;start&gt;</text>\n",
       "</g>\n",
       "<!-- 1 -->\n",
       "<g id=\"node2\" class=\"node\">\n",
       "<title>1</title>\n",
       "<text text-anchor=\"middle\" x=\"81.7231\" y=\"-102.8\" font-family=\"Times,serif\" font-size=\"14.00\" fill=\"#000000\">&lt;expr&gt;</text>\n",
       "</g>\n",
       "<!-- 0&#45;&gt;1 -->\n",
       "<g id=\"edge1\" class=\"edge\">\n",
       "<title>0&#45;&gt;1</title>\n",
       "<path fill=\"none\" stroke=\"#000000\" d=\"M81.7231,-149.6223C81.7231,-142.9738 81.7231,-132.942 81.7231,-124.2807\"/>\n",
       "<polygon fill=\"#000000\" stroke=\"#000000\" points=\"85.2232,-124.0842 81.7231,-114.0842 78.2232,-124.0842 85.2232,-124.0842\"/>\n",
       "</g>\n",
       "<!-- 2 -->\n",
       "<g id=\"node3\" class=\"node\">\n",
       "<title>2</title>\n",
       "<text text-anchor=\"middle\" x=\"30.7231\" y=\"-52.8\" font-family=\"Times,serif\" font-size=\"14.00\" fill=\"#000000\">&lt;expr&gt;</text>\n",
       "</g>\n",
       "<!-- 1&#45;&gt;2 -->\n",
       "<g id=\"edge2\" class=\"edge\">\n",
       "<title>1&#45;&gt;2</title>\n",
       "<path fill=\"none\" stroke=\"#000000\" d=\"M74.1979,-99.6223C66.5782,-92.152 54.6019,-80.4105 45.147,-71.1411\"/>\n",
       "<polygon fill=\"#000000\" stroke=\"#000000\" points=\"47.54,-68.5857 37.949,-64.0842 42.6395,-73.5842 47.54,-68.5857\"/>\n",
       "</g>\n",
       "<!-- 4 -->\n",
       "<g id=\"node5\" class=\"node\">\n",
       "<title>4</title>\n",
       "<text text-anchor=\"middle\" x=\"81.7231\" y=\"-52.8\" font-family=\"Times,serif\" font-size=\"14.00\" fill=\"#000000\"> + </text>\n",
       "</g>\n",
       "<!-- 1&#45;&gt;4 -->\n",
       "<g id=\"edge4\" class=\"edge\">\n",
       "<title>1&#45;&gt;4</title>\n",
       "<path fill=\"none\" stroke=\"#000000\" d=\"M81.7231,-99.6223C81.7231,-92.9738 81.7231,-82.942 81.7231,-74.2807\"/>\n",
       "<polygon fill=\"#000000\" stroke=\"#000000\" points=\"85.2232,-74.0842 81.7231,-64.0842 78.2232,-74.0842 85.2232,-74.0842\"/>\n",
       "</g>\n",
       "<!-- 5 -->\n",
       "<g id=\"node6\" class=\"node\">\n",
       "<title>5</title>\n",
       "<text text-anchor=\"middle\" x=\"129.7231\" y=\"-52.8\" font-family=\"Times,serif\" font-size=\"14.00\" fill=\"#000000\">&lt;term&gt;</text>\n",
       "</g>\n",
       "<!-- 1&#45;&gt;5 -->\n",
       "<g id=\"edge5\" class=\"edge\">\n",
       "<title>1&#45;&gt;5</title>\n",
       "<path fill=\"none\" stroke=\"#000000\" d=\"M88.8057,-99.6223C95.9055,-92.2267 107.024,-80.6449 115.8801,-71.4199\"/>\n",
       "<polygon fill=\"#000000\" stroke=\"#000000\" points=\"118.5218,-73.722 122.9223,-64.0842 113.4721,-68.8742 118.5218,-73.722\"/>\n",
       "</g>\n",
       "<!-- 3 -->\n",
       "<g id=\"node4\" class=\"node\">\n",
       "<title>3</title>\n",
       "<text text-anchor=\"middle\" x=\"20.7231\" y=\"-2.8\" font-family=\"Times,serif\" font-size=\"14.00\" fill=\"#000000\">&lt;term&gt;</text>\n",
       "</g>\n",
       "<!-- 2&#45;&gt;3 -->\n",
       "<g id=\"edge3\" class=\"edge\">\n",
       "<title>2&#45;&gt;3</title>\n",
       "<path fill=\"none\" stroke=\"#000000\" d=\"M29.2476,-49.6223C27.903,-42.8991 25.8664,-32.7161 24.121,-23.9893\"/>\n",
       "<polygon fill=\"#000000\" stroke=\"#000000\" points=\"27.5333,-23.2036 22.14,-14.0842 20.6692,-24.5764 27.5333,-23.2036\"/>\n",
       "</g>\n",
       "<!-- 6 -->\n",
       "<g id=\"node7\" class=\"node\">\n",
       "<title>6</title>\n",
       "<text text-anchor=\"middle\" x=\"83.7231\" y=\"-2.8\" font-family=\"Times,serif\" font-size=\"14.00\" fill=\"#000000\">&lt;factor&gt;</text>\n",
       "</g>\n",
       "<!-- 5&#45;&gt;6 -->\n",
       "<g id=\"edge6\" class=\"edge\">\n",
       "<title>5&#45;&gt;6</title>\n",
       "<path fill=\"none\" stroke=\"#000000\" d=\"M122.9357,-49.6223C116.2005,-42.3014 105.6913,-30.8785 97.2473,-21.7001\"/>\n",
       "<polygon fill=\"#000000\" stroke=\"#000000\" points=\"99.587,-19.0738 90.2406,-14.0842 94.4354,-23.8132 99.587,-19.0738\"/>\n",
       "</g>\n",
       "<!-- 7 -->\n",
       "<g id=\"node8\" class=\"node\">\n",
       "<title>7</title>\n",
       "<text text-anchor=\"middle\" x=\"132.7231\" y=\"-2.8\" font-family=\"Times,serif\" font-size=\"14.00\" fill=\"#000000\"> * </text>\n",
       "</g>\n",
       "<!-- 5&#45;&gt;7 -->\n",
       "<g id=\"edge7\" class=\"edge\">\n",
       "<title>5&#45;&gt;7</title>\n",
       "<path fill=\"none\" stroke=\"#000000\" d=\"M130.1658,-49.6223C130.5647,-42.9738 131.1666,-32.942 131.6863,-24.2807\"/>\n",
       "<polygon fill=\"#000000\" stroke=\"#000000\" points=\"135.1928,-24.2759 132.2981,-14.0842 128.2054,-23.8566 135.1928,-24.2759\"/>\n",
       "</g>\n",
       "<!-- 8 -->\n",
       "<g id=\"node9\" class=\"node\">\n",
       "<title>8</title>\n",
       "<text text-anchor=\"middle\" x=\"178.7231\" y=\"-2.8\" font-family=\"Times,serif\" font-size=\"14.00\" fill=\"#000000\">&lt;term&gt;</text>\n",
       "</g>\n",
       "<!-- 5&#45;&gt;8 -->\n",
       "<g id=\"edge8\" class=\"edge\">\n",
       "<title>5&#45;&gt;8</title>\n",
       "<path fill=\"none\" stroke=\"#000000\" d=\"M136.9533,-49.6223C144.2009,-42.2267 155.5511,-30.6449 164.5917,-21.4199\"/>\n",
       "<polygon fill=\"#000000\" stroke=\"#000000\" points=\"167.2811,-23.6761 171.7806,-14.0842 162.2816,-18.7766 167.2811,-23.6761\"/>\n",
       "</g>\n",
       "</g>\n",
       "</svg>\n"
      ],
      "text/plain": [
       "<graphviz.dot.Digraph at 0x11e336940>"
      ]
     },
     "metadata": {},
     "output_type": "display_data"
    }
   ],
   "source": [
    "derivation_tree = f.expand_tree_once(derivation_tree)\n",
    "display_tree(derivation_tree)"
   ]
  },
  {
   "cell_type": "markdown",
   "metadata": {
    "button": false,
    "new_sheet": false,
    "run_control": {
     "read_only": false
    },
    "slideshow": {
     "slide_type": "fragment"
    }
   },
   "source": [
    "We see that which each step, one more symbol is expanded.  Now all it takes is to apply this again and again, expanding the tree further and further."
   ]
  },
  {
   "cell_type": "markdown",
   "metadata": {
    "button": false,
    "new_sheet": false,
    "run_control": {
     "read_only": false
    },
    "slideshow": {
     "slide_type": "slide"
    }
   },
   "source": [
    "## Closing the Expansion\n",
    "\n",
    "With `expand_tree_once()`, we can keep on expanding the tree – but how do we actually stop?  The key idea here, introduced by Luke in \\cite{Luke2000}, is that after inflating the derivation tree to some maximum size, we _only want to apply expansions that increase the size of the tree by a minimum_.  For `<factor>`, for instance, we would prefer an expansion into `<integer>`, as this will not introduce further recursion (and potential size inflation); for `<integer>`, likewise, an expansion into `<digit>` is preferred, as it will less increase tree size than `<digit><integer>`.\n",
    "\n",
    "To identify the _cost_ of expanding a symbol, we introduce two functions that mutually rely on each other.  First, `symbol_cost()` returns the minimum cost of all expansions of a symbol, using `expansion_cost()` to compute the cost for each expansion."
   ]
  },
  {
   "cell_type": "markdown",
   "metadata": {
    "button": false,
    "new_sheet": false,
    "run_control": {
     "read_only": false
    },
    "slideshow": {
     "slide_type": "subslide"
    }
   },
   "source": [
    "The method `expansion_cost()` returns the sum of all expansions in `expansions`.  If a nonterminal is encountered again during traversal, the cost of the expansion is $\\infty$, indicating (potentially infinite) recursion."
   ]
  },
  {
   "cell_type": "code",
   "execution_count": 53,
   "metadata": {
    "button": false,
    "new_sheet": false,
    "run_control": {
     "read_only": false
    },
    "slideshow": {
     "slide_type": "subslide"
    }
   },
   "outputs": [],
   "source": [
    "class GrammarFuzzer(GrammarFuzzer):\n",
    "    def symbol_cost(self, symbol, seen=set()):\n",
    "        expansions = self.grammar[symbol]\n",
    "        return min(self.expansion_cost(e, seen | {symbol}) for e in expansions)\n",
    "\n",
    "    def expansion_cost(self, expansion, seen=set()):\n",
    "        symbols = nonterminals(expansion)\n",
    "        if len(symbols) == 0:\n",
    "            return 1  # no symbol\n",
    "\n",
    "        if any(s in seen for s in symbols):\n",
    "            return float('inf')\n",
    "\n",
    "        # the value of a expansion is the sum of all expandable variables\n",
    "        # inside + 1\n",
    "        return sum(self.symbol_cost(s, seen) for s in symbols) + 1\n"
   ]
  },
  {
   "cell_type": "markdown",
   "metadata": {
    "button": false,
    "new_sheet": false,
    "run_control": {
     "read_only": false
    },
    "slideshow": {
     "slide_type": "subslide"
    }
   },
   "source": [
    "Here's two examples: The minimum cost of expanding a digit is 1, since we have to choose between one of its expansions."
   ]
  },
  {
   "cell_type": "code",
   "execution_count": 54,
   "metadata": {
    "button": false,
    "new_sheet": false,
    "run_control": {
     "read_only": false
    },
    "slideshow": {
     "slide_type": "fragment"
    }
   },
   "outputs": [],
   "source": [
    "f = GrammarFuzzer(EXPR_GRAMMAR)\n",
    "assert f.symbol_cost(\"<digit>\") == 1"
   ]
  },
  {
   "cell_type": "markdown",
   "metadata": {
    "button": false,
    "new_sheet": false,
    "run_control": {
     "read_only": false
    },
    "slideshow": {
     "slide_type": "fragment"
    }
   },
   "source": [
    "The minimum number of expansions when expanding `<expr>`, though, is five, as this is the minimum number of expansions required.  (`<expr>` → `<term>` → `<factor>` → `<integer>` → `<digit>` → 1)"
   ]
  },
  {
   "cell_type": "code",
   "execution_count": 55,
   "metadata": {
    "button": false,
    "new_sheet": false,
    "run_control": {
     "read_only": false
    },
    "slideshow": {
     "slide_type": "fragment"
    }
   },
   "outputs": [],
   "source": [
    "assert f.symbol_cost(\"<expr>\") == 5"
   ]
  },
  {
   "cell_type": "markdown",
   "metadata": {
    "button": false,
    "new_sheet": false,
    "run_control": {
     "read_only": false
    },
    "slideshow": {
     "slide_type": "fragment"
    }
   },
   "source": [
    "Here's now a variant of `expand_node()` that takes the above cost into account.  It determines the minimum cost `cost` across all children and then chooses a child from the list using the `choose` function, which by default is the minimum cost.  If multiple children all have the same minimum cost, it chooses randomly between these."
   ]
  },
  {
   "cell_type": "code",
   "execution_count": 56,
   "metadata": {
    "button": false,
    "new_sheet": false,
    "run_control": {
     "read_only": false
    },
    "slideshow": {
     "slide_type": "subslide"
    }
   },
   "outputs": [],
   "source": [
    "class GrammarFuzzer(GrammarFuzzer):\n",
    "    def expand_node_by_cost(self, node, choose=min):\n",
    "        (symbol, children) = node\n",
    "        assert children is None\n",
    "\n",
    "        # Fetch the possible expansions from grammar...\n",
    "        expansions = self.grammar[symbol]\n",
    "\n",
    "        possible_children_with_cost = [(self.expansion_to_children(expansion),\n",
    "                                        self.expansion_cost(expansion, {symbol}))\n",
    "                                       for expansion in expansions]\n",
    "\n",
    "        costs = [cost for (child, cost) in possible_children_with_cost]\n",
    "        chosen_cost = choose(costs)\n",
    "        children_with_chosen_cost = [child for (child, child_cost) in possible_children_with_cost\n",
    "                                     if child_cost == chosen_cost]\n",
    "\n",
    "        index = self.choose_node_expansion(node, children_with_chosen_cost)\n",
    "\n",
    "        # Return with a new list\n",
    "        return (symbol, children_with_chosen_cost[index])\n"
   ]
  },
  {
   "cell_type": "markdown",
   "metadata": {
    "slideshow": {
     "slide_type": "subslide"
    }
   },
   "source": [
    "The shortcut `expand_node_min_cost()` passes `min()` as the `choose` function, which makes it expand nodes at minimum cost."
   ]
  },
  {
   "cell_type": "code",
   "execution_count": 57,
   "metadata": {
    "button": false,
    "new_sheet": false,
    "run_control": {
     "read_only": false
    },
    "slideshow": {
     "slide_type": "fragment"
    }
   },
   "outputs": [],
   "source": [
    "class GrammarFuzzer(GrammarFuzzer):\n",
    "    def expand_node_min_cost(self, node):\n",
    "        if self.log:\n",
    "            print(\"Expanding\", all_terminals(node), \"at minimum cost\")\n",
    "\n",
    "        return self.expand_node_by_cost(node, min)"
   ]
  },
  {
   "cell_type": "markdown",
   "metadata": {
    "button": false,
    "new_sheet": false,
    "run_control": {
     "read_only": false
    },
    "slideshow": {
     "slide_type": "fragment"
    }
   },
   "source": [
    "We can now apply this function to close the expansion of our derivation tree, using `expand_tree_once()` with the above `expand_node_min_cost()` as expansion function."
   ]
  },
  {
   "cell_type": "code",
   "execution_count": 58,
   "metadata": {
    "button": false,
    "new_sheet": false,
    "run_control": {
     "read_only": false
    },
    "slideshow": {
     "slide_type": "fragment"
    }
   },
   "outputs": [],
   "source": [
    "class GrammarFuzzer(GrammarFuzzer):\n",
    "    def expand_node(self, node):\n",
    "        return self.expand_node_min_cost(node)"
   ]
  },
  {
   "cell_type": "code",
   "execution_count": 59,
   "metadata": {
    "button": false,
    "new_sheet": false,
    "run_control": {
     "read_only": false
    },
    "slideshow": {
     "slide_type": "subslide"
    }
   },
   "outputs": [
    {
     "data": {
      "image/svg+xml": [
       "<?xml version=\"1.0\" encoding=\"UTF-8\" standalone=\"no\"?>\n",
       "<!DOCTYPE svg PUBLIC \"-//W3C//DTD SVG 1.1//EN\"\n",
       " \"http://www.w3.org/Graphics/SVG/1.1/DTD/svg11.dtd\">\n",
       "<!-- Generated by graphviz version 2.40.1 (20161225.0304)\n",
       " -->\n",
       "<!-- Title: %3 Pages: 1 -->\n",
       "<svg width=\"207pt\" height=\"172pt\"\n",
       " viewBox=\"0.00 0.00 207.45 172.00\" xmlns=\"http://www.w3.org/2000/svg\" xmlns:xlink=\"http://www.w3.org/1999/xlink\">\n",
       "<g id=\"graph0\" class=\"graph\" transform=\"scale(1 1) rotate(0) translate(4 168)\">\n",
       "<title>%3</title>\n",
       "<polygon fill=\"#ffffff\" stroke=\"transparent\" points=\"-4,4 -4,-168 203.4463,-168 203.4463,4 -4,4\"/>\n",
       "<!-- 0 -->\n",
       "<g id=\"node1\" class=\"node\">\n",
       "<title>0</title>\n",
       "<text text-anchor=\"middle\" x=\"81.7231\" y=\"-152.8\" font-family=\"Times,serif\" font-size=\"14.00\" fill=\"#000000\">&lt;start&gt;</text>\n",
       "</g>\n",
       "<!-- 1 -->\n",
       "<g id=\"node2\" class=\"node\">\n",
       "<title>1</title>\n",
       "<text text-anchor=\"middle\" x=\"81.7231\" y=\"-102.8\" font-family=\"Times,serif\" font-size=\"14.00\" fill=\"#000000\">&lt;expr&gt;</text>\n",
       "</g>\n",
       "<!-- 0&#45;&gt;1 -->\n",
       "<g id=\"edge1\" class=\"edge\">\n",
       "<title>0&#45;&gt;1</title>\n",
       "<path fill=\"none\" stroke=\"#000000\" d=\"M81.7231,-149.6223C81.7231,-142.9738 81.7231,-132.942 81.7231,-124.2807\"/>\n",
       "<polygon fill=\"#000000\" stroke=\"#000000\" points=\"85.2232,-124.0842 81.7231,-114.0842 78.2232,-124.0842 85.2232,-124.0842\"/>\n",
       "</g>\n",
       "<!-- 2 -->\n",
       "<g id=\"node3\" class=\"node\">\n",
       "<title>2</title>\n",
       "<text text-anchor=\"middle\" x=\"30.7231\" y=\"-52.8\" font-family=\"Times,serif\" font-size=\"14.00\" fill=\"#000000\">&lt;expr&gt;</text>\n",
       "</g>\n",
       "<!-- 1&#45;&gt;2 -->\n",
       "<g id=\"edge2\" class=\"edge\">\n",
       "<title>1&#45;&gt;2</title>\n",
       "<path fill=\"none\" stroke=\"#000000\" d=\"M74.1979,-99.6223C66.5782,-92.152 54.6019,-80.4105 45.147,-71.1411\"/>\n",
       "<polygon fill=\"#000000\" stroke=\"#000000\" points=\"47.54,-68.5857 37.949,-64.0842 42.6395,-73.5842 47.54,-68.5857\"/>\n",
       "</g>\n",
       "<!-- 4 -->\n",
       "<g id=\"node5\" class=\"node\">\n",
       "<title>4</title>\n",
       "<text text-anchor=\"middle\" x=\"81.7231\" y=\"-52.8\" font-family=\"Times,serif\" font-size=\"14.00\" fill=\"#000000\"> + </text>\n",
       "</g>\n",
       "<!-- 1&#45;&gt;4 -->\n",
       "<g id=\"edge4\" class=\"edge\">\n",
       "<title>1&#45;&gt;4</title>\n",
       "<path fill=\"none\" stroke=\"#000000\" d=\"M81.7231,-99.6223C81.7231,-92.9738 81.7231,-82.942 81.7231,-74.2807\"/>\n",
       "<polygon fill=\"#000000\" stroke=\"#000000\" points=\"85.2232,-74.0842 81.7231,-64.0842 78.2232,-74.0842 85.2232,-74.0842\"/>\n",
       "</g>\n",
       "<!-- 5 -->\n",
       "<g id=\"node6\" class=\"node\">\n",
       "<title>5</title>\n",
       "<text text-anchor=\"middle\" x=\"129.7231\" y=\"-52.8\" font-family=\"Times,serif\" font-size=\"14.00\" fill=\"#000000\">&lt;term&gt;</text>\n",
       "</g>\n",
       "<!-- 1&#45;&gt;5 -->\n",
       "<g id=\"edge5\" class=\"edge\">\n",
       "<title>1&#45;&gt;5</title>\n",
       "<path fill=\"none\" stroke=\"#000000\" d=\"M88.8057,-99.6223C95.9055,-92.2267 107.024,-80.6449 115.8801,-71.4199\"/>\n",
       "<polygon fill=\"#000000\" stroke=\"#000000\" points=\"118.5218,-73.722 122.9223,-64.0842 113.4721,-68.8742 118.5218,-73.722\"/>\n",
       "</g>\n",
       "<!-- 3 -->\n",
       "<g id=\"node4\" class=\"node\">\n",
       "<title>3</title>\n",
       "<text text-anchor=\"middle\" x=\"20.7231\" y=\"-2.8\" font-family=\"Times,serif\" font-size=\"14.00\" fill=\"#000000\">&lt;term&gt;</text>\n",
       "</g>\n",
       "<!-- 2&#45;&gt;3 -->\n",
       "<g id=\"edge3\" class=\"edge\">\n",
       "<title>2&#45;&gt;3</title>\n",
       "<path fill=\"none\" stroke=\"#000000\" d=\"M29.2476,-49.6223C27.903,-42.8991 25.8664,-32.7161 24.121,-23.9893\"/>\n",
       "<polygon fill=\"#000000\" stroke=\"#000000\" points=\"27.5333,-23.2036 22.14,-14.0842 20.6692,-24.5764 27.5333,-23.2036\"/>\n",
       "</g>\n",
       "<!-- 6 -->\n",
       "<g id=\"node7\" class=\"node\">\n",
       "<title>6</title>\n",
       "<text text-anchor=\"middle\" x=\"83.7231\" y=\"-2.8\" font-family=\"Times,serif\" font-size=\"14.00\" fill=\"#000000\">&lt;factor&gt;</text>\n",
       "</g>\n",
       "<!-- 5&#45;&gt;6 -->\n",
       "<g id=\"edge6\" class=\"edge\">\n",
       "<title>5&#45;&gt;6</title>\n",
       "<path fill=\"none\" stroke=\"#000000\" d=\"M122.9357,-49.6223C116.2005,-42.3014 105.6913,-30.8785 97.2473,-21.7001\"/>\n",
       "<polygon fill=\"#000000\" stroke=\"#000000\" points=\"99.587,-19.0738 90.2406,-14.0842 94.4354,-23.8132 99.587,-19.0738\"/>\n",
       "</g>\n",
       "<!-- 7 -->\n",
       "<g id=\"node8\" class=\"node\">\n",
       "<title>7</title>\n",
       "<text text-anchor=\"middle\" x=\"132.7231\" y=\"-2.8\" font-family=\"Times,serif\" font-size=\"14.00\" fill=\"#000000\"> * </text>\n",
       "</g>\n",
       "<!-- 5&#45;&gt;7 -->\n",
       "<g id=\"edge7\" class=\"edge\">\n",
       "<title>5&#45;&gt;7</title>\n",
       "<path fill=\"none\" stroke=\"#000000\" d=\"M130.1658,-49.6223C130.5647,-42.9738 131.1666,-32.942 131.6863,-24.2807\"/>\n",
       "<polygon fill=\"#000000\" stroke=\"#000000\" points=\"135.1928,-24.2759 132.2981,-14.0842 128.2054,-23.8566 135.1928,-24.2759\"/>\n",
       "</g>\n",
       "<!-- 8 -->\n",
       "<g id=\"node9\" class=\"node\">\n",
       "<title>8</title>\n",
       "<text text-anchor=\"middle\" x=\"178.7231\" y=\"-2.8\" font-family=\"Times,serif\" font-size=\"14.00\" fill=\"#000000\">&lt;term&gt;</text>\n",
       "</g>\n",
       "<!-- 5&#45;&gt;8 -->\n",
       "<g id=\"edge8\" class=\"edge\">\n",
       "<title>5&#45;&gt;8</title>\n",
       "<path fill=\"none\" stroke=\"#000000\" d=\"M136.9533,-49.6223C144.2009,-42.2267 155.5511,-30.6449 164.5917,-21.4199\"/>\n",
       "<polygon fill=\"#000000\" stroke=\"#000000\" points=\"167.2811,-23.6761 171.7806,-14.0842 162.2816,-18.7766 167.2811,-23.6761\"/>\n",
       "</g>\n",
       "</g>\n",
       "</svg>\n"
      ],
      "text/plain": [
       "<graphviz.dot.Digraph at 0x11e341080>"
      ]
     },
     "metadata": {},
     "output_type": "display_data"
    },
    {
     "name": "stdout",
     "output_type": "stream",
     "text": [
      "Expanding <term> at minimum cost\n"
     ]
    },
    {
     "data": {
      "image/svg+xml": [
       "<?xml version=\"1.0\" encoding=\"UTF-8\" standalone=\"no\"?>\n",
       "<!DOCTYPE svg PUBLIC \"-//W3C//DTD SVG 1.1//EN\"\n",
       " \"http://www.w3.org/Graphics/SVG/1.1/DTD/svg11.dtd\">\n",
       "<!-- Generated by graphviz version 2.40.1 (20161225.0304)\n",
       " -->\n",
       "<!-- Title: %3 Pages: 1 -->\n",
       "<svg width=\"211pt\" height=\"222pt\"\n",
       " viewBox=\"0.00 0.00 210.94 222.00\" xmlns=\"http://www.w3.org/2000/svg\" xmlns:xlink=\"http://www.w3.org/1999/xlink\">\n",
       "<g id=\"graph0\" class=\"graph\" transform=\"scale(1 1) rotate(0) translate(4 218)\">\n",
       "<title>%3</title>\n",
       "<polygon fill=\"#ffffff\" stroke=\"transparent\" points=\"-4,4 -4,-218 206.9395,-218 206.9395,4 -4,4\"/>\n",
       "<!-- 0 -->\n",
       "<g id=\"node1\" class=\"node\">\n",
       "<title>0</title>\n",
       "<text text-anchor=\"middle\" x=\"81.7231\" y=\"-202.8\" font-family=\"Times,serif\" font-size=\"14.00\" fill=\"#000000\">&lt;start&gt;</text>\n",
       "</g>\n",
       "<!-- 1 -->\n",
       "<g id=\"node2\" class=\"node\">\n",
       "<title>1</title>\n",
       "<text text-anchor=\"middle\" x=\"81.7231\" y=\"-152.8\" font-family=\"Times,serif\" font-size=\"14.00\" fill=\"#000000\">&lt;expr&gt;</text>\n",
       "</g>\n",
       "<!-- 0&#45;&gt;1 -->\n",
       "<g id=\"edge1\" class=\"edge\">\n",
       "<title>0&#45;&gt;1</title>\n",
       "<path fill=\"none\" stroke=\"#000000\" d=\"M81.7231,-199.6223C81.7231,-192.9738 81.7231,-182.942 81.7231,-174.2807\"/>\n",
       "<polygon fill=\"#000000\" stroke=\"#000000\" points=\"85.2232,-174.0842 81.7231,-164.0842 78.2232,-174.0842 85.2232,-174.0842\"/>\n",
       "</g>\n",
       "<!-- 2 -->\n",
       "<g id=\"node3\" class=\"node\">\n",
       "<title>2</title>\n",
       "<text text-anchor=\"middle\" x=\"30.7231\" y=\"-102.8\" font-family=\"Times,serif\" font-size=\"14.00\" fill=\"#000000\">&lt;expr&gt;</text>\n",
       "</g>\n",
       "<!-- 1&#45;&gt;2 -->\n",
       "<g id=\"edge2\" class=\"edge\">\n",
       "<title>1&#45;&gt;2</title>\n",
       "<path fill=\"none\" stroke=\"#000000\" d=\"M74.1979,-149.6223C66.5782,-142.152 54.6019,-130.4105 45.147,-121.1411\"/>\n",
       "<polygon fill=\"#000000\" stroke=\"#000000\" points=\"47.54,-118.5857 37.949,-114.0842 42.6395,-123.5842 47.54,-118.5857\"/>\n",
       "</g>\n",
       "<!-- 4 -->\n",
       "<g id=\"node5\" class=\"node\">\n",
       "<title>4</title>\n",
       "<text text-anchor=\"middle\" x=\"81.7231\" y=\"-102.8\" font-family=\"Times,serif\" font-size=\"14.00\" fill=\"#000000\"> + </text>\n",
       "</g>\n",
       "<!-- 1&#45;&gt;4 -->\n",
       "<g id=\"edge4\" class=\"edge\">\n",
       "<title>1&#45;&gt;4</title>\n",
       "<path fill=\"none\" stroke=\"#000000\" d=\"M81.7231,-149.6223C81.7231,-142.9738 81.7231,-132.942 81.7231,-124.2807\"/>\n",
       "<polygon fill=\"#000000\" stroke=\"#000000\" points=\"85.2232,-124.0842 81.7231,-114.0842 78.2232,-124.0842 85.2232,-124.0842\"/>\n",
       "</g>\n",
       "<!-- 5 -->\n",
       "<g id=\"node6\" class=\"node\">\n",
       "<title>5</title>\n",
       "<text text-anchor=\"middle\" x=\"129.7231\" y=\"-102.8\" font-family=\"Times,serif\" font-size=\"14.00\" fill=\"#000000\">&lt;term&gt;</text>\n",
       "</g>\n",
       "<!-- 1&#45;&gt;5 -->\n",
       "<g id=\"edge5\" class=\"edge\">\n",
       "<title>1&#45;&gt;5</title>\n",
       "<path fill=\"none\" stroke=\"#000000\" d=\"M88.8057,-149.6223C95.9055,-142.2267 107.024,-130.6449 115.8801,-121.4199\"/>\n",
       "<polygon fill=\"#000000\" stroke=\"#000000\" points=\"118.5218,-123.722 122.9223,-114.0842 113.4721,-118.8742 118.5218,-123.722\"/>\n",
       "</g>\n",
       "<!-- 3 -->\n",
       "<g id=\"node4\" class=\"node\">\n",
       "<title>3</title>\n",
       "<text text-anchor=\"middle\" x=\"20.7231\" y=\"-52.8\" font-family=\"Times,serif\" font-size=\"14.00\" fill=\"#000000\">&lt;term&gt;</text>\n",
       "</g>\n",
       "<!-- 2&#45;&gt;3 -->\n",
       "<g id=\"edge3\" class=\"edge\">\n",
       "<title>2&#45;&gt;3</title>\n",
       "<path fill=\"none\" stroke=\"#000000\" d=\"M29.2476,-99.6223C27.903,-92.8991 25.8664,-82.7161 24.121,-73.9893\"/>\n",
       "<polygon fill=\"#000000\" stroke=\"#000000\" points=\"27.5333,-73.2036 22.14,-64.0842 20.6692,-74.5764 27.5333,-73.2036\"/>\n",
       "</g>\n",
       "<!-- 6 -->\n",
       "<g id=\"node7\" class=\"node\">\n",
       "<title>6</title>\n",
       "<text text-anchor=\"middle\" x=\"83.7231\" y=\"-52.8\" font-family=\"Times,serif\" font-size=\"14.00\" fill=\"#000000\">&lt;factor&gt;</text>\n",
       "</g>\n",
       "<!-- 5&#45;&gt;6 -->\n",
       "<g id=\"edge6\" class=\"edge\">\n",
       "<title>5&#45;&gt;6</title>\n",
       "<path fill=\"none\" stroke=\"#000000\" d=\"M122.9357,-99.6223C116.2005,-92.3014 105.6913,-80.8785 97.2473,-71.7001\"/>\n",
       "<polygon fill=\"#000000\" stroke=\"#000000\" points=\"99.587,-69.0738 90.2406,-64.0842 94.4354,-73.8132 99.587,-69.0738\"/>\n",
       "</g>\n",
       "<!-- 7 -->\n",
       "<g id=\"node8\" class=\"node\">\n",
       "<title>7</title>\n",
       "<text text-anchor=\"middle\" x=\"132.7231\" y=\"-52.8\" font-family=\"Times,serif\" font-size=\"14.00\" fill=\"#000000\"> * </text>\n",
       "</g>\n",
       "<!-- 5&#45;&gt;7 -->\n",
       "<g id=\"edge7\" class=\"edge\">\n",
       "<title>5&#45;&gt;7</title>\n",
       "<path fill=\"none\" stroke=\"#000000\" d=\"M130.1658,-99.6223C130.5647,-92.9738 131.1666,-82.942 131.6863,-74.2807\"/>\n",
       "<polygon fill=\"#000000\" stroke=\"#000000\" points=\"135.1928,-74.2759 132.2981,-64.0842 128.2054,-73.8566 135.1928,-74.2759\"/>\n",
       "</g>\n",
       "<!-- 8 -->\n",
       "<g id=\"node9\" class=\"node\">\n",
       "<title>8</title>\n",
       "<text text-anchor=\"middle\" x=\"178.7231\" y=\"-52.8\" font-family=\"Times,serif\" font-size=\"14.00\" fill=\"#000000\">&lt;term&gt;</text>\n",
       "</g>\n",
       "<!-- 5&#45;&gt;8 -->\n",
       "<g id=\"edge8\" class=\"edge\">\n",
       "<title>5&#45;&gt;8</title>\n",
       "<path fill=\"none\" stroke=\"#000000\" d=\"M136.9533,-99.6223C144.2009,-92.2267 155.5511,-80.6449 164.5917,-71.4199\"/>\n",
       "<polygon fill=\"#000000\" stroke=\"#000000\" points=\"167.2811,-73.6761 171.7806,-64.0842 162.2816,-68.7766 167.2811,-73.6761\"/>\n",
       "</g>\n",
       "<!-- 9 -->\n",
       "<g id=\"node10\" class=\"node\">\n",
       "<title>9</title>\n",
       "<text text-anchor=\"middle\" x=\"178.7231\" y=\"-2.8\" font-family=\"Times,serif\" font-size=\"14.00\" fill=\"#000000\">&lt;factor&gt;</text>\n",
       "</g>\n",
       "<!-- 8&#45;&gt;9 -->\n",
       "<g id=\"edge9\" class=\"edge\">\n",
       "<title>8&#45;&gt;9</title>\n",
       "<path fill=\"none\" stroke=\"#000000\" d=\"M178.7231,-49.6223C178.7231,-42.9738 178.7231,-32.942 178.7231,-24.2807\"/>\n",
       "<polygon fill=\"#000000\" stroke=\"#000000\" points=\"182.2232,-24.0842 178.7231,-14.0842 175.2232,-24.0842 182.2232,-24.0842\"/>\n",
       "</g>\n",
       "</g>\n",
       "</svg>\n"
      ],
      "text/plain": [
       "<graphviz.dot.Digraph at 0x11e341080>"
      ]
     },
     "metadata": {},
     "output_type": "display_data"
    },
    {
     "name": "stdout",
     "output_type": "stream",
     "text": [
      "Expanding <factor> at minimum cost\n"
     ]
    },
    {
     "data": {
      "image/svg+xml": [
       "<?xml version=\"1.0\" encoding=\"UTF-8\" standalone=\"no\"?>\n",
       "<!DOCTYPE svg PUBLIC \"-//W3C//DTD SVG 1.1//EN\"\n",
       " \"http://www.w3.org/Graphics/SVG/1.1/DTD/svg11.dtd\">\n",
       "<!-- Generated by graphviz version 2.40.1 (20161225.0304)\n",
       " -->\n",
       "<!-- Title: %3 Pages: 1 -->\n",
       "<svg width=\"211pt\" height=\"222pt\"\n",
       " viewBox=\"0.00 0.00 210.94 222.00\" xmlns=\"http://www.w3.org/2000/svg\" xmlns:xlink=\"http://www.w3.org/1999/xlink\">\n",
       "<g id=\"graph0\" class=\"graph\" transform=\"scale(1 1) rotate(0) translate(4 218)\">\n",
       "<title>%3</title>\n",
       "<polygon fill=\"#ffffff\" stroke=\"transparent\" points=\"-4,4 -4,-218 206.9395,-218 206.9395,4 -4,4\"/>\n",
       "<!-- 0 -->\n",
       "<g id=\"node1\" class=\"node\">\n",
       "<title>0</title>\n",
       "<text text-anchor=\"middle\" x=\"81.7231\" y=\"-202.8\" font-family=\"Times,serif\" font-size=\"14.00\" fill=\"#000000\">&lt;start&gt;</text>\n",
       "</g>\n",
       "<!-- 1 -->\n",
       "<g id=\"node2\" class=\"node\">\n",
       "<title>1</title>\n",
       "<text text-anchor=\"middle\" x=\"81.7231\" y=\"-152.8\" font-family=\"Times,serif\" font-size=\"14.00\" fill=\"#000000\">&lt;expr&gt;</text>\n",
       "</g>\n",
       "<!-- 0&#45;&gt;1 -->\n",
       "<g id=\"edge1\" class=\"edge\">\n",
       "<title>0&#45;&gt;1</title>\n",
       "<path fill=\"none\" stroke=\"#000000\" d=\"M81.7231,-199.6223C81.7231,-192.9738 81.7231,-182.942 81.7231,-174.2807\"/>\n",
       "<polygon fill=\"#000000\" stroke=\"#000000\" points=\"85.2232,-174.0842 81.7231,-164.0842 78.2232,-174.0842 85.2232,-174.0842\"/>\n",
       "</g>\n",
       "<!-- 2 -->\n",
       "<g id=\"node3\" class=\"node\">\n",
       "<title>2</title>\n",
       "<text text-anchor=\"middle\" x=\"30.7231\" y=\"-102.8\" font-family=\"Times,serif\" font-size=\"14.00\" fill=\"#000000\">&lt;expr&gt;</text>\n",
       "</g>\n",
       "<!-- 1&#45;&gt;2 -->\n",
       "<g id=\"edge2\" class=\"edge\">\n",
       "<title>1&#45;&gt;2</title>\n",
       "<path fill=\"none\" stroke=\"#000000\" d=\"M74.1979,-149.6223C66.5782,-142.152 54.6019,-130.4105 45.147,-121.1411\"/>\n",
       "<polygon fill=\"#000000\" stroke=\"#000000\" points=\"47.54,-118.5857 37.949,-114.0842 42.6395,-123.5842 47.54,-118.5857\"/>\n",
       "</g>\n",
       "<!-- 4 -->\n",
       "<g id=\"node5\" class=\"node\">\n",
       "<title>4</title>\n",
       "<text text-anchor=\"middle\" x=\"81.7231\" y=\"-102.8\" font-family=\"Times,serif\" font-size=\"14.00\" fill=\"#000000\"> + </text>\n",
       "</g>\n",
       "<!-- 1&#45;&gt;4 -->\n",
       "<g id=\"edge4\" class=\"edge\">\n",
       "<title>1&#45;&gt;4</title>\n",
       "<path fill=\"none\" stroke=\"#000000\" d=\"M81.7231,-149.6223C81.7231,-142.9738 81.7231,-132.942 81.7231,-124.2807\"/>\n",
       "<polygon fill=\"#000000\" stroke=\"#000000\" points=\"85.2232,-124.0842 81.7231,-114.0842 78.2232,-124.0842 85.2232,-124.0842\"/>\n",
       "</g>\n",
       "<!-- 5 -->\n",
       "<g id=\"node6\" class=\"node\">\n",
       "<title>5</title>\n",
       "<text text-anchor=\"middle\" x=\"129.7231\" y=\"-102.8\" font-family=\"Times,serif\" font-size=\"14.00\" fill=\"#000000\">&lt;term&gt;</text>\n",
       "</g>\n",
       "<!-- 1&#45;&gt;5 -->\n",
       "<g id=\"edge5\" class=\"edge\">\n",
       "<title>1&#45;&gt;5</title>\n",
       "<path fill=\"none\" stroke=\"#000000\" d=\"M88.8057,-149.6223C95.9055,-142.2267 107.024,-130.6449 115.8801,-121.4199\"/>\n",
       "<polygon fill=\"#000000\" stroke=\"#000000\" points=\"118.5218,-123.722 122.9223,-114.0842 113.4721,-118.8742 118.5218,-123.722\"/>\n",
       "</g>\n",
       "<!-- 3 -->\n",
       "<g id=\"node4\" class=\"node\">\n",
       "<title>3</title>\n",
       "<text text-anchor=\"middle\" x=\"20.7231\" y=\"-52.8\" font-family=\"Times,serif\" font-size=\"14.00\" fill=\"#000000\">&lt;term&gt;</text>\n",
       "</g>\n",
       "<!-- 2&#45;&gt;3 -->\n",
       "<g id=\"edge3\" class=\"edge\">\n",
       "<title>2&#45;&gt;3</title>\n",
       "<path fill=\"none\" stroke=\"#000000\" d=\"M29.2476,-99.6223C27.903,-92.8991 25.8664,-82.7161 24.121,-73.9893\"/>\n",
       "<polygon fill=\"#000000\" stroke=\"#000000\" points=\"27.5333,-73.2036 22.14,-64.0842 20.6692,-74.5764 27.5333,-73.2036\"/>\n",
       "</g>\n",
       "<!-- 6 -->\n",
       "<g id=\"node7\" class=\"node\">\n",
       "<title>6</title>\n",
       "<text text-anchor=\"middle\" x=\"83.7231\" y=\"-52.8\" font-family=\"Times,serif\" font-size=\"14.00\" fill=\"#000000\">&lt;factor&gt;</text>\n",
       "</g>\n",
       "<!-- 5&#45;&gt;6 -->\n",
       "<g id=\"edge6\" class=\"edge\">\n",
       "<title>5&#45;&gt;6</title>\n",
       "<path fill=\"none\" stroke=\"#000000\" d=\"M122.9357,-99.6223C116.2005,-92.3014 105.6913,-80.8785 97.2473,-71.7001\"/>\n",
       "<polygon fill=\"#000000\" stroke=\"#000000\" points=\"99.587,-69.0738 90.2406,-64.0842 94.4354,-73.8132 99.587,-69.0738\"/>\n",
       "</g>\n",
       "<!-- 8 -->\n",
       "<g id=\"node9\" class=\"node\">\n",
       "<title>8</title>\n",
       "<text text-anchor=\"middle\" x=\"132.7231\" y=\"-52.8\" font-family=\"Times,serif\" font-size=\"14.00\" fill=\"#000000\"> * </text>\n",
       "</g>\n",
       "<!-- 5&#45;&gt;8 -->\n",
       "<g id=\"edge8\" class=\"edge\">\n",
       "<title>5&#45;&gt;8</title>\n",
       "<path fill=\"none\" stroke=\"#000000\" d=\"M130.1658,-99.6223C130.5647,-92.9738 131.1666,-82.942 131.6863,-74.2807\"/>\n",
       "<polygon fill=\"#000000\" stroke=\"#000000\" points=\"135.1928,-74.2759 132.2981,-64.0842 128.2054,-73.8566 135.1928,-74.2759\"/>\n",
       "</g>\n",
       "<!-- 9 -->\n",
       "<g id=\"node10\" class=\"node\">\n",
       "<title>9</title>\n",
       "<text text-anchor=\"middle\" x=\"178.7231\" y=\"-52.8\" font-family=\"Times,serif\" font-size=\"14.00\" fill=\"#000000\">&lt;term&gt;</text>\n",
       "</g>\n",
       "<!-- 5&#45;&gt;9 -->\n",
       "<g id=\"edge9\" class=\"edge\">\n",
       "<title>5&#45;&gt;9</title>\n",
       "<path fill=\"none\" stroke=\"#000000\" d=\"M136.9533,-99.6223C144.2009,-92.2267 155.5511,-80.6449 164.5917,-71.4199\"/>\n",
       "<polygon fill=\"#000000\" stroke=\"#000000\" points=\"167.2811,-73.6761 171.7806,-64.0842 162.2816,-68.7766 167.2811,-73.6761\"/>\n",
       "</g>\n",
       "<!-- 7 -->\n",
       "<g id=\"node8\" class=\"node\">\n",
       "<title>7</title>\n",
       "<text text-anchor=\"middle\" x=\"83.7231\" y=\"-2.8\" font-family=\"Times,serif\" font-size=\"14.00\" fill=\"#000000\">&lt;integer&gt;</text>\n",
       "</g>\n",
       "<!-- 6&#45;&gt;7 -->\n",
       "<g id=\"edge7\" class=\"edge\">\n",
       "<title>6&#45;&gt;7</title>\n",
       "<path fill=\"none\" stroke=\"#000000\" d=\"M83.7231,-49.6223C83.7231,-42.9738 83.7231,-32.942 83.7231,-24.2807\"/>\n",
       "<polygon fill=\"#000000\" stroke=\"#000000\" points=\"87.2232,-24.0842 83.7231,-14.0842 80.2232,-24.0842 87.2232,-24.0842\"/>\n",
       "</g>\n",
       "<!-- 10 -->\n",
       "<g id=\"node11\" class=\"node\">\n",
       "<title>10</title>\n",
       "<text text-anchor=\"middle\" x=\"178.7231\" y=\"-2.8\" font-family=\"Times,serif\" font-size=\"14.00\" fill=\"#000000\">&lt;factor&gt;</text>\n",
       "</g>\n",
       "<!-- 9&#45;&gt;10 -->\n",
       "<g id=\"edge10\" class=\"edge\">\n",
       "<title>9&#45;&gt;10</title>\n",
       "<path fill=\"none\" stroke=\"#000000\" d=\"M178.7231,-49.6223C178.7231,-42.9738 178.7231,-32.942 178.7231,-24.2807\"/>\n",
       "<polygon fill=\"#000000\" stroke=\"#000000\" points=\"182.2232,-24.0842 178.7231,-14.0842 175.2232,-24.0842 182.2232,-24.0842\"/>\n",
       "</g>\n",
       "</g>\n",
       "</svg>\n"
      ],
      "text/plain": [
       "<graphviz.dot.Digraph at 0x11e341240>"
      ]
     },
     "metadata": {},
     "output_type": "display_data"
    },
    {
     "name": "stdout",
     "output_type": "stream",
     "text": [
      "Expanding <term> at minimum cost\n",
      "Expanding <factor> at minimum cost\n",
      "Expanding <integer> at minimum cost\n",
      "Expanding <integer> at minimum cost\n",
      "Expanding <digit> at minimum cost\n",
      "Expanding <digit> at minimum cost\n",
      "Expanding <factor> at minimum cost\n",
      "Expanding <integer> at minimum cost\n",
      "Expanding <digit> at minimum cost\n"
     ]
    },
    {
     "data": {
      "image/svg+xml": [
       "<?xml version=\"1.0\" encoding=\"UTF-8\" standalone=\"no\"?>\n",
       "<!DOCTYPE svg PUBLIC \"-//W3C//DTD SVG 1.1//EN\"\n",
       " \"http://www.w3.org/Graphics/SVG/1.1/DTD/svg11.dtd\">\n",
       "<!-- Generated by graphviz version 2.40.1 (20161225.0304)\n",
       " -->\n",
       "<!-- Title: %3 Pages: 1 -->\n",
       "<svg width=\"226pt\" height=\"372pt\"\n",
       " viewBox=\"0.00 0.00 225.66 372.00\" xmlns=\"http://www.w3.org/2000/svg\" xmlns:xlink=\"http://www.w3.org/1999/xlink\">\n",
       "<g id=\"graph0\" class=\"graph\" transform=\"scale(1 1) rotate(0) translate(4 368)\">\n",
       "<title>%3</title>\n",
       "<polygon fill=\"#ffffff\" stroke=\"transparent\" points=\"-4,4 -4,-368 221.6602,-368 221.6602,4 -4,4\"/>\n",
       "<!-- 0 -->\n",
       "<g id=\"node1\" class=\"node\">\n",
       "<title>0</title>\n",
       "<text text-anchor=\"middle\" x=\"91.3301\" y=\"-352.8\" font-family=\"Times,serif\" font-size=\"14.00\" fill=\"#000000\">&lt;start&gt;</text>\n",
       "</g>\n",
       "<!-- 1 -->\n",
       "<g id=\"node2\" class=\"node\">\n",
       "<title>1</title>\n",
       "<text text-anchor=\"middle\" x=\"91.3301\" y=\"-302.8\" font-family=\"Times,serif\" font-size=\"14.00\" fill=\"#000000\">&lt;expr&gt;</text>\n",
       "</g>\n",
       "<!-- 0&#45;&gt;1 -->\n",
       "<g id=\"edge1\" class=\"edge\">\n",
       "<title>0&#45;&gt;1</title>\n",
       "<path fill=\"none\" stroke=\"#000000\" d=\"M91.3301,-349.6223C91.3301,-342.9738 91.3301,-332.942 91.3301,-324.2807\"/>\n",
       "<polygon fill=\"#000000\" stroke=\"#000000\" points=\"94.8302,-324.0842 91.3301,-314.0842 87.8302,-324.0842 94.8302,-324.0842\"/>\n",
       "</g>\n",
       "<!-- 2 -->\n",
       "<g id=\"node3\" class=\"node\">\n",
       "<title>2</title>\n",
       "<text text-anchor=\"middle\" x=\"40.3301\" y=\"-252.8\" font-family=\"Times,serif\" font-size=\"14.00\" fill=\"#000000\">&lt;expr&gt;</text>\n",
       "</g>\n",
       "<!-- 1&#45;&gt;2 -->\n",
       "<g id=\"edge2\" class=\"edge\">\n",
       "<title>1&#45;&gt;2</title>\n",
       "<path fill=\"none\" stroke=\"#000000\" d=\"M83.8049,-299.6223C76.1851,-292.152 64.2088,-280.4105 54.754,-271.1411\"/>\n",
       "<polygon fill=\"#000000\" stroke=\"#000000\" points=\"57.147,-268.5857 47.5559,-264.0842 52.2464,-273.5842 57.147,-268.5857\"/>\n",
       "</g>\n",
       "<!-- 8 -->\n",
       "<g id=\"node9\" class=\"node\">\n",
       "<title>8</title>\n",
       "<text text-anchor=\"middle\" x=\"91.3301\" y=\"-252.8\" font-family=\"Times,serif\" font-size=\"14.00\" fill=\"#000000\"> + </text>\n",
       "</g>\n",
       "<!-- 1&#45;&gt;8 -->\n",
       "<g id=\"edge8\" class=\"edge\">\n",
       "<title>1&#45;&gt;8</title>\n",
       "<path fill=\"none\" stroke=\"#000000\" d=\"M91.3301,-299.6223C91.3301,-292.9738 91.3301,-282.942 91.3301,-274.2807\"/>\n",
       "<polygon fill=\"#000000\" stroke=\"#000000\" points=\"94.8302,-274.0842 91.3301,-264.0842 87.8302,-274.0842 94.8302,-274.0842\"/>\n",
       "</g>\n",
       "<!-- 9 -->\n",
       "<g id=\"node10\" class=\"node\">\n",
       "<title>9</title>\n",
       "<text text-anchor=\"middle\" x=\"139.3301\" y=\"-252.8\" font-family=\"Times,serif\" font-size=\"14.00\" fill=\"#000000\">&lt;term&gt;</text>\n",
       "</g>\n",
       "<!-- 1&#45;&gt;9 -->\n",
       "<g id=\"edge9\" class=\"edge\">\n",
       "<title>1&#45;&gt;9</title>\n",
       "<path fill=\"none\" stroke=\"#000000\" d=\"M98.4126,-299.6223C105.5124,-292.2267 116.631,-280.6449 125.487,-271.4199\"/>\n",
       "<polygon fill=\"#000000\" stroke=\"#000000\" points=\"128.1288,-273.722 132.5293,-264.0842 123.079,-268.8742 128.1288,-273.722\"/>\n",
       "</g>\n",
       "<!-- 3 -->\n",
       "<g id=\"node4\" class=\"node\">\n",
       "<title>3</title>\n",
       "<text text-anchor=\"middle\" x=\"30.3301\" y=\"-202.8\" font-family=\"Times,serif\" font-size=\"14.00\" fill=\"#000000\">&lt;term&gt;</text>\n",
       "</g>\n",
       "<!-- 2&#45;&gt;3 -->\n",
       "<g id=\"edge3\" class=\"edge\">\n",
       "<title>2&#45;&gt;3</title>\n",
       "<path fill=\"none\" stroke=\"#000000\" d=\"M38.8545,-249.6223C37.5099,-242.8991 35.4733,-232.7161 33.7279,-223.9893\"/>\n",
       "<polygon fill=\"#000000\" stroke=\"#000000\" points=\"37.1402,-223.2036 31.7469,-214.0842 30.2761,-224.5764 37.1402,-223.2036\"/>\n",
       "</g>\n",
       "<!-- 4 -->\n",
       "<g id=\"node5\" class=\"node\">\n",
       "<title>4</title>\n",
       "<text text-anchor=\"middle\" x=\"27.3301\" y=\"-152.8\" font-family=\"Times,serif\" font-size=\"14.00\" fill=\"#000000\">&lt;factor&gt;</text>\n",
       "</g>\n",
       "<!-- 3&#45;&gt;4 -->\n",
       "<g id=\"edge4\" class=\"edge\">\n",
       "<title>3&#45;&gt;4</title>\n",
       "<path fill=\"none\" stroke=\"#000000\" d=\"M29.8874,-199.6223C29.4885,-192.9738 28.8866,-182.942 28.3669,-174.2807\"/>\n",
       "<polygon fill=\"#000000\" stroke=\"#000000\" points=\"31.8479,-173.8566 27.7551,-164.0842 24.8604,-174.2759 31.8479,-173.8566\"/>\n",
       "</g>\n",
       "<!-- 5 -->\n",
       "<g id=\"node6\" class=\"node\">\n",
       "<title>5</title>\n",
       "<text text-anchor=\"middle\" x=\"27.3301\" y=\"-102.8\" font-family=\"Times,serif\" font-size=\"14.00\" fill=\"#000000\">&lt;integer&gt;</text>\n",
       "</g>\n",
       "<!-- 4&#45;&gt;5 -->\n",
       "<g id=\"edge5\" class=\"edge\">\n",
       "<title>4&#45;&gt;5</title>\n",
       "<path fill=\"none\" stroke=\"#000000\" d=\"M27.3301,-149.6223C27.3301,-142.9738 27.3301,-132.942 27.3301,-124.2807\"/>\n",
       "<polygon fill=\"#000000\" stroke=\"#000000\" points=\"30.8302,-124.0842 27.3301,-114.0842 23.8302,-124.0842 30.8302,-124.0842\"/>\n",
       "</g>\n",
       "<!-- 6 -->\n",
       "<g id=\"node7\" class=\"node\">\n",
       "<title>6</title>\n",
       "<text text-anchor=\"middle\" x=\"27.3301\" y=\"-52.8\" font-family=\"Times,serif\" font-size=\"14.00\" fill=\"#000000\">&lt;digit&gt;</text>\n",
       "</g>\n",
       "<!-- 5&#45;&gt;6 -->\n",
       "<g id=\"edge6\" class=\"edge\">\n",
       "<title>5&#45;&gt;6</title>\n",
       "<path fill=\"none\" stroke=\"#000000\" d=\"M27.3301,-99.6223C27.3301,-92.9738 27.3301,-82.942 27.3301,-74.2807\"/>\n",
       "<polygon fill=\"#000000\" stroke=\"#000000\" points=\"30.8302,-74.0842 27.3301,-64.0842 23.8302,-74.0842 30.8302,-74.0842\"/>\n",
       "</g>\n",
       "<!-- 7 -->\n",
       "<g id=\"node8\" class=\"node\">\n",
       "<title>7</title>\n",
       "<text text-anchor=\"middle\" x=\"27.3301\" y=\"-2.8\" font-family=\"Times,serif\" font-size=\"14.00\" fill=\"#000000\">4</text>\n",
       "</g>\n",
       "<!-- 6&#45;&gt;7 -->\n",
       "<g id=\"edge7\" class=\"edge\">\n",
       "<title>6&#45;&gt;7</title>\n",
       "<path fill=\"none\" stroke=\"#000000\" d=\"M27.3301,-49.6223C27.3301,-42.9738 27.3301,-32.942 27.3301,-24.2807\"/>\n",
       "<polygon fill=\"#000000\" stroke=\"#000000\" points=\"30.8302,-24.0842 27.3301,-14.0842 23.8302,-24.0842 30.8302,-24.0842\"/>\n",
       "</g>\n",
       "<!-- 10 -->\n",
       "<g id=\"node11\" class=\"node\">\n",
       "<title>10</title>\n",
       "<text text-anchor=\"middle\" x=\"95.3301\" y=\"-202.8\" font-family=\"Times,serif\" font-size=\"14.00\" fill=\"#000000\">&lt;factor&gt;</text>\n",
       "</g>\n",
       "<!-- 9&#45;&gt;10 -->\n",
       "<g id=\"edge10\" class=\"edge\">\n",
       "<title>9&#45;&gt;10</title>\n",
       "<path fill=\"none\" stroke=\"#000000\" d=\"M132.8377,-249.6223C126.3953,-242.3014 116.3431,-230.8785 108.2662,-221.7001\"/>\n",
       "<polygon fill=\"#000000\" stroke=\"#000000\" points=\"110.798,-219.2791 101.5642,-214.0842 105.543,-223.9036 110.798,-219.2791\"/>\n",
       "</g>\n",
       "<!-- 14 -->\n",
       "<g id=\"node15\" class=\"node\">\n",
       "<title>14</title>\n",
       "<text text-anchor=\"middle\" x=\"144.3301\" y=\"-202.8\" font-family=\"Times,serif\" font-size=\"14.00\" fill=\"#000000\"> * </text>\n",
       "</g>\n",
       "<!-- 9&#45;&gt;14 -->\n",
       "<g id=\"edge14\" class=\"edge\">\n",
       "<title>9&#45;&gt;14</title>\n",
       "<path fill=\"none\" stroke=\"#000000\" d=\"M140.0678,-249.6223C140.7327,-242.9738 141.7359,-232.942 142.602,-224.2807\"/>\n",
       "<polygon fill=\"#000000\" stroke=\"#000000\" points=\"146.1092,-224.3829 143.6217,-214.0842 139.1439,-223.6863 146.1092,-224.3829\"/>\n",
       "</g>\n",
       "<!-- 15 -->\n",
       "<g id=\"node16\" class=\"node\">\n",
       "<title>15</title>\n",
       "<text text-anchor=\"middle\" x=\"190.3301\" y=\"-202.8\" font-family=\"Times,serif\" font-size=\"14.00\" fill=\"#000000\">&lt;term&gt;</text>\n",
       "</g>\n",
       "<!-- 9&#45;&gt;15 -->\n",
       "<g id=\"edge15\" class=\"edge\">\n",
       "<title>9&#45;&gt;15</title>\n",
       "<path fill=\"none\" stroke=\"#000000\" d=\"M146.8553,-249.6223C154.475,-242.152 166.4514,-230.4105 175.9062,-221.1411\"/>\n",
       "<polygon fill=\"#000000\" stroke=\"#000000\" points=\"178.4137,-223.5842 183.1042,-214.0842 173.5132,-218.5857 178.4137,-223.5842\"/>\n",
       "</g>\n",
       "<!-- 11 -->\n",
       "<g id=\"node12\" class=\"node\">\n",
       "<title>11</title>\n",
       "<text text-anchor=\"middle\" x=\"97.3301\" y=\"-152.8\" font-family=\"Times,serif\" font-size=\"14.00\" fill=\"#000000\">&lt;integer&gt;</text>\n",
       "</g>\n",
       "<!-- 10&#45;&gt;11 -->\n",
       "<g id=\"edge11\" class=\"edge\">\n",
       "<title>10&#45;&gt;11</title>\n",
       "<path fill=\"none\" stroke=\"#000000\" d=\"M95.6252,-199.6223C95.8911,-192.9738 96.2924,-182.942 96.6388,-174.2807\"/>\n",
       "<polygon fill=\"#000000\" stroke=\"#000000\" points=\"100.1441,-174.2161 97.0467,-164.0842 93.1497,-173.9363 100.1441,-174.2161\"/>\n",
       "</g>\n",
       "<!-- 12 -->\n",
       "<g id=\"node13\" class=\"node\">\n",
       "<title>12</title>\n",
       "<text text-anchor=\"middle\" x=\"97.3301\" y=\"-102.8\" font-family=\"Times,serif\" font-size=\"14.00\" fill=\"#000000\">&lt;digit&gt;</text>\n",
       "</g>\n",
       "<!-- 11&#45;&gt;12 -->\n",
       "<g id=\"edge12\" class=\"edge\">\n",
       "<title>11&#45;&gt;12</title>\n",
       "<path fill=\"none\" stroke=\"#000000\" d=\"M97.3301,-149.6223C97.3301,-142.9738 97.3301,-132.942 97.3301,-124.2807\"/>\n",
       "<polygon fill=\"#000000\" stroke=\"#000000\" points=\"100.8302,-124.0842 97.3301,-114.0842 93.8302,-124.0842 100.8302,-124.0842\"/>\n",
       "</g>\n",
       "<!-- 13 -->\n",
       "<g id=\"node14\" class=\"node\">\n",
       "<title>13</title>\n",
       "<text text-anchor=\"middle\" x=\"97.3301\" y=\"-52.8\" font-family=\"Times,serif\" font-size=\"14.00\" fill=\"#000000\">3</text>\n",
       "</g>\n",
       "<!-- 12&#45;&gt;13 -->\n",
       "<g id=\"edge13\" class=\"edge\">\n",
       "<title>12&#45;&gt;13</title>\n",
       "<path fill=\"none\" stroke=\"#000000\" d=\"M97.3301,-99.6223C97.3301,-92.9738 97.3301,-82.942 97.3301,-74.2807\"/>\n",
       "<polygon fill=\"#000000\" stroke=\"#000000\" points=\"100.8302,-74.0842 97.3301,-64.0842 93.8302,-74.0842 100.8302,-74.0842\"/>\n",
       "</g>\n",
       "<!-- 16 -->\n",
       "<g id=\"node17\" class=\"node\">\n",
       "<title>16</title>\n",
       "<text text-anchor=\"middle\" x=\"190.3301\" y=\"-152.8\" font-family=\"Times,serif\" font-size=\"14.00\" fill=\"#000000\">&lt;factor&gt;</text>\n",
       "</g>\n",
       "<!-- 15&#45;&gt;16 -->\n",
       "<g id=\"edge16\" class=\"edge\">\n",
       "<title>15&#45;&gt;16</title>\n",
       "<path fill=\"none\" stroke=\"#000000\" d=\"M190.3301,-199.6223C190.3301,-192.9738 190.3301,-182.942 190.3301,-174.2807\"/>\n",
       "<polygon fill=\"#000000\" stroke=\"#000000\" points=\"193.8302,-174.0842 190.3301,-164.0842 186.8302,-174.0842 193.8302,-174.0842\"/>\n",
       "</g>\n",
       "<!-- 17 -->\n",
       "<g id=\"node18\" class=\"node\">\n",
       "<title>17</title>\n",
       "<text text-anchor=\"middle\" x=\"190.3301\" y=\"-102.8\" font-family=\"Times,serif\" font-size=\"14.00\" fill=\"#000000\">&lt;integer&gt;</text>\n",
       "</g>\n",
       "<!-- 16&#45;&gt;17 -->\n",
       "<g id=\"edge17\" class=\"edge\">\n",
       "<title>16&#45;&gt;17</title>\n",
       "<path fill=\"none\" stroke=\"#000000\" d=\"M190.3301,-149.6223C190.3301,-142.9738 190.3301,-132.942 190.3301,-124.2807\"/>\n",
       "<polygon fill=\"#000000\" stroke=\"#000000\" points=\"193.8302,-124.0842 190.3301,-114.0842 186.8302,-124.0842 193.8302,-124.0842\"/>\n",
       "</g>\n",
       "<!-- 18 -->\n",
       "<g id=\"node19\" class=\"node\">\n",
       "<title>18</title>\n",
       "<text text-anchor=\"middle\" x=\"190.3301\" y=\"-52.8\" font-family=\"Times,serif\" font-size=\"14.00\" fill=\"#000000\">&lt;digit&gt;</text>\n",
       "</g>\n",
       "<!-- 17&#45;&gt;18 -->\n",
       "<g id=\"edge18\" class=\"edge\">\n",
       "<title>17&#45;&gt;18</title>\n",
       "<path fill=\"none\" stroke=\"#000000\" d=\"M190.3301,-99.6223C190.3301,-92.9738 190.3301,-82.942 190.3301,-74.2807\"/>\n",
       "<polygon fill=\"#000000\" stroke=\"#000000\" points=\"193.8302,-74.0842 190.3301,-64.0842 186.8302,-74.0842 193.8302,-74.0842\"/>\n",
       "</g>\n",
       "<!-- 19 -->\n",
       "<g id=\"node20\" class=\"node\">\n",
       "<title>19</title>\n",
       "<text text-anchor=\"middle\" x=\"190.3301\" y=\"-2.8\" font-family=\"Times,serif\" font-size=\"14.00\" fill=\"#000000\">5</text>\n",
       "</g>\n",
       "<!-- 18&#45;&gt;19 -->\n",
       "<g id=\"edge19\" class=\"edge\">\n",
       "<title>18&#45;&gt;19</title>\n",
       "<path fill=\"none\" stroke=\"#000000\" d=\"M190.3301,-49.6223C190.3301,-42.9738 190.3301,-32.942 190.3301,-24.2807\"/>\n",
       "<polygon fill=\"#000000\" stroke=\"#000000\" points=\"193.8302,-24.0842 190.3301,-14.0842 186.8302,-24.0842 193.8302,-24.0842\"/>\n",
       "</g>\n",
       "</g>\n",
       "</svg>\n"
      ],
      "text/plain": [
       "<graphviz.dot.Digraph at 0x11e3368d0>"
      ]
     },
     "metadata": {},
     "output_type": "display_data"
    }
   ],
   "source": [
    "f = GrammarFuzzer(EXPR_GRAMMAR, log=True)\n",
    "display_tree(derivation_tree)\n",
    "\n",
    "step = 1\n",
    "while f.any_possible_expansions(derivation_tree):\n",
    "    derivation_tree = f.expand_tree_once(derivation_tree)\n",
    "    if step < 3:\n",
    "        display_tree(derivation_tree)\n",
    "    step += 1\n",
    "display_tree(derivation_tree)"
   ]
  },
  {
   "cell_type": "markdown",
   "metadata": {
    "button": false,
    "new_sheet": false,
    "run_control": {
     "read_only": false
    },
    "slideshow": {
     "slide_type": "subslide"
    }
   },
   "source": [
    "We see that in each step, `expand_node_min_cost()` chooses an expansion that does not increase the number of symbols, eventually closing all open expansions."
   ]
  },
  {
   "cell_type": "markdown",
   "metadata": {
    "slideshow": {
     "slide_type": "slide"
    }
   },
   "source": [
    "## Node Inflation\n",
    "\n",
    "Especially at the beginning of an expansion, we may be interested in getting _as many nodes as possible_ – that is, we'd like to prefer expansions that give us _more_ nonterminals to expand.  This is actually the exact opposite from what `expand_node_min_cost()` gives us, and we can implement a method `expand_node_max_cost()` that will always choose among the nodes with the _highest_ cost:"
   ]
  },
  {
   "cell_type": "code",
   "execution_count": 60,
   "metadata": {
    "button": false,
    "new_sheet": false,
    "run_control": {
     "read_only": false
    },
    "slideshow": {
     "slide_type": "fragment"
    }
   },
   "outputs": [],
   "source": [
    "class GrammarFuzzer(GrammarFuzzer):\n",
    "    def expand_node_max_cost(self, node):\n",
    "        if self.log:\n",
    "            print(\"Expanding\", all_terminals(node), \"at maximum cost\")\n",
    "\n",
    "        return self.expand_node_by_cost(node, max)"
   ]
  },
  {
   "cell_type": "markdown",
   "metadata": {
    "slideshow": {
     "slide_type": "subslide"
    }
   },
   "source": [
    "To illustrate `expand_node_max_cost()`, we can again redefine `expand_node()` to use it, and then use `expand_tree_once()` to show a few expansion steps:"
   ]
  },
  {
   "cell_type": "code",
   "execution_count": 61,
   "metadata": {
    "button": false,
    "new_sheet": false,
    "run_control": {
     "read_only": false
    },
    "slideshow": {
     "slide_type": "fragment"
    }
   },
   "outputs": [],
   "source": [
    "class GrammarFuzzer(GrammarFuzzer):\n",
    "    def expand_node(self, node):\n",
    "        return self.expand_node_max_cost(node)"
   ]
  },
  {
   "cell_type": "code",
   "execution_count": 62,
   "metadata": {
    "button": false,
    "new_sheet": false,
    "run_control": {
     "read_only": false
    },
    "slideshow": {
     "slide_type": "subslide"
    }
   },
   "outputs": [
    {
     "data": {
      "image/svg+xml": [
       "<?xml version=\"1.0\" encoding=\"UTF-8\" standalone=\"no\"?>\n",
       "<!DOCTYPE svg PUBLIC \"-//W3C//DTD SVG 1.1//EN\"\n",
       " \"http://www.w3.org/Graphics/SVG/1.1/DTD/svg11.dtd\">\n",
       "<!-- Generated by graphviz version 2.40.1 (20161225.0304)\n",
       " -->\n",
       "<!-- Title: %3 Pages: 1 -->\n",
       "<svg width=\"141pt\" height=\"122pt\"\n",
       " viewBox=\"0.00 0.00 141.06 122.00\" xmlns=\"http://www.w3.org/2000/svg\" xmlns:xlink=\"http://www.w3.org/1999/xlink\">\n",
       "<g id=\"graph0\" class=\"graph\" transform=\"scale(1 1) rotate(0) translate(4 118)\">\n",
       "<title>%3</title>\n",
       "<polygon fill=\"#ffffff\" stroke=\"transparent\" points=\"-4,4 -4,-118 137.0566,-118 137.0566,4 -4,4\"/>\n",
       "<!-- 0 -->\n",
       "<g id=\"node1\" class=\"node\">\n",
       "<title>0</title>\n",
       "<text text-anchor=\"middle\" x=\"66.3335\" y=\"-102.8\" font-family=\"Times,serif\" font-size=\"14.00\" fill=\"#000000\">&lt;start&gt;</text>\n",
       "</g>\n",
       "<!-- 1 -->\n",
       "<g id=\"node2\" class=\"node\">\n",
       "<title>1</title>\n",
       "<text text-anchor=\"middle\" x=\"66.3335\" y=\"-52.8\" font-family=\"Times,serif\" font-size=\"14.00\" fill=\"#000000\">&lt;expr&gt;</text>\n",
       "</g>\n",
       "<!-- 0&#45;&gt;1 -->\n",
       "<g id=\"edge1\" class=\"edge\">\n",
       "<title>0&#45;&gt;1</title>\n",
       "<path fill=\"none\" stroke=\"#000000\" d=\"M66.3335,-99.6223C66.3335,-92.9738 66.3335,-82.942 66.3335,-74.2807\"/>\n",
       "<polygon fill=\"#000000\" stroke=\"#000000\" points=\"69.8336,-74.0842 66.3335,-64.0842 62.8336,-74.0842 69.8336,-74.0842\"/>\n",
       "</g>\n",
       "<!-- 2 -->\n",
       "<g id=\"node3\" class=\"node\">\n",
       "<title>2</title>\n",
       "<text text-anchor=\"middle\" x=\"20.3335\" y=\"-2.8\" font-family=\"Times,serif\" font-size=\"14.00\" fill=\"#000000\">&lt;expr&gt;</text>\n",
       "</g>\n",
       "<!-- 1&#45;&gt;2 -->\n",
       "<g id=\"edge2\" class=\"edge\">\n",
       "<title>1&#45;&gt;2</title>\n",
       "<path fill=\"none\" stroke=\"#000000\" d=\"M59.546,-49.6223C52.8108,-42.3014 42.3017,-30.8785 33.8576,-21.7001\"/>\n",
       "<polygon fill=\"#000000\" stroke=\"#000000\" points=\"36.1973,-19.0738 26.8509,-14.0842 31.0458,-23.8132 36.1973,-19.0738\"/>\n",
       "</g>\n",
       "<!-- 3 -->\n",
       "<g id=\"node4\" class=\"node\">\n",
       "<title>3</title>\n",
       "<text text-anchor=\"middle\" x=\"66.3335\" y=\"-2.8\" font-family=\"Times,serif\" font-size=\"14.00\" fill=\"#000000\"> + </text>\n",
       "</g>\n",
       "<!-- 1&#45;&gt;3 -->\n",
       "<g id=\"edge3\" class=\"edge\">\n",
       "<title>1&#45;&gt;3</title>\n",
       "<path fill=\"none\" stroke=\"#000000\" d=\"M66.3335,-49.6223C66.3335,-42.9738 66.3335,-32.942 66.3335,-24.2807\"/>\n",
       "<polygon fill=\"#000000\" stroke=\"#000000\" points=\"69.8336,-24.0842 66.3335,-14.0842 62.8336,-24.0842 69.8336,-24.0842\"/>\n",
       "</g>\n",
       "<!-- 4 -->\n",
       "<g id=\"node5\" class=\"node\">\n",
       "<title>4</title>\n",
       "<text text-anchor=\"middle\" x=\"112.3335\" y=\"-2.8\" font-family=\"Times,serif\" font-size=\"14.00\" fill=\"#000000\">&lt;term&gt;</text>\n",
       "</g>\n",
       "<!-- 1&#45;&gt;4 -->\n",
       "<g id=\"edge4\" class=\"edge\">\n",
       "<title>1&#45;&gt;4</title>\n",
       "<path fill=\"none\" stroke=\"#000000\" d=\"M73.121,-49.6223C79.8562,-42.3014 90.3653,-30.8785 98.8094,-21.7001\"/>\n",
       "<polygon fill=\"#000000\" stroke=\"#000000\" points=\"101.6212,-23.8132 105.816,-14.0842 96.4697,-19.0738 101.6212,-23.8132\"/>\n",
       "</g>\n",
       "</g>\n",
       "</svg>\n"
      ],
      "text/plain": [
       "<graphviz.dot.Digraph at 0x11e336710>"
      ]
     },
     "metadata": {},
     "output_type": "display_data"
    },
    {
     "name": "stdout",
     "output_type": "stream",
     "text": [
      "Expanding <expr> at maximum cost\n"
     ]
    },
    {
     "data": {
      "image/svg+xml": [
       "<?xml version=\"1.0\" encoding=\"UTF-8\" standalone=\"no\"?>\n",
       "<!DOCTYPE svg PUBLIC \"-//W3C//DTD SVG 1.1//EN\"\n",
       " \"http://www.w3.org/Graphics/SVG/1.1/DTD/svg11.dtd\">\n",
       "<!-- Generated by graphviz version 2.40.1 (20161225.0304)\n",
       " -->\n",
       "<!-- Title: %3 Pages: 1 -->\n",
       "<svg width=\"186pt\" height=\"172pt\"\n",
       " viewBox=\"0.00 0.00 186.45 172.00\" xmlns=\"http://www.w3.org/2000/svg\" xmlns:xlink=\"http://www.w3.org/1999/xlink\">\n",
       "<g id=\"graph0\" class=\"graph\" transform=\"scale(1 1) rotate(0) translate(4 168)\">\n",
       "<title>%3</title>\n",
       "<polygon fill=\"#ffffff\" stroke=\"transparent\" points=\"-4,4 -4,-168 182.4463,-168 182.4463,4 -4,4\"/>\n",
       "<!-- 0 -->\n",
       "<g id=\"node1\" class=\"node\">\n",
       "<title>0</title>\n",
       "<text text-anchor=\"middle\" x=\"111.7231\" y=\"-152.8\" font-family=\"Times,serif\" font-size=\"14.00\" fill=\"#000000\">&lt;start&gt;</text>\n",
       "</g>\n",
       "<!-- 1 -->\n",
       "<g id=\"node2\" class=\"node\">\n",
       "<title>1</title>\n",
       "<text text-anchor=\"middle\" x=\"111.7231\" y=\"-102.8\" font-family=\"Times,serif\" font-size=\"14.00\" fill=\"#000000\">&lt;expr&gt;</text>\n",
       "</g>\n",
       "<!-- 0&#45;&gt;1 -->\n",
       "<g id=\"edge1\" class=\"edge\">\n",
       "<title>0&#45;&gt;1</title>\n",
       "<path fill=\"none\" stroke=\"#000000\" d=\"M111.7231,-149.6223C111.7231,-142.9738 111.7231,-132.942 111.7231,-124.2807\"/>\n",
       "<polygon fill=\"#000000\" stroke=\"#000000\" points=\"115.2232,-124.0842 111.7231,-114.0842 108.2232,-124.0842 115.2232,-124.0842\"/>\n",
       "</g>\n",
       "<!-- 2 -->\n",
       "<g id=\"node3\" class=\"node\">\n",
       "<title>2</title>\n",
       "<text text-anchor=\"middle\" x=\"65.7231\" y=\"-52.8\" font-family=\"Times,serif\" font-size=\"14.00\" fill=\"#000000\">&lt;expr&gt;</text>\n",
       "</g>\n",
       "<!-- 1&#45;&gt;2 -->\n",
       "<g id=\"edge2\" class=\"edge\">\n",
       "<title>1&#45;&gt;2</title>\n",
       "<path fill=\"none\" stroke=\"#000000\" d=\"M104.9357,-99.6223C98.2005,-92.3014 87.6913,-80.8785 79.2473,-71.7001\"/>\n",
       "<polygon fill=\"#000000\" stroke=\"#000000\" points=\"81.587,-69.0738 72.2406,-64.0842 76.4354,-73.8132 81.587,-69.0738\"/>\n",
       "</g>\n",
       "<!-- 6 -->\n",
       "<g id=\"node7\" class=\"node\">\n",
       "<title>6</title>\n",
       "<text text-anchor=\"middle\" x=\"111.7231\" y=\"-52.8\" font-family=\"Times,serif\" font-size=\"14.00\" fill=\"#000000\"> + </text>\n",
       "</g>\n",
       "<!-- 1&#45;&gt;6 -->\n",
       "<g id=\"edge6\" class=\"edge\">\n",
       "<title>1&#45;&gt;6</title>\n",
       "<path fill=\"none\" stroke=\"#000000\" d=\"M111.7231,-99.6223C111.7231,-92.9738 111.7231,-82.942 111.7231,-74.2807\"/>\n",
       "<polygon fill=\"#000000\" stroke=\"#000000\" points=\"115.2232,-74.0842 111.7231,-64.0842 108.2232,-74.0842 115.2232,-74.0842\"/>\n",
       "</g>\n",
       "<!-- 7 -->\n",
       "<g id=\"node8\" class=\"node\">\n",
       "<title>7</title>\n",
       "<text text-anchor=\"middle\" x=\"157.7231\" y=\"-52.8\" font-family=\"Times,serif\" font-size=\"14.00\" fill=\"#000000\">&lt;term&gt;</text>\n",
       "</g>\n",
       "<!-- 1&#45;&gt;7 -->\n",
       "<g id=\"edge7\" class=\"edge\">\n",
       "<title>1&#45;&gt;7</title>\n",
       "<path fill=\"none\" stroke=\"#000000\" d=\"M118.5106,-99.6223C125.2458,-92.3014 135.755,-80.8785 144.199,-71.7001\"/>\n",
       "<polygon fill=\"#000000\" stroke=\"#000000\" points=\"147.0109,-73.8132 151.2057,-64.0842 141.8593,-69.0738 147.0109,-73.8132\"/>\n",
       "</g>\n",
       "<!-- 3 -->\n",
       "<g id=\"node4\" class=\"node\">\n",
       "<title>3</title>\n",
       "<text text-anchor=\"middle\" x=\"20.7231\" y=\"-2.8\" font-family=\"Times,serif\" font-size=\"14.00\" fill=\"#000000\">&lt;term&gt;</text>\n",
       "</g>\n",
       "<!-- 2&#45;&gt;3 -->\n",
       "<g id=\"edge3\" class=\"edge\">\n",
       "<title>2&#45;&gt;3</title>\n",
       "<path fill=\"none\" stroke=\"#000000\" d=\"M59.0832,-49.6223C52.4944,-42.3014 42.2138,-30.8785 33.9533,-21.7001\"/>\n",
       "<polygon fill=\"#000000\" stroke=\"#000000\" points=\"36.3901,-19.1758 27.0989,-14.0842 31.1871,-23.8585 36.3901,-19.1758\"/>\n",
       "</g>\n",
       "<!-- 4 -->\n",
       "<g id=\"node5\" class=\"node\">\n",
       "<title>4</title>\n",
       "<text text-anchor=\"middle\" x=\"65.7231\" y=\"-2.8\" font-family=\"Times,serif\" font-size=\"14.00\" fill=\"#000000\"> &#45; </text>\n",
       "</g>\n",
       "<!-- 2&#45;&gt;4 -->\n",
       "<g id=\"edge4\" class=\"edge\">\n",
       "<title>2&#45;&gt;4</title>\n",
       "<path fill=\"none\" stroke=\"#000000\" d=\"M65.7231,-49.6223C65.7231,-42.9738 65.7231,-32.942 65.7231,-24.2807\"/>\n",
       "<polygon fill=\"#000000\" stroke=\"#000000\" points=\"69.2232,-24.0842 65.7231,-14.0842 62.2232,-24.0842 69.2232,-24.0842\"/>\n",
       "</g>\n",
       "<!-- 5 -->\n",
       "<g id=\"node6\" class=\"node\">\n",
       "<title>5</title>\n",
       "<text text-anchor=\"middle\" x=\"109.7231\" y=\"-2.8\" font-family=\"Times,serif\" font-size=\"14.00\" fill=\"#000000\">&lt;expr&gt;</text>\n",
       "</g>\n",
       "<!-- 2&#45;&gt;5 -->\n",
       "<g id=\"edge5\" class=\"edge\">\n",
       "<title>2&#45;&gt;5</title>\n",
       "<path fill=\"none\" stroke=\"#000000\" d=\"M72.2155,-49.6223C78.6579,-42.3014 88.7101,-30.8785 96.787,-21.7001\"/>\n",
       "<polygon fill=\"#000000\" stroke=\"#000000\" points=\"99.5103,-23.9036 103.4891,-14.0842 94.2552,-19.2791 99.5103,-23.9036\"/>\n",
       "</g>\n",
       "</g>\n",
       "</svg>\n"
      ],
      "text/plain": [
       "<graphviz.dot.Digraph at 0x11e336710>"
      ]
     },
     "metadata": {},
     "output_type": "display_data"
    },
    {
     "name": "stdout",
     "output_type": "stream",
     "text": [
      "Expanding <term> at maximum cost\n"
     ]
    },
    {
     "data": {
      "image/svg+xml": [
       "<?xml version=\"1.0\" encoding=\"UTF-8\" standalone=\"no\"?>\n",
       "<!DOCTYPE svg PUBLIC \"-//W3C//DTD SVG 1.1//EN\"\n",
       " \"http://www.w3.org/Graphics/SVG/1.1/DTD/svg11.dtd\">\n",
       "<!-- Generated by graphviz version 2.40.1 (20161225.0304)\n",
       " -->\n",
       "<!-- Title: %3 Pages: 1 -->\n",
       "<svg width=\"238pt\" height=\"222pt\"\n",
       " viewBox=\"0.00 0.00 237.94 222.00\" xmlns=\"http://www.w3.org/2000/svg\" xmlns:xlink=\"http://www.w3.org/1999/xlink\">\n",
       "<g id=\"graph0\" class=\"graph\" transform=\"scale(1 1) rotate(0) translate(4 218)\">\n",
       "<title>%3</title>\n",
       "<polygon fill=\"#ffffff\" stroke=\"transparent\" points=\"-4,4 -4,-218 233.9395,-218 233.9395,4 -4,4\"/>\n",
       "<!-- 0 -->\n",
       "<g id=\"node1\" class=\"node\">\n",
       "<title>0</title>\n",
       "<text text-anchor=\"middle\" x=\"163.2163\" y=\"-202.8\" font-family=\"Times,serif\" font-size=\"14.00\" fill=\"#000000\">&lt;start&gt;</text>\n",
       "</g>\n",
       "<!-- 1 -->\n",
       "<g id=\"node2\" class=\"node\">\n",
       "<title>1</title>\n",
       "<text text-anchor=\"middle\" x=\"163.2163\" y=\"-152.8\" font-family=\"Times,serif\" font-size=\"14.00\" fill=\"#000000\">&lt;expr&gt;</text>\n",
       "</g>\n",
       "<!-- 0&#45;&gt;1 -->\n",
       "<g id=\"edge1\" class=\"edge\">\n",
       "<title>0&#45;&gt;1</title>\n",
       "<path fill=\"none\" stroke=\"#000000\" d=\"M163.2163,-199.6223C163.2163,-192.9738 163.2163,-182.942 163.2163,-174.2807\"/>\n",
       "<polygon fill=\"#000000\" stroke=\"#000000\" points=\"166.7164,-174.0842 163.2163,-164.0842 159.7164,-174.0842 166.7164,-174.0842\"/>\n",
       "</g>\n",
       "<!-- 2 -->\n",
       "<g id=\"node3\" class=\"node\">\n",
       "<title>2</title>\n",
       "<text text-anchor=\"middle\" x=\"117.2163\" y=\"-102.8\" font-family=\"Times,serif\" font-size=\"14.00\" fill=\"#000000\">&lt;expr&gt;</text>\n",
       "</g>\n",
       "<!-- 1&#45;&gt;2 -->\n",
       "<g id=\"edge2\" class=\"edge\">\n",
       "<title>1&#45;&gt;2</title>\n",
       "<path fill=\"none\" stroke=\"#000000\" d=\"M156.4289,-149.6223C149.6936,-142.3014 139.1845,-130.8785 130.7404,-121.7001\"/>\n",
       "<polygon fill=\"#000000\" stroke=\"#000000\" points=\"133.0801,-119.0738 123.7338,-114.0842 127.9286,-123.8132 133.0801,-119.0738\"/>\n",
       "</g>\n",
       "<!-- 9 -->\n",
       "<g id=\"node10\" class=\"node\">\n",
       "<title>9</title>\n",
       "<text text-anchor=\"middle\" x=\"163.2163\" y=\"-102.8\" font-family=\"Times,serif\" font-size=\"14.00\" fill=\"#000000\"> + </text>\n",
       "</g>\n",
       "<!-- 1&#45;&gt;9 -->\n",
       "<g id=\"edge9\" class=\"edge\">\n",
       "<title>1&#45;&gt;9</title>\n",
       "<path fill=\"none\" stroke=\"#000000\" d=\"M163.2163,-149.6223C163.2163,-142.9738 163.2163,-132.942 163.2163,-124.2807\"/>\n",
       "<polygon fill=\"#000000\" stroke=\"#000000\" points=\"166.7164,-124.0842 163.2163,-114.0842 159.7164,-124.0842 166.7164,-124.0842\"/>\n",
       "</g>\n",
       "<!-- 10 -->\n",
       "<g id=\"node11\" class=\"node\">\n",
       "<title>10</title>\n",
       "<text text-anchor=\"middle\" x=\"209.2163\" y=\"-102.8\" font-family=\"Times,serif\" font-size=\"14.00\" fill=\"#000000\">&lt;term&gt;</text>\n",
       "</g>\n",
       "<!-- 1&#45;&gt;10 -->\n",
       "<g id=\"edge10\" class=\"edge\">\n",
       "<title>1&#45;&gt;10</title>\n",
       "<path fill=\"none\" stroke=\"#000000\" d=\"M170.0038,-149.6223C176.739,-142.3014 187.2481,-130.8785 195.6922,-121.7001\"/>\n",
       "<polygon fill=\"#000000\" stroke=\"#000000\" points=\"198.504,-123.8132 202.6989,-114.0842 193.3525,-119.0738 198.504,-123.8132\"/>\n",
       "</g>\n",
       "<!-- 3 -->\n",
       "<g id=\"node4\" class=\"node\">\n",
       "<title>3</title>\n",
       "<text text-anchor=\"middle\" x=\"72.2163\" y=\"-52.8\" font-family=\"Times,serif\" font-size=\"14.00\" fill=\"#000000\">&lt;term&gt;</text>\n",
       "</g>\n",
       "<!-- 2&#45;&gt;3 -->\n",
       "<g id=\"edge3\" class=\"edge\">\n",
       "<title>2&#45;&gt;3</title>\n",
       "<path fill=\"none\" stroke=\"#000000\" d=\"M110.5764,-99.6223C103.9876,-92.3014 93.7069,-80.8785 85.4464,-71.7001\"/>\n",
       "<polygon fill=\"#000000\" stroke=\"#000000\" points=\"87.8833,-69.1758 78.5921,-64.0842 82.6802,-73.8585 87.8833,-69.1758\"/>\n",
       "</g>\n",
       "<!-- 7 -->\n",
       "<g id=\"node8\" class=\"node\">\n",
       "<title>7</title>\n",
       "<text text-anchor=\"middle\" x=\"117.2163\" y=\"-52.8\" font-family=\"Times,serif\" font-size=\"14.00\" fill=\"#000000\"> &#45; </text>\n",
       "</g>\n",
       "<!-- 2&#45;&gt;7 -->\n",
       "<g id=\"edge7\" class=\"edge\">\n",
       "<title>2&#45;&gt;7</title>\n",
       "<path fill=\"none\" stroke=\"#000000\" d=\"M117.2163,-99.6223C117.2163,-92.9738 117.2163,-82.942 117.2163,-74.2807\"/>\n",
       "<polygon fill=\"#000000\" stroke=\"#000000\" points=\"120.7164,-74.0842 117.2163,-64.0842 113.7164,-74.0842 120.7164,-74.0842\"/>\n",
       "</g>\n",
       "<!-- 8 -->\n",
       "<g id=\"node9\" class=\"node\">\n",
       "<title>8</title>\n",
       "<text text-anchor=\"middle\" x=\"161.2163\" y=\"-52.8\" font-family=\"Times,serif\" font-size=\"14.00\" fill=\"#000000\">&lt;expr&gt;</text>\n",
       "</g>\n",
       "<!-- 2&#45;&gt;8 -->\n",
       "<g id=\"edge8\" class=\"edge\">\n",
       "<title>2&#45;&gt;8</title>\n",
       "<path fill=\"none\" stroke=\"#000000\" d=\"M123.7087,-99.6223C130.151,-92.3014 140.2033,-80.8785 148.2802,-71.7001\"/>\n",
       "<polygon fill=\"#000000\" stroke=\"#000000\" points=\"151.0034,-73.9036 154.9822,-64.0842 145.7484,-69.2791 151.0034,-73.9036\"/>\n",
       "</g>\n",
       "<!-- 4 -->\n",
       "<g id=\"node5\" class=\"node\">\n",
       "<title>4</title>\n",
       "<text text-anchor=\"middle\" x=\"24.2163\" y=\"-2.8\" font-family=\"Times,serif\" font-size=\"14.00\" fill=\"#000000\">&lt;factor&gt;</text>\n",
       "</g>\n",
       "<!-- 3&#45;&gt;4 -->\n",
       "<g id=\"edge4\" class=\"edge\">\n",
       "<title>3&#45;&gt;4</title>\n",
       "<path fill=\"none\" stroke=\"#000000\" d=\"M65.1337,-49.6223C58.034,-42.2267 46.9154,-30.6449 38.0594,-21.4199\"/>\n",
       "<polygon fill=\"#000000\" stroke=\"#000000\" points=\"40.4673,-18.8742 31.0171,-14.0842 35.4176,-23.722 40.4673,-18.8742\"/>\n",
       "</g>\n",
       "<!-- 5 -->\n",
       "<g id=\"node6\" class=\"node\">\n",
       "<title>5</title>\n",
       "<text text-anchor=\"middle\" x=\"72.2163\" y=\"-2.8\" font-family=\"Times,serif\" font-size=\"14.00\" fill=\"#000000\"> / </text>\n",
       "</g>\n",
       "<!-- 3&#45;&gt;5 -->\n",
       "<g id=\"edge5\" class=\"edge\">\n",
       "<title>3&#45;&gt;5</title>\n",
       "<path fill=\"none\" stroke=\"#000000\" d=\"M72.2163,-49.6223C72.2163,-42.9738 72.2163,-32.942 72.2163,-24.2807\"/>\n",
       "<polygon fill=\"#000000\" stroke=\"#000000\" points=\"75.7164,-24.0842 72.2163,-14.0842 68.7164,-24.0842 75.7164,-24.0842\"/>\n",
       "</g>\n",
       "<!-- 6 -->\n",
       "<g id=\"node7\" class=\"node\">\n",
       "<title>6</title>\n",
       "<text text-anchor=\"middle\" x=\"116.2163\" y=\"-2.8\" font-family=\"Times,serif\" font-size=\"14.00\" fill=\"#000000\">&lt;term&gt;</text>\n",
       "</g>\n",
       "<!-- 3&#45;&gt;6 -->\n",
       "<g id=\"edge6\" class=\"edge\">\n",
       "<title>3&#45;&gt;6</title>\n",
       "<path fill=\"none\" stroke=\"#000000\" d=\"M78.7087,-49.6223C85.151,-42.3014 95.2033,-30.8785 103.2802,-21.7001\"/>\n",
       "<polygon fill=\"#000000\" stroke=\"#000000\" points=\"106.0034,-23.9036 109.9822,-14.0842 100.7484,-19.2791 106.0034,-23.9036\"/>\n",
       "</g>\n",
       "</g>\n",
       "</svg>\n"
      ],
      "text/plain": [
       "<graphviz.dot.Digraph at 0x11e336ba8>"
      ]
     },
     "metadata": {},
     "output_type": "display_data"
    }
   ],
   "source": [
    "derivation_tree = (\"<start>\",\n",
    "                   [(\"<expr>\",\n",
    "                     [(\"<expr>\", None),\n",
    "                      (\" + \", []),\n",
    "                         (\"<term>\", None)]\n",
    "                     )])\n",
    "\n",
    "f = GrammarFuzzer(EXPR_GRAMMAR, log=True)\n",
    "display_tree(derivation_tree)\n",
    "\n",
    "step = 1\n",
    "while step < 3 and f.any_possible_expansions(derivation_tree):\n",
    "    derivation_tree = f.expand_tree_once(derivation_tree)\n",
    "    display_tree(derivation_tree)\n",
    "    step += 1\n"
   ]
  },
  {
   "cell_type": "markdown",
   "metadata": {
    "slideshow": {
     "slide_type": "subslide"
    }
   },
   "source": [
    "We see that with each step, the number of nonterminals increases.  Obviously, we have to put a limit on this number."
   ]
  },
  {
   "cell_type": "markdown",
   "metadata": {
    "button": false,
    "new_sheet": false,
    "run_control": {
     "read_only": false
    },
    "slideshow": {
     "slide_type": "slide"
    }
   },
   "source": [
    "## Three Expansion Phases\n",
    "\n",
    "We can now put all three phases together in a single function `expand_tree()` which will work as follows:\n",
    "\n",
    "1. **Max cost expansion.** Expand the tree using expansions with maximum cost until we have at least `min_nonterminals` nonterminals.  This phase can be easily skipped by setting `min_nonterminals` to zero.\n",
    "2. **Random expansion.**  Keep on expanding the tree randomly until we reach `max_nonterminals` nonterminals.\n",
    "3. **Min cost expansion.** Close the expansion with minimum cost.\n",
    "\n",
    "We implement these three phases by having `expand_node` reference the expansion method to apply.  This is controlled by setting `expand_node` (the method reference) to first `expand_node_max_cost` (i.e., calling `expand_node()` invokes `expand_node_max_cost()`), then `expand_node_randomly`, and finally `expand_node_min_cost`.  In the first two phases, we also set a maximum limit of `min_nonterminals` and `max_nonterminals`, respectively."
   ]
  },
  {
   "cell_type": "code",
   "execution_count": 63,
   "metadata": {
    "button": false,
    "new_sheet": false,
    "run_control": {
     "read_only": false
    },
    "slideshow": {
     "slide_type": "subslide"
    }
   },
   "outputs": [],
   "source": [
    "class GrammarFuzzer(GrammarFuzzer):\n",
    "    def log_tree(self, tree):\n",
    "        \"\"\"Output a tree if self.log is set; if self.display is also set, show the tree structure\"\"\"\n",
    "        if self.log:\n",
    "            print(\"Tree:\", all_terminals(tree))\n",
    "            if self.disp:\n",
    "                display_tree(tree)\n",
    "            # print(self.possible_expansions(tree), \"possible expansion(s) left\")\n",
    "\n",
    "    def expand_tree_with_strategy(self, tree, expand_node_method, limit=None):\n",
    "        \"\"\"Expand tree using `expand_node_method` as node expansion function\n",
    "        until the number of possible expansions reaches `limit`.\"\"\"\n",
    "        self.expand_node = expand_node_method\n",
    "        while (limit is None or self.possible_expansions(tree)\n",
    "               < limit) and self.any_possible_expansions(tree):\n",
    "            tree = self.expand_tree_once(tree)\n",
    "            self.log_tree(tree)\n",
    "        return tree\n",
    "\n",
    "    def expand_tree(self, tree):\n",
    "        \"\"\"Expand `tree` in a three-phase strategy until all expansions are complete.\"\"\"\n",
    "        self.log_tree(tree)\n",
    "        tree = self.expand_tree_with_strategy(\n",
    "            tree, self.expand_node_max_cost, self.min_nonterminals)\n",
    "        tree = self.expand_tree_with_strategy(\n",
    "            tree, self.expand_node_randomly, self.max_nonterminals)\n",
    "        tree = self.expand_tree_with_strategy(tree, self.expand_node_min_cost)\n",
    "\n",
    "        assert self.possible_expansions(tree) == 0\n",
    "\n",
    "        return tree\n"
   ]
  },
  {
   "cell_type": "markdown",
   "metadata": {
    "slideshow": {
     "slide_type": "subslide"
    }
   },
   "source": [
    "Let us try this out on our example."
   ]
  },
  {
   "cell_type": "code",
   "execution_count": 64,
   "metadata": {
    "button": false,
    "new_sheet": false,
    "run_control": {
     "read_only": false
    },
    "slideshow": {
     "slide_type": "subslide"
    }
   },
   "outputs": [
    {
     "name": "stdout",
     "output_type": "stream",
     "text": [
      "Tree: <expr> + <term>\n",
      "Expanding <expr> at maximum cost\n",
      "Tree: <term> - <expr> + <term>\n",
      "Expanding <term> randomly\n",
      "Tree: <factor> * <term> - <expr> + <term>\n",
      "Expanding <term> randomly\n",
      "Tree: <factor> * <term> - <expr> + <factor> / <term>\n",
      "Expanding <expr> at minimum cost\n",
      "Tree: <factor> * <term> - <term> + <factor> / <term>\n",
      "Expanding <term> at minimum cost\n",
      "Tree: <factor> * <term> - <factor> + <factor> / <term>\n",
      "Expanding <factor> at minimum cost\n",
      "Tree: <integer> * <term> - <factor> + <factor> / <term>\n",
      "Expanding <integer> at minimum cost\n",
      "Tree: <digit> * <term> - <factor> + <factor> / <term>\n",
      "Expanding <factor> at minimum cost\n",
      "Tree: <digit> * <term> - <integer> + <factor> / <term>\n",
      "Expanding <factor> at minimum cost\n",
      "Tree: <digit> * <term> - <integer> + <integer> / <term>\n",
      "Expanding <term> at minimum cost\n",
      "Tree: <digit> * <factor> - <integer> + <integer> / <term>\n",
      "Expanding <factor> at minimum cost\n",
      "Tree: <digit> * <integer> - <integer> + <integer> / <term>\n",
      "Expanding <integer> at minimum cost\n",
      "Tree: <digit> * <integer> - <digit> + <integer> / <term>\n",
      "Expanding <digit> at minimum cost\n",
      "Tree: <digit> * <integer> - 1 + <integer> / <term>\n",
      "Expanding <term> at minimum cost\n",
      "Tree: <digit> * <integer> - 1 + <integer> / <factor>\n",
      "Expanding <factor> at minimum cost\n",
      "Tree: <digit> * <integer> - 1 + <integer> / <integer>\n",
      "Expanding <integer> at minimum cost\n",
      "Tree: <digit> * <integer> - 1 + <digit> / <integer>\n",
      "Expanding <digit> at minimum cost\n",
      "Tree: 2 * <integer> - 1 + <digit> / <integer>\n",
      "Expanding <integer> at minimum cost\n",
      "Tree: 2 * <digit> - 1 + <digit> / <integer>\n",
      "Expanding <digit> at minimum cost\n",
      "Tree: 2 * <digit> - 1 + 2 / <integer>\n",
      "Expanding <integer> at minimum cost\n",
      "Tree: 2 * <digit> - 1 + 2 / <digit>\n",
      "Expanding <digit> at minimum cost\n",
      "Tree: 2 * 3 - 1 + 2 / <digit>\n",
      "Expanding <digit> at minimum cost\n",
      "Tree: 2 * 3 - 1 + 2 / 3\n"
     ]
    },
    {
     "data": {
      "image/svg+xml": [
       "<?xml version=\"1.0\" encoding=\"UTF-8\" standalone=\"no\"?>\n",
       "<!DOCTYPE svg PUBLIC \"-//W3C//DTD SVG 1.1//EN\"\n",
       " \"http://www.w3.org/Graphics/SVG/1.1/DTD/svg11.dtd\">\n",
       "<!-- Generated by graphviz version 2.40.1 (20161225.0304)\n",
       " -->\n",
       "<!-- Title: %3 Pages: 1 -->\n",
       "<svg width=\"375pt\" height=\"422pt\"\n",
       " viewBox=\"0.00 0.00 374.66 422.00\" xmlns=\"http://www.w3.org/2000/svg\" xmlns:xlink=\"http://www.w3.org/1999/xlink\">\n",
       "<g id=\"graph0\" class=\"graph\" transform=\"scale(1 1) rotate(0) translate(4 418)\">\n",
       "<title>%3</title>\n",
       "<polygon fill=\"#ffffff\" stroke=\"transparent\" points=\"-4,4 -4,-418 370.6602,-418 370.6602,4 -4,4\"/>\n",
       "<!-- 0 -->\n",
       "<g id=\"node1\" class=\"node\">\n",
       "<title>0</title>\n",
       "<text text-anchor=\"middle\" x=\"216.3301\" y=\"-402.8\" font-family=\"Times,serif\" font-size=\"14.00\" fill=\"#000000\">&lt;start&gt;</text>\n",
       "</g>\n",
       "<!-- 1 -->\n",
       "<g id=\"node2\" class=\"node\">\n",
       "<title>1</title>\n",
       "<text text-anchor=\"middle\" x=\"216.3301\" y=\"-352.8\" font-family=\"Times,serif\" font-size=\"14.00\" fill=\"#000000\">&lt;expr&gt;</text>\n",
       "</g>\n",
       "<!-- 0&#45;&gt;1 -->\n",
       "<g id=\"edge1\" class=\"edge\">\n",
       "<title>0&#45;&gt;1</title>\n",
       "<path fill=\"none\" stroke=\"#000000\" d=\"M216.3301,-399.6223C216.3301,-392.9738 216.3301,-382.942 216.3301,-374.2807\"/>\n",
       "<polygon fill=\"#000000\" stroke=\"#000000\" points=\"219.8302,-374.0842 216.3301,-364.0842 212.8302,-374.0842 219.8302,-374.0842\"/>\n",
       "</g>\n",
       "<!-- 2 -->\n",
       "<g id=\"node3\" class=\"node\">\n",
       "<title>2</title>\n",
       "<text text-anchor=\"middle\" x=\"163.3301\" y=\"-302.8\" font-family=\"Times,serif\" font-size=\"14.00\" fill=\"#000000\">&lt;expr&gt;</text>\n",
       "</g>\n",
       "<!-- 1&#45;&gt;2 -->\n",
       "<g id=\"edge2\" class=\"edge\">\n",
       "<title>1&#45;&gt;2</title>\n",
       "<path fill=\"none\" stroke=\"#000000\" d=\"M208.5097,-349.6223C200.5912,-342.152 188.1452,-330.4105 178.3196,-321.1411\"/>\n",
       "<polygon fill=\"#000000\" stroke=\"#000000\" points=\"180.5151,-318.4005 170.8393,-314.0842 175.7115,-323.4923 180.5151,-318.4005\"/>\n",
       "</g>\n",
       "<!-- 21 -->\n",
       "<g id=\"node22\" class=\"node\">\n",
       "<title>21</title>\n",
       "<text text-anchor=\"middle\" x=\"216.3301\" y=\"-302.8\" font-family=\"Times,serif\" font-size=\"14.00\" fill=\"#000000\"> + </text>\n",
       "</g>\n",
       "<!-- 1&#45;&gt;21 -->\n",
       "<g id=\"edge21\" class=\"edge\">\n",
       "<title>1&#45;&gt;21</title>\n",
       "<path fill=\"none\" stroke=\"#000000\" d=\"M216.3301,-349.6223C216.3301,-342.9738 216.3301,-332.942 216.3301,-324.2807\"/>\n",
       "<polygon fill=\"#000000\" stroke=\"#000000\" points=\"219.8302,-324.0842 216.3301,-314.0842 212.8302,-324.0842 219.8302,-324.0842\"/>\n",
       "</g>\n",
       "<!-- 22 -->\n",
       "<g id=\"node23\" class=\"node\">\n",
       "<title>22</title>\n",
       "<text text-anchor=\"middle\" x=\"266.3301\" y=\"-302.8\" font-family=\"Times,serif\" font-size=\"14.00\" fill=\"#000000\">&lt;term&gt;</text>\n",
       "</g>\n",
       "<!-- 1&#45;&gt;22 -->\n",
       "<g id=\"edge22\" class=\"edge\">\n",
       "<title>1&#45;&gt;22</title>\n",
       "<path fill=\"none\" stroke=\"#000000\" d=\"M223.7078,-349.6223C231.1033,-342.2267 242.6852,-330.6449 251.9102,-321.4199\"/>\n",
       "<polygon fill=\"#000000\" stroke=\"#000000\" points=\"254.6497,-323.6302 259.2459,-314.0842 249.6999,-318.6804 254.6497,-323.6302\"/>\n",
       "</g>\n",
       "<!-- 3 -->\n",
       "<g id=\"node4\" class=\"node\">\n",
       "<title>3</title>\n",
       "<text text-anchor=\"middle\" x=\"86.3301\" y=\"-252.8\" font-family=\"Times,serif\" font-size=\"14.00\" fill=\"#000000\">&lt;term&gt;</text>\n",
       "</g>\n",
       "<!-- 2&#45;&gt;3 -->\n",
       "<g id=\"edge3\" class=\"edge\">\n",
       "<title>2&#45;&gt;3</title>\n",
       "<path fill=\"none\" stroke=\"#000000\" d=\"M152.2979,-299.8362C140.176,-291.9649 120.474,-279.1713 105.7523,-269.6118\"/>\n",
       "<polygon fill=\"#000000\" stroke=\"#000000\" points=\"107.6349,-266.6612 97.3418,-264.1505 103.8226,-272.532 107.6349,-266.6612\"/>\n",
       "</g>\n",
       "<!-- 14 -->\n",
       "<g id=\"node15\" class=\"node\">\n",
       "<title>14</title>\n",
       "<text text-anchor=\"middle\" x=\"139.3301\" y=\"-252.8\" font-family=\"Times,serif\" font-size=\"14.00\" fill=\"#000000\"> &#45; </text>\n",
       "</g>\n",
       "<!-- 2&#45;&gt;14 -->\n",
       "<g id=\"edge14\" class=\"edge\">\n",
       "<title>2&#45;&gt;14</title>\n",
       "<path fill=\"none\" stroke=\"#000000\" d=\"M159.7888,-299.6223C156.4541,-292.6749 151.3461,-282.0334 147.0685,-273.1217\"/>\n",
       "<polygon fill=\"#000000\" stroke=\"#000000\" points=\"150.2132,-271.5848 142.7305,-264.0842 143.9025,-274.614 150.2132,-271.5848\"/>\n",
       "</g>\n",
       "<!-- 15 -->\n",
       "<g id=\"node16\" class=\"node\">\n",
       "<title>15</title>\n",
       "<text text-anchor=\"middle\" x=\"183.3301\" y=\"-252.8\" font-family=\"Times,serif\" font-size=\"14.00\" fill=\"#000000\">&lt;expr&gt;</text>\n",
       "</g>\n",
       "<!-- 2&#45;&gt;15 -->\n",
       "<g id=\"edge15\" class=\"edge\">\n",
       "<title>2&#45;&gt;15</title>\n",
       "<path fill=\"none\" stroke=\"#000000\" d=\"M166.2811,-299.6223C169.0302,-292.7497 173.2254,-282.2618 176.7662,-273.4097\"/>\n",
       "<polygon fill=\"#000000\" stroke=\"#000000\" points=\"180.0321,-274.6689 180.4964,-264.0842 173.5328,-272.0691 180.0321,-274.6689\"/>\n",
       "</g>\n",
       "<!-- 4 -->\n",
       "<g id=\"node5\" class=\"node\">\n",
       "<title>4</title>\n",
       "<text text-anchor=\"middle\" x=\"27.3301\" y=\"-202.8\" font-family=\"Times,serif\" font-size=\"14.00\" fill=\"#000000\">&lt;factor&gt;</text>\n",
       "</g>\n",
       "<!-- 3&#45;&gt;4 -->\n",
       "<g id=\"edge4\" class=\"edge\">\n",
       "<title>3&#45;&gt;4</title>\n",
       "<path fill=\"none\" stroke=\"#000000\" d=\"M77.8768,-249.8362C68.9392,-242.2619 54.6233,-230.1299 43.5048,-220.7074\"/>\n",
       "<polygon fill=\"#000000\" stroke=\"#000000\" points=\"45.6595,-217.9456 35.7677,-214.1505 41.1338,-223.2859 45.6595,-217.9456\"/>\n",
       "</g>\n",
       "<!-- 8 -->\n",
       "<g id=\"node9\" class=\"node\">\n",
       "<title>8</title>\n",
       "<text text-anchor=\"middle\" x=\"76.3301\" y=\"-202.8\" font-family=\"Times,serif\" font-size=\"14.00\" fill=\"#000000\"> * </text>\n",
       "</g>\n",
       "<!-- 3&#45;&gt;8 -->\n",
       "<g id=\"edge8\" class=\"edge\">\n",
       "<title>3&#45;&gt;8</title>\n",
       "<path fill=\"none\" stroke=\"#000000\" d=\"M84.8545,-249.6223C83.5099,-242.8991 81.4733,-232.7161 79.7279,-223.9893\"/>\n",
       "<polygon fill=\"#000000\" stroke=\"#000000\" points=\"83.1402,-223.2036 77.7469,-214.0842 76.2761,-224.5764 83.1402,-223.2036\"/>\n",
       "</g>\n",
       "<!-- 9 -->\n",
       "<g id=\"node10\" class=\"node\">\n",
       "<title>9</title>\n",
       "<text text-anchor=\"middle\" x=\"122.3301\" y=\"-202.8\" font-family=\"Times,serif\" font-size=\"14.00\" fill=\"#000000\">&lt;term&gt;</text>\n",
       "</g>\n",
       "<!-- 3&#45;&gt;9 -->\n",
       "<g id=\"edge9\" class=\"edge\">\n",
       "<title>3&#45;&gt;9</title>\n",
       "<path fill=\"none\" stroke=\"#000000\" d=\"M91.642,-249.6223C96.8055,-242.4508 104.8031,-231.343 111.3394,-222.2648\"/>\n",
       "<polygon fill=\"#000000\" stroke=\"#000000\" points=\"114.2268,-224.2446 117.2295,-214.0842 108.546,-220.1545 114.2268,-224.2446\"/>\n",
       "</g>\n",
       "<!-- 5 -->\n",
       "<g id=\"node6\" class=\"node\">\n",
       "<title>5</title>\n",
       "<text text-anchor=\"middle\" x=\"27.3301\" y=\"-152.8\" font-family=\"Times,serif\" font-size=\"14.00\" fill=\"#000000\">&lt;integer&gt;</text>\n",
       "</g>\n",
       "<!-- 4&#45;&gt;5 -->\n",
       "<g id=\"edge5\" class=\"edge\">\n",
       "<title>4&#45;&gt;5</title>\n",
       "<path fill=\"none\" stroke=\"#000000\" d=\"M27.3301,-199.6223C27.3301,-192.9738 27.3301,-182.942 27.3301,-174.2807\"/>\n",
       "<polygon fill=\"#000000\" stroke=\"#000000\" points=\"30.8302,-174.0842 27.3301,-164.0842 23.8302,-174.0842 30.8302,-174.0842\"/>\n",
       "</g>\n",
       "<!-- 6 -->\n",
       "<g id=\"node7\" class=\"node\">\n",
       "<title>6</title>\n",
       "<text text-anchor=\"middle\" x=\"27.3301\" y=\"-102.8\" font-family=\"Times,serif\" font-size=\"14.00\" fill=\"#000000\">&lt;digit&gt;</text>\n",
       "</g>\n",
       "<!-- 5&#45;&gt;6 -->\n",
       "<g id=\"edge6\" class=\"edge\">\n",
       "<title>5&#45;&gt;6</title>\n",
       "<path fill=\"none\" stroke=\"#000000\" d=\"M27.3301,-149.6223C27.3301,-142.9738 27.3301,-132.942 27.3301,-124.2807\"/>\n",
       "<polygon fill=\"#000000\" stroke=\"#000000\" points=\"30.8302,-124.0842 27.3301,-114.0842 23.8302,-124.0842 30.8302,-124.0842\"/>\n",
       "</g>\n",
       "<!-- 7 -->\n",
       "<g id=\"node8\" class=\"node\">\n",
       "<title>7</title>\n",
       "<text text-anchor=\"middle\" x=\"27.3301\" y=\"-52.8\" font-family=\"Times,serif\" font-size=\"14.00\" fill=\"#000000\">2</text>\n",
       "</g>\n",
       "<!-- 6&#45;&gt;7 -->\n",
       "<g id=\"edge7\" class=\"edge\">\n",
       "<title>6&#45;&gt;7</title>\n",
       "<path fill=\"none\" stroke=\"#000000\" d=\"M27.3301,-99.6223C27.3301,-92.9738 27.3301,-82.942 27.3301,-74.2807\"/>\n",
       "<polygon fill=\"#000000\" stroke=\"#000000\" points=\"30.8302,-74.0842 27.3301,-64.0842 23.8302,-74.0842 30.8302,-74.0842\"/>\n",
       "</g>\n",
       "<!-- 10 -->\n",
       "<g id=\"node11\" class=\"node\">\n",
       "<title>10</title>\n",
       "<text text-anchor=\"middle\" x=\"116.3301\" y=\"-152.8\" font-family=\"Times,serif\" font-size=\"14.00\" fill=\"#000000\">&lt;factor&gt;</text>\n",
       "</g>\n",
       "<!-- 9&#45;&gt;10 -->\n",
       "<g id=\"edge10\" class=\"edge\">\n",
       "<title>9&#45;&gt;10</title>\n",
       "<path fill=\"none\" stroke=\"#000000\" d=\"M121.4448,-199.6223C120.6469,-192.9738 119.4431,-182.942 118.4038,-174.2807\"/>\n",
       "<polygon fill=\"#000000\" stroke=\"#000000\" points=\"121.8468,-173.5959 117.1802,-164.0842 114.8966,-174.43 121.8468,-173.5959\"/>\n",
       "</g>\n",
       "<!-- 11 -->\n",
       "<g id=\"node12\" class=\"node\">\n",
       "<title>11</title>\n",
       "<text text-anchor=\"middle\" x=\"114.3301\" y=\"-102.8\" font-family=\"Times,serif\" font-size=\"14.00\" fill=\"#000000\">&lt;integer&gt;</text>\n",
       "</g>\n",
       "<!-- 10&#45;&gt;11 -->\n",
       "<g id=\"edge11\" class=\"edge\">\n",
       "<title>10&#45;&gt;11</title>\n",
       "<path fill=\"none\" stroke=\"#000000\" d=\"M116.035,-149.6223C115.769,-142.9738 115.3678,-132.942 115.0213,-124.2807\"/>\n",
       "<polygon fill=\"#000000\" stroke=\"#000000\" points=\"118.5104,-123.9363 114.6134,-114.0842 111.516,-124.2161 118.5104,-123.9363\"/>\n",
       "</g>\n",
       "<!-- 12 -->\n",
       "<g id=\"node13\" class=\"node\">\n",
       "<title>12</title>\n",
       "<text text-anchor=\"middle\" x=\"114.3301\" y=\"-52.8\" font-family=\"Times,serif\" font-size=\"14.00\" fill=\"#000000\">&lt;digit&gt;</text>\n",
       "</g>\n",
       "<!-- 11&#45;&gt;12 -->\n",
       "<g id=\"edge12\" class=\"edge\">\n",
       "<title>11&#45;&gt;12</title>\n",
       "<path fill=\"none\" stroke=\"#000000\" d=\"M114.3301,-99.6223C114.3301,-92.9738 114.3301,-82.942 114.3301,-74.2807\"/>\n",
       "<polygon fill=\"#000000\" stroke=\"#000000\" points=\"117.8302,-74.0842 114.3301,-64.0842 110.8302,-74.0842 117.8302,-74.0842\"/>\n",
       "</g>\n",
       "<!-- 13 -->\n",
       "<g id=\"node14\" class=\"node\">\n",
       "<title>13</title>\n",
       "<text text-anchor=\"middle\" x=\"114.3301\" y=\"-2.8\" font-family=\"Times,serif\" font-size=\"14.00\" fill=\"#000000\">3</text>\n",
       "</g>\n",
       "<!-- 12&#45;&gt;13 -->\n",
       "<g id=\"edge13\" class=\"edge\">\n",
       "<title>12&#45;&gt;13</title>\n",
       "<path fill=\"none\" stroke=\"#000000\" d=\"M114.3301,-49.6223C114.3301,-42.9738 114.3301,-32.942 114.3301,-24.2807\"/>\n",
       "<polygon fill=\"#000000\" stroke=\"#000000\" points=\"117.8302,-24.0842 114.3301,-14.0842 110.8302,-24.0842 117.8302,-24.0842\"/>\n",
       "</g>\n",
       "<!-- 16 -->\n",
       "<g id=\"node17\" class=\"node\">\n",
       "<title>16</title>\n",
       "<text text-anchor=\"middle\" x=\"183.3301\" y=\"-202.8\" font-family=\"Times,serif\" font-size=\"14.00\" fill=\"#000000\">&lt;term&gt;</text>\n",
       "</g>\n",
       "<!-- 15&#45;&gt;16 -->\n",
       "<g id=\"edge16\" class=\"edge\">\n",
       "<title>15&#45;&gt;16</title>\n",
       "<path fill=\"none\" stroke=\"#000000\" d=\"M183.3301,-249.6223C183.3301,-242.9738 183.3301,-232.942 183.3301,-224.2807\"/>\n",
       "<polygon fill=\"#000000\" stroke=\"#000000\" points=\"186.8302,-224.0842 183.3301,-214.0842 179.8302,-224.0842 186.8302,-224.0842\"/>\n",
       "</g>\n",
       "<!-- 17 -->\n",
       "<g id=\"node18\" class=\"node\">\n",
       "<title>17</title>\n",
       "<text text-anchor=\"middle\" x=\"185.3301\" y=\"-152.8\" font-family=\"Times,serif\" font-size=\"14.00\" fill=\"#000000\">&lt;factor&gt;</text>\n",
       "</g>\n",
       "<!-- 16&#45;&gt;17 -->\n",
       "<g id=\"edge17\" class=\"edge\">\n",
       "<title>16&#45;&gt;17</title>\n",
       "<path fill=\"none\" stroke=\"#000000\" d=\"M183.6252,-199.6223C183.8911,-192.9738 184.2924,-182.942 184.6388,-174.2807\"/>\n",
       "<polygon fill=\"#000000\" stroke=\"#000000\" points=\"188.1441,-174.2161 185.0467,-164.0842 181.1497,-173.9363 188.1441,-174.2161\"/>\n",
       "</g>\n",
       "<!-- 18 -->\n",
       "<g id=\"node19\" class=\"node\">\n",
       "<title>18</title>\n",
       "<text text-anchor=\"middle\" x=\"187.3301\" y=\"-102.8\" font-family=\"Times,serif\" font-size=\"14.00\" fill=\"#000000\">&lt;integer&gt;</text>\n",
       "</g>\n",
       "<!-- 17&#45;&gt;18 -->\n",
       "<g id=\"edge18\" class=\"edge\">\n",
       "<title>17&#45;&gt;18</title>\n",
       "<path fill=\"none\" stroke=\"#000000\" d=\"M185.6252,-149.6223C185.8911,-142.9738 186.2924,-132.942 186.6388,-124.2807\"/>\n",
       "<polygon fill=\"#000000\" stroke=\"#000000\" points=\"190.1441,-124.2161 187.0467,-114.0842 183.1497,-123.9363 190.1441,-124.2161\"/>\n",
       "</g>\n",
       "<!-- 19 -->\n",
       "<g id=\"node20\" class=\"node\">\n",
       "<title>19</title>\n",
       "<text text-anchor=\"middle\" x=\"187.3301\" y=\"-52.8\" font-family=\"Times,serif\" font-size=\"14.00\" fill=\"#000000\">&lt;digit&gt;</text>\n",
       "</g>\n",
       "<!-- 18&#45;&gt;19 -->\n",
       "<g id=\"edge19\" class=\"edge\">\n",
       "<title>18&#45;&gt;19</title>\n",
       "<path fill=\"none\" stroke=\"#000000\" d=\"M187.3301,-99.6223C187.3301,-92.9738 187.3301,-82.942 187.3301,-74.2807\"/>\n",
       "<polygon fill=\"#000000\" stroke=\"#000000\" points=\"190.8302,-74.0842 187.3301,-64.0842 183.8302,-74.0842 190.8302,-74.0842\"/>\n",
       "</g>\n",
       "<!-- 20 -->\n",
       "<g id=\"node21\" class=\"node\">\n",
       "<title>20</title>\n",
       "<text text-anchor=\"middle\" x=\"187.3301\" y=\"-2.8\" font-family=\"Times,serif\" font-size=\"14.00\" fill=\"#000000\">1</text>\n",
       "</g>\n",
       "<!-- 19&#45;&gt;20 -->\n",
       "<g id=\"edge20\" class=\"edge\">\n",
       "<title>19&#45;&gt;20</title>\n",
       "<path fill=\"none\" stroke=\"#000000\" d=\"M187.3301,-49.6223C187.3301,-42.9738 187.3301,-32.942 187.3301,-24.2807\"/>\n",
       "<polygon fill=\"#000000\" stroke=\"#000000\" points=\"190.8302,-24.0842 187.3301,-14.0842 183.8302,-24.0842 190.8302,-24.0842\"/>\n",
       "</g>\n",
       "<!-- 23 -->\n",
       "<g id=\"node24\" class=\"node\">\n",
       "<title>23</title>\n",
       "<text text-anchor=\"middle\" x=\"247.3301\" y=\"-252.8\" font-family=\"Times,serif\" font-size=\"14.00\" fill=\"#000000\">&lt;factor&gt;</text>\n",
       "</g>\n",
       "<!-- 22&#45;&gt;23 -->\n",
       "<g id=\"edge23\" class=\"edge\">\n",
       "<title>22&#45;&gt;23</title>\n",
       "<path fill=\"none\" stroke=\"#000000\" d=\"M263.5266,-299.6223C260.9433,-292.8244 257.016,-282.4894 253.6757,-273.699\"/>\n",
       "<polygon fill=\"#000000\" stroke=\"#000000\" points=\"256.8461,-272.1887 250.0221,-264.0842 250.3026,-274.6753 256.8461,-272.1887\"/>\n",
       "</g>\n",
       "<!-- 27 -->\n",
       "<g id=\"node28\" class=\"node\">\n",
       "<title>27</title>\n",
       "<text text-anchor=\"middle\" x=\"295.3301\" y=\"-252.8\" font-family=\"Times,serif\" font-size=\"14.00\" fill=\"#000000\"> / </text>\n",
       "</g>\n",
       "<!-- 22&#45;&gt;27 -->\n",
       "<g id=\"edge27\" class=\"edge\">\n",
       "<title>22&#45;&gt;27</title>\n",
       "<path fill=\"none\" stroke=\"#000000\" d=\"M270.6091,-299.6223C274.6819,-292.6002 280.9437,-281.8041 286.1459,-272.8348\"/>\n",
       "<polygon fill=\"#000000\" stroke=\"#000000\" points=\"289.2316,-274.4905 291.2212,-264.0842 283.1764,-270.9785 289.2316,-274.4905\"/>\n",
       "</g>\n",
       "<!-- 28 -->\n",
       "<g id=\"node29\" class=\"node\">\n",
       "<title>28</title>\n",
       "<text text-anchor=\"middle\" x=\"339.3301\" y=\"-252.8\" font-family=\"Times,serif\" font-size=\"14.00\" fill=\"#000000\">&lt;term&gt;</text>\n",
       "</g>\n",
       "<!-- 22&#45;&gt;28 -->\n",
       "<g id=\"edge28\" class=\"edge\">\n",
       "<title>22&#45;&gt;28</title>\n",
       "<path fill=\"none\" stroke=\"#000000\" d=\"M276.7892,-299.8362C288.1729,-292.0392 306.6081,-279.4123 320.5206,-269.8832\"/>\n",
       "<polygon fill=\"#000000\" stroke=\"#000000\" points=\"322.6179,-272.689 328.8904,-264.1505 318.6622,-266.9138 322.6179,-272.689\"/>\n",
       "</g>\n",
       "<!-- 24 -->\n",
       "<g id=\"node25\" class=\"node\">\n",
       "<title>24</title>\n",
       "<text text-anchor=\"middle\" x=\"249.3301\" y=\"-202.8\" font-family=\"Times,serif\" font-size=\"14.00\" fill=\"#000000\">&lt;integer&gt;</text>\n",
       "</g>\n",
       "<!-- 23&#45;&gt;24 -->\n",
       "<g id=\"edge24\" class=\"edge\">\n",
       "<title>23&#45;&gt;24</title>\n",
       "<path fill=\"none\" stroke=\"#000000\" d=\"M247.6252,-249.6223C247.8911,-242.9738 248.2924,-232.942 248.6388,-224.2807\"/>\n",
       "<polygon fill=\"#000000\" stroke=\"#000000\" points=\"252.1441,-224.2161 249.0467,-214.0842 245.1497,-223.9363 252.1441,-224.2161\"/>\n",
       "</g>\n",
       "<!-- 25 -->\n",
       "<g id=\"node26\" class=\"node\">\n",
       "<title>25</title>\n",
       "<text text-anchor=\"middle\" x=\"249.3301\" y=\"-152.8\" font-family=\"Times,serif\" font-size=\"14.00\" fill=\"#000000\">&lt;digit&gt;</text>\n",
       "</g>\n",
       "<!-- 24&#45;&gt;25 -->\n",
       "<g id=\"edge25\" class=\"edge\">\n",
       "<title>24&#45;&gt;25</title>\n",
       "<path fill=\"none\" stroke=\"#000000\" d=\"M249.3301,-199.6223C249.3301,-192.9738 249.3301,-182.942 249.3301,-174.2807\"/>\n",
       "<polygon fill=\"#000000\" stroke=\"#000000\" points=\"252.8302,-174.0842 249.3301,-164.0842 245.8302,-174.0842 252.8302,-174.0842\"/>\n",
       "</g>\n",
       "<!-- 26 -->\n",
       "<g id=\"node27\" class=\"node\">\n",
       "<title>26</title>\n",
       "<text text-anchor=\"middle\" x=\"249.3301\" y=\"-102.8\" font-family=\"Times,serif\" font-size=\"14.00\" fill=\"#000000\">2</text>\n",
       "</g>\n",
       "<!-- 25&#45;&gt;26 -->\n",
       "<g id=\"edge26\" class=\"edge\">\n",
       "<title>25&#45;&gt;26</title>\n",
       "<path fill=\"none\" stroke=\"#000000\" d=\"M249.3301,-149.6223C249.3301,-142.9738 249.3301,-132.942 249.3301,-124.2807\"/>\n",
       "<polygon fill=\"#000000\" stroke=\"#000000\" points=\"252.8302,-124.0842 249.3301,-114.0842 245.8302,-124.0842 252.8302,-124.0842\"/>\n",
       "</g>\n",
       "<!-- 29 -->\n",
       "<g id=\"node30\" class=\"node\">\n",
       "<title>29</title>\n",
       "<text text-anchor=\"middle\" x=\"339.3301\" y=\"-202.8\" font-family=\"Times,serif\" font-size=\"14.00\" fill=\"#000000\">&lt;factor&gt;</text>\n",
       "</g>\n",
       "<!-- 28&#45;&gt;29 -->\n",
       "<g id=\"edge29\" class=\"edge\">\n",
       "<title>28&#45;&gt;29</title>\n",
       "<path fill=\"none\" stroke=\"#000000\" d=\"M339.3301,-249.6223C339.3301,-242.9738 339.3301,-232.942 339.3301,-224.2807\"/>\n",
       "<polygon fill=\"#000000\" stroke=\"#000000\" points=\"342.8302,-224.0842 339.3301,-214.0842 335.8302,-224.0842 342.8302,-224.0842\"/>\n",
       "</g>\n",
       "<!-- 30 -->\n",
       "<g id=\"node31\" class=\"node\">\n",
       "<title>30</title>\n",
       "<text text-anchor=\"middle\" x=\"339.3301\" y=\"-152.8\" font-family=\"Times,serif\" font-size=\"14.00\" fill=\"#000000\">&lt;integer&gt;</text>\n",
       "</g>\n",
       "<!-- 29&#45;&gt;30 -->\n",
       "<g id=\"edge30\" class=\"edge\">\n",
       "<title>29&#45;&gt;30</title>\n",
       "<path fill=\"none\" stroke=\"#000000\" d=\"M339.3301,-199.6223C339.3301,-192.9738 339.3301,-182.942 339.3301,-174.2807\"/>\n",
       "<polygon fill=\"#000000\" stroke=\"#000000\" points=\"342.8302,-174.0842 339.3301,-164.0842 335.8302,-174.0842 342.8302,-174.0842\"/>\n",
       "</g>\n",
       "<!-- 31 -->\n",
       "<g id=\"node32\" class=\"node\">\n",
       "<title>31</title>\n",
       "<text text-anchor=\"middle\" x=\"339.3301\" y=\"-102.8\" font-family=\"Times,serif\" font-size=\"14.00\" fill=\"#000000\">&lt;digit&gt;</text>\n",
       "</g>\n",
       "<!-- 30&#45;&gt;31 -->\n",
       "<g id=\"edge31\" class=\"edge\">\n",
       "<title>30&#45;&gt;31</title>\n",
       "<path fill=\"none\" stroke=\"#000000\" d=\"M339.3301,-149.6223C339.3301,-142.9738 339.3301,-132.942 339.3301,-124.2807\"/>\n",
       "<polygon fill=\"#000000\" stroke=\"#000000\" points=\"342.8302,-124.0842 339.3301,-114.0842 335.8302,-124.0842 342.8302,-124.0842\"/>\n",
       "</g>\n",
       "<!-- 32 -->\n",
       "<g id=\"node33\" class=\"node\">\n",
       "<title>32</title>\n",
       "<text text-anchor=\"middle\" x=\"339.3301\" y=\"-52.8\" font-family=\"Times,serif\" font-size=\"14.00\" fill=\"#000000\">3</text>\n",
       "</g>\n",
       "<!-- 31&#45;&gt;32 -->\n",
       "<g id=\"edge32\" class=\"edge\">\n",
       "<title>31&#45;&gt;32</title>\n",
       "<path fill=\"none\" stroke=\"#000000\" d=\"M339.3301,-99.6223C339.3301,-92.9738 339.3301,-82.942 339.3301,-74.2807\"/>\n",
       "<polygon fill=\"#000000\" stroke=\"#000000\" points=\"342.8302,-74.0842 339.3301,-64.0842 335.8302,-74.0842 342.8302,-74.0842\"/>\n",
       "</g>\n",
       "</g>\n",
       "</svg>\n"
      ],
      "text/plain": [
       "<graphviz.dot.Digraph at 0x11e3362b0>"
      ]
     },
     "metadata": {},
     "output_type": "display_data"
    }
   ],
   "source": [
    "derivation_tree = (\"<start>\",\n",
    "                   [(\"<expr>\",\n",
    "                     [(\"<expr>\", None),\n",
    "                      (\" + \", []),\n",
    "                         (\"<term>\", None)]\n",
    "                     )])\n",
    "\n",
    "f = GrammarFuzzer(\n",
    "    EXPR_GRAMMAR,\n",
    "    min_nonterminals=3,\n",
    "    max_nonterminals=5,\n",
    "    log=True)\n",
    "derivation_tree = f.expand_tree(derivation_tree)\n",
    "display_tree(derivation_tree)\n"
   ]
  },
  {
   "cell_type": "code",
   "execution_count": 65,
   "metadata": {
    "button": false,
    "new_sheet": false,
    "run_control": {
     "read_only": false
    },
    "slideshow": {
     "slide_type": "subslide"
    }
   },
   "outputs": [
    {
     "data": {
      "text/plain": [
       "'2 * 3 - 1 + 2 / 3'"
      ]
     },
     "execution_count": 65,
     "metadata": {},
     "output_type": "execute_result"
    }
   ],
   "source": [
    "all_terminals(derivation_tree)"
   ]
  },
  {
   "cell_type": "markdown",
   "metadata": {
    "slideshow": {
     "slide_type": "slide"
    }
   },
   "source": [
    "## Putting it all Together"
   ]
  },
  {
   "cell_type": "markdown",
   "metadata": {
    "button": false,
    "new_sheet": false,
    "run_control": {
     "read_only": false
    },
    "slideshow": {
     "slide_type": "fragment"
    }
   },
   "source": [
    "Based on this, we can now define a function `fuzz()` that – like `simple_grammar_fuzzer()` – simply takes a grammar and produces a string from it.  It thus no longer exposes the complexity of derivation trees."
   ]
  },
  {
   "cell_type": "code",
   "execution_count": 66,
   "metadata": {
    "button": false,
    "new_sheet": false,
    "run_control": {
     "read_only": false
    },
    "slideshow": {
     "slide_type": "subslide"
    }
   },
   "outputs": [],
   "source": [
    "class GrammarFuzzer(GrammarFuzzer):\n",
    "    def fuzz_tree(self):\n",
    "        # Create an initial derivation tree\n",
    "        tree = self.init_tree()\n",
    "        # print(tree)\n",
    "\n",
    "        # Expand all nonterminals\n",
    "        tree = self.expand_tree(tree)\n",
    "        if self.log:\n",
    "            print(repr(all_terminals(tree)))\n",
    "        if self.disp:\n",
    "            display_tree(tree)\n",
    "        return tree\n",
    "\n",
    "    def fuzz(self):\n",
    "        self.derivation_tree = self.fuzz_tree()\n",
    "        return all_terminals(self.derivation_tree)"
   ]
  },
  {
   "cell_type": "markdown",
   "metadata": {
    "button": false,
    "new_sheet": false,
    "run_control": {
     "read_only": false
    },
    "slideshow": {
     "slide_type": "subslide"
    }
   },
   "source": [
    "We can now apply this on all our defined grammars (and visualize the derivation tree along)"
   ]
  },
  {
   "cell_type": "code",
   "execution_count": 67,
   "metadata": {
    "button": false,
    "new_sheet": false,
    "run_control": {
     "read_only": false
    },
    "slideshow": {
     "slide_type": "fragment"
    }
   },
   "outputs": [
    {
     "data": {
      "text/plain": [
       "'766 * 527.9 / 96.552 * 896'"
      ]
     },
     "execution_count": 67,
     "metadata": {},
     "output_type": "execute_result"
    }
   ],
   "source": [
    "f = GrammarFuzzer(EXPR_GRAMMAR)\n",
    "f.fuzz()"
   ]
  },
  {
   "cell_type": "markdown",
   "metadata": {
    "slideshow": {
     "slide_type": "fragment"
    }
   },
   "source": [
    "After calling `fuzz()`, the produced derivation tree is accessible in the `derivation_tree` attribute:"
   ]
  },
  {
   "cell_type": "code",
   "execution_count": 68,
   "metadata": {
    "button": false,
    "new_sheet": false,
    "run_control": {
     "read_only": false
    },
    "slideshow": {
     "slide_type": "fragment"
    }
   },
   "outputs": [
    {
     "data": {
      "image/svg+xml": [
       "<?xml version=\"1.0\" encoding=\"UTF-8\" standalone=\"no\"?>\n",
       "<!DOCTYPE svg PUBLIC \"-//W3C//DTD SVG 1.1//EN\"\n",
       " \"http://www.w3.org/Graphics/SVG/1.1/DTD/svg11.dtd\">\n",
       "<!-- Generated by graphviz version 2.40.1 (20161225.0304)\n",
       " -->\n",
       "<!-- Title: %3 Pages: 1 -->\n",
       "<svg width=\"820pt\" height=\"572pt\"\n",
       " viewBox=\"0.00 0.00 820.06 572.00\" xmlns=\"http://www.w3.org/2000/svg\" xmlns:xlink=\"http://www.w3.org/1999/xlink\">\n",
       "<g id=\"graph0\" class=\"graph\" transform=\"scale(1 1) rotate(0) translate(4 568)\">\n",
       "<title>%3</title>\n",
       "<polygon fill=\"#ffffff\" stroke=\"transparent\" points=\"-4,4 -4,-568 816.0601,-568 816.0601,4 -4,4\"/>\n",
       "<!-- 0 -->\n",
       "<g id=\"node1\" class=\"node\">\n",
       "<title>0</title>\n",
       "<text text-anchor=\"middle\" x=\"242.73\" y=\"-552.8\" font-family=\"Times,serif\" font-size=\"14.00\" fill=\"#000000\">&lt;start&gt;</text>\n",
       "</g>\n",
       "<!-- 1 -->\n",
       "<g id=\"node2\" class=\"node\">\n",
       "<title>1</title>\n",
       "<text text-anchor=\"middle\" x=\"242.73\" y=\"-502.8\" font-family=\"Times,serif\" font-size=\"14.00\" fill=\"#000000\">&lt;expr&gt;</text>\n",
       "</g>\n",
       "<!-- 0&#45;&gt;1 -->\n",
       "<g id=\"edge1\" class=\"edge\">\n",
       "<title>0&#45;&gt;1</title>\n",
       "<path fill=\"none\" stroke=\"#000000\" d=\"M242.73,-549.6223C242.73,-542.9738 242.73,-532.942 242.73,-524.2807\"/>\n",
       "<polygon fill=\"#000000\" stroke=\"#000000\" points=\"246.2301,-524.0842 242.73,-514.0842 239.2301,-524.0842 246.2301,-524.0842\"/>\n",
       "</g>\n",
       "<!-- 2 -->\n",
       "<g id=\"node3\" class=\"node\">\n",
       "<title>2</title>\n",
       "<text text-anchor=\"middle\" x=\"242.73\" y=\"-452.8\" font-family=\"Times,serif\" font-size=\"14.00\" fill=\"#000000\">&lt;term&gt;</text>\n",
       "</g>\n",
       "<!-- 1&#45;&gt;2 -->\n",
       "<g id=\"edge2\" class=\"edge\">\n",
       "<title>1&#45;&gt;2</title>\n",
       "<path fill=\"none\" stroke=\"#000000\" d=\"M242.73,-499.6223C242.73,-492.9738 242.73,-482.942 242.73,-474.2807\"/>\n",
       "<polygon fill=\"#000000\" stroke=\"#000000\" points=\"246.2301,-474.0842 242.73,-464.0842 239.2301,-474.0842 246.2301,-474.0842\"/>\n",
       "</g>\n",
       "<!-- 3 -->\n",
       "<g id=\"node4\" class=\"node\">\n",
       "<title>3</title>\n",
       "<text text-anchor=\"middle\" x=\"159.73\" y=\"-402.8\" font-family=\"Times,serif\" font-size=\"14.00\" fill=\"#000000\">&lt;factor&gt;</text>\n",
       "</g>\n",
       "<!-- 2&#45;&gt;3 -->\n",
       "<g id=\"edge3\" class=\"edge\">\n",
       "<title>2&#45;&gt;3</title>\n",
       "<path fill=\"none\" stroke=\"#000000\" d=\"M230.8381,-449.8362C217.6484,-441.8906 196.133,-428.9295 180.2179,-419.3421\"/>\n",
       "<polygon fill=\"#000000\" stroke=\"#000000\" points=\"181.9717,-416.3126 171.5998,-414.1505 178.3596,-422.3087 181.9717,-416.3126\"/>\n",
       "</g>\n",
       "<!-- 13 -->\n",
       "<g id=\"node14\" class=\"node\">\n",
       "<title>13</title>\n",
       "<text text-anchor=\"middle\" x=\"242.73\" y=\"-402.8\" font-family=\"Times,serif\" font-size=\"14.00\" fill=\"#000000\"> * </text>\n",
       "</g>\n",
       "<!-- 2&#45;&gt;13 -->\n",
       "<g id=\"edge13\" class=\"edge\">\n",
       "<title>2&#45;&gt;13</title>\n",
       "<path fill=\"none\" stroke=\"#000000\" d=\"M242.73,-449.6223C242.73,-442.9738 242.73,-432.942 242.73,-424.2807\"/>\n",
       "<polygon fill=\"#000000\" stroke=\"#000000\" points=\"246.2301,-424.0842 242.73,-414.0842 239.2301,-424.0842 246.2301,-424.0842\"/>\n",
       "</g>\n",
       "<!-- 14 -->\n",
       "<g id=\"node15\" class=\"node\">\n",
       "<title>14</title>\n",
       "<text text-anchor=\"middle\" x=\"305.73\" y=\"-402.8\" font-family=\"Times,serif\" font-size=\"14.00\" fill=\"#000000\">&lt;term&gt;</text>\n",
       "</g>\n",
       "<!-- 2&#45;&gt;14 -->\n",
       "<g id=\"edge14\" class=\"edge\">\n",
       "<title>2&#45;&gt;14</title>\n",
       "<path fill=\"none\" stroke=\"#000000\" d=\"M251.7563,-449.8362C261.3935,-442.1877 276.8866,-429.8916 288.8068,-420.4311\"/>\n",
       "<polygon fill=\"#000000\" stroke=\"#000000\" points=\"291.0633,-423.1086 296.7204,-414.1505 286.7116,-417.6256 291.0633,-423.1086\"/>\n",
       "</g>\n",
       "<!-- 4 -->\n",
       "<g id=\"node5\" class=\"node\">\n",
       "<title>4</title>\n",
       "<text text-anchor=\"middle\" x=\"107.73\" y=\"-352.8\" font-family=\"Times,serif\" font-size=\"14.00\" fill=\"#000000\">&lt;integer&gt;</text>\n",
       "</g>\n",
       "<!-- 3&#45;&gt;4 -->\n",
       "<g id=\"edge4\" class=\"edge\">\n",
       "<title>3&#45;&gt;4</title>\n",
       "<path fill=\"none\" stroke=\"#000000\" d=\"M152.0572,-399.6223C144.2881,-392.152 132.0769,-380.4105 122.4367,-371.1411\"/>\n",
       "<polygon fill=\"#000000\" stroke=\"#000000\" points=\"124.7318,-368.4924 115.0975,-364.0842 119.88,-373.5382 124.7318,-368.4924\"/>\n",
       "</g>\n",
       "<!-- 5 -->\n",
       "<g id=\"node6\" class=\"node\">\n",
       "<title>5</title>\n",
       "<text text-anchor=\"middle\" x=\"20.73\" y=\"-302.8\" font-family=\"Times,serif\" font-size=\"14.00\" fill=\"#000000\">&lt;digit&gt;</text>\n",
       "</g>\n",
       "<!-- 4&#45;&gt;5 -->\n",
       "<g id=\"edge5\" class=\"edge\">\n",
       "<title>4&#45;&gt;5</title>\n",
       "<path fill=\"none\" stroke=\"#000000\" d=\"M95.265,-349.8362C81.4397,-341.8906 58.8874,-328.9295 42.2053,-319.3421\"/>\n",
       "<polygon fill=\"#000000\" stroke=\"#000000\" points=\"43.586,-316.0988 33.1718,-314.1505 40.098,-322.1679 43.586,-316.0988\"/>\n",
       "</g>\n",
       "<!-- 7 -->\n",
       "<g id=\"node8\" class=\"node\">\n",
       "<title>7</title>\n",
       "<text text-anchor=\"middle\" x=\"107.73\" y=\"-302.8\" font-family=\"Times,serif\" font-size=\"14.00\" fill=\"#000000\">&lt;integer&gt;</text>\n",
       "</g>\n",
       "<!-- 4&#45;&gt;7 -->\n",
       "<g id=\"edge7\" class=\"edge\">\n",
       "<title>4&#45;&gt;7</title>\n",
       "<path fill=\"none\" stroke=\"#000000\" d=\"M107.73,-349.6223C107.73,-342.9738 107.73,-332.942 107.73,-324.2807\"/>\n",
       "<polygon fill=\"#000000\" stroke=\"#000000\" points=\"111.2301,-324.0842 107.73,-314.0842 104.2301,-324.0842 111.2301,-324.0842\"/>\n",
       "</g>\n",
       "<!-- 6 -->\n",
       "<g id=\"node7\" class=\"node\">\n",
       "<title>6</title>\n",
       "<text text-anchor=\"middle\" x=\"9.73\" y=\"-252.8\" font-family=\"Times,serif\" font-size=\"14.00\" fill=\"#000000\">7</text>\n",
       "</g>\n",
       "<!-- 5&#45;&gt;6 -->\n",
       "<g id=\"edge6\" class=\"edge\">\n",
       "<title>5&#45;&gt;6</title>\n",
       "<path fill=\"none\" stroke=\"#000000\" d=\"M19.1069,-299.6223C17.6278,-292.8991 15.3875,-282.7161 13.4676,-273.9893\"/>\n",
       "<polygon fill=\"#000000\" stroke=\"#000000\" points=\"16.8555,-273.0986 11.2885,-264.0842 10.0189,-274.6027 16.8555,-273.0986\"/>\n",
       "</g>\n",
       "<!-- 8 -->\n",
       "<g id=\"node9\" class=\"node\">\n",
       "<title>8</title>\n",
       "<text text-anchor=\"middle\" x=\"51.73\" y=\"-252.8\" font-family=\"Times,serif\" font-size=\"14.00\" fill=\"#000000\">&lt;digit&gt;</text>\n",
       "</g>\n",
       "<!-- 7&#45;&gt;8 -->\n",
       "<g id=\"edge8\" class=\"edge\">\n",
       "<title>7&#45;&gt;8</title>\n",
       "<path fill=\"none\" stroke=\"#000000\" d=\"M99.467,-299.6223C91.0166,-292.0773 77.6863,-280.1752 67.2573,-270.8637\"/>\n",
       "<polygon fill=\"#000000\" stroke=\"#000000\" points=\"69.4547,-268.1336 59.6643,-264.0842 64.7926,-273.3552 69.4547,-268.1336\"/>\n",
       "</g>\n",
       "<!-- 10 -->\n",
       "<g id=\"node11\" class=\"node\">\n",
       "<title>10</title>\n",
       "<text text-anchor=\"middle\" x=\"117.73\" y=\"-252.8\" font-family=\"Times,serif\" font-size=\"14.00\" fill=\"#000000\">&lt;integer&gt;</text>\n",
       "</g>\n",
       "<!-- 7&#45;&gt;10 -->\n",
       "<g id=\"edge10\" class=\"edge\">\n",
       "<title>7&#45;&gt;10</title>\n",
       "<path fill=\"none\" stroke=\"#000000\" d=\"M109.2055,-299.6223C110.5502,-292.8991 112.5868,-282.7161 114.3321,-273.9893\"/>\n",
       "<polygon fill=\"#000000\" stroke=\"#000000\" points=\"117.7839,-274.5764 116.3131,-264.0842 110.9199,-273.2036 117.7839,-274.5764\"/>\n",
       "</g>\n",
       "<!-- 9 -->\n",
       "<g id=\"node10\" class=\"node\">\n",
       "<title>9</title>\n",
       "<text text-anchor=\"middle\" x=\"51.73\" y=\"-202.8\" font-family=\"Times,serif\" font-size=\"14.00\" fill=\"#000000\">6</text>\n",
       "</g>\n",
       "<!-- 8&#45;&gt;9 -->\n",
       "<g id=\"edge9\" class=\"edge\">\n",
       "<title>8&#45;&gt;9</title>\n",
       "<path fill=\"none\" stroke=\"#000000\" d=\"M51.73,-249.6223C51.73,-242.9738 51.73,-232.942 51.73,-224.2807\"/>\n",
       "<polygon fill=\"#000000\" stroke=\"#000000\" points=\"55.2301,-224.0842 51.73,-214.0842 48.2301,-224.0842 55.2301,-224.0842\"/>\n",
       "</g>\n",
       "<!-- 11 -->\n",
       "<g id=\"node12\" class=\"node\">\n",
       "<title>11</title>\n",
       "<text text-anchor=\"middle\" x=\"117.73\" y=\"-202.8\" font-family=\"Times,serif\" font-size=\"14.00\" fill=\"#000000\">&lt;digit&gt;</text>\n",
       "</g>\n",
       "<!-- 10&#45;&gt;11 -->\n",
       "<g id=\"edge11\" class=\"edge\">\n",
       "<title>10&#45;&gt;11</title>\n",
       "<path fill=\"none\" stroke=\"#000000\" d=\"M117.73,-249.6223C117.73,-242.9738 117.73,-232.942 117.73,-224.2807\"/>\n",
       "<polygon fill=\"#000000\" stroke=\"#000000\" points=\"121.2301,-224.0842 117.73,-214.0842 114.2301,-224.0842 121.2301,-224.0842\"/>\n",
       "</g>\n",
       "<!-- 12 -->\n",
       "<g id=\"node13\" class=\"node\">\n",
       "<title>12</title>\n",
       "<text text-anchor=\"middle\" x=\"117.73\" y=\"-152.8\" font-family=\"Times,serif\" font-size=\"14.00\" fill=\"#000000\">6</text>\n",
       "</g>\n",
       "<!-- 11&#45;&gt;12 -->\n",
       "<g id=\"edge12\" class=\"edge\">\n",
       "<title>11&#45;&gt;12</title>\n",
       "<path fill=\"none\" stroke=\"#000000\" d=\"M117.73,-199.6223C117.73,-192.9738 117.73,-182.942 117.73,-174.2807\"/>\n",
       "<polygon fill=\"#000000\" stroke=\"#000000\" points=\"121.2301,-174.0842 117.73,-164.0842 114.2301,-174.0842 121.2301,-174.0842\"/>\n",
       "</g>\n",
       "<!-- 15 -->\n",
       "<g id=\"node16\" class=\"node\">\n",
       "<title>15</title>\n",
       "<text text-anchor=\"middle\" x=\"281.73\" y=\"-352.8\" font-family=\"Times,serif\" font-size=\"14.00\" fill=\"#000000\">&lt;factor&gt;</text>\n",
       "</g>\n",
       "<!-- 14&#45;&gt;15 -->\n",
       "<g id=\"edge15\" class=\"edge\">\n",
       "<title>14&#45;&gt;15</title>\n",
       "<path fill=\"none\" stroke=\"#000000\" d=\"M302.1887,-399.6223C298.854,-392.6749 293.746,-382.0334 289.4684,-373.1217\"/>\n",
       "<polygon fill=\"#000000\" stroke=\"#000000\" points=\"292.6131,-371.5848 285.1304,-364.0842 286.3024,-374.614 292.6131,-371.5848\"/>\n",
       "</g>\n",
       "<!-- 29 -->\n",
       "<g id=\"node30\" class=\"node\">\n",
       "<title>29</title>\n",
       "<text text-anchor=\"middle\" x=\"329.73\" y=\"-352.8\" font-family=\"Times,serif\" font-size=\"14.00\" fill=\"#000000\"> / </text>\n",
       "</g>\n",
       "<!-- 14&#45;&gt;29 -->\n",
       "<g id=\"edge29\" class=\"edge\">\n",
       "<title>14&#45;&gt;29</title>\n",
       "<path fill=\"none\" stroke=\"#000000\" d=\"M309.2713,-399.6223C312.606,-392.6749 317.714,-382.0334 321.9916,-373.1217\"/>\n",
       "<polygon fill=\"#000000\" stroke=\"#000000\" points=\"325.1575,-374.614 326.3296,-364.0842 318.8469,-371.5848 325.1575,-374.614\"/>\n",
       "</g>\n",
       "<!-- 30 -->\n",
       "<g id=\"node31\" class=\"node\">\n",
       "<title>30</title>\n",
       "<text text-anchor=\"middle\" x=\"493.73\" y=\"-352.8\" font-family=\"Times,serif\" font-size=\"14.00\" fill=\"#000000\">&lt;term&gt;</text>\n",
       "</g>\n",
       "<!-- 14&#45;&gt;30 -->\n",
       "<g id=\"edge30\" class=\"edge\">\n",
       "<title>14&#45;&gt;30</title>\n",
       "<path fill=\"none\" stroke=\"#000000\" d=\"M326.5676,-401.4581C359.5995,-392.673 424.1754,-375.4986 462.6785,-365.2584\"/>\n",
       "<polygon fill=\"#000000\" stroke=\"#000000\" points=\"464.0346,-368.5195 472.7991,-362.5667 462.2354,-361.7546 464.0346,-368.5195\"/>\n",
       "</g>\n",
       "<!-- 16 -->\n",
       "<g id=\"node17\" class=\"node\">\n",
       "<title>16</title>\n",
       "<text text-anchor=\"middle\" x=\"234.73\" y=\"-302.8\" font-family=\"Times,serif\" font-size=\"14.00\" fill=\"#000000\">&lt;integer&gt;</text>\n",
       "</g>\n",
       "<!-- 15&#45;&gt;16 -->\n",
       "<g id=\"edge16\" class=\"edge\">\n",
       "<title>15&#45;&gt;16</title>\n",
       "<path fill=\"none\" stroke=\"#000000\" d=\"M274.795,-349.6223C267.8431,-342.2267 256.9562,-330.6449 248.2847,-321.4199\"/>\n",
       "<polygon fill=\"#000000\" stroke=\"#000000\" points=\"250.7885,-318.9733 241.3891,-314.0842 245.688,-323.7677 250.7885,-318.9733\"/>\n",
       "</g>\n",
       "<!-- 25 -->\n",
       "<g id=\"node26\" class=\"node\">\n",
       "<title>25</title>\n",
       "<text text-anchor=\"middle\" x=\"281.73\" y=\"-302.8\" font-family=\"Times,serif\" font-size=\"14.00\" fill=\"#000000\">.</text>\n",
       "</g>\n",
       "<!-- 15&#45;&gt;25 -->\n",
       "<g id=\"edge25\" class=\"edge\">\n",
       "<title>15&#45;&gt;25</title>\n",
       "<path fill=\"none\" stroke=\"#000000\" d=\"M281.73,-349.6223C281.73,-342.9738 281.73,-332.942 281.73,-324.2807\"/>\n",
       "<polygon fill=\"#000000\" stroke=\"#000000\" points=\"285.2301,-324.0842 281.73,-314.0842 278.2301,-324.0842 285.2301,-324.0842\"/>\n",
       "</g>\n",
       "<!-- 26 -->\n",
       "<g id=\"node27\" class=\"node\">\n",
       "<title>26</title>\n",
       "<text text-anchor=\"middle\" x=\"328.73\" y=\"-302.8\" font-family=\"Times,serif\" font-size=\"14.00\" fill=\"#000000\">&lt;integer&gt;</text>\n",
       "</g>\n",
       "<!-- 15&#45;&gt;26 -->\n",
       "<g id=\"edge26\" class=\"edge\">\n",
       "<title>15&#45;&gt;26</title>\n",
       "<path fill=\"none\" stroke=\"#000000\" d=\"M288.665,-349.6223C295.6169,-342.2267 306.5038,-330.6449 315.1753,-321.4199\"/>\n",
       "<polygon fill=\"#000000\" stroke=\"#000000\" points=\"317.7719,-323.7677 322.0708,-314.0842 312.6715,-318.9733 317.7719,-323.7677\"/>\n",
       "</g>\n",
       "<!-- 17 -->\n",
       "<g id=\"node18\" class=\"node\">\n",
       "<title>17</title>\n",
       "<text text-anchor=\"middle\" x=\"183.73\" y=\"-252.8\" font-family=\"Times,serif\" font-size=\"14.00\" fill=\"#000000\">&lt;digit&gt;</text>\n",
       "</g>\n",
       "<!-- 16&#45;&gt;17 -->\n",
       "<g id=\"edge17\" class=\"edge\">\n",
       "<title>16&#45;&gt;17</title>\n",
       "<path fill=\"none\" stroke=\"#000000\" d=\"M227.2048,-299.6223C219.585,-292.152 207.6087,-280.4105 198.1539,-271.1411\"/>\n",
       "<polygon fill=\"#000000\" stroke=\"#000000\" points=\"200.5469,-268.5857 190.9559,-264.0842 195.6463,-273.5842 200.5469,-268.5857\"/>\n",
       "</g>\n",
       "<!-- 19 -->\n",
       "<g id=\"node20\" class=\"node\">\n",
       "<title>19</title>\n",
       "<text text-anchor=\"middle\" x=\"249.73\" y=\"-252.8\" font-family=\"Times,serif\" font-size=\"14.00\" fill=\"#000000\">&lt;integer&gt;</text>\n",
       "</g>\n",
       "<!-- 16&#45;&gt;19 -->\n",
       "<g id=\"edge19\" class=\"edge\">\n",
       "<title>16&#45;&gt;19</title>\n",
       "<path fill=\"none\" stroke=\"#000000\" d=\"M236.9433,-299.6223C238.9827,-292.8244 242.0832,-282.4894 244.7203,-273.699\"/>\n",
       "<polygon fill=\"#000000\" stroke=\"#000000\" points=\"248.0836,-274.6682 247.6047,-264.0842 241.3788,-272.6567 248.0836,-274.6682\"/>\n",
       "</g>\n",
       "<!-- 18 -->\n",
       "<g id=\"node19\" class=\"node\">\n",
       "<title>18</title>\n",
       "<text text-anchor=\"middle\" x=\"171.73\" y=\"-202.8\" font-family=\"Times,serif\" font-size=\"14.00\" fill=\"#000000\">5</text>\n",
       "</g>\n",
       "<!-- 17&#45;&gt;18 -->\n",
       "<g id=\"edge18\" class=\"edge\">\n",
       "<title>17&#45;&gt;18</title>\n",
       "<path fill=\"none\" stroke=\"#000000\" d=\"M181.9593,-249.6223C180.3458,-242.8991 177.9018,-232.7161 175.8074,-223.9893\"/>\n",
       "<polygon fill=\"#000000\" stroke=\"#000000\" points=\"179.1673,-222.9912 173.4302,-214.0842 172.3606,-224.6249 179.1673,-222.9912\"/>\n",
       "</g>\n",
       "<!-- 20 -->\n",
       "<g id=\"node21\" class=\"node\">\n",
       "<title>20</title>\n",
       "<text text-anchor=\"middle\" x=\"213.73\" y=\"-202.8\" font-family=\"Times,serif\" font-size=\"14.00\" fill=\"#000000\">&lt;digit&gt;</text>\n",
       "</g>\n",
       "<!-- 19&#45;&gt;20 -->\n",
       "<g id=\"edge20\" class=\"edge\">\n",
       "<title>19&#45;&gt;20</title>\n",
       "<path fill=\"none\" stroke=\"#000000\" d=\"M244.4181,-249.6223C239.2546,-242.4508 231.2569,-231.343 224.7207,-222.2648\"/>\n",
       "<polygon fill=\"#000000\" stroke=\"#000000\" points=\"227.5141,-220.1545 218.8306,-214.0842 221.8333,-224.2446 227.5141,-220.1545\"/>\n",
       "</g>\n",
       "<!-- 22 -->\n",
       "<g id=\"node23\" class=\"node\">\n",
       "<title>22</title>\n",
       "<text text-anchor=\"middle\" x=\"279.73\" y=\"-202.8\" font-family=\"Times,serif\" font-size=\"14.00\" fill=\"#000000\">&lt;integer&gt;</text>\n",
       "</g>\n",
       "<!-- 19&#45;&gt;22 -->\n",
       "<g id=\"edge22\" class=\"edge\">\n",
       "<title>19&#45;&gt;22</title>\n",
       "<path fill=\"none\" stroke=\"#000000\" d=\"M254.1566,-249.6223C258.3698,-242.6002 264.8475,-231.8041 270.2291,-222.8348\"/>\n",
       "<polygon fill=\"#000000\" stroke=\"#000000\" points=\"273.3357,-224.4599 275.4795,-214.0842 267.3332,-220.8584 273.3357,-224.4599\"/>\n",
       "</g>\n",
       "<!-- 21 -->\n",
       "<g id=\"node22\" class=\"node\">\n",
       "<title>21</title>\n",
       "<text text-anchor=\"middle\" x=\"213.73\" y=\"-152.8\" font-family=\"Times,serif\" font-size=\"14.00\" fill=\"#000000\">2</text>\n",
       "</g>\n",
       "<!-- 20&#45;&gt;21 -->\n",
       "<g id=\"edge21\" class=\"edge\">\n",
       "<title>20&#45;&gt;21</title>\n",
       "<path fill=\"none\" stroke=\"#000000\" d=\"M213.73,-199.6223C213.73,-192.9738 213.73,-182.942 213.73,-174.2807\"/>\n",
       "<polygon fill=\"#000000\" stroke=\"#000000\" points=\"217.2301,-174.0842 213.73,-164.0842 210.2301,-174.0842 217.2301,-174.0842\"/>\n",
       "</g>\n",
       "<!-- 23 -->\n",
       "<g id=\"node24\" class=\"node\">\n",
       "<title>23</title>\n",
       "<text text-anchor=\"middle\" x=\"279.73\" y=\"-152.8\" font-family=\"Times,serif\" font-size=\"14.00\" fill=\"#000000\">&lt;digit&gt;</text>\n",
       "</g>\n",
       "<!-- 22&#45;&gt;23 -->\n",
       "<g id=\"edge23\" class=\"edge\">\n",
       "<title>22&#45;&gt;23</title>\n",
       "<path fill=\"none\" stroke=\"#000000\" d=\"M279.73,-199.6223C279.73,-192.9738 279.73,-182.942 279.73,-174.2807\"/>\n",
       "<polygon fill=\"#000000\" stroke=\"#000000\" points=\"283.2301,-174.0842 279.73,-164.0842 276.2301,-174.0842 283.2301,-174.0842\"/>\n",
       "</g>\n",
       "<!-- 24 -->\n",
       "<g id=\"node25\" class=\"node\">\n",
       "<title>24</title>\n",
       "<text text-anchor=\"middle\" x=\"279.73\" y=\"-102.8\" font-family=\"Times,serif\" font-size=\"14.00\" fill=\"#000000\">7</text>\n",
       "</g>\n",
       "<!-- 23&#45;&gt;24 -->\n",
       "<g id=\"edge24\" class=\"edge\">\n",
       "<title>23&#45;&gt;24</title>\n",
       "<path fill=\"none\" stroke=\"#000000\" d=\"M279.73,-149.6223C279.73,-142.9738 279.73,-132.942 279.73,-124.2807\"/>\n",
       "<polygon fill=\"#000000\" stroke=\"#000000\" points=\"283.2301,-124.0842 279.73,-114.0842 276.2301,-124.0842 283.2301,-124.0842\"/>\n",
       "</g>\n",
       "<!-- 27 -->\n",
       "<g id=\"node28\" class=\"node\">\n",
       "<title>27</title>\n",
       "<text text-anchor=\"middle\" x=\"328.73\" y=\"-252.8\" font-family=\"Times,serif\" font-size=\"14.00\" fill=\"#000000\">&lt;digit&gt;</text>\n",
       "</g>\n",
       "<!-- 26&#45;&gt;27 -->\n",
       "<g id=\"edge27\" class=\"edge\">\n",
       "<title>26&#45;&gt;27</title>\n",
       "<path fill=\"none\" stroke=\"#000000\" d=\"M328.73,-299.6223C328.73,-292.9738 328.73,-282.942 328.73,-274.2807\"/>\n",
       "<polygon fill=\"#000000\" stroke=\"#000000\" points=\"332.2301,-274.0842 328.73,-264.0842 325.2301,-274.0842 332.2301,-274.0842\"/>\n",
       "</g>\n",
       "<!-- 28 -->\n",
       "<g id=\"node29\" class=\"node\">\n",
       "<title>28</title>\n",
       "<text text-anchor=\"middle\" x=\"328.73\" y=\"-202.8\" font-family=\"Times,serif\" font-size=\"14.00\" fill=\"#000000\">9</text>\n",
       "</g>\n",
       "<!-- 27&#45;&gt;28 -->\n",
       "<g id=\"edge28\" class=\"edge\">\n",
       "<title>27&#45;&gt;28</title>\n",
       "<path fill=\"none\" stroke=\"#000000\" d=\"M328.73,-249.6223C328.73,-242.9738 328.73,-232.942 328.73,-224.2807\"/>\n",
       "<polygon fill=\"#000000\" stroke=\"#000000\" points=\"332.2301,-224.0842 328.73,-214.0842 325.2301,-224.0842 332.2301,-224.0842\"/>\n",
       "</g>\n",
       "<!-- 31 -->\n",
       "<g id=\"node32\" class=\"node\">\n",
       "<title>31</title>\n",
       "<text text-anchor=\"middle\" x=\"469.73\" y=\"-302.8\" font-family=\"Times,serif\" font-size=\"14.00\" fill=\"#000000\">&lt;factor&gt;</text>\n",
       "</g>\n",
       "<!-- 30&#45;&gt;31 -->\n",
       "<g id=\"edge31\" class=\"edge\">\n",
       "<title>30&#45;&gt;31</title>\n",
       "<path fill=\"none\" stroke=\"#000000\" d=\"M490.1887,-349.6223C486.854,-342.6749 481.746,-332.0334 477.4684,-323.1217\"/>\n",
       "<polygon fill=\"#000000\" stroke=\"#000000\" points=\"480.6131,-321.5848 473.1304,-314.0842 474.3024,-324.614 480.6131,-321.5848\"/>\n",
       "</g>\n",
       "<!-- 48 -->\n",
       "<g id=\"node49\" class=\"node\">\n",
       "<title>48</title>\n",
       "<text text-anchor=\"middle\" x=\"518.73\" y=\"-302.8\" font-family=\"Times,serif\" font-size=\"14.00\" fill=\"#000000\"> * </text>\n",
       "</g>\n",
       "<!-- 30&#45;&gt;48 -->\n",
       "<g id=\"edge48\" class=\"edge\">\n",
       "<title>30&#45;&gt;48</title>\n",
       "<path fill=\"none\" stroke=\"#000000\" d=\"M497.4188,-349.6223C500.8925,-342.6749 506.2133,-332.0334 510.6691,-323.1217\"/>\n",
       "<polygon fill=\"#000000\" stroke=\"#000000\" points=\"513.8462,-324.5937 515.1879,-314.0842 507.5852,-321.4632 513.8462,-324.5937\"/>\n",
       "</g>\n",
       "<!-- 49 -->\n",
       "<g id=\"node50\" class=\"node\">\n",
       "<title>49</title>\n",
       "<text text-anchor=\"middle\" x=\"575.73\" y=\"-302.8\" font-family=\"Times,serif\" font-size=\"14.00\" fill=\"#000000\">&lt;term&gt;</text>\n",
       "</g>\n",
       "<!-- 30&#45;&gt;49 -->\n",
       "<g id=\"edge49\" class=\"edge\">\n",
       "<title>30&#45;&gt;49</title>\n",
       "<path fill=\"none\" stroke=\"#000000\" d=\"M505.4786,-349.8362C518.3876,-341.9649 539.369,-329.1713 555.0466,-319.6118\"/>\n",
       "<polygon fill=\"#000000\" stroke=\"#000000\" points=\"557.2873,-322.3449 564.0032,-314.1505 553.6431,-316.3683 557.2873,-322.3449\"/>\n",
       "</g>\n",
       "<!-- 32 -->\n",
       "<g id=\"node33\" class=\"node\">\n",
       "<title>32</title>\n",
       "<text text-anchor=\"middle\" x=\"422.73\" y=\"-252.8\" font-family=\"Times,serif\" font-size=\"14.00\" fill=\"#000000\">&lt;integer&gt;</text>\n",
       "</g>\n",
       "<!-- 31&#45;&gt;32 -->\n",
       "<g id=\"edge32\" class=\"edge\">\n",
       "<title>31&#45;&gt;32</title>\n",
       "<path fill=\"none\" stroke=\"#000000\" d=\"M462.795,-299.6223C455.8431,-292.2267 444.9562,-280.6449 436.2847,-271.4199\"/>\n",
       "<polygon fill=\"#000000\" stroke=\"#000000\" points=\"438.7885,-268.9733 429.3891,-264.0842 433.688,-273.7677 438.7885,-268.9733\"/>\n",
       "</g>\n",
       "<!-- 38 -->\n",
       "<g id=\"node39\" class=\"node\">\n",
       "<title>38</title>\n",
       "<text text-anchor=\"middle\" x=\"469.73\" y=\"-252.8\" font-family=\"Times,serif\" font-size=\"14.00\" fill=\"#000000\">.</text>\n",
       "</g>\n",
       "<!-- 31&#45;&gt;38 -->\n",
       "<g id=\"edge38\" class=\"edge\">\n",
       "<title>31&#45;&gt;38</title>\n",
       "<path fill=\"none\" stroke=\"#000000\" d=\"M469.73,-299.6223C469.73,-292.9738 469.73,-282.942 469.73,-274.2807\"/>\n",
       "<polygon fill=\"#000000\" stroke=\"#000000\" points=\"473.2301,-274.0842 469.73,-264.0842 466.2301,-274.0842 473.2301,-274.0842\"/>\n",
       "</g>\n",
       "<!-- 39 -->\n",
       "<g id=\"node40\" class=\"node\">\n",
       "<title>39</title>\n",
       "<text text-anchor=\"middle\" x=\"516.73\" y=\"-252.8\" font-family=\"Times,serif\" font-size=\"14.00\" fill=\"#000000\">&lt;integer&gt;</text>\n",
       "</g>\n",
       "<!-- 31&#45;&gt;39 -->\n",
       "<g id=\"edge39\" class=\"edge\">\n",
       "<title>31&#45;&gt;39</title>\n",
       "<path fill=\"none\" stroke=\"#000000\" d=\"M476.665,-299.6223C483.6169,-292.2267 494.5038,-280.6449 503.1753,-271.4199\"/>\n",
       "<polygon fill=\"#000000\" stroke=\"#000000\" points=\"505.7719,-273.7677 510.0708,-264.0842 500.6715,-268.9733 505.7719,-273.7677\"/>\n",
       "</g>\n",
       "<!-- 33 -->\n",
       "<g id=\"node34\" class=\"node\">\n",
       "<title>33</title>\n",
       "<text text-anchor=\"middle\" x=\"370.73\" y=\"-202.8\" font-family=\"Times,serif\" font-size=\"14.00\" fill=\"#000000\">&lt;digit&gt;</text>\n",
       "</g>\n",
       "<!-- 32&#45;&gt;33 -->\n",
       "<g id=\"edge33\" class=\"edge\">\n",
       "<title>32&#45;&gt;33</title>\n",
       "<path fill=\"none\" stroke=\"#000000\" d=\"M415.0572,-249.6223C407.2881,-242.152 395.0769,-230.4105 385.4367,-221.1411\"/>\n",
       "<polygon fill=\"#000000\" stroke=\"#000000\" points=\"387.7318,-218.4924 378.0975,-214.0842 382.88,-223.5382 387.7318,-218.4924\"/>\n",
       "</g>\n",
       "<!-- 35 -->\n",
       "<g id=\"node36\" class=\"node\">\n",
       "<title>35</title>\n",
       "<text text-anchor=\"middle\" x=\"436.73\" y=\"-202.8\" font-family=\"Times,serif\" font-size=\"14.00\" fill=\"#000000\">&lt;integer&gt;</text>\n",
       "</g>\n",
       "<!-- 32&#45;&gt;35 -->\n",
       "<g id=\"edge35\" class=\"edge\">\n",
       "<title>32&#45;&gt;35</title>\n",
       "<path fill=\"none\" stroke=\"#000000\" d=\"M424.7957,-249.6223C426.6782,-242.8991 429.5295,-232.7161 431.973,-223.9893\"/>\n",
       "<polygon fill=\"#000000\" stroke=\"#000000\" points=\"435.4204,-224.6576 434.7464,-214.0842 428.6797,-222.7701 435.4204,-224.6576\"/>\n",
       "</g>\n",
       "<!-- 34 -->\n",
       "<g id=\"node35\" class=\"node\">\n",
       "<title>34</title>\n",
       "<text text-anchor=\"middle\" x=\"370.73\" y=\"-152.8\" font-family=\"Times,serif\" font-size=\"14.00\" fill=\"#000000\">9</text>\n",
       "</g>\n",
       "<!-- 33&#45;&gt;34 -->\n",
       "<g id=\"edge34\" class=\"edge\">\n",
       "<title>33&#45;&gt;34</title>\n",
       "<path fill=\"none\" stroke=\"#000000\" d=\"M370.73,-199.6223C370.73,-192.9738 370.73,-182.942 370.73,-174.2807\"/>\n",
       "<polygon fill=\"#000000\" stroke=\"#000000\" points=\"374.2301,-174.0842 370.73,-164.0842 367.2301,-174.0842 374.2301,-174.0842\"/>\n",
       "</g>\n",
       "<!-- 36 -->\n",
       "<g id=\"node37\" class=\"node\">\n",
       "<title>36</title>\n",
       "<text text-anchor=\"middle\" x=\"436.73\" y=\"-152.8\" font-family=\"Times,serif\" font-size=\"14.00\" fill=\"#000000\">&lt;digit&gt;</text>\n",
       "</g>\n",
       "<!-- 35&#45;&gt;36 -->\n",
       "<g id=\"edge36\" class=\"edge\">\n",
       "<title>35&#45;&gt;36</title>\n",
       "<path fill=\"none\" stroke=\"#000000\" d=\"M436.73,-199.6223C436.73,-192.9738 436.73,-182.942 436.73,-174.2807\"/>\n",
       "<polygon fill=\"#000000\" stroke=\"#000000\" points=\"440.2301,-174.0842 436.73,-164.0842 433.2301,-174.0842 440.2301,-174.0842\"/>\n",
       "</g>\n",
       "<!-- 37 -->\n",
       "<g id=\"node38\" class=\"node\">\n",
       "<title>37</title>\n",
       "<text text-anchor=\"middle\" x=\"436.73\" y=\"-102.8\" font-family=\"Times,serif\" font-size=\"14.00\" fill=\"#000000\">6</text>\n",
       "</g>\n",
       "<!-- 36&#45;&gt;37 -->\n",
       "<g id=\"edge37\" class=\"edge\">\n",
       "<title>36&#45;&gt;37</title>\n",
       "<path fill=\"none\" stroke=\"#000000\" d=\"M436.73,-149.6223C436.73,-142.9738 436.73,-132.942 436.73,-124.2807\"/>\n",
       "<polygon fill=\"#000000\" stroke=\"#000000\" points=\"440.2301,-124.0842 436.73,-114.0842 433.2301,-124.0842 440.2301,-124.0842\"/>\n",
       "</g>\n",
       "<!-- 40 -->\n",
       "<g id=\"node41\" class=\"node\">\n",
       "<title>40</title>\n",
       "<text text-anchor=\"middle\" x=\"502.73\" y=\"-202.8\" font-family=\"Times,serif\" font-size=\"14.00\" fill=\"#000000\">&lt;digit&gt;</text>\n",
       "</g>\n",
       "<!-- 39&#45;&gt;40 -->\n",
       "<g id=\"edge40\" class=\"edge\">\n",
       "<title>39&#45;&gt;40</title>\n",
       "<path fill=\"none\" stroke=\"#000000\" d=\"M514.6642,-249.6223C512.7817,-242.8991 509.9305,-232.7161 507.487,-223.9893\"/>\n",
       "<polygon fill=\"#000000\" stroke=\"#000000\" points=\"510.7803,-222.7701 504.7136,-214.0842 504.0395,-224.6576 510.7803,-222.7701\"/>\n",
       "</g>\n",
       "<!-- 42 -->\n",
       "<g id=\"node43\" class=\"node\">\n",
       "<title>42</title>\n",
       "<text text-anchor=\"middle\" x=\"568.73\" y=\"-202.8\" font-family=\"Times,serif\" font-size=\"14.00\" fill=\"#000000\">&lt;integer&gt;</text>\n",
       "</g>\n",
       "<!-- 39&#45;&gt;42 -->\n",
       "<g id=\"edge42\" class=\"edge\">\n",
       "<title>39&#45;&gt;42</title>\n",
       "<path fill=\"none\" stroke=\"#000000\" d=\"M524.4028,-249.6223C532.1719,-242.152 544.3831,-230.4105 554.0233,-221.1411\"/>\n",
       "<polygon fill=\"#000000\" stroke=\"#000000\" points=\"556.58,-223.5382 561.3624,-214.0842 551.7282,-218.4924 556.58,-223.5382\"/>\n",
       "</g>\n",
       "<!-- 41 -->\n",
       "<g id=\"node42\" class=\"node\">\n",
       "<title>41</title>\n",
       "<text text-anchor=\"middle\" x=\"490.73\" y=\"-152.8\" font-family=\"Times,serif\" font-size=\"14.00\" fill=\"#000000\">5</text>\n",
       "</g>\n",
       "<!-- 40&#45;&gt;41 -->\n",
       "<g id=\"edge41\" class=\"edge\">\n",
       "<title>40&#45;&gt;41</title>\n",
       "<path fill=\"none\" stroke=\"#000000\" d=\"M500.9593,-199.6223C499.3458,-192.8991 496.9018,-182.7161 494.8074,-173.9893\"/>\n",
       "<polygon fill=\"#000000\" stroke=\"#000000\" points=\"498.1673,-172.9912 492.4302,-164.0842 491.3606,-174.6249 498.1673,-172.9912\"/>\n",
       "</g>\n",
       "<!-- 43 -->\n",
       "<g id=\"node44\" class=\"node\">\n",
       "<title>43</title>\n",
       "<text text-anchor=\"middle\" x=\"532.73\" y=\"-152.8\" font-family=\"Times,serif\" font-size=\"14.00\" fill=\"#000000\">&lt;digit&gt;</text>\n",
       "</g>\n",
       "<!-- 42&#45;&gt;43 -->\n",
       "<g id=\"edge43\" class=\"edge\">\n",
       "<title>42&#45;&gt;43</title>\n",
       "<path fill=\"none\" stroke=\"#000000\" d=\"M563.4181,-199.6223C558.2546,-192.4508 550.2569,-181.343 543.7207,-172.2648\"/>\n",
       "<polygon fill=\"#000000\" stroke=\"#000000\" points=\"546.5141,-170.1545 537.8306,-164.0842 540.8333,-174.2446 546.5141,-170.1545\"/>\n",
       "</g>\n",
       "<!-- 45 -->\n",
       "<g id=\"node46\" class=\"node\">\n",
       "<title>45</title>\n",
       "<text text-anchor=\"middle\" x=\"598.73\" y=\"-152.8\" font-family=\"Times,serif\" font-size=\"14.00\" fill=\"#000000\">&lt;integer&gt;</text>\n",
       "</g>\n",
       "<!-- 42&#45;&gt;45 -->\n",
       "<g id=\"edge45\" class=\"edge\">\n",
       "<title>42&#45;&gt;45</title>\n",
       "<path fill=\"none\" stroke=\"#000000\" d=\"M573.1566,-199.6223C577.3698,-192.6002 583.8475,-181.8041 589.2291,-172.8348\"/>\n",
       "<polygon fill=\"#000000\" stroke=\"#000000\" points=\"592.3357,-174.4599 594.4795,-164.0842 586.3332,-170.8584 592.3357,-174.4599\"/>\n",
       "</g>\n",
       "<!-- 44 -->\n",
       "<g id=\"node45\" class=\"node\">\n",
       "<title>44</title>\n",
       "<text text-anchor=\"middle\" x=\"532.73\" y=\"-102.8\" font-family=\"Times,serif\" font-size=\"14.00\" fill=\"#000000\">5</text>\n",
       "</g>\n",
       "<!-- 43&#45;&gt;44 -->\n",
       "<g id=\"edge44\" class=\"edge\">\n",
       "<title>43&#45;&gt;44</title>\n",
       "<path fill=\"none\" stroke=\"#000000\" d=\"M532.73,-149.6223C532.73,-142.9738 532.73,-132.942 532.73,-124.2807\"/>\n",
       "<polygon fill=\"#000000\" stroke=\"#000000\" points=\"536.2301,-124.0842 532.73,-114.0842 529.2301,-124.0842 536.2301,-124.0842\"/>\n",
       "</g>\n",
       "<!-- 46 -->\n",
       "<g id=\"node47\" class=\"node\">\n",
       "<title>46</title>\n",
       "<text text-anchor=\"middle\" x=\"598.73\" y=\"-102.8\" font-family=\"Times,serif\" font-size=\"14.00\" fill=\"#000000\">&lt;digit&gt;</text>\n",
       "</g>\n",
       "<!-- 45&#45;&gt;46 -->\n",
       "<g id=\"edge46\" class=\"edge\">\n",
       "<title>45&#45;&gt;46</title>\n",
       "<path fill=\"none\" stroke=\"#000000\" d=\"M598.73,-149.6223C598.73,-142.9738 598.73,-132.942 598.73,-124.2807\"/>\n",
       "<polygon fill=\"#000000\" stroke=\"#000000\" points=\"602.2301,-124.0842 598.73,-114.0842 595.2301,-124.0842 602.2301,-124.0842\"/>\n",
       "</g>\n",
       "<!-- 47 -->\n",
       "<g id=\"node48\" class=\"node\">\n",
       "<title>47</title>\n",
       "<text text-anchor=\"middle\" x=\"598.73\" y=\"-52.8\" font-family=\"Times,serif\" font-size=\"14.00\" fill=\"#000000\">2</text>\n",
       "</g>\n",
       "<!-- 46&#45;&gt;47 -->\n",
       "<g id=\"edge47\" class=\"edge\">\n",
       "<title>46&#45;&gt;47</title>\n",
       "<path fill=\"none\" stroke=\"#000000\" d=\"M598.73,-99.6223C598.73,-92.9738 598.73,-82.942 598.73,-74.2807\"/>\n",
       "<polygon fill=\"#000000\" stroke=\"#000000\" points=\"602.2301,-74.0842 598.73,-64.0842 595.2301,-74.0842 602.2301,-74.0842\"/>\n",
       "</g>\n",
       "<!-- 50 -->\n",
       "<g id=\"node51\" class=\"node\">\n",
       "<title>50</title>\n",
       "<text text-anchor=\"middle\" x=\"632.73\" y=\"-252.8\" font-family=\"Times,serif\" font-size=\"14.00\" fill=\"#000000\">&lt;factor&gt;</text>\n",
       "</g>\n",
       "<!-- 49&#45;&gt;50 -->\n",
       "<g id=\"edge50\" class=\"edge\">\n",
       "<title>49&#45;&gt;50</title>\n",
       "<path fill=\"none\" stroke=\"#000000\" d=\"M584.1405,-299.6223C592.7418,-292.0773 606.3102,-280.1752 616.9253,-270.8637\"/>\n",
       "<polygon fill=\"#000000\" stroke=\"#000000\" points=\"619.4444,-273.3098 624.654,-264.0842 614.8283,-268.0474 619.4444,-273.3098\"/>\n",
       "</g>\n",
       "<!-- 51 -->\n",
       "<g id=\"node52\" class=\"node\">\n",
       "<title>51</title>\n",
       "<text text-anchor=\"middle\" x=\"664.73\" y=\"-202.8\" font-family=\"Times,serif\" font-size=\"14.00\" fill=\"#000000\">&lt;integer&gt;</text>\n",
       "</g>\n",
       "<!-- 50&#45;&gt;51 -->\n",
       "<g id=\"edge51\" class=\"edge\">\n",
       "<title>50&#45;&gt;51</title>\n",
       "<path fill=\"none\" stroke=\"#000000\" d=\"M637.4517,-249.6223C641.9936,-242.5255 649.0026,-231.574 654.7785,-222.5492\"/>\n",
       "<polygon fill=\"#000000\" stroke=\"#000000\" points=\"657.7535,-224.3936 660.1961,-214.0842 651.8576,-220.6202 657.7535,-224.3936\"/>\n",
       "</g>\n",
       "<!-- 52 -->\n",
       "<g id=\"node53\" class=\"node\">\n",
       "<title>52</title>\n",
       "<text text-anchor=\"middle\" x=\"664.73\" y=\"-152.8\" font-family=\"Times,serif\" font-size=\"14.00\" fill=\"#000000\">&lt;digit&gt;</text>\n",
       "</g>\n",
       "<!-- 51&#45;&gt;52 -->\n",
       "<g id=\"edge52\" class=\"edge\">\n",
       "<title>51&#45;&gt;52</title>\n",
       "<path fill=\"none\" stroke=\"#000000\" d=\"M664.73,-199.6223C664.73,-192.9738 664.73,-182.942 664.73,-174.2807\"/>\n",
       "<polygon fill=\"#000000\" stroke=\"#000000\" points=\"668.2301,-174.0842 664.73,-164.0842 661.2301,-174.0842 668.2301,-174.0842\"/>\n",
       "</g>\n",
       "<!-- 54 -->\n",
       "<g id=\"node55\" class=\"node\">\n",
       "<title>54</title>\n",
       "<text text-anchor=\"middle\" x=\"730.73\" y=\"-152.8\" font-family=\"Times,serif\" font-size=\"14.00\" fill=\"#000000\">&lt;integer&gt;</text>\n",
       "</g>\n",
       "<!-- 51&#45;&gt;54 -->\n",
       "<g id=\"edge54\" class=\"edge\">\n",
       "<title>51&#45;&gt;54</title>\n",
       "<path fill=\"none\" stroke=\"#000000\" d=\"M674.1862,-199.8362C684.2823,-192.1877 700.5131,-179.8916 713.001,-170.4311\"/>\n",
       "<polygon fill=\"#000000\" stroke=\"#000000\" points=\"715.4339,-172.9789 721.2913,-164.1505 711.2069,-167.3993 715.4339,-172.9789\"/>\n",
       "</g>\n",
       "<!-- 53 -->\n",
       "<g id=\"node54\" class=\"node\">\n",
       "<title>53</title>\n",
       "<text text-anchor=\"middle\" x=\"664.73\" y=\"-102.8\" font-family=\"Times,serif\" font-size=\"14.00\" fill=\"#000000\">8</text>\n",
       "</g>\n",
       "<!-- 52&#45;&gt;53 -->\n",
       "<g id=\"edge53\" class=\"edge\">\n",
       "<title>52&#45;&gt;53</title>\n",
       "<path fill=\"none\" stroke=\"#000000\" d=\"M664.73,-149.6223C664.73,-142.9738 664.73,-132.942 664.73,-124.2807\"/>\n",
       "<polygon fill=\"#000000\" stroke=\"#000000\" points=\"668.2301,-124.0842 664.73,-114.0842 661.2301,-124.0842 668.2301,-124.0842\"/>\n",
       "</g>\n",
       "<!-- 55 -->\n",
       "<g id=\"node56\" class=\"node\">\n",
       "<title>55</title>\n",
       "<text text-anchor=\"middle\" x=\"718.73\" y=\"-102.8\" font-family=\"Times,serif\" font-size=\"14.00\" fill=\"#000000\">&lt;digit&gt;</text>\n",
       "</g>\n",
       "<!-- 54&#45;&gt;55 -->\n",
       "<g id=\"edge55\" class=\"edge\">\n",
       "<title>54&#45;&gt;55</title>\n",
       "<path fill=\"none\" stroke=\"#000000\" d=\"M728.9593,-149.6223C727.3458,-142.8991 724.9018,-132.7161 722.8074,-123.9893\"/>\n",
       "<polygon fill=\"#000000\" stroke=\"#000000\" points=\"726.1673,-122.9912 720.4302,-114.0842 719.3606,-124.6249 726.1673,-122.9912\"/>\n",
       "</g>\n",
       "<!-- 57 -->\n",
       "<g id=\"node58\" class=\"node\">\n",
       "<title>57</title>\n",
       "<text text-anchor=\"middle\" x=\"784.73\" y=\"-102.8\" font-family=\"Times,serif\" font-size=\"14.00\" fill=\"#000000\">&lt;integer&gt;</text>\n",
       "</g>\n",
       "<!-- 54&#45;&gt;57 -->\n",
       "<g id=\"edge57\" class=\"edge\">\n",
       "<title>54&#45;&gt;57</title>\n",
       "<path fill=\"none\" stroke=\"#000000\" d=\"M738.6979,-149.6223C746.7658,-142.152 759.4466,-130.4105 769.4576,-121.1411\"/>\n",
       "<polygon fill=\"#000000\" stroke=\"#000000\" points=\"772.1194,-123.4465 777.0791,-114.0842 767.3635,-118.3101 772.1194,-123.4465\"/>\n",
       "</g>\n",
       "<!-- 56 -->\n",
       "<g id=\"node57\" class=\"node\">\n",
       "<title>56</title>\n",
       "<text text-anchor=\"middle\" x=\"718.73\" y=\"-52.8\" font-family=\"Times,serif\" font-size=\"14.00\" fill=\"#000000\">9</text>\n",
       "</g>\n",
       "<!-- 55&#45;&gt;56 -->\n",
       "<g id=\"edge56\" class=\"edge\">\n",
       "<title>55&#45;&gt;56</title>\n",
       "<path fill=\"none\" stroke=\"#000000\" d=\"M718.73,-99.6223C718.73,-92.9738 718.73,-82.942 718.73,-74.2807\"/>\n",
       "<polygon fill=\"#000000\" stroke=\"#000000\" points=\"722.2301,-74.0842 718.73,-64.0842 715.2301,-74.0842 722.2301,-74.0842\"/>\n",
       "</g>\n",
       "<!-- 58 -->\n",
       "<g id=\"node59\" class=\"node\">\n",
       "<title>58</title>\n",
       "<text text-anchor=\"middle\" x=\"784.73\" y=\"-52.8\" font-family=\"Times,serif\" font-size=\"14.00\" fill=\"#000000\">&lt;digit&gt;</text>\n",
       "</g>\n",
       "<!-- 57&#45;&gt;58 -->\n",
       "<g id=\"edge58\" class=\"edge\">\n",
       "<title>57&#45;&gt;58</title>\n",
       "<path fill=\"none\" stroke=\"#000000\" d=\"M784.73,-99.6223C784.73,-92.9738 784.73,-82.942 784.73,-74.2807\"/>\n",
       "<polygon fill=\"#000000\" stroke=\"#000000\" points=\"788.2301,-74.0842 784.73,-64.0842 781.2301,-74.0842 788.2301,-74.0842\"/>\n",
       "</g>\n",
       "<!-- 59 -->\n",
       "<g id=\"node60\" class=\"node\">\n",
       "<title>59</title>\n",
       "<text text-anchor=\"middle\" x=\"784.73\" y=\"-2.8\" font-family=\"Times,serif\" font-size=\"14.00\" fill=\"#000000\">6</text>\n",
       "</g>\n",
       "<!-- 58&#45;&gt;59 -->\n",
       "<g id=\"edge59\" class=\"edge\">\n",
       "<title>58&#45;&gt;59</title>\n",
       "<path fill=\"none\" stroke=\"#000000\" d=\"M784.73,-49.6223C784.73,-42.9738 784.73,-32.942 784.73,-24.2807\"/>\n",
       "<polygon fill=\"#000000\" stroke=\"#000000\" points=\"788.2301,-24.0842 784.73,-14.0842 781.2301,-24.0842 788.2301,-24.0842\"/>\n",
       "</g>\n",
       "</g>\n",
       "</svg>\n"
      ],
      "text/plain": [
       "<graphviz.dot.Digraph at 0x11e336358>"
      ]
     },
     "metadata": {},
     "output_type": "display_data"
    }
   ],
   "source": [
    "display_tree(f.derivation_tree)"
   ]
  },
  {
   "cell_type": "markdown",
   "metadata": {
    "slideshow": {
     "slide_type": "fragment"
    }
   },
   "source": [
    "Let us try out the grammar fuzzer (and its trees) on other grammar formats."
   ]
  },
  {
   "cell_type": "code",
   "execution_count": 69,
   "metadata": {
    "button": false,
    "new_sheet": false,
    "run_control": {
     "read_only": false
    },
    "slideshow": {
     "slide_type": "fragment"
    }
   },
   "outputs": [
    {
     "data": {
      "text/plain": [
       "'https://fuzzingbook.com:2/abc?abc=x20'"
      ]
     },
     "execution_count": 69,
     "metadata": {},
     "output_type": "execute_result"
    }
   ],
   "source": [
    "f = GrammarFuzzer(URL_GRAMMAR)\n",
    "f.fuzz()"
   ]
  },
  {
   "cell_type": "code",
   "execution_count": 70,
   "metadata": {
    "slideshow": {
     "slide_type": "subslide"
    }
   },
   "outputs": [
    {
     "data": {
      "image/svg+xml": [
       "<?xml version=\"1.0\" encoding=\"UTF-8\" standalone=\"no\"?>\n",
       "<!DOCTYPE svg PUBLIC \"-//W3C//DTD SVG 1.1//EN\"\n",
       " \"http://www.w3.org/Graphics/SVG/1.1/DTD/svg11.dtd\">\n",
       "<!-- Generated by graphviz version 2.40.1 (20161225.0304)\n",
       " -->\n",
       "<!-- Title: %3 Pages: 1 -->\n",
       "<svg width=\"447pt\" height=\"422pt\"\n",
       " viewBox=\"0.00 0.00 446.62 422.00\" xmlns=\"http://www.w3.org/2000/svg\" xmlns:xlink=\"http://www.w3.org/1999/xlink\">\n",
       "<g id=\"graph0\" class=\"graph\" transform=\"scale(1 1) rotate(0) translate(4 418)\">\n",
       "<title>%3</title>\n",
       "<polygon fill=\"#ffffff\" stroke=\"transparent\" points=\"-4,4 -4,-418 442.6152,-418 442.6152,4 -4,4\"/>\n",
       "<!-- 0 -->\n",
       "<g id=\"node1\" class=\"node\">\n",
       "<title>0</title>\n",
       "<text text-anchor=\"middle\" x=\"138.8853\" y=\"-402.8\" font-family=\"Times,serif\" font-size=\"14.00\" fill=\"#000000\">&lt;start&gt;</text>\n",
       "</g>\n",
       "<!-- 1 -->\n",
       "<g id=\"node2\" class=\"node\">\n",
       "<title>1</title>\n",
       "<text text-anchor=\"middle\" x=\"138.8853\" y=\"-352.8\" font-family=\"Times,serif\" font-size=\"14.00\" fill=\"#000000\">&lt;call&gt;</text>\n",
       "</g>\n",
       "<!-- 0&#45;&gt;1 -->\n",
       "<g id=\"edge1\" class=\"edge\">\n",
       "<title>0&#45;&gt;1</title>\n",
       "<path fill=\"none\" stroke=\"#000000\" d=\"M138.8853,-399.6223C138.8853,-392.9738 138.8853,-382.942 138.8853,-374.2807\"/>\n",
       "<polygon fill=\"#000000\" stroke=\"#000000\" points=\"142.3854,-374.0842 138.8853,-364.0842 135.3854,-374.0842 142.3854,-374.0842\"/>\n",
       "</g>\n",
       "<!-- 2 -->\n",
       "<g id=\"node3\" class=\"node\">\n",
       "<title>2</title>\n",
       "<text text-anchor=\"middle\" x=\"138.8853\" y=\"-302.8\" font-family=\"Times,serif\" font-size=\"14.00\" fill=\"#000000\">&lt;url&gt;</text>\n",
       "</g>\n",
       "<!-- 1&#45;&gt;2 -->\n",
       "<g id=\"edge2\" class=\"edge\">\n",
       "<title>1&#45;&gt;2</title>\n",
       "<path fill=\"none\" stroke=\"#000000\" d=\"M138.8853,-349.6223C138.8853,-342.9738 138.8853,-332.942 138.8853,-324.2807\"/>\n",
       "<polygon fill=\"#000000\" stroke=\"#000000\" points=\"142.3854,-324.0842 138.8853,-314.0842 135.3854,-324.0842 142.3854,-324.0842\"/>\n",
       "</g>\n",
       "<!-- 3 -->\n",
       "<g id=\"node4\" class=\"node\">\n",
       "<title>3</title>\n",
       "<text text-anchor=\"middle\" x=\"28.8853\" y=\"-252.8\" font-family=\"Times,serif\" font-size=\"14.00\" fill=\"#000000\">&lt;scheme&gt;</text>\n",
       "</g>\n",
       "<!-- 2&#45;&gt;3 -->\n",
       "<g id=\"edge3\" class=\"edge\">\n",
       "<title>2&#45;&gt;3</title>\n",
       "<path fill=\"none\" stroke=\"#000000\" d=\"M123.1249,-299.8362C105.0729,-291.6307 75.253,-278.0762 53.9926,-268.4124\"/>\n",
       "<polygon fill=\"#000000\" stroke=\"#000000\" points=\"55.1683,-265.1023 44.6163,-264.1505 52.2717,-271.4749 55.1683,-265.1023\"/>\n",
       "</g>\n",
       "<!-- 5 -->\n",
       "<g id=\"node6\" class=\"node\">\n",
       "<title>5</title>\n",
       "<text text-anchor=\"middle\" x=\"81.8853\" y=\"-252.8\" font-family=\"Times,serif\" font-size=\"14.00\" fill=\"#000000\">://</text>\n",
       "</g>\n",
       "<!-- 2&#45;&gt;5 -->\n",
       "<g id=\"edge5\" class=\"edge\">\n",
       "<title>2&#45;&gt;5</title>\n",
       "<path fill=\"none\" stroke=\"#000000\" d=\"M130.4747,-299.6223C121.1892,-291.4772 106.115,-278.2542 95.2168,-268.6943\"/>\n",
       "<polygon fill=\"#000000\" stroke=\"#000000\" points=\"97.388,-265.9431 87.5623,-261.9799 92.7719,-271.2054 97.388,-265.9431\"/>\n",
       "</g>\n",
       "<!-- 6 -->\n",
       "<g id=\"node7\" class=\"node\">\n",
       "<title>6</title>\n",
       "<text text-anchor=\"middle\" x=\"138.8853\" y=\"-252.8\" font-family=\"Times,serif\" font-size=\"14.00\" fill=\"#000000\">&lt;authority&gt;</text>\n",
       "</g>\n",
       "<!-- 2&#45;&gt;6 -->\n",
       "<g id=\"edge6\" class=\"edge\">\n",
       "<title>2&#45;&gt;6</title>\n",
       "<path fill=\"none\" stroke=\"#000000\" d=\"M138.8853,-299.6223C138.8853,-292.9738 138.8853,-282.942 138.8853,-274.2807\"/>\n",
       "<polygon fill=\"#000000\" stroke=\"#000000\" points=\"142.3854,-274.0842 138.8853,-264.0842 135.3854,-274.0842 142.3854,-274.0842\"/>\n",
       "</g>\n",
       "<!-- 14 -->\n",
       "<g id=\"node15\" class=\"node\">\n",
       "<title>14</title>\n",
       "<text text-anchor=\"middle\" x=\"209.8853\" y=\"-252.8\" font-family=\"Times,serif\" font-size=\"14.00\" fill=\"#000000\">&lt;path&gt;</text>\n",
       "</g>\n",
       "<!-- 2&#45;&gt;14 -->\n",
       "<g id=\"edge14\" class=\"edge\">\n",
       "<title>2&#45;&gt;14</title>\n",
       "<path fill=\"none\" stroke=\"#000000\" d=\"M149.0578,-299.8362C160.0242,-292.1134 177.7189,-279.6524 191.2033,-270.1563\"/>\n",
       "<polygon fill=\"#000000\" stroke=\"#000000\" points=\"193.5707,-272.7699 199.7316,-264.1505 189.5402,-267.0467 193.5707,-272.7699\"/>\n",
       "</g>\n",
       "<!-- 18 -->\n",
       "<g id=\"node19\" class=\"node\">\n",
       "<title>18</title>\n",
       "<text text-anchor=\"middle\" x=\"273.8853\" y=\"-252.8\" font-family=\"Times,serif\" font-size=\"14.00\" fill=\"#000000\">&lt;query&gt;</text>\n",
       "</g>\n",
       "<!-- 2&#45;&gt;18 -->\n",
       "<g id=\"edge18\" class=\"edge\">\n",
       "<title>2&#45;&gt;18</title>\n",
       "<path fill=\"none\" stroke=\"#000000\" d=\"M154.6357,-301.1665C176.8125,-292.9529 217.6143,-277.8411 245.2436,-267.608\"/>\n",
       "<polygon fill=\"#000000\" stroke=\"#000000\" points=\"246.6061,-270.8358 254.768,-264.0805 244.1749,-264.2715 246.6061,-270.8358\"/>\n",
       "</g>\n",
       "<!-- 4 -->\n",
       "<g id=\"node5\" class=\"node\">\n",
       "<title>4</title>\n",
       "<text text-anchor=\"middle\" x=\"28.8853\" y=\"-202.8\" font-family=\"Times,serif\" font-size=\"14.00\" fill=\"#000000\">https</text>\n",
       "</g>\n",
       "<!-- 3&#45;&gt;4 -->\n",
       "<g id=\"edge4\" class=\"edge\">\n",
       "<title>3&#45;&gt;4</title>\n",
       "<path fill=\"none\" stroke=\"#000000\" d=\"M28.8853,-249.6223C28.8853,-242.9738 28.8853,-232.942 28.8853,-224.2807\"/>\n",
       "<polygon fill=\"#000000\" stroke=\"#000000\" points=\"32.3854,-224.0842 28.8853,-214.0842 25.3854,-224.0842 32.3854,-224.0842\"/>\n",
       "</g>\n",
       "<!-- 7 -->\n",
       "<g id=\"node8\" class=\"node\">\n",
       "<title>7</title>\n",
       "<text text-anchor=\"middle\" x=\"86.8853\" y=\"-202.8\" font-family=\"Times,serif\" font-size=\"14.00\" fill=\"#000000\">&lt;host&gt;</text>\n",
       "</g>\n",
       "<!-- 6&#45;&gt;7 -->\n",
       "<g id=\"edge7\" class=\"edge\">\n",
       "<title>6&#45;&gt;7</title>\n",
       "<path fill=\"none\" stroke=\"#000000\" d=\"M131.2125,-249.6223C123.4434,-242.152 111.2322,-230.4105 101.592,-221.1411\"/>\n",
       "<polygon fill=\"#000000\" stroke=\"#000000\" points=\"103.8871,-218.4924 94.2528,-214.0842 99.0353,-223.5382 103.8871,-218.4924\"/>\n",
       "</g>\n",
       "<!-- 9 -->\n",
       "<g id=\"node10\" class=\"node\">\n",
       "<title>9</title>\n",
       "<text text-anchor=\"middle\" x=\"128.8853\" y=\"-202.8\" font-family=\"Times,serif\" font-size=\"14.00\" fill=\"#000000\">:</text>\n",
       "</g>\n",
       "<!-- 6&#45;&gt;9 -->\n",
       "<g id=\"edge9\" class=\"edge\">\n",
       "<title>6&#45;&gt;9</title>\n",
       "<path fill=\"none\" stroke=\"#000000\" d=\"M137.4097,-249.6223C136.0651,-242.8991 134.0285,-232.7161 132.2831,-223.9893\"/>\n",
       "<polygon fill=\"#000000\" stroke=\"#000000\" points=\"135.6954,-223.2036 130.3021,-214.0842 128.8313,-224.5764 135.6954,-223.2036\"/>\n",
       "</g>\n",
       "<!-- 10 -->\n",
       "<g id=\"node11\" class=\"node\">\n",
       "<title>10</title>\n",
       "<text text-anchor=\"middle\" x=\"167.8853\" y=\"-202.8\" font-family=\"Times,serif\" font-size=\"14.00\" fill=\"#000000\">&lt;port&gt;</text>\n",
       "</g>\n",
       "<!-- 6&#45;&gt;10 -->\n",
       "<g id=\"edge10\" class=\"edge\">\n",
       "<title>6&#45;&gt;10</title>\n",
       "<path fill=\"none\" stroke=\"#000000\" d=\"M143.1643,-249.6223C147.2371,-242.6002 153.4989,-231.8041 158.7011,-222.8348\"/>\n",
       "<polygon fill=\"#000000\" stroke=\"#000000\" points=\"161.7868,-224.4905 163.7764,-214.0842 155.7316,-220.9785 161.7868,-224.4905\"/>\n",
       "</g>\n",
       "<!-- 8 -->\n",
       "<g id=\"node9\" class=\"node\">\n",
       "<title>8</title>\n",
       "<text text-anchor=\"middle\" x=\"85.8853\" y=\"-152.8\" font-family=\"Times,serif\" font-size=\"14.00\" fill=\"#000000\">fuzzingbook.com</text>\n",
       "</g>\n",
       "<!-- 7&#45;&gt;8 -->\n",
       "<g id=\"edge8\" class=\"edge\">\n",
       "<title>7&#45;&gt;8</title>\n",
       "<path fill=\"none\" stroke=\"#000000\" d=\"M86.7377,-199.6223C86.6047,-192.9738 86.4041,-182.942 86.2309,-174.2807\"/>\n",
       "<polygon fill=\"#000000\" stroke=\"#000000\" points=\"89.7263,-174.0122 86.0269,-164.0842 82.7277,-174.1522 89.7263,-174.0122\"/>\n",
       "</g>\n",
       "<!-- 11 -->\n",
       "<g id=\"node12\" class=\"node\">\n",
       "<title>11</title>\n",
       "<text text-anchor=\"middle\" x=\"168.8853\" y=\"-152.8\" font-family=\"Times,serif\" font-size=\"14.00\" fill=\"#000000\">&lt;nat&gt;</text>\n",
       "</g>\n",
       "<!-- 10&#45;&gt;11 -->\n",
       "<g id=\"edge11\" class=\"edge\">\n",
       "<title>10&#45;&gt;11</title>\n",
       "<path fill=\"none\" stroke=\"#000000\" d=\"M168.0328,-199.6223C168.1658,-192.9738 168.3664,-182.942 168.5396,-174.2807\"/>\n",
       "<polygon fill=\"#000000\" stroke=\"#000000\" points=\"172.0428,-174.1522 168.7436,-164.0842 165.0442,-174.0122 172.0428,-174.1522\"/>\n",
       "</g>\n",
       "<!-- 12 -->\n",
       "<g id=\"node13\" class=\"node\">\n",
       "<title>12</title>\n",
       "<text text-anchor=\"middle\" x=\"168.8853\" y=\"-102.8\" font-family=\"Times,serif\" font-size=\"14.00\" fill=\"#000000\">&lt;digit&gt;</text>\n",
       "</g>\n",
       "<!-- 11&#45;&gt;12 -->\n",
       "<g id=\"edge12\" class=\"edge\">\n",
       "<title>11&#45;&gt;12</title>\n",
       "<path fill=\"none\" stroke=\"#000000\" d=\"M168.8853,-149.6223C168.8853,-142.9738 168.8853,-132.942 168.8853,-124.2807\"/>\n",
       "<polygon fill=\"#000000\" stroke=\"#000000\" points=\"172.3854,-124.0842 168.8853,-114.0842 165.3854,-124.0842 172.3854,-124.0842\"/>\n",
       "</g>\n",
       "<!-- 13 -->\n",
       "<g id=\"node14\" class=\"node\">\n",
       "<title>13</title>\n",
       "<text text-anchor=\"middle\" x=\"168.8853\" y=\"-52.8\" font-family=\"Times,serif\" font-size=\"14.00\" fill=\"#000000\">2</text>\n",
       "</g>\n",
       "<!-- 12&#45;&gt;13 -->\n",
       "<g id=\"edge13\" class=\"edge\">\n",
       "<title>12&#45;&gt;13</title>\n",
       "<path fill=\"none\" stroke=\"#000000\" d=\"M168.8853,-99.6223C168.8853,-92.9738 168.8853,-82.942 168.8853,-74.2807\"/>\n",
       "<polygon fill=\"#000000\" stroke=\"#000000\" points=\"172.3854,-74.0842 168.8853,-64.0842 165.3854,-74.0842 172.3854,-74.0842\"/>\n",
       "</g>\n",
       "<!-- 15 -->\n",
       "<g id=\"node16\" class=\"node\">\n",
       "<title>15</title>\n",
       "<text text-anchor=\"middle\" x=\"206.8853\" y=\"-202.8\" font-family=\"Times,serif\" font-size=\"14.00\" fill=\"#000000\">/</text>\n",
       "</g>\n",
       "<!-- 14&#45;&gt;15 -->\n",
       "<g id=\"edge15\" class=\"edge\">\n",
       "<title>14&#45;&gt;15</title>\n",
       "<path fill=\"none\" stroke=\"#000000\" d=\"M209.4426,-249.6223C209.0437,-242.9738 208.4418,-232.942 207.9221,-224.2807\"/>\n",
       "<polygon fill=\"#000000\" stroke=\"#000000\" points=\"211.403,-223.8566 207.3103,-214.0842 204.4156,-224.2759 211.403,-223.8566\"/>\n",
       "</g>\n",
       "<!-- 16 -->\n",
       "<g id=\"node17\" class=\"node\">\n",
       "<title>16</title>\n",
       "<text text-anchor=\"middle\" x=\"239.8853\" y=\"-202.8\" font-family=\"Times,serif\" font-size=\"14.00\" fill=\"#000000\">&lt;id&gt;</text>\n",
       "</g>\n",
       "<!-- 14&#45;&gt;16 -->\n",
       "<g id=\"edge16\" class=\"edge\">\n",
       "<title>14&#45;&gt;16</title>\n",
       "<path fill=\"none\" stroke=\"#000000\" d=\"M214.3119,-249.6223C218.5251,-242.6002 225.0028,-231.8041 230.3844,-222.8348\"/>\n",
       "<polygon fill=\"#000000\" stroke=\"#000000\" points=\"233.491,-224.4599 235.6347,-214.0842 227.4885,-220.8584 233.491,-224.4599\"/>\n",
       "</g>\n",
       "<!-- 17 -->\n",
       "<g id=\"node18\" class=\"node\">\n",
       "<title>17</title>\n",
       "<text text-anchor=\"middle\" x=\"239.8853\" y=\"-152.8\" font-family=\"Times,serif\" font-size=\"14.00\" fill=\"#000000\">abc</text>\n",
       "</g>\n",
       "<!-- 16&#45;&gt;17 -->\n",
       "<g id=\"edge17\" class=\"edge\">\n",
       "<title>16&#45;&gt;17</title>\n",
       "<path fill=\"none\" stroke=\"#000000\" d=\"M239.8853,-199.6223C239.8853,-192.9738 239.8853,-182.942 239.8853,-174.2807\"/>\n",
       "<polygon fill=\"#000000\" stroke=\"#000000\" points=\"243.3854,-174.0842 239.8853,-164.0842 236.3854,-174.0842 243.3854,-174.0842\"/>\n",
       "</g>\n",
       "<!-- 19 -->\n",
       "<g id=\"node20\" class=\"node\">\n",
       "<title>19</title>\n",
       "<text text-anchor=\"middle\" x=\"273.8853\" y=\"-202.8\" font-family=\"Times,serif\" font-size=\"14.00\" fill=\"#000000\">?</text>\n",
       "</g>\n",
       "<!-- 18&#45;&gt;19 -->\n",
       "<g id=\"edge19\" class=\"edge\">\n",
       "<title>18&#45;&gt;19</title>\n",
       "<path fill=\"none\" stroke=\"#000000\" d=\"M273.8853,-249.6223C273.8853,-242.9738 273.8853,-232.942 273.8853,-224.2807\"/>\n",
       "<polygon fill=\"#000000\" stroke=\"#000000\" points=\"277.3854,-224.0842 273.8853,-214.0842 270.3854,-224.0842 277.3854,-224.0842\"/>\n",
       "</g>\n",
       "<!-- 20 -->\n",
       "<g id=\"node21\" class=\"node\">\n",
       "<title>20</title>\n",
       "<text text-anchor=\"middle\" x=\"322.8853\" y=\"-202.8\" font-family=\"Times,serif\" font-size=\"14.00\" fill=\"#000000\">&lt;params&gt;</text>\n",
       "</g>\n",
       "<!-- 18&#45;&gt;20 -->\n",
       "<g id=\"edge20\" class=\"edge\">\n",
       "<title>18&#45;&gt;20</title>\n",
       "<path fill=\"none\" stroke=\"#000000\" d=\"M281.1154,-249.6223C288.3631,-242.2267 299.7132,-230.6449 308.7538,-221.4199\"/>\n",
       "<polygon fill=\"#000000\" stroke=\"#000000\" points=\"311.4432,-223.6761 315.9428,-214.0842 306.4437,-218.7766 311.4432,-223.6761\"/>\n",
       "</g>\n",
       "<!-- 21 -->\n",
       "<g id=\"node22\" class=\"node\">\n",
       "<title>21</title>\n",
       "<text text-anchor=\"middle\" x=\"322.8853\" y=\"-152.8\" font-family=\"Times,serif\" font-size=\"14.00\" fill=\"#000000\">&lt;param&gt;</text>\n",
       "</g>\n",
       "<!-- 20&#45;&gt;21 -->\n",
       "<g id=\"edge21\" class=\"edge\">\n",
       "<title>20&#45;&gt;21</title>\n",
       "<path fill=\"none\" stroke=\"#000000\" d=\"M322.8853,-199.6223C322.8853,-192.9738 322.8853,-182.942 322.8853,-174.2807\"/>\n",
       "<polygon fill=\"#000000\" stroke=\"#000000\" points=\"326.3854,-174.0842 322.8853,-164.0842 319.3854,-174.0842 326.3854,-174.0842\"/>\n",
       "</g>\n",
       "<!-- 22 -->\n",
       "<g id=\"node23\" class=\"node\">\n",
       "<title>22</title>\n",
       "<text text-anchor=\"middle\" x=\"286.8853\" y=\"-102.8\" font-family=\"Times,serif\" font-size=\"14.00\" fill=\"#000000\">&lt;id&gt;</text>\n",
       "</g>\n",
       "<!-- 21&#45;&gt;22 -->\n",
       "<g id=\"edge22\" class=\"edge\">\n",
       "<title>21&#45;&gt;22</title>\n",
       "<path fill=\"none\" stroke=\"#000000\" d=\"M317.5733,-149.6223C312.4099,-142.4508 304.4122,-131.343 297.8759,-122.2648\"/>\n",
       "<polygon fill=\"#000000\" stroke=\"#000000\" points=\"300.6693,-120.1545 291.9859,-114.0842 294.9886,-124.2446 300.6693,-120.1545\"/>\n",
       "</g>\n",
       "<!-- 24 -->\n",
       "<g id=\"node25\" class=\"node\">\n",
       "<title>24</title>\n",
       "<text text-anchor=\"middle\" x=\"322.8853\" y=\"-102.8\" font-family=\"Times,serif\" font-size=\"14.00\" fill=\"#000000\">=</text>\n",
       "</g>\n",
       "<!-- 21&#45;&gt;24 -->\n",
       "<g id=\"edge24\" class=\"edge\">\n",
       "<title>21&#45;&gt;24</title>\n",
       "<path fill=\"none\" stroke=\"#000000\" d=\"M322.8853,-149.6223C322.8853,-142.9738 322.8853,-132.942 322.8853,-124.2807\"/>\n",
       "<polygon fill=\"#000000\" stroke=\"#000000\" points=\"326.3854,-124.0842 322.8853,-114.0842 319.3854,-124.0842 326.3854,-124.0842\"/>\n",
       "</g>\n",
       "<!-- 25 -->\n",
       "<g id=\"node26\" class=\"node\">\n",
       "<title>25</title>\n",
       "<text text-anchor=\"middle\" x=\"358.8853\" y=\"-102.8\" font-family=\"Times,serif\" font-size=\"14.00\" fill=\"#000000\">&lt;id&gt;</text>\n",
       "</g>\n",
       "<!-- 21&#45;&gt;25 -->\n",
       "<g id=\"edge25\" class=\"edge\">\n",
       "<title>21&#45;&gt;25</title>\n",
       "<path fill=\"none\" stroke=\"#000000\" d=\"M328.1972,-149.6223C333.3606,-142.4508 341.3583,-131.343 347.8946,-122.2648\"/>\n",
       "<polygon fill=\"#000000\" stroke=\"#000000\" points=\"350.7819,-124.2446 353.7846,-114.0842 345.1012,-120.1545 350.7819,-124.2446\"/>\n",
       "</g>\n",
       "<!-- 23 -->\n",
       "<g id=\"node24\" class=\"node\">\n",
       "<title>23</title>\n",
       "<text text-anchor=\"middle\" x=\"285.8853\" y=\"-52.8\" font-family=\"Times,serif\" font-size=\"14.00\" fill=\"#000000\">abc</text>\n",
       "</g>\n",
       "<!-- 22&#45;&gt;23 -->\n",
       "<g id=\"edge23\" class=\"edge\">\n",
       "<title>22&#45;&gt;23</title>\n",
       "<path fill=\"none\" stroke=\"#000000\" d=\"M286.7377,-99.6223C286.6047,-92.9738 286.4041,-82.942 286.2309,-74.2807\"/>\n",
       "<polygon fill=\"#000000\" stroke=\"#000000\" points=\"289.7263,-74.0122 286.0269,-64.0842 282.7277,-74.1522 289.7263,-74.0122\"/>\n",
       "</g>\n",
       "<!-- 26 -->\n",
       "<g id=\"node27\" class=\"node\">\n",
       "<title>26</title>\n",
       "<text text-anchor=\"middle\" x=\"316.8853\" y=\"-52.8\" font-family=\"Times,serif\" font-size=\"14.00\" fill=\"#000000\">x</text>\n",
       "</g>\n",
       "<!-- 25&#45;&gt;26 -->\n",
       "<g id=\"edge26\" class=\"edge\">\n",
       "<title>25&#45;&gt;26</title>\n",
       "<path fill=\"none\" stroke=\"#000000\" d=\"M352.688,-99.6223C345.9095,-91.5527 334.9444,-78.499 326.9327,-68.9613\"/>\n",
       "<polygon fill=\"#000000\" stroke=\"#000000\" points=\"329.5013,-66.5775 320.3894,-61.1716 324.1414,-71.0799 329.5013,-66.5775\"/>\n",
       "</g>\n",
       "<!-- 27 -->\n",
       "<g id=\"node28\" class=\"node\">\n",
       "<title>27</title>\n",
       "<text text-anchor=\"middle\" x=\"358.8853\" y=\"-52.8\" font-family=\"Times,serif\" font-size=\"14.00\" fill=\"#000000\">&lt;digit&gt;</text>\n",
       "</g>\n",
       "<!-- 25&#45;&gt;27 -->\n",
       "<g id=\"edge27\" class=\"edge\">\n",
       "<title>25&#45;&gt;27</title>\n",
       "<path fill=\"none\" stroke=\"#000000\" d=\"M358.8853,-99.6223C358.8853,-92.9738 358.8853,-82.942 358.8853,-74.2807\"/>\n",
       "<polygon fill=\"#000000\" stroke=\"#000000\" points=\"362.3854,-74.0842 358.8853,-64.0842 355.3854,-74.0842 362.3854,-74.0842\"/>\n",
       "</g>\n",
       "<!-- 29 -->\n",
       "<g id=\"node30\" class=\"node\">\n",
       "<title>29</title>\n",
       "<text text-anchor=\"middle\" x=\"417.8853\" y=\"-52.8\" font-family=\"Times,serif\" font-size=\"14.00\" fill=\"#000000\">&lt;digit&gt;</text>\n",
       "</g>\n",
       "<!-- 25&#45;&gt;29 -->\n",
       "<g id=\"edge29\" class=\"edge\">\n",
       "<title>25&#45;&gt;29</title>\n",
       "<path fill=\"none\" stroke=\"#000000\" d=\"M367.3385,-99.8362C376.2762,-92.2619 390.592,-80.1299 401.7105,-70.7074\"/>\n",
       "<polygon fill=\"#000000\" stroke=\"#000000\" points=\"404.0815,-73.2859 409.4477,-64.1505 399.5559,-67.9456 404.0815,-73.2859\"/>\n",
       "</g>\n",
       "<!-- 28 -->\n",
       "<g id=\"node29\" class=\"node\">\n",
       "<title>28</title>\n",
       "<text text-anchor=\"middle\" x=\"358.8853\" y=\"-2.8\" font-family=\"Times,serif\" font-size=\"14.00\" fill=\"#000000\">2</text>\n",
       "</g>\n",
       "<!-- 27&#45;&gt;28 -->\n",
       "<g id=\"edge28\" class=\"edge\">\n",
       "<title>27&#45;&gt;28</title>\n",
       "<path fill=\"none\" stroke=\"#000000\" d=\"M358.8853,-49.6223C358.8853,-42.9738 358.8853,-32.942 358.8853,-24.2807\"/>\n",
       "<polygon fill=\"#000000\" stroke=\"#000000\" points=\"362.3854,-24.0842 358.8853,-14.0842 355.3854,-24.0842 362.3854,-24.0842\"/>\n",
       "</g>\n",
       "<!-- 30 -->\n",
       "<g id=\"node31\" class=\"node\">\n",
       "<title>30</title>\n",
       "<text text-anchor=\"middle\" x=\"417.8853\" y=\"-2.8\" font-family=\"Times,serif\" font-size=\"14.00\" fill=\"#000000\">0</text>\n",
       "</g>\n",
       "<!-- 29&#45;&gt;30 -->\n",
       "<g id=\"edge30\" class=\"edge\">\n",
       "<title>29&#45;&gt;30</title>\n",
       "<path fill=\"none\" stroke=\"#000000\" d=\"M417.8853,-49.6223C417.8853,-42.9738 417.8853,-32.942 417.8853,-24.2807\"/>\n",
       "<polygon fill=\"#000000\" stroke=\"#000000\" points=\"421.3854,-24.0842 417.8853,-14.0842 414.3854,-24.0842 421.3854,-24.0842\"/>\n",
       "</g>\n",
       "</g>\n",
       "</svg>\n"
      ],
      "text/plain": [
       "<graphviz.dot.Digraph at 0x11e336ef0>"
      ]
     },
     "metadata": {},
     "output_type": "display_data"
    }
   ],
   "source": [
    "display_tree(f.derivation_tree)"
   ]
  },
  {
   "cell_type": "code",
   "execution_count": 71,
   "metadata": {
    "button": false,
    "new_sheet": false,
    "run_control": {
     "read_only": false
    },
    "slideshow": {
     "slide_type": "fragment"
    }
   },
   "outputs": [
    {
     "data": {
      "text/plain": [
       "'-a%84'"
      ]
     },
     "execution_count": 71,
     "metadata": {},
     "output_type": "execute_result"
    }
   ],
   "source": [
    "f = GrammarFuzzer(CGI_GRAMMAR, min_nonterminals=3, max_nonterminals=5)\n",
    "f.fuzz()"
   ]
  },
  {
   "cell_type": "code",
   "execution_count": 72,
   "metadata": {
    "slideshow": {
     "slide_type": "fragment"
    }
   },
   "outputs": [
    {
     "data": {
      "image/svg+xml": [
       "<?xml version=\"1.0\" encoding=\"UTF-8\" standalone=\"no\"?>\n",
       "<!DOCTYPE svg PUBLIC \"-//W3C//DTD SVG 1.1//EN\"\n",
       " \"http://www.w3.org/Graphics/SVG/1.1/DTD/svg11.dtd\">\n",
       "<!-- Generated by graphviz version 2.40.1 (20161225.0304)\n",
       " -->\n",
       "<!-- Title: %3 Pages: 1 -->\n",
       "<svg width=\"268pt\" height=\"372pt\"\n",
       " viewBox=\"0.00 0.00 268.12 372.00\" xmlns=\"http://www.w3.org/2000/svg\" xmlns:xlink=\"http://www.w3.org/1999/xlink\">\n",
       "<g id=\"graph0\" class=\"graph\" transform=\"scale(1 1) rotate(0) translate(4 368)\">\n",
       "<title>%3</title>\n",
       "<polygon fill=\"#ffffff\" stroke=\"transparent\" points=\"-4,4 -4,-368 264.1152,-368 264.1152,4 -4,4\"/>\n",
       "<!-- 0 -->\n",
       "<g id=\"node1\" class=\"node\">\n",
       "<title>0</title>\n",
       "<text text-anchor=\"middle\" x=\"54.2783\" y=\"-352.8\" font-family=\"Times,serif\" font-size=\"14.00\" fill=\"#000000\">&lt;start&gt;</text>\n",
       "</g>\n",
       "<!-- 1 -->\n",
       "<g id=\"node2\" class=\"node\">\n",
       "<title>1</title>\n",
       "<text text-anchor=\"middle\" x=\"54.2783\" y=\"-302.8\" font-family=\"Times,serif\" font-size=\"14.00\" fill=\"#000000\">&lt;string&gt;</text>\n",
       "</g>\n",
       "<!-- 0&#45;&gt;1 -->\n",
       "<g id=\"edge1\" class=\"edge\">\n",
       "<title>0&#45;&gt;1</title>\n",
       "<path fill=\"none\" stroke=\"#000000\" d=\"M54.2783,-349.6223C54.2783,-342.9738 54.2783,-332.942 54.2783,-324.2807\"/>\n",
       "<polygon fill=\"#000000\" stroke=\"#000000\" points=\"57.7784,-324.0842 54.2783,-314.0842 50.7784,-324.0842 57.7784,-324.0842\"/>\n",
       "</g>\n",
       "<!-- 2 -->\n",
       "<g id=\"node3\" class=\"node\">\n",
       "<title>2</title>\n",
       "<text text-anchor=\"middle\" x=\"22.2783\" y=\"-252.8\" font-family=\"Times,serif\" font-size=\"14.00\" fill=\"#000000\">&lt;letter&gt;</text>\n",
       "</g>\n",
       "<!-- 1&#45;&gt;2 -->\n",
       "<g id=\"edge2\" class=\"edge\">\n",
       "<title>1&#45;&gt;2</title>\n",
       "<path fill=\"none\" stroke=\"#000000\" d=\"M49.5566,-299.6223C45.0147,-292.5255 38.0057,-281.574 32.2298,-272.5492\"/>\n",
       "<polygon fill=\"#000000\" stroke=\"#000000\" points=\"35.1507,-270.6202 26.8122,-264.0842 29.2548,-274.3936 35.1507,-270.6202\"/>\n",
       "</g>\n",
       "<!-- 5 -->\n",
       "<g id=\"node6\" class=\"node\">\n",
       "<title>5</title>\n",
       "<text text-anchor=\"middle\" x=\"86.2783\" y=\"-252.8\" font-family=\"Times,serif\" font-size=\"14.00\" fill=\"#000000\">&lt;string&gt;</text>\n",
       "</g>\n",
       "<!-- 1&#45;&gt;5 -->\n",
       "<g id=\"edge5\" class=\"edge\">\n",
       "<title>1&#45;&gt;5</title>\n",
       "<path fill=\"none\" stroke=\"#000000\" d=\"M59,-299.6223C63.542,-292.5255 70.551,-281.574 76.3269,-272.5492\"/>\n",
       "<polygon fill=\"#000000\" stroke=\"#000000\" points=\"79.3018,-274.3936 81.7444,-264.0842 73.4059,-270.6202 79.3018,-274.3936\"/>\n",
       "</g>\n",
       "<!-- 3 -->\n",
       "<g id=\"node4\" class=\"node\">\n",
       "<title>3</title>\n",
       "<text text-anchor=\"middle\" x=\"22.2783\" y=\"-202.8\" font-family=\"Times,serif\" font-size=\"14.00\" fill=\"#000000\">&lt;other&gt;</text>\n",
       "</g>\n",
       "<!-- 2&#45;&gt;3 -->\n",
       "<g id=\"edge3\" class=\"edge\">\n",
       "<title>2&#45;&gt;3</title>\n",
       "<path fill=\"none\" stroke=\"#000000\" d=\"M22.2783,-249.6223C22.2783,-242.9738 22.2783,-232.942 22.2783,-224.2807\"/>\n",
       "<polygon fill=\"#000000\" stroke=\"#000000\" points=\"25.7784,-224.0842 22.2783,-214.0842 18.7784,-224.0842 25.7784,-224.0842\"/>\n",
       "</g>\n",
       "<!-- 4 -->\n",
       "<g id=\"node5\" class=\"node\">\n",
       "<title>4</title>\n",
       "<text text-anchor=\"middle\" x=\"22.2783\" y=\"-152.8\" font-family=\"Times,serif\" font-size=\"14.00\" fill=\"#000000\">&#45;</text>\n",
       "</g>\n",
       "<!-- 3&#45;&gt;4 -->\n",
       "<g id=\"edge4\" class=\"edge\">\n",
       "<title>3&#45;&gt;4</title>\n",
       "<path fill=\"none\" stroke=\"#000000\" d=\"M22.2783,-199.6223C22.2783,-192.9738 22.2783,-182.942 22.2783,-174.2807\"/>\n",
       "<polygon fill=\"#000000\" stroke=\"#000000\" points=\"25.7784,-174.0842 22.2783,-164.0842 18.7784,-174.0842 25.7784,-174.0842\"/>\n",
       "</g>\n",
       "<!-- 6 -->\n",
       "<g id=\"node7\" class=\"node\">\n",
       "<title>6</title>\n",
       "<text text-anchor=\"middle\" x=\"85.2783\" y=\"-202.8\" font-family=\"Times,serif\" font-size=\"14.00\" fill=\"#000000\">&lt;letter&gt;</text>\n",
       "</g>\n",
       "<!-- 5&#45;&gt;6 -->\n",
       "<g id=\"edge6\" class=\"edge\">\n",
       "<title>5&#45;&gt;6</title>\n",
       "<path fill=\"none\" stroke=\"#000000\" d=\"M86.1308,-249.6223C85.9978,-242.9738 85.7972,-232.942 85.6239,-224.2807\"/>\n",
       "<polygon fill=\"#000000\" stroke=\"#000000\" points=\"89.1194,-224.0122 85.42,-214.0842 82.1208,-224.1522 89.1194,-224.0122\"/>\n",
       "</g>\n",
       "<!-- 9 -->\n",
       "<g id=\"node10\" class=\"node\">\n",
       "<title>9</title>\n",
       "<text text-anchor=\"middle\" x=\"149.2783\" y=\"-202.8\" font-family=\"Times,serif\" font-size=\"14.00\" fill=\"#000000\">&lt;string&gt;</text>\n",
       "</g>\n",
       "<!-- 5&#45;&gt;9 -->\n",
       "<g id=\"edge9\" class=\"edge\">\n",
       "<title>5&#45;&gt;9</title>\n",
       "<path fill=\"none\" stroke=\"#000000\" d=\"M95.3047,-249.8362C104.9419,-242.1877 120.4349,-229.8916 132.3552,-220.4311\"/>\n",
       "<polygon fill=\"#000000\" stroke=\"#000000\" points=\"134.6116,-223.1086 140.2687,-214.1505 130.26,-217.6256 134.6116,-223.1086\"/>\n",
       "</g>\n",
       "<!-- 7 -->\n",
       "<g id=\"node8\" class=\"node\">\n",
       "<title>7</title>\n",
       "<text text-anchor=\"middle\" x=\"85.2783\" y=\"-152.8\" font-family=\"Times,serif\" font-size=\"14.00\" fill=\"#000000\">&lt;other&gt;</text>\n",
       "</g>\n",
       "<!-- 6&#45;&gt;7 -->\n",
       "<g id=\"edge7\" class=\"edge\">\n",
       "<title>6&#45;&gt;7</title>\n",
       "<path fill=\"none\" stroke=\"#000000\" d=\"M85.2783,-199.6223C85.2783,-192.9738 85.2783,-182.942 85.2783,-174.2807\"/>\n",
       "<polygon fill=\"#000000\" stroke=\"#000000\" points=\"88.7784,-174.0842 85.2783,-164.0842 81.7784,-174.0842 88.7784,-174.0842\"/>\n",
       "</g>\n",
       "<!-- 8 -->\n",
       "<g id=\"node9\" class=\"node\">\n",
       "<title>8</title>\n",
       "<text text-anchor=\"middle\" x=\"85.2783\" y=\"-102.8\" font-family=\"Times,serif\" font-size=\"14.00\" fill=\"#000000\">a</text>\n",
       "</g>\n",
       "<!-- 7&#45;&gt;8 -->\n",
       "<g id=\"edge8\" class=\"edge\">\n",
       "<title>7&#45;&gt;8</title>\n",
       "<path fill=\"none\" stroke=\"#000000\" d=\"M85.2783,-149.6223C85.2783,-142.9738 85.2783,-132.942 85.2783,-124.2807\"/>\n",
       "<polygon fill=\"#000000\" stroke=\"#000000\" points=\"88.7784,-124.0842 85.2783,-114.0842 81.7784,-124.0842 88.7784,-124.0842\"/>\n",
       "</g>\n",
       "<!-- 10 -->\n",
       "<g id=\"node11\" class=\"node\">\n",
       "<title>10</title>\n",
       "<text text-anchor=\"middle\" x=\"149.2783\" y=\"-152.8\" font-family=\"Times,serif\" font-size=\"14.00\" fill=\"#000000\">&lt;letter&gt;</text>\n",
       "</g>\n",
       "<!-- 9&#45;&gt;10 -->\n",
       "<g id=\"edge10\" class=\"edge\">\n",
       "<title>9&#45;&gt;10</title>\n",
       "<path fill=\"none\" stroke=\"#000000\" d=\"M149.2783,-199.6223C149.2783,-192.9738 149.2783,-182.942 149.2783,-174.2807\"/>\n",
       "<polygon fill=\"#000000\" stroke=\"#000000\" points=\"152.7784,-174.0842 149.2783,-164.0842 145.7784,-174.0842 152.7784,-174.0842\"/>\n",
       "</g>\n",
       "<!-- 11 -->\n",
       "<g id=\"node12\" class=\"node\">\n",
       "<title>11</title>\n",
       "<text text-anchor=\"middle\" x=\"149.2783\" y=\"-102.8\" font-family=\"Times,serif\" font-size=\"14.00\" fill=\"#000000\">&lt;percent&gt;</text>\n",
       "</g>\n",
       "<!-- 10&#45;&gt;11 -->\n",
       "<g id=\"edge11\" class=\"edge\">\n",
       "<title>10&#45;&gt;11</title>\n",
       "<path fill=\"none\" stroke=\"#000000\" d=\"M149.2783,-149.6223C149.2783,-142.9738 149.2783,-132.942 149.2783,-124.2807\"/>\n",
       "<polygon fill=\"#000000\" stroke=\"#000000\" points=\"152.7784,-124.0842 149.2783,-114.0842 145.7784,-124.0842 152.7784,-124.0842\"/>\n",
       "</g>\n",
       "<!-- 12 -->\n",
       "<g id=\"node13\" class=\"node\">\n",
       "<title>12</title>\n",
       "<text text-anchor=\"middle\" x=\"94.2783\" y=\"-52.8\" font-family=\"Times,serif\" font-size=\"14.00\" fill=\"#000000\">%</text>\n",
       "</g>\n",
       "<!-- 11&#45;&gt;12 -->\n",
       "<g id=\"edge12\" class=\"edge\">\n",
       "<title>11&#45;&gt;12</title>\n",
       "<path fill=\"none\" stroke=\"#000000\" d=\"M141.1629,-99.6223C132.2975,-91.5629 117.9635,-78.532 107.4755,-68.9974\"/>\n",
       "<polygon fill=\"#000000\" stroke=\"#000000\" points=\"109.8206,-66.3992 100.0668,-62.2623 105.1119,-71.5788 109.8206,-66.3992\"/>\n",
       "</g>\n",
       "<!-- 13 -->\n",
       "<g id=\"node14\" class=\"node\">\n",
       "<title>13</title>\n",
       "<text text-anchor=\"middle\" x=\"149.2783\" y=\"-52.8\" font-family=\"Times,serif\" font-size=\"14.00\" fill=\"#000000\">&lt;hexdigit&gt;</text>\n",
       "</g>\n",
       "<!-- 11&#45;&gt;13 -->\n",
       "<g id=\"edge13\" class=\"edge\">\n",
       "<title>11&#45;&gt;13</title>\n",
       "<path fill=\"none\" stroke=\"#000000\" d=\"M149.2783,-99.6223C149.2783,-92.9738 149.2783,-82.942 149.2783,-74.2807\"/>\n",
       "<polygon fill=\"#000000\" stroke=\"#000000\" points=\"152.7784,-74.0842 149.2783,-64.0842 145.7784,-74.0842 152.7784,-74.0842\"/>\n",
       "</g>\n",
       "<!-- 15 -->\n",
       "<g id=\"node16\" class=\"node\">\n",
       "<title>15</title>\n",
       "<text text-anchor=\"middle\" x=\"229.2783\" y=\"-52.8\" font-family=\"Times,serif\" font-size=\"14.00\" fill=\"#000000\">&lt;hexdigit&gt;</text>\n",
       "</g>\n",
       "<!-- 11&#45;&gt;15 -->\n",
       "<g id=\"edge15\" class=\"edge\">\n",
       "<title>11&#45;&gt;15</title>\n",
       "<path fill=\"none\" stroke=\"#000000\" d=\"M160.7404,-99.8362C173.3345,-91.9649 193.8042,-79.1713 209.0994,-69.6118\"/>\n",
       "<polygon fill=\"#000000\" stroke=\"#000000\" points=\"211.2125,-72.4185 217.8375,-64.1505 207.5025,-66.4825 211.2125,-72.4185\"/>\n",
       "</g>\n",
       "<!-- 14 -->\n",
       "<g id=\"node15\" class=\"node\">\n",
       "<title>14</title>\n",
       "<text text-anchor=\"middle\" x=\"149.2783\" y=\"-2.8\" font-family=\"Times,serif\" font-size=\"14.00\" fill=\"#000000\">8</text>\n",
       "</g>\n",
       "<!-- 13&#45;&gt;14 -->\n",
       "<g id=\"edge14\" class=\"edge\">\n",
       "<title>13&#45;&gt;14</title>\n",
       "<path fill=\"none\" stroke=\"#000000\" d=\"M149.2783,-49.6223C149.2783,-42.9738 149.2783,-32.942 149.2783,-24.2807\"/>\n",
       "<polygon fill=\"#000000\" stroke=\"#000000\" points=\"152.7784,-24.0842 149.2783,-14.0842 145.7784,-24.0842 152.7784,-24.0842\"/>\n",
       "</g>\n",
       "<!-- 16 -->\n",
       "<g id=\"node17\" class=\"node\">\n",
       "<title>16</title>\n",
       "<text text-anchor=\"middle\" x=\"229.2783\" y=\"-2.8\" font-family=\"Times,serif\" font-size=\"14.00\" fill=\"#000000\">4</text>\n",
       "</g>\n",
       "<!-- 15&#45;&gt;16 -->\n",
       "<g id=\"edge16\" class=\"edge\">\n",
       "<title>15&#45;&gt;16</title>\n",
       "<path fill=\"none\" stroke=\"#000000\" d=\"M229.2783,-49.6223C229.2783,-42.9738 229.2783,-32.942 229.2783,-24.2807\"/>\n",
       "<polygon fill=\"#000000\" stroke=\"#000000\" points=\"232.7784,-24.0842 229.2783,-14.0842 225.7784,-24.0842 232.7784,-24.0842\"/>\n",
       "</g>\n",
       "</g>\n",
       "</svg>\n"
      ],
      "text/plain": [
       "<graphviz.dot.Digraph at 0x11e341e80>"
      ]
     },
     "metadata": {},
     "output_type": "display_data"
    }
   ],
   "source": [
    "display_tree(f.derivation_tree)"
   ]
  },
  {
   "cell_type": "markdown",
   "metadata": {
    "button": false,
    "new_sheet": false,
    "run_control": {
     "read_only": false
    },
    "slideshow": {
     "slide_type": "fragment"
    }
   },
   "source": [
    "How do we stack up against `simple_grammar_fuzzer()`?"
   ]
  },
  {
   "cell_type": "code",
   "execution_count": 73,
   "metadata": {
    "button": false,
    "new_sheet": false,
    "run_control": {
     "read_only": false
    },
    "slideshow": {
     "slide_type": "subslide"
    }
   },
   "outputs": [
    {
     "name": "stdout",
     "output_type": "stream",
     "text": [
      "0 1 2 3 4 5 6 7 8 9 10 11 12 13 14 15 16 17 18 19 20 21 22 23 24 25 26 27 28 29 30 31 32 33 34 35 36 37 38 39 40 41 42 43 44 45 46 47 48 49 \n"
     ]
    }
   ],
   "source": [
    "trials = 50\n",
    "xs = []\n",
    "ys = []\n",
    "f = GrammarFuzzer(EXPR_GRAMMAR, max_nonterminals=20)\n",
    "for i in range(trials):\n",
    "    with Timer() as t:\n",
    "        s = f.fuzz()\n",
    "    xs.append(len(s))\n",
    "    ys.append(t.elapsed_time())\n",
    "    print(i, end=\" \")\n",
    "print()"
   ]
  },
  {
   "cell_type": "code",
   "execution_count": 74,
   "metadata": {
    "button": false,
    "new_sheet": false,
    "run_control": {
     "read_only": false
    },
    "slideshow": {
     "slide_type": "subslide"
    }
   },
   "outputs": [
    {
     "name": "stdout",
     "output_type": "stream",
     "text": [
      "Average time: 0.061898268547374756\n"
     ]
    }
   ],
   "source": [
    "average_time = sum(ys) / trials\n",
    "print(\"Average time:\", average_time)"
   ]
  },
  {
   "cell_type": "code",
   "execution_count": 75,
   "metadata": {
    "button": false,
    "new_sheet": false,
    "run_control": {
     "read_only": false
    },
    "slideshow": {
     "slide_type": "fragment"
    }
   },
   "outputs": [
    {
     "data": {
      "image/png": "[encoded data removed]",
      "text/plain": [
       "<Figure size 432x288 with 1 Axes>"
      ]
     },
     "metadata": {},
     "output_type": "display_data"
    }
   ],
   "source": [
    "%matplotlib inline\n",
    "\n",
    "import matplotlib.pyplot as plt\n",
    "plt.scatter(xs, ys)\n",
    "plt.title('Time required for generating an output');"
   ]
  },
  {
   "cell_type": "markdown",
   "metadata": {
    "button": false,
    "new_sheet": false,
    "run_control": {
     "read_only": false
    },
    "slideshow": {
     "slide_type": "fragment"
    }
   },
   "source": [
    "Our test generation is much faster, but also our inputs are much smaller.  \\todo{(Actually, parts of the time gain may be due to the faster time.)}  We see that with derivation trees, we can get much better control over grammar production."
   ]
  },
  {
   "cell_type": "markdown",
   "metadata": {
    "slideshow": {
     "slide_type": "subslide"
    }
   },
   "source": [
    "Finally, how does `GrammarFuzzer` work with `expr_grammar`, where `simple_grammar_fuzzer()` failed?  It works without any issue:"
   ]
  },
  {
   "cell_type": "code",
   "execution_count": 76,
   "metadata": {
    "slideshow": {
     "slide_type": "fragment"
    }
   },
   "outputs": [
    {
     "data": {
      "text/plain": [
       "'(0 / 1) / 9 + 9 / 1 + 3 / 8 / 2 + 0'"
      ]
     },
     "execution_count": 76,
     "metadata": {},
     "output_type": "execute_result"
    }
   ],
   "source": [
    "f = GrammarFuzzer(expr_grammar, max_nonterminals=10)\n",
    "f.fuzz()"
   ]
  },
  {
   "cell_type": "markdown",
   "metadata": {
    "slideshow": {
     "slide_type": "fragment"
    }
   },
   "source": [
    "With `GrammarFuzzer`, we now have a solid foundation on which to build further fuzzers and illustrate more exciting concepts from the world of generating software tests.  Many of these do not even require writing a grammar – instead, they _infer_ a grammar from the domain at hand, and thus allow to use grammar-based fuzzing even without writing a grammar.  Stay tuned!"
   ]
  },
  {
   "cell_type": "markdown",
   "metadata": {
    "button": false,
    "new_sheet": true,
    "run_control": {
     "read_only": false
    },
    "slideshow": {
     "slide_type": "slide"
    }
   },
   "source": [
    "## Lessons Learned\n",
    "\n",
    "* _Derivation trees_ are important for expressing input structure\n",
    "* _Grammar fuzzing based on derivation trees_ \n",
    "    1. is much more efficient than string-based grammar fuzzing,\n",
    "    2. gives much better control over input generation, and\n",
    "    3. effectively avoids running into infinite expansions."
   ]
  },
  {
   "cell_type": "markdown",
   "metadata": {
    "button": false,
    "new_sheet": false,
    "run_control": {
     "read_only": false
    },
    "slideshow": {
     "slide_type": "slide"
    }
   },
   "source": [
    "## Next Steps\n",
    "\n",
    "Congratulations!  You have reached one of the central \"hubs\" of the book.  From here, there is a wide range of techniques that build on grammar fuzzing.\n",
    "\n",
    "### Extending Grammars\n",
    "\n",
    "First, we have a number of techniques that all _extend_ grammars in some form.  You can:\n",
    "\n",
    "* [parse and recombine inputs](Parser.ipynb), again using derivation trees\n",
    "* [systematically cover grammar expansions](GrammarCoverageFuzzer.ipynb), allowing for _combinatorial_ coverage\n",
    "* [assign _probabilities_ to individual expansions](ProbabilisticGrammarFuzzer.ipynb), controlling expansions\n",
    "* [assign _constraints_ to individual expansions](ConstraintGrammarFuzzer.ipynb), expressing _semantic constraints_\n",
    "\n",
    "### Applying Grammars\n",
    "\n",
    "Second, we can _apply_ grammars in a variety of contexts that all involve some form of learning it automatically:\n",
    "\n",
    "* [Fuzzing APIs](APIFuzzer.ipynb), learning a grammar from APIs\n",
    "* [Fuzzing GUIs](GUIFuzzer.ipynb), learning a grammar from user interfaces for subsequent fuzzing\n",
    "* [Mining Grammars](GrammarMiner.ipynb), learning a grammar for arbitrary input formats\n",
    "\n",
    "Keep on expanding!"
   ]
  },
  {
   "cell_type": "markdown",
   "metadata": {
    "button": false,
    "new_sheet": false,
    "run_control": {
     "read_only": false
    },
    "slideshow": {
     "slide_type": "slide"
    }
   },
   "source": [
    "## Exercises\n",
    "\n",
    "\\todo{Finish.}"
   ]
  },
  {
   "cell_type": "markdown",
   "metadata": {
    "button": false,
    "new_sheet": false,
    "run_control": {
     "read_only": false
    },
    "slideshow": {
     "slide_type": "subslide"
    },
    "solution": "hidden",
    "solution2": "hidden",
    "solution2_first": true,
    "solution_first": true
   },
   "source": [
    "### Exercise 1\n",
    "\n",
    "Speed up things by memoizing."
   ]
  },
  {
   "cell_type": "markdown",
   "metadata": {
    "slideshow": {
     "slide_type": "skip"
    },
    "solution2": "hidden"
   },
   "source": [
    "**Solution**.  Here's a sketch:"
   ]
  },
  {
   "cell_type": "code",
   "execution_count": 77,
   "metadata": {
    "button": false,
    "new_sheet": false,
    "run_control": {
     "read_only": false
    },
    "slideshow": {
     "slide_type": "skip"
    },
    "solution2": "hidden"
   },
   "outputs": [],
   "source": [
    "def memoize(argnum):\n",
    "    # cache the function calls. We only cache a given call based on the\n",
    "    # indicated argument number per function.\n",
    "    def fn_wrap(function):\n",
    "        memo = {}\n",
    "\n",
    "        def wrapper(*args):\n",
    "            if args[argnum] in memo:\n",
    "                return memo[args[argnum]]\n",
    "            rv = function(*args)\n",
    "            memo[args[argnum]] = rv\n",
    "            return rv\n",
    "        return wrapper\n",
    "    return fn_wrap"
   ]
  },
  {
   "cell_type": "markdown",
   "metadata": {
    "button": false,
    "new_sheet": false,
    "run_control": {
     "read_only": false
    },
    "slideshow": {
     "slide_type": "subslide"
    },
    "solution": "hidden",
    "solution2": "hidden",
    "solution2_first": true,
    "solution_first": true
   },
   "source": [
    "### Exercise 2\n",
    "\n",
    "Speed up things by tracking which children still can be expanded."
   ]
  },
  {
   "cell_type": "markdown",
   "metadata": {
    "button": false,
    "new_sheet": false,
    "run_control": {
     "read_only": false
    },
    "slideshow": {
     "slide_type": "skip"
    },
    "solution": "hidden",
    "solution2": "hidden"
   },
   "source": [
    "**Solution.** Left as exercise for the reader."
   ]
  },
  {
   "cell_type": "markdown",
   "metadata": {
    "slideshow": {
     "slide_type": "subslide"
    }
   },
   "source": [
    "### Exercise 3"
   ]
  },
  {
   "cell_type": "markdown",
   "metadata": {
    "slideshow": {
     "slide_type": "fragment"
    }
   },
   "source": [
    "We could define `expand_node_randomly()` such that it simply invokes `expand_node_by_cost(node, random.choice)`:"
   ]
  },
  {
   "cell_type": "code",
   "execution_count": 78,
   "metadata": {
    "slideshow": {
     "slide_type": "fragment"
    }
   },
   "outputs": [],
   "source": [
    "class ExerciseGrammarFuzzer(GrammarFuzzer):\n",
    "    def expand_node_randomly(self, node):\n",
    "        if self.log:\n",
    "            print(\"Expanding\", all_terminals(node), \"randomly by cost\")\n",
    "\n",
    "        return self.expand_node_by_cost(node, random.choice)"
   ]
  },
  {
   "cell_type": "markdown",
   "metadata": {
    "slideshow": {
     "slide_type": "fragment"
    },
    "solution2": "hidden",
    "solution2_first": true
   },
   "source": [
    "What is the difference between the original implementation and this alternative?"
   ]
  },
  {
   "cell_type": "markdown",
   "metadata": {
    "button": false,
    "new_sheet": false,
    "run_control": {
     "read_only": false
    },
    "slideshow": {
     "slide_type": "skip"
    },
    "solution": "hidden",
    "solution2": "hidden"
   },
   "source": [
    "**Solution.** The alternative has another probability distribution."
   ]
  }
 ],
 "metadata": {
  "ipub": {
   "bibliography": "fuzzingbook.bib",
   "toc": true
  },
  "kernelspec": {
   "display_name": "Python 3",
   "language": "python",
   "name": "python3"
  },
  "language_info": {
   "codemirror_mode": {
    "name": "ipython",
    "version": 3
   },
   "file_extension": ".py",
   "mimetype": "text/x-python",
   "name": "python",
   "nbconvert_exporter": "python",
   "pygments_lexer": "ipython3",
   "version": "3.6.5"
  },
  "toc": {
   "base_numbering": 1,
   "nav_menu": {},
   "number_sections": true,
   "sideBar": true,
   "skip_h1_title": true,
   "title_cell": "",
   "title_sidebar": "Contents",
   "toc_cell": false,
   "toc_position": {},
   "toc_section_display": true,
   "toc_window_display": true
  }
 },
 "nbformat": 4,
 "nbformat_minor": 2
}
