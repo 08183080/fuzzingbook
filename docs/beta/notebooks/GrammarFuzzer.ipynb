{
 "cells": [
  {
   "cell_type": "markdown",
   "metadata": {
    "button": false,
    "new_sheet": true,
    "run_control": {
     "read_only": false
    },
    "slideshow": {
     "slide_type": "slide"
    }
   },
   "source": [
    "# Efficient Grammar Fuzzing\n",
    "\n",
    "In the [chapter on grammars](Grammars.ipynb), we have seen how to use _grammars_ for very effective and efficient testing.  In this chapter, we refine the previous string-based algorithm into a tree-based algorithm, which is much faster and allows for much more control over the production of fuzz inputs."
   ]
  },
  {
   "cell_type": "markdown",
   "metadata": {
    "button": false,
    "new_sheet": true,
    "run_control": {
     "read_only": false
    },
    "slideshow": {
     "slide_type": "skip"
    }
   },
   "source": [
    "The algorithm in this chapter serves as a foundation for several more techniques; this chapter thus is a \"hub\" in the book."
   ]
  },
  {
   "cell_type": "markdown",
   "metadata": {
    "button": false,
    "new_sheet": false,
    "run_control": {
     "read_only": false
    },
    "slideshow": {
     "slide_type": "skip"
    }
   },
   "source": [
    "**Prerequisites**\n",
    "\n",
    "* You should know how grammar-based fuzzing works, e.g. from the [chapter on grammars](Grammars.ipynb)."
   ]
  },
  {
   "cell_type": "markdown",
   "metadata": {
    "slideshow": {
     "slide_type": "slide"
    }
   },
   "source": [
    "## An Insufficient Algorithm\n",
    "\n",
    "In the [previous chapter](Grammars.ipynb), we have introduced the `simple_grammar_fuzzer()` function which takes a grammar and automatically produces a syntactically valid string from it.  However, `simple_grammar_fuzzer()` is just what its name suggests – simple.  To illustrate the problem, let us get back to the `expr_grammar` we created from `EXPR_GRAMMAR_BNF` in the [chapter on grammars](Grammars.ipynb):"
   ]
  },
  {
   "cell_type": "code",
   "execution_count": 1,
   "metadata": {
    "slideshow": {
     "slide_type": "skip"
    }
   },
   "outputs": [],
   "source": [
    "import fuzzingbook_utils"
   ]
  },
  {
   "cell_type": "code",
   "execution_count": 2,
   "metadata": {
    "slideshow": {
     "slide_type": "skip"
    }
   },
   "outputs": [],
   "source": [
    "from Grammars import EXPR_EBNF_GRAMMAR, convert_ebnf_grammar, simple_grammar_fuzzer"
   ]
  },
  {
   "cell_type": "code",
   "execution_count": 3,
   "metadata": {
    "slideshow": {
     "slide_type": "subslide"
    }
   },
   "outputs": [
    {
     "data": {
      "text/plain": [
       "{'<start>': ['<expr>'],\n",
       " '<expr>': ['<term> + <expr>', '<term> - <expr>', '<term>'],\n",
       " '<term>': ['<factor> * <term>', '<factor> / <term>', '<factor>'],\n",
       " '<factor>': ['<sign-1><factor>', '(<expr>)', '<integer><symbol-1>'],\n",
       " '<sign>': ['+', '-'],\n",
       " '<integer>': ['<digit-1>'],\n",
       " '<digit>': ['0', '1', '2', '3', '4', '5', '6', '7', '8', '9'],\n",
       " '<symbol>': ['.<integer>'],\n",
       " '<sign-1>': ['', '<sign>'],\n",
       " '<symbol-1>': ['', '<symbol>'],\n",
       " '<digit-1>': ['<digit>', '<digit><digit-1>']}"
      ]
     },
     "execution_count": 3,
     "metadata": {},
     "output_type": "execute_result"
    }
   ],
   "source": [
    "expr_grammar = convert_ebnf_grammar(EXPR_EBNF_GRAMMAR)\n",
    "expr_grammar"
   ]
  },
  {
   "cell_type": "markdown",
   "metadata": {
    "slideshow": {
     "slide_type": "subslide"
    }
   },
   "source": [
    "`expr_grammar` has an interesting property.  If we feed it into `simple_grammar_fuzzer()`, the function gets stuck in an infinite expansion:"
   ]
  },
  {
   "cell_type": "code",
   "execution_count": 4,
   "metadata": {
    "slideshow": {
     "slide_type": "skip"
    }
   },
   "outputs": [],
   "source": [
    "from ExpectError import ExpectTimeout"
   ]
  },
  {
   "cell_type": "code",
   "execution_count": 5,
   "metadata": {
    "slideshow": {
     "slide_type": "fragment"
    }
   },
   "outputs": [
    {
     "name": "stderr",
     "output_type": "stream",
     "text": [
      "Traceback (most recent call last):\n",
      "  File \"<ipython-input-5-fbcda5f486bb>\", line 2, in <module>\n",
      "    simple_grammar_fuzzer(grammar=expr_grammar, max_nonterminals=3)\n",
      "  File \"<string>\", line 7, in simple_grammar_fuzzer\n",
      "  File \"<string>\", line 7, in nonterminals\n",
      "  File \"/Users/zeller/anaconda3/lib/python3.6/re.py\", line 222, in findall\n",
      "    return _compile(pattern, flags).findall(string)\n",
      "  File \"<string>\", line 16, in check_time\n",
      "TimeoutError (expected)\n"
     ]
    }
   ],
   "source": [
    "with ExpectTimeout(1):\n",
    "    simple_grammar_fuzzer(grammar=expr_grammar, max_nonterminals=3)"
   ]
  },
  {
   "cell_type": "markdown",
   "metadata": {
    "slideshow": {
     "slide_type": "subslide"
    }
   },
   "source": [
    "Why is that so?  The problem is in this rule:"
   ]
  },
  {
   "cell_type": "code",
   "execution_count": 6,
   "metadata": {
    "slideshow": {
     "slide_type": "fragment"
    }
   },
   "outputs": [
    {
     "data": {
      "text/plain": [
       "['<sign-1><factor>', '(<expr>)', '<integer><symbol-1>']"
      ]
     },
     "execution_count": 6,
     "metadata": {},
     "output_type": "execute_result"
    }
   ],
   "source": [
    "expr_grammar['<factor>']"
   ]
  },
  {
   "cell_type": "markdown",
   "metadata": {
    "slideshow": {
     "slide_type": "fragment"
    }
   },
   "source": [
    "Here, any choice except for `(expr)` increases the number of symbols, even if only temporary.  Since we place a hard limit on the number of symbols to expand, the only choice left for expanding `<factor>` is `(<expr>)`, which leads to an infinite addition of parentheses."
   ]
  },
  {
   "cell_type": "markdown",
   "metadata": {
    "button": false,
    "new_sheet": false,
    "run_control": {
     "read_only": false
    },
    "slideshow": {
     "slide_type": "subslide"
    }
   },
   "source": [
    "The problem of potentially infinite expansion is only one of the problems with `simple_grammar_fuzzer()`.  More problems include:\n",
    "\n",
    "1. *It is inefficient*.  With each iteration, this fuzzer would go search the string produced so far for symbols to expand.  This becomes inefficient as the production string grows.\n",
    "\n",
    "2. *It is hard to control.*  Even while limiting the number of symbols, it is still possible to obtain very long strings – and even infinitely long ones, as discussed above.\n",
    "\n",
    "Let us illustrate both problems by plotting the time required for strings of different lengths."
   ]
  },
  {
   "cell_type": "code",
   "execution_count": 7,
   "metadata": {
    "button": false,
    "new_sheet": false,
    "run_control": {
     "read_only": false
    },
    "slideshow": {
     "slide_type": "skip"
    }
   },
   "outputs": [],
   "source": [
    "from Grammars import simple_grammar_fuzzer"
   ]
  },
  {
   "cell_type": "code",
   "execution_count": 8,
   "metadata": {
    "button": false,
    "new_sheet": false,
    "run_control": {
     "read_only": false
    },
    "slideshow": {
     "slide_type": "skip"
    }
   },
   "outputs": [],
   "source": [
    "from Grammars import START_SYMBOL, EXPR_GRAMMAR, URL_GRAMMAR, CGI_GRAMMAR"
   ]
  },
  {
   "cell_type": "code",
   "execution_count": 9,
   "metadata": {
    "button": false,
    "new_sheet": false,
    "run_control": {
     "read_only": false
    },
    "slideshow": {
     "slide_type": "skip"
    }
   },
   "outputs": [],
   "source": [
    "from Grammars import RE_NONTERMINAL, nonterminals, is_nonterminal"
   ]
  },
  {
   "cell_type": "code",
   "execution_count": 10,
   "metadata": {
    "button": false,
    "new_sheet": false,
    "run_control": {
     "read_only": false
    },
    "slideshow": {
     "slide_type": "skip"
    }
   },
   "outputs": [],
   "source": [
    "from Timer import Timer"
   ]
  },
  {
   "cell_type": "code",
   "execution_count": 11,
   "metadata": {
    "button": false,
    "new_sheet": false,
    "run_control": {
     "read_only": false
    },
    "slideshow": {
     "slide_type": "subslide"
    }
   },
   "outputs": [
    {
     "name": "stdout",
     "output_type": "stream",
     "text": [
      "0 1 2 3 4 5 6 7 8 9 10 11 12 13 14 15 16 17 18 19 20 21 22 23 24 25 26 27 28 29 30 31 32 33 34 35 36 37 38 39 40 41 42 43 44 45 46 47 48 49 \n"
     ]
    }
   ],
   "source": [
    "trials = 50\n",
    "xs = []\n",
    "ys = []\n",
    "for i in range(trials):\n",
    "    with Timer() as t:\n",
    "        s = simple_grammar_fuzzer(EXPR_GRAMMAR, max_nonterminals=15)\n",
    "    xs.append(len(s))\n",
    "    ys.append(t.elapsed_time())\n",
    "    print(i, end=\" \")\n",
    "print()"
   ]
  },
  {
   "cell_type": "code",
   "execution_count": 12,
   "metadata": {
    "button": false,
    "new_sheet": false,
    "run_control": {
     "read_only": false
    },
    "slideshow": {
     "slide_type": "subslide"
    }
   },
   "outputs": [
    {
     "name": "stdout",
     "output_type": "stream",
     "text": [
      "Average time: 0.17399879016011255\n"
     ]
    }
   ],
   "source": [
    "average_time = sum(ys) / trials\n",
    "print(\"Average time:\", average_time)"
   ]
  },
  {
   "cell_type": "code",
   "execution_count": 13,
   "metadata": {
    "button": false,
    "new_sheet": false,
    "run_control": {
     "read_only": false
    },
    "slideshow": {
     "slide_type": "fragment"
    }
   },
   "outputs": [
    {
     "data": {
      "text/plain": [
       "Text(0.5,1,'Time required for generating an output')"
      ]
     },
     "execution_count": 13,
     "metadata": {},
     "output_type": "execute_result"
    },
    {
     "data": {
      "image/png": "[encoded data removed]",
      "text/plain": [
       "<Figure size 432x288 with 1 Axes>"
      ]
     },
     "metadata": {
      "needs_background": "light"
     },
     "output_type": "display_data"
    }
   ],
   "source": [
    "%matplotlib inline\n",
    "\n",
    "import matplotlib.pyplot as plt\n",
    "plt.scatter(xs, ys)\n",
    "plt.title('Time required for generating an output')"
   ]
  },
  {
   "cell_type": "markdown",
   "metadata": {
    "button": false,
    "new_sheet": false,
    "run_control": {
     "read_only": false
    },
    "slideshow": {
     "slide_type": "fragment"
    }
   },
   "source": [
    "We see that (1) the effort increases quadratically over time, and (2) we can easily produce outputs that are tens of thousands of characters long."
   ]
  },
  {
   "cell_type": "markdown",
   "metadata": {
    "slideshow": {
     "slide_type": "subslide"
    }
   },
   "source": [
    "To address these problem, we need a _smarter algorithm_ – one that is more efficient, that gets us better control over expansions, and that is able to foresee in `expr_grammar` that the `(expr)` alternative yields a potentially infinite expansion, in contrast to the other two."
   ]
  },
  {
   "cell_type": "markdown",
   "metadata": {
    "button": false,
    "new_sheet": false,
    "run_control": {
     "read_only": false
    },
    "slideshow": {
     "slide_type": "slide"
    }
   },
   "source": [
    "## Derivation Trees\n",
    "\n",
    "To both obtain a more efficient algorithm _and_ exercise better control over expansions, we will use a special representation for the strings that our grammar produces.  The general idea is to use a _tree_ structure that will be subsequently expanded – a so-called _derivation tree_."
   ]
  },
  {
   "cell_type": "markdown",
   "metadata": {
    "button": false,
    "new_sheet": false,
    "run_control": {
     "read_only": false
    },
    "slideshow": {
     "slide_type": "fragment"
    }
   },
   "source": [
    "Like other trees used in programming, a derivation tree (also known as _parse tree_ or _concrete syntax tree_) consists of _nodes_ which have other nodes as their _children_.  The tree starts with one node that has no parent; this is called the _root node_; a node without children is called a _leaf_."
   ]
  },
  {
   "cell_type": "markdown",
   "metadata": {
    "button": false,
    "new_sheet": false,
    "run_control": {
     "read_only": false
    },
    "slideshow": {
     "slide_type": "subslide"
    }
   },
   "source": [
    "The grammar expansion process with derivation trees is illustrated in the following steps, using the arithmetic grammar [from\n",
    "the chapter on grammars](Grammars.ipynb).  We start with a single node as root of the tree, representing the _start symbol_ – in our case `<start>`."
   ]
  },
  {
   "cell_type": "markdown",
   "metadata": {
    "ipub": {
     "ignore": true
    },
    "slideshow": {
     "slide_type": "skip"
    }
   },
   "source": [
    "(We use `dot` as a drawing program; you don't need to look at the code, just at its results.)"
   ]
  },
  {
   "cell_type": "code",
   "execution_count": 14,
   "metadata": {
    "button": false,
    "ipub": {
     "ignore": true
    },
    "new_sheet": false,
    "run_control": {
     "read_only": false
    },
    "slideshow": {
     "slide_type": "skip"
    }
   },
   "outputs": [],
   "source": [
    "from graphviz import Digraph"
   ]
  },
  {
   "cell_type": "code",
   "execution_count": 15,
   "metadata": {
    "button": false,
    "ipub": {
     "ignore": true
    },
    "new_sheet": false,
    "run_control": {
     "read_only": false
    },
    "slideshow": {
     "slide_type": "skip"
    }
   },
   "outputs": [],
   "source": [
    "tree = Digraph(\"root\")\n",
    "tree.attr('node', shape='plain')\n",
    "tree.node(r\"\\<start\\>\")"
   ]
  },
  {
   "cell_type": "code",
   "execution_count": 16,
   "metadata": {
    "button": false,
    "new_sheet": false,
    "run_control": {
     "read_only": false
    },
    "slideshow": {
     "slide_type": "fragment"
    }
   },
   "outputs": [
    {
     "data": {
      "image/svg+xml": [
       "<?xml version=\"1.0\" encoding=\"UTF-8\" standalone=\"no\"?>\n",
       "<!DOCTYPE svg PUBLIC \"-//W3C//DTD SVG 1.1//EN\"\n",
       " \"http://www.w3.org/Graphics/SVG/1.1/DTD/svg11.dtd\">\n",
       "<!-- Generated by graphviz version 2.40.1 (20161225.0304)\n",
       " -->\n",
       "<!-- Title: root Pages: 1 -->\n",
       "<svg width=\"48pt\" height=\"23pt\"\n",
       " viewBox=\"0.00 0.00 48.00 23.00\" xmlns=\"http://www.w3.org/2000/svg\" xmlns:xlink=\"http://www.w3.org/1999/xlink\">\n",
       "<g id=\"graph0\" class=\"graph\" transform=\"scale(1 1) rotate(0) translate(4 19)\">\n",
       "<title>root</title>\n",
       "<polygon fill=\"#ffffff\" stroke=\"transparent\" points=\"-4,4 -4,-19 44,-19 44,4 -4,4\"/>\n",
       "<!-- \\&lt;start\\&gt; -->\n",
       "<g id=\"node1\" class=\"node\">\n",
       "<title>\\&lt;start\\&gt;</title>\n",
       "<text text-anchor=\"middle\" x=\"20\" y=\"-3.8\" font-family=\"Times,serif\" font-size=\"14.00\" fill=\"#000000\">&lt;start&gt;</text>\n",
       "</g>\n",
       "</g>\n",
       "</svg>\n"
      ],
      "text/plain": [
       "<graphviz.dot.Digraph at 0x121c3e4e0>"
      ]
     },
     "execution_count": 16,
     "metadata": {},
     "output_type": "execute_result"
    }
   ],
   "source": [
    "tree"
   ]
  },
  {
   "cell_type": "markdown",
   "metadata": {
    "button": false,
    "new_sheet": false,
    "run_control": {
     "read_only": false
    },
    "slideshow": {
     "slide_type": "subslide"
    }
   },
   "source": [
    "To expand the tree, we traverse it, searching for a symbol $S$ without children to expand, and chose an expansion for $S$ from the grammar.  Then, we add the expansion as a new child of $S$.  For our start symbol `<start>`, the only expansion is `<expr>`, so we add it as a child."
   ]
  },
  {
   "cell_type": "code",
   "execution_count": 17,
   "metadata": {
    "button": false,
    "ipub": {
     "ignore": true
    },
    "new_sheet": false,
    "run_control": {
     "read_only": false
    },
    "slideshow": {
     "slide_type": "skip"
    }
   },
   "outputs": [],
   "source": [
    "tree.edge(r\"\\<start\\>\", r\"\\<expr\\>\")"
   ]
  },
  {
   "cell_type": "code",
   "execution_count": 18,
   "metadata": {
    "button": false,
    "new_sheet": false,
    "run_control": {
     "read_only": false
    },
    "slideshow": {
     "slide_type": "fragment"
    }
   },
   "outputs": [
    {
     "data": {
      "image/svg+xml": [
       "<?xml version=\"1.0\" encoding=\"UTF-8\" standalone=\"no\"?>\n",
       "<!DOCTYPE svg PUBLIC \"-//W3C//DTD SVG 1.1//EN\"\n",
       " \"http://www.w3.org/Graphics/SVG/1.1/DTD/svg11.dtd\">\n",
       "<!-- Generated by graphviz version 2.40.1 (20161225.0304)\n",
       " -->\n",
       "<!-- Title: root Pages: 1 -->\n",
       "<svg width=\"49pt\" height=\"74pt\"\n",
       " viewBox=\"0.00 0.00 49.00 74.00\" xmlns=\"http://www.w3.org/2000/svg\" xmlns:xlink=\"http://www.w3.org/1999/xlink\">\n",
       "<g id=\"graph0\" class=\"graph\" transform=\"scale(1 1) rotate(0) translate(4 70)\">\n",
       "<title>root</title>\n",
       "<polygon fill=\"#ffffff\" stroke=\"transparent\" points=\"-4,4 -4,-70 45,-70 45,4 -4,4\"/>\n",
       "<!-- \\&lt;start\\&gt; -->\n",
       "<g id=\"node1\" class=\"node\">\n",
       "<title>\\&lt;start\\&gt;</title>\n",
       "<text text-anchor=\"middle\" x=\"20.5\" y=\"-54.8\" font-family=\"Times,serif\" font-size=\"14.00\" fill=\"#000000\">&lt;start&gt;</text>\n",
       "</g>\n",
       "<!-- \\&lt;expr\\&gt; -->\n",
       "<g id=\"node2\" class=\"node\">\n",
       "<title>\\&lt;expr\\&gt;</title>\n",
       "<text text-anchor=\"middle\" x=\"20.5\" y=\"-3.8\" font-family=\"Times,serif\" font-size=\"14.00\" fill=\"#000000\">&lt;expr&gt;</text>\n",
       "</g>\n",
       "<!-- \\&lt;start\\&gt;&#45;&gt;\\&lt;expr\\&gt; -->\n",
       "<g id=\"edge1\" class=\"edge\">\n",
       "<title>\\&lt;start\\&gt;&#45;&gt;\\&lt;expr\\&gt;</title>\n",
       "<path fill=\"none\" stroke=\"#000000\" d=\"M20.5,-50.9748C20.5,-44.195 20.5,-33.966 20.5,-25.1331\"/>\n",
       "<polygon fill=\"#000000\" stroke=\"#000000\" points=\"24.0001,-25.0561 20.5,-15.0561 17.0001,-25.0561 24.0001,-25.0561\"/>\n",
       "</g>\n",
       "</g>\n",
       "</svg>\n"
      ],
      "text/plain": [
       "<graphviz.dot.Digraph at 0x121c3e4e0>"
      ]
     },
     "execution_count": 18,
     "metadata": {},
     "output_type": "execute_result"
    }
   ],
   "source": [
    "tree"
   ]
  },
  {
   "cell_type": "markdown",
   "metadata": {
    "button": false,
    "new_sheet": false,
    "run_control": {
     "read_only": false
    },
    "slideshow": {
     "slide_type": "subslide"
    }
   },
   "source": [
    "To construct the produced string from a derivation tree, we traverse the tree in order and collect the symbols at the leaves of the tree.  In the case above, we obtain the string `\"<expr>\"`.\n",
    "\n",
    "To further expand the tree, we choose another symbol to expand, and add its expansion as new children.  This would get us the `<expr>` symbol, which gets expanded into `<expr> + <term>`, adding three children."
   ]
  },
  {
   "cell_type": "code",
   "execution_count": 19,
   "metadata": {
    "button": false,
    "ipub": {
     "ignore": true
    },
    "new_sheet": false,
    "run_control": {
     "read_only": false
    },
    "slideshow": {
     "slide_type": "skip"
    }
   },
   "outputs": [],
   "source": [
    "tree.edge(r\"\\<expr\\>\", r\"\\<expr\\> \")\n",
    "tree.edge(r\"\\<expr\\>\", r\"+\")\n",
    "tree.edge(r\"\\<expr\\>\", r\"\\<term\\>\")"
   ]
  },
  {
   "cell_type": "code",
   "execution_count": 20,
   "metadata": {
    "button": false,
    "new_sheet": false,
    "run_control": {
     "read_only": false
    },
    "slideshow": {
     "slide_type": "fragment"
    }
   },
   "outputs": [
    {
     "data": {
      "image/svg+xml": [
       "<?xml version=\"1.0\" encoding=\"UTF-8\" standalone=\"no\"?>\n",
       "<!DOCTYPE svg PUBLIC \"-//W3C//DTD SVG 1.1//EN\"\n",
       " \"http://www.w3.org/Graphics/SVG/1.1/DTD/svg11.dtd\">\n",
       "<!-- Generated by graphviz version 2.40.1 (20161225.0304)\n",
       " -->\n",
       "<!-- Title: root Pages: 1 -->\n",
       "<svg width=\"140pt\" height=\"125pt\"\n",
       " viewBox=\"0.00 0.00 139.50 125.00\" xmlns=\"http://www.w3.org/2000/svg\" xmlns:xlink=\"http://www.w3.org/1999/xlink\">\n",
       "<g id=\"graph0\" class=\"graph\" transform=\"scale(1 1) rotate(0) translate(4 121)\">\n",
       "<title>root</title>\n",
       "<polygon fill=\"#ffffff\" stroke=\"transparent\" points=\"-4,4 -4,-121 135.5,-121 135.5,4 -4,4\"/>\n",
       "<!-- \\&lt;start\\&gt; -->\n",
       "<g id=\"node1\" class=\"node\">\n",
       "<title>\\&lt;start\\&gt;</title>\n",
       "<text text-anchor=\"middle\" x=\"67.5\" y=\"-105.8\" font-family=\"Times,serif\" font-size=\"14.00\" fill=\"#000000\">&lt;start&gt;</text>\n",
       "</g>\n",
       "<!-- \\&lt;expr\\&gt; -->\n",
       "<g id=\"node2\" class=\"node\">\n",
       "<title>\\&lt;expr\\&gt;</title>\n",
       "<text text-anchor=\"middle\" x=\"67.5\" y=\"-54.8\" font-family=\"Times,serif\" font-size=\"14.00\" fill=\"#000000\">&lt;expr&gt;</text>\n",
       "</g>\n",
       "<!-- \\&lt;start\\&gt;&#45;&gt;\\&lt;expr\\&gt; -->\n",
       "<g id=\"edge1\" class=\"edge\">\n",
       "<title>\\&lt;start\\&gt;&#45;&gt;\\&lt;expr\\&gt;</title>\n",
       "<path fill=\"none\" stroke=\"#000000\" d=\"M67.5,-101.9748C67.5,-95.195 67.5,-84.966 67.5,-76.1331\"/>\n",
       "<polygon fill=\"#000000\" stroke=\"#000000\" points=\"71.0001,-76.0561 67.5,-66.0561 64.0001,-76.0561 71.0001,-76.0561\"/>\n",
       "</g>\n",
       "<!-- \\&lt;expr\\&gt;  -->\n",
       "<g id=\"node3\" class=\"node\">\n",
       "<title>\\&lt;expr\\&gt; </title>\n",
       "<text text-anchor=\"middle\" x=\"22.5\" y=\"-3.8\" font-family=\"Times,serif\" font-size=\"14.00\" fill=\"#000000\">&lt;expr&gt; </text>\n",
       "</g>\n",
       "<!-- \\&lt;expr\\&gt;&#45;&gt;\\&lt;expr\\&gt;  -->\n",
       "<g id=\"edge2\" class=\"edge\">\n",
       "<title>\\&lt;expr\\&gt;&#45;&gt;\\&lt;expr\\&gt; </title>\n",
       "<path fill=\"none\" stroke=\"#000000\" d=\"M60.8601,-50.9748C54.3462,-43.5923 44.2238,-32.1203 36.0125,-22.8142\"/>\n",
       "<polygon fill=\"#000000\" stroke=\"#000000\" points=\"38.4078,-20.2388 29.1671,-15.0561 33.159,-24.8702 38.4078,-20.2388\"/>\n",
       "</g>\n",
       "<!-- + -->\n",
       "<g id=\"node4\" class=\"node\">\n",
       "<title>+</title>\n",
       "<text text-anchor=\"middle\" x=\"67.5\" y=\"-3.8\" font-family=\"Times,serif\" font-size=\"14.00\" fill=\"#000000\">+</text>\n",
       "</g>\n",
       "<!-- \\&lt;expr\\&gt;&#45;&gt;+ -->\n",
       "<g id=\"edge3\" class=\"edge\">\n",
       "<title>\\&lt;expr\\&gt;&#45;&gt;+</title>\n",
       "<path fill=\"none\" stroke=\"#000000\" d=\"M67.5,-50.9748C67.5,-44.195 67.5,-33.966 67.5,-25.1331\"/>\n",
       "<polygon fill=\"#000000\" stroke=\"#000000\" points=\"71.0001,-25.0561 67.5,-15.0561 64.0001,-25.0561 71.0001,-25.0561\"/>\n",
       "</g>\n",
       "<!-- \\&lt;term\\&gt; -->\n",
       "<g id=\"node5\" class=\"node\">\n",
       "<title>\\&lt;term\\&gt;</title>\n",
       "<text text-anchor=\"middle\" x=\"110.5\" y=\"-3.8\" font-family=\"Times,serif\" font-size=\"14.00\" fill=\"#000000\">&lt;term&gt;</text>\n",
       "</g>\n",
       "<!-- \\&lt;expr\\&gt;&#45;&gt;\\&lt;term\\&gt; -->\n",
       "<g id=\"edge4\" class=\"edge\">\n",
       "<title>\\&lt;expr\\&gt;&#45;&gt;\\&lt;term\\&gt;</title>\n",
       "<path fill=\"none\" stroke=\"#000000\" d=\"M73.8448,-50.9748C80.0692,-43.5923 89.7417,-32.1203 97.5881,-22.8142\"/>\n",
       "<polygon fill=\"#000000\" stroke=\"#000000\" points=\"100.359,-24.9574 104.1292,-15.0561 95.0073,-20.4452 100.359,-24.9574\"/>\n",
       "</g>\n",
       "</g>\n",
       "</svg>\n"
      ],
      "text/plain": [
       "<graphviz.dot.Digraph at 0x121c3e4e0>"
      ]
     },
     "execution_count": 20,
     "metadata": {},
     "output_type": "execute_result"
    }
   ],
   "source": [
    "tree"
   ]
  },
  {
   "cell_type": "markdown",
   "metadata": {
    "button": false,
    "new_sheet": false,
    "run_control": {
     "read_only": false
    },
    "slideshow": {
     "slide_type": "subslide"
    }
   },
   "source": [
    "We repeat the expansion until there are no symbols left to expand:"
   ]
  },
  {
   "cell_type": "code",
   "execution_count": 21,
   "metadata": {
    "button": false,
    "ipub": {
     "ignore": true
    },
    "new_sheet": false,
    "run_control": {
     "read_only": false
    },
    "slideshow": {
     "slide_type": "skip"
    }
   },
   "outputs": [],
   "source": [
    "tree.edge(r\"\\<expr\\> \", r\"\\<term\\> \")\n",
    "tree.edge(r\"\\<term\\> \", r\"\\<factor\\> \")\n",
    "tree.edge(r\"\\<factor\\> \", r\"\\<integer\\> \")\n",
    "tree.edge(r\"\\<integer\\> \", r\"\\<digit\\> \")\n",
    "tree.edge(r\"\\<digit\\> \", r\"2 \")\n",
    "\n",
    "tree.edge(r\"\\<term\\>\", r\"\\<factor\\>\")\n",
    "tree.edge(r\"\\<factor\\>\", r\"\\<integer\\>\")\n",
    "tree.edge(r\"\\<integer\\>\", r\"\\<digit\\>\")\n",
    "tree.edge(r\"\\<digit\\>\", r\"2\")"
   ]
  },
  {
   "cell_type": "code",
   "execution_count": 22,
   "metadata": {
    "button": false,
    "new_sheet": false,
    "run_control": {
     "read_only": false
    },
    "slideshow": {
     "slide_type": "fragment"
    }
   },
   "outputs": [
    {
     "data": {
      "image/svg+xml": [
       "<?xml version=\"1.0\" encoding=\"UTF-8\" standalone=\"no\"?>\n",
       "<!DOCTYPE svg PUBLIC \"-//W3C//DTD SVG 1.1//EN\"\n",
       " \"http://www.w3.org/Graphics/SVG/1.1/DTD/svg11.dtd\">\n",
       "<!-- Generated by graphviz version 2.40.1 (20161225.0304)\n",
       " -->\n",
       "<!-- Title: root Pages: 1 -->\n",
       "<svg width=\"153pt\" height=\"380pt\"\n",
       " viewBox=\"0.00 0.00 153.00 380.00\" xmlns=\"http://www.w3.org/2000/svg\" xmlns:xlink=\"http://www.w3.org/1999/xlink\">\n",
       "<g id=\"graph0\" class=\"graph\" transform=\"scale(1 1) rotate(0) translate(4 376)\">\n",
       "<title>root</title>\n",
       "<polygon fill=\"#ffffff\" stroke=\"transparent\" points=\"-4,4 -4,-376 149,-376 149,4 -4,4\"/>\n",
       "<!-- \\&lt;start\\&gt; -->\n",
       "<g id=\"node1\" class=\"node\">\n",
       "<title>\\&lt;start\\&gt;</title>\n",
       "<text text-anchor=\"middle\" x=\"74.5\" y=\"-360.8\" font-family=\"Times,serif\" font-size=\"14.00\" fill=\"#000000\">&lt;start&gt;</text>\n",
       "</g>\n",
       "<!-- \\&lt;expr\\&gt; -->\n",
       "<g id=\"node2\" class=\"node\">\n",
       "<title>\\&lt;expr\\&gt;</title>\n",
       "<text text-anchor=\"middle\" x=\"74.5\" y=\"-309.8\" font-family=\"Times,serif\" font-size=\"14.00\" fill=\"#000000\">&lt;expr&gt;</text>\n",
       "</g>\n",
       "<!-- \\&lt;start\\&gt;&#45;&gt;\\&lt;expr\\&gt; -->\n",
       "<g id=\"edge1\" class=\"edge\">\n",
       "<title>\\&lt;start\\&gt;&#45;&gt;\\&lt;expr\\&gt;</title>\n",
       "<path fill=\"none\" stroke=\"#000000\" d=\"M74.5,-356.9748C74.5,-350.195 74.5,-339.966 74.5,-331.1331\"/>\n",
       "<polygon fill=\"#000000\" stroke=\"#000000\" points=\"78.0001,-331.0561 74.5,-321.0561 71.0001,-331.0561 78.0001,-331.0561\"/>\n",
       "</g>\n",
       "<!-- \\&lt;expr\\&gt;  -->\n",
       "<g id=\"node3\" class=\"node\">\n",
       "<title>\\&lt;expr\\&gt; </title>\n",
       "<text text-anchor=\"middle\" x=\"29.5\" y=\"-258.8\" font-family=\"Times,serif\" font-size=\"14.00\" fill=\"#000000\">&lt;expr&gt; </text>\n",
       "</g>\n",
       "<!-- \\&lt;expr\\&gt;&#45;&gt;\\&lt;expr\\&gt;  -->\n",
       "<g id=\"edge2\" class=\"edge\">\n",
       "<title>\\&lt;expr\\&gt;&#45;&gt;\\&lt;expr\\&gt; </title>\n",
       "<path fill=\"none\" stroke=\"#000000\" d=\"M67.8601,-305.9748C61.3462,-298.5923 51.2238,-287.1203 43.0125,-277.8142\"/>\n",
       "<polygon fill=\"#000000\" stroke=\"#000000\" points=\"45.4078,-275.2388 36.1671,-270.0561 40.159,-279.8702 45.4078,-275.2388\"/>\n",
       "</g>\n",
       "<!-- + -->\n",
       "<g id=\"node4\" class=\"node\">\n",
       "<title>+</title>\n",
       "<text text-anchor=\"middle\" x=\"74.5\" y=\"-258.8\" font-family=\"Times,serif\" font-size=\"14.00\" fill=\"#000000\">+</text>\n",
       "</g>\n",
       "<!-- \\&lt;expr\\&gt;&#45;&gt;+ -->\n",
       "<g id=\"edge3\" class=\"edge\">\n",
       "<title>\\&lt;expr\\&gt;&#45;&gt;+</title>\n",
       "<path fill=\"none\" stroke=\"#000000\" d=\"M74.5,-305.9748C74.5,-299.195 74.5,-288.966 74.5,-280.1331\"/>\n",
       "<polygon fill=\"#000000\" stroke=\"#000000\" points=\"78.0001,-280.0561 74.5,-270.0561 71.0001,-280.0561 78.0001,-280.0561\"/>\n",
       "</g>\n",
       "<!-- \\&lt;term\\&gt; -->\n",
       "<g id=\"node5\" class=\"node\">\n",
       "<title>\\&lt;term\\&gt;</title>\n",
       "<text text-anchor=\"middle\" x=\"117.5\" y=\"-258.8\" font-family=\"Times,serif\" font-size=\"14.00\" fill=\"#000000\">&lt;term&gt;</text>\n",
       "</g>\n",
       "<!-- \\&lt;expr\\&gt;&#45;&gt;\\&lt;term\\&gt; -->\n",
       "<g id=\"edge4\" class=\"edge\">\n",
       "<title>\\&lt;expr\\&gt;&#45;&gt;\\&lt;term\\&gt;</title>\n",
       "<path fill=\"none\" stroke=\"#000000\" d=\"M80.8448,-305.9748C87.0692,-298.5923 96.7417,-287.1203 104.5881,-277.8142\"/>\n",
       "<polygon fill=\"#000000\" stroke=\"#000000\" points=\"107.359,-279.9574 111.1292,-270.0561 102.0073,-275.4452 107.359,-279.9574\"/>\n",
       "</g>\n",
       "<!-- \\&lt;term\\&gt;  -->\n",
       "<g id=\"node6\" class=\"node\">\n",
       "<title>\\&lt;term\\&gt; </title>\n",
       "<text text-anchor=\"middle\" x=\"29.5\" y=\"-207.8\" font-family=\"Times,serif\" font-size=\"14.00\" fill=\"#000000\">&lt;term&gt; </text>\n",
       "</g>\n",
       "<!-- \\&lt;expr\\&gt; &#45;&gt;\\&lt;term\\&gt;  -->\n",
       "<g id=\"edge5\" class=\"edge\">\n",
       "<title>\\&lt;expr\\&gt; &#45;&gt;\\&lt;term\\&gt; </title>\n",
       "<path fill=\"none\" stroke=\"#000000\" d=\"M29.5,-254.9748C29.5,-248.195 29.5,-237.966 29.5,-229.1331\"/>\n",
       "<polygon fill=\"#000000\" stroke=\"#000000\" points=\"33.0001,-229.0561 29.5,-219.0561 26.0001,-229.0561 33.0001,-229.0561\"/>\n",
       "</g>\n",
       "<!-- \\&lt;factor\\&gt; -->\n",
       "<g id=\"node11\" class=\"node\">\n",
       "<title>\\&lt;factor\\&gt;</title>\n",
       "<text text-anchor=\"middle\" x=\"117.5\" y=\"-207.8\" font-family=\"Times,serif\" font-size=\"14.00\" fill=\"#000000\">&lt;factor&gt;</text>\n",
       "</g>\n",
       "<!-- \\&lt;term\\&gt;&#45;&gt;\\&lt;factor\\&gt; -->\n",
       "<g id=\"edge10\" class=\"edge\">\n",
       "<title>\\&lt;term\\&gt;&#45;&gt;\\&lt;factor\\&gt;</title>\n",
       "<path fill=\"none\" stroke=\"#000000\" d=\"M117.5,-254.9748C117.5,-248.195 117.5,-237.966 117.5,-229.1331\"/>\n",
       "<polygon fill=\"#000000\" stroke=\"#000000\" points=\"121.0001,-229.0561 117.5,-219.0561 114.0001,-229.0561 121.0001,-229.0561\"/>\n",
       "</g>\n",
       "<!-- \\&lt;factor\\&gt;  -->\n",
       "<g id=\"node7\" class=\"node\">\n",
       "<title>\\&lt;factor\\&gt; </title>\n",
       "<text text-anchor=\"middle\" x=\"29.5\" y=\"-156.8\" font-family=\"Times,serif\" font-size=\"14.00\" fill=\"#000000\">&lt;factor&gt; </text>\n",
       "</g>\n",
       "<!-- \\&lt;term\\&gt; &#45;&gt;\\&lt;factor\\&gt;  -->\n",
       "<g id=\"edge6\" class=\"edge\">\n",
       "<title>\\&lt;term\\&gt; &#45;&gt;\\&lt;factor\\&gt; </title>\n",
       "<path fill=\"none\" stroke=\"#000000\" d=\"M29.5,-203.9748C29.5,-197.195 29.5,-186.966 29.5,-178.1331\"/>\n",
       "<polygon fill=\"#000000\" stroke=\"#000000\" points=\"33.0001,-178.0561 29.5,-168.0561 26.0001,-178.0561 33.0001,-178.0561\"/>\n",
       "</g>\n",
       "<!-- \\&lt;integer\\&gt;  -->\n",
       "<g id=\"node8\" class=\"node\">\n",
       "<title>\\&lt;integer\\&gt; </title>\n",
       "<text text-anchor=\"middle\" x=\"29.5\" y=\"-105.8\" font-family=\"Times,serif\" font-size=\"14.00\" fill=\"#000000\">&lt;integer&gt; </text>\n",
       "</g>\n",
       "<!-- \\&lt;factor\\&gt; &#45;&gt;\\&lt;integer\\&gt;  -->\n",
       "<g id=\"edge7\" class=\"edge\">\n",
       "<title>\\&lt;factor\\&gt; &#45;&gt;\\&lt;integer\\&gt; </title>\n",
       "<path fill=\"none\" stroke=\"#000000\" d=\"M29.5,-152.9748C29.5,-146.195 29.5,-135.966 29.5,-127.1331\"/>\n",
       "<polygon fill=\"#000000\" stroke=\"#000000\" points=\"33.0001,-127.0561 29.5,-117.0561 26.0001,-127.0561 33.0001,-127.0561\"/>\n",
       "</g>\n",
       "<!-- \\&lt;digit\\&gt;  -->\n",
       "<g id=\"node9\" class=\"node\">\n",
       "<title>\\&lt;digit\\&gt; </title>\n",
       "<text text-anchor=\"middle\" x=\"29.5\" y=\"-54.8\" font-family=\"Times,serif\" font-size=\"14.00\" fill=\"#000000\">&lt;digit&gt; </text>\n",
       "</g>\n",
       "<!-- \\&lt;integer\\&gt; &#45;&gt;\\&lt;digit\\&gt;  -->\n",
       "<g id=\"edge8\" class=\"edge\">\n",
       "<title>\\&lt;integer\\&gt; &#45;&gt;\\&lt;digit\\&gt; </title>\n",
       "<path fill=\"none\" stroke=\"#000000\" d=\"M29.5,-101.9748C29.5,-95.195 29.5,-84.966 29.5,-76.1331\"/>\n",
       "<polygon fill=\"#000000\" stroke=\"#000000\" points=\"33.0001,-76.0561 29.5,-66.0561 26.0001,-76.0561 33.0001,-76.0561\"/>\n",
       "</g>\n",
       "<!-- 2  -->\n",
       "<g id=\"node10\" class=\"node\">\n",
       "<title>2 </title>\n",
       "<text text-anchor=\"middle\" x=\"29.5\" y=\"-3.8\" font-family=\"Times,serif\" font-size=\"14.00\" fill=\"#000000\">2 </text>\n",
       "</g>\n",
       "<!-- \\&lt;digit\\&gt; &#45;&gt;2  -->\n",
       "<g id=\"edge9\" class=\"edge\">\n",
       "<title>\\&lt;digit\\&gt; &#45;&gt;2 </title>\n",
       "<path fill=\"none\" stroke=\"#000000\" d=\"M29.5,-50.9748C29.5,-44.195 29.5,-33.966 29.5,-25.1331\"/>\n",
       "<polygon fill=\"#000000\" stroke=\"#000000\" points=\"33.0001,-25.0561 29.5,-15.0561 26.0001,-25.0561 33.0001,-25.0561\"/>\n",
       "</g>\n",
       "<!-- \\&lt;integer\\&gt; -->\n",
       "<g id=\"node12\" class=\"node\">\n",
       "<title>\\&lt;integer\\&gt;</title>\n",
       "<text text-anchor=\"middle\" x=\"117.5\" y=\"-156.8\" font-family=\"Times,serif\" font-size=\"14.00\" fill=\"#000000\">&lt;integer&gt;</text>\n",
       "</g>\n",
       "<!-- \\&lt;factor\\&gt;&#45;&gt;\\&lt;integer\\&gt; -->\n",
       "<g id=\"edge11\" class=\"edge\">\n",
       "<title>\\&lt;factor\\&gt;&#45;&gt;\\&lt;integer\\&gt;</title>\n",
       "<path fill=\"none\" stroke=\"#000000\" d=\"M117.5,-203.9748C117.5,-197.195 117.5,-186.966 117.5,-178.1331\"/>\n",
       "<polygon fill=\"#000000\" stroke=\"#000000\" points=\"121.0001,-178.0561 117.5,-168.0561 114.0001,-178.0561 121.0001,-178.0561\"/>\n",
       "</g>\n",
       "<!-- \\&lt;digit\\&gt; -->\n",
       "<g id=\"node13\" class=\"node\">\n",
       "<title>\\&lt;digit\\&gt;</title>\n",
       "<text text-anchor=\"middle\" x=\"117.5\" y=\"-105.8\" font-family=\"Times,serif\" font-size=\"14.00\" fill=\"#000000\">&lt;digit&gt;</text>\n",
       "</g>\n",
       "<!-- \\&lt;integer\\&gt;&#45;&gt;\\&lt;digit\\&gt; -->\n",
       "<g id=\"edge12\" class=\"edge\">\n",
       "<title>\\&lt;integer\\&gt;&#45;&gt;\\&lt;digit\\&gt;</title>\n",
       "<path fill=\"none\" stroke=\"#000000\" d=\"M117.5,-152.9748C117.5,-146.195 117.5,-135.966 117.5,-127.1331\"/>\n",
       "<polygon fill=\"#000000\" stroke=\"#000000\" points=\"121.0001,-127.0561 117.5,-117.0561 114.0001,-127.0561 121.0001,-127.0561\"/>\n",
       "</g>\n",
       "<!-- 2 -->\n",
       "<g id=\"node14\" class=\"node\">\n",
       "<title>2</title>\n",
       "<text text-anchor=\"middle\" x=\"117.5\" y=\"-54.8\" font-family=\"Times,serif\" font-size=\"14.00\" fill=\"#000000\">2</text>\n",
       "</g>\n",
       "<!-- \\&lt;digit\\&gt;&#45;&gt;2 -->\n",
       "<g id=\"edge13\" class=\"edge\">\n",
       "<title>\\&lt;digit\\&gt;&#45;&gt;2</title>\n",
       "<path fill=\"none\" stroke=\"#000000\" d=\"M117.5,-101.9748C117.5,-95.195 117.5,-84.966 117.5,-76.1331\"/>\n",
       "<polygon fill=\"#000000\" stroke=\"#000000\" points=\"121.0001,-76.0561 117.5,-66.0561 114.0001,-76.0561 121.0001,-76.0561\"/>\n",
       "</g>\n",
       "</g>\n",
       "</svg>\n"
      ],
      "text/plain": [
       "<graphviz.dot.Digraph at 0x121c3e4e0>"
      ]
     },
     "execution_count": 22,
     "metadata": {},
     "output_type": "execute_result"
    }
   ],
   "source": [
    "tree"
   ]
  },
  {
   "cell_type": "markdown",
   "metadata": {
    "button": false,
    "new_sheet": false,
    "run_control": {
     "read_only": false
    },
    "slideshow": {
     "slide_type": "fragment"
    }
   },
   "source": [
    "We now have a representation for the string `2 + 2`.  In contrast to the string alone, though, the derivation tree records _the entire structure_ (and production history, or _derivation_ history) of the produced string.  It also allows for simple comparison and manipulation – say, replacing one subtree (substructure) against another."
   ]
  },
  {
   "cell_type": "markdown",
   "metadata": {
    "button": false,
    "new_sheet": false,
    "run_control": {
     "read_only": false
    },
    "slideshow": {
     "slide_type": "slide"
    }
   },
   "source": [
    "## Representing Derivation Trees\n",
    "\n",
    "To represent a derivation tree in Python, we use the following format.  A node is a pair\n",
    "\n",
    "```python\n",
    "(SYMBOL_NAME, CHILDREN)\n",
    "```\n",
    "\n",
    "where `SYMBOL_NAME` is a string representing the node (i.e. `\"<start>\"` or `\"+\"`) and `CHILDREN` is a list of children nodes.\n",
    "\n",
    "`CHILDREN` can take some special values:\n",
    "\n",
    "1. `None` as a placeholder for future expansion.  This means that the node is a _nonterminal symbol_ that should be expanded further.\n",
    "2. `[]` (i.e., the empty list) to indicate _no_ children.  This means that the node is a _terminal symbol_ that can no longer be expanded."
   ]
  },
  {
   "cell_type": "markdown",
   "metadata": {
    "button": false,
    "new_sheet": false,
    "run_control": {
     "read_only": false
    },
    "slideshow": {
     "slide_type": "subslide"
    }
   },
   "source": [
    "Let us take a very simple derivation tree, representing the intermediate step `<expr> + <term>`, above."
   ]
  },
  {
   "cell_type": "code",
   "execution_count": 23,
   "metadata": {
    "button": false,
    "new_sheet": false,
    "run_control": {
     "read_only": false
    },
    "slideshow": {
     "slide_type": "fragment"
    }
   },
   "outputs": [],
   "source": [
    "derivation_tree = (\"<start>\",\n",
    "                   [(\"<expr>\",\n",
    "                     [(\"<expr>\", None),\n",
    "                      (\" + \", []),\n",
    "                         (\"<term>\", None)]\n",
    "                     )])"
   ]
  },
  {
   "cell_type": "markdown",
   "metadata": {
    "button": false,
    "new_sheet": false,
    "run_control": {
     "read_only": false
    },
    "slideshow": {
     "slide_type": "subslide"
    }
   },
   "source": [
    "To better understand the structure of this tree, let us introduce a function that visualizes this tree.  We use the `dot` drawing program from the `graphviz` package algorithmically, traversing the above structure.  (Unless you're deeply interested in tree visualization, you can directly skip to the example below.)"
   ]
  },
  {
   "cell_type": "code",
   "execution_count": 24,
   "metadata": {
    "button": false,
    "ipub": {
     "ignore": true
    },
    "new_sheet": false,
    "run_control": {
     "read_only": false
    },
    "slideshow": {
     "slide_type": "skip"
    }
   },
   "outputs": [],
   "source": [
    "from graphviz import Digraph"
   ]
  },
  {
   "cell_type": "code",
   "execution_count": 25,
   "metadata": {
    "button": false,
    "new_sheet": false,
    "run_control": {
     "read_only": false
    },
    "slideshow": {
     "slide_type": "skip"
    }
   },
   "outputs": [],
   "source": [
    "from IPython.display import display"
   ]
  },
  {
   "cell_type": "code",
   "execution_count": 26,
   "metadata": {
    "button": false,
    "new_sheet": false,
    "run_control": {
     "read_only": false
    },
    "slideshow": {
     "slide_type": "skip"
    }
   },
   "outputs": [],
   "source": [
    "import re"
   ]
  },
  {
   "cell_type": "code",
   "execution_count": 27,
   "metadata": {
    "button": false,
    "new_sheet": false,
    "run_control": {
     "read_only": false
    },
    "slideshow": {
     "slide_type": "skip"
    }
   },
   "outputs": [],
   "source": [
    "def dot_escape(s):\n",
    "    \"\"\"Return s in a form suitable for dot\"\"\"\n",
    "    # s = s.replace(\"\\\\\", \"\\\\\\\\\")\n",
    "    s = re.sub(r'([^a-zA-Z0-9\" ])', r\"\\\\\\1\", s)\n",
    "    return s"
   ]
  },
  {
   "cell_type": "code",
   "execution_count": 28,
   "metadata": {
    "button": false,
    "new_sheet": false,
    "run_control": {
     "read_only": false
    },
    "slideshow": {
     "slide_type": "skip"
    }
   },
   "outputs": [],
   "source": [
    "assert dot_escape(\"hello\") == \"hello\"\n",
    "assert dot_escape(\"<hello>, world\") == \"\\\\<hello\\\\>\\\\, world\"\n",
    "assert dot_escape(\"\\\\n\") == \"\\\\\\\\n\""
   ]
  },
  {
   "cell_type": "code",
   "execution_count": 29,
   "metadata": {
    "button": false,
    "new_sheet": false,
    "run_control": {
     "read_only": false
    },
    "slideshow": {
     "slide_type": "skip"
    }
   },
   "outputs": [],
   "source": [
    "def display_tree(derivation_tree, log=False):\n",
    "    \"\"\"Visualize a derivation tree as SVG using the graphviz/dot package.\"\"\"\n",
    "\n",
    "    counter = 0\n",
    "\n",
    "    def traverse_tree(dot, tree, id=0):\n",
    "        (symbol, children) = tree\n",
    "        dot.node(repr(id), dot_escape(symbol))\n",
    "\n",
    "        if children is not None:\n",
    "            for child in children:\n",
    "                nonlocal counter  # Assign each node a unique identifier\n",
    "                counter += 1\n",
    "                child_id = counter\n",
    "                dot.edge(repr(id), repr(child_id))\n",
    "                traverse_tree(dot, child, child_id)\n",
    "\n",
    "    dot = Digraph(comment=\"Derivation Tree\")\n",
    "    dot.attr('node', shape='plain')\n",
    "    traverse_tree(dot, derivation_tree)\n",
    "    if log:\n",
    "        print(dot)\n",
    "    display(dot)"
   ]
  },
  {
   "cell_type": "markdown",
   "metadata": {
    "button": false,
    "new_sheet": false,
    "run_control": {
     "read_only": false
    },
    "slideshow": {
     "slide_type": "fragment"
    }
   },
   "source": [
    "This is what our tree visualizes into:"
   ]
  },
  {
   "cell_type": "code",
   "execution_count": 30,
   "metadata": {
    "button": false,
    "new_sheet": false,
    "run_control": {
     "read_only": false
    },
    "slideshow": {
     "slide_type": "fragment"
    }
   },
   "outputs": [
    {
     "data": {
      "image/svg+xml": [
       "<?xml version=\"1.0\" encoding=\"UTF-8\" standalone=\"no\"?>\n",
       "<!DOCTYPE svg PUBLIC \"-//W3C//DTD SVG 1.1//EN\"\n",
       " \"http://www.w3.org/Graphics/SVG/1.1/DTD/svg11.dtd\">\n",
       "<!-- Generated by graphviz version 2.40.1 (20161225.0304)\n",
       " -->\n",
       "<!-- Title: %3 Pages: 1 -->\n",
       "<svg width=\"143pt\" height=\"125pt\"\n",
       " viewBox=\"0.00 0.00 142.50 125.00\" xmlns=\"http://www.w3.org/2000/svg\" xmlns:xlink=\"http://www.w3.org/1999/xlink\">\n",
       "<g id=\"graph0\" class=\"graph\" transform=\"scale(1 1) rotate(0) translate(4 121)\">\n",
       "<title>%3</title>\n",
       "<polygon fill=\"#ffffff\" stroke=\"transparent\" points=\"-4,4 -4,-121 138.5,-121 138.5,4 -4,4\"/>\n",
       "<!-- 0 -->\n",
       "<g id=\"node1\" class=\"node\">\n",
       "<title>0</title>\n",
       "<text text-anchor=\"middle\" x=\"66.5\" y=\"-105.8\" font-family=\"Times,serif\" font-size=\"14.00\" fill=\"#000000\">&lt;start&gt;</text>\n",
       "</g>\n",
       "<!-- 1 -->\n",
       "<g id=\"node2\" class=\"node\">\n",
       "<title>1</title>\n",
       "<text text-anchor=\"middle\" x=\"66.5\" y=\"-54.8\" font-family=\"Times,serif\" font-size=\"14.00\" fill=\"#000000\">&lt;expr&gt;</text>\n",
       "</g>\n",
       "<!-- 0&#45;&gt;1 -->\n",
       "<g id=\"edge1\" class=\"edge\">\n",
       "<title>0&#45;&gt;1</title>\n",
       "<path fill=\"none\" stroke=\"#000000\" d=\"M66.5,-101.9748C66.5,-95.195 66.5,-84.966 66.5,-76.1331\"/>\n",
       "<polygon fill=\"#000000\" stroke=\"#000000\" points=\"70.0001,-76.0561 66.5,-66.0561 63.0001,-76.0561 70.0001,-76.0561\"/>\n",
       "</g>\n",
       "<!-- 2 -->\n",
       "<g id=\"node3\" class=\"node\">\n",
       "<title>2</title>\n",
       "<text text-anchor=\"middle\" x=\"20.5\" y=\"-3.8\" font-family=\"Times,serif\" font-size=\"14.00\" fill=\"#000000\">&lt;expr&gt;</text>\n",
       "</g>\n",
       "<!-- 1&#45;&gt;2 -->\n",
       "<g id=\"edge2\" class=\"edge\">\n",
       "<title>1&#45;&gt;2</title>\n",
       "<path fill=\"none\" stroke=\"#000000\" d=\"M59.7125,-50.9748C52.9859,-43.517 42.495,-31.8857 34.0564,-22.53\"/>\n",
       "<polygon fill=\"#000000\" stroke=\"#000000\" points=\"36.612,-20.1376 27.3153,-15.0561 31.414,-24.826 36.612,-20.1376\"/>\n",
       "</g>\n",
       "<!-- 3 -->\n",
       "<g id=\"node4\" class=\"node\">\n",
       "<title>3</title>\n",
       "<text text-anchor=\"middle\" x=\"66.5\" y=\"-3.8\" font-family=\"Times,serif\" font-size=\"14.00\" fill=\"#000000\"> + </text>\n",
       "</g>\n",
       "<!-- 1&#45;&gt;3 -->\n",
       "<g id=\"edge3\" class=\"edge\">\n",
       "<title>1&#45;&gt;3</title>\n",
       "<path fill=\"none\" stroke=\"#000000\" d=\"M66.5,-50.9748C66.5,-44.195 66.5,-33.966 66.5,-25.1331\"/>\n",
       "<polygon fill=\"#000000\" stroke=\"#000000\" points=\"70.0001,-25.0561 66.5,-15.0561 63.0001,-25.0561 70.0001,-25.0561\"/>\n",
       "</g>\n",
       "<!-- 4 -->\n",
       "<g id=\"node5\" class=\"node\">\n",
       "<title>4</title>\n",
       "<text text-anchor=\"middle\" x=\"113.5\" y=\"-3.8\" font-family=\"Times,serif\" font-size=\"14.00\" fill=\"#000000\">&lt;term&gt;</text>\n",
       "</g>\n",
       "<!-- 1&#45;&gt;4 -->\n",
       "<g id=\"edge4\" class=\"edge\">\n",
       "<title>1&#45;&gt;4</title>\n",
       "<path fill=\"none\" stroke=\"#000000\" d=\"M73.435,-50.9748C80.3079,-43.517 91.0269,-31.8857 99.6488,-22.53\"/>\n",
       "<polygon fill=\"#000000\" stroke=\"#000000\" points=\"102.3334,-24.7816 106.5365,-15.0561 97.1859,-20.0378 102.3334,-24.7816\"/>\n",
       "</g>\n",
       "</g>\n",
       "</svg>\n"
      ],
      "text/plain": [
       "<graphviz.dot.Digraph at 0x121c3ef60>"
      ]
     },
     "metadata": {},
     "output_type": "display_data"
    }
   ],
   "source": [
    "display_tree(derivation_tree)"
   ]
  },
  {
   "cell_type": "markdown",
   "metadata": {
    "button": false,
    "new_sheet": false,
    "run_control": {
     "read_only": false
    },
    "slideshow": {
     "slide_type": "subslide"
    }
   },
   "source": [
    "To turn the tree into a string, the following `all_terminals()` function comes in handy:"
   ]
  },
  {
   "cell_type": "code",
   "execution_count": 31,
   "metadata": {
    "button": false,
    "new_sheet": false,
    "run_control": {
     "read_only": false
    },
    "slideshow": {
     "slide_type": "fragment"
    }
   },
   "outputs": [],
   "source": [
    "def all_terminals(tree):\n",
    "    (symbol, children) = tree\n",
    "    if children is None:\n",
    "        # This is a nonterminal symbol not expanded yet\n",
    "        return symbol\n",
    "\n",
    "    if len(children) == 0:\n",
    "        # This is a terminal symbol\n",
    "        return symbol\n",
    "\n",
    "    # This is an expanded symbol:\n",
    "    # Concatenate all terminal symbols from all children\n",
    "    return ''.join([all_terminals(c) for c in children])"
   ]
  },
  {
   "cell_type": "code",
   "execution_count": 32,
   "metadata": {
    "button": false,
    "new_sheet": false,
    "run_control": {
     "read_only": false
    },
    "slideshow": {
     "slide_type": "fragment"
    }
   },
   "outputs": [
    {
     "data": {
      "text/plain": [
       "'<expr> + <term>'"
      ]
     },
     "execution_count": 32,
     "metadata": {},
     "output_type": "execute_result"
    }
   ],
   "source": [
    "all_terminals(derivation_tree)"
   ]
  },
  {
   "cell_type": "markdown",
   "metadata": {
    "button": false,
    "new_sheet": false,
    "run_control": {
     "read_only": false
    },
    "slideshow": {
     "slide_type": "slide"
    }
   },
   "source": [
    "## Expanding a Node"
   ]
  },
  {
   "cell_type": "markdown",
   "metadata": {
    "button": false,
    "new_sheet": false,
    "run_control": {
     "read_only": false
    },
    "slideshow": {
     "slide_type": "fragment"
    }
   },
   "source": [
    "Let us now develop an algorithm that takes a tree with unexpanded symbols (say, `derivation_tree`, above), and expands all these symbols one after the other.  As with earlier fuzzers, we create a special subclass of `Fuzzer` – in this case, `GrammarFuzzer`.  A `GrammarFuzzer` gets a grammar and a start symbol; the other parameters will be used later to further control creation and to support debugging."
   ]
  },
  {
   "cell_type": "code",
   "execution_count": 33,
   "metadata": {
    "slideshow": {
     "slide_type": "skip"
    }
   },
   "outputs": [],
   "source": [
    "from Fuzzer import Fuzzer"
   ]
  },
  {
   "cell_type": "code",
   "execution_count": 34,
   "metadata": {
    "button": false,
    "new_sheet": false,
    "run_control": {
     "read_only": false
    },
    "slideshow": {
     "slide_type": "subslide"
    }
   },
   "outputs": [],
   "source": [
    "class GrammarFuzzer(Fuzzer):\n",
    "    def __init__(self, grammar, start_symbol=START_SYMBOL,\n",
    "                 min_nonterminals=0, max_nonterminals=10, disp=False, log=False):\n",
    "        self.grammar = grammar\n",
    "        self.start_symbol = start_symbol\n",
    "        self.min_nonterminals = min_nonterminals\n",
    "        self.max_nonterminals = max_nonterminals\n",
    "        self.disp = disp\n",
    "        self.log = log\n"
   ]
  },
  {
   "cell_type": "markdown",
   "metadata": {
    "slideshow": {
     "slide_type": "subslide"
    }
   },
   "source": [
    "In the following, we will add further methods to `GrammarFuzzer`, using the hack already introduced for [the `MutationFuzzer` class](MutationFuzzer.ipynb).  The construct\n",
    "\n",
    "```python\n",
    "class GrammarFuzzer(GrammarFuzzer):\n",
    "    def new_method(self, args):\n",
    "        pass\n",
    "```\n",
    "\n",
    "allows us to add a new method `new_method()` to the `GrammarFuzzer` class. (Actually, we get a new `GrammarFuzzer` class that extends the old one, but for all our purposes, this does not matter.)"
   ]
  },
  {
   "cell_type": "markdown",
   "metadata": {
    "button": false,
    "new_sheet": false,
    "run_control": {
     "read_only": false
    },
    "slideshow": {
     "slide_type": "subslide"
    }
   },
   "source": [
    "Using this hack, let us define a helper method `init_tree()` that constructs a tree with just the start symbol:"
   ]
  },
  {
   "cell_type": "code",
   "execution_count": 35,
   "metadata": {
    "button": false,
    "new_sheet": false,
    "run_control": {
     "read_only": false
    },
    "slideshow": {
     "slide_type": "fragment"
    }
   },
   "outputs": [],
   "source": [
    "class GrammarFuzzer(GrammarFuzzer):\n",
    "    def init_tree(self):\n",
    "        return (self.start_symbol, None)"
   ]
  },
  {
   "cell_type": "code",
   "execution_count": 36,
   "metadata": {
    "button": false,
    "new_sheet": false,
    "run_control": {
     "read_only": false
    },
    "slideshow": {
     "slide_type": "fragment"
    }
   },
   "outputs": [
    {
     "data": {
      "image/svg+xml": [
       "<?xml version=\"1.0\" encoding=\"UTF-8\" standalone=\"no\"?>\n",
       "<!DOCTYPE svg PUBLIC \"-//W3C//DTD SVG 1.1//EN\"\n",
       " \"http://www.w3.org/Graphics/SVG/1.1/DTD/svg11.dtd\">\n",
       "<!-- Generated by graphviz version 2.40.1 (20161225.0304)\n",
       " -->\n",
       "<!-- Title: %3 Pages: 1 -->\n",
       "<svg width=\"48pt\" height=\"23pt\"\n",
       " viewBox=\"0.00 0.00 48.00 23.00\" xmlns=\"http://www.w3.org/2000/svg\" xmlns:xlink=\"http://www.w3.org/1999/xlink\">\n",
       "<g id=\"graph0\" class=\"graph\" transform=\"scale(1 1) rotate(0) translate(4 19)\">\n",
       "<title>%3</title>\n",
       "<polygon fill=\"#ffffff\" stroke=\"transparent\" points=\"-4,4 -4,-19 44,-19 44,4 -4,4\"/>\n",
       "<!-- 0 -->\n",
       "<g id=\"node1\" class=\"node\">\n",
       "<title>0</title>\n",
       "<text text-anchor=\"middle\" x=\"20\" y=\"-3.8\" font-family=\"Times,serif\" font-size=\"14.00\" fill=\"#000000\">&lt;start&gt;</text>\n",
       "</g>\n",
       "</g>\n",
       "</svg>\n"
      ],
      "text/plain": [
       "<graphviz.dot.Digraph at 0x121c4a0f0>"
      ]
     },
     "metadata": {},
     "output_type": "display_data"
    }
   ],
   "source": [
    "f = GrammarFuzzer(EXPR_GRAMMAR)\n",
    "display_tree(f.init_tree())"
   ]
  },
  {
   "cell_type": "markdown",
   "metadata": {
    "button": false,
    "new_sheet": false,
    "run_control": {
     "read_only": false
    },
    "slideshow": {
     "slide_type": "subslide"
    }
   },
   "source": [
    "Next, we will need a helper function `expansion_to_children()` that takes an expansion string and converts it into a list of derivation trees.  It uses the `re.split()` method to split an expansion string into a list of children nodes:"
   ]
  },
  {
   "cell_type": "code",
   "execution_count": 37,
   "metadata": {
    "button": false,
    "new_sheet": false,
    "run_control": {
     "read_only": false
    },
    "slideshow": {
     "slide_type": "subslide"
    }
   },
   "outputs": [],
   "source": [
    "def expansion_to_children(expansion):\n",
    "    # print(\"Converting \" + repr(expansion))\n",
    "    # strings contains all substrings -- both terminals and nonterminals such\n",
    "    # that ''.join(strings) == expansion\n",
    "\n",
    "    # See nonterminals() in Grammars.py\n",
    "    if isinstance(expansion, tuple):\n",
    "        expansion = expansion[0]\n",
    "\n",
    "    if expansion == \"\":  # Special case: empty expansion\n",
    "        return [(\"\", [])]\n",
    "\n",
    "    strings = re.split(RE_NONTERMINAL, expansion)\n",
    "    return [(s, None) if is_nonterminal(s) else (s, [])\n",
    "            for s in strings if len(s) > 0]\n"
   ]
  },
  {
   "cell_type": "code",
   "execution_count": 38,
   "metadata": {
    "button": false,
    "new_sheet": false,
    "run_control": {
     "read_only": false
    },
    "slideshow": {
     "slide_type": "subslide"
    }
   },
   "outputs": [
    {
     "data": {
      "text/plain": [
       "[('<term>', None), (' + ', []), ('<expr>', None)]"
      ]
     },
     "execution_count": 38,
     "metadata": {},
     "output_type": "execute_result"
    }
   ],
   "source": [
    "expansion_to_children(\"<term> + <expr>\")"
   ]
  },
  {
   "cell_type": "markdown",
   "metadata": {
    "button": false,
    "new_sheet": false,
    "run_control": {
     "read_only": false
    },
    "slideshow": {
     "slide_type": "fragment"
    }
   },
   "source": [
    "The case of an empty expansion needs special treatment:"
   ]
  },
  {
   "cell_type": "code",
   "execution_count": 39,
   "metadata": {
    "button": false,
    "new_sheet": false,
    "run_control": {
     "read_only": false
    },
    "slideshow": {
     "slide_type": "fragment"
    }
   },
   "outputs": [
    {
     "data": {
      "text/plain": [
       "[('', [])]"
      ]
     },
     "execution_count": 39,
     "metadata": {},
     "output_type": "execute_result"
    }
   ],
   "source": [
    "expansion_to_children(\"\")"
   ]
  },
  {
   "cell_type": "markdown",
   "metadata": {
    "slideshow": {
     "slide_type": "subslide"
    }
   },
   "source": [
    "Just like `nonterminals()` in the [chapter on Grammars](Grammars.ipynb), we provide for future extensions, allowing the expansion to be a tuple with extra data (which will be ignored)."
   ]
  },
  {
   "cell_type": "code",
   "execution_count": 40,
   "metadata": {
    "button": false,
    "new_sheet": false,
    "run_control": {
     "read_only": false
    },
    "slideshow": {
     "slide_type": "fragment"
    }
   },
   "outputs": [
    {
     "data": {
      "text/plain": [
       "[('+', []), ('<term>', None)]"
      ]
     },
     "execution_count": 40,
     "metadata": {},
     "output_type": "execute_result"
    }
   ],
   "source": [
    "expansion_to_children((\"+<term>\", [\"extra_data\"]))"
   ]
  },
  {
   "cell_type": "markdown",
   "metadata": {
    "slideshow": {
     "slide_type": "fragment"
    }
   },
   "source": [
    "We realize this helper as a method in `GrammarFuzzer` such that it can be overloaded by subclasses:"
   ]
  },
  {
   "cell_type": "code",
   "execution_count": 41,
   "metadata": {
    "slideshow": {
     "slide_type": "fragment"
    }
   },
   "outputs": [],
   "source": [
    "class GrammarFuzzer(GrammarFuzzer):\n",
    "    def expansion_to_children(self, expansion):\n",
    "        return expansion_to_children(expansion)"
   ]
  },
  {
   "cell_type": "markdown",
   "metadata": {
    "button": false,
    "new_sheet": false,
    "run_control": {
     "read_only": false
    },
    "slideshow": {
     "slide_type": "subslide"
    }
   },
   "source": [
    "With this, we can now take some unexpanded node in the tree, choose a random expansion, and return the new tree.  This is what the method `expand_node_randomly()` does, using a helper function `choose_node_expansion()` to randomly pick an index from an array of possible children.  (`choose_node_expansion()` can be overloaded in subclasses.)"
   ]
  },
  {
   "cell_type": "code",
   "execution_count": 42,
   "metadata": {
    "slideshow": {
     "slide_type": "skip"
    }
   },
   "outputs": [],
   "source": [
    "import random"
   ]
  },
  {
   "cell_type": "code",
   "execution_count": 43,
   "metadata": {
    "button": false,
    "new_sheet": false,
    "run_control": {
     "read_only": false
    },
    "slideshow": {
     "slide_type": "subslide"
    }
   },
   "outputs": [],
   "source": [
    "class GrammarFuzzer(GrammarFuzzer):\n",
    "    def choose_node_expansion(self, node, possible_children):\n",
    "        \"\"\"Return index of expansion in `possible_children` to be selected.  Defaults to random.\"\"\"\n",
    "        return random.randrange(0, len(possible_children))\n",
    "\n",
    "    def expand_node_randomly(self, node):\n",
    "        (symbol, children) = node\n",
    "        assert children is None\n",
    "\n",
    "        if self.log:\n",
    "            print(\"Expanding\", all_terminals(node), \"randomly\")\n",
    "\n",
    "        # Fetch the possible expansions from grammar...\n",
    "        expansions = self.grammar[symbol]\n",
    "        possible_children = [self.expansion_to_children(expansion) for expansion in expansions]\n",
    "\n",
    "        # ... and select a random expansion\n",
    "        index = self.choose_node_expansion(node, possible_children)\n",
    "        children = possible_children[index]\n",
    "\n",
    "        # Return with new children\n",
    "        return (symbol, children)\n"
   ]
  },
  {
   "cell_type": "markdown",
   "metadata": {
    "slideshow": {
     "slide_type": "subslide"
    }
   },
   "source": [
    "The generic `expand_node()` method can later be used to select different expansion strategies; as of now, it only uses `expand_node_randomly()`."
   ]
  },
  {
   "cell_type": "code",
   "execution_count": 44,
   "metadata": {
    "slideshow": {
     "slide_type": "fragment"
    }
   },
   "outputs": [],
   "source": [
    "class GrammarFuzzer(GrammarFuzzer):\n",
    "    def expand_node(self, node):\n",
    "        return self.expand_node_randomly(node)"
   ]
  },
  {
   "cell_type": "markdown",
   "metadata": {
    "slideshow": {
     "slide_type": "subslide"
    }
   },
   "source": [
    "This is how `expand_node_randomly()` works:"
   ]
  },
  {
   "cell_type": "code",
   "execution_count": 45,
   "metadata": {
    "button": false,
    "new_sheet": false,
    "run_control": {
     "read_only": false
    },
    "slideshow": {
     "slide_type": "fragment"
    }
   },
   "outputs": [
    {
     "name": "stdout",
     "output_type": "stream",
     "text": [
      "Before:\n"
     ]
    },
    {
     "data": {
      "image/svg+xml": [
       "<?xml version=\"1.0\" encoding=\"UTF-8\" standalone=\"no\"?>\n",
       "<!DOCTYPE svg PUBLIC \"-//W3C//DTD SVG 1.1//EN\"\n",
       " \"http://www.w3.org/Graphics/SVG/1.1/DTD/svg11.dtd\">\n",
       "<!-- Generated by graphviz version 2.40.1 (20161225.0304)\n",
       " -->\n",
       "<!-- Title: %3 Pages: 1 -->\n",
       "<svg width=\"63pt\" height=\"23pt\"\n",
       " viewBox=\"0.00 0.00 63.00 23.00\" xmlns=\"http://www.w3.org/2000/svg\" xmlns:xlink=\"http://www.w3.org/1999/xlink\">\n",
       "<g id=\"graph0\" class=\"graph\" transform=\"scale(1 1) rotate(0) translate(4 19)\">\n",
       "<title>%3</title>\n",
       "<polygon fill=\"#ffffff\" stroke=\"transparent\" points=\"-4,4 -4,-19 59,-19 59,4 -4,4\"/>\n",
       "<!-- 0 -->\n",
       "<g id=\"node1\" class=\"node\">\n",
       "<title>0</title>\n",
       "<text text-anchor=\"middle\" x=\"27.5\" y=\"-3.8\" font-family=\"Times,serif\" font-size=\"14.00\" fill=\"#000000\">&lt;integer&gt;</text>\n",
       "</g>\n",
       "</g>\n",
       "</svg>\n"
      ],
      "text/plain": [
       "<graphviz.dot.Digraph at 0x121c3ed68>"
      ]
     },
     "metadata": {},
     "output_type": "display_data"
    },
    {
     "name": "stdout",
     "output_type": "stream",
     "text": [
      "After:\n",
      "Expanding <integer> randomly\n"
     ]
    },
    {
     "data": {
      "image/svg+xml": [
       "<?xml version=\"1.0\" encoding=\"UTF-8\" standalone=\"no\"?>\n",
       "<!DOCTYPE svg PUBLIC \"-//W3C//DTD SVG 1.1//EN\"\n",
       " \"http://www.w3.org/Graphics/SVG/1.1/DTD/svg11.dtd\">\n",
       "<!-- Generated by graphviz version 2.40.1 (20161225.0304)\n",
       " -->\n",
       "<!-- Title: %3 Pages: 1 -->\n",
       "<svg width=\"63pt\" height=\"74pt\"\n",
       " viewBox=\"0.00 0.00 63.00 74.00\" xmlns=\"http://www.w3.org/2000/svg\" xmlns:xlink=\"http://www.w3.org/1999/xlink\">\n",
       "<g id=\"graph0\" class=\"graph\" transform=\"scale(1 1) rotate(0) translate(4 70)\">\n",
       "<title>%3</title>\n",
       "<polygon fill=\"#ffffff\" stroke=\"transparent\" points=\"-4,4 -4,-70 59,-70 59,4 -4,4\"/>\n",
       "<!-- 0 -->\n",
       "<g id=\"node1\" class=\"node\">\n",
       "<title>0</title>\n",
       "<text text-anchor=\"middle\" x=\"27.5\" y=\"-54.8\" font-family=\"Times,serif\" font-size=\"14.00\" fill=\"#000000\">&lt;integer&gt;</text>\n",
       "</g>\n",
       "<!-- 1 -->\n",
       "<g id=\"node2\" class=\"node\">\n",
       "<title>1</title>\n",
       "<text text-anchor=\"middle\" x=\"27.5\" y=\"-3.8\" font-family=\"Times,serif\" font-size=\"14.00\" fill=\"#000000\">&lt;digit&gt;</text>\n",
       "</g>\n",
       "<!-- 0&#45;&gt;1 -->\n",
       "<g id=\"edge1\" class=\"edge\">\n",
       "<title>0&#45;&gt;1</title>\n",
       "<path fill=\"none\" stroke=\"#000000\" d=\"M27.5,-50.9748C27.5,-44.195 27.5,-33.966 27.5,-25.1331\"/>\n",
       "<polygon fill=\"#000000\" stroke=\"#000000\" points=\"31.0001,-25.0561 27.5,-15.0561 24.0001,-25.0561 31.0001,-25.0561\"/>\n",
       "</g>\n",
       "</g>\n",
       "</svg>\n"
      ],
      "text/plain": [
       "<graphviz.dot.Digraph at 0x121c4a048>"
      ]
     },
     "metadata": {},
     "output_type": "display_data"
    }
   ],
   "source": [
    "f = GrammarFuzzer(EXPR_GRAMMAR, log=True)\n",
    "\n",
    "print(\"Before:\")\n",
    "tree = (\"<integer>\", None)\n",
    "display_tree(tree)\n",
    "\n",
    "print(\"After:\")\n",
    "tree = f.expand_node_randomly(tree)\n",
    "display_tree(tree)"
   ]
  },
  {
   "cell_type": "markdown",
   "metadata": {
    "button": false,
    "new_sheet": false,
    "run_control": {
     "read_only": false
    },
    "slideshow": {
     "slide_type": "slide"
    }
   },
   "source": [
    "## Expanding a Tree\n",
    "\n",
    "Let us now apply the above node expansion to some node in the tree.  To this end, we first need to search the tree for unexpanded nodes.  `possible_expansions()` counts how many unexpanded symbols there are in a tree:"
   ]
  },
  {
   "cell_type": "code",
   "execution_count": 46,
   "metadata": {
    "button": false,
    "new_sheet": false,
    "run_control": {
     "read_only": false
    },
    "slideshow": {
     "slide_type": "fragment"
    }
   },
   "outputs": [],
   "source": [
    "class GrammarFuzzer(GrammarFuzzer):\n",
    "    def possible_expansions(self, node):\n",
    "        (symbol, children) = node\n",
    "        if children is None:\n",
    "            return 1\n",
    "\n",
    "        return sum(self.possible_expansions(c) for c in children)"
   ]
  },
  {
   "cell_type": "code",
   "execution_count": 47,
   "metadata": {
    "button": false,
    "new_sheet": false,
    "run_control": {
     "read_only": false
    },
    "slideshow": {
     "slide_type": "fragment"
    }
   },
   "outputs": [
    {
     "name": "stdout",
     "output_type": "stream",
     "text": [
      "2\n"
     ]
    }
   ],
   "source": [
    "f = GrammarFuzzer(EXPR_GRAMMAR)\n",
    "print(f.possible_expansions(derivation_tree))"
   ]
  },
  {
   "cell_type": "markdown",
   "metadata": {
    "button": false,
    "new_sheet": false,
    "run_control": {
     "read_only": false
    },
    "slideshow": {
     "slide_type": "subslide"
    }
   },
   "source": [
    "The method `any_possible_expansions()` returns True if the tree has any unexpanded nodes."
   ]
  },
  {
   "cell_type": "code",
   "execution_count": 48,
   "metadata": {
    "button": false,
    "new_sheet": false,
    "run_control": {
     "read_only": false
    },
    "slideshow": {
     "slide_type": "fragment"
    }
   },
   "outputs": [],
   "source": [
    "class GrammarFuzzer(GrammarFuzzer):\n",
    "    def any_possible_expansions(self, node):\n",
    "        (symbol, children) = node\n",
    "        if children is None:\n",
    "            return True\n",
    "\n",
    "        return any(self.any_possible_expansions(c) for c in children)"
   ]
  },
  {
   "cell_type": "code",
   "execution_count": 49,
   "metadata": {
    "button": false,
    "new_sheet": false,
    "run_control": {
     "read_only": false
    },
    "slideshow": {
     "slide_type": "fragment"
    }
   },
   "outputs": [
    {
     "data": {
      "text/plain": [
       "True"
      ]
     },
     "execution_count": 49,
     "metadata": {},
     "output_type": "execute_result"
    }
   ],
   "source": [
    "f = GrammarFuzzer(EXPR_GRAMMAR)\n",
    "f.any_possible_expansions(derivation_tree)"
   ]
  },
  {
   "cell_type": "markdown",
   "metadata": {
    "button": false,
    "new_sheet": false,
    "run_control": {
     "read_only": false
    },
    "slideshow": {
     "slide_type": "subslide"
    }
   },
   "source": [
    "Here comes `expand_tree_once()`, the core method of our tree expansion algorithm.  It first checks whether it is currently being applied on a nonterminal symbol without expansion; if so, it invokes `expand_node()` on it as above.  \n",
    "\n",
    "If the node is already expanded (i.e. has children), it checks the subset of children which still have unexpanded symbols, randomly selects one of them, and applies itself recursively on that child.\n",
    "\n",
    "The `expand_tree_once()` method replaces the child _in place_, meaning that it actually mutates the tree being passed as an argument rather than returning a new tree.  This in-place mutation is what makes this function particularly efficient.  Again, we use a helper method (`choose_tree_expansion()`) to return the chosen index from a list of children that can be expanded."
   ]
  },
  {
   "cell_type": "code",
   "execution_count": 50,
   "metadata": {
    "button": false,
    "new_sheet": false,
    "run_control": {
     "read_only": false
    },
    "slideshow": {
     "slide_type": "subslide"
    }
   },
   "outputs": [],
   "source": [
    "class GrammarFuzzer(GrammarFuzzer):\n",
    "    def choose_tree_expansion(self, tree, children):\n",
    "        \"\"\"Return index of subtree in `children` to be selected for expansion.  Defaults to random.\"\"\"\n",
    "        return random.randrange(0, len(children))\n",
    "\n",
    "    def expand_tree_once(self, tree):\n",
    "        (symbol, children) = tree\n",
    "        if children is None:\n",
    "            # Expand this node\n",
    "            return self.expand_node(tree)\n",
    "\n",
    "        # Find all children with possible expansions\n",
    "        expandable_children = [\n",
    "            c for c in children if self.any_possible_expansions(c)]\n",
    "\n",
    "        # `index_map` translates an index in `expandable_children`\n",
    "        # back into the original index in `children`\n",
    "        index_map = [i for (i, c) in enumerate(children)\n",
    "                     if self.any_possible_expansions(c)]\n",
    "\n",
    "        # Select a random child\n",
    "        child_to_be_expanded = \\\n",
    "            self.choose_tree_expansion(tree, expandable_children)\n",
    "\n",
    "        # Expand in place\n",
    "        children[index_map[child_to_be_expanded]] = \\\n",
    "            self.expand_tree_once(expandable_children[child_to_be_expanded])\n",
    "\n",
    "        return tree"
   ]
  },
  {
   "cell_type": "markdown",
   "metadata": {
    "button": false,
    "new_sheet": false,
    "run_control": {
     "read_only": false
    },
    "slideshow": {
     "slide_type": "subslide"
    }
   },
   "source": [
    "Let's put it to use, expanding our derivation tree from above twice."
   ]
  },
  {
   "cell_type": "code",
   "execution_count": 51,
   "metadata": {
    "button": false,
    "new_sheet": false,
    "run_control": {
     "read_only": false
    },
    "slideshow": {
     "slide_type": "fragment"
    }
   },
   "outputs": [
    {
     "data": {
      "image/svg+xml": [
       "<?xml version=\"1.0\" encoding=\"UTF-8\" standalone=\"no\"?>\n",
       "<!DOCTYPE svg PUBLIC \"-//W3C//DTD SVG 1.1//EN\"\n",
       " \"http://www.w3.org/Graphics/SVG/1.1/DTD/svg11.dtd\">\n",
       "<!-- Generated by graphviz version 2.40.1 (20161225.0304)\n",
       " -->\n",
       "<!-- Title: %3 Pages: 1 -->\n",
       "<svg width=\"143pt\" height=\"125pt\"\n",
       " viewBox=\"0.00 0.00 142.50 125.00\" xmlns=\"http://www.w3.org/2000/svg\" xmlns:xlink=\"http://www.w3.org/1999/xlink\">\n",
       "<g id=\"graph0\" class=\"graph\" transform=\"scale(1 1) rotate(0) translate(4 121)\">\n",
       "<title>%3</title>\n",
       "<polygon fill=\"#ffffff\" stroke=\"transparent\" points=\"-4,4 -4,-121 138.5,-121 138.5,4 -4,4\"/>\n",
       "<!-- 0 -->\n",
       "<g id=\"node1\" class=\"node\">\n",
       "<title>0</title>\n",
       "<text text-anchor=\"middle\" x=\"66.5\" y=\"-105.8\" font-family=\"Times,serif\" font-size=\"14.00\" fill=\"#000000\">&lt;start&gt;</text>\n",
       "</g>\n",
       "<!-- 1 -->\n",
       "<g id=\"node2\" class=\"node\">\n",
       "<title>1</title>\n",
       "<text text-anchor=\"middle\" x=\"66.5\" y=\"-54.8\" font-family=\"Times,serif\" font-size=\"14.00\" fill=\"#000000\">&lt;expr&gt;</text>\n",
       "</g>\n",
       "<!-- 0&#45;&gt;1 -->\n",
       "<g id=\"edge1\" class=\"edge\">\n",
       "<title>0&#45;&gt;1</title>\n",
       "<path fill=\"none\" stroke=\"#000000\" d=\"M66.5,-101.9748C66.5,-95.195 66.5,-84.966 66.5,-76.1331\"/>\n",
       "<polygon fill=\"#000000\" stroke=\"#000000\" points=\"70.0001,-76.0561 66.5,-66.0561 63.0001,-76.0561 70.0001,-76.0561\"/>\n",
       "</g>\n",
       "<!-- 2 -->\n",
       "<g id=\"node3\" class=\"node\">\n",
       "<title>2</title>\n",
       "<text text-anchor=\"middle\" x=\"20.5\" y=\"-3.8\" font-family=\"Times,serif\" font-size=\"14.00\" fill=\"#000000\">&lt;expr&gt;</text>\n",
       "</g>\n",
       "<!-- 1&#45;&gt;2 -->\n",
       "<g id=\"edge2\" class=\"edge\">\n",
       "<title>1&#45;&gt;2</title>\n",
       "<path fill=\"none\" stroke=\"#000000\" d=\"M59.7125,-50.9748C52.9859,-43.517 42.495,-31.8857 34.0564,-22.53\"/>\n",
       "<polygon fill=\"#000000\" stroke=\"#000000\" points=\"36.612,-20.1376 27.3153,-15.0561 31.414,-24.826 36.612,-20.1376\"/>\n",
       "</g>\n",
       "<!-- 3 -->\n",
       "<g id=\"node4\" class=\"node\">\n",
       "<title>3</title>\n",
       "<text text-anchor=\"middle\" x=\"66.5\" y=\"-3.8\" font-family=\"Times,serif\" font-size=\"14.00\" fill=\"#000000\"> + </text>\n",
       "</g>\n",
       "<!-- 1&#45;&gt;3 -->\n",
       "<g id=\"edge3\" class=\"edge\">\n",
       "<title>1&#45;&gt;3</title>\n",
       "<path fill=\"none\" stroke=\"#000000\" d=\"M66.5,-50.9748C66.5,-44.195 66.5,-33.966 66.5,-25.1331\"/>\n",
       "<polygon fill=\"#000000\" stroke=\"#000000\" points=\"70.0001,-25.0561 66.5,-15.0561 63.0001,-25.0561 70.0001,-25.0561\"/>\n",
       "</g>\n",
       "<!-- 4 -->\n",
       "<g id=\"node5\" class=\"node\">\n",
       "<title>4</title>\n",
       "<text text-anchor=\"middle\" x=\"113.5\" y=\"-3.8\" font-family=\"Times,serif\" font-size=\"14.00\" fill=\"#000000\">&lt;term&gt;</text>\n",
       "</g>\n",
       "<!-- 1&#45;&gt;4 -->\n",
       "<g id=\"edge4\" class=\"edge\">\n",
       "<title>1&#45;&gt;4</title>\n",
       "<path fill=\"none\" stroke=\"#000000\" d=\"M73.435,-50.9748C80.3079,-43.517 91.0269,-31.8857 99.6488,-22.53\"/>\n",
       "<polygon fill=\"#000000\" stroke=\"#000000\" points=\"102.3334,-24.7816 106.5365,-15.0561 97.1859,-20.0378 102.3334,-24.7816\"/>\n",
       "</g>\n",
       "</g>\n",
       "</svg>\n"
      ],
      "text/plain": [
       "<graphviz.dot.Digraph at 0x121c3e470>"
      ]
     },
     "metadata": {},
     "output_type": "display_data"
    }
   ],
   "source": [
    "derivation_tree = (\"<start>\",\n",
    "                   [(\"<expr>\",\n",
    "                     [(\"<expr>\", None),\n",
    "                      (\" + \", []),\n",
    "                         (\"<term>\", None)]\n",
    "                     )])\n",
    "display_tree(derivation_tree)"
   ]
  },
  {
   "cell_type": "code",
   "execution_count": 52,
   "metadata": {
    "button": false,
    "new_sheet": false,
    "run_control": {
     "read_only": false
    },
    "slideshow": {
     "slide_type": "subslide"
    }
   },
   "outputs": [
    {
     "name": "stdout",
     "output_type": "stream",
     "text": [
      "Expanding <term> randomly\n"
     ]
    },
    {
     "data": {
      "image/svg+xml": [
       "<?xml version=\"1.0\" encoding=\"UTF-8\" standalone=\"no\"?>\n",
       "<!DOCTYPE svg PUBLIC \"-//W3C//DTD SVG 1.1//EN\"\n",
       " \"http://www.w3.org/Graphics/SVG/1.1/DTD/svg11.dtd\">\n",
       "<!-- Generated by graphviz version 2.40.1 (20161225.0304)\n",
       " -->\n",
       "<!-- Title: %3 Pages: 1 -->\n",
       "<svg width=\"188pt\" height=\"176pt\"\n",
       " viewBox=\"0.00 0.00 187.50 176.00\" xmlns=\"http://www.w3.org/2000/svg\" xmlns:xlink=\"http://www.w3.org/1999/xlink\">\n",
       "<g id=\"graph0\" class=\"graph\" transform=\"scale(1 1) rotate(0) translate(4 172)\">\n",
       "<title>%3</title>\n",
       "<polygon fill=\"#ffffff\" stroke=\"transparent\" points=\"-4,4 -4,-172 183.5,-172 183.5,4 -4,4\"/>\n",
       "<!-- 0 -->\n",
       "<g id=\"node1\" class=\"node\">\n",
       "<title>0</title>\n",
       "<text text-anchor=\"middle\" x=\"66.5\" y=\"-156.8\" font-family=\"Times,serif\" font-size=\"14.00\" fill=\"#000000\">&lt;start&gt;</text>\n",
       "</g>\n",
       "<!-- 1 -->\n",
       "<g id=\"node2\" class=\"node\">\n",
       "<title>1</title>\n",
       "<text text-anchor=\"middle\" x=\"66.5\" y=\"-105.8\" font-family=\"Times,serif\" font-size=\"14.00\" fill=\"#000000\">&lt;expr&gt;</text>\n",
       "</g>\n",
       "<!-- 0&#45;&gt;1 -->\n",
       "<g id=\"edge1\" class=\"edge\">\n",
       "<title>0&#45;&gt;1</title>\n",
       "<path fill=\"none\" stroke=\"#000000\" d=\"M66.5,-152.9748C66.5,-146.195 66.5,-135.966 66.5,-127.1331\"/>\n",
       "<polygon fill=\"#000000\" stroke=\"#000000\" points=\"70.0001,-127.0561 66.5,-117.0561 63.0001,-127.0561 70.0001,-127.0561\"/>\n",
       "</g>\n",
       "<!-- 2 -->\n",
       "<g id=\"node3\" class=\"node\">\n",
       "<title>2</title>\n",
       "<text text-anchor=\"middle\" x=\"20.5\" y=\"-54.8\" font-family=\"Times,serif\" font-size=\"14.00\" fill=\"#000000\">&lt;expr&gt;</text>\n",
       "</g>\n",
       "<!-- 1&#45;&gt;2 -->\n",
       "<g id=\"edge2\" class=\"edge\">\n",
       "<title>1&#45;&gt;2</title>\n",
       "<path fill=\"none\" stroke=\"#000000\" d=\"M59.7125,-101.9748C52.9859,-94.517 42.495,-82.8857 34.0564,-73.53\"/>\n",
       "<polygon fill=\"#000000\" stroke=\"#000000\" points=\"36.612,-71.1376 27.3153,-66.0561 31.414,-75.826 36.612,-71.1376\"/>\n",
       "</g>\n",
       "<!-- 3 -->\n",
       "<g id=\"node4\" class=\"node\">\n",
       "<title>3</title>\n",
       "<text text-anchor=\"middle\" x=\"66.5\" y=\"-54.8\" font-family=\"Times,serif\" font-size=\"14.00\" fill=\"#000000\"> + </text>\n",
       "</g>\n",
       "<!-- 1&#45;&gt;3 -->\n",
       "<g id=\"edge3\" class=\"edge\">\n",
       "<title>1&#45;&gt;3</title>\n",
       "<path fill=\"none\" stroke=\"#000000\" d=\"M66.5,-101.9748C66.5,-95.195 66.5,-84.966 66.5,-76.1331\"/>\n",
       "<polygon fill=\"#000000\" stroke=\"#000000\" points=\"70.0001,-76.0561 66.5,-66.0561 63.0001,-76.0561 70.0001,-76.0561\"/>\n",
       "</g>\n",
       "<!-- 4 -->\n",
       "<g id=\"node5\" class=\"node\">\n",
       "<title>4</title>\n",
       "<text text-anchor=\"middle\" x=\"113.5\" y=\"-54.8\" font-family=\"Times,serif\" font-size=\"14.00\" fill=\"#000000\">&lt;term&gt;</text>\n",
       "</g>\n",
       "<!-- 1&#45;&gt;4 -->\n",
       "<g id=\"edge4\" class=\"edge\">\n",
       "<title>1&#45;&gt;4</title>\n",
       "<path fill=\"none\" stroke=\"#000000\" d=\"M73.435,-101.9748C80.3079,-94.517 91.0269,-82.8857 99.6488,-73.53\"/>\n",
       "<polygon fill=\"#000000\" stroke=\"#000000\" points=\"102.3334,-75.7816 106.5365,-66.0561 97.1859,-71.0378 102.3334,-75.7816\"/>\n",
       "</g>\n",
       "<!-- 5 -->\n",
       "<g id=\"node6\" class=\"node\">\n",
       "<title>5</title>\n",
       "<text text-anchor=\"middle\" x=\"65.5\" y=\"-3.8\" font-family=\"Times,serif\" font-size=\"14.00\" fill=\"#000000\">&lt;factor&gt;</text>\n",
       "</g>\n",
       "<!-- 4&#45;&gt;5 -->\n",
       "<g id=\"edge5\" class=\"edge\">\n",
       "<title>4&#45;&gt;5</title>\n",
       "<path fill=\"none\" stroke=\"#000000\" d=\"M106.4174,-50.9748C99.3983,-43.517 88.4513,-31.8857 79.6459,-22.53\"/>\n",
       "<polygon fill=\"#000000\" stroke=\"#000000\" points=\"82.014,-19.9393 72.6116,-15.0561 76.9166,-24.7369 82.014,-19.9393\"/>\n",
       "</g>\n",
       "<!-- 6 -->\n",
       "<g id=\"node7\" class=\"node\">\n",
       "<title>6</title>\n",
       "<text text-anchor=\"middle\" x=\"113.5\" y=\"-3.8\" font-family=\"Times,serif\" font-size=\"14.00\" fill=\"#000000\"> / </text>\n",
       "</g>\n",
       "<!-- 4&#45;&gt;6 -->\n",
       "<g id=\"edge6\" class=\"edge\">\n",
       "<title>4&#45;&gt;6</title>\n",
       "<path fill=\"none\" stroke=\"#000000\" d=\"M113.5,-50.9748C113.5,-44.195 113.5,-33.966 113.5,-25.1331\"/>\n",
       "<polygon fill=\"#000000\" stroke=\"#000000\" points=\"117.0001,-25.0561 113.5,-15.0561 110.0001,-25.0561 117.0001,-25.0561\"/>\n",
       "</g>\n",
       "<!-- 7 -->\n",
       "<g id=\"node8\" class=\"node\">\n",
       "<title>7</title>\n",
       "<text text-anchor=\"middle\" x=\"158.5\" y=\"-3.8\" font-family=\"Times,serif\" font-size=\"14.00\" fill=\"#000000\">&lt;term&gt;</text>\n",
       "</g>\n",
       "<!-- 4&#45;&gt;7 -->\n",
       "<g id=\"edge7\" class=\"edge\">\n",
       "<title>4&#45;&gt;7</title>\n",
       "<path fill=\"none\" stroke=\"#000000\" d=\"M120.1399,-50.9748C126.6538,-43.5923 136.7762,-32.1203 144.9875,-22.8142\"/>\n",
       "<polygon fill=\"#000000\" stroke=\"#000000\" points=\"147.841,-24.8702 151.8329,-15.0561 142.5922,-20.2388 147.841,-24.8702\"/>\n",
       "</g>\n",
       "</g>\n",
       "</svg>\n"
      ],
      "text/plain": [
       "<graphviz.dot.Digraph at 0x121c4a2e8>"
      ]
     },
     "metadata": {},
     "output_type": "display_data"
    }
   ],
   "source": [
    "f = GrammarFuzzer(EXPR_GRAMMAR, log=True)\n",
    "derivation_tree = f.expand_tree_once(derivation_tree)\n",
    "display_tree(derivation_tree)"
   ]
  },
  {
   "cell_type": "code",
   "execution_count": 53,
   "metadata": {
    "button": false,
    "new_sheet": false,
    "run_control": {
     "read_only": false
    },
    "slideshow": {
     "slide_type": "subslide"
    }
   },
   "outputs": [
    {
     "name": "stdout",
     "output_type": "stream",
     "text": [
      "Expanding <factor> randomly\n"
     ]
    },
    {
     "data": {
      "image/svg+xml": [
       "<?xml version=\"1.0\" encoding=\"UTF-8\" standalone=\"no\"?>\n",
       "<!DOCTYPE svg PUBLIC \"-//W3C//DTD SVG 1.1//EN\"\n",
       " \"http://www.w3.org/Graphics/SVG/1.1/DTD/svg11.dtd\">\n",
       "<!-- Generated by graphviz version 2.40.1 (20161225.0304)\n",
       " -->\n",
       "<!-- Title: %3 Pages: 1 -->\n",
       "<svg width=\"188pt\" height=\"227pt\"\n",
       " viewBox=\"0.00 0.00 187.50 227.00\" xmlns=\"http://www.w3.org/2000/svg\" xmlns:xlink=\"http://www.w3.org/1999/xlink\">\n",
       "<g id=\"graph0\" class=\"graph\" transform=\"scale(1 1) rotate(0) translate(4 223)\">\n",
       "<title>%3</title>\n",
       "<polygon fill=\"#ffffff\" stroke=\"transparent\" points=\"-4,4 -4,-223 183.5,-223 183.5,4 -4,4\"/>\n",
       "<!-- 0 -->\n",
       "<g id=\"node1\" class=\"node\">\n",
       "<title>0</title>\n",
       "<text text-anchor=\"middle\" x=\"66.5\" y=\"-207.8\" font-family=\"Times,serif\" font-size=\"14.00\" fill=\"#000000\">&lt;start&gt;</text>\n",
       "</g>\n",
       "<!-- 1 -->\n",
       "<g id=\"node2\" class=\"node\">\n",
       "<title>1</title>\n",
       "<text text-anchor=\"middle\" x=\"66.5\" y=\"-156.8\" font-family=\"Times,serif\" font-size=\"14.00\" fill=\"#000000\">&lt;expr&gt;</text>\n",
       "</g>\n",
       "<!-- 0&#45;&gt;1 -->\n",
       "<g id=\"edge1\" class=\"edge\">\n",
       "<title>0&#45;&gt;1</title>\n",
       "<path fill=\"none\" stroke=\"#000000\" d=\"M66.5,-203.9748C66.5,-197.195 66.5,-186.966 66.5,-178.1331\"/>\n",
       "<polygon fill=\"#000000\" stroke=\"#000000\" points=\"70.0001,-178.0561 66.5,-168.0561 63.0001,-178.0561 70.0001,-178.0561\"/>\n",
       "</g>\n",
       "<!-- 2 -->\n",
       "<g id=\"node3\" class=\"node\">\n",
       "<title>2</title>\n",
       "<text text-anchor=\"middle\" x=\"20.5\" y=\"-105.8\" font-family=\"Times,serif\" font-size=\"14.00\" fill=\"#000000\">&lt;expr&gt;</text>\n",
       "</g>\n",
       "<!-- 1&#45;&gt;2 -->\n",
       "<g id=\"edge2\" class=\"edge\">\n",
       "<title>1&#45;&gt;2</title>\n",
       "<path fill=\"none\" stroke=\"#000000\" d=\"M59.7125,-152.9748C52.9859,-145.517 42.495,-133.8857 34.0564,-124.53\"/>\n",
       "<polygon fill=\"#000000\" stroke=\"#000000\" points=\"36.612,-122.1376 27.3153,-117.0561 31.414,-126.826 36.612,-122.1376\"/>\n",
       "</g>\n",
       "<!-- 3 -->\n",
       "<g id=\"node4\" class=\"node\">\n",
       "<title>3</title>\n",
       "<text text-anchor=\"middle\" x=\"66.5\" y=\"-105.8\" font-family=\"Times,serif\" font-size=\"14.00\" fill=\"#000000\"> + </text>\n",
       "</g>\n",
       "<!-- 1&#45;&gt;3 -->\n",
       "<g id=\"edge3\" class=\"edge\">\n",
       "<title>1&#45;&gt;3</title>\n",
       "<path fill=\"none\" stroke=\"#000000\" d=\"M66.5,-152.9748C66.5,-146.195 66.5,-135.966 66.5,-127.1331\"/>\n",
       "<polygon fill=\"#000000\" stroke=\"#000000\" points=\"70.0001,-127.0561 66.5,-117.0561 63.0001,-127.0561 70.0001,-127.0561\"/>\n",
       "</g>\n",
       "<!-- 4 -->\n",
       "<g id=\"node5\" class=\"node\">\n",
       "<title>4</title>\n",
       "<text text-anchor=\"middle\" x=\"113.5\" y=\"-105.8\" font-family=\"Times,serif\" font-size=\"14.00\" fill=\"#000000\">&lt;term&gt;</text>\n",
       "</g>\n",
       "<!-- 1&#45;&gt;4 -->\n",
       "<g id=\"edge4\" class=\"edge\">\n",
       "<title>1&#45;&gt;4</title>\n",
       "<path fill=\"none\" stroke=\"#000000\" d=\"M73.435,-152.9748C80.3079,-145.517 91.0269,-133.8857 99.6488,-124.53\"/>\n",
       "<polygon fill=\"#000000\" stroke=\"#000000\" points=\"102.3334,-126.7816 106.5365,-117.0561 97.1859,-122.0378 102.3334,-126.7816\"/>\n",
       "</g>\n",
       "<!-- 5 -->\n",
       "<g id=\"node6\" class=\"node\">\n",
       "<title>5</title>\n",
       "<text text-anchor=\"middle\" x=\"65.5\" y=\"-54.8\" font-family=\"Times,serif\" font-size=\"14.00\" fill=\"#000000\">&lt;factor&gt;</text>\n",
       "</g>\n",
       "<!-- 4&#45;&gt;5 -->\n",
       "<g id=\"edge5\" class=\"edge\">\n",
       "<title>4&#45;&gt;5</title>\n",
       "<path fill=\"none\" stroke=\"#000000\" d=\"M106.4174,-101.9748C99.3983,-94.517 88.4513,-82.8857 79.6459,-73.53\"/>\n",
       "<polygon fill=\"#000000\" stroke=\"#000000\" points=\"82.014,-70.9393 72.6116,-66.0561 76.9166,-75.7369 82.014,-70.9393\"/>\n",
       "</g>\n",
       "<!-- 8 -->\n",
       "<g id=\"node9\" class=\"node\">\n",
       "<title>8</title>\n",
       "<text text-anchor=\"middle\" x=\"113.5\" y=\"-54.8\" font-family=\"Times,serif\" font-size=\"14.00\" fill=\"#000000\"> / </text>\n",
       "</g>\n",
       "<!-- 4&#45;&gt;8 -->\n",
       "<g id=\"edge8\" class=\"edge\">\n",
       "<title>4&#45;&gt;8</title>\n",
       "<path fill=\"none\" stroke=\"#000000\" d=\"M113.5,-101.9748C113.5,-95.195 113.5,-84.966 113.5,-76.1331\"/>\n",
       "<polygon fill=\"#000000\" stroke=\"#000000\" points=\"117.0001,-76.0561 113.5,-66.0561 110.0001,-76.0561 117.0001,-76.0561\"/>\n",
       "</g>\n",
       "<!-- 9 -->\n",
       "<g id=\"node10\" class=\"node\">\n",
       "<title>9</title>\n",
       "<text text-anchor=\"middle\" x=\"158.5\" y=\"-54.8\" font-family=\"Times,serif\" font-size=\"14.00\" fill=\"#000000\">&lt;term&gt;</text>\n",
       "</g>\n",
       "<!-- 4&#45;&gt;9 -->\n",
       "<g id=\"edge9\" class=\"edge\">\n",
       "<title>4&#45;&gt;9</title>\n",
       "<path fill=\"none\" stroke=\"#000000\" d=\"M120.1399,-101.9748C126.6538,-94.5923 136.7762,-83.1203 144.9875,-73.8142\"/>\n",
       "<polygon fill=\"#000000\" stroke=\"#000000\" points=\"147.841,-75.8702 151.8329,-66.0561 142.5922,-71.2388 147.841,-75.8702\"/>\n",
       "</g>\n",
       "<!-- 6 -->\n",
       "<g id=\"node7\" class=\"node\">\n",
       "<title>6</title>\n",
       "<text text-anchor=\"middle\" x=\"43.5\" y=\"-3.8\" font-family=\"Times,serif\" font-size=\"14.00\" fill=\"#000000\">&#45;</text>\n",
       "</g>\n",
       "<!-- 5&#45;&gt;6 -->\n",
       "<g id=\"edge6\" class=\"edge\">\n",
       "<title>5&#45;&gt;6</title>\n",
       "<path fill=\"none\" stroke=\"#000000\" d=\"M62.2538,-50.9748C59.058,-43.5663 54.0857,-32.0395 50.0638,-22.716\"/>\n",
       "<polygon fill=\"#000000\" stroke=\"#000000\" points=\"53.2469,-21.2585 46.0721,-13.4627 46.8194,-24.0311 53.2469,-21.2585\"/>\n",
       "</g>\n",
       "<!-- 7 -->\n",
       "<g id=\"node8\" class=\"node\">\n",
       "<title>7</title>\n",
       "<text text-anchor=\"middle\" x=\"88.5\" y=\"-3.8\" font-family=\"Times,serif\" font-size=\"14.00\" fill=\"#000000\">&lt;factor&gt;</text>\n",
       "</g>\n",
       "<!-- 5&#45;&gt;7 -->\n",
       "<g id=\"edge7\" class=\"edge\">\n",
       "<title>5&#45;&gt;7</title>\n",
       "<path fill=\"none\" stroke=\"#000000\" d=\"M68.8937,-50.9748C72.0532,-43.969 76.8736,-33.2803 80.944,-24.2547\"/>\n",
       "<polygon fill=\"#000000\" stroke=\"#000000\" points=\"84.1718,-25.6109 85.0923,-15.0561 77.7907,-22.7331 84.1718,-25.6109\"/>\n",
       "</g>\n",
       "</g>\n",
       "</svg>\n"
      ],
      "text/plain": [
       "<graphviz.dot.Digraph at 0x121c4a550>"
      ]
     },
     "metadata": {},
     "output_type": "display_data"
    }
   ],
   "source": [
    "derivation_tree = f.expand_tree_once(derivation_tree)\n",
    "display_tree(derivation_tree)"
   ]
  },
  {
   "cell_type": "markdown",
   "metadata": {
    "button": false,
    "new_sheet": false,
    "run_control": {
     "read_only": false
    },
    "slideshow": {
     "slide_type": "fragment"
    }
   },
   "source": [
    "We see that which each step, one more symbol is expanded.  Now all it takes is to apply this again and again, expanding the tree further and further."
   ]
  },
  {
   "cell_type": "markdown",
   "metadata": {
    "button": false,
    "new_sheet": false,
    "run_control": {
     "read_only": false
    },
    "slideshow": {
     "slide_type": "slide"
    }
   },
   "source": [
    "## Closing the Expansion\n",
    "\n",
    "With `expand_tree_once()`, we can keep on expanding the tree – but how do we actually stop?  The key idea here, introduced by Luke in \\cite{Luke2000}, is that after inflating the derivation tree to some maximum size, we _only want to apply expansions that increase the size of the tree by a minimum_.  For `<factor>`, for instance, we would prefer an expansion into `<integer>`, as this will not introduce further recursion (and potential size inflation); for `<integer>`, likewise, an expansion into `<digit>` is preferred, as it will less increase tree size than `<digit><integer>`."
   ]
  },
  {
   "cell_type": "markdown",
   "metadata": {
    "button": false,
    "new_sheet": false,
    "run_control": {
     "read_only": false
    },
    "slideshow": {
     "slide_type": "subslide"
    }
   },
   "source": [
    "To identify the _cost_ of expanding a symbol, we introduce two functions that mutually rely on each other:\n",
    "\n",
    "* `symbol_cost()` returns the minimum cost of all expansions of a symbol, using `expansion_cost()` to compute the cost for each expansion.\n",
    "* `expansion_cost()` returns the sum of all expansions in `expansions`.  If a nonterminal is encountered again during traversal, the cost of the expansion is $\\infty$, indicating (potentially infinite) recursion."
   ]
  },
  {
   "cell_type": "code",
   "execution_count": 54,
   "metadata": {
    "button": false,
    "new_sheet": false,
    "run_control": {
     "read_only": false
    },
    "slideshow": {
     "slide_type": "fragment"
    }
   },
   "outputs": [],
   "source": [
    "class GrammarFuzzer(GrammarFuzzer):\n",
    "    def symbol_cost(self, symbol, seen=set()):\n",
    "        expansions = self.grammar[symbol]\n",
    "        return min(self.expansion_cost(e, seen | {symbol}) for e in expansions)\n",
    "\n",
    "    def expansion_cost(self, expansion, seen=set()):\n",
    "        symbols = nonterminals(expansion)\n",
    "        if len(symbols) == 0:\n",
    "            return 1  # no symbol\n",
    "\n",
    "        if any(s in seen for s in symbols):\n",
    "            return float('inf')\n",
    "\n",
    "        # the value of a expansion is the sum of all expandable variables\n",
    "        # inside + 1\n",
    "        return sum(self.symbol_cost(s, seen) for s in symbols) + 1"
   ]
  },
  {
   "cell_type": "markdown",
   "metadata": {
    "button": false,
    "new_sheet": false,
    "run_control": {
     "read_only": false
    },
    "slideshow": {
     "slide_type": "subslide"
    }
   },
   "source": [
    "Here's two examples: The minimum cost of expanding a digit is 1, since we have to choose from one of its expansions."
   ]
  },
  {
   "cell_type": "code",
   "execution_count": 55,
   "metadata": {
    "button": false,
    "new_sheet": false,
    "run_control": {
     "read_only": false
    },
    "slideshow": {
     "slide_type": "fragment"
    }
   },
   "outputs": [],
   "source": [
    "f = GrammarFuzzer(EXPR_GRAMMAR)\n",
    "assert f.symbol_cost(\"<digit>\") == 1"
   ]
  },
  {
   "cell_type": "markdown",
   "metadata": {
    "button": false,
    "new_sheet": false,
    "run_control": {
     "read_only": false
    },
    "slideshow": {
     "slide_type": "fragment"
    }
   },
   "source": [
    "The minimum cost of expanding `<expr>`, though, is five, as this is the minimum number of expansions required.  (`<expr>` $\\rightarrow$ `<term>` $\\rightarrow$ `<factor>` $\\rightarrow$ `<integer>` $\\rightarrow$ `<digit>` $\\rightarrow$ 1)"
   ]
  },
  {
   "cell_type": "code",
   "execution_count": 56,
   "metadata": {
    "button": false,
    "new_sheet": false,
    "run_control": {
     "read_only": false
    },
    "slideshow": {
     "slide_type": "fragment"
    }
   },
   "outputs": [],
   "source": [
    "assert f.symbol_cost(\"<expr>\") == 5"
   ]
  },
  {
   "cell_type": "markdown",
   "metadata": {
    "button": false,
    "new_sheet": false,
    "run_control": {
     "read_only": false
    },
    "slideshow": {
     "slide_type": "subslide"
    }
   },
   "source": [
    "Here's now a variant of `expand_node()` that takes the above cost into account.  It determines the minimum cost `cost` across all children and then chooses a child from the list using the `choose` function, which by default is the minimum cost.  If multiple children all have the same minimum cost, it chooses randomly between these."
   ]
  },
  {
   "cell_type": "code",
   "execution_count": 57,
   "metadata": {
    "button": false,
    "new_sheet": false,
    "run_control": {
     "read_only": false
    },
    "slideshow": {
     "slide_type": "subslide"
    }
   },
   "outputs": [],
   "source": [
    "class GrammarFuzzer(GrammarFuzzer):\n",
    "    def expand_node_by_cost(self, node, choose=min):\n",
    "        (symbol, children) = node\n",
    "        assert children is None\n",
    "\n",
    "        # Fetch the possible expansions from grammar...\n",
    "        expansions = self.grammar[symbol]\n",
    "\n",
    "        possible_children_with_cost = [(self.expansion_to_children(expansion),\n",
    "                                        self.expansion_cost(expansion, {symbol}))\n",
    "                                       for expansion in expansions]\n",
    "\n",
    "        costs = [cost for (child, cost) in possible_children_with_cost]\n",
    "        chosen_cost = choose(costs)\n",
    "        children_with_chosen_cost = [child for (child, child_cost) in possible_children_with_cost\n",
    "                                     if child_cost == chosen_cost]\n",
    "\n",
    "        index = self.choose_node_expansion(node, children_with_chosen_cost)\n",
    "\n",
    "        # Return with a new list\n",
    "        return (symbol, children_with_chosen_cost[index])\n"
   ]
  },
  {
   "cell_type": "markdown",
   "metadata": {
    "slideshow": {
     "slide_type": "subslide"
    }
   },
   "source": [
    "The shortcut `expand_node_min_cost()` passes `min()` as the `choose` function, which makes it expand nodes at minimum cost."
   ]
  },
  {
   "cell_type": "code",
   "execution_count": 58,
   "metadata": {
    "button": false,
    "new_sheet": false,
    "run_control": {
     "read_only": false
    },
    "slideshow": {
     "slide_type": "fragment"
    }
   },
   "outputs": [],
   "source": [
    "class GrammarFuzzer(GrammarFuzzer):\n",
    "    def expand_node_min_cost(self, node):\n",
    "        if self.log:\n",
    "            print(\"Expanding\", all_terminals(node), \"at minimum cost\")\n",
    "\n",
    "        return self.expand_node_by_cost(node, min)"
   ]
  },
  {
   "cell_type": "markdown",
   "metadata": {
    "button": false,
    "new_sheet": false,
    "run_control": {
     "read_only": false
    },
    "slideshow": {
     "slide_type": "subslide"
    }
   },
   "source": [
    "We can now apply this function to close the expansion of our derivation tree, using `expand_tree_once()` with the above `expand_node_min_cost()` as expansion function."
   ]
  },
  {
   "cell_type": "code",
   "execution_count": 59,
   "metadata": {
    "button": false,
    "new_sheet": false,
    "run_control": {
     "read_only": false
    },
    "slideshow": {
     "slide_type": "fragment"
    }
   },
   "outputs": [],
   "source": [
    "class GrammarFuzzer(GrammarFuzzer):\n",
    "    def expand_node(self, node):\n",
    "        return self.expand_node_min_cost(node)"
   ]
  },
  {
   "cell_type": "code",
   "execution_count": 60,
   "metadata": {
    "button": false,
    "new_sheet": false,
    "run_control": {
     "read_only": false
    },
    "slideshow": {
     "slide_type": "subslide"
    }
   },
   "outputs": [
    {
     "data": {
      "image/svg+xml": [
       "<?xml version=\"1.0\" encoding=\"UTF-8\" standalone=\"no\"?>\n",
       "<!DOCTYPE svg PUBLIC \"-//W3C//DTD SVG 1.1//EN\"\n",
       " \"http://www.w3.org/Graphics/SVG/1.1/DTD/svg11.dtd\">\n",
       "<!-- Generated by graphviz version 2.40.1 (20161225.0304)\n",
       " -->\n",
       "<!-- Title: %3 Pages: 1 -->\n",
       "<svg width=\"188pt\" height=\"227pt\"\n",
       " viewBox=\"0.00 0.00 187.50 227.00\" xmlns=\"http://www.w3.org/2000/svg\" xmlns:xlink=\"http://www.w3.org/1999/xlink\">\n",
       "<g id=\"graph0\" class=\"graph\" transform=\"scale(1 1) rotate(0) translate(4 223)\">\n",
       "<title>%3</title>\n",
       "<polygon fill=\"#ffffff\" stroke=\"transparent\" points=\"-4,4 -4,-223 183.5,-223 183.5,4 -4,4\"/>\n",
       "<!-- 0 -->\n",
       "<g id=\"node1\" class=\"node\">\n",
       "<title>0</title>\n",
       "<text text-anchor=\"middle\" x=\"66.5\" y=\"-207.8\" font-family=\"Times,serif\" font-size=\"14.00\" fill=\"#000000\">&lt;start&gt;</text>\n",
       "</g>\n",
       "<!-- 1 -->\n",
       "<g id=\"node2\" class=\"node\">\n",
       "<title>1</title>\n",
       "<text text-anchor=\"middle\" x=\"66.5\" y=\"-156.8\" font-family=\"Times,serif\" font-size=\"14.00\" fill=\"#000000\">&lt;expr&gt;</text>\n",
       "</g>\n",
       "<!-- 0&#45;&gt;1 -->\n",
       "<g id=\"edge1\" class=\"edge\">\n",
       "<title>0&#45;&gt;1</title>\n",
       "<path fill=\"none\" stroke=\"#000000\" d=\"M66.5,-203.9748C66.5,-197.195 66.5,-186.966 66.5,-178.1331\"/>\n",
       "<polygon fill=\"#000000\" stroke=\"#000000\" points=\"70.0001,-178.0561 66.5,-168.0561 63.0001,-178.0561 70.0001,-178.0561\"/>\n",
       "</g>\n",
       "<!-- 2 -->\n",
       "<g id=\"node3\" class=\"node\">\n",
       "<title>2</title>\n",
       "<text text-anchor=\"middle\" x=\"20.5\" y=\"-105.8\" font-family=\"Times,serif\" font-size=\"14.00\" fill=\"#000000\">&lt;expr&gt;</text>\n",
       "</g>\n",
       "<!-- 1&#45;&gt;2 -->\n",
       "<g id=\"edge2\" class=\"edge\">\n",
       "<title>1&#45;&gt;2</title>\n",
       "<path fill=\"none\" stroke=\"#000000\" d=\"M59.7125,-152.9748C52.9859,-145.517 42.495,-133.8857 34.0564,-124.53\"/>\n",
       "<polygon fill=\"#000000\" stroke=\"#000000\" points=\"36.612,-122.1376 27.3153,-117.0561 31.414,-126.826 36.612,-122.1376\"/>\n",
       "</g>\n",
       "<!-- 3 -->\n",
       "<g id=\"node4\" class=\"node\">\n",
       "<title>3</title>\n",
       "<text text-anchor=\"middle\" x=\"66.5\" y=\"-105.8\" font-family=\"Times,serif\" font-size=\"14.00\" fill=\"#000000\"> + </text>\n",
       "</g>\n",
       "<!-- 1&#45;&gt;3 -->\n",
       "<g id=\"edge3\" class=\"edge\">\n",
       "<title>1&#45;&gt;3</title>\n",
       "<path fill=\"none\" stroke=\"#000000\" d=\"M66.5,-152.9748C66.5,-146.195 66.5,-135.966 66.5,-127.1331\"/>\n",
       "<polygon fill=\"#000000\" stroke=\"#000000\" points=\"70.0001,-127.0561 66.5,-117.0561 63.0001,-127.0561 70.0001,-127.0561\"/>\n",
       "</g>\n",
       "<!-- 4 -->\n",
       "<g id=\"node5\" class=\"node\">\n",
       "<title>4</title>\n",
       "<text text-anchor=\"middle\" x=\"113.5\" y=\"-105.8\" font-family=\"Times,serif\" font-size=\"14.00\" fill=\"#000000\">&lt;term&gt;</text>\n",
       "</g>\n",
       "<!-- 1&#45;&gt;4 -->\n",
       "<g id=\"edge4\" class=\"edge\">\n",
       "<title>1&#45;&gt;4</title>\n",
       "<path fill=\"none\" stroke=\"#000000\" d=\"M73.435,-152.9748C80.3079,-145.517 91.0269,-133.8857 99.6488,-124.53\"/>\n",
       "<polygon fill=\"#000000\" stroke=\"#000000\" points=\"102.3334,-126.7816 106.5365,-117.0561 97.1859,-122.0378 102.3334,-126.7816\"/>\n",
       "</g>\n",
       "<!-- 5 -->\n",
       "<g id=\"node6\" class=\"node\">\n",
       "<title>5</title>\n",
       "<text text-anchor=\"middle\" x=\"65.5\" y=\"-54.8\" font-family=\"Times,serif\" font-size=\"14.00\" fill=\"#000000\">&lt;factor&gt;</text>\n",
       "</g>\n",
       "<!-- 4&#45;&gt;5 -->\n",
       "<g id=\"edge5\" class=\"edge\">\n",
       "<title>4&#45;&gt;5</title>\n",
       "<path fill=\"none\" stroke=\"#000000\" d=\"M106.4174,-101.9748C99.3983,-94.517 88.4513,-82.8857 79.6459,-73.53\"/>\n",
       "<polygon fill=\"#000000\" stroke=\"#000000\" points=\"82.014,-70.9393 72.6116,-66.0561 76.9166,-75.7369 82.014,-70.9393\"/>\n",
       "</g>\n",
       "<!-- 8 -->\n",
       "<g id=\"node9\" class=\"node\">\n",
       "<title>8</title>\n",
       "<text text-anchor=\"middle\" x=\"113.5\" y=\"-54.8\" font-family=\"Times,serif\" font-size=\"14.00\" fill=\"#000000\"> / </text>\n",
       "</g>\n",
       "<!-- 4&#45;&gt;8 -->\n",
       "<g id=\"edge8\" class=\"edge\">\n",
       "<title>4&#45;&gt;8</title>\n",
       "<path fill=\"none\" stroke=\"#000000\" d=\"M113.5,-101.9748C113.5,-95.195 113.5,-84.966 113.5,-76.1331\"/>\n",
       "<polygon fill=\"#000000\" stroke=\"#000000\" points=\"117.0001,-76.0561 113.5,-66.0561 110.0001,-76.0561 117.0001,-76.0561\"/>\n",
       "</g>\n",
       "<!-- 9 -->\n",
       "<g id=\"node10\" class=\"node\">\n",
       "<title>9</title>\n",
       "<text text-anchor=\"middle\" x=\"158.5\" y=\"-54.8\" font-family=\"Times,serif\" font-size=\"14.00\" fill=\"#000000\">&lt;term&gt;</text>\n",
       "</g>\n",
       "<!-- 4&#45;&gt;9 -->\n",
       "<g id=\"edge9\" class=\"edge\">\n",
       "<title>4&#45;&gt;9</title>\n",
       "<path fill=\"none\" stroke=\"#000000\" d=\"M120.1399,-101.9748C126.6538,-94.5923 136.7762,-83.1203 144.9875,-73.8142\"/>\n",
       "<polygon fill=\"#000000\" stroke=\"#000000\" points=\"147.841,-75.8702 151.8329,-66.0561 142.5922,-71.2388 147.841,-75.8702\"/>\n",
       "</g>\n",
       "<!-- 6 -->\n",
       "<g id=\"node7\" class=\"node\">\n",
       "<title>6</title>\n",
       "<text text-anchor=\"middle\" x=\"43.5\" y=\"-3.8\" font-family=\"Times,serif\" font-size=\"14.00\" fill=\"#000000\">&#45;</text>\n",
       "</g>\n",
       "<!-- 5&#45;&gt;6 -->\n",
       "<g id=\"edge6\" class=\"edge\">\n",
       "<title>5&#45;&gt;6</title>\n",
       "<path fill=\"none\" stroke=\"#000000\" d=\"M62.2538,-50.9748C59.058,-43.5663 54.0857,-32.0395 50.0638,-22.716\"/>\n",
       "<polygon fill=\"#000000\" stroke=\"#000000\" points=\"53.2469,-21.2585 46.0721,-13.4627 46.8194,-24.0311 53.2469,-21.2585\"/>\n",
       "</g>\n",
       "<!-- 7 -->\n",
       "<g id=\"node8\" class=\"node\">\n",
       "<title>7</title>\n",
       "<text text-anchor=\"middle\" x=\"88.5\" y=\"-3.8\" font-family=\"Times,serif\" font-size=\"14.00\" fill=\"#000000\">&lt;factor&gt;</text>\n",
       "</g>\n",
       "<!-- 5&#45;&gt;7 -->\n",
       "<g id=\"edge7\" class=\"edge\">\n",
       "<title>5&#45;&gt;7</title>\n",
       "<path fill=\"none\" stroke=\"#000000\" d=\"M68.8937,-50.9748C72.0532,-43.969 76.8736,-33.2803 80.944,-24.2547\"/>\n",
       "<polygon fill=\"#000000\" stroke=\"#000000\" points=\"84.1718,-25.6109 85.0923,-15.0561 77.7907,-22.7331 84.1718,-25.6109\"/>\n",
       "</g>\n",
       "</g>\n",
       "</svg>\n"
      ],
      "text/plain": [
       "<graphviz.dot.Digraph at 0x121c4b4a8>"
      ]
     },
     "metadata": {},
     "output_type": "display_data"
    }
   ],
   "source": [
    "f = GrammarFuzzer(EXPR_GRAMMAR, log=True)\n",
    "display_tree(derivation_tree)"
   ]
  },
  {
   "cell_type": "code",
   "execution_count": 61,
   "metadata": {
    "button": false,
    "new_sheet": false,
    "run_control": {
     "read_only": false
    },
    "slideshow": {
     "slide_type": "subslide"
    }
   },
   "outputs": [
    {
     "name": "stdout",
     "output_type": "stream",
     "text": [
      "Expanding <expr> at minimum cost\n"
     ]
    },
    {
     "data": {
      "image/svg+xml": [
       "<?xml version=\"1.0\" encoding=\"UTF-8\" standalone=\"no\"?>\n",
       "<!DOCTYPE svg PUBLIC \"-//W3C//DTD SVG 1.1//EN\"\n",
       " \"http://www.w3.org/Graphics/SVG/1.1/DTD/svg11.dtd\">\n",
       "<!-- Generated by graphviz version 2.40.1 (20161225.0304)\n",
       " -->\n",
       "<!-- Title: %3 Pages: 1 -->\n",
       "<svg width=\"207pt\" height=\"227pt\"\n",
       " viewBox=\"0.00 0.00 207.00 227.00\" xmlns=\"http://www.w3.org/2000/svg\" xmlns:xlink=\"http://www.w3.org/1999/xlink\">\n",
       "<g id=\"graph0\" class=\"graph\" transform=\"scale(1 1) rotate(0) translate(4 223)\">\n",
       "<title>%3</title>\n",
       "<polygon fill=\"#ffffff\" stroke=\"transparent\" points=\"-4,4 -4,-223 203,-223 203,4 -4,4\"/>\n",
       "<!-- 0 -->\n",
       "<g id=\"node1\" class=\"node\">\n",
       "<title>0</title>\n",
       "<text text-anchor=\"middle\" x=\"81\" y=\"-207.8\" font-family=\"Times,serif\" font-size=\"14.00\" fill=\"#000000\">&lt;start&gt;</text>\n",
       "</g>\n",
       "<!-- 1 -->\n",
       "<g id=\"node2\" class=\"node\">\n",
       "<title>1</title>\n",
       "<text text-anchor=\"middle\" x=\"81\" y=\"-156.8\" font-family=\"Times,serif\" font-size=\"14.00\" fill=\"#000000\">&lt;expr&gt;</text>\n",
       "</g>\n",
       "<!-- 0&#45;&gt;1 -->\n",
       "<g id=\"edge1\" class=\"edge\">\n",
       "<title>0&#45;&gt;1</title>\n",
       "<path fill=\"none\" stroke=\"#000000\" d=\"M81,-203.9748C81,-197.195 81,-186.966 81,-178.1331\"/>\n",
       "<polygon fill=\"#000000\" stroke=\"#000000\" points=\"84.5001,-178.0561 81,-168.0561 77.5001,-178.0561 84.5001,-178.0561\"/>\n",
       "</g>\n",
       "<!-- 2 -->\n",
       "<g id=\"node3\" class=\"node\">\n",
       "<title>2</title>\n",
       "<text text-anchor=\"middle\" x=\"30\" y=\"-105.8\" font-family=\"Times,serif\" font-size=\"14.00\" fill=\"#000000\">&lt;expr&gt;</text>\n",
       "</g>\n",
       "<!-- 1&#45;&gt;2 -->\n",
       "<g id=\"edge2\" class=\"edge\">\n",
       "<title>1&#45;&gt;2</title>\n",
       "<path fill=\"none\" stroke=\"#000000\" d=\"M73.4748,-152.9748C65.9417,-145.4417 54.1503,-133.6503 44.7472,-124.2472\"/>\n",
       "<polygon fill=\"#000000\" stroke=\"#000000\" points=\"47.1021,-121.6523 37.5561,-117.0561 42.1523,-126.6021 47.1021,-121.6523\"/>\n",
       "</g>\n",
       "<!-- 4 -->\n",
       "<g id=\"node5\" class=\"node\">\n",
       "<title>4</title>\n",
       "<text text-anchor=\"middle\" x=\"81\" y=\"-105.8\" font-family=\"Times,serif\" font-size=\"14.00\" fill=\"#000000\"> + </text>\n",
       "</g>\n",
       "<!-- 1&#45;&gt;4 -->\n",
       "<g id=\"edge4\" class=\"edge\">\n",
       "<title>1&#45;&gt;4</title>\n",
       "<path fill=\"none\" stroke=\"#000000\" d=\"M81,-152.9748C81,-146.195 81,-135.966 81,-127.1331\"/>\n",
       "<polygon fill=\"#000000\" stroke=\"#000000\" points=\"84.5001,-127.0561 81,-117.0561 77.5001,-127.0561 84.5001,-127.0561\"/>\n",
       "</g>\n",
       "<!-- 5 -->\n",
       "<g id=\"node6\" class=\"node\">\n",
       "<title>5</title>\n",
       "<text text-anchor=\"middle\" x=\"130\" y=\"-105.8\" font-family=\"Times,serif\" font-size=\"14.00\" fill=\"#000000\">&lt;term&gt;</text>\n",
       "</g>\n",
       "<!-- 1&#45;&gt;5 -->\n",
       "<g id=\"edge5\" class=\"edge\">\n",
       "<title>1&#45;&gt;5</title>\n",
       "<path fill=\"none\" stroke=\"#000000\" d=\"M88.2301,-152.9748C95.3954,-145.517 106.5706,-133.8857 115.5594,-124.53\"/>\n",
       "<polygon fill=\"#000000\" stroke=\"#000000\" points=\"118.3358,-126.6921 122.7402,-117.0561 113.2881,-121.8423 118.3358,-126.6921\"/>\n",
       "</g>\n",
       "<!-- 3 -->\n",
       "<g id=\"node4\" class=\"node\">\n",
       "<title>3</title>\n",
       "<text text-anchor=\"middle\" x=\"21\" y=\"-54.8\" font-family=\"Times,serif\" font-size=\"14.00\" fill=\"#000000\">&lt;term&gt;</text>\n",
       "</g>\n",
       "<!-- 2&#45;&gt;3 -->\n",
       "<g id=\"edge3\" class=\"edge\">\n",
       "<title>2&#45;&gt;3</title>\n",
       "<path fill=\"none\" stroke=\"#000000\" d=\"M28.672,-101.9748C27.4756,-95.195 25.6705,-84.966 24.1117,-76.1331\"/>\n",
       "<polygon fill=\"#000000\" stroke=\"#000000\" points=\"27.5181,-75.2957 22.3334,-66.0561 20.6246,-76.5122 27.5181,-75.2957\"/>\n",
       "</g>\n",
       "<!-- 6 -->\n",
       "<g id=\"node7\" class=\"node\">\n",
       "<title>6</title>\n",
       "<text text-anchor=\"middle\" x=\"85\" y=\"-54.8\" font-family=\"Times,serif\" font-size=\"14.00\" fill=\"#000000\">&lt;factor&gt;</text>\n",
       "</g>\n",
       "<!-- 5&#45;&gt;6 -->\n",
       "<g id=\"edge6\" class=\"edge\">\n",
       "<title>5&#45;&gt;6</title>\n",
       "<path fill=\"none\" stroke=\"#000000\" d=\"M123.3601,-101.9748C116.8462,-94.5923 106.7238,-83.1203 98.5125,-73.8142\"/>\n",
       "<polygon fill=\"#000000\" stroke=\"#000000\" points=\"100.9078,-71.2388 91.6671,-66.0561 95.659,-75.8702 100.9078,-71.2388\"/>\n",
       "</g>\n",
       "<!-- 9 -->\n",
       "<g id=\"node10\" class=\"node\">\n",
       "<title>9</title>\n",
       "<text text-anchor=\"middle\" x=\"133\" y=\"-54.8\" font-family=\"Times,serif\" font-size=\"14.00\" fill=\"#000000\"> / </text>\n",
       "</g>\n",
       "<!-- 5&#45;&gt;9 -->\n",
       "<g id=\"edge9\" class=\"edge\">\n",
       "<title>5&#45;&gt;9</title>\n",
       "<path fill=\"none\" stroke=\"#000000\" d=\"M130.4427,-101.9748C130.8415,-95.195 131.4432,-84.966 131.9628,-76.1331\"/>\n",
       "<polygon fill=\"#000000\" stroke=\"#000000\" points=\"135.4622,-76.2444 132.5555,-66.0561 128.4742,-75.8333 135.4622,-76.2444\"/>\n",
       "</g>\n",
       "<!-- 10 -->\n",
       "<g id=\"node11\" class=\"node\">\n",
       "<title>10</title>\n",
       "<text text-anchor=\"middle\" x=\"178\" y=\"-54.8\" font-family=\"Times,serif\" font-size=\"14.00\" fill=\"#000000\">&lt;term&gt;</text>\n",
       "</g>\n",
       "<!-- 5&#45;&gt;10 -->\n",
       "<g id=\"edge10\" class=\"edge\">\n",
       "<title>5&#45;&gt;10</title>\n",
       "<path fill=\"none\" stroke=\"#000000\" d=\"M137.0826,-101.9748C144.1017,-94.517 155.0487,-82.8857 163.8541,-73.53\"/>\n",
       "<polygon fill=\"#000000\" stroke=\"#000000\" points=\"166.5834,-75.7369 170.8884,-66.0561 161.486,-70.9393 166.5834,-75.7369\"/>\n",
       "</g>\n",
       "<!-- 7 -->\n",
       "<g id=\"node8\" class=\"node\">\n",
       "<title>7</title>\n",
       "<text text-anchor=\"middle\" x=\"62\" y=\"-3.8\" font-family=\"Times,serif\" font-size=\"14.00\" fill=\"#000000\">&#45;</text>\n",
       "</g>\n",
       "<!-- 6&#45;&gt;7 -->\n",
       "<g id=\"edge7\" class=\"edge\">\n",
       "<title>6&#45;&gt;7</title>\n",
       "<path fill=\"none\" stroke=\"#000000\" d=\"M81.6063,-50.9748C78.2289,-43.4858 72.9536,-31.7884 68.7254,-22.4128\"/>\n",
       "<polygon fill=\"#000000\" stroke=\"#000000\" points=\"71.8551,-20.8389 64.5534,-13.162 65.474,-23.7167 71.8551,-20.8389\"/>\n",
       "</g>\n",
       "<!-- 8 -->\n",
       "<g id=\"node9\" class=\"node\">\n",
       "<title>8</title>\n",
       "<text text-anchor=\"middle\" x=\"107\" y=\"-3.8\" font-family=\"Times,serif\" font-size=\"14.00\" fill=\"#000000\">&lt;factor&gt;</text>\n",
       "</g>\n",
       "<!-- 6&#45;&gt;8 -->\n",
       "<g id=\"edge8\" class=\"edge\">\n",
       "<title>6&#45;&gt;8</title>\n",
       "<path fill=\"none\" stroke=\"#000000\" d=\"M88.2462,-50.9748C91.2683,-43.969 95.8791,-33.2803 99.7725,-24.2547\"/>\n",
       "<polygon fill=\"#000000\" stroke=\"#000000\" points=\"102.9933,-25.6246 103.7405,-15.0561 96.5658,-22.8519 102.9933,-25.6246\"/>\n",
       "</g>\n",
       "</g>\n",
       "</svg>\n"
      ],
      "text/plain": [
       "<graphviz.dot.Digraph at 0x121c4bb38>"
      ]
     },
     "metadata": {},
     "output_type": "display_data"
    }
   ],
   "source": [
    "if f.any_possible_expansions(derivation_tree):\n",
    "    derivation_tree = f.expand_tree_once(derivation_tree)\n",
    "    display_tree(derivation_tree)"
   ]
  },
  {
   "cell_type": "code",
   "execution_count": 62,
   "metadata": {
    "button": false,
    "new_sheet": false,
    "run_control": {
     "read_only": false
    },
    "slideshow": {
     "slide_type": "subslide"
    }
   },
   "outputs": [
    {
     "name": "stdout",
     "output_type": "stream",
     "text": [
      "Expanding <term> at minimum cost\n"
     ]
    },
    {
     "data": {
      "image/svg+xml": [
       "<?xml version=\"1.0\" encoding=\"UTF-8\" standalone=\"no\"?>\n",
       "<!DOCTYPE svg PUBLIC \"-//W3C//DTD SVG 1.1//EN\"\n",
       " \"http://www.w3.org/Graphics/SVG/1.1/DTD/svg11.dtd\">\n",
       "<!-- Generated by graphviz version 2.40.1 (20161225.0304)\n",
       " -->\n",
       "<!-- Title: %3 Pages: 1 -->\n",
       "<svg width=\"211pt\" height=\"227pt\"\n",
       " viewBox=\"0.00 0.00 210.50 227.00\" xmlns=\"http://www.w3.org/2000/svg\" xmlns:xlink=\"http://www.w3.org/1999/xlink\">\n",
       "<g id=\"graph0\" class=\"graph\" transform=\"scale(1 1) rotate(0) translate(4 223)\">\n",
       "<title>%3</title>\n",
       "<polygon fill=\"#ffffff\" stroke=\"transparent\" points=\"-4,4 -4,-223 206.5,-223 206.5,4 -4,4\"/>\n",
       "<!-- 0 -->\n",
       "<g id=\"node1\" class=\"node\">\n",
       "<title>0</title>\n",
       "<text text-anchor=\"middle\" x=\"81\" y=\"-207.8\" font-family=\"Times,serif\" font-size=\"14.00\" fill=\"#000000\">&lt;start&gt;</text>\n",
       "</g>\n",
       "<!-- 1 -->\n",
       "<g id=\"node2\" class=\"node\">\n",
       "<title>1</title>\n",
       "<text text-anchor=\"middle\" x=\"81\" y=\"-156.8\" font-family=\"Times,serif\" font-size=\"14.00\" fill=\"#000000\">&lt;expr&gt;</text>\n",
       "</g>\n",
       "<!-- 0&#45;&gt;1 -->\n",
       "<g id=\"edge1\" class=\"edge\">\n",
       "<title>0&#45;&gt;1</title>\n",
       "<path fill=\"none\" stroke=\"#000000\" d=\"M81,-203.9748C81,-197.195 81,-186.966 81,-178.1331\"/>\n",
       "<polygon fill=\"#000000\" stroke=\"#000000\" points=\"84.5001,-178.0561 81,-168.0561 77.5001,-178.0561 84.5001,-178.0561\"/>\n",
       "</g>\n",
       "<!-- 2 -->\n",
       "<g id=\"node3\" class=\"node\">\n",
       "<title>2</title>\n",
       "<text text-anchor=\"middle\" x=\"30\" y=\"-105.8\" font-family=\"Times,serif\" font-size=\"14.00\" fill=\"#000000\">&lt;expr&gt;</text>\n",
       "</g>\n",
       "<!-- 1&#45;&gt;2 -->\n",
       "<g id=\"edge2\" class=\"edge\">\n",
       "<title>1&#45;&gt;2</title>\n",
       "<path fill=\"none\" stroke=\"#000000\" d=\"M73.4748,-152.9748C65.9417,-145.4417 54.1503,-133.6503 44.7472,-124.2472\"/>\n",
       "<polygon fill=\"#000000\" stroke=\"#000000\" points=\"47.1021,-121.6523 37.5561,-117.0561 42.1523,-126.6021 47.1021,-121.6523\"/>\n",
       "</g>\n",
       "<!-- 4 -->\n",
       "<g id=\"node5\" class=\"node\">\n",
       "<title>4</title>\n",
       "<text text-anchor=\"middle\" x=\"81\" y=\"-105.8\" font-family=\"Times,serif\" font-size=\"14.00\" fill=\"#000000\"> + </text>\n",
       "</g>\n",
       "<!-- 1&#45;&gt;4 -->\n",
       "<g id=\"edge4\" class=\"edge\">\n",
       "<title>1&#45;&gt;4</title>\n",
       "<path fill=\"none\" stroke=\"#000000\" d=\"M81,-152.9748C81,-146.195 81,-135.966 81,-127.1331\"/>\n",
       "<polygon fill=\"#000000\" stroke=\"#000000\" points=\"84.5001,-127.0561 81,-117.0561 77.5001,-127.0561 84.5001,-127.0561\"/>\n",
       "</g>\n",
       "<!-- 5 -->\n",
       "<g id=\"node6\" class=\"node\">\n",
       "<title>5</title>\n",
       "<text text-anchor=\"middle\" x=\"130\" y=\"-105.8\" font-family=\"Times,serif\" font-size=\"14.00\" fill=\"#000000\">&lt;term&gt;</text>\n",
       "</g>\n",
       "<!-- 1&#45;&gt;5 -->\n",
       "<g id=\"edge5\" class=\"edge\">\n",
       "<title>1&#45;&gt;5</title>\n",
       "<path fill=\"none\" stroke=\"#000000\" d=\"M88.2301,-152.9748C95.3954,-145.517 106.5706,-133.8857 115.5594,-124.53\"/>\n",
       "<polygon fill=\"#000000\" stroke=\"#000000\" points=\"118.3358,-126.6921 122.7402,-117.0561 113.2881,-121.8423 118.3358,-126.6921\"/>\n",
       "</g>\n",
       "<!-- 3 -->\n",
       "<g id=\"node4\" class=\"node\">\n",
       "<title>3</title>\n",
       "<text text-anchor=\"middle\" x=\"21\" y=\"-54.8\" font-family=\"Times,serif\" font-size=\"14.00\" fill=\"#000000\">&lt;term&gt;</text>\n",
       "</g>\n",
       "<!-- 2&#45;&gt;3 -->\n",
       "<g id=\"edge3\" class=\"edge\">\n",
       "<title>2&#45;&gt;3</title>\n",
       "<path fill=\"none\" stroke=\"#000000\" d=\"M28.672,-101.9748C27.4756,-95.195 25.6705,-84.966 24.1117,-76.1331\"/>\n",
       "<polygon fill=\"#000000\" stroke=\"#000000\" points=\"27.5181,-75.2957 22.3334,-66.0561 20.6246,-76.5122 27.5181,-75.2957\"/>\n",
       "</g>\n",
       "<!-- 6 -->\n",
       "<g id=\"node7\" class=\"node\">\n",
       "<title>6</title>\n",
       "<text text-anchor=\"middle\" x=\"85\" y=\"-54.8\" font-family=\"Times,serif\" font-size=\"14.00\" fill=\"#000000\">&lt;factor&gt;</text>\n",
       "</g>\n",
       "<!-- 5&#45;&gt;6 -->\n",
       "<g id=\"edge6\" class=\"edge\">\n",
       "<title>5&#45;&gt;6</title>\n",
       "<path fill=\"none\" stroke=\"#000000\" d=\"M123.3601,-101.9748C116.8462,-94.5923 106.7238,-83.1203 98.5125,-73.8142\"/>\n",
       "<polygon fill=\"#000000\" stroke=\"#000000\" points=\"100.9078,-71.2388 91.6671,-66.0561 95.659,-75.8702 100.9078,-71.2388\"/>\n",
       "</g>\n",
       "<!-- 9 -->\n",
       "<g id=\"node10\" class=\"node\">\n",
       "<title>9</title>\n",
       "<text text-anchor=\"middle\" x=\"133\" y=\"-54.8\" font-family=\"Times,serif\" font-size=\"14.00\" fill=\"#000000\"> / </text>\n",
       "</g>\n",
       "<!-- 5&#45;&gt;9 -->\n",
       "<g id=\"edge9\" class=\"edge\">\n",
       "<title>5&#45;&gt;9</title>\n",
       "<path fill=\"none\" stroke=\"#000000\" d=\"M130.4427,-101.9748C130.8415,-95.195 131.4432,-84.966 131.9628,-76.1331\"/>\n",
       "<polygon fill=\"#000000\" stroke=\"#000000\" points=\"135.4622,-76.2444 132.5555,-66.0561 128.4742,-75.8333 135.4622,-76.2444\"/>\n",
       "</g>\n",
       "<!-- 10 -->\n",
       "<g id=\"node11\" class=\"node\">\n",
       "<title>10</title>\n",
       "<text text-anchor=\"middle\" x=\"178\" y=\"-54.8\" font-family=\"Times,serif\" font-size=\"14.00\" fill=\"#000000\">&lt;term&gt;</text>\n",
       "</g>\n",
       "<!-- 5&#45;&gt;10 -->\n",
       "<g id=\"edge10\" class=\"edge\">\n",
       "<title>5&#45;&gt;10</title>\n",
       "<path fill=\"none\" stroke=\"#000000\" d=\"M137.0826,-101.9748C144.1017,-94.517 155.0487,-82.8857 163.8541,-73.53\"/>\n",
       "<polygon fill=\"#000000\" stroke=\"#000000\" points=\"166.5834,-75.7369 170.8884,-66.0561 161.486,-70.9393 166.5834,-75.7369\"/>\n",
       "</g>\n",
       "<!-- 7 -->\n",
       "<g id=\"node8\" class=\"node\">\n",
       "<title>7</title>\n",
       "<text text-anchor=\"middle\" x=\"53\" y=\"-3.8\" font-family=\"Times,serif\" font-size=\"14.00\" fill=\"#000000\">&#45;</text>\n",
       "</g>\n",
       "<!-- 6&#45;&gt;7 -->\n",
       "<g id=\"edge7\" class=\"edge\">\n",
       "<title>6&#45;&gt;7</title>\n",
       "<path fill=\"none\" stroke=\"#000000\" d=\"M80.2783,-50.9748C75.1686,-42.8312 66.9365,-29.7114 60.8505,-20.0118\"/>\n",
       "<polygon fill=\"#000000\" stroke=\"#000000\" points=\"63.7857,-18.1043 55.506,-11.4939 57.8562,-21.8248 63.7857,-18.1043\"/>\n",
       "</g>\n",
       "<!-- 8 -->\n",
       "<g id=\"node9\" class=\"node\">\n",
       "<title>8</title>\n",
       "<text text-anchor=\"middle\" x=\"98\" y=\"-3.8\" font-family=\"Times,serif\" font-size=\"14.00\" fill=\"#000000\">&lt;factor&gt;</text>\n",
       "</g>\n",
       "<!-- 6&#45;&gt;8 -->\n",
       "<g id=\"edge8\" class=\"edge\">\n",
       "<title>6&#45;&gt;8</title>\n",
       "<path fill=\"none\" stroke=\"#000000\" d=\"M86.9182,-50.9748C88.6656,-44.1196 91.3118,-33.7383 93.5802,-24.8392\"/>\n",
       "<polygon fill=\"#000000\" stroke=\"#000000\" points=\"96.9954,-25.6108 96.0739,-15.0561 90.2123,-23.8817 96.9954,-25.6108\"/>\n",
       "</g>\n",
       "<!-- 11 -->\n",
       "<g id=\"node12\" class=\"node\">\n",
       "<title>11</title>\n",
       "<text text-anchor=\"middle\" x=\"178\" y=\"-3.8\" font-family=\"Times,serif\" font-size=\"14.00\" fill=\"#000000\">&lt;factor&gt;</text>\n",
       "</g>\n",
       "<!-- 10&#45;&gt;11 -->\n",
       "<g id=\"edge11\" class=\"edge\">\n",
       "<title>10&#45;&gt;11</title>\n",
       "<path fill=\"none\" stroke=\"#000000\" d=\"M178,-50.9748C178,-44.195 178,-33.966 178,-25.1331\"/>\n",
       "<polygon fill=\"#000000\" stroke=\"#000000\" points=\"181.5001,-25.0561 178,-15.0561 174.5001,-25.0561 181.5001,-25.0561\"/>\n",
       "</g>\n",
       "</g>\n",
       "</svg>\n"
      ],
      "text/plain": [
       "<graphviz.dot.Digraph at 0x121c4b518>"
      ]
     },
     "metadata": {},
     "output_type": "display_data"
    }
   ],
   "source": [
    "if f.any_possible_expansions(derivation_tree):\n",
    "    derivation_tree = f.expand_tree_once(derivation_tree)\n",
    "    display_tree(derivation_tree)"
   ]
  },
  {
   "cell_type": "code",
   "execution_count": 63,
   "metadata": {
    "button": false,
    "new_sheet": false,
    "run_control": {
     "read_only": false
    },
    "slideshow": {
     "slide_type": "subslide"
    }
   },
   "outputs": [
    {
     "name": "stdout",
     "output_type": "stream",
     "text": [
      "Expanding <factor> at minimum cost\n"
     ]
    },
    {
     "data": {
      "image/svg+xml": [
       "<?xml version=\"1.0\" encoding=\"UTF-8\" standalone=\"no\"?>\n",
       "<!DOCTYPE svg PUBLIC \"-//W3C//DTD SVG 1.1//EN\"\n",
       " \"http://www.w3.org/Graphics/SVG/1.1/DTD/svg11.dtd\">\n",
       "<!-- Generated by graphviz version 2.40.1 (20161225.0304)\n",
       " -->\n",
       "<!-- Title: %3 Pages: 1 -->\n",
       "<svg width=\"214pt\" height=\"278pt\"\n",
       " viewBox=\"0.00 0.00 213.50 278.00\" xmlns=\"http://www.w3.org/2000/svg\" xmlns:xlink=\"http://www.w3.org/1999/xlink\">\n",
       "<g id=\"graph0\" class=\"graph\" transform=\"scale(1 1) rotate(0) translate(4 274)\">\n",
       "<title>%3</title>\n",
       "<polygon fill=\"#ffffff\" stroke=\"transparent\" points=\"-4,4 -4,-274 209.5,-274 209.5,4 -4,4\"/>\n",
       "<!-- 0 -->\n",
       "<g id=\"node1\" class=\"node\">\n",
       "<title>0</title>\n",
       "<text text-anchor=\"middle\" x=\"81\" y=\"-258.8\" font-family=\"Times,serif\" font-size=\"14.00\" fill=\"#000000\">&lt;start&gt;</text>\n",
       "</g>\n",
       "<!-- 1 -->\n",
       "<g id=\"node2\" class=\"node\">\n",
       "<title>1</title>\n",
       "<text text-anchor=\"middle\" x=\"81\" y=\"-207.8\" font-family=\"Times,serif\" font-size=\"14.00\" fill=\"#000000\">&lt;expr&gt;</text>\n",
       "</g>\n",
       "<!-- 0&#45;&gt;1 -->\n",
       "<g id=\"edge1\" class=\"edge\">\n",
       "<title>0&#45;&gt;1</title>\n",
       "<path fill=\"none\" stroke=\"#000000\" d=\"M81,-254.9748C81,-248.195 81,-237.966 81,-229.1331\"/>\n",
       "<polygon fill=\"#000000\" stroke=\"#000000\" points=\"84.5001,-229.0561 81,-219.0561 77.5001,-229.0561 84.5001,-229.0561\"/>\n",
       "</g>\n",
       "<!-- 2 -->\n",
       "<g id=\"node3\" class=\"node\">\n",
       "<title>2</title>\n",
       "<text text-anchor=\"middle\" x=\"30\" y=\"-156.8\" font-family=\"Times,serif\" font-size=\"14.00\" fill=\"#000000\">&lt;expr&gt;</text>\n",
       "</g>\n",
       "<!-- 1&#45;&gt;2 -->\n",
       "<g id=\"edge2\" class=\"edge\">\n",
       "<title>1&#45;&gt;2</title>\n",
       "<path fill=\"none\" stroke=\"#000000\" d=\"M73.4748,-203.9748C65.9417,-196.4417 54.1503,-184.6503 44.7472,-175.2472\"/>\n",
       "<polygon fill=\"#000000\" stroke=\"#000000\" points=\"47.1021,-172.6523 37.5561,-168.0561 42.1523,-177.6021 47.1021,-172.6523\"/>\n",
       "</g>\n",
       "<!-- 4 -->\n",
       "<g id=\"node5\" class=\"node\">\n",
       "<title>4</title>\n",
       "<text text-anchor=\"middle\" x=\"81\" y=\"-156.8\" font-family=\"Times,serif\" font-size=\"14.00\" fill=\"#000000\"> + </text>\n",
       "</g>\n",
       "<!-- 1&#45;&gt;4 -->\n",
       "<g id=\"edge4\" class=\"edge\">\n",
       "<title>1&#45;&gt;4</title>\n",
       "<path fill=\"none\" stroke=\"#000000\" d=\"M81,-203.9748C81,-197.195 81,-186.966 81,-178.1331\"/>\n",
       "<polygon fill=\"#000000\" stroke=\"#000000\" points=\"84.5001,-178.0561 81,-168.0561 77.5001,-178.0561 84.5001,-178.0561\"/>\n",
       "</g>\n",
       "<!-- 5 -->\n",
       "<g id=\"node6\" class=\"node\">\n",
       "<title>5</title>\n",
       "<text text-anchor=\"middle\" x=\"130\" y=\"-156.8\" font-family=\"Times,serif\" font-size=\"14.00\" fill=\"#000000\">&lt;term&gt;</text>\n",
       "</g>\n",
       "<!-- 1&#45;&gt;5 -->\n",
       "<g id=\"edge5\" class=\"edge\">\n",
       "<title>1&#45;&gt;5</title>\n",
       "<path fill=\"none\" stroke=\"#000000\" d=\"M88.2301,-203.9748C95.3954,-196.517 106.5706,-184.8857 115.5594,-175.53\"/>\n",
       "<polygon fill=\"#000000\" stroke=\"#000000\" points=\"118.3358,-177.6921 122.7402,-168.0561 113.2881,-172.8423 118.3358,-177.6921\"/>\n",
       "</g>\n",
       "<!-- 3 -->\n",
       "<g id=\"node4\" class=\"node\">\n",
       "<title>3</title>\n",
       "<text text-anchor=\"middle\" x=\"21\" y=\"-105.8\" font-family=\"Times,serif\" font-size=\"14.00\" fill=\"#000000\">&lt;term&gt;</text>\n",
       "</g>\n",
       "<!-- 2&#45;&gt;3 -->\n",
       "<g id=\"edge3\" class=\"edge\">\n",
       "<title>2&#45;&gt;3</title>\n",
       "<path fill=\"none\" stroke=\"#000000\" d=\"M28.672,-152.9748C27.4756,-146.195 25.6705,-135.966 24.1117,-127.1331\"/>\n",
       "<polygon fill=\"#000000\" stroke=\"#000000\" points=\"27.5181,-126.2957 22.3334,-117.0561 20.6246,-127.5122 27.5181,-126.2957\"/>\n",
       "</g>\n",
       "<!-- 6 -->\n",
       "<g id=\"node7\" class=\"node\">\n",
       "<title>6</title>\n",
       "<text text-anchor=\"middle\" x=\"85\" y=\"-105.8\" font-family=\"Times,serif\" font-size=\"14.00\" fill=\"#000000\">&lt;factor&gt;</text>\n",
       "</g>\n",
       "<!-- 5&#45;&gt;6 -->\n",
       "<g id=\"edge6\" class=\"edge\">\n",
       "<title>5&#45;&gt;6</title>\n",
       "<path fill=\"none\" stroke=\"#000000\" d=\"M123.3601,-152.9748C116.8462,-145.5923 106.7238,-134.1203 98.5125,-124.8142\"/>\n",
       "<polygon fill=\"#000000\" stroke=\"#000000\" points=\"100.9078,-122.2388 91.6671,-117.0561 95.659,-126.8702 100.9078,-122.2388\"/>\n",
       "</g>\n",
       "<!-- 9 -->\n",
       "<g id=\"node10\" class=\"node\">\n",
       "<title>9</title>\n",
       "<text text-anchor=\"middle\" x=\"133\" y=\"-105.8\" font-family=\"Times,serif\" font-size=\"14.00\" fill=\"#000000\"> / </text>\n",
       "</g>\n",
       "<!-- 5&#45;&gt;9 -->\n",
       "<g id=\"edge9\" class=\"edge\">\n",
       "<title>5&#45;&gt;9</title>\n",
       "<path fill=\"none\" stroke=\"#000000\" d=\"M130.4427,-152.9748C130.8415,-146.195 131.4432,-135.966 131.9628,-127.1331\"/>\n",
       "<polygon fill=\"#000000\" stroke=\"#000000\" points=\"135.4622,-127.2444 132.5555,-117.0561 128.4742,-126.8333 135.4622,-127.2444\"/>\n",
       "</g>\n",
       "<!-- 10 -->\n",
       "<g id=\"node11\" class=\"node\">\n",
       "<title>10</title>\n",
       "<text text-anchor=\"middle\" x=\"178\" y=\"-105.8\" font-family=\"Times,serif\" font-size=\"14.00\" fill=\"#000000\">&lt;term&gt;</text>\n",
       "</g>\n",
       "<!-- 5&#45;&gt;10 -->\n",
       "<g id=\"edge10\" class=\"edge\">\n",
       "<title>5&#45;&gt;10</title>\n",
       "<path fill=\"none\" stroke=\"#000000\" d=\"M137.0826,-152.9748C144.1017,-145.517 155.0487,-133.8857 163.8541,-124.53\"/>\n",
       "<polygon fill=\"#000000\" stroke=\"#000000\" points=\"166.5834,-126.7369 170.8884,-117.0561 161.486,-121.9393 166.5834,-126.7369\"/>\n",
       "</g>\n",
       "<!-- 7 -->\n",
       "<g id=\"node8\" class=\"node\">\n",
       "<title>7</title>\n",
       "<text text-anchor=\"middle\" x=\"53\" y=\"-54.8\" font-family=\"Times,serif\" font-size=\"14.00\" fill=\"#000000\">&#45;</text>\n",
       "</g>\n",
       "<!-- 6&#45;&gt;7 -->\n",
       "<g id=\"edge7\" class=\"edge\">\n",
       "<title>6&#45;&gt;7</title>\n",
       "<path fill=\"none\" stroke=\"#000000\" d=\"M80.2783,-101.9748C75.1686,-93.8312 66.9365,-80.7114 60.8505,-71.0118\"/>\n",
       "<polygon fill=\"#000000\" stroke=\"#000000\" points=\"63.7857,-69.1043 55.506,-62.4939 57.8562,-72.8248 63.7857,-69.1043\"/>\n",
       "</g>\n",
       "<!-- 8 -->\n",
       "<g id=\"node9\" class=\"node\">\n",
       "<title>8</title>\n",
       "<text text-anchor=\"middle\" x=\"98\" y=\"-54.8\" font-family=\"Times,serif\" font-size=\"14.00\" fill=\"#000000\">&lt;factor&gt;</text>\n",
       "</g>\n",
       "<!-- 6&#45;&gt;8 -->\n",
       "<g id=\"edge8\" class=\"edge\">\n",
       "<title>6&#45;&gt;8</title>\n",
       "<path fill=\"none\" stroke=\"#000000\" d=\"M86.9182,-101.9748C88.6656,-95.1196 91.3118,-84.7383 93.5802,-75.8392\"/>\n",
       "<polygon fill=\"#000000\" stroke=\"#000000\" points=\"96.9954,-76.6108 96.0739,-66.0561 90.2123,-74.8817 96.9954,-76.6108\"/>\n",
       "</g>\n",
       "<!-- 11 -->\n",
       "<g id=\"node12\" class=\"node\">\n",
       "<title>11</title>\n",
       "<text text-anchor=\"middle\" x=\"178\" y=\"-54.8\" font-family=\"Times,serif\" font-size=\"14.00\" fill=\"#000000\">&lt;factor&gt;</text>\n",
       "</g>\n",
       "<!-- 10&#45;&gt;11 -->\n",
       "<g id=\"edge11\" class=\"edge\">\n",
       "<title>10&#45;&gt;11</title>\n",
       "<path fill=\"none\" stroke=\"#000000\" d=\"M178,-101.9748C178,-95.195 178,-84.966 178,-76.1331\"/>\n",
       "<polygon fill=\"#000000\" stroke=\"#000000\" points=\"181.5001,-76.0561 178,-66.0561 174.5001,-76.0561 181.5001,-76.0561\"/>\n",
       "</g>\n",
       "<!-- 12 -->\n",
       "<g id=\"node13\" class=\"node\">\n",
       "<title>12</title>\n",
       "<text text-anchor=\"middle\" x=\"178\" y=\"-3.8\" font-family=\"Times,serif\" font-size=\"14.00\" fill=\"#000000\">&lt;integer&gt;</text>\n",
       "</g>\n",
       "<!-- 11&#45;&gt;12 -->\n",
       "<g id=\"edge12\" class=\"edge\">\n",
       "<title>11&#45;&gt;12</title>\n",
       "<path fill=\"none\" stroke=\"#000000\" d=\"M178,-50.9748C178,-44.195 178,-33.966 178,-25.1331\"/>\n",
       "<polygon fill=\"#000000\" stroke=\"#000000\" points=\"181.5001,-25.0561 178,-15.0561 174.5001,-25.0561 181.5001,-25.0561\"/>\n",
       "</g>\n",
       "</g>\n",
       "</svg>\n"
      ],
      "text/plain": [
       "<graphviz.dot.Digraph at 0x121c4b160>"
      ]
     },
     "metadata": {},
     "output_type": "display_data"
    }
   ],
   "source": [
    "if f.any_possible_expansions(derivation_tree):\n",
    "    derivation_tree = f.expand_tree_once(derivation_tree)\n",
    "    display_tree(derivation_tree)"
   ]
  },
  {
   "cell_type": "markdown",
   "metadata": {
    "slideshow": {
     "slide_type": "subslide"
    }
   },
   "source": [
    "We keep on expanding until all nonterminals are expanded."
   ]
  },
  {
   "cell_type": "code",
   "execution_count": 64,
   "metadata": {
    "button": false,
    "new_sheet": false,
    "run_control": {
     "read_only": false
    },
    "slideshow": {
     "slide_type": "fragment"
    }
   },
   "outputs": [
    {
     "name": "stdout",
     "output_type": "stream",
     "text": [
      "Expanding <term> at minimum cost\n",
      "Expanding <factor> at minimum cost\n",
      "Expanding <integer> at minimum cost\n",
      "Expanding <digit> at minimum cost\n",
      "Expanding <factor> at minimum cost\n",
      "Expanding <integer> at minimum cost\n",
      "Expanding <integer> at minimum cost\n",
      "Expanding <digit> at minimum cost\n",
      "Expanding <digit> at minimum cost\n"
     ]
    }
   ],
   "source": [
    "while f.any_possible_expansions(derivation_tree):\n",
    "    derivation_tree = f.expand_tree_once(derivation_tree)    "
   ]
  },
  {
   "cell_type": "markdown",
   "metadata": {
    "slideshow": {
     "slide_type": "subslide"
    }
   },
   "source": [
    "Here is the final tree:"
   ]
  },
  {
   "cell_type": "code",
   "execution_count": 65,
   "metadata": {
    "button": false,
    "new_sheet": false,
    "run_control": {
     "read_only": false
    },
    "slideshow": {
     "slide_type": "fragment"
    }
   },
   "outputs": [
    {
     "data": {
      "image/svg+xml": [
       "<?xml version=\"1.0\" encoding=\"UTF-8\" standalone=\"no\"?>\n",
       "<!DOCTYPE svg PUBLIC \"-//W3C//DTD SVG 1.1//EN\"\n",
       " \"http://www.w3.org/Graphics/SVG/1.1/DTD/svg11.dtd\">\n",
       "<!-- Generated by graphviz version 2.40.1 (20161225.0304)\n",
       " -->\n",
       "<!-- Title: %3 Pages: 1 -->\n",
       "<svg width=\"224pt\" height=\"380pt\"\n",
       " viewBox=\"0.00 0.00 224.00 380.00\" xmlns=\"http://www.w3.org/2000/svg\" xmlns:xlink=\"http://www.w3.org/1999/xlink\">\n",
       "<g id=\"graph0\" class=\"graph\" transform=\"scale(1 1) rotate(0) translate(4 376)\">\n",
       "<title>%3</title>\n",
       "<polygon fill=\"#ffffff\" stroke=\"transparent\" points=\"-4,4 -4,-376 220,-376 220,4 -4,4\"/>\n",
       "<!-- 0 -->\n",
       "<g id=\"node1\" class=\"node\">\n",
       "<title>0</title>\n",
       "<text text-anchor=\"middle\" x=\"87.5\" y=\"-360.8\" font-family=\"Times,serif\" font-size=\"14.00\" fill=\"#000000\">&lt;start&gt;</text>\n",
       "</g>\n",
       "<!-- 1 -->\n",
       "<g id=\"node2\" class=\"node\">\n",
       "<title>1</title>\n",
       "<text text-anchor=\"middle\" x=\"87.5\" y=\"-309.8\" font-family=\"Times,serif\" font-size=\"14.00\" fill=\"#000000\">&lt;expr&gt;</text>\n",
       "</g>\n",
       "<!-- 0&#45;&gt;1 -->\n",
       "<g id=\"edge1\" class=\"edge\">\n",
       "<title>0&#45;&gt;1</title>\n",
       "<path fill=\"none\" stroke=\"#000000\" d=\"M87.5,-356.9748C87.5,-350.195 87.5,-339.966 87.5,-331.1331\"/>\n",
       "<polygon fill=\"#000000\" stroke=\"#000000\" points=\"91.0001,-331.0561 87.5,-321.0561 84.0001,-331.0561 91.0001,-331.0561\"/>\n",
       "</g>\n",
       "<!-- 2 -->\n",
       "<g id=\"node3\" class=\"node\">\n",
       "<title>2</title>\n",
       "<text text-anchor=\"middle\" x=\"36.5\" y=\"-258.8\" font-family=\"Times,serif\" font-size=\"14.00\" fill=\"#000000\">&lt;expr&gt;</text>\n",
       "</g>\n",
       "<!-- 1&#45;&gt;2 -->\n",
       "<g id=\"edge2\" class=\"edge\">\n",
       "<title>1&#45;&gt;2</title>\n",
       "<path fill=\"none\" stroke=\"#000000\" d=\"M79.9748,-305.9748C72.4417,-298.4417 60.6503,-286.6503 51.2472,-277.2472\"/>\n",
       "<polygon fill=\"#000000\" stroke=\"#000000\" points=\"53.6021,-274.6523 44.0561,-270.0561 48.6523,-279.6021 53.6021,-274.6523\"/>\n",
       "</g>\n",
       "<!-- 8 -->\n",
       "<g id=\"node9\" class=\"node\">\n",
       "<title>8</title>\n",
       "<text text-anchor=\"middle\" x=\"87.5\" y=\"-258.8\" font-family=\"Times,serif\" font-size=\"14.00\" fill=\"#000000\"> + </text>\n",
       "</g>\n",
       "<!-- 1&#45;&gt;8 -->\n",
       "<g id=\"edge8\" class=\"edge\">\n",
       "<title>1&#45;&gt;8</title>\n",
       "<path fill=\"none\" stroke=\"#000000\" d=\"M87.5,-305.9748C87.5,-299.195 87.5,-288.966 87.5,-280.1331\"/>\n",
       "<polygon fill=\"#000000\" stroke=\"#000000\" points=\"91.0001,-280.0561 87.5,-270.0561 84.0001,-280.0561 91.0001,-280.0561\"/>\n",
       "</g>\n",
       "<!-- 9 -->\n",
       "<g id=\"node10\" class=\"node\">\n",
       "<title>9</title>\n",
       "<text text-anchor=\"middle\" x=\"136.5\" y=\"-258.8\" font-family=\"Times,serif\" font-size=\"14.00\" fill=\"#000000\">&lt;term&gt;</text>\n",
       "</g>\n",
       "<!-- 1&#45;&gt;9 -->\n",
       "<g id=\"edge9\" class=\"edge\">\n",
       "<title>1&#45;&gt;9</title>\n",
       "<path fill=\"none\" stroke=\"#000000\" d=\"M94.7301,-305.9748C101.8954,-298.517 113.0706,-286.8857 122.0594,-277.53\"/>\n",
       "<polygon fill=\"#000000\" stroke=\"#000000\" points=\"124.8358,-279.6921 129.2402,-270.0561 119.7881,-274.8423 124.8358,-279.6921\"/>\n",
       "</g>\n",
       "<!-- 3 -->\n",
       "<g id=\"node4\" class=\"node\">\n",
       "<title>3</title>\n",
       "<text text-anchor=\"middle\" x=\"27.5\" y=\"-207.8\" font-family=\"Times,serif\" font-size=\"14.00\" fill=\"#000000\">&lt;term&gt;</text>\n",
       "</g>\n",
       "<!-- 2&#45;&gt;3 -->\n",
       "<g id=\"edge3\" class=\"edge\">\n",
       "<title>2&#45;&gt;3</title>\n",
       "<path fill=\"none\" stroke=\"#000000\" d=\"M35.172,-254.9748C33.9756,-248.195 32.1705,-237.966 30.6117,-229.1331\"/>\n",
       "<polygon fill=\"#000000\" stroke=\"#000000\" points=\"34.0181,-228.2957 28.8334,-219.0561 27.1246,-229.5122 34.0181,-228.2957\"/>\n",
       "</g>\n",
       "<!-- 4 -->\n",
       "<g id=\"node5\" class=\"node\">\n",
       "<title>4</title>\n",
       "<text text-anchor=\"middle\" x=\"27.5\" y=\"-156.8\" font-family=\"Times,serif\" font-size=\"14.00\" fill=\"#000000\">&lt;factor&gt;</text>\n",
       "</g>\n",
       "<!-- 3&#45;&gt;4 -->\n",
       "<g id=\"edge4\" class=\"edge\">\n",
       "<title>3&#45;&gt;4</title>\n",
       "<path fill=\"none\" stroke=\"#000000\" d=\"M27.5,-203.9748C27.5,-197.195 27.5,-186.966 27.5,-178.1331\"/>\n",
       "<polygon fill=\"#000000\" stroke=\"#000000\" points=\"31.0001,-178.0561 27.5,-168.0561 24.0001,-178.0561 31.0001,-178.0561\"/>\n",
       "</g>\n",
       "<!-- 5 -->\n",
       "<g id=\"node6\" class=\"node\">\n",
       "<title>5</title>\n",
       "<text text-anchor=\"middle\" x=\"27.5\" y=\"-105.8\" font-family=\"Times,serif\" font-size=\"14.00\" fill=\"#000000\">&lt;integer&gt;</text>\n",
       "</g>\n",
       "<!-- 4&#45;&gt;5 -->\n",
       "<g id=\"edge5\" class=\"edge\">\n",
       "<title>4&#45;&gt;5</title>\n",
       "<path fill=\"none\" stroke=\"#000000\" d=\"M27.5,-152.9748C27.5,-146.195 27.5,-135.966 27.5,-127.1331\"/>\n",
       "<polygon fill=\"#000000\" stroke=\"#000000\" points=\"31.0001,-127.0561 27.5,-117.0561 24.0001,-127.0561 31.0001,-127.0561\"/>\n",
       "</g>\n",
       "<!-- 6 -->\n",
       "<g id=\"node7\" class=\"node\">\n",
       "<title>6</title>\n",
       "<text text-anchor=\"middle\" x=\"27.5\" y=\"-54.8\" font-family=\"Times,serif\" font-size=\"14.00\" fill=\"#000000\">&lt;digit&gt;</text>\n",
       "</g>\n",
       "<!-- 5&#45;&gt;6 -->\n",
       "<g id=\"edge6\" class=\"edge\">\n",
       "<title>5&#45;&gt;6</title>\n",
       "<path fill=\"none\" stroke=\"#000000\" d=\"M27.5,-101.9748C27.5,-95.195 27.5,-84.966 27.5,-76.1331\"/>\n",
       "<polygon fill=\"#000000\" stroke=\"#000000\" points=\"31.0001,-76.0561 27.5,-66.0561 24.0001,-76.0561 31.0001,-76.0561\"/>\n",
       "</g>\n",
       "<!-- 7 -->\n",
       "<g id=\"node8\" class=\"node\">\n",
       "<title>7</title>\n",
       "<text text-anchor=\"middle\" x=\"27.5\" y=\"-3.8\" font-family=\"Times,serif\" font-size=\"14.00\" fill=\"#000000\">6</text>\n",
       "</g>\n",
       "<!-- 6&#45;&gt;7 -->\n",
       "<g id=\"edge7\" class=\"edge\">\n",
       "<title>6&#45;&gt;7</title>\n",
       "<path fill=\"none\" stroke=\"#000000\" d=\"M27.5,-50.9748C27.5,-44.195 27.5,-33.966 27.5,-25.1331\"/>\n",
       "<polygon fill=\"#000000\" stroke=\"#000000\" points=\"31.0001,-25.0561 27.5,-15.0561 24.0001,-25.0561 31.0001,-25.0561\"/>\n",
       "</g>\n",
       "<!-- 10 -->\n",
       "<g id=\"node11\" class=\"node\">\n",
       "<title>10</title>\n",
       "<text text-anchor=\"middle\" x=\"91.5\" y=\"-207.8\" font-family=\"Times,serif\" font-size=\"14.00\" fill=\"#000000\">&lt;factor&gt;</text>\n",
       "</g>\n",
       "<!-- 9&#45;&gt;10 -->\n",
       "<g id=\"edge10\" class=\"edge\">\n",
       "<title>9&#45;&gt;10</title>\n",
       "<path fill=\"none\" stroke=\"#000000\" d=\"M129.8601,-254.9748C123.3462,-247.5923 113.2238,-236.1203 105.0125,-226.8142\"/>\n",
       "<polygon fill=\"#000000\" stroke=\"#000000\" points=\"107.4078,-224.2388 98.1671,-219.0561 102.159,-228.8702 107.4078,-224.2388\"/>\n",
       "</g>\n",
       "<!-- 16 -->\n",
       "<g id=\"node17\" class=\"node\">\n",
       "<title>16</title>\n",
       "<text text-anchor=\"middle\" x=\"139.5\" y=\"-207.8\" font-family=\"Times,serif\" font-size=\"14.00\" fill=\"#000000\"> / </text>\n",
       "</g>\n",
       "<!-- 9&#45;&gt;16 -->\n",
       "<g id=\"edge16\" class=\"edge\">\n",
       "<title>9&#45;&gt;16</title>\n",
       "<path fill=\"none\" stroke=\"#000000\" d=\"M136.9427,-254.9748C137.3415,-248.195 137.9432,-237.966 138.4628,-229.1331\"/>\n",
       "<polygon fill=\"#000000\" stroke=\"#000000\" points=\"141.9622,-229.2444 139.0555,-219.0561 134.9742,-228.8333 141.9622,-229.2444\"/>\n",
       "</g>\n",
       "<!-- 17 -->\n",
       "<g id=\"node18\" class=\"node\">\n",
       "<title>17</title>\n",
       "<text text-anchor=\"middle\" x=\"184.5\" y=\"-207.8\" font-family=\"Times,serif\" font-size=\"14.00\" fill=\"#000000\">&lt;term&gt;</text>\n",
       "</g>\n",
       "<!-- 9&#45;&gt;17 -->\n",
       "<g id=\"edge17\" class=\"edge\">\n",
       "<title>9&#45;&gt;17</title>\n",
       "<path fill=\"none\" stroke=\"#000000\" d=\"M143.5826,-254.9748C150.6017,-247.517 161.5487,-235.8857 170.3541,-226.53\"/>\n",
       "<polygon fill=\"#000000\" stroke=\"#000000\" points=\"173.0834,-228.7369 177.3884,-219.0561 167.986,-223.9393 173.0834,-228.7369\"/>\n",
       "</g>\n",
       "<!-- 11 -->\n",
       "<g id=\"node12\" class=\"node\">\n",
       "<title>11</title>\n",
       "<text text-anchor=\"middle\" x=\"72.5\" y=\"-156.8\" font-family=\"Times,serif\" font-size=\"14.00\" fill=\"#000000\">&#45;</text>\n",
       "</g>\n",
       "<!-- 10&#45;&gt;11 -->\n",
       "<g id=\"edge11\" class=\"edge\">\n",
       "<title>10&#45;&gt;11</title>\n",
       "<path fill=\"none\" stroke=\"#000000\" d=\"M88.6965,-203.9748C86.0552,-196.885 82.0087,-186.0234 78.6213,-176.9308\"/>\n",
       "<polygon fill=\"#000000\" stroke=\"#000000\" points=\"81.842,-175.5502 75.0711,-167.4013 75.2824,-177.994 81.842,-175.5502\"/>\n",
       "</g>\n",
       "<!-- 12 -->\n",
       "<g id=\"node13\" class=\"node\">\n",
       "<title>12</title>\n",
       "<text text-anchor=\"middle\" x=\"117.5\" y=\"-156.8\" font-family=\"Times,serif\" font-size=\"14.00\" fill=\"#000000\">&lt;factor&gt;</text>\n",
       "</g>\n",
       "<!-- 10&#45;&gt;12 -->\n",
       "<g id=\"edge12\" class=\"edge\">\n",
       "<title>10&#45;&gt;12</title>\n",
       "<path fill=\"none\" stroke=\"#000000\" d=\"M95.3364,-203.9748C98.908,-196.969 104.3571,-186.2803 108.9584,-177.2547\"/>\n",
       "<polygon fill=\"#000000\" stroke=\"#000000\" points=\"112.2241,-178.5548 113.6479,-168.0561 105.9878,-175.3755 112.2241,-178.5548\"/>\n",
       "</g>\n",
       "<!-- 13 -->\n",
       "<g id=\"node14\" class=\"node\">\n",
       "<title>13</title>\n",
       "<text text-anchor=\"middle\" x=\"115.5\" y=\"-105.8\" font-family=\"Times,serif\" font-size=\"14.00\" fill=\"#000000\">&lt;integer&gt;</text>\n",
       "</g>\n",
       "<!-- 12&#45;&gt;13 -->\n",
       "<g id=\"edge13\" class=\"edge\">\n",
       "<title>12&#45;&gt;13</title>\n",
       "<path fill=\"none\" stroke=\"#000000\" d=\"M117.2049,-152.9748C116.939,-146.195 116.5379,-135.966 116.1915,-127.1331\"/>\n",
       "<polygon fill=\"#000000\" stroke=\"#000000\" points=\"119.6856,-126.9112 115.7963,-117.0561 112.691,-127.1856 119.6856,-126.9112\"/>\n",
       "</g>\n",
       "<!-- 14 -->\n",
       "<g id=\"node15\" class=\"node\">\n",
       "<title>14</title>\n",
       "<text text-anchor=\"middle\" x=\"115.5\" y=\"-54.8\" font-family=\"Times,serif\" font-size=\"14.00\" fill=\"#000000\">&lt;digit&gt;</text>\n",
       "</g>\n",
       "<!-- 13&#45;&gt;14 -->\n",
       "<g id=\"edge14\" class=\"edge\">\n",
       "<title>13&#45;&gt;14</title>\n",
       "<path fill=\"none\" stroke=\"#000000\" d=\"M115.5,-101.9748C115.5,-95.195 115.5,-84.966 115.5,-76.1331\"/>\n",
       "<polygon fill=\"#000000\" stroke=\"#000000\" points=\"119.0001,-76.0561 115.5,-66.0561 112.0001,-76.0561 119.0001,-76.0561\"/>\n",
       "</g>\n",
       "<!-- 15 -->\n",
       "<g id=\"node16\" class=\"node\">\n",
       "<title>15</title>\n",
       "<text text-anchor=\"middle\" x=\"115.5\" y=\"-3.8\" font-family=\"Times,serif\" font-size=\"14.00\" fill=\"#000000\">0</text>\n",
       "</g>\n",
       "<!-- 14&#45;&gt;15 -->\n",
       "<g id=\"edge15\" class=\"edge\">\n",
       "<title>14&#45;&gt;15</title>\n",
       "<path fill=\"none\" stroke=\"#000000\" d=\"M115.5,-50.9748C115.5,-44.195 115.5,-33.966 115.5,-25.1331\"/>\n",
       "<polygon fill=\"#000000\" stroke=\"#000000\" points=\"119.0001,-25.0561 115.5,-15.0561 112.0001,-25.0561 119.0001,-25.0561\"/>\n",
       "</g>\n",
       "<!-- 18 -->\n",
       "<g id=\"node19\" class=\"node\">\n",
       "<title>18</title>\n",
       "<text text-anchor=\"middle\" x=\"187.5\" y=\"-156.8\" font-family=\"Times,serif\" font-size=\"14.00\" fill=\"#000000\">&lt;factor&gt;</text>\n",
       "</g>\n",
       "<!-- 17&#45;&gt;18 -->\n",
       "<g id=\"edge18\" class=\"edge\">\n",
       "<title>17&#45;&gt;18</title>\n",
       "<path fill=\"none\" stroke=\"#000000\" d=\"M184.9427,-203.9748C185.3415,-197.195 185.9432,-186.966 186.4628,-178.1331\"/>\n",
       "<polygon fill=\"#000000\" stroke=\"#000000\" points=\"189.9622,-178.2444 187.0555,-168.0561 182.9742,-177.8333 189.9622,-178.2444\"/>\n",
       "</g>\n",
       "<!-- 19 -->\n",
       "<g id=\"node20\" class=\"node\">\n",
       "<title>19</title>\n",
       "<text text-anchor=\"middle\" x=\"188.5\" y=\"-105.8\" font-family=\"Times,serif\" font-size=\"14.00\" fill=\"#000000\">&lt;integer&gt;</text>\n",
       "</g>\n",
       "<!-- 18&#45;&gt;19 -->\n",
       "<g id=\"edge19\" class=\"edge\">\n",
       "<title>18&#45;&gt;19</title>\n",
       "<path fill=\"none\" stroke=\"#000000\" d=\"M187.6476,-152.9748C187.7805,-146.195 187.9811,-135.966 188.1543,-127.1331\"/>\n",
       "<polygon fill=\"#000000\" stroke=\"#000000\" points=\"191.655,-127.1228 188.3518,-117.0561 184.6564,-126.9855 191.655,-127.1228\"/>\n",
       "</g>\n",
       "<!-- 20 -->\n",
       "<g id=\"node21\" class=\"node\">\n",
       "<title>20</title>\n",
       "<text text-anchor=\"middle\" x=\"188.5\" y=\"-54.8\" font-family=\"Times,serif\" font-size=\"14.00\" fill=\"#000000\">&lt;digit&gt;</text>\n",
       "</g>\n",
       "<!-- 19&#45;&gt;20 -->\n",
       "<g id=\"edge20\" class=\"edge\">\n",
       "<title>19&#45;&gt;20</title>\n",
       "<path fill=\"none\" stroke=\"#000000\" d=\"M188.5,-101.9748C188.5,-95.195 188.5,-84.966 188.5,-76.1331\"/>\n",
       "<polygon fill=\"#000000\" stroke=\"#000000\" points=\"192.0001,-76.0561 188.5,-66.0561 185.0001,-76.0561 192.0001,-76.0561\"/>\n",
       "</g>\n",
       "<!-- 21 -->\n",
       "<g id=\"node22\" class=\"node\">\n",
       "<title>21</title>\n",
       "<text text-anchor=\"middle\" x=\"188.5\" y=\"-3.8\" font-family=\"Times,serif\" font-size=\"14.00\" fill=\"#000000\">2</text>\n",
       "</g>\n",
       "<!-- 20&#45;&gt;21 -->\n",
       "<g id=\"edge21\" class=\"edge\">\n",
       "<title>20&#45;&gt;21</title>\n",
       "<path fill=\"none\" stroke=\"#000000\" d=\"M188.5,-50.9748C188.5,-44.195 188.5,-33.966 188.5,-25.1331\"/>\n",
       "<polygon fill=\"#000000\" stroke=\"#000000\" points=\"192.0001,-25.0561 188.5,-15.0561 185.0001,-25.0561 192.0001,-25.0561\"/>\n",
       "</g>\n",
       "</g>\n",
       "</svg>\n"
      ],
      "text/plain": [
       "<graphviz.dot.Digraph at 0x121c4b0f0>"
      ]
     },
     "metadata": {},
     "output_type": "display_data"
    }
   ],
   "source": [
    "display_tree(derivation_tree)"
   ]
  },
  {
   "cell_type": "markdown",
   "metadata": {
    "button": false,
    "new_sheet": false,
    "run_control": {
     "read_only": false
    },
    "slideshow": {
     "slide_type": "subslide"
    }
   },
   "source": [
    "We see that in each step, `expand_node_min_cost()` chooses an expansion that does not increase the number of symbols, eventually closing all open expansions."
   ]
  },
  {
   "cell_type": "markdown",
   "metadata": {
    "slideshow": {
     "slide_type": "slide"
    }
   },
   "source": [
    "## Node Inflation\n",
    "\n",
    "Especially at the beginning of an expansion, we may be interested in getting _as many nodes as possible_ – that is, we'd like to prefer expansions that give us _more_ nonterminals to expand.  This is actually the exact opposite of what `expand_node_min_cost()` gives us, and we can implement a method `expand_node_max_cost()` that will always choose among the nodes with the _highest_ cost:"
   ]
  },
  {
   "cell_type": "code",
   "execution_count": 66,
   "metadata": {
    "button": false,
    "new_sheet": false,
    "run_control": {
     "read_only": false
    },
    "slideshow": {
     "slide_type": "fragment"
    }
   },
   "outputs": [],
   "source": [
    "class GrammarFuzzer(GrammarFuzzer):\n",
    "    def expand_node_max_cost(self, node):\n",
    "        if self.log:\n",
    "            print(\"Expanding\", all_terminals(node), \"at maximum cost\")\n",
    "\n",
    "        return self.expand_node_by_cost(node, max)"
   ]
  },
  {
   "cell_type": "markdown",
   "metadata": {
    "slideshow": {
     "slide_type": "subslide"
    }
   },
   "source": [
    "To illustrate `expand_node_max_cost()`, we can again redefine `expand_node()` to use it, and then use `expand_tree_once()` to show a few expansion steps:"
   ]
  },
  {
   "cell_type": "code",
   "execution_count": 67,
   "metadata": {
    "button": false,
    "new_sheet": false,
    "run_control": {
     "read_only": false
    },
    "slideshow": {
     "slide_type": "fragment"
    }
   },
   "outputs": [],
   "source": [
    "class GrammarFuzzer(GrammarFuzzer):\n",
    "    def expand_node(self, node):\n",
    "        return self.expand_node_max_cost(node)"
   ]
  },
  {
   "cell_type": "code",
   "execution_count": 68,
   "metadata": {
    "button": false,
    "new_sheet": false,
    "run_control": {
     "read_only": false
    },
    "slideshow": {
     "slide_type": "subslide"
    }
   },
   "outputs": [],
   "source": [
    "derivation_tree = (\"<start>\",\n",
    "                   [(\"<expr>\",\n",
    "                     [(\"<expr>\", None),\n",
    "                      (\" + \", []),\n",
    "                         (\"<term>\", None)]\n",
    "                     )])"
   ]
  },
  {
   "cell_type": "code",
   "execution_count": 69,
   "metadata": {
    "button": false,
    "new_sheet": false,
    "run_control": {
     "read_only": false
    },
    "slideshow": {
     "slide_type": "fragment"
    }
   },
   "outputs": [
    {
     "data": {
      "image/svg+xml": [
       "<?xml version=\"1.0\" encoding=\"UTF-8\" standalone=\"no\"?>\n",
       "<!DOCTYPE svg PUBLIC \"-//W3C//DTD SVG 1.1//EN\"\n",
       " \"http://www.w3.org/Graphics/SVG/1.1/DTD/svg11.dtd\">\n",
       "<!-- Generated by graphviz version 2.40.1 (20161225.0304)\n",
       " -->\n",
       "<!-- Title: %3 Pages: 1 -->\n",
       "<svg width=\"143pt\" height=\"125pt\"\n",
       " viewBox=\"0.00 0.00 142.50 125.00\" xmlns=\"http://www.w3.org/2000/svg\" xmlns:xlink=\"http://www.w3.org/1999/xlink\">\n",
       "<g id=\"graph0\" class=\"graph\" transform=\"scale(1 1) rotate(0) translate(4 121)\">\n",
       "<title>%3</title>\n",
       "<polygon fill=\"#ffffff\" stroke=\"transparent\" points=\"-4,4 -4,-121 138.5,-121 138.5,4 -4,4\"/>\n",
       "<!-- 0 -->\n",
       "<g id=\"node1\" class=\"node\">\n",
       "<title>0</title>\n",
       "<text text-anchor=\"middle\" x=\"66.5\" y=\"-105.8\" font-family=\"Times,serif\" font-size=\"14.00\" fill=\"#000000\">&lt;start&gt;</text>\n",
       "</g>\n",
       "<!-- 1 -->\n",
       "<g id=\"node2\" class=\"node\">\n",
       "<title>1</title>\n",
       "<text text-anchor=\"middle\" x=\"66.5\" y=\"-54.8\" font-family=\"Times,serif\" font-size=\"14.00\" fill=\"#000000\">&lt;expr&gt;</text>\n",
       "</g>\n",
       "<!-- 0&#45;&gt;1 -->\n",
       "<g id=\"edge1\" class=\"edge\">\n",
       "<title>0&#45;&gt;1</title>\n",
       "<path fill=\"none\" stroke=\"#000000\" d=\"M66.5,-101.9748C66.5,-95.195 66.5,-84.966 66.5,-76.1331\"/>\n",
       "<polygon fill=\"#000000\" stroke=\"#000000\" points=\"70.0001,-76.0561 66.5,-66.0561 63.0001,-76.0561 70.0001,-76.0561\"/>\n",
       "</g>\n",
       "<!-- 2 -->\n",
       "<g id=\"node3\" class=\"node\">\n",
       "<title>2</title>\n",
       "<text text-anchor=\"middle\" x=\"20.5\" y=\"-3.8\" font-family=\"Times,serif\" font-size=\"14.00\" fill=\"#000000\">&lt;expr&gt;</text>\n",
       "</g>\n",
       "<!-- 1&#45;&gt;2 -->\n",
       "<g id=\"edge2\" class=\"edge\">\n",
       "<title>1&#45;&gt;2</title>\n",
       "<path fill=\"none\" stroke=\"#000000\" d=\"M59.7125,-50.9748C52.9859,-43.517 42.495,-31.8857 34.0564,-22.53\"/>\n",
       "<polygon fill=\"#000000\" stroke=\"#000000\" points=\"36.612,-20.1376 27.3153,-15.0561 31.414,-24.826 36.612,-20.1376\"/>\n",
       "</g>\n",
       "<!-- 3 -->\n",
       "<g id=\"node4\" class=\"node\">\n",
       "<title>3</title>\n",
       "<text text-anchor=\"middle\" x=\"66.5\" y=\"-3.8\" font-family=\"Times,serif\" font-size=\"14.00\" fill=\"#000000\"> + </text>\n",
       "</g>\n",
       "<!-- 1&#45;&gt;3 -->\n",
       "<g id=\"edge3\" class=\"edge\">\n",
       "<title>1&#45;&gt;3</title>\n",
       "<path fill=\"none\" stroke=\"#000000\" d=\"M66.5,-50.9748C66.5,-44.195 66.5,-33.966 66.5,-25.1331\"/>\n",
       "<polygon fill=\"#000000\" stroke=\"#000000\" points=\"70.0001,-25.0561 66.5,-15.0561 63.0001,-25.0561 70.0001,-25.0561\"/>\n",
       "</g>\n",
       "<!-- 4 -->\n",
       "<g id=\"node5\" class=\"node\">\n",
       "<title>4</title>\n",
       "<text text-anchor=\"middle\" x=\"113.5\" y=\"-3.8\" font-family=\"Times,serif\" font-size=\"14.00\" fill=\"#000000\">&lt;term&gt;</text>\n",
       "</g>\n",
       "<!-- 1&#45;&gt;4 -->\n",
       "<g id=\"edge4\" class=\"edge\">\n",
       "<title>1&#45;&gt;4</title>\n",
       "<path fill=\"none\" stroke=\"#000000\" d=\"M73.435,-50.9748C80.3079,-43.517 91.0269,-31.8857 99.6488,-22.53\"/>\n",
       "<polygon fill=\"#000000\" stroke=\"#000000\" points=\"102.3334,-24.7816 106.5365,-15.0561 97.1859,-20.0378 102.3334,-24.7816\"/>\n",
       "</g>\n",
       "</g>\n",
       "</svg>\n"
      ],
      "text/plain": [
       "<graphviz.dot.Digraph at 0x121c4b160>"
      ]
     },
     "metadata": {},
     "output_type": "display_data"
    }
   ],
   "source": [
    "f = GrammarFuzzer(EXPR_GRAMMAR, log=True)\n",
    "display_tree(derivation_tree)"
   ]
  },
  {
   "cell_type": "code",
   "execution_count": 70,
   "metadata": {
    "button": false,
    "new_sheet": false,
    "run_control": {
     "read_only": false
    },
    "slideshow": {
     "slide_type": "subslide"
    }
   },
   "outputs": [
    {
     "name": "stdout",
     "output_type": "stream",
     "text": [
      "Expanding <expr> at maximum cost\n"
     ]
    },
    {
     "data": {
      "image/svg+xml": [
       "<?xml version=\"1.0\" encoding=\"UTF-8\" standalone=\"no\"?>\n",
       "<!DOCTYPE svg PUBLIC \"-//W3C//DTD SVG 1.1//EN\"\n",
       " \"http://www.w3.org/Graphics/SVG/1.1/DTD/svg11.dtd\">\n",
       "<!-- Generated by graphviz version 2.40.1 (20161225.0304)\n",
       " -->\n",
       "<!-- Title: %3 Pages: 1 -->\n",
       "<svg width=\"190pt\" height=\"176pt\"\n",
       " viewBox=\"0.00 0.00 190.00 176.00\" xmlns=\"http://www.w3.org/2000/svg\" xmlns:xlink=\"http://www.w3.org/1999/xlink\">\n",
       "<g id=\"graph0\" class=\"graph\" transform=\"scale(1 1) rotate(0) translate(4 172)\">\n",
       "<title>%3</title>\n",
       "<polygon fill=\"#ffffff\" stroke=\"transparent\" points=\"-4,4 -4,-172 186,-172 186,4 -4,4\"/>\n",
       "<!-- 0 -->\n",
       "<g id=\"node1\" class=\"node\">\n",
       "<title>0</title>\n",
       "<text text-anchor=\"middle\" x=\"114\" y=\"-156.8\" font-family=\"Times,serif\" font-size=\"14.00\" fill=\"#000000\">&lt;start&gt;</text>\n",
       "</g>\n",
       "<!-- 1 -->\n",
       "<g id=\"node2\" class=\"node\">\n",
       "<title>1</title>\n",
       "<text text-anchor=\"middle\" x=\"114\" y=\"-105.8\" font-family=\"Times,serif\" font-size=\"14.00\" fill=\"#000000\">&lt;expr&gt;</text>\n",
       "</g>\n",
       "<!-- 0&#45;&gt;1 -->\n",
       "<g id=\"edge1\" class=\"edge\">\n",
       "<title>0&#45;&gt;1</title>\n",
       "<path fill=\"none\" stroke=\"#000000\" d=\"M114,-152.9748C114,-146.195 114,-135.966 114,-127.1331\"/>\n",
       "<polygon fill=\"#000000\" stroke=\"#000000\" points=\"117.5001,-127.0561 114,-117.0561 110.5001,-127.0561 117.5001,-127.0561\"/>\n",
       "</g>\n",
       "<!-- 2 -->\n",
       "<g id=\"node3\" class=\"node\">\n",
       "<title>2</title>\n",
       "<text text-anchor=\"middle\" x=\"68\" y=\"-54.8\" font-family=\"Times,serif\" font-size=\"14.00\" fill=\"#000000\">&lt;expr&gt;</text>\n",
       "</g>\n",
       "<!-- 1&#45;&gt;2 -->\n",
       "<g id=\"edge2\" class=\"edge\">\n",
       "<title>1&#45;&gt;2</title>\n",
       "<path fill=\"none\" stroke=\"#000000\" d=\"M107.2125,-101.9748C100.4859,-94.517 89.995,-82.8857 81.5564,-73.53\"/>\n",
       "<polygon fill=\"#000000\" stroke=\"#000000\" points=\"84.112,-71.1376 74.8153,-66.0561 78.914,-75.826 84.112,-71.1376\"/>\n",
       "</g>\n",
       "<!-- 6 -->\n",
       "<g id=\"node7\" class=\"node\">\n",
       "<title>6</title>\n",
       "<text text-anchor=\"middle\" x=\"114\" y=\"-54.8\" font-family=\"Times,serif\" font-size=\"14.00\" fill=\"#000000\"> + </text>\n",
       "</g>\n",
       "<!-- 1&#45;&gt;6 -->\n",
       "<g id=\"edge6\" class=\"edge\">\n",
       "<title>1&#45;&gt;6</title>\n",
       "<path fill=\"none\" stroke=\"#000000\" d=\"M114,-101.9748C114,-95.195 114,-84.966 114,-76.1331\"/>\n",
       "<polygon fill=\"#000000\" stroke=\"#000000\" points=\"117.5001,-76.0561 114,-66.0561 110.5001,-76.0561 117.5001,-76.0561\"/>\n",
       "</g>\n",
       "<!-- 7 -->\n",
       "<g id=\"node8\" class=\"node\">\n",
       "<title>7</title>\n",
       "<text text-anchor=\"middle\" x=\"161\" y=\"-54.8\" font-family=\"Times,serif\" font-size=\"14.00\" fill=\"#000000\">&lt;term&gt;</text>\n",
       "</g>\n",
       "<!-- 1&#45;&gt;7 -->\n",
       "<g id=\"edge7\" class=\"edge\">\n",
       "<title>1&#45;&gt;7</title>\n",
       "<path fill=\"none\" stroke=\"#000000\" d=\"M120.935,-101.9748C127.8079,-94.517 138.5269,-82.8857 147.1488,-73.53\"/>\n",
       "<polygon fill=\"#000000\" stroke=\"#000000\" points=\"149.8334,-75.7816 154.0365,-66.0561 144.6859,-71.0378 149.8334,-75.7816\"/>\n",
       "</g>\n",
       "<!-- 3 -->\n",
       "<g id=\"node4\" class=\"node\">\n",
       "<title>3</title>\n",
       "<text text-anchor=\"middle\" x=\"21\" y=\"-3.8\" font-family=\"Times,serif\" font-size=\"14.00\" fill=\"#000000\">&lt;term&gt;</text>\n",
       "</g>\n",
       "<!-- 2&#45;&gt;3 -->\n",
       "<g id=\"edge3\" class=\"edge\">\n",
       "<title>2&#45;&gt;3</title>\n",
       "<path fill=\"none\" stroke=\"#000000\" d=\"M61.065,-50.9748C54.1921,-43.517 43.4731,-31.8857 34.8512,-22.53\"/>\n",
       "<polygon fill=\"#000000\" stroke=\"#000000\" points=\"37.3141,-20.0378 27.9635,-15.0561 32.1666,-24.7816 37.3141,-20.0378\"/>\n",
       "</g>\n",
       "<!-- 4 -->\n",
       "<g id=\"node5\" class=\"node\">\n",
       "<title>4</title>\n",
       "<text text-anchor=\"middle\" x=\"68\" y=\"-3.8\" font-family=\"Times,serif\" font-size=\"14.00\" fill=\"#000000\"> + </text>\n",
       "</g>\n",
       "<!-- 2&#45;&gt;4 -->\n",
       "<g id=\"edge4\" class=\"edge\">\n",
       "<title>2&#45;&gt;4</title>\n",
       "<path fill=\"none\" stroke=\"#000000\" d=\"M68,-50.9748C68,-44.195 68,-33.966 68,-25.1331\"/>\n",
       "<polygon fill=\"#000000\" stroke=\"#000000\" points=\"71.5001,-25.0561 68,-15.0561 64.5001,-25.0561 71.5001,-25.0561\"/>\n",
       "</g>\n",
       "<!-- 5 -->\n",
       "<g id=\"node6\" class=\"node\">\n",
       "<title>5</title>\n",
       "<text text-anchor=\"middle\" x=\"114\" y=\"-3.8\" font-family=\"Times,serif\" font-size=\"14.00\" fill=\"#000000\">&lt;expr&gt;</text>\n",
       "</g>\n",
       "<!-- 2&#45;&gt;5 -->\n",
       "<g id=\"edge5\" class=\"edge\">\n",
       "<title>2&#45;&gt;5</title>\n",
       "<path fill=\"none\" stroke=\"#000000\" d=\"M74.7875,-50.9748C81.5141,-43.517 92.005,-31.8857 100.4436,-22.53\"/>\n",
       "<polygon fill=\"#000000\" stroke=\"#000000\" points=\"103.086,-24.826 107.1847,-15.0561 97.888,-20.1376 103.086,-24.826\"/>\n",
       "</g>\n",
       "</g>\n",
       "</svg>\n"
      ],
      "text/plain": [
       "<graphviz.dot.Digraph at 0x121c4b320>"
      ]
     },
     "metadata": {},
     "output_type": "display_data"
    }
   ],
   "source": [
    "if f.any_possible_expansions(derivation_tree):\n",
    "    derivation_tree = f.expand_tree_once(derivation_tree)\n",
    "    display_tree(derivation_tree)"
   ]
  },
  {
   "cell_type": "code",
   "execution_count": 71,
   "metadata": {
    "button": false,
    "new_sheet": false,
    "run_control": {
     "read_only": false
    },
    "slideshow": {
     "slide_type": "subslide"
    }
   },
   "outputs": [
    {
     "name": "stdout",
     "output_type": "stream",
     "text": [
      "Expanding <term> at maximum cost\n"
     ]
    },
    {
     "data": {
      "image/svg+xml": [
       "<?xml version=\"1.0\" encoding=\"UTF-8\" standalone=\"no\"?>\n",
       "<!DOCTYPE svg PUBLIC \"-//W3C//DTD SVG 1.1//EN\"\n",
       " \"http://www.w3.org/Graphics/SVG/1.1/DTD/svg11.dtd\">\n",
       "<!-- Generated by graphviz version 2.40.1 (20161225.0304)\n",
       " -->\n",
       "<!-- Title: %3 Pages: 1 -->\n",
       "<svg width=\"244pt\" height=\"227pt\"\n",
       " viewBox=\"0.00 0.00 243.50 227.00\" xmlns=\"http://www.w3.org/2000/svg\" xmlns:xlink=\"http://www.w3.org/1999/xlink\">\n",
       "<g id=\"graph0\" class=\"graph\" transform=\"scale(1 1) rotate(0) translate(4 223)\">\n",
       "<title>%3</title>\n",
       "<polygon fill=\"#ffffff\" stroke=\"transparent\" points=\"-4,4 -4,-223 239.5,-223 239.5,4 -4,4\"/>\n",
       "<!-- 0 -->\n",
       "<g id=\"node1\" class=\"node\">\n",
       "<title>0</title>\n",
       "<text text-anchor=\"middle\" x=\"167.5\" y=\"-207.8\" font-family=\"Times,serif\" font-size=\"14.00\" fill=\"#000000\">&lt;start&gt;</text>\n",
       "</g>\n",
       "<!-- 1 -->\n",
       "<g id=\"node2\" class=\"node\">\n",
       "<title>1</title>\n",
       "<text text-anchor=\"middle\" x=\"167.5\" y=\"-156.8\" font-family=\"Times,serif\" font-size=\"14.00\" fill=\"#000000\">&lt;expr&gt;</text>\n",
       "</g>\n",
       "<!-- 0&#45;&gt;1 -->\n",
       "<g id=\"edge1\" class=\"edge\">\n",
       "<title>0&#45;&gt;1</title>\n",
       "<path fill=\"none\" stroke=\"#000000\" d=\"M167.5,-203.9748C167.5,-197.195 167.5,-186.966 167.5,-178.1331\"/>\n",
       "<polygon fill=\"#000000\" stroke=\"#000000\" points=\"171.0001,-178.0561 167.5,-168.0561 164.0001,-178.0561 171.0001,-178.0561\"/>\n",
       "</g>\n",
       "<!-- 2 -->\n",
       "<g id=\"node3\" class=\"node\">\n",
       "<title>2</title>\n",
       "<text text-anchor=\"middle\" x=\"121.5\" y=\"-105.8\" font-family=\"Times,serif\" font-size=\"14.00\" fill=\"#000000\">&lt;expr&gt;</text>\n",
       "</g>\n",
       "<!-- 1&#45;&gt;2 -->\n",
       "<g id=\"edge2\" class=\"edge\">\n",
       "<title>1&#45;&gt;2</title>\n",
       "<path fill=\"none\" stroke=\"#000000\" d=\"M160.7125,-152.9748C153.9859,-145.517 143.495,-133.8857 135.0564,-124.53\"/>\n",
       "<polygon fill=\"#000000\" stroke=\"#000000\" points=\"137.612,-122.1376 128.3153,-117.0561 132.414,-126.826 137.612,-122.1376\"/>\n",
       "</g>\n",
       "<!-- 9 -->\n",
       "<g id=\"node10\" class=\"node\">\n",
       "<title>9</title>\n",
       "<text text-anchor=\"middle\" x=\"167.5\" y=\"-105.8\" font-family=\"Times,serif\" font-size=\"14.00\" fill=\"#000000\"> + </text>\n",
       "</g>\n",
       "<!-- 1&#45;&gt;9 -->\n",
       "<g id=\"edge9\" class=\"edge\">\n",
       "<title>1&#45;&gt;9</title>\n",
       "<path fill=\"none\" stroke=\"#000000\" d=\"M167.5,-152.9748C167.5,-146.195 167.5,-135.966 167.5,-127.1331\"/>\n",
       "<polygon fill=\"#000000\" stroke=\"#000000\" points=\"171.0001,-127.0561 167.5,-117.0561 164.0001,-127.0561 171.0001,-127.0561\"/>\n",
       "</g>\n",
       "<!-- 10 -->\n",
       "<g id=\"node11\" class=\"node\">\n",
       "<title>10</title>\n",
       "<text text-anchor=\"middle\" x=\"214.5\" y=\"-105.8\" font-family=\"Times,serif\" font-size=\"14.00\" fill=\"#000000\">&lt;term&gt;</text>\n",
       "</g>\n",
       "<!-- 1&#45;&gt;10 -->\n",
       "<g id=\"edge10\" class=\"edge\">\n",
       "<title>1&#45;&gt;10</title>\n",
       "<path fill=\"none\" stroke=\"#000000\" d=\"M174.435,-152.9748C181.3079,-145.517 192.0269,-133.8857 200.6488,-124.53\"/>\n",
       "<polygon fill=\"#000000\" stroke=\"#000000\" points=\"203.3334,-126.7816 207.5365,-117.0561 198.1859,-122.0378 203.3334,-126.7816\"/>\n",
       "</g>\n",
       "<!-- 3 -->\n",
       "<g id=\"node4\" class=\"node\">\n",
       "<title>3</title>\n",
       "<text text-anchor=\"middle\" x=\"74.5\" y=\"-54.8\" font-family=\"Times,serif\" font-size=\"14.00\" fill=\"#000000\">&lt;term&gt;</text>\n",
       "</g>\n",
       "<!-- 2&#45;&gt;3 -->\n",
       "<g id=\"edge3\" class=\"edge\">\n",
       "<title>2&#45;&gt;3</title>\n",
       "<path fill=\"none\" stroke=\"#000000\" d=\"M114.565,-101.9748C107.6921,-94.517 96.9731,-82.8857 88.3512,-73.53\"/>\n",
       "<polygon fill=\"#000000\" stroke=\"#000000\" points=\"90.8141,-71.0378 81.4635,-66.0561 85.6666,-75.7816 90.8141,-71.0378\"/>\n",
       "</g>\n",
       "<!-- 7 -->\n",
       "<g id=\"node8\" class=\"node\">\n",
       "<title>7</title>\n",
       "<text text-anchor=\"middle\" x=\"121.5\" y=\"-54.8\" font-family=\"Times,serif\" font-size=\"14.00\" fill=\"#000000\"> + </text>\n",
       "</g>\n",
       "<!-- 2&#45;&gt;7 -->\n",
       "<g id=\"edge7\" class=\"edge\">\n",
       "<title>2&#45;&gt;7</title>\n",
       "<path fill=\"none\" stroke=\"#000000\" d=\"M121.5,-101.9748C121.5,-95.195 121.5,-84.966 121.5,-76.1331\"/>\n",
       "<polygon fill=\"#000000\" stroke=\"#000000\" points=\"125.0001,-76.0561 121.5,-66.0561 118.0001,-76.0561 125.0001,-76.0561\"/>\n",
       "</g>\n",
       "<!-- 8 -->\n",
       "<g id=\"node9\" class=\"node\">\n",
       "<title>8</title>\n",
       "<text text-anchor=\"middle\" x=\"167.5\" y=\"-54.8\" font-family=\"Times,serif\" font-size=\"14.00\" fill=\"#000000\">&lt;expr&gt;</text>\n",
       "</g>\n",
       "<!-- 2&#45;&gt;8 -->\n",
       "<g id=\"edge8\" class=\"edge\">\n",
       "<title>2&#45;&gt;8</title>\n",
       "<path fill=\"none\" stroke=\"#000000\" d=\"M128.2875,-101.9748C135.0141,-94.517 145.505,-82.8857 153.9436,-73.53\"/>\n",
       "<polygon fill=\"#000000\" stroke=\"#000000\" points=\"156.586,-75.826 160.6847,-66.0561 151.388,-71.1376 156.586,-75.826\"/>\n",
       "</g>\n",
       "<!-- 4 -->\n",
       "<g id=\"node5\" class=\"node\">\n",
       "<title>4</title>\n",
       "<text text-anchor=\"middle\" x=\"24.5\" y=\"-3.8\" font-family=\"Times,serif\" font-size=\"14.00\" fill=\"#000000\">&lt;factor&gt;</text>\n",
       "</g>\n",
       "<!-- 3&#45;&gt;4 -->\n",
       "<g id=\"edge4\" class=\"edge\">\n",
       "<title>3&#45;&gt;4</title>\n",
       "<path fill=\"none\" stroke=\"#000000\" d=\"M67.1223,-50.9748C59.7369,-43.4417 48.1768,-31.6503 38.958,-22.2472\"/>\n",
       "<polygon fill=\"#000000\" stroke=\"#000000\" points=\"41.4079,-19.7466 31.9079,-15.0561 36.4094,-24.6471 41.4079,-19.7466\"/>\n",
       "</g>\n",
       "<!-- 5 -->\n",
       "<g id=\"node6\" class=\"node\">\n",
       "<title>5</title>\n",
       "<text text-anchor=\"middle\" x=\"74.5\" y=\"-3.8\" font-family=\"Times,serif\" font-size=\"14.00\" fill=\"#000000\"> * </text>\n",
       "</g>\n",
       "<!-- 3&#45;&gt;5 -->\n",
       "<g id=\"edge5\" class=\"edge\">\n",
       "<title>3&#45;&gt;5</title>\n",
       "<path fill=\"none\" stroke=\"#000000\" d=\"M74.5,-50.9748C74.5,-44.195 74.5,-33.966 74.5,-25.1331\"/>\n",
       "<polygon fill=\"#000000\" stroke=\"#000000\" points=\"78.0001,-25.0561 74.5,-15.0561 71.0001,-25.0561 78.0001,-25.0561\"/>\n",
       "</g>\n",
       "<!-- 6 -->\n",
       "<g id=\"node7\" class=\"node\">\n",
       "<title>6</title>\n",
       "<text text-anchor=\"middle\" x=\"121.5\" y=\"-3.8\" font-family=\"Times,serif\" font-size=\"14.00\" fill=\"#000000\">&lt;term&gt;</text>\n",
       "</g>\n",
       "<!-- 3&#45;&gt;6 -->\n",
       "<g id=\"edge6\" class=\"edge\">\n",
       "<title>3&#45;&gt;6</title>\n",
       "<path fill=\"none\" stroke=\"#000000\" d=\"M81.435,-50.9748C88.3079,-43.517 99.0269,-31.8857 107.6488,-22.53\"/>\n",
       "<polygon fill=\"#000000\" stroke=\"#000000\" points=\"110.3334,-24.7816 114.5365,-15.0561 105.1859,-20.0378 110.3334,-24.7816\"/>\n",
       "</g>\n",
       "</g>\n",
       "</svg>\n"
      ],
      "text/plain": [
       "<graphviz.dot.Digraph at 0x121c4bda0>"
      ]
     },
     "metadata": {},
     "output_type": "display_data"
    }
   ],
   "source": [
    "if f.any_possible_expansions(derivation_tree):\n",
    "    derivation_tree = f.expand_tree_once(derivation_tree)\n",
    "    display_tree(derivation_tree)"
   ]
  },
  {
   "cell_type": "code",
   "execution_count": 72,
   "metadata": {
    "button": false,
    "new_sheet": false,
    "run_control": {
     "read_only": false
    },
    "slideshow": {
     "slide_type": "subslide"
    }
   },
   "outputs": [
    {
     "name": "stdout",
     "output_type": "stream",
     "text": [
      "Expanding <factor> at maximum cost\n"
     ]
    },
    {
     "data": {
      "image/svg+xml": [
       "<?xml version=\"1.0\" encoding=\"UTF-8\" standalone=\"no\"?>\n",
       "<!DOCTYPE svg PUBLIC \"-//W3C//DTD SVG 1.1//EN\"\n",
       " \"http://www.w3.org/Graphics/SVG/1.1/DTD/svg11.dtd\">\n",
       "<!-- Generated by graphviz version 2.40.1 (20161225.0304)\n",
       " -->\n",
       "<!-- Title: %3 Pages: 1 -->\n",
       "<svg width=\"244pt\" height=\"278pt\"\n",
       " viewBox=\"0.00 0.00 243.50 278.00\" xmlns=\"http://www.w3.org/2000/svg\" xmlns:xlink=\"http://www.w3.org/1999/xlink\">\n",
       "<g id=\"graph0\" class=\"graph\" transform=\"scale(1 1) rotate(0) translate(4 274)\">\n",
       "<title>%3</title>\n",
       "<polygon fill=\"#ffffff\" stroke=\"transparent\" points=\"-4,4 -4,-274 239.5,-274 239.5,4 -4,4\"/>\n",
       "<!-- 0 -->\n",
       "<g id=\"node1\" class=\"node\">\n",
       "<title>0</title>\n",
       "<text text-anchor=\"middle\" x=\"167.5\" y=\"-258.8\" font-family=\"Times,serif\" font-size=\"14.00\" fill=\"#000000\">&lt;start&gt;</text>\n",
       "</g>\n",
       "<!-- 1 -->\n",
       "<g id=\"node2\" class=\"node\">\n",
       "<title>1</title>\n",
       "<text text-anchor=\"middle\" x=\"167.5\" y=\"-207.8\" font-family=\"Times,serif\" font-size=\"14.00\" fill=\"#000000\">&lt;expr&gt;</text>\n",
       "</g>\n",
       "<!-- 0&#45;&gt;1 -->\n",
       "<g id=\"edge1\" class=\"edge\">\n",
       "<title>0&#45;&gt;1</title>\n",
       "<path fill=\"none\" stroke=\"#000000\" d=\"M167.5,-254.9748C167.5,-248.195 167.5,-237.966 167.5,-229.1331\"/>\n",
       "<polygon fill=\"#000000\" stroke=\"#000000\" points=\"171.0001,-229.0561 167.5,-219.0561 164.0001,-229.0561 171.0001,-229.0561\"/>\n",
       "</g>\n",
       "<!-- 2 -->\n",
       "<g id=\"node3\" class=\"node\">\n",
       "<title>2</title>\n",
       "<text text-anchor=\"middle\" x=\"121.5\" y=\"-156.8\" font-family=\"Times,serif\" font-size=\"14.00\" fill=\"#000000\">&lt;expr&gt;</text>\n",
       "</g>\n",
       "<!-- 1&#45;&gt;2 -->\n",
       "<g id=\"edge2\" class=\"edge\">\n",
       "<title>1&#45;&gt;2</title>\n",
       "<path fill=\"none\" stroke=\"#000000\" d=\"M160.7125,-203.9748C153.9859,-196.517 143.495,-184.8857 135.0564,-175.53\"/>\n",
       "<polygon fill=\"#000000\" stroke=\"#000000\" points=\"137.612,-173.1376 128.3153,-168.0561 132.414,-177.826 137.612,-173.1376\"/>\n",
       "</g>\n",
       "<!-- 11 -->\n",
       "<g id=\"node12\" class=\"node\">\n",
       "<title>11</title>\n",
       "<text text-anchor=\"middle\" x=\"167.5\" y=\"-156.8\" font-family=\"Times,serif\" font-size=\"14.00\" fill=\"#000000\"> + </text>\n",
       "</g>\n",
       "<!-- 1&#45;&gt;11 -->\n",
       "<g id=\"edge11\" class=\"edge\">\n",
       "<title>1&#45;&gt;11</title>\n",
       "<path fill=\"none\" stroke=\"#000000\" d=\"M167.5,-203.9748C167.5,-197.195 167.5,-186.966 167.5,-178.1331\"/>\n",
       "<polygon fill=\"#000000\" stroke=\"#000000\" points=\"171.0001,-178.0561 167.5,-168.0561 164.0001,-178.0561 171.0001,-178.0561\"/>\n",
       "</g>\n",
       "<!-- 12 -->\n",
       "<g id=\"node13\" class=\"node\">\n",
       "<title>12</title>\n",
       "<text text-anchor=\"middle\" x=\"214.5\" y=\"-156.8\" font-family=\"Times,serif\" font-size=\"14.00\" fill=\"#000000\">&lt;term&gt;</text>\n",
       "</g>\n",
       "<!-- 1&#45;&gt;12 -->\n",
       "<g id=\"edge12\" class=\"edge\">\n",
       "<title>1&#45;&gt;12</title>\n",
       "<path fill=\"none\" stroke=\"#000000\" d=\"M174.435,-203.9748C181.3079,-196.517 192.0269,-184.8857 200.6488,-175.53\"/>\n",
       "<polygon fill=\"#000000\" stroke=\"#000000\" points=\"203.3334,-177.7816 207.5365,-168.0561 198.1859,-173.0378 203.3334,-177.7816\"/>\n",
       "</g>\n",
       "<!-- 3 -->\n",
       "<g id=\"node4\" class=\"node\">\n",
       "<title>3</title>\n",
       "<text text-anchor=\"middle\" x=\"74.5\" y=\"-105.8\" font-family=\"Times,serif\" font-size=\"14.00\" fill=\"#000000\">&lt;term&gt;</text>\n",
       "</g>\n",
       "<!-- 2&#45;&gt;3 -->\n",
       "<g id=\"edge3\" class=\"edge\">\n",
       "<title>2&#45;&gt;3</title>\n",
       "<path fill=\"none\" stroke=\"#000000\" d=\"M114.565,-152.9748C107.6921,-145.517 96.9731,-133.8857 88.3512,-124.53\"/>\n",
       "<polygon fill=\"#000000\" stroke=\"#000000\" points=\"90.8141,-122.0378 81.4635,-117.0561 85.6666,-126.7816 90.8141,-122.0378\"/>\n",
       "</g>\n",
       "<!-- 9 -->\n",
       "<g id=\"node10\" class=\"node\">\n",
       "<title>9</title>\n",
       "<text text-anchor=\"middle\" x=\"121.5\" y=\"-105.8\" font-family=\"Times,serif\" font-size=\"14.00\" fill=\"#000000\"> + </text>\n",
       "</g>\n",
       "<!-- 2&#45;&gt;9 -->\n",
       "<g id=\"edge9\" class=\"edge\">\n",
       "<title>2&#45;&gt;9</title>\n",
       "<path fill=\"none\" stroke=\"#000000\" d=\"M121.5,-152.9748C121.5,-146.195 121.5,-135.966 121.5,-127.1331\"/>\n",
       "<polygon fill=\"#000000\" stroke=\"#000000\" points=\"125.0001,-127.0561 121.5,-117.0561 118.0001,-127.0561 125.0001,-127.0561\"/>\n",
       "</g>\n",
       "<!-- 10 -->\n",
       "<g id=\"node11\" class=\"node\">\n",
       "<title>10</title>\n",
       "<text text-anchor=\"middle\" x=\"167.5\" y=\"-105.8\" font-family=\"Times,serif\" font-size=\"14.00\" fill=\"#000000\">&lt;expr&gt;</text>\n",
       "</g>\n",
       "<!-- 2&#45;&gt;10 -->\n",
       "<g id=\"edge10\" class=\"edge\">\n",
       "<title>2&#45;&gt;10</title>\n",
       "<path fill=\"none\" stroke=\"#000000\" d=\"M128.2875,-152.9748C135.0141,-145.517 145.505,-133.8857 153.9436,-124.53\"/>\n",
       "<polygon fill=\"#000000\" stroke=\"#000000\" points=\"156.586,-126.826 160.6847,-117.0561 151.388,-122.1376 156.586,-126.826\"/>\n",
       "</g>\n",
       "<!-- 4 -->\n",
       "<g id=\"node5\" class=\"node\">\n",
       "<title>4</title>\n",
       "<text text-anchor=\"middle\" x=\"24.5\" y=\"-54.8\" font-family=\"Times,serif\" font-size=\"14.00\" fill=\"#000000\">&lt;factor&gt;</text>\n",
       "</g>\n",
       "<!-- 3&#45;&gt;4 -->\n",
       "<g id=\"edge4\" class=\"edge\">\n",
       "<title>3&#45;&gt;4</title>\n",
       "<path fill=\"none\" stroke=\"#000000\" d=\"M67.1223,-101.9748C59.7369,-94.4417 48.1768,-82.6503 38.958,-73.2472\"/>\n",
       "<polygon fill=\"#000000\" stroke=\"#000000\" points=\"41.4079,-70.7466 31.9079,-66.0561 36.4094,-75.6471 41.4079,-70.7466\"/>\n",
       "</g>\n",
       "<!-- 7 -->\n",
       "<g id=\"node8\" class=\"node\">\n",
       "<title>7</title>\n",
       "<text text-anchor=\"middle\" x=\"74.5\" y=\"-54.8\" font-family=\"Times,serif\" font-size=\"14.00\" fill=\"#000000\"> * </text>\n",
       "</g>\n",
       "<!-- 3&#45;&gt;7 -->\n",
       "<g id=\"edge7\" class=\"edge\">\n",
       "<title>3&#45;&gt;7</title>\n",
       "<path fill=\"none\" stroke=\"#000000\" d=\"M74.5,-101.9748C74.5,-95.195 74.5,-84.966 74.5,-76.1331\"/>\n",
       "<polygon fill=\"#000000\" stroke=\"#000000\" points=\"78.0001,-76.0561 74.5,-66.0561 71.0001,-76.0561 78.0001,-76.0561\"/>\n",
       "</g>\n",
       "<!-- 8 -->\n",
       "<g id=\"node9\" class=\"node\">\n",
       "<title>8</title>\n",
       "<text text-anchor=\"middle\" x=\"121.5\" y=\"-54.8\" font-family=\"Times,serif\" font-size=\"14.00\" fill=\"#000000\">&lt;term&gt;</text>\n",
       "</g>\n",
       "<!-- 3&#45;&gt;8 -->\n",
       "<g id=\"edge8\" class=\"edge\">\n",
       "<title>3&#45;&gt;8</title>\n",
       "<path fill=\"none\" stroke=\"#000000\" d=\"M81.435,-101.9748C88.3079,-94.517 99.0269,-82.8857 107.6488,-73.53\"/>\n",
       "<polygon fill=\"#000000\" stroke=\"#000000\" points=\"110.3334,-75.7816 114.5365,-66.0561 105.1859,-71.0378 110.3334,-75.7816\"/>\n",
       "</g>\n",
       "<!-- 5 -->\n",
       "<g id=\"node6\" class=\"node\">\n",
       "<title>5</title>\n",
       "<text text-anchor=\"middle\" x=\"2.5\" y=\"-3.8\" font-family=\"Times,serif\" font-size=\"14.00\" fill=\"#000000\">&#45;</text>\n",
       "</g>\n",
       "<!-- 4&#45;&gt;5 -->\n",
       "<g id=\"edge5\" class=\"edge\">\n",
       "<title>4&#45;&gt;5</title>\n",
       "<path fill=\"none\" stroke=\"#000000\" d=\"M21.2538,-50.9748C18.058,-43.5663 13.0857,-32.0395 9.0638,-22.716\"/>\n",
       "<polygon fill=\"#000000\" stroke=\"#000000\" points=\"12.2469,-21.2585 5.0721,-13.4627 5.8194,-24.0311 12.2469,-21.2585\"/>\n",
       "</g>\n",
       "<!-- 6 -->\n",
       "<g id=\"node7\" class=\"node\">\n",
       "<title>6</title>\n",
       "<text text-anchor=\"middle\" x=\"47.5\" y=\"-3.8\" font-family=\"Times,serif\" font-size=\"14.00\" fill=\"#000000\">&lt;factor&gt;</text>\n",
       "</g>\n",
       "<!-- 4&#45;&gt;6 -->\n",
       "<g id=\"edge6\" class=\"edge\">\n",
       "<title>4&#45;&gt;6</title>\n",
       "<path fill=\"none\" stroke=\"#000000\" d=\"M27.8937,-50.9748C31.0532,-43.969 35.8736,-33.2803 39.944,-24.2547\"/>\n",
       "<polygon fill=\"#000000\" stroke=\"#000000\" points=\"43.1718,-25.6109 44.0923,-15.0561 36.7907,-22.7331 43.1718,-25.6109\"/>\n",
       "</g>\n",
       "</g>\n",
       "</svg>\n"
      ],
      "text/plain": [
       "<graphviz.dot.Digraph at 0x121c4a048>"
      ]
     },
     "metadata": {},
     "output_type": "display_data"
    }
   ],
   "source": [
    "if f.any_possible_expansions(derivation_tree):\n",
    "    derivation_tree = f.expand_tree_once(derivation_tree)\n",
    "    display_tree(derivation_tree)"
   ]
  },
  {
   "cell_type": "markdown",
   "metadata": {
    "slideshow": {
     "slide_type": "fragment"
    }
   },
   "source": [
    "We see that with each step, the number of nonterminals increases.  Obviously, we have to put a limit on this number."
   ]
  },
  {
   "cell_type": "markdown",
   "metadata": {
    "button": false,
    "new_sheet": false,
    "run_control": {
     "read_only": false
    },
    "slideshow": {
     "slide_type": "slide"
    }
   },
   "source": [
    "## Three Expansion Phases\n",
    "\n",
    "We can now put all three phases together in a single function `expand_tree()` which will work as follows:\n",
    "\n",
    "1. **Max cost expansion.** Expand the tree using expansions with maximum cost until we have at least `min_nonterminals` nonterminals.  This phase can be easily skipped by setting `min_nonterminals` to zero.\n",
    "2. **Random expansion.**  Keep on expanding the tree randomly until we reach `max_nonterminals` nonterminals.\n",
    "3. **Min cost expansion.** Close the expansion with minimum cost.\n",
    "\n",
    "We implement these three phases by having `expand_node` reference the expansion method to apply.  This is controlled by setting `expand_node` (the method reference) to first `expand_node_max_cost` (i.e., calling `expand_node()` invokes `expand_node_max_cost()`), then `expand_node_randomly`, and finally `expand_node_min_cost`.  In the first two phases, we also set a maximum limit of `min_nonterminals` and `max_nonterminals`, respectively."
   ]
  },
  {
   "cell_type": "code",
   "execution_count": 73,
   "metadata": {
    "button": false,
    "new_sheet": false,
    "run_control": {
     "read_only": false
    },
    "slideshow": {
     "slide_type": "subslide"
    }
   },
   "outputs": [],
   "source": [
    "class GrammarFuzzer(GrammarFuzzer):\n",
    "    def log_tree(self, tree):\n",
    "        \"\"\"Output a tree if self.log is set; if self.display is also set, show the tree structure\"\"\"\n",
    "        if self.log:\n",
    "            print(\"Tree:\", all_terminals(tree))\n",
    "            if self.disp:\n",
    "                display_tree(tree)\n",
    "            # print(self.possible_expansions(tree), \"possible expansion(s) left\")\n",
    "\n",
    "    def expand_tree_with_strategy(self, tree, expand_node_method, limit=None):\n",
    "        \"\"\"Expand tree using `expand_node_method` as node expansion function\n",
    "        until the number of possible expansions reaches `limit`.\"\"\"\n",
    "        self.expand_node = expand_node_method\n",
    "        while (limit is None or self.possible_expansions(tree)\n",
    "               < limit) and self.any_possible_expansions(tree):\n",
    "            tree = self.expand_tree_once(tree)\n",
    "            self.log_tree(tree)\n",
    "        return tree\n",
    "\n",
    "    def expand_tree(self, tree):\n",
    "        \"\"\"Expand `tree` in a three-phase strategy until all expansions are complete.\"\"\"\n",
    "        self.log_tree(tree)\n",
    "        tree = self.expand_tree_with_strategy(\n",
    "            tree, self.expand_node_max_cost, self.min_nonterminals)\n",
    "        tree = self.expand_tree_with_strategy(\n",
    "            tree, self.expand_node_randomly, self.max_nonterminals)\n",
    "        tree = self.expand_tree_with_strategy(tree, self.expand_node_min_cost)\n",
    "\n",
    "        assert self.possible_expansions(tree) == 0\n",
    "\n",
    "        return tree\n"
   ]
  },
  {
   "cell_type": "markdown",
   "metadata": {
    "slideshow": {
     "slide_type": "subslide"
    }
   },
   "source": [
    "Let us try this out on our example."
   ]
  },
  {
   "cell_type": "code",
   "execution_count": 74,
   "metadata": {
    "button": false,
    "new_sheet": false,
    "run_control": {
     "read_only": false
    },
    "slideshow": {
     "slide_type": "subslide"
    }
   },
   "outputs": [
    {
     "name": "stdout",
     "output_type": "stream",
     "text": [
      "Tree: <expr> + <term>\n",
      "Expanding <term> at maximum cost\n",
      "Tree: <expr> + <factor> / <term>\n",
      "Expanding <term> randomly\n",
      "Tree: <expr> + <factor> / <factor>\n",
      "Expanding <expr> randomly\n",
      "Tree: <term> + <expr> + <factor> / <factor>\n",
      "Expanding <expr> randomly\n",
      "Tree: <term> + <term> - <expr> + <factor> / <factor>\n",
      "Expanding <term> at minimum cost\n",
      "Tree: <term> + <factor> - <expr> + <factor> / <factor>\n",
      "Expanding <factor> at minimum cost\n",
      "Tree: <term> + <integer> - <expr> + <factor> / <factor>\n",
      "Expanding <factor> at minimum cost\n",
      "Tree: <term> + <integer> - <expr> + <factor> / <integer>\n",
      "Expanding <factor> at minimum cost\n",
      "Tree: <term> + <integer> - <expr> + <integer> / <integer>\n",
      "Expanding <integer> at minimum cost\n",
      "Tree: <term> + <integer> - <expr> + <integer> / <digit>\n",
      "Expanding <digit> at minimum cost\n",
      "Tree: <term> + <integer> - <expr> + <integer> / 5\n",
      "Expanding <integer> at minimum cost\n",
      "Tree: <term> + <integer> - <expr> + <digit> / 5\n",
      "Expanding <digit> at minimum cost\n",
      "Tree: <term> + <integer> - <expr> + 0 / 5\n",
      "Expanding <integer> at minimum cost\n",
      "Tree: <term> + <digit> - <expr> + 0 / 5\n",
      "Expanding <term> at minimum cost\n",
      "Tree: <factor> + <digit> - <expr> + 0 / 5\n",
      "Expanding <factor> at minimum cost\n",
      "Tree: <integer> + <digit> - <expr> + 0 / 5\n",
      "Expanding <expr> at minimum cost\n",
      "Tree: <integer> + <digit> - <term> + 0 / 5\n",
      "Expanding <integer> at minimum cost\n",
      "Tree: <digit> + <digit> - <term> + 0 / 5\n",
      "Expanding <digit> at minimum cost\n",
      "Tree: 4 + <digit> - <term> + 0 / 5\n",
      "Expanding <term> at minimum cost\n",
      "Tree: 4 + <digit> - <factor> + 0 / 5\n",
      "Expanding <digit> at minimum cost\n",
      "Tree: 4 + 5 - <factor> + 0 / 5\n",
      "Expanding <factor> at minimum cost\n",
      "Tree: 4 + 5 - <integer> + 0 / 5\n",
      "Expanding <integer> at minimum cost\n",
      "Tree: 4 + 5 - <digit> + 0 / 5\n",
      "Expanding <digit> at minimum cost\n",
      "Tree: 4 + 5 - 7 + 0 / 5\n"
     ]
    }
   ],
   "source": [
    "derivation_tree = (\"<start>\",\n",
    "                   [(\"<expr>\",\n",
    "                     [(\"<expr>\", None),\n",
    "                      (\" + \", []),\n",
    "                         (\"<term>\", None)]\n",
    "                     )])\n",
    "\n",
    "f = GrammarFuzzer(\n",
    "    EXPR_GRAMMAR,\n",
    "    min_nonterminals=3,\n",
    "    max_nonterminals=5,\n",
    "    log=True)\n",
    "derivation_tree = f.expand_tree(derivation_tree)"
   ]
  },
  {
   "cell_type": "code",
   "execution_count": 75,
   "metadata": {
    "button": false,
    "new_sheet": false,
    "run_control": {
     "read_only": false
    },
    "slideshow": {
     "slide_type": "subslide"
    }
   },
   "outputs": [
    {
     "data": {
      "image/svg+xml": [
       "<?xml version=\"1.0\" encoding=\"UTF-8\" standalone=\"no\"?>\n",
       "<!DOCTYPE svg PUBLIC \"-//W3C//DTD SVG 1.1//EN\"\n",
       " \"http://www.w3.org/Graphics/SVG/1.1/DTD/svg11.dtd\">\n",
       "<!-- Generated by graphviz version 2.40.1 (20161225.0304)\n",
       " -->\n",
       "<!-- Title: %3 Pages: 1 -->\n",
       "<svg width=\"368pt\" height=\"482pt\"\n",
       " viewBox=\"0.00 0.00 368.00 482.00\" xmlns=\"http://www.w3.org/2000/svg\" xmlns:xlink=\"http://www.w3.org/1999/xlink\">\n",
       "<g id=\"graph0\" class=\"graph\" transform=\"scale(1 1) rotate(0) translate(4 478)\">\n",
       "<title>%3</title>\n",
       "<polygon fill=\"#ffffff\" stroke=\"transparent\" points=\"-4,4 -4,-478 364,-478 364,4 -4,4\"/>\n",
       "<!-- 0 -->\n",
       "<g id=\"node1\" class=\"node\">\n",
       "<title>0</title>\n",
       "<text text-anchor=\"middle\" x=\"194.5\" y=\"-462.8\" font-family=\"Times,serif\" font-size=\"14.00\" fill=\"#000000\">&lt;start&gt;</text>\n",
       "</g>\n",
       "<!-- 1 -->\n",
       "<g id=\"node2\" class=\"node\">\n",
       "<title>1</title>\n",
       "<text text-anchor=\"middle\" x=\"194.5\" y=\"-411.8\" font-family=\"Times,serif\" font-size=\"14.00\" fill=\"#000000\">&lt;expr&gt;</text>\n",
       "</g>\n",
       "<!-- 0&#45;&gt;1 -->\n",
       "<g id=\"edge1\" class=\"edge\">\n",
       "<title>0&#45;&gt;1</title>\n",
       "<path fill=\"none\" stroke=\"#000000\" d=\"M194.5,-458.9748C194.5,-452.195 194.5,-441.966 194.5,-433.1331\"/>\n",
       "<polygon fill=\"#000000\" stroke=\"#000000\" points=\"198.0001,-433.0561 194.5,-423.0561 191.0001,-433.0561 198.0001,-433.0561\"/>\n",
       "</g>\n",
       "<!-- 2 -->\n",
       "<g id=\"node3\" class=\"node\">\n",
       "<title>2</title>\n",
       "<text text-anchor=\"middle\" x=\"128.5\" y=\"-360.8\" font-family=\"Times,serif\" font-size=\"14.00\" fill=\"#000000\">&lt;expr&gt;</text>\n",
       "</g>\n",
       "<!-- 1&#45;&gt;2 -->\n",
       "<g id=\"edge2\" class=\"edge\">\n",
       "<title>1&#45;&gt;2</title>\n",
       "<path fill=\"none\" stroke=\"#000000\" d=\"M184.7615,-407.9748C174.7203,-400.2157 158.8329,-387.939 146.498,-378.4075\"/>\n",
       "<polygon fill=\"#000000\" stroke=\"#000000\" points=\"148.3314,-375.4011 138.2785,-372.0561 144.0513,-380.9401 148.3314,-375.4011\"/>\n",
       "</g>\n",
       "<!-- 22 -->\n",
       "<g id=\"node23\" class=\"node\">\n",
       "<title>22</title>\n",
       "<text text-anchor=\"middle\" x=\"194.5\" y=\"-360.8\" font-family=\"Times,serif\" font-size=\"14.00\" fill=\"#000000\"> + </text>\n",
       "</g>\n",
       "<!-- 1&#45;&gt;22 -->\n",
       "<g id=\"edge22\" class=\"edge\">\n",
       "<title>1&#45;&gt;22</title>\n",
       "<path fill=\"none\" stroke=\"#000000\" d=\"M194.5,-407.9748C194.5,-401.195 194.5,-390.966 194.5,-382.1331\"/>\n",
       "<polygon fill=\"#000000\" stroke=\"#000000\" points=\"198.0001,-382.0561 194.5,-372.0561 191.0001,-382.0561 198.0001,-382.0561\"/>\n",
       "</g>\n",
       "<!-- 23 -->\n",
       "<g id=\"node24\" class=\"node\">\n",
       "<title>23</title>\n",
       "<text text-anchor=\"middle\" x=\"251.5\" y=\"-360.8\" font-family=\"Times,serif\" font-size=\"14.00\" fill=\"#000000\">&lt;term&gt;</text>\n",
       "</g>\n",
       "<!-- 1&#45;&gt;23 -->\n",
       "<g id=\"edge23\" class=\"edge\">\n",
       "<title>1&#45;&gt;23</title>\n",
       "<path fill=\"none\" stroke=\"#000000\" d=\"M202.9105,-407.9748C211.4141,-400.3663 224.7725,-388.4141 235.3323,-378.9658\"/>\n",
       "<polygon fill=\"#000000\" stroke=\"#000000\" points=\"237.9363,-381.3324 243.0549,-372.0561 233.2687,-376.1157 237.9363,-381.3324\"/>\n",
       "</g>\n",
       "<!-- 3 -->\n",
       "<g id=\"node4\" class=\"node\">\n",
       "<title>3</title>\n",
       "<text text-anchor=\"middle\" x=\"39.5\" y=\"-309.8\" font-family=\"Times,serif\" font-size=\"14.00\" fill=\"#000000\">&lt;term&gt;</text>\n",
       "</g>\n",
       "<!-- 2&#45;&gt;3 -->\n",
       "<g id=\"edge3\" class=\"edge\">\n",
       "<title>2&#45;&gt;3</title>\n",
       "<path fill=\"none\" stroke=\"#000000\" d=\"M115.3677,-356.9748C101.17,-348.839 78.3048,-335.7365 61.3829,-326.0397\"/>\n",
       "<polygon fill=\"#000000\" stroke=\"#000000\" points=\"63.1028,-322.9913 52.6861,-321.0561 59.6224,-329.0648 63.1028,-322.9913\"/>\n",
       "</g>\n",
       "<!-- 8 -->\n",
       "<g id=\"node9\" class=\"node\">\n",
       "<title>8</title>\n",
       "<text text-anchor=\"middle\" x=\"94.5\" y=\"-309.8\" font-family=\"Times,serif\" font-size=\"14.00\" fill=\"#000000\"> + </text>\n",
       "</g>\n",
       "<!-- 2&#45;&gt;8 -->\n",
       "<g id=\"edge8\" class=\"edge\">\n",
       "<title>2&#45;&gt;8</title>\n",
       "<path fill=\"none\" stroke=\"#000000\" d=\"M123.4832,-356.9748C118.662,-349.743 111.2246,-338.5868 105.0911,-329.3866\"/>\n",
       "<polygon fill=\"#000000\" stroke=\"#000000\" points=\"107.9966,-327.4352 99.5374,-321.0561 102.1723,-331.3181 107.9966,-327.4352\"/>\n",
       "</g>\n",
       "<!-- 9 -->\n",
       "<g id=\"node10\" class=\"node\">\n",
       "<title>9</title>\n",
       "<text text-anchor=\"middle\" x=\"140.5\" y=\"-309.8\" font-family=\"Times,serif\" font-size=\"14.00\" fill=\"#000000\">&lt;expr&gt;</text>\n",
       "</g>\n",
       "<!-- 2&#45;&gt;9 -->\n",
       "<g id=\"edge9\" class=\"edge\">\n",
       "<title>2&#45;&gt;9</title>\n",
       "<path fill=\"none\" stroke=\"#000000\" d=\"M130.2706,-356.9748C131.8836,-350.1196 134.3263,-339.7383 136.4202,-330.8392\"/>\n",
       "<polygon fill=\"#000000\" stroke=\"#000000\" points=\"139.8386,-331.5919 138.7221,-321.0561 133.0247,-329.9886 139.8386,-331.5919\"/>\n",
       "</g>\n",
       "<!-- 4 -->\n",
       "<g id=\"node5\" class=\"node\">\n",
       "<title>4</title>\n",
       "<text text-anchor=\"middle\" x=\"30.5\" y=\"-258.8\" font-family=\"Times,serif\" font-size=\"14.00\" fill=\"#000000\">&lt;factor&gt;</text>\n",
       "</g>\n",
       "<!-- 3&#45;&gt;4 -->\n",
       "<g id=\"edge4\" class=\"edge\">\n",
       "<title>3&#45;&gt;4</title>\n",
       "<path fill=\"none\" stroke=\"#000000\" d=\"M38.172,-305.9748C36.9756,-299.195 35.1705,-288.966 33.6117,-280.1331\"/>\n",
       "<polygon fill=\"#000000\" stroke=\"#000000\" points=\"37.0181,-279.2957 31.8334,-270.0561 30.1246,-280.5122 37.0181,-279.2957\"/>\n",
       "</g>\n",
       "<!-- 5 -->\n",
       "<g id=\"node6\" class=\"node\">\n",
       "<title>5</title>\n",
       "<text text-anchor=\"middle\" x=\"27.5\" y=\"-207.8\" font-family=\"Times,serif\" font-size=\"14.00\" fill=\"#000000\">&lt;integer&gt;</text>\n",
       "</g>\n",
       "<!-- 4&#45;&gt;5 -->\n",
       "<g id=\"edge5\" class=\"edge\">\n",
       "<title>4&#45;&gt;5</title>\n",
       "<path fill=\"none\" stroke=\"#000000\" d=\"M30.0573,-254.9748C29.6585,-248.195 29.0568,-237.966 28.5372,-229.1331\"/>\n",
       "<polygon fill=\"#000000\" stroke=\"#000000\" points=\"32.0258,-228.8333 27.9445,-219.0561 25.0378,-229.2444 32.0258,-228.8333\"/>\n",
       "</g>\n",
       "<!-- 6 -->\n",
       "<g id=\"node7\" class=\"node\">\n",
       "<title>6</title>\n",
       "<text text-anchor=\"middle\" x=\"27.5\" y=\"-156.8\" font-family=\"Times,serif\" font-size=\"14.00\" fill=\"#000000\">&lt;digit&gt;</text>\n",
       "</g>\n",
       "<!-- 5&#45;&gt;6 -->\n",
       "<g id=\"edge6\" class=\"edge\">\n",
       "<title>5&#45;&gt;6</title>\n",
       "<path fill=\"none\" stroke=\"#000000\" d=\"M27.5,-203.9748C27.5,-197.195 27.5,-186.966 27.5,-178.1331\"/>\n",
       "<polygon fill=\"#000000\" stroke=\"#000000\" points=\"31.0001,-178.0561 27.5,-168.0561 24.0001,-178.0561 31.0001,-178.0561\"/>\n",
       "</g>\n",
       "<!-- 7 -->\n",
       "<g id=\"node8\" class=\"node\">\n",
       "<title>7</title>\n",
       "<text text-anchor=\"middle\" x=\"27.5\" y=\"-105.8\" font-family=\"Times,serif\" font-size=\"14.00\" fill=\"#000000\">4</text>\n",
       "</g>\n",
       "<!-- 6&#45;&gt;7 -->\n",
       "<g id=\"edge7\" class=\"edge\">\n",
       "<title>6&#45;&gt;7</title>\n",
       "<path fill=\"none\" stroke=\"#000000\" d=\"M27.5,-152.9748C27.5,-146.195 27.5,-135.966 27.5,-127.1331\"/>\n",
       "<polygon fill=\"#000000\" stroke=\"#000000\" points=\"31.0001,-127.0561 27.5,-117.0561 24.0001,-127.0561 31.0001,-127.0561\"/>\n",
       "</g>\n",
       "<!-- 10 -->\n",
       "<g id=\"node11\" class=\"node\">\n",
       "<title>10</title>\n",
       "<text text-anchor=\"middle\" x=\"95.5\" y=\"-258.8\" font-family=\"Times,serif\" font-size=\"14.00\" fill=\"#000000\">&lt;term&gt;</text>\n",
       "</g>\n",
       "<!-- 9&#45;&gt;10 -->\n",
       "<g id=\"edge10\" class=\"edge\">\n",
       "<title>9&#45;&gt;10</title>\n",
       "<path fill=\"none\" stroke=\"#000000\" d=\"M133.8601,-305.9748C127.3462,-298.5923 117.2238,-287.1203 109.0125,-277.8142\"/>\n",
       "<polygon fill=\"#000000\" stroke=\"#000000\" points=\"111.4078,-275.2388 102.1671,-270.0561 106.159,-279.8702 111.4078,-275.2388\"/>\n",
       "</g>\n",
       "<!-- 15 -->\n",
       "<g id=\"node16\" class=\"node\">\n",
       "<title>15</title>\n",
       "<text text-anchor=\"middle\" x=\"140.5\" y=\"-258.8\" font-family=\"Times,serif\" font-size=\"14.00\" fill=\"#000000\"> &#45; </text>\n",
       "</g>\n",
       "<!-- 9&#45;&gt;15 -->\n",
       "<g id=\"edge15\" class=\"edge\">\n",
       "<title>9&#45;&gt;15</title>\n",
       "<path fill=\"none\" stroke=\"#000000\" d=\"M140.5,-305.9748C140.5,-299.195 140.5,-288.966 140.5,-280.1331\"/>\n",
       "<polygon fill=\"#000000\" stroke=\"#000000\" points=\"144.0001,-280.0561 140.5,-270.0561 137.0001,-280.0561 144.0001,-280.0561\"/>\n",
       "</g>\n",
       "<!-- 16 -->\n",
       "<g id=\"node17\" class=\"node\">\n",
       "<title>16</title>\n",
       "<text text-anchor=\"middle\" x=\"185.5\" y=\"-258.8\" font-family=\"Times,serif\" font-size=\"14.00\" fill=\"#000000\">&lt;expr&gt;</text>\n",
       "</g>\n",
       "<!-- 9&#45;&gt;16 -->\n",
       "<g id=\"edge16\" class=\"edge\">\n",
       "<title>9&#45;&gt;16</title>\n",
       "<path fill=\"none\" stroke=\"#000000\" d=\"M147.1399,-305.9748C153.6538,-298.5923 163.7762,-287.1203 171.9875,-277.8142\"/>\n",
       "<polygon fill=\"#000000\" stroke=\"#000000\" points=\"174.841,-279.8702 178.8329,-270.0561 169.5922,-275.2388 174.841,-279.8702\"/>\n",
       "</g>\n",
       "<!-- 11 -->\n",
       "<g id=\"node12\" class=\"node\">\n",
       "<title>11</title>\n",
       "<text text-anchor=\"middle\" x=\"97.5\" y=\"-207.8\" font-family=\"Times,serif\" font-size=\"14.00\" fill=\"#000000\">&lt;factor&gt;</text>\n",
       "</g>\n",
       "<!-- 10&#45;&gt;11 -->\n",
       "<g id=\"edge11\" class=\"edge\">\n",
       "<title>10&#45;&gt;11</title>\n",
       "<path fill=\"none\" stroke=\"#000000\" d=\"M95.7951,-254.9748C96.061,-248.195 96.4621,-237.966 96.8085,-229.1331\"/>\n",
       "<polygon fill=\"#000000\" stroke=\"#000000\" points=\"100.309,-229.1856 97.2037,-219.0561 93.3144,-228.9112 100.309,-229.1856\"/>\n",
       "</g>\n",
       "<!-- 12 -->\n",
       "<g id=\"node13\" class=\"node\">\n",
       "<title>12</title>\n",
       "<text text-anchor=\"middle\" x=\"97.5\" y=\"-156.8\" font-family=\"Times,serif\" font-size=\"14.00\" fill=\"#000000\">&lt;integer&gt;</text>\n",
       "</g>\n",
       "<!-- 11&#45;&gt;12 -->\n",
       "<g id=\"edge12\" class=\"edge\">\n",
       "<title>11&#45;&gt;12</title>\n",
       "<path fill=\"none\" stroke=\"#000000\" d=\"M97.5,-203.9748C97.5,-197.195 97.5,-186.966 97.5,-178.1331\"/>\n",
       "<polygon fill=\"#000000\" stroke=\"#000000\" points=\"101.0001,-178.0561 97.5,-168.0561 94.0001,-178.0561 101.0001,-178.0561\"/>\n",
       "</g>\n",
       "<!-- 13 -->\n",
       "<g id=\"node14\" class=\"node\">\n",
       "<title>13</title>\n",
       "<text text-anchor=\"middle\" x=\"97.5\" y=\"-105.8\" font-family=\"Times,serif\" font-size=\"14.00\" fill=\"#000000\">&lt;digit&gt;</text>\n",
       "</g>\n",
       "<!-- 12&#45;&gt;13 -->\n",
       "<g id=\"edge13\" class=\"edge\">\n",
       "<title>12&#45;&gt;13</title>\n",
       "<path fill=\"none\" stroke=\"#000000\" d=\"M97.5,-152.9748C97.5,-146.195 97.5,-135.966 97.5,-127.1331\"/>\n",
       "<polygon fill=\"#000000\" stroke=\"#000000\" points=\"101.0001,-127.0561 97.5,-117.0561 94.0001,-127.0561 101.0001,-127.0561\"/>\n",
       "</g>\n",
       "<!-- 14 -->\n",
       "<g id=\"node15\" class=\"node\">\n",
       "<title>14</title>\n",
       "<text text-anchor=\"middle\" x=\"97.5\" y=\"-54.8\" font-family=\"Times,serif\" font-size=\"14.00\" fill=\"#000000\">5</text>\n",
       "</g>\n",
       "<!-- 13&#45;&gt;14 -->\n",
       "<g id=\"edge14\" class=\"edge\">\n",
       "<title>13&#45;&gt;14</title>\n",
       "<path fill=\"none\" stroke=\"#000000\" d=\"M97.5,-101.9748C97.5,-95.195 97.5,-84.966 97.5,-76.1331\"/>\n",
       "<polygon fill=\"#000000\" stroke=\"#000000\" points=\"101.0001,-76.0561 97.5,-66.0561 94.0001,-76.0561 101.0001,-76.0561\"/>\n",
       "</g>\n",
       "<!-- 17 -->\n",
       "<g id=\"node18\" class=\"node\">\n",
       "<title>17</title>\n",
       "<text text-anchor=\"middle\" x=\"185.5\" y=\"-207.8\" font-family=\"Times,serif\" font-size=\"14.00\" fill=\"#000000\">&lt;term&gt;</text>\n",
       "</g>\n",
       "<!-- 16&#45;&gt;17 -->\n",
       "<g id=\"edge17\" class=\"edge\">\n",
       "<title>16&#45;&gt;17</title>\n",
       "<path fill=\"none\" stroke=\"#000000\" d=\"M185.5,-254.9748C185.5,-248.195 185.5,-237.966 185.5,-229.1331\"/>\n",
       "<polygon fill=\"#000000\" stroke=\"#000000\" points=\"189.0001,-229.0561 185.5,-219.0561 182.0001,-229.0561 189.0001,-229.0561\"/>\n",
       "</g>\n",
       "<!-- 18 -->\n",
       "<g id=\"node19\" class=\"node\">\n",
       "<title>18</title>\n",
       "<text text-anchor=\"middle\" x=\"185.5\" y=\"-156.8\" font-family=\"Times,serif\" font-size=\"14.00\" fill=\"#000000\">&lt;factor&gt;</text>\n",
       "</g>\n",
       "<!-- 17&#45;&gt;18 -->\n",
       "<g id=\"edge18\" class=\"edge\">\n",
       "<title>17&#45;&gt;18</title>\n",
       "<path fill=\"none\" stroke=\"#000000\" d=\"M185.5,-203.9748C185.5,-197.195 185.5,-186.966 185.5,-178.1331\"/>\n",
       "<polygon fill=\"#000000\" stroke=\"#000000\" points=\"189.0001,-178.0561 185.5,-168.0561 182.0001,-178.0561 189.0001,-178.0561\"/>\n",
       "</g>\n",
       "<!-- 19 -->\n",
       "<g id=\"node20\" class=\"node\">\n",
       "<title>19</title>\n",
       "<text text-anchor=\"middle\" x=\"185.5\" y=\"-105.8\" font-family=\"Times,serif\" font-size=\"14.00\" fill=\"#000000\">&lt;integer&gt;</text>\n",
       "</g>\n",
       "<!-- 18&#45;&gt;19 -->\n",
       "<g id=\"edge19\" class=\"edge\">\n",
       "<title>18&#45;&gt;19</title>\n",
       "<path fill=\"none\" stroke=\"#000000\" d=\"M185.5,-152.9748C185.5,-146.195 185.5,-135.966 185.5,-127.1331\"/>\n",
       "<polygon fill=\"#000000\" stroke=\"#000000\" points=\"189.0001,-127.0561 185.5,-117.0561 182.0001,-127.0561 189.0001,-127.0561\"/>\n",
       "</g>\n",
       "<!-- 20 -->\n",
       "<g id=\"node21\" class=\"node\">\n",
       "<title>20</title>\n",
       "<text text-anchor=\"middle\" x=\"185.5\" y=\"-54.8\" font-family=\"Times,serif\" font-size=\"14.00\" fill=\"#000000\">&lt;digit&gt;</text>\n",
       "</g>\n",
       "<!-- 19&#45;&gt;20 -->\n",
       "<g id=\"edge20\" class=\"edge\">\n",
       "<title>19&#45;&gt;20</title>\n",
       "<path fill=\"none\" stroke=\"#000000\" d=\"M185.5,-101.9748C185.5,-95.195 185.5,-84.966 185.5,-76.1331\"/>\n",
       "<polygon fill=\"#000000\" stroke=\"#000000\" points=\"189.0001,-76.0561 185.5,-66.0561 182.0001,-76.0561 189.0001,-76.0561\"/>\n",
       "</g>\n",
       "<!-- 21 -->\n",
       "<g id=\"node22\" class=\"node\">\n",
       "<title>21</title>\n",
       "<text text-anchor=\"middle\" x=\"185.5\" y=\"-3.8\" font-family=\"Times,serif\" font-size=\"14.00\" fill=\"#000000\">7</text>\n",
       "</g>\n",
       "<!-- 20&#45;&gt;21 -->\n",
       "<g id=\"edge21\" class=\"edge\">\n",
       "<title>20&#45;&gt;21</title>\n",
       "<path fill=\"none\" stroke=\"#000000\" d=\"M185.5,-50.9748C185.5,-44.195 185.5,-33.966 185.5,-25.1331\"/>\n",
       "<polygon fill=\"#000000\" stroke=\"#000000\" points=\"189.0001,-25.0561 185.5,-15.0561 182.0001,-25.0561 189.0001,-25.0561\"/>\n",
       "</g>\n",
       "<!-- 24 -->\n",
       "<g id=\"node25\" class=\"node\">\n",
       "<title>24</title>\n",
       "<text text-anchor=\"middle\" x=\"239.5\" y=\"-309.8\" font-family=\"Times,serif\" font-size=\"14.00\" fill=\"#000000\">&lt;factor&gt;</text>\n",
       "</g>\n",
       "<!-- 23&#45;&gt;24 -->\n",
       "<g id=\"edge24\" class=\"edge\">\n",
       "<title>23&#45;&gt;24</title>\n",
       "<path fill=\"none\" stroke=\"#000000\" d=\"M249.7294,-356.9748C248.1164,-350.1196 245.6737,-339.7383 243.5798,-330.8392\"/>\n",
       "<polygon fill=\"#000000\" stroke=\"#000000\" points=\"246.9753,-329.9886 241.2779,-321.0561 240.1614,-331.5919 246.9753,-329.9886\"/>\n",
       "</g>\n",
       "<!-- 28 -->\n",
       "<g id=\"node29\" class=\"node\">\n",
       "<title>28</title>\n",
       "<text text-anchor=\"middle\" x=\"287.5\" y=\"-309.8\" font-family=\"Times,serif\" font-size=\"14.00\" fill=\"#000000\"> / </text>\n",
       "</g>\n",
       "<!-- 23&#45;&gt;28 -->\n",
       "<g id=\"edge28\" class=\"edge\">\n",
       "<title>23&#45;&gt;28</title>\n",
       "<path fill=\"none\" stroke=\"#000000\" d=\"M256.8119,-356.9748C261.9167,-349.743 269.7916,-338.5868 276.2859,-329.3866\"/>\n",
       "<polygon fill=\"#000000\" stroke=\"#000000\" points=\"279.2588,-331.2442 282.1663,-321.0561 273.54,-327.2074 279.2588,-331.2442\"/>\n",
       "</g>\n",
       "<!-- 29 -->\n",
       "<g id=\"node30\" class=\"node\">\n",
       "<title>29</title>\n",
       "<text text-anchor=\"middle\" x=\"332.5\" y=\"-309.8\" font-family=\"Times,serif\" font-size=\"14.00\" fill=\"#000000\">&lt;term&gt;</text>\n",
       "</g>\n",
       "<!-- 23&#45;&gt;29 -->\n",
       "<g id=\"edge29\" class=\"edge\">\n",
       "<title>23&#45;&gt;29</title>\n",
       "<path fill=\"none\" stroke=\"#000000\" d=\"M263.4518,-356.9748C276.1341,-348.9897 296.4152,-336.22 311.723,-326.5818\"/>\n",
       "<polygon fill=\"#000000\" stroke=\"#000000\" points=\"313.9017,-329.3461 320.4991,-321.0561 310.1719,-323.4225 313.9017,-329.3461\"/>\n",
       "</g>\n",
       "<!-- 25 -->\n",
       "<g id=\"node26\" class=\"node\">\n",
       "<title>25</title>\n",
       "<text text-anchor=\"middle\" x=\"251.5\" y=\"-258.8\" font-family=\"Times,serif\" font-size=\"14.00\" fill=\"#000000\">&lt;integer&gt;</text>\n",
       "</g>\n",
       "<!-- 24&#45;&gt;25 -->\n",
       "<g id=\"edge25\" class=\"edge\">\n",
       "<title>24&#45;&gt;25</title>\n",
       "<path fill=\"none\" stroke=\"#000000\" d=\"M241.2706,-305.9748C242.8836,-299.1196 245.3263,-288.7383 247.4202,-279.8392\"/>\n",
       "<polygon fill=\"#000000\" stroke=\"#000000\" points=\"250.8386,-280.5919 249.7221,-270.0561 244.0247,-278.9886 250.8386,-280.5919\"/>\n",
       "</g>\n",
       "<!-- 26 -->\n",
       "<g id=\"node27\" class=\"node\">\n",
       "<title>26</title>\n",
       "<text text-anchor=\"middle\" x=\"251.5\" y=\"-207.8\" font-family=\"Times,serif\" font-size=\"14.00\" fill=\"#000000\">&lt;digit&gt;</text>\n",
       "</g>\n",
       "<!-- 25&#45;&gt;26 -->\n",
       "<g id=\"edge26\" class=\"edge\">\n",
       "<title>25&#45;&gt;26</title>\n",
       "<path fill=\"none\" stroke=\"#000000\" d=\"M251.5,-254.9748C251.5,-248.195 251.5,-237.966 251.5,-229.1331\"/>\n",
       "<polygon fill=\"#000000\" stroke=\"#000000\" points=\"255.0001,-229.0561 251.5,-219.0561 248.0001,-229.0561 255.0001,-229.0561\"/>\n",
       "</g>\n",
       "<!-- 27 -->\n",
       "<g id=\"node28\" class=\"node\">\n",
       "<title>27</title>\n",
       "<text text-anchor=\"middle\" x=\"251.5\" y=\"-156.8\" font-family=\"Times,serif\" font-size=\"14.00\" fill=\"#000000\">0</text>\n",
       "</g>\n",
       "<!-- 26&#45;&gt;27 -->\n",
       "<g id=\"edge27\" class=\"edge\">\n",
       "<title>26&#45;&gt;27</title>\n",
       "<path fill=\"none\" stroke=\"#000000\" d=\"M251.5,-203.9748C251.5,-197.195 251.5,-186.966 251.5,-178.1331\"/>\n",
       "<polygon fill=\"#000000\" stroke=\"#000000\" points=\"255.0001,-178.0561 251.5,-168.0561 248.0001,-178.0561 255.0001,-178.0561\"/>\n",
       "</g>\n",
       "<!-- 30 -->\n",
       "<g id=\"node31\" class=\"node\">\n",
       "<title>30</title>\n",
       "<text text-anchor=\"middle\" x=\"332.5\" y=\"-258.8\" font-family=\"Times,serif\" font-size=\"14.00\" fill=\"#000000\">&lt;factor&gt;</text>\n",
       "</g>\n",
       "<!-- 29&#45;&gt;30 -->\n",
       "<g id=\"edge30\" class=\"edge\">\n",
       "<title>29&#45;&gt;30</title>\n",
       "<path fill=\"none\" stroke=\"#000000\" d=\"M332.5,-305.9748C332.5,-299.195 332.5,-288.966 332.5,-280.1331\"/>\n",
       "<polygon fill=\"#000000\" stroke=\"#000000\" points=\"336.0001,-280.0561 332.5,-270.0561 329.0001,-280.0561 336.0001,-280.0561\"/>\n",
       "</g>\n",
       "<!-- 31 -->\n",
       "<g id=\"node32\" class=\"node\">\n",
       "<title>31</title>\n",
       "<text text-anchor=\"middle\" x=\"332.5\" y=\"-207.8\" font-family=\"Times,serif\" font-size=\"14.00\" fill=\"#000000\">&lt;integer&gt;</text>\n",
       "</g>\n",
       "<!-- 30&#45;&gt;31 -->\n",
       "<g id=\"edge31\" class=\"edge\">\n",
       "<title>30&#45;&gt;31</title>\n",
       "<path fill=\"none\" stroke=\"#000000\" d=\"M332.5,-254.9748C332.5,-248.195 332.5,-237.966 332.5,-229.1331\"/>\n",
       "<polygon fill=\"#000000\" stroke=\"#000000\" points=\"336.0001,-229.0561 332.5,-219.0561 329.0001,-229.0561 336.0001,-229.0561\"/>\n",
       "</g>\n",
       "<!-- 32 -->\n",
       "<g id=\"node33\" class=\"node\">\n",
       "<title>32</title>\n",
       "<text text-anchor=\"middle\" x=\"332.5\" y=\"-156.8\" font-family=\"Times,serif\" font-size=\"14.00\" fill=\"#000000\">&lt;digit&gt;</text>\n",
       "</g>\n",
       "<!-- 31&#45;&gt;32 -->\n",
       "<g id=\"edge32\" class=\"edge\">\n",
       "<title>31&#45;&gt;32</title>\n",
       "<path fill=\"none\" stroke=\"#000000\" d=\"M332.5,-203.9748C332.5,-197.195 332.5,-186.966 332.5,-178.1331\"/>\n",
       "<polygon fill=\"#000000\" stroke=\"#000000\" points=\"336.0001,-178.0561 332.5,-168.0561 329.0001,-178.0561 336.0001,-178.0561\"/>\n",
       "</g>\n",
       "<!-- 33 -->\n",
       "<g id=\"node34\" class=\"node\">\n",
       "<title>33</title>\n",
       "<text text-anchor=\"middle\" x=\"332.5\" y=\"-105.8\" font-family=\"Times,serif\" font-size=\"14.00\" fill=\"#000000\">5</text>\n",
       "</g>\n",
       "<!-- 32&#45;&gt;33 -->\n",
       "<g id=\"edge33\" class=\"edge\">\n",
       "<title>32&#45;&gt;33</title>\n",
       "<path fill=\"none\" stroke=\"#000000\" d=\"M332.5,-152.9748C332.5,-146.195 332.5,-135.966 332.5,-127.1331\"/>\n",
       "<polygon fill=\"#000000\" stroke=\"#000000\" points=\"336.0001,-127.0561 332.5,-117.0561 329.0001,-127.0561 336.0001,-127.0561\"/>\n",
       "</g>\n",
       "</g>\n",
       "</svg>\n"
      ],
      "text/plain": [
       "<graphviz.dot.Digraph at 0x121c554a8>"
      ]
     },
     "metadata": {},
     "output_type": "display_data"
    }
   ],
   "source": [
    "display_tree(derivation_tree)"
   ]
  },
  {
   "cell_type": "code",
   "execution_count": 76,
   "metadata": {
    "button": false,
    "new_sheet": false,
    "run_control": {
     "read_only": false
    },
    "slideshow": {
     "slide_type": "subslide"
    }
   },
   "outputs": [
    {
     "data": {
      "text/plain": [
       "'4 + 5 - 7 + 0 / 5'"
      ]
     },
     "execution_count": 76,
     "metadata": {},
     "output_type": "execute_result"
    }
   ],
   "source": [
    "all_terminals(derivation_tree)"
   ]
  },
  {
   "cell_type": "markdown",
   "metadata": {
    "slideshow": {
     "slide_type": "slide"
    }
   },
   "source": [
    "## Putting it all Together"
   ]
  },
  {
   "cell_type": "markdown",
   "metadata": {
    "button": false,
    "new_sheet": false,
    "run_control": {
     "read_only": false
    },
    "slideshow": {
     "slide_type": "fragment"
    }
   },
   "source": [
    "Based on this, we can now define a function `fuzz()` that – like `simple_grammar_fuzzer()` – simply takes a grammar and produces a string from it.  It thus no longer exposes the complexity of derivation trees."
   ]
  },
  {
   "cell_type": "code",
   "execution_count": 77,
   "metadata": {
    "button": false,
    "new_sheet": false,
    "run_control": {
     "read_only": false
    },
    "slideshow": {
     "slide_type": "fragment"
    }
   },
   "outputs": [],
   "source": [
    "class GrammarFuzzer(GrammarFuzzer):\n",
    "    def fuzz_tree(self):\n",
    "        # Create an initial derivation tree\n",
    "        tree = self.init_tree()\n",
    "        # print(tree)\n",
    "\n",
    "        # Expand all nonterminals\n",
    "        tree = self.expand_tree(tree)\n",
    "        if self.log:\n",
    "            print(repr(all_terminals(tree)))\n",
    "        if self.disp:\n",
    "            display_tree(tree)\n",
    "        return tree\n",
    "\n",
    "    def fuzz(self):\n",
    "        self.derivation_tree = self.fuzz_tree()\n",
    "        return all_terminals(self.derivation_tree)"
   ]
  },
  {
   "cell_type": "markdown",
   "metadata": {
    "button": false,
    "new_sheet": false,
    "run_control": {
     "read_only": false
    },
    "slideshow": {
     "slide_type": "subslide"
    }
   },
   "source": [
    "We can now apply this on all our defined grammars (and visualize the derivation tree along)"
   ]
  },
  {
   "cell_type": "code",
   "execution_count": 78,
   "metadata": {
    "button": false,
    "new_sheet": false,
    "run_control": {
     "read_only": false
    },
    "slideshow": {
     "slide_type": "fragment"
    }
   },
   "outputs": [
    {
     "data": {
      "text/plain": [
       "'66 - 3 * -(9 * 5) - +2 / 5 + 2 / 5 * 6.8 / 3'"
      ]
     },
     "execution_count": 78,
     "metadata": {},
     "output_type": "execute_result"
    }
   ],
   "source": [
    "f = GrammarFuzzer(EXPR_GRAMMAR)\n",
    "f.fuzz()"
   ]
  },
  {
   "cell_type": "markdown",
   "metadata": {
    "slideshow": {
     "slide_type": "subslide"
    }
   },
   "source": [
    "After calling `fuzz()`, the produced derivation tree is accessible in the `derivation_tree` attribute:"
   ]
  },
  {
   "cell_type": "code",
   "execution_count": 79,
   "metadata": {
    "button": false,
    "new_sheet": false,
    "run_control": {
     "read_only": false
    },
    "slideshow": {
     "slide_type": "fragment"
    }
   },
   "outputs": [
    {
     "data": {
      "image/svg+xml": [
       "<?xml version=\"1.0\" encoding=\"UTF-8\" standalone=\"no\"?>\n",
       "<!DOCTYPE svg PUBLIC \"-//W3C//DTD SVG 1.1//EN\"\n",
       " \"http://www.w3.org/Graphics/SVG/1.1/DTD/svg11.dtd\">\n",
       "<!-- Generated by graphviz version 2.40.1 (20161225.0304)\n",
       " -->\n",
       "<!-- Title: %3 Pages: 1 -->\n",
       "<svg width=\"806pt\" height=\"686pt\"\n",
       " viewBox=\"0.00 0.00 805.50 686.00\" xmlns=\"http://www.w3.org/2000/svg\" xmlns:xlink=\"http://www.w3.org/1999/xlink\">\n",
       "<g id=\"graph0\" class=\"graph\" transform=\"scale(1 1) rotate(0) translate(4 682)\">\n",
       "<title>%3</title>\n",
       "<polygon fill=\"#ffffff\" stroke=\"transparent\" points=\"-4,4 -4,-682 801.5,-682 801.5,4 -4,4\"/>\n",
       "<!-- 0 -->\n",
       "<g id=\"node1\" class=\"node\">\n",
       "<title>0</title>\n",
       "<text text-anchor=\"middle\" x=\"184\" y=\"-666.8\" font-family=\"Times,serif\" font-size=\"14.00\" fill=\"#000000\">&lt;start&gt;</text>\n",
       "</g>\n",
       "<!-- 1 -->\n",
       "<g id=\"node2\" class=\"node\">\n",
       "<title>1</title>\n",
       "<text text-anchor=\"middle\" x=\"184\" y=\"-615.8\" font-family=\"Times,serif\" font-size=\"14.00\" fill=\"#000000\">&lt;expr&gt;</text>\n",
       "</g>\n",
       "<!-- 0&#45;&gt;1 -->\n",
       "<g id=\"edge1\" class=\"edge\">\n",
       "<title>0&#45;&gt;1</title>\n",
       "<path fill=\"none\" stroke=\"#000000\" d=\"M184,-662.9748C184,-656.195 184,-645.966 184,-637.1331\"/>\n",
       "<polygon fill=\"#000000\" stroke=\"#000000\" points=\"187.5001,-637.0561 184,-627.0561 180.5001,-637.0561 187.5001,-637.0561\"/>\n",
       "</g>\n",
       "<!-- 2 -->\n",
       "<g id=\"node3\" class=\"node\">\n",
       "<title>2</title>\n",
       "<text text-anchor=\"middle\" x=\"134\" y=\"-564.8\" font-family=\"Times,serif\" font-size=\"14.00\" fill=\"#000000\">&lt;term&gt;</text>\n",
       "</g>\n",
       "<!-- 1&#45;&gt;2 -->\n",
       "<g id=\"edge2\" class=\"edge\">\n",
       "<title>1&#45;&gt;2</title>\n",
       "<path fill=\"none\" stroke=\"#000000\" d=\"M176.6223,-611.9748C169.2369,-604.4417 157.6768,-592.6503 148.458,-583.2472\"/>\n",
       "<polygon fill=\"#000000\" stroke=\"#000000\" points=\"150.9079,-580.7466 141.4079,-576.0561 145.9094,-585.6471 150.9079,-580.7466\"/>\n",
       "</g>\n",
       "<!-- 10 -->\n",
       "<g id=\"node11\" class=\"node\">\n",
       "<title>10</title>\n",
       "<text text-anchor=\"middle\" x=\"184\" y=\"-564.8\" font-family=\"Times,serif\" font-size=\"14.00\" fill=\"#000000\"> &#45; </text>\n",
       "</g>\n",
       "<!-- 1&#45;&gt;10 -->\n",
       "<g id=\"edge10\" class=\"edge\">\n",
       "<title>1&#45;&gt;10</title>\n",
       "<path fill=\"none\" stroke=\"#000000\" d=\"M184,-611.9748C184,-605.195 184,-594.966 184,-586.1331\"/>\n",
       "<polygon fill=\"#000000\" stroke=\"#000000\" points=\"187.5001,-586.0561 184,-576.0561 180.5001,-586.0561 187.5001,-586.0561\"/>\n",
       "</g>\n",
       "<!-- 11 -->\n",
       "<g id=\"node12\" class=\"node\">\n",
       "<title>11</title>\n",
       "<text text-anchor=\"middle\" x=\"231\" y=\"-564.8\" font-family=\"Times,serif\" font-size=\"14.00\" fill=\"#000000\">&lt;expr&gt;</text>\n",
       "</g>\n",
       "<!-- 1&#45;&gt;11 -->\n",
       "<g id=\"edge11\" class=\"edge\">\n",
       "<title>1&#45;&gt;11</title>\n",
       "<path fill=\"none\" stroke=\"#000000\" d=\"M190.935,-611.9748C197.8079,-604.517 208.5269,-592.8857 217.1488,-583.53\"/>\n",
       "<polygon fill=\"#000000\" stroke=\"#000000\" points=\"219.8334,-585.7816 224.0365,-576.0561 214.6859,-581.0378 219.8334,-585.7816\"/>\n",
       "</g>\n",
       "<!-- 3 -->\n",
       "<g id=\"node4\" class=\"node\">\n",
       "<title>3</title>\n",
       "<text text-anchor=\"middle\" x=\"125\" y=\"-513.8\" font-family=\"Times,serif\" font-size=\"14.00\" fill=\"#000000\">&lt;factor&gt;</text>\n",
       "</g>\n",
       "<!-- 2&#45;&gt;3 -->\n",
       "<g id=\"edge3\" class=\"edge\">\n",
       "<title>2&#45;&gt;3</title>\n",
       "<path fill=\"none\" stroke=\"#000000\" d=\"M132.672,-560.9748C131.4756,-554.195 129.6705,-543.966 128.1117,-535.1331\"/>\n",
       "<polygon fill=\"#000000\" stroke=\"#000000\" points=\"131.5181,-534.2957 126.3334,-525.0561 124.6246,-535.5122 131.5181,-534.2957\"/>\n",
       "</g>\n",
       "<!-- 4 -->\n",
       "<g id=\"node5\" class=\"node\">\n",
       "<title>4</title>\n",
       "<text text-anchor=\"middle\" x=\"88\" y=\"-462.8\" font-family=\"Times,serif\" font-size=\"14.00\" fill=\"#000000\">&lt;integer&gt;</text>\n",
       "</g>\n",
       "<!-- 3&#45;&gt;4 -->\n",
       "<g id=\"edge4\" class=\"edge\">\n",
       "<title>3&#45;&gt;4</title>\n",
       "<path fill=\"none\" stroke=\"#000000\" d=\"M119.5405,-509.9748C114.2939,-502.743 106.2002,-491.5868 99.5256,-482.3866\"/>\n",
       "<polygon fill=\"#000000\" stroke=\"#000000\" points=\"102.1872,-480.095 93.4819,-474.0561 96.5212,-484.2056 102.1872,-480.095\"/>\n",
       "</g>\n",
       "<!-- 5 -->\n",
       "<g id=\"node6\" class=\"node\">\n",
       "<title>5</title>\n",
       "<text text-anchor=\"middle\" x=\"21\" y=\"-411.8\" font-family=\"Times,serif\" font-size=\"14.00\" fill=\"#000000\">&lt;digit&gt;</text>\n",
       "</g>\n",
       "<!-- 4&#45;&gt;5 -->\n",
       "<g id=\"edge5\" class=\"edge\">\n",
       "<title>4&#45;&gt;5</title>\n",
       "<path fill=\"none\" stroke=\"#000000\" d=\"M78.1139,-458.9748C67.8216,-451.1403 51.4787,-438.7002 38.907,-429.1307\"/>\n",
       "<polygon fill=\"#000000\" stroke=\"#000000\" points=\"41.0036,-426.328 30.9266,-423.0561 36.7638,-431.898 41.0036,-426.328\"/>\n",
       "</g>\n",
       "<!-- 7 -->\n",
       "<g id=\"node8\" class=\"node\">\n",
       "<title>7</title>\n",
       "<text text-anchor=\"middle\" x=\"88\" y=\"-411.8\" font-family=\"Times,serif\" font-size=\"14.00\" fill=\"#000000\">&lt;integer&gt;</text>\n",
       "</g>\n",
       "<!-- 4&#45;&gt;7 -->\n",
       "<g id=\"edge7\" class=\"edge\">\n",
       "<title>4&#45;&gt;7</title>\n",
       "<path fill=\"none\" stroke=\"#000000\" d=\"M88,-458.9748C88,-452.195 88,-441.966 88,-433.1331\"/>\n",
       "<polygon fill=\"#000000\" stroke=\"#000000\" points=\"91.5001,-433.0561 88,-423.0561 84.5001,-433.0561 91.5001,-433.0561\"/>\n",
       "</g>\n",
       "<!-- 6 -->\n",
       "<g id=\"node7\" class=\"node\">\n",
       "<title>6</title>\n",
       "<text text-anchor=\"middle\" x=\"21\" y=\"-360.8\" font-family=\"Times,serif\" font-size=\"14.00\" fill=\"#000000\">6</text>\n",
       "</g>\n",
       "<!-- 5&#45;&gt;6 -->\n",
       "<g id=\"edge6\" class=\"edge\">\n",
       "<title>5&#45;&gt;6</title>\n",
       "<path fill=\"none\" stroke=\"#000000\" d=\"M21,-407.9748C21,-401.195 21,-390.966 21,-382.1331\"/>\n",
       "<polygon fill=\"#000000\" stroke=\"#000000\" points=\"24.5001,-382.0561 21,-372.0561 17.5001,-382.0561 24.5001,-382.0561\"/>\n",
       "</g>\n",
       "<!-- 8 -->\n",
       "<g id=\"node9\" class=\"node\">\n",
       "<title>8</title>\n",
       "<text text-anchor=\"middle\" x=\"88\" y=\"-360.8\" font-family=\"Times,serif\" font-size=\"14.00\" fill=\"#000000\">&lt;digit&gt;</text>\n",
       "</g>\n",
       "<!-- 7&#45;&gt;8 -->\n",
       "<g id=\"edge8\" class=\"edge\">\n",
       "<title>7&#45;&gt;8</title>\n",
       "<path fill=\"none\" stroke=\"#000000\" d=\"M88,-407.9748C88,-401.195 88,-390.966 88,-382.1331\"/>\n",
       "<polygon fill=\"#000000\" stroke=\"#000000\" points=\"91.5001,-382.0561 88,-372.0561 84.5001,-382.0561 91.5001,-382.0561\"/>\n",
       "</g>\n",
       "<!-- 9 -->\n",
       "<g id=\"node10\" class=\"node\">\n",
       "<title>9</title>\n",
       "<text text-anchor=\"middle\" x=\"88\" y=\"-309.8\" font-family=\"Times,serif\" font-size=\"14.00\" fill=\"#000000\">6</text>\n",
       "</g>\n",
       "<!-- 8&#45;&gt;9 -->\n",
       "<g id=\"edge9\" class=\"edge\">\n",
       "<title>8&#45;&gt;9</title>\n",
       "<path fill=\"none\" stroke=\"#000000\" d=\"M88,-356.9748C88,-350.195 88,-339.966 88,-331.1331\"/>\n",
       "<polygon fill=\"#000000\" stroke=\"#000000\" points=\"91.5001,-331.0561 88,-321.0561 84.5001,-331.0561 91.5001,-331.0561\"/>\n",
       "</g>\n",
       "<!-- 12 -->\n",
       "<g id=\"node13\" class=\"node\">\n",
       "<title>12</title>\n",
       "<text text-anchor=\"middle\" x=\"210\" y=\"-513.8\" font-family=\"Times,serif\" font-size=\"14.00\" fill=\"#000000\">&lt;term&gt;</text>\n",
       "</g>\n",
       "<!-- 11&#45;&gt;12 -->\n",
       "<g id=\"edge12\" class=\"edge\">\n",
       "<title>11&#45;&gt;12</title>\n",
       "<path fill=\"none\" stroke=\"#000000\" d=\"M227.9014,-560.9748C225.0477,-554.0443 220.7099,-543.5097 217.0191,-534.5464\"/>\n",
       "<polygon fill=\"#000000\" stroke=\"#000000\" points=\"220.1553,-532.9702 213.1113,-525.0561 213.6825,-535.6355 220.1553,-532.9702\"/>\n",
       "</g>\n",
       "<!-- 36 -->\n",
       "<g id=\"node37\" class=\"node\">\n",
       "<title>36</title>\n",
       "<text text-anchor=\"middle\" x=\"255\" y=\"-513.8\" font-family=\"Times,serif\" font-size=\"14.00\" fill=\"#000000\"> &#45; </text>\n",
       "</g>\n",
       "<!-- 11&#45;&gt;36 -->\n",
       "<g id=\"edge36\" class=\"edge\">\n",
       "<title>11&#45;&gt;36</title>\n",
       "<path fill=\"none\" stroke=\"#000000\" d=\"M234.5413,-560.9748C237.8381,-553.969 242.8681,-543.2803 247.1155,-534.2547\"/>\n",
       "<polygon fill=\"#000000\" stroke=\"#000000\" points=\"250.353,-535.5946 251.4442,-525.0561 244.0193,-532.614 250.353,-535.5946\"/>\n",
       "</g>\n",
       "<!-- 37 -->\n",
       "<g id=\"node38\" class=\"node\">\n",
       "<title>37</title>\n",
       "<text text-anchor=\"middle\" x=\"395\" y=\"-513.8\" font-family=\"Times,serif\" font-size=\"14.00\" fill=\"#000000\">&lt;expr&gt;</text>\n",
       "</g>\n",
       "<!-- 11&#45;&gt;37 -->\n",
       "<g id=\"edge37\" class=\"edge\">\n",
       "<title>11&#45;&gt;37</title>\n",
       "<path fill=\"none\" stroke=\"#000000\" d=\"M251.7707,-562.0408C280.2362,-553.1888 331.5726,-537.2244 364.4312,-527.0061\"/>\n",
       "<polygon fill=\"#000000\" stroke=\"#000000\" points=\"365.8883,-530.2184 374.3979,-523.9067 363.8097,-523.5342 365.8883,-530.2184\"/>\n",
       "</g>\n",
       "<!-- 13 -->\n",
       "<g id=\"node14\" class=\"node\">\n",
       "<title>13</title>\n",
       "<text text-anchor=\"middle\" x=\"160\" y=\"-462.8\" font-family=\"Times,serif\" font-size=\"14.00\" fill=\"#000000\">&lt;factor&gt;</text>\n",
       "</g>\n",
       "<!-- 12&#45;&gt;13 -->\n",
       "<g id=\"edge13\" class=\"edge\">\n",
       "<title>12&#45;&gt;13</title>\n",
       "<path fill=\"none\" stroke=\"#000000\" d=\"M202.6223,-509.9748C195.2369,-502.4417 183.6768,-490.6503 174.458,-481.2472\"/>\n",
       "<polygon fill=\"#000000\" stroke=\"#000000\" points=\"176.9079,-478.7466 167.4079,-474.0561 171.9094,-483.6471 176.9079,-478.7466\"/>\n",
       "</g>\n",
       "<!-- 17 -->\n",
       "<g id=\"node18\" class=\"node\">\n",
       "<title>17</title>\n",
       "<text text-anchor=\"middle\" x=\"210\" y=\"-462.8\" font-family=\"Times,serif\" font-size=\"14.00\" fill=\"#000000\"> * </text>\n",
       "</g>\n",
       "<!-- 12&#45;&gt;17 -->\n",
       "<g id=\"edge17\" class=\"edge\">\n",
       "<title>12&#45;&gt;17</title>\n",
       "<path fill=\"none\" stroke=\"#000000\" d=\"M210,-509.9748C210,-503.195 210,-492.966 210,-484.1331\"/>\n",
       "<polygon fill=\"#000000\" stroke=\"#000000\" points=\"213.5001,-484.0561 210,-474.0561 206.5001,-484.0561 213.5001,-484.0561\"/>\n",
       "</g>\n",
       "<!-- 18 -->\n",
       "<g id=\"node19\" class=\"node\">\n",
       "<title>18</title>\n",
       "<text text-anchor=\"middle\" x=\"257\" y=\"-462.8\" font-family=\"Times,serif\" font-size=\"14.00\" fill=\"#000000\">&lt;term&gt;</text>\n",
       "</g>\n",
       "<!-- 12&#45;&gt;18 -->\n",
       "<g id=\"edge18\" class=\"edge\">\n",
       "<title>12&#45;&gt;18</title>\n",
       "<path fill=\"none\" stroke=\"#000000\" d=\"M216.935,-509.9748C223.8079,-502.517 234.5269,-490.8857 243.1488,-481.53\"/>\n",
       "<polygon fill=\"#000000\" stroke=\"#000000\" points=\"245.8334,-483.7816 250.0365,-474.0561 240.6859,-479.0378 245.8334,-483.7816\"/>\n",
       "</g>\n",
       "<!-- 14 -->\n",
       "<g id=\"node15\" class=\"node\">\n",
       "<title>14</title>\n",
       "<text text-anchor=\"middle\" x=\"161\" y=\"-411.8\" font-family=\"Times,serif\" font-size=\"14.00\" fill=\"#000000\">&lt;integer&gt;</text>\n",
       "</g>\n",
       "<!-- 13&#45;&gt;14 -->\n",
       "<g id=\"edge14\" class=\"edge\">\n",
       "<title>13&#45;&gt;14</title>\n",
       "<path fill=\"none\" stroke=\"#000000\" d=\"M160.1476,-458.9748C160.2805,-452.195 160.4811,-441.966 160.6543,-433.1331\"/>\n",
       "<polygon fill=\"#000000\" stroke=\"#000000\" points=\"164.155,-433.1228 160.8518,-423.0561 157.1564,-432.9855 164.155,-433.1228\"/>\n",
       "</g>\n",
       "<!-- 15 -->\n",
       "<g id=\"node16\" class=\"node\">\n",
       "<title>15</title>\n",
       "<text text-anchor=\"middle\" x=\"161\" y=\"-360.8\" font-family=\"Times,serif\" font-size=\"14.00\" fill=\"#000000\">&lt;digit&gt;</text>\n",
       "</g>\n",
       "<!-- 14&#45;&gt;15 -->\n",
       "<g id=\"edge15\" class=\"edge\">\n",
       "<title>14&#45;&gt;15</title>\n",
       "<path fill=\"none\" stroke=\"#000000\" d=\"M161,-407.9748C161,-401.195 161,-390.966 161,-382.1331\"/>\n",
       "<polygon fill=\"#000000\" stroke=\"#000000\" points=\"164.5001,-382.0561 161,-372.0561 157.5001,-382.0561 164.5001,-382.0561\"/>\n",
       "</g>\n",
       "<!-- 16 -->\n",
       "<g id=\"node17\" class=\"node\">\n",
       "<title>16</title>\n",
       "<text text-anchor=\"middle\" x=\"161\" y=\"-309.8\" font-family=\"Times,serif\" font-size=\"14.00\" fill=\"#000000\">3</text>\n",
       "</g>\n",
       "<!-- 15&#45;&gt;16 -->\n",
       "<g id=\"edge16\" class=\"edge\">\n",
       "<title>15&#45;&gt;16</title>\n",
       "<path fill=\"none\" stroke=\"#000000\" d=\"M161,-356.9748C161,-350.195 161,-339.966 161,-331.1331\"/>\n",
       "<polygon fill=\"#000000\" stroke=\"#000000\" points=\"164.5001,-331.0561 161,-321.0561 157.5001,-331.0561 164.5001,-331.0561\"/>\n",
       "</g>\n",
       "<!-- 19 -->\n",
       "<g id=\"node20\" class=\"node\">\n",
       "<title>19</title>\n",
       "<text text-anchor=\"middle\" x=\"252\" y=\"-411.8\" font-family=\"Times,serif\" font-size=\"14.00\" fill=\"#000000\">&lt;factor&gt;</text>\n",
       "</g>\n",
       "<!-- 18&#45;&gt;19 -->\n",
       "<g id=\"edge19\" class=\"edge\">\n",
       "<title>18&#45;&gt;19</title>\n",
       "<path fill=\"none\" stroke=\"#000000\" d=\"M256.2622,-458.9748C255.5975,-452.195 254.5947,-441.966 253.7287,-433.1331\"/>\n",
       "<polygon fill=\"#000000\" stroke=\"#000000\" points=\"257.1999,-432.6669 252.7408,-423.0561 250.2333,-433.3499 257.1999,-432.6669\"/>\n",
       "</g>\n",
       "<!-- 20 -->\n",
       "<g id=\"node21\" class=\"node\">\n",
       "<title>20</title>\n",
       "<text text-anchor=\"middle\" x=\"207\" y=\"-360.8\" font-family=\"Times,serif\" font-size=\"14.00\" fill=\"#000000\">&#45;</text>\n",
       "</g>\n",
       "<!-- 19&#45;&gt;20 -->\n",
       "<g id=\"edge20\" class=\"edge\">\n",
       "<title>19&#45;&gt;20</title>\n",
       "<path fill=\"none\" stroke=\"#000000\" d=\"M245.3601,-407.9748C237.801,-399.4078 225.3826,-385.3336 216.7304,-375.5278\"/>\n",
       "<polygon fill=\"#000000\" stroke=\"#000000\" points=\"219.1112,-372.936 209.8705,-367.7533 213.8623,-377.5673 219.1112,-372.936\"/>\n",
       "</g>\n",
       "<!-- 21 -->\n",
       "<g id=\"node22\" class=\"node\">\n",
       "<title>21</title>\n",
       "<text text-anchor=\"middle\" x=\"252\" y=\"-360.8\" font-family=\"Times,serif\" font-size=\"14.00\" fill=\"#000000\">&lt;factor&gt;</text>\n",
       "</g>\n",
       "<!-- 19&#45;&gt;21 -->\n",
       "<g id=\"edge21\" class=\"edge\">\n",
       "<title>19&#45;&gt;21</title>\n",
       "<path fill=\"none\" stroke=\"#000000\" d=\"M252,-407.9748C252,-401.195 252,-390.966 252,-382.1331\"/>\n",
       "<polygon fill=\"#000000\" stroke=\"#000000\" points=\"255.5001,-382.0561 252,-372.0561 248.5001,-382.0561 255.5001,-382.0561\"/>\n",
       "</g>\n",
       "<!-- 22 -->\n",
       "<g id=\"node23\" class=\"node\">\n",
       "<title>22</title>\n",
       "<text text-anchor=\"middle\" x=\"211\" y=\"-309.8\" font-family=\"Times,serif\" font-size=\"14.00\" fill=\"#000000\">(</text>\n",
       "</g>\n",
       "<!-- 21&#45;&gt;22 -->\n",
       "<g id=\"edge22\" class=\"edge\">\n",
       "<title>21&#45;&gt;22</title>\n",
       "<path fill=\"none\" stroke=\"#000000\" d=\"M245.9503,-356.9748C239.1341,-348.4961 227.9814,-334.6232 220.1104,-324.8324\"/>\n",
       "<polygon fill=\"#000000\" stroke=\"#000000\" points=\"222.6088,-322.3541 213.6154,-316.7533 217.1531,-326.74 222.6088,-322.3541\"/>\n",
       "</g>\n",
       "<!-- 23 -->\n",
       "<g id=\"node24\" class=\"node\">\n",
       "<title>23</title>\n",
       "<text text-anchor=\"middle\" x=\"252\" y=\"-309.8\" font-family=\"Times,serif\" font-size=\"14.00\" fill=\"#000000\">&lt;expr&gt;</text>\n",
       "</g>\n",
       "<!-- 21&#45;&gt;23 -->\n",
       "<g id=\"edge23\" class=\"edge\">\n",
       "<title>21&#45;&gt;23</title>\n",
       "<path fill=\"none\" stroke=\"#000000\" d=\"M252,-356.9748C252,-350.195 252,-339.966 252,-331.1331\"/>\n",
       "<polygon fill=\"#000000\" stroke=\"#000000\" points=\"255.5001,-331.0561 252,-321.0561 248.5001,-331.0561 255.5001,-331.0561\"/>\n",
       "</g>\n",
       "<!-- 35 -->\n",
       "<g id=\"node36\" class=\"node\">\n",
       "<title>35</title>\n",
       "<text text-anchor=\"middle\" x=\"293\" y=\"-309.8\" font-family=\"Times,serif\" font-size=\"14.00\" fill=\"#000000\">)</text>\n",
       "</g>\n",
       "<!-- 21&#45;&gt;35 -->\n",
       "<g id=\"edge35\" class=\"edge\">\n",
       "<title>21&#45;&gt;35</title>\n",
       "<path fill=\"none\" stroke=\"#000000\" d=\"M258.0497,-356.9748C264.8659,-348.4961 276.0186,-334.6232 283.8896,-324.8324\"/>\n",
       "<polygon fill=\"#000000\" stroke=\"#000000\" points=\"286.8469,-326.74 290.3846,-316.7533 281.3912,-322.3541 286.8469,-326.74\"/>\n",
       "</g>\n",
       "<!-- 24 -->\n",
       "<g id=\"node25\" class=\"node\">\n",
       "<title>24</title>\n",
       "<text text-anchor=\"middle\" x=\"252\" y=\"-258.8\" font-family=\"Times,serif\" font-size=\"14.00\" fill=\"#000000\">&lt;term&gt;</text>\n",
       "</g>\n",
       "<!-- 23&#45;&gt;24 -->\n",
       "<g id=\"edge24\" class=\"edge\">\n",
       "<title>23&#45;&gt;24</title>\n",
       "<path fill=\"none\" stroke=\"#000000\" d=\"M252,-305.9748C252,-299.195 252,-288.966 252,-280.1331\"/>\n",
       "<polygon fill=\"#000000\" stroke=\"#000000\" points=\"255.5001,-280.0561 252,-270.0561 248.5001,-280.0561 255.5001,-280.0561\"/>\n",
       "</g>\n",
       "<!-- 25 -->\n",
       "<g id=\"node26\" class=\"node\">\n",
       "<title>25</title>\n",
       "<text text-anchor=\"middle\" x=\"202\" y=\"-207.8\" font-family=\"Times,serif\" font-size=\"14.00\" fill=\"#000000\">&lt;factor&gt;</text>\n",
       "</g>\n",
       "<!-- 24&#45;&gt;25 -->\n",
       "<g id=\"edge25\" class=\"edge\">\n",
       "<title>24&#45;&gt;25</title>\n",
       "<path fill=\"none\" stroke=\"#000000\" d=\"M244.6223,-254.9748C237.2369,-247.4417 225.6768,-235.6503 216.458,-226.2472\"/>\n",
       "<polygon fill=\"#000000\" stroke=\"#000000\" points=\"218.9079,-223.7466 209.4079,-219.0561 213.9094,-228.6471 218.9079,-223.7466\"/>\n",
       "</g>\n",
       "<!-- 29 -->\n",
       "<g id=\"node30\" class=\"node\">\n",
       "<title>29</title>\n",
       "<text text-anchor=\"middle\" x=\"252\" y=\"-207.8\" font-family=\"Times,serif\" font-size=\"14.00\" fill=\"#000000\"> * </text>\n",
       "</g>\n",
       "<!-- 24&#45;&gt;29 -->\n",
       "<g id=\"edge29\" class=\"edge\">\n",
       "<title>24&#45;&gt;29</title>\n",
       "<path fill=\"none\" stroke=\"#000000\" d=\"M252,-254.9748C252,-248.195 252,-237.966 252,-229.1331\"/>\n",
       "<polygon fill=\"#000000\" stroke=\"#000000\" points=\"255.5001,-229.0561 252,-219.0561 248.5001,-229.0561 255.5001,-229.0561\"/>\n",
       "</g>\n",
       "<!-- 30 -->\n",
       "<g id=\"node31\" class=\"node\">\n",
       "<title>30</title>\n",
       "<text text-anchor=\"middle\" x=\"299\" y=\"-207.8\" font-family=\"Times,serif\" font-size=\"14.00\" fill=\"#000000\">&lt;term&gt;</text>\n",
       "</g>\n",
       "<!-- 24&#45;&gt;30 -->\n",
       "<g id=\"edge30\" class=\"edge\">\n",
       "<title>24&#45;&gt;30</title>\n",
       "<path fill=\"none\" stroke=\"#000000\" d=\"M258.935,-254.9748C265.8079,-247.517 276.5269,-235.8857 285.1488,-226.53\"/>\n",
       "<polygon fill=\"#000000\" stroke=\"#000000\" points=\"287.8334,-228.7816 292.0365,-219.0561 282.6859,-224.0378 287.8334,-228.7816\"/>\n",
       "</g>\n",
       "<!-- 26 -->\n",
       "<g id=\"node27\" class=\"node\">\n",
       "<title>26</title>\n",
       "<text text-anchor=\"middle\" x=\"202\" y=\"-156.8\" font-family=\"Times,serif\" font-size=\"14.00\" fill=\"#000000\">&lt;integer&gt;</text>\n",
       "</g>\n",
       "<!-- 25&#45;&gt;26 -->\n",
       "<g id=\"edge26\" class=\"edge\">\n",
       "<title>25&#45;&gt;26</title>\n",
       "<path fill=\"none\" stroke=\"#000000\" d=\"M202,-203.9748C202,-197.195 202,-186.966 202,-178.1331\"/>\n",
       "<polygon fill=\"#000000\" stroke=\"#000000\" points=\"205.5001,-178.0561 202,-168.0561 198.5001,-178.0561 205.5001,-178.0561\"/>\n",
       "</g>\n",
       "<!-- 27 -->\n",
       "<g id=\"node28\" class=\"node\">\n",
       "<title>27</title>\n",
       "<text text-anchor=\"middle\" x=\"202\" y=\"-105.8\" font-family=\"Times,serif\" font-size=\"14.00\" fill=\"#000000\">&lt;digit&gt;</text>\n",
       "</g>\n",
       "<!-- 26&#45;&gt;27 -->\n",
       "<g id=\"edge27\" class=\"edge\">\n",
       "<title>26&#45;&gt;27</title>\n",
       "<path fill=\"none\" stroke=\"#000000\" d=\"M202,-152.9748C202,-146.195 202,-135.966 202,-127.1331\"/>\n",
       "<polygon fill=\"#000000\" stroke=\"#000000\" points=\"205.5001,-127.0561 202,-117.0561 198.5001,-127.0561 205.5001,-127.0561\"/>\n",
       "</g>\n",
       "<!-- 28 -->\n",
       "<g id=\"node29\" class=\"node\">\n",
       "<title>28</title>\n",
       "<text text-anchor=\"middle\" x=\"202\" y=\"-54.8\" font-family=\"Times,serif\" font-size=\"14.00\" fill=\"#000000\">9</text>\n",
       "</g>\n",
       "<!-- 27&#45;&gt;28 -->\n",
       "<g id=\"edge28\" class=\"edge\">\n",
       "<title>27&#45;&gt;28</title>\n",
       "<path fill=\"none\" stroke=\"#000000\" d=\"M202,-101.9748C202,-95.195 202,-84.966 202,-76.1331\"/>\n",
       "<polygon fill=\"#000000\" stroke=\"#000000\" points=\"205.5001,-76.0561 202,-66.0561 198.5001,-76.0561 205.5001,-76.0561\"/>\n",
       "</g>\n",
       "<!-- 31 -->\n",
       "<g id=\"node32\" class=\"node\">\n",
       "<title>31</title>\n",
       "<text text-anchor=\"middle\" x=\"299\" y=\"-156.8\" font-family=\"Times,serif\" font-size=\"14.00\" fill=\"#000000\">&lt;factor&gt;</text>\n",
       "</g>\n",
       "<!-- 30&#45;&gt;31 -->\n",
       "<g id=\"edge31\" class=\"edge\">\n",
       "<title>30&#45;&gt;31</title>\n",
       "<path fill=\"none\" stroke=\"#000000\" d=\"M299,-203.9748C299,-197.195 299,-186.966 299,-178.1331\"/>\n",
       "<polygon fill=\"#000000\" stroke=\"#000000\" points=\"302.5001,-178.0561 299,-168.0561 295.5001,-178.0561 302.5001,-178.0561\"/>\n",
       "</g>\n",
       "<!-- 32 -->\n",
       "<g id=\"node33\" class=\"node\">\n",
       "<title>32</title>\n",
       "<text text-anchor=\"middle\" x=\"299\" y=\"-105.8\" font-family=\"Times,serif\" font-size=\"14.00\" fill=\"#000000\">&lt;integer&gt;</text>\n",
       "</g>\n",
       "<!-- 31&#45;&gt;32 -->\n",
       "<g id=\"edge32\" class=\"edge\">\n",
       "<title>31&#45;&gt;32</title>\n",
       "<path fill=\"none\" stroke=\"#000000\" d=\"M299,-152.9748C299,-146.195 299,-135.966 299,-127.1331\"/>\n",
       "<polygon fill=\"#000000\" stroke=\"#000000\" points=\"302.5001,-127.0561 299,-117.0561 295.5001,-127.0561 302.5001,-127.0561\"/>\n",
       "</g>\n",
       "<!-- 33 -->\n",
       "<g id=\"node34\" class=\"node\">\n",
       "<title>33</title>\n",
       "<text text-anchor=\"middle\" x=\"299\" y=\"-54.8\" font-family=\"Times,serif\" font-size=\"14.00\" fill=\"#000000\">&lt;digit&gt;</text>\n",
       "</g>\n",
       "<!-- 32&#45;&gt;33 -->\n",
       "<g id=\"edge33\" class=\"edge\">\n",
       "<title>32&#45;&gt;33</title>\n",
       "<path fill=\"none\" stroke=\"#000000\" d=\"M299,-101.9748C299,-95.195 299,-84.966 299,-76.1331\"/>\n",
       "<polygon fill=\"#000000\" stroke=\"#000000\" points=\"302.5001,-76.0561 299,-66.0561 295.5001,-76.0561 302.5001,-76.0561\"/>\n",
       "</g>\n",
       "<!-- 34 -->\n",
       "<g id=\"node35\" class=\"node\">\n",
       "<title>34</title>\n",
       "<text text-anchor=\"middle\" x=\"299\" y=\"-3.8\" font-family=\"Times,serif\" font-size=\"14.00\" fill=\"#000000\">5</text>\n",
       "</g>\n",
       "<!-- 33&#45;&gt;34 -->\n",
       "<g id=\"edge34\" class=\"edge\">\n",
       "<title>33&#45;&gt;34</title>\n",
       "<path fill=\"none\" stroke=\"#000000\" d=\"M299,-50.9748C299,-44.195 299,-33.966 299,-25.1331\"/>\n",
       "<polygon fill=\"#000000\" stroke=\"#000000\" points=\"302.5001,-25.0561 299,-15.0561 295.5001,-25.0561 302.5001,-25.0561\"/>\n",
       "</g>\n",
       "<!-- 38 -->\n",
       "<g id=\"node39\" class=\"node\">\n",
       "<title>38</title>\n",
       "<text text-anchor=\"middle\" x=\"372\" y=\"-462.8\" font-family=\"Times,serif\" font-size=\"14.00\" fill=\"#000000\">&lt;term&gt;</text>\n",
       "</g>\n",
       "<!-- 37&#45;&gt;38 -->\n",
       "<g id=\"edge38\" class=\"edge\">\n",
       "<title>37&#45;&gt;38</title>\n",
       "<path fill=\"none\" stroke=\"#000000\" d=\"M391.6063,-509.9748C388.4468,-502.969 383.6264,-492.2803 379.556,-483.2547\"/>\n",
       "<polygon fill=\"#000000\" stroke=\"#000000\" points=\"382.7093,-481.7331 375.4077,-474.0561 376.3282,-484.6109 382.7093,-481.7331\"/>\n",
       "</g>\n",
       "<!-- 51 -->\n",
       "<g id=\"node52\" class=\"node\">\n",
       "<title>51</title>\n",
       "<text text-anchor=\"middle\" x=\"419\" y=\"-462.8\" font-family=\"Times,serif\" font-size=\"14.00\" fill=\"#000000\"> + </text>\n",
       "</g>\n",
       "<!-- 37&#45;&gt;51 -->\n",
       "<g id=\"edge51\" class=\"edge\">\n",
       "<title>37&#45;&gt;51</title>\n",
       "<path fill=\"none\" stroke=\"#000000\" d=\"M398.5413,-509.9748C401.8381,-502.969 406.8681,-492.2803 411.1155,-483.2547\"/>\n",
       "<polygon fill=\"#000000\" stroke=\"#000000\" points=\"414.353,-484.5946 415.4442,-474.0561 408.0193,-481.614 414.353,-484.5946\"/>\n",
       "</g>\n",
       "<!-- 52 -->\n",
       "<g id=\"node53\" class=\"node\">\n",
       "<title>52</title>\n",
       "<text text-anchor=\"middle\" x=\"477\" y=\"-462.8\" font-family=\"Times,serif\" font-size=\"14.00\" fill=\"#000000\">&lt;expr&gt;</text>\n",
       "</g>\n",
       "<!-- 37&#45;&gt;52 -->\n",
       "<g id=\"edge52\" class=\"edge\">\n",
       "<title>37&#45;&gt;52</title>\n",
       "<path fill=\"none\" stroke=\"#000000\" d=\"M407.0994,-509.9748C419.9382,-501.9897 440.4697,-489.22 455.9665,-479.5818\"/>\n",
       "<polygon fill=\"#000000\" stroke=\"#000000\" points=\"458.2079,-482.3096 464.851,-474.0561 454.5109,-476.3654 458.2079,-482.3096\"/>\n",
       "</g>\n",
       "<!-- 39 -->\n",
       "<g id=\"node40\" class=\"node\">\n",
       "<title>39</title>\n",
       "<text text-anchor=\"middle\" x=\"324\" y=\"-411.8\" font-family=\"Times,serif\" font-size=\"14.00\" fill=\"#000000\">&lt;factor&gt;</text>\n",
       "</g>\n",
       "<!-- 38&#45;&gt;39 -->\n",
       "<g id=\"edge39\" class=\"edge\">\n",
       "<title>38&#45;&gt;39</title>\n",
       "<path fill=\"none\" stroke=\"#000000\" d=\"M364.9174,-458.9748C357.8983,-451.517 346.9513,-439.8857 338.1459,-430.53\"/>\n",
       "<polygon fill=\"#000000\" stroke=\"#000000\" points=\"340.514,-427.9393 331.1116,-423.0561 335.4166,-432.7369 340.514,-427.9393\"/>\n",
       "</g>\n",
       "<!-- 45 -->\n",
       "<g id=\"node46\" class=\"node\">\n",
       "<title>45</title>\n",
       "<text text-anchor=\"middle\" x=\"372\" y=\"-411.8\" font-family=\"Times,serif\" font-size=\"14.00\" fill=\"#000000\"> / </text>\n",
       "</g>\n",
       "<!-- 38&#45;&gt;45 -->\n",
       "<g id=\"edge45\" class=\"edge\">\n",
       "<title>38&#45;&gt;45</title>\n",
       "<path fill=\"none\" stroke=\"#000000\" d=\"M372,-458.9748C372,-452.195 372,-441.966 372,-433.1331\"/>\n",
       "<polygon fill=\"#000000\" stroke=\"#000000\" points=\"375.5001,-433.0561 372,-423.0561 368.5001,-433.0561 375.5001,-433.0561\"/>\n",
       "</g>\n",
       "<!-- 46 -->\n",
       "<g id=\"node47\" class=\"node\">\n",
       "<title>46</title>\n",
       "<text text-anchor=\"middle\" x=\"417\" y=\"-411.8\" font-family=\"Times,serif\" font-size=\"14.00\" fill=\"#000000\">&lt;term&gt;</text>\n",
       "</g>\n",
       "<!-- 38&#45;&gt;46 -->\n",
       "<g id=\"edge46\" class=\"edge\">\n",
       "<title>38&#45;&gt;46</title>\n",
       "<path fill=\"none\" stroke=\"#000000\" d=\"M378.6399,-458.9748C385.1538,-451.5923 395.2762,-440.1203 403.4875,-430.8142\"/>\n",
       "<polygon fill=\"#000000\" stroke=\"#000000\" points=\"406.341,-432.8702 410.3329,-423.0561 401.0922,-428.2388 406.341,-432.8702\"/>\n",
       "</g>\n",
       "<!-- 40 -->\n",
       "<g id=\"node41\" class=\"node\">\n",
       "<title>40</title>\n",
       "<text text-anchor=\"middle\" x=\"299\" y=\"-360.8\" font-family=\"Times,serif\" font-size=\"14.00\" fill=\"#000000\">+</text>\n",
       "</g>\n",
       "<!-- 39&#45;&gt;40 -->\n",
       "<g id=\"edge40\" class=\"edge\">\n",
       "<title>39&#45;&gt;40</title>\n",
       "<path fill=\"none\" stroke=\"#000000\" d=\"M320.3112,-407.9748C316.8769,-400.969 311.6374,-390.2803 307.2131,-381.2547\"/>\n",
       "<polygon fill=\"#000000\" stroke=\"#000000\" points=\"310.2483,-379.4947 302.704,-372.0561 303.9629,-382.5759 310.2483,-379.4947\"/>\n",
       "</g>\n",
       "<!-- 41 -->\n",
       "<g id=\"node42\" class=\"node\">\n",
       "<title>41</title>\n",
       "<text text-anchor=\"middle\" x=\"346\" y=\"-360.8\" font-family=\"Times,serif\" font-size=\"14.00\" fill=\"#000000\">&lt;factor&gt;</text>\n",
       "</g>\n",
       "<!-- 39&#45;&gt;41 -->\n",
       "<g id=\"edge41\" class=\"edge\">\n",
       "<title>39&#45;&gt;41</title>\n",
       "<path fill=\"none\" stroke=\"#000000\" d=\"M327.2462,-407.9748C330.2683,-400.969 334.8791,-390.2803 338.7725,-381.2547\"/>\n",
       "<polygon fill=\"#000000\" stroke=\"#000000\" points=\"341.9933,-382.6246 342.7405,-372.0561 335.5658,-379.8519 341.9933,-382.6246\"/>\n",
       "</g>\n",
       "<!-- 42 -->\n",
       "<g id=\"node43\" class=\"node\">\n",
       "<title>42</title>\n",
       "<text text-anchor=\"middle\" x=\"344\" y=\"-309.8\" font-family=\"Times,serif\" font-size=\"14.00\" fill=\"#000000\">&lt;integer&gt;</text>\n",
       "</g>\n",
       "<!-- 41&#45;&gt;42 -->\n",
       "<g id=\"edge42\" class=\"edge\">\n",
       "<title>41&#45;&gt;42</title>\n",
       "<path fill=\"none\" stroke=\"#000000\" d=\"M345.7049,-356.9748C345.439,-350.195 345.0379,-339.966 344.6915,-331.1331\"/>\n",
       "<polygon fill=\"#000000\" stroke=\"#000000\" points=\"348.1856,-330.9112 344.2963,-321.0561 341.191,-331.1856 348.1856,-330.9112\"/>\n",
       "</g>\n",
       "<!-- 43 -->\n",
       "<g id=\"node44\" class=\"node\">\n",
       "<title>43</title>\n",
       "<text text-anchor=\"middle\" x=\"344\" y=\"-258.8\" font-family=\"Times,serif\" font-size=\"14.00\" fill=\"#000000\">&lt;digit&gt;</text>\n",
       "</g>\n",
       "<!-- 42&#45;&gt;43 -->\n",
       "<g id=\"edge43\" class=\"edge\">\n",
       "<title>42&#45;&gt;43</title>\n",
       "<path fill=\"none\" stroke=\"#000000\" d=\"M344,-305.9748C344,-299.195 344,-288.966 344,-280.1331\"/>\n",
       "<polygon fill=\"#000000\" stroke=\"#000000\" points=\"347.5001,-280.0561 344,-270.0561 340.5001,-280.0561 347.5001,-280.0561\"/>\n",
       "</g>\n",
       "<!-- 44 -->\n",
       "<g id=\"node45\" class=\"node\">\n",
       "<title>44</title>\n",
       "<text text-anchor=\"middle\" x=\"344\" y=\"-207.8\" font-family=\"Times,serif\" font-size=\"14.00\" fill=\"#000000\">2</text>\n",
       "</g>\n",
       "<!-- 43&#45;&gt;44 -->\n",
       "<g id=\"edge44\" class=\"edge\">\n",
       "<title>43&#45;&gt;44</title>\n",
       "<path fill=\"none\" stroke=\"#000000\" d=\"M344,-254.9748C344,-248.195 344,-237.966 344,-229.1331\"/>\n",
       "<polygon fill=\"#000000\" stroke=\"#000000\" points=\"347.5001,-229.0561 344,-219.0561 340.5001,-229.0561 347.5001,-229.0561\"/>\n",
       "</g>\n",
       "<!-- 47 -->\n",
       "<g id=\"node48\" class=\"node\">\n",
       "<title>47</title>\n",
       "<text text-anchor=\"middle\" x=\"417\" y=\"-360.8\" font-family=\"Times,serif\" font-size=\"14.00\" fill=\"#000000\">&lt;factor&gt;</text>\n",
       "</g>\n",
       "<!-- 46&#45;&gt;47 -->\n",
       "<g id=\"edge47\" class=\"edge\">\n",
       "<title>46&#45;&gt;47</title>\n",
       "<path fill=\"none\" stroke=\"#000000\" d=\"M417,-407.9748C417,-401.195 417,-390.966 417,-382.1331\"/>\n",
       "<polygon fill=\"#000000\" stroke=\"#000000\" points=\"420.5001,-382.0561 417,-372.0561 413.5001,-382.0561 420.5001,-382.0561\"/>\n",
       "</g>\n",
       "<!-- 48 -->\n",
       "<g id=\"node49\" class=\"node\">\n",
       "<title>48</title>\n",
       "<text text-anchor=\"middle\" x=\"417\" y=\"-309.8\" font-family=\"Times,serif\" font-size=\"14.00\" fill=\"#000000\">&lt;integer&gt;</text>\n",
       "</g>\n",
       "<!-- 47&#45;&gt;48 -->\n",
       "<g id=\"edge48\" class=\"edge\">\n",
       "<title>47&#45;&gt;48</title>\n",
       "<path fill=\"none\" stroke=\"#000000\" d=\"M417,-356.9748C417,-350.195 417,-339.966 417,-331.1331\"/>\n",
       "<polygon fill=\"#000000\" stroke=\"#000000\" points=\"420.5001,-331.0561 417,-321.0561 413.5001,-331.0561 420.5001,-331.0561\"/>\n",
       "</g>\n",
       "<!-- 49 -->\n",
       "<g id=\"node50\" class=\"node\">\n",
       "<title>49</title>\n",
       "<text text-anchor=\"middle\" x=\"417\" y=\"-258.8\" font-family=\"Times,serif\" font-size=\"14.00\" fill=\"#000000\">&lt;digit&gt;</text>\n",
       "</g>\n",
       "<!-- 48&#45;&gt;49 -->\n",
       "<g id=\"edge49\" class=\"edge\">\n",
       "<title>48&#45;&gt;49</title>\n",
       "<path fill=\"none\" stroke=\"#000000\" d=\"M417,-305.9748C417,-299.195 417,-288.966 417,-280.1331\"/>\n",
       "<polygon fill=\"#000000\" stroke=\"#000000\" points=\"420.5001,-280.0561 417,-270.0561 413.5001,-280.0561 420.5001,-280.0561\"/>\n",
       "</g>\n",
       "<!-- 50 -->\n",
       "<g id=\"node51\" class=\"node\">\n",
       "<title>50</title>\n",
       "<text text-anchor=\"middle\" x=\"417\" y=\"-207.8\" font-family=\"Times,serif\" font-size=\"14.00\" fill=\"#000000\">5</text>\n",
       "</g>\n",
       "<!-- 49&#45;&gt;50 -->\n",
       "<g id=\"edge50\" class=\"edge\">\n",
       "<title>49&#45;&gt;50</title>\n",
       "<path fill=\"none\" stroke=\"#000000\" d=\"M417,-254.9748C417,-248.195 417,-237.966 417,-229.1331\"/>\n",
       "<polygon fill=\"#000000\" stroke=\"#000000\" points=\"420.5001,-229.0561 417,-219.0561 413.5001,-229.0561 420.5001,-229.0561\"/>\n",
       "</g>\n",
       "<!-- 53 -->\n",
       "<g id=\"node54\" class=\"node\">\n",
       "<title>53</title>\n",
       "<text text-anchor=\"middle\" x=\"514\" y=\"-411.8\" font-family=\"Times,serif\" font-size=\"14.00\" fill=\"#000000\">&lt;term&gt;</text>\n",
       "</g>\n",
       "<!-- 52&#45;&gt;53 -->\n",
       "<g id=\"edge53\" class=\"edge\">\n",
       "<title>52&#45;&gt;53</title>\n",
       "<path fill=\"none\" stroke=\"#000000\" d=\"M482.4595,-458.9748C487.7061,-451.743 495.7998,-440.5868 502.4744,-431.3866\"/>\n",
       "<polygon fill=\"#000000\" stroke=\"#000000\" points=\"505.4788,-433.2056 508.5181,-423.0561 499.8128,-429.095 505.4788,-433.2056\"/>\n",
       "</g>\n",
       "<!-- 54 -->\n",
       "<g id=\"node55\" class=\"node\">\n",
       "<title>54</title>\n",
       "<text text-anchor=\"middle\" x=\"490\" y=\"-360.8\" font-family=\"Times,serif\" font-size=\"14.00\" fill=\"#000000\">&lt;factor&gt;</text>\n",
       "</g>\n",
       "<!-- 53&#45;&gt;54 -->\n",
       "<g id=\"edge54\" class=\"edge\">\n",
       "<title>53&#45;&gt;54</title>\n",
       "<path fill=\"none\" stroke=\"#000000\" d=\"M510.4587,-407.9748C507.1619,-400.969 502.1319,-390.2803 497.8845,-381.2547\"/>\n",
       "<polygon fill=\"#000000\" stroke=\"#000000\" points=\"500.9807,-379.614 493.5558,-372.0561 494.647,-382.5946 500.9807,-379.614\"/>\n",
       "</g>\n",
       "<!-- 58 -->\n",
       "<g id=\"node59\" class=\"node\">\n",
       "<title>58</title>\n",
       "<text text-anchor=\"middle\" x=\"538\" y=\"-360.8\" font-family=\"Times,serif\" font-size=\"14.00\" fill=\"#000000\"> / </text>\n",
       "</g>\n",
       "<!-- 53&#45;&gt;58 -->\n",
       "<g id=\"edge58\" class=\"edge\">\n",
       "<title>53&#45;&gt;58</title>\n",
       "<path fill=\"none\" stroke=\"#000000\" d=\"M517.5413,-407.9748C520.8381,-400.969 525.8681,-390.2803 530.1155,-381.2547\"/>\n",
       "<polygon fill=\"#000000\" stroke=\"#000000\" points=\"533.353,-382.5946 534.4442,-372.0561 527.0193,-379.614 533.353,-382.5946\"/>\n",
       "</g>\n",
       "<!-- 59 -->\n",
       "<g id=\"node60\" class=\"node\">\n",
       "<title>59</title>\n",
       "<text text-anchor=\"middle\" x=\"597\" y=\"-360.8\" font-family=\"Times,serif\" font-size=\"14.00\" fill=\"#000000\">&lt;term&gt;</text>\n",
       "</g>\n",
       "<!-- 53&#45;&gt;59 -->\n",
       "<g id=\"edge59\" class=\"edge\">\n",
       "<title>53&#45;&gt;59</title>\n",
       "<path fill=\"none\" stroke=\"#000000\" d=\"M526.2469,-407.9748C539.3649,-399.9143 560.417,-386.9787 576.1525,-377.3099\"/>\n",
       "<polygon fill=\"#000000\" stroke=\"#000000\" points=\"578.0151,-380.2734 584.7028,-372.0561 574.3503,-374.3094 578.0151,-380.2734\"/>\n",
       "</g>\n",
       "<!-- 55 -->\n",
       "<g id=\"node56\" class=\"node\">\n",
       "<title>55</title>\n",
       "<text text-anchor=\"middle\" x=\"490\" y=\"-309.8\" font-family=\"Times,serif\" font-size=\"14.00\" fill=\"#000000\">&lt;integer&gt;</text>\n",
       "</g>\n",
       "<!-- 54&#45;&gt;55 -->\n",
       "<g id=\"edge55\" class=\"edge\">\n",
       "<title>54&#45;&gt;55</title>\n",
       "<path fill=\"none\" stroke=\"#000000\" d=\"M490,-356.9748C490,-350.195 490,-339.966 490,-331.1331\"/>\n",
       "<polygon fill=\"#000000\" stroke=\"#000000\" points=\"493.5001,-331.0561 490,-321.0561 486.5001,-331.0561 493.5001,-331.0561\"/>\n",
       "</g>\n",
       "<!-- 56 -->\n",
       "<g id=\"node57\" class=\"node\">\n",
       "<title>56</title>\n",
       "<text text-anchor=\"middle\" x=\"490\" y=\"-258.8\" font-family=\"Times,serif\" font-size=\"14.00\" fill=\"#000000\">&lt;digit&gt;</text>\n",
       "</g>\n",
       "<!-- 55&#45;&gt;56 -->\n",
       "<g id=\"edge56\" class=\"edge\">\n",
       "<title>55&#45;&gt;56</title>\n",
       "<path fill=\"none\" stroke=\"#000000\" d=\"M490,-305.9748C490,-299.195 490,-288.966 490,-280.1331\"/>\n",
       "<polygon fill=\"#000000\" stroke=\"#000000\" points=\"493.5001,-280.0561 490,-270.0561 486.5001,-280.0561 493.5001,-280.0561\"/>\n",
       "</g>\n",
       "<!-- 57 -->\n",
       "<g id=\"node58\" class=\"node\">\n",
       "<title>57</title>\n",
       "<text text-anchor=\"middle\" x=\"490\" y=\"-207.8\" font-family=\"Times,serif\" font-size=\"14.00\" fill=\"#000000\">2</text>\n",
       "</g>\n",
       "<!-- 56&#45;&gt;57 -->\n",
       "<g id=\"edge57\" class=\"edge\">\n",
       "<title>56&#45;&gt;57</title>\n",
       "<path fill=\"none\" stroke=\"#000000\" d=\"M490,-254.9748C490,-248.195 490,-237.966 490,-229.1331\"/>\n",
       "<polygon fill=\"#000000\" stroke=\"#000000\" points=\"493.5001,-229.0561 490,-219.0561 486.5001,-229.0561 493.5001,-229.0561\"/>\n",
       "</g>\n",
       "<!-- 60 -->\n",
       "<g id=\"node61\" class=\"node\">\n",
       "<title>60</title>\n",
       "<text text-anchor=\"middle\" x=\"560\" y=\"-309.8\" font-family=\"Times,serif\" font-size=\"14.00\" fill=\"#000000\">&lt;factor&gt;</text>\n",
       "</g>\n",
       "<!-- 59&#45;&gt;60 -->\n",
       "<g id=\"edge60\" class=\"edge\">\n",
       "<title>59&#45;&gt;60</title>\n",
       "<path fill=\"none\" stroke=\"#000000\" d=\"M591.5405,-356.9748C586.2939,-349.743 578.2002,-338.5868 571.5256,-329.3866\"/>\n",
       "<polygon fill=\"#000000\" stroke=\"#000000\" points=\"574.1872,-327.095 565.4819,-321.0561 568.5212,-331.2056 574.1872,-327.095\"/>\n",
       "</g>\n",
       "<!-- 64 -->\n",
       "<g id=\"node65\" class=\"node\">\n",
       "<title>64</title>\n",
       "<text text-anchor=\"middle\" x=\"610\" y=\"-309.8\" font-family=\"Times,serif\" font-size=\"14.00\" fill=\"#000000\"> * </text>\n",
       "</g>\n",
       "<!-- 59&#45;&gt;64 -->\n",
       "<g id=\"edge64\" class=\"edge\">\n",
       "<title>59&#45;&gt;64</title>\n",
       "<path fill=\"none\" stroke=\"#000000\" d=\"M598.9182,-356.9748C600.6656,-350.1196 603.3118,-339.7383 605.5802,-330.8392\"/>\n",
       "<polygon fill=\"#000000\" stroke=\"#000000\" points=\"608.9954,-331.6108 608.0739,-321.0561 602.2123,-329.8817 608.9954,-331.6108\"/>\n",
       "</g>\n",
       "<!-- 65 -->\n",
       "<g id=\"node66\" class=\"node\">\n",
       "<title>65</title>\n",
       "<text text-anchor=\"middle\" x=\"678\" y=\"-309.8\" font-family=\"Times,serif\" font-size=\"14.00\" fill=\"#000000\">&lt;term&gt;</text>\n",
       "</g>\n",
       "<!-- 59&#45;&gt;65 -->\n",
       "<g id=\"edge65\" class=\"edge\">\n",
       "<title>59&#45;&gt;65</title>\n",
       "<path fill=\"none\" stroke=\"#000000\" d=\"M608.9518,-356.9748C621.6341,-348.9897 641.9152,-336.22 657.223,-326.5818\"/>\n",
       "<polygon fill=\"#000000\" stroke=\"#000000\" points=\"659.4017,-329.3461 665.9991,-321.0561 655.6719,-323.4225 659.4017,-329.3461\"/>\n",
       "</g>\n",
       "<!-- 61 -->\n",
       "<g id=\"node62\" class=\"node\">\n",
       "<title>61</title>\n",
       "<text text-anchor=\"middle\" x=\"559\" y=\"-258.8\" font-family=\"Times,serif\" font-size=\"14.00\" fill=\"#000000\">&lt;integer&gt;</text>\n",
       "</g>\n",
       "<!-- 60&#45;&gt;61 -->\n",
       "<g id=\"edge61\" class=\"edge\">\n",
       "<title>60&#45;&gt;61</title>\n",
       "<path fill=\"none\" stroke=\"#000000\" d=\"M559.8524,-305.9748C559.7195,-299.195 559.5189,-288.966 559.3457,-280.1331\"/>\n",
       "<polygon fill=\"#000000\" stroke=\"#000000\" points=\"562.8436,-279.9855 559.1482,-270.0561 555.845,-280.1228 562.8436,-279.9855\"/>\n",
       "</g>\n",
       "<!-- 62 -->\n",
       "<g id=\"node63\" class=\"node\">\n",
       "<title>62</title>\n",
       "<text text-anchor=\"middle\" x=\"537\" y=\"-207.8\" font-family=\"Times,serif\" font-size=\"14.00\" fill=\"#000000\">&lt;digit&gt;</text>\n",
       "</g>\n",
       "<!-- 61&#45;&gt;62 -->\n",
       "<g id=\"edge62\" class=\"edge\">\n",
       "<title>61&#45;&gt;62</title>\n",
       "<path fill=\"none\" stroke=\"#000000\" d=\"M555.7538,-254.9748C552.7317,-247.969 548.1209,-237.2803 544.2275,-228.2547\"/>\n",
       "<polygon fill=\"#000000\" stroke=\"#000000\" points=\"547.4342,-226.8519 540.2595,-219.0561 541.0067,-229.6246 547.4342,-226.8519\"/>\n",
       "</g>\n",
       "<!-- 63 -->\n",
       "<g id=\"node64\" class=\"node\">\n",
       "<title>63</title>\n",
       "<text text-anchor=\"middle\" x=\"537\" y=\"-156.8\" font-family=\"Times,serif\" font-size=\"14.00\" fill=\"#000000\">5</text>\n",
       "</g>\n",
       "<!-- 62&#45;&gt;63 -->\n",
       "<g id=\"edge63\" class=\"edge\">\n",
       "<title>62&#45;&gt;63</title>\n",
       "<path fill=\"none\" stroke=\"#000000\" d=\"M537,-203.9748C537,-197.195 537,-186.966 537,-178.1331\"/>\n",
       "<polygon fill=\"#000000\" stroke=\"#000000\" points=\"540.5001,-178.0561 537,-168.0561 533.5001,-178.0561 540.5001,-178.0561\"/>\n",
       "</g>\n",
       "<!-- 66 -->\n",
       "<g id=\"node67\" class=\"node\">\n",
       "<title>66</title>\n",
       "<text text-anchor=\"middle\" x=\"652\" y=\"-258.8\" font-family=\"Times,serif\" font-size=\"14.00\" fill=\"#000000\">&lt;factor&gt;</text>\n",
       "</g>\n",
       "<!-- 65&#45;&gt;66 -->\n",
       "<g id=\"edge66\" class=\"edge\">\n",
       "<title>65&#45;&gt;66</title>\n",
       "<path fill=\"none\" stroke=\"#000000\" d=\"M674.1636,-305.9748C670.592,-298.969 665.1429,-288.2803 660.5416,-279.2547\"/>\n",
       "<polygon fill=\"#000000\" stroke=\"#000000\" points=\"663.5122,-277.3755 655.8521,-270.0561 657.2759,-280.5548 663.5122,-277.3755\"/>\n",
       "</g>\n",
       "<!-- 74 -->\n",
       "<g id=\"node75\" class=\"node\">\n",
       "<title>74</title>\n",
       "<text text-anchor=\"middle\" x=\"700\" y=\"-258.8\" font-family=\"Times,serif\" font-size=\"14.00\" fill=\"#000000\"> / </text>\n",
       "</g>\n",
       "<!-- 65&#45;&gt;74 -->\n",
       "<g id=\"edge74\" class=\"edge\">\n",
       "<title>65&#45;&gt;74</title>\n",
       "<path fill=\"none\" stroke=\"#000000\" d=\"M681.2462,-305.9748C684.2683,-298.969 688.8791,-288.2803 692.7725,-279.2547\"/>\n",
       "<polygon fill=\"#000000\" stroke=\"#000000\" points=\"695.9933,-280.6246 696.7405,-270.0561 689.5658,-277.8519 695.9933,-280.6246\"/>\n",
       "</g>\n",
       "<!-- 75 -->\n",
       "<g id=\"node76\" class=\"node\">\n",
       "<title>75</title>\n",
       "<text text-anchor=\"middle\" x=\"757\" y=\"-258.8\" font-family=\"Times,serif\" font-size=\"14.00\" fill=\"#000000\">&lt;term&gt;</text>\n",
       "</g>\n",
       "<!-- 65&#45;&gt;75 -->\n",
       "<g id=\"edge75\" class=\"edge\">\n",
       "<title>65&#45;&gt;75</title>\n",
       "<path fill=\"none\" stroke=\"#000000\" d=\"M689.6567,-305.9748C702.0258,-297.9897 721.8062,-285.22 736.736,-275.5818\"/>\n",
       "<polygon fill=\"#000000\" stroke=\"#000000\" points=\"738.7923,-278.4203 745.2955,-270.0561 734.9957,-272.5393 738.7923,-278.4203\"/>\n",
       "</g>\n",
       "<!-- 67 -->\n",
       "<g id=\"node68\" class=\"node\">\n",
       "<title>67</title>\n",
       "<text text-anchor=\"middle\" x=\"604\" y=\"-207.8\" font-family=\"Times,serif\" font-size=\"14.00\" fill=\"#000000\">&lt;integer&gt;</text>\n",
       "</g>\n",
       "<!-- 66&#45;&gt;67 -->\n",
       "<g id=\"edge67\" class=\"edge\">\n",
       "<title>66&#45;&gt;67</title>\n",
       "<path fill=\"none\" stroke=\"#000000\" d=\"M644.9174,-254.9748C637.8983,-247.517 626.9513,-235.8857 618.1459,-226.53\"/>\n",
       "<polygon fill=\"#000000\" stroke=\"#000000\" points=\"620.514,-223.9393 611.1116,-219.0561 615.4166,-228.7369 620.514,-223.9393\"/>\n",
       "</g>\n",
       "<!-- 70 -->\n",
       "<g id=\"node71\" class=\"node\">\n",
       "<title>70</title>\n",
       "<text text-anchor=\"middle\" x=\"652\" y=\"-207.8\" font-family=\"Times,serif\" font-size=\"14.00\" fill=\"#000000\">.</text>\n",
       "</g>\n",
       "<!-- 66&#45;&gt;70 -->\n",
       "<g id=\"edge70\" class=\"edge\">\n",
       "<title>66&#45;&gt;70</title>\n",
       "<path fill=\"none\" stroke=\"#000000\" d=\"M652,-254.9748C652,-248.195 652,-237.966 652,-229.1331\"/>\n",
       "<polygon fill=\"#000000\" stroke=\"#000000\" points=\"655.5001,-229.0561 652,-219.0561 648.5001,-229.0561 655.5001,-229.0561\"/>\n",
       "</g>\n",
       "<!-- 71 -->\n",
       "<g id=\"node72\" class=\"node\">\n",
       "<title>71</title>\n",
       "<text text-anchor=\"middle\" x=\"700\" y=\"-207.8\" font-family=\"Times,serif\" font-size=\"14.00\" fill=\"#000000\">&lt;integer&gt;</text>\n",
       "</g>\n",
       "<!-- 66&#45;&gt;71 -->\n",
       "<g id=\"edge71\" class=\"edge\">\n",
       "<title>66&#45;&gt;71</title>\n",
       "<path fill=\"none\" stroke=\"#000000\" d=\"M659.0826,-254.9748C666.1017,-247.517 677.0487,-235.8857 685.8541,-226.53\"/>\n",
       "<polygon fill=\"#000000\" stroke=\"#000000\" points=\"688.5834,-228.7369 692.8884,-219.0561 683.486,-223.9393 688.5834,-228.7369\"/>\n",
       "</g>\n",
       "<!-- 68 -->\n",
       "<g id=\"node69\" class=\"node\">\n",
       "<title>68</title>\n",
       "<text text-anchor=\"middle\" x=\"604\" y=\"-156.8\" font-family=\"Times,serif\" font-size=\"14.00\" fill=\"#000000\">&lt;digit&gt;</text>\n",
       "</g>\n",
       "<!-- 67&#45;&gt;68 -->\n",
       "<g id=\"edge68\" class=\"edge\">\n",
       "<title>67&#45;&gt;68</title>\n",
       "<path fill=\"none\" stroke=\"#000000\" d=\"M604,-203.9748C604,-197.195 604,-186.966 604,-178.1331\"/>\n",
       "<polygon fill=\"#000000\" stroke=\"#000000\" points=\"607.5001,-178.0561 604,-168.0561 600.5001,-178.0561 607.5001,-178.0561\"/>\n",
       "</g>\n",
       "<!-- 69 -->\n",
       "<g id=\"node70\" class=\"node\">\n",
       "<title>69</title>\n",
       "<text text-anchor=\"middle\" x=\"604\" y=\"-105.8\" font-family=\"Times,serif\" font-size=\"14.00\" fill=\"#000000\">6</text>\n",
       "</g>\n",
       "<!-- 68&#45;&gt;69 -->\n",
       "<g id=\"edge69\" class=\"edge\">\n",
       "<title>68&#45;&gt;69</title>\n",
       "<path fill=\"none\" stroke=\"#000000\" d=\"M604,-152.9748C604,-146.195 604,-135.966 604,-127.1331\"/>\n",
       "<polygon fill=\"#000000\" stroke=\"#000000\" points=\"607.5001,-127.0561 604,-117.0561 600.5001,-127.0561 607.5001,-127.0561\"/>\n",
       "</g>\n",
       "<!-- 72 -->\n",
       "<g id=\"node73\" class=\"node\">\n",
       "<title>72</title>\n",
       "<text text-anchor=\"middle\" x=\"700\" y=\"-156.8\" font-family=\"Times,serif\" font-size=\"14.00\" fill=\"#000000\">&lt;digit&gt;</text>\n",
       "</g>\n",
       "<!-- 71&#45;&gt;72 -->\n",
       "<g id=\"edge72\" class=\"edge\">\n",
       "<title>71&#45;&gt;72</title>\n",
       "<path fill=\"none\" stroke=\"#000000\" d=\"M700,-203.9748C700,-197.195 700,-186.966 700,-178.1331\"/>\n",
       "<polygon fill=\"#000000\" stroke=\"#000000\" points=\"703.5001,-178.0561 700,-168.0561 696.5001,-178.0561 703.5001,-178.0561\"/>\n",
       "</g>\n",
       "<!-- 73 -->\n",
       "<g id=\"node74\" class=\"node\">\n",
       "<title>73</title>\n",
       "<text text-anchor=\"middle\" x=\"700\" y=\"-105.8\" font-family=\"Times,serif\" font-size=\"14.00\" fill=\"#000000\">8</text>\n",
       "</g>\n",
       "<!-- 72&#45;&gt;73 -->\n",
       "<g id=\"edge73\" class=\"edge\">\n",
       "<title>72&#45;&gt;73</title>\n",
       "<path fill=\"none\" stroke=\"#000000\" d=\"M700,-152.9748C700,-146.195 700,-135.966 700,-127.1331\"/>\n",
       "<polygon fill=\"#000000\" stroke=\"#000000\" points=\"703.5001,-127.0561 700,-117.0561 696.5001,-127.0561 703.5001,-127.0561\"/>\n",
       "</g>\n",
       "<!-- 76 -->\n",
       "<g id=\"node77\" class=\"node\">\n",
       "<title>76</title>\n",
       "<text text-anchor=\"middle\" x=\"770\" y=\"-207.8\" font-family=\"Times,serif\" font-size=\"14.00\" fill=\"#000000\">&lt;factor&gt;</text>\n",
       "</g>\n",
       "<!-- 75&#45;&gt;76 -->\n",
       "<g id=\"edge76\" class=\"edge\">\n",
       "<title>75&#45;&gt;76</title>\n",
       "<path fill=\"none\" stroke=\"#000000\" d=\"M758.9182,-254.9748C760.6656,-248.1196 763.3118,-237.7383 765.5802,-228.8392\"/>\n",
       "<polygon fill=\"#000000\" stroke=\"#000000\" points=\"768.9954,-229.6108 768.0739,-219.0561 762.2123,-227.8817 768.9954,-229.6108\"/>\n",
       "</g>\n",
       "<!-- 77 -->\n",
       "<g id=\"node78\" class=\"node\">\n",
       "<title>77</title>\n",
       "<text text-anchor=\"middle\" x=\"770\" y=\"-156.8\" font-family=\"Times,serif\" font-size=\"14.00\" fill=\"#000000\">&lt;integer&gt;</text>\n",
       "</g>\n",
       "<!-- 76&#45;&gt;77 -->\n",
       "<g id=\"edge77\" class=\"edge\">\n",
       "<title>76&#45;&gt;77</title>\n",
       "<path fill=\"none\" stroke=\"#000000\" d=\"M770,-203.9748C770,-197.195 770,-186.966 770,-178.1331\"/>\n",
       "<polygon fill=\"#000000\" stroke=\"#000000\" points=\"773.5001,-178.0561 770,-168.0561 766.5001,-178.0561 773.5001,-178.0561\"/>\n",
       "</g>\n",
       "<!-- 78 -->\n",
       "<g id=\"node79\" class=\"node\">\n",
       "<title>78</title>\n",
       "<text text-anchor=\"middle\" x=\"770\" y=\"-105.8\" font-family=\"Times,serif\" font-size=\"14.00\" fill=\"#000000\">&lt;digit&gt;</text>\n",
       "</g>\n",
       "<!-- 77&#45;&gt;78 -->\n",
       "<g id=\"edge78\" class=\"edge\">\n",
       "<title>77&#45;&gt;78</title>\n",
       "<path fill=\"none\" stroke=\"#000000\" d=\"M770,-152.9748C770,-146.195 770,-135.966 770,-127.1331\"/>\n",
       "<polygon fill=\"#000000\" stroke=\"#000000\" points=\"773.5001,-127.0561 770,-117.0561 766.5001,-127.0561 773.5001,-127.0561\"/>\n",
       "</g>\n",
       "<!-- 79 -->\n",
       "<g id=\"node80\" class=\"node\">\n",
       "<title>79</title>\n",
       "<text text-anchor=\"middle\" x=\"770\" y=\"-54.8\" font-family=\"Times,serif\" font-size=\"14.00\" fill=\"#000000\">3</text>\n",
       "</g>\n",
       "<!-- 78&#45;&gt;79 -->\n",
       "<g id=\"edge79\" class=\"edge\">\n",
       "<title>78&#45;&gt;79</title>\n",
       "<path fill=\"none\" stroke=\"#000000\" d=\"M770,-101.9748C770,-95.195 770,-84.966 770,-76.1331\"/>\n",
       "<polygon fill=\"#000000\" stroke=\"#000000\" points=\"773.5001,-76.0561 770,-66.0561 766.5001,-76.0561 773.5001,-76.0561\"/>\n",
       "</g>\n",
       "</g>\n",
       "</svg>\n"
      ],
      "text/plain": [
       "<graphviz.dot.Digraph at 0x121c554e0>"
      ]
     },
     "metadata": {},
     "output_type": "display_data"
    }
   ],
   "source": [
    "display_tree(f.derivation_tree)"
   ]
  },
  {
   "cell_type": "markdown",
   "metadata": {
    "slideshow": {
     "slide_type": "subslide"
    }
   },
   "source": [
    "Let us try out the grammar fuzzer (and its trees) on other grammar formats."
   ]
  },
  {
   "cell_type": "code",
   "execution_count": 80,
   "metadata": {
    "button": false,
    "new_sheet": false,
    "run_control": {
     "read_only": false
    },
    "slideshow": {
     "slide_type": "fragment"
    }
   },
   "outputs": [
    {
     "data": {
      "text/plain": [
       "'http://fuzzingbook.com:80/?def=71'"
      ]
     },
     "execution_count": 80,
     "metadata": {},
     "output_type": "execute_result"
    }
   ],
   "source": [
    "f = GrammarFuzzer(URL_GRAMMAR)\n",
    "f.fuzz()"
   ]
  },
  {
   "cell_type": "code",
   "execution_count": 81,
   "metadata": {
    "slideshow": {
     "slide_type": "fragment"
    }
   },
   "outputs": [
    {
     "data": {
      "image/svg+xml": [
       "<?xml version=\"1.0\" encoding=\"UTF-8\" standalone=\"no\"?>\n",
       "<!DOCTYPE svg PUBLIC \"-//W3C//DTD SVG 1.1//EN\"\n",
       " \"http://www.w3.org/Graphics/SVG/1.1/DTD/svg11.dtd\">\n",
       "<!-- Generated by graphviz version 2.40.1 (20161225.0304)\n",
       " -->\n",
       "<!-- Title: %3 Pages: 1 -->\n",
       "<svg width=\"423pt\" height=\"380pt\"\n",
       " viewBox=\"0.00 0.00 423.00 380.00\" xmlns=\"http://www.w3.org/2000/svg\" xmlns:xlink=\"http://www.w3.org/1999/xlink\">\n",
       "<g id=\"graph0\" class=\"graph\" transform=\"scale(1 1) rotate(0) translate(4 376)\">\n",
       "<title>%3</title>\n",
       "<polygon fill=\"#ffffff\" stroke=\"transparent\" points=\"-4,4 -4,-376 419,-376 419,4 -4,4\"/>\n",
       "<!-- 0 -->\n",
       "<g id=\"node1\" class=\"node\">\n",
       "<title>0</title>\n",
       "<text text-anchor=\"middle\" x=\"140\" y=\"-360.8\" font-family=\"Times,serif\" font-size=\"14.00\" fill=\"#000000\">&lt;start&gt;</text>\n",
       "</g>\n",
       "<!-- 1 -->\n",
       "<g id=\"node2\" class=\"node\">\n",
       "<title>1</title>\n",
       "<text text-anchor=\"middle\" x=\"140\" y=\"-309.8\" font-family=\"Times,serif\" font-size=\"14.00\" fill=\"#000000\">&lt;url&gt;</text>\n",
       "</g>\n",
       "<!-- 0&#45;&gt;1 -->\n",
       "<g id=\"edge1\" class=\"edge\">\n",
       "<title>0&#45;&gt;1</title>\n",
       "<path fill=\"none\" stroke=\"#000000\" d=\"M140,-356.9748C140,-350.195 140,-339.966 140,-331.1331\"/>\n",
       "<polygon fill=\"#000000\" stroke=\"#000000\" points=\"143.5001,-331.0561 140,-321.0561 136.5001,-331.0561 143.5001,-331.0561\"/>\n",
       "</g>\n",
       "<!-- 2 -->\n",
       "<g id=\"node3\" class=\"node\">\n",
       "<title>2</title>\n",
       "<text text-anchor=\"middle\" x=\"29\" y=\"-258.8\" font-family=\"Times,serif\" font-size=\"14.00\" fill=\"#000000\">&lt;scheme&gt;</text>\n",
       "</g>\n",
       "<!-- 1&#45;&gt;2 -->\n",
       "<g id=\"edge2\" class=\"edge\">\n",
       "<title>1&#45;&gt;2</title>\n",
       "<path fill=\"none\" stroke=\"#000000\" d=\"M123.6216,-305.9748C105.4224,-297.613 75.8044,-284.0047 54.551,-274.2397\"/>\n",
       "<polygon fill=\"#000000\" stroke=\"#000000\" points=\"55.9937,-271.0508 45.4456,-270.0561 53.0711,-277.4115 55.9937,-271.0508\"/>\n",
       "</g>\n",
       "<!-- 4 -->\n",
       "<g id=\"node5\" class=\"node\">\n",
       "<title>4</title>\n",
       "<text text-anchor=\"middle\" x=\"82\" y=\"-258.8\" font-family=\"Times,serif\" font-size=\"14.00\" fill=\"#000000\">://</text>\n",
       "</g>\n",
       "<!-- 1&#45;&gt;4 -->\n",
       "<g id=\"edge4\" class=\"edge\">\n",
       "<title>1&#45;&gt;4</title>\n",
       "<path fill=\"none\" stroke=\"#000000\" d=\"M131.4419,-305.9748C122.093,-297.7542 106.9771,-284.4626 95.917,-274.7374\"/>\n",
       "<polygon fill=\"#000000\" stroke=\"#000000\" points=\"97.9251,-271.8425 88.1042,-267.8675 93.3028,-277.0993 97.9251,-271.8425\"/>\n",
       "</g>\n",
       "<!-- 5 -->\n",
       "<g id=\"node6\" class=\"node\">\n",
       "<title>5</title>\n",
       "<text text-anchor=\"middle\" x=\"140\" y=\"-258.8\" font-family=\"Times,serif\" font-size=\"14.00\" fill=\"#000000\">&lt;authority&gt;</text>\n",
       "</g>\n",
       "<!-- 1&#45;&gt;5 -->\n",
       "<g id=\"edge5\" class=\"edge\">\n",
       "<title>1&#45;&gt;5</title>\n",
       "<path fill=\"none\" stroke=\"#000000\" d=\"M140,-305.9748C140,-299.195 140,-288.966 140,-280.1331\"/>\n",
       "<polygon fill=\"#000000\" stroke=\"#000000\" points=\"143.5001,-280.0561 140,-270.0561 136.5001,-280.0561 143.5001,-280.0561\"/>\n",
       "</g>\n",
       "<!-- 11 -->\n",
       "<g id=\"node12\" class=\"node\">\n",
       "<title>11</title>\n",
       "<text text-anchor=\"middle\" x=\"212\" y=\"-258.8\" font-family=\"Times,serif\" font-size=\"14.00\" fill=\"#000000\">&lt;path&gt;</text>\n",
       "</g>\n",
       "<!-- 1&#45;&gt;11 -->\n",
       "<g id=\"edge11\" class=\"edge\">\n",
       "<title>1&#45;&gt;11</title>\n",
       "<path fill=\"none\" stroke=\"#000000\" d=\"M150.6238,-305.9748C161.7906,-298.065 179.5851,-285.4606 193.1453,-275.8554\"/>\n",
       "<polygon fill=\"#000000\" stroke=\"#000000\" points=\"195.1954,-278.6924 201.3326,-270.0561 191.1492,-272.9802 195.1954,-278.6924\"/>\n",
       "</g>\n",
       "<!-- 13 -->\n",
       "<g id=\"node14\" class=\"node\">\n",
       "<title>13</title>\n",
       "<text text-anchor=\"middle\" x=\"274\" y=\"-258.8\" font-family=\"Times,serif\" font-size=\"14.00\" fill=\"#000000\">&lt;query&gt;</text>\n",
       "</g>\n",
       "<!-- 1&#45;&gt;13 -->\n",
       "<g id=\"edge13\" class=\"edge\">\n",
       "<title>1&#45;&gt;13</title>\n",
       "<path fill=\"none\" stroke=\"#000000\" d=\"M156.1635,-307.3482C177.986,-299.0426 217.2634,-284.0938 244.4386,-273.751\"/>\n",
       "<polygon fill=\"#000000\" stroke=\"#000000\" points=\"245.7472,-276.9979 253.8482,-270.1697 243.2572,-270.4557 245.7472,-276.9979\"/>\n",
       "</g>\n",
       "<!-- 3 -->\n",
       "<g id=\"node4\" class=\"node\">\n",
       "<title>3</title>\n",
       "<text text-anchor=\"middle\" x=\"29\" y=\"-207.8\" font-family=\"Times,serif\" font-size=\"14.00\" fill=\"#000000\">http</text>\n",
       "</g>\n",
       "<!-- 2&#45;&gt;3 -->\n",
       "<g id=\"edge3\" class=\"edge\">\n",
       "<title>2&#45;&gt;3</title>\n",
       "<path fill=\"none\" stroke=\"#000000\" d=\"M29,-254.9748C29,-248.195 29,-237.966 29,-229.1331\"/>\n",
       "<polygon fill=\"#000000\" stroke=\"#000000\" points=\"32.5001,-229.0561 29,-219.0561 25.5001,-229.0561 32.5001,-229.0561\"/>\n",
       "</g>\n",
       "<!-- 6 -->\n",
       "<g id=\"node7\" class=\"node\">\n",
       "<title>6</title>\n",
       "<text text-anchor=\"middle\" x=\"96\" y=\"-207.8\" font-family=\"Times,serif\" font-size=\"14.00\" fill=\"#000000\">&lt;host&gt;</text>\n",
       "</g>\n",
       "<!-- 5&#45;&gt;6 -->\n",
       "<g id=\"edge6\" class=\"edge\">\n",
       "<title>5&#45;&gt;6</title>\n",
       "<path fill=\"none\" stroke=\"#000000\" d=\"M133.5076,-254.9748C127.1385,-247.5923 117.241,-236.1203 109.2122,-226.8142\"/>\n",
       "<polygon fill=\"#000000\" stroke=\"#000000\" points=\"111.7014,-224.3414 102.519,-219.0561 106.4013,-228.914 111.7014,-224.3414\"/>\n",
       "</g>\n",
       "<!-- 8 -->\n",
       "<g id=\"node9\" class=\"node\">\n",
       "<title>8</title>\n",
       "<text text-anchor=\"middle\" x=\"136\" y=\"-207.8\" font-family=\"Times,serif\" font-size=\"14.00\" fill=\"#000000\">:</text>\n",
       "</g>\n",
       "<!-- 5&#45;&gt;8 -->\n",
       "<g id=\"edge8\" class=\"edge\">\n",
       "<title>5&#45;&gt;8</title>\n",
       "<path fill=\"none\" stroke=\"#000000\" d=\"M139.4098,-254.9748C138.878,-248.195 138.0758,-237.966 137.383,-229.1331\"/>\n",
       "<polygon fill=\"#000000\" stroke=\"#000000\" points=\"140.8639,-228.7518 136.5926,-219.0561 133.8854,-229.2992 140.8639,-228.7518\"/>\n",
       "</g>\n",
       "<!-- 9 -->\n",
       "<g id=\"node10\" class=\"node\">\n",
       "<title>9</title>\n",
       "<text text-anchor=\"middle\" x=\"176\" y=\"-207.8\" font-family=\"Times,serif\" font-size=\"14.00\" fill=\"#000000\">&lt;port&gt;</text>\n",
       "</g>\n",
       "<!-- 5&#45;&gt;9 -->\n",
       "<g id=\"edge9\" class=\"edge\">\n",
       "<title>5&#45;&gt;9</title>\n",
       "<path fill=\"none\" stroke=\"#000000\" d=\"M145.3119,-254.9748C150.4167,-247.743 158.2916,-236.5868 164.7859,-227.3866\"/>\n",
       "<polygon fill=\"#000000\" stroke=\"#000000\" points=\"167.7588,-229.2442 170.6663,-219.0561 162.04,-225.2074 167.7588,-229.2442\"/>\n",
       "</g>\n",
       "<!-- 7 -->\n",
       "<g id=\"node8\" class=\"node\">\n",
       "<title>7</title>\n",
       "<text text-anchor=\"middle\" x=\"96\" y=\"-156.8\" font-family=\"Times,serif\" font-size=\"14.00\" fill=\"#000000\">fuzzingbook.com</text>\n",
       "</g>\n",
       "<!-- 6&#45;&gt;7 -->\n",
       "<g id=\"edge7\" class=\"edge\">\n",
       "<title>6&#45;&gt;7</title>\n",
       "<path fill=\"none\" stroke=\"#000000\" d=\"M96,-203.9748C96,-197.195 96,-186.966 96,-178.1331\"/>\n",
       "<polygon fill=\"#000000\" stroke=\"#000000\" points=\"99.5001,-178.0561 96,-168.0561 92.5001,-178.0561 99.5001,-178.0561\"/>\n",
       "</g>\n",
       "<!-- 10 -->\n",
       "<g id=\"node11\" class=\"node\">\n",
       "<title>10</title>\n",
       "<text text-anchor=\"middle\" x=\"176\" y=\"-156.8\" font-family=\"Times,serif\" font-size=\"14.00\" fill=\"#000000\">80</text>\n",
       "</g>\n",
       "<!-- 9&#45;&gt;10 -->\n",
       "<g id=\"edge10\" class=\"edge\">\n",
       "<title>9&#45;&gt;10</title>\n",
       "<path fill=\"none\" stroke=\"#000000\" d=\"M176,-203.9748C176,-197.195 176,-186.966 176,-178.1331\"/>\n",
       "<polygon fill=\"#000000\" stroke=\"#000000\" points=\"179.5001,-178.0561 176,-168.0561 172.5001,-178.0561 179.5001,-178.0561\"/>\n",
       "</g>\n",
       "<!-- 12 -->\n",
       "<g id=\"node13\" class=\"node\">\n",
       "<title>12</title>\n",
       "<text text-anchor=\"middle\" x=\"216\" y=\"-207.8\" font-family=\"Times,serif\" font-size=\"14.00\" fill=\"#000000\">/</text>\n",
       "</g>\n",
       "<!-- 11&#45;&gt;12 -->\n",
       "<g id=\"edge12\" class=\"edge\">\n",
       "<title>11&#45;&gt;12</title>\n",
       "<path fill=\"none\" stroke=\"#000000\" d=\"M212.5902,-254.9748C213.122,-248.195 213.9242,-237.966 214.617,-229.1331\"/>\n",
       "<polygon fill=\"#000000\" stroke=\"#000000\" points=\"218.1146,-229.2992 215.4074,-219.0561 211.1361,-228.7518 218.1146,-229.2992\"/>\n",
       "</g>\n",
       "<!-- 14 -->\n",
       "<g id=\"node15\" class=\"node\">\n",
       "<title>14</title>\n",
       "<text text-anchor=\"middle\" x=\"259\" y=\"-207.8\" font-family=\"Times,serif\" font-size=\"14.00\" fill=\"#000000\">?</text>\n",
       "</g>\n",
       "<!-- 13&#45;&gt;14 -->\n",
       "<g id=\"edge14\" class=\"edge\">\n",
       "<title>13&#45;&gt;14</title>\n",
       "<path fill=\"none\" stroke=\"#000000\" d=\"M271.7867,-254.9748C269.7705,-248.1196 266.7171,-237.7383 264.0998,-228.8392\"/>\n",
       "<polygon fill=\"#000000\" stroke=\"#000000\" points=\"267.4019,-227.6622 261.2224,-219.0561 260.6863,-229.6374 267.4019,-227.6622\"/>\n",
       "</g>\n",
       "<!-- 15 -->\n",
       "<g id=\"node16\" class=\"node\">\n",
       "<title>15</title>\n",
       "<text text-anchor=\"middle\" x=\"309\" y=\"-207.8\" font-family=\"Times,serif\" font-size=\"14.00\" fill=\"#000000\">&lt;params&gt;</text>\n",
       "</g>\n",
       "<!-- 13&#45;&gt;15 -->\n",
       "<g id=\"edge15\" class=\"edge\">\n",
       "<title>13&#45;&gt;15</title>\n",
       "<path fill=\"none\" stroke=\"#000000\" d=\"M279.1644,-254.9748C284.1274,-247.743 291.7835,-236.5868 298.0974,-227.3866\"/>\n",
       "<polygon fill=\"#000000\" stroke=\"#000000\" points=\"301.0418,-229.2817 303.8144,-219.0561 295.2702,-225.3208 301.0418,-229.2817\"/>\n",
       "</g>\n",
       "<!-- 16 -->\n",
       "<g id=\"node17\" class=\"node\">\n",
       "<title>16</title>\n",
       "<text text-anchor=\"middle\" x=\"309\" y=\"-156.8\" font-family=\"Times,serif\" font-size=\"14.00\" fill=\"#000000\">&lt;param&gt;</text>\n",
       "</g>\n",
       "<!-- 15&#45;&gt;16 -->\n",
       "<g id=\"edge16\" class=\"edge\">\n",
       "<title>15&#45;&gt;16</title>\n",
       "<path fill=\"none\" stroke=\"#000000\" d=\"M309,-203.9748C309,-197.195 309,-186.966 309,-178.1331\"/>\n",
       "<polygon fill=\"#000000\" stroke=\"#000000\" points=\"312.5001,-178.0561 309,-168.0561 305.5001,-178.0561 312.5001,-178.0561\"/>\n",
       "</g>\n",
       "<!-- 17 -->\n",
       "<g id=\"node18\" class=\"node\">\n",
       "<title>17</title>\n",
       "<text text-anchor=\"middle\" x=\"273\" y=\"-105.8\" font-family=\"Times,serif\" font-size=\"14.00\" fill=\"#000000\">&lt;id&gt;</text>\n",
       "</g>\n",
       "<!-- 16&#45;&gt;17 -->\n",
       "<g id=\"edge17\" class=\"edge\">\n",
       "<title>16&#45;&gt;17</title>\n",
       "<path fill=\"none\" stroke=\"#000000\" d=\"M303.6881,-152.9748C298.5833,-145.743 290.7084,-134.5868 284.2141,-125.3866\"/>\n",
       "<polygon fill=\"#000000\" stroke=\"#000000\" points=\"286.96,-123.2074 278.3337,-117.0561 281.2412,-127.2442 286.96,-123.2074\"/>\n",
       "</g>\n",
       "<!-- 19 -->\n",
       "<g id=\"node20\" class=\"node\">\n",
       "<title>19</title>\n",
       "<text text-anchor=\"middle\" x=\"309\" y=\"-105.8\" font-family=\"Times,serif\" font-size=\"14.00\" fill=\"#000000\">=</text>\n",
       "</g>\n",
       "<!-- 16&#45;&gt;19 -->\n",
       "<g id=\"edge19\" class=\"edge\">\n",
       "<title>16&#45;&gt;19</title>\n",
       "<path fill=\"none\" stroke=\"#000000\" d=\"M309,-152.9748C309,-146.195 309,-135.966 309,-127.1331\"/>\n",
       "<polygon fill=\"#000000\" stroke=\"#000000\" points=\"312.5001,-127.0561 309,-117.0561 305.5001,-127.0561 312.5001,-127.0561\"/>\n",
       "</g>\n",
       "<!-- 20 -->\n",
       "<g id=\"node21\" class=\"node\">\n",
       "<title>20</title>\n",
       "<text text-anchor=\"middle\" x=\"348\" y=\"-105.8\" font-family=\"Times,serif\" font-size=\"14.00\" fill=\"#000000\">&lt;nat&gt;</text>\n",
       "</g>\n",
       "<!-- 16&#45;&gt;20 -->\n",
       "<g id=\"edge20\" class=\"edge\">\n",
       "<title>16&#45;&gt;20</title>\n",
       "<path fill=\"none\" stroke=\"#000000\" d=\"M314.7546,-152.9748C320.3424,-145.6677 328.994,-134.354 336.0708,-125.0997\"/>\n",
       "<polygon fill=\"#000000\" stroke=\"#000000\" points=\"338.9275,-127.1258 342.2218,-117.0561 333.367,-122.8736 338.9275,-127.1258\"/>\n",
       "</g>\n",
       "<!-- 18 -->\n",
       "<g id=\"node19\" class=\"node\">\n",
       "<title>18</title>\n",
       "<text text-anchor=\"middle\" x=\"273\" y=\"-54.8\" font-family=\"Times,serif\" font-size=\"14.00\" fill=\"#000000\">def</text>\n",
       "</g>\n",
       "<!-- 17&#45;&gt;18 -->\n",
       "<g id=\"edge18\" class=\"edge\">\n",
       "<title>17&#45;&gt;18</title>\n",
       "<path fill=\"none\" stroke=\"#000000\" d=\"M273,-101.9748C273,-95.195 273,-84.966 273,-76.1331\"/>\n",
       "<polygon fill=\"#000000\" stroke=\"#000000\" points=\"276.5001,-76.0561 273,-66.0561 269.5001,-76.0561 276.5001,-76.0561\"/>\n",
       "</g>\n",
       "<!-- 21 -->\n",
       "<g id=\"node22\" class=\"node\">\n",
       "<title>21</title>\n",
       "<text text-anchor=\"middle\" x=\"334\" y=\"-54.8\" font-family=\"Times,serif\" font-size=\"14.00\" fill=\"#000000\">&lt;digit&gt;</text>\n",
       "</g>\n",
       "<!-- 20&#45;&gt;21 -->\n",
       "<g id=\"edge21\" class=\"edge\">\n",
       "<title>20&#45;&gt;21</title>\n",
       "<path fill=\"none\" stroke=\"#000000\" d=\"M345.9343,-101.9748C344.0524,-95.1196 341.2027,-84.7383 338.7598,-75.8392\"/>\n",
       "<polygon fill=\"#000000\" stroke=\"#000000\" points=\"342.0966,-74.7728 336.0742,-66.0561 335.3463,-76.6259 342.0966,-74.7728\"/>\n",
       "</g>\n",
       "<!-- 23 -->\n",
       "<g id=\"node24\" class=\"node\">\n",
       "<title>23</title>\n",
       "<text text-anchor=\"middle\" x=\"394\" y=\"-54.8\" font-family=\"Times,serif\" font-size=\"14.00\" fill=\"#000000\">&lt;digit&gt;</text>\n",
       "</g>\n",
       "<!-- 20&#45;&gt;23 -->\n",
       "<g id=\"edge23\" class=\"edge\">\n",
       "<title>20&#45;&gt;23</title>\n",
       "<path fill=\"none\" stroke=\"#000000\" d=\"M354.7875,-101.9748C361.5141,-94.517 372.005,-82.8857 380.4436,-73.53\"/>\n",
       "<polygon fill=\"#000000\" stroke=\"#000000\" points=\"383.086,-75.826 387.1847,-66.0561 377.888,-71.1376 383.086,-75.826\"/>\n",
       "</g>\n",
       "<!-- 22 -->\n",
       "<g id=\"node23\" class=\"node\">\n",
       "<title>22</title>\n",
       "<text text-anchor=\"middle\" x=\"334\" y=\"-3.8\" font-family=\"Times,serif\" font-size=\"14.00\" fill=\"#000000\">7</text>\n",
       "</g>\n",
       "<!-- 21&#45;&gt;22 -->\n",
       "<g id=\"edge22\" class=\"edge\">\n",
       "<title>21&#45;&gt;22</title>\n",
       "<path fill=\"none\" stroke=\"#000000\" d=\"M334,-50.9748C334,-44.195 334,-33.966 334,-25.1331\"/>\n",
       "<polygon fill=\"#000000\" stroke=\"#000000\" points=\"337.5001,-25.0561 334,-15.0561 330.5001,-25.0561 337.5001,-25.0561\"/>\n",
       "</g>\n",
       "<!-- 24 -->\n",
       "<g id=\"node25\" class=\"node\">\n",
       "<title>24</title>\n",
       "<text text-anchor=\"middle\" x=\"394\" y=\"-3.8\" font-family=\"Times,serif\" font-size=\"14.00\" fill=\"#000000\">1</text>\n",
       "</g>\n",
       "<!-- 23&#45;&gt;24 -->\n",
       "<g id=\"edge24\" class=\"edge\">\n",
       "<title>23&#45;&gt;24</title>\n",
       "<path fill=\"none\" stroke=\"#000000\" d=\"M394,-50.9748C394,-44.195 394,-33.966 394,-25.1331\"/>\n",
       "<polygon fill=\"#000000\" stroke=\"#000000\" points=\"397.5001,-25.0561 394,-15.0561 390.5001,-25.0561 397.5001,-25.0561\"/>\n",
       "</g>\n",
       "</g>\n",
       "</svg>\n"
      ],
      "text/plain": [
       "<graphviz.dot.Digraph at 0x121c4bd68>"
      ]
     },
     "metadata": {},
     "output_type": "display_data"
    }
   ],
   "source": [
    "display_tree(f.derivation_tree)"
   ]
  },
  {
   "cell_type": "code",
   "execution_count": 82,
   "metadata": {
    "button": false,
    "new_sheet": false,
    "run_control": {
     "read_only": false
    },
    "slideshow": {
     "slide_type": "subslide"
    }
   },
   "outputs": [
    {
     "data": {
      "text/plain": [
       "'314'"
      ]
     },
     "execution_count": 82,
     "metadata": {},
     "output_type": "execute_result"
    }
   ],
   "source": [
    "f = GrammarFuzzer(CGI_GRAMMAR, min_nonterminals=3, max_nonterminals=5)\n",
    "f.fuzz()"
   ]
  },
  {
   "cell_type": "code",
   "execution_count": 83,
   "metadata": {
    "slideshow": {
     "slide_type": "fragment"
    }
   },
   "outputs": [
    {
     "data": {
      "image/svg+xml": [
       "<?xml version=\"1.0\" encoding=\"UTF-8\" standalone=\"no\"?>\n",
       "<!DOCTYPE svg PUBLIC \"-//W3C//DTD SVG 1.1//EN\"\n",
       " \"http://www.w3.org/Graphics/SVG/1.1/DTD/svg11.dtd\">\n",
       "<!-- Generated by graphviz version 2.40.1 (20161225.0304)\n",
       " -->\n",
       "<!-- Title: %3 Pages: 1 -->\n",
       "<svg width=\"184pt\" height=\"329pt\"\n",
       " viewBox=\"0.00 0.00 183.50 329.00\" xmlns=\"http://www.w3.org/2000/svg\" xmlns:xlink=\"http://www.w3.org/1999/xlink\">\n",
       "<g id=\"graph0\" class=\"graph\" transform=\"scale(1 1) rotate(0) translate(4 325)\">\n",
       "<title>%3</title>\n",
       "<polygon fill=\"#ffffff\" stroke=\"transparent\" points=\"-4,4 -4,-325 179.5,-325 179.5,4 -4,4\"/>\n",
       "<!-- 0 -->\n",
       "<g id=\"node1\" class=\"node\">\n",
       "<title>0</title>\n",
       "<text text-anchor=\"middle\" x=\"54.5\" y=\"-309.8\" font-family=\"Times,serif\" font-size=\"14.00\" fill=\"#000000\">&lt;start&gt;</text>\n",
       "</g>\n",
       "<!-- 1 -->\n",
       "<g id=\"node2\" class=\"node\">\n",
       "<title>1</title>\n",
       "<text text-anchor=\"middle\" x=\"54.5\" y=\"-258.8\" font-family=\"Times,serif\" font-size=\"14.00\" fill=\"#000000\">&lt;string&gt;</text>\n",
       "</g>\n",
       "<!-- 0&#45;&gt;1 -->\n",
       "<g id=\"edge1\" class=\"edge\">\n",
       "<title>0&#45;&gt;1</title>\n",
       "<path fill=\"none\" stroke=\"#000000\" d=\"M54.5,-305.9748C54.5,-299.195 54.5,-288.966 54.5,-280.1331\"/>\n",
       "<polygon fill=\"#000000\" stroke=\"#000000\" points=\"58.0001,-280.0561 54.5,-270.0561 51.0001,-280.0561 58.0001,-280.0561\"/>\n",
       "</g>\n",
       "<!-- 2 -->\n",
       "<g id=\"node3\" class=\"node\">\n",
       "<title>2</title>\n",
       "<text text-anchor=\"middle\" x=\"22.5\" y=\"-207.8\" font-family=\"Times,serif\" font-size=\"14.00\" fill=\"#000000\">&lt;letter&gt;</text>\n",
       "</g>\n",
       "<!-- 1&#45;&gt;2 -->\n",
       "<g id=\"edge2\" class=\"edge\">\n",
       "<title>1&#45;&gt;2</title>\n",
       "<path fill=\"none\" stroke=\"#000000\" d=\"M49.7783,-254.9748C45.288,-247.8183 38.3863,-236.8188 32.6488,-227.6747\"/>\n",
       "<polygon fill=\"#000000\" stroke=\"#000000\" points=\"35.5208,-225.6665 27.2411,-219.0561 29.5913,-229.387 35.5208,-225.6665\"/>\n",
       "</g>\n",
       "<!-- 5 -->\n",
       "<g id=\"node6\" class=\"node\">\n",
       "<title>5</title>\n",
       "<text text-anchor=\"middle\" x=\"87.5\" y=\"-207.8\" font-family=\"Times,serif\" font-size=\"14.00\" fill=\"#000000\">&lt;string&gt;</text>\n",
       "</g>\n",
       "<!-- 1&#45;&gt;5 -->\n",
       "<g id=\"edge5\" class=\"edge\">\n",
       "<title>1&#45;&gt;5</title>\n",
       "<path fill=\"none\" stroke=\"#000000\" d=\"M59.3693,-254.9748C63.9999,-247.8183 71.1172,-236.8188 77.034,-227.6747\"/>\n",
       "<polygon fill=\"#000000\" stroke=\"#000000\" points=\"80.1167,-229.3532 82.6108,-219.0561 74.2397,-225.5504 80.1167,-229.3532\"/>\n",
       "</g>\n",
       "<!-- 3 -->\n",
       "<g id=\"node4\" class=\"node\">\n",
       "<title>3</title>\n",
       "<text text-anchor=\"middle\" x=\"22.5\" y=\"-156.8\" font-family=\"Times,serif\" font-size=\"14.00\" fill=\"#000000\">&lt;other&gt;</text>\n",
       "</g>\n",
       "<!-- 2&#45;&gt;3 -->\n",
       "<g id=\"edge3\" class=\"edge\">\n",
       "<title>2&#45;&gt;3</title>\n",
       "<path fill=\"none\" stroke=\"#000000\" d=\"M22.5,-203.9748C22.5,-197.195 22.5,-186.966 22.5,-178.1331\"/>\n",
       "<polygon fill=\"#000000\" stroke=\"#000000\" points=\"26.0001,-178.0561 22.5,-168.0561 19.0001,-178.0561 26.0001,-178.0561\"/>\n",
       "</g>\n",
       "<!-- 4 -->\n",
       "<g id=\"node5\" class=\"node\">\n",
       "<title>4</title>\n",
       "<text text-anchor=\"middle\" x=\"22.5\" y=\"-105.8\" font-family=\"Times,serif\" font-size=\"14.00\" fill=\"#000000\">3</text>\n",
       "</g>\n",
       "<!-- 3&#45;&gt;4 -->\n",
       "<g id=\"edge4\" class=\"edge\">\n",
       "<title>3&#45;&gt;4</title>\n",
       "<path fill=\"none\" stroke=\"#000000\" d=\"M22.5,-152.9748C22.5,-146.195 22.5,-135.966 22.5,-127.1331\"/>\n",
       "<polygon fill=\"#000000\" stroke=\"#000000\" points=\"26.0001,-127.0561 22.5,-117.0561 19.0001,-127.0561 26.0001,-127.0561\"/>\n",
       "</g>\n",
       "<!-- 6 -->\n",
       "<g id=\"node7\" class=\"node\">\n",
       "<title>6</title>\n",
       "<text text-anchor=\"middle\" x=\"86.5\" y=\"-156.8\" font-family=\"Times,serif\" font-size=\"14.00\" fill=\"#000000\">&lt;letter&gt;</text>\n",
       "</g>\n",
       "<!-- 5&#45;&gt;6 -->\n",
       "<g id=\"edge6\" class=\"edge\">\n",
       "<title>5&#45;&gt;6</title>\n",
       "<path fill=\"none\" stroke=\"#000000\" d=\"M87.3524,-203.9748C87.2195,-197.195 87.0189,-186.966 86.8457,-178.1331\"/>\n",
       "<polygon fill=\"#000000\" stroke=\"#000000\" points=\"90.3436,-177.9855 86.6482,-168.0561 83.345,-178.1228 90.3436,-177.9855\"/>\n",
       "</g>\n",
       "<!-- 9 -->\n",
       "<g id=\"node10\" class=\"node\">\n",
       "<title>9</title>\n",
       "<text text-anchor=\"middle\" x=\"151.5\" y=\"-156.8\" font-family=\"Times,serif\" font-size=\"14.00\" fill=\"#000000\">&lt;string&gt;</text>\n",
       "</g>\n",
       "<!-- 5&#45;&gt;9 -->\n",
       "<g id=\"edge9\" class=\"edge\">\n",
       "<title>5&#45;&gt;9</title>\n",
       "<path fill=\"none\" stroke=\"#000000\" d=\"M96.9434,-203.9748C106.6803,-196.2157 122.0863,-183.939 134.0474,-174.4075\"/>\n",
       "<polygon fill=\"#000000\" stroke=\"#000000\" points=\"136.3784,-177.0254 142.0178,-168.0561 132.016,-171.551 136.3784,-177.0254\"/>\n",
       "</g>\n",
       "<!-- 7 -->\n",
       "<g id=\"node8\" class=\"node\">\n",
       "<title>7</title>\n",
       "<text text-anchor=\"middle\" x=\"86.5\" y=\"-105.8\" font-family=\"Times,serif\" font-size=\"14.00\" fill=\"#000000\">&lt;other&gt;</text>\n",
       "</g>\n",
       "<!-- 6&#45;&gt;7 -->\n",
       "<g id=\"edge7\" class=\"edge\">\n",
       "<title>6&#45;&gt;7</title>\n",
       "<path fill=\"none\" stroke=\"#000000\" d=\"M86.5,-152.9748C86.5,-146.195 86.5,-135.966 86.5,-127.1331\"/>\n",
       "<polygon fill=\"#000000\" stroke=\"#000000\" points=\"90.0001,-127.0561 86.5,-117.0561 83.0001,-127.0561 90.0001,-127.0561\"/>\n",
       "</g>\n",
       "<!-- 8 -->\n",
       "<g id=\"node9\" class=\"node\">\n",
       "<title>8</title>\n",
       "<text text-anchor=\"middle\" x=\"86.5\" y=\"-54.8\" font-family=\"Times,serif\" font-size=\"14.00\" fill=\"#000000\">1</text>\n",
       "</g>\n",
       "<!-- 7&#45;&gt;8 -->\n",
       "<g id=\"edge8\" class=\"edge\">\n",
       "<title>7&#45;&gt;8</title>\n",
       "<path fill=\"none\" stroke=\"#000000\" d=\"M86.5,-101.9748C86.5,-95.195 86.5,-84.966 86.5,-76.1331\"/>\n",
       "<polygon fill=\"#000000\" stroke=\"#000000\" points=\"90.0001,-76.0561 86.5,-66.0561 83.0001,-76.0561 90.0001,-76.0561\"/>\n",
       "</g>\n",
       "<!-- 10 -->\n",
       "<g id=\"node11\" class=\"node\">\n",
       "<title>10</title>\n",
       "<text text-anchor=\"middle\" x=\"151.5\" y=\"-105.8\" font-family=\"Times,serif\" font-size=\"14.00\" fill=\"#000000\">&lt;letter&gt;</text>\n",
       "</g>\n",
       "<!-- 9&#45;&gt;10 -->\n",
       "<g id=\"edge10\" class=\"edge\">\n",
       "<title>9&#45;&gt;10</title>\n",
       "<path fill=\"none\" stroke=\"#000000\" d=\"M151.5,-152.9748C151.5,-146.195 151.5,-135.966 151.5,-127.1331\"/>\n",
       "<polygon fill=\"#000000\" stroke=\"#000000\" points=\"155.0001,-127.0561 151.5,-117.0561 148.0001,-127.0561 155.0001,-127.0561\"/>\n",
       "</g>\n",
       "<!-- 11 -->\n",
       "<g id=\"node12\" class=\"node\">\n",
       "<title>11</title>\n",
       "<text text-anchor=\"middle\" x=\"151.5\" y=\"-54.8\" font-family=\"Times,serif\" font-size=\"14.00\" fill=\"#000000\">&lt;other&gt;</text>\n",
       "</g>\n",
       "<!-- 10&#45;&gt;11 -->\n",
       "<g id=\"edge11\" class=\"edge\">\n",
       "<title>10&#45;&gt;11</title>\n",
       "<path fill=\"none\" stroke=\"#000000\" d=\"M151.5,-101.9748C151.5,-95.195 151.5,-84.966 151.5,-76.1331\"/>\n",
       "<polygon fill=\"#000000\" stroke=\"#000000\" points=\"155.0001,-76.0561 151.5,-66.0561 148.0001,-76.0561 155.0001,-76.0561\"/>\n",
       "</g>\n",
       "<!-- 12 -->\n",
       "<g id=\"node13\" class=\"node\">\n",
       "<title>12</title>\n",
       "<text text-anchor=\"middle\" x=\"151.5\" y=\"-3.8\" font-family=\"Times,serif\" font-size=\"14.00\" fill=\"#000000\">4</text>\n",
       "</g>\n",
       "<!-- 11&#45;&gt;12 -->\n",
       "<g id=\"edge12\" class=\"edge\">\n",
       "<title>11&#45;&gt;12</title>\n",
       "<path fill=\"none\" stroke=\"#000000\" d=\"M151.5,-50.9748C151.5,-44.195 151.5,-33.966 151.5,-25.1331\"/>\n",
       "<polygon fill=\"#000000\" stroke=\"#000000\" points=\"155.0001,-25.0561 151.5,-15.0561 148.0001,-25.0561 155.0001,-25.0561\"/>\n",
       "</g>\n",
       "</g>\n",
       "</svg>\n"
      ],
      "text/plain": [
       "<graphviz.dot.Digraph at 0x121c4bd68>"
      ]
     },
     "metadata": {},
     "output_type": "display_data"
    }
   ],
   "source": [
    "display_tree(f.derivation_tree)"
   ]
  },
  {
   "cell_type": "markdown",
   "metadata": {
    "button": false,
    "new_sheet": false,
    "run_control": {
     "read_only": false
    },
    "slideshow": {
     "slide_type": "subslide"
    }
   },
   "source": [
    "How do we stack up against `simple_grammar_fuzzer()`?"
   ]
  },
  {
   "cell_type": "code",
   "execution_count": 84,
   "metadata": {
    "button": false,
    "new_sheet": false,
    "run_control": {
     "read_only": false
    },
    "slideshow": {
     "slide_type": "fragment"
    }
   },
   "outputs": [
    {
     "name": "stdout",
     "output_type": "stream",
     "text": [
      "0 1 2 3 4 5 6 7 8 9 10 11 12 13 14 15 16 17 18 19 20 21 22 23 24 25 26 27 28 29 30 31 32 33 34 35 36 37 38 39 40 41 42 43 44 45 46 47 48 49 \n"
     ]
    }
   ],
   "source": [
    "trials = 50\n",
    "xs = []\n",
    "ys = []\n",
    "f = GrammarFuzzer(EXPR_GRAMMAR, max_nonterminals=20)\n",
    "for i in range(trials):\n",
    "    with Timer() as t:\n",
    "        s = f.fuzz()\n",
    "    xs.append(len(s))\n",
    "    ys.append(t.elapsed_time())\n",
    "    print(i, end=\" \")\n",
    "print()"
   ]
  },
  {
   "cell_type": "code",
   "execution_count": 85,
   "metadata": {
    "button": false,
    "new_sheet": false,
    "run_control": {
     "read_only": false
    },
    "slideshow": {
     "slide_type": "fragment"
    }
   },
   "outputs": [
    {
     "name": "stdout",
     "output_type": "stream",
     "text": [
      "Average time: 0.04223372411972377\n"
     ]
    }
   ],
   "source": [
    "average_time = sum(ys) / trials\n",
    "print(\"Average time:\", average_time)"
   ]
  },
  {
   "cell_type": "code",
   "execution_count": 86,
   "metadata": {
    "button": false,
    "new_sheet": false,
    "run_control": {
     "read_only": false
    },
    "slideshow": {
     "slide_type": "subslide"
    }
   },
   "outputs": [
    {
     "data": {
      "text/plain": [
       "Text(0.5,1,'Time required for generating an output')"
      ]
     },
     "execution_count": 86,
     "metadata": {},
     "output_type": "execute_result"
    },
    {
     "data": {
      "image/png": "[encoded data removed]",
      "text/plain": [
       "<Figure size 432x288 with 1 Axes>"
      ]
     },
     "metadata": {
      "needs_background": "light"
     },
     "output_type": "display_data"
    }
   ],
   "source": [
    "%matplotlib inline\n",
    "\n",
    "import matplotlib.pyplot as plt\n",
    "plt.scatter(xs, ys)\n",
    "plt.title('Time required for generating an output')"
   ]
  },
  {
   "cell_type": "markdown",
   "metadata": {
    "button": false,
    "new_sheet": false,
    "run_control": {
     "read_only": false
    },
    "slideshow": {
     "slide_type": "fragment"
    }
   },
   "source": [
    "Our test generation is much faster, but also our inputs are much smaller.  We see that with derivation trees, we can get much better control over grammar production."
   ]
  },
  {
   "cell_type": "markdown",
   "metadata": {
    "slideshow": {
     "slide_type": "subslide"
    }
   },
   "source": [
    "Finally, how does `GrammarFuzzer` work with `expr_grammar`, where `simple_grammar_fuzzer()` failed?  It works without any issue:"
   ]
  },
  {
   "cell_type": "code",
   "execution_count": 87,
   "metadata": {
    "slideshow": {
     "slide_type": "fragment"
    }
   },
   "outputs": [
    {
     "data": {
      "text/plain": [
       "'6 / 1 / 6 + 2 / 1 * 1 - 4 * 6'"
      ]
     },
     "execution_count": 87,
     "metadata": {},
     "output_type": "execute_result"
    }
   ],
   "source": [
    "f = GrammarFuzzer(expr_grammar, max_nonterminals=10)\n",
    "f.fuzz()"
   ]
  },
  {
   "cell_type": "markdown",
   "metadata": {
    "slideshow": {
     "slide_type": "fragment"
    }
   },
   "source": [
    "With `GrammarFuzzer`, we now have a solid foundation on which to build further fuzzers and illustrate more exciting concepts from the world of generating software tests.  Many of these do not even require writing a grammar – instead, they _infer_ a grammar from the domain at hand, and thus allow to use grammar-based fuzzing even without writing a grammar.  Stay tuned!"
   ]
  },
  {
   "cell_type": "markdown",
   "metadata": {
    "button": false,
    "new_sheet": true,
    "run_control": {
     "read_only": false
    },
    "slideshow": {
     "slide_type": "slide"
    }
   },
   "source": [
    "## Lessons Learned\n",
    "\n",
    "* _Derivation trees_ are important for expressing input structure\n",
    "* _Grammar fuzzing based on derivation trees_ \n",
    "    1. is much more efficient than string-based grammar fuzzing,\n",
    "    2. gives much better control over input generation, and\n",
    "    3. effectively avoids running into infinite expansions."
   ]
  },
  {
   "cell_type": "markdown",
   "metadata": {
    "button": false,
    "new_sheet": false,
    "run_control": {
     "read_only": false
    },
    "slideshow": {
     "slide_type": "skip"
    }
   },
   "source": [
    "## Next Steps\n",
    "\n",
    "Congratulations!  You have reached one of the central \"hubs\" of the book.  From here, there is a wide range of techniques that build on grammar fuzzing."
   ]
  },
  {
   "cell_type": "markdown",
   "metadata": {
    "button": false,
    "new_sheet": false,
    "run_control": {
     "read_only": false
    },
    "slideshow": {
     "slide_type": "skip"
    }
   },
   "source": [
    "### Extending Grammars\n",
    "\n",
    "First, we have a number of techniques that all _extend_ grammars in some form:\n",
    "\n",
    "* [Parsing and recombining inputs](Parser.ipynb) allows to make use of existing inputs, again using derivation trees\n",
    "* [Covering grammar expansions](GrammarCoverageFuzzer.ipynb) allows for _combinatorial_ coverage\n",
    "* [Assigning _probabilities_ to individual expansions](ProbabilisticGrammarFuzzer.ipynb) gives additional control over expansions\n",
    "* [Assigning _constraints_ to individual expansions](ConstraintGrammarFuzzer.ipynb) allows to express _semantic constraints_ on individual rules."
   ]
  },
  {
   "cell_type": "markdown",
   "metadata": {
    "button": false,
    "new_sheet": false,
    "run_control": {
     "read_only": false
    },
    "slideshow": {
     "slide_type": "skip"
    }
   },
   "source": [
    "### Applying Grammars\n",
    "\n",
    "Second, we can _apply_ grammars in a variety of contexts that all involve some form of learning it automatically:\n",
    "\n",
    "* [Fuzzing APIs](APIFuzzer.ipynb), learning a grammar from APIs\n",
    "* [Fuzzing GUIs](GUIFuzzer.ipynb), learning a grammar from user interfaces for subsequent fuzzing\n",
    "* [Mining Grammars](GrammarMiner.ipynb), learning a grammar for arbitrary input formats\n",
    "\n",
    "Keep on expanding!"
   ]
  },
  {
   "cell_type": "markdown",
   "metadata": {
    "slideshow": {
     "slide_type": "slide"
    }
   },
   "source": [
    "## Background\n",
    "\n",
    "Derivation trees (then frequently called _parse trees_) are a standard data structure into which _parsers_ decompose inputs.  The \"Dragon Book\" (also known as \"Compilers: Principles, Techniques, and Tools\") \\cite{Aho2006} discusses parsing into derivation trees as part of compiling programs.  We also use derivation trees [when parsing and recombining inputs](Parser.ipynb).\n",
    "\n",
    "The key idea in this chapter, namely expanding until a limit of symbols is reached, and then always choosing the shortest path, stems from Luke \\cite{Luke2000}."
   ]
  },
  {
   "cell_type": "markdown",
   "metadata": {
    "button": false,
    "new_sheet": false,
    "run_control": {
     "read_only": false
    },
    "slideshow": {
     "slide_type": "slide"
    }
   },
   "source": [
    "## Exercises"
   ]
  },
  {
   "cell_type": "markdown",
   "metadata": {
    "button": false,
    "new_sheet": false,
    "run_control": {
     "read_only": false
    },
    "slideshow": {
     "slide_type": "subslide"
    }
   },
   "source": [
    "### Exercise 1: Caching Method Results\n",
    "\n",
    "Tracking `GrammarFuzzer` reveals that some methods are called again and again, always with the same values.  \n",
    "\n",
    "Set up a class `FasterGrammarFuzzer` with a _cache_ that checks whether the method has been called before, and if so, return the previously computed \"memoized\" value.  Do this for `expansion_to_children()`.  Compare the number of invocations before and after the optimization."
   ]
  },
  {
   "cell_type": "markdown",
   "metadata": {
    "button": false,
    "new_sheet": false,
    "run_control": {
     "read_only": false
    },
    "slideshow": {
     "slide_type": "fragment"
    },
    "solution": "hidden",
    "solution2": "hidden",
    "solution2_first": true,
    "solution_first": true
   },
   "source": [
    "**Important**: For `expansion_to_children()`, make sure that each list returned is an individual copy.  If you return the sane (cached) list, this will interfere with the in-place modification of `GrammarFuzzer`.  Use the Python `copy.deepcopy()` function for this purpose."
   ]
  },
  {
   "cell_type": "markdown",
   "metadata": {
    "slideshow": {
     "slide_type": "skip"
    },
    "solution2": "hidden"
   },
   "source": [
    "**Solution.** Let us demonstrate this for `expansion_to_children()`:"
   ]
  },
  {
   "cell_type": "code",
   "execution_count": 88,
   "metadata": {
    "slideshow": {
     "slide_type": "skip"
    },
    "solution2": "hidden"
   },
   "outputs": [],
   "source": [
    "from copy import deepcopy"
   ]
  },
  {
   "cell_type": "code",
   "execution_count": 89,
   "metadata": {
    "slideshow": {
     "slide_type": "skip"
    },
    "solution2": "hidden"
   },
   "outputs": [],
   "source": [
    "class FasterGrammarFuzzer(GrammarFuzzer):\n",
    "    def __init__(self, *args, **kwargs):\n",
    "        super().__init__(*args, **kwargs)\n",
    "        self._expansion_cache = {}\n",
    "        self._expansion_invocations = 0\n",
    "        self._expansion_invocations_cached = 0\n",
    "\n",
    "    def expansion_to_children(self, expansion):\n",
    "        self._expansion_invocations += 1\n",
    "        if expansion in self._expansion_cache:\n",
    "            self._expansion_invocations_cached += 1\n",
    "            cached_result = deepcopy(self._expansion_cache[expansion])\n",
    "            return cached_result\n",
    "\n",
    "        result = super().expansion_to_children(expansion)\n",
    "        self._expansion_cache[expansion] = result\n",
    "        return result"
   ]
  },
  {
   "cell_type": "code",
   "execution_count": 90,
   "metadata": {
    "slideshow": {
     "slide_type": "skip"
    },
    "solution2": "hidden"
   },
   "outputs": [
    {
     "data": {
      "text/plain": [
       "'5 * -1 + -5 + -5 - -5'"
      ]
     },
     "execution_count": 90,
     "metadata": {},
     "output_type": "execute_result"
    }
   ],
   "source": [
    "f = FasterGrammarFuzzer(EXPR_GRAMMAR, min_nonterminals=3, max_nonterminals=5)\n",
    "f.fuzz()"
   ]
  },
  {
   "cell_type": "code",
   "execution_count": 91,
   "metadata": {
    "slideshow": {
     "slide_type": "skip"
    },
    "solution2": "hidden"
   },
   "outputs": [
    {
     "data": {
      "text/plain": [
       "74"
      ]
     },
     "execution_count": 91,
     "metadata": {},
     "output_type": "execute_result"
    }
   ],
   "source": [
    "f._expansion_invocations"
   ]
  },
  {
   "cell_type": "code",
   "execution_count": 92,
   "metadata": {
    "slideshow": {
     "slide_type": "skip"
    },
    "solution2": "hidden"
   },
   "outputs": [
    {
     "data": {
      "text/plain": [
       "50"
      ]
     },
     "execution_count": 92,
     "metadata": {},
     "output_type": "execute_result"
    }
   ],
   "source": [
    "f._expansion_invocations_cached"
   ]
  },
  {
   "cell_type": "code",
   "execution_count": 93,
   "metadata": {
    "slideshow": {
     "slide_type": "skip"
    },
    "solution2": "hidden"
   },
   "outputs": [
    {
     "name": "stdout",
     "output_type": "stream",
     "text": [
      "67.57% of invocations can be cached\n"
     ]
    }
   ],
   "source": [
    "print(\"%.2f%% of invocations can be cached\" %\n",
    "      (f._expansion_invocations_cached * 100 / f._expansion_invocations))"
   ]
  },
  {
   "cell_type": "markdown",
   "metadata": {
    "slideshow": {
     "slide_type": "subslide"
    },
    "solution2": "hidden",
    "solution2_first": true
   },
   "source": [
    "### Exercise 2: Grammar Pre-Compilation\n",
    "\n",
    "Some methods such as `symbol_cost()` or `expansion_cost()` return a value that is dependent on the grammar only.  Set up a class `EvenFasterGrammarFuzzer()` that pre-computes these values once upon initialization, such that later invocations of `symbol_cost()` or `expansion_cost()` need only look up these values."
   ]
  },
  {
   "cell_type": "markdown",
   "metadata": {
    "slideshow": {
     "slide_type": "skip"
    },
    "solution2": "hidden"
   },
   "source": [
    "**Solution.** Here's a possible solution, using a hack to substitute the `symbol_cost()` and `expansion_cost()` functions once the pre-computed values are set up."
   ]
  },
  {
   "cell_type": "code",
   "execution_count": 94,
   "metadata": {
    "slideshow": {
     "slide_type": "skip"
    },
    "solution2": "hidden"
   },
   "outputs": [],
   "source": [
    "class EvenFasterGrammarFuzzer(GrammarFuzzer):\n",
    "    def __init__(self, *args, **kwargs):\n",
    "        super().__init__(*args, **kwargs)\n",
    "        self._symbol_costs = {}\n",
    "        self._expansion_costs = {}\n",
    "        self.precompute_costs()\n",
    "\n",
    "    def new_symbol_cost(self, symbol, seen=set()):\n",
    "        return self._symbol_costs[symbol]\n",
    "\n",
    "    def new_expansion_cost(self, expansion, seen=set()):\n",
    "        return self._expansion_costs[expansion]\n",
    "\n",
    "    def precompute_costs(self):\n",
    "        for symbol in self.grammar:\n",
    "            self._symbol_costs[symbol] = super().symbol_cost(symbol)\n",
    "            for expansion in self.grammar[symbol]:\n",
    "                self._expansion_costs[expansion] = super(\n",
    "                ).expansion_cost(expansion)\n",
    "\n",
    "        # Make sure we now call the caching methods\n",
    "        self.symbol_cost = self.new_symbol_cost\n",
    "        self.expansion_cost = self.new_expansion_cost"
   ]
  },
  {
   "cell_type": "code",
   "execution_count": 95,
   "metadata": {
    "slideshow": {
     "slide_type": "skip"
    },
    "solution2": "hidden"
   },
   "outputs": [],
   "source": [
    "f = EvenFasterGrammarFuzzer(EXPR_GRAMMAR)"
   ]
  },
  {
   "cell_type": "markdown",
   "metadata": {
    "slideshow": {
     "slide_type": "skip"
    },
    "solution2": "hidden"
   },
   "source": [
    "Here are the individual costs:"
   ]
  },
  {
   "cell_type": "code",
   "execution_count": 96,
   "metadata": {
    "slideshow": {
     "slide_type": "skip"
    },
    "solution2": "hidden"
   },
   "outputs": [
    {
     "data": {
      "text/plain": [
       "{'<start>': 6,\n",
       " '<expr>': 5,\n",
       " '<term>': 4,\n",
       " '<factor>': 3,\n",
       " '<integer>': 2,\n",
       " '<digit>': 1}"
      ]
     },
     "execution_count": 96,
     "metadata": {},
     "output_type": "execute_result"
    }
   ],
   "source": [
    "f._symbol_costs"
   ]
  },
  {
   "cell_type": "code",
   "execution_count": 97,
   "metadata": {
    "slideshow": {
     "slide_type": "skip"
    },
    "solution2": "hidden"
   },
   "outputs": [
    {
     "data": {
      "text/plain": [
       "{'<expr>': 6,\n",
       " '<term> + <expr>': 10,\n",
       " '<term> - <expr>': 10,\n",
       " '<term>': 5,\n",
       " '<factor> * <term>': 8,\n",
       " '<factor> / <term>': 8,\n",
       " '<factor>': 4,\n",
       " '+<factor>': 4,\n",
       " '-<factor>': 4,\n",
       " '(<expr>)': 6,\n",
       " '<integer>.<integer>': 5,\n",
       " '<integer>': 3,\n",
       " '<digit><integer>': 4,\n",
       " '<digit>': 2,\n",
       " '0': 1,\n",
       " '1': 1,\n",
       " '2': 1,\n",
       " '3': 1,\n",
       " '4': 1,\n",
       " '5': 1,\n",
       " '6': 1,\n",
       " '7': 1,\n",
       " '8': 1,\n",
       " '9': 1}"
      ]
     },
     "execution_count": 97,
     "metadata": {},
     "output_type": "execute_result"
    }
   ],
   "source": [
    "f._expansion_costs"
   ]
  },
  {
   "cell_type": "code",
   "execution_count": 98,
   "metadata": {
    "slideshow": {
     "slide_type": "skip"
    },
    "solution2": "hidden"
   },
   "outputs": [
    {
     "data": {
      "text/plain": [
       "'9 - 2.50 * 1 * 2 + (-4.8) - +8 + 8 + 8'"
      ]
     },
     "execution_count": 98,
     "metadata": {},
     "output_type": "execute_result"
    }
   ],
   "source": [
    "f = EvenFasterGrammarFuzzer(EXPR_GRAMMAR)\n",
    "f.fuzz()"
   ]
  },
  {
   "cell_type": "markdown",
   "metadata": {
    "button": false,
    "new_sheet": false,
    "run_control": {
     "read_only": false
    },
    "slideshow": {
     "slide_type": "subslide"
    },
    "solution": "hidden",
    "solution2": "hidden",
    "solution2_first": true,
    "solution_first": true
   },
   "source": [
    "### Exercise 3: Maintaining Trees to be Expanded\n",
    "\n",
    "In `expand_tree_once()`, the algorithm traverses the tree again and again to find nonterminals that still can be extended.  Speed up the process by keeping a list of nonterminal symbols in the tree that still can be expanded."
   ]
  },
  {
   "cell_type": "markdown",
   "metadata": {
    "button": false,
    "new_sheet": false,
    "run_control": {
     "read_only": false
    },
    "slideshow": {
     "slide_type": "skip"
    },
    "solution": "hidden",
    "solution2": "hidden"
   },
   "source": [
    "**Solution.** Left as exercise for the reader."
   ]
  },
  {
   "cell_type": "markdown",
   "metadata": {
    "slideshow": {
     "slide_type": "subslide"
    }
   },
   "source": [
    "### Exercise 4: Alternate Random Expansions"
   ]
  },
  {
   "cell_type": "markdown",
   "metadata": {
    "slideshow": {
     "slide_type": "fragment"
    }
   },
   "source": [
    "We could define `expand_node_randomly()` such that it simply invokes `expand_node_by_cost(node, random.choice)`:"
   ]
  },
  {
   "cell_type": "code",
   "execution_count": 99,
   "metadata": {
    "slideshow": {
     "slide_type": "fragment"
    }
   },
   "outputs": [],
   "source": [
    "class ExerciseGrammarFuzzer(GrammarFuzzer):\n",
    "    def expand_node_randomly(self, node):\n",
    "        if self.log:\n",
    "            print(\"Expanding\", all_terminals(node), \"randomly by cost\")\n",
    "\n",
    "        return self.expand_node_by_cost(node, random.choice)"
   ]
  },
  {
   "cell_type": "markdown",
   "metadata": {
    "slideshow": {
     "slide_type": "fragment"
    },
    "solution2": "hidden",
    "solution2_first": true
   },
   "source": [
    "What is the difference between the original implementation and this alternative?"
   ]
  },
  {
   "cell_type": "markdown",
   "metadata": {
    "button": false,
    "new_sheet": false,
    "run_control": {
     "read_only": false
    },
    "slideshow": {
     "slide_type": "skip"
    },
    "solution": "hidden",
    "solution2": "hidden"
   },
   "source": [
    "**Solution.** The alternative in `ExerciseGrammarFuzzer` has another probability distribution.  In the original `GrammarFuzzer`, all expansions have the same likelihood of being expanded.  In `ExerciseGrammarFuzzer`, first, a cost is chosen (randomly); then, one of the expansions with this cost is chosen (again randomly).  This means that expansions whose cost is unique have a higher chance of being selected."
   ]
  }
 ],
 "metadata": {
  "ipub": {
   "bibliography": "fuzzingbook.bib",
   "toc": true
  },
  "kernelspec": {
   "display_name": "Python 3",
   "language": "python",
   "name": "python3"
  },
  "language_info": {
   "codemirror_mode": {
    "name": "ipython",
    "version": 3
   },
   "file_extension": ".py",
   "mimetype": "text/x-python",
   "name": "python",
   "nbconvert_exporter": "python",
   "pygments_lexer": "ipython3",
   "version": "3.6.6"
  },
  "toc": {
   "base_numbering": 1,
   "nav_menu": {},
   "number_sections": true,
   "sideBar": true,
   "skip_h1_title": true,
   "title_cell": "",
   "title_sidebar": "Contents",
   "toc_cell": false,
   "toc_position": {},
   "toc_section_display": true,
   "toc_window_display": true
  }
 },
 "nbformat": 4,
 "nbformat_minor": 2
}
