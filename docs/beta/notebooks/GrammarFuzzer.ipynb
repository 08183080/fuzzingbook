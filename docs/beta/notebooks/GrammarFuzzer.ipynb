{
 "cells": [
  {
   "cell_type": "markdown",
   "metadata": {
    "button": false,
    "new_sheet": true,
    "run_control": {
     "read_only": false
    },
    "slideshow": {
     "slide_type": "slide"
    }
   },
   "source": [
    "# Efficient Grammar Fuzzing\n",
    "\n",
    "In the [chapter on grammars](Grammars.ipynb), we have seen how to use _grammars_ for very effective and efficient testing.  In this chapter, we refine the previous string-based algorithm into a tree-based algorithm, which is much faster and allows for much more control over the production of fuzz inputs."
   ]
  },
  {
   "cell_type": "markdown",
   "metadata": {
    "button": false,
    "new_sheet": true,
    "run_control": {
     "read_only": false
    },
    "slideshow": {
     "slide_type": "skip"
    }
   },
   "source": [
    "The algorithm in this chapter serves as a foundation for several more techniques; this chapter thus is a \"hub\" in the book."
   ]
  },
  {
   "cell_type": "markdown",
   "metadata": {
    "button": false,
    "new_sheet": false,
    "run_control": {
     "read_only": false
    },
    "slideshow": {
     "slide_type": "skip"
    }
   },
   "source": [
    "**Prerequisites**\n",
    "\n",
    "* You should know how grammar-based fuzzing works, e.g. from the [chapter on grammars](Grammars.ipynb)."
   ]
  },
  {
   "cell_type": "markdown",
   "metadata": {
    "slideshow": {
     "slide_type": "slide"
    }
   },
   "source": [
    "## An Insufficient Algorithm\n",
    "\n",
    "In the [previous chapter](Grammars.ipynb), we have introduced the `simple_grammar_fuzzer()` function which takes a grammar and automatically produces a syntactically valid string from it.  However, `simple_grammar_fuzzer()` is just what its name suggests – simple.  To illustrate the problem, let us get back to the `expr_grammar` we created from `EXPR_GRAMMAR_BNF` in the [chapter on grammars](Grammars.ipynb):"
   ]
  },
  {
   "cell_type": "code",
   "execution_count": 1,
   "metadata": {
    "slideshow": {
     "slide_type": "skip"
    }
   },
   "outputs": [],
   "source": [
    "import fuzzingbook_utils"
   ]
  },
  {
   "cell_type": "code",
   "execution_count": 2,
   "metadata": {
    "slideshow": {
     "slide_type": "skip"
    }
   },
   "outputs": [],
   "source": [
    "from Grammars import EXPR_EBNF_GRAMMAR, convert_ebnf_grammar, simple_grammar_fuzzer"
   ]
  },
  {
   "cell_type": "code",
   "execution_count": 3,
   "metadata": {
    "slideshow": {
     "slide_type": "subslide"
    }
   },
   "outputs": [
    {
     "data": {
      "text/plain": [
       "{'<start>': ['<expr>'],\n",
       " '<expr>': ['<term> + <expr>', '<term> - <expr>', '<term>'],\n",
       " '<term>': ['<factor> * <term>', '<factor> / <term>', '<factor>'],\n",
       " '<factor>': ['<sign-1><factor>', '(<expr>)', '<integer><symbol-1>'],\n",
       " '<sign>': ['+', '-'],\n",
       " '<integer>': ['<digit-1>'],\n",
       " '<digit>': ['0', '1', '2', '3', '4', '5', '6', '7', '8', '9'],\n",
       " '<symbol>': ['.<integer>'],\n",
       " '<sign-1>': ['', '<sign>'],\n",
       " '<symbol-1>': ['', '<symbol>'],\n",
       " '<digit-1>': ['<digit>', '<digit><digit-1>']}"
      ]
     },
     "execution_count": 3,
     "metadata": {},
     "output_type": "execute_result"
    }
   ],
   "source": [
    "expr_grammar = convert_ebnf_grammar(EXPR_EBNF_GRAMMAR)\n",
    "expr_grammar"
   ]
  },
  {
   "cell_type": "markdown",
   "metadata": {
    "slideshow": {
     "slide_type": "subslide"
    }
   },
   "source": [
    "`expr_grammar` has an interesting property.  If we feed it into `simple_grammar_fuzzer()`, the function gets stuck in an infinite expansion:"
   ]
  },
  {
   "cell_type": "code",
   "execution_count": 4,
   "metadata": {
    "slideshow": {
     "slide_type": "skip"
    }
   },
   "outputs": [],
   "source": [
    "from ExpectError import ExpectTimeout"
   ]
  },
  {
   "cell_type": "code",
   "execution_count": 5,
   "metadata": {
    "slideshow": {
     "slide_type": "fragment"
    }
   },
   "outputs": [
    {
     "name": "stderr",
     "output_type": "stream",
     "text": [
      "Traceback (most recent call last):\n",
      "  File \"<ipython-input-5-fbcda5f486bb>\", line 2, in <module>\n",
      "    simple_grammar_fuzzer(grammar=expr_grammar, max_nonterminals=3)\n",
      "  File \"<string>\", line 8, in simple_grammar_fuzzer\n",
      "  File \"/Users/zeller/anaconda3/lib/python3.6/random.py\", line 258, in choice\n",
      "    i = self._randbelow(len(seq))\n",
      "  File \"/Users/zeller/anaconda3/lib/python3.6/random.py\", line 228, in _randbelow\n",
      "    getrandbits = self.getrandbits\n",
      "  File \"/Users/zeller/anaconda3/lib/python3.6/random.py\", line 228, in _randbelow\n",
      "    getrandbits = self.getrandbits\n",
      "  File \"<string>\", line 16, in check_time\n",
      "TimeoutError (expected)\n"
     ]
    }
   ],
   "source": [
    "with ExpectTimeout(1):\n",
    "    simple_grammar_fuzzer(grammar=expr_grammar, max_nonterminals=3)"
   ]
  },
  {
   "cell_type": "markdown",
   "metadata": {
    "slideshow": {
     "slide_type": "subslide"
    }
   },
   "source": [
    "Why is that so?  The problem is in this rule:"
   ]
  },
  {
   "cell_type": "code",
   "execution_count": 6,
   "metadata": {
    "slideshow": {
     "slide_type": "fragment"
    }
   },
   "outputs": [
    {
     "data": {
      "text/plain": [
       "['<sign-1><factor>', '(<expr>)', '<integer><symbol-1>']"
      ]
     },
     "execution_count": 6,
     "metadata": {},
     "output_type": "execute_result"
    }
   ],
   "source": [
    "expr_grammar['<factor>']"
   ]
  },
  {
   "cell_type": "markdown",
   "metadata": {
    "slideshow": {
     "slide_type": "fragment"
    }
   },
   "source": [
    "Here, any choice except for `(expr)` increases the number of symbols, even if only temporary.  Since we place a hard limit on the number of symbols to expand, the only choice left for expanding `<factor>` is `(<expr>)`, which leads to an infinite addition of parentheses."
   ]
  },
  {
   "cell_type": "markdown",
   "metadata": {
    "button": false,
    "new_sheet": false,
    "run_control": {
     "read_only": false
    },
    "slideshow": {
     "slide_type": "subslide"
    }
   },
   "source": [
    "The problem of potentially infinite expansion is only one of the problems with `simple_grammar_fuzzer()`.  More problems include:\n",
    "\n",
    "1. *It is inefficient*.  With each iteration, this fuzzer would go search the string produced so far for symbols to expand.  This becomes inefficient as the production string grows.\n",
    "\n",
    "2. *It is hard to control.*  Even while limiting the number of symbols, it is still possible to obtain very long strings – and even infinitely long ones, as discussed above.\n",
    "\n",
    "Let us illustrate both problems by plotting the time required for strings of different lengths."
   ]
  },
  {
   "cell_type": "code",
   "execution_count": 7,
   "metadata": {
    "button": false,
    "new_sheet": false,
    "run_control": {
     "read_only": false
    },
    "slideshow": {
     "slide_type": "skip"
    }
   },
   "outputs": [],
   "source": [
    "from Grammars import simple_grammar_fuzzer"
   ]
  },
  {
   "cell_type": "code",
   "execution_count": 8,
   "metadata": {
    "button": false,
    "new_sheet": false,
    "run_control": {
     "read_only": false
    },
    "slideshow": {
     "slide_type": "skip"
    }
   },
   "outputs": [],
   "source": [
    "from Grammars import START_SYMBOL, EXPR_GRAMMAR, URL_GRAMMAR, CGI_GRAMMAR"
   ]
  },
  {
   "cell_type": "code",
   "execution_count": 9,
   "metadata": {
    "button": false,
    "new_sheet": false,
    "run_control": {
     "read_only": false
    },
    "slideshow": {
     "slide_type": "skip"
    }
   },
   "outputs": [],
   "source": [
    "from Grammars import RE_NONTERMINAL, nonterminals, is_nonterminal"
   ]
  },
  {
   "cell_type": "code",
   "execution_count": 10,
   "metadata": {
    "button": false,
    "new_sheet": false,
    "run_control": {
     "read_only": false
    },
    "slideshow": {
     "slide_type": "skip"
    }
   },
   "outputs": [],
   "source": [
    "from Timer import Timer"
   ]
  },
  {
   "cell_type": "code",
   "execution_count": 11,
   "metadata": {
    "button": false,
    "new_sheet": false,
    "run_control": {
     "read_only": false
    },
    "slideshow": {
     "slide_type": "subslide"
    }
   },
   "outputs": [
    {
     "name": "stdout",
     "output_type": "stream",
     "text": [
      "0 1 2 3 4 5 6 7 8 9 10 11 12 13 14 15 16 17 18 19 20 21 22 23 24 25 26 27 28 29 30 31 32 33 34 35 36 37 38 39 40 41 42 43 44 45 46 47 48 49 \n"
     ]
    }
   ],
   "source": [
    "trials = 50\n",
    "xs = []\n",
    "ys = []\n",
    "for i in range(trials):\n",
    "    with Timer() as t:\n",
    "        s = simple_grammar_fuzzer(EXPR_GRAMMAR, max_nonterminals=15)\n",
    "    xs.append(len(s))\n",
    "    ys.append(t.elapsed_time())\n",
    "    print(i, end=\" \")\n",
    "print()"
   ]
  },
  {
   "cell_type": "code",
   "execution_count": 12,
   "metadata": {
    "button": false,
    "new_sheet": false,
    "run_control": {
     "read_only": false
    },
    "slideshow": {
     "slide_type": "subslide"
    }
   },
   "outputs": [
    {
     "name": "stdout",
     "output_type": "stream",
     "text": [
      "Average time: 0.22938220007956261\n"
     ]
    }
   ],
   "source": [
    "average_time = sum(ys) / trials\n",
    "print(\"Average time:\", average_time)"
   ]
  },
  {
   "cell_type": "code",
   "execution_count": 13,
   "metadata": {
    "button": false,
    "new_sheet": false,
    "run_control": {
     "read_only": false
    },
    "slideshow": {
     "slide_type": "fragment"
    }
   },
   "outputs": [
    {
     "data": {
      "text/plain": [
       "Text(0.5,1,'Time required for generating an output')"
      ]
     },
     "execution_count": 13,
     "metadata": {},
     "output_type": "execute_result"
    },
    {
     "data": {
      "image/png": "[encoded data removed]",
      "text/plain": [
       "<Figure size 432x288 with 1 Axes>"
      ]
     },
     "metadata": {
      "needs_background": "light"
     },
     "output_type": "display_data"
    }
   ],
   "source": [
    "%matplotlib inline\n",
    "\n",
    "import matplotlib.pyplot as plt\n",
    "plt.scatter(xs, ys)\n",
    "plt.title('Time required for generating an output')"
   ]
  },
  {
   "cell_type": "markdown",
   "metadata": {
    "button": false,
    "new_sheet": false,
    "run_control": {
     "read_only": false
    },
    "slideshow": {
     "slide_type": "fragment"
    }
   },
   "source": [
    "We see that (1) the effort increases quadratically over time, and (2) we can easily produce outputs that are tens of thousands of characters long."
   ]
  },
  {
   "cell_type": "markdown",
   "metadata": {
    "slideshow": {
     "slide_type": "subslide"
    }
   },
   "source": [
    "To address these problem, we need a _smarter algorithm_ – one that is more efficient, that gets us better control over expansions, and that is able to foresee in `expr_grammar` that the `(expr)` alternative yields a potentially infinite expansion, in contrast to the other two."
   ]
  },
  {
   "cell_type": "markdown",
   "metadata": {
    "button": false,
    "new_sheet": false,
    "run_control": {
     "read_only": false
    },
    "slideshow": {
     "slide_type": "slide"
    }
   },
   "source": [
    "## Derivation Trees\n",
    "\n",
    "To both obtain a more efficient algorithm _and_ exercise better control over expansions, we will use a special representation for the strings that our grammar produces.  The general idea is to use a _tree_ structure that will be subsequently expanded – a so-called _derivation tree_."
   ]
  },
  {
   "cell_type": "markdown",
   "metadata": {
    "button": false,
    "new_sheet": false,
    "run_control": {
     "read_only": false
    },
    "slideshow": {
     "slide_type": "fragment"
    }
   },
   "source": [
    "Like other trees used in programming, a derivation tree (also known as _parse tree_ or _concrete syntax tree_) consists of _nodes_ which have other nodes as their _children_.  The tree starts with one node that has no parent; this is called the _root node_; a node without children is called a _leaf_."
   ]
  },
  {
   "cell_type": "markdown",
   "metadata": {
    "button": false,
    "new_sheet": false,
    "run_control": {
     "read_only": false
    },
    "slideshow": {
     "slide_type": "subslide"
    }
   },
   "source": [
    "The grammar expansion process with derivation trees is illustrated in the following steps, using the arithmetic grammar [from\n",
    "the chapter on grammars](Grammars.ipynb).  We start with a single node as root of the tree, representing the _start symbol_ – in our case `<start>`."
   ]
  },
  {
   "cell_type": "markdown",
   "metadata": {
    "ipub": {
     "ignore": true
    },
    "slideshow": {
     "slide_type": "skip"
    }
   },
   "source": [
    "(We use `dot` as a drawing program; you don't need to look at the code, just at its results.)"
   ]
  },
  {
   "cell_type": "code",
   "execution_count": 14,
   "metadata": {
    "button": false,
    "ipub": {
     "ignore": true
    },
    "new_sheet": false,
    "run_control": {
     "read_only": false
    },
    "slideshow": {
     "slide_type": "skip"
    }
   },
   "outputs": [],
   "source": [
    "from graphviz import Digraph"
   ]
  },
  {
   "cell_type": "code",
   "execution_count": 15,
   "metadata": {
    "button": false,
    "ipub": {
     "ignore": true
    },
    "new_sheet": false,
    "run_control": {
     "read_only": false
    },
    "slideshow": {
     "slide_type": "skip"
    }
   },
   "outputs": [],
   "source": [
    "tree = Digraph(\"root\")\n",
    "tree.attr('node', shape='plain')\n",
    "tree.node(r\"\\<start\\>\")"
   ]
  },
  {
   "cell_type": "code",
   "execution_count": 16,
   "metadata": {
    "button": false,
    "new_sheet": false,
    "run_control": {
     "read_only": false
    },
    "slideshow": {
     "slide_type": "fragment"
    }
   },
   "outputs": [
    {
     "data": {
      "image/svg+xml": [
       "<?xml version=\"1.0\" encoding=\"UTF-8\" standalone=\"no\"?>\n",
       "<!DOCTYPE svg PUBLIC \"-//W3C//DTD SVG 1.1//EN\"\n",
       " \"http://www.w3.org/Graphics/SVG/1.1/DTD/svg11.dtd\">\n",
       "<!-- Generated by graphviz version 2.40.1 (20161225.0304)\n",
       " -->\n",
       "<!-- Title: root Pages: 1 -->\n",
       "<svg width=\"48pt\" height=\"23pt\"\n",
       " viewBox=\"0.00 0.00 48.00 23.00\" xmlns=\"http://www.w3.org/2000/svg\" xmlns:xlink=\"http://www.w3.org/1999/xlink\">\n",
       "<g id=\"graph0\" class=\"graph\" transform=\"scale(1 1) rotate(0) translate(4 19)\">\n",
       "<title>root</title>\n",
       "<polygon fill=\"#ffffff\" stroke=\"transparent\" points=\"-4,4 -4,-19 44,-19 44,4 -4,4\"/>\n",
       "<!-- \\&lt;start\\&gt; -->\n",
       "<g id=\"node1\" class=\"node\">\n",
       "<title>\\&lt;start\\&gt;</title>\n",
       "<text text-anchor=\"middle\" x=\"20\" y=\"-3.8\" font-family=\"Times,serif\" font-size=\"14.00\" fill=\"#000000\">&lt;start&gt;</text>\n",
       "</g>\n",
       "</g>\n",
       "</svg>\n"
      ],
      "text/plain": [
       "<graphviz.dot.Digraph at 0x11fc53d30>"
      ]
     },
     "execution_count": 16,
     "metadata": {},
     "output_type": "execute_result"
    }
   ],
   "source": [
    "tree"
   ]
  },
  {
   "cell_type": "markdown",
   "metadata": {
    "button": false,
    "new_sheet": false,
    "run_control": {
     "read_only": false
    },
    "slideshow": {
     "slide_type": "subslide"
    }
   },
   "source": [
    "To expand the tree, we traverse it, searching for a symbol $S$ without children to expand, and chose an expansion for $S$ from the grammar.  Then, we add the expansion as a new child of $S$.  For our start symbol `<start>`, the only expansion is `<expr>`, so we add it as a child."
   ]
  },
  {
   "cell_type": "code",
   "execution_count": 17,
   "metadata": {
    "button": false,
    "ipub": {
     "ignore": true
    },
    "new_sheet": false,
    "run_control": {
     "read_only": false
    },
    "slideshow": {
     "slide_type": "skip"
    }
   },
   "outputs": [],
   "source": [
    "tree.edge(r\"\\<start\\>\", r\"\\<expr\\>\")"
   ]
  },
  {
   "cell_type": "code",
   "execution_count": 18,
   "metadata": {
    "button": false,
    "new_sheet": false,
    "run_control": {
     "read_only": false
    },
    "slideshow": {
     "slide_type": "fragment"
    }
   },
   "outputs": [
    {
     "data": {
      "image/svg+xml": [
       "<?xml version=\"1.0\" encoding=\"UTF-8\" standalone=\"no\"?>\n",
       "<!DOCTYPE svg PUBLIC \"-//W3C//DTD SVG 1.1//EN\"\n",
       " \"http://www.w3.org/Graphics/SVG/1.1/DTD/svg11.dtd\">\n",
       "<!-- Generated by graphviz version 2.40.1 (20161225.0304)\n",
       " -->\n",
       "<!-- Title: root Pages: 1 -->\n",
       "<svg width=\"49pt\" height=\"74pt\"\n",
       " viewBox=\"0.00 0.00 49.00 74.00\" xmlns=\"http://www.w3.org/2000/svg\" xmlns:xlink=\"http://www.w3.org/1999/xlink\">\n",
       "<g id=\"graph0\" class=\"graph\" transform=\"scale(1 1) rotate(0) translate(4 70)\">\n",
       "<title>root</title>\n",
       "<polygon fill=\"#ffffff\" stroke=\"transparent\" points=\"-4,4 -4,-70 45,-70 45,4 -4,4\"/>\n",
       "<!-- \\&lt;start\\&gt; -->\n",
       "<g id=\"node1\" class=\"node\">\n",
       "<title>\\&lt;start\\&gt;</title>\n",
       "<text text-anchor=\"middle\" x=\"20.5\" y=\"-54.8\" font-family=\"Times,serif\" font-size=\"14.00\" fill=\"#000000\">&lt;start&gt;</text>\n",
       "</g>\n",
       "<!-- \\&lt;expr\\&gt; -->\n",
       "<g id=\"node2\" class=\"node\">\n",
       "<title>\\&lt;expr\\&gt;</title>\n",
       "<text text-anchor=\"middle\" x=\"20.5\" y=\"-3.8\" font-family=\"Times,serif\" font-size=\"14.00\" fill=\"#000000\">&lt;expr&gt;</text>\n",
       "</g>\n",
       "<!-- \\&lt;start\\&gt;&#45;&gt;\\&lt;expr\\&gt; -->\n",
       "<g id=\"edge1\" class=\"edge\">\n",
       "<title>\\&lt;start\\&gt;&#45;&gt;\\&lt;expr\\&gt;</title>\n",
       "<path fill=\"none\" stroke=\"#000000\" d=\"M20.5,-50.9748C20.5,-44.195 20.5,-33.966 20.5,-25.1331\"/>\n",
       "<polygon fill=\"#000000\" stroke=\"#000000\" points=\"24.0001,-25.0561 20.5,-15.0561 17.0001,-25.0561 24.0001,-25.0561\"/>\n",
       "</g>\n",
       "</g>\n",
       "</svg>\n"
      ],
      "text/plain": [
       "<graphviz.dot.Digraph at 0x11fc53d30>"
      ]
     },
     "execution_count": 18,
     "metadata": {},
     "output_type": "execute_result"
    }
   ],
   "source": [
    "tree"
   ]
  },
  {
   "cell_type": "markdown",
   "metadata": {
    "button": false,
    "new_sheet": false,
    "run_control": {
     "read_only": false
    },
    "slideshow": {
     "slide_type": "subslide"
    }
   },
   "source": [
    "To construct the produced string from a derivation tree, we traverse the tree in order and collect the symbols at the leaves of the tree.  In the case above, we obtain the string `\"<expr>\"`.\n",
    "\n",
    "To further expand the tree, we choose another symbol to expand, and add its expansion as new children.  This would get us the `<expr>` symbol, which gets expanded into `<expr> + <term>`, adding three children."
   ]
  },
  {
   "cell_type": "code",
   "execution_count": 19,
   "metadata": {
    "button": false,
    "ipub": {
     "ignore": true
    },
    "new_sheet": false,
    "run_control": {
     "read_only": false
    },
    "slideshow": {
     "slide_type": "skip"
    }
   },
   "outputs": [],
   "source": [
    "tree.edge(r\"\\<expr\\>\", r\"\\<expr\\> \")\n",
    "tree.edge(r\"\\<expr\\>\", r\"+\")\n",
    "tree.edge(r\"\\<expr\\>\", r\"\\<term\\>\")"
   ]
  },
  {
   "cell_type": "code",
   "execution_count": 20,
   "metadata": {
    "button": false,
    "new_sheet": false,
    "run_control": {
     "read_only": false
    },
    "slideshow": {
     "slide_type": "fragment"
    }
   },
   "outputs": [
    {
     "data": {
      "image/svg+xml": [
       "<?xml version=\"1.0\" encoding=\"UTF-8\" standalone=\"no\"?>\n",
       "<!DOCTYPE svg PUBLIC \"-//W3C//DTD SVG 1.1//EN\"\n",
       " \"http://www.w3.org/Graphics/SVG/1.1/DTD/svg11.dtd\">\n",
       "<!-- Generated by graphviz version 2.40.1 (20161225.0304)\n",
       " -->\n",
       "<!-- Title: root Pages: 1 -->\n",
       "<svg width=\"140pt\" height=\"125pt\"\n",
       " viewBox=\"0.00 0.00 139.50 125.00\" xmlns=\"http://www.w3.org/2000/svg\" xmlns:xlink=\"http://www.w3.org/1999/xlink\">\n",
       "<g id=\"graph0\" class=\"graph\" transform=\"scale(1 1) rotate(0) translate(4 121)\">\n",
       "<title>root</title>\n",
       "<polygon fill=\"#ffffff\" stroke=\"transparent\" points=\"-4,4 -4,-121 135.5,-121 135.5,4 -4,4\"/>\n",
       "<!-- \\&lt;start\\&gt; -->\n",
       "<g id=\"node1\" class=\"node\">\n",
       "<title>\\&lt;start\\&gt;</title>\n",
       "<text text-anchor=\"middle\" x=\"67.5\" y=\"-105.8\" font-family=\"Times,serif\" font-size=\"14.00\" fill=\"#000000\">&lt;start&gt;</text>\n",
       "</g>\n",
       "<!-- \\&lt;expr\\&gt; -->\n",
       "<g id=\"node2\" class=\"node\">\n",
       "<title>\\&lt;expr\\&gt;</title>\n",
       "<text text-anchor=\"middle\" x=\"67.5\" y=\"-54.8\" font-family=\"Times,serif\" font-size=\"14.00\" fill=\"#000000\">&lt;expr&gt;</text>\n",
       "</g>\n",
       "<!-- \\&lt;start\\&gt;&#45;&gt;\\&lt;expr\\&gt; -->\n",
       "<g id=\"edge1\" class=\"edge\">\n",
       "<title>\\&lt;start\\&gt;&#45;&gt;\\&lt;expr\\&gt;</title>\n",
       "<path fill=\"none\" stroke=\"#000000\" d=\"M67.5,-101.9748C67.5,-95.195 67.5,-84.966 67.5,-76.1331\"/>\n",
       "<polygon fill=\"#000000\" stroke=\"#000000\" points=\"71.0001,-76.0561 67.5,-66.0561 64.0001,-76.0561 71.0001,-76.0561\"/>\n",
       "</g>\n",
       "<!-- \\&lt;expr\\&gt;  -->\n",
       "<g id=\"node3\" class=\"node\">\n",
       "<title>\\&lt;expr\\&gt; </title>\n",
       "<text text-anchor=\"middle\" x=\"22.5\" y=\"-3.8\" font-family=\"Times,serif\" font-size=\"14.00\" fill=\"#000000\">&lt;expr&gt; </text>\n",
       "</g>\n",
       "<!-- \\&lt;expr\\&gt;&#45;&gt;\\&lt;expr\\&gt;  -->\n",
       "<g id=\"edge2\" class=\"edge\">\n",
       "<title>\\&lt;expr\\&gt;&#45;&gt;\\&lt;expr\\&gt; </title>\n",
       "<path fill=\"none\" stroke=\"#000000\" d=\"M60.8601,-50.9748C54.3462,-43.5923 44.2238,-32.1203 36.0125,-22.8142\"/>\n",
       "<polygon fill=\"#000000\" stroke=\"#000000\" points=\"38.4078,-20.2388 29.1671,-15.0561 33.159,-24.8702 38.4078,-20.2388\"/>\n",
       "</g>\n",
       "<!-- + -->\n",
       "<g id=\"node4\" class=\"node\">\n",
       "<title>+</title>\n",
       "<text text-anchor=\"middle\" x=\"67.5\" y=\"-3.8\" font-family=\"Times,serif\" font-size=\"14.00\" fill=\"#000000\">+</text>\n",
       "</g>\n",
       "<!-- \\&lt;expr\\&gt;&#45;&gt;+ -->\n",
       "<g id=\"edge3\" class=\"edge\">\n",
       "<title>\\&lt;expr\\&gt;&#45;&gt;+</title>\n",
       "<path fill=\"none\" stroke=\"#000000\" d=\"M67.5,-50.9748C67.5,-44.195 67.5,-33.966 67.5,-25.1331\"/>\n",
       "<polygon fill=\"#000000\" stroke=\"#000000\" points=\"71.0001,-25.0561 67.5,-15.0561 64.0001,-25.0561 71.0001,-25.0561\"/>\n",
       "</g>\n",
       "<!-- \\&lt;term\\&gt; -->\n",
       "<g id=\"node5\" class=\"node\">\n",
       "<title>\\&lt;term\\&gt;</title>\n",
       "<text text-anchor=\"middle\" x=\"110.5\" y=\"-3.8\" font-family=\"Times,serif\" font-size=\"14.00\" fill=\"#000000\">&lt;term&gt;</text>\n",
       "</g>\n",
       "<!-- \\&lt;expr\\&gt;&#45;&gt;\\&lt;term\\&gt; -->\n",
       "<g id=\"edge4\" class=\"edge\">\n",
       "<title>\\&lt;expr\\&gt;&#45;&gt;\\&lt;term\\&gt;</title>\n",
       "<path fill=\"none\" stroke=\"#000000\" d=\"M73.8448,-50.9748C80.0692,-43.5923 89.7417,-32.1203 97.5881,-22.8142\"/>\n",
       "<polygon fill=\"#000000\" stroke=\"#000000\" points=\"100.359,-24.9574 104.1292,-15.0561 95.0073,-20.4452 100.359,-24.9574\"/>\n",
       "</g>\n",
       "</g>\n",
       "</svg>\n"
      ],
      "text/plain": [
       "<graphviz.dot.Digraph at 0x11fc53d30>"
      ]
     },
     "execution_count": 20,
     "metadata": {},
     "output_type": "execute_result"
    }
   ],
   "source": [
    "tree"
   ]
  },
  {
   "cell_type": "markdown",
   "metadata": {
    "button": false,
    "new_sheet": false,
    "run_control": {
     "read_only": false
    },
    "slideshow": {
     "slide_type": "subslide"
    }
   },
   "source": [
    "We repeat the expansion until there are no symbols left to expand:"
   ]
  },
  {
   "cell_type": "code",
   "execution_count": 21,
   "metadata": {
    "button": false,
    "ipub": {
     "ignore": true
    },
    "new_sheet": false,
    "run_control": {
     "read_only": false
    },
    "slideshow": {
     "slide_type": "skip"
    }
   },
   "outputs": [],
   "source": [
    "tree.edge(r\"\\<expr\\> \", r\"\\<term\\> \")\n",
    "tree.edge(r\"\\<term\\> \", r\"\\<factor\\> \")\n",
    "tree.edge(r\"\\<factor\\> \", r\"\\<integer\\> \")\n",
    "tree.edge(r\"\\<integer\\> \", r\"\\<digit\\> \")\n",
    "tree.edge(r\"\\<digit\\> \", r\"2 \")\n",
    "\n",
    "tree.edge(r\"\\<term\\>\", r\"\\<factor\\>\")\n",
    "tree.edge(r\"\\<factor\\>\", r\"\\<integer\\>\")\n",
    "tree.edge(r\"\\<integer\\>\", r\"\\<digit\\>\")\n",
    "tree.edge(r\"\\<digit\\>\", r\"2\")"
   ]
  },
  {
   "cell_type": "code",
   "execution_count": 22,
   "metadata": {
    "button": false,
    "new_sheet": false,
    "run_control": {
     "read_only": false
    },
    "slideshow": {
     "slide_type": "fragment"
    }
   },
   "outputs": [
    {
     "data": {
      "image/svg+xml": [
       "<?xml version=\"1.0\" encoding=\"UTF-8\" standalone=\"no\"?>\n",
       "<!DOCTYPE svg PUBLIC \"-//W3C//DTD SVG 1.1//EN\"\n",
       " \"http://www.w3.org/Graphics/SVG/1.1/DTD/svg11.dtd\">\n",
       "<!-- Generated by graphviz version 2.40.1 (20161225.0304)\n",
       " -->\n",
       "<!-- Title: root Pages: 1 -->\n",
       "<svg width=\"153pt\" height=\"380pt\"\n",
       " viewBox=\"0.00 0.00 153.00 380.00\" xmlns=\"http://www.w3.org/2000/svg\" xmlns:xlink=\"http://www.w3.org/1999/xlink\">\n",
       "<g id=\"graph0\" class=\"graph\" transform=\"scale(1 1) rotate(0) translate(4 376)\">\n",
       "<title>root</title>\n",
       "<polygon fill=\"#ffffff\" stroke=\"transparent\" points=\"-4,4 -4,-376 149,-376 149,4 -4,4\"/>\n",
       "<!-- \\&lt;start\\&gt; -->\n",
       "<g id=\"node1\" class=\"node\">\n",
       "<title>\\&lt;start\\&gt;</title>\n",
       "<text text-anchor=\"middle\" x=\"74.5\" y=\"-360.8\" font-family=\"Times,serif\" font-size=\"14.00\" fill=\"#000000\">&lt;start&gt;</text>\n",
       "</g>\n",
       "<!-- \\&lt;expr\\&gt; -->\n",
       "<g id=\"node2\" class=\"node\">\n",
       "<title>\\&lt;expr\\&gt;</title>\n",
       "<text text-anchor=\"middle\" x=\"74.5\" y=\"-309.8\" font-family=\"Times,serif\" font-size=\"14.00\" fill=\"#000000\">&lt;expr&gt;</text>\n",
       "</g>\n",
       "<!-- \\&lt;start\\&gt;&#45;&gt;\\&lt;expr\\&gt; -->\n",
       "<g id=\"edge1\" class=\"edge\">\n",
       "<title>\\&lt;start\\&gt;&#45;&gt;\\&lt;expr\\&gt;</title>\n",
       "<path fill=\"none\" stroke=\"#000000\" d=\"M74.5,-356.9748C74.5,-350.195 74.5,-339.966 74.5,-331.1331\"/>\n",
       "<polygon fill=\"#000000\" stroke=\"#000000\" points=\"78.0001,-331.0561 74.5,-321.0561 71.0001,-331.0561 78.0001,-331.0561\"/>\n",
       "</g>\n",
       "<!-- \\&lt;expr\\&gt;  -->\n",
       "<g id=\"node3\" class=\"node\">\n",
       "<title>\\&lt;expr\\&gt; </title>\n",
       "<text text-anchor=\"middle\" x=\"29.5\" y=\"-258.8\" font-family=\"Times,serif\" font-size=\"14.00\" fill=\"#000000\">&lt;expr&gt; </text>\n",
       "</g>\n",
       "<!-- \\&lt;expr\\&gt;&#45;&gt;\\&lt;expr\\&gt;  -->\n",
       "<g id=\"edge2\" class=\"edge\">\n",
       "<title>\\&lt;expr\\&gt;&#45;&gt;\\&lt;expr\\&gt; </title>\n",
       "<path fill=\"none\" stroke=\"#000000\" d=\"M67.8601,-305.9748C61.3462,-298.5923 51.2238,-287.1203 43.0125,-277.8142\"/>\n",
       "<polygon fill=\"#000000\" stroke=\"#000000\" points=\"45.4078,-275.2388 36.1671,-270.0561 40.159,-279.8702 45.4078,-275.2388\"/>\n",
       "</g>\n",
       "<!-- + -->\n",
       "<g id=\"node4\" class=\"node\">\n",
       "<title>+</title>\n",
       "<text text-anchor=\"middle\" x=\"74.5\" y=\"-258.8\" font-family=\"Times,serif\" font-size=\"14.00\" fill=\"#000000\">+</text>\n",
       "</g>\n",
       "<!-- \\&lt;expr\\&gt;&#45;&gt;+ -->\n",
       "<g id=\"edge3\" class=\"edge\">\n",
       "<title>\\&lt;expr\\&gt;&#45;&gt;+</title>\n",
       "<path fill=\"none\" stroke=\"#000000\" d=\"M74.5,-305.9748C74.5,-299.195 74.5,-288.966 74.5,-280.1331\"/>\n",
       "<polygon fill=\"#000000\" stroke=\"#000000\" points=\"78.0001,-280.0561 74.5,-270.0561 71.0001,-280.0561 78.0001,-280.0561\"/>\n",
       "</g>\n",
       "<!-- \\&lt;term\\&gt; -->\n",
       "<g id=\"node5\" class=\"node\">\n",
       "<title>\\&lt;term\\&gt;</title>\n",
       "<text text-anchor=\"middle\" x=\"117.5\" y=\"-258.8\" font-family=\"Times,serif\" font-size=\"14.00\" fill=\"#000000\">&lt;term&gt;</text>\n",
       "</g>\n",
       "<!-- \\&lt;expr\\&gt;&#45;&gt;\\&lt;term\\&gt; -->\n",
       "<g id=\"edge4\" class=\"edge\">\n",
       "<title>\\&lt;expr\\&gt;&#45;&gt;\\&lt;term\\&gt;</title>\n",
       "<path fill=\"none\" stroke=\"#000000\" d=\"M80.8448,-305.9748C87.0692,-298.5923 96.7417,-287.1203 104.5881,-277.8142\"/>\n",
       "<polygon fill=\"#000000\" stroke=\"#000000\" points=\"107.359,-279.9574 111.1292,-270.0561 102.0073,-275.4452 107.359,-279.9574\"/>\n",
       "</g>\n",
       "<!-- \\&lt;term\\&gt;  -->\n",
       "<g id=\"node6\" class=\"node\">\n",
       "<title>\\&lt;term\\&gt; </title>\n",
       "<text text-anchor=\"middle\" x=\"29.5\" y=\"-207.8\" font-family=\"Times,serif\" font-size=\"14.00\" fill=\"#000000\">&lt;term&gt; </text>\n",
       "</g>\n",
       "<!-- \\&lt;expr\\&gt; &#45;&gt;\\&lt;term\\&gt;  -->\n",
       "<g id=\"edge5\" class=\"edge\">\n",
       "<title>\\&lt;expr\\&gt; &#45;&gt;\\&lt;term\\&gt; </title>\n",
       "<path fill=\"none\" stroke=\"#000000\" d=\"M29.5,-254.9748C29.5,-248.195 29.5,-237.966 29.5,-229.1331\"/>\n",
       "<polygon fill=\"#000000\" stroke=\"#000000\" points=\"33.0001,-229.0561 29.5,-219.0561 26.0001,-229.0561 33.0001,-229.0561\"/>\n",
       "</g>\n",
       "<!-- \\&lt;factor\\&gt; -->\n",
       "<g id=\"node11\" class=\"node\">\n",
       "<title>\\&lt;factor\\&gt;</title>\n",
       "<text text-anchor=\"middle\" x=\"117.5\" y=\"-207.8\" font-family=\"Times,serif\" font-size=\"14.00\" fill=\"#000000\">&lt;factor&gt;</text>\n",
       "</g>\n",
       "<!-- \\&lt;term\\&gt;&#45;&gt;\\&lt;factor\\&gt; -->\n",
       "<g id=\"edge10\" class=\"edge\">\n",
       "<title>\\&lt;term\\&gt;&#45;&gt;\\&lt;factor\\&gt;</title>\n",
       "<path fill=\"none\" stroke=\"#000000\" d=\"M117.5,-254.9748C117.5,-248.195 117.5,-237.966 117.5,-229.1331\"/>\n",
       "<polygon fill=\"#000000\" stroke=\"#000000\" points=\"121.0001,-229.0561 117.5,-219.0561 114.0001,-229.0561 121.0001,-229.0561\"/>\n",
       "</g>\n",
       "<!-- \\&lt;factor\\&gt;  -->\n",
       "<g id=\"node7\" class=\"node\">\n",
       "<title>\\&lt;factor\\&gt; </title>\n",
       "<text text-anchor=\"middle\" x=\"29.5\" y=\"-156.8\" font-family=\"Times,serif\" font-size=\"14.00\" fill=\"#000000\">&lt;factor&gt; </text>\n",
       "</g>\n",
       "<!-- \\&lt;term\\&gt; &#45;&gt;\\&lt;factor\\&gt;  -->\n",
       "<g id=\"edge6\" class=\"edge\">\n",
       "<title>\\&lt;term\\&gt; &#45;&gt;\\&lt;factor\\&gt; </title>\n",
       "<path fill=\"none\" stroke=\"#000000\" d=\"M29.5,-203.9748C29.5,-197.195 29.5,-186.966 29.5,-178.1331\"/>\n",
       "<polygon fill=\"#000000\" stroke=\"#000000\" points=\"33.0001,-178.0561 29.5,-168.0561 26.0001,-178.0561 33.0001,-178.0561\"/>\n",
       "</g>\n",
       "<!-- \\&lt;integer\\&gt;  -->\n",
       "<g id=\"node8\" class=\"node\">\n",
       "<title>\\&lt;integer\\&gt; </title>\n",
       "<text text-anchor=\"middle\" x=\"29.5\" y=\"-105.8\" font-family=\"Times,serif\" font-size=\"14.00\" fill=\"#000000\">&lt;integer&gt; </text>\n",
       "</g>\n",
       "<!-- \\&lt;factor\\&gt; &#45;&gt;\\&lt;integer\\&gt;  -->\n",
       "<g id=\"edge7\" class=\"edge\">\n",
       "<title>\\&lt;factor\\&gt; &#45;&gt;\\&lt;integer\\&gt; </title>\n",
       "<path fill=\"none\" stroke=\"#000000\" d=\"M29.5,-152.9748C29.5,-146.195 29.5,-135.966 29.5,-127.1331\"/>\n",
       "<polygon fill=\"#000000\" stroke=\"#000000\" points=\"33.0001,-127.0561 29.5,-117.0561 26.0001,-127.0561 33.0001,-127.0561\"/>\n",
       "</g>\n",
       "<!-- \\&lt;digit\\&gt;  -->\n",
       "<g id=\"node9\" class=\"node\">\n",
       "<title>\\&lt;digit\\&gt; </title>\n",
       "<text text-anchor=\"middle\" x=\"29.5\" y=\"-54.8\" font-family=\"Times,serif\" font-size=\"14.00\" fill=\"#000000\">&lt;digit&gt; </text>\n",
       "</g>\n",
       "<!-- \\&lt;integer\\&gt; &#45;&gt;\\&lt;digit\\&gt;  -->\n",
       "<g id=\"edge8\" class=\"edge\">\n",
       "<title>\\&lt;integer\\&gt; &#45;&gt;\\&lt;digit\\&gt; </title>\n",
       "<path fill=\"none\" stroke=\"#000000\" d=\"M29.5,-101.9748C29.5,-95.195 29.5,-84.966 29.5,-76.1331\"/>\n",
       "<polygon fill=\"#000000\" stroke=\"#000000\" points=\"33.0001,-76.0561 29.5,-66.0561 26.0001,-76.0561 33.0001,-76.0561\"/>\n",
       "</g>\n",
       "<!-- 2  -->\n",
       "<g id=\"node10\" class=\"node\">\n",
       "<title>2 </title>\n",
       "<text text-anchor=\"middle\" x=\"29.5\" y=\"-3.8\" font-family=\"Times,serif\" font-size=\"14.00\" fill=\"#000000\">2 </text>\n",
       "</g>\n",
       "<!-- \\&lt;digit\\&gt; &#45;&gt;2  -->\n",
       "<g id=\"edge9\" class=\"edge\">\n",
       "<title>\\&lt;digit\\&gt; &#45;&gt;2 </title>\n",
       "<path fill=\"none\" stroke=\"#000000\" d=\"M29.5,-50.9748C29.5,-44.195 29.5,-33.966 29.5,-25.1331\"/>\n",
       "<polygon fill=\"#000000\" stroke=\"#000000\" points=\"33.0001,-25.0561 29.5,-15.0561 26.0001,-25.0561 33.0001,-25.0561\"/>\n",
       "</g>\n",
       "<!-- \\&lt;integer\\&gt; -->\n",
       "<g id=\"node12\" class=\"node\">\n",
       "<title>\\&lt;integer\\&gt;</title>\n",
       "<text text-anchor=\"middle\" x=\"117.5\" y=\"-156.8\" font-family=\"Times,serif\" font-size=\"14.00\" fill=\"#000000\">&lt;integer&gt;</text>\n",
       "</g>\n",
       "<!-- \\&lt;factor\\&gt;&#45;&gt;\\&lt;integer\\&gt; -->\n",
       "<g id=\"edge11\" class=\"edge\">\n",
       "<title>\\&lt;factor\\&gt;&#45;&gt;\\&lt;integer\\&gt;</title>\n",
       "<path fill=\"none\" stroke=\"#000000\" d=\"M117.5,-203.9748C117.5,-197.195 117.5,-186.966 117.5,-178.1331\"/>\n",
       "<polygon fill=\"#000000\" stroke=\"#000000\" points=\"121.0001,-178.0561 117.5,-168.0561 114.0001,-178.0561 121.0001,-178.0561\"/>\n",
       "</g>\n",
       "<!-- \\&lt;digit\\&gt; -->\n",
       "<g id=\"node13\" class=\"node\">\n",
       "<title>\\&lt;digit\\&gt;</title>\n",
       "<text text-anchor=\"middle\" x=\"117.5\" y=\"-105.8\" font-family=\"Times,serif\" font-size=\"14.00\" fill=\"#000000\">&lt;digit&gt;</text>\n",
       "</g>\n",
       "<!-- \\&lt;integer\\&gt;&#45;&gt;\\&lt;digit\\&gt; -->\n",
       "<g id=\"edge12\" class=\"edge\">\n",
       "<title>\\&lt;integer\\&gt;&#45;&gt;\\&lt;digit\\&gt;</title>\n",
       "<path fill=\"none\" stroke=\"#000000\" d=\"M117.5,-152.9748C117.5,-146.195 117.5,-135.966 117.5,-127.1331\"/>\n",
       "<polygon fill=\"#000000\" stroke=\"#000000\" points=\"121.0001,-127.0561 117.5,-117.0561 114.0001,-127.0561 121.0001,-127.0561\"/>\n",
       "</g>\n",
       "<!-- 2 -->\n",
       "<g id=\"node14\" class=\"node\">\n",
       "<title>2</title>\n",
       "<text text-anchor=\"middle\" x=\"117.5\" y=\"-54.8\" font-family=\"Times,serif\" font-size=\"14.00\" fill=\"#000000\">2</text>\n",
       "</g>\n",
       "<!-- \\&lt;digit\\&gt;&#45;&gt;2 -->\n",
       "<g id=\"edge13\" class=\"edge\">\n",
       "<title>\\&lt;digit\\&gt;&#45;&gt;2</title>\n",
       "<path fill=\"none\" stroke=\"#000000\" d=\"M117.5,-101.9748C117.5,-95.195 117.5,-84.966 117.5,-76.1331\"/>\n",
       "<polygon fill=\"#000000\" stroke=\"#000000\" points=\"121.0001,-76.0561 117.5,-66.0561 114.0001,-76.0561 121.0001,-76.0561\"/>\n",
       "</g>\n",
       "</g>\n",
       "</svg>\n"
      ],
      "text/plain": [
       "<graphviz.dot.Digraph at 0x11fc53d30>"
      ]
     },
     "execution_count": 22,
     "metadata": {},
     "output_type": "execute_result"
    }
   ],
   "source": [
    "tree"
   ]
  },
  {
   "cell_type": "markdown",
   "metadata": {
    "button": false,
    "new_sheet": false,
    "run_control": {
     "read_only": false
    },
    "slideshow": {
     "slide_type": "fragment"
    }
   },
   "source": [
    "We now have a representation for the string `2 + 2`.  In contrast to the string alone, though, the derivation tree records _the entire structure_ (and production history, or _derivation_ history) of the produced string.  It also allows for simple comparison and manipulation – say, replacing one subtree (substructure) against another."
   ]
  },
  {
   "cell_type": "markdown",
   "metadata": {
    "button": false,
    "new_sheet": false,
    "run_control": {
     "read_only": false
    },
    "slideshow": {
     "slide_type": "slide"
    }
   },
   "source": [
    "## Representing Derivation Trees\n",
    "\n",
    "To represent a derivation tree in Python, we use the following format.  A node is a pair\n",
    "\n",
    "```python\n",
    "(SYMBOL_NAME, CHILDREN)\n",
    "```\n",
    "\n",
    "where `SYMBOL_NAME` is a string representing the node (i.e. `\"<start>\"` or `\"+\"`) and `CHILDREN` is a list of children nodes.\n",
    "\n",
    "`CHILDREN` can take some special values:\n",
    "\n",
    "1. `None` as a placeholder for future expansion.  This means that the node is a _nonterminal symbol_ that should be expanded further.\n",
    "2. `[]` (i.e., the empty list) to indicate _no_ children.  This means that the node is a _terminal symbol_ that can no longer be expanded."
   ]
  },
  {
   "cell_type": "markdown",
   "metadata": {
    "button": false,
    "new_sheet": false,
    "run_control": {
     "read_only": false
    },
    "slideshow": {
     "slide_type": "subslide"
    }
   },
   "source": [
    "Let us take a very simple derivation tree, representing the intermediate step `<expr> + <term>`, above."
   ]
  },
  {
   "cell_type": "code",
   "execution_count": 23,
   "metadata": {
    "button": false,
    "new_sheet": false,
    "run_control": {
     "read_only": false
    },
    "slideshow": {
     "slide_type": "fragment"
    }
   },
   "outputs": [],
   "source": [
    "derivation_tree = (\"<start>\",\n",
    "                   [(\"<expr>\",\n",
    "                     [(\"<expr>\", None),\n",
    "                      (\" + \", []),\n",
    "                         (\"<term>\", None)]\n",
    "                     )])"
   ]
  },
  {
   "cell_type": "markdown",
   "metadata": {
    "button": false,
    "new_sheet": false,
    "run_control": {
     "read_only": false
    },
    "slideshow": {
     "slide_type": "subslide"
    }
   },
   "source": [
    "To better understand the structure of this tree, let us introduce a function that visualizes this tree.  We use the `dot` drawing program from the `graphviz` package algorithmically, traversing the above structure.  (Unless you're deeply interested in tree visualization, you can directly skip to the example below.)"
   ]
  },
  {
   "cell_type": "code",
   "execution_count": 24,
   "metadata": {
    "button": false,
    "ipub": {
     "ignore": true
    },
    "new_sheet": false,
    "run_control": {
     "read_only": false
    },
    "slideshow": {
     "slide_type": "skip"
    }
   },
   "outputs": [],
   "source": [
    "from graphviz import Digraph"
   ]
  },
  {
   "cell_type": "code",
   "execution_count": 25,
   "metadata": {
    "button": false,
    "new_sheet": false,
    "run_control": {
     "read_only": false
    },
    "slideshow": {
     "slide_type": "skip"
    }
   },
   "outputs": [],
   "source": [
    "from IPython.display import display"
   ]
  },
  {
   "cell_type": "code",
   "execution_count": 26,
   "metadata": {
    "button": false,
    "new_sheet": false,
    "run_control": {
     "read_only": false
    },
    "slideshow": {
     "slide_type": "skip"
    }
   },
   "outputs": [],
   "source": [
    "import re"
   ]
  },
  {
   "cell_type": "code",
   "execution_count": 27,
   "metadata": {
    "button": false,
    "new_sheet": false,
    "run_control": {
     "read_only": false
    },
    "slideshow": {
     "slide_type": "skip"
    }
   },
   "outputs": [],
   "source": [
    "def dot_escape(s):\n",
    "    \"\"\"Return s in a form suitable for dot\"\"\"\n",
    "    # s = s.replace(\"\\\\\", \"\\\\\\\\\")\n",
    "    s = re.sub(r'([^a-zA-Z0-9\" ])', r\"\\\\\\1\", s)\n",
    "    return s"
   ]
  },
  {
   "cell_type": "code",
   "execution_count": 28,
   "metadata": {
    "button": false,
    "new_sheet": false,
    "run_control": {
     "read_only": false
    },
    "slideshow": {
     "slide_type": "skip"
    }
   },
   "outputs": [],
   "source": [
    "assert dot_escape(\"hello\") == \"hello\"\n",
    "assert dot_escape(\"<hello>, world\") == \"\\\\<hello\\\\>\\\\, world\"\n",
    "assert dot_escape(\"\\\\n\") == \"\\\\\\\\n\""
   ]
  },
  {
   "cell_type": "code",
   "execution_count": 29,
   "metadata": {
    "button": false,
    "new_sheet": false,
    "run_control": {
     "read_only": false
    },
    "slideshow": {
     "slide_type": "skip"
    }
   },
   "outputs": [],
   "source": [
    "def display_tree(derivation_tree, log=False):\n",
    "    \"\"\"Visualize a derivation tree as SVG using the graphviz/dot package.\"\"\"\n",
    "\n",
    "    counter = 0\n",
    "\n",
    "    def traverse_tree(dot, tree, id=0):\n",
    "        (symbol, children) = tree\n",
    "        dot.node(repr(id), dot_escape(symbol))\n",
    "\n",
    "        if children is not None:\n",
    "            for child in children:\n",
    "                nonlocal counter  # Assign each node a unique identifier\n",
    "                counter += 1\n",
    "                child_id = counter\n",
    "                dot.edge(repr(id), repr(child_id))\n",
    "                traverse_tree(dot, child, child_id)\n",
    "\n",
    "    dot = Digraph(comment=\"Derivation Tree\")\n",
    "    dot.attr('node', shape='plain')\n",
    "    traverse_tree(dot, derivation_tree)\n",
    "    if log:\n",
    "        print(dot)\n",
    "    display(dot)"
   ]
  },
  {
   "cell_type": "markdown",
   "metadata": {
    "button": false,
    "new_sheet": false,
    "run_control": {
     "read_only": false
    },
    "slideshow": {
     "slide_type": "fragment"
    }
   },
   "source": [
    "This is what our tree visualizes into:"
   ]
  },
  {
   "cell_type": "code",
   "execution_count": 30,
   "metadata": {
    "button": false,
    "new_sheet": false,
    "run_control": {
     "read_only": false
    },
    "slideshow": {
     "slide_type": "fragment"
    }
   },
   "outputs": [
    {
     "data": {
      "image/svg+xml": [
       "<?xml version=\"1.0\" encoding=\"UTF-8\" standalone=\"no\"?>\n",
       "<!DOCTYPE svg PUBLIC \"-//W3C//DTD SVG 1.1//EN\"\n",
       " \"http://www.w3.org/Graphics/SVG/1.1/DTD/svg11.dtd\">\n",
       "<!-- Generated by graphviz version 2.40.1 (20161225.0304)\n",
       " -->\n",
       "<!-- Title: %3 Pages: 1 -->\n",
       "<svg width=\"143pt\" height=\"125pt\"\n",
       " viewBox=\"0.00 0.00 142.50 125.00\" xmlns=\"http://www.w3.org/2000/svg\" xmlns:xlink=\"http://www.w3.org/1999/xlink\">\n",
       "<g id=\"graph0\" class=\"graph\" transform=\"scale(1 1) rotate(0) translate(4 121)\">\n",
       "<title>%3</title>\n",
       "<polygon fill=\"#ffffff\" stroke=\"transparent\" points=\"-4,4 -4,-121 138.5,-121 138.5,4 -4,4\"/>\n",
       "<!-- 0 -->\n",
       "<g id=\"node1\" class=\"node\">\n",
       "<title>0</title>\n",
       "<text text-anchor=\"middle\" x=\"66.5\" y=\"-105.8\" font-family=\"Times,serif\" font-size=\"14.00\" fill=\"#000000\">&lt;start&gt;</text>\n",
       "</g>\n",
       "<!-- 1 -->\n",
       "<g id=\"node2\" class=\"node\">\n",
       "<title>1</title>\n",
       "<text text-anchor=\"middle\" x=\"66.5\" y=\"-54.8\" font-family=\"Times,serif\" font-size=\"14.00\" fill=\"#000000\">&lt;expr&gt;</text>\n",
       "</g>\n",
       "<!-- 0&#45;&gt;1 -->\n",
       "<g id=\"edge1\" class=\"edge\">\n",
       "<title>0&#45;&gt;1</title>\n",
       "<path fill=\"none\" stroke=\"#000000\" d=\"M66.5,-101.9748C66.5,-95.195 66.5,-84.966 66.5,-76.1331\"/>\n",
       "<polygon fill=\"#000000\" stroke=\"#000000\" points=\"70.0001,-76.0561 66.5,-66.0561 63.0001,-76.0561 70.0001,-76.0561\"/>\n",
       "</g>\n",
       "<!-- 2 -->\n",
       "<g id=\"node3\" class=\"node\">\n",
       "<title>2</title>\n",
       "<text text-anchor=\"middle\" x=\"20.5\" y=\"-3.8\" font-family=\"Times,serif\" font-size=\"14.00\" fill=\"#000000\">&lt;expr&gt;</text>\n",
       "</g>\n",
       "<!-- 1&#45;&gt;2 -->\n",
       "<g id=\"edge2\" class=\"edge\">\n",
       "<title>1&#45;&gt;2</title>\n",
       "<path fill=\"none\" stroke=\"#000000\" d=\"M59.7125,-50.9748C52.9859,-43.517 42.495,-31.8857 34.0564,-22.53\"/>\n",
       "<polygon fill=\"#000000\" stroke=\"#000000\" points=\"36.612,-20.1376 27.3153,-15.0561 31.414,-24.826 36.612,-20.1376\"/>\n",
       "</g>\n",
       "<!-- 3 -->\n",
       "<g id=\"node4\" class=\"node\">\n",
       "<title>3</title>\n",
       "<text text-anchor=\"middle\" x=\"66.5\" y=\"-3.8\" font-family=\"Times,serif\" font-size=\"14.00\" fill=\"#000000\"> + </text>\n",
       "</g>\n",
       "<!-- 1&#45;&gt;3 -->\n",
       "<g id=\"edge3\" class=\"edge\">\n",
       "<title>1&#45;&gt;3</title>\n",
       "<path fill=\"none\" stroke=\"#000000\" d=\"M66.5,-50.9748C66.5,-44.195 66.5,-33.966 66.5,-25.1331\"/>\n",
       "<polygon fill=\"#000000\" stroke=\"#000000\" points=\"70.0001,-25.0561 66.5,-15.0561 63.0001,-25.0561 70.0001,-25.0561\"/>\n",
       "</g>\n",
       "<!-- 4 -->\n",
       "<g id=\"node5\" class=\"node\">\n",
       "<title>4</title>\n",
       "<text text-anchor=\"middle\" x=\"113.5\" y=\"-3.8\" font-family=\"Times,serif\" font-size=\"14.00\" fill=\"#000000\">&lt;term&gt;</text>\n",
       "</g>\n",
       "<!-- 1&#45;&gt;4 -->\n",
       "<g id=\"edge4\" class=\"edge\">\n",
       "<title>1&#45;&gt;4</title>\n",
       "<path fill=\"none\" stroke=\"#000000\" d=\"M73.435,-50.9748C80.3079,-43.517 91.0269,-31.8857 99.6488,-22.53\"/>\n",
       "<polygon fill=\"#000000\" stroke=\"#000000\" points=\"102.3334,-24.7816 106.5365,-15.0561 97.1859,-20.0378 102.3334,-24.7816\"/>\n",
       "</g>\n",
       "</g>\n",
       "</svg>\n"
      ],
      "text/plain": [
       "<graphviz.dot.Digraph at 0x11fc5b860>"
      ]
     },
     "metadata": {},
     "output_type": "display_data"
    }
   ],
   "source": [
    "display_tree(derivation_tree)"
   ]
  },
  {
   "cell_type": "markdown",
   "metadata": {
    "button": false,
    "new_sheet": false,
    "run_control": {
     "read_only": false
    },
    "slideshow": {
     "slide_type": "subslide"
    }
   },
   "source": [
    "To turn the tree into a string, the following `all_terminals()` function comes in handy:"
   ]
  },
  {
   "cell_type": "code",
   "execution_count": 31,
   "metadata": {
    "button": false,
    "new_sheet": false,
    "run_control": {
     "read_only": false
    },
    "slideshow": {
     "slide_type": "fragment"
    }
   },
   "outputs": [],
   "source": [
    "def all_terminals(tree):\n",
    "    (symbol, children) = tree\n",
    "    if children is None:\n",
    "        # This is a nonterminal symbol not expanded yet\n",
    "        return symbol\n",
    "\n",
    "    if len(children) == 0:\n",
    "        # This is a terminal symbol\n",
    "        return symbol\n",
    "\n",
    "    # This is an expanded symbol:\n",
    "    # Concatenate all terminal symbols from all children\n",
    "    return ''.join([all_terminals(c) for c in children])"
   ]
  },
  {
   "cell_type": "code",
   "execution_count": 32,
   "metadata": {
    "button": false,
    "new_sheet": false,
    "run_control": {
     "read_only": false
    },
    "slideshow": {
     "slide_type": "fragment"
    }
   },
   "outputs": [
    {
     "data": {
      "text/plain": [
       "'<expr> + <term>'"
      ]
     },
     "execution_count": 32,
     "metadata": {},
     "output_type": "execute_result"
    }
   ],
   "source": [
    "all_terminals(derivation_tree)"
   ]
  },
  {
   "cell_type": "markdown",
   "metadata": {
    "button": false,
    "new_sheet": false,
    "run_control": {
     "read_only": false
    },
    "slideshow": {
     "slide_type": "slide"
    }
   },
   "source": [
    "## Expanding a Node"
   ]
  },
  {
   "cell_type": "markdown",
   "metadata": {
    "button": false,
    "new_sheet": false,
    "run_control": {
     "read_only": false
    },
    "slideshow": {
     "slide_type": "fragment"
    }
   },
   "source": [
    "Let us now develop an algorithm that takes a tree with unexpanded symbols (say, `derivation_tree`, above), and expands all these symbols one after the other.  As with earlier fuzzers, we create a special subclass of `Fuzzer` – in this case, `GrammarFuzzer`.  A `GrammarFuzzer` gets a grammar and a start symbol; the other parameters will be used later to further control creation and to support debugging."
   ]
  },
  {
   "cell_type": "code",
   "execution_count": 33,
   "metadata": {
    "slideshow": {
     "slide_type": "skip"
    }
   },
   "outputs": [],
   "source": [
    "from Fuzzer import Fuzzer"
   ]
  },
  {
   "cell_type": "code",
   "execution_count": 34,
   "metadata": {
    "button": false,
    "new_sheet": false,
    "run_control": {
     "read_only": false
    },
    "slideshow": {
     "slide_type": "subslide"
    }
   },
   "outputs": [],
   "source": [
    "class GrammarFuzzer(Fuzzer):\n",
    "    def __init__(self, grammar, start_symbol=START_SYMBOL,\n",
    "                 min_nonterminals=0, max_nonterminals=10, disp=False, log=False):\n",
    "        self.grammar = grammar\n",
    "        self.start_symbol = start_symbol\n",
    "        self.min_nonterminals = min_nonterminals\n",
    "        self.max_nonterminals = max_nonterminals\n",
    "        self.disp = disp\n",
    "        self.log = log\n"
   ]
  },
  {
   "cell_type": "markdown",
   "metadata": {
    "slideshow": {
     "slide_type": "subslide"
    }
   },
   "source": [
    "In the following, we will add further methods to `GrammarFuzzer`, using the hack already introduced for [the `MutationFuzzer` class](MutationFuzzer.ipynb).  The construct\n",
    "\n",
    "```python\n",
    "class GrammarFuzzer(GrammarFuzzer):\n",
    "    def new_method(self, args):\n",
    "        pass\n",
    "```\n",
    "\n",
    "allows us to add a new method `new_method()` to the `GrammarFuzzer` class. (Actually, we get a new `GrammarFuzzer` class that extends the old one, but for all our purposes, this does not matter.)"
   ]
  },
  {
   "cell_type": "markdown",
   "metadata": {
    "button": false,
    "new_sheet": false,
    "run_control": {
     "read_only": false
    },
    "slideshow": {
     "slide_type": "subslide"
    }
   },
   "source": [
    "Using this hack, let us define a helper method `init_tree()` that constructs a tree with just the start symbol:"
   ]
  },
  {
   "cell_type": "code",
   "execution_count": 35,
   "metadata": {
    "button": false,
    "new_sheet": false,
    "run_control": {
     "read_only": false
    },
    "slideshow": {
     "slide_type": "fragment"
    }
   },
   "outputs": [],
   "source": [
    "class GrammarFuzzer(GrammarFuzzer):\n",
    "    def init_tree(self):\n",
    "        return (self.start_symbol, None)"
   ]
  },
  {
   "cell_type": "code",
   "execution_count": 36,
   "metadata": {
    "button": false,
    "new_sheet": false,
    "run_control": {
     "read_only": false
    },
    "slideshow": {
     "slide_type": "fragment"
    }
   },
   "outputs": [
    {
     "data": {
      "image/svg+xml": [
       "<?xml version=\"1.0\" encoding=\"UTF-8\" standalone=\"no\"?>\n",
       "<!DOCTYPE svg PUBLIC \"-//W3C//DTD SVG 1.1//EN\"\n",
       " \"http://www.w3.org/Graphics/SVG/1.1/DTD/svg11.dtd\">\n",
       "<!-- Generated by graphviz version 2.40.1 (20161225.0304)\n",
       " -->\n",
       "<!-- Title: %3 Pages: 1 -->\n",
       "<svg width=\"48pt\" height=\"23pt\"\n",
       " viewBox=\"0.00 0.00 48.00 23.00\" xmlns=\"http://www.w3.org/2000/svg\" xmlns:xlink=\"http://www.w3.org/1999/xlink\">\n",
       "<g id=\"graph0\" class=\"graph\" transform=\"scale(1 1) rotate(0) translate(4 19)\">\n",
       "<title>%3</title>\n",
       "<polygon fill=\"#ffffff\" stroke=\"transparent\" points=\"-4,4 -4,-19 44,-19 44,4 -4,4\"/>\n",
       "<!-- 0 -->\n",
       "<g id=\"node1\" class=\"node\">\n",
       "<title>0</title>\n",
       "<text text-anchor=\"middle\" x=\"20\" y=\"-3.8\" font-family=\"Times,serif\" font-size=\"14.00\" fill=\"#000000\">&lt;start&gt;</text>\n",
       "</g>\n",
       "</g>\n",
       "</svg>\n"
      ],
      "text/plain": [
       "<graphviz.dot.Digraph at 0x11fc5b630>"
      ]
     },
     "metadata": {},
     "output_type": "display_data"
    }
   ],
   "source": [
    "f = GrammarFuzzer(EXPR_GRAMMAR)\n",
    "display_tree(f.init_tree())"
   ]
  },
  {
   "cell_type": "markdown",
   "metadata": {
    "button": false,
    "new_sheet": false,
    "run_control": {
     "read_only": false
    },
    "slideshow": {
     "slide_type": "subslide"
    }
   },
   "source": [
    "Next, we will need a helper function `expansion_to_children()` that takes an expansion string and converts it into a list of derivation trees.  It uses the `re.split()` method to split an expansion string into a list of children nodes:"
   ]
  },
  {
   "cell_type": "code",
   "execution_count": 37,
   "metadata": {
    "button": false,
    "new_sheet": false,
    "run_control": {
     "read_only": false
    },
    "slideshow": {
     "slide_type": "subslide"
    }
   },
   "outputs": [],
   "source": [
    "def expansion_to_children(expansion):\n",
    "    # print(\"Converting \" + repr(expansion))\n",
    "    # strings contains all substrings -- both terminals and nonterminals such\n",
    "    # that ''.join(strings) == expansion\n",
    "\n",
    "    # See nonterminals() in Grammars.py\n",
    "    if isinstance(expansion, tuple):\n",
    "        expansion = expansion[0]\n",
    "\n",
    "    if expansion == \"\":  # Special case: empty expansion\n",
    "        return [(\"\", [])]\n",
    "\n",
    "    strings = re.split(RE_NONTERMINAL, expansion)\n",
    "    return [(s, None) if is_nonterminal(s) else (s, [])\n",
    "            for s in strings if len(s) > 0]\n"
   ]
  },
  {
   "cell_type": "code",
   "execution_count": 38,
   "metadata": {
    "button": false,
    "new_sheet": false,
    "run_control": {
     "read_only": false
    },
    "slideshow": {
     "slide_type": "subslide"
    }
   },
   "outputs": [
    {
     "data": {
      "text/plain": [
       "[('<term>', None), (' + ', []), ('<expr>', None)]"
      ]
     },
     "execution_count": 38,
     "metadata": {},
     "output_type": "execute_result"
    }
   ],
   "source": [
    "expansion_to_children(\"<term> + <expr>\")"
   ]
  },
  {
   "cell_type": "markdown",
   "metadata": {
    "button": false,
    "new_sheet": false,
    "run_control": {
     "read_only": false
    },
    "slideshow": {
     "slide_type": "fragment"
    }
   },
   "source": [
    "The case of an empty expansion needs special treatment:"
   ]
  },
  {
   "cell_type": "code",
   "execution_count": 39,
   "metadata": {
    "button": false,
    "new_sheet": false,
    "run_control": {
     "read_only": false
    },
    "slideshow": {
     "slide_type": "fragment"
    }
   },
   "outputs": [
    {
     "data": {
      "text/plain": [
       "[('', [])]"
      ]
     },
     "execution_count": 39,
     "metadata": {},
     "output_type": "execute_result"
    }
   ],
   "source": [
    "expansion_to_children(\"\")"
   ]
  },
  {
   "cell_type": "markdown",
   "metadata": {
    "slideshow": {
     "slide_type": "subslide"
    }
   },
   "source": [
    "Just like `nonterminals()` in the [chapter on Grammars](Grammars.ipynb), we provide for future extensions, allowing the expansion to be a tuple with extra data (which will be ignored)."
   ]
  },
  {
   "cell_type": "code",
   "execution_count": 40,
   "metadata": {
    "button": false,
    "new_sheet": false,
    "run_control": {
     "read_only": false
    },
    "slideshow": {
     "slide_type": "fragment"
    }
   },
   "outputs": [
    {
     "data": {
      "text/plain": [
       "[('+', []), ('<term>', None)]"
      ]
     },
     "execution_count": 40,
     "metadata": {},
     "output_type": "execute_result"
    }
   ],
   "source": [
    "expansion_to_children((\"+<term>\", [\"extra_data\"]))"
   ]
  },
  {
   "cell_type": "markdown",
   "metadata": {
    "slideshow": {
     "slide_type": "fragment"
    }
   },
   "source": [
    "We realize this helper as a method in `GrammarFuzzer` such that it can be overloaded by subclasses:"
   ]
  },
  {
   "cell_type": "code",
   "execution_count": 41,
   "metadata": {
    "slideshow": {
     "slide_type": "fragment"
    }
   },
   "outputs": [],
   "source": [
    "class GrammarFuzzer(GrammarFuzzer):\n",
    "    def expansion_to_children(self, expansion):\n",
    "        return expansion_to_children(expansion)"
   ]
  },
  {
   "cell_type": "markdown",
   "metadata": {
    "button": false,
    "new_sheet": false,
    "run_control": {
     "read_only": false
    },
    "slideshow": {
     "slide_type": "subslide"
    }
   },
   "source": [
    "With this, we can now take some unexpanded node in the tree, choose a random expansion, and return the new tree.  This is what the method `expand_node_randomly()` does, using a helper function `choose_node_expansion()` to randomly pick an index from an array of possible children.  (`choose_node_expansion()` can be overloaded in subclasses.)"
   ]
  },
  {
   "cell_type": "code",
   "execution_count": 42,
   "metadata": {
    "slideshow": {
     "slide_type": "skip"
    }
   },
   "outputs": [],
   "source": [
    "import random"
   ]
  },
  {
   "cell_type": "code",
   "execution_count": 43,
   "metadata": {
    "button": false,
    "new_sheet": false,
    "run_control": {
     "read_only": false
    },
    "slideshow": {
     "slide_type": "subslide"
    }
   },
   "outputs": [],
   "source": [
    "class GrammarFuzzer(GrammarFuzzer):\n",
    "    def choose_node_expansion(self, node, possible_children):\n",
    "        \"\"\"Return index of expansion in `possible_children` to be selected.  Defaults to random.\"\"\"\n",
    "        return random.randrange(0, len(possible_children))\n",
    "\n",
    "    def expand_node_randomly(self, node):\n",
    "        (symbol, children) = node\n",
    "        assert children is None\n",
    "\n",
    "        if self.log:\n",
    "            print(\"Expanding\", all_terminals(node), \"randomly\")\n",
    "\n",
    "        # Fetch the possible expansions from grammar...\n",
    "        expansions = self.grammar[symbol]\n",
    "        possible_children = [self.expansion_to_children(expansion) for expansion in expansions]\n",
    "\n",
    "        # ... and select a random expansion\n",
    "        index = self.choose_node_expansion(node, possible_children)\n",
    "        children = possible_children[index]\n",
    "\n",
    "        # Return with new children\n",
    "        return (symbol, children)\n"
   ]
  },
  {
   "cell_type": "markdown",
   "metadata": {
    "slideshow": {
     "slide_type": "subslide"
    }
   },
   "source": [
    "The generic `expand_node()` method can later be used to select different expansion strategies; as of now, it only uses `expand_node_randomly()`."
   ]
  },
  {
   "cell_type": "code",
   "execution_count": 44,
   "metadata": {
    "slideshow": {
     "slide_type": "fragment"
    }
   },
   "outputs": [],
   "source": [
    "class GrammarFuzzer(GrammarFuzzer):\n",
    "    def expand_node(self, node):\n",
    "        return self.expand_node_randomly(node)"
   ]
  },
  {
   "cell_type": "markdown",
   "metadata": {
    "slideshow": {
     "slide_type": "subslide"
    }
   },
   "source": [
    "This is how `expand_node_randomly()` works:"
   ]
  },
  {
   "cell_type": "code",
   "execution_count": 45,
   "metadata": {
    "button": false,
    "new_sheet": false,
    "run_control": {
     "read_only": false
    },
    "slideshow": {
     "slide_type": "fragment"
    }
   },
   "outputs": [
    {
     "name": "stdout",
     "output_type": "stream",
     "text": [
      "Before:\n"
     ]
    },
    {
     "data": {
      "image/svg+xml": [
       "<?xml version=\"1.0\" encoding=\"UTF-8\" standalone=\"no\"?>\n",
       "<!DOCTYPE svg PUBLIC \"-//W3C//DTD SVG 1.1//EN\"\n",
       " \"http://www.w3.org/Graphics/SVG/1.1/DTD/svg11.dtd\">\n",
       "<!-- Generated by graphviz version 2.40.1 (20161225.0304)\n",
       " -->\n",
       "<!-- Title: %3 Pages: 1 -->\n",
       "<svg width=\"63pt\" height=\"23pt\"\n",
       " viewBox=\"0.00 0.00 63.00 23.00\" xmlns=\"http://www.w3.org/2000/svg\" xmlns:xlink=\"http://www.w3.org/1999/xlink\">\n",
       "<g id=\"graph0\" class=\"graph\" transform=\"scale(1 1) rotate(0) translate(4 19)\">\n",
       "<title>%3</title>\n",
       "<polygon fill=\"#ffffff\" stroke=\"transparent\" points=\"-4,4 -4,-19 59,-19 59,4 -4,4\"/>\n",
       "<!-- 0 -->\n",
       "<g id=\"node1\" class=\"node\">\n",
       "<title>0</title>\n",
       "<text text-anchor=\"middle\" x=\"27.5\" y=\"-3.8\" font-family=\"Times,serif\" font-size=\"14.00\" fill=\"#000000\">&lt;integer&gt;</text>\n",
       "</g>\n",
       "</g>\n",
       "</svg>\n"
      ],
      "text/plain": [
       "<graphviz.dot.Digraph at 0x11fc66630>"
      ]
     },
     "metadata": {},
     "output_type": "display_data"
    },
    {
     "name": "stdout",
     "output_type": "stream",
     "text": [
      "After:\n",
      "Expanding <integer> randomly\n"
     ]
    },
    {
     "data": {
      "image/svg+xml": [
       "<?xml version=\"1.0\" encoding=\"UTF-8\" standalone=\"no\"?>\n",
       "<!DOCTYPE svg PUBLIC \"-//W3C//DTD SVG 1.1//EN\"\n",
       " \"http://www.w3.org/Graphics/SVG/1.1/DTD/svg11.dtd\">\n",
       "<!-- Generated by graphviz version 2.40.1 (20161225.0304)\n",
       " -->\n",
       "<!-- Title: %3 Pages: 1 -->\n",
       "<svg width=\"124pt\" height=\"74pt\"\n",
       " viewBox=\"0.00 0.00 123.50 74.00\" xmlns=\"http://www.w3.org/2000/svg\" xmlns:xlink=\"http://www.w3.org/1999/xlink\">\n",
       "<g id=\"graph0\" class=\"graph\" transform=\"scale(1 1) rotate(0) translate(4 70)\">\n",
       "<title>%3</title>\n",
       "<polygon fill=\"#ffffff\" stroke=\"transparent\" points=\"-4,4 -4,-70 119.5,-70 119.5,4 -4,4\"/>\n",
       "<!-- 0 -->\n",
       "<g id=\"node1\" class=\"node\">\n",
       "<title>0</title>\n",
       "<text text-anchor=\"middle\" x=\"54\" y=\"-54.8\" font-family=\"Times,serif\" font-size=\"14.00\" fill=\"#000000\">&lt;integer&gt;</text>\n",
       "</g>\n",
       "<!-- 1 -->\n",
       "<g id=\"node2\" class=\"node\">\n",
       "<title>1</title>\n",
       "<text text-anchor=\"middle\" x=\"21\" y=\"-3.8\" font-family=\"Times,serif\" font-size=\"14.00\" fill=\"#000000\">&lt;digit&gt;</text>\n",
       "</g>\n",
       "<!-- 0&#45;&gt;1 -->\n",
       "<g id=\"edge1\" class=\"edge\">\n",
       "<title>0&#45;&gt;1</title>\n",
       "<path fill=\"none\" stroke=\"#000000\" d=\"M49.1307,-50.9748C44.5001,-43.8183 37.3828,-32.8188 31.466,-23.6747\"/>\n",
       "<polygon fill=\"#000000\" stroke=\"#000000\" points=\"34.2603,-21.5504 25.8892,-15.0561 28.3833,-25.3532 34.2603,-21.5504\"/>\n",
       "</g>\n",
       "<!-- 2 -->\n",
       "<g id=\"node3\" class=\"node\">\n",
       "<title>2</title>\n",
       "<text text-anchor=\"middle\" x=\"88\" y=\"-3.8\" font-family=\"Times,serif\" font-size=\"14.00\" fill=\"#000000\">&lt;integer&gt;</text>\n",
       "</g>\n",
       "<!-- 0&#45;&gt;2 -->\n",
       "<g id=\"edge2\" class=\"edge\">\n",
       "<title>0&#45;&gt;2</title>\n",
       "<path fill=\"none\" stroke=\"#000000\" d=\"M59.0168,-50.9748C63.838,-43.743 71.2754,-32.5868 77.4089,-23.3866\"/>\n",
       "<polygon fill=\"#000000\" stroke=\"#000000\" points=\"80.3277,-25.3181 82.9626,-15.0561 74.5034,-21.4352 80.3277,-25.3181\"/>\n",
       "</g>\n",
       "</g>\n",
       "</svg>\n"
      ],
      "text/plain": [
       "<graphviz.dot.Digraph at 0x11fc5b748>"
      ]
     },
     "metadata": {},
     "output_type": "display_data"
    }
   ],
   "source": [
    "f = GrammarFuzzer(EXPR_GRAMMAR, log=True)\n",
    "\n",
    "print(\"Before:\")\n",
    "tree = (\"<integer>\", None)\n",
    "display_tree(tree)\n",
    "\n",
    "print(\"After:\")\n",
    "tree = f.expand_node_randomly(tree)\n",
    "display_tree(tree)"
   ]
  },
  {
   "cell_type": "markdown",
   "metadata": {
    "button": false,
    "new_sheet": false,
    "run_control": {
     "read_only": false
    },
    "slideshow": {
     "slide_type": "slide"
    }
   },
   "source": [
    "## Expanding a Tree\n",
    "\n",
    "Let us now apply the above node expansion to some node in the tree.  To this end, we first need to search the tree for unexpanded nodes.  `possible_expansions()` counts how many unexpanded symbols there are in a tree:"
   ]
  },
  {
   "cell_type": "code",
   "execution_count": 46,
   "metadata": {
    "button": false,
    "new_sheet": false,
    "run_control": {
     "read_only": false
    },
    "slideshow": {
     "slide_type": "fragment"
    }
   },
   "outputs": [],
   "source": [
    "class GrammarFuzzer(GrammarFuzzer):\n",
    "    def possible_expansions(self, node):\n",
    "        (symbol, children) = node\n",
    "        if children is None:\n",
    "            return 1\n",
    "\n",
    "        return sum(self.possible_expansions(c) for c in children)"
   ]
  },
  {
   "cell_type": "code",
   "execution_count": 47,
   "metadata": {
    "button": false,
    "new_sheet": false,
    "run_control": {
     "read_only": false
    },
    "slideshow": {
     "slide_type": "fragment"
    }
   },
   "outputs": [
    {
     "name": "stdout",
     "output_type": "stream",
     "text": [
      "2\n"
     ]
    }
   ],
   "source": [
    "f = GrammarFuzzer(EXPR_GRAMMAR)\n",
    "print(f.possible_expansions(derivation_tree))"
   ]
  },
  {
   "cell_type": "markdown",
   "metadata": {
    "button": false,
    "new_sheet": false,
    "run_control": {
     "read_only": false
    },
    "slideshow": {
     "slide_type": "subslide"
    }
   },
   "source": [
    "The method `any_possible_expansions()` returns True if the tree has any unexpanded nodes."
   ]
  },
  {
   "cell_type": "code",
   "execution_count": 48,
   "metadata": {
    "button": false,
    "new_sheet": false,
    "run_control": {
     "read_only": false
    },
    "slideshow": {
     "slide_type": "fragment"
    }
   },
   "outputs": [],
   "source": [
    "class GrammarFuzzer(GrammarFuzzer):\n",
    "    def any_possible_expansions(self, node):\n",
    "        (symbol, children) = node\n",
    "        if children is None:\n",
    "            return True\n",
    "\n",
    "        return any(self.any_possible_expansions(c) for c in children)"
   ]
  },
  {
   "cell_type": "code",
   "execution_count": 49,
   "metadata": {
    "button": false,
    "new_sheet": false,
    "run_control": {
     "read_only": false
    },
    "slideshow": {
     "slide_type": "fragment"
    }
   },
   "outputs": [
    {
     "data": {
      "text/plain": [
       "True"
      ]
     },
     "execution_count": 49,
     "metadata": {},
     "output_type": "execute_result"
    }
   ],
   "source": [
    "f = GrammarFuzzer(EXPR_GRAMMAR)\n",
    "f.any_possible_expansions(derivation_tree)"
   ]
  },
  {
   "cell_type": "markdown",
   "metadata": {
    "button": false,
    "new_sheet": false,
    "run_control": {
     "read_only": false
    },
    "slideshow": {
     "slide_type": "subslide"
    }
   },
   "source": [
    "Here comes `expand_tree_once()`, the core method of our tree expansion algorithm.  It first checks whether it is currently being applied on a nonterminal symbol without expansion; if so, it invokes `expand_node()` on it as above.  \n",
    "\n",
    "If the node is already expanded (i.e. has children), it checks the subset of children which still have unexpanded symbols, randomly selects one of them, and applies itself recursively on that child.\n",
    "\n",
    "The `expand_tree_once()` method replaces the child _in place_, meaning that it actually mutates the tree being passed as an argument rather than returning a new tree.  This in-place mutation is what makes this function particularly efficient.  Again, we use a helper method (`choose_tree_expansion()`) to return the chosen index from a list of children that can be expanded."
   ]
  },
  {
   "cell_type": "code",
   "execution_count": 50,
   "metadata": {
    "button": false,
    "new_sheet": false,
    "run_control": {
     "read_only": false
    },
    "slideshow": {
     "slide_type": "subslide"
    }
   },
   "outputs": [],
   "source": [
    "class GrammarFuzzer(GrammarFuzzer):\n",
    "    def choose_tree_expansion(self, tree, children):\n",
    "        \"\"\"Return index of subtree in `children` to be selected for expansion.  Defaults to random.\"\"\"\n",
    "        return random.randrange(0, len(children))\n",
    "\n",
    "    def expand_tree_once(self, tree):\n",
    "        (symbol, children) = tree\n",
    "        if children is None:\n",
    "            # Expand this node\n",
    "            return self.expand_node(tree)\n",
    "\n",
    "        # Find all children with possible expansions\n",
    "        expandable_children = [\n",
    "            c for c in children if self.any_possible_expansions(c)]\n",
    "\n",
    "        # `index_map` translates an index in `expandable_children`\n",
    "        # back into the original index in `children`\n",
    "        index_map = [i for (i, c) in enumerate(children)\n",
    "                     if self.any_possible_expansions(c)]\n",
    "\n",
    "        # Select a random child\n",
    "        child_to_be_expanded = \\\n",
    "            self.choose_tree_expansion(tree, expandable_children)\n",
    "\n",
    "        # Expand in place\n",
    "        children[index_map[child_to_be_expanded]] = \\\n",
    "            self.expand_tree_once(expandable_children[child_to_be_expanded])\n",
    "\n",
    "        return tree"
   ]
  },
  {
   "cell_type": "markdown",
   "metadata": {
    "button": false,
    "new_sheet": false,
    "run_control": {
     "read_only": false
    },
    "slideshow": {
     "slide_type": "subslide"
    }
   },
   "source": [
    "Let's put it to use, expanding our derivation tree from above twice."
   ]
  },
  {
   "cell_type": "code",
   "execution_count": 51,
   "metadata": {
    "button": false,
    "new_sheet": false,
    "run_control": {
     "read_only": false
    },
    "slideshow": {
     "slide_type": "fragment"
    }
   },
   "outputs": [
    {
     "data": {
      "image/svg+xml": [
       "<?xml version=\"1.0\" encoding=\"UTF-8\" standalone=\"no\"?>\n",
       "<!DOCTYPE svg PUBLIC \"-//W3C//DTD SVG 1.1//EN\"\n",
       " \"http://www.w3.org/Graphics/SVG/1.1/DTD/svg11.dtd\">\n",
       "<!-- Generated by graphviz version 2.40.1 (20161225.0304)\n",
       " -->\n",
       "<!-- Title: %3 Pages: 1 -->\n",
       "<svg width=\"143pt\" height=\"125pt\"\n",
       " viewBox=\"0.00 0.00 142.50 125.00\" xmlns=\"http://www.w3.org/2000/svg\" xmlns:xlink=\"http://www.w3.org/1999/xlink\">\n",
       "<g id=\"graph0\" class=\"graph\" transform=\"scale(1 1) rotate(0) translate(4 121)\">\n",
       "<title>%3</title>\n",
       "<polygon fill=\"#ffffff\" stroke=\"transparent\" points=\"-4,4 -4,-121 138.5,-121 138.5,4 -4,4\"/>\n",
       "<!-- 0 -->\n",
       "<g id=\"node1\" class=\"node\">\n",
       "<title>0</title>\n",
       "<text text-anchor=\"middle\" x=\"66.5\" y=\"-105.8\" font-family=\"Times,serif\" font-size=\"14.00\" fill=\"#000000\">&lt;start&gt;</text>\n",
       "</g>\n",
       "<!-- 1 -->\n",
       "<g id=\"node2\" class=\"node\">\n",
       "<title>1</title>\n",
       "<text text-anchor=\"middle\" x=\"66.5\" y=\"-54.8\" font-family=\"Times,serif\" font-size=\"14.00\" fill=\"#000000\">&lt;expr&gt;</text>\n",
       "</g>\n",
       "<!-- 0&#45;&gt;1 -->\n",
       "<g id=\"edge1\" class=\"edge\">\n",
       "<title>0&#45;&gt;1</title>\n",
       "<path fill=\"none\" stroke=\"#000000\" d=\"M66.5,-101.9748C66.5,-95.195 66.5,-84.966 66.5,-76.1331\"/>\n",
       "<polygon fill=\"#000000\" stroke=\"#000000\" points=\"70.0001,-76.0561 66.5,-66.0561 63.0001,-76.0561 70.0001,-76.0561\"/>\n",
       "</g>\n",
       "<!-- 2 -->\n",
       "<g id=\"node3\" class=\"node\">\n",
       "<title>2</title>\n",
       "<text text-anchor=\"middle\" x=\"20.5\" y=\"-3.8\" font-family=\"Times,serif\" font-size=\"14.00\" fill=\"#000000\">&lt;expr&gt;</text>\n",
       "</g>\n",
       "<!-- 1&#45;&gt;2 -->\n",
       "<g id=\"edge2\" class=\"edge\">\n",
       "<title>1&#45;&gt;2</title>\n",
       "<path fill=\"none\" stroke=\"#000000\" d=\"M59.7125,-50.9748C52.9859,-43.517 42.495,-31.8857 34.0564,-22.53\"/>\n",
       "<polygon fill=\"#000000\" stroke=\"#000000\" points=\"36.612,-20.1376 27.3153,-15.0561 31.414,-24.826 36.612,-20.1376\"/>\n",
       "</g>\n",
       "<!-- 3 -->\n",
       "<g id=\"node4\" class=\"node\">\n",
       "<title>3</title>\n",
       "<text text-anchor=\"middle\" x=\"66.5\" y=\"-3.8\" font-family=\"Times,serif\" font-size=\"14.00\" fill=\"#000000\"> + </text>\n",
       "</g>\n",
       "<!-- 1&#45;&gt;3 -->\n",
       "<g id=\"edge3\" class=\"edge\">\n",
       "<title>1&#45;&gt;3</title>\n",
       "<path fill=\"none\" stroke=\"#000000\" d=\"M66.5,-50.9748C66.5,-44.195 66.5,-33.966 66.5,-25.1331\"/>\n",
       "<polygon fill=\"#000000\" stroke=\"#000000\" points=\"70.0001,-25.0561 66.5,-15.0561 63.0001,-25.0561 70.0001,-25.0561\"/>\n",
       "</g>\n",
       "<!-- 4 -->\n",
       "<g id=\"node5\" class=\"node\">\n",
       "<title>4</title>\n",
       "<text text-anchor=\"middle\" x=\"113.5\" y=\"-3.8\" font-family=\"Times,serif\" font-size=\"14.00\" fill=\"#000000\">&lt;term&gt;</text>\n",
       "</g>\n",
       "<!-- 1&#45;&gt;4 -->\n",
       "<g id=\"edge4\" class=\"edge\">\n",
       "<title>1&#45;&gt;4</title>\n",
       "<path fill=\"none\" stroke=\"#000000\" d=\"M73.435,-50.9748C80.3079,-43.517 91.0269,-31.8857 99.6488,-22.53\"/>\n",
       "<polygon fill=\"#000000\" stroke=\"#000000\" points=\"102.3334,-24.7816 106.5365,-15.0561 97.1859,-20.0378 102.3334,-24.7816\"/>\n",
       "</g>\n",
       "</g>\n",
       "</svg>\n"
      ],
      "text/plain": [
       "<graphviz.dot.Digraph at 0x11fc66d30>"
      ]
     },
     "metadata": {},
     "output_type": "display_data"
    }
   ],
   "source": [
    "derivation_tree = (\"<start>\",\n",
    "                   [(\"<expr>\",\n",
    "                     [(\"<expr>\", None),\n",
    "                      (\" + \", []),\n",
    "                         (\"<term>\", None)]\n",
    "                     )])\n",
    "display_tree(derivation_tree)"
   ]
  },
  {
   "cell_type": "code",
   "execution_count": 52,
   "metadata": {
    "button": false,
    "new_sheet": false,
    "run_control": {
     "read_only": false
    },
    "slideshow": {
     "slide_type": "subslide"
    }
   },
   "outputs": [
    {
     "name": "stdout",
     "output_type": "stream",
     "text": [
      "Expanding <term> randomly\n"
     ]
    },
    {
     "data": {
      "image/svg+xml": [
       "<?xml version=\"1.0\" encoding=\"UTF-8\" standalone=\"no\"?>\n",
       "<!DOCTYPE svg PUBLIC \"-//W3C//DTD SVG 1.1//EN\"\n",
       " \"http://www.w3.org/Graphics/SVG/1.1/DTD/svg11.dtd\">\n",
       "<!-- Generated by graphviz version 2.40.1 (20161225.0304)\n",
       " -->\n",
       "<!-- Title: %3 Pages: 1 -->\n",
       "<svg width=\"146pt\" height=\"176pt\"\n",
       " viewBox=\"0.00 0.00 146.00 176.00\" xmlns=\"http://www.w3.org/2000/svg\" xmlns:xlink=\"http://www.w3.org/1999/xlink\">\n",
       "<g id=\"graph0\" class=\"graph\" transform=\"scale(1 1) rotate(0) translate(4 172)\">\n",
       "<title>%3</title>\n",
       "<polygon fill=\"#ffffff\" stroke=\"transparent\" points=\"-4,4 -4,-172 142,-172 142,4 -4,4\"/>\n",
       "<!-- 0 -->\n",
       "<g id=\"node1\" class=\"node\">\n",
       "<title>0</title>\n",
       "<text text-anchor=\"middle\" x=\"66.5\" y=\"-156.8\" font-family=\"Times,serif\" font-size=\"14.00\" fill=\"#000000\">&lt;start&gt;</text>\n",
       "</g>\n",
       "<!-- 1 -->\n",
       "<g id=\"node2\" class=\"node\">\n",
       "<title>1</title>\n",
       "<text text-anchor=\"middle\" x=\"66.5\" y=\"-105.8\" font-family=\"Times,serif\" font-size=\"14.00\" fill=\"#000000\">&lt;expr&gt;</text>\n",
       "</g>\n",
       "<!-- 0&#45;&gt;1 -->\n",
       "<g id=\"edge1\" class=\"edge\">\n",
       "<title>0&#45;&gt;1</title>\n",
       "<path fill=\"none\" stroke=\"#000000\" d=\"M66.5,-152.9748C66.5,-146.195 66.5,-135.966 66.5,-127.1331\"/>\n",
       "<polygon fill=\"#000000\" stroke=\"#000000\" points=\"70.0001,-127.0561 66.5,-117.0561 63.0001,-127.0561 70.0001,-127.0561\"/>\n",
       "</g>\n",
       "<!-- 2 -->\n",
       "<g id=\"node3\" class=\"node\">\n",
       "<title>2</title>\n",
       "<text text-anchor=\"middle\" x=\"20.5\" y=\"-54.8\" font-family=\"Times,serif\" font-size=\"14.00\" fill=\"#000000\">&lt;expr&gt;</text>\n",
       "</g>\n",
       "<!-- 1&#45;&gt;2 -->\n",
       "<g id=\"edge2\" class=\"edge\">\n",
       "<title>1&#45;&gt;2</title>\n",
       "<path fill=\"none\" stroke=\"#000000\" d=\"M59.7125,-101.9748C52.9859,-94.517 42.495,-82.8857 34.0564,-73.53\"/>\n",
       "<polygon fill=\"#000000\" stroke=\"#000000\" points=\"36.612,-71.1376 27.3153,-66.0561 31.414,-75.826 36.612,-71.1376\"/>\n",
       "</g>\n",
       "<!-- 3 -->\n",
       "<g id=\"node4\" class=\"node\">\n",
       "<title>3</title>\n",
       "<text text-anchor=\"middle\" x=\"66.5\" y=\"-54.8\" font-family=\"Times,serif\" font-size=\"14.00\" fill=\"#000000\"> + </text>\n",
       "</g>\n",
       "<!-- 1&#45;&gt;3 -->\n",
       "<g id=\"edge3\" class=\"edge\">\n",
       "<title>1&#45;&gt;3</title>\n",
       "<path fill=\"none\" stroke=\"#000000\" d=\"M66.5,-101.9748C66.5,-95.195 66.5,-84.966 66.5,-76.1331\"/>\n",
       "<polygon fill=\"#000000\" stroke=\"#000000\" points=\"70.0001,-76.0561 66.5,-66.0561 63.0001,-76.0561 70.0001,-76.0561\"/>\n",
       "</g>\n",
       "<!-- 4 -->\n",
       "<g id=\"node5\" class=\"node\">\n",
       "<title>4</title>\n",
       "<text text-anchor=\"middle\" x=\"113.5\" y=\"-54.8\" font-family=\"Times,serif\" font-size=\"14.00\" fill=\"#000000\">&lt;term&gt;</text>\n",
       "</g>\n",
       "<!-- 1&#45;&gt;4 -->\n",
       "<g id=\"edge4\" class=\"edge\">\n",
       "<title>1&#45;&gt;4</title>\n",
       "<path fill=\"none\" stroke=\"#000000\" d=\"M73.435,-101.9748C80.3079,-94.517 91.0269,-82.8857 99.6488,-73.53\"/>\n",
       "<polygon fill=\"#000000\" stroke=\"#000000\" points=\"102.3334,-75.7816 106.5365,-66.0561 97.1859,-71.0378 102.3334,-75.7816\"/>\n",
       "</g>\n",
       "<!-- 5 -->\n",
       "<g id=\"node6\" class=\"node\">\n",
       "<title>5</title>\n",
       "<text text-anchor=\"middle\" x=\"113.5\" y=\"-3.8\" font-family=\"Times,serif\" font-size=\"14.00\" fill=\"#000000\">&lt;factor&gt;</text>\n",
       "</g>\n",
       "<!-- 4&#45;&gt;5 -->\n",
       "<g id=\"edge5\" class=\"edge\">\n",
       "<title>4&#45;&gt;5</title>\n",
       "<path fill=\"none\" stroke=\"#000000\" d=\"M113.5,-50.9748C113.5,-44.195 113.5,-33.966 113.5,-25.1331\"/>\n",
       "<polygon fill=\"#000000\" stroke=\"#000000\" points=\"117.0001,-25.0561 113.5,-15.0561 110.0001,-25.0561 117.0001,-25.0561\"/>\n",
       "</g>\n",
       "</g>\n",
       "</svg>\n"
      ],
      "text/plain": [
       "<graphviz.dot.Digraph at 0x11fc66550>"
      ]
     },
     "metadata": {},
     "output_type": "display_data"
    }
   ],
   "source": [
    "f = GrammarFuzzer(EXPR_GRAMMAR, log=True)\n",
    "derivation_tree = f.expand_tree_once(derivation_tree)\n",
    "display_tree(derivation_tree)"
   ]
  },
  {
   "cell_type": "code",
   "execution_count": 53,
   "metadata": {
    "button": false,
    "new_sheet": false,
    "run_control": {
     "read_only": false
    },
    "slideshow": {
     "slide_type": "subslide"
    }
   },
   "outputs": [
    {
     "name": "stdout",
     "output_type": "stream",
     "text": [
      "Expanding <expr> randomly\n"
     ]
    },
    {
     "data": {
      "image/svg+xml": [
       "<?xml version=\"1.0\" encoding=\"UTF-8\" standalone=\"no\"?>\n",
       "<!DOCTYPE svg PUBLIC \"-//W3C//DTD SVG 1.1//EN\"\n",
       " \"http://www.w3.org/Graphics/SVG/1.1/DTD/svg11.dtd\">\n",
       "<!-- Generated by graphviz version 2.40.1 (20161225.0304)\n",
       " -->\n",
       "<!-- Title: %3 Pages: 1 -->\n",
       "<svg width=\"147pt\" height=\"176pt\"\n",
       " viewBox=\"0.00 0.00 146.50 176.00\" xmlns=\"http://www.w3.org/2000/svg\" xmlns:xlink=\"http://www.w3.org/1999/xlink\">\n",
       "<g id=\"graph0\" class=\"graph\" transform=\"scale(1 1) rotate(0) translate(4 172)\">\n",
       "<title>%3</title>\n",
       "<polygon fill=\"#ffffff\" stroke=\"transparent\" points=\"-4,4 -4,-172 142.5,-172 142.5,4 -4,4\"/>\n",
       "<!-- 0 -->\n",
       "<g id=\"node1\" class=\"node\">\n",
       "<title>0</title>\n",
       "<text text-anchor=\"middle\" x=\"67\" y=\"-156.8\" font-family=\"Times,serif\" font-size=\"14.00\" fill=\"#000000\">&lt;start&gt;</text>\n",
       "</g>\n",
       "<!-- 1 -->\n",
       "<g id=\"node2\" class=\"node\">\n",
       "<title>1</title>\n",
       "<text text-anchor=\"middle\" x=\"67\" y=\"-105.8\" font-family=\"Times,serif\" font-size=\"14.00\" fill=\"#000000\">&lt;expr&gt;</text>\n",
       "</g>\n",
       "<!-- 0&#45;&gt;1 -->\n",
       "<g id=\"edge1\" class=\"edge\">\n",
       "<title>0&#45;&gt;1</title>\n",
       "<path fill=\"none\" stroke=\"#000000\" d=\"M67,-152.9748C67,-146.195 67,-135.966 67,-127.1331\"/>\n",
       "<polygon fill=\"#000000\" stroke=\"#000000\" points=\"70.5001,-127.0561 67,-117.0561 63.5001,-127.0561 70.5001,-127.0561\"/>\n",
       "</g>\n",
       "<!-- 2 -->\n",
       "<g id=\"node3\" class=\"node\">\n",
       "<title>2</title>\n",
       "<text text-anchor=\"middle\" x=\"21\" y=\"-54.8\" font-family=\"Times,serif\" font-size=\"14.00\" fill=\"#000000\">&lt;expr&gt;</text>\n",
       "</g>\n",
       "<!-- 1&#45;&gt;2 -->\n",
       "<g id=\"edge2\" class=\"edge\">\n",
       "<title>1&#45;&gt;2</title>\n",
       "<path fill=\"none\" stroke=\"#000000\" d=\"M60.2125,-101.9748C53.4859,-94.517 42.995,-82.8857 34.5564,-73.53\"/>\n",
       "<polygon fill=\"#000000\" stroke=\"#000000\" points=\"37.112,-71.1376 27.8153,-66.0561 31.914,-75.826 37.112,-71.1376\"/>\n",
       "</g>\n",
       "<!-- 4 -->\n",
       "<g id=\"node5\" class=\"node\">\n",
       "<title>4</title>\n",
       "<text text-anchor=\"middle\" x=\"67\" y=\"-54.8\" font-family=\"Times,serif\" font-size=\"14.00\" fill=\"#000000\"> + </text>\n",
       "</g>\n",
       "<!-- 1&#45;&gt;4 -->\n",
       "<g id=\"edge4\" class=\"edge\">\n",
       "<title>1&#45;&gt;4</title>\n",
       "<path fill=\"none\" stroke=\"#000000\" d=\"M67,-101.9748C67,-95.195 67,-84.966 67,-76.1331\"/>\n",
       "<polygon fill=\"#000000\" stroke=\"#000000\" points=\"70.5001,-76.0561 67,-66.0561 63.5001,-76.0561 70.5001,-76.0561\"/>\n",
       "</g>\n",
       "<!-- 5 -->\n",
       "<g id=\"node6\" class=\"node\">\n",
       "<title>5</title>\n",
       "<text text-anchor=\"middle\" x=\"114\" y=\"-54.8\" font-family=\"Times,serif\" font-size=\"14.00\" fill=\"#000000\">&lt;term&gt;</text>\n",
       "</g>\n",
       "<!-- 1&#45;&gt;5 -->\n",
       "<g id=\"edge5\" class=\"edge\">\n",
       "<title>1&#45;&gt;5</title>\n",
       "<path fill=\"none\" stroke=\"#000000\" d=\"M73.935,-101.9748C80.8079,-94.517 91.5269,-82.8857 100.1488,-73.53\"/>\n",
       "<polygon fill=\"#000000\" stroke=\"#000000\" points=\"102.8334,-75.7816 107.0365,-66.0561 97.6859,-71.0378 102.8334,-75.7816\"/>\n",
       "</g>\n",
       "<!-- 3 -->\n",
       "<g id=\"node4\" class=\"node\">\n",
       "<title>3</title>\n",
       "<text text-anchor=\"middle\" x=\"21\" y=\"-3.8\" font-family=\"Times,serif\" font-size=\"14.00\" fill=\"#000000\">&lt;term&gt;</text>\n",
       "</g>\n",
       "<!-- 2&#45;&gt;3 -->\n",
       "<g id=\"edge3\" class=\"edge\">\n",
       "<title>2&#45;&gt;3</title>\n",
       "<path fill=\"none\" stroke=\"#000000\" d=\"M21,-50.9748C21,-44.195 21,-33.966 21,-25.1331\"/>\n",
       "<polygon fill=\"#000000\" stroke=\"#000000\" points=\"24.5001,-25.0561 21,-15.0561 17.5001,-25.0561 24.5001,-25.0561\"/>\n",
       "</g>\n",
       "<!-- 6 -->\n",
       "<g id=\"node7\" class=\"node\">\n",
       "<title>6</title>\n",
       "<text text-anchor=\"middle\" x=\"114\" y=\"-3.8\" font-family=\"Times,serif\" font-size=\"14.00\" fill=\"#000000\">&lt;factor&gt;</text>\n",
       "</g>\n",
       "<!-- 5&#45;&gt;6 -->\n",
       "<g id=\"edge6\" class=\"edge\">\n",
       "<title>5&#45;&gt;6</title>\n",
       "<path fill=\"none\" stroke=\"#000000\" d=\"M114,-50.9748C114,-44.195 114,-33.966 114,-25.1331\"/>\n",
       "<polygon fill=\"#000000\" stroke=\"#000000\" points=\"117.5001,-25.0561 114,-15.0561 110.5001,-25.0561 117.5001,-25.0561\"/>\n",
       "</g>\n",
       "</g>\n",
       "</svg>\n"
      ],
      "text/plain": [
       "<graphviz.dot.Digraph at 0x11fc66b38>"
      ]
     },
     "metadata": {},
     "output_type": "display_data"
    }
   ],
   "source": [
    "derivation_tree = f.expand_tree_once(derivation_tree)\n",
    "display_tree(derivation_tree)"
   ]
  },
  {
   "cell_type": "markdown",
   "metadata": {
    "button": false,
    "new_sheet": false,
    "run_control": {
     "read_only": false
    },
    "slideshow": {
     "slide_type": "fragment"
    }
   },
   "source": [
    "We see that which each step, one more symbol is expanded.  Now all it takes is to apply this again and again, expanding the tree further and further."
   ]
  },
  {
   "cell_type": "markdown",
   "metadata": {
    "button": false,
    "new_sheet": false,
    "run_control": {
     "read_only": false
    },
    "slideshow": {
     "slide_type": "slide"
    }
   },
   "source": [
    "## Closing the Expansion\n",
    "\n",
    "With `expand_tree_once()`, we can keep on expanding the tree – but how do we actually stop?  The key idea here, introduced by Luke in \\cite{Luke2000}, is that after inflating the derivation tree to some maximum size, we _only want to apply expansions that increase the size of the tree by a minimum_.  For `<factor>`, for instance, we would prefer an expansion into `<integer>`, as this will not introduce further recursion (and potential size inflation); for `<integer>`, likewise, an expansion into `<digit>` is preferred, as it will less increase tree size than `<digit><integer>`."
   ]
  },
  {
   "cell_type": "markdown",
   "metadata": {
    "button": false,
    "new_sheet": false,
    "run_control": {
     "read_only": false
    },
    "slideshow": {
     "slide_type": "subslide"
    }
   },
   "source": [
    "To identify the _cost_ of expanding a symbol, we introduce two functions that mutually rely on each other:\n",
    "\n",
    "* `symbol_cost()` returns the minimum cost of all expansions of a symbol, using `expansion_cost()` to compute the cost for each expansion.\n",
    "* `expansion_cost()` returns the sum of all expansions in `expansions`.  If a nonterminal is encountered again during traversal, the cost of the expansion is $\\infty$, indicating (potentially infinite) recursion."
   ]
  },
  {
   "cell_type": "code",
   "execution_count": 54,
   "metadata": {
    "button": false,
    "new_sheet": false,
    "run_control": {
     "read_only": false
    },
    "slideshow": {
     "slide_type": "fragment"
    }
   },
   "outputs": [],
   "source": [
    "class GrammarFuzzer(GrammarFuzzer):\n",
    "    def symbol_cost(self, symbol, seen=set()):\n",
    "        expansions = self.grammar[symbol]\n",
    "        return min(self.expansion_cost(e, seen | {symbol}) for e in expansions)\n",
    "\n",
    "    def expansion_cost(self, expansion, seen=set()):\n",
    "        symbols = nonterminals(expansion)\n",
    "        if len(symbols) == 0:\n",
    "            return 1  # no symbol\n",
    "\n",
    "        if any(s in seen for s in symbols):\n",
    "            return float('inf')\n",
    "\n",
    "        # the value of a expansion is the sum of all expandable variables\n",
    "        # inside + 1\n",
    "        return sum(self.symbol_cost(s, seen) for s in symbols) + 1"
   ]
  },
  {
   "cell_type": "markdown",
   "metadata": {
    "button": false,
    "new_sheet": false,
    "run_control": {
     "read_only": false
    },
    "slideshow": {
     "slide_type": "subslide"
    }
   },
   "source": [
    "Here's two examples: The minimum cost of expanding a digit is 1, since we have to choose from one of its expansions."
   ]
  },
  {
   "cell_type": "code",
   "execution_count": 55,
   "metadata": {
    "button": false,
    "new_sheet": false,
    "run_control": {
     "read_only": false
    },
    "slideshow": {
     "slide_type": "fragment"
    }
   },
   "outputs": [],
   "source": [
    "f = GrammarFuzzer(EXPR_GRAMMAR)\n",
    "assert f.symbol_cost(\"<digit>\") == 1"
   ]
  },
  {
   "cell_type": "markdown",
   "metadata": {
    "button": false,
    "new_sheet": false,
    "run_control": {
     "read_only": false
    },
    "slideshow": {
     "slide_type": "fragment"
    }
   },
   "source": [
    "The minimum cost of expanding `<expr>`, though, is five, as this is the minimum number of expansions required.  (`<expr>` $\\rightarrow$ `<term>` $\\rightarrow$ `<factor>` $\\rightarrow$ `<integer>` $\\rightarrow$ `<digit>` $\\rightarrow$ 1)"
   ]
  },
  {
   "cell_type": "code",
   "execution_count": 56,
   "metadata": {
    "button": false,
    "new_sheet": false,
    "run_control": {
     "read_only": false
    },
    "slideshow": {
     "slide_type": "fragment"
    }
   },
   "outputs": [],
   "source": [
    "assert f.symbol_cost(\"<expr>\") == 5"
   ]
  },
  {
   "cell_type": "markdown",
   "metadata": {
    "button": false,
    "new_sheet": false,
    "run_control": {
     "read_only": false
    },
    "slideshow": {
     "slide_type": "subslide"
    }
   },
   "source": [
    "Here's now a variant of `expand_node()` that takes the above cost into account.  It determines the minimum cost `cost` across all children and then chooses a child from the list using the `choose` function, which by default is the minimum cost.  If multiple children all have the same minimum cost, it chooses randomly between these."
   ]
  },
  {
   "cell_type": "code",
   "execution_count": 57,
   "metadata": {
    "button": false,
    "new_sheet": false,
    "run_control": {
     "read_only": false
    },
    "slideshow": {
     "slide_type": "subslide"
    }
   },
   "outputs": [],
   "source": [
    "class GrammarFuzzer(GrammarFuzzer):\n",
    "    def expand_node_by_cost(self, node, choose=min):\n",
    "        (symbol, children) = node\n",
    "        assert children is None\n",
    "\n",
    "        # Fetch the possible expansions from grammar...\n",
    "        expansions = self.grammar[symbol]\n",
    "\n",
    "        possible_children_with_cost = [(self.expansion_to_children(expansion),\n",
    "                                        self.expansion_cost(expansion, {symbol}))\n",
    "                                       for expansion in expansions]\n",
    "\n",
    "        costs = [cost for (child, cost) in possible_children_with_cost]\n",
    "        chosen_cost = choose(costs)\n",
    "        children_with_chosen_cost = [child for (child, child_cost) in possible_children_with_cost\n",
    "                                     if child_cost == chosen_cost]\n",
    "\n",
    "        index = self.choose_node_expansion(node, children_with_chosen_cost)\n",
    "\n",
    "        # Return with a new list\n",
    "        return (symbol, children_with_chosen_cost[index])\n"
   ]
  },
  {
   "cell_type": "markdown",
   "metadata": {
    "slideshow": {
     "slide_type": "subslide"
    }
   },
   "source": [
    "The shortcut `expand_node_min_cost()` passes `min()` as the `choose` function, which makes it expand nodes at minimum cost."
   ]
  },
  {
   "cell_type": "code",
   "execution_count": 58,
   "metadata": {
    "button": false,
    "new_sheet": false,
    "run_control": {
     "read_only": false
    },
    "slideshow": {
     "slide_type": "fragment"
    }
   },
   "outputs": [],
   "source": [
    "class GrammarFuzzer(GrammarFuzzer):\n",
    "    def expand_node_min_cost(self, node):\n",
    "        if self.log:\n",
    "            print(\"Expanding\", all_terminals(node), \"at minimum cost\")\n",
    "\n",
    "        return self.expand_node_by_cost(node, min)"
   ]
  },
  {
   "cell_type": "markdown",
   "metadata": {
    "button": false,
    "new_sheet": false,
    "run_control": {
     "read_only": false
    },
    "slideshow": {
     "slide_type": "subslide"
    }
   },
   "source": [
    "We can now apply this function to close the expansion of our derivation tree, using `expand_tree_once()` with the above `expand_node_min_cost()` as expansion function."
   ]
  },
  {
   "cell_type": "code",
   "execution_count": 59,
   "metadata": {
    "button": false,
    "new_sheet": false,
    "run_control": {
     "read_only": false
    },
    "slideshow": {
     "slide_type": "fragment"
    }
   },
   "outputs": [],
   "source": [
    "class GrammarFuzzer(GrammarFuzzer):\n",
    "    def expand_node(self, node):\n",
    "        return self.expand_node_min_cost(node)"
   ]
  },
  {
   "cell_type": "code",
   "execution_count": 60,
   "metadata": {
    "button": false,
    "new_sheet": false,
    "run_control": {
     "read_only": false
    },
    "slideshow": {
     "slide_type": "subslide"
    }
   },
   "outputs": [
    {
     "data": {
      "image/svg+xml": [
       "<?xml version=\"1.0\" encoding=\"UTF-8\" standalone=\"no\"?>\n",
       "<!DOCTYPE svg PUBLIC \"-//W3C//DTD SVG 1.1//EN\"\n",
       " \"http://www.w3.org/Graphics/SVG/1.1/DTD/svg11.dtd\">\n",
       "<!-- Generated by graphviz version 2.40.1 (20161225.0304)\n",
       " -->\n",
       "<!-- Title: %3 Pages: 1 -->\n",
       "<svg width=\"147pt\" height=\"176pt\"\n",
       " viewBox=\"0.00 0.00 146.50 176.00\" xmlns=\"http://www.w3.org/2000/svg\" xmlns:xlink=\"http://www.w3.org/1999/xlink\">\n",
       "<g id=\"graph0\" class=\"graph\" transform=\"scale(1 1) rotate(0) translate(4 172)\">\n",
       "<title>%3</title>\n",
       "<polygon fill=\"#ffffff\" stroke=\"transparent\" points=\"-4,4 -4,-172 142.5,-172 142.5,4 -4,4\"/>\n",
       "<!-- 0 -->\n",
       "<g id=\"node1\" class=\"node\">\n",
       "<title>0</title>\n",
       "<text text-anchor=\"middle\" x=\"67\" y=\"-156.8\" font-family=\"Times,serif\" font-size=\"14.00\" fill=\"#000000\">&lt;start&gt;</text>\n",
       "</g>\n",
       "<!-- 1 -->\n",
       "<g id=\"node2\" class=\"node\">\n",
       "<title>1</title>\n",
       "<text text-anchor=\"middle\" x=\"67\" y=\"-105.8\" font-family=\"Times,serif\" font-size=\"14.00\" fill=\"#000000\">&lt;expr&gt;</text>\n",
       "</g>\n",
       "<!-- 0&#45;&gt;1 -->\n",
       "<g id=\"edge1\" class=\"edge\">\n",
       "<title>0&#45;&gt;1</title>\n",
       "<path fill=\"none\" stroke=\"#000000\" d=\"M67,-152.9748C67,-146.195 67,-135.966 67,-127.1331\"/>\n",
       "<polygon fill=\"#000000\" stroke=\"#000000\" points=\"70.5001,-127.0561 67,-117.0561 63.5001,-127.0561 70.5001,-127.0561\"/>\n",
       "</g>\n",
       "<!-- 2 -->\n",
       "<g id=\"node3\" class=\"node\">\n",
       "<title>2</title>\n",
       "<text text-anchor=\"middle\" x=\"21\" y=\"-54.8\" font-family=\"Times,serif\" font-size=\"14.00\" fill=\"#000000\">&lt;expr&gt;</text>\n",
       "</g>\n",
       "<!-- 1&#45;&gt;2 -->\n",
       "<g id=\"edge2\" class=\"edge\">\n",
       "<title>1&#45;&gt;2</title>\n",
       "<path fill=\"none\" stroke=\"#000000\" d=\"M60.2125,-101.9748C53.4859,-94.517 42.995,-82.8857 34.5564,-73.53\"/>\n",
       "<polygon fill=\"#000000\" stroke=\"#000000\" points=\"37.112,-71.1376 27.8153,-66.0561 31.914,-75.826 37.112,-71.1376\"/>\n",
       "</g>\n",
       "<!-- 4 -->\n",
       "<g id=\"node5\" class=\"node\">\n",
       "<title>4</title>\n",
       "<text text-anchor=\"middle\" x=\"67\" y=\"-54.8\" font-family=\"Times,serif\" font-size=\"14.00\" fill=\"#000000\"> + </text>\n",
       "</g>\n",
       "<!-- 1&#45;&gt;4 -->\n",
       "<g id=\"edge4\" class=\"edge\">\n",
       "<title>1&#45;&gt;4</title>\n",
       "<path fill=\"none\" stroke=\"#000000\" d=\"M67,-101.9748C67,-95.195 67,-84.966 67,-76.1331\"/>\n",
       "<polygon fill=\"#000000\" stroke=\"#000000\" points=\"70.5001,-76.0561 67,-66.0561 63.5001,-76.0561 70.5001,-76.0561\"/>\n",
       "</g>\n",
       "<!-- 5 -->\n",
       "<g id=\"node6\" class=\"node\">\n",
       "<title>5</title>\n",
       "<text text-anchor=\"middle\" x=\"114\" y=\"-54.8\" font-family=\"Times,serif\" font-size=\"14.00\" fill=\"#000000\">&lt;term&gt;</text>\n",
       "</g>\n",
       "<!-- 1&#45;&gt;5 -->\n",
       "<g id=\"edge5\" class=\"edge\">\n",
       "<title>1&#45;&gt;5</title>\n",
       "<path fill=\"none\" stroke=\"#000000\" d=\"M73.935,-101.9748C80.8079,-94.517 91.5269,-82.8857 100.1488,-73.53\"/>\n",
       "<polygon fill=\"#000000\" stroke=\"#000000\" points=\"102.8334,-75.7816 107.0365,-66.0561 97.6859,-71.0378 102.8334,-75.7816\"/>\n",
       "</g>\n",
       "<!-- 3 -->\n",
       "<g id=\"node4\" class=\"node\">\n",
       "<title>3</title>\n",
       "<text text-anchor=\"middle\" x=\"21\" y=\"-3.8\" font-family=\"Times,serif\" font-size=\"14.00\" fill=\"#000000\">&lt;term&gt;</text>\n",
       "</g>\n",
       "<!-- 2&#45;&gt;3 -->\n",
       "<g id=\"edge3\" class=\"edge\">\n",
       "<title>2&#45;&gt;3</title>\n",
       "<path fill=\"none\" stroke=\"#000000\" d=\"M21,-50.9748C21,-44.195 21,-33.966 21,-25.1331\"/>\n",
       "<polygon fill=\"#000000\" stroke=\"#000000\" points=\"24.5001,-25.0561 21,-15.0561 17.5001,-25.0561 24.5001,-25.0561\"/>\n",
       "</g>\n",
       "<!-- 6 -->\n",
       "<g id=\"node7\" class=\"node\">\n",
       "<title>6</title>\n",
       "<text text-anchor=\"middle\" x=\"114\" y=\"-3.8\" font-family=\"Times,serif\" font-size=\"14.00\" fill=\"#000000\">&lt;factor&gt;</text>\n",
       "</g>\n",
       "<!-- 5&#45;&gt;6 -->\n",
       "<g id=\"edge6\" class=\"edge\">\n",
       "<title>5&#45;&gt;6</title>\n",
       "<path fill=\"none\" stroke=\"#000000\" d=\"M114,-50.9748C114,-44.195 114,-33.966 114,-25.1331\"/>\n",
       "<polygon fill=\"#000000\" stroke=\"#000000\" points=\"117.5001,-25.0561 114,-15.0561 110.5001,-25.0561 117.5001,-25.0561\"/>\n",
       "</g>\n",
       "</g>\n",
       "</svg>\n"
      ],
      "text/plain": [
       "<graphviz.dot.Digraph at 0x11fc66320>"
      ]
     },
     "metadata": {},
     "output_type": "display_data"
    }
   ],
   "source": [
    "f = GrammarFuzzer(EXPR_GRAMMAR, log=True)\n",
    "display_tree(derivation_tree)"
   ]
  },
  {
   "cell_type": "code",
   "execution_count": 61,
   "metadata": {
    "button": false,
    "new_sheet": false,
    "run_control": {
     "read_only": false
    },
    "slideshow": {
     "slide_type": "subslide"
    }
   },
   "outputs": [
    {
     "name": "stdout",
     "output_type": "stream",
     "text": [
      "Expanding <term> at minimum cost\n"
     ]
    },
    {
     "data": {
      "image/svg+xml": [
       "<?xml version=\"1.0\" encoding=\"UTF-8\" standalone=\"no\"?>\n",
       "<!DOCTYPE svg PUBLIC \"-//W3C//DTD SVG 1.1//EN\"\n",
       " \"http://www.w3.org/Graphics/SVG/1.1/DTD/svg11.dtd\">\n",
       "<!-- Generated by graphviz version 2.40.1 (20161225.0304)\n",
       " -->\n",
       "<!-- Title: %3 Pages: 1 -->\n",
       "<svg width=\"150pt\" height=\"227pt\"\n",
       " viewBox=\"0.00 0.00 150.00 227.00\" xmlns=\"http://www.w3.org/2000/svg\" xmlns:xlink=\"http://www.w3.org/1999/xlink\">\n",
       "<g id=\"graph0\" class=\"graph\" transform=\"scale(1 1) rotate(0) translate(4 223)\">\n",
       "<title>%3</title>\n",
       "<polygon fill=\"#ffffff\" stroke=\"transparent\" points=\"-4,4 -4,-223 146,-223 146,4 -4,4\"/>\n",
       "<!-- 0 -->\n",
       "<g id=\"node1\" class=\"node\">\n",
       "<title>0</title>\n",
       "<text text-anchor=\"middle\" x=\"70.5\" y=\"-207.8\" font-family=\"Times,serif\" font-size=\"14.00\" fill=\"#000000\">&lt;start&gt;</text>\n",
       "</g>\n",
       "<!-- 1 -->\n",
       "<g id=\"node2\" class=\"node\">\n",
       "<title>1</title>\n",
       "<text text-anchor=\"middle\" x=\"70.5\" y=\"-156.8\" font-family=\"Times,serif\" font-size=\"14.00\" fill=\"#000000\">&lt;expr&gt;</text>\n",
       "</g>\n",
       "<!-- 0&#45;&gt;1 -->\n",
       "<g id=\"edge1\" class=\"edge\">\n",
       "<title>0&#45;&gt;1</title>\n",
       "<path fill=\"none\" stroke=\"#000000\" d=\"M70.5,-203.9748C70.5,-197.195 70.5,-186.966 70.5,-178.1331\"/>\n",
       "<polygon fill=\"#000000\" stroke=\"#000000\" points=\"74.0001,-178.0561 70.5,-168.0561 67.0001,-178.0561 74.0001,-178.0561\"/>\n",
       "</g>\n",
       "<!-- 2 -->\n",
       "<g id=\"node3\" class=\"node\">\n",
       "<title>2</title>\n",
       "<text text-anchor=\"middle\" x=\"24.5\" y=\"-105.8\" font-family=\"Times,serif\" font-size=\"14.00\" fill=\"#000000\">&lt;expr&gt;</text>\n",
       "</g>\n",
       "<!-- 1&#45;&gt;2 -->\n",
       "<g id=\"edge2\" class=\"edge\">\n",
       "<title>1&#45;&gt;2</title>\n",
       "<path fill=\"none\" stroke=\"#000000\" d=\"M63.7125,-152.9748C56.9859,-145.517 46.495,-133.8857 38.0564,-124.53\"/>\n",
       "<polygon fill=\"#000000\" stroke=\"#000000\" points=\"40.612,-122.1376 31.3153,-117.0561 35.414,-126.826 40.612,-122.1376\"/>\n",
       "</g>\n",
       "<!-- 5 -->\n",
       "<g id=\"node6\" class=\"node\">\n",
       "<title>5</title>\n",
       "<text text-anchor=\"middle\" x=\"70.5\" y=\"-105.8\" font-family=\"Times,serif\" font-size=\"14.00\" fill=\"#000000\"> + </text>\n",
       "</g>\n",
       "<!-- 1&#45;&gt;5 -->\n",
       "<g id=\"edge5\" class=\"edge\">\n",
       "<title>1&#45;&gt;5</title>\n",
       "<path fill=\"none\" stroke=\"#000000\" d=\"M70.5,-152.9748C70.5,-146.195 70.5,-135.966 70.5,-127.1331\"/>\n",
       "<polygon fill=\"#000000\" stroke=\"#000000\" points=\"74.0001,-127.0561 70.5,-117.0561 67.0001,-127.0561 74.0001,-127.0561\"/>\n",
       "</g>\n",
       "<!-- 6 -->\n",
       "<g id=\"node7\" class=\"node\">\n",
       "<title>6</title>\n",
       "<text text-anchor=\"middle\" x=\"117.5\" y=\"-105.8\" font-family=\"Times,serif\" font-size=\"14.00\" fill=\"#000000\">&lt;term&gt;</text>\n",
       "</g>\n",
       "<!-- 1&#45;&gt;6 -->\n",
       "<g id=\"edge6\" class=\"edge\">\n",
       "<title>1&#45;&gt;6</title>\n",
       "<path fill=\"none\" stroke=\"#000000\" d=\"M77.435,-152.9748C84.3079,-145.517 95.0269,-133.8857 103.6488,-124.53\"/>\n",
       "<polygon fill=\"#000000\" stroke=\"#000000\" points=\"106.3334,-126.7816 110.5365,-117.0561 101.1859,-122.0378 106.3334,-126.7816\"/>\n",
       "</g>\n",
       "<!-- 3 -->\n",
       "<g id=\"node4\" class=\"node\">\n",
       "<title>3</title>\n",
       "<text text-anchor=\"middle\" x=\"24.5\" y=\"-54.8\" font-family=\"Times,serif\" font-size=\"14.00\" fill=\"#000000\">&lt;term&gt;</text>\n",
       "</g>\n",
       "<!-- 2&#45;&gt;3 -->\n",
       "<g id=\"edge3\" class=\"edge\">\n",
       "<title>2&#45;&gt;3</title>\n",
       "<path fill=\"none\" stroke=\"#000000\" d=\"M24.5,-101.9748C24.5,-95.195 24.5,-84.966 24.5,-76.1331\"/>\n",
       "<polygon fill=\"#000000\" stroke=\"#000000\" points=\"28.0001,-76.0561 24.5,-66.0561 21.0001,-76.0561 28.0001,-76.0561\"/>\n",
       "</g>\n",
       "<!-- 4 -->\n",
       "<g id=\"node5\" class=\"node\">\n",
       "<title>4</title>\n",
       "<text text-anchor=\"middle\" x=\"24.5\" y=\"-3.8\" font-family=\"Times,serif\" font-size=\"14.00\" fill=\"#000000\">&lt;factor&gt;</text>\n",
       "</g>\n",
       "<!-- 3&#45;&gt;4 -->\n",
       "<g id=\"edge4\" class=\"edge\">\n",
       "<title>3&#45;&gt;4</title>\n",
       "<path fill=\"none\" stroke=\"#000000\" d=\"M24.5,-50.9748C24.5,-44.195 24.5,-33.966 24.5,-25.1331\"/>\n",
       "<polygon fill=\"#000000\" stroke=\"#000000\" points=\"28.0001,-25.0561 24.5,-15.0561 21.0001,-25.0561 28.0001,-25.0561\"/>\n",
       "</g>\n",
       "<!-- 7 -->\n",
       "<g id=\"node8\" class=\"node\">\n",
       "<title>7</title>\n",
       "<text text-anchor=\"middle\" x=\"117.5\" y=\"-54.8\" font-family=\"Times,serif\" font-size=\"14.00\" fill=\"#000000\">&lt;factor&gt;</text>\n",
       "</g>\n",
       "<!-- 6&#45;&gt;7 -->\n",
       "<g id=\"edge7\" class=\"edge\">\n",
       "<title>6&#45;&gt;7</title>\n",
       "<path fill=\"none\" stroke=\"#000000\" d=\"M117.5,-101.9748C117.5,-95.195 117.5,-84.966 117.5,-76.1331\"/>\n",
       "<polygon fill=\"#000000\" stroke=\"#000000\" points=\"121.0001,-76.0561 117.5,-66.0561 114.0001,-76.0561 121.0001,-76.0561\"/>\n",
       "</g>\n",
       "</g>\n",
       "</svg>\n"
      ],
      "text/plain": [
       "<graphviz.dot.Digraph at 0x11fc66f98>"
      ]
     },
     "metadata": {},
     "output_type": "display_data"
    }
   ],
   "source": [
    "if f.any_possible_expansions(derivation_tree):\n",
    "    derivation_tree = f.expand_tree_once(derivation_tree)\n",
    "    display_tree(derivation_tree)"
   ]
  },
  {
   "cell_type": "code",
   "execution_count": 62,
   "metadata": {
    "button": false,
    "new_sheet": false,
    "run_control": {
     "read_only": false
    },
    "slideshow": {
     "slide_type": "subslide"
    }
   },
   "outputs": [
    {
     "name": "stdout",
     "output_type": "stream",
     "text": [
      "Expanding <factor> at minimum cost\n"
     ]
    },
    {
     "data": {
      "image/svg+xml": [
       "<?xml version=\"1.0\" encoding=\"UTF-8\" standalone=\"no\"?>\n",
       "<!DOCTYPE svg PUBLIC \"-//W3C//DTD SVG 1.1//EN\"\n",
       " \"http://www.w3.org/Graphics/SVG/1.1/DTD/svg11.dtd\">\n",
       "<!-- Generated by graphviz version 2.40.1 (20161225.0304)\n",
       " -->\n",
       "<!-- Title: %3 Pages: 1 -->\n",
       "<svg width=\"153pt\" height=\"278pt\"\n",
       " viewBox=\"0.00 0.00 153.00 278.00\" xmlns=\"http://www.w3.org/2000/svg\" xmlns:xlink=\"http://www.w3.org/1999/xlink\">\n",
       "<g id=\"graph0\" class=\"graph\" transform=\"scale(1 1) rotate(0) translate(4 274)\">\n",
       "<title>%3</title>\n",
       "<polygon fill=\"#ffffff\" stroke=\"transparent\" points=\"-4,4 -4,-274 149,-274 149,4 -4,4\"/>\n",
       "<!-- 0 -->\n",
       "<g id=\"node1\" class=\"node\">\n",
       "<title>0</title>\n",
       "<text text-anchor=\"middle\" x=\"73.5\" y=\"-258.8\" font-family=\"Times,serif\" font-size=\"14.00\" fill=\"#000000\">&lt;start&gt;</text>\n",
       "</g>\n",
       "<!-- 1 -->\n",
       "<g id=\"node2\" class=\"node\">\n",
       "<title>1</title>\n",
       "<text text-anchor=\"middle\" x=\"73.5\" y=\"-207.8\" font-family=\"Times,serif\" font-size=\"14.00\" fill=\"#000000\">&lt;expr&gt;</text>\n",
       "</g>\n",
       "<!-- 0&#45;&gt;1 -->\n",
       "<g id=\"edge1\" class=\"edge\">\n",
       "<title>0&#45;&gt;1</title>\n",
       "<path fill=\"none\" stroke=\"#000000\" d=\"M73.5,-254.9748C73.5,-248.195 73.5,-237.966 73.5,-229.1331\"/>\n",
       "<polygon fill=\"#000000\" stroke=\"#000000\" points=\"77.0001,-229.0561 73.5,-219.0561 70.0001,-229.0561 77.0001,-229.0561\"/>\n",
       "</g>\n",
       "<!-- 2 -->\n",
       "<g id=\"node3\" class=\"node\">\n",
       "<title>2</title>\n",
       "<text text-anchor=\"middle\" x=\"27.5\" y=\"-156.8\" font-family=\"Times,serif\" font-size=\"14.00\" fill=\"#000000\">&lt;expr&gt;</text>\n",
       "</g>\n",
       "<!-- 1&#45;&gt;2 -->\n",
       "<g id=\"edge2\" class=\"edge\">\n",
       "<title>1&#45;&gt;2</title>\n",
       "<path fill=\"none\" stroke=\"#000000\" d=\"M66.7125,-203.9748C59.9859,-196.517 49.495,-184.8857 41.0564,-175.53\"/>\n",
       "<polygon fill=\"#000000\" stroke=\"#000000\" points=\"43.612,-173.1376 34.3153,-168.0561 38.414,-177.826 43.612,-173.1376\"/>\n",
       "</g>\n",
       "<!-- 6 -->\n",
       "<g id=\"node7\" class=\"node\">\n",
       "<title>6</title>\n",
       "<text text-anchor=\"middle\" x=\"73.5\" y=\"-156.8\" font-family=\"Times,serif\" font-size=\"14.00\" fill=\"#000000\"> + </text>\n",
       "</g>\n",
       "<!-- 1&#45;&gt;6 -->\n",
       "<g id=\"edge6\" class=\"edge\">\n",
       "<title>1&#45;&gt;6</title>\n",
       "<path fill=\"none\" stroke=\"#000000\" d=\"M73.5,-203.9748C73.5,-197.195 73.5,-186.966 73.5,-178.1331\"/>\n",
       "<polygon fill=\"#000000\" stroke=\"#000000\" points=\"77.0001,-178.0561 73.5,-168.0561 70.0001,-178.0561 77.0001,-178.0561\"/>\n",
       "</g>\n",
       "<!-- 7 -->\n",
       "<g id=\"node8\" class=\"node\">\n",
       "<title>7</title>\n",
       "<text text-anchor=\"middle\" x=\"120.5\" y=\"-156.8\" font-family=\"Times,serif\" font-size=\"14.00\" fill=\"#000000\">&lt;term&gt;</text>\n",
       "</g>\n",
       "<!-- 1&#45;&gt;7 -->\n",
       "<g id=\"edge7\" class=\"edge\">\n",
       "<title>1&#45;&gt;7</title>\n",
       "<path fill=\"none\" stroke=\"#000000\" d=\"M80.435,-203.9748C87.3079,-196.517 98.0269,-184.8857 106.6488,-175.53\"/>\n",
       "<polygon fill=\"#000000\" stroke=\"#000000\" points=\"109.3334,-177.7816 113.5365,-168.0561 104.1859,-173.0378 109.3334,-177.7816\"/>\n",
       "</g>\n",
       "<!-- 3 -->\n",
       "<g id=\"node4\" class=\"node\">\n",
       "<title>3</title>\n",
       "<text text-anchor=\"middle\" x=\"27.5\" y=\"-105.8\" font-family=\"Times,serif\" font-size=\"14.00\" fill=\"#000000\">&lt;term&gt;</text>\n",
       "</g>\n",
       "<!-- 2&#45;&gt;3 -->\n",
       "<g id=\"edge3\" class=\"edge\">\n",
       "<title>2&#45;&gt;3</title>\n",
       "<path fill=\"none\" stroke=\"#000000\" d=\"M27.5,-152.9748C27.5,-146.195 27.5,-135.966 27.5,-127.1331\"/>\n",
       "<polygon fill=\"#000000\" stroke=\"#000000\" points=\"31.0001,-127.0561 27.5,-117.0561 24.0001,-127.0561 31.0001,-127.0561\"/>\n",
       "</g>\n",
       "<!-- 4 -->\n",
       "<g id=\"node5\" class=\"node\">\n",
       "<title>4</title>\n",
       "<text text-anchor=\"middle\" x=\"27.5\" y=\"-54.8\" font-family=\"Times,serif\" font-size=\"14.00\" fill=\"#000000\">&lt;factor&gt;</text>\n",
       "</g>\n",
       "<!-- 3&#45;&gt;4 -->\n",
       "<g id=\"edge4\" class=\"edge\">\n",
       "<title>3&#45;&gt;4</title>\n",
       "<path fill=\"none\" stroke=\"#000000\" d=\"M27.5,-101.9748C27.5,-95.195 27.5,-84.966 27.5,-76.1331\"/>\n",
       "<polygon fill=\"#000000\" stroke=\"#000000\" points=\"31.0001,-76.0561 27.5,-66.0561 24.0001,-76.0561 31.0001,-76.0561\"/>\n",
       "</g>\n",
       "<!-- 5 -->\n",
       "<g id=\"node6\" class=\"node\">\n",
       "<title>5</title>\n",
       "<text text-anchor=\"middle\" x=\"27.5\" y=\"-3.8\" font-family=\"Times,serif\" font-size=\"14.00\" fill=\"#000000\">&lt;integer&gt;</text>\n",
       "</g>\n",
       "<!-- 4&#45;&gt;5 -->\n",
       "<g id=\"edge5\" class=\"edge\">\n",
       "<title>4&#45;&gt;5</title>\n",
       "<path fill=\"none\" stroke=\"#000000\" d=\"M27.5,-50.9748C27.5,-44.195 27.5,-33.966 27.5,-25.1331\"/>\n",
       "<polygon fill=\"#000000\" stroke=\"#000000\" points=\"31.0001,-25.0561 27.5,-15.0561 24.0001,-25.0561 31.0001,-25.0561\"/>\n",
       "</g>\n",
       "<!-- 8 -->\n",
       "<g id=\"node9\" class=\"node\">\n",
       "<title>8</title>\n",
       "<text text-anchor=\"middle\" x=\"120.5\" y=\"-105.8\" font-family=\"Times,serif\" font-size=\"14.00\" fill=\"#000000\">&lt;factor&gt;</text>\n",
       "</g>\n",
       "<!-- 7&#45;&gt;8 -->\n",
       "<g id=\"edge8\" class=\"edge\">\n",
       "<title>7&#45;&gt;8</title>\n",
       "<path fill=\"none\" stroke=\"#000000\" d=\"M120.5,-152.9748C120.5,-146.195 120.5,-135.966 120.5,-127.1331\"/>\n",
       "<polygon fill=\"#000000\" stroke=\"#000000\" points=\"124.0001,-127.0561 120.5,-117.0561 117.0001,-127.0561 124.0001,-127.0561\"/>\n",
       "</g>\n",
       "</g>\n",
       "</svg>\n"
      ],
      "text/plain": [
       "<graphviz.dot.Digraph at 0x11fc66f60>"
      ]
     },
     "metadata": {},
     "output_type": "display_data"
    }
   ],
   "source": [
    "if f.any_possible_expansions(derivation_tree):\n",
    "    derivation_tree = f.expand_tree_once(derivation_tree)\n",
    "    display_tree(derivation_tree)"
   ]
  },
  {
   "cell_type": "code",
   "execution_count": 63,
   "metadata": {
    "button": false,
    "new_sheet": false,
    "run_control": {
     "read_only": false
    },
    "slideshow": {
     "slide_type": "subslide"
    }
   },
   "outputs": [
    {
     "name": "stdout",
     "output_type": "stream",
     "text": [
      "Expanding <factor> at minimum cost\n"
     ]
    },
    {
     "data": {
      "image/svg+xml": [
       "<?xml version=\"1.0\" encoding=\"UTF-8\" standalone=\"no\"?>\n",
       "<!DOCTYPE svg PUBLIC \"-//W3C//DTD SVG 1.1//EN\"\n",
       " \"http://www.w3.org/Graphics/SVG/1.1/DTD/svg11.dtd\">\n",
       "<!-- Generated by graphviz version 2.40.1 (20161225.0304)\n",
       " -->\n",
       "<!-- Title: %3 Pages: 1 -->\n",
       "<svg width=\"156pt\" height=\"278pt\"\n",
       " viewBox=\"0.00 0.00 156.00 278.00\" xmlns=\"http://www.w3.org/2000/svg\" xmlns:xlink=\"http://www.w3.org/1999/xlink\">\n",
       "<g id=\"graph0\" class=\"graph\" transform=\"scale(1 1) rotate(0) translate(4 274)\">\n",
       "<title>%3</title>\n",
       "<polygon fill=\"#ffffff\" stroke=\"transparent\" points=\"-4,4 -4,-274 152,-274 152,4 -4,4\"/>\n",
       "<!-- 0 -->\n",
       "<g id=\"node1\" class=\"node\">\n",
       "<title>0</title>\n",
       "<text text-anchor=\"middle\" x=\"73.5\" y=\"-258.8\" font-family=\"Times,serif\" font-size=\"14.00\" fill=\"#000000\">&lt;start&gt;</text>\n",
       "</g>\n",
       "<!-- 1 -->\n",
       "<g id=\"node2\" class=\"node\">\n",
       "<title>1</title>\n",
       "<text text-anchor=\"middle\" x=\"73.5\" y=\"-207.8\" font-family=\"Times,serif\" font-size=\"14.00\" fill=\"#000000\">&lt;expr&gt;</text>\n",
       "</g>\n",
       "<!-- 0&#45;&gt;1 -->\n",
       "<g id=\"edge1\" class=\"edge\">\n",
       "<title>0&#45;&gt;1</title>\n",
       "<path fill=\"none\" stroke=\"#000000\" d=\"M73.5,-254.9748C73.5,-248.195 73.5,-237.966 73.5,-229.1331\"/>\n",
       "<polygon fill=\"#000000\" stroke=\"#000000\" points=\"77.0001,-229.0561 73.5,-219.0561 70.0001,-229.0561 77.0001,-229.0561\"/>\n",
       "</g>\n",
       "<!-- 2 -->\n",
       "<g id=\"node3\" class=\"node\">\n",
       "<title>2</title>\n",
       "<text text-anchor=\"middle\" x=\"27.5\" y=\"-156.8\" font-family=\"Times,serif\" font-size=\"14.00\" fill=\"#000000\">&lt;expr&gt;</text>\n",
       "</g>\n",
       "<!-- 1&#45;&gt;2 -->\n",
       "<g id=\"edge2\" class=\"edge\">\n",
       "<title>1&#45;&gt;2</title>\n",
       "<path fill=\"none\" stroke=\"#000000\" d=\"M66.7125,-203.9748C59.9859,-196.517 49.495,-184.8857 41.0564,-175.53\"/>\n",
       "<polygon fill=\"#000000\" stroke=\"#000000\" points=\"43.612,-173.1376 34.3153,-168.0561 38.414,-177.826 43.612,-173.1376\"/>\n",
       "</g>\n",
       "<!-- 6 -->\n",
       "<g id=\"node7\" class=\"node\">\n",
       "<title>6</title>\n",
       "<text text-anchor=\"middle\" x=\"73.5\" y=\"-156.8\" font-family=\"Times,serif\" font-size=\"14.00\" fill=\"#000000\"> + </text>\n",
       "</g>\n",
       "<!-- 1&#45;&gt;6 -->\n",
       "<g id=\"edge6\" class=\"edge\">\n",
       "<title>1&#45;&gt;6</title>\n",
       "<path fill=\"none\" stroke=\"#000000\" d=\"M73.5,-203.9748C73.5,-197.195 73.5,-186.966 73.5,-178.1331\"/>\n",
       "<polygon fill=\"#000000\" stroke=\"#000000\" points=\"77.0001,-178.0561 73.5,-168.0561 70.0001,-178.0561 77.0001,-178.0561\"/>\n",
       "</g>\n",
       "<!-- 7 -->\n",
       "<g id=\"node8\" class=\"node\">\n",
       "<title>7</title>\n",
       "<text text-anchor=\"middle\" x=\"120.5\" y=\"-156.8\" font-family=\"Times,serif\" font-size=\"14.00\" fill=\"#000000\">&lt;term&gt;</text>\n",
       "</g>\n",
       "<!-- 1&#45;&gt;7 -->\n",
       "<g id=\"edge7\" class=\"edge\">\n",
       "<title>1&#45;&gt;7</title>\n",
       "<path fill=\"none\" stroke=\"#000000\" d=\"M80.435,-203.9748C87.3079,-196.517 98.0269,-184.8857 106.6488,-175.53\"/>\n",
       "<polygon fill=\"#000000\" stroke=\"#000000\" points=\"109.3334,-177.7816 113.5365,-168.0561 104.1859,-173.0378 109.3334,-177.7816\"/>\n",
       "</g>\n",
       "<!-- 3 -->\n",
       "<g id=\"node4\" class=\"node\">\n",
       "<title>3</title>\n",
       "<text text-anchor=\"middle\" x=\"27.5\" y=\"-105.8\" font-family=\"Times,serif\" font-size=\"14.00\" fill=\"#000000\">&lt;term&gt;</text>\n",
       "</g>\n",
       "<!-- 2&#45;&gt;3 -->\n",
       "<g id=\"edge3\" class=\"edge\">\n",
       "<title>2&#45;&gt;3</title>\n",
       "<path fill=\"none\" stroke=\"#000000\" d=\"M27.5,-152.9748C27.5,-146.195 27.5,-135.966 27.5,-127.1331\"/>\n",
       "<polygon fill=\"#000000\" stroke=\"#000000\" points=\"31.0001,-127.0561 27.5,-117.0561 24.0001,-127.0561 31.0001,-127.0561\"/>\n",
       "</g>\n",
       "<!-- 4 -->\n",
       "<g id=\"node5\" class=\"node\">\n",
       "<title>4</title>\n",
       "<text text-anchor=\"middle\" x=\"27.5\" y=\"-54.8\" font-family=\"Times,serif\" font-size=\"14.00\" fill=\"#000000\">&lt;factor&gt;</text>\n",
       "</g>\n",
       "<!-- 3&#45;&gt;4 -->\n",
       "<g id=\"edge4\" class=\"edge\">\n",
       "<title>3&#45;&gt;4</title>\n",
       "<path fill=\"none\" stroke=\"#000000\" d=\"M27.5,-101.9748C27.5,-95.195 27.5,-84.966 27.5,-76.1331\"/>\n",
       "<polygon fill=\"#000000\" stroke=\"#000000\" points=\"31.0001,-76.0561 27.5,-66.0561 24.0001,-76.0561 31.0001,-76.0561\"/>\n",
       "</g>\n",
       "<!-- 5 -->\n",
       "<g id=\"node6\" class=\"node\">\n",
       "<title>5</title>\n",
       "<text text-anchor=\"middle\" x=\"27.5\" y=\"-3.8\" font-family=\"Times,serif\" font-size=\"14.00\" fill=\"#000000\">&lt;integer&gt;</text>\n",
       "</g>\n",
       "<!-- 4&#45;&gt;5 -->\n",
       "<g id=\"edge5\" class=\"edge\">\n",
       "<title>4&#45;&gt;5</title>\n",
       "<path fill=\"none\" stroke=\"#000000\" d=\"M27.5,-50.9748C27.5,-44.195 27.5,-33.966 27.5,-25.1331\"/>\n",
       "<polygon fill=\"#000000\" stroke=\"#000000\" points=\"31.0001,-25.0561 27.5,-15.0561 24.0001,-25.0561 31.0001,-25.0561\"/>\n",
       "</g>\n",
       "<!-- 8 -->\n",
       "<g id=\"node9\" class=\"node\">\n",
       "<title>8</title>\n",
       "<text text-anchor=\"middle\" x=\"120.5\" y=\"-105.8\" font-family=\"Times,serif\" font-size=\"14.00\" fill=\"#000000\">&lt;factor&gt;</text>\n",
       "</g>\n",
       "<!-- 7&#45;&gt;8 -->\n",
       "<g id=\"edge8\" class=\"edge\">\n",
       "<title>7&#45;&gt;8</title>\n",
       "<path fill=\"none\" stroke=\"#000000\" d=\"M120.5,-152.9748C120.5,-146.195 120.5,-135.966 120.5,-127.1331\"/>\n",
       "<polygon fill=\"#000000\" stroke=\"#000000\" points=\"124.0001,-127.0561 120.5,-117.0561 117.0001,-127.0561 124.0001,-127.0561\"/>\n",
       "</g>\n",
       "<!-- 9 -->\n",
       "<g id=\"node10\" class=\"node\">\n",
       "<title>9</title>\n",
       "<text text-anchor=\"middle\" x=\"120.5\" y=\"-54.8\" font-family=\"Times,serif\" font-size=\"14.00\" fill=\"#000000\">&lt;integer&gt;</text>\n",
       "</g>\n",
       "<!-- 8&#45;&gt;9 -->\n",
       "<g id=\"edge9\" class=\"edge\">\n",
       "<title>8&#45;&gt;9</title>\n",
       "<path fill=\"none\" stroke=\"#000000\" d=\"M120.5,-101.9748C120.5,-95.195 120.5,-84.966 120.5,-76.1331\"/>\n",
       "<polygon fill=\"#000000\" stroke=\"#000000\" points=\"124.0001,-76.0561 120.5,-66.0561 117.0001,-76.0561 124.0001,-76.0561\"/>\n",
       "</g>\n",
       "</g>\n",
       "</svg>\n"
      ],
      "text/plain": [
       "<graphviz.dot.Digraph at 0x11fc669e8>"
      ]
     },
     "metadata": {},
     "output_type": "display_data"
    }
   ],
   "source": [
    "if f.any_possible_expansions(derivation_tree):\n",
    "    derivation_tree = f.expand_tree_once(derivation_tree)\n",
    "    display_tree(derivation_tree)"
   ]
  },
  {
   "cell_type": "markdown",
   "metadata": {
    "slideshow": {
     "slide_type": "subslide"
    }
   },
   "source": [
    "We keep on expanding until all nonterminals are expanded."
   ]
  },
  {
   "cell_type": "code",
   "execution_count": 64,
   "metadata": {
    "button": false,
    "new_sheet": false,
    "run_control": {
     "read_only": false
    },
    "slideshow": {
     "slide_type": "fragment"
    }
   },
   "outputs": [
    {
     "name": "stdout",
     "output_type": "stream",
     "text": [
      "Expanding <integer> at minimum cost\n",
      "Expanding <integer> at minimum cost\n",
      "Expanding <digit> at minimum cost\n",
      "Expanding <digit> at minimum cost\n"
     ]
    }
   ],
   "source": [
    "while f.any_possible_expansions(derivation_tree):\n",
    "    derivation_tree = f.expand_tree_once(derivation_tree)    "
   ]
  },
  {
   "cell_type": "markdown",
   "metadata": {
    "slideshow": {
     "slide_type": "subslide"
    }
   },
   "source": [
    "Here is the final tree:"
   ]
  },
  {
   "cell_type": "code",
   "execution_count": 65,
   "metadata": {
    "button": false,
    "new_sheet": false,
    "run_control": {
     "read_only": false
    },
    "slideshow": {
     "slide_type": "fragment"
    }
   },
   "outputs": [
    {
     "data": {
      "image/svg+xml": [
       "<?xml version=\"1.0\" encoding=\"UTF-8\" standalone=\"no\"?>\n",
       "<!DOCTYPE svg PUBLIC \"-//W3C//DTD SVG 1.1//EN\"\n",
       " \"http://www.w3.org/Graphics/SVG/1.1/DTD/svg11.dtd\">\n",
       "<!-- Generated by graphviz version 2.40.1 (20161225.0304)\n",
       " -->\n",
       "<!-- Title: %3 Pages: 1 -->\n",
       "<svg width=\"156pt\" height=\"380pt\"\n",
       " viewBox=\"0.00 0.00 156.00 380.00\" xmlns=\"http://www.w3.org/2000/svg\" xmlns:xlink=\"http://www.w3.org/1999/xlink\">\n",
       "<g id=\"graph0\" class=\"graph\" transform=\"scale(1 1) rotate(0) translate(4 376)\">\n",
       "<title>%3</title>\n",
       "<polygon fill=\"#ffffff\" stroke=\"transparent\" points=\"-4,4 -4,-376 152,-376 152,4 -4,4\"/>\n",
       "<!-- 0 -->\n",
       "<g id=\"node1\" class=\"node\">\n",
       "<title>0</title>\n",
       "<text text-anchor=\"middle\" x=\"73.5\" y=\"-360.8\" font-family=\"Times,serif\" font-size=\"14.00\" fill=\"#000000\">&lt;start&gt;</text>\n",
       "</g>\n",
       "<!-- 1 -->\n",
       "<g id=\"node2\" class=\"node\">\n",
       "<title>1</title>\n",
       "<text text-anchor=\"middle\" x=\"73.5\" y=\"-309.8\" font-family=\"Times,serif\" font-size=\"14.00\" fill=\"#000000\">&lt;expr&gt;</text>\n",
       "</g>\n",
       "<!-- 0&#45;&gt;1 -->\n",
       "<g id=\"edge1\" class=\"edge\">\n",
       "<title>0&#45;&gt;1</title>\n",
       "<path fill=\"none\" stroke=\"#000000\" d=\"M73.5,-356.9748C73.5,-350.195 73.5,-339.966 73.5,-331.1331\"/>\n",
       "<polygon fill=\"#000000\" stroke=\"#000000\" points=\"77.0001,-331.0561 73.5,-321.0561 70.0001,-331.0561 77.0001,-331.0561\"/>\n",
       "</g>\n",
       "<!-- 2 -->\n",
       "<g id=\"node3\" class=\"node\">\n",
       "<title>2</title>\n",
       "<text text-anchor=\"middle\" x=\"27.5\" y=\"-258.8\" font-family=\"Times,serif\" font-size=\"14.00\" fill=\"#000000\">&lt;expr&gt;</text>\n",
       "</g>\n",
       "<!-- 1&#45;&gt;2 -->\n",
       "<g id=\"edge2\" class=\"edge\">\n",
       "<title>1&#45;&gt;2</title>\n",
       "<path fill=\"none\" stroke=\"#000000\" d=\"M66.7125,-305.9748C59.9859,-298.517 49.495,-286.8857 41.0564,-277.53\"/>\n",
       "<polygon fill=\"#000000\" stroke=\"#000000\" points=\"43.612,-275.1376 34.3153,-270.0561 38.414,-279.826 43.612,-275.1376\"/>\n",
       "</g>\n",
       "<!-- 8 -->\n",
       "<g id=\"node9\" class=\"node\">\n",
       "<title>8</title>\n",
       "<text text-anchor=\"middle\" x=\"73.5\" y=\"-258.8\" font-family=\"Times,serif\" font-size=\"14.00\" fill=\"#000000\"> + </text>\n",
       "</g>\n",
       "<!-- 1&#45;&gt;8 -->\n",
       "<g id=\"edge8\" class=\"edge\">\n",
       "<title>1&#45;&gt;8</title>\n",
       "<path fill=\"none\" stroke=\"#000000\" d=\"M73.5,-305.9748C73.5,-299.195 73.5,-288.966 73.5,-280.1331\"/>\n",
       "<polygon fill=\"#000000\" stroke=\"#000000\" points=\"77.0001,-280.0561 73.5,-270.0561 70.0001,-280.0561 77.0001,-280.0561\"/>\n",
       "</g>\n",
       "<!-- 9 -->\n",
       "<g id=\"node10\" class=\"node\">\n",
       "<title>9</title>\n",
       "<text text-anchor=\"middle\" x=\"120.5\" y=\"-258.8\" font-family=\"Times,serif\" font-size=\"14.00\" fill=\"#000000\">&lt;term&gt;</text>\n",
       "</g>\n",
       "<!-- 1&#45;&gt;9 -->\n",
       "<g id=\"edge9\" class=\"edge\">\n",
       "<title>1&#45;&gt;9</title>\n",
       "<path fill=\"none\" stroke=\"#000000\" d=\"M80.435,-305.9748C87.3079,-298.517 98.0269,-286.8857 106.6488,-277.53\"/>\n",
       "<polygon fill=\"#000000\" stroke=\"#000000\" points=\"109.3334,-279.7816 113.5365,-270.0561 104.1859,-275.0378 109.3334,-279.7816\"/>\n",
       "</g>\n",
       "<!-- 3 -->\n",
       "<g id=\"node4\" class=\"node\">\n",
       "<title>3</title>\n",
       "<text text-anchor=\"middle\" x=\"27.5\" y=\"-207.8\" font-family=\"Times,serif\" font-size=\"14.00\" fill=\"#000000\">&lt;term&gt;</text>\n",
       "</g>\n",
       "<!-- 2&#45;&gt;3 -->\n",
       "<g id=\"edge3\" class=\"edge\">\n",
       "<title>2&#45;&gt;3</title>\n",
       "<path fill=\"none\" stroke=\"#000000\" d=\"M27.5,-254.9748C27.5,-248.195 27.5,-237.966 27.5,-229.1331\"/>\n",
       "<polygon fill=\"#000000\" stroke=\"#000000\" points=\"31.0001,-229.0561 27.5,-219.0561 24.0001,-229.0561 31.0001,-229.0561\"/>\n",
       "</g>\n",
       "<!-- 4 -->\n",
       "<g id=\"node5\" class=\"node\">\n",
       "<title>4</title>\n",
       "<text text-anchor=\"middle\" x=\"27.5\" y=\"-156.8\" font-family=\"Times,serif\" font-size=\"14.00\" fill=\"#000000\">&lt;factor&gt;</text>\n",
       "</g>\n",
       "<!-- 3&#45;&gt;4 -->\n",
       "<g id=\"edge4\" class=\"edge\">\n",
       "<title>3&#45;&gt;4</title>\n",
       "<path fill=\"none\" stroke=\"#000000\" d=\"M27.5,-203.9748C27.5,-197.195 27.5,-186.966 27.5,-178.1331\"/>\n",
       "<polygon fill=\"#000000\" stroke=\"#000000\" points=\"31.0001,-178.0561 27.5,-168.0561 24.0001,-178.0561 31.0001,-178.0561\"/>\n",
       "</g>\n",
       "<!-- 5 -->\n",
       "<g id=\"node6\" class=\"node\">\n",
       "<title>5</title>\n",
       "<text text-anchor=\"middle\" x=\"27.5\" y=\"-105.8\" font-family=\"Times,serif\" font-size=\"14.00\" fill=\"#000000\">&lt;integer&gt;</text>\n",
       "</g>\n",
       "<!-- 4&#45;&gt;5 -->\n",
       "<g id=\"edge5\" class=\"edge\">\n",
       "<title>4&#45;&gt;5</title>\n",
       "<path fill=\"none\" stroke=\"#000000\" d=\"M27.5,-152.9748C27.5,-146.195 27.5,-135.966 27.5,-127.1331\"/>\n",
       "<polygon fill=\"#000000\" stroke=\"#000000\" points=\"31.0001,-127.0561 27.5,-117.0561 24.0001,-127.0561 31.0001,-127.0561\"/>\n",
       "</g>\n",
       "<!-- 6 -->\n",
       "<g id=\"node7\" class=\"node\">\n",
       "<title>6</title>\n",
       "<text text-anchor=\"middle\" x=\"27.5\" y=\"-54.8\" font-family=\"Times,serif\" font-size=\"14.00\" fill=\"#000000\">&lt;digit&gt;</text>\n",
       "</g>\n",
       "<!-- 5&#45;&gt;6 -->\n",
       "<g id=\"edge6\" class=\"edge\">\n",
       "<title>5&#45;&gt;6</title>\n",
       "<path fill=\"none\" stroke=\"#000000\" d=\"M27.5,-101.9748C27.5,-95.195 27.5,-84.966 27.5,-76.1331\"/>\n",
       "<polygon fill=\"#000000\" stroke=\"#000000\" points=\"31.0001,-76.0561 27.5,-66.0561 24.0001,-76.0561 31.0001,-76.0561\"/>\n",
       "</g>\n",
       "<!-- 7 -->\n",
       "<g id=\"node8\" class=\"node\">\n",
       "<title>7</title>\n",
       "<text text-anchor=\"middle\" x=\"27.5\" y=\"-3.8\" font-family=\"Times,serif\" font-size=\"14.00\" fill=\"#000000\">0</text>\n",
       "</g>\n",
       "<!-- 6&#45;&gt;7 -->\n",
       "<g id=\"edge7\" class=\"edge\">\n",
       "<title>6&#45;&gt;7</title>\n",
       "<path fill=\"none\" stroke=\"#000000\" d=\"M27.5,-50.9748C27.5,-44.195 27.5,-33.966 27.5,-25.1331\"/>\n",
       "<polygon fill=\"#000000\" stroke=\"#000000\" points=\"31.0001,-25.0561 27.5,-15.0561 24.0001,-25.0561 31.0001,-25.0561\"/>\n",
       "</g>\n",
       "<!-- 10 -->\n",
       "<g id=\"node11\" class=\"node\">\n",
       "<title>10</title>\n",
       "<text text-anchor=\"middle\" x=\"120.5\" y=\"-207.8\" font-family=\"Times,serif\" font-size=\"14.00\" fill=\"#000000\">&lt;factor&gt;</text>\n",
       "</g>\n",
       "<!-- 9&#45;&gt;10 -->\n",
       "<g id=\"edge10\" class=\"edge\">\n",
       "<title>9&#45;&gt;10</title>\n",
       "<path fill=\"none\" stroke=\"#000000\" d=\"M120.5,-254.9748C120.5,-248.195 120.5,-237.966 120.5,-229.1331\"/>\n",
       "<polygon fill=\"#000000\" stroke=\"#000000\" points=\"124.0001,-229.0561 120.5,-219.0561 117.0001,-229.0561 124.0001,-229.0561\"/>\n",
       "</g>\n",
       "<!-- 11 -->\n",
       "<g id=\"node12\" class=\"node\">\n",
       "<title>11</title>\n",
       "<text text-anchor=\"middle\" x=\"120.5\" y=\"-156.8\" font-family=\"Times,serif\" font-size=\"14.00\" fill=\"#000000\">&lt;integer&gt;</text>\n",
       "</g>\n",
       "<!-- 10&#45;&gt;11 -->\n",
       "<g id=\"edge11\" class=\"edge\">\n",
       "<title>10&#45;&gt;11</title>\n",
       "<path fill=\"none\" stroke=\"#000000\" d=\"M120.5,-203.9748C120.5,-197.195 120.5,-186.966 120.5,-178.1331\"/>\n",
       "<polygon fill=\"#000000\" stroke=\"#000000\" points=\"124.0001,-178.0561 120.5,-168.0561 117.0001,-178.0561 124.0001,-178.0561\"/>\n",
       "</g>\n",
       "<!-- 12 -->\n",
       "<g id=\"node13\" class=\"node\">\n",
       "<title>12</title>\n",
       "<text text-anchor=\"middle\" x=\"120.5\" y=\"-105.8\" font-family=\"Times,serif\" font-size=\"14.00\" fill=\"#000000\">&lt;digit&gt;</text>\n",
       "</g>\n",
       "<!-- 11&#45;&gt;12 -->\n",
       "<g id=\"edge12\" class=\"edge\">\n",
       "<title>11&#45;&gt;12</title>\n",
       "<path fill=\"none\" stroke=\"#000000\" d=\"M120.5,-152.9748C120.5,-146.195 120.5,-135.966 120.5,-127.1331\"/>\n",
       "<polygon fill=\"#000000\" stroke=\"#000000\" points=\"124.0001,-127.0561 120.5,-117.0561 117.0001,-127.0561 124.0001,-127.0561\"/>\n",
       "</g>\n",
       "<!-- 13 -->\n",
       "<g id=\"node14\" class=\"node\">\n",
       "<title>13</title>\n",
       "<text text-anchor=\"middle\" x=\"120.5\" y=\"-54.8\" font-family=\"Times,serif\" font-size=\"14.00\" fill=\"#000000\">1</text>\n",
       "</g>\n",
       "<!-- 12&#45;&gt;13 -->\n",
       "<g id=\"edge13\" class=\"edge\">\n",
       "<title>12&#45;&gt;13</title>\n",
       "<path fill=\"none\" stroke=\"#000000\" d=\"M120.5,-101.9748C120.5,-95.195 120.5,-84.966 120.5,-76.1331\"/>\n",
       "<polygon fill=\"#000000\" stroke=\"#000000\" points=\"124.0001,-76.0561 120.5,-66.0561 117.0001,-76.0561 124.0001,-76.0561\"/>\n",
       "</g>\n",
       "</g>\n",
       "</svg>\n"
      ],
      "text/plain": [
       "<graphviz.dot.Digraph at 0x11fc66b70>"
      ]
     },
     "metadata": {},
     "output_type": "display_data"
    }
   ],
   "source": [
    "display_tree(derivation_tree)"
   ]
  },
  {
   "cell_type": "markdown",
   "metadata": {
    "button": false,
    "new_sheet": false,
    "run_control": {
     "read_only": false
    },
    "slideshow": {
     "slide_type": "subslide"
    }
   },
   "source": [
    "We see that in each step, `expand_node_min_cost()` chooses an expansion that does not increase the number of symbols, eventually closing all open expansions."
   ]
  },
  {
   "cell_type": "markdown",
   "metadata": {
    "slideshow": {
     "slide_type": "slide"
    }
   },
   "source": [
    "## Node Inflation\n",
    "\n",
    "Especially at the beginning of an expansion, we may be interested in getting _as many nodes as possible_ – that is, we'd like to prefer expansions that give us _more_ nonterminals to expand.  This is actually the exact opposite of what `expand_node_min_cost()` gives us, and we can implement a method `expand_node_max_cost()` that will always choose among the nodes with the _highest_ cost:"
   ]
  },
  {
   "cell_type": "code",
   "execution_count": 66,
   "metadata": {
    "button": false,
    "new_sheet": false,
    "run_control": {
     "read_only": false
    },
    "slideshow": {
     "slide_type": "fragment"
    }
   },
   "outputs": [],
   "source": [
    "class GrammarFuzzer(GrammarFuzzer):\n",
    "    def expand_node_max_cost(self, node):\n",
    "        if self.log:\n",
    "            print(\"Expanding\", all_terminals(node), \"at maximum cost\")\n",
    "\n",
    "        return self.expand_node_by_cost(node, max)"
   ]
  },
  {
   "cell_type": "markdown",
   "metadata": {
    "slideshow": {
     "slide_type": "subslide"
    }
   },
   "source": [
    "To illustrate `expand_node_max_cost()`, we can again redefine `expand_node()` to use it, and then use `expand_tree_once()` to show a few expansion steps:"
   ]
  },
  {
   "cell_type": "code",
   "execution_count": 67,
   "metadata": {
    "button": false,
    "new_sheet": false,
    "run_control": {
     "read_only": false
    },
    "slideshow": {
     "slide_type": "fragment"
    }
   },
   "outputs": [],
   "source": [
    "class GrammarFuzzer(GrammarFuzzer):\n",
    "    def expand_node(self, node):\n",
    "        return self.expand_node_max_cost(node)"
   ]
  },
  {
   "cell_type": "code",
   "execution_count": 68,
   "metadata": {
    "button": false,
    "new_sheet": false,
    "run_control": {
     "read_only": false
    },
    "slideshow": {
     "slide_type": "subslide"
    }
   },
   "outputs": [],
   "source": [
    "derivation_tree = (\"<start>\",\n",
    "                   [(\"<expr>\",\n",
    "                     [(\"<expr>\", None),\n",
    "                      (\" + \", []),\n",
    "                         (\"<term>\", None)]\n",
    "                     )])"
   ]
  },
  {
   "cell_type": "code",
   "execution_count": 69,
   "metadata": {
    "button": false,
    "new_sheet": false,
    "run_control": {
     "read_only": false
    },
    "slideshow": {
     "slide_type": "fragment"
    }
   },
   "outputs": [
    {
     "data": {
      "image/svg+xml": [
       "<?xml version=\"1.0\" encoding=\"UTF-8\" standalone=\"no\"?>\n",
       "<!DOCTYPE svg PUBLIC \"-//W3C//DTD SVG 1.1//EN\"\n",
       " \"http://www.w3.org/Graphics/SVG/1.1/DTD/svg11.dtd\">\n",
       "<!-- Generated by graphviz version 2.40.1 (20161225.0304)\n",
       " -->\n",
       "<!-- Title: %3 Pages: 1 -->\n",
       "<svg width=\"143pt\" height=\"125pt\"\n",
       " viewBox=\"0.00 0.00 142.50 125.00\" xmlns=\"http://www.w3.org/2000/svg\" xmlns:xlink=\"http://www.w3.org/1999/xlink\">\n",
       "<g id=\"graph0\" class=\"graph\" transform=\"scale(1 1) rotate(0) translate(4 121)\">\n",
       "<title>%3</title>\n",
       "<polygon fill=\"#ffffff\" stroke=\"transparent\" points=\"-4,4 -4,-121 138.5,-121 138.5,4 -4,4\"/>\n",
       "<!-- 0 -->\n",
       "<g id=\"node1\" class=\"node\">\n",
       "<title>0</title>\n",
       "<text text-anchor=\"middle\" x=\"66.5\" y=\"-105.8\" font-family=\"Times,serif\" font-size=\"14.00\" fill=\"#000000\">&lt;start&gt;</text>\n",
       "</g>\n",
       "<!-- 1 -->\n",
       "<g id=\"node2\" class=\"node\">\n",
       "<title>1</title>\n",
       "<text text-anchor=\"middle\" x=\"66.5\" y=\"-54.8\" font-family=\"Times,serif\" font-size=\"14.00\" fill=\"#000000\">&lt;expr&gt;</text>\n",
       "</g>\n",
       "<!-- 0&#45;&gt;1 -->\n",
       "<g id=\"edge1\" class=\"edge\">\n",
       "<title>0&#45;&gt;1</title>\n",
       "<path fill=\"none\" stroke=\"#000000\" d=\"M66.5,-101.9748C66.5,-95.195 66.5,-84.966 66.5,-76.1331\"/>\n",
       "<polygon fill=\"#000000\" stroke=\"#000000\" points=\"70.0001,-76.0561 66.5,-66.0561 63.0001,-76.0561 70.0001,-76.0561\"/>\n",
       "</g>\n",
       "<!-- 2 -->\n",
       "<g id=\"node3\" class=\"node\">\n",
       "<title>2</title>\n",
       "<text text-anchor=\"middle\" x=\"20.5\" y=\"-3.8\" font-family=\"Times,serif\" font-size=\"14.00\" fill=\"#000000\">&lt;expr&gt;</text>\n",
       "</g>\n",
       "<!-- 1&#45;&gt;2 -->\n",
       "<g id=\"edge2\" class=\"edge\">\n",
       "<title>1&#45;&gt;2</title>\n",
       "<path fill=\"none\" stroke=\"#000000\" d=\"M59.7125,-50.9748C52.9859,-43.517 42.495,-31.8857 34.0564,-22.53\"/>\n",
       "<polygon fill=\"#000000\" stroke=\"#000000\" points=\"36.612,-20.1376 27.3153,-15.0561 31.414,-24.826 36.612,-20.1376\"/>\n",
       "</g>\n",
       "<!-- 3 -->\n",
       "<g id=\"node4\" class=\"node\">\n",
       "<title>3</title>\n",
       "<text text-anchor=\"middle\" x=\"66.5\" y=\"-3.8\" font-family=\"Times,serif\" font-size=\"14.00\" fill=\"#000000\"> + </text>\n",
       "</g>\n",
       "<!-- 1&#45;&gt;3 -->\n",
       "<g id=\"edge3\" class=\"edge\">\n",
       "<title>1&#45;&gt;3</title>\n",
       "<path fill=\"none\" stroke=\"#000000\" d=\"M66.5,-50.9748C66.5,-44.195 66.5,-33.966 66.5,-25.1331\"/>\n",
       "<polygon fill=\"#000000\" stroke=\"#000000\" points=\"70.0001,-25.0561 66.5,-15.0561 63.0001,-25.0561 70.0001,-25.0561\"/>\n",
       "</g>\n",
       "<!-- 4 -->\n",
       "<g id=\"node5\" class=\"node\">\n",
       "<title>4</title>\n",
       "<text text-anchor=\"middle\" x=\"113.5\" y=\"-3.8\" font-family=\"Times,serif\" font-size=\"14.00\" fill=\"#000000\">&lt;term&gt;</text>\n",
       "</g>\n",
       "<!-- 1&#45;&gt;4 -->\n",
       "<g id=\"edge4\" class=\"edge\">\n",
       "<title>1&#45;&gt;4</title>\n",
       "<path fill=\"none\" stroke=\"#000000\" d=\"M73.435,-50.9748C80.3079,-43.517 91.0269,-31.8857 99.6488,-22.53\"/>\n",
       "<polygon fill=\"#000000\" stroke=\"#000000\" points=\"102.3334,-24.7816 106.5365,-15.0561 97.1859,-20.0378 102.3334,-24.7816\"/>\n",
       "</g>\n",
       "</g>\n",
       "</svg>\n"
      ],
      "text/plain": [
       "<graphviz.dot.Digraph at 0x11fc662b0>"
      ]
     },
     "metadata": {},
     "output_type": "display_data"
    }
   ],
   "source": [
    "f = GrammarFuzzer(EXPR_GRAMMAR, log=True)\n",
    "display_tree(derivation_tree)"
   ]
  },
  {
   "cell_type": "code",
   "execution_count": 70,
   "metadata": {
    "button": false,
    "new_sheet": false,
    "run_control": {
     "read_only": false
    },
    "slideshow": {
     "slide_type": "subslide"
    }
   },
   "outputs": [
    {
     "name": "stdout",
     "output_type": "stream",
     "text": [
      "Expanding <term> at maximum cost\n"
     ]
    },
    {
     "data": {
      "image/svg+xml": [
       "<?xml version=\"1.0\" encoding=\"UTF-8\" standalone=\"no\"?>\n",
       "<!DOCTYPE svg PUBLIC \"-//W3C//DTD SVG 1.1//EN\"\n",
       " \"http://www.w3.org/Graphics/SVG/1.1/DTD/svg11.dtd\">\n",
       "<!-- Generated by graphviz version 2.40.1 (20161225.0304)\n",
       " -->\n",
       "<!-- Title: %3 Pages: 1 -->\n",
       "<svg width=\"190pt\" height=\"176pt\"\n",
       " viewBox=\"0.00 0.00 189.50 176.00\" xmlns=\"http://www.w3.org/2000/svg\" xmlns:xlink=\"http://www.w3.org/1999/xlink\">\n",
       "<g id=\"graph0\" class=\"graph\" transform=\"scale(1 1) rotate(0) translate(4 172)\">\n",
       "<title>%3</title>\n",
       "<polygon fill=\"#ffffff\" stroke=\"transparent\" points=\"-4,4 -4,-172 185.5,-172 185.5,4 -4,4\"/>\n",
       "<!-- 0 -->\n",
       "<g id=\"node1\" class=\"node\">\n",
       "<title>0</title>\n",
       "<text text-anchor=\"middle\" x=\"66.5\" y=\"-156.8\" font-family=\"Times,serif\" font-size=\"14.00\" fill=\"#000000\">&lt;start&gt;</text>\n",
       "</g>\n",
       "<!-- 1 -->\n",
       "<g id=\"node2\" class=\"node\">\n",
       "<title>1</title>\n",
       "<text text-anchor=\"middle\" x=\"66.5\" y=\"-105.8\" font-family=\"Times,serif\" font-size=\"14.00\" fill=\"#000000\">&lt;expr&gt;</text>\n",
       "</g>\n",
       "<!-- 0&#45;&gt;1 -->\n",
       "<g id=\"edge1\" class=\"edge\">\n",
       "<title>0&#45;&gt;1</title>\n",
       "<path fill=\"none\" stroke=\"#000000\" d=\"M66.5,-152.9748C66.5,-146.195 66.5,-135.966 66.5,-127.1331\"/>\n",
       "<polygon fill=\"#000000\" stroke=\"#000000\" points=\"70.0001,-127.0561 66.5,-117.0561 63.0001,-127.0561 70.0001,-127.0561\"/>\n",
       "</g>\n",
       "<!-- 2 -->\n",
       "<g id=\"node3\" class=\"node\">\n",
       "<title>2</title>\n",
       "<text text-anchor=\"middle\" x=\"20.5\" y=\"-54.8\" font-family=\"Times,serif\" font-size=\"14.00\" fill=\"#000000\">&lt;expr&gt;</text>\n",
       "</g>\n",
       "<!-- 1&#45;&gt;2 -->\n",
       "<g id=\"edge2\" class=\"edge\">\n",
       "<title>1&#45;&gt;2</title>\n",
       "<path fill=\"none\" stroke=\"#000000\" d=\"M59.7125,-101.9748C52.9859,-94.517 42.495,-82.8857 34.0564,-73.53\"/>\n",
       "<polygon fill=\"#000000\" stroke=\"#000000\" points=\"36.612,-71.1376 27.3153,-66.0561 31.414,-75.826 36.612,-71.1376\"/>\n",
       "</g>\n",
       "<!-- 3 -->\n",
       "<g id=\"node4\" class=\"node\">\n",
       "<title>3</title>\n",
       "<text text-anchor=\"middle\" x=\"66.5\" y=\"-54.8\" font-family=\"Times,serif\" font-size=\"14.00\" fill=\"#000000\"> + </text>\n",
       "</g>\n",
       "<!-- 1&#45;&gt;3 -->\n",
       "<g id=\"edge3\" class=\"edge\">\n",
       "<title>1&#45;&gt;3</title>\n",
       "<path fill=\"none\" stroke=\"#000000\" d=\"M66.5,-101.9748C66.5,-95.195 66.5,-84.966 66.5,-76.1331\"/>\n",
       "<polygon fill=\"#000000\" stroke=\"#000000\" points=\"70.0001,-76.0561 66.5,-66.0561 63.0001,-76.0561 70.0001,-76.0561\"/>\n",
       "</g>\n",
       "<!-- 4 -->\n",
       "<g id=\"node5\" class=\"node\">\n",
       "<title>4</title>\n",
       "<text text-anchor=\"middle\" x=\"113.5\" y=\"-54.8\" font-family=\"Times,serif\" font-size=\"14.00\" fill=\"#000000\">&lt;term&gt;</text>\n",
       "</g>\n",
       "<!-- 1&#45;&gt;4 -->\n",
       "<g id=\"edge4\" class=\"edge\">\n",
       "<title>1&#45;&gt;4</title>\n",
       "<path fill=\"none\" stroke=\"#000000\" d=\"M73.435,-101.9748C80.3079,-94.517 91.0269,-82.8857 99.6488,-73.53\"/>\n",
       "<polygon fill=\"#000000\" stroke=\"#000000\" points=\"102.3334,-75.7816 106.5365,-66.0561 97.1859,-71.0378 102.3334,-75.7816\"/>\n",
       "</g>\n",
       "<!-- 5 -->\n",
       "<g id=\"node6\" class=\"node\">\n",
       "<title>5</title>\n",
       "<text text-anchor=\"middle\" x=\"63.5\" y=\"-3.8\" font-family=\"Times,serif\" font-size=\"14.00\" fill=\"#000000\">&lt;factor&gt;</text>\n",
       "</g>\n",
       "<!-- 4&#45;&gt;5 -->\n",
       "<g id=\"edge5\" class=\"edge\">\n",
       "<title>4&#45;&gt;5</title>\n",
       "<path fill=\"none\" stroke=\"#000000\" d=\"M106.1223,-50.9748C98.7369,-43.4417 87.1768,-31.6503 77.958,-22.2472\"/>\n",
       "<polygon fill=\"#000000\" stroke=\"#000000\" points=\"80.4079,-19.7466 70.9079,-15.0561 75.4094,-24.6471 80.4079,-19.7466\"/>\n",
       "</g>\n",
       "<!-- 6 -->\n",
       "<g id=\"node7\" class=\"node\">\n",
       "<title>6</title>\n",
       "<text text-anchor=\"middle\" x=\"113.5\" y=\"-3.8\" font-family=\"Times,serif\" font-size=\"14.00\" fill=\"#000000\"> * </text>\n",
       "</g>\n",
       "<!-- 4&#45;&gt;6 -->\n",
       "<g id=\"edge6\" class=\"edge\">\n",
       "<title>4&#45;&gt;6</title>\n",
       "<path fill=\"none\" stroke=\"#000000\" d=\"M113.5,-50.9748C113.5,-44.195 113.5,-33.966 113.5,-25.1331\"/>\n",
       "<polygon fill=\"#000000\" stroke=\"#000000\" points=\"117.0001,-25.0561 113.5,-15.0561 110.0001,-25.0561 117.0001,-25.0561\"/>\n",
       "</g>\n",
       "<!-- 7 -->\n",
       "<g id=\"node8\" class=\"node\">\n",
       "<title>7</title>\n",
       "<text text-anchor=\"middle\" x=\"160.5\" y=\"-3.8\" font-family=\"Times,serif\" font-size=\"14.00\" fill=\"#000000\">&lt;term&gt;</text>\n",
       "</g>\n",
       "<!-- 4&#45;&gt;7 -->\n",
       "<g id=\"edge7\" class=\"edge\">\n",
       "<title>4&#45;&gt;7</title>\n",
       "<path fill=\"none\" stroke=\"#000000\" d=\"M120.435,-50.9748C127.3079,-43.517 138.0269,-31.8857 146.6488,-22.53\"/>\n",
       "<polygon fill=\"#000000\" stroke=\"#000000\" points=\"149.3334,-24.7816 153.5365,-15.0561 144.1859,-20.0378 149.3334,-24.7816\"/>\n",
       "</g>\n",
       "</g>\n",
       "</svg>\n"
      ],
      "text/plain": [
       "<graphviz.dot.Digraph at 0x11fc5bc18>"
      ]
     },
     "metadata": {},
     "output_type": "display_data"
    }
   ],
   "source": [
    "if f.any_possible_expansions(derivation_tree):\n",
    "    derivation_tree = f.expand_tree_once(derivation_tree)\n",
    "    display_tree(derivation_tree)"
   ]
  },
  {
   "cell_type": "code",
   "execution_count": 71,
   "metadata": {
    "button": false,
    "new_sheet": false,
    "run_control": {
     "read_only": false
    },
    "slideshow": {
     "slide_type": "subslide"
    }
   },
   "outputs": [
    {
     "name": "stdout",
     "output_type": "stream",
     "text": [
      "Expanding <term> at maximum cost\n"
     ]
    },
    {
     "data": {
      "image/svg+xml": [
       "<?xml version=\"1.0\" encoding=\"UTF-8\" standalone=\"no\"?>\n",
       "<!DOCTYPE svg PUBLIC \"-//W3C//DTD SVG 1.1//EN\"\n",
       " \"http://www.w3.org/Graphics/SVG/1.1/DTD/svg11.dtd\">\n",
       "<!-- Generated by graphviz version 2.40.1 (20161225.0304)\n",
       " -->\n",
       "<!-- Title: %3 Pages: 1 -->\n",
       "<svg width=\"237pt\" height=\"227pt\"\n",
       " viewBox=\"0.00 0.00 236.50 227.00\" xmlns=\"http://www.w3.org/2000/svg\" xmlns:xlink=\"http://www.w3.org/1999/xlink\">\n",
       "<g id=\"graph0\" class=\"graph\" transform=\"scale(1 1) rotate(0) translate(4 223)\">\n",
       "<title>%3</title>\n",
       "<polygon fill=\"#ffffff\" stroke=\"transparent\" points=\"-4,4 -4,-223 232.5,-223 232.5,4 -4,4\"/>\n",
       "<!-- 0 -->\n",
       "<g id=\"node1\" class=\"node\">\n",
       "<title>0</title>\n",
       "<text text-anchor=\"middle\" x=\"66.5\" y=\"-207.8\" font-family=\"Times,serif\" font-size=\"14.00\" fill=\"#000000\">&lt;start&gt;</text>\n",
       "</g>\n",
       "<!-- 1 -->\n",
       "<g id=\"node2\" class=\"node\">\n",
       "<title>1</title>\n",
       "<text text-anchor=\"middle\" x=\"66.5\" y=\"-156.8\" font-family=\"Times,serif\" font-size=\"14.00\" fill=\"#000000\">&lt;expr&gt;</text>\n",
       "</g>\n",
       "<!-- 0&#45;&gt;1 -->\n",
       "<g id=\"edge1\" class=\"edge\">\n",
       "<title>0&#45;&gt;1</title>\n",
       "<path fill=\"none\" stroke=\"#000000\" d=\"M66.5,-203.9748C66.5,-197.195 66.5,-186.966 66.5,-178.1331\"/>\n",
       "<polygon fill=\"#000000\" stroke=\"#000000\" points=\"70.0001,-178.0561 66.5,-168.0561 63.0001,-178.0561 70.0001,-178.0561\"/>\n",
       "</g>\n",
       "<!-- 2 -->\n",
       "<g id=\"node3\" class=\"node\">\n",
       "<title>2</title>\n",
       "<text text-anchor=\"middle\" x=\"20.5\" y=\"-105.8\" font-family=\"Times,serif\" font-size=\"14.00\" fill=\"#000000\">&lt;expr&gt;</text>\n",
       "</g>\n",
       "<!-- 1&#45;&gt;2 -->\n",
       "<g id=\"edge2\" class=\"edge\">\n",
       "<title>1&#45;&gt;2</title>\n",
       "<path fill=\"none\" stroke=\"#000000\" d=\"M59.7125,-152.9748C52.9859,-145.517 42.495,-133.8857 34.0564,-124.53\"/>\n",
       "<polygon fill=\"#000000\" stroke=\"#000000\" points=\"36.612,-122.1376 27.3153,-117.0561 31.414,-126.826 36.612,-122.1376\"/>\n",
       "</g>\n",
       "<!-- 3 -->\n",
       "<g id=\"node4\" class=\"node\">\n",
       "<title>3</title>\n",
       "<text text-anchor=\"middle\" x=\"66.5\" y=\"-105.8\" font-family=\"Times,serif\" font-size=\"14.00\" fill=\"#000000\"> + </text>\n",
       "</g>\n",
       "<!-- 1&#45;&gt;3 -->\n",
       "<g id=\"edge3\" class=\"edge\">\n",
       "<title>1&#45;&gt;3</title>\n",
       "<path fill=\"none\" stroke=\"#000000\" d=\"M66.5,-152.9748C66.5,-146.195 66.5,-135.966 66.5,-127.1331\"/>\n",
       "<polygon fill=\"#000000\" stroke=\"#000000\" points=\"70.0001,-127.0561 66.5,-117.0561 63.0001,-127.0561 70.0001,-127.0561\"/>\n",
       "</g>\n",
       "<!-- 4 -->\n",
       "<g id=\"node5\" class=\"node\">\n",
       "<title>4</title>\n",
       "<text text-anchor=\"middle\" x=\"113.5\" y=\"-105.8\" font-family=\"Times,serif\" font-size=\"14.00\" fill=\"#000000\">&lt;term&gt;</text>\n",
       "</g>\n",
       "<!-- 1&#45;&gt;4 -->\n",
       "<g id=\"edge4\" class=\"edge\">\n",
       "<title>1&#45;&gt;4</title>\n",
       "<path fill=\"none\" stroke=\"#000000\" d=\"M73.435,-152.9748C80.3079,-145.517 91.0269,-133.8857 99.6488,-124.53\"/>\n",
       "<polygon fill=\"#000000\" stroke=\"#000000\" points=\"102.3334,-126.7816 106.5365,-117.0561 97.1859,-122.0378 102.3334,-126.7816\"/>\n",
       "</g>\n",
       "<!-- 5 -->\n",
       "<g id=\"node6\" class=\"node\">\n",
       "<title>5</title>\n",
       "<text text-anchor=\"middle\" x=\"63.5\" y=\"-54.8\" font-family=\"Times,serif\" font-size=\"14.00\" fill=\"#000000\">&lt;factor&gt;</text>\n",
       "</g>\n",
       "<!-- 4&#45;&gt;5 -->\n",
       "<g id=\"edge5\" class=\"edge\">\n",
       "<title>4&#45;&gt;5</title>\n",
       "<path fill=\"none\" stroke=\"#000000\" d=\"M106.1223,-101.9748C98.7369,-94.4417 87.1768,-82.6503 77.958,-73.2472\"/>\n",
       "<polygon fill=\"#000000\" stroke=\"#000000\" points=\"80.4079,-70.7466 70.9079,-66.0561 75.4094,-75.6471 80.4079,-70.7466\"/>\n",
       "</g>\n",
       "<!-- 6 -->\n",
       "<g id=\"node7\" class=\"node\">\n",
       "<title>6</title>\n",
       "<text text-anchor=\"middle\" x=\"113.5\" y=\"-54.8\" font-family=\"Times,serif\" font-size=\"14.00\" fill=\"#000000\"> * </text>\n",
       "</g>\n",
       "<!-- 4&#45;&gt;6 -->\n",
       "<g id=\"edge6\" class=\"edge\">\n",
       "<title>4&#45;&gt;6</title>\n",
       "<path fill=\"none\" stroke=\"#000000\" d=\"M113.5,-101.9748C113.5,-95.195 113.5,-84.966 113.5,-76.1331\"/>\n",
       "<polygon fill=\"#000000\" stroke=\"#000000\" points=\"117.0001,-76.0561 113.5,-66.0561 110.0001,-76.0561 117.0001,-76.0561\"/>\n",
       "</g>\n",
       "<!-- 7 -->\n",
       "<g id=\"node8\" class=\"node\">\n",
       "<title>7</title>\n",
       "<text text-anchor=\"middle\" x=\"160.5\" y=\"-54.8\" font-family=\"Times,serif\" font-size=\"14.00\" fill=\"#000000\">&lt;term&gt;</text>\n",
       "</g>\n",
       "<!-- 4&#45;&gt;7 -->\n",
       "<g id=\"edge7\" class=\"edge\">\n",
       "<title>4&#45;&gt;7</title>\n",
       "<path fill=\"none\" stroke=\"#000000\" d=\"M120.435,-101.9748C127.3079,-94.517 138.0269,-82.8857 146.6488,-73.53\"/>\n",
       "<polygon fill=\"#000000\" stroke=\"#000000\" points=\"149.3334,-75.7816 153.5365,-66.0561 144.1859,-71.0378 149.3334,-75.7816\"/>\n",
       "</g>\n",
       "<!-- 8 -->\n",
       "<g id=\"node9\" class=\"node\">\n",
       "<title>8</title>\n",
       "<text text-anchor=\"middle\" x=\"110.5\" y=\"-3.8\" font-family=\"Times,serif\" font-size=\"14.00\" fill=\"#000000\">&lt;factor&gt;</text>\n",
       "</g>\n",
       "<!-- 7&#45;&gt;8 -->\n",
       "<g id=\"edge8\" class=\"edge\">\n",
       "<title>7&#45;&gt;8</title>\n",
       "<path fill=\"none\" stroke=\"#000000\" d=\"M153.1223,-50.9748C145.7369,-43.4417 134.1768,-31.6503 124.958,-22.2472\"/>\n",
       "<polygon fill=\"#000000\" stroke=\"#000000\" points=\"127.4079,-19.7466 117.9079,-15.0561 122.4094,-24.6471 127.4079,-19.7466\"/>\n",
       "</g>\n",
       "<!-- 9 -->\n",
       "<g id=\"node10\" class=\"node\">\n",
       "<title>9</title>\n",
       "<text text-anchor=\"middle\" x=\"160.5\" y=\"-3.8\" font-family=\"Times,serif\" font-size=\"14.00\" fill=\"#000000\"> * </text>\n",
       "</g>\n",
       "<!-- 7&#45;&gt;9 -->\n",
       "<g id=\"edge9\" class=\"edge\">\n",
       "<title>7&#45;&gt;9</title>\n",
       "<path fill=\"none\" stroke=\"#000000\" d=\"M160.5,-50.9748C160.5,-44.195 160.5,-33.966 160.5,-25.1331\"/>\n",
       "<polygon fill=\"#000000\" stroke=\"#000000\" points=\"164.0001,-25.0561 160.5,-15.0561 157.0001,-25.0561 164.0001,-25.0561\"/>\n",
       "</g>\n",
       "<!-- 10 -->\n",
       "<g id=\"node11\" class=\"node\">\n",
       "<title>10</title>\n",
       "<text text-anchor=\"middle\" x=\"207.5\" y=\"-3.8\" font-family=\"Times,serif\" font-size=\"14.00\" fill=\"#000000\">&lt;term&gt;</text>\n",
       "</g>\n",
       "<!-- 7&#45;&gt;10 -->\n",
       "<g id=\"edge10\" class=\"edge\">\n",
       "<title>7&#45;&gt;10</title>\n",
       "<path fill=\"none\" stroke=\"#000000\" d=\"M167.435,-50.9748C174.3079,-43.517 185.0269,-31.8857 193.6488,-22.53\"/>\n",
       "<polygon fill=\"#000000\" stroke=\"#000000\" points=\"196.3334,-24.7816 200.5365,-15.0561 191.1859,-20.0378 196.3334,-24.7816\"/>\n",
       "</g>\n",
       "</g>\n",
       "</svg>\n"
      ],
      "text/plain": [
       "<graphviz.dot.Digraph at 0x11fc6a710>"
      ]
     },
     "metadata": {},
     "output_type": "display_data"
    }
   ],
   "source": [
    "if f.any_possible_expansions(derivation_tree):\n",
    "    derivation_tree = f.expand_tree_once(derivation_tree)\n",
    "    display_tree(derivation_tree)"
   ]
  },
  {
   "cell_type": "code",
   "execution_count": 72,
   "metadata": {
    "button": false,
    "new_sheet": false,
    "run_control": {
     "read_only": false
    },
    "slideshow": {
     "slide_type": "subslide"
    }
   },
   "outputs": [
    {
     "name": "stdout",
     "output_type": "stream",
     "text": [
      "Expanding <expr> at maximum cost\n"
     ]
    },
    {
     "data": {
      "image/svg+xml": [
       "<?xml version=\"1.0\" encoding=\"UTF-8\" standalone=\"no\"?>\n",
       "<!DOCTYPE svg PUBLIC \"-//W3C//DTD SVG 1.1//EN\"\n",
       " \"http://www.w3.org/Graphics/SVG/1.1/DTD/svg11.dtd\">\n",
       "<!-- Generated by graphviz version 2.40.1 (20161225.0304)\n",
       " -->\n",
       "<!-- Title: %3 Pages: 1 -->\n",
       "<svg width=\"347pt\" height=\"227pt\"\n",
       " viewBox=\"0.00 0.00 347.00 227.00\" xmlns=\"http://www.w3.org/2000/svg\" xmlns:xlink=\"http://www.w3.org/1999/xlink\">\n",
       "<g id=\"graph0\" class=\"graph\" transform=\"scale(1 1) rotate(0) translate(4 223)\">\n",
       "<title>%3</title>\n",
       "<polygon fill=\"#ffffff\" stroke=\"transparent\" points=\"-4,4 -4,-223 343,-223 343,4 -4,4\"/>\n",
       "<!-- 0 -->\n",
       "<g id=\"node1\" class=\"node\">\n",
       "<title>0</title>\n",
       "<text text-anchor=\"middle\" x=\"143\" y=\"-207.8\" font-family=\"Times,serif\" font-size=\"14.00\" fill=\"#000000\">&lt;start&gt;</text>\n",
       "</g>\n",
       "<!-- 1 -->\n",
       "<g id=\"node2\" class=\"node\">\n",
       "<title>1</title>\n",
       "<text text-anchor=\"middle\" x=\"143\" y=\"-156.8\" font-family=\"Times,serif\" font-size=\"14.00\" fill=\"#000000\">&lt;expr&gt;</text>\n",
       "</g>\n",
       "<!-- 0&#45;&gt;1 -->\n",
       "<g id=\"edge1\" class=\"edge\">\n",
       "<title>0&#45;&gt;1</title>\n",
       "<path fill=\"none\" stroke=\"#000000\" d=\"M143,-203.9748C143,-197.195 143,-186.966 143,-178.1331\"/>\n",
       "<polygon fill=\"#000000\" stroke=\"#000000\" points=\"146.5001,-178.0561 143,-168.0561 139.5001,-178.0561 146.5001,-178.0561\"/>\n",
       "</g>\n",
       "<!-- 2 -->\n",
       "<g id=\"node3\" class=\"node\">\n",
       "<title>2</title>\n",
       "<text text-anchor=\"middle\" x=\"90\" y=\"-105.8\" font-family=\"Times,serif\" font-size=\"14.00\" fill=\"#000000\">&lt;expr&gt;</text>\n",
       "</g>\n",
       "<!-- 1&#45;&gt;2 -->\n",
       "<g id=\"edge2\" class=\"edge\">\n",
       "<title>1&#45;&gt;2</title>\n",
       "<path fill=\"none\" stroke=\"#000000\" d=\"M135.1797,-152.9748C127.3511,-145.4417 115.0974,-133.6503 105.3255,-124.2472\"/>\n",
       "<polygon fill=\"#000000\" stroke=\"#000000\" points=\"107.485,-121.4679 97.8524,-117.0561 102.6313,-126.5119 107.485,-121.4679\"/>\n",
       "</g>\n",
       "<!-- 6 -->\n",
       "<g id=\"node7\" class=\"node\">\n",
       "<title>6</title>\n",
       "<text text-anchor=\"middle\" x=\"143\" y=\"-105.8\" font-family=\"Times,serif\" font-size=\"14.00\" fill=\"#000000\"> + </text>\n",
       "</g>\n",
       "<!-- 1&#45;&gt;6 -->\n",
       "<g id=\"edge6\" class=\"edge\">\n",
       "<title>1&#45;&gt;6</title>\n",
       "<path fill=\"none\" stroke=\"#000000\" d=\"M143,-152.9748C143,-146.195 143,-135.966 143,-127.1331\"/>\n",
       "<polygon fill=\"#000000\" stroke=\"#000000\" points=\"146.5001,-127.0561 143,-117.0561 139.5001,-127.0561 146.5001,-127.0561\"/>\n",
       "</g>\n",
       "<!-- 7 -->\n",
       "<g id=\"node8\" class=\"node\">\n",
       "<title>7</title>\n",
       "<text text-anchor=\"middle\" x=\"194\" y=\"-105.8\" font-family=\"Times,serif\" font-size=\"14.00\" fill=\"#000000\">&lt;term&gt;</text>\n",
       "</g>\n",
       "<!-- 1&#45;&gt;7 -->\n",
       "<g id=\"edge7\" class=\"edge\">\n",
       "<title>1&#45;&gt;7</title>\n",
       "<path fill=\"none\" stroke=\"#000000\" d=\"M150.5252,-152.9748C158.0583,-145.4417 169.8497,-133.6503 179.2528,-124.2472\"/>\n",
       "<polygon fill=\"#000000\" stroke=\"#000000\" points=\"181.8477,-126.6021 186.4439,-117.0561 176.8979,-121.6523 181.8477,-126.6021\"/>\n",
       "</g>\n",
       "<!-- 3 -->\n",
       "<g id=\"node4\" class=\"node\">\n",
       "<title>3</title>\n",
       "<text text-anchor=\"middle\" x=\"21\" y=\"-54.8\" font-family=\"Times,serif\" font-size=\"14.00\" fill=\"#000000\">&lt;term&gt;</text>\n",
       "</g>\n",
       "<!-- 2&#45;&gt;3 -->\n",
       "<g id=\"edge3\" class=\"edge\">\n",
       "<title>2&#45;&gt;3</title>\n",
       "<path fill=\"none\" stroke=\"#000000\" d=\"M79.8188,-101.9748C69.2193,-94.1403 52.3885,-81.7002 39.4415,-72.1307\"/>\n",
       "<polygon fill=\"#000000\" stroke=\"#000000\" points=\"41.3451,-69.1854 31.223,-66.0561 37.1844,-74.8147 41.3451,-69.1854\"/>\n",
       "</g>\n",
       "<!-- 4 -->\n",
       "<g id=\"node5\" class=\"node\">\n",
       "<title>4</title>\n",
       "<text text-anchor=\"middle\" x=\"66\" y=\"-54.8\" font-family=\"Times,serif\" font-size=\"14.00\" fill=\"#000000\"> &#45; </text>\n",
       "</g>\n",
       "<!-- 2&#45;&gt;4 -->\n",
       "<g id=\"edge4\" class=\"edge\">\n",
       "<title>2&#45;&gt;4</title>\n",
       "<path fill=\"none\" stroke=\"#000000\" d=\"M86.4587,-101.9748C83.1619,-94.969 78.1319,-84.2803 73.8845,-75.2547\"/>\n",
       "<polygon fill=\"#000000\" stroke=\"#000000\" points=\"76.9807,-73.614 69.5558,-66.0561 70.647,-76.5946 76.9807,-73.614\"/>\n",
       "</g>\n",
       "<!-- 5 -->\n",
       "<g id=\"node6\" class=\"node\">\n",
       "<title>5</title>\n",
       "<text text-anchor=\"middle\" x=\"111\" y=\"-54.8\" font-family=\"Times,serif\" font-size=\"14.00\" fill=\"#000000\">&lt;expr&gt;</text>\n",
       "</g>\n",
       "<!-- 2&#45;&gt;5 -->\n",
       "<g id=\"edge5\" class=\"edge\">\n",
       "<title>2&#45;&gt;5</title>\n",
       "<path fill=\"none\" stroke=\"#000000\" d=\"M93.0986,-101.9748C95.9523,-95.0443 100.2901,-84.5097 103.9809,-75.5464\"/>\n",
       "<polygon fill=\"#000000\" stroke=\"#000000\" points=\"107.3175,-76.6355 107.8887,-66.0561 100.8447,-73.9702 107.3175,-76.6355\"/>\n",
       "</g>\n",
       "<!-- 8 -->\n",
       "<g id=\"node9\" class=\"node\">\n",
       "<title>8</title>\n",
       "<text text-anchor=\"middle\" x=\"174\" y=\"-54.8\" font-family=\"Times,serif\" font-size=\"14.00\" fill=\"#000000\">&lt;factor&gt;</text>\n",
       "</g>\n",
       "<!-- 7&#45;&gt;8 -->\n",
       "<g id=\"edge8\" class=\"edge\">\n",
       "<title>7&#45;&gt;8</title>\n",
       "<path fill=\"none\" stroke=\"#000000\" d=\"M191.0489,-101.9748C188.3311,-95.0443 184.1999,-84.5097 180.6849,-75.5464\"/>\n",
       "<polygon fill=\"#000000\" stroke=\"#000000\" points=\"183.8725,-74.088 176.9632,-66.0561 177.3557,-76.6437 183.8725,-74.088\"/>\n",
       "</g>\n",
       "<!-- 9 -->\n",
       "<g id=\"node10\" class=\"node\">\n",
       "<title>9</title>\n",
       "<text text-anchor=\"middle\" x=\"224\" y=\"-54.8\" font-family=\"Times,serif\" font-size=\"14.00\" fill=\"#000000\"> * </text>\n",
       "</g>\n",
       "<!-- 7&#45;&gt;9 -->\n",
       "<g id=\"edge9\" class=\"edge\">\n",
       "<title>7&#45;&gt;9</title>\n",
       "<path fill=\"none\" stroke=\"#000000\" d=\"M198.4266,-101.9748C202.592,-94.8936 208.9706,-84.05 214.3152,-74.9641\"/>\n",
       "<polygon fill=\"#000000\" stroke=\"#000000\" points=\"217.5018,-76.45 219.5552,-66.0561 211.4682,-72.9009 217.5018,-76.45\"/>\n",
       "</g>\n",
       "<!-- 10 -->\n",
       "<g id=\"node11\" class=\"node\">\n",
       "<title>10</title>\n",
       "<text text-anchor=\"middle\" x=\"271\" y=\"-54.8\" font-family=\"Times,serif\" font-size=\"14.00\" fill=\"#000000\">&lt;term&gt;</text>\n",
       "</g>\n",
       "<!-- 7&#45;&gt;10 -->\n",
       "<g id=\"edge10\" class=\"edge\">\n",
       "<title>7&#45;&gt;10</title>\n",
       "<path fill=\"none\" stroke=\"#000000\" d=\"M205.3616,-101.9748C217.4176,-93.9897 236.6972,-81.22 251.249,-71.5818\"/>\n",
       "<polygon fill=\"#000000\" stroke=\"#000000\" points=\"253.1873,-74.4961 259.5918,-66.0561 249.3219,-68.6601 253.1873,-74.4961\"/>\n",
       "</g>\n",
       "<!-- 11 -->\n",
       "<g id=\"node12\" class=\"node\">\n",
       "<title>11</title>\n",
       "<text text-anchor=\"middle\" x=\"221\" y=\"-3.8\" font-family=\"Times,serif\" font-size=\"14.00\" fill=\"#000000\">&lt;factor&gt;</text>\n",
       "</g>\n",
       "<!-- 10&#45;&gt;11 -->\n",
       "<g id=\"edge11\" class=\"edge\">\n",
       "<title>10&#45;&gt;11</title>\n",
       "<path fill=\"none\" stroke=\"#000000\" d=\"M263.6223,-50.9748C256.2369,-43.4417 244.6768,-31.6503 235.458,-22.2472\"/>\n",
       "<polygon fill=\"#000000\" stroke=\"#000000\" points=\"237.9079,-19.7466 228.4079,-15.0561 232.9094,-24.6471 237.9079,-19.7466\"/>\n",
       "</g>\n",
       "<!-- 12 -->\n",
       "<g id=\"node13\" class=\"node\">\n",
       "<title>12</title>\n",
       "<text text-anchor=\"middle\" x=\"271\" y=\"-3.8\" font-family=\"Times,serif\" font-size=\"14.00\" fill=\"#000000\"> * </text>\n",
       "</g>\n",
       "<!-- 10&#45;&gt;12 -->\n",
       "<g id=\"edge12\" class=\"edge\">\n",
       "<title>10&#45;&gt;12</title>\n",
       "<path fill=\"none\" stroke=\"#000000\" d=\"M271,-50.9748C271,-44.195 271,-33.966 271,-25.1331\"/>\n",
       "<polygon fill=\"#000000\" stroke=\"#000000\" points=\"274.5001,-25.0561 271,-15.0561 267.5001,-25.0561 274.5001,-25.0561\"/>\n",
       "</g>\n",
       "<!-- 13 -->\n",
       "<g id=\"node14\" class=\"node\">\n",
       "<title>13</title>\n",
       "<text text-anchor=\"middle\" x=\"318\" y=\"-3.8\" font-family=\"Times,serif\" font-size=\"14.00\" fill=\"#000000\">&lt;term&gt;</text>\n",
       "</g>\n",
       "<!-- 10&#45;&gt;13 -->\n",
       "<g id=\"edge13\" class=\"edge\">\n",
       "<title>10&#45;&gt;13</title>\n",
       "<path fill=\"none\" stroke=\"#000000\" d=\"M277.935,-50.9748C284.8079,-43.517 295.5269,-31.8857 304.1488,-22.53\"/>\n",
       "<polygon fill=\"#000000\" stroke=\"#000000\" points=\"306.8334,-24.7816 311.0365,-15.0561 301.6859,-20.0378 306.8334,-24.7816\"/>\n",
       "</g>\n",
       "</g>\n",
       "</svg>\n"
      ],
      "text/plain": [
       "<graphviz.dot.Digraph at 0x11fc6a128>"
      ]
     },
     "metadata": {},
     "output_type": "display_data"
    }
   ],
   "source": [
    "if f.any_possible_expansions(derivation_tree):\n",
    "    derivation_tree = f.expand_tree_once(derivation_tree)\n",
    "    display_tree(derivation_tree)"
   ]
  },
  {
   "cell_type": "markdown",
   "metadata": {
    "slideshow": {
     "slide_type": "fragment"
    }
   },
   "source": [
    "We see that with each step, the number of nonterminals increases.  Obviously, we have to put a limit on this number."
   ]
  },
  {
   "cell_type": "markdown",
   "metadata": {
    "button": false,
    "new_sheet": false,
    "run_control": {
     "read_only": false
    },
    "slideshow": {
     "slide_type": "slide"
    }
   },
   "source": [
    "## Three Expansion Phases\n",
    "\n",
    "We can now put all three phases together in a single function `expand_tree()` which will work as follows:\n",
    "\n",
    "1. **Max cost expansion.** Expand the tree using expansions with maximum cost until we have at least `min_nonterminals` nonterminals.  This phase can be easily skipped by setting `min_nonterminals` to zero.\n",
    "2. **Random expansion.**  Keep on expanding the tree randomly until we reach `max_nonterminals` nonterminals.\n",
    "3. **Min cost expansion.** Close the expansion with minimum cost.\n",
    "\n",
    "We implement these three phases by having `expand_node` reference the expansion method to apply.  This is controlled by setting `expand_node` (the method reference) to first `expand_node_max_cost` (i.e., calling `expand_node()` invokes `expand_node_max_cost()`), then `expand_node_randomly`, and finally `expand_node_min_cost`.  In the first two phases, we also set a maximum limit of `min_nonterminals` and `max_nonterminals`, respectively."
   ]
  },
  {
   "cell_type": "code",
   "execution_count": 73,
   "metadata": {
    "button": false,
    "new_sheet": false,
    "run_control": {
     "read_only": false
    },
    "slideshow": {
     "slide_type": "subslide"
    }
   },
   "outputs": [],
   "source": [
    "class GrammarFuzzer(GrammarFuzzer):\n",
    "    def log_tree(self, tree):\n",
    "        \"\"\"Output a tree if self.log is set; if self.display is also set, show the tree structure\"\"\"\n",
    "        if self.log:\n",
    "            print(\"Tree:\", all_terminals(tree))\n",
    "            if self.disp:\n",
    "                display_tree(tree)\n",
    "            # print(self.possible_expansions(tree), \"possible expansion(s) left\")\n",
    "\n",
    "    def expand_tree_with_strategy(self, tree, expand_node_method, limit=None):\n",
    "        \"\"\"Expand tree using `expand_node_method` as node expansion function\n",
    "        until the number of possible expansions reaches `limit`.\"\"\"\n",
    "        self.expand_node = expand_node_method\n",
    "        while (limit is None or self.possible_expansions(tree)\n",
    "               < limit) and self.any_possible_expansions(tree):\n",
    "            tree = self.expand_tree_once(tree)\n",
    "            self.log_tree(tree)\n",
    "        return tree\n",
    "\n",
    "    def expand_tree(self, tree):\n",
    "        \"\"\"Expand `tree` in a three-phase strategy until all expansions are complete.\"\"\"\n",
    "        self.log_tree(tree)\n",
    "        tree = self.expand_tree_with_strategy(\n",
    "            tree, self.expand_node_max_cost, self.min_nonterminals)\n",
    "        tree = self.expand_tree_with_strategy(\n",
    "            tree, self.expand_node_randomly, self.max_nonterminals)\n",
    "        tree = self.expand_tree_with_strategy(tree, self.expand_node_min_cost)\n",
    "\n",
    "        assert self.possible_expansions(tree) == 0\n",
    "\n",
    "        return tree\n"
   ]
  },
  {
   "cell_type": "markdown",
   "metadata": {
    "slideshow": {
     "slide_type": "subslide"
    }
   },
   "source": [
    "Let us try this out on our example."
   ]
  },
  {
   "cell_type": "code",
   "execution_count": 74,
   "metadata": {
    "button": false,
    "new_sheet": false,
    "run_control": {
     "read_only": false
    },
    "slideshow": {
     "slide_type": "subslide"
    }
   },
   "outputs": [
    {
     "name": "stdout",
     "output_type": "stream",
     "text": [
      "Tree: <expr> + <term>\n",
      "Expanding <term> at maximum cost\n",
      "Tree: <expr> + <factor> / <term>\n",
      "Expanding <expr> randomly\n",
      "Tree: <term> + <expr> + <factor> / <term>\n",
      "Expanding <term> randomly\n",
      "Tree: <factor> / <term> + <expr> + <factor> / <term>\n",
      "Expanding <term> at minimum cost\n",
      "Tree: <factor> / <factor> + <expr> + <factor> / <term>\n",
      "Expanding <factor> at minimum cost\n",
      "Tree: <factor> / <integer> + <expr> + <factor> / <term>\n",
      "Expanding <factor> at minimum cost\n",
      "Tree: <factor> / <integer> + <expr> + <integer> / <term>\n",
      "Expanding <expr> at minimum cost\n",
      "Tree: <factor> / <integer> + <term> + <integer> / <term>\n",
      "Expanding <integer> at minimum cost\n",
      "Tree: <factor> / <integer> + <term> + <digit> / <term>\n",
      "Expanding <integer> at minimum cost\n",
      "Tree: <factor> / <digit> + <term> + <digit> / <term>\n",
      "Expanding <term> at minimum cost\n",
      "Tree: <factor> / <digit> + <term> + <digit> / <factor>\n",
      "Expanding <factor> at minimum cost\n",
      "Tree: <factor> / <digit> + <term> + <digit> / <integer>\n",
      "Expanding <integer> at minimum cost\n",
      "Tree: <factor> / <digit> + <term> + <digit> / <digit>\n",
      "Expanding <factor> at minimum cost\n",
      "Tree: <integer> / <digit> + <term> + <digit> / <digit>\n",
      "Expanding <term> at minimum cost\n",
      "Tree: <integer> / <digit> + <factor> + <digit> / <digit>\n",
      "Expanding <digit> at minimum cost\n",
      "Tree: <integer> / <digit> + <factor> + <digit> / 9\n",
      "Expanding <digit> at minimum cost\n",
      "Tree: <integer> / <digit> + <factor> + 6 / 9\n",
      "Expanding <factor> at minimum cost\n",
      "Tree: <integer> / <digit> + <integer> + 6 / 9\n",
      "Expanding <digit> at minimum cost\n",
      "Tree: <integer> / 6 + <integer> + 6 / 9\n",
      "Expanding <integer> at minimum cost\n",
      "Tree: <digit> / 6 + <integer> + 6 / 9\n",
      "Expanding <integer> at minimum cost\n",
      "Tree: <digit> / 6 + <digit> + 6 / 9\n",
      "Expanding <digit> at minimum cost\n",
      "Tree: 8 / 6 + <digit> + 6 / 9\n",
      "Expanding <digit> at minimum cost\n",
      "Tree: 8 / 6 + 9 + 6 / 9\n"
     ]
    }
   ],
   "source": [
    "derivation_tree = (\"<start>\",\n",
    "                   [(\"<expr>\",\n",
    "                     [(\"<expr>\", None),\n",
    "                      (\" + \", []),\n",
    "                         (\"<term>\", None)]\n",
    "                     )])\n",
    "\n",
    "f = GrammarFuzzer(\n",
    "    EXPR_GRAMMAR,\n",
    "    min_nonterminals=3,\n",
    "    max_nonterminals=5,\n",
    "    log=True)\n",
    "derivation_tree = f.expand_tree(derivation_tree)"
   ]
  },
  {
   "cell_type": "code",
   "execution_count": 75,
   "metadata": {
    "button": false,
    "new_sheet": false,
    "run_control": {
     "read_only": false
    },
    "slideshow": {
     "slide_type": "subslide"
    }
   },
   "outputs": [
    {
     "data": {
      "image/svg+xml": [
       "<?xml version=\"1.0\" encoding=\"UTF-8\" standalone=\"no\"?>\n",
       "<!DOCTYPE svg PUBLIC \"-//W3C//DTD SVG 1.1//EN\"\n",
       " \"http://www.w3.org/Graphics/SVG/1.1/DTD/svg11.dtd\">\n",
       "<!-- Generated by graphviz version 2.40.1 (20161225.0304)\n",
       " -->\n",
       "<!-- Title: %3 Pages: 1 -->\n",
       "<svg width=\"376pt\" height=\"431pt\"\n",
       " viewBox=\"0.00 0.00 376.00 431.00\" xmlns=\"http://www.w3.org/2000/svg\" xmlns:xlink=\"http://www.w3.org/1999/xlink\">\n",
       "<g id=\"graph0\" class=\"graph\" transform=\"scale(1 1) rotate(0) translate(4 427)\">\n",
       "<title>%3</title>\n",
       "<polygon fill=\"#ffffff\" stroke=\"transparent\" points=\"-4,4 -4,-427 372,-427 372,4 -4,4\"/>\n",
       "<!-- 0 -->\n",
       "<g id=\"node1\" class=\"node\">\n",
       "<title>0</title>\n",
       "<text text-anchor=\"middle\" x=\"216.5\" y=\"-411.8\" font-family=\"Times,serif\" font-size=\"14.00\" fill=\"#000000\">&lt;start&gt;</text>\n",
       "</g>\n",
       "<!-- 1 -->\n",
       "<g id=\"node2\" class=\"node\">\n",
       "<title>1</title>\n",
       "<text text-anchor=\"middle\" x=\"216.5\" y=\"-360.8\" font-family=\"Times,serif\" font-size=\"14.00\" fill=\"#000000\">&lt;expr&gt;</text>\n",
       "</g>\n",
       "<!-- 0&#45;&gt;1 -->\n",
       "<g id=\"edge1\" class=\"edge\">\n",
       "<title>0&#45;&gt;1</title>\n",
       "<path fill=\"none\" stroke=\"#000000\" d=\"M216.5,-407.9748C216.5,-401.195 216.5,-390.966 216.5,-382.1331\"/>\n",
       "<polygon fill=\"#000000\" stroke=\"#000000\" points=\"220.0001,-382.0561 216.5,-372.0561 213.0001,-382.0561 220.0001,-382.0561\"/>\n",
       "</g>\n",
       "<!-- 2 -->\n",
       "<g id=\"node3\" class=\"node\">\n",
       "<title>2</title>\n",
       "<text text-anchor=\"middle\" x=\"162.5\" y=\"-309.8\" font-family=\"Times,serif\" font-size=\"14.00\" fill=\"#000000\">&lt;expr&gt;</text>\n",
       "</g>\n",
       "<!-- 1&#45;&gt;2 -->\n",
       "<g id=\"edge2\" class=\"edge\">\n",
       "<title>1&#45;&gt;2</title>\n",
       "<path fill=\"none\" stroke=\"#000000\" d=\"M208.5321,-356.9748C200.4761,-349.3663 187.8208,-337.4141 177.8167,-327.9658\"/>\n",
       "<polygon fill=\"#000000\" stroke=\"#000000\" points=\"180.1739,-325.3778 170.5006,-321.0561 175.3675,-330.4669 180.1739,-325.3778\"/>\n",
       "</g>\n",
       "<!-- 21 -->\n",
       "<g id=\"node22\" class=\"node\">\n",
       "<title>21</title>\n",
       "<text text-anchor=\"middle\" x=\"216.5\" y=\"-309.8\" font-family=\"Times,serif\" font-size=\"14.00\" fill=\"#000000\"> + </text>\n",
       "</g>\n",
       "<!-- 1&#45;&gt;21 -->\n",
       "<g id=\"edge21\" class=\"edge\">\n",
       "<title>1&#45;&gt;21</title>\n",
       "<path fill=\"none\" stroke=\"#000000\" d=\"M216.5,-356.9748C216.5,-350.195 216.5,-339.966 216.5,-331.1331\"/>\n",
       "<polygon fill=\"#000000\" stroke=\"#000000\" points=\"220.0001,-331.0561 216.5,-321.0561 213.0001,-331.0561 220.0001,-331.0561\"/>\n",
       "</g>\n",
       "<!-- 22 -->\n",
       "<g id=\"node23\" class=\"node\">\n",
       "<title>22</title>\n",
       "<text text-anchor=\"middle\" x=\"267.5\" y=\"-309.8\" font-family=\"Times,serif\" font-size=\"14.00\" fill=\"#000000\">&lt;term&gt;</text>\n",
       "</g>\n",
       "<!-- 1&#45;&gt;22 -->\n",
       "<g id=\"edge22\" class=\"edge\">\n",
       "<title>1&#45;&gt;22</title>\n",
       "<path fill=\"none\" stroke=\"#000000\" d=\"M224.0252,-356.9748C231.5583,-349.4417 243.3497,-337.6503 252.7528,-328.2472\"/>\n",
       "<polygon fill=\"#000000\" stroke=\"#000000\" points=\"255.3477,-330.6021 259.9439,-321.0561 250.3979,-325.6523 255.3477,-330.6021\"/>\n",
       "</g>\n",
       "<!-- 3 -->\n",
       "<g id=\"node4\" class=\"node\">\n",
       "<title>3</title>\n",
       "<text text-anchor=\"middle\" x=\"83.5\" y=\"-258.8\" font-family=\"Times,serif\" font-size=\"14.00\" fill=\"#000000\">&lt;term&gt;</text>\n",
       "</g>\n",
       "<!-- 2&#45;&gt;3 -->\n",
       "<g id=\"edge3\" class=\"edge\">\n",
       "<title>2&#45;&gt;3</title>\n",
       "<path fill=\"none\" stroke=\"#000000\" d=\"M150.8433,-305.9748C138.4742,-297.9897 118.6938,-285.22 103.764,-275.5818\"/>\n",
       "<polygon fill=\"#000000\" stroke=\"#000000\" points=\"105.5043,-272.5393 95.2045,-270.0561 101.7077,-278.4203 105.5043,-272.5393\"/>\n",
       "</g>\n",
       "<!-- 14 -->\n",
       "<g id=\"node15\" class=\"node\">\n",
       "<title>14</title>\n",
       "<text text-anchor=\"middle\" x=\"136.5\" y=\"-258.8\" font-family=\"Times,serif\" font-size=\"14.00\" fill=\"#000000\"> + </text>\n",
       "</g>\n",
       "<!-- 2&#45;&gt;14 -->\n",
       "<g id=\"edge14\" class=\"edge\">\n",
       "<title>2&#45;&gt;14</title>\n",
       "<path fill=\"none\" stroke=\"#000000\" d=\"M158.6636,-305.9748C155.092,-298.969 149.6429,-288.2803 145.0416,-279.2547\"/>\n",
       "<polygon fill=\"#000000\" stroke=\"#000000\" points=\"148.0122,-277.3755 140.3521,-270.0561 141.7759,-280.5548 148.0122,-277.3755\"/>\n",
       "</g>\n",
       "<!-- 15 -->\n",
       "<g id=\"node16\" class=\"node\">\n",
       "<title>15</title>\n",
       "<text text-anchor=\"middle\" x=\"182.5\" y=\"-258.8\" font-family=\"Times,serif\" font-size=\"14.00\" fill=\"#000000\">&lt;expr&gt;</text>\n",
       "</g>\n",
       "<!-- 2&#45;&gt;15 -->\n",
       "<g id=\"edge15\" class=\"edge\">\n",
       "<title>2&#45;&gt;15</title>\n",
       "<path fill=\"none\" stroke=\"#000000\" d=\"M165.4511,-305.9748C168.1689,-299.0443 172.3001,-288.5097 175.8151,-279.5464\"/>\n",
       "<polygon fill=\"#000000\" stroke=\"#000000\" points=\"179.1443,-280.6437 179.5368,-270.0561 172.6275,-278.088 179.1443,-280.6437\"/>\n",
       "</g>\n",
       "<!-- 4 -->\n",
       "<g id=\"node5\" class=\"node\">\n",
       "<title>4</title>\n",
       "<text text-anchor=\"middle\" x=\"27.5\" y=\"-207.8\" font-family=\"Times,serif\" font-size=\"14.00\" fill=\"#000000\">&lt;factor&gt;</text>\n",
       "</g>\n",
       "<!-- 3&#45;&gt;4 -->\n",
       "<g id=\"edge4\" class=\"edge\">\n",
       "<title>3&#45;&gt;4</title>\n",
       "<path fill=\"none\" stroke=\"#000000\" d=\"M75.237,-254.9748C66.8826,-247.3663 53.7586,-235.4141 43.384,-225.9658\"/>\n",
       "<polygon fill=\"#000000\" stroke=\"#000000\" points=\"45.547,-223.2017 35.7969,-219.0561 40.8337,-228.3771 45.547,-223.2017\"/>\n",
       "</g>\n",
       "<!-- 8 -->\n",
       "<g id=\"node9\" class=\"node\">\n",
       "<title>8</title>\n",
       "<text text-anchor=\"middle\" x=\"75.5\" y=\"-207.8\" font-family=\"Times,serif\" font-size=\"14.00\" fill=\"#000000\"> / </text>\n",
       "</g>\n",
       "<!-- 3&#45;&gt;8 -->\n",
       "<g id=\"edge8\" class=\"edge\">\n",
       "<title>3&#45;&gt;8</title>\n",
       "<path fill=\"none\" stroke=\"#000000\" d=\"M82.3196,-254.9748C81.2561,-248.195 79.6515,-237.966 78.266,-229.1331\"/>\n",
       "<polygon fill=\"#000000\" stroke=\"#000000\" points=\"81.6927,-228.3929 76.6853,-219.0561 74.7773,-229.4777 81.6927,-228.3929\"/>\n",
       "</g>\n",
       "<!-- 9 -->\n",
       "<g id=\"node10\" class=\"node\">\n",
       "<title>9</title>\n",
       "<text text-anchor=\"middle\" x=\"120.5\" y=\"-207.8\" font-family=\"Times,serif\" font-size=\"14.00\" fill=\"#000000\">&lt;term&gt;</text>\n",
       "</g>\n",
       "<!-- 3&#45;&gt;9 -->\n",
       "<g id=\"edge9\" class=\"edge\">\n",
       "<title>3&#45;&gt;9</title>\n",
       "<path fill=\"none\" stroke=\"#000000\" d=\"M88.9595,-254.9748C94.2061,-247.743 102.2998,-236.5868 108.9744,-227.3866\"/>\n",
       "<polygon fill=\"#000000\" stroke=\"#000000\" points=\"111.9788,-229.2056 115.0181,-219.0561 106.3128,-225.095 111.9788,-229.2056\"/>\n",
       "</g>\n",
       "<!-- 5 -->\n",
       "<g id=\"node6\" class=\"node\">\n",
       "<title>5</title>\n",
       "<text text-anchor=\"middle\" x=\"27.5\" y=\"-156.8\" font-family=\"Times,serif\" font-size=\"14.00\" fill=\"#000000\">&lt;integer&gt;</text>\n",
       "</g>\n",
       "<!-- 4&#45;&gt;5 -->\n",
       "<g id=\"edge5\" class=\"edge\">\n",
       "<title>4&#45;&gt;5</title>\n",
       "<path fill=\"none\" stroke=\"#000000\" d=\"M27.5,-203.9748C27.5,-197.195 27.5,-186.966 27.5,-178.1331\"/>\n",
       "<polygon fill=\"#000000\" stroke=\"#000000\" points=\"31.0001,-178.0561 27.5,-168.0561 24.0001,-178.0561 31.0001,-178.0561\"/>\n",
       "</g>\n",
       "<!-- 6 -->\n",
       "<g id=\"node7\" class=\"node\">\n",
       "<title>6</title>\n",
       "<text text-anchor=\"middle\" x=\"27.5\" y=\"-105.8\" font-family=\"Times,serif\" font-size=\"14.00\" fill=\"#000000\">&lt;digit&gt;</text>\n",
       "</g>\n",
       "<!-- 5&#45;&gt;6 -->\n",
       "<g id=\"edge6\" class=\"edge\">\n",
       "<title>5&#45;&gt;6</title>\n",
       "<path fill=\"none\" stroke=\"#000000\" d=\"M27.5,-152.9748C27.5,-146.195 27.5,-135.966 27.5,-127.1331\"/>\n",
       "<polygon fill=\"#000000\" stroke=\"#000000\" points=\"31.0001,-127.0561 27.5,-117.0561 24.0001,-127.0561 31.0001,-127.0561\"/>\n",
       "</g>\n",
       "<!-- 7 -->\n",
       "<g id=\"node8\" class=\"node\">\n",
       "<title>7</title>\n",
       "<text text-anchor=\"middle\" x=\"27.5\" y=\"-54.8\" font-family=\"Times,serif\" font-size=\"14.00\" fill=\"#000000\">8</text>\n",
       "</g>\n",
       "<!-- 6&#45;&gt;7 -->\n",
       "<g id=\"edge7\" class=\"edge\">\n",
       "<title>6&#45;&gt;7</title>\n",
       "<path fill=\"none\" stroke=\"#000000\" d=\"M27.5,-101.9748C27.5,-95.195 27.5,-84.966 27.5,-76.1331\"/>\n",
       "<polygon fill=\"#000000\" stroke=\"#000000\" points=\"31.0001,-76.0561 27.5,-66.0561 24.0001,-76.0561 31.0001,-76.0561\"/>\n",
       "</g>\n",
       "<!-- 10 -->\n",
       "<g id=\"node11\" class=\"node\">\n",
       "<title>10</title>\n",
       "<text text-anchor=\"middle\" x=\"114.5\" y=\"-156.8\" font-family=\"Times,serif\" font-size=\"14.00\" fill=\"#000000\">&lt;factor&gt;</text>\n",
       "</g>\n",
       "<!-- 9&#45;&gt;10 -->\n",
       "<g id=\"edge10\" class=\"edge\">\n",
       "<title>9&#45;&gt;10</title>\n",
       "<path fill=\"none\" stroke=\"#000000\" d=\"M119.6147,-203.9748C118.8171,-197.195 117.6136,-186.966 116.5745,-178.1331\"/>\n",
       "<polygon fill=\"#000000\" stroke=\"#000000\" points=\"120.0335,-177.5786 115.389,-168.0561 113.0814,-178.3966 120.0335,-177.5786\"/>\n",
       "</g>\n",
       "<!-- 11 -->\n",
       "<g id=\"node12\" class=\"node\">\n",
       "<title>11</title>\n",
       "<text text-anchor=\"middle\" x=\"113.5\" y=\"-105.8\" font-family=\"Times,serif\" font-size=\"14.00\" fill=\"#000000\">&lt;integer&gt;</text>\n",
       "</g>\n",
       "<!-- 10&#45;&gt;11 -->\n",
       "<g id=\"edge11\" class=\"edge\">\n",
       "<title>10&#45;&gt;11</title>\n",
       "<path fill=\"none\" stroke=\"#000000\" d=\"M114.3524,-152.9748C114.2195,-146.195 114.0189,-135.966 113.8457,-127.1331\"/>\n",
       "<polygon fill=\"#000000\" stroke=\"#000000\" points=\"117.3436,-126.9855 113.6482,-117.0561 110.345,-127.1228 117.3436,-126.9855\"/>\n",
       "</g>\n",
       "<!-- 12 -->\n",
       "<g id=\"node13\" class=\"node\">\n",
       "<title>12</title>\n",
       "<text text-anchor=\"middle\" x=\"113.5\" y=\"-54.8\" font-family=\"Times,serif\" font-size=\"14.00\" fill=\"#000000\">&lt;digit&gt;</text>\n",
       "</g>\n",
       "<!-- 11&#45;&gt;12 -->\n",
       "<g id=\"edge12\" class=\"edge\">\n",
       "<title>11&#45;&gt;12</title>\n",
       "<path fill=\"none\" stroke=\"#000000\" d=\"M113.5,-101.9748C113.5,-95.195 113.5,-84.966 113.5,-76.1331\"/>\n",
       "<polygon fill=\"#000000\" stroke=\"#000000\" points=\"117.0001,-76.0561 113.5,-66.0561 110.0001,-76.0561 117.0001,-76.0561\"/>\n",
       "</g>\n",
       "<!-- 13 -->\n",
       "<g id=\"node14\" class=\"node\">\n",
       "<title>13</title>\n",
       "<text text-anchor=\"middle\" x=\"113.5\" y=\"-3.8\" font-family=\"Times,serif\" font-size=\"14.00\" fill=\"#000000\">6</text>\n",
       "</g>\n",
       "<!-- 12&#45;&gt;13 -->\n",
       "<g id=\"edge13\" class=\"edge\">\n",
       "<title>12&#45;&gt;13</title>\n",
       "<path fill=\"none\" stroke=\"#000000\" d=\"M113.5,-50.9748C113.5,-44.195 113.5,-33.966 113.5,-25.1331\"/>\n",
       "<polygon fill=\"#000000\" stroke=\"#000000\" points=\"117.0001,-25.0561 113.5,-15.0561 110.0001,-25.0561 117.0001,-25.0561\"/>\n",
       "</g>\n",
       "<!-- 16 -->\n",
       "<g id=\"node17\" class=\"node\">\n",
       "<title>16</title>\n",
       "<text text-anchor=\"middle\" x=\"182.5\" y=\"-207.8\" font-family=\"Times,serif\" font-size=\"14.00\" fill=\"#000000\">&lt;term&gt;</text>\n",
       "</g>\n",
       "<!-- 15&#45;&gt;16 -->\n",
       "<g id=\"edge16\" class=\"edge\">\n",
       "<title>15&#45;&gt;16</title>\n",
       "<path fill=\"none\" stroke=\"#000000\" d=\"M182.5,-254.9748C182.5,-248.195 182.5,-237.966 182.5,-229.1331\"/>\n",
       "<polygon fill=\"#000000\" stroke=\"#000000\" points=\"186.0001,-229.0561 182.5,-219.0561 179.0001,-229.0561 186.0001,-229.0561\"/>\n",
       "</g>\n",
       "<!-- 17 -->\n",
       "<g id=\"node18\" class=\"node\">\n",
       "<title>17</title>\n",
       "<text text-anchor=\"middle\" x=\"184.5\" y=\"-156.8\" font-family=\"Times,serif\" font-size=\"14.00\" fill=\"#000000\">&lt;factor&gt;</text>\n",
       "</g>\n",
       "<!-- 16&#45;&gt;17 -->\n",
       "<g id=\"edge17\" class=\"edge\">\n",
       "<title>16&#45;&gt;17</title>\n",
       "<path fill=\"none\" stroke=\"#000000\" d=\"M182.7951,-203.9748C183.061,-197.195 183.4621,-186.966 183.8085,-178.1331\"/>\n",
       "<polygon fill=\"#000000\" stroke=\"#000000\" points=\"187.309,-178.1856 184.2037,-168.0561 180.3144,-177.9112 187.309,-178.1856\"/>\n",
       "</g>\n",
       "<!-- 18 -->\n",
       "<g id=\"node19\" class=\"node\">\n",
       "<title>18</title>\n",
       "<text text-anchor=\"middle\" x=\"186.5\" y=\"-105.8\" font-family=\"Times,serif\" font-size=\"14.00\" fill=\"#000000\">&lt;integer&gt;</text>\n",
       "</g>\n",
       "<!-- 17&#45;&gt;18 -->\n",
       "<g id=\"edge18\" class=\"edge\">\n",
       "<title>17&#45;&gt;18</title>\n",
       "<path fill=\"none\" stroke=\"#000000\" d=\"M184.7951,-152.9748C185.061,-146.195 185.4621,-135.966 185.8085,-127.1331\"/>\n",
       "<polygon fill=\"#000000\" stroke=\"#000000\" points=\"189.309,-127.1856 186.2037,-117.0561 182.3144,-126.9112 189.309,-127.1856\"/>\n",
       "</g>\n",
       "<!-- 19 -->\n",
       "<g id=\"node20\" class=\"node\">\n",
       "<title>19</title>\n",
       "<text text-anchor=\"middle\" x=\"186.5\" y=\"-54.8\" font-family=\"Times,serif\" font-size=\"14.00\" fill=\"#000000\">&lt;digit&gt;</text>\n",
       "</g>\n",
       "<!-- 18&#45;&gt;19 -->\n",
       "<g id=\"edge19\" class=\"edge\">\n",
       "<title>18&#45;&gt;19</title>\n",
       "<path fill=\"none\" stroke=\"#000000\" d=\"M186.5,-101.9748C186.5,-95.195 186.5,-84.966 186.5,-76.1331\"/>\n",
       "<polygon fill=\"#000000\" stroke=\"#000000\" points=\"190.0001,-76.0561 186.5,-66.0561 183.0001,-76.0561 190.0001,-76.0561\"/>\n",
       "</g>\n",
       "<!-- 20 -->\n",
       "<g id=\"node21\" class=\"node\">\n",
       "<title>20</title>\n",
       "<text text-anchor=\"middle\" x=\"186.5\" y=\"-3.8\" font-family=\"Times,serif\" font-size=\"14.00\" fill=\"#000000\">9</text>\n",
       "</g>\n",
       "<!-- 19&#45;&gt;20 -->\n",
       "<g id=\"edge20\" class=\"edge\">\n",
       "<title>19&#45;&gt;20</title>\n",
       "<path fill=\"none\" stroke=\"#000000\" d=\"M186.5,-50.9748C186.5,-44.195 186.5,-33.966 186.5,-25.1331\"/>\n",
       "<polygon fill=\"#000000\" stroke=\"#000000\" points=\"190.0001,-25.0561 186.5,-15.0561 183.0001,-25.0561 190.0001,-25.0561\"/>\n",
       "</g>\n",
       "<!-- 23 -->\n",
       "<g id=\"node24\" class=\"node\">\n",
       "<title>23</title>\n",
       "<text text-anchor=\"middle\" x=\"247.5\" y=\"-258.8\" font-family=\"Times,serif\" font-size=\"14.00\" fill=\"#000000\">&lt;factor&gt;</text>\n",
       "</g>\n",
       "<!-- 22&#45;&gt;23 -->\n",
       "<g id=\"edge23\" class=\"edge\">\n",
       "<title>22&#45;&gt;23</title>\n",
       "<path fill=\"none\" stroke=\"#000000\" d=\"M264.5489,-305.9748C261.8311,-299.0443 257.6999,-288.5097 254.1849,-279.5464\"/>\n",
       "<polygon fill=\"#000000\" stroke=\"#000000\" points=\"257.3725,-278.088 250.4632,-270.0561 250.8557,-280.6437 257.3725,-278.088\"/>\n",
       "</g>\n",
       "<!-- 27 -->\n",
       "<g id=\"node28\" class=\"node\">\n",
       "<title>27</title>\n",
       "<text text-anchor=\"middle\" x=\"295.5\" y=\"-258.8\" font-family=\"Times,serif\" font-size=\"14.00\" fill=\"#000000\"> / </text>\n",
       "</g>\n",
       "<!-- 22&#45;&gt;27 -->\n",
       "<g id=\"edge27\" class=\"edge\">\n",
       "<title>22&#45;&gt;27</title>\n",
       "<path fill=\"none\" stroke=\"#000000\" d=\"M271.6315,-305.9748C275.5192,-298.8936 281.4726,-288.05 286.4609,-278.9641\"/>\n",
       "<polygon fill=\"#000000\" stroke=\"#000000\" points=\"289.6069,-280.5063 291.3516,-270.0561 283.4709,-277.1375 289.6069,-280.5063\"/>\n",
       "</g>\n",
       "<!-- 28 -->\n",
       "<g id=\"node29\" class=\"node\">\n",
       "<title>28</title>\n",
       "<text text-anchor=\"middle\" x=\"340.5\" y=\"-258.8\" font-family=\"Times,serif\" font-size=\"14.00\" fill=\"#000000\">&lt;term&gt;</text>\n",
       "</g>\n",
       "<!-- 22&#45;&gt;28 -->\n",
       "<g id=\"edge28\" class=\"edge\">\n",
       "<title>22&#45;&gt;28</title>\n",
       "<path fill=\"none\" stroke=\"#000000\" d=\"M278.2714,-305.9748C289.5932,-298.065 307.6349,-285.4606 321.3834,-275.8554\"/>\n",
       "<polygon fill=\"#000000\" stroke=\"#000000\" points=\"323.4913,-278.6524 329.6844,-270.0561 319.4823,-272.9141 323.4913,-278.6524\"/>\n",
       "</g>\n",
       "<!-- 24 -->\n",
       "<g id=\"node25\" class=\"node\">\n",
       "<title>24</title>\n",
       "<text text-anchor=\"middle\" x=\"249.5\" y=\"-207.8\" font-family=\"Times,serif\" font-size=\"14.00\" fill=\"#000000\">&lt;integer&gt;</text>\n",
       "</g>\n",
       "<!-- 23&#45;&gt;24 -->\n",
       "<g id=\"edge24\" class=\"edge\">\n",
       "<title>23&#45;&gt;24</title>\n",
       "<path fill=\"none\" stroke=\"#000000\" d=\"M247.7951,-254.9748C248.061,-248.195 248.4621,-237.966 248.8085,-229.1331\"/>\n",
       "<polygon fill=\"#000000\" stroke=\"#000000\" points=\"252.309,-229.1856 249.2037,-219.0561 245.3144,-228.9112 252.309,-229.1856\"/>\n",
       "</g>\n",
       "<!-- 25 -->\n",
       "<g id=\"node26\" class=\"node\">\n",
       "<title>25</title>\n",
       "<text text-anchor=\"middle\" x=\"249.5\" y=\"-156.8\" font-family=\"Times,serif\" font-size=\"14.00\" fill=\"#000000\">&lt;digit&gt;</text>\n",
       "</g>\n",
       "<!-- 24&#45;&gt;25 -->\n",
       "<g id=\"edge25\" class=\"edge\">\n",
       "<title>24&#45;&gt;25</title>\n",
       "<path fill=\"none\" stroke=\"#000000\" d=\"M249.5,-203.9748C249.5,-197.195 249.5,-186.966 249.5,-178.1331\"/>\n",
       "<polygon fill=\"#000000\" stroke=\"#000000\" points=\"253.0001,-178.0561 249.5,-168.0561 246.0001,-178.0561 253.0001,-178.0561\"/>\n",
       "</g>\n",
       "<!-- 26 -->\n",
       "<g id=\"node27\" class=\"node\">\n",
       "<title>26</title>\n",
       "<text text-anchor=\"middle\" x=\"249.5\" y=\"-105.8\" font-family=\"Times,serif\" font-size=\"14.00\" fill=\"#000000\">6</text>\n",
       "</g>\n",
       "<!-- 25&#45;&gt;26 -->\n",
       "<g id=\"edge26\" class=\"edge\">\n",
       "<title>25&#45;&gt;26</title>\n",
       "<path fill=\"none\" stroke=\"#000000\" d=\"M249.5,-152.9748C249.5,-146.195 249.5,-135.966 249.5,-127.1331\"/>\n",
       "<polygon fill=\"#000000\" stroke=\"#000000\" points=\"253.0001,-127.0561 249.5,-117.0561 246.0001,-127.0561 253.0001,-127.0561\"/>\n",
       "</g>\n",
       "<!-- 29 -->\n",
       "<g id=\"node30\" class=\"node\">\n",
       "<title>29</title>\n",
       "<text text-anchor=\"middle\" x=\"340.5\" y=\"-207.8\" font-family=\"Times,serif\" font-size=\"14.00\" fill=\"#000000\">&lt;factor&gt;</text>\n",
       "</g>\n",
       "<!-- 28&#45;&gt;29 -->\n",
       "<g id=\"edge29\" class=\"edge\">\n",
       "<title>28&#45;&gt;29</title>\n",
       "<path fill=\"none\" stroke=\"#000000\" d=\"M340.5,-254.9748C340.5,-248.195 340.5,-237.966 340.5,-229.1331\"/>\n",
       "<polygon fill=\"#000000\" stroke=\"#000000\" points=\"344.0001,-229.0561 340.5,-219.0561 337.0001,-229.0561 344.0001,-229.0561\"/>\n",
       "</g>\n",
       "<!-- 30 -->\n",
       "<g id=\"node31\" class=\"node\">\n",
       "<title>30</title>\n",
       "<text text-anchor=\"middle\" x=\"340.5\" y=\"-156.8\" font-family=\"Times,serif\" font-size=\"14.00\" fill=\"#000000\">&lt;integer&gt;</text>\n",
       "</g>\n",
       "<!-- 29&#45;&gt;30 -->\n",
       "<g id=\"edge30\" class=\"edge\">\n",
       "<title>29&#45;&gt;30</title>\n",
       "<path fill=\"none\" stroke=\"#000000\" d=\"M340.5,-203.9748C340.5,-197.195 340.5,-186.966 340.5,-178.1331\"/>\n",
       "<polygon fill=\"#000000\" stroke=\"#000000\" points=\"344.0001,-178.0561 340.5,-168.0561 337.0001,-178.0561 344.0001,-178.0561\"/>\n",
       "</g>\n",
       "<!-- 31 -->\n",
       "<g id=\"node32\" class=\"node\">\n",
       "<title>31</title>\n",
       "<text text-anchor=\"middle\" x=\"340.5\" y=\"-105.8\" font-family=\"Times,serif\" font-size=\"14.00\" fill=\"#000000\">&lt;digit&gt;</text>\n",
       "</g>\n",
       "<!-- 30&#45;&gt;31 -->\n",
       "<g id=\"edge31\" class=\"edge\">\n",
       "<title>30&#45;&gt;31</title>\n",
       "<path fill=\"none\" stroke=\"#000000\" d=\"M340.5,-152.9748C340.5,-146.195 340.5,-135.966 340.5,-127.1331\"/>\n",
       "<polygon fill=\"#000000\" stroke=\"#000000\" points=\"344.0001,-127.0561 340.5,-117.0561 337.0001,-127.0561 344.0001,-127.0561\"/>\n",
       "</g>\n",
       "<!-- 32 -->\n",
       "<g id=\"node33\" class=\"node\">\n",
       "<title>32</title>\n",
       "<text text-anchor=\"middle\" x=\"340.5\" y=\"-54.8\" font-family=\"Times,serif\" font-size=\"14.00\" fill=\"#000000\">9</text>\n",
       "</g>\n",
       "<!-- 31&#45;&gt;32 -->\n",
       "<g id=\"edge32\" class=\"edge\">\n",
       "<title>31&#45;&gt;32</title>\n",
       "<path fill=\"none\" stroke=\"#000000\" d=\"M340.5,-101.9748C340.5,-95.195 340.5,-84.966 340.5,-76.1331\"/>\n",
       "<polygon fill=\"#000000\" stroke=\"#000000\" points=\"344.0001,-76.0561 340.5,-66.0561 337.0001,-76.0561 344.0001,-76.0561\"/>\n",
       "</g>\n",
       "</g>\n",
       "</svg>\n"
      ],
      "text/plain": [
       "<graphviz.dot.Digraph at 0x11fc6a4e0>"
      ]
     },
     "metadata": {},
     "output_type": "display_data"
    }
   ],
   "source": [
    "display_tree(derivation_tree)"
   ]
  },
  {
   "cell_type": "code",
   "execution_count": 76,
   "metadata": {
    "button": false,
    "new_sheet": false,
    "run_control": {
     "read_only": false
    },
    "slideshow": {
     "slide_type": "subslide"
    }
   },
   "outputs": [
    {
     "data": {
      "text/plain": [
       "'8 / 6 + 9 + 6 / 9'"
      ]
     },
     "execution_count": 76,
     "metadata": {},
     "output_type": "execute_result"
    }
   ],
   "source": [
    "all_terminals(derivation_tree)"
   ]
  },
  {
   "cell_type": "markdown",
   "metadata": {
    "slideshow": {
     "slide_type": "slide"
    }
   },
   "source": [
    "## Putting it all Together"
   ]
  },
  {
   "cell_type": "markdown",
   "metadata": {
    "button": false,
    "new_sheet": false,
    "run_control": {
     "read_only": false
    },
    "slideshow": {
     "slide_type": "fragment"
    }
   },
   "source": [
    "Based on this, we can now define a function `fuzz()` that – like `simple_grammar_fuzzer()` – simply takes a grammar and produces a string from it.  It thus no longer exposes the complexity of derivation trees."
   ]
  },
  {
   "cell_type": "code",
   "execution_count": 77,
   "metadata": {
    "button": false,
    "new_sheet": false,
    "run_control": {
     "read_only": false
    },
    "slideshow": {
     "slide_type": "fragment"
    }
   },
   "outputs": [],
   "source": [
    "class GrammarFuzzer(GrammarFuzzer):\n",
    "    def fuzz_tree(self):\n",
    "        # Create an initial derivation tree\n",
    "        tree = self.init_tree()\n",
    "        # print(tree)\n",
    "\n",
    "        # Expand all nonterminals\n",
    "        tree = self.expand_tree(tree)\n",
    "        if self.log:\n",
    "            print(repr(all_terminals(tree)))\n",
    "        if self.disp:\n",
    "            display_tree(tree)\n",
    "        return tree\n",
    "\n",
    "    def fuzz(self):\n",
    "        self.derivation_tree = self.fuzz_tree()\n",
    "        return all_terminals(self.derivation_tree)"
   ]
  },
  {
   "cell_type": "markdown",
   "metadata": {
    "button": false,
    "new_sheet": false,
    "run_control": {
     "read_only": false
    },
    "slideshow": {
     "slide_type": "subslide"
    }
   },
   "source": [
    "We can now apply this on all our defined grammars (and visualize the derivation tree along)"
   ]
  },
  {
   "cell_type": "code",
   "execution_count": 78,
   "metadata": {
    "button": false,
    "new_sheet": false,
    "run_control": {
     "read_only": false
    },
    "slideshow": {
     "slide_type": "fragment"
    }
   },
   "outputs": [
    {
     "data": {
      "text/plain": [
       "'67 * +5 * 3 / (84.09 - 3.4 / 8) + +9.66 - --+8 + 1.1'"
      ]
     },
     "execution_count": 78,
     "metadata": {},
     "output_type": "execute_result"
    }
   ],
   "source": [
    "f = GrammarFuzzer(EXPR_GRAMMAR)\n",
    "f.fuzz()"
   ]
  },
  {
   "cell_type": "markdown",
   "metadata": {
    "slideshow": {
     "slide_type": "subslide"
    }
   },
   "source": [
    "After calling `fuzz()`, the produced derivation tree is accessible in the `derivation_tree` attribute:"
   ]
  },
  {
   "cell_type": "code",
   "execution_count": 79,
   "metadata": {
    "button": false,
    "new_sheet": false,
    "run_control": {
     "read_only": false
    },
    "slideshow": {
     "slide_type": "fragment"
    }
   },
   "outputs": [
    {
     "data": {
      "image/svg+xml": [
       "<?xml version=\"1.0\" encoding=\"UTF-8\" standalone=\"no\"?>\n",
       "<!DOCTYPE svg PUBLIC \"-//W3C//DTD SVG 1.1//EN\"\n",
       " \"http://www.w3.org/Graphics/SVG/1.1/DTD/svg11.dtd\">\n",
       "<!-- Generated by graphviz version 2.40.1 (20161225.0304)\n",
       " -->\n",
       "<!-- Title: %3 Pages: 1 -->\n",
       "<svg width=\"850pt\" height=\"737pt\"\n",
       " viewBox=\"0.00 0.00 849.50 737.00\" xmlns=\"http://www.w3.org/2000/svg\" xmlns:xlink=\"http://www.w3.org/1999/xlink\">\n",
       "<g id=\"graph0\" class=\"graph\" transform=\"scale(1 1) rotate(0) translate(4 733)\">\n",
       "<title>%3</title>\n",
       "<polygon fill=\"#ffffff\" stroke=\"transparent\" points=\"-4,4 -4,-733 845.5,-733 845.5,4 -4,4\"/>\n",
       "<!-- 0 -->\n",
       "<g id=\"node1\" class=\"node\">\n",
       "<title>0</title>\n",
       "<text text-anchor=\"middle\" x=\"305\" y=\"-717.8\" font-family=\"Times,serif\" font-size=\"14.00\" fill=\"#000000\">&lt;start&gt;</text>\n",
       "</g>\n",
       "<!-- 1 -->\n",
       "<g id=\"node2\" class=\"node\">\n",
       "<title>1</title>\n",
       "<text text-anchor=\"middle\" x=\"305\" y=\"-666.8\" font-family=\"Times,serif\" font-size=\"14.00\" fill=\"#000000\">&lt;expr&gt;</text>\n",
       "</g>\n",
       "<!-- 0&#45;&gt;1 -->\n",
       "<g id=\"edge1\" class=\"edge\">\n",
       "<title>0&#45;&gt;1</title>\n",
       "<path fill=\"none\" stroke=\"#000000\" d=\"M305,-713.9748C305,-707.195 305,-696.966 305,-688.1331\"/>\n",
       "<polygon fill=\"#000000\" stroke=\"#000000\" points=\"308.5001,-688.0561 305,-678.0561 301.5001,-688.0561 308.5001,-688.0561\"/>\n",
       "</g>\n",
       "<!-- 2 -->\n",
       "<g id=\"node3\" class=\"node\">\n",
       "<title>2</title>\n",
       "<text text-anchor=\"middle\" x=\"217\" y=\"-615.8\" font-family=\"Times,serif\" font-size=\"14.00\" fill=\"#000000\">&lt;term&gt;</text>\n",
       "</g>\n",
       "<!-- 1&#45;&gt;2 -->\n",
       "<g id=\"edge2\" class=\"edge\">\n",
       "<title>1&#45;&gt;2</title>\n",
       "<path fill=\"none\" stroke=\"#000000\" d=\"M292.0153,-662.9748C278.1071,-654.9143 255.7868,-641.9787 239.1033,-632.3099\"/>\n",
       "<polygon fill=\"#000000\" stroke=\"#000000\" points=\"240.445,-629.0422 230.038,-627.0561 236.935,-635.0986 240.445,-629.0422\"/>\n",
       "</g>\n",
       "<!-- 62 -->\n",
       "<g id=\"node63\" class=\"node\">\n",
       "<title>62</title>\n",
       "<text text-anchor=\"middle\" x=\"305\" y=\"-615.8\" font-family=\"Times,serif\" font-size=\"14.00\" fill=\"#000000\"> + </text>\n",
       "</g>\n",
       "<!-- 1&#45;&gt;62 -->\n",
       "<g id=\"edge62\" class=\"edge\">\n",
       "<title>1&#45;&gt;62</title>\n",
       "<path fill=\"none\" stroke=\"#000000\" d=\"M305,-662.9748C305,-656.195 305,-645.966 305,-637.1331\"/>\n",
       "<polygon fill=\"#000000\" stroke=\"#000000\" points=\"308.5001,-637.0561 305,-627.0561 301.5001,-637.0561 308.5001,-637.0561\"/>\n",
       "</g>\n",
       "<!-- 63 -->\n",
       "<g id=\"node64\" class=\"node\">\n",
       "<title>63</title>\n",
       "<text text-anchor=\"middle\" x=\"474\" y=\"-615.8\" font-family=\"Times,serif\" font-size=\"14.00\" fill=\"#000000\">&lt;expr&gt;</text>\n",
       "</g>\n",
       "<!-- 1&#45;&gt;63 -->\n",
       "<g id=\"edge63\" class=\"edge\">\n",
       "<title>1&#45;&gt;63</title>\n",
       "<path fill=\"none\" stroke=\"#000000\" d=\"M325.7227,-664.2464C355.1974,-655.3517 409.4234,-638.9876 443.4952,-628.7056\"/>\n",
       "<polygon fill=\"#000000\" stroke=\"#000000\" points=\"444.81,-631.9648 453.3724,-625.7249 442.7876,-625.2633 444.81,-631.9648\"/>\n",
       "</g>\n",
       "<!-- 3 -->\n",
       "<g id=\"node4\" class=\"node\">\n",
       "<title>3</title>\n",
       "<text text-anchor=\"middle\" x=\"109\" y=\"-564.8\" font-family=\"Times,serif\" font-size=\"14.00\" fill=\"#000000\">&lt;factor&gt;</text>\n",
       "</g>\n",
       "<!-- 2&#45;&gt;3 -->\n",
       "<g id=\"edge3\" class=\"edge\">\n",
       "<title>2&#45;&gt;3</title>\n",
       "<path fill=\"none\" stroke=\"#000000\" d=\"M201.0642,-611.9748C183.4367,-603.6507 154.7988,-590.1272 134.1404,-580.3719\"/>\n",
       "<polygon fill=\"#000000\" stroke=\"#000000\" points=\"135.5382,-577.1613 125.0012,-576.0561 132.5491,-583.4911 135.5382,-577.1613\"/>\n",
       "</g>\n",
       "<!-- 10 -->\n",
       "<g id=\"node11\" class=\"node\">\n",
       "<title>10</title>\n",
       "<text text-anchor=\"middle\" x=\"193\" y=\"-564.8\" font-family=\"Times,serif\" font-size=\"14.00\" fill=\"#000000\"> * </text>\n",
       "</g>\n",
       "<!-- 2&#45;&gt;10 -->\n",
       "<g id=\"edge10\" class=\"edge\">\n",
       "<title>2&#45;&gt;10</title>\n",
       "<path fill=\"none\" stroke=\"#000000\" d=\"M213.4587,-611.9748C210.1619,-604.969 205.1319,-594.2803 200.8845,-585.2547\"/>\n",
       "<polygon fill=\"#000000\" stroke=\"#000000\" points=\"203.9807,-583.614 196.5558,-576.0561 197.647,-586.5946 203.9807,-583.614\"/>\n",
       "</g>\n",
       "<!-- 11 -->\n",
       "<g id=\"node12\" class=\"node\">\n",
       "<title>11</title>\n",
       "<text text-anchor=\"middle\" x=\"240\" y=\"-564.8\" font-family=\"Times,serif\" font-size=\"14.00\" fill=\"#000000\">&lt;term&gt;</text>\n",
       "</g>\n",
       "<!-- 2&#45;&gt;11 -->\n",
       "<g id=\"edge11\" class=\"edge\">\n",
       "<title>2&#45;&gt;11</title>\n",
       "<path fill=\"none\" stroke=\"#000000\" d=\"M220.3937,-611.9748C223.5532,-604.969 228.3736,-594.2803 232.444,-585.2547\"/>\n",
       "<polygon fill=\"#000000\" stroke=\"#000000\" points=\"235.6718,-586.6109 236.5923,-576.0561 229.2907,-583.7331 235.6718,-586.6109\"/>\n",
       "</g>\n",
       "<!-- 4 -->\n",
       "<g id=\"node5\" class=\"node\">\n",
       "<title>4</title>\n",
       "<text text-anchor=\"middle\" x=\"88\" y=\"-513.8\" font-family=\"Times,serif\" font-size=\"14.00\" fill=\"#000000\">&lt;integer&gt;</text>\n",
       "</g>\n",
       "<!-- 3&#45;&gt;4 -->\n",
       "<g id=\"edge4\" class=\"edge\">\n",
       "<title>3&#45;&gt;4</title>\n",
       "<path fill=\"none\" stroke=\"#000000\" d=\"M105.9014,-560.9748C103.0477,-554.0443 98.7099,-543.5097 95.0191,-534.5464\"/>\n",
       "<polygon fill=\"#000000\" stroke=\"#000000\" points=\"98.1553,-532.9702 91.1113,-525.0561 91.6825,-535.6355 98.1553,-532.9702\"/>\n",
       "</g>\n",
       "<!-- 5 -->\n",
       "<g id=\"node6\" class=\"node\">\n",
       "<title>5</title>\n",
       "<text text-anchor=\"middle\" x=\"21\" y=\"-462.8\" font-family=\"Times,serif\" font-size=\"14.00\" fill=\"#000000\">&lt;digit&gt;</text>\n",
       "</g>\n",
       "<!-- 4&#45;&gt;5 -->\n",
       "<g id=\"edge5\" class=\"edge\">\n",
       "<title>4&#45;&gt;5</title>\n",
       "<path fill=\"none\" stroke=\"#000000\" d=\"M78.1139,-509.9748C67.8216,-502.1403 51.4787,-489.7002 38.907,-480.1307\"/>\n",
       "<polygon fill=\"#000000\" stroke=\"#000000\" points=\"41.0036,-477.328 30.9266,-474.0561 36.7638,-482.898 41.0036,-477.328\"/>\n",
       "</g>\n",
       "<!-- 7 -->\n",
       "<g id=\"node8\" class=\"node\">\n",
       "<title>7</title>\n",
       "<text text-anchor=\"middle\" x=\"88\" y=\"-462.8\" font-family=\"Times,serif\" font-size=\"14.00\" fill=\"#000000\">&lt;integer&gt;</text>\n",
       "</g>\n",
       "<!-- 4&#45;&gt;7 -->\n",
       "<g id=\"edge7\" class=\"edge\">\n",
       "<title>4&#45;&gt;7</title>\n",
       "<path fill=\"none\" stroke=\"#000000\" d=\"M88,-509.9748C88,-503.195 88,-492.966 88,-484.1331\"/>\n",
       "<polygon fill=\"#000000\" stroke=\"#000000\" points=\"91.5001,-484.0561 88,-474.0561 84.5001,-484.0561 91.5001,-484.0561\"/>\n",
       "</g>\n",
       "<!-- 6 -->\n",
       "<g id=\"node7\" class=\"node\">\n",
       "<title>6</title>\n",
       "<text text-anchor=\"middle\" x=\"21\" y=\"-411.8\" font-family=\"Times,serif\" font-size=\"14.00\" fill=\"#000000\">6</text>\n",
       "</g>\n",
       "<!-- 5&#45;&gt;6 -->\n",
       "<g id=\"edge6\" class=\"edge\">\n",
       "<title>5&#45;&gt;6</title>\n",
       "<path fill=\"none\" stroke=\"#000000\" d=\"M21,-458.9748C21,-452.195 21,-441.966 21,-433.1331\"/>\n",
       "<polygon fill=\"#000000\" stroke=\"#000000\" points=\"24.5001,-433.0561 21,-423.0561 17.5001,-433.0561 24.5001,-433.0561\"/>\n",
       "</g>\n",
       "<!-- 8 -->\n",
       "<g id=\"node9\" class=\"node\">\n",
       "<title>8</title>\n",
       "<text text-anchor=\"middle\" x=\"88\" y=\"-411.8\" font-family=\"Times,serif\" font-size=\"14.00\" fill=\"#000000\">&lt;digit&gt;</text>\n",
       "</g>\n",
       "<!-- 7&#45;&gt;8 -->\n",
       "<g id=\"edge8\" class=\"edge\">\n",
       "<title>7&#45;&gt;8</title>\n",
       "<path fill=\"none\" stroke=\"#000000\" d=\"M88,-458.9748C88,-452.195 88,-441.966 88,-433.1331\"/>\n",
       "<polygon fill=\"#000000\" stroke=\"#000000\" points=\"91.5001,-433.0561 88,-423.0561 84.5001,-433.0561 91.5001,-433.0561\"/>\n",
       "</g>\n",
       "<!-- 9 -->\n",
       "<g id=\"node10\" class=\"node\">\n",
       "<title>9</title>\n",
       "<text text-anchor=\"middle\" x=\"88\" y=\"-360.8\" font-family=\"Times,serif\" font-size=\"14.00\" fill=\"#000000\">7</text>\n",
       "</g>\n",
       "<!-- 8&#45;&gt;9 -->\n",
       "<g id=\"edge9\" class=\"edge\">\n",
       "<title>8&#45;&gt;9</title>\n",
       "<path fill=\"none\" stroke=\"#000000\" d=\"M88,-407.9748C88,-401.195 88,-390.966 88,-382.1331\"/>\n",
       "<polygon fill=\"#000000\" stroke=\"#000000\" points=\"91.5001,-382.0561 88,-372.0561 84.5001,-382.0561 91.5001,-382.0561\"/>\n",
       "</g>\n",
       "<!-- 12 -->\n",
       "<g id=\"node13\" class=\"node\">\n",
       "<title>12</title>\n",
       "<text text-anchor=\"middle\" x=\"185\" y=\"-513.8\" font-family=\"Times,serif\" font-size=\"14.00\" fill=\"#000000\">&lt;factor&gt;</text>\n",
       "</g>\n",
       "<!-- 11&#45;&gt;12 -->\n",
       "<g id=\"edge12\" class=\"edge\">\n",
       "<title>11&#45;&gt;12</title>\n",
       "<path fill=\"none\" stroke=\"#000000\" d=\"M231.8846,-560.9748C223.6794,-553.3663 210.7897,-541.4141 200.6004,-531.9658\"/>\n",
       "<polygon fill=\"#000000\" stroke=\"#000000\" points=\"202.8612,-529.2891 193.1487,-525.0561 198.1016,-534.422 202.8612,-529.2891\"/>\n",
       "</g>\n",
       "<!-- 18 -->\n",
       "<g id=\"node19\" class=\"node\">\n",
       "<title>18</title>\n",
       "<text text-anchor=\"middle\" x=\"240\" y=\"-513.8\" font-family=\"Times,serif\" font-size=\"14.00\" fill=\"#000000\"> * </text>\n",
       "</g>\n",
       "<!-- 11&#45;&gt;18 -->\n",
       "<g id=\"edge18\" class=\"edge\">\n",
       "<title>11&#45;&gt;18</title>\n",
       "<path fill=\"none\" stroke=\"#000000\" d=\"M240,-560.9748C240,-554.195 240,-543.966 240,-535.1331\"/>\n",
       "<polygon fill=\"#000000\" stroke=\"#000000\" points=\"243.5001,-535.0561 240,-525.0561 236.5001,-535.0561 243.5001,-535.0561\"/>\n",
       "</g>\n",
       "<!-- 19 -->\n",
       "<g id=\"node20\" class=\"node\">\n",
       "<title>19</title>\n",
       "<text text-anchor=\"middle\" x=\"291\" y=\"-513.8\" font-family=\"Times,serif\" font-size=\"14.00\" fill=\"#000000\">&lt;term&gt;</text>\n",
       "</g>\n",
       "<!-- 11&#45;&gt;19 -->\n",
       "<g id=\"edge19\" class=\"edge\">\n",
       "<title>11&#45;&gt;19</title>\n",
       "<path fill=\"none\" stroke=\"#000000\" d=\"M247.5252,-560.9748C255.0583,-553.4417 266.8497,-541.6503 276.2528,-532.2472\"/>\n",
       "<polygon fill=\"#000000\" stroke=\"#000000\" points=\"278.8477,-534.6021 283.4439,-525.0561 273.8979,-529.6523 278.8477,-534.6021\"/>\n",
       "</g>\n",
       "<!-- 13 -->\n",
       "<g id=\"node14\" class=\"node\">\n",
       "<title>13</title>\n",
       "<text text-anchor=\"middle\" x=\"138\" y=\"-462.8\" font-family=\"Times,serif\" font-size=\"14.00\" fill=\"#000000\">+</text>\n",
       "</g>\n",
       "<!-- 12&#45;&gt;13 -->\n",
       "<g id=\"edge13\" class=\"edge\">\n",
       "<title>12&#45;&gt;13</title>\n",
       "<path fill=\"none\" stroke=\"#000000\" d=\"M178.065,-509.9748C170.4021,-501.6598 157.9582,-488.1567 148.9702,-478.4038\"/>\n",
       "<polygon fill=\"#000000\" stroke=\"#000000\" points=\"151.519,-476.0048 142.1684,-471.0231 146.3714,-480.7486 151.519,-476.0048\"/>\n",
       "</g>\n",
       "<!-- 14 -->\n",
       "<g id=\"node15\" class=\"node\">\n",
       "<title>14</title>\n",
       "<text text-anchor=\"middle\" x=\"185\" y=\"-462.8\" font-family=\"Times,serif\" font-size=\"14.00\" fill=\"#000000\">&lt;factor&gt;</text>\n",
       "</g>\n",
       "<!-- 12&#45;&gt;14 -->\n",
       "<g id=\"edge14\" class=\"edge\">\n",
       "<title>12&#45;&gt;14</title>\n",
       "<path fill=\"none\" stroke=\"#000000\" d=\"M185,-509.9748C185,-503.195 185,-492.966 185,-484.1331\"/>\n",
       "<polygon fill=\"#000000\" stroke=\"#000000\" points=\"188.5001,-484.0561 185,-474.0561 181.5001,-484.0561 188.5001,-484.0561\"/>\n",
       "</g>\n",
       "<!-- 15 -->\n",
       "<g id=\"node16\" class=\"node\">\n",
       "<title>15</title>\n",
       "<text text-anchor=\"middle\" x=\"180\" y=\"-411.8\" font-family=\"Times,serif\" font-size=\"14.00\" fill=\"#000000\">&lt;integer&gt;</text>\n",
       "</g>\n",
       "<!-- 14&#45;&gt;15 -->\n",
       "<g id=\"edge15\" class=\"edge\">\n",
       "<title>14&#45;&gt;15</title>\n",
       "<path fill=\"none\" stroke=\"#000000\" d=\"M184.2622,-458.9748C183.5975,-452.195 182.5947,-441.966 181.7287,-433.1331\"/>\n",
       "<polygon fill=\"#000000\" stroke=\"#000000\" points=\"185.1999,-432.6669 180.7408,-423.0561 178.2333,-433.3499 185.1999,-432.6669\"/>\n",
       "</g>\n",
       "<!-- 16 -->\n",
       "<g id=\"node17\" class=\"node\">\n",
       "<title>16</title>\n",
       "<text text-anchor=\"middle\" x=\"180\" y=\"-360.8\" font-family=\"Times,serif\" font-size=\"14.00\" fill=\"#000000\">&lt;digit&gt;</text>\n",
       "</g>\n",
       "<!-- 15&#45;&gt;16 -->\n",
       "<g id=\"edge16\" class=\"edge\">\n",
       "<title>15&#45;&gt;16</title>\n",
       "<path fill=\"none\" stroke=\"#000000\" d=\"M180,-407.9748C180,-401.195 180,-390.966 180,-382.1331\"/>\n",
       "<polygon fill=\"#000000\" stroke=\"#000000\" points=\"183.5001,-382.0561 180,-372.0561 176.5001,-382.0561 183.5001,-382.0561\"/>\n",
       "</g>\n",
       "<!-- 17 -->\n",
       "<g id=\"node18\" class=\"node\">\n",
       "<title>17</title>\n",
       "<text text-anchor=\"middle\" x=\"180\" y=\"-309.8\" font-family=\"Times,serif\" font-size=\"14.00\" fill=\"#000000\">5</text>\n",
       "</g>\n",
       "<!-- 16&#45;&gt;17 -->\n",
       "<g id=\"edge17\" class=\"edge\">\n",
       "<title>16&#45;&gt;17</title>\n",
       "<path fill=\"none\" stroke=\"#000000\" d=\"M180,-356.9748C180,-350.195 180,-339.966 180,-331.1331\"/>\n",
       "<polygon fill=\"#000000\" stroke=\"#000000\" points=\"183.5001,-331.0561 180,-321.0561 176.5001,-331.0561 183.5001,-331.0561\"/>\n",
       "</g>\n",
       "<!-- 20 -->\n",
       "<g id=\"node21\" class=\"node\">\n",
       "<title>20</title>\n",
       "<text text-anchor=\"middle\" x=\"252\" y=\"-462.8\" font-family=\"Times,serif\" font-size=\"14.00\" fill=\"#000000\">&lt;factor&gt;</text>\n",
       "</g>\n",
       "<!-- 19&#45;&gt;20 -->\n",
       "<g id=\"edge20\" class=\"edge\">\n",
       "<title>19&#45;&gt;20</title>\n",
       "<path fill=\"none\" stroke=\"#000000\" d=\"M285.2454,-509.9748C279.6576,-502.6677 271.006,-491.354 263.9292,-482.0997\"/>\n",
       "<polygon fill=\"#000000\" stroke=\"#000000\" points=\"266.633,-479.8736 257.7782,-474.0561 261.0725,-484.1258 266.633,-479.8736\"/>\n",
       "</g>\n",
       "<!-- 24 -->\n",
       "<g id=\"node25\" class=\"node\">\n",
       "<title>24</title>\n",
       "<text text-anchor=\"middle\" x=\"300\" y=\"-462.8\" font-family=\"Times,serif\" font-size=\"14.00\" fill=\"#000000\"> / </text>\n",
       "</g>\n",
       "<!-- 19&#45;&gt;24 -->\n",
       "<g id=\"edge24\" class=\"edge\">\n",
       "<title>19&#45;&gt;24</title>\n",
       "<path fill=\"none\" stroke=\"#000000\" d=\"M292.328,-509.9748C293.5244,-503.195 295.3295,-492.966 296.8883,-484.1331\"/>\n",
       "<polygon fill=\"#000000\" stroke=\"#000000\" points=\"300.3754,-484.5122 298.6666,-474.0561 293.4819,-483.2957 300.3754,-484.5122\"/>\n",
       "</g>\n",
       "<!-- 25 -->\n",
       "<g id=\"node26\" class=\"node\">\n",
       "<title>25</title>\n",
       "<text text-anchor=\"middle\" x=\"345\" y=\"-462.8\" font-family=\"Times,serif\" font-size=\"14.00\" fill=\"#000000\">&lt;term&gt;</text>\n",
       "</g>\n",
       "<!-- 19&#45;&gt;25 -->\n",
       "<g id=\"edge25\" class=\"edge\">\n",
       "<title>19&#45;&gt;25</title>\n",
       "<path fill=\"none\" stroke=\"#000000\" d=\"M298.9679,-509.9748C307.0239,-502.3663 319.6792,-490.4141 329.6833,-480.9658\"/>\n",
       "<polygon fill=\"#000000\" stroke=\"#000000\" points=\"332.1325,-483.4669 336.9994,-474.0561 327.3261,-478.3778 332.1325,-483.4669\"/>\n",
       "</g>\n",
       "<!-- 21 -->\n",
       "<g id=\"node22\" class=\"node\">\n",
       "<title>21</title>\n",
       "<text text-anchor=\"middle\" x=\"253\" y=\"-411.8\" font-family=\"Times,serif\" font-size=\"14.00\" fill=\"#000000\">&lt;integer&gt;</text>\n",
       "</g>\n",
       "<!-- 20&#45;&gt;21 -->\n",
       "<g id=\"edge21\" class=\"edge\">\n",
       "<title>20&#45;&gt;21</title>\n",
       "<path fill=\"none\" stroke=\"#000000\" d=\"M252.1476,-458.9748C252.2805,-452.195 252.4811,-441.966 252.6543,-433.1331\"/>\n",
       "<polygon fill=\"#000000\" stroke=\"#000000\" points=\"256.155,-433.1228 252.8518,-423.0561 249.1564,-432.9855 256.155,-433.1228\"/>\n",
       "</g>\n",
       "<!-- 22 -->\n",
       "<g id=\"node23\" class=\"node\">\n",
       "<title>22</title>\n",
       "<text text-anchor=\"middle\" x=\"253\" y=\"-360.8\" font-family=\"Times,serif\" font-size=\"14.00\" fill=\"#000000\">&lt;digit&gt;</text>\n",
       "</g>\n",
       "<!-- 21&#45;&gt;22 -->\n",
       "<g id=\"edge22\" class=\"edge\">\n",
       "<title>21&#45;&gt;22</title>\n",
       "<path fill=\"none\" stroke=\"#000000\" d=\"M253,-407.9748C253,-401.195 253,-390.966 253,-382.1331\"/>\n",
       "<polygon fill=\"#000000\" stroke=\"#000000\" points=\"256.5001,-382.0561 253,-372.0561 249.5001,-382.0561 256.5001,-382.0561\"/>\n",
       "</g>\n",
       "<!-- 23 -->\n",
       "<g id=\"node24\" class=\"node\">\n",
       "<title>23</title>\n",
       "<text text-anchor=\"middle\" x=\"253\" y=\"-309.8\" font-family=\"Times,serif\" font-size=\"14.00\" fill=\"#000000\">3</text>\n",
       "</g>\n",
       "<!-- 22&#45;&gt;23 -->\n",
       "<g id=\"edge23\" class=\"edge\">\n",
       "<title>22&#45;&gt;23</title>\n",
       "<path fill=\"none\" stroke=\"#000000\" d=\"M253,-356.9748C253,-350.195 253,-339.966 253,-331.1331\"/>\n",
       "<polygon fill=\"#000000\" stroke=\"#000000\" points=\"256.5001,-331.0561 253,-321.0561 249.5001,-331.0561 256.5001,-331.0561\"/>\n",
       "</g>\n",
       "<!-- 26 -->\n",
       "<g id=\"node27\" class=\"node\">\n",
       "<title>26</title>\n",
       "<text text-anchor=\"middle\" x=\"344\" y=\"-411.8\" font-family=\"Times,serif\" font-size=\"14.00\" fill=\"#000000\">&lt;factor&gt;</text>\n",
       "</g>\n",
       "<!-- 25&#45;&gt;26 -->\n",
       "<g id=\"edge26\" class=\"edge\">\n",
       "<title>25&#45;&gt;26</title>\n",
       "<path fill=\"none\" stroke=\"#000000\" d=\"M344.8524,-458.9748C344.7195,-452.195 344.5189,-441.966 344.3457,-433.1331\"/>\n",
       "<polygon fill=\"#000000\" stroke=\"#000000\" points=\"347.8436,-432.9855 344.1482,-423.0561 340.845,-433.1228 347.8436,-432.9855\"/>\n",
       "</g>\n",
       "<!-- 27 -->\n",
       "<g id=\"node28\" class=\"node\">\n",
       "<title>27</title>\n",
       "<text text-anchor=\"middle\" x=\"302\" y=\"-360.8\" font-family=\"Times,serif\" font-size=\"14.00\" fill=\"#000000\">(</text>\n",
       "</g>\n",
       "<!-- 26&#45;&gt;27 -->\n",
       "<g id=\"edge27\" class=\"edge\">\n",
       "<title>26&#45;&gt;27</title>\n",
       "<path fill=\"none\" stroke=\"#000000\" d=\"M337.8028,-407.9748C330.7476,-399.4078 319.1571,-385.3336 311.0817,-375.5278\"/>\n",
       "<polygon fill=\"#000000\" stroke=\"#000000\" points=\"313.738,-373.2476 304.6791,-367.7533 308.3345,-377.6976 313.738,-373.2476\"/>\n",
       "</g>\n",
       "<!-- 28 -->\n",
       "<g id=\"node29\" class=\"node\">\n",
       "<title>28</title>\n",
       "<text text-anchor=\"middle\" x=\"343\" y=\"-360.8\" font-family=\"Times,serif\" font-size=\"14.00\" fill=\"#000000\">&lt;expr&gt;</text>\n",
       "</g>\n",
       "<!-- 26&#45;&gt;28 -->\n",
       "<g id=\"edge28\" class=\"edge\">\n",
       "<title>26&#45;&gt;28</title>\n",
       "<path fill=\"none\" stroke=\"#000000\" d=\"M343.8524,-407.9748C343.7195,-401.195 343.5189,-390.966 343.3457,-382.1331\"/>\n",
       "<polygon fill=\"#000000\" stroke=\"#000000\" points=\"346.8436,-381.9855 343.1482,-372.0561 339.845,-382.1228 346.8436,-381.9855\"/>\n",
       "</g>\n",
       "<!-- 61 -->\n",
       "<g id=\"node62\" class=\"node\">\n",
       "<title>61</title>\n",
       "<text text-anchor=\"middle\" x=\"384\" y=\"-360.8\" font-family=\"Times,serif\" font-size=\"14.00\" fill=\"#000000\">)</text>\n",
       "</g>\n",
       "<!-- 26&#45;&gt;61 -->\n",
       "<g id=\"edge61\" class=\"edge\">\n",
       "<title>26&#45;&gt;61</title>\n",
       "<path fill=\"none\" stroke=\"#000000\" d=\"M349.9021,-407.9748C356.5521,-399.4961 367.4328,-385.6232 375.1118,-375.8324\"/>\n",
       "<polygon fill=\"#000000\" stroke=\"#000000\" points=\"378.031,-377.7818 381.4484,-367.7533 372.523,-373.4618 378.031,-377.7818\"/>\n",
       "</g>\n",
       "<!-- 29 -->\n",
       "<g id=\"node30\" class=\"node\">\n",
       "<title>29</title>\n",
       "<text text-anchor=\"middle\" x=\"298\" y=\"-309.8\" font-family=\"Times,serif\" font-size=\"14.00\" fill=\"#000000\">&lt;term&gt;</text>\n",
       "</g>\n",
       "<!-- 28&#45;&gt;29 -->\n",
       "<g id=\"edge29\" class=\"edge\">\n",
       "<title>28&#45;&gt;29</title>\n",
       "<path fill=\"none\" stroke=\"#000000\" d=\"M336.3601,-356.9748C329.8462,-349.5923 319.7238,-338.1203 311.5125,-328.8142\"/>\n",
       "<polygon fill=\"#000000\" stroke=\"#000000\" points=\"313.9078,-326.2388 304.6671,-321.0561 308.659,-330.8702 313.9078,-326.2388\"/>\n",
       "</g>\n",
       "<!-- 44 -->\n",
       "<g id=\"node45\" class=\"node\">\n",
       "<title>44</title>\n",
       "<text text-anchor=\"middle\" x=\"343\" y=\"-309.8\" font-family=\"Times,serif\" font-size=\"14.00\" fill=\"#000000\"> &#45; </text>\n",
       "</g>\n",
       "<!-- 28&#45;&gt;44 -->\n",
       "<g id=\"edge44\" class=\"edge\">\n",
       "<title>28&#45;&gt;44</title>\n",
       "<path fill=\"none\" stroke=\"#000000\" d=\"M343,-356.9748C343,-350.195 343,-339.966 343,-331.1331\"/>\n",
       "<polygon fill=\"#000000\" stroke=\"#000000\" points=\"346.5001,-331.0561 343,-321.0561 339.5001,-331.0561 346.5001,-331.0561\"/>\n",
       "</g>\n",
       "<!-- 45 -->\n",
       "<g id=\"node46\" class=\"node\">\n",
       "<title>45</title>\n",
       "<text text-anchor=\"middle\" x=\"388\" y=\"-309.8\" font-family=\"Times,serif\" font-size=\"14.00\" fill=\"#000000\">&lt;expr&gt;</text>\n",
       "</g>\n",
       "<!-- 28&#45;&gt;45 -->\n",
       "<g id=\"edge45\" class=\"edge\">\n",
       "<title>28&#45;&gt;45</title>\n",
       "<path fill=\"none\" stroke=\"#000000\" d=\"M349.6399,-356.9748C356.1538,-349.5923 366.2762,-338.1203 374.4875,-328.8142\"/>\n",
       "<polygon fill=\"#000000\" stroke=\"#000000\" points=\"377.341,-330.8702 381.3329,-321.0561 372.0922,-326.2388 377.341,-330.8702\"/>\n",
       "</g>\n",
       "<!-- 30 -->\n",
       "<g id=\"node31\" class=\"node\">\n",
       "<title>30</title>\n",
       "<text text-anchor=\"middle\" x=\"283\" y=\"-258.8\" font-family=\"Times,serif\" font-size=\"14.00\" fill=\"#000000\">&lt;factor&gt;</text>\n",
       "</g>\n",
       "<!-- 29&#45;&gt;30 -->\n",
       "<g id=\"edge30\" class=\"edge\">\n",
       "<title>29&#45;&gt;30</title>\n",
       "<path fill=\"none\" stroke=\"#000000\" d=\"M295.7867,-305.9748C293.7705,-299.1196 290.7171,-288.7383 288.0998,-279.8392\"/>\n",
       "<polygon fill=\"#000000\" stroke=\"#000000\" points=\"291.4019,-278.6622 285.2224,-270.0561 284.6863,-280.6374 291.4019,-278.6622\"/>\n",
       "</g>\n",
       "<!-- 31 -->\n",
       "<g id=\"node32\" class=\"node\">\n",
       "<title>31</title>\n",
       "<text text-anchor=\"middle\" x=\"222\" y=\"-207.8\" font-family=\"Times,serif\" font-size=\"14.00\" fill=\"#000000\">&lt;integer&gt;</text>\n",
       "</g>\n",
       "<!-- 30&#45;&gt;31 -->\n",
       "<g id=\"edge31\" class=\"edge\">\n",
       "<title>30&#45;&gt;31</title>\n",
       "<path fill=\"none\" stroke=\"#000000\" d=\"M273.9992,-254.9748C264.8088,-247.291 250.3195,-235.177 238.9674,-225.6859\"/>\n",
       "<polygon fill=\"#000000\" stroke=\"#000000\" points=\"240.9546,-222.7852 231.0377,-219.0561 236.4646,-228.1555 240.9546,-222.7852\"/>\n",
       "</g>\n",
       "<!-- 37 -->\n",
       "<g id=\"node38\" class=\"node\">\n",
       "<title>37</title>\n",
       "<text text-anchor=\"middle\" x=\"274\" y=\"-207.8\" font-family=\"Times,serif\" font-size=\"14.00\" fill=\"#000000\">.</text>\n",
       "</g>\n",
       "<!-- 30&#45;&gt;37 -->\n",
       "<g id=\"edge37\" class=\"edge\">\n",
       "<title>30&#45;&gt;37</title>\n",
       "<path fill=\"none\" stroke=\"#000000\" d=\"M281.672,-254.9748C280.4756,-248.195 278.6705,-237.966 277.1117,-229.1331\"/>\n",
       "<polygon fill=\"#000000\" stroke=\"#000000\" points=\"280.5181,-228.2957 275.3334,-219.0561 273.6246,-229.5122 280.5181,-228.2957\"/>\n",
       "</g>\n",
       "<!-- 38 -->\n",
       "<g id=\"node39\" class=\"node\">\n",
       "<title>38</title>\n",
       "<text text-anchor=\"middle\" x=\"322\" y=\"-207.8\" font-family=\"Times,serif\" font-size=\"14.00\" fill=\"#000000\">&lt;integer&gt;</text>\n",
       "</g>\n",
       "<!-- 30&#45;&gt;38 -->\n",
       "<g id=\"edge38\" class=\"edge\">\n",
       "<title>30&#45;&gt;38</title>\n",
       "<path fill=\"none\" stroke=\"#000000\" d=\"M288.7546,-254.9748C294.3424,-247.6677 302.994,-236.354 310.0708,-227.0997\"/>\n",
       "<polygon fill=\"#000000\" stroke=\"#000000\" points=\"312.9275,-229.1258 316.2218,-219.0561 307.367,-224.8736 312.9275,-229.1258\"/>\n",
       "</g>\n",
       "<!-- 32 -->\n",
       "<g id=\"node33\" class=\"node\">\n",
       "<title>32</title>\n",
       "<text text-anchor=\"middle\" x=\"155\" y=\"-156.8\" font-family=\"Times,serif\" font-size=\"14.00\" fill=\"#000000\">&lt;digit&gt;</text>\n",
       "</g>\n",
       "<!-- 31&#45;&gt;32 -->\n",
       "<g id=\"edge32\" class=\"edge\">\n",
       "<title>31&#45;&gt;32</title>\n",
       "<path fill=\"none\" stroke=\"#000000\" d=\"M212.1139,-203.9748C201.8216,-196.1403 185.4787,-183.7002 172.907,-174.1307\"/>\n",
       "<polygon fill=\"#000000\" stroke=\"#000000\" points=\"175.0036,-171.328 164.9266,-168.0561 170.7638,-176.898 175.0036,-171.328\"/>\n",
       "</g>\n",
       "<!-- 34 -->\n",
       "<g id=\"node35\" class=\"node\">\n",
       "<title>34</title>\n",
       "<text text-anchor=\"middle\" x=\"222\" y=\"-156.8\" font-family=\"Times,serif\" font-size=\"14.00\" fill=\"#000000\">&lt;integer&gt;</text>\n",
       "</g>\n",
       "<!-- 31&#45;&gt;34 -->\n",
       "<g id=\"edge34\" class=\"edge\">\n",
       "<title>31&#45;&gt;34</title>\n",
       "<path fill=\"none\" stroke=\"#000000\" d=\"M222,-203.9748C222,-197.195 222,-186.966 222,-178.1331\"/>\n",
       "<polygon fill=\"#000000\" stroke=\"#000000\" points=\"225.5001,-178.0561 222,-168.0561 218.5001,-178.0561 225.5001,-178.0561\"/>\n",
       "</g>\n",
       "<!-- 33 -->\n",
       "<g id=\"node34\" class=\"node\">\n",
       "<title>33</title>\n",
       "<text text-anchor=\"middle\" x=\"155\" y=\"-105.8\" font-family=\"Times,serif\" font-size=\"14.00\" fill=\"#000000\">8</text>\n",
       "</g>\n",
       "<!-- 32&#45;&gt;33 -->\n",
       "<g id=\"edge33\" class=\"edge\">\n",
       "<title>32&#45;&gt;33</title>\n",
       "<path fill=\"none\" stroke=\"#000000\" d=\"M155,-152.9748C155,-146.195 155,-135.966 155,-127.1331\"/>\n",
       "<polygon fill=\"#000000\" stroke=\"#000000\" points=\"158.5001,-127.0561 155,-117.0561 151.5001,-127.0561 158.5001,-127.0561\"/>\n",
       "</g>\n",
       "<!-- 35 -->\n",
       "<g id=\"node36\" class=\"node\">\n",
       "<title>35</title>\n",
       "<text text-anchor=\"middle\" x=\"222\" y=\"-105.8\" font-family=\"Times,serif\" font-size=\"14.00\" fill=\"#000000\">&lt;digit&gt;</text>\n",
       "</g>\n",
       "<!-- 34&#45;&gt;35 -->\n",
       "<g id=\"edge35\" class=\"edge\">\n",
       "<title>34&#45;&gt;35</title>\n",
       "<path fill=\"none\" stroke=\"#000000\" d=\"M222,-152.9748C222,-146.195 222,-135.966 222,-127.1331\"/>\n",
       "<polygon fill=\"#000000\" stroke=\"#000000\" points=\"225.5001,-127.0561 222,-117.0561 218.5001,-127.0561 225.5001,-127.0561\"/>\n",
       "</g>\n",
       "<!-- 36 -->\n",
       "<g id=\"node37\" class=\"node\">\n",
       "<title>36</title>\n",
       "<text text-anchor=\"middle\" x=\"222\" y=\"-54.8\" font-family=\"Times,serif\" font-size=\"14.00\" fill=\"#000000\">4</text>\n",
       "</g>\n",
       "<!-- 35&#45;&gt;36 -->\n",
       "<g id=\"edge36\" class=\"edge\">\n",
       "<title>35&#45;&gt;36</title>\n",
       "<path fill=\"none\" stroke=\"#000000\" d=\"M222,-101.9748C222,-95.195 222,-84.966 222,-76.1331\"/>\n",
       "<polygon fill=\"#000000\" stroke=\"#000000\" points=\"225.5001,-76.0561 222,-66.0561 218.5001,-76.0561 225.5001,-76.0561\"/>\n",
       "</g>\n",
       "<!-- 39 -->\n",
       "<g id=\"node40\" class=\"node\">\n",
       "<title>39</title>\n",
       "<text text-anchor=\"middle\" x=\"289\" y=\"-156.8\" font-family=\"Times,serif\" font-size=\"14.00\" fill=\"#000000\">&lt;digit&gt;</text>\n",
       "</g>\n",
       "<!-- 38&#45;&gt;39 -->\n",
       "<g id=\"edge39\" class=\"edge\">\n",
       "<title>38&#45;&gt;39</title>\n",
       "<path fill=\"none\" stroke=\"#000000\" d=\"M317.1307,-203.9748C312.5001,-196.8183 305.3828,-185.8188 299.466,-176.6747\"/>\n",
       "<polygon fill=\"#000000\" stroke=\"#000000\" points=\"302.2603,-174.5504 293.8892,-168.0561 296.3833,-178.3532 302.2603,-174.5504\"/>\n",
       "</g>\n",
       "<!-- 41 -->\n",
       "<g id=\"node42\" class=\"node\">\n",
       "<title>41</title>\n",
       "<text text-anchor=\"middle\" x=\"356\" y=\"-156.8\" font-family=\"Times,serif\" font-size=\"14.00\" fill=\"#000000\">&lt;integer&gt;</text>\n",
       "</g>\n",
       "<!-- 38&#45;&gt;41 -->\n",
       "<g id=\"edge41\" class=\"edge\">\n",
       "<title>38&#45;&gt;41</title>\n",
       "<path fill=\"none\" stroke=\"#000000\" d=\"M327.0168,-203.9748C331.838,-196.743 339.2754,-185.5868 345.4089,-176.3866\"/>\n",
       "<polygon fill=\"#000000\" stroke=\"#000000\" points=\"348.3277,-178.3181 350.9626,-168.0561 342.5034,-174.4352 348.3277,-178.3181\"/>\n",
       "</g>\n",
       "<!-- 40 -->\n",
       "<g id=\"node41\" class=\"node\">\n",
       "<title>40</title>\n",
       "<text text-anchor=\"middle\" x=\"289\" y=\"-105.8\" font-family=\"Times,serif\" font-size=\"14.00\" fill=\"#000000\">0</text>\n",
       "</g>\n",
       "<!-- 39&#45;&gt;40 -->\n",
       "<g id=\"edge40\" class=\"edge\">\n",
       "<title>39&#45;&gt;40</title>\n",
       "<path fill=\"none\" stroke=\"#000000\" d=\"M289,-152.9748C289,-146.195 289,-135.966 289,-127.1331\"/>\n",
       "<polygon fill=\"#000000\" stroke=\"#000000\" points=\"292.5001,-127.0561 289,-117.0561 285.5001,-127.0561 292.5001,-127.0561\"/>\n",
       "</g>\n",
       "<!-- 42 -->\n",
       "<g id=\"node43\" class=\"node\">\n",
       "<title>42</title>\n",
       "<text text-anchor=\"middle\" x=\"356\" y=\"-105.8\" font-family=\"Times,serif\" font-size=\"14.00\" fill=\"#000000\">&lt;digit&gt;</text>\n",
       "</g>\n",
       "<!-- 41&#45;&gt;42 -->\n",
       "<g id=\"edge42\" class=\"edge\">\n",
       "<title>41&#45;&gt;42</title>\n",
       "<path fill=\"none\" stroke=\"#000000\" d=\"M356,-152.9748C356,-146.195 356,-135.966 356,-127.1331\"/>\n",
       "<polygon fill=\"#000000\" stroke=\"#000000\" points=\"359.5001,-127.0561 356,-117.0561 352.5001,-127.0561 359.5001,-127.0561\"/>\n",
       "</g>\n",
       "<!-- 43 -->\n",
       "<g id=\"node44\" class=\"node\">\n",
       "<title>43</title>\n",
       "<text text-anchor=\"middle\" x=\"356\" y=\"-54.8\" font-family=\"Times,serif\" font-size=\"14.00\" fill=\"#000000\">9</text>\n",
       "</g>\n",
       "<!-- 42&#45;&gt;43 -->\n",
       "<g id=\"edge43\" class=\"edge\">\n",
       "<title>42&#45;&gt;43</title>\n",
       "<path fill=\"none\" stroke=\"#000000\" d=\"M356,-101.9748C356,-95.195 356,-84.966 356,-76.1331\"/>\n",
       "<polygon fill=\"#000000\" stroke=\"#000000\" points=\"359.5001,-76.0561 356,-66.0561 352.5001,-76.0561 359.5001,-76.0561\"/>\n",
       "</g>\n",
       "<!-- 46 -->\n",
       "<g id=\"node47\" class=\"node\">\n",
       "<title>46</title>\n",
       "<text text-anchor=\"middle\" x=\"501\" y=\"-258.8\" font-family=\"Times,serif\" font-size=\"14.00\" fill=\"#000000\">&lt;term&gt;</text>\n",
       "</g>\n",
       "<!-- 45&#45;&gt;46 -->\n",
       "<g id=\"edge46\" class=\"edge\">\n",
       "<title>45&#45;&gt;46</title>\n",
       "<path fill=\"none\" stroke=\"#000000\" d=\"M404.6735,-305.9748C423.2006,-297.613 453.3523,-284.0047 474.9886,-274.2397\"/>\n",
       "<polygon fill=\"#000000\" stroke=\"#000000\" points=\"476.5832,-277.36 484.2581,-270.0561 473.7035,-270.9797 476.5832,-277.36\"/>\n",
       "</g>\n",
       "<!-- 47 -->\n",
       "<g id=\"node48\" class=\"node\">\n",
       "<title>47</title>\n",
       "<text text-anchor=\"middle\" x=\"477\" y=\"-207.8\" font-family=\"Times,serif\" font-size=\"14.00\" fill=\"#000000\">&lt;factor&gt;</text>\n",
       "</g>\n",
       "<!-- 46&#45;&gt;47 -->\n",
       "<g id=\"edge47\" class=\"edge\">\n",
       "<title>46&#45;&gt;47</title>\n",
       "<path fill=\"none\" stroke=\"#000000\" d=\"M497.4587,-254.9748C494.1619,-247.969 489.1319,-237.2803 484.8845,-228.2547\"/>\n",
       "<polygon fill=\"#000000\" stroke=\"#000000\" points=\"487.9807,-226.614 480.5558,-219.0561 481.647,-229.5946 487.9807,-226.614\"/>\n",
       "</g>\n",
       "<!-- 55 -->\n",
       "<g id=\"node56\" class=\"node\">\n",
       "<title>55</title>\n",
       "<text text-anchor=\"middle\" x=\"525\" y=\"-207.8\" font-family=\"Times,serif\" font-size=\"14.00\" fill=\"#000000\"> / </text>\n",
       "</g>\n",
       "<!-- 46&#45;&gt;55 -->\n",
       "<g id=\"edge55\" class=\"edge\">\n",
       "<title>46&#45;&gt;55</title>\n",
       "<path fill=\"none\" stroke=\"#000000\" d=\"M504.5413,-254.9748C507.8381,-247.969 512.8681,-237.2803 517.1155,-228.2547\"/>\n",
       "<polygon fill=\"#000000\" stroke=\"#000000\" points=\"520.353,-229.5946 521.4442,-219.0561 514.0193,-226.614 520.353,-229.5946\"/>\n",
       "</g>\n",
       "<!-- 56 -->\n",
       "<g id=\"node57\" class=\"node\">\n",
       "<title>56</title>\n",
       "<text text-anchor=\"middle\" x=\"585\" y=\"-207.8\" font-family=\"Times,serif\" font-size=\"14.00\" fill=\"#000000\">&lt;term&gt;</text>\n",
       "</g>\n",
       "<!-- 46&#45;&gt;56 -->\n",
       "<g id=\"edge56\" class=\"edge\">\n",
       "<title>46&#45;&gt;56</title>\n",
       "<path fill=\"none\" stroke=\"#000000\" d=\"M513.3945,-254.9748C526.6705,-246.9143 547.9763,-233.9787 563.9014,-224.3099\"/>\n",
       "<polygon fill=\"#000000\" stroke=\"#000000\" points=\"565.8232,-227.2377 572.5547,-219.0561 562.1903,-221.2542 565.8232,-227.2377\"/>\n",
       "</g>\n",
       "<!-- 48 -->\n",
       "<g id=\"node49\" class=\"node\">\n",
       "<title>48</title>\n",
       "<text text-anchor=\"middle\" x=\"429\" y=\"-156.8\" font-family=\"Times,serif\" font-size=\"14.00\" fill=\"#000000\">&lt;integer&gt;</text>\n",
       "</g>\n",
       "<!-- 47&#45;&gt;48 -->\n",
       "<g id=\"edge48\" class=\"edge\">\n",
       "<title>47&#45;&gt;48</title>\n",
       "<path fill=\"none\" stroke=\"#000000\" d=\"M469.9174,-203.9748C462.8983,-196.517 451.9513,-184.8857 443.1459,-175.53\"/>\n",
       "<polygon fill=\"#000000\" stroke=\"#000000\" points=\"445.514,-172.9393 436.1116,-168.0561 440.4166,-177.7369 445.514,-172.9393\"/>\n",
       "</g>\n",
       "<!-- 51 -->\n",
       "<g id=\"node52\" class=\"node\">\n",
       "<title>51</title>\n",
       "<text text-anchor=\"middle\" x=\"477\" y=\"-156.8\" font-family=\"Times,serif\" font-size=\"14.00\" fill=\"#000000\">.</text>\n",
       "</g>\n",
       "<!-- 47&#45;&gt;51 -->\n",
       "<g id=\"edge51\" class=\"edge\">\n",
       "<title>47&#45;&gt;51</title>\n",
       "<path fill=\"none\" stroke=\"#000000\" d=\"M477,-203.9748C477,-197.195 477,-186.966 477,-178.1331\"/>\n",
       "<polygon fill=\"#000000\" stroke=\"#000000\" points=\"480.5001,-178.0561 477,-168.0561 473.5001,-178.0561 480.5001,-178.0561\"/>\n",
       "</g>\n",
       "<!-- 52 -->\n",
       "<g id=\"node53\" class=\"node\">\n",
       "<title>52</title>\n",
       "<text text-anchor=\"middle\" x=\"525\" y=\"-156.8\" font-family=\"Times,serif\" font-size=\"14.00\" fill=\"#000000\">&lt;integer&gt;</text>\n",
       "</g>\n",
       "<!-- 47&#45;&gt;52 -->\n",
       "<g id=\"edge52\" class=\"edge\">\n",
       "<title>47&#45;&gt;52</title>\n",
       "<path fill=\"none\" stroke=\"#000000\" d=\"M484.0826,-203.9748C491.1017,-196.517 502.0487,-184.8857 510.8541,-175.53\"/>\n",
       "<polygon fill=\"#000000\" stroke=\"#000000\" points=\"513.5834,-177.7369 517.8884,-168.0561 508.486,-172.9393 513.5834,-177.7369\"/>\n",
       "</g>\n",
       "<!-- 49 -->\n",
       "<g id=\"node50\" class=\"node\">\n",
       "<title>49</title>\n",
       "<text text-anchor=\"middle\" x=\"429\" y=\"-105.8\" font-family=\"Times,serif\" font-size=\"14.00\" fill=\"#000000\">&lt;digit&gt;</text>\n",
       "</g>\n",
       "<!-- 48&#45;&gt;49 -->\n",
       "<g id=\"edge49\" class=\"edge\">\n",
       "<title>48&#45;&gt;49</title>\n",
       "<path fill=\"none\" stroke=\"#000000\" d=\"M429,-152.9748C429,-146.195 429,-135.966 429,-127.1331\"/>\n",
       "<polygon fill=\"#000000\" stroke=\"#000000\" points=\"432.5001,-127.0561 429,-117.0561 425.5001,-127.0561 432.5001,-127.0561\"/>\n",
       "</g>\n",
       "<!-- 50 -->\n",
       "<g id=\"node51\" class=\"node\">\n",
       "<title>50</title>\n",
       "<text text-anchor=\"middle\" x=\"429\" y=\"-54.8\" font-family=\"Times,serif\" font-size=\"14.00\" fill=\"#000000\">3</text>\n",
       "</g>\n",
       "<!-- 49&#45;&gt;50 -->\n",
       "<g id=\"edge50\" class=\"edge\">\n",
       "<title>49&#45;&gt;50</title>\n",
       "<path fill=\"none\" stroke=\"#000000\" d=\"M429,-101.9748C429,-95.195 429,-84.966 429,-76.1331\"/>\n",
       "<polygon fill=\"#000000\" stroke=\"#000000\" points=\"432.5001,-76.0561 429,-66.0561 425.5001,-76.0561 432.5001,-76.0561\"/>\n",
       "</g>\n",
       "<!-- 53 -->\n",
       "<g id=\"node54\" class=\"node\">\n",
       "<title>53</title>\n",
       "<text text-anchor=\"middle\" x=\"525\" y=\"-105.8\" font-family=\"Times,serif\" font-size=\"14.00\" fill=\"#000000\">&lt;digit&gt;</text>\n",
       "</g>\n",
       "<!-- 52&#45;&gt;53 -->\n",
       "<g id=\"edge53\" class=\"edge\">\n",
       "<title>52&#45;&gt;53</title>\n",
       "<path fill=\"none\" stroke=\"#000000\" d=\"M525,-152.9748C525,-146.195 525,-135.966 525,-127.1331\"/>\n",
       "<polygon fill=\"#000000\" stroke=\"#000000\" points=\"528.5001,-127.0561 525,-117.0561 521.5001,-127.0561 528.5001,-127.0561\"/>\n",
       "</g>\n",
       "<!-- 54 -->\n",
       "<g id=\"node55\" class=\"node\">\n",
       "<title>54</title>\n",
       "<text text-anchor=\"middle\" x=\"525\" y=\"-54.8\" font-family=\"Times,serif\" font-size=\"14.00\" fill=\"#000000\">4</text>\n",
       "</g>\n",
       "<!-- 53&#45;&gt;54 -->\n",
       "<g id=\"edge54\" class=\"edge\">\n",
       "<title>53&#45;&gt;54</title>\n",
       "<path fill=\"none\" stroke=\"#000000\" d=\"M525,-101.9748C525,-95.195 525,-84.966 525,-76.1331\"/>\n",
       "<polygon fill=\"#000000\" stroke=\"#000000\" points=\"528.5001,-76.0561 525,-66.0561 521.5001,-76.0561 528.5001,-76.0561\"/>\n",
       "</g>\n",
       "<!-- 57 -->\n",
       "<g id=\"node58\" class=\"node\">\n",
       "<title>57</title>\n",
       "<text text-anchor=\"middle\" x=\"595\" y=\"-156.8\" font-family=\"Times,serif\" font-size=\"14.00\" fill=\"#000000\">&lt;factor&gt;</text>\n",
       "</g>\n",
       "<!-- 56&#45;&gt;57 -->\n",
       "<g id=\"edge57\" class=\"edge\">\n",
       "<title>56&#45;&gt;57</title>\n",
       "<path fill=\"none\" stroke=\"#000000\" d=\"M586.4755,-203.9748C587.8049,-197.195 589.8106,-186.966 591.5425,-178.1331\"/>\n",
       "<polygon fill=\"#000000\" stroke=\"#000000\" points=\"595.0288,-178.5427 593.5184,-168.0561 588.1596,-177.1958 595.0288,-178.5427\"/>\n",
       "</g>\n",
       "<!-- 58 -->\n",
       "<g id=\"node59\" class=\"node\">\n",
       "<title>58</title>\n",
       "<text text-anchor=\"middle\" x=\"595\" y=\"-105.8\" font-family=\"Times,serif\" font-size=\"14.00\" fill=\"#000000\">&lt;integer&gt;</text>\n",
       "</g>\n",
       "<!-- 57&#45;&gt;58 -->\n",
       "<g id=\"edge58\" class=\"edge\">\n",
       "<title>57&#45;&gt;58</title>\n",
       "<path fill=\"none\" stroke=\"#000000\" d=\"M595,-152.9748C595,-146.195 595,-135.966 595,-127.1331\"/>\n",
       "<polygon fill=\"#000000\" stroke=\"#000000\" points=\"598.5001,-127.0561 595,-117.0561 591.5001,-127.0561 598.5001,-127.0561\"/>\n",
       "</g>\n",
       "<!-- 59 -->\n",
       "<g id=\"node60\" class=\"node\">\n",
       "<title>59</title>\n",
       "<text text-anchor=\"middle\" x=\"595\" y=\"-54.8\" font-family=\"Times,serif\" font-size=\"14.00\" fill=\"#000000\">&lt;digit&gt;</text>\n",
       "</g>\n",
       "<!-- 58&#45;&gt;59 -->\n",
       "<g id=\"edge59\" class=\"edge\">\n",
       "<title>58&#45;&gt;59</title>\n",
       "<path fill=\"none\" stroke=\"#000000\" d=\"M595,-101.9748C595,-95.195 595,-84.966 595,-76.1331\"/>\n",
       "<polygon fill=\"#000000\" stroke=\"#000000\" points=\"598.5001,-76.0561 595,-66.0561 591.5001,-76.0561 598.5001,-76.0561\"/>\n",
       "</g>\n",
       "<!-- 60 -->\n",
       "<g id=\"node61\" class=\"node\">\n",
       "<title>60</title>\n",
       "<text text-anchor=\"middle\" x=\"595\" y=\"-3.8\" font-family=\"Times,serif\" font-size=\"14.00\" fill=\"#000000\">8</text>\n",
       "</g>\n",
       "<!-- 59&#45;&gt;60 -->\n",
       "<g id=\"edge60\" class=\"edge\">\n",
       "<title>59&#45;&gt;60</title>\n",
       "<path fill=\"none\" stroke=\"#000000\" d=\"M595,-50.9748C595,-44.195 595,-33.966 595,-25.1331\"/>\n",
       "<polygon fill=\"#000000\" stroke=\"#000000\" points=\"598.5001,-25.0561 595,-15.0561 591.5001,-25.0561 598.5001,-25.0561\"/>\n",
       "</g>\n",
       "<!-- 64 -->\n",
       "<g id=\"node65\" class=\"node\">\n",
       "<title>64</title>\n",
       "<text text-anchor=\"middle\" x=\"452\" y=\"-564.8\" font-family=\"Times,serif\" font-size=\"14.00\" fill=\"#000000\">&lt;term&gt;</text>\n",
       "</g>\n",
       "<!-- 63&#45;&gt;64 -->\n",
       "<g id=\"edge64\" class=\"edge\">\n",
       "<title>63&#45;&gt;64</title>\n",
       "<path fill=\"none\" stroke=\"#000000\" d=\"M470.7538,-611.9748C467.7317,-604.969 463.1209,-594.2803 459.2275,-585.2547\"/>\n",
       "<polygon fill=\"#000000\" stroke=\"#000000\" points=\"462.4342,-583.8519 455.2595,-576.0561 456.0067,-586.6246 462.4342,-583.8519\"/>\n",
       "</g>\n",
       "<!-- 78 -->\n",
       "<g id=\"node79\" class=\"node\">\n",
       "<title>78</title>\n",
       "<text text-anchor=\"middle\" x=\"497\" y=\"-564.8\" font-family=\"Times,serif\" font-size=\"14.00\" fill=\"#000000\"> &#45; </text>\n",
       "</g>\n",
       "<!-- 63&#45;&gt;78 -->\n",
       "<g id=\"edge78\" class=\"edge\">\n",
       "<title>63&#45;&gt;78</title>\n",
       "<path fill=\"none\" stroke=\"#000000\" d=\"M477.3937,-611.9748C480.5532,-604.969 485.3736,-594.2803 489.444,-585.2547\"/>\n",
       "<polygon fill=\"#000000\" stroke=\"#000000\" points=\"492.6718,-586.6109 493.5923,-576.0561 486.2907,-583.7331 492.6718,-586.6109\"/>\n",
       "</g>\n",
       "<!-- 79 -->\n",
       "<g id=\"node80\" class=\"node\">\n",
       "<title>79</title>\n",
       "<text text-anchor=\"middle\" x=\"605\" y=\"-564.8\" font-family=\"Times,serif\" font-size=\"14.00\" fill=\"#000000\">&lt;expr&gt;</text>\n",
       "</g>\n",
       "<!-- 63&#45;&gt;79 -->\n",
       "<g id=\"edge79\" class=\"edge\">\n",
       "<title>63&#45;&gt;79</title>\n",
       "<path fill=\"none\" stroke=\"#000000\" d=\"M493.3295,-611.9748C515.1947,-603.4624 551.0264,-589.5126 576.1913,-579.7156\"/>\n",
       "<polygon fill=\"#000000\" stroke=\"#000000\" points=\"577.5423,-582.9456 585.5912,-576.0561 575.0027,-576.4225 577.5423,-582.9456\"/>\n",
       "</g>\n",
       "<!-- 65 -->\n",
       "<g id=\"node66\" class=\"node\">\n",
       "<title>65</title>\n",
       "<text text-anchor=\"middle\" x=\"452\" y=\"-513.8\" font-family=\"Times,serif\" font-size=\"14.00\" fill=\"#000000\">&lt;factor&gt;</text>\n",
       "</g>\n",
       "<!-- 64&#45;&gt;65 -->\n",
       "<g id=\"edge65\" class=\"edge\">\n",
       "<title>64&#45;&gt;65</title>\n",
       "<path fill=\"none\" stroke=\"#000000\" d=\"M452,-560.9748C452,-554.195 452,-543.966 452,-535.1331\"/>\n",
       "<polygon fill=\"#000000\" stroke=\"#000000\" points=\"455.5001,-535.0561 452,-525.0561 448.5001,-535.0561 455.5001,-535.0561\"/>\n",
       "</g>\n",
       "<!-- 66 -->\n",
       "<g id=\"node67\" class=\"node\">\n",
       "<title>66</title>\n",
       "<text text-anchor=\"middle\" x=\"429\" y=\"-462.8\" font-family=\"Times,serif\" font-size=\"14.00\" fill=\"#000000\">+</text>\n",
       "</g>\n",
       "<!-- 65&#45;&gt;66 -->\n",
       "<g id=\"edge66\" class=\"edge\">\n",
       "<title>65&#45;&gt;66</title>\n",
       "<path fill=\"none\" stroke=\"#000000\" d=\"M448.6063,-509.9748C445.4468,-502.969 440.6264,-492.2803 436.556,-483.2547\"/>\n",
       "<polygon fill=\"#000000\" stroke=\"#000000\" points=\"439.7093,-481.7331 432.4077,-474.0561 433.3282,-484.6109 439.7093,-481.7331\"/>\n",
       "</g>\n",
       "<!-- 67 -->\n",
       "<g id=\"node68\" class=\"node\">\n",
       "<title>67</title>\n",
       "<text text-anchor=\"middle\" x=\"476\" y=\"-462.8\" font-family=\"Times,serif\" font-size=\"14.00\" fill=\"#000000\">&lt;factor&gt;</text>\n",
       "</g>\n",
       "<!-- 65&#45;&gt;67 -->\n",
       "<g id=\"edge67\" class=\"edge\">\n",
       "<title>65&#45;&gt;67</title>\n",
       "<path fill=\"none\" stroke=\"#000000\" d=\"M455.5413,-509.9748C458.8381,-502.969 463.8681,-492.2803 468.1155,-483.2547\"/>\n",
       "<polygon fill=\"#000000\" stroke=\"#000000\" points=\"471.353,-484.5946 472.4442,-474.0561 465.0193,-481.614 471.353,-484.5946\"/>\n",
       "</g>\n",
       "<!-- 68 -->\n",
       "<g id=\"node69\" class=\"node\">\n",
       "<title>68</title>\n",
       "<text text-anchor=\"middle\" x=\"428\" y=\"-411.8\" font-family=\"Times,serif\" font-size=\"14.00\" fill=\"#000000\">&lt;integer&gt;</text>\n",
       "</g>\n",
       "<!-- 67&#45;&gt;68 -->\n",
       "<g id=\"edge68\" class=\"edge\">\n",
       "<title>67&#45;&gt;68</title>\n",
       "<path fill=\"none\" stroke=\"#000000\" d=\"M468.9174,-458.9748C461.8983,-451.517 450.9513,-439.8857 442.1459,-430.53\"/>\n",
       "<polygon fill=\"#000000\" stroke=\"#000000\" points=\"444.514,-427.9393 435.1116,-423.0561 439.4166,-432.7369 444.514,-427.9393\"/>\n",
       "</g>\n",
       "<!-- 71 -->\n",
       "<g id=\"node72\" class=\"node\">\n",
       "<title>71</title>\n",
       "<text text-anchor=\"middle\" x=\"476\" y=\"-411.8\" font-family=\"Times,serif\" font-size=\"14.00\" fill=\"#000000\">.</text>\n",
       "</g>\n",
       "<!-- 67&#45;&gt;71 -->\n",
       "<g id=\"edge71\" class=\"edge\">\n",
       "<title>67&#45;&gt;71</title>\n",
       "<path fill=\"none\" stroke=\"#000000\" d=\"M476,-458.9748C476,-452.195 476,-441.966 476,-433.1331\"/>\n",
       "<polygon fill=\"#000000\" stroke=\"#000000\" points=\"479.5001,-433.0561 476,-423.0561 472.5001,-433.0561 479.5001,-433.0561\"/>\n",
       "</g>\n",
       "<!-- 72 -->\n",
       "<g id=\"node73\" class=\"node\">\n",
       "<title>72</title>\n",
       "<text text-anchor=\"middle\" x=\"524\" y=\"-411.8\" font-family=\"Times,serif\" font-size=\"14.00\" fill=\"#000000\">&lt;integer&gt;</text>\n",
       "</g>\n",
       "<!-- 67&#45;&gt;72 -->\n",
       "<g id=\"edge72\" class=\"edge\">\n",
       "<title>67&#45;&gt;72</title>\n",
       "<path fill=\"none\" stroke=\"#000000\" d=\"M483.0826,-458.9748C490.1017,-451.517 501.0487,-439.8857 509.8541,-430.53\"/>\n",
       "<polygon fill=\"#000000\" stroke=\"#000000\" points=\"512.5834,-432.7369 516.8884,-423.0561 507.486,-427.9393 512.5834,-432.7369\"/>\n",
       "</g>\n",
       "<!-- 69 -->\n",
       "<g id=\"node70\" class=\"node\">\n",
       "<title>69</title>\n",
       "<text text-anchor=\"middle\" x=\"428\" y=\"-360.8\" font-family=\"Times,serif\" font-size=\"14.00\" fill=\"#000000\">&lt;digit&gt;</text>\n",
       "</g>\n",
       "<!-- 68&#45;&gt;69 -->\n",
       "<g id=\"edge69\" class=\"edge\">\n",
       "<title>68&#45;&gt;69</title>\n",
       "<path fill=\"none\" stroke=\"#000000\" d=\"M428,-407.9748C428,-401.195 428,-390.966 428,-382.1331\"/>\n",
       "<polygon fill=\"#000000\" stroke=\"#000000\" points=\"431.5001,-382.0561 428,-372.0561 424.5001,-382.0561 431.5001,-382.0561\"/>\n",
       "</g>\n",
       "<!-- 70 -->\n",
       "<g id=\"node71\" class=\"node\">\n",
       "<title>70</title>\n",
       "<text text-anchor=\"middle\" x=\"431\" y=\"-309.8\" font-family=\"Times,serif\" font-size=\"14.00\" fill=\"#000000\">9</text>\n",
       "</g>\n",
       "<!-- 69&#45;&gt;70 -->\n",
       "<g id=\"edge70\" class=\"edge\">\n",
       "<title>69&#45;&gt;70</title>\n",
       "<path fill=\"none\" stroke=\"#000000\" d=\"M428.4427,-356.9748C428.8415,-350.195 429.4432,-339.966 429.9628,-331.1331\"/>\n",
       "<polygon fill=\"#000000\" stroke=\"#000000\" points=\"433.4622,-331.2444 430.5555,-321.0561 426.4742,-330.8333 433.4622,-331.2444\"/>\n",
       "</g>\n",
       "<!-- 73 -->\n",
       "<g id=\"node74\" class=\"node\">\n",
       "<title>73</title>\n",
       "<text text-anchor=\"middle\" x=\"488\" y=\"-360.8\" font-family=\"Times,serif\" font-size=\"14.00\" fill=\"#000000\">&lt;digit&gt;</text>\n",
       "</g>\n",
       "<!-- 72&#45;&gt;73 -->\n",
       "<g id=\"edge73\" class=\"edge\">\n",
       "<title>72&#45;&gt;73</title>\n",
       "<path fill=\"none\" stroke=\"#000000\" d=\"M518.6881,-407.9748C513.5833,-400.743 505.7084,-389.5868 499.2141,-380.3866\"/>\n",
       "<polygon fill=\"#000000\" stroke=\"#000000\" points=\"501.96,-378.2074 493.3337,-372.0561 496.2412,-382.2442 501.96,-378.2074\"/>\n",
       "</g>\n",
       "<!-- 75 -->\n",
       "<g id=\"node76\" class=\"node\">\n",
       "<title>75</title>\n",
       "<text text-anchor=\"middle\" x=\"555\" y=\"-360.8\" font-family=\"Times,serif\" font-size=\"14.00\" fill=\"#000000\">&lt;integer&gt;</text>\n",
       "</g>\n",
       "<!-- 72&#45;&gt;75 -->\n",
       "<g id=\"edge75\" class=\"edge\">\n",
       "<title>72&#45;&gt;75</title>\n",
       "<path fill=\"none\" stroke=\"#000000\" d=\"M528.5742,-407.9748C532.9242,-400.8183 539.6101,-389.8188 545.1683,-380.6747\"/>\n",
       "<polygon fill=\"#000000\" stroke=\"#000000\" points=\"548.2037,-382.4193 550.4071,-372.0561 542.222,-378.7834 548.2037,-382.4193\"/>\n",
       "</g>\n",
       "<!-- 74 -->\n",
       "<g id=\"node75\" class=\"node\">\n",
       "<title>74</title>\n",
       "<text text-anchor=\"middle\" x=\"488\" y=\"-309.8\" font-family=\"Times,serif\" font-size=\"14.00\" fill=\"#000000\">6</text>\n",
       "</g>\n",
       "<!-- 73&#45;&gt;74 -->\n",
       "<g id=\"edge74\" class=\"edge\">\n",
       "<title>73&#45;&gt;74</title>\n",
       "<path fill=\"none\" stroke=\"#000000\" d=\"M488,-356.9748C488,-350.195 488,-339.966 488,-331.1331\"/>\n",
       "<polygon fill=\"#000000\" stroke=\"#000000\" points=\"491.5001,-331.0561 488,-321.0561 484.5001,-331.0561 491.5001,-331.0561\"/>\n",
       "</g>\n",
       "<!-- 76 -->\n",
       "<g id=\"node77\" class=\"node\">\n",
       "<title>76</title>\n",
       "<text text-anchor=\"middle\" x=\"555\" y=\"-309.8\" font-family=\"Times,serif\" font-size=\"14.00\" fill=\"#000000\">&lt;digit&gt;</text>\n",
       "</g>\n",
       "<!-- 75&#45;&gt;76 -->\n",
       "<g id=\"edge76\" class=\"edge\">\n",
       "<title>75&#45;&gt;76</title>\n",
       "<path fill=\"none\" stroke=\"#000000\" d=\"M555,-356.9748C555,-350.195 555,-339.966 555,-331.1331\"/>\n",
       "<polygon fill=\"#000000\" stroke=\"#000000\" points=\"558.5001,-331.0561 555,-321.0561 551.5001,-331.0561 558.5001,-331.0561\"/>\n",
       "</g>\n",
       "<!-- 77 -->\n",
       "<g id=\"node78\" class=\"node\">\n",
       "<title>77</title>\n",
       "<text text-anchor=\"middle\" x=\"555\" y=\"-258.8\" font-family=\"Times,serif\" font-size=\"14.00\" fill=\"#000000\">6</text>\n",
       "</g>\n",
       "<!-- 76&#45;&gt;77 -->\n",
       "<g id=\"edge77\" class=\"edge\">\n",
       "<title>76&#45;&gt;77</title>\n",
       "<path fill=\"none\" stroke=\"#000000\" d=\"M555,-305.9748C555,-299.195 555,-288.966 555,-280.1331\"/>\n",
       "<polygon fill=\"#000000\" stroke=\"#000000\" points=\"558.5001,-280.0561 555,-270.0561 551.5001,-280.0561 558.5001,-280.0561\"/>\n",
       "</g>\n",
       "<!-- 80 -->\n",
       "<g id=\"node81\" class=\"node\">\n",
       "<title>80</title>\n",
       "<text text-anchor=\"middle\" x=\"582\" y=\"-513.8\" font-family=\"Times,serif\" font-size=\"14.00\" fill=\"#000000\">&lt;term&gt;</text>\n",
       "</g>\n",
       "<!-- 79&#45;&gt;80 -->\n",
       "<g id=\"edge80\" class=\"edge\">\n",
       "<title>79&#45;&gt;80</title>\n",
       "<path fill=\"none\" stroke=\"#000000\" d=\"M601.6063,-560.9748C598.4468,-553.969 593.6264,-543.2803 589.556,-534.2547\"/>\n",
       "<polygon fill=\"#000000\" stroke=\"#000000\" points=\"592.7093,-532.7331 585.4077,-525.0561 586.3282,-535.6109 592.7093,-532.7331\"/>\n",
       "</g>\n",
       "<!-- 91 -->\n",
       "<g id=\"node92\" class=\"node\">\n",
       "<title>91</title>\n",
       "<text text-anchor=\"middle\" x=\"629\" y=\"-513.8\" font-family=\"Times,serif\" font-size=\"14.00\" fill=\"#000000\"> + </text>\n",
       "</g>\n",
       "<!-- 79&#45;&gt;91 -->\n",
       "<g id=\"edge91\" class=\"edge\">\n",
       "<title>79&#45;&gt;91</title>\n",
       "<path fill=\"none\" stroke=\"#000000\" d=\"M608.5413,-560.9748C611.8381,-553.969 616.8681,-543.2803 621.1155,-534.2547\"/>\n",
       "<polygon fill=\"#000000\" stroke=\"#000000\" points=\"624.353,-535.5946 625.4442,-525.0561 618.0193,-532.614 624.353,-535.5946\"/>\n",
       "</g>\n",
       "<!-- 92 -->\n",
       "<g id=\"node93\" class=\"node\">\n",
       "<title>92</title>\n",
       "<text text-anchor=\"middle\" x=\"688\" y=\"-513.8\" font-family=\"Times,serif\" font-size=\"14.00\" fill=\"#000000\">&lt;expr&gt;</text>\n",
       "</g>\n",
       "<!-- 79&#45;&gt;92 -->\n",
       "<g id=\"edge92\" class=\"edge\">\n",
       "<title>79&#45;&gt;92</title>\n",
       "<path fill=\"none\" stroke=\"#000000\" d=\"M617.2469,-560.9748C630.3649,-552.9143 651.417,-539.9787 667.1525,-530.3099\"/>\n",
       "<polygon fill=\"#000000\" stroke=\"#000000\" points=\"669.0151,-533.2734 675.7028,-525.0561 665.3503,-527.3094 669.0151,-533.2734\"/>\n",
       "</g>\n",
       "<!-- 81 -->\n",
       "<g id=\"node82\" class=\"node\">\n",
       "<title>81</title>\n",
       "<text text-anchor=\"middle\" x=\"582\" y=\"-462.8\" font-family=\"Times,serif\" font-size=\"14.00\" fill=\"#000000\">&lt;factor&gt;</text>\n",
       "</g>\n",
       "<!-- 80&#45;&gt;81 -->\n",
       "<g id=\"edge81\" class=\"edge\">\n",
       "<title>80&#45;&gt;81</title>\n",
       "<path fill=\"none\" stroke=\"#000000\" d=\"M582,-509.9748C582,-503.195 582,-492.966 582,-484.1331\"/>\n",
       "<polygon fill=\"#000000\" stroke=\"#000000\" points=\"585.5001,-484.0561 582,-474.0561 578.5001,-484.0561 585.5001,-484.0561\"/>\n",
       "</g>\n",
       "<!-- 82 -->\n",
       "<g id=\"node83\" class=\"node\">\n",
       "<title>82</title>\n",
       "<text text-anchor=\"middle\" x=\"575\" y=\"-411.8\" font-family=\"Times,serif\" font-size=\"14.00\" fill=\"#000000\">&#45;</text>\n",
       "</g>\n",
       "<!-- 81&#45;&gt;82 -->\n",
       "<g id=\"edge82\" class=\"edge\">\n",
       "<title>81&#45;&gt;82</title>\n",
       "<path fill=\"none\" stroke=\"#000000\" d=\"M580.9671,-458.9748C580.0366,-452.195 578.6326,-441.966 577.4202,-433.1331\"/>\n",
       "<polygon fill=\"#000000\" stroke=\"#000000\" points=\"580.8645,-432.4873 576.0371,-423.0561 573.9295,-433.4392 580.8645,-432.4873\"/>\n",
       "</g>\n",
       "<!-- 83 -->\n",
       "<g id=\"node84\" class=\"node\">\n",
       "<title>83</title>\n",
       "<text text-anchor=\"middle\" x=\"620\" y=\"-411.8\" font-family=\"Times,serif\" font-size=\"14.00\" fill=\"#000000\">&lt;factor&gt;</text>\n",
       "</g>\n",
       "<!-- 81&#45;&gt;83 -->\n",
       "<g id=\"edge83\" class=\"edge\">\n",
       "<title>81&#45;&gt;83</title>\n",
       "<path fill=\"none\" stroke=\"#000000\" d=\"M587.607,-458.9748C593.0516,-451.6677 601.4813,-440.354 608.3767,-431.0997\"/>\n",
       "<polygon fill=\"#000000\" stroke=\"#000000\" points=\"611.2017,-433.1661 614.37,-423.0561 605.5885,-428.9837 611.2017,-433.1661\"/>\n",
       "</g>\n",
       "<!-- 84 -->\n",
       "<g id=\"node85\" class=\"node\">\n",
       "<title>84</title>\n",
       "<text text-anchor=\"middle\" x=\"603\" y=\"-360.8\" font-family=\"Times,serif\" font-size=\"14.00\" fill=\"#000000\">&#45;</text>\n",
       "</g>\n",
       "<!-- 83&#45;&gt;84 -->\n",
       "<g id=\"edge84\" class=\"edge\">\n",
       "<title>83&#45;&gt;84</title>\n",
       "<path fill=\"none\" stroke=\"#000000\" d=\"M617.4916,-407.9748C615.1814,-401.0443 611.6699,-390.5097 608.6821,-381.5464\"/>\n",
       "<polygon fill=\"#000000\" stroke=\"#000000\" points=\"612.0014,-380.4361 605.5187,-372.0561 605.3607,-382.6498 612.0014,-380.4361\"/>\n",
       "</g>\n",
       "<!-- 85 -->\n",
       "<g id=\"node86\" class=\"node\">\n",
       "<title>85</title>\n",
       "<text text-anchor=\"middle\" x=\"648\" y=\"-360.8\" font-family=\"Times,serif\" font-size=\"14.00\" fill=\"#000000\">&lt;factor&gt;</text>\n",
       "</g>\n",
       "<!-- 83&#45;&gt;85 -->\n",
       "<g id=\"edge85\" class=\"edge\">\n",
       "<title>83&#45;&gt;85</title>\n",
       "<path fill=\"none\" stroke=\"#000000\" d=\"M624.1315,-407.9748C628.0192,-400.8936 633.9726,-390.05 638.9609,-380.9641\"/>\n",
       "<polygon fill=\"#000000\" stroke=\"#000000\" points=\"642.1069,-382.5063 643.8516,-372.0561 635.9709,-379.1375 642.1069,-382.5063\"/>\n",
       "</g>\n",
       "<!-- 86 -->\n",
       "<g id=\"node87\" class=\"node\">\n",
       "<title>86</title>\n",
       "<text text-anchor=\"middle\" x=\"604\" y=\"-309.8\" font-family=\"Times,serif\" font-size=\"14.00\" fill=\"#000000\">+</text>\n",
       "</g>\n",
       "<!-- 85&#45;&gt;86 -->\n",
       "<g id=\"edge86\" class=\"edge\">\n",
       "<title>85&#45;&gt;86</title>\n",
       "<path fill=\"none\" stroke=\"#000000\" d=\"M641.5076,-356.9748C634.4796,-348.8286 623.1555,-335.703 614.7865,-326.0025\"/>\n",
       "<polygon fill=\"#000000\" stroke=\"#000000\" points=\"617.3218,-323.5832 608.1394,-318.298 612.0217,-328.1559 617.3218,-323.5832\"/>\n",
       "</g>\n",
       "<!-- 87 -->\n",
       "<g id=\"node88\" class=\"node\">\n",
       "<title>87</title>\n",
       "<text text-anchor=\"middle\" x=\"651\" y=\"-309.8\" font-family=\"Times,serif\" font-size=\"14.00\" fill=\"#000000\">&lt;factor&gt;</text>\n",
       "</g>\n",
       "<!-- 85&#45;&gt;87 -->\n",
       "<g id=\"edge87\" class=\"edge\">\n",
       "<title>85&#45;&gt;87</title>\n",
       "<path fill=\"none\" stroke=\"#000000\" d=\"M648.4427,-356.9748C648.8415,-350.195 649.4432,-339.966 649.9628,-331.1331\"/>\n",
       "<polygon fill=\"#000000\" stroke=\"#000000\" points=\"653.4622,-331.2444 650.5555,-321.0561 646.4742,-330.8333 653.4622,-331.2444\"/>\n",
       "</g>\n",
       "<!-- 88 -->\n",
       "<g id=\"node89\" class=\"node\">\n",
       "<title>88</title>\n",
       "<text text-anchor=\"middle\" x=\"651\" y=\"-258.8\" font-family=\"Times,serif\" font-size=\"14.00\" fill=\"#000000\">&lt;integer&gt;</text>\n",
       "</g>\n",
       "<!-- 87&#45;&gt;88 -->\n",
       "<g id=\"edge88\" class=\"edge\">\n",
       "<title>87&#45;&gt;88</title>\n",
       "<path fill=\"none\" stroke=\"#000000\" d=\"M651,-305.9748C651,-299.195 651,-288.966 651,-280.1331\"/>\n",
       "<polygon fill=\"#000000\" stroke=\"#000000\" points=\"654.5001,-280.0561 651,-270.0561 647.5001,-280.0561 654.5001,-280.0561\"/>\n",
       "</g>\n",
       "<!-- 89 -->\n",
       "<g id=\"node90\" class=\"node\">\n",
       "<title>89</title>\n",
       "<text text-anchor=\"middle\" x=\"651\" y=\"-207.8\" font-family=\"Times,serif\" font-size=\"14.00\" fill=\"#000000\">&lt;digit&gt;</text>\n",
       "</g>\n",
       "<!-- 88&#45;&gt;89 -->\n",
       "<g id=\"edge89\" class=\"edge\">\n",
       "<title>88&#45;&gt;89</title>\n",
       "<path fill=\"none\" stroke=\"#000000\" d=\"M651,-254.9748C651,-248.195 651,-237.966 651,-229.1331\"/>\n",
       "<polygon fill=\"#000000\" stroke=\"#000000\" points=\"654.5001,-229.0561 651,-219.0561 647.5001,-229.0561 654.5001,-229.0561\"/>\n",
       "</g>\n",
       "<!-- 90 -->\n",
       "<g id=\"node91\" class=\"node\">\n",
       "<title>90</title>\n",
       "<text text-anchor=\"middle\" x=\"651\" y=\"-156.8\" font-family=\"Times,serif\" font-size=\"14.00\" fill=\"#000000\">8</text>\n",
       "</g>\n",
       "<!-- 89&#45;&gt;90 -->\n",
       "<g id=\"edge90\" class=\"edge\">\n",
       "<title>89&#45;&gt;90</title>\n",
       "<path fill=\"none\" stroke=\"#000000\" d=\"M651,-203.9748C651,-197.195 651,-186.966 651,-178.1331\"/>\n",
       "<polygon fill=\"#000000\" stroke=\"#000000\" points=\"654.5001,-178.0561 651,-168.0561 647.5001,-178.0561 654.5001,-178.0561\"/>\n",
       "</g>\n",
       "<!-- 93 -->\n",
       "<g id=\"node94\" class=\"node\">\n",
       "<title>93</title>\n",
       "<text text-anchor=\"middle\" x=\"714\" y=\"-462.8\" font-family=\"Times,serif\" font-size=\"14.00\" fill=\"#000000\">&lt;term&gt;</text>\n",
       "</g>\n",
       "<!-- 92&#45;&gt;93 -->\n",
       "<g id=\"edge93\" class=\"edge\">\n",
       "<title>92&#45;&gt;93</title>\n",
       "<path fill=\"none\" stroke=\"#000000\" d=\"M691.8364,-509.9748C695.408,-502.969 700.8571,-492.2803 705.4584,-483.2547\"/>\n",
       "<polygon fill=\"#000000\" stroke=\"#000000\" points=\"708.7241,-484.5548 710.1479,-474.0561 702.4878,-481.3755 708.7241,-484.5548\"/>\n",
       "</g>\n",
       "<!-- 94 -->\n",
       "<g id=\"node95\" class=\"node\">\n",
       "<title>94</title>\n",
       "<text text-anchor=\"middle\" x=\"742\" y=\"-411.8\" font-family=\"Times,serif\" font-size=\"14.00\" fill=\"#000000\">&lt;factor&gt;</text>\n",
       "</g>\n",
       "<!-- 93&#45;&gt;94 -->\n",
       "<g id=\"edge94\" class=\"edge\">\n",
       "<title>93&#45;&gt;94</title>\n",
       "<path fill=\"none\" stroke=\"#000000\" d=\"M718.1315,-458.9748C722.0192,-451.8936 727.9726,-441.05 732.9609,-431.9641\"/>\n",
       "<polygon fill=\"#000000\" stroke=\"#000000\" points=\"736.1069,-433.5063 737.8516,-423.0561 729.9709,-430.1375 736.1069,-433.5063\"/>\n",
       "</g>\n",
       "<!-- 95 -->\n",
       "<g id=\"node96\" class=\"node\">\n",
       "<title>95</title>\n",
       "<text text-anchor=\"middle\" x=\"718\" y=\"-360.8\" font-family=\"Times,serif\" font-size=\"14.00\" fill=\"#000000\">&lt;integer&gt;</text>\n",
       "</g>\n",
       "<!-- 94&#45;&gt;95 -->\n",
       "<g id=\"edge95\" class=\"edge\">\n",
       "<title>94&#45;&gt;95</title>\n",
       "<path fill=\"none\" stroke=\"#000000\" d=\"M738.4587,-407.9748C735.1619,-400.969 730.1319,-390.2803 725.8845,-381.2547\"/>\n",
       "<polygon fill=\"#000000\" stroke=\"#000000\" points=\"728.9807,-379.614 721.5558,-372.0561 722.647,-382.5946 728.9807,-379.614\"/>\n",
       "</g>\n",
       "<!-- 98 -->\n",
       "<g id=\"node99\" class=\"node\">\n",
       "<title>98</title>\n",
       "<text text-anchor=\"middle\" x=\"766\" y=\"-360.8\" font-family=\"Times,serif\" font-size=\"14.00\" fill=\"#000000\">.</text>\n",
       "</g>\n",
       "<!-- 94&#45;&gt;98 -->\n",
       "<g id=\"edge98\" class=\"edge\">\n",
       "<title>94&#45;&gt;98</title>\n",
       "<path fill=\"none\" stroke=\"#000000\" d=\"M745.5413,-407.9748C749.255,-400.0832 755.1678,-387.5185 759.6839,-377.9217\"/>\n",
       "<polygon fill=\"#000000\" stroke=\"#000000\" points=\"762.9065,-379.2936 763.9976,-368.7551 756.5727,-376.3129 762.9065,-379.2936\"/>\n",
       "</g>\n",
       "<!-- 99 -->\n",
       "<g id=\"node100\" class=\"node\">\n",
       "<title>99</title>\n",
       "<text text-anchor=\"middle\" x=\"814\" y=\"-360.8\" font-family=\"Times,serif\" font-size=\"14.00\" fill=\"#000000\">&lt;integer&gt;</text>\n",
       "</g>\n",
       "<!-- 94&#45;&gt;99 -->\n",
       "<g id=\"edge99\" class=\"edge\">\n",
       "<title>94&#45;&gt;99</title>\n",
       "<path fill=\"none\" stroke=\"#000000\" d=\"M752.6238,-407.9748C763.7906,-400.065 781.5851,-387.4606 795.1453,-377.8554\"/>\n",
       "<polygon fill=\"#000000\" stroke=\"#000000\" points=\"797.1954,-380.6924 803.3326,-372.0561 793.1492,-374.9802 797.1954,-380.6924\"/>\n",
       "</g>\n",
       "<!-- 96 -->\n",
       "<g id=\"node97\" class=\"node\">\n",
       "<title>96</title>\n",
       "<text text-anchor=\"middle\" x=\"718\" y=\"-309.8\" font-family=\"Times,serif\" font-size=\"14.00\" fill=\"#000000\">&lt;digit&gt;</text>\n",
       "</g>\n",
       "<!-- 95&#45;&gt;96 -->\n",
       "<g id=\"edge96\" class=\"edge\">\n",
       "<title>95&#45;&gt;96</title>\n",
       "<path fill=\"none\" stroke=\"#000000\" d=\"M718,-356.9748C718,-350.195 718,-339.966 718,-331.1331\"/>\n",
       "<polygon fill=\"#000000\" stroke=\"#000000\" points=\"721.5001,-331.0561 718,-321.0561 714.5001,-331.0561 721.5001,-331.0561\"/>\n",
       "</g>\n",
       "<!-- 97 -->\n",
       "<g id=\"node98\" class=\"node\">\n",
       "<title>97</title>\n",
       "<text text-anchor=\"middle\" x=\"718\" y=\"-258.8\" font-family=\"Times,serif\" font-size=\"14.00\" fill=\"#000000\">1</text>\n",
       "</g>\n",
       "<!-- 96&#45;&gt;97 -->\n",
       "<g id=\"edge97\" class=\"edge\">\n",
       "<title>96&#45;&gt;97</title>\n",
       "<path fill=\"none\" stroke=\"#000000\" d=\"M718,-305.9748C718,-299.195 718,-288.966 718,-280.1331\"/>\n",
       "<polygon fill=\"#000000\" stroke=\"#000000\" points=\"721.5001,-280.0561 718,-270.0561 714.5001,-280.0561 721.5001,-280.0561\"/>\n",
       "</g>\n",
       "<!-- 100 -->\n",
       "<g id=\"node101\" class=\"node\">\n",
       "<title>100</title>\n",
       "<text text-anchor=\"middle\" x=\"814\" y=\"-309.8\" font-family=\"Times,serif\" font-size=\"14.00\" fill=\"#000000\">&lt;digit&gt;</text>\n",
       "</g>\n",
       "<!-- 99&#45;&gt;100 -->\n",
       "<g id=\"edge100\" class=\"edge\">\n",
       "<title>99&#45;&gt;100</title>\n",
       "<path fill=\"none\" stroke=\"#000000\" d=\"M814,-356.9748C814,-350.195 814,-339.966 814,-331.1331\"/>\n",
       "<polygon fill=\"#000000\" stroke=\"#000000\" points=\"817.5001,-331.0561 814,-321.0561 810.5001,-331.0561 817.5001,-331.0561\"/>\n",
       "</g>\n",
       "<!-- 101 -->\n",
       "<g id=\"node102\" class=\"node\">\n",
       "<title>101</title>\n",
       "<text text-anchor=\"middle\" x=\"814\" y=\"-258.8\" font-family=\"Times,serif\" font-size=\"14.00\" fill=\"#000000\">1</text>\n",
       "</g>\n",
       "<!-- 100&#45;&gt;101 -->\n",
       "<g id=\"edge101\" class=\"edge\">\n",
       "<title>100&#45;&gt;101</title>\n",
       "<path fill=\"none\" stroke=\"#000000\" d=\"M814,-305.9748C814,-299.195 814,-288.966 814,-280.1331\"/>\n",
       "<polygon fill=\"#000000\" stroke=\"#000000\" points=\"817.5001,-280.0561 814,-270.0561 810.5001,-280.0561 817.5001,-280.0561\"/>\n",
       "</g>\n",
       "</g>\n",
       "</svg>\n"
      ],
      "text/plain": [
       "<graphviz.dot.Digraph at 0x11fc6a2b0>"
      ]
     },
     "metadata": {},
     "output_type": "display_data"
    }
   ],
   "source": [
    "display_tree(f.derivation_tree)"
   ]
  },
  {
   "cell_type": "markdown",
   "metadata": {
    "slideshow": {
     "slide_type": "subslide"
    }
   },
   "source": [
    "Let us try out the grammar fuzzer (and its trees) on other grammar formats."
   ]
  },
  {
   "cell_type": "code",
   "execution_count": 80,
   "metadata": {
    "button": false,
    "new_sheet": false,
    "run_control": {
     "read_only": false
    },
    "slideshow": {
     "slide_type": "fragment"
    }
   },
   "outputs": [
    {
     "data": {
      "text/plain": [
       "'https://fuzzingbook.com/def'"
      ]
     },
     "execution_count": 80,
     "metadata": {},
     "output_type": "execute_result"
    }
   ],
   "source": [
    "f = GrammarFuzzer(URL_GRAMMAR)\n",
    "f.fuzz()"
   ]
  },
  {
   "cell_type": "code",
   "execution_count": 81,
   "metadata": {
    "slideshow": {
     "slide_type": "fragment"
    }
   },
   "outputs": [
    {
     "data": {
      "image/svg+xml": [
       "<?xml version=\"1.0\" encoding=\"UTF-8\" standalone=\"no\"?>\n",
       "<!DOCTYPE svg PUBLIC \"-//W3C//DTD SVG 1.1//EN\"\n",
       " \"http://www.w3.org/Graphics/SVG/1.1/DTD/svg11.dtd\">\n",
       "<!-- Generated by graphviz version 2.40.1 (20161225.0304)\n",
       " -->\n",
       "<!-- Title: %3 Pages: 1 -->\n",
       "<svg width=\"306pt\" height=\"227pt\"\n",
       " viewBox=\"0.00 0.00 306.00 227.00\" xmlns=\"http://www.w3.org/2000/svg\" xmlns:xlink=\"http://www.w3.org/1999/xlink\">\n",
       "<g id=\"graph0\" class=\"graph\" transform=\"scale(1 1) rotate(0) translate(4 223)\">\n",
       "<title>%3</title>\n",
       "<polygon fill=\"#ffffff\" stroke=\"transparent\" points=\"-4,4 -4,-223 302,-223 302,4 -4,4\"/>\n",
       "<!-- 0 -->\n",
       "<g id=\"node1\" class=\"node\">\n",
       "<title>0</title>\n",
       "<text text-anchor=\"middle\" x=\"140\" y=\"-207.8\" font-family=\"Times,serif\" font-size=\"14.00\" fill=\"#000000\">&lt;start&gt;</text>\n",
       "</g>\n",
       "<!-- 1 -->\n",
       "<g id=\"node2\" class=\"node\">\n",
       "<title>1</title>\n",
       "<text text-anchor=\"middle\" x=\"140\" y=\"-156.8\" font-family=\"Times,serif\" font-size=\"14.00\" fill=\"#000000\">&lt;url&gt;</text>\n",
       "</g>\n",
       "<!-- 0&#45;&gt;1 -->\n",
       "<g id=\"edge1\" class=\"edge\">\n",
       "<title>0&#45;&gt;1</title>\n",
       "<path fill=\"none\" stroke=\"#000000\" d=\"M140,-203.9748C140,-197.195 140,-186.966 140,-178.1331\"/>\n",
       "<polygon fill=\"#000000\" stroke=\"#000000\" points=\"143.5001,-178.0561 140,-168.0561 136.5001,-178.0561 143.5001,-178.0561\"/>\n",
       "</g>\n",
       "<!-- 2 -->\n",
       "<g id=\"node3\" class=\"node\">\n",
       "<title>2</title>\n",
       "<text text-anchor=\"middle\" x=\"29\" y=\"-105.8\" font-family=\"Times,serif\" font-size=\"14.00\" fill=\"#000000\">&lt;scheme&gt;</text>\n",
       "</g>\n",
       "<!-- 1&#45;&gt;2 -->\n",
       "<g id=\"edge2\" class=\"edge\">\n",
       "<title>1&#45;&gt;2</title>\n",
       "<path fill=\"none\" stroke=\"#000000\" d=\"M123.6216,-152.9748C105.4224,-144.613 75.8044,-131.0047 54.551,-121.2397\"/>\n",
       "<polygon fill=\"#000000\" stroke=\"#000000\" points=\"55.9937,-118.0508 45.4456,-117.0561 53.0711,-124.4115 55.9937,-118.0508\"/>\n",
       "</g>\n",
       "<!-- 4 -->\n",
       "<g id=\"node5\" class=\"node\">\n",
       "<title>4</title>\n",
       "<text text-anchor=\"middle\" x=\"82\" y=\"-105.8\" font-family=\"Times,serif\" font-size=\"14.00\" fill=\"#000000\">://</text>\n",
       "</g>\n",
       "<!-- 1&#45;&gt;4 -->\n",
       "<g id=\"edge4\" class=\"edge\">\n",
       "<title>1&#45;&gt;4</title>\n",
       "<path fill=\"none\" stroke=\"#000000\" d=\"M131.4419,-152.9748C122.093,-144.7542 106.9771,-131.4626 95.917,-121.7374\"/>\n",
       "<polygon fill=\"#000000\" stroke=\"#000000\" points=\"97.9251,-118.8425 88.1042,-114.8675 93.3028,-124.0993 97.9251,-118.8425\"/>\n",
       "</g>\n",
       "<!-- 5 -->\n",
       "<g id=\"node6\" class=\"node\">\n",
       "<title>5</title>\n",
       "<text text-anchor=\"middle\" x=\"140\" y=\"-105.8\" font-family=\"Times,serif\" font-size=\"14.00\" fill=\"#000000\">&lt;authority&gt;</text>\n",
       "</g>\n",
       "<!-- 1&#45;&gt;5 -->\n",
       "<g id=\"edge5\" class=\"edge\">\n",
       "<title>1&#45;&gt;5</title>\n",
       "<path fill=\"none\" stroke=\"#000000\" d=\"M140,-152.9748C140,-146.195 140,-135.966 140,-127.1331\"/>\n",
       "<polygon fill=\"#000000\" stroke=\"#000000\" points=\"143.5001,-127.0561 140,-117.0561 136.5001,-127.0561 143.5001,-127.0561\"/>\n",
       "</g>\n",
       "<!-- 8 -->\n",
       "<g id=\"node9\" class=\"node\">\n",
       "<title>8</title>\n",
       "<text text-anchor=\"middle\" x=\"212\" y=\"-105.8\" font-family=\"Times,serif\" font-size=\"14.00\" fill=\"#000000\">&lt;path&gt;</text>\n",
       "</g>\n",
       "<!-- 1&#45;&gt;8 -->\n",
       "<g id=\"edge8\" class=\"edge\">\n",
       "<title>1&#45;&gt;8</title>\n",
       "<path fill=\"none\" stroke=\"#000000\" d=\"M150.6238,-152.9748C161.7906,-145.065 179.5851,-132.4606 193.1453,-122.8554\"/>\n",
       "<polygon fill=\"#000000\" stroke=\"#000000\" points=\"195.1954,-125.6924 201.3326,-117.0561 191.1492,-119.9802 195.1954,-125.6924\"/>\n",
       "</g>\n",
       "<!-- 12 -->\n",
       "<g id=\"node13\" class=\"node\">\n",
       "<title>12</title>\n",
       "<text text-anchor=\"middle\" x=\"274\" y=\"-105.8\" font-family=\"Times,serif\" font-size=\"14.00\" fill=\"#000000\">&lt;query&gt;</text>\n",
       "</g>\n",
       "<!-- 1&#45;&gt;12 -->\n",
       "<g id=\"edge12\" class=\"edge\">\n",
       "<title>1&#45;&gt;12</title>\n",
       "<path fill=\"none\" stroke=\"#000000\" d=\"M156.1635,-154.3482C177.986,-146.0426 217.2634,-131.0938 244.4386,-120.751\"/>\n",
       "<polygon fill=\"#000000\" stroke=\"#000000\" points=\"245.7472,-123.9979 253.8482,-117.1697 243.2572,-117.4557 245.7472,-123.9979\"/>\n",
       "</g>\n",
       "<!-- 3 -->\n",
       "<g id=\"node4\" class=\"node\">\n",
       "<title>3</title>\n",
       "<text text-anchor=\"middle\" x=\"29\" y=\"-54.8\" font-family=\"Times,serif\" font-size=\"14.00\" fill=\"#000000\">https</text>\n",
       "</g>\n",
       "<!-- 2&#45;&gt;3 -->\n",
       "<g id=\"edge3\" class=\"edge\">\n",
       "<title>2&#45;&gt;3</title>\n",
       "<path fill=\"none\" stroke=\"#000000\" d=\"M29,-101.9748C29,-95.195 29,-84.966 29,-76.1331\"/>\n",
       "<polygon fill=\"#000000\" stroke=\"#000000\" points=\"32.5001,-76.0561 29,-66.0561 25.5001,-76.0561 32.5001,-76.0561\"/>\n",
       "</g>\n",
       "<!-- 6 -->\n",
       "<g id=\"node7\" class=\"node\">\n",
       "<title>6</title>\n",
       "<text text-anchor=\"middle\" x=\"140\" y=\"-54.8\" font-family=\"Times,serif\" font-size=\"14.00\" fill=\"#000000\">&lt;host&gt;</text>\n",
       "</g>\n",
       "<!-- 5&#45;&gt;6 -->\n",
       "<g id=\"edge6\" class=\"edge\">\n",
       "<title>5&#45;&gt;6</title>\n",
       "<path fill=\"none\" stroke=\"#000000\" d=\"M140,-101.9748C140,-95.195 140,-84.966 140,-76.1331\"/>\n",
       "<polygon fill=\"#000000\" stroke=\"#000000\" points=\"143.5001,-76.0561 140,-66.0561 136.5001,-76.0561 143.5001,-76.0561\"/>\n",
       "</g>\n",
       "<!-- 7 -->\n",
       "<g id=\"node8\" class=\"node\">\n",
       "<title>7</title>\n",
       "<text text-anchor=\"middle\" x=\"140\" y=\"-3.8\" font-family=\"Times,serif\" font-size=\"14.00\" fill=\"#000000\">fuzzingbook.com</text>\n",
       "</g>\n",
       "<!-- 6&#45;&gt;7 -->\n",
       "<g id=\"edge7\" class=\"edge\">\n",
       "<title>6&#45;&gt;7</title>\n",
       "<path fill=\"none\" stroke=\"#000000\" d=\"M140,-50.9748C140,-44.195 140,-33.966 140,-25.1331\"/>\n",
       "<polygon fill=\"#000000\" stroke=\"#000000\" points=\"143.5001,-25.0561 140,-15.0561 136.5001,-25.0561 143.5001,-25.0561\"/>\n",
       "</g>\n",
       "<!-- 9 -->\n",
       "<g id=\"node10\" class=\"node\">\n",
       "<title>9</title>\n",
       "<text text-anchor=\"middle\" x=\"195\" y=\"-54.8\" font-family=\"Times,serif\" font-size=\"14.00\" fill=\"#000000\">/</text>\n",
       "</g>\n",
       "<!-- 8&#45;&gt;9 -->\n",
       "<g id=\"edge9\" class=\"edge\">\n",
       "<title>8&#45;&gt;9</title>\n",
       "<path fill=\"none\" stroke=\"#000000\" d=\"M209.4916,-101.9748C207.0752,-94.7257 203.3445,-83.5334 200.2735,-74.3205\"/>\n",
       "<polygon fill=\"#000000\" stroke=\"#000000\" points=\"203.5726,-73.1496 197.0899,-64.7696 196.9318,-75.3632 203.5726,-73.1496\"/>\n",
       "</g>\n",
       "<!-- 10 -->\n",
       "<g id=\"node11\" class=\"node\">\n",
       "<title>10</title>\n",
       "<text text-anchor=\"middle\" x=\"229\" y=\"-54.8\" font-family=\"Times,serif\" font-size=\"14.00\" fill=\"#000000\">&lt;id&gt;</text>\n",
       "</g>\n",
       "<!-- 8&#45;&gt;10 -->\n",
       "<g id=\"edge10\" class=\"edge\">\n",
       "<title>8&#45;&gt;10</title>\n",
       "<path fill=\"none\" stroke=\"#000000\" d=\"M214.5084,-101.9748C216.8186,-95.0443 220.3301,-84.5097 223.3179,-75.5464\"/>\n",
       "<polygon fill=\"#000000\" stroke=\"#000000\" points=\"226.6393,-76.6498 226.4813,-66.0561 219.9986,-74.4361 226.6393,-76.6498\"/>\n",
       "</g>\n",
       "<!-- 11 -->\n",
       "<g id=\"node12\" class=\"node\">\n",
       "<title>11</title>\n",
       "<text text-anchor=\"middle\" x=\"229\" y=\"-3.8\" font-family=\"Times,serif\" font-size=\"14.00\" fill=\"#000000\">def</text>\n",
       "</g>\n",
       "<!-- 10&#45;&gt;11 -->\n",
       "<g id=\"edge11\" class=\"edge\">\n",
       "<title>10&#45;&gt;11</title>\n",
       "<path fill=\"none\" stroke=\"#000000\" d=\"M229,-50.9748C229,-44.195 229,-33.966 229,-25.1331\"/>\n",
       "<polygon fill=\"#000000\" stroke=\"#000000\" points=\"232.5001,-25.0561 229,-15.0561 225.5001,-25.0561 232.5001,-25.0561\"/>\n",
       "</g>\n",
       "<!-- 13 -->\n",
       "<g id=\"node14\" class=\"node\">\n",
       "<title>13</title>\n",
       "</g>\n",
       "<!-- 12&#45;&gt;13 -->\n",
       "<g id=\"edge13\" class=\"edge\">\n",
       "<title>12&#45;&gt;13</title>\n",
       "<path fill=\"none\" stroke=\"#000000\" d=\"M274,-101.9748C274,-101.9194 274,-101.8637 274,-101.8078\"/>\n",
       "<polygon fill=\"#000000\" stroke=\"#000000\" points=\"277.5059,-111.6375 274,-101.6395 270.5059,-111.6416 277.5059,-111.6375\"/>\n",
       "</g>\n",
       "</g>\n",
       "</svg>\n"
      ],
      "text/plain": [
       "<graphviz.dot.Digraph at 0x11fc6aa90>"
      ]
     },
     "metadata": {},
     "output_type": "display_data"
    }
   ],
   "source": [
    "display_tree(f.derivation_tree)"
   ]
  },
  {
   "cell_type": "code",
   "execution_count": 82,
   "metadata": {
    "button": false,
    "new_sheet": false,
    "run_control": {
     "read_only": false
    },
    "slideshow": {
     "slide_type": "subslide"
    }
   },
   "outputs": [
    {
     "data": {
      "text/plain": [
       "'%62%18a'"
      ]
     },
     "execution_count": 82,
     "metadata": {},
     "output_type": "execute_result"
    }
   ],
   "source": [
    "f = GrammarFuzzer(CGI_GRAMMAR, min_nonterminals=3, max_nonterminals=5)\n",
    "f.fuzz()"
   ]
  },
  {
   "cell_type": "code",
   "execution_count": 83,
   "metadata": {
    "slideshow": {
     "slide_type": "fragment"
    }
   },
   "outputs": [
    {
     "data": {
      "image/svg+xml": [
       "<?xml version=\"1.0\" encoding=\"UTF-8\" standalone=\"no\"?>\n",
       "<!DOCTYPE svg PUBLIC \"-//W3C//DTD SVG 1.1//EN\"\n",
       " \"http://www.w3.org/Graphics/SVG/1.1/DTD/svg11.dtd\">\n",
       "<!-- Generated by graphviz version 2.40.1 (20161225.0304)\n",
       " -->\n",
       "<!-- Title: %3 Pages: 1 -->\n",
       "<svg width=\"404pt\" height=\"329pt\"\n",
       " viewBox=\"0.00 0.00 403.50 329.00\" xmlns=\"http://www.w3.org/2000/svg\" xmlns:xlink=\"http://www.w3.org/1999/xlink\">\n",
       "<g id=\"graph0\" class=\"graph\" transform=\"scale(1 1) rotate(0) translate(4 325)\">\n",
       "<title>%3</title>\n",
       "<polygon fill=\"#ffffff\" stroke=\"transparent\" points=\"-4,4 -4,-325 399.5,-325 399.5,4 -4,4\"/>\n",
       "<!-- 0 -->\n",
       "<g id=\"node1\" class=\"node\">\n",
       "<title>0</title>\n",
       "<text text-anchor=\"middle\" x=\"182\" y=\"-309.8\" font-family=\"Times,serif\" font-size=\"14.00\" fill=\"#000000\">&lt;start&gt;</text>\n",
       "</g>\n",
       "<!-- 1 -->\n",
       "<g id=\"node2\" class=\"node\">\n",
       "<title>1</title>\n",
       "<text text-anchor=\"middle\" x=\"182\" y=\"-258.8\" font-family=\"Times,serif\" font-size=\"14.00\" fill=\"#000000\">&lt;string&gt;</text>\n",
       "</g>\n",
       "<!-- 0&#45;&gt;1 -->\n",
       "<g id=\"edge1\" class=\"edge\">\n",
       "<title>0&#45;&gt;1</title>\n",
       "<path fill=\"none\" stroke=\"#000000\" d=\"M182,-305.9748C182,-299.195 182,-288.966 182,-280.1331\"/>\n",
       "<polygon fill=\"#000000\" stroke=\"#000000\" points=\"185.5001,-280.0561 182,-270.0561 178.5001,-280.0561 185.5001,-280.0561\"/>\n",
       "</g>\n",
       "<!-- 2 -->\n",
       "<g id=\"node3\" class=\"node\">\n",
       "<title>2</title>\n",
       "<text text-anchor=\"middle\" x=\"150\" y=\"-207.8\" font-family=\"Times,serif\" font-size=\"14.00\" fill=\"#000000\">&lt;letter&gt;</text>\n",
       "</g>\n",
       "<!-- 1&#45;&gt;2 -->\n",
       "<g id=\"edge2\" class=\"edge\">\n",
       "<title>1&#45;&gt;2</title>\n",
       "<path fill=\"none\" stroke=\"#000000\" d=\"M177.2783,-254.9748C172.788,-247.8183 165.8863,-236.8188 160.1488,-227.6747\"/>\n",
       "<polygon fill=\"#000000\" stroke=\"#000000\" points=\"163.0208,-225.6665 154.7411,-219.0561 157.0913,-229.387 163.0208,-225.6665\"/>\n",
       "</g>\n",
       "<!-- 9 -->\n",
       "<g id=\"node10\" class=\"node\">\n",
       "<title>9</title>\n",
       "<text text-anchor=\"middle\" x=\"221\" y=\"-207.8\" font-family=\"Times,serif\" font-size=\"14.00\" fill=\"#000000\">&lt;string&gt;</text>\n",
       "</g>\n",
       "<!-- 1&#45;&gt;9 -->\n",
       "<g id=\"edge9\" class=\"edge\">\n",
       "<title>1&#45;&gt;9</title>\n",
       "<path fill=\"none\" stroke=\"#000000\" d=\"M187.7546,-254.9748C193.3424,-247.6677 201.994,-236.354 209.0708,-227.0997\"/>\n",
       "<polygon fill=\"#000000\" stroke=\"#000000\" points=\"211.9275,-229.1258 215.2218,-219.0561 206.367,-224.8736 211.9275,-229.1258\"/>\n",
       "</g>\n",
       "<!-- 3 -->\n",
       "<g id=\"node4\" class=\"node\">\n",
       "<title>3</title>\n",
       "<text text-anchor=\"middle\" x=\"101\" y=\"-156.8\" font-family=\"Times,serif\" font-size=\"14.00\" fill=\"#000000\">&lt;percent&gt;</text>\n",
       "</g>\n",
       "<!-- 2&#45;&gt;3 -->\n",
       "<g id=\"edge3\" class=\"edge\">\n",
       "<title>2&#45;&gt;3</title>\n",
       "<path fill=\"none\" stroke=\"#000000\" d=\"M142.7699,-203.9748C135.6046,-196.517 124.4294,-184.8857 115.4406,-175.53\"/>\n",
       "<polygon fill=\"#000000\" stroke=\"#000000\" points=\"117.7119,-172.8423 108.2598,-168.0561 112.6642,-177.6921 117.7119,-172.8423\"/>\n",
       "</g>\n",
       "<!-- 4 -->\n",
       "<g id=\"node5\" class=\"node\">\n",
       "<title>4</title>\n",
       "<text text-anchor=\"middle\" x=\"6\" y=\"-105.8\" font-family=\"Times,serif\" font-size=\"14.00\" fill=\"#000000\">%</text>\n",
       "</g>\n",
       "<!-- 3&#45;&gt;4 -->\n",
       "<g id=\"edge4\" class=\"edge\">\n",
       "<title>3&#45;&gt;4</title>\n",
       "<path fill=\"none\" stroke=\"#000000\" d=\"M86.9824,-152.9748C69.2969,-143.4804 39.0118,-127.2221 20.9129,-117.5059\"/>\n",
       "<polygon fill=\"#000000\" stroke=\"#000000\" points=\"22.5261,-114.3995 12.06,-112.7533 19.2152,-120.567 22.5261,-114.3995\"/>\n",
       "</g>\n",
       "<!-- 5 -->\n",
       "<g id=\"node6\" class=\"node\">\n",
       "<title>5</title>\n",
       "<text text-anchor=\"middle\" x=\"61\" y=\"-105.8\" font-family=\"Times,serif\" font-size=\"14.00\" fill=\"#000000\">&lt;hexdigit&gt;</text>\n",
       "</g>\n",
       "<!-- 3&#45;&gt;5 -->\n",
       "<g id=\"edge5\" class=\"edge\">\n",
       "<title>3&#45;&gt;5</title>\n",
       "<path fill=\"none\" stroke=\"#000000\" d=\"M95.0979,-152.9748C89.3668,-145.6677 80.4933,-134.354 73.2351,-125.0997\"/>\n",
       "<polygon fill=\"#000000\" stroke=\"#000000\" points=\"75.8518,-122.7647 66.9264,-117.0561 70.3438,-127.0847 75.8518,-122.7647\"/>\n",
       "</g>\n",
       "<!-- 7 -->\n",
       "<g id=\"node8\" class=\"node\">\n",
       "<title>7</title>\n",
       "<text text-anchor=\"middle\" x=\"141\" y=\"-105.8\" font-family=\"Times,serif\" font-size=\"14.00\" fill=\"#000000\">&lt;hexdigit&gt;</text>\n",
       "</g>\n",
       "<!-- 3&#45;&gt;7 -->\n",
       "<g id=\"edge7\" class=\"edge\">\n",
       "<title>3&#45;&gt;7</title>\n",
       "<path fill=\"none\" stroke=\"#000000\" d=\"M106.9021,-152.9748C112.6332,-145.6677 121.5067,-134.354 128.7649,-125.0997\"/>\n",
       "<polygon fill=\"#000000\" stroke=\"#000000\" points=\"131.6562,-127.0847 135.0736,-117.0561 126.1482,-122.7647 131.6562,-127.0847\"/>\n",
       "</g>\n",
       "<!-- 6 -->\n",
       "<g id=\"node7\" class=\"node\">\n",
       "<title>6</title>\n",
       "<text text-anchor=\"middle\" x=\"61\" y=\"-54.8\" font-family=\"Times,serif\" font-size=\"14.00\" fill=\"#000000\">6</text>\n",
       "</g>\n",
       "<!-- 5&#45;&gt;6 -->\n",
       "<g id=\"edge6\" class=\"edge\">\n",
       "<title>5&#45;&gt;6</title>\n",
       "<path fill=\"none\" stroke=\"#000000\" d=\"M61,-101.9748C61,-95.195 61,-84.966 61,-76.1331\"/>\n",
       "<polygon fill=\"#000000\" stroke=\"#000000\" points=\"64.5001,-76.0561 61,-66.0561 57.5001,-76.0561 64.5001,-76.0561\"/>\n",
       "</g>\n",
       "<!-- 8 -->\n",
       "<g id=\"node9\" class=\"node\">\n",
       "<title>8</title>\n",
       "<text text-anchor=\"middle\" x=\"138\" y=\"-54.8\" font-family=\"Times,serif\" font-size=\"14.00\" fill=\"#000000\">2</text>\n",
       "</g>\n",
       "<!-- 7&#45;&gt;8 -->\n",
       "<g id=\"edge8\" class=\"edge\">\n",
       "<title>7&#45;&gt;8</title>\n",
       "<path fill=\"none\" stroke=\"#000000\" d=\"M140.5573,-101.9748C140.1585,-95.195 139.5568,-84.966 139.0372,-76.1331\"/>\n",
       "<polygon fill=\"#000000\" stroke=\"#000000\" points=\"142.5258,-75.8333 138.4445,-66.0561 135.5378,-76.2444 142.5258,-75.8333\"/>\n",
       "</g>\n",
       "<!-- 10 -->\n",
       "<g id=\"node11\" class=\"node\">\n",
       "<title>10</title>\n",
       "<text text-anchor=\"middle\" x=\"221\" y=\"-156.8\" font-family=\"Times,serif\" font-size=\"14.00\" fill=\"#000000\">&lt;letter&gt;</text>\n",
       "</g>\n",
       "<!-- 9&#45;&gt;10 -->\n",
       "<g id=\"edge10\" class=\"edge\">\n",
       "<title>9&#45;&gt;10</title>\n",
       "<path fill=\"none\" stroke=\"#000000\" d=\"M221,-203.9748C221,-197.195 221,-186.966 221,-178.1331\"/>\n",
       "<polygon fill=\"#000000\" stroke=\"#000000\" points=\"224.5001,-178.0561 221,-168.0561 217.5001,-178.0561 224.5001,-178.0561\"/>\n",
       "</g>\n",
       "<!-- 17 -->\n",
       "<g id=\"node18\" class=\"node\">\n",
       "<title>17</title>\n",
       "<text text-anchor=\"middle\" x=\"308\" y=\"-156.8\" font-family=\"Times,serif\" font-size=\"14.00\" fill=\"#000000\">&lt;string&gt;</text>\n",
       "</g>\n",
       "<!-- 9&#45;&gt;17 -->\n",
       "<g id=\"edge17\" class=\"edge\">\n",
       "<title>9&#45;&gt;17</title>\n",
       "<path fill=\"none\" stroke=\"#000000\" d=\"M233.8371,-203.9748C247.5873,-195.9143 269.654,-182.9787 286.1478,-173.3099\"/>\n",
       "<polygon fill=\"#000000\" stroke=\"#000000\" points=\"288.2532,-176.1328 295.1102,-168.0561 284.7132,-170.0939 288.2532,-176.1328\"/>\n",
       "</g>\n",
       "<!-- 11 -->\n",
       "<g id=\"node12\" class=\"node\">\n",
       "<title>11</title>\n",
       "<text text-anchor=\"middle\" x=\"221\" y=\"-105.8\" font-family=\"Times,serif\" font-size=\"14.00\" fill=\"#000000\">&lt;percent&gt;</text>\n",
       "</g>\n",
       "<!-- 10&#45;&gt;11 -->\n",
       "<g id=\"edge11\" class=\"edge\">\n",
       "<title>10&#45;&gt;11</title>\n",
       "<path fill=\"none\" stroke=\"#000000\" d=\"M221,-152.9748C221,-146.195 221,-135.966 221,-127.1331\"/>\n",
       "<polygon fill=\"#000000\" stroke=\"#000000\" points=\"224.5001,-127.0561 221,-117.0561 217.5001,-127.0561 224.5001,-127.0561\"/>\n",
       "</g>\n",
       "<!-- 12 -->\n",
       "<g id=\"node13\" class=\"node\">\n",
       "<title>12</title>\n",
       "<text text-anchor=\"middle\" x=\"166\" y=\"-54.8\" font-family=\"Times,serif\" font-size=\"14.00\" fill=\"#000000\">%</text>\n",
       "</g>\n",
       "<!-- 11&#45;&gt;12 -->\n",
       "<g id=\"edge12\" class=\"edge\">\n",
       "<title>11&#45;&gt;12</title>\n",
       "<path fill=\"none\" stroke=\"#000000\" d=\"M212.8846,-101.9748C204.1135,-93.8416 189.9895,-80.7448 179.5332,-71.049\"/>\n",
       "<polygon fill=\"#000000\" stroke=\"#000000\" points=\"181.8185,-68.3949 172.106,-64.162 177.0589,-73.5278 181.8185,-68.3949\"/>\n",
       "</g>\n",
       "<!-- 13 -->\n",
       "<g id=\"node14\" class=\"node\">\n",
       "<title>13</title>\n",
       "<text text-anchor=\"middle\" x=\"221\" y=\"-54.8\" font-family=\"Times,serif\" font-size=\"14.00\" fill=\"#000000\">&lt;hexdigit&gt;</text>\n",
       "</g>\n",
       "<!-- 11&#45;&gt;13 -->\n",
       "<g id=\"edge13\" class=\"edge\">\n",
       "<title>11&#45;&gt;13</title>\n",
       "<path fill=\"none\" stroke=\"#000000\" d=\"M221,-101.9748C221,-95.195 221,-84.966 221,-76.1331\"/>\n",
       "<polygon fill=\"#000000\" stroke=\"#000000\" points=\"224.5001,-76.0561 221,-66.0561 217.5001,-76.0561 224.5001,-76.0561\"/>\n",
       "</g>\n",
       "<!-- 15 -->\n",
       "<g id=\"node16\" class=\"node\">\n",
       "<title>15</title>\n",
       "<text text-anchor=\"middle\" x=\"301\" y=\"-54.8\" font-family=\"Times,serif\" font-size=\"14.00\" fill=\"#000000\">&lt;hexdigit&gt;</text>\n",
       "</g>\n",
       "<!-- 11&#45;&gt;15 -->\n",
       "<g id=\"edge15\" class=\"edge\">\n",
       "<title>11&#45;&gt;15</title>\n",
       "<path fill=\"none\" stroke=\"#000000\" d=\"M232.8043,-101.9748C245.3299,-93.9897 265.3607,-81.22 280.4795,-71.5818\"/>\n",
       "<polygon fill=\"#000000\" stroke=\"#000000\" points=\"282.5965,-74.383 289.1473,-66.0561 278.8335,-68.4804 282.5965,-74.383\"/>\n",
       "</g>\n",
       "<!-- 14 -->\n",
       "<g id=\"node15\" class=\"node\">\n",
       "<title>14</title>\n",
       "<text text-anchor=\"middle\" x=\"221\" y=\"-3.8\" font-family=\"Times,serif\" font-size=\"14.00\" fill=\"#000000\">1</text>\n",
       "</g>\n",
       "<!-- 13&#45;&gt;14 -->\n",
       "<g id=\"edge14\" class=\"edge\">\n",
       "<title>13&#45;&gt;14</title>\n",
       "<path fill=\"none\" stroke=\"#000000\" d=\"M221,-50.9748C221,-44.195 221,-33.966 221,-25.1331\"/>\n",
       "<polygon fill=\"#000000\" stroke=\"#000000\" points=\"224.5001,-25.0561 221,-15.0561 217.5001,-25.0561 224.5001,-25.0561\"/>\n",
       "</g>\n",
       "<!-- 16 -->\n",
       "<g id=\"node17\" class=\"node\">\n",
       "<title>16</title>\n",
       "<text text-anchor=\"middle\" x=\"301\" y=\"-3.8\" font-family=\"Times,serif\" font-size=\"14.00\" fill=\"#000000\">8</text>\n",
       "</g>\n",
       "<!-- 15&#45;&gt;16 -->\n",
       "<g id=\"edge16\" class=\"edge\">\n",
       "<title>15&#45;&gt;16</title>\n",
       "<path fill=\"none\" stroke=\"#000000\" d=\"M301,-50.9748C301,-44.195 301,-33.966 301,-25.1331\"/>\n",
       "<polygon fill=\"#000000\" stroke=\"#000000\" points=\"304.5001,-25.0561 301,-15.0561 297.5001,-25.0561 304.5001,-25.0561\"/>\n",
       "</g>\n",
       "<!-- 18 -->\n",
       "<g id=\"node19\" class=\"node\">\n",
       "<title>18</title>\n",
       "<text text-anchor=\"middle\" x=\"331\" y=\"-105.8\" font-family=\"Times,serif\" font-size=\"14.00\" fill=\"#000000\">&lt;letter&gt;</text>\n",
       "</g>\n",
       "<!-- 17&#45;&gt;18 -->\n",
       "<g id=\"edge18\" class=\"edge\">\n",
       "<title>17&#45;&gt;18</title>\n",
       "<path fill=\"none\" stroke=\"#000000\" d=\"M311.3937,-152.9748C314.5532,-145.969 319.3736,-135.2803 323.444,-126.2547\"/>\n",
       "<polygon fill=\"#000000\" stroke=\"#000000\" points=\"326.6718,-127.6109 327.5923,-117.0561 320.2907,-124.7331 326.6718,-127.6109\"/>\n",
       "</g>\n",
       "<!-- 19 -->\n",
       "<g id=\"node20\" class=\"node\">\n",
       "<title>19</title>\n",
       "<text text-anchor=\"middle\" x=\"373\" y=\"-54.8\" font-family=\"Times,serif\" font-size=\"14.00\" fill=\"#000000\">&lt;other&gt;</text>\n",
       "</g>\n",
       "<!-- 18&#45;&gt;19 -->\n",
       "<g id=\"edge19\" class=\"edge\">\n",
       "<title>18&#45;&gt;19</title>\n",
       "<path fill=\"none\" stroke=\"#000000\" d=\"M337.1972,-101.9748C343.2769,-94.5923 352.7245,-83.1203 360.3883,-73.8142\"/>\n",
       "<polygon fill=\"#000000\" stroke=\"#000000\" points=\"363.122,-76.0004 366.7773,-66.0561 357.7185,-71.5504 363.122,-76.0004\"/>\n",
       "</g>\n",
       "<!-- 20 -->\n",
       "<g id=\"node21\" class=\"node\">\n",
       "<title>20</title>\n",
       "<text text-anchor=\"middle\" x=\"373\" y=\"-3.8\" font-family=\"Times,serif\" font-size=\"14.00\" fill=\"#000000\">a</text>\n",
       "</g>\n",
       "<!-- 19&#45;&gt;20 -->\n",
       "<g id=\"edge20\" class=\"edge\">\n",
       "<title>19&#45;&gt;20</title>\n",
       "<path fill=\"none\" stroke=\"#000000\" d=\"M373,-50.9748C373,-44.195 373,-33.966 373,-25.1331\"/>\n",
       "<polygon fill=\"#000000\" stroke=\"#000000\" points=\"376.5001,-25.0561 373,-15.0561 369.5001,-25.0561 376.5001,-25.0561\"/>\n",
       "</g>\n",
       "</g>\n",
       "</svg>\n"
      ],
      "text/plain": [
       "<graphviz.dot.Digraph at 0x11fc6a6d8>"
      ]
     },
     "metadata": {},
     "output_type": "display_data"
    }
   ],
   "source": [
    "display_tree(f.derivation_tree)"
   ]
  },
  {
   "cell_type": "markdown",
   "metadata": {
    "button": false,
    "new_sheet": false,
    "run_control": {
     "read_only": false
    },
    "slideshow": {
     "slide_type": "subslide"
    }
   },
   "source": [
    "How do we stack up against `simple_grammar_fuzzer()`?"
   ]
  },
  {
   "cell_type": "code",
   "execution_count": 84,
   "metadata": {
    "button": false,
    "new_sheet": false,
    "run_control": {
     "read_only": false
    },
    "slideshow": {
     "slide_type": "fragment"
    }
   },
   "outputs": [
    {
     "name": "stdout",
     "output_type": "stream",
     "text": [
      "0 1 2 3 4 5 6 7 8 9 10 11 12 13 14 15 16 17 18 19 20 21 22 23 24 25 26 27 28 29 30 31 32 33 34 35 36 37 38 39 40 41 42 43 44 45 46 47 48 49 \n"
     ]
    }
   ],
   "source": [
    "trials = 50\n",
    "xs = []\n",
    "ys = []\n",
    "f = GrammarFuzzer(EXPR_GRAMMAR, max_nonterminals=20)\n",
    "for i in range(trials):\n",
    "    with Timer() as t:\n",
    "        s = f.fuzz()\n",
    "    xs.append(len(s))\n",
    "    ys.append(t.elapsed_time())\n",
    "    print(i, end=\" \")\n",
    "print()"
   ]
  },
  {
   "cell_type": "code",
   "execution_count": 85,
   "metadata": {
    "button": false,
    "new_sheet": false,
    "run_control": {
     "read_only": false
    },
    "slideshow": {
     "slide_type": "fragment"
    }
   },
   "outputs": [
    {
     "name": "stdout",
     "output_type": "stream",
     "text": [
      "Average time: 0.07018593965956825\n"
     ]
    }
   ],
   "source": [
    "average_time = sum(ys) / trials\n",
    "print(\"Average time:\", average_time)"
   ]
  },
  {
   "cell_type": "code",
   "execution_count": 86,
   "metadata": {
    "button": false,
    "new_sheet": false,
    "run_control": {
     "read_only": false
    },
    "slideshow": {
     "slide_type": "subslide"
    }
   },
   "outputs": [
    {
     "data": {
      "text/plain": [
       "Text(0.5,1,'Time required for generating an output')"
      ]
     },
     "execution_count": 86,
     "metadata": {},
     "output_type": "execute_result"
    },
    {
     "data": {
      "image/png": "[encoded data removed]",
      "text/plain": [
       "<Figure size 432x288 with 1 Axes>"
      ]
     },
     "metadata": {
      "needs_background": "light"
     },
     "output_type": "display_data"
    }
   ],
   "source": [
    "%matplotlib inline\n",
    "\n",
    "import matplotlib.pyplot as plt\n",
    "plt.scatter(xs, ys)\n",
    "plt.title('Time required for generating an output')"
   ]
  },
  {
   "cell_type": "markdown",
   "metadata": {
    "button": false,
    "new_sheet": false,
    "run_control": {
     "read_only": false
    },
    "slideshow": {
     "slide_type": "fragment"
    }
   },
   "source": [
    "Our test generation is much faster, but also our inputs are much smaller.  We see that with derivation trees, we can get much better control over grammar production."
   ]
  },
  {
   "cell_type": "markdown",
   "metadata": {
    "slideshow": {
     "slide_type": "subslide"
    }
   },
   "source": [
    "Finally, how does `GrammarFuzzer` work with `expr_grammar`, where `simple_grammar_fuzzer()` failed?  It works without any issue:"
   ]
  },
  {
   "cell_type": "code",
   "execution_count": 87,
   "metadata": {
    "slideshow": {
     "slide_type": "fragment"
    }
   },
   "outputs": [
    {
     "data": {
      "text/plain": [
       "'(3 / 4 - 9 + 0) + 1 * 5 - 2 * 9 + 1 - 0'"
      ]
     },
     "execution_count": 87,
     "metadata": {},
     "output_type": "execute_result"
    }
   ],
   "source": [
    "f = GrammarFuzzer(expr_grammar, max_nonterminals=10)\n",
    "f.fuzz()"
   ]
  },
  {
   "cell_type": "markdown",
   "metadata": {
    "slideshow": {
     "slide_type": "fragment"
    }
   },
   "source": [
    "With `GrammarFuzzer`, we now have a solid foundation on which to build further fuzzers and illustrate more exciting concepts from the world of generating software tests.  Many of these do not even require writing a grammar – instead, they _infer_ a grammar from the domain at hand, and thus allow to use grammar-based fuzzing even without writing a grammar.  Stay tuned!"
   ]
  },
  {
   "cell_type": "markdown",
   "metadata": {
    "button": false,
    "new_sheet": true,
    "run_control": {
     "read_only": false
    },
    "slideshow": {
     "slide_type": "slide"
    }
   },
   "source": [
    "## Lessons Learned\n",
    "\n",
    "* _Derivation trees_ are important for expressing input structure\n",
    "* _Grammar fuzzing based on derivation trees_ \n",
    "    1. is much more efficient than string-based grammar fuzzing,\n",
    "    2. gives much better control over input generation, and\n",
    "    3. effectively avoids running into infinite expansions."
   ]
  },
  {
   "cell_type": "markdown",
   "metadata": {
    "button": false,
    "new_sheet": false,
    "run_control": {
     "read_only": false
    },
    "slideshow": {
     "slide_type": "skip"
    }
   },
   "source": [
    "## Next Steps\n",
    "\n",
    "Congratulations!  You have reached one of the central \"hubs\" of the book.  From here, there is a wide range of techniques that build on grammar fuzzing."
   ]
  },
  {
   "cell_type": "markdown",
   "metadata": {
    "button": false,
    "new_sheet": false,
    "run_control": {
     "read_only": false
    },
    "slideshow": {
     "slide_type": "skip"
    }
   },
   "source": [
    "### Extending Grammars\n",
    "\n",
    "First, we have a number of techniques that all _extend_ grammars in some form:\n",
    "\n",
    "* [Parsing and recombining inputs](Parser.ipynb) allows to make use of existing inputs, again using derivation trees\n",
    "* [Covering grammar expansions](GrammarCoverageFuzzer.ipynb) allows for _combinatorial_ coverage\n",
    "* [Assigning _probabilities_ to individual expansions](ProbabilisticGrammarFuzzer.ipynb) gives additional control over expansions\n",
    "* [Assigning _constraints_ to individual expansions](ConstraintGrammarFuzzer.ipynb) allows to express _semantic constraints_ on individual rules."
   ]
  },
  {
   "cell_type": "markdown",
   "metadata": {
    "button": false,
    "new_sheet": false,
    "run_control": {
     "read_only": false
    },
    "slideshow": {
     "slide_type": "skip"
    }
   },
   "source": [
    "### Applying Grammars\n",
    "\n",
    "Second, we can _apply_ grammars in a variety of contexts that all involve some form of learning it automatically:\n",
    "\n",
    "* [Fuzzing APIs](APIFuzzer.ipynb), learning a grammar from APIs\n",
    "* [Fuzzing GUIs](GUIFuzzer.ipynb), learning a grammar from user interfaces for subsequent fuzzing\n",
    "* [Mining Grammars](GrammarMiner.ipynb), learning a grammar for arbitrary input formats\n",
    "\n",
    "Keep on expanding!"
   ]
  },
  {
   "cell_type": "markdown",
   "metadata": {
    "slideshow": {
     "slide_type": "slide"
    }
   },
   "source": [
    "## Background\n",
    "\n",
    "Derivation trees (then frequently called _parse trees_) are a standard data structure into which _parsers_ decompose inputs.  The \"Dragon Book\" (also known as \"Compilers: Principles, Techniques, and Tools\") \\cite{Aho2006} discusses parsing into derivation trees as part of compiling programs.  We also use derivation trees [when parsing and recombining inputs](Parser.ipynb).\n",
    "\n",
    "The key idea in this chapter, namely expanding until a limit of symbols is reached, and then always choosing the shortest path, stems from Luke \\cite{Luke2000}."
   ]
  },
  {
   "cell_type": "markdown",
   "metadata": {
    "button": false,
    "new_sheet": false,
    "run_control": {
     "read_only": false
    },
    "slideshow": {
     "slide_type": "slide"
    }
   },
   "source": [
    "## Exercises"
   ]
  },
  {
   "cell_type": "markdown",
   "metadata": {
    "button": false,
    "new_sheet": false,
    "run_control": {
     "read_only": false
    },
    "slideshow": {
     "slide_type": "subslide"
    }
   },
   "source": [
    "### Exercise 1: Caching Method Results\n",
    "\n",
    "Tracking `GrammarFuzzer` reveals that some methods are called again and again, always with the same values.  \n",
    "\n",
    "Set up a class `FasterGrammarFuzzer` with a _cache_ that checks whether the method has been called before, and if so, return the previously computed \"memoized\" value.  Do this for `expansion_to_children()`.  Compare the number of invocations before and after the optimization."
   ]
  },
  {
   "cell_type": "markdown",
   "metadata": {
    "button": false,
    "new_sheet": false,
    "run_control": {
     "read_only": false
    },
    "slideshow": {
     "slide_type": "fragment"
    },
    "solution": "hidden",
    "solution2": "hidden",
    "solution2_first": true,
    "solution_first": true
   },
   "source": [
    "**Important**: For `expansion_to_children()`, make sure that each list returned is an individual copy.  If you return the sane (cached) list, this will interfere with the in-place modification of `GrammarFuzzer`.  Use the Python `copy.deepcopy()` function for this purpose."
   ]
  },
  {
   "cell_type": "markdown",
   "metadata": {
    "slideshow": {
     "slide_type": "skip"
    },
    "solution2": "hidden"
   },
   "source": [
    "**Solution.** Let us demonstrate this for `expansion_to_children()`:"
   ]
  },
  {
   "cell_type": "code",
   "execution_count": 88,
   "metadata": {
    "slideshow": {
     "slide_type": "skip"
    },
    "solution2": "hidden"
   },
   "outputs": [],
   "source": [
    "from copy import deepcopy"
   ]
  },
  {
   "cell_type": "code",
   "execution_count": 89,
   "metadata": {
    "slideshow": {
     "slide_type": "skip"
    },
    "solution2": "hidden"
   },
   "outputs": [],
   "source": [
    "class FasterGrammarFuzzer(GrammarFuzzer):\n",
    "    def __init__(self, *args, **kwargs):\n",
    "        super().__init__(*args, **kwargs)\n",
    "        self._expansion_cache = {}\n",
    "        self._expansion_invocations = 0\n",
    "        self._expansion_invocations_cached = 0\n",
    "\n",
    "    def expansion_to_children(self, expansion):\n",
    "        self._expansion_invocations += 1\n",
    "        if expansion in self._expansion_cache:\n",
    "            self._expansion_invocations_cached += 1\n",
    "            cached_result = deepcopy(self._expansion_cache[expansion])\n",
    "            return cached_result\n",
    "\n",
    "        result = super().expansion_to_children(expansion)\n",
    "        self._expansion_cache[expansion] = result\n",
    "        return result"
   ]
  },
  {
   "cell_type": "code",
   "execution_count": 90,
   "metadata": {
    "slideshow": {
     "slide_type": "skip"
    },
    "solution2": "hidden"
   },
   "outputs": [
    {
     "data": {
      "text/plain": [
       "'7 / 7 + 7 * 7 - 7'"
      ]
     },
     "execution_count": 90,
     "metadata": {},
     "output_type": "execute_result"
    }
   ],
   "source": [
    "f = FasterGrammarFuzzer(EXPR_GRAMMAR, min_nonterminals=3, max_nonterminals=5)\n",
    "f.fuzz()"
   ]
  },
  {
   "cell_type": "code",
   "execution_count": 91,
   "metadata": {
    "slideshow": {
     "slide_type": "skip"
    },
    "solution2": "hidden"
   },
   "outputs": [
    {
     "data": {
      "text/plain": [
       "68"
      ]
     },
     "execution_count": 91,
     "metadata": {},
     "output_type": "execute_result"
    }
   ],
   "source": [
    "f._expansion_invocations"
   ]
  },
  {
   "cell_type": "code",
   "execution_count": 92,
   "metadata": {
    "slideshow": {
     "slide_type": "skip"
    },
    "solution2": "hidden"
   },
   "outputs": [
    {
     "data": {
      "text/plain": [
       "44"
      ]
     },
     "execution_count": 92,
     "metadata": {},
     "output_type": "execute_result"
    }
   ],
   "source": [
    "f._expansion_invocations_cached"
   ]
  },
  {
   "cell_type": "code",
   "execution_count": 93,
   "metadata": {
    "slideshow": {
     "slide_type": "skip"
    },
    "solution2": "hidden"
   },
   "outputs": [
    {
     "name": "stdout",
     "output_type": "stream",
     "text": [
      "64.71% of invocations can be cached\n"
     ]
    }
   ],
   "source": [
    "print(\"%.2f%% of invocations can be cached\" %\n",
    "      (f._expansion_invocations_cached * 100 / f._expansion_invocations))"
   ]
  },
  {
   "cell_type": "markdown",
   "metadata": {
    "slideshow": {
     "slide_type": "subslide"
    },
    "solution2": "hidden",
    "solution2_first": true
   },
   "source": [
    "### Exercise 2: Grammar Pre-Compilation\n",
    "\n",
    "Some methods such as `symbol_cost()` or `expansion_cost()` return a value that is dependent on the grammar only.  Set up a class `EvenFasterGrammarFuzzer()` that pre-computes these values once upon initialization, such that later invocations of `symbol_cost()` or `expansion_cost()` need only look up these values."
   ]
  },
  {
   "cell_type": "markdown",
   "metadata": {
    "slideshow": {
     "slide_type": "skip"
    },
    "solution2": "hidden"
   },
   "source": [
    "**Solution.** Here's a possible solution, using a hack to substitute the `symbol_cost()` and `expansion_cost()` functions once the pre-computed values are set up."
   ]
  },
  {
   "cell_type": "code",
   "execution_count": 94,
   "metadata": {
    "slideshow": {
     "slide_type": "skip"
    },
    "solution2": "hidden"
   },
   "outputs": [],
   "source": [
    "class EvenFasterGrammarFuzzer(GrammarFuzzer):\n",
    "    def __init__(self, *args, **kwargs):\n",
    "        super().__init__(*args, **kwargs)\n",
    "        self._symbol_costs = {}\n",
    "        self._expansion_costs = {}\n",
    "        self.precompute_costs()\n",
    "\n",
    "    def new_symbol_cost(self, symbol, seen=set()):\n",
    "        return self._symbol_costs[symbol]\n",
    "\n",
    "    def new_expansion_cost(self, expansion, seen=set()):\n",
    "        return self._expansion_costs[expansion]\n",
    "\n",
    "    def precompute_costs(self):\n",
    "        for symbol in self.grammar:\n",
    "            self._symbol_costs[symbol] = super().symbol_cost(symbol)\n",
    "            for expansion in self.grammar[symbol]:\n",
    "                self._expansion_costs[expansion] = super(\n",
    "                ).expansion_cost(expansion)\n",
    "\n",
    "        # Make sure we now call the caching methods\n",
    "        self.symbol_cost = self.new_symbol_cost\n",
    "        self.expansion_cost = self.new_expansion_cost"
   ]
  },
  {
   "cell_type": "code",
   "execution_count": 95,
   "metadata": {
    "slideshow": {
     "slide_type": "skip"
    },
    "solution2": "hidden"
   },
   "outputs": [],
   "source": [
    "f = EvenFasterGrammarFuzzer(EXPR_GRAMMAR)"
   ]
  },
  {
   "cell_type": "markdown",
   "metadata": {
    "slideshow": {
     "slide_type": "skip"
    },
    "solution2": "hidden"
   },
   "source": [
    "Here are the individual costs:"
   ]
  },
  {
   "cell_type": "code",
   "execution_count": 96,
   "metadata": {
    "slideshow": {
     "slide_type": "skip"
    },
    "solution2": "hidden"
   },
   "outputs": [
    {
     "data": {
      "text/plain": [
       "{'<start>': 6,\n",
       " '<expr>': 5,\n",
       " '<term>': 4,\n",
       " '<factor>': 3,\n",
       " '<integer>': 2,\n",
       " '<digit>': 1}"
      ]
     },
     "execution_count": 96,
     "metadata": {},
     "output_type": "execute_result"
    }
   ],
   "source": [
    "f._symbol_costs"
   ]
  },
  {
   "cell_type": "code",
   "execution_count": 97,
   "metadata": {
    "slideshow": {
     "slide_type": "skip"
    },
    "solution2": "hidden"
   },
   "outputs": [
    {
     "data": {
      "text/plain": [
       "{'<expr>': 6,\n",
       " '<term> + <expr>': 10,\n",
       " '<term> - <expr>': 10,\n",
       " '<term>': 5,\n",
       " '<factor> * <term>': 8,\n",
       " '<factor> / <term>': 8,\n",
       " '<factor>': 4,\n",
       " '+<factor>': 4,\n",
       " '-<factor>': 4,\n",
       " '(<expr>)': 6,\n",
       " '<integer>.<integer>': 5,\n",
       " '<integer>': 3,\n",
       " '<digit><integer>': 4,\n",
       " '<digit>': 2,\n",
       " '0': 1,\n",
       " '1': 1,\n",
       " '2': 1,\n",
       " '3': 1,\n",
       " '4': 1,\n",
       " '5': 1,\n",
       " '6': 1,\n",
       " '7': 1,\n",
       " '8': 1,\n",
       " '9': 1}"
      ]
     },
     "execution_count": 97,
     "metadata": {},
     "output_type": "execute_result"
    }
   ],
   "source": [
    "f._expansion_costs"
   ]
  },
  {
   "cell_type": "code",
   "execution_count": 98,
   "metadata": {
    "slideshow": {
     "slide_type": "skip"
    },
    "solution2": "hidden"
   },
   "outputs": [
    {
     "data": {
      "text/plain": [
       "'-4 / +(2 + 3 / 5 - 8.4 - 0) * -85005'"
      ]
     },
     "execution_count": 98,
     "metadata": {},
     "output_type": "execute_result"
    }
   ],
   "source": [
    "f = EvenFasterGrammarFuzzer(EXPR_GRAMMAR)\n",
    "f.fuzz()"
   ]
  },
  {
   "cell_type": "markdown",
   "metadata": {
    "button": false,
    "new_sheet": false,
    "run_control": {
     "read_only": false
    },
    "slideshow": {
     "slide_type": "subslide"
    },
    "solution": "hidden",
    "solution2": "hidden",
    "solution2_first": true,
    "solution_first": true
   },
   "source": [
    "### Exercise 3: Maintaining Trees to be Expanded\n",
    "\n",
    "In `expand_tree_once()`, the algorithm traverses the tree again and again to find nonterminals that still can be extended.  Speed up the process by keeping a list of nonterminal symbols in the tree that still can be expanded."
   ]
  },
  {
   "cell_type": "markdown",
   "metadata": {
    "button": false,
    "new_sheet": false,
    "run_control": {
     "read_only": false
    },
    "slideshow": {
     "slide_type": "skip"
    },
    "solution": "hidden",
    "solution2": "hidden"
   },
   "source": [
    "**Solution.** Left as exercise for the reader."
   ]
  },
  {
   "cell_type": "markdown",
   "metadata": {
    "slideshow": {
     "slide_type": "subslide"
    }
   },
   "source": [
    "### Exercise 4: Alternate Random Expansions"
   ]
  },
  {
   "cell_type": "markdown",
   "metadata": {
    "slideshow": {
     "slide_type": "fragment"
    }
   },
   "source": [
    "We could define `expand_node_randomly()` such that it simply invokes `expand_node_by_cost(node, random.choice)`:"
   ]
  },
  {
   "cell_type": "code",
   "execution_count": 99,
   "metadata": {
    "slideshow": {
     "slide_type": "fragment"
    }
   },
   "outputs": [],
   "source": [
    "class ExerciseGrammarFuzzer(GrammarFuzzer):\n",
    "    def expand_node_randomly(self, node):\n",
    "        if self.log:\n",
    "            print(\"Expanding\", all_terminals(node), \"randomly by cost\")\n",
    "\n",
    "        return self.expand_node_by_cost(node, random.choice)"
   ]
  },
  {
   "cell_type": "markdown",
   "metadata": {
    "slideshow": {
     "slide_type": "fragment"
    },
    "solution2": "hidden",
    "solution2_first": true
   },
   "source": [
    "What is the difference between the original implementation and this alternative?"
   ]
  },
  {
   "cell_type": "markdown",
   "metadata": {
    "button": false,
    "new_sheet": false,
    "run_control": {
     "read_only": false
    },
    "slideshow": {
     "slide_type": "skip"
    },
    "solution": "hidden",
    "solution2": "hidden"
   },
   "source": [
    "**Solution.** The alternative in `ExerciseGrammarFuzzer` has another probability distribution.  In the original `GrammarFuzzer`, all expansions have the same likelihood of being expanded.  In `ExerciseGrammarFuzzer`, first, a cost is chosen (randomly); then, one of the expansions with this cost is chosen (again randomly).  This means that expansions whose cost is unique have a higher chance of being selected."
   ]
  }
 ],
 "metadata": {
  "ipub": {
   "bibliography": "fuzzingbook.bib",
   "toc": true
  },
  "kernelspec": {
   "display_name": "Python 3",
   "language": "python",
   "name": "python3"
  },
  "language_info": {
   "codemirror_mode": {
    "name": "ipython",
    "version": 3
   },
   "file_extension": ".py",
   "mimetype": "text/x-python",
   "name": "python",
   "nbconvert_exporter": "python",
   "pygments_lexer": "ipython3",
   "version": "3.6.6"
  },
  "toc": {
   "base_numbering": 1,
   "nav_menu": {},
   "number_sections": true,
   "sideBar": true,
   "skip_h1_title": true,
   "title_cell": "",
   "title_sidebar": "Contents",
   "toc_cell": false,
   "toc_position": {},
   "toc_section_display": true,
   "toc_window_display": true
  }
 },
 "nbformat": 4,
 "nbformat_minor": 2
}
