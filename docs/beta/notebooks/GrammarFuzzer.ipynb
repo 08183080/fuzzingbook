{
 "cells": [
  {
   "cell_type": "markdown",
   "metadata": {
    "button": false,
    "new_sheet": true,
    "run_control": {
     "read_only": false
    },
    "slideshow": {
     "slide_type": "slide"
    }
   },
   "source": [
    "# Efficient Grammar Fuzzing\n",
    "\n",
    "In the [chapter on grammars](Grammars.ipynb), we have seen how to use _grammars_ for very effective and efficient testing.  In this chapter, we refine the previous _string-based_ algorithm into a _tree-based_ algorithm, which is much faster and allows for much more control over the production of fuzz inputs."
   ]
  },
  {
   "cell_type": "markdown",
   "metadata": {
    "button": false,
    "new_sheet": true,
    "run_control": {
     "read_only": false
    },
    "slideshow": {
     "slide_type": "skip"
    }
   },
   "source": [
    "The algorithm in this chapter serves as a foundation for several more techniques; this chapter thus is a \"hub\" in the book."
   ]
  },
  {
   "cell_type": "code",
   "execution_count": 1,
   "metadata": {
    "execution": {
     "iopub.execute_input": "2022-08-06T15:51:57.687715Z",
     "iopub.status.busy": "2022-08-06T15:51:57.687346Z",
     "iopub.status.idle": "2022-08-06T15:51:57.743600Z",
     "shell.execute_reply": "2022-08-06T15:51:57.743861Z"
    },
    "slideshow": {
     "slide_type": "skip"
    }
   },
   "outputs": [
    {
     "data": {
      "text/html": [
       "\n",
       "        <iframe\n",
       "            width=\"640\"\n",
       "            height=\"360\"\n",
       "            src=\"https://www.youtube-nocookie.com/embed/Ohl8TLcLl3A\"\n",
       "            frameborder=\"0\"\n",
       "            allowfullscreen\n",
       "        ></iframe>\n",
       "        "
      ],
      "text/plain": [
       "<IPython.lib.display.IFrame at 0x106736f80>"
      ]
     },
     "execution_count": 1,
     "metadata": {},
     "output_type": "execute_result"
    }
   ],
   "source": [
    "from bookutils import YouTubeVideo\n",
    "YouTubeVideo('Ohl8TLcLl3A')"
   ]
  },
  {
   "cell_type": "markdown",
   "metadata": {
    "button": false,
    "new_sheet": false,
    "run_control": {
     "read_only": false
    },
    "slideshow": {
     "slide_type": "skip"
    }
   },
   "source": [
    "**Prerequisites**\n",
    "\n",
    "* You should know how grammar-based fuzzing works, e.g. from the [chapter on grammars](Grammars.ipynb)."
   ]
  },
  {
   "cell_type": "markdown",
   "metadata": {
    "slideshow": {
     "slide_type": "skip"
    }
   },
   "source": [
    "## Synopsis\n",
    "<!-- Automatically generated. Do not edit. -->\n",
    "\n",
    "To [use the code provided in this chapter](Importing.ipynb), write\n",
    "\n",
    "```python\n",
    ">>> from fuzzingbook.GrammarFuzzer import <identifier>\n",
    "```\n",
    "\n",
    "and then make use of the following features.\n",
    "\n",
    "\n",
    "### Efficient Grammar Fuzzing\n",
    "\n",
    "This chapter introduces `GrammarFuzzer`, an efficient grammar fuzzer that takes a grammar to produce syntactically valid input strings.  Here's a typical usage:\n",
    "\n",
    "```python\n",
    ">>> from Grammars import US_PHONE_GRAMMAR\n",
    ">>> phone_fuzzer = GrammarFuzzer(US_PHONE_GRAMMAR)\n",
    ">>> phone_fuzzer.fuzz()\n",
    "'(476)410-1895'\n",
    "```\n",
    "The `GrammarFuzzer` constructor takes a number of keyword arguments to control its behavior.  `start_symbol`, for instance, allows to set the symbol that expansion starts with (instead of `<start>`):\n",
    "\n",
    "```python\n",
    ">>> area_fuzzer = GrammarFuzzer(US_PHONE_GRAMMAR, start_symbol='<area>')\n",
    ">>> area_fuzzer.fuzz()\n",
    "'881'\n",
    "```\n",
    "Here's how to parameterize the `GrammarFuzzer` constructor:\n",
    "\n",
    "```python\n",
    "Produce strings from `grammar`, starting with `start_symbol`.\n",
    "If `min_nonterminals` or `max_nonterminals` is given, use them as limits \n",
    "for the number of nonterminals produced.  \n",
    "If `disp` is set, display the intermediate derivation trees.\n",
    "If `log` is set, show intermediate steps as text on standard output.\n",
    "\n",
    "```\n",
    "![](PICS/GrammarFuzzer-synopsis-1.svg)\n",
    "\n",
    "### Derivation Trees\n",
    "\n",
    "Internally, `GrammarFuzzer` makes use of [derivation trees](#Derivation-Trees), which it expands step by step.  After producing a string, the tree produced can be accessed in the `derivation_tree` attribute.\n",
    "\n",
    "```python\n",
    ">>> display_tree(phone_fuzzer.derivation_tree)\n",
    "```\n",
    "![](PICS/GrammarFuzzer-synopsis-2.svg)\n",
    "\n",
    "In the internal representation of a derivation tree, a _node_ is a pair (`symbol`, `children`).  For nonterminals, `symbol` is the symbol that is being expanded, and `children` is a list of further nodes.  For terminals, `symbol` is the terminal string, and `children` is empty.\n",
    "\n",
    "```python\n",
    ">>> phone_fuzzer.derivation_tree\n",
    "('<start>',\n",
    " [('<phone-number>',\n",
    "   [('(', []),\n",
    "    ('<area>',\n",
    "     [('<lead-digit>', [('4', [])]),\n",
    "      ('<digit>', [('7', [])]),\n",
    "      ('<digit>', [('6', [])])]),\n",
    "    (')', []),\n",
    "    ('<exchange>',\n",
    "     [('<lead-digit>', [('4', [])]),\n",
    "      ('<digit>', [('1', [])]),\n",
    "      ('<digit>', [('0', [])])]),\n",
    "    ('-', []),\n",
    "    ('<line>',\n",
    "     [('<digit>', [('1', [])]),\n",
    "      ('<digit>', [('8', [])]),\n",
    "      ('<digit>', [('9', [])]),\n",
    "      ('<digit>', [('5', [])])])])])\n",
    "```\n",
    "The chapter contains various helpers to work with derivation trees, including visualization tools – notably, `display_tree()`, above.\n",
    "\n"
   ]
  },
  {
   "cell_type": "markdown",
   "metadata": {
    "slideshow": {
     "slide_type": "slide"
    }
   },
   "source": [
    "## An Insufficient Algorithm\n",
    "\n",
    "In the [previous chapter](Grammars.ipynb), we have introduced the `simple_grammar_fuzzer()` function which takes a grammar and automatically produces a syntactically valid string from it.  However, `simple_grammar_fuzzer()` is just what its name suggests – simple.  To illustrate the problem, let us get back to the `expr_grammar` we created from `EXPR_GRAMMAR_BNF` in the [chapter on grammars](Grammars.ipynb):"
   ]
  },
  {
   "cell_type": "code",
   "execution_count": 2,
   "metadata": {
    "execution": {
     "iopub.execute_input": "2022-08-06T15:51:57.746527Z",
     "iopub.status.busy": "2022-08-06T15:51:57.746251Z",
     "iopub.status.idle": "2022-08-06T15:51:57.747515Z",
     "shell.execute_reply": "2022-08-06T15:51:57.747761Z"
    },
    "slideshow": {
     "slide_type": "skip"
    }
   },
   "outputs": [],
   "source": [
    "import bookutils"
   ]
  },
  {
   "cell_type": "code",
   "execution_count": 3,
   "metadata": {
    "execution": {
     "iopub.execute_input": "2022-08-06T15:51:57.749456Z",
     "iopub.status.busy": "2022-08-06T15:51:57.749114Z",
     "iopub.status.idle": "2022-08-06T15:51:57.750549Z",
     "shell.execute_reply": "2022-08-06T15:51:57.750318Z"
    },
    "slideshow": {
     "slide_type": "skip"
    }
   },
   "outputs": [],
   "source": [
    "from bookutils import quiz"
   ]
  },
  {
   "cell_type": "code",
   "execution_count": 4,
   "metadata": {
    "execution": {
     "iopub.execute_input": "2022-08-06T15:51:57.752293Z",
     "iopub.status.busy": "2022-08-06T15:51:57.752006Z",
     "iopub.status.idle": "2022-08-06T15:51:57.753264Z",
     "shell.execute_reply": "2022-08-06T15:51:57.753631Z"
    },
    "slideshow": {
     "slide_type": "skip"
    }
   },
   "outputs": [],
   "source": [
    "from typing import Tuple, List, Optional, Any, Union, Set, Callable, Dict"
   ]
  },
  {
   "cell_type": "code",
   "execution_count": 5,
   "metadata": {
    "execution": {
     "iopub.execute_input": "2022-08-06T15:51:57.755316Z",
     "iopub.status.busy": "2022-08-06T15:51:57.755011Z",
     "iopub.status.idle": "2022-08-06T15:51:57.756221Z",
     "shell.execute_reply": "2022-08-06T15:51:57.756479Z"
    },
    "slideshow": {
     "slide_type": "skip"
    }
   },
   "outputs": [],
   "source": [
    "from bookutils import unicode_escape"
   ]
  },
  {
   "cell_type": "code",
   "execution_count": 6,
   "metadata": {
    "execution": {
     "iopub.execute_input": "2022-08-06T15:51:57.758185Z",
     "iopub.status.busy": "2022-08-06T15:51:57.757896Z",
     "iopub.status.idle": "2022-08-06T15:51:58.371963Z",
     "shell.execute_reply": "2022-08-06T15:51:58.372136Z"
    },
    "slideshow": {
     "slide_type": "skip"
    }
   },
   "outputs": [],
   "source": [
    "from Grammars import EXPR_EBNF_GRAMMAR, convert_ebnf_grammar, Grammar, Expansion\n",
    "from Grammars import simple_grammar_fuzzer, is_valid_grammar, exp_string"
   ]
  },
  {
   "cell_type": "code",
   "execution_count": 7,
   "metadata": {
    "execution": {
     "iopub.execute_input": "2022-08-06T15:51:58.374661Z",
     "iopub.status.busy": "2022-08-06T15:51:58.374254Z",
     "iopub.status.idle": "2022-08-06T15:51:58.375866Z",
     "shell.execute_reply": "2022-08-06T15:51:58.376094Z"
    },
    "slideshow": {
     "slide_type": "subslide"
    }
   },
   "outputs": [
    {
     "data": {
      "text/plain": [
       "{'<start>': ['<expr>'],\n",
       " '<expr>': ['<term> + <expr>', '<term> - <expr>', '<term>'],\n",
       " '<term>': ['<factor> * <term>', '<factor> / <term>', '<factor>'],\n",
       " '<factor>': ['<sign-1><factor>', '(<expr>)', '<integer><symbol-1>'],\n",
       " '<sign>': ['+', '-'],\n",
       " '<integer>': ['<digit-1>'],\n",
       " '<digit>': ['0', '1', '2', '3', '4', '5', '6', '7', '8', '9'],\n",
       " '<symbol>': ['.<integer>'],\n",
       " '<sign-1>': ['', '<sign>'],\n",
       " '<symbol-1>': ['', '<symbol>'],\n",
       " '<digit-1>': ['<digit>', '<digit><digit-1>']}"
      ]
     },
     "execution_count": 7,
     "metadata": {},
     "output_type": "execute_result"
    }
   ],
   "source": [
    "expr_grammar = convert_ebnf_grammar(EXPR_EBNF_GRAMMAR)\n",
    "expr_grammar"
   ]
  },
  {
   "cell_type": "markdown",
   "metadata": {
    "slideshow": {
     "slide_type": "subslide"
    }
   },
   "source": [
    "`expr_grammar` has an interesting property.  If we feed it into `simple_grammar_fuzzer()`, the function gets stuck:"
   ]
  },
  {
   "cell_type": "code",
   "execution_count": 8,
   "metadata": {
    "execution": {
     "iopub.execute_input": "2022-08-06T15:51:58.377797Z",
     "iopub.status.busy": "2022-08-06T15:51:58.377466Z",
     "iopub.status.idle": "2022-08-06T15:51:58.378903Z",
     "shell.execute_reply": "2022-08-06T15:51:58.378694Z"
    },
    "slideshow": {
     "slide_type": "skip"
    }
   },
   "outputs": [],
   "source": [
    "from ExpectError import ExpectTimeout"
   ]
  },
  {
   "cell_type": "code",
   "execution_count": 9,
   "metadata": {
    "execution": {
     "iopub.execute_input": "2022-08-06T15:51:58.465902Z",
     "iopub.status.busy": "2022-08-06T15:51:58.422273Z",
     "iopub.status.idle": "2022-08-06T15:51:59.386405Z",
     "shell.execute_reply": "2022-08-06T15:51:59.386800Z"
    },
    "slideshow": {
     "slide_type": "fragment"
    }
   },
   "outputs": [
    {
     "name": "stderr",
     "output_type": "stream",
     "text": [
      "Traceback (most recent call last):\n",
      "  File \"/var/folders/n2/xd9445p97rb3xh7m1dfx8_4h0006ts/T/ipykernel_24014/3259437052.py\", line 2, in <module>\n",
      "    simple_grammar_fuzzer(grammar=expr_grammar, max_nonterminals=3)\n",
      "  File \"/Users/zeller/Projects/fuzzingbook/notebooks/Grammars.ipynb\", line 86, in simple_grammar_fuzzer\n",
      "    while len(nonterminals(term)) > 0:\n",
      "  File \"/Users/zeller/Projects/fuzzingbook/notebooks/Grammars.ipynb\", line 61, in nonterminals\n",
      "    return RE_NONTERMINAL.findall(expansion)\n",
      "  File \"/Users/zeller/Projects/fuzzingbook/notebooks/Timeout.ipynb\", line 43, in timeout_handler\n",
      "    raise TimeoutError()\n",
      "TimeoutError (expected)\n"
     ]
    }
   ],
   "source": [
    "with ExpectTimeout(1):\n",
    "    simple_grammar_fuzzer(grammar=expr_grammar, max_nonterminals=3)"
   ]
  },
  {
   "cell_type": "markdown",
   "metadata": {
    "slideshow": {
     "slide_type": "subslide"
    }
   },
   "source": [
    "Why is that so?  Have a look at the grammar; remember what you know about `simple_grammar_fuzzer()`; and run `simple_grammar_fuzzer()` with `log=true` argument to see the expansions."
   ]
  },
  {
   "cell_type": "code",
   "execution_count": 10,
   "metadata": {
    "execution": {
     "iopub.execute_input": "2022-08-06T15:51:59.391720Z",
     "iopub.status.busy": "2022-08-06T15:51:59.391372Z",
     "iopub.status.idle": "2022-08-06T15:51:59.393040Z",
     "shell.execute_reply": "2022-08-06T15:51:59.393230Z"
    },
    "slideshow": {
     "slide_type": "fragment"
    }
   },
   "outputs": [
    {
     "data": {
      "text/html": [
       "\n",
       "    \n",
       "    <script>\n",
       "    var bad_answers = new Map();\n",
       "\n",
       "    function answer(quiz_id) {\n",
       "        ans = 0;\n",
       "        for (i = 1;; i++) {\n",
       "            checkbox = document.getElementById(quiz_id + \"-\" + i.toString());\n",
       "            if (!checkbox)\n",
       "                break;\n",
       "            if (checkbox.checked)\n",
       "                ans |= (1 << i);\n",
       "        }\n",
       "        return ans;\n",
       "    }\n",
       "    function check_selection(quiz_id, correct_answer, multiple_choice, hint) {\n",
       "        given_answer = answer(quiz_id);\n",
       "        if (given_answer == correct_answer)\n",
       "        {\n",
       "            document.getElementById(quiz_id + \"-submit\").value = \"Correct!\";\n",
       "            document.getElementById(quiz_id + \"-hint\").innerHTML = \"\";\n",
       "\n",
       "            for (i = 1;; i++) {\n",
       "                checkbox = document.getElementById(quiz_id + \"-\" + i.toString());\n",
       "                label = document.getElementById(quiz_id + \"-\" + i.toString() + \"-label\")\n",
       "                if (!checkbox)\n",
       "                    break;\n",
       "    \n",
       "                if (checkbox.checked) {\n",
       "                    label.style.fontWeight = \"bold\";\n",
       "                }\n",
       "                else {\n",
       "                    label.style.textDecoration = \"line-through\";\n",
       "                }\n",
       "            }\n",
       "        }\n",
       "        else \n",
       "        {\n",
       "            document.getElementById(quiz_id + \"-submit\").value = \"Try again\";\n",
       "            \n",
       "            if (!bad_answers.has(quiz_id)) {\n",
       "                bad_answers.set(quiz_id, 1);\n",
       "            }\n",
       "            else {\n",
       "                bad_answers.set(quiz_id, bad_answers.get(quiz_id) + 1);\n",
       "            }\n",
       "\n",
       "            if (bad_answers.get(quiz_id) >= 2 && hint.length > 0) {\n",
       "                document.getElementById(quiz_id + \"-hint\").innerHTML = \n",
       "                    \"&nbsp;&nbsp;(Hint: <code>\" + hint + \"</code>)\";\n",
       "            }\n",
       "\n",
       "            if (!multiple_choice) {\n",
       "                for (i = 1;; i++) {\n",
       "                    checkbox = document.getElementById(quiz_id + \"-\" + i.toString());\n",
       "                    label = document.getElementById(quiz_id + \"-\" + i.toString() + \"-label\")\n",
       "\n",
       "                    if (!checkbox)\n",
       "                        break;\n",
       "                    if (checkbox.checked) {\n",
       "                        label.style.textDecoration = \"line-through\";\n",
       "                    }\n",
       "                }\n",
       "            }\n",
       "        }\n",
       "    }\n",
       "    function clear_selection(quiz_id) {\n",
       "        document.getElementById(quiz_id + \"-submit\").value = \"Submit\";\n",
       "        document.getElementById(quiz_id + \"-hint\").innerHTML = \"\";\n",
       "    }\n",
       "    </script>\n",
       "    \n",
       "    <div class=\"quiz\">\n",
       "    <h3 class=\"quiz_title\">Quiz</h3>\n",
       "    <p>\n",
       "    <div class=\"quiz_question\">Why does <code>simple_grammar_fuzzer()</code> hang?</div>\n",
       "    </p>\n",
       "    <p>\n",
       "    <div class=\"quiz_options\" title=\"Pick a choice.\">\n",
       "    \n",
       "        <input type=\"radio\" name=\"b4b1b61c-159f-11ed-bedd-6298cf1a578f\" id=\"b4b1b61c-159f-11ed-bedd-6298cf1a578f-1\" onclick=\"clear_selection('b4b1b61c-159f-11ed-bedd-6298cf1a578f')\">\n",
       "        <label id=\"b4b1b61c-159f-11ed-bedd-6298cf1a578f-1-label\" for=\"b4b1b61c-159f-11ed-bedd-6298cf1a578f-1\">It produces an infinite number of additions</label><br>\n",
       "    \n",
       "        <input type=\"radio\" name=\"b4b1b61c-159f-11ed-bedd-6298cf1a578f\" id=\"b4b1b61c-159f-11ed-bedd-6298cf1a578f-2\" onclick=\"clear_selection('b4b1b61c-159f-11ed-bedd-6298cf1a578f')\">\n",
       "        <label id=\"b4b1b61c-159f-11ed-bedd-6298cf1a578f-2-label\" for=\"b4b1b61c-159f-11ed-bedd-6298cf1a578f-2\">It produces an infinite number of digits</label><br>\n",
       "    \n",
       "        <input type=\"radio\" name=\"b4b1b61c-159f-11ed-bedd-6298cf1a578f\" id=\"b4b1b61c-159f-11ed-bedd-6298cf1a578f-3\" onclick=\"clear_selection('b4b1b61c-159f-11ed-bedd-6298cf1a578f')\">\n",
       "        <label id=\"b4b1b61c-159f-11ed-bedd-6298cf1a578f-3-label\" for=\"b4b1b61c-159f-11ed-bedd-6298cf1a578f-3\">It produces an infinite number of parentheses</label><br>\n",
       "    \n",
       "        <input type=\"radio\" name=\"b4b1b61c-159f-11ed-bedd-6298cf1a578f\" id=\"b4b1b61c-159f-11ed-bedd-6298cf1a578f-4\" onclick=\"clear_selection('b4b1b61c-159f-11ed-bedd-6298cf1a578f')\">\n",
       "        <label id=\"b4b1b61c-159f-11ed-bedd-6298cf1a578f-4-label\" for=\"b4b1b61c-159f-11ed-bedd-6298cf1a578f-4\">It produces an infinite number of signs</label><br>\n",
       "    \n",
       "    </div>\n",
       "    </p>\n",
       "    <input id=\"b4b1b61c-159f-11ed-bedd-6298cf1a578f-submit\" type=\"submit\" value=\"Submit\" onclick=\"check_selection('b4b1b61c-159f-11ed-bedd-6298cf1a578f', 8, 0, '(3 * 3 * 3) ** (3 / (3 * 3))')\">\n",
       "    <span class=\"quiz_hint\" id=\"b4b1b61c-159f-11ed-bedd-6298cf1a578f-hint\"></span>\n",
       "    </div>\n",
       "    "
      ],
      "text/plain": [
       "<IPython.core.display.HTML object>"
      ]
     },
     "execution_count": 10,
     "metadata": {},
     "output_type": "execute_result"
    }
   ],
   "source": [
    "quiz(\"Why does `simple_grammar_fuzzer()` hang?\",\n",
    "     [\n",
    "         \"It produces an infinite number of additions\",\n",
    "         \"It produces an infinite number of digits\",\n",
    "         \"It produces an infinite number of parentheses\",\n",
    "         \"It produces an infinite number of signs\",\n",
    "     ], '(3 * 3 * 3) ** (3 / (3 * 3))')"
   ]
  },
  {
   "cell_type": "markdown",
   "metadata": {
    "slideshow": {
     "slide_type": "subslide"
    }
   },
   "source": [
    "Indeed! The problem is in this rule:"
   ]
  },
  {
   "cell_type": "code",
   "execution_count": 11,
   "metadata": {
    "execution": {
     "iopub.execute_input": "2022-08-06T15:51:59.395202Z",
     "iopub.status.busy": "2022-08-06T15:51:59.394871Z",
     "iopub.status.idle": "2022-08-06T15:51:59.396158Z",
     "shell.execute_reply": "2022-08-06T15:51:59.396345Z"
    },
    "slideshow": {
     "slide_type": "fragment"
    }
   },
   "outputs": [
    {
     "data": {
      "text/plain": [
       "['<sign-1><factor>', '(<expr>)', '<integer><symbol-1>']"
      ]
     },
     "execution_count": 11,
     "metadata": {},
     "output_type": "execute_result"
    }
   ],
   "source": [
    "expr_grammar['<factor>']"
   ]
  },
  {
   "cell_type": "markdown",
   "metadata": {
    "slideshow": {
     "slide_type": "fragment"
    }
   },
   "source": [
    "Here, any choice except for `(expr)` increases the number of symbols, even if only temporary.  Since we place a hard limit on the number of symbols to expand, the only choice left for expanding `<factor>` is `(<expr>)`, which leads to an _infinite addition of parentheses._"
   ]
  },
  {
   "cell_type": "markdown",
   "metadata": {
    "button": false,
    "new_sheet": false,
    "run_control": {
     "read_only": false
    },
    "slideshow": {
     "slide_type": "subslide"
    }
   },
   "source": [
    "The problem of potentially infinite expansion is only one of the problems with `simple_grammar_fuzzer()`.  More problems include:\n",
    "\n",
    "1. *It is inefficient*.  With each iteration, this fuzzer would go search the string produced so far for symbols to expand.  This becomes inefficient as the production string grows.\n",
    "\n",
    "2. *It is hard to control.*  Even while limiting the number of symbols, it is still possible to obtain very long strings – and even infinitely long ones, as discussed above.\n",
    "\n",
    "Let us illustrate both problems by plotting the time required for strings of different lengths."
   ]
  },
  {
   "cell_type": "code",
   "execution_count": 12,
   "metadata": {
    "button": false,
    "execution": {
     "iopub.execute_input": "2022-08-06T15:51:59.398240Z",
     "iopub.status.busy": "2022-08-06T15:51:59.397905Z",
     "iopub.status.idle": "2022-08-06T15:51:59.399290Z",
     "shell.execute_reply": "2022-08-06T15:51:59.399633Z"
    },
    "new_sheet": false,
    "run_control": {
     "read_only": false
    },
    "slideshow": {
     "slide_type": "skip"
    }
   },
   "outputs": [],
   "source": [
    "from Grammars import simple_grammar_fuzzer"
   ]
  },
  {
   "cell_type": "code",
   "execution_count": 13,
   "metadata": {
    "button": false,
    "execution": {
     "iopub.execute_input": "2022-08-06T15:51:59.402031Z",
     "iopub.status.busy": "2022-08-06T15:51:59.401738Z",
     "iopub.status.idle": "2022-08-06T15:51:59.402862Z",
     "shell.execute_reply": "2022-08-06T15:51:59.403053Z"
    },
    "new_sheet": false,
    "run_control": {
     "read_only": false
    },
    "slideshow": {
     "slide_type": "skip"
    }
   },
   "outputs": [],
   "source": [
    "from Grammars import START_SYMBOL, EXPR_GRAMMAR, URL_GRAMMAR, CGI_GRAMMAR"
   ]
  },
  {
   "cell_type": "code",
   "execution_count": 14,
   "metadata": {
    "button": false,
    "execution": {
     "iopub.execute_input": "2022-08-06T15:51:59.405386Z",
     "iopub.status.busy": "2022-08-06T15:51:59.404992Z",
     "iopub.status.idle": "2022-08-06T15:51:59.406168Z",
     "shell.execute_reply": "2022-08-06T15:51:59.406411Z"
    },
    "new_sheet": false,
    "run_control": {
     "read_only": false
    },
    "slideshow": {
     "slide_type": "skip"
    }
   },
   "outputs": [],
   "source": [
    "from Grammars import RE_NONTERMINAL, nonterminals, is_nonterminal"
   ]
  },
  {
   "cell_type": "code",
   "execution_count": 15,
   "metadata": {
    "button": false,
    "execution": {
     "iopub.execute_input": "2022-08-06T15:51:59.408126Z",
     "iopub.status.busy": "2022-08-06T15:51:59.407837Z",
     "iopub.status.idle": "2022-08-06T15:51:59.409012Z",
     "shell.execute_reply": "2022-08-06T15:51:59.409206Z"
    },
    "new_sheet": false,
    "run_control": {
     "read_only": false
    },
    "slideshow": {
     "slide_type": "skip"
    }
   },
   "outputs": [],
   "source": [
    "from Timer import Timer"
   ]
  },
  {
   "cell_type": "code",
   "execution_count": 16,
   "metadata": {
    "button": false,
    "execution": {
     "iopub.execute_input": "2022-08-06T15:51:59.503630Z",
     "iopub.status.busy": "2022-08-06T15:51:59.463088Z",
     "iopub.status.idle": "2022-08-06T15:52:09.085035Z",
     "shell.execute_reply": "2022-08-06T15:52:09.085246Z"
    },
    "new_sheet": false,
    "run_control": {
     "read_only": false
    },
    "slideshow": {
     "slide_type": "subslide"
    }
   },
   "outputs": [
    {
     "name": "stdout",
     "output_type": "stream",
     "text": [
      "0 1 2 3 4 5 6 7 8 9 10 11 12 13 14 15 16 17 18 19 20 21 22 23 24 25 26 27 28 29 30 31 32 33 34 35 36 37 38 39 40 41 42 43 44 45 46 47 48 49 \n"
     ]
    }
   ],
   "source": [
    "trials = 50\n",
    "xs = []\n",
    "ys = []\n",
    "for i in range(trials):\n",
    "    with Timer() as t:\n",
    "        s = simple_grammar_fuzzer(EXPR_GRAMMAR, max_nonterminals=15)\n",
    "    xs.append(len(s))\n",
    "    ys.append(t.elapsed_time())\n",
    "    print(i, end=\" \")\n",
    "print()"
   ]
  },
  {
   "cell_type": "code",
   "execution_count": 17,
   "metadata": {
    "button": false,
    "execution": {
     "iopub.execute_input": "2022-08-06T15:52:09.087287Z",
     "iopub.status.busy": "2022-08-06T15:52:09.087004Z",
     "iopub.status.idle": "2022-08-06T15:52:09.088236Z",
     "shell.execute_reply": "2022-08-06T15:52:09.088428Z"
    },
    "new_sheet": false,
    "run_control": {
     "read_only": false
    },
    "slideshow": {
     "slide_type": "subslide"
    }
   },
   "outputs": [
    {
     "name": "stdout",
     "output_type": "stream",
     "text": [
      "Average time: 0.1933908175234683\n"
     ]
    }
   ],
   "source": [
    "average_time = sum(ys) / trials\n",
    "print(\"Average time:\", average_time)"
   ]
  },
  {
   "cell_type": "code",
   "execution_count": 18,
   "metadata": {
    "button": false,
    "execution": {
     "iopub.execute_input": "2022-08-06T15:52:09.096681Z",
     "iopub.status.busy": "2022-08-06T15:52:09.096363Z",
     "iopub.status.idle": "2022-08-06T15:52:09.166192Z",
     "shell.execute_reply": "2022-08-06T15:52:09.166393Z"
    },
    "new_sheet": false,
    "run_control": {
     "read_only": false
    },
    "slideshow": {
     "slide_type": "fragment"
    }
   },
   "outputs": [
    {
     "data": {
      "image/png": "[encoded data removed]",
      "text/plain": [
       "<Figure size 432x288 with 1 Axes>"
      ]
     },
     "metadata": {
      "needs_background": "light"
     },
     "output_type": "display_data"
    }
   ],
   "source": [
    "%matplotlib inline\n",
    "\n",
    "import matplotlib.pyplot as plt\n",
    "plt.scatter(xs, ys)\n",
    "plt.title('Time required for generating an output');"
   ]
  },
  {
   "cell_type": "markdown",
   "metadata": {
    "button": false,
    "new_sheet": false,
    "run_control": {
     "read_only": false
    },
    "slideshow": {
     "slide_type": "fragment"
    }
   },
   "source": [
    "We see that (1) the time needed to generate an output increases quadratically with the length of that ouptut, and that (2) a large portion of the produced outputs are tens of thousands of characters long."
   ]
  },
  {
   "cell_type": "markdown",
   "metadata": {
    "slideshow": {
     "slide_type": "subslide"
    }
   },
   "source": [
    "To address these problems, we need a _smarter algorithm_ – one that is more efficient, that gets us better control over expansions, and that is able to foresee in `expr_grammar` that the `(expr)` alternative yields a potentially infinite expansion, in contrast to the other two."
   ]
  },
  {
   "cell_type": "markdown",
   "metadata": {
    "button": false,
    "new_sheet": false,
    "run_control": {
     "read_only": false
    },
    "slideshow": {
     "slide_type": "slide"
    }
   },
   "source": [
    "## Derivation Trees\n",
    "\n",
    "To both obtain a more efficient algorithm _and_ exercise better control over expansions, we will use a special representation for the strings that our grammar produces.  The general idea is to use a *tree* structure that will be subsequently expanded – a so-called *derivation tree*.  This representation allows us to always keep track of our expansion status – answering questions such as which elements have been expanded into which others, and which symbols still need to be expanded.  Furthermore, adding new elements to a tree is far more efficient than replacing strings again and again."
   ]
  },
  {
   "cell_type": "markdown",
   "metadata": {
    "button": false,
    "new_sheet": false,
    "run_control": {
     "read_only": false
    },
    "slideshow": {
     "slide_type": "fragment"
    }
   },
   "source": [
    "Like other trees used in programming, a derivation tree (also known as *parse tree* or *concrete syntax tree*) consists of *nodes* which have other nodes (called *child nodes*) as their *children*.  The tree starts with one node that has no parent; this is called the *root node*; a node without children is called a *leaf*."
   ]
  },
  {
   "cell_type": "markdown",
   "metadata": {
    "button": false,
    "new_sheet": false,
    "run_control": {
     "read_only": false
    },
    "slideshow": {
     "slide_type": "subslide"
    }
   },
   "source": [
    "The grammar expansion process with derivation trees is illustrated in the following steps, using the arithmetic grammar [from\n",
    "the chapter on grammars](Grammars.ipynb).  We start with a single node as root of the tree, representing the *start symbol* – in our case `<start>`."
   ]
  },
  {
   "cell_type": "code",
   "execution_count": 19,
   "metadata": {
    "button": false,
    "execution": {
     "iopub.execute_input": "2022-08-06T15:52:09.168412Z",
     "iopub.status.busy": "2022-08-06T15:52:09.168124Z",
     "iopub.status.idle": "2022-08-06T15:52:09.174770Z",
     "shell.execute_reply": "2022-08-06T15:52:09.174940Z"
    },
    "ipub": {
     "ignore": true
    },
    "new_sheet": false,
    "run_control": {
     "read_only": false
    },
    "slideshow": {
     "slide_type": "skip"
    }
   },
   "outputs": [],
   "source": [
    "# ignore\n",
    "from graphviz import Digraph"
   ]
  },
  {
   "cell_type": "code",
   "execution_count": 20,
   "metadata": {
    "button": false,
    "execution": {
     "iopub.execute_input": "2022-08-06T15:52:09.176942Z",
     "iopub.status.busy": "2022-08-06T15:52:09.176636Z",
     "iopub.status.idle": "2022-08-06T15:52:09.178109Z",
     "shell.execute_reply": "2022-08-06T15:52:09.178275Z"
    },
    "ipub": {
     "ignore": true
    },
    "new_sheet": false,
    "run_control": {
     "read_only": false
    },
    "slideshow": {
     "slide_type": "skip"
    }
   },
   "outputs": [],
   "source": [
    "# ignore\n",
    "tree = Digraph(\"root\")\n",
    "tree.attr('node', shape='plain')\n",
    "tree.node(r\"\\<start\\>\")"
   ]
  },
  {
   "cell_type": "code",
   "execution_count": 21,
   "metadata": {
    "button": false,
    "execution": {
     "iopub.execute_input": "2022-08-06T15:52:09.182613Z",
     "iopub.status.busy": "2022-08-06T15:52:09.179793Z",
     "iopub.status.idle": "2022-08-06T15:52:09.470853Z",
     "shell.execute_reply": "2022-08-06T15:52:09.471230Z"
    },
    "new_sheet": false,
    "run_control": {
     "read_only": false
    },
    "slideshow": {
     "slide_type": "fragment"
    }
   },
   "outputs": [
    {
     "data": {
      "image/svg+xml": [
       "<?xml version=\"1.0\" encoding=\"UTF-8\" standalone=\"no\"?>\n",
       "<!DOCTYPE svg PUBLIC \"-//W3C//DTD SVG 1.1//EN\"\n",
       " \"http://www.w3.org/Graphics/SVG/1.1/DTD/svg11.dtd\">\n",
       "<!-- Generated by graphviz version 5.0.0 (20220707.1540)\n",
       " -->\n",
       "<!-- Title: root Pages: 1 -->\n",
       "<svg width=\"48pt\" height=\"23pt\"\n",
       " viewBox=\"0.00 0.00 48.00 23.00\" xmlns=\"http://www.w3.org/2000/svg\" xmlns:xlink=\"http://www.w3.org/1999/xlink\">\n",
       "<g id=\"graph0\" class=\"graph\" transform=\"scale(1 1) rotate(0) translate(4 19)\">\n",
       "<title>root</title>\n",
       "<polygon fill=\"white\" stroke=\"transparent\" points=\"-4,4 -4,-19 44,-19 44,4 -4,4\"/>\n",
       "<!-- \\&lt;start\\&gt; -->\n",
       "<g id=\"node1\" class=\"node\">\n",
       "<title>\\&lt;start\\&gt;</title>\n",
       "<text text-anchor=\"middle\" x=\"20\" y=\"-3.8\" font-family=\"Times,serif\" font-size=\"14.00\">&lt;start&gt;</text>\n",
       "</g>\n",
       "</g>\n",
       "</svg>\n"
      ],
      "text/plain": [
       "<graphviz.graphs.Digraph at 0x12253f7c0>"
      ]
     },
     "execution_count": 21,
     "metadata": {},
     "output_type": "execute_result"
    }
   ],
   "source": [
    "# ignore\n",
    "tree"
   ]
  },
  {
   "cell_type": "markdown",
   "metadata": {
    "button": false,
    "new_sheet": false,
    "run_control": {
     "read_only": false
    },
    "slideshow": {
     "slide_type": "subslide"
    }
   },
   "source": [
    "To expand the tree, we traverse it, searching for a nonterminal symbol $S$ without children.  $S$ thus is a symbol that still has to be expanded.  We then chose an expansion for $S$ from the grammar.  Then, we add the expansion as a new child of $S$.  For our start symbol `<start>`, the only expansion is `<expr>`, so we add it as a child."
   ]
  },
  {
   "cell_type": "code",
   "execution_count": 22,
   "metadata": {
    "button": false,
    "execution": {
     "iopub.execute_input": "2022-08-06T15:52:09.473730Z",
     "iopub.status.busy": "2022-08-06T15:52:09.473444Z",
     "iopub.status.idle": "2022-08-06T15:52:09.474566Z",
     "shell.execute_reply": "2022-08-06T15:52:09.474794Z"
    },
    "ipub": {
     "ignore": true
    },
    "new_sheet": false,
    "run_control": {
     "read_only": false
    },
    "slideshow": {
     "slide_type": "skip"
    }
   },
   "outputs": [],
   "source": [
    "# ignore\n",
    "tree.edge(r\"\\<start\\>\", r\"\\<expr\\>\")"
   ]
  },
  {
   "cell_type": "code",
   "execution_count": 23,
   "metadata": {
    "button": false,
    "execution": {
     "iopub.execute_input": "2022-08-06T15:52:09.478813Z",
     "iopub.status.busy": "2022-08-06T15:52:09.478508Z",
     "iopub.status.idle": "2022-08-06T15:52:09.760929Z",
     "shell.execute_reply": "2022-08-06T15:52:09.761292Z"
    },
    "new_sheet": false,
    "run_control": {
     "read_only": false
    },
    "slideshow": {
     "slide_type": "fragment"
    }
   },
   "outputs": [
    {
     "data": {
      "image/svg+xml": [
       "<?xml version=\"1.0\" encoding=\"UTF-8\" standalone=\"no\"?>\n",
       "<!DOCTYPE svg PUBLIC \"-//W3C//DTD SVG 1.1//EN\"\n",
       " \"http://www.w3.org/Graphics/SVG/1.1/DTD/svg11.dtd\">\n",
       "<!-- Generated by graphviz version 5.0.0 (20220707.1540)\n",
       " -->\n",
       "<!-- Title: root Pages: 1 -->\n",
       "<svg width=\"49pt\" height=\"74pt\"\n",
       " viewBox=\"0.00 0.00 49.00 74.00\" xmlns=\"http://www.w3.org/2000/svg\" xmlns:xlink=\"http://www.w3.org/1999/xlink\">\n",
       "<g id=\"graph0\" class=\"graph\" transform=\"scale(1 1) rotate(0) translate(4 70)\">\n",
       "<title>root</title>\n",
       "<polygon fill=\"white\" stroke=\"transparent\" points=\"-4,4 -4,-70 45,-70 45,4 -4,4\"/>\n",
       "<!-- \\&lt;start\\&gt; -->\n",
       "<g id=\"node1\" class=\"node\">\n",
       "<title>\\&lt;start\\&gt;</title>\n",
       "<text text-anchor=\"middle\" x=\"20.5\" y=\"-54.8\" font-family=\"Times,serif\" font-size=\"14.00\">&lt;start&gt;</text>\n",
       "</g>\n",
       "<!-- \\&lt;expr\\&gt; -->\n",
       "<g id=\"node2\" class=\"node\">\n",
       "<title>\\&lt;expr\\&gt;</title>\n",
       "<text text-anchor=\"middle\" x=\"20.5\" y=\"-3.8\" font-family=\"Times,serif\" font-size=\"14.00\">&lt;expr&gt;</text>\n",
       "</g>\n",
       "<!-- \\&lt;start\\&gt;&#45;&gt;\\&lt;expr\\&gt; -->\n",
       "<g id=\"edge1\" class=\"edge\">\n",
       "<title>\\&lt;start\\&gt;&#45;&gt;\\&lt;expr\\&gt;</title>\n",
       "<path fill=\"none\" stroke=\"black\" d=\"M20.5,-50.69C20.5,-44.18 20.5,-34.1 20.5,-25.43\"/>\n",
       "<polygon fill=\"black\" stroke=\"black\" points=\"24,-25.26 20.5,-15.26 17,-25.26 24,-25.26\"/>\n",
       "</g>\n",
       "</g>\n",
       "</svg>\n"
      ],
      "text/plain": [
       "<graphviz.graphs.Digraph at 0x12253f7c0>"
      ]
     },
     "execution_count": 23,
     "metadata": {},
     "output_type": "execute_result"
    }
   ],
   "source": [
    "# ignore\n",
    "tree"
   ]
  },
  {
   "cell_type": "markdown",
   "metadata": {
    "button": false,
    "new_sheet": false,
    "run_control": {
     "read_only": false
    },
    "slideshow": {
     "slide_type": "subslide"
    }
   },
   "source": [
    "To construct the produced string from a derivation tree, we traverse the tree in order and collect the symbols at the leaves of the tree.  In the case above, we obtain the string `\"<expr>\"`.\n",
    "\n",
    "To further expand the tree, we choose another symbol to expand, and add its expansion as new children.  This would get us the `<expr>` symbol, which gets expanded into `<expr> + <term>`, adding three children."
   ]
  },
  {
   "cell_type": "code",
   "execution_count": 24,
   "metadata": {
    "button": false,
    "execution": {
     "iopub.execute_input": "2022-08-06T15:52:09.764259Z",
     "iopub.status.busy": "2022-08-06T15:52:09.763892Z",
     "iopub.status.idle": "2022-08-06T15:52:09.765226Z",
     "shell.execute_reply": "2022-08-06T15:52:09.765587Z"
    },
    "ipub": {
     "ignore": true
    },
    "new_sheet": false,
    "run_control": {
     "read_only": false
    },
    "slideshow": {
     "slide_type": "skip"
    }
   },
   "outputs": [],
   "source": [
    "# ignore\n",
    "tree.edge(r\"\\<expr\\>\", r\"\\<expr\\> \")\n",
    "tree.edge(r\"\\<expr\\>\", r\"+\")\n",
    "tree.edge(r\"\\<expr\\>\", r\"\\<term\\>\")"
   ]
  },
  {
   "cell_type": "code",
   "execution_count": 25,
   "metadata": {
    "button": false,
    "execution": {
     "iopub.execute_input": "2022-08-06T15:52:09.770120Z",
     "iopub.status.busy": "2022-08-06T15:52:09.769701Z",
     "iopub.status.idle": "2022-08-06T15:52:10.056150Z",
     "shell.execute_reply": "2022-08-06T15:52:10.056496Z"
    },
    "new_sheet": false,
    "run_control": {
     "read_only": false
    },
    "slideshow": {
     "slide_type": "fragment"
    }
   },
   "outputs": [
    {
     "data": {
      "image/svg+xml": [
       "<?xml version=\"1.0\" encoding=\"UTF-8\" standalone=\"no\"?>\n",
       "<!DOCTYPE svg PUBLIC \"-//W3C//DTD SVG 1.1//EN\"\n",
       " \"http://www.w3.org/Graphics/SVG/1.1/DTD/svg11.dtd\">\n",
       "<!-- Generated by graphviz version 5.0.0 (20220707.1540)\n",
       " -->\n",
       "<!-- Title: root Pages: 1 -->\n",
       "<svg width=\"141pt\" height=\"125pt\"\n",
       " viewBox=\"0.00 0.00 141.00 125.00\" xmlns=\"http://www.w3.org/2000/svg\" xmlns:xlink=\"http://www.w3.org/1999/xlink\">\n",
       "<g id=\"graph0\" class=\"graph\" transform=\"scale(1 1) rotate(0) translate(4 121)\">\n",
       "<title>root</title>\n",
       "<polygon fill=\"white\" stroke=\"transparent\" points=\"-4,4 -4,-121 137,-121 137,4 -4,4\"/>\n",
       "<!-- \\&lt;start\\&gt; -->\n",
       "<g id=\"node1\" class=\"node\">\n",
       "<title>\\&lt;start\\&gt;</title>\n",
       "<text text-anchor=\"middle\" x=\"67.5\" y=\"-105.8\" font-family=\"Times,serif\" font-size=\"14.00\">&lt;start&gt;</text>\n",
       "</g>\n",
       "<!-- \\&lt;expr\\&gt; -->\n",
       "<g id=\"node2\" class=\"node\">\n",
       "<title>\\&lt;expr\\&gt;</title>\n",
       "<text text-anchor=\"middle\" x=\"67.5\" y=\"-54.8\" font-family=\"Times,serif\" font-size=\"14.00\">&lt;expr&gt;</text>\n",
       "</g>\n",
       "<!-- \\&lt;start\\&gt;&#45;&gt;\\&lt;expr\\&gt; -->\n",
       "<g id=\"edge1\" class=\"edge\">\n",
       "<title>\\&lt;start\\&gt;&#45;&gt;\\&lt;expr\\&gt;</title>\n",
       "<path fill=\"none\" stroke=\"black\" d=\"M67.5,-101.69C67.5,-95.18 67.5,-85.1 67.5,-76.43\"/>\n",
       "<polygon fill=\"black\" stroke=\"black\" points=\"71,-76.26 67.5,-66.26 64,-76.26 71,-76.26\"/>\n",
       "</g>\n",
       "<!-- \\&lt;expr\\&gt;  -->\n",
       "<g id=\"node3\" class=\"node\">\n",
       "<title>\\&lt;expr\\&gt; </title>\n",
       "<text text-anchor=\"middle\" x=\"22.5\" y=\"-3.8\" font-family=\"Times,serif\" font-size=\"14.00\">&lt;expr&gt; </text>\n",
       "</g>\n",
       "<!-- \\&lt;expr\\&gt;&#45;&gt;\\&lt;expr\\&gt;  -->\n",
       "<g id=\"edge2\" class=\"edge\">\n",
       "<title>\\&lt;expr\\&gt;&#45;&gt;\\&lt;expr\\&gt; </title>\n",
       "<path fill=\"none\" stroke=\"black\" d=\"M61.24,-50.69C54.66,-43.52 44.11,-32.03 35.68,-22.85\"/>\n",
       "<polygon fill=\"black\" stroke=\"black\" points=\"38.05,-20.25 28.7,-15.26 32.89,-24.99 38.05,-20.25\"/>\n",
       "</g>\n",
       "<!-- + -->\n",
       "<g id=\"node4\" class=\"node\">\n",
       "<title>+</title>\n",
       "<text text-anchor=\"middle\" x=\"67.5\" y=\"-3.8\" font-family=\"Times,serif\" font-size=\"14.00\">+</text>\n",
       "</g>\n",
       "<!-- \\&lt;expr\\&gt;&#45;&gt;+ -->\n",
       "<g id=\"edge3\" class=\"edge\">\n",
       "<title>\\&lt;expr\\&gt;&#45;&gt;+</title>\n",
       "<path fill=\"none\" stroke=\"black\" d=\"M67.5,-50.69C67.5,-44.18 67.5,-34.1 67.5,-25.43\"/>\n",
       "<polygon fill=\"black\" stroke=\"black\" points=\"71,-25.26 67.5,-15.26 64,-25.26 71,-25.26\"/>\n",
       "</g>\n",
       "<!-- \\&lt;term\\&gt; -->\n",
       "<g id=\"node5\" class=\"node\">\n",
       "<title>\\&lt;term\\&gt;</title>\n",
       "<text text-anchor=\"middle\" x=\"111.5\" y=\"-3.8\" font-family=\"Times,serif\" font-size=\"14.00\">&lt;term&gt;</text>\n",
       "</g>\n",
       "<!-- \\&lt;expr\\&gt;&#45;&gt;\\&lt;term\\&gt; -->\n",
       "<g id=\"edge4\" class=\"edge\">\n",
       "<title>\\&lt;expr\\&gt;&#45;&gt;\\&lt;term\\&gt;</title>\n",
       "<path fill=\"none\" stroke=\"black\" d=\"M73.62,-50.69C80.05,-43.52 90.37,-32.03 98.62,-22.85\"/>\n",
       "<polygon fill=\"black\" stroke=\"black\" points=\"101.36,-25.03 105.43,-15.26 96.15,-20.36 101.36,-25.03\"/>\n",
       "</g>\n",
       "</g>\n",
       "</svg>\n"
      ],
      "text/plain": [
       "<graphviz.graphs.Digraph at 0x12253f7c0>"
      ]
     },
     "execution_count": 25,
     "metadata": {},
     "output_type": "execute_result"
    }
   ],
   "source": [
    "# ignore\n",
    "tree"
   ]
  },
  {
   "cell_type": "markdown",
   "metadata": {
    "button": false,
    "new_sheet": false,
    "run_control": {
     "read_only": false
    },
    "slideshow": {
     "slide_type": "subslide"
    }
   },
   "source": [
    "We repeat the expansion until there are no symbols left to expand:"
   ]
  },
  {
   "cell_type": "code",
   "execution_count": 26,
   "metadata": {
    "button": false,
    "execution": {
     "iopub.execute_input": "2022-08-06T15:52:10.059627Z",
     "iopub.status.busy": "2022-08-06T15:52:10.059248Z",
     "iopub.status.idle": "2022-08-06T15:52:10.061169Z",
     "shell.execute_reply": "2022-08-06T15:52:10.061472Z"
    },
    "ipub": {
     "ignore": true
    },
    "new_sheet": false,
    "run_control": {
     "read_only": false
    },
    "slideshow": {
     "slide_type": "skip"
    }
   },
   "outputs": [],
   "source": [
    "# ignore\n",
    "tree.edge(r\"\\<expr\\> \", r\"\\<term\\> \")\n",
    "tree.edge(r\"\\<term\\> \", r\"\\<factor\\> \")\n",
    "tree.edge(r\"\\<factor\\> \", r\"\\<integer\\> \")\n",
    "tree.edge(r\"\\<integer\\> \", r\"\\<digit\\> \")\n",
    "tree.edge(r\"\\<digit\\> \", r\"2 \")\n",
    "\n",
    "tree.edge(r\"\\<term\\>\", r\"\\<factor\\>\")\n",
    "tree.edge(r\"\\<factor\\>\", r\"\\<integer\\>\")\n",
    "tree.edge(r\"\\<integer\\>\", r\"\\<digit\\>\")\n",
    "tree.edge(r\"\\<digit\\>\", r\"2\")"
   ]
  },
  {
   "cell_type": "code",
   "execution_count": 27,
   "metadata": {
    "button": false,
    "execution": {
     "iopub.execute_input": "2022-08-06T15:52:10.066270Z",
     "iopub.status.busy": "2022-08-06T15:52:10.065942Z",
     "iopub.status.idle": "2022-08-06T15:52:10.352193Z",
     "shell.execute_reply": "2022-08-06T15:52:10.352497Z"
    },
    "new_sheet": false,
    "run_control": {
     "read_only": false
    },
    "slideshow": {
     "slide_type": "fragment"
    }
   },
   "outputs": [
    {
     "data": {
      "image/svg+xml": [
       "<?xml version=\"1.0\" encoding=\"UTF-8\" standalone=\"no\"?>\n",
       "<!DOCTYPE svg PUBLIC \"-//W3C//DTD SVG 1.1//EN\"\n",
       " \"http://www.w3.org/Graphics/SVG/1.1/DTD/svg11.dtd\">\n",
       "<!-- Generated by graphviz version 5.0.0 (20220707.1540)\n",
       " -->\n",
       "<!-- Title: root Pages: 1 -->\n",
       "<svg width=\"154pt\" height=\"380pt\"\n",
       " viewBox=\"0.00 0.00 153.50 380.00\" xmlns=\"http://www.w3.org/2000/svg\" xmlns:xlink=\"http://www.w3.org/1999/xlink\">\n",
       "<g id=\"graph0\" class=\"graph\" transform=\"scale(1 1) rotate(0) translate(4 376)\">\n",
       "<title>root</title>\n",
       "<polygon fill=\"white\" stroke=\"transparent\" points=\"-4,4 -4,-376 149.5,-376 149.5,4 -4,4\"/>\n",
       "<!-- \\&lt;start\\&gt; -->\n",
       "<g id=\"node1\" class=\"node\">\n",
       "<title>\\&lt;start\\&gt;</title>\n",
       "<text text-anchor=\"middle\" x=\"74\" y=\"-360.8\" font-family=\"Times,serif\" font-size=\"14.00\">&lt;start&gt;</text>\n",
       "</g>\n",
       "<!-- \\&lt;expr\\&gt; -->\n",
       "<g id=\"node2\" class=\"node\">\n",
       "<title>\\&lt;expr\\&gt;</title>\n",
       "<text text-anchor=\"middle\" x=\"74\" y=\"-309.8\" font-family=\"Times,serif\" font-size=\"14.00\">&lt;expr&gt;</text>\n",
       "</g>\n",
       "<!-- \\&lt;start\\&gt;&#45;&gt;\\&lt;expr\\&gt; -->\n",
       "<g id=\"edge1\" class=\"edge\">\n",
       "<title>\\&lt;start\\&gt;&#45;&gt;\\&lt;expr\\&gt;</title>\n",
       "<path fill=\"none\" stroke=\"black\" d=\"M74,-356.69C74,-350.18 74,-340.1 74,-331.43\"/>\n",
       "<polygon fill=\"black\" stroke=\"black\" points=\"77.5,-331.26 74,-321.26 70.5,-331.26 77.5,-331.26\"/>\n",
       "</g>\n",
       "<!-- \\&lt;expr\\&gt;  -->\n",
       "<g id=\"node3\" class=\"node\">\n",
       "<title>\\&lt;expr\\&gt; </title>\n",
       "<text text-anchor=\"middle\" x=\"29\" y=\"-258.8\" font-family=\"Times,serif\" font-size=\"14.00\">&lt;expr&gt; </text>\n",
       "</g>\n",
       "<!-- \\&lt;expr\\&gt;&#45;&gt;\\&lt;expr\\&gt;  -->\n",
       "<g id=\"edge2\" class=\"edge\">\n",
       "<title>\\&lt;expr\\&gt;&#45;&gt;\\&lt;expr\\&gt; </title>\n",
       "<path fill=\"none\" stroke=\"black\" d=\"M67.74,-305.69C61.16,-298.52 50.61,-287.03 42.18,-277.85\"/>\n",
       "<polygon fill=\"black\" stroke=\"black\" points=\"44.55,-275.25 35.2,-270.26 39.39,-279.99 44.55,-275.25\"/>\n",
       "</g>\n",
       "<!-- + -->\n",
       "<g id=\"node4\" class=\"node\">\n",
       "<title>+</title>\n",
       "<text text-anchor=\"middle\" x=\"74\" y=\"-258.8\" font-family=\"Times,serif\" font-size=\"14.00\">+</text>\n",
       "</g>\n",
       "<!-- \\&lt;expr\\&gt;&#45;&gt;+ -->\n",
       "<g id=\"edge3\" class=\"edge\">\n",
       "<title>\\&lt;expr\\&gt;&#45;&gt;+</title>\n",
       "<path fill=\"none\" stroke=\"black\" d=\"M74,-305.69C74,-299.18 74,-289.1 74,-280.43\"/>\n",
       "<polygon fill=\"black\" stroke=\"black\" points=\"77.5,-280.26 74,-270.26 70.5,-280.26 77.5,-280.26\"/>\n",
       "</g>\n",
       "<!-- \\&lt;term\\&gt; -->\n",
       "<g id=\"node5\" class=\"node\">\n",
       "<title>\\&lt;term\\&gt;</title>\n",
       "<text text-anchor=\"middle\" x=\"118\" y=\"-258.8\" font-family=\"Times,serif\" font-size=\"14.00\">&lt;term&gt;</text>\n",
       "</g>\n",
       "<!-- \\&lt;expr\\&gt;&#45;&gt;\\&lt;term\\&gt; -->\n",
       "<g id=\"edge4\" class=\"edge\">\n",
       "<title>\\&lt;expr\\&gt;&#45;&gt;\\&lt;term\\&gt;</title>\n",
       "<path fill=\"none\" stroke=\"black\" d=\"M80.12,-305.69C86.55,-298.52 96.87,-287.03 105.12,-277.85\"/>\n",
       "<polygon fill=\"black\" stroke=\"black\" points=\"107.86,-280.03 111.93,-270.26 102.65,-275.36 107.86,-280.03\"/>\n",
       "</g>\n",
       "<!-- \\&lt;term\\&gt;  -->\n",
       "<g id=\"node6\" class=\"node\">\n",
       "<title>\\&lt;term\\&gt; </title>\n",
       "<text text-anchor=\"middle\" x=\"29\" y=\"-207.8\" font-family=\"Times,serif\" font-size=\"14.00\">&lt;term&gt; </text>\n",
       "</g>\n",
       "<!-- \\&lt;expr\\&gt; &#45;&gt;\\&lt;term\\&gt;  -->\n",
       "<g id=\"edge5\" class=\"edge\">\n",
       "<title>\\&lt;expr\\&gt; &#45;&gt;\\&lt;term\\&gt; </title>\n",
       "<path fill=\"none\" stroke=\"black\" d=\"M29,-254.69C29,-248.18 29,-238.1 29,-229.43\"/>\n",
       "<polygon fill=\"black\" stroke=\"black\" points=\"32.5,-229.26 29,-219.26 25.5,-229.26 32.5,-229.26\"/>\n",
       "</g>\n",
       "<!-- \\&lt;factor\\&gt; -->\n",
       "<g id=\"node11\" class=\"node\">\n",
       "<title>\\&lt;factor\\&gt;</title>\n",
       "<text text-anchor=\"middle\" x=\"118\" y=\"-207.8\" font-family=\"Times,serif\" font-size=\"14.00\">&lt;factor&gt;</text>\n",
       "</g>\n",
       "<!-- \\&lt;term\\&gt;&#45;&gt;\\&lt;factor\\&gt; -->\n",
       "<g id=\"edge10\" class=\"edge\">\n",
       "<title>\\&lt;term\\&gt;&#45;&gt;\\&lt;factor\\&gt;</title>\n",
       "<path fill=\"none\" stroke=\"black\" d=\"M118,-254.69C118,-248.18 118,-238.1 118,-229.43\"/>\n",
       "<polygon fill=\"black\" stroke=\"black\" points=\"121.5,-229.26 118,-219.26 114.5,-229.26 121.5,-229.26\"/>\n",
       "</g>\n",
       "<!-- \\&lt;factor\\&gt;  -->\n",
       "<g id=\"node7\" class=\"node\">\n",
       "<title>\\&lt;factor\\&gt; </title>\n",
       "<text text-anchor=\"middle\" x=\"29\" y=\"-156.8\" font-family=\"Times,serif\" font-size=\"14.00\">&lt;factor&gt; </text>\n",
       "</g>\n",
       "<!-- \\&lt;term\\&gt; &#45;&gt;\\&lt;factor\\&gt;  -->\n",
       "<g id=\"edge6\" class=\"edge\">\n",
       "<title>\\&lt;term\\&gt; &#45;&gt;\\&lt;factor\\&gt; </title>\n",
       "<path fill=\"none\" stroke=\"black\" d=\"M29,-203.69C29,-197.18 29,-187.1 29,-178.43\"/>\n",
       "<polygon fill=\"black\" stroke=\"black\" points=\"32.5,-178.26 29,-168.26 25.5,-178.26 32.5,-178.26\"/>\n",
       "</g>\n",
       "<!-- \\&lt;integer\\&gt;  -->\n",
       "<g id=\"node8\" class=\"node\">\n",
       "<title>\\&lt;integer\\&gt; </title>\n",
       "<text text-anchor=\"middle\" x=\"29\" y=\"-105.8\" font-family=\"Times,serif\" font-size=\"14.00\">&lt;integer&gt; </text>\n",
       "</g>\n",
       "<!-- \\&lt;factor\\&gt; &#45;&gt;\\&lt;integer\\&gt;  -->\n",
       "<g id=\"edge7\" class=\"edge\">\n",
       "<title>\\&lt;factor\\&gt; &#45;&gt;\\&lt;integer\\&gt; </title>\n",
       "<path fill=\"none\" stroke=\"black\" d=\"M29,-152.69C29,-146.18 29,-136.1 29,-127.43\"/>\n",
       "<polygon fill=\"black\" stroke=\"black\" points=\"32.5,-127.26 29,-117.26 25.5,-127.26 32.5,-127.26\"/>\n",
       "</g>\n",
       "<!-- \\&lt;digit\\&gt;  -->\n",
       "<g id=\"node9\" class=\"node\">\n",
       "<title>\\&lt;digit\\&gt; </title>\n",
       "<text text-anchor=\"middle\" x=\"29\" y=\"-54.8\" font-family=\"Times,serif\" font-size=\"14.00\">&lt;digit&gt; </text>\n",
       "</g>\n",
       "<!-- \\&lt;integer\\&gt; &#45;&gt;\\&lt;digit\\&gt;  -->\n",
       "<g id=\"edge8\" class=\"edge\">\n",
       "<title>\\&lt;integer\\&gt; &#45;&gt;\\&lt;digit\\&gt; </title>\n",
       "<path fill=\"none\" stroke=\"black\" d=\"M29,-101.69C29,-95.18 29,-85.1 29,-76.43\"/>\n",
       "<polygon fill=\"black\" stroke=\"black\" points=\"32.5,-76.26 29,-66.26 25.5,-76.26 32.5,-76.26\"/>\n",
       "</g>\n",
       "<!-- 2  -->\n",
       "<g id=\"node10\" class=\"node\">\n",
       "<title>2 </title>\n",
       "<text text-anchor=\"middle\" x=\"29\" y=\"-3.8\" font-family=\"Times,serif\" font-size=\"14.00\">2 </text>\n",
       "</g>\n",
       "<!-- \\&lt;digit\\&gt; &#45;&gt;2  -->\n",
       "<g id=\"edge9\" class=\"edge\">\n",
       "<title>\\&lt;digit\\&gt; &#45;&gt;2 </title>\n",
       "<path fill=\"none\" stroke=\"black\" d=\"M29,-50.69C29,-44.18 29,-34.1 29,-25.43\"/>\n",
       "<polygon fill=\"black\" stroke=\"black\" points=\"32.5,-25.26 29,-15.26 25.5,-25.26 32.5,-25.26\"/>\n",
       "</g>\n",
       "<!-- \\&lt;integer\\&gt; -->\n",
       "<g id=\"node12\" class=\"node\">\n",
       "<title>\\&lt;integer\\&gt;</title>\n",
       "<text text-anchor=\"middle\" x=\"118\" y=\"-156.8\" font-family=\"Times,serif\" font-size=\"14.00\">&lt;integer&gt;</text>\n",
       "</g>\n",
       "<!-- \\&lt;factor\\&gt;&#45;&gt;\\&lt;integer\\&gt; -->\n",
       "<g id=\"edge11\" class=\"edge\">\n",
       "<title>\\&lt;factor\\&gt;&#45;&gt;\\&lt;integer\\&gt;</title>\n",
       "<path fill=\"none\" stroke=\"black\" d=\"M118,-203.69C118,-197.18 118,-187.1 118,-178.43\"/>\n",
       "<polygon fill=\"black\" stroke=\"black\" points=\"121.5,-178.26 118,-168.26 114.5,-178.26 121.5,-178.26\"/>\n",
       "</g>\n",
       "<!-- \\&lt;digit\\&gt; -->\n",
       "<g id=\"node13\" class=\"node\">\n",
       "<title>\\&lt;digit\\&gt;</title>\n",
       "<text text-anchor=\"middle\" x=\"118\" y=\"-105.8\" font-family=\"Times,serif\" font-size=\"14.00\">&lt;digit&gt;</text>\n",
       "</g>\n",
       "<!-- \\&lt;integer\\&gt;&#45;&gt;\\&lt;digit\\&gt; -->\n",
       "<g id=\"edge12\" class=\"edge\">\n",
       "<title>\\&lt;integer\\&gt;&#45;&gt;\\&lt;digit\\&gt;</title>\n",
       "<path fill=\"none\" stroke=\"black\" d=\"M118,-152.69C118,-146.18 118,-136.1 118,-127.43\"/>\n",
       "<polygon fill=\"black\" stroke=\"black\" points=\"121.5,-127.26 118,-117.26 114.5,-127.26 121.5,-127.26\"/>\n",
       "</g>\n",
       "<!-- 2 -->\n",
       "<g id=\"node14\" class=\"node\">\n",
       "<title>2</title>\n",
       "<text text-anchor=\"middle\" x=\"118\" y=\"-54.8\" font-family=\"Times,serif\" font-size=\"14.00\">2</text>\n",
       "</g>\n",
       "<!-- \\&lt;digit\\&gt;&#45;&gt;2 -->\n",
       "<g id=\"edge13\" class=\"edge\">\n",
       "<title>\\&lt;digit\\&gt;&#45;&gt;2</title>\n",
       "<path fill=\"none\" stroke=\"black\" d=\"M118,-101.69C118,-95.18 118,-85.1 118,-76.43\"/>\n",
       "<polygon fill=\"black\" stroke=\"black\" points=\"121.5,-76.26 118,-66.26 114.5,-76.26 121.5,-76.26\"/>\n",
       "</g>\n",
       "</g>\n",
       "</svg>\n"
      ],
      "text/plain": [
       "<graphviz.graphs.Digraph at 0x12253f7c0>"
      ]
     },
     "execution_count": 27,
     "metadata": {},
     "output_type": "execute_result"
    }
   ],
   "source": [
    "# ignore\n",
    "tree"
   ]
  },
  {
   "cell_type": "markdown",
   "metadata": {
    "button": false,
    "new_sheet": false,
    "run_control": {
     "read_only": false
    },
    "slideshow": {
     "slide_type": "fragment"
    }
   },
   "source": [
    "We now have a representation for the string `2 + 2`.  In contrast to the string alone, though, the derivation tree records _the entire structure_ (and production history, or _derivation_ history) of the produced string.  It also allows for simple comparison and manipulation – say, replacing one subtree (substructure) against another."
   ]
  },
  {
   "cell_type": "markdown",
   "metadata": {
    "button": false,
    "new_sheet": false,
    "run_control": {
     "read_only": false
    },
    "slideshow": {
     "slide_type": "slide"
    }
   },
   "source": [
    "## Representing Derivation Trees\n",
    "\n",
    "To represent a derivation tree in Python, we use the following format.  A node is a pair\n",
    "\n",
    "```python\n",
    "(SYMBOL_NAME, CHILDREN)\n",
    "```\n",
    "\n",
    "where `SYMBOL_NAME` is a string representing the node (i.e. `\"<start>\"` or `\"+\"`) and `CHILDREN` is a list of children nodes.\n",
    "\n",
    "`CHILDREN` can take some special values:\n",
    "\n",
    "1. `None` as a placeholder for future expansion.  This means that the node is a *nonterminal symbol* that should be expanded further.\n",
    "2. `[]` (i.e., the empty list) to indicate _no_ children.  This means that the node is a *terminal symbol* that can no longer be expanded."
   ]
  },
  {
   "cell_type": "markdown",
   "metadata": {
    "slideshow": {
     "slide_type": "subslide"
    }
   },
   "source": [
    "The type `DerivationTree` captures this very structure. (`Any` should actually read `DerivationTree`, but the Python static type checker cannot handle recursive types well.)"
   ]
  },
  {
   "cell_type": "code",
   "execution_count": 28,
   "metadata": {
    "execution": {
     "iopub.execute_input": "2022-08-06T15:52:10.355360Z",
     "iopub.status.busy": "2022-08-06T15:52:10.355027Z",
     "iopub.status.idle": "2022-08-06T15:52:10.356182Z",
     "shell.execute_reply": "2022-08-06T15:52:10.356554Z"
    },
    "slideshow": {
     "slide_type": "fragment"
    }
   },
   "outputs": [],
   "source": [
    "DerivationTree = Tuple[str, Optional[List[Any]]]"
   ]
  },
  {
   "cell_type": "markdown",
   "metadata": {
    "button": false,
    "new_sheet": false,
    "run_control": {
     "read_only": false
    },
    "slideshow": {
     "slide_type": "subslide"
    }
   },
   "source": [
    "Let us take a very simple derivation tree, representing the intermediate step `<expr> + <term>`, above."
   ]
  },
  {
   "cell_type": "code",
   "execution_count": 29,
   "metadata": {
    "button": false,
    "execution": {
     "iopub.execute_input": "2022-08-06T15:52:10.358984Z",
     "iopub.status.busy": "2022-08-06T15:52:10.358680Z",
     "iopub.status.idle": "2022-08-06T15:52:10.359898Z",
     "shell.execute_reply": "2022-08-06T15:52:10.360157Z"
    },
    "new_sheet": false,
    "run_control": {
     "read_only": false
    },
    "slideshow": {
     "slide_type": "fragment"
    }
   },
   "outputs": [],
   "source": [
    "derivation_tree: DerivationTree = (\"<start>\",\n",
    "                   [(\"<expr>\",\n",
    "                     [(\"<expr>\", None),\n",
    "                      (\" + \", []),\n",
    "                         (\"<term>\", None)]\n",
    "                     )])"
   ]
  },
  {
   "cell_type": "markdown",
   "metadata": {
    "button": false,
    "new_sheet": false,
    "run_control": {
     "read_only": false
    },
    "slideshow": {
     "slide_type": "subslide"
    }
   },
   "source": [
    "To better understand the structure of this tree, let us introduce a function `display_tree()` that visualizes this tree."
   ]
  },
  {
   "cell_type": "markdown",
   "metadata": {
    "slideshow": {
     "slide_type": "subslide"
    }
   },
   "source": [
    "#### Excursion: Implementing `display_tree()`"
   ]
  },
  {
   "cell_type": "markdown",
   "metadata": {
    "button": false,
    "new_sheet": false,
    "run_control": {
     "read_only": false
    },
    "slideshow": {
     "slide_type": "subslide"
    }
   },
   "source": [
    "We use the `dot` drawing program from the `graphviz` package algorithmically, traversing the above structure.  (Unless you're deeply interested in tree visualization, you can directly skip to the example below.)"
   ]
  },
  {
   "cell_type": "code",
   "execution_count": 30,
   "metadata": {
    "button": false,
    "execution": {
     "iopub.execute_input": "2022-08-06T15:52:10.362420Z",
     "iopub.status.busy": "2022-08-06T15:52:10.362071Z",
     "iopub.status.idle": "2022-08-06T15:52:10.363243Z",
     "shell.execute_reply": "2022-08-06T15:52:10.363550Z"
    },
    "new_sheet": false,
    "run_control": {
     "read_only": false
    },
    "slideshow": {
     "slide_type": "skip"
    }
   },
   "outputs": [],
   "source": [
    "from graphviz import Digraph"
   ]
  },
  {
   "cell_type": "code",
   "execution_count": 31,
   "metadata": {
    "button": false,
    "execution": {
     "iopub.execute_input": "2022-08-06T15:52:10.365555Z",
     "iopub.status.busy": "2022-08-06T15:52:10.365198Z",
     "iopub.status.idle": "2022-08-06T15:52:10.366464Z",
     "shell.execute_reply": "2022-08-06T15:52:10.366779Z"
    },
    "new_sheet": false,
    "run_control": {
     "read_only": false
    },
    "slideshow": {
     "slide_type": "skip"
    }
   },
   "outputs": [],
   "source": [
    "from IPython.display import display"
   ]
  },
  {
   "cell_type": "code",
   "execution_count": 32,
   "metadata": {
    "button": false,
    "execution": {
     "iopub.execute_input": "2022-08-06T15:52:10.368626Z",
     "iopub.status.busy": "2022-08-06T15:52:10.368332Z",
     "iopub.status.idle": "2022-08-06T15:52:10.369819Z",
     "shell.execute_reply": "2022-08-06T15:52:10.369546Z"
    },
    "new_sheet": false,
    "run_control": {
     "read_only": false
    },
    "slideshow": {
     "slide_type": "skip"
    }
   },
   "outputs": [],
   "source": [
    "import re"
   ]
  },
  {
   "cell_type": "code",
   "execution_count": 33,
   "metadata": {
    "button": false,
    "execution": {
     "iopub.execute_input": "2022-08-06T15:52:10.372154Z",
     "iopub.status.busy": "2022-08-06T15:52:10.371832Z",
     "iopub.status.idle": "2022-08-06T15:52:10.372821Z",
     "shell.execute_reply": "2022-08-06T15:52:10.373061Z"
    },
    "new_sheet": false,
    "run_control": {
     "read_only": false
    },
    "slideshow": {
     "slide_type": "skip"
    }
   },
   "outputs": [],
   "source": [
    "def dot_escape(s: str) -> str:\n",
    "    \"\"\"Return s in a form suitable for dot\"\"\"\n",
    "    s = s.replace('\\n', '\\\\n')\n",
    "    s = re.sub(r'([^a-zA-Z0-9\" ])', r\"\\\\\\1\", s)\n",
    "    return s"
   ]
  },
  {
   "cell_type": "code",
   "execution_count": 34,
   "metadata": {
    "button": false,
    "execution": {
     "iopub.execute_input": "2022-08-06T15:52:10.375736Z",
     "iopub.status.busy": "2022-08-06T15:52:10.375407Z",
     "iopub.status.idle": "2022-08-06T15:52:10.376648Z",
     "shell.execute_reply": "2022-08-06T15:52:10.376893Z"
    },
    "new_sheet": false,
    "run_control": {
     "read_only": false
    },
    "slideshow": {
     "slide_type": "skip"
    }
   },
   "outputs": [],
   "source": [
    "assert dot_escape(\"hello\") == \"hello\"\n",
    "assert dot_escape(\"<hello>, world\") == \"\\\\<hello\\\\>\\\\, world\"\n",
    "assert dot_escape(\"\\\\n\") == \"\\\\\\\\n\"\n",
    "assert dot_escape(\"\\n\") == \"\\\\\\\\n\""
   ]
  },
  {
   "cell_type": "markdown",
   "metadata": {
    "button": false,
    "new_sheet": false,
    "run_control": {
     "read_only": false
    },
    "slideshow": {
     "slide_type": "fragment"
    }
   },
   "source": [
    "While we are interested at present in visualizing a `derivation_tree`, it is in our interest to generalize the visualization procedure. In particular, it would be helpful if our method `display_tree()` can display *any* tree    like data structure. To enable this, we define a helper method `extract_node()` that extract the current symbol and  children from a given data structure. The default implementation simply extracts the symbol, children, and           annotation from any `derivation_tree` node."
   ]
  },
  {
   "cell_type": "code",
   "execution_count": 35,
   "metadata": {
    "button": false,
    "execution": {
     "iopub.execute_input": "2022-08-06T15:52:10.379023Z",
     "iopub.status.busy": "2022-08-06T15:52:10.378727Z",
     "iopub.status.idle": "2022-08-06T15:52:10.379913Z",
     "shell.execute_reply": "2022-08-06T15:52:10.380217Z"
    },
    "new_sheet": false,
    "run_control": {
     "read_only": false
    },
    "slideshow": {
     "slide_type": "fragment"
    }
   },
   "outputs": [],
   "source": [
    "def extract_node(node, id):\n",
    "    symbol, children, *annotation = node\n",
    "    return symbol, children, ''.join(str(a) for a in annotation)"
   ]
  },
  {
   "cell_type": "markdown",
   "metadata": {
    "button": false,
    "new_sheet": false,
    "run_control": {
     "read_only": false
    },
    "slideshow": {
     "slide_type": "subslide"
    }
   },
   "source": [
    "While visualizing a tree, it is often useful to display certain nodes differently. For example, it is sometimes useful to distinguish between non-processed nodes and processed nodes. We define a helper procedure `default_node_attr()` that provides the basic display, which can be customized by the user."
   ]
  },
  {
   "cell_type": "code",
   "execution_count": 36,
   "metadata": {
    "execution": {
     "iopub.execute_input": "2022-08-06T15:52:10.382379Z",
     "iopub.status.busy": "2022-08-06T15:52:10.382003Z",
     "iopub.status.idle": "2022-08-06T15:52:10.383179Z",
     "shell.execute_reply": "2022-08-06T15:52:10.383398Z"
    },
    "slideshow": {
     "slide_type": "fragment"
    }
   },
   "outputs": [],
   "source": [
    "def default_node_attr(dot, nid, symbol, ann):\n",
    "    dot.node(repr(nid), dot_escape(unicode_escape(symbol)))"
   ]
  },
  {
   "cell_type": "markdown",
   "metadata": {
    "slideshow": {
     "slide_type": "fragment"
    }
   },
   "source": [
    "Similar to nodes, the edges may also require modifications. We define `default_edge_attr()` as a helper        procedure that can be customized by the user."
   ]
  },
  {
   "cell_type": "code",
   "execution_count": 37,
   "metadata": {
    "execution": {
     "iopub.execute_input": "2022-08-06T15:52:10.385413Z",
     "iopub.status.busy": "2022-08-06T15:52:10.385104Z",
     "iopub.status.idle": "2022-08-06T15:52:10.386216Z",
     "shell.execute_reply": "2022-08-06T15:52:10.386406Z"
    },
    "slideshow": {
     "slide_type": "fragment"
    }
   },
   "outputs": [],
   "source": [
    "def default_edge_attr(dot, start_node, stop_node):\n",
    "    dot.edge(repr(start_node), repr(stop_node))"
   ]
  },
  {
   "cell_type": "markdown",
   "metadata": {
    "slideshow": {
     "slide_type": "subslide"
    }
   },
   "source": [
    "While visualizing a tree, one may sometimes wish to change the appearance of the tree. For example, it is      sometimes easier to view the tree if it was laid out left to right rather than top to bottom. We define another      helper procedure `default_graph_attr()` for that."
   ]
  },
  {
   "cell_type": "code",
   "execution_count": 38,
   "metadata": {
    "execution": {
     "iopub.execute_input": "2022-08-06T15:52:10.388321Z",
     "iopub.status.busy": "2022-08-06T15:52:10.388037Z",
     "iopub.status.idle": "2022-08-06T15:52:10.389265Z",
     "shell.execute_reply": "2022-08-06T15:52:10.389494Z"
    },
    "slideshow": {
     "slide_type": "fragment"
    }
   },
   "outputs": [],
   "source": [
    "def default_graph_attr(dot):\n",
    "    dot.attr('node', shape='plain')"
   ]
  },
  {
   "cell_type": "markdown",
   "metadata": {
    "slideshow": {
     "slide_type": "fragment"
    }
   },
   "source": [
    "Finally, we define a method `display_tree()` that accepts these four functions `extract_node()`,               `default_edge_attr()`, `default_node_attr()` and `default_graph_attr()` and uses them to display the tree."
   ]
  },
  {
   "cell_type": "code",
   "execution_count": 39,
   "metadata": {
    "execution": {
     "iopub.execute_input": "2022-08-06T15:52:10.392772Z",
     "iopub.status.busy": "2022-08-06T15:52:10.392458Z",
     "iopub.status.idle": "2022-08-06T15:52:10.393668Z",
     "shell.execute_reply": "2022-08-06T15:52:10.393849Z"
    },
    "slideshow": {
     "slide_type": "subslide"
    }
   },
   "outputs": [],
   "source": [
    "def display_tree(derivation_tree: DerivationTree,\n",
    "                 log: bool = False,\n",
    "                 extract_node: Callable = extract_node,\n",
    "                 node_attr: Callable = default_node_attr,\n",
    "                 edge_attr: Callable = default_edge_attr,\n",
    "                 graph_attr: Callable = default_graph_attr) -> Any:\n",
    "\n",
    "    # If we import display_tree, we also have to import its functions\n",
    "    from graphviz import Digraph\n",
    "\n",
    "    counter = 0\n",
    "\n",
    "    def traverse_tree(dot, tree, id=0):\n",
    "        (symbol, children, annotation) = extract_node(tree, id)\n",
    "        node_attr(dot, id, symbol, annotation)\n",
    "\n",
    "        if children:\n",
    "            for child in children:\n",
    "                nonlocal counter\n",
    "                counter += 1\n",
    "                child_id = counter\n",
    "                edge_attr(dot, id, child_id)\n",
    "                traverse_tree(dot, child, child_id)\n",
    "\n",
    "    dot = Digraph(comment=\"Derivation Tree\")\n",
    "    graph_attr(dot)\n",
    "    traverse_tree(dot, derivation_tree)\n",
    "    if log:\n",
    "        print(dot)\n",
    "    return dot"
   ]
  },
  {
   "cell_type": "markdown",
   "metadata": {
    "slideshow": {
     "slide_type": "subslide"
    }
   },
   "source": [
    "#### End of Excursion"
   ]
  },
  {
   "cell_type": "markdown",
   "metadata": {
    "slideshow": {
     "slide_type": "fragment"
    }
   },
   "source": [
    "This is what our tree visualizes into:"
   ]
  },
  {
   "cell_type": "code",
   "execution_count": 40,
   "metadata": {
    "execution": {
     "iopub.execute_input": "2022-08-06T15:52:10.399523Z",
     "iopub.status.busy": "2022-08-06T15:52:10.399191Z",
     "iopub.status.idle": "2022-08-06T15:52:10.688592Z",
     "shell.execute_reply": "2022-08-06T15:52:10.688857Z"
    },
    "slideshow": {
     "slide_type": "fragment"
    }
   },
   "outputs": [
    {
     "data": {
      "image/svg+xml": [
       "<?xml version=\"1.0\" encoding=\"UTF-8\" standalone=\"no\"?>\n",
       "<!DOCTYPE svg PUBLIC \"-//W3C//DTD SVG 1.1//EN\"\n",
       " \"http://www.w3.org/Graphics/SVG/1.1/DTD/svg11.dtd\">\n",
       "<!-- Generated by graphviz version 5.0.0 (20220707.1540)\n",
       " -->\n",
       "<!-- Pages: 1 -->\n",
       "<svg width=\"145pt\" height=\"125pt\"\n",
       " viewBox=\"0.00 0.00 145.00 125.00\" xmlns=\"http://www.w3.org/2000/svg\" xmlns:xlink=\"http://www.w3.org/1999/xlink\">\n",
       "<g id=\"graph0\" class=\"graph\" transform=\"scale(1 1) rotate(0) translate(4 121)\">\n",
       "<polygon fill=\"white\" stroke=\"transparent\" points=\"-4,4 -4,-121 141,-121 141,4 -4,4\"/>\n",
       "<!-- 0 -->\n",
       "<g id=\"node1\" class=\"node\">\n",
       "<title>0</title>\n",
       "<text text-anchor=\"middle\" x=\"67.5\" y=\"-105.8\" font-family=\"Times,serif\" font-size=\"14.00\">&lt;start&gt;</text>\n",
       "</g>\n",
       "<!-- 1 -->\n",
       "<g id=\"node2\" class=\"node\">\n",
       "<title>1</title>\n",
       "<text text-anchor=\"middle\" x=\"67.5\" y=\"-54.8\" font-family=\"Times,serif\" font-size=\"14.00\">&lt;expr&gt;</text>\n",
       "</g>\n",
       "<!-- 0&#45;&gt;1 -->\n",
       "<g id=\"edge1\" class=\"edge\">\n",
       "<title>0&#45;&gt;1</title>\n",
       "<path fill=\"none\" stroke=\"black\" d=\"M67.5,-101.69C67.5,-95.18 67.5,-85.1 67.5,-76.43\"/>\n",
       "<polygon fill=\"black\" stroke=\"black\" points=\"71,-76.26 67.5,-66.26 64,-76.26 71,-76.26\"/>\n",
       "</g>\n",
       "<!-- 2 -->\n",
       "<g id=\"node3\" class=\"node\">\n",
       "<title>2</title>\n",
       "<text text-anchor=\"middle\" x=\"20.5\" y=\"-3.8\" font-family=\"Times,serif\" font-size=\"14.00\">&lt;expr&gt;</text>\n",
       "</g>\n",
       "<!-- 1&#45;&gt;2 -->\n",
       "<g id=\"edge2\" class=\"edge\">\n",
       "<title>1&#45;&gt;2</title>\n",
       "<path fill=\"none\" stroke=\"black\" d=\"M60.96,-50.69C54.02,-43.45 42.84,-31.79 33.99,-22.57\"/>\n",
       "<polygon fill=\"black\" stroke=\"black\" points=\"36.43,-20.05 26.98,-15.26 31.38,-24.9 36.43,-20.05\"/>\n",
       "</g>\n",
       "<!-- 3 -->\n",
       "<g id=\"node4\" class=\"node\">\n",
       "<title>3</title>\n",
       "<text text-anchor=\"middle\" x=\"67.5\" y=\"-3.8\" font-family=\"Times,serif\" font-size=\"14.00\"> + </text>\n",
       "</g>\n",
       "<!-- 1&#45;&gt;3 -->\n",
       "<g id=\"edge3\" class=\"edge\">\n",
       "<title>1&#45;&gt;3</title>\n",
       "<path fill=\"none\" stroke=\"black\" d=\"M67.5,-50.69C67.5,-44.18 67.5,-34.1 67.5,-25.43\"/>\n",
       "<polygon fill=\"black\" stroke=\"black\" points=\"71,-25.26 67.5,-15.26 64,-25.26 71,-25.26\"/>\n",
       "</g>\n",
       "<!-- 4 -->\n",
       "<g id=\"node5\" class=\"node\">\n",
       "<title>4</title>\n",
       "<text text-anchor=\"middle\" x=\"115.5\" y=\"-3.8\" font-family=\"Times,serif\" font-size=\"14.00\">&lt;term&gt;</text>\n",
       "</g>\n",
       "<!-- 1&#45;&gt;4 -->\n",
       "<g id=\"edge4\" class=\"edge\">\n",
       "<title>1&#45;&gt;4</title>\n",
       "<path fill=\"none\" stroke=\"black\" d=\"M74.17,-50.69C81.27,-43.45 92.68,-31.79 101.72,-22.57\"/>\n",
       "<polygon fill=\"black\" stroke=\"black\" points=\"104.38,-24.85 108.88,-15.26 99.38,-19.95 104.38,-24.85\"/>\n",
       "</g>\n",
       "</g>\n",
       "</svg>\n"
      ],
      "text/plain": [
       "<graphviz.graphs.Digraph at 0x12253fb50>"
      ]
     },
     "execution_count": 40,
     "metadata": {},
     "output_type": "execute_result"
    }
   ],
   "source": [
    "display_tree(derivation_tree)"
   ]
  },
  {
   "cell_type": "code",
   "execution_count": 41,
   "metadata": {
    "execution": {
     "iopub.execute_input": "2022-08-06T15:52:10.693809Z",
     "iopub.status.busy": "2022-08-06T15:52:10.693422Z",
     "iopub.status.idle": "2022-08-06T15:52:10.695176Z",
     "shell.execute_reply": "2022-08-06T15:52:10.695371Z"
    },
    "slideshow": {
     "slide_type": "fragment"
    }
   },
   "outputs": [
    {
     "data": {
      "text/html": [
       "\n",
       "    \n",
       "    <script>\n",
       "    var bad_answers = new Map();\n",
       "\n",
       "    function answer(quiz_id) {\n",
       "        ans = 0;\n",
       "        for (i = 1;; i++) {\n",
       "            checkbox = document.getElementById(quiz_id + \"-\" + i.toString());\n",
       "            if (!checkbox)\n",
       "                break;\n",
       "            if (checkbox.checked)\n",
       "                ans |= (1 << i);\n",
       "        }\n",
       "        return ans;\n",
       "    }\n",
       "    function check_selection(quiz_id, correct_answer, multiple_choice, hint) {\n",
       "        given_answer = answer(quiz_id);\n",
       "        if (given_answer == correct_answer)\n",
       "        {\n",
       "            document.getElementById(quiz_id + \"-submit\").value = \"Correct!\";\n",
       "            document.getElementById(quiz_id + \"-hint\").innerHTML = \"\";\n",
       "\n",
       "            for (i = 1;; i++) {\n",
       "                checkbox = document.getElementById(quiz_id + \"-\" + i.toString());\n",
       "                label = document.getElementById(quiz_id + \"-\" + i.toString() + \"-label\")\n",
       "                if (!checkbox)\n",
       "                    break;\n",
       "    \n",
       "                if (checkbox.checked) {\n",
       "                    label.style.fontWeight = \"bold\";\n",
       "                }\n",
       "                else {\n",
       "                    label.style.textDecoration = \"line-through\";\n",
       "                }\n",
       "            }\n",
       "        }\n",
       "        else \n",
       "        {\n",
       "            document.getElementById(quiz_id + \"-submit\").value = \"Try again\";\n",
       "            \n",
       "            if (!bad_answers.has(quiz_id)) {\n",
       "                bad_answers.set(quiz_id, 1);\n",
       "            }\n",
       "            else {\n",
       "                bad_answers.set(quiz_id, bad_answers.get(quiz_id) + 1);\n",
       "            }\n",
       "\n",
       "            if (bad_answers.get(quiz_id) >= 2 && hint.length > 0) {\n",
       "                document.getElementById(quiz_id + \"-hint\").innerHTML = \n",
       "                    \"&nbsp;&nbsp;(Hint: <code>\" + hint + \"</code>)\";\n",
       "            }\n",
       "\n",
       "            if (!multiple_choice) {\n",
       "                for (i = 1;; i++) {\n",
       "                    checkbox = document.getElementById(quiz_id + \"-\" + i.toString());\n",
       "                    label = document.getElementById(quiz_id + \"-\" + i.toString() + \"-label\")\n",
       "\n",
       "                    if (!checkbox)\n",
       "                        break;\n",
       "                    if (checkbox.checked) {\n",
       "                        label.style.textDecoration = \"line-through\";\n",
       "                    }\n",
       "                }\n",
       "            }\n",
       "        }\n",
       "    }\n",
       "    function clear_selection(quiz_id) {\n",
       "        document.getElementById(quiz_id + \"-submit\").value = \"Submit\";\n",
       "        document.getElementById(quiz_id + \"-hint\").innerHTML = \"\";\n",
       "    }\n",
       "    </script>\n",
       "    \n",
       "    <div class=\"quiz\">\n",
       "    <h3 class=\"quiz_title\">Quiz</h3>\n",
       "    <p>\n",
       "    <div class=\"quiz_question\">And which of these is the internal representation of <code>derivation_tree</code>?</div>\n",
       "    </p>\n",
       "    <p>\n",
       "    <div class=\"quiz_options\" title=\"Pick a choice.\">\n",
       "    \n",
       "        <input type=\"radio\" name=\"bb6e5ef6-159f-11ed-bedd-6298cf1a578f\" id=\"bb6e5ef6-159f-11ed-bedd-6298cf1a578f-1\" onclick=\"clear_selection('bb6e5ef6-159f-11ed-bedd-6298cf1a578f')\">\n",
       "        <label id=\"bb6e5ef6-159f-11ed-bedd-6298cf1a578f-1-label\" for=\"bb6e5ef6-159f-11ed-bedd-6298cf1a578f-1\"><code>('&lt;start&gt;', [('&lt;expr&gt;', (['&lt;expr&gt; + &lt;term&gt;']))])</code></label><br>\n",
       "    \n",
       "        <input type=\"radio\" name=\"bb6e5ef6-159f-11ed-bedd-6298cf1a578f\" id=\"bb6e5ef6-159f-11ed-bedd-6298cf1a578f-2\" onclick=\"clear_selection('bb6e5ef6-159f-11ed-bedd-6298cf1a578f')\">\n",
       "        <label id=\"bb6e5ef6-159f-11ed-bedd-6298cf1a578f-2-label\" for=\"bb6e5ef6-159f-11ed-bedd-6298cf1a578f-2\"><code>('&lt;start&gt;', [('&lt;expr&gt;', (['&lt;expr&gt;', ' + ', &lt;term&gt;']))])</code></label><br>\n",
       "    \n",
       "        <input type=\"radio\" name=\"bb6e5ef6-159f-11ed-bedd-6298cf1a578f\" id=\"bb6e5ef6-159f-11ed-bedd-6298cf1a578f-3\" onclick=\"clear_selection('bb6e5ef6-159f-11ed-bedd-6298cf1a578f')\">\n",
       "        <label id=\"bb6e5ef6-159f-11ed-bedd-6298cf1a578f-3-label\" for=\"bb6e5ef6-159f-11ed-bedd-6298cf1a578f-3\"><code>('&lt;start&gt;', [('&lt;expr&gt;', [('&lt;expr&gt;', None), (' + ', []), ('&lt;term&gt;', None)])])</code></label><br>\n",
       "    \n",
       "        <input type=\"radio\" name=\"bb6e5ef6-159f-11ed-bedd-6298cf1a578f\" id=\"bb6e5ef6-159f-11ed-bedd-6298cf1a578f-4\" onclick=\"clear_selection('bb6e5ef6-159f-11ed-bedd-6298cf1a578f')\">\n",
       "        <label id=\"bb6e5ef6-159f-11ed-bedd-6298cf1a578f-4-label\" for=\"bb6e5ef6-159f-11ed-bedd-6298cf1a578f-4\"><code>(('&lt;start&gt;', [('&lt;expr&gt;', [('&lt;expr&gt;', None), (' + ', []), ('&lt;term&gt;', None)])]), None)</code></label><br>\n",
       "    \n",
       "    </div>\n",
       "    </p>\n",
       "    <input id=\"bb6e5ef6-159f-11ed-bedd-6298cf1a578f-submit\" type=\"submit\" value=\"Submit\" onclick=\"check_selection('bb6e5ef6-159f-11ed-bedd-6298cf1a578f', 8, 0, '')\">\n",
       "    <span class=\"quiz_hint\" id=\"bb6e5ef6-159f-11ed-bedd-6298cf1a578f-hint\"></span>\n",
       "    </div>\n",
       "    "
      ],
      "text/plain": [
       "<IPython.core.display.HTML object>"
      ]
     },
     "execution_count": 41,
     "metadata": {},
     "output_type": "execute_result"
    }
   ],
   "source": [
    "quiz(\"And which of these is the internal representation of `derivation_tree`?\",\n",
    "    [\n",
    "        \"`('<start>', [('<expr>', (['<expr> + <term>']))])`\",\n",
    "        \"`('<start>', [('<expr>', (['<expr>', ' + ', <term>']))])`\",\n",
    "        \"`\" + repr(derivation_tree) + \"`\",\n",
    "        \"`(\" + repr(derivation_tree) + \", None)`\"\n",
    "    ], len(\"eleven\") - len(\"one\"))"
   ]
  },
  {
   "cell_type": "markdown",
   "metadata": {
    "slideshow": {
     "slide_type": "fragment"
    }
   },
   "source": [
    "You can check it out yourself:"
   ]
  },
  {
   "cell_type": "code",
   "execution_count": 42,
   "metadata": {
    "execution": {
     "iopub.execute_input": "2022-08-06T15:52:10.697880Z",
     "iopub.status.busy": "2022-08-06T15:52:10.697477Z",
     "iopub.status.idle": "2022-08-06T15:52:10.699097Z",
     "shell.execute_reply": "2022-08-06T15:52:10.699356Z"
    },
    "slideshow": {
     "slide_type": "fragment"
    }
   },
   "outputs": [
    {
     "data": {
      "text/plain": [
       "('<start>', [('<expr>', [('<expr>', None), (' + ', []), ('<term>', None)])])"
      ]
     },
     "execution_count": 42,
     "metadata": {},
     "output_type": "execute_result"
    }
   ],
   "source": [
    "derivation_tree"
   ]
  },
  {
   "cell_type": "markdown",
   "metadata": {
    "slideshow": {
     "slide_type": "subslide"
    }
   },
   "source": [
    "Within this book, we also occasionally use a function `display_annotated_tree()` which allows to add annotations to individual nodes."
   ]
  },
  {
   "cell_type": "markdown",
   "metadata": {
    "slideshow": {
     "slide_type": "subslide"
    }
   },
   "source": [
    "#### Excursion: Source code and example for `display_annotated_tree()`"
   ]
  },
  {
   "cell_type": "markdown",
   "metadata": {
    "slideshow": {
     "slide_type": "fragment"
    }
   },
   "source": [
    "`display_annotated_tree()` displays an annotated tree structure, and lays out the graph left to right."
   ]
  },
  {
   "cell_type": "code",
   "execution_count": 43,
   "metadata": {
    "execution": {
     "iopub.execute_input": "2022-08-06T15:52:10.703447Z",
     "iopub.status.busy": "2022-08-06T15:52:10.703129Z",
     "iopub.status.idle": "2022-08-06T15:52:10.704220Z",
     "shell.execute_reply": "2022-08-06T15:52:10.704463Z"
    },
    "slideshow": {
     "slide_type": "subslide"
    }
   },
   "outputs": [],
   "source": [
    "def display_annotated_tree(tree: DerivationTree,\n",
    "                           a_nodes: Dict[int, str],\n",
    "                           a_edges: Dict[Tuple[int, int], str],\n",
    "                           log: bool = False):\n",
    "    def graph_attr(dot):\n",
    "        dot.attr('node', shape='plain')\n",
    "        dot.graph_attr['rankdir'] = 'LR'\n",
    "\n",
    "    def annotate_node(dot, nid, symbol, ann):\n",
    "        if nid in a_nodes:\n",
    "            dot.node(repr(nid), \n",
    "                     \"%s (%s)\" % (dot_escape(unicode_escape(symbol)),\n",
    "                                  a_nodes[nid]))\n",
    "        else:\n",
    "            dot.node(repr(nid), dot_escape(unicode_escape(symbol)))\n",
    "\n",
    "    def annotate_edge(dot, start_node, stop_node):\n",
    "        if (start_node, stop_node) in a_edges:\n",
    "            dot.edge(repr(start_node), repr(stop_node),\n",
    "                     a_edges[(start_node, stop_node)])\n",
    "        else:\n",
    "            dot.edge(repr(start_node), repr(stop_node))\n",
    "\n",
    "    return display_tree(tree, log=log,\n",
    "                        node_attr=annotate_node,\n",
    "                        edge_attr=annotate_edge,\n",
    "                        graph_attr=graph_attr)"
   ]
  },
  {
   "cell_type": "code",
   "execution_count": 44,
   "metadata": {
    "execution": {
     "iopub.execute_input": "2022-08-06T15:52:10.708964Z",
     "iopub.status.busy": "2022-08-06T15:52:10.708626Z",
     "iopub.status.idle": "2022-08-06T15:52:10.994182Z",
     "shell.execute_reply": "2022-08-06T15:52:10.994427Z"
    },
    "slideshow": {
     "slide_type": "subslide"
    }
   },
   "outputs": [
    {
     "data": {
      "image/svg+xml": [
       "<?xml version=\"1.0\" encoding=\"UTF-8\" standalone=\"no\"?>\n",
       "<!DOCTYPE svg PUBLIC \"-//W3C//DTD SVG 1.1//EN\"\n",
       " \"http://www.w3.org/Graphics/SVG/1.1/DTD/svg11.dtd\">\n",
       "<!-- Generated by graphviz version 5.0.0 (20220707.1540)\n",
       " -->\n",
       "<!-- Pages: 1 -->\n",
       "<svg width=\"228pt\" height=\"89pt\"\n",
       " viewBox=\"0.00 0.00 228.00 89.00\" xmlns=\"http://www.w3.org/2000/svg\" xmlns:xlink=\"http://www.w3.org/1999/xlink\">\n",
       "<g id=\"graph0\" class=\"graph\" transform=\"scale(1 1) rotate(0) translate(4 85)\">\n",
       "<polygon fill=\"white\" stroke=\"transparent\" points=\"-4,4 -4,-85 224,-85 224,4 -4,4\"/>\n",
       "<!-- 0 -->\n",
       "<g id=\"node1\" class=\"node\">\n",
       "<title>0</title>\n",
       "<text text-anchor=\"middle\" x=\"20\" y=\"-36.8\" font-family=\"Times,serif\" font-size=\"14.00\">&lt;start&gt;</text>\n",
       "</g>\n",
       "<!-- 1 -->\n",
       "<g id=\"node2\" class=\"node\">\n",
       "<title>1</title>\n",
       "<text text-anchor=\"middle\" x=\"97.5\" y=\"-36.8\" font-family=\"Times,serif\" font-size=\"14.00\">&lt;expr&gt;</text>\n",
       "</g>\n",
       "<!-- 0&#45;&gt;1 -->\n",
       "<g id=\"edge1\" class=\"edge\">\n",
       "<title>0&#45;&gt;1</title>\n",
       "<path fill=\"none\" stroke=\"black\" d=\"M40.05,-40.5C48.15,-40.5 57.79,-40.5 66.79,-40.5\"/>\n",
       "<polygon fill=\"black\" stroke=\"black\" points=\"66.93,-44 76.93,-40.5 66.93,-37 66.93,-44\"/>\n",
       "</g>\n",
       "<!-- 2 -->\n",
       "<g id=\"node3\" class=\"node\">\n",
       "<title>2</title>\n",
       "<text text-anchor=\"middle\" x=\"194\" y=\"-69.8\" font-family=\"Times,serif\" font-size=\"14.00\">&lt;expr&gt;</text>\n",
       "</g>\n",
       "<!-- 1&#45;&gt;2 -->\n",
       "<g id=\"edge2\" class=\"edge\">\n",
       "<title>1&#45;&gt;2</title>\n",
       "<path fill=\"none\" stroke=\"black\" d=\"M111.7,-48.12C118.74,-51.95 127.65,-56.41 136,-59.5 144.72,-62.73 154.47,-65.44 163.41,-67.59\"/>\n",
       "<polygon fill=\"black\" stroke=\"black\" points=\"162.88,-71.06 173.41,-69.84 164.43,-64.23 162.88,-71.06\"/>\n",
       "</g>\n",
       "<!-- 3 -->\n",
       "<g id=\"node4\" class=\"node\">\n",
       "<title>3</title>\n",
       "<text text-anchor=\"middle\" x=\"194\" y=\"-36.8\" font-family=\"Times,serif\" font-size=\"14.00\"> + &#160;(plus)</text>\n",
       "</g>\n",
       "<!-- 1&#45;&gt;3 -->\n",
       "<g id=\"edge3\" class=\"edge\">\n",
       "<title>1&#45;&gt;3</title>\n",
       "<path fill=\"none\" stroke=\"black\" d=\"M118.08,-40.5C129.43,-40.5 144.06,-40.5 157.38,-40.5\"/>\n",
       "<polygon fill=\"black\" stroke=\"black\" points=\"157.69,-44 167.69,-40.5 157.69,-37 157.69,-44\"/>\n",
       "<text text-anchor=\"middle\" x=\"143\" y=\"-44.3\" font-family=\"Times,serif\" font-size=\"14.00\">op</text>\n",
       "</g>\n",
       "<!-- 4 -->\n",
       "<g id=\"node5\" class=\"node\">\n",
       "<title>4</title>\n",
       "<text text-anchor=\"middle\" x=\"194\" y=\"-3.8\" font-family=\"Times,serif\" font-size=\"14.00\">&lt;term&gt;</text>\n",
       "</g>\n",
       "<!-- 1&#45;&gt;4 -->\n",
       "<g id=\"edge4\" class=\"edge\">\n",
       "<title>1&#45;&gt;4</title>\n",
       "<path fill=\"none\" stroke=\"black\" d=\"M118.08,-33.66C130.99,-29.15 148.17,-23.16 162.81,-18.04\"/>\n",
       "<polygon fill=\"black\" stroke=\"black\" points=\"164.18,-21.27 172.46,-14.67 161.87,-14.66 164.18,-21.27\"/>\n",
       "</g>\n",
       "</g>\n",
       "</svg>\n"
      ],
      "text/plain": [
       "<graphviz.graphs.Digraph at 0x12253f910>"
      ]
     },
     "execution_count": 44,
     "metadata": {},
     "output_type": "execute_result"
    }
   ],
   "source": [
    "display_annotated_tree(derivation_tree, {3: 'plus'}, {(1, 3): 'op'}, log=False)"
   ]
  },
  {
   "cell_type": "markdown",
   "metadata": {
    "slideshow": {
     "slide_type": "subslide"
    }
   },
   "source": [
    "#### End of Excursion"
   ]
  },
  {
   "cell_type": "markdown",
   "metadata": {
    "slideshow": {
     "slide_type": "fragment"
    }
   },
   "source": [
    "If we want to see all the leaf nodes in a tree as a string, the following `all_terminals()` function comes in handy:"
   ]
  },
  {
   "cell_type": "code",
   "execution_count": 45,
   "metadata": {
    "button": false,
    "execution": {
     "iopub.execute_input": "2022-08-06T15:52:10.997364Z",
     "iopub.status.busy": "2022-08-06T15:52:10.997023Z",
     "iopub.status.idle": "2022-08-06T15:52:10.998153Z",
     "shell.execute_reply": "2022-08-06T15:52:10.998416Z"
    },
    "new_sheet": false,
    "run_control": {
     "read_only": false
    },
    "slideshow": {
     "slide_type": "fragment"
    }
   },
   "outputs": [],
   "source": [
    "def all_terminals(tree: DerivationTree) -> str:\n",
    "    (symbol, children) = tree\n",
    "    if children is None:\n",
    "        # This is a nonterminal symbol not expanded yet\n",
    "        return symbol\n",
    "\n",
    "    if len(children) == 0:\n",
    "        # This is a terminal symbol\n",
    "        return symbol\n",
    "\n",
    "    # This is an expanded symbol:\n",
    "    # Concatenate all terminal symbols from all children\n",
    "    return ''.join([all_terminals(c) for c in children])"
   ]
  },
  {
   "cell_type": "code",
   "execution_count": 46,
   "metadata": {
    "button": false,
    "execution": {
     "iopub.execute_input": "2022-08-06T15:52:11.000406Z",
     "iopub.status.busy": "2022-08-06T15:52:11.000076Z",
     "iopub.status.idle": "2022-08-06T15:52:11.001523Z",
     "shell.execute_reply": "2022-08-06T15:52:11.001699Z"
    },
    "new_sheet": false,
    "run_control": {
     "read_only": false
    },
    "slideshow": {
     "slide_type": "fragment"
    }
   },
   "outputs": [
    {
     "data": {
      "text/plain": [
       "'<expr> + <term>'"
      ]
     },
     "execution_count": 46,
     "metadata": {},
     "output_type": "execute_result"
    }
   ],
   "source": [
    "all_terminals(derivation_tree)"
   ]
  },
  {
   "cell_type": "markdown",
   "metadata": {
    "slideshow": {
     "slide_type": "subslide"
    }
   },
   "source": [
    "The alternative `tree_to_string()` function also converts the tree to a string; however, it replaces nonterminal symbols by empty strings."
   ]
  },
  {
   "cell_type": "code",
   "execution_count": 47,
   "metadata": {
    "execution": {
     "iopub.execute_input": "2022-08-06T15:52:11.003730Z",
     "iopub.status.busy": "2022-08-06T15:52:11.003444Z",
     "iopub.status.idle": "2022-08-06T15:52:11.004508Z",
     "shell.execute_reply": "2022-08-06T15:52:11.004732Z"
    },
    "slideshow": {
     "slide_type": "fragment"
    }
   },
   "outputs": [],
   "source": [
    "def tree_to_string(tree: DerivationTree) -> str:\n",
    "    symbol, children, *_ = tree\n",
    "    if children:\n",
    "        return ''.join(tree_to_string(c) for c in children)\n",
    "    else:\n",
    "        return '' if is_nonterminal(symbol) else symbol"
   ]
  },
  {
   "cell_type": "code",
   "execution_count": 48,
   "metadata": {
    "execution": {
     "iopub.execute_input": "2022-08-06T15:52:11.006032Z",
     "iopub.status.busy": "2022-08-06T15:52:11.005728Z",
     "iopub.status.idle": "2022-08-06T15:52:11.007566Z",
     "shell.execute_reply": "2022-08-06T15:52:11.007789Z"
    },
    "slideshow": {
     "slide_type": "fragment"
    }
   },
   "outputs": [
    {
     "data": {
      "text/plain": [
       "' + '"
      ]
     },
     "execution_count": 48,
     "metadata": {},
     "output_type": "execute_result"
    }
   ],
   "source": [
    "tree_to_string(derivation_tree)"
   ]
  },
  {
   "cell_type": "markdown",
   "metadata": {
    "button": false,
    "new_sheet": false,
    "run_control": {
     "read_only": false
    },
    "slideshow": {
     "slide_type": "slide"
    }
   },
   "source": [
    "## Expanding a Node"
   ]
  },
  {
   "cell_type": "markdown",
   "metadata": {
    "button": false,
    "new_sheet": false,
    "run_control": {
     "read_only": false
    },
    "slideshow": {
     "slide_type": "fragment"
    }
   },
   "source": [
    "Let us now develop an algorithm that takes a tree with unexpanded symbols (say, `derivation_tree`, above), and expands all these symbols one after the other.  As with earlier fuzzers, we create a special subclass of `Fuzzer` – in this case, `GrammarFuzzer`.  A `GrammarFuzzer` gets a grammar and a start symbol; the other parameters will be used later to further control creation and to support debugging."
   ]
  },
  {
   "cell_type": "code",
   "execution_count": 49,
   "metadata": {
    "execution": {
     "iopub.execute_input": "2022-08-06T15:52:11.009446Z",
     "iopub.status.busy": "2022-08-06T15:52:11.009196Z",
     "iopub.status.idle": "2022-08-06T15:52:11.010569Z",
     "shell.execute_reply": "2022-08-06T15:52:11.010322Z"
    },
    "slideshow": {
     "slide_type": "skip"
    }
   },
   "outputs": [],
   "source": [
    "from Fuzzer import Fuzzer"
   ]
  },
  {
   "cell_type": "code",
   "execution_count": 50,
   "metadata": {
    "button": false,
    "execution": {
     "iopub.execute_input": "2022-08-06T15:52:11.013275Z",
     "iopub.status.busy": "2022-08-06T15:52:11.012918Z",
     "iopub.status.idle": "2022-08-06T15:52:11.014396Z",
     "shell.execute_reply": "2022-08-06T15:52:11.014690Z"
    },
    "new_sheet": false,
    "run_control": {
     "read_only": false
    },
    "slideshow": {
     "slide_type": "subslide"
    }
   },
   "outputs": [],
   "source": [
    "class GrammarFuzzer(Fuzzer):\n",
    "    \"\"\"Produce strings from grammars efficiently, using derivation trees.\"\"\"\n",
    "\n",
    "    def __init__(self,\n",
    "                 grammar: Grammar,\n",
    "                 start_symbol: str = START_SYMBOL,\n",
    "                 min_nonterminals: int = 0,\n",
    "                 max_nonterminals: int = 10,\n",
    "                 disp: bool = False,\n",
    "                 log: Union[bool, int] = False) -> None:\n",
    "        \"\"\"Produce strings from `grammar`, starting with `start_symbol`.\n",
    "        If `min_nonterminals` or `max_nonterminals` is given, use them as limits \n",
    "        for the number of nonterminals produced.  \n",
    "        If `disp` is set, display the intermediate derivation trees.\n",
    "        If `log` is set, show intermediate steps as text on standard output.\"\"\"\n",
    "\n",
    "        self.grammar = grammar\n",
    "        self.start_symbol = start_symbol\n",
    "        self.min_nonterminals = min_nonterminals\n",
    "        self.max_nonterminals = max_nonterminals\n",
    "        self.disp = disp\n",
    "        self.log = log\n",
    "        self.check_grammar()  # Invokes is_valid_grammar()"
   ]
  },
  {
   "cell_type": "markdown",
   "metadata": {
    "slideshow": {
     "slide_type": "subslide"
    }
   },
   "source": [
    "To add further methods to `GrammarFuzzer`, we use the hack already introduced for [the `MutationFuzzer` class](MutationFuzzer.ipynb).  The construct\n",
    "\n",
    "```python\n",
    "class GrammarFuzzer(GrammarFuzzer):\n",
    "    def new_method(self, args):\n",
    "        pass\n",
    "```\n",
    "\n",
    "allows us to add a new method `new_method()` to the `GrammarFuzzer` class. (Actually, we get a new `GrammarFuzzer` class that extends the old one, but for all our purposes, this does not matter.)"
   ]
  },
  {
   "cell_type": "markdown",
   "metadata": {
    "slideshow": {
     "slide_type": "subslide"
    }
   },
   "source": [
    "#### Excursion: `check_grammar()` implementation"
   ]
  },
  {
   "cell_type": "markdown",
   "metadata": {
    "slideshow": {
     "slide_type": "fragment"
    }
   },
   "source": [
    "We can use the above hack to define the helper method `check_grammar()`, which checks the given grammar for consistency:"
   ]
  },
  {
   "cell_type": "code",
   "execution_count": 51,
   "metadata": {
    "execution": {
     "iopub.execute_input": "2022-08-06T15:52:11.017875Z",
     "iopub.status.busy": "2022-08-06T15:52:11.017545Z",
     "iopub.status.idle": "2022-08-06T15:52:11.018827Z",
     "shell.execute_reply": "2022-08-06T15:52:11.019095Z"
    },
    "slideshow": {
     "slide_type": "fragment"
    }
   },
   "outputs": [],
   "source": [
    "class GrammarFuzzer(GrammarFuzzer):\n",
    "    def check_grammar(self) -> None:\n",
    "        \"\"\"Check the grammar passed\"\"\"\n",
    "        assert self.start_symbol in self.grammar\n",
    "        assert is_valid_grammar(\n",
    "            self.grammar,\n",
    "            start_symbol=self.start_symbol,\n",
    "            supported_opts=self.supported_opts())\n",
    "\n",
    "    def supported_opts(self) -> Set[str]:\n",
    "        \"\"\"Set of supported options. To be overloaded in subclasses.\"\"\"\n",
    "        return set()  # We don't support specific options"
   ]
  },
  {
   "cell_type": "markdown",
   "metadata": {
    "slideshow": {
     "slide_type": "subslide"
    }
   },
   "source": [
    "#### End of Excursion"
   ]
  },
  {
   "cell_type": "markdown",
   "metadata": {
    "button": false,
    "new_sheet": false,
    "run_control": {
     "read_only": false
    },
    "slideshow": {
     "slide_type": "subslide"
    }
   },
   "source": [
    "Let us now define a helper method `init_tree()` that constructs a tree with just the start symbol:"
   ]
  },
  {
   "cell_type": "code",
   "execution_count": 52,
   "metadata": {
    "button": false,
    "execution": {
     "iopub.execute_input": "2022-08-06T15:52:11.021169Z",
     "iopub.status.busy": "2022-08-06T15:52:11.020877Z",
     "iopub.status.idle": "2022-08-06T15:52:11.021975Z",
     "shell.execute_reply": "2022-08-06T15:52:11.022162Z"
    },
    "new_sheet": false,
    "run_control": {
     "read_only": false
    },
    "slideshow": {
     "slide_type": "fragment"
    }
   },
   "outputs": [],
   "source": [
    "class GrammarFuzzer(GrammarFuzzer):\n",
    "    def init_tree(self) -> DerivationTree:\n",
    "        return (self.start_symbol, None)"
   ]
  },
  {
   "cell_type": "code",
   "execution_count": 53,
   "metadata": {
    "button": false,
    "execution": {
     "iopub.execute_input": "2022-08-06T15:52:11.026478Z",
     "iopub.status.busy": "2022-08-06T15:52:11.026134Z",
     "iopub.status.idle": "2022-08-06T15:52:11.308319Z",
     "shell.execute_reply": "2022-08-06T15:52:11.308593Z"
    },
    "new_sheet": false,
    "run_control": {
     "read_only": false
    },
    "slideshow": {
     "slide_type": "fragment"
    }
   },
   "outputs": [
    {
     "data": {
      "image/svg+xml": [
       "<?xml version=\"1.0\" encoding=\"UTF-8\" standalone=\"no\"?>\n",
       "<!DOCTYPE svg PUBLIC \"-//W3C//DTD SVG 1.1//EN\"\n",
       " \"http://www.w3.org/Graphics/SVG/1.1/DTD/svg11.dtd\">\n",
       "<!-- Generated by graphviz version 5.0.0 (20220707.1540)\n",
       " -->\n",
       "<!-- Pages: 1 -->\n",
       "<svg width=\"48pt\" height=\"23pt\"\n",
       " viewBox=\"0.00 0.00 48.00 23.00\" xmlns=\"http://www.w3.org/2000/svg\" xmlns:xlink=\"http://www.w3.org/1999/xlink\">\n",
       "<g id=\"graph0\" class=\"graph\" transform=\"scale(1 1) rotate(0) translate(4 19)\">\n",
       "<polygon fill=\"white\" stroke=\"transparent\" points=\"-4,4 -4,-19 44,-19 44,4 -4,4\"/>\n",
       "<!-- 0 -->\n",
       "<g id=\"node1\" class=\"node\">\n",
       "<title>0</title>\n",
       "<text text-anchor=\"middle\" x=\"20\" y=\"-3.8\" font-family=\"Times,serif\" font-size=\"14.00\">&lt;start&gt;</text>\n",
       "</g>\n",
       "</g>\n",
       "</svg>\n"
      ],
      "text/plain": [
       "<graphviz.graphs.Digraph at 0x1225805b0>"
      ]
     },
     "execution_count": 53,
     "metadata": {},
     "output_type": "execute_result"
    }
   ],
   "source": [
    "f = GrammarFuzzer(EXPR_GRAMMAR)\n",
    "display_tree(f.init_tree())"
   ]
  },
  {
   "cell_type": "markdown",
   "metadata": {
    "slideshow": {
     "slide_type": "fragment"
    }
   },
   "source": [
    "This is the tree we want to expand."
   ]
  },
  {
   "cell_type": "markdown",
   "metadata": {
    "slideshow": {
     "slide_type": "subslide"
    }
   },
   "source": [
    "### Picking a Children Alternative to be Expanded"
   ]
  },
  {
   "cell_type": "markdown",
   "metadata": {
    "slideshow": {
     "slide_type": "fragment"
    }
   },
   "source": [
    "One of the central methods in `GrammarFuzzer` is `choose_node_expansion()`. This method gets a node (say, the `<start>` node and a list of possible lists of children to be expanded (one for every possible expansion from the grammar), chooses one of them, and returns its index in the possible children list."
   ]
  },
  {
   "cell_type": "markdown",
   "metadata": {
    "slideshow": {
     "slide_type": "fragment"
    }
   },
   "source": [
    "By overloading this method (notably in later chapters), we can implement different strategies – for now, it simply randomly picks one of the given lists of children (which in turn are lists of derivation trees)."
   ]
  },
  {
   "cell_type": "code",
   "execution_count": 54,
   "metadata": {
    "execution": {
     "iopub.execute_input": "2022-08-06T15:52:11.311502Z",
     "iopub.status.busy": "2022-08-06T15:52:11.311229Z",
     "iopub.status.idle": "2022-08-06T15:52:11.312223Z",
     "shell.execute_reply": "2022-08-06T15:52:11.312529Z"
    },
    "slideshow": {
     "slide_type": "subslide"
    },
    "tags": []
   },
   "outputs": [],
   "source": [
    "class GrammarFuzzer(GrammarFuzzer):\n",
    "    def choose_node_expansion(self, node: DerivationTree,\n",
    "                              children_alternatives: List[List[DerivationTree]]) -> int:\n",
    "        \"\"\"Return index of expansion in `children_alternatives` to be selected.\n",
    "           'children_alternatives`: a list of possible children for `node`.\n",
    "           Defaults to random. To be overloaded in subclasses.\"\"\"\n",
    "        return random.randrange(0, len(children_alternatives))"
   ]
  },
  {
   "cell_type": "markdown",
   "metadata": {
    "slideshow": {
     "slide_type": "subslide"
    }
   },
   "source": [
    "### Getting a List of Possible Expansions"
   ]
  },
  {
   "cell_type": "markdown",
   "metadata": {
    "button": false,
    "new_sheet": false,
    "run_control": {
     "read_only": false
    },
    "slideshow": {
     "slide_type": "subslide"
    }
   },
   "source": [
    "To actually obtain the list of possible children, we will need a helper function `expansion_to_children()` that takes an expansion string and decomposes it into a list of derivation trees – one for each symbol (terminal or nonterminal) in the string."
   ]
  },
  {
   "cell_type": "markdown",
   "metadata": {
    "slideshow": {
     "slide_type": "subslide"
    }
   },
   "source": [
    "#### Excursion: Implementing `expansion_to_children()`"
   ]
  },
  {
   "cell_type": "markdown",
   "metadata": {
    "button": false,
    "new_sheet": false,
    "run_control": {
     "read_only": false
    },
    "slideshow": {
     "slide_type": "subslide"
    }
   },
   "source": [
    "The function `expansion_to_children()` uses the `re.split()` method to split an expansion string into a list of children nodes:"
   ]
  },
  {
   "cell_type": "code",
   "execution_count": 55,
   "metadata": {
    "button": false,
    "execution": {
     "iopub.execute_input": "2022-08-06T15:52:11.315061Z",
     "iopub.status.busy": "2022-08-06T15:52:11.314767Z",
     "iopub.status.idle": "2022-08-06T15:52:11.315955Z",
     "shell.execute_reply": "2022-08-06T15:52:11.316191Z"
    },
    "new_sheet": false,
    "run_control": {
     "read_only": false
    },
    "slideshow": {
     "slide_type": "subslide"
    }
   },
   "outputs": [],
   "source": [
    "def expansion_to_children(expansion: Expansion) -> List[DerivationTree]:\n",
    "    # print(\"Converting \" + repr(expansion))\n",
    "    # strings contains all substrings -- both terminals and nonterminals such\n",
    "    # that ''.join(strings) == expansion\n",
    "\n",
    "    expansion = exp_string(expansion)\n",
    "    assert isinstance(expansion, str)\n",
    "\n",
    "    if expansion == \"\":  # Special case: epsilon expansion\n",
    "        return [(\"\", [])]\n",
    "\n",
    "    strings = re.split(RE_NONTERMINAL, expansion)\n",
    "    return [(s, None) if is_nonterminal(s) else (s, [])\n",
    "            for s in strings if len(s) > 0]"
   ]
  },
  {
   "cell_type": "markdown",
   "metadata": {
    "slideshow": {
     "slide_type": "subslide"
    }
   },
   "source": [
    "#### End of Excursion"
   ]
  },
  {
   "cell_type": "code",
   "execution_count": 56,
   "metadata": {
    "button": false,
    "execution": {
     "iopub.execute_input": "2022-08-06T15:52:11.318296Z",
     "iopub.status.busy": "2022-08-06T15:52:11.317923Z",
     "iopub.status.idle": "2022-08-06T15:52:11.319435Z",
     "shell.execute_reply": "2022-08-06T15:52:11.319697Z"
    },
    "new_sheet": false,
    "run_control": {
     "read_only": false
    },
    "slideshow": {
     "slide_type": "subslide"
    }
   },
   "outputs": [
    {
     "data": {
      "text/plain": [
       "[('<term>', None), (' + ', []), ('<expr>', None)]"
      ]
     },
     "execution_count": 56,
     "metadata": {},
     "output_type": "execute_result"
    }
   ],
   "source": [
    "expansion_to_children(\"<term> + <expr>\")"
   ]
  },
  {
   "cell_type": "markdown",
   "metadata": {
    "button": false,
    "new_sheet": false,
    "run_control": {
     "read_only": false
    },
    "slideshow": {
     "slide_type": "fragment"
    }
   },
   "source": [
    "The case of an *epsilon expansion*, i.e. expanding into an empty string as in `<symbol> ::=` needs special treatment:"
   ]
  },
  {
   "cell_type": "code",
   "execution_count": 57,
   "metadata": {
    "button": false,
    "execution": {
     "iopub.execute_input": "2022-08-06T15:52:11.321599Z",
     "iopub.status.busy": "2022-08-06T15:52:11.321278Z",
     "iopub.status.idle": "2022-08-06T15:52:11.322603Z",
     "shell.execute_reply": "2022-08-06T15:52:11.322818Z"
    },
    "new_sheet": false,
    "run_control": {
     "read_only": false
    },
    "slideshow": {
     "slide_type": "fragment"
    }
   },
   "outputs": [
    {
     "data": {
      "text/plain": [
       "[('', [])]"
      ]
     },
     "execution_count": 57,
     "metadata": {},
     "output_type": "execute_result"
    }
   ],
   "source": [
    "expansion_to_children(\"\")"
   ]
  },
  {
   "cell_type": "markdown",
   "metadata": {
    "slideshow": {
     "slide_type": "subslide"
    }
   },
   "source": [
    "Just like `nonterminals()` in the [chapter on Grammars](Grammars.ipynb), we provide for future extensions, allowing the expansion to be a tuple with extra data (which will be ignored)."
   ]
  },
  {
   "cell_type": "code",
   "execution_count": 58,
   "metadata": {
    "button": false,
    "execution": {
     "iopub.execute_input": "2022-08-06T15:52:11.325219Z",
     "iopub.status.busy": "2022-08-06T15:52:11.324798Z",
     "iopub.status.idle": "2022-08-06T15:52:11.326638Z",
     "shell.execute_reply": "2022-08-06T15:52:11.327013Z"
    },
    "new_sheet": false,
    "run_control": {
     "read_only": false
    },
    "slideshow": {
     "slide_type": "fragment"
    }
   },
   "outputs": [
    {
     "data": {
      "text/plain": [
       "[('+', []), ('<term>', None)]"
      ]
     },
     "execution_count": 58,
     "metadata": {},
     "output_type": "execute_result"
    }
   ],
   "source": [
    "expansion_to_children((\"+<term>\", {\"extra_data\": 1234}))"
   ]
  },
  {
   "cell_type": "markdown",
   "metadata": {
    "slideshow": {
     "slide_type": "fragment"
    }
   },
   "source": [
    "We realize this helper as a method in `GrammarFuzzer` such that it can be overloaded by subclasses:"
   ]
  },
  {
   "cell_type": "code",
   "execution_count": 59,
   "metadata": {
    "execution": {
     "iopub.execute_input": "2022-08-06T15:52:11.329271Z",
     "iopub.status.busy": "2022-08-06T15:52:11.328967Z",
     "iopub.status.idle": "2022-08-06T15:52:11.330013Z",
     "shell.execute_reply": "2022-08-06T15:52:11.330246Z"
    },
    "slideshow": {
     "slide_type": "subslide"
    }
   },
   "outputs": [],
   "source": [
    "class GrammarFuzzer(GrammarFuzzer):\n",
    "    def expansion_to_children(self, expansion: Expansion) -> List[DerivationTree]:\n",
    "        return expansion_to_children(expansion)"
   ]
  },
  {
   "cell_type": "markdown",
   "metadata": {
    "slideshow": {
     "slide_type": "subslide"
    }
   },
   "source": [
    "### Putting Things Together"
   ]
  },
  {
   "cell_type": "markdown",
   "metadata": {
    "button": false,
    "new_sheet": false,
    "run_control": {
     "read_only": false
    },
    "slideshow": {
     "slide_type": "subslide"
    }
   },
   "source": [
    "With this, we can now take\n",
    "\n",
    "1. some unexpanded node in the tree, \n",
    "2. choose a random expansion, and\n",
    "3. return the new tree."
   ]
  },
  {
   "cell_type": "markdown",
   "metadata": {
    "button": false,
    "new_sheet": false,
    "run_control": {
     "read_only": false
    },
    "slideshow": {
     "slide_type": "subslide"
    }
   },
   "source": [
    "This is what the method `expand_node_randomly()` does."
   ]
  },
  {
   "cell_type": "markdown",
   "metadata": {
    "slideshow": {
     "slide_type": "subslide"
    }
   },
   "source": [
    "#### Excursion: `expand_node_randomly()` implementation"
   ]
  },
  {
   "cell_type": "markdown",
   "metadata": {
    "button": false,
    "new_sheet": false,
    "run_control": {
     "read_only": false
    },
    "slideshow": {
     "slide_type": "subslide"
    }
   },
   "source": [
    "The function `expand_node_randomly()` uses a helper function `choose_node_expansion()` to randomly pick an index from an array of possible children.  (`choose_node_expansion()` can be overloaded in subclasses.)"
   ]
  },
  {
   "cell_type": "code",
   "execution_count": 60,
   "metadata": {
    "execution": {
     "iopub.execute_input": "2022-08-06T15:52:11.332153Z",
     "iopub.status.busy": "2022-08-06T15:52:11.331888Z",
     "iopub.status.idle": "2022-08-06T15:52:11.333262Z",
     "shell.execute_reply": "2022-08-06T15:52:11.333073Z"
    },
    "slideshow": {
     "slide_type": "skip"
    }
   },
   "outputs": [],
   "source": [
    "import random"
   ]
  },
  {
   "cell_type": "code",
   "execution_count": 61,
   "metadata": {
    "button": false,
    "execution": {
     "iopub.execute_input": "2022-08-06T15:52:11.335886Z",
     "iopub.status.busy": "2022-08-06T15:52:11.335608Z",
     "iopub.status.idle": "2022-08-06T15:52:11.336932Z",
     "shell.execute_reply": "2022-08-06T15:52:11.337124Z"
    },
    "new_sheet": false,
    "run_control": {
     "read_only": false
    },
    "slideshow": {
     "slide_type": "subslide"
    }
   },
   "outputs": [],
   "source": [
    "class GrammarFuzzer(GrammarFuzzer):\n",
    "    def expand_node_randomly(self, node: DerivationTree) -> DerivationTree:\n",
    "        \"\"\"Choose a random expansion for `node` and return it\"\"\"\n",
    "        (symbol, children) = node\n",
    "        assert children is None\n",
    "\n",
    "        if self.log:\n",
    "            print(\"Expanding\", all_terminals(node), \"randomly\")\n",
    "\n",
    "        # Fetch the possible expansions from grammar...\n",
    "        expansions = self.grammar[symbol]\n",
    "        children_alternatives: List[List[DerivationTree]] = [\n",
    "            self.expansion_to_children(expansion) for expansion in expansions\n",
    "        ]\n",
    "\n",
    "        # ... and select a random expansion\n",
    "        index = self.choose_node_expansion(node, children_alternatives)\n",
    "        chosen_children = children_alternatives[index]\n",
    "\n",
    "        # Process children (for subclasses)\n",
    "        chosen_children = self.process_chosen_children(chosen_children,\n",
    "                                                       expansions[index])\n",
    "\n",
    "        # Return with new children\n",
    "        return (symbol, chosen_children)"
   ]
  },
  {
   "cell_type": "markdown",
   "metadata": {
    "slideshow": {
     "slide_type": "subslide"
    }
   },
   "source": [
    "The generic `expand_node()` method can later be used to select different expansion strategies; as of now, it only uses `expand_node_randomly()`."
   ]
  },
  {
   "cell_type": "code",
   "execution_count": 62,
   "metadata": {
    "execution": {
     "iopub.execute_input": "2022-08-06T15:52:11.338860Z",
     "iopub.status.busy": "2022-08-06T15:52:11.338585Z",
     "iopub.status.idle": "2022-08-06T15:52:11.339921Z",
     "shell.execute_reply": "2022-08-06T15:52:11.340137Z"
    },
    "slideshow": {
     "slide_type": "fragment"
    }
   },
   "outputs": [],
   "source": [
    "class GrammarFuzzer(GrammarFuzzer):\n",
    "    def expand_node(self, node: DerivationTree) -> DerivationTree:\n",
    "        return self.expand_node_randomly(node)"
   ]
  },
  {
   "cell_type": "markdown",
   "metadata": {
    "slideshow": {
     "slide_type": "fragment"
    }
   },
   "source": [
    "The helper function `process_chosen_children()` does nothing; it can be overloaded by subclasses to process the children once chosen."
   ]
  },
  {
   "cell_type": "code",
   "execution_count": 63,
   "metadata": {
    "execution": {
     "iopub.execute_input": "2022-08-06T15:52:11.341977Z",
     "iopub.status.busy": "2022-08-06T15:52:11.341704Z",
     "iopub.status.idle": "2022-08-06T15:52:11.343011Z",
     "shell.execute_reply": "2022-08-06T15:52:11.343194Z"
    },
    "slideshow": {
     "slide_type": "fragment"
    }
   },
   "outputs": [],
   "source": [
    "class GrammarFuzzer(GrammarFuzzer):\n",
    "    def process_chosen_children(self,\n",
    "                                chosen_children: List[DerivationTree],\n",
    "                                expansion: Expansion) -> List[DerivationTree]:\n",
    "        \"\"\"Process children after selection.  By default, does nothing.\"\"\"\n",
    "        return chosen_children"
   ]
  },
  {
   "cell_type": "markdown",
   "metadata": {
    "slideshow": {
     "slide_type": "subslide"
    }
   },
   "source": [
    "#### End of Excursion"
   ]
  },
  {
   "cell_type": "markdown",
   "metadata": {
    "slideshow": {
     "slide_type": "subslide"
    }
   },
   "source": [
    "This is how `expand_node_randomly()` works:"
   ]
  },
  {
   "cell_type": "code",
   "execution_count": 64,
   "metadata": {
    "button": false,
    "execution": {
     "iopub.execute_input": "2022-08-06T15:52:11.345400Z",
     "iopub.status.busy": "2022-08-06T15:52:11.345112Z",
     "iopub.status.idle": "2022-08-06T15:52:11.631394Z",
     "shell.execute_reply": "2022-08-06T15:52:11.631633Z"
    },
    "new_sheet": false,
    "run_control": {
     "read_only": false
    },
    "slideshow": {
     "slide_type": "fragment"
    }
   },
   "outputs": [
    {
     "name": "stdout",
     "output_type": "stream",
     "text": [
      "Before expand_node_randomly():\n"
     ]
    },
    {
     "data": {
      "image/svg+xml": [
       "<?xml version=\"1.0\" encoding=\"UTF-8\" standalone=\"no\"?>\n",
       "<!DOCTYPE svg PUBLIC \"-//W3C//DTD SVG 1.1//EN\"\n",
       " \"http://www.w3.org/Graphics/SVG/1.1/DTD/svg11.dtd\">\n",
       "<!-- Generated by graphviz version 5.0.0 (20220707.1540)\n",
       " -->\n",
       "<!-- Pages: 1 -->\n",
       "<svg width=\"63pt\" height=\"23pt\"\n",
       " viewBox=\"0.00 0.00 63.00 23.00\" xmlns=\"http://www.w3.org/2000/svg\" xmlns:xlink=\"http://www.w3.org/1999/xlink\">\n",
       "<g id=\"graph0\" class=\"graph\" transform=\"scale(1 1) rotate(0) translate(4 19)\">\n",
       "<polygon fill=\"white\" stroke=\"transparent\" points=\"-4,4 -4,-19 59,-19 59,4 -4,4\"/>\n",
       "<!-- 0 -->\n",
       "<g id=\"node1\" class=\"node\">\n",
       "<title>0</title>\n",
       "<text text-anchor=\"middle\" x=\"27.5\" y=\"-3.8\" font-family=\"Times,serif\" font-size=\"14.00\">&lt;integer&gt;</text>\n",
       "</g>\n",
       "</g>\n",
       "</svg>\n"
      ],
      "text/plain": [
       "<graphviz.graphs.Digraph at 0x122581270>"
      ]
     },
     "execution_count": 64,
     "metadata": {},
     "output_type": "execute_result"
    }
   ],
   "source": [
    "f = GrammarFuzzer(EXPR_GRAMMAR, log=True)\n",
    "\n",
    "print(\"Before expand_node_randomly():\")\n",
    "expr_tree = (\"<integer>\", None)\n",
    "display_tree(expr_tree)"
   ]
  },
  {
   "cell_type": "code",
   "execution_count": 65,
   "metadata": {
    "button": false,
    "execution": {
     "iopub.execute_input": "2022-08-06T15:52:11.636279Z",
     "iopub.status.busy": "2022-08-06T15:52:11.635921Z",
     "iopub.status.idle": "2022-08-06T15:52:11.926029Z",
     "shell.execute_reply": "2022-08-06T15:52:11.925728Z"
    },
    "new_sheet": false,
    "run_control": {
     "read_only": false
    },
    "slideshow": {
     "slide_type": "fragment"
    }
   },
   "outputs": [
    {
     "name": "stdout",
     "output_type": "stream",
     "text": [
      "After expand_node_randomly():\n",
      "Expanding <integer> randomly\n"
     ]
    },
    {
     "data": {
      "image/svg+xml": [
       "<?xml version=\"1.0\" encoding=\"UTF-8\" standalone=\"no\"?>\n",
       "<!DOCTYPE svg PUBLIC \"-//W3C//DTD SVG 1.1//EN\"\n",
       " \"http://www.w3.org/Graphics/SVG/1.1/DTD/svg11.dtd\">\n",
       "<!-- Generated by graphviz version 5.0.0 (20220707.1540)\n",
       " -->\n",
       "<!-- Pages: 1 -->\n",
       "<svg width=\"124pt\" height=\"74pt\"\n",
       " viewBox=\"0.00 0.00 123.50 74.00\" xmlns=\"http://www.w3.org/2000/svg\" xmlns:xlink=\"http://www.w3.org/1999/xlink\">\n",
       "<g id=\"graph0\" class=\"graph\" transform=\"scale(1 1) rotate(0) translate(4 70)\">\n",
       "<polygon fill=\"white\" stroke=\"transparent\" points=\"-4,4 -4,-70 119.5,-70 119.5,4 -4,4\"/>\n",
       "<!-- 0 -->\n",
       "<g id=\"node1\" class=\"node\">\n",
       "<title>0</title>\n",
       "<text text-anchor=\"middle\" x=\"54\" y=\"-54.8\" font-family=\"Times,serif\" font-size=\"14.00\">&lt;integer&gt;</text>\n",
       "</g>\n",
       "<!-- 1 -->\n",
       "<g id=\"node2\" class=\"node\">\n",
       "<title>1</title>\n",
       "<text text-anchor=\"middle\" x=\"21\" y=\"-3.8\" font-family=\"Times,serif\" font-size=\"14.00\">&lt;digit&gt;</text>\n",
       "</g>\n",
       "<!-- 0&#45;&gt;1 -->\n",
       "<g id=\"edge1\" class=\"edge\">\n",
       "<title>0&#45;&gt;1</title>\n",
       "<path fill=\"none\" stroke=\"black\" d=\"M49.41,-50.69C44.73,-43.74 37.32,-32.73 31.23,-23.7\"/>\n",
       "<polygon fill=\"black\" stroke=\"black\" points=\"34.04,-21.59 25.55,-15.26 28.23,-25.5 34.04,-21.59\"/>\n",
       "</g>\n",
       "<!-- 2 -->\n",
       "<g id=\"node3\" class=\"node\">\n",
       "<title>2</title>\n",
       "<text text-anchor=\"middle\" x=\"88\" y=\"-3.8\" font-family=\"Times,serif\" font-size=\"14.00\">&lt;integer&gt;</text>\n",
       "</g>\n",
       "<!-- 0&#45;&gt;2 -->\n",
       "<g id=\"edge2\" class=\"edge\">\n",
       "<title>0&#45;&gt;2</title>\n",
       "<path fill=\"none\" stroke=\"black\" d=\"M58.73,-50.69C63.55,-43.74 71.19,-32.73 77.46,-23.7\"/>\n",
       "<polygon fill=\"black\" stroke=\"black\" points=\"80.49,-25.47 83.31,-15.26 74.74,-21.48 80.49,-25.47\"/>\n",
       "</g>\n",
       "</g>\n",
       "</svg>\n"
      ],
      "text/plain": [
       "<graphviz.graphs.Digraph at 0x122581330>"
      ]
     },
     "execution_count": 65,
     "metadata": {},
     "output_type": "execute_result"
    }
   ],
   "source": [
    "print(\"After expand_node_randomly():\")\n",
    "expr_tree = f.expand_node_randomly(expr_tree)\n",
    "display_tree(expr_tree)"
   ]
  },
  {
   "cell_type": "code",
   "execution_count": 66,
   "metadata": {
    "execution": {
     "iopub.execute_input": "2022-08-06T15:52:11.928335Z",
     "iopub.status.busy": "2022-08-06T15:52:11.927982Z",
     "iopub.status.idle": "2022-08-06T15:52:11.929273Z",
     "shell.execute_reply": "2022-08-06T15:52:11.929503Z"
    },
    "slideshow": {
     "slide_type": "fragment"
    }
   },
   "outputs": [],
   "source": [
    "# docassert\n",
    "assert expr_tree[1][0][0] == '<digit>'"
   ]
  },
  {
   "cell_type": "code",
   "execution_count": 67,
   "metadata": {
    "execution": {
     "iopub.execute_input": "2022-08-06T15:52:11.933163Z",
     "iopub.status.busy": "2022-08-06T15:52:11.932780Z",
     "iopub.status.idle": "2022-08-06T15:52:11.934436Z",
     "shell.execute_reply": "2022-08-06T15:52:11.934722Z"
    },
    "slideshow": {
     "slide_type": "subslide"
    }
   },
   "outputs": [
    {
     "data": {
      "text/html": [
       "\n",
       "    \n",
       "    <script>\n",
       "    var bad_answers = new Map();\n",
       "\n",
       "    function answer(quiz_id) {\n",
       "        ans = 0;\n",
       "        for (i = 1;; i++) {\n",
       "            checkbox = document.getElementById(quiz_id + \"-\" + i.toString());\n",
       "            if (!checkbox)\n",
       "                break;\n",
       "            if (checkbox.checked)\n",
       "                ans |= (1 << i);\n",
       "        }\n",
       "        return ans;\n",
       "    }\n",
       "    function check_selection(quiz_id, correct_answer, multiple_choice, hint) {\n",
       "        given_answer = answer(quiz_id);\n",
       "        if (given_answer == correct_answer)\n",
       "        {\n",
       "            document.getElementById(quiz_id + \"-submit\").value = \"Correct!\";\n",
       "            document.getElementById(quiz_id + \"-hint\").innerHTML = \"\";\n",
       "\n",
       "            for (i = 1;; i++) {\n",
       "                checkbox = document.getElementById(quiz_id + \"-\" + i.toString());\n",
       "                label = document.getElementById(quiz_id + \"-\" + i.toString() + \"-label\")\n",
       "                if (!checkbox)\n",
       "                    break;\n",
       "    \n",
       "                if (checkbox.checked) {\n",
       "                    label.style.fontWeight = \"bold\";\n",
       "                }\n",
       "                else {\n",
       "                    label.style.textDecoration = \"line-through\";\n",
       "                }\n",
       "            }\n",
       "        }\n",
       "        else \n",
       "        {\n",
       "            document.getElementById(quiz_id + \"-submit\").value = \"Try again\";\n",
       "            \n",
       "            if (!bad_answers.has(quiz_id)) {\n",
       "                bad_answers.set(quiz_id, 1);\n",
       "            }\n",
       "            else {\n",
       "                bad_answers.set(quiz_id, bad_answers.get(quiz_id) + 1);\n",
       "            }\n",
       "\n",
       "            if (bad_answers.get(quiz_id) >= 2 && hint.length > 0) {\n",
       "                document.getElementById(quiz_id + \"-hint\").innerHTML = \n",
       "                    \"&nbsp;&nbsp;(Hint: <code>\" + hint + \"</code>)\";\n",
       "            }\n",
       "\n",
       "            if (!multiple_choice) {\n",
       "                for (i = 1;; i++) {\n",
       "                    checkbox = document.getElementById(quiz_id + \"-\" + i.toString());\n",
       "                    label = document.getElementById(quiz_id + \"-\" + i.toString() + \"-label\")\n",
       "\n",
       "                    if (!checkbox)\n",
       "                        break;\n",
       "                    if (checkbox.checked) {\n",
       "                        label.style.textDecoration = \"line-through\";\n",
       "                    }\n",
       "                }\n",
       "            }\n",
       "        }\n",
       "    }\n",
       "    function clear_selection(quiz_id) {\n",
       "        document.getElementById(quiz_id + \"-submit\").value = \"Submit\";\n",
       "        document.getElementById(quiz_id + \"-hint\").innerHTML = \"\";\n",
       "    }\n",
       "    </script>\n",
       "    \n",
       "    <div class=\"quiz\">\n",
       "    <h3 class=\"quiz_title\">Quiz</h3>\n",
       "    <p>\n",
       "    <div class=\"quiz_question\">What tree do we get if we expand the <code>&lt;digit&gt;</code> subtree?</div>\n",
       "    </p>\n",
       "    <p>\n",
       "    <div class=\"quiz_options\" title=\"Pick a choice.\">\n",
       "    \n",
       "        <input type=\"radio\" name=\"bc2b8436-159f-11ed-bedd-6298cf1a578f\" id=\"bc2b8436-159f-11ed-bedd-6298cf1a578f-1\" onclick=\"clear_selection('bc2b8436-159f-11ed-bedd-6298cf1a578f')\">\n",
       "        <label id=\"bc2b8436-159f-11ed-bedd-6298cf1a578f-1-label\" for=\"bc2b8436-159f-11ed-bedd-6298cf1a578f-1\">We get another <code>&lt;digit&gt;</code> as new child of <code>&lt;digit&gt;</code></label><br>\n",
       "    \n",
       "        <input type=\"radio\" name=\"bc2b8436-159f-11ed-bedd-6298cf1a578f\" id=\"bc2b8436-159f-11ed-bedd-6298cf1a578f-2\" onclick=\"clear_selection('bc2b8436-159f-11ed-bedd-6298cf1a578f')\">\n",
       "        <label id=\"bc2b8436-159f-11ed-bedd-6298cf1a578f-2-label\" for=\"bc2b8436-159f-11ed-bedd-6298cf1a578f-2\">We get some digit as child of <code>&lt;digit&gt;</code></label><br>\n",
       "    \n",
       "        <input type=\"radio\" name=\"bc2b8436-159f-11ed-bedd-6298cf1a578f\" id=\"bc2b8436-159f-11ed-bedd-6298cf1a578f-3\" onclick=\"clear_selection('bc2b8436-159f-11ed-bedd-6298cf1a578f')\">\n",
       "        <label id=\"bc2b8436-159f-11ed-bedd-6298cf1a578f-3-label\" for=\"bc2b8436-159f-11ed-bedd-6298cf1a578f-3\">We get another <code>&lt;digit&gt;</code> as second child of <code>&lt;integer&gt;</code></label><br>\n",
       "    \n",
       "        <input type=\"radio\" name=\"bc2b8436-159f-11ed-bedd-6298cf1a578f\" id=\"bc2b8436-159f-11ed-bedd-6298cf1a578f-4\" onclick=\"clear_selection('bc2b8436-159f-11ed-bedd-6298cf1a578f')\">\n",
       "        <label id=\"bc2b8436-159f-11ed-bedd-6298cf1a578f-4-label\" for=\"bc2b8436-159f-11ed-bedd-6298cf1a578f-4\">The entire tree becomes a single node with a digit</label><br>\n",
       "    \n",
       "    </div>\n",
       "    </p>\n",
       "    <input id=\"bc2b8436-159f-11ed-bedd-6298cf1a578f-submit\" type=\"submit\" value=\"Submit\" onclick=\"check_selection('bc2b8436-159f-11ed-bedd-6298cf1a578f', 4, 0, 'len(&quot;2&quot;) + len(&quot;2&quot;)')\">\n",
       "    <span class=\"quiz_hint\" id=\"bc2b8436-159f-11ed-bedd-6298cf1a578f-hint\"></span>\n",
       "    </div>\n",
       "    "
      ],
      "text/plain": [
       "<IPython.core.display.HTML object>"
      ]
     },
     "execution_count": 67,
     "metadata": {},
     "output_type": "execute_result"
    }
   ],
   "source": [
    "quiz(\"What tree do we get if we expand the `<digit>` subtree?\",\n",
    "     [\n",
    "         \"We get another `<digit>` as new child of `<digit>`\",\n",
    "         \"We get some digit as child of `<digit>`\",\n",
    "         \"We get another `<digit>` as second child of `<integer>`\",\n",
    "         \"The entire tree becomes a single node with a digit\"\n",
    "     ], 'len(\"2\") + len(\"2\")')"
   ]
  },
  {
   "cell_type": "markdown",
   "metadata": {
    "slideshow": {
     "slide_type": "fragment"
    }
   },
   "source": [
    "We can surely put this to the test, right? Here we go:"
   ]
  },
  {
   "cell_type": "code",
   "execution_count": 68,
   "metadata": {
    "execution": {
     "iopub.execute_input": "2022-08-06T15:52:11.939625Z",
     "iopub.status.busy": "2022-08-06T15:52:11.938771Z",
     "iopub.status.idle": "2022-08-06T15:52:12.224513Z",
     "shell.execute_reply": "2022-08-06T15:52:12.224767Z"
    },
    "slideshow": {
     "slide_type": "fragment"
    }
   },
   "outputs": [
    {
     "data": {
      "image/svg+xml": [
       "<?xml version=\"1.0\" encoding=\"UTF-8\" standalone=\"no\"?>\n",
       "<!DOCTYPE svg PUBLIC \"-//W3C//DTD SVG 1.1//EN\"\n",
       " \"http://www.w3.org/Graphics/SVG/1.1/DTD/svg11.dtd\">\n",
       "<!-- Generated by graphviz version 5.0.0 (20220707.1540)\n",
       " -->\n",
       "<!-- Pages: 1 -->\n",
       "<svg width=\"50pt\" height=\"23pt\"\n",
       " viewBox=\"0.00 0.00 50.00 23.00\" xmlns=\"http://www.w3.org/2000/svg\" xmlns:xlink=\"http://www.w3.org/1999/xlink\">\n",
       "<g id=\"graph0\" class=\"graph\" transform=\"scale(1 1) rotate(0) translate(4 19)\">\n",
       "<polygon fill=\"white\" stroke=\"transparent\" points=\"-4,4 -4,-19 46,-19 46,4 -4,4\"/>\n",
       "<!-- 0 -->\n",
       "<g id=\"node1\" class=\"node\">\n",
       "<title>0</title>\n",
       "<text text-anchor=\"middle\" x=\"21\" y=\"-3.8\" font-family=\"Times,serif\" font-size=\"14.00\">&lt;digit&gt;</text>\n",
       "</g>\n",
       "</g>\n",
       "</svg>\n"
      ],
      "text/plain": [
       "<graphviz.graphs.Digraph at 0x12258c640>"
      ]
     },
     "execution_count": 68,
     "metadata": {},
     "output_type": "execute_result"
    }
   ],
   "source": [
    "digit_subtree = expr_tree[1][0]  # type: ignore\n",
    "display_tree(digit_subtree)"
   ]
  },
  {
   "cell_type": "code",
   "execution_count": 69,
   "metadata": {
    "button": false,
    "execution": {
     "iopub.execute_input": "2022-08-06T15:52:12.229199Z",
     "iopub.status.busy": "2022-08-06T15:52:12.228866Z",
     "iopub.status.idle": "2022-08-06T15:52:12.511411Z",
     "shell.execute_reply": "2022-08-06T15:52:12.511807Z"
    },
    "new_sheet": false,
    "run_control": {
     "read_only": false
    },
    "slideshow": {
     "slide_type": "fragment"
    }
   },
   "outputs": [
    {
     "name": "stdout",
     "output_type": "stream",
     "text": [
      "After expanding the <digit> subtree:\n",
      "Expanding <digit> randomly\n"
     ]
    },
    {
     "data": {
      "image/svg+xml": [
       "<?xml version=\"1.0\" encoding=\"UTF-8\" standalone=\"no\"?>\n",
       "<!DOCTYPE svg PUBLIC \"-//W3C//DTD SVG 1.1//EN\"\n",
       " \"http://www.w3.org/Graphics/SVG/1.1/DTD/svg11.dtd\">\n",
       "<!-- Generated by graphviz version 5.0.0 (20220707.1540)\n",
       " -->\n",
       "<!-- Pages: 1 -->\n",
       "<svg width=\"50pt\" height=\"74pt\"\n",
       " viewBox=\"0.00 0.00 50.00 74.00\" xmlns=\"http://www.w3.org/2000/svg\" xmlns:xlink=\"http://www.w3.org/1999/xlink\">\n",
       "<g id=\"graph0\" class=\"graph\" transform=\"scale(1 1) rotate(0) translate(4 70)\">\n",
       "<polygon fill=\"white\" stroke=\"transparent\" points=\"-4,4 -4,-70 46,-70 46,4 -4,4\"/>\n",
       "<!-- 0 -->\n",
       "<g id=\"node1\" class=\"node\">\n",
       "<title>0</title>\n",
       "<text text-anchor=\"middle\" x=\"21\" y=\"-54.8\" font-family=\"Times,serif\" font-size=\"14.00\">&lt;digit&gt;</text>\n",
       "</g>\n",
       "<!-- 1 -->\n",
       "<g id=\"node2\" class=\"node\">\n",
       "<title>1</title>\n",
       "<text text-anchor=\"middle\" x=\"21\" y=\"-3.8\" font-family=\"Times,serif\" font-size=\"14.00\">3</text>\n",
       "</g>\n",
       "<!-- 0&#45;&gt;1 -->\n",
       "<g id=\"edge1\" class=\"edge\">\n",
       "<title>0&#45;&gt;1</title>\n",
       "<path fill=\"none\" stroke=\"black\" d=\"M21,-50.69C21,-44.18 21,-34.1 21,-25.43\"/>\n",
       "<polygon fill=\"black\" stroke=\"black\" points=\"24.5,-25.26 21,-15.26 17.5,-25.26 24.5,-25.26\"/>\n",
       "</g>\n",
       "</g>\n",
       "</svg>\n"
      ],
      "text/plain": [
       "<graphviz.graphs.Digraph at 0x12258ee00>"
      ]
     },
     "execution_count": 69,
     "metadata": {},
     "output_type": "execute_result"
    }
   ],
   "source": [
    "print(\"After expanding the <digit> subtree:\")\n",
    "digit_subtree = f.expand_node_randomly(digit_subtree)\n",
    "display_tree(digit_subtree)"
   ]
  },
  {
   "cell_type": "markdown",
   "metadata": {
    "slideshow": {
     "slide_type": "fragment"
    }
   },
   "source": [
    "We see that `<digit>` gets expanded again according to the grammar rules – namely, into a single digit."
   ]
  },
  {
   "cell_type": "code",
   "execution_count": 70,
   "metadata": {
    "execution": {
     "iopub.execute_input": "2022-08-06T15:52:12.515376Z",
     "iopub.status.busy": "2022-08-06T15:52:12.515030Z",
     "iopub.status.idle": "2022-08-06T15:52:12.516748Z",
     "shell.execute_reply": "2022-08-06T15:52:12.516943Z"
    },
    "slideshow": {
     "slide_type": "fragment"
    }
   },
   "outputs": [
    {
     "data": {
      "text/html": [
       "\n",
       "    \n",
       "    <script>\n",
       "    var bad_answers = new Map();\n",
       "\n",
       "    function answer(quiz_id) {\n",
       "        ans = 0;\n",
       "        for (i = 1;; i++) {\n",
       "            checkbox = document.getElementById(quiz_id + \"-\" + i.toString());\n",
       "            if (!checkbox)\n",
       "                break;\n",
       "            if (checkbox.checked)\n",
       "                ans |= (1 << i);\n",
       "        }\n",
       "        return ans;\n",
       "    }\n",
       "    function check_selection(quiz_id, correct_answer, multiple_choice, hint) {\n",
       "        given_answer = answer(quiz_id);\n",
       "        if (given_answer == correct_answer)\n",
       "        {\n",
       "            document.getElementById(quiz_id + \"-submit\").value = \"Correct!\";\n",
       "            document.getElementById(quiz_id + \"-hint\").innerHTML = \"\";\n",
       "\n",
       "            for (i = 1;; i++) {\n",
       "                checkbox = document.getElementById(quiz_id + \"-\" + i.toString());\n",
       "                label = document.getElementById(quiz_id + \"-\" + i.toString() + \"-label\")\n",
       "                if (!checkbox)\n",
       "                    break;\n",
       "    \n",
       "                if (checkbox.checked) {\n",
       "                    label.style.fontWeight = \"bold\";\n",
       "                }\n",
       "                else {\n",
       "                    label.style.textDecoration = \"line-through\";\n",
       "                }\n",
       "            }\n",
       "        }\n",
       "        else \n",
       "        {\n",
       "            document.getElementById(quiz_id + \"-submit\").value = \"Try again\";\n",
       "            \n",
       "            if (!bad_answers.has(quiz_id)) {\n",
       "                bad_answers.set(quiz_id, 1);\n",
       "            }\n",
       "            else {\n",
       "                bad_answers.set(quiz_id, bad_answers.get(quiz_id) + 1);\n",
       "            }\n",
       "\n",
       "            if (bad_answers.get(quiz_id) >= 2 && hint.length > 0) {\n",
       "                document.getElementById(quiz_id + \"-hint\").innerHTML = \n",
       "                    \"&nbsp;&nbsp;(Hint: <code>\" + hint + \"</code>)\";\n",
       "            }\n",
       "\n",
       "            if (!multiple_choice) {\n",
       "                for (i = 1;; i++) {\n",
       "                    checkbox = document.getElementById(quiz_id + \"-\" + i.toString());\n",
       "                    label = document.getElementById(quiz_id + \"-\" + i.toString() + \"-label\")\n",
       "\n",
       "                    if (!checkbox)\n",
       "                        break;\n",
       "                    if (checkbox.checked) {\n",
       "                        label.style.textDecoration = \"line-through\";\n",
       "                    }\n",
       "                }\n",
       "            }\n",
       "        }\n",
       "    }\n",
       "    function clear_selection(quiz_id) {\n",
       "        document.getElementById(quiz_id + \"-submit\").value = \"Submit\";\n",
       "        document.getElementById(quiz_id + \"-hint\").innerHTML = \"\";\n",
       "    }\n",
       "    </script>\n",
       "    \n",
       "    <div class=\"quiz\">\n",
       "    <h3 class=\"quiz_title\">Quiz</h3>\n",
       "    <p>\n",
       "    <div class=\"quiz_question\">Is the original <code>expr_tree</code> affected by this change?</div>\n",
       "    </p>\n",
       "    <p>\n",
       "    <div class=\"quiz_options\" title=\"Pick a choice.\">\n",
       "    \n",
       "        <input type=\"radio\" name=\"bc846d76-159f-11ed-bedd-6298cf1a578f\" id=\"bc846d76-159f-11ed-bedd-6298cf1a578f-1\" onclick=\"clear_selection('bc846d76-159f-11ed-bedd-6298cf1a578f')\">\n",
       "        <label id=\"bc846d76-159f-11ed-bedd-6298cf1a578f-1-label\" for=\"bc846d76-159f-11ed-bedd-6298cf1a578f-1\">No, it is unchanged</label><br>\n",
       "    \n",
       "        <input type=\"radio\" name=\"bc846d76-159f-11ed-bedd-6298cf1a578f\" id=\"bc846d76-159f-11ed-bedd-6298cf1a578f-2\" onclick=\"clear_selection('bc846d76-159f-11ed-bedd-6298cf1a578f')\">\n",
       "        <label id=\"bc846d76-159f-11ed-bedd-6298cf1a578f-2-label\" for=\"bc846d76-159f-11ed-bedd-6298cf1a578f-2\">Yes, it has also gained a new child</label><br>\n",
       "    \n",
       "    </div>\n",
       "    </p>\n",
       "    <input id=\"bc846d76-159f-11ed-bedd-6298cf1a578f-submit\" type=\"submit\" value=\"Submit\" onclick=\"check_selection('bc846d76-159f-11ed-bedd-6298cf1a578f', 2, 0, '1 ** (1 - 1)')\">\n",
       "    <span class=\"quiz_hint\" id=\"bc846d76-159f-11ed-bedd-6298cf1a578f-hint\"></span>\n",
       "    </div>\n",
       "    "
      ],
      "text/plain": [
       "<IPython.core.display.HTML object>"
      ]
     },
     "execution_count": 70,
     "metadata": {},
     "output_type": "execute_result"
    }
   ],
   "source": [
    "quiz(\"Is the original `expr_tree` affected by this change?\",\n",
    "     [\n",
    "         \"No, it is unchanged\",\n",
    "         \"Yes, it has also gained a new child\"\n",
    "     ], \"1 ** (1 - 1)\")"
   ]
  },
  {
   "cell_type": "markdown",
   "metadata": {
    "slideshow": {
     "slide_type": "subslide"
    }
   },
   "source": [
    "Although we have changed one of the subtrees, the original `expr_tree` is unaffected:"
   ]
  },
  {
   "cell_type": "code",
   "execution_count": 71,
   "metadata": {
    "execution": {
     "iopub.execute_input": "2022-08-06T15:52:12.519181Z",
     "iopub.status.busy": "2022-08-06T15:52:12.518823Z",
     "iopub.status.idle": "2022-08-06T15:52:12.814289Z",
     "shell.execute_reply": "2022-08-06T15:52:12.814627Z"
    },
    "slideshow": {
     "slide_type": "fragment"
    }
   },
   "outputs": [
    {
     "data": {
      "image/svg+xml": [
       "<?xml version=\"1.0\" encoding=\"UTF-8\" standalone=\"no\"?>\n",
       "<!DOCTYPE svg PUBLIC \"-//W3C//DTD SVG 1.1//EN\"\n",
       " \"http://www.w3.org/Graphics/SVG/1.1/DTD/svg11.dtd\">\n",
       "<!-- Generated by graphviz version 5.0.0 (20220707.1540)\n",
       " -->\n",
       "<!-- Pages: 1 -->\n",
       "<svg width=\"124pt\" height=\"74pt\"\n",
       " viewBox=\"0.00 0.00 123.50 74.00\" xmlns=\"http://www.w3.org/2000/svg\" xmlns:xlink=\"http://www.w3.org/1999/xlink\">\n",
       "<g id=\"graph0\" class=\"graph\" transform=\"scale(1 1) rotate(0) translate(4 70)\">\n",
       "<polygon fill=\"white\" stroke=\"transparent\" points=\"-4,4 -4,-70 119.5,-70 119.5,4 -4,4\"/>\n",
       "<!-- 0 -->\n",
       "<g id=\"node1\" class=\"node\">\n",
       "<title>0</title>\n",
       "<text text-anchor=\"middle\" x=\"54\" y=\"-54.8\" font-family=\"Times,serif\" font-size=\"14.00\">&lt;integer&gt;</text>\n",
       "</g>\n",
       "<!-- 1 -->\n",
       "<g id=\"node2\" class=\"node\">\n",
       "<title>1</title>\n",
       "<text text-anchor=\"middle\" x=\"21\" y=\"-3.8\" font-family=\"Times,serif\" font-size=\"14.00\">&lt;digit&gt;</text>\n",
       "</g>\n",
       "<!-- 0&#45;&gt;1 -->\n",
       "<g id=\"edge1\" class=\"edge\">\n",
       "<title>0&#45;&gt;1</title>\n",
       "<path fill=\"none\" stroke=\"black\" d=\"M49.41,-50.69C44.73,-43.74 37.32,-32.73 31.23,-23.7\"/>\n",
       "<polygon fill=\"black\" stroke=\"black\" points=\"34.04,-21.59 25.55,-15.26 28.23,-25.5 34.04,-21.59\"/>\n",
       "</g>\n",
       "<!-- 2 -->\n",
       "<g id=\"node3\" class=\"node\">\n",
       "<title>2</title>\n",
       "<text text-anchor=\"middle\" x=\"88\" y=\"-3.8\" font-family=\"Times,serif\" font-size=\"14.00\">&lt;integer&gt;</text>\n",
       "</g>\n",
       "<!-- 0&#45;&gt;2 -->\n",
       "<g id=\"edge2\" class=\"edge\">\n",
       "<title>0&#45;&gt;2</title>\n",
       "<path fill=\"none\" stroke=\"black\" d=\"M58.73,-50.69C63.55,-43.74 71.19,-32.73 77.46,-23.7\"/>\n",
       "<polygon fill=\"black\" stroke=\"black\" points=\"80.49,-25.47 83.31,-15.26 74.74,-21.48 80.49,-25.47\"/>\n",
       "</g>\n",
       "</g>\n",
       "</svg>\n"
      ],
      "text/plain": [
       "<graphviz.graphs.Digraph at 0x122580880>"
      ]
     },
     "execution_count": 71,
     "metadata": {},
     "output_type": "execute_result"
    }
   ],
   "source": [
    "display_tree(expr_tree)"
   ]
  },
  {
   "cell_type": "markdown",
   "metadata": {
    "slideshow": {
     "slide_type": "fragment"
    }
   },
   "source": [
    "That is because `expand_node_randomly()` returns a new (expanded) tree and does not change the tree passed as argument."
   ]
  },
  {
   "cell_type": "markdown",
   "metadata": {
    "button": false,
    "new_sheet": false,
    "run_control": {
     "read_only": false
    },
    "slideshow": {
     "slide_type": "slide"
    }
   },
   "source": [
    "## Expanding a Tree\n",
    "\n",
    "Let us now apply our functions for expanding a single node to some node in the tree.  To this end, we first need to _search the tree for unexpanded nodes_.  `possible_expansions()` counts how many unexpanded symbols there are in a tree:"
   ]
  },
  {
   "cell_type": "code",
   "execution_count": 72,
   "metadata": {
    "button": false,
    "execution": {
     "iopub.execute_input": "2022-08-06T15:52:12.817911Z",
     "iopub.status.busy": "2022-08-06T15:52:12.817539Z",
     "iopub.status.idle": "2022-08-06T15:52:12.819036Z",
     "shell.execute_reply": "2022-08-06T15:52:12.819272Z"
    },
    "new_sheet": false,
    "run_control": {
     "read_only": false
    },
    "slideshow": {
     "slide_type": "fragment"
    }
   },
   "outputs": [],
   "source": [
    "class GrammarFuzzer(GrammarFuzzer):\n",
    "    def possible_expansions(self, node: DerivationTree) -> int:\n",
    "        (symbol, children) = node\n",
    "        if children is None:\n",
    "            return 1\n",
    "\n",
    "        return sum(self.possible_expansions(c) for c in children)"
   ]
  },
  {
   "cell_type": "code",
   "execution_count": 73,
   "metadata": {
    "button": false,
    "execution": {
     "iopub.execute_input": "2022-08-06T15:52:12.822005Z",
     "iopub.status.busy": "2022-08-06T15:52:12.821560Z",
     "iopub.status.idle": "2022-08-06T15:52:12.823079Z",
     "shell.execute_reply": "2022-08-06T15:52:12.823436Z"
    },
    "new_sheet": false,
    "run_control": {
     "read_only": false
    },
    "slideshow": {
     "slide_type": "fragment"
    }
   },
   "outputs": [
    {
     "name": "stdout",
     "output_type": "stream",
     "text": [
      "2\n"
     ]
    }
   ],
   "source": [
    "f = GrammarFuzzer(EXPR_GRAMMAR)\n",
    "print(f.possible_expansions(derivation_tree))"
   ]
  },
  {
   "cell_type": "markdown",
   "metadata": {
    "button": false,
    "new_sheet": false,
    "run_control": {
     "read_only": false
    },
    "slideshow": {
     "slide_type": "subslide"
    }
   },
   "source": [
    "The method `any_possible_expansions()` returns True if the tree has any unexpanded nodes."
   ]
  },
  {
   "cell_type": "code",
   "execution_count": 74,
   "metadata": {
    "button": false,
    "execution": {
     "iopub.execute_input": "2022-08-06T15:52:12.826568Z",
     "iopub.status.busy": "2022-08-06T15:52:12.826020Z",
     "iopub.status.idle": "2022-08-06T15:52:12.827501Z",
     "shell.execute_reply": "2022-08-06T15:52:12.827924Z"
    },
    "new_sheet": false,
    "run_control": {
     "read_only": false
    },
    "slideshow": {
     "slide_type": "fragment"
    }
   },
   "outputs": [],
   "source": [
    "class GrammarFuzzer(GrammarFuzzer):\n",
    "    def any_possible_expansions(self, node: DerivationTree) -> bool:\n",
    "        (symbol, children) = node\n",
    "        if children is None:\n",
    "            return True\n",
    "\n",
    "        return any(self.any_possible_expansions(c) for c in children)"
   ]
  },
  {
   "cell_type": "code",
   "execution_count": 75,
   "metadata": {
    "button": false,
    "execution": {
     "iopub.execute_input": "2022-08-06T15:52:12.830630Z",
     "iopub.status.busy": "2022-08-06T15:52:12.830183Z",
     "iopub.status.idle": "2022-08-06T15:52:12.831966Z",
     "shell.execute_reply": "2022-08-06T15:52:12.832372Z"
    },
    "new_sheet": false,
    "run_control": {
     "read_only": false
    },
    "slideshow": {
     "slide_type": "fragment"
    }
   },
   "outputs": [
    {
     "data": {
      "text/plain": [
       "True"
      ]
     },
     "execution_count": 75,
     "metadata": {},
     "output_type": "execute_result"
    }
   ],
   "source": [
    "f = GrammarFuzzer(EXPR_GRAMMAR)\n",
    "f.any_possible_expansions(derivation_tree)"
   ]
  },
  {
   "cell_type": "markdown",
   "metadata": {
    "button": false,
    "new_sheet": false,
    "run_control": {
     "read_only": false
    },
    "slideshow": {
     "slide_type": "subslide"
    }
   },
   "source": [
    "Here comes `expand_tree_once()`, the core method of our tree expansion algorithm.  It first checks whether it is currently being applied on a nonterminal symbol without expansion; if so, it invokes `expand_node()` on it, as discussed above.  "
   ]
  },
  {
   "cell_type": "markdown",
   "metadata": {
    "button": false,
    "new_sheet": false,
    "run_control": {
     "read_only": false
    },
    "slideshow": {
     "slide_type": "subslide"
    }
   },
   "source": [
    "If the node is already expanded (i.e. has children), it checks the subset of children which still have unexpanded symbols, randomly selects one of them, and applies itself recursively on that child."
   ]
  },
  {
   "cell_type": "markdown",
   "metadata": {
    "slideshow": {
     "slide_type": "subslide"
    }
   },
   "source": [
    "#### Excursion: `expand_tree_once()` implementation"
   ]
  },
  {
   "cell_type": "markdown",
   "metadata": {
    "button": false,
    "new_sheet": false,
    "run_control": {
     "read_only": false
    },
    "slideshow": {
     "slide_type": "subslide"
    }
   },
   "source": [
    "The `expand_tree_once()` method replaces the child _in place_, meaning that it actually mutates the tree being passed as an argument rather than returning a new tree.  This in-place mutation is what makes this function particularly efficient.  Again, we use a helper method (`choose_tree_expansion()`) to return the chosen index from a list of children that can be expanded."
   ]
  },
  {
   "cell_type": "code",
   "execution_count": 76,
   "metadata": {
    "button": false,
    "execution": {
     "iopub.execute_input": "2022-08-06T15:52:12.836858Z",
     "iopub.status.busy": "2022-08-06T15:52:12.836201Z",
     "iopub.status.idle": "2022-08-06T15:52:12.837628Z",
     "shell.execute_reply": "2022-08-06T15:52:12.838219Z"
    },
    "new_sheet": false,
    "run_control": {
     "read_only": false
    },
    "slideshow": {
     "slide_type": "subslide"
    }
   },
   "outputs": [],
   "source": [
    "class GrammarFuzzer(GrammarFuzzer):\n",
    "    def choose_tree_expansion(self,\n",
    "                              tree: DerivationTree,\n",
    "                              children: List[DerivationTree]) -> int:\n",
    "        \"\"\"Return index of subtree in `children` to be selected for expansion.\n",
    "           Defaults to random.\"\"\"\n",
    "        return random.randrange(0, len(children))\n",
    "\n",
    "    def expand_tree_once(self, tree: DerivationTree) -> DerivationTree:\n",
    "        \"\"\"Choose an unexpanded symbol in tree; expand it.\n",
    "           Can be overloaded in subclasses.\"\"\"\n",
    "        (symbol, children) = tree\n",
    "        if children is None:\n",
    "            # Expand this node\n",
    "            return self.expand_node(tree)\n",
    "\n",
    "        # Find all children with possible expansions\n",
    "        expandable_children = [\n",
    "            c for c in children if self.any_possible_expansions(c)]\n",
    "\n",
    "        # `index_map` translates an index in `expandable_children`\n",
    "        # back into the original index in `children`\n",
    "        index_map = [i for (i, c) in enumerate(children)\n",
    "                     if c in expandable_children]\n",
    "\n",
    "        # Select a random child\n",
    "        child_to_be_expanded = \\\n",
    "            self.choose_tree_expansion(tree, expandable_children)\n",
    "\n",
    "        # Expand in place\n",
    "        children[index_map[child_to_be_expanded]] = \\\n",
    "            self.expand_tree_once(expandable_children[child_to_be_expanded])\n",
    "\n",
    "        return tree"
   ]
  },
  {
   "cell_type": "markdown",
   "metadata": {
    "slideshow": {
     "slide_type": "subslide"
    }
   },
   "source": [
    "#### End of Excursion"
   ]
  },
  {
   "cell_type": "markdown",
   "metadata": {
    "button": false,
    "new_sheet": false,
    "run_control": {
     "read_only": false
    },
    "slideshow": {
     "slide_type": "subslide"
    }
   },
   "source": [
    "Let us illustrate how `expand_tree_once()` works. We start with our derivation tree from above..."
   ]
  },
  {
   "cell_type": "code",
   "execution_count": 77,
   "metadata": {
    "button": false,
    "execution": {
     "iopub.execute_input": "2022-08-06T15:52:12.845191Z",
     "iopub.status.busy": "2022-08-06T15:52:12.844809Z",
     "iopub.status.idle": "2022-08-06T15:52:13.168537Z",
     "shell.execute_reply": "2022-08-06T15:52:13.168983Z"
    },
    "new_sheet": false,
    "run_control": {
     "read_only": false
    },
    "slideshow": {
     "slide_type": "fragment"
    }
   },
   "outputs": [
    {
     "data": {
      "image/svg+xml": [
       "<?xml version=\"1.0\" encoding=\"UTF-8\" standalone=\"no\"?>\n",
       "<!DOCTYPE svg PUBLIC \"-//W3C//DTD SVG 1.1//EN\"\n",
       " \"http://www.w3.org/Graphics/SVG/1.1/DTD/svg11.dtd\">\n",
       "<!-- Generated by graphviz version 5.0.0 (20220707.1540)\n",
       " -->\n",
       "<!-- Pages: 1 -->\n",
       "<svg width=\"145pt\" height=\"125pt\"\n",
       " viewBox=\"0.00 0.00 145.00 125.00\" xmlns=\"http://www.w3.org/2000/svg\" xmlns:xlink=\"http://www.w3.org/1999/xlink\">\n",
       "<g id=\"graph0\" class=\"graph\" transform=\"scale(1 1) rotate(0) translate(4 121)\">\n",
       "<polygon fill=\"white\" stroke=\"transparent\" points=\"-4,4 -4,-121 141,-121 141,4 -4,4\"/>\n",
       "<!-- 0 -->\n",
       "<g id=\"node1\" class=\"node\">\n",
       "<title>0</title>\n",
       "<text text-anchor=\"middle\" x=\"67.5\" y=\"-105.8\" font-family=\"Times,serif\" font-size=\"14.00\">&lt;start&gt;</text>\n",
       "</g>\n",
       "<!-- 1 -->\n",
       "<g id=\"node2\" class=\"node\">\n",
       "<title>1</title>\n",
       "<text text-anchor=\"middle\" x=\"67.5\" y=\"-54.8\" font-family=\"Times,serif\" font-size=\"14.00\">&lt;expr&gt;</text>\n",
       "</g>\n",
       "<!-- 0&#45;&gt;1 -->\n",
       "<g id=\"edge1\" class=\"edge\">\n",
       "<title>0&#45;&gt;1</title>\n",
       "<path fill=\"none\" stroke=\"black\" d=\"M67.5,-101.69C67.5,-95.18 67.5,-85.1 67.5,-76.43\"/>\n",
       "<polygon fill=\"black\" stroke=\"black\" points=\"71,-76.26 67.5,-66.26 64,-76.26 71,-76.26\"/>\n",
       "</g>\n",
       "<!-- 2 -->\n",
       "<g id=\"node3\" class=\"node\">\n",
       "<title>2</title>\n",
       "<text text-anchor=\"middle\" x=\"20.5\" y=\"-3.8\" font-family=\"Times,serif\" font-size=\"14.00\">&lt;expr&gt;</text>\n",
       "</g>\n",
       "<!-- 1&#45;&gt;2 -->\n",
       "<g id=\"edge2\" class=\"edge\">\n",
       "<title>1&#45;&gt;2</title>\n",
       "<path fill=\"none\" stroke=\"black\" d=\"M60.96,-50.69C54.02,-43.45 42.84,-31.79 33.99,-22.57\"/>\n",
       "<polygon fill=\"black\" stroke=\"black\" points=\"36.43,-20.05 26.98,-15.26 31.38,-24.9 36.43,-20.05\"/>\n",
       "</g>\n",
       "<!-- 3 -->\n",
       "<g id=\"node4\" class=\"node\">\n",
       "<title>3</title>\n",
       "<text text-anchor=\"middle\" x=\"67.5\" y=\"-3.8\" font-family=\"Times,serif\" font-size=\"14.00\"> + </text>\n",
       "</g>\n",
       "<!-- 1&#45;&gt;3 -->\n",
       "<g id=\"edge3\" class=\"edge\">\n",
       "<title>1&#45;&gt;3</title>\n",
       "<path fill=\"none\" stroke=\"black\" d=\"M67.5,-50.69C67.5,-44.18 67.5,-34.1 67.5,-25.43\"/>\n",
       "<polygon fill=\"black\" stroke=\"black\" points=\"71,-25.26 67.5,-15.26 64,-25.26 71,-25.26\"/>\n",
       "</g>\n",
       "<!-- 4 -->\n",
       "<g id=\"node5\" class=\"node\">\n",
       "<title>4</title>\n",
       "<text text-anchor=\"middle\" x=\"115.5\" y=\"-3.8\" font-family=\"Times,serif\" font-size=\"14.00\">&lt;term&gt;</text>\n",
       "</g>\n",
       "<!-- 1&#45;&gt;4 -->\n",
       "<g id=\"edge4\" class=\"edge\">\n",
       "<title>1&#45;&gt;4</title>\n",
       "<path fill=\"none\" stroke=\"black\" d=\"M74.17,-50.69C81.27,-43.45 92.68,-31.79 101.72,-22.57\"/>\n",
       "<polygon fill=\"black\" stroke=\"black\" points=\"104.38,-24.85 108.88,-15.26 99.38,-19.95 104.38,-24.85\"/>\n",
       "</g>\n",
       "</g>\n",
       "</svg>\n"
      ],
      "text/plain": [
       "<graphviz.graphs.Digraph at 0x12258ddb0>"
      ]
     },
     "execution_count": 77,
     "metadata": {},
     "output_type": "execute_result"
    }
   ],
   "source": [
    "derivation_tree = (\"<start>\",\n",
    "                   [(\"<expr>\",\n",
    "                     [(\"<expr>\", None),\n",
    "                      (\" + \", []),\n",
    "                         (\"<term>\", None)]\n",
    "                     )])\n",
    "display_tree(derivation_tree)"
   ]
  },
  {
   "cell_type": "markdown",
   "metadata": {
    "slideshow": {
     "slide_type": "fragment"
    }
   },
   "source": [
    "... and now expand it twice:"
   ]
  },
  {
   "cell_type": "code",
   "execution_count": 78,
   "metadata": {
    "button": false,
    "execution": {
     "iopub.execute_input": "2022-08-06T15:52:13.173050Z",
     "iopub.status.busy": "2022-08-06T15:52:13.172501Z",
     "iopub.status.idle": "2022-08-06T15:52:13.496792Z",
     "shell.execute_reply": "2022-08-06T15:52:13.497003Z"
    },
    "new_sheet": false,
    "run_control": {
     "read_only": false
    },
    "slideshow": {
     "slide_type": "subslide"
    }
   },
   "outputs": [
    {
     "name": "stdout",
     "output_type": "stream",
     "text": [
      "Expanding <expr> randomly\n"
     ]
    },
    {
     "data": {
      "image/svg+xml": [
       "<?xml version=\"1.0\" encoding=\"UTF-8\" standalone=\"no\"?>\n",
       "<!DOCTYPE svg PUBLIC \"-//W3C//DTD SVG 1.1//EN\"\n",
       " \"http://www.w3.org/Graphics/SVG/1.1/DTD/svg11.dtd\">\n",
       "<!-- Generated by graphviz version 5.0.0 (20220707.1540)\n",
       " -->\n",
       "<!-- Pages: 1 -->\n",
       "<svg width=\"192pt\" height=\"176pt\"\n",
       " viewBox=\"0.00 0.00 192.00 176.00\" xmlns=\"http://www.w3.org/2000/svg\" xmlns:xlink=\"http://www.w3.org/1999/xlink\">\n",
       "<g id=\"graph0\" class=\"graph\" transform=\"scale(1 1) rotate(0) translate(4 172)\">\n",
       "<polygon fill=\"white\" stroke=\"transparent\" points=\"-4,4 -4,-172 188,-172 188,4 -4,4\"/>\n",
       "<!-- 0 -->\n",
       "<g id=\"node1\" class=\"node\">\n",
       "<title>0</title>\n",
       "<text text-anchor=\"middle\" x=\"114.5\" y=\"-156.8\" font-family=\"Times,serif\" font-size=\"14.00\">&lt;start&gt;</text>\n",
       "</g>\n",
       "<!-- 1 -->\n",
       "<g id=\"node2\" class=\"node\">\n",
       "<title>1</title>\n",
       "<text text-anchor=\"middle\" x=\"114.5\" y=\"-105.8\" font-family=\"Times,serif\" font-size=\"14.00\">&lt;expr&gt;</text>\n",
       "</g>\n",
       "<!-- 0&#45;&gt;1 -->\n",
       "<g id=\"edge1\" class=\"edge\">\n",
       "<title>0&#45;&gt;1</title>\n",
       "<path fill=\"none\" stroke=\"black\" d=\"M114.5,-152.69C114.5,-146.18 114.5,-136.1 114.5,-127.43\"/>\n",
       "<polygon fill=\"black\" stroke=\"black\" points=\"118,-127.26 114.5,-117.26 111,-127.26 118,-127.26\"/>\n",
       "</g>\n",
       "<!-- 2 -->\n",
       "<g id=\"node3\" class=\"node\">\n",
       "<title>2</title>\n",
       "<text text-anchor=\"middle\" x=\"67.5\" y=\"-54.8\" font-family=\"Times,serif\" font-size=\"14.00\">&lt;expr&gt;</text>\n",
       "</g>\n",
       "<!-- 1&#45;&gt;2 -->\n",
       "<g id=\"edge2\" class=\"edge\">\n",
       "<title>1&#45;&gt;2</title>\n",
       "<path fill=\"none\" stroke=\"black\" d=\"M107.96,-101.69C101.02,-94.45 89.84,-82.79 80.99,-73.57\"/>\n",
       "<polygon fill=\"black\" stroke=\"black\" points=\"83.43,-71.05 73.98,-66.26 78.38,-75.9 83.43,-71.05\"/>\n",
       "</g>\n",
       "<!-- 6 -->\n",
       "<g id=\"node7\" class=\"node\">\n",
       "<title>6</title>\n",
       "<text text-anchor=\"middle\" x=\"114.5\" y=\"-54.8\" font-family=\"Times,serif\" font-size=\"14.00\"> + </text>\n",
       "</g>\n",
       "<!-- 1&#45;&gt;6 -->\n",
       "<g id=\"edge6\" class=\"edge\">\n",
       "<title>1&#45;&gt;6</title>\n",
       "<path fill=\"none\" stroke=\"black\" d=\"M114.5,-101.69C114.5,-95.18 114.5,-85.1 114.5,-76.43\"/>\n",
       "<polygon fill=\"black\" stroke=\"black\" points=\"118,-76.26 114.5,-66.26 111,-76.26 118,-76.26\"/>\n",
       "</g>\n",
       "<!-- 7 -->\n",
       "<g id=\"node8\" class=\"node\">\n",
       "<title>7</title>\n",
       "<text text-anchor=\"middle\" x=\"162.5\" y=\"-54.8\" font-family=\"Times,serif\" font-size=\"14.00\">&lt;term&gt;</text>\n",
       "</g>\n",
       "<!-- 1&#45;&gt;7 -->\n",
       "<g id=\"edge7\" class=\"edge\">\n",
       "<title>1&#45;&gt;7</title>\n",
       "<path fill=\"none\" stroke=\"black\" d=\"M121.17,-101.69C128.27,-94.45 139.68,-82.79 148.72,-73.57\"/>\n",
       "<polygon fill=\"black\" stroke=\"black\" points=\"151.38,-75.85 155.88,-66.26 146.38,-70.95 151.38,-75.85\"/>\n",
       "</g>\n",
       "<!-- 3 -->\n",
       "<g id=\"node4\" class=\"node\">\n",
       "<title>3</title>\n",
       "<text text-anchor=\"middle\" x=\"21.5\" y=\"-3.8\" font-family=\"Times,serif\" font-size=\"14.00\">&lt;term&gt;</text>\n",
       "</g>\n",
       "<!-- 2&#45;&gt;3 -->\n",
       "<g id=\"edge3\" class=\"edge\">\n",
       "<title>2&#45;&gt;3</title>\n",
       "<path fill=\"none\" stroke=\"black\" d=\"M61.1,-50.69C54.31,-43.45 43.37,-31.79 34.71,-22.57\"/>\n",
       "<polygon fill=\"black\" stroke=\"black\" points=\"37.24,-20.15 27.84,-15.26 32.13,-24.94 37.24,-20.15\"/>\n",
       "</g>\n",
       "<!-- 4 -->\n",
       "<g id=\"node5\" class=\"node\">\n",
       "<title>4</title>\n",
       "<text text-anchor=\"middle\" x=\"67.5\" y=\"-3.8\" font-family=\"Times,serif\" font-size=\"14.00\"> &#45; </text>\n",
       "</g>\n",
       "<!-- 2&#45;&gt;4 -->\n",
       "<g id=\"edge4\" class=\"edge\">\n",
       "<title>2&#45;&gt;4</title>\n",
       "<path fill=\"none\" stroke=\"black\" d=\"M67.5,-50.69C67.5,-44.18 67.5,-34.1 67.5,-25.43\"/>\n",
       "<polygon fill=\"black\" stroke=\"black\" points=\"71,-25.26 67.5,-15.26 64,-25.26 71,-25.26\"/>\n",
       "</g>\n",
       "<!-- 5 -->\n",
       "<g id=\"node6\" class=\"node\">\n",
       "<title>5</title>\n",
       "<text text-anchor=\"middle\" x=\"112.5\" y=\"-3.8\" font-family=\"Times,serif\" font-size=\"14.00\">&lt;expr&gt;</text>\n",
       "</g>\n",
       "<!-- 2&#45;&gt;5 -->\n",
       "<g id=\"edge5\" class=\"edge\">\n",
       "<title>2&#45;&gt;5</title>\n",
       "<path fill=\"none\" stroke=\"black\" d=\"M73.76,-50.69C80.34,-43.52 90.89,-32.03 99.32,-22.85\"/>\n",
       "<polygon fill=\"black\" stroke=\"black\" points=\"102.11,-24.99 106.3,-15.26 96.95,-20.25 102.11,-24.99\"/>\n",
       "</g>\n",
       "</g>\n",
       "</svg>\n"
      ],
      "text/plain": [
       "<graphviz.graphs.Digraph at 0x12258e6b0>"
      ]
     },
     "execution_count": 78,
     "metadata": {},
     "output_type": "execute_result"
    }
   ],
   "source": [
    "f = GrammarFuzzer(EXPR_GRAMMAR, log=True)\n",
    "derivation_tree = f.expand_tree_once(derivation_tree)\n",
    "display_tree(derivation_tree)"
   ]
  },
  {
   "cell_type": "code",
   "execution_count": 79,
   "metadata": {
    "button": false,
    "execution": {
     "iopub.execute_input": "2022-08-06T15:52:13.501057Z",
     "iopub.status.busy": "2022-08-06T15:52:13.500587Z",
     "iopub.status.idle": "2022-08-06T15:52:13.821818Z",
     "shell.execute_reply": "2022-08-06T15:52:13.822087Z"
    },
    "new_sheet": false,
    "run_control": {
     "read_only": false
    },
    "slideshow": {
     "slide_type": "subslide"
    }
   },
   "outputs": [
    {
     "name": "stdout",
     "output_type": "stream",
     "text": [
      "Expanding <term> randomly\n"
     ]
    },
    {
     "data": {
      "image/svg+xml": [
       "<?xml version=\"1.0\" encoding=\"UTF-8\" standalone=\"no\"?>\n",
       "<!DOCTYPE svg PUBLIC \"-//W3C//DTD SVG 1.1//EN\"\n",
       " \"http://www.w3.org/Graphics/SVG/1.1/DTD/svg11.dtd\">\n",
       "<!-- Generated by graphviz version 5.0.0 (20220707.1540)\n",
       " -->\n",
       "<!-- Pages: 1 -->\n",
       "<svg width=\"302pt\" height=\"176pt\"\n",
       " viewBox=\"0.00 0.00 302.00 176.00\" xmlns=\"http://www.w3.org/2000/svg\" xmlns:xlink=\"http://www.w3.org/1999/xlink\">\n",
       "<g id=\"graph0\" class=\"graph\" transform=\"scale(1 1) rotate(0) translate(4 172)\">\n",
       "<polygon fill=\"white\" stroke=\"transparent\" points=\"-4,4 -4,-172 298,-172 298,4 -4,4\"/>\n",
       "<!-- 0 -->\n",
       "<g id=\"node1\" class=\"node\">\n",
       "<title>0</title>\n",
       "<text text-anchor=\"middle\" x=\"144.5\" y=\"-156.8\" font-family=\"Times,serif\" font-size=\"14.00\">&lt;start&gt;</text>\n",
       "</g>\n",
       "<!-- 1 -->\n",
       "<g id=\"node2\" class=\"node\">\n",
       "<title>1</title>\n",
       "<text text-anchor=\"middle\" x=\"144.5\" y=\"-105.8\" font-family=\"Times,serif\" font-size=\"14.00\">&lt;expr&gt;</text>\n",
       "</g>\n",
       "<!-- 0&#45;&gt;1 -->\n",
       "<g id=\"edge1\" class=\"edge\">\n",
       "<title>0&#45;&gt;1</title>\n",
       "<path fill=\"none\" stroke=\"black\" d=\"M144.5,-152.69C144.5,-146.18 144.5,-136.1 144.5,-127.43\"/>\n",
       "<polygon fill=\"black\" stroke=\"black\" points=\"148,-127.26 144.5,-117.26 141,-127.26 148,-127.26\"/>\n",
       "</g>\n",
       "<!-- 2 -->\n",
       "<g id=\"node3\" class=\"node\">\n",
       "<title>2</title>\n",
       "<text text-anchor=\"middle\" x=\"91.5\" y=\"-54.8\" font-family=\"Times,serif\" font-size=\"14.00\">&lt;expr&gt;</text>\n",
       "</g>\n",
       "<!-- 1&#45;&gt;2 -->\n",
       "<g id=\"edge2\" class=\"edge\">\n",
       "<title>1&#45;&gt;2</title>\n",
       "<path fill=\"none\" stroke=\"black\" d=\"M137.13,-101.69C129.22,-94.37 116.44,-82.56 106.41,-73.29\"/>\n",
       "<polygon fill=\"black\" stroke=\"black\" points=\"108.53,-70.47 98.81,-66.26 103.77,-75.61 108.53,-70.47\"/>\n",
       "</g>\n",
       "<!-- 6 -->\n",
       "<g id=\"node7\" class=\"node\">\n",
       "<title>6</title>\n",
       "<text text-anchor=\"middle\" x=\"144.5\" y=\"-54.8\" font-family=\"Times,serif\" font-size=\"14.00\"> + </text>\n",
       "</g>\n",
       "<!-- 1&#45;&gt;6 -->\n",
       "<g id=\"edge6\" class=\"edge\">\n",
       "<title>1&#45;&gt;6</title>\n",
       "<path fill=\"none\" stroke=\"black\" d=\"M144.5,-101.69C144.5,-95.18 144.5,-85.1 144.5,-76.43\"/>\n",
       "<polygon fill=\"black\" stroke=\"black\" points=\"148,-76.26 144.5,-66.26 141,-76.26 148,-76.26\"/>\n",
       "</g>\n",
       "<!-- 7 -->\n",
       "<g id=\"node8\" class=\"node\">\n",
       "<title>7</title>\n",
       "<text text-anchor=\"middle\" x=\"195.5\" y=\"-54.8\" font-family=\"Times,serif\" font-size=\"14.00\">&lt;term&gt;</text>\n",
       "</g>\n",
       "<!-- 1&#45;&gt;7 -->\n",
       "<g id=\"edge7\" class=\"edge\">\n",
       "<title>1&#45;&gt;7</title>\n",
       "<path fill=\"none\" stroke=\"black\" d=\"M151.59,-101.69C159.2,-94.37 171.5,-82.56 181.15,-73.29\"/>\n",
       "<polygon fill=\"black\" stroke=\"black\" points=\"183.68,-75.71 188.47,-66.26 178.83,-70.66 183.68,-75.71\"/>\n",
       "</g>\n",
       "<!-- 3 -->\n",
       "<g id=\"node4\" class=\"node\">\n",
       "<title>3</title>\n",
       "<text text-anchor=\"middle\" x=\"21.5\" y=\"-3.8\" font-family=\"Times,serif\" font-size=\"14.00\">&lt;term&gt;</text>\n",
       "</g>\n",
       "<!-- 2&#45;&gt;3 -->\n",
       "<g id=\"edge3\" class=\"edge\">\n",
       "<title>2&#45;&gt;3</title>\n",
       "<path fill=\"none\" stroke=\"black\" d=\"M82.06,-50.89C71.14,-43.25 52.94,-30.5 39.33,-20.98\"/>\n",
       "<polygon fill=\"black\" stroke=\"black\" points=\"40.99,-17.87 30.79,-15 36.98,-23.61 40.99,-17.87\"/>\n",
       "</g>\n",
       "<!-- 4 -->\n",
       "<g id=\"node5\" class=\"node\">\n",
       "<title>4</title>\n",
       "<text text-anchor=\"middle\" x=\"67.5\" y=\"-3.8\" font-family=\"Times,serif\" font-size=\"14.00\"> &#45; </text>\n",
       "</g>\n",
       "<!-- 2&#45;&gt;4 -->\n",
       "<g id=\"edge4\" class=\"edge\">\n",
       "<title>2&#45;&gt;4</title>\n",
       "<path fill=\"none\" stroke=\"black\" d=\"M88.16,-50.69C84.83,-43.88 79.59,-33.19 75.22,-24.27\"/>\n",
       "<polygon fill=\"black\" stroke=\"black\" points=\"78.35,-22.7 70.81,-15.26 72.06,-25.78 78.35,-22.7\"/>\n",
       "</g>\n",
       "<!-- 5 -->\n",
       "<g id=\"node6\" class=\"node\">\n",
       "<title>5</title>\n",
       "<text text-anchor=\"middle\" x=\"112.5\" y=\"-3.8\" font-family=\"Times,serif\" font-size=\"14.00\">&lt;expr&gt;</text>\n",
       "</g>\n",
       "<!-- 2&#45;&gt;5 -->\n",
       "<g id=\"edge5\" class=\"edge\">\n",
       "<title>2&#45;&gt;5</title>\n",
       "<path fill=\"none\" stroke=\"black\" d=\"M94.42,-50.69C97.3,-43.96 101.82,-33.42 105.62,-24.56\"/>\n",
       "<polygon fill=\"black\" stroke=\"black\" points=\"108.88,-25.83 109.6,-15.26 102.45,-23.07 108.88,-25.83\"/>\n",
       "</g>\n",
       "<!-- 8 -->\n",
       "<g id=\"node9\" class=\"node\">\n",
       "<title>8</title>\n",
       "<text text-anchor=\"middle\" x=\"175.5\" y=\"-3.8\" font-family=\"Times,serif\" font-size=\"14.00\">&lt;factor&gt;</text>\n",
       "</g>\n",
       "<!-- 7&#45;&gt;8 -->\n",
       "<g id=\"edge8\" class=\"edge\">\n",
       "<title>7&#45;&gt;8</title>\n",
       "<path fill=\"none\" stroke=\"black\" d=\"M192.72,-50.69C189.97,-43.96 185.67,-33.42 182.05,-24.56\"/>\n",
       "<polygon fill=\"black\" stroke=\"black\" points=\"185.28,-23.19 178.26,-15.26 178.8,-25.84 185.28,-23.19\"/>\n",
       "</g>\n",
       "<!-- 9 -->\n",
       "<g id=\"node10\" class=\"node\">\n",
       "<title>9</title>\n",
       "<text text-anchor=\"middle\" x=\"225.5\" y=\"-3.8\" font-family=\"Times,serif\" font-size=\"14.00\"> * </text>\n",
       "</g>\n",
       "<!-- 7&#45;&gt;9 -->\n",
       "<g id=\"edge9\" class=\"edge\">\n",
       "<title>7&#45;&gt;9</title>\n",
       "<path fill=\"none\" stroke=\"black\" d=\"M199.67,-50.69C203.88,-43.81 210.53,-32.96 216.02,-23.98\"/>\n",
       "<polygon fill=\"black\" stroke=\"black\" points=\"219.13,-25.61 221.36,-15.26 213.16,-21.96 219.13,-25.61\"/>\n",
       "</g>\n",
       "<!-- 10 -->\n",
       "<g id=\"node11\" class=\"node\">\n",
       "<title>10</title>\n",
       "<text text-anchor=\"middle\" x=\"272.5\" y=\"-3.8\" font-family=\"Times,serif\" font-size=\"14.00\">&lt;term&gt;</text>\n",
       "</g>\n",
       "<!-- 7&#45;&gt;10 -->\n",
       "<g id=\"edge10\" class=\"edge\">\n",
       "<title>7&#45;&gt;10</title>\n",
       "<path fill=\"none\" stroke=\"black\" d=\"M205.88,-50.89C218.12,-43.1 238.69,-30.01 253.75,-20.43\"/>\n",
       "<polygon fill=\"black\" stroke=\"black\" points=\"255.72,-23.33 262.28,-15 251.96,-17.42 255.72,-23.33\"/>\n",
       "</g>\n",
       "</g>\n",
       "</svg>\n"
      ],
      "text/plain": [
       "<graphviz.graphs.Digraph at 0x12258e110>"
      ]
     },
     "execution_count": 79,
     "metadata": {},
     "output_type": "execute_result"
    }
   ],
   "source": [
    "derivation_tree = f.expand_tree_once(derivation_tree)\n",
    "display_tree(derivation_tree)"
   ]
  },
  {
   "cell_type": "markdown",
   "metadata": {
    "button": false,
    "new_sheet": false,
    "run_control": {
     "read_only": false
    },
    "slideshow": {
     "slide_type": "fragment"
    }
   },
   "source": [
    "We see that with each step, one more symbol is expanded.  Now all it takes is to apply this again and again, expanding the tree further and further."
   ]
  },
  {
   "cell_type": "markdown",
   "metadata": {
    "button": false,
    "new_sheet": false,
    "run_control": {
     "read_only": false
    },
    "slideshow": {
     "slide_type": "slide"
    }
   },
   "source": [
    "## Closing the Expansion\n",
    "\n",
    "With `expand_tree_once()`, we can keep on expanding the tree – but how do we actually stop?  The key idea here, introduced by Luke in \\cite{Luke2000}, is that after inflating the derivation tree to some maximum size, we _only want to apply expansions that increase the size of the tree by a minimum_.  For `<factor>`, for instance, we would prefer an expansion into `<integer>`, as this will not introduce further recursion (and potential size inflation); for `<integer>`, likewise, an expansion into `<digit>` is preferred, as it will less increase tree size than `<digit><integer>`."
   ]
  },
  {
   "cell_type": "markdown",
   "metadata": {
    "button": false,
    "new_sheet": false,
    "run_control": {
     "read_only": false
    },
    "slideshow": {
     "slide_type": "subslide"
    }
   },
   "source": [
    "To identify the _cost_ of expanding a symbol, we introduce two functions that mutually rely on each other:\n",
    "\n",
    "* `symbol_cost()` returns the minimum cost of all expansions of a symbol, using `expansion_cost()` to compute the cost for each expansion.\n",
    "* `expansion_cost()` returns the sum of all expansions in `expansions`.  If a nonterminal is encountered again during traversal, the cost of the expansion is $\\infty$, indicating (potentially infinite) recursion."
   ]
  },
  {
   "cell_type": "markdown",
   "metadata": {
    "slideshow": {
     "slide_type": "subslide"
    }
   },
   "source": [
    "### Excursion: Implementing Cost Functions"
   ]
  },
  {
   "cell_type": "code",
   "execution_count": 80,
   "metadata": {
    "button": false,
    "execution": {
     "iopub.execute_input": "2022-08-06T15:52:13.826922Z",
     "iopub.status.busy": "2022-08-06T15:52:13.826514Z",
     "iopub.status.idle": "2022-08-06T15:52:13.827844Z",
     "shell.execute_reply": "2022-08-06T15:52:13.828148Z"
    },
    "new_sheet": false,
    "run_control": {
     "read_only": false
    },
    "slideshow": {
     "slide_type": "fragment"
    }
   },
   "outputs": [],
   "source": [
    "class GrammarFuzzer(GrammarFuzzer):\n",
    "    def symbol_cost(self, symbol: str, seen: Set[str] = set()) \\\n",
    "            -> Union[int, float]:\n",
    "        expansions = self.grammar[symbol]\n",
    "        return min(self.expansion_cost(e, seen | {symbol}) for e in expansions)\n",
    "\n",
    "    def expansion_cost(self, expansion: Expansion,\n",
    "                       seen: Set[str] = set()) -> Union[int, float]:\n",
    "        symbols = nonterminals(expansion)\n",
    "        if len(symbols) == 0:\n",
    "            return 1  # no symbol\n",
    "\n",
    "        if any(s in seen for s in symbols):\n",
    "            return float('inf')\n",
    "\n",
    "        # the value of a expansion is the sum of all expandable variables\n",
    "        # inside + 1\n",
    "        return sum(self.symbol_cost(s, seen) for s in symbols) + 1"
   ]
  },
  {
   "cell_type": "markdown",
   "metadata": {
    "slideshow": {
     "slide_type": "subslide"
    }
   },
   "source": [
    "### End of Excursion"
   ]
  },
  {
   "cell_type": "markdown",
   "metadata": {
    "button": false,
    "new_sheet": false,
    "run_control": {
     "read_only": false
    },
    "slideshow": {
     "slide_type": "subslide"
    }
   },
   "source": [
    "Here's two examples: The minimum cost of expanding a digit is 1, since we have to choose from one of its expansions."
   ]
  },
  {
   "cell_type": "code",
   "execution_count": 81,
   "metadata": {
    "button": false,
    "execution": {
     "iopub.execute_input": "2022-08-06T15:52:13.830947Z",
     "iopub.status.busy": "2022-08-06T15:52:13.830503Z",
     "iopub.status.idle": "2022-08-06T15:52:13.832307Z",
     "shell.execute_reply": "2022-08-06T15:52:13.832610Z"
    },
    "new_sheet": false,
    "run_control": {
     "read_only": false
    },
    "slideshow": {
     "slide_type": "fragment"
    }
   },
   "outputs": [],
   "source": [
    "f = GrammarFuzzer(EXPR_GRAMMAR)\n",
    "assert f.symbol_cost(\"<digit>\") == 1"
   ]
  },
  {
   "cell_type": "markdown",
   "metadata": {
    "button": false,
    "new_sheet": false,
    "run_control": {
     "read_only": false
    },
    "slideshow": {
     "slide_type": "fragment"
    }
   },
   "source": [
    "The minimum cost of expanding `<expr>`, though, is five, as this is the minimum number of expansions required.  (`<expr>` $\\rightarrow$ `<term>` $\\rightarrow$ `<factor>` $\\rightarrow$ `<integer>` $\\rightarrow$ `<digit>` $\\rightarrow$ 1)"
   ]
  },
  {
   "cell_type": "code",
   "execution_count": 82,
   "metadata": {
    "button": false,
    "execution": {
     "iopub.execute_input": "2022-08-06T15:52:13.835008Z",
     "iopub.status.busy": "2022-08-06T15:52:13.834609Z",
     "iopub.status.idle": "2022-08-06T15:52:13.835616Z",
     "shell.execute_reply": "2022-08-06T15:52:13.835959Z"
    },
    "new_sheet": false,
    "run_control": {
     "read_only": false
    },
    "slideshow": {
     "slide_type": "fragment"
    }
   },
   "outputs": [],
   "source": [
    "assert f.symbol_cost(\"<expr>\") == 5"
   ]
  },
  {
   "cell_type": "markdown",
   "metadata": {
    "button": false,
    "new_sheet": false,
    "run_control": {
     "read_only": false
    },
    "slideshow": {
     "slide_type": "subslide"
    }
   },
   "source": [
    "We define `expand_node_by_cost(self, node, choose)`, a variant of `expand_node()` that takes the above cost into account.  It determines the minimum cost `cost` across all children and then chooses a child from the list using the `choose` function, which by default is the minimum cost.  If multiple children all have the same minimum cost, it chooses randomly between these."
   ]
  },
  {
   "cell_type": "markdown",
   "metadata": {
    "slideshow": {
     "slide_type": "subslide"
    }
   },
   "source": [
    "#### Excursion: `expand_node_by_cost()` implementation"
   ]
  },
  {
   "cell_type": "code",
   "execution_count": 83,
   "metadata": {
    "button": false,
    "execution": {
     "iopub.execute_input": "2022-08-06T15:52:13.839737Z",
     "iopub.status.busy": "2022-08-06T15:52:13.837315Z",
     "iopub.status.idle": "2022-08-06T15:52:13.840877Z",
     "shell.execute_reply": "2022-08-06T15:52:13.841066Z"
    },
    "new_sheet": false,
    "run_control": {
     "read_only": false
    },
    "slideshow": {
     "slide_type": "subslide"
    }
   },
   "outputs": [],
   "source": [
    "class GrammarFuzzer(GrammarFuzzer):\n",
    "    def expand_node_by_cost(self, node: DerivationTree, \n",
    "                            choose: Callable = min) -> DerivationTree:\n",
    "        (symbol, children) = node\n",
    "        assert children is None\n",
    "\n",
    "        # Fetch the possible expansions from grammar...\n",
    "        expansions = self.grammar[symbol]\n",
    "\n",
    "        children_alternatives_with_cost = [(self.expansion_to_children(expansion),\n",
    "                                            self.expansion_cost(expansion, {symbol}),\n",
    "                                            expansion)\n",
    "                                           for expansion in expansions]\n",
    "\n",
    "        costs = [cost for (child, cost, expansion)\n",
    "                 in children_alternatives_with_cost]\n",
    "        chosen_cost = choose(costs)\n",
    "        children_with_chosen_cost = [child for (child, child_cost, _) \n",
    "                                     in children_alternatives_with_cost\n",
    "                                     if child_cost == chosen_cost]\n",
    "        expansion_with_chosen_cost = [expansion for (_, child_cost, expansion)\n",
    "                                      in children_alternatives_with_cost\n",
    "                                      if child_cost == chosen_cost]\n",
    "\n",
    "        index = self.choose_node_expansion(node, children_with_chosen_cost)\n",
    "\n",
    "        chosen_children = children_with_chosen_cost[index]\n",
    "        chosen_expansion = expansion_with_chosen_cost[index]\n",
    "        chosen_children = self.process_chosen_children(\n",
    "            chosen_children, chosen_expansion)\n",
    "\n",
    "        # Return with a new list\n",
    "        return (symbol, chosen_children)"
   ]
  },
  {
   "cell_type": "markdown",
   "metadata": {
    "slideshow": {
     "slide_type": "subslide"
    }
   },
   "source": [
    "#### End of Excursion"
   ]
  },
  {
   "cell_type": "markdown",
   "metadata": {
    "slideshow": {
     "slide_type": "subslide"
    }
   },
   "source": [
    "The shortcut `expand_node_min_cost()` passes `min()` as the `choose` function, which makes it expand nodes at minimum cost."
   ]
  },
  {
   "cell_type": "code",
   "execution_count": 84,
   "metadata": {
    "button": false,
    "execution": {
     "iopub.execute_input": "2022-08-06T15:52:13.843531Z",
     "iopub.status.busy": "2022-08-06T15:52:13.843188Z",
     "iopub.status.idle": "2022-08-06T15:52:13.844481Z",
     "shell.execute_reply": "2022-08-06T15:52:13.844758Z"
    },
    "new_sheet": false,
    "run_control": {
     "read_only": false
    },
    "slideshow": {
     "slide_type": "fragment"
    }
   },
   "outputs": [],
   "source": [
    "class GrammarFuzzer(GrammarFuzzer):\n",
    "    def expand_node_min_cost(self, node: DerivationTree) -> DerivationTree:\n",
    "        if self.log:\n",
    "            print(\"Expanding\", all_terminals(node), \"at minimum cost\")\n",
    "\n",
    "        return self.expand_node_by_cost(node, min)"
   ]
  },
  {
   "cell_type": "markdown",
   "metadata": {
    "button": false,
    "new_sheet": false,
    "run_control": {
     "read_only": false
    },
    "slideshow": {
     "slide_type": "subslide"
    }
   },
   "source": [
    "We can now apply this function to close the expansion of our derivation tree, using `expand_tree_once()` with the above `expand_node_min_cost()` as expansion function."
   ]
  },
  {
   "cell_type": "code",
   "execution_count": 85,
   "metadata": {
    "button": false,
    "execution": {
     "iopub.execute_input": "2022-08-06T15:52:13.846966Z",
     "iopub.status.busy": "2022-08-06T15:52:13.846636Z",
     "iopub.status.idle": "2022-08-06T15:52:13.848134Z",
     "shell.execute_reply": "2022-08-06T15:52:13.848503Z"
    },
    "new_sheet": false,
    "run_control": {
     "read_only": false
    },
    "slideshow": {
     "slide_type": "fragment"
    }
   },
   "outputs": [],
   "source": [
    "class GrammarFuzzer(GrammarFuzzer):\n",
    "    def expand_node(self, node: DerivationTree) -> DerivationTree:\n",
    "        return self.expand_node_min_cost(node)"
   ]
  },
  {
   "cell_type": "code",
   "execution_count": 86,
   "metadata": {
    "button": false,
    "execution": {
     "iopub.execute_input": "2022-08-06T15:52:13.852949Z",
     "iopub.status.busy": "2022-08-06T15:52:13.850869Z",
     "iopub.status.idle": "2022-08-06T15:52:14.178269Z",
     "shell.execute_reply": "2022-08-06T15:52:14.178527Z"
    },
    "new_sheet": false,
    "run_control": {
     "read_only": false
    },
    "slideshow": {
     "slide_type": "subslide"
    }
   },
   "outputs": [
    {
     "data": {
      "image/svg+xml": [
       "<?xml version=\"1.0\" encoding=\"UTF-8\" standalone=\"no\"?>\n",
       "<!DOCTYPE svg PUBLIC \"-//W3C//DTD SVG 1.1//EN\"\n",
       " \"http://www.w3.org/Graphics/SVG/1.1/DTD/svg11.dtd\">\n",
       "<!-- Generated by graphviz version 5.0.0 (20220707.1540)\n",
       " -->\n",
       "<!-- Pages: 1 -->\n",
       "<svg width=\"302pt\" height=\"176pt\"\n",
       " viewBox=\"0.00 0.00 302.00 176.00\" xmlns=\"http://www.w3.org/2000/svg\" xmlns:xlink=\"http://www.w3.org/1999/xlink\">\n",
       "<g id=\"graph0\" class=\"graph\" transform=\"scale(1 1) rotate(0) translate(4 172)\">\n",
       "<polygon fill=\"white\" stroke=\"transparent\" points=\"-4,4 -4,-172 298,-172 298,4 -4,4\"/>\n",
       "<!-- 0 -->\n",
       "<g id=\"node1\" class=\"node\">\n",
       "<title>0</title>\n",
       "<text text-anchor=\"middle\" x=\"144.5\" y=\"-156.8\" font-family=\"Times,serif\" font-size=\"14.00\">&lt;start&gt;</text>\n",
       "</g>\n",
       "<!-- 1 -->\n",
       "<g id=\"node2\" class=\"node\">\n",
       "<title>1</title>\n",
       "<text text-anchor=\"middle\" x=\"144.5\" y=\"-105.8\" font-family=\"Times,serif\" font-size=\"14.00\">&lt;expr&gt;</text>\n",
       "</g>\n",
       "<!-- 0&#45;&gt;1 -->\n",
       "<g id=\"edge1\" class=\"edge\">\n",
       "<title>0&#45;&gt;1</title>\n",
       "<path fill=\"none\" stroke=\"black\" d=\"M144.5,-152.69C144.5,-146.18 144.5,-136.1 144.5,-127.43\"/>\n",
       "<polygon fill=\"black\" stroke=\"black\" points=\"148,-127.26 144.5,-117.26 141,-127.26 148,-127.26\"/>\n",
       "</g>\n",
       "<!-- 2 -->\n",
       "<g id=\"node3\" class=\"node\">\n",
       "<title>2</title>\n",
       "<text text-anchor=\"middle\" x=\"91.5\" y=\"-54.8\" font-family=\"Times,serif\" font-size=\"14.00\">&lt;expr&gt;</text>\n",
       "</g>\n",
       "<!-- 1&#45;&gt;2 -->\n",
       "<g id=\"edge2\" class=\"edge\">\n",
       "<title>1&#45;&gt;2</title>\n",
       "<path fill=\"none\" stroke=\"black\" d=\"M137.13,-101.69C129.22,-94.37 116.44,-82.56 106.41,-73.29\"/>\n",
       "<polygon fill=\"black\" stroke=\"black\" points=\"108.53,-70.47 98.81,-66.26 103.77,-75.61 108.53,-70.47\"/>\n",
       "</g>\n",
       "<!-- 6 -->\n",
       "<g id=\"node7\" class=\"node\">\n",
       "<title>6</title>\n",
       "<text text-anchor=\"middle\" x=\"144.5\" y=\"-54.8\" font-family=\"Times,serif\" font-size=\"14.00\"> + </text>\n",
       "</g>\n",
       "<!-- 1&#45;&gt;6 -->\n",
       "<g id=\"edge6\" class=\"edge\">\n",
       "<title>1&#45;&gt;6</title>\n",
       "<path fill=\"none\" stroke=\"black\" d=\"M144.5,-101.69C144.5,-95.18 144.5,-85.1 144.5,-76.43\"/>\n",
       "<polygon fill=\"black\" stroke=\"black\" points=\"148,-76.26 144.5,-66.26 141,-76.26 148,-76.26\"/>\n",
       "</g>\n",
       "<!-- 7 -->\n",
       "<g id=\"node8\" class=\"node\">\n",
       "<title>7</title>\n",
       "<text text-anchor=\"middle\" x=\"195.5\" y=\"-54.8\" font-family=\"Times,serif\" font-size=\"14.00\">&lt;term&gt;</text>\n",
       "</g>\n",
       "<!-- 1&#45;&gt;7 -->\n",
       "<g id=\"edge7\" class=\"edge\">\n",
       "<title>1&#45;&gt;7</title>\n",
       "<path fill=\"none\" stroke=\"black\" d=\"M151.59,-101.69C159.2,-94.37 171.5,-82.56 181.15,-73.29\"/>\n",
       "<polygon fill=\"black\" stroke=\"black\" points=\"183.68,-75.71 188.47,-66.26 178.83,-70.66 183.68,-75.71\"/>\n",
       "</g>\n",
       "<!-- 3 -->\n",
       "<g id=\"node4\" class=\"node\">\n",
       "<title>3</title>\n",
       "<text text-anchor=\"middle\" x=\"21.5\" y=\"-3.8\" font-family=\"Times,serif\" font-size=\"14.00\">&lt;term&gt;</text>\n",
       "</g>\n",
       "<!-- 2&#45;&gt;3 -->\n",
       "<g id=\"edge3\" class=\"edge\">\n",
       "<title>2&#45;&gt;3</title>\n",
       "<path fill=\"none\" stroke=\"black\" d=\"M82.06,-50.89C71.14,-43.25 52.94,-30.5 39.33,-20.98\"/>\n",
       "<polygon fill=\"black\" stroke=\"black\" points=\"40.99,-17.87 30.79,-15 36.98,-23.61 40.99,-17.87\"/>\n",
       "</g>\n",
       "<!-- 4 -->\n",
       "<g id=\"node5\" class=\"node\">\n",
       "<title>4</title>\n",
       "<text text-anchor=\"middle\" x=\"67.5\" y=\"-3.8\" font-family=\"Times,serif\" font-size=\"14.00\"> &#45; </text>\n",
       "</g>\n",
       "<!-- 2&#45;&gt;4 -->\n",
       "<g id=\"edge4\" class=\"edge\">\n",
       "<title>2&#45;&gt;4</title>\n",
       "<path fill=\"none\" stroke=\"black\" d=\"M88.16,-50.69C84.83,-43.88 79.59,-33.19 75.22,-24.27\"/>\n",
       "<polygon fill=\"black\" stroke=\"black\" points=\"78.35,-22.7 70.81,-15.26 72.06,-25.78 78.35,-22.7\"/>\n",
       "</g>\n",
       "<!-- 5 -->\n",
       "<g id=\"node6\" class=\"node\">\n",
       "<title>5</title>\n",
       "<text text-anchor=\"middle\" x=\"112.5\" y=\"-3.8\" font-family=\"Times,serif\" font-size=\"14.00\">&lt;expr&gt;</text>\n",
       "</g>\n",
       "<!-- 2&#45;&gt;5 -->\n",
       "<g id=\"edge5\" class=\"edge\">\n",
       "<title>2&#45;&gt;5</title>\n",
       "<path fill=\"none\" stroke=\"black\" d=\"M94.42,-50.69C97.3,-43.96 101.82,-33.42 105.62,-24.56\"/>\n",
       "<polygon fill=\"black\" stroke=\"black\" points=\"108.88,-25.83 109.6,-15.26 102.45,-23.07 108.88,-25.83\"/>\n",
       "</g>\n",
       "<!-- 8 -->\n",
       "<g id=\"node9\" class=\"node\">\n",
       "<title>8</title>\n",
       "<text text-anchor=\"middle\" x=\"175.5\" y=\"-3.8\" font-family=\"Times,serif\" font-size=\"14.00\">&lt;factor&gt;</text>\n",
       "</g>\n",
       "<!-- 7&#45;&gt;8 -->\n",
       "<g id=\"edge8\" class=\"edge\">\n",
       "<title>7&#45;&gt;8</title>\n",
       "<path fill=\"none\" stroke=\"black\" d=\"M192.72,-50.69C189.97,-43.96 185.67,-33.42 182.05,-24.56\"/>\n",
       "<polygon fill=\"black\" stroke=\"black\" points=\"185.28,-23.19 178.26,-15.26 178.8,-25.84 185.28,-23.19\"/>\n",
       "</g>\n",
       "<!-- 9 -->\n",
       "<g id=\"node10\" class=\"node\">\n",
       "<title>9</title>\n",
       "<text text-anchor=\"middle\" x=\"225.5\" y=\"-3.8\" font-family=\"Times,serif\" font-size=\"14.00\"> * </text>\n",
       "</g>\n",
       "<!-- 7&#45;&gt;9 -->\n",
       "<g id=\"edge9\" class=\"edge\">\n",
       "<title>7&#45;&gt;9</title>\n",
       "<path fill=\"none\" stroke=\"black\" d=\"M199.67,-50.69C203.88,-43.81 210.53,-32.96 216.02,-23.98\"/>\n",
       "<polygon fill=\"black\" stroke=\"black\" points=\"219.13,-25.61 221.36,-15.26 213.16,-21.96 219.13,-25.61\"/>\n",
       "</g>\n",
       "<!-- 10 -->\n",
       "<g id=\"node11\" class=\"node\">\n",
       "<title>10</title>\n",
       "<text text-anchor=\"middle\" x=\"272.5\" y=\"-3.8\" font-family=\"Times,serif\" font-size=\"14.00\">&lt;term&gt;</text>\n",
       "</g>\n",
       "<!-- 7&#45;&gt;10 -->\n",
       "<g id=\"edge10\" class=\"edge\">\n",
       "<title>7&#45;&gt;10</title>\n",
       "<path fill=\"none\" stroke=\"black\" d=\"M205.88,-50.89C218.12,-43.1 238.69,-30.01 253.75,-20.43\"/>\n",
       "<polygon fill=\"black\" stroke=\"black\" points=\"255.72,-23.33 262.28,-15 251.96,-17.42 255.72,-23.33\"/>\n",
       "</g>\n",
       "</g>\n",
       "</svg>\n"
      ],
      "text/plain": [
       "<graphviz.graphs.Digraph at 0x12258cdc0>"
      ]
     },
     "execution_count": 86,
     "metadata": {},
     "output_type": "execute_result"
    }
   ],
   "source": [
    "f = GrammarFuzzer(EXPR_GRAMMAR, log=True)\n",
    "display_tree(derivation_tree)"
   ]
  },
  {
   "cell_type": "code",
   "execution_count": 87,
   "metadata": {
    "execution": {
     "iopub.execute_input": "2022-08-06T15:52:14.181533Z",
     "iopub.status.busy": "2022-08-06T15:52:14.181027Z",
     "iopub.status.idle": "2022-08-06T15:52:14.182507Z",
     "shell.execute_reply": "2022-08-06T15:52:14.183085Z"
    },
    "slideshow": {
     "slide_type": "fragment"
    }
   },
   "outputs": [],
   "source": [
    "# docassert\n",
    "assert f.any_possible_expansions(derivation_tree)"
   ]
  },
  {
   "cell_type": "code",
   "execution_count": 88,
   "metadata": {
    "button": false,
    "execution": {
     "iopub.execute_input": "2022-08-06T15:52:14.188837Z",
     "iopub.status.busy": "2022-08-06T15:52:14.188371Z",
     "iopub.status.idle": "2022-08-06T15:52:14.485367Z",
     "shell.execute_reply": "2022-08-06T15:52:14.485633Z"
    },
    "new_sheet": false,
    "run_control": {
     "read_only": false
    },
    "slideshow": {
     "slide_type": "subslide"
    }
   },
   "outputs": [
    {
     "name": "stdout",
     "output_type": "stream",
     "text": [
      "Expanding <term> at minimum cost\n"
     ]
    },
    {
     "data": {
      "image/svg+xml": [
       "<?xml version=\"1.0\" encoding=\"UTF-8\" standalone=\"no\"?>\n",
       "<!DOCTYPE svg PUBLIC \"-//W3C//DTD SVG 1.1//EN\"\n",
       " \"http://www.w3.org/Graphics/SVG/1.1/DTD/svg11.dtd\">\n",
       "<!-- Generated by graphviz version 5.0.0 (20220707.1540)\n",
       " -->\n",
       "<!-- Pages: 1 -->\n",
       "<svg width=\"305pt\" height=\"227pt\"\n",
       " viewBox=\"0.00 0.00 305.00 227.00\" xmlns=\"http://www.w3.org/2000/svg\" xmlns:xlink=\"http://www.w3.org/1999/xlink\">\n",
       "<g id=\"graph0\" class=\"graph\" transform=\"scale(1 1) rotate(0) translate(4 223)\">\n",
       "<polygon fill=\"white\" stroke=\"transparent\" points=\"-4,4 -4,-223 301,-223 301,4 -4,4\"/>\n",
       "<!-- 0 -->\n",
       "<g id=\"node1\" class=\"node\">\n",
       "<title>0</title>\n",
       "<text text-anchor=\"middle\" x=\"147.5\" y=\"-207.8\" font-family=\"Times,serif\" font-size=\"14.00\">&lt;start&gt;</text>\n",
       "</g>\n",
       "<!-- 1 -->\n",
       "<g id=\"node2\" class=\"node\">\n",
       "<title>1</title>\n",
       "<text text-anchor=\"middle\" x=\"147.5\" y=\"-156.8\" font-family=\"Times,serif\" font-size=\"14.00\">&lt;expr&gt;</text>\n",
       "</g>\n",
       "<!-- 0&#45;&gt;1 -->\n",
       "<g id=\"edge1\" class=\"edge\">\n",
       "<title>0&#45;&gt;1</title>\n",
       "<path fill=\"none\" stroke=\"black\" d=\"M147.5,-203.69C147.5,-197.18 147.5,-187.1 147.5,-178.43\"/>\n",
       "<polygon fill=\"black\" stroke=\"black\" points=\"151,-178.26 147.5,-168.26 144,-178.26 151,-178.26\"/>\n",
       "</g>\n",
       "<!-- 2 -->\n",
       "<g id=\"node3\" class=\"node\">\n",
       "<title>2</title>\n",
       "<text text-anchor=\"middle\" x=\"94.5\" y=\"-105.8\" font-family=\"Times,serif\" font-size=\"14.00\">&lt;expr&gt;</text>\n",
       "</g>\n",
       "<!-- 1&#45;&gt;2 -->\n",
       "<g id=\"edge2\" class=\"edge\">\n",
       "<title>1&#45;&gt;2</title>\n",
       "<path fill=\"none\" stroke=\"black\" d=\"M140.13,-152.69C132.22,-145.37 119.44,-133.56 109.41,-124.29\"/>\n",
       "<polygon fill=\"black\" stroke=\"black\" points=\"111.53,-121.47 101.81,-117.26 106.77,-126.61 111.53,-121.47\"/>\n",
       "</g>\n",
       "<!-- 7 -->\n",
       "<g id=\"node8\" class=\"node\">\n",
       "<title>7</title>\n",
       "<text text-anchor=\"middle\" x=\"147.5\" y=\"-105.8\" font-family=\"Times,serif\" font-size=\"14.00\"> + </text>\n",
       "</g>\n",
       "<!-- 1&#45;&gt;7 -->\n",
       "<g id=\"edge7\" class=\"edge\">\n",
       "<title>1&#45;&gt;7</title>\n",
       "<path fill=\"none\" stroke=\"black\" d=\"M147.5,-152.69C147.5,-146.18 147.5,-136.1 147.5,-127.43\"/>\n",
       "<polygon fill=\"black\" stroke=\"black\" points=\"151,-127.26 147.5,-117.26 144,-127.26 151,-127.26\"/>\n",
       "</g>\n",
       "<!-- 8 -->\n",
       "<g id=\"node9\" class=\"node\">\n",
       "<title>8</title>\n",
       "<text text-anchor=\"middle\" x=\"198.5\" y=\"-105.8\" font-family=\"Times,serif\" font-size=\"14.00\">&lt;term&gt;</text>\n",
       "</g>\n",
       "<!-- 1&#45;&gt;8 -->\n",
       "<g id=\"edge8\" class=\"edge\">\n",
       "<title>1&#45;&gt;8</title>\n",
       "<path fill=\"none\" stroke=\"black\" d=\"M154.59,-152.69C162.2,-145.37 174.5,-133.56 184.15,-124.29\"/>\n",
       "<polygon fill=\"black\" stroke=\"black\" points=\"186.68,-126.71 191.47,-117.26 181.83,-121.66 186.68,-126.71\"/>\n",
       "</g>\n",
       "<!-- 3 -->\n",
       "<g id=\"node4\" class=\"node\">\n",
       "<title>3</title>\n",
       "<text text-anchor=\"middle\" x=\"24.5\" y=\"-54.8\" font-family=\"Times,serif\" font-size=\"14.00\">&lt;term&gt;</text>\n",
       "</g>\n",
       "<!-- 2&#45;&gt;3 -->\n",
       "<g id=\"edge3\" class=\"edge\">\n",
       "<title>2&#45;&gt;3</title>\n",
       "<path fill=\"none\" stroke=\"black\" d=\"M85.06,-101.89C74.14,-94.25 55.94,-81.5 42.33,-71.98\"/>\n",
       "<polygon fill=\"black\" stroke=\"black\" points=\"43.99,-68.87 33.79,-66 39.98,-74.61 43.99,-68.87\"/>\n",
       "</g>\n",
       "<!-- 5 -->\n",
       "<g id=\"node6\" class=\"node\">\n",
       "<title>5</title>\n",
       "<text text-anchor=\"middle\" x=\"70.5\" y=\"-54.8\" font-family=\"Times,serif\" font-size=\"14.00\"> &#45; </text>\n",
       "</g>\n",
       "<!-- 2&#45;&gt;5 -->\n",
       "<g id=\"edge5\" class=\"edge\">\n",
       "<title>2&#45;&gt;5</title>\n",
       "<path fill=\"none\" stroke=\"black\" d=\"M91.16,-101.69C87.83,-94.88 82.59,-84.19 78.22,-75.27\"/>\n",
       "<polygon fill=\"black\" stroke=\"black\" points=\"81.35,-73.7 73.81,-66.26 75.06,-76.78 81.35,-73.7\"/>\n",
       "</g>\n",
       "<!-- 6 -->\n",
       "<g id=\"node7\" class=\"node\">\n",
       "<title>6</title>\n",
       "<text text-anchor=\"middle\" x=\"115.5\" y=\"-54.8\" font-family=\"Times,serif\" font-size=\"14.00\">&lt;expr&gt;</text>\n",
       "</g>\n",
       "<!-- 2&#45;&gt;6 -->\n",
       "<g id=\"edge6\" class=\"edge\">\n",
       "<title>2&#45;&gt;6</title>\n",
       "<path fill=\"none\" stroke=\"black\" d=\"M97.42,-101.69C100.3,-94.96 104.82,-84.42 108.62,-75.56\"/>\n",
       "<polygon fill=\"black\" stroke=\"black\" points=\"111.88,-76.83 112.6,-66.26 105.45,-74.07 111.88,-76.83\"/>\n",
       "</g>\n",
       "<!-- 4 -->\n",
       "<g id=\"node5\" class=\"node\">\n",
       "<title>4</title>\n",
       "<text text-anchor=\"middle\" x=\"24.5\" y=\"-3.8\" font-family=\"Times,serif\" font-size=\"14.00\">&lt;factor&gt;</text>\n",
       "</g>\n",
       "<!-- 3&#45;&gt;4 -->\n",
       "<g id=\"edge4\" class=\"edge\">\n",
       "<title>3&#45;&gt;4</title>\n",
       "<path fill=\"none\" stroke=\"black\" d=\"M24.5,-50.69C24.5,-44.18 24.5,-34.1 24.5,-25.43\"/>\n",
       "<polygon fill=\"black\" stroke=\"black\" points=\"28,-25.26 24.5,-15.26 21,-25.26 28,-25.26\"/>\n",
       "</g>\n",
       "<!-- 9 -->\n",
       "<g id=\"node10\" class=\"node\">\n",
       "<title>9</title>\n",
       "<text text-anchor=\"middle\" x=\"178.5\" y=\"-54.8\" font-family=\"Times,serif\" font-size=\"14.00\">&lt;factor&gt;</text>\n",
       "</g>\n",
       "<!-- 8&#45;&gt;9 -->\n",
       "<g id=\"edge9\" class=\"edge\">\n",
       "<title>8&#45;&gt;9</title>\n",
       "<path fill=\"none\" stroke=\"black\" d=\"M195.72,-101.69C192.97,-94.96 188.67,-84.42 185.05,-75.56\"/>\n",
       "<polygon fill=\"black\" stroke=\"black\" points=\"188.28,-74.19 181.26,-66.26 181.8,-76.84 188.28,-74.19\"/>\n",
       "</g>\n",
       "<!-- 10 -->\n",
       "<g id=\"node11\" class=\"node\">\n",
       "<title>10</title>\n",
       "<text text-anchor=\"middle\" x=\"228.5\" y=\"-54.8\" font-family=\"Times,serif\" font-size=\"14.00\"> * </text>\n",
       "</g>\n",
       "<!-- 8&#45;&gt;10 -->\n",
       "<g id=\"edge10\" class=\"edge\">\n",
       "<title>8&#45;&gt;10</title>\n",
       "<path fill=\"none\" stroke=\"black\" d=\"M202.67,-101.69C206.88,-94.81 213.53,-83.96 219.02,-74.98\"/>\n",
       "<polygon fill=\"black\" stroke=\"black\" points=\"222.13,-76.61 224.36,-66.26 216.16,-72.96 222.13,-76.61\"/>\n",
       "</g>\n",
       "<!-- 11 -->\n",
       "<g id=\"node12\" class=\"node\">\n",
       "<title>11</title>\n",
       "<text text-anchor=\"middle\" x=\"275.5\" y=\"-54.8\" font-family=\"Times,serif\" font-size=\"14.00\">&lt;term&gt;</text>\n",
       "</g>\n",
       "<!-- 8&#45;&gt;11 -->\n",
       "<g id=\"edge11\" class=\"edge\">\n",
       "<title>8&#45;&gt;11</title>\n",
       "<path fill=\"none\" stroke=\"black\" d=\"M208.88,-101.89C221.12,-94.1 241.69,-81.01 256.75,-71.43\"/>\n",
       "<polygon fill=\"black\" stroke=\"black\" points=\"258.72,-74.33 265.28,-66 254.96,-68.42 258.72,-74.33\"/>\n",
       "</g>\n",
       "</g>\n",
       "</svg>\n"
      ],
      "text/plain": [
       "<graphviz.graphs.Digraph at 0x12258d900>"
      ]
     },
     "execution_count": 88,
     "metadata": {},
     "output_type": "execute_result"
    }
   ],
   "source": [
    "if f.any_possible_expansions(derivation_tree):\n",
    "    derivation_tree = f.expand_tree_once(derivation_tree)\n",
    "display_tree(derivation_tree)"
   ]
  },
  {
   "cell_type": "code",
   "execution_count": 89,
   "metadata": {
    "execution": {
     "iopub.execute_input": "2022-08-06T15:52:14.488400Z",
     "iopub.status.busy": "2022-08-06T15:52:14.488087Z",
     "iopub.status.idle": "2022-08-06T15:52:14.489278Z",
     "shell.execute_reply": "2022-08-06T15:52:14.489502Z"
    },
    "slideshow": {
     "slide_type": "fragment"
    }
   },
   "outputs": [],
   "source": [
    "# docassert\n",
    "assert f.any_possible_expansions(derivation_tree)"
   ]
  },
  {
   "cell_type": "code",
   "execution_count": 90,
   "metadata": {
    "button": false,
    "execution": {
     "iopub.execute_input": "2022-08-06T15:52:14.491960Z",
     "iopub.status.busy": "2022-08-06T15:52:14.491670Z",
     "iopub.status.idle": "2022-08-06T15:52:14.786860Z",
     "shell.execute_reply": "2022-08-06T15:52:14.787318Z"
    },
    "new_sheet": false,
    "run_control": {
     "read_only": false
    },
    "slideshow": {
     "slide_type": "subslide"
    },
    "tags": []
   },
   "outputs": [
    {
     "name": "stdout",
     "output_type": "stream",
     "text": [
      "Expanding <factor> at minimum cost\n"
     ]
    },
    {
     "data": {
      "image/svg+xml": [
       "<?xml version=\"1.0\" encoding=\"UTF-8\" standalone=\"no\"?>\n",
       "<!DOCTYPE svg PUBLIC \"-//W3C//DTD SVG 1.1//EN\"\n",
       " \"http://www.w3.org/Graphics/SVG/1.1/DTD/svg11.dtd\">\n",
       "<!-- Generated by graphviz version 5.0.0 (20220707.1540)\n",
       " -->\n",
       "<!-- Pages: 1 -->\n",
       "<svg width=\"305pt\" height=\"227pt\"\n",
       " viewBox=\"0.00 0.00 305.00 227.00\" xmlns=\"http://www.w3.org/2000/svg\" xmlns:xlink=\"http://www.w3.org/1999/xlink\">\n",
       "<g id=\"graph0\" class=\"graph\" transform=\"scale(1 1) rotate(0) translate(4 223)\">\n",
       "<polygon fill=\"white\" stroke=\"transparent\" points=\"-4,4 -4,-223 301,-223 301,4 -4,4\"/>\n",
       "<!-- 0 -->\n",
       "<g id=\"node1\" class=\"node\">\n",
       "<title>0</title>\n",
       "<text text-anchor=\"middle\" x=\"147.5\" y=\"-207.8\" font-family=\"Times,serif\" font-size=\"14.00\">&lt;start&gt;</text>\n",
       "</g>\n",
       "<!-- 1 -->\n",
       "<g id=\"node2\" class=\"node\">\n",
       "<title>1</title>\n",
       "<text text-anchor=\"middle\" x=\"147.5\" y=\"-156.8\" font-family=\"Times,serif\" font-size=\"14.00\">&lt;expr&gt;</text>\n",
       "</g>\n",
       "<!-- 0&#45;&gt;1 -->\n",
       "<g id=\"edge1\" class=\"edge\">\n",
       "<title>0&#45;&gt;1</title>\n",
       "<path fill=\"none\" stroke=\"black\" d=\"M147.5,-203.69C147.5,-197.18 147.5,-187.1 147.5,-178.43\"/>\n",
       "<polygon fill=\"black\" stroke=\"black\" points=\"151,-178.26 147.5,-168.26 144,-178.26 151,-178.26\"/>\n",
       "</g>\n",
       "<!-- 2 -->\n",
       "<g id=\"node3\" class=\"node\">\n",
       "<title>2</title>\n",
       "<text text-anchor=\"middle\" x=\"94.5\" y=\"-105.8\" font-family=\"Times,serif\" font-size=\"14.00\">&lt;expr&gt;</text>\n",
       "</g>\n",
       "<!-- 1&#45;&gt;2 -->\n",
       "<g id=\"edge2\" class=\"edge\">\n",
       "<title>1&#45;&gt;2</title>\n",
       "<path fill=\"none\" stroke=\"black\" d=\"M140.13,-152.69C132.22,-145.37 119.44,-133.56 109.41,-124.29\"/>\n",
       "<polygon fill=\"black\" stroke=\"black\" points=\"111.53,-121.47 101.81,-117.26 106.77,-126.61 111.53,-121.47\"/>\n",
       "</g>\n",
       "<!-- 7 -->\n",
       "<g id=\"node8\" class=\"node\">\n",
       "<title>7</title>\n",
       "<text text-anchor=\"middle\" x=\"147.5\" y=\"-105.8\" font-family=\"Times,serif\" font-size=\"14.00\"> + </text>\n",
       "</g>\n",
       "<!-- 1&#45;&gt;7 -->\n",
       "<g id=\"edge7\" class=\"edge\">\n",
       "<title>1&#45;&gt;7</title>\n",
       "<path fill=\"none\" stroke=\"black\" d=\"M147.5,-152.69C147.5,-146.18 147.5,-136.1 147.5,-127.43\"/>\n",
       "<polygon fill=\"black\" stroke=\"black\" points=\"151,-127.26 147.5,-117.26 144,-127.26 151,-127.26\"/>\n",
       "</g>\n",
       "<!-- 8 -->\n",
       "<g id=\"node9\" class=\"node\">\n",
       "<title>8</title>\n",
       "<text text-anchor=\"middle\" x=\"198.5\" y=\"-105.8\" font-family=\"Times,serif\" font-size=\"14.00\">&lt;term&gt;</text>\n",
       "</g>\n",
       "<!-- 1&#45;&gt;8 -->\n",
       "<g id=\"edge8\" class=\"edge\">\n",
       "<title>1&#45;&gt;8</title>\n",
       "<path fill=\"none\" stroke=\"black\" d=\"M154.59,-152.69C162.2,-145.37 174.5,-133.56 184.15,-124.29\"/>\n",
       "<polygon fill=\"black\" stroke=\"black\" points=\"186.68,-126.71 191.47,-117.26 181.83,-121.66 186.68,-126.71\"/>\n",
       "</g>\n",
       "<!-- 3 -->\n",
       "<g id=\"node4\" class=\"node\">\n",
       "<title>3</title>\n",
       "<text text-anchor=\"middle\" x=\"24.5\" y=\"-54.8\" font-family=\"Times,serif\" font-size=\"14.00\">&lt;term&gt;</text>\n",
       "</g>\n",
       "<!-- 2&#45;&gt;3 -->\n",
       "<g id=\"edge3\" class=\"edge\">\n",
       "<title>2&#45;&gt;3</title>\n",
       "<path fill=\"none\" stroke=\"black\" d=\"M85.06,-101.89C74.14,-94.25 55.94,-81.5 42.33,-71.98\"/>\n",
       "<polygon fill=\"black\" stroke=\"black\" points=\"43.99,-68.87 33.79,-66 39.98,-74.61 43.99,-68.87\"/>\n",
       "</g>\n",
       "<!-- 5 -->\n",
       "<g id=\"node6\" class=\"node\">\n",
       "<title>5</title>\n",
       "<text text-anchor=\"middle\" x=\"70.5\" y=\"-54.8\" font-family=\"Times,serif\" font-size=\"14.00\"> &#45; </text>\n",
       "</g>\n",
       "<!-- 2&#45;&gt;5 -->\n",
       "<g id=\"edge5\" class=\"edge\">\n",
       "<title>2&#45;&gt;5</title>\n",
       "<path fill=\"none\" stroke=\"black\" d=\"M91.16,-101.69C87.83,-94.88 82.59,-84.19 78.22,-75.27\"/>\n",
       "<polygon fill=\"black\" stroke=\"black\" points=\"81.35,-73.7 73.81,-66.26 75.06,-76.78 81.35,-73.7\"/>\n",
       "</g>\n",
       "<!-- 6 -->\n",
       "<g id=\"node7\" class=\"node\">\n",
       "<title>6</title>\n",
       "<text text-anchor=\"middle\" x=\"115.5\" y=\"-54.8\" font-family=\"Times,serif\" font-size=\"14.00\">&lt;expr&gt;</text>\n",
       "</g>\n",
       "<!-- 2&#45;&gt;6 -->\n",
       "<g id=\"edge6\" class=\"edge\">\n",
       "<title>2&#45;&gt;6</title>\n",
       "<path fill=\"none\" stroke=\"black\" d=\"M97.42,-101.69C100.3,-94.96 104.82,-84.42 108.62,-75.56\"/>\n",
       "<polygon fill=\"black\" stroke=\"black\" points=\"111.88,-76.83 112.6,-66.26 105.45,-74.07 111.88,-76.83\"/>\n",
       "</g>\n",
       "<!-- 4 -->\n",
       "<g id=\"node5\" class=\"node\">\n",
       "<title>4</title>\n",
       "<text text-anchor=\"middle\" x=\"24.5\" y=\"-3.8\" font-family=\"Times,serif\" font-size=\"14.00\">&lt;factor&gt;</text>\n",
       "</g>\n",
       "<!-- 3&#45;&gt;4 -->\n",
       "<g id=\"edge4\" class=\"edge\">\n",
       "<title>3&#45;&gt;4</title>\n",
       "<path fill=\"none\" stroke=\"black\" d=\"M24.5,-50.69C24.5,-44.18 24.5,-34.1 24.5,-25.43\"/>\n",
       "<polygon fill=\"black\" stroke=\"black\" points=\"28,-25.26 24.5,-15.26 21,-25.26 28,-25.26\"/>\n",
       "</g>\n",
       "<!-- 9 -->\n",
       "<g id=\"node10\" class=\"node\">\n",
       "<title>9</title>\n",
       "<text text-anchor=\"middle\" x=\"178.5\" y=\"-54.8\" font-family=\"Times,serif\" font-size=\"14.00\">&lt;factor&gt;</text>\n",
       "</g>\n",
       "<!-- 8&#45;&gt;9 -->\n",
       "<g id=\"edge9\" class=\"edge\">\n",
       "<title>8&#45;&gt;9</title>\n",
       "<path fill=\"none\" stroke=\"black\" d=\"M195.72,-101.69C192.97,-94.96 188.67,-84.42 185.05,-75.56\"/>\n",
       "<polygon fill=\"black\" stroke=\"black\" points=\"188.28,-74.19 181.26,-66.26 181.8,-76.84 188.28,-74.19\"/>\n",
       "</g>\n",
       "<!-- 11 -->\n",
       "<g id=\"node12\" class=\"node\">\n",
       "<title>11</title>\n",
       "<text text-anchor=\"middle\" x=\"228.5\" y=\"-54.8\" font-family=\"Times,serif\" font-size=\"14.00\"> * </text>\n",
       "</g>\n",
       "<!-- 8&#45;&gt;11 -->\n",
       "<g id=\"edge11\" class=\"edge\">\n",
       "<title>8&#45;&gt;11</title>\n",
       "<path fill=\"none\" stroke=\"black\" d=\"M202.67,-101.69C206.88,-94.81 213.53,-83.96 219.02,-74.98\"/>\n",
       "<polygon fill=\"black\" stroke=\"black\" points=\"222.13,-76.61 224.36,-66.26 216.16,-72.96 222.13,-76.61\"/>\n",
       "</g>\n",
       "<!-- 12 -->\n",
       "<g id=\"node13\" class=\"node\">\n",
       "<title>12</title>\n",
       "<text text-anchor=\"middle\" x=\"275.5\" y=\"-54.8\" font-family=\"Times,serif\" font-size=\"14.00\">&lt;term&gt;</text>\n",
       "</g>\n",
       "<!-- 8&#45;&gt;12 -->\n",
       "<g id=\"edge12\" class=\"edge\">\n",
       "<title>8&#45;&gt;12</title>\n",
       "<path fill=\"none\" stroke=\"black\" d=\"M208.88,-101.89C221.12,-94.1 241.69,-81.01 256.75,-71.43\"/>\n",
       "<polygon fill=\"black\" stroke=\"black\" points=\"258.72,-74.33 265.28,-66 254.96,-68.42 258.72,-74.33\"/>\n",
       "</g>\n",
       "<!-- 10 -->\n",
       "<g id=\"node11\" class=\"node\">\n",
       "<title>10</title>\n",
       "<text text-anchor=\"middle\" x=\"178.5\" y=\"-3.8\" font-family=\"Times,serif\" font-size=\"14.00\">&lt;integer&gt;</text>\n",
       "</g>\n",
       "<!-- 9&#45;&gt;10 -->\n",
       "<g id=\"edge10\" class=\"edge\">\n",
       "<title>9&#45;&gt;10</title>\n",
       "<path fill=\"none\" stroke=\"black\" d=\"M178.5,-50.69C178.5,-44.18 178.5,-34.1 178.5,-25.43\"/>\n",
       "<polygon fill=\"black\" stroke=\"black\" points=\"182,-25.26 178.5,-15.26 175,-25.26 182,-25.26\"/>\n",
       "</g>\n",
       "</g>\n",
       "</svg>\n"
      ],
      "text/plain": [
       "<graphviz.graphs.Digraph at 0x12258d5a0>"
      ]
     },
     "execution_count": 90,
     "metadata": {},
     "output_type": "execute_result"
    }
   ],
   "source": [
    "if f.any_possible_expansions(derivation_tree):\n",
    "    derivation_tree = f.expand_tree_once(derivation_tree)\n",
    "display_tree(derivation_tree)"
   ]
  },
  {
   "cell_type": "code",
   "execution_count": 91,
   "metadata": {
    "execution": {
     "iopub.execute_input": "2022-08-06T15:52:14.789856Z",
     "iopub.status.busy": "2022-08-06T15:52:14.789574Z",
     "iopub.status.idle": "2022-08-06T15:52:14.790698Z",
     "shell.execute_reply": "2022-08-06T15:52:14.790898Z"
    },
    "slideshow": {
     "slide_type": "fragment"
    }
   },
   "outputs": [],
   "source": [
    "# docassert\n",
    "assert f.any_possible_expansions(derivation_tree)"
   ]
  },
  {
   "cell_type": "code",
   "execution_count": 92,
   "metadata": {
    "button": false,
    "execution": {
     "iopub.execute_input": "2022-08-06T15:52:14.795718Z",
     "iopub.status.busy": "2022-08-06T15:52:14.795257Z",
     "iopub.status.idle": "2022-08-06T15:52:15.105484Z",
     "shell.execute_reply": "2022-08-06T15:52:15.105732Z"
    },
    "new_sheet": false,
    "run_control": {
     "read_only": false
    },
    "slideshow": {
     "slide_type": "subslide"
    }
   },
   "outputs": [
    {
     "name": "stdout",
     "output_type": "stream",
     "text": [
      "Expanding <integer> at minimum cost\n"
     ]
    },
    {
     "data": {
      "image/svg+xml": [
       "<?xml version=\"1.0\" encoding=\"UTF-8\" standalone=\"no\"?>\n",
       "<!DOCTYPE svg PUBLIC \"-//W3C//DTD SVG 1.1//EN\"\n",
       " \"http://www.w3.org/Graphics/SVG/1.1/DTD/svg11.dtd\">\n",
       "<!-- Generated by graphviz version 5.0.0 (20220707.1540)\n",
       " -->\n",
       "<!-- Pages: 1 -->\n",
       "<svg width=\"305pt\" height=\"278pt\"\n",
       " viewBox=\"0.00 0.00 305.00 278.00\" xmlns=\"http://www.w3.org/2000/svg\" xmlns:xlink=\"http://www.w3.org/1999/xlink\">\n",
       "<g id=\"graph0\" class=\"graph\" transform=\"scale(1 1) rotate(0) translate(4 274)\">\n",
       "<polygon fill=\"white\" stroke=\"transparent\" points=\"-4,4 -4,-274 301,-274 301,4 -4,4\"/>\n",
       "<!-- 0 -->\n",
       "<g id=\"node1\" class=\"node\">\n",
       "<title>0</title>\n",
       "<text text-anchor=\"middle\" x=\"147.5\" y=\"-258.8\" font-family=\"Times,serif\" font-size=\"14.00\">&lt;start&gt;</text>\n",
       "</g>\n",
       "<!-- 1 -->\n",
       "<g id=\"node2\" class=\"node\">\n",
       "<title>1</title>\n",
       "<text text-anchor=\"middle\" x=\"147.5\" y=\"-207.8\" font-family=\"Times,serif\" font-size=\"14.00\">&lt;expr&gt;</text>\n",
       "</g>\n",
       "<!-- 0&#45;&gt;1 -->\n",
       "<g id=\"edge1\" class=\"edge\">\n",
       "<title>0&#45;&gt;1</title>\n",
       "<path fill=\"none\" stroke=\"black\" d=\"M147.5,-254.69C147.5,-248.18 147.5,-238.1 147.5,-229.43\"/>\n",
       "<polygon fill=\"black\" stroke=\"black\" points=\"151,-229.26 147.5,-219.26 144,-229.26 151,-229.26\"/>\n",
       "</g>\n",
       "<!-- 2 -->\n",
       "<g id=\"node3\" class=\"node\">\n",
       "<title>2</title>\n",
       "<text text-anchor=\"middle\" x=\"94.5\" y=\"-156.8\" font-family=\"Times,serif\" font-size=\"14.00\">&lt;expr&gt;</text>\n",
       "</g>\n",
       "<!-- 1&#45;&gt;2 -->\n",
       "<g id=\"edge2\" class=\"edge\">\n",
       "<title>1&#45;&gt;2</title>\n",
       "<path fill=\"none\" stroke=\"black\" d=\"M140.13,-203.69C132.22,-196.37 119.44,-184.56 109.41,-175.29\"/>\n",
       "<polygon fill=\"black\" stroke=\"black\" points=\"111.53,-172.47 101.81,-168.26 106.77,-177.61 111.53,-172.47\"/>\n",
       "</g>\n",
       "<!-- 7 -->\n",
       "<g id=\"node8\" class=\"node\">\n",
       "<title>7</title>\n",
       "<text text-anchor=\"middle\" x=\"147.5\" y=\"-156.8\" font-family=\"Times,serif\" font-size=\"14.00\"> + </text>\n",
       "</g>\n",
       "<!-- 1&#45;&gt;7 -->\n",
       "<g id=\"edge7\" class=\"edge\">\n",
       "<title>1&#45;&gt;7</title>\n",
       "<path fill=\"none\" stroke=\"black\" d=\"M147.5,-203.69C147.5,-197.18 147.5,-187.1 147.5,-178.43\"/>\n",
       "<polygon fill=\"black\" stroke=\"black\" points=\"151,-178.26 147.5,-168.26 144,-178.26 151,-178.26\"/>\n",
       "</g>\n",
       "<!-- 8 -->\n",
       "<g id=\"node9\" class=\"node\">\n",
       "<title>8</title>\n",
       "<text text-anchor=\"middle\" x=\"198.5\" y=\"-156.8\" font-family=\"Times,serif\" font-size=\"14.00\">&lt;term&gt;</text>\n",
       "</g>\n",
       "<!-- 1&#45;&gt;8 -->\n",
       "<g id=\"edge8\" class=\"edge\">\n",
       "<title>1&#45;&gt;8</title>\n",
       "<path fill=\"none\" stroke=\"black\" d=\"M154.59,-203.69C162.2,-196.37 174.5,-184.56 184.15,-175.29\"/>\n",
       "<polygon fill=\"black\" stroke=\"black\" points=\"186.68,-177.71 191.47,-168.26 181.83,-172.66 186.68,-177.71\"/>\n",
       "</g>\n",
       "<!-- 3 -->\n",
       "<g id=\"node4\" class=\"node\">\n",
       "<title>3</title>\n",
       "<text text-anchor=\"middle\" x=\"24.5\" y=\"-105.8\" font-family=\"Times,serif\" font-size=\"14.00\">&lt;term&gt;</text>\n",
       "</g>\n",
       "<!-- 2&#45;&gt;3 -->\n",
       "<g id=\"edge3\" class=\"edge\">\n",
       "<title>2&#45;&gt;3</title>\n",
       "<path fill=\"none\" stroke=\"black\" d=\"M85.06,-152.89C74.14,-145.25 55.94,-132.5 42.33,-122.98\"/>\n",
       "<polygon fill=\"black\" stroke=\"black\" points=\"43.99,-119.87 33.79,-117 39.98,-125.61 43.99,-119.87\"/>\n",
       "</g>\n",
       "<!-- 5 -->\n",
       "<g id=\"node6\" class=\"node\">\n",
       "<title>5</title>\n",
       "<text text-anchor=\"middle\" x=\"70.5\" y=\"-105.8\" font-family=\"Times,serif\" font-size=\"14.00\"> &#45; </text>\n",
       "</g>\n",
       "<!-- 2&#45;&gt;5 -->\n",
       "<g id=\"edge5\" class=\"edge\">\n",
       "<title>2&#45;&gt;5</title>\n",
       "<path fill=\"none\" stroke=\"black\" d=\"M91.16,-152.69C87.83,-145.88 82.59,-135.19 78.22,-126.27\"/>\n",
       "<polygon fill=\"black\" stroke=\"black\" points=\"81.35,-124.7 73.81,-117.26 75.06,-127.78 81.35,-124.7\"/>\n",
       "</g>\n",
       "<!-- 6 -->\n",
       "<g id=\"node7\" class=\"node\">\n",
       "<title>6</title>\n",
       "<text text-anchor=\"middle\" x=\"115.5\" y=\"-105.8\" font-family=\"Times,serif\" font-size=\"14.00\">&lt;expr&gt;</text>\n",
       "</g>\n",
       "<!-- 2&#45;&gt;6 -->\n",
       "<g id=\"edge6\" class=\"edge\">\n",
       "<title>2&#45;&gt;6</title>\n",
       "<path fill=\"none\" stroke=\"black\" d=\"M97.42,-152.69C100.3,-145.96 104.82,-135.42 108.62,-126.56\"/>\n",
       "<polygon fill=\"black\" stroke=\"black\" points=\"111.88,-127.83 112.6,-117.26 105.45,-125.07 111.88,-127.83\"/>\n",
       "</g>\n",
       "<!-- 4 -->\n",
       "<g id=\"node5\" class=\"node\">\n",
       "<title>4</title>\n",
       "<text text-anchor=\"middle\" x=\"24.5\" y=\"-54.8\" font-family=\"Times,serif\" font-size=\"14.00\">&lt;factor&gt;</text>\n",
       "</g>\n",
       "<!-- 3&#45;&gt;4 -->\n",
       "<g id=\"edge4\" class=\"edge\">\n",
       "<title>3&#45;&gt;4</title>\n",
       "<path fill=\"none\" stroke=\"black\" d=\"M24.5,-101.69C24.5,-95.18 24.5,-85.1 24.5,-76.43\"/>\n",
       "<polygon fill=\"black\" stroke=\"black\" points=\"28,-76.26 24.5,-66.26 21,-76.26 28,-76.26\"/>\n",
       "</g>\n",
       "<!-- 9 -->\n",
       "<g id=\"node10\" class=\"node\">\n",
       "<title>9</title>\n",
       "<text text-anchor=\"middle\" x=\"178.5\" y=\"-105.8\" font-family=\"Times,serif\" font-size=\"14.00\">&lt;factor&gt;</text>\n",
       "</g>\n",
       "<!-- 8&#45;&gt;9 -->\n",
       "<g id=\"edge9\" class=\"edge\">\n",
       "<title>8&#45;&gt;9</title>\n",
       "<path fill=\"none\" stroke=\"black\" d=\"M195.72,-152.69C192.97,-145.96 188.67,-135.42 185.05,-126.56\"/>\n",
       "<polygon fill=\"black\" stroke=\"black\" points=\"188.28,-125.19 181.26,-117.26 181.8,-127.84 188.28,-125.19\"/>\n",
       "</g>\n",
       "<!-- 12 -->\n",
       "<g id=\"node13\" class=\"node\">\n",
       "<title>12</title>\n",
       "<text text-anchor=\"middle\" x=\"228.5\" y=\"-105.8\" font-family=\"Times,serif\" font-size=\"14.00\"> * </text>\n",
       "</g>\n",
       "<!-- 8&#45;&gt;12 -->\n",
       "<g id=\"edge12\" class=\"edge\">\n",
       "<title>8&#45;&gt;12</title>\n",
       "<path fill=\"none\" stroke=\"black\" d=\"M202.67,-152.69C206.88,-145.81 213.53,-134.96 219.02,-125.98\"/>\n",
       "<polygon fill=\"black\" stroke=\"black\" points=\"222.13,-127.61 224.36,-117.26 216.16,-123.96 222.13,-127.61\"/>\n",
       "</g>\n",
       "<!-- 13 -->\n",
       "<g id=\"node14\" class=\"node\">\n",
       "<title>13</title>\n",
       "<text text-anchor=\"middle\" x=\"275.5\" y=\"-105.8\" font-family=\"Times,serif\" font-size=\"14.00\">&lt;term&gt;</text>\n",
       "</g>\n",
       "<!-- 8&#45;&gt;13 -->\n",
       "<g id=\"edge13\" class=\"edge\">\n",
       "<title>8&#45;&gt;13</title>\n",
       "<path fill=\"none\" stroke=\"black\" d=\"M208.88,-152.89C221.12,-145.1 241.69,-132.01 256.75,-122.43\"/>\n",
       "<polygon fill=\"black\" stroke=\"black\" points=\"258.72,-125.33 265.28,-117 254.96,-119.42 258.72,-125.33\"/>\n",
       "</g>\n",
       "<!-- 10 -->\n",
       "<g id=\"node11\" class=\"node\">\n",
       "<title>10</title>\n",
       "<text text-anchor=\"middle\" x=\"178.5\" y=\"-54.8\" font-family=\"Times,serif\" font-size=\"14.00\">&lt;integer&gt;</text>\n",
       "</g>\n",
       "<!-- 9&#45;&gt;10 -->\n",
       "<g id=\"edge10\" class=\"edge\">\n",
       "<title>9&#45;&gt;10</title>\n",
       "<path fill=\"none\" stroke=\"black\" d=\"M178.5,-101.69C178.5,-95.18 178.5,-85.1 178.5,-76.43\"/>\n",
       "<polygon fill=\"black\" stroke=\"black\" points=\"182,-76.26 178.5,-66.26 175,-76.26 182,-76.26\"/>\n",
       "</g>\n",
       "<!-- 11 -->\n",
       "<g id=\"node12\" class=\"node\">\n",
       "<title>11</title>\n",
       "<text text-anchor=\"middle\" x=\"178.5\" y=\"-3.8\" font-family=\"Times,serif\" font-size=\"14.00\">&lt;digit&gt;</text>\n",
       "</g>\n",
       "<!-- 10&#45;&gt;11 -->\n",
       "<g id=\"edge11\" class=\"edge\">\n",
       "<title>10&#45;&gt;11</title>\n",
       "<path fill=\"none\" stroke=\"black\" d=\"M178.5,-50.69C178.5,-44.18 178.5,-34.1 178.5,-25.43\"/>\n",
       "<polygon fill=\"black\" stroke=\"black\" points=\"182,-25.26 178.5,-15.26 175,-25.26 182,-25.26\"/>\n",
       "</g>\n",
       "</g>\n",
       "</svg>\n"
      ],
      "text/plain": [
       "<graphviz.graphs.Digraph at 0x12258d270>"
      ]
     },
     "execution_count": 92,
     "metadata": {},
     "output_type": "execute_result"
    }
   ],
   "source": [
    "if f.any_possible_expansions(derivation_tree):\n",
    "    derivation_tree = f.expand_tree_once(derivation_tree)\n",
    "display_tree(derivation_tree)"
   ]
  },
  {
   "cell_type": "markdown",
   "metadata": {
    "slideshow": {
     "slide_type": "subslide"
    }
   },
   "source": [
    "We keep on expanding until all nonterminals are expanded."
   ]
  },
  {
   "cell_type": "code",
   "execution_count": 93,
   "metadata": {
    "button": false,
    "execution": {
     "iopub.execute_input": "2022-08-06T15:52:15.109715Z",
     "iopub.status.busy": "2022-08-06T15:52:15.109311Z",
     "iopub.status.idle": "2022-08-06T15:52:15.111007Z",
     "shell.execute_reply": "2022-08-06T15:52:15.111246Z"
    },
    "new_sheet": false,
    "run_control": {
     "read_only": false
    },
    "slideshow": {
     "slide_type": "fragment"
    }
   },
   "outputs": [
    {
     "name": "stdout",
     "output_type": "stream",
     "text": [
      "Expanding <term> at minimum cost\n",
      "Expanding <expr> at minimum cost\n",
      "Expanding <term> at minimum cost\n",
      "Expanding <factor> at minimum cost\n",
      "Expanding <factor> at minimum cost\n",
      "Expanding <integer> at minimum cost\n",
      "Expanding <digit> at minimum cost\n",
      "Expanding <factor> at minimum cost\n",
      "Expanding <digit> at minimum cost\n",
      "Expanding <integer> at minimum cost\n",
      "Expanding <integer> at minimum cost\n",
      "Expanding <digit> at minimum cost\n",
      "Expanding <digit> at minimum cost\n"
     ]
    }
   ],
   "source": [
    "while f.any_possible_expansions(derivation_tree):\n",
    "    derivation_tree = f.expand_tree_once(derivation_tree)    "
   ]
  },
  {
   "cell_type": "markdown",
   "metadata": {
    "slideshow": {
     "slide_type": "subslide"
    }
   },
   "source": [
    "Here is the final tree:"
   ]
  },
  {
   "cell_type": "code",
   "execution_count": 94,
   "metadata": {
    "button": false,
    "execution": {
     "iopub.execute_input": "2022-08-06T15:52:15.116003Z",
     "iopub.status.busy": "2022-08-06T15:52:15.115530Z",
     "iopub.status.idle": "2022-08-06T15:52:15.406411Z",
     "shell.execute_reply": "2022-08-06T15:52:15.406807Z"
    },
    "new_sheet": false,
    "run_control": {
     "read_only": false
    },
    "slideshow": {
     "slide_type": "fragment"
    }
   },
   "outputs": [
    {
     "data": {
      "image/svg+xml": [
       "<?xml version=\"1.0\" encoding=\"UTF-8\" standalone=\"no\"?>\n",
       "<!DOCTYPE svg PUBLIC \"-//W3C//DTD SVG 1.1//EN\"\n",
       " \"http://www.w3.org/Graphics/SVG/1.1/DTD/svg11.dtd\">\n",
       "<!-- Generated by graphviz version 5.0.0 (20220707.1540)\n",
       " -->\n",
       "<!-- Pages: 1 -->\n",
       "<svg width=\"316pt\" height=\"431pt\"\n",
       " viewBox=\"0.00 0.00 316.00 431.00\" xmlns=\"http://www.w3.org/2000/svg\" xmlns:xlink=\"http://www.w3.org/1999/xlink\">\n",
       "<g id=\"graph0\" class=\"graph\" transform=\"scale(1 1) rotate(0) translate(4 427)\">\n",
       "<polygon fill=\"white\" stroke=\"transparent\" points=\"-4,4 -4,-427 312,-427 312,4 -4,4\"/>\n",
       "<!-- 0 -->\n",
       "<g id=\"node1\" class=\"node\">\n",
       "<title>0</title>\n",
       "<text text-anchor=\"middle\" x=\"151.5\" y=\"-411.8\" font-family=\"Times,serif\" font-size=\"14.00\">&lt;start&gt;</text>\n",
       "</g>\n",
       "<!-- 1 -->\n",
       "<g id=\"node2\" class=\"node\">\n",
       "<title>1</title>\n",
       "<text text-anchor=\"middle\" x=\"151.5\" y=\"-360.8\" font-family=\"Times,serif\" font-size=\"14.00\">&lt;expr&gt;</text>\n",
       "</g>\n",
       "<!-- 0&#45;&gt;1 -->\n",
       "<g id=\"edge1\" class=\"edge\">\n",
       "<title>0&#45;&gt;1</title>\n",
       "<path fill=\"none\" stroke=\"black\" d=\"M151.5,-407.69C151.5,-401.18 151.5,-391.1 151.5,-382.43\"/>\n",
       "<polygon fill=\"black\" stroke=\"black\" points=\"155,-382.26 151.5,-372.26 148,-382.26 155,-382.26\"/>\n",
       "</g>\n",
       "<!-- 2 -->\n",
       "<g id=\"node3\" class=\"node\">\n",
       "<title>2</title>\n",
       "<text text-anchor=\"middle\" x=\"98.5\" y=\"-309.8\" font-family=\"Times,serif\" font-size=\"14.00\">&lt;expr&gt;</text>\n",
       "</g>\n",
       "<!-- 1&#45;&gt;2 -->\n",
       "<g id=\"edge2\" class=\"edge\">\n",
       "<title>1&#45;&gt;2</title>\n",
       "<path fill=\"none\" stroke=\"black\" d=\"M144.13,-356.69C136.22,-349.37 123.44,-337.56 113.41,-328.29\"/>\n",
       "<polygon fill=\"black\" stroke=\"black\" points=\"115.53,-325.47 105.81,-321.26 110.77,-330.61 115.53,-325.47\"/>\n",
       "</g>\n",
       "<!-- 15 -->\n",
       "<g id=\"node16\" class=\"node\">\n",
       "<title>15</title>\n",
       "<text text-anchor=\"middle\" x=\"151.5\" y=\"-309.8\" font-family=\"Times,serif\" font-size=\"14.00\"> + </text>\n",
       "</g>\n",
       "<!-- 1&#45;&gt;15 -->\n",
       "<g id=\"edge15\" class=\"edge\">\n",
       "<title>1&#45;&gt;15</title>\n",
       "<path fill=\"none\" stroke=\"black\" d=\"M151.5,-356.69C151.5,-350.18 151.5,-340.1 151.5,-331.43\"/>\n",
       "<polygon fill=\"black\" stroke=\"black\" points=\"155,-331.26 151.5,-321.26 148,-331.26 155,-331.26\"/>\n",
       "</g>\n",
       "<!-- 16 -->\n",
       "<g id=\"node17\" class=\"node\">\n",
       "<title>16</title>\n",
       "<text text-anchor=\"middle\" x=\"202.5\" y=\"-309.8\" font-family=\"Times,serif\" font-size=\"14.00\">&lt;term&gt;</text>\n",
       "</g>\n",
       "<!-- 1&#45;&gt;16 -->\n",
       "<g id=\"edge16\" class=\"edge\">\n",
       "<title>1&#45;&gt;16</title>\n",
       "<path fill=\"none\" stroke=\"black\" d=\"M158.59,-356.69C166.2,-349.37 178.5,-337.56 188.15,-328.29\"/>\n",
       "<polygon fill=\"black\" stroke=\"black\" points=\"190.68,-330.71 195.47,-321.26 185.83,-325.66 190.68,-330.71\"/>\n",
       "</g>\n",
       "<!-- 3 -->\n",
       "<g id=\"node4\" class=\"node\">\n",
       "<title>3</title>\n",
       "<text text-anchor=\"middle\" x=\"27.5\" y=\"-258.8\" font-family=\"Times,serif\" font-size=\"14.00\">&lt;term&gt;</text>\n",
       "</g>\n",
       "<!-- 2&#45;&gt;3 -->\n",
       "<g id=\"edge3\" class=\"edge\">\n",
       "<title>2&#45;&gt;3</title>\n",
       "<path fill=\"none\" stroke=\"black\" d=\"M88.92,-305.89C77.75,-298.18 59.03,-285.26 45.19,-275.71\"/>\n",
       "<polygon fill=\"black\" stroke=\"black\" points=\"47.14,-272.8 36.92,-270 43.17,-278.56 47.14,-272.8\"/>\n",
       "</g>\n",
       "<!-- 8 -->\n",
       "<g id=\"node9\" class=\"node\">\n",
       "<title>8</title>\n",
       "<text text-anchor=\"middle\" x=\"73.5\" y=\"-258.8\" font-family=\"Times,serif\" font-size=\"14.00\"> &#45; </text>\n",
       "</g>\n",
       "<!-- 2&#45;&gt;8 -->\n",
       "<g id=\"edge8\" class=\"edge\">\n",
       "<title>2&#45;&gt;8</title>\n",
       "<path fill=\"none\" stroke=\"black\" d=\"M95.02,-305.69C91.55,-298.88 86.1,-288.19 81.55,-279.27\"/>\n",
       "<polygon fill=\"black\" stroke=\"black\" points=\"84.61,-277.57 76.95,-270.26 78.37,-280.75 84.61,-277.57\"/>\n",
       "</g>\n",
       "<!-- 9 -->\n",
       "<g id=\"node10\" class=\"node\">\n",
       "<title>9</title>\n",
       "<text text-anchor=\"middle\" x=\"118.5\" y=\"-258.8\" font-family=\"Times,serif\" font-size=\"14.00\">&lt;expr&gt;</text>\n",
       "</g>\n",
       "<!-- 2&#45;&gt;9 -->\n",
       "<g id=\"edge9\" class=\"edge\">\n",
       "<title>2&#45;&gt;9</title>\n",
       "<path fill=\"none\" stroke=\"black\" d=\"M101.28,-305.69C104.03,-298.96 108.33,-288.42 111.95,-279.56\"/>\n",
       "<polygon fill=\"black\" stroke=\"black\" points=\"115.2,-280.84 115.74,-270.26 108.72,-278.19 115.2,-280.84\"/>\n",
       "</g>\n",
       "<!-- 4 -->\n",
       "<g id=\"node5\" class=\"node\">\n",
       "<title>4</title>\n",
       "<text text-anchor=\"middle\" x=\"27.5\" y=\"-207.8\" font-family=\"Times,serif\" font-size=\"14.00\">&lt;factor&gt;</text>\n",
       "</g>\n",
       "<!-- 3&#45;&gt;4 -->\n",
       "<g id=\"edge4\" class=\"edge\">\n",
       "<title>3&#45;&gt;4</title>\n",
       "<path fill=\"none\" stroke=\"black\" d=\"M27.5,-254.69C27.5,-248.18 27.5,-238.1 27.5,-229.43\"/>\n",
       "<polygon fill=\"black\" stroke=\"black\" points=\"31,-229.26 27.5,-219.26 24,-229.26 31,-229.26\"/>\n",
       "</g>\n",
       "<!-- 5 -->\n",
       "<g id=\"node6\" class=\"node\">\n",
       "<title>5</title>\n",
       "<text text-anchor=\"middle\" x=\"27.5\" y=\"-156.8\" font-family=\"Times,serif\" font-size=\"14.00\">&lt;integer&gt;</text>\n",
       "</g>\n",
       "<!-- 4&#45;&gt;5 -->\n",
       "<g id=\"edge5\" class=\"edge\">\n",
       "<title>4&#45;&gt;5</title>\n",
       "<path fill=\"none\" stroke=\"black\" d=\"M27.5,-203.69C27.5,-197.18 27.5,-187.1 27.5,-178.43\"/>\n",
       "<polygon fill=\"black\" stroke=\"black\" points=\"31,-178.26 27.5,-168.26 24,-178.26 31,-178.26\"/>\n",
       "</g>\n",
       "<!-- 6 -->\n",
       "<g id=\"node7\" class=\"node\">\n",
       "<title>6</title>\n",
       "<text text-anchor=\"middle\" x=\"27.5\" y=\"-105.8\" font-family=\"Times,serif\" font-size=\"14.00\">&lt;digit&gt;</text>\n",
       "</g>\n",
       "<!-- 5&#45;&gt;6 -->\n",
       "<g id=\"edge6\" class=\"edge\">\n",
       "<title>5&#45;&gt;6</title>\n",
       "<path fill=\"none\" stroke=\"black\" d=\"M27.5,-152.69C27.5,-146.18 27.5,-136.1 27.5,-127.43\"/>\n",
       "<polygon fill=\"black\" stroke=\"black\" points=\"31,-127.26 27.5,-117.26 24,-127.26 31,-127.26\"/>\n",
       "</g>\n",
       "<!-- 7 -->\n",
       "<g id=\"node8\" class=\"node\">\n",
       "<title>7</title>\n",
       "<text text-anchor=\"middle\" x=\"27.5\" y=\"-54.8\" font-family=\"Times,serif\" font-size=\"14.00\">4</text>\n",
       "</g>\n",
       "<!-- 6&#45;&gt;7 -->\n",
       "<g id=\"edge7\" class=\"edge\">\n",
       "<title>6&#45;&gt;7</title>\n",
       "<path fill=\"none\" stroke=\"black\" d=\"M27.5,-101.69C27.5,-95.18 27.5,-85.1 27.5,-76.43\"/>\n",
       "<polygon fill=\"black\" stroke=\"black\" points=\"31,-76.26 27.5,-66.26 24,-76.26 31,-76.26\"/>\n",
       "</g>\n",
       "<!-- 10 -->\n",
       "<g id=\"node11\" class=\"node\">\n",
       "<title>10</title>\n",
       "<text text-anchor=\"middle\" x=\"117.5\" y=\"-207.8\" font-family=\"Times,serif\" font-size=\"14.00\">&lt;term&gt;</text>\n",
       "</g>\n",
       "<!-- 9&#45;&gt;10 -->\n",
       "<g id=\"edge10\" class=\"edge\">\n",
       "<title>9&#45;&gt;10</title>\n",
       "<path fill=\"none\" stroke=\"black\" d=\"M118.36,-254.69C118.23,-248.18 118.02,-238.1 117.85,-229.43\"/>\n",
       "<polygon fill=\"black\" stroke=\"black\" points=\"121.34,-229.18 117.64,-219.26 114.34,-229.32 121.34,-229.18\"/>\n",
       "</g>\n",
       "<!-- 11 -->\n",
       "<g id=\"node12\" class=\"node\">\n",
       "<title>11</title>\n",
       "<text text-anchor=\"middle\" x=\"117.5\" y=\"-156.8\" font-family=\"Times,serif\" font-size=\"14.00\">&lt;factor&gt;</text>\n",
       "</g>\n",
       "<!-- 10&#45;&gt;11 -->\n",
       "<g id=\"edge11\" class=\"edge\">\n",
       "<title>10&#45;&gt;11</title>\n",
       "<path fill=\"none\" stroke=\"black\" d=\"M117.5,-203.69C117.5,-197.18 117.5,-187.1 117.5,-178.43\"/>\n",
       "<polygon fill=\"black\" stroke=\"black\" points=\"121,-178.26 117.5,-168.26 114,-178.26 121,-178.26\"/>\n",
       "</g>\n",
       "<!-- 12 -->\n",
       "<g id=\"node13\" class=\"node\">\n",
       "<title>12</title>\n",
       "<text text-anchor=\"middle\" x=\"117.5\" y=\"-105.8\" font-family=\"Times,serif\" font-size=\"14.00\">&lt;integer&gt;</text>\n",
       "</g>\n",
       "<!-- 11&#45;&gt;12 -->\n",
       "<g id=\"edge12\" class=\"edge\">\n",
       "<title>11&#45;&gt;12</title>\n",
       "<path fill=\"none\" stroke=\"black\" d=\"M117.5,-152.69C117.5,-146.18 117.5,-136.1 117.5,-127.43\"/>\n",
       "<polygon fill=\"black\" stroke=\"black\" points=\"121,-127.26 117.5,-117.26 114,-127.26 121,-127.26\"/>\n",
       "</g>\n",
       "<!-- 13 -->\n",
       "<g id=\"node14\" class=\"node\">\n",
       "<title>13</title>\n",
       "<text text-anchor=\"middle\" x=\"117.5\" y=\"-54.8\" font-family=\"Times,serif\" font-size=\"14.00\">&lt;digit&gt;</text>\n",
       "</g>\n",
       "<!-- 12&#45;&gt;13 -->\n",
       "<g id=\"edge13\" class=\"edge\">\n",
       "<title>12&#45;&gt;13</title>\n",
       "<path fill=\"none\" stroke=\"black\" d=\"M117.5,-101.69C117.5,-95.18 117.5,-85.1 117.5,-76.43\"/>\n",
       "<polygon fill=\"black\" stroke=\"black\" points=\"121,-76.26 117.5,-66.26 114,-76.26 121,-76.26\"/>\n",
       "</g>\n",
       "<!-- 14 -->\n",
       "<g id=\"node15\" class=\"node\">\n",
       "<title>14</title>\n",
       "<text text-anchor=\"middle\" x=\"117.5\" y=\"-3.8\" font-family=\"Times,serif\" font-size=\"14.00\">8</text>\n",
       "</g>\n",
       "<!-- 13&#45;&gt;14 -->\n",
       "<g id=\"edge14\" class=\"edge\">\n",
       "<title>13&#45;&gt;14</title>\n",
       "<path fill=\"none\" stroke=\"black\" d=\"M117.5,-50.69C117.5,-44.18 117.5,-34.1 117.5,-25.43\"/>\n",
       "<polygon fill=\"black\" stroke=\"black\" points=\"121,-25.26 117.5,-15.26 114,-25.26 121,-25.26\"/>\n",
       "</g>\n",
       "<!-- 17 -->\n",
       "<g id=\"node18\" class=\"node\">\n",
       "<title>17</title>\n",
       "<text text-anchor=\"middle\" x=\"183.5\" y=\"-258.8\" font-family=\"Times,serif\" font-size=\"14.00\">&lt;factor&gt;</text>\n",
       "</g>\n",
       "<!-- 16&#45;&gt;17 -->\n",
       "<g id=\"edge17\" class=\"edge\">\n",
       "<title>16&#45;&gt;17</title>\n",
       "<path fill=\"none\" stroke=\"black\" d=\"M199.86,-305.69C197.28,-299.03 193.25,-288.65 189.84,-279.85\"/>\n",
       "<polygon fill=\"black\" stroke=\"black\" points=\"193,-278.31 186.12,-270.26 186.47,-280.84 193,-278.31\"/>\n",
       "</g>\n",
       "<!-- 21 -->\n",
       "<g id=\"node22\" class=\"node\">\n",
       "<title>21</title>\n",
       "<text text-anchor=\"middle\" x=\"233.5\" y=\"-258.8\" font-family=\"Times,serif\" font-size=\"14.00\"> * </text>\n",
       "</g>\n",
       "<!-- 16&#45;&gt;21 -->\n",
       "<g id=\"edge21\" class=\"edge\">\n",
       "<title>16&#45;&gt;21</title>\n",
       "<path fill=\"none\" stroke=\"black\" d=\"M206.81,-305.69C211.16,-298.81 218.03,-287.96 223.71,-278.98\"/>\n",
       "<polygon fill=\"black\" stroke=\"black\" points=\"226.84,-280.58 229.23,-270.26 220.92,-276.83 226.84,-280.58\"/>\n",
       "</g>\n",
       "<!-- 22 -->\n",
       "<g id=\"node23\" class=\"node\">\n",
       "<title>22</title>\n",
       "<text text-anchor=\"middle\" x=\"280.5\" y=\"-258.8\" font-family=\"Times,serif\" font-size=\"14.00\">&lt;term&gt;</text>\n",
       "</g>\n",
       "<!-- 16&#45;&gt;22 -->\n",
       "<g id=\"edge22\" class=\"edge\">\n",
       "<title>16&#45;&gt;22</title>\n",
       "<path fill=\"none\" stroke=\"black\" d=\"M213.02,-305.89C225.42,-298.1 246.26,-285.01 261.5,-275.43\"/>\n",
       "<polygon fill=\"black\" stroke=\"black\" points=\"263.54,-278.29 270.15,-270 259.82,-272.36 263.54,-278.29\"/>\n",
       "</g>\n",
       "<!-- 18 -->\n",
       "<g id=\"node19\" class=\"node\">\n",
       "<title>18</title>\n",
       "<text text-anchor=\"middle\" x=\"184.5\" y=\"-207.8\" font-family=\"Times,serif\" font-size=\"14.00\">&lt;integer&gt;</text>\n",
       "</g>\n",
       "<!-- 17&#45;&gt;18 -->\n",
       "<g id=\"edge18\" class=\"edge\">\n",
       "<title>17&#45;&gt;18</title>\n",
       "<path fill=\"none\" stroke=\"black\" d=\"M183.64,-254.69C183.77,-248.18 183.98,-238.1 184.15,-229.43\"/>\n",
       "<polygon fill=\"black\" stroke=\"black\" points=\"187.66,-229.32 184.36,-219.26 180.66,-229.18 187.66,-229.32\"/>\n",
       "</g>\n",
       "<!-- 19 -->\n",
       "<g id=\"node20\" class=\"node\">\n",
       "<title>19</title>\n",
       "<text text-anchor=\"middle\" x=\"184.5\" y=\"-156.8\" font-family=\"Times,serif\" font-size=\"14.00\">&lt;digit&gt;</text>\n",
       "</g>\n",
       "<!-- 18&#45;&gt;19 -->\n",
       "<g id=\"edge19\" class=\"edge\">\n",
       "<title>18&#45;&gt;19</title>\n",
       "<path fill=\"none\" stroke=\"black\" d=\"M184.5,-203.69C184.5,-197.18 184.5,-187.1 184.5,-178.43\"/>\n",
       "<polygon fill=\"black\" stroke=\"black\" points=\"188,-178.26 184.5,-168.26 181,-178.26 188,-178.26\"/>\n",
       "</g>\n",
       "<!-- 20 -->\n",
       "<g id=\"node21\" class=\"node\">\n",
       "<title>20</title>\n",
       "<text text-anchor=\"middle\" x=\"184.5\" y=\"-105.8\" font-family=\"Times,serif\" font-size=\"14.00\">3</text>\n",
       "</g>\n",
       "<!-- 19&#45;&gt;20 -->\n",
       "<g id=\"edge20\" class=\"edge\">\n",
       "<title>19&#45;&gt;20</title>\n",
       "<path fill=\"none\" stroke=\"black\" d=\"M184.5,-152.69C184.5,-146.18 184.5,-136.1 184.5,-127.43\"/>\n",
       "<polygon fill=\"black\" stroke=\"black\" points=\"188,-127.26 184.5,-117.26 181,-127.26 188,-127.26\"/>\n",
       "</g>\n",
       "<!-- 23 -->\n",
       "<g id=\"node24\" class=\"node\">\n",
       "<title>23</title>\n",
       "<text text-anchor=\"middle\" x=\"280.5\" y=\"-207.8\" font-family=\"Times,serif\" font-size=\"14.00\">&lt;factor&gt;</text>\n",
       "</g>\n",
       "<!-- 22&#45;&gt;23 -->\n",
       "<g id=\"edge23\" class=\"edge\">\n",
       "<title>22&#45;&gt;23</title>\n",
       "<path fill=\"none\" stroke=\"black\" d=\"M280.5,-254.69C280.5,-248.18 280.5,-238.1 280.5,-229.43\"/>\n",
       "<polygon fill=\"black\" stroke=\"black\" points=\"284,-229.26 280.5,-219.26 277,-229.26 284,-229.26\"/>\n",
       "</g>\n",
       "<!-- 24 -->\n",
       "<g id=\"node25\" class=\"node\">\n",
       "<title>24</title>\n",
       "<text text-anchor=\"middle\" x=\"280.5\" y=\"-156.8\" font-family=\"Times,serif\" font-size=\"14.00\">&lt;integer&gt;</text>\n",
       "</g>\n",
       "<!-- 23&#45;&gt;24 -->\n",
       "<g id=\"edge24\" class=\"edge\">\n",
       "<title>23&#45;&gt;24</title>\n",
       "<path fill=\"none\" stroke=\"black\" d=\"M280.5,-203.69C280.5,-197.18 280.5,-187.1 280.5,-178.43\"/>\n",
       "<polygon fill=\"black\" stroke=\"black\" points=\"284,-178.26 280.5,-168.26 277,-178.26 284,-178.26\"/>\n",
       "</g>\n",
       "<!-- 25 -->\n",
       "<g id=\"node26\" class=\"node\">\n",
       "<title>25</title>\n",
       "<text text-anchor=\"middle\" x=\"280.5\" y=\"-105.8\" font-family=\"Times,serif\" font-size=\"14.00\">&lt;digit&gt;</text>\n",
       "</g>\n",
       "<!-- 24&#45;&gt;25 -->\n",
       "<g id=\"edge25\" class=\"edge\">\n",
       "<title>24&#45;&gt;25</title>\n",
       "<path fill=\"none\" stroke=\"black\" d=\"M280.5,-152.69C280.5,-146.18 280.5,-136.1 280.5,-127.43\"/>\n",
       "<polygon fill=\"black\" stroke=\"black\" points=\"284,-127.26 280.5,-117.26 277,-127.26 284,-127.26\"/>\n",
       "</g>\n",
       "<!-- 26 -->\n",
       "<g id=\"node27\" class=\"node\">\n",
       "<title>26</title>\n",
       "<text text-anchor=\"middle\" x=\"280.5\" y=\"-54.8\" font-family=\"Times,serif\" font-size=\"14.00\">1</text>\n",
       "</g>\n",
       "<!-- 25&#45;&gt;26 -->\n",
       "<g id=\"edge26\" class=\"edge\">\n",
       "<title>25&#45;&gt;26</title>\n",
       "<path fill=\"none\" stroke=\"black\" d=\"M280.5,-101.69C280.5,-95.18 280.5,-85.1 280.5,-76.43\"/>\n",
       "<polygon fill=\"black\" stroke=\"black\" points=\"284,-76.26 280.5,-66.26 277,-76.26 284,-76.26\"/>\n",
       "</g>\n",
       "</g>\n",
       "</svg>\n"
      ],
      "text/plain": [
       "<graphviz.graphs.Digraph at 0x12258c9a0>"
      ]
     },
     "execution_count": 94,
     "metadata": {},
     "output_type": "execute_result"
    }
   ],
   "source": [
    "display_tree(derivation_tree)"
   ]
  },
  {
   "cell_type": "markdown",
   "metadata": {
    "button": false,
    "new_sheet": false,
    "run_control": {
     "read_only": false
    },
    "slideshow": {
     "slide_type": "subslide"
    }
   },
   "source": [
    "We see that in each step, `expand_node_min_cost()` chooses an expansion that does not increase the number of symbols, eventually closing all open expansions."
   ]
  },
  {
   "cell_type": "markdown",
   "metadata": {
    "slideshow": {
     "slide_type": "slide"
    }
   },
   "source": [
    "## Node Inflation\n",
    "\n",
    "Especially at the beginning of an expansion, we may be interested in getting _as many nodes as possible_ – that is, we'd like to prefer expansions that give us _more_ nonterminals to expand.  This is actually the exact opposite of what `expand_node_min_cost()` gives us, and we can implement a method `expand_node_max_cost()` that will always choose among the nodes with the _highest_ cost:"
   ]
  },
  {
   "cell_type": "code",
   "execution_count": 95,
   "metadata": {
    "button": false,
    "execution": {
     "iopub.execute_input": "2022-08-06T15:52:15.410011Z",
     "iopub.status.busy": "2022-08-06T15:52:15.409659Z",
     "iopub.status.idle": "2022-08-06T15:52:15.411159Z",
     "shell.execute_reply": "2022-08-06T15:52:15.411379Z"
    },
    "new_sheet": false,
    "run_control": {
     "read_only": false
    },
    "slideshow": {
     "slide_type": "fragment"
    }
   },
   "outputs": [],
   "source": [
    "class GrammarFuzzer(GrammarFuzzer):\n",
    "    def expand_node_max_cost(self, node: DerivationTree) -> DerivationTree:\n",
    "        if self.log:\n",
    "            print(\"Expanding\", all_terminals(node), \"at maximum cost\")\n",
    "\n",
    "        return self.expand_node_by_cost(node, max)"
   ]
  },
  {
   "cell_type": "markdown",
   "metadata": {
    "slideshow": {
     "slide_type": "subslide"
    }
   },
   "source": [
    "To illustrate `expand_node_max_cost()`, we can again redefine `expand_node()` to use it, and then use `expand_tree_once()` to show a few expansion steps:"
   ]
  },
  {
   "cell_type": "code",
   "execution_count": 96,
   "metadata": {
    "button": false,
    "execution": {
     "iopub.execute_input": "2022-08-06T15:52:15.414016Z",
     "iopub.status.busy": "2022-08-06T15:52:15.413601Z",
     "iopub.status.idle": "2022-08-06T15:52:15.414779Z",
     "shell.execute_reply": "2022-08-06T15:52:15.415123Z"
    },
    "new_sheet": false,
    "run_control": {
     "read_only": false
    },
    "slideshow": {
     "slide_type": "fragment"
    }
   },
   "outputs": [],
   "source": [
    "class GrammarFuzzer(GrammarFuzzer):\n",
    "    def expand_node(self, node: DerivationTree) -> DerivationTree:\n",
    "        return self.expand_node_max_cost(node)"
   ]
  },
  {
   "cell_type": "code",
   "execution_count": 97,
   "metadata": {
    "button": false,
    "execution": {
     "iopub.execute_input": "2022-08-06T15:52:15.417369Z",
     "iopub.status.busy": "2022-08-06T15:52:15.417029Z",
     "iopub.status.idle": "2022-08-06T15:52:15.418354Z",
     "shell.execute_reply": "2022-08-06T15:52:15.418614Z"
    },
    "new_sheet": false,
    "run_control": {
     "read_only": false
    },
    "slideshow": {
     "slide_type": "subslide"
    }
   },
   "outputs": [],
   "source": [
    "derivation_tree = (\"<start>\",\n",
    "                   [(\"<expr>\",\n",
    "                     [(\"<expr>\", None),\n",
    "                      (\" + \", []),\n",
    "                         (\"<term>\", None)]\n",
    "                     )])"
   ]
  },
  {
   "cell_type": "code",
   "execution_count": 98,
   "metadata": {
    "button": false,
    "execution": {
     "iopub.execute_input": "2022-08-06T15:52:15.421401Z",
     "iopub.status.busy": "2022-08-06T15:52:15.421058Z",
     "iopub.status.idle": "2022-08-06T15:52:15.721856Z",
     "shell.execute_reply": "2022-08-06T15:52:15.722185Z"
    },
    "new_sheet": false,
    "run_control": {
     "read_only": false
    },
    "slideshow": {
     "slide_type": "fragment"
    }
   },
   "outputs": [
    {
     "data": {
      "image/svg+xml": [
       "<?xml version=\"1.0\" encoding=\"UTF-8\" standalone=\"no\"?>\n",
       "<!DOCTYPE svg PUBLIC \"-//W3C//DTD SVG 1.1//EN\"\n",
       " \"http://www.w3.org/Graphics/SVG/1.1/DTD/svg11.dtd\">\n",
       "<!-- Generated by graphviz version 5.0.0 (20220707.1540)\n",
       " -->\n",
       "<!-- Pages: 1 -->\n",
       "<svg width=\"145pt\" height=\"125pt\"\n",
       " viewBox=\"0.00 0.00 145.00 125.00\" xmlns=\"http://www.w3.org/2000/svg\" xmlns:xlink=\"http://www.w3.org/1999/xlink\">\n",
       "<g id=\"graph0\" class=\"graph\" transform=\"scale(1 1) rotate(0) translate(4 121)\">\n",
       "<polygon fill=\"white\" stroke=\"transparent\" points=\"-4,4 -4,-121 141,-121 141,4 -4,4\"/>\n",
       "<!-- 0 -->\n",
       "<g id=\"node1\" class=\"node\">\n",
       "<title>0</title>\n",
       "<text text-anchor=\"middle\" x=\"67.5\" y=\"-105.8\" font-family=\"Times,serif\" font-size=\"14.00\">&lt;start&gt;</text>\n",
       "</g>\n",
       "<!-- 1 -->\n",
       "<g id=\"node2\" class=\"node\">\n",
       "<title>1</title>\n",
       "<text text-anchor=\"middle\" x=\"67.5\" y=\"-54.8\" font-family=\"Times,serif\" font-size=\"14.00\">&lt;expr&gt;</text>\n",
       "</g>\n",
       "<!-- 0&#45;&gt;1 -->\n",
       "<g id=\"edge1\" class=\"edge\">\n",
       "<title>0&#45;&gt;1</title>\n",
       "<path fill=\"none\" stroke=\"black\" d=\"M67.5,-101.69C67.5,-95.18 67.5,-85.1 67.5,-76.43\"/>\n",
       "<polygon fill=\"black\" stroke=\"black\" points=\"71,-76.26 67.5,-66.26 64,-76.26 71,-76.26\"/>\n",
       "</g>\n",
       "<!-- 2 -->\n",
       "<g id=\"node3\" class=\"node\">\n",
       "<title>2</title>\n",
       "<text text-anchor=\"middle\" x=\"20.5\" y=\"-3.8\" font-family=\"Times,serif\" font-size=\"14.00\">&lt;expr&gt;</text>\n",
       "</g>\n",
       "<!-- 1&#45;&gt;2 -->\n",
       "<g id=\"edge2\" class=\"edge\">\n",
       "<title>1&#45;&gt;2</title>\n",
       "<path fill=\"none\" stroke=\"black\" d=\"M60.96,-50.69C54.02,-43.45 42.84,-31.79 33.99,-22.57\"/>\n",
       "<polygon fill=\"black\" stroke=\"black\" points=\"36.43,-20.05 26.98,-15.26 31.38,-24.9 36.43,-20.05\"/>\n",
       "</g>\n",
       "<!-- 3 -->\n",
       "<g id=\"node4\" class=\"node\">\n",
       "<title>3</title>\n",
       "<text text-anchor=\"middle\" x=\"67.5\" y=\"-3.8\" font-family=\"Times,serif\" font-size=\"14.00\"> + </text>\n",
       "</g>\n",
       "<!-- 1&#45;&gt;3 -->\n",
       "<g id=\"edge3\" class=\"edge\">\n",
       "<title>1&#45;&gt;3</title>\n",
       "<path fill=\"none\" stroke=\"black\" d=\"M67.5,-50.69C67.5,-44.18 67.5,-34.1 67.5,-25.43\"/>\n",
       "<polygon fill=\"black\" stroke=\"black\" points=\"71,-25.26 67.5,-15.26 64,-25.26 71,-25.26\"/>\n",
       "</g>\n",
       "<!-- 4 -->\n",
       "<g id=\"node5\" class=\"node\">\n",
       "<title>4</title>\n",
       "<text text-anchor=\"middle\" x=\"115.5\" y=\"-3.8\" font-family=\"Times,serif\" font-size=\"14.00\">&lt;term&gt;</text>\n",
       "</g>\n",
       "<!-- 1&#45;&gt;4 -->\n",
       "<g id=\"edge4\" class=\"edge\">\n",
       "<title>1&#45;&gt;4</title>\n",
       "<path fill=\"none\" stroke=\"black\" d=\"M74.17,-50.69C81.27,-43.45 92.68,-31.79 101.72,-22.57\"/>\n",
       "<polygon fill=\"black\" stroke=\"black\" points=\"104.38,-24.85 108.88,-15.26 99.38,-19.95 104.38,-24.85\"/>\n",
       "</g>\n",
       "</g>\n",
       "</svg>\n"
      ],
      "text/plain": [
       "<graphviz.graphs.Digraph at 0x12258ed40>"
      ]
     },
     "execution_count": 98,
     "metadata": {},
     "output_type": "execute_result"
    }
   ],
   "source": [
    "f = GrammarFuzzer(EXPR_GRAMMAR, log=True)\n",
    "display_tree(derivation_tree)"
   ]
  },
  {
   "cell_type": "code",
   "execution_count": 99,
   "metadata": {
    "execution": {
     "iopub.execute_input": "2022-08-06T15:52:15.724554Z",
     "iopub.status.busy": "2022-08-06T15:52:15.724263Z",
     "iopub.status.idle": "2022-08-06T15:52:15.725408Z",
     "shell.execute_reply": "2022-08-06T15:52:15.725660Z"
    },
    "slideshow": {
     "slide_type": "subslide"
    }
   },
   "outputs": [],
   "source": [
    "# docassert\n",
    "assert f.any_possible_expansions(derivation_tree)"
   ]
  },
  {
   "cell_type": "code",
   "execution_count": 100,
   "metadata": {
    "button": false,
    "execution": {
     "iopub.execute_input": "2022-08-06T15:52:15.730333Z",
     "iopub.status.busy": "2022-08-06T15:52:15.729975Z",
     "iopub.status.idle": "2022-08-06T15:52:16.018941Z",
     "shell.execute_reply": "2022-08-06T15:52:16.019197Z"
    },
    "new_sheet": false,
    "run_control": {
     "read_only": false
    },
    "slideshow": {
     "slide_type": "subslide"
    },
    "tags": []
   },
   "outputs": [
    {
     "name": "stdout",
     "output_type": "stream",
     "text": [
      "Expanding <expr> at maximum cost\n"
     ]
    },
    {
     "data": {
      "image/svg+xml": [
       "<?xml version=\"1.0\" encoding=\"UTF-8\" standalone=\"no\"?>\n",
       "<!DOCTYPE svg PUBLIC \"-//W3C//DTD SVG 1.1//EN\"\n",
       " \"http://www.w3.org/Graphics/SVG/1.1/DTD/svg11.dtd\">\n",
       "<!-- Generated by graphviz version 5.0.0 (20220707.1540)\n",
       " -->\n",
       "<!-- Pages: 1 -->\n",
       "<svg width=\"194pt\" height=\"176pt\"\n",
       " viewBox=\"0.00 0.00 194.00 176.00\" xmlns=\"http://www.w3.org/2000/svg\" xmlns:xlink=\"http://www.w3.org/1999/xlink\">\n",
       "<g id=\"graph0\" class=\"graph\" transform=\"scale(1 1) rotate(0) translate(4 172)\">\n",
       "<polygon fill=\"white\" stroke=\"transparent\" points=\"-4,4 -4,-172 190,-172 190,4 -4,4\"/>\n",
       "<!-- 0 -->\n",
       "<g id=\"node1\" class=\"node\">\n",
       "<title>0</title>\n",
       "<text text-anchor=\"middle\" x=\"116.5\" y=\"-156.8\" font-family=\"Times,serif\" font-size=\"14.00\">&lt;start&gt;</text>\n",
       "</g>\n",
       "<!-- 1 -->\n",
       "<g id=\"node2\" class=\"node\">\n",
       "<title>1</title>\n",
       "<text text-anchor=\"middle\" x=\"116.5\" y=\"-105.8\" font-family=\"Times,serif\" font-size=\"14.00\">&lt;expr&gt;</text>\n",
       "</g>\n",
       "<!-- 0&#45;&gt;1 -->\n",
       "<g id=\"edge1\" class=\"edge\">\n",
       "<title>0&#45;&gt;1</title>\n",
       "<path fill=\"none\" stroke=\"black\" d=\"M116.5,-152.69C116.5,-146.18 116.5,-136.1 116.5,-127.43\"/>\n",
       "<polygon fill=\"black\" stroke=\"black\" points=\"120,-127.26 116.5,-117.26 113,-127.26 120,-127.26\"/>\n",
       "</g>\n",
       "<!-- 2 -->\n",
       "<g id=\"node3\" class=\"node\">\n",
       "<title>2</title>\n",
       "<text text-anchor=\"middle\" x=\"69.5\" y=\"-54.8\" font-family=\"Times,serif\" font-size=\"14.00\">&lt;expr&gt;</text>\n",
       "</g>\n",
       "<!-- 1&#45;&gt;2 -->\n",
       "<g id=\"edge2\" class=\"edge\">\n",
       "<title>1&#45;&gt;2</title>\n",
       "<path fill=\"none\" stroke=\"black\" d=\"M109.96,-101.69C103.02,-94.45 91.84,-82.79 82.99,-73.57\"/>\n",
       "<polygon fill=\"black\" stroke=\"black\" points=\"85.43,-71.05 75.98,-66.26 80.38,-75.9 85.43,-71.05\"/>\n",
       "</g>\n",
       "<!-- 6 -->\n",
       "<g id=\"node7\" class=\"node\">\n",
       "<title>6</title>\n",
       "<text text-anchor=\"middle\" x=\"116.5\" y=\"-54.8\" font-family=\"Times,serif\" font-size=\"14.00\"> + </text>\n",
       "</g>\n",
       "<!-- 1&#45;&gt;6 -->\n",
       "<g id=\"edge6\" class=\"edge\">\n",
       "<title>1&#45;&gt;6</title>\n",
       "<path fill=\"none\" stroke=\"black\" d=\"M116.5,-101.69C116.5,-95.18 116.5,-85.1 116.5,-76.43\"/>\n",
       "<polygon fill=\"black\" stroke=\"black\" points=\"120,-76.26 116.5,-66.26 113,-76.26 120,-76.26\"/>\n",
       "</g>\n",
       "<!-- 7 -->\n",
       "<g id=\"node8\" class=\"node\">\n",
       "<title>7</title>\n",
       "<text text-anchor=\"middle\" x=\"164.5\" y=\"-54.8\" font-family=\"Times,serif\" font-size=\"14.00\">&lt;term&gt;</text>\n",
       "</g>\n",
       "<!-- 1&#45;&gt;7 -->\n",
       "<g id=\"edge7\" class=\"edge\">\n",
       "<title>1&#45;&gt;7</title>\n",
       "<path fill=\"none\" stroke=\"black\" d=\"M123.17,-101.69C130.27,-94.45 141.68,-82.79 150.72,-73.57\"/>\n",
       "<polygon fill=\"black\" stroke=\"black\" points=\"153.38,-75.85 157.88,-66.26 148.38,-70.95 153.38,-75.85\"/>\n",
       "</g>\n",
       "<!-- 3 -->\n",
       "<g id=\"node4\" class=\"node\">\n",
       "<title>3</title>\n",
       "<text text-anchor=\"middle\" x=\"21.5\" y=\"-3.8\" font-family=\"Times,serif\" font-size=\"14.00\">&lt;term&gt;</text>\n",
       "</g>\n",
       "<!-- 2&#45;&gt;3 -->\n",
       "<g id=\"edge3\" class=\"edge\">\n",
       "<title>2&#45;&gt;3</title>\n",
       "<path fill=\"none\" stroke=\"black\" d=\"M62.83,-50.69C55.73,-43.45 44.32,-31.79 35.28,-22.57\"/>\n",
       "<polygon fill=\"black\" stroke=\"black\" points=\"37.62,-19.95 28.12,-15.26 32.62,-24.85 37.62,-19.95\"/>\n",
       "</g>\n",
       "<!-- 4 -->\n",
       "<g id=\"node5\" class=\"node\">\n",
       "<title>4</title>\n",
       "<text text-anchor=\"middle\" x=\"69.5\" y=\"-3.8\" font-family=\"Times,serif\" font-size=\"14.00\"> + </text>\n",
       "</g>\n",
       "<!-- 2&#45;&gt;4 -->\n",
       "<g id=\"edge4\" class=\"edge\">\n",
       "<title>2&#45;&gt;4</title>\n",
       "<path fill=\"none\" stroke=\"black\" d=\"M69.5,-50.69C69.5,-44.18 69.5,-34.1 69.5,-25.43\"/>\n",
       "<polygon fill=\"black\" stroke=\"black\" points=\"73,-25.26 69.5,-15.26 66,-25.26 73,-25.26\"/>\n",
       "</g>\n",
       "<!-- 5 -->\n",
       "<g id=\"node6\" class=\"node\">\n",
       "<title>5</title>\n",
       "<text text-anchor=\"middle\" x=\"116.5\" y=\"-3.8\" font-family=\"Times,serif\" font-size=\"14.00\">&lt;expr&gt;</text>\n",
       "</g>\n",
       "<!-- 2&#45;&gt;5 -->\n",
       "<g id=\"edge5\" class=\"edge\">\n",
       "<title>2&#45;&gt;5</title>\n",
       "<path fill=\"none\" stroke=\"black\" d=\"M76.04,-50.69C82.98,-43.45 94.16,-31.79 103.01,-22.57\"/>\n",
       "<polygon fill=\"black\" stroke=\"black\" points=\"105.62,-24.9 110.02,-15.26 100.57,-20.05 105.62,-24.9\"/>\n",
       "</g>\n",
       "</g>\n",
       "</svg>\n"
      ],
      "text/plain": [
       "<graphviz.graphs.Digraph at 0x12258e200>"
      ]
     },
     "execution_count": 100,
     "metadata": {},
     "output_type": "execute_result"
    }
   ],
   "source": [
    "if f.any_possible_expansions(derivation_tree):\n",
    "    derivation_tree = f.expand_tree_once(derivation_tree)\n",
    "display_tree(derivation_tree)"
   ]
  },
  {
   "cell_type": "code",
   "execution_count": 101,
   "metadata": {
    "execution": {
     "iopub.execute_input": "2022-08-06T15:52:16.021828Z",
     "iopub.status.busy": "2022-08-06T15:52:16.021475Z",
     "iopub.status.idle": "2022-08-06T15:52:16.022566Z",
     "shell.execute_reply": "2022-08-06T15:52:16.022798Z"
    },
    "slideshow": {
     "slide_type": "fragment"
    }
   },
   "outputs": [],
   "source": [
    "# docassert\n",
    "assert f.any_possible_expansions(derivation_tree)"
   ]
  },
  {
   "cell_type": "code",
   "execution_count": 102,
   "metadata": {
    "button": false,
    "execution": {
     "iopub.execute_input": "2022-08-06T15:52:16.028985Z",
     "iopub.status.busy": "2022-08-06T15:52:16.028678Z",
     "iopub.status.idle": "2022-08-06T15:52:16.303600Z",
     "shell.execute_reply": "2022-08-06T15:52:16.303903Z"
    },
    "new_sheet": false,
    "run_control": {
     "read_only": false
    },
    "slideshow": {
     "slide_type": "subslide"
    }
   },
   "outputs": [
    {
     "name": "stdout",
     "output_type": "stream",
     "text": [
      "Expanding <term> at maximum cost\n"
     ]
    },
    {
     "data": {
      "image/svg+xml": [
       "<?xml version=\"1.0\" encoding=\"UTF-8\" standalone=\"no\"?>\n",
       "<!DOCTYPE svg PUBLIC \"-//W3C//DTD SVG 1.1//EN\"\n",
       " \"http://www.w3.org/Graphics/SVG/1.1/DTD/svg11.dtd\">\n",
       "<!-- Generated by graphviz version 5.0.0 (20220707.1540)\n",
       " -->\n",
       "<!-- Pages: 1 -->\n",
       "<svg width=\"304pt\" height=\"176pt\"\n",
       " viewBox=\"0.00 0.00 304.00 176.00\" xmlns=\"http://www.w3.org/2000/svg\" xmlns:xlink=\"http://www.w3.org/1999/xlink\">\n",
       "<g id=\"graph0\" class=\"graph\" transform=\"scale(1 1) rotate(0) translate(4 172)\">\n",
       "<polygon fill=\"white\" stroke=\"transparent\" points=\"-4,4 -4,-172 300,-172 300,4 -4,4\"/>\n",
       "<!-- 0 -->\n",
       "<g id=\"node1\" class=\"node\">\n",
       "<title>0</title>\n",
       "<text text-anchor=\"middle\" x=\"148.5\" y=\"-156.8\" font-family=\"Times,serif\" font-size=\"14.00\">&lt;start&gt;</text>\n",
       "</g>\n",
       "<!-- 1 -->\n",
       "<g id=\"node2\" class=\"node\">\n",
       "<title>1</title>\n",
       "<text text-anchor=\"middle\" x=\"148.5\" y=\"-105.8\" font-family=\"Times,serif\" font-size=\"14.00\">&lt;expr&gt;</text>\n",
       "</g>\n",
       "<!-- 0&#45;&gt;1 -->\n",
       "<g id=\"edge1\" class=\"edge\">\n",
       "<title>0&#45;&gt;1</title>\n",
       "<path fill=\"none\" stroke=\"black\" d=\"M148.5,-152.69C148.5,-146.18 148.5,-136.1 148.5,-127.43\"/>\n",
       "<polygon fill=\"black\" stroke=\"black\" points=\"152,-127.26 148.5,-117.26 145,-127.26 152,-127.26\"/>\n",
       "</g>\n",
       "<!-- 2 -->\n",
       "<g id=\"node3\" class=\"node\">\n",
       "<title>2</title>\n",
       "<text text-anchor=\"middle\" x=\"94.5\" y=\"-54.8\" font-family=\"Times,serif\" font-size=\"14.00\">&lt;expr&gt;</text>\n",
       "</g>\n",
       "<!-- 1&#45;&gt;2 -->\n",
       "<g id=\"edge2\" class=\"edge\">\n",
       "<title>1&#45;&gt;2</title>\n",
       "<path fill=\"none\" stroke=\"black\" d=\"M140.99,-101.69C132.85,-94.3 119.65,-82.32 109.39,-73.01\"/>\n",
       "<polygon fill=\"black\" stroke=\"black\" points=\"111.7,-70.38 101.94,-66.26 107,-75.57 111.7,-70.38\"/>\n",
       "</g>\n",
       "<!-- 6 -->\n",
       "<g id=\"node7\" class=\"node\">\n",
       "<title>6</title>\n",
       "<text text-anchor=\"middle\" x=\"148.5\" y=\"-54.8\" font-family=\"Times,serif\" font-size=\"14.00\"> + </text>\n",
       "</g>\n",
       "<!-- 1&#45;&gt;6 -->\n",
       "<g id=\"edge6\" class=\"edge\">\n",
       "<title>1&#45;&gt;6</title>\n",
       "<path fill=\"none\" stroke=\"black\" d=\"M148.5,-101.69C148.5,-95.18 148.5,-85.1 148.5,-76.43\"/>\n",
       "<polygon fill=\"black\" stroke=\"black\" points=\"152,-76.26 148.5,-66.26 145,-76.26 152,-76.26\"/>\n",
       "</g>\n",
       "<!-- 7 -->\n",
       "<g id=\"node8\" class=\"node\">\n",
       "<title>7</title>\n",
       "<text text-anchor=\"middle\" x=\"200.5\" y=\"-54.8\" font-family=\"Times,serif\" font-size=\"14.00\">&lt;term&gt;</text>\n",
       "</g>\n",
       "<!-- 1&#45;&gt;7 -->\n",
       "<g id=\"edge7\" class=\"edge\">\n",
       "<title>1&#45;&gt;7</title>\n",
       "<path fill=\"none\" stroke=\"black\" d=\"M155.73,-101.69C163.49,-94.37 176.03,-82.56 185.87,-73.29\"/>\n",
       "<polygon fill=\"black\" stroke=\"black\" points=\"188.45,-75.66 193.33,-66.26 183.65,-70.57 188.45,-75.66\"/>\n",
       "</g>\n",
       "<!-- 3 -->\n",
       "<g id=\"node4\" class=\"node\">\n",
       "<title>3</title>\n",
       "<text text-anchor=\"middle\" x=\"21.5\" y=\"-3.8\" font-family=\"Times,serif\" font-size=\"14.00\">&lt;term&gt;</text>\n",
       "</g>\n",
       "<!-- 2&#45;&gt;3 -->\n",
       "<g id=\"edge3\" class=\"edge\">\n",
       "<title>2&#45;&gt;3</title>\n",
       "<path fill=\"none\" stroke=\"black\" d=\"M84.65,-50.89C73.16,-43.18 53.92,-30.26 39.69,-20.71\"/>\n",
       "<polygon fill=\"black\" stroke=\"black\" points=\"41.44,-17.67 31.19,-15 37.54,-23.48 41.44,-17.67\"/>\n",
       "</g>\n",
       "<!-- 4 -->\n",
       "<g id=\"node5\" class=\"node\">\n",
       "<title>4</title>\n",
       "<text text-anchor=\"middle\" x=\"69.5\" y=\"-3.8\" font-family=\"Times,serif\" font-size=\"14.00\"> + </text>\n",
       "</g>\n",
       "<!-- 2&#45;&gt;4 -->\n",
       "<g id=\"edge4\" class=\"edge\">\n",
       "<title>2&#45;&gt;4</title>\n",
       "<path fill=\"none\" stroke=\"black\" d=\"M91.02,-50.69C87.55,-43.88 82.1,-33.19 77.55,-24.27\"/>\n",
       "<polygon fill=\"black\" stroke=\"black\" points=\"80.61,-22.57 72.95,-15.26 74.37,-25.75 80.61,-22.57\"/>\n",
       "</g>\n",
       "<!-- 5 -->\n",
       "<g id=\"node6\" class=\"node\">\n",
       "<title>5</title>\n",
       "<text text-anchor=\"middle\" x=\"116.5\" y=\"-3.8\" font-family=\"Times,serif\" font-size=\"14.00\">&lt;expr&gt;</text>\n",
       "</g>\n",
       "<!-- 2&#45;&gt;5 -->\n",
       "<g id=\"edge5\" class=\"edge\">\n",
       "<title>2&#45;&gt;5</title>\n",
       "<path fill=\"none\" stroke=\"black\" d=\"M97.56,-50.69C100.58,-43.96 105.31,-33.42 109.29,-24.56\"/>\n",
       "<polygon fill=\"black\" stroke=\"black\" points=\"112.56,-25.81 113.47,-15.26 106.18,-22.94 112.56,-25.81\"/>\n",
       "</g>\n",
       "<!-- 8 -->\n",
       "<g id=\"node9\" class=\"node\">\n",
       "<title>8</title>\n",
       "<text text-anchor=\"middle\" x=\"179.5\" y=\"-3.8\" font-family=\"Times,serif\" font-size=\"14.00\">&lt;factor&gt;</text>\n",
       "</g>\n",
       "<!-- 7&#45;&gt;8 -->\n",
       "<g id=\"edge8\" class=\"edge\">\n",
       "<title>7&#45;&gt;8</title>\n",
       "<path fill=\"none\" stroke=\"black\" d=\"M197.58,-50.69C194.7,-43.96 190.18,-33.42 186.38,-24.56\"/>\n",
       "<polygon fill=\"black\" stroke=\"black\" points=\"189.55,-23.07 182.4,-15.26 183.12,-25.83 189.55,-23.07\"/>\n",
       "</g>\n",
       "<!-- 9 -->\n",
       "<g id=\"node10\" class=\"node\">\n",
       "<title>9</title>\n",
       "<text text-anchor=\"middle\" x=\"228.5\" y=\"-3.8\" font-family=\"Times,serif\" font-size=\"14.00\"> / </text>\n",
       "</g>\n",
       "<!-- 7&#45;&gt;9 -->\n",
       "<g id=\"edge9\" class=\"edge\">\n",
       "<title>7&#45;&gt;9</title>\n",
       "<path fill=\"none\" stroke=\"black\" d=\"M204.39,-50.69C208.32,-43.81 214.52,-32.96 219.65,-23.98\"/>\n",
       "<polygon fill=\"black\" stroke=\"black\" points=\"222.72,-25.67 224.64,-15.26 216.64,-22.2 222.72,-25.67\"/>\n",
       "</g>\n",
       "<!-- 10 -->\n",
       "<g id=\"node11\" class=\"node\">\n",
       "<title>10</title>\n",
       "<text text-anchor=\"middle\" x=\"274.5\" y=\"-3.8\" font-family=\"Times,serif\" font-size=\"14.00\">&lt;term&gt;</text>\n",
       "</g>\n",
       "<!-- 7&#45;&gt;10 -->\n",
       "<g id=\"edge10\" class=\"edge\">\n",
       "<title>7&#45;&gt;10</title>\n",
       "<path fill=\"none\" stroke=\"black\" d=\"M210.48,-50.89C222.13,-43.18 241.64,-30.26 256.07,-20.71\"/>\n",
       "<polygon fill=\"black\" stroke=\"black\" points=\"258.27,-23.44 264.68,-15 254.41,-17.61 258.27,-23.44\"/>\n",
       "</g>\n",
       "</g>\n",
       "</svg>\n"
      ],
      "text/plain": [
       "<graphviz.graphs.Digraph at 0x12258e920>"
      ]
     },
     "execution_count": 102,
     "metadata": {},
     "output_type": "execute_result"
    }
   ],
   "source": [
    "if f.any_possible_expansions(derivation_tree):\n",
    "    derivation_tree = f.expand_tree_once(derivation_tree)\n",
    "display_tree(derivation_tree)"
   ]
  },
  {
   "cell_type": "code",
   "execution_count": 103,
   "metadata": {
    "execution": {
     "iopub.execute_input": "2022-08-06T15:52:16.306333Z",
     "iopub.status.busy": "2022-08-06T15:52:16.305963Z",
     "iopub.status.idle": "2022-08-06T15:52:16.307227Z",
     "shell.execute_reply": "2022-08-06T15:52:16.307486Z"
    },
    "slideshow": {
     "slide_type": "fragment"
    }
   },
   "outputs": [],
   "source": [
    "# docassert\n",
    "assert f.any_possible_expansions(derivation_tree)"
   ]
  },
  {
   "cell_type": "code",
   "execution_count": 104,
   "metadata": {
    "button": false,
    "execution": {
     "iopub.execute_input": "2022-08-06T15:52:16.311897Z",
     "iopub.status.busy": "2022-08-06T15:52:16.310001Z",
     "iopub.status.idle": "2022-08-06T15:52:16.609665Z",
     "shell.execute_reply": "2022-08-06T15:52:16.609913Z"
    },
    "new_sheet": false,
    "run_control": {
     "read_only": false
    },
    "slideshow": {
     "slide_type": "subslide"
    }
   },
   "outputs": [
    {
     "name": "stdout",
     "output_type": "stream",
     "text": [
      "Expanding <factor> at maximum cost\n"
     ]
    },
    {
     "data": {
      "image/svg+xml": [
       "<?xml version=\"1.0\" encoding=\"UTF-8\" standalone=\"no\"?>\n",
       "<!DOCTYPE svg PUBLIC \"-//W3C//DTD SVG 1.1//EN\"\n",
       " \"http://www.w3.org/Graphics/SVG/1.1/DTD/svg11.dtd\">\n",
       "<!-- Generated by graphviz version 5.0.0 (20220707.1540)\n",
       " -->\n",
       "<!-- Pages: 1 -->\n",
       "<svg width=\"304pt\" height=\"227pt\"\n",
       " viewBox=\"0.00 0.00 304.00 227.00\" xmlns=\"http://www.w3.org/2000/svg\" xmlns:xlink=\"http://www.w3.org/1999/xlink\">\n",
       "<g id=\"graph0\" class=\"graph\" transform=\"scale(1 1) rotate(0) translate(4 223)\">\n",
       "<polygon fill=\"white\" stroke=\"transparent\" points=\"-4,4 -4,-223 300,-223 300,4 -4,4\"/>\n",
       "<!-- 0 -->\n",
       "<g id=\"node1\" class=\"node\">\n",
       "<title>0</title>\n",
       "<text text-anchor=\"middle\" x=\"148.5\" y=\"-207.8\" font-family=\"Times,serif\" font-size=\"14.00\">&lt;start&gt;</text>\n",
       "</g>\n",
       "<!-- 1 -->\n",
       "<g id=\"node2\" class=\"node\">\n",
       "<title>1</title>\n",
       "<text text-anchor=\"middle\" x=\"148.5\" y=\"-156.8\" font-family=\"Times,serif\" font-size=\"14.00\">&lt;expr&gt;</text>\n",
       "</g>\n",
       "<!-- 0&#45;&gt;1 -->\n",
       "<g id=\"edge1\" class=\"edge\">\n",
       "<title>0&#45;&gt;1</title>\n",
       "<path fill=\"none\" stroke=\"black\" d=\"M148.5,-203.69C148.5,-197.18 148.5,-187.1 148.5,-178.43\"/>\n",
       "<polygon fill=\"black\" stroke=\"black\" points=\"152,-178.26 148.5,-168.26 145,-178.26 152,-178.26\"/>\n",
       "</g>\n",
       "<!-- 2 -->\n",
       "<g id=\"node3\" class=\"node\">\n",
       "<title>2</title>\n",
       "<text text-anchor=\"middle\" x=\"94.5\" y=\"-105.8\" font-family=\"Times,serif\" font-size=\"14.00\">&lt;expr&gt;</text>\n",
       "</g>\n",
       "<!-- 1&#45;&gt;2 -->\n",
       "<g id=\"edge2\" class=\"edge\">\n",
       "<title>1&#45;&gt;2</title>\n",
       "<path fill=\"none\" stroke=\"black\" d=\"M140.99,-152.69C132.85,-145.3 119.65,-133.32 109.39,-124.01\"/>\n",
       "<polygon fill=\"black\" stroke=\"black\" points=\"111.7,-121.38 101.94,-117.26 107,-126.57 111.7,-121.38\"/>\n",
       "</g>\n",
       "<!-- 6 -->\n",
       "<g id=\"node7\" class=\"node\">\n",
       "<title>6</title>\n",
       "<text text-anchor=\"middle\" x=\"148.5\" y=\"-105.8\" font-family=\"Times,serif\" font-size=\"14.00\"> + </text>\n",
       "</g>\n",
       "<!-- 1&#45;&gt;6 -->\n",
       "<g id=\"edge6\" class=\"edge\">\n",
       "<title>1&#45;&gt;6</title>\n",
       "<path fill=\"none\" stroke=\"black\" d=\"M148.5,-152.69C148.5,-146.18 148.5,-136.1 148.5,-127.43\"/>\n",
       "<polygon fill=\"black\" stroke=\"black\" points=\"152,-127.26 148.5,-117.26 145,-127.26 152,-127.26\"/>\n",
       "</g>\n",
       "<!-- 7 -->\n",
       "<g id=\"node8\" class=\"node\">\n",
       "<title>7</title>\n",
       "<text text-anchor=\"middle\" x=\"200.5\" y=\"-105.8\" font-family=\"Times,serif\" font-size=\"14.00\">&lt;term&gt;</text>\n",
       "</g>\n",
       "<!-- 1&#45;&gt;7 -->\n",
       "<g id=\"edge7\" class=\"edge\">\n",
       "<title>1&#45;&gt;7</title>\n",
       "<path fill=\"none\" stroke=\"black\" d=\"M155.73,-152.69C163.49,-145.37 176.03,-133.56 185.87,-124.29\"/>\n",
       "<polygon fill=\"black\" stroke=\"black\" points=\"188.45,-126.66 193.33,-117.26 183.65,-121.57 188.45,-126.66\"/>\n",
       "</g>\n",
       "<!-- 3 -->\n",
       "<g id=\"node4\" class=\"node\">\n",
       "<title>3</title>\n",
       "<text text-anchor=\"middle\" x=\"21.5\" y=\"-54.8\" font-family=\"Times,serif\" font-size=\"14.00\">&lt;term&gt;</text>\n",
       "</g>\n",
       "<!-- 2&#45;&gt;3 -->\n",
       "<g id=\"edge3\" class=\"edge\">\n",
       "<title>2&#45;&gt;3</title>\n",
       "<path fill=\"none\" stroke=\"black\" d=\"M84.65,-101.89C73.16,-94.18 53.92,-81.26 39.69,-71.71\"/>\n",
       "<polygon fill=\"black\" stroke=\"black\" points=\"41.44,-68.67 31.19,-66 37.54,-74.48 41.44,-68.67\"/>\n",
       "</g>\n",
       "<!-- 4 -->\n",
       "<g id=\"node5\" class=\"node\">\n",
       "<title>4</title>\n",
       "<text text-anchor=\"middle\" x=\"69.5\" y=\"-54.8\" font-family=\"Times,serif\" font-size=\"14.00\"> + </text>\n",
       "</g>\n",
       "<!-- 2&#45;&gt;4 -->\n",
       "<g id=\"edge4\" class=\"edge\">\n",
       "<title>2&#45;&gt;4</title>\n",
       "<path fill=\"none\" stroke=\"black\" d=\"M91.02,-101.69C87.55,-94.88 82.1,-84.19 77.55,-75.27\"/>\n",
       "<polygon fill=\"black\" stroke=\"black\" points=\"80.61,-73.57 72.95,-66.26 74.37,-76.75 80.61,-73.57\"/>\n",
       "</g>\n",
       "<!-- 5 -->\n",
       "<g id=\"node6\" class=\"node\">\n",
       "<title>5</title>\n",
       "<text text-anchor=\"middle\" x=\"116.5\" y=\"-54.8\" font-family=\"Times,serif\" font-size=\"14.00\">&lt;expr&gt;</text>\n",
       "</g>\n",
       "<!-- 2&#45;&gt;5 -->\n",
       "<g id=\"edge5\" class=\"edge\">\n",
       "<title>2&#45;&gt;5</title>\n",
       "<path fill=\"none\" stroke=\"black\" d=\"M97.56,-101.69C100.58,-94.96 105.31,-84.42 109.29,-75.56\"/>\n",
       "<polygon fill=\"black\" stroke=\"black\" points=\"112.56,-76.81 113.47,-66.26 106.18,-73.94 112.56,-76.81\"/>\n",
       "</g>\n",
       "<!-- 8 -->\n",
       "<g id=\"node9\" class=\"node\">\n",
       "<title>8</title>\n",
       "<text text-anchor=\"middle\" x=\"179.5\" y=\"-54.8\" font-family=\"Times,serif\" font-size=\"14.00\">&lt;factor&gt;</text>\n",
       "</g>\n",
       "<!-- 7&#45;&gt;8 -->\n",
       "<g id=\"edge8\" class=\"edge\">\n",
       "<title>7&#45;&gt;8</title>\n",
       "<path fill=\"none\" stroke=\"black\" d=\"M197.58,-101.69C194.7,-94.96 190.18,-84.42 186.38,-75.56\"/>\n",
       "<polygon fill=\"black\" stroke=\"black\" points=\"189.55,-74.07 182.4,-66.26 183.12,-76.83 189.55,-74.07\"/>\n",
       "</g>\n",
       "<!-- 12 -->\n",
       "<g id=\"node13\" class=\"node\">\n",
       "<title>12</title>\n",
       "<text text-anchor=\"middle\" x=\"228.5\" y=\"-54.8\" font-family=\"Times,serif\" font-size=\"14.00\"> / </text>\n",
       "</g>\n",
       "<!-- 7&#45;&gt;12 -->\n",
       "<g id=\"edge12\" class=\"edge\">\n",
       "<title>7&#45;&gt;12</title>\n",
       "<path fill=\"none\" stroke=\"black\" d=\"M204.39,-101.69C208.32,-94.81 214.52,-83.96 219.65,-74.98\"/>\n",
       "<polygon fill=\"black\" stroke=\"black\" points=\"222.72,-76.67 224.64,-66.26 216.64,-73.2 222.72,-76.67\"/>\n",
       "</g>\n",
       "<!-- 13 -->\n",
       "<g id=\"node14\" class=\"node\">\n",
       "<title>13</title>\n",
       "<text text-anchor=\"middle\" x=\"274.5\" y=\"-54.8\" font-family=\"Times,serif\" font-size=\"14.00\">&lt;term&gt;</text>\n",
       "</g>\n",
       "<!-- 7&#45;&gt;13 -->\n",
       "<g id=\"edge13\" class=\"edge\">\n",
       "<title>7&#45;&gt;13</title>\n",
       "<path fill=\"none\" stroke=\"black\" d=\"M210.48,-101.89C222.13,-94.18 241.64,-81.26 256.07,-71.71\"/>\n",
       "<polygon fill=\"black\" stroke=\"black\" points=\"258.27,-74.44 264.68,-66 254.41,-68.61 258.27,-74.44\"/>\n",
       "</g>\n",
       "<!-- 9 -->\n",
       "<g id=\"node10\" class=\"node\">\n",
       "<title>9</title>\n",
       "<text text-anchor=\"middle\" x=\"138.5\" y=\"-3.8\" font-family=\"Times,serif\" font-size=\"14.00\">(</text>\n",
       "</g>\n",
       "<!-- 8&#45;&gt;9 -->\n",
       "<g id=\"edge9\" class=\"edge\">\n",
       "<title>8&#45;&gt;9</title>\n",
       "<path fill=\"none\" stroke=\"black\" d=\"M173.8,-50.69C167.07,-42.64 155.77,-29.14 147.77,-19.58\"/>\n",
       "<polygon fill=\"black\" stroke=\"black\" points=\"150.27,-17.11 141.17,-11.69 144.9,-21.6 150.27,-17.11\"/>\n",
       "</g>\n",
       "<!-- 10 -->\n",
       "<g id=\"node11\" class=\"node\">\n",
       "<title>10</title>\n",
       "<text text-anchor=\"middle\" x=\"179.5\" y=\"-3.8\" font-family=\"Times,serif\" font-size=\"14.00\">&lt;expr&gt;</text>\n",
       "</g>\n",
       "<!-- 8&#45;&gt;10 -->\n",
       "<g id=\"edge10\" class=\"edge\">\n",
       "<title>8&#45;&gt;10</title>\n",
       "<path fill=\"none\" stroke=\"black\" d=\"M179.5,-50.69C179.5,-44.18 179.5,-34.1 179.5,-25.43\"/>\n",
       "<polygon fill=\"black\" stroke=\"black\" points=\"183,-25.26 179.5,-15.26 176,-25.26 183,-25.26\"/>\n",
       "</g>\n",
       "<!-- 11 -->\n",
       "<g id=\"node12\" class=\"node\">\n",
       "<title>11</title>\n",
       "<text text-anchor=\"middle\" x=\"220.5\" y=\"-3.8\" font-family=\"Times,serif\" font-size=\"14.00\">)</text>\n",
       "</g>\n",
       "<!-- 8&#45;&gt;11 -->\n",
       "<g id=\"edge11\" class=\"edge\">\n",
       "<title>8&#45;&gt;11</title>\n",
       "<path fill=\"none\" stroke=\"black\" d=\"M185.2,-50.69C191.93,-42.64 203.23,-29.14 211.23,-19.58\"/>\n",
       "<polygon fill=\"black\" stroke=\"black\" points=\"214.1,-21.6 217.83,-11.69 208.73,-17.11 214.1,-21.6\"/>\n",
       "</g>\n",
       "</g>\n",
       "</svg>\n"
      ],
      "text/plain": [
       "<graphviz.graphs.Digraph at 0x12258d6f0>"
      ]
     },
     "execution_count": 104,
     "metadata": {},
     "output_type": "execute_result"
    }
   ],
   "source": [
    "if f.any_possible_expansions(derivation_tree):\n",
    "    derivation_tree = f.expand_tree_once(derivation_tree)\n",
    "display_tree(derivation_tree)"
   ]
  },
  {
   "cell_type": "markdown",
   "metadata": {
    "slideshow": {
     "slide_type": "fragment"
    }
   },
   "source": [
    "We see that with each step, the number of nonterminals increases.  Obviously, we have to put a limit on this number."
   ]
  },
  {
   "cell_type": "markdown",
   "metadata": {
    "button": false,
    "new_sheet": false,
    "run_control": {
     "read_only": false
    },
    "slideshow": {
     "slide_type": "slide"
    }
   },
   "source": [
    "## Three Expansion Phases\n",
    "\n",
    "We can now put all three phases together in a single function `expand_tree()` which will work as follows:\n",
    "\n",
    "1. **Max cost expansion.** Expand the tree using expansions with maximum cost until we have at least `min_nonterminals` nonterminals.  This phase can be easily skipped by setting `min_nonterminals` to zero.\n",
    "2. **Random expansion.**  Keep on expanding the tree randomly until we reach `max_nonterminals` nonterminals.\n",
    "3. **Min cost expansion.** Close the expansion with minimum cost.\n",
    "\n",
    "We implement these three phases by having `expand_node` reference the expansion method to apply.  This is controlled by setting `expand_node` (the method reference) to first `expand_node_max_cost` (i.e., calling `expand_node()` invokes `expand_node_max_cost()`), then `expand_node_randomly`, and finally `expand_node_min_cost`.  In the first two phases, we also set a maximum limit of `min_nonterminals` and `max_nonterminals`, respectively."
   ]
  },
  {
   "cell_type": "markdown",
   "metadata": {
    "slideshow": {
     "slide_type": "subslide"
    }
   },
   "source": [
    "#### Excursion: Implementation of three-phase `expand_tree()`"
   ]
  },
  {
   "cell_type": "code",
   "execution_count": 105,
   "metadata": {
    "button": false,
    "execution": {
     "iopub.execute_input": "2022-08-06T15:52:16.614419Z",
     "iopub.status.busy": "2022-08-06T15:52:16.614088Z",
     "iopub.status.idle": "2022-08-06T15:52:16.615346Z",
     "shell.execute_reply": "2022-08-06T15:52:16.615589Z"
    },
    "new_sheet": false,
    "run_control": {
     "read_only": false
    },
    "slideshow": {
     "slide_type": "subslide"
    }
   },
   "outputs": [],
   "source": [
    "class GrammarFuzzer(GrammarFuzzer):\n",
    "    def log_tree(self, tree: DerivationTree) -> None:\n",
    "        \"\"\"Output a tree if self.log is set; if self.display is also set, show the tree structure\"\"\"\n",
    "        if self.log:\n",
    "            print(\"Tree:\", all_terminals(tree))\n",
    "            if self.disp:\n",
    "                display(display_tree(tree))\n",
    "            # print(self.possible_expansions(tree), \"possible expansion(s) left\")\n",
    "\n",
    "    def expand_tree_with_strategy(self, tree: DerivationTree,\n",
    "                                  expand_node_method: Callable,\n",
    "                                  limit: Optional[int] = None):\n",
    "        \"\"\"Expand tree using `expand_node_method` as node expansion function\n",
    "        until the number of possible expansions reaches `limit`.\"\"\"\n",
    "        self.expand_node = expand_node_method  # type: ignore\n",
    "        while ((limit is None\n",
    "                or self.possible_expansions(tree) < limit)\n",
    "               and self.any_possible_expansions(tree)):\n",
    "            tree = self.expand_tree_once(tree)\n",
    "            self.log_tree(tree)\n",
    "        return tree\n",
    "\n",
    "    def expand_tree(self, tree: DerivationTree) -> DerivationTree:\n",
    "        \"\"\"Expand `tree` in a three-phase strategy until all expansions are complete.\"\"\"\n",
    "        self.log_tree(tree)\n",
    "        tree = self.expand_tree_with_strategy(\n",
    "            tree, self.expand_node_max_cost, self.min_nonterminals)\n",
    "        tree = self.expand_tree_with_strategy(\n",
    "            tree, self.expand_node_randomly, self.max_nonterminals)\n",
    "        tree = self.expand_tree_with_strategy(\n",
    "            tree, self.expand_node_min_cost)\n",
    "\n",
    "        assert self.possible_expansions(tree) == 0\n",
    "\n",
    "        return tree"
   ]
  },
  {
   "cell_type": "markdown",
   "metadata": {
    "slideshow": {
     "slide_type": "subslide"
    }
   },
   "source": [
    "#### End of Excursion"
   ]
  },
  {
   "cell_type": "markdown",
   "metadata": {
    "slideshow": {
     "slide_type": "subslide"
    }
   },
   "source": [
    "Let us try this out on our example. We start with a half-expanded derivation tree:"
   ]
  },
  {
   "cell_type": "code",
   "execution_count": 106,
   "metadata": {
    "button": false,
    "execution": {
     "iopub.execute_input": "2022-08-06T15:52:16.617799Z",
     "iopub.status.busy": "2022-08-06T15:52:16.617506Z",
     "iopub.status.idle": "2022-08-06T15:52:16.618954Z",
     "shell.execute_reply": "2022-08-06T15:52:16.619157Z"
    },
    "new_sheet": false,
    "run_control": {
     "read_only": false
    },
    "slideshow": {
     "slide_type": "subslide"
    }
   },
   "outputs": [],
   "source": [
    "initial_derivation_tree: DerivationTree = (\"<start>\",\n",
    "                   [(\"<expr>\",\n",
    "                     [(\"<expr>\", None),\n",
    "                      (\" + \", []),\n",
    "                         (\"<term>\", None)]\n",
    "                     )])"
   ]
  },
  {
   "cell_type": "code",
   "execution_count": 107,
   "metadata": {
    "execution": {
     "iopub.execute_input": "2022-08-06T15:52:16.623444Z",
     "iopub.status.busy": "2022-08-06T15:52:16.623037Z",
     "iopub.status.idle": "2022-08-06T15:52:16.906820Z",
     "shell.execute_reply": "2022-08-06T15:52:16.907002Z"
    },
    "slideshow": {
     "slide_type": "fragment"
    }
   },
   "outputs": [
    {
     "data": {
      "image/svg+xml": [
       "<?xml version=\"1.0\" encoding=\"UTF-8\" standalone=\"no\"?>\n",
       "<!DOCTYPE svg PUBLIC \"-//W3C//DTD SVG 1.1//EN\"\n",
       " \"http://www.w3.org/Graphics/SVG/1.1/DTD/svg11.dtd\">\n",
       "<!-- Generated by graphviz version 5.0.0 (20220707.1540)\n",
       " -->\n",
       "<!-- Pages: 1 -->\n",
       "<svg width=\"145pt\" height=\"125pt\"\n",
       " viewBox=\"0.00 0.00 145.00 125.00\" xmlns=\"http://www.w3.org/2000/svg\" xmlns:xlink=\"http://www.w3.org/1999/xlink\">\n",
       "<g id=\"graph0\" class=\"graph\" transform=\"scale(1 1) rotate(0) translate(4 121)\">\n",
       "<polygon fill=\"white\" stroke=\"transparent\" points=\"-4,4 -4,-121 141,-121 141,4 -4,4\"/>\n",
       "<!-- 0 -->\n",
       "<g id=\"node1\" class=\"node\">\n",
       "<title>0</title>\n",
       "<text text-anchor=\"middle\" x=\"67.5\" y=\"-105.8\" font-family=\"Times,serif\" font-size=\"14.00\">&lt;start&gt;</text>\n",
       "</g>\n",
       "<!-- 1 -->\n",
       "<g id=\"node2\" class=\"node\">\n",
       "<title>1</title>\n",
       "<text text-anchor=\"middle\" x=\"67.5\" y=\"-54.8\" font-family=\"Times,serif\" font-size=\"14.00\">&lt;expr&gt;</text>\n",
       "</g>\n",
       "<!-- 0&#45;&gt;1 -->\n",
       "<g id=\"edge1\" class=\"edge\">\n",
       "<title>0&#45;&gt;1</title>\n",
       "<path fill=\"none\" stroke=\"black\" d=\"M67.5,-101.69C67.5,-95.18 67.5,-85.1 67.5,-76.43\"/>\n",
       "<polygon fill=\"black\" stroke=\"black\" points=\"71,-76.26 67.5,-66.26 64,-76.26 71,-76.26\"/>\n",
       "</g>\n",
       "<!-- 2 -->\n",
       "<g id=\"node3\" class=\"node\">\n",
       "<title>2</title>\n",
       "<text text-anchor=\"middle\" x=\"20.5\" y=\"-3.8\" font-family=\"Times,serif\" font-size=\"14.00\">&lt;expr&gt;</text>\n",
       "</g>\n",
       "<!-- 1&#45;&gt;2 -->\n",
       "<g id=\"edge2\" class=\"edge\">\n",
       "<title>1&#45;&gt;2</title>\n",
       "<path fill=\"none\" stroke=\"black\" d=\"M60.96,-50.69C54.02,-43.45 42.84,-31.79 33.99,-22.57\"/>\n",
       "<polygon fill=\"black\" stroke=\"black\" points=\"36.43,-20.05 26.98,-15.26 31.38,-24.9 36.43,-20.05\"/>\n",
       "</g>\n",
       "<!-- 3 -->\n",
       "<g id=\"node4\" class=\"node\">\n",
       "<title>3</title>\n",
       "<text text-anchor=\"middle\" x=\"67.5\" y=\"-3.8\" font-family=\"Times,serif\" font-size=\"14.00\"> + </text>\n",
       "</g>\n",
       "<!-- 1&#45;&gt;3 -->\n",
       "<g id=\"edge3\" class=\"edge\">\n",
       "<title>1&#45;&gt;3</title>\n",
       "<path fill=\"none\" stroke=\"black\" d=\"M67.5,-50.69C67.5,-44.18 67.5,-34.1 67.5,-25.43\"/>\n",
       "<polygon fill=\"black\" stroke=\"black\" points=\"71,-25.26 67.5,-15.26 64,-25.26 71,-25.26\"/>\n",
       "</g>\n",
       "<!-- 4 -->\n",
       "<g id=\"node5\" class=\"node\">\n",
       "<title>4</title>\n",
       "<text text-anchor=\"middle\" x=\"115.5\" y=\"-3.8\" font-family=\"Times,serif\" font-size=\"14.00\">&lt;term&gt;</text>\n",
       "</g>\n",
       "<!-- 1&#45;&gt;4 -->\n",
       "<g id=\"edge4\" class=\"edge\">\n",
       "<title>1&#45;&gt;4</title>\n",
       "<path fill=\"none\" stroke=\"black\" d=\"M74.17,-50.69C81.27,-43.45 92.68,-31.79 101.72,-22.57\"/>\n",
       "<polygon fill=\"black\" stroke=\"black\" points=\"104.38,-24.85 108.88,-15.26 99.38,-19.95 104.38,-24.85\"/>\n",
       "</g>\n",
       "</g>\n",
       "</svg>\n"
      ],
      "text/plain": [
       "<graphviz.graphs.Digraph at 0x122581150>"
      ]
     },
     "execution_count": 107,
     "metadata": {},
     "output_type": "execute_result"
    }
   ],
   "source": [
    "display_tree(initial_derivation_tree)"
   ]
  },
  {
   "cell_type": "markdown",
   "metadata": {
    "slideshow": {
     "slide_type": "subslide"
    }
   },
   "source": [
    "We now apply our expansion strategy on this tree.  We see that initially, nodes are expanded at maximum cost, then randomly, and then closing the expansion at minimum cost."
   ]
  },
  {
   "cell_type": "code",
   "execution_count": 108,
   "metadata": {
    "button": false,
    "execution": {
     "iopub.execute_input": "2022-08-06T15:52:16.910497Z",
     "iopub.status.busy": "2022-08-06T15:52:16.910157Z",
     "iopub.status.idle": "2022-08-06T15:52:16.913403Z",
     "shell.execute_reply": "2022-08-06T15:52:16.913593Z"
    },
    "new_sheet": false,
    "run_control": {
     "read_only": false
    },
    "slideshow": {
     "slide_type": "subslide"
    }
   },
   "outputs": [
    {
     "name": "stdout",
     "output_type": "stream",
     "text": [
      "Tree: <expr> + <term>\n",
      "Expanding <term> at maximum cost\n",
      "Tree: <expr> + <factor> * <term>\n",
      "Expanding <term> randomly\n",
      "Tree: <expr> + <factor> * <factor> / <term>\n",
      "Expanding <factor> randomly\n",
      "Tree: <expr> + <factor> * +<factor> / <term>\n",
      "Expanding <expr> randomly\n",
      "Tree: <term> + <expr> + <factor> * +<factor> / <term>\n",
      "Expanding <expr> at minimum cost\n",
      "Tree: <term> + <term> + <factor> * +<factor> / <term>\n",
      "Expanding <term> at minimum cost\n",
      "Tree: <factor> + <term> + <factor> * +<factor> / <term>\n",
      "Expanding <factor> at minimum cost\n",
      "Tree: <factor> + <term> + <integer> * +<factor> / <term>\n",
      "Expanding <integer> at minimum cost\n",
      "Tree: <factor> + <term> + <digit> * +<factor> / <term>\n",
      "Expanding <factor> at minimum cost\n",
      "Tree: <integer> + <term> + <digit> * +<factor> / <term>\n",
      "Expanding <integer> at minimum cost\n",
      "Tree: <digit> + <term> + <digit> * +<factor> / <term>\n",
      "Expanding <digit> at minimum cost\n",
      "Tree: 7 + <term> + <digit> * +<factor> / <term>\n",
      "Expanding <term> at minimum cost\n",
      "Tree: 7 + <factor> + <digit> * +<factor> / <term>\n",
      "Expanding <factor> at minimum cost\n",
      "Tree: 7 + <integer> + <digit> * +<factor> / <term>\n",
      "Expanding <integer> at minimum cost\n",
      "Tree: 7 + <digit> + <digit> * +<factor> / <term>\n",
      "Expanding <digit> at minimum cost\n",
      "Tree: 7 + 2 + <digit> * +<factor> / <term>\n",
      "Expanding <digit> at minimum cost\n",
      "Tree: 7 + 2 + 3 * +<factor> / <term>\n",
      "Expanding <term> at minimum cost\n",
      "Tree: 7 + 2 + 3 * +<factor> / <factor>\n",
      "Expanding <factor> at minimum cost\n",
      "Tree: 7 + 2 + 3 * +<integer> / <factor>\n",
      "Expanding <factor> at minimum cost\n",
      "Tree: 7 + 2 + 3 * +<integer> / <integer>\n",
      "Expanding <integer> at minimum cost\n",
      "Tree: 7 + 2 + 3 * +<integer> / <digit>\n",
      "Expanding <digit> at minimum cost\n",
      "Tree: 7 + 2 + 3 * +<integer> / 9\n",
      "Expanding <integer> at minimum cost\n",
      "Tree: 7 + 2 + 3 * +<digit> / 9\n",
      "Expanding <digit> at minimum cost\n",
      "Tree: 7 + 2 + 3 * +0 / 9\n"
     ]
    }
   ],
   "source": [
    "f = GrammarFuzzer(\n",
    "    EXPR_GRAMMAR,\n",
    "    min_nonterminals=3,\n",
    "    max_nonterminals=5,\n",
    "    log=True)\n",
    "derivation_tree = f.expand_tree(initial_derivation_tree)"
   ]
  },
  {
   "cell_type": "markdown",
   "metadata": {
    "slideshow": {
     "slide_type": "subslide"
    }
   },
   "source": [
    "This is the final derivation tree:"
   ]
  },
  {
   "cell_type": "code",
   "execution_count": 109,
   "metadata": {
    "button": false,
    "execution": {
     "iopub.execute_input": "2022-08-06T15:52:16.919003Z",
     "iopub.status.busy": "2022-08-06T15:52:16.918329Z",
     "iopub.status.idle": "2022-08-06T15:52:17.223356Z",
     "shell.execute_reply": "2022-08-06T15:52:17.223694Z"
    },
    "new_sheet": false,
    "run_control": {
     "read_only": false
    },
    "slideshow": {
     "slide_type": "subslide"
    }
   },
   "outputs": [
    {
     "data": {
      "image/svg+xml": [
       "<?xml version=\"1.0\" encoding=\"UTF-8\" standalone=\"no\"?>\n",
       "<!DOCTYPE svg PUBLIC \"-//W3C//DTD SVG 1.1//EN\"\n",
       " \"http://www.w3.org/Graphics/SVG/1.1/DTD/svg11.dtd\">\n",
       "<!-- Generated by graphviz version 5.0.0 (20220707.1540)\n",
       " -->\n",
       "<!-- Pages: 1 -->\n",
       "<svg width=\"388pt\" height=\"431pt\"\n",
       " viewBox=\"0.00 0.00 388.00 431.00\" xmlns=\"http://www.w3.org/2000/svg\" xmlns:xlink=\"http://www.w3.org/1999/xlink\">\n",
       "<g id=\"graph0\" class=\"graph\" transform=\"scale(1 1) rotate(0) translate(4 427)\">\n",
       "<polygon fill=\"white\" stroke=\"transparent\" points=\"-4,4 -4,-427 384,-427 384,4 -4,4\"/>\n",
       "<!-- 0 -->\n",
       "<g id=\"node1\" class=\"node\">\n",
       "<title>0</title>\n",
       "<text text-anchor=\"middle\" x=\"155.5\" y=\"-411.8\" font-family=\"Times,serif\" font-size=\"14.00\">&lt;start&gt;</text>\n",
       "</g>\n",
       "<!-- 1 -->\n",
       "<g id=\"node2\" class=\"node\">\n",
       "<title>1</title>\n",
       "<text text-anchor=\"middle\" x=\"155.5\" y=\"-360.8\" font-family=\"Times,serif\" font-size=\"14.00\">&lt;expr&gt;</text>\n",
       "</g>\n",
       "<!-- 0&#45;&gt;1 -->\n",
       "<g id=\"edge1\" class=\"edge\">\n",
       "<title>0&#45;&gt;1</title>\n",
       "<path fill=\"none\" stroke=\"black\" d=\"M155.5,-407.69C155.5,-401.18 155.5,-391.1 155.5,-382.43\"/>\n",
       "<polygon fill=\"black\" stroke=\"black\" points=\"159,-382.26 155.5,-372.26 152,-382.26 159,-382.26\"/>\n",
       "</g>\n",
       "<!-- 2 -->\n",
       "<g id=\"node3\" class=\"node\">\n",
       "<title>2</title>\n",
       "<text text-anchor=\"middle\" x=\"101.5\" y=\"-309.8\" font-family=\"Times,serif\" font-size=\"14.00\">&lt;expr&gt;</text>\n",
       "</g>\n",
       "<!-- 1&#45;&gt;2 -->\n",
       "<g id=\"edge2\" class=\"edge\">\n",
       "<title>1&#45;&gt;2</title>\n",
       "<path fill=\"none\" stroke=\"black\" d=\"M147.99,-356.69C139.85,-349.3 126.65,-337.32 116.39,-328.01\"/>\n",
       "<polygon fill=\"black\" stroke=\"black\" points=\"118.7,-325.38 108.94,-321.26 114,-330.57 118.7,-325.38\"/>\n",
       "</g>\n",
       "<!-- 15 -->\n",
       "<g id=\"node16\" class=\"node\">\n",
       "<title>15</title>\n",
       "<text text-anchor=\"middle\" x=\"155.5\" y=\"-309.8\" font-family=\"Times,serif\" font-size=\"14.00\"> + </text>\n",
       "</g>\n",
       "<!-- 1&#45;&gt;15 -->\n",
       "<g id=\"edge15\" class=\"edge\">\n",
       "<title>1&#45;&gt;15</title>\n",
       "<path fill=\"none\" stroke=\"black\" d=\"M155.5,-356.69C155.5,-350.18 155.5,-340.1 155.5,-331.43\"/>\n",
       "<polygon fill=\"black\" stroke=\"black\" points=\"159,-331.26 155.5,-321.26 152,-331.26 159,-331.26\"/>\n",
       "</g>\n",
       "<!-- 16 -->\n",
       "<g id=\"node17\" class=\"node\">\n",
       "<title>16</title>\n",
       "<text text-anchor=\"middle\" x=\"207.5\" y=\"-309.8\" font-family=\"Times,serif\" font-size=\"14.00\">&lt;term&gt;</text>\n",
       "</g>\n",
       "<!-- 1&#45;&gt;16 -->\n",
       "<g id=\"edge16\" class=\"edge\">\n",
       "<title>1&#45;&gt;16</title>\n",
       "<path fill=\"none\" stroke=\"black\" d=\"M162.73,-356.69C170.49,-349.37 183.03,-337.56 192.87,-328.29\"/>\n",
       "<polygon fill=\"black\" stroke=\"black\" points=\"195.45,-330.66 200.33,-321.26 190.65,-325.57 195.45,-330.66\"/>\n",
       "</g>\n",
       "<!-- 3 -->\n",
       "<g id=\"node4\" class=\"node\">\n",
       "<title>3</title>\n",
       "<text text-anchor=\"middle\" x=\"27.5\" y=\"-258.8\" font-family=\"Times,serif\" font-size=\"14.00\">&lt;term&gt;</text>\n",
       "</g>\n",
       "<!-- 2&#45;&gt;3 -->\n",
       "<g id=\"edge3\" class=\"edge\">\n",
       "<title>2&#45;&gt;3</title>\n",
       "<path fill=\"none\" stroke=\"black\" d=\"M91.52,-305.89C79.87,-298.18 60.36,-285.26 45.93,-275.71\"/>\n",
       "<polygon fill=\"black\" stroke=\"black\" points=\"47.59,-272.61 37.32,-270 43.73,-278.44 47.59,-272.61\"/>\n",
       "</g>\n",
       "<!-- 8 -->\n",
       "<g id=\"node9\" class=\"node\">\n",
       "<title>8</title>\n",
       "<text text-anchor=\"middle\" x=\"75.5\" y=\"-258.8\" font-family=\"Times,serif\" font-size=\"14.00\"> + </text>\n",
       "</g>\n",
       "<!-- 2&#45;&gt;8 -->\n",
       "<g id=\"edge8\" class=\"edge\">\n",
       "<title>2&#45;&gt;8</title>\n",
       "<path fill=\"none\" stroke=\"black\" d=\"M97.88,-305.69C94.28,-298.88 88.6,-288.19 83.87,-279.27\"/>\n",
       "<polygon fill=\"black\" stroke=\"black\" points=\"86.86,-277.45 79.08,-270.26 80.68,-280.73 86.86,-277.45\"/>\n",
       "</g>\n",
       "<!-- 9 -->\n",
       "<g id=\"node10\" class=\"node\">\n",
       "<title>9</title>\n",
       "<text text-anchor=\"middle\" x=\"122.5\" y=\"-258.8\" font-family=\"Times,serif\" font-size=\"14.00\">&lt;expr&gt;</text>\n",
       "</g>\n",
       "<!-- 2&#45;&gt;9 -->\n",
       "<g id=\"edge9\" class=\"edge\">\n",
       "<title>2&#45;&gt;9</title>\n",
       "<path fill=\"none\" stroke=\"black\" d=\"M104.42,-305.69C107.3,-298.96 111.82,-288.42 115.62,-279.56\"/>\n",
       "<polygon fill=\"black\" stroke=\"black\" points=\"118.88,-280.83 119.6,-270.26 112.45,-278.07 118.88,-280.83\"/>\n",
       "</g>\n",
       "<!-- 4 -->\n",
       "<g id=\"node5\" class=\"node\">\n",
       "<title>4</title>\n",
       "<text text-anchor=\"middle\" x=\"27.5\" y=\"-207.8\" font-family=\"Times,serif\" font-size=\"14.00\">&lt;factor&gt;</text>\n",
       "</g>\n",
       "<!-- 3&#45;&gt;4 -->\n",
       "<g id=\"edge4\" class=\"edge\">\n",
       "<title>3&#45;&gt;4</title>\n",
       "<path fill=\"none\" stroke=\"black\" d=\"M27.5,-254.69C27.5,-248.18 27.5,-238.1 27.5,-229.43\"/>\n",
       "<polygon fill=\"black\" stroke=\"black\" points=\"31,-229.26 27.5,-219.26 24,-229.26 31,-229.26\"/>\n",
       "</g>\n",
       "<!-- 5 -->\n",
       "<g id=\"node6\" class=\"node\">\n",
       "<title>5</title>\n",
       "<text text-anchor=\"middle\" x=\"27.5\" y=\"-156.8\" font-family=\"Times,serif\" font-size=\"14.00\">&lt;integer&gt;</text>\n",
       "</g>\n",
       "<!-- 4&#45;&gt;5 -->\n",
       "<g id=\"edge5\" class=\"edge\">\n",
       "<title>4&#45;&gt;5</title>\n",
       "<path fill=\"none\" stroke=\"black\" d=\"M27.5,-203.69C27.5,-197.18 27.5,-187.1 27.5,-178.43\"/>\n",
       "<polygon fill=\"black\" stroke=\"black\" points=\"31,-178.26 27.5,-168.26 24,-178.26 31,-178.26\"/>\n",
       "</g>\n",
       "<!-- 6 -->\n",
       "<g id=\"node7\" class=\"node\">\n",
       "<title>6</title>\n",
       "<text text-anchor=\"middle\" x=\"27.5\" y=\"-105.8\" font-family=\"Times,serif\" font-size=\"14.00\">&lt;digit&gt;</text>\n",
       "</g>\n",
       "<!-- 5&#45;&gt;6 -->\n",
       "<g id=\"edge6\" class=\"edge\">\n",
       "<title>5&#45;&gt;6</title>\n",
       "<path fill=\"none\" stroke=\"black\" d=\"M27.5,-152.69C27.5,-146.18 27.5,-136.1 27.5,-127.43\"/>\n",
       "<polygon fill=\"black\" stroke=\"black\" points=\"31,-127.26 27.5,-117.26 24,-127.26 31,-127.26\"/>\n",
       "</g>\n",
       "<!-- 7 -->\n",
       "<g id=\"node8\" class=\"node\">\n",
       "<title>7</title>\n",
       "<text text-anchor=\"middle\" x=\"27.5\" y=\"-54.8\" font-family=\"Times,serif\" font-size=\"14.00\">7</text>\n",
       "</g>\n",
       "<!-- 6&#45;&gt;7 -->\n",
       "<g id=\"edge7\" class=\"edge\">\n",
       "<title>6&#45;&gt;7</title>\n",
       "<path fill=\"none\" stroke=\"black\" d=\"M27.5,-101.69C27.5,-95.18 27.5,-85.1 27.5,-76.43\"/>\n",
       "<polygon fill=\"black\" stroke=\"black\" points=\"31,-76.26 27.5,-66.26 24,-76.26 31,-76.26\"/>\n",
       "</g>\n",
       "<!-- 10 -->\n",
       "<g id=\"node11\" class=\"node\">\n",
       "<title>10</title>\n",
       "<text text-anchor=\"middle\" x=\"120.5\" y=\"-207.8\" font-family=\"Times,serif\" font-size=\"14.00\">&lt;term&gt;</text>\n",
       "</g>\n",
       "<!-- 9&#45;&gt;10 -->\n",
       "<g id=\"edge10\" class=\"edge\">\n",
       "<title>9&#45;&gt;10</title>\n",
       "<path fill=\"none\" stroke=\"black\" d=\"M122.22,-254.69C121.96,-248.18 121.54,-238.1 121.19,-229.43\"/>\n",
       "<polygon fill=\"black\" stroke=\"black\" points=\"124.68,-229.1 120.78,-219.26 117.69,-229.39 124.68,-229.1\"/>\n",
       "</g>\n",
       "<!-- 11 -->\n",
       "<g id=\"node12\" class=\"node\">\n",
       "<title>11</title>\n",
       "<text text-anchor=\"middle\" x=\"120.5\" y=\"-156.8\" font-family=\"Times,serif\" font-size=\"14.00\">&lt;factor&gt;</text>\n",
       "</g>\n",
       "<!-- 10&#45;&gt;11 -->\n",
       "<g id=\"edge11\" class=\"edge\">\n",
       "<title>10&#45;&gt;11</title>\n",
       "<path fill=\"none\" stroke=\"black\" d=\"M120.5,-203.69C120.5,-197.18 120.5,-187.1 120.5,-178.43\"/>\n",
       "<polygon fill=\"black\" stroke=\"black\" points=\"124,-178.26 120.5,-168.26 117,-178.26 124,-178.26\"/>\n",
       "</g>\n",
       "<!-- 12 -->\n",
       "<g id=\"node13\" class=\"node\">\n",
       "<title>12</title>\n",
       "<text text-anchor=\"middle\" x=\"120.5\" y=\"-105.8\" font-family=\"Times,serif\" font-size=\"14.00\">&lt;integer&gt;</text>\n",
       "</g>\n",
       "<!-- 11&#45;&gt;12 -->\n",
       "<g id=\"edge12\" class=\"edge\">\n",
       "<title>11&#45;&gt;12</title>\n",
       "<path fill=\"none\" stroke=\"black\" d=\"M120.5,-152.69C120.5,-146.18 120.5,-136.1 120.5,-127.43\"/>\n",
       "<polygon fill=\"black\" stroke=\"black\" points=\"124,-127.26 120.5,-117.26 117,-127.26 124,-127.26\"/>\n",
       "</g>\n",
       "<!-- 13 -->\n",
       "<g id=\"node14\" class=\"node\">\n",
       "<title>13</title>\n",
       "<text text-anchor=\"middle\" x=\"120.5\" y=\"-54.8\" font-family=\"Times,serif\" font-size=\"14.00\">&lt;digit&gt;</text>\n",
       "</g>\n",
       "<!-- 12&#45;&gt;13 -->\n",
       "<g id=\"edge13\" class=\"edge\">\n",
       "<title>12&#45;&gt;13</title>\n",
       "<path fill=\"none\" stroke=\"black\" d=\"M120.5,-101.69C120.5,-95.18 120.5,-85.1 120.5,-76.43\"/>\n",
       "<polygon fill=\"black\" stroke=\"black\" points=\"124,-76.26 120.5,-66.26 117,-76.26 124,-76.26\"/>\n",
       "</g>\n",
       "<!-- 14 -->\n",
       "<g id=\"node15\" class=\"node\">\n",
       "<title>14</title>\n",
       "<text text-anchor=\"middle\" x=\"120.5\" y=\"-3.8\" font-family=\"Times,serif\" font-size=\"14.00\">2</text>\n",
       "</g>\n",
       "<!-- 13&#45;&gt;14 -->\n",
       "<g id=\"edge14\" class=\"edge\">\n",
       "<title>13&#45;&gt;14</title>\n",
       "<path fill=\"none\" stroke=\"black\" d=\"M120.5,-50.69C120.5,-44.18 120.5,-34.1 120.5,-25.43\"/>\n",
       "<polygon fill=\"black\" stroke=\"black\" points=\"124,-25.26 120.5,-15.26 117,-25.26 124,-25.26\"/>\n",
       "</g>\n",
       "<!-- 17 -->\n",
       "<g id=\"node18\" class=\"node\">\n",
       "<title>17</title>\n",
       "<text text-anchor=\"middle\" x=\"187.5\" y=\"-258.8\" font-family=\"Times,serif\" font-size=\"14.00\">&lt;factor&gt;</text>\n",
       "</g>\n",
       "<!-- 16&#45;&gt;17 -->\n",
       "<g id=\"edge17\" class=\"edge\">\n",
       "<title>16&#45;&gt;17</title>\n",
       "<path fill=\"none\" stroke=\"black\" d=\"M204.72,-305.69C201.97,-298.96 197.67,-288.42 194.05,-279.56\"/>\n",
       "<polygon fill=\"black\" stroke=\"black\" points=\"197.28,-278.19 190.26,-270.26 190.8,-280.84 197.28,-278.19\"/>\n",
       "</g>\n",
       "<!-- 21 -->\n",
       "<g id=\"node22\" class=\"node\">\n",
       "<title>21</title>\n",
       "<text text-anchor=\"middle\" x=\"237.5\" y=\"-258.8\" font-family=\"Times,serif\" font-size=\"14.00\"> * </text>\n",
       "</g>\n",
       "<!-- 16&#45;&gt;21 -->\n",
       "<g id=\"edge21\" class=\"edge\">\n",
       "<title>16&#45;&gt;21</title>\n",
       "<path fill=\"none\" stroke=\"black\" d=\"M211.67,-305.69C215.88,-298.81 222.53,-287.96 228.02,-278.98\"/>\n",
       "<polygon fill=\"black\" stroke=\"black\" points=\"231.13,-280.61 233.36,-270.26 225.16,-276.96 231.13,-280.61\"/>\n",
       "</g>\n",
       "<!-- 22 -->\n",
       "<g id=\"node23\" class=\"node\">\n",
       "<title>22</title>\n",
       "<text text-anchor=\"middle\" x=\"295.5\" y=\"-258.8\" font-family=\"Times,serif\" font-size=\"14.00\">&lt;term&gt;</text>\n",
       "</g>\n",
       "<!-- 16&#45;&gt;22 -->\n",
       "<g id=\"edge22\" class=\"edge\">\n",
       "<title>16&#45;&gt;22</title>\n",
       "<path fill=\"none\" stroke=\"black\" d=\"M219.37,-305.89C233.62,-297.96 257.76,-284.52 275.03,-274.9\"/>\n",
       "<polygon fill=\"black\" stroke=\"black\" points=\"276.79,-277.93 283.82,-270 273.38,-271.81 276.79,-277.93\"/>\n",
       "</g>\n",
       "<!-- 18 -->\n",
       "<g id=\"node19\" class=\"node\">\n",
       "<title>18</title>\n",
       "<text text-anchor=\"middle\" x=\"187.5\" y=\"-207.8\" font-family=\"Times,serif\" font-size=\"14.00\">&lt;integer&gt;</text>\n",
       "</g>\n",
       "<!-- 17&#45;&gt;18 -->\n",
       "<g id=\"edge18\" class=\"edge\">\n",
       "<title>17&#45;&gt;18</title>\n",
       "<path fill=\"none\" stroke=\"black\" d=\"M187.5,-254.69C187.5,-248.18 187.5,-238.1 187.5,-229.43\"/>\n",
       "<polygon fill=\"black\" stroke=\"black\" points=\"191,-229.26 187.5,-219.26 184,-229.26 191,-229.26\"/>\n",
       "</g>\n",
       "<!-- 19 -->\n",
       "<g id=\"node20\" class=\"node\">\n",
       "<title>19</title>\n",
       "<text text-anchor=\"middle\" x=\"187.5\" y=\"-156.8\" font-family=\"Times,serif\" font-size=\"14.00\">&lt;digit&gt;</text>\n",
       "</g>\n",
       "<!-- 18&#45;&gt;19 -->\n",
       "<g id=\"edge19\" class=\"edge\">\n",
       "<title>18&#45;&gt;19</title>\n",
       "<path fill=\"none\" stroke=\"black\" d=\"M187.5,-203.69C187.5,-197.18 187.5,-187.1 187.5,-178.43\"/>\n",
       "<polygon fill=\"black\" stroke=\"black\" points=\"191,-178.26 187.5,-168.26 184,-178.26 191,-178.26\"/>\n",
       "</g>\n",
       "<!-- 20 -->\n",
       "<g id=\"node21\" class=\"node\">\n",
       "<title>20</title>\n",
       "<text text-anchor=\"middle\" x=\"187.5\" y=\"-105.8\" font-family=\"Times,serif\" font-size=\"14.00\">3</text>\n",
       "</g>\n",
       "<!-- 19&#45;&gt;20 -->\n",
       "<g id=\"edge20\" class=\"edge\">\n",
       "<title>19&#45;&gt;20</title>\n",
       "<path fill=\"none\" stroke=\"black\" d=\"M187.5,-152.69C187.5,-146.18 187.5,-136.1 187.5,-127.43\"/>\n",
       "<polygon fill=\"black\" stroke=\"black\" points=\"191,-127.26 187.5,-117.26 184,-127.26 191,-127.26\"/>\n",
       "</g>\n",
       "<!-- 23 -->\n",
       "<g id=\"node24\" class=\"node\">\n",
       "<title>23</title>\n",
       "<text text-anchor=\"middle\" x=\"257.5\" y=\"-207.8\" font-family=\"Times,serif\" font-size=\"14.00\">&lt;factor&gt;</text>\n",
       "</g>\n",
       "<!-- 22&#45;&gt;23 -->\n",
       "<g id=\"edge23\" class=\"edge\">\n",
       "<title>22&#45;&gt;23</title>\n",
       "<path fill=\"none\" stroke=\"black\" d=\"M290.22,-254.69C284.77,-247.67 276.11,-236.49 269.06,-227.41\"/>\n",
       "<polygon fill=\"black\" stroke=\"black\" points=\"271.63,-225.01 262.74,-219.26 266.1,-229.3 271.63,-225.01\"/>\n",
       "</g>\n",
       "<!-- 29 -->\n",
       "<g id=\"node30\" class=\"node\">\n",
       "<title>29</title>\n",
       "<text text-anchor=\"middle\" x=\"306.5\" y=\"-207.8\" font-family=\"Times,serif\" font-size=\"14.00\"> / </text>\n",
       "</g>\n",
       "<!-- 22&#45;&gt;29 -->\n",
       "<g id=\"edge29\" class=\"edge\">\n",
       "<title>22&#45;&gt;29</title>\n",
       "<path fill=\"none\" stroke=\"black\" d=\"M297.03,-254.69C298.51,-248.1 300.8,-237.87 302.77,-229.14\"/>\n",
       "<polygon fill=\"black\" stroke=\"black\" points=\"306.21,-229.78 304.98,-219.26 299.38,-228.25 306.21,-229.78\"/>\n",
       "</g>\n",
       "<!-- 30 -->\n",
       "<g id=\"node31\" class=\"node\">\n",
       "<title>30</title>\n",
       "<text text-anchor=\"middle\" x=\"352.5\" y=\"-207.8\" font-family=\"Times,serif\" font-size=\"14.00\">&lt;term&gt;</text>\n",
       "</g>\n",
       "<!-- 22&#45;&gt;30 -->\n",
       "<g id=\"edge30\" class=\"edge\">\n",
       "<title>22&#45;&gt;30</title>\n",
       "<path fill=\"none\" stroke=\"black\" d=\"M303.43,-254.69C312.02,-247.3 325.95,-235.32 336.78,-226.01\"/>\n",
       "<polygon fill=\"black\" stroke=\"black\" points=\"339.34,-228.43 344.64,-219.26 334.78,-223.12 339.34,-228.43\"/>\n",
       "</g>\n",
       "<!-- 24 -->\n",
       "<g id=\"node25\" class=\"node\">\n",
       "<title>24</title>\n",
       "<text text-anchor=\"middle\" x=\"232.5\" y=\"-156.8\" font-family=\"Times,serif\" font-size=\"14.00\">+</text>\n",
       "</g>\n",
       "<!-- 23&#45;&gt;24 -->\n",
       "<g id=\"edge24\" class=\"edge\">\n",
       "<title>23&#45;&gt;24</title>\n",
       "<path fill=\"none\" stroke=\"black\" d=\"M254.02,-203.69C250.55,-196.88 245.1,-186.19 240.55,-177.27\"/>\n",
       "<polygon fill=\"black\" stroke=\"black\" points=\"243.61,-175.57 235.95,-168.26 237.37,-178.75 243.61,-175.57\"/>\n",
       "</g>\n",
       "<!-- 25 -->\n",
       "<g id=\"node26\" class=\"node\">\n",
       "<title>25</title>\n",
       "<text text-anchor=\"middle\" x=\"279.5\" y=\"-156.8\" font-family=\"Times,serif\" font-size=\"14.00\">&lt;factor&gt;</text>\n",
       "</g>\n",
       "<!-- 23&#45;&gt;25 -->\n",
       "<g id=\"edge25\" class=\"edge\">\n",
       "<title>23&#45;&gt;25</title>\n",
       "<path fill=\"none\" stroke=\"black\" d=\"M260.56,-203.69C263.58,-196.96 268.31,-186.42 272.29,-177.56\"/>\n",
       "<polygon fill=\"black\" stroke=\"black\" points=\"275.56,-178.81 276.47,-168.26 269.18,-175.94 275.56,-178.81\"/>\n",
       "</g>\n",
       "<!-- 26 -->\n",
       "<g id=\"node27\" class=\"node\">\n",
       "<title>26</title>\n",
       "<text text-anchor=\"middle\" x=\"279.5\" y=\"-105.8\" font-family=\"Times,serif\" font-size=\"14.00\">&lt;integer&gt;</text>\n",
       "</g>\n",
       "<!-- 25&#45;&gt;26 -->\n",
       "<g id=\"edge26\" class=\"edge\">\n",
       "<title>25&#45;&gt;26</title>\n",
       "<path fill=\"none\" stroke=\"black\" d=\"M279.5,-152.69C279.5,-146.18 279.5,-136.1 279.5,-127.43\"/>\n",
       "<polygon fill=\"black\" stroke=\"black\" points=\"283,-127.26 279.5,-117.26 276,-127.26 283,-127.26\"/>\n",
       "</g>\n",
       "<!-- 27 -->\n",
       "<g id=\"node28\" class=\"node\">\n",
       "<title>27</title>\n",
       "<text text-anchor=\"middle\" x=\"279.5\" y=\"-54.8\" font-family=\"Times,serif\" font-size=\"14.00\">&lt;digit&gt;</text>\n",
       "</g>\n",
       "<!-- 26&#45;&gt;27 -->\n",
       "<g id=\"edge27\" class=\"edge\">\n",
       "<title>26&#45;&gt;27</title>\n",
       "<path fill=\"none\" stroke=\"black\" d=\"M279.5,-101.69C279.5,-95.18 279.5,-85.1 279.5,-76.43\"/>\n",
       "<polygon fill=\"black\" stroke=\"black\" points=\"283,-76.26 279.5,-66.26 276,-76.26 283,-76.26\"/>\n",
       "</g>\n",
       "<!-- 28 -->\n",
       "<g id=\"node29\" class=\"node\">\n",
       "<title>28</title>\n",
       "<text text-anchor=\"middle\" x=\"279.5\" y=\"-3.8\" font-family=\"Times,serif\" font-size=\"14.00\">0</text>\n",
       "</g>\n",
       "<!-- 27&#45;&gt;28 -->\n",
       "<g id=\"edge28\" class=\"edge\">\n",
       "<title>27&#45;&gt;28</title>\n",
       "<path fill=\"none\" stroke=\"black\" d=\"M279.5,-50.69C279.5,-44.18 279.5,-34.1 279.5,-25.43\"/>\n",
       "<polygon fill=\"black\" stroke=\"black\" points=\"283,-25.26 279.5,-15.26 276,-25.26 283,-25.26\"/>\n",
       "</g>\n",
       "<!-- 31 -->\n",
       "<g id=\"node32\" class=\"node\">\n",
       "<title>31</title>\n",
       "<text text-anchor=\"middle\" x=\"352.5\" y=\"-156.8\" font-family=\"Times,serif\" font-size=\"14.00\">&lt;factor&gt;</text>\n",
       "</g>\n",
       "<!-- 30&#45;&gt;31 -->\n",
       "<g id=\"edge31\" class=\"edge\">\n",
       "<title>30&#45;&gt;31</title>\n",
       "<path fill=\"none\" stroke=\"black\" d=\"M352.5,-203.69C352.5,-197.18 352.5,-187.1 352.5,-178.43\"/>\n",
       "<polygon fill=\"black\" stroke=\"black\" points=\"356,-178.26 352.5,-168.26 349,-178.26 356,-178.26\"/>\n",
       "</g>\n",
       "<!-- 32 -->\n",
       "<g id=\"node33\" class=\"node\">\n",
       "<title>32</title>\n",
       "<text text-anchor=\"middle\" x=\"352.5\" y=\"-105.8\" font-family=\"Times,serif\" font-size=\"14.00\">&lt;integer&gt;</text>\n",
       "</g>\n",
       "<!-- 31&#45;&gt;32 -->\n",
       "<g id=\"edge32\" class=\"edge\">\n",
       "<title>31&#45;&gt;32</title>\n",
       "<path fill=\"none\" stroke=\"black\" d=\"M352.5,-152.69C352.5,-146.18 352.5,-136.1 352.5,-127.43\"/>\n",
       "<polygon fill=\"black\" stroke=\"black\" points=\"356,-127.26 352.5,-117.26 349,-127.26 356,-127.26\"/>\n",
       "</g>\n",
       "<!-- 33 -->\n",
       "<g id=\"node34\" class=\"node\">\n",
       "<title>33</title>\n",
       "<text text-anchor=\"middle\" x=\"352.5\" y=\"-54.8\" font-family=\"Times,serif\" font-size=\"14.00\">&lt;digit&gt;</text>\n",
       "</g>\n",
       "<!-- 32&#45;&gt;33 -->\n",
       "<g id=\"edge33\" class=\"edge\">\n",
       "<title>32&#45;&gt;33</title>\n",
       "<path fill=\"none\" stroke=\"black\" d=\"M352.5,-101.69C352.5,-95.18 352.5,-85.1 352.5,-76.43\"/>\n",
       "<polygon fill=\"black\" stroke=\"black\" points=\"356,-76.26 352.5,-66.26 349,-76.26 356,-76.26\"/>\n",
       "</g>\n",
       "<!-- 34 -->\n",
       "<g id=\"node35\" class=\"node\">\n",
       "<title>34</title>\n",
       "<text text-anchor=\"middle\" x=\"352.5\" y=\"-3.8\" font-family=\"Times,serif\" font-size=\"14.00\">9</text>\n",
       "</g>\n",
       "<!-- 33&#45;&gt;34 -->\n",
       "<g id=\"edge34\" class=\"edge\">\n",
       "<title>33&#45;&gt;34</title>\n",
       "<path fill=\"none\" stroke=\"black\" d=\"M352.5,-50.69C352.5,-44.18 352.5,-34.1 352.5,-25.43\"/>\n",
       "<polygon fill=\"black\" stroke=\"black\" points=\"356,-25.26 352.5,-15.26 349,-25.26 356,-25.26\"/>\n",
       "</g>\n",
       "</g>\n",
       "</svg>\n"
      ],
      "text/plain": [
       "<graphviz.graphs.Digraph at 0x122581720>"
      ]
     },
     "execution_count": 109,
     "metadata": {},
     "output_type": "execute_result"
    }
   ],
   "source": [
    "display_tree(derivation_tree)"
   ]
  },
  {
   "cell_type": "markdown",
   "metadata": {
    "slideshow": {
     "slide_type": "fragment"
    }
   },
   "source": [
    "And this is the resulting string:"
   ]
  },
  {
   "cell_type": "code",
   "execution_count": 110,
   "metadata": {
    "button": false,
    "execution": {
     "iopub.execute_input": "2022-08-06T15:52:17.226782Z",
     "iopub.status.busy": "2022-08-06T15:52:17.226355Z",
     "iopub.status.idle": "2022-08-06T15:52:17.228041Z",
     "shell.execute_reply": "2022-08-06T15:52:17.228232Z"
    },
    "new_sheet": false,
    "run_control": {
     "read_only": false
    },
    "slideshow": {
     "slide_type": "subslide"
    }
   },
   "outputs": [
    {
     "data": {
      "text/plain": [
       "'7 + 2 + 3 * +0 / 9'"
      ]
     },
     "execution_count": 110,
     "metadata": {},
     "output_type": "execute_result"
    }
   ],
   "source": [
    "all_terminals(derivation_tree)"
   ]
  },
  {
   "cell_type": "markdown",
   "metadata": {
    "slideshow": {
     "slide_type": "slide"
    }
   },
   "source": [
    "## Putting it all Together"
   ]
  },
  {
   "cell_type": "markdown",
   "metadata": {
    "button": false,
    "new_sheet": false,
    "run_control": {
     "read_only": false
    },
    "slideshow": {
     "slide_type": "fragment"
    }
   },
   "source": [
    "Based on this, we can now define a function `fuzz()` that – like `simple_grammar_fuzzer()` – simply takes a grammar and produces a string from it.  It thus no longer exposes the complexity of derivation trees."
   ]
  },
  {
   "cell_type": "code",
   "execution_count": 111,
   "metadata": {
    "button": false,
    "execution": {
     "iopub.execute_input": "2022-08-06T15:52:17.231552Z",
     "iopub.status.busy": "2022-08-06T15:52:17.231191Z",
     "iopub.status.idle": "2022-08-06T15:52:17.232385Z",
     "shell.execute_reply": "2022-08-06T15:52:17.232759Z"
    },
    "new_sheet": false,
    "run_control": {
     "read_only": false
    },
    "slideshow": {
     "slide_type": "fragment"
    }
   },
   "outputs": [],
   "source": [
    "class GrammarFuzzer(GrammarFuzzer):\n",
    "    def fuzz_tree(self) -> DerivationTree:\n",
    "        \"\"\"Produce a derivation tree from the grammar.\"\"\"\n",
    "        tree = self.init_tree()\n",
    "        # print(tree)\n",
    "\n",
    "        # Expand all nonterminals\n",
    "        tree = self.expand_tree(tree)\n",
    "        if self.log:\n",
    "            print(repr(all_terminals(tree)))\n",
    "        if self.disp:\n",
    "            display(display_tree(tree))\n",
    "        return tree\n",
    "\n",
    "    def fuzz(self) -> str:\n",
    "        \"\"\"Produce a string from the grammar.\"\"\"\n",
    "        self.derivation_tree = self.fuzz_tree()\n",
    "        return all_terminals(self.derivation_tree)"
   ]
  },
  {
   "cell_type": "markdown",
   "metadata": {
    "button": false,
    "new_sheet": false,
    "run_control": {
     "read_only": false
    },
    "slideshow": {
     "slide_type": "subslide"
    }
   },
   "source": [
    "We can now apply this on all our defined grammars (and visualize the derivation tree along)"
   ]
  },
  {
   "cell_type": "code",
   "execution_count": 112,
   "metadata": {
    "button": false,
    "execution": {
     "iopub.execute_input": "2022-08-06T15:52:17.238353Z",
     "iopub.status.busy": "2022-08-06T15:52:17.238013Z",
     "iopub.status.idle": "2022-08-06T15:52:17.239482Z",
     "shell.execute_reply": "2022-08-06T15:52:17.239727Z"
    },
    "new_sheet": false,
    "run_control": {
     "read_only": false
    },
    "slideshow": {
     "slide_type": "fragment"
    }
   },
   "outputs": [
    {
     "data": {
      "text/plain": [
       "'(5 / 6 * 6 + +41 - 5.9 * 3) / 4 / (3) / 1'"
      ]
     },
     "execution_count": 112,
     "metadata": {},
     "output_type": "execute_result"
    }
   ],
   "source": [
    "f = GrammarFuzzer(EXPR_GRAMMAR)\n",
    "f.fuzz()"
   ]
  },
  {
   "cell_type": "markdown",
   "metadata": {
    "slideshow": {
     "slide_type": "subslide"
    }
   },
   "source": [
    "After calling `fuzz()`, the produced derivation tree is accessible in the `derivation_tree` attribute:"
   ]
  },
  {
   "cell_type": "code",
   "execution_count": 113,
   "metadata": {
    "button": false,
    "execution": {
     "iopub.execute_input": "2022-08-06T15:52:17.245789Z",
     "iopub.status.busy": "2022-08-06T15:52:17.245259Z",
     "iopub.status.idle": "2022-08-06T15:52:17.528220Z",
     "shell.execute_reply": "2022-08-06T15:52:17.528405Z"
    },
    "new_sheet": false,
    "run_control": {
     "read_only": false
    },
    "slideshow": {
     "slide_type": "fragment"
    }
   },
   "outputs": [
    {
     "data": {
      "image/svg+xml": [
       "<?xml version=\"1.0\" encoding=\"UTF-8\" standalone=\"no\"?>\n",
       "<!DOCTYPE svg PUBLIC \"-//W3C//DTD SVG 1.1//EN\"\n",
       " \"http://www.w3.org/Graphics/SVG/1.1/DTD/svg11.dtd\">\n",
       "<!-- Generated by graphviz version 5.0.0 (20220707.1540)\n",
       " -->\n",
       "<!-- Pages: 1 -->\n",
       "<svg width=\"664pt\" height=\"635pt\"\n",
       " viewBox=\"0.00 0.00 664.00 635.00\" xmlns=\"http://www.w3.org/2000/svg\" xmlns:xlink=\"http://www.w3.org/1999/xlink\">\n",
       "<g id=\"graph0\" class=\"graph\" transform=\"scale(1 1) rotate(0) translate(4 631)\">\n",
       "<polygon fill=\"white\" stroke=\"transparent\" points=\"-4,4 -4,-631 660,-631 660,4 -4,4\"/>\n",
       "<!-- 0 -->\n",
       "<g id=\"node1\" class=\"node\">\n",
       "<title>0</title>\n",
       "<text text-anchor=\"middle\" x=\"385.5\" y=\"-615.8\" font-family=\"Times,serif\" font-size=\"14.00\">&lt;start&gt;</text>\n",
       "</g>\n",
       "<!-- 1 -->\n",
       "<g id=\"node2\" class=\"node\">\n",
       "<title>1</title>\n",
       "<text text-anchor=\"middle\" x=\"385.5\" y=\"-564.8\" font-family=\"Times,serif\" font-size=\"14.00\">&lt;expr&gt;</text>\n",
       "</g>\n",
       "<!-- 0&#45;&gt;1 -->\n",
       "<g id=\"edge1\" class=\"edge\">\n",
       "<title>0&#45;&gt;1</title>\n",
       "<path fill=\"none\" stroke=\"black\" d=\"M385.5,-611.69C385.5,-605.18 385.5,-595.1 385.5,-586.43\"/>\n",
       "<polygon fill=\"black\" stroke=\"black\" points=\"389,-586.26 385.5,-576.26 382,-586.26 389,-586.26\"/>\n",
       "</g>\n",
       "<!-- 2 -->\n",
       "<g id=\"node3\" class=\"node\">\n",
       "<title>2</title>\n",
       "<text text-anchor=\"middle\" x=\"385.5\" y=\"-513.8\" font-family=\"Times,serif\" font-size=\"14.00\">&lt;term&gt;</text>\n",
       "</g>\n",
       "<!-- 1&#45;&gt;2 -->\n",
       "<g id=\"edge2\" class=\"edge\">\n",
       "<title>1&#45;&gt;2</title>\n",
       "<path fill=\"none\" stroke=\"black\" d=\"M385.5,-560.69C385.5,-554.18 385.5,-544.1 385.5,-535.43\"/>\n",
       "<polygon fill=\"black\" stroke=\"black\" points=\"389,-535.26 385.5,-525.26 382,-535.26 389,-535.26\"/>\n",
       "</g>\n",
       "<!-- 3 -->\n",
       "<g id=\"node4\" class=\"node\">\n",
       "<title>3</title>\n",
       "<text text-anchor=\"middle\" x=\"315.5\" y=\"-462.8\" font-family=\"Times,serif\" font-size=\"14.00\">&lt;factor&gt;</text>\n",
       "</g>\n",
       "<!-- 2&#45;&gt;3 -->\n",
       "<g id=\"edge3\" class=\"edge\">\n",
       "<title>2&#45;&gt;3</title>\n",
       "<path fill=\"none\" stroke=\"black\" d=\"M376.06,-509.89C365.14,-502.25 346.94,-489.5 333.33,-479.98\"/>\n",
       "<polygon fill=\"black\" stroke=\"black\" points=\"334.99,-476.87 324.79,-474 330.98,-482.61 334.99,-476.87\"/>\n",
       "</g>\n",
       "<!-- 53 -->\n",
       "<g id=\"node54\" class=\"node\">\n",
       "<title>53</title>\n",
       "<text text-anchor=\"middle\" x=\"385.5\" y=\"-462.8\" font-family=\"Times,serif\" font-size=\"14.00\"> / </text>\n",
       "</g>\n",
       "<!-- 2&#45;&gt;53 -->\n",
       "<g id=\"edge53\" class=\"edge\">\n",
       "<title>2&#45;&gt;53</title>\n",
       "<path fill=\"none\" stroke=\"black\" d=\"M385.5,-509.69C385.5,-503.18 385.5,-493.1 385.5,-484.43\"/>\n",
       "<polygon fill=\"black\" stroke=\"black\" points=\"389,-484.26 385.5,-474.26 382,-484.26 389,-484.26\"/>\n",
       "</g>\n",
       "<!-- 54 -->\n",
       "<g id=\"node55\" class=\"node\">\n",
       "<title>54</title>\n",
       "<text text-anchor=\"middle\" x=\"466.5\" y=\"-462.8\" font-family=\"Times,serif\" font-size=\"14.00\">&lt;term&gt;</text>\n",
       "</g>\n",
       "<!-- 2&#45;&gt;54 -->\n",
       "<g id=\"edge54\" class=\"edge\">\n",
       "<title>2&#45;&gt;54</title>\n",
       "<path fill=\"none\" stroke=\"black\" d=\"M396.42,-509.89C409.3,-502.1 430.94,-489.01 446.77,-479.43\"/>\n",
       "<polygon fill=\"black\" stroke=\"black\" points=\"449,-482.17 455.75,-474 445.38,-476.19 449,-482.17\"/>\n",
       "</g>\n",
       "<!-- 4 -->\n",
       "<g id=\"node5\" class=\"node\">\n",
       "<title>4</title>\n",
       "<text text-anchor=\"middle\" x=\"253.5\" y=\"-411.8\" font-family=\"Times,serif\" font-size=\"14.00\">(</text>\n",
       "</g>\n",
       "<!-- 3&#45;&gt;4 -->\n",
       "<g id=\"edge4\" class=\"edge\">\n",
       "<title>3&#45;&gt;4</title>\n",
       "<path fill=\"none\" stroke=\"black\" d=\"M307.14,-458.89C296.08,-450.15 276.57,-434.73 264.38,-425.1\"/>\n",
       "<polygon fill=\"black\" stroke=\"black\" points=\"266.48,-422.3 256.47,-418.84 262.14,-427.79 266.48,-422.3\"/>\n",
       "</g>\n",
       "<!-- 5 -->\n",
       "<g id=\"node6\" class=\"node\">\n",
       "<title>5</title>\n",
       "<text text-anchor=\"middle\" x=\"294.5\" y=\"-411.8\" font-family=\"Times,serif\" font-size=\"14.00\">&lt;expr&gt;</text>\n",
       "</g>\n",
       "<!-- 3&#45;&gt;5 -->\n",
       "<g id=\"edge5\" class=\"edge\">\n",
       "<title>3&#45;&gt;5</title>\n",
       "<path fill=\"none\" stroke=\"black\" d=\"M312.58,-458.69C309.7,-451.96 305.18,-441.42 301.38,-432.56\"/>\n",
       "<polygon fill=\"black\" stroke=\"black\" points=\"304.55,-431.07 297.4,-423.26 298.12,-433.83 304.55,-431.07\"/>\n",
       "</g>\n",
       "<!-- 52 -->\n",
       "<g id=\"node53\" class=\"node\">\n",
       "<title>52</title>\n",
       "<text text-anchor=\"middle\" x=\"335.5\" y=\"-411.8\" font-family=\"Times,serif\" font-size=\"14.00\">)</text>\n",
       "</g>\n",
       "<!-- 3&#45;&gt;52 -->\n",
       "<g id=\"edge52\" class=\"edge\">\n",
       "<title>3&#45;&gt;52</title>\n",
       "<path fill=\"none\" stroke=\"black\" d=\"M318.28,-458.69C321.09,-451.81 325.52,-440.94 329.19,-431.96\"/>\n",
       "<polygon fill=\"black\" stroke=\"black\" points=\"332.46,-433.22 332.99,-422.64 325.98,-430.57 332.46,-433.22\"/>\n",
       "</g>\n",
       "<!-- 6 -->\n",
       "<g id=\"node7\" class=\"node\">\n",
       "<title>6</title>\n",
       "<text text-anchor=\"middle\" x=\"124.5\" y=\"-360.8\" font-family=\"Times,serif\" font-size=\"14.00\">&lt;term&gt;</text>\n",
       "</g>\n",
       "<!-- 5&#45;&gt;6 -->\n",
       "<g id=\"edge6\" class=\"edge\">\n",
       "<title>5&#45;&gt;6</title>\n",
       "<path fill=\"none\" stroke=\"black\" d=\"M273.99,-408.59C244.7,-400.15 190.62,-384.56 156.17,-374.63\"/>\n",
       "<polygon fill=\"black\" stroke=\"black\" points=\"156.73,-371.15 146.15,-371.74 154.79,-377.87 156.73,-371.15\"/>\n",
       "</g>\n",
       "<!-- 23 -->\n",
       "<g id=\"node24\" class=\"node\">\n",
       "<title>23</title>\n",
       "<text text-anchor=\"middle\" x=\"284.5\" y=\"-360.8\" font-family=\"Times,serif\" font-size=\"14.00\"> + </text>\n",
       "</g>\n",
       "<!-- 5&#45;&gt;23 -->\n",
       "<g id=\"edge23\" class=\"edge\">\n",
       "<title>5&#45;&gt;23</title>\n",
       "<path fill=\"none\" stroke=\"black\" d=\"M293.11,-407.69C291.77,-401.1 289.68,-390.87 287.9,-382.14\"/>\n",
       "<polygon fill=\"black\" stroke=\"black\" points=\"291.31,-381.35 285.88,-372.26 284.45,-382.75 291.31,-381.35\"/>\n",
       "</g>\n",
       "<!-- 24 -->\n",
       "<g id=\"node25\" class=\"node\">\n",
       "<title>24</title>\n",
       "<text text-anchor=\"middle\" x=\"331.5\" y=\"-360.8\" font-family=\"Times,serif\" font-size=\"14.00\">&lt;expr&gt;</text>\n",
       "</g>\n",
       "<!-- 5&#45;&gt;24 -->\n",
       "<g id=\"edge24\" class=\"edge\">\n",
       "<title>5&#45;&gt;24</title>\n",
       "<path fill=\"none\" stroke=\"black\" d=\"M299.64,-407.69C304.95,-400.67 313.38,-389.49 320.24,-380.41\"/>\n",
       "<polygon fill=\"black\" stroke=\"black\" points=\"323.17,-382.34 326.4,-372.26 317.58,-378.13 323.17,-382.34\"/>\n",
       "</g>\n",
       "<!-- 7 -->\n",
       "<g id=\"node8\" class=\"node\">\n",
       "<title>7</title>\n",
       "<text text-anchor=\"middle\" x=\"40.5\" y=\"-309.8\" font-family=\"Times,serif\" font-size=\"14.00\">&lt;factor&gt;</text>\n",
       "</g>\n",
       "<!-- 6&#45;&gt;7 -->\n",
       "<g id=\"edge7\" class=\"edge\">\n",
       "<title>6&#45;&gt;7</title>\n",
       "<path fill=\"none\" stroke=\"black\" d=\"M113.17,-356.89C99.69,-349.03 76.95,-335.77 60.5,-326.16\"/>\n",
       "<polygon fill=\"black\" stroke=\"black\" points=\"62.05,-323.02 51.65,-321 58.52,-329.07 62.05,-323.02\"/>\n",
       "</g>\n",
       "<!-- 11 -->\n",
       "<g id=\"node12\" class=\"node\">\n",
       "<title>11</title>\n",
       "<text text-anchor=\"middle\" x=\"101.5\" y=\"-309.8\" font-family=\"Times,serif\" font-size=\"14.00\"> / </text>\n",
       "</g>\n",
       "<!-- 6&#45;&gt;11 -->\n",
       "<g id=\"edge11\" class=\"edge\">\n",
       "<title>6&#45;&gt;11</title>\n",
       "<path fill=\"none\" stroke=\"black\" d=\"M121.3,-356.69C118.14,-349.96 113.2,-339.42 109.04,-330.56\"/>\n",
       "<polygon fill=\"black\" stroke=\"black\" points=\"112.09,-328.82 104.67,-321.26 105.75,-331.79 112.09,-328.82\"/>\n",
       "</g>\n",
       "<!-- 12 -->\n",
       "<g id=\"node13\" class=\"node\">\n",
       "<title>12</title>\n",
       "<text text-anchor=\"middle\" x=\"147.5\" y=\"-309.8\" font-family=\"Times,serif\" font-size=\"14.00\">&lt;term&gt;</text>\n",
       "</g>\n",
       "<!-- 6&#45;&gt;12 -->\n",
       "<g id=\"edge12\" class=\"edge\">\n",
       "<title>6&#45;&gt;12</title>\n",
       "<path fill=\"none\" stroke=\"black\" d=\"M127.7,-356.69C130.86,-349.96 135.8,-339.42 139.96,-330.56\"/>\n",
       "<polygon fill=\"black\" stroke=\"black\" points=\"143.25,-331.79 144.33,-321.26 136.91,-328.82 143.25,-331.79\"/>\n",
       "</g>\n",
       "<!-- 8 -->\n",
       "<g id=\"node9\" class=\"node\">\n",
       "<title>8</title>\n",
       "<text text-anchor=\"middle\" x=\"27.5\" y=\"-258.8\" font-family=\"Times,serif\" font-size=\"14.00\">&lt;integer&gt;</text>\n",
       "</g>\n",
       "<!-- 7&#45;&gt;8 -->\n",
       "<g id=\"edge8\" class=\"edge\">\n",
       "<title>7&#45;&gt;8</title>\n",
       "<path fill=\"none\" stroke=\"black\" d=\"M38.69,-305.69C36.95,-299.1 34.23,-288.87 31.91,-280.14\"/>\n",
       "<polygon fill=\"black\" stroke=\"black\" points=\"35.24,-279.02 29.29,-270.26 28.47,-280.82 35.24,-279.02\"/>\n",
       "</g>\n",
       "<!-- 9 -->\n",
       "<g id=\"node10\" class=\"node\">\n",
       "<title>9</title>\n",
       "<text text-anchor=\"middle\" x=\"27.5\" y=\"-207.8\" font-family=\"Times,serif\" font-size=\"14.00\">&lt;digit&gt;</text>\n",
       "</g>\n",
       "<!-- 8&#45;&gt;9 -->\n",
       "<g id=\"edge9\" class=\"edge\">\n",
       "<title>8&#45;&gt;9</title>\n",
       "<path fill=\"none\" stroke=\"black\" d=\"M27.5,-254.69C27.5,-248.18 27.5,-238.1 27.5,-229.43\"/>\n",
       "<polygon fill=\"black\" stroke=\"black\" points=\"31,-229.26 27.5,-219.26 24,-229.26 31,-229.26\"/>\n",
       "</g>\n",
       "<!-- 10 -->\n",
       "<g id=\"node11\" class=\"node\">\n",
       "<title>10</title>\n",
       "<text text-anchor=\"middle\" x=\"27.5\" y=\"-156.8\" font-family=\"Times,serif\" font-size=\"14.00\">5</text>\n",
       "</g>\n",
       "<!-- 9&#45;&gt;10 -->\n",
       "<g id=\"edge10\" class=\"edge\">\n",
       "<title>9&#45;&gt;10</title>\n",
       "<path fill=\"none\" stroke=\"black\" d=\"M27.5,-203.69C27.5,-197.18 27.5,-187.1 27.5,-178.43\"/>\n",
       "<polygon fill=\"black\" stroke=\"black\" points=\"31,-178.26 27.5,-168.26 24,-178.26 31,-178.26\"/>\n",
       "</g>\n",
       "<!-- 13 -->\n",
       "<g id=\"node14\" class=\"node\">\n",
       "<title>13</title>\n",
       "<text text-anchor=\"middle\" x=\"97.5\" y=\"-258.8\" font-family=\"Times,serif\" font-size=\"14.00\">&lt;factor&gt;</text>\n",
       "</g>\n",
       "<!-- 12&#45;&gt;13 -->\n",
       "<g id=\"edge13\" class=\"edge\">\n",
       "<title>12&#45;&gt;13</title>\n",
       "<path fill=\"none\" stroke=\"black\" d=\"M140.55,-305.69C133.08,-298.37 121.03,-286.56 111.57,-277.29\"/>\n",
       "<polygon fill=\"black\" stroke=\"black\" points=\"113.99,-274.75 104.39,-270.26 109.09,-279.75 113.99,-274.75\"/>\n",
       "</g>\n",
       "<!-- 17 -->\n",
       "<g id=\"node18\" class=\"node\">\n",
       "<title>17</title>\n",
       "<text text-anchor=\"middle\" x=\"147.5\" y=\"-258.8\" font-family=\"Times,serif\" font-size=\"14.00\"> * </text>\n",
       "</g>\n",
       "<!-- 12&#45;&gt;17 -->\n",
       "<g id=\"edge17\" class=\"edge\">\n",
       "<title>12&#45;&gt;17</title>\n",
       "<path fill=\"none\" stroke=\"black\" d=\"M147.5,-305.69C147.5,-299.18 147.5,-289.1 147.5,-280.43\"/>\n",
       "<polygon fill=\"black\" stroke=\"black\" points=\"151,-280.26 147.5,-270.26 144,-280.26 151,-280.26\"/>\n",
       "</g>\n",
       "<!-- 18 -->\n",
       "<g id=\"node19\" class=\"node\">\n",
       "<title>18</title>\n",
       "<text text-anchor=\"middle\" x=\"194.5\" y=\"-258.8\" font-family=\"Times,serif\" font-size=\"14.00\">&lt;term&gt;</text>\n",
       "</g>\n",
       "<!-- 12&#45;&gt;18 -->\n",
       "<g id=\"edge18\" class=\"edge\">\n",
       "<title>12&#45;&gt;18</title>\n",
       "<path fill=\"none\" stroke=\"black\" d=\"M154.04,-305.69C160.98,-298.45 172.16,-286.79 181.01,-277.57\"/>\n",
       "<polygon fill=\"black\" stroke=\"black\" points=\"183.62,-279.9 188.02,-270.26 178.57,-275.05 183.62,-279.9\"/>\n",
       "</g>\n",
       "<!-- 14 -->\n",
       "<g id=\"node15\" class=\"node\">\n",
       "<title>14</title>\n",
       "<text text-anchor=\"middle\" x=\"97.5\" y=\"-207.8\" font-family=\"Times,serif\" font-size=\"14.00\">&lt;integer&gt;</text>\n",
       "</g>\n",
       "<!-- 13&#45;&gt;14 -->\n",
       "<g id=\"edge14\" class=\"edge\">\n",
       "<title>13&#45;&gt;14</title>\n",
       "<path fill=\"none\" stroke=\"black\" d=\"M97.5,-254.69C97.5,-248.18 97.5,-238.1 97.5,-229.43\"/>\n",
       "<polygon fill=\"black\" stroke=\"black\" points=\"101,-229.26 97.5,-219.26 94,-229.26 101,-229.26\"/>\n",
       "</g>\n",
       "<!-- 15 -->\n",
       "<g id=\"node16\" class=\"node\">\n",
       "<title>15</title>\n",
       "<text text-anchor=\"middle\" x=\"97.5\" y=\"-156.8\" font-family=\"Times,serif\" font-size=\"14.00\">&lt;digit&gt;</text>\n",
       "</g>\n",
       "<!-- 14&#45;&gt;15 -->\n",
       "<g id=\"edge15\" class=\"edge\">\n",
       "<title>14&#45;&gt;15</title>\n",
       "<path fill=\"none\" stroke=\"black\" d=\"M97.5,-203.69C97.5,-197.18 97.5,-187.1 97.5,-178.43\"/>\n",
       "<polygon fill=\"black\" stroke=\"black\" points=\"101,-178.26 97.5,-168.26 94,-178.26 101,-178.26\"/>\n",
       "</g>\n",
       "<!-- 16 -->\n",
       "<g id=\"node17\" class=\"node\">\n",
       "<title>16</title>\n",
       "<text text-anchor=\"middle\" x=\"97.5\" y=\"-105.8\" font-family=\"Times,serif\" font-size=\"14.00\">6</text>\n",
       "</g>\n",
       "<!-- 15&#45;&gt;16 -->\n",
       "<g id=\"edge16\" class=\"edge\">\n",
       "<title>15&#45;&gt;16</title>\n",
       "<path fill=\"none\" stroke=\"black\" d=\"M97.5,-152.69C97.5,-146.18 97.5,-136.1 97.5,-127.43\"/>\n",
       "<polygon fill=\"black\" stroke=\"black\" points=\"101,-127.26 97.5,-117.26 94,-127.26 101,-127.26\"/>\n",
       "</g>\n",
       "<!-- 19 -->\n",
       "<g id=\"node20\" class=\"node\">\n",
       "<title>19</title>\n",
       "<text text-anchor=\"middle\" x=\"180.5\" y=\"-207.8\" font-family=\"Times,serif\" font-size=\"14.00\">&lt;factor&gt;</text>\n",
       "</g>\n",
       "<!-- 18&#45;&gt;19 -->\n",
       "<g id=\"edge19\" class=\"edge\">\n",
       "<title>18&#45;&gt;19</title>\n",
       "<path fill=\"none\" stroke=\"black\" d=\"M192.55,-254.69C190.67,-248.1 187.75,-237.87 185.25,-229.14\"/>\n",
       "<polygon fill=\"black\" stroke=\"black\" points=\"188.54,-227.91 182.43,-219.26 181.81,-229.83 188.54,-227.91\"/>\n",
       "</g>\n",
       "<!-- 20 -->\n",
       "<g id=\"node21\" class=\"node\">\n",
       "<title>20</title>\n",
       "<text text-anchor=\"middle\" x=\"179.5\" y=\"-156.8\" font-family=\"Times,serif\" font-size=\"14.00\">&lt;integer&gt;</text>\n",
       "</g>\n",
       "<!-- 19&#45;&gt;20 -->\n",
       "<g id=\"edge20\" class=\"edge\">\n",
       "<title>19&#45;&gt;20</title>\n",
       "<path fill=\"none\" stroke=\"black\" d=\"M180.36,-203.69C180.23,-197.18 180.02,-187.1 179.85,-178.43\"/>\n",
       "<polygon fill=\"black\" stroke=\"black\" points=\"183.34,-178.18 179.64,-168.26 176.34,-178.32 183.34,-178.18\"/>\n",
       "</g>\n",
       "<!-- 21 -->\n",
       "<g id=\"node22\" class=\"node\">\n",
       "<title>21</title>\n",
       "<text text-anchor=\"middle\" x=\"167.5\" y=\"-105.8\" font-family=\"Times,serif\" font-size=\"14.00\">&lt;digit&gt;</text>\n",
       "</g>\n",
       "<!-- 20&#45;&gt;21 -->\n",
       "<g id=\"edge21\" class=\"edge\">\n",
       "<title>20&#45;&gt;21</title>\n",
       "<path fill=\"none\" stroke=\"black\" d=\"M177.83,-152.69C176.22,-146.1 173.71,-135.87 171.57,-127.14\"/>\n",
       "<polygon fill=\"black\" stroke=\"black\" points=\"174.93,-126.14 169.15,-117.26 168.13,-127.8 174.93,-126.14\"/>\n",
       "</g>\n",
       "<!-- 22 -->\n",
       "<g id=\"node23\" class=\"node\">\n",
       "<title>22</title>\n",
       "<text text-anchor=\"middle\" x=\"167.5\" y=\"-54.8\" font-family=\"Times,serif\" font-size=\"14.00\">6</text>\n",
       "</g>\n",
       "<!-- 21&#45;&gt;22 -->\n",
       "<g id=\"edge22\" class=\"edge\">\n",
       "<title>21&#45;&gt;22</title>\n",
       "<path fill=\"none\" stroke=\"black\" d=\"M167.5,-101.69C167.5,-95.18 167.5,-85.1 167.5,-76.43\"/>\n",
       "<polygon fill=\"black\" stroke=\"black\" points=\"171,-76.26 167.5,-66.26 164,-76.26 171,-76.26\"/>\n",
       "</g>\n",
       "<!-- 25 -->\n",
       "<g id=\"node26\" class=\"node\">\n",
       "<title>25</title>\n",
       "<text text-anchor=\"middle\" x=\"277.5\" y=\"-309.8\" font-family=\"Times,serif\" font-size=\"14.00\">&lt;term&gt;</text>\n",
       "</g>\n",
       "<!-- 24&#45;&gt;25 -->\n",
       "<g id=\"edge25\" class=\"edge\">\n",
       "<title>24&#45;&gt;25</title>\n",
       "<path fill=\"none\" stroke=\"black\" d=\"M323.99,-356.69C315.85,-349.3 302.65,-337.32 292.39,-328.01\"/>\n",
       "<polygon fill=\"black\" stroke=\"black\" points=\"294.7,-325.38 284.94,-321.26 290,-330.57 294.7,-325.38\"/>\n",
       "</g>\n",
       "<!-- 35 -->\n",
       "<g id=\"node36\" class=\"node\">\n",
       "<title>35</title>\n",
       "<text text-anchor=\"middle\" x=\"331.5\" y=\"-309.8\" font-family=\"Times,serif\" font-size=\"14.00\"> &#45; </text>\n",
       "</g>\n",
       "<!-- 24&#45;&gt;35 -->\n",
       "<g id=\"edge35\" class=\"edge\">\n",
       "<title>24&#45;&gt;35</title>\n",
       "<path fill=\"none\" stroke=\"black\" d=\"M331.5,-356.69C331.5,-350.18 331.5,-340.1 331.5,-331.43\"/>\n",
       "<polygon fill=\"black\" stroke=\"black\" points=\"335,-331.26 331.5,-321.26 328,-331.26 335,-331.26\"/>\n",
       "</g>\n",
       "<!-- 36 -->\n",
       "<g id=\"node37\" class=\"node\">\n",
       "<title>36</title>\n",
       "<text text-anchor=\"middle\" x=\"380.5\" y=\"-309.8\" font-family=\"Times,serif\" font-size=\"14.00\">&lt;expr&gt;</text>\n",
       "</g>\n",
       "<!-- 24&#45;&gt;36 -->\n",
       "<g id=\"edge36\" class=\"edge\">\n",
       "<title>24&#45;&gt;36</title>\n",
       "<path fill=\"none\" stroke=\"black\" d=\"M338.31,-356.69C345.55,-349.45 357.21,-337.79 366.43,-328.57\"/>\n",
       "<polygon fill=\"black\" stroke=\"black\" points=\"369.15,-330.8 373.74,-321.26 364.2,-325.85 369.15,-330.8\"/>\n",
       "</g>\n",
       "<!-- 26 -->\n",
       "<g id=\"node27\" class=\"node\">\n",
       "<title>26</title>\n",
       "<text text-anchor=\"middle\" x=\"275.5\" y=\"-258.8\" font-family=\"Times,serif\" font-size=\"14.00\">&lt;factor&gt;</text>\n",
       "</g>\n",
       "<!-- 25&#45;&gt;26 -->\n",
       "<g id=\"edge26\" class=\"edge\">\n",
       "<title>25&#45;&gt;26</title>\n",
       "<path fill=\"none\" stroke=\"black\" d=\"M277.22,-305.69C276.96,-299.18 276.54,-289.1 276.19,-280.43\"/>\n",
       "<polygon fill=\"black\" stroke=\"black\" points=\"279.68,-280.1 275.78,-270.26 272.69,-280.39 279.68,-280.1\"/>\n",
       "</g>\n",
       "<!-- 27 -->\n",
       "<g id=\"node28\" class=\"node\">\n",
       "<title>27</title>\n",
       "<text text-anchor=\"middle\" x=\"228.5\" y=\"-207.8\" font-family=\"Times,serif\" font-size=\"14.00\">+</text>\n",
       "</g>\n",
       "<!-- 26&#45;&gt;27 -->\n",
       "<g id=\"edge27\" class=\"edge\">\n",
       "<title>26&#45;&gt;27</title>\n",
       "<path fill=\"none\" stroke=\"black\" d=\"M268.96,-254.69C261.47,-246.88 249.06,-233.93 239.95,-224.44\"/>\n",
       "<polygon fill=\"black\" stroke=\"black\" points=\"242.45,-221.99 233.01,-217.2 237.4,-226.84 242.45,-221.99\"/>\n",
       "</g>\n",
       "<!-- 28 -->\n",
       "<g id=\"node29\" class=\"node\">\n",
       "<title>28</title>\n",
       "<text text-anchor=\"middle\" x=\"275.5\" y=\"-207.8\" font-family=\"Times,serif\" font-size=\"14.00\">&lt;factor&gt;</text>\n",
       "</g>\n",
       "<!-- 26&#45;&gt;28 -->\n",
       "<g id=\"edge28\" class=\"edge\">\n",
       "<title>26&#45;&gt;28</title>\n",
       "<path fill=\"none\" stroke=\"black\" d=\"M275.5,-254.69C275.5,-248.18 275.5,-238.1 275.5,-229.43\"/>\n",
       "<polygon fill=\"black\" stroke=\"black\" points=\"279,-229.26 275.5,-219.26 272,-229.26 279,-229.26\"/>\n",
       "</g>\n",
       "<!-- 29 -->\n",
       "<g id=\"node30\" class=\"node\">\n",
       "<title>29</title>\n",
       "<text text-anchor=\"middle\" x=\"261.5\" y=\"-156.8\" font-family=\"Times,serif\" font-size=\"14.00\">&lt;integer&gt;</text>\n",
       "</g>\n",
       "<!-- 28&#45;&gt;29 -->\n",
       "<g id=\"edge29\" class=\"edge\">\n",
       "<title>28&#45;&gt;29</title>\n",
       "<path fill=\"none\" stroke=\"black\" d=\"M273.55,-203.69C271.67,-197.1 268.75,-186.87 266.25,-178.14\"/>\n",
       "<polygon fill=\"black\" stroke=\"black\" points=\"269.54,-176.91 263.43,-168.26 262.81,-178.83 269.54,-176.91\"/>\n",
       "</g>\n",
       "<!-- 30 -->\n",
       "<g id=\"node31\" class=\"node\">\n",
       "<title>30</title>\n",
       "<text text-anchor=\"middle\" x=\"227.5\" y=\"-105.8\" font-family=\"Times,serif\" font-size=\"14.00\">&lt;digit&gt;</text>\n",
       "</g>\n",
       "<!-- 29&#45;&gt;30 -->\n",
       "<g id=\"edge30\" class=\"edge\">\n",
       "<title>29&#45;&gt;30</title>\n",
       "<path fill=\"none\" stroke=\"black\" d=\"M256.77,-152.69C251.95,-145.74 244.31,-134.73 238.04,-125.7\"/>\n",
       "<polygon fill=\"black\" stroke=\"black\" points=\"240.76,-123.48 232.19,-117.26 235.01,-127.47 240.76,-123.48\"/>\n",
       "</g>\n",
       "<!-- 32 -->\n",
       "<g id=\"node33\" class=\"node\">\n",
       "<title>32</title>\n",
       "<text text-anchor=\"middle\" x=\"294.5\" y=\"-105.8\" font-family=\"Times,serif\" font-size=\"14.00\">&lt;integer&gt;</text>\n",
       "</g>\n",
       "<!-- 29&#45;&gt;32 -->\n",
       "<g id=\"edge32\" class=\"edge\">\n",
       "<title>29&#45;&gt;32</title>\n",
       "<path fill=\"none\" stroke=\"black\" d=\"M266.09,-152.69C270.77,-145.74 278.18,-134.73 284.27,-125.7\"/>\n",
       "<polygon fill=\"black\" stroke=\"black\" points=\"287.27,-127.5 289.95,-117.26 281.46,-123.59 287.27,-127.5\"/>\n",
       "</g>\n",
       "<!-- 31 -->\n",
       "<g id=\"node32\" class=\"node\">\n",
       "<title>31</title>\n",
       "<text text-anchor=\"middle\" x=\"227.5\" y=\"-54.8\" font-family=\"Times,serif\" font-size=\"14.00\">4</text>\n",
       "</g>\n",
       "<!-- 30&#45;&gt;31 -->\n",
       "<g id=\"edge31\" class=\"edge\">\n",
       "<title>30&#45;&gt;31</title>\n",
       "<path fill=\"none\" stroke=\"black\" d=\"M227.5,-101.69C227.5,-95.18 227.5,-85.1 227.5,-76.43\"/>\n",
       "<polygon fill=\"black\" stroke=\"black\" points=\"231,-76.26 227.5,-66.26 224,-76.26 231,-76.26\"/>\n",
       "</g>\n",
       "<!-- 33 -->\n",
       "<g id=\"node34\" class=\"node\">\n",
       "<title>33</title>\n",
       "<text text-anchor=\"middle\" x=\"294.5\" y=\"-54.8\" font-family=\"Times,serif\" font-size=\"14.00\">&lt;digit&gt;</text>\n",
       "</g>\n",
       "<!-- 32&#45;&gt;33 -->\n",
       "<g id=\"edge33\" class=\"edge\">\n",
       "<title>32&#45;&gt;33</title>\n",
       "<path fill=\"none\" stroke=\"black\" d=\"M294.5,-101.69C294.5,-95.18 294.5,-85.1 294.5,-76.43\"/>\n",
       "<polygon fill=\"black\" stroke=\"black\" points=\"298,-76.26 294.5,-66.26 291,-76.26 298,-76.26\"/>\n",
       "</g>\n",
       "<!-- 34 -->\n",
       "<g id=\"node35\" class=\"node\">\n",
       "<title>34</title>\n",
       "<text text-anchor=\"middle\" x=\"294.5\" y=\"-3.8\" font-family=\"Times,serif\" font-size=\"14.00\">1</text>\n",
       "</g>\n",
       "<!-- 33&#45;&gt;34 -->\n",
       "<g id=\"edge34\" class=\"edge\">\n",
       "<title>33&#45;&gt;34</title>\n",
       "<path fill=\"none\" stroke=\"black\" d=\"M294.5,-50.69C294.5,-44.18 294.5,-34.1 294.5,-25.43\"/>\n",
       "<polygon fill=\"black\" stroke=\"black\" points=\"298,-25.26 294.5,-15.26 291,-25.26 298,-25.26\"/>\n",
       "</g>\n",
       "<!-- 37 -->\n",
       "<g id=\"node38\" class=\"node\">\n",
       "<title>37</title>\n",
       "<text text-anchor=\"middle\" x=\"397.5\" y=\"-258.8\" font-family=\"Times,serif\" font-size=\"14.00\">&lt;term&gt;</text>\n",
       "</g>\n",
       "<!-- 36&#45;&gt;37 -->\n",
       "<g id=\"edge37\" class=\"edge\">\n",
       "<title>36&#45;&gt;37</title>\n",
       "<path fill=\"none\" stroke=\"black\" d=\"M382.86,-305.69C385.17,-299.03 388.78,-288.65 391.83,-279.85\"/>\n",
       "<polygon fill=\"black\" stroke=\"black\" points=\"395.19,-280.85 395.16,-270.26 388.57,-278.56 395.19,-280.85\"/>\n",
       "</g>\n",
       "<!-- 38 -->\n",
       "<g id=\"node39\" class=\"node\">\n",
       "<title>38</title>\n",
       "<text text-anchor=\"middle\" x=\"382.5\" y=\"-207.8\" font-family=\"Times,serif\" font-size=\"14.00\">&lt;factor&gt;</text>\n",
       "</g>\n",
       "<!-- 37&#45;&gt;38 -->\n",
       "<g id=\"edge38\" class=\"edge\">\n",
       "<title>37&#45;&gt;38</title>\n",
       "<path fill=\"none\" stroke=\"black\" d=\"M395.41,-254.69C393.38,-248.03 390.2,-237.65 387.5,-228.85\"/>\n",
       "<polygon fill=\"black\" stroke=\"black\" points=\"390.84,-227.79 384.57,-219.26 384.15,-229.84 390.84,-227.79\"/>\n",
       "</g>\n",
       "<!-- 46 -->\n",
       "<g id=\"node47\" class=\"node\">\n",
       "<title>46</title>\n",
       "<text text-anchor=\"middle\" x=\"432.5\" y=\"-207.8\" font-family=\"Times,serif\" font-size=\"14.00\"> * </text>\n",
       "</g>\n",
       "<!-- 37&#45;&gt;46 -->\n",
       "<g id=\"edge46\" class=\"edge\">\n",
       "<title>37&#45;&gt;46</title>\n",
       "<path fill=\"none\" stroke=\"black\" d=\"M402.37,-254.69C407.38,-247.67 415.36,-236.49 421.85,-227.41\"/>\n",
       "<polygon fill=\"black\" stroke=\"black\" points=\"424.71,-229.43 427.67,-219.26 419.01,-225.36 424.71,-229.43\"/>\n",
       "</g>\n",
       "<!-- 47 -->\n",
       "<g id=\"node48\" class=\"node\">\n",
       "<title>47</title>\n",
       "<text text-anchor=\"middle\" x=\"491.5\" y=\"-207.8\" font-family=\"Times,serif\" font-size=\"14.00\">&lt;term&gt;</text>\n",
       "</g>\n",
       "<!-- 37&#45;&gt;47 -->\n",
       "<g id=\"edge47\" class=\"edge\">\n",
       "<title>37&#45;&gt;47</title>\n",
       "<path fill=\"none\" stroke=\"black\" d=\"M410.18,-254.89C425.54,-246.88 451.66,-233.27 470.15,-223.63\"/>\n",
       "<polygon fill=\"black\" stroke=\"black\" points=\"471.77,-226.73 479.02,-219 468.54,-220.52 471.77,-226.73\"/>\n",
       "</g>\n",
       "<!-- 39 -->\n",
       "<g id=\"node40\" class=\"node\">\n",
       "<title>39</title>\n",
       "<text text-anchor=\"middle\" x=\"334.5\" y=\"-156.8\" font-family=\"Times,serif\" font-size=\"14.00\">&lt;integer&gt;</text>\n",
       "</g>\n",
       "<!-- 38&#45;&gt;39 -->\n",
       "<g id=\"edge39\" class=\"edge\">\n",
       "<title>38&#45;&gt;39</title>\n",
       "<path fill=\"none\" stroke=\"black\" d=\"M375.83,-203.69C368.73,-196.45 357.32,-184.79 348.28,-175.57\"/>\n",
       "<polygon fill=\"black\" stroke=\"black\" points=\"350.62,-172.95 341.12,-168.26 345.62,-177.85 350.62,-172.95\"/>\n",
       "</g>\n",
       "<!-- 42 -->\n",
       "<g id=\"node43\" class=\"node\">\n",
       "<title>42</title>\n",
       "<text text-anchor=\"middle\" x=\"382.5\" y=\"-156.8\" font-family=\"Times,serif\" font-size=\"14.00\">.</text>\n",
       "</g>\n",
       "<!-- 38&#45;&gt;42 -->\n",
       "<g id=\"edge42\" class=\"edge\">\n",
       "<title>38&#45;&gt;42</title>\n",
       "<path fill=\"none\" stroke=\"black\" d=\"M382.5,-203.69C382.5,-197.18 382.5,-187.1 382.5,-178.43\"/>\n",
       "<polygon fill=\"black\" stroke=\"black\" points=\"386,-178.26 382.5,-168.26 379,-178.26 386,-178.26\"/>\n",
       "</g>\n",
       "<!-- 43 -->\n",
       "<g id=\"node44\" class=\"node\">\n",
       "<title>43</title>\n",
       "<text text-anchor=\"middle\" x=\"430.5\" y=\"-156.8\" font-family=\"Times,serif\" font-size=\"14.00\">&lt;integer&gt;</text>\n",
       "</g>\n",
       "<!-- 38&#45;&gt;43 -->\n",
       "<g id=\"edge43\" class=\"edge\">\n",
       "<title>38&#45;&gt;43</title>\n",
       "<path fill=\"none\" stroke=\"black\" d=\"M389.17,-203.69C396.27,-196.45 407.68,-184.79 416.72,-175.57\"/>\n",
       "<polygon fill=\"black\" stroke=\"black\" points=\"419.38,-177.85 423.88,-168.26 414.38,-172.95 419.38,-177.85\"/>\n",
       "</g>\n",
       "<!-- 40 -->\n",
       "<g id=\"node41\" class=\"node\">\n",
       "<title>40</title>\n",
       "<text text-anchor=\"middle\" x=\"361.5\" y=\"-105.8\" font-family=\"Times,serif\" font-size=\"14.00\">&lt;digit&gt;</text>\n",
       "</g>\n",
       "<!-- 39&#45;&gt;40 -->\n",
       "<g id=\"edge40\" class=\"edge\">\n",
       "<title>39&#45;&gt;40</title>\n",
       "<path fill=\"none\" stroke=\"black\" d=\"M338.25,-152.69C342,-145.88 347.9,-135.19 352.81,-126.27\"/>\n",
       "<polygon fill=\"black\" stroke=\"black\" points=\"356.02,-127.7 357.78,-117.26 349.89,-124.32 356.02,-127.7\"/>\n",
       "</g>\n",
       "<!-- 41 -->\n",
       "<g id=\"node42\" class=\"node\">\n",
       "<title>41</title>\n",
       "<text text-anchor=\"middle\" x=\"361.5\" y=\"-54.8\" font-family=\"Times,serif\" font-size=\"14.00\">5</text>\n",
       "</g>\n",
       "<!-- 40&#45;&gt;41 -->\n",
       "<g id=\"edge41\" class=\"edge\">\n",
       "<title>40&#45;&gt;41</title>\n",
       "<path fill=\"none\" stroke=\"black\" d=\"M361.5,-101.69C361.5,-95.18 361.5,-85.1 361.5,-76.43\"/>\n",
       "<polygon fill=\"black\" stroke=\"black\" points=\"365,-76.26 361.5,-66.26 358,-76.26 365,-76.26\"/>\n",
       "</g>\n",
       "<!-- 44 -->\n",
       "<g id=\"node45\" class=\"node\">\n",
       "<title>44</title>\n",
       "<text text-anchor=\"middle\" x=\"430.5\" y=\"-105.8\" font-family=\"Times,serif\" font-size=\"14.00\">&lt;digit&gt;</text>\n",
       "</g>\n",
       "<!-- 43&#45;&gt;44 -->\n",
       "<g id=\"edge44\" class=\"edge\">\n",
       "<title>43&#45;&gt;44</title>\n",
       "<path fill=\"none\" stroke=\"black\" d=\"M430.5,-152.69C430.5,-146.18 430.5,-136.1 430.5,-127.43\"/>\n",
       "<polygon fill=\"black\" stroke=\"black\" points=\"434,-127.26 430.5,-117.26 427,-127.26 434,-127.26\"/>\n",
       "</g>\n",
       "<!-- 45 -->\n",
       "<g id=\"node46\" class=\"node\">\n",
       "<title>45</title>\n",
       "<text text-anchor=\"middle\" x=\"430.5\" y=\"-54.8\" font-family=\"Times,serif\" font-size=\"14.00\">9</text>\n",
       "</g>\n",
       "<!-- 44&#45;&gt;45 -->\n",
       "<g id=\"edge45\" class=\"edge\">\n",
       "<title>44&#45;&gt;45</title>\n",
       "<path fill=\"none\" stroke=\"black\" d=\"M430.5,-101.69C430.5,-95.18 430.5,-85.1 430.5,-76.43\"/>\n",
       "<polygon fill=\"black\" stroke=\"black\" points=\"434,-76.26 430.5,-66.26 427,-76.26 434,-76.26\"/>\n",
       "</g>\n",
       "<!-- 48 -->\n",
       "<g id=\"node49\" class=\"node\">\n",
       "<title>48</title>\n",
       "<text text-anchor=\"middle\" x=\"500.5\" y=\"-156.8\" font-family=\"Times,serif\" font-size=\"14.00\">&lt;factor&gt;</text>\n",
       "</g>\n",
       "<!-- 47&#45;&gt;48 -->\n",
       "<g id=\"edge48\" class=\"edge\">\n",
       "<title>47&#45;&gt;48</title>\n",
       "<path fill=\"none\" stroke=\"black\" d=\"M492.75,-203.69C493.96,-197.1 495.84,-186.87 497.44,-178.14\"/>\n",
       "<polygon fill=\"black\" stroke=\"black\" points=\"500.9,-178.72 499.26,-168.26 494.01,-177.46 500.9,-178.72\"/>\n",
       "</g>\n",
       "<!-- 49 -->\n",
       "<g id=\"node50\" class=\"node\">\n",
       "<title>49</title>\n",
       "<text text-anchor=\"middle\" x=\"500.5\" y=\"-105.8\" font-family=\"Times,serif\" font-size=\"14.00\">&lt;integer&gt;</text>\n",
       "</g>\n",
       "<!-- 48&#45;&gt;49 -->\n",
       "<g id=\"edge49\" class=\"edge\">\n",
       "<title>48&#45;&gt;49</title>\n",
       "<path fill=\"none\" stroke=\"black\" d=\"M500.5,-152.69C500.5,-146.18 500.5,-136.1 500.5,-127.43\"/>\n",
       "<polygon fill=\"black\" stroke=\"black\" points=\"504,-127.26 500.5,-117.26 497,-127.26 504,-127.26\"/>\n",
       "</g>\n",
       "<!-- 50 -->\n",
       "<g id=\"node51\" class=\"node\">\n",
       "<title>50</title>\n",
       "<text text-anchor=\"middle\" x=\"500.5\" y=\"-54.8\" font-family=\"Times,serif\" font-size=\"14.00\">&lt;digit&gt;</text>\n",
       "</g>\n",
       "<!-- 49&#45;&gt;50 -->\n",
       "<g id=\"edge50\" class=\"edge\">\n",
       "<title>49&#45;&gt;50</title>\n",
       "<path fill=\"none\" stroke=\"black\" d=\"M500.5,-101.69C500.5,-95.18 500.5,-85.1 500.5,-76.43\"/>\n",
       "<polygon fill=\"black\" stroke=\"black\" points=\"504,-76.26 500.5,-66.26 497,-76.26 504,-76.26\"/>\n",
       "</g>\n",
       "<!-- 51 -->\n",
       "<g id=\"node52\" class=\"node\">\n",
       "<title>51</title>\n",
       "<text text-anchor=\"middle\" x=\"500.5\" y=\"-3.8\" font-family=\"Times,serif\" font-size=\"14.00\">3</text>\n",
       "</g>\n",
       "<!-- 50&#45;&gt;51 -->\n",
       "<g id=\"edge51\" class=\"edge\">\n",
       "<title>50&#45;&gt;51</title>\n",
       "<path fill=\"none\" stroke=\"black\" d=\"M500.5,-50.69C500.5,-44.18 500.5,-34.1 500.5,-25.43\"/>\n",
       "<polygon fill=\"black\" stroke=\"black\" points=\"504,-25.26 500.5,-15.26 497,-25.26 504,-25.26\"/>\n",
       "</g>\n",
       "<!-- 55 -->\n",
       "<g id=\"node56\" class=\"node\">\n",
       "<title>55</title>\n",
       "<text text-anchor=\"middle\" x=\"442.5\" y=\"-411.8\" font-family=\"Times,serif\" font-size=\"14.00\">&lt;factor&gt;</text>\n",
       "</g>\n",
       "<!-- 54&#45;&gt;55 -->\n",
       "<g id=\"edge55\" class=\"edge\">\n",
       "<title>54&#45;&gt;55</title>\n",
       "<path fill=\"none\" stroke=\"black\" d=\"M463.16,-458.69C459.83,-451.88 454.59,-441.19 450.22,-432.27\"/>\n",
       "<polygon fill=\"black\" stroke=\"black\" points=\"453.35,-430.7 445.81,-423.26 447.06,-433.78 453.35,-430.7\"/>\n",
       "</g>\n",
       "<!-- 59 -->\n",
       "<g id=\"node60\" class=\"node\">\n",
       "<title>59</title>\n",
       "<text text-anchor=\"middle\" x=\"491.5\" y=\"-411.8\" font-family=\"Times,serif\" font-size=\"14.00\"> / </text>\n",
       "</g>\n",
       "<!-- 54&#45;&gt;59 -->\n",
       "<g id=\"edge59\" class=\"edge\">\n",
       "<title>54&#45;&gt;59</title>\n",
       "<path fill=\"none\" stroke=\"black\" d=\"M469.98,-458.69C473.45,-451.88 478.9,-441.19 483.45,-432.27\"/>\n",
       "<polygon fill=\"black\" stroke=\"black\" points=\"486.63,-433.75 488.05,-423.26 480.39,-430.57 486.63,-433.75\"/>\n",
       "</g>\n",
       "<!-- 60 -->\n",
       "<g id=\"node61\" class=\"node\">\n",
       "<title>60</title>\n",
       "<text text-anchor=\"middle\" x=\"542.5\" y=\"-411.8\" font-family=\"Times,serif\" font-size=\"14.00\">&lt;term&gt;</text>\n",
       "</g>\n",
       "<!-- 54&#45;&gt;60 -->\n",
       "<g id=\"edge60\" class=\"edge\">\n",
       "<title>54&#45;&gt;60</title>\n",
       "<path fill=\"none\" stroke=\"black\" d=\"M476.75,-458.89C488.83,-451.1 509.13,-438.01 523.99,-428.43\"/>\n",
       "<polygon fill=\"black\" stroke=\"black\" points=\"525.9,-431.36 532.41,-423 522.11,-425.48 525.9,-431.36\"/>\n",
       "</g>\n",
       "<!-- 56 -->\n",
       "<g id=\"node57\" class=\"node\">\n",
       "<title>56</title>\n",
       "<text text-anchor=\"middle\" x=\"442.5\" y=\"-360.8\" font-family=\"Times,serif\" font-size=\"14.00\">&lt;integer&gt;</text>\n",
       "</g>\n",
       "<!-- 55&#45;&gt;56 -->\n",
       "<g id=\"edge56\" class=\"edge\">\n",
       "<title>55&#45;&gt;56</title>\n",
       "<path fill=\"none\" stroke=\"black\" d=\"M442.5,-407.69C442.5,-401.18 442.5,-391.1 442.5,-382.43\"/>\n",
       "<polygon fill=\"black\" stroke=\"black\" points=\"446,-382.26 442.5,-372.26 439,-382.26 446,-382.26\"/>\n",
       "</g>\n",
       "<!-- 57 -->\n",
       "<g id=\"node58\" class=\"node\">\n",
       "<title>57</title>\n",
       "<text text-anchor=\"middle\" x=\"442.5\" y=\"-309.8\" font-family=\"Times,serif\" font-size=\"14.00\">&lt;digit&gt;</text>\n",
       "</g>\n",
       "<!-- 56&#45;&gt;57 -->\n",
       "<g id=\"edge57\" class=\"edge\">\n",
       "<title>56&#45;&gt;57</title>\n",
       "<path fill=\"none\" stroke=\"black\" d=\"M442.5,-356.69C442.5,-350.18 442.5,-340.1 442.5,-331.43\"/>\n",
       "<polygon fill=\"black\" stroke=\"black\" points=\"446,-331.26 442.5,-321.26 439,-331.26 446,-331.26\"/>\n",
       "</g>\n",
       "<!-- 58 -->\n",
       "<g id=\"node59\" class=\"node\">\n",
       "<title>58</title>\n",
       "<text text-anchor=\"middle\" x=\"442.5\" y=\"-258.8\" font-family=\"Times,serif\" font-size=\"14.00\">4</text>\n",
       "</g>\n",
       "<!-- 57&#45;&gt;58 -->\n",
       "<g id=\"edge58\" class=\"edge\">\n",
       "<title>57&#45;&gt;58</title>\n",
       "<path fill=\"none\" stroke=\"black\" d=\"M442.5,-305.69C442.5,-299.18 442.5,-289.1 442.5,-280.43\"/>\n",
       "<polygon fill=\"black\" stroke=\"black\" points=\"446,-280.26 442.5,-270.26 439,-280.26 446,-280.26\"/>\n",
       "</g>\n",
       "<!-- 61 -->\n",
       "<g id=\"node62\" class=\"node\">\n",
       "<title>61</title>\n",
       "<text text-anchor=\"middle\" x=\"533.5\" y=\"-360.8\" font-family=\"Times,serif\" font-size=\"14.00\">&lt;factor&gt;</text>\n",
       "</g>\n",
       "<!-- 60&#45;&gt;61 -->\n",
       "<g id=\"edge61\" class=\"edge\">\n",
       "<title>60&#45;&gt;61</title>\n",
       "<path fill=\"none\" stroke=\"black\" d=\"M541.25,-407.69C540.04,-401.1 538.16,-390.87 536.56,-382.14\"/>\n",
       "<polygon fill=\"black\" stroke=\"black\" points=\"539.99,-381.46 534.74,-372.26 533.1,-382.72 539.99,-381.46\"/>\n",
       "</g>\n",
       "<!-- 70 -->\n",
       "<g id=\"node71\" class=\"node\">\n",
       "<title>70</title>\n",
       "<text text-anchor=\"middle\" x=\"582.5\" y=\"-360.8\" font-family=\"Times,serif\" font-size=\"14.00\"> / </text>\n",
       "</g>\n",
       "<!-- 60&#45;&gt;70 -->\n",
       "<g id=\"edge70\" class=\"edge\">\n",
       "<title>60&#45;&gt;70</title>\n",
       "<path fill=\"none\" stroke=\"black\" d=\"M548.06,-407.69C553.85,-400.59 563.1,-389.26 570.56,-380.13\"/>\n",
       "<polygon fill=\"black\" stroke=\"black\" points=\"573.37,-382.22 576.99,-372.26 567.95,-377.79 573.37,-382.22\"/>\n",
       "</g>\n",
       "<!-- 71 -->\n",
       "<g id=\"node72\" class=\"node\">\n",
       "<title>71</title>\n",
       "<text text-anchor=\"middle\" x=\"628.5\" y=\"-360.8\" font-family=\"Times,serif\" font-size=\"14.00\">&lt;term&gt;</text>\n",
       "</g>\n",
       "<!-- 60&#45;&gt;71 -->\n",
       "<g id=\"edge71\" class=\"edge\">\n",
       "<title>60&#45;&gt;71</title>\n",
       "<path fill=\"none\" stroke=\"black\" d=\"M554.1,-407.89C567.9,-400.03 591.18,-386.77 608.03,-377.16\"/>\n",
       "<polygon fill=\"black\" stroke=\"black\" points=\"610.13,-380 617.09,-372 606.66,-373.91 610.13,-380\"/>\n",
       "</g>\n",
       "<!-- 62 -->\n",
       "<g id=\"node63\" class=\"node\">\n",
       "<title>62</title>\n",
       "<text text-anchor=\"middle\" x=\"497.5\" y=\"-309.8\" font-family=\"Times,serif\" font-size=\"14.00\">(</text>\n",
       "</g>\n",
       "<!-- 61&#45;&gt;62 -->\n",
       "<g id=\"edge62\" class=\"edge\">\n",
       "<title>61&#45;&gt;62</title>\n",
       "<path fill=\"none\" stroke=\"black\" d=\"M528.49,-356.69C522.76,-348.88 513.25,-335.94 506.28,-326.45\"/>\n",
       "<polygon fill=\"black\" stroke=\"black\" points=\"508.93,-324.15 500.19,-318.16 503.29,-328.29 508.93,-324.15\"/>\n",
       "</g>\n",
       "<!-- 63 -->\n",
       "<g id=\"node64\" class=\"node\">\n",
       "<title>63</title>\n",
       "<text text-anchor=\"middle\" x=\"538.5\" y=\"-309.8\" font-family=\"Times,serif\" font-size=\"14.00\">&lt;expr&gt;</text>\n",
       "</g>\n",
       "<!-- 61&#45;&gt;63 -->\n",
       "<g id=\"edge63\" class=\"edge\">\n",
       "<title>61&#45;&gt;63</title>\n",
       "<path fill=\"none\" stroke=\"black\" d=\"M534.2,-356.69C534.86,-350.18 535.89,-340.1 536.77,-331.43\"/>\n",
       "<polygon fill=\"black\" stroke=\"black\" points=\"540.28,-331.56 537.81,-321.26 533.31,-330.85 540.28,-331.56\"/>\n",
       "</g>\n",
       "<!-- 69 -->\n",
       "<g id=\"node70\" class=\"node\">\n",
       "<title>69</title>\n",
       "<text text-anchor=\"middle\" x=\"579.5\" y=\"-309.8\" font-family=\"Times,serif\" font-size=\"14.00\">)</text>\n",
       "</g>\n",
       "<!-- 61&#45;&gt;69 -->\n",
       "<g id=\"edge69\" class=\"edge\">\n",
       "<title>61&#45;&gt;69</title>\n",
       "<path fill=\"none\" stroke=\"black\" d=\"M539.9,-356.69C547.68,-348.4 560.89,-334.32 569.9,-324.73\"/>\n",
       "<polygon fill=\"black\" stroke=\"black\" points=\"572.64,-326.93 576.93,-317.24 567.53,-322.13 572.64,-326.93\"/>\n",
       "</g>\n",
       "<!-- 64 -->\n",
       "<g id=\"node65\" class=\"node\">\n",
       "<title>64</title>\n",
       "<text text-anchor=\"middle\" x=\"550.5\" y=\"-258.8\" font-family=\"Times,serif\" font-size=\"14.00\">&lt;term&gt;</text>\n",
       "</g>\n",
       "<!-- 63&#45;&gt;64 -->\n",
       "<g id=\"edge64\" class=\"edge\">\n",
       "<title>63&#45;&gt;64</title>\n",
       "<path fill=\"none\" stroke=\"black\" d=\"M540.17,-305.69C541.78,-299.1 544.29,-288.87 546.43,-280.14\"/>\n",
       "<polygon fill=\"black\" stroke=\"black\" points=\"549.87,-280.8 548.85,-270.26 543.07,-279.14 549.87,-280.8\"/>\n",
       "</g>\n",
       "<!-- 65 -->\n",
       "<g id=\"node66\" class=\"node\">\n",
       "<title>65</title>\n",
       "<text text-anchor=\"middle\" x=\"561.5\" y=\"-207.8\" font-family=\"Times,serif\" font-size=\"14.00\">&lt;factor&gt;</text>\n",
       "</g>\n",
       "<!-- 64&#45;&gt;65 -->\n",
       "<g id=\"edge65\" class=\"edge\">\n",
       "<title>64&#45;&gt;65</title>\n",
       "<path fill=\"none\" stroke=\"black\" d=\"M552.03,-254.69C553.51,-248.1 555.8,-237.87 557.77,-229.14\"/>\n",
       "<polygon fill=\"black\" stroke=\"black\" points=\"561.21,-229.78 559.98,-219.26 554.38,-228.25 561.21,-229.78\"/>\n",
       "</g>\n",
       "<!-- 66 -->\n",
       "<g id=\"node67\" class=\"node\">\n",
       "<title>66</title>\n",
       "<text text-anchor=\"middle\" x=\"570.5\" y=\"-156.8\" font-family=\"Times,serif\" font-size=\"14.00\">&lt;integer&gt;</text>\n",
       "</g>\n",
       "<!-- 65&#45;&gt;66 -->\n",
       "<g id=\"edge66\" class=\"edge\">\n",
       "<title>65&#45;&gt;66</title>\n",
       "<path fill=\"none\" stroke=\"black\" d=\"M562.75,-203.69C563.96,-197.1 565.84,-186.87 567.44,-178.14\"/>\n",
       "<polygon fill=\"black\" stroke=\"black\" points=\"570.9,-178.72 569.26,-168.26 564.01,-177.46 570.9,-178.72\"/>\n",
       "</g>\n",
       "<!-- 67 -->\n",
       "<g id=\"node68\" class=\"node\">\n",
       "<title>67</title>\n",
       "<text text-anchor=\"middle\" x=\"570.5\" y=\"-105.8\" font-family=\"Times,serif\" font-size=\"14.00\">&lt;digit&gt;</text>\n",
       "</g>\n",
       "<!-- 66&#45;&gt;67 -->\n",
       "<g id=\"edge67\" class=\"edge\">\n",
       "<title>66&#45;&gt;67</title>\n",
       "<path fill=\"none\" stroke=\"black\" d=\"M570.5,-152.69C570.5,-146.18 570.5,-136.1 570.5,-127.43\"/>\n",
       "<polygon fill=\"black\" stroke=\"black\" points=\"574,-127.26 570.5,-117.26 567,-127.26 574,-127.26\"/>\n",
       "</g>\n",
       "<!-- 68 -->\n",
       "<g id=\"node69\" class=\"node\">\n",
       "<title>68</title>\n",
       "<text text-anchor=\"middle\" x=\"570.5\" y=\"-54.8\" font-family=\"Times,serif\" font-size=\"14.00\">3</text>\n",
       "</g>\n",
       "<!-- 67&#45;&gt;68 -->\n",
       "<g id=\"edge68\" class=\"edge\">\n",
       "<title>67&#45;&gt;68</title>\n",
       "<path fill=\"none\" stroke=\"black\" d=\"M570.5,-101.69C570.5,-95.18 570.5,-85.1 570.5,-76.43\"/>\n",
       "<polygon fill=\"black\" stroke=\"black\" points=\"574,-76.26 570.5,-66.26 567,-76.26 574,-76.26\"/>\n",
       "</g>\n",
       "<!-- 72 -->\n",
       "<g id=\"node73\" class=\"node\">\n",
       "<title>72</title>\n",
       "<text text-anchor=\"middle\" x=\"628.5\" y=\"-309.8\" font-family=\"Times,serif\" font-size=\"14.00\">&lt;factor&gt;</text>\n",
       "</g>\n",
       "<!-- 71&#45;&gt;72 -->\n",
       "<g id=\"edge72\" class=\"edge\">\n",
       "<title>71&#45;&gt;72</title>\n",
       "<path fill=\"none\" stroke=\"black\" d=\"M628.5,-356.69C628.5,-350.18 628.5,-340.1 628.5,-331.43\"/>\n",
       "<polygon fill=\"black\" stroke=\"black\" points=\"632,-331.26 628.5,-321.26 625,-331.26 632,-331.26\"/>\n",
       "</g>\n",
       "<!-- 73 -->\n",
       "<g id=\"node74\" class=\"node\">\n",
       "<title>73</title>\n",
       "<text text-anchor=\"middle\" x=\"628.5\" y=\"-258.8\" font-family=\"Times,serif\" font-size=\"14.00\">&lt;integer&gt;</text>\n",
       "</g>\n",
       "<!-- 72&#45;&gt;73 -->\n",
       "<g id=\"edge73\" class=\"edge\">\n",
       "<title>72&#45;&gt;73</title>\n",
       "<path fill=\"none\" stroke=\"black\" d=\"M628.5,-305.69C628.5,-299.18 628.5,-289.1 628.5,-280.43\"/>\n",
       "<polygon fill=\"black\" stroke=\"black\" points=\"632,-280.26 628.5,-270.26 625,-280.26 632,-280.26\"/>\n",
       "</g>\n",
       "<!-- 74 -->\n",
       "<g id=\"node75\" class=\"node\">\n",
       "<title>74</title>\n",
       "<text text-anchor=\"middle\" x=\"628.5\" y=\"-207.8\" font-family=\"Times,serif\" font-size=\"14.00\">&lt;digit&gt;</text>\n",
       "</g>\n",
       "<!-- 73&#45;&gt;74 -->\n",
       "<g id=\"edge74\" class=\"edge\">\n",
       "<title>73&#45;&gt;74</title>\n",
       "<path fill=\"none\" stroke=\"black\" d=\"M628.5,-254.69C628.5,-248.18 628.5,-238.1 628.5,-229.43\"/>\n",
       "<polygon fill=\"black\" stroke=\"black\" points=\"632,-229.26 628.5,-219.26 625,-229.26 632,-229.26\"/>\n",
       "</g>\n",
       "<!-- 75 -->\n",
       "<g id=\"node76\" class=\"node\">\n",
       "<title>75</title>\n",
       "<text text-anchor=\"middle\" x=\"628.5\" y=\"-156.8\" font-family=\"Times,serif\" font-size=\"14.00\">1</text>\n",
       "</g>\n",
       "<!-- 74&#45;&gt;75 -->\n",
       "<g id=\"edge75\" class=\"edge\">\n",
       "<title>74&#45;&gt;75</title>\n",
       "<path fill=\"none\" stroke=\"black\" d=\"M628.5,-203.69C628.5,-197.18 628.5,-187.1 628.5,-178.43\"/>\n",
       "<polygon fill=\"black\" stroke=\"black\" points=\"632,-178.26 628.5,-168.26 625,-178.26 632,-178.26\"/>\n",
       "</g>\n",
       "</g>\n",
       "</svg>\n"
      ],
      "text/plain": [
       "<graphviz.graphs.Digraph at 0x122582b60>"
      ]
     },
     "execution_count": 113,
     "metadata": {},
     "output_type": "execute_result"
    }
   ],
   "source": [
    "display_tree(f.derivation_tree)"
   ]
  },
  {
   "cell_type": "markdown",
   "metadata": {
    "slideshow": {
     "slide_type": "subslide"
    }
   },
   "source": [
    "Let us try out the grammar fuzzer (and its trees) on other grammar formats."
   ]
  },
  {
   "cell_type": "code",
   "execution_count": 114,
   "metadata": {
    "button": false,
    "execution": {
     "iopub.execute_input": "2022-08-06T15:52:17.531936Z",
     "iopub.status.busy": "2022-08-06T15:52:17.531635Z",
     "iopub.status.idle": "2022-08-06T15:52:17.533039Z",
     "shell.execute_reply": "2022-08-06T15:52:17.533207Z"
    },
    "new_sheet": false,
    "run_control": {
     "read_only": false
    },
    "slideshow": {
     "slide_type": "fragment"
    }
   },
   "outputs": [
    {
     "data": {
      "text/plain": [
       "'http://fuzzingbook.com:80?x67=8&x47=x05'"
      ]
     },
     "execution_count": 114,
     "metadata": {},
     "output_type": "execute_result"
    }
   ],
   "source": [
    "f = GrammarFuzzer(URL_GRAMMAR)\n",
    "f.fuzz()"
   ]
  },
  {
   "cell_type": "code",
   "execution_count": 115,
   "metadata": {
    "execution": {
     "iopub.execute_input": "2022-08-06T15:52:17.538290Z",
     "iopub.status.busy": "2022-08-06T15:52:17.537962Z",
     "iopub.status.idle": "2022-08-06T15:52:17.828260Z",
     "shell.execute_reply": "2022-08-06T15:52:17.828686Z"
    },
    "slideshow": {
     "slide_type": "fragment"
    }
   },
   "outputs": [
    {
     "data": {
      "image/svg+xml": [
       "<?xml version=\"1.0\" encoding=\"UTF-8\" standalone=\"no\"?>\n",
       "<!DOCTYPE svg PUBLIC \"-//W3C//DTD SVG 1.1//EN\"\n",
       " \"http://www.w3.org/Graphics/SVG/1.1/DTD/svg11.dtd\">\n",
       "<!-- Generated by graphviz version 5.0.0 (20220707.1540)\n",
       " -->\n",
       "<!-- Pages: 1 -->\n",
       "<svg width=\"588pt\" height=\"431pt\"\n",
       " viewBox=\"0.00 0.00 588.00 431.00\" xmlns=\"http://www.w3.org/2000/svg\" xmlns:xlink=\"http://www.w3.org/1999/xlink\">\n",
       "<g id=\"graph0\" class=\"graph\" transform=\"scale(1 1) rotate(0) translate(4 427)\">\n",
       "<polygon fill=\"white\" stroke=\"transparent\" points=\"-4,4 -4,-427 584,-427 584,4 -4,4\"/>\n",
       "<!-- 0 -->\n",
       "<g id=\"node1\" class=\"node\">\n",
       "<title>0</title>\n",
       "<text text-anchor=\"middle\" x=\"139\" y=\"-411.8\" font-family=\"Times,serif\" font-size=\"14.00\">&lt;start&gt;</text>\n",
       "</g>\n",
       "<!-- 1 -->\n",
       "<g id=\"node2\" class=\"node\">\n",
       "<title>1</title>\n",
       "<text text-anchor=\"middle\" x=\"139\" y=\"-360.8\" font-family=\"Times,serif\" font-size=\"14.00\">&lt;url&gt;</text>\n",
       "</g>\n",
       "<!-- 0&#45;&gt;1 -->\n",
       "<g id=\"edge1\" class=\"edge\">\n",
       "<title>0&#45;&gt;1</title>\n",
       "<path fill=\"none\" stroke=\"black\" d=\"M139,-407.69C139,-401.18 139,-391.1 139,-382.43\"/>\n",
       "<polygon fill=\"black\" stroke=\"black\" points=\"142.5,-382.26 139,-372.26 135.5,-382.26 142.5,-382.26\"/>\n",
       "</g>\n",
       "<!-- 2 -->\n",
       "<g id=\"node3\" class=\"node\">\n",
       "<title>2</title>\n",
       "<text text-anchor=\"middle\" x=\"29\" y=\"-309.8\" font-family=\"Times,serif\" font-size=\"14.00\">&lt;scheme&gt;</text>\n",
       "</g>\n",
       "<!-- 1&#45;&gt;2 -->\n",
       "<g id=\"edge2\" class=\"edge\">\n",
       "<title>1&#45;&gt;2</title>\n",
       "<path fill=\"none\" stroke=\"black\" d=\"M124.16,-356.89C105.86,-348.74 74.49,-334.77 52.8,-325.1\"/>\n",
       "<polygon fill=\"black\" stroke=\"black\" points=\"54.16,-321.88 43.6,-321 51.31,-328.27 54.16,-321.88\"/>\n",
       "</g>\n",
       "<!-- 4 -->\n",
       "<g id=\"node5\" class=\"node\">\n",
       "<title>4</title>\n",
       "<text text-anchor=\"middle\" x=\"82\" y=\"-309.8\" font-family=\"Times,serif\" font-size=\"14.00\">://</text>\n",
       "</g>\n",
       "<!-- 1&#45;&gt;4 -->\n",
       "<g id=\"edge4\" class=\"edge\">\n",
       "<title>1&#45;&gt;4</title>\n",
       "<path fill=\"none\" stroke=\"black\" d=\"M131.07,-356.69C122,-348.88 106.96,-335.96 95.92,-326.47\"/>\n",
       "<polygon fill=\"black\" stroke=\"black\" points=\"97.98,-323.62 88.11,-319.76 93.42,-328.93 97.98,-323.62\"/>\n",
       "</g>\n",
       "<!-- 5 -->\n",
       "<g id=\"node6\" class=\"node\">\n",
       "<title>5</title>\n",
       "<text text-anchor=\"middle\" x=\"139\" y=\"-309.8\" font-family=\"Times,serif\" font-size=\"14.00\">&lt;authority&gt;</text>\n",
       "</g>\n",
       "<!-- 1&#45;&gt;5 -->\n",
       "<g id=\"edge5\" class=\"edge\">\n",
       "<title>1&#45;&gt;5</title>\n",
       "<path fill=\"none\" stroke=\"black\" d=\"M139,-356.69C139,-350.18 139,-340.1 139,-331.43\"/>\n",
       "<polygon fill=\"black\" stroke=\"black\" points=\"142.5,-331.26 139,-321.26 135.5,-331.26 142.5,-331.26\"/>\n",
       "</g>\n",
       "<!-- 11 -->\n",
       "<g id=\"node12\" class=\"node\">\n",
       "<title>11</title>\n",
       "<text text-anchor=\"middle\" x=\"210\" y=\"-309.8\" font-family=\"Times,serif\" font-size=\"14.00\">&lt;path&gt;</text>\n",
       "</g>\n",
       "<!-- 1&#45;&gt;11 -->\n",
       "<g id=\"edge11\" class=\"edge\">\n",
       "<title>1&#45;&gt;11</title>\n",
       "<path fill=\"none\" stroke=\"black\" d=\"M148.58,-356.89C159.75,-349.18 178.47,-336.26 192.31,-326.71\"/>\n",
       "<polygon fill=\"black\" stroke=\"black\" points=\"194.33,-329.56 200.58,-321 190.36,-323.8 194.33,-329.56\"/>\n",
       "</g>\n",
       "<!-- 13 -->\n",
       "<g id=\"node14\" class=\"node\">\n",
       "<title>13</title>\n",
       "<text text-anchor=\"middle\" x=\"272\" y=\"-309.8\" font-family=\"Times,serif\" font-size=\"14.00\">&lt;query&gt;</text>\n",
       "</g>\n",
       "<!-- 1&#45;&gt;13 -->\n",
       "<g id=\"edge13\" class=\"edge\">\n",
       "<title>1&#45;&gt;13</title>\n",
       "<path fill=\"none\" stroke=\"black\" d=\"M155.04,-357.59C177.22,-349.42 217.56,-334.56 244.57,-324.61\"/>\n",
       "<polygon fill=\"black\" stroke=\"black\" points=\"246.03,-327.8 254.21,-321.06 243.61,-321.23 246.03,-327.8\"/>\n",
       "</g>\n",
       "<!-- 3 -->\n",
       "<g id=\"node4\" class=\"node\">\n",
       "<title>3</title>\n",
       "<text text-anchor=\"middle\" x=\"29\" y=\"-258.8\" font-family=\"Times,serif\" font-size=\"14.00\">http</text>\n",
       "</g>\n",
       "<!-- 2&#45;&gt;3 -->\n",
       "<g id=\"edge3\" class=\"edge\">\n",
       "<title>2&#45;&gt;3</title>\n",
       "<path fill=\"none\" stroke=\"black\" d=\"M29,-305.69C29,-299.18 29,-289.1 29,-280.43\"/>\n",
       "<polygon fill=\"black\" stroke=\"black\" points=\"32.5,-280.26 29,-270.26 25.5,-280.26 32.5,-280.26\"/>\n",
       "</g>\n",
       "<!-- 6 -->\n",
       "<g id=\"node7\" class=\"node\">\n",
       "<title>6</title>\n",
       "<text text-anchor=\"middle\" x=\"95\" y=\"-258.8\" font-family=\"Times,serif\" font-size=\"14.00\">&lt;host&gt;</text>\n",
       "</g>\n",
       "<!-- 5&#45;&gt;6 -->\n",
       "<g id=\"edge6\" class=\"edge\">\n",
       "<title>5&#45;&gt;6</title>\n",
       "<path fill=\"none\" stroke=\"black\" d=\"M132.88,-305.69C126.45,-298.52 116.13,-287.03 107.88,-277.85\"/>\n",
       "<polygon fill=\"black\" stroke=\"black\" points=\"110.35,-275.36 101.07,-270.26 105.14,-280.03 110.35,-275.36\"/>\n",
       "</g>\n",
       "<!-- 8 -->\n",
       "<g id=\"node9\" class=\"node\">\n",
       "<title>8</title>\n",
       "<text text-anchor=\"middle\" x=\"135\" y=\"-258.8\" font-family=\"Times,serif\" font-size=\"14.00\">:</text>\n",
       "</g>\n",
       "<!-- 5&#45;&gt;8 -->\n",
       "<g id=\"edge8\" class=\"edge\">\n",
       "<title>5&#45;&gt;8</title>\n",
       "<path fill=\"none\" stroke=\"black\" d=\"M138.44,-305.69C137.91,-299.18 137.09,-289.1 136.38,-280.43\"/>\n",
       "<polygon fill=\"black\" stroke=\"black\" points=\"139.85,-279.94 135.55,-270.26 132.88,-280.51 139.85,-279.94\"/>\n",
       "</g>\n",
       "<!-- 9 -->\n",
       "<g id=\"node10\" class=\"node\">\n",
       "<title>9</title>\n",
       "<text text-anchor=\"middle\" x=\"175\" y=\"-258.8\" font-family=\"Times,serif\" font-size=\"14.00\">&lt;port&gt;</text>\n",
       "</g>\n",
       "<!-- 5&#45;&gt;9 -->\n",
       "<g id=\"edge9\" class=\"edge\">\n",
       "<title>5&#45;&gt;9</title>\n",
       "<path fill=\"none\" stroke=\"black\" d=\"M144.01,-305.69C149.16,-298.67 157.37,-287.49 164.04,-278.41\"/>\n",
       "<polygon fill=\"black\" stroke=\"black\" points=\"166.94,-280.39 170.04,-270.26 161.3,-276.24 166.94,-280.39\"/>\n",
       "</g>\n",
       "<!-- 7 -->\n",
       "<g id=\"node8\" class=\"node\">\n",
       "<title>7</title>\n",
       "<text text-anchor=\"middle\" x=\"95\" y=\"-207.8\" font-family=\"Times,serif\" font-size=\"14.00\">fuzzingbook.com</text>\n",
       "</g>\n",
       "<!-- 6&#45;&gt;7 -->\n",
       "<g id=\"edge7\" class=\"edge\">\n",
       "<title>6&#45;&gt;7</title>\n",
       "<path fill=\"none\" stroke=\"black\" d=\"M95,-254.69C95,-248.18 95,-238.1 95,-229.43\"/>\n",
       "<polygon fill=\"black\" stroke=\"black\" points=\"98.5,-229.26 95,-219.26 91.5,-229.26 98.5,-229.26\"/>\n",
       "</g>\n",
       "<!-- 10 -->\n",
       "<g id=\"node11\" class=\"node\">\n",
       "<title>10</title>\n",
       "<text text-anchor=\"middle\" x=\"175\" y=\"-207.8\" font-family=\"Times,serif\" font-size=\"14.00\">80</text>\n",
       "</g>\n",
       "<!-- 9&#45;&gt;10 -->\n",
       "<g id=\"edge10\" class=\"edge\">\n",
       "<title>9&#45;&gt;10</title>\n",
       "<path fill=\"none\" stroke=\"black\" d=\"M175,-254.69C175,-248.18 175,-238.1 175,-229.43\"/>\n",
       "<polygon fill=\"black\" stroke=\"black\" points=\"178.5,-229.26 175,-219.26 171.5,-229.26 178.5,-229.26\"/>\n",
       "</g>\n",
       "<!-- 12 -->\n",
       "<g id=\"node13\" class=\"node\">\n",
       "<title>12</title>\n",
       "</g>\n",
       "<!-- 11&#45;&gt;12 -->\n",
       "<g id=\"edge12\" class=\"edge\">\n",
       "<title>11&#45;&gt;12</title>\n",
       "<path fill=\"none\" stroke=\"black\" d=\"M210.42,-305.69C210.42,-305.63 210.42,-305.58 210.43,-305.53\"/>\n",
       "<polygon fill=\"black\" stroke=\"black\" points=\"213.31,-315.57 210.44,-305.37 206.33,-315.13 213.31,-315.57\"/>\n",
       "</g>\n",
       "<!-- 14 -->\n",
       "<g id=\"node15\" class=\"node\">\n",
       "<title>14</title>\n",
       "<text text-anchor=\"middle\" x=\"255\" y=\"-258.8\" font-family=\"Times,serif\" font-size=\"14.00\">?</text>\n",
       "</g>\n",
       "<!-- 13&#45;&gt;14 -->\n",
       "<g id=\"edge14\" class=\"edge\">\n",
       "<title>13&#45;&gt;14</title>\n",
       "<path fill=\"none\" stroke=\"black\" d=\"M269.64,-305.69C267.33,-299.03 263.72,-288.65 260.67,-279.85\"/>\n",
       "<polygon fill=\"black\" stroke=\"black\" points=\"263.93,-278.56 257.34,-270.26 257.31,-280.85 263.93,-278.56\"/>\n",
       "</g>\n",
       "<!-- 15 -->\n",
       "<g id=\"node16\" class=\"node\">\n",
       "<title>15</title>\n",
       "<text text-anchor=\"middle\" x=\"305\" y=\"-258.8\" font-family=\"Times,serif\" font-size=\"14.00\">&lt;params&gt;</text>\n",
       "</g>\n",
       "<!-- 13&#45;&gt;15 -->\n",
       "<g id=\"edge15\" class=\"edge\">\n",
       "<title>13&#45;&gt;15</title>\n",
       "<path fill=\"none\" stroke=\"black\" d=\"M276.59,-305.69C281.27,-298.74 288.68,-287.73 294.77,-278.7\"/>\n",
       "<polygon fill=\"black\" stroke=\"black\" points=\"297.77,-280.5 300.45,-270.26 291.96,-276.59 297.77,-280.5\"/>\n",
       "</g>\n",
       "<!-- 16 -->\n",
       "<g id=\"node17\" class=\"node\">\n",
       "<title>16</title>\n",
       "<text text-anchor=\"middle\" x=\"253\" y=\"-207.8\" font-family=\"Times,serif\" font-size=\"14.00\">&lt;param&gt;</text>\n",
       "</g>\n",
       "<!-- 15&#45;&gt;16 -->\n",
       "<g id=\"edge16\" class=\"edge\">\n",
       "<title>15&#45;&gt;16</title>\n",
       "<path fill=\"none\" stroke=\"black\" d=\"M297.77,-254.69C290.01,-247.37 277.47,-235.56 267.63,-226.29\"/>\n",
       "<polygon fill=\"black\" stroke=\"black\" points=\"269.85,-223.57 260.17,-219.26 265.05,-228.66 269.85,-223.57\"/>\n",
       "</g>\n",
       "<!-- 27 -->\n",
       "<g id=\"node28\" class=\"node\">\n",
       "<title>27</title>\n",
       "<text text-anchor=\"middle\" x=\"305\" y=\"-207.8\" font-family=\"Times,serif\" font-size=\"14.00\">&amp;</text>\n",
       "</g>\n",
       "<!-- 15&#45;&gt;27 -->\n",
       "<g id=\"edge27\" class=\"edge\">\n",
       "<title>15&#45;&gt;27</title>\n",
       "<path fill=\"none\" stroke=\"black\" d=\"M305,-254.69C305,-248.18 305,-238.1 305,-229.43\"/>\n",
       "<polygon fill=\"black\" stroke=\"black\" points=\"308.5,-229.26 305,-219.26 301.5,-229.26 308.5,-229.26\"/>\n",
       "</g>\n",
       "<!-- 28 -->\n",
       "<g id=\"node29\" class=\"node\">\n",
       "<title>28</title>\n",
       "<text text-anchor=\"middle\" x=\"359\" y=\"-207.8\" font-family=\"Times,serif\" font-size=\"14.00\">&lt;params&gt;</text>\n",
       "</g>\n",
       "<!-- 15&#45;&gt;28 -->\n",
       "<g id=\"edge28\" class=\"edge\">\n",
       "<title>15&#45;&gt;28</title>\n",
       "<path fill=\"none\" stroke=\"black\" d=\"M312.51,-254.69C320.65,-247.3 333.85,-235.32 344.11,-226.01\"/>\n",
       "<polygon fill=\"black\" stroke=\"black\" points=\"346.5,-228.57 351.56,-219.26 341.8,-223.38 346.5,-228.57\"/>\n",
       "</g>\n",
       "<!-- 17 -->\n",
       "<g id=\"node18\" class=\"node\">\n",
       "<title>17</title>\n",
       "<text text-anchor=\"middle\" x=\"195\" y=\"-156.8\" font-family=\"Times,serif\" font-size=\"14.00\">&lt;id&gt;</text>\n",
       "</g>\n",
       "<!-- 16&#45;&gt;17 -->\n",
       "<g id=\"edge17\" class=\"edge\">\n",
       "<title>16&#45;&gt;17</title>\n",
       "<path fill=\"none\" stroke=\"black\" d=\"M244.94,-203.69C236.11,-196.23 221.73,-184.08 210.67,-174.73\"/>\n",
       "<polygon fill=\"black\" stroke=\"black\" points=\"212.89,-172.04 203,-168.26 208.38,-177.38 212.89,-172.04\"/>\n",
       "</g>\n",
       "<!-- 23 -->\n",
       "<g id=\"node24\" class=\"node\">\n",
       "<title>23</title>\n",
       "<text text-anchor=\"middle\" x=\"253\" y=\"-156.8\" font-family=\"Times,serif\" font-size=\"14.00\">=</text>\n",
       "</g>\n",
       "<!-- 16&#45;&gt;23 -->\n",
       "<g id=\"edge23\" class=\"edge\">\n",
       "<title>16&#45;&gt;23</title>\n",
       "<path fill=\"none\" stroke=\"black\" d=\"M253,-203.69C253,-197.18 253,-187.1 253,-178.43\"/>\n",
       "<polygon fill=\"black\" stroke=\"black\" points=\"256.5,-178.26 253,-168.26 249.5,-178.26 256.5,-178.26\"/>\n",
       "</g>\n",
       "<!-- 24 -->\n",
       "<g id=\"node25\" class=\"node\">\n",
       "<title>24</title>\n",
       "<text text-anchor=\"middle\" x=\"293\" y=\"-156.8\" font-family=\"Times,serif\" font-size=\"14.00\">&lt;nat&gt;</text>\n",
       "</g>\n",
       "<!-- 16&#45;&gt;24 -->\n",
       "<g id=\"edge24\" class=\"edge\">\n",
       "<title>16&#45;&gt;24</title>\n",
       "<path fill=\"none\" stroke=\"black\" d=\"M258.56,-203.69C264.35,-196.59 273.6,-185.26 281.06,-176.13\"/>\n",
       "<polygon fill=\"black\" stroke=\"black\" points=\"283.87,-178.22 287.49,-168.26 278.45,-173.79 283.87,-178.22\"/>\n",
       "</g>\n",
       "<!-- 18 -->\n",
       "<g id=\"node19\" class=\"node\">\n",
       "<title>18</title>\n",
       "<text text-anchor=\"middle\" x=\"130\" y=\"-105.8\" font-family=\"Times,serif\" font-size=\"14.00\">x</text>\n",
       "</g>\n",
       "<!-- 17&#45;&gt;18 -->\n",
       "<g id=\"edge18\" class=\"edge\">\n",
       "<title>17&#45;&gt;18</title>\n",
       "<path fill=\"none\" stroke=\"black\" d=\"M186.23,-152.89C174.75,-144.23 154.56,-129.02 141.76,-119.36\"/>\n",
       "<polygon fill=\"black\" stroke=\"black\" points=\"143.76,-116.49 133.67,-113.27 139.55,-122.08 143.76,-116.49\"/>\n",
       "</g>\n",
       "<!-- 19 -->\n",
       "<g id=\"node20\" class=\"node\">\n",
       "<title>19</title>\n",
       "<text text-anchor=\"middle\" x=\"173\" y=\"-105.8\" font-family=\"Times,serif\" font-size=\"14.00\">&lt;digit&gt;</text>\n",
       "</g>\n",
       "<!-- 17&#45;&gt;19 -->\n",
       "<g id=\"edge19\" class=\"edge\">\n",
       "<title>17&#45;&gt;19</title>\n",
       "<path fill=\"none\" stroke=\"black\" d=\"M191.94,-152.69C188.92,-145.96 184.19,-135.42 180.21,-126.56\"/>\n",
       "<polygon fill=\"black\" stroke=\"black\" points=\"183.32,-124.94 176.03,-117.26 176.94,-127.81 183.32,-124.94\"/>\n",
       "</g>\n",
       "<!-- 21 -->\n",
       "<g id=\"node22\" class=\"node\">\n",
       "<title>21</title>\n",
       "<text text-anchor=\"middle\" x=\"233\" y=\"-105.8\" font-family=\"Times,serif\" font-size=\"14.00\">&lt;digit&gt;</text>\n",
       "</g>\n",
       "<!-- 17&#45;&gt;21 -->\n",
       "<g id=\"edge21\" class=\"edge\">\n",
       "<title>17&#45;&gt;21</title>\n",
       "<path fill=\"none\" stroke=\"black\" d=\"M200.28,-152.69C205.73,-145.67 214.39,-134.49 221.44,-125.41\"/>\n",
       "<polygon fill=\"black\" stroke=\"black\" points=\"224.4,-127.3 227.76,-117.26 218.87,-123.01 224.4,-127.3\"/>\n",
       "</g>\n",
       "<!-- 20 -->\n",
       "<g id=\"node21\" class=\"node\">\n",
       "<title>20</title>\n",
       "<text text-anchor=\"middle\" x=\"173\" y=\"-54.8\" font-family=\"Times,serif\" font-size=\"14.00\">6</text>\n",
       "</g>\n",
       "<!-- 19&#45;&gt;20 -->\n",
       "<g id=\"edge20\" class=\"edge\">\n",
       "<title>19&#45;&gt;20</title>\n",
       "<path fill=\"none\" stroke=\"black\" d=\"M173,-101.69C173,-95.18 173,-85.1 173,-76.43\"/>\n",
       "<polygon fill=\"black\" stroke=\"black\" points=\"176.5,-76.26 173,-66.26 169.5,-76.26 176.5,-76.26\"/>\n",
       "</g>\n",
       "<!-- 22 -->\n",
       "<g id=\"node23\" class=\"node\">\n",
       "<title>22</title>\n",
       "<text text-anchor=\"middle\" x=\"233\" y=\"-54.8\" font-family=\"Times,serif\" font-size=\"14.00\">7</text>\n",
       "</g>\n",
       "<!-- 21&#45;&gt;22 -->\n",
       "<g id=\"edge22\" class=\"edge\">\n",
       "<title>21&#45;&gt;22</title>\n",
       "<path fill=\"none\" stroke=\"black\" d=\"M233,-101.69C233,-95.18 233,-85.1 233,-76.43\"/>\n",
       "<polygon fill=\"black\" stroke=\"black\" points=\"236.5,-76.26 233,-66.26 229.5,-76.26 236.5,-76.26\"/>\n",
       "</g>\n",
       "<!-- 25 -->\n",
       "<g id=\"node26\" class=\"node\">\n",
       "<title>25</title>\n",
       "<text text-anchor=\"middle\" x=\"293\" y=\"-105.8\" font-family=\"Times,serif\" font-size=\"14.00\">&lt;digit&gt;</text>\n",
       "</g>\n",
       "<!-- 24&#45;&gt;25 -->\n",
       "<g id=\"edge25\" class=\"edge\">\n",
       "<title>24&#45;&gt;25</title>\n",
       "<path fill=\"none\" stroke=\"black\" d=\"M293,-152.69C293,-146.18 293,-136.1 293,-127.43\"/>\n",
       "<polygon fill=\"black\" stroke=\"black\" points=\"296.5,-127.26 293,-117.26 289.5,-127.26 296.5,-127.26\"/>\n",
       "</g>\n",
       "<!-- 26 -->\n",
       "<g id=\"node27\" class=\"node\">\n",
       "<title>26</title>\n",
       "<text text-anchor=\"middle\" x=\"285\" y=\"-54.8\" font-family=\"Times,serif\" font-size=\"14.00\">8</text>\n",
       "</g>\n",
       "<!-- 25&#45;&gt;26 -->\n",
       "<g id=\"edge26\" class=\"edge\">\n",
       "<title>25&#45;&gt;26</title>\n",
       "<path fill=\"none\" stroke=\"black\" d=\"M291.89,-101.69C290.81,-95.1 289.14,-84.87 287.72,-76.14\"/>\n",
       "<polygon fill=\"black\" stroke=\"black\" points=\"291.17,-75.56 286.1,-66.26 284.26,-76.69 291.17,-75.56\"/>\n",
       "</g>\n",
       "<!-- 29 -->\n",
       "<g id=\"node30\" class=\"node\">\n",
       "<title>29</title>\n",
       "<text text-anchor=\"middle\" x=\"360\" y=\"-156.8\" font-family=\"Times,serif\" font-size=\"14.00\">&lt;param&gt;</text>\n",
       "</g>\n",
       "<!-- 28&#45;&gt;29 -->\n",
       "<g id=\"edge29\" class=\"edge\">\n",
       "<title>28&#45;&gt;29</title>\n",
       "<path fill=\"none\" stroke=\"black\" d=\"M359.14,-203.69C359.27,-197.18 359.48,-187.1 359.65,-178.43\"/>\n",
       "<polygon fill=\"black\" stroke=\"black\" points=\"363.16,-178.32 359.86,-168.26 356.16,-178.18 363.16,-178.32\"/>\n",
       "</g>\n",
       "<!-- 30 -->\n",
       "<g id=\"node31\" class=\"node\">\n",
       "<title>30</title>\n",
       "<text text-anchor=\"middle\" x=\"353\" y=\"-105.8\" font-family=\"Times,serif\" font-size=\"14.00\">&lt;id&gt;</text>\n",
       "</g>\n",
       "<!-- 29&#45;&gt;30 -->\n",
       "<g id=\"edge30\" class=\"edge\">\n",
       "<title>29&#45;&gt;30</title>\n",
       "<path fill=\"none\" stroke=\"black\" d=\"M359.03,-152.69C358.1,-146.18 356.66,-136.1 355.42,-127.43\"/>\n",
       "<polygon fill=\"black\" stroke=\"black\" points=\"358.84,-126.66 353.97,-117.26 351.91,-127.65 358.84,-126.66\"/>\n",
       "</g>\n",
       "<!-- 36 -->\n",
       "<g id=\"node37\" class=\"node\">\n",
       "<title>36</title>\n",
       "<text text-anchor=\"middle\" x=\"390\" y=\"-105.8\" font-family=\"Times,serif\" font-size=\"14.00\">=</text>\n",
       "</g>\n",
       "<!-- 29&#45;&gt;36 -->\n",
       "<g id=\"edge36\" class=\"edge\">\n",
       "<title>29&#45;&gt;36</title>\n",
       "<path fill=\"none\" stroke=\"black\" d=\"M364.17,-152.69C368.38,-145.81 375.03,-134.96 380.52,-125.98\"/>\n",
       "<polygon fill=\"black\" stroke=\"black\" points=\"383.63,-127.61 385.86,-117.26 377.66,-123.96 383.63,-127.61\"/>\n",
       "</g>\n",
       "<!-- 37 -->\n",
       "<g id=\"node38\" class=\"node\">\n",
       "<title>37</title>\n",
       "<text text-anchor=\"middle\" x=\"477\" y=\"-105.8\" font-family=\"Times,serif\" font-size=\"14.00\">&lt;id&gt;</text>\n",
       "</g>\n",
       "<!-- 29&#45;&gt;37 -->\n",
       "<g id=\"edge37\" class=\"edge\">\n",
       "<title>29&#45;&gt;37</title>\n",
       "<path fill=\"none\" stroke=\"black\" d=\"M375.78,-152.89C395.77,-144.52 430.41,-130.01 453.52,-120.34\"/>\n",
       "<polygon fill=\"black\" stroke=\"black\" points=\"455.06,-123.48 462.93,-116.39 452.35,-117.03 455.06,-123.48\"/>\n",
       "</g>\n",
       "<!-- 31 -->\n",
       "<g id=\"node32\" class=\"node\">\n",
       "<title>31</title>\n",
       "<text text-anchor=\"middle\" x=\"310\" y=\"-54.8\" font-family=\"Times,serif\" font-size=\"14.00\">x</text>\n",
       "</g>\n",
       "<!-- 30&#45;&gt;31 -->\n",
       "<g id=\"edge31\" class=\"edge\">\n",
       "<title>30&#45;&gt;31</title>\n",
       "<path fill=\"none\" stroke=\"black\" d=\"M347.02,-101.69C340.17,-93.88 328.8,-80.93 320.47,-71.43\"/>\n",
       "<polygon fill=\"black\" stroke=\"black\" points=\"322.88,-68.87 313.66,-63.67 317.62,-73.49 322.88,-68.87\"/>\n",
       "</g>\n",
       "<!-- 32 -->\n",
       "<g id=\"node33\" class=\"node\">\n",
       "<title>32</title>\n",
       "<text text-anchor=\"middle\" x=\"353\" y=\"-54.8\" font-family=\"Times,serif\" font-size=\"14.00\">&lt;digit&gt;</text>\n",
       "</g>\n",
       "<!-- 30&#45;&gt;32 -->\n",
       "<g id=\"edge32\" class=\"edge\">\n",
       "<title>30&#45;&gt;32</title>\n",
       "<path fill=\"none\" stroke=\"black\" d=\"M353,-101.69C353,-95.18 353,-85.1 353,-76.43\"/>\n",
       "<polygon fill=\"black\" stroke=\"black\" points=\"356.5,-76.26 353,-66.26 349.5,-76.26 356.5,-76.26\"/>\n",
       "</g>\n",
       "<!-- 34 -->\n",
       "<g id=\"node35\" class=\"node\">\n",
       "<title>34</title>\n",
       "<text text-anchor=\"middle\" x=\"413\" y=\"-54.8\" font-family=\"Times,serif\" font-size=\"14.00\">&lt;digit&gt;</text>\n",
       "</g>\n",
       "<!-- 30&#45;&gt;34 -->\n",
       "<g id=\"edge34\" class=\"edge\">\n",
       "<title>30&#45;&gt;34</title>\n",
       "<path fill=\"none\" stroke=\"black\" d=\"M361.34,-101.69C370.48,-94.23 385.35,-82.08 396.79,-72.73\"/>\n",
       "<polygon fill=\"black\" stroke=\"black\" points=\"399.2,-75.29 404.73,-66.26 394.77,-69.87 399.2,-75.29\"/>\n",
       "</g>\n",
       "<!-- 33 -->\n",
       "<g id=\"node34\" class=\"node\">\n",
       "<title>33</title>\n",
       "<text text-anchor=\"middle\" x=\"353\" y=\"-3.8\" font-family=\"Times,serif\" font-size=\"14.00\">4</text>\n",
       "</g>\n",
       "<!-- 32&#45;&gt;33 -->\n",
       "<g id=\"edge33\" class=\"edge\">\n",
       "<title>32&#45;&gt;33</title>\n",
       "<path fill=\"none\" stroke=\"black\" d=\"M353,-50.69C353,-44.18 353,-34.1 353,-25.43\"/>\n",
       "<polygon fill=\"black\" stroke=\"black\" points=\"356.5,-25.26 353,-15.26 349.5,-25.26 356.5,-25.26\"/>\n",
       "</g>\n",
       "<!-- 35 -->\n",
       "<g id=\"node36\" class=\"node\">\n",
       "<title>35</title>\n",
       "<text text-anchor=\"middle\" x=\"413\" y=\"-3.8\" font-family=\"Times,serif\" font-size=\"14.00\">7</text>\n",
       "</g>\n",
       "<!-- 34&#45;&gt;35 -->\n",
       "<g id=\"edge35\" class=\"edge\">\n",
       "<title>34&#45;&gt;35</title>\n",
       "<path fill=\"none\" stroke=\"black\" d=\"M413,-50.69C413,-44.18 413,-34.1 413,-25.43\"/>\n",
       "<polygon fill=\"black\" stroke=\"black\" points=\"416.5,-25.26 413,-15.26 409.5,-25.26 416.5,-25.26\"/>\n",
       "</g>\n",
       "<!-- 38 -->\n",
       "<g id=\"node39\" class=\"node\">\n",
       "<title>38</title>\n",
       "<text text-anchor=\"middle\" x=\"456\" y=\"-54.8\" font-family=\"Times,serif\" font-size=\"14.00\">x</text>\n",
       "</g>\n",
       "<!-- 37&#45;&gt;38 -->\n",
       "<g id=\"edge38\" class=\"edge\">\n",
       "<title>37&#45;&gt;38</title>\n",
       "<path fill=\"none\" stroke=\"black\" d=\"M474.08,-101.69C471.2,-94.96 466.68,-84.42 462.88,-75.56\"/>\n",
       "<polygon fill=\"black\" stroke=\"black\" points=\"466.05,-74.07 458.9,-66.26 459.62,-76.83 466.05,-74.07\"/>\n",
       "</g>\n",
       "<!-- 39 -->\n",
       "<g id=\"node40\" class=\"node\">\n",
       "<title>39</title>\n",
       "<text text-anchor=\"middle\" x=\"499\" y=\"-54.8\" font-family=\"Times,serif\" font-size=\"14.00\">&lt;digit&gt;</text>\n",
       "</g>\n",
       "<!-- 37&#45;&gt;39 -->\n",
       "<g id=\"edge39\" class=\"edge\">\n",
       "<title>37&#45;&gt;39</title>\n",
       "<path fill=\"none\" stroke=\"black\" d=\"M480.06,-101.69C483.08,-94.96 487.81,-84.42 491.79,-75.56\"/>\n",
       "<polygon fill=\"black\" stroke=\"black\" points=\"495.06,-76.81 495.97,-66.26 488.68,-73.94 495.06,-76.81\"/>\n",
       "</g>\n",
       "<!-- 41 -->\n",
       "<g id=\"node42\" class=\"node\">\n",
       "<title>41</title>\n",
       "<text text-anchor=\"middle\" x=\"559\" y=\"-54.8\" font-family=\"Times,serif\" font-size=\"14.00\">&lt;digit&gt;</text>\n",
       "</g>\n",
       "<!-- 37&#45;&gt;41 -->\n",
       "<g id=\"edge41\" class=\"edge\">\n",
       "<title>37&#45;&gt;41</title>\n",
       "<path fill=\"none\" stroke=\"black\" d=\"M488.06,-101.89C501.21,-94.03 523.41,-80.77 539.48,-71.16\"/>\n",
       "<polygon fill=\"black\" stroke=\"black\" points=\"541.33,-74.14 548.12,-66 537.74,-68.13 541.33,-74.14\"/>\n",
       "</g>\n",
       "<!-- 40 -->\n",
       "<g id=\"node41\" class=\"node\">\n",
       "<title>40</title>\n",
       "<text text-anchor=\"middle\" x=\"499\" y=\"-3.8\" font-family=\"Times,serif\" font-size=\"14.00\">0</text>\n",
       "</g>\n",
       "<!-- 39&#45;&gt;40 -->\n",
       "<g id=\"edge40\" class=\"edge\">\n",
       "<title>39&#45;&gt;40</title>\n",
       "<path fill=\"none\" stroke=\"black\" d=\"M499,-50.69C499,-44.18 499,-34.1 499,-25.43\"/>\n",
       "<polygon fill=\"black\" stroke=\"black\" points=\"502.5,-25.26 499,-15.26 495.5,-25.26 502.5,-25.26\"/>\n",
       "</g>\n",
       "<!-- 42 -->\n",
       "<g id=\"node43\" class=\"node\">\n",
       "<title>42</title>\n",
       "<text text-anchor=\"middle\" x=\"559\" y=\"-3.8\" font-family=\"Times,serif\" font-size=\"14.00\">5</text>\n",
       "</g>\n",
       "<!-- 41&#45;&gt;42 -->\n",
       "<g id=\"edge42\" class=\"edge\">\n",
       "<title>41&#45;&gt;42</title>\n",
       "<path fill=\"none\" stroke=\"black\" d=\"M559,-50.69C559,-44.18 559,-34.1 559,-25.43\"/>\n",
       "<polygon fill=\"black\" stroke=\"black\" points=\"562.5,-25.26 559,-15.26 555.5,-25.26 562.5,-25.26\"/>\n",
       "</g>\n",
       "</g>\n",
       "</svg>\n"
      ],
      "text/plain": [
       "<graphviz.graphs.Digraph at 0x122582b00>"
      ]
     },
     "execution_count": 115,
     "metadata": {},
     "output_type": "execute_result"
    }
   ],
   "source": [
    "display_tree(f.derivation_tree)"
   ]
  },
  {
   "cell_type": "code",
   "execution_count": 116,
   "metadata": {
    "button": false,
    "execution": {
     "iopub.execute_input": "2022-08-06T15:52:17.833211Z",
     "iopub.status.busy": "2022-08-06T15:52:17.832828Z",
     "iopub.status.idle": "2022-08-06T15:52:17.834949Z",
     "shell.execute_reply": "2022-08-06T15:52:17.835251Z"
    },
    "new_sheet": false,
    "run_control": {
     "read_only": false
    },
    "slideshow": {
     "slide_type": "subslide"
    }
   },
   "outputs": [
    {
     "data": {
      "text/plain": [
       "'+e5%8b0++d'"
      ]
     },
     "execution_count": 116,
     "metadata": {},
     "output_type": "execute_result"
    }
   ],
   "source": [
    "f = GrammarFuzzer(CGI_GRAMMAR, min_nonterminals=3, max_nonterminals=5)\n",
    "f.fuzz()"
   ]
  },
  {
   "cell_type": "code",
   "execution_count": 117,
   "metadata": {
    "execution": {
     "iopub.execute_input": "2022-08-06T15:52:17.840821Z",
     "iopub.status.busy": "2022-08-06T15:52:17.840398Z",
     "iopub.status.idle": "2022-08-06T15:52:18.157953Z",
     "shell.execute_reply": "2022-08-06T15:52:18.158334Z"
    },
    "slideshow": {
     "slide_type": "fragment"
    }
   },
   "outputs": [
    {
     "data": {
      "image/svg+xml": [
       "<?xml version=\"1.0\" encoding=\"UTF-8\" standalone=\"no\"?>\n",
       "<!DOCTYPE svg PUBLIC \"-//W3C//DTD SVG 1.1//EN\"\n",
       " \"http://www.w3.org/Graphics/SVG/1.1/DTD/svg11.dtd\">\n",
       "<!-- Generated by graphviz version 5.0.0 (20220707.1540)\n",
       " -->\n",
       "<!-- Pages: 1 -->\n",
       "<svg width=\"543pt\" height=\"584pt\"\n",
       " viewBox=\"0.00 0.00 542.50 584.00\" xmlns=\"http://www.w3.org/2000/svg\" xmlns:xlink=\"http://www.w3.org/1999/xlink\">\n",
       "<g id=\"graph0\" class=\"graph\" transform=\"scale(1 1) rotate(0) translate(4 580)\">\n",
       "<polygon fill=\"white\" stroke=\"transparent\" points=\"-4,4 -4,-580 538.5,-580 538.5,4 -4,4\"/>\n",
       "<!-- 0 -->\n",
       "<g id=\"node1\" class=\"node\">\n",
       "<title>0</title>\n",
       "<text text-anchor=\"middle\" x=\"54.5\" y=\"-564.8\" font-family=\"Times,serif\" font-size=\"14.00\">&lt;start&gt;</text>\n",
       "</g>\n",
       "<!-- 1 -->\n",
       "<g id=\"node2\" class=\"node\">\n",
       "<title>1</title>\n",
       "<text text-anchor=\"middle\" x=\"54.5\" y=\"-513.8\" font-family=\"Times,serif\" font-size=\"14.00\">&lt;string&gt;</text>\n",
       "</g>\n",
       "<!-- 0&#45;&gt;1 -->\n",
       "<g id=\"edge1\" class=\"edge\">\n",
       "<title>0&#45;&gt;1</title>\n",
       "<path fill=\"none\" stroke=\"black\" d=\"M54.5,-560.69C54.5,-554.18 54.5,-544.1 54.5,-535.43\"/>\n",
       "<polygon fill=\"black\" stroke=\"black\" points=\"58,-535.26 54.5,-525.26 51,-535.26 58,-535.26\"/>\n",
       "</g>\n",
       "<!-- 2 -->\n",
       "<g id=\"node3\" class=\"node\">\n",
       "<title>2</title>\n",
       "<text text-anchor=\"middle\" x=\"22.5\" y=\"-462.8\" font-family=\"Times,serif\" font-size=\"14.00\">&lt;letter&gt;</text>\n",
       "</g>\n",
       "<!-- 1&#45;&gt;2 -->\n",
       "<g id=\"edge2\" class=\"edge\">\n",
       "<title>1&#45;&gt;2</title>\n",
       "<path fill=\"none\" stroke=\"black\" d=\"M50.05,-509.69C45.51,-502.74 38.32,-491.73 32.42,-482.7\"/>\n",
       "<polygon fill=\"black\" stroke=\"black\" points=\"35.31,-480.71 26.91,-474.26 29.45,-484.54 35.31,-480.71\"/>\n",
       "</g>\n",
       "<!-- 5 -->\n",
       "<g id=\"node6\" class=\"node\">\n",
       "<title>5</title>\n",
       "<text text-anchor=\"middle\" x=\"87.5\" y=\"-462.8\" font-family=\"Times,serif\" font-size=\"14.00\">&lt;string&gt;</text>\n",
       "</g>\n",
       "<!-- 1&#45;&gt;5 -->\n",
       "<g id=\"edge5\" class=\"edge\">\n",
       "<title>1&#45;&gt;5</title>\n",
       "<path fill=\"none\" stroke=\"black\" d=\"M59.09,-509.69C63.77,-502.74 71.18,-491.73 77.27,-482.7\"/>\n",
       "<polygon fill=\"black\" stroke=\"black\" points=\"80.27,-484.5 82.95,-474.26 74.46,-480.59 80.27,-484.5\"/>\n",
       "</g>\n",
       "<!-- 3 -->\n",
       "<g id=\"node4\" class=\"node\">\n",
       "<title>3</title>\n",
       "<text text-anchor=\"middle\" x=\"22.5\" y=\"-411.8\" font-family=\"Times,serif\" font-size=\"14.00\">&lt;plus&gt;</text>\n",
       "</g>\n",
       "<!-- 2&#45;&gt;3 -->\n",
       "<g id=\"edge3\" class=\"edge\">\n",
       "<title>2&#45;&gt;3</title>\n",
       "<path fill=\"none\" stroke=\"black\" d=\"M22.5,-458.69C22.5,-452.18 22.5,-442.1 22.5,-433.43\"/>\n",
       "<polygon fill=\"black\" stroke=\"black\" points=\"26,-433.26 22.5,-423.26 19,-433.26 26,-433.26\"/>\n",
       "</g>\n",
       "<!-- 4 -->\n",
       "<g id=\"node5\" class=\"node\">\n",
       "<title>4</title>\n",
       "<text text-anchor=\"middle\" x=\"22.5\" y=\"-360.8\" font-family=\"Times,serif\" font-size=\"14.00\">+</text>\n",
       "</g>\n",
       "<!-- 3&#45;&gt;4 -->\n",
       "<g id=\"edge4\" class=\"edge\">\n",
       "<title>3&#45;&gt;4</title>\n",
       "<path fill=\"none\" stroke=\"black\" d=\"M22.5,-407.69C22.5,-401.18 22.5,-391.1 22.5,-382.43\"/>\n",
       "<polygon fill=\"black\" stroke=\"black\" points=\"26,-382.26 22.5,-372.26 19,-382.26 26,-382.26\"/>\n",
       "</g>\n",
       "<!-- 6 -->\n",
       "<g id=\"node7\" class=\"node\">\n",
       "<title>6</title>\n",
       "<text text-anchor=\"middle\" x=\"85.5\" y=\"-411.8\" font-family=\"Times,serif\" font-size=\"14.00\">&lt;letter&gt;</text>\n",
       "</g>\n",
       "<!-- 5&#45;&gt;6 -->\n",
       "<g id=\"edge6\" class=\"edge\">\n",
       "<title>5&#45;&gt;6</title>\n",
       "<path fill=\"none\" stroke=\"black\" d=\"M87.22,-458.69C86.96,-452.18 86.54,-442.1 86.19,-433.43\"/>\n",
       "<polygon fill=\"black\" stroke=\"black\" points=\"89.68,-433.1 85.78,-423.26 82.69,-433.39 89.68,-433.1\"/>\n",
       "</g>\n",
       "<!-- 9 -->\n",
       "<g id=\"node10\" class=\"node\">\n",
       "<title>9</title>\n",
       "<text text-anchor=\"middle\" x=\"150.5\" y=\"-411.8\" font-family=\"Times,serif\" font-size=\"14.00\">&lt;string&gt;</text>\n",
       "</g>\n",
       "<!-- 5&#45;&gt;9 -->\n",
       "<g id=\"edge9\" class=\"edge\">\n",
       "<title>5&#45;&gt;9</title>\n",
       "<path fill=\"none\" stroke=\"black\" d=\"M96,-458.89C105.73,-451.32 121.89,-438.75 134.1,-429.26\"/>\n",
       "<polygon fill=\"black\" stroke=\"black\" points=\"136.39,-431.91 142.14,-423 132.1,-426.38 136.39,-431.91\"/>\n",
       "</g>\n",
       "<!-- 7 -->\n",
       "<g id=\"node8\" class=\"node\">\n",
       "<title>7</title>\n",
       "<text text-anchor=\"middle\" x=\"85.5\" y=\"-360.8\" font-family=\"Times,serif\" font-size=\"14.00\">&lt;other&gt;</text>\n",
       "</g>\n",
       "<!-- 6&#45;&gt;7 -->\n",
       "<g id=\"edge7\" class=\"edge\">\n",
       "<title>6&#45;&gt;7</title>\n",
       "<path fill=\"none\" stroke=\"black\" d=\"M85.5,-407.69C85.5,-401.18 85.5,-391.1 85.5,-382.43\"/>\n",
       "<polygon fill=\"black\" stroke=\"black\" points=\"89,-382.26 85.5,-372.26 82,-382.26 89,-382.26\"/>\n",
       "</g>\n",
       "<!-- 8 -->\n",
       "<g id=\"node9\" class=\"node\">\n",
       "<title>8</title>\n",
       "<text text-anchor=\"middle\" x=\"85.5\" y=\"-309.8\" font-family=\"Times,serif\" font-size=\"14.00\">e</text>\n",
       "</g>\n",
       "<!-- 7&#45;&gt;8 -->\n",
       "<g id=\"edge8\" class=\"edge\">\n",
       "<title>7&#45;&gt;8</title>\n",
       "<path fill=\"none\" stroke=\"black\" d=\"M85.5,-356.69C85.5,-350.18 85.5,-340.1 85.5,-331.43\"/>\n",
       "<polygon fill=\"black\" stroke=\"black\" points=\"89,-331.26 85.5,-321.26 82,-331.26 89,-331.26\"/>\n",
       "</g>\n",
       "<!-- 10 -->\n",
       "<g id=\"node11\" class=\"node\">\n",
       "<title>10</title>\n",
       "<text text-anchor=\"middle\" x=\"149.5\" y=\"-360.8\" font-family=\"Times,serif\" font-size=\"14.00\">&lt;letter&gt;</text>\n",
       "</g>\n",
       "<!-- 9&#45;&gt;10 -->\n",
       "<g id=\"edge10\" class=\"edge\">\n",
       "<title>9&#45;&gt;10</title>\n",
       "<path fill=\"none\" stroke=\"black\" d=\"M150.36,-407.69C150.23,-401.18 150.02,-391.1 149.85,-382.43\"/>\n",
       "<polygon fill=\"black\" stroke=\"black\" points=\"153.34,-382.18 149.64,-372.26 146.34,-382.32 153.34,-382.18\"/>\n",
       "</g>\n",
       "<!-- 13 -->\n",
       "<g id=\"node14\" class=\"node\">\n",
       "<title>13</title>\n",
       "<text text-anchor=\"middle\" x=\"214.5\" y=\"-360.8\" font-family=\"Times,serif\" font-size=\"14.00\">&lt;string&gt;</text>\n",
       "</g>\n",
       "<!-- 9&#45;&gt;13 -->\n",
       "<g id=\"edge13\" class=\"edge\">\n",
       "<title>9&#45;&gt;13</title>\n",
       "<path fill=\"none\" stroke=\"black\" d=\"M159.13,-407.89C169.02,-400.32 185.44,-387.75 197.84,-378.26\"/>\n",
       "<polygon fill=\"black\" stroke=\"black\" points=\"200.19,-380.86 206.01,-372 195.94,-375.3 200.19,-380.86\"/>\n",
       "</g>\n",
       "<!-- 11 -->\n",
       "<g id=\"node12\" class=\"node\">\n",
       "<title>11</title>\n",
       "<text text-anchor=\"middle\" x=\"149.5\" y=\"-309.8\" font-family=\"Times,serif\" font-size=\"14.00\">&lt;other&gt;</text>\n",
       "</g>\n",
       "<!-- 10&#45;&gt;11 -->\n",
       "<g id=\"edge11\" class=\"edge\">\n",
       "<title>10&#45;&gt;11</title>\n",
       "<path fill=\"none\" stroke=\"black\" d=\"M149.5,-356.69C149.5,-350.18 149.5,-340.1 149.5,-331.43\"/>\n",
       "<polygon fill=\"black\" stroke=\"black\" points=\"153,-331.26 149.5,-321.26 146,-331.26 153,-331.26\"/>\n",
       "</g>\n",
       "<!-- 12 -->\n",
       "<g id=\"node13\" class=\"node\">\n",
       "<title>12</title>\n",
       "<text text-anchor=\"middle\" x=\"149.5\" y=\"-258.8\" font-family=\"Times,serif\" font-size=\"14.00\">5</text>\n",
       "</g>\n",
       "<!-- 11&#45;&gt;12 -->\n",
       "<g id=\"edge12\" class=\"edge\">\n",
       "<title>11&#45;&gt;12</title>\n",
       "<path fill=\"none\" stroke=\"black\" d=\"M149.5,-305.69C149.5,-299.18 149.5,-289.1 149.5,-280.43\"/>\n",
       "<polygon fill=\"black\" stroke=\"black\" points=\"153,-280.26 149.5,-270.26 146,-280.26 153,-280.26\"/>\n",
       "</g>\n",
       "<!-- 14 -->\n",
       "<g id=\"node15\" class=\"node\">\n",
       "<title>14</title>\n",
       "<text text-anchor=\"middle\" x=\"213.5\" y=\"-309.8\" font-family=\"Times,serif\" font-size=\"14.00\">&lt;letter&gt;</text>\n",
       "</g>\n",
       "<!-- 13&#45;&gt;14 -->\n",
       "<g id=\"edge14\" class=\"edge\">\n",
       "<title>13&#45;&gt;14</title>\n",
       "<path fill=\"none\" stroke=\"black\" d=\"M214.36,-356.69C214.23,-350.18 214.02,-340.1 213.85,-331.43\"/>\n",
       "<polygon fill=\"black\" stroke=\"black\" points=\"217.34,-331.18 213.64,-321.26 210.34,-331.32 217.34,-331.18\"/>\n",
       "</g>\n",
       "<!-- 21 -->\n",
       "<g id=\"node22\" class=\"node\">\n",
       "<title>21</title>\n",
       "<text text-anchor=\"middle\" x=\"317.5\" y=\"-309.8\" font-family=\"Times,serif\" font-size=\"14.00\">&lt;string&gt;</text>\n",
       "</g>\n",
       "<!-- 13&#45;&gt;21 -->\n",
       "<g id=\"edge21\" class=\"edge\">\n",
       "<title>13&#45;&gt;21</title>\n",
       "<path fill=\"none\" stroke=\"black\" d=\"M228.39,-356.89C245.38,-348.81 274.37,-335.02 294.66,-325.37\"/>\n",
       "<polygon fill=\"black\" stroke=\"black\" points=\"296.3,-328.46 303.83,-321 293.3,-322.14 296.3,-328.46\"/>\n",
       "</g>\n",
       "<!-- 15 -->\n",
       "<g id=\"node16\" class=\"node\">\n",
       "<title>15</title>\n",
       "<text text-anchor=\"middle\" x=\"206.5\" y=\"-258.8\" font-family=\"Times,serif\" font-size=\"14.00\">&lt;percent&gt;</text>\n",
       "</g>\n",
       "<!-- 14&#45;&gt;15 -->\n",
       "<g id=\"edge15\" class=\"edge\">\n",
       "<title>14&#45;&gt;15</title>\n",
       "<path fill=\"none\" stroke=\"black\" d=\"M212.53,-305.69C211.6,-299.18 210.16,-289.1 208.92,-280.43\"/>\n",
       "<polygon fill=\"black\" stroke=\"black\" points=\"212.34,-279.66 207.47,-270.26 205.41,-280.65 212.34,-279.66\"/>\n",
       "</g>\n",
       "<!-- 16 -->\n",
       "<g id=\"node17\" class=\"node\">\n",
       "<title>16</title>\n",
       "<text text-anchor=\"middle\" x=\"113.5\" y=\"-207.8\" font-family=\"Times,serif\" font-size=\"14.00\">%</text>\n",
       "</g>\n",
       "<!-- 15&#45;&gt;16 -->\n",
       "<g id=\"edge16\" class=\"edge\">\n",
       "<title>15&#45;&gt;16</title>\n",
       "<path fill=\"none\" stroke=\"black\" d=\"M193.96,-254.89C177.14,-246.03 147.28,-230.3 129.05,-220.69\"/>\n",
       "<polygon fill=\"black\" stroke=\"black\" points=\"130.53,-217.52 120.06,-215.95 127.27,-223.71 130.53,-217.52\"/>\n",
       "</g>\n",
       "<!-- 17 -->\n",
       "<g id=\"node18\" class=\"node\">\n",
       "<title>17</title>\n",
       "<text text-anchor=\"middle\" x=\"168.5\" y=\"-207.8\" font-family=\"Times,serif\" font-size=\"14.00\">&lt;hexdigit&gt;</text>\n",
       "</g>\n",
       "<!-- 15&#45;&gt;17 -->\n",
       "<g id=\"edge17\" class=\"edge\">\n",
       "<title>15&#45;&gt;17</title>\n",
       "<path fill=\"none\" stroke=\"black\" d=\"M201.22,-254.69C195.77,-247.67 187.11,-236.49 180.06,-227.41\"/>\n",
       "<polygon fill=\"black\" stroke=\"black\" points=\"182.63,-225.01 173.74,-219.26 177.1,-229.3 182.63,-225.01\"/>\n",
       "</g>\n",
       "<!-- 19 -->\n",
       "<g id=\"node20\" class=\"node\">\n",
       "<title>19</title>\n",
       "<text text-anchor=\"middle\" x=\"247.5\" y=\"-207.8\" font-family=\"Times,serif\" font-size=\"14.00\">&lt;hexdigit&gt;</text>\n",
       "</g>\n",
       "<!-- 15&#45;&gt;19 -->\n",
       "<g id=\"edge19\" class=\"edge\">\n",
       "<title>15&#45;&gt;19</title>\n",
       "<path fill=\"none\" stroke=\"black\" d=\"M212.2,-254.69C218.14,-247.59 227.62,-236.26 235.26,-227.13\"/>\n",
       "<polygon fill=\"black\" stroke=\"black\" points=\"238.11,-229.17 241.85,-219.26 232.75,-224.68 238.11,-229.17\"/>\n",
       "</g>\n",
       "<!-- 18 -->\n",
       "<g id=\"node19\" class=\"node\">\n",
       "<title>18</title>\n",
       "<text text-anchor=\"middle\" x=\"168.5\" y=\"-156.8\" font-family=\"Times,serif\" font-size=\"14.00\">8</text>\n",
       "</g>\n",
       "<!-- 17&#45;&gt;18 -->\n",
       "<g id=\"edge18\" class=\"edge\">\n",
       "<title>17&#45;&gt;18</title>\n",
       "<path fill=\"none\" stroke=\"black\" d=\"M168.5,-203.69C168.5,-197.18 168.5,-187.1 168.5,-178.43\"/>\n",
       "<polygon fill=\"black\" stroke=\"black\" points=\"172,-178.26 168.5,-168.26 165,-178.26 172,-178.26\"/>\n",
       "</g>\n",
       "<!-- 20 -->\n",
       "<g id=\"node21\" class=\"node\">\n",
       "<title>20</title>\n",
       "<text text-anchor=\"middle\" x=\"247.5\" y=\"-156.8\" font-family=\"Times,serif\" font-size=\"14.00\">b</text>\n",
       "</g>\n",
       "<!-- 19&#45;&gt;20 -->\n",
       "<g id=\"edge20\" class=\"edge\">\n",
       "<title>19&#45;&gt;20</title>\n",
       "<path fill=\"none\" stroke=\"black\" d=\"M247.5,-203.69C247.5,-197.18 247.5,-187.1 247.5,-178.43\"/>\n",
       "<polygon fill=\"black\" stroke=\"black\" points=\"251,-178.26 247.5,-168.26 244,-178.26 251,-178.26\"/>\n",
       "</g>\n",
       "<!-- 22 -->\n",
       "<g id=\"node23\" class=\"node\">\n",
       "<title>22</title>\n",
       "<text text-anchor=\"middle\" x=\"317.5\" y=\"-258.8\" font-family=\"Times,serif\" font-size=\"14.00\">&lt;letter&gt;</text>\n",
       "</g>\n",
       "<!-- 21&#45;&gt;22 -->\n",
       "<g id=\"edge22\" class=\"edge\">\n",
       "<title>21&#45;&gt;22</title>\n",
       "<path fill=\"none\" stroke=\"black\" d=\"M317.5,-305.69C317.5,-299.18 317.5,-289.1 317.5,-280.43\"/>\n",
       "<polygon fill=\"black\" stroke=\"black\" points=\"321,-280.26 317.5,-270.26 314,-280.26 321,-280.26\"/>\n",
       "</g>\n",
       "<!-- 25 -->\n",
       "<g id=\"node26\" class=\"node\">\n",
       "<title>25</title>\n",
       "<text text-anchor=\"middle\" x=\"382.5\" y=\"-258.8\" font-family=\"Times,serif\" font-size=\"14.00\">&lt;string&gt;</text>\n",
       "</g>\n",
       "<!-- 21&#45;&gt;25 -->\n",
       "<g id=\"edge25\" class=\"edge\">\n",
       "<title>21&#45;&gt;25</title>\n",
       "<path fill=\"none\" stroke=\"black\" d=\"M326.27,-305.89C336.3,-298.32 352.99,-285.75 365.58,-276.26\"/>\n",
       "<polygon fill=\"black\" stroke=\"black\" points=\"367.99,-278.82 373.87,-270 363.78,-273.23 367.99,-278.82\"/>\n",
       "</g>\n",
       "<!-- 23 -->\n",
       "<g id=\"node24\" class=\"node\">\n",
       "<title>23</title>\n",
       "<text text-anchor=\"middle\" x=\"318.5\" y=\"-207.8\" font-family=\"Times,serif\" font-size=\"14.00\">&lt;other&gt;</text>\n",
       "</g>\n",
       "<!-- 22&#45;&gt;23 -->\n",
       "<g id=\"edge23\" class=\"edge\">\n",
       "<title>22&#45;&gt;23</title>\n",
       "<path fill=\"none\" stroke=\"black\" d=\"M317.64,-254.69C317.77,-248.18 317.98,-238.1 318.15,-229.43\"/>\n",
       "<polygon fill=\"black\" stroke=\"black\" points=\"321.66,-229.32 318.36,-219.26 314.66,-229.18 321.66,-229.32\"/>\n",
       "</g>\n",
       "<!-- 24 -->\n",
       "<g id=\"node25\" class=\"node\">\n",
       "<title>24</title>\n",
       "<text text-anchor=\"middle\" x=\"318.5\" y=\"-156.8\" font-family=\"Times,serif\" font-size=\"14.00\">0</text>\n",
       "</g>\n",
       "<!-- 23&#45;&gt;24 -->\n",
       "<g id=\"edge24\" class=\"edge\">\n",
       "<title>23&#45;&gt;24</title>\n",
       "<path fill=\"none\" stroke=\"black\" d=\"M318.5,-203.69C318.5,-197.18 318.5,-187.1 318.5,-178.43\"/>\n",
       "<polygon fill=\"black\" stroke=\"black\" points=\"322,-178.26 318.5,-168.26 315,-178.26 322,-178.26\"/>\n",
       "</g>\n",
       "<!-- 26 -->\n",
       "<g id=\"node27\" class=\"node\">\n",
       "<title>26</title>\n",
       "<text text-anchor=\"middle\" x=\"382.5\" y=\"-207.8\" font-family=\"Times,serif\" font-size=\"14.00\">&lt;letter&gt;</text>\n",
       "</g>\n",
       "<!-- 25&#45;&gt;26 -->\n",
       "<g id=\"edge26\" class=\"edge\">\n",
       "<title>25&#45;&gt;26</title>\n",
       "<path fill=\"none\" stroke=\"black\" d=\"M382.5,-254.69C382.5,-248.18 382.5,-238.1 382.5,-229.43\"/>\n",
       "<polygon fill=\"black\" stroke=\"black\" points=\"386,-229.26 382.5,-219.26 379,-229.26 386,-229.26\"/>\n",
       "</g>\n",
       "<!-- 29 -->\n",
       "<g id=\"node30\" class=\"node\">\n",
       "<title>29</title>\n",
       "<text text-anchor=\"middle\" x=\"447.5\" y=\"-207.8\" font-family=\"Times,serif\" font-size=\"14.00\">&lt;string&gt;</text>\n",
       "</g>\n",
       "<!-- 25&#45;&gt;29 -->\n",
       "<g id=\"edge29\" class=\"edge\">\n",
       "<title>25&#45;&gt;29</title>\n",
       "<path fill=\"none\" stroke=\"black\" d=\"M391.27,-254.89C401.3,-247.32 417.99,-234.75 430.58,-225.26\"/>\n",
       "<polygon fill=\"black\" stroke=\"black\" points=\"432.99,-227.82 438.87,-219 428.78,-222.23 432.99,-227.82\"/>\n",
       "</g>\n",
       "<!-- 27 -->\n",
       "<g id=\"node28\" class=\"node\">\n",
       "<title>27</title>\n",
       "<text text-anchor=\"middle\" x=\"382.5\" y=\"-156.8\" font-family=\"Times,serif\" font-size=\"14.00\">&lt;plus&gt;</text>\n",
       "</g>\n",
       "<!-- 26&#45;&gt;27 -->\n",
       "<g id=\"edge27\" class=\"edge\">\n",
       "<title>26&#45;&gt;27</title>\n",
       "<path fill=\"none\" stroke=\"black\" d=\"M382.5,-203.69C382.5,-197.18 382.5,-187.1 382.5,-178.43\"/>\n",
       "<polygon fill=\"black\" stroke=\"black\" points=\"386,-178.26 382.5,-168.26 379,-178.26 386,-178.26\"/>\n",
       "</g>\n",
       "<!-- 28 -->\n",
       "<g id=\"node29\" class=\"node\">\n",
       "<title>28</title>\n",
       "<text text-anchor=\"middle\" x=\"382.5\" y=\"-105.8\" font-family=\"Times,serif\" font-size=\"14.00\">+</text>\n",
       "</g>\n",
       "<!-- 27&#45;&gt;28 -->\n",
       "<g id=\"edge28\" class=\"edge\">\n",
       "<title>27&#45;&gt;28</title>\n",
       "<path fill=\"none\" stroke=\"black\" d=\"M382.5,-152.69C382.5,-146.18 382.5,-136.1 382.5,-127.43\"/>\n",
       "<polygon fill=\"black\" stroke=\"black\" points=\"386,-127.26 382.5,-117.26 379,-127.26 386,-127.26\"/>\n",
       "</g>\n",
       "<!-- 30 -->\n",
       "<g id=\"node31\" class=\"node\">\n",
       "<title>30</title>\n",
       "<text text-anchor=\"middle\" x=\"445.5\" y=\"-156.8\" font-family=\"Times,serif\" font-size=\"14.00\">&lt;letter&gt;</text>\n",
       "</g>\n",
       "<!-- 29&#45;&gt;30 -->\n",
       "<g id=\"edge30\" class=\"edge\">\n",
       "<title>29&#45;&gt;30</title>\n",
       "<path fill=\"none\" stroke=\"black\" d=\"M447.22,-203.69C446.96,-197.18 446.54,-187.1 446.19,-178.43\"/>\n",
       "<polygon fill=\"black\" stroke=\"black\" points=\"449.68,-178.1 445.78,-168.26 442.69,-178.39 449.68,-178.1\"/>\n",
       "</g>\n",
       "<!-- 33 -->\n",
       "<g id=\"node34\" class=\"node\">\n",
       "<title>33</title>\n",
       "<text text-anchor=\"middle\" x=\"510.5\" y=\"-156.8\" font-family=\"Times,serif\" font-size=\"14.00\">&lt;string&gt;</text>\n",
       "</g>\n",
       "<!-- 29&#45;&gt;33 -->\n",
       "<g id=\"edge33\" class=\"edge\">\n",
       "<title>29&#45;&gt;33</title>\n",
       "<path fill=\"none\" stroke=\"black\" d=\"M456,-203.89C465.73,-196.32 481.89,-183.75 494.1,-174.26\"/>\n",
       "<polygon fill=\"black\" stroke=\"black\" points=\"496.39,-176.91 502.14,-168 492.1,-171.38 496.39,-176.91\"/>\n",
       "</g>\n",
       "<!-- 31 -->\n",
       "<g id=\"node32\" class=\"node\">\n",
       "<title>31</title>\n",
       "<text text-anchor=\"middle\" x=\"445.5\" y=\"-105.8\" font-family=\"Times,serif\" font-size=\"14.00\">&lt;plus&gt;</text>\n",
       "</g>\n",
       "<!-- 30&#45;&gt;31 -->\n",
       "<g id=\"edge31\" class=\"edge\">\n",
       "<title>30&#45;&gt;31</title>\n",
       "<path fill=\"none\" stroke=\"black\" d=\"M445.5,-152.69C445.5,-146.18 445.5,-136.1 445.5,-127.43\"/>\n",
       "<polygon fill=\"black\" stroke=\"black\" points=\"449,-127.26 445.5,-117.26 442,-127.26 449,-127.26\"/>\n",
       "</g>\n",
       "<!-- 32 -->\n",
       "<g id=\"node33\" class=\"node\">\n",
       "<title>32</title>\n",
       "<text text-anchor=\"middle\" x=\"445.5\" y=\"-54.8\" font-family=\"Times,serif\" font-size=\"14.00\">+</text>\n",
       "</g>\n",
       "<!-- 31&#45;&gt;32 -->\n",
       "<g id=\"edge32\" class=\"edge\">\n",
       "<title>31&#45;&gt;32</title>\n",
       "<path fill=\"none\" stroke=\"black\" d=\"M445.5,-101.69C445.5,-95.18 445.5,-85.1 445.5,-76.43\"/>\n",
       "<polygon fill=\"black\" stroke=\"black\" points=\"449,-76.26 445.5,-66.26 442,-76.26 449,-76.26\"/>\n",
       "</g>\n",
       "<!-- 34 -->\n",
       "<g id=\"node35\" class=\"node\">\n",
       "<title>34</title>\n",
       "<text text-anchor=\"middle\" x=\"510.5\" y=\"-105.8\" font-family=\"Times,serif\" font-size=\"14.00\">&lt;letter&gt;</text>\n",
       "</g>\n",
       "<!-- 33&#45;&gt;34 -->\n",
       "<g id=\"edge34\" class=\"edge\">\n",
       "<title>33&#45;&gt;34</title>\n",
       "<path fill=\"none\" stroke=\"black\" d=\"M510.5,-152.69C510.5,-146.18 510.5,-136.1 510.5,-127.43\"/>\n",
       "<polygon fill=\"black\" stroke=\"black\" points=\"514,-127.26 510.5,-117.26 507,-127.26 514,-127.26\"/>\n",
       "</g>\n",
       "<!-- 35 -->\n",
       "<g id=\"node36\" class=\"node\">\n",
       "<title>35</title>\n",
       "<text text-anchor=\"middle\" x=\"510.5\" y=\"-54.8\" font-family=\"Times,serif\" font-size=\"14.00\">&lt;other&gt;</text>\n",
       "</g>\n",
       "<!-- 34&#45;&gt;35 -->\n",
       "<g id=\"edge35\" class=\"edge\">\n",
       "<title>34&#45;&gt;35</title>\n",
       "<path fill=\"none\" stroke=\"black\" d=\"M510.5,-101.69C510.5,-95.18 510.5,-85.1 510.5,-76.43\"/>\n",
       "<polygon fill=\"black\" stroke=\"black\" points=\"514,-76.26 510.5,-66.26 507,-76.26 514,-76.26\"/>\n",
       "</g>\n",
       "<!-- 36 -->\n",
       "<g id=\"node37\" class=\"node\">\n",
       "<title>36</title>\n",
       "<text text-anchor=\"middle\" x=\"510.5\" y=\"-3.8\" font-family=\"Times,serif\" font-size=\"14.00\">d</text>\n",
       "</g>\n",
       "<!-- 35&#45;&gt;36 -->\n",
       "<g id=\"edge36\" class=\"edge\">\n",
       "<title>35&#45;&gt;36</title>\n",
       "<path fill=\"none\" stroke=\"black\" d=\"M510.5,-50.69C510.5,-44.18 510.5,-34.1 510.5,-25.43\"/>\n",
       "<polygon fill=\"black\" stroke=\"black\" points=\"514,-25.26 510.5,-15.26 507,-25.26 514,-25.26\"/>\n",
       "</g>\n",
       "</g>\n",
       "</svg>\n"
      ],
      "text/plain": [
       "<graphviz.graphs.Digraph at 0x122583850>"
      ]
     },
     "execution_count": 117,
     "metadata": {},
     "output_type": "execute_result"
    }
   ],
   "source": [
    "display_tree(f.derivation_tree)"
   ]
  },
  {
   "cell_type": "markdown",
   "metadata": {
    "button": false,
    "new_sheet": false,
    "run_control": {
     "read_only": false
    },
    "slideshow": {
     "slide_type": "subslide"
    }
   },
   "source": [
    "How do we stack up against `simple_grammar_fuzzer()`?"
   ]
  },
  {
   "cell_type": "code",
   "execution_count": 118,
   "metadata": {
    "button": false,
    "execution": {
     "iopub.execute_input": "2022-08-06T15:52:18.235942Z",
     "iopub.status.busy": "2022-08-06T15:52:18.199495Z",
     "iopub.status.idle": "2022-08-06T15:52:19.433017Z",
     "shell.execute_reply": "2022-08-06T15:52:19.433365Z"
    },
    "new_sheet": false,
    "run_control": {
     "read_only": false
    },
    "slideshow": {
     "slide_type": "fragment"
    }
   },
   "outputs": [
    {
     "name": "stdout",
     "output_type": "stream",
     "text": [
      "0 1 2 3 4 5 6 7 8 9 10 11 12 13 14 15 16 17 18 19 20 21 22 23 24 25 26 27 28 29 30 31 32 33 34 35 36 37 38 39 40 41 42 43 44 45 46 47 48 49 \n"
     ]
    }
   ],
   "source": [
    "trials = 50\n",
    "xs = []\n",
    "ys = []\n",
    "f = GrammarFuzzer(EXPR_GRAMMAR, max_nonterminals=20)\n",
    "for i in range(trials):\n",
    "    with Timer() as t:\n",
    "        s = f.fuzz()\n",
    "    xs.append(len(s))\n",
    "    ys.append(t.elapsed_time())\n",
    "    print(i, end=\" \")\n",
    "print()"
   ]
  },
  {
   "cell_type": "code",
   "execution_count": 119,
   "metadata": {
    "button": false,
    "execution": {
     "iopub.execute_input": "2022-08-06T15:52:19.435415Z",
     "iopub.status.busy": "2022-08-06T15:52:19.435063Z",
     "iopub.status.idle": "2022-08-06T15:52:19.436461Z",
     "shell.execute_reply": "2022-08-06T15:52:19.436772Z"
    },
    "new_sheet": false,
    "run_control": {
     "read_only": false
    },
    "slideshow": {
     "slide_type": "fragment"
    }
   },
   "outputs": [
    {
     "name": "stdout",
     "output_type": "stream",
     "text": [
      "Average time: 0.025308561681304128\n"
     ]
    }
   ],
   "source": [
    "average_time = sum(ys) / trials\n",
    "print(\"Average time:\", average_time)"
   ]
  },
  {
   "cell_type": "code",
   "execution_count": 120,
   "metadata": {
    "button": false,
    "execution": {
     "iopub.execute_input": "2022-08-06T15:52:19.444358Z",
     "iopub.status.busy": "2022-08-06T15:52:19.443973Z",
     "iopub.status.idle": "2022-08-06T15:52:19.525989Z",
     "shell.execute_reply": "2022-08-06T15:52:19.526403Z"
    },
    "new_sheet": false,
    "run_control": {
     "read_only": false
    },
    "slideshow": {
     "slide_type": "subslide"
    }
   },
   "outputs": [
    {
     "data": {
      "image/png": "[encoded data removed]",
      "text/plain": [
       "<Figure size 432x288 with 1 Axes>"
      ]
     },
     "metadata": {
      "needs_background": "light"
     },
     "output_type": "display_data"
    }
   ],
   "source": [
    "%matplotlib inline\n",
    "\n",
    "import matplotlib.pyplot as plt\n",
    "plt.scatter(xs, ys)\n",
    "plt.title('Time required for generating an output');"
   ]
  },
  {
   "cell_type": "markdown",
   "metadata": {
    "button": false,
    "new_sheet": false,
    "run_control": {
     "read_only": false
    },
    "slideshow": {
     "slide_type": "fragment"
    }
   },
   "source": [
    "Our test generation is much faster, but also our inputs are much smaller.  We see that with derivation trees, we can get much better control over grammar production."
   ]
  },
  {
   "cell_type": "markdown",
   "metadata": {
    "slideshow": {
     "slide_type": "subslide"
    }
   },
   "source": [
    "Finally, how does `GrammarFuzzer` work with `expr_grammar`, where `simple_grammar_fuzzer()` failed?  It works without any issue:"
   ]
  },
  {
   "cell_type": "code",
   "execution_count": 121,
   "metadata": {
    "execution": {
     "iopub.execute_input": "2022-08-06T15:52:19.537105Z",
     "iopub.status.busy": "2022-08-06T15:52:19.535160Z",
     "iopub.status.idle": "2022-08-06T15:52:19.541498Z",
     "shell.execute_reply": "2022-08-06T15:52:19.541900Z"
    },
    "slideshow": {
     "slide_type": "fragment"
    }
   },
   "outputs": [
    {
     "data": {
      "text/plain": [
       "'(8 - 4 + 7) + (8 + 1) - 2 / 0 - 4 - 7 + 2'"
      ]
     },
     "execution_count": 121,
     "metadata": {},
     "output_type": "execute_result"
    }
   ],
   "source": [
    "f = GrammarFuzzer(expr_grammar, max_nonterminals=10)\n",
    "f.fuzz()"
   ]
  },
  {
   "cell_type": "markdown",
   "metadata": {
    "slideshow": {
     "slide_type": "fragment"
    }
   },
   "source": [
    "With `GrammarFuzzer`, we now have a solid foundation on which to build further fuzzers and illustrate more exciting concepts from the world of generating software tests.  Many of these do not even require writing a grammar – instead, they _infer_ a grammar from the domain at hand, and thus allow to use grammar-based fuzzing even without writing a grammar.  Stay tuned!"
   ]
  },
  {
   "cell_type": "markdown",
   "metadata": {
    "slideshow": {
     "slide_type": "slide"
    },
    "tags": []
   },
   "source": [
    "## Synopsis"
   ]
  },
  {
   "cell_type": "markdown",
   "metadata": {
    "slideshow": {
     "slide_type": "subslide"
    }
   },
   "source": [
    "### Efficient Grammar Fuzzing"
   ]
  },
  {
   "cell_type": "markdown",
   "metadata": {
    "jp-MarkdownHeadingCollapsed": true,
    "slideshow": {
     "slide_type": "fragment"
    },
    "tags": []
   },
   "source": [
    "This chapter introduces `GrammarFuzzer`, an efficient grammar fuzzer that takes a grammar to produce syntactically valid input strings.  Here's a typical usage:"
   ]
  },
  {
   "cell_type": "code",
   "execution_count": 122,
   "metadata": {
    "execution": {
     "iopub.execute_input": "2022-08-06T15:52:19.544213Z",
     "iopub.status.busy": "2022-08-06T15:52:19.543887Z",
     "iopub.status.idle": "2022-08-06T15:52:19.546596Z",
     "shell.execute_reply": "2022-08-06T15:52:19.545746Z"
    },
    "slideshow": {
     "slide_type": "skip"
    }
   },
   "outputs": [],
   "source": [
    "from Grammars import US_PHONE_GRAMMAR"
   ]
  },
  {
   "cell_type": "code",
   "execution_count": 123,
   "metadata": {
    "execution": {
     "iopub.execute_input": "2022-08-06T15:52:19.549715Z",
     "iopub.status.busy": "2022-08-06T15:52:19.549373Z",
     "iopub.status.idle": "2022-08-06T15:52:19.550859Z",
     "shell.execute_reply": "2022-08-06T15:52:19.551163Z"
    },
    "slideshow": {
     "slide_type": "fragment"
    }
   },
   "outputs": [
    {
     "data": {
      "text/plain": [
       "'(476)410-1895'"
      ]
     },
     "execution_count": 123,
     "metadata": {},
     "output_type": "execute_result"
    }
   ],
   "source": [
    "phone_fuzzer = GrammarFuzzer(US_PHONE_GRAMMAR)\n",
    "phone_fuzzer.fuzz()"
   ]
  },
  {
   "cell_type": "markdown",
   "metadata": {
    "slideshow": {
     "slide_type": "fragment"
    }
   },
   "source": [
    "The `GrammarFuzzer` constructor takes a number of keyword arguments to control its behavior.  `start_symbol`, for instance, allows to set the symbol that expansion starts with (instead of `<start>`):"
   ]
  },
  {
   "cell_type": "code",
   "execution_count": 124,
   "metadata": {
    "execution": {
     "iopub.execute_input": "2022-08-06T15:52:19.553472Z",
     "iopub.status.busy": "2022-08-06T15:52:19.553124Z",
     "iopub.status.idle": "2022-08-06T15:52:19.555562Z",
     "shell.execute_reply": "2022-08-06T15:52:19.557478Z"
    },
    "slideshow": {
     "slide_type": "fragment"
    }
   },
   "outputs": [
    {
     "data": {
      "text/plain": [
       "'881'"
      ]
     },
     "execution_count": 124,
     "metadata": {},
     "output_type": "execute_result"
    }
   ],
   "source": [
    "area_fuzzer = GrammarFuzzer(US_PHONE_GRAMMAR, start_symbol='<area>')\n",
    "area_fuzzer.fuzz()"
   ]
  },
  {
   "cell_type": "markdown",
   "metadata": {
    "slideshow": {
     "slide_type": "fragment"
    }
   },
   "source": [
    "Here's how to parameterize the `GrammarFuzzer` constructor:"
   ]
  },
  {
   "cell_type": "code",
   "execution_count": 125,
   "metadata": {
    "execution": {
     "iopub.execute_input": "2022-08-06T15:52:19.561962Z",
     "iopub.status.busy": "2022-08-06T15:52:19.561540Z",
     "iopub.status.idle": "2022-08-06T15:52:19.562777Z",
     "shell.execute_reply": "2022-08-06T15:52:19.563117Z"
    },
    "slideshow": {
     "slide_type": "subslide"
    }
   },
   "outputs": [],
   "source": [
    "# ignore\n",
    "import inspect"
   ]
  },
  {
   "cell_type": "code",
   "execution_count": 126,
   "metadata": {
    "execution": {
     "iopub.execute_input": "2022-08-06T15:52:19.566161Z",
     "iopub.status.busy": "2022-08-06T15:52:19.565690Z",
     "iopub.status.idle": "2022-08-06T15:52:19.567933Z",
     "shell.execute_reply": "2022-08-06T15:52:19.568195Z"
    },
    "slideshow": {
     "slide_type": "fragment"
    }
   },
   "outputs": [
    {
     "name": "stdout",
     "output_type": "stream",
     "text": [
      "Produce strings from `grammar`, starting with `start_symbol`.\n",
      "If `min_nonterminals` or `max_nonterminals` is given, use them as limits \n",
      "for the number of nonterminals produced.  \n",
      "If `disp` is set, display the intermediate derivation trees.\n",
      "If `log` is set, show intermediate steps as text on standard output.\n"
     ]
    }
   ],
   "source": [
    "# ignore\n",
    "print(inspect.getdoc(GrammarFuzzer.__init__))"
   ]
  },
  {
   "cell_type": "code",
   "execution_count": 127,
   "metadata": {
    "execution": {
     "iopub.execute_input": "2022-08-06T15:52:19.570112Z",
     "iopub.status.busy": "2022-08-06T15:52:19.569781Z",
     "iopub.status.idle": "2022-08-06T15:52:19.571923Z",
     "shell.execute_reply": "2022-08-06T15:52:19.572967Z"
    },
    "slideshow": {
     "slide_type": "fragment"
    }
   },
   "outputs": [],
   "source": [
    "# ignore\n",
    "from ClassDiagram import display_class_hierarchy"
   ]
  },
  {
   "cell_type": "code",
   "execution_count": 128,
   "metadata": {
    "execution": {
     "iopub.execute_input": "2022-08-06T15:52:19.579543Z",
     "iopub.status.busy": "2022-08-06T15:52:19.578653Z",
     "iopub.status.idle": "2022-08-06T15:52:19.965383Z",
     "shell.execute_reply": "2022-08-06T15:52:19.965673Z"
    },
    "slideshow": {
     "slide_type": "subslide"
    }
   },
   "outputs": [
    {
     "data": {
      "image/svg+xml": [
       "<?xml version=\"1.0\" encoding=\"UTF-8\" standalone=\"no\"?>\n",
       "<!DOCTYPE svg PUBLIC \"-//W3C//DTD SVG 1.1//EN\"\n",
       " \"http://www.w3.org/Graphics/SVG/1.1/DTD/svg11.dtd\">\n",
       "<!-- Generated by graphviz version 5.0.0 (20220707.1540)\n",
       " -->\n",
       "<!-- Pages: 1 -->\n",
       "<svg width=\"326pt\" height=\"405pt\"\n",
       " viewBox=\"0.00 0.00 325.50 405.00\" xmlns=\"http://www.w3.org/2000/svg\" xmlns:xlink=\"http://www.w3.org/1999/xlink\">\n",
       "<g id=\"graph0\" class=\"graph\" transform=\"scale(1 1) rotate(0) translate(4 401)\">\n",
       "<g id=\"a_graph0\"><a xlink:title=\"GrammarFuzzer class hierarchy\">\n",
       "<polygon fill=\"white\" stroke=\"transparent\" points=\"-4,4 -4,-401 321.5,-401 321.5,4 -4,4\"/>\n",
       "</a>\n",
       "</g>\n",
       "<!-- GrammarFuzzer -->\n",
       "<g id=\"node1\" class=\"node\">\n",
       "<title>GrammarFuzzer</title>\n",
       "<g id=\"a_node1\"><a xlink:href=\"#\" xlink:title=\"class GrammarFuzzer:&#10;Produce strings from grammars efficiently, using derivation trees.\">\n",
       "<polygon fill=\"none\" stroke=\"black\" points=\"0,-0.5 0,-284.5 179,-284.5 179,-0.5 0,-0.5\"/>\n",
       "<text text-anchor=\"start\" x=\"39.5\" y=\"-270.3\" font-family=\"Patua One, Helvetica, sans-serif\" font-weight=\"bold\" font-size=\"14.00\" fill=\"#b03a2e\">GrammarFuzzer</text>\n",
       "<polyline fill=\"none\" stroke=\"black\" points=\"0,-261.5 179,-261.5 \"/>\n",
       "<g id=\"a_node1_0\"><a xlink:href=\"#\" xlink:title=\"GrammarFuzzer\">\n",
       "<g id=\"a_node1_1\"><a xlink:href=\"#\" xlink:title=\"__init__(self, grammar: Dict[str, List[Expansion]], start_symbol: str = &#39;&lt;start&gt;&#39;, min_nonterminals: int = 0, max_nonterminals: int = 10, disp: bool = False, log: Union[bool, int] = False) &#45;&gt; None:&#10;Produce strings from `grammar`, starting with `start_symbol`.&#10;If `min_nonterminals` or `max_nonterminals` is given, use them as limits&#10;for the number of nonterminals produced.&#10;If `disp` is set, display the intermediate derivation trees.&#10;If `log` is set, show intermediate steps as text on standard output.\">\n",
       "<text text-anchor=\"start\" x=\"8.5\" y=\"-250\" font-family=\"'Fira Mono', 'Source Code Pro', 'Courier', monospace\" font-weight=\"bold\" font-style=\"italic\" font-size=\"10.00\">__init__()</text>\n",
       "</a>\n",
       "</g>\n",
       "<g id=\"a_node1_2\"><a xlink:href=\"#\" xlink:title=\"fuzz(self) &#45;&gt; str:&#10;Produce a string from the grammar.\">\n",
       "<text text-anchor=\"start\" x=\"8.5\" y=\"-239\" font-family=\"'Fira Mono', 'Source Code Pro', 'Courier', monospace\" font-weight=\"bold\" font-style=\"italic\" font-size=\"10.00\">fuzz()</text>\n",
       "</a>\n",
       "</g>\n",
       "<g id=\"a_node1_3\"><a xlink:href=\"#\" xlink:title=\"fuzz_tree(self) &#45;&gt; DerivationTree:&#10;Produce a derivation tree from the grammar.\">\n",
       "<text text-anchor=\"start\" x=\"8.5\" y=\"-228\" font-family=\"'Fira Mono', 'Source Code Pro', 'Courier', monospace\" font-weight=\"bold\" font-size=\"10.00\">fuzz_tree()</text>\n",
       "</a>\n",
       "</g>\n",
       "<g id=\"a_node1_4\"><a xlink:href=\"#\" xlink:title=\"any_possible_expansions(self, node: DerivationTree) &#45;&gt; bool\">\n",
       "<text text-anchor=\"start\" x=\"8.5\" y=\"-216\" font-family=\"'Fira Mono', 'Source Code Pro', 'Courier', monospace\" font-size=\"10.00\">any_possible_expansions()</text>\n",
       "</a>\n",
       "</g>\n",
       "<g id=\"a_node1_5\"><a xlink:href=\"#\" xlink:title=\"check_grammar(self) &#45;&gt; None:&#10;Check the grammar passed\">\n",
       "<text text-anchor=\"start\" x=\"8.5\" y=\"-205\" font-family=\"'Fira Mono', 'Source Code Pro', 'Courier', monospace\" font-size=\"10.00\">check_grammar()</text>\n",
       "</a>\n",
       "</g>\n",
       "<g id=\"a_node1_6\"><a xlink:href=\"#\" xlink:title=\"choose_node_expansion(self, node: DerivationTree, children_alternatives: List[List[DerivationTree]]) &#45;&gt; int:&#10;Return index of expansion in `children_alternatives` to be selected.&#10;&#39;children_alternatives`: a list of possible children for `node`.&#10;Defaults to random. To be overloaded in subclasses.\">\n",
       "<text text-anchor=\"start\" x=\"8.5\" y=\"-195\" font-family=\"'Fira Mono', 'Source Code Pro', 'Courier', monospace\" font-style=\"italic\" font-size=\"10.00\">choose_node_expansion()</text>\n",
       "</a>\n",
       "</g>\n",
       "<g id=\"a_node1_7\"><a xlink:href=\"#\" xlink:title=\"choose_tree_expansion(self, tree: DerivationTree, children: List[DerivationTree]) &#45;&gt; int:&#10;Return index of subtree in `children` to be selected for expansion.&#10;Defaults to random.\">\n",
       "<text text-anchor=\"start\" x=\"8.5\" y=\"-183\" font-family=\"'Fira Mono', 'Source Code Pro', 'Courier', monospace\" font-size=\"10.00\">choose_tree_expansion()</text>\n",
       "</a>\n",
       "</g>\n",
       "<g id=\"a_node1_8\"><a xlink:href=\"#\" xlink:title=\"expand_node(self, node: DerivationTree) &#45;&gt; DerivationTree\">\n",
       "<text text-anchor=\"start\" x=\"8.5\" y=\"-172\" font-family=\"'Fira Mono', 'Source Code Pro', 'Courier', monospace\" font-size=\"10.00\">expand_node()</text>\n",
       "</a>\n",
       "</g>\n",
       "<g id=\"a_node1_9\"><a xlink:href=\"#\" xlink:title=\"expand_node_by_cost(self, node: DerivationTree, choose: Callable = &lt;built&#45;in function min&gt;) &#45;&gt; DerivationTree\">\n",
       "<text text-anchor=\"start\" x=\"8.5\" y=\"-161\" font-family=\"'Fira Mono', 'Source Code Pro', 'Courier', monospace\" font-size=\"10.00\">expand_node_by_cost()</text>\n",
       "</a>\n",
       "</g>\n",
       "<g id=\"a_node1_10\"><a xlink:href=\"#\" xlink:title=\"expand_node_max_cost(self, node: DerivationTree) &#45;&gt; DerivationTree\">\n",
       "<text text-anchor=\"start\" x=\"8.5\" y=\"-150\" font-family=\"'Fira Mono', 'Source Code Pro', 'Courier', monospace\" font-size=\"10.00\">expand_node_max_cost()</text>\n",
       "</a>\n",
       "</g>\n",
       "<g id=\"a_node1_11\"><a xlink:href=\"#\" xlink:title=\"expand_node_min_cost(self, node: DerivationTree) &#45;&gt; DerivationTree\">\n",
       "<text text-anchor=\"start\" x=\"8.5\" y=\"-139\" font-family=\"'Fira Mono', 'Source Code Pro', 'Courier', monospace\" font-size=\"10.00\">expand_node_min_cost()</text>\n",
       "</a>\n",
       "</g>\n",
       "<g id=\"a_node1_12\"><a xlink:href=\"#\" xlink:title=\"expand_node_randomly(self, node: DerivationTree) &#45;&gt; DerivationTree:&#10;Choose a random expansion for `node` and return it\">\n",
       "<text text-anchor=\"start\" x=\"8.5\" y=\"-128\" font-family=\"'Fira Mono', 'Source Code Pro', 'Courier', monospace\" font-size=\"10.00\">expand_node_randomly()</text>\n",
       "</a>\n",
       "</g>\n",
       "<g id=\"a_node1_13\"><a xlink:href=\"#\" xlink:title=\"expand_tree(self, tree: DerivationTree) &#45;&gt; DerivationTree:&#10;Expand `tree` in a three&#45;phase strategy until all expansions are complete.\">\n",
       "<text text-anchor=\"start\" x=\"8.5\" y=\"-117\" font-family=\"'Fira Mono', 'Source Code Pro', 'Courier', monospace\" font-size=\"10.00\">expand_tree()</text>\n",
       "</a>\n",
       "</g>\n",
       "<g id=\"a_node1_14\"><a xlink:href=\"#\" xlink:title=\"expand_tree_once(self, tree: DerivationTree) &#45;&gt; DerivationTree:&#10;Choose an unexpanded symbol in tree; expand it.&#10;Can be overloaded in subclasses.\">\n",
       "<text text-anchor=\"start\" x=\"8.5\" y=\"-107\" font-family=\"'Fira Mono', 'Source Code Pro', 'Courier', monospace\" font-style=\"italic\" font-size=\"10.00\">expand_tree_once()</text>\n",
       "</a>\n",
       "</g>\n",
       "<g id=\"a_node1_15\"><a xlink:href=\"#\" xlink:title=\"expand_tree_with_strategy(self, tree: DerivationTree, expand_node_method: Callable, limit: Optional[int] = None):&#10;Expand tree using `expand_node_method` as node expansion function&#10;until the number of possible expansions reaches `limit`.\">\n",
       "<text text-anchor=\"start\" x=\"8.5\" y=\"-95\" font-family=\"'Fira Mono', 'Source Code Pro', 'Courier', monospace\" font-size=\"10.00\">expand_tree_with_strategy()</text>\n",
       "</a>\n",
       "</g>\n",
       "<g id=\"a_node1_16\"><a xlink:href=\"#\" xlink:title=\"expansion_cost(self, expansion: Expansion, seen: Set[str] = set()) &#45;&gt; Union[int, float]\">\n",
       "<text text-anchor=\"start\" x=\"8.5\" y=\"-84\" font-family=\"'Fira Mono', 'Source Code Pro', 'Courier', monospace\" font-size=\"10.00\">expansion_cost()</text>\n",
       "</a>\n",
       "</g>\n",
       "<g id=\"a_node1_17\"><a xlink:href=\"#\" xlink:title=\"expansion_to_children(self, expansion: Expansion) &#45;&gt; List[DerivationTree]\">\n",
       "<text text-anchor=\"start\" x=\"8.5\" y=\"-73\" font-family=\"'Fira Mono', 'Source Code Pro', 'Courier', monospace\" font-size=\"10.00\">expansion_to_children()</text>\n",
       "</a>\n",
       "</g>\n",
       "<g id=\"a_node1_18\"><a xlink:href=\"#\" xlink:title=\"init_tree(self) &#45;&gt; DerivationTree\">\n",
       "<text text-anchor=\"start\" x=\"8.5\" y=\"-62\" font-family=\"'Fira Mono', 'Source Code Pro', 'Courier', monospace\" font-size=\"10.00\">init_tree()</text>\n",
       "</a>\n",
       "</g>\n",
       "<g id=\"a_node1_19\"><a xlink:href=\"#\" xlink:title=\"log_tree(self, tree: DerivationTree) &#45;&gt; None:&#10;Output a tree if self.log is set; if self.display is also set, show the tree structure\">\n",
       "<text text-anchor=\"start\" x=\"8.5\" y=\"-51\" font-family=\"'Fira Mono', 'Source Code Pro', 'Courier', monospace\" font-size=\"10.00\">log_tree()</text>\n",
       "</a>\n",
       "</g>\n",
       "<g id=\"a_node1_20\"><a xlink:href=\"#\" xlink:title=\"possible_expansions(self, node: DerivationTree) &#45;&gt; int\">\n",
       "<text text-anchor=\"start\" x=\"8.5\" y=\"-40\" font-family=\"'Fira Mono', 'Source Code Pro', 'Courier', monospace\" font-size=\"10.00\">possible_expansions()</text>\n",
       "</a>\n",
       "</g>\n",
       "<g id=\"a_node1_21\"><a xlink:href=\"#\" xlink:title=\"process_chosen_children(self, chosen_children: List[DerivationTree], expansion: Expansion) &#45;&gt; List[DerivationTree]:&#10;Process children after selection. &#160;By default, does nothing.\">\n",
       "<text text-anchor=\"start\" x=\"8.5\" y=\"-29\" font-family=\"'Fira Mono', 'Source Code Pro', 'Courier', monospace\" font-size=\"10.00\">process_chosen_children()</text>\n",
       "</a>\n",
       "</g>\n",
       "<g id=\"a_node1_22\"><a xlink:href=\"#\" xlink:title=\"supported_opts(self) &#45;&gt; Set[str]:&#10;Set of supported options. To be overloaded in subclasses.\">\n",
       "<text text-anchor=\"start\" x=\"8.5\" y=\"-19\" font-family=\"'Fira Mono', 'Source Code Pro', 'Courier', monospace\" font-style=\"italic\" font-size=\"10.00\">supported_opts()</text>\n",
       "</a>\n",
       "</g>\n",
       "<g id=\"a_node1_23\"><a xlink:href=\"#\" xlink:title=\"symbol_cost(self, symbol: str, seen: Set[str] = set()) &#45;&gt; Union[int, float]\">\n",
       "<text text-anchor=\"start\" x=\"8.5\" y=\"-7\" font-family=\"'Fira Mono', 'Source Code Pro', 'Courier', monospace\" font-size=\"10.00\">symbol_cost()</text>\n",
       "</a>\n",
       "</g>\n",
       "</a>\n",
       "</g>\n",
       "</a>\n",
       "</g>\n",
       "</g>\n",
       "<!-- Fuzzer -->\n",
       "<g id=\"node2\" class=\"node\">\n",
       "<title>Fuzzer</title>\n",
       "<g id=\"a_node2\"><a xlink:href=\"Fuzzer.ipynb\" xlink:title=\"class Fuzzer:&#10;Base class for fuzzers.\">\n",
       "<polygon fill=\"none\" stroke=\"black\" points=\"51,-321.5 51,-396.5 128,-396.5 128,-321.5 51,-321.5\"/>\n",
       "<text text-anchor=\"start\" x=\"68.5\" y=\"-382.3\" font-family=\"Patua One, Helvetica, sans-serif\" font-weight=\"bold\" font-size=\"14.00\" fill=\"#b03a2e\">Fuzzer</text>\n",
       "<polyline fill=\"none\" stroke=\"black\" points=\"51,-373.5 128,-373.5 \"/>\n",
       "<g id=\"a_node2_24\"><a xlink:href=\"#\" xlink:title=\"Fuzzer\">\n",
       "<g id=\"a_node2_25\"><a xlink:href=\"Fuzzer.ipynb\" xlink:title=\"__init__(self) &#45;&gt; None:&#10;Constructor\">\n",
       "<text text-anchor=\"start\" x=\"59.5\" y=\"-362.5\" font-family=\"'Fira Mono', 'Source Code Pro', 'Courier', monospace\" font-weight=\"bold\" font-style=\"italic\" font-size=\"10.00\">__init__()</text>\n",
       "</a>\n",
       "</g>\n",
       "<g id=\"a_node2_26\"><a xlink:href=\"Fuzzer.ipynb\" xlink:title=\"fuzz(self) &#45;&gt; str:&#10;Return fuzz input\">\n",
       "<text text-anchor=\"start\" x=\"59.5\" y=\"-351.5\" font-family=\"'Fira Mono', 'Source Code Pro', 'Courier', monospace\" font-weight=\"bold\" font-style=\"italic\" font-size=\"10.00\">fuzz()</text>\n",
       "</a>\n",
       "</g>\n",
       "<g id=\"a_node2_27\"><a xlink:href=\"Fuzzer.ipynb\" xlink:title=\"run(self, runner: Fuzzer.Runner = &lt;Fuzzer.Runner object at 0x1076d6f50&gt;) &#45;&gt; Tuple[subprocess.CompletedProcess, str]:&#10;Run `runner` with fuzz input\">\n",
       "<text text-anchor=\"start\" x=\"59.5\" y=\"-340.5\" font-family=\"'Fira Mono', 'Source Code Pro', 'Courier', monospace\" font-weight=\"bold\" font-size=\"10.00\">run()</text>\n",
       "</a>\n",
       "</g>\n",
       "<g id=\"a_node2_28\"><a xlink:href=\"Fuzzer.ipynb\" xlink:title=\"runs(self, runner: Fuzzer.Runner = &lt;Fuzzer.PrintRunner object at 0x1076d6aa0&gt;, trials: int = 10) &#45;&gt; List[Tuple[subprocess.CompletedProcess, str]]:&#10;Run `runner` with fuzz input, `trials` times\">\n",
       "<text text-anchor=\"start\" x=\"59.5\" y=\"-329.5\" font-family=\"'Fira Mono', 'Source Code Pro', 'Courier', monospace\" font-weight=\"bold\" font-size=\"10.00\">runs()</text>\n",
       "</a>\n",
       "</g>\n",
       "</a>\n",
       "</g>\n",
       "</a>\n",
       "</g>\n",
       "</g>\n",
       "<!-- GrammarFuzzer&#45;&gt;Fuzzer -->\n",
       "<g id=\"edge1\" class=\"edge\">\n",
       "<title>GrammarFuzzer&#45;&gt;Fuzzer</title>\n",
       "<path fill=\"none\" stroke=\"black\" d=\"M89.5,-284.78C89.5,-294.16 89.5,-303.15 89.5,-311.42\"/>\n",
       "<polygon fill=\"none\" stroke=\"black\" points=\"86,-311.49 89.5,-321.49 93,-311.49 86,-311.49\"/>\n",
       "</g>\n",
       "<!-- Legend -->\n",
       "<g id=\"node3\" class=\"node\">\n",
       "<title>Legend</title>\n",
       "<text text-anchor=\"start\" x=\"197.5\" y=\"-160\" font-family=\"Patua One, Helvetica, sans-serif\" font-weight=\"bold\" font-size=\"10.00\" fill=\"#b03a2e\">Legend</text>\n",
       "<text text-anchor=\"start\" x=\"197.5\" y=\"-150\" font-family=\"Patua One, Helvetica, sans-serif\" font-size=\"10.00\">• </text>\n",
       "<text text-anchor=\"start\" x=\"204.5\" y=\"-150\" font-family=\"'Fira Mono', 'Source Code Pro', 'Courier', monospace\" font-weight=\"bold\" font-size=\"8.00\">public_method()</text>\n",
       "<text text-anchor=\"start\" x=\"197.5\" y=\"-140\" font-family=\"Patua One, Helvetica, sans-serif\" font-size=\"10.00\">• </text>\n",
       "<text text-anchor=\"start\" x=\"204.5\" y=\"-140\" font-family=\"'Fira Mono', 'Source Code Pro', 'Courier', monospace\" font-size=\"8.00\">private_method()</text>\n",
       "<text text-anchor=\"start\" x=\"197.5\" y=\"-130\" font-family=\"Patua One, Helvetica, sans-serif\" font-size=\"10.00\">• </text>\n",
       "<text text-anchor=\"start\" x=\"204.5\" y=\"-130\" font-family=\"'Fira Mono', 'Source Code Pro', 'Courier', monospace\" font-style=\"italic\" font-size=\"8.00\">overloaded_method()</text>\n",
       "<text text-anchor=\"start\" x=\"197.5\" y=\"-120.8\" font-family=\"Helvetica,sans-Serif\" font-size=\"9.00\">Hover over names to see doc</text>\n",
       "</g>\n",
       "</g>\n",
       "</svg>\n"
      ],
      "text/plain": [
       "<graphviz.graphs.Digraph at 0x122742590>"
      ]
     },
     "execution_count": 128,
     "metadata": {},
     "output_type": "execute_result"
    }
   ],
   "source": [
    "# ignore\n",
    "display_class_hierarchy([GrammarFuzzer],\n",
    "                        public_methods=[\n",
    "                            Fuzzer.__init__,\n",
    "                            Fuzzer.fuzz,\n",
    "                            Fuzzer.run,\n",
    "                            Fuzzer.runs,\n",
    "                            GrammarFuzzer.__init__,\n",
    "                            GrammarFuzzer.fuzz,\n",
    "                            GrammarFuzzer.fuzz_tree,\n",
    "                        ],\n",
    "                        types={\n",
    "                            'DerivationTree': DerivationTree,\n",
    "                            'Expansion': Expansion,\n",
    "                            'Grammar': Grammar\n",
    "                        },\n",
    "                        project='fuzzingbook')"
   ]
  },
  {
   "cell_type": "markdown",
   "metadata": {
    "slideshow": {
     "slide_type": "subslide"
    }
   },
   "source": [
    "### Derivation Trees"
   ]
  },
  {
   "cell_type": "markdown",
   "metadata": {
    "slideshow": {
     "slide_type": "fragment"
    }
   },
   "source": [
    "Internally, `GrammarFuzzer` makes use of [derivation trees](#Derivation-Trees), which it expands step by step.  After producing a string, the tree produced can be accessed in the `derivation_tree` attribute."
   ]
  },
  {
   "cell_type": "code",
   "execution_count": 129,
   "metadata": {
    "execution": {
     "iopub.execute_input": "2022-08-06T15:52:19.972625Z",
     "iopub.status.busy": "2022-08-06T15:52:19.972225Z",
     "iopub.status.idle": "2022-08-06T15:52:20.276203Z",
     "shell.execute_reply": "2022-08-06T15:52:20.276527Z"
    },
    "slideshow": {
     "slide_type": "fragment"
    }
   },
   "outputs": [
    {
     "data": {
      "image/svg+xml": [
       "<?xml version=\"1.0\" encoding=\"UTF-8\" standalone=\"no\"?>\n",
       "<!DOCTYPE svg PUBLIC \"-//W3C//DTD SVG 1.1//EN\"\n",
       " \"http://www.w3.org/Graphics/SVG/1.1/DTD/svg11.dtd\">\n",
       "<!-- Generated by graphviz version 5.0.0 (20220707.1540)\n",
       " -->\n",
       "<!-- Pages: 1 -->\n",
       "<svg width=\"646pt\" height=\"227pt\"\n",
       " viewBox=\"0.00 0.00 645.50 227.00\" xmlns=\"http://www.w3.org/2000/svg\" xmlns:xlink=\"http://www.w3.org/1999/xlink\">\n",
       "<g id=\"graph0\" class=\"graph\" transform=\"scale(1 1) rotate(0) translate(4 223)\">\n",
       "<polygon fill=\"white\" stroke=\"transparent\" points=\"-4,4 -4,-223 641.5,-223 641.5,4 -4,4\"/>\n",
       "<!-- 0 -->\n",
       "<g id=\"node1\" class=\"node\">\n",
       "<title>0</title>\n",
       "<text text-anchor=\"middle\" x=\"262.5\" y=\"-207.8\" font-family=\"Times,serif\" font-size=\"14.00\">&lt;start&gt;</text>\n",
       "</g>\n",
       "<!-- 1 -->\n",
       "<g id=\"node2\" class=\"node\">\n",
       "<title>1</title>\n",
       "<text text-anchor=\"middle\" x=\"262.5\" y=\"-156.8\" font-family=\"Times,serif\" font-size=\"14.00\">&lt;phone&#45;number&gt;</text>\n",
       "</g>\n",
       "<!-- 0&#45;&gt;1 -->\n",
       "<g id=\"edge1\" class=\"edge\">\n",
       "<title>0&#45;&gt;1</title>\n",
       "<path fill=\"none\" stroke=\"black\" d=\"M262.5,-203.69C262.5,-197.18 262.5,-187.1 262.5,-178.43\"/>\n",
       "<polygon fill=\"black\" stroke=\"black\" points=\"266,-178.26 262.5,-168.26 259,-178.26 266,-178.26\"/>\n",
       "</g>\n",
       "<!-- 2 -->\n",
       "<g id=\"node3\" class=\"node\">\n",
       "<title>2</title>\n",
       "<text text-anchor=\"middle\" x=\"127.5\" y=\"-105.8\" font-family=\"Times,serif\" font-size=\"14.00\">(</text>\n",
       "</g>\n",
       "<!-- 1&#45;&gt;2 -->\n",
       "<g id=\"edge2\" class=\"edge\">\n",
       "<title>1&#45;&gt;2</title>\n",
       "<path fill=\"none\" stroke=\"black\" d=\"M239.86,-152.9C214.85,-145.33 173.62,-132.02 139.5,-117 139.4,-116.95 139.29,-116.91 139.19,-116.86\"/>\n",
       "<polygon fill=\"black\" stroke=\"black\" points=\"140.68,-113.69 130.2,-112.13 137.42,-119.88 140.68,-113.69\"/>\n",
       "</g>\n",
       "<!-- 3 -->\n",
       "<g id=\"node4\" class=\"node\">\n",
       "<title>3</title>\n",
       "<text text-anchor=\"middle\" x=\"168.5\" y=\"-105.8\" font-family=\"Times,serif\" font-size=\"14.00\">&lt;area&gt;</text>\n",
       "</g>\n",
       "<!-- 1&#45;&gt;3 -->\n",
       "<g id=\"edge3\" class=\"edge\">\n",
       "<title>1&#45;&gt;3</title>\n",
       "<path fill=\"none\" stroke=\"black\" d=\"M249.82,-152.89C234.46,-144.88 208.34,-131.27 189.85,-121.63\"/>\n",
       "<polygon fill=\"black\" stroke=\"black\" points=\"191.46,-118.52 180.98,-117 188.23,-124.73 191.46,-118.52\"/>\n",
       "</g>\n",
       "<!-- 10 -->\n",
       "<g id=\"node11\" class=\"node\">\n",
       "<title>10</title>\n",
       "<text text-anchor=\"middle\" x=\"235.5\" y=\"-105.8\" font-family=\"Times,serif\" font-size=\"14.00\">)</text>\n",
       "</g>\n",
       "<!-- 1&#45;&gt;10 -->\n",
       "<g id=\"edge10\" class=\"edge\">\n",
       "<title>1&#45;&gt;10</title>\n",
       "<path fill=\"none\" stroke=\"black\" d=\"M258.75,-152.69C254.7,-145.35 248.16,-133.48 243.05,-124.2\"/>\n",
       "<polygon fill=\"black\" stroke=\"black\" points=\"245.98,-122.27 238.09,-115.2 239.85,-125.65 245.98,-122.27\"/>\n",
       "</g>\n",
       "<!-- 11 -->\n",
       "<g id=\"node12\" class=\"node\">\n",
       "<title>11</title>\n",
       "<text text-anchor=\"middle\" x=\"290.5\" y=\"-105.8\" font-family=\"Times,serif\" font-size=\"14.00\">&lt;exchange&gt;</text>\n",
       "</g>\n",
       "<!-- 1&#45;&gt;11 -->\n",
       "<g id=\"edge11\" class=\"edge\">\n",
       "<title>1&#45;&gt;11</title>\n",
       "<path fill=\"none\" stroke=\"black\" d=\"M266.39,-152.69C270.32,-145.81 276.52,-134.96 281.65,-125.98\"/>\n",
       "<polygon fill=\"black\" stroke=\"black\" points=\"284.72,-127.67 286.64,-117.26 278.64,-124.2 284.72,-127.67\"/>\n",
       "</g>\n",
       "<!-- 18 -->\n",
       "<g id=\"node19\" class=\"node\">\n",
       "<title>18</title>\n",
       "<text text-anchor=\"middle\" x=\"345.5\" y=\"-105.8\" font-family=\"Times,serif\" font-size=\"14.00\">&#45;</text>\n",
       "</g>\n",
       "<!-- 1&#45;&gt;18 -->\n",
       "<g id=\"edge18\" class=\"edge\">\n",
       "<title>1&#45;&gt;18</title>\n",
       "<path fill=\"none\" stroke=\"black\" d=\"M273.69,-152.89C289.51,-143.55 318.25,-126.59 334.15,-117.2\"/>\n",
       "<polygon fill=\"black\" stroke=\"black\" points=\"335.96,-120.2 342.79,-112.1 332.4,-114.17 335.96,-120.2\"/>\n",
       "</g>\n",
       "<!-- 19 -->\n",
       "<g id=\"node20\" class=\"node\">\n",
       "<title>19</title>\n",
       "<text text-anchor=\"middle\" x=\"496.5\" y=\"-105.8\" font-family=\"Times,serif\" font-size=\"14.00\">&lt;line&gt;</text>\n",
       "</g>\n",
       "<!-- 1&#45;&gt;19 -->\n",
       "<g id=\"edge19\" class=\"edge\">\n",
       "<title>1&#45;&gt;19</title>\n",
       "<path fill=\"none\" stroke=\"black\" d=\"M293.57,-152.99C339.27,-143.43 423.93,-125.7 468.06,-116.45\"/>\n",
       "<polygon fill=\"black\" stroke=\"black\" points=\"468.79,-119.88 477.86,-114.4 467.35,-113.03 468.79,-119.88\"/>\n",
       "</g>\n",
       "<!-- 4 -->\n",
       "<g id=\"node5\" class=\"node\">\n",
       "<title>4</title>\n",
       "<text text-anchor=\"middle\" x=\"34.5\" y=\"-54.8\" font-family=\"Times,serif\" font-size=\"14.00\">&lt;lead&#45;digit&gt;</text>\n",
       "</g>\n",
       "<!-- 3&#45;&gt;4 -->\n",
       "<g id=\"edge4\" class=\"edge\">\n",
       "<title>3&#45;&gt;4</title>\n",
       "<path fill=\"none\" stroke=\"black\" d=\"M150.71,-101.99C127.98,-93.68 88.42,-79.22 61.85,-69.5\"/>\n",
       "<polygon fill=\"black\" stroke=\"black\" points=\"62.96,-66.18 52.37,-66.03 60.56,-72.76 62.96,-66.18\"/>\n",
       "</g>\n",
       "<!-- 6 -->\n",
       "<g id=\"node7\" class=\"node\">\n",
       "<title>6</title>\n",
       "<text text-anchor=\"middle\" x=\"108.5\" y=\"-54.8\" font-family=\"Times,serif\" font-size=\"14.00\">&lt;digit&gt;</text>\n",
       "</g>\n",
       "<!-- 3&#45;&gt;6 -->\n",
       "<g id=\"edge6\" class=\"edge\">\n",
       "<title>3&#45;&gt;6</title>\n",
       "<path fill=\"none\" stroke=\"black\" d=\"M160.16,-101.69C151.02,-94.23 136.15,-82.08 124.71,-72.73\"/>\n",
       "<polygon fill=\"black\" stroke=\"black\" points=\"126.73,-69.87 116.77,-66.26 122.3,-75.29 126.73,-69.87\"/>\n",
       "</g>\n",
       "<!-- 8 -->\n",
       "<g id=\"node9\" class=\"node\">\n",
       "<title>8</title>\n",
       "<text text-anchor=\"middle\" x=\"168.5\" y=\"-54.8\" font-family=\"Times,serif\" font-size=\"14.00\">&lt;digit&gt;</text>\n",
       "</g>\n",
       "<!-- 3&#45;&gt;8 -->\n",
       "<g id=\"edge8\" class=\"edge\">\n",
       "<title>3&#45;&gt;8</title>\n",
       "<path fill=\"none\" stroke=\"black\" d=\"M168.5,-101.69C168.5,-95.18 168.5,-85.1 168.5,-76.43\"/>\n",
       "<polygon fill=\"black\" stroke=\"black\" points=\"172,-76.26 168.5,-66.26 165,-76.26 172,-76.26\"/>\n",
       "</g>\n",
       "<!-- 5 -->\n",
       "<g id=\"node6\" class=\"node\">\n",
       "<title>5</title>\n",
       "<text text-anchor=\"middle\" x=\"34.5\" y=\"-3.8\" font-family=\"Times,serif\" font-size=\"14.00\">4</text>\n",
       "</g>\n",
       "<!-- 4&#45;&gt;5 -->\n",
       "<g id=\"edge5\" class=\"edge\">\n",
       "<title>4&#45;&gt;5</title>\n",
       "<path fill=\"none\" stroke=\"black\" d=\"M34.5,-50.69C34.5,-44.18 34.5,-34.1 34.5,-25.43\"/>\n",
       "<polygon fill=\"black\" stroke=\"black\" points=\"38,-25.26 34.5,-15.26 31,-25.26 38,-25.26\"/>\n",
       "</g>\n",
       "<!-- 7 -->\n",
       "<g id=\"node8\" class=\"node\">\n",
       "<title>7</title>\n",
       "<text text-anchor=\"middle\" x=\"108.5\" y=\"-3.8\" font-family=\"Times,serif\" font-size=\"14.00\">7</text>\n",
       "</g>\n",
       "<!-- 6&#45;&gt;7 -->\n",
       "<g id=\"edge7\" class=\"edge\">\n",
       "<title>6&#45;&gt;7</title>\n",
       "<path fill=\"none\" stroke=\"black\" d=\"M108.5,-50.69C108.5,-44.18 108.5,-34.1 108.5,-25.43\"/>\n",
       "<polygon fill=\"black\" stroke=\"black\" points=\"112,-25.26 108.5,-15.26 105,-25.26 112,-25.26\"/>\n",
       "</g>\n",
       "<!-- 9 -->\n",
       "<g id=\"node10\" class=\"node\">\n",
       "<title>9</title>\n",
       "<text text-anchor=\"middle\" x=\"168.5\" y=\"-3.8\" font-family=\"Times,serif\" font-size=\"14.00\">6</text>\n",
       "</g>\n",
       "<!-- 8&#45;&gt;9 -->\n",
       "<g id=\"edge9\" class=\"edge\">\n",
       "<title>8&#45;&gt;9</title>\n",
       "<path fill=\"none\" stroke=\"black\" d=\"M168.5,-50.69C168.5,-44.18 168.5,-34.1 168.5,-25.43\"/>\n",
       "<polygon fill=\"black\" stroke=\"black\" points=\"172,-25.26 168.5,-15.26 165,-25.26 172,-25.26\"/>\n",
       "</g>\n",
       "<!-- 12 -->\n",
       "<g id=\"node13\" class=\"node\">\n",
       "<title>12</title>\n",
       "<text text-anchor=\"middle\" x=\"242.5\" y=\"-54.8\" font-family=\"Times,serif\" font-size=\"14.00\">&lt;lead&#45;digit&gt;</text>\n",
       "</g>\n",
       "<!-- 11&#45;&gt;12 -->\n",
       "<g id=\"edge12\" class=\"edge\">\n",
       "<title>11&#45;&gt;12</title>\n",
       "<path fill=\"none\" stroke=\"black\" d=\"M283.83,-101.69C276.73,-94.45 265.32,-82.79 256.28,-73.57\"/>\n",
       "<polygon fill=\"black\" stroke=\"black\" points=\"258.62,-70.95 249.12,-66.26 253.62,-75.85 258.62,-70.95\"/>\n",
       "</g>\n",
       "<!-- 14 -->\n",
       "<g id=\"node15\" class=\"node\">\n",
       "<title>14</title>\n",
       "<text text-anchor=\"middle\" x=\"316.5\" y=\"-54.8\" font-family=\"Times,serif\" font-size=\"14.00\">&lt;digit&gt;</text>\n",
       "</g>\n",
       "<!-- 11&#45;&gt;14 -->\n",
       "<g id=\"edge14\" class=\"edge\">\n",
       "<title>11&#45;&gt;14</title>\n",
       "<path fill=\"none\" stroke=\"black\" d=\"M294.12,-101.69C297.72,-94.88 303.4,-84.19 308.13,-75.27\"/>\n",
       "<polygon fill=\"black\" stroke=\"black\" points=\"311.32,-76.73 312.92,-66.26 305.14,-73.45 311.32,-76.73\"/>\n",
       "</g>\n",
       "<!-- 16 -->\n",
       "<g id=\"node17\" class=\"node\">\n",
       "<title>16</title>\n",
       "<text text-anchor=\"middle\" x=\"376.5\" y=\"-54.8\" font-family=\"Times,serif\" font-size=\"14.00\">&lt;digit&gt;</text>\n",
       "</g>\n",
       "<!-- 11&#45;&gt;16 -->\n",
       "<g id=\"edge16\" class=\"edge\">\n",
       "<title>11&#45;&gt;16</title>\n",
       "<path fill=\"none\" stroke=\"black\" d=\"M302.1,-101.89C315.9,-94.03 339.18,-80.77 356.03,-71.16\"/>\n",
       "<polygon fill=\"black\" stroke=\"black\" points=\"358.13,-74 365.09,-66 354.66,-67.91 358.13,-74\"/>\n",
       "</g>\n",
       "<!-- 13 -->\n",
       "<g id=\"node14\" class=\"node\">\n",
       "<title>13</title>\n",
       "<text text-anchor=\"middle\" x=\"242.5\" y=\"-3.8\" font-family=\"Times,serif\" font-size=\"14.00\">4</text>\n",
       "</g>\n",
       "<!-- 12&#45;&gt;13 -->\n",
       "<g id=\"edge13\" class=\"edge\">\n",
       "<title>12&#45;&gt;13</title>\n",
       "<path fill=\"none\" stroke=\"black\" d=\"M242.5,-50.69C242.5,-44.18 242.5,-34.1 242.5,-25.43\"/>\n",
       "<polygon fill=\"black\" stroke=\"black\" points=\"246,-25.26 242.5,-15.26 239,-25.26 246,-25.26\"/>\n",
       "</g>\n",
       "<!-- 15 -->\n",
       "<g id=\"node16\" class=\"node\">\n",
       "<title>15</title>\n",
       "<text text-anchor=\"middle\" x=\"316.5\" y=\"-3.8\" font-family=\"Times,serif\" font-size=\"14.00\">1</text>\n",
       "</g>\n",
       "<!-- 14&#45;&gt;15 -->\n",
       "<g id=\"edge15\" class=\"edge\">\n",
       "<title>14&#45;&gt;15</title>\n",
       "<path fill=\"none\" stroke=\"black\" d=\"M316.5,-50.69C316.5,-44.18 316.5,-34.1 316.5,-25.43\"/>\n",
       "<polygon fill=\"black\" stroke=\"black\" points=\"320,-25.26 316.5,-15.26 313,-25.26 320,-25.26\"/>\n",
       "</g>\n",
       "<!-- 17 -->\n",
       "<g id=\"node18\" class=\"node\">\n",
       "<title>17</title>\n",
       "<text text-anchor=\"middle\" x=\"376.5\" y=\"-3.8\" font-family=\"Times,serif\" font-size=\"14.00\">0</text>\n",
       "</g>\n",
       "<!-- 16&#45;&gt;17 -->\n",
       "<g id=\"edge17\" class=\"edge\">\n",
       "<title>16&#45;&gt;17</title>\n",
       "<path fill=\"none\" stroke=\"black\" d=\"M376.5,-50.69C376.5,-44.18 376.5,-34.1 376.5,-25.43\"/>\n",
       "<polygon fill=\"black\" stroke=\"black\" points=\"380,-25.26 376.5,-15.26 373,-25.26 380,-25.26\"/>\n",
       "</g>\n",
       "<!-- 20 -->\n",
       "<g id=\"node21\" class=\"node\">\n",
       "<title>20</title>\n",
       "<text text-anchor=\"middle\" x=\"436.5\" y=\"-54.8\" font-family=\"Times,serif\" font-size=\"14.00\">&lt;digit&gt;</text>\n",
       "</g>\n",
       "<!-- 19&#45;&gt;20 -->\n",
       "<g id=\"edge20\" class=\"edge\">\n",
       "<title>19&#45;&gt;20</title>\n",
       "<path fill=\"none\" stroke=\"black\" d=\"M488.16,-101.69C479.02,-94.23 464.15,-82.08 452.71,-72.73\"/>\n",
       "<polygon fill=\"black\" stroke=\"black\" points=\"454.73,-69.87 444.77,-66.26 450.3,-75.29 454.73,-69.87\"/>\n",
       "</g>\n",
       "<!-- 22 -->\n",
       "<g id=\"node23\" class=\"node\">\n",
       "<title>22</title>\n",
       "<text text-anchor=\"middle\" x=\"496.5\" y=\"-54.8\" font-family=\"Times,serif\" font-size=\"14.00\">&lt;digit&gt;</text>\n",
       "</g>\n",
       "<!-- 19&#45;&gt;22 -->\n",
       "<g id=\"edge22\" class=\"edge\">\n",
       "<title>19&#45;&gt;22</title>\n",
       "<path fill=\"none\" stroke=\"black\" d=\"M496.5,-101.69C496.5,-95.18 496.5,-85.1 496.5,-76.43\"/>\n",
       "<polygon fill=\"black\" stroke=\"black\" points=\"500,-76.26 496.5,-66.26 493,-76.26 500,-76.26\"/>\n",
       "</g>\n",
       "<!-- 24 -->\n",
       "<g id=\"node25\" class=\"node\">\n",
       "<title>24</title>\n",
       "<text text-anchor=\"middle\" x=\"556.5\" y=\"-54.8\" font-family=\"Times,serif\" font-size=\"14.00\">&lt;digit&gt;</text>\n",
       "</g>\n",
       "<!-- 19&#45;&gt;24 -->\n",
       "<g id=\"edge24\" class=\"edge\">\n",
       "<title>19&#45;&gt;24</title>\n",
       "<path fill=\"none\" stroke=\"black\" d=\"M504.84,-101.69C513.98,-94.23 528.85,-82.08 540.29,-72.73\"/>\n",
       "<polygon fill=\"black\" stroke=\"black\" points=\"542.7,-75.29 548.23,-66.26 538.27,-69.87 542.7,-75.29\"/>\n",
       "</g>\n",
       "<!-- 26 -->\n",
       "<g id=\"node27\" class=\"node\">\n",
       "<title>26</title>\n",
       "<text text-anchor=\"middle\" x=\"616.5\" y=\"-54.8\" font-family=\"Times,serif\" font-size=\"14.00\">&lt;digit&gt;</text>\n",
       "</g>\n",
       "<!-- 19&#45;&gt;26 -->\n",
       "<g id=\"edge26\" class=\"edge\">\n",
       "<title>19&#45;&gt;26</title>\n",
       "<path fill=\"none\" stroke=\"black\" d=\"M512.68,-101.89C532.84,-93.66 567.49,-79.51 591.17,-69.84\"/>\n",
       "<polygon fill=\"black\" stroke=\"black\" points=\"592.64,-73.02 600.57,-66 589.99,-66.54 592.64,-73.02\"/>\n",
       "</g>\n",
       "<!-- 21 -->\n",
       "<g id=\"node22\" class=\"node\">\n",
       "<title>21</title>\n",
       "<text text-anchor=\"middle\" x=\"436.5\" y=\"-3.8\" font-family=\"Times,serif\" font-size=\"14.00\">1</text>\n",
       "</g>\n",
       "<!-- 20&#45;&gt;21 -->\n",
       "<g id=\"edge21\" class=\"edge\">\n",
       "<title>20&#45;&gt;21</title>\n",
       "<path fill=\"none\" stroke=\"black\" d=\"M436.5,-50.69C436.5,-44.18 436.5,-34.1 436.5,-25.43\"/>\n",
       "<polygon fill=\"black\" stroke=\"black\" points=\"440,-25.26 436.5,-15.26 433,-25.26 440,-25.26\"/>\n",
       "</g>\n",
       "<!-- 23 -->\n",
       "<g id=\"node24\" class=\"node\">\n",
       "<title>23</title>\n",
       "<text text-anchor=\"middle\" x=\"496.5\" y=\"-3.8\" font-family=\"Times,serif\" font-size=\"14.00\">8</text>\n",
       "</g>\n",
       "<!-- 22&#45;&gt;23 -->\n",
       "<g id=\"edge23\" class=\"edge\">\n",
       "<title>22&#45;&gt;23</title>\n",
       "<path fill=\"none\" stroke=\"black\" d=\"M496.5,-50.69C496.5,-44.18 496.5,-34.1 496.5,-25.43\"/>\n",
       "<polygon fill=\"black\" stroke=\"black\" points=\"500,-25.26 496.5,-15.26 493,-25.26 500,-25.26\"/>\n",
       "</g>\n",
       "<!-- 25 -->\n",
       "<g id=\"node26\" class=\"node\">\n",
       "<title>25</title>\n",
       "<text text-anchor=\"middle\" x=\"556.5\" y=\"-3.8\" font-family=\"Times,serif\" font-size=\"14.00\">9</text>\n",
       "</g>\n",
       "<!-- 24&#45;&gt;25 -->\n",
       "<g id=\"edge25\" class=\"edge\">\n",
       "<title>24&#45;&gt;25</title>\n",
       "<path fill=\"none\" stroke=\"black\" d=\"M556.5,-50.69C556.5,-44.18 556.5,-34.1 556.5,-25.43\"/>\n",
       "<polygon fill=\"black\" stroke=\"black\" points=\"560,-25.26 556.5,-15.26 553,-25.26 560,-25.26\"/>\n",
       "</g>\n",
       "<!-- 27 -->\n",
       "<g id=\"node28\" class=\"node\">\n",
       "<title>27</title>\n",
       "<text text-anchor=\"middle\" x=\"616.5\" y=\"-3.8\" font-family=\"Times,serif\" font-size=\"14.00\">5</text>\n",
       "</g>\n",
       "<!-- 26&#45;&gt;27 -->\n",
       "<g id=\"edge27\" class=\"edge\">\n",
       "<title>26&#45;&gt;27</title>\n",
       "<path fill=\"none\" stroke=\"black\" d=\"M616.5,-50.69C616.5,-44.18 616.5,-34.1 616.5,-25.43\"/>\n",
       "<polygon fill=\"black\" stroke=\"black\" points=\"620,-25.26 616.5,-15.26 613,-25.26 620,-25.26\"/>\n",
       "</g>\n",
       "</g>\n",
       "</svg>\n"
      ],
      "text/plain": [
       "<graphviz.graphs.Digraph at 0x122742f20>"
      ]
     },
     "execution_count": 129,
     "metadata": {},
     "output_type": "execute_result"
    }
   ],
   "source": [
    "display_tree(phone_fuzzer.derivation_tree)"
   ]
  },
  {
   "cell_type": "markdown",
   "metadata": {
    "slideshow": {
     "slide_type": "fragment"
    }
   },
   "source": [
    "In the internal representation of a derivation tree, a _node_ is a pair (`symbol`, `children`).  For nonterminals, `symbol` is the symbol that is being expanded, and `children` is a list of further nodes.  For terminals, `symbol` is the terminal string, and `children` is empty."
   ]
  },
  {
   "cell_type": "code",
   "execution_count": 130,
   "metadata": {
    "execution": {
     "iopub.execute_input": "2022-08-06T15:52:20.279905Z",
     "iopub.status.busy": "2022-08-06T15:52:20.279624Z",
     "iopub.status.idle": "2022-08-06T15:52:20.281056Z",
     "shell.execute_reply": "2022-08-06T15:52:20.281298Z"
    },
    "slideshow": {
     "slide_type": "subslide"
    }
   },
   "outputs": [
    {
     "data": {
      "text/plain": [
       "('<start>',\n",
       " [('<phone-number>',\n",
       "   [('(', []),\n",
       "    ('<area>',\n",
       "     [('<lead-digit>', [('4', [])]),\n",
       "      ('<digit>', [('7', [])]),\n",
       "      ('<digit>', [('6', [])])]),\n",
       "    (')', []),\n",
       "    ('<exchange>',\n",
       "     [('<lead-digit>', [('4', [])]),\n",
       "      ('<digit>', [('1', [])]),\n",
       "      ('<digit>', [('0', [])])]),\n",
       "    ('-', []),\n",
       "    ('<line>',\n",
       "     [('<digit>', [('1', [])]),\n",
       "      ('<digit>', [('8', [])]),\n",
       "      ('<digit>', [('9', [])]),\n",
       "      ('<digit>', [('5', [])])])])])"
      ]
     },
     "execution_count": 130,
     "metadata": {},
     "output_type": "execute_result"
    }
   ],
   "source": [
    "phone_fuzzer.derivation_tree"
   ]
  },
  {
   "cell_type": "markdown",
   "metadata": {
    "slideshow": {
     "slide_type": "subslide"
    }
   },
   "source": [
    "The chapter contains various helpers to work with derivation trees, including visualization tools – notably, `display_tree()`, above."
   ]
  },
  {
   "cell_type": "markdown",
   "metadata": {
    "button": false,
    "new_sheet": true,
    "run_control": {
     "read_only": false
    },
    "slideshow": {
     "slide_type": "slide"
    }
   },
   "source": [
    "## Lessons Learned\n",
    "\n",
    "* _Derivation trees_ are important for expressing input structure\n",
    "* _Grammar fuzzing based on derivation trees_ \n",
    "    1. is much more efficient than string-based grammar fuzzing,\n",
    "    2. gives much better control over input generation, and\n",
    "    3. effectively avoids running into infinite expansions."
   ]
  },
  {
   "cell_type": "markdown",
   "metadata": {
    "button": false,
    "new_sheet": false,
    "run_control": {
     "read_only": false
    },
    "slideshow": {
     "slide_type": "skip"
    }
   },
   "source": [
    "## Next Steps\n",
    "\n",
    "Congratulations!  You have reached one of the central \"hubs\" of the book.  From here, there is a wide range of techniques that build on grammar fuzzing."
   ]
  },
  {
   "cell_type": "markdown",
   "metadata": {
    "button": false,
    "new_sheet": false,
    "run_control": {
     "read_only": false
    },
    "slideshow": {
     "slide_type": "skip"
    }
   },
   "source": [
    "### Extending Grammars\n",
    "\n",
    "First, we have a number of techniques that all _extend_ grammars in some form:\n",
    "\n",
    "* [Parsing and recombining inputs](Parser.ipynb) allows to make use of existing inputs, again using derivation trees\n",
    "* [Covering grammar expansions](GrammarCoverageFuzzer.ipynb) allows for _combinatorial_ coverage\n",
    "* [Assigning _probabilities_ to individual expansions](ProbabilisticGrammarFuzzer.ipynb) gives additional control over expansions\n",
    "* [Assigning _constraints_ to individual expansions](GeneratorGrammarFuzzer.ipynb) allows to express _semantic constraints_ on individual rules."
   ]
  },
  {
   "cell_type": "markdown",
   "metadata": {
    "button": false,
    "new_sheet": false,
    "run_control": {
     "read_only": false
    },
    "slideshow": {
     "slide_type": "skip"
    }
   },
   "source": [
    "### Applying Grammars\n",
    "\n",
    "Second, we can _apply_ grammars in a variety of contexts that all involve some form of learning it automatically:\n",
    "\n",
    "* [Fuzzing APIs](APIFuzzer.ipynb), learning a grammar from APIs\n",
    "* [Fuzzing graphical user interfaces](WebFuzzer.ipynb), learning a grammar from user interfaces for subsequent fuzzing\n",
    "* [Mining grammars](GrammarMiner.ipynb), learning a grammar for arbitrary input formats\n",
    "\n",
    "Keep on expanding!"
   ]
  },
  {
   "cell_type": "markdown",
   "metadata": {
    "slideshow": {
     "slide_type": "slide"
    }
   },
   "source": [
    "## Background\n",
    "\n",
    "Derivation trees (then frequently called _parse trees_) are a standard data structure into which *parsers* decompose inputs.  The *Dragon Book* (also known as *Compilers: Principles, Techniques, and Tools*) \\cite{Aho2006} discusses parsing into derivation trees as part of compiling programs.  We also use derivation trees [when parsing and recombining inputs](Parser.ipynb).\n",
    "\n",
    "The key idea in this chapter, namely expanding until a limit of symbols is reached, and then always choosing the shortest path, stems from Luke \\cite{Luke2000}."
   ]
  },
  {
   "cell_type": "markdown",
   "metadata": {
    "button": false,
    "new_sheet": false,
    "run_control": {
     "read_only": false
    },
    "slideshow": {
     "slide_type": "slide"
    }
   },
   "source": [
    "## Exercises"
   ]
  },
  {
   "cell_type": "markdown",
   "metadata": {
    "button": false,
    "new_sheet": false,
    "run_control": {
     "read_only": false
    },
    "slideshow": {
     "slide_type": "subslide"
    }
   },
   "source": [
    "### Exercise 1: Caching Method Results\n",
    "\n",
    "Tracking `GrammarFuzzer` reveals that some methods are called again and again, always with the same values.  \n",
    "\n",
    "Set up a class `FasterGrammarFuzzer` with a _cache_ that checks whether the method has been called before, and if so, return the previously computed \"memoized\" value.  Do this for `expansion_to_children()`.  Compare the number of invocations before and after the optimization."
   ]
  },
  {
   "cell_type": "markdown",
   "metadata": {
    "button": false,
    "new_sheet": false,
    "run_control": {
     "read_only": false
    },
    "slideshow": {
     "slide_type": "fragment"
    },
    "solution": "hidden",
    "solution2": "hidden",
    "solution2_first": true,
    "solution_first": true
   },
   "source": [
    "**Important**: For `expansion_to_children()`, make sure that each list returned is an individual copy.  If you return the same (cached) list, this will interfere with the in-place modification of `GrammarFuzzer`.  Use the Python `copy.deepcopy()` function for this purpose."
   ]
  },
  {
   "cell_type": "markdown",
   "metadata": {
    "slideshow": {
     "slide_type": "skip"
    },
    "solution2": "hidden"
   },
   "source": [
    "**Solution.** Let us demonstrate this for `expansion_to_children()`:"
   ]
  },
  {
   "cell_type": "code",
   "execution_count": 131,
   "metadata": {
    "execution": {
     "iopub.execute_input": "2022-08-06T15:52:20.283920Z",
     "iopub.status.busy": "2022-08-06T15:52:20.283578Z",
     "iopub.status.idle": "2022-08-06T15:52:20.284828Z",
     "shell.execute_reply": "2022-08-06T15:52:20.285006Z"
    },
    "slideshow": {
     "slide_type": "skip"
    },
    "solution2": "hidden"
   },
   "outputs": [],
   "source": [
    "import copy"
   ]
  },
  {
   "cell_type": "code",
   "execution_count": 132,
   "metadata": {
    "execution": {
     "iopub.execute_input": "2022-08-06T15:52:20.288383Z",
     "iopub.status.busy": "2022-08-06T15:52:20.287987Z",
     "iopub.status.idle": "2022-08-06T15:52:20.289512Z",
     "shell.execute_reply": "2022-08-06T15:52:20.289697Z"
    },
    "slideshow": {
     "slide_type": "skip"
    },
    "solution2": "hidden"
   },
   "outputs": [],
   "source": [
    "class FasterGrammarFuzzer(GrammarFuzzer):\n",
    "    \"\"\"Variant of `GrammarFuzzer` with memoized values\"\"\"\n",
    "\n",
    "    def __init__(self, *args, **kwargs) -> None:\n",
    "        super().__init__(*args, **kwargs)\n",
    "        self._expansion_cache: Dict[Expansion, List[DerivationTree]] = {}\n",
    "        self._expansion_invocations = 0\n",
    "        self._expansion_invocations_cached = 0\n",
    "\n",
    "    def expansion_to_children(self, expansion: Expansion) \\\n",
    "            -> List[DerivationTree]:\n",
    "        self._expansion_invocations += 1\n",
    "        if expansion in self._expansion_cache:\n",
    "            self._expansion_invocations_cached += 1\n",
    "            cached_result = copy.deepcopy(self._expansion_cache[expansion])\n",
    "            return cached_result\n",
    "\n",
    "        result = super().expansion_to_children(expansion)\n",
    "        self._expansion_cache[expansion] = copy.deepcopy(result)\n",
    "        return result"
   ]
  },
  {
   "cell_type": "code",
   "execution_count": 133,
   "metadata": {
    "execution": {
     "iopub.execute_input": "2022-08-06T15:52:20.293211Z",
     "iopub.status.busy": "2022-08-06T15:52:20.292889Z",
     "iopub.status.idle": "2022-08-06T15:52:20.294640Z",
     "shell.execute_reply": "2022-08-06T15:52:20.294905Z"
    },
    "slideshow": {
     "slide_type": "skip"
    },
    "solution2": "hidden"
   },
   "outputs": [
    {
     "data": {
      "text/plain": [
       "'1 + 3 / 5 + 9 * 8'"
      ]
     },
     "execution_count": 133,
     "metadata": {},
     "output_type": "execute_result"
    }
   ],
   "source": [
    "f = FasterGrammarFuzzer(EXPR_GRAMMAR, min_nonterminals=3, max_nonterminals=5)\n",
    "f.fuzz()"
   ]
  },
  {
   "cell_type": "code",
   "execution_count": 134,
   "metadata": {
    "execution": {
     "iopub.execute_input": "2022-08-06T15:52:20.297284Z",
     "iopub.status.busy": "2022-08-06T15:52:20.296943Z",
     "iopub.status.idle": "2022-08-06T15:52:20.298447Z",
     "shell.execute_reply": "2022-08-06T15:52:20.298749Z"
    },
    "slideshow": {
     "slide_type": "skip"
    },
    "solution2": "hidden"
   },
   "outputs": [
    {
     "data": {
      "text/plain": [
       "110"
      ]
     },
     "execution_count": 134,
     "metadata": {},
     "output_type": "execute_result"
    }
   ],
   "source": [
    "f._expansion_invocations"
   ]
  },
  {
   "cell_type": "code",
   "execution_count": 135,
   "metadata": {
    "execution": {
     "iopub.execute_input": "2022-08-06T15:52:20.300810Z",
     "iopub.status.busy": "2022-08-06T15:52:20.300473Z",
     "iopub.status.idle": "2022-08-06T15:52:20.302027Z",
     "shell.execute_reply": "2022-08-06T15:52:20.302222Z"
    },
    "slideshow": {
     "slide_type": "skip"
    },
    "solution2": "hidden"
   },
   "outputs": [
    {
     "data": {
      "text/plain": [
       "86"
      ]
     },
     "execution_count": 135,
     "metadata": {},
     "output_type": "execute_result"
    }
   ],
   "source": [
    "f._expansion_invocations_cached"
   ]
  },
  {
   "cell_type": "code",
   "execution_count": 136,
   "metadata": {
    "execution": {
     "iopub.execute_input": "2022-08-06T15:52:20.304495Z",
     "iopub.status.busy": "2022-08-06T15:52:20.304123Z",
     "iopub.status.idle": "2022-08-06T15:52:20.305440Z",
     "shell.execute_reply": "2022-08-06T15:52:20.305695Z"
    },
    "slideshow": {
     "slide_type": "skip"
    },
    "solution2": "hidden"
   },
   "outputs": [
    {
     "name": "stdout",
     "output_type": "stream",
     "text": [
      "78.18% of invocations can be cached\n"
     ]
    }
   ],
   "source": [
    "print(\"%.2f%% of invocations can be cached\" %\n",
    "      (f._expansion_invocations_cached * 100 / f._expansion_invocations))"
   ]
  },
  {
   "cell_type": "markdown",
   "metadata": {
    "slideshow": {
     "slide_type": "subslide"
    },
    "solution2": "hidden",
    "solution2_first": true
   },
   "source": [
    "### Exercise 2: Grammar Pre-Compilation\n",
    "\n",
    "Some methods such as `symbol_cost()` or `expansion_cost()` return a value that is dependent on the grammar only.  Set up a class `EvenFasterGrammarFuzzer()` that pre-computes these values once upon initialization, such that later invocations of `symbol_cost()` or `expansion_cost()` need only look up these values."
   ]
  },
  {
   "cell_type": "markdown",
   "metadata": {
    "slideshow": {
     "slide_type": "skip"
    },
    "solution2": "hidden"
   },
   "source": [
    "**Solution.** Here's a possible solution, using a hack to substitute the `symbol_cost()` and `expansion_cost()` functions once the pre-computed values are set up."
   ]
  },
  {
   "cell_type": "code",
   "execution_count": 137,
   "metadata": {
    "execution": {
     "iopub.execute_input": "2022-08-06T15:52:20.309523Z",
     "iopub.status.busy": "2022-08-06T15:52:20.309126Z",
     "iopub.status.idle": "2022-08-06T15:52:20.310398Z",
     "shell.execute_reply": "2022-08-06T15:52:20.310577Z"
    },
    "slideshow": {
     "slide_type": "skip"
    },
    "solution2": "hidden"
   },
   "outputs": [],
   "source": [
    "class EvenFasterGrammarFuzzer(GrammarFuzzer):\n",
    "    \"\"\"Variant of `GrammarFuzzer` with precomputed costs\"\"\"\n",
    "\n",
    "    def __init__(self, *args, **kwargs) -> None:\n",
    "        super().__init__(*args, **kwargs)\n",
    "        self._symbol_costs: Dict[str, Union[int, float]] = {}\n",
    "        self._expansion_costs: Dict[Expansion, Union[int, float]] = {}\n",
    "        self.precompute_costs()\n",
    "\n",
    "    def new_symbol_cost(self, symbol: str,\n",
    "                        seen: Set[str] = set()) -> Union[int, float]:\n",
    "        return self._symbol_costs[symbol]\n",
    "\n",
    "    def new_expansion_cost(self, expansion: Expansion,\n",
    "                           seen: Set[str] = set()) -> Union[int, float]:\n",
    "        return self._expansion_costs[expansion]\n",
    "\n",
    "    def precompute_costs(self) -> None:\n",
    "        for symbol in self.grammar:\n",
    "            self._symbol_costs[symbol] = super().symbol_cost(symbol)\n",
    "            for expansion in self.grammar[symbol]:\n",
    "                self._expansion_costs[expansion] = \\\n",
    "                    super().expansion_cost(expansion)\n",
    "\n",
    "        # Make sure we now call the caching methods\n",
    "        self.symbol_cost = self.new_symbol_cost  # type: ignore\n",
    "        self.expansion_cost = self.new_expansion_cost  # type: ignore"
   ]
  },
  {
   "cell_type": "code",
   "execution_count": 138,
   "metadata": {
    "execution": {
     "iopub.execute_input": "2022-08-06T15:52:20.313360Z",
     "iopub.status.busy": "2022-08-06T15:52:20.313028Z",
     "iopub.status.idle": "2022-08-06T15:52:20.314425Z",
     "shell.execute_reply": "2022-08-06T15:52:20.314772Z"
    },
    "slideshow": {
     "slide_type": "skip"
    },
    "solution2": "hidden"
   },
   "outputs": [],
   "source": [
    "f = EvenFasterGrammarFuzzer(EXPR_GRAMMAR)"
   ]
  },
  {
   "cell_type": "markdown",
   "metadata": {
    "slideshow": {
     "slide_type": "skip"
    },
    "solution2": "hidden"
   },
   "source": [
    "Here are the individual costs:"
   ]
  },
  {
   "cell_type": "code",
   "execution_count": 139,
   "metadata": {
    "execution": {
     "iopub.execute_input": "2022-08-06T15:52:20.316984Z",
     "iopub.status.busy": "2022-08-06T15:52:20.316642Z",
     "iopub.status.idle": "2022-08-06T15:52:20.318183Z",
     "shell.execute_reply": "2022-08-06T15:52:20.318404Z"
    },
    "slideshow": {
     "slide_type": "skip"
    },
    "solution2": "hidden"
   },
   "outputs": [
    {
     "data": {
      "text/plain": [
       "{'<start>': 6,\n",
       " '<expr>': 5,\n",
       " '<term>': 4,\n",
       " '<factor>': 3,\n",
       " '<integer>': 2,\n",
       " '<digit>': 1}"
      ]
     },
     "execution_count": 139,
     "metadata": {},
     "output_type": "execute_result"
    }
   ],
   "source": [
    "f._symbol_costs"
   ]
  },
  {
   "cell_type": "code",
   "execution_count": 140,
   "metadata": {
    "execution": {
     "iopub.execute_input": "2022-08-06T15:52:20.320468Z",
     "iopub.status.busy": "2022-08-06T15:52:20.320099Z",
     "iopub.status.idle": "2022-08-06T15:52:20.322064Z",
     "shell.execute_reply": "2022-08-06T15:52:20.322308Z"
    },
    "slideshow": {
     "slide_type": "skip"
    },
    "solution2": "hidden"
   },
   "outputs": [
    {
     "data": {
      "text/plain": [
       "{'<expr>': 6,\n",
       " '<term> + <expr>': 10,\n",
       " '<term> - <expr>': 10,\n",
       " '<term>': 5,\n",
       " '<factor> * <term>': 8,\n",
       " '<factor> / <term>': 8,\n",
       " '<factor>': 4,\n",
       " '+<factor>': 4,\n",
       " '-<factor>': 4,\n",
       " '(<expr>)': 6,\n",
       " '<integer>.<integer>': 5,\n",
       " '<integer>': 3,\n",
       " '<digit><integer>': 4,\n",
       " '<digit>': 2,\n",
       " '0': 1,\n",
       " '1': 1,\n",
       " '2': 1,\n",
       " '3': 1,\n",
       " '4': 1,\n",
       " '5': 1,\n",
       " '6': 1,\n",
       " '7': 1,\n",
       " '8': 1,\n",
       " '9': 1}"
      ]
     },
     "execution_count": 140,
     "metadata": {},
     "output_type": "execute_result"
    }
   ],
   "source": [
    "f._expansion_costs"
   ]
  },
  {
   "cell_type": "code",
   "execution_count": 141,
   "metadata": {
    "execution": {
     "iopub.execute_input": "2022-08-06T15:52:20.327171Z",
     "iopub.status.busy": "2022-08-06T15:52:20.326759Z",
     "iopub.status.idle": "2022-08-06T15:52:20.328206Z",
     "shell.execute_reply": "2022-08-06T15:52:20.328478Z"
    },
    "slideshow": {
     "slide_type": "skip"
    },
    "solution2": "hidden"
   },
   "outputs": [
    {
     "data": {
      "text/plain": [
       "'3.5 * 2 + 78.2 / -1.0 / 6 * 6'"
      ]
     },
     "execution_count": 141,
     "metadata": {},
     "output_type": "execute_result"
    }
   ],
   "source": [
    "f = EvenFasterGrammarFuzzer(EXPR_GRAMMAR)\n",
    "f.fuzz()"
   ]
  },
  {
   "cell_type": "markdown",
   "metadata": {
    "button": false,
    "new_sheet": false,
    "run_control": {
     "read_only": false
    },
    "slideshow": {
     "slide_type": "subslide"
    },
    "solution": "hidden",
    "solution2": "hidden",
    "solution2_first": true,
    "solution_first": true
   },
   "source": [
    "### Exercise 3: Maintaining Trees to be Expanded\n",
    "\n",
    "In `expand_tree_once()`, the algorithm traverses the tree again and again to find nonterminals that still can be extended.  Speed up the process by keeping a list of nonterminal symbols in the tree that still can be expanded."
   ]
  },
  {
   "cell_type": "markdown",
   "metadata": {
    "button": false,
    "new_sheet": false,
    "run_control": {
     "read_only": false
    },
    "slideshow": {
     "slide_type": "skip"
    },
    "solution": "hidden",
    "solution2": "hidden"
   },
   "source": [
    "**Solution.** Left as exercise for the reader."
   ]
  },
  {
   "cell_type": "markdown",
   "metadata": {
    "slideshow": {
     "slide_type": "subslide"
    }
   },
   "source": [
    "### Exercise 4: Alternate Random Expansions"
   ]
  },
  {
   "cell_type": "markdown",
   "metadata": {
    "slideshow": {
     "slide_type": "fragment"
    }
   },
   "source": [
    "We could define `expand_node_randomly()` such that it simply invokes `expand_node_by_cost(node, random.choice)`:"
   ]
  },
  {
   "cell_type": "code",
   "execution_count": 142,
   "metadata": {
    "execution": {
     "iopub.execute_input": "2022-08-06T15:52:20.331226Z",
     "iopub.status.busy": "2022-08-06T15:52:20.330933Z",
     "iopub.status.idle": "2022-08-06T15:52:20.332105Z",
     "shell.execute_reply": "2022-08-06T15:52:20.332418Z"
    },
    "slideshow": {
     "slide_type": "fragment"
    }
   },
   "outputs": [],
   "source": [
    "class ExerciseGrammarFuzzer(GrammarFuzzer):\n",
    "    def expand_node_randomly(self, node: DerivationTree) -> DerivationTree:\n",
    "        if self.log:\n",
    "            print(\"Expanding\", all_terminals(node), \"randomly by cost\")\n",
    "\n",
    "        return self.expand_node_by_cost(node, random.choice)"
   ]
  },
  {
   "cell_type": "markdown",
   "metadata": {
    "slideshow": {
     "slide_type": "fragment"
    },
    "solution2": "hidden",
    "solution2_first": true
   },
   "source": [
    "What is the difference between the original implementation and this alternative?"
   ]
  },
  {
   "cell_type": "markdown",
   "metadata": {
    "button": false,
    "new_sheet": false,
    "run_control": {
     "read_only": false
    },
    "slideshow": {
     "slide_type": "skip"
    },
    "solution": "hidden",
    "solution2": "hidden"
   },
   "source": [
    "**Solution.** The alternative in `ExerciseGrammarFuzzer` has another probability distribution.  In the original `GrammarFuzzer`, all expansions have the same likelihood of being expanded.  In `ExerciseGrammarFuzzer`, first, a cost is chosen (randomly); then, one of the expansions with this cost is chosen (again randomly).  This means that expansions whose cost is unique have a higher chance of being selected."
   ]
  }
 ],
 "metadata": {
  "ipub": {
   "bibliography": "fuzzingbook.bib",
   "toc": true
  },
  "kernelspec": {
   "display_name": "Python 3 (ipykernel)",
   "language": "python",
   "name": "python3"
  },
  "language_info": {
   "codemirror_mode": {
    "name": "ipython",
    "version": 3
   },
   "file_extension": ".py",
   "mimetype": "text/x-python",
   "name": "python",
   "nbconvert_exporter": "python",
   "pygments_lexer": "ipython3",
   "version": "3.10.2"
  },
  "toc": {
   "base_numbering": 1,
   "nav_menu": {},
   "number_sections": true,
   "sideBar": true,
   "skip_h1_title": true,
   "title_cell": "",
   "title_sidebar": "Contents",
   "toc_cell": false,
   "toc_position": {},
   "toc_section_display": true,
   "toc_window_display": true
  },
  "toc-autonumbering": false,
  "toc-showcode": false,
  "toc-showmarkdowntxt": false,
  "varInspector": {
   "cols": {
    "lenName": 16,
    "lenType": 16,
    "lenVar": 40
   },
   "kernels_config": {
    "python": {
     "delete_cmd_postfix": "",
     "delete_cmd_prefix": "del ",
     "library": "var_list.py",
     "varRefreshCmd": "print(var_dic_list())"
    },
    "r": {
     "delete_cmd_postfix": ") ",
     "delete_cmd_prefix": "rm(",
     "library": "var_list.r",
     "varRefreshCmd": "cat(var_dic_list()) "
    }
   },
   "types_to_exclude": [
    "module",
    "function",
    "builtin_function_or_method",
    "instance",
    "_Feature"
   ],
   "window_display": false
  }
 },
 "nbformat": 4,
 "nbformat_minor": 4
}