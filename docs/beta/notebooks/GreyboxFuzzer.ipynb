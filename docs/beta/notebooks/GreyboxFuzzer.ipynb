{
 "cells": [
  {
   "cell_type": "markdown",
   "metadata": {
    "button": false,
    "new_sheet": false,
    "run_control": {
     "read_only": false
    },
    "slideshow": {
     "slide_type": "slide"
    }
   },
   "source": [
    "# Greybox Fuzzing\n",
    "\n",
    "In the [previous chapter](MutationFuzzer.ipynb), we have introduced _mutation-based fuzzing_, a technique that generates fuzz inputs by applying small mutations to given inputs.  In this chapter, we show how to _guide_ these mutations towards specific goals such as coverage.  The algorithms in this book stem from the popular [American Fuzzy Lop](http://lcamtuf.coredump.cx/afl/) (AFL) fuzzer, in particular from its [AFLFast](https://github.com/mboehme/aflfast) and [AFLGo](https://github.com/aflgo/aflgo) flavors. We will explore the greybox fuzzing algorithm behind AFL and how we can exploit it to solve various problems for automated vulnerability detection. "
   ]
  },
  {
   "cell_type": "markdown",
   "metadata": {
    "button": false,
    "new_sheet": false,
    "run_control": {
     "read_only": false
    },
    "slideshow": {
     "slide_type": "subslide"
    }
   },
   "source": [
    "**Prerequisites**\n",
    "\n",
    "* Reading the introduction on [mutation-based fuzzing](MutationFuzzer.ipynb) is recommended."
   ]
  },
  {
   "cell_type": "code",
   "execution_count": 1,
   "metadata": {
    "execution": {
     "iopub.execute_input": "2021-10-14T16:43:00.166142Z",
     "iopub.status.busy": "2021-10-14T16:43:00.165532Z",
     "iopub.status.idle": "2021-10-14T16:43:00.265847Z",
     "shell.execute_reply": "2021-10-14T16:43:00.266251Z"
    },
    "slideshow": {
     "slide_type": "skip"
    }
   },
   "outputs": [],
   "source": [
    "import bookutils"
   ]
  },
  {
   "cell_type": "markdown",
   "metadata": {
    "button": false,
    "new_sheet": true,
    "run_control": {
     "read_only": false
    },
    "slideshow": {
     "slide_type": "slide"
    }
   },
   "source": [
    "## Ingredients for Greybox Fuzzing\n",
    "\n",
    "We start with discussing the most important parts we need for mutational testing and goal guidance."
   ]
  },
  {
   "cell_type": "markdown",
   "metadata": {
    "button": false,
    "new_sheet": true,
    "run_control": {
     "read_only": false
    },
    "slideshow": {
     "slide_type": "slide"
    }
   },
   "source": [
    "### Background\n",
    "\n",
    "AFL is a *mutation-based fuzzer*. Meaning, AFL generates new inputs by slightly modifying a seed input (i.e., mutation), or by joining the first half of one input with the second half of another (i.e., splicing)."
   ]
  },
  {
   "cell_type": "markdown",
   "metadata": {
    "button": false,
    "new_sheet": true,
    "run_control": {
     "read_only": false
    },
    "slideshow": {
     "slide_type": "slide"
    }
   },
   "source": [
    "AFL is also a *greybox fuzzer* (not blackbox nor whitebox). Meaning, AFL leverages coverage-feedback to learn how to reach deeper into the program. It is not entirely blackbox because AFL leverages at least *some* program analysis. It is not entirely whitebox either because AFL does not build on heavyweight program analysis or constraint solving. Instead, AFL uses lightweight program instrumentation to glean some information about the (branch) coverage of a generated input.\n",
    "If a generated input increases coverage, it is added to the seed corpus for further fuzzing."
   ]
  },
  {
   "cell_type": "markdown",
   "metadata": {
    "button": false,
    "new_sheet": true,
    "run_control": {
     "read_only": false
    },
    "slideshow": {
     "slide_type": "slide"
    }
   },
   "source": [
    "To instrument a program, AFL injects a piece of code right after every conditional jump instruction. When executed, this so-called trampoline assigns the exercised branch a unique identifier and increments a counter that is associated with this branch. For efficiency, only a coarse branch hit count is maintained. In other words, for each input the fuzzer knows which branches and roughly how often they are exercised. \n",
    "The instrumentation is usually done at compile-time, i.e., when the program source code is compiled to an executable binary. However, it is possible to run AFL on uninstrumented binaries using tools such as a virtual machine (e.g., [QEMU](https://github.com/mirrorer/afl/blob/master/qemu_mode)) or a dynamic instrumentation tool (e.g., [Intel PinTool](https://github.com/vanhauser-thc/afl-pin)). For Python programs, we can collect coverage information without any instrumentation (see chapter on [collecting coverage](Coverage.ipynb#Coverage-of-Basic-Fuzzing))."
   ]
  },
  {
   "cell_type": "markdown",
   "metadata": {
    "button": false,
    "new_sheet": true,
    "run_control": {
     "read_only": false
    },
    "slideshow": {
     "slide_type": "slide"
    }
   },
   "source": [
    "### Mutator and Seed\n",
    "\n",
    "We introduce specific classes for mutating a seed."
   ]
  },
  {
   "cell_type": "code",
   "execution_count": 2,
   "metadata": {
    "execution": {
     "iopub.execute_input": "2021-10-14T16:43:00.270599Z",
     "iopub.status.busy": "2021-10-14T16:43:00.270080Z",
     "iopub.status.idle": "2021-10-14T16:43:01.357480Z",
     "shell.execute_reply": "2021-10-14T16:43:01.357870Z"
    },
    "slideshow": {
     "slide_type": "skip"
    }
   },
   "outputs": [],
   "source": [
    "import random\n",
    "from Coverage import Coverage, population_coverage"
   ]
  },
  {
   "cell_type": "markdown",
   "metadata": {
    "slideshow": {
     "slide_type": "fragment"
    }
   },
   "source": [
    "First, we'll introduce the `Mutator` class. Given a seed input `inp`, the mutator returns a slightly modified version of `inp`.  In the [chapter on greybox grammar fuzzing](GreyboxGrammarFuzzer.ipynb), we extend this class to consider the input grammar for smart greybox fuzzing."
   ]
  },
  {
   "cell_type": "code",
   "execution_count": 3,
   "metadata": {
    "execution": {
     "iopub.execute_input": "2021-10-14T16:43:01.362023Z",
     "iopub.status.busy": "2021-10-14T16:43:01.361414Z",
     "iopub.status.idle": "2021-10-14T16:43:01.363230Z",
     "shell.execute_reply": "2021-10-14T16:43:01.363613Z"
    },
    "slideshow": {
     "slide_type": "fragment"
    }
   },
   "outputs": [],
   "source": [
    "class Mutator(object):\n",
    "    def __init__(self):\n",
    "        self.mutators = [\n",
    "            self.delete_random_character,\n",
    "            self.insert_random_character,\n",
    "            self.flip_random_character\n",
    "        ]"
   ]
  },
  {
   "cell_type": "markdown",
   "metadata": {
    "slideshow": {
     "slide_type": "subslide"
    }
   },
   "source": [
    "For insertion, we add a random character in a random position."
   ]
  },
  {
   "cell_type": "code",
   "execution_count": 4,
   "metadata": {
    "execution": {
     "iopub.execute_input": "2021-10-14T16:43:01.368301Z",
     "iopub.status.busy": "2021-10-14T16:43:01.367410Z",
     "iopub.status.idle": "2021-10-14T16:43:01.370288Z",
     "shell.execute_reply": "2021-10-14T16:43:01.369499Z"
    },
    "slideshow": {
     "slide_type": "fragment"
    }
   },
   "outputs": [],
   "source": [
    "class Mutator(Mutator):\n",
    "    def insert_random_character(self,s):\n",
    "        \"\"\"Returns s with a random character inserted\"\"\"\n",
    "        pos = random.randint(0, len(s))\n",
    "        random_character = chr(random.randrange(32, 127))\n",
    "        return s[:pos] + random_character + s[pos:]"
   ]
  },
  {
   "cell_type": "markdown",
   "metadata": {
    "slideshow": {
     "slide_type": "fragment"
    }
   },
   "source": [
    "For deletion, if the string is non-empty choose a random position and delete the character. Otherwise, use the insertion-operation."
   ]
  },
  {
   "cell_type": "code",
   "execution_count": 5,
   "metadata": {
    "execution": {
     "iopub.execute_input": "2021-10-14T16:43:01.374488Z",
     "iopub.status.busy": "2021-10-14T16:43:01.373954Z",
     "iopub.status.idle": "2021-10-14T16:43:01.375859Z",
     "shell.execute_reply": "2021-10-14T16:43:01.376233Z"
    },
    "slideshow": {
     "slide_type": "subslide"
    }
   },
   "outputs": [],
   "source": [
    "class Mutator(Mutator):\n",
    "    def delete_random_character(self,s):\n",
    "        \"\"\"Returns s with a random character deleted\"\"\"\n",
    "        if s == \"\":\n",
    "            return self.insert_random_character(s)\n",
    "\n",
    "        pos = random.randint(0, len(s) - 1)\n",
    "        return s[:pos] + s[pos + 1:]"
   ]
  },
  {
   "cell_type": "markdown",
   "metadata": {
    "slideshow": {
     "slide_type": "fragment"
    }
   },
   "source": [
    "For substitution, if the string is non-empty choose a random position and flip a random bit in the character. Otherwise, use the insertion-operation."
   ]
  },
  {
   "cell_type": "code",
   "execution_count": 6,
   "metadata": {
    "execution": {
     "iopub.execute_input": "2021-10-14T16:43:01.380666Z",
     "iopub.status.busy": "2021-10-14T16:43:01.380147Z",
     "iopub.status.idle": "2021-10-14T16:43:01.381874Z",
     "shell.execute_reply": "2021-10-14T16:43:01.382251Z"
    },
    "slideshow": {
     "slide_type": "subslide"
    }
   },
   "outputs": [],
   "source": [
    "class Mutator(Mutator):\n",
    "    def flip_random_character(self,s):\n",
    "        \"\"\"Returns s with a random bit flipped in a random position\"\"\"\n",
    "        if s == \"\":\n",
    "            return self.insert_random_character(s)\n",
    "\n",
    "        pos = random.randint(0, len(s) - 1)\n",
    "        c = s[pos]\n",
    "        bit = 1 << random.randint(0, 6)\n",
    "        new_c = chr(ord(c) ^ bit)\n",
    "        return s[:pos] + new_c + s[pos + 1:]"
   ]
  },
  {
   "cell_type": "markdown",
   "metadata": {
    "slideshow": {
     "slide_type": "fragment"
    }
   },
   "source": [
    "The main method is `mutate` which chooses a random mutation operator from the list of operators."
   ]
  },
  {
   "cell_type": "code",
   "execution_count": 7,
   "metadata": {
    "execution": {
     "iopub.execute_input": "2021-10-14T16:43:01.386053Z",
     "iopub.status.busy": "2021-10-14T16:43:01.385514Z",
     "iopub.status.idle": "2021-10-14T16:43:01.387424Z",
     "shell.execute_reply": "2021-10-14T16:43:01.387799Z"
    },
    "slideshow": {
     "slide_type": "subslide"
    }
   },
   "outputs": [],
   "source": [
    "class Mutator(Mutator):    \n",
    "    def mutate(self, inp):\n",
    "        \"\"\"Return s with a random mutation applied\"\"\"\n",
    "        mutator = random.choice(self.mutators)\n",
    "        return mutator(inp)"
   ]
  },
  {
   "cell_type": "markdown",
   "metadata": {
    "slideshow": {
     "slide_type": "fragment"
    }
   },
   "source": [
    "Let's try the mutator. You can actually interact with such a \"cell\" and try other inputs by loading this chapter as Jupyter notebook. After opening, run all cells in the notebook using \"Kernel -> Restart & Run All\"."
   ]
  },
  {
   "cell_type": "code",
   "execution_count": 8,
   "metadata": {
    "execution": {
     "iopub.execute_input": "2021-10-14T16:43:01.392649Z",
     "iopub.status.busy": "2021-10-14T16:43:01.392113Z",
     "iopub.status.idle": "2021-10-14T16:43:01.397031Z",
     "shell.execute_reply": "2021-10-14T16:43:01.397407Z"
    },
    "slideshow": {
     "slide_type": "fragment"
    }
   },
   "outputs": [
    {
     "data": {
      "text/plain": [
       "'cood'"
      ]
     },
     "execution_count": 8,
     "metadata": {},
     "output_type": "execute_result"
    }
   ],
   "source": [
    "Mutator().mutate(\"good\")"
   ]
  },
  {
   "cell_type": "markdown",
   "metadata": {
    "slideshow": {
     "slide_type": "subslide"
    }
   },
   "source": [
    "### Power Schedules\n",
    "\n",
    "Now we introduce a new concept; the *power schedule*. A power schedule distributes the precious fuzzing time among the seeds in the population. Our objective is to maximize the time spent fuzzing those (most progressive) seeds which lead to higher coverage increase in shorter time.\n",
    "\n",
    "We call the likelihood with which a seed is chosen from the population as the seed's *energy*. Throughout a fuzzing campaign, we would like to prioritize seeds that are more promising. Simply said, we do not want to waste energy fuzzing non-progressive seeds. We call the procedure that decides a seed's energy as the fuzzer's *power schedule*. For instance, AFL's schedule assigns more energy to seeds that are shorter, that execute faster, and yield coverage increases more often.\n",
    "\n",
    "First, there is some information that we need to attach to each seed in addition to the seed's data. Hence, we define the following `Seed` class."
   ]
  },
  {
   "cell_type": "code",
   "execution_count": 9,
   "metadata": {
    "execution": {
     "iopub.execute_input": "2021-10-14T16:43:01.401167Z",
     "iopub.status.busy": "2021-10-14T16:43:01.400647Z",
     "iopub.status.idle": "2021-10-14T16:43:01.402304Z",
     "shell.execute_reply": "2021-10-14T16:43:01.402737Z"
    },
    "slideshow": {
     "slide_type": "subslide"
    }
   },
   "outputs": [],
   "source": [
    "class Seed(object):    \n",
    "    def __init__(self, data):\n",
    "        \"\"\"Set seed data\"\"\"\n",
    "        self.data = data\n",
    "        \n",
    "    def __str__(self):\n",
    "        \"\"\"Returns data as string representation of the seed\"\"\"\n",
    "        return self.data\n",
    "    __repr__ = __str__"
   ]
  },
  {
   "cell_type": "markdown",
   "metadata": {
    "slideshow": {
     "slide_type": "subslide"
    }
   },
   "source": [
    "The power schedule that is implemented below assigns each seed the same energy. Once a seed is in the population, it will be fuzzed as often as any other seed in the population.\n",
    "\n",
    "In Python, we can squeeze long for-loops into much smaller statements.\n",
    "* `lambda x: ...` returns a function that takes `x` as input. Lambda allows for quick definitions unnamed functions.\n",
    "* `map(f, l)` returns a list where the function `f` is applied to each element in list `l`.\n",
    "* `np.random.choice(l,p)` returns element `l[i]` with probability in `p[i]`."
   ]
  },
  {
   "cell_type": "code",
   "execution_count": 10,
   "metadata": {
    "execution": {
     "iopub.execute_input": "2021-10-14T16:43:01.405737Z",
     "iopub.status.busy": "2021-10-14T16:43:01.405224Z",
     "iopub.status.idle": "2021-10-14T16:43:01.406818Z",
     "shell.execute_reply": "2021-10-14T16:43:01.407343Z"
    },
    "slideshow": {
     "slide_type": "skip"
    }
   },
   "outputs": [],
   "source": [
    "import numpy as np"
   ]
  },
  {
   "cell_type": "code",
   "execution_count": 11,
   "metadata": {
    "execution": {
     "iopub.execute_input": "2021-10-14T16:43:01.412388Z",
     "iopub.status.busy": "2021-10-14T16:43:01.411857Z",
     "iopub.status.idle": "2021-10-14T16:43:01.413495Z",
     "shell.execute_reply": "2021-10-14T16:43:01.413927Z"
    },
    "slideshow": {
     "slide_type": "subslide"
    }
   },
   "outputs": [],
   "source": [
    "class PowerSchedule(object):    \n",
    "    def assignEnergy(self, population):\n",
    "        \"\"\"Assigns each seed the same energy\"\"\"\n",
    "        for seed in population:\n",
    "            seed.energy = 1\n",
    "\n",
    "    def normalizedEnergy(self, population):\n",
    "        \"\"\"Normalize energy\"\"\"\n",
    "        energy = list(map(lambda seed: seed.energy, population))\n",
    "        sum_energy = sum(energy)  # Add up all values in energy\n",
    "        norm_energy = list(map(lambda nrg: nrg/sum_energy, energy))\n",
    "        return norm_energy\n",
    "    \n",
    "    def choose(self, population):\n",
    "        \"\"\"Choose weighted by normalized energy.\"\"\"\n",
    "        import numpy as np\n",
    "\n",
    "        self.assignEnergy(population)\n",
    "        norm_energy = self.normalizedEnergy(population)\n",
    "        seed = np.random.choice(population, p=norm_energy)\n",
    "        return seed"
   ]
  },
  {
   "cell_type": "markdown",
   "metadata": {
    "slideshow": {
     "slide_type": "subslide"
    }
   },
   "source": [
    "Let's see whether this power schedule chooses seeds uniformly at random. We ask the schedule 10k times to choose a seed from the population of three seeds (A, B, C) and keep track of the number of times we have seen each seed. We should see each seed about 3.3k times."
   ]
  },
  {
   "cell_type": "code",
   "execution_count": 12,
   "metadata": {
    "execution": {
     "iopub.execute_input": "2021-10-14T16:43:01.418788Z",
     "iopub.status.busy": "2021-10-14T16:43:01.418259Z",
     "iopub.status.idle": "2021-10-14T16:43:01.706993Z",
     "shell.execute_reply": "2021-10-14T16:43:01.707433Z"
    },
    "slideshow": {
     "slide_type": "subslide"
    }
   },
   "outputs": [
    {
     "data": {
      "text/plain": [
       "{'A': 3255, 'B': 3366, 'C': 3379}"
      ]
     },
     "execution_count": 12,
     "metadata": {},
     "output_type": "execute_result"
    }
   ],
   "source": [
    "population = [Seed(\"A\"), Seed(\"B\"), Seed(\"C\")]\n",
    "schedule = PowerSchedule()\n",
    "hits = {\n",
    "    \"A\" : 0,\n",
    "    \"B\" : 0,\n",
    "    \"C\" : 0\n",
    "}\n",
    "\n",
    "for i in range(10000):\n",
    "    seed = schedule.choose(population)\n",
    "    hits[seed.data] += 1\n",
    "\n",
    "hits"
   ]
  },
  {
   "cell_type": "markdown",
   "metadata": {
    "slideshow": {
     "slide_type": "fragment"
    }
   },
   "source": [
    "Looks good. Every seed has been chosen about a third of the time."
   ]
  },
  {
   "cell_type": "markdown",
   "metadata": {
    "slideshow": {
     "slide_type": "subslide"
    }
   },
   "source": [
    "### Runner and Sample Program\n",
    "We'll start with a small sample program of six lines. In order to collect coverage information during execution, we import the `FunctionCoverageRunner` class from the chapter on [mutation-based fuzzing](MutationFuzzer.ipynb#Guiding-by-Coverage). \n",
    "\n",
    "The `FunctionCoverageRunner` constructor takes a Python `function` to execute. The function `run` takes an input, passes it on to the Python `function`, and collects the coverage information for this execution. The function `coverage()` returns a list of tuples `(function name, line number)` for each statement that has been covered in the Python `function`."
   ]
  },
  {
   "cell_type": "code",
   "execution_count": 13,
   "metadata": {
    "execution": {
     "iopub.execute_input": "2021-10-14T16:43:01.711228Z",
     "iopub.status.busy": "2021-10-14T16:43:01.710702Z",
     "iopub.status.idle": "2021-10-14T16:43:01.899808Z",
     "shell.execute_reply": "2021-10-14T16:43:01.900261Z"
    },
    "slideshow": {
     "slide_type": "skip"
    }
   },
   "outputs": [],
   "source": [
    "from MutationFuzzer import FunctionCoverageRunner"
   ]
  },
  {
   "cell_type": "markdown",
   "metadata": {
    "slideshow": {
     "slide_type": "fragment"
    }
   },
   "source": [
    "The `crashme()` function raises an exception for the input \"bad!\". Let's see which statements are covered for the input \"good\"."
   ]
  },
  {
   "cell_type": "code",
   "execution_count": 14,
   "metadata": {
    "execution": {
     "iopub.execute_input": "2021-10-14T16:43:01.905444Z",
     "iopub.status.busy": "2021-10-14T16:43:01.904900Z",
     "iopub.status.idle": "2021-10-14T16:43:01.906803Z",
     "shell.execute_reply": "2021-10-14T16:43:01.907263Z"
    },
    "slideshow": {
     "slide_type": "subslide"
    }
   },
   "outputs": [],
   "source": [
    "def crashme (s):\n",
    "    if             len(s) > 0 and s[0] == 'b':\n",
    "        if         len(s) > 1 and s[1] == 'a':\n",
    "            if     len(s) > 2 and s[2] == 'd':\n",
    "                if len(s) > 3 and s[3] == '!':\n",
    "                    raise Exception()"
   ]
  },
  {
   "cell_type": "code",
   "execution_count": 15,
   "metadata": {
    "execution": {
     "iopub.execute_input": "2021-10-14T16:43:01.912904Z",
     "iopub.status.busy": "2021-10-14T16:43:01.912229Z",
     "iopub.status.idle": "2021-10-14T16:43:01.914996Z",
     "shell.execute_reply": "2021-10-14T16:43:01.915400Z"
    },
    "slideshow": {
     "slide_type": "fragment"
    }
   },
   "outputs": [
    {
     "data": {
      "text/plain": [
       "[('crashme', 2), ('run_function', 112), ('__exit__', 79)]"
      ]
     },
     "execution_count": 15,
     "metadata": {},
     "output_type": "execute_result"
    }
   ],
   "source": [
    "crashme_runner = FunctionCoverageRunner(crashme)\n",
    "crashme_runner.run(\"good\")\n",
    "list(crashme_runner.coverage())"
   ]
  },
  {
   "cell_type": "markdown",
   "metadata": {
    "slideshow": {
     "slide_type": "fragment"
    }
   },
   "source": [
    "In `crashme`, the input \"good\" only covers the if-statement in line 2. The branch condition `len(s) > 0 and s[0] == 'b'` evaluates to False."
   ]
  },
  {
   "cell_type": "markdown",
   "metadata": {
    "slideshow": {
     "slide_type": "slide"
    }
   },
   "source": [
    "## Blackbox, Greybox, and Boosted Greybox Fuzzing\n",
    "\n",
    "### Blackbox Mutation-based Fuzzer\n",
    "Let's integrate both the mutator and power schedule into a fuzzer. We'll start with a blackbox fuzzer -- which does *not* leverage any coverage information. \n",
    "\n",
    "Our `MutationFuzzer` class inherits from the [Fuzzer](Fuzzer.ipynb#Fuzzer-Classes) class. For now, we only need to know the functions `fuzz` which returns a generated input and `runs` which executes `fuzz` a specified number of times. For our `MutationFuzzer` class, we override the function `fuzz`."
   ]
  },
  {
   "cell_type": "code",
   "execution_count": 16,
   "metadata": {
    "execution": {
     "iopub.execute_input": "2021-10-14T16:43:01.918975Z",
     "iopub.status.busy": "2021-10-14T16:43:01.918415Z",
     "iopub.status.idle": "2021-10-14T16:43:01.920249Z",
     "shell.execute_reply": "2021-10-14T16:43:01.920625Z"
    },
    "slideshow": {
     "slide_type": "skip"
    }
   },
   "outputs": [],
   "source": [
    "from Fuzzer import Fuzzer"
   ]
  },
  {
   "cell_type": "markdown",
   "metadata": {
    "slideshow": {
     "slide_type": "subslide"
    }
   },
   "source": [
    "The `MutationFuzzer` is constructed with a set of initial seeds, a mutator, and a power schedule. Throughout the fuzzing campaign, it maintains a seed corpus called `population`. The function `fuzz` returns either an unfuzzed seed from the initial seeds, or the result of fuzzing a seed in the population. The function `create_candidate` handles the latter. It randomly chooses an input from the population and applies a number of mutations."
   ]
  },
  {
   "cell_type": "code",
   "execution_count": 17,
   "metadata": {
    "execution": {
     "iopub.execute_input": "2021-10-14T16:43:01.927540Z",
     "iopub.status.busy": "2021-10-14T16:43:01.926971Z",
     "iopub.status.idle": "2021-10-14T16:43:01.928617Z",
     "shell.execute_reply": "2021-10-14T16:43:01.928990Z"
    },
    "slideshow": {
     "slide_type": "subslide"
    }
   },
   "outputs": [],
   "source": [
    "class MutationFuzzer(Fuzzer):\n",
    "    \n",
    "    def __init__(self, seeds, mutator, schedule):\n",
    "        self.seeds = seeds\n",
    "        self.mutator = mutator\n",
    "        self.schedule = schedule\n",
    "        self.inputs = []\n",
    "        self.reset()\n",
    "\n",
    "    def reset(self):\n",
    "        \"\"\"Reset the initial population and seed index\"\"\"\n",
    "        self.population = list(map(lambda x: Seed(x), self.seeds))\n",
    "        self.seed_index = 0\n",
    "\n",
    "    def create_candidate(self):\n",
    "        \"\"\"Returns an input generated by fuzzing a seed in the population\"\"\"\n",
    "        seed = self.schedule.choose(self.population)\n",
    "\n",
    "        # Stacking: Apply multiple mutations to generate the candidate\n",
    "        candidate = seed.data\n",
    "        trials = min(len(candidate), 1 << random.randint(1,5))\n",
    "        for i in range(trials):\n",
    "            candidate = self.mutator.mutate(candidate)\n",
    "        return candidate\n",
    "\n",
    "    def fuzz(self):\n",
    "        \"\"\"Returns first each seed once and then generates new inputs\"\"\"\n",
    "        if self.seed_index < len(self.seeds):\n",
    "            # Still seeding\n",
    "            self.inp = self.seeds[self.seed_index]\n",
    "            self.seed_index += 1\n",
    "        else:\n",
    "            # Mutating\n",
    "            self.inp = self.create_candidate()\n",
    "            \n",
    "        self.inputs.append(self.inp)\n",
    "        return self.inp\n",
    "    "
   ]
  },
  {
   "cell_type": "markdown",
   "metadata": {
    "slideshow": {
     "slide_type": "subslide"
    }
   },
   "source": [
    "Okay, let's take the mutation fuzzer for a spin. Given a single seed, we ask it to generate three inputs."
   ]
  },
  {
   "cell_type": "code",
   "execution_count": 18,
   "metadata": {
    "execution": {
     "iopub.execute_input": "2021-10-14T16:43:01.933275Z",
     "iopub.status.busy": "2021-10-14T16:43:01.932673Z",
     "iopub.status.idle": "2021-10-14T16:43:01.935161Z",
     "shell.execute_reply": "2021-10-14T16:43:01.935539Z"
    },
    "slideshow": {
     "slide_type": "fragment"
    }
   },
   "outputs": [
    {
     "name": "stdout",
     "output_type": "stream",
     "text": [
      "good\n",
      "ooD\n",
      "cW(ond\n"
     ]
    }
   ],
   "source": [
    "seed_input = \"good\"\n",
    "mutation_fuzzer = MutationFuzzer([seed_input], Mutator(), PowerSchedule())\n",
    "print(mutation_fuzzer.fuzz())\n",
    "print(mutation_fuzzer.fuzz())\n",
    "print(mutation_fuzzer.fuzz())"
   ]
  },
  {
   "cell_type": "markdown",
   "metadata": {
    "slideshow": {
     "slide_type": "subslide"
    }
   },
   "source": [
    "Let's see how many statements the mutation-based blackbox fuzzer covers in a campaign with n=30k inputs.\n",
    "\n",
    "The fuzzer function `runs(crashme_runner, trials=n)` generates `n` inputs and executes them on the `crashme` function via the `crashme_runner`. As stated earlier, the `crashme_runner` also collects coverage information."
   ]
  },
  {
   "cell_type": "code",
   "execution_count": 19,
   "metadata": {
    "execution": {
     "iopub.execute_input": "2021-10-14T16:43:01.938881Z",
     "iopub.status.busy": "2021-10-14T16:43:01.938233Z",
     "iopub.status.idle": "2021-10-14T16:43:01.940367Z",
     "shell.execute_reply": "2021-10-14T16:43:01.940777Z"
    },
    "slideshow": {
     "slide_type": "skip"
    }
   },
   "outputs": [],
   "source": [
    "import time\n",
    "n = 30000"
   ]
  },
  {
   "cell_type": "code",
   "execution_count": 20,
   "metadata": {
    "execution": {
     "iopub.execute_input": "2021-10-14T16:43:01.948654Z",
     "iopub.status.busy": "2021-10-14T16:43:01.944825Z",
     "iopub.status.idle": "2021-10-14T16:43:03.696503Z",
     "shell.execute_reply": "2021-10-14T16:43:03.697140Z"
    },
    "slideshow": {
     "slide_type": "fragment"
    }
   },
   "outputs": [
    {
     "data": {
      "text/plain": [
       "'It took the blackbox mutation-based fuzzer 1.75 seconds to generate and execute 30000 inputs.'"
      ]
     },
     "execution_count": 20,
     "metadata": {},
     "output_type": "execute_result"
    }
   ],
   "source": [
    "blackbox_fuzzer = MutationFuzzer([seed_input], Mutator(), PowerSchedule())\n",
    "\n",
    "start = time.time()\n",
    "blackbox_fuzzer.runs(FunctionCoverageRunner(crashme), trials=n)\n",
    "end = time.time()\n",
    "\n",
    "\"It took the blackbox mutation-based fuzzer %0.2f seconds to generate and execute %d inputs.\" % (end - start, n)"
   ]
  },
  {
   "cell_type": "markdown",
   "metadata": {
    "slideshow": {
     "slide_type": "subslide"
    }
   },
   "source": [
    "In order to measure coverage, we import the [population_coverage](Coverage.ipynb#Coverage-of-Basic-Fuzzing) function. It takes a set of inputs and a Python function, executes the inputs on that function and collects coverage information. Specifically, it returns a tuple `(all_coverage, cumulative_coverage)` where `all_coverage` is the set of statements covered by all inputs, and `cumulative_coverage` is the number of statements covered as the number of executed inputs increases. We are just interested in the latter to plot coverage over time."
   ]
  },
  {
   "cell_type": "code",
   "execution_count": 21,
   "metadata": {
    "execution": {
     "iopub.execute_input": "2021-10-14T16:43:03.700939Z",
     "iopub.status.busy": "2021-10-14T16:43:03.700191Z",
     "iopub.status.idle": "2021-10-14T16:43:03.702420Z",
     "shell.execute_reply": "2021-10-14T16:43:03.702800Z"
    },
    "slideshow": {
     "slide_type": "skip"
    }
   },
   "outputs": [],
   "source": [
    "from Coverage import population_coverage"
   ]
  },
  {
   "cell_type": "markdown",
   "metadata": {
    "slideshow": {
     "slide_type": "fragment"
    }
   },
   "source": [
    "We extract the generated inputs from the blackbox fuzzer and measure coverage as the number of inputs increases."
   ]
  },
  {
   "cell_type": "code",
   "execution_count": 22,
   "metadata": {
    "execution": {
     "iopub.execute_input": "2021-10-14T16:43:03.759977Z",
     "iopub.status.busy": "2021-10-14T16:43:03.717250Z",
     "iopub.status.idle": "2021-10-14T16:43:03.833869Z",
     "shell.execute_reply": "2021-10-14T16:43:03.834246Z"
    },
    "slideshow": {
     "slide_type": "fragment"
    }
   },
   "outputs": [
    {
     "data": {
      "text/plain": [
       "'The blackbox mutation-based fuzzer achieved a maximum coverage of 3 statements.'"
      ]
     },
     "execution_count": 22,
     "metadata": {},
     "output_type": "execute_result"
    }
   ],
   "source": [
    "_, blackbox_coverage = population_coverage(blackbox_fuzzer.inputs, crashme)\n",
    "bb_max_coverage = max(blackbox_coverage)\n",
    "\n",
    "\"The blackbox mutation-based fuzzer achieved a maximum coverage of %d statements.\" % bb_max_coverage"
   ]
  },
  {
   "cell_type": "markdown",
   "metadata": {
    "slideshow": {
     "slide_type": "subslide"
    }
   },
   "source": [
    "The following generated inputs increased the coverage for our `crashme` [example](#Runner-and-Sample-Program)."
   ]
  },
  {
   "cell_type": "code",
   "execution_count": 23,
   "metadata": {
    "execution": {
     "iopub.execute_input": "2021-10-14T16:43:03.841977Z",
     "iopub.status.busy": "2021-10-14T16:43:03.841394Z",
     "iopub.status.idle": "2021-10-14T16:43:03.844156Z",
     "shell.execute_reply": "2021-10-14T16:43:03.844530Z"
    },
    "slideshow": {
     "slide_type": "fragment"
    }
   },
   "outputs": [
    {
     "data": {
      "text/plain": [
       "['good', 'bgod']"
      ]
     },
     "execution_count": 23,
     "metadata": {},
     "output_type": "execute_result"
    }
   ],
   "source": [
    "[seed_input] + \\\n",
    "[blackbox_fuzzer.inputs[idx] for idx in range(len(blackbox_coverage)) \n",
    "    if blackbox_coverage[idx] > blackbox_coverage[idx - 1]\n",
    "]"
   ]
  },
  {
   "cell_type": "markdown",
   "metadata": {
    "slideshow": {
     "slide_type": "subslide"
    }
   },
   "source": [
    "***Summary***. This is how a blackbox mutation-based fuzzer works. We have integrated the *mutator* to generate inputs by fuzzing a provided set of initial seeds and the *power schedule* to decide which seed to choose next."
   ]
  },
  {
   "cell_type": "markdown",
   "metadata": {
    "slideshow": {
     "slide_type": "subslide"
    }
   },
   "source": [
    "### Greybox Mutation-based Fuzzer\n",
    "\n",
    "In contrast to a blackbox fuzzer, a greybox fuzzer like [AFL](http://lcamtuf.coredump.cx/afl/) _does_ leverage coverage information. Specifically, a greybox fuzzer adds to the seed population generated inputs which increase code coverage.\n",
    "\n",
    "The method `run()` is inherited from the [Fuzzer](Fuzzer.ipynb#Fuzzer-Classes) class. It is called to generate and execute exactly one input. We override this function to add an input to the `population` that increases coverage. The greybox fuzzer attribute `coverages_seen` maintains the set of statements, that have previously been covered."
   ]
  },
  {
   "cell_type": "code",
   "execution_count": 24,
   "metadata": {
    "execution": {
     "iopub.execute_input": "2021-10-14T16:43:03.850061Z",
     "iopub.status.busy": "2021-10-14T16:43:03.849420Z",
     "iopub.status.idle": "2021-10-14T16:43:03.851359Z",
     "shell.execute_reply": "2021-10-14T16:43:03.851796Z"
    },
    "slideshow": {
     "slide_type": "subslide"
    }
   },
   "outputs": [],
   "source": [
    "class GreyboxFuzzer(MutationFuzzer):    \n",
    "    def reset(self):\n",
    "        \"\"\"Reset the initial population, seed index, coverage information\"\"\"\n",
    "        super().reset()\n",
    "        self.coverages_seen = set()\n",
    "        self.population = [] # population is filled during greybox fuzzing\n",
    "           \n",
    "    def run(self, runner):\n",
    "        \"\"\"Run function(inp) while tracking coverage.\n",
    "           If we reach new coverage,\n",
    "           add inp to population and its coverage to population_coverage\n",
    "        \"\"\"\n",
    "        result, outcome = super().run(runner)\n",
    "        new_coverage = frozenset(runner.coverage())\n",
    "        if new_coverage not in self.coverages_seen:\n",
    "            # We have new coverage\n",
    "            seed = Seed(self.inp)\n",
    "            seed.coverage = runner.coverage()\n",
    "            self.coverages_seen.add(new_coverage)\n",
    "            self.population.append(seed)\n",
    "\n",
    "        return (result, outcome)"
   ]
  },
  {
   "cell_type": "markdown",
   "metadata": {
    "slideshow": {
     "slide_type": "subslide"
    }
   },
   "source": [
    "Let's take our greybox fuzzer for a spin."
   ]
  },
  {
   "cell_type": "code",
   "execution_count": 25,
   "metadata": {
    "execution": {
     "iopub.execute_input": "2021-10-14T16:43:03.867004Z",
     "iopub.status.busy": "2021-10-14T16:43:03.859148Z",
     "iopub.status.idle": "2021-10-14T16:43:05.742849Z",
     "shell.execute_reply": "2021-10-14T16:43:05.743339Z"
    },
    "slideshow": {
     "slide_type": "fragment"
    }
   },
   "outputs": [
    {
     "data": {
      "text/plain": [
       "'It took the greybox mutation-based fuzzer 1.88 seconds to generate and execute 30000 inputs.'"
      ]
     },
     "execution_count": 25,
     "metadata": {},
     "output_type": "execute_result"
    }
   ],
   "source": [
    "seed_input = \"good\"\n",
    "greybox_fuzzer = GreyboxFuzzer([seed_input], Mutator(), PowerSchedule())\n",
    "\n",
    "start = time.time()\n",
    "greybox_fuzzer.runs(FunctionCoverageRunner(crashme), trials=n)\n",
    "end = time.time()\n",
    "\n",
    "\"It took the greybox mutation-based fuzzer %0.2f seconds to generate and execute %d inputs.\" % (end - start, n)"
   ]
  },
  {
   "cell_type": "markdown",
   "metadata": {
    "slideshow": {
     "slide_type": "fragment"
    }
   },
   "source": [
    "Does the greybox fuzzer cover more statements after generating the same number of test inputs?"
   ]
  },
  {
   "cell_type": "code",
   "execution_count": 26,
   "metadata": {
    "execution": {
     "iopub.execute_input": "2021-10-14T16:43:05.820989Z",
     "iopub.status.busy": "2021-10-14T16:43:05.780230Z",
     "iopub.status.idle": "2021-10-14T16:43:05.879105Z",
     "shell.execute_reply": "2021-10-14T16:43:05.879486Z"
    },
    "slideshow": {
     "slide_type": "subslide"
    }
   },
   "outputs": [
    {
     "data": {
      "text/plain": [
       "'Our greybox mutation-based fuzzer covers 3 more statements'"
      ]
     },
     "execution_count": 26,
     "metadata": {},
     "output_type": "execute_result"
    }
   ],
   "source": [
    "_, greybox_coverage = population_coverage(greybox_fuzzer.inputs, crashme)\n",
    "gb_max_coverage = max(greybox_coverage)\n",
    "\n",
    "\"Our greybox mutation-based fuzzer covers %d more statements\" % (gb_max_coverage - bb_max_coverage)"
   ]
  },
  {
   "cell_type": "markdown",
   "metadata": {
    "slideshow": {
     "slide_type": "fragment"
    }
   },
   "source": [
    "Our seed population for our [example](#Runner-and-Sample-Program) now contains the following seeds."
   ]
  },
  {
   "cell_type": "code",
   "execution_count": 27,
   "metadata": {
    "execution": {
     "iopub.execute_input": "2021-10-14T16:43:05.883147Z",
     "iopub.status.busy": "2021-10-14T16:43:05.882619Z",
     "iopub.status.idle": "2021-10-14T16:43:05.884889Z",
     "shell.execute_reply": "2021-10-14T16:43:05.885325Z"
    },
    "slideshow": {
     "slide_type": "fragment"
    }
   },
   "outputs": [
    {
     "data": {
      "text/plain": [
       "[good, bood, baod, bad, bad!]"
      ]
     },
     "execution_count": 27,
     "metadata": {},
     "output_type": "execute_result"
    }
   ],
   "source": [
    "greybox_fuzzer.population"
   ]
  },
  {
   "cell_type": "markdown",
   "metadata": {
    "slideshow": {
     "slide_type": "fragment"
    }
   },
   "source": [
    "Coverage-feedback is indeed helpful. The new seeds are like bread crumbs or milestones that guide the fuzzer to progress more quickly into deeper code regions. Following is a simple plot showing the coverage achieved over time for both fuzzers on our simple [example](#Runner-and-Sample-Program)."
   ]
  },
  {
   "cell_type": "code",
   "execution_count": 28,
   "metadata": {
    "execution": {
     "iopub.execute_input": "2021-10-14T16:43:05.889524Z",
     "iopub.status.busy": "2021-10-14T16:43:05.888997Z",
     "iopub.status.idle": "2021-10-14T16:43:05.890550Z",
     "shell.execute_reply": "2021-10-14T16:43:05.890920Z"
    },
    "slideshow": {
     "slide_type": "fragment"
    }
   },
   "outputs": [],
   "source": [
    "%matplotlib inline"
   ]
  },
  {
   "cell_type": "code",
   "execution_count": 29,
   "metadata": {
    "execution": {
     "iopub.execute_input": "2021-10-14T16:43:05.893770Z",
     "iopub.status.busy": "2021-10-14T16:43:05.893264Z",
     "iopub.status.idle": "2021-10-14T16:43:05.894856Z",
     "shell.execute_reply": "2021-10-14T16:43:05.895225Z"
    },
    "slideshow": {
     "slide_type": "skip"
    }
   },
   "outputs": [],
   "source": [
    "import matplotlib.pyplot as plt"
   ]
  },
  {
   "cell_type": "code",
   "execution_count": 30,
   "metadata": {
    "execution": {
     "iopub.execute_input": "2021-10-14T16:43:05.909351Z",
     "iopub.status.busy": "2021-10-14T16:43:05.900808Z",
     "iopub.status.idle": "2021-10-14T16:43:06.099012Z",
     "shell.execute_reply": "2021-10-14T16:43:06.099394Z"
    },
    "slideshow": {
     "slide_type": "subslide"
    }
   },
   "outputs": [
    {
     "data": {
      "image/png": "[encoded data removed]",
      "text/plain": [
       "<Figure size 432x288 with 1 Axes>"
      ]
     },
     "metadata": {
      "needs_background": "light"
     },
     "output_type": "display_data"
    }
   ],
   "source": [
    "line_bb, = plt.plot(blackbox_coverage, label=\"Blackbox\")\n",
    "line_gb, = plt.plot(greybox_coverage, label=\"Greybox\")\n",
    "plt.legend(handles=[line_bb, line_gb])\n",
    "plt.title('Coverage over time')\n",
    "plt.xlabel('# of inputs')\n",
    "plt.ylabel('lines covered');"
   ]
  },
  {
   "cell_type": "markdown",
   "metadata": {
    "slideshow": {
     "slide_type": "subslide"
    }
   },
   "source": [
    "***Summary***. We have seen how a greybox fuzzer \"discovers\" interesting seeds that can lead to more progress. From the input `good`, our greybox fuzzer has slowly learned how to generate the input `bad!` which raises the exception. Now, how can we do that even faster?\n",
    "\n",
    "***Try it***. How much coverage would be achieved over time using a blackbox *generation-based* fuzzer? Try plotting the coverage for all three fuzzers. You can define the blackbox generation-based fuzzer as follows.\n",
    "```Python\n",
    "from Fuzzer import RandomFuzzer\n",
    "blackbox_gen_fuzzer = RandomFuzzer(min_length=4, max_length=4, char_start=32, char_range=96)\n",
    "```\n",
    "You can execute your own code by opening this chapter as Jupyter notebook.\n",
    "\n",
    "***Read***. This is the high-level view how AFL works, one of the most successful vulnerability detection tools. If you are interested in the technical details, have a look at: https://github.com/mirrorer/afl/blob/master/docs/technical_details.txt"
   ]
  },
  {
   "cell_type": "markdown",
   "metadata": {
    "slideshow": {
     "slide_type": "subslide"
    }
   },
   "source": [
    "### Boosted Greybox Fuzzer\n",
    "Our boosted greybox fuzzer assigns more energy to seeds that promise to achieve more coverage. We change the power schedule such that seeds that exercise \"unusual\" paths have more energy. With *unusual paths*, we mean paths that are not exercised very often by generated inputs.\n",
    "\n",
    "In order to identify which path is exercised by an input, we leverage the function `getPathID` from the section on [trace coverage](WhenIsEnough.ipynb#Trace-Coverage)."
   ]
  },
  {
   "cell_type": "code",
   "execution_count": 31,
   "metadata": {
    "execution": {
     "iopub.execute_input": "2021-10-14T16:43:06.103025Z",
     "iopub.status.busy": "2021-10-14T16:43:06.102499Z",
     "iopub.status.idle": "2021-10-14T16:43:06.105210Z",
     "shell.execute_reply": "2021-10-14T16:43:06.104695Z"
    },
    "slideshow": {
     "slide_type": "skip"
    }
   },
   "outputs": [],
   "source": [
    "import pickle  # serializes an object by producing a byte array from all the information in the object\n",
    "import hashlib # produces a 128-bit hash value from a byte array"
   ]
  },
  {
   "cell_type": "markdown",
   "metadata": {
    "slideshow": {
     "slide_type": "fragment"
    }
   },
   "source": [
    "The function `getPathID` returns a unique hash for a coverage set."
   ]
  },
  {
   "cell_type": "code",
   "execution_count": 32,
   "metadata": {
    "execution": {
     "iopub.execute_input": "2021-10-14T16:43:06.108827Z",
     "iopub.status.busy": "2021-10-14T16:43:06.108252Z",
     "iopub.status.idle": "2021-10-14T16:43:06.110072Z",
     "shell.execute_reply": "2021-10-14T16:43:06.110524Z"
    },
    "slideshow": {
     "slide_type": "fragment"
    }
   },
   "outputs": [],
   "source": [
    "def getPathID(coverage):\n",
    "    \"\"\"Returns a unique hash for the covered statements\"\"\"\n",
    "    pickled = pickle.dumps(coverage)\n",
    "    return hashlib.md5(pickled).hexdigest()"
   ]
  },
  {
   "cell_type": "markdown",
   "metadata": {
    "slideshow": {
     "slide_type": "subslide"
    }
   },
   "source": [
    "There are several ways to assign energy based on how unusual the exercised path is. In this case, we implement an exponential power schedule which computes the energy $e(s)$ for a seed $s$ as follows\n",
    "$$e(s) = \\frac{1}{f(p(s))^a}$$\n",
    "where \n",
    "* $p(s)$ returns the ID of the path exercised by $s$, \n",
    "* $f(p)$ returns the number of times the path $p$ is exercised by generated inputs, and \n",
    "* $a$ is a given exponent."
   ]
  },
  {
   "cell_type": "code",
   "execution_count": 33,
   "metadata": {
    "execution": {
     "iopub.execute_input": "2021-10-14T16:43:06.114710Z",
     "iopub.status.busy": "2021-10-14T16:43:06.114183Z",
     "iopub.status.idle": "2021-10-14T16:43:06.116113Z",
     "shell.execute_reply": "2021-10-14T16:43:06.116494Z"
    },
    "slideshow": {
     "slide_type": "subslide"
    }
   },
   "outputs": [],
   "source": [
    "class AFLFastSchedule(PowerSchedule): \n",
    "    def __init__(self, exponent):\n",
    "        self.exponent = exponent\n",
    "            \n",
    "    def assignEnergy(self, population):\n",
    "        \"\"\"Assign exponential energy inversely proportional to path frequency\"\"\"\n",
    "        for seed in population:\n",
    "            seed.energy = 1 / (self.path_frequency[getPathID(seed.coverage)] ** self.exponent)"
   ]
  },
  {
   "cell_type": "markdown",
   "metadata": {
    "slideshow": {
     "slide_type": "fragment"
    }
   },
   "source": [
    "In the greybox fuzzer, lets keep track of the number of times $f(p)$ each path $p$ is exercised, and update the power schedule."
   ]
  },
  {
   "cell_type": "code",
   "execution_count": 34,
   "metadata": {
    "execution": {
     "iopub.execute_input": "2021-10-14T16:43:06.121488Z",
     "iopub.status.busy": "2021-10-14T16:43:06.120915Z",
     "iopub.status.idle": "2021-10-14T16:43:06.122609Z",
     "shell.execute_reply": "2021-10-14T16:43:06.122983Z"
    },
    "slideshow": {
     "slide_type": "subslide"
    }
   },
   "outputs": [],
   "source": [
    "class CountingGreyboxFuzzer(GreyboxFuzzer):\n",
    "    def reset(self):\n",
    "        \"\"\"Reset path frequency\"\"\"\n",
    "        super().reset()\n",
    "        self.schedule.path_frequency = {}\n",
    "    \n",
    "    def run(self, runner):\n",
    "        \"\"\"Inform scheduler about path frequency\"\"\"\n",
    "        result, outcome = super().run(runner)\n",
    "\n",
    "        path_id = getPathID(runner.coverage())\n",
    "        if not path_id in self.schedule.path_frequency:\n",
    "            self.schedule.path_frequency[path_id] = 1\n",
    "        else:\n",
    "            self.schedule.path_frequency[path_id] += 1\n",
    "            \n",
    "        return(result, outcome)"
   ]
  },
  {
   "cell_type": "markdown",
   "metadata": {
    "slideshow": {
     "slide_type": "subslide"
    }
   },
   "source": [
    "Okay, lets run our boosted greybox fuzzer $n=10k$ times on our simple [example](#Runner-and-Sample-Program). We set the exponentent of our exponential power schedule to $a=5$."
   ]
  },
  {
   "cell_type": "code",
   "execution_count": 35,
   "metadata": {
    "execution": {
     "iopub.execute_input": "2021-10-14T16:43:06.211641Z",
     "iopub.status.busy": "2021-10-14T16:43:06.183694Z",
     "iopub.status.idle": "2021-10-14T16:43:07.026242Z",
     "shell.execute_reply": "2021-10-14T16:43:07.026908Z"
    },
    "slideshow": {
     "slide_type": "fragment"
    }
   },
   "outputs": [
    {
     "data": {
      "text/plain": [
       "'It took the fuzzer w/ exponential schedule 0.90 seconds to generate and execute 10000 inputs.'"
      ]
     },
     "execution_count": 35,
     "metadata": {},
     "output_type": "execute_result"
    }
   ],
   "source": [
    "n = 10000\n",
    "seed_input = \"good\"\n",
    "fast_schedule = AFLFastSchedule(5)\n",
    "fast_fuzzer = CountingGreyboxFuzzer([seed_input], Mutator(), fast_schedule)\n",
    "start = time.time()\n",
    "fast_fuzzer.runs(FunctionCoverageRunner(crashme), trials=n)\n",
    "end = time.time()\n",
    "\n",
    "\"It took the fuzzer w/ exponential schedule %0.2f seconds to generate and execute %d inputs.\" % (end - start, n)"
   ]
  },
  {
   "cell_type": "code",
   "execution_count": 36,
   "metadata": {
    "execution": {
     "iopub.execute_input": "2021-10-14T16:43:07.034251Z",
     "iopub.status.busy": "2021-10-14T16:43:07.033620Z",
     "iopub.status.idle": "2021-10-14T16:43:07.127149Z",
     "shell.execute_reply": "2021-10-14T16:43:07.127598Z"
    },
    "slideshow": {
     "slide_type": "subslide"
    }
   },
   "outputs": [
    {
     "data": {
      "image/png": "[encoded data removed]",
      "text/plain": [
       "<Figure size 432x288 with 1 Axes>"
      ]
     },
     "metadata": {
      "needs_background": "light"
     },
     "output_type": "display_data"
    }
   ],
   "source": [
    "x_axis = np.arange(len(fast_schedule.path_frequency))\n",
    "y_axis = list(fast_schedule.path_frequency.values())\n",
    "\n",
    "plt.bar(x_axis, y_axis)\n",
    "plt.xticks(x_axis)\n",
    "plt.ylim(0, n)\n",
    "#plt.yscale(\"log\")\n",
    "#plt.yticks([10,100,1000,10000])\n",
    "plt;"
   ]
  },
  {
   "cell_type": "code",
   "execution_count": 37,
   "metadata": {
    "execution": {
     "iopub.execute_input": "2021-10-14T16:43:07.131873Z",
     "iopub.status.busy": "2021-10-14T16:43:07.131273Z",
     "iopub.status.idle": "2021-10-14T16:43:07.134728Z",
     "shell.execute_reply": "2021-10-14T16:43:07.135146Z"
    },
    "slideshow": {
     "slide_type": "subslide"
    }
   },
   "outputs": [
    {
     "name": "stdout",
     "output_type": "stream",
     "text": [
      "             path id 'p'           : path frequency 'f(p)'\n"
     ]
    },
    {
     "data": {
      "text/plain": [
       "{'d5cbe6e3e9ff55e398433785bff8f3b1': 5963,\n",
       " 'd7a6f2c790728b8d28b3748aa9c09edb': 2533,\n",
       " 'f079aa0a7fdf5fbb69c6d547b662b5ca': 972,\n",
       " 'a074bd0af40d6c7c1606fd6628d5c831': 444,\n",
       " '03288edf93bd346254ac6e57562b3a15': 88}"
      ]
     },
     "execution_count": 37,
     "metadata": {},
     "output_type": "execute_result"
    }
   ],
   "source": [
    "print(\"             path id 'p'           : path frequency 'f(p)'\")\n",
    "fast_schedule.path_frequency"
   ]
  },
  {
   "cell_type": "markdown",
   "metadata": {
    "slideshow": {
     "slide_type": "fragment"
    }
   },
   "source": [
    "How does it compare to our greybox fuzzer with the classical power schedule?"
   ]
  },
  {
   "cell_type": "code",
   "execution_count": 38,
   "metadata": {
    "execution": {
     "iopub.execute_input": "2021-10-14T16:43:07.156458Z",
     "iopub.status.busy": "2021-10-14T16:43:07.153039Z",
     "iopub.status.idle": "2021-10-14T16:43:07.897724Z",
     "shell.execute_reply": "2021-10-14T16:43:07.898098Z"
    },
    "slideshow": {
     "slide_type": "subslide"
    }
   },
   "outputs": [
    {
     "data": {
      "text/plain": [
       "'It took the fuzzer w/ original schedule 0.76 seconds to generate and execute 10000 inputs.'"
      ]
     },
     "execution_count": 38,
     "metadata": {},
     "output_type": "execute_result"
    }
   ],
   "source": [
    "seed_input = \"good\"\n",
    "orig_schedule = PowerSchedule()\n",
    "orig_fuzzer = CountingGreyboxFuzzer([seed_input], Mutator(), orig_schedule)\n",
    "start = time.time()\n",
    "orig_fuzzer.runs(FunctionCoverageRunner(crashme), trials=n)\n",
    "end = time.time()\n",
    "\n",
    "\"It took the fuzzer w/ original schedule %0.2f seconds to generate and execute %d inputs.\" % (end - start, n)"
   ]
  },
  {
   "cell_type": "code",
   "execution_count": 39,
   "metadata": {
    "execution": {
     "iopub.execute_input": "2021-10-14T16:43:07.934876Z",
     "iopub.status.busy": "2021-10-14T16:43:07.932303Z",
     "iopub.status.idle": "2021-10-14T16:43:07.996673Z",
     "shell.execute_reply": "2021-10-14T16:43:07.996064Z"
    },
    "slideshow": {
     "slide_type": "subslide"
    }
   },
   "outputs": [
    {
     "data": {
      "image/png": "[encoded data removed]",
      "text/plain": [
       "<Figure size 432x288 with 1 Axes>"
      ]
     },
     "metadata": {
      "needs_background": "light"
     },
     "output_type": "display_data"
    }
   ],
   "source": [
    "x_axis = np.arange(len(orig_schedule.path_frequency))\n",
    "y_axis = list(orig_schedule.path_frequency.values())\n",
    "\n",
    "plt.bar(x_axis, y_axis)\n",
    "plt.xticks(x_axis)\n",
    "plt.ylim(0, n)\n",
    "#plt.yscale(\"log\")\n",
    "#plt.yticks([10,100,1000,10000])\n",
    "plt;"
   ]
  },
  {
   "cell_type": "code",
   "execution_count": 40,
   "metadata": {
    "execution": {
     "iopub.execute_input": "2021-10-14T16:43:08.000955Z",
     "iopub.status.busy": "2021-10-14T16:43:08.000176Z",
     "iopub.status.idle": "2021-10-14T16:43:08.004326Z",
     "shell.execute_reply": "2021-10-14T16:43:08.004784Z"
    },
    "slideshow": {
     "slide_type": "subslide"
    }
   },
   "outputs": [
    {
     "name": "stdout",
     "output_type": "stream",
     "text": [
      "             path id 'p'           : path frequency 'f(p)'\n"
     ]
    },
    {
     "data": {
      "text/plain": [
       "{'d5cbe6e3e9ff55e398433785bff8f3b1': 6780,\n",
       " 'd7a6f2c790728b8d28b3748aa9c09edb': 2313,\n",
       " 'f079aa0a7fdf5fbb69c6d547b662b5ca': 630,\n",
       " 'a074bd0af40d6c7c1606fd6628d5c831': 213,\n",
       " '03288edf93bd346254ac6e57562b3a15': 64}"
      ]
     },
     "execution_count": 40,
     "metadata": {},
     "output_type": "execute_result"
    }
   ],
   "source": [
    "print(\"             path id 'p'           : path frequency 'f(p)'\")\n",
    "orig_schedule.path_frequency"
   ]
  },
  {
   "cell_type": "markdown",
   "metadata": {
    "slideshow": {
     "slide_type": "subslide"
    }
   },
   "source": [
    "The exponential power schedule shaves some of the executions of the \"high-frequency path\" off and adds them to the lower-frequency paths. The path executed least often is either not at all exercised using the traditional power schedule or it is exercised much less often.\n",
    "\n",
    "Let's have a look at the energy that is assigned to the discovered seeds."
   ]
  },
  {
   "cell_type": "code",
   "execution_count": 41,
   "metadata": {
    "execution": {
     "iopub.execute_input": "2021-10-14T16:43:08.011083Z",
     "iopub.status.busy": "2021-10-14T16:43:08.010215Z",
     "iopub.status.idle": "2021-10-14T16:43:08.013484Z",
     "shell.execute_reply": "2021-10-14T16:43:08.014107Z"
    },
    "slideshow": {
     "slide_type": "subslide"
    }
   },
   "outputs": [
    {
     "name": "stdout",
     "output_type": "stream",
     "text": [
      "'d5cbe6e3e9ff55e398433785bff8f3b1', 0.20000, 'good'\n",
      "'d7a6f2c790728b8d28b3748aa9c09edb', 0.20000, 'bIgoodS9'\n",
      "'f079aa0a7fdf5fbb69c6d547b662b5ca', 0.20000, 'ba7fgdS9'\n",
      "'a074bd0af40d6c7c1606fd6628d5c831', 0.20000, 'badf!9t'\n",
      "'03288edf93bd346254ac6e57562b3a15', 0.20000, 'bad!9+t'\n"
     ]
    }
   ],
   "source": [
    "orig_energy = orig_schedule.normalizedEnergy(orig_fuzzer.population)\n",
    "\n",
    "for (seed, norm_energy) in zip(orig_fuzzer.population, orig_energy):\n",
    "    print(\"'%s', %0.5f, %s\" % (getPathID(seed.coverage), norm_energy, repr(seed.data)))"
   ]
  },
  {
   "cell_type": "code",
   "execution_count": 42,
   "metadata": {
    "execution": {
     "iopub.execute_input": "2021-10-14T16:43:08.019895Z",
     "iopub.status.busy": "2021-10-14T16:43:08.019024Z",
     "iopub.status.idle": "2021-10-14T16:43:08.022075Z",
     "shell.execute_reply": "2021-10-14T16:43:08.022515Z"
    },
    "slideshow": {
     "slide_type": "subslide"
    }
   },
   "outputs": [
    {
     "name": "stdout",
     "output_type": "stream",
     "text": [
      "'d5cbe6e3e9ff55e398433785bff8f3b1', 0.00000, 'good'\n",
      "'d7a6f2c790728b8d28b3748aa9c09edb', 0.00000, 'bgiOot'\n",
      "'f079aa0a7fdf5fbb69c6d547b662b5ca', 0.00001, 'baO'\n",
      "'a074bd0af40d6c7c1606fd6628d5c831', 0.00031, 'badtM'\n",
      "'03288edf93bd346254ac6e57562b3a15', 0.99969, 'bad!M'\n"
     ]
    }
   ],
   "source": [
    "fast_energy = fast_schedule.normalizedEnergy(fast_fuzzer.population)\n",
    "\n",
    "for (seed, norm_energy) in zip(fast_fuzzer.population, fast_energy):\n",
    "    print(\"'%s', %0.5f, %s\" % (getPathID(seed.coverage), norm_energy, repr(seed.data)))"
   ]
  },
  {
   "cell_type": "markdown",
   "metadata": {
    "slideshow": {
     "slide_type": "subslide"
    }
   },
   "source": [
    "Exactly. Our new exponential power schedule assigns most energy to the seed exercising the lowest-frequency path.\n",
    "\n",
    "Let's compare them in terms of coverage achieved over time for our simple [example](#Runner-and-Sample-Program)."
   ]
  },
  {
   "cell_type": "code",
   "execution_count": 43,
   "metadata": {
    "execution": {
     "iopub.execute_input": "2021-10-14T16:43:08.105710Z",
     "iopub.status.busy": "2021-10-14T16:43:08.064803Z",
     "iopub.status.idle": "2021-10-14T16:43:08.279318Z",
     "shell.execute_reply": "2021-10-14T16:43:08.279698Z"
    },
    "slideshow": {
     "slide_type": "fragment"
    }
   },
   "outputs": [
    {
     "data": {
      "image/png": "[encoded data removed]",
      "text/plain": [
       "<Figure size 432x288 with 1 Axes>"
      ]
     },
     "metadata": {
      "needs_background": "light"
     },
     "output_type": "display_data"
    }
   ],
   "source": [
    "_, orig_coverage = population_coverage(orig_fuzzer.inputs, crashme)\n",
    "_, fast_coverage = population_coverage(fast_fuzzer.inputs, crashme)\n",
    "line_orig, = plt.plot(orig_coverage, label=\"Original Greybox Fuzzer\")\n",
    "line_fast, = plt.plot(fast_coverage, label=\"Boosted Greybox Fuzzer\")\n",
    "plt.legend(handles=[line_orig, line_fast])\n",
    "plt.title('Coverage over time')\n",
    "plt.xlabel('# of inputs')\n",
    "plt.ylabel('lines covered');"
   ]
  },
  {
   "cell_type": "markdown",
   "metadata": {
    "slideshow": {
     "slide_type": "subslide"
    }
   },
   "source": [
    "As expected, the boosted greybox fuzzer (with the exponential power schedule) achieves coverage much faster.\n",
    "\n",
    "***Summary***. By fuzzing seeds more often that exercise low-frequency paths, we can explore program paths in a much more efficient manner.\n",
    "\n",
    "***Try it***. You can try other exponents for the fast power schedule, or change the power schedule entirely. Note that a large exponent can lead to overflows and imprecisions in the floating point arithmetic producing unexpected results. You can execute your own code by opening this chapter as Jupyter notebook.\n",
    "\n",
    "***Read***. You can find out more about fuzzer boosting in the paper \"[Coverage-based Greybox Fuzzing as Markov Chain](https://mboehme.github.io/paper/CCS16.pdf)\" \\cite{boehme2018greybox} and check out the implementation into AFL at [http://github.com/mboehme/aflfast]."
   ]
  },
  {
   "cell_type": "markdown",
   "metadata": {
    "slideshow": {
     "slide_type": "subslide"
    }
   },
   "source": [
    "### Complex Example: HTMLParser\n",
    "Let's compare the three fuzzers on a more realistic example, the Python [HTML parser](https://docs.python.org/3/library/html.parser.html). We run all three fuzzers $n=5k$ times on the HTMLParser, starting with the \"empty\" seed."
   ]
  },
  {
   "cell_type": "code",
   "execution_count": 44,
   "metadata": {
    "execution": {
     "iopub.execute_input": "2021-10-14T16:43:08.283814Z",
     "iopub.status.busy": "2021-10-14T16:43:08.283211Z",
     "iopub.status.idle": "2021-10-14T16:43:08.285315Z",
     "shell.execute_reply": "2021-10-14T16:43:08.285700Z"
    },
    "slideshow": {
     "slide_type": "skip"
    }
   },
   "outputs": [],
   "source": [
    "from html.parser import HTMLParser\n",
    "import traceback"
   ]
  },
  {
   "cell_type": "code",
   "execution_count": 45,
   "metadata": {
    "execution": {
     "iopub.execute_input": "2021-10-14T16:43:08.292758Z",
     "iopub.status.busy": "2021-10-14T16:43:08.292217Z",
     "iopub.status.idle": "2021-10-14T16:43:08.293818Z",
     "shell.execute_reply": "2021-10-14T16:43:08.294194Z"
    },
    "slideshow": {
     "slide_type": "fragment"
    }
   },
   "outputs": [],
   "source": [
    "# create wrapper function\n",
    "def my_parser(inp):\n",
    "    parser = HTMLParser()  # resets the HTMLParser object for every fuzz input\n",
    "    parser.feed(inp)\n",
    "\n",
    "n = 5000\n",
    "seed_input = \" \" # empty seed\n",
    "blackbox_fuzzer = MutationFuzzer([seed_input], Mutator(), PowerSchedule())\n",
    "greybox_fuzzer  = GreyboxFuzzer([seed_input], Mutator(), PowerSchedule())\n",
    "boosted_fuzzer  = CountingGreyboxFuzzer([seed_input], Mutator(), AFLFastSchedule(5))"
   ]
  },
  {
   "cell_type": "code",
   "execution_count": 46,
   "metadata": {
    "execution": {
     "iopub.execute_input": "2021-10-14T16:43:08.354597Z",
     "iopub.status.busy": "2021-10-14T16:43:08.330988Z",
     "iopub.status.idle": "2021-10-14T16:43:26.815950Z",
     "shell.execute_reply": "2021-10-14T16:43:26.816344Z"
    },
    "slideshow": {
     "slide_type": "subslide"
    }
   },
   "outputs": [
    {
     "data": {
      "text/plain": [
       "'It took all three fuzzers 18.51 seconds to generate and execute 5000 inputs.'"
      ]
     },
     "execution_count": 46,
     "metadata": {},
     "output_type": "execute_result"
    }
   ],
   "source": [
    "start = time.time()\n",
    "blackbox_fuzzer.runs(FunctionCoverageRunner(my_parser), trials=n)\n",
    "greybox_fuzzer.runs(FunctionCoverageRunner(my_parser), trials=n)\n",
    "boosted_fuzzer.runs(FunctionCoverageRunner(my_parser), trials=n)\n",
    "end = time.time()\n",
    "\n",
    "\"It took all three fuzzers %0.2f seconds to generate and execute %d inputs.\" % (end - start, n)"
   ]
  },
  {
   "cell_type": "markdown",
   "metadata": {
    "slideshow": {
     "slide_type": "fragment"
    }
   },
   "source": [
    "How do the fuzzers compare in terms of coverage over time?"
   ]
  },
  {
   "cell_type": "code",
   "execution_count": 47,
   "metadata": {
    "execution": {
     "iopub.execute_input": "2021-10-14T16:43:26.902314Z",
     "iopub.status.busy": "2021-10-14T16:43:26.861254Z",
     "iopub.status.idle": "2021-10-14T16:43:28.155821Z",
     "shell.execute_reply": "2021-10-14T16:43:28.156222Z"
    },
    "slideshow": {
     "slide_type": "subslide"
    }
   },
   "outputs": [
    {
     "data": {
      "image/png": "[encoded data removed]",
      "text/plain": [
       "<Figure size 432x288 with 1 Axes>"
      ]
     },
     "metadata": {
      "needs_background": "light"
     },
     "output_type": "display_data"
    }
   ],
   "source": [
    "_, black_coverage = population_coverage(blackbox_fuzzer.inputs, my_parser)\n",
    "_, grey_coverage = population_coverage(greybox_fuzzer.inputs, my_parser)\n",
    "_, boost_coverage = population_coverage(boosted_fuzzer.inputs, my_parser)\n",
    "line_black, = plt.plot(black_coverage, label=\"Blackbox Fuzzer\")\n",
    "line_grey, = plt.plot(grey_coverage, label=\"Greybox Fuzzer\")\n",
    "line_boost, = plt.plot(boost_coverage, label=\"Boosted Greybox Fuzzer\")\n",
    "plt.legend(handles=[line_boost, line_grey, line_black])\n",
    "plt.title('Coverage over time')\n",
    "plt.xlabel('# of inputs')\n",
    "plt.ylabel('lines covered');"
   ]
  },
  {
   "cell_type": "markdown",
   "metadata": {
    "slideshow": {
     "slide_type": "fragment"
    }
   },
   "source": [
    "Both greybox fuzzers clearly outperform the blackbox fuzzer. The reason is that the greybox fuzzer \"discovers\" interesting inputs along the way. Let's have a look at the last 10 inputs generated by the greybox versus blackbox fuzzer."
   ]
  },
  {
   "cell_type": "code",
   "execution_count": 48,
   "metadata": {
    "execution": {
     "iopub.execute_input": "2021-10-14T16:43:28.160536Z",
     "iopub.status.busy": "2021-10-14T16:43:28.159893Z",
     "iopub.status.idle": "2021-10-14T16:43:28.162486Z",
     "shell.execute_reply": "2021-10-14T16:43:28.162897Z"
    },
    "slideshow": {
     "slide_type": "subslide"
    }
   },
   "outputs": [
    {
     "data": {
      "text/plain": [
       "[', ', '$', ' @', '', '!', 'I ', '', '$', '', '']"
      ]
     },
     "execution_count": 48,
     "metadata": {},
     "output_type": "execute_result"
    }
   ],
   "source": [
    "blackbox_fuzzer.inputs[-10:]"
   ]
  },
  {
   "cell_type": "code",
   "execution_count": 49,
   "metadata": {
    "execution": {
     "iopub.execute_input": "2021-10-14T16:43:28.167516Z",
     "iopub.status.busy": "2021-10-14T16:43:28.166858Z",
     "iopub.status.idle": "2021-10-14T16:43:28.169426Z",
     "shell.execute_reply": "2021-10-14T16:43:28.169819Z"
    },
    "slideshow": {
     "slide_type": "fragment"
    }
   },
   "outputs": [
    {
     "data": {
      "text/plain": [
       "[\"q36<C\\x004'<\",\n",
       " '6I68\"',\n",
       " '3.&<?~svnk',\n",
       " '$}\\x02L;\\nbtQ',\n",
       " '<3H\\x1c',\n",
       " '(**ys4<&E]',\n",
       " 'u<<b?Gw=;>~OO4>',\n",
       " '<yb3`k>O',\n",
       " 'aK\\n<<fUj>-',\n",
       " '~adK<-']"
      ]
     },
     "execution_count": 49,
     "metadata": {},
     "output_type": "execute_result"
    }
   ],
   "source": [
    "greybox_fuzzer.inputs[-10:]"
   ]
  },
  {
   "cell_type": "markdown",
   "metadata": {
    "slideshow": {
     "slide_type": "subslide"
    }
   },
   "source": [
    "The greybox fuzzer executes much more complicated inputs, many of which include special characters such as opening and closing brackets and chevrons (i.e., `<, >, [, ]`). Yet, many important keywords, such as `<html>` are still missing. \n",
    "\n",
    "To inform the fuzzer about these important keywords, we will need [grammars](Grammars.ipynb); in the section on [smart greybox fuzzing](LangFuzzer.ipynb), we combine them with the techniques above.\n",
    "\n",
    "***Try it***. You can re-run these experiments to understand the variance of fuzzing experiments. Sometimes, the fuzzer that we claim to be superior does not seem to outperform the inferior fuzzer. In order to do this, you just need to open this chapter as Jupyter notebook."
   ]
  },
  {
   "cell_type": "markdown",
   "metadata": {
    "slideshow": {
     "slide_type": "slide"
    }
   },
   "source": [
    "## Directed Greybox Fuzzing\n",
    "Sometimes, you just want the fuzzer to reach some dangerous location in the source code. This could be a location where you expect a buffer overflow. Or you want to test a recent change in your code base. How do we direct the fuzzer towards these locations?\n",
    "\n",
    "In this chapter, we introduce directed greybox fuzzing as an optimization problem."
   ]
  },
  {
   "cell_type": "markdown",
   "metadata": {
    "slideshow": {
     "slide_type": "subslide"
    }
   },
   "source": [
    "### Solving the Maze\n",
    "To provide a meaningful example where you can easily change the code complexity and target location, we generate the maze source code from the maze provided as string. This example is loosely based on an old [blog post](https://feliam.wordpress.com/2010/10/07/the-symbolic-maze/) on symbolic execution by Felipe Andres Manzano (Quick shout-out!).\n",
    "\n",
    "You simply specify the maze as a string. Like so."
   ]
  },
  {
   "cell_type": "code",
   "execution_count": 50,
   "metadata": {
    "execution": {
     "iopub.execute_input": "2021-10-14T16:43:28.173572Z",
     "iopub.status.busy": "2021-10-14T16:43:28.173012Z",
     "iopub.status.idle": "2021-10-14T16:43:28.174975Z",
     "shell.execute_reply": "2021-10-14T16:43:28.175371Z"
    },
    "slideshow": {
     "slide_type": "subslide"
    }
   },
   "outputs": [],
   "source": [
    "maze_string = \"\"\"\n",
    "+-+-----+\n",
    "|X|     |\n",
    "| | --+ |\n",
    "| |   | |\n",
    "| +-- | |\n",
    "|     |#|\n",
    "+-----+-+\n",
    "\"\"\""
   ]
  },
  {
   "cell_type": "markdown",
   "metadata": {
    "slideshow": {
     "slide_type": "fragment"
    }
   },
   "source": [
    "The code is generated using the function `generate_maze_code`. We'll hide the implementation and instead explain what it does. If you are interested in the coding, go [here](ControlFlow.ipynb#Example:-Maze)."
   ]
  },
  {
   "cell_type": "code",
   "execution_count": 51,
   "metadata": {
    "execution": {
     "iopub.execute_input": "2021-10-14T16:43:28.180194Z",
     "iopub.status.busy": "2021-10-14T16:43:28.179381Z",
     "iopub.status.idle": "2021-10-14T16:43:28.541335Z",
     "shell.execute_reply": "2021-10-14T16:43:28.541796Z"
    },
    "slideshow": {
     "slide_type": "skip"
    }
   },
   "outputs": [],
   "source": [
    "from ControlFlow import generate_maze_code"
   ]
  },
  {
   "cell_type": "code",
   "execution_count": 52,
   "metadata": {
    "execution": {
     "iopub.execute_input": "2021-10-14T16:43:28.549967Z",
     "iopub.status.busy": "2021-10-14T16:43:28.549345Z",
     "iopub.status.idle": "2021-10-14T16:43:28.550902Z",
     "shell.execute_reply": "2021-10-14T16:43:28.551300Z"
    },
    "slideshow": {
     "slide_type": "fragment"
    }
   },
   "outputs": [],
   "source": [
    "maze_code = generate_maze_code(maze_string)\n",
    "exec(maze_code)"
   ]
  },
  {
   "cell_type": "markdown",
   "metadata": {
    "slideshow": {
     "slide_type": "subslide"
    }
   },
   "source": [
    "The objective is to get the \"X\" to the \"#\" by providing inputs `D` for down, `U` for up, `L` for left, and `R` for right."
   ]
  },
  {
   "cell_type": "code",
   "execution_count": 53,
   "metadata": {
    "execution": {
     "iopub.execute_input": "2021-10-14T16:43:28.554725Z",
     "iopub.status.busy": "2021-10-14T16:43:28.554137Z",
     "iopub.status.idle": "2021-10-14T16:43:28.556262Z",
     "shell.execute_reply": "2021-10-14T16:43:28.556650Z"
    },
    "slideshow": {
     "slide_type": "fragment"
    }
   },
   "outputs": [
    {
     "name": "stdout",
     "output_type": "stream",
     "text": [
      "SOLVED\n",
      "\n",
      "+-+-----+\n",
      "| |     |\n",
      "| | --+ |\n",
      "| |   | |\n",
      "| +-- | |\n",
      "|     |X|\n",
      "+-----+-+\n",
      "\n"
     ]
    }
   ],
   "source": [
    "print(maze(\"DDDDRRRRUULLUURRRRDDDD\")) # Appending one more 'D', you have reached the target."
   ]
  },
  {
   "cell_type": "markdown",
   "metadata": {
    "slideshow": {
     "slide_type": "subslide"
    }
   },
   "source": [
    "Each character in `maze_string` represents a tile. For each tile, a tile-function is generated. \n",
    "* If the current tile is \"benign\" (` `), the tile-function corresponding to the next input character (D, U, L, R) is called. Unexpected input characters are ignored. If no more input characters are left, it returns \"VALID\" and the current maze state.\n",
    "* If the current tile is a \"trap\" (`+`,`|`,`-`), it returns \"INVALID\" and the current maze state.\n",
    "* If the current tile is the \"target\" (`#`), it returns \"SOLVED\" and the current maze state.\n",
    "\n",
    "***Try it***. You can test other sequences of input characters, or even change the maze entirely. In order to execute your own code, you just need to open this chapter as Jupyter notebook.\n",
    "\n",
    "To get an idea of the generated code, lets look at the static [call graph](https://en.wikipedia.org/wiki/Call_graph). A call graph shows the order in which functions can be executed.\n",
    "\n",
    "*Troubleshooting*: if nothing is shown after executing `callgraph()`, check `pyan` or `pyan3` is correctly installed. If `pyan3` is installed, it is necessary to modify `construct_callgraph()` in [ControlFlow.ipynb](ControlFlow.ipynb#Call-Graph-Helpers) accordingly, as follows:\n",
    "\n",
    "```python\n",
    "    ...\n",
    "  - os.system(f'pyan {file_name} --uses --defines --colored --grouped --annotated --dot > {cg_file}')\n",
    "  + os.system(f'pyan3 {file_name} --uses --defines --colored --grouped --annotated --dot > {cg_file}')\n",
    "    ...\n",
    "```\n"
   ]
  },
  {
   "cell_type": "code",
   "execution_count": 54,
   "metadata": {
    "execution": {
     "iopub.execute_input": "2021-10-14T16:43:28.560211Z",
     "iopub.status.busy": "2021-10-14T16:43:28.559629Z",
     "iopub.status.idle": "2021-10-14T16:43:28.561346Z",
     "shell.execute_reply": "2021-10-14T16:43:28.561749Z"
    },
    "slideshow": {
     "slide_type": "skip"
    }
   },
   "outputs": [],
   "source": [
    "from ControlFlow import callgraph"
   ]
  },
  {
   "cell_type": "code",
   "execution_count": 55,
   "metadata": {
    "execution": {
     "iopub.execute_input": "2021-10-14T16:43:28.564995Z",
     "iopub.status.busy": "2021-10-14T16:43:28.564398Z",
     "iopub.status.idle": "2021-10-14T16:43:29.494025Z",
     "shell.execute_reply": "2021-10-14T16:43:29.494420Z"
    },
    "slideshow": {
     "slide_type": "subslide"
    }
   },
   "outputs": [
    {
     "data": {
      "image/svg+xml": [
       "<?xml version=\"1.0\" encoding=\"UTF-8\" standalone=\"no\"?>\n",
       "<!DOCTYPE svg PUBLIC \"-//W3C//DTD SVG 1.1//EN\"\n",
       " \"http://www.w3.org/Graphics/SVG/1.1/DTD/svg11.dtd\">\n",
       "<!-- Generated by graphviz version 2.49.1 (20210923.0004)\n",
       " -->\n",
       "<!-- Title: G Pages: 1 -->\n",
       "<svg width=\"3899pt\" height=\"2287pt\"\n",
       " viewBox=\"0.00 0.00 3898.99 2286.50\" xmlns=\"http://www.w3.org/2000/svg\" xmlns:xlink=\"http://www.w3.org/1999/xlink\">\n",
       "<g id=\"graph0\" class=\"graph\" transform=\"scale(1 1) rotate(0) translate(4 2282.5)\">\n",
       "<title>G</title>\n",
       "<polygon fill=\"white\" stroke=\"transparent\" points=\"-4,4 -4,-2282.5 3894.99,-2282.5 3894.99,4 -4,4\"/>\n",
       "<g id=\"clust1\" class=\"cluster\">\n",
       "<title>cluster_G</title>\n",
       "<path fill=\"#808080\" fill-opacity=\"0.094118\" stroke=\"black\" d=\"M30.99,-8C30.99,-8 3870.99,-8 3870.99,-8 3876.99,-8 3882.99,-14 3882.99,-20 3882.99,-20 3882.99,-2258.5 3882.99,-2258.5 3882.99,-2264.5 3876.99,-2270.5 3870.99,-2270.5 3870.99,-2270.5 30.99,-2270.5 30.99,-2270.5 24.99,-2270.5 18.99,-2264.5 18.99,-2258.5 18.99,-2258.5 18.99,-20 18.99,-20 18.99,-14 24.99,-8 30.99,-8\"/>\n",
       "</g>\n",
       "<g id=\"clust2\" class=\"cluster\">\n",
       "<title>cluster_callgraphX</title>\n",
       "<path fill=\"#808080\" fill-opacity=\"0.094118\" stroke=\"black\" d=\"M38.99,-16C38.99,-16 3764.99,-16 3764.99,-16 3770.99,-16 3776.99,-22 3776.99,-28 3776.99,-28 3776.99,-2250.5 3776.99,-2250.5 3776.99,-2256.5 3770.99,-2262.5 3764.99,-2262.5 3764.99,-2262.5 38.99,-2262.5 38.99,-2262.5 32.99,-2262.5 26.99,-2256.5 26.99,-2250.5 26.99,-2250.5 26.99,-28 26.99,-28 26.99,-22 32.99,-16 38.99,-16\"/>\n",
       "<text text-anchor=\"middle\" x=\"1901.99\" y=\"-2247.3\" font-family=\"Times,serif\" font-size=\"14.00\">callgraph</text>\n",
       "</g>\n",
       "<!-- callgraphX -->\n",
       "<g id=\"node1\" class=\"node\">\n",
       "<title>callgraphX</title>\n",
       "<ellipse fill=\"#ffffff\" fill-opacity=\"0.698039\" stroke=\"black\" cx=\"3829.99\" cy=\"-1935.41\" rx=\"44.69\" ry=\"18\"/>\n",
       "<text text-anchor=\"middle\" x=\"3829.99\" y=\"-1931.71\" font-family=\"Times,serif\" font-size=\"14.00\" fill=\"#000000\">callgraph</text>\n",
       "</g>\n",
       "<!-- callgraphX__maze -->\n",
       "<g id=\"node2\" class=\"node\">\n",
       "<title>callgraphX__maze</title>\n",
       "<ellipse fill=\"#fecccc\" fill-opacity=\"0.698039\" stroke=\"black\" cx=\"629.99\" cy=\"-2204.63\" rx=\"79.81\" ry=\"26.74\"/>\n",
       "<text text-anchor=\"middle\" x=\"629.99\" y=\"-2208.43\" font-family=\"Times,serif\" font-size=\"14.00\" fill=\"#000000\">maze</text>\n",
       "<text text-anchor=\"middle\" x=\"629.99\" y=\"-2193.43\" font-family=\"Times,serif\" font-size=\"14.00\" fill=\"#000000\">(callgraph.py:84)</text>\n",
       "</g>\n",
       "<!-- callgraphX&#45;&gt;callgraphX__maze -->\n",
       "<g id=\"edge53\" class=\"edge\">\n",
       "<title>callgraphX&#45;&gt;callgraphX__maze</title>\n",
       "<path fill=\"none\" stroke=\"#838b8b\" stroke-dasharray=\"5,2\" d=\"M3806.89,-1951.09C3798.97,-1955.44 3789.86,-1959.72 3780.99,-1962.28 3182.99,-2134.96 1169.77,-2191.14 719.73,-2201.68\"/>\n",
       "<polygon fill=\"#838b8b\" stroke=\"#838b8b\" points=\"719.62,-2198.18 709.71,-2201.91 719.78,-2205.18 719.62,-2198.18\"/>\n",
       "</g>\n",
       "<!-- callgraphX__print_maze -->\n",
       "<g id=\"node3\" class=\"node\">\n",
       "<title>callgraphX__print_maze</title>\n",
       "<ellipse fill=\"#fecccc\" fill-opacity=\"0.698039\" stroke=\"black\" cx=\"1497.99\" cy=\"-50.87\" rx=\"74.91\" ry=\"26.74\"/>\n",
       "<text text-anchor=\"middle\" x=\"1497.99\" y=\"-54.67\" font-family=\"Times,serif\" font-size=\"14.00\" fill=\"#000000\">print_maze</text>\n",
       "<text text-anchor=\"middle\" x=\"1497.99\" y=\"-39.67\" font-family=\"Times,serif\" font-size=\"14.00\" fill=\"#000000\">(callgraph.py:2)</text>\n",
       "</g>\n",
       "<!-- callgraphX&#45;&gt;callgraphX__print_maze -->\n",
       "<g id=\"edge48\" class=\"edge\">\n",
       "<title>callgraphX&#45;&gt;callgraphX__print_maze</title>\n",
       "<path fill=\"none\" stroke=\"#838b8b\" stroke-dasharray=\"5,2\" d=\"M3826.61,-1917.36C3820.68,-1885.82 3808.99,-1816.19 3808.99,-1756.93 3808.99,-1756.93 3808.99,-1756.93 3808.99,-229.35 3808.99,-176.15 3819.75,-146.69 3777.99,-113.74 3734.09,-79.11 1991.87,-57.42 1583.17,-52.8\"/>\n",
       "<polygon fill=\"#838b8b\" stroke=\"#838b8b\" points=\"1582.94,-49.29 1572.9,-52.68 1582.86,-56.29 1582.94,-49.29\"/>\n",
       "</g>\n",
       "<!-- callgraphX__target_tile -->\n",
       "<g id=\"node4\" class=\"node\">\n",
       "<title>callgraphX__target_tile</title>\n",
       "<ellipse fill=\"#fecccc\" fill-opacity=\"0.698039\" stroke=\"black\" cx=\"3683.99\" cy=\"-2204.63\" rx=\"84.71\" ry=\"26.74\"/>\n",
       "<text text-anchor=\"middle\" x=\"3683.99\" y=\"-2208.43\" font-family=\"Times,serif\" font-size=\"14.00\" fill=\"#000000\">target_tile</text>\n",
       "<text text-anchor=\"middle\" x=\"3683.99\" y=\"-2193.43\" font-family=\"Times,serif\" font-size=\"14.00\" fill=\"#000000\">(callgraph.py:358)</text>\n",
       "</g>\n",
       "<!-- callgraphX&#45;&gt;callgraphX__target_tile -->\n",
       "<g id=\"edge61\" class=\"edge\">\n",
       "<title>callgraphX&#45;&gt;callgraphX__target_tile</title>\n",
       "<path fill=\"none\" stroke=\"#838b8b\" stroke-dasharray=\"5,2\" d=\"M3820.76,-1953.3C3797.19,-1996.44 3734.43,-2111.3 3702.79,-2169.22\"/>\n",
       "<polygon fill=\"#838b8b\" stroke=\"#838b8b\" points=\"3699.71,-2167.56 3697.99,-2178.01 3705.85,-2170.91 3699.71,-2167.56\"/>\n",
       "</g>\n",
       "<!-- callgraphX__tile_1_0 -->\n",
       "<g id=\"node5\" class=\"node\">\n",
       "<title>callgraphX__tile_1_0</title>\n",
       "<ellipse fill=\"#fecccc\" fill-opacity=\"0.698039\" stroke=\"black\" cx=\"3510.99\" cy=\"-140.61\" rx=\"79.81\" ry=\"26.74\"/>\n",
       "<text text-anchor=\"middle\" x=\"3510.99\" y=\"-144.41\" font-family=\"Times,serif\" font-size=\"14.00\" fill=\"#000000\">tile_1_0</text>\n",
       "<text text-anchor=\"middle\" x=\"3510.99\" y=\"-129.41\" font-family=\"Times,serif\" font-size=\"14.00\" fill=\"#000000\">(callgraph.py:26)</text>\n",
       "</g>\n",
       "<!-- callgraphX&#45;&gt;callgraphX__tile_1_0 -->\n",
       "<g id=\"edge66\" class=\"edge\">\n",
       "<title>callgraphX&#45;&gt;callgraphX__tile_1_0</title>\n",
       "<path fill=\"none\" stroke=\"#838b8b\" stroke-dasharray=\"5,2\" d=\"M3807.21,-1919.67C3756.35,-1885.95 3637.99,-1802.55 3637.99,-1756.93 3637.99,-1756.93 3637.99,-1756.93 3637.99,-319.09 3637.99,-267.28 3652.14,-246.31 3622.99,-203.48 3611.55,-186.67 3593.97,-173.97 3576.1,-164.59\"/>\n",
       "<polygon fill=\"#838b8b\" stroke=\"#838b8b\" points=\"3577.28,-161.27 3566.76,-159.98 3574.18,-167.55 3577.28,-161.27\"/>\n",
       "</g>\n",
       "<!-- callgraphX__tile_1_1 -->\n",
       "<g id=\"node6\" class=\"node\">\n",
       "<title>callgraphX__tile_1_1</title>\n",
       "<ellipse fill=\"#fecccc\" fill-opacity=\"0.698039\" stroke=\"black\" cx=\"930.99\" cy=\"-1127.75\" rx=\"79.81\" ry=\"26.74\"/>\n",
       "<text text-anchor=\"middle\" x=\"930.99\" y=\"-1131.55\" font-family=\"Times,serif\" font-size=\"14.00\" fill=\"#000000\">tile_1_1</text>\n",
       "<text text-anchor=\"middle\" x=\"930.99\" y=\"-1116.55\" font-family=\"Times,serif\" font-size=\"14.00\" fill=\"#000000\">(callgraph.py:31)</text>\n",
       "</g>\n",
       "<!-- callgraphX&#45;&gt;callgraphX__tile_1_1 -->\n",
       "<g id=\"edge28\" class=\"edge\">\n",
       "<title>callgraphX&#45;&gt;callgraphX__tile_1_1</title>\n",
       "<path fill=\"none\" stroke=\"#838b8b\" stroke-dasharray=\"5,2\" d=\"M3807.47,-1919.67C3799.45,-1915.2 3790.12,-1910.87 3780.99,-1908.54 3703.32,-1888.78 953.76,-1928.09 895.99,-1872.54 858.9,-1836.88 889.99,-1808.38 889.99,-1756.93 889.99,-1756.93 889.99,-1756.93 889.99,-1306.23 889.99,-1256.01 905.77,-1199.79 917.75,-1164.35\"/>\n",
       "<polygon fill=\"#838b8b\" stroke=\"#838b8b\" points=\"921.2,-1165.08 921.17,-1154.48 914.59,-1162.79 921.2,-1165.08\"/>\n",
       "</g>\n",
       "<!-- callgraphX__tile_1_2 -->\n",
       "<g id=\"node7\" class=\"node\">\n",
       "<title>callgraphX__tile_1_2</title>\n",
       "<ellipse fill=\"#fecccc\" fill-opacity=\"0.698039\" stroke=\"black\" cx=\"3688.99\" cy=\"-140.61\" rx=\"79.81\" ry=\"26.74\"/>\n",
       "<text text-anchor=\"middle\" x=\"3688.99\" y=\"-144.41\" font-family=\"Times,serif\" font-size=\"14.00\" fill=\"#000000\">tile_1_2</text>\n",
       "<text text-anchor=\"middle\" x=\"3688.99\" y=\"-129.41\" font-family=\"Times,serif\" font-size=\"14.00\" fill=\"#000000\">(callgraph.py:36)</text>\n",
       "</g>\n",
       "<!-- callgraphX&#45;&gt;callgraphX__tile_1_2 -->\n",
       "<g id=\"edge31\" class=\"edge\">\n",
       "<title>callgraphX&#45;&gt;callgraphX__tile_1_2</title>\n",
       "<path fill=\"none\" stroke=\"#838b8b\" stroke-dasharray=\"5,2\" d=\"M3821.07,-1917.31C3805.73,-1886.25 3775.99,-1818.13 3775.99,-1756.93 3775.99,-1756.93 3775.99,-1756.93 3775.99,-319.09 3775.99,-264.36 3742.22,-208.94 3716.76,-174.93\"/>\n",
       "<polygon fill=\"#838b8b\" stroke=\"#838b8b\" points=\"3719.36,-172.56 3710.49,-166.76 3713.8,-176.83 3719.36,-172.56\"/>\n",
       "</g>\n",
       "<!-- callgraphX__tile_1_3 -->\n",
       "<g id=\"node8\" class=\"node\">\n",
       "<title>callgraphX__tile_1_3</title>\n",
       "<ellipse fill=\"#fecccc\" fill-opacity=\"0.698039\" stroke=\"black\" cx=\"1088.99\" cy=\"-499.57\" rx=\"79.81\" ry=\"26.74\"/>\n",
       "<text text-anchor=\"middle\" x=\"1088.99\" y=\"-503.37\" font-family=\"Times,serif\" font-size=\"14.00\" fill=\"#000000\">tile_1_3</text>\n",
       "<text text-anchor=\"middle\" x=\"1088.99\" y=\"-488.37\" font-family=\"Times,serif\" font-size=\"14.00\" fill=\"#000000\">(callgraph.py:41)</text>\n",
       "</g>\n",
       "<!-- callgraphX&#45;&gt;callgraphX__tile_1_3 -->\n",
       "<g id=\"edge56\" class=\"edge\">\n",
       "<title>callgraphX&#45;&gt;callgraphX__tile_1_3</title>\n",
       "<path fill=\"none\" stroke=\"#838b8b\" stroke-dasharray=\"5,2\" d=\"M3807.47,-1919.66C3799.45,-1915.2 3790.13,-1910.86 3780.99,-1908.54 3697.41,-1887.32 740.91,-1930.41 676.99,-1872.54 652.22,-1850.12 631.99,-1432.34 631.99,-1218.49 631.99,-1218.49 631.99,-1218.49 631.99,-678.05 631.99,-625.51 668.31,-603.06 754.99,-562.44 798.35,-542.12 921.11,-522.68 1005.08,-511.19\"/>\n",
       "<polygon fill=\"#838b8b\" stroke=\"#838b8b\" points=\"1005.68,-514.64 1015.12,-509.82 1004.74,-507.7 1005.68,-514.64\"/>\n",
       "</g>\n",
       "<!-- callgraphX__tile_1_4 -->\n",
       "<g id=\"node9\" class=\"node\">\n",
       "<title>callgraphX__tile_1_4</title>\n",
       "<ellipse fill=\"#fecccc\" fill-opacity=\"0.698039\" stroke=\"black\" cx=\"2080.99\" cy=\"-679.05\" rx=\"79.81\" ry=\"26.74\"/>\n",
       "<text text-anchor=\"middle\" x=\"2080.99\" y=\"-682.85\" font-family=\"Times,serif\" font-size=\"14.00\" fill=\"#000000\">tile_1_4</text>\n",
       "<text text-anchor=\"middle\" x=\"2080.99\" y=\"-667.85\" font-family=\"Times,serif\" font-size=\"14.00\" fill=\"#000000\">(callgraph.py:46)</text>\n",
       "</g>\n",
       "<!-- callgraphX&#45;&gt;callgraphX__tile_1_4 -->\n",
       "<g id=\"edge40\" class=\"edge\">\n",
       "<title>callgraphX&#45;&gt;callgraphX__tile_1_4</title>\n",
       "<path fill=\"none\" stroke=\"#838b8b\" stroke-dasharray=\"5,2\" d=\"M3806.92,-1919.61C3799,-1915.26 3789.89,-1911.01 3780.99,-1908.54 3709.67,-1888.81 3170.45,-1922.64 3115.99,-1872.54 3077.81,-1837.43 3099.99,-1808.8 3099.99,-1756.93 3099.99,-1756.93 3099.99,-1756.93 3099.99,-857.53 3099.99,-805.72 3123.24,-776.87 3084.99,-741.92 3047.23,-707.41 2215.41,-714.52 2164.99,-705.92 2158.42,-704.8 2151.65,-703.31 2144.93,-701.61\"/>\n",
       "<polygon fill=\"#838b8b\" stroke=\"#838b8b\" points=\"2145.73,-698.2 2135.16,-698.98 2143.91,-704.96 2145.73,-698.2\"/>\n",
       "</g>\n",
       "<!-- callgraphX__tile_1_5 -->\n",
       "<g id=\"node10\" class=\"node\">\n",
       "<title>callgraphX__tile_1_5</title>\n",
       "<ellipse fill=\"#fecccc\" fill-opacity=\"0.698039\" stroke=\"black\" cx=\"1128.99\" cy=\"-589.31\" rx=\"79.81\" ry=\"26.74\"/>\n",
       "<text text-anchor=\"middle\" x=\"1128.99\" y=\"-593.11\" font-family=\"Times,serif\" font-size=\"14.00\" fill=\"#000000\">tile_1_5</text>\n",
       "<text text-anchor=\"middle\" x=\"1128.99\" y=\"-578.11\" font-family=\"Times,serif\" font-size=\"14.00\" fill=\"#000000\">(callgraph.py:51)</text>\n",
       "</g>\n",
       "<!-- callgraphX&#45;&gt;callgraphX__tile_1_5 -->\n",
       "<g id=\"edge43\" class=\"edge\">\n",
       "<title>callgraphX&#45;&gt;callgraphX__tile_1_5</title>\n",
       "<path fill=\"none\" stroke=\"#838b8b\" stroke-dasharray=\"5,2\" d=\"M3807.47,-1919.67C3799.45,-1915.2 3790.13,-1910.86 3780.99,-1908.54 3698.44,-1887.57 780.26,-1927.26 714.99,-1872.54 674.55,-1838.64 671.99,-1407.05 671.99,-1128.75 671.99,-1128.75 671.99,-1128.75 671.99,-767.79 671.99,-716.34 642.45,-689.39 677.99,-652.18 734.59,-592.92 964.65,-632.32 1044.99,-616.18 1051.27,-614.92 1057.75,-613.37 1064.2,-611.67\"/>\n",
       "<polygon fill=\"#838b8b\" stroke=\"#838b8b\" points=\"1065.56,-614.93 1074.27,-608.89 1063.7,-608.18 1065.56,-614.93\"/>\n",
       "</g>\n",
       "<!-- callgraphX__tile_1_6 -->\n",
       "<g id=\"node11\" class=\"node\">\n",
       "<title>callgraphX__tile_1_6</title>\n",
       "<ellipse fill=\"#fecccc\" fill-opacity=\"0.698039\" stroke=\"black\" cx=\"810.99\" cy=\"-499.57\" rx=\"79.81\" ry=\"26.74\"/>\n",
       "<text text-anchor=\"middle\" x=\"810.99\" y=\"-503.37\" font-family=\"Times,serif\" font-size=\"14.00\" fill=\"#000000\">tile_1_6</text>\n",
       "<text text-anchor=\"middle\" x=\"810.99\" y=\"-488.37\" font-family=\"Times,serif\" font-size=\"14.00\" fill=\"#000000\">(callgraph.py:56)</text>\n",
       "</g>\n",
       "<!-- callgraphX&#45;&gt;callgraphX__tile_1_6 -->\n",
       "<g id=\"edge49\" class=\"edge\">\n",
       "<title>callgraphX&#45;&gt;callgraphX__tile_1_6</title>\n",
       "<path fill=\"none\" stroke=\"#838b8b\" stroke-dasharray=\"5,2\" d=\"M3807.47,-1919.66C3799.45,-1915.2 3790.13,-1910.86 3780.99,-1908.54 3696.95,-1887.21 724.27,-1930.73 659.99,-1872.54 634.89,-1849.82 611.99,-1431.37 611.99,-1218.49 611.99,-1218.49 611.99,-1218.49 611.99,-678.05 611.99,-622.91 618.21,-601.64 656.99,-562.44 669.95,-549.33 708.44,-533.87 743.69,-521.68\"/>\n",
       "<polygon fill=\"#838b8b\" stroke=\"#838b8b\" points=\"745.18,-524.87 753.52,-518.34 742.93,-518.24 745.18,-524.87\"/>\n",
       "</g>\n",
       "<!-- callgraphX__tile_1_7 -->\n",
       "<g id=\"node12\" class=\"node\">\n",
       "<title>callgraphX__tile_1_7</title>\n",
       "<ellipse fill=\"#fecccc\" fill-opacity=\"0.698039\" stroke=\"black\" cx=\"1714.99\" cy=\"-409.83\" rx=\"79.81\" ry=\"26.74\"/>\n",
       "<text text-anchor=\"middle\" x=\"1714.99\" y=\"-413.63\" font-family=\"Times,serif\" font-size=\"14.00\" fill=\"#000000\">tile_1_7</text>\n",
       "<text text-anchor=\"middle\" x=\"1714.99\" y=\"-398.63\" font-family=\"Times,serif\" font-size=\"14.00\" fill=\"#000000\">(callgraph.py:61)</text>\n",
       "</g>\n",
       "<!-- callgraphX&#45;&gt;callgraphX__tile_1_7 -->\n",
       "<g id=\"edge34\" class=\"edge\">\n",
       "<title>callgraphX&#45;&gt;callgraphX__tile_1_7</title>\n",
       "<path fill=\"none\" stroke=\"#838b8b\" stroke-dasharray=\"5,2\" d=\"M3806.9,-1919.69C3798.98,-1915.34 3789.87,-1911.07 3780.99,-1908.54 3667.86,-1876.39 3359.66,-1922.07 3252.99,-1872.54 3188.1,-1842.42 3140.99,-1828.47 3140.99,-1756.93 3140.99,-1756.93 3140.99,-1756.93 3140.99,-588.31 3140.99,-562.4 3145.21,-490.07 3125.99,-472.7 3072.29,-424.19 1895.74,-446.11 1823.99,-436.7 1811.43,-435.06 1798.22,-432.57 1785.49,-429.79\"/>\n",
       "<polygon fill=\"#838b8b\" stroke=\"#838b8b\" points=\"1785.93,-426.3 1775.4,-427.5 1784.38,-433.13 1785.93,-426.3\"/>\n",
       "</g>\n",
       "<!-- callgraphX__tile_1_8 -->\n",
       "<g id=\"node13\" class=\"node\">\n",
       "<title>callgraphX__tile_1_8</title>\n",
       "<ellipse fill=\"#fecccc\" fill-opacity=\"0.698039\" stroke=\"black\" cx=\"512.99\" cy=\"-140.61\" rx=\"79.81\" ry=\"26.74\"/>\n",
       "<text text-anchor=\"middle\" x=\"512.99\" y=\"-144.41\" font-family=\"Times,serif\" font-size=\"14.00\" fill=\"#000000\">tile_1_8</text>\n",
       "<text text-anchor=\"middle\" x=\"512.99\" y=\"-129.41\" font-family=\"Times,serif\" font-size=\"14.00\" fill=\"#000000\">(callgraph.py:66)</text>\n",
       "</g>\n",
       "<!-- callgraphX&#45;&gt;callgraphX__tile_1_8 -->\n",
       "<g id=\"edge39\" class=\"edge\">\n",
       "<title>callgraphX&#45;&gt;callgraphX__tile_1_8</title>\n",
       "<path fill=\"none\" stroke=\"#838b8b\" stroke-dasharray=\"5,2\" d=\"M3807.48,-1919.66C3799.45,-1915.2 3790.13,-1910.86 3780.99,-1908.54 3695.82,-1886.93 684.1,-1930.42 617.99,-1872.54 564.07,-1825.34 571.99,-1542.74 571.99,-1308.23 571.99,-1308.23 571.99,-1308.23 571.99,-319.09 571.99,-267.45 549.22,-211.47 531.97,-176.48\"/>\n",
       "<polygon fill=\"#838b8b\" stroke=\"#838b8b\" points=\"534.9,-174.53 527.27,-167.18 528.66,-177.69 534.9,-174.53\"/>\n",
       "</g>\n",
       "<!-- callgraphX__tile_2_0 -->\n",
       "<g id=\"node14\" class=\"node\">\n",
       "<title>callgraphX__tile_2_0</title>\n",
       "<ellipse fill=\"#fecccc\" fill-opacity=\"0.698039\" stroke=\"black\" cx=\"1712.99\" cy=\"-1217.49\" rx=\"79.81\" ry=\"26.74\"/>\n",
       "<text text-anchor=\"middle\" x=\"1712.99\" y=\"-1221.29\" font-family=\"Times,serif\" font-size=\"14.00\" fill=\"#000000\">tile_2_0</text>\n",
       "<text text-anchor=\"middle\" x=\"1712.99\" y=\"-1206.29\" font-family=\"Times,serif\" font-size=\"14.00\" fill=\"#000000\">(callgraph.py:71)</text>\n",
       "</g>\n",
       "<!-- callgraphX&#45;&gt;callgraphX__tile_2_0 -->\n",
       "<g id=\"edge45\" class=\"edge\">\n",
       "<title>callgraphX&#45;&gt;callgraphX__tile_2_0</title>\n",
       "<path fill=\"none\" stroke=\"#838b8b\" stroke-dasharray=\"5,2\" d=\"M3807.45,-1919.77C3799.42,-1915.32 3790.1,-1910.96 3780.99,-1908.54 3721.89,-1892.87 2726.08,-1913.84 2680.99,-1872.54 2642.82,-1837.59 2666.99,-1808.69 2666.99,-1756.93 2666.99,-1756.93 2666.99,-1756.93 2666.99,-1395.97 2666.99,-1312.15 2596.19,-1310.54 2517.99,-1280.36 2509.69,-1277.16 2008.02,-1240.11 1800.93,-1224.92\"/>\n",
       "<polygon fill=\"#838b8b\" stroke=\"#838b8b\" points=\"1800.92,-1221.41 1790.69,-1224.17 1800.41,-1228.39 1800.92,-1221.41\"/>\n",
       "</g>\n",
       "<!-- callgraphX__tile_2_1 -->\n",
       "<g id=\"node15\" class=\"node\">\n",
       "<title>callgraphX__tile_2_1</title>\n",
       "<ellipse fill=\"#fecccc\" fill-opacity=\"0.698039\" stroke=\"black\" cx=\"539.99\" cy=\"-2114.89\" rx=\"79.81\" ry=\"26.74\"/>\n",
       "<text text-anchor=\"middle\" x=\"539.99\" y=\"-2118.69\" font-family=\"Times,serif\" font-size=\"14.00\" fill=\"#000000\">tile_2_1</text>\n",
       "<text text-anchor=\"middle\" x=\"539.99\" y=\"-2103.69\" font-family=\"Times,serif\" font-size=\"14.00\" fill=\"#000000\">(callgraph.py:76)</text>\n",
       "</g>\n",
       "<!-- callgraphX&#45;&gt;callgraphX__tile_2_1 -->\n",
       "<g id=\"edge50\" class=\"edge\">\n",
       "<title>callgraphX&#45;&gt;callgraphX__tile_2_1</title>\n",
       "<path fill=\"none\" stroke=\"#838b8b\" stroke-dasharray=\"5,2\" d=\"M3807.47,-1951.16C3799.45,-1955.63 3790.13,-1959.96 3780.99,-1962.28 3615.83,-2004.23 876.82,-1948.07 713.99,-1998.28 659.83,-2014.98 606.96,-2054.37 573.98,-2082.52\"/>\n",
       "<polygon fill=\"#838b8b\" stroke=\"#838b8b\" points=\"571.3,-2080.22 566.04,-2089.42 575.89,-2085.51 571.3,-2080.22\"/>\n",
       "</g>\n",
       "<!-- callgraphX__tile_2_2 -->\n",
       "<g id=\"node16\" class=\"node\">\n",
       "<title>callgraphX__tile_2_2</title>\n",
       "<ellipse fill=\"#fecccc\" fill-opacity=\"0.698039\" stroke=\"black\" cx=\"1857.99\" cy=\"-768.79\" rx=\"79.81\" ry=\"26.74\"/>\n",
       "<text text-anchor=\"middle\" x=\"1857.99\" y=\"-772.59\" font-family=\"Times,serif\" font-size=\"14.00\" fill=\"#000000\">tile_2_2</text>\n",
       "<text text-anchor=\"middle\" x=\"1857.99\" y=\"-757.59\" font-family=\"Times,serif\" font-size=\"14.00\" fill=\"#000000\">(callgraph.py:87)</text>\n",
       "</g>\n",
       "<!-- callgraphX&#45;&gt;callgraphX__tile_2_2 -->\n",
       "<g id=\"edge57\" class=\"edge\">\n",
       "<title>callgraphX&#45;&gt;callgraphX__tile_2_2</title>\n",
       "<path fill=\"none\" stroke=\"#838b8b\" stroke-dasharray=\"5,2\" d=\"M3806.93,-1919.59C3799.01,-1915.23 3789.89,-1910.98 3780.99,-1908.54 3703.1,-1887.18 3115.47,-1926.07 3054.99,-1872.54 3015.94,-1837.98 3034.99,-1809.08 3034.99,-1756.93 3034.99,-1756.93 3034.99,-1756.93 3034.99,-947.27 3034.99,-702.06 2181.93,-846.25 1941.99,-795.66 1935.82,-794.36 1929.45,-792.8 1923.1,-791.11\"/>\n",
       "<polygon fill=\"#838b8b\" stroke=\"#838b8b\" points=\"1923.76,-787.66 1913.19,-788.35 1921.89,-794.4 1923.76,-787.66\"/>\n",
       "</g>\n",
       "<!-- callgraphX__tile_2_3 -->\n",
       "<g id=\"node17\" class=\"node\">\n",
       "<title>callgraphX__tile_2_3</title>\n",
       "<ellipse fill=\"#fecccc\" fill-opacity=\"0.698039\" stroke=\"black\" cx=\"1631.99\" cy=\"-858.53\" rx=\"79.81\" ry=\"26.74\"/>\n",
       "<text text-anchor=\"middle\" x=\"1631.99\" y=\"-862.33\" font-family=\"Times,serif\" font-size=\"14.00\" fill=\"#000000\">tile_2_3</text>\n",
       "<text text-anchor=\"middle\" x=\"1631.99\" y=\"-847.33\" font-family=\"Times,serif\" font-size=\"14.00\" fill=\"#000000\">(callgraph.py:92)</text>\n",
       "</g>\n",
       "<!-- callgraphX&#45;&gt;callgraphX__tile_2_3 -->\n",
       "<g id=\"edge59\" class=\"edge\">\n",
       "<title>callgraphX&#45;&gt;callgraphX__tile_2_3</title>\n",
       "<path fill=\"none\" stroke=\"#838b8b\" stroke-dasharray=\"5,2\" d=\"M3807.43,-1919.85C3799.39,-1915.4 3790.08,-1911.03 3780.99,-1908.54 3700.4,-1886.51 3092.12,-1928.38 3029.99,-1872.54 2991.31,-1837.78 3011.99,-1808.93 3011.99,-1756.93 3011.99,-1756.93 3011.99,-1756.93 3011.99,-1037.01 3011.99,-985.2 3035.43,-956.14 2996.99,-921.4 2944.17,-873.66 1786.23,-896.98 1715.99,-885.4 1709.41,-884.32 1702.64,-882.85 1695.92,-881.16\"/>\n",
       "<polygon fill=\"#838b8b\" stroke=\"#838b8b\" points=\"1696.71,-877.75 1686.15,-878.55 1694.91,-884.51 1696.71,-877.75\"/>\n",
       "</g>\n",
       "<!-- callgraphX__tile_2_4 -->\n",
       "<g id=\"node18\" class=\"node\">\n",
       "<title>callgraphX__tile_2_4</title>\n",
       "<ellipse fill=\"#fecccc\" fill-opacity=\"0.698039\" stroke=\"black\" cx=\"1631.99\" cy=\"-768.79\" rx=\"84.71\" ry=\"26.74\"/>\n",
       "<text text-anchor=\"middle\" x=\"1631.99\" y=\"-772.59\" font-family=\"Times,serif\" font-size=\"14.00\" fill=\"#000000\">tile_2_4</text>\n",
       "<text text-anchor=\"middle\" x=\"1631.99\" y=\"-757.59\" font-family=\"Times,serif\" font-size=\"14.00\" fill=\"#000000\">(callgraph.py:100)</text>\n",
       "</g>\n",
       "<!-- callgraphX&#45;&gt;callgraphX__tile_2_4 -->\n",
       "<g id=\"edge62\" class=\"edge\">\n",
       "<title>callgraphX&#45;&gt;callgraphX__tile_2_4</title>\n",
       "<path fill=\"none\" stroke=\"#838b8b\" stroke-dasharray=\"5,2\" d=\"M3807.47,-1919.67C3799.45,-1915.2 3790.13,-1910.86 3780.99,-1908.54 3700.08,-1887.98 836.93,-1929.59 775.99,-1872.54 768.77,-1865.79 731.99,-1655.19 731.99,-1039.01 731.99,-1039.01 731.99,-1039.01 731.99,-947.27 731.99,-763.93 1362.93,-830.21 1542.99,-795.66 1549.68,-794.38 1556.59,-792.81 1563.46,-791.09\"/>\n",
       "<polygon fill=\"#838b8b\" stroke=\"#838b8b\" points=\"1564.69,-794.39 1573.48,-788.48 1562.92,-787.62 1564.69,-794.39\"/>\n",
       "</g>\n",
       "<!-- callgraphX__tile_2_5 -->\n",
       "<g id=\"node19\" class=\"node\">\n",
       "<title>callgraphX__tile_2_5</title>\n",
       "<ellipse fill=\"#fecccc\" fill-opacity=\"0.698039\" stroke=\"black\" cx=\"1819.99\" cy=\"-679.05\" rx=\"84.71\" ry=\"26.74\"/>\n",
       "<text text-anchor=\"middle\" x=\"1819.99\" y=\"-682.85\" font-family=\"Times,serif\" font-size=\"14.00\" fill=\"#000000\">tile_2_5</text>\n",
       "<text text-anchor=\"middle\" x=\"1819.99\" y=\"-667.85\" font-family=\"Times,serif\" font-size=\"14.00\" fill=\"#000000\">(callgraph.py:108)</text>\n",
       "</g>\n",
       "<!-- callgraphX&#45;&gt;callgraphX__tile_2_5 -->\n",
       "<g id=\"edge2\" class=\"edge\">\n",
       "<title>callgraphX&#45;&gt;callgraphX__tile_2_5</title>\n",
       "<path fill=\"none\" stroke=\"#838b8b\" stroke-dasharray=\"5,2\" d=\"M3806.93,-1919.6C3799.01,-1915.25 3789.89,-1911 3780.99,-1908.54 3706.76,-1888.09 3144.13,-1926.28 3088.99,-1872.54 3052.08,-1836.57 3079.99,-1808.47 3079.99,-1756.93 3079.99,-1756.93 3079.99,-1756.93 3079.99,-857.53 3079.99,-831.62 3084.16,-759.34 3064.99,-741.92 3020.85,-701.81 2051.38,-711.37 1991.99,-705.92 1962.93,-703.26 1931.3,-698.92 1903.18,-694.55\"/>\n",
       "<polygon fill=\"#838b8b\" stroke=\"#838b8b\" points=\"1903.42,-691.04 1893,-692.94 1902.33,-697.96 1903.42,-691.04\"/>\n",
       "</g>\n",
       "<!-- callgraphX__tile_2_6 -->\n",
       "<g id=\"node20\" class=\"node\">\n",
       "<title>callgraphX__tile_2_6</title>\n",
       "<ellipse fill=\"#fecccc\" fill-opacity=\"0.698039\" stroke=\"black\" cx=\"1550.99\" cy=\"-589.31\" rx=\"84.71\" ry=\"26.74\"/>\n",
       "<text text-anchor=\"middle\" x=\"1550.99\" y=\"-593.11\" font-family=\"Times,serif\" font-size=\"14.00\" fill=\"#000000\">tile_2_6</text>\n",
       "<text text-anchor=\"middle\" x=\"1550.99\" y=\"-578.11\" font-family=\"Times,serif\" font-size=\"14.00\" fill=\"#000000\">(callgraph.py:116)</text>\n",
       "</g>\n",
       "<!-- callgraphX&#45;&gt;callgraphX__tile_2_6 -->\n",
       "<g id=\"edge3\" class=\"edge\">\n",
       "<title>callgraphX&#45;&gt;callgraphX__tile_2_6</title>\n",
       "<path fill=\"none\" stroke=\"#838b8b\" stroke-dasharray=\"5,2\" d=\"M3807.47,-1919.67C3799.45,-1915.2 3790.13,-1910.86 3780.99,-1908.54 3699.19,-1887.76 805.23,-1929.53 742.99,-1872.54 675.88,-1811.1 691.99,-1442.94 691.99,-1039.01 691.99,-1039.01 691.99,-1039.01 691.99,-767.79 691.99,-654.33 599.21,-733.77 956.99,-652.18 1050.09,-630.95 1316.75,-608.24 1459,-597.17\"/>\n",
       "<polygon fill=\"#838b8b\" stroke=\"#838b8b\" points=\"1459.33,-600.66 1469.03,-596.39 1458.78,-593.68 1459.33,-600.66\"/>\n",
       "</g>\n",
       "<!-- callgraphX__tile_2_7 -->\n",
       "<g id=\"node21\" class=\"node\">\n",
       "<title>callgraphX__tile_2_7</title>\n",
       "<ellipse fill=\"#fecccc\" fill-opacity=\"0.698039\" stroke=\"black\" cx=\"1550.99\" cy=\"-499.57\" rx=\"84.71\" ry=\"26.74\"/>\n",
       "<text text-anchor=\"middle\" x=\"1550.99\" y=\"-503.37\" font-family=\"Times,serif\" font-size=\"14.00\" fill=\"#000000\">tile_2_7</text>\n",
       "<text text-anchor=\"middle\" x=\"1550.99\" y=\"-488.37\" font-family=\"Times,serif\" font-size=\"14.00\" fill=\"#000000\">(callgraph.py:124)</text>\n",
       "</g>\n",
       "<!-- callgraphX&#45;&gt;callgraphX__tile_2_7 -->\n",
       "<g id=\"edge7\" class=\"edge\">\n",
       "<title>callgraphX&#45;&gt;callgraphX__tile_2_7</title>\n",
       "<path fill=\"none\" stroke=\"#838b8b\" stroke-dasharray=\"5,2\" d=\"M3807.47,-1919.67C3799.45,-1915.2 3790.13,-1910.86 3780.99,-1908.54 3697.9,-1887.44 759.17,-1929.38 694.99,-1872.54 666.84,-1847.62 651.99,-1423.31 651.99,-1218.49 651.99,-1218.49 651.99,-1218.49 651.99,-678.05 651.99,-666.34 648.87,-660.62 656.99,-652.18 712.54,-594.41 1245.42,-532.61 1461.07,-509.75\"/>\n",
       "<polygon fill=\"#838b8b\" stroke=\"#838b8b\" points=\"1461.52,-513.22 1471.1,-508.69 1460.78,-506.26 1461.52,-513.22\"/>\n",
       "</g>\n",
       "<!-- callgraphX__tile_2_8 -->\n",
       "<g id=\"node22\" class=\"node\">\n",
       "<title>callgraphX__tile_2_8</title>\n",
       "<ellipse fill=\"#fecccc\" fill-opacity=\"0.698039\" stroke=\"black\" cx=\"1531.99\" cy=\"-409.83\" rx=\"84.71\" ry=\"26.74\"/>\n",
       "<text text-anchor=\"middle\" x=\"1531.99\" y=\"-413.63\" font-family=\"Times,serif\" font-size=\"14.00\" fill=\"#000000\">tile_2_8</text>\n",
       "<text text-anchor=\"middle\" x=\"1531.99\" y=\"-398.63\" font-family=\"Times,serif\" font-size=\"14.00\" fill=\"#000000\">(callgraph.py:132)</text>\n",
       "</g>\n",
       "<!-- callgraphX&#45;&gt;callgraphX__tile_2_8 -->\n",
       "<g id=\"edge11\" class=\"edge\">\n",
       "<title>callgraphX&#45;&gt;callgraphX__tile_2_8</title>\n",
       "<path fill=\"none\" stroke=\"#838b8b\" stroke-dasharray=\"5,2\" d=\"M3806.92,-1919.63C3799,-1915.28 3789.88,-1911.02 3780.99,-1908.54 3714.09,-1889.9 3211.71,-1915.3 3156.99,-1872.54 3114.58,-1839.41 3120.99,-1810.75 3120.99,-1756.93 3120.99,-1756.93 3120.99,-1756.93 3120.99,-588.31 3120.99,-421.35 1790.11,-467.38 1625.99,-436.7 1618.06,-435.22 1609.83,-433.39 1601.69,-431.4\"/>\n",
       "<polygon fill=\"#838b8b\" stroke=\"#838b8b\" points=\"1602.37,-427.96 1591.81,-428.9 1600.65,-434.75 1602.37,-427.96\"/>\n",
       "</g>\n",
       "<!-- callgraphX__tile_3_0 -->\n",
       "<g id=\"node23\" class=\"node\">\n",
       "<title>callgraphX__tile_3_0</title>\n",
       "<ellipse fill=\"#fecccc\" fill-opacity=\"0.698039\" stroke=\"black\" cx=\"159.99\" cy=\"-1935.41\" rx=\"84.71\" ry=\"26.74\"/>\n",
       "<text text-anchor=\"middle\" x=\"159.99\" y=\"-1939.21\" font-family=\"Times,serif\" font-size=\"14.00\" fill=\"#000000\">tile_3_0</text>\n",
       "<text text-anchor=\"middle\" x=\"159.99\" y=\"-1924.21\" font-family=\"Times,serif\" font-size=\"14.00\" fill=\"#000000\">(callgraph.py:137)</text>\n",
       "</g>\n",
       "<!-- callgraphX&#45;&gt;callgraphX__tile_3_0 -->\n",
       "<g id=\"edge17\" class=\"edge\">\n",
       "<title>callgraphX&#45;&gt;callgraphX__tile_3_0</title>\n",
       "<path fill=\"none\" stroke=\"#838b8b\" stroke-dasharray=\"5,2\" d=\"M3814.03,-1952.51C3803.27,-1962.73 3788.13,-1974.77 3771.99,-1980.28 3681.59,-2011.17 427.75,-1992.37 332.99,-1980.28 298.27,-1975.85 260.56,-1966.62 229.24,-1957.67\"/>\n",
       "<polygon fill=\"#838b8b\" stroke=\"#838b8b\" points=\"229.88,-1954.21 219.31,-1954.78 227.93,-1960.93 229.88,-1954.21\"/>\n",
       "</g>\n",
       "<!-- callgraphX__tile_3_1 -->\n",
       "<g id=\"node24\" class=\"node\">\n",
       "<title>callgraphX__tile_3_1</title>\n",
       "<ellipse fill=\"#fecccc\" fill-opacity=\"0.698039\" stroke=\"black\" cx=\"417.99\" cy=\"-2025.15\" rx=\"84.71\" ry=\"26.74\"/>\n",
       "<text text-anchor=\"middle\" x=\"417.99\" y=\"-2028.95\" font-family=\"Times,serif\" font-size=\"14.00\" fill=\"#000000\">tile_3_1</text>\n",
       "<text text-anchor=\"middle\" x=\"417.99\" y=\"-2013.95\" font-family=\"Times,serif\" font-size=\"14.00\" fill=\"#000000\">(callgraph.py:142)</text>\n",
       "</g>\n",
       "<!-- callgraphX&#45;&gt;callgraphX__tile_3_1 -->\n",
       "<g id=\"edge22\" class=\"edge\">\n",
       "<title>callgraphX&#45;&gt;callgraphX__tile_3_1</title>\n",
       "<path fill=\"none\" stroke=\"#838b8b\" stroke-dasharray=\"5,2\" d=\"M3807.48,-1951.16C3799.45,-1955.63 3790.13,-1959.96 3780.99,-1962.28 3604.67,-2007 686.93,-1971.65 506.99,-1998.28 499.68,-1999.36 492.14,-2000.89 484.67,-2002.66\"/>\n",
       "<polygon fill=\"#838b8b\" stroke=\"#838b8b\" points=\"483.77,-1999.28 474.93,-2005.12 485.48,-2006.07 483.77,-1999.28\"/>\n",
       "</g>\n",
       "<!-- callgraphX__tile_3_2 -->\n",
       "<g id=\"node25\" class=\"node\">\n",
       "<title>callgraphX__tile_3_2</title>\n",
       "<ellipse fill=\"#fecccc\" fill-opacity=\"0.698039\" stroke=\"black\" cx=\"1263.99\" cy=\"-858.53\" rx=\"84.71\" ry=\"26.74\"/>\n",
       "<text text-anchor=\"middle\" x=\"1263.99\" y=\"-862.33\" font-family=\"Times,serif\" font-size=\"14.00\" fill=\"#000000\">tile_3_2</text>\n",
       "<text text-anchor=\"middle\" x=\"1263.99\" y=\"-847.33\" font-family=\"Times,serif\" font-size=\"14.00\" fill=\"#000000\">(callgraph.py:150)</text>\n",
       "</g>\n",
       "<!-- callgraphX&#45;&gt;callgraphX__tile_3_2 -->\n",
       "<g id=\"edge36\" class=\"edge\">\n",
       "<title>callgraphX&#45;&gt;callgraphX__tile_3_2</title>\n",
       "<path fill=\"none\" stroke=\"#838b8b\" stroke-dasharray=\"5,2\" d=\"M3807.43,-1919.84C3799.4,-1915.39 3790.08,-1911.02 3780.99,-1908.54 3697.39,-1885.77 3064.47,-1932.57 3001.99,-1872.54 2964.8,-1836.81 2991.99,-1808.51 2991.99,-1756.93 2991.99,-1756.93 2991.99,-1756.93 2991.99,-1037.01 2991.99,-1026.62 1709.95,-902.45 1354.43,-868.22\"/>\n",
       "<polygon fill=\"#838b8b\" stroke=\"#838b8b\" points=\"1354.73,-864.73 1344.44,-867.26 1354.06,-871.7 1354.73,-864.73\"/>\n",
       "</g>\n",
       "<!-- callgraphX__tile_3_3 -->\n",
       "<g id=\"node26\" class=\"node\">\n",
       "<title>callgraphX__tile_3_3</title>\n",
       "<ellipse fill=\"#fecccc\" fill-opacity=\"0.698039\" stroke=\"black\" cx=\"1263.99\" cy=\"-948.27\" rx=\"84.71\" ry=\"26.74\"/>\n",
       "<text text-anchor=\"middle\" x=\"1263.99\" y=\"-952.07\" font-family=\"Times,serif\" font-size=\"14.00\" fill=\"#000000\">tile_3_3</text>\n",
       "<text text-anchor=\"middle\" x=\"1263.99\" y=\"-937.07\" font-family=\"Times,serif\" font-size=\"14.00\" fill=\"#000000\">(callgraph.py:155)</text>\n",
       "</g>\n",
       "<!-- callgraphX&#45;&gt;callgraphX__tile_3_3 -->\n",
       "<g id=\"edge41\" class=\"edge\">\n",
       "<title>callgraphX&#45;&gt;callgraphX__tile_3_3</title>\n",
       "<path fill=\"none\" stroke=\"#838b8b\" stroke-dasharray=\"5,2\" d=\"M3807.47,-1919.67C3799.45,-1915.2 3790.13,-1910.87 3780.99,-1908.54 3701.54,-1888.34 890.44,-1927.91 829.99,-1872.54 770.96,-1818.48 819.44,-1772.99 814.99,-1693.06 806.55,-1541.54 730.78,-1102.46 851.99,-1011.14 864.83,-1001.47 1058.61,-975.38 1175.77,-960.35\"/>\n",
       "<polygon fill=\"#838b8b\" stroke=\"#838b8b\" points=\"1176.34,-963.81 1185.81,-959.07 1175.45,-956.86 1176.34,-963.81\"/>\n",
       "</g>\n",
       "<!-- callgraphX__tile_3_4 -->\n",
       "<g id=\"node27\" class=\"node\">\n",
       "<title>callgraphX__tile_3_4</title>\n",
       "<ellipse fill=\"#fecccc\" fill-opacity=\"0.698039\" stroke=\"black\" cx=\"1631.99\" cy=\"-679.05\" rx=\"84.71\" ry=\"26.74\"/>\n",
       "<text text-anchor=\"middle\" x=\"1631.99\" y=\"-682.85\" font-family=\"Times,serif\" font-size=\"14.00\" fill=\"#000000\">tile_3_4</text>\n",
       "<text text-anchor=\"middle\" x=\"1631.99\" y=\"-667.85\" font-family=\"Times,serif\" font-size=\"14.00\" fill=\"#000000\">(callgraph.py:163)</text>\n",
       "</g>\n",
       "<!-- callgraphX&#45;&gt;callgraphX__tile_3_4 -->\n",
       "<g id=\"edge44\" class=\"edge\">\n",
       "<title>callgraphX&#45;&gt;callgraphX__tile_3_4</title>\n",
       "<path fill=\"none\" stroke=\"#838b8b\" stroke-dasharray=\"5,2\" d=\"M3806.93,-1919.59C3799.01,-1915.24 3789.89,-1910.99 3780.99,-1908.54 3704.18,-1887.45 3121.12,-1929.06 3064.99,-1872.54 3028.75,-1836.05 3059.99,-1808.36 3059.99,-1756.93 3059.99,-1756.93 3059.99,-1756.93 3059.99,-857.53 3059.99,-817.19 3012.57,-839.47 2972.99,-831.66 2836.36,-804.71 1862.88,-731.47 1725.99,-705.92 1718.06,-704.44 1709.83,-702.62 1701.68,-700.63\"/>\n",
       "<polygon fill=\"#838b8b\" stroke=\"#838b8b\" points=\"1702.37,-697.19 1691.81,-698.13 1700.65,-703.98 1702.37,-697.19\"/>\n",
       "</g>\n",
       "<!-- callgraphX__tile_3_5 -->\n",
       "<g id=\"node28\" class=\"node\">\n",
       "<title>callgraphX__tile_3_5</title>\n",
       "<ellipse fill=\"#fecccc\" fill-opacity=\"0.698039\" stroke=\"black\" cx=\"2015.99\" cy=\"-589.31\" rx=\"84.71\" ry=\"26.74\"/>\n",
       "<text text-anchor=\"middle\" x=\"2015.99\" y=\"-593.11\" font-family=\"Times,serif\" font-size=\"14.00\" fill=\"#000000\">tile_3_5</text>\n",
       "<text text-anchor=\"middle\" x=\"2015.99\" y=\"-578.11\" font-family=\"Times,serif\" font-size=\"14.00\" fill=\"#000000\">(callgraph.py:168)</text>\n",
       "</g>\n",
       "<!-- callgraphX&#45;&gt;callgraphX__tile_3_5 -->\n",
       "<g id=\"edge51\" class=\"edge\">\n",
       "<title>callgraphX&#45;&gt;callgraphX__tile_3_5</title>\n",
       "<path fill=\"none\" stroke=\"#838b8b\" stroke-dasharray=\"5,2\" d=\"M3807.47,-1919.67C3799.45,-1915.2 3790.13,-1910.86 3780.99,-1908.54 3699.7,-1887.89 824.15,-1928.84 761.99,-1872.54 726.82,-1840.69 711.99,-1237.54 711.99,-1039.01 711.99,-1039.01 711.99,-1039.01 711.99,-767.79 711.99,-706.54 1627.11,-623.36 1924.12,-597.98\"/>\n",
       "<polygon fill=\"#838b8b\" stroke=\"#838b8b\" points=\"1924.75,-601.43 1934.42,-597.1 1924.16,-594.46 1924.75,-601.43\"/>\n",
       "</g>\n",
       "<!-- callgraphX__tile_3_6 -->\n",
       "<g id=\"node29\" class=\"node\">\n",
       "<title>callgraphX__tile_3_6</title>\n",
       "<ellipse fill=\"#fecccc\" fill-opacity=\"0.698039\" stroke=\"black\" cx=\"1571.99\" cy=\"-320.09\" rx=\"84.71\" ry=\"26.74\"/>\n",
       "<text text-anchor=\"middle\" x=\"1571.99\" y=\"-323.89\" font-family=\"Times,serif\" font-size=\"14.00\" fill=\"#000000\">tile_3_6</text>\n",
       "<text text-anchor=\"middle\" x=\"1571.99\" y=\"-308.89\" font-family=\"Times,serif\" font-size=\"14.00\" fill=\"#000000\">(callgraph.py:173)</text>\n",
       "</g>\n",
       "<!-- callgraphX&#45;&gt;callgraphX__tile_3_6 -->\n",
       "<g id=\"edge55\" class=\"edge\">\n",
       "<title>callgraphX&#45;&gt;callgraphX__tile_3_6</title>\n",
       "<path fill=\"none\" stroke=\"#838b8b\" stroke-dasharray=\"5,2\" d=\"M3806.89,-1919.72C3798.97,-1915.37 3789.86,-1911.09 3780.99,-1908.54 3728.84,-1893.56 3332.43,-1910.83 3293.99,-1872.54 3257.47,-1836.17 3284.99,-1808.47 3284.99,-1756.93 3284.99,-1756.93 3284.99,-1756.93 3284.99,-498.57 3284.99,-458.23 3237.59,-480.36 3197.99,-472.7 2900.19,-415.12 1964.35,-347.88 1665.03,-327.35\"/>\n",
       "<polygon fill=\"#838b8b\" stroke=\"#838b8b\" points=\"1664.87,-323.83 1654.65,-326.64 1664.39,-330.82 1664.87,-323.83\"/>\n",
       "</g>\n",
       "<!-- callgraphX__tile_3_7 -->\n",
       "<g id=\"node30\" class=\"node\">\n",
       "<title>callgraphX__tile_3_7</title>\n",
       "<ellipse fill=\"#fecccc\" fill-opacity=\"0.698039\" stroke=\"black\" cx=\"1917.99\" cy=\"-409.83\" rx=\"84.71\" ry=\"26.74\"/>\n",
       "<text text-anchor=\"middle\" x=\"1917.99\" y=\"-413.63\" font-family=\"Times,serif\" font-size=\"14.00\" fill=\"#000000\">tile_3_7</text>\n",
       "<text text-anchor=\"middle\" x=\"1917.99\" y=\"-398.63\" font-family=\"Times,serif\" font-size=\"14.00\" fill=\"#000000\">(callgraph.py:178)</text>\n",
       "</g>\n",
       "<!-- callgraphX&#45;&gt;callgraphX__tile_3_7 -->\n",
       "<g id=\"edge60\" class=\"edge\">\n",
       "<title>callgraphX&#45;&gt;callgraphX__tile_3_7</title>\n",
       "<path fill=\"none\" stroke=\"#838b8b\" stroke-dasharray=\"5,2\" d=\"M3806.9,-1919.71C3798.98,-1915.36 3789.87,-1911.08 3780.99,-1908.54 3727.33,-1893.19 3320.73,-1910.69 3279.99,-1872.54 3242.12,-1837.09 3263.99,-1808.8 3263.99,-1756.93 3263.99,-1756.93 3263.99,-1756.93 3263.99,-588.31 3263.99,-514.89 3213.52,-501.52 3145.99,-472.7 3029.53,-423 2132.05,-456.53 2006.99,-436.7 1999.89,-435.57 1992.55,-434.05 1985.28,-432.31\"/>\n",
       "<polygon fill=\"#838b8b\" stroke=\"#838b8b\" points=\"1985.99,-428.88 1975.44,-429.81 1984.27,-435.66 1985.99,-428.88\"/>\n",
       "</g>\n",
       "<!-- callgraphX__tile_3_8 -->\n",
       "<g id=\"node31\" class=\"node\">\n",
       "<title>callgraphX__tile_3_8</title>\n",
       "<ellipse fill=\"#fecccc\" fill-opacity=\"0.698039\" stroke=\"black\" cx=\"1103.99\" cy=\"-320.09\" rx=\"84.71\" ry=\"26.74\"/>\n",
       "<text text-anchor=\"middle\" x=\"1103.99\" y=\"-323.89\" font-family=\"Times,serif\" font-size=\"14.00\" fill=\"#000000\">tile_3_8</text>\n",
       "<text text-anchor=\"middle\" x=\"1103.99\" y=\"-308.89\" font-family=\"Times,serif\" font-size=\"14.00\" fill=\"#000000\">(callgraph.py:186)</text>\n",
       "</g>\n",
       "<!-- callgraphX&#45;&gt;callgraphX__tile_3_8 -->\n",
       "<g id=\"edge64\" class=\"edge\">\n",
       "<title>callgraphX&#45;&gt;callgraphX__tile_3_8</title>\n",
       "<path fill=\"none\" stroke=\"#838b8b\" stroke-dasharray=\"5,2\" d=\"M3807.48,-1919.66C3799.45,-1915.2 3790.13,-1910.86 3780.99,-1908.54 3696.47,-1887.09 706.64,-1931.06 641.99,-1872.54 628.98,-1860.76 591.99,-1780.06 591.99,-1308.23 591.99,-1308.23 591.99,-1308.23 591.99,-498.57 591.99,-475.49 893,-383.46 1033.42,-341.79\"/>\n",
       "<polygon fill=\"#838b8b\" stroke=\"#838b8b\" points=\"1034.65,-345.07 1043.24,-338.87 1032.66,-338.36 1034.65,-345.07\"/>\n",
       "</g>\n",
       "<!-- callgraphX__tile_4_0 -->\n",
       "<g id=\"node32\" class=\"node\">\n",
       "<title>callgraphX__tile_4_0</title>\n",
       "<ellipse fill=\"#fecccc\" fill-opacity=\"0.698039\" stroke=\"black\" cx=\"259.99\" cy=\"-1845.67\" rx=\"84.71\" ry=\"26.74\"/>\n",
       "<text text-anchor=\"middle\" x=\"259.99\" y=\"-1849.47\" font-family=\"Times,serif\" font-size=\"14.00\" fill=\"#000000\">tile_4_0</text>\n",
       "<text text-anchor=\"middle\" x=\"259.99\" y=\"-1834.47\" font-family=\"Times,serif\" font-size=\"14.00\" fill=\"#000000\">(callgraph.py:191)</text>\n",
       "</g>\n",
       "<!-- callgraphX&#45;&gt;callgraphX__tile_4_0 -->\n",
       "<g id=\"edge1\" class=\"edge\">\n",
       "<title>callgraphX&#45;&gt;callgraphX__tile_4_0</title>\n",
       "<path fill=\"none\" stroke=\"#838b8b\" stroke-dasharray=\"5,2\" d=\"M3807.48,-1919.66C3799.45,-1915.19 3790.13,-1910.86 3780.99,-1908.54 3596.42,-1861.78 542.54,-1899.02 353.99,-1872.54 345.62,-1871.37 336.93,-1869.66 328.38,-1867.69\"/>\n",
       "<polygon fill=\"#838b8b\" stroke=\"#838b8b\" points=\"328.96,-1864.23 318.42,-1865.25 327.3,-1871.03 328.96,-1864.23\"/>\n",
       "</g>\n",
       "<!-- callgraphX__tile_4_1 -->\n",
       "<g id=\"node33\" class=\"node\">\n",
       "<title>callgraphX__tile_4_1</title>\n",
       "<ellipse fill=\"#fecccc\" fill-opacity=\"0.698039\" stroke=\"black\" cx=\"417.99\" cy=\"-1935.41\" rx=\"84.71\" ry=\"26.74\"/>\n",
       "<text text-anchor=\"middle\" x=\"417.99\" y=\"-1939.21\" font-family=\"Times,serif\" font-size=\"14.00\" fill=\"#000000\">tile_4_1</text>\n",
       "<text text-anchor=\"middle\" x=\"417.99\" y=\"-1924.21\" font-family=\"Times,serif\" font-size=\"14.00\" fill=\"#000000\">(callgraph.py:196)</text>\n",
       "</g>\n",
       "<!-- callgraphX&#45;&gt;callgraphX__tile_4_1 -->\n",
       "<g id=\"edge4\" class=\"edge\">\n",
       "<title>callgraphX&#45;&gt;callgraphX__tile_4_1</title>\n",
       "<path fill=\"none\" stroke=\"#838b8b\" stroke-dasharray=\"5,2\" d=\"M3784.91,-1935.41C2694.26,-1935.41 1603.62,-1935.41 512.97,-1935.41\"/>\n",
       "<polygon fill=\"#838b8b\" stroke=\"#838b8b\" points=\"512.96,-1931.91 502.96,-1935.41 512.96,-1938.91 512.96,-1931.91\"/>\n",
       "</g>\n",
       "<!-- callgraphX__tile_4_2 -->\n",
       "<g id=\"node34\" class=\"node\">\n",
       "<title>callgraphX__tile_4_2</title>\n",
       "<ellipse fill=\"#fecccc\" fill-opacity=\"0.698039\" stroke=\"black\" cx=\"955.99\" cy=\"-948.27\" rx=\"84.71\" ry=\"26.74\"/>\n",
       "<text text-anchor=\"middle\" x=\"955.99\" y=\"-952.07\" font-family=\"Times,serif\" font-size=\"14.00\" fill=\"#000000\">tile_4_2</text>\n",
       "<text text-anchor=\"middle\" x=\"955.99\" y=\"-937.07\" font-family=\"Times,serif\" font-size=\"14.00\" fill=\"#000000\">(callgraph.py:204)</text>\n",
       "</g>\n",
       "<!-- callgraphX&#45;&gt;callgraphX__tile_4_2 -->\n",
       "<g id=\"edge8\" class=\"edge\">\n",
       "<title>callgraphX&#45;&gt;callgraphX__tile_4_2</title>\n",
       "<path fill=\"none\" stroke=\"#838b8b\" stroke-dasharray=\"5,2\" d=\"M3807.47,-1919.67C3799.45,-1915.2 3790.13,-1910.86 3780.99,-1908.54 3700.65,-1888.12 856.17,-1930.58 796.99,-1872.54 749.99,-1826.45 779.62,-1346.19 779.99,-1280.36 780.43,-1200.53 773.95,-1179.64 786.99,-1100.88 793.73,-1060.15 783.94,-1042.33 810.99,-1011.14 822.09,-998.34 856.35,-983.46 888.79,-971.49\"/>\n",
       "<polygon fill=\"#838b8b\" stroke=\"#838b8b\" points=\"890.11,-974.74 898.31,-968.04 887.72,-968.16 890.11,-974.74\"/>\n",
       "</g>\n",
       "<!-- callgraphX__tile_4_3 -->\n",
       "<g id=\"node35\" class=\"node\">\n",
       "<title>callgraphX__tile_4_3</title>\n",
       "<ellipse fill=\"#fecccc\" fill-opacity=\"0.698039\" stroke=\"black\" cx=\"1451.99\" cy=\"-1038.01\" rx=\"84.71\" ry=\"26.74\"/>\n",
       "<text text-anchor=\"middle\" x=\"1451.99\" y=\"-1041.81\" font-family=\"Times,serif\" font-size=\"14.00\" fill=\"#000000\">tile_4_3</text>\n",
       "<text text-anchor=\"middle\" x=\"1451.99\" y=\"-1026.81\" font-family=\"Times,serif\" font-size=\"14.00\" fill=\"#000000\">(callgraph.py:209)</text>\n",
       "</g>\n",
       "<!-- callgraphX&#45;&gt;callgraphX__tile_4_3 -->\n",
       "<g id=\"edge12\" class=\"edge\">\n",
       "<title>callgraphX&#45;&gt;callgraphX__tile_4_3</title>\n",
       "<path fill=\"none\" stroke=\"#838b8b\" stroke-dasharray=\"5,2\" d=\"M3807.47,-1919.67C3799.45,-1915.2 3790.13,-1910.87 3780.99,-1908.54 3702.27,-1888.52 915.11,-1929.29 856.99,-1872.54 841.64,-1857.56 816.34,-1116.55 830.99,-1100.88 871.44,-1057.6 1304.65,-1075.21 1362.99,-1064.88 1369.96,-1063.65 1377.16,-1062.07 1384.32,-1060.31\"/>\n",
       "<polygon fill=\"#838b8b\" stroke=\"#838b8b\" points=\"1385.2,-1063.7 1394.01,-1057.81 1383.45,-1056.92 1385.2,-1063.7\"/>\n",
       "</g>\n",
       "<!-- callgraphX__tile_4_4 -->\n",
       "<g id=\"node36\" class=\"node\">\n",
       "<title>callgraphX__tile_4_4</title>\n",
       "<ellipse fill=\"#fecccc\" fill-opacity=\"0.698039\" stroke=\"black\" cx=\"2077.99\" cy=\"-1127.75\" rx=\"84.71\" ry=\"26.74\"/>\n",
       "<text text-anchor=\"middle\" x=\"2077.99\" y=\"-1131.55\" font-family=\"Times,serif\" font-size=\"14.00\" fill=\"#000000\">tile_4_4</text>\n",
       "<text text-anchor=\"middle\" x=\"2077.99\" y=\"-1116.55\" font-family=\"Times,serif\" font-size=\"14.00\" fill=\"#000000\">(callgraph.py:217)</text>\n",
       "</g>\n",
       "<!-- callgraphX&#45;&gt;callgraphX__tile_4_4 -->\n",
       "<g id=\"edge14\" class=\"edge\">\n",
       "<title>callgraphX&#45;&gt;callgraphX__tile_4_4</title>\n",
       "<path fill=\"none\" stroke=\"#838b8b\" stroke-dasharray=\"5,2\" d=\"M3807.44,-1919.79C3799.41,-1915.33 3790.1,-1910.97 3780.99,-1908.54 3726.15,-1893.92 2802.91,-1909.68 2759.99,-1872.54 2720.49,-1838.38 2738.99,-1809.16 2738.99,-1756.93 2738.99,-1756.93 2738.99,-1756.93 2738.99,-1306.23 2738.99,-1254.53 2763.41,-1226.3 2725.99,-1190.62 2680.94,-1147.67 2228.29,-1165.37 2166.99,-1154.62 2160.01,-1153.4 2152.81,-1151.83 2145.66,-1150.08\"/>\n",
       "<polygon fill=\"#838b8b\" stroke=\"#838b8b\" points=\"2146.52,-1146.68 2135.97,-1147.58 2144.78,-1153.46 2146.52,-1146.68\"/>\n",
       "</g>\n",
       "<!-- callgraphX__tile_4_5 -->\n",
       "<g id=\"node37\" class=\"node\">\n",
       "<title>callgraphX__tile_4_5</title>\n",
       "<ellipse fill=\"#fecccc\" fill-opacity=\"0.698039\" stroke=\"black\" cx=\"2157.99\" cy=\"-1217.49\" rx=\"84.71\" ry=\"26.74\"/>\n",
       "<text text-anchor=\"middle\" x=\"2157.99\" y=\"-1221.29\" font-family=\"Times,serif\" font-size=\"14.00\" fill=\"#000000\">tile_4_5</text>\n",
       "<text text-anchor=\"middle\" x=\"2157.99\" y=\"-1206.29\" font-family=\"Times,serif\" font-size=\"14.00\" fill=\"#000000\">(callgraph.py:225)</text>\n",
       "</g>\n",
       "<!-- callgraphX&#45;&gt;callgraphX__tile_4_5 -->\n",
       "<g id=\"edge19\" class=\"edge\">\n",
       "<title>callgraphX&#45;&gt;callgraphX__tile_4_5</title>\n",
       "<path fill=\"none\" stroke=\"#838b8b\" stroke-dasharray=\"5,2\" d=\"M3807.45,-1919.78C3799.42,-1915.32 3790.1,-1910.96 3780.99,-1908.54 3723.24,-1893.2 2749.69,-1913.29 2705.99,-1872.54 2668.21,-1837.31 2693.99,-1808.59 2693.99,-1756.93 2693.99,-1756.93 2693.99,-1756.93 2693.99,-1395.97 2693.99,-1343.67 2710.21,-1316.06 2671.99,-1280.36 2641.87,-1252.23 2391.07,-1232.65 2251.27,-1223.81\"/>\n",
       "<polygon fill=\"#838b8b\" stroke=\"#838b8b\" points=\"2251.18,-1220.3 2240.99,-1223.17 2250.75,-1227.28 2251.18,-1220.3\"/>\n",
       "</g>\n",
       "<!-- callgraphX__tile_4_6 -->\n",
       "<g id=\"node38\" class=\"node\">\n",
       "<title>callgraphX__tile_4_6</title>\n",
       "<ellipse fill=\"#fecccc\" fill-opacity=\"0.698039\" stroke=\"black\" cx=\"2383.99\" cy=\"-230.35\" rx=\"84.71\" ry=\"26.74\"/>\n",
       "<text text-anchor=\"middle\" x=\"2383.99\" y=\"-234.15\" font-family=\"Times,serif\" font-size=\"14.00\" fill=\"#000000\">tile_4_6</text>\n",
       "<text text-anchor=\"middle\" x=\"2383.99\" y=\"-219.15\" font-family=\"Times,serif\" font-size=\"14.00\" fill=\"#000000\">(callgraph.py:233)</text>\n",
       "</g>\n",
       "<!-- callgraphX&#45;&gt;callgraphX__tile_4_6 -->\n",
       "<g id=\"edge23\" class=\"edge\">\n",
       "<title>callgraphX&#45;&gt;callgraphX__tile_4_6</title>\n",
       "<path fill=\"none\" stroke=\"#838b8b\" stroke-dasharray=\"5,2\" d=\"M3806.87,-1919.8C3798.95,-1915.46 3789.84,-1911.17 3780.99,-1908.54 3695.84,-1883.32 3446.99,-1934.11 3382.99,-1872.54 3345.65,-1836.62 3367.99,-1808.75 3367.99,-1756.93 3367.99,-1756.93 3367.99,-1756.93 3367.99,-408.83 3367.99,-356.9 3389.59,-327.97 3350.99,-293.22 3314.7,-260.56 2521.17,-265.09 2472.99,-257.22 2465.89,-256.06 2458.56,-254.52 2451.29,-252.76\"/>\n",
       "<polygon fill=\"#838b8b\" stroke=\"#838b8b\" points=\"2452.01,-249.33 2441.45,-250.25 2450.27,-256.11 2452.01,-249.33\"/>\n",
       "</g>\n",
       "<!-- callgraphX__tile_4_7 -->\n",
       "<g id=\"node39\" class=\"node\">\n",
       "<title>callgraphX__tile_4_7</title>\n",
       "<ellipse fill=\"#fecccc\" fill-opacity=\"0.698039\" stroke=\"black\" cx=\"2117.99\" cy=\"-320.09\" rx=\"84.71\" ry=\"26.74\"/>\n",
       "<text text-anchor=\"middle\" x=\"2117.99\" y=\"-323.89\" font-family=\"Times,serif\" font-size=\"14.00\" fill=\"#000000\">tile_4_7</text>\n",
       "<text text-anchor=\"middle\" x=\"2117.99\" y=\"-308.89\" font-family=\"Times,serif\" font-size=\"14.00\" fill=\"#000000\">(callgraph.py:238)</text>\n",
       "</g>\n",
       "<!-- callgraphX&#45;&gt;callgraphX__tile_4_7 -->\n",
       "<g id=\"edge26\" class=\"edge\">\n",
       "<title>callgraphX&#45;&gt;callgraphX__tile_4_7</title>\n",
       "<path fill=\"none\" stroke=\"#838b8b\" stroke-dasharray=\"5,2\" d=\"M3806.89,-1919.74C3798.97,-1915.39 3789.86,-1911.11 3780.99,-1908.54 3682.5,-1880.02 3395.61,-1942.86 3320.99,-1872.54 3283.24,-1836.97 3304.99,-1808.8 3304.99,-1756.93 3304.99,-1756.93 3304.99,-1756.93 3304.99,-498.57 3304.99,-446.76 3328.34,-417.8 3289.99,-382.96 3245.43,-342.48 2266.44,-356.44 2206.99,-346.96 2199.89,-345.83 2192.55,-344.3 2185.28,-342.56\"/>\n",
       "<polygon fill=\"#838b8b\" stroke=\"#838b8b\" points=\"2185.99,-339.13 2175.44,-340.05 2184.27,-345.91 2185.99,-339.13\"/>\n",
       "</g>\n",
       "<!-- callgraphX__tile_4_8 -->\n",
       "<g id=\"node40\" class=\"node\">\n",
       "<title>callgraphX__tile_4_8</title>\n",
       "<ellipse fill=\"#fecccc\" fill-opacity=\"0.698039\" stroke=\"black\" cx=\"1931.99\" cy=\"-230.35\" rx=\"84.71\" ry=\"26.74\"/>\n",
       "<text text-anchor=\"middle\" x=\"1931.99\" y=\"-234.15\" font-family=\"Times,serif\" font-size=\"14.00\" fill=\"#000000\">tile_4_8</text>\n",
       "<text text-anchor=\"middle\" x=\"1931.99\" y=\"-219.15\" font-family=\"Times,serif\" font-size=\"14.00\" fill=\"#000000\">(callgraph.py:246)</text>\n",
       "</g>\n",
       "<!-- callgraphX&#45;&gt;callgraphX__tile_4_8 -->\n",
       "<g id=\"edge32\" class=\"edge\">\n",
       "<title>callgraphX&#45;&gt;callgraphX__tile_4_8</title>\n",
       "<path fill=\"none\" stroke=\"#838b8b\" stroke-dasharray=\"5,2\" d=\"M3806.88,-1919.75C3798.96,-1915.4 3789.86,-1911.12 3780.99,-1908.54 3685.08,-1880.66 3402.91,-1943.86 3332.99,-1872.54 3296.95,-1835.79 3325.99,-1808.41 3325.99,-1756.93 3325.99,-1756.93 3325.99,-1756.93 3325.99,-408.83 3325.99,-263.41 2168.98,-283.72 2025.99,-257.22 2018.06,-255.75 2009.83,-253.93 2001.68,-251.95\"/>\n",
       "<polygon fill=\"#838b8b\" stroke=\"#838b8b\" points=\"2002.36,-248.51 1991.81,-249.45 2000.65,-255.3 2002.36,-248.51\"/>\n",
       "</g>\n",
       "<!-- callgraphX__tile_5_0 -->\n",
       "<g id=\"node41\" class=\"node\">\n",
       "<title>callgraphX__tile_5_0</title>\n",
       "<ellipse fill=\"#fecccc\" fill-opacity=\"0.698039\" stroke=\"black\" cx=\"1608.99\" cy=\"-1755.93\" rx=\"84.71\" ry=\"26.74\"/>\n",
       "<text text-anchor=\"middle\" x=\"1608.99\" y=\"-1759.73\" font-family=\"Times,serif\" font-size=\"14.00\" fill=\"#000000\">tile_5_0</text>\n",
       "<text text-anchor=\"middle\" x=\"1608.99\" y=\"-1744.73\" font-family=\"Times,serif\" font-size=\"14.00\" fill=\"#000000\">(callgraph.py:251)</text>\n",
       "</g>\n",
       "<!-- callgraphX&#45;&gt;callgraphX__tile_5_0 -->\n",
       "<g id=\"edge46\" class=\"edge\">\n",
       "<title>callgraphX&#45;&gt;callgraphX__tile_5_0</title>\n",
       "<path fill=\"none\" stroke=\"#838b8b\" stroke-dasharray=\"5,2\" d=\"M3807.46,-1919.71C3799.44,-1915.25 3790.12,-1910.9 3780.99,-1908.54 3592.49,-1859.78 2221.72,-1900.22 2028.99,-1872.54 1900.04,-1854.02 1754.48,-1808.09 1673.03,-1780.01\"/>\n",
       "<polygon fill=\"#838b8b\" stroke=\"#838b8b\" points=\"1674.02,-1776.65 1663.42,-1776.68 1671.72,-1783.26 1674.02,-1776.65\"/>\n",
       "</g>\n",
       "<!-- callgraphX__tile_5_1 -->\n",
       "<g id=\"node42\" class=\"node\">\n",
       "<title>callgraphX__tile_5_1</title>\n",
       "<ellipse fill=\"#fecccc\" fill-opacity=\"0.698039\" stroke=\"black\" cx=\"447.99\" cy=\"-1845.67\" rx=\"84.71\" ry=\"26.74\"/>\n",
       "<text text-anchor=\"middle\" x=\"447.99\" y=\"-1849.47\" font-family=\"Times,serif\" font-size=\"14.00\" fill=\"#000000\">tile_5_1</text>\n",
       "<text text-anchor=\"middle\" x=\"447.99\" y=\"-1834.47\" font-family=\"Times,serif\" font-size=\"14.00\" fill=\"#000000\">(callgraph.py:256)</text>\n",
       "</g>\n",
       "<!-- callgraphX&#45;&gt;callgraphX__tile_5_1 -->\n",
       "<g id=\"edge52\" class=\"edge\">\n",
       "<title>callgraphX&#45;&gt;callgraphX__tile_5_1</title>\n",
       "<path fill=\"none\" stroke=\"#838b8b\" stroke-dasharray=\"5,2\" d=\"M3807.48,-1919.66C3799.45,-1915.19 3790.13,-1910.86 3780.99,-1908.54 3606.29,-1864.23 715.28,-1898.94 536.99,-1872.54 529.68,-1871.46 522.14,-1869.94 514.67,-1868.16\"/>\n",
       "<polygon fill=\"#838b8b\" stroke=\"#838b8b\" points=\"515.48,-1864.76 504.93,-1865.7 513.77,-1871.54 515.48,-1864.76\"/>\n",
       "</g>\n",
       "<!-- callgraphX__tile_5_2 -->\n",
       "<g id=\"node43\" class=\"node\">\n",
       "<title>callgraphX__tile_5_2</title>\n",
       "<ellipse fill=\"#fecccc\" fill-opacity=\"0.698039\" stroke=\"black\" cx=\"2292.99\" cy=\"-1576.45\" rx=\"84.71\" ry=\"26.74\"/>\n",
       "<text text-anchor=\"middle\" x=\"2292.99\" y=\"-1580.25\" font-family=\"Times,serif\" font-size=\"14.00\" fill=\"#000000\">tile_5_2</text>\n",
       "<text text-anchor=\"middle\" x=\"2292.99\" y=\"-1565.25\" font-family=\"Times,serif\" font-size=\"14.00\" fill=\"#000000\">(callgraph.py:264)</text>\n",
       "</g>\n",
       "<!-- callgraphX&#45;&gt;callgraphX__tile_5_2 -->\n",
       "<g id=\"edge58\" class=\"edge\">\n",
       "<title>callgraphX&#45;&gt;callgraphX__tile_5_2</title>\n",
       "<path fill=\"none\" stroke=\"#838b8b\" stroke-dasharray=\"5,2\" d=\"M3807.45,-1919.76C3799.42,-1915.3 3790.1,-1910.95 3780.99,-1908.54 3652.44,-1874.63 2705.68,-1928.3 2584.99,-1872.54 2458.09,-1813.93 2476.85,-1733.97 2373.99,-1639.32 2361.92,-1628.22 2347.97,-1617.04 2335.08,-1607.3\"/>\n",
       "<polygon fill=\"#838b8b\" stroke=\"#838b8b\" points=\"2336.91,-1604.3 2326.8,-1601.13 2332.73,-1609.91 2336.91,-1604.3\"/>\n",
       "</g>\n",
       "<!-- callgraphX__tile_5_3 -->\n",
       "<g id=\"node44\" class=\"node\">\n",
       "<title>callgraphX__tile_5_3</title>\n",
       "<ellipse fill=\"#fecccc\" fill-opacity=\"0.698039\" stroke=\"black\" cx=\"1469.99\" cy=\"-948.27\" rx=\"84.71\" ry=\"26.74\"/>\n",
       "<text text-anchor=\"middle\" x=\"1469.99\" y=\"-952.07\" font-family=\"Times,serif\" font-size=\"14.00\" fill=\"#000000\">tile_5_3</text>\n",
       "<text text-anchor=\"middle\" x=\"1469.99\" y=\"-937.07\" font-family=\"Times,serif\" font-size=\"14.00\" fill=\"#000000\">(callgraph.py:269)</text>\n",
       "</g>\n",
       "<!-- callgraphX&#45;&gt;callgraphX__tile_5_3 -->\n",
       "<g id=\"edge63\" class=\"edge\">\n",
       "<title>callgraphX&#45;&gt;callgraphX__tile_5_3</title>\n",
       "<path fill=\"none\" stroke=\"#838b8b\" stroke-dasharray=\"5,2\" d=\"M3807.47,-1919.67C3799.45,-1915.2 3790.13,-1910.87 3780.99,-1908.54 3701.97,-1888.45 905.19,-1928.6 845.99,-1872.54 814.85,-1843.05 796.23,-1134.4 822.99,-1100.88 980.22,-903.88 1131.53,-1036.54 1375.99,-975.14 1383.24,-973.32 1390.78,-971.36 1398.3,-969.36\"/>\n",
       "<polygon fill=\"#838b8b\" stroke=\"#838b8b\" points=\"1399.4,-972.69 1408.15,-966.71 1397.59,-965.93 1399.4,-972.69\"/>\n",
       "</g>\n",
       "<!-- callgraphX__tile_5_4 -->\n",
       "<g id=\"node45\" class=\"node\">\n",
       "<title>callgraphX__tile_5_4</title>\n",
       "<ellipse fill=\"#fecccc\" fill-opacity=\"0.698039\" stroke=\"black\" cx=\"1935.99\" cy=\"-1038.01\" rx=\"84.71\" ry=\"26.74\"/>\n",
       "<text text-anchor=\"middle\" x=\"1935.99\" y=\"-1041.81\" font-family=\"Times,serif\" font-size=\"14.00\" fill=\"#000000\">tile_5_4</text>\n",
       "<text text-anchor=\"middle\" x=\"1935.99\" y=\"-1026.81\" font-family=\"Times,serif\" font-size=\"14.00\" fill=\"#000000\">(callgraph.py:274)</text>\n",
       "</g>\n",
       "<!-- callgraphX&#45;&gt;callgraphX__tile_5_4 -->\n",
       "<g id=\"edge65\" class=\"edge\">\n",
       "<title>callgraphX&#45;&gt;callgraphX__tile_5_4</title>\n",
       "<path fill=\"none\" stroke=\"#838b8b\" stroke-dasharray=\"5,2\" d=\"M3807.47,-1919.67C3799.45,-1915.2 3790.13,-1910.87 3780.99,-1908.54 3702.75,-1888.64 932.38,-1929.32 874.99,-1872.54 837.49,-1835.45 863.99,-1450.72 863.99,-1397.97 863.99,-1397.97 863.99,-1397.97 863.99,-1306.23 863.99,-1238.14 846.89,-1222.53 841.99,-1154.62 840.27,-1130.8 825.53,-1118.19 841.99,-1100.88 869.67,-1071.78 1523.9,-1067.27 1563.99,-1064.88 1659.35,-1059.19 1768.37,-1051.46 1843.62,-1045.94\"/>\n",
       "<polygon fill=\"#838b8b\" stroke=\"#838b8b\" points=\"1844.3,-1049.4 1854.01,-1045.18 1843.78,-1042.42 1844.3,-1049.4\"/>\n",
       "</g>\n",
       "<!-- callgraphX__tile_5_5 -->\n",
       "<g id=\"node46\" class=\"node\">\n",
       "<title>callgraphX__tile_5_5</title>\n",
       "<ellipse fill=\"#fecccc\" fill-opacity=\"0.698039\" stroke=\"black\" cx=\"2157.99\" cy=\"-1307.23\" rx=\"84.71\" ry=\"26.74\"/>\n",
       "<text text-anchor=\"middle\" x=\"2157.99\" y=\"-1311.03\" font-family=\"Times,serif\" font-size=\"14.00\" fill=\"#000000\">tile_5_5</text>\n",
       "<text text-anchor=\"middle\" x=\"2157.99\" y=\"-1296.03\" font-family=\"Times,serif\" font-size=\"14.00\" fill=\"#000000\">(callgraph.py:279)</text>\n",
       "</g>\n",
       "<!-- callgraphX&#45;&gt;callgraphX__tile_5_5 -->\n",
       "<g id=\"edge6\" class=\"edge\">\n",
       "<title>callgraphX&#45;&gt;callgraphX__tile_5_5</title>\n",
       "<path fill=\"none\" stroke=\"#838b8b\" stroke-dasharray=\"5,2\" d=\"M3807.45,-1919.77C3799.42,-1915.31 3790.1,-1910.95 3780.99,-1908.54 3718.98,-1892.15 2674.51,-1915.63 2626.99,-1872.54 2588.6,-1837.74 2611.99,-1808.75 2611.99,-1756.93 2611.99,-1756.93 2611.99,-1756.93 2611.99,-1485.71 2611.99,-1406.94 2371.94,-1348.89 2240.94,-1323.07\"/>\n",
       "<polygon fill=\"#838b8b\" stroke=\"#838b8b\" points=\"2241.42,-1319.59 2230.93,-1321.12 2240.08,-1326.47 2241.42,-1319.59\"/>\n",
       "</g>\n",
       "<!-- callgraphX__tile_5_6 -->\n",
       "<g id=\"node47\" class=\"node\">\n",
       "<title>callgraphX__tile_5_6</title>\n",
       "<ellipse fill=\"#fecccc\" fill-opacity=\"0.698039\" stroke=\"black\" cx=\"1931.99\" cy=\"-140.61\" rx=\"84.71\" ry=\"26.74\"/>\n",
       "<text text-anchor=\"middle\" x=\"1931.99\" y=\"-144.41\" font-family=\"Times,serif\" font-size=\"14.00\" fill=\"#000000\">tile_5_6</text>\n",
       "<text text-anchor=\"middle\" x=\"1931.99\" y=\"-129.41\" font-family=\"Times,serif\" font-size=\"14.00\" fill=\"#000000\">(callgraph.py:287)</text>\n",
       "</g>\n",
       "<!-- callgraphX&#45;&gt;callgraphX__tile_5_6 -->\n",
       "<g id=\"edge10\" class=\"edge\">\n",
       "<title>callgraphX&#45;&gt;callgraphX__tile_5_6</title>\n",
       "<path fill=\"none\" stroke=\"#838b8b\" stroke-dasharray=\"5,2\" d=\"M3806.84,-1919.91C3798.91,-1915.57 3789.82,-1911.26 3780.99,-1908.54 3642.93,-1866.08 3579.7,-1950.33 3457.99,-1872.54 3407.38,-1840.2 3387.99,-1817 3387.99,-1756.93 3387.99,-1756.93 3387.99,-1756.93 3387.99,-319.09 3387.99,-115.24 2680.94,-222.59 2477.99,-203.48 2294.99,-186.25 2248.03,-192.94 2065.99,-167.48 2048.07,-164.97 2028.92,-161.66 2010.87,-158.25\"/>\n",
       "<polygon fill=\"#838b8b\" stroke=\"#838b8b\" points=\"2011.44,-154.79 2000.96,-156.34 2010.12,-161.67 2011.44,-154.79\"/>\n",
       "</g>\n",
       "<!-- callgraphX__tile_5_7 -->\n",
       "<g id=\"node48\" class=\"node\">\n",
       "<title>callgraphX__tile_5_7</title>\n",
       "<ellipse fill=\"#fecccc\" fill-opacity=\"0.698039\" stroke=\"black\" cx=\"2119.99\" cy=\"-230.35\" rx=\"84.71\" ry=\"26.74\"/>\n",
       "<text text-anchor=\"middle\" x=\"2119.99\" y=\"-234.15\" font-family=\"Times,serif\" font-size=\"14.00\" fill=\"#000000\">tile_5_7</text>\n",
       "<text text-anchor=\"middle\" x=\"2119.99\" y=\"-219.15\" font-family=\"Times,serif\" font-size=\"14.00\" fill=\"#000000\">(callgraph.py:292)</text>\n",
       "</g>\n",
       "<!-- callgraphX&#45;&gt;callgraphX__tile_5_7 -->\n",
       "<g id=\"edge13\" class=\"edge\">\n",
       "<title>callgraphX&#45;&gt;callgraphX__tile_5_7</title>\n",
       "<path fill=\"none\" stroke=\"#838b8b\" stroke-dasharray=\"5,2\" d=\"M3806.88,-1919.77C3798.96,-1915.43 3789.85,-1911.14 3780.99,-1908.54 3690.25,-1881.93 3424.19,-1939.07 3356.99,-1872.54 3320.31,-1836.23 3345.99,-1808.55 3345.99,-1756.93 3345.99,-1756.93 3345.99,-1756.93 3345.99,-408.83 3345.99,-382.92 3350.15,-310.65 3330.99,-293.22 3288.18,-254.28 2347.61,-262.58 2289.99,-257.22 2261.4,-254.56 2230.29,-250.25 2202.6,-245.9\"/>\n",
       "<polygon fill=\"#838b8b\" stroke=\"#838b8b\" points=\"2202.99,-242.42 2192.56,-244.3 2201.88,-249.33 2202.99,-242.42\"/>\n",
       "</g>\n",
       "<!-- callgraphX__tile_5_8 -->\n",
       "<g id=\"node49\" class=\"node\">\n",
       "<title>callgraphX__tile_5_8</title>\n",
       "<ellipse fill=\"#fecccc\" fill-opacity=\"0.698039\" stroke=\"black\" cx=\"2159.99\" cy=\"-140.61\" rx=\"84.71\" ry=\"26.74\"/>\n",
       "<text text-anchor=\"middle\" x=\"2159.99\" y=\"-144.41\" font-family=\"Times,serif\" font-size=\"14.00\" fill=\"#000000\">tile_5_8</text>\n",
       "<text text-anchor=\"middle\" x=\"2159.99\" y=\"-129.41\" font-family=\"Times,serif\" font-size=\"14.00\" fill=\"#000000\">(callgraph.py:300)</text>\n",
       "</g>\n",
       "<!-- callgraphX&#45;&gt;callgraphX__tile_5_8 -->\n",
       "<g id=\"edge16\" class=\"edge\">\n",
       "<title>callgraphX&#45;&gt;callgraphX__tile_5_8</title>\n",
       "<path fill=\"none\" stroke=\"#838b8b\" stroke-dasharray=\"5,2\" d=\"M3806.81,-1919.99C3798.89,-1915.65 3789.8,-1911.32 3780.99,-1908.54 3720.11,-1889.33 3544.92,-1913.53 3495.99,-1872.54 3454.73,-1837.99 3459.99,-1810.75 3459.99,-1756.93 3459.99,-1756.93 3459.99,-1756.93 3459.99,-319.09 3459.99,-259.7 3443.97,-233.94 3392.99,-203.48 3284.29,-138.54 2379.18,-186.41 2253.99,-167.48 2245.69,-166.23 2237.08,-164.49 2228.59,-162.5\"/>\n",
       "<polygon fill=\"#838b8b\" stroke=\"#838b8b\" points=\"2229.25,-159.05 2218.7,-160.06 2227.57,-165.85 2229.25,-159.05\"/>\n",
       "</g>\n",
       "<!-- callgraphX__tile_6_0 -->\n",
       "<g id=\"node50\" class=\"node\">\n",
       "<title>callgraphX__tile_6_0</title>\n",
       "<ellipse fill=\"#fecccc\" fill-opacity=\"0.698039\" stroke=\"black\" cx=\"1173.99\" cy=\"-1486.71\" rx=\"84.71\" ry=\"26.74\"/>\n",
       "<text text-anchor=\"middle\" x=\"1173.99\" y=\"-1490.51\" font-family=\"Times,serif\" font-size=\"14.00\" fill=\"#000000\">tile_6_0</text>\n",
       "<text text-anchor=\"middle\" x=\"1173.99\" y=\"-1475.51\" font-family=\"Times,serif\" font-size=\"14.00\" fill=\"#000000\">(callgraph.py:305)</text>\n",
       "</g>\n",
       "<!-- callgraphX&#45;&gt;callgraphX__tile_6_0 -->\n",
       "<g id=\"edge21\" class=\"edge\">\n",
       "<title>callgraphX&#45;&gt;callgraphX__tile_6_0</title>\n",
       "<path fill=\"none\" stroke=\"#838b8b\" stroke-dasharray=\"5,2\" d=\"M3807.47,-1919.67C3799.45,-1915.2 3790.12,-1910.87 3780.99,-1908.54 3705.53,-1889.33 1038.88,-1921.08 977.99,-1872.54 936.65,-1839.59 949.99,-1809.8 949.99,-1756.93 949.99,-1756.93 949.99,-1756.93 949.99,-1665.19 949.99,-1585.03 1039.2,-1535.37 1105.02,-1509.63\"/>\n",
       "<polygon fill=\"#838b8b\" stroke=\"#838b8b\" points=\"1106.45,-1512.83 1114.55,-1506 1103.96,-1506.29 1106.45,-1512.83\"/>\n",
       "</g>\n",
       "<!-- callgraphX__tile_6_1 -->\n",
       "<g id=\"node51\" class=\"node\">\n",
       "<title>callgraphX__tile_6_1</title>\n",
       "<ellipse fill=\"#fecccc\" fill-opacity=\"0.698039\" stroke=\"black\" cx=\"1402.99\" cy=\"-1755.93\" rx=\"84.71\" ry=\"26.74\"/>\n",
       "<text text-anchor=\"middle\" x=\"1402.99\" y=\"-1759.73\" font-family=\"Times,serif\" font-size=\"14.00\" fill=\"#000000\">tile_6_1</text>\n",
       "<text text-anchor=\"middle\" x=\"1402.99\" y=\"-1744.73\" font-family=\"Times,serif\" font-size=\"14.00\" fill=\"#000000\">(callgraph.py:310)</text>\n",
       "</g>\n",
       "<!-- callgraphX&#45;&gt;callgraphX__tile_6_1 -->\n",
       "<g id=\"edge25\" class=\"edge\">\n",
       "<title>callgraphX&#45;&gt;callgraphX__tile_6_1</title>\n",
       "<path fill=\"none\" stroke=\"#838b8b\" stroke-dasharray=\"5,2\" d=\"M3807.47,-1919.7C3799.44,-1915.23 3790.12,-1910.89 3780.99,-1908.54 3567.15,-1853.5 2012.23,-1906.15 1793.99,-1872.54 1674.56,-1854.15 1540.56,-1808.88 1464.51,-1780.76\"/>\n",
       "<polygon fill=\"#838b8b\" stroke=\"#838b8b\" points=\"1465.67,-1777.46 1455.08,-1777.25 1463.23,-1784.02 1465.67,-1777.46\"/>\n",
       "</g>\n",
       "<!-- callgraphX__tile_6_2 -->\n",
       "<g id=\"node52\" class=\"node\">\n",
       "<title>callgraphX__tile_6_2</title>\n",
       "<ellipse fill=\"#fecccc\" fill-opacity=\"0.698039\" stroke=\"black\" cx=\"1856.99\" cy=\"-1666.19\" rx=\"84.71\" ry=\"26.74\"/>\n",
       "<text text-anchor=\"middle\" x=\"1856.99\" y=\"-1669.99\" font-family=\"Times,serif\" font-size=\"14.00\" fill=\"#000000\">tile_6_2</text>\n",
       "<text text-anchor=\"middle\" x=\"1856.99\" y=\"-1654.99\" font-family=\"Times,serif\" font-size=\"14.00\" fill=\"#000000\">(callgraph.py:318)</text>\n",
       "</g>\n",
       "<!-- callgraphX&#45;&gt;callgraphX__tile_6_2 -->\n",
       "<g id=\"edge30\" class=\"edge\">\n",
       "<title>callgraphX&#45;&gt;callgraphX__tile_6_2</title>\n",
       "<path fill=\"none\" stroke=\"#838b8b\" stroke-dasharray=\"5,2\" d=\"M3807.46,-1919.74C3799.43,-1915.28 3790.11,-1910.93 3780.99,-1908.54 3476.23,-1828.91 2672.38,-1936.7 2363.99,-1872.54 2188.43,-1836.02 1996.03,-1741.66 1907.14,-1694.65\"/>\n",
       "<polygon fill=\"#838b8b\" stroke=\"#838b8b\" points=\"1908.57,-1691.45 1898.1,-1689.84 1905.28,-1697.63 1908.57,-1691.45\"/>\n",
       "</g>\n",
       "<!-- callgraphX__tile_6_3 -->\n",
       "<g id=\"node53\" class=\"node\">\n",
       "<title>callgraphX__tile_6_3</title>\n",
       "<ellipse fill=\"#fecccc\" fill-opacity=\"0.698039\" stroke=\"black\" cx=\"1896.99\" cy=\"-1576.45\" rx=\"84.71\" ry=\"26.74\"/>\n",
       "<text text-anchor=\"middle\" x=\"1896.99\" y=\"-1580.25\" font-family=\"Times,serif\" font-size=\"14.00\" fill=\"#000000\">tile_6_3</text>\n",
       "<text text-anchor=\"middle\" x=\"1896.99\" y=\"-1565.25\" font-family=\"Times,serif\" font-size=\"14.00\" fill=\"#000000\">(callgraph.py:326)</text>\n",
       "</g>\n",
       "<!-- callgraphX&#45;&gt;callgraphX__tile_6_3 -->\n",
       "<g id=\"edge37\" class=\"edge\">\n",
       "<title>callgraphX&#45;&gt;callgraphX__tile_6_3</title>\n",
       "<path fill=\"none\" stroke=\"#838b8b\" stroke-dasharray=\"5,2\" d=\"M3807.45,-1919.75C3799.42,-1915.29 3790.11,-1910.94 3780.99,-1908.54 3506.2,-1836.34 2778.91,-1940.26 2502.99,-1872.54 2277.07,-1817.1 2036.59,-1669.82 1940.4,-1606.77\"/>\n",
       "<polygon fill=\"#838b8b\" stroke=\"#838b8b\" points=\"1942.1,-1603.69 1931.82,-1601.11 1938.25,-1609.54 1942.1,-1603.69\"/>\n",
       "</g>\n",
       "<!-- callgraphX__tile_6_4 -->\n",
       "<g id=\"node54\" class=\"node\">\n",
       "<title>callgraphX__tile_6_4</title>\n",
       "<ellipse fill=\"#fecccc\" fill-opacity=\"0.698039\" stroke=\"black\" cx=\"1896.99\" cy=\"-1486.71\" rx=\"84.71\" ry=\"26.74\"/>\n",
       "<text text-anchor=\"middle\" x=\"1896.99\" y=\"-1490.51\" font-family=\"Times,serif\" font-size=\"14.00\" fill=\"#000000\">tile_6_4</text>\n",
       "<text text-anchor=\"middle\" x=\"1896.99\" y=\"-1475.51\" font-family=\"Times,serif\" font-size=\"14.00\" fill=\"#000000\">(callgraph.py:334)</text>\n",
       "</g>\n",
       "<!-- callgraphX&#45;&gt;callgraphX__tile_6_4 -->\n",
       "<g id=\"edge38\" class=\"edge\">\n",
       "<title>callgraphX&#45;&gt;callgraphX__tile_6_4</title>\n",
       "<path fill=\"none\" stroke=\"#838b8b\" stroke-dasharray=\"5,2\" d=\"M3807.47,-1919.68C3799.44,-1915.22 3790.12,-1910.88 3780.99,-1908.54 3521.21,-1842.11 1633.17,-1912.3 1367.99,-1872.54 1185.82,-1845.23 969.99,-1941.13 969.99,-1756.93 969.99,-1756.93 969.99,-1756.93 969.99,-1665.19 969.99,-1580.68 1572.04,-1517.12 1805.76,-1495.62\"/>\n",
       "<polygon fill=\"#838b8b\" stroke=\"#838b8b\" points=\"1806.3,-1499.09 1815.94,-1494.69 1805.66,-1492.12 1806.3,-1499.09\"/>\n",
       "</g>\n",
       "<!-- callgraphX__tile_6_5 -->\n",
       "<g id=\"node55\" class=\"node\">\n",
       "<title>callgraphX__tile_6_5</title>\n",
       "<ellipse fill=\"#fecccc\" fill-opacity=\"0.698039\" stroke=\"black\" cx=\"2157.99\" cy=\"-1396.97\" rx=\"84.71\" ry=\"26.74\"/>\n",
       "<text text-anchor=\"middle\" x=\"2157.99\" y=\"-1400.77\" font-family=\"Times,serif\" font-size=\"14.00\" fill=\"#000000\">tile_6_5</text>\n",
       "<text text-anchor=\"middle\" x=\"2157.99\" y=\"-1385.77\" font-family=\"Times,serif\" font-size=\"14.00\" fill=\"#000000\">(callgraph.py:342)</text>\n",
       "</g>\n",
       "<!-- callgraphX&#45;&gt;callgraphX__tile_6_5 -->\n",
       "<g id=\"edge42\" class=\"edge\">\n",
       "<title>callgraphX&#45;&gt;callgraphX__tile_6_5</title>\n",
       "<path fill=\"none\" stroke=\"#838b8b\" stroke-dasharray=\"5,2\" d=\"M3807.45,-1919.76C3799.42,-1915.31 3790.1,-1910.95 3780.99,-1908.54 3717.9,-1891.88 2655.71,-1915.95 2606.99,-1872.54 2568.21,-1838 2589.99,-1808.87 2589.99,-1756.93 2589.99,-1756.93 2589.99,-1756.93 2589.99,-1575.45 2589.99,-1536.77 2349.94,-1457.14 2227.72,-1419.1\"/>\n",
       "<polygon fill=\"#838b8b\" stroke=\"#838b8b\" points=\"2228.64,-1415.72 2218.06,-1416.1 2226.57,-1422.41 2228.64,-1415.72\"/>\n",
       "</g>\n",
       "<!-- callgraphX__tile_6_6 -->\n",
       "<g id=\"node56\" class=\"node\">\n",
       "<title>callgraphX__tile_6_6</title>\n",
       "<ellipse fill=\"#fecccc\" fill-opacity=\"0.698039\" stroke=\"black\" cx=\"2403.99\" cy=\"-1038.01\" rx=\"84.71\" ry=\"26.74\"/>\n",
       "<text text-anchor=\"middle\" x=\"2403.99\" y=\"-1041.81\" font-family=\"Times,serif\" font-size=\"14.00\" fill=\"#000000\">tile_6_6</text>\n",
       "<text text-anchor=\"middle\" x=\"2403.99\" y=\"-1026.81\" font-family=\"Times,serif\" font-size=\"14.00\" fill=\"#000000\">(callgraph.py:350)</text>\n",
       "</g>\n",
       "<!-- callgraphX&#45;&gt;callgraphX__tile_6_6 -->\n",
       "<g id=\"edge47\" class=\"edge\">\n",
       "<title>callgraphX&#45;&gt;callgraphX__tile_6_6</title>\n",
       "<path fill=\"none\" stroke=\"#838b8b\" stroke-dasharray=\"5,2\" d=\"M3807.43,-1919.84C3799.4,-1915.39 3790.09,-1911.02 3780.99,-1908.54 3440.12,-1815.84 3328.12,-1964.28 2986.99,-1872.54 2879.56,-1843.65 2764.99,-1868.18 2764.99,-1756.93 2764.99,-1756.93 2764.99,-1756.93 2764.99,-1216.49 2764.99,-1183.6 2569.53,-1103.02 2466.26,-1062.74\"/>\n",
       "<polygon fill=\"#838b8b\" stroke=\"#838b8b\" points=\"2467.46,-1059.45 2456.87,-1059.09 2464.92,-1065.97 2467.46,-1059.45\"/>\n",
       "</g>\n",
       "<!-- callgraphX__tile_6_7 -->\n",
       "<g id=\"node57\" class=\"node\">\n",
       "<title>callgraphX__tile_6_7</title>\n",
       "<ellipse fill=\"#fecccc\" fill-opacity=\"0.698039\" stroke=\"black\" cx=\"2347.99\" cy=\"-140.61\" rx=\"84.71\" ry=\"26.74\"/>\n",
       "<text text-anchor=\"middle\" x=\"2347.99\" y=\"-144.41\" font-family=\"Times,serif\" font-size=\"14.00\" fill=\"#000000\">tile_6_7</text>\n",
       "<text text-anchor=\"middle\" x=\"2347.99\" y=\"-129.41\" font-family=\"Times,serif\" font-size=\"14.00\" fill=\"#000000\">(callgraph.py:355)</text>\n",
       "</g>\n",
       "<!-- callgraphX&#45;&gt;callgraphX__tile_6_7 -->\n",
       "<g id=\"edge54\" class=\"edge\">\n",
       "<title>callgraphX&#45;&gt;callgraphX__tile_6_7</title>\n",
       "<path fill=\"none\" stroke=\"#838b8b\" stroke-dasharray=\"5,2\" d=\"M3806.3,-1919.78C3798.49,-1915.54 3789.59,-1911.32 3780.99,-1908.54 3725.68,-1890.71 3563.07,-1913.64 3521.99,-1872.54 3485.32,-1835.85 3505.99,-1808.8 3505.99,-1756.93 3505.99,-1756.93 3505.99,-1756.93 3505.99,-319.09 3505.99,-264.57 3508.93,-235.74 3464.99,-203.48 3420.94,-171.14 2536.28,-173.68 2481.99,-167.48 2463.72,-165.39 2444.2,-162.19 2425.88,-158.75\"/>\n",
       "<polygon fill=\"#838b8b\" stroke=\"#838b8b\" points=\"2426.33,-155.27 2415.84,-156.81 2425,-162.14 2426.33,-155.27\"/>\n",
       "</g>\n",
       "<!-- callgraphX__tile_6_8 -->\n",
       "<g id=\"node58\" class=\"node\">\n",
       "<title>callgraphX__tile_6_8</title>\n",
       "<ellipse fill=\"#fecccc\" fill-opacity=\"0.698039\" stroke=\"black\" cx=\"2575.99\" cy=\"-140.61\" rx=\"84.71\" ry=\"26.74\"/>\n",
       "<text text-anchor=\"middle\" x=\"2575.99\" y=\"-144.41\" font-family=\"Times,serif\" font-size=\"14.00\" fill=\"#000000\">tile_6_8</text>\n",
       "<text text-anchor=\"middle\" x=\"2575.99\" y=\"-129.41\" font-family=\"Times,serif\" font-size=\"14.00\" fill=\"#000000\">(callgraph.py:361)</text>\n",
       "</g>\n",
       "<!-- callgraphX&#45;&gt;callgraphX__tile_6_8 -->\n",
       "<g id=\"edge35\" class=\"edge\">\n",
       "<title>callgraphX&#45;&gt;callgraphX__tile_6_8</title>\n",
       "<path fill=\"none\" stroke=\"#838b8b\" stroke-dasharray=\"5,2\" d=\"M3806.27,-1919.84C3798.46,-1915.61 3789.58,-1911.37 3780.99,-1908.54 3730.39,-1891.87 3579.92,-1911.87 3543.99,-1872.54 3509.27,-1834.54 3536.99,-1808.41 3536.99,-1756.93 3536.99,-1756.93 3536.99,-1756.93 3536.99,-319.09 3536.99,-266.42 3551.4,-237.25 3510.99,-203.48 3439.22,-143.5 2762.39,-181.98 2669.99,-167.48 2661.76,-166.19 2653.21,-164.44 2644.78,-162.45\"/>\n",
       "<polygon fill=\"#838b8b\" stroke=\"#838b8b\" points=\"2645.51,-159.02 2634.97,-160.02 2643.83,-165.82 2645.51,-159.02\"/>\n",
       "</g>\n",
       "<!-- callgraphX__tile_7_0 -->\n",
       "<g id=\"node59\" class=\"node\">\n",
       "<title>callgraphX__tile_7_0</title>\n",
       "<ellipse fill=\"#fecccc\" fill-opacity=\"0.698039\" stroke=\"black\" cx=\"2763.99\" cy=\"-140.61\" rx=\"84.71\" ry=\"26.74\"/>\n",
       "<text text-anchor=\"middle\" x=\"2763.99\" y=\"-144.41\" font-family=\"Times,serif\" font-size=\"14.00\" fill=\"#000000\">tile_7_0</text>\n",
       "<text text-anchor=\"middle\" x=\"2763.99\" y=\"-129.41\" font-family=\"Times,serif\" font-size=\"14.00\" fill=\"#000000\">(callgraph.py:366)</text>\n",
       "</g>\n",
       "<!-- callgraphX&#45;&gt;callgraphX__tile_7_0 -->\n",
       "<g id=\"edge5\" class=\"edge\">\n",
       "<title>callgraphX&#45;&gt;callgraphX__tile_7_0</title>\n",
       "<path fill=\"none\" stroke=\"#838b8b\" stroke-dasharray=\"5,2\" d=\"M3806.5,-1920.06C3798.63,-1915.79 3789.65,-1911.47 3780.99,-1908.54 3689.63,-1877.63 3632.39,-1943.43 3566.99,-1872.54 3532.01,-1834.64 3556.99,-1808.51 3556.99,-1756.93 3556.99,-1756.93 3556.99,-1756.93 3556.99,-319.09 3556.99,-293.18 3560.99,-221.09 3541.99,-203.48 3486.16,-151.76 2933.11,-179.65 2857.99,-167.48 2849.76,-166.15 2841.22,-164.37 2832.8,-162.37\"/>\n",
       "<polygon fill=\"#838b8b\" stroke=\"#838b8b\" points=\"2833.53,-158.95 2822.98,-159.93 2831.84,-165.74 2833.53,-158.95\"/>\n",
       "</g>\n",
       "<!-- callgraphX__tile_7_1 -->\n",
       "<g id=\"node60\" class=\"node\">\n",
       "<title>callgraphX__tile_7_1</title>\n",
       "<ellipse fill=\"#fecccc\" fill-opacity=\"0.698039\" stroke=\"black\" cx=\"1193.99\" cy=\"-1666.19\" rx=\"84.71\" ry=\"26.74\"/>\n",
       "<text text-anchor=\"middle\" x=\"1193.99\" y=\"-1669.99\" font-family=\"Times,serif\" font-size=\"14.00\" fill=\"#000000\">tile_7_1</text>\n",
       "<text text-anchor=\"middle\" x=\"1193.99\" y=\"-1654.99\" font-family=\"Times,serif\" font-size=\"14.00\" fill=\"#000000\">(callgraph.py:371)</text>\n",
       "</g>\n",
       "<!-- callgraphX&#45;&gt;callgraphX__tile_7_1 -->\n",
       "<g id=\"edge9\" class=\"edge\">\n",
       "<title>callgraphX&#45;&gt;callgraphX__tile_7_1</title>\n",
       "<path fill=\"none\" stroke=\"#838b8b\" stroke-dasharray=\"5,2\" d=\"M3807.47,-1919.69C3799.44,-1915.22 3790.12,-1910.88 3780.99,-1908.54 3543.42,-1847.62 1815.65,-1914.38 1573.99,-1872.54 1451.46,-1851.33 1414.52,-1848.57 1308.99,-1782.8 1273.87,-1760.92 1241.36,-1726.33 1219.93,-1700.68\"/>\n",
       "<polygon fill=\"#838b8b\" stroke=\"#838b8b\" points=\"1222.42,-1698.2 1213.37,-1692.7 1217.01,-1702.65 1222.42,-1698.2\"/>\n",
       "</g>\n",
       "<!-- callgraphX__tile_7_2 -->\n",
       "<g id=\"node61\" class=\"node\">\n",
       "<title>callgraphX__tile_7_2</title>\n",
       "<ellipse fill=\"#fecccc\" fill-opacity=\"0.698039\" stroke=\"black\" cx=\"1293.99\" cy=\"-1396.97\" rx=\"84.71\" ry=\"26.74\"/>\n",
       "<text text-anchor=\"middle\" x=\"1293.99\" y=\"-1400.77\" font-family=\"Times,serif\" font-size=\"14.00\" fill=\"#000000\">tile_7_2</text>\n",
       "<text text-anchor=\"middle\" x=\"1293.99\" y=\"-1385.77\" font-family=\"Times,serif\" font-size=\"14.00\" fill=\"#000000\">(callgraph.py:376)</text>\n",
       "</g>\n",
       "<!-- callgraphX&#45;&gt;callgraphX__tile_7_2 -->\n",
       "<g id=\"edge15\" class=\"edge\">\n",
       "<title>callgraphX&#45;&gt;callgraphX__tile_7_2</title>\n",
       "<path fill=\"none\" stroke=\"#838b8b\" stroke-dasharray=\"5,2\" d=\"M3807.47,-1919.67C3799.45,-1915.2 3790.12,-1910.87 3780.99,-1908.54 3704.61,-1889.1 1002.64,-1925.19 943.99,-1872.54 905.47,-1837.97 929.99,-1808.69 929.99,-1756.93 929.99,-1756.93 929.99,-1756.93 929.99,-1575.45 929.99,-1435.89 1070.92,-1462.63 1204.99,-1423.84 1210.87,-1422.14 1216.97,-1420.37 1223.1,-1418.6\"/>\n",
       "<polygon fill=\"#838b8b\" stroke=\"#838b8b\" points=\"1224.08,-1421.95 1232.71,-1415.8 1222.13,-1415.23 1224.08,-1421.95\"/>\n",
       "</g>\n",
       "<!-- callgraphX__tile_7_3 -->\n",
       "<g id=\"node62\" class=\"node\">\n",
       "<title>callgraphX__tile_7_3</title>\n",
       "<ellipse fill=\"#fecccc\" fill-opacity=\"0.698039\" stroke=\"black\" cx=\"2631.99\" cy=\"-1217.49\" rx=\"84.71\" ry=\"26.74\"/>\n",
       "<text text-anchor=\"middle\" x=\"2631.99\" y=\"-1221.29\" font-family=\"Times,serif\" font-size=\"14.00\" fill=\"#000000\">tile_7_3</text>\n",
       "<text text-anchor=\"middle\" x=\"2631.99\" y=\"-1206.29\" font-family=\"Times,serif\" font-size=\"14.00\" fill=\"#000000\">(callgraph.py:381)</text>\n",
       "</g>\n",
       "<!-- callgraphX&#45;&gt;callgraphX__tile_7_3 -->\n",
       "<g id=\"edge18\" class=\"edge\">\n",
       "<title>callgraphX&#45;&gt;callgraphX__tile_7_3</title>\n",
       "<path fill=\"none\" stroke=\"#838b8b\" stroke-dasharray=\"5,2\" d=\"M3807.44,-1919.78C3799.41,-1915.33 3790.1,-1910.97 3780.99,-1908.54 3724.74,-1893.58 2777.37,-1911.34 2733.99,-1872.54 2695.27,-1837.92 2716.99,-1808.87 2716.99,-1756.93 2716.99,-1756.93 2716.99,-1756.93 2716.99,-1395.97 2716.99,-1343.97 2723.45,-1326.25 2698.99,-1280.36 2692.82,-1268.79 2683.62,-1258.22 2674.01,-1249.23\"/>\n",
       "<polygon fill=\"#838b8b\" stroke=\"#838b8b\" points=\"2676.06,-1246.37 2666.26,-1242.36 2671.42,-1251.61 2676.06,-1246.37\"/>\n",
       "</g>\n",
       "<!-- callgraphX__tile_7_4 -->\n",
       "<g id=\"node63\" class=\"node\">\n",
       "<title>callgraphX__tile_7_4</title>\n",
       "<ellipse fill=\"#fecccc\" fill-opacity=\"0.698039\" stroke=\"black\" cx=\"1173.99\" cy=\"-1127.75\" rx=\"84.71\" ry=\"26.74\"/>\n",
       "<text text-anchor=\"middle\" x=\"1173.99\" y=\"-1131.55\" font-family=\"Times,serif\" font-size=\"14.00\" fill=\"#000000\">tile_7_4</text>\n",
       "<text text-anchor=\"middle\" x=\"1173.99\" y=\"-1116.55\" font-family=\"Times,serif\" font-size=\"14.00\" fill=\"#000000\">(callgraph.py:386)</text>\n",
       "</g>\n",
       "<!-- callgraphX&#45;&gt;callgraphX__tile_7_4 -->\n",
       "<g id=\"edge20\" class=\"edge\">\n",
       "<title>callgraphX&#45;&gt;callgraphX__tile_7_4</title>\n",
       "<path fill=\"none\" stroke=\"#838b8b\" stroke-dasharray=\"5,2\" d=\"M3807.47,-1919.67C3799.45,-1915.2 3790.12,-1910.87 3780.99,-1908.54 3703.91,-1888.93 975.79,-1927.17 917.99,-1872.54 880.55,-1837.17 909.99,-1808.44 909.99,-1756.93 909.99,-1756.93 909.99,-1756.93 909.99,-1306.23 909.99,-1216.06 1017.37,-1168.72 1095.16,-1146.25\"/>\n",
       "<polygon fill=\"#838b8b\" stroke=\"#838b8b\" points=\"1096.29,-1149.57 1104.97,-1143.5 1094.4,-1142.83 1096.29,-1149.57\"/>\n",
       "</g>\n",
       "<!-- callgraphX__tile_7_5 -->\n",
       "<g id=\"node64\" class=\"node\">\n",
       "<title>callgraphX__tile_7_5</title>\n",
       "<ellipse fill=\"#fecccc\" fill-opacity=\"0.698039\" stroke=\"black\" cx=\"2423.99\" cy=\"-1307.23\" rx=\"84.71\" ry=\"26.74\"/>\n",
       "<text text-anchor=\"middle\" x=\"2423.99\" y=\"-1311.03\" font-family=\"Times,serif\" font-size=\"14.00\" fill=\"#000000\">tile_7_5</text>\n",
       "<text text-anchor=\"middle\" x=\"2423.99\" y=\"-1296.03\" font-family=\"Times,serif\" font-size=\"14.00\" fill=\"#000000\">(callgraph.py:391)</text>\n",
       "</g>\n",
       "<!-- callgraphX&#45;&gt;callgraphX__tile_7_5 -->\n",
       "<g id=\"edge24\" class=\"edge\">\n",
       "<title>callgraphX&#45;&gt;callgraphX__tile_7_5</title>\n",
       "<path fill=\"none\" stroke=\"#838b8b\" stroke-dasharray=\"5,2\" d=\"M3807.45,-1919.77C3799.42,-1915.31 3790.1,-1910.96 3780.99,-1908.54 3720.86,-1892.61 2710.41,-1911.58 2661.99,-1872.54 2620.75,-1839.29 2632.99,-1809.91 2632.99,-1756.93 2632.99,-1756.93 2632.99,-1756.93 2632.99,-1485.71 2632.99,-1433.84 2650.37,-1409.81 2616.99,-1370.1 2612.77,-1365.09 2548.1,-1344.96 2494.77,-1329\"/>\n",
       "<polygon fill=\"#838b8b\" stroke=\"#838b8b\" points=\"2495.54,-1325.58 2484.96,-1326.07 2493.54,-1332.29 2495.54,-1325.58\"/>\n",
       "</g>\n",
       "<!-- callgraphX__tile_7_6 -->\n",
       "<g id=\"node65\" class=\"node\">\n",
       "<title>callgraphX__tile_7_6</title>\n",
       "<ellipse fill=\"#fecccc\" fill-opacity=\"0.698039\" stroke=\"black\" cx=\"2951.99\" cy=\"-140.61\" rx=\"84.71\" ry=\"26.74\"/>\n",
       "<text text-anchor=\"middle\" x=\"2951.99\" y=\"-144.41\" font-family=\"Times,serif\" font-size=\"14.00\" fill=\"#000000\">tile_7_6</text>\n",
       "<text text-anchor=\"middle\" x=\"2951.99\" y=\"-129.41\" font-family=\"Times,serif\" font-size=\"14.00\" fill=\"#000000\">(callgraph.py:396)</text>\n",
       "</g>\n",
       "<!-- callgraphX&#45;&gt;callgraphX__tile_7_6 -->\n",
       "<g id=\"edge27\" class=\"edge\">\n",
       "<title>callgraphX&#45;&gt;callgraphX__tile_7_6</title>\n",
       "<path fill=\"none\" stroke=\"#838b8b\" stroke-dasharray=\"5,2\" d=\"M3806.21,-1920.04C3798.39,-1915.82 3789.52,-1911.54 3780.99,-1908.54 3700.71,-1880.37 3651.57,-1934.23 3592.99,-1872.54 3557.27,-1834.93 3576.99,-1808.8 3576.99,-1756.93 3576.99,-1756.93 3576.99,-1756.93 3576.99,-319.09 3576.99,-293.18 3580.84,-221.25 3561.99,-203.48 3520.16,-164.07 3102.64,-177.15 3045.99,-167.48 3037.83,-166.09 3029.37,-164.28 3021,-162.28\"/>\n",
       "<polygon fill=\"#838b8b\" stroke=\"#838b8b\" points=\"3021.81,-158.87 3011.26,-159.84 3020.11,-165.66 3021.81,-158.87\"/>\n",
       "</g>\n",
       "<!-- callgraphX__tile_7_7 -->\n",
       "<g id=\"node66\" class=\"node\">\n",
       "<title>callgraphX__tile_7_7</title>\n",
       "<ellipse fill=\"#fecccc\" fill-opacity=\"0.698039\" stroke=\"black\" cx=\"3139.99\" cy=\"-140.61\" rx=\"84.71\" ry=\"26.74\"/>\n",
       "<text text-anchor=\"middle\" x=\"3139.99\" y=\"-144.41\" font-family=\"Times,serif\" font-size=\"14.00\" fill=\"#000000\">tile_7_7</text>\n",
       "<text text-anchor=\"middle\" x=\"3139.99\" y=\"-129.41\" font-family=\"Times,serif\" font-size=\"14.00\" fill=\"#000000\">(callgraph.py:401)</text>\n",
       "</g>\n",
       "<!-- callgraphX&#45;&gt;callgraphX__tile_7_7 -->\n",
       "<g id=\"edge29\" class=\"edge\">\n",
       "<title>callgraphX&#45;&gt;callgraphX__tile_7_7</title>\n",
       "<path fill=\"none\" stroke=\"#838b8b\" stroke-dasharray=\"5,2\" d=\"M3805.89,-1920.1C3798.13,-1915.93 3789.37,-1911.66 3780.99,-1908.54 3714.3,-1883.72 3675.37,-1922.79 3624.99,-1872.54 3587.63,-1835.28 3597.99,-1809.7 3597.99,-1756.93 3597.99,-1756.93 3597.99,-1756.93 3597.99,-319.09 3597.99,-293.15 3600.64,-221.5 3581.99,-203.48 3526.08,-149.46 3310.4,-181.84 3233.99,-167.48 3226.06,-165.99 3217.84,-164.16 3209.69,-162.17\"/>\n",
       "<polygon fill=\"#838b8b\" stroke=\"#838b8b\" points=\"3210.37,-158.73 3199.82,-159.67 3208.65,-165.51 3210.37,-158.73\"/>\n",
       "</g>\n",
       "<!-- callgraphX__tile_7_8 -->\n",
       "<g id=\"node67\" class=\"node\">\n",
       "<title>callgraphX__tile_7_8</title>\n",
       "<ellipse fill=\"#fecccc\" fill-opacity=\"0.698039\" stroke=\"black\" cx=\"3327.99\" cy=\"-140.61\" rx=\"84.71\" ry=\"26.74\"/>\n",
       "<text text-anchor=\"middle\" x=\"3327.99\" y=\"-144.41\" font-family=\"Times,serif\" font-size=\"14.00\" fill=\"#000000\">tile_7_8</text>\n",
       "<text text-anchor=\"middle\" x=\"3327.99\" y=\"-129.41\" font-family=\"Times,serif\" font-size=\"14.00\" fill=\"#000000\">(callgraph.py:406)</text>\n",
       "</g>\n",
       "<!-- callgraphX&#45;&gt;callgraphX__tile_7_8 -->\n",
       "<g id=\"edge33\" class=\"edge\">\n",
       "<title>callgraphX&#45;&gt;callgraphX__tile_7_8</title>\n",
       "<path fill=\"none\" stroke=\"#838b8b\" stroke-dasharray=\"5,2\" d=\"M3805.18,-1920.34C3797.54,-1916.27 3789.03,-1912 3780.99,-1908.54 3735.29,-1888.87 3712.39,-1905.35 3674.99,-1872.54 3631.92,-1834.76 3617.99,-1814.22 3617.99,-1756.93 3617.99,-1756.93 3617.99,-1756.93 3617.99,-319.09 3617.99,-293.18 3620.68,-222.4 3602.99,-203.48 3546.98,-143.56 3501.8,-186.37 3421.99,-167.48 3414.58,-165.73 3406.87,-163.79 3399.19,-161.79\"/>\n",
       "<polygon fill=\"#838b8b\" stroke=\"#838b8b\" points=\"3400.08,-158.4 3389.51,-159.23 3398.28,-165.17 3400.08,-158.4\"/>\n",
       "</g>\n",
       "<!-- callgraphX__maze&#45;&gt;callgraphX__tile_2_1 -->\n",
       "<g id=\"edge83\" class=\"edge\">\n",
       "<title>callgraphX__maze&#45;&gt;callgraphX__tile_2_1</title>\n",
       "<path fill=\"none\" stroke=\"#000000\" d=\"M604.44,-2178.72C594.57,-2169.1 583.16,-2157.98 572.7,-2147.78\"/>\n",
       "<polygon fill=\"#000000\" stroke=\"#000000\" points=\"574.89,-2145.03 565.29,-2140.56 570.01,-2150.05 574.89,-2145.03\"/>\n",
       "</g>\n",
       "<!-- callgraphX__tile_1_0&#45;&gt;callgraphX__print_maze -->\n",
       "<g id=\"edge67\" class=\"edge\">\n",
       "<title>callgraphX__tile_1_0&#45;&gt;callgraphX__print_maze</title>\n",
       "<path fill=\"none\" stroke=\"#000000\" d=\"M3455.45,-121.15C3444.47,-118.16 3432.95,-115.48 3421.99,-113.74 3060.17,-56.27 1906.91,-51.86 1583.21,-51.78\"/>\n",
       "<polygon fill=\"#000000\" stroke=\"#000000\" points=\"1582.96,-48.28 1572.96,-51.77 1582.96,-55.28 1582.96,-48.28\"/>\n",
       "</g>\n",
       "<!-- callgraphX__tile_1_1&#45;&gt;callgraphX__print_maze -->\n",
       "<g id=\"edge68\" class=\"edge\">\n",
       "<title>callgraphX__tile_1_1&#45;&gt;callgraphX__print_maze</title>\n",
       "<path fill=\"none\" stroke=\"#000000\" d=\"M882.01,-1106.37C862.69,-1096.29 841.66,-1082.47 826.99,-1064.88 810.66,-1045.31 821.32,-1032.22 806.99,-1011.14 793.54,-991.36 777.98,-996.38 766.99,-975.14 758.69,-959.1 733.02,-669.79 728.99,-652.18 719.58,-611.05 725.72,-594.25 697.99,-562.44 674.74,-535.77 647.41,-555.33 626.99,-526.44 597.08,-484.13 611.99,-462.64 611.99,-410.83 611.99,-410.83 611.99,-410.83 611.99,-229.35 611.99,-177.54 589.3,-149.3 626.99,-113.74 683.31,-60.6 1204.46,-52.87 1412.66,-51.92\"/>\n",
       "<polygon fill=\"#000000\" stroke=\"#000000\" points=\"1412.95,-55.42 1422.93,-51.88 1412.92,-48.42 1412.95,-55.42\"/>\n",
       "</g>\n",
       "<!-- callgraphX__tile_1_2&#45;&gt;callgraphX__print_maze -->\n",
       "<g id=\"edge69\" class=\"edge\">\n",
       "<title>callgraphX__tile_1_2&#45;&gt;callgraphX__print_maze</title>\n",
       "<path fill=\"none\" stroke=\"#000000\" d=\"M3633.46,-121.13C3622.48,-118.14 3610.96,-115.47 3599.99,-113.74 3201.67,-51.03 1925.75,-50.48 1583.27,-51.5\"/>\n",
       "<polygon fill=\"#000000\" stroke=\"#000000\" points=\"1583.16,-48 1573.17,-51.54 1583.18,-55 1583.16,-48\"/>\n",
       "</g>\n",
       "<!-- callgraphX__tile_1_3&#45;&gt;callgraphX__print_maze -->\n",
       "<g id=\"edge70\" class=\"edge\">\n",
       "<title>callgraphX__tile_1_3&#45;&gt;callgraphX__print_maze</title>\n",
       "<path fill=\"none\" stroke=\"#000000\" d=\"M1056.44,-474.95C1018.22,-444.2 959.99,-386.61 959.99,-321.09 959.99,-321.09 959.99,-321.09 959.99,-229.35 959.99,-177.54 938.15,-150.17 974.99,-113.74 1005.57,-83.5 1273.75,-64.29 1413.73,-56.23\"/>\n",
       "<polygon fill=\"#000000\" stroke=\"#000000\" points=\"1414.21,-59.71 1423.99,-55.65 1413.81,-52.72 1414.21,-59.71\"/>\n",
       "</g>\n",
       "<!-- callgraphX__tile_1_4&#45;&gt;callgraphX__print_maze -->\n",
       "<g id=\"edge71\" class=\"edge\">\n",
       "<title>callgraphX__tile_1_4&#45;&gt;callgraphX__print_maze</title>\n",
       "<path fill=\"none\" stroke=\"#000000\" d=\"M2114.91,-654.46C2126.75,-644.21 2138.65,-631.12 2144.99,-616.18 2165.23,-568.47 2179.18,-421.91 2144.99,-382.96 2063.37,-290 1972.35,-414.93 1868.99,-346.96 1845.76,-331.69 1859.63,-309.35 1836.99,-293.22 1772.66,-247.41 1718.89,-313 1662.99,-257.22 1616.87,-211.2 1673.63,-164.66 1632.99,-113.74 1616.8,-93.46 1592.48,-79.57 1568.92,-70.17\"/>\n",
       "<polygon fill=\"#000000\" stroke=\"#000000\" points=\"1569.84,-66.77 1559.25,-66.53 1567.38,-73.33 1569.84,-66.77\"/>\n",
       "</g>\n",
       "<!-- callgraphX__tile_1_5&#45;&gt;callgraphX__print_maze -->\n",
       "<g id=\"edge72\" class=\"edge\">\n",
       "<title>callgraphX__tile_1_5&#45;&gt;callgraphX__print_maze</title>\n",
       "<path fill=\"none\" stroke=\"#000000\" d=\"M1162.03,-564.77C1173.91,-554.45 1186.07,-541.29 1192.99,-526.44 1206.49,-497.47 1200.69,-414.84 1202.99,-382.96 1207.3,-323.12 1183.8,-159.16 1222.99,-113.74 1247.87,-84.9 1344.19,-68.25 1415.86,-59.64\"/>\n",
       "<polygon fill=\"#000000\" stroke=\"#000000\" points=\"1416.27,-63.12 1425.79,-58.48 1415.46,-56.16 1416.27,-63.12\"/>\n",
       "</g>\n",
       "<!-- callgraphX__tile_1_6&#45;&gt;callgraphX__print_maze -->\n",
       "<g id=\"edge73\" class=\"edge\">\n",
       "<title>callgraphX__tile_1_6&#45;&gt;callgraphX__print_maze</title>\n",
       "<path fill=\"none\" stroke=\"#000000\" d=\"M814.34,-472.46C818.48,-437.9 824.99,-375.03 824.99,-321.09 824.99,-321.09 824.99,-321.09 824.99,-229.35 824.99,-176.27 814.61,-148.2 854.99,-113.74 896.61,-78.22 1248.48,-60.9 1413.36,-54.67\"/>\n",
       "<polygon fill=\"#000000\" stroke=\"#000000\" points=\"1413.61,-58.17 1423.47,-54.3 1413.34,-51.17 1413.61,-58.17\"/>\n",
       "</g>\n",
       "<!-- callgraphX__tile_1_7&#45;&gt;callgraphX__print_maze -->\n",
       "<g id=\"edge74\" class=\"edge\">\n",
       "<title>callgraphX__tile_1_7&#45;&gt;callgraphX__print_maze</title>\n",
       "<path fill=\"none\" stroke=\"#000000\" d=\"M1656.21,-391.35C1646.15,-388.47 1635.78,-385.57 1625.99,-382.96 1560.58,-365.51 1519.82,-400.19 1477.99,-346.96 1468.19,-334.5 1450.21,-314.69 1479.99,-113.74 1481.27,-105.07 1483.46,-95.91 1485.87,-87.38\"/>\n",
       "<polygon fill=\"#000000\" stroke=\"#000000\" points=\"1489.25,-88.3 1488.77,-77.71 1482.54,-86.29 1489.25,-88.3\"/>\n",
       "</g>\n",
       "<!-- callgraphX__tile_1_8&#45;&gt;callgraphX__print_maze -->\n",
       "<g id=\"edge75\" class=\"edge\">\n",
       "<title>callgraphX__tile_1_8&#45;&gt;callgraphX__print_maze</title>\n",
       "<path fill=\"none\" stroke=\"#000000\" d=\"M570.5,-121.84C582.46,-118.69 595.06,-115.78 606.99,-113.74 899.77,-63.8 1253.23,-53.96 1412.66,-52.16\"/>\n",
       "<polygon fill=\"#000000\" stroke=\"#000000\" points=\"1412.92,-55.66 1422.88,-52.06 1412.84,-48.66 1412.92,-55.66\"/>\n",
       "</g>\n",
       "<!-- callgraphX__tile_2_0&#45;&gt;callgraphX__print_maze -->\n",
       "<g id=\"edge76\" class=\"edge\">\n",
       "<title>callgraphX__tile_2_0&#45;&gt;callgraphX__print_maze</title>\n",
       "<path fill=\"none\" stroke=\"#000000\" d=\"M1714.3,-1190.53C1715.7,-1133.87 1710.84,-998.11 1638.99,-921.4 1603.24,-883.24 1564.36,-921.97 1526.99,-885.4 1466.67,-826.37 1422.3,-608.6 1402.99,-526.44 1391.14,-476 1387.99,-462.64 1387.99,-410.83 1387.99,-410.83 1387.99,-410.83 1387.99,-229.35 1387.99,-177.54 1375.41,-157.6 1402.99,-113.74 1412.45,-98.7 1427.05,-86.57 1441.99,-77.17\"/>\n",
       "<polygon fill=\"#000000\" stroke=\"#000000\" points=\"1443.98,-80.06 1450.79,-71.95 1440.4,-74.04 1443.98,-80.06\"/>\n",
       "</g>\n",
       "<!-- callgraphX__tile_2_1&#45;&gt;callgraphX__print_maze -->\n",
       "<g id=\"edge77\" class=\"edge\">\n",
       "<title>callgraphX__tile_2_1&#45;&gt;callgraphX__print_maze</title>\n",
       "<path fill=\"none\" stroke=\"#000000\" d=\"M469.78,-2101.94C349.73,-2079.89 113.36,-2028.91 65.99,-1962.28 50.49,-1940.48 68.49,-1826.92 76.99,-1818.8 114.94,-1782.55 495.97,-1789.79 547.99,-1782.8 766.33,-1753.49 1029.99,-1887.49 1029.99,-1667.19 1029.99,-1667.19 1029.99,-1667.19 1029.99,-1216.49 1029.99,-1190.7 1037.21,-1120.07 1019.99,-1100.88 964.62,-1039.19 897.84,-1121.17 836.99,-1064.88 818.78,-1048.04 833.86,-1032.91 821.99,-1011.14 811.74,-992.35 799.17,-994.48 789.99,-975.14 758.82,-909.47 752.43,-723.42 737.99,-652.18 729.83,-611.93 741.61,-594.53 715.99,-562.44 693.67,-534.48 664.35,-555.86 643.99,-526.44 614.6,-483.96 631.99,-462.49 631.99,-410.83 631.99,-410.83 631.99,-410.83 631.99,-229.35 631.99,-177.78 605.26,-149.95 641.99,-113.74 696.08,-60.41 1207.2,-52.78 1412.87,-51.89\"/>\n",
       "<polygon fill=\"#000000\" stroke=\"#000000\" points=\"1413.04,-55.39 1423.03,-51.85 1413.01,-48.39 1413.04,-55.39\"/>\n",
       "</g>\n",
       "<!-- callgraphX__tile_2_1&#45;&gt;callgraphX__tile_1_1 -->\n",
       "<g id=\"edge79\" class=\"edge\">\n",
       "<title>callgraphX__tile_2_1&#45;&gt;callgraphX__tile_1_1</title>\n",
       "<path fill=\"none\" stroke=\"#000000\" d=\"M461.49,-2109.57C330.18,-2101.52 77.65,-2082.27 50.99,-2052.02 -17.55,-1974.26 -16.34,-1897.61 50.99,-1818.8 191.14,-1654.76 1009.99,-1882.95 1009.99,-1667.19 1009.99,-1667.19 1009.99,-1667.19 1009.99,-1306.23 1009.99,-1254.8 1027.77,-1236.73 1004.99,-1190.62 998.72,-1177.94 988.53,-1166.88 977.69,-1157.77\"/>\n",
       "<polygon fill=\"#000000\" stroke=\"#000000\" points=\"979.74,-1154.93 969.73,-1151.48 975.4,-1160.43 979.74,-1154.93\"/>\n",
       "</g>\n",
       "<!-- callgraphX__tile_2_1&#45;&gt;callgraphX__tile_2_0 -->\n",
       "<g id=\"edge82\" class=\"edge\">\n",
       "<title>callgraphX__tile_2_1&#45;&gt;callgraphX__tile_2_0</title>\n",
       "<path fill=\"none\" stroke=\"#000000\" d=\"M542.1,-2087.55C547.89,-2018.55 564.93,-1836.6 584.99,-1818.8 677.95,-1736.31 1612.76,-1868.28 1702.99,-1782.8 1740.43,-1747.33 1712.99,-1718.77 1712.99,-1667.19 1712.99,-1667.19 1712.99,-1667.19 1712.99,-1395.97 1712.99,-1347.24 1712.99,-1290.99 1712.99,-1255.11\"/>\n",
       "<polygon fill=\"#000000\" stroke=\"#000000\" points=\"1716.49,-1254.65 1712.99,-1244.65 1709.49,-1254.65 1716.49,-1254.65\"/>\n",
       "</g>\n",
       "<!-- callgraphX__tile_2_1&#45;&gt;callgraphX__tile_2_1 -->\n",
       "<g id=\"edge78\" class=\"edge\">\n",
       "<title>callgraphX__tile_2_1&#45;&gt;callgraphX__tile_2_1</title>\n",
       "<path fill=\"none\" stroke=\"#000000\" d=\"M603.55,-2131.37C622.82,-2130.95 637.89,-2125.46 637.89,-2114.89 637.89,-2106.3 627.94,-2101.07 613.88,-2099.19\"/>\n",
       "<polygon fill=\"#000000\" stroke=\"#000000\" points=\"613.78,-2095.67 603.55,-2098.42 613.26,-2102.65 613.78,-2095.67\"/>\n",
       "</g>\n",
       "<!-- callgraphX__tile_2_1&#45;&gt;callgraphX__tile_2_2 -->\n",
       "<g id=\"edge80\" class=\"edge\">\n",
       "<title>callgraphX__tile_2_1&#45;&gt;callgraphX__tile_2_2</title>\n",
       "<path fill=\"none\" stroke=\"#000000\" d=\"M545.6,-2088.04C547.95,-2076.96 550.68,-2063.87 552.99,-2052.02 554.25,-2045.56 590.01,-1823.1 594.99,-1818.8 689.39,-1737.28 1617.73,-1858.34 1716.99,-1782.8 1759.81,-1750.21 1752.99,-1721.01 1752.99,-1667.19 1752.99,-1667.19 1752.99,-1667.19 1752.99,-1575.45 1752.99,-1375.19 1811.99,-1329.01 1811.99,-1128.75 1811.99,-1128.75 1811.99,-1128.75 1811.99,-947.27 1811.99,-896.5 1829.85,-840.1 1843.31,-804.79\"/>\n",
       "<polygon fill=\"#000000\" stroke=\"#000000\" points=\"1846.59,-806 1846.97,-795.41 1840.07,-803.45 1846.59,-806\"/>\n",
       "</g>\n",
       "<!-- callgraphX__tile_2_1&#45;&gt;callgraphX__tile_3_1 -->\n",
       "<g id=\"edge81\" class=\"edge\">\n",
       "<title>callgraphX__tile_2_1&#45;&gt;callgraphX__tile_3_1</title>\n",
       "<path fill=\"none\" stroke=\"#000000\" d=\"M502.25,-2091.07C486.91,-2080.62 469.32,-2068.07 454.15,-2056.81\"/>\n",
       "<polygon fill=\"#000000\" stroke=\"#000000\" points=\"456.1,-2053.9 446,-2050.71 451.91,-2059.5 456.1,-2053.9\"/>\n",
       "</g>\n",
       "<!-- callgraphX__tile_2_2&#45;&gt;callgraphX__print_maze -->\n",
       "<g id=\"edge84\" class=\"edge\">\n",
       "<title>callgraphX__tile_2_2&#45;&gt;callgraphX__print_maze</title>\n",
       "<path fill=\"none\" stroke=\"#000000\" d=\"M1888.93,-743.96C1902.62,-732.92 1918.6,-719.3 1931.99,-705.92 1954.02,-683.9 1950.74,-668.97 1976.99,-652.18 2028.58,-619.19 2072.77,-664.81 2109.99,-616.18 2125.97,-595.29 2149.56,-434.79 2101.99,-382.96 2018.64,-292.15 1932.93,-409.98 1826.99,-346.96 1801.63,-331.87 1812.69,-309.37 1787.99,-293.22 1725.16,-252.15 1677.39,-308.94 1622.99,-257.22 1575.09,-211.69 1621.64,-168.05 1583.99,-113.74 1574.53,-100.1 1561.05,-88.38 1547.56,-78.93\"/>\n",
       "<polygon fill=\"#000000\" stroke=\"#000000\" points=\"1549.45,-75.99 1539.19,-73.35 1545.56,-81.81 1549.45,-75.99\"/>\n",
       "</g>\n",
       "<!-- callgraphX__tile_2_3&#45;&gt;callgraphX__print_maze -->\n",
       "<g id=\"edge85\" class=\"edge\">\n",
       "<title>callgraphX__tile_2_3&#45;&gt;callgraphX__print_maze</title>\n",
       "<path fill=\"none\" stroke=\"#000000\" d=\"M1582.62,-837.2C1565.28,-827.37 1547.72,-813.72 1537.99,-795.66 1507.73,-739.53 1499.64,-703.13 1537.99,-652.18 1572.75,-605.99 1609.23,-637.45 1662.99,-616.18 1711.74,-596.9 1721.02,-585.73 1767.99,-562.44 1796.92,-548.1 2012.79,-464.03 2029.99,-436.7 2042.71,-416.49 2045.93,-400.74 2029.99,-382.96 1980.89,-328.2 1758.26,-393.11 1700.99,-346.96 1681.38,-331.16 1701.54,-310.26 1682.99,-293.22 1633.14,-247.42 1581.39,-306.51 1534.99,-257.22 1523.53,-245.05 1509.36,-143.65 1502.34,-88.04\"/>\n",
       "<polygon fill=\"#000000\" stroke=\"#000000\" points=\"1505.79,-87.38 1501.08,-77.89 1498.84,-88.25 1505.79,-87.38\"/>\n",
       "</g>\n",
       "<!-- callgraphX__tile_2_3&#45;&gt;callgraphX__tile_1_3 -->\n",
       "<g id=\"edge87\" class=\"edge\">\n",
       "<title>callgraphX__tile_2_3&#45;&gt;callgraphX__tile_1_3</title>\n",
       "<path fill=\"none\" stroke=\"#000000\" d=\"M1581.64,-837.62C1436.25,-780.1 1026.04,-617.72 1024.99,-616.18 1011.58,-596.42 1015.66,-584.43 1024.99,-562.44 1029.99,-550.65 1038.46,-540.02 1047.62,-531.02\"/>\n",
       "<polygon fill=\"#000000\" stroke=\"#000000\" points=\"1050.08,-533.51 1055.07,-524.16 1045.34,-528.36 1050.08,-533.51\"/>\n",
       "</g>\n",
       "<!-- callgraphX__tile_2_3&#45;&gt;callgraphX__tile_2_2 -->\n",
       "<g id=\"edge86\" class=\"edge\">\n",
       "<title>callgraphX__tile_2_3&#45;&gt;callgraphX__tile_2_2</title>\n",
       "<path fill=\"none\" stroke=\"#000000\" d=\"M1682.99,-837.73C1716.93,-824.55 1761.68,-807.18 1797.43,-793.3\"/>\n",
       "<polygon fill=\"#000000\" stroke=\"#000000\" points=\"1798.73,-796.55 1806.78,-789.67 1796.19,-790.03 1798.73,-796.55\"/>\n",
       "</g>\n",
       "<!-- callgraphX__tile_2_3&#45;&gt;callgraphX__tile_2_3 -->\n",
       "<g id=\"edge88\" class=\"edge\">\n",
       "<title>callgraphX__tile_2_3&#45;&gt;callgraphX__tile_2_3</title>\n",
       "<path fill=\"none\" stroke=\"#000000\" d=\"M1695.55,-875.01C1714.82,-874.59 1729.89,-869.1 1729.89,-858.53 1729.89,-849.94 1719.94,-844.71 1705.88,-842.82\"/>\n",
       "<polygon fill=\"#000000\" stroke=\"#000000\" points=\"1705.78,-839.31 1695.55,-842.06 1705.26,-846.29 1705.78,-839.31\"/>\n",
       "</g>\n",
       "<!-- callgraphX__tile_2_3&#45;&gt;callgraphX__tile_2_4 -->\n",
       "<g id=\"edge90\" class=\"edge\">\n",
       "<title>callgraphX__tile_2_3&#45;&gt;callgraphX__tile_2_4</title>\n",
       "<path fill=\"none\" stroke=\"#000000\" d=\"M1625.77,-831.68C1625.27,-823.63 1625.12,-814.6 1625.33,-805.98\"/>\n",
       "<polygon fill=\"#000000\" stroke=\"#000000\" points=\"1628.84,-805.9 1625.77,-795.76 1621.84,-805.6 1628.84,-805.9\"/>\n",
       "</g>\n",
       "<!-- callgraphX__tile_2_3&#45;&gt;callgraphX__tile_3_3 -->\n",
       "<g id=\"edge89\" class=\"edge\">\n",
       "<title>callgraphX__tile_2_3&#45;&gt;callgraphX__tile_3_3</title>\n",
       "<path fill=\"none\" stroke=\"#000000\" d=\"M1569.94,-875.6C1507.23,-890.98 1410.25,-914.12 1342.3,-929.91\"/>\n",
       "<polygon fill=\"#000000\" stroke=\"#000000\" points=\"1341.44,-926.52 1332.49,-932.19 1343.02,-933.34 1341.44,-926.52\"/>\n",
       "</g>\n",
       "<!-- callgraphX__tile_2_4&#45;&gt;callgraphX__print_maze -->\n",
       "<g id=\"edge91\" class=\"edge\">\n",
       "<title>callgraphX__tile_2_4&#45;&gt;callgraphX__print_maze</title>\n",
       "<path fill=\"none\" stroke=\"#000000\" d=\"M1568.32,-750.95C1482,-728.19 1323.01,-686.5 1186.99,-652.18 1121.77,-635.72 1081.51,-669.1 1039.99,-616.18 1025.24,-597.39 1025.39,-581.34 1039.99,-562.44 1078.74,-512.28 1139.24,-576.6 1177.99,-526.44 1192.59,-507.54 1189.37,-493.7 1177.99,-472.7 1129.21,-382.69 1033.77,-436.97 984.99,-346.96 969.8,-318.93 973.64,-233.28 984.99,-203.48 1004.01,-153.55 1017.9,-139 1064.99,-113.74 1123.74,-82.23 1305.6,-64.84 1414.05,-57.02\"/>\n",
       "<polygon fill=\"#000000\" stroke=\"#000000\" points=\"1414.58,-60.49 1424.31,-56.29 1414.09,-53.51 1414.58,-60.49\"/>\n",
       "</g>\n",
       "<!-- callgraphX__tile_2_4&#45;&gt;callgraphX__tile_1_4 -->\n",
       "<g id=\"edge93\" class=\"edge\">\n",
       "<title>callgraphX__tile_2_4&#45;&gt;callgraphX__tile_1_4</title>\n",
       "<path fill=\"none\" stroke=\"#000000\" d=\"M1703.13,-753.89C1784.87,-737.92 1918.57,-711.79 2003.06,-695.28\"/>\n",
       "<polygon fill=\"#000000\" stroke=\"#000000\" points=\"2003.97,-698.67 2013.12,-693.31 2002.63,-691.8 2003.97,-698.67\"/>\n",
       "</g>\n",
       "<!-- callgraphX__tile_2_4&#45;&gt;callgraphX__tile_2_3 -->\n",
       "<g id=\"edge94\" class=\"edge\">\n",
       "<title>callgraphX__tile_2_4&#45;&gt;callgraphX__tile_2_3</title>\n",
       "<path fill=\"none\" stroke=\"#000000\" d=\"M1638.21,-795.76C1638.71,-803.82 1638.86,-812.85 1638.64,-821.47\"/>\n",
       "<polygon fill=\"#000000\" stroke=\"#000000\" points=\"1635.14,-821.54 1638.2,-831.68 1642.13,-821.84 1635.14,-821.54\"/>\n",
       "</g>\n",
       "<!-- callgraphX__tile_2_4&#45;&gt;callgraphX__tile_2_4 -->\n",
       "<g id=\"edge96\" class=\"edge\">\n",
       "<title>callgraphX__tile_2_4&#45;&gt;callgraphX__tile_2_4</title>\n",
       "<path fill=\"none\" stroke=\"#000000\" d=\"M1699.26,-785.25C1719.27,-784.76 1734.84,-779.28 1734.84,-768.79 1734.84,-760.19 1724.36,-754.95 1709.55,-753.08\"/>\n",
       "<polygon fill=\"#000000\" stroke=\"#000000\" points=\"1709.48,-749.56 1699.26,-752.33 1708.97,-756.54 1709.48,-749.56\"/>\n",
       "</g>\n",
       "<!-- callgraphX__tile_2_4&#45;&gt;callgraphX__tile_2_5 -->\n",
       "<g id=\"edge92\" class=\"edge\">\n",
       "<title>callgraphX__tile_2_4&#45;&gt;callgraphX__tile_2_5</title>\n",
       "<path fill=\"none\" stroke=\"#000000\" d=\"M1673.94,-745.42C1699.36,-733.11 1732.13,-717.79 1760.21,-705.07\"/>\n",
       "<polygon fill=\"#000000\" stroke=\"#000000\" points=\"1761.86,-708.17 1769.54,-700.87 1758.98,-701.79 1761.86,-708.17\"/>\n",
       "</g>\n",
       "<!-- callgraphX__tile_2_4&#45;&gt;callgraphX__tile_3_4 -->\n",
       "<g id=\"edge95\" class=\"edge\">\n",
       "<title>callgraphX__tile_2_4&#45;&gt;callgraphX__tile_3_4</title>\n",
       "<path fill=\"none\" stroke=\"#000000\" d=\"M1631.99,-741.47C1631.99,-733.5 1631.99,-724.61 1631.99,-716.12\"/>\n",
       "<polygon fill=\"#000000\" stroke=\"#000000\" points=\"1635.49,-716.05 1631.99,-706.05 1628.49,-716.05 1635.49,-716.05\"/>\n",
       "</g>\n",
       "<!-- callgraphX__tile_2_5&#45;&gt;callgraphX__print_maze -->\n",
       "<g id=\"edge97\" class=\"edge\">\n",
       "<title>callgraphX__tile_2_5&#45;&gt;callgraphX__print_maze</title>\n",
       "<path fill=\"none\" stroke=\"#000000\" d=\"M1836.55,-652.46C1854.64,-626.39 1885.9,-586.48 1921.99,-562.44 1963.4,-534.86 1992.03,-560.83 2027.99,-526.44 2075.42,-481.07 2106.57,-432.04 2062.99,-382.96 2018.12,-332.42 1817.14,-384.57 1760.99,-346.96 1738.26,-331.74 1752.82,-309.7 1730.99,-293.22 1675.22,-251.15 1627.75,-306.25 1577.99,-257.22 1554.57,-234.15 1555.75,-143.59 1541.99,-113.74 1537.43,-103.85 1531.23,-93.9 1524.93,-84.96\"/>\n",
       "<polygon fill=\"#000000\" stroke=\"#000000\" points=\"1527.63,-82.74 1518.9,-76.74 1521.99,-86.87 1527.63,-82.74\"/>\n",
       "</g>\n",
       "<!-- callgraphX__tile_2_5&#45;&gt;callgraphX__tile_1_5 -->\n",
       "<g id=\"edge101\" class=\"edge\">\n",
       "<title>callgraphX__tile_2_5&#45;&gt;callgraphX__tile_1_5</title>\n",
       "<path fill=\"none\" stroke=\"#000000\" d=\"M1760.16,-660C1748.88,-657.05 1737.13,-654.28 1725.99,-652.18 1630.58,-634.24 1357.77,-609.63 1216.36,-597.58\"/>\n",
       "<polygon fill=\"#000000\" stroke=\"#000000\" points=\"1216.25,-594.05 1205.99,-596.69 1215.66,-601.03 1216.25,-594.05\"/>\n",
       "</g>\n",
       "<!-- callgraphX__tile_2_5&#45;&gt;callgraphX__tile_2_4 -->\n",
       "<g id=\"edge102\" class=\"edge\">\n",
       "<title>callgraphX__tile_2_5&#45;&gt;callgraphX__tile_2_4</title>\n",
       "<path fill=\"none\" stroke=\"#000000\" d=\"M1777.78,-702.54C1752.37,-714.85 1719.69,-730.13 1691.68,-742.81\"/>\n",
       "<polygon fill=\"#000000\" stroke=\"#000000\" points=\"1690.06,-739.7 1682.38,-747 1692.94,-746.08 1690.06,-739.7\"/>\n",
       "</g>\n",
       "<!-- callgraphX__tile_2_5&#45;&gt;callgraphX__tile_2_5 -->\n",
       "<g id=\"edge99\" class=\"edge\">\n",
       "<title>callgraphX__tile_2_5&#45;&gt;callgraphX__tile_2_5</title>\n",
       "<path fill=\"none\" stroke=\"#000000\" d=\"M1887.26,-695.51C1907.27,-695.02 1922.84,-689.54 1922.84,-679.05 1922.84,-670.45 1912.36,-665.21 1897.55,-663.34\"/>\n",
       "<polygon fill=\"#000000\" stroke=\"#000000\" points=\"1897.48,-659.82 1887.26,-662.59 1896.97,-666.8 1897.48,-659.82\"/>\n",
       "</g>\n",
       "<!-- callgraphX__tile_2_5&#45;&gt;callgraphX__tile_2_6 -->\n",
       "<g id=\"edge100\" class=\"edge\">\n",
       "<title>callgraphX__tile_2_5&#45;&gt;callgraphX__tile_2_6</title>\n",
       "<path fill=\"none\" stroke=\"#000000\" d=\"M1759.33,-660.08C1716.34,-646.52 1658.83,-627.81 1615.09,-613.18\"/>\n",
       "<polygon fill=\"#000000\" stroke=\"#000000\" points=\"1616.01,-609.79 1605.41,-609.93 1613.78,-616.43 1616.01,-609.79\"/>\n",
       "</g>\n",
       "<!-- callgraphX__tile_2_5&#45;&gt;callgraphX__tile_3_5 -->\n",
       "<g id=\"edge98\" class=\"edge\">\n",
       "<title>callgraphX__tile_2_5&#45;&gt;callgraphX__tile_3_5</title>\n",
       "<path fill=\"none\" stroke=\"#000000\" d=\"M1867.68,-656.7C1895.29,-644.34 1930.21,-628.71 1959.22,-615.72\"/>\n",
       "<polygon fill=\"#000000\" stroke=\"#000000\" points=\"1960.72,-618.89 1968.42,-611.61 1957.86,-612.5 1960.72,-618.89\"/>\n",
       "</g>\n",
       "<!-- callgraphX__tile_2_6&#45;&gt;callgraphX__print_maze -->\n",
       "<g id=\"edge103\" class=\"edge\">\n",
       "<title>callgraphX__tile_2_6&#45;&gt;callgraphX__print_maze</title>\n",
       "<path fill=\"none\" stroke=\"#000000\" d=\"M1503.85,-566.59C1486.81,-556.58 1468.86,-543.17 1456.99,-526.44 1426.33,-483.24 1427.99,-463.8 1427.99,-410.83 1427.99,-410.83 1427.99,-410.83 1427.99,-229.35 1427.99,-177.48 1422.48,-160.94 1443.99,-113.74 1448.88,-103 1456.25,-92.74 1463.99,-83.77\"/>\n",
       "<polygon fill=\"#000000\" stroke=\"#000000\" points=\"1466.7,-86 1470.83,-76.24 1461.52,-81.29 1466.7,-86\"/>\n",
       "</g>\n",
       "<!-- callgraphX__tile_2_6&#45;&gt;callgraphX__tile_1_6 -->\n",
       "<g id=\"edge104\" class=\"edge\">\n",
       "<title>callgraphX__tile_2_6&#45;&gt;callgraphX__tile_1_6</title>\n",
       "<path fill=\"none\" stroke=\"#000000\" d=\"M1471.07,-579.95C1363.82,-568.59 1167.39,-547.29 999.99,-526.44 965.14,-522.1 926.74,-516.92 893.7,-512.33\"/>\n",
       "<polygon fill=\"#000000\" stroke=\"#000000\" points=\"894.02,-508.84 883.63,-510.93 893.05,-515.78 894.02,-508.84\"/>\n",
       "</g>\n",
       "<!-- callgraphX__tile_2_6&#45;&gt;callgraphX__tile_2_5 -->\n",
       "<g id=\"edge105\" class=\"edge\">\n",
       "<title>callgraphX__tile_2_6&#45;&gt;callgraphX__tile_2_5</title>\n",
       "<path fill=\"none\" stroke=\"#000000\" d=\"M1611.69,-608.29C1654.62,-621.84 1711.99,-640.5 1755.69,-655.12\"/>\n",
       "<polygon fill=\"#000000\" stroke=\"#000000\" points=\"1754.77,-658.5 1765.36,-658.36 1756.99,-651.86 1754.77,-658.5\"/>\n",
       "</g>\n",
       "<!-- callgraphX__tile_2_6&#45;&gt;callgraphX__tile_2_6 -->\n",
       "<g id=\"edge106\" class=\"edge\">\n",
       "<title>callgraphX__tile_2_6&#45;&gt;callgraphX__tile_2_6</title>\n",
       "<path fill=\"none\" stroke=\"#000000\" d=\"M1618.26,-605.77C1638.27,-605.28 1653.84,-599.8 1653.84,-589.31 1653.84,-580.71 1643.36,-575.47 1628.55,-573.6\"/>\n",
       "<polygon fill=\"#000000\" stroke=\"#000000\" points=\"1628.48,-570.08 1618.26,-572.85 1627.97,-577.06 1628.48,-570.08\"/>\n",
       "</g>\n",
       "<!-- callgraphX__tile_2_6&#45;&gt;callgraphX__tile_2_7 -->\n",
       "<g id=\"edge108\" class=\"edge\">\n",
       "<title>callgraphX__tile_2_6&#45;&gt;callgraphX__tile_2_7</title>\n",
       "<path fill=\"none\" stroke=\"#000000\" d=\"M1544.77,-562.46C1544.27,-554.41 1544.12,-545.38 1544.33,-536.76\"/>\n",
       "<polygon fill=\"#000000\" stroke=\"#000000\" points=\"1547.84,-536.68 1544.77,-526.54 1540.84,-536.38 1547.84,-536.68\"/>\n",
       "</g>\n",
       "<!-- callgraphX__tile_2_6&#45;&gt;callgraphX__tile_3_6 -->\n",
       "<g id=\"edge107\" class=\"edge\">\n",
       "<title>callgraphX__tile_2_6&#45;&gt;callgraphX__tile_3_6</title>\n",
       "<path fill=\"none\" stroke=\"#000000\" d=\"M1613.26,-571.03C1674.48,-550.3 1764.32,-508.97 1803.99,-436.7 1815.48,-415.76 1818.54,-401.9 1803.99,-382.96 1803.36,-382.14 1713.28,-358.28 1645.57,-340.44\"/>\n",
       "<polygon fill=\"#000000\" stroke=\"#000000\" points=\"1646.32,-337.01 1635.76,-337.85 1644.54,-343.78 1646.32,-337.01\"/>\n",
       "</g>\n",
       "<!-- callgraphX__tile_2_7&#45;&gt;callgraphX__print_maze -->\n",
       "<g id=\"edge109\" class=\"edge\">\n",
       "<title>callgraphX__tile_2_7&#45;&gt;callgraphX__print_maze</title>\n",
       "<path fill=\"none\" stroke=\"#000000\" d=\"M1481.59,-484C1342.19,-454.03 1038.94,-385.14 1009.99,-346.96 935.88,-249.22 1042.06,-179.9 1152.99,-113.74 1196.35,-87.88 1328.44,-69.55 1416.02,-59.85\"/>\n",
       "<polygon fill=\"#000000\" stroke=\"#000000\" points=\"1416.65,-63.31 1426.21,-58.74 1415.89,-56.35 1416.65,-63.31\"/>\n",
       "</g>\n",
       "<!-- callgraphX__tile_2_7&#45;&gt;callgraphX__tile_1_7 -->\n",
       "<g id=\"edge110\" class=\"edge\">\n",
       "<title>callgraphX__tile_2_7&#45;&gt;callgraphX__tile_1_7</title>\n",
       "<path fill=\"none\" stroke=\"#000000\" d=\"M1593.22,-475.98C1615.09,-464.28 1641.94,-449.91 1664.85,-437.65\"/>\n",
       "<polygon fill=\"#000000\" stroke=\"#000000\" points=\"1666.58,-440.7 1673.75,-432.89 1663.28,-434.53 1666.58,-440.7\"/>\n",
       "</g>\n",
       "<!-- callgraphX__tile_2_7&#45;&gt;callgraphX__tile_2_6 -->\n",
       "<g id=\"edge111\" class=\"edge\">\n",
       "<title>callgraphX__tile_2_7&#45;&gt;callgraphX__tile_2_6</title>\n",
       "<path fill=\"none\" stroke=\"#000000\" d=\"M1557.21,-526.54C1557.71,-534.6 1557.86,-543.63 1557.64,-552.25\"/>\n",
       "<polygon fill=\"#000000\" stroke=\"#000000\" points=\"1554.14,-552.32 1557.2,-562.46 1561.13,-552.62 1554.14,-552.32\"/>\n",
       "</g>\n",
       "<!-- callgraphX__tile_2_7&#45;&gt;callgraphX__tile_2_7 -->\n",
       "<g id=\"edge112\" class=\"edge\">\n",
       "<title>callgraphX__tile_2_7&#45;&gt;callgraphX__tile_2_7</title>\n",
       "<path fill=\"none\" stroke=\"#000000\" d=\"M1618.26,-516.03C1638.27,-515.54 1653.84,-510.06 1653.84,-499.57 1653.84,-490.97 1643.36,-485.73 1628.55,-483.86\"/>\n",
       "<polygon fill=\"#000000\" stroke=\"#000000\" points=\"1628.48,-480.34 1618.26,-483.11 1627.97,-487.32 1628.48,-480.34\"/>\n",
       "</g>\n",
       "<!-- callgraphX__tile_2_7&#45;&gt;callgraphX__tile_2_8 -->\n",
       "<g id=\"edge114\" class=\"edge\">\n",
       "<title>callgraphX__tile_2_7&#45;&gt;callgraphX__tile_2_8</title>\n",
       "<path fill=\"none\" stroke=\"#000000\" d=\"M1545.39,-472.72C1543.63,-464.58 1541.65,-455.44 1539.76,-446.74\"/>\n",
       "<polygon fill=\"#000000\" stroke=\"#000000\" points=\"1543.15,-445.83 1537.61,-436.8 1536.31,-447.31 1543.15,-445.83\"/>\n",
       "</g>\n",
       "<!-- callgraphX__tile_2_7&#45;&gt;callgraphX__tile_3_7 -->\n",
       "<g id=\"edge113\" class=\"edge\">\n",
       "<title>callgraphX__tile_2_7&#45;&gt;callgraphX__tile_3_7</title>\n",
       "<path fill=\"none\" stroke=\"#000000\" d=\"M1615.45,-481.86C1678.01,-466.49 1772.95,-443.79 1839.79,-428.21\"/>\n",
       "<polygon fill=\"#000000\" stroke=\"#000000\" points=\"1840.91,-431.54 1849.85,-425.87 1839.32,-424.72 1840.91,-431.54\"/>\n",
       "</g>\n",
       "<!-- callgraphX__tile_2_8&#45;&gt;callgraphX__print_maze -->\n",
       "<g id=\"edge115\" class=\"edge\">\n",
       "<title>callgraphX__tile_2_8&#45;&gt;callgraphX__print_maze</title>\n",
       "<path fill=\"none\" stroke=\"#000000\" d=\"M1495.11,-385.46C1482.48,-375.32 1469.81,-362.24 1462.99,-346.96 1420.73,-252.31 1436.6,-213.98 1462.99,-113.74 1465.51,-104.17 1469.88,-94.53 1474.7,-85.8\"/>\n",
       "<polygon fill=\"#000000\" stroke=\"#000000\" points=\"1477.78,-87.47 1479.82,-77.07 1471.74,-83.92 1477.78,-87.47\"/>\n",
       "</g>\n",
       "<!-- callgraphX__tile_3_0&#45;&gt;callgraphX__print_maze -->\n",
       "<g id=\"edge116\" class=\"edge\">\n",
       "<title>callgraphX__tile_3_0&#45;&gt;callgraphX__print_maze</title>\n",
       "<path fill=\"none\" stroke=\"#000000\" d=\"M123.11,-1911.04C110.48,-1900.9 97.81,-1887.82 90.99,-1872.54 81.25,-1850.73 74.42,-1836.01 90.99,-1818.8 163.78,-1743.18 957.47,-1853.57 1034.99,-1782.8 1073.25,-1747.87 1049.99,-1719.01 1049.99,-1667.19 1049.99,-1667.19 1049.99,-1667.19 1049.99,-1216.49 1049.99,-1164.68 1070.09,-1138.99 1034.99,-1100.88 983.25,-1044.72 928.4,-1110.26 866.99,-1064.88 844.99,-1048.63 852.48,-1033.69 836.99,-1011.14 825.2,-993.97 815.42,-994.19 806.99,-975.14 769.47,-890.36 802.82,-635.69 745.99,-562.44 722.34,-531.95 689.91,-557.48 666.99,-526.44 636.21,-484.76 651.99,-462.64 651.99,-410.83 651.99,-410.83 651.99,-410.83 651.99,-229.35 651.99,-177.54 629.36,-149.36 666.99,-113.74 720.3,-63.27 1211.46,-53.94 1412.65,-52.24\"/>\n",
       "<polygon fill=\"#000000\" stroke=\"#000000\" points=\"1412.91,-55.74 1422.88,-52.16 1412.85,-48.74 1412.91,-55.74\"/>\n",
       "</g>\n",
       "<!-- callgraphX__tile_3_1&#45;&gt;callgraphX__print_maze -->\n",
       "<g id=\"edge117\" class=\"edge\">\n",
       "<title>callgraphX__tile_3_1&#45;&gt;callgraphX__print_maze</title>\n",
       "<path fill=\"none\" stroke=\"#000000\" d=\"M348.57,-2009.49C320.35,-2000.28 289.6,-1985.56 268.99,-1962.28 252.55,-1943.72 271.31,-1926.29 253.99,-1908.54 215.68,-1869.31 168.62,-1916.61 135.99,-1872.54 121.78,-1853.35 119.44,-1836.02 135.99,-1818.8 206.51,-1745.46 974.74,-1850.17 1050.99,-1782.8 1070.5,-1765.56 1069.99,-1693.23 1069.99,-1667.19 1069.99,-1667.19 1069.99,-1667.19 1069.99,-1216.49 1069.99,-1164.35 1085.95,-1138.64 1049.99,-1100.88 999.42,-1047.79 948.37,-1107.89 888.99,-1064.88 866.48,-1048.57 873.58,-1033.45 856.99,-1011.14 844.03,-993.73 833.12,-994.83 823.99,-975.14 785,-891.03 821.37,-634.45 762.99,-562.44 738.69,-532.47 706.51,-557.77 683.99,-526.44 653.83,-484.5 671.99,-462.49 671.99,-410.83 671.99,-410.83 671.99,-410.83 671.99,-229.35 671.99,-177.78 645.33,-150.01 681.99,-113.74 733.14,-63.13 1214.42,-53.87 1412.97,-52.22\"/>\n",
       "<polygon fill=\"#000000\" stroke=\"#000000\" points=\"1413.09,-55.72 1423.07,-52.14 1413.04,-48.72 1413.09,-55.72\"/>\n",
       "</g>\n",
       "<!-- callgraphX__tile_3_1&#45;&gt;callgraphX__tile_2_1 -->\n",
       "<g id=\"edge118\" class=\"edge\">\n",
       "<title>callgraphX__tile_3_1&#45;&gt;callgraphX__tile_2_1</title>\n",
       "<path fill=\"none\" stroke=\"#000000\" d=\"M456.14,-2049.26C471.45,-2059.7 488.95,-2072.18 504.03,-2083.38\"/>\n",
       "<polygon fill=\"#000000\" stroke=\"#000000\" points=\"502.03,-2086.26 512.13,-2089.45 506.22,-2080.65 502.03,-2086.26\"/>\n",
       "</g>\n",
       "<!-- callgraphX__tile_3_1&#45;&gt;callgraphX__tile_3_0 -->\n",
       "<g id=\"edge119\" class=\"edge\">\n",
       "<title>callgraphX__tile_3_1&#45;&gt;callgraphX__tile_3_0</title>\n",
       "<path fill=\"none\" stroke=\"#000000\" d=\"M361.69,-2005.01C321.8,-1991.44 268.14,-1973.19 226.19,-1958.93\"/>\n",
       "<polygon fill=\"#000000\" stroke=\"#000000\" points=\"227.21,-1955.58 216.61,-1955.67 224.95,-1962.2 227.21,-1955.58\"/>\n",
       "</g>\n",
       "<!-- callgraphX__tile_3_1&#45;&gt;callgraphX__tile_3_1 -->\n",
       "<g id=\"edge122\" class=\"edge\">\n",
       "<title>callgraphX__tile_3_1&#45;&gt;callgraphX__tile_3_1</title>\n",
       "<path fill=\"none\" stroke=\"#000000\" d=\"M485.26,-2041.62C505.27,-2041.12 520.84,-2035.64 520.84,-2025.15 520.84,-2016.55 510.36,-2011.31 495.55,-2009.44\"/>\n",
       "<polygon fill=\"#000000\" stroke=\"#000000\" points=\"495.48,-2005.92 485.26,-2008.69 494.97,-2012.91 495.48,-2005.92\"/>\n",
       "</g>\n",
       "<!-- callgraphX__tile_3_1&#45;&gt;callgraphX__tile_3_2 -->\n",
       "<g id=\"edge121\" class=\"edge\">\n",
       "<title>callgraphX__tile_3_1&#45;&gt;callgraphX__tile_3_2</title>\n",
       "<path fill=\"none\" stroke=\"#000000\" d=\"M379.32,-2001.06C361.87,-1990.05 341.34,-1976.25 323.99,-1962.28 297.37,-1940.85 298.39,-1925.97 268.99,-1908.54 221.82,-1880.59 183.62,-1916.61 150.99,-1872.54 136.78,-1853.35 134.43,-1836.02 150.99,-1818.8 186.6,-1781.78 1024.84,-1793.96 1074.99,-1782.8 1100.06,-1777.23 1269.5,-1710.89 1287.99,-1693.06 1306.95,-1674.78 1300.98,-1662.77 1312.99,-1639.32 1348.19,-1570.56 1397.99,-1564.96 1397.99,-1487.71 1397.99,-1487.71 1397.99,-1487.71 1397.99,-1216.49 1397.99,-1167.1 1350.36,-1043.43 1312.99,-1011.14 1263.39,-968.3 1210.28,-1026.83 1169.99,-975.14 1155.31,-956.3 1158.66,-942.43 1169.99,-921.4 1177.9,-906.73 1190.97,-894.97 1204.89,-885.8\"/>\n",
       "<polygon fill=\"#000000\" stroke=\"#000000\" points=\"1206.94,-888.65 1213.63,-880.43 1203.27,-882.69 1206.94,-888.65\"/>\n",
       "</g>\n",
       "<!-- callgraphX__tile_3_1&#45;&gt;callgraphX__tile_4_1 -->\n",
       "<g id=\"edge120\" class=\"edge\">\n",
       "<title>callgraphX__tile_3_1&#45;&gt;callgraphX__tile_4_1</title>\n",
       "<path fill=\"none\" stroke=\"#000000\" d=\"M411.77,-1998.3C411.27,-1990.25 411.12,-1981.22 411.33,-1972.6\"/>\n",
       "<polygon fill=\"#000000\" stroke=\"#000000\" points=\"414.84,-1972.52 411.77,-1962.38 407.84,-1972.22 414.84,-1972.52\"/>\n",
       "</g>\n",
       "<!-- callgraphX__tile_3_2&#45;&gt;callgraphX__print_maze -->\n",
       "<g id=\"edge123\" class=\"edge\">\n",
       "<title>callgraphX__tile_3_2&#45;&gt;callgraphX__print_maze</title>\n",
       "<path fill=\"none\" stroke=\"#000000\" d=\"M1248.28,-831.88C1221.22,-789.5 1162.01,-704.36 1092.99,-652.18 1061.56,-628.42 1037.25,-646.41 1011.99,-616.18 1009.28,-612.94 939.99,-325.31 939.99,-321.09 939.99,-321.09 939.99,-321.09 939.99,-229.35 939.99,-177.81 913.18,-150.81 948.99,-113.74 980.63,-80.98 1267.55,-62.78 1413.51,-55.56\"/>\n",
       "<polygon fill=\"#000000\" stroke=\"#000000\" points=\"1413.95,-59.04 1423.77,-55.06 1413.61,-52.05 1413.95,-59.04\"/>\n",
       "</g>\n",
       "<!-- callgraphX__tile_3_3&#45;&gt;callgraphX__print_maze -->\n",
       "<g id=\"edge124\" class=\"edge\">\n",
       "<title>callgraphX__tile_3_3&#45;&gt;callgraphX__print_maze</title>\n",
       "<path fill=\"none\" stroke=\"#000000\" d=\"M1221.96,-924.69C1204.67,-914.16 1185.18,-900.6 1169.99,-885.4 1068.76,-784.12 1050.34,-747.39 992.99,-616.18 989.61,-608.44 919.99,-329.53 919.99,-321.09 919.99,-321.09 919.99,-321.09 919.99,-229.35 919.99,-177.9 890.64,-151.12 925.99,-113.74 958.84,-79 1262.54,-61.62 1413.55,-55.06\"/>\n",
       "<polygon fill=\"#000000\" stroke=\"#000000\" points=\"1413.87,-58.55 1423.71,-54.62 1413.57,-51.56 1413.87,-58.55\"/>\n",
       "</g>\n",
       "<!-- callgraphX__tile_3_3&#45;&gt;callgraphX__tile_2_3 -->\n",
       "<g id=\"edge126\" class=\"edge\">\n",
       "<title>callgraphX__tile_3_3&#45;&gt;callgraphX__tile_2_3</title>\n",
       "<path fill=\"none\" stroke=\"#000000\" d=\"M1328.22,-930.66C1391.76,-915.09 1488.9,-891.93 1556.19,-876.31\"/>\n",
       "<polygon fill=\"#000000\" stroke=\"#000000\" points=\"1557.35,-879.63 1566.3,-873.96 1555.77,-872.81 1557.35,-879.63\"/>\n",
       "</g>\n",
       "<!-- callgraphX__tile_3_3&#45;&gt;callgraphX__tile_3_2 -->\n",
       "<g id=\"edge125\" class=\"edge\">\n",
       "<title>callgraphX__tile_3_3&#45;&gt;callgraphX__tile_3_2</title>\n",
       "<path fill=\"none\" stroke=\"#000000\" d=\"M1263.99,-920.95C1263.99,-912.98 1263.99,-904.09 1263.99,-895.6\"/>\n",
       "<polygon fill=\"#000000\" stroke=\"#000000\" points=\"1267.49,-895.54 1263.99,-885.54 1260.49,-895.54 1267.49,-895.54\"/>\n",
       "</g>\n",
       "<!-- callgraphX__tile_3_3&#45;&gt;callgraphX__tile_3_3 -->\n",
       "<g id=\"edge127\" class=\"edge\">\n",
       "<title>callgraphX__tile_3_3&#45;&gt;callgraphX__tile_3_3</title>\n",
       "<path fill=\"none\" stroke=\"#000000\" d=\"M1331.26,-964.73C1351.27,-964.24 1366.84,-958.76 1366.84,-948.27 1366.84,-939.67 1356.36,-934.43 1341.55,-932.56\"/>\n",
       "<polygon fill=\"#000000\" stroke=\"#000000\" points=\"1341.48,-929.04 1331.26,-931.81 1340.97,-936.02 1341.48,-929.04\"/>\n",
       "</g>\n",
       "<!-- callgraphX__tile_3_3&#45;&gt;callgraphX__tile_3_4 -->\n",
       "<g id=\"edge128\" class=\"edge\">\n",
       "<title>callgraphX__tile_3_3&#45;&gt;callgraphX__tile_3_4</title>\n",
       "<path fill=\"none\" stroke=\"#000000\" d=\"M1301.12,-923.94C1318.62,-912.66 1339.64,-898.71 1357.99,-885.4 1440.8,-825.33 1455.17,-801.99 1537.99,-741.92 1553.47,-730.69 1570.85,-719.01 1586.42,-708.85\"/>\n",
       "<polygon fill=\"#000000\" stroke=\"#000000\" points=\"1588.37,-711.76 1594.86,-703.38 1584.56,-705.89 1588.37,-711.76\"/>\n",
       "</g>\n",
       "<!-- callgraphX__tile_3_3&#45;&gt;callgraphX__tile_4_3 -->\n",
       "<g id=\"edge129\" class=\"edge\">\n",
       "<title>callgraphX__tile_3_3&#45;&gt;callgraphX__tile_4_3</title>\n",
       "<path fill=\"none\" stroke=\"#000000\" d=\"M1314.44,-970.09C1341.2,-982.09 1373.94,-997.3 1400.8,-1010.19\"/>\n",
       "<polygon fill=\"#000000\" stroke=\"#000000\" points=\"1399.5,-1013.45 1410.03,-1014.64 1402.54,-1007.15 1399.5,-1013.45\"/>\n",
       "</g>\n",
       "<!-- callgraphX__tile_3_4&#45;&gt;callgraphX__print_maze -->\n",
       "<g id=\"edge130\" class=\"edge\">\n",
       "<title>callgraphX__tile_3_4&#45;&gt;callgraphX__print_maze</title>\n",
       "<path fill=\"none\" stroke=\"#000000\" d=\"M1680.09,-656.86C1706.23,-645.17 1739.05,-630.22 1767.99,-616.18 1912.79,-545.95 2151.65,-503.48 2044.99,-382.96 2001.37,-333.67 1809.62,-376.87 1750.99,-346.96 1721.93,-332.14 1729,-309.95 1700.99,-293.22 1646.57,-260.72 1606.7,-303.13 1562.99,-257.22 1518.07,-210.04 1555.97,-174.7 1532.99,-113.74 1529.47,-104.4 1524.68,-94.78 1519.77,-86\"/>\n",
       "<polygon fill=\"#000000\" stroke=\"#000000\" points=\"1522.71,-84.09 1514.66,-77.19 1516.65,-87.6 1522.71,-84.09\"/>\n",
       "</g>\n",
       "<!-- callgraphX__tile_3_5&#45;&gt;callgraphX__print_maze -->\n",
       "<g id=\"edge131\" class=\"edge\">\n",
       "<title>callgraphX__tile_3_5&#45;&gt;callgraphX__print_maze</title>\n",
       "<path fill=\"none\" stroke=\"#000000\" d=\"M2052.86,-564.94C2065.5,-554.8 2078.17,-541.72 2084.99,-526.44 2110.99,-468.21 2127.11,-430.84 2084.99,-382.96 2043.55,-335.86 1859.85,-377.38 1804.99,-346.96 1777.99,-331.99 1787.23,-309.47 1760.99,-293.22 1699.75,-255.31 1653.46,-308.6 1602.99,-257.22 1557.34,-210.74 1606.68,-169.5 1572.99,-113.74 1565.33,-101.06 1554.11,-89.81 1542.67,-80.49\"/>\n",
       "<polygon fill=\"#000000\" stroke=\"#000000\" points=\"1544.8,-77.71 1534.75,-74.35 1540.51,-83.25 1544.8,-77.71\"/>\n",
       "</g>\n",
       "<!-- callgraphX__tile_3_6&#45;&gt;callgraphX__print_maze -->\n",
       "<g id=\"edge132\" class=\"edge\">\n",
       "<title>callgraphX__tile_3_6&#45;&gt;callgraphX__print_maze</title>\n",
       "<path fill=\"none\" stroke=\"#000000\" d=\"M1535.31,-295.63C1522.7,-285.48 1510,-272.42 1502.99,-257.22 1477.74,-202.47 1483.66,-130.48 1490.59,-87.89\"/>\n",
       "<polygon fill=\"#000000\" stroke=\"#000000\" points=\"1494.05,-88.43 1492.31,-77.98 1487.15,-87.24 1494.05,-88.43\"/>\n",
       "</g>\n",
       "<!-- callgraphX__tile_3_7&#45;&gt;callgraphX__print_maze -->\n",
       "<g id=\"edge133\" class=\"edge\">\n",
       "<title>callgraphX__tile_3_7&#45;&gt;callgraphX__print_maze</title>\n",
       "<path fill=\"none\" stroke=\"#000000\" d=\"M1853,-392.54C1788.19,-376.09 1697.37,-352.34 1690.99,-346.96 1670.85,-329.98 1686.29,-310.01 1665.99,-293.22 1615.48,-251.45 1566.33,-306.38 1522.99,-257.22 1501.49,-232.84 1497.89,-140.25 1497.63,-88.12\"/>\n",
       "<polygon fill=\"#000000\" stroke=\"#000000\" points=\"1501.13,-87.95 1497.62,-77.95 1494.13,-87.96 1501.13,-87.95\"/>\n",
       "</g>\n",
       "<!-- callgraphX__tile_3_7&#45;&gt;callgraphX__tile_2_7 -->\n",
       "<g id=\"edge135\" class=\"edge\">\n",
       "<title>callgraphX__tile_3_7&#45;&gt;callgraphX__tile_2_7</title>\n",
       "<path fill=\"none\" stroke=\"#000000\" d=\"M1853.66,-427.51C1791.16,-442.86 1696.27,-465.56 1629.39,-481.15\"/>\n",
       "<polygon fill=\"#000000\" stroke=\"#000000\" points=\"1628.27,-477.81 1619.32,-483.49 1629.85,-484.63 1628.27,-477.81\"/>\n",
       "</g>\n",
       "<!-- callgraphX__tile_3_7&#45;&gt;callgraphX__tile_3_6 -->\n",
       "<g id=\"edge134\" class=\"edge\">\n",
       "<title>callgraphX__tile_3_7&#45;&gt;callgraphX__tile_3_6</title>\n",
       "<path fill=\"none\" stroke=\"#000000\" d=\"M1854.39,-392.04C1842.63,-388.98 1830.44,-385.85 1818.99,-382.96 1753.35,-366.4 1736.63,-363.52 1670.99,-346.96 1662.67,-344.86 1653.96,-342.63 1645.31,-340.4\"/>\n",
       "<polygon fill=\"#000000\" stroke=\"#000000\" points=\"1646.15,-337 1635.59,-337.88 1644.39,-343.78 1646.15,-337\"/>\n",
       "</g>\n",
       "<!-- callgraphX__tile_3_7&#45;&gt;callgraphX__tile_3_7 -->\n",
       "<g id=\"edge136\" class=\"edge\">\n",
       "<title>callgraphX__tile_3_7&#45;&gt;callgraphX__tile_3_7</title>\n",
       "<path fill=\"none\" stroke=\"#000000\" d=\"M1985.26,-426.29C2005.27,-425.8 2020.84,-420.31 2020.84,-409.83 2020.84,-401.23 2010.36,-395.99 1995.55,-394.12\"/>\n",
       "<polygon fill=\"#000000\" stroke=\"#000000\" points=\"1995.48,-390.6 1985.26,-393.37 1994.97,-397.58 1995.48,-390.6\"/>\n",
       "</g>\n",
       "<!-- callgraphX__tile_3_7&#45;&gt;callgraphX__tile_3_8 -->\n",
       "<g id=\"edge138\" class=\"edge\">\n",
       "<title>callgraphX__tile_3_7&#45;&gt;callgraphX__tile_3_8</title>\n",
       "<path fill=\"none\" stroke=\"#000000\" d=\"M1852.87,-392.46C1836.96,-388.9 1819.93,-385.46 1803.99,-382.96 1689.44,-364.99 1359.09,-339.59 1196.55,-327.71\"/>\n",
       "<polygon fill=\"#000000\" stroke=\"#000000\" points=\"1196.32,-324.18 1186.09,-326.95 1195.81,-331.17 1196.32,-324.18\"/>\n",
       "</g>\n",
       "<!-- callgraphX__tile_3_7&#45;&gt;callgraphX__tile_4_7 -->\n",
       "<g id=\"edge137\" class=\"edge\">\n",
       "<title>callgraphX__tile_3_7&#45;&gt;callgraphX__tile_4_7</title>\n",
       "<path fill=\"none\" stroke=\"#000000\" d=\"M1962.5,-386.69C1990.23,-374.08 2026.21,-358.28 2056.61,-345.34\"/>\n",
       "<polygon fill=\"#000000\" stroke=\"#000000\" points=\"2058.01,-348.55 2065.85,-341.42 2055.28,-342.1 2058.01,-348.55\"/>\n",
       "</g>\n",
       "<!-- callgraphX__tile_3_8&#45;&gt;callgraphX__print_maze -->\n",
       "<g id=\"edge139\" class=\"edge\">\n",
       "<title>callgraphX__tile_3_8&#45;&gt;callgraphX__print_maze</title>\n",
       "<path fill=\"none\" stroke=\"#000000\" d=\"M1108.83,-293.03C1118.47,-248.85 1144.4,-159.6 1202.99,-113.74 1235.72,-88.12 1341.44,-70.47 1416.95,-60.77\"/>\n",
       "<polygon fill=\"#000000\" stroke=\"#000000\" points=\"1417.44,-64.23 1426.92,-59.51 1416.56,-57.29 1417.44,-64.23\"/>\n",
       "</g>\n",
       "<!-- callgraphX__tile_4_0&#45;&gt;callgraphX__print_maze -->\n",
       "<g id=\"edge140\" class=\"edge\">\n",
       "<title>callgraphX__tile_4_0&#45;&gt;callgraphX__print_maze</title>\n",
       "<path fill=\"none\" stroke=\"#000000\" d=\"M318.96,-1826.24C330.48,-1823.27 342.53,-1820.59 353.99,-1818.8 450.46,-1803.75 1142.89,-1822.74 1231.99,-1782.8 1262.32,-1769.21 1260.21,-1752.29 1283.99,-1729.06 1300.86,-1712.58 1309.85,-1712.65 1322.99,-1693.06 1337.18,-1671.9 1325.58,-1657.93 1342.99,-1639.32 1369.63,-1610.85 1399.75,-1634.63 1422.99,-1603.32 1453.87,-1561.72 1437.99,-1539.52 1437.99,-1487.71 1437.99,-1487.71 1437.99,-1487.71 1437.99,-1395.97 1437.99,-1328.31 1403.11,-1155.37 1362.99,-1100.88 1346.75,-1078.83 1329.59,-1086.66 1312.99,-1064.88 1297.53,-1044.62 1312.05,-1028.06 1292.99,-1011.14 1242.03,-965.92 1186.13,-1028.67 1143.99,-975.14 1129.22,-956.37 1143.19,-945.27 1143.99,-921.4 1145.32,-881.45 1142.26,-870.88 1149.99,-831.66 1158.12,-790.4 1165.14,-781.27 1179.99,-741.92 1201.4,-685.18 1219.15,-675.23 1232.99,-616.18 1245.75,-561.72 1228.52,-156.99 1263.99,-113.74 1283.67,-89.75 1358.54,-72.84 1418.36,-62.84\"/>\n",
       "<polygon fill=\"#000000\" stroke=\"#000000\" points=\"1419.27,-66.23 1428.58,-61.17 1418.14,-59.33 1419.27,-66.23\"/>\n",
       "</g>\n",
       "<!-- callgraphX__tile_4_1&#45;&gt;callgraphX__print_maze -->\n",
       "<g id=\"edge141\" class=\"edge\">\n",
       "<title>callgraphX__tile_4_1&#45;&gt;callgraphX__print_maze</title>\n",
       "<path fill=\"none\" stroke=\"#000000\" d=\"M350.82,-1918.98C277.16,-1901.9 168.92,-1876.28 165.99,-1872.54 151.25,-1853.75 149.41,-1836 165.99,-1818.8 203.92,-1779.46 1096.87,-1799.24 1148.99,-1782.8 1190.9,-1769.58 1193.77,-1750.76 1231.99,-1729.06 1263.45,-1711.2 1281.19,-1720.31 1304.99,-1693.06 1321.56,-1674.09 1309.04,-1660.3 1322.99,-1639.32 1336.41,-1619.13 1349.44,-1622.72 1363.99,-1603.32 1398.02,-1557.96 1417.99,-1544.42 1417.99,-1487.71 1417.99,-1487.71 1417.99,-1487.71 1417.99,-1395.97 1417.99,-1327.85 1371.64,-1158.3 1334.99,-1100.88 1321.76,-1080.16 1307.06,-1085.04 1292.99,-1064.88 1278.41,-1043.98 1291.93,-1028.2 1272.99,-1011.14 1225.25,-968.15 1172.36,-1025.91 1132.99,-975.14 1118.35,-956.27 1132.06,-945.27 1132.99,-921.4 1136.12,-841.1 1133.28,-819.3 1154.99,-741.92 1166.6,-700.54 1169.92,-689.63 1190.99,-652.18 1200.8,-634.75 1211.21,-635 1217.99,-616.18 1255.91,-510.99 1172.58,-198.94 1244.99,-113.74 1267.16,-87.66 1351.59,-70.79 1416.89,-61.35\"/>\n",
       "<polygon fill=\"#000000\" stroke=\"#000000\" points=\"1417.78,-64.76 1427.2,-59.9 1416.81,-57.83 1417.78,-64.76\"/>\n",
       "</g>\n",
       "<!-- callgraphX__tile_4_1&#45;&gt;callgraphX__tile_3_1 -->\n",
       "<g id=\"edge145\" class=\"edge\">\n",
       "<title>callgraphX__tile_4_1&#45;&gt;callgraphX__tile_3_1</title>\n",
       "<path fill=\"none\" stroke=\"#000000\" d=\"M424.21,-1962.38C424.71,-1970.44 424.86,-1979.47 424.64,-1988.09\"/>\n",
       "<polygon fill=\"#000000\" stroke=\"#000000\" points=\"421.14,-1988.16 424.2,-1998.3 428.13,-1988.46 421.14,-1988.16\"/>\n",
       "</g>\n",
       "<!-- callgraphX__tile_4_1&#45;&gt;callgraphX__tile_4_0 -->\n",
       "<g id=\"edge142\" class=\"edge\">\n",
       "<title>callgraphX__tile_4_1&#45;&gt;callgraphX__tile_4_0</title>\n",
       "<path fill=\"none\" stroke=\"#000000\" d=\"M377.3,-1911.82C356.65,-1900.35 331.38,-1886.32 309.6,-1874.22\"/>\n",
       "<polygon fill=\"#000000\" stroke=\"#000000\" points=\"311.26,-1871.14 300.81,-1869.34 307.86,-1877.26 311.26,-1871.14\"/>\n",
       "</g>\n",
       "<!-- callgraphX__tile_4_1&#45;&gt;callgraphX__tile_4_1 -->\n",
       "<g id=\"edge144\" class=\"edge\">\n",
       "<title>callgraphX__tile_4_1&#45;&gt;callgraphX__tile_4_1</title>\n",
       "<path fill=\"none\" stroke=\"#000000\" d=\"M485.26,-1951.88C505.27,-1951.38 520.84,-1945.9 520.84,-1935.41 520.84,-1926.81 510.36,-1921.57 495.55,-1919.7\"/>\n",
       "<polygon fill=\"#000000\" stroke=\"#000000\" points=\"495.48,-1916.18 485.26,-1918.95 494.97,-1923.17 495.48,-1916.18\"/>\n",
       "</g>\n",
       "<!-- callgraphX__tile_4_1&#45;&gt;callgraphX__tile_4_2 -->\n",
       "<g id=\"edge146\" class=\"edge\">\n",
       "<title>callgraphX__tile_4_1&#45;&gt;callgraphX__tile_4_2</title>\n",
       "<path fill=\"none\" stroke=\"#000000\" d=\"M344.03,-1922.1C269.29,-1908.91 163.13,-1887.82 150.99,-1872.54 136.13,-1853.84 134.43,-1836.02 150.99,-1818.8 222.21,-1744.75 997.65,-1850.44 1074.99,-1782.8 1123.71,-1740.19 1066.13,-1694.49 1099.99,-1639.32 1148.77,-1559.83 1226.24,-1596.98 1267.99,-1513.58 1278.68,-1492.22 1281.09,-1479.81 1267.99,-1459.84 1245.93,-1426.23 1207.05,-1457.46 1184.99,-1423.84 1171.88,-1403.87 1181.51,-1393.73 1184.99,-1370.1 1197.12,-1287.69 1192.74,-1259.9 1238.99,-1190.62 1253.02,-1169.61 1272.17,-1177.45 1282.99,-1154.62 1293.22,-1133.04 1295.84,-1121.01 1282.99,-1100.88 1253.45,-1054.62 1110.84,-1000.57 1024,-971.13\"/>\n",
       "<polygon fill=\"#000000\" stroke=\"#000000\" points=\"1025.07,-967.8 1014.48,-967.92 1022.84,-974.43 1025.07,-967.8\"/>\n",
       "</g>\n",
       "<!-- callgraphX__tile_4_1&#45;&gt;callgraphX__tile_5_1 -->\n",
       "<g id=\"edge143\" class=\"edge\">\n",
       "<title>callgraphX__tile_4_1&#45;&gt;callgraphX__tile_5_1</title>\n",
       "<path fill=\"none\" stroke=\"#000000\" d=\"M420.74,-1908.09C423.06,-1899.87 426.07,-1890.67 429.29,-1881.95\"/>\n",
       "<polygon fill=\"#000000\" stroke=\"#000000\" points=\"432.65,-1882.96 432.99,-1872.37 426.12,-1880.44 432.65,-1882.96\"/>\n",
       "</g>\n",
       "<!-- callgraphX__tile_4_2&#45;&gt;callgraphX__print_maze -->\n",
       "<g id=\"edge147\" class=\"edge\">\n",
       "<title>callgraphX__tile_4_2&#45;&gt;callgraphX__print_maze</title>\n",
       "<path fill=\"none\" stroke=\"#000000\" d=\"M944.85,-921.36C931.24,-887.26 909.99,-825.18 909.99,-769.79 909.99,-769.79 909.99,-769.79 909.99,-588.31 909.99,-536.74 917.51,-521.21 899.99,-472.7 893.37,-454.38 882,-454.88 874.99,-436.7 856.35,-388.36 859.99,-372.9 859.99,-321.09 859.99,-321.09 859.99,-321.09 859.99,-229.35 859.99,-177.54 837.81,-149.82 874.99,-113.74 912.84,-77.01 1251.48,-60.41 1413,-54.53\"/>\n",
       "<polygon fill=\"#000000\" stroke=\"#000000\" points=\"1413.51,-58.01 1423.38,-54.16 1413.26,-51.02 1413.51,-58.01\"/>\n",
       "</g>\n",
       "<!-- callgraphX__tile_4_3&#45;&gt;callgraphX__print_maze -->\n",
       "<g id=\"edge148\" class=\"edge\">\n",
       "<title>callgraphX__tile_4_3&#45;&gt;callgraphX__print_maze</title>\n",
       "<path fill=\"none\" stroke=\"#000000\" d=\"M1511.14,-1018.52C1531.56,-1008.98 1552.25,-995.04 1563.99,-975.14 1576.13,-954.57 1578.62,-940.28 1563.99,-921.4 1524.62,-870.63 1479.04,-918.52 1423.99,-885.4 1396.29,-868.74 1397.47,-854.88 1374.99,-831.66 1359.03,-815.18 1348.63,-815.99 1337.99,-795.66 1252.6,-632.58 1296.17,-566.91 1302.99,-382.96 1305.21,-323.01 1286.56,-161.41 1322.99,-113.74 1345.16,-84.73 1381.99,-69.28 1416.16,-61.07\"/>\n",
       "<polygon fill=\"#000000\" stroke=\"#000000\" points=\"1417.18,-64.43 1426.18,-58.84 1415.66,-57.59 1417.18,-64.43\"/>\n",
       "</g>\n",
       "<!-- callgraphX__tile_4_3&#45;&gt;callgraphX__tile_3_3 -->\n",
       "<g id=\"edge151\" class=\"edge\">\n",
       "<title>callgraphX__tile_4_3&#45;&gt;callgraphX__tile_3_3</title>\n",
       "<path fill=\"none\" stroke=\"#000000\" d=\"M1401.6,-1016.22C1374.91,-1004.25 1342.26,-989.08 1315.42,-976.21\"/>\n",
       "<polygon fill=\"#000000\" stroke=\"#000000\" points=\"1316.72,-972.95 1306.19,-971.76 1313.68,-979.25 1316.72,-972.95\"/>\n",
       "</g>\n",
       "<!-- callgraphX__tile_4_3&#45;&gt;callgraphX__tile_4_2 -->\n",
       "<g id=\"edge149\" class=\"edge\">\n",
       "<title>callgraphX__tile_4_3&#45;&gt;callgraphX__tile_4_2</title>\n",
       "<path fill=\"none\" stroke=\"#000000\" d=\"M1379.07,-1024.11C1288.3,-1008.06 1133.68,-980.7 1038.62,-963.89\"/>\n",
       "<polygon fill=\"#000000\" stroke=\"#000000\" points=\"1039.21,-960.44 1028.75,-962.14 1037.99,-967.33 1039.21,-960.44\"/>\n",
       "</g>\n",
       "<!-- callgraphX__tile_4_3&#45;&gt;callgraphX__tile_4_3 -->\n",
       "<g id=\"edge152\" class=\"edge\">\n",
       "<title>callgraphX__tile_4_3&#45;&gt;callgraphX__tile_4_3</title>\n",
       "<path fill=\"none\" stroke=\"#000000\" d=\"M1519.26,-1054.48C1539.27,-1053.98 1554.84,-1048.5 1554.84,-1038.01 1554.84,-1029.41 1544.36,-1024.17 1529.55,-1022.3\"/>\n",
       "<polygon fill=\"#000000\" stroke=\"#000000\" points=\"1529.48,-1018.78 1519.26,-1021.55 1528.97,-1025.76 1529.48,-1018.78\"/>\n",
       "</g>\n",
       "<!-- callgraphX__tile_4_3&#45;&gt;callgraphX__tile_4_4 -->\n",
       "<g id=\"edge153\" class=\"edge\">\n",
       "<title>callgraphX__tile_4_3&#45;&gt;callgraphX__tile_4_4</title>\n",
       "<path fill=\"none\" stroke=\"#000000\" d=\"M1529.56,-1049.25C1647.28,-1065.35 1870.07,-1096.56 1992.37,-1114.06\"/>\n",
       "<polygon fill=\"#000000\" stroke=\"#000000\" points=\"1992.05,-1117.55 2002.45,-1115.51 1993.04,-1110.62 1992.05,-1117.55\"/>\n",
       "</g>\n",
       "<!-- callgraphX__tile_4_3&#45;&gt;callgraphX__tile_5_3 -->\n",
       "<g id=\"edge150\" class=\"edge\">\n",
       "<title>callgraphX__tile_4_3&#45;&gt;callgraphX__tile_5_3</title>\n",
       "<path fill=\"none\" stroke=\"#000000\" d=\"M1457.29,-1011.16C1458.96,-1003.02 1460.84,-993.88 1462.62,-985.18\"/>\n",
       "<polygon fill=\"#000000\" stroke=\"#000000\" points=\"1466.08,-985.74 1464.66,-975.24 1459.22,-984.33 1466.08,-985.74\"/>\n",
       "</g>\n",
       "<!-- callgraphX__tile_4_4&#45;&gt;callgraphX__print_maze -->\n",
       "<g id=\"edge154\" class=\"edge\">\n",
       "<title>callgraphX__tile_4_4&#45;&gt;callgraphX__print_maze</title>\n",
       "<path fill=\"none\" stroke=\"#000000\" d=\"M2120.13,-1104.39C2168.13,-1075.51 2239.99,-1020.4 2239.99,-949.27 2239.99,-949.27 2239.99,-949.27 2239.99,-408.83 2239.99,-317.49 2290.7,-273.45 2231.99,-203.48 2183.47,-145.65 2124.21,-215.53 2065.99,-167.48 2045.95,-150.94 2063.83,-129.25 2042.99,-113.74 1972.16,-61.04 1718.03,-52.22 1583.28,-51.37\"/>\n",
       "<polygon fill=\"#000000\" stroke=\"#000000\" points=\"1583.01,-47.87 1572.99,-51.32 1582.98,-54.87 1583.01,-47.87\"/>\n",
       "</g>\n",
       "<!-- callgraphX__tile_4_4&#45;&gt;callgraphX__tile_3_4 -->\n",
       "<g id=\"edge157\" class=\"edge\">\n",
       "<title>callgraphX__tile_4_4&#45;&gt;callgraphX__tile_3_4</title>\n",
       "<path fill=\"none\" stroke=\"#000000\" d=\"M2078.47,-1100.59C2079.06,-1065.97 2079.99,-1003.04 2079.99,-949.27 2079.99,-949.27 2079.99,-949.27 2079.99,-857.53 2079.99,-686.38 1893.2,-742.44 1725.99,-705.92 1718.43,-704.27 1710.58,-702.38 1702.77,-700.4\"/>\n",
       "<polygon fill=\"#000000\" stroke=\"#000000\" points=\"1703.49,-696.97 1692.94,-697.84 1701.73,-703.75 1703.49,-696.97\"/>\n",
       "</g>\n",
       "<!-- callgraphX__tile_4_4&#45;&gt;callgraphX__tile_4_3 -->\n",
       "<g id=\"edge158\" class=\"edge\">\n",
       "<title>callgraphX__tile_4_4&#45;&gt;callgraphX__tile_4_3</title>\n",
       "<path fill=\"none\" stroke=\"#000000\" d=\"M2000.74,-1116.56C1883.21,-1100.48 1660.4,-1069.27 1537.92,-1051.75\"/>\n",
       "<polygon fill=\"#000000\" stroke=\"#000000\" points=\"1538.23,-1048.25 1527.83,-1050.3 1537.23,-1055.18 1538.23,-1048.25\"/>\n",
       "</g>\n",
       "<!-- callgraphX__tile_4_4&#45;&gt;callgraphX__tile_4_4 -->\n",
       "<g id=\"edge159\" class=\"edge\">\n",
       "<title>callgraphX__tile_4_4&#45;&gt;callgraphX__tile_4_4</title>\n",
       "<path fill=\"none\" stroke=\"#000000\" d=\"M2145.26,-1144.22C2165.27,-1143.72 2180.84,-1138.24 2180.84,-1127.75 2180.84,-1119.15 2170.36,-1113.91 2155.55,-1112.04\"/>\n",
       "<polygon fill=\"#000000\" stroke=\"#000000\" points=\"2155.48,-1108.52 2145.26,-1111.29 2154.97,-1115.5 2155.48,-1108.52\"/>\n",
       "</g>\n",
       "<!-- callgraphX__tile_4_4&#45;&gt;callgraphX__tile_4_5 -->\n",
       "<g id=\"edge156\" class=\"edge\">\n",
       "<title>callgraphX__tile_4_4&#45;&gt;callgraphX__tile_4_5</title>\n",
       "<path fill=\"none\" stroke=\"#000000\" d=\"M2106.37,-1153.17C2115.52,-1162.49 2125.51,-1173.29 2134.29,-1183.3\"/>\n",
       "<polygon fill=\"#000000\" stroke=\"#000000\" points=\"2131.85,-1185.83 2141.04,-1191.11 2137.15,-1181.26 2131.85,-1185.83\"/>\n",
       "</g>\n",
       "<!-- callgraphX__tile_4_4&#45;&gt;callgraphX__tile_5_4 -->\n",
       "<g id=\"edge155\" class=\"edge\">\n",
       "<title>callgraphX__tile_4_4&#45;&gt;callgraphX__tile_5_4</title>\n",
       "<path fill=\"none\" stroke=\"#000000\" d=\"M2040.31,-1103.47C2022.58,-1092.51 2001.26,-1079.34 1982.53,-1067.77\"/>\n",
       "<polygon fill=\"#000000\" stroke=\"#000000\" points=\"1984.19,-1064.68 1973.85,-1062.4 1980.51,-1070.64 1984.19,-1064.68\"/>\n",
       "</g>\n",
       "<!-- callgraphX__tile_4_5&#45;&gt;callgraphX__print_maze -->\n",
       "<g id=\"edge160\" class=\"edge\">\n",
       "<title>callgraphX__tile_4_5&#45;&gt;callgraphX__print_maze</title>\n",
       "<path fill=\"none\" stroke=\"#000000\" d=\"M2176.37,-1191.05C2183.42,-1180.26 2190.97,-1167.28 2195.99,-1154.62 2215.34,-1105.84 2219.99,-1091.49 2219.99,-1039.01 2219.99,-1039.01 2219.99,-1039.01 2219.99,-498.57 2219.99,-446.76 2241.61,-419.61 2204.99,-382.96 2117.55,-295.46 2031.39,-416.37 1928.99,-346.96 1906.35,-331.61 1921.06,-309.37 1898.99,-293.22 1834.55,-246.07 1779.57,-313.55 1722.99,-257.22 1676.82,-211.25 1736.67,-162.08 1692.99,-113.74 1664.56,-82.28 1620.24,-66.71 1581.03,-59.05\"/>\n",
       "<polygon fill=\"#000000\" stroke=\"#000000\" points=\"1581.65,-55.6 1571.19,-57.26 1580.4,-62.49 1581.65,-55.6\"/>\n",
       "</g>\n",
       "<!-- callgraphX__tile_4_5&#45;&gt;callgraphX__tile_3_5 -->\n",
       "<g id=\"edge161\" class=\"edge\">\n",
       "<title>callgraphX__tile_4_5&#45;&gt;callgraphX__tile_3_5</title>\n",
       "<path fill=\"none\" stroke=\"#000000\" d=\"M2174.61,-1191.09C2180.72,-1180.31 2186.9,-1167.31 2189.99,-1154.62 2195.63,-1131.41 2194.4,-1124.35 2189.99,-1100.88 2158.12,-931.46 2153.65,-874.12 2042.99,-741.92 2025.18,-720.65 2004.75,-730.56 1991.99,-705.92 1978.98,-680.81 1986.96,-649.18 1997.09,-625.35\"/>\n",
       "<polygon fill=\"#000000\" stroke=\"#000000\" points=\"2000.4,-626.54 2001.35,-615.99 1994.03,-623.64 2000.4,-626.54\"/>\n",
       "</g>\n",
       "<!-- callgraphX__tile_4_5&#45;&gt;callgraphX__tile_4_4 -->\n",
       "<g id=\"edge165\" class=\"edge\">\n",
       "<title>callgraphX__tile_4_5&#45;&gt;callgraphX__tile_4_4</title>\n",
       "<path fill=\"none\" stroke=\"#000000\" d=\"M2129.58,-1192.05C2120.48,-1182.77 2110.54,-1172.03 2101.79,-1162.07\"/>\n",
       "<polygon fill=\"#000000\" stroke=\"#000000\" points=\"2104.26,-1159.57 2095.07,-1154.28 2098.96,-1164.14 2104.26,-1159.57\"/>\n",
       "</g>\n",
       "<!-- callgraphX__tile_4_5&#45;&gt;callgraphX__tile_4_5 -->\n",
       "<g id=\"edge162\" class=\"edge\">\n",
       "<title>callgraphX__tile_4_5&#45;&gt;callgraphX__tile_4_5</title>\n",
       "<path fill=\"none\" stroke=\"#000000\" d=\"M2225.26,-1233.96C2245.27,-1233.46 2260.84,-1227.98 2260.84,-1217.49 2260.84,-1208.89 2250.36,-1203.65 2235.55,-1201.78\"/>\n",
       "<polygon fill=\"#000000\" stroke=\"#000000\" points=\"2235.48,-1198.26 2225.26,-1201.03 2234.97,-1205.24 2235.48,-1198.26\"/>\n",
       "</g>\n",
       "<!-- callgraphX__tile_4_5&#45;&gt;callgraphX__tile_4_6 -->\n",
       "<g id=\"edge164\" class=\"edge\">\n",
       "<title>callgraphX__tile_4_5&#45;&gt;callgraphX__tile_4_6</title>\n",
       "<path fill=\"none\" stroke=\"#000000\" d=\"M2190.52,-1192.6C2202.82,-1182.14 2216,-1168.98 2224.99,-1154.62 2253.49,-1109.12 2259.99,-1092.7 2259.99,-1039.01 2259.99,-1039.01 2259.99,-1039.01 2259.99,-408.83 2259.99,-348.9 2308.09,-294.78 2344.37,-262.47\"/>\n",
       "<polygon fill=\"#000000\" stroke=\"#000000\" points=\"2347.12,-264.72 2352.38,-255.53 2342.53,-259.44 2347.12,-264.72\"/>\n",
       "</g>\n",
       "<!-- callgraphX__tile_4_5&#45;&gt;callgraphX__tile_5_5 -->\n",
       "<g id=\"edge163\" class=\"edge\">\n",
       "<title>callgraphX__tile_4_5&#45;&gt;callgraphX__tile_5_5</title>\n",
       "<path fill=\"none\" stroke=\"#000000\" d=\"M2164.21,-1244.46C2164.71,-1252.52 2164.86,-1261.55 2164.64,-1270.17\"/>\n",
       "<polygon fill=\"#000000\" stroke=\"#000000\" points=\"2161.14,-1270.24 2164.2,-1280.38 2168.13,-1270.54 2161.14,-1270.24\"/>\n",
       "</g>\n",
       "<!-- callgraphX__tile_4_6&#45;&gt;callgraphX__print_maze -->\n",
       "<g id=\"edge166\" class=\"edge\">\n",
       "<title>callgraphX__tile_4_6&#45;&gt;callgraphX__print_maze</title>\n",
       "<path fill=\"none\" stroke=\"#000000\" d=\"M2414.79,-205.17C2425.53,-194.85 2436.3,-181.86 2441.99,-167.48 2450.77,-145.27 2458.32,-131.17 2441.99,-113.74 2412.82,-82.6 1808.98,-61.25 1582.66,-54.31\"/>\n",
       "<polygon fill=\"#000000\" stroke=\"#000000\" points=\"1582.6,-50.81 1572.5,-54 1582.38,-57.81 1582.6,-50.81\"/>\n",
       "</g>\n",
       "<!-- callgraphX__tile_4_7&#45;&gt;callgraphX__print_maze -->\n",
       "<g id=\"edge167\" class=\"edge\">\n",
       "<title>callgraphX__tile_4_7&#45;&gt;callgraphX__print_maze</title>\n",
       "<path fill=\"none\" stroke=\"#000000\" d=\"M2055.02,-302.04C2043.08,-298.98 2030.67,-295.91 2018.99,-293.22 1939.05,-274.84 1899.02,-312.02 1837.99,-257.22 1813.12,-234.9 1817.74,-136.19 1792.99,-113.74 1762.2,-85.81 1656.02,-68.72 1579.87,-59.77\"/>\n",
       "<polygon fill=\"#000000\" stroke=\"#000000\" points=\"1580.14,-56.28 1569.81,-58.61 1579.34,-63.23 1580.14,-56.28\"/>\n",
       "</g>\n",
       "<!-- callgraphX__tile_4_7&#45;&gt;callgraphX__tile_3_7 -->\n",
       "<g id=\"edge170\" class=\"edge\">\n",
       "<title>callgraphX__tile_4_7&#45;&gt;callgraphX__tile_3_7</title>\n",
       "<path fill=\"none\" stroke=\"#000000\" d=\"M2073.6,-343.17C2045.87,-355.78 2009.86,-371.61 1979.43,-384.56\"/>\n",
       "<polygon fill=\"#000000\" stroke=\"#000000\" points=\"1978.02,-381.35 1970.18,-388.48 1980.75,-387.8 1978.02,-381.35\"/>\n",
       "</g>\n",
       "<!-- callgraphX__tile_4_7&#45;&gt;callgraphX__tile_4_6 -->\n",
       "<g id=\"edge169\" class=\"edge\">\n",
       "<title>callgraphX__tile_4_7&#45;&gt;callgraphX__tile_4_6</title>\n",
       "<path fill=\"none\" stroke=\"#000000\" d=\"M2175.38,-300.16C2216.98,-286.44 2273.36,-267.84 2317.03,-253.44\"/>\n",
       "<polygon fill=\"#000000\" stroke=\"#000000\" points=\"2318.3,-256.7 2326.7,-250.25 2316.11,-250.06 2318.3,-256.7\"/>\n",
       "</g>\n",
       "<!-- callgraphX__tile_4_7&#45;&gt;callgraphX__tile_4_7 -->\n",
       "<g id=\"edge171\" class=\"edge\">\n",
       "<title>callgraphX__tile_4_7&#45;&gt;callgraphX__tile_4_7</title>\n",
       "<path fill=\"none\" stroke=\"#000000\" d=\"M2185.26,-336.55C2205.27,-336.06 2220.84,-330.57 2220.84,-320.09 2220.84,-311.49 2210.36,-306.25 2195.55,-304.38\"/>\n",
       "<polygon fill=\"#000000\" stroke=\"#000000\" points=\"2195.48,-300.86 2185.26,-303.63 2194.97,-307.84 2195.48,-300.86\"/>\n",
       "</g>\n",
       "<!-- callgraphX__tile_4_7&#45;&gt;callgraphX__tile_4_8 -->\n",
       "<g id=\"edge168\" class=\"edge\">\n",
       "<title>callgraphX__tile_4_7&#45;&gt;callgraphX__tile_4_8</title>\n",
       "<path fill=\"none\" stroke=\"#000000\" d=\"M2072.01,-297.4C2046.41,-285.33 2014.37,-270.21 1987.39,-257.49\"/>\n",
       "<polygon fill=\"#000000\" stroke=\"#000000\" points=\"1988.62,-254.19 1978.08,-253.09 1985.63,-260.53 1988.62,-254.19\"/>\n",
       "</g>\n",
       "<!-- callgraphX__tile_4_7&#45;&gt;callgraphX__tile_5_7 -->\n",
       "<g id=\"edge172\" class=\"edge\">\n",
       "<title>callgraphX__tile_4_7&#45;&gt;callgraphX__tile_5_7</title>\n",
       "<path fill=\"none\" stroke=\"#000000\" d=\"M2112.36,-293.24C2112.04,-285.19 2112.1,-276.16 2112.51,-267.54\"/>\n",
       "<polygon fill=\"#000000\" stroke=\"#000000\" points=\"2116.01,-267.53 2113.17,-257.32 2109.03,-267.07 2116.01,-267.53\"/>\n",
       "</g>\n",
       "<!-- callgraphX__tile_4_8&#45;&gt;callgraphX__print_maze -->\n",
       "<g id=\"edge173\" class=\"edge\">\n",
       "<title>callgraphX__tile_4_8&#45;&gt;callgraphX__print_maze</title>\n",
       "<path fill=\"none\" stroke=\"#000000\" d=\"M1887.89,-207.24C1870.66,-196.96 1851.78,-183.45 1837.99,-167.48 1820.78,-147.54 1833.72,-129.99 1812.99,-113.74 1777.55,-85.97 1661.34,-68.6 1580.45,-59.58\"/>\n",
       "<polygon fill=\"#000000\" stroke=\"#000000\" points=\"1580.6,-56.07 1570.28,-58.46 1579.84,-63.03 1580.6,-56.07\"/>\n",
       "</g>\n",
       "<!-- callgraphX__tile_5_0&#45;&gt;callgraphX__print_maze -->\n",
       "<g id=\"edge174\" class=\"edge\">\n",
       "<title>callgraphX__tile_5_0&#45;&gt;callgraphX__print_maze</title>\n",
       "<path fill=\"none\" stroke=\"#000000\" d=\"M1610.19,-1728.78C1611.67,-1694.16 1613.99,-1631.24 1613.99,-1577.45 1613.99,-1577.45 1613.99,-1577.45 1613.99,-1306.23 1613.99,-1263.47 1640.59,-954.06 1612.99,-921.4 1576.77,-878.55 1533.81,-922.81 1491.99,-885.4 1451.37,-849.07 1367.99,-465.33 1367.99,-410.83 1367.99,-410.83 1367.99,-410.83 1367.99,-229.35 1367.99,-177.64 1351.87,-156.47 1380.99,-113.74 1393.39,-95.55 1412.9,-82.3 1432.46,-72.85\"/>\n",
       "<polygon fill=\"#000000\" stroke=\"#000000\" points=\"1434.07,-75.97 1441.73,-68.65 1431.17,-69.59 1434.07,-75.97\"/>\n",
       "</g>\n",
       "<!-- callgraphX__tile_5_1&#45;&gt;callgraphX__print_maze -->\n",
       "<g id=\"edge175\" class=\"edge\">\n",
       "<title>callgraphX__tile_5_1&#45;&gt;callgraphX__print_maze</title>\n",
       "<path fill=\"none\" stroke=\"#000000\" d=\"M512.93,-1828.29C529.78,-1824.59 547.98,-1821.09 564.99,-1818.8 644.26,-1808.13 1217.64,-1827.48 1283.99,-1782.8 1305.84,-1768.09 1293.55,-1750.4 1308.99,-1729.06 1332.92,-1695.98 1422.73,-1638.78 1442.99,-1603.32 1519.54,-1469.34 1668.54,-1043.35 1573.99,-921.4 1534.62,-870.63 1482.47,-927.56 1433.99,-885.4 1401.43,-857.09 1410.81,-836.53 1396.99,-795.66 1345.27,-642.77 1357.2,-597.38 1341.99,-436.7 1335.22,-365.25 1297.58,-171.64 1339.99,-113.74 1358.68,-88.22 1389.48,-73.23 1418.95,-64.42\"/>\n",
       "<polygon fill=\"#000000\" stroke=\"#000000\" points=\"1420.17,-67.71 1428.87,-61.66 1418.3,-60.96 1420.17,-67.71\"/>\n",
       "</g>\n",
       "<!-- callgraphX__tile_5_1&#45;&gt;callgraphX__tile_4_1 -->\n",
       "<g id=\"edge177\" class=\"edge\">\n",
       "<title>callgraphX__tile_5_1&#45;&gt;callgraphX__tile_4_1</title>\n",
       "<path fill=\"none\" stroke=\"#000000\" d=\"M445.33,-1872.64C443,-1880.97 439.94,-1890.33 436.66,-1899.2\"/>\n",
       "<polygon fill=\"#000000\" stroke=\"#000000\" points=\"433.38,-1897.97 433.04,-1908.56 439.91,-1900.5 433.38,-1897.97\"/>\n",
       "</g>\n",
       "<!-- callgraphX__tile_5_1&#45;&gt;callgraphX__tile_5_0 -->\n",
       "<g id=\"edge180\" class=\"edge\">\n",
       "<title>callgraphX__tile_5_1&#45;&gt;callgraphX__tile_5_0</title>\n",
       "<path fill=\"none\" stroke=\"#000000\" d=\"M512.6,-1828.21C529.54,-1824.49 547.86,-1821 564.99,-1818.8 984.07,-1764.97 1097.41,-1847.29 1514.99,-1782.8 1523.22,-1781.53 1531.77,-1779.79 1540.2,-1777.81\"/>\n",
       "<polygon fill=\"#000000\" stroke=\"#000000\" points=\"1541.15,-1781.18 1550.02,-1775.39 1539.47,-1774.39 1541.15,-1781.18\"/>\n",
       "</g>\n",
       "<!-- callgraphX__tile_5_1&#45;&gt;callgraphX__tile_5_1 -->\n",
       "<g id=\"edge176\" class=\"edge\">\n",
       "<title>callgraphX__tile_5_1&#45;&gt;callgraphX__tile_5_1</title>\n",
       "<path fill=\"none\" stroke=\"#000000\" d=\"M515.26,-1862.14C535.27,-1861.64 550.84,-1856.16 550.84,-1845.67 550.84,-1837.07 540.36,-1831.83 525.55,-1829.96\"/>\n",
       "<polygon fill=\"#000000\" stroke=\"#000000\" points=\"525.48,-1826.44 515.26,-1829.21 524.97,-1833.43 525.48,-1826.44\"/>\n",
       "</g>\n",
       "<!-- callgraphX__tile_5_1&#45;&gt;callgraphX__tile_5_2 -->\n",
       "<g id=\"edge178\" class=\"edge\">\n",
       "<title>callgraphX__tile_5_1&#45;&gt;callgraphX__tile_5_2</title>\n",
       "<path fill=\"none\" stroke=\"#000000\" d=\"M505.44,-1825.69C515.84,-1822.91 526.66,-1820.44 536.99,-1818.8 665.01,-1798.55 1590,-1846.33 1702.99,-1782.8 1727.83,-1768.83 1714.05,-1744.54 1737.99,-1729.06 1825.24,-1672.64 1891.33,-1762.09 1968.99,-1693.06 1987.52,-1676.59 1965.81,-1656.19 1983.99,-1639.32 2015.09,-1610.46 2121.95,-1593.86 2201.34,-1585.26\"/>\n",
       "<polygon fill=\"#000000\" stroke=\"#000000\" points=\"2201.79,-1588.73 2211.37,-1584.2 2201.05,-1581.77 2201.79,-1588.73\"/>\n",
       "</g>\n",
       "<!-- callgraphX__tile_5_1&#45;&gt;callgraphX__tile_6_1 -->\n",
       "<g id=\"edge179\" class=\"edge\">\n",
       "<title>callgraphX__tile_5_1&#45;&gt;callgraphX__tile_6_1</title>\n",
       "<path fill=\"none\" stroke=\"#000000\" d=\"M509.7,-1827.07C524.74,-1823.83 540.83,-1820.83 555.99,-1818.8 881.91,-1775.15 969.95,-1832.64 1294.99,-1782.8 1305.99,-1781.12 1317.53,-1778.71 1328.83,-1776.03\"/>\n",
       "<polygon fill=\"#000000\" stroke=\"#000000\" points=\"1329.8,-1779.39 1338.67,-1773.61 1328.13,-1772.59 1329.8,-1779.39\"/>\n",
       "</g>\n",
       "<!-- callgraphX__tile_5_2&#45;&gt;callgraphX__print_maze -->\n",
       "<g id=\"edge181\" class=\"edge\">\n",
       "<title>callgraphX__tile_5_2&#45;&gt;callgraphX__print_maze</title>\n",
       "<path fill=\"none\" stroke=\"#000000\" d=\"M2293.49,-1549.51C2295.09,-1463.84 2299.99,-1182.2 2299.99,-949.27 2299.99,-949.27 2299.99,-949.27 2299.99,-588.31 2299.99,-490.36 2297.16,-443.27 2219.99,-382.96 2120.78,-305.43 2037.6,-425.24 1938.99,-346.96 1919.03,-331.12 1938.37,-309.76 1918.99,-293.22 1857.26,-240.54 1798.34,-313.61 1739.99,-257.22 1692.86,-211.68 1751,-161.37 1705.99,-113.74 1674.07,-79.96 1624.61,-64.37 1581.93,-57.28\"/>\n",
       "<polygon fill=\"#000000\" stroke=\"#000000\" points=\"1582.22,-53.79 1571.81,-55.74 1581.17,-60.71 1582.22,-53.79\"/>\n",
       "</g>\n",
       "<!-- callgraphX__tile_5_3&#45;&gt;callgraphX__print_maze -->\n",
       "<g id=\"edge182\" class=\"edge\">\n",
       "<title>callgraphX__tile_5_3&#45;&gt;callgraphX__print_maze</title>\n",
       "<path fill=\"none\" stroke=\"#000000\" d=\"M1429.21,-924.57C1413.28,-914.2 1395.79,-900.79 1382.99,-885.4 1366.14,-865.15 1374.78,-851.96 1357.99,-831.66 1340.54,-810.56 1321.31,-819.58 1307.99,-795.66 1263.28,-715.39 1279.58,-474.78 1282.99,-382.96 1285.21,-323.01 1265.79,-160.81 1302.99,-113.74 1329.48,-80.22 1374.14,-64.54 1414.04,-57.34\"/>\n",
       "<polygon fill=\"#000000\" stroke=\"#000000\" points=\"1414.77,-60.76 1424.07,-55.68 1413.63,-53.86 1414.77,-60.76\"/>\n",
       "</g>\n",
       "<!-- callgraphX__tile_5_4&#45;&gt;callgraphX__print_maze -->\n",
       "<g id=\"edge183\" class=\"edge\">\n",
       "<title>callgraphX__tile_5_4&#45;&gt;callgraphX__print_maze</title>\n",
       "<path fill=\"none\" stroke=\"#000000\" d=\"M1947.12,-1011.1C1960.74,-977 1981.99,-914.92 1981.99,-859.53 1981.99,-859.53 1981.99,-859.53 1981.99,-767.79 1981.99,-716.22 1959.02,-691.84 1991.99,-652.18 2030.31,-606.08 2082.6,-661.38 2121.99,-616.18 2156.04,-577.1 2155.53,-418.7 2117.99,-382.96 2026.8,-296.14 1938.62,-421.28 1836.99,-346.96 1815.72,-331.41 1832.63,-309.58 1811.99,-293.22 1750.44,-244.43 1696.69,-310.5 1638.99,-257.22 1614.58,-234.68 1617.05,-140.22 1596.99,-113.74 1585.63,-98.75 1569.49,-86.49 1553.54,-76.96\"/>\n",
       "<polygon fill=\"#000000\" stroke=\"#000000\" points=\"1555.14,-73.85 1544.72,-71.95 1551.68,-79.94 1555.14,-73.85\"/>\n",
       "</g>\n",
       "<!-- callgraphX__tile_5_5&#45;&gt;callgraphX__print_maze -->\n",
       "<g id=\"edge184\" class=\"edge\">\n",
       "<title>callgraphX__tile_5_5&#45;&gt;callgraphX__print_maze</title>\n",
       "<path fill=\"none\" stroke=\"#000000\" d=\"M2114.06,-1284.21C2049.6,-1248.77 1941.41,-1175.45 1983.99,-1100.88 1999.6,-1073.54 2021.91,-1086.29 2044.99,-1064.88 2116.26,-998.78 2136.22,-976.55 2169.99,-885.4 2215.79,-761.79 2199.99,-722.14 2199.99,-590.31 2199.99,-590.31 2199.99,-590.31 2199.99,-498.57 2199.99,-472.66 2203.34,-401.24 2184.99,-382.96 2094.23,-292.54 1999.42,-426.5 1898.99,-346.96 1879.01,-331.14 1898.37,-309.76 1878.99,-293.22 1817.26,-240.54 1757.01,-314.96 1699.99,-257.22 1654.39,-211.05 1715.21,-163.01 1672.99,-113.74 1649.32,-86.12 1612.51,-70.83 1578.75,-62.37\"/>\n",
       "<polygon fill=\"#000000\" stroke=\"#000000\" points=\"1579.38,-58.92 1568.85,-60.05 1577.79,-65.74 1579.38,-58.92\"/>\n",
       "</g>\n",
       "<!-- callgraphX__tile_5_5&#45;&gt;callgraphX__tile_4_5 -->\n",
       "<g id=\"edge185\" class=\"edge\">\n",
       "<title>callgraphX__tile_5_5&#45;&gt;callgraphX__tile_4_5</title>\n",
       "<path fill=\"none\" stroke=\"#000000\" d=\"M2151.77,-1280.38C2151.27,-1272.33 2151.12,-1263.3 2151.33,-1254.68\"/>\n",
       "<polygon fill=\"#000000\" stroke=\"#000000\" points=\"2154.84,-1254.6 2151.77,-1244.46 2147.84,-1254.3 2154.84,-1254.6\"/>\n",
       "</g>\n",
       "<!-- callgraphX__tile_5_5&#45;&gt;callgraphX__tile_5_4 -->\n",
       "<g id=\"edge189\" class=\"edge\">\n",
       "<title>callgraphX__tile_5_5&#45;&gt;callgraphX__tile_5_4</title>\n",
       "<path fill=\"none\" stroke=\"#000000\" d=\"M2076.94,-1298.98C2038.75,-1291.3 1995.78,-1275.73 1968.99,-1244.36 1928.5,-1196.96 1927.61,-1120.09 1931.33,-1075.06\"/>\n",
       "<polygon fill=\"#000000\" stroke=\"#000000\" points=\"1934.84,-1075.16 1932.29,-1064.88 1927.87,-1074.5 1934.84,-1075.16\"/>\n",
       "</g>\n",
       "<!-- callgraphX__tile_5_5&#45;&gt;callgraphX__tile_5_5 -->\n",
       "<g id=\"edge186\" class=\"edge\">\n",
       "<title>callgraphX__tile_5_5&#45;&gt;callgraphX__tile_5_5</title>\n",
       "<path fill=\"none\" stroke=\"#000000\" d=\"M2225.26,-1323.7C2245.27,-1323.2 2260.84,-1317.72 2260.84,-1307.23 2260.84,-1298.63 2250.36,-1293.39 2235.55,-1291.52\"/>\n",
       "<polygon fill=\"#000000\" stroke=\"#000000\" points=\"2235.48,-1288 2225.26,-1290.77 2234.97,-1294.98 2235.48,-1288\"/>\n",
       "</g>\n",
       "<!-- callgraphX__tile_5_5&#45;&gt;callgraphX__tile_5_6 -->\n",
       "<g id=\"edge188\" class=\"edge\">\n",
       "<title>callgraphX__tile_5_5&#45;&gt;callgraphX__tile_5_6</title>\n",
       "<path fill=\"none\" stroke=\"#000000\" d=\"M2215.66,-1287.46C2236.16,-1277.84 2257.28,-1263.92 2269.99,-1244.36 2298.09,-1201.11 2279.99,-1180.33 2279.99,-1128.75 2279.99,-1128.75 2279.99,-1128.75 2279.99,-588.31 2279.99,-493.83 2294.56,-446.89 2224.99,-382.96 2158.16,-321.55 2109.99,-375.95 2023.99,-346.96 1974.31,-330.21 1966.29,-315.82 1918.99,-293.22 1883.44,-276.24 1859.46,-290.25 1837.99,-257.22 1824.97,-237.19 1826.66,-224.51 1837.99,-203.48 1845.9,-188.81 1858.97,-177.05 1872.89,-167.88\"/>\n",
       "<polygon fill=\"#000000\" stroke=\"#000000\" points=\"1874.94,-170.73 1881.63,-162.51 1871.27,-164.77 1874.94,-170.73\"/>\n",
       "</g>\n",
       "<!-- callgraphX__tile_5_5&#45;&gt;callgraphX__tile_6_5 -->\n",
       "<g id=\"edge187\" class=\"edge\">\n",
       "<title>callgraphX__tile_5_5&#45;&gt;callgraphX__tile_6_5</title>\n",
       "<path fill=\"none\" stroke=\"#000000\" d=\"M2164.21,-1334.2C2164.71,-1342.26 2164.86,-1351.29 2164.64,-1359.91\"/>\n",
       "<polygon fill=\"#000000\" stroke=\"#000000\" points=\"2161.14,-1359.98 2164.2,-1370.12 2168.13,-1360.28 2161.14,-1359.98\"/>\n",
       "</g>\n",
       "<!-- callgraphX__tile_5_6&#45;&gt;callgraphX__print_maze -->\n",
       "<g id=\"edge190\" class=\"edge\">\n",
       "<title>callgraphX__tile_5_6&#45;&gt;callgraphX__print_maze</title>\n",
       "<path fill=\"none\" stroke=\"#000000\" d=\"M1869.31,-122.49C1857.29,-119.42 1844.78,-116.37 1832.99,-113.74 1745.27,-94.21 1643.66,-76.06 1575.55,-64.54\"/>\n",
       "<polygon fill=\"#000000\" stroke=\"#000000\" points=\"1575.78,-61.03 1565.34,-62.82 1574.62,-67.93 1575.78,-61.03\"/>\n",
       "</g>\n",
       "<!-- callgraphX__tile_5_7&#45;&gt;callgraphX__print_maze -->\n",
       "<g id=\"edge191\" class=\"edge\">\n",
       "<title>callgraphX__tile_5_7&#45;&gt;callgraphX__print_maze</title>\n",
       "<path fill=\"none\" stroke=\"#000000\" d=\"M2087.84,-205.22C2075.23,-194.64 2061.33,-181.44 2050.99,-167.48 2035.31,-146.31 2047.34,-129.17 2025.99,-113.74 1957.1,-63.94 1713.99,-53.77 1583.03,-51.99\"/>\n",
       "<polygon fill=\"#000000\" stroke=\"#000000\" points=\"1583.08,-48.49 1573.03,-51.86 1582.99,-55.49 1583.08,-48.49\"/>\n",
       "</g>\n",
       "<!-- callgraphX__tile_5_7&#45;&gt;callgraphX__tile_4_7 -->\n",
       "<g id=\"edge194\" class=\"edge\">\n",
       "<title>callgraphX__tile_5_7&#45;&gt;callgraphX__tile_4_7</title>\n",
       "<path fill=\"none\" stroke=\"#000000\" d=\"M2125.62,-257.32C2125.94,-265.38 2125.87,-274.41 2125.46,-283.03\"/>\n",
       "<polygon fill=\"#000000\" stroke=\"#000000\" points=\"2121.96,-283.03 2124.79,-293.24 2128.94,-283.49 2121.96,-283.03\"/>\n",
       "</g>\n",
       "<!-- callgraphX__tile_5_7&#45;&gt;callgraphX__tile_5_6 -->\n",
       "<g id=\"edge195\" class=\"edge\">\n",
       "<title>callgraphX__tile_5_7&#45;&gt;callgraphX__tile_5_6</title>\n",
       "<path fill=\"none\" stroke=\"#000000\" d=\"M2073.52,-207.66C2047.43,-195.49 2014.72,-180.22 1987.32,-167.43\"/>\n",
       "<polygon fill=\"#000000\" stroke=\"#000000\" points=\"1988.79,-164.26 1978.25,-163.2 1985.83,-170.6 1988.79,-164.26\"/>\n",
       "</g>\n",
       "<!-- callgraphX__tile_5_7&#45;&gt;callgraphX__tile_5_7 -->\n",
       "<g id=\"edge196\" class=\"edge\">\n",
       "<title>callgraphX__tile_5_7&#45;&gt;callgraphX__tile_5_7</title>\n",
       "<path fill=\"none\" stroke=\"#000000\" d=\"M2187.26,-246.81C2207.27,-246.32 2222.84,-240.83 2222.84,-230.35 2222.84,-221.75 2212.36,-216.51 2197.55,-214.64\"/>\n",
       "<polygon fill=\"#000000\" stroke=\"#000000\" points=\"2197.48,-211.12 2187.26,-213.89 2196.97,-218.1 2197.48,-211.12\"/>\n",
       "</g>\n",
       "<!-- callgraphX__tile_5_7&#45;&gt;callgraphX__tile_5_8 -->\n",
       "<g id=\"edge192\" class=\"edge\">\n",
       "<title>callgraphX__tile_5_7&#45;&gt;callgraphX__tile_5_8</title>\n",
       "<path fill=\"none\" stroke=\"#000000\" d=\"M2131.77,-203.5C2135.64,-195.02 2140,-185.46 2144.12,-176.42\"/>\n",
       "<polygon fill=\"#000000\" stroke=\"#000000\" points=\"2147.32,-177.83 2148.29,-167.28 2140.95,-174.92 2147.32,-177.83\"/>\n",
       "</g>\n",
       "<!-- callgraphX__tile_5_7&#45;&gt;callgraphX__tile_6_7 -->\n",
       "<g id=\"edge193\" class=\"edge\">\n",
       "<title>callgraphX__tile_5_7&#45;&gt;callgraphX__tile_6_7</title>\n",
       "<path fill=\"none\" stroke=\"#000000\" d=\"M2172.58,-209.11C2206.24,-196.16 2250.08,-179.29 2285.51,-165.65\"/>\n",
       "<polygon fill=\"#000000\" stroke=\"#000000\" points=\"2287.19,-168.76 2295.26,-161.9 2284.67,-162.22 2287.19,-168.76\"/>\n",
       "</g>\n",
       "<!-- callgraphX__tile_5_8&#45;&gt;callgraphX__print_maze -->\n",
       "<g id=\"edge197\" class=\"edge\">\n",
       "<title>callgraphX__tile_5_8&#45;&gt;callgraphX__print_maze</title>\n",
       "<path fill=\"none\" stroke=\"#000000\" d=\"M2098.51,-122.06C2086.16,-118.95 2073.22,-116 2060.99,-113.74 1892.2,-82.59 1691.84,-65.15 1581.44,-57.21\"/>\n",
       "<polygon fill=\"#000000\" stroke=\"#000000\" points=\"1581.59,-53.71 1571.37,-56.5 1581.09,-60.7 1581.59,-53.71\"/>\n",
       "</g>\n",
       "<!-- callgraphX__tile_6_0&#45;&gt;callgraphX__print_maze -->\n",
       "<g id=\"edge198\" class=\"edge\">\n",
       "<title>callgraphX__tile_6_0&#45;&gt;callgraphX__print_maze</title>\n",
       "<path fill=\"none\" stroke=\"#000000\" d=\"M1173.08,-1459.51C1172.48,-1436.06 1172.12,-1400.75 1173.99,-1370.1 1178.92,-1289.3 1156.94,-1255.77 1204.99,-1190.62 1224.13,-1164.67 1251.8,-1182.51 1267.99,-1154.62 1279.98,-1133.96 1282.61,-1119.77 1267.99,-1100.88 1228.93,-1050.42 1190.16,-1083.06 1128.99,-1064.88 1113.99,-1060.42 871.79,-987.34 861.99,-975.14 833.03,-939.13 840.09,-598.33 810.99,-562.44 784.11,-529.3 747.35,-560.76 721.99,-526.44 691.34,-484.96 711.99,-462.4 711.99,-410.83 711.99,-410.83 711.99,-410.83 711.99,-229.35 711.99,-158.73 757.49,-144.65 820.99,-113.74 923.21,-63.99 1254.96,-54.08 1412.9,-52.22\"/>\n",
       "<polygon fill=\"#000000\" stroke=\"#000000\" points=\"1413.09,-55.72 1423.05,-52.11 1413.01,-48.72 1413.09,-55.72\"/>\n",
       "</g>\n",
       "<!-- callgraphX__tile_6_1&#45;&gt;callgraphX__print_maze -->\n",
       "<g id=\"edge199\" class=\"edge\">\n",
       "<title>callgraphX__tile_6_1&#45;&gt;callgraphX__print_maze</title>\n",
       "<path fill=\"none\" stroke=\"#000000\" d=\"M1453.42,-1734.24C1510.01,-1707.26 1593.99,-1654.29 1593.99,-1577.45 1593.99,-1577.45 1593.99,-1577.45 1593.99,-1306.23 1593.99,-1220.71 1649.8,-990.2 1598.99,-921.4 1566.67,-877.64 1525.5,-918.06 1481.99,-885.4 1443.81,-856.75 1441.6,-839.62 1422.99,-795.66 1375.2,-682.77 1376.4,-648.29 1362.99,-526.44 1352.95,-435.28 1313.46,-190.93 1362.99,-113.74 1377,-91.9 1400.86,-77.67 1424.66,-68.44\"/>\n",
       "<polygon fill=\"#000000\" stroke=\"#000000\" points=\"1425.9,-71.72 1434.11,-65.03 1423.52,-65.14 1425.9,-71.72\"/>\n",
       "</g>\n",
       "<!-- callgraphX__tile_6_1&#45;&gt;callgraphX__tile_5_1 -->\n",
       "<g id=\"edge200\" class=\"edge\">\n",
       "<title>callgraphX__tile_6_1&#45;&gt;callgraphX__tile_5_1</title>\n",
       "<path fill=\"none\" stroke=\"#000000\" d=\"M1346.49,-1776.05C1335.48,-1778.72 1323.96,-1781.12 1312.99,-1782.8 987.95,-1832.64 899.91,-1775.15 573.99,-1818.8 558.36,-1820.89 541.74,-1824.02 525.84,-1827.37\"/>\n",
       "<polygon fill=\"#000000\" stroke=\"#000000\" points=\"525.09,-1823.95 516.05,-1829.48 526.57,-1830.8 525.09,-1823.95\"/>\n",
       "</g>\n",
       "<!-- callgraphX__tile_6_1&#45;&gt;callgraphX__tile_6_0 -->\n",
       "<g id=\"edge201\" class=\"edge\">\n",
       "<title>callgraphX__tile_6_1&#45;&gt;callgraphX__tile_6_0</title>\n",
       "<path fill=\"none\" stroke=\"#000000\" d=\"M1381.44,-1729.79C1339.93,-1681.35 1248.86,-1575.08 1202.43,-1520.9\"/>\n",
       "<polygon fill=\"#000000\" stroke=\"#000000\" points=\"1204.81,-1518.29 1195.64,-1512.98 1199.49,-1522.85 1204.81,-1518.29\"/>\n",
       "</g>\n",
       "<!-- callgraphX__tile_6_1&#45;&gt;callgraphX__tile_6_1 -->\n",
       "<g id=\"edge203\" class=\"edge\">\n",
       "<title>callgraphX__tile_6_1&#45;&gt;callgraphX__tile_6_1</title>\n",
       "<path fill=\"none\" stroke=\"#000000\" d=\"M1470.26,-1772.4C1490.27,-1771.9 1505.84,-1766.42 1505.84,-1755.93 1505.84,-1747.33 1495.36,-1742.09 1480.55,-1740.22\"/>\n",
       "<polygon fill=\"#000000\" stroke=\"#000000\" points=\"1480.48,-1736.7 1470.26,-1739.47 1479.97,-1743.68 1480.48,-1736.7\"/>\n",
       "</g>\n",
       "<!-- callgraphX__tile_6_1&#45;&gt;callgraphX__tile_6_2 -->\n",
       "<g id=\"edge204\" class=\"edge\">\n",
       "<title>callgraphX__tile_6_1&#45;&gt;callgraphX__tile_6_2</title>\n",
       "<path fill=\"none\" stroke=\"#000000\" d=\"M1466.03,-1737.79C1479.19,-1734.77 1492.99,-1731.74 1505.99,-1729.06 1595.98,-1710.54 1699.9,-1692.16 1771.25,-1680.31\"/>\n",
       "<polygon fill=\"#000000\" stroke=\"#000000\" points=\"1772.24,-1683.7 1781.53,-1678.61 1771.1,-1676.79 1772.24,-1683.7\"/>\n",
       "</g>\n",
       "<!-- callgraphX__tile_6_1&#45;&gt;callgraphX__tile_7_1 -->\n",
       "<g id=\"edge202\" class=\"edge\">\n",
       "<title>callgraphX__tile_6_1&#45;&gt;callgraphX__tile_7_1</title>\n",
       "<path fill=\"none\" stroke=\"#000000\" d=\"M1353.19,-1734.03C1323.21,-1721.44 1284.87,-1705.34 1253.32,-1692.1\"/>\n",
       "<polygon fill=\"#000000\" stroke=\"#000000\" points=\"1254.34,-1688.73 1243.76,-1688.09 1251.63,-1695.19 1254.34,-1688.73\"/>\n",
       "</g>\n",
       "<!-- callgraphX__tile_6_2&#45;&gt;callgraphX__print_maze -->\n",
       "<g id=\"edge205\" class=\"edge\">\n",
       "<title>callgraphX__tile_6_2&#45;&gt;callgraphX__print_maze</title>\n",
       "<path fill=\"none\" stroke=\"#000000\" d=\"M1828.28,-1640.64C1818.27,-1630.27 1808.25,-1617.34 1802.99,-1603.32 1780.6,-1543.61 1789.21,-1522.11 1802.99,-1459.84 1841,-1288.04 1852.27,-1231.66 1969.99,-1100.88 1990.79,-1077.77 2011.14,-1089.61 2029.99,-1064.88 2045.02,-1045.16 2036.94,-1034.6 2044.99,-1011.14 2092.55,-872.48 2135.5,-848.4 2169.99,-705.92 2182.12,-655.79 2179.99,-641.88 2179.99,-590.31 2179.99,-590.31 2179.99,-590.31 2179.99,-498.57 2179.99,-446.35 2196.86,-418.92 2158.99,-382.96 2068,-296.57 1977.87,-424.19 1878.99,-346.96 1858.78,-331.18 1877.64,-309.7 1857.99,-293.22 1795.48,-240.8 1736.5,-314.08 1677.99,-257.22 1654.52,-234.42 1666.05,-138.78 1644.99,-113.74 1626.42,-91.66 1598.61,-77.3 1572.16,-68.04\"/>\n",
       "<polygon fill=\"#000000\" stroke=\"#000000\" points=\"1573.09,-64.66 1562.5,-64.85 1570.9,-71.31 1573.09,-64.66\"/>\n",
       "</g>\n",
       "<!-- callgraphX__tile_6_2&#45;&gt;callgraphX__tile_5_2 -->\n",
       "<g id=\"edge207\" class=\"edge\">\n",
       "<title>callgraphX__tile_6_2&#45;&gt;callgraphX__tile_5_2</title>\n",
       "<path fill=\"none\" stroke=\"#000000\" d=\"M1924.67,-1649.91C1940.81,-1646.36 1958,-1642.64 1973.99,-1639.32 2054.34,-1622.65 2146.38,-1604.95 2210.87,-1592.77\"/>\n",
       "<polygon fill=\"#000000\" stroke=\"#000000\" points=\"2211.8,-1596.16 2220.98,-1590.86 2210.51,-1589.28 2211.8,-1596.16\"/>\n",
       "</g>\n",
       "<!-- callgraphX__tile_6_2&#45;&gt;callgraphX__tile_6_1 -->\n",
       "<g id=\"edge208\" class=\"edge\">\n",
       "<title>callgraphX__tile_6_2&#45;&gt;callgraphX__tile_6_1</title>\n",
       "<path fill=\"none\" stroke=\"#000000\" d=\"M1784.78,-1680.43C1717.2,-1692.29 1613.67,-1710.6 1523.99,-1729.06 1510.54,-1731.83 1496.23,-1734.98 1482.32,-1738.1\"/>\n",
       "<polygon fill=\"#000000\" stroke=\"#000000\" points=\"1481.26,-1734.75 1472.28,-1740.37 1482.8,-1741.58 1481.26,-1734.75\"/>\n",
       "</g>\n",
       "<!-- callgraphX__tile_6_2&#45;&gt;callgraphX__tile_6_2 -->\n",
       "<g id=\"edge209\" class=\"edge\">\n",
       "<title>callgraphX__tile_6_2&#45;&gt;callgraphX__tile_6_2</title>\n",
       "<path fill=\"none\" stroke=\"#000000\" d=\"M1924.26,-1682.66C1944.27,-1682.16 1959.84,-1676.68 1959.84,-1666.19 1959.84,-1657.59 1949.36,-1652.35 1934.55,-1650.48\"/>\n",
       "<polygon fill=\"#000000\" stroke=\"#000000\" points=\"1934.48,-1646.96 1924.26,-1649.73 1933.97,-1653.94 1934.48,-1646.96\"/>\n",
       "</g>\n",
       "<!-- callgraphX__tile_6_2&#45;&gt;callgraphX__tile_6_3 -->\n",
       "<g id=\"edge206\" class=\"edge\">\n",
       "<title>callgraphX__tile_6_2&#45;&gt;callgraphX__tile_6_3</title>\n",
       "<path fill=\"none\" stroke=\"#000000\" d=\"M1862.56,-1639.34C1865.92,-1630.79 1870.19,-1621.13 1874.61,-1612.03\"/>\n",
       "<polygon fill=\"#000000\" stroke=\"#000000\" points=\"1877.88,-1613.32 1879.24,-1602.82 1871.62,-1610.18 1877.88,-1613.32\"/>\n",
       "</g>\n",
       "<!-- callgraphX__tile_6_2&#45;&gt;callgraphX__tile_7_2 -->\n",
       "<g id=\"edge210\" class=\"edge\">\n",
       "<title>callgraphX__tile_6_2&#45;&gt;callgraphX__tile_7_2</title>\n",
       "<path fill=\"none\" stroke=\"#000000\" d=\"M1810.92,-1643.32C1708.08,-1594.51 1460.17,-1476.85 1349.25,-1424.2\"/>\n",
       "<polygon fill=\"#000000\" stroke=\"#000000\" points=\"1350.44,-1420.89 1339.91,-1419.77 1347.44,-1427.22 1350.44,-1420.89\"/>\n",
       "</g>\n",
       "<!-- callgraphX__tile_6_3&#45;&gt;callgraphX__print_maze -->\n",
       "<g id=\"edge211\" class=\"edge\">\n",
       "<title>callgraphX__tile_6_3&#45;&gt;callgraphX__print_maze</title>\n",
       "<path fill=\"none\" stroke=\"#000000\" d=\"M1979.16,-1569.63C2150.04,-1555.25 2527.99,-1510.7 2527.99,-1397.97 2527.99,-1397.97 2527.99,-1397.97 2527.99,-947.27 2527.99,-774.62 2540.63,-722.13 2474.99,-562.44 2437.14,-470.37 2429.93,-427.67 2340.99,-382.96 2214.3,-319.28 2142.02,-425.54 2023.99,-346.96 2001.22,-331.8 2016.1,-309.33 1993.99,-293.22 1928.04,-245.19 1876.17,-310.03 1813.99,-257.22 1762.06,-213.11 1811.15,-158.74 1759.99,-113.74 1733.12,-90.11 1644.64,-72.61 1577.88,-62.36\"/>\n",
       "<polygon fill=\"#000000\" stroke=\"#000000\" points=\"1578.19,-58.87 1567.78,-60.84 1577.15,-65.79 1578.19,-58.87\"/>\n",
       "</g>\n",
       "<!-- callgraphX__tile_6_3&#45;&gt;callgraphX__tile_5_3 -->\n",
       "<g id=\"edge215\" class=\"edge\">\n",
       "<title>callgraphX__tile_6_3&#45;&gt;callgraphX__tile_5_3</title>\n",
       "<path fill=\"none\" stroke=\"#000000\" d=\"M1855,-1552.83C1837.72,-1542.3 1818.22,-1528.74 1802.99,-1513.58 1701.15,-1412.22 1682.48,-1375.6 1623.99,-1244.36 1580.42,-1146.6 1626.2,-1098.23 1563.99,-1011.14 1554.02,-997.19 1539.84,-985.53 1525.5,-976.23\"/>\n",
       "<polygon fill=\"#000000\" stroke=\"#000000\" points=\"1526.94,-973.01 1516.59,-970.75 1523.27,-978.97 1526.94,-973.01\"/>\n",
       "</g>\n",
       "<!-- callgraphX__tile_6_3&#45;&gt;callgraphX__tile_6_2 -->\n",
       "<g id=\"edge216\" class=\"edge\">\n",
       "<title>callgraphX__tile_6_3&#45;&gt;callgraphX__tile_6_2</title>\n",
       "<path fill=\"none\" stroke=\"#000000\" d=\"M1891.39,-1603.38C1888.03,-1611.92 1883.77,-1621.55 1879.36,-1630.63\"/>\n",
       "<polygon fill=\"#000000\" stroke=\"#000000\" points=\"1876.11,-1629.31 1874.74,-1639.81 1882.36,-1632.45 1876.11,-1629.31\"/>\n",
       "</g>\n",
       "<!-- callgraphX__tile_6_3&#45;&gt;callgraphX__tile_6_3 -->\n",
       "<g id=\"edge213\" class=\"edge\">\n",
       "<title>callgraphX__tile_6_3&#45;&gt;callgraphX__tile_6_3</title>\n",
       "<path fill=\"none\" stroke=\"#000000\" d=\"M1964.26,-1592.92C1984.27,-1592.42 1999.84,-1586.94 1999.84,-1576.45 1999.84,-1567.85 1989.36,-1562.61 1974.55,-1560.74\"/>\n",
       "<polygon fill=\"#000000\" stroke=\"#000000\" points=\"1974.48,-1557.22 1964.26,-1559.99 1973.97,-1564.2 1974.48,-1557.22\"/>\n",
       "</g>\n",
       "<!-- callgraphX__tile_6_3&#45;&gt;callgraphX__tile_6_4 -->\n",
       "<g id=\"edge214\" class=\"edge\">\n",
       "<title>callgraphX__tile_6_3&#45;&gt;callgraphX__tile_6_4</title>\n",
       "<path fill=\"none\" stroke=\"#000000\" d=\"M1890.77,-1549.6C1890.27,-1541.55 1890.12,-1532.52 1890.33,-1523.9\"/>\n",
       "<polygon fill=\"#000000\" stroke=\"#000000\" points=\"1893.84,-1523.82 1890.77,-1513.68 1886.84,-1523.52 1893.84,-1523.82\"/>\n",
       "</g>\n",
       "<!-- callgraphX__tile_6_3&#45;&gt;callgraphX__tile_7_3 -->\n",
       "<g id=\"edge212\" class=\"edge\">\n",
       "<title>callgraphX__tile_6_3&#45;&gt;callgraphX__tile_7_3</title>\n",
       "<path fill=\"none\" stroke=\"#000000\" d=\"M1978.1,-1568.23C2148.43,-1552.98 2528.15,-1518.48 2532.99,-1513.58 2569.56,-1476.59 2528.23,-1326.11 2552.99,-1280.36 2559.99,-1267.41 2570.98,-1256.27 2582.56,-1247.16\"/>\n",
       "<polygon fill=\"#000000\" stroke=\"#000000\" points=\"2584.68,-1249.94 2590.63,-1241.17 2580.51,-1244.32 2584.68,-1249.94\"/>\n",
       "</g>\n",
       "<!-- callgraphX__tile_6_4&#45;&gt;callgraphX__print_maze -->\n",
       "<g id=\"edge217\" class=\"edge\">\n",
       "<title>callgraphX__tile_6_4&#45;&gt;callgraphX__print_maze</title>\n",
       "<path fill=\"none\" stroke=\"#000000\" d=\"M1861.85,-1462.18C1772.77,-1401.71 1532.79,-1233.8 1357.99,-1064.88 1335.59,-1043.23 1339.38,-1027.69 1312.99,-1011.14 1257.47,-976.32 1210.28,-1026.83 1169.99,-975.14 1130.79,-924.85 1153.78,-893.34 1169.99,-831.66 1186.3,-769.59 1220.59,-766.77 1240.99,-705.92 1269.71,-620.24 1253.42,-599.18 1274.99,-203.48 1277.16,-163.59 1255.03,-144.93 1279.99,-113.74 1297.75,-91.55 1364.92,-74.7 1420.06,-64.23\"/>\n",
       "<polygon fill=\"#000000\" stroke=\"#000000\" points=\"1421.01,-67.61 1430.2,-62.35 1419.73,-60.73 1421.01,-67.61\"/>\n",
       "</g>\n",
       "<!-- callgraphX__tile_6_4&#45;&gt;callgraphX__tile_5_4 -->\n",
       "<g id=\"edge222\" class=\"edge\">\n",
       "<title>callgraphX__tile_6_4&#45;&gt;callgraphX__tile_5_4</title>\n",
       "<path fill=\"none\" stroke=\"#000000\" d=\"M1881.5,-1460.29C1862.55,-1426.73 1832.99,-1365.22 1832.99,-1308.23 1832.99,-1308.23 1832.99,-1308.23 1832.99,-1216.49 1832.99,-1159.6 1873.07,-1104.62 1903.23,-1071.31\"/>\n",
       "<polygon fill=\"#000000\" stroke=\"#000000\" points=\"1906.03,-1073.44 1910.26,-1063.73 1900.9,-1068.68 1906.03,-1073.44\"/>\n",
       "</g>\n",
       "<!-- callgraphX__tile_6_4&#45;&gt;callgraphX__tile_6_3 -->\n",
       "<g id=\"edge218\" class=\"edge\">\n",
       "<title>callgraphX__tile_6_4&#45;&gt;callgraphX__tile_6_3</title>\n",
       "<path fill=\"none\" stroke=\"#000000\" d=\"M1903.21,-1513.68C1903.71,-1521.74 1903.86,-1530.77 1903.64,-1539.39\"/>\n",
       "<polygon fill=\"#000000\" stroke=\"#000000\" points=\"1900.14,-1539.46 1903.2,-1549.6 1907.13,-1539.76 1900.14,-1539.46\"/>\n",
       "</g>\n",
       "<!-- callgraphX__tile_6_4&#45;&gt;callgraphX__tile_6_4 -->\n",
       "<g id=\"edge220\" class=\"edge\">\n",
       "<title>callgraphX__tile_6_4&#45;&gt;callgraphX__tile_6_4</title>\n",
       "<path fill=\"none\" stroke=\"#000000\" d=\"M1964.26,-1503.18C1984.27,-1502.68 1999.84,-1497.2 1999.84,-1486.71 1999.84,-1478.11 1989.36,-1472.87 1974.55,-1471\"/>\n",
       "<polygon fill=\"#000000\" stroke=\"#000000\" points=\"1974.48,-1467.48 1964.26,-1470.25 1973.97,-1474.46 1974.48,-1467.48\"/>\n",
       "</g>\n",
       "<!-- callgraphX__tile_6_4&#45;&gt;callgraphX__tile_6_5 -->\n",
       "<g id=\"edge221\" class=\"edge\">\n",
       "<title>callgraphX__tile_6_4&#45;&gt;callgraphX__tile_6_5</title>\n",
       "<path fill=\"none\" stroke=\"#000000\" d=\"M1950.45,-1465.8C1990.43,-1451.94 2045.34,-1433.46 2088.67,-1419.3\"/>\n",
       "<polygon fill=\"#000000\" stroke=\"#000000\" points=\"2089.87,-1422.59 2098.29,-1416.16 2087.7,-1415.93 2089.87,-1422.59\"/>\n",
       "</g>\n",
       "<!-- callgraphX__tile_6_4&#45;&gt;callgraphX__tile_7_4 -->\n",
       "<g id=\"edge219\" class=\"edge\">\n",
       "<title>callgraphX__tile_6_4&#45;&gt;callgraphX__tile_7_4</title>\n",
       "<path fill=\"none\" stroke=\"#000000\" d=\"M1852.58,-1463.79C1726.14,-1401.36 1364.53,-1222.83 1227.5,-1155.17\"/>\n",
       "<polygon fill=\"#000000\" stroke=\"#000000\" points=\"1228.94,-1151.98 1218.42,-1150.69 1225.84,-1158.25 1228.94,-1151.98\"/>\n",
       "</g>\n",
       "<!-- callgraphX__tile_6_5&#45;&gt;callgraphX__print_maze -->\n",
       "<g id=\"edge223\" class=\"edge\">\n",
       "<title>callgraphX__tile_6_5&#45;&gt;callgraphX__print_maze</title>\n",
       "<path fill=\"none\" stroke=\"#000000\" d=\"M2118.06,-1373.23C2071.84,-1345.9 1994.7,-1297.09 1936.99,-1244.36 1797.81,-1117.2 1819.72,-1024.65 1661.99,-921.4 1615.76,-891.14 1583,-923.51 1542.99,-885.4 1512.33,-856.2 1524.41,-835.82 1510.99,-795.66 1454.88,-627.73 1407.99,-587.89 1407.99,-410.83 1407.99,-410.83 1407.99,-410.83 1407.99,-229.35 1407.99,-177.48 1398.85,-159.11 1423.99,-113.74 1430.98,-101.13 1441.64,-90 1452.7,-80.79\"/>\n",
       "<polygon fill=\"#000000\" stroke=\"#000000\" points=\"1455.1,-83.36 1460.79,-74.42 1450.77,-77.86 1455.1,-83.36\"/>\n",
       "</g>\n",
       "<!-- callgraphX__tile_6_5&#45;&gt;callgraphX__tile_5_5 -->\n",
       "<g id=\"edge225\" class=\"edge\">\n",
       "<title>callgraphX__tile_6_5&#45;&gt;callgraphX__tile_5_5</title>\n",
       "<path fill=\"none\" stroke=\"#000000\" d=\"M2151.77,-1370.12C2151.27,-1362.07 2151.12,-1353.04 2151.33,-1344.42\"/>\n",
       "<polygon fill=\"#000000\" stroke=\"#000000\" points=\"2154.84,-1344.34 2151.77,-1334.2 2147.84,-1344.04 2154.84,-1344.34\"/>\n",
       "</g>\n",
       "<!-- callgraphX__tile_6_5&#45;&gt;callgraphX__tile_6_4 -->\n",
       "<g id=\"edge224\" class=\"edge\">\n",
       "<title>callgraphX__tile_6_5&#45;&gt;callgraphX__tile_6_4</title>\n",
       "<path fill=\"none\" stroke=\"#000000\" d=\"M2104.29,-1417.96C2064.32,-1431.83 2009.52,-1450.26 1966.27,-1464.4\"/>\n",
       "<polygon fill=\"#000000\" stroke=\"#000000\" points=\"1965.08,-1461.11 1956.66,-1467.53 1967.25,-1467.76 1965.08,-1461.11\"/>\n",
       "</g>\n",
       "<!-- callgraphX__tile_6_5&#45;&gt;callgraphX__tile_6_5 -->\n",
       "<g id=\"edge227\" class=\"edge\">\n",
       "<title>callgraphX__tile_6_5&#45;&gt;callgraphX__tile_6_5</title>\n",
       "<path fill=\"none\" stroke=\"#000000\" d=\"M2225.26,-1413.44C2245.27,-1412.94 2260.84,-1407.46 2260.84,-1396.97 2260.84,-1388.37 2250.36,-1383.13 2235.55,-1381.26\"/>\n",
       "<polygon fill=\"#000000\" stroke=\"#000000\" points=\"2235.48,-1377.74 2225.26,-1380.51 2234.97,-1384.72 2235.48,-1377.74\"/>\n",
       "</g>\n",
       "<!-- callgraphX__tile_6_5&#45;&gt;callgraphX__tile_6_6 -->\n",
       "<g id=\"edge228\" class=\"edge\">\n",
       "<title>callgraphX__tile_6_5&#45;&gt;callgraphX__tile_6_6</title>\n",
       "<path fill=\"none\" stroke=\"#000000\" d=\"M2210.39,-1375.65C2231.02,-1365.61 2253.63,-1351.8 2269.99,-1334.1 2341.48,-1256.77 2380.06,-1134.77 2395.64,-1074.76\"/>\n",
       "<polygon fill=\"#000000\" stroke=\"#000000\" points=\"2399.05,-1075.55 2398.12,-1064.99 2392.27,-1073.83 2399.05,-1075.55\"/>\n",
       "</g>\n",
       "<!-- callgraphX__tile_6_5&#45;&gt;callgraphX__tile_7_5 -->\n",
       "<g id=\"edge226\" class=\"edge\">\n",
       "<title>callgraphX__tile_6_5&#45;&gt;callgraphX__tile_7_5</title>\n",
       "<path fill=\"none\" stroke=\"#000000\" d=\"M2215.38,-1377.04C2256.98,-1363.32 2313.36,-1344.72 2357.03,-1330.32\"/>\n",
       "<polygon fill=\"#000000\" stroke=\"#000000\" points=\"2358.3,-1333.58 2366.7,-1327.13 2356.11,-1326.94 2358.3,-1333.58\"/>\n",
       "</g>\n",
       "<!-- callgraphX__tile_6_6&#45;&gt;callgraphX__print_maze -->\n",
       "<g id=\"edge229\" class=\"edge\">\n",
       "<title>callgraphX__tile_6_6&#45;&gt;callgraphX__print_maze</title>\n",
       "<path fill=\"none\" stroke=\"#000000\" d=\"M2383.22,-1011.74C2358.35,-978.82 2319.99,-918.51 2319.99,-859.53 2319.99,-859.53 2319.99,-859.53 2319.99,-498.57 2319.99,-444.89 2326.09,-417.5 2284.99,-382.96 2183.54,-297.69 2107.07,-407.12 1988.99,-346.96 1959.92,-332.15 1967.44,-309.19 1938.99,-293.22 1869.37,-254.13 1819.57,-313.55 1762.99,-257.22 1716.82,-211.25 1777.86,-160.97 1732.99,-113.74 1711.5,-91.11 1636.36,-73.98 1576.76,-63.54\"/>\n",
       "<polygon fill=\"#000000\" stroke=\"#000000\" points=\"1577.04,-60.04 1566.59,-61.8 1575.85,-66.94 1577.04,-60.04\"/>\n",
       "</g>\n",
       "<!-- callgraphX__tile_6_7&#45;&gt;callgraphX__print_maze -->\n",
       "<g id=\"edge230\" class=\"edge\">\n",
       "<title>callgraphX__tile_6_7&#45;&gt;callgraphX__print_maze</title>\n",
       "<path fill=\"none\" stroke=\"#000000\" d=\"M2288.45,-121.42C2277.09,-118.47 2265.24,-115.73 2253.99,-113.74 2012.99,-71.1 1723.47,-57.76 1582.89,-53.66\"/>\n",
       "<polygon fill=\"#000000\" stroke=\"#000000\" points=\"1582.72,-50.15 1572.62,-53.36 1582.52,-57.15 1582.72,-50.15\"/>\n",
       "</g>\n",
       "<!-- callgraphX__tile_6_8&#45;&gt;callgraphX__print_maze -->\n",
       "<g id=\"edge231\" class=\"edge\">\n",
       "<title>callgraphX__tile_6_8&#45;&gt;callgraphX__print_maze</title>\n",
       "<path fill=\"none\" stroke=\"#000000\" d=\"M2515.12,-121.74C2502.6,-118.62 2489.44,-115.74 2476.99,-113.74 2149.69,-61.14 1754.13,-52.76 1583.33,-51.76\"/>\n",
       "<polygon fill=\"#000000\" stroke=\"#000000\" points=\"1583.16,-48.26 1573.14,-51.71 1583.13,-55.26 1583.16,-48.26\"/>\n",
       "</g>\n",
       "<!-- callgraphX__tile_7_0&#45;&gt;callgraphX__print_maze -->\n",
       "<g id=\"edge232\" class=\"edge\">\n",
       "<title>callgraphX__tile_7_0&#45;&gt;callgraphX__print_maze</title>\n",
       "<path fill=\"none\" stroke=\"#000000\" d=\"M2705,-121.29C2693.48,-118.31 2681.43,-115.59 2669.99,-113.74 2460.41,-79.78 1815.36,-60.11 1582.73,-53.97\"/>\n",
       "<polygon fill=\"#000000\" stroke=\"#000000\" points=\"1582.72,-50.47 1572.64,-53.7 1582.54,-57.47 1582.72,-50.47\"/>\n",
       "</g>\n",
       "<!-- callgraphX__tile_7_1&#45;&gt;callgraphX__print_maze -->\n",
       "<g id=\"edge233\" class=\"edge\">\n",
       "<title>callgraphX__tile_7_1&#45;&gt;callgraphX__print_maze</title>\n",
       "<path fill=\"none\" stroke=\"#000000\" d=\"M1213.16,-1639.79C1233.6,-1610.96 1264.68,-1561.69 1276.99,-1513.58 1282.91,-1490.44 1289.81,-1479.99 1276.99,-1459.84 1256.71,-1427.97 1220.27,-1455.71 1199.99,-1423.84 1187.17,-1403.69 1195.2,-1393.5 1199.99,-1370.1 1225.33,-1246.22 1343.52,-1216.35 1291.99,-1100.88 1291.23,-1099.18 1193.62,-1012.04 1191.99,-1011.14 1140.61,-982.82 1106.39,-1016.71 1064.99,-975.14 1047.49,-957.57 1058.65,-944.64 1049.99,-921.4 1043.81,-904.82 1039.33,-901.92 1032.99,-885.4 1018.05,-846.52 1017.58,-835.67 1005.99,-795.66 990.81,-743.26 879.99,-375.65 879.99,-321.09 879.99,-321.09 879.99,-321.09 879.99,-229.35 879.99,-203.64 867.33,-132.44 884.99,-113.74 920.56,-76.07 1253.4,-59.98 1413.18,-54.38\"/>\n",
       "<polygon fill=\"#000000\" stroke=\"#000000\" points=\"1413.57,-57.87 1423.45,-54.03 1413.33,-50.88 1413.57,-57.87\"/>\n",
       "</g>\n",
       "<!-- callgraphX__tile_7_2&#45;&gt;callgraphX__print_maze -->\n",
       "<g id=\"edge234\" class=\"edge\">\n",
       "<title>callgraphX__tile_7_2&#45;&gt;callgraphX__print_maze</title>\n",
       "<path fill=\"none\" stroke=\"#000000\" d=\"M1304.79,-1370.13C1325.23,-1317.06 1364.04,-1193.05 1322.99,-1100.88 1313.26,-1079.03 1297.91,-1083.58 1282.99,-1064.88 1265.93,-1043.5 1274.88,-1027.54 1252.99,-1011.14 1195.34,-967.97 1148.36,-1023.5 1094.99,-975.14 1063.82,-946.91 986.84,-656.53 974.99,-616.18 970.22,-599.95 899.99,-338.01 899.99,-321.09 899.99,-321.09 899.99,-321.09 899.99,-229.35 899.99,-177.92 869.74,-151.19 904.99,-113.74 939.17,-77.41 1258.11,-60.71 1413.58,-54.68\"/>\n",
       "<polygon fill=\"#000000\" stroke=\"#000000\" points=\"1413.72,-58.18 1423.58,-54.3 1413.45,-51.18 1413.72,-58.18\"/>\n",
       "</g>\n",
       "<!-- callgraphX__tile_7_3&#45;&gt;callgraphX__print_maze -->\n",
       "<g id=\"edge235\" class=\"edge\">\n",
       "<title>callgraphX__tile_7_3&#45;&gt;callgraphX__print_maze</title>\n",
       "<path fill=\"none\" stroke=\"#000000\" d=\"M2590.27,-1194C2575.86,-1183.97 2561.27,-1170.73 2552.99,-1154.62 2529.48,-1108.88 2547.99,-1090.44 2547.99,-1039.01 2547.99,-1039.01 2547.99,-1039.01 2547.99,-857.53 2547.99,-708.06 2482.61,-225.71 2477.99,-203.48 2469.51,-162.7 2483.59,-139.66 2450.99,-113.74 2383.96,-60.45 1804.45,-52.88 1583.28,-51.94\"/>\n",
       "<polygon fill=\"#000000\" stroke=\"#000000\" points=\"1583.03,-48.44 1573.02,-51.9 1583.01,-55.44 1583.03,-48.44\"/>\n",
       "</g>\n",
       "<!-- callgraphX__tile_7_4&#45;&gt;callgraphX__print_maze -->\n",
       "<g id=\"edge236\" class=\"edge\">\n",
       "<title>callgraphX__tile_7_4&#45;&gt;callgraphX__print_maze</title>\n",
       "<path fill=\"none\" stroke=\"#000000\" d=\"M1116.92,-1107.85C1032.49,-1078.69 880.62,-1021.29 846.99,-975.14 792.56,-900.46 852.26,-635.74 795.99,-562.44 770.01,-528.59 733.07,-560.21 706.99,-526.44 675.31,-485.44 691.99,-462.64 691.99,-410.83 691.99,-410.83 691.99,-410.83 691.99,-229.35 691.99,-177.54 669.43,-149.43 706.99,-113.74 757.32,-65.91 1219.11,-55.04 1412.95,-52.58\"/>\n",
       "<polygon fill=\"#000000\" stroke=\"#000000\" points=\"1413.14,-56.08 1423.1,-52.46 1413.05,-49.08 1413.14,-56.08\"/>\n",
       "</g>\n",
       "<!-- callgraphX__tile_7_5&#45;&gt;callgraphX__print_maze -->\n",
       "<g id=\"edge237\" class=\"edge\">\n",
       "<title>callgraphX__tile_7_5&#45;&gt;callgraphX__print_maze</title>\n",
       "<path fill=\"none\" stroke=\"#000000\" d=\"M2444.75,-1280.96C2469.63,-1248.04 2507.99,-1187.73 2507.99,-1128.75 2507.99,-1128.75 2507.99,-1128.75 2507.99,-947.27 2507.99,-680.88 2514.15,-549.18 2305.99,-382.96 2202.08,-299.99 2124,-413.69 2008.99,-346.96 1983.24,-332.02 1994.2,-309.06 1968.99,-293.22 1897.7,-248.42 1844.32,-314.91 1782.99,-257.22 1735.02,-212.1 1792.74,-160.12 1745.99,-113.74 1722.25,-90.19 1640.53,-72.93 1577.32,-62.71\"/>\n",
       "<polygon fill=\"#000000\" stroke=\"#000000\" points=\"1577.76,-59.24 1567.34,-61.13 1576.67,-66.15 1577.76,-59.24\"/>\n",
       "</g>\n",
       "<!-- callgraphX__tile_7_6&#45;&gt;callgraphX__print_maze -->\n",
       "<g id=\"edge238\" class=\"edge\">\n",
       "<title>callgraphX__tile_7_6&#45;&gt;callgraphX__print_maze</title>\n",
       "<path fill=\"none\" stroke=\"#000000\" d=\"M2893.01,-121.22C2881.49,-118.25 2869.44,-115.55 2857.99,-113.74 2610.63,-74.58 1840.84,-57.86 1583.07,-53.26\"/>\n",
       "<polygon fill=\"#000000\" stroke=\"#000000\" points=\"1583.08,-49.76 1573.02,-53.08 1582.95,-56.76 1583.08,-49.76\"/>\n",
       "</g>\n",
       "<!-- callgraphX__tile_7_7&#45;&gt;callgraphX__print_maze -->\n",
       "<g id=\"edge239\" class=\"edge\">\n",
       "<title>callgraphX__tile_7_7&#45;&gt;callgraphX__print_maze</title>\n",
       "<path fill=\"none\" stroke=\"#000000\" d=\"M3081.02,-121.17C3069.5,-118.2 3057.45,-115.52 3045.99,-113.74 2760.49,-69.35 1863.91,-55.89 1583.01,-52.71\"/>\n",
       "<polygon fill=\"#000000\" stroke=\"#000000\" points=\"1582.92,-49.21 1572.88,-52.6 1582.84,-56.21 1582.92,-49.21\"/>\n",
       "</g>\n",
       "<!-- callgraphX__tile_7_8&#45;&gt;callgraphX__print_maze -->\n",
       "<g id=\"edge240\" class=\"edge\">\n",
       "<title>callgraphX__tile_7_8&#45;&gt;callgraphX__print_maze</title>\n",
       "<path fill=\"none\" stroke=\"#000000\" d=\"M3269.27,-121.2C3257.68,-118.2 3245.53,-115.51 3233.99,-113.74 2910.13,-64.1 1885.43,-54.15 1582.88,-52.28\"/>\n",
       "<polygon fill=\"#000000\" stroke=\"#000000\" points=\"1582.88,-48.78 1572.85,-52.22 1582.83,-55.78 1582.88,-48.78\"/>\n",
       "</g>\n",
       "</g>\n",
       "</svg>\n"
      ],
      "text/plain": [
       "<graphviz.files.Source at 0x125088280>"
      ]
     },
     "execution_count": 55,
     "metadata": {},
     "output_type": "execute_result"
    }
   ],
   "source": [
    "callgraph(maze_code)"
   ]
  },
  {
   "cell_type": "markdown",
   "metadata": {
    "slideshow": {
     "slide_type": "subslide"
    }
   },
   "source": [
    "### A First Attempt\n",
    "\n",
    "We introduce a `DictMutator` class which mutates strings by inserting a keyword from a given dictionary:"
   ]
  },
  {
   "cell_type": "code",
   "execution_count": 56,
   "metadata": {
    "execution": {
     "iopub.execute_input": "2021-10-14T16:43:29.500552Z",
     "iopub.status.busy": "2021-10-14T16:43:29.499771Z",
     "iopub.status.idle": "2021-10-14T16:43:29.501618Z",
     "shell.execute_reply": "2021-10-14T16:43:29.501995Z"
    },
    "slideshow": {
     "slide_type": "fragment"
    }
   },
   "outputs": [],
   "source": [
    "class DictMutator(Mutator):\n",
    "    def __init__(self, dictionary):\n",
    "        super().__init__()\n",
    "        self.dictionary = dictionary\n",
    "        self.mutators.append(self.insert_from_dictionary)\n",
    "        \n",
    "    def insert_from_dictionary(self, s):\n",
    "        \"\"\"Returns s with a keyword from the dictionary inserted\"\"\"\n",
    "        pos = random.randint(0, len(s))\n",
    "        random_keyword = random.choice(self.dictionary)\n",
    "        return s[:pos] + random_keyword + s[pos:]"
   ]
  },
  {
   "cell_type": "markdown",
   "metadata": {
    "slideshow": {
     "slide_type": "subslide"
    }
   },
   "source": [
    "To fuzz the maze, we extend the `DictMutator` class to append dictionary keywords to the end of the seed and to remove a character from the end of the seed."
   ]
  },
  {
   "cell_type": "code",
   "execution_count": 57,
   "metadata": {
    "execution": {
     "iopub.execute_input": "2021-10-14T16:43:29.507520Z",
     "iopub.status.busy": "2021-10-14T16:43:29.506697Z",
     "iopub.status.idle": "2021-10-14T16:43:29.508897Z",
     "shell.execute_reply": "2021-10-14T16:43:29.508439Z"
    },
    "slideshow": {
     "slide_type": "subslide"
    }
   },
   "outputs": [],
   "source": [
    "class MazeMutator(DictMutator):\n",
    "    def __init__(self, dictionary):\n",
    "        super().__init__(dictionary)\n",
    "        self.mutators.append(self.delete_last_character)\n",
    "        self.mutators.append(self.append_from_dictionary)\n",
    "\n",
    "    def append_from_dictionary(self,s):\n",
    "        \"\"\"Returns s with a keyword from the dictionary appended\"\"\"\n",
    "        random_keyword = random.choice(self.dictionary)\n",
    "        return s + random_keyword\n",
    "    \n",
    "    def delete_last_character(self,s):\n",
    "        \"\"\"Returns s without the last character\"\"\"\n",
    "        if (len(s) > 0):\n",
    "            return s[:-1]"
   ]
  },
  {
   "cell_type": "markdown",
   "metadata": {
    "slideshow": {
     "slide_type": "subslide"
    }
   },
   "source": [
    "Let's try a standard greybox fuzzer with the classic power schedule and our extended maze mutator (n=10k)."
   ]
  },
  {
   "cell_type": "code",
   "execution_count": 58,
   "metadata": {
    "execution": {
     "iopub.execute_input": "2021-10-14T16:43:30.028037Z",
     "iopub.status.busy": "2021-10-14T16:43:29.808218Z",
     "iopub.status.idle": "2021-10-14T16:43:41.998209Z",
     "shell.execute_reply": "2021-10-14T16:43:41.998568Z"
    },
    "slideshow": {
     "slide_type": "fragment"
    }
   },
   "outputs": [
    {
     "data": {
      "text/plain": [
       "'It took the fuzzer 12.48 seconds to generate and execute 10000 inputs.'"
      ]
     },
     "execution_count": 58,
     "metadata": {},
     "output_type": "execute_result"
    }
   ],
   "source": [
    "n = 10000\n",
    "seed_input = \" \" # empty seed\n",
    "\n",
    "maze_mutator = MazeMutator([\"L\",\"R\",\"U\",\"D\"])\n",
    "maze_schedule = PowerSchedule()\n",
    "maze_fuzzer  = GreyboxFuzzer([seed_input], maze_mutator, maze_schedule)\n",
    "\n",
    "start = time.time()\n",
    "maze_fuzzer.runs(FunctionCoverageRunner(maze), trials=n)\n",
    "end = time.time()\n",
    "\n",
    "\"It took the fuzzer %0.2f seconds to generate and execute %d inputs.\" % (end - start, n)"
   ]
  },
  {
   "cell_type": "markdown",
   "metadata": {
    "slideshow": {
     "slide_type": "subslide"
    }
   },
   "source": [
    "We will need to print statistics for several fuzzers. Why don't we define a function for that?"
   ]
  },
  {
   "cell_type": "code",
   "execution_count": 59,
   "metadata": {
    "execution": {
     "iopub.execute_input": "2021-10-14T16:43:42.004321Z",
     "iopub.status.busy": "2021-10-14T16:43:42.003595Z",
     "iopub.status.idle": "2021-10-14T16:43:42.005721Z",
     "shell.execute_reply": "2021-10-14T16:43:42.006180Z"
    },
    "slideshow": {
     "slide_type": "subslide"
    }
   },
   "outputs": [],
   "source": [
    "def print_stats(fuzzer):\n",
    "    total = len(fuzzer.population)\n",
    "    solved = 0\n",
    "    invalid = 0\n",
    "    valid = 0\n",
    "    for seed in fuzzer.population:\n",
    "        s = maze(str(seed.data))\n",
    "        if \"INVALID\" in s: invalid += 1\n",
    "        elif \"VALID\" in s: valid += 1\n",
    "        elif \"SOLVED\" in s: \n",
    "            solved += 1\n",
    "            if solved == 1: \n",
    "                print(\"First solution: %s\" % repr(seed))\n",
    "        else: print(\"??\")\n",
    "\n",
    "    print(\"\"\"Out of %d seeds, \n",
    "* %4d solved the maze, \n",
    "* %4d were valid but did not solve the maze, and \n",
    "* %4d were invalid\"\"\" % (total, solved, valid, invalid))   "
   ]
  },
  {
   "cell_type": "markdown",
   "metadata": {
    "slideshow": {
     "slide_type": "subslide"
    }
   },
   "source": [
    "How well does our good, old greybox fuzzer do?"
   ]
  },
  {
   "cell_type": "code",
   "execution_count": 60,
   "metadata": {
    "execution": {
     "iopub.execute_input": "2021-10-14T16:43:42.024070Z",
     "iopub.status.busy": "2021-10-14T16:43:42.019172Z",
     "iopub.status.idle": "2021-10-14T16:43:42.026258Z",
     "shell.execute_reply": "2021-10-14T16:43:42.026722Z"
    },
    "slideshow": {
     "slide_type": "fragment"
    }
   },
   "outputs": [
    {
     "name": "stdout",
     "output_type": "stream",
     "text": [
      "Out of 826 seeds, \n",
      "*    0 solved the maze, \n",
      "*  187 were valid but did not solve the maze, and \n",
      "*  639 were invalid\n"
     ]
    }
   ],
   "source": [
    "print_stats(maze_fuzzer)"
   ]
  },
  {
   "cell_type": "markdown",
   "metadata": {
    "slideshow": {
     "slide_type": "subslide"
    }
   },
   "source": [
    "It probably didn't solve the maze a single time. How can we make the fuzzer aware how \"far\" a seed is from reaching the target? If we know that, we can just assign more energy to that seed.\n",
    "\n",
    "***Try it***. Print the statistics for the boosted fuzzer using the `AFLFastSchedule` and the `CountingGreyboxFuzzer`. It will likely perform much better than the unboosted greybox fuzzer: The lowest-probablity path happens to be also the path which reaches the target. You can execute your own code by opening this chapter as Jupyter notebook."
   ]
  },
  {
   "cell_type": "markdown",
   "metadata": {
    "slideshow": {
     "slide_type": "subslide"
    }
   },
   "source": [
    "### Computing Function-Level Distance\n",
    "\n",
    "Using the static call graph for the maze code and the target function, we can compute the distance of each function $f$ to the target $t$ as the length of the shortest path between $f$ and $t$.\n",
    "\n",
    "Fortunately, the generated maze code includes a function called `target_tile` which returns the name of the target-function."
   ]
  },
  {
   "cell_type": "code",
   "execution_count": 61,
   "metadata": {
    "execution": {
     "iopub.execute_input": "2021-10-14T16:43:42.031040Z",
     "iopub.status.busy": "2021-10-14T16:43:42.030426Z",
     "iopub.status.idle": "2021-10-14T16:43:42.032953Z",
     "shell.execute_reply": "2021-10-14T16:43:42.033321Z"
    },
    "slideshow": {
     "slide_type": "fragment"
    }
   },
   "outputs": [
    {
     "data": {
      "text/plain": [
       "'tile_6_7'"
      ]
     },
     "execution_count": 61,
     "metadata": {},
     "output_type": "execute_result"
    }
   ],
   "source": [
    "target = target_tile()\n",
    "target"
   ]
  },
  {
   "cell_type": "markdown",
   "metadata": {
    "slideshow": {
     "slide_type": "subslide"
    }
   },
   "source": [
    "Now, we need to find the corresponding function in the call graph. The function `get_callgraph` returns the call graph for the maze code as [networkx](https://networkx.github.io/) graph. Networkx provides some useful functions for graph analysis."
   ]
  },
  {
   "cell_type": "code",
   "execution_count": 62,
   "metadata": {
    "execution": {
     "iopub.execute_input": "2021-10-14T16:43:42.036470Z",
     "iopub.status.busy": "2021-10-14T16:43:42.035953Z",
     "iopub.status.idle": "2021-10-14T16:43:42.037826Z",
     "shell.execute_reply": "2021-10-14T16:43:42.038193Z"
    },
    "slideshow": {
     "slide_type": "skip"
    }
   },
   "outputs": [],
   "source": [
    "import networkx as nx\n",
    "from ControlFlow import get_callgraph"
   ]
  },
  {
   "cell_type": "code",
   "execution_count": 63,
   "metadata": {
    "execution": {
     "iopub.execute_input": "2021-10-14T16:43:42.041807Z",
     "iopub.status.busy": "2021-10-14T16:43:42.041290Z",
     "iopub.status.idle": "2021-10-14T16:43:43.459306Z",
     "shell.execute_reply": "2021-10-14T16:43:43.459763Z"
    },
    "slideshow": {
     "slide_type": "fragment"
    }
   },
   "outputs": [
    {
     "data": {
      "text/plain": [
       "'callgraphX__tile_6_7'"
      ]
     },
     "execution_count": 63,
     "metadata": {},
     "output_type": "execute_result"
    }
   ],
   "source": [
    "cg = get_callgraph(maze_code)\n",
    "for node in cg.nodes():\n",
    "    if target in node:\n",
    "        target_node = node\n",
    "        break\n",
    "target_node"
   ]
  },
  {
   "cell_type": "markdown",
   "metadata": {
    "slideshow": {
     "slide_type": "subslide"
    }
   },
   "source": [
    "We can now generate the function-level distance. The dictionary `distance` contains for each function the distance to the target-function.  If there is no path to the target, we assign a maximum distance (`0xFFFF`).\n",
    "\n",
    "The function `nx.shortest_path_length(CG, node, target_node)` returns the length of the shortest path from function `node` to function `target_node` in the call graph `CG`."
   ]
  },
  {
   "cell_type": "code",
   "execution_count": 64,
   "metadata": {
    "execution": {
     "iopub.execute_input": "2021-10-14T16:43:43.464744Z",
     "iopub.status.busy": "2021-10-14T16:43:43.464232Z",
     "iopub.status.idle": "2021-10-14T16:43:43.466049Z",
     "shell.execute_reply": "2021-10-14T16:43:43.466415Z"
    },
    "slideshow": {
     "slide_type": "subslide"
    }
   },
   "outputs": [],
   "source": [
    "distance = {}\n",
    "for node in cg.nodes():\n",
    "    if \"__\" in node: \n",
    "        name = node.split(\"__\")[-1]\n",
    "    else: \n",
    "        name = node\n",
    "    try:\n",
    "        distance[name] = nx.shortest_path_length(cg, node, target_node)\n",
    "    except:\n",
    "        distance[name] = 0xFFFF"
   ]
  },
  {
   "cell_type": "markdown",
   "metadata": {
    "slideshow": {
     "slide_type": "fragment"
    }
   },
   "source": [
    "These are the distance values for all tile-functions on the path to the target function."
   ]
  },
  {
   "cell_type": "code",
   "execution_count": 65,
   "metadata": {
    "execution": {
     "iopub.execute_input": "2021-10-14T16:43:43.470658Z",
     "iopub.status.busy": "2021-10-14T16:43:43.470129Z",
     "iopub.status.idle": "2021-10-14T16:43:43.472301Z",
     "shell.execute_reply": "2021-10-14T16:43:43.472678Z"
    },
    "slideshow": {
     "slide_type": "subslide"
    }
   },
   "outputs": [
    {
     "data": {
      "text/plain": [
       "{'callgraphX': 1,\n",
       " 'tile_2_5': 6,\n",
       " 'tile_2_6': 5,\n",
       " 'tile_4_1': 20,\n",
       " 'tile_5_5': 13,\n",
       " 'tile_2_7': 4,\n",
       " 'tile_4_3': 10,\n",
       " 'tile_5_7': 1,\n",
       " 'tile_4_4': 11,\n",
       " 'tile_4_5': 12,\n",
       " 'tile_3_1': 21,\n",
       " 'tile_6_1': 18,\n",
       " 'tile_4_7': 2,\n",
       " 'tile_6_2': 17,\n",
       " 'tile_6_3': 16,\n",
       " 'tile_6_4': 15,\n",
       " 'tile_3_3': 9,\n",
       " 'tile_6_5': 14,\n",
       " 'tile_2_1': 22,\n",
       " 'tile_5_1': 19,\n",
       " 'maze': 23,\n",
       " 'tile_6_7': 0,\n",
       " 'tile_2_3': 8,\n",
       " 'tile_3_7': 3,\n",
       " 'tile_2_4': 7}"
      ]
     },
     "execution_count": 65,
     "metadata": {},
     "output_type": "execute_result"
    }
   ],
   "source": [
    "{k: distance[k] for k in list(distance) if distance[k] < 0xFFFF}"
   ]
  },
  {
   "cell_type": "markdown",
   "metadata": {
    "slideshow": {
     "slide_type": "subslide"
    }
   },
   "source": [
    "***Summary***. Using the static call graph and the target function $t$, we have shown how to compute the function-level distance of each function $f$ to the target $t$.\n",
    "\n",
    "***Try it***. You can try and execute your own code by opening this chapter as Jupyter notebook.\n",
    "\n",
    "* How do we compute distance if there are multiple targets? (Hint: [Geometric Mean](https://en.wikipedia.org/wiki/Geometric_mean)).\n",
    "* Given the call graph (CG) and the control-flow graph (CFG$_f$) for each function $f$, how do we compute basic-block (BB)-level distance? (Hint: In CFG$_f$, measure the BB-level distance to *calls* of functions on the path to the target function. Remember that BB-level distance in functions with higher function-level distance is higher, too.)\n",
    "\n",
    "***Read***. If you are interested in other aspects of search, you can follow up by reading the chapter on [Search-based Fuzzing](SearchBasedFuzzer.ipynb). If you are interested, how to solve the problems above, you can have a look at our paper on \"[Directed Greybox Fuzzing](https://mboehme.github.io/paper/CCS17.pdf)\"."
   ]
  },
  {
   "cell_type": "markdown",
   "metadata": {
    "slideshow": {
     "slide_type": "subslide"
    }
   },
   "source": [
    "### Directed Power Schedule\n",
    "Now that we know how to compute the function-level distance, let's try to implement a power schedule that assigns *more energy to seeds with a lower average distance* to the target function. Notice that the distance values are all *pre-computed*. These values are injected into the program binary, just like the coverage instrumentation. In practice, this makes the computation of the average distance *extremely efficient*.\n",
    "\n",
    "If you really want to know. Given the function-level distance $d_f(s,t)$ of a function $s$ to a function $t$ in call graph $CG$, our directed power schedule computes the seed distance $d(i,t)$ for a seed $i$ to function $t$ as $d(i,t)=\\dfrac{\\sum_{s\\in CG} d_f(s,t)}{|CG|}$ where $|CG|$ is the number of nodes in the call graph $CG$."
   ]
  },
  {
   "cell_type": "code",
   "execution_count": 66,
   "metadata": {
    "execution": {
     "iopub.execute_input": "2021-10-14T16:43:43.477963Z",
     "iopub.status.busy": "2021-10-14T16:43:43.477437Z",
     "iopub.status.idle": "2021-10-14T16:43:43.479273Z",
     "shell.execute_reply": "2021-10-14T16:43:43.479638Z"
    },
    "slideshow": {
     "slide_type": "subslide"
    }
   },
   "outputs": [],
   "source": [
    "class DirectedSchedule(PowerSchedule):\n",
    "    def __init__(self, distance, exponent):\n",
    "        self.distance = distance\n",
    "        self.exponent = exponent\n",
    "\n",
    "    def __getFunctions__(self, coverage):\n",
    "        functions = set()\n",
    "        for f, _ in set(coverage):\n",
    "            functions.add(f)\n",
    "        return functions\n",
    "    \n",
    "    def assignEnergy(self, population):\n",
    "        \"\"\"Assigns each seed energy inversely proportional\n",
    "           to the average function-level distance to target.\"\"\"\n",
    "        for seed in population:\n",
    "            if not hasattr(seed, 'distance'):\n",
    "                num_dist = 0\n",
    "                sum_dist = 0\n",
    "                for f in self.__getFunctions__(seed.coverage):\n",
    "                    if f in list(distance):\n",
    "                        sum_dist += distance[f]\n",
    "                        num_dist += 1\n",
    "                seed.distance = sum_dist / num_dist\n",
    "                seed.energy = (1 / seed.distance) ** self.exponent"
   ]
  },
  {
   "cell_type": "markdown",
   "metadata": {
    "slideshow": {
     "slide_type": "subslide"
    }
   },
   "source": [
    "Let's see how the directed schedule performs against the good, old greybox fuzzer."
   ]
  },
  {
   "cell_type": "code",
   "execution_count": 67,
   "metadata": {
    "execution": {
     "iopub.execute_input": "2021-10-14T16:43:43.963356Z",
     "iopub.status.busy": "2021-10-14T16:43:43.487288Z",
     "iopub.status.idle": "2021-10-14T16:44:01.035444Z",
     "shell.execute_reply": "2021-10-14T16:44:01.036184Z"
    },
    "slideshow": {
     "slide_type": "fragment"
    }
   },
   "outputs": [
    {
     "data": {
      "text/plain": [
       "'It took the fuzzer 17.55 seconds to generate and execute 10000 inputs.'"
      ]
     },
     "execution_count": 67,
     "metadata": {},
     "output_type": "execute_result"
    }
   ],
   "source": [
    "directed_schedule = DirectedSchedule(distance, 3)\n",
    "directed_fuzzer  = GreyboxFuzzer([seed_input], maze_mutator, directed_schedule)\n",
    "\n",
    "start = time.time()\n",
    "directed_fuzzer.runs(FunctionCoverageRunner(maze), trials=n)\n",
    "end = time.time()\n",
    "\n",
    "\"It took the fuzzer %0.2f seconds to generate and execute %d inputs.\" % (end - start, n)"
   ]
  },
  {
   "cell_type": "code",
   "execution_count": 68,
   "metadata": {
    "execution": {
     "iopub.execute_input": "2021-10-14T16:44:01.069333Z",
     "iopub.status.busy": "2021-10-14T16:44:01.068676Z",
     "iopub.status.idle": "2021-10-14T16:44:01.071468Z",
     "shell.execute_reply": "2021-10-14T16:44:01.072210Z"
    },
    "slideshow": {
     "slide_type": "subslide"
    }
   },
   "outputs": [
    {
     "name": "stdout",
     "output_type": "stream",
     "text": [
      "Out of 1365 seeds, \n",
      "*    0 solved the maze, \n",
      "*  497 were valid but did not solve the maze, and \n",
      "*  868 were invalid\n"
     ]
    }
   ],
   "source": [
    "print_stats(directed_fuzzer)"
   ]
  },
  {
   "cell_type": "markdown",
   "metadata": {
    "slideshow": {
     "slide_type": "fragment"
    }
   },
   "source": [
    "It probably didn't solve a single maze either, but we have more valid solutions. So, there is definitely progress.\n",
    "\n",
    "Let's have a look at the distance values for each seed."
   ]
  },
  {
   "cell_type": "code",
   "execution_count": 69,
   "metadata": {
    "execution": {
     "iopub.execute_input": "2021-10-14T16:44:01.098575Z",
     "iopub.status.busy": "2021-10-14T16:44:01.098001Z",
     "iopub.status.idle": "2021-10-14T16:44:01.220874Z",
     "shell.execute_reply": "2021-10-14T16:44:01.221418Z"
    },
    "slideshow": {
     "slide_type": "subslide"
    }
   },
   "outputs": [
    {
     "data": {
      "image/png": "[encoded data removed]",
      "text/plain": [
       "<Figure size 432x288 with 1 Axes>"
      ]
     },
     "metadata": {
      "needs_background": "light"
     },
     "output_type": "display_data"
    }
   ],
   "source": [
    "y = [seed.distance for seed in directed_fuzzer.population]\n",
    "x = range(len(y))\n",
    "plt.scatter(x, y)\n",
    "plt.ylim(0,max(y))\n",
    "plt.xlabel(\"Seed ID\")\n",
    "plt.ylabel(\"Distance\");"
   ]
  },
  {
   "cell_type": "markdown",
   "metadata": {
    "slideshow": {
     "slide_type": "subslide"
    }
   },
   "source": [
    "Let's normalize the y-axis and improve the importance of the small distance seeds.\n",
    "\n",
    "### Improved Directed Power Schedule\n",
    "The improved directed schedule normalizes seed distance between the minimal and maximal distance.\n",
    "Again, if you really want to know. Given the seed distance $d(i,t)$ of a seed $i$ to a function $t$, our improved power schedule computes the new seed distance $d'(i,t)$ as \n",
    "$$\n",
    "d'(i,t)=\\begin{cases}\n",
    "1 & \\text{if } d(i,t) = \\text{minD} = \\text{maxD}\\\\\n",
    "\\text{maxD} - \\text{minD} & \\text{if } d(i,t) = \\text{minD} \\neq \\text{maxD}\\\\\n",
    "\\frac{\\text{maxD} - \\text{minD}}{d(i,t)-\\text{minD}} & \\text{otherwise}\n",
    "\\end{cases}\n",
    "$$\n",
    "where \n",
    "$$\\text{minD}=\\min_{i\\in T}[d(i,t)]$$\n",
    "and\n",
    "$$\\text{maxD}=\\max_{i\\in T}[d(i,t)]$$\n",
    "where $T$ is the set of seeds (i.e., the population)."
   ]
  },
  {
   "cell_type": "code",
   "execution_count": 70,
   "metadata": {
    "execution": {
     "iopub.execute_input": "2021-10-14T16:44:01.228656Z",
     "iopub.status.busy": "2021-10-14T16:44:01.227919Z",
     "iopub.status.idle": "2021-10-14T16:44:01.230084Z",
     "shell.execute_reply": "2021-10-14T16:44:01.230494Z"
    },
    "slideshow": {
     "slide_type": "subslide"
    }
   },
   "outputs": [],
   "source": [
    "class AFLGoSchedule(DirectedSchedule):\n",
    "    def assignEnergy(self, population):\n",
    "        \"\"\"Assigns each seed energy inversely proportional\n",
    "           to the average function-level distance to target.\"\"\"\n",
    "        min_dist = 0xFFFF\n",
    "        max_dist = 0\n",
    "        for seed in population:\n",
    "            if not hasattr(seed, 'distance'):\n",
    "                num_dist = 0\n",
    "                sum_dist = 0\n",
    "                for f in self.__getFunctions__(seed.coverage):\n",
    "                    if f in list(distance):\n",
    "                        sum_dist += distance[f]\n",
    "                        num_dist += 1\n",
    "                seed.distance = sum_dist / num_dist\n",
    "            if seed.distance < min_dist: min_dist = seed.distance\n",
    "            if seed.distance > max_dist: max_dist = seed.distance\n",
    "\n",
    "        for seed in population:\n",
    "            if (seed.distance == min_dist):\n",
    "                if min_dist == max_dist:\n",
    "                    seed.energy = 1\n",
    "                else: \n",
    "                    seed.energy = max_dist - min_dist\n",
    "            else:\n",
    "                seed.energy = ((max_dist - min_dist) / (seed.distance - min_dist)) "
   ]
  },
  {
   "cell_type": "markdown",
   "metadata": {
    "slideshow": {
     "slide_type": "subslide"
    }
   },
   "source": [
    "Let's see how the improved power schedule performs."
   ]
  },
  {
   "cell_type": "code",
   "execution_count": 71,
   "metadata": {
    "execution": {
     "iopub.execute_input": "2021-10-14T16:44:01.470030Z",
     "iopub.status.busy": "2021-10-14T16:44:01.336941Z",
     "iopub.status.idle": "2021-10-14T16:44:30.958190Z",
     "shell.execute_reply": "2021-10-14T16:44:30.958605Z"
    },
    "slideshow": {
     "slide_type": "fragment"
    }
   },
   "outputs": [
    {
     "data": {
      "text/plain": [
       "'It took the fuzzer 29.72 seconds to generate and execute 10000 inputs.'"
      ]
     },
     "execution_count": 71,
     "metadata": {},
     "output_type": "execute_result"
    }
   ],
   "source": [
    "aflgo_schedule = AFLGoSchedule(distance, 3)\n",
    "aflgo_fuzzer  = GreyboxFuzzer([seed_input], maze_mutator, aflgo_schedule)\n",
    "\n",
    "start = time.time()\n",
    "aflgo_fuzzer.runs(FunctionCoverageRunner(maze), trials=n)\n",
    "end = time.time()\n",
    "\n",
    "\"It took the fuzzer %0.2f seconds to generate and execute %d inputs.\" % (end - start, n)"
   ]
  },
  {
   "cell_type": "code",
   "execution_count": 72,
   "metadata": {
    "execution": {
     "iopub.execute_input": "2021-10-14T16:44:31.028747Z",
     "iopub.status.busy": "2021-10-14T16:44:30.997367Z",
     "iopub.status.idle": "2021-10-14T16:44:31.031551Z",
     "shell.execute_reply": "2021-10-14T16:44:31.032288Z"
    },
    "slideshow": {
     "slide_type": "subslide"
    }
   },
   "outputs": [
    {
     "name": "stdout",
     "output_type": "stream",
     "text": [
      "First solution: D\u000fDUD|Dqhy>8DTI\u0004RR\\YRRUUL4&LUURRRRDDDD\n",
      "Out of 2114 seeds, \n",
      "*  272 solved the maze, \n",
      "*  278 were valid but did not solve the maze, and \n",
      "* 1564 were invalid\n"
     ]
    }
   ],
   "source": [
    "print_stats(aflgo_fuzzer)"
   ]
  },
  {
   "cell_type": "markdown",
   "metadata": {
    "slideshow": {
     "slide_type": "fragment"
    }
   },
   "source": [
    "In contrast to all previous power schedules, this one generates hundreds of solutions. It has generated many solutions. \n",
    "\n",
    "Let's filter out all ignored input characters from the first solution. The function `filter(f, seed.data)` returns a list of elements `e` in `seed.data` where the function `f` applied on `e` returns True."
   ]
  },
  {
   "cell_type": "code",
   "execution_count": 73,
   "metadata": {
    "execution": {
     "iopub.execute_input": "2021-10-14T16:44:31.051179Z",
     "iopub.status.busy": "2021-10-14T16:44:31.050458Z",
     "iopub.status.idle": "2021-10-14T16:44:31.052973Z",
     "shell.execute_reply": "2021-10-14T16:44:31.053537Z"
    },
    "slideshow": {
     "slide_type": "subslide"
    }
   },
   "outputs": [
    {
     "name": "stdout",
     "output_type": "stream",
     "text": [
      "DDUDDDRRRRUULLUURRRRDDDD\n"
     ]
    }
   ],
   "source": [
    "for seed in aflgo_fuzzer.population:\n",
    "    s = maze(str(seed.data))\n",
    "    if \"SOLVED\" in s:\n",
    "        filtered = \"\".join(list(filter(lambda c: c in \"UDLR\", seed.data)))\n",
    "        print(filtered)\n",
    "        break"
   ]
  },
  {
   "cell_type": "markdown",
   "metadata": {
    "slideshow": {
     "slide_type": "subslide"
    }
   },
   "source": [
    "This is definitely a solution for the maze specified at the beginning!\n",
    "\n",
    "***Summary***. After pre-computing the function-level distance to the target, we can develop a power schedule that assigns more energy to a seed with a smaller average function-level distance to the target. By normalizing seed distance values between the minimum and maximum seed distance, we can further boost the directed power schedule.\n",
    "\n",
    "***Try it***. Implement and evaluate a simpler directed power that uses the minimal (rather than average) function-level distance. What is the downside of using the minimal distance? In order to execute your code, you just need to open this chapter as Jupyter notebook.\n",
    "\n",
    "***Read***. You can find out more about directed greybox fuzzing in the equally-named paper \"[Directed Greybox Fuzzing](https://mboehme.github.io/paper/CCS17.pdf)\" \\cite{boehme2017greybox} and check out the implementation into AFL at [http://github.com/aflgo/aflgo](http://github.com/aflgo/aflgo)."
   ]
  },
  {
   "cell_type": "markdown",
   "metadata": {
    "button": false,
    "new_sheet": true,
    "run_control": {
     "read_only": false
    },
    "slideshow": {
     "slide_type": "slide"
    }
   },
   "source": [
    "## Lessons Learned\n",
    "\n",
    "* A *greybox fuzzer* generates thousands of inputs per second. Pre-processing and lightweight instrumentation \n",
    "  * allows to maintain the efficiency *during* the fuzzing campaign, and \n",
    "  * still provides enough information to control progress and slightly steer the fuzzer.\n",
    "* The *power schedule* allows to steer/control the fuzzer. For instance,\n",
    "  * Our [boosted greybox fuzzer](#Fuzzer-Boosting) spends more energy on seeds that exercise \"unlikely\" paths. The hope is that the generated inputs exercise even more unlikely paths. This in turn increases the number of paths explored per unit time.\n",
    "  * Our [directed greybox fuzzer](#Directed-Greybox-Fuzzing) spends more energy on seeds that are \"closer\" to a target location. The hope is that the generated inputs get even closer to the target.\n",
    "* The *mutator* defines the fuzzer's search space. [Customizing the mutator](GreyboxFuzzer.ipynb#A-First-Attempt) for the given program allows to reduce the search space to only relevant inputs. In a couple of chapters, we'll learn about [dictionary-based, and grammar-based mutators](GreyboxGrammarFuzzer.ipynb) to increase the ratio of valid inputs generated.\n"
   ]
  },
  {
   "cell_type": "markdown",
   "metadata": {
    "button": false,
    "new_sheet": false,
    "run_control": {
     "read_only": false
    },
    "slideshow": {
     "slide_type": "slide"
    }
   },
   "source": [
    "## Next Steps\n",
    "\n",
    "Our aim is still to sufficiently cover functionality, such that we can trigger as many bugs as possible.  To this end, we focus on two classes of techniques:\n",
    "\n",
    "1. Try to cover as much _specified_ functionality as possible.  Here, we would need a _specification of the input format,_ distinguishing between individual input elements such as (in our case) numbers, operators, comments, and strings – and attempting to cover as many of these as possible.  We will explore this as it comes to [grammar-based testing](GrammarFuzzer.ipynb), and especially in [grammar-based mutations](GreyboxGrammarFuzzer.ipynb).\n",
    "\n",
    "2. Try to cover as much _implemented_ functionality as possible.  The concept of a \"population\" that is systematically \"evolved\" through \"mutations\" will be explored in depth when discussing [search-based testing](SearchBasedFuzzer.ipynb).  Furthermore, [symbolic testing](SymbolicFuzzer.ipynb) introduces how to systematically reach program locations by solving the conditions that lie on their paths.\n",
    "\n",
    "These two techniques make up the gist of the book; and, of course, they can also be combined with each other.  As usual, we provide runnable code for all.  Enjoy!"
   ]
  },
  {
   "cell_type": "markdown",
   "metadata": {
    "slideshow": {
     "slide_type": "subslide"
    }
   },
   "source": [
    "We're done, so we clean up:"
   ]
  },
  {
   "cell_type": "code",
   "execution_count": 74,
   "metadata": {
    "execution": {
     "iopub.execute_input": "2021-10-14T16:44:31.057476Z",
     "iopub.status.busy": "2021-10-14T16:44:31.056853Z",
     "iopub.status.idle": "2021-10-14T16:44:31.059104Z",
     "shell.execute_reply": "2021-10-14T16:44:31.059556Z"
    },
    "slideshow": {
     "slide_type": "skip"
    }
   },
   "outputs": [],
   "source": [
    "import shutil\n",
    "import os"
   ]
  },
  {
   "cell_type": "code",
   "execution_count": 75,
   "metadata": {
    "execution": {
     "iopub.execute_input": "2021-10-14T16:44:31.064736Z",
     "iopub.status.busy": "2021-10-14T16:44:31.063700Z",
     "iopub.status.idle": "2021-10-14T16:44:31.066448Z",
     "shell.execute_reply": "2021-10-14T16:44:31.066879Z"
    },
    "slideshow": {
     "slide_type": "fragment"
    }
   },
   "outputs": [],
   "source": [
    "if os.path.exists('callgraph.dot'):\n",
    "    os.remove('callgraph.dot')\n",
    "    \n",
    "if os.path.exists('callgraph.py'):\n",
    "    os.remove('callgraph.py')"
   ]
  },
  {
   "cell_type": "markdown",
   "metadata": {
    "slideshow": {
     "slide_type": "slide"
    }
   },
   "source": [
    "## Background\n",
    "\n",
    "* **Find out more about AFL**: http://lcamtuf.coredump.cx/afl/\n",
    "* **Learn about LibFuzzer** (another famous greybox fuzzer): http://llvm.org/docs/LibFuzzer.html\n",
    "* **How quickly must a whitebox fuzzer exercise each path to remain more efficient than a greybox fuzzer?** Marcel Böhme and Soumya Paul. 2016. [A Probabilistic Analysis of the Efficiency of Automated Software Testing](https://mboehme.github.io/paper/TSE15.pdf), IEEE TSE, 42:345-360 \\cite{boehme2016efficiency}"
   ]
  },
  {
   "cell_type": "markdown",
   "metadata": {
    "button": false,
    "new_sheet": true,
    "run_control": {
     "read_only": false
    },
    "slideshow": {
     "slide_type": "slide"
    }
   },
   "source": [
    "## Exercises\n",
    "\n",
    "To be added. \\todo{}"
   ]
  }
 ],
 "metadata": {
  "ipub": {
   "bibliography": "fuzzingbook.bib",
   "toc": true
  },
  "kernelspec": {
   "display_name": "Python 3",
   "language": "python",
   "name": "python3"
  },
  "language_info": {
   "codemirror_mode": {
    "name": "ipython",
    "version": 3
   },
   "file_extension": ".py",
   "mimetype": "text/x-python",
   "name": "python",
   "nbconvert_exporter": "python",
   "pygments_lexer": "ipython3",
   "version": "3.9.7"
  },
  "toc": {
   "base_numbering": 1,
   "nav_menu": {},
   "number_sections": true,
   "sideBar": true,
   "skip_h1_title": true,
   "title_cell": "",
   "title_sidebar": "Contents",
   "toc_cell": false,
   "toc_position": {},
   "toc_section_display": true,
   "toc_window_display": true
  },
  "toc-autonumbering": false,
  "varInspector": {
   "cols": {
    "lenName": 16,
    "lenType": 16,
    "lenVar": 40
   },
   "kernels_config": {
    "python": {
     "delete_cmd_postfix": "",
     "delete_cmd_prefix": "del ",
     "library": "var_list.py",
     "varRefreshCmd": "print(var_dic_list())"
    },
    "r": {
     "delete_cmd_postfix": ") ",
     "delete_cmd_prefix": "rm(",
     "library": "var_list.r",
     "varRefreshCmd": "cat(var_dic_list()) "
    }
   },
   "types_to_exclude": [
    "module",
    "function",
    "builtin_function_or_method",
    "instance",
    "_Feature"
   ],
   "window_display": false
  }
 },
 "nbformat": 4,
 "nbformat_minor": 2
}
