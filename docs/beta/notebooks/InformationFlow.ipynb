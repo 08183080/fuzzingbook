{
 "cells": [
  {
   "cell_type": "markdown",
   "metadata": {
    "button": false,
    "new_sheet": false,
    "run_control": {
     "read_only": false
    },
    "slideshow": {
     "slide_type": "slide"
    }
   },
   "source": [
    "# Information Flow\n",
    "\n",
    "In this chapter, we detail how to track information flows in python by tainting input strings, and tracking the taint across string operations."
   ]
  },
  {
   "cell_type": "markdown",
   "metadata": {
    "slideshow": {
     "slide_type": "fragment"
    }
   },
   "source": [
    "Some material on `eval` exploitation is adapted from the excellent [blog post](https://nedbatchelder.com/blog/201206/eval_really_is_dangerous.html) by Ned Batchelder."
   ]
  },
  {
   "cell_type": "markdown",
   "metadata": {
    "button": false,
    "new_sheet": false,
    "run_control": {
     "read_only": false
    },
    "slideshow": {
     "slide_type": "subslide"
    }
   },
   "source": [
    "**Prerequisites**\n",
    "\n",
    "* You should have read the [chapter on coverage](Coverage.ipynb)."
   ]
  },
  {
   "cell_type": "markdown",
   "metadata": {
    "slideshow": {
     "slide_type": "fragment"
    }
   },
   "source": [
    "Setting up our infrastructure"
   ]
  },
  {
   "cell_type": "code",
   "execution_count": 1,
   "metadata": {
    "slideshow": {
     "slide_type": "skip"
    }
   },
   "outputs": [],
   "source": [
    "import fuzzingbook_utils"
   ]
  },
  {
   "cell_type": "code",
   "execution_count": 2,
   "metadata": {
    "slideshow": {
     "slide_type": "skip"
    }
   },
   "outputs": [],
   "source": [
    "from ExpectError import ExpectError"
   ]
  },
  {
   "cell_type": "code",
   "execution_count": 3,
   "metadata": {
    "slideshow": {
     "slide_type": "skip"
    }
   },
   "outputs": [],
   "source": [
    "import inspect\n",
    "import enum"
   ]
  },
  {
   "cell_type": "code",
   "execution_count": 4,
   "metadata": {
    "code_folding": [
     0
    ],
    "scrolled": true,
    "slideshow": {
     "slide_type": "subslide"
    }
   },
   "outputs": [
    {
     "data": {
      "text/html": [
       "<div>\n",
       "<style>\n",
       "div.todo {\n",
       "    color:red;\n",
       "    font-weight: bold;\n",
       "}\n",
       "div.todo::before {\n",
       "    content: \"TODO: \";\n",
       "}\n",
       "div.done {\n",
       "    color:blue;\n",
       "    font-weight: bold;\n",
       "}\n",
       "div.done::after {\n",
       "    content: \" :DONE\";\n",
       "}\n",
       "\n",
       "</style>\n",
       "<script>\n",
       "  function todo_toggle() {\n",
       "    if (todo_shown){\n",
       "      $('div.todo').hide('500');\n",
       "      $('div.done').hide('500');\n",
       "      $('#toggleButton').val('Show Todo')\n",
       "    } else {\n",
       "      $('div.todo').show('500');\n",
       "      $('div.done').show('500');\n",
       "      $('#toggleButton').val('Hide Todo')\n",
       "    }\n",
       "    todo_shown = !todo_shown\n",
       "  }\n",
       "  $( document ).ready(function(){\n",
       "    todo_shown=false;\n",
       "    $('div.todo').hide()\n",
       "  });\n",
       "</script>\n",
       "<form action=\"javascript:todo_toggle()\"><input type=\"submit\" id=\"toggleButton\" value=\"Show Todo\"></form>"
      ],
      "text/plain": [
       "<IPython.core.display.HTML object>"
      ]
     },
     "metadata": {},
     "output_type": "display_data"
    }
   ],
   "source": [
    "%%html\n",
    "<div>\n",
    "<style>\n",
    "div.todo {\n",
    "    color:red;\n",
    "    font-weight: bold;\n",
    "}\n",
    "div.todo::before {\n",
    "    content: \"TODO: \";\n",
    "}\n",
    "div.done {\n",
    "    color:blue;\n",
    "    font-weight: bold;\n",
    "}\n",
    "div.done::after {\n",
    "    content: \" :DONE\";\n",
    "}\n",
    "\n",
    "</style>\n",
    "<script>\n",
    "  function todo_toggle() {\n",
    "    if (todo_shown){\n",
    "      $('div.todo').hide('500');\n",
    "      $('div.done').hide('500');\n",
    "      $('#toggleButton').val('Show Todo')\n",
    "    } else {\n",
    "      $('div.todo').show('500');\n",
    "      $('div.done').show('500');\n",
    "      $('#toggleButton').val('Hide Todo')\n",
    "    }\n",
    "    todo_shown = !todo_shown\n",
    "  }\n",
    "  $( document ).ready(function(){\n",
    "    todo_shown=false;\n",
    "    $('div.todo').hide()\n",
    "  });\n",
    "</script>\n",
    "<form action=\"javascript:todo_toggle()\"><input type=\"submit\" id=\"toggleButton\" value=\"Show Todo\"></form>"
   ]
  },
  {
   "cell_type": "markdown",
   "metadata": {
    "slideshow": {
     "slide_type": "subslide"
    }
   },
   "source": [
    "Say we want to implement a calculator service in Python. A really simple way to do that is to rely on the `eval()` function in Python. Since we do not want our users to be able to execute arbitrary commands on our server, we use `eval()` with empty `locals` and `globals`"
   ]
  },
  {
   "cell_type": "code",
   "execution_count": 5,
   "metadata": {
    "slideshow": {
     "slide_type": "fragment"
    }
   },
   "outputs": [],
   "source": [
    "def my_calculator(my_input):\n",
    "    result = eval(my_input, {}, {})\n",
    "    print(\"The result of %s was %d\" % (my_input, result))"
   ]
  },
  {
   "cell_type": "markdown",
   "metadata": {
    "slideshow": {
     "slide_type": "fragment"
    }
   },
   "source": [
    "It wors as expected:"
   ]
  },
  {
   "cell_type": "code",
   "execution_count": 6,
   "metadata": {
    "scrolled": true,
    "slideshow": {
     "slide_type": "fragment"
    }
   },
   "outputs": [
    {
     "name": "stdout",
     "output_type": "stream",
     "text": [
      "The result of 1+2 was 3\n"
     ]
    }
   ],
   "source": [
    "my_calculator('1+2')"
   ]
  },
  {
   "cell_type": "markdown",
   "metadata": {
    "slideshow": {
     "slide_type": "fragment"
    }
   },
   "source": [
    "Does it?"
   ]
  },
  {
   "cell_type": "code",
   "execution_count": 7,
   "metadata": {
    "slideshow": {
     "slide_type": "subslide"
    }
   },
   "outputs": [
    {
     "name": "stderr",
     "output_type": "stream",
     "text": [
      "Traceback (most recent call last):\n",
      "  File \"<ipython-input-7-fa5e36f86ceb>\", line 2, in <module>\n",
      "    my_calculator('__import__(\"os\").popen(\"ls\").read()')\n",
      "  File \"<ipython-input-5-6f467d89b376>\", line 3, in my_calculator\n",
      "    print(\"The result of %s was %d\" % (my_input, result))\n",
      "TypeError: %d format: a number is required, not str (expected)\n"
     ]
    }
   ],
   "source": [
    "with ExpectError():\n",
    "    my_calculator('__import__(\"os\").popen(\"ls\").read()')"
   ]
  },
  {
   "cell_type": "markdown",
   "metadata": {
    "slideshow": {
     "slide_type": "fragment"
    }
   },
   "source": [
    "As you can see from the error, `eval()` completed successfully, with the system command `ls` executing successfully. It is easy enough for the user to see the output if needed."
   ]
  },
  {
   "cell_type": "code",
   "execution_count": 8,
   "metadata": {
    "slideshow": {
     "slide_type": "subslide"
    }
   },
   "outputs": [
    {
     "name": "stdout",
     "output_type": "stream",
     "text": [
      "00_Index.ipynb\n",
      "404.ipynb\n",
      "APIFuzzer.ipynb\n",
      "BugBoard.ipynb\n",
      "CISPACourse.ipynb\n",
      "Carver.ipynb\n",
      "ConfigurationFuzzer.ipynb\n",
      "Coverage.ipynb\n",
      "ExpectError.ipynb\n",
      "Fuzzer.ipynb\n",
      "GrammarCoverageFuzzer.ipynb\n",
      "GrammarFuzzer.ipynb\n",
      "GrammarMiner.ipynb\n",
      "Grammars.ipynb\n",
      "Guide_for_Authors.ipynb\n",
      "InformationFlow.ipynb\n",
      "Intro_Testing.ipynb\n",
      "Makefile\n",
      "MutationFuzzer.ipynb\n",
      "PICS\n",
      "Parser.ipynb\n",
      "ProbabilisticGrammarFuzzer.ipynb\n",
      "Project_MutationFuzzing.ipynb\n",
      "README.md\n",
      "RailroadDiagrams.ipynb\n",
      "Reducer.ipynb\n",
      "Security Testing\n",
      "Template.ipynb\n",
      "Timer.ipynb\n",
      "WebFuzzer.ipynb\n",
      "data\n",
      "fuzzingbook_utils\n",
      "index.ipynb\n",
      "\n",
      "The result of 1 if __builtins__['print'](__import__('os').popen('ls').read()) else 0 was 0\n"
     ]
    }
   ],
   "source": [
    "my_calculator(\"1 if __builtins__['print'](__import__('os').popen('ls').read()) else 0\")"
   ]
  },
  {
   "cell_type": "markdown",
   "metadata": {
    "slideshow": {
     "slide_type": "subslide"
    }
   },
   "source": [
    "The problem is that the Python `__builtins__` is [inserted by default](https://docs.python.org/3/library/functions.html#eval) when one uses `eval()`. We can avoid this by restricting `__builtins__` in `eval` explicitly."
   ]
  },
  {
   "cell_type": "code",
   "execution_count": 9,
   "metadata": {
    "slideshow": {
     "slide_type": "fragment"
    }
   },
   "outputs": [],
   "source": [
    "def my_calculator(my_input):\n",
    "    result = eval(my_input, {\"__builtins__\":None}, {})\n",
    "    print(\"The result of %s was %d\" % (my_input, result))"
   ]
  },
  {
   "cell_type": "markdown",
   "metadata": {
    "slideshow": {
     "slide_type": "fragment"
    }
   },
   "source": [
    "Does it help?"
   ]
  },
  {
   "cell_type": "code",
   "execution_count": 10,
   "metadata": {
    "slideshow": {
     "slide_type": "subslide"
    }
   },
   "outputs": [
    {
     "name": "stderr",
     "output_type": "stream",
     "text": [
      "Traceback (most recent call last):\n",
      "  File \"<ipython-input-10-94a838db0042>\", line 2, in <module>\n",
      "    my_calculator(\"1 if __builtins__['print'](__import__('os').popen('ls').read()) else 0\")\n",
      "  File \"<ipython-input-9-c99d6999853d>\", line 2, in my_calculator\n",
      "    result = eval(my_input, {\"__builtins__\":None}, {})\n",
      "  File \"<string>\", line 1, in <module>\n",
      "TypeError: 'NoneType' object is not subscriptable (expected)\n"
     ]
    }
   ],
   "source": [
    "with ExpectError():\n",
    "    my_calculator(\"1 if __builtins__['print'](__import__('os').popen('ls').read()) else 0\")"
   ]
  },
  {
   "cell_type": "markdown",
   "metadata": {
    "slideshow": {
     "slide_type": "fragment"
    }
   },
   "source": [
    "But does it actually?"
   ]
  },
  {
   "cell_type": "code",
   "execution_count": 11,
   "metadata": {
    "slideshow": {
     "slide_type": "subslide"
    }
   },
   "outputs": [
    {
     "name": "stdout",
     "output_type": "stream",
     "text": [
      "00_Index.ipynb\n",
      "404.ipynb\n",
      "APIFuzzer.ipynb\n",
      "BugBoard.ipynb\n",
      "CISPACourse.ipynb\n",
      "Carver.ipynb\n",
      "ConfigurationFuzzer.ipynb\n",
      "Coverage.ipynb\n",
      "ExpectError.ipynb\n",
      "Fuzzer.ipynb\n",
      "GrammarCoverageFuzzer.ipynb\n",
      "GrammarFuzzer.ipynb\n",
      "GrammarMiner.ipynb\n",
      "Grammars.ipynb\n",
      "Guide_for_Authors.ipynb\n",
      "InformationFlow.ipynb\n",
      "Intro_Testing.ipynb\n",
      "Makefile\n",
      "MutationFuzzer.ipynb\n",
      "PICS\n",
      "Parser.ipynb\n",
      "ProbabilisticGrammarFuzzer.ipynb\n",
      "Project_MutationFuzzing.ipynb\n",
      "README.md\n",
      "RailroadDiagrams.ipynb\n",
      "Reducer.ipynb\n",
      "Security Testing\n",
      "Template.ipynb\n",
      "Timer.ipynb\n",
      "WebFuzzer.ipynb\n",
      "data\n",
      "fuzzingbook_utils\n",
      "index.ipynb\n",
      "\n",
      "The result of 1 if [x['print'](x['__import__']('os').popen('ls').read()) for x in ([x for x in (1).__class__.__base__.__subclasses__() if x.__name__ == 'Sized'][0].__len__.__globals__['__builtins__'],)] else 0 was 1\n"
     ]
    }
   ],
   "source": [
    "my_calculator(\"1 if [x['print'](x['__import__']('os').popen('ls').read()) for x in ([x for x in (1).__class__.__base__.__subclasses__() if x.__name__ == 'Sized'][0].__len__.__globals__['__builtins__'],)] else 0\")"
   ]
  },
  {
   "cell_type": "markdown",
   "metadata": {
    "slideshow": {
     "slide_type": "subslide"
    }
   },
   "source": [
    "The problem here is that when the user has a way to inject **uninterpreted strings** that can reach a dangerous routine such as  `eval()` or an `exec()`, it makes it possible for them to inject dangerous code. What we need is a way to restrict the ability of uninterpreted input string fragments from reaching dangerous portions of code."
   ]
  },
  {
   "cell_type": "markdown",
   "metadata": {
    "button": false,
    "new_sheet": true,
    "run_control": {
     "read_only": false
    },
    "slideshow": {
     "slide_type": "slide"
    }
   },
   "source": [
    "## A Simple Taint Tracker"
   ]
  },
  {
   "cell_type": "markdown",
   "metadata": {
    "slideshow": {
     "slide_type": "fragment"
    }
   },
   "source": [
    "For capturing information flows we need a new string class. The idea is to use the new tainted string class `tstr` as a wrapper on the original `str` class.\n",
    "\n",
    " We need to write the `tstr.__new__()` method because we want to track the parent object responsible for the taint (essentially because we want to customize the object creation, and `__init__` is [too late](https://docs.python.org/3/reference/datamodel.html#basic-customization) for that.).\n",
    "\n",
    "The taint map in variable `_taint` contains non-overlapping taints mapped to the original string."
   ]
  },
  {
   "cell_type": "code",
   "execution_count": 12,
   "metadata": {
    "slideshow": {
     "slide_type": "subslide"
    }
   },
   "outputs": [],
   "source": [
    "class tstr_(str):\n",
    "    def __new__(cls, value, *args, **kw):\n",
    "        return super(tstr_, cls).__new__(cls, value)\n",
    "\n",
    "\n",
    "class tstr(tstr_):\n",
    "    def __init__(self, value, taint=None, parent=None):\n",
    "        self.parent = parent\n",
    "        l = len(self)\n",
    "        if taint:\n",
    "            if isinstance(taint, int):\n",
    "                self._taint = list(range(taint, taint + len(self)))\n",
    "            else:\n",
    "                assert len(taint) == len(self)\n",
    "                self._taint = taint\n",
    "        else:\n",
    "            self._taint = list(range(0, len(self)))\n",
    "\n",
    "    def has_taint(self):\n",
    "        return any(True for i in self._taint if i >= 0)\n",
    "\n",
    "    def __repr__(self):\n",
    "        return str.__repr__(self)\n",
    "\n",
    "    def __str__(self):\n",
    "        return str.__str__(self)"
   ]
  },
  {
   "cell_type": "code",
   "execution_count": 13,
   "metadata": {
    "scrolled": true,
    "slideshow": {
     "slide_type": "subslide"
    }
   },
   "outputs": [
    {
     "data": {
      "text/plain": [
       "(True, [0, 1, 2, 3, 4])"
      ]
     },
     "execution_count": 13,
     "metadata": {},
     "output_type": "execute_result"
    }
   ],
   "source": [
    "t = tstr('hello')\n",
    "t.has_taint(), t._taint"
   ]
  },
  {
   "cell_type": "code",
   "execution_count": 14,
   "metadata": {
    "slideshow": {
     "slide_type": "fragment"
    }
   },
   "outputs": [
    {
     "data": {
      "text/plain": [
       "[6, 7, 8, 9, 10]"
      ]
     },
     "execution_count": 14,
     "metadata": {},
     "output_type": "execute_result"
    }
   ],
   "source": [
    "t = tstr('world', taint = 6)\n",
    "t._taint"
   ]
  },
  {
   "cell_type": "markdown",
   "metadata": {
    "slideshow": {
     "slide_type": "fragment"
    }
   },
   "source": [
    "By default, when we wrap a string, it is tainted. Hence we also need a way to `untaint` the string."
   ]
  },
  {
   "cell_type": "code",
   "execution_count": 15,
   "metadata": {
    "slideshow": {
     "slide_type": "fragment"
    }
   },
   "outputs": [],
   "source": [
    "class tstr(tstr):\n",
    "    def untaint(self):\n",
    "        self._taint =  [-1] * len(self)\n",
    "        return self"
   ]
  },
  {
   "cell_type": "code",
   "execution_count": 16,
   "metadata": {
    "slideshow": {
     "slide_type": "subslide"
    }
   },
   "outputs": [
    {
     "data": {
      "text/plain": [
       "False"
      ]
     },
     "execution_count": 16,
     "metadata": {},
     "output_type": "execute_result"
    }
   ],
   "source": [
    "t = tstr('hello world')\n",
    "t.untaint()\n",
    "t.has_taint()"
   ]
  },
  {
   "cell_type": "markdown",
   "metadata": {
    "slideshow": {
     "slide_type": "fragment"
    }
   },
   "source": [
    "However, the taint does not transition from the whole string to parts."
   ]
  },
  {
   "cell_type": "code",
   "execution_count": 17,
   "metadata": {
    "scrolled": true,
    "slideshow": {
     "slide_type": "fragment"
    }
   },
   "outputs": [
    {
     "name": "stderr",
     "output_type": "stream",
     "text": [
      "Traceback (most recent call last):\n",
      "  File \"<ipython-input-17-52a72710ddb2>\", line 3, in <module>\n",
      "    t[0:5].has_taint()\n",
      "AttributeError: 'str' object has no attribute 'has_taint' (expected)\n"
     ]
    }
   ],
   "source": [
    "with ExpectError():\n",
    "    t = tstr('hello world')\n",
    "    t[0:5].has_taint()"
   ]
  },
  {
   "cell_type": "markdown",
   "metadata": {
    "slideshow": {
     "slide_type": "subslide"
    }
   },
   "source": [
    "### Slice"
   ]
  },
  {
   "cell_type": "markdown",
   "metadata": {
    "slideshow": {
     "slide_type": "fragment"
    }
   },
   "source": [
    "The Python `slice` operator `[n:m]` relies on the object being an `iterator`. Hence, we define the `__iter__()` method.\n",
    "\n",
    "**Note.** There is a wrinkle here. For some advanced chapters, we not only want to detect taints on strings that contains characters, but also empty strings. Hence if the string to be returned is an empty string. For detecting EOF comparisons, we still need to carry the cursor. The main idea is the cursor indicates the taint of the character in front of it."
   ]
  },
  {
   "cell_type": "code",
   "execution_count": 18,
   "metadata": {
    "slideshow": {
     "slide_type": "subslide"
    }
   },
   "outputs": [],
   "source": [
    "class tstr(tstr):\n",
    "    def __iter__(self):\n",
    "        return tstr_iterator(self)\n",
    "\n",
    "    def __getitem__(self, key):\n",
    "        def get_interval(key):\n",
    "            return ((0 if key.start is None else key.start),\n",
    "                    (len(res) if key.stop is None else key.stop))\n",
    "\n",
    "        res = super().__getitem__(key)\n",
    "        if type(key) == int:\n",
    "            key = len(self) + key if key < 0 else key\n",
    "            return tstr(res, [self._taint[key]], self)\n",
    "        elif type(key) == slice:\n",
    "            if res:\n",
    "                return tstr(res, self._taint[key], self)\n",
    "            # Result is an empty string\n",
    "            t = tstr(res, self._taint[key], self)\n",
    "            key_start, key_stop = get_interval(key)\n",
    "            cursor = 0\n",
    "            if key_start < len(self):\n",
    "                assert key_stop < len(self)\n",
    "                cursor = self._taint[key_stop]\n",
    "            else:\n",
    "                if len(self) == 0:\n",
    "                    # if the original string was empty, we assume that any\n",
    "                    # empty string produced from it should carry the same taint.\n",
    "                    cursor = self.x()\n",
    "                else:\n",
    "                    # Key start was not in the string. We can reply only\n",
    "                    # if the key start was just outside the string, in\n",
    "                    # which case, we guess.\n",
    "                    if key_start != len(self):\n",
    "                        raise taint.TaintException('Can\\'t guess the taint')\n",
    "                    cursor = self._taint[len(self) - 1] + 1\n",
    "            # _tcursor gets created only for empty strings.\n",
    "            t._tcursor = cursor\n",
    "            return t\n",
    "\n",
    "        else:\n",
    "            assert False"
   ]
  },
  {
   "cell_type": "markdown",
   "metadata": {
    "slideshow": {
     "slide_type": "subslide"
    }
   },
   "source": [
    "The Python `slice` operator `[n:m]` relies on the object being an `iterator`. Hence, we define the `__iter__()` method.\n",
    "\n",
    "**Note.** There is a wrinkle here. For some advanced chapters, we not only want to detect taints on strings that contains characters, but also empty strings. Hence if the string to be returned is an empty string. For detecting EOF comparisons, we still need to carry the cursor. The main idea is the cursor indicates the taint of the character in front of it."
   ]
  },
  {
   "cell_type": "markdown",
   "metadata": {
    "slideshow": {
     "slide_type": "subslide"
    }
   },
   "source": [
    "#### The iterator class\n",
    "The `__iter__()` method requires a supporting `iterator` object."
   ]
  },
  {
   "cell_type": "code",
   "execution_count": 19,
   "metadata": {
    "slideshow": {
     "slide_type": "fragment"
    }
   },
   "outputs": [],
   "source": [
    "class tstr_iterator():\n",
    "    def __init__(self, tstr):\n",
    "        self._tstr = tstr\n",
    "        self._str_idx = 0\n",
    "\n",
    "    def __next__(self):\n",
    "        if self._str_idx == len(self._tstr): raise StopIteration\n",
    "        # calls tstr getitem should be tstr\n",
    "        c = self._tstr[self._str_idx]\n",
    "        assert type(c) is tstr\n",
    "        self._str_idx += 1\n",
    "        return c"
   ]
  },
  {
   "cell_type": "code",
   "execution_count": 20,
   "metadata": {
    "slideshow": {
     "slide_type": "subslide"
    }
   },
   "outputs": [
    {
     "data": {
      "text/plain": [
       "True"
      ]
     },
     "execution_count": 20,
     "metadata": {},
     "output_type": "execute_result"
    }
   ],
   "source": [
    "t = tstr('hello world')\n",
    "t[0:5].has_taint()"
   ]
  },
  {
   "cell_type": "markdown",
   "metadata": {
    "slideshow": {
     "slide_type": "subslide"
    }
   },
   "source": [
    "### Helper Methods\n",
    "We define a few helper methods that deals with the mapped taint index."
   ]
  },
  {
   "cell_type": "code",
   "execution_count": 21,
   "metadata": {
    "slideshow": {
     "slide_type": "subslide"
    }
   },
   "outputs": [],
   "source": [
    "class tstr(tstr):\n",
    "    class TaintException(Exception):\n",
    "        pass\n",
    "\n",
    "    def x(self, i=0):\n",
    "        v = self._x(i)\n",
    "        if v < 0:\n",
    "            raise taint.TaintException('Invalid mapped char idx in tstr')\n",
    "        return v\n",
    "\n",
    "    def _x(self, i=0):\n",
    "        return self.get_mapped_char_idx(i)\n",
    "\n",
    "    def get_mapped_char_idx(self, i):\n",
    "        if self._taint:\n",
    "            return self._taint[i]\n",
    "        else:\n",
    "            if i != 0:\n",
    "                raise taint.TaintException('Invalid request idx')\n",
    "            # self._tcursor gets created only for empty strings.\n",
    "            # use the exception to determine which ones need it.\n",
    "            return self._tcursor\n",
    "\n",
    "    def get_first_mapped_char(self):\n",
    "        for i in self._taint:\n",
    "            if i >= 0:\n",
    "                return i\n",
    "        return -1\n",
    "\n",
    "    def is_tpos_contained(self, tpos):\n",
    "        return tpos in self._taint\n",
    "\n",
    "    def is_idx_tainted(self, idx):\n",
    "        return self._taint[idx] != -1"
   ]
  },
  {
   "cell_type": "code",
   "execution_count": 22,
   "metadata": {
    "slideshow": {
     "slide_type": "subslide"
    }
   },
   "outputs": [
    {
     "name": "stdout",
     "output_type": "stream",
     "text": [
      "''\n",
      "11 []\n"
     ]
    }
   ],
   "source": [
    "print(repr(t[11:]))\n",
    "print(t[11:].x(), t[11:]._taint)"
   ]
  },
  {
   "cell_type": "code",
   "execution_count": 23,
   "metadata": {
    "slideshow": {
     "slide_type": "fragment"
    }
   },
   "outputs": [
    {
     "data": {
      "text/plain": [
       "(4, 15, 14)"
      ]
     },
     "execution_count": 23,
     "metadata": {},
     "output_type": "execute_result"
    }
   ],
   "source": [
    "my_str = tstr('abcdefghijkl', taint=list(range(4,16)))\n",
    "my_str[0].x(),my_str[-1].x(),my_str[-2].x()"
   ]
  },
  {
   "cell_type": "code",
   "execution_count": 24,
   "metadata": {
    "slideshow": {
     "slide_type": "fragment"
    }
   },
   "outputs": [
    {
     "data": {
      "text/plain": [
       "(4, 7)"
      ]
     },
     "execution_count": 24,
     "metadata": {},
     "output_type": "execute_result"
    }
   ],
   "source": [
    "s = my_str[0:4]\n",
    "s.x(0),s.x(3)"
   ]
  },
  {
   "cell_type": "code",
   "execution_count": 25,
   "metadata": {
    "scrolled": true,
    "slideshow": {
     "slide_type": "fragment"
    }
   },
   "outputs": [
    {
     "data": {
      "text/plain": [
       "(11, 14)"
      ]
     },
     "execution_count": 25,
     "metadata": {},
     "output_type": "execute_result"
    }
   ],
   "source": [
    "s = my_str[0:-1]\n",
    "len(s),s.x(10)"
   ]
  },
  {
   "cell_type": "markdown",
   "metadata": {
    "slideshow": {
     "slide_type": "subslide"
    }
   },
   "source": [
    "### Concatenation"
   ]
  },
  {
   "cell_type": "markdown",
   "metadata": {
    "slideshow": {
     "slide_type": "fragment"
    }
   },
   "source": [
    "Implementing concatenation is straight forward:"
   ]
  },
  {
   "cell_type": "code",
   "execution_count": 26,
   "metadata": {
    "slideshow": {
     "slide_type": "fragment"
    }
   },
   "outputs": [],
   "source": [
    "class tstr(tstr):\n",
    "    def __add__(self, other):  #concatenation (+)\n",
    "        if type(other) is tstr:\n",
    "            return tstr(str.__add__(self, other), (self._taint + other._taint), self)\n",
    "        else:\n",
    "            return tstr(str.__add__(self, other), (self._taint + [-1 for i in other]), self)"
   ]
  },
  {
   "cell_type": "markdown",
   "metadata": {
    "slideshow": {
     "slide_type": "fragment"
    }
   },
   "source": [
    "Testing concatenations"
   ]
  },
  {
   "cell_type": "code",
   "execution_count": 27,
   "metadata": {
    "slideshow": {
     "slide_type": "subslide"
    }
   },
   "outputs": [
    {
     "name": "stdout",
     "output_type": "stream",
     "text": [
      "[0, 1, 2, 3, 4, 6, 7, 8, 9, 10]\n",
      "[0, 1, 2, 3, 4, -1, -1, -1, 6, 7, 8, 9, 10]\n"
     ]
    }
   ],
   "source": [
    "my_str1 = tstr(\"hello\")\n",
    "my_str2 = tstr(\"world\", taint=6)\n",
    "my_str3 = \"bye\"\n",
    "v = my_str1 + my_str2\n",
    "print(v._taint)\n",
    "\n",
    "w = my_str1 + my_str3 + my_str2\n",
    "print(w._taint)"
   ]
  },
  {
   "cell_type": "code",
   "execution_count": 28,
   "metadata": {
    "slideshow": {
     "slide_type": "subslide"
    }
   },
   "outputs": [],
   "source": [
    "class tstr(tstr):\n",
    "    def __radd__(self, other):  #concatenation (+) -- other is not tstr\n",
    "        if type(other) is tstr:\n",
    "            return tstr(str.__add__(other, self), (other._taint + self._taint), self)\n",
    "        else:\n",
    "            return tstr(str.__add__(other, self), ([-1 for i in other] + self._taint), self)"
   ]
  },
  {
   "cell_type": "code",
   "execution_count": 29,
   "metadata": {
    "scrolled": true,
    "slideshow": {
     "slide_type": "fragment"
    }
   },
   "outputs": [
    {
     "data": {
      "text/plain": [
       "[-1, -1, -1, -1, -1, 0, 1, 2, 3, 4]"
      ]
     },
     "execution_count": 29,
     "metadata": {},
     "output_type": "execute_result"
    }
   ],
   "source": [
    "my_str1 = \"hello\"\n",
    "my_str2 = tstr(\"world\")\n",
    "v = my_str1 + my_str2\n",
    "v._taint"
   ]
  },
  {
   "cell_type": "markdown",
   "metadata": {
    "slideshow": {
     "slide_type": "subslide"
    }
   },
   "source": [
    "### Replace"
   ]
  },
  {
   "cell_type": "code",
   "execution_count": 30,
   "metadata": {
    "slideshow": {
     "slide_type": "subslide"
    }
   },
   "outputs": [],
   "source": [
    "class tstr(tstr):\n",
    "    def replace(self, a, b, n=None):\n",
    "        old_taint = self._taint\n",
    "        b_taint = b._taint if type(b) is tstr else [-1] * len(b)\n",
    "        mystr = str(self)\n",
    "        i = 0\n",
    "        while True:\n",
    "            if n and i >= n: break\n",
    "            idx = mystr.find(a)\n",
    "            if idx == -1: break\n",
    "            last = idx + len(a)\n",
    "            mystr = mystr.replace(a, b, 1)\n",
    "            partA, partB = old_taint[0:idx], old_taint[last:]\n",
    "            old_taint = partA + b_taint + partB\n",
    "            i += 1\n",
    "        return tstr(mystr, old_taint, self)"
   ]
  },
  {
   "cell_type": "code",
   "execution_count": 31,
   "metadata": {
    "slideshow": {
     "slide_type": "subslide"
    }
   },
   "outputs": [
    {
     "data": {
      "text/plain": [
       "('bb cde bb', [-1, -1, 2, 3, 4, 5, 6, -1, -1])"
      ]
     },
     "execution_count": 31,
     "metadata": {},
     "output_type": "execute_result"
    }
   ],
   "source": [
    "my_str = tstr(\"aa cde aa\")\n",
    "res = my_str.replace('aa', 'bb')\n",
    "res, res._taint"
   ]
  },
  {
   "cell_type": "markdown",
   "metadata": {
    "slideshow": {
     "slide_type": "subslide"
    }
   },
   "source": [
    "### Split"
   ]
  },
  {
   "cell_type": "markdown",
   "metadata": {
    "slideshow": {
     "slide_type": "fragment"
    }
   },
   "source": [
    "We essentially have to re-implement split operations, and split by space is slightly different from other splits."
   ]
  },
  {
   "cell_type": "code",
   "execution_count": 32,
   "metadata": {
    "slideshow": {
     "slide_type": "subslide"
    }
   },
   "outputs": [],
   "source": [
    "class tstr(tstr):\n",
    "    def _split_helper(self, sep, splitted):\n",
    "        result_list = []\n",
    "        last_idx = 0\n",
    "        first_idx = 0\n",
    "        sep_len = len(sep)\n",
    "\n",
    "        for s in splitted:\n",
    "            last_idx = first_idx + len(s)\n",
    "            item = self[first_idx:last_idx]\n",
    "            result_list.append(item)\n",
    "            first_idx = last_idx + sep_len\n",
    "        return result_list\n",
    "\n",
    "    def _split_space(self, splitted):\n",
    "        result_list = []\n",
    "        last_idx = 0\n",
    "        first_idx = 0\n",
    "        sep_len = 0\n",
    "        for s in splitted:\n",
    "            last_idx = first_idx + len(s)\n",
    "            item = self[first_idx:last_idx]\n",
    "            result_list.append(item)\n",
    "            v = str(self[last_idx:])\n",
    "            sep_len = len(v) - len(v.lstrip(' '))\n",
    "            first_idx = last_idx + sep_len\n",
    "        return result_list\n",
    "\n",
    "    def rsplit(self, sep=None, maxsplit=-1):\n",
    "        splitted = super().rsplit(sep, maxsplit)\n",
    "        if not sep:\n",
    "            return self._split_space(splitted)\n",
    "        return self._split_helper(sep, splitted)\n",
    "\n",
    "    def split(self, sep=None, maxsplit=-1):\n",
    "        splitted = super().split(sep, maxsplit)\n",
    "        if not sep:\n",
    "            return self._split_space(splitted)\n",
    "        return self._split_helper(sep, splitted)"
   ]
  },
  {
   "cell_type": "code",
   "execution_count": 33,
   "metadata": {
    "slideshow": {
     "slide_type": "subslide"
    }
   },
   "outputs": [
    {
     "name": "stdout",
     "output_type": "stream",
     "text": [
      "[0, 1] [3, 4, 5, 6] [8, 9, 10, 11] [13, 14]\n",
      "[100, 101] [105, 106, 107, 108] [110, 111, 112, 113] [118, 119]\n"
     ]
    }
   ],
   "source": [
    "my_str = tstr('ab cdef ghij kl')\n",
    "ab, cdef, ghij, kl = my_str.rsplit(sep=' ')\n",
    "print(ab._taint, cdef._taint, ghij._taint, kl._taint)\n",
    "\n",
    "my_str = tstr('ab   cdef ghij    kl', taint=100)\n",
    "ab, cdef, ghij, kl = my_str.rsplit()\n",
    "print(ab._taint, cdef._taint, ghij._taint, kl._taint)"
   ]
  },
  {
   "cell_type": "code",
   "execution_count": 34,
   "metadata": {
    "scrolled": true,
    "slideshow": {
     "slide_type": "subslide"
    }
   },
   "outputs": [
    {
     "name": "stdout",
     "output_type": "stream",
     "text": [
      "[0, 1] [3, 4, 5, 6] [13, 14]\n",
      "[0, 1] [5, 6, 7, 8] [18, 19]\n"
     ]
    }
   ],
   "source": [
    "my_str = tstr('ab cdef ghij kl', taint=list(range(0, 15)))\n",
    "ab, cdef, ghij, kl = my_str.split(sep=' ')\n",
    "print(ab._taint, cdef._taint, kl._taint)\n",
    "\n",
    "my_str = tstr('ab   cdef ghij    kl', taint=list(range(0, 20)))\n",
    "ab, cdef, ghij, kl = my_str.split()\n",
    "print(ab._taint, cdef._taint, kl._taint)"
   ]
  },
  {
   "cell_type": "markdown",
   "metadata": {
    "slideshow": {
     "slide_type": "subslide"
    }
   },
   "source": [
    "### Strip"
   ]
  },
  {
   "cell_type": "code",
   "execution_count": 35,
   "metadata": {
    "slideshow": {
     "slide_type": "fragment"
    }
   },
   "outputs": [],
   "source": [
    "class tstr(tstr):\n",
    "    def strip(self, cl=None):\n",
    "        return self.lstrip(cl).rstrip(cl)\n",
    "\n",
    "    def lstrip(self, cl=None):\n",
    "        res = super().lstrip(cl)\n",
    "        i = self.find(res)\n",
    "        return self[i:]\n",
    "\n",
    "    def rstrip(self, cl=None):\n",
    "        res = super().rstrip(cl)\n",
    "        return self[0:len(res)]\n"
   ]
  },
  {
   "cell_type": "code",
   "execution_count": 36,
   "metadata": {
    "slideshow": {
     "slide_type": "subslide"
    }
   },
   "outputs": [
    {
     "data": {
      "text/plain": [
       "('abc', [2, 3, 4])"
      ]
     },
     "execution_count": 36,
     "metadata": {},
     "output_type": "execute_result"
    }
   ],
   "source": [
    "my_str1 = tstr(\"  abc  \")\n",
    "v = my_str1.strip()\n",
    "v, v._taint"
   ]
  },
  {
   "cell_type": "code",
   "execution_count": 37,
   "metadata": {
    "slideshow": {
     "slide_type": "fragment"
    }
   },
   "outputs": [
    {
     "data": {
      "text/plain": [
       "('abc  ', [2, 3, 4, 5, 6])"
      ]
     },
     "execution_count": 37,
     "metadata": {},
     "output_type": "execute_result"
    }
   ],
   "source": [
    "my_str1 = tstr(\"  abc  \")\n",
    "v = my_str1.lstrip()\n",
    "v, v._taint"
   ]
  },
  {
   "cell_type": "code",
   "execution_count": 38,
   "metadata": {
    "slideshow": {
     "slide_type": "fragment"
    }
   },
   "outputs": [
    {
     "data": {
      "text/plain": [
       "('  abc', [0, 1, 2, 3, 4])"
      ]
     },
     "execution_count": 38,
     "metadata": {},
     "output_type": "execute_result"
    }
   ],
   "source": [
    "my_str1 = tstr(\"  abc  \")\n",
    "v = my_str1.rstrip()\n",
    "v, v._taint"
   ]
  },
  {
   "cell_type": "markdown",
   "metadata": {
    "slideshow": {
     "slide_type": "subslide"
    }
   },
   "source": [
    "### Expand Tabs"
   ]
  },
  {
   "cell_type": "code",
   "execution_count": 39,
   "metadata": {
    "slideshow": {
     "slide_type": "fragment"
    }
   },
   "outputs": [],
   "source": [
    "class tstr(tstr):\n",
    "    def expandtabs(self, n=8):\n",
    "        parts = self.split('\\t')\n",
    "        res = super().expandtabs(n)\n",
    "        all_parts = []\n",
    "        for i, p in enumerate(parts):\n",
    "            all_parts.extend(p._taint)\n",
    "            if i < len(parts) - 1:\n",
    "                l = len(all_parts) % n\n",
    "                all_parts.extend([p._taint[-1]] * l)\n",
    "        return tstr(res, all_parts, self)"
   ]
  },
  {
   "cell_type": "code",
   "execution_count": 40,
   "metadata": {
    "slideshow": {
     "slide_type": "subslide"
    }
   },
   "outputs": [
    {
     "name": "stdout",
     "output_type": "stream",
     "text": [
      "6 'ab\\tcd' 'ab  cd' [0, 1, 1, 1, 3, 4]\n"
     ]
    }
   ],
   "source": [
    "my_tstr = tstr(\"ab\\tcd\")\n",
    "my_str = str(\"ab\\tcd\")\n",
    "v1 = my_str.expandtabs(4)\n",
    "v2 = my_tstr.expandtabs(4)\n",
    "print(len(v1), repr(my_tstr), repr(v2), v2._taint)"
   ]
  },
  {
   "cell_type": "code",
   "execution_count": 41,
   "metadata": {
    "slideshow": {
     "slide_type": "subslide"
    }
   },
   "outputs": [],
   "source": [
    "class tstr(tstr):\n",
    "    def join(self, iterable):\n",
    "        mystr = ''\n",
    "        mytaint = []\n",
    "        sep_taint = self._taint\n",
    "        lst = list(iterable)\n",
    "        for i, s in enumerate(lst):\n",
    "            staint = s._taint if type(s) is tstr else [-1] * len(s)\n",
    "            mytaint.extend(staint)\n",
    "            mystr += str(s)\n",
    "            if i < len(lst)-1:\n",
    "                mytaint.extend(sep_taint)\n",
    "                mystr += str(self)\n",
    "        res = super().join(iterable)\n",
    "        assert len(res) == len(mystr)\n",
    "        return tstr(res, mytaint, self)"
   ]
  },
  {
   "cell_type": "code",
   "execution_count": 42,
   "metadata": {
    "slideshow": {
     "slide_type": "subslide"
    }
   },
   "outputs": [
    {
     "name": "stdout",
     "output_type": "stream",
     "text": [
      "[100, 101] [103, 104]\n",
      "cdefab [103, 104, -1, -1, 100, 101]\n"
     ]
    }
   ],
   "source": [
    "my_str = tstr(\"ab cd\", taint=100)\n",
    "(v1, v2), v3 = my_str.split(), 'ef'\n",
    "print(v1._taint, v2._taint)\n",
    "v4 = tstr('').join([v2,v3,v1])\n",
    "print(v4, v4._taint)"
   ]
  },
  {
   "cell_type": "code",
   "execution_count": 43,
   "metadata": {
    "slideshow": {
     "slide_type": "subslide"
    }
   },
   "outputs": [
    {
     "name": "stdout",
     "output_type": "stream",
     "text": [
      "[100, 101] [103, 104]\n",
      "cd,ef,ab [103, 104, 0, -1, -1, 0, 100, 101]\n"
     ]
    }
   ],
   "source": [
    "my_str = tstr(\"ab cd\", taint=100)\n",
    "(v1, v2), v3 = my_str.split(), 'ef'\n",
    "print(v1._taint, v2._taint)\n",
    "v4 = tstr(',').join([v2,v3,v1])\n",
    "print(v4, v4._taint)"
   ]
  },
  {
   "cell_type": "markdown",
   "metadata": {
    "slideshow": {
     "slide_type": "subslide"
    }
   },
   "source": [
    "### Partitions"
   ]
  },
  {
   "cell_type": "code",
   "execution_count": 44,
   "metadata": {
    "slideshow": {
     "slide_type": "fragment"
    }
   },
   "outputs": [],
   "source": [
    "class tstr(tstr):\n",
    "    def partition(self, sep):\n",
    "        partA, sep, partB = super().partition(sep)\n",
    "        return (tstr(partA, self._taint[0:len(partA)], self), tstr(sep, self._taint[len(partA): len(partA) + len(sep)], self), tstr(partB, self._taint[len(partA) + len(sep):], self))\n",
    "\n",
    "    def rpartition(self, sep):\n",
    "        partA, sep, partB = super().rpartition(sep)\n",
    "        return (tstr(partA, self._taint[0:len(partA)], self), tstr(sep, self._taint[len(partA): len(partA) + len(sep)], self), tstr(partB, self._taint[len(partA) + len(sep):], self))"
   ]
  },
  {
   "cell_type": "markdown",
   "metadata": {
    "slideshow": {
     "slide_type": "subslide"
    }
   },
   "source": [
    "### Justify"
   ]
  },
  {
   "cell_type": "code",
   "execution_count": 45,
   "metadata": {
    "slideshow": {
     "slide_type": "subslide"
    }
   },
   "outputs": [],
   "source": [
    "class tstr(tstr):\n",
    "    def ljust(self, width, fillchar=' '):\n",
    "        res = super().ljust(width, fillchar)\n",
    "        initial = len(res) - len(self)\n",
    "        if type(fillchar) is tstr:\n",
    "            t = fillchar.x()\n",
    "        else:\n",
    "            t = -1\n",
    "        return tstr(res, [t] * initial + self._taint, self)\n",
    "\n",
    "    def rjust(self, width, fillchar=' '):\n",
    "        res = super().rjust(width, fillchar)\n",
    "        final = len(res) - len(self)\n",
    "        if type(fillchar) is tstr:\n",
    "            t = fillchar.x()\n",
    "        else:\n",
    "            t = -1\n",
    "        return tstr(res, self._taint + [t] * final, self)"
   ]
  },
  {
   "cell_type": "markdown",
   "metadata": {
    "slideshow": {
     "slide_type": "subslide"
    }
   },
   "source": [
    "### String methods that do not change taint"
   ]
  },
  {
   "cell_type": "code",
   "execution_count": 46,
   "metadata": {
    "slideshow": {
     "slide_type": "fragment"
    }
   },
   "outputs": [],
   "source": [
    "def make_str_wrapper_eq_taint(fun):\n",
    "    def proxy(*args, **kwargs):\n",
    "        res = fun(*args, **kwargs)\n",
    "        return tstr(res, args[0]._taint, args[0])\n",
    "    return proxy\n",
    "\n",
    "for name, fn in inspect.getmembers(str, callable):\n",
    "    if name in ['swapcase', 'upper', 'lower', 'capitalize', 'title']:\n",
    "        setattr(tstr, name, make_str_wrapper_eq_taint(fn))\n"
   ]
  },
  {
   "cell_type": "code",
   "execution_count": 47,
   "metadata": {
    "slideshow": {
     "slide_type": "fragment"
    }
   },
   "outputs": [
    {
     "data": {
      "text/plain": [
       "('AA', [100, 101])"
      ]
     },
     "execution_count": 47,
     "metadata": {},
     "output_type": "execute_result"
    }
   ],
   "source": [
    "a = tstr('aa', taint=100).upper()\n",
    "a, a._taint"
   ]
  },
  {
   "cell_type": "markdown",
   "metadata": {
    "slideshow": {
     "slide_type": "subslide"
    }
   },
   "source": [
    "### General wrappers"
   ]
  },
  {
   "cell_type": "markdown",
   "metadata": {
    "slideshow": {
     "slide_type": "fragment"
    }
   },
   "source": [
    "These are not strictly needed for operation, but can be useful for tracing"
   ]
  },
  {
   "cell_type": "code",
   "execution_count": 48,
   "metadata": {
    "slideshow": {
     "slide_type": "subslide"
    }
   },
   "outputs": [],
   "source": [
    "def make_str_wrapper(fun):\n",
    "    def proxy(*args, **kwargs):\n",
    "        res = fun(*args, **kwargs)\n",
    "        return res\n",
    "    return proxy\n",
    "\n",
    "import types\n",
    "tstr_members = [name for name, fn in inspect.getmembers(tstr,callable)\n",
    "if type(fn) == types.FunctionType and fn.__qualname__.startswith('tstr')]\n",
    "\n",
    "for name, fn in inspect.getmembers(str, callable):\n",
    "    if name not in set(['__class__', '__new__', '__str__', '__init__',\n",
    "                        '__repr__','__getattribute__']) | set(tstr_members):\n",
    "        setattr(tstr, name, make_str_wrapper(fn))"
   ]
  },
  {
   "cell_type": "markdown",
   "metadata": {
    "slideshow": {
     "slide_type": "subslide"
    }
   },
   "source": [
    "### Methods yet to be translated"
   ]
  },
  {
   "cell_type": "markdown",
   "metadata": {
    "slideshow": {
     "slide_type": "fragment"
    }
   },
   "source": [
    "These methods generate strings from other strings. However, we do not have the right implementations for any of these. Hence these are marked as dangerous until we can generate the right translations."
   ]
  },
  {
   "cell_type": "code",
   "execution_count": 49,
   "metadata": {
    "slideshow": {
     "slide_type": "fragment"
    }
   },
   "outputs": [],
   "source": [
    "def make_str_abort_wrapper(fun):\n",
    "    def proxy(*args, **kwargs):\n",
    "        raise TaintException('%s Not implemented in TSTR' % fun.__name__)\n",
    "    return proxy\n",
    "\n",
    "for name, fn in inspect.getmembers(str, callable):\n",
    "    if name in ['__format__', '__rmod__', '__mod__', 'format_map', 'format',\n",
    "               '__mul__','__rmul__','center','zfill', 'decode', 'encode', 'splitlines']:\n",
    "        setattr(tstr, name, make_str_abort_wrapper(fn))"
   ]
  },
  {
   "cell_type": "markdown",
   "metadata": {
    "button": false,
    "new_sheet": true,
    "run_control": {
     "read_only": false
    },
    "slideshow": {
     "slide_type": "slide"
    }
   },
   "source": [
    "## Lessons Learned\n",
    "\n",
    "* One can track the information flow form input to the internals of a system."
   ]
  },
  {
   "cell_type": "markdown",
   "metadata": {
    "button": false,
    "new_sheet": false,
    "run_control": {
     "read_only": false
    },
    "slideshow": {
     "slide_type": "slide"
    }
   },
   "source": [
    "## Next Steps\n",
    "\n",
    "_Link to subsequent chapters (notebooks) here:_"
   ]
  },
  {
   "cell_type": "markdown",
   "metadata": {
    "slideshow": {
     "slide_type": "slide"
    }
   },
   "source": [
    "## Background\n",
    "\n",
    "\\cite{Lin2008}"
   ]
  },
  {
   "cell_type": "markdown",
   "metadata": {
    "button": false,
    "new_sheet": true,
    "run_control": {
     "read_only": false
    },
    "slideshow": {
     "slide_type": "slide"
    }
   },
   "source": [
    "## Exercises\n",
    "\n",
    "_Close the chapter with a few exercises such that people have things to do.  To make the solutions hidden (to be revealed by the user), have them start with_\n",
    "\n",
    "```markdown\n",
    "**Solution.**\n",
    "```\n",
    "\n",
    "_Your solution can then extend up to the next title (i.e., any markdown cell starting with `#`)._\n",
    "\n",
    "_Running `make metadata` will automatically add metadata to the cells such that the cells will be hidden by default, and can be uncovered by the user.  The button will be introduced above the solution._"
   ]
  },
  {
   "cell_type": "markdown",
   "metadata": {
    "button": false,
    "new_sheet": false,
    "run_control": {
     "read_only": false
    },
    "slideshow": {
     "slide_type": "subslide"
    }
   },
   "source": [
    "### Exercise 1: _Title_\n",
    "\n",
    "_Text of the exercise_"
   ]
  },
  {
   "cell_type": "code",
   "execution_count": 50,
   "metadata": {
    "cell_style": "center",
    "slideshow": {
     "slide_type": "fragment"
    }
   },
   "outputs": [],
   "source": [
    "# Some code that is part of the exercise\n",
    "pass"
   ]
  },
  {
   "cell_type": "markdown",
   "metadata": {
    "slideshow": {
     "slide_type": "fragment"
    },
    "solution2": "hidden",
    "solution2_first": true
   },
   "source": [
    "_Some more text for the exercise_"
   ]
  },
  {
   "cell_type": "markdown",
   "metadata": {
    "slideshow": {
     "slide_type": "skip"
    },
    "solution2": "hidden"
   },
   "source": [
    "**Solution.** _Some text for the solution_"
   ]
  },
  {
   "cell_type": "code",
   "execution_count": 51,
   "metadata": {
    "cell_style": "split",
    "slideshow": {
     "slide_type": "skip"
    },
    "solution2": "hidden"
   },
   "outputs": [
    {
     "data": {
      "text/plain": [
       "4"
      ]
     },
     "execution_count": 51,
     "metadata": {},
     "output_type": "execute_result"
    }
   ],
   "source": [
    "# Some code for the solution\n",
    "2 + 2"
   ]
  },
  {
   "cell_type": "markdown",
   "metadata": {
    "slideshow": {
     "slide_type": "skip"
    },
    "solution2": "hidden"
   },
   "source": [
    "_Some more text for the solution_"
   ]
  },
  {
   "cell_type": "markdown",
   "metadata": {
    "button": false,
    "new_sheet": false,
    "run_control": {
     "read_only": false
    },
    "slideshow": {
     "slide_type": "subslide"
    },
    "solution": "hidden",
    "solution2": "hidden",
    "solution2_first": true,
    "solution_first": true
   },
   "source": [
    "### Exercise 2: _Title_\n",
    "\n",
    "_Text of the exercise_"
   ]
  },
  {
   "cell_type": "markdown",
   "metadata": {
    "button": false,
    "new_sheet": false,
    "run_control": {
     "read_only": false
    },
    "slideshow": {
     "slide_type": "skip"
    },
    "solution": "hidden",
    "solution2": "hidden"
   },
   "source": [
    "**Solution.** _Solution for the exercise_"
   ]
  }
 ],
 "metadata": {
  "ipub": {
   "bibliography": "fuzzingbook.bib",
   "toc": true
  },
  "kernelspec": {
   "display_name": "Python 3",
   "language": "python",
   "name": "python3"
  },
  "language_info": {
   "codemirror_mode": {
    "name": "ipython",
    "version": 3
   },
   "file_extension": ".py",
   "mimetype": "text/x-python",
   "name": "python",
   "nbconvert_exporter": "python",
   "pygments_lexer": "ipython3",
   "version": "3.6.6"
  },
  "toc": {
   "base_numbering": 1,
   "nav_menu": {},
   "number_sections": true,
   "sideBar": true,
   "skip_h1_title": true,
   "title_cell": "",
   "title_sidebar": "Contents",
   "toc_cell": false,
   "toc_position": {},
   "toc_section_display": true,
   "toc_window_display": true
  },
  "varInspector": {
   "cols": {
    "lenName": 16,
    "lenType": 16,
    "lenVar": 40
   },
   "kernels_config": {
    "python": {
     "delete_cmd_postfix": "",
     "delete_cmd_prefix": "del ",
     "library": "var_list.py",
     "varRefreshCmd": "print(var_dic_list())"
    },
    "r": {
     "delete_cmd_postfix": ") ",
     "delete_cmd_prefix": "rm(",
     "library": "var_list.r",
     "varRefreshCmd": "cat(var_dic_list()) "
    }
   },
   "types_to_exclude": [
    "module",
    "function",
    "builtin_function_or_method",
    "instance",
    "_Feature"
   ],
   "window_display": false
  }
 },
 "nbformat": 4,
 "nbformat_minor": 2
}
