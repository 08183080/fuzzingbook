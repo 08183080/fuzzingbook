{
 "cells": [
  {
   "cell_type": "markdown",
   "metadata": {
    "button": false,
    "new_sheet": false,
    "run_control": {
     "read_only": false
    },
    "slideshow": {
     "slide_type": "notes"
    },
    "toc-hr-collapsed": false
   },
   "source": [
    "# Parsing Inputs\n",
    "\n",
    "In the chapter on [Grammars](Grammars.ipynb), we discussed how grammars can be\n",
    "used to represent various languages. We also saw how grammars can be used to\n",
    "generate strings of the corresponding language. Grammars can also perform the\n",
    "reverse. That is, given a string, one can decompose the string into its\n",
    "constituent parts that correspond to the parts of grammar used to generate it\n",
    "– the _derivation tree_ of that string. These parts (and parts from other similar\n",
    "strings) can later be recombined using the same grammar to produce new strings.\n",
    "\n",
    "In this chapter, we use grammars to parse and decompose a given set of valid seed inputs into their corresponding derivation trees. This structural representation allows us to mutate, crossover, and recombine their parts in order to generate new valid, slightly changed inputs (i.e., fuzz)"
   ]
  },
  {
   "cell_type": "markdown",
   "metadata": {
    "slideshow": {
     "slide_type": "skip"
    }
   },
   "source": [
    "**Prerequisites**\n",
    "\n",
    "* You should have read the [chapter on grammars](Grammars.ipynb).\n",
    "* An understanding of derivation trees from the [chapter on grammar fuzzer](GrammarFuzzer.ipynb)\n",
    "  is also required."
   ]
  },
  {
   "cell_type": "markdown",
   "metadata": {
    "slideshow": {
     "slide_type": "slide"
    }
   },
   "source": [
    "## Fuzzing a Simple Program"
   ]
  },
  {
   "cell_type": "markdown",
   "metadata": {
    "slideshow": {
     "slide_type": "fragment"
    }
   },
   "source": [
    "Here is a simple program that accepts a CSV file of vehicle details and processes this information."
   ]
  },
  {
   "cell_type": "code",
   "execution_count": 1,
   "metadata": {
    "slideshow": {
     "slide_type": "fragment"
    }
   },
   "outputs": [],
   "source": [
    "def process_inventory(inventory):\n",
    "    res = []\n",
    "    for vehicle in inventory.split('\\n'):\n",
    "        ret = process_vehicle(vehicle)\n",
    "        res.extend(ret)\n",
    "    return '\\n'.join(res)"
   ]
  },
  {
   "cell_type": "markdown",
   "metadata": {
    "slideshow": {
     "slide_type": "fragment"
    }
   },
   "source": [
    "The CSV file contains details of one vehicle per line. Each row is processed in `process_vehicle()`."
   ]
  },
  {
   "cell_type": "code",
   "execution_count": 2,
   "metadata": {
    "slideshow": {
     "slide_type": "subslide"
    }
   },
   "outputs": [],
   "source": [
    "def process_vehicle(vehicle):\n",
    "    year, kind, company, model, *_ = vehicle.split(',')\n",
    "    if kind == 'van':\n",
    "        return process_van(year, company, model)\n",
    "\n",
    "    elif kind == 'car':\n",
    "        return process_car(year, company, model)\n",
    "\n",
    "    else:\n",
    "        raise Exception('Invalid entry')"
   ]
  },
  {
   "cell_type": "markdown",
   "metadata": {
    "slideshow": {
     "slide_type": "fragment"
    }
   },
   "source": [
    "Depending on the kind of vehicle, the processing changes."
   ]
  },
  {
   "cell_type": "code",
   "execution_count": 3,
   "metadata": {
    "slideshow": {
     "slide_type": "subslide"
    }
   },
   "outputs": [],
   "source": [
    "def process_van(year, company, model):\n",
    "    res = [\"We have a %s %s van from %s vintage.\" % (company, model, year)]\n",
    "    iyear = int(year)\n",
    "    if iyear > 2010:\n",
    "        res.append(\"It is a recent model!\")\n",
    "    else:\n",
    "        res.append(\"It is an old but reliable model!\")\n",
    "    return res"
   ]
  },
  {
   "cell_type": "code",
   "execution_count": 4,
   "metadata": {
    "slideshow": {
     "slide_type": "subslide"
    }
   },
   "outputs": [],
   "source": [
    "def process_car(year, company, model):\n",
    "    res = [\"We have a %s %s car from %s vintage.\" % (company, model, year)]\n",
    "    iyear = int(year)\n",
    "    if iyear > 2016:\n",
    "        res.append(\"It is a recent model!\")\n",
    "    else:\n",
    "        res.append(\"It is an old but reliable model!\")\n",
    "    return res"
   ]
  },
  {
   "cell_type": "markdown",
   "metadata": {
    "slideshow": {
     "slide_type": "fragment"
    }
   },
   "source": [
    "Here is a sample of inputs that the `process_inventory()` accepts."
   ]
  },
  {
   "cell_type": "code",
   "execution_count": 5,
   "metadata": {
    "slideshow": {
     "slide_type": "subslide"
    }
   },
   "outputs": [
    {
     "name": "stdout",
     "output_type": "stream",
     "text": [
      "We have a Ford E350 van from 1997 vintage.\n",
      "It is an old but reliable model!\n",
      "We have a Mercury Cougar car from 2000 vintage.\n",
      "It is an old but reliable model!\n"
     ]
    }
   ],
   "source": [
    "mystring = \"\"\"\\\n",
    "1997,van,Ford,E350\n",
    "2000,car,Mercury,Cougar\\\n",
    "\"\"\"\n",
    "print(process_inventory(mystring))"
   ]
  },
  {
   "cell_type": "markdown",
   "metadata": {
    "slideshow": {
     "slide_type": "fragment"
    }
   },
   "source": [
    "Let us try to fuzz this program. Given that the `process_inventory()` takes a CSV file, we can write a simple grammar for generating comma separated values, and generate the required CSV rows. For convenience, we fuzz `process_vehicle()` directly."
   ]
  },
  {
   "cell_type": "code",
   "execution_count": 6,
   "metadata": {
    "slideshow": {
     "slide_type": "skip"
    }
   },
   "outputs": [],
   "source": [
    "import string"
   ]
  },
  {
   "cell_type": "code",
   "execution_count": 7,
   "metadata": {
    "slideshow": {
     "slide_type": "subslide"
    }
   },
   "outputs": [],
   "source": [
    "CSV_GRAMMAR = {\n",
    "    '<start>': ['<csvline>'],\n",
    "    '<csvline>': ['<items>'],\n",
    "    '<items>': ['<item>,<items>', '<item>'],\n",
    "    '<item>': ['<letters>'],\n",
    "    '<letters>': ['<letter><letters>', '<letter>'],\n",
    "    '<letter>': list(string.ascii_letters + string.digits + string.punctuation + ' \\t\\n')\n",
    "}"
   ]
  },
  {
   "cell_type": "markdown",
   "metadata": {
    "slideshow": {
     "slide_type": "fragment"
    }
   },
   "source": [
    " We need some infrastructure first for viewing the grammar."
   ]
  },
  {
   "cell_type": "code",
   "execution_count": 8,
   "metadata": {
    "slideshow": {
     "slide_type": "skip"
    }
   },
   "outputs": [],
   "source": [
    "import fuzzingbook_utils"
   ]
  },
  {
   "cell_type": "code",
   "execution_count": 9,
   "metadata": {
    "slideshow": {
     "slide_type": "skip"
    }
   },
   "outputs": [],
   "source": [
    "from Grammars import EXPR_GRAMMAR, START_SYMBOL, RE_NONTERMINAL, is_valid_grammar, syntax_diagram\n",
    "from Fuzzer import Fuzzer\n",
    "from GrammarFuzzer import GrammarFuzzer, FasterGrammarFuzzer, display_tree, tree_to_string, dot_escape\n",
    "\n",
    "from ExpectError import ExpectError\n",
    "from Timer import Timer"
   ]
  },
  {
   "cell_type": "code",
   "execution_count": 10,
   "metadata": {
    "slideshow": {
     "slide_type": "subslide"
    }
   },
   "outputs": [
    {
     "name": "stdout",
     "output_type": "stream",
     "text": [
      "start\n"
     ]
    },
    {
     "data": {
      "image/svg+xml": [
       "<svg class=\"railroad-diagram\" height=\"62\" viewBox=\"0 0 199.5 62\" width=\"199.5\" xmlns=\"http://www.w3.org/2000/svg\">\n",
       "<g transform=\"translate(.5 .5)\">\n",
       "<style>/* <![CDATA[ */\n",
       "    svg.railroad-diagram {\n",
       "        background-color:hsl(100,100%,100%);\n",
       "    }\n",
       "    svg.railroad-diagram path {\n",
       "        stroke-width:3;\n",
       "        stroke:black;\n",
       "        fill:rgba(0,0,0,0);\n",
       "    }\n",
       "    svg.railroad-diagram text {\n",
       "        font:bold 14px monospace;\n",
       "        text-anchor:middle;\n",
       "    }\n",
       "    svg.railroad-diagram text.label{\n",
       "        text-anchor:start;\n",
       "    }\n",
       "    svg.railroad-diagram text.comment{\n",
       "        font:italic 12px monospace;\n",
       "    }\n",
       "    svg.railroad-diagram rect{\n",
       "        stroke-width:3;\n",
       "        stroke:black;\n",
       "        fill:hsl(0,62%,82%);\n",
       "    }\n",
       "\n",
       "/* ]]> */\n",
       "</style><g>\n",
       "<path d=\"M20 21v20m10 -20v20m-10 -10h20\"/></g><g>\n",
       "<path d=\"M40 31h0.0\"/><path d=\"M159.5 31h0.0\"/><path d=\"M40.0 31h20\"/><g>\n",
       "<path d=\"M60.0 31h0.0\"/><path d=\"M139.5 31h0.0\"/><g class=\"non-terminal\">\n",
       "<path d=\"M60.0 31h0.0\"/><path d=\"M139.5 31h0.0\"/><rect height=\"22\" width=\"79.5\" x=\"60.0\" y=\"20\"/><text x=\"99.75\" y=\"35\">csvline</text></g></g><path d=\"M139.5 31h20\"/></g><path d=\"M 159.5 31 h 20 m -10 -10 v 20 m 10 -20 v 20\"/></g></svg>"
      ],
      "text/plain": [
       "<IPython.core.display.SVG object>"
      ]
     },
     "metadata": {},
     "output_type": "display_data"
    },
    {
     "name": "stdout",
     "output_type": "stream",
     "text": [
      "csvline\n"
     ]
    },
    {
     "data": {
      "image/svg+xml": [
       "<svg class=\"railroad-diagram\" height=\"62\" viewBox=\"0 0 182.5 62\" width=\"182.5\" xmlns=\"http://www.w3.org/2000/svg\">\n",
       "<g transform=\"translate(.5 .5)\">\n",
       "<style>/* <![CDATA[ */\n",
       "    svg.railroad-diagram {\n",
       "        background-color:hsl(100,100%,100%);\n",
       "    }\n",
       "    svg.railroad-diagram path {\n",
       "        stroke-width:3;\n",
       "        stroke:black;\n",
       "        fill:rgba(0,0,0,0);\n",
       "    }\n",
       "    svg.railroad-diagram text {\n",
       "        font:bold 14px monospace;\n",
       "        text-anchor:middle;\n",
       "    }\n",
       "    svg.railroad-diagram text.label{\n",
       "        text-anchor:start;\n",
       "    }\n",
       "    svg.railroad-diagram text.comment{\n",
       "        font:italic 12px monospace;\n",
       "    }\n",
       "    svg.railroad-diagram rect{\n",
       "        stroke-width:3;\n",
       "        stroke:black;\n",
       "        fill:hsl(0,62%,82%);\n",
       "    }\n",
       "\n",
       "/* ]]> */\n",
       "</style><g>\n",
       "<path d=\"M20 21v20m10 -20v20m-10 -10h20\"/></g><g>\n",
       "<path d=\"M40 31h0.0\"/><path d=\"M142.5 31h0.0\"/><path d=\"M40.0 31h20\"/><g>\n",
       "<path d=\"M60.0 31h0.0\"/><path d=\"M122.5 31h0.0\"/><g class=\"non-terminal\">\n",
       "<path d=\"M60.0 31h0.0\"/><path d=\"M122.5 31h0.0\"/><rect height=\"22\" width=\"62.5\" x=\"60.0\" y=\"20\"/><text x=\"91.25\" y=\"35\">items</text></g></g><path d=\"M122.5 31h20\"/></g><path d=\"M 142.5 31 h 20 m -10 -10 v 20 m 10 -20 v 20\"/></g></svg>"
      ],
      "text/plain": [
       "<IPython.core.display.SVG object>"
      ]
     },
     "metadata": {},
     "output_type": "display_data"
    },
    {
     "name": "stdout",
     "output_type": "stream",
     "text": [
      "items\n"
     ]
    },
    {
     "data": {
      "image/svg+xml": [
       "<svg class=\"railroad-diagram\" height=\"92\" viewBox=\"0 0 305.0 92\" width=\"305.0\" xmlns=\"http://www.w3.org/2000/svg\">\n",
       "<g transform=\"translate(.5 .5)\">\n",
       "<style>/* <![CDATA[ */\n",
       "    svg.railroad-diagram {\n",
       "        background-color:hsl(100,100%,100%);\n",
       "    }\n",
       "    svg.railroad-diagram path {\n",
       "        stroke-width:3;\n",
       "        stroke:black;\n",
       "        fill:rgba(0,0,0,0);\n",
       "    }\n",
       "    svg.railroad-diagram text {\n",
       "        font:bold 14px monospace;\n",
       "        text-anchor:middle;\n",
       "    }\n",
       "    svg.railroad-diagram text.label{\n",
       "        text-anchor:start;\n",
       "    }\n",
       "    svg.railroad-diagram text.comment{\n",
       "        font:italic 12px monospace;\n",
       "    }\n",
       "    svg.railroad-diagram rect{\n",
       "        stroke-width:3;\n",
       "        stroke:black;\n",
       "        fill:hsl(0,62%,82%);\n",
       "    }\n",
       "\n",
       "/* ]]> */\n",
       "</style><g>\n",
       "<path d=\"M20 51v20m10 -20v20m-10 -10h20\"/></g><g>\n",
       "<path d=\"M40 61h0.0\"/><path d=\"M265.0 61h0.0\"/><path d=\"M40.0 61a10 10 0 0 0 10 -10v-10a10 10 0 0 1 10 -10\"/><g>\n",
       "<path d=\"M60.0 31h0.0\"/><path d=\"M245.0 31h0.0\"/><g class=\"non-terminal\">\n",
       "<path d=\"M60.0 31h0.0\"/><path d=\"M114.0 31h0.0\"/><rect height=\"22\" width=\"54.0\" x=\"60.0\" y=\"20\"/><text x=\"87.0\" y=\"35\">item</text></g><path d=\"M114.0 31h10\"/><path d=\"M124.0 31h10\"/><g class=\"terminal\">\n",
       "<path d=\"M134.0 31h0.0\"/><path d=\"M162.5 31h0.0\"/><rect height=\"22\" rx=\"10\" ry=\"10\" width=\"28.5\" x=\"134.0\" y=\"20\"/><text x=\"148.25\" y=\"35\">,</text></g><path d=\"M162.5 31h10\"/><path d=\"M172.5 31h10\"/><g class=\"non-terminal\">\n",
       "<path d=\"M182.5 31h0.0\"/><path d=\"M245.0 31h0.0\"/><rect height=\"22\" width=\"62.5\" x=\"182.5\" y=\"20\"/><text x=\"213.75\" y=\"35\">items</text></g></g><path d=\"M245.0 31a10 10 0 0 1 10 10v10a10 10 0 0 0 10 10\"/><path d=\"M40.0 61h20\"/><g>\n",
       "<path d=\"M60.0 61h65.5\"/><path d=\"M179.5 61h65.5\"/><g class=\"non-terminal\">\n",
       "<path d=\"M125.5 61h0.0\"/><path d=\"M179.5 61h0.0\"/><rect height=\"22\" width=\"54.0\" x=\"125.5\" y=\"50\"/><text x=\"152.5\" y=\"65\">item</text></g></g><path d=\"M245.0 61h20\"/></g><path d=\"M 265.0 61 h 20 m -10 -10 v 20 m 10 -20 v 20\"/></g></svg>"
      ],
      "text/plain": [
       "<IPython.core.display.SVG object>"
      ]
     },
     "metadata": {},
     "output_type": "display_data"
    },
    {
     "name": "stdout",
     "output_type": "stream",
     "text": [
      "item\n"
     ]
    },
    {
     "data": {
      "image/svg+xml": [
       "<svg class=\"railroad-diagram\" height=\"62\" viewBox=\"0 0 199.5 62\" width=\"199.5\" xmlns=\"http://www.w3.org/2000/svg\">\n",
       "<g transform=\"translate(.5 .5)\">\n",
       "<style>/* <![CDATA[ */\n",
       "    svg.railroad-diagram {\n",
       "        background-color:hsl(100,100%,100%);\n",
       "    }\n",
       "    svg.railroad-diagram path {\n",
       "        stroke-width:3;\n",
       "        stroke:black;\n",
       "        fill:rgba(0,0,0,0);\n",
       "    }\n",
       "    svg.railroad-diagram text {\n",
       "        font:bold 14px monospace;\n",
       "        text-anchor:middle;\n",
       "    }\n",
       "    svg.railroad-diagram text.label{\n",
       "        text-anchor:start;\n",
       "    }\n",
       "    svg.railroad-diagram text.comment{\n",
       "        font:italic 12px monospace;\n",
       "    }\n",
       "    svg.railroad-diagram rect{\n",
       "        stroke-width:3;\n",
       "        stroke:black;\n",
       "        fill:hsl(0,62%,82%);\n",
       "    }\n",
       "\n",
       "/* ]]> */\n",
       "</style><g>\n",
       "<path d=\"M20 21v20m10 -20v20m-10 -10h20\"/></g><g>\n",
       "<path d=\"M40 31h0.0\"/><path d=\"M159.5 31h0.0\"/><path d=\"M40.0 31h20\"/><g>\n",
       "<path d=\"M60.0 31h0.0\"/><path d=\"M139.5 31h0.0\"/><g class=\"non-terminal\">\n",
       "<path d=\"M60.0 31h0.0\"/><path d=\"M139.5 31h0.0\"/><rect height=\"22\" width=\"79.5\" x=\"60.0\" y=\"20\"/><text x=\"99.75\" y=\"35\">letters</text></g></g><path d=\"M139.5 31h20\"/></g><path d=\"M 159.5 31 h 20 m -10 -10 v 20 m 10 -20 v 20\"/></g></svg>"
      ],
      "text/plain": [
       "<IPython.core.display.SVG object>"
      ]
     },
     "metadata": {},
     "output_type": "display_data"
    },
    {
     "name": "stdout",
     "output_type": "stream",
     "text": [
      "letters\n"
     ]
    },
    {
     "data": {
      "image/svg+xml": [
       "<svg class=\"railroad-diagram\" height=\"92\" viewBox=\"0 0 290.5 92\" width=\"290.5\" xmlns=\"http://www.w3.org/2000/svg\">\n",
       "<g transform=\"translate(.5 .5)\">\n",
       "<style>/* <![CDATA[ */\n",
       "    svg.railroad-diagram {\n",
       "        background-color:hsl(100,100%,100%);\n",
       "    }\n",
       "    svg.railroad-diagram path {\n",
       "        stroke-width:3;\n",
       "        stroke:black;\n",
       "        fill:rgba(0,0,0,0);\n",
       "    }\n",
       "    svg.railroad-diagram text {\n",
       "        font:bold 14px monospace;\n",
       "        text-anchor:middle;\n",
       "    }\n",
       "    svg.railroad-diagram text.label{\n",
       "        text-anchor:start;\n",
       "    }\n",
       "    svg.railroad-diagram text.comment{\n",
       "        font:italic 12px monospace;\n",
       "    }\n",
       "    svg.railroad-diagram rect{\n",
       "        stroke-width:3;\n",
       "        stroke:black;\n",
       "        fill:hsl(0,62%,82%);\n",
       "    }\n",
       "\n",
       "/* ]]> */\n",
       "</style><g>\n",
       "<path d=\"M20 51v20m10 -20v20m-10 -10h20\"/></g><g>\n",
       "<path d=\"M40 61h0.0\"/><path d=\"M250.5 61h0.0\"/><path d=\"M40.0 61a10 10 0 0 0 10 -10v-10a10 10 0 0 1 10 -10\"/><g>\n",
       "<path d=\"M60.0 31h0.0\"/><path d=\"M230.5 31h0.0\"/><g class=\"non-terminal\">\n",
       "<path d=\"M60.0 31h0.0\"/><path d=\"M131.0 31h0.0\"/><rect height=\"22\" width=\"71.0\" x=\"60.0\" y=\"20\"/><text x=\"95.5\" y=\"35\">letter</text></g><path d=\"M131.0 31h10\"/><path d=\"M141.0 31h10\"/><g class=\"non-terminal\">\n",
       "<path d=\"M151.0 31h0.0\"/><path d=\"M230.5 31h0.0\"/><rect height=\"22\" width=\"79.5\" x=\"151.0\" y=\"20\"/><text x=\"190.75\" y=\"35\">letters</text></g></g><path d=\"M230.5 31a10 10 0 0 1 10 10v10a10 10 0 0 0 10 10\"/><path d=\"M40.0 61h20\"/><g>\n",
       "<path d=\"M60.0 61h49.75\"/><path d=\"M180.75 61h49.75\"/><g class=\"non-terminal\">\n",
       "<path d=\"M109.75 61h0.0\"/><path d=\"M180.75 61h0.0\"/><rect height=\"22\" width=\"71.0\" x=\"109.75\" y=\"50\"/><text x=\"145.25\" y=\"65\">letter</text></g></g><path d=\"M230.5 61h20\"/></g><path d=\"M 250.5 61 h 20 m -10 -10 v 20 m 10 -20 v 20\"/></g></svg>"
      ],
      "text/plain": [
       "<IPython.core.display.SVG object>"
      ]
     },
     "metadata": {},
     "output_type": "display_data"
    },
    {
     "name": "stdout",
     "output_type": "stream",
     "text": [
      "letter\n"
     ]
    },
    {
     "data": {
      "image/svg+xml": [
       "<svg class=\"railroad-diagram\" height=\"618\" viewBox=\"0 0 611.0 618\" width=\"611.0\" xmlns=\"http://www.w3.org/2000/svg\">\n",
       "<g transform=\"translate(.5 .5)\">\n",
       "<style>/* <![CDATA[ */\n",
       "    svg.railroad-diagram {\n",
       "        background-color:hsl(100,100%,100%);\n",
       "    }\n",
       "    svg.railroad-diagram path {\n",
       "        stroke-width:3;\n",
       "        stroke:black;\n",
       "        fill:rgba(0,0,0,0);\n",
       "    }\n",
       "    svg.railroad-diagram text {\n",
       "        font:bold 14px monospace;\n",
       "        text-anchor:middle;\n",
       "    }\n",
       "    svg.railroad-diagram text.label{\n",
       "        text-anchor:start;\n",
       "    }\n",
       "    svg.railroad-diagram text.comment{\n",
       "        font:italic 12px monospace;\n",
       "    }\n",
       "    svg.railroad-diagram rect{\n",
       "        stroke-width:3;\n",
       "        stroke:black;\n",
       "        fill:hsl(0,62%,82%);\n",
       "    }\n",
       "\n",
       "/* ]]> */\n",
       "</style><g>\n",
       "<path d=\"M20 299v20m10 -20v20m-10 -10h20\"/></g><g>\n",
       "<path d=\"M40 309h0.0\"/><path d=\"M571.0 309h0.0\"/><path d=\"M40.0 309a10 10 0 0 0 10 -10v-269a10 10 0 0 1 10 -10h412.5\"/><path d=\"M138.5 598h412.5a10 10 0 0 0 10 -10v-269a10 10 0 0 1 10 -10\"/><path d=\"M40.0 309h10\"/><g>\n",
       "<path d=\"M50.0 309h0.0\"/><path d=\"M118.5 309h0.0\"/><path d=\"M50.0 309a10 10 0 0 0 10 -10v-10a10 10 0 0 1 10 -10\"/><g>\n",
       "<path d=\"M70.0 279h0.0\"/><path d=\"M98.5 279h0.0\"/><g class=\"terminal\">\n",
       "<path d=\"M70.0 279h0.0\"/><path d=\"M98.5 279h0.0\"/><rect height=\"22\" rx=\"10\" ry=\"10\" width=\"28.5\" x=\"70.0\" y=\"268\"/><text x=\"84.25\" y=\"283\">i</text></g></g><path d=\"M98.5 279a10 10 0 0 1 10 10v10a10 10 0 0 0 10 10\"/><path d=\"M50.0 309a10 10 0 0 0 10 -10v-40a10 10 0 0 1 10 -10\"/><g>\n",
       "<path d=\"M70.0 249h0.0\"/><path d=\"M98.5 249h0.0\"/><g class=\"terminal\">\n",
       "<path d=\"M70.0 249h0.0\"/><path d=\"M98.5 249h0.0\"/><rect height=\"22\" rx=\"10\" ry=\"10\" width=\"28.5\" x=\"70.0\" y=\"238\"/><text x=\"84.25\" y=\"253\">h</text></g></g><path d=\"M98.5 249a10 10 0 0 1 10 10v40a10 10 0 0 0 10 10\"/><path d=\"M50.0 309a10 10 0 0 0 10 -10v-70a10 10 0 0 1 10 -10\"/><g>\n",
       "<path d=\"M70.0 219h0.0\"/><path d=\"M98.5 219h0.0\"/><g class=\"terminal\">\n",
       "<path d=\"M70.0 219h0.0\"/><path d=\"M98.5 219h0.0\"/><rect height=\"22\" rx=\"10\" ry=\"10\" width=\"28.5\" x=\"70.0\" y=\"208\"/><text x=\"84.25\" y=\"223\">g</text></g></g><path d=\"M98.5 219a10 10 0 0 1 10 10v70a10 10 0 0 0 10 10\"/><path d=\"M50.0 309a10 10 0 0 0 10 -10v-100a10 10 0 0 1 10 -10\"/><g>\n",
       "<path d=\"M70.0 189h0.0\"/><path d=\"M98.5 189h0.0\"/><g class=\"terminal\">\n",
       "<path d=\"M70.0 189h0.0\"/><path d=\"M98.5 189h0.0\"/><rect height=\"22\" rx=\"10\" ry=\"10\" width=\"28.5\" x=\"70.0\" y=\"178\"/><text x=\"84.25\" y=\"193\">f</text></g></g><path d=\"M98.5 189a10 10 0 0 1 10 10v100a10 10 0 0 0 10 10\"/><path d=\"M50.0 309a10 10 0 0 0 10 -10v-130a10 10 0 0 1 10 -10\"/><g>\n",
       "<path d=\"M70.0 159h0.0\"/><path d=\"M98.5 159h0.0\"/><g class=\"terminal\">\n",
       "<path d=\"M70.0 159h0.0\"/><path d=\"M98.5 159h0.0\"/><rect height=\"22\" rx=\"10\" ry=\"10\" width=\"28.5\" x=\"70.0\" y=\"148\"/><text x=\"84.25\" y=\"163\">e</text></g></g><path d=\"M98.5 159a10 10 0 0 1 10 10v130a10 10 0 0 0 10 10\"/><path d=\"M50.0 309a10 10 0 0 0 10 -10v-160a10 10 0 0 1 10 -10\"/><g>\n",
       "<path d=\"M70.0 129h0.0\"/><path d=\"M98.5 129h0.0\"/><g class=\"terminal\">\n",
       "<path d=\"M70.0 129h0.0\"/><path d=\"M98.5 129h0.0\"/><rect height=\"22\" rx=\"10\" ry=\"10\" width=\"28.5\" x=\"70.0\" y=\"118\"/><text x=\"84.25\" y=\"133\">d</text></g></g><path d=\"M98.5 129a10 10 0 0 1 10 10v160a10 10 0 0 0 10 10\"/><path d=\"M50.0 309a10 10 0 0 0 10 -10v-190a10 10 0 0 1 10 -10\"/><g>\n",
       "<path d=\"M70.0 99h0.0\"/><path d=\"M98.5 99h0.0\"/><g class=\"terminal\">\n",
       "<path d=\"M70.0 99h0.0\"/><path d=\"M98.5 99h0.0\"/><rect height=\"22\" rx=\"10\" ry=\"10\" width=\"28.5\" x=\"70.0\" y=\"88\"/><text x=\"84.25\" y=\"103\">c</text></g></g><path d=\"M98.5 99a10 10 0 0 1 10 10v190a10 10 0 0 0 10 10\"/><path d=\"M50.0 309a10 10 0 0 0 10 -10v-220a10 10 0 0 1 10 -10\"/><g>\n",
       "<path d=\"M70.0 69h0.0\"/><path d=\"M98.5 69h0.0\"/><g class=\"terminal\">\n",
       "<path d=\"M70.0 69h0.0\"/><path d=\"M98.5 69h0.0\"/><rect height=\"22\" rx=\"10\" ry=\"10\" width=\"28.5\" x=\"70.0\" y=\"58\"/><text x=\"84.25\" y=\"73\">b</text></g></g><path d=\"M98.5 69a10 10 0 0 1 10 10v220a10 10 0 0 0 10 10\"/><path d=\"M50.0 309a10 10 0 0 0 10 -10v-250a10 10 0 0 1 10 -10\"/><g>\n",
       "<path d=\"M70.0 39h0.0\"/><path d=\"M98.5 39h0.0\"/><g class=\"terminal\">\n",
       "<path d=\"M70.0 39h0.0\"/><path d=\"M98.5 39h0.0\"/><rect height=\"22\" rx=\"10\" ry=\"10\" width=\"28.5\" x=\"70.0\" y=\"28\"/><text x=\"84.25\" y=\"43\">a</text></g></g><path d=\"M98.5 39a10 10 0 0 1 10 10v250a10 10 0 0 0 10 10\"/><path d=\"M50.0 309h20\"/><g>\n",
       "<path d=\"M70.0 309h0.0\"/><path d=\"M98.5 309h0.0\"/><g class=\"terminal\">\n",
       "<path d=\"M70.0 309h0.0\"/><path d=\"M98.5 309h0.0\"/><rect height=\"22\" rx=\"10\" ry=\"10\" width=\"28.5\" x=\"70.0\" y=\"298\"/><text x=\"84.25\" y=\"313\">j</text></g></g><path d=\"M98.5 309h20\"/><path d=\"M50.0 309a10 10 0 0 1 10 10v10a10 10 0 0 0 10 10\"/><g>\n",
       "<path d=\"M70.0 339h0.0\"/><path d=\"M98.5 339h0.0\"/><g class=\"terminal\">\n",
       "<path d=\"M70.0 339h0.0\"/><path d=\"M98.5 339h0.0\"/><rect height=\"22\" rx=\"10\" ry=\"10\" width=\"28.5\" x=\"70.0\" y=\"328\"/><text x=\"84.25\" y=\"343\">k</text></g></g><path d=\"M98.5 339a10 10 0 0 0 10 -10v-10a10 10 0 0 1 10 -10\"/><path d=\"M50.0 309a10 10 0 0 1 10 10v40a10 10 0 0 0 10 10\"/><g>\n",
       "<path d=\"M70.0 369h0.0\"/><path d=\"M98.5 369h0.0\"/><g class=\"terminal\">\n",
       "<path d=\"M70.0 369h0.0\"/><path d=\"M98.5 369h0.0\"/><rect height=\"22\" rx=\"10\" ry=\"10\" width=\"28.5\" x=\"70.0\" y=\"358\"/><text x=\"84.25\" y=\"373\">l</text></g></g><path d=\"M98.5 369a10 10 0 0 0 10 -10v-40a10 10 0 0 1 10 -10\"/><path d=\"M50.0 309a10 10 0 0 1 10 10v70a10 10 0 0 0 10 10\"/><g>\n",
       "<path d=\"M70.0 399h0.0\"/><path d=\"M98.5 399h0.0\"/><g class=\"terminal\">\n",
       "<path d=\"M70.0 399h0.0\"/><path d=\"M98.5 399h0.0\"/><rect height=\"22\" rx=\"10\" ry=\"10\" width=\"28.5\" x=\"70.0\" y=\"388\"/><text x=\"84.25\" y=\"403\">m</text></g></g><path d=\"M98.5 399a10 10 0 0 0 10 -10v-70a10 10 0 0 1 10 -10\"/><path d=\"M50.0 309a10 10 0 0 1 10 10v100a10 10 0 0 0 10 10\"/><g>\n",
       "<path d=\"M70.0 429h0.0\"/><path d=\"M98.5 429h0.0\"/><g class=\"terminal\">\n",
       "<path d=\"M70.0 429h0.0\"/><path d=\"M98.5 429h0.0\"/><rect height=\"22\" rx=\"10\" ry=\"10\" width=\"28.5\" x=\"70.0\" y=\"418\"/><text x=\"84.25\" y=\"433\">n</text></g></g><path d=\"M98.5 429a10 10 0 0 0 10 -10v-100a10 10 0 0 1 10 -10\"/><path d=\"M50.0 309a10 10 0 0 1 10 10v130a10 10 0 0 0 10 10\"/><g>\n",
       "<path d=\"M70.0 459h0.0\"/><path d=\"M98.5 459h0.0\"/><g class=\"terminal\">\n",
       "<path d=\"M70.0 459h0.0\"/><path d=\"M98.5 459h0.0\"/><rect height=\"22\" rx=\"10\" ry=\"10\" width=\"28.5\" x=\"70.0\" y=\"448\"/><text x=\"84.25\" y=\"463\">o</text></g></g><path d=\"M98.5 459a10 10 0 0 0 10 -10v-130a10 10 0 0 1 10 -10\"/><path d=\"M50.0 309a10 10 0 0 1 10 10v160a10 10 0 0 0 10 10\"/><g>\n",
       "<path d=\"M70.0 489h0.0\"/><path d=\"M98.5 489h0.0\"/><g class=\"terminal\">\n",
       "<path d=\"M70.0 489h0.0\"/><path d=\"M98.5 489h0.0\"/><rect height=\"22\" rx=\"10\" ry=\"10\" width=\"28.5\" x=\"70.0\" y=\"478\"/><text x=\"84.25\" y=\"493\">p</text></g></g><path d=\"M98.5 489a10 10 0 0 0 10 -10v-160a10 10 0 0 1 10 -10\"/><path d=\"M50.0 309a10 10 0 0 1 10 10v190a10 10 0 0 0 10 10\"/><g>\n",
       "<path d=\"M70.0 519h0.0\"/><path d=\"M98.5 519h0.0\"/><g class=\"terminal\">\n",
       "<path d=\"M70.0 519h0.0\"/><path d=\"M98.5 519h0.0\"/><rect height=\"22\" rx=\"10\" ry=\"10\" width=\"28.5\" x=\"70.0\" y=\"508\"/><text x=\"84.25\" y=\"523\">q</text></g></g><path d=\"M98.5 519a10 10 0 0 0 10 -10v-190a10 10 0 0 1 10 -10\"/><path d=\"M50.0 309a10 10 0 0 1 10 10v220a10 10 0 0 0 10 10\"/><g>\n",
       "<path d=\"M70.0 549h0.0\"/><path d=\"M98.5 549h0.0\"/><g class=\"terminal\">\n",
       "<path d=\"M70.0 549h0.0\"/><path d=\"M98.5 549h0.0\"/><rect height=\"22\" rx=\"10\" ry=\"10\" width=\"28.5\" x=\"70.0\" y=\"538\"/><text x=\"84.25\" y=\"553\">r</text></g></g><path d=\"M98.5 549a10 10 0 0 0 10 -10v-220a10 10 0 0 1 10 -10\"/><path d=\"M50.0 309a10 10 0 0 1 10 10v250a10 10 0 0 0 10 10\"/><g>\n",
       "<path d=\"M70.0 579h0.0\"/><path d=\"M98.5 579h0.0\"/><g class=\"terminal\">\n",
       "<path d=\"M70.0 579h0.0\"/><path d=\"M98.5 579h0.0\"/><rect height=\"22\" rx=\"10\" ry=\"10\" width=\"28.5\" x=\"70.0\" y=\"568\"/><text x=\"84.25\" y=\"583\">s</text></g></g><path d=\"M98.5 579a10 10 0 0 0 10 -10v-250a10 10 0 0 1 10 -10\"/></g><path d=\"M118.5 309a10 10 0 0 1 10 10v269a10 10 0 0 0 10 10\"/><path d=\"M118.5 20a10 10 0 0 1 10 10v269a10 10 0 0 0 10 10\"/><g>\n",
       "<path d=\"M138.5 309h0.0\"/><path d=\"M207.0 309h0.0\"/><path d=\"M138.5 309a10 10 0 0 0 10 -10v-10a10 10 0 0 1 10 -10\"/><g>\n",
       "<path d=\"M158.5 279h0.0\"/><path d=\"M187.0 279h0.0\"/><g class=\"terminal\">\n",
       "<path d=\"M158.5 279h0.0\"/><path d=\"M187.0 279h0.0\"/><rect height=\"22\" rx=\"10\" ry=\"10\" width=\"28.5\" x=\"158.5\" y=\"268\"/><text x=\"172.75\" y=\"283\">B</text></g></g><path d=\"M187.0 279a10 10 0 0 1 10 10v10a10 10 0 0 0 10 10\"/><path d=\"M138.5 309a10 10 0 0 0 10 -10v-40a10 10 0 0 1 10 -10\"/><g>\n",
       "<path d=\"M158.5 249h0.0\"/><path d=\"M187.0 249h0.0\"/><g class=\"terminal\">\n",
       "<path d=\"M158.5 249h0.0\"/><path d=\"M187.0 249h0.0\"/><rect height=\"22\" rx=\"10\" ry=\"10\" width=\"28.5\" x=\"158.5\" y=\"238\"/><text x=\"172.75\" y=\"253\">A</text></g></g><path d=\"M187.0 249a10 10 0 0 1 10 10v40a10 10 0 0 0 10 10\"/><path d=\"M138.5 309a10 10 0 0 0 10 -10v-70a10 10 0 0 1 10 -10\"/><g>\n",
       "<path d=\"M158.5 219h0.0\"/><path d=\"M187.0 219h0.0\"/><g class=\"terminal\">\n",
       "<path d=\"M158.5 219h0.0\"/><path d=\"M187.0 219h0.0\"/><rect height=\"22\" rx=\"10\" ry=\"10\" width=\"28.5\" x=\"158.5\" y=\"208\"/><text x=\"172.75\" y=\"223\">z</text></g></g><path d=\"M187.0 219a10 10 0 0 1 10 10v70a10 10 0 0 0 10 10\"/><path d=\"M138.5 309a10 10 0 0 0 10 -10v-100a10 10 0 0 1 10 -10\"/><g>\n",
       "<path d=\"M158.5 189h0.0\"/><path d=\"M187.0 189h0.0\"/><g class=\"terminal\">\n",
       "<path d=\"M158.5 189h0.0\"/><path d=\"M187.0 189h0.0\"/><rect height=\"22\" rx=\"10\" ry=\"10\" width=\"28.5\" x=\"158.5\" y=\"178\"/><text x=\"172.75\" y=\"193\">y</text></g></g><path d=\"M187.0 189a10 10 0 0 1 10 10v100a10 10 0 0 0 10 10\"/><path d=\"M138.5 309a10 10 0 0 0 10 -10v-130a10 10 0 0 1 10 -10\"/><g>\n",
       "<path d=\"M158.5 159h0.0\"/><path d=\"M187.0 159h0.0\"/><g class=\"terminal\">\n",
       "<path d=\"M158.5 159h0.0\"/><path d=\"M187.0 159h0.0\"/><rect height=\"22\" rx=\"10\" ry=\"10\" width=\"28.5\" x=\"158.5\" y=\"148\"/><text x=\"172.75\" y=\"163\">x</text></g></g><path d=\"M187.0 159a10 10 0 0 1 10 10v130a10 10 0 0 0 10 10\"/><path d=\"M138.5 309a10 10 0 0 0 10 -10v-160a10 10 0 0 1 10 -10\"/><g>\n",
       "<path d=\"M158.5 129h0.0\"/><path d=\"M187.0 129h0.0\"/><g class=\"terminal\">\n",
       "<path d=\"M158.5 129h0.0\"/><path d=\"M187.0 129h0.0\"/><rect height=\"22\" rx=\"10\" ry=\"10\" width=\"28.5\" x=\"158.5\" y=\"118\"/><text x=\"172.75\" y=\"133\">w</text></g></g><path d=\"M187.0 129a10 10 0 0 1 10 10v160a10 10 0 0 0 10 10\"/><path d=\"M138.5 309a10 10 0 0 0 10 -10v-190a10 10 0 0 1 10 -10\"/><g>\n",
       "<path d=\"M158.5 99h0.0\"/><path d=\"M187.0 99h0.0\"/><g class=\"terminal\">\n",
       "<path d=\"M158.5 99h0.0\"/><path d=\"M187.0 99h0.0\"/><rect height=\"22\" rx=\"10\" ry=\"10\" width=\"28.5\" x=\"158.5\" y=\"88\"/><text x=\"172.75\" y=\"103\">v</text></g></g><path d=\"M187.0 99a10 10 0 0 1 10 10v190a10 10 0 0 0 10 10\"/><path d=\"M138.5 309a10 10 0 0 0 10 -10v-220a10 10 0 0 1 10 -10\"/><g>\n",
       "<path d=\"M158.5 69h0.0\"/><path d=\"M187.0 69h0.0\"/><g class=\"terminal\">\n",
       "<path d=\"M158.5 69h0.0\"/><path d=\"M187.0 69h0.0\"/><rect height=\"22\" rx=\"10\" ry=\"10\" width=\"28.5\" x=\"158.5\" y=\"58\"/><text x=\"172.75\" y=\"73\">u</text></g></g><path d=\"M187.0 69a10 10 0 0 1 10 10v220a10 10 0 0 0 10 10\"/><path d=\"M138.5 309a10 10 0 0 0 10 -10v-250a10 10 0 0 1 10 -10\"/><g>\n",
       "<path d=\"M158.5 39h0.0\"/><path d=\"M187.0 39h0.0\"/><g class=\"terminal\">\n",
       "<path d=\"M158.5 39h0.0\"/><path d=\"M187.0 39h0.0\"/><rect height=\"22\" rx=\"10\" ry=\"10\" width=\"28.5\" x=\"158.5\" y=\"28\"/><text x=\"172.75\" y=\"43\">t</text></g></g><path d=\"M187.0 39a10 10 0 0 1 10 10v250a10 10 0 0 0 10 10\"/><path d=\"M138.5 309h20\"/><g>\n",
       "<path d=\"M158.5 309h0.0\"/><path d=\"M187.0 309h0.0\"/><g class=\"terminal\">\n",
       "<path d=\"M158.5 309h0.0\"/><path d=\"M187.0 309h0.0\"/><rect height=\"22\" rx=\"10\" ry=\"10\" width=\"28.5\" x=\"158.5\" y=\"298\"/><text x=\"172.75\" y=\"313\">C</text></g></g><path d=\"M187.0 309h20\"/><path d=\"M138.5 309a10 10 0 0 1 10 10v10a10 10 0 0 0 10 10\"/><g>\n",
       "<path d=\"M158.5 339h0.0\"/><path d=\"M187.0 339h0.0\"/><g class=\"terminal\">\n",
       "<path d=\"M158.5 339h0.0\"/><path d=\"M187.0 339h0.0\"/><rect height=\"22\" rx=\"10\" ry=\"10\" width=\"28.5\" x=\"158.5\" y=\"328\"/><text x=\"172.75\" y=\"343\">D</text></g></g><path d=\"M187.0 339a10 10 0 0 0 10 -10v-10a10 10 0 0 1 10 -10\"/><path d=\"M138.5 309a10 10 0 0 1 10 10v40a10 10 0 0 0 10 10\"/><g>\n",
       "<path d=\"M158.5 369h0.0\"/><path d=\"M187.0 369h0.0\"/><g class=\"terminal\">\n",
       "<path d=\"M158.5 369h0.0\"/><path d=\"M187.0 369h0.0\"/><rect height=\"22\" rx=\"10\" ry=\"10\" width=\"28.5\" x=\"158.5\" y=\"358\"/><text x=\"172.75\" y=\"373\">E</text></g></g><path d=\"M187.0 369a10 10 0 0 0 10 -10v-40a10 10 0 0 1 10 -10\"/><path d=\"M138.5 309a10 10 0 0 1 10 10v70a10 10 0 0 0 10 10\"/><g>\n",
       "<path d=\"M158.5 399h0.0\"/><path d=\"M187.0 399h0.0\"/><g class=\"terminal\">\n",
       "<path d=\"M158.5 399h0.0\"/><path d=\"M187.0 399h0.0\"/><rect height=\"22\" rx=\"10\" ry=\"10\" width=\"28.5\" x=\"158.5\" y=\"388\"/><text x=\"172.75\" y=\"403\">F</text></g></g><path d=\"M187.0 399a10 10 0 0 0 10 -10v-70a10 10 0 0 1 10 -10\"/><path d=\"M138.5 309a10 10 0 0 1 10 10v100a10 10 0 0 0 10 10\"/><g>\n",
       "<path d=\"M158.5 429h0.0\"/><path d=\"M187.0 429h0.0\"/><g class=\"terminal\">\n",
       "<path d=\"M158.5 429h0.0\"/><path d=\"M187.0 429h0.0\"/><rect height=\"22\" rx=\"10\" ry=\"10\" width=\"28.5\" x=\"158.5\" y=\"418\"/><text x=\"172.75\" y=\"433\">G</text></g></g><path d=\"M187.0 429a10 10 0 0 0 10 -10v-100a10 10 0 0 1 10 -10\"/><path d=\"M138.5 309a10 10 0 0 1 10 10v130a10 10 0 0 0 10 10\"/><g>\n",
       "<path d=\"M158.5 459h0.0\"/><path d=\"M187.0 459h0.0\"/><g class=\"terminal\">\n",
       "<path d=\"M158.5 459h0.0\"/><path d=\"M187.0 459h0.0\"/><rect height=\"22\" rx=\"10\" ry=\"10\" width=\"28.5\" x=\"158.5\" y=\"448\"/><text x=\"172.75\" y=\"463\">H</text></g></g><path d=\"M187.0 459a10 10 0 0 0 10 -10v-130a10 10 0 0 1 10 -10\"/><path d=\"M138.5 309a10 10 0 0 1 10 10v160a10 10 0 0 0 10 10\"/><g>\n",
       "<path d=\"M158.5 489h0.0\"/><path d=\"M187.0 489h0.0\"/><g class=\"terminal\">\n",
       "<path d=\"M158.5 489h0.0\"/><path d=\"M187.0 489h0.0\"/><rect height=\"22\" rx=\"10\" ry=\"10\" width=\"28.5\" x=\"158.5\" y=\"478\"/><text x=\"172.75\" y=\"493\">I</text></g></g><path d=\"M187.0 489a10 10 0 0 0 10 -10v-160a10 10 0 0 1 10 -10\"/><path d=\"M138.5 309a10 10 0 0 1 10 10v190a10 10 0 0 0 10 10\"/><g>\n",
       "<path d=\"M158.5 519h0.0\"/><path d=\"M187.0 519h0.0\"/><g class=\"terminal\">\n",
       "<path d=\"M158.5 519h0.0\"/><path d=\"M187.0 519h0.0\"/><rect height=\"22\" rx=\"10\" ry=\"10\" width=\"28.5\" x=\"158.5\" y=\"508\"/><text x=\"172.75\" y=\"523\">J</text></g></g><path d=\"M187.0 519a10 10 0 0 0 10 -10v-190a10 10 0 0 1 10 -10\"/><path d=\"M138.5 309a10 10 0 0 1 10 10v220a10 10 0 0 0 10 10\"/><g>\n",
       "<path d=\"M158.5 549h0.0\"/><path d=\"M187.0 549h0.0\"/><g class=\"terminal\">\n",
       "<path d=\"M158.5 549h0.0\"/><path d=\"M187.0 549h0.0\"/><rect height=\"22\" rx=\"10\" ry=\"10\" width=\"28.5\" x=\"158.5\" y=\"538\"/><text x=\"172.75\" y=\"553\">K</text></g></g><path d=\"M187.0 549a10 10 0 0 0 10 -10v-220a10 10 0 0 1 10 -10\"/><path d=\"M138.5 309a10 10 0 0 1 10 10v250a10 10 0 0 0 10 10\"/><g>\n",
       "<path d=\"M158.5 579h0.0\"/><path d=\"M187.0 579h0.0\"/><g class=\"terminal\">\n",
       "<path d=\"M158.5 579h0.0\"/><path d=\"M187.0 579h0.0\"/><rect height=\"22\" rx=\"10\" ry=\"10\" width=\"28.5\" x=\"158.5\" y=\"568\"/><text x=\"172.75\" y=\"583\">L</text></g></g><path d=\"M187.0 579a10 10 0 0 0 10 -10v-250a10 10 0 0 1 10 -10\"/></g><path d=\"M207.0 309a10 10 0 0 1 10 10v269a10 10 0 0 0 10 10\"/><path d=\"M207.0 20a10 10 0 0 1 10 10v269a10 10 0 0 0 10 10\"/><g>\n",
       "<path d=\"M227.0 309h0.0\"/><path d=\"M295.5 309h0.0\"/><path d=\"M227.0 309a10 10 0 0 0 10 -10v-10a10 10 0 0 1 10 -10\"/><g>\n",
       "<path d=\"M247.0 279h0.0\"/><path d=\"M275.5 279h0.0\"/><g class=\"terminal\">\n",
       "<path d=\"M247.0 279h0.0\"/><path d=\"M275.5 279h0.0\"/><rect height=\"22\" rx=\"10\" ry=\"10\" width=\"28.5\" x=\"247.0\" y=\"268\"/><text x=\"261.25\" y=\"283\">U</text></g></g><path d=\"M275.5 279a10 10 0 0 1 10 10v10a10 10 0 0 0 10 10\"/><path d=\"M227.0 309a10 10 0 0 0 10 -10v-40a10 10 0 0 1 10 -10\"/><g>\n",
       "<path d=\"M247.0 249h0.0\"/><path d=\"M275.5 249h0.0\"/><g class=\"terminal\">\n",
       "<path d=\"M247.0 249h0.0\"/><path d=\"M275.5 249h0.0\"/><rect height=\"22\" rx=\"10\" ry=\"10\" width=\"28.5\" x=\"247.0\" y=\"238\"/><text x=\"261.25\" y=\"253\">T</text></g></g><path d=\"M275.5 249a10 10 0 0 1 10 10v40a10 10 0 0 0 10 10\"/><path d=\"M227.0 309a10 10 0 0 0 10 -10v-70a10 10 0 0 1 10 -10\"/><g>\n",
       "<path d=\"M247.0 219h0.0\"/><path d=\"M275.5 219h0.0\"/><g class=\"terminal\">\n",
       "<path d=\"M247.0 219h0.0\"/><path d=\"M275.5 219h0.0\"/><rect height=\"22\" rx=\"10\" ry=\"10\" width=\"28.5\" x=\"247.0\" y=\"208\"/><text x=\"261.25\" y=\"223\">S</text></g></g><path d=\"M275.5 219a10 10 0 0 1 10 10v70a10 10 0 0 0 10 10\"/><path d=\"M227.0 309a10 10 0 0 0 10 -10v-100a10 10 0 0 1 10 -10\"/><g>\n",
       "<path d=\"M247.0 189h0.0\"/><path d=\"M275.5 189h0.0\"/><g class=\"terminal\">\n",
       "<path d=\"M247.0 189h0.0\"/><path d=\"M275.5 189h0.0\"/><rect height=\"22\" rx=\"10\" ry=\"10\" width=\"28.5\" x=\"247.0\" y=\"178\"/><text x=\"261.25\" y=\"193\">R</text></g></g><path d=\"M275.5 189a10 10 0 0 1 10 10v100a10 10 0 0 0 10 10\"/><path d=\"M227.0 309a10 10 0 0 0 10 -10v-130a10 10 0 0 1 10 -10\"/><g>\n",
       "<path d=\"M247.0 159h0.0\"/><path d=\"M275.5 159h0.0\"/><g class=\"terminal\">\n",
       "<path d=\"M247.0 159h0.0\"/><path d=\"M275.5 159h0.0\"/><rect height=\"22\" rx=\"10\" ry=\"10\" width=\"28.5\" x=\"247.0\" y=\"148\"/><text x=\"261.25\" y=\"163\">Q</text></g></g><path d=\"M275.5 159a10 10 0 0 1 10 10v130a10 10 0 0 0 10 10\"/><path d=\"M227.0 309a10 10 0 0 0 10 -10v-160a10 10 0 0 1 10 -10\"/><g>\n",
       "<path d=\"M247.0 129h0.0\"/><path d=\"M275.5 129h0.0\"/><g class=\"terminal\">\n",
       "<path d=\"M247.0 129h0.0\"/><path d=\"M275.5 129h0.0\"/><rect height=\"22\" rx=\"10\" ry=\"10\" width=\"28.5\" x=\"247.0\" y=\"118\"/><text x=\"261.25\" y=\"133\">P</text></g></g><path d=\"M275.5 129a10 10 0 0 1 10 10v160a10 10 0 0 0 10 10\"/><path d=\"M227.0 309a10 10 0 0 0 10 -10v-190a10 10 0 0 1 10 -10\"/><g>\n",
       "<path d=\"M247.0 99h0.0\"/><path d=\"M275.5 99h0.0\"/><g class=\"terminal\">\n",
       "<path d=\"M247.0 99h0.0\"/><path d=\"M275.5 99h0.0\"/><rect height=\"22\" rx=\"10\" ry=\"10\" width=\"28.5\" x=\"247.0\" y=\"88\"/><text x=\"261.25\" y=\"103\">O</text></g></g><path d=\"M275.5 99a10 10 0 0 1 10 10v190a10 10 0 0 0 10 10\"/><path d=\"M227.0 309a10 10 0 0 0 10 -10v-220a10 10 0 0 1 10 -10\"/><g>\n",
       "<path d=\"M247.0 69h0.0\"/><path d=\"M275.5 69h0.0\"/><g class=\"terminal\">\n",
       "<path d=\"M247.0 69h0.0\"/><path d=\"M275.5 69h0.0\"/><rect height=\"22\" rx=\"10\" ry=\"10\" width=\"28.5\" x=\"247.0\" y=\"58\"/><text x=\"261.25\" y=\"73\">N</text></g></g><path d=\"M275.5 69a10 10 0 0 1 10 10v220a10 10 0 0 0 10 10\"/><path d=\"M227.0 309a10 10 0 0 0 10 -10v-250a10 10 0 0 1 10 -10\"/><g>\n",
       "<path d=\"M247.0 39h0.0\"/><path d=\"M275.5 39h0.0\"/><g class=\"terminal\">\n",
       "<path d=\"M247.0 39h0.0\"/><path d=\"M275.5 39h0.0\"/><rect height=\"22\" rx=\"10\" ry=\"10\" width=\"28.5\" x=\"247.0\" y=\"28\"/><text x=\"261.25\" y=\"43\">M</text></g></g><path d=\"M275.5 39a10 10 0 0 1 10 10v250a10 10 0 0 0 10 10\"/><path d=\"M227.0 309h20\"/><g>\n",
       "<path d=\"M247.0 309h0.0\"/><path d=\"M275.5 309h0.0\"/><g class=\"terminal\">\n",
       "<path d=\"M247.0 309h0.0\"/><path d=\"M275.5 309h0.0\"/><rect height=\"22\" rx=\"10\" ry=\"10\" width=\"28.5\" x=\"247.0\" y=\"298\"/><text x=\"261.25\" y=\"313\">V</text></g></g><path d=\"M275.5 309h20\"/><path d=\"M227.0 309a10 10 0 0 1 10 10v10a10 10 0 0 0 10 10\"/><g>\n",
       "<path d=\"M247.0 339h0.0\"/><path d=\"M275.5 339h0.0\"/><g class=\"terminal\">\n",
       "<path d=\"M247.0 339h0.0\"/><path d=\"M275.5 339h0.0\"/><rect height=\"22\" rx=\"10\" ry=\"10\" width=\"28.5\" x=\"247.0\" y=\"328\"/><text x=\"261.25\" y=\"343\">W</text></g></g><path d=\"M275.5 339a10 10 0 0 0 10 -10v-10a10 10 0 0 1 10 -10\"/><path d=\"M227.0 309a10 10 0 0 1 10 10v40a10 10 0 0 0 10 10\"/><g>\n",
       "<path d=\"M247.0 369h0.0\"/><path d=\"M275.5 369h0.0\"/><g class=\"terminal\">\n",
       "<path d=\"M247.0 369h0.0\"/><path d=\"M275.5 369h0.0\"/><rect height=\"22\" rx=\"10\" ry=\"10\" width=\"28.5\" x=\"247.0\" y=\"358\"/><text x=\"261.25\" y=\"373\">X</text></g></g><path d=\"M275.5 369a10 10 0 0 0 10 -10v-40a10 10 0 0 1 10 -10\"/><path d=\"M227.0 309a10 10 0 0 1 10 10v70a10 10 0 0 0 10 10\"/><g>\n",
       "<path d=\"M247.0 399h0.0\"/><path d=\"M275.5 399h0.0\"/><g class=\"terminal\">\n",
       "<path d=\"M247.0 399h0.0\"/><path d=\"M275.5 399h0.0\"/><rect height=\"22\" rx=\"10\" ry=\"10\" width=\"28.5\" x=\"247.0\" y=\"388\"/><text x=\"261.25\" y=\"403\">Y</text></g></g><path d=\"M275.5 399a10 10 0 0 0 10 -10v-70a10 10 0 0 1 10 -10\"/><path d=\"M227.0 309a10 10 0 0 1 10 10v100a10 10 0 0 0 10 10\"/><g>\n",
       "<path d=\"M247.0 429h0.0\"/><path d=\"M275.5 429h0.0\"/><g class=\"terminal\">\n",
       "<path d=\"M247.0 429h0.0\"/><path d=\"M275.5 429h0.0\"/><rect height=\"22\" rx=\"10\" ry=\"10\" width=\"28.5\" x=\"247.0\" y=\"418\"/><text x=\"261.25\" y=\"433\">Z</text></g></g><path d=\"M275.5 429a10 10 0 0 0 10 -10v-100a10 10 0 0 1 10 -10\"/><path d=\"M227.0 309a10 10 0 0 1 10 10v130a10 10 0 0 0 10 10\"/><g>\n",
       "<path d=\"M247.0 459h0.0\"/><path d=\"M275.5 459h0.0\"/><g class=\"terminal\">\n",
       "<path d=\"M247.0 459h0.0\"/><path d=\"M275.5 459h0.0\"/><rect height=\"22\" rx=\"10\" ry=\"10\" width=\"28.5\" x=\"247.0\" y=\"448\"/><text x=\"261.25\" y=\"463\">0</text></g></g><path d=\"M275.5 459a10 10 0 0 0 10 -10v-130a10 10 0 0 1 10 -10\"/><path d=\"M227.0 309a10 10 0 0 1 10 10v160a10 10 0 0 0 10 10\"/><g>\n",
       "<path d=\"M247.0 489h0.0\"/><path d=\"M275.5 489h0.0\"/><g class=\"terminal\">\n",
       "<path d=\"M247.0 489h0.0\"/><path d=\"M275.5 489h0.0\"/><rect height=\"22\" rx=\"10\" ry=\"10\" width=\"28.5\" x=\"247.0\" y=\"478\"/><text x=\"261.25\" y=\"493\">1</text></g></g><path d=\"M275.5 489a10 10 0 0 0 10 -10v-160a10 10 0 0 1 10 -10\"/><path d=\"M227.0 309a10 10 0 0 1 10 10v190a10 10 0 0 0 10 10\"/><g>\n",
       "<path d=\"M247.0 519h0.0\"/><path d=\"M275.5 519h0.0\"/><g class=\"terminal\">\n",
       "<path d=\"M247.0 519h0.0\"/><path d=\"M275.5 519h0.0\"/><rect height=\"22\" rx=\"10\" ry=\"10\" width=\"28.5\" x=\"247.0\" y=\"508\"/><text x=\"261.25\" y=\"523\">2</text></g></g><path d=\"M275.5 519a10 10 0 0 0 10 -10v-190a10 10 0 0 1 10 -10\"/><path d=\"M227.0 309a10 10 0 0 1 10 10v220a10 10 0 0 0 10 10\"/><g>\n",
       "<path d=\"M247.0 549h0.0\"/><path d=\"M275.5 549h0.0\"/><g class=\"terminal\">\n",
       "<path d=\"M247.0 549h0.0\"/><path d=\"M275.5 549h0.0\"/><rect height=\"22\" rx=\"10\" ry=\"10\" width=\"28.5\" x=\"247.0\" y=\"538\"/><text x=\"261.25\" y=\"553\">3</text></g></g><path d=\"M275.5 549a10 10 0 0 0 10 -10v-220a10 10 0 0 1 10 -10\"/><path d=\"M227.0 309a10 10 0 0 1 10 10v250a10 10 0 0 0 10 10\"/><g>\n",
       "<path d=\"M247.0 579h0.0\"/><path d=\"M275.5 579h0.0\"/><g class=\"terminal\">\n",
       "<path d=\"M247.0 579h0.0\"/><path d=\"M275.5 579h0.0\"/><rect height=\"22\" rx=\"10\" ry=\"10\" width=\"28.5\" x=\"247.0\" y=\"568\"/><text x=\"261.25\" y=\"583\">4</text></g></g><path d=\"M275.5 579a10 10 0 0 0 10 -10v-250a10 10 0 0 1 10 -10\"/></g><path d=\"M295.5 309a10 10 0 0 1 10 10v269a10 10 0 0 0 10 10\"/><path d=\"M295.5 20a10 10 0 0 1 10 10v269a10 10 0 0 0 10 10\"/><g>\n",
       "<path d=\"M315.5 309h0.0\"/><path d=\"M384.0 309h0.0\"/><path d=\"M315.5 309a10 10 0 0 0 10 -10v-10a10 10 0 0 1 10 -10\"/><g>\n",
       "<path d=\"M335.5 279h0.0\"/><path d=\"M364.0 279h0.0\"/><g class=\"terminal\">\n",
       "<path d=\"M335.5 279h0.0\"/><path d=\"M364.0 279h0.0\"/><rect height=\"22\" rx=\"10\" ry=\"10\" width=\"28.5\" x=\"335.5\" y=\"268\"/><text x=\"349.75\" y=\"283\">$</text></g></g><path d=\"M364.0 279a10 10 0 0 1 10 10v10a10 10 0 0 0 10 10\"/><path d=\"M315.5 309a10 10 0 0 0 10 -10v-40a10 10 0 0 1 10 -10\"/><g>\n",
       "<path d=\"M335.5 249h0.0\"/><path d=\"M364.0 249h0.0\"/><g class=\"terminal\">\n",
       "<path d=\"M335.5 249h0.0\"/><path d=\"M364.0 249h0.0\"/><rect height=\"22\" rx=\"10\" ry=\"10\" width=\"28.5\" x=\"335.5\" y=\"238\"/><text x=\"349.75\" y=\"253\">#</text></g></g><path d=\"M364.0 249a10 10 0 0 1 10 10v40a10 10 0 0 0 10 10\"/><path d=\"M315.5 309a10 10 0 0 0 10 -10v-70a10 10 0 0 1 10 -10\"/><g>\n",
       "<path d=\"M335.5 219h0.0\"/><path d=\"M364.0 219h0.0\"/><g class=\"terminal\">\n",
       "<path d=\"M335.5 219h0.0\"/><path d=\"M364.0 219h0.0\"/><rect height=\"22\" rx=\"10\" ry=\"10\" width=\"28.5\" x=\"335.5\" y=\"208\"/><text x=\"349.75\" y=\"223\">&quot;</text></g></g><path d=\"M364.0 219a10 10 0 0 1 10 10v70a10 10 0 0 0 10 10\"/><path d=\"M315.5 309a10 10 0 0 0 10 -10v-100a10 10 0 0 1 10 -10\"/><g>\n",
       "<path d=\"M335.5 189h0.0\"/><path d=\"M364.0 189h0.0\"/><g class=\"terminal\">\n",
       "<path d=\"M335.5 189h0.0\"/><path d=\"M364.0 189h0.0\"/><rect height=\"22\" rx=\"10\" ry=\"10\" width=\"28.5\" x=\"335.5\" y=\"178\"/><text x=\"349.75\" y=\"193\">!</text></g></g><path d=\"M364.0 189a10 10 0 0 1 10 10v100a10 10 0 0 0 10 10\"/><path d=\"M315.5 309a10 10 0 0 0 10 -10v-130a10 10 0 0 1 10 -10\"/><g>\n",
       "<path d=\"M335.5 159h0.0\"/><path d=\"M364.0 159h0.0\"/><g class=\"terminal\">\n",
       "<path d=\"M335.5 159h0.0\"/><path d=\"M364.0 159h0.0\"/><rect height=\"22\" rx=\"10\" ry=\"10\" width=\"28.5\" x=\"335.5\" y=\"148\"/><text x=\"349.75\" y=\"163\">9</text></g></g><path d=\"M364.0 159a10 10 0 0 1 10 10v130a10 10 0 0 0 10 10\"/><path d=\"M315.5 309a10 10 0 0 0 10 -10v-160a10 10 0 0 1 10 -10\"/><g>\n",
       "<path d=\"M335.5 129h0.0\"/><path d=\"M364.0 129h0.0\"/><g class=\"terminal\">\n",
       "<path d=\"M335.5 129h0.0\"/><path d=\"M364.0 129h0.0\"/><rect height=\"22\" rx=\"10\" ry=\"10\" width=\"28.5\" x=\"335.5\" y=\"118\"/><text x=\"349.75\" y=\"133\">8</text></g></g><path d=\"M364.0 129a10 10 0 0 1 10 10v160a10 10 0 0 0 10 10\"/><path d=\"M315.5 309a10 10 0 0 0 10 -10v-190a10 10 0 0 1 10 -10\"/><g>\n",
       "<path d=\"M335.5 99h0.0\"/><path d=\"M364.0 99h0.0\"/><g class=\"terminal\">\n",
       "<path d=\"M335.5 99h0.0\"/><path d=\"M364.0 99h0.0\"/><rect height=\"22\" rx=\"10\" ry=\"10\" width=\"28.5\" x=\"335.5\" y=\"88\"/><text x=\"349.75\" y=\"103\">7</text></g></g><path d=\"M364.0 99a10 10 0 0 1 10 10v190a10 10 0 0 0 10 10\"/><path d=\"M315.5 309a10 10 0 0 0 10 -10v-220a10 10 0 0 1 10 -10\"/><g>\n",
       "<path d=\"M335.5 69h0.0\"/><path d=\"M364.0 69h0.0\"/><g class=\"terminal\">\n",
       "<path d=\"M335.5 69h0.0\"/><path d=\"M364.0 69h0.0\"/><rect height=\"22\" rx=\"10\" ry=\"10\" width=\"28.5\" x=\"335.5\" y=\"58\"/><text x=\"349.75\" y=\"73\">6</text></g></g><path d=\"M364.0 69a10 10 0 0 1 10 10v220a10 10 0 0 0 10 10\"/><path d=\"M315.5 309a10 10 0 0 0 10 -10v-250a10 10 0 0 1 10 -10\"/><g>\n",
       "<path d=\"M335.5 39h0.0\"/><path d=\"M364.0 39h0.0\"/><g class=\"terminal\">\n",
       "<path d=\"M335.5 39h0.0\"/><path d=\"M364.0 39h0.0\"/><rect height=\"22\" rx=\"10\" ry=\"10\" width=\"28.5\" x=\"335.5\" y=\"28\"/><text x=\"349.75\" y=\"43\">5</text></g></g><path d=\"M364.0 39a10 10 0 0 1 10 10v250a10 10 0 0 0 10 10\"/><path d=\"M315.5 309h20\"/><g>\n",
       "<path d=\"M335.5 309h0.0\"/><path d=\"M364.0 309h0.0\"/><g class=\"terminal\">\n",
       "<path d=\"M335.5 309h0.0\"/><path d=\"M364.0 309h0.0\"/><rect height=\"22\" rx=\"10\" ry=\"10\" width=\"28.5\" x=\"335.5\" y=\"298\"/><text x=\"349.75\" y=\"313\">%</text></g></g><path d=\"M364.0 309h20\"/><path d=\"M315.5 309a10 10 0 0 1 10 10v10a10 10 0 0 0 10 10\"/><g>\n",
       "<path d=\"M335.5 339h0.0\"/><path d=\"M364.0 339h0.0\"/><g class=\"terminal\">\n",
       "<path d=\"M335.5 339h0.0\"/><path d=\"M364.0 339h0.0\"/><rect height=\"22\" rx=\"10\" ry=\"10\" width=\"28.5\" x=\"335.5\" y=\"328\"/><text x=\"349.75\" y=\"343\">&amp;</text></g></g><path d=\"M364.0 339a10 10 0 0 0 10 -10v-10a10 10 0 0 1 10 -10\"/><path d=\"M315.5 309a10 10 0 0 1 10 10v40a10 10 0 0 0 10 10\"/><g>\n",
       "<path d=\"M335.5 369h0.0\"/><path d=\"M364.0 369h0.0\"/><g class=\"terminal\">\n",
       "<path d=\"M335.5 369h0.0\"/><path d=\"M364.0 369h0.0\"/><rect height=\"22\" rx=\"10\" ry=\"10\" width=\"28.5\" x=\"335.5\" y=\"358\"/><text x=\"349.75\" y=\"373\">'</text></g></g><path d=\"M364.0 369a10 10 0 0 0 10 -10v-40a10 10 0 0 1 10 -10\"/><path d=\"M315.5 309a10 10 0 0 1 10 10v70a10 10 0 0 0 10 10\"/><g>\n",
       "<path d=\"M335.5 399h0.0\"/><path d=\"M364.0 399h0.0\"/><g class=\"terminal\">\n",
       "<path d=\"M335.5 399h0.0\"/><path d=\"M364.0 399h0.0\"/><rect height=\"22\" rx=\"10\" ry=\"10\" width=\"28.5\" x=\"335.5\" y=\"388\"/><text x=\"349.75\" y=\"403\">(</text></g></g><path d=\"M364.0 399a10 10 0 0 0 10 -10v-70a10 10 0 0 1 10 -10\"/><path d=\"M315.5 309a10 10 0 0 1 10 10v100a10 10 0 0 0 10 10\"/><g>\n",
       "<path d=\"M335.5 429h0.0\"/><path d=\"M364.0 429h0.0\"/><g class=\"terminal\">\n",
       "<path d=\"M335.5 429h0.0\"/><path d=\"M364.0 429h0.0\"/><rect height=\"22\" rx=\"10\" ry=\"10\" width=\"28.5\" x=\"335.5\" y=\"418\"/><text x=\"349.75\" y=\"433\">)</text></g></g><path d=\"M364.0 429a10 10 0 0 0 10 -10v-100a10 10 0 0 1 10 -10\"/><path d=\"M315.5 309a10 10 0 0 1 10 10v130a10 10 0 0 0 10 10\"/><g>\n",
       "<path d=\"M335.5 459h0.0\"/><path d=\"M364.0 459h0.0\"/><g class=\"terminal\">\n",
       "<path d=\"M335.5 459h0.0\"/><path d=\"M364.0 459h0.0\"/><rect height=\"22\" rx=\"10\" ry=\"10\" width=\"28.5\" x=\"335.5\" y=\"448\"/><text x=\"349.75\" y=\"463\">*</text></g></g><path d=\"M364.0 459a10 10 0 0 0 10 -10v-130a10 10 0 0 1 10 -10\"/><path d=\"M315.5 309a10 10 0 0 1 10 10v160a10 10 0 0 0 10 10\"/><g>\n",
       "<path d=\"M335.5 489h0.0\"/><path d=\"M364.0 489h0.0\"/><g class=\"terminal\">\n",
       "<path d=\"M335.5 489h0.0\"/><path d=\"M364.0 489h0.0\"/><rect height=\"22\" rx=\"10\" ry=\"10\" width=\"28.5\" x=\"335.5\" y=\"478\"/><text x=\"349.75\" y=\"493\">+</text></g></g><path d=\"M364.0 489a10 10 0 0 0 10 -10v-160a10 10 0 0 1 10 -10\"/><path d=\"M315.5 309a10 10 0 0 1 10 10v190a10 10 0 0 0 10 10\"/><g>\n",
       "<path d=\"M335.5 519h0.0\"/><path d=\"M364.0 519h0.0\"/><g class=\"terminal\">\n",
       "<path d=\"M335.5 519h0.0\"/><path d=\"M364.0 519h0.0\"/><rect height=\"22\" rx=\"10\" ry=\"10\" width=\"28.5\" x=\"335.5\" y=\"508\"/><text x=\"349.75\" y=\"523\">,</text></g></g><path d=\"M364.0 519a10 10 0 0 0 10 -10v-190a10 10 0 0 1 10 -10\"/><path d=\"M315.5 309a10 10 0 0 1 10 10v220a10 10 0 0 0 10 10\"/><g>\n",
       "<path d=\"M335.5 549h0.0\"/><path d=\"M364.0 549h0.0\"/><g class=\"terminal\">\n",
       "<path d=\"M335.5 549h0.0\"/><path d=\"M364.0 549h0.0\"/><rect height=\"22\" rx=\"10\" ry=\"10\" width=\"28.5\" x=\"335.5\" y=\"538\"/><text x=\"349.75\" y=\"553\">-</text></g></g><path d=\"M364.0 549a10 10 0 0 0 10 -10v-220a10 10 0 0 1 10 -10\"/><path d=\"M315.5 309a10 10 0 0 1 10 10v250a10 10 0 0 0 10 10\"/><g>\n",
       "<path d=\"M335.5 579h0.0\"/><path d=\"M364.0 579h0.0\"/><g class=\"terminal\">\n",
       "<path d=\"M335.5 579h0.0\"/><path d=\"M364.0 579h0.0\"/><rect height=\"22\" rx=\"10\" ry=\"10\" width=\"28.5\" x=\"335.5\" y=\"568\"/><text x=\"349.75\" y=\"583\">.</text></g></g><path d=\"M364.0 579a10 10 0 0 0 10 -10v-250a10 10 0 0 1 10 -10\"/></g><path d=\"M384.0 309a10 10 0 0 1 10 10v269a10 10 0 0 0 10 10\"/><path d=\"M384.0 20a10 10 0 0 1 10 10v269a10 10 0 0 0 10 10\"/><g>\n",
       "<path d=\"M404.0 309h0.0\"/><path d=\"M472.5 309h0.0\"/><path d=\"M404.0 309a10 10 0 0 0 10 -10v-10a10 10 0 0 1 10 -10\"/><g>\n",
       "<path d=\"M424.0 279h0.0\"/><path d=\"M452.5 279h0.0\"/><g class=\"terminal\">\n",
       "<path d=\"M424.0 279h0.0\"/><path d=\"M452.5 279h0.0\"/><rect height=\"22\" rx=\"10\" ry=\"10\" width=\"28.5\" x=\"424.0\" y=\"268\"/><text x=\"438.25\" y=\"283\">[</text></g></g><path d=\"M452.5 279a10 10 0 0 1 10 10v10a10 10 0 0 0 10 10\"/><path d=\"M404.0 309a10 10 0 0 0 10 -10v-40a10 10 0 0 1 10 -10\"/><g>\n",
       "<path d=\"M424.0 249h0.0\"/><path d=\"M452.5 249h0.0\"/><g class=\"terminal\">\n",
       "<path d=\"M424.0 249h0.0\"/><path d=\"M452.5 249h0.0\"/><rect height=\"22\" rx=\"10\" ry=\"10\" width=\"28.5\" x=\"424.0\" y=\"238\"/><text x=\"438.25\" y=\"253\">@</text></g></g><path d=\"M452.5 249a10 10 0 0 1 10 10v40a10 10 0 0 0 10 10\"/><path d=\"M404.0 309a10 10 0 0 0 10 -10v-70a10 10 0 0 1 10 -10\"/><g>\n",
       "<path d=\"M424.0 219h0.0\"/><path d=\"M452.5 219h0.0\"/><g class=\"terminal\">\n",
       "<path d=\"M424.0 219h0.0\"/><path d=\"M452.5 219h0.0\"/><rect height=\"22\" rx=\"10\" ry=\"10\" width=\"28.5\" x=\"424.0\" y=\"208\"/><text x=\"438.25\" y=\"223\">?</text></g></g><path d=\"M452.5 219a10 10 0 0 1 10 10v70a10 10 0 0 0 10 10\"/><path d=\"M404.0 309a10 10 0 0 0 10 -10v-100a10 10 0 0 1 10 -10\"/><g>\n",
       "<path d=\"M424.0 189h0.0\"/><path d=\"M452.5 189h0.0\"/><g class=\"terminal\">\n",
       "<path d=\"M424.0 189h0.0\"/><path d=\"M452.5 189h0.0\"/><rect height=\"22\" rx=\"10\" ry=\"10\" width=\"28.5\" x=\"424.0\" y=\"178\"/><text x=\"438.25\" y=\"193\">&gt;</text></g></g><path d=\"M452.5 189a10 10 0 0 1 10 10v100a10 10 0 0 0 10 10\"/><path d=\"M404.0 309a10 10 0 0 0 10 -10v-130a10 10 0 0 1 10 -10\"/><g>\n",
       "<path d=\"M424.0 159h0.0\"/><path d=\"M452.5 159h0.0\"/><g class=\"terminal\">\n",
       "<path d=\"M424.0 159h0.0\"/><path d=\"M452.5 159h0.0\"/><rect height=\"22\" rx=\"10\" ry=\"10\" width=\"28.5\" x=\"424.0\" y=\"148\"/><text x=\"438.25\" y=\"163\">=</text></g></g><path d=\"M452.5 159a10 10 0 0 1 10 10v130a10 10 0 0 0 10 10\"/><path d=\"M404.0 309a10 10 0 0 0 10 -10v-160a10 10 0 0 1 10 -10\"/><g>\n",
       "<path d=\"M424.0 129h0.0\"/><path d=\"M452.5 129h0.0\"/><g class=\"terminal\">\n",
       "<path d=\"M424.0 129h0.0\"/><path d=\"M452.5 129h0.0\"/><rect height=\"22\" rx=\"10\" ry=\"10\" width=\"28.5\" x=\"424.0\" y=\"118\"/><text x=\"438.25\" y=\"133\">&lt;</text></g></g><path d=\"M452.5 129a10 10 0 0 1 10 10v160a10 10 0 0 0 10 10\"/><path d=\"M404.0 309a10 10 0 0 0 10 -10v-190a10 10 0 0 1 10 -10\"/><g>\n",
       "<path d=\"M424.0 99h0.0\"/><path d=\"M452.5 99h0.0\"/><g class=\"terminal\">\n",
       "<path d=\"M424.0 99h0.0\"/><path d=\"M452.5 99h0.0\"/><rect height=\"22\" rx=\"10\" ry=\"10\" width=\"28.5\" x=\"424.0\" y=\"88\"/><text x=\"438.25\" y=\"103\">;</text></g></g><path d=\"M452.5 99a10 10 0 0 1 10 10v190a10 10 0 0 0 10 10\"/><path d=\"M404.0 309a10 10 0 0 0 10 -10v-220a10 10 0 0 1 10 -10\"/><g>\n",
       "<path d=\"M424.0 69h0.0\"/><path d=\"M452.5 69h0.0\"/><g class=\"terminal\">\n",
       "<path d=\"M424.0 69h0.0\"/><path d=\"M452.5 69h0.0\"/><rect height=\"22\" rx=\"10\" ry=\"10\" width=\"28.5\" x=\"424.0\" y=\"58\"/><text x=\"438.25\" y=\"73\">:</text></g></g><path d=\"M452.5 69a10 10 0 0 1 10 10v220a10 10 0 0 0 10 10\"/><path d=\"M404.0 309a10 10 0 0 0 10 -10v-250a10 10 0 0 1 10 -10\"/><g>\n",
       "<path d=\"M424.0 39h0.0\"/><path d=\"M452.5 39h0.0\"/><g class=\"terminal\">\n",
       "<path d=\"M424.0 39h0.0\"/><path d=\"M452.5 39h0.0\"/><rect height=\"22\" rx=\"10\" ry=\"10\" width=\"28.5\" x=\"424.0\" y=\"28\"/><text x=\"438.25\" y=\"43\">/</text></g></g><path d=\"M452.5 39a10 10 0 0 1 10 10v250a10 10 0 0 0 10 10\"/><path d=\"M404.0 309h20\"/><g>\n",
       "<path d=\"M424.0 309h0.0\"/><path d=\"M452.5 309h0.0\"/><g class=\"terminal\">\n",
       "<path d=\"M424.0 309h0.0\"/><path d=\"M452.5 309h0.0\"/><rect height=\"22\" rx=\"10\" ry=\"10\" width=\"28.5\" x=\"424.0\" y=\"298\"/><text x=\"438.25\" y=\"313\">\\</text></g></g><path d=\"M452.5 309h20\"/><path d=\"M404.0 309a10 10 0 0 1 10 10v10a10 10 0 0 0 10 10\"/><g>\n",
       "<path d=\"M424.0 339h0.0\"/><path d=\"M452.5 339h0.0\"/><g class=\"terminal\">\n",
       "<path d=\"M424.0 339h0.0\"/><path d=\"M452.5 339h0.0\"/><rect height=\"22\" rx=\"10\" ry=\"10\" width=\"28.5\" x=\"424.0\" y=\"328\"/><text x=\"438.25\" y=\"343\">]</text></g></g><path d=\"M452.5 339a10 10 0 0 0 10 -10v-10a10 10 0 0 1 10 -10\"/><path d=\"M404.0 309a10 10 0 0 1 10 10v40a10 10 0 0 0 10 10\"/><g>\n",
       "<path d=\"M424.0 369h0.0\"/><path d=\"M452.5 369h0.0\"/><g class=\"terminal\">\n",
       "<path d=\"M424.0 369h0.0\"/><path d=\"M452.5 369h0.0\"/><rect height=\"22\" rx=\"10\" ry=\"10\" width=\"28.5\" x=\"424.0\" y=\"358\"/><text x=\"438.25\" y=\"373\">^</text></g></g><path d=\"M452.5 369a10 10 0 0 0 10 -10v-40a10 10 0 0 1 10 -10\"/><path d=\"M404.0 309a10 10 0 0 1 10 10v70a10 10 0 0 0 10 10\"/><g>\n",
       "<path d=\"M424.0 399h0.0\"/><path d=\"M452.5 399h0.0\"/><g class=\"terminal\">\n",
       "<path d=\"M424.0 399h0.0\"/><path d=\"M452.5 399h0.0\"/><rect height=\"22\" rx=\"10\" ry=\"10\" width=\"28.5\" x=\"424.0\" y=\"388\"/><text x=\"438.25\" y=\"403\">_</text></g></g><path d=\"M452.5 399a10 10 0 0 0 10 -10v-70a10 10 0 0 1 10 -10\"/><path d=\"M404.0 309a10 10 0 0 1 10 10v100a10 10 0 0 0 10 10\"/><g>\n",
       "<path d=\"M424.0 429h0.0\"/><path d=\"M452.5 429h0.0\"/><g class=\"terminal\">\n",
       "<path d=\"M424.0 429h0.0\"/><path d=\"M452.5 429h0.0\"/><rect height=\"22\" rx=\"10\" ry=\"10\" width=\"28.5\" x=\"424.0\" y=\"418\"/><text x=\"438.25\" y=\"433\">`</text></g></g><path d=\"M452.5 429a10 10 0 0 0 10 -10v-100a10 10 0 0 1 10 -10\"/><path d=\"M404.0 309a10 10 0 0 1 10 10v130a10 10 0 0 0 10 10\"/><g>\n",
       "<path d=\"M424.0 459h0.0\"/><path d=\"M452.5 459h0.0\"/><g class=\"terminal\">\n",
       "<path d=\"M424.0 459h0.0\"/><path d=\"M452.5 459h0.0\"/><rect height=\"22\" rx=\"10\" ry=\"10\" width=\"28.5\" x=\"424.0\" y=\"448\"/><text x=\"438.25\" y=\"463\">{</text></g></g><path d=\"M452.5 459a10 10 0 0 0 10 -10v-130a10 10 0 0 1 10 -10\"/><path d=\"M404.0 309a10 10 0 0 1 10 10v160a10 10 0 0 0 10 10\"/><g>\n",
       "<path d=\"M424.0 489h0.0\"/><path d=\"M452.5 489h0.0\"/><g class=\"terminal\">\n",
       "<path d=\"M424.0 489h0.0\"/><path d=\"M452.5 489h0.0\"/><rect height=\"22\" rx=\"10\" ry=\"10\" width=\"28.5\" x=\"424.0\" y=\"478\"/><text x=\"438.25\" y=\"493\">|</text></g></g><path d=\"M452.5 489a10 10 0 0 0 10 -10v-160a10 10 0 0 1 10 -10\"/><path d=\"M404.0 309a10 10 0 0 1 10 10v190a10 10 0 0 0 10 10\"/><g>\n",
       "<path d=\"M424.0 519h0.0\"/><path d=\"M452.5 519h0.0\"/><g class=\"terminal\">\n",
       "<path d=\"M424.0 519h0.0\"/><path d=\"M452.5 519h0.0\"/><rect height=\"22\" rx=\"10\" ry=\"10\" width=\"28.5\" x=\"424.0\" y=\"508\"/><text x=\"438.25\" y=\"523\">}</text></g></g><path d=\"M452.5 519a10 10 0 0 0 10 -10v-190a10 10 0 0 1 10 -10\"/><path d=\"M404.0 309a10 10 0 0 1 10 10v220a10 10 0 0 0 10 10\"/><g>\n",
       "<path d=\"M424.0 549h0.0\"/><path d=\"M452.5 549h0.0\"/><g class=\"terminal\">\n",
       "<path d=\"M424.0 549h0.0\"/><path d=\"M452.5 549h0.0\"/><rect height=\"22\" rx=\"10\" ry=\"10\" width=\"28.5\" x=\"424.0\" y=\"538\"/><text x=\"438.25\" y=\"553\">~</text></g></g><path d=\"M452.5 549a10 10 0 0 0 10 -10v-220a10 10 0 0 1 10 -10\"/><path d=\"M404.0 309a10 10 0 0 1 10 10v250a10 10 0 0 0 10 10\"/><g>\n",
       "<path d=\"M424.0 579h0.0\"/><path d=\"M452.5 579h0.0\"/><g class=\"terminal\">\n",
       "<path d=\"M424.0 579h0.0\"/><path d=\"M452.5 579h0.0\"/><rect height=\"22\" rx=\"10\" ry=\"10\" width=\"28.5\" x=\"424.0\" y=\"568\"/><text x=\"438.25\" y=\"583\"> </text></g></g><path d=\"M452.5 579a10 10 0 0 0 10 -10v-250a10 10 0 0 1 10 -10\"/></g><path d=\"M472.5 309a10 10 0 0 1 10 10v269a10 10 0 0 0 10 10\"/><path d=\"M472.5 20a10 10 0 0 1 10 10v269a10 10 0 0 0 10 10\"/><g>\n",
       "<path d=\"M492.5 309h0.0\"/><path d=\"M561.0 309h0.0\"/><path d=\"M492.5 309a10 10 0 0 0 10 -10v-10a10 10 0 0 1 10 -10\"/><g>\n",
       "<path d=\"M512.5 279h0.0\"/><path d=\"M541.0 279h0.0\"/><g class=\"terminal\">\n",
       "<path d=\"M512.5 279h0.0\"/><path d=\"M541.0 279h0.0\"/><rect height=\"22\" rx=\"10\" ry=\"10\" width=\"28.5\" x=\"512.5\" y=\"268\"/><text x=\"526.75\" y=\"283\">\t</text></g></g><path d=\"M541.0 279a10 10 0 0 1 10 10v10a10 10 0 0 0 10 10\"/><path d=\"M492.5 309h20\"/><g>\n",
       "<path d=\"M512.5 309h0.0\"/><path d=\"M541.0 309h0.0\"/><g class=\"terminal\">\n",
       "<path d=\"M512.5 309h0.0\"/><path d=\"M541.0 309h0.0\"/><rect height=\"22\" rx=\"10\" ry=\"10\" width=\"28.5\" x=\"512.5\" y=\"298\"/><text x=\"526.75\" y=\"313\">\n",
       "</text></g></g><path d=\"M541.0 309h20\"/></g><path d=\"M561.0 309h10\"/></g><path d=\"M 571.0 309 h 20 m -10 -10 v 20 m 10 -20 v 20\"/></g></svg>"
      ],
      "text/plain": [
       "<IPython.core.display.SVG object>"
      ]
     },
     "metadata": {},
     "output_type": "display_data"
    }
   ],
   "source": [
    "syntax_diagram(CSV_GRAMMAR)"
   ]
  },
  {
   "cell_type": "markdown",
   "metadata": {
    "slideshow": {
     "slide_type": "subslide"
    }
   },
   "source": [
    "We generate `1000` values, and evaluate the `process_vehicle()` with each."
   ]
  },
  {
   "cell_type": "code",
   "execution_count": 11,
   "metadata": {
    "slideshow": {
     "slide_type": "subslide"
    }
   },
   "outputs": [
    {
     "name": "stdout",
     "output_type": "stream",
     "text": [
      "0 valid strings, that is GrammarFuzzer generated 0.000000% valid entries from 1000 inputs\n",
      "Total time of 8.892095 seconds\n"
     ]
    }
   ],
   "source": [
    "gf = GrammarFuzzer(CSV_GRAMMAR, min_nonterminals=4)\n",
    "trials = 1000\n",
    "valid = []\n",
    "time = 0\n",
    "for i in range(trials):\n",
    "    with Timer() as t:\n",
    "        vehicle_info = gf.fuzz()\n",
    "        try:\n",
    "            process_vehicle(vehicle_info)\n",
    "            valid.append(vehicle_info)\n",
    "        except:\n",
    "            pass\n",
    "        time += t.elapsed_time()\n",
    "print(\"%d valid strings, that is GrammarFuzzer generated %f%% valid entries from %d inputs\" %\n",
    "      (len(valid), len(valid) * 100.0 / trials, trials))\n",
    "print(\"Total time of %f seconds\" % time)"
   ]
  },
  {
   "cell_type": "markdown",
   "metadata": {
    "slideshow": {
     "slide_type": "subslide"
    }
   },
   "source": [
    "This is obviously not working. But why?"
   ]
  },
  {
   "cell_type": "code",
   "execution_count": 12,
   "metadata": {
    "slideshow": {
     "slide_type": "subslide"
    }
   },
   "outputs": [
    {
     "name": "stdout",
     "output_type": "stream",
     "text": [
      "'9w9J\\'/,LU<\"l,|,Y,Zv)Amvx,c\\n'\t Invalid entry\n",
      "'(n8].H7,qolS'\t not enough values to unpack (expected at least 4, got 2)\n",
      "'\\nQoLWQ,jSa'\t not enough values to unpack (expected at least 4, got 2)\n",
      "'K1,\\n,RE,fq,%,,sT+aAb'\t Invalid entry\n",
      "\"m,d,,8j4'),-yQ,B7\"\t Invalid entry\n",
      "'g4,s1\\t[}{.,M,<,\\nzd,.am'\t Invalid entry\n",
      "',Z[,z,c,#x1,gc.F'\t Invalid entry\n",
      "'pWs,rT`,R'\t not enough values to unpack (expected at least 4, got 3)\n",
      "'iN,br%,Q,R'\t Invalid entry\n",
      "'ol,\\nH<\\tn,^#,=A'\t Invalid entry\n"
     ]
    }
   ],
   "source": [
    "gf = GrammarFuzzer(CSV_GRAMMAR, min_nonterminals=4)\n",
    "trials = 10\n",
    "valid = []\n",
    "time = 0\n",
    "for i in range(trials):\n",
    "    vehicle_info = gf.fuzz()\n",
    "    try:\n",
    "        print(repr(vehicle_info), end=\"\")\n",
    "        process_vehicle(vehicle_info)\n",
    "    except Exception as e:\n",
    "        print(\"\\t\", e)\n",
    "    else:\n",
    "        print()"
   ]
  },
  {
   "cell_type": "markdown",
   "metadata": {
    "slideshow": {
     "slide_type": "subslide"
    }
   },
   "source": [
    "None of the entries will get through unless the fuzzer can produce either `van` or `car`.\n",
    "Indeed, the reason is that the grammar itself does not capture the complete information about the format. So here is another idea. We modify the `GrammarFuzzer` to know a bit about our format."
   ]
  },
  {
   "cell_type": "code",
   "execution_count": 13,
   "metadata": {
    "slideshow": {
     "slide_type": "skip"
    }
   },
   "outputs": [],
   "source": [
    "import copy"
   ]
  },
  {
   "cell_type": "code",
   "execution_count": 14,
   "metadata": {
    "slideshow": {
     "slide_type": "skip"
    }
   },
   "outputs": [],
   "source": [
    "import random"
   ]
  },
  {
   "cell_type": "code",
   "execution_count": 15,
   "metadata": {
    "slideshow": {
     "slide_type": "skip"
    }
   },
   "outputs": [],
   "source": [
    "class PooledGrammarFuzzer(GrammarFuzzer):\n",
    "    def __init__(self, *args, **kwargs):\n",
    "        super().__init__(*args, **kwargs)\n",
    "        self._node_cache = {}\n",
    "\n",
    "    def update_cache(self, key, values):\n",
    "        self._node_cache[key] = values\n",
    "\n",
    "    def expand_node_randomly(self, node):\n",
    "        (symbol, children) = node\n",
    "        assert children is None\n",
    "        if symbol in self._node_cache:\n",
    "            if random.randint(0, 1) == 1:\n",
    "                return super().expand_node_randomly(node)\n",
    "            return copy.deepcopy(random.choice(self._node_cache[symbol]))\n",
    "        return super().expand_node_randomly(node)"
   ]
  },
  {
   "cell_type": "markdown",
   "metadata": {
    "slideshow": {
     "slide_type": "subslide"
    }
   },
   "source": [
    "Let us try again!"
   ]
  },
  {
   "cell_type": "code",
   "execution_count": 16,
   "metadata": {
    "slideshow": {
     "slide_type": "subslide"
    }
   },
   "outputs": [
    {
     "name": "stdout",
     "output_type": "stream",
     "text": [
      "',h,van,|'\t Invalid entry\n",
      "'M,w:K,car,car,van'\t Invalid entry\n",
      "'J,?Y,van,van,car,J,~D+'\t Invalid entry\n",
      "'S4,car,car,o'\t invalid literal for int() with base 10: 'S4'\n",
      "'2*-,van'\t not enough values to unpack (expected at least 4, got 2)\n",
      "'van,%,5,]'\t Invalid entry\n",
      "'van,G3{y,j,h:'\t Invalid entry\n",
      "'$0;o,M,car,car'\t Invalid entry\n",
      "'2d,f,e'\t not enough values to unpack (expected at least 4, got 3)\n",
      "'/~NE,car,car'\t not enough values to unpack (expected at least 4, got 3)\n"
     ]
    }
   ],
   "source": [
    "gf = PooledGrammarFuzzer(CSV_GRAMMAR, min_nonterminals=4)\n",
    "gf.update_cache('<item>', [\n",
    "    ('<item>', [('car', [])]),\n",
    "    ('<item>', [('van', [])]),\n",
    "])\n",
    "trials = 10\n",
    "valid = []\n",
    "time = 0\n",
    "for i in range(trials):\n",
    "    vehicle_info = gf.fuzz()\n",
    "    try:\n",
    "        print(repr(vehicle_info), end=\"\")\n",
    "        process_vehicle(vehicle_info)\n",
    "    except Exception as e:\n",
    "        print(\"\\t\", e)\n",
    "    else:\n",
    "        print()"
   ]
  },
  {
   "cell_type": "markdown",
   "metadata": {
    "slideshow": {
     "slide_type": "subslide"
    }
   },
   "source": [
    "At least we are getting somewhere! It would be really nice if _we could incorporate what we know about the sample data in our fuzzer._ In fact, it would be nice if we could _extract_ the template and valid values from samples, and use them in our fuzzing. How do we do that?  The quick answer to this question is: Use a *parser*.  "
   ]
  },
  {
   "cell_type": "markdown",
   "metadata": {
    "slideshow": {
     "slide_type": "slide"
    }
   },
   "source": [
    "## Using a Parser\n",
    "\n",
    "Generally speaking, a _parser_ is the part of a a program that processes (structured) input.  The parsers we discuss in this chapter transform an input string into a _derivation tree_ (discussed in the [chapter on efficient grammar fuzzing](GrammarFuzzer.ipynb)).  From a user's perspective, all it takes to parse an input is two steps: \n",
    "\n",
    "1. Initialize the parser with a grammar, as in\n",
    "```\n",
    "parser = Parser(grammar)\n",
    "```\n",
    "\n",
    "2. Using the parser to retrieve a list of derivation trees:\n",
    "\n",
    "```python\n",
    "trees = parser.parse(input)\n",
    "```\n",
    "\n",
    "Once we have parsed a tree, we can use it just as the derivation trees produced from grammar fuzzing.\n",
    "\n",
    "We discuss a number of such parsers, in particular\n",
    "* [parsing expression grammar parsers](#Parsing-Expression-Grammars) (`PEGParser`), which are very efficient, but limited to specific grammar structure; and\n",
    "* [Earley parsers](#Parsing-Context-Free-Grammars) (`EarleyParser`), which accept any kind of context-free grammars.\n",
    "\n",
    "If you just want to _use_ parsers (say, because your main focus is testing), you can just stop here and move on [to the next chapter](LangFuzzer.ipynb), where we learn how to make use of parsed inputs to mutate and recombine them.  If you want to _understand_ how parsers work, though, this chapter is right for you."
   ]
  },
  {
   "cell_type": "markdown",
   "metadata": {
    "slideshow": {
     "slide_type": "slide"
    }
   },
   "source": [
    "## An Ad Hoc Parser\n",
    "\n",
    "As we saw in the previous section, programmers often have to extract parts of data that obey certain rules. For example, for *CSV* files, each element in a row is separated by *commas*, and multiple raws are used to store the data."
   ]
  },
  {
   "cell_type": "markdown",
   "metadata": {
    "slideshow": {
     "slide_type": "fragment"
    }
   },
   "source": [
    "To extract the information, we write an ad hoc parser `parse_csv()`."
   ]
  },
  {
   "cell_type": "code",
   "execution_count": 17,
   "metadata": {
    "slideshow": {
     "slide_type": "fragment"
    }
   },
   "outputs": [],
   "source": [
    "def parse_csv(mystring):\n",
    "    children = []\n",
    "    tree = (START_SYMBOL, children)\n",
    "    for i, line in enumerate(mystring.split('\\n')):\n",
    "        children.append((\"record %d\" % i, [(cell, [])\n",
    "                                           for cell in line.split(',')]))\n",
    "    return tree"
   ]
  },
  {
   "cell_type": "markdown",
   "metadata": {
    "slideshow": {
     "slide_type": "subslide"
    }
   },
   "source": [
    "We also change the default orientation of the graph to *left to right* rather than *top to bottom* for easier viewing using `lr_graph()`."
   ]
  },
  {
   "cell_type": "code",
   "execution_count": 18,
   "metadata": {
    "slideshow": {
     "slide_type": "fragment"
    }
   },
   "outputs": [],
   "source": [
    "def lr_graph(dot):\n",
    "    dot.attr('node', shape='plain')\n",
    "    dot.graph_attr['rankdir'] = 'LR'"
   ]
  },
  {
   "cell_type": "markdown",
   "metadata": {
    "slideshow": {
     "slide_type": "fragment"
    }
   },
   "source": [
    "The `display_tree()` shows the structure of our CSV file after parsing."
   ]
  },
  {
   "cell_type": "code",
   "execution_count": 19,
   "metadata": {
    "slideshow": {
     "slide_type": "fragment"
    }
   },
   "outputs": [
    {
     "data": {
      "image/svg+xml": [
       "<?xml version=\"1.0\" encoding=\"UTF-8\" standalone=\"no\"?>\n",
       "<!DOCTYPE svg PUBLIC \"-//W3C//DTD SVG 1.1//EN\"\n",
       " \"http://www.w3.org/Graphics/SVG/1.1/DTD/svg11.dtd\">\n",
       "<!-- Generated by graphviz version 2.40.1 (20161225.0304)\n",
       " -->\n",
       "<!-- Title: %3 Pages: 1 -->\n",
       "<svg width=\"214pt\" height=\"246pt\"\n",
       " viewBox=\"0.00 0.00 214.35 246.00\" xmlns=\"http://www.w3.org/2000/svg\" xmlns:xlink=\"http://www.w3.org/1999/xlink\">\n",
       "<g id=\"graph0\" class=\"graph\" transform=\"scale(1 1) rotate(0) translate(4 242)\">\n",
       "<title>%3</title>\n",
       "<polygon fill=\"#ffffff\" stroke=\"transparent\" points=\"-4,4 -4,-242 210.3467,-242 210.3467,4 -4,4\"/>\n",
       "<!-- 0 -->\n",
       "<g id=\"node1\" class=\"node\">\n",
       "<title>0</title>\n",
       "<text text-anchor=\"middle\" x=\"19.9473\" y=\"-114.8\" font-family=\"Times,serif\" font-size=\"14.00\" fill=\"#000000\">&lt;start&gt;</text>\n",
       "</g>\n",
       "<!-- 1 -->\n",
       "<g id=\"node2\" class=\"node\">\n",
       "<title>1</title>\n",
       "<text text-anchor=\"middle\" x=\"99.0205\" y=\"-162.8\" font-family=\"Times,serif\" font-size=\"14.00\" fill=\"#000000\">record 0</text>\n",
       "</g>\n",
       "<!-- 0&#45;&gt;1 -->\n",
       "<g id=\"edge1\" class=\"edge\">\n",
       "<title>0&#45;&gt;1</title>\n",
       "<path fill=\"none\" stroke=\"#000000\" d=\"M31.6148,-126.0826C43.9953,-133.598 63.7941,-145.6164 78.7377,-154.6877\"/>\n",
       "<polygon fill=\"#000000\" stroke=\"#000000\" points=\"76.9406,-157.6911 87.3051,-159.8884 80.573,-151.7073 76.9406,-157.6911\"/>\n",
       "</g>\n",
       "<!-- 6 -->\n",
       "<g id=\"node7\" class=\"node\">\n",
       "<title>6</title>\n",
       "<text text-anchor=\"middle\" x=\"99.0205\" y=\"-66.8\" font-family=\"Times,serif\" font-size=\"14.00\" fill=\"#000000\">record 1</text>\n",
       "</g>\n",
       "<!-- 0&#45;&gt;6 -->\n",
       "<g id=\"edge6\" class=\"edge\">\n",
       "<title>0&#45;&gt;6</title>\n",
       "<path fill=\"none\" stroke=\"#000000\" d=\"M31.6148,-111.9174C43.9953,-104.402 63.7941,-92.3836 78.7377,-83.3123\"/>\n",
       "<polygon fill=\"#000000\" stroke=\"#000000\" points=\"80.573,-86.2927 87.3051,-78.1116 76.9406,-80.3089 80.573,-86.2927\"/>\n",
       "</g>\n",
       "<!-- 2 -->\n",
       "<g id=\"node3\" class=\"node\">\n",
       "<title>2</title>\n",
       "<text text-anchor=\"middle\" x=\"182.2466\" y=\"-226.8\" font-family=\"Times,serif\" font-size=\"14.00\" fill=\"#000000\">1997</text>\n",
       "</g>\n",
       "<!-- 1&#45;&gt;2 -->\n",
       "<g id=\"edge2\" class=\"edge\">\n",
       "<title>1&#45;&gt;2</title>\n",
       "<path fill=\"none\" stroke=\"#000000\" d=\"M107.2412,-174.0944C118.4827,-183.6972 139.3985,-201.2155 158.1465,-215 159.5374,-216.0227 160.9893,-217.0592 162.4607,-218.0873\"/>\n",
       "<polygon fill=\"#000000\" stroke=\"#000000\" points=\"160.5678,-221.0324 170.8132,-223.731 164.4869,-215.2323 160.5678,-221.0324\"/>\n",
       "</g>\n",
       "<!-- 3 -->\n",
       "<g id=\"node4\" class=\"node\">\n",
       "<title>3</title>\n",
       "<text text-anchor=\"middle\" x=\"182.2466\" y=\"-194.8\" font-family=\"Times,serif\" font-size=\"14.00\" fill=\"#000000\">van</text>\n",
       "</g>\n",
       "<!-- 1&#45;&gt;3 -->\n",
       "<g id=\"edge3\" class=\"edge\">\n",
       "<title>1&#45;&gt;3</title>\n",
       "<path fill=\"none\" stroke=\"#000000\" d=\"M117.4911,-174.1018C130.7712,-179.208 148.6622,-186.087 162.2735,-191.3205\"/>\n",
       "<polygon fill=\"#000000\" stroke=\"#000000\" points=\"161.1107,-194.6231 171.7007,-194.9451 163.6229,-188.0894 161.1107,-194.6231\"/>\n",
       "</g>\n",
       "<!-- 4 -->\n",
       "<g id=\"node5\" class=\"node\">\n",
       "<title>4</title>\n",
       "<text text-anchor=\"middle\" x=\"182.2466\" y=\"-162.8\" font-family=\"Times,serif\" font-size=\"14.00\" fill=\"#000000\">Ford</text>\n",
       "</g>\n",
       "<!-- 1&#45;&gt;4 -->\n",
       "<g id=\"edge4\" class=\"edge\">\n",
       "<title>1&#45;&gt;4</title>\n",
       "<path fill=\"none\" stroke=\"#000000\" d=\"M122.2036,-167C133.5757,-167 147.2489,-167 158.673,-167\"/>\n",
       "<polygon fill=\"#000000\" stroke=\"#000000\" points=\"158.7882,-170.5001 168.7882,-167 158.7881,-163.5001 158.7882,-170.5001\"/>\n",
       "</g>\n",
       "<!-- 5 -->\n",
       "<g id=\"node6\" class=\"node\">\n",
       "<title>5</title>\n",
       "<text text-anchor=\"middle\" x=\"182.2466\" y=\"-130.8\" font-family=\"Times,serif\" font-size=\"14.00\" fill=\"#000000\">E350</text>\n",
       "</g>\n",
       "<!-- 1&#45;&gt;5 -->\n",
       "<g id=\"edge5\" class=\"edge\">\n",
       "<title>1&#45;&gt;5</title>\n",
       "<path fill=\"none\" stroke=\"#000000\" d=\"M117.4911,-159.8982C129.3563,-155.3361 144.9021,-149.3588 157.7878,-144.4043\"/>\n",
       "<polygon fill=\"#000000\" stroke=\"#000000\" points=\"159.3527,-147.5525 167.4304,-140.6968 156.8404,-141.0188 159.3527,-147.5525\"/>\n",
       "</g>\n",
       "<!-- 7 -->\n",
       "<g id=\"node8\" class=\"node\">\n",
       "<title>7</title>\n",
       "<text text-anchor=\"middle\" x=\"182.2466\" y=\"-98.8\" font-family=\"Times,serif\" font-size=\"14.00\" fill=\"#000000\">2000</text>\n",
       "</g>\n",
       "<!-- 6&#45;&gt;7 -->\n",
       "<g id=\"edge7\" class=\"edge\">\n",
       "<title>6&#45;&gt;7</title>\n",
       "<path fill=\"none\" stroke=\"#000000\" d=\"M117.4911,-78.1018C129.583,-82.7511 145.4976,-88.8702 158.5235,-93.8786\"/>\n",
       "<polygon fill=\"#000000\" stroke=\"#000000\" points=\"157.6326,-97.2858 168.2225,-97.6078 160.1448,-90.7521 157.6326,-97.2858\"/>\n",
       "</g>\n",
       "<!-- 8 -->\n",
       "<g id=\"node9\" class=\"node\">\n",
       "<title>8</title>\n",
       "<text text-anchor=\"middle\" x=\"182.2466\" y=\"-66.8\" font-family=\"Times,serif\" font-size=\"14.00\" fill=\"#000000\">car</text>\n",
       "</g>\n",
       "<!-- 6&#45;&gt;8 -->\n",
       "<g id=\"edge8\" class=\"edge\">\n",
       "<title>6&#45;&gt;8</title>\n",
       "<path fill=\"none\" stroke=\"#000000\" d=\"M122.2036,-71C135.1794,-71 151.1513,-71 163.3592,-71\"/>\n",
       "<polygon fill=\"#000000\" stroke=\"#000000\" points=\"163.6899,-74.5001 173.6898,-71 163.6898,-67.5001 163.6899,-74.5001\"/>\n",
       "</g>\n",
       "<!-- 9 -->\n",
       "<g id=\"node10\" class=\"node\">\n",
       "<title>9</title>\n",
       "<text text-anchor=\"middle\" x=\"182.2466\" y=\"-34.8\" font-family=\"Times,serif\" font-size=\"14.00\" fill=\"#000000\">Mercury</text>\n",
       "</g>\n",
       "<!-- 6&#45;&gt;9 -->\n",
       "<g id=\"edge9\" class=\"edge\">\n",
       "<title>6&#45;&gt;9</title>\n",
       "<path fill=\"none\" stroke=\"#000000\" d=\"M117.4911,-63.8982C128.2661,-59.7552 142.0764,-54.4452 154.1734,-49.794\"/>\n",
       "<polygon fill=\"#000000\" stroke=\"#000000\" points=\"155.7499,-52.9377 163.8277,-46.082 153.2377,-46.404 155.7499,-52.9377\"/>\n",
       "</g>\n",
       "<!-- 10 -->\n",
       "<g id=\"node11\" class=\"node\">\n",
       "<title>10</title>\n",
       "<text text-anchor=\"middle\" x=\"182.2466\" y=\"-2.8\" font-family=\"Times,serif\" font-size=\"14.00\" fill=\"#000000\">Cougar</text>\n",
       "</g>\n",
       "<!-- 6&#45;&gt;10 -->\n",
       "<g id=\"edge10\" class=\"edge\">\n",
       "<title>6&#45;&gt;10</title>\n",
       "<path fill=\"none\" stroke=\"#000000\" d=\"M107.2412,-63.9056C118.4827,-54.3028 139.3985,-36.7845 158.1465,-23 159.5374,-21.9773 160.9893,-20.9408 162.4607,-19.9127\"/>\n",
       "<polygon fill=\"#000000\" stroke=\"#000000\" points=\"164.4869,-22.7677 170.8132,-14.269 160.5678,-16.9676 164.4869,-22.7677\"/>\n",
       "</g>\n",
       "</g>\n",
       "</svg>\n"
      ],
      "text/plain": [
       "<graphviz.dot.Digraph at 0x11ca2eb70>"
      ]
     },
     "metadata": {},
     "output_type": "display_data"
    }
   ],
   "source": [
    "tree = parse_csv(mystring)\n",
    "display_tree(tree, graph_attr=lr_graph)"
   ]
  },
  {
   "cell_type": "markdown",
   "metadata": {
    "slideshow": {
     "slide_type": "fragment"
    }
   },
   "source": [
    "This is of course simple. What if we encounter slightly more complexity? Again, another example from the Wikipedia."
   ]
  },
  {
   "cell_type": "code",
   "execution_count": 20,
   "metadata": {
    "slideshow": {
     "slide_type": "subslide"
    }
   },
   "outputs": [
    {
     "name": "stdout",
     "output_type": "stream",
     "text": [
      "1997,Ford,E350,\"ac, abs, moon\",3000.00\n"
     ]
    }
   ],
   "source": [
    "mystring = '''\\\n",
    "1997,Ford,E350,\"ac, abs, moon\",3000.00\\\n",
    "'''\n",
    "print(mystring)"
   ]
  },
  {
   "cell_type": "markdown",
   "metadata": {
    "slideshow": {
     "slide_type": "fragment"
    }
   },
   "source": [
    "We define a new annotation method `highlight_node()` to mark the nodes that are interesting."
   ]
  },
  {
   "cell_type": "code",
   "execution_count": 21,
   "metadata": {
    "slideshow": {
     "slide_type": "fragment"
    }
   },
   "outputs": [],
   "source": [
    "def highlight_node(predicate):\n",
    "    def hl_node(dot, nid, symbol, ann):\n",
    "        if predicate(dot, nid, symbol, ann):\n",
    "            dot.node(repr(nid), dot_escape(symbol), fontcolor='red')\n",
    "        else:\n",
    "            dot.node(repr(nid), dot_escape(symbol))\n",
    "    return hl_node"
   ]
  },
  {
   "cell_type": "markdown",
   "metadata": {
    "slideshow": {
     "slide_type": "subslide"
    }
   },
   "source": [
    "Using `highlight_node()` we can highlight particular nodes that we were wrongly parsed."
   ]
  },
  {
   "cell_type": "code",
   "execution_count": 22,
   "metadata": {
    "slideshow": {
     "slide_type": "fragment"
    }
   },
   "outputs": [],
   "source": [
    "tree = parse_csv(mystring)\n",
    "bad_nodes = {5, 6, 7, 12, 13, 20, 22, 23, 24, 25}"
   ]
  },
  {
   "cell_type": "code",
   "execution_count": 23,
   "metadata": {
    "slideshow": {
     "slide_type": "fragment"
    }
   },
   "outputs": [],
   "source": [
    "def hl_predicate(_d, nid, _s, _a): return nid in bad_nodes"
   ]
  },
  {
   "cell_type": "code",
   "execution_count": 24,
   "metadata": {
    "slideshow": {
     "slide_type": "fragment"
    }
   },
   "outputs": [
    {
     "data": {
      "image/svg+xml": [
       "<?xml version=\"1.0\" encoding=\"UTF-8\" standalone=\"no\"?>\n",
       "<!DOCTYPE svg PUBLIC \"-//W3C//DTD SVG 1.1//EN\"\n",
       " \"http://www.w3.org/Graphics/SVG/1.1/DTD/svg11.dtd\">\n",
       "<!-- Generated by graphviz version 2.40.1 (20161225.0304)\n",
       " -->\n",
       "<!-- Title: %3 Pages: 1 -->\n",
       "<svg width=\"212pt\" height=\"214pt\"\n",
       " viewBox=\"0.00 0.00 211.65 214.00\" xmlns=\"http://www.w3.org/2000/svg\" xmlns:xlink=\"http://www.w3.org/1999/xlink\">\n",
       "<g id=\"graph0\" class=\"graph\" transform=\"scale(1 1) rotate(0) translate(4 210)\">\n",
       "<title>%3</title>\n",
       "<polygon fill=\"#ffffff\" stroke=\"transparent\" points=\"-4,4 -4,-210 207.6465,-210 207.6465,4 -4,4\"/>\n",
       "<!-- 0 -->\n",
       "<g id=\"node1\" class=\"node\">\n",
       "<title>0</title>\n",
       "<text text-anchor=\"middle\" x=\"19.9473\" y=\"-98.8\" font-family=\"Times,serif\" font-size=\"14.00\" fill=\"#000000\">&lt;start&gt;</text>\n",
       "</g>\n",
       "<!-- 1 -->\n",
       "<g id=\"node2\" class=\"node\">\n",
       "<title>1</title>\n",
       "<text text-anchor=\"middle\" x=\"99.0205\" y=\"-98.8\" font-family=\"Times,serif\" font-size=\"14.00\" fill=\"#000000\">record 0</text>\n",
       "</g>\n",
       "<!-- 0&#45;&gt;1 -->\n",
       "<g id=\"edge1\" class=\"edge\">\n",
       "<title>0&#45;&gt;1</title>\n",
       "<path fill=\"none\" stroke=\"#000000\" d=\"M39.9008,-103C47.7272,-103 56.9232,-103 65.7001,-103\"/>\n",
       "<polygon fill=\"#000000\" stroke=\"#000000\" points=\"65.7036,-106.5001 75.7036,-103 65.7036,-99.5001 65.7036,-106.5001\"/>\n",
       "</g>\n",
       "<!-- 2 -->\n",
       "<g id=\"node3\" class=\"node\">\n",
       "<title>2</title>\n",
       "<text text-anchor=\"middle\" x=\"180.8965\" y=\"-194.8\" font-family=\"Times,serif\" font-size=\"14.00\" fill=\"#000000\">1997</text>\n",
       "</g>\n",
       "<!-- 1&#45;&gt;2 -->\n",
       "<g id=\"edge2\" class=\"edge\">\n",
       "<title>1&#45;&gt;2</title>\n",
       "<path fill=\"none\" stroke=\"#000000\" d=\"M103.2511,-110.2259C112.1368,-125.0184 133.9308,-159.3477 158.1465,-183 159.0791,-183.911 160.0681,-184.8078 161.0912,-185.6832\"/>\n",
       "<polygon fill=\"#000000\" stroke=\"#000000\" points=\"159.1486,-188.6026 169.2308,-191.8582 163.3793,-183.0258 159.1486,-188.6026\"/>\n",
       "</g>\n",
       "<!-- 3 -->\n",
       "<g id=\"node4\" class=\"node\">\n",
       "<title>3</title>\n",
       "<text text-anchor=\"middle\" x=\"180.8965\" y=\"-162.8\" font-family=\"Times,serif\" font-size=\"14.00\" fill=\"#000000\">Ford</text>\n",
       "</g>\n",
       "<!-- 1&#45;&gt;3 -->\n",
       "<g id=\"edge3\" class=\"edge\">\n",
       "<title>1&#45;&gt;3</title>\n",
       "<path fill=\"none\" stroke=\"#000000\" d=\"M107.2959,-110.021C118.5994,-119.5406 139.5852,-136.965 158.1465,-151 159.5234,-152.0412 160.9594,-153.1035 162.4112,-154.1609\"/>\n",
       "<polygon fill=\"#000000\" stroke=\"#000000\" points=\"160.4178,-157.0381 170.5961,-159.9797 164.4737,-151.3329 160.4178,-157.0381\"/>\n",
       "</g>\n",
       "<!-- 4 -->\n",
       "<g id=\"node5\" class=\"node\">\n",
       "<title>4</title>\n",
       "<text text-anchor=\"middle\" x=\"180.8965\" y=\"-130.8\" font-family=\"Times,serif\" font-size=\"14.00\" fill=\"#000000\">E350</text>\n",
       "</g>\n",
       "<!-- 1&#45;&gt;4 -->\n",
       "<g id=\"edge4\" class=\"edge\">\n",
       "<title>1&#45;&gt;4</title>\n",
       "<path fill=\"none\" stroke=\"#000000\" d=\"M117.1914,-110.1018C128.8642,-114.6639 144.1578,-120.6412 156.8345,-125.5957\"/>\n",
       "<polygon fill=\"#000000\" stroke=\"#000000\" points=\"155.7326,-128.9229 166.3206,-129.3032 158.2808,-122.4031 155.7326,-128.9229\"/>\n",
       "</g>\n",
       "<!-- 5 -->\n",
       "<g id=\"node6\" class=\"node\">\n",
       "<title>5</title>\n",
       "<text text-anchor=\"middle\" x=\"180.8965\" y=\"-98.8\" font-family=\"Times,serif\" font-size=\"14.00\" fill=\"#ff0000\">&quot;ac</text>\n",
       "</g>\n",
       "<!-- 1&#45;&gt;5 -->\n",
       "<g id=\"edge5\" class=\"edge\">\n",
       "<title>1&#45;&gt;5</title>\n",
       "<path fill=\"none\" stroke=\"#000000\" d=\"M122.2639,-103C134.7319,-103 149.9113,-103 161.7013,-103\"/>\n",
       "<polygon fill=\"#000000\" stroke=\"#000000\" points=\"161.7673,-106.5001 171.7673,-103 161.7672,-99.5001 161.7673,-106.5001\"/>\n",
       "</g>\n",
       "<!-- 6 -->\n",
       "<g id=\"node7\" class=\"node\">\n",
       "<title>6</title>\n",
       "<text text-anchor=\"middle\" x=\"180.8965\" y=\"-66.8\" font-family=\"Times,serif\" font-size=\"14.00\" fill=\"#ff0000\"> abs</text>\n",
       "</g>\n",
       "<!-- 1&#45;&gt;6 -->\n",
       "<g id=\"edge6\" class=\"edge\">\n",
       "<title>1&#45;&gt;6</title>\n",
       "<path fill=\"none\" stroke=\"#000000\" d=\"M117.1914,-95.8982C129.8307,-90.9583 146.7153,-84.3592 159.9261,-79.196\"/>\n",
       "<polygon fill=\"#000000\" stroke=\"#000000\" points=\"161.542,-82.3223 169.5818,-75.4222 158.9938,-75.8026 161.542,-82.3223\"/>\n",
       "</g>\n",
       "<!-- 7 -->\n",
       "<g id=\"node8\" class=\"node\">\n",
       "<title>7</title>\n",
       "<text text-anchor=\"middle\" x=\"180.8965\" y=\"-34.8\" font-family=\"Times,serif\" font-size=\"14.00\" fill=\"#ff0000\"> moon&quot;</text>\n",
       "</g>\n",
       "<!-- 1&#45;&gt;7 -->\n",
       "<g id=\"edge7\" class=\"edge\">\n",
       "<title>1&#45;&gt;7</title>\n",
       "<path fill=\"none\" stroke=\"#000000\" d=\"M107.2959,-95.979C118.5994,-86.4594 139.5852,-69.035 158.1465,-55 159.5234,-53.9588 160.9594,-52.8965 162.4112,-51.8391\"/>\n",
       "<polygon fill=\"#000000\" stroke=\"#000000\" points=\"164.4737,-54.6671 170.5961,-46.0203 160.4178,-48.9619 164.4737,-54.6671\"/>\n",
       "</g>\n",
       "<!-- 8 -->\n",
       "<g id=\"node9\" class=\"node\">\n",
       "<title>8</title>\n",
       "<text text-anchor=\"middle\" x=\"180.8965\" y=\"-2.8\" font-family=\"Times,serif\" font-size=\"14.00\" fill=\"#000000\">3000.00</text>\n",
       "</g>\n",
       "<!-- 1&#45;&gt;8 -->\n",
       "<g id=\"edge8\" class=\"edge\">\n",
       "<title>1&#45;&gt;8</title>\n",
       "<path fill=\"none\" stroke=\"#000000\" d=\"M103.2511,-95.7741C112.1368,-80.9816 133.9308,-46.6523 158.1465,-23 159.0791,-22.089 160.0681,-21.1922 161.0912,-20.3168\"/>\n",
       "<polygon fill=\"#000000\" stroke=\"#000000\" points=\"163.3793,-22.9742 169.2308,-14.1418 159.1486,-17.3974 163.3793,-22.9742\"/>\n",
       "</g>\n",
       "</g>\n",
       "</svg>\n"
      ],
      "text/plain": [
       "<graphviz.dot.Digraph at 0x11ca2e898>"
      ]
     },
     "metadata": {},
     "output_type": "display_data"
    }
   ],
   "source": [
    "highlight_err_node = highlight_node(hl_predicate)\n",
    "display_tree(tree, log=False, node_attr=highlight_err_node,\n",
    "             graph_attr=lr_graph)"
   ]
  },
  {
   "cell_type": "markdown",
   "metadata": {
    "slideshow": {
     "slide_type": "fragment"
    }
   },
   "source": [
    "The marked nodes indicate where our parsing went wrong. We can of course extend our parser to understand quotes. First we define some of the helper functions `parse_quote()`, `find_comma()` and `comma_split()`"
   ]
  },
  {
   "cell_type": "code",
   "execution_count": 25,
   "metadata": {
    "slideshow": {
     "slide_type": "fragment"
    }
   },
   "outputs": [],
   "source": [
    "def parse_quote(string, i):\n",
    "    v = string[i + 1:].find('\"')\n",
    "    return v + i + 1 if v >= 0 else -1"
   ]
  },
  {
   "cell_type": "code",
   "execution_count": 26,
   "metadata": {
    "slideshow": {
     "slide_type": "subslide"
    }
   },
   "outputs": [],
   "source": [
    "def find_comma(string, i):\n",
    "    slen = len(string)\n",
    "    while i < slen:\n",
    "        if string[i] == '\"':\n",
    "            i = parse_quote(string, i)\n",
    "            if i == -1:\n",
    "                return -1\n",
    "        if string[i] == ',':\n",
    "            return i\n",
    "        i += 1\n",
    "    return -1"
   ]
  },
  {
   "cell_type": "code",
   "execution_count": 27,
   "metadata": {
    "slideshow": {
     "slide_type": "subslide"
    }
   },
   "outputs": [],
   "source": [
    "def comma_split(string):\n",
    "    slen = len(string)\n",
    "    i = 0\n",
    "    while i < slen:\n",
    "        c = find_comma(string, i)\n",
    "        if c == -1:\n",
    "            yield string[i:]\n",
    "            return\n",
    "        else:\n",
    "            yield string[i:c]\n",
    "        i = c + 1"
   ]
  },
  {
   "cell_type": "markdown",
   "metadata": {
    "slideshow": {
     "slide_type": "fragment"
    }
   },
   "source": [
    "We can update our `parse_csv()` procedure to use our advanced quote parser."
   ]
  },
  {
   "cell_type": "code",
   "execution_count": 28,
   "metadata": {
    "slideshow": {
     "slide_type": "subslide"
    }
   },
   "outputs": [],
   "source": [
    "def parse_csv(mystring):\n",
    "    children = []\n",
    "    tree = (START_SYMBOL, children)\n",
    "    for i, line in enumerate(mystring.split('\\n')):\n",
    "        children.append((\"record %d\" % i, [(cell, [])\n",
    "                                           for cell in comma_split(line)]))\n",
    "    return tree"
   ]
  },
  {
   "cell_type": "markdown",
   "metadata": {
    "slideshow": {
     "slide_type": "fragment"
    }
   },
   "source": [
    "Our new `parse_csv()` can now handle quotes correctly."
   ]
  },
  {
   "cell_type": "code",
   "execution_count": 29,
   "metadata": {
    "slideshow": {
     "slide_type": "fragment"
    }
   },
   "outputs": [
    {
     "data": {
      "image/svg+xml": [
       "<?xml version=\"1.0\" encoding=\"UTF-8\" standalone=\"no\"?>\n",
       "<!DOCTYPE svg PUBLIC \"-//W3C//DTD SVG 1.1//EN\"\n",
       " \"http://www.w3.org/Graphics/SVG/1.1/DTD/svg11.dtd\">\n",
       "<!-- Generated by graphviz version 2.40.1 (20161225.0304)\n",
       " -->\n",
       "<!-- Title: %3 Pages: 1 -->\n",
       "<svg width=\"255pt\" height=\"150pt\"\n",
       " viewBox=\"0.00 0.00 254.56 150.00\" xmlns=\"http://www.w3.org/2000/svg\" xmlns:xlink=\"http://www.w3.org/1999/xlink\">\n",
       "<g id=\"graph0\" class=\"graph\" transform=\"scale(1 1) rotate(0) translate(4 146)\">\n",
       "<title>%3</title>\n",
       "<polygon fill=\"#ffffff\" stroke=\"transparent\" points=\"-4,4 -4,-146 250.5557,-146 250.5557,4 -4,4\"/>\n",
       "<!-- 0 -->\n",
       "<g id=\"node1\" class=\"node\">\n",
       "<title>0</title>\n",
       "<text text-anchor=\"middle\" x=\"19.9473\" y=\"-66.8\" font-family=\"Times,serif\" font-size=\"14.00\" fill=\"#000000\">&lt;start&gt;</text>\n",
       "</g>\n",
       "<!-- 1 -->\n",
       "<g id=\"node2\" class=\"node\">\n",
       "<title>1</title>\n",
       "<text text-anchor=\"middle\" x=\"99.0205\" y=\"-66.8\" font-family=\"Times,serif\" font-size=\"14.00\" fill=\"#000000\">record 0</text>\n",
       "</g>\n",
       "<!-- 0&#45;&gt;1 -->\n",
       "<g id=\"edge1\" class=\"edge\">\n",
       "<title>0&#45;&gt;1</title>\n",
       "<path fill=\"none\" stroke=\"#000000\" d=\"M39.9008,-71C47.7272,-71 56.9232,-71 65.7001,-71\"/>\n",
       "<polygon fill=\"#000000\" stroke=\"#000000\" points=\"65.7036,-74.5001 75.7036,-71 65.7036,-67.5001 65.7036,-74.5001\"/>\n",
       "</g>\n",
       "<!-- 2 -->\n",
       "<g id=\"node3\" class=\"node\">\n",
       "<title>2</title>\n",
       "<text text-anchor=\"middle\" x=\"202.3511\" y=\"-130.8\" font-family=\"Times,serif\" font-size=\"14.00\" fill=\"#000000\">1997</text>\n",
       "</g>\n",
       "<!-- 1&#45;&gt;2 -->\n",
       "<g id=\"edge2\" class=\"edge\">\n",
       "<title>1&#45;&gt;2</title>\n",
       "<path fill=\"none\" stroke=\"#000000\" d=\"M106.082,-78.0825C116.6149,-88.3146 137.4296,-107.2865 158.1465,-119 164.5429,-122.6166 171.9076,-125.6683 178.7684,-128.1051\"/>\n",
       "<polygon fill=\"#000000\" stroke=\"#000000\" points=\"177.6954,-131.4366 188.2882,-131.2296 179.8783,-124.7857 177.6954,-131.4366\"/>\n",
       "</g>\n",
       "<!-- 3 -->\n",
       "<g id=\"node4\" class=\"node\">\n",
       "<title>3</title>\n",
       "<text text-anchor=\"middle\" x=\"202.3511\" y=\"-98.8\" font-family=\"Times,serif\" font-size=\"14.00\" fill=\"#000000\">Ford</text>\n",
       "</g>\n",
       "<!-- 1&#45;&gt;3 -->\n",
       "<g id=\"edge3\" class=\"edge\">\n",
       "<title>1&#45;&gt;3</title>\n",
       "<path fill=\"none\" stroke=\"#000000\" d=\"M121.6968,-78.0225C138.7192,-83.2941 161.9489,-90.488 179.1072,-95.8017\"/>\n",
       "<polygon fill=\"#000000\" stroke=\"#000000\" points=\"178.3084,-99.2183 188.8962,-98.8332 180.3792,-92.5316 178.3084,-99.2183\"/>\n",
       "</g>\n",
       "<!-- 4 -->\n",
       "<g id=\"node5\" class=\"node\">\n",
       "<title>4</title>\n",
       "<text text-anchor=\"middle\" x=\"202.3511\" y=\"-66.8\" font-family=\"Times,serif\" font-size=\"14.00\" fill=\"#000000\">E350</text>\n",
       "</g>\n",
       "<!-- 1&#45;&gt;4 -->\n",
       "<g id=\"edge4\" class=\"edge\">\n",
       "<title>1&#45;&gt;4</title>\n",
       "<path fill=\"none\" stroke=\"#000000\" d=\"M122.2099,-71C138.6103,-71 160.5779,-71 177.3659,-71\"/>\n",
       "<polygon fill=\"#000000\" stroke=\"#000000\" points=\"177.5395,-74.5001 187.5395,-71 177.5394,-67.5001 177.5395,-74.5001\"/>\n",
       "</g>\n",
       "<!-- 5 -->\n",
       "<g id=\"node6\" class=\"node\">\n",
       "<title>5</title>\n",
       "<text text-anchor=\"middle\" x=\"202.3511\" y=\"-34.8\" font-family=\"Times,serif\" font-size=\"14.00\" fill=\"#000000\">&quot;ac, abs, moon&quot;</text>\n",
       "</g>\n",
       "<!-- 1&#45;&gt;5 -->\n",
       "<g id=\"edge5\" class=\"edge\">\n",
       "<title>1&#45;&gt;5</title>\n",
       "<path fill=\"none\" stroke=\"#000000\" d=\"M121.6968,-63.9775C135.8295,-59.6008 154.241,-53.899 169.9042,-49.0483\"/>\n",
       "<polygon fill=\"#000000\" stroke=\"#000000\" points=\"171.2106,-52.3078 179.7276,-46.0062 169.1398,-45.6211 171.2106,-52.3078\"/>\n",
       "</g>\n",
       "<!-- 6 -->\n",
       "<g id=\"node7\" class=\"node\">\n",
       "<title>6</title>\n",
       "<text text-anchor=\"middle\" x=\"202.3511\" y=\"-2.8\" font-family=\"Times,serif\" font-size=\"14.00\" fill=\"#000000\">3000.00</text>\n",
       "</g>\n",
       "<!-- 1&#45;&gt;6 -->\n",
       "<g id=\"edge6\" class=\"edge\">\n",
       "<title>1&#45;&gt;6</title>\n",
       "<path fill=\"none\" stroke=\"#000000\" d=\"M106.082,-63.9175C116.6149,-53.6854 137.4296,-34.7135 158.1465,-23 161.9031,-20.876 165.9936,-18.9468 170.1199,-17.2226\"/>\n",
       "<polygon fill=\"#000000\" stroke=\"#000000\" points=\"171.5783,-20.4123 179.6726,-13.5762 169.0819,-13.8726 171.5783,-20.4123\"/>\n",
       "</g>\n",
       "</g>\n",
       "</svg>\n"
      ],
      "text/plain": [
       "<graphviz.dot.Digraph at 0x11ca2ef28>"
      ]
     },
     "metadata": {},
     "output_type": "display_data"
    }
   ],
   "source": [
    "tree = parse_csv(mystring)\n",
    "display_tree(tree, graph_attr=lr_graph)"
   ]
  },
  {
   "cell_type": "markdown",
   "metadata": {
    "slideshow": {
     "slide_type": "fragment"
    }
   },
   "source": [
    "That of course does not survive long:"
   ]
  },
  {
   "cell_type": "code",
   "execution_count": 30,
   "metadata": {
    "slideshow": {
     "slide_type": "subslide"
    }
   },
   "outputs": [
    {
     "name": "stdout",
     "output_type": "stream",
     "text": [
      "1999,Chevy,\"Venture \\\"Extended Edition, Very Large\\\"\",,5000.00\n"
     ]
    }
   ],
   "source": [
    "mystring = '''\\\n",
    "1999,Chevy,\"Venture \\\\\"Extended Edition, Very Large\\\\\"\",,5000.00\\\n",
    "'''\n",
    "print(mystring)"
   ]
  },
  {
   "cell_type": "markdown",
   "metadata": {
    "slideshow": {
     "slide_type": "fragment"
    }
   },
   "source": [
    "A few embedded quotes are sufficient to confuse our parser again."
   ]
  },
  {
   "cell_type": "code",
   "execution_count": 31,
   "metadata": {
    "slideshow": {
     "slide_type": "fragment"
    }
   },
   "outputs": [
    {
     "data": {
      "image/svg+xml": [
       "<?xml version=\"1.0\" encoding=\"UTF-8\" standalone=\"no\"?>\n",
       "<!DOCTYPE svg PUBLIC \"-//W3C//DTD SVG 1.1//EN\"\n",
       " \"http://www.w3.org/Graphics/SVG/1.1/DTD/svg11.dtd\">\n",
       "<!-- Generated by graphviz version 2.40.1 (20161225.0304)\n",
       " -->\n",
       "<!-- Title: %3 Pages: 1 -->\n",
       "<svg width=\"326pt\" height=\"168pt\"\n",
       " viewBox=\"0.00 0.00 326.09 168.00\" xmlns=\"http://www.w3.org/2000/svg\" xmlns:xlink=\"http://www.w3.org/1999/xlink\">\n",
       "<g id=\"graph0\" class=\"graph\" transform=\"scale(1 1) rotate(0) translate(4 164)\">\n",
       "<title>%3</title>\n",
       "<polygon fill=\"#ffffff\" stroke=\"transparent\" points=\"-4,4 -4,-164 322.0938,-164 322.0938,4 -4,4\"/>\n",
       "<!-- 0 -->\n",
       "<g id=\"node1\" class=\"node\">\n",
       "<title>0</title>\n",
       "<text text-anchor=\"middle\" x=\"19.9473\" y=\"-68.8\" font-family=\"Times,serif\" font-size=\"14.00\" fill=\"#000000\">&lt;start&gt;</text>\n",
       "</g>\n",
       "<!-- 1 -->\n",
       "<g id=\"node2\" class=\"node\">\n",
       "<title>1</title>\n",
       "<text text-anchor=\"middle\" x=\"99.0205\" y=\"-68.8\" font-family=\"Times,serif\" font-size=\"14.00\" fill=\"#000000\">record 0</text>\n",
       "</g>\n",
       "<!-- 0&#45;&gt;1 -->\n",
       "<g id=\"edge1\" class=\"edge\">\n",
       "<title>0&#45;&gt;1</title>\n",
       "<path fill=\"none\" stroke=\"#000000\" d=\"M39.9008,-73C47.7272,-73 56.9232,-73 65.7001,-73\"/>\n",
       "<polygon fill=\"#000000\" stroke=\"#000000\" points=\"65.7036,-76.5001 75.7036,-73 65.7036,-69.5001 65.7036,-76.5001\"/>\n",
       "</g>\n",
       "<!-- 2 -->\n",
       "<g id=\"node3\" class=\"node\">\n",
       "<title>2</title>\n",
       "<text text-anchor=\"middle\" x=\"238.1201\" y=\"-148.8\" font-family=\"Times,serif\" font-size=\"14.00\" fill=\"#000000\">1999</text>\n",
       "</g>\n",
       "<!-- 1&#45;&gt;2 -->\n",
       "<g id=\"edge2\" class=\"edge\">\n",
       "<title>1&#45;&gt;2</title>\n",
       "<path fill=\"none\" stroke=\"#000000\" d=\"M103.5094,-80.3358C112.2228,-93.8954 132.8159,-122.7908 158.1465,-137 175.2665,-146.6035 197.2974,-150.4979 213.8998,-152.0502\"/>\n",
       "<polygon fill=\"#000000\" stroke=\"#000000\" points=\"213.6951,-155.5444 223.9198,-152.7686 214.1957,-148.5624 213.6951,-155.5444\"/>\n",
       "</g>\n",
       "<!-- 3 -->\n",
       "<g id=\"node4\" class=\"node\">\n",
       "<title>3</title>\n",
       "<text text-anchor=\"middle\" x=\"238.1201\" y=\"-116.8\" font-family=\"Times,serif\" font-size=\"14.00\" fill=\"#000000\">Chevy</text>\n",
       "</g>\n",
       "<!-- 1&#45;&gt;3 -->\n",
       "<g id=\"edge3\" class=\"edge\">\n",
       "<title>1&#45;&gt;3</title>\n",
       "<path fill=\"none\" stroke=\"#000000\" d=\"M109.8887,-80.1757C121.41,-87.4663 140.3635,-98.5738 158.1465,-105 174.8089,-111.0213 194.2885,-114.9789 209.8508,-117.4516\"/>\n",
       "<polygon fill=\"#000000\" stroke=\"#000000\" points=\"209.513,-120.9395 219.9161,-118.9334 210.5326,-114.0142 209.513,-120.9395\"/>\n",
       "</g>\n",
       "<!-- 4 -->\n",
       "<g id=\"node5\" class=\"node\">\n",
       "<title>4</title>\n",
       "<text text-anchor=\"middle\" x=\"238.1201\" y=\"-84.8\" font-family=\"Times,serif\" font-size=\"14.00\" fill=\"#ff0000\">&quot;Venture \\&quot;Extended Edition</text>\n",
       "</g>\n",
       "<!-- 1&#45;&gt;4 -->\n",
       "<g id=\"edge4\" class=\"edge\">\n",
       "<title>1&#45;&gt;4</title>\n",
       "<path fill=\"none\" stroke=\"#000000\" d=\"M122.3027,-75.678C134.7919,-77.1146 150.9241,-78.9702 167.1589,-80.8376\"/>\n",
       "<polygon fill=\"#000000\" stroke=\"#000000\" points=\"166.9144,-84.3325 177.2489,-81.9983 167.7144,-77.3784 166.9144,-84.3325\"/>\n",
       "</g>\n",
       "<!-- 5 -->\n",
       "<g id=\"node6\" class=\"node\">\n",
       "<title>5</title>\n",
       "<text text-anchor=\"middle\" x=\"238.1201\" y=\"-52.8\" font-family=\"Times,serif\" font-size=\"14.00\" fill=\"#ff0000\"> Very Large\\&quot;&quot;</text>\n",
       "</g>\n",
       "<!-- 1&#45;&gt;5 -->\n",
       "<g id=\"edge5\" class=\"edge\">\n",
       "<title>1&#45;&gt;5</title>\n",
       "<path fill=\"none\" stroke=\"#000000\" d=\"M122.3027,-70.322C140.0758,-68.2776 165.2265,-65.3846 187.5515,-62.8167\"/>\n",
       "<polygon fill=\"#000000\" stroke=\"#000000\" points=\"188.039,-66.2838 197.5735,-61.6639 187.239,-59.3296 188.039,-66.2838\"/>\n",
       "</g>\n",
       "<!-- 6 -->\n",
       "<g id=\"node7\" class=\"node\">\n",
       "<title>6</title>\n",
       "</g>\n",
       "<!-- 1&#45;&gt;6 -->\n",
       "<g id=\"edge6\" class=\"edge\">\n",
       "<title>1&#45;&gt;6</title>\n",
       "<path fill=\"none\" stroke=\"#000000\" d=\"M109.3641,-65.7926C109.4086,-65.7631 109.4532,-65.7336 109.498,-65.704\"/>\n",
       "<polygon fill=\"#000000\" stroke=\"#000000\" points=\"103.2193,-74.0516 109.6325,-65.6151 99.358,-68.2109 103.2193,-74.0516\"/>\n",
       "</g>\n",
       "<!-- 7 -->\n",
       "<g id=\"node8\" class=\"node\">\n",
       "<title>7</title>\n",
       "<text text-anchor=\"middle\" x=\"238.1201\" y=\"-2.8\" font-family=\"Times,serif\" font-size=\"14.00\" fill=\"#000000\">5000.00</text>\n",
       "</g>\n",
       "<!-- 1&#45;&gt;7 -->\n",
       "<g id=\"edge7\" class=\"edge\">\n",
       "<title>1&#45;&gt;7</title>\n",
       "<path fill=\"none\" stroke=\"#000000\" d=\"M105.1344,-65.9112C115.0716,-54.8785 135.8703,-33.7527 158.1465,-23 172.7172,-15.9667 190.2137,-12.0244 205.1211,-9.815\"/>\n",
       "<polygon fill=\"#000000\" stroke=\"#000000\" points=\"205.9656,-13.2355 215.4397,-8.493 205.076,-6.2922 205.9656,-13.2355\"/>\n",
       "</g>\n",
       "</g>\n",
       "</svg>\n"
      ],
      "text/plain": [
       "<graphviz.dot.Digraph at 0x11ca2ecc0>"
      ]
     },
     "metadata": {},
     "output_type": "display_data"
    }
   ],
   "source": [
    "tree = parse_csv(mystring)\n",
    "bad_nodes = {4, 5}\n",
    "display_tree(tree, node_attr=highlight_err_node, graph_attr=lr_graph)"
   ]
  },
  {
   "cell_type": "markdown",
   "metadata": {
    "slideshow": {
     "slide_type": "fragment"
    }
   },
   "source": [
    "Here is another record from that CSV file:"
   ]
  },
  {
   "cell_type": "code",
   "execution_count": 32,
   "metadata": {
    "slideshow": {
     "slide_type": "subslide"
    }
   },
   "outputs": [
    {
     "name": "stdout",
     "output_type": "stream",
     "text": [
      "1996,Jeep,Grand Cherokee,\"MUST SELL!\n",
      "air, moon roof, loaded\",4799.00\n",
      "\n"
     ]
    }
   ],
   "source": [
    "mystring = '''\\\n",
    "1996,Jeep,Grand Cherokee,\"MUST SELL!\n",
    "air, moon roof, loaded\",4799.00\n",
    "'''\n",
    "print(mystring)"
   ]
  },
  {
   "cell_type": "code",
   "execution_count": 33,
   "metadata": {
    "slideshow": {
     "slide_type": "fragment"
    }
   },
   "outputs": [
    {
     "data": {
      "image/svg+xml": [
       "<?xml version=\"1.0\" encoding=\"UTF-8\" standalone=\"no\"?>\n",
       "<!DOCTYPE svg PUBLIC \"-//W3C//DTD SVG 1.1//EN\"\n",
       " \"http://www.w3.org/Graphics/SVG/1.1/DTD/svg11.dtd\">\n",
       "<!-- Generated by graphviz version 2.40.1 (20161225.0304)\n",
       " -->\n",
       "<!-- Title: %3 Pages: 1 -->\n",
       "<svg width=\"262pt\" height=\"214pt\"\n",
       " viewBox=\"0.00 0.00 261.68 214.00\" xmlns=\"http://www.w3.org/2000/svg\" xmlns:xlink=\"http://www.w3.org/1999/xlink\">\n",
       "<g id=\"graph0\" class=\"graph\" transform=\"scale(1 1) rotate(0) translate(4 210)\">\n",
       "<title>%3</title>\n",
       "<polygon fill=\"#ffffff\" stroke=\"transparent\" points=\"-4,4 -4,-210 257.6787,-210 257.6787,4 -4,4\"/>\n",
       "<!-- 0 -->\n",
       "<g id=\"node1\" class=\"node\">\n",
       "<title>0</title>\n",
       "<text text-anchor=\"middle\" x=\"19.9473\" y=\"-50.8\" font-family=\"Times,serif\" font-size=\"14.00\" fill=\"#000000\">&lt;start&gt;</text>\n",
       "</g>\n",
       "<!-- 1 -->\n",
       "<g id=\"node2\" class=\"node\">\n",
       "<title>1</title>\n",
       "<text text-anchor=\"middle\" x=\"99.0205\" y=\"-130.8\" font-family=\"Times,serif\" font-size=\"14.00\" fill=\"#000000\">record 0</text>\n",
       "</g>\n",
       "<!-- 0&#45;&gt;1 -->\n",
       "<g id=\"edge1\" class=\"edge\">\n",
       "<title>0&#45;&gt;1</title>\n",
       "<path fill=\"none\" stroke=\"#000000\" d=\"M26.9645,-62.0995C39.8274,-75.1131 67.4247,-103.0338 84.4865,-120.2957\"/>\n",
       "<polygon fill=\"#000000\" stroke=\"#000000\" points=\"82.3863,-123.1497 91.9053,-127.8014 87.3648,-118.2289 82.3863,-123.1497\"/>\n",
       "</g>\n",
       "<!-- 6 -->\n",
       "<g id=\"node7\" class=\"node\">\n",
       "<title>6</title>\n",
       "<text text-anchor=\"middle\" x=\"99.0205\" y=\"-50.8\" font-family=\"Times,serif\" font-size=\"14.00\" fill=\"#ff0000\">record 1</text>\n",
       "</g>\n",
       "<!-- 0&#45;&gt;6 -->\n",
       "<g id=\"edge6\" class=\"edge\">\n",
       "<title>0&#45;&gt;6</title>\n",
       "<path fill=\"none\" stroke=\"#000000\" d=\"M39.9008,-55C47.7272,-55 56.9232,-55 65.7001,-55\"/>\n",
       "<polygon fill=\"#000000\" stroke=\"#000000\" points=\"65.7036,-58.5001 75.7036,-55 65.7036,-51.5001 65.7036,-58.5001\"/>\n",
       "</g>\n",
       "<!-- 10 -->\n",
       "<g id=\"node11\" class=\"node\">\n",
       "<title>10</title>\n",
       "<text text-anchor=\"middle\" x=\"99.0205\" y=\"-18.8\" font-family=\"Times,serif\" font-size=\"14.00\" fill=\"#ff0000\">record 2</text>\n",
       "</g>\n",
       "<!-- 0&#45;&gt;10 -->\n",
       "<g id=\"edge10\" class=\"edge\">\n",
       "<title>0&#45;&gt;10</title>\n",
       "<path fill=\"none\" stroke=\"#000000\" d=\"M37.4962,-47.8982C47.6311,-43.7967 60.5926,-38.5513 72.0028,-33.9337\"/>\n",
       "<polygon fill=\"#000000\" stroke=\"#000000\" points=\"73.5639,-37.0778 81.5206,-30.082 70.9379,-30.589 73.5639,-37.0778\"/>\n",
       "</g>\n",
       "<!-- 2 -->\n",
       "<g id=\"node3\" class=\"node\">\n",
       "<title>2</title>\n",
       "<text text-anchor=\"middle\" x=\"205.9126\" y=\"-194.8\" font-family=\"Times,serif\" font-size=\"14.00\" fill=\"#000000\">1996</text>\n",
       "</g>\n",
       "<!-- 1&#45;&gt;2 -->\n",
       "<g id=\"edge2\" class=\"edge\">\n",
       "<title>1&#45;&gt;2</title>\n",
       "<path fill=\"none\" stroke=\"#000000\" d=\"M106.0451,-142.1486C116.5321,-152.4631 137.2902,-171.5366 158.1465,-183 165.5005,-187.0421 174.0523,-190.3019 181.8707,-192.7979\"/>\n",
       "<polygon fill=\"#000000\" stroke=\"#000000\" points=\"180.9832,-196.185 191.5641,-195.6409 182.9533,-189.4679 180.9832,-196.185\"/>\n",
       "</g>\n",
       "<!-- 3 -->\n",
       "<g id=\"node4\" class=\"node\">\n",
       "<title>3</title>\n",
       "<text text-anchor=\"middle\" x=\"205.9126\" y=\"-162.8\" font-family=\"Times,serif\" font-size=\"14.00\" fill=\"#000000\">Jeep</text>\n",
       "</g>\n",
       "<!-- 1&#45;&gt;3 -->\n",
       "<g id=\"edge3\" class=\"edge\">\n",
       "<title>1&#45;&gt;3</title>\n",
       "<path fill=\"none\" stroke=\"#000000\" d=\"M122.2145,-141.9435C140.4873,-147.4138 165.7948,-154.99 183.7861,-160.376\"/>\n",
       "<polygon fill=\"#000000\" stroke=\"#000000\" points=\"182.8414,-163.7466 193.4251,-163.2617 184.849,-157.0407 182.8414,-163.7466\"/>\n",
       "</g>\n",
       "<!-- 4 -->\n",
       "<g id=\"node5\" class=\"node\">\n",
       "<title>4</title>\n",
       "<text text-anchor=\"middle\" x=\"205.9126\" y=\"-130.8\" font-family=\"Times,serif\" font-size=\"14.00\" fill=\"#000000\">Grand Cherokee</text>\n",
       "</g>\n",
       "<!-- 1&#45;&gt;4 -->\n",
       "<g id=\"edge4\" class=\"edge\">\n",
       "<title>1&#45;&gt;4</title>\n",
       "<path fill=\"none\" stroke=\"#000000\" d=\"M122.2145,-135C130.3263,-135 139.8244,-135 149.4533,-135\"/>\n",
       "<polygon fill=\"#000000\" stroke=\"#000000\" points=\"149.4824,-138.5001 159.4824,-135 149.4823,-131.5001 149.4824,-138.5001\"/>\n",
       "</g>\n",
       "<!-- 5 -->\n",
       "<g id=\"node6\" class=\"node\">\n",
       "<title>5</title>\n",
       "<text text-anchor=\"middle\" x=\"205.9126\" y=\"-98.8\" font-family=\"Times,serif\" font-size=\"14.00\" fill=\"#ff0000\">&quot;MUST SELL!</text>\n",
       "</g>\n",
       "<!-- 1&#45;&gt;5 -->\n",
       "<g id=\"edge5\" class=\"edge\">\n",
       "<title>1&#45;&gt;5</title>\n",
       "<path fill=\"none\" stroke=\"#000000\" d=\"M122.2145,-128.0565C136.9606,-123.642 156.2879,-117.856 172.6543,-112.9564\"/>\n",
       "<polygon fill=\"#000000\" stroke=\"#000000\" points=\"173.8186,-116.2614 182.3947,-110.0405 171.811,-109.5555 173.8186,-116.2614\"/>\n",
       "</g>\n",
       "<!-- 7 -->\n",
       "<g id=\"node8\" class=\"node\">\n",
       "<title>7</title>\n",
       "<text text-anchor=\"middle\" x=\"205.9126\" y=\"-66.8\" font-family=\"Times,serif\" font-size=\"14.00\" fill=\"#ff0000\">air</text>\n",
       "</g>\n",
       "<!-- 6&#45;&gt;7 -->\n",
       "<g id=\"edge7\" class=\"edge\">\n",
       "<title>6&#45;&gt;7</title>\n",
       "<path fill=\"none\" stroke=\"#000000\" d=\"M122.2145,-58.4718C142.0531,-61.4413 170.1835,-65.6519 188.2407,-68.3548\"/>\n",
       "<polygon fill=\"#000000\" stroke=\"#000000\" points=\"187.8333,-71.8327 198.2413,-69.8517 188.8696,-64.9099 187.8333,-71.8327\"/>\n",
       "</g>\n",
       "<!-- 8 -->\n",
       "<g id=\"node9\" class=\"node\">\n",
       "<title>8</title>\n",
       "<text text-anchor=\"middle\" x=\"205.9126\" y=\"-34.8\" font-family=\"Times,serif\" font-size=\"14.00\" fill=\"#ff0000\"> moon roof</text>\n",
       "</g>\n",
       "<!-- 6&#45;&gt;8 -->\n",
       "<g id=\"edge8\" class=\"edge\">\n",
       "<title>6&#45;&gt;8</title>\n",
       "<path fill=\"none\" stroke=\"#000000\" d=\"M122.2145,-51.5282C134.5669,-49.6793 150.1338,-47.3492 164.4823,-45.2014\"/>\n",
       "<polygon fill=\"#000000\" stroke=\"#000000\" points=\"165.2798,-48.6212 174.6514,-43.6793 164.2435,-41.6983 165.2798,-48.6212\"/>\n",
       "</g>\n",
       "<!-- 9 -->\n",
       "<g id=\"node10\" class=\"node\">\n",
       "<title>9</title>\n",
       "<text text-anchor=\"middle\" x=\"205.9126\" y=\"-2.8\" font-family=\"Times,serif\" font-size=\"14.00\" fill=\"#ff0000\"> loaded&quot;,4799.00</text>\n",
       "</g>\n",
       "<!-- 6&#45;&gt;9 -->\n",
       "<g id=\"edge9\" class=\"edge\">\n",
       "<title>6&#45;&gt;9</title>\n",
       "<path fill=\"none\" stroke=\"#000000\" d=\"M110.9438,-47.7511C122.6731,-40.813 141.2307,-30.345 158.1465,-23 162.719,-21.0146 167.6234,-19.12 172.4851,-17.3744\"/>\n",
       "<polygon fill=\"#000000\" stroke=\"#000000\" points=\"173.9578,-20.5697 182.2847,-14.0189 171.6901,-13.9472 173.9578,-20.5697\"/>\n",
       "</g>\n",
       "</g>\n",
       "</svg>\n"
      ],
      "text/plain": [
       "<graphviz.dot.Digraph at 0x11ca2e5f8>"
      ]
     },
     "metadata": {},
     "output_type": "display_data"
    }
   ],
   "source": [
    "tree = parse_csv(mystring)\n",
    "bad_nodes = {5, 6, 7, 8, 9, 10}\n",
    "display_tree(tree, node_attr=highlight_err_node, graph_attr=lr_graph)"
   ]
  },
  {
   "cell_type": "markdown",
   "metadata": {
    "slideshow": {
     "slide_type": "subslide"
    }
   },
   "source": [
    "Fixing this would require modifying both inner `parse_quote()` and the outer `parse_csv()` procedures. We note that each of these features actually documented in the CSV [RFC 4180](https://tools.ietf.org/html/rfc4180)"
   ]
  },
  {
   "cell_type": "markdown",
   "metadata": {
    "slideshow": {
     "slide_type": "fragment"
    }
   },
   "source": [
    "Indeed, each additional improvement falls apart even with a little extra complexity. The problem becomes severe when one encounters recursive expressions. For example, JSON is a common alternative to CSV files for saving data. Similarly, one may have to parse data from an HTML table instead of a CSV file if one is getting the data from the web.\n",
    "\n",
    "One might be tempted to fix it with a little more ad hoc parsing, with a bit of *regular expressions* thrown in. However, that is the [path to insanity](https://stackoverflow.com/a/1732454)."
   ]
  },
  {
   "cell_type": "markdown",
   "metadata": {
    "slideshow": {
     "slide_type": "subslide"
    }
   },
   "source": [
    "It is here that _formal parsers_ shine. The main idea is that, any given set of strings belong to a language, and these languages can be specified by their grammars (as we saw in the [chapter on grammars](Grammars.ipynb)). The great thing about grammars is that they can be _composed_. That is, one can introduce finer and finer details into an internal structure without affecting the external structure, and similarly, one can change the external structure without much impact on the internal structure. We briefly describe grammars in the next section."
   ]
  },
  {
   "cell_type": "markdown",
   "metadata": {
    "slideshow": {
     "slide_type": "slide"
    },
    "toc-hr-collapsed": true
   },
   "source": [
    "## Grammars\n",
    "\n",
    "A grammar, as you have read from the [chapter on grammars](Grammars.ipynb) is a set of _rules_ that explain how the start symbol can be expanded. Each rule has a name, also called a _nonterminal_, and a set of _alternative choices_ in how the nonterminal can be expanded."
   ]
  },
  {
   "cell_type": "code",
   "execution_count": 34,
   "metadata": {
    "slideshow": {
     "slide_type": "subslide"
    }
   },
   "outputs": [],
   "source": [
    "A1_GRAMMAR = {\n",
    "    \"<start>\": [\"<expr>\"],\n",
    "    \"<expr>\": [\"<expr>+<expr>\", \"<expr>-<expr>\", \"<integer>\"],\n",
    "    \"<integer>\": [\"<digit><integer>\", \"<digit>\"],\n",
    "    \"<digit>\": [\"0\", \"1\", \"2\", \"3\", \"4\", \"5\", \"6\", \"7\", \"8\", \"9\"]\n",
    "}"
   ]
  },
  {
   "cell_type": "code",
   "execution_count": 35,
   "metadata": {
    "slideshow": {
     "slide_type": "subslide"
    }
   },
   "outputs": [
    {
     "name": "stdout",
     "output_type": "stream",
     "text": [
      "start\n"
     ]
    },
    {
     "data": {
      "image/svg+xml": [
       "<svg class=\"railroad-diagram\" height=\"62\" viewBox=\"0 0 174.0 62\" width=\"174.0\" xmlns=\"http://www.w3.org/2000/svg\">\n",
       "<g transform=\"translate(.5 .5)\">\n",
       "<style>/* <![CDATA[ */\n",
       "    svg.railroad-diagram {\n",
       "        background-color:hsl(100,100%,100%);\n",
       "    }\n",
       "    svg.railroad-diagram path {\n",
       "        stroke-width:3;\n",
       "        stroke:black;\n",
       "        fill:rgba(0,0,0,0);\n",
       "    }\n",
       "    svg.railroad-diagram text {\n",
       "        font:bold 14px monospace;\n",
       "        text-anchor:middle;\n",
       "    }\n",
       "    svg.railroad-diagram text.label{\n",
       "        text-anchor:start;\n",
       "    }\n",
       "    svg.railroad-diagram text.comment{\n",
       "        font:italic 12px monospace;\n",
       "    }\n",
       "    svg.railroad-diagram rect{\n",
       "        stroke-width:3;\n",
       "        stroke:black;\n",
       "        fill:hsl(0,62%,82%);\n",
       "    }\n",
       "\n",
       "/* ]]> */\n",
       "</style><g>\n",
       "<path d=\"M20 21v20m10 -20v20m-10 -10h20\"/></g><g>\n",
       "<path d=\"M40 31h0.0\"/><path d=\"M134.0 31h0.0\"/><path d=\"M40.0 31h20\"/><g>\n",
       "<path d=\"M60.0 31h0.0\"/><path d=\"M114.0 31h0.0\"/><g class=\"non-terminal\">\n",
       "<path d=\"M60.0 31h0.0\"/><path d=\"M114.0 31h0.0\"/><rect height=\"22\" width=\"54.0\" x=\"60.0\" y=\"20\"/><text x=\"87.0\" y=\"35\">expr</text></g></g><path d=\"M114.0 31h20\"/></g><path d=\"M 134.0 31 h 20 m -10 -10 v 20 m 10 -20 v 20\"/></g></svg>"
      ],
      "text/plain": [
       "<IPython.core.display.SVG object>"
      ]
     },
     "metadata": {},
     "output_type": "display_data"
    },
    {
     "name": "stdout",
     "output_type": "stream",
     "text": [
      "expr\n"
     ]
    },
    {
     "data": {
      "image/svg+xml": [
       "<svg class=\"railroad-diagram\" height=\"122\" viewBox=\"0 0 296.5 122\" width=\"296.5\" xmlns=\"http://www.w3.org/2000/svg\">\n",
       "<g transform=\"translate(.5 .5)\">\n",
       "<style>/* <![CDATA[ */\n",
       "    svg.railroad-diagram {\n",
       "        background-color:hsl(100,100%,100%);\n",
       "    }\n",
       "    svg.railroad-diagram path {\n",
       "        stroke-width:3;\n",
       "        stroke:black;\n",
       "        fill:rgba(0,0,0,0);\n",
       "    }\n",
       "    svg.railroad-diagram text {\n",
       "        font:bold 14px monospace;\n",
       "        text-anchor:middle;\n",
       "    }\n",
       "    svg.railroad-diagram text.label{\n",
       "        text-anchor:start;\n",
       "    }\n",
       "    svg.railroad-diagram text.comment{\n",
       "        font:italic 12px monospace;\n",
       "    }\n",
       "    svg.railroad-diagram rect{\n",
       "        stroke-width:3;\n",
       "        stroke:black;\n",
       "        fill:hsl(0,62%,82%);\n",
       "    }\n",
       "\n",
       "/* ]]> */\n",
       "</style><g>\n",
       "<path d=\"M20 51v20m10 -20v20m-10 -10h20\"/></g><g>\n",
       "<path d=\"M40 61h0.0\"/><path d=\"M256.5 61h0.0\"/><path d=\"M40.0 61a10 10 0 0 0 10 -10v-10a10 10 0 0 1 10 -10\"/><g>\n",
       "<path d=\"M60.0 31h0.0\"/><path d=\"M236.5 31h0.0\"/><g class=\"non-terminal\">\n",
       "<path d=\"M60.0 31h0.0\"/><path d=\"M114.0 31h0.0\"/><rect height=\"22\" width=\"54.0\" x=\"60.0\" y=\"20\"/><text x=\"87.0\" y=\"35\">expr</text></g><path d=\"M114.0 31h10\"/><path d=\"M124.0 31h10\"/><g class=\"terminal\">\n",
       "<path d=\"M134.0 31h0.0\"/><path d=\"M162.5 31h0.0\"/><rect height=\"22\" rx=\"10\" ry=\"10\" width=\"28.5\" x=\"134.0\" y=\"20\"/><text x=\"148.25\" y=\"35\">+</text></g><path d=\"M162.5 31h10\"/><path d=\"M172.5 31h10\"/><g class=\"non-terminal\">\n",
       "<path d=\"M182.5 31h0.0\"/><path d=\"M236.5 31h0.0\"/><rect height=\"22\" width=\"54.0\" x=\"182.5\" y=\"20\"/><text x=\"209.5\" y=\"35\">expr</text></g></g><path d=\"M236.5 31a10 10 0 0 1 10 10v10a10 10 0 0 0 10 10\"/><path d=\"M40.0 61h20\"/><g>\n",
       "<path d=\"M60.0 61h0.0\"/><path d=\"M236.5 61h0.0\"/><g class=\"non-terminal\">\n",
       "<path d=\"M60.0 61h0.0\"/><path d=\"M114.0 61h0.0\"/><rect height=\"22\" width=\"54.0\" x=\"60.0\" y=\"50\"/><text x=\"87.0\" y=\"65\">expr</text></g><path d=\"M114.0 61h10\"/><path d=\"M124.0 61h10\"/><g class=\"terminal\">\n",
       "<path d=\"M134.0 61h0.0\"/><path d=\"M162.5 61h0.0\"/><rect height=\"22\" rx=\"10\" ry=\"10\" width=\"28.5\" x=\"134.0\" y=\"50\"/><text x=\"148.25\" y=\"65\">-</text></g><path d=\"M162.5 61h10\"/><path d=\"M172.5 61h10\"/><g class=\"non-terminal\">\n",
       "<path d=\"M182.5 61h0.0\"/><path d=\"M236.5 61h0.0\"/><rect height=\"22\" width=\"54.0\" x=\"182.5\" y=\"50\"/><text x=\"209.5\" y=\"65\">expr</text></g></g><path d=\"M236.5 61h20\"/><path d=\"M40.0 61a10 10 0 0 1 10 10v10a10 10 0 0 0 10 10\"/><g>\n",
       "<path d=\"M60.0 91h48.5\"/><path d=\"M188.0 91h48.5\"/><g class=\"non-terminal\">\n",
       "<path d=\"M108.5 91h0.0\"/><path d=\"M188.0 91h0.0\"/><rect height=\"22\" width=\"79.5\" x=\"108.5\" y=\"80\"/><text x=\"148.25\" y=\"95\">integer</text></g></g><path d=\"M236.5 91a10 10 0 0 0 10 -10v-10a10 10 0 0 1 10 -10\"/></g><path d=\"M 256.5 61 h 20 m -10 -10 v 20 m 10 -20 v 20\"/></g></svg>"
      ],
      "text/plain": [
       "<IPython.core.display.SVG object>"
      ]
     },
     "metadata": {},
     "output_type": "display_data"
    },
    {
     "name": "stdout",
     "output_type": "stream",
     "text": [
      "integer\n"
     ]
    },
    {
     "data": {
      "image/svg+xml": [
       "<svg class=\"railroad-diagram\" height=\"92\" viewBox=\"0 0 282.0 92\" width=\"282.0\" xmlns=\"http://www.w3.org/2000/svg\">\n",
       "<g transform=\"translate(.5 .5)\">\n",
       "<style>/* <![CDATA[ */\n",
       "    svg.railroad-diagram {\n",
       "        background-color:hsl(100,100%,100%);\n",
       "    }\n",
       "    svg.railroad-diagram path {\n",
       "        stroke-width:3;\n",
       "        stroke:black;\n",
       "        fill:rgba(0,0,0,0);\n",
       "    }\n",
       "    svg.railroad-diagram text {\n",
       "        font:bold 14px monospace;\n",
       "        text-anchor:middle;\n",
       "    }\n",
       "    svg.railroad-diagram text.label{\n",
       "        text-anchor:start;\n",
       "    }\n",
       "    svg.railroad-diagram text.comment{\n",
       "        font:italic 12px monospace;\n",
       "    }\n",
       "    svg.railroad-diagram rect{\n",
       "        stroke-width:3;\n",
       "        stroke:black;\n",
       "        fill:hsl(0,62%,82%);\n",
       "    }\n",
       "\n",
       "/* ]]> */\n",
       "</style><g>\n",
       "<path d=\"M20 51v20m10 -20v20m-10 -10h20\"/></g><g>\n",
       "<path d=\"M40 61h0.0\"/><path d=\"M242.0 61h0.0\"/><path d=\"M40.0 61a10 10 0 0 0 10 -10v-10a10 10 0 0 1 10 -10\"/><g>\n",
       "<path d=\"M60.0 31h0.0\"/><path d=\"M222.0 31h0.0\"/><g class=\"non-terminal\">\n",
       "<path d=\"M60.0 31h0.0\"/><path d=\"M122.5 31h0.0\"/><rect height=\"22\" width=\"62.5\" x=\"60.0\" y=\"20\"/><text x=\"91.25\" y=\"35\">digit</text></g><path d=\"M122.5 31h10\"/><path d=\"M132.5 31h10\"/><g class=\"non-terminal\">\n",
       "<path d=\"M142.5 31h0.0\"/><path d=\"M222.0 31h0.0\"/><rect height=\"22\" width=\"79.5\" x=\"142.5\" y=\"20\"/><text x=\"182.25\" y=\"35\">integer</text></g></g><path d=\"M222.0 31a10 10 0 0 1 10 10v10a10 10 0 0 0 10 10\"/><path d=\"M40.0 61h20\"/><g>\n",
       "<path d=\"M60.0 61h49.75\"/><path d=\"M172.25 61h49.75\"/><g class=\"non-terminal\">\n",
       "<path d=\"M109.75 61h0.0\"/><path d=\"M172.25 61h0.0\"/><rect height=\"22\" width=\"62.5\" x=\"109.75\" y=\"50\"/><text x=\"141.0\" y=\"65\">digit</text></g></g><path d=\"M222.0 61h20\"/></g><path d=\"M 242.0 61 h 20 m -10 -10 v 20 m 10 -20 v 20\"/></g></svg>"
      ],
      "text/plain": [
       "<IPython.core.display.SVG object>"
      ]
     },
     "metadata": {},
     "output_type": "display_data"
    },
    {
     "name": "stdout",
     "output_type": "stream",
     "text": [
      "digit\n"
     ]
    },
    {
     "data": {
      "image/svg+xml": [
       "<svg class=\"railroad-diagram\" height=\"109\" viewBox=\"0 0 522.5 109\" width=\"522.5\" xmlns=\"http://www.w3.org/2000/svg\">\n",
       "<g transform=\"translate(.5 .5)\">\n",
       "<style>/* <![CDATA[ */\n",
       "    svg.railroad-diagram {\n",
       "        background-color:hsl(100,100%,100%);\n",
       "    }\n",
       "    svg.railroad-diagram path {\n",
       "        stroke-width:3;\n",
       "        stroke:black;\n",
       "        fill:rgba(0,0,0,0);\n",
       "    }\n",
       "    svg.railroad-diagram text {\n",
       "        font:bold 14px monospace;\n",
       "        text-anchor:middle;\n",
       "    }\n",
       "    svg.railroad-diagram text.label{\n",
       "        text-anchor:start;\n",
       "    }\n",
       "    svg.railroad-diagram text.comment{\n",
       "        font:italic 12px monospace;\n",
       "    }\n",
       "    svg.railroad-diagram rect{\n",
       "        stroke-width:3;\n",
       "        stroke:black;\n",
       "        fill:hsl(0,62%,82%);\n",
       "    }\n",
       "\n",
       "/* ]]> */\n",
       "</style><g>\n",
       "<path d=\"M20 59v20m10 -20v20m-10 -10h20\"/></g><g>\n",
       "<path d=\"M40 69h0.0\"/><path d=\"M482.5 69h0.0\"/><path d=\"M40.0 69a10 10 0 0 0 10 -10v-29a10 10 0 0 1 10 -10h324.0\"/><path d=\"M138.5 89h324.0a10 10 0 0 0 10 -10v0a10 10 0 0 1 10 -10\"/><path d=\"M40.0 69h10\"/><g>\n",
       "<path d=\"M50.0 69h0.0\"/><path d=\"M118.5 69h0.0\"/><path d=\"M50.0 69a10 10 0 0 0 10 -10v-10a10 10 0 0 1 10 -10\"/><g>\n",
       "<path d=\"M70.0 39h0.0\"/><path d=\"M98.5 39h0.0\"/><g class=\"terminal\">\n",
       "<path d=\"M70.0 39h0.0\"/><path d=\"M98.5 39h0.0\"/><rect height=\"22\" rx=\"10\" ry=\"10\" width=\"28.5\" x=\"70.0\" y=\"28\"/><text x=\"84.25\" y=\"43\">0</text></g></g><path d=\"M98.5 39a10 10 0 0 1 10 10v10a10 10 0 0 0 10 10\"/><path d=\"M50.0 69h20\"/><g>\n",
       "<path d=\"M70.0 69h0.0\"/><path d=\"M98.5 69h0.0\"/><g class=\"terminal\">\n",
       "<path d=\"M70.0 69h0.0\"/><path d=\"M98.5 69h0.0\"/><rect height=\"22\" rx=\"10\" ry=\"10\" width=\"28.5\" x=\"70.0\" y=\"58\"/><text x=\"84.25\" y=\"73\">1</text></g></g><path d=\"M98.5 69h20\"/></g><path d=\"M118.5 69a10 10 0 0 1 10 10v0a10 10 0 0 0 10 10\"/><path d=\"M118.5 20a10 10 0 0 1 10 10v29a10 10 0 0 0 10 10\"/><g>\n",
       "<path d=\"M138.5 69h0.0\"/><path d=\"M207.0 69h0.0\"/><path d=\"M138.5 69a10 10 0 0 0 10 -10v-10a10 10 0 0 1 10 -10\"/><g>\n",
       "<path d=\"M158.5 39h0.0\"/><path d=\"M187.0 39h0.0\"/><g class=\"terminal\">\n",
       "<path d=\"M158.5 39h0.0\"/><path d=\"M187.0 39h0.0\"/><rect height=\"22\" rx=\"10\" ry=\"10\" width=\"28.5\" x=\"158.5\" y=\"28\"/><text x=\"172.75\" y=\"43\">2</text></g></g><path d=\"M187.0 39a10 10 0 0 1 10 10v10a10 10 0 0 0 10 10\"/><path d=\"M138.5 69h20\"/><g>\n",
       "<path d=\"M158.5 69h0.0\"/><path d=\"M187.0 69h0.0\"/><g class=\"terminal\">\n",
       "<path d=\"M158.5 69h0.0\"/><path d=\"M187.0 69h0.0\"/><rect height=\"22\" rx=\"10\" ry=\"10\" width=\"28.5\" x=\"158.5\" y=\"58\"/><text x=\"172.75\" y=\"73\">3</text></g></g><path d=\"M187.0 69h20\"/></g><path d=\"M207.0 69a10 10 0 0 1 10 10v0a10 10 0 0 0 10 10\"/><path d=\"M207.0 20a10 10 0 0 1 10 10v29a10 10 0 0 0 10 10\"/><g>\n",
       "<path d=\"M227.0 69h0.0\"/><path d=\"M295.5 69h0.0\"/><path d=\"M227.0 69a10 10 0 0 0 10 -10v-10a10 10 0 0 1 10 -10\"/><g>\n",
       "<path d=\"M247.0 39h0.0\"/><path d=\"M275.5 39h0.0\"/><g class=\"terminal\">\n",
       "<path d=\"M247.0 39h0.0\"/><path d=\"M275.5 39h0.0\"/><rect height=\"22\" rx=\"10\" ry=\"10\" width=\"28.5\" x=\"247.0\" y=\"28\"/><text x=\"261.25\" y=\"43\">4</text></g></g><path d=\"M275.5 39a10 10 0 0 1 10 10v10a10 10 0 0 0 10 10\"/><path d=\"M227.0 69h20\"/><g>\n",
       "<path d=\"M247.0 69h0.0\"/><path d=\"M275.5 69h0.0\"/><g class=\"terminal\">\n",
       "<path d=\"M247.0 69h0.0\"/><path d=\"M275.5 69h0.0\"/><rect height=\"22\" rx=\"10\" ry=\"10\" width=\"28.5\" x=\"247.0\" y=\"58\"/><text x=\"261.25\" y=\"73\">5</text></g></g><path d=\"M275.5 69h20\"/></g><path d=\"M295.5 69a10 10 0 0 1 10 10v0a10 10 0 0 0 10 10\"/><path d=\"M295.5 20a10 10 0 0 1 10 10v29a10 10 0 0 0 10 10\"/><g>\n",
       "<path d=\"M315.5 69h0.0\"/><path d=\"M384.0 69h0.0\"/><path d=\"M315.5 69a10 10 0 0 0 10 -10v-10a10 10 0 0 1 10 -10\"/><g>\n",
       "<path d=\"M335.5 39h0.0\"/><path d=\"M364.0 39h0.0\"/><g class=\"terminal\">\n",
       "<path d=\"M335.5 39h0.0\"/><path d=\"M364.0 39h0.0\"/><rect height=\"22\" rx=\"10\" ry=\"10\" width=\"28.5\" x=\"335.5\" y=\"28\"/><text x=\"349.75\" y=\"43\">6</text></g></g><path d=\"M364.0 39a10 10 0 0 1 10 10v10a10 10 0 0 0 10 10\"/><path d=\"M315.5 69h20\"/><g>\n",
       "<path d=\"M335.5 69h0.0\"/><path d=\"M364.0 69h0.0\"/><g class=\"terminal\">\n",
       "<path d=\"M335.5 69h0.0\"/><path d=\"M364.0 69h0.0\"/><rect height=\"22\" rx=\"10\" ry=\"10\" width=\"28.5\" x=\"335.5\" y=\"58\"/><text x=\"349.75\" y=\"73\">7</text></g></g><path d=\"M364.0 69h20\"/></g><path d=\"M384.0 69a10 10 0 0 1 10 10v0a10 10 0 0 0 10 10\"/><path d=\"M384.0 20a10 10 0 0 1 10 10v29a10 10 0 0 0 10 10\"/><g>\n",
       "<path d=\"M404.0 69h0.0\"/><path d=\"M472.5 69h0.0\"/><path d=\"M404.0 69a10 10 0 0 0 10 -10v-10a10 10 0 0 1 10 -10\"/><g>\n",
       "<path d=\"M424.0 39h0.0\"/><path d=\"M452.5 39h0.0\"/><g class=\"terminal\">\n",
       "<path d=\"M424.0 39h0.0\"/><path d=\"M452.5 39h0.0\"/><rect height=\"22\" rx=\"10\" ry=\"10\" width=\"28.5\" x=\"424.0\" y=\"28\"/><text x=\"438.25\" y=\"43\">8</text></g></g><path d=\"M452.5 39a10 10 0 0 1 10 10v10a10 10 0 0 0 10 10\"/><path d=\"M404.0 69h20\"/><g>\n",
       "<path d=\"M424.0 69h0.0\"/><path d=\"M452.5 69h0.0\"/><g class=\"terminal\">\n",
       "<path d=\"M424.0 69h0.0\"/><path d=\"M452.5 69h0.0\"/><rect height=\"22\" rx=\"10\" ry=\"10\" width=\"28.5\" x=\"424.0\" y=\"58\"/><text x=\"438.25\" y=\"73\">9</text></g></g><path d=\"M452.5 69h20\"/></g><path d=\"M472.5 69h10\"/></g><path d=\"M 482.5 69 h 20 m -10 -10 v 20 m 10 -20 v 20\"/></g></svg>"
      ],
      "text/plain": [
       "<IPython.core.display.SVG object>"
      ]
     },
     "metadata": {},
     "output_type": "display_data"
    }
   ],
   "source": [
    "syntax_diagram(A1_GRAMMAR)"
   ]
  },
  {
   "cell_type": "markdown",
   "metadata": {
    "slideshow": {
     "slide_type": "notes"
    }
   },
   "source": [
    "In the above expression, the rule `<expr> : [<expr>+<expr>,<expr>-<expr>,<integer>]` corresponds to how the nonterminal `<expr>` might be expanded.  The expression `<expr>+<expr>` corresponds to one of the alternative choices. We call this an _alternative_ expansion for the nonterminal `<expr>`. Finally, in an expression `<expr>+<expr>`, each of `<expr>`, `+`, and `<expr>` are _symbols_ in that expansion. A symbol could be either a nonterminal or a terminal symbol based on whether its expansion is available in the grammar."
   ]
  },
  {
   "cell_type": "markdown",
   "metadata": {
    "slideshow": {
     "slide_type": "slide"
    }
   },
   "source": [
    "Here is a string that represents an arithmetic expression that we would like to parse, which is specified by the grammar above:"
   ]
  },
  {
   "cell_type": "code",
   "execution_count": 36,
   "metadata": {
    "slideshow": {
     "slide_type": "fragment"
    }
   },
   "outputs": [],
   "source": [
    "mystring = '1+2'"
   ]
  },
  {
   "cell_type": "markdown",
   "metadata": {
    "slideshow": {
     "slide_type": "subslide"
    }
   },
   "source": [
    "The _derivation tree_ for our expression from this grammar is given by:"
   ]
  },
  {
   "cell_type": "code",
   "execution_count": 37,
   "metadata": {
    "slideshow": {
     "slide_type": "fragment"
    }
   },
   "outputs": [
    {
     "data": {
      "image/svg+xml": [
       "<?xml version=\"1.0\" encoding=\"UTF-8\" standalone=\"no\"?>\n",
       "<!DOCTYPE svg PUBLIC \"-//W3C//DTD SVG 1.1//EN\"\n",
       " \"http://www.w3.org/Graphics/SVG/1.1/DTD/svg11.dtd\">\n",
       "<!-- Generated by graphviz version 2.40.1 (20161225.0304)\n",
       " -->\n",
       "<!-- Title: %3 Pages: 1 -->\n",
       "<svg width=\"147pt\" height=\"272pt\"\n",
       " viewBox=\"0.00 0.00 146.66 272.00\" xmlns=\"http://www.w3.org/2000/svg\" xmlns:xlink=\"http://www.w3.org/1999/xlink\">\n",
       "<g id=\"graph0\" class=\"graph\" transform=\"scale(1 1) rotate(0) translate(4 268)\">\n",
       "<title>%3</title>\n",
       "<polygon fill=\"#ffffff\" stroke=\"transparent\" points=\"-4,4 -4,-268 142.6602,-268 142.6602,4 -4,4\"/>\n",
       "<!-- 0 -->\n",
       "<g id=\"node1\" class=\"node\">\n",
       "<title>0</title>\n",
       "<text text-anchor=\"middle\" x=\"69.3301\" y=\"-252.8\" font-family=\"Times,serif\" font-size=\"14.00\" fill=\"#000000\">&lt;start&gt;</text>\n",
       "</g>\n",
       "<!-- 1 -->\n",
       "<g id=\"node2\" class=\"node\">\n",
       "<title>1</title>\n",
       "<text text-anchor=\"middle\" x=\"69.3301\" y=\"-202.8\" font-family=\"Times,serif\" font-size=\"14.00\" fill=\"#000000\">&lt;expr&gt;</text>\n",
       "</g>\n",
       "<!-- 0&#45;&gt;1 -->\n",
       "<g id=\"edge1\" class=\"edge\">\n",
       "<title>0&#45;&gt;1</title>\n",
       "<path fill=\"none\" stroke=\"#000000\" d=\"M69.3301,-249.6223C69.3301,-242.9738 69.3301,-232.942 69.3301,-224.2807\"/>\n",
       "<polygon fill=\"#000000\" stroke=\"#000000\" points=\"72.8302,-224.0842 69.3301,-214.0842 65.8302,-224.0842 72.8302,-224.0842\"/>\n",
       "</g>\n",
       "<!-- 2 -->\n",
       "<g id=\"node3\" class=\"node\">\n",
       "<title>2</title>\n",
       "<text text-anchor=\"middle\" x=\"27.3301\" y=\"-152.8\" font-family=\"Times,serif\" font-size=\"14.00\" fill=\"#000000\">&lt;expr&gt;</text>\n",
       "</g>\n",
       "<!-- 1&#45;&gt;2 -->\n",
       "<g id=\"edge2\" class=\"edge\">\n",
       "<title>1&#45;&gt;2</title>\n",
       "<path fill=\"none\" stroke=\"#000000\" d=\"M63.1328,-199.6223C57.046,-192.3761 47.5834,-181.1111 39.9148,-171.9818\"/>\n",
       "<polygon fill=\"#000000\" stroke=\"#000000\" points=\"42.3927,-169.4901 33.2808,-164.0842 37.0328,-173.9924 42.3927,-169.4901\"/>\n",
       "</g>\n",
       "<!-- 6 -->\n",
       "<g id=\"node7\" class=\"node\">\n",
       "<title>6</title>\n",
       "<text text-anchor=\"middle\" x=\"69.3301\" y=\"-152.8\" font-family=\"Times,serif\" font-size=\"14.00\" fill=\"#000000\">+</text>\n",
       "</g>\n",
       "<!-- 1&#45;&gt;6 -->\n",
       "<g id=\"edge6\" class=\"edge\">\n",
       "<title>1&#45;&gt;6</title>\n",
       "<path fill=\"none\" stroke=\"#000000\" d=\"M69.3301,-199.6223C69.3301,-192.9738 69.3301,-182.942 69.3301,-174.2807\"/>\n",
       "<polygon fill=\"#000000\" stroke=\"#000000\" points=\"72.8302,-174.0842 69.3301,-164.0842 65.8302,-174.0842 72.8302,-174.0842\"/>\n",
       "</g>\n",
       "<!-- 7 -->\n",
       "<g id=\"node8\" class=\"node\">\n",
       "<title>7</title>\n",
       "<text text-anchor=\"middle\" x=\"111.3301\" y=\"-152.8\" font-family=\"Times,serif\" font-size=\"14.00\" fill=\"#000000\">&lt;expr&gt;</text>\n",
       "</g>\n",
       "<!-- 1&#45;&gt;7 -->\n",
       "<g id=\"edge7\" class=\"edge\">\n",
       "<title>1&#45;&gt;7</title>\n",
       "<path fill=\"none\" stroke=\"#000000\" d=\"M75.5273,-199.6223C81.6141,-192.3761 91.0767,-181.1111 98.7454,-171.9818\"/>\n",
       "<polygon fill=\"#000000\" stroke=\"#000000\" points=\"101.6274,-173.9924 105.3794,-164.0842 96.2674,-169.4901 101.6274,-173.9924\"/>\n",
       "</g>\n",
       "<!-- 3 -->\n",
       "<g id=\"node4\" class=\"node\">\n",
       "<title>3</title>\n",
       "<text text-anchor=\"middle\" x=\"27.3301\" y=\"-102.8\" font-family=\"Times,serif\" font-size=\"14.00\" fill=\"#000000\">&lt;integer&gt;</text>\n",
       "</g>\n",
       "<!-- 2&#45;&gt;3 -->\n",
       "<g id=\"edge3\" class=\"edge\">\n",
       "<title>2&#45;&gt;3</title>\n",
       "<path fill=\"none\" stroke=\"#000000\" d=\"M27.3301,-149.6223C27.3301,-142.9738 27.3301,-132.942 27.3301,-124.2807\"/>\n",
       "<polygon fill=\"#000000\" stroke=\"#000000\" points=\"30.8302,-124.0842 27.3301,-114.0842 23.8302,-124.0842 30.8302,-124.0842\"/>\n",
       "</g>\n",
       "<!-- 4 -->\n",
       "<g id=\"node5\" class=\"node\">\n",
       "<title>4</title>\n",
       "<text text-anchor=\"middle\" x=\"27.3301\" y=\"-52.8\" font-family=\"Times,serif\" font-size=\"14.00\" fill=\"#000000\">&lt;digit&gt;</text>\n",
       "</g>\n",
       "<!-- 3&#45;&gt;4 -->\n",
       "<g id=\"edge4\" class=\"edge\">\n",
       "<title>3&#45;&gt;4</title>\n",
       "<path fill=\"none\" stroke=\"#000000\" d=\"M27.3301,-99.6223C27.3301,-92.9738 27.3301,-82.942 27.3301,-74.2807\"/>\n",
       "<polygon fill=\"#000000\" stroke=\"#000000\" points=\"30.8302,-74.0842 27.3301,-64.0842 23.8302,-74.0842 30.8302,-74.0842\"/>\n",
       "</g>\n",
       "<!-- 5 -->\n",
       "<g id=\"node6\" class=\"node\">\n",
       "<title>5</title>\n",
       "<text text-anchor=\"middle\" x=\"27.3301\" y=\"-2.8\" font-family=\"Times,serif\" font-size=\"14.00\" fill=\"#000000\">1</text>\n",
       "</g>\n",
       "<!-- 4&#45;&gt;5 -->\n",
       "<g id=\"edge5\" class=\"edge\">\n",
       "<title>4&#45;&gt;5</title>\n",
       "<path fill=\"none\" stroke=\"#000000\" d=\"M27.3301,-49.6223C27.3301,-42.9738 27.3301,-32.942 27.3301,-24.2807\"/>\n",
       "<polygon fill=\"#000000\" stroke=\"#000000\" points=\"30.8302,-24.0842 27.3301,-14.0842 23.8302,-24.0842 30.8302,-24.0842\"/>\n",
       "</g>\n",
       "<!-- 8 -->\n",
       "<g id=\"node9\" class=\"node\">\n",
       "<title>8</title>\n",
       "<text text-anchor=\"middle\" x=\"111.3301\" y=\"-102.8\" font-family=\"Times,serif\" font-size=\"14.00\" fill=\"#000000\">&lt;integer&gt;</text>\n",
       "</g>\n",
       "<!-- 7&#45;&gt;8 -->\n",
       "<g id=\"edge8\" class=\"edge\">\n",
       "<title>7&#45;&gt;8</title>\n",
       "<path fill=\"none\" stroke=\"#000000\" d=\"M111.3301,-149.6223C111.3301,-142.9738 111.3301,-132.942 111.3301,-124.2807\"/>\n",
       "<polygon fill=\"#000000\" stroke=\"#000000\" points=\"114.8302,-124.0842 111.3301,-114.0842 107.8302,-124.0842 114.8302,-124.0842\"/>\n",
       "</g>\n",
       "<!-- 9 -->\n",
       "<g id=\"node10\" class=\"node\">\n",
       "<title>9</title>\n",
       "<text text-anchor=\"middle\" x=\"111.3301\" y=\"-52.8\" font-family=\"Times,serif\" font-size=\"14.00\" fill=\"#000000\">&lt;digit&gt;</text>\n",
       "</g>\n",
       "<!-- 8&#45;&gt;9 -->\n",
       "<g id=\"edge9\" class=\"edge\">\n",
       "<title>8&#45;&gt;9</title>\n",
       "<path fill=\"none\" stroke=\"#000000\" d=\"M111.3301,-99.6223C111.3301,-92.9738 111.3301,-82.942 111.3301,-74.2807\"/>\n",
       "<polygon fill=\"#000000\" stroke=\"#000000\" points=\"114.8302,-74.0842 111.3301,-64.0842 107.8302,-74.0842 114.8302,-74.0842\"/>\n",
       "</g>\n",
       "<!-- 10 -->\n",
       "<g id=\"node11\" class=\"node\">\n",
       "<title>10</title>\n",
       "<text text-anchor=\"middle\" x=\"111.3301\" y=\"-2.8\" font-family=\"Times,serif\" font-size=\"14.00\" fill=\"#000000\">2</text>\n",
       "</g>\n",
       "<!-- 9&#45;&gt;10 -->\n",
       "<g id=\"edge10\" class=\"edge\">\n",
       "<title>9&#45;&gt;10</title>\n",
       "<path fill=\"none\" stroke=\"#000000\" d=\"M111.3301,-49.6223C111.3301,-42.9738 111.3301,-32.942 111.3301,-24.2807\"/>\n",
       "<polygon fill=\"#000000\" stroke=\"#000000\" points=\"114.8302,-24.0842 111.3301,-14.0842 107.8302,-24.0842 114.8302,-24.0842\"/>\n",
       "</g>\n",
       "</g>\n",
       "</svg>\n"
      ],
      "text/plain": [
       "<graphviz.dot.Digraph at 0x11ca2ea90>"
      ]
     },
     "metadata": {},
     "output_type": "display_data"
    }
   ],
   "source": [
    "tree = ('<start>', [('<expr>',\n",
    "                     [('<expr>', [('<integer>', [('<digit>', [('1', [])])])]),\n",
    "                      ('+', []),\n",
    "                      ('<expr>', [('<integer>', [('<digit>', [('2',\n",
    "                                                               [])])])])])])\n",
    "assert mystring == tree_to_string(tree)\n",
    "display_tree(tree)"
   ]
  },
  {
   "cell_type": "markdown",
   "metadata": {
    "slideshow": {
     "slide_type": "subslide"
    }
   },
   "source": [
    "While a grammar can be used to specify a given language, there could be multiple\n",
    "grammars that correspond to the same language. For example, here is another \n",
    "grammar to describe the same addition expression."
   ]
  },
  {
   "cell_type": "code",
   "execution_count": 38,
   "metadata": {
    "slideshow": {
     "slide_type": "subslide"
    }
   },
   "outputs": [],
   "source": [
    "A2_GRAMMAR = {\n",
    "    \"<start>\": [\"<expr>\"],\n",
    "    \"<expr>\": [\"<integer><expr_>\"],\n",
    "    \"<expr_>\": [\"+<expr>\", \"-<expr>\", \"\"],\n",
    "    \"<integer>\": [\"<digit><integer_>\"],\n",
    "    \"<integer_>\": [\"<integer>\", \"\"],\n",
    "    \"<digit>\": [\"0\", \"1\", \"2\", \"3\", \"4\", \"5\", \"6\", \"7\", \"8\", \"9\"]\n",
    "}"
   ]
  },
  {
   "cell_type": "code",
   "execution_count": 39,
   "metadata": {
    "slideshow": {
     "slide_type": "subslide"
    }
   },
   "outputs": [
    {
     "name": "stdout",
     "output_type": "stream",
     "text": [
      "start\n"
     ]
    },
    {
     "data": {
      "image/svg+xml": [
       "<svg class=\"railroad-diagram\" height=\"62\" viewBox=\"0 0 174.0 62\" width=\"174.0\" xmlns=\"http://www.w3.org/2000/svg\">\n",
       "<g transform=\"translate(.5 .5)\">\n",
       "<style>/* <![CDATA[ */\n",
       "    svg.railroad-diagram {\n",
       "        background-color:hsl(100,100%,100%);\n",
       "    }\n",
       "    svg.railroad-diagram path {\n",
       "        stroke-width:3;\n",
       "        stroke:black;\n",
       "        fill:rgba(0,0,0,0);\n",
       "    }\n",
       "    svg.railroad-diagram text {\n",
       "        font:bold 14px monospace;\n",
       "        text-anchor:middle;\n",
       "    }\n",
       "    svg.railroad-diagram text.label{\n",
       "        text-anchor:start;\n",
       "    }\n",
       "    svg.railroad-diagram text.comment{\n",
       "        font:italic 12px monospace;\n",
       "    }\n",
       "    svg.railroad-diagram rect{\n",
       "        stroke-width:3;\n",
       "        stroke:black;\n",
       "        fill:hsl(0,62%,82%);\n",
       "    }\n",
       "\n",
       "/* ]]> */\n",
       "</style><g>\n",
       "<path d=\"M20 21v20m10 -20v20m-10 -10h20\"/></g><g>\n",
       "<path d=\"M40 31h0.0\"/><path d=\"M134.0 31h0.0\"/><path d=\"M40.0 31h20\"/><g>\n",
       "<path d=\"M60.0 31h0.0\"/><path d=\"M114.0 31h0.0\"/><g class=\"non-terminal\">\n",
       "<path d=\"M60.0 31h0.0\"/><path d=\"M114.0 31h0.0\"/><rect height=\"22\" width=\"54.0\" x=\"60.0\" y=\"20\"/><text x=\"87.0\" y=\"35\">expr</text></g></g><path d=\"M114.0 31h20\"/></g><path d=\"M 134.0 31 h 20 m -10 -10 v 20 m 10 -20 v 20\"/></g></svg>"
      ],
      "text/plain": [
       "<IPython.core.display.SVG object>"
      ]
     },
     "metadata": {},
     "output_type": "display_data"
    },
    {
     "name": "stdout",
     "output_type": "stream",
     "text": [
      "expr\n"
     ]
    },
    {
     "data": {
      "image/svg+xml": [
       "<svg class=\"railroad-diagram\" height=\"62\" viewBox=\"0 0 282.0 62\" width=\"282.0\" xmlns=\"http://www.w3.org/2000/svg\">\n",
       "<g transform=\"translate(.5 .5)\">\n",
       "<style>/* <![CDATA[ */\n",
       "    svg.railroad-diagram {\n",
       "        background-color:hsl(100,100%,100%);\n",
       "    }\n",
       "    svg.railroad-diagram path {\n",
       "        stroke-width:3;\n",
       "        stroke:black;\n",
       "        fill:rgba(0,0,0,0);\n",
       "    }\n",
       "    svg.railroad-diagram text {\n",
       "        font:bold 14px monospace;\n",
       "        text-anchor:middle;\n",
       "    }\n",
       "    svg.railroad-diagram text.label{\n",
       "        text-anchor:start;\n",
       "    }\n",
       "    svg.railroad-diagram text.comment{\n",
       "        font:italic 12px monospace;\n",
       "    }\n",
       "    svg.railroad-diagram rect{\n",
       "        stroke-width:3;\n",
       "        stroke:black;\n",
       "        fill:hsl(0,62%,82%);\n",
       "    }\n",
       "\n",
       "/* ]]> */\n",
       "</style><g>\n",
       "<path d=\"M20 21v20m10 -20v20m-10 -10h20\"/></g><g>\n",
       "<path d=\"M40 31h0.0\"/><path d=\"M242.0 31h0.0\"/><path d=\"M40.0 31h20\"/><g>\n",
       "<path d=\"M60.0 31h0.0\"/><path d=\"M222.0 31h0.0\"/><g class=\"non-terminal\">\n",
       "<path d=\"M60.0 31h0.0\"/><path d=\"M139.5 31h0.0\"/><rect height=\"22\" width=\"79.5\" x=\"60.0\" y=\"20\"/><text x=\"99.75\" y=\"35\">integer</text></g><path d=\"M139.5 31h10\"/><path d=\"M149.5 31h10\"/><g class=\"non-terminal\">\n",
       "<path d=\"M159.5 31h0.0\"/><path d=\"M222.0 31h0.0\"/><rect height=\"22\" width=\"62.5\" x=\"159.5\" y=\"20\"/><text x=\"190.75\" y=\"35\">expr_</text></g></g><path d=\"M222.0 31h20\"/></g><path d=\"M 242.0 31 h 20 m -10 -10 v 20 m 10 -20 v 20\"/></g></svg>"
      ],
      "text/plain": [
       "<IPython.core.display.SVG object>"
      ]
     },
     "metadata": {},
     "output_type": "display_data"
    },
    {
     "name": "stdout",
     "output_type": "stream",
     "text": [
      "expr_\n"
     ]
    },
    {
     "data": {
      "image/svg+xml": [
       "<svg class=\"railroad-diagram\" height=\"122\" viewBox=\"0 0 222.5 122\" width=\"222.5\" xmlns=\"http://www.w3.org/2000/svg\">\n",
       "<g transform=\"translate(.5 .5)\">\n",
       "<style>/* <![CDATA[ */\n",
       "    svg.railroad-diagram {\n",
       "        background-color:hsl(100,100%,100%);\n",
       "    }\n",
       "    svg.railroad-diagram path {\n",
       "        stroke-width:3;\n",
       "        stroke:black;\n",
       "        fill:rgba(0,0,0,0);\n",
       "    }\n",
       "    svg.railroad-diagram text {\n",
       "        font:bold 14px monospace;\n",
       "        text-anchor:middle;\n",
       "    }\n",
       "    svg.railroad-diagram text.label{\n",
       "        text-anchor:start;\n",
       "    }\n",
       "    svg.railroad-diagram text.comment{\n",
       "        font:italic 12px monospace;\n",
       "    }\n",
       "    svg.railroad-diagram rect{\n",
       "        stroke-width:3;\n",
       "        stroke:black;\n",
       "        fill:hsl(0,62%,82%);\n",
       "    }\n",
       "\n",
       "/* ]]> */\n",
       "</style><g>\n",
       "<path d=\"M20 51v20m10 -20v20m-10 -10h20\"/></g><g>\n",
       "<path d=\"M40 61h0.0\"/><path d=\"M182.5 61h0.0\"/><path d=\"M40.0 61a10 10 0 0 0 10 -10v-10a10 10 0 0 1 10 -10\"/><g>\n",
       "<path d=\"M60.0 31h0.0\"/><path d=\"M162.5 31h0.0\"/><g class=\"terminal\">\n",
       "<path d=\"M60.0 31h0.0\"/><path d=\"M88.5 31h0.0\"/><rect height=\"22\" rx=\"10\" ry=\"10\" width=\"28.5\" x=\"60.0\" y=\"20\"/><text x=\"74.25\" y=\"35\">+</text></g><path d=\"M88.5 31h10\"/><path d=\"M98.5 31h10\"/><g class=\"non-terminal\">\n",
       "<path d=\"M108.5 31h0.0\"/><path d=\"M162.5 31h0.0\"/><rect height=\"22\" width=\"54.0\" x=\"108.5\" y=\"20\"/><text x=\"135.5\" y=\"35\">expr</text></g></g><path d=\"M162.5 31a10 10 0 0 1 10 10v10a10 10 0 0 0 10 10\"/><path d=\"M40.0 61h20\"/><g>\n",
       "<path d=\"M60.0 61h0.0\"/><path d=\"M162.5 61h0.0\"/><g class=\"terminal\">\n",
       "<path d=\"M60.0 61h0.0\"/><path d=\"M88.5 61h0.0\"/><rect height=\"22\" rx=\"10\" ry=\"10\" width=\"28.5\" x=\"60.0\" y=\"50\"/><text x=\"74.25\" y=\"65\">-</text></g><path d=\"M88.5 61h10\"/><path d=\"M98.5 61h10\"/><g class=\"non-terminal\">\n",
       "<path d=\"M108.5 61h0.0\"/><path d=\"M162.5 61h0.0\"/><rect height=\"22\" width=\"54.0\" x=\"108.5\" y=\"50\"/><text x=\"135.5\" y=\"65\">expr</text></g></g><path d=\"M162.5 61h20\"/><path d=\"M40.0 61a10 10 0 0 1 10 10v10a10 10 0 0 0 10 10\"/><g>\n",
       "<path d=\"M60.0 91h41.25\"/><path d=\"M121.25 91h41.25\"/><g class=\"terminal\">\n",
       "<path d=\"M101.25 91h0.0\"/><path d=\"M121.25 91h0.0\"/><rect height=\"22\" rx=\"10\" ry=\"10\" width=\"20.0\" x=\"101.25\" y=\"80\"/><text x=\"111.25\" y=\"95\"/></g></g><path d=\"M162.5 91a10 10 0 0 0 10 -10v-10a10 10 0 0 1 10 -10\"/></g><path d=\"M 182.5 61 h 20 m -10 -10 v 20 m 10 -20 v 20\"/></g></svg>"
      ],
      "text/plain": [
       "<IPython.core.display.SVG object>"
      ]
     },
     "metadata": {},
     "output_type": "display_data"
    },
    {
     "name": "stdout",
     "output_type": "stream",
     "text": [
      "integer\n"
     ]
    },
    {
     "data": {
      "image/svg+xml": [
       "<svg class=\"railroad-diagram\" height=\"62\" viewBox=\"0 0 290.5 62\" width=\"290.5\" xmlns=\"http://www.w3.org/2000/svg\">\n",
       "<g transform=\"translate(.5 .5)\">\n",
       "<style>/* <![CDATA[ */\n",
       "    svg.railroad-diagram {\n",
       "        background-color:hsl(100,100%,100%);\n",
       "    }\n",
       "    svg.railroad-diagram path {\n",
       "        stroke-width:3;\n",
       "        stroke:black;\n",
       "        fill:rgba(0,0,0,0);\n",
       "    }\n",
       "    svg.railroad-diagram text {\n",
       "        font:bold 14px monospace;\n",
       "        text-anchor:middle;\n",
       "    }\n",
       "    svg.railroad-diagram text.label{\n",
       "        text-anchor:start;\n",
       "    }\n",
       "    svg.railroad-diagram text.comment{\n",
       "        font:italic 12px monospace;\n",
       "    }\n",
       "    svg.railroad-diagram rect{\n",
       "        stroke-width:3;\n",
       "        stroke:black;\n",
       "        fill:hsl(0,62%,82%);\n",
       "    }\n",
       "\n",
       "/* ]]> */\n",
       "</style><g>\n",
       "<path d=\"M20 21v20m10 -20v20m-10 -10h20\"/></g><g>\n",
       "<path d=\"M40 31h0.0\"/><path d=\"M250.5 31h0.0\"/><path d=\"M40.0 31h20\"/><g>\n",
       "<path d=\"M60.0 31h0.0\"/><path d=\"M230.5 31h0.0\"/><g class=\"non-terminal\">\n",
       "<path d=\"M60.0 31h0.0\"/><path d=\"M122.5 31h0.0\"/><rect height=\"22\" width=\"62.5\" x=\"60.0\" y=\"20\"/><text x=\"91.25\" y=\"35\">digit</text></g><path d=\"M122.5 31h10\"/><path d=\"M132.5 31h10\"/><g class=\"non-terminal\">\n",
       "<path d=\"M142.5 31h0.0\"/><path d=\"M230.5 31h0.0\"/><rect height=\"22\" width=\"88.0\" x=\"142.5\" y=\"20\"/><text x=\"186.5\" y=\"35\">integer_</text></g></g><path d=\"M230.5 31h20\"/></g><path d=\"M 250.5 31 h 20 m -10 -10 v 20 m 10 -20 v 20\"/></g></svg>"
      ],
      "text/plain": [
       "<IPython.core.display.SVG object>"
      ]
     },
     "metadata": {},
     "output_type": "display_data"
    },
    {
     "name": "stdout",
     "output_type": "stream",
     "text": [
      "integer_\n"
     ]
    },
    {
     "data": {
      "image/svg+xml": [
       "<svg class=\"railroad-diagram\" height=\"92\" viewBox=\"0 0 199.5 92\" width=\"199.5\" xmlns=\"http://www.w3.org/2000/svg\">\n",
       "<g transform=\"translate(.5 .5)\">\n",
       "<style>/* <![CDATA[ */\n",
       "    svg.railroad-diagram {\n",
       "        background-color:hsl(100,100%,100%);\n",
       "    }\n",
       "    svg.railroad-diagram path {\n",
       "        stroke-width:3;\n",
       "        stroke:black;\n",
       "        fill:rgba(0,0,0,0);\n",
       "    }\n",
       "    svg.railroad-diagram text {\n",
       "        font:bold 14px monospace;\n",
       "        text-anchor:middle;\n",
       "    }\n",
       "    svg.railroad-diagram text.label{\n",
       "        text-anchor:start;\n",
       "    }\n",
       "    svg.railroad-diagram text.comment{\n",
       "        font:italic 12px monospace;\n",
       "    }\n",
       "    svg.railroad-diagram rect{\n",
       "        stroke-width:3;\n",
       "        stroke:black;\n",
       "        fill:hsl(0,62%,82%);\n",
       "    }\n",
       "\n",
       "/* ]]> */\n",
       "</style><g>\n",
       "<path d=\"M20 51v20m10 -20v20m-10 -10h20\"/></g><g>\n",
       "<path d=\"M40 61h0.0\"/><path d=\"M159.5 61h0.0\"/><path d=\"M40.0 61a10 10 0 0 0 10 -10v-10a10 10 0 0 1 10 -10\"/><g>\n",
       "<path d=\"M60.0 31h0.0\"/><path d=\"M139.5 31h0.0\"/><g class=\"non-terminal\">\n",
       "<path d=\"M60.0 31h0.0\"/><path d=\"M139.5 31h0.0\"/><rect height=\"22\" width=\"79.5\" x=\"60.0\" y=\"20\"/><text x=\"99.75\" y=\"35\">integer</text></g></g><path d=\"M139.5 31a10 10 0 0 1 10 10v10a10 10 0 0 0 10 10\"/><path d=\"M40.0 61h20\"/><g>\n",
       "<path d=\"M60.0 61h29.75\"/><path d=\"M109.75 61h29.75\"/><g class=\"terminal\">\n",
       "<path d=\"M89.75 61h0.0\"/><path d=\"M109.75 61h0.0\"/><rect height=\"22\" rx=\"10\" ry=\"10\" width=\"20.0\" x=\"89.75\" y=\"50\"/><text x=\"99.75\" y=\"65\"/></g></g><path d=\"M139.5 61h20\"/></g><path d=\"M 159.5 61 h 20 m -10 -10 v 20 m 10 -20 v 20\"/></g></svg>"
      ],
      "text/plain": [
       "<IPython.core.display.SVG object>"
      ]
     },
     "metadata": {},
     "output_type": "display_data"
    },
    {
     "name": "stdout",
     "output_type": "stream",
     "text": [
      "digit\n"
     ]
    },
    {
     "data": {
      "image/svg+xml": [
       "<svg class=\"railroad-diagram\" height=\"109\" viewBox=\"0 0 522.5 109\" width=\"522.5\" xmlns=\"http://www.w3.org/2000/svg\">\n",
       "<g transform=\"translate(.5 .5)\">\n",
       "<style>/* <![CDATA[ */\n",
       "    svg.railroad-diagram {\n",
       "        background-color:hsl(100,100%,100%);\n",
       "    }\n",
       "    svg.railroad-diagram path {\n",
       "        stroke-width:3;\n",
       "        stroke:black;\n",
       "        fill:rgba(0,0,0,0);\n",
       "    }\n",
       "    svg.railroad-diagram text {\n",
       "        font:bold 14px monospace;\n",
       "        text-anchor:middle;\n",
       "    }\n",
       "    svg.railroad-diagram text.label{\n",
       "        text-anchor:start;\n",
       "    }\n",
       "    svg.railroad-diagram text.comment{\n",
       "        font:italic 12px monospace;\n",
       "    }\n",
       "    svg.railroad-diagram rect{\n",
       "        stroke-width:3;\n",
       "        stroke:black;\n",
       "        fill:hsl(0,62%,82%);\n",
       "    }\n",
       "\n",
       "/* ]]> */\n",
       "</style><g>\n",
       "<path d=\"M20 59v20m10 -20v20m-10 -10h20\"/></g><g>\n",
       "<path d=\"M40 69h0.0\"/><path d=\"M482.5 69h0.0\"/><path d=\"M40.0 69a10 10 0 0 0 10 -10v-29a10 10 0 0 1 10 -10h324.0\"/><path d=\"M138.5 89h324.0a10 10 0 0 0 10 -10v0a10 10 0 0 1 10 -10\"/><path d=\"M40.0 69h10\"/><g>\n",
       "<path d=\"M50.0 69h0.0\"/><path d=\"M118.5 69h0.0\"/><path d=\"M50.0 69a10 10 0 0 0 10 -10v-10a10 10 0 0 1 10 -10\"/><g>\n",
       "<path d=\"M70.0 39h0.0\"/><path d=\"M98.5 39h0.0\"/><g class=\"terminal\">\n",
       "<path d=\"M70.0 39h0.0\"/><path d=\"M98.5 39h0.0\"/><rect height=\"22\" rx=\"10\" ry=\"10\" width=\"28.5\" x=\"70.0\" y=\"28\"/><text x=\"84.25\" y=\"43\">0</text></g></g><path d=\"M98.5 39a10 10 0 0 1 10 10v10a10 10 0 0 0 10 10\"/><path d=\"M50.0 69h20\"/><g>\n",
       "<path d=\"M70.0 69h0.0\"/><path d=\"M98.5 69h0.0\"/><g class=\"terminal\">\n",
       "<path d=\"M70.0 69h0.0\"/><path d=\"M98.5 69h0.0\"/><rect height=\"22\" rx=\"10\" ry=\"10\" width=\"28.5\" x=\"70.0\" y=\"58\"/><text x=\"84.25\" y=\"73\">1</text></g></g><path d=\"M98.5 69h20\"/></g><path d=\"M118.5 69a10 10 0 0 1 10 10v0a10 10 0 0 0 10 10\"/><path d=\"M118.5 20a10 10 0 0 1 10 10v29a10 10 0 0 0 10 10\"/><g>\n",
       "<path d=\"M138.5 69h0.0\"/><path d=\"M207.0 69h0.0\"/><path d=\"M138.5 69a10 10 0 0 0 10 -10v-10a10 10 0 0 1 10 -10\"/><g>\n",
       "<path d=\"M158.5 39h0.0\"/><path d=\"M187.0 39h0.0\"/><g class=\"terminal\">\n",
       "<path d=\"M158.5 39h0.0\"/><path d=\"M187.0 39h0.0\"/><rect height=\"22\" rx=\"10\" ry=\"10\" width=\"28.5\" x=\"158.5\" y=\"28\"/><text x=\"172.75\" y=\"43\">2</text></g></g><path d=\"M187.0 39a10 10 0 0 1 10 10v10a10 10 0 0 0 10 10\"/><path d=\"M138.5 69h20\"/><g>\n",
       "<path d=\"M158.5 69h0.0\"/><path d=\"M187.0 69h0.0\"/><g class=\"terminal\">\n",
       "<path d=\"M158.5 69h0.0\"/><path d=\"M187.0 69h0.0\"/><rect height=\"22\" rx=\"10\" ry=\"10\" width=\"28.5\" x=\"158.5\" y=\"58\"/><text x=\"172.75\" y=\"73\">3</text></g></g><path d=\"M187.0 69h20\"/></g><path d=\"M207.0 69a10 10 0 0 1 10 10v0a10 10 0 0 0 10 10\"/><path d=\"M207.0 20a10 10 0 0 1 10 10v29a10 10 0 0 0 10 10\"/><g>\n",
       "<path d=\"M227.0 69h0.0\"/><path d=\"M295.5 69h0.0\"/><path d=\"M227.0 69a10 10 0 0 0 10 -10v-10a10 10 0 0 1 10 -10\"/><g>\n",
       "<path d=\"M247.0 39h0.0\"/><path d=\"M275.5 39h0.0\"/><g class=\"terminal\">\n",
       "<path d=\"M247.0 39h0.0\"/><path d=\"M275.5 39h0.0\"/><rect height=\"22\" rx=\"10\" ry=\"10\" width=\"28.5\" x=\"247.0\" y=\"28\"/><text x=\"261.25\" y=\"43\">4</text></g></g><path d=\"M275.5 39a10 10 0 0 1 10 10v10a10 10 0 0 0 10 10\"/><path d=\"M227.0 69h20\"/><g>\n",
       "<path d=\"M247.0 69h0.0\"/><path d=\"M275.5 69h0.0\"/><g class=\"terminal\">\n",
       "<path d=\"M247.0 69h0.0\"/><path d=\"M275.5 69h0.0\"/><rect height=\"22\" rx=\"10\" ry=\"10\" width=\"28.5\" x=\"247.0\" y=\"58\"/><text x=\"261.25\" y=\"73\">5</text></g></g><path d=\"M275.5 69h20\"/></g><path d=\"M295.5 69a10 10 0 0 1 10 10v0a10 10 0 0 0 10 10\"/><path d=\"M295.5 20a10 10 0 0 1 10 10v29a10 10 0 0 0 10 10\"/><g>\n",
       "<path d=\"M315.5 69h0.0\"/><path d=\"M384.0 69h0.0\"/><path d=\"M315.5 69a10 10 0 0 0 10 -10v-10a10 10 0 0 1 10 -10\"/><g>\n",
       "<path d=\"M335.5 39h0.0\"/><path d=\"M364.0 39h0.0\"/><g class=\"terminal\">\n",
       "<path d=\"M335.5 39h0.0\"/><path d=\"M364.0 39h0.0\"/><rect height=\"22\" rx=\"10\" ry=\"10\" width=\"28.5\" x=\"335.5\" y=\"28\"/><text x=\"349.75\" y=\"43\">6</text></g></g><path d=\"M364.0 39a10 10 0 0 1 10 10v10a10 10 0 0 0 10 10\"/><path d=\"M315.5 69h20\"/><g>\n",
       "<path d=\"M335.5 69h0.0\"/><path d=\"M364.0 69h0.0\"/><g class=\"terminal\">\n",
       "<path d=\"M335.5 69h0.0\"/><path d=\"M364.0 69h0.0\"/><rect height=\"22\" rx=\"10\" ry=\"10\" width=\"28.5\" x=\"335.5\" y=\"58\"/><text x=\"349.75\" y=\"73\">7</text></g></g><path d=\"M364.0 69h20\"/></g><path d=\"M384.0 69a10 10 0 0 1 10 10v0a10 10 0 0 0 10 10\"/><path d=\"M384.0 20a10 10 0 0 1 10 10v29a10 10 0 0 0 10 10\"/><g>\n",
       "<path d=\"M404.0 69h0.0\"/><path d=\"M472.5 69h0.0\"/><path d=\"M404.0 69a10 10 0 0 0 10 -10v-10a10 10 0 0 1 10 -10\"/><g>\n",
       "<path d=\"M424.0 39h0.0\"/><path d=\"M452.5 39h0.0\"/><g class=\"terminal\">\n",
       "<path d=\"M424.0 39h0.0\"/><path d=\"M452.5 39h0.0\"/><rect height=\"22\" rx=\"10\" ry=\"10\" width=\"28.5\" x=\"424.0\" y=\"28\"/><text x=\"438.25\" y=\"43\">8</text></g></g><path d=\"M452.5 39a10 10 0 0 1 10 10v10a10 10 0 0 0 10 10\"/><path d=\"M404.0 69h20\"/><g>\n",
       "<path d=\"M424.0 69h0.0\"/><path d=\"M452.5 69h0.0\"/><g class=\"terminal\">\n",
       "<path d=\"M424.0 69h0.0\"/><path d=\"M452.5 69h0.0\"/><rect height=\"22\" rx=\"10\" ry=\"10\" width=\"28.5\" x=\"424.0\" y=\"58\"/><text x=\"438.25\" y=\"73\">9</text></g></g><path d=\"M452.5 69h20\"/></g><path d=\"M472.5 69h10\"/></g><path d=\"M 482.5 69 h 20 m -10 -10 v 20 m 10 -20 v 20\"/></g></svg>"
      ],
      "text/plain": [
       "<IPython.core.display.SVG object>"
      ]
     },
     "metadata": {},
     "output_type": "display_data"
    }
   ],
   "source": [
    "syntax_diagram(A2_GRAMMAR)"
   ]
  },
  {
   "cell_type": "markdown",
   "metadata": {
    "slideshow": {
     "slide_type": "subslide"
    }
   },
   "source": [
    "The corresponding derivation tree is given by:"
   ]
  },
  {
   "cell_type": "code",
   "execution_count": 40,
   "metadata": {
    "slideshow": {
     "slide_type": "subslide"
    }
   },
   "outputs": [
    {
     "data": {
      "image/svg+xml": [
       "<?xml version=\"1.0\" encoding=\"UTF-8\" standalone=\"no\"?>\n",
       "<!DOCTYPE svg PUBLIC \"-//W3C//DTD SVG 1.1//EN\"\n",
       " \"http://www.w3.org/Graphics/SVG/1.1/DTD/svg11.dtd\">\n",
       "<!-- Generated by graphviz version 2.40.1 (20161225.0304)\n",
       " -->\n",
       "<!-- Title: %3 Pages: 1 -->\n",
       "<svg width=\"260pt\" height=\"322pt\"\n",
       " viewBox=\"0.00 0.00 259.56 322.00\" xmlns=\"http://www.w3.org/2000/svg\" xmlns:xlink=\"http://www.w3.org/1999/xlink\">\n",
       "<g id=\"graph0\" class=\"graph\" transform=\"scale(1 1) rotate(0) translate(4 318)\">\n",
       "<title>%3</title>\n",
       "<polygon fill=\"#ffffff\" stroke=\"transparent\" points=\"-4,4 -4,-318 255.5635,-318 255.5635,4 -4,4\"/>\n",
       "<!-- 0 -->\n",
       "<g id=\"node1\" class=\"node\">\n",
       "<title>0</title>\n",
       "<text text-anchor=\"middle\" x=\"120.73\" y=\"-302.8\" font-family=\"Times,serif\" font-size=\"14.00\" fill=\"#000000\">&lt;start&gt;</text>\n",
       "</g>\n",
       "<!-- 1 -->\n",
       "<g id=\"node2\" class=\"node\">\n",
       "<title>1</title>\n",
       "<text text-anchor=\"middle\" x=\"120.73\" y=\"-252.8\" font-family=\"Times,serif\" font-size=\"14.00\" fill=\"#000000\">&lt;expr&gt;</text>\n",
       "</g>\n",
       "<!-- 0&#45;&gt;1 -->\n",
       "<g id=\"edge1\" class=\"edge\">\n",
       "<title>0&#45;&gt;1</title>\n",
       "<path fill=\"none\" stroke=\"#000000\" d=\"M120.73,-299.6223C120.73,-292.9738 120.73,-282.942 120.73,-274.2807\"/>\n",
       "<polygon fill=\"#000000\" stroke=\"#000000\" points=\"124.2301,-274.0842 120.73,-264.0842 117.2301,-274.0842 124.2301,-274.0842\"/>\n",
       "</g>\n",
       "<!-- 2 -->\n",
       "<g id=\"node3\" class=\"node\">\n",
       "<title>2</title>\n",
       "<text text-anchor=\"middle\" x=\"86.73\" y=\"-202.8\" font-family=\"Times,serif\" font-size=\"14.00\" fill=\"#000000\">&lt;integer&gt;</text>\n",
       "</g>\n",
       "<!-- 1&#45;&gt;2 -->\n",
       "<g id=\"edge2\" class=\"edge\">\n",
       "<title>1&#45;&gt;2</title>\n",
       "<path fill=\"none\" stroke=\"#000000\" d=\"M115.7132,-249.6223C110.8874,-242.5255 103.4403,-231.574 97.3034,-222.5492\"/>\n",
       "<polygon fill=\"#000000\" stroke=\"#000000\" points=\"100.0646,-220.3854 91.5472,-214.0842 94.2761,-224.3216 100.0646,-220.3854\"/>\n",
       "</g>\n",
       "<!-- 6 -->\n",
       "<g id=\"node7\" class=\"node\">\n",
       "<title>6</title>\n",
       "<text text-anchor=\"middle\" x=\"155.73\" y=\"-202.8\" font-family=\"Times,serif\" font-size=\"14.00\" fill=\"#000000\">&lt;expr_&gt;</text>\n",
       "</g>\n",
       "<!-- 1&#45;&gt;6 -->\n",
       "<g id=\"edge6\" class=\"edge\">\n",
       "<title>1&#45;&gt;6</title>\n",
       "<path fill=\"none\" stroke=\"#000000\" d=\"M125.8944,-249.6223C130.8621,-242.5255 138.5282,-231.574 144.8456,-222.5492\"/>\n",
       "<polygon fill=\"#000000\" stroke=\"#000000\" points=\"147.9037,-224.2837 150.771,-214.0842 142.1691,-220.2694 147.9037,-224.2837\"/>\n",
       "</g>\n",
       "<!-- 3 -->\n",
       "<g id=\"node4\" class=\"node\">\n",
       "<title>3</title>\n",
       "<text text-anchor=\"middle\" x=\"20.73\" y=\"-152.8\" font-family=\"Times,serif\" font-size=\"14.00\" fill=\"#000000\">&lt;digit&gt;</text>\n",
       "</g>\n",
       "<!-- 2&#45;&gt;3 -->\n",
       "<g id=\"edge3\" class=\"edge\">\n",
       "<title>2&#45;&gt;3</title>\n",
       "<path fill=\"none\" stroke=\"#000000\" d=\"M77.2738,-199.8362C67.1777,-192.1877 50.9469,-179.8916 38.459,-170.4311\"/>\n",
       "<polygon fill=\"#000000\" stroke=\"#000000\" points=\"40.2531,-167.3993 30.1686,-164.1505 36.0261,-172.9789 40.2531,-167.3993\"/>\n",
       "</g>\n",
       "<!-- 5 -->\n",
       "<g id=\"node6\" class=\"node\">\n",
       "<title>5</title>\n",
       "<text text-anchor=\"middle\" x=\"90.73\" y=\"-152.8\" font-family=\"Times,serif\" font-size=\"14.00\" fill=\"#000000\">&lt;integer_&gt;</text>\n",
       "</g>\n",
       "<!-- 2&#45;&gt;5 -->\n",
       "<g id=\"edge5\" class=\"edge\">\n",
       "<title>2&#45;&gt;5</title>\n",
       "<path fill=\"none\" stroke=\"#000000\" d=\"M87.3202,-199.6223C87.8521,-192.9738 88.6546,-182.942 89.3475,-174.2807\"/>\n",
       "<polygon fill=\"#000000\" stroke=\"#000000\" points=\"92.8546,-174.3315 90.1632,-164.0842 85.8768,-173.7732 92.8546,-174.3315\"/>\n",
       "</g>\n",
       "<!-- 4 -->\n",
       "<g id=\"node5\" class=\"node\">\n",
       "<title>4</title>\n",
       "<text text-anchor=\"middle\" x=\"20.73\" y=\"-102.8\" font-family=\"Times,serif\" font-size=\"14.00\" fill=\"#000000\">1</text>\n",
       "</g>\n",
       "<!-- 3&#45;&gt;4 -->\n",
       "<g id=\"edge4\" class=\"edge\">\n",
       "<title>3&#45;&gt;4</title>\n",
       "<path fill=\"none\" stroke=\"#000000\" d=\"M20.73,-149.6223C20.73,-142.9738 20.73,-132.942 20.73,-124.2807\"/>\n",
       "<polygon fill=\"#000000\" stroke=\"#000000\" points=\"24.2301,-124.0842 20.73,-114.0842 17.2301,-124.0842 24.2301,-124.0842\"/>\n",
       "</g>\n",
       "<!-- 7 -->\n",
       "<g id=\"node8\" class=\"node\">\n",
       "<title>7</title>\n",
       "<text text-anchor=\"middle\" x=\"151.73\" y=\"-152.8\" font-family=\"Times,serif\" font-size=\"14.00\" fill=\"#000000\">+</text>\n",
       "</g>\n",
       "<!-- 6&#45;&gt;7 -->\n",
       "<g id=\"edge7\" class=\"edge\">\n",
       "<title>6&#45;&gt;7</title>\n",
       "<path fill=\"none\" stroke=\"#000000\" d=\"M155.1398,-199.6223C154.6079,-192.9738 153.8053,-182.942 153.1124,-174.2807\"/>\n",
       "<polygon fill=\"#000000\" stroke=\"#000000\" points=\"156.5831,-173.7732 152.2967,-164.0842 149.6054,-174.3315 156.5831,-173.7732\"/>\n",
       "</g>\n",
       "<!-- 8 -->\n",
       "<g id=\"node9\" class=\"node\">\n",
       "<title>8</title>\n",
       "<text text-anchor=\"middle\" x=\"193.73\" y=\"-152.8\" font-family=\"Times,serif\" font-size=\"14.00\" fill=\"#000000\">&lt;expr&gt;</text>\n",
       "</g>\n",
       "<!-- 6&#45;&gt;8 -->\n",
       "<g id=\"edge8\" class=\"edge\">\n",
       "<title>6&#45;&gt;8</title>\n",
       "<path fill=\"none\" stroke=\"#000000\" d=\"M161.337,-199.6223C166.7873,-192.4508 175.2293,-181.343 182.1287,-172.2648\"/>\n",
       "<polygon fill=\"#000000\" stroke=\"#000000\" points=\"185.0817,-174.1636 188.346,-164.0842 179.5086,-169.928 185.0817,-174.1636\"/>\n",
       "</g>\n",
       "<!-- 9 -->\n",
       "<g id=\"node10\" class=\"node\">\n",
       "<title>9</title>\n",
       "<text text-anchor=\"middle\" x=\"158.73\" y=\"-102.8\" font-family=\"Times,serif\" font-size=\"14.00\" fill=\"#000000\">&lt;integer&gt;</text>\n",
       "</g>\n",
       "<!-- 8&#45;&gt;9 -->\n",
       "<g id=\"edge9\" class=\"edge\">\n",
       "<title>8&#45;&gt;9</title>\n",
       "<path fill=\"none\" stroke=\"#000000\" d=\"M188.5656,-149.6223C183.5979,-142.5255 175.9318,-131.574 169.6144,-122.5492\"/>\n",
       "<polygon fill=\"#000000\" stroke=\"#000000\" points=\"172.2909,-120.2694 163.6889,-114.0842 166.5563,-124.2837 172.2909,-120.2694\"/>\n",
       "</g>\n",
       "<!-- 13 -->\n",
       "<g id=\"node14\" class=\"node\">\n",
       "<title>13</title>\n",
       "<text text-anchor=\"middle\" x=\"227.73\" y=\"-102.8\" font-family=\"Times,serif\" font-size=\"14.00\" fill=\"#000000\">&lt;expr_&gt;</text>\n",
       "</g>\n",
       "<!-- 8&#45;&gt;13 -->\n",
       "<g id=\"edge13\" class=\"edge\">\n",
       "<title>8&#45;&gt;13</title>\n",
       "<path fill=\"none\" stroke=\"#000000\" d=\"M198.7468,-149.6223C203.5726,-142.5255 211.0197,-131.574 217.1565,-122.5492\"/>\n",
       "<polygon fill=\"#000000\" stroke=\"#000000\" points=\"220.1838,-124.3216 222.9127,-114.0842 214.3953,-120.3854 220.1838,-124.3216\"/>\n",
       "</g>\n",
       "<!-- 10 -->\n",
       "<g id=\"node11\" class=\"node\">\n",
       "<title>10</title>\n",
       "<text text-anchor=\"middle\" x=\"123.73\" y=\"-52.8\" font-family=\"Times,serif\" font-size=\"14.00\" fill=\"#000000\">&lt;digit&gt;</text>\n",
       "</g>\n",
       "<!-- 9&#45;&gt;10 -->\n",
       "<g id=\"edge10\" class=\"edge\">\n",
       "<title>9&#45;&gt;10</title>\n",
       "<path fill=\"none\" stroke=\"#000000\" d=\"M153.5656,-99.6223C148.5979,-92.5255 140.9318,-81.574 134.6144,-72.5492\"/>\n",
       "<polygon fill=\"#000000\" stroke=\"#000000\" points=\"137.2909,-70.2694 128.6889,-64.0842 131.5563,-74.2837 137.2909,-70.2694\"/>\n",
       "</g>\n",
       "<!-- 12 -->\n",
       "<g id=\"node13\" class=\"node\">\n",
       "<title>12</title>\n",
       "<text text-anchor=\"middle\" x=\"193.73\" y=\"-52.8\" font-family=\"Times,serif\" font-size=\"14.00\" fill=\"#000000\">&lt;integer_&gt;</text>\n",
       "</g>\n",
       "<!-- 9&#45;&gt;12 -->\n",
       "<g id=\"edge12\" class=\"edge\">\n",
       "<title>9&#45;&gt;12</title>\n",
       "<path fill=\"none\" stroke=\"#000000\" d=\"M163.8944,-99.6223C168.8621,-92.5255 176.5282,-81.574 182.8456,-72.5492\"/>\n",
       "<polygon fill=\"#000000\" stroke=\"#000000\" points=\"185.9037,-74.2837 188.771,-64.0842 180.1691,-70.2694 185.9037,-74.2837\"/>\n",
       "</g>\n",
       "<!-- 11 -->\n",
       "<g id=\"node12\" class=\"node\">\n",
       "<title>11</title>\n",
       "<text text-anchor=\"middle\" x=\"123.73\" y=\"-2.8\" font-family=\"Times,serif\" font-size=\"14.00\" fill=\"#000000\">2</text>\n",
       "</g>\n",
       "<!-- 10&#45;&gt;11 -->\n",
       "<g id=\"edge11\" class=\"edge\">\n",
       "<title>10&#45;&gt;11</title>\n",
       "<path fill=\"none\" stroke=\"#000000\" d=\"M123.73,-49.6223C123.73,-42.9738 123.73,-32.942 123.73,-24.2807\"/>\n",
       "<polygon fill=\"#000000\" stroke=\"#000000\" points=\"127.2301,-24.0842 123.73,-14.0842 120.2301,-24.0842 127.2301,-24.0842\"/>\n",
       "</g>\n",
       "</g>\n",
       "</svg>\n"
      ],
      "text/plain": [
       "<graphviz.dot.Digraph at 0x11ca2e6d8>"
      ]
     },
     "metadata": {},
     "output_type": "display_data"
    }
   ],
   "source": [
    "tree = ('<start>', [('<expr>', [('<integer>', [('<digit>', [('1', [])]),\n",
    "                                               ('<integer_>', [])]),\n",
    "                                ('<expr_>', [('+', []),\n",
    "                                             ('<expr>',\n",
    "                                              [('<integer>',\n",
    "                                                [('<digit>', [('2', [])]),\n",
    "                                                 ('<integer_>', [])]),\n",
    "                                               ('<expr_>', [])])])])])\n",
    "assert mystring == tree_to_string(tree)\n",
    "display_tree(tree)"
   ]
  },
  {
   "cell_type": "markdown",
   "metadata": {
    "slideshow": {
     "slide_type": "notes"
    }
   },
   "source": [
    "Indeed, there could be different classes of grammars that\n",
    "describe the same language. For example, the first grammar `A1_GRAMMAR`\n",
    "is a grammar that sports both _right_ and _left_ recursion, while the\n",
    "second grammar `A2_GRAMMAR` does not have left recursion in the\n",
    "nonterminals in any of its productions, but contains _epsilon_ productions.\n",
    "(An epsilon production is a production that has empty string in its right\n",
    "hand side.)\n",
    "\n",
    "You would have noticed that we reuse the term `<expr>` in its own definition. Using the same nonterminal in its own definition is called *recursion*. There are two specific kinds of recursion one should be aware of in parsing, as we see in the next section."
   ]
  },
  {
   "cell_type": "markdown",
   "metadata": {
    "slideshow": {
     "slide_type": "notes"
    }
   },
   "source": [
    "#### Recursion\n",
    "\n",
    "A grammar is _left recursive_ if any of its nonterminals are left recursive,\n",
    "and a nonterminal is directly left-recursive if the left-most symbol of\n",
    "any of its productions is itself."
   ]
  },
  {
   "cell_type": "code",
   "execution_count": 41,
   "metadata": {
    "slideshow": {
     "slide_type": "fragment"
    }
   },
   "outputs": [],
   "source": [
    "LR_GRAMMAR = {\n",
    "    '<start>': ['<A>'],\n",
    "    '<A>': ['<A>a', ''],\n",
    "}"
   ]
  },
  {
   "cell_type": "code",
   "execution_count": 42,
   "metadata": {
    "slideshow": {
     "slide_type": "subslide"
    }
   },
   "outputs": [
    {
     "name": "stdout",
     "output_type": "stream",
     "text": [
      "start\n"
     ]
    },
    {
     "data": {
      "image/svg+xml": [
       "<svg class=\"railroad-diagram\" height=\"62\" viewBox=\"0 0 148.5 62\" width=\"148.5\" xmlns=\"http://www.w3.org/2000/svg\">\n",
       "<g transform=\"translate(.5 .5)\">\n",
       "<style>/* <![CDATA[ */\n",
       "    svg.railroad-diagram {\n",
       "        background-color:hsl(100,100%,100%);\n",
       "    }\n",
       "    svg.railroad-diagram path {\n",
       "        stroke-width:3;\n",
       "        stroke:black;\n",
       "        fill:rgba(0,0,0,0);\n",
       "    }\n",
       "    svg.railroad-diagram text {\n",
       "        font:bold 14px monospace;\n",
       "        text-anchor:middle;\n",
       "    }\n",
       "    svg.railroad-diagram text.label{\n",
       "        text-anchor:start;\n",
       "    }\n",
       "    svg.railroad-diagram text.comment{\n",
       "        font:italic 12px monospace;\n",
       "    }\n",
       "    svg.railroad-diagram rect{\n",
       "        stroke-width:3;\n",
       "        stroke:black;\n",
       "        fill:hsl(0,62%,82%);\n",
       "    }\n",
       "\n",
       "/* ]]> */\n",
       "</style><g>\n",
       "<path d=\"M20 21v20m10 -20v20m-10 -10h20\"/></g><g>\n",
       "<path d=\"M40 31h0.0\"/><path d=\"M108.5 31h0.0\"/><path d=\"M40.0 31h20\"/><g>\n",
       "<path d=\"M60.0 31h0.0\"/><path d=\"M88.5 31h0.0\"/><g class=\"non-terminal\">\n",
       "<path d=\"M60.0 31h0.0\"/><path d=\"M88.5 31h0.0\"/><rect height=\"22\" width=\"28.5\" x=\"60.0\" y=\"20\"/><text x=\"74.25\" y=\"35\">A</text></g></g><path d=\"M88.5 31h20\"/></g><path d=\"M 108.5 31 h 20 m -10 -10 v 20 m 10 -20 v 20\"/></g></svg>"
      ],
      "text/plain": [
       "<IPython.core.display.SVG object>"
      ]
     },
     "metadata": {},
     "output_type": "display_data"
    },
    {
     "name": "stdout",
     "output_type": "stream",
     "text": [
      "A\n"
     ]
    },
    {
     "data": {
      "image/svg+xml": [
       "<svg class=\"railroad-diagram\" height=\"92\" viewBox=\"0 0 197.0 92\" width=\"197.0\" xmlns=\"http://www.w3.org/2000/svg\">\n",
       "<g transform=\"translate(.5 .5)\">\n",
       "<style>/* <![CDATA[ */\n",
       "    svg.railroad-diagram {\n",
       "        background-color:hsl(100,100%,100%);\n",
       "    }\n",
       "    svg.railroad-diagram path {\n",
       "        stroke-width:3;\n",
       "        stroke:black;\n",
       "        fill:rgba(0,0,0,0);\n",
       "    }\n",
       "    svg.railroad-diagram text {\n",
       "        font:bold 14px monospace;\n",
       "        text-anchor:middle;\n",
       "    }\n",
       "    svg.railroad-diagram text.label{\n",
       "        text-anchor:start;\n",
       "    }\n",
       "    svg.railroad-diagram text.comment{\n",
       "        font:italic 12px monospace;\n",
       "    }\n",
       "    svg.railroad-diagram rect{\n",
       "        stroke-width:3;\n",
       "        stroke:black;\n",
       "        fill:hsl(0,62%,82%);\n",
       "    }\n",
       "\n",
       "/* ]]> */\n",
       "</style><g>\n",
       "<path d=\"M20 51v20m10 -20v20m-10 -10h20\"/></g><g>\n",
       "<path d=\"M40 61h0.0\"/><path d=\"M157.0 61h0.0\"/><path d=\"M40.0 61a10 10 0 0 0 10 -10v-10a10 10 0 0 1 10 -10\"/><g>\n",
       "<path d=\"M60.0 31h0.0\"/><path d=\"M137.0 31h0.0\"/><g class=\"non-terminal\">\n",
       "<path d=\"M60.0 31h0.0\"/><path d=\"M88.5 31h0.0\"/><rect height=\"22\" width=\"28.5\" x=\"60.0\" y=\"20\"/><text x=\"74.25\" y=\"35\">A</text></g><path d=\"M88.5 31h10\"/><path d=\"M98.5 31h10\"/><g class=\"terminal\">\n",
       "<path d=\"M108.5 31h0.0\"/><path d=\"M137.0 31h0.0\"/><rect height=\"22\" rx=\"10\" ry=\"10\" width=\"28.5\" x=\"108.5\" y=\"20\"/><text x=\"122.75\" y=\"35\">a</text></g></g><path d=\"M137.0 31a10 10 0 0 1 10 10v10a10 10 0 0 0 10 10\"/><path d=\"M40.0 61h20\"/><g>\n",
       "<path d=\"M60.0 61h28.5\"/><path d=\"M108.5 61h28.5\"/><g class=\"terminal\">\n",
       "<path d=\"M88.5 61h0.0\"/><path d=\"M108.5 61h0.0\"/><rect height=\"22\" rx=\"10\" ry=\"10\" width=\"20.0\" x=\"88.5\" y=\"50\"/><text x=\"98.5\" y=\"65\"/></g></g><path d=\"M137.0 61h20\"/></g><path d=\"M 157.0 61 h 20 m -10 -10 v 20 m 10 -20 v 20\"/></g></svg>"
      ],
      "text/plain": [
       "<IPython.core.display.SVG object>"
      ]
     },
     "metadata": {},
     "output_type": "display_data"
    }
   ],
   "source": [
    "syntax_diagram(LR_GRAMMAR)"
   ]
  },
  {
   "cell_type": "code",
   "execution_count": 43,
   "metadata": {
    "slideshow": {
     "slide_type": "fragment"
    }
   },
   "outputs": [
    {
     "data": {
      "image/svg+xml": [
       "<?xml version=\"1.0\" encoding=\"UTF-8\" standalone=\"no\"?>\n",
       "<!DOCTYPE svg PUBLIC \"-//W3C//DTD SVG 1.1//EN\"\n",
       " \"http://www.w3.org/Graphics/SVG/1.1/DTD/svg11.dtd\">\n",
       "<!-- Generated by graphviz version 2.40.1 (20161225.0304)\n",
       " -->\n",
       "<!-- Title: %3 Pages: 1 -->\n",
       "<svg width=\"92pt\" height=\"172pt\"\n",
       " viewBox=\"0.00 0.00 92.06 172.00\" xmlns=\"http://www.w3.org/2000/svg\" xmlns:xlink=\"http://www.w3.org/1999/xlink\">\n",
       "<g id=\"graph0\" class=\"graph\" transform=\"scale(1 1) rotate(0) translate(4 168)\">\n",
       "<title>%3</title>\n",
       "<polygon fill=\"#ffffff\" stroke=\"transparent\" points=\"-4,4 -4,-168 88.0576,-168 88.0576,4 -4,4\"/>\n",
       "<!-- 0 -->\n",
       "<g id=\"node1\" class=\"node\">\n",
       "<title>0</title>\n",
       "<text text-anchor=\"middle\" x=\"63.9507\" y=\"-152.8\" font-family=\"Times,serif\" font-size=\"14.00\" fill=\"#000000\">&lt;start&gt;</text>\n",
       "</g>\n",
       "<!-- 1 -->\n",
       "<g id=\"node2\" class=\"node\">\n",
       "<title>1</title>\n",
       "<text text-anchor=\"middle\" x=\"46.9507\" y=\"-102.8\" font-family=\"Times,serif\" font-size=\"14.00\" fill=\"#000000\">&lt;A&gt;</text>\n",
       "</g>\n",
       "<!-- 0&#45;&gt;1 -->\n",
       "<g id=\"edge1\" class=\"edge\">\n",
       "<title>0&#45;&gt;1</title>\n",
       "<path fill=\"none\" stroke=\"#000000\" d=\"M61.4423,-149.6223C59.131,-142.8244 55.6171,-132.4894 52.6283,-123.699\"/>\n",
       "<polygon fill=\"#000000\" stroke=\"#000000\" points=\"55.8921,-122.4252 49.3593,-114.0842 49.2647,-124.6786 55.8921,-122.4252\"/>\n",
       "</g>\n",
       "<!-- 6 -->\n",
       "<g id=\"node7\" class=\"node\">\n",
       "<title>6</title>\n",
       "<text text-anchor=\"middle\" x=\"80.9507\" y=\"-102.8\" font-family=\"Times,serif\" font-size=\"14.00\" fill=\"#000000\">a</text>\n",
       "</g>\n",
       "<!-- 0&#45;&gt;6 -->\n",
       "<g id=\"edge6\" class=\"edge\">\n",
       "<title>0&#45;&gt;6</title>\n",
       "<path fill=\"none\" stroke=\"#000000\" d=\"M66.4591,-149.6223C68.7704,-142.8244 72.2843,-132.4894 75.273,-123.699\"/>\n",
       "<polygon fill=\"#000000\" stroke=\"#000000\" points=\"78.6367,-124.6786 78.5421,-114.0842 72.0093,-122.4252 78.6367,-124.6786\"/>\n",
       "</g>\n",
       "<!-- 2 -->\n",
       "<g id=\"node3\" class=\"node\">\n",
       "<title>2</title>\n",
       "<text text-anchor=\"middle\" x=\"29.9507\" y=\"-52.8\" font-family=\"Times,serif\" font-size=\"14.00\" fill=\"#000000\">&lt;A&gt;</text>\n",
       "</g>\n",
       "<!-- 1&#45;&gt;2 -->\n",
       "<g id=\"edge2\" class=\"edge\">\n",
       "<title>1&#45;&gt;2</title>\n",
       "<path fill=\"none\" stroke=\"#000000\" d=\"M44.4423,-99.6223C42.131,-92.8244 38.6171,-82.4894 35.6283,-73.699\"/>\n",
       "<polygon fill=\"#000000\" stroke=\"#000000\" points=\"38.8921,-72.4252 32.3593,-64.0842 32.2647,-74.6786 38.8921,-72.4252\"/>\n",
       "</g>\n",
       "<!-- 5 -->\n",
       "<g id=\"node6\" class=\"node\">\n",
       "<title>5</title>\n",
       "<text text-anchor=\"middle\" x=\"63.9507\" y=\"-52.8\" font-family=\"Times,serif\" font-size=\"14.00\" fill=\"#000000\">a</text>\n",
       "</g>\n",
       "<!-- 1&#45;&gt;5 -->\n",
       "<g id=\"edge5\" class=\"edge\">\n",
       "<title>1&#45;&gt;5</title>\n",
       "<path fill=\"none\" stroke=\"#000000\" d=\"M49.4591,-99.6223C51.7704,-92.8244 55.2843,-82.4894 58.273,-73.699\"/>\n",
       "<polygon fill=\"#000000\" stroke=\"#000000\" points=\"61.6367,-74.6786 61.5421,-64.0842 55.0093,-72.4252 61.6367,-74.6786\"/>\n",
       "</g>\n",
       "<!-- 3 -->\n",
       "<g id=\"node4\" class=\"node\">\n",
       "<title>3</title>\n",
       "<text text-anchor=\"middle\" x=\"12.9507\" y=\"-2.8\" font-family=\"Times,serif\" font-size=\"14.00\" fill=\"#000000\">&lt;A&gt;</text>\n",
       "</g>\n",
       "<!-- 2&#45;&gt;3 -->\n",
       "<g id=\"edge3\" class=\"edge\">\n",
       "<title>2&#45;&gt;3</title>\n",
       "<path fill=\"none\" stroke=\"#000000\" d=\"M27.4423,-49.6223C25.131,-42.8244 21.6171,-32.4894 18.6283,-23.699\"/>\n",
       "<polygon fill=\"#000000\" stroke=\"#000000\" points=\"21.8921,-22.4252 15.3593,-14.0842 15.2647,-24.6786 21.8921,-22.4252\"/>\n",
       "</g>\n",
       "<!-- 4 -->\n",
       "<g id=\"node5\" class=\"node\">\n",
       "<title>4</title>\n",
       "<text text-anchor=\"middle\" x=\"46.9507\" y=\"-2.8\" font-family=\"Times,serif\" font-size=\"14.00\" fill=\"#000000\">a</text>\n",
       "</g>\n",
       "<!-- 2&#45;&gt;4 -->\n",
       "<g id=\"edge4\" class=\"edge\">\n",
       "<title>2&#45;&gt;4</title>\n",
       "<path fill=\"none\" stroke=\"#000000\" d=\"M32.4591,-49.6223C34.7704,-42.8244 38.2843,-32.4894 41.273,-23.699\"/>\n",
       "<polygon fill=\"#000000\" stroke=\"#000000\" points=\"44.6367,-24.6786 44.5421,-14.0842 38.0093,-22.4252 44.6367,-24.6786\"/>\n",
       "</g>\n",
       "</g>\n",
       "</svg>\n"
      ],
      "text/plain": [
       "<graphviz.dot.Digraph at 0x11cae0e80>"
      ]
     },
     "metadata": {},
     "output_type": "display_data"
    }
   ],
   "source": [
    "mystring = 'aaaaaa'\n",
    "display_tree(\n",
    "    ('<start>', (('<A>', (('<A>', (('<A>', []), ('a', []))), ('a', []))), ('a', []))))"
   ]
  },
  {
   "cell_type": "markdown",
   "metadata": {
    "slideshow": {
     "slide_type": "subslide"
    }
   },
   "source": [
    "A grammar is indirectly left-recursive if any\n",
    "of the left-most symbols can be expanded using their definitions to\n",
    "produce the nonterminal as the left-most symbol of the expansion. The left\n",
    "recursion is called a _hidden-left-recursion_ if during the series of\n",
    "expansions of  a nonterminal, one reaches a rule where the rule contains\n",
    "the same nonterminal after a prefix of other symbols, and these symbols can\n",
    "derive the empty string. For example, in `A1_GRAMMAR`, `<integer>` will be\n",
    "considered hidden-left recursive if `<digit>` could derive an empty string.\n",
    "\n",
    "Right recursive grammars are defined similarly.\n",
    "Below is the derivation tree for the right recursive grammar that represents the same\n",
    "language as that of `LR_GRAMMAR`."
   ]
  },
  {
   "cell_type": "code",
   "execution_count": 44,
   "metadata": {
    "slideshow": {
     "slide_type": "subslide"
    }
   },
   "outputs": [],
   "source": [
    "RR_GRAMMAR = {\n",
    "    '<start>': ['<A>'],\n",
    "    '<A>': ['a<A>', ''],\n",
    "}"
   ]
  },
  {
   "cell_type": "code",
   "execution_count": 45,
   "metadata": {
    "slideshow": {
     "slide_type": "fragment"
    }
   },
   "outputs": [
    {
     "name": "stdout",
     "output_type": "stream",
     "text": [
      "start\n"
     ]
    },
    {
     "data": {
      "image/svg+xml": [
       "<svg class=\"railroad-diagram\" height=\"62\" viewBox=\"0 0 148.5 62\" width=\"148.5\" xmlns=\"http://www.w3.org/2000/svg\">\n",
       "<g transform=\"translate(.5 .5)\">\n",
       "<style>/* <![CDATA[ */\n",
       "    svg.railroad-diagram {\n",
       "        background-color:hsl(100,100%,100%);\n",
       "    }\n",
       "    svg.railroad-diagram path {\n",
       "        stroke-width:3;\n",
       "        stroke:black;\n",
       "        fill:rgba(0,0,0,0);\n",
       "    }\n",
       "    svg.railroad-diagram text {\n",
       "        font:bold 14px monospace;\n",
       "        text-anchor:middle;\n",
       "    }\n",
       "    svg.railroad-diagram text.label{\n",
       "        text-anchor:start;\n",
       "    }\n",
       "    svg.railroad-diagram text.comment{\n",
       "        font:italic 12px monospace;\n",
       "    }\n",
       "    svg.railroad-diagram rect{\n",
       "        stroke-width:3;\n",
       "        stroke:black;\n",
       "        fill:hsl(0,62%,82%);\n",
       "    }\n",
       "\n",
       "/* ]]> */\n",
       "</style><g>\n",
       "<path d=\"M20 21v20m10 -20v20m-10 -10h20\"/></g><g>\n",
       "<path d=\"M40 31h0.0\"/><path d=\"M108.5 31h0.0\"/><path d=\"M40.0 31h20\"/><g>\n",
       "<path d=\"M60.0 31h0.0\"/><path d=\"M88.5 31h0.0\"/><g class=\"non-terminal\">\n",
       "<path d=\"M60.0 31h0.0\"/><path d=\"M88.5 31h0.0\"/><rect height=\"22\" width=\"28.5\" x=\"60.0\" y=\"20\"/><text x=\"74.25\" y=\"35\">A</text></g></g><path d=\"M88.5 31h20\"/></g><path d=\"M 108.5 31 h 20 m -10 -10 v 20 m 10 -20 v 20\"/></g></svg>"
      ],
      "text/plain": [
       "<IPython.core.display.SVG object>"
      ]
     },
     "metadata": {},
     "output_type": "display_data"
    },
    {
     "name": "stdout",
     "output_type": "stream",
     "text": [
      "A\n"
     ]
    },
    {
     "data": {
      "image/svg+xml": [
       "<svg class=\"railroad-diagram\" height=\"92\" viewBox=\"0 0 197.0 92\" width=\"197.0\" xmlns=\"http://www.w3.org/2000/svg\">\n",
       "<g transform=\"translate(.5 .5)\">\n",
       "<style>/* <![CDATA[ */\n",
       "    svg.railroad-diagram {\n",
       "        background-color:hsl(100,100%,100%);\n",
       "    }\n",
       "    svg.railroad-diagram path {\n",
       "        stroke-width:3;\n",
       "        stroke:black;\n",
       "        fill:rgba(0,0,0,0);\n",
       "    }\n",
       "    svg.railroad-diagram text {\n",
       "        font:bold 14px monospace;\n",
       "        text-anchor:middle;\n",
       "    }\n",
       "    svg.railroad-diagram text.label{\n",
       "        text-anchor:start;\n",
       "    }\n",
       "    svg.railroad-diagram text.comment{\n",
       "        font:italic 12px monospace;\n",
       "    }\n",
       "    svg.railroad-diagram rect{\n",
       "        stroke-width:3;\n",
       "        stroke:black;\n",
       "        fill:hsl(0,62%,82%);\n",
       "    }\n",
       "\n",
       "/* ]]> */\n",
       "</style><g>\n",
       "<path d=\"M20 51v20m10 -20v20m-10 -10h20\"/></g><g>\n",
       "<path d=\"M40 61h0.0\"/><path d=\"M157.0 61h0.0\"/><path d=\"M40.0 61a10 10 0 0 0 10 -10v-10a10 10 0 0 1 10 -10\"/><g>\n",
       "<path d=\"M60.0 31h0.0\"/><path d=\"M137.0 31h0.0\"/><g class=\"terminal\">\n",
       "<path d=\"M60.0 31h0.0\"/><path d=\"M88.5 31h0.0\"/><rect height=\"22\" rx=\"10\" ry=\"10\" width=\"28.5\" x=\"60.0\" y=\"20\"/><text x=\"74.25\" y=\"35\">a</text></g><path d=\"M88.5 31h10\"/><path d=\"M98.5 31h10\"/><g class=\"non-terminal\">\n",
       "<path d=\"M108.5 31h0.0\"/><path d=\"M137.0 31h0.0\"/><rect height=\"22\" width=\"28.5\" x=\"108.5\" y=\"20\"/><text x=\"122.75\" y=\"35\">A</text></g></g><path d=\"M137.0 31a10 10 0 0 1 10 10v10a10 10 0 0 0 10 10\"/><path d=\"M40.0 61h20\"/><g>\n",
       "<path d=\"M60.0 61h28.5\"/><path d=\"M108.5 61h28.5\"/><g class=\"terminal\">\n",
       "<path d=\"M88.5 61h0.0\"/><path d=\"M108.5 61h0.0\"/><rect height=\"22\" rx=\"10\" ry=\"10\" width=\"20.0\" x=\"88.5\" y=\"50\"/><text x=\"98.5\" y=\"65\"/></g></g><path d=\"M137.0 61h20\"/></g><path d=\"M 157.0 61 h 20 m -10 -10 v 20 m 10 -20 v 20\"/></g></svg>"
      ],
      "text/plain": [
       "<IPython.core.display.SVG object>"
      ]
     },
     "metadata": {},
     "output_type": "display_data"
    }
   ],
   "source": [
    "syntax_diagram(RR_GRAMMAR)"
   ]
  },
  {
   "cell_type": "code",
   "execution_count": 46,
   "metadata": {
    "slideshow": {
     "slide_type": "fragment"
    }
   },
   "outputs": [
    {
     "data": {
      "image/svg+xml": [
       "<?xml version=\"1.0\" encoding=\"UTF-8\" standalone=\"no\"?>\n",
       "<!DOCTYPE svg PUBLIC \"-//W3C//DTD SVG 1.1//EN\"\n",
       " \"http://www.w3.org/Graphics/SVG/1.1/DTD/svg11.dtd\">\n",
       "<!-- Generated by graphviz version 2.40.1 (20161225.0304)\n",
       " -->\n",
       "<!-- Title: %3 Pages: 1 -->\n",
       "<svg width=\"92pt\" height=\"222pt\"\n",
       " viewBox=\"0.00 0.00 92.06 222.00\" xmlns=\"http://www.w3.org/2000/svg\" xmlns:xlink=\"http://www.w3.org/1999/xlink\">\n",
       "<g id=\"graph0\" class=\"graph\" transform=\"scale(1 1) rotate(0) translate(4 218)\">\n",
       "<title>%3</title>\n",
       "<polygon fill=\"#ffffff\" stroke=\"transparent\" points=\"-4,4 -4,-218 88.0576,-218 88.0576,4 -4,4\"/>\n",
       "<!-- 0 -->\n",
       "<g id=\"node1\" class=\"node\">\n",
       "<title>0</title>\n",
       "<text text-anchor=\"middle\" x=\"20.1069\" y=\"-202.8\" font-family=\"Times,serif\" font-size=\"14.00\" fill=\"#000000\">&lt;start&gt;</text>\n",
       "</g>\n",
       "<!-- 1 -->\n",
       "<g id=\"node2\" class=\"node\">\n",
       "<title>1</title>\n",
       "<text text-anchor=\"middle\" x=\"20.1069\" y=\"-152.8\" font-family=\"Times,serif\" font-size=\"14.00\" fill=\"#000000\">&lt;A&gt;</text>\n",
       "</g>\n",
       "<!-- 0&#45;&gt;1 -->\n",
       "<g id=\"edge1\" class=\"edge\">\n",
       "<title>0&#45;&gt;1</title>\n",
       "<path fill=\"none\" stroke=\"#000000\" d=\"M20.1069,-199.6223C20.1069,-192.9738 20.1069,-182.942 20.1069,-174.2807\"/>\n",
       "<polygon fill=\"#000000\" stroke=\"#000000\" points=\"23.607,-174.0842 20.1069,-164.0842 16.607,-174.0842 23.607,-174.0842\"/>\n",
       "</g>\n",
       "<!-- 2 -->\n",
       "<g id=\"node3\" class=\"node\">\n",
       "<title>2</title>\n",
       "<text text-anchor=\"middle\" x=\"3.1069\" y=\"-102.8\" font-family=\"Times,serif\" font-size=\"14.00\" fill=\"#000000\">a</text>\n",
       "</g>\n",
       "<!-- 1&#45;&gt;2 -->\n",
       "<g id=\"edge2\" class=\"edge\">\n",
       "<title>1&#45;&gt;2</title>\n",
       "<path fill=\"none\" stroke=\"#000000\" d=\"M17.5985,-149.6223C15.2872,-142.8244 11.7733,-132.4894 8.7846,-123.699\"/>\n",
       "<polygon fill=\"#000000\" stroke=\"#000000\" points=\"12.0484,-122.4252 5.5156,-114.0842 5.4209,-124.6786 12.0484,-122.4252\"/>\n",
       "</g>\n",
       "<!-- 3 -->\n",
       "<g id=\"node4\" class=\"node\">\n",
       "<title>3</title>\n",
       "<text text-anchor=\"middle\" x=\"37.1069\" y=\"-102.8\" font-family=\"Times,serif\" font-size=\"14.00\" fill=\"#000000\">&lt;A&gt;</text>\n",
       "</g>\n",
       "<!-- 1&#45;&gt;3 -->\n",
       "<g id=\"edge3\" class=\"edge\">\n",
       "<title>1&#45;&gt;3</title>\n",
       "<path fill=\"none\" stroke=\"#000000\" d=\"M22.6153,-149.6223C24.9267,-142.8244 28.4405,-132.4894 31.4293,-123.699\"/>\n",
       "<polygon fill=\"#000000\" stroke=\"#000000\" points=\"34.7929,-124.6786 34.6983,-114.0842 28.1655,-122.4252 34.7929,-124.6786\"/>\n",
       "</g>\n",
       "<!-- 4 -->\n",
       "<g id=\"node5\" class=\"node\">\n",
       "<title>4</title>\n",
       "<text text-anchor=\"middle\" x=\"20.1069\" y=\"-52.8\" font-family=\"Times,serif\" font-size=\"14.00\" fill=\"#000000\">a</text>\n",
       "</g>\n",
       "<!-- 3&#45;&gt;4 -->\n",
       "<g id=\"edge4\" class=\"edge\">\n",
       "<title>3&#45;&gt;4</title>\n",
       "<path fill=\"none\" stroke=\"#000000\" d=\"M34.5985,-99.6223C32.2872,-92.8244 28.7733,-82.4894 25.7846,-73.699\"/>\n",
       "<polygon fill=\"#000000\" stroke=\"#000000\" points=\"29.0484,-72.4252 22.5156,-64.0842 22.4209,-74.6786 29.0484,-72.4252\"/>\n",
       "</g>\n",
       "<!-- 5 -->\n",
       "<g id=\"node6\" class=\"node\">\n",
       "<title>5</title>\n",
       "<text text-anchor=\"middle\" x=\"54.1069\" y=\"-52.8\" font-family=\"Times,serif\" font-size=\"14.00\" fill=\"#000000\">&lt;A&gt;</text>\n",
       "</g>\n",
       "<!-- 3&#45;&gt;5 -->\n",
       "<g id=\"edge5\" class=\"edge\">\n",
       "<title>3&#45;&gt;5</title>\n",
       "<path fill=\"none\" stroke=\"#000000\" d=\"M39.6153,-99.6223C41.9267,-92.8244 45.4405,-82.4894 48.4293,-73.699\"/>\n",
       "<polygon fill=\"#000000\" stroke=\"#000000\" points=\"51.7929,-74.6786 51.6983,-64.0842 45.1655,-72.4252 51.7929,-74.6786\"/>\n",
       "</g>\n",
       "<!-- 6 -->\n",
       "<g id=\"node7\" class=\"node\">\n",
       "<title>6</title>\n",
       "<text text-anchor=\"middle\" x=\"37.1069\" y=\"-2.8\" font-family=\"Times,serif\" font-size=\"14.00\" fill=\"#000000\">a</text>\n",
       "</g>\n",
       "<!-- 5&#45;&gt;6 -->\n",
       "<g id=\"edge6\" class=\"edge\">\n",
       "<title>5&#45;&gt;6</title>\n",
       "<path fill=\"none\" stroke=\"#000000\" d=\"M51.5985,-49.6223C49.2872,-42.8244 45.7733,-32.4894 42.7846,-23.699\"/>\n",
       "<polygon fill=\"#000000\" stroke=\"#000000\" points=\"46.0484,-22.4252 39.5156,-14.0842 39.4209,-24.6786 46.0484,-22.4252\"/>\n",
       "</g>\n",
       "<!-- 7 -->\n",
       "<g id=\"node8\" class=\"node\">\n",
       "<title>7</title>\n",
       "<text text-anchor=\"middle\" x=\"71.1069\" y=\"-2.8\" font-family=\"Times,serif\" font-size=\"14.00\" fill=\"#000000\">&lt;A&gt;</text>\n",
       "</g>\n",
       "<!-- 5&#45;&gt;7 -->\n",
       "<g id=\"edge7\" class=\"edge\">\n",
       "<title>5&#45;&gt;7</title>\n",
       "<path fill=\"none\" stroke=\"#000000\" d=\"M56.6153,-49.6223C58.9267,-42.8244 62.4405,-32.4894 65.4293,-23.699\"/>\n",
       "<polygon fill=\"#000000\" stroke=\"#000000\" points=\"68.7929,-24.6786 68.6983,-14.0842 62.1655,-22.4252 68.7929,-24.6786\"/>\n",
       "</g>\n",
       "</g>\n",
       "</svg>\n"
      ],
      "text/plain": [
       "<graphviz.dot.Digraph at 0x11cae0320>"
      ]
     },
     "metadata": {},
     "output_type": "display_data"
    }
   ],
   "source": [
    "display_tree(('<start>', ((\n",
    "    '<A>', (('a', []), ('<A>', (('a', []), ('<A>', (('a', []), ('<A>', []))))))),)))"
   ]
  },
  {
   "cell_type": "markdown",
   "metadata": {
    "slideshow": {
     "slide_type": "subslide"
    }
   },
   "source": [
    "#### Ambiguity\n",
    "\n",
    "To complicate matters further, there could be\n",
    "multiple derivation trees – also called _parses_ – corresponding to the\n",
    "same string from the same grammar. For example, a string `1+2+3` can be parsed\n",
    "in two ways as we see below using the `A1_GRAMMAR`"
   ]
  },
  {
   "cell_type": "code",
   "execution_count": 47,
   "metadata": {
    "slideshow": {
     "slide_type": "subslide"
    }
   },
   "outputs": [
    {
     "data": {
      "image/svg+xml": [
       "<?xml version=\"1.0\" encoding=\"UTF-8\" standalone=\"no\"?>\n",
       "<!DOCTYPE svg PUBLIC \"-//W3C//DTD SVG 1.1//EN\"\n",
       " \"http://www.w3.org/Graphics/SVG/1.1/DTD/svg11.dtd\">\n",
       "<!-- Generated by graphviz version 2.40.1 (20161225.0304)\n",
       " -->\n",
       "<!-- Title: %3 Pages: 1 -->\n",
       "<svg width=\"213pt\" height=\"322pt\"\n",
       " viewBox=\"0.00 0.00 212.66 322.00\" xmlns=\"http://www.w3.org/2000/svg\" xmlns:xlink=\"http://www.w3.org/1999/xlink\">\n",
       "<g id=\"graph0\" class=\"graph\" transform=\"scale(1 1) rotate(0) translate(4 318)\">\n",
       "<title>%3</title>\n",
       "<polygon fill=\"#ffffff\" stroke=\"transparent\" points=\"-4,4 -4,-318 208.6602,-318 208.6602,4 -4,4\"/>\n",
       "<!-- 0 -->\n",
       "<g id=\"node1\" class=\"node\">\n",
       "<title>0</title>\n",
       "<text text-anchor=\"middle\" x=\"129.3301\" y=\"-302.8\" font-family=\"Times,serif\" font-size=\"14.00\" fill=\"#000000\">&lt;start&gt;</text>\n",
       "</g>\n",
       "<!-- 1 -->\n",
       "<g id=\"node2\" class=\"node\">\n",
       "<title>1</title>\n",
       "<text text-anchor=\"middle\" x=\"129.3301\" y=\"-252.8\" font-family=\"Times,serif\" font-size=\"14.00\" fill=\"#000000\">&lt;expr&gt;</text>\n",
       "</g>\n",
       "<!-- 0&#45;&gt;1 -->\n",
       "<g id=\"edge1\" class=\"edge\">\n",
       "<title>0&#45;&gt;1</title>\n",
       "<path fill=\"none\" stroke=\"#000000\" d=\"M129.3301,-299.6223C129.3301,-292.9738 129.3301,-282.942 129.3301,-274.2807\"/>\n",
       "<polygon fill=\"#000000\" stroke=\"#000000\" points=\"132.8302,-274.0842 129.3301,-264.0842 125.8302,-274.0842 132.8302,-274.0842\"/>\n",
       "</g>\n",
       "<!-- 2 -->\n",
       "<g id=\"node3\" class=\"node\">\n",
       "<title>2</title>\n",
       "<text text-anchor=\"middle\" x=\"81.3301\" y=\"-202.8\" font-family=\"Times,serif\" font-size=\"14.00\" fill=\"#000000\">&lt;expr&gt;</text>\n",
       "</g>\n",
       "<!-- 1&#45;&gt;2 -->\n",
       "<g id=\"edge2\" class=\"edge\">\n",
       "<title>1&#45;&gt;2</title>\n",
       "<path fill=\"none\" stroke=\"#000000\" d=\"M122.2475,-249.6223C115.1477,-242.2267 104.0292,-230.6449 95.1732,-221.4199\"/>\n",
       "<polygon fill=\"#000000\" stroke=\"#000000\" points=\"97.5811,-218.8742 88.1309,-214.0842 92.5314,-223.722 97.5811,-218.8742\"/>\n",
       "</g>\n",
       "<!-- 12 -->\n",
       "<g id=\"node13\" class=\"node\">\n",
       "<title>12</title>\n",
       "<text text-anchor=\"middle\" x=\"129.3301\" y=\"-202.8\" font-family=\"Times,serif\" font-size=\"14.00\" fill=\"#000000\">+</text>\n",
       "</g>\n",
       "<!-- 1&#45;&gt;12 -->\n",
       "<g id=\"edge12\" class=\"edge\">\n",
       "<title>1&#45;&gt;12</title>\n",
       "<path fill=\"none\" stroke=\"#000000\" d=\"M129.3301,-249.6223C129.3301,-242.9738 129.3301,-232.942 129.3301,-224.2807\"/>\n",
       "<polygon fill=\"#000000\" stroke=\"#000000\" points=\"132.8302,-224.0842 129.3301,-214.0842 125.8302,-224.0842 132.8302,-224.0842\"/>\n",
       "</g>\n",
       "<!-- 13 -->\n",
       "<g id=\"node14\" class=\"node\">\n",
       "<title>13</title>\n",
       "<text text-anchor=\"middle\" x=\"174.3301\" y=\"-202.8\" font-family=\"Times,serif\" font-size=\"14.00\" fill=\"#000000\">&lt;expr&gt;</text>\n",
       "</g>\n",
       "<!-- 1&#45;&gt;13 -->\n",
       "<g id=\"edge13\" class=\"edge\">\n",
       "<title>1&#45;&gt;13</title>\n",
       "<path fill=\"none\" stroke=\"#000000\" d=\"M135.97,-249.6223C142.5588,-242.3014 152.8395,-230.8785 161.1,-221.7001\"/>\n",
       "<polygon fill=\"#000000\" stroke=\"#000000\" points=\"163.8662,-223.8585 167.9543,-214.0842 158.6631,-219.1758 163.8662,-223.8585\"/>\n",
       "</g>\n",
       "<!-- 3 -->\n",
       "<g id=\"node4\" class=\"node\">\n",
       "<title>3</title>\n",
       "<text text-anchor=\"middle\" x=\"27.3301\" y=\"-152.8\" font-family=\"Times,serif\" font-size=\"14.00\" fill=\"#000000\">&lt;expr&gt;</text>\n",
       "</g>\n",
       "<!-- 2&#45;&gt;3 -->\n",
       "<g id=\"edge3\" class=\"edge\">\n",
       "<title>2&#45;&gt;3</title>\n",
       "<path fill=\"none\" stroke=\"#000000\" d=\"M73.3622,-199.6223C65.2943,-192.152 52.6134,-180.4105 42.6024,-171.1411\"/>\n",
       "<polygon fill=\"#000000\" stroke=\"#000000\" points=\"44.6966,-168.3101 34.981,-164.0842 39.9407,-173.4465 44.6966,-168.3101\"/>\n",
       "</g>\n",
       "<!-- 7 -->\n",
       "<g id=\"node8\" class=\"node\">\n",
       "<title>7</title>\n",
       "<text text-anchor=\"middle\" x=\"69.3301\" y=\"-152.8\" font-family=\"Times,serif\" font-size=\"14.00\" fill=\"#000000\">+</text>\n",
       "</g>\n",
       "<!-- 2&#45;&gt;7 -->\n",
       "<g id=\"edge7\" class=\"edge\">\n",
       "<title>2&#45;&gt;7</title>\n",
       "<path fill=\"none\" stroke=\"#000000\" d=\"M79.5594,-199.6223C77.9459,-192.8991 75.5019,-182.7161 73.4075,-173.9893\"/>\n",
       "<polygon fill=\"#000000\" stroke=\"#000000\" points=\"76.7674,-172.9912 71.0303,-164.0842 69.9607,-174.6249 76.7674,-172.9912\"/>\n",
       "</g>\n",
       "<!-- 8 -->\n",
       "<g id=\"node9\" class=\"node\">\n",
       "<title>8</title>\n",
       "<text text-anchor=\"middle\" x=\"111.3301\" y=\"-152.8\" font-family=\"Times,serif\" font-size=\"14.00\" fill=\"#000000\">&lt;expr&gt;</text>\n",
       "</g>\n",
       "<!-- 2&#45;&gt;8 -->\n",
       "<g id=\"edge8\" class=\"edge\">\n",
       "<title>2&#45;&gt;8</title>\n",
       "<path fill=\"none\" stroke=\"#000000\" d=\"M85.7567,-199.6223C89.9699,-192.6002 96.4476,-181.8041 101.8292,-172.8348\"/>\n",
       "<polygon fill=\"#000000\" stroke=\"#000000\" points=\"104.9358,-174.4599 107.0796,-164.0842 98.9333,-170.8584 104.9358,-174.4599\"/>\n",
       "</g>\n",
       "<!-- 4 -->\n",
       "<g id=\"node5\" class=\"node\">\n",
       "<title>4</title>\n",
       "<text text-anchor=\"middle\" x=\"27.3301\" y=\"-102.8\" font-family=\"Times,serif\" font-size=\"14.00\" fill=\"#000000\">&lt;integer&gt;</text>\n",
       "</g>\n",
       "<!-- 3&#45;&gt;4 -->\n",
       "<g id=\"edge4\" class=\"edge\">\n",
       "<title>3&#45;&gt;4</title>\n",
       "<path fill=\"none\" stroke=\"#000000\" d=\"M27.3301,-149.6223C27.3301,-142.9738 27.3301,-132.942 27.3301,-124.2807\"/>\n",
       "<polygon fill=\"#000000\" stroke=\"#000000\" points=\"30.8302,-124.0842 27.3301,-114.0842 23.8302,-124.0842 30.8302,-124.0842\"/>\n",
       "</g>\n",
       "<!-- 5 -->\n",
       "<g id=\"node6\" class=\"node\">\n",
       "<title>5</title>\n",
       "<text text-anchor=\"middle\" x=\"27.3301\" y=\"-52.8\" font-family=\"Times,serif\" font-size=\"14.00\" fill=\"#000000\">&lt;digit&gt;</text>\n",
       "</g>\n",
       "<!-- 4&#45;&gt;5 -->\n",
       "<g id=\"edge5\" class=\"edge\">\n",
       "<title>4&#45;&gt;5</title>\n",
       "<path fill=\"none\" stroke=\"#000000\" d=\"M27.3301,-99.6223C27.3301,-92.9738 27.3301,-82.942 27.3301,-74.2807\"/>\n",
       "<polygon fill=\"#000000\" stroke=\"#000000\" points=\"30.8302,-74.0842 27.3301,-64.0842 23.8302,-74.0842 30.8302,-74.0842\"/>\n",
       "</g>\n",
       "<!-- 6 -->\n",
       "<g id=\"node7\" class=\"node\">\n",
       "<title>6</title>\n",
       "<text text-anchor=\"middle\" x=\"27.3301\" y=\"-2.8\" font-family=\"Times,serif\" font-size=\"14.00\" fill=\"#000000\">1</text>\n",
       "</g>\n",
       "<!-- 5&#45;&gt;6 -->\n",
       "<g id=\"edge6\" class=\"edge\">\n",
       "<title>5&#45;&gt;6</title>\n",
       "<path fill=\"none\" stroke=\"#000000\" d=\"M27.3301,-49.6223C27.3301,-42.9738 27.3301,-32.942 27.3301,-24.2807\"/>\n",
       "<polygon fill=\"#000000\" stroke=\"#000000\" points=\"30.8302,-24.0842 27.3301,-14.0842 23.8302,-24.0842 30.8302,-24.0842\"/>\n",
       "</g>\n",
       "<!-- 9 -->\n",
       "<g id=\"node10\" class=\"node\">\n",
       "<title>9</title>\n",
       "<text text-anchor=\"middle\" x=\"111.3301\" y=\"-102.8\" font-family=\"Times,serif\" font-size=\"14.00\" fill=\"#000000\">&lt;integer&gt;</text>\n",
       "</g>\n",
       "<!-- 8&#45;&gt;9 -->\n",
       "<g id=\"edge9\" class=\"edge\">\n",
       "<title>8&#45;&gt;9</title>\n",
       "<path fill=\"none\" stroke=\"#000000\" d=\"M111.3301,-149.6223C111.3301,-142.9738 111.3301,-132.942 111.3301,-124.2807\"/>\n",
       "<polygon fill=\"#000000\" stroke=\"#000000\" points=\"114.8302,-124.0842 111.3301,-114.0842 107.8302,-124.0842 114.8302,-124.0842\"/>\n",
       "</g>\n",
       "<!-- 10 -->\n",
       "<g id=\"node11\" class=\"node\">\n",
       "<title>10</title>\n",
       "<text text-anchor=\"middle\" x=\"111.3301\" y=\"-52.8\" font-family=\"Times,serif\" font-size=\"14.00\" fill=\"#000000\">&lt;digit&gt;</text>\n",
       "</g>\n",
       "<!-- 9&#45;&gt;10 -->\n",
       "<g id=\"edge10\" class=\"edge\">\n",
       "<title>9&#45;&gt;10</title>\n",
       "<path fill=\"none\" stroke=\"#000000\" d=\"M111.3301,-99.6223C111.3301,-92.9738 111.3301,-82.942 111.3301,-74.2807\"/>\n",
       "<polygon fill=\"#000000\" stroke=\"#000000\" points=\"114.8302,-74.0842 111.3301,-64.0842 107.8302,-74.0842 114.8302,-74.0842\"/>\n",
       "</g>\n",
       "<!-- 11 -->\n",
       "<g id=\"node12\" class=\"node\">\n",
       "<title>11</title>\n",
       "<text text-anchor=\"middle\" x=\"111.3301\" y=\"-2.8\" font-family=\"Times,serif\" font-size=\"14.00\" fill=\"#000000\">2</text>\n",
       "</g>\n",
       "<!-- 10&#45;&gt;11 -->\n",
       "<g id=\"edge11\" class=\"edge\">\n",
       "<title>10&#45;&gt;11</title>\n",
       "<path fill=\"none\" stroke=\"#000000\" d=\"M111.3301,-49.6223C111.3301,-42.9738 111.3301,-32.942 111.3301,-24.2807\"/>\n",
       "<polygon fill=\"#000000\" stroke=\"#000000\" points=\"114.8302,-24.0842 111.3301,-14.0842 107.8302,-24.0842 114.8302,-24.0842\"/>\n",
       "</g>\n",
       "<!-- 14 -->\n",
       "<g id=\"node15\" class=\"node\">\n",
       "<title>14</title>\n",
       "<text text-anchor=\"middle\" x=\"177.3301\" y=\"-152.8\" font-family=\"Times,serif\" font-size=\"14.00\" fill=\"#000000\">&lt;integer&gt;</text>\n",
       "</g>\n",
       "<!-- 13&#45;&gt;14 -->\n",
       "<g id=\"edge14\" class=\"edge\">\n",
       "<title>13&#45;&gt;14</title>\n",
       "<path fill=\"none\" stroke=\"#000000\" d=\"M174.7727,-199.6223C175.1717,-192.9738 175.7736,-182.942 176.2932,-174.2807\"/>\n",
       "<polygon fill=\"#000000\" stroke=\"#000000\" points=\"179.7997,-174.2759 176.905,-164.0842 172.8123,-173.8566 179.7997,-174.2759\"/>\n",
       "</g>\n",
       "<!-- 15 -->\n",
       "<g id=\"node16\" class=\"node\">\n",
       "<title>15</title>\n",
       "<text text-anchor=\"middle\" x=\"177.3301\" y=\"-102.8\" font-family=\"Times,serif\" font-size=\"14.00\" fill=\"#000000\">&lt;digit&gt;</text>\n",
       "</g>\n",
       "<!-- 14&#45;&gt;15 -->\n",
       "<g id=\"edge15\" class=\"edge\">\n",
       "<title>14&#45;&gt;15</title>\n",
       "<path fill=\"none\" stroke=\"#000000\" d=\"M177.3301,-149.6223C177.3301,-142.9738 177.3301,-132.942 177.3301,-124.2807\"/>\n",
       "<polygon fill=\"#000000\" stroke=\"#000000\" points=\"180.8302,-124.0842 177.3301,-114.0842 173.8302,-124.0842 180.8302,-124.0842\"/>\n",
       "</g>\n",
       "<!-- 16 -->\n",
       "<g id=\"node17\" class=\"node\">\n",
       "<title>16</title>\n",
       "<text text-anchor=\"middle\" x=\"177.3301\" y=\"-52.8\" font-family=\"Times,serif\" font-size=\"14.00\" fill=\"#000000\">3</text>\n",
       "</g>\n",
       "<!-- 15&#45;&gt;16 -->\n",
       "<g id=\"edge16\" class=\"edge\">\n",
       "<title>15&#45;&gt;16</title>\n",
       "<path fill=\"none\" stroke=\"#000000\" d=\"M177.3301,-99.6223C177.3301,-92.9738 177.3301,-82.942 177.3301,-74.2807\"/>\n",
       "<polygon fill=\"#000000\" stroke=\"#000000\" points=\"180.8302,-74.0842 177.3301,-64.0842 173.8302,-74.0842 180.8302,-74.0842\"/>\n",
       "</g>\n",
       "</g>\n",
       "</svg>\n"
      ],
      "text/plain": [
       "<graphviz.dot.Digraph at 0x10d9e4f28>"
      ]
     },
     "metadata": {},
     "output_type": "display_data"
    }
   ],
   "source": [
    "mystring = '1+2+3'\n",
    "tree = ('<start>',\n",
    "        [('<expr>',\n",
    "          [('<expr>', [('<expr>', [('<integer>', [('<digit>', [('1', [])])])]),\n",
    "                       ('+', []),\n",
    "                       ('<expr>', [('<integer>',\n",
    "                                    [('<digit>', [('2', [])])])])]), ('+', []),\n",
    "           ('<expr>', [('<integer>', [('<digit>', [('3', [])])])])])])\n",
    "assert mystring == tree_to_string(tree)\n",
    "display_tree(tree)"
   ]
  },
  {
   "cell_type": "code",
   "execution_count": 48,
   "metadata": {
    "slideshow": {
     "slide_type": "subslide"
    }
   },
   "outputs": [
    {
     "data": {
      "image/svg+xml": [
       "<?xml version=\"1.0\" encoding=\"UTF-8\" standalone=\"no\"?>\n",
       "<!DOCTYPE svg PUBLIC \"-//W3C//DTD SVG 1.1//EN\"\n",
       " \"http://www.w3.org/Graphics/SVG/1.1/DTD/svg11.dtd\">\n",
       "<!-- Generated by graphviz version 2.40.1 (20161225.0304)\n",
       " -->\n",
       "<!-- Title: %3 Pages: 1 -->\n",
       "<svg width=\"213pt\" height=\"322pt\"\n",
       " viewBox=\"0.00 0.00 212.66 322.00\" xmlns=\"http://www.w3.org/2000/svg\" xmlns:xlink=\"http://www.w3.org/1999/xlink\">\n",
       "<g id=\"graph0\" class=\"graph\" transform=\"scale(1 1) rotate(0) translate(4 318)\">\n",
       "<title>%3</title>\n",
       "<polygon fill=\"#ffffff\" stroke=\"transparent\" points=\"-4,4 -4,-318 208.6602,-318 208.6602,4 -4,4\"/>\n",
       "<!-- 0 -->\n",
       "<g id=\"node1\" class=\"node\">\n",
       "<title>0</title>\n",
       "<text text-anchor=\"middle\" x=\"87.3301\" y=\"-302.8\" font-family=\"Times,serif\" font-size=\"14.00\" fill=\"#000000\">&lt;start&gt;</text>\n",
       "</g>\n",
       "<!-- 1 -->\n",
       "<g id=\"node2\" class=\"node\">\n",
       "<title>1</title>\n",
       "<text text-anchor=\"middle\" x=\"87.3301\" y=\"-252.8\" font-family=\"Times,serif\" font-size=\"14.00\" fill=\"#000000\">&lt;expr&gt;</text>\n",
       "</g>\n",
       "<!-- 0&#45;&gt;1 -->\n",
       "<g id=\"edge1\" class=\"edge\">\n",
       "<title>0&#45;&gt;1</title>\n",
       "<path fill=\"none\" stroke=\"#000000\" d=\"M87.3301,-299.6223C87.3301,-292.9738 87.3301,-282.942 87.3301,-274.2807\"/>\n",
       "<polygon fill=\"#000000\" stroke=\"#000000\" points=\"90.8302,-274.0842 87.3301,-264.0842 83.8302,-274.0842 90.8302,-274.0842\"/>\n",
       "</g>\n",
       "<!-- 2 -->\n",
       "<g id=\"node3\" class=\"node\">\n",
       "<title>2</title>\n",
       "<text text-anchor=\"middle\" x=\"39.3301\" y=\"-202.8\" font-family=\"Times,serif\" font-size=\"14.00\" fill=\"#000000\">&lt;expr&gt;</text>\n",
       "</g>\n",
       "<!-- 1&#45;&gt;2 -->\n",
       "<g id=\"edge2\" class=\"edge\">\n",
       "<title>1&#45;&gt;2</title>\n",
       "<path fill=\"none\" stroke=\"#000000\" d=\"M80.2475,-249.6223C73.1477,-242.2267 62.0292,-230.6449 53.1732,-221.4199\"/>\n",
       "<polygon fill=\"#000000\" stroke=\"#000000\" points=\"55.5811,-218.8742 46.1309,-214.0842 50.5314,-223.722 55.5811,-218.8742\"/>\n",
       "</g>\n",
       "<!-- 6 -->\n",
       "<g id=\"node7\" class=\"node\">\n",
       "<title>6</title>\n",
       "<text text-anchor=\"middle\" x=\"87.3301\" y=\"-202.8\" font-family=\"Times,serif\" font-size=\"14.00\" fill=\"#000000\">+</text>\n",
       "</g>\n",
       "<!-- 1&#45;&gt;6 -->\n",
       "<g id=\"edge6\" class=\"edge\">\n",
       "<title>1&#45;&gt;6</title>\n",
       "<path fill=\"none\" stroke=\"#000000\" d=\"M87.3301,-249.6223C87.3301,-242.9738 87.3301,-232.942 87.3301,-224.2807\"/>\n",
       "<polygon fill=\"#000000\" stroke=\"#000000\" points=\"90.8302,-224.0842 87.3301,-214.0842 83.8302,-224.0842 90.8302,-224.0842\"/>\n",
       "</g>\n",
       "<!-- 7 -->\n",
       "<g id=\"node8\" class=\"node\">\n",
       "<title>7</title>\n",
       "<text text-anchor=\"middle\" x=\"132.3301\" y=\"-202.8\" font-family=\"Times,serif\" font-size=\"14.00\" fill=\"#000000\">&lt;expr&gt;</text>\n",
       "</g>\n",
       "<!-- 1&#45;&gt;7 -->\n",
       "<g id=\"edge7\" class=\"edge\">\n",
       "<title>1&#45;&gt;7</title>\n",
       "<path fill=\"none\" stroke=\"#000000\" d=\"M93.97,-249.6223C100.5588,-242.3014 110.8395,-230.8785 119.1,-221.7001\"/>\n",
       "<polygon fill=\"#000000\" stroke=\"#000000\" points=\"121.8662,-223.8585 125.9543,-214.0842 116.6631,-219.1758 121.8662,-223.8585\"/>\n",
       "</g>\n",
       "<!-- 3 -->\n",
       "<g id=\"node4\" class=\"node\">\n",
       "<title>3</title>\n",
       "<text text-anchor=\"middle\" x=\"27.3301\" y=\"-152.8\" font-family=\"Times,serif\" font-size=\"14.00\" fill=\"#000000\">&lt;integer&gt;</text>\n",
       "</g>\n",
       "<!-- 2&#45;&gt;3 -->\n",
       "<g id=\"edge3\" class=\"edge\">\n",
       "<title>2&#45;&gt;3</title>\n",
       "<path fill=\"none\" stroke=\"#000000\" d=\"M37.5594,-199.6223C35.9459,-192.8991 33.5019,-182.7161 31.4075,-173.9893\"/>\n",
       "<polygon fill=\"#000000\" stroke=\"#000000\" points=\"34.7674,-172.9912 29.0303,-164.0842 27.9607,-174.6249 34.7674,-172.9912\"/>\n",
       "</g>\n",
       "<!-- 4 -->\n",
       "<g id=\"node5\" class=\"node\">\n",
       "<title>4</title>\n",
       "<text text-anchor=\"middle\" x=\"27.3301\" y=\"-102.8\" font-family=\"Times,serif\" font-size=\"14.00\" fill=\"#000000\">&lt;digit&gt;</text>\n",
       "</g>\n",
       "<!-- 3&#45;&gt;4 -->\n",
       "<g id=\"edge4\" class=\"edge\">\n",
       "<title>3&#45;&gt;4</title>\n",
       "<path fill=\"none\" stroke=\"#000000\" d=\"M27.3301,-149.6223C27.3301,-142.9738 27.3301,-132.942 27.3301,-124.2807\"/>\n",
       "<polygon fill=\"#000000\" stroke=\"#000000\" points=\"30.8302,-124.0842 27.3301,-114.0842 23.8302,-124.0842 30.8302,-124.0842\"/>\n",
       "</g>\n",
       "<!-- 5 -->\n",
       "<g id=\"node6\" class=\"node\">\n",
       "<title>5</title>\n",
       "<text text-anchor=\"middle\" x=\"27.3301\" y=\"-52.8\" font-family=\"Times,serif\" font-size=\"14.00\" fill=\"#000000\">1</text>\n",
       "</g>\n",
       "<!-- 4&#45;&gt;5 -->\n",
       "<g id=\"edge5\" class=\"edge\">\n",
       "<title>4&#45;&gt;5</title>\n",
       "<path fill=\"none\" stroke=\"#000000\" d=\"M27.3301,-99.6223C27.3301,-92.9738 27.3301,-82.942 27.3301,-74.2807\"/>\n",
       "<polygon fill=\"#000000\" stroke=\"#000000\" points=\"30.8302,-74.0842 27.3301,-64.0842 23.8302,-74.0842 30.8302,-74.0842\"/>\n",
       "</g>\n",
       "<!-- 8 -->\n",
       "<g id=\"node9\" class=\"node\">\n",
       "<title>8</title>\n",
       "<text text-anchor=\"middle\" x=\"93.3301\" y=\"-152.8\" font-family=\"Times,serif\" font-size=\"14.00\" fill=\"#000000\">&lt;expr&gt;</text>\n",
       "</g>\n",
       "<!-- 7&#45;&gt;8 -->\n",
       "<g id=\"edge8\" class=\"edge\">\n",
       "<title>7&#45;&gt;8</title>\n",
       "<path fill=\"none\" stroke=\"#000000\" d=\"M126.5755,-199.6223C120.9235,-192.3761 112.1368,-181.1111 105.0159,-171.9818\"/>\n",
       "<polygon fill=\"#000000\" stroke=\"#000000\" points=\"107.7659,-169.8166 98.8557,-164.0842 102.2463,-174.1219 107.7659,-169.8166\"/>\n",
       "</g>\n",
       "<!-- 12 -->\n",
       "<g id=\"node13\" class=\"node\">\n",
       "<title>12</title>\n",
       "<text text-anchor=\"middle\" x=\"135.3301\" y=\"-152.8\" font-family=\"Times,serif\" font-size=\"14.00\" fill=\"#000000\">+</text>\n",
       "</g>\n",
       "<!-- 7&#45;&gt;12 -->\n",
       "<g id=\"edge12\" class=\"edge\">\n",
       "<title>7&#45;&gt;12</title>\n",
       "<path fill=\"none\" stroke=\"#000000\" d=\"M132.7727,-199.6223C133.1717,-192.9738 133.7736,-182.942 134.2932,-174.2807\"/>\n",
       "<polygon fill=\"#000000\" stroke=\"#000000\" points=\"137.7997,-174.2759 134.905,-164.0842 130.8123,-173.8566 137.7997,-174.2759\"/>\n",
       "</g>\n",
       "<!-- 13 -->\n",
       "<g id=\"node14\" class=\"node\">\n",
       "<title>13</title>\n",
       "<text text-anchor=\"middle\" x=\"177.3301\" y=\"-152.8\" font-family=\"Times,serif\" font-size=\"14.00\" fill=\"#000000\">&lt;expr&gt;</text>\n",
       "</g>\n",
       "<!-- 7&#45;&gt;13 -->\n",
       "<g id=\"edge13\" class=\"edge\">\n",
       "<title>7&#45;&gt;13</title>\n",
       "<path fill=\"none\" stroke=\"#000000\" d=\"M138.97,-199.6223C145.5588,-192.3014 155.8395,-180.8785 164.1,-171.7001\"/>\n",
       "<polygon fill=\"#000000\" stroke=\"#000000\" points=\"166.8662,-173.8585 170.9543,-164.0842 161.6631,-169.1758 166.8662,-173.8585\"/>\n",
       "</g>\n",
       "<!-- 9 -->\n",
       "<g id=\"node10\" class=\"node\">\n",
       "<title>9</title>\n",
       "<text text-anchor=\"middle\" x=\"93.3301\" y=\"-102.8\" font-family=\"Times,serif\" font-size=\"14.00\" fill=\"#000000\">&lt;integer&gt;</text>\n",
       "</g>\n",
       "<!-- 8&#45;&gt;9 -->\n",
       "<g id=\"edge9\" class=\"edge\">\n",
       "<title>8&#45;&gt;9</title>\n",
       "<path fill=\"none\" stroke=\"#000000\" d=\"M93.3301,-149.6223C93.3301,-142.9738 93.3301,-132.942 93.3301,-124.2807\"/>\n",
       "<polygon fill=\"#000000\" stroke=\"#000000\" points=\"96.8302,-124.0842 93.3301,-114.0842 89.8302,-124.0842 96.8302,-124.0842\"/>\n",
       "</g>\n",
       "<!-- 10 -->\n",
       "<g id=\"node11\" class=\"node\">\n",
       "<title>10</title>\n",
       "<text text-anchor=\"middle\" x=\"93.3301\" y=\"-52.8\" font-family=\"Times,serif\" font-size=\"14.00\" fill=\"#000000\">&lt;digit&gt;</text>\n",
       "</g>\n",
       "<!-- 9&#45;&gt;10 -->\n",
       "<g id=\"edge10\" class=\"edge\">\n",
       "<title>9&#45;&gt;10</title>\n",
       "<path fill=\"none\" stroke=\"#000000\" d=\"M93.3301,-99.6223C93.3301,-92.9738 93.3301,-82.942 93.3301,-74.2807\"/>\n",
       "<polygon fill=\"#000000\" stroke=\"#000000\" points=\"96.8302,-74.0842 93.3301,-64.0842 89.8302,-74.0842 96.8302,-74.0842\"/>\n",
       "</g>\n",
       "<!-- 11 -->\n",
       "<g id=\"node12\" class=\"node\">\n",
       "<title>11</title>\n",
       "<text text-anchor=\"middle\" x=\"93.3301\" y=\"-2.8\" font-family=\"Times,serif\" font-size=\"14.00\" fill=\"#000000\">2</text>\n",
       "</g>\n",
       "<!-- 10&#45;&gt;11 -->\n",
       "<g id=\"edge11\" class=\"edge\">\n",
       "<title>10&#45;&gt;11</title>\n",
       "<path fill=\"none\" stroke=\"#000000\" d=\"M93.3301,-49.6223C93.3301,-42.9738 93.3301,-32.942 93.3301,-24.2807\"/>\n",
       "<polygon fill=\"#000000\" stroke=\"#000000\" points=\"96.8302,-24.0842 93.3301,-14.0842 89.8302,-24.0842 96.8302,-24.0842\"/>\n",
       "</g>\n",
       "<!-- 14 -->\n",
       "<g id=\"node15\" class=\"node\">\n",
       "<title>14</title>\n",
       "<text text-anchor=\"middle\" x=\"177.3301\" y=\"-102.8\" font-family=\"Times,serif\" font-size=\"14.00\" fill=\"#000000\">&lt;integer&gt;</text>\n",
       "</g>\n",
       "<!-- 13&#45;&gt;14 -->\n",
       "<g id=\"edge14\" class=\"edge\">\n",
       "<title>13&#45;&gt;14</title>\n",
       "<path fill=\"none\" stroke=\"#000000\" d=\"M177.3301,-149.6223C177.3301,-142.9738 177.3301,-132.942 177.3301,-124.2807\"/>\n",
       "<polygon fill=\"#000000\" stroke=\"#000000\" points=\"180.8302,-124.0842 177.3301,-114.0842 173.8302,-124.0842 180.8302,-124.0842\"/>\n",
       "</g>\n",
       "<!-- 15 -->\n",
       "<g id=\"node16\" class=\"node\">\n",
       "<title>15</title>\n",
       "<text text-anchor=\"middle\" x=\"177.3301\" y=\"-52.8\" font-family=\"Times,serif\" font-size=\"14.00\" fill=\"#000000\">&lt;digit&gt;</text>\n",
       "</g>\n",
       "<!-- 14&#45;&gt;15 -->\n",
       "<g id=\"edge15\" class=\"edge\">\n",
       "<title>14&#45;&gt;15</title>\n",
       "<path fill=\"none\" stroke=\"#000000\" d=\"M177.3301,-99.6223C177.3301,-92.9738 177.3301,-82.942 177.3301,-74.2807\"/>\n",
       "<polygon fill=\"#000000\" stroke=\"#000000\" points=\"180.8302,-74.0842 177.3301,-64.0842 173.8302,-74.0842 180.8302,-74.0842\"/>\n",
       "</g>\n",
       "<!-- 16 -->\n",
       "<g id=\"node17\" class=\"node\">\n",
       "<title>16</title>\n",
       "<text text-anchor=\"middle\" x=\"177.3301\" y=\"-2.8\" font-family=\"Times,serif\" font-size=\"14.00\" fill=\"#000000\">3</text>\n",
       "</g>\n",
       "<!-- 15&#45;&gt;16 -->\n",
       "<g id=\"edge16\" class=\"edge\">\n",
       "<title>15&#45;&gt;16</title>\n",
       "<path fill=\"none\" stroke=\"#000000\" d=\"M177.3301,-49.6223C177.3301,-42.9738 177.3301,-32.942 177.3301,-24.2807\"/>\n",
       "<polygon fill=\"#000000\" stroke=\"#000000\" points=\"180.8302,-24.0842 177.3301,-14.0842 173.8302,-24.0842 180.8302,-24.0842\"/>\n",
       "</g>\n",
       "</g>\n",
       "</svg>\n"
      ],
      "text/plain": [
       "<graphviz.dot.Digraph at 0x11cacee10>"
      ]
     },
     "metadata": {},
     "output_type": "display_data"
    }
   ],
   "source": [
    "tree = ('<start>',\n",
    "        [('<expr>', [('<expr>', [('<integer>', [('<digit>', [('1', [])])])]),\n",
    "                     ('+', []),\n",
    "                     ('<expr>',\n",
    "                      [('<expr>', [('<integer>', [('<digit>', [('2', [])])])]),\n",
    "                       ('+', []),\n",
    "                       ('<expr>', [('<integer>', [('<digit>', [('3',\n",
    "                                                                [])])])])])])])\n",
    "assert tree_to_string(tree) == mystring\n",
    "display_tree(tree)"
   ]
  },
  {
   "cell_type": "markdown",
   "metadata": {
    "slideshow": {
     "slide_type": "subslide"
    }
   },
   "source": [
    "There are many ways to resolve ambiguities. One approach taken by *Parsing Expression Grammars* explained in the next section is to specify a particular order of resolution, and choose the first one. Another approach is to simply return all possible derivation trees, which is the approach taken by *Earley parser* we develop later."
   ]
  },
  {
   "cell_type": "markdown",
   "metadata": {
    "slideshow": {
     "slide_type": "subslide"
    }
   },
   "source": [
    "Next, we develop different parsers. To do that, we define a minimal interface for parsing that is obeyed by all parsers. There are two approaches to parsing a string using a grammar.\n",
    "\n",
    "1. The traditional approach is to use a *lexer* (also called a *tokenizer* or a *scanner*) to first tokenize the incoming string, and feed the grammar one token at a time. The lexer is typically a smaller parser that accepts a *regular language*. The advantage of this approach is that the grammar used by the parser can eschew the details of tokenization. Further, one gets a shallow derivation tree at the end of the parsing which can be directly used for generating the *Abstract Syntax Tree*.\n",
    "2. The second approach is to use a tree pruner after the complete parse. With this approach, one uses a grammar that incorporates complete details of the syntax. Next, the nodes corresponding to tokens are pruned and replaced with their corresponding strings as leaf nodes. The utility of this approach is that the parser is more powerful, and further there is no artificial distinction between *lexing* and *parsing*.\n",
    "\n",
    "In this chapter, we use the second approach. This approach is implemented in the `prune_tree` method."
   ]
  },
  {
   "cell_type": "markdown",
   "metadata": {
    "slideshow": {
     "slide_type": "subslide"
    }
   },
   "source": [
    "The *Parser* class we define below provides the minimal interface. The main methods that need to be implemented by the classes implementing this interface are `parse_prefix` and `parse`. The `parse_prefix` returns a tuple, which contains the index until which parsing was completed successfully, and the parse forest until that index. The method `parse` returns a list of derivation trees if the parse was successful."
   ]
  },
  {
   "cell_type": "code",
   "execution_count": 49,
   "metadata": {
    "slideshow": {
     "slide_type": "subslide"
    }
   },
   "outputs": [],
   "source": [
    "class Parser(object):\n",
    "    def __init__(self, grammar, **kwargs):\n",
    "        self._grammar = grammar\n",
    "        self._start_symbol = kwargs.get('start_symbol', START_SYMBOL)\n",
    "        self.log = kwargs.get('log', False)\n",
    "        self.coalesce = kwargs.get('coalesce', True)\n",
    "        self.tokens = kwargs.get('tokens', set())\n",
    "\n",
    "    def grammar(self):\n",
    "        return self._grammar\n",
    "\n",
    "    def start_symbol(self):\n",
    "        return self._start_symbol\n",
    "\n",
    "    def parse_prefix(self, text):\n",
    "        \"\"\"Return pair (cursor, forest) for longest prefix of text\"\"\"\n",
    "        raise NotImplemented()\n",
    "\n",
    "    def parse(self, text):\n",
    "        cursor, forest = self.parse_prefix(text)\n",
    "        if cursor < len(text):\n",
    "            raise SyntaxError(\"at \" + repr(text[cursor:]))\n",
    "        return [self.prune_tree(tree) for tree in forest]\n",
    "\n",
    "    def coalesce(self, children):\n",
    "        last = ''\n",
    "        new_lst = []\n",
    "        for cn, cc in children:\n",
    "            if cn not in self._grammar:\n",
    "                last += cn\n",
    "            else:\n",
    "                if last:\n",
    "                    new_lst.append((last, []))\n",
    "                    last = ''\n",
    "                new_lst.append((cn, cc))\n",
    "        if last:\n",
    "            new_lst.append((last, []))\n",
    "        return new_lst\n",
    "\n",
    "    def prune_tree(self, tree):\n",
    "        name, children = tree\n",
    "        if self.coalesce:\n",
    "            children = self.coalesce(children)\n",
    "        if name in self.tokens:\n",
    "            return (name, [(tree_to_string(tree), [])])\n",
    "        else:\n",
    "            return (name, [self.prune_tree(c) for c in children])"
   ]
  },
  {
   "cell_type": "markdown",
   "metadata": {
    "slideshow": {
     "slide_type": "subslide"
    }
   },
   "source": [
    "## Parsing Expression Grammars\n",
    "\n",
    "A _[Parsing Expression Grammar](http://bford.info/pub/lang/peg)_ (*PEG*) \\cite{Ford2004} is a type of _recognition based formal grammar_ that specifies the sequence of steps to take to parse a given string.\n",
    "A _parsing expression grammar_ is very similar to a _context-free grammar_ (*CFG*) such as the ones we saw in the [chapter on grammars](Grammars.ipynb). As in a CFG, a parsing expression grammar is represented by a set of nonterminals and corresponding alternatives representing how to match each. For example, here is a PEG that matches `a` or `b`."
   ]
  },
  {
   "cell_type": "code",
   "execution_count": 50,
   "metadata": {
    "slideshow": {
     "slide_type": "fragment"
    }
   },
   "outputs": [],
   "source": [
    "PEG1 = {\n",
    "    '<start>': ['a', 'b']\n",
    "}"
   ]
  },
  {
   "cell_type": "markdown",
   "metadata": {
    "slideshow": {
     "slide_type": "notes"
    }
   },
   "source": [
    "However, unlike the _CFG_, the alternatives represent *ordered choice*. That is, rather than choosing all rules that can potentially match, we stop at the first match that succeed. For example, the below _PEG_ can match `ab` but not `abc` unlike a _CFG_ which will match both. (We call the sequence of ordered choice expressions *choice expressions*  rather than alternatives to make the distinction from _CFG_ clear.)"
   ]
  },
  {
   "cell_type": "code",
   "execution_count": 51,
   "metadata": {
    "slideshow": {
     "slide_type": "subslide"
    }
   },
   "outputs": [],
   "source": [
    "PEG2 = {\n",
    "    '<start>': ['ab', 'abc']\n",
    "}"
   ]
  },
  {
   "cell_type": "markdown",
   "metadata": {
    "slideshow": {
     "slide_type": "notes"
    }
   },
   "source": [
    "Each choice in a _choice expression_ represents a rule on how to satisfy that particular choice. The choice is a sequence of symbols (terminals and nonterminals) that are matched against a given text as in a _CFG_."
   ]
  },
  {
   "cell_type": "markdown",
   "metadata": {
    "slideshow": {
     "slide_type": "skip"
    }
   },
   "source": [
    "Beyond the syntax of grammar definitions we have seen so far, a _PEG_ can also contain a few additional elements. See the exercises at the end of the chapter for additional information.\n",
    "\n",
    "The PEGs model the typical practice in handwritten recursive descent parsers, and hence it may be considered more intuitive to understand. We look at parsers for PEGs next."
   ]
  },
  {
   "cell_type": "markdown",
   "metadata": {
    "slideshow": {
     "slide_type": "subslide"
    }
   },
   "source": [
    "### The Packrat Parser for Predicate Expression Grammars\n",
    "\n",
    "Short of hand rolling a parser, _Packrat_ parsing is one of the simplest parsing techniques, and is one of the techniques for parsing PEGs.\n",
    "The _Packrat_ parser is so named because it tries to cache all results from simpler problems in the hope that these solutions can be used to avoid re-computation later. We develop a minimal _Packrat_ parser next.\n",
    "\n",
    "But before that, we need to implement a few supporting tools."
   ]
  },
  {
   "cell_type": "markdown",
   "metadata": {
    "slideshow": {
     "slide_type": "skip"
    }
   },
   "source": [
    "The  `EXPR_GRAMMAR` we import from the [chapter on grammars](Grammars.ipynb) is oriented towards generation. In particular, the production rules are stored as strings. We need to massage this representation a little to conform to a canonical representation where each token in a rule is represented separately. The `canonical` format uses separate tokens to represent each symbol in an expansion."
   ]
  },
  {
   "cell_type": "code",
   "execution_count": 52,
   "metadata": {
    "slideshow": {
     "slide_type": "skip"
    }
   },
   "outputs": [],
   "source": [
    "import re"
   ]
  },
  {
   "cell_type": "code",
   "execution_count": 53,
   "metadata": {
    "slideshow": {
     "slide_type": "skip"
    }
   },
   "outputs": [],
   "source": [
    "def canonical(grammar, letters=False):\n",
    "    def split(expansion):\n",
    "        if isinstance(expansion, tuple):\n",
    "            expansion = expansion[0]\n",
    "\n",
    "        return [token for token in re.split(\n",
    "            RE_NONTERMINAL, expansion) if token]\n",
    "\n",
    "    def tokenize(word):\n",
    "        return list(word) if letters else [word]\n",
    "\n",
    "    def canonical_expr(expression):\n",
    "        return [\n",
    "            token for word in split(expression)\n",
    "            for token in ([word] if word in grammar else tokenize(word))\n",
    "        ]\n",
    "\n",
    "    return {\n",
    "        k: [canonical_expr(expression) for expression in alternatives]\n",
    "        for k, alternatives in grammar.items()\n",
    "    }"
   ]
  },
  {
   "cell_type": "code",
   "execution_count": 54,
   "metadata": {
    "slideshow": {
     "slide_type": "skip"
    }
   },
   "outputs": [
    {
     "data": {
      "text/plain": [
       "{'<start>': [['<expr>']],\n",
       " '<expr>': [['<term>', ' + ', '<expr>'],\n",
       "  ['<term>', ' - ', '<expr>'],\n",
       "  ['<term>']],\n",
       " '<term>': [['<factor>', ' * ', '<term>'],\n",
       "  ['<factor>', ' / ', '<term>'],\n",
       "  ['<factor>']],\n",
       " '<factor>': [['+', '<factor>'],\n",
       "  ['-', '<factor>'],\n",
       "  ['(', '<expr>', ')'],\n",
       "  ['<integer>', '.', '<integer>'],\n",
       "  ['<integer>']],\n",
       " '<integer>': [['<digit>', '<integer>'], ['<digit>']],\n",
       " '<digit>': [['0'],\n",
       "  ['1'],\n",
       "  ['2'],\n",
       "  ['3'],\n",
       "  ['4'],\n",
       "  ['5'],\n",
       "  ['6'],\n",
       "  ['7'],\n",
       "  ['8'],\n",
       "  ['9']]}"
      ]
     },
     "execution_count": 54,
     "metadata": {},
     "output_type": "execute_result"
    }
   ],
   "source": [
    "canonical(EXPR_GRAMMAR)"
   ]
  },
  {
   "cell_type": "markdown",
   "metadata": {
    "slideshow": {
     "slide_type": "skip"
    }
   },
   "source": [
    "It is easier to work with the `canonical` representation during parsing. Hence, we update our parser class to store the `canonical` representation also."
   ]
  },
  {
   "cell_type": "code",
   "execution_count": 55,
   "metadata": {
    "slideshow": {
     "slide_type": "subslide"
    }
   },
   "outputs": [],
   "source": [
    "class Parser(Parser):\n",
    "    def __init__(self, grammar, **kwargs):\n",
    "        self._grammar = grammar\n",
    "        self._start_symbol = kwargs.get('start_symbol', START_SYMBOL)\n",
    "        self.log = kwargs.get('log', False)\n",
    "        self.tokens = kwargs.get('tokens', set())\n",
    "        self.cgrammar = canonical(grammar)"
   ]
  },
  {
   "cell_type": "markdown",
   "metadata": {
    "slideshow": {
     "slide_type": "subslide"
    },
    "toc-hr-collapsed": false
   },
   "source": [
    "### The Parser\n",
    "\n",
    "We derive from the `Parser` base class first, and we accept the text to be parsed in the `parse()` method, which in turn calls `unify_key()` with the `start_symbol`.\n",
    "\n",
    "__Note.__ While our PEG parser can produce only a single unambiguous parse tree, other parsers can produce multiple parses for ambiguous grammars. Hence, we return a list of trees (in this case with a single element)."
   ]
  },
  {
   "cell_type": "code",
   "execution_count": 56,
   "metadata": {
    "slideshow": {
     "slide_type": "subslide"
    }
   },
   "outputs": [],
   "source": [
    "class PEGParser(Parser):\n",
    "    def parse_prefix(self, text):\n",
    "        cursor, tree = self.unify_key(self.start_symbol(), text, 0)\n",
    "        return cursor, [tree]"
   ]
  },
  {
   "cell_type": "markdown",
   "metadata": {
    "slideshow": {
     "slide_type": "notes"
    }
   },
   "source": [
    "#### Unify Key\n",
    "The `unify_key()` algorithm is simple. If given a terminal symbol, it tries to match the symbol with the current position in the text. If the symbol and text match, it returns successfully with the new parse index `at`.\n",
    "\n",
    "If on the other hand, it was given a nonterminal, it retrieves the choice expression corresponding to the key, and tries to match each choice *in order* using `unify_rule()`. If **any** of the rules succeed in being unified with the given text, the parse is considered a success, and we return with the new parse index returned by `unify_rule()`."
   ]
  },
  {
   "cell_type": "code",
   "execution_count": 57,
   "metadata": {
    "button": false,
    "code_folding": [],
    "new_sheet": false,
    "run_control": {
     "read_only": false
    },
    "slideshow": {
     "slide_type": "subslide"
    }
   },
   "outputs": [],
   "source": [
    "class PEGParser(PEGParser):\n",
    "    def unify_key(self, key, text, at=0):\n",
    "        if self.log:\n",
    "            print(\"unify_key: %s with %s\" % (repr(key), repr(text[at:])))\n",
    "        if key not in self.cgrammar:\n",
    "            if text[at:].startswith(key):\n",
    "                return at + len(key), (key, [])\n",
    "            else:\n",
    "                return at, None\n",
    "        for rule in self.cgrammar[key]:\n",
    "            to, res = self.unify_rule(rule, text, at)\n",
    "            if res:\n",
    "                return (to, (key, res))\n",
    "        return 0, None"
   ]
  },
  {
   "cell_type": "code",
   "execution_count": 58,
   "metadata": {
    "slideshow": {
     "slide_type": "subslide"
    }
   },
   "outputs": [
    {
     "name": "stdout",
     "output_type": "stream",
     "text": [
      "unify_key: '1' with '1'\n"
     ]
    },
    {
     "data": {
      "text/plain": [
       "(1, ('1', []))"
      ]
     },
     "execution_count": 58,
     "metadata": {},
     "output_type": "execute_result"
    }
   ],
   "source": [
    "mystring = \"1\"\n",
    "peg = PEGParser(EXPR_GRAMMAR, log=True)\n",
    "peg.unify_key('1', mystring)"
   ]
  },
  {
   "cell_type": "code",
   "execution_count": 59,
   "metadata": {
    "slideshow": {
     "slide_type": "fragment"
    }
   },
   "outputs": [
    {
     "name": "stdout",
     "output_type": "stream",
     "text": [
      "unify_key: '1' with '2'\n"
     ]
    },
    {
     "data": {
      "text/plain": [
       "(0, None)"
      ]
     },
     "execution_count": 59,
     "metadata": {},
     "output_type": "execute_result"
    }
   ],
   "source": [
    "mystring = \"2\"\n",
    "peg.unify_key('1', mystring)"
   ]
  },
  {
   "cell_type": "markdown",
   "metadata": {
    "slideshow": {
     "slide_type": "notes"
    }
   },
   "source": [
    "#### Unify Rule\n",
    "\n",
    "The `unify_rule()` method is similar. It retrieves the tokens corresponding to the rule that it needs to unify with the text, and calls `unify_key()` on them in sequence. If **all** tokens are successfully unified with the text, the parse is a success."
   ]
  },
  {
   "cell_type": "code",
   "execution_count": 60,
   "metadata": {
    "slideshow": {
     "slide_type": "subslide"
    }
   },
   "outputs": [],
   "source": [
    "class PEGParser(PEGParser):\n",
    "    def unify_rule(self, rule, text, at):\n",
    "        if self.log:\n",
    "            print('unify_rule: %s with %s' % (repr(rule), repr(text[at:])))\n",
    "        results = []\n",
    "        for token in rule:\n",
    "            at, res = self.unify_key(token, text, at)\n",
    "            if res is None:\n",
    "                return at, None\n",
    "            results.append(res)\n",
    "        return at, results"
   ]
  },
  {
   "cell_type": "code",
   "execution_count": 61,
   "metadata": {
    "slideshow": {
     "slide_type": "subslide"
    }
   },
   "outputs": [
    {
     "name": "stdout",
     "output_type": "stream",
     "text": [
      "unify_rule: ['0'] with '0'\n",
      "unify_key: '0' with '0'\n"
     ]
    },
    {
     "data": {
      "text/plain": [
       "(1, [('0', [])])"
      ]
     },
     "execution_count": 61,
     "metadata": {},
     "output_type": "execute_result"
    }
   ],
   "source": [
    "mystring = \"0\"\n",
    "peg = PEGParser(EXPR_GRAMMAR, log=True)\n",
    "peg.unify_rule(peg.cgrammar['<digit>'][0], mystring, 0)"
   ]
  },
  {
   "cell_type": "code",
   "execution_count": 62,
   "metadata": {
    "slideshow": {
     "slide_type": "subslide"
    }
   },
   "outputs": [
    {
     "name": "stdout",
     "output_type": "stream",
     "text": [
      "unify_rule: ['<digit>', '<integer>'] with '12'\n",
      "unify_key: '<digit>' with '12'\n",
      "unify_rule: ['0'] with '12'\n",
      "unify_key: '0' with '12'\n",
      "unify_rule: ['1'] with '12'\n",
      "unify_key: '1' with '12'\n",
      "unify_key: '<integer>' with '2'\n",
      "unify_rule: ['<digit>', '<integer>'] with '2'\n",
      "unify_key: '<digit>' with '2'\n",
      "unify_rule: ['0'] with '2'\n",
      "unify_key: '0' with '2'\n",
      "unify_rule: ['1'] with '2'\n",
      "unify_key: '1' with '2'\n",
      "unify_rule: ['2'] with '2'\n",
      "unify_key: '2' with '2'\n",
      "unify_key: '<integer>' with ''\n",
      "unify_rule: ['<digit>', '<integer>'] with ''\n",
      "unify_key: '<digit>' with ''\n",
      "unify_rule: ['0'] with ''\n",
      "unify_key: '0' with ''\n",
      "unify_rule: ['1'] with ''\n",
      "unify_key: '1' with ''\n",
      "unify_rule: ['2'] with ''\n",
      "unify_key: '2' with ''\n",
      "unify_rule: ['3'] with ''\n",
      "unify_key: '3' with ''\n",
      "unify_rule: ['4'] with ''\n",
      "unify_key: '4' with ''\n",
      "unify_rule: ['5'] with ''\n",
      "unify_key: '5' with ''\n",
      "unify_rule: ['6'] with ''\n",
      "unify_key: '6' with ''\n",
      "unify_rule: ['7'] with ''\n",
      "unify_key: '7' with ''\n",
      "unify_rule: ['8'] with ''\n",
      "unify_key: '8' with ''\n",
      "unify_rule: ['9'] with ''\n",
      "unify_key: '9' with ''\n",
      "unify_rule: ['<digit>'] with ''\n",
      "unify_key: '<digit>' with ''\n",
      "unify_rule: ['0'] with ''\n",
      "unify_key: '0' with ''\n",
      "unify_rule: ['1'] with ''\n",
      "unify_key: '1' with ''\n",
      "unify_rule: ['2'] with ''\n",
      "unify_key: '2' with ''\n",
      "unify_rule: ['3'] with ''\n",
      "unify_key: '3' with ''\n",
      "unify_rule: ['4'] with ''\n",
      "unify_key: '4' with ''\n",
      "unify_rule: ['5'] with ''\n",
      "unify_key: '5' with ''\n",
      "unify_rule: ['6'] with ''\n",
      "unify_key: '6' with ''\n",
      "unify_rule: ['7'] with ''\n",
      "unify_key: '7' with ''\n",
      "unify_rule: ['8'] with ''\n",
      "unify_key: '8' with ''\n",
      "unify_rule: ['9'] with ''\n",
      "unify_key: '9' with ''\n",
      "unify_rule: ['<digit>'] with '2'\n",
      "unify_key: '<digit>' with '2'\n",
      "unify_rule: ['0'] with '2'\n",
      "unify_key: '0' with '2'\n",
      "unify_rule: ['1'] with '2'\n",
      "unify_key: '1' with '2'\n",
      "unify_rule: ['2'] with '2'\n",
      "unify_key: '2' with '2'\n"
     ]
    },
    {
     "data": {
      "text/plain": [
       "(2, [('<digit>', [('1', [])]), ('<integer>', [('<digit>', [('2', [])])])])"
      ]
     },
     "execution_count": 62,
     "metadata": {},
     "output_type": "execute_result"
    }
   ],
   "source": [
    "mystring = \"12\"\n",
    "peg.unify_rule(peg.cgrammar['<integer>'][0], mystring, 0)"
   ]
  },
  {
   "cell_type": "code",
   "execution_count": 63,
   "metadata": {
    "slideshow": {
     "slide_type": "subslide"
    }
   },
   "outputs": [
    {
     "data": {
      "text/plain": [
       "[('<start>',\n",
       "  [('<expr>',\n",
       "    [('<term>', [('<factor>', [('<integer>', [('<digit>', [('1', [])])])])]),\n",
       "     (' + ', []),\n",
       "     ('<expr>',\n",
       "      [('<term>',\n",
       "        [('<factor>', [('<integer>', [('<digit>', [('2', [])])])])])])])])]"
      ]
     },
     "execution_count": 63,
     "metadata": {},
     "output_type": "execute_result"
    }
   ],
   "source": [
    "mystring = \"1 + 2\"\n",
    "peg = PEGParser(EXPR_GRAMMAR, log=False)\n",
    "peg.parse(mystring)"
   ]
  },
  {
   "cell_type": "markdown",
   "metadata": {
    "slideshow": {
     "slide_type": "notes"
    }
   },
   "source": [
    "The two methods are mutually recursive, and given that `unify_key()` tries each alternative until it succeeds, `unify_key` can be called multiple times with the same arguments. Hence, it is important to memoize the results of `unify_key`. Python provides a simple decorator `lru_cache` for memoizing any function call that has hashable arguments. We add that to our implementation so that repeated calls to `unify_key()` with the same argument get cached results.\n",
    "\n",
    "This memoization gives the algorithm its name – _Packrat_."
   ]
  },
  {
   "cell_type": "code",
   "execution_count": 64,
   "metadata": {
    "slideshow": {
     "slide_type": "skip"
    }
   },
   "outputs": [],
   "source": [
    "from functools import lru_cache"
   ]
  },
  {
   "cell_type": "code",
   "execution_count": 65,
   "metadata": {
    "slideshow": {
     "slide_type": "subslide"
    }
   },
   "outputs": [],
   "source": [
    "class PEGParser(PEGParser):\n",
    "    @lru_cache(maxsize=None)\n",
    "    def unify_key(self, key, text, at=0):\n",
    "        if key not in self.cgrammar:\n",
    "            if text[at:].startswith(key):\n",
    "                return at + len(key), (key, [])\n",
    "            else:\n",
    "                return at, None\n",
    "        for rule in self.cgrammar[key]:\n",
    "            to, res = self.unify_rule(rule, text, at)\n",
    "            if res:\n",
    "                return (to, (key, res))\n",
    "        return 0, None"
   ]
  },
  {
   "cell_type": "markdown",
   "metadata": {
    "slideshow": {
     "slide_type": "notes"
    }
   },
   "source": [
    "We wrap initialization and calling of `PEGParser` in a method `parse()` already implemented in the `Parser` base class that accepts the text to be parsed along with the grammar."
   ]
  },
  {
   "cell_type": "markdown",
   "metadata": {
    "slideshow": {
     "slide_type": "notes"
    }
   },
   "source": [
    "Here are a few examples of our parser in action."
   ]
  },
  {
   "cell_type": "code",
   "execution_count": 66,
   "metadata": {
    "slideshow": {
     "slide_type": "subslide"
    }
   },
   "outputs": [
    {
     "data": {
      "image/svg+xml": [
       "<?xml version=\"1.0\" encoding=\"UTF-8\" standalone=\"no\"?>\n",
       "<!DOCTYPE svg PUBLIC \"-//W3C//DTD SVG 1.1//EN\"\n",
       " \"http://www.w3.org/Graphics/SVG/1.1/DTD/svg11.dtd\">\n",
       "<!-- Generated by graphviz version 2.40.1 (20161225.0304)\n",
       " -->\n",
       "<!-- Title: %3 Pages: 1 -->\n",
       "<svg width=\"201pt\" height=\"572pt\"\n",
       " viewBox=\"0.00 0.00 200.66 572.00\" xmlns=\"http://www.w3.org/2000/svg\" xmlns:xlink=\"http://www.w3.org/1999/xlink\">\n",
       "<g id=\"graph0\" class=\"graph\" transform=\"scale(1 1) rotate(0) translate(4 568)\">\n",
       "<title>%3</title>\n",
       "<polygon fill=\"#ffffff\" stroke=\"transparent\" points=\"-4,4 -4,-568 196.6602,-568 196.6602,4 -4,4\"/>\n",
       "<!-- 0 -->\n",
       "<g id=\"node1\" class=\"node\">\n",
       "<title>0</title>\n",
       "<text text-anchor=\"middle\" x=\"73.3301\" y=\"-552.8\" font-family=\"Times,serif\" font-size=\"14.00\" fill=\"#000000\">&lt;start&gt;</text>\n",
       "</g>\n",
       "<!-- 1 -->\n",
       "<g id=\"node2\" class=\"node\">\n",
       "<title>1</title>\n",
       "<text text-anchor=\"middle\" x=\"73.3301\" y=\"-502.8\" font-family=\"Times,serif\" font-size=\"14.00\" fill=\"#000000\">&lt;expr&gt;</text>\n",
       "</g>\n",
       "<!-- 0&#45;&gt;1 -->\n",
       "<g id=\"edge1\" class=\"edge\">\n",
       "<title>0&#45;&gt;1</title>\n",
       "<path fill=\"none\" stroke=\"#000000\" d=\"M73.3301,-549.6223C73.3301,-542.9738 73.3301,-532.942 73.3301,-524.2807\"/>\n",
       "<polygon fill=\"#000000\" stroke=\"#000000\" points=\"76.8302,-524.0842 73.3301,-514.0842 69.8302,-524.0842 76.8302,-524.0842\"/>\n",
       "</g>\n",
       "<!-- 2 -->\n",
       "<g id=\"node3\" class=\"node\">\n",
       "<title>2</title>\n",
       "<text text-anchor=\"middle\" x=\"27.3301\" y=\"-452.8\" font-family=\"Times,serif\" font-size=\"14.00\" fill=\"#000000\">&lt;term&gt;</text>\n",
       "</g>\n",
       "<!-- 1&#45;&gt;2 -->\n",
       "<g id=\"edge2\" class=\"edge\">\n",
       "<title>1&#45;&gt;2</title>\n",
       "<path fill=\"none\" stroke=\"#000000\" d=\"M66.5426,-499.6223C59.8074,-492.3014 49.2983,-480.8785 40.8542,-471.7001\"/>\n",
       "<polygon fill=\"#000000\" stroke=\"#000000\" points=\"43.1939,-469.0738 33.8475,-464.0842 38.0424,-473.8132 43.1939,-469.0738\"/>\n",
       "</g>\n",
       "<!-- 7 -->\n",
       "<g id=\"node8\" class=\"node\">\n",
       "<title>7</title>\n",
       "<text text-anchor=\"middle\" x=\"73.3301\" y=\"-452.8\" font-family=\"Times,serif\" font-size=\"14.00\" fill=\"#000000\"> + </text>\n",
       "</g>\n",
       "<!-- 1&#45;&gt;7 -->\n",
       "<g id=\"edge7\" class=\"edge\">\n",
       "<title>1&#45;&gt;7</title>\n",
       "<path fill=\"none\" stroke=\"#000000\" d=\"M73.3301,-499.6223C73.3301,-492.9738 73.3301,-482.942 73.3301,-474.2807\"/>\n",
       "<polygon fill=\"#000000\" stroke=\"#000000\" points=\"76.8302,-474.0842 73.3301,-464.0842 69.8302,-474.0842 76.8302,-474.0842\"/>\n",
       "</g>\n",
       "<!-- 8 -->\n",
       "<g id=\"node9\" class=\"node\">\n",
       "<title>8</title>\n",
       "<text text-anchor=\"middle\" x=\"119.3301\" y=\"-452.8\" font-family=\"Times,serif\" font-size=\"14.00\" fill=\"#000000\">&lt;expr&gt;</text>\n",
       "</g>\n",
       "<!-- 1&#45;&gt;8 -->\n",
       "<g id=\"edge8\" class=\"edge\">\n",
       "<title>1&#45;&gt;8</title>\n",
       "<path fill=\"none\" stroke=\"#000000\" d=\"M80.1175,-499.6223C86.8528,-492.3014 97.3619,-480.8785 105.806,-471.7001\"/>\n",
       "<polygon fill=\"#000000\" stroke=\"#000000\" points=\"108.6178,-473.8132 112.8126,-464.0842 103.4663,-469.0738 108.6178,-473.8132\"/>\n",
       "</g>\n",
       "<!-- 3 -->\n",
       "<g id=\"node4\" class=\"node\">\n",
       "<title>3</title>\n",
       "<text text-anchor=\"middle\" x=\"27.3301\" y=\"-402.8\" font-family=\"Times,serif\" font-size=\"14.00\" fill=\"#000000\">&lt;factor&gt;</text>\n",
       "</g>\n",
       "<!-- 2&#45;&gt;3 -->\n",
       "<g id=\"edge3\" class=\"edge\">\n",
       "<title>2&#45;&gt;3</title>\n",
       "<path fill=\"none\" stroke=\"#000000\" d=\"M27.3301,-449.6223C27.3301,-442.9738 27.3301,-432.942 27.3301,-424.2807\"/>\n",
       "<polygon fill=\"#000000\" stroke=\"#000000\" points=\"30.8302,-424.0842 27.3301,-414.0842 23.8302,-424.0842 30.8302,-424.0842\"/>\n",
       "</g>\n",
       "<!-- 4 -->\n",
       "<g id=\"node5\" class=\"node\">\n",
       "<title>4</title>\n",
       "<text text-anchor=\"middle\" x=\"27.3301\" y=\"-352.8\" font-family=\"Times,serif\" font-size=\"14.00\" fill=\"#000000\">&lt;integer&gt;</text>\n",
       "</g>\n",
       "<!-- 3&#45;&gt;4 -->\n",
       "<g id=\"edge4\" class=\"edge\">\n",
       "<title>3&#45;&gt;4</title>\n",
       "<path fill=\"none\" stroke=\"#000000\" d=\"M27.3301,-399.6223C27.3301,-392.9738 27.3301,-382.942 27.3301,-374.2807\"/>\n",
       "<polygon fill=\"#000000\" stroke=\"#000000\" points=\"30.8302,-374.0842 27.3301,-364.0842 23.8302,-374.0842 30.8302,-374.0842\"/>\n",
       "</g>\n",
       "<!-- 5 -->\n",
       "<g id=\"node6\" class=\"node\">\n",
       "<title>5</title>\n",
       "<text text-anchor=\"middle\" x=\"27.3301\" y=\"-302.8\" font-family=\"Times,serif\" font-size=\"14.00\" fill=\"#000000\">&lt;digit&gt;</text>\n",
       "</g>\n",
       "<!-- 4&#45;&gt;5 -->\n",
       "<g id=\"edge5\" class=\"edge\">\n",
       "<title>4&#45;&gt;5</title>\n",
       "<path fill=\"none\" stroke=\"#000000\" d=\"M27.3301,-349.6223C27.3301,-342.9738 27.3301,-332.942 27.3301,-324.2807\"/>\n",
       "<polygon fill=\"#000000\" stroke=\"#000000\" points=\"30.8302,-324.0842 27.3301,-314.0842 23.8302,-324.0842 30.8302,-324.0842\"/>\n",
       "</g>\n",
       "<!-- 6 -->\n",
       "<g id=\"node7\" class=\"node\">\n",
       "<title>6</title>\n",
       "<text text-anchor=\"middle\" x=\"27.3301\" y=\"-252.8\" font-family=\"Times,serif\" font-size=\"14.00\" fill=\"#000000\">1</text>\n",
       "</g>\n",
       "<!-- 5&#45;&gt;6 -->\n",
       "<g id=\"edge6\" class=\"edge\">\n",
       "<title>5&#45;&gt;6</title>\n",
       "<path fill=\"none\" stroke=\"#000000\" d=\"M27.3301,-299.6223C27.3301,-292.9738 27.3301,-282.942 27.3301,-274.2807\"/>\n",
       "<polygon fill=\"#000000\" stroke=\"#000000\" points=\"30.8302,-274.0842 27.3301,-264.0842 23.8302,-274.0842 30.8302,-274.0842\"/>\n",
       "</g>\n",
       "<!-- 9 -->\n",
       "<g id=\"node10\" class=\"node\">\n",
       "<title>9</title>\n",
       "<text text-anchor=\"middle\" x=\"119.3301\" y=\"-402.8\" font-family=\"Times,serif\" font-size=\"14.00\" fill=\"#000000\">&lt;term&gt;</text>\n",
       "</g>\n",
       "<!-- 8&#45;&gt;9 -->\n",
       "<g id=\"edge9\" class=\"edge\">\n",
       "<title>8&#45;&gt;9</title>\n",
       "<path fill=\"none\" stroke=\"#000000\" d=\"M119.3301,-449.6223C119.3301,-442.9738 119.3301,-432.942 119.3301,-424.2807\"/>\n",
       "<polygon fill=\"#000000\" stroke=\"#000000\" points=\"122.8302,-424.0842 119.3301,-414.0842 115.8302,-424.0842 122.8302,-424.0842\"/>\n",
       "</g>\n",
       "<!-- 10 -->\n",
       "<g id=\"node11\" class=\"node\">\n",
       "<title>10</title>\n",
       "<text text-anchor=\"middle\" x=\"119.3301\" y=\"-352.8\" font-family=\"Times,serif\" font-size=\"14.00\" fill=\"#000000\">&lt;factor&gt;</text>\n",
       "</g>\n",
       "<!-- 9&#45;&gt;10 -->\n",
       "<g id=\"edge10\" class=\"edge\">\n",
       "<title>9&#45;&gt;10</title>\n",
       "<path fill=\"none\" stroke=\"#000000\" d=\"M119.3301,-399.6223C119.3301,-392.9738 119.3301,-382.942 119.3301,-374.2807\"/>\n",
       "<polygon fill=\"#000000\" stroke=\"#000000\" points=\"122.8302,-374.0842 119.3301,-364.0842 115.8302,-374.0842 122.8302,-374.0842\"/>\n",
       "</g>\n",
       "<!-- 11 -->\n",
       "<g id=\"node12\" class=\"node\">\n",
       "<title>11</title>\n",
       "<text text-anchor=\"middle\" x=\"78.3301\" y=\"-302.8\" font-family=\"Times,serif\" font-size=\"14.00\" fill=\"#000000\">(</text>\n",
       "</g>\n",
       "<!-- 10&#45;&gt;11 -->\n",
       "<g id=\"edge11\" class=\"edge\">\n",
       "<title>10&#45;&gt;11</title>\n",
       "<path fill=\"none\" stroke=\"#000000\" d=\"M113.2804,-349.6223C106.3306,-341.1469 94.8725,-327.1736 86.9813,-317.5502\"/>\n",
       "<polygon fill=\"#000000\" stroke=\"#000000\" points=\"89.6254,-315.255 80.5782,-309.7416 84.2125,-319.6935 89.6254,-315.255\"/>\n",
       "</g>\n",
       "<!-- 12 -->\n",
       "<g id=\"node13\" class=\"node\">\n",
       "<title>12</title>\n",
       "<text text-anchor=\"middle\" x=\"119.3301\" y=\"-302.8\" font-family=\"Times,serif\" font-size=\"14.00\" fill=\"#000000\">&lt;expr&gt;</text>\n",
       "</g>\n",
       "<!-- 10&#45;&gt;12 -->\n",
       "<g id=\"edge12\" class=\"edge\">\n",
       "<title>10&#45;&gt;12</title>\n",
       "<path fill=\"none\" stroke=\"#000000\" d=\"M119.3301,-349.6223C119.3301,-342.9738 119.3301,-332.942 119.3301,-324.2807\"/>\n",
       "<polygon fill=\"#000000\" stroke=\"#000000\" points=\"122.8302,-324.0842 119.3301,-314.0842 115.8302,-324.0842 122.8302,-324.0842\"/>\n",
       "</g>\n",
       "<!-- 24 -->\n",
       "<g id=\"node25\" class=\"node\">\n",
       "<title>24</title>\n",
       "<text text-anchor=\"middle\" x=\"160.3301\" y=\"-302.8\" font-family=\"Times,serif\" font-size=\"14.00\" fill=\"#000000\">)</text>\n",
       "</g>\n",
       "<!-- 10&#45;&gt;24 -->\n",
       "<g id=\"edge24\" class=\"edge\">\n",
       "<title>10&#45;&gt;24</title>\n",
       "<path fill=\"none\" stroke=\"#000000\" d=\"M125.3798,-349.6223C132.3296,-341.1469 143.7877,-327.1736 151.6789,-317.5502\"/>\n",
       "<polygon fill=\"#000000\" stroke=\"#000000\" points=\"154.4476,-319.6935 158.082,-309.7416 149.0347,-315.255 154.4476,-319.6935\"/>\n",
       "</g>\n",
       "<!-- 13 -->\n",
       "<g id=\"node14\" class=\"node\">\n",
       "<title>13</title>\n",
       "<text text-anchor=\"middle\" x=\"119.3301\" y=\"-252.8\" font-family=\"Times,serif\" font-size=\"14.00\" fill=\"#000000\">&lt;term&gt;</text>\n",
       "</g>\n",
       "<!-- 12&#45;&gt;13 -->\n",
       "<g id=\"edge13\" class=\"edge\">\n",
       "<title>12&#45;&gt;13</title>\n",
       "<path fill=\"none\" stroke=\"#000000\" d=\"M119.3301,-299.6223C119.3301,-292.9738 119.3301,-282.942 119.3301,-274.2807\"/>\n",
       "<polygon fill=\"#000000\" stroke=\"#000000\" points=\"122.8302,-274.0842 119.3301,-264.0842 115.8302,-274.0842 122.8302,-274.0842\"/>\n",
       "</g>\n",
       "<!-- 14 -->\n",
       "<g id=\"node15\" class=\"node\">\n",
       "<title>14</title>\n",
       "<text text-anchor=\"middle\" x=\"70.3301\" y=\"-202.8\" font-family=\"Times,serif\" font-size=\"14.00\" fill=\"#000000\">&lt;factor&gt;</text>\n",
       "</g>\n",
       "<!-- 13&#45;&gt;14 -->\n",
       "<g id=\"edge14\" class=\"edge\">\n",
       "<title>13&#45;&gt;14</title>\n",
       "<path fill=\"none\" stroke=\"#000000\" d=\"M112.1,-249.6223C104.8523,-242.2267 93.5021,-230.6449 84.4616,-221.4199\"/>\n",
       "<polygon fill=\"#000000\" stroke=\"#000000\" points=\"86.7717,-218.7766 77.2726,-214.0842 81.7721,-223.6761 86.7717,-218.7766\"/>\n",
       "</g>\n",
       "<!-- 18 -->\n",
       "<g id=\"node19\" class=\"node\">\n",
       "<title>18</title>\n",
       "<text text-anchor=\"middle\" x=\"119.3301\" y=\"-202.8\" font-family=\"Times,serif\" font-size=\"14.00\" fill=\"#000000\"> * </text>\n",
       "</g>\n",
       "<!-- 13&#45;&gt;18 -->\n",
       "<g id=\"edge18\" class=\"edge\">\n",
       "<title>13&#45;&gt;18</title>\n",
       "<path fill=\"none\" stroke=\"#000000\" d=\"M119.3301,-249.6223C119.3301,-242.9738 119.3301,-232.942 119.3301,-224.2807\"/>\n",
       "<polygon fill=\"#000000\" stroke=\"#000000\" points=\"122.8302,-224.0842 119.3301,-214.0842 115.8302,-224.0842 122.8302,-224.0842\"/>\n",
       "</g>\n",
       "<!-- 19 -->\n",
       "<g id=\"node20\" class=\"node\">\n",
       "<title>19</title>\n",
       "<text text-anchor=\"middle\" x=\"165.3301\" y=\"-202.8\" font-family=\"Times,serif\" font-size=\"14.00\" fill=\"#000000\">&lt;term&gt;</text>\n",
       "</g>\n",
       "<!-- 13&#45;&gt;19 -->\n",
       "<g id=\"edge19\" class=\"edge\">\n",
       "<title>13&#45;&gt;19</title>\n",
       "<path fill=\"none\" stroke=\"#000000\" d=\"M126.1175,-249.6223C132.8528,-242.3014 143.3619,-230.8785 151.806,-221.7001\"/>\n",
       "<polygon fill=\"#000000\" stroke=\"#000000\" points=\"154.6178,-223.8132 158.8126,-214.0842 149.4663,-219.0738 154.6178,-223.8132\"/>\n",
       "</g>\n",
       "<!-- 15 -->\n",
       "<g id=\"node16\" class=\"node\">\n",
       "<title>15</title>\n",
       "<text text-anchor=\"middle\" x=\"70.3301\" y=\"-152.8\" font-family=\"Times,serif\" font-size=\"14.00\" fill=\"#000000\">&lt;integer&gt;</text>\n",
       "</g>\n",
       "<!-- 14&#45;&gt;15 -->\n",
       "<g id=\"edge15\" class=\"edge\">\n",
       "<title>14&#45;&gt;15</title>\n",
       "<path fill=\"none\" stroke=\"#000000\" d=\"M70.3301,-199.6223C70.3301,-192.9738 70.3301,-182.942 70.3301,-174.2807\"/>\n",
       "<polygon fill=\"#000000\" stroke=\"#000000\" points=\"73.8302,-174.0842 70.3301,-164.0842 66.8302,-174.0842 73.8302,-174.0842\"/>\n",
       "</g>\n",
       "<!-- 16 -->\n",
       "<g id=\"node17\" class=\"node\">\n",
       "<title>16</title>\n",
       "<text text-anchor=\"middle\" x=\"70.3301\" y=\"-102.8\" font-family=\"Times,serif\" font-size=\"14.00\" fill=\"#000000\">&lt;digit&gt;</text>\n",
       "</g>\n",
       "<!-- 15&#45;&gt;16 -->\n",
       "<g id=\"edge16\" class=\"edge\">\n",
       "<title>15&#45;&gt;16</title>\n",
       "<path fill=\"none\" stroke=\"#000000\" d=\"M70.3301,-149.6223C70.3301,-142.9738 70.3301,-132.942 70.3301,-124.2807\"/>\n",
       "<polygon fill=\"#000000\" stroke=\"#000000\" points=\"73.8302,-124.0842 70.3301,-114.0842 66.8302,-124.0842 73.8302,-124.0842\"/>\n",
       "</g>\n",
       "<!-- 17 -->\n",
       "<g id=\"node18\" class=\"node\">\n",
       "<title>17</title>\n",
       "<text text-anchor=\"middle\" x=\"70.3301\" y=\"-52.8\" font-family=\"Times,serif\" font-size=\"14.00\" fill=\"#000000\">2</text>\n",
       "</g>\n",
       "<!-- 16&#45;&gt;17 -->\n",
       "<g id=\"edge17\" class=\"edge\">\n",
       "<title>16&#45;&gt;17</title>\n",
       "<path fill=\"none\" stroke=\"#000000\" d=\"M70.3301,-99.6223C70.3301,-92.9738 70.3301,-82.942 70.3301,-74.2807\"/>\n",
       "<polygon fill=\"#000000\" stroke=\"#000000\" points=\"73.8302,-74.0842 70.3301,-64.0842 66.8302,-74.0842 73.8302,-74.0842\"/>\n",
       "</g>\n",
       "<!-- 20 -->\n",
       "<g id=\"node21\" class=\"node\">\n",
       "<title>20</title>\n",
       "<text text-anchor=\"middle\" x=\"165.3301\" y=\"-152.8\" font-family=\"Times,serif\" font-size=\"14.00\" fill=\"#000000\">&lt;factor&gt;</text>\n",
       "</g>\n",
       "<!-- 19&#45;&gt;20 -->\n",
       "<g id=\"edge20\" class=\"edge\">\n",
       "<title>19&#45;&gt;20</title>\n",
       "<path fill=\"none\" stroke=\"#000000\" d=\"M165.3301,-199.6223C165.3301,-192.9738 165.3301,-182.942 165.3301,-174.2807\"/>\n",
       "<polygon fill=\"#000000\" stroke=\"#000000\" points=\"168.8302,-174.0842 165.3301,-164.0842 161.8302,-174.0842 168.8302,-174.0842\"/>\n",
       "</g>\n",
       "<!-- 21 -->\n",
       "<g id=\"node22\" class=\"node\">\n",
       "<title>21</title>\n",
       "<text text-anchor=\"middle\" x=\"165.3301\" y=\"-102.8\" font-family=\"Times,serif\" font-size=\"14.00\" fill=\"#000000\">&lt;integer&gt;</text>\n",
       "</g>\n",
       "<!-- 20&#45;&gt;21 -->\n",
       "<g id=\"edge21\" class=\"edge\">\n",
       "<title>20&#45;&gt;21</title>\n",
       "<path fill=\"none\" stroke=\"#000000\" d=\"M165.3301,-149.6223C165.3301,-142.9738 165.3301,-132.942 165.3301,-124.2807\"/>\n",
       "<polygon fill=\"#000000\" stroke=\"#000000\" points=\"168.8302,-124.0842 165.3301,-114.0842 161.8302,-124.0842 168.8302,-124.0842\"/>\n",
       "</g>\n",
       "<!-- 22 -->\n",
       "<g id=\"node23\" class=\"node\">\n",
       "<title>22</title>\n",
       "<text text-anchor=\"middle\" x=\"165.3301\" y=\"-52.8\" font-family=\"Times,serif\" font-size=\"14.00\" fill=\"#000000\">&lt;digit&gt;</text>\n",
       "</g>\n",
       "<!-- 21&#45;&gt;22 -->\n",
       "<g id=\"edge22\" class=\"edge\">\n",
       "<title>21&#45;&gt;22</title>\n",
       "<path fill=\"none\" stroke=\"#000000\" d=\"M165.3301,-99.6223C165.3301,-92.9738 165.3301,-82.942 165.3301,-74.2807\"/>\n",
       "<polygon fill=\"#000000\" stroke=\"#000000\" points=\"168.8302,-74.0842 165.3301,-64.0842 161.8302,-74.0842 168.8302,-74.0842\"/>\n",
       "</g>\n",
       "<!-- 23 -->\n",
       "<g id=\"node24\" class=\"node\">\n",
       "<title>23</title>\n",
       "<text text-anchor=\"middle\" x=\"165.3301\" y=\"-2.8\" font-family=\"Times,serif\" font-size=\"14.00\" fill=\"#000000\">3</text>\n",
       "</g>\n",
       "<!-- 22&#45;&gt;23 -->\n",
       "<g id=\"edge23\" class=\"edge\">\n",
       "<title>22&#45;&gt;23</title>\n",
       "<path fill=\"none\" stroke=\"#000000\" d=\"M165.3301,-49.6223C165.3301,-42.9738 165.3301,-32.942 165.3301,-24.2807\"/>\n",
       "<polygon fill=\"#000000\" stroke=\"#000000\" points=\"168.8302,-24.0842 165.3301,-14.0842 161.8302,-24.0842 168.8302,-24.0842\"/>\n",
       "</g>\n",
       "</g>\n",
       "</svg>\n"
      ],
      "text/plain": [
       "<graphviz.dot.Digraph at 0x11cae05f8>"
      ]
     },
     "metadata": {},
     "output_type": "display_data"
    }
   ],
   "source": [
    "mystring = \"1 + (2 * 3)\"\n",
    "peg = PEGParser(EXPR_GRAMMAR)\n",
    "for tree in peg.parse(mystring):\n",
    "    assert tree_to_string(tree) == mystring\n",
    "    display_tree(tree)"
   ]
  },
  {
   "cell_type": "code",
   "execution_count": 67,
   "metadata": {
    "slideshow": {
     "slide_type": "subslide"
    }
   },
   "outputs": [
    {
     "data": {
      "image/svg+xml": [
       "<?xml version=\"1.0\" encoding=\"UTF-8\" standalone=\"no\"?>\n",
       "<!DOCTYPE svg PUBLIC \"-//W3C//DTD SVG 1.1//EN\"\n",
       " \"http://www.w3.org/Graphics/SVG/1.1/DTD/svg11.dtd\">\n",
       "<!-- Generated by graphviz version 2.40.1 (20161225.0304)\n",
       " -->\n",
       "<!-- Title: %3 Pages: 1 -->\n",
       "<svg width=\"304pt\" height=\"622pt\"\n",
       " viewBox=\"0.00 0.00 303.66 622.00\" xmlns=\"http://www.w3.org/2000/svg\" xmlns:xlink=\"http://www.w3.org/1999/xlink\">\n",
       "<g id=\"graph0\" class=\"graph\" transform=\"scale(1 1) rotate(0) translate(4 618)\">\n",
       "<title>%3</title>\n",
       "<polygon fill=\"#ffffff\" stroke=\"transparent\" points=\"-4,4 -4,-618 299.6602,-618 299.6602,4 -4,4\"/>\n",
       "<!-- 0 -->\n",
       "<g id=\"node1\" class=\"node\">\n",
       "<title>0</title>\n",
       "<text text-anchor=\"middle\" x=\"76.3301\" y=\"-602.8\" font-family=\"Times,serif\" font-size=\"14.00\" fill=\"#000000\">&lt;start&gt;</text>\n",
       "</g>\n",
       "<!-- 1 -->\n",
       "<g id=\"node2\" class=\"node\">\n",
       "<title>1</title>\n",
       "<text text-anchor=\"middle\" x=\"76.3301\" y=\"-552.8\" font-family=\"Times,serif\" font-size=\"14.00\" fill=\"#000000\">&lt;expr&gt;</text>\n",
       "</g>\n",
       "<!-- 0&#45;&gt;1 -->\n",
       "<g id=\"edge1\" class=\"edge\">\n",
       "<title>0&#45;&gt;1</title>\n",
       "<path fill=\"none\" stroke=\"#000000\" d=\"M76.3301,-599.6223C76.3301,-592.9738 76.3301,-582.942 76.3301,-574.2807\"/>\n",
       "<polygon fill=\"#000000\" stroke=\"#000000\" points=\"79.8302,-574.0842 76.3301,-564.0842 72.8302,-574.0842 79.8302,-574.0842\"/>\n",
       "</g>\n",
       "<!-- 2 -->\n",
       "<g id=\"node3\" class=\"node\">\n",
       "<title>2</title>\n",
       "<text text-anchor=\"middle\" x=\"76.3301\" y=\"-502.8\" font-family=\"Times,serif\" font-size=\"14.00\" fill=\"#000000\">&lt;term&gt;</text>\n",
       "</g>\n",
       "<!-- 1&#45;&gt;2 -->\n",
       "<g id=\"edge2\" class=\"edge\">\n",
       "<title>1&#45;&gt;2</title>\n",
       "<path fill=\"none\" stroke=\"#000000\" d=\"M76.3301,-549.6223C76.3301,-542.9738 76.3301,-532.942 76.3301,-524.2807\"/>\n",
       "<polygon fill=\"#000000\" stroke=\"#000000\" points=\"79.8302,-524.0842 76.3301,-514.0842 72.8302,-524.0842 79.8302,-524.0842\"/>\n",
       "</g>\n",
       "<!-- 3 -->\n",
       "<g id=\"node4\" class=\"node\">\n",
       "<title>3</title>\n",
       "<text text-anchor=\"middle\" x=\"27.3301\" y=\"-452.8\" font-family=\"Times,serif\" font-size=\"14.00\" fill=\"#000000\">&lt;factor&gt;</text>\n",
       "</g>\n",
       "<!-- 2&#45;&gt;3 -->\n",
       "<g id=\"edge3\" class=\"edge\">\n",
       "<title>2&#45;&gt;3</title>\n",
       "<path fill=\"none\" stroke=\"#000000\" d=\"M69.1,-499.6223C61.8523,-492.2267 50.5021,-480.6449 41.4616,-471.4199\"/>\n",
       "<polygon fill=\"#000000\" stroke=\"#000000\" points=\"43.7717,-468.7766 34.2726,-464.0842 38.7721,-473.6761 43.7717,-468.7766\"/>\n",
       "</g>\n",
       "<!-- 7 -->\n",
       "<g id=\"node8\" class=\"node\">\n",
       "<title>7</title>\n",
       "<text text-anchor=\"middle\" x=\"76.3301\" y=\"-452.8\" font-family=\"Times,serif\" font-size=\"14.00\" fill=\"#000000\"> * </text>\n",
       "</g>\n",
       "<!-- 2&#45;&gt;7 -->\n",
       "<g id=\"edge7\" class=\"edge\">\n",
       "<title>2&#45;&gt;7</title>\n",
       "<path fill=\"none\" stroke=\"#000000\" d=\"M76.3301,-499.6223C76.3301,-492.9738 76.3301,-482.942 76.3301,-474.2807\"/>\n",
       "<polygon fill=\"#000000\" stroke=\"#000000\" points=\"79.8302,-474.0842 76.3301,-464.0842 72.8302,-474.0842 79.8302,-474.0842\"/>\n",
       "</g>\n",
       "<!-- 8 -->\n",
       "<g id=\"node9\" class=\"node\">\n",
       "<title>8</title>\n",
       "<text text-anchor=\"middle\" x=\"122.3301\" y=\"-452.8\" font-family=\"Times,serif\" font-size=\"14.00\" fill=\"#000000\">&lt;term&gt;</text>\n",
       "</g>\n",
       "<!-- 2&#45;&gt;8 -->\n",
       "<g id=\"edge8\" class=\"edge\">\n",
       "<title>2&#45;&gt;8</title>\n",
       "<path fill=\"none\" stroke=\"#000000\" d=\"M83.1175,-499.6223C89.8528,-492.3014 100.3619,-480.8785 108.806,-471.7001\"/>\n",
       "<polygon fill=\"#000000\" stroke=\"#000000\" points=\"111.6178,-473.8132 115.8126,-464.0842 106.4663,-469.0738 111.6178,-473.8132\"/>\n",
       "</g>\n",
       "<!-- 4 -->\n",
       "<g id=\"node5\" class=\"node\">\n",
       "<title>4</title>\n",
       "<text text-anchor=\"middle\" x=\"27.3301\" y=\"-402.8\" font-family=\"Times,serif\" font-size=\"14.00\" fill=\"#000000\">&lt;integer&gt;</text>\n",
       "</g>\n",
       "<!-- 3&#45;&gt;4 -->\n",
       "<g id=\"edge4\" class=\"edge\">\n",
       "<title>3&#45;&gt;4</title>\n",
       "<path fill=\"none\" stroke=\"#000000\" d=\"M27.3301,-449.6223C27.3301,-442.9738 27.3301,-432.942 27.3301,-424.2807\"/>\n",
       "<polygon fill=\"#000000\" stroke=\"#000000\" points=\"30.8302,-424.0842 27.3301,-414.0842 23.8302,-424.0842 30.8302,-424.0842\"/>\n",
       "</g>\n",
       "<!-- 5 -->\n",
       "<g id=\"node6\" class=\"node\">\n",
       "<title>5</title>\n",
       "<text text-anchor=\"middle\" x=\"27.3301\" y=\"-352.8\" font-family=\"Times,serif\" font-size=\"14.00\" fill=\"#000000\">&lt;digit&gt;</text>\n",
       "</g>\n",
       "<!-- 4&#45;&gt;5 -->\n",
       "<g id=\"edge5\" class=\"edge\">\n",
       "<title>4&#45;&gt;5</title>\n",
       "<path fill=\"none\" stroke=\"#000000\" d=\"M27.3301,-399.6223C27.3301,-392.9738 27.3301,-382.942 27.3301,-374.2807\"/>\n",
       "<polygon fill=\"#000000\" stroke=\"#000000\" points=\"30.8302,-374.0842 27.3301,-364.0842 23.8302,-374.0842 30.8302,-374.0842\"/>\n",
       "</g>\n",
       "<!-- 6 -->\n",
       "<g id=\"node7\" class=\"node\">\n",
       "<title>6</title>\n",
       "<text text-anchor=\"middle\" x=\"27.3301\" y=\"-302.8\" font-family=\"Times,serif\" font-size=\"14.00\" fill=\"#000000\">1</text>\n",
       "</g>\n",
       "<!-- 5&#45;&gt;6 -->\n",
       "<g id=\"edge6\" class=\"edge\">\n",
       "<title>5&#45;&gt;6</title>\n",
       "<path fill=\"none\" stroke=\"#000000\" d=\"M27.3301,-349.6223C27.3301,-342.9738 27.3301,-332.942 27.3301,-324.2807\"/>\n",
       "<polygon fill=\"#000000\" stroke=\"#000000\" points=\"30.8302,-324.0842 27.3301,-314.0842 23.8302,-324.0842 30.8302,-324.0842\"/>\n",
       "</g>\n",
       "<!-- 9 -->\n",
       "<g id=\"node10\" class=\"node\">\n",
       "<title>9</title>\n",
       "<text text-anchor=\"middle\" x=\"122.3301\" y=\"-402.8\" font-family=\"Times,serif\" font-size=\"14.00\" fill=\"#000000\">&lt;factor&gt;</text>\n",
       "</g>\n",
       "<!-- 8&#45;&gt;9 -->\n",
       "<g id=\"edge9\" class=\"edge\">\n",
       "<title>8&#45;&gt;9</title>\n",
       "<path fill=\"none\" stroke=\"#000000\" d=\"M122.3301,-449.6223C122.3301,-442.9738 122.3301,-432.942 122.3301,-424.2807\"/>\n",
       "<polygon fill=\"#000000\" stroke=\"#000000\" points=\"125.8302,-424.0842 122.3301,-414.0842 118.8302,-424.0842 125.8302,-424.0842\"/>\n",
       "</g>\n",
       "<!-- 10 -->\n",
       "<g id=\"node11\" class=\"node\">\n",
       "<title>10</title>\n",
       "<text text-anchor=\"middle\" x=\"81.3301\" y=\"-352.8\" font-family=\"Times,serif\" font-size=\"14.00\" fill=\"#000000\">(</text>\n",
       "</g>\n",
       "<!-- 9&#45;&gt;10 -->\n",
       "<g id=\"edge10\" class=\"edge\">\n",
       "<title>9&#45;&gt;10</title>\n",
       "<path fill=\"none\" stroke=\"#000000\" d=\"M116.2804,-399.6223C109.3306,-391.1469 97.8725,-377.1736 89.9813,-367.5502\"/>\n",
       "<polygon fill=\"#000000\" stroke=\"#000000\" points=\"92.6254,-365.255 83.5782,-359.7416 87.2125,-369.6935 92.6254,-365.255\"/>\n",
       "</g>\n",
       "<!-- 11 -->\n",
       "<g id=\"node12\" class=\"node\">\n",
       "<title>11</title>\n",
       "<text text-anchor=\"middle\" x=\"122.3301\" y=\"-352.8\" font-family=\"Times,serif\" font-size=\"14.00\" fill=\"#000000\">&lt;expr&gt;</text>\n",
       "</g>\n",
       "<!-- 9&#45;&gt;11 -->\n",
       "<g id=\"edge11\" class=\"edge\">\n",
       "<title>9&#45;&gt;11</title>\n",
       "<path fill=\"none\" stroke=\"#000000\" d=\"M122.3301,-399.6223C122.3301,-392.9738 122.3301,-382.942 122.3301,-374.2807\"/>\n",
       "<polygon fill=\"#000000\" stroke=\"#000000\" points=\"125.8302,-374.0842 122.3301,-364.0842 118.8302,-374.0842 125.8302,-374.0842\"/>\n",
       "</g>\n",
       "<!-- 31 -->\n",
       "<g id=\"node32\" class=\"node\">\n",
       "<title>31</title>\n",
       "<text text-anchor=\"middle\" x=\"163.3301\" y=\"-352.8\" font-family=\"Times,serif\" font-size=\"14.00\" fill=\"#000000\">)</text>\n",
       "</g>\n",
       "<!-- 9&#45;&gt;31 -->\n",
       "<g id=\"edge31\" class=\"edge\">\n",
       "<title>9&#45;&gt;31</title>\n",
       "<path fill=\"none\" stroke=\"#000000\" d=\"M128.3798,-399.6223C135.3296,-391.1469 146.7877,-377.1736 154.6789,-367.5502\"/>\n",
       "<polygon fill=\"#000000\" stroke=\"#000000\" points=\"157.4476,-369.6935 161.082,-359.7416 152.0347,-365.255 157.4476,-369.6935\"/>\n",
       "</g>\n",
       "<!-- 12 -->\n",
       "<g id=\"node13\" class=\"node\">\n",
       "<title>12</title>\n",
       "<text text-anchor=\"middle\" x=\"75.3301\" y=\"-302.8\" font-family=\"Times,serif\" font-size=\"14.00\" fill=\"#000000\">&lt;term&gt;</text>\n",
       "</g>\n",
       "<!-- 11&#45;&gt;12 -->\n",
       "<g id=\"edge12\" class=\"edge\">\n",
       "<title>11&#45;&gt;12</title>\n",
       "<path fill=\"none\" stroke=\"#000000\" d=\"M115.3951,-349.6223C108.4432,-342.2267 97.5563,-330.6449 88.8848,-321.4199\"/>\n",
       "<polygon fill=\"#000000\" stroke=\"#000000\" points=\"91.3886,-318.9733 81.9892,-314.0842 86.2881,-323.7677 91.3886,-318.9733\"/>\n",
       "</g>\n",
       "<!-- 17 -->\n",
       "<g id=\"node18\" class=\"node\">\n",
       "<title>17</title>\n",
       "<text text-anchor=\"middle\" x=\"122.3301\" y=\"-302.8\" font-family=\"Times,serif\" font-size=\"14.00\" fill=\"#000000\"> + </text>\n",
       "</g>\n",
       "<!-- 11&#45;&gt;17 -->\n",
       "<g id=\"edge17\" class=\"edge\">\n",
       "<title>11&#45;&gt;17</title>\n",
       "<path fill=\"none\" stroke=\"#000000\" d=\"M122.3301,-349.6223C122.3301,-342.9738 122.3301,-332.942 122.3301,-324.2807\"/>\n",
       "<polygon fill=\"#000000\" stroke=\"#000000\" points=\"125.8302,-324.0842 122.3301,-314.0842 118.8302,-324.0842 125.8302,-324.0842\"/>\n",
       "</g>\n",
       "<!-- 18 -->\n",
       "<g id=\"node19\" class=\"node\">\n",
       "<title>18</title>\n",
       "<text text-anchor=\"middle\" x=\"169.3301\" y=\"-302.8\" font-family=\"Times,serif\" font-size=\"14.00\" fill=\"#000000\">&lt;expr&gt;</text>\n",
       "</g>\n",
       "<!-- 11&#45;&gt;18 -->\n",
       "<g id=\"edge18\" class=\"edge\">\n",
       "<title>11&#45;&gt;18</title>\n",
       "<path fill=\"none\" stroke=\"#000000\" d=\"M129.2651,-349.6223C136.217,-342.2267 147.1039,-330.6449 155.7754,-321.4199\"/>\n",
       "<polygon fill=\"#000000\" stroke=\"#000000\" points=\"158.372,-323.7677 162.6709,-314.0842 153.2716,-318.9733 158.372,-323.7677\"/>\n",
       "</g>\n",
       "<!-- 13 -->\n",
       "<g id=\"node14\" class=\"node\">\n",
       "<title>13</title>\n",
       "<text text-anchor=\"middle\" x=\"75.3301\" y=\"-252.8\" font-family=\"Times,serif\" font-size=\"14.00\" fill=\"#000000\">&lt;factor&gt;</text>\n",
       "</g>\n",
       "<!-- 12&#45;&gt;13 -->\n",
       "<g id=\"edge13\" class=\"edge\">\n",
       "<title>12&#45;&gt;13</title>\n",
       "<path fill=\"none\" stroke=\"#000000\" d=\"M75.3301,-299.6223C75.3301,-292.9738 75.3301,-282.942 75.3301,-274.2807\"/>\n",
       "<polygon fill=\"#000000\" stroke=\"#000000\" points=\"78.8302,-274.0842 75.3301,-264.0842 71.8302,-274.0842 78.8302,-274.0842\"/>\n",
       "</g>\n",
       "<!-- 14 -->\n",
       "<g id=\"node15\" class=\"node\">\n",
       "<title>14</title>\n",
       "<text text-anchor=\"middle\" x=\"70.3301\" y=\"-202.8\" font-family=\"Times,serif\" font-size=\"14.00\" fill=\"#000000\">&lt;integer&gt;</text>\n",
       "</g>\n",
       "<!-- 13&#45;&gt;14 -->\n",
       "<g id=\"edge14\" class=\"edge\">\n",
       "<title>13&#45;&gt;14</title>\n",
       "<path fill=\"none\" stroke=\"#000000\" d=\"M74.5923,-249.6223C73.9275,-242.9738 72.9243,-232.942 72.0582,-224.2807\"/>\n",
       "<polygon fill=\"#000000\" stroke=\"#000000\" points=\"75.5163,-223.6863 71.0385,-214.0842 68.551,-224.3829 75.5163,-223.6863\"/>\n",
       "</g>\n",
       "<!-- 15 -->\n",
       "<g id=\"node16\" class=\"node\">\n",
       "<title>15</title>\n",
       "<text text-anchor=\"middle\" x=\"60.3301\" y=\"-152.8\" font-family=\"Times,serif\" font-size=\"14.00\" fill=\"#000000\">&lt;digit&gt;</text>\n",
       "</g>\n",
       "<!-- 14&#45;&gt;15 -->\n",
       "<g id=\"edge15\" class=\"edge\">\n",
       "<title>14&#45;&gt;15</title>\n",
       "<path fill=\"none\" stroke=\"#000000\" d=\"M68.8545,-199.6223C67.5099,-192.8991 65.4733,-182.7161 63.7279,-173.9893\"/>\n",
       "<polygon fill=\"#000000\" stroke=\"#000000\" points=\"67.1402,-173.2036 61.7469,-164.0842 60.2761,-174.5764 67.1402,-173.2036\"/>\n",
       "</g>\n",
       "<!-- 16 -->\n",
       "<g id=\"node17\" class=\"node\">\n",
       "<title>16</title>\n",
       "<text text-anchor=\"middle\" x=\"60.3301\" y=\"-102.8\" font-family=\"Times,serif\" font-size=\"14.00\" fill=\"#000000\">2</text>\n",
       "</g>\n",
       "<!-- 15&#45;&gt;16 -->\n",
       "<g id=\"edge16\" class=\"edge\">\n",
       "<title>15&#45;&gt;16</title>\n",
       "<path fill=\"none\" stroke=\"#000000\" d=\"M60.3301,-149.6223C60.3301,-142.9738 60.3301,-132.942 60.3301,-124.2807\"/>\n",
       "<polygon fill=\"#000000\" stroke=\"#000000\" points=\"63.8302,-124.0842 60.3301,-114.0842 56.8302,-124.0842 63.8302,-124.0842\"/>\n",
       "</g>\n",
       "<!-- 19 -->\n",
       "<g id=\"node20\" class=\"node\">\n",
       "<title>19</title>\n",
       "<text text-anchor=\"middle\" x=\"169.3301\" y=\"-252.8\" font-family=\"Times,serif\" font-size=\"14.00\" fill=\"#000000\">&lt;term&gt;</text>\n",
       "</g>\n",
       "<!-- 18&#45;&gt;19 -->\n",
       "<g id=\"edge19\" class=\"edge\">\n",
       "<title>18&#45;&gt;19</title>\n",
       "<path fill=\"none\" stroke=\"#000000\" d=\"M169.3301,-299.6223C169.3301,-292.9738 169.3301,-282.942 169.3301,-274.2807\"/>\n",
       "<polygon fill=\"#000000\" stroke=\"#000000\" points=\"172.8302,-274.0842 169.3301,-264.0842 165.8302,-274.0842 172.8302,-274.0842\"/>\n",
       "</g>\n",
       "<!-- 20 -->\n",
       "<g id=\"node21\" class=\"node\">\n",
       "<title>20</title>\n",
       "<text text-anchor=\"middle\" x=\"172.3301\" y=\"-202.8\" font-family=\"Times,serif\" font-size=\"14.00\" fill=\"#000000\">&lt;factor&gt;</text>\n",
       "</g>\n",
       "<!-- 19&#45;&gt;20 -->\n",
       "<g id=\"edge20\" class=\"edge\">\n",
       "<title>19&#45;&gt;20</title>\n",
       "<path fill=\"none\" stroke=\"#000000\" d=\"M169.7727,-249.6223C170.1717,-242.9738 170.7736,-232.942 171.2932,-224.2807\"/>\n",
       "<polygon fill=\"#000000\" stroke=\"#000000\" points=\"174.7997,-224.2759 171.905,-214.0842 167.8123,-223.8566 174.7997,-224.2759\"/>\n",
       "</g>\n",
       "<!-- 21 -->\n",
       "<g id=\"node22\" class=\"node\">\n",
       "<title>21</title>\n",
       "<text text-anchor=\"middle\" x=\"126.3301\" y=\"-152.8\" font-family=\"Times,serif\" font-size=\"14.00\" fill=\"#000000\">&lt;integer&gt;</text>\n",
       "</g>\n",
       "<!-- 20&#45;&gt;21 -->\n",
       "<g id=\"edge21\" class=\"edge\">\n",
       "<title>20&#45;&gt;21</title>\n",
       "<path fill=\"none\" stroke=\"#000000\" d=\"M165.5426,-199.6223C158.8074,-192.3014 148.2983,-180.8785 139.8542,-171.7001\"/>\n",
       "<polygon fill=\"#000000\" stroke=\"#000000\" points=\"142.1939,-169.0738 132.8475,-164.0842 137.0424,-173.8132 142.1939,-169.0738\"/>\n",
       "</g>\n",
       "<!-- 24 -->\n",
       "<g id=\"node25\" class=\"node\">\n",
       "<title>24</title>\n",
       "<text text-anchor=\"middle\" x=\"173.3301\" y=\"-152.8\" font-family=\"Times,serif\" font-size=\"14.00\" fill=\"#000000\">.</text>\n",
       "</g>\n",
       "<!-- 20&#45;&gt;24 -->\n",
       "<g id=\"edge24\" class=\"edge\">\n",
       "<title>20&#45;&gt;24</title>\n",
       "<path fill=\"none\" stroke=\"#000000\" d=\"M172.4776,-199.6223C172.6106,-192.9738 172.8112,-182.942 172.9845,-174.2807\"/>\n",
       "<polygon fill=\"#000000\" stroke=\"#000000\" points=\"176.4876,-174.1522 173.1884,-164.0842 169.489,-174.0122 176.4876,-174.1522\"/>\n",
       "</g>\n",
       "<!-- 25 -->\n",
       "<g id=\"node26\" class=\"node\">\n",
       "<title>25</title>\n",
       "<text text-anchor=\"middle\" x=\"220.3301\" y=\"-152.8\" font-family=\"Times,serif\" font-size=\"14.00\" fill=\"#000000\">&lt;integer&gt;</text>\n",
       "</g>\n",
       "<!-- 20&#45;&gt;25 -->\n",
       "<g id=\"edge25\" class=\"edge\">\n",
       "<title>20&#45;&gt;25</title>\n",
       "<path fill=\"none\" stroke=\"#000000\" d=\"M179.4126,-199.6223C186.5124,-192.2267 197.631,-180.6449 206.487,-171.4199\"/>\n",
       "<polygon fill=\"#000000\" stroke=\"#000000\" points=\"209.1288,-173.722 213.5293,-164.0842 204.079,-168.8742 209.1288,-173.722\"/>\n",
       "</g>\n",
       "<!-- 22 -->\n",
       "<g id=\"node23\" class=\"node\">\n",
       "<title>22</title>\n",
       "<text text-anchor=\"middle\" x=\"126.3301\" y=\"-102.8\" font-family=\"Times,serif\" font-size=\"14.00\" fill=\"#000000\">&lt;digit&gt;</text>\n",
       "</g>\n",
       "<!-- 21&#45;&gt;22 -->\n",
       "<g id=\"edge22\" class=\"edge\">\n",
       "<title>21&#45;&gt;22</title>\n",
       "<path fill=\"none\" stroke=\"#000000\" d=\"M126.3301,-149.6223C126.3301,-142.9738 126.3301,-132.942 126.3301,-124.2807\"/>\n",
       "<polygon fill=\"#000000\" stroke=\"#000000\" points=\"129.8302,-124.0842 126.3301,-114.0842 122.8302,-124.0842 129.8302,-124.0842\"/>\n",
       "</g>\n",
       "<!-- 23 -->\n",
       "<g id=\"node24\" class=\"node\">\n",
       "<title>23</title>\n",
       "<text text-anchor=\"middle\" x=\"126.3301\" y=\"-52.8\" font-family=\"Times,serif\" font-size=\"14.00\" fill=\"#000000\">3</text>\n",
       "</g>\n",
       "<!-- 22&#45;&gt;23 -->\n",
       "<g id=\"edge23\" class=\"edge\">\n",
       "<title>22&#45;&gt;23</title>\n",
       "<path fill=\"none\" stroke=\"#000000\" d=\"M126.3301,-99.6223C126.3301,-92.9738 126.3301,-82.942 126.3301,-74.2807\"/>\n",
       "<polygon fill=\"#000000\" stroke=\"#000000\" points=\"129.8302,-74.0842 126.3301,-64.0842 122.8302,-74.0842 129.8302,-74.0842\"/>\n",
       "</g>\n",
       "<!-- 26 -->\n",
       "<g id=\"node27\" class=\"node\">\n",
       "<title>26</title>\n",
       "<text text-anchor=\"middle\" x=\"202.3301\" y=\"-102.8\" font-family=\"Times,serif\" font-size=\"14.00\" fill=\"#000000\">&lt;digit&gt;</text>\n",
       "</g>\n",
       "<!-- 25&#45;&gt;26 -->\n",
       "<g id=\"edge26\" class=\"edge\">\n",
       "<title>25&#45;&gt;26</title>\n",
       "<path fill=\"none\" stroke=\"#000000\" d=\"M217.6741,-149.6223C215.2268,-142.8244 211.5063,-132.4894 208.3417,-123.699\"/>\n",
       "<polygon fill=\"#000000\" stroke=\"#000000\" points=\"211.5608,-122.3075 204.8804,-114.0842 204.9745,-124.6786 211.5608,-122.3075\"/>\n",
       "</g>\n",
       "<!-- 28 -->\n",
       "<g id=\"node29\" class=\"node\">\n",
       "<title>28</title>\n",
       "<text text-anchor=\"middle\" x=\"268.3301\" y=\"-102.8\" font-family=\"Times,serif\" font-size=\"14.00\" fill=\"#000000\">&lt;integer&gt;</text>\n",
       "</g>\n",
       "<!-- 25&#45;&gt;28 -->\n",
       "<g id=\"edge28\" class=\"edge\">\n",
       "<title>25&#45;&gt;28</title>\n",
       "<path fill=\"none\" stroke=\"#000000\" d=\"M227.4126,-149.6223C234.5124,-142.2267 245.631,-130.6449 254.487,-121.4199\"/>\n",
       "<polygon fill=\"#000000\" stroke=\"#000000\" points=\"257.1288,-123.722 261.5293,-114.0842 252.079,-118.8742 257.1288,-123.722\"/>\n",
       "</g>\n",
       "<!-- 27 -->\n",
       "<g id=\"node28\" class=\"node\">\n",
       "<title>27</title>\n",
       "<text text-anchor=\"middle\" x=\"202.3301\" y=\"-52.8\" font-family=\"Times,serif\" font-size=\"14.00\" fill=\"#000000\">3</text>\n",
       "</g>\n",
       "<!-- 26&#45;&gt;27 -->\n",
       "<g id=\"edge27\" class=\"edge\">\n",
       "<title>26&#45;&gt;27</title>\n",
       "<path fill=\"none\" stroke=\"#000000\" d=\"M202.3301,-99.6223C202.3301,-92.9738 202.3301,-82.942 202.3301,-74.2807\"/>\n",
       "<polygon fill=\"#000000\" stroke=\"#000000\" points=\"205.8302,-74.0842 202.3301,-64.0842 198.8302,-74.0842 205.8302,-74.0842\"/>\n",
       "</g>\n",
       "<!-- 29 -->\n",
       "<g id=\"node30\" class=\"node\">\n",
       "<title>29</title>\n",
       "<text text-anchor=\"middle\" x=\"268.3301\" y=\"-52.8\" font-family=\"Times,serif\" font-size=\"14.00\" fill=\"#000000\">&lt;digit&gt;</text>\n",
       "</g>\n",
       "<!-- 28&#45;&gt;29 -->\n",
       "<g id=\"edge29\" class=\"edge\">\n",
       "<title>28&#45;&gt;29</title>\n",
       "<path fill=\"none\" stroke=\"#000000\" d=\"M268.3301,-99.6223C268.3301,-92.9738 268.3301,-82.942 268.3301,-74.2807\"/>\n",
       "<polygon fill=\"#000000\" stroke=\"#000000\" points=\"271.8302,-74.0842 268.3301,-64.0842 264.8302,-74.0842 271.8302,-74.0842\"/>\n",
       "</g>\n",
       "<!-- 30 -->\n",
       "<g id=\"node31\" class=\"node\">\n",
       "<title>30</title>\n",
       "<text text-anchor=\"middle\" x=\"268.3301\" y=\"-2.8\" font-family=\"Times,serif\" font-size=\"14.00\" fill=\"#000000\">5</text>\n",
       "</g>\n",
       "<!-- 29&#45;&gt;30 -->\n",
       "<g id=\"edge30\" class=\"edge\">\n",
       "<title>29&#45;&gt;30</title>\n",
       "<path fill=\"none\" stroke=\"#000000\" d=\"M268.3301,-49.6223C268.3301,-42.9738 268.3301,-32.942 268.3301,-24.2807\"/>\n",
       "<polygon fill=\"#000000\" stroke=\"#000000\" points=\"271.8302,-24.0842 268.3301,-14.0842 264.8302,-24.0842 271.8302,-24.0842\"/>\n",
       "</g>\n",
       "</g>\n",
       "</svg>\n"
      ],
      "text/plain": [
       "<graphviz.dot.Digraph at 0x11cae0550>"
      ]
     },
     "metadata": {},
     "output_type": "display_data"
    }
   ],
   "source": [
    "mystring = \"1 * (2 + 3.35)\"\n",
    "for tree in peg.parse(mystring):\n",
    "    assert tree_to_string(tree) == mystring\n",
    "    display_tree(tree)"
   ]
  },
  {
   "cell_type": "markdown",
   "metadata": {
    "slideshow": {
     "slide_type": "notes"
    }
   },
   "source": [
    "One should be aware that while the grammar looks like a *CFG*, the language described by a *PEG* may be different. Indeed, only *LL(1)* grammars are guaranteed to represent the same language for both PEGs and other parsers. Behavior of PEGs for other classes of grammars could be surprising \\cite{redziejowski2008}. "
   ]
  },
  {
   "cell_type": "markdown",
   "metadata": {
    "slideshow": {
     "slide_type": "slide"
    },
    "toc-hr-collapsed": true
   },
   "source": [
    "## Parsing Context-Free Grammars"
   ]
  },
  {
   "cell_type": "markdown",
   "metadata": {
    "slideshow": {
     "slide_type": "slide"
    }
   },
   "source": [
    "###  Problems with PEG\n",
    "While _PEGs_ are simple at first sight, their behavior in some cases might be a bit unintuitive. For example, here is an example \\cite{redziejowski}:"
   ]
  },
  {
   "cell_type": "code",
   "execution_count": 68,
   "metadata": {
    "slideshow": {
     "slide_type": "subslide"
    }
   },
   "outputs": [],
   "source": [
    "PEG_SURPRISE = {\n",
    "    \"<A>\": [\"a<A>a\", \"aa\"]\n",
    "}"
   ]
  },
  {
   "cell_type": "markdown",
   "metadata": {
    "slideshow": {
     "slide_type": "notes"
    }
   },
   "source": [
    "When interpreted as a *CFG* and used as a string generator, it will produce strings of the form `aa, aaaa, aaaaaa` that is, it produces strings where the number of `a` is $ 2*n $ where $ n > 0 $."
   ]
  },
  {
   "cell_type": "code",
   "execution_count": 69,
   "metadata": {
    "slideshow": {
     "slide_type": "subslide"
    }
   },
   "outputs": [
    {
     "data": {
      "image/svg+xml": [
       "<?xml version=\"1.0\" encoding=\"UTF-8\" standalone=\"no\"?>\n",
       "<!DOCTYPE svg PUBLIC \"-//W3C//DTD SVG 1.1//EN\"\n",
       " \"http://www.w3.org/Graphics/SVG/1.1/DTD/svg11.dtd\">\n",
       "<!-- Generated by graphviz version 2.40.1 (20161225.0304)\n",
       " -->\n",
       "<!-- Title: %3 Pages: 1 -->\n",
       "<svg width=\"34pt\" height=\"72pt\"\n",
       " viewBox=\"0.00 0.00 33.90 72.00\" xmlns=\"http://www.w3.org/2000/svg\" xmlns:xlink=\"http://www.w3.org/1999/xlink\">\n",
       "<g id=\"graph0\" class=\"graph\" transform=\"scale(1 1) rotate(0) translate(4 68)\">\n",
       "<title>%3</title>\n",
       "<polygon fill=\"#ffffff\" stroke=\"transparent\" points=\"-4,4 -4,-68 29.9014,-68 29.9014,4 -4,4\"/>\n",
       "<!-- 0 -->\n",
       "<g id=\"node1\" class=\"node\">\n",
       "<title>0</title>\n",
       "<text text-anchor=\"middle\" x=\"12.9507\" y=\"-52.8\" font-family=\"Times,serif\" font-size=\"14.00\" fill=\"#000000\">&lt;A&gt;</text>\n",
       "</g>\n",
       "<!-- 1 -->\n",
       "<g id=\"node2\" class=\"node\">\n",
       "<title>1</title>\n",
       "<text text-anchor=\"middle\" x=\"12.9507\" y=\"-2.8\" font-family=\"Times,serif\" font-size=\"14.00\" fill=\"#000000\">aa</text>\n",
       "</g>\n",
       "<!-- 0&#45;&gt;1 -->\n",
       "<g id=\"edge1\" class=\"edge\">\n",
       "<title>0&#45;&gt;1</title>\n",
       "<path fill=\"none\" stroke=\"#000000\" d=\"M12.9507,-49.6223C12.9507,-42.9738 12.9507,-32.942 12.9507,-24.2807\"/>\n",
       "<polygon fill=\"#000000\" stroke=\"#000000\" points=\"16.4508,-24.0842 12.9507,-14.0842 9.4508,-24.0842 16.4508,-24.0842\"/>\n",
       "</g>\n",
       "</g>\n",
       "</svg>\n"
      ],
      "text/plain": [
       "<graphviz.dot.Digraph at 0x11caeab00>"
      ]
     },
     "metadata": {},
     "output_type": "display_data"
    },
    {
     "data": {
      "image/svg+xml": [
       "<?xml version=\"1.0\" encoding=\"UTF-8\" standalone=\"no\"?>\n",
       "<!DOCTYPE svg PUBLIC \"-//W3C//DTD SVG 1.1//EN\"\n",
       " \"http://www.w3.org/Graphics/SVG/1.1/DTD/svg11.dtd\">\n",
       "<!-- Generated by graphviz version 2.40.1 (20161225.0304)\n",
       " -->\n",
       "<!-- Title: %3 Pages: 1 -->\n",
       "<svg width=\"82pt\" height=\"122pt\"\n",
       " viewBox=\"0.00 0.00 82.21 122.00\" xmlns=\"http://www.w3.org/2000/svg\" xmlns:xlink=\"http://www.w3.org/1999/xlink\">\n",
       "<g id=\"graph0\" class=\"graph\" transform=\"scale(1 1) rotate(0) translate(4 118)\">\n",
       "<title>%3</title>\n",
       "<polygon fill=\"#ffffff\" stroke=\"transparent\" points=\"-4,4 -4,-118 78.2139,-118 78.2139,4 -4,4\"/>\n",
       "<!-- 0 -->\n",
       "<g id=\"node1\" class=\"node\">\n",
       "<title>0</title>\n",
       "<text text-anchor=\"middle\" x=\"37.1069\" y=\"-102.8\" font-family=\"Times,serif\" font-size=\"14.00\" fill=\"#000000\">&lt;A&gt;</text>\n",
       "</g>\n",
       "<!-- 1 -->\n",
       "<g id=\"node2\" class=\"node\">\n",
       "<title>1</title>\n",
       "<text text-anchor=\"middle\" x=\"3.1069\" y=\"-52.8\" font-family=\"Times,serif\" font-size=\"14.00\" fill=\"#000000\">a</text>\n",
       "</g>\n",
       "<!-- 0&#45;&gt;1 -->\n",
       "<g id=\"edge1\" class=\"edge\">\n",
       "<title>0&#45;&gt;1</title>\n",
       "<path fill=\"none\" stroke=\"#000000\" d=\"M32.0901,-99.6223C26.8256,-91.8804 18.4416,-79.5509 12.0421,-70.14\"/>\n",
       "<polygon fill=\"#000000\" stroke=\"#000000\" points=\"14.823,-68.0051 6.3056,-61.7039 9.0345,-71.9413 14.823,-68.0051\"/>\n",
       "</g>\n",
       "<!-- 2 -->\n",
       "<g id=\"node3\" class=\"node\">\n",
       "<title>2</title>\n",
       "<text text-anchor=\"middle\" x=\"37.1069\" y=\"-52.8\" font-family=\"Times,serif\" font-size=\"14.00\" fill=\"#000000\">&lt;A&gt;</text>\n",
       "</g>\n",
       "<!-- 0&#45;&gt;2 -->\n",
       "<g id=\"edge2\" class=\"edge\">\n",
       "<title>0&#45;&gt;2</title>\n",
       "<path fill=\"none\" stroke=\"#000000\" d=\"M37.1069,-99.6223C37.1069,-92.9738 37.1069,-82.942 37.1069,-74.2807\"/>\n",
       "<polygon fill=\"#000000\" stroke=\"#000000\" points=\"40.607,-74.0842 37.1069,-64.0842 33.607,-74.0842 40.607,-74.0842\"/>\n",
       "</g>\n",
       "<!-- 4 -->\n",
       "<g id=\"node5\" class=\"node\">\n",
       "<title>4</title>\n",
       "<text text-anchor=\"middle\" x=\"71.1069\" y=\"-52.8\" font-family=\"Times,serif\" font-size=\"14.00\" fill=\"#000000\">a</text>\n",
       "</g>\n",
       "<!-- 0&#45;&gt;4 -->\n",
       "<g id=\"edge4\" class=\"edge\">\n",
       "<title>0&#45;&gt;4</title>\n",
       "<path fill=\"none\" stroke=\"#000000\" d=\"M42.1238,-99.6223C47.3883,-91.8804 55.7723,-79.5509 62.1718,-70.14\"/>\n",
       "<polygon fill=\"#000000\" stroke=\"#000000\" points=\"65.1794,-71.9413 67.9083,-61.7039 59.3909,-68.0051 65.1794,-71.9413\"/>\n",
       "</g>\n",
       "<!-- 3 -->\n",
       "<g id=\"node4\" class=\"node\">\n",
       "<title>3</title>\n",
       "<text text-anchor=\"middle\" x=\"37.1069\" y=\"-2.8\" font-family=\"Times,serif\" font-size=\"14.00\" fill=\"#000000\">aa</text>\n",
       "</g>\n",
       "<!-- 2&#45;&gt;3 -->\n",
       "<g id=\"edge3\" class=\"edge\">\n",
       "<title>2&#45;&gt;3</title>\n",
       "<path fill=\"none\" stroke=\"#000000\" d=\"M37.1069,-49.6223C37.1069,-42.9738 37.1069,-32.942 37.1069,-24.2807\"/>\n",
       "<polygon fill=\"#000000\" stroke=\"#000000\" points=\"40.607,-24.0842 37.1069,-14.0842 33.607,-24.0842 40.607,-24.0842\"/>\n",
       "</g>\n",
       "</g>\n",
       "</svg>\n"
      ],
      "text/plain": [
       "<graphviz.dot.Digraph at 0x11caeafd0>"
      ]
     },
     "metadata": {},
     "output_type": "display_data"
    },
    {
     "data": {
      "image/svg+xml": [
       "<?xml version=\"1.0\" encoding=\"UTF-8\" standalone=\"no\"?>\n",
       "<!DOCTYPE svg PUBLIC \"-//W3C//DTD SVG 1.1//EN\"\n",
       " \"http://www.w3.org/Graphics/SVG/1.1/DTD/svg11.dtd\">\n",
       "<!-- Generated by graphviz version 2.40.1 (20161225.0304)\n",
       " -->\n",
       "<!-- Title: %3 Pages: 1 -->\n",
       "<svg width=\"82pt\" height=\"172pt\"\n",
       " viewBox=\"0.00 0.00 82.21 172.00\" xmlns=\"http://www.w3.org/2000/svg\" xmlns:xlink=\"http://www.w3.org/1999/xlink\">\n",
       "<g id=\"graph0\" class=\"graph\" transform=\"scale(1 1) rotate(0) translate(4 168)\">\n",
       "<title>%3</title>\n",
       "<polygon fill=\"#ffffff\" stroke=\"transparent\" points=\"-4,4 -4,-168 78.2139,-168 78.2139,4 -4,4\"/>\n",
       "<!-- 0 -->\n",
       "<g id=\"node1\" class=\"node\">\n",
       "<title>0</title>\n",
       "<text text-anchor=\"middle\" x=\"37.1069\" y=\"-152.8\" font-family=\"Times,serif\" font-size=\"14.00\" fill=\"#000000\">&lt;A&gt;</text>\n",
       "</g>\n",
       "<!-- 1 -->\n",
       "<g id=\"node2\" class=\"node\">\n",
       "<title>1</title>\n",
       "<text text-anchor=\"middle\" x=\"3.1069\" y=\"-102.8\" font-family=\"Times,serif\" font-size=\"14.00\" fill=\"#000000\">a</text>\n",
       "</g>\n",
       "<!-- 0&#45;&gt;1 -->\n",
       "<g id=\"edge1\" class=\"edge\">\n",
       "<title>0&#45;&gt;1</title>\n",
       "<path fill=\"none\" stroke=\"#000000\" d=\"M32.0901,-149.6223C26.8256,-141.8804 18.4416,-129.5509 12.0421,-120.14\"/>\n",
       "<polygon fill=\"#000000\" stroke=\"#000000\" points=\"14.823,-118.0051 6.3056,-111.7039 9.0345,-121.9413 14.823,-118.0051\"/>\n",
       "</g>\n",
       "<!-- 2 -->\n",
       "<g id=\"node3\" class=\"node\">\n",
       "<title>2</title>\n",
       "<text text-anchor=\"middle\" x=\"37.1069\" y=\"-102.8\" font-family=\"Times,serif\" font-size=\"14.00\" fill=\"#000000\">&lt;A&gt;</text>\n",
       "</g>\n",
       "<!-- 0&#45;&gt;2 -->\n",
       "<g id=\"edge2\" class=\"edge\">\n",
       "<title>0&#45;&gt;2</title>\n",
       "<path fill=\"none\" stroke=\"#000000\" d=\"M37.1069,-149.6223C37.1069,-142.9738 37.1069,-132.942 37.1069,-124.2807\"/>\n",
       "<polygon fill=\"#000000\" stroke=\"#000000\" points=\"40.607,-124.0842 37.1069,-114.0842 33.607,-124.0842 40.607,-124.0842\"/>\n",
       "</g>\n",
       "<!-- 7 -->\n",
       "<g id=\"node8\" class=\"node\">\n",
       "<title>7</title>\n",
       "<text text-anchor=\"middle\" x=\"71.1069\" y=\"-102.8\" font-family=\"Times,serif\" font-size=\"14.00\" fill=\"#000000\">a</text>\n",
       "</g>\n",
       "<!-- 0&#45;&gt;7 -->\n",
       "<g id=\"edge7\" class=\"edge\">\n",
       "<title>0&#45;&gt;7</title>\n",
       "<path fill=\"none\" stroke=\"#000000\" d=\"M42.1238,-149.6223C47.3883,-141.8804 55.7723,-129.5509 62.1718,-120.14\"/>\n",
       "<polygon fill=\"#000000\" stroke=\"#000000\" points=\"65.1794,-121.9413 67.9083,-111.7039 59.3909,-118.0051 65.1794,-121.9413\"/>\n",
       "</g>\n",
       "<!-- 3 -->\n",
       "<g id=\"node4\" class=\"node\">\n",
       "<title>3</title>\n",
       "<text text-anchor=\"middle\" x=\"3.1069\" y=\"-52.8\" font-family=\"Times,serif\" font-size=\"14.00\" fill=\"#000000\">a</text>\n",
       "</g>\n",
       "<!-- 2&#45;&gt;3 -->\n",
       "<g id=\"edge3\" class=\"edge\">\n",
       "<title>2&#45;&gt;3</title>\n",
       "<path fill=\"none\" stroke=\"#000000\" d=\"M32.0901,-99.6223C26.8256,-91.8804 18.4416,-79.5509 12.0421,-70.14\"/>\n",
       "<polygon fill=\"#000000\" stroke=\"#000000\" points=\"14.823,-68.0051 6.3056,-61.7039 9.0345,-71.9413 14.823,-68.0051\"/>\n",
       "</g>\n",
       "<!-- 4 -->\n",
       "<g id=\"node5\" class=\"node\">\n",
       "<title>4</title>\n",
       "<text text-anchor=\"middle\" x=\"37.1069\" y=\"-52.8\" font-family=\"Times,serif\" font-size=\"14.00\" fill=\"#000000\">&lt;A&gt;</text>\n",
       "</g>\n",
       "<!-- 2&#45;&gt;4 -->\n",
       "<g id=\"edge4\" class=\"edge\">\n",
       "<title>2&#45;&gt;4</title>\n",
       "<path fill=\"none\" stroke=\"#000000\" d=\"M37.1069,-99.6223C37.1069,-92.9738 37.1069,-82.942 37.1069,-74.2807\"/>\n",
       "<polygon fill=\"#000000\" stroke=\"#000000\" points=\"40.607,-74.0842 37.1069,-64.0842 33.607,-74.0842 40.607,-74.0842\"/>\n",
       "</g>\n",
       "<!-- 6 -->\n",
       "<g id=\"node7\" class=\"node\">\n",
       "<title>6</title>\n",
       "<text text-anchor=\"middle\" x=\"71.1069\" y=\"-52.8\" font-family=\"Times,serif\" font-size=\"14.00\" fill=\"#000000\">a</text>\n",
       "</g>\n",
       "<!-- 2&#45;&gt;6 -->\n",
       "<g id=\"edge6\" class=\"edge\">\n",
       "<title>2&#45;&gt;6</title>\n",
       "<path fill=\"none\" stroke=\"#000000\" d=\"M42.1238,-99.6223C47.3883,-91.8804 55.7723,-79.5509 62.1718,-70.14\"/>\n",
       "<polygon fill=\"#000000\" stroke=\"#000000\" points=\"65.1794,-71.9413 67.9083,-61.7039 59.3909,-68.0051 65.1794,-71.9413\"/>\n",
       "</g>\n",
       "<!-- 5 -->\n",
       "<g id=\"node6\" class=\"node\">\n",
       "<title>5</title>\n",
       "<text text-anchor=\"middle\" x=\"37.1069\" y=\"-2.8\" font-family=\"Times,serif\" font-size=\"14.00\" fill=\"#000000\">aa</text>\n",
       "</g>\n",
       "<!-- 4&#45;&gt;5 -->\n",
       "<g id=\"edge5\" class=\"edge\">\n",
       "<title>4&#45;&gt;5</title>\n",
       "<path fill=\"none\" stroke=\"#000000\" d=\"M37.1069,-49.6223C37.1069,-42.9738 37.1069,-32.942 37.1069,-24.2807\"/>\n",
       "<polygon fill=\"#000000\" stroke=\"#000000\" points=\"40.607,-24.0842 37.1069,-14.0842 33.607,-24.0842 40.607,-24.0842\"/>\n",
       "</g>\n",
       "</g>\n",
       "</svg>\n"
      ],
      "text/plain": [
       "<graphviz.dot.Digraph at 0x11caeaa58>"
      ]
     },
     "metadata": {},
     "output_type": "display_data"
    },
    {
     "data": {
      "image/svg+xml": [
       "<?xml version=\"1.0\" encoding=\"UTF-8\" standalone=\"no\"?>\n",
       "<!DOCTYPE svg PUBLIC \"-//W3C//DTD SVG 1.1//EN\"\n",
       " \"http://www.w3.org/Graphics/SVG/1.1/DTD/svg11.dtd\">\n",
       "<!-- Generated by graphviz version 2.40.1 (20161225.0304)\n",
       " -->\n",
       "<!-- Title: %3 Pages: 1 -->\n",
       "<svg width=\"82pt\" height=\"222pt\"\n",
       " viewBox=\"0.00 0.00 82.21 222.00\" xmlns=\"http://www.w3.org/2000/svg\" xmlns:xlink=\"http://www.w3.org/1999/xlink\">\n",
       "<g id=\"graph0\" class=\"graph\" transform=\"scale(1 1) rotate(0) translate(4 218)\">\n",
       "<title>%3</title>\n",
       "<polygon fill=\"#ffffff\" stroke=\"transparent\" points=\"-4,4 -4,-218 78.2139,-218 78.2139,4 -4,4\"/>\n",
       "<!-- 0 -->\n",
       "<g id=\"node1\" class=\"node\">\n",
       "<title>0</title>\n",
       "<text text-anchor=\"middle\" x=\"37.1069\" y=\"-202.8\" font-family=\"Times,serif\" font-size=\"14.00\" fill=\"#000000\">&lt;A&gt;</text>\n",
       "</g>\n",
       "<!-- 1 -->\n",
       "<g id=\"node2\" class=\"node\">\n",
       "<title>1</title>\n",
       "<text text-anchor=\"middle\" x=\"3.1069\" y=\"-152.8\" font-family=\"Times,serif\" font-size=\"14.00\" fill=\"#000000\">a</text>\n",
       "</g>\n",
       "<!-- 0&#45;&gt;1 -->\n",
       "<g id=\"edge1\" class=\"edge\">\n",
       "<title>0&#45;&gt;1</title>\n",
       "<path fill=\"none\" stroke=\"#000000\" d=\"M32.0901,-199.6223C26.8256,-191.8804 18.4416,-179.5509 12.0421,-170.14\"/>\n",
       "<polygon fill=\"#000000\" stroke=\"#000000\" points=\"14.823,-168.0051 6.3056,-161.7039 9.0345,-171.9413 14.823,-168.0051\"/>\n",
       "</g>\n",
       "<!-- 2 -->\n",
       "<g id=\"node3\" class=\"node\">\n",
       "<title>2</title>\n",
       "<text text-anchor=\"middle\" x=\"37.1069\" y=\"-152.8\" font-family=\"Times,serif\" font-size=\"14.00\" fill=\"#000000\">&lt;A&gt;</text>\n",
       "</g>\n",
       "<!-- 0&#45;&gt;2 -->\n",
       "<g id=\"edge2\" class=\"edge\">\n",
       "<title>0&#45;&gt;2</title>\n",
       "<path fill=\"none\" stroke=\"#000000\" d=\"M37.1069,-199.6223C37.1069,-192.9738 37.1069,-182.942 37.1069,-174.2807\"/>\n",
       "<polygon fill=\"#000000\" stroke=\"#000000\" points=\"40.607,-174.0842 37.1069,-164.0842 33.607,-174.0842 40.607,-174.0842\"/>\n",
       "</g>\n",
       "<!-- 10 -->\n",
       "<g id=\"node11\" class=\"node\">\n",
       "<title>10</title>\n",
       "<text text-anchor=\"middle\" x=\"71.1069\" y=\"-152.8\" font-family=\"Times,serif\" font-size=\"14.00\" fill=\"#000000\">a</text>\n",
       "</g>\n",
       "<!-- 0&#45;&gt;10 -->\n",
       "<g id=\"edge10\" class=\"edge\">\n",
       "<title>0&#45;&gt;10</title>\n",
       "<path fill=\"none\" stroke=\"#000000\" d=\"M42.1238,-199.6223C47.3883,-191.8804 55.7723,-179.5509 62.1718,-170.14\"/>\n",
       "<polygon fill=\"#000000\" stroke=\"#000000\" points=\"65.1794,-171.9413 67.9083,-161.7039 59.3909,-168.0051 65.1794,-171.9413\"/>\n",
       "</g>\n",
       "<!-- 3 -->\n",
       "<g id=\"node4\" class=\"node\">\n",
       "<title>3</title>\n",
       "<text text-anchor=\"middle\" x=\"3.1069\" y=\"-102.8\" font-family=\"Times,serif\" font-size=\"14.00\" fill=\"#000000\">a</text>\n",
       "</g>\n",
       "<!-- 2&#45;&gt;3 -->\n",
       "<g id=\"edge3\" class=\"edge\">\n",
       "<title>2&#45;&gt;3</title>\n",
       "<path fill=\"none\" stroke=\"#000000\" d=\"M32.0901,-149.6223C26.8256,-141.8804 18.4416,-129.5509 12.0421,-120.14\"/>\n",
       "<polygon fill=\"#000000\" stroke=\"#000000\" points=\"14.823,-118.0051 6.3056,-111.7039 9.0345,-121.9413 14.823,-118.0051\"/>\n",
       "</g>\n",
       "<!-- 4 -->\n",
       "<g id=\"node5\" class=\"node\">\n",
       "<title>4</title>\n",
       "<text text-anchor=\"middle\" x=\"37.1069\" y=\"-102.8\" font-family=\"Times,serif\" font-size=\"14.00\" fill=\"#000000\">&lt;A&gt;</text>\n",
       "</g>\n",
       "<!-- 2&#45;&gt;4 -->\n",
       "<g id=\"edge4\" class=\"edge\">\n",
       "<title>2&#45;&gt;4</title>\n",
       "<path fill=\"none\" stroke=\"#000000\" d=\"M37.1069,-149.6223C37.1069,-142.9738 37.1069,-132.942 37.1069,-124.2807\"/>\n",
       "<polygon fill=\"#000000\" stroke=\"#000000\" points=\"40.607,-124.0842 37.1069,-114.0842 33.607,-124.0842 40.607,-124.0842\"/>\n",
       "</g>\n",
       "<!-- 9 -->\n",
       "<g id=\"node10\" class=\"node\">\n",
       "<title>9</title>\n",
       "<text text-anchor=\"middle\" x=\"71.1069\" y=\"-102.8\" font-family=\"Times,serif\" font-size=\"14.00\" fill=\"#000000\">a</text>\n",
       "</g>\n",
       "<!-- 2&#45;&gt;9 -->\n",
       "<g id=\"edge9\" class=\"edge\">\n",
       "<title>2&#45;&gt;9</title>\n",
       "<path fill=\"none\" stroke=\"#000000\" d=\"M42.1238,-149.6223C47.3883,-141.8804 55.7723,-129.5509 62.1718,-120.14\"/>\n",
       "<polygon fill=\"#000000\" stroke=\"#000000\" points=\"65.1794,-121.9413 67.9083,-111.7039 59.3909,-118.0051 65.1794,-121.9413\"/>\n",
       "</g>\n",
       "<!-- 5 -->\n",
       "<g id=\"node6\" class=\"node\">\n",
       "<title>5</title>\n",
       "<text text-anchor=\"middle\" x=\"3.1069\" y=\"-52.8\" font-family=\"Times,serif\" font-size=\"14.00\" fill=\"#000000\">a</text>\n",
       "</g>\n",
       "<!-- 4&#45;&gt;5 -->\n",
       "<g id=\"edge5\" class=\"edge\">\n",
       "<title>4&#45;&gt;5</title>\n",
       "<path fill=\"none\" stroke=\"#000000\" d=\"M32.0901,-99.6223C26.8256,-91.8804 18.4416,-79.5509 12.0421,-70.14\"/>\n",
       "<polygon fill=\"#000000\" stroke=\"#000000\" points=\"14.823,-68.0051 6.3056,-61.7039 9.0345,-71.9413 14.823,-68.0051\"/>\n",
       "</g>\n",
       "<!-- 6 -->\n",
       "<g id=\"node7\" class=\"node\">\n",
       "<title>6</title>\n",
       "<text text-anchor=\"middle\" x=\"37.1069\" y=\"-52.8\" font-family=\"Times,serif\" font-size=\"14.00\" fill=\"#000000\">&lt;A&gt;</text>\n",
       "</g>\n",
       "<!-- 4&#45;&gt;6 -->\n",
       "<g id=\"edge6\" class=\"edge\">\n",
       "<title>4&#45;&gt;6</title>\n",
       "<path fill=\"none\" stroke=\"#000000\" d=\"M37.1069,-99.6223C37.1069,-92.9738 37.1069,-82.942 37.1069,-74.2807\"/>\n",
       "<polygon fill=\"#000000\" stroke=\"#000000\" points=\"40.607,-74.0842 37.1069,-64.0842 33.607,-74.0842 40.607,-74.0842\"/>\n",
       "</g>\n",
       "<!-- 8 -->\n",
       "<g id=\"node9\" class=\"node\">\n",
       "<title>8</title>\n",
       "<text text-anchor=\"middle\" x=\"71.1069\" y=\"-52.8\" font-family=\"Times,serif\" font-size=\"14.00\" fill=\"#000000\">a</text>\n",
       "</g>\n",
       "<!-- 4&#45;&gt;8 -->\n",
       "<g id=\"edge8\" class=\"edge\">\n",
       "<title>4&#45;&gt;8</title>\n",
       "<path fill=\"none\" stroke=\"#000000\" d=\"M42.1238,-99.6223C47.3883,-91.8804 55.7723,-79.5509 62.1718,-70.14\"/>\n",
       "<polygon fill=\"#000000\" stroke=\"#000000\" points=\"65.1794,-71.9413 67.9083,-61.7039 59.3909,-68.0051 65.1794,-71.9413\"/>\n",
       "</g>\n",
       "<!-- 7 -->\n",
       "<g id=\"node8\" class=\"node\">\n",
       "<title>7</title>\n",
       "<text text-anchor=\"middle\" x=\"37.1069\" y=\"-2.8\" font-family=\"Times,serif\" font-size=\"14.00\" fill=\"#000000\">aa</text>\n",
       "</g>\n",
       "<!-- 6&#45;&gt;7 -->\n",
       "<g id=\"edge7\" class=\"edge\">\n",
       "<title>6&#45;&gt;7</title>\n",
       "<path fill=\"none\" stroke=\"#000000\" d=\"M37.1069,-49.6223C37.1069,-42.9738 37.1069,-32.942 37.1069,-24.2807\"/>\n",
       "<polygon fill=\"#000000\" stroke=\"#000000\" points=\"40.607,-24.0842 37.1069,-14.0842 33.607,-24.0842 40.607,-24.0842\"/>\n",
       "</g>\n",
       "</g>\n",
       "</svg>\n"
      ],
      "text/plain": [
       "<graphviz.dot.Digraph at 0x11caea518>"
      ]
     },
     "metadata": {},
     "output_type": "display_data"
    },
    {
     "data": {
      "text/plain": [
       "['aa', 'aaaa', 'aaaaaa', 'aaaaaaaa']"
      ]
     },
     "execution_count": 69,
     "metadata": {},
     "output_type": "execute_result"
    }
   ],
   "source": [
    "strings = []\n",
    "for e in range(4):\n",
    "    f = GrammarFuzzer(PEG_SURPRISE, start_symbol='<A>')\n",
    "    tree = ('<A>', None)\n",
    "    for _ in range(e):\n",
    "        tree = f.expand_tree_once(tree)\n",
    "    tree = f.expand_tree_with_strategy(tree, f.expand_node_min_cost)\n",
    "    strings.append(tree_to_string(tree))\n",
    "    display_tree(tree)\n",
    "strings"
   ]
  },
  {
   "cell_type": "markdown",
   "metadata": {
    "slideshow": {
     "slide_type": "subslide"
    }
   },
   "source": [
    "However, the _PEG_ parser can only recognize strings of the form $2^n$"
   ]
  },
  {
   "cell_type": "code",
   "execution_count": 70,
   "metadata": {
    "slideshow": {
     "slide_type": "subslide"
    }
   },
   "outputs": [
    {
     "data": {
      "image/svg+xml": [
       "<?xml version=\"1.0\" encoding=\"UTF-8\" standalone=\"no\"?>\n",
       "<!DOCTYPE svg PUBLIC \"-//W3C//DTD SVG 1.1//EN\"\n",
       " \"http://www.w3.org/Graphics/SVG/1.1/DTD/svg11.dtd\">\n",
       "<!-- Generated by graphviz version 2.40.1 (20161225.0304)\n",
       " -->\n",
       "<!-- Title: %3 Pages: 1 -->\n",
       "<svg width=\"34pt\" height=\"72pt\"\n",
       " viewBox=\"0.00 0.00 33.90 72.00\" xmlns=\"http://www.w3.org/2000/svg\" xmlns:xlink=\"http://www.w3.org/1999/xlink\">\n",
       "<g id=\"graph0\" class=\"graph\" transform=\"scale(1 1) rotate(0) translate(4 68)\">\n",
       "<title>%3</title>\n",
       "<polygon fill=\"#ffffff\" stroke=\"transparent\" points=\"-4,4 -4,-68 29.9014,-68 29.9014,4 -4,4\"/>\n",
       "<!-- 0 -->\n",
       "<g id=\"node1\" class=\"node\">\n",
       "<title>0</title>\n",
       "<text text-anchor=\"middle\" x=\"12.9507\" y=\"-52.8\" font-family=\"Times,serif\" font-size=\"14.00\" fill=\"#000000\">&lt;A&gt;</text>\n",
       "</g>\n",
       "<!-- 1 -->\n",
       "<g id=\"node2\" class=\"node\">\n",
       "<title>1</title>\n",
       "<text text-anchor=\"middle\" x=\"12.9507\" y=\"-2.8\" font-family=\"Times,serif\" font-size=\"14.00\" fill=\"#000000\">aa</text>\n",
       "</g>\n",
       "<!-- 0&#45;&gt;1 -->\n",
       "<g id=\"edge1\" class=\"edge\">\n",
       "<title>0&#45;&gt;1</title>\n",
       "<path fill=\"none\" stroke=\"#000000\" d=\"M12.9507,-49.6223C12.9507,-42.9738 12.9507,-32.942 12.9507,-24.2807\"/>\n",
       "<polygon fill=\"#000000\" stroke=\"#000000\" points=\"16.4508,-24.0842 12.9507,-14.0842 9.4508,-24.0842 16.4508,-24.0842\"/>\n",
       "</g>\n",
       "</g>\n",
       "</svg>\n"
      ],
      "text/plain": [
       "<graphviz.dot.Digraph at 0x11caeabe0>"
      ]
     },
     "metadata": {},
     "output_type": "display_data"
    },
    {
     "name": "stdout",
     "output_type": "stream",
     "text": [
      "aa\n"
     ]
    },
    {
     "data": {
      "image/svg+xml": [
       "<?xml version=\"1.0\" encoding=\"UTF-8\" standalone=\"no\"?>\n",
       "<!DOCTYPE svg PUBLIC \"-//W3C//DTD SVG 1.1//EN\"\n",
       " \"http://www.w3.org/Graphics/SVG/1.1/DTD/svg11.dtd\">\n",
       "<!-- Generated by graphviz version 2.40.1 (20161225.0304)\n",
       " -->\n",
       "<!-- Title: %3 Pages: 1 -->\n",
       "<svg width=\"82pt\" height=\"122pt\"\n",
       " viewBox=\"0.00 0.00 82.21 122.00\" xmlns=\"http://www.w3.org/2000/svg\" xmlns:xlink=\"http://www.w3.org/1999/xlink\">\n",
       "<g id=\"graph0\" class=\"graph\" transform=\"scale(1 1) rotate(0) translate(4 118)\">\n",
       "<title>%3</title>\n",
       "<polygon fill=\"#ffffff\" stroke=\"transparent\" points=\"-4,4 -4,-118 78.2139,-118 78.2139,4 -4,4\"/>\n",
       "<!-- 0 -->\n",
       "<g id=\"node1\" class=\"node\">\n",
       "<title>0</title>\n",
       "<text text-anchor=\"middle\" x=\"37.1069\" y=\"-102.8\" font-family=\"Times,serif\" font-size=\"14.00\" fill=\"#000000\">&lt;A&gt;</text>\n",
       "</g>\n",
       "<!-- 1 -->\n",
       "<g id=\"node2\" class=\"node\">\n",
       "<title>1</title>\n",
       "<text text-anchor=\"middle\" x=\"3.1069\" y=\"-52.8\" font-family=\"Times,serif\" font-size=\"14.00\" fill=\"#000000\">a</text>\n",
       "</g>\n",
       "<!-- 0&#45;&gt;1 -->\n",
       "<g id=\"edge1\" class=\"edge\">\n",
       "<title>0&#45;&gt;1</title>\n",
       "<path fill=\"none\" stroke=\"#000000\" d=\"M32.0901,-99.6223C26.8256,-91.8804 18.4416,-79.5509 12.0421,-70.14\"/>\n",
       "<polygon fill=\"#000000\" stroke=\"#000000\" points=\"14.823,-68.0051 6.3056,-61.7039 9.0345,-71.9413 14.823,-68.0051\"/>\n",
       "</g>\n",
       "<!-- 2 -->\n",
       "<g id=\"node3\" class=\"node\">\n",
       "<title>2</title>\n",
       "<text text-anchor=\"middle\" x=\"37.1069\" y=\"-52.8\" font-family=\"Times,serif\" font-size=\"14.00\" fill=\"#000000\">&lt;A&gt;</text>\n",
       "</g>\n",
       "<!-- 0&#45;&gt;2 -->\n",
       "<g id=\"edge2\" class=\"edge\">\n",
       "<title>0&#45;&gt;2</title>\n",
       "<path fill=\"none\" stroke=\"#000000\" d=\"M37.1069,-99.6223C37.1069,-92.9738 37.1069,-82.942 37.1069,-74.2807\"/>\n",
       "<polygon fill=\"#000000\" stroke=\"#000000\" points=\"40.607,-74.0842 37.1069,-64.0842 33.607,-74.0842 40.607,-74.0842\"/>\n",
       "</g>\n",
       "<!-- 4 -->\n",
       "<g id=\"node5\" class=\"node\">\n",
       "<title>4</title>\n",
       "<text text-anchor=\"middle\" x=\"71.1069\" y=\"-52.8\" font-family=\"Times,serif\" font-size=\"14.00\" fill=\"#000000\">a</text>\n",
       "</g>\n",
       "<!-- 0&#45;&gt;4 -->\n",
       "<g id=\"edge4\" class=\"edge\">\n",
       "<title>0&#45;&gt;4</title>\n",
       "<path fill=\"none\" stroke=\"#000000\" d=\"M42.1238,-99.6223C47.3883,-91.8804 55.7723,-79.5509 62.1718,-70.14\"/>\n",
       "<polygon fill=\"#000000\" stroke=\"#000000\" points=\"65.1794,-71.9413 67.9083,-61.7039 59.3909,-68.0051 65.1794,-71.9413\"/>\n",
       "</g>\n",
       "<!-- 3 -->\n",
       "<g id=\"node4\" class=\"node\">\n",
       "<title>3</title>\n",
       "<text text-anchor=\"middle\" x=\"37.1069\" y=\"-2.8\" font-family=\"Times,serif\" font-size=\"14.00\" fill=\"#000000\">aa</text>\n",
       "</g>\n",
       "<!-- 2&#45;&gt;3 -->\n",
       "<g id=\"edge3\" class=\"edge\">\n",
       "<title>2&#45;&gt;3</title>\n",
       "<path fill=\"none\" stroke=\"#000000\" d=\"M37.1069,-49.6223C37.1069,-42.9738 37.1069,-32.942 37.1069,-24.2807\"/>\n",
       "<polygon fill=\"#000000\" stroke=\"#000000\" points=\"40.607,-24.0842 37.1069,-14.0842 33.607,-24.0842 40.607,-24.0842\"/>\n",
       "</g>\n",
       "</g>\n",
       "</svg>\n"
      ],
      "text/plain": [
       "<graphviz.dot.Digraph at 0x11caeabe0>"
      ]
     },
     "metadata": {},
     "output_type": "display_data"
    },
    {
     "name": "stdout",
     "output_type": "stream",
     "text": [
      "aaaa\n"
     ]
    },
    {
     "name": "stderr",
     "output_type": "stream",
     "text": [
      "Traceback (most recent call last):\n",
      "  File \"<ipython-input-70-dec55ebf796e>\", line 4, in <module>\n",
      "    for tree in peg.parse(s):\n",
      "  File \"<ipython-input-49-4569ad5b8765>\", line 22, in parse\n",
      "    raise SyntaxError(\"at \" + repr(text[cursor:]))\n",
      "  File \"<string>\", line None\n",
      "SyntaxError: at 'aa' (expected)\n"
     ]
    },
    {
     "data": {
      "image/svg+xml": [
       "<?xml version=\"1.0\" encoding=\"UTF-8\" standalone=\"no\"?>\n",
       "<!DOCTYPE svg PUBLIC \"-//W3C//DTD SVG 1.1//EN\"\n",
       " \"http://www.w3.org/Graphics/SVG/1.1/DTD/svg11.dtd\">\n",
       "<!-- Generated by graphviz version 2.40.1 (20161225.0304)\n",
       " -->\n",
       "<!-- Title: %3 Pages: 1 -->\n",
       "<svg width=\"82pt\" height=\"222pt\"\n",
       " viewBox=\"0.00 0.00 82.21 222.00\" xmlns=\"http://www.w3.org/2000/svg\" xmlns:xlink=\"http://www.w3.org/1999/xlink\">\n",
       "<g id=\"graph0\" class=\"graph\" transform=\"scale(1 1) rotate(0) translate(4 218)\">\n",
       "<title>%3</title>\n",
       "<polygon fill=\"#ffffff\" stroke=\"transparent\" points=\"-4,4 -4,-218 78.2139,-218 78.2139,4 -4,4\"/>\n",
       "<!-- 0 -->\n",
       "<g id=\"node1\" class=\"node\">\n",
       "<title>0</title>\n",
       "<text text-anchor=\"middle\" x=\"37.1069\" y=\"-202.8\" font-family=\"Times,serif\" font-size=\"14.00\" fill=\"#000000\">&lt;A&gt;</text>\n",
       "</g>\n",
       "<!-- 1 -->\n",
       "<g id=\"node2\" class=\"node\">\n",
       "<title>1</title>\n",
       "<text text-anchor=\"middle\" x=\"3.1069\" y=\"-152.8\" font-family=\"Times,serif\" font-size=\"14.00\" fill=\"#000000\">a</text>\n",
       "</g>\n",
       "<!-- 0&#45;&gt;1 -->\n",
       "<g id=\"edge1\" class=\"edge\">\n",
       "<title>0&#45;&gt;1</title>\n",
       "<path fill=\"none\" stroke=\"#000000\" d=\"M32.0901,-199.6223C26.8256,-191.8804 18.4416,-179.5509 12.0421,-170.14\"/>\n",
       "<polygon fill=\"#000000\" stroke=\"#000000\" points=\"14.823,-168.0051 6.3056,-161.7039 9.0345,-171.9413 14.823,-168.0051\"/>\n",
       "</g>\n",
       "<!-- 2 -->\n",
       "<g id=\"node3\" class=\"node\">\n",
       "<title>2</title>\n",
       "<text text-anchor=\"middle\" x=\"37.1069\" y=\"-152.8\" font-family=\"Times,serif\" font-size=\"14.00\" fill=\"#000000\">&lt;A&gt;</text>\n",
       "</g>\n",
       "<!-- 0&#45;&gt;2 -->\n",
       "<g id=\"edge2\" class=\"edge\">\n",
       "<title>0&#45;&gt;2</title>\n",
       "<path fill=\"none\" stroke=\"#000000\" d=\"M37.1069,-199.6223C37.1069,-192.9738 37.1069,-182.942 37.1069,-174.2807\"/>\n",
       "<polygon fill=\"#000000\" stroke=\"#000000\" points=\"40.607,-174.0842 37.1069,-164.0842 33.607,-174.0842 40.607,-174.0842\"/>\n",
       "</g>\n",
       "<!-- 10 -->\n",
       "<g id=\"node11\" class=\"node\">\n",
       "<title>10</title>\n",
       "<text text-anchor=\"middle\" x=\"71.1069\" y=\"-152.8\" font-family=\"Times,serif\" font-size=\"14.00\" fill=\"#000000\">a</text>\n",
       "</g>\n",
       "<!-- 0&#45;&gt;10 -->\n",
       "<g id=\"edge10\" class=\"edge\">\n",
       "<title>0&#45;&gt;10</title>\n",
       "<path fill=\"none\" stroke=\"#000000\" d=\"M42.1238,-199.6223C47.3883,-191.8804 55.7723,-179.5509 62.1718,-170.14\"/>\n",
       "<polygon fill=\"#000000\" stroke=\"#000000\" points=\"65.1794,-171.9413 67.9083,-161.7039 59.3909,-168.0051 65.1794,-171.9413\"/>\n",
       "</g>\n",
       "<!-- 3 -->\n",
       "<g id=\"node4\" class=\"node\">\n",
       "<title>3</title>\n",
       "<text text-anchor=\"middle\" x=\"3.1069\" y=\"-102.8\" font-family=\"Times,serif\" font-size=\"14.00\" fill=\"#000000\">a</text>\n",
       "</g>\n",
       "<!-- 2&#45;&gt;3 -->\n",
       "<g id=\"edge3\" class=\"edge\">\n",
       "<title>2&#45;&gt;3</title>\n",
       "<path fill=\"none\" stroke=\"#000000\" d=\"M32.0901,-149.6223C26.8256,-141.8804 18.4416,-129.5509 12.0421,-120.14\"/>\n",
       "<polygon fill=\"#000000\" stroke=\"#000000\" points=\"14.823,-118.0051 6.3056,-111.7039 9.0345,-121.9413 14.823,-118.0051\"/>\n",
       "</g>\n",
       "<!-- 4 -->\n",
       "<g id=\"node5\" class=\"node\">\n",
       "<title>4</title>\n",
       "<text text-anchor=\"middle\" x=\"37.1069\" y=\"-102.8\" font-family=\"Times,serif\" font-size=\"14.00\" fill=\"#000000\">&lt;A&gt;</text>\n",
       "</g>\n",
       "<!-- 2&#45;&gt;4 -->\n",
       "<g id=\"edge4\" class=\"edge\">\n",
       "<title>2&#45;&gt;4</title>\n",
       "<path fill=\"none\" stroke=\"#000000\" d=\"M37.1069,-149.6223C37.1069,-142.9738 37.1069,-132.942 37.1069,-124.2807\"/>\n",
       "<polygon fill=\"#000000\" stroke=\"#000000\" points=\"40.607,-124.0842 37.1069,-114.0842 33.607,-124.0842 40.607,-124.0842\"/>\n",
       "</g>\n",
       "<!-- 9 -->\n",
       "<g id=\"node10\" class=\"node\">\n",
       "<title>9</title>\n",
       "<text text-anchor=\"middle\" x=\"71.1069\" y=\"-102.8\" font-family=\"Times,serif\" font-size=\"14.00\" fill=\"#000000\">a</text>\n",
       "</g>\n",
       "<!-- 2&#45;&gt;9 -->\n",
       "<g id=\"edge9\" class=\"edge\">\n",
       "<title>2&#45;&gt;9</title>\n",
       "<path fill=\"none\" stroke=\"#000000\" d=\"M42.1238,-149.6223C47.3883,-141.8804 55.7723,-129.5509 62.1718,-120.14\"/>\n",
       "<polygon fill=\"#000000\" stroke=\"#000000\" points=\"65.1794,-121.9413 67.9083,-111.7039 59.3909,-118.0051 65.1794,-121.9413\"/>\n",
       "</g>\n",
       "<!-- 5 -->\n",
       "<g id=\"node6\" class=\"node\">\n",
       "<title>5</title>\n",
       "<text text-anchor=\"middle\" x=\"3.1069\" y=\"-52.8\" font-family=\"Times,serif\" font-size=\"14.00\" fill=\"#000000\">a</text>\n",
       "</g>\n",
       "<!-- 4&#45;&gt;5 -->\n",
       "<g id=\"edge5\" class=\"edge\">\n",
       "<title>4&#45;&gt;5</title>\n",
       "<path fill=\"none\" stroke=\"#000000\" d=\"M32.0901,-99.6223C26.8256,-91.8804 18.4416,-79.5509 12.0421,-70.14\"/>\n",
       "<polygon fill=\"#000000\" stroke=\"#000000\" points=\"14.823,-68.0051 6.3056,-61.7039 9.0345,-71.9413 14.823,-68.0051\"/>\n",
       "</g>\n",
       "<!-- 6 -->\n",
       "<g id=\"node7\" class=\"node\">\n",
       "<title>6</title>\n",
       "<text text-anchor=\"middle\" x=\"37.1069\" y=\"-52.8\" font-family=\"Times,serif\" font-size=\"14.00\" fill=\"#000000\">&lt;A&gt;</text>\n",
       "</g>\n",
       "<!-- 4&#45;&gt;6 -->\n",
       "<g id=\"edge6\" class=\"edge\">\n",
       "<title>4&#45;&gt;6</title>\n",
       "<path fill=\"none\" stroke=\"#000000\" d=\"M37.1069,-99.6223C37.1069,-92.9738 37.1069,-82.942 37.1069,-74.2807\"/>\n",
       "<polygon fill=\"#000000\" stroke=\"#000000\" points=\"40.607,-74.0842 37.1069,-64.0842 33.607,-74.0842 40.607,-74.0842\"/>\n",
       "</g>\n",
       "<!-- 8 -->\n",
       "<g id=\"node9\" class=\"node\">\n",
       "<title>8</title>\n",
       "<text text-anchor=\"middle\" x=\"71.1069\" y=\"-52.8\" font-family=\"Times,serif\" font-size=\"14.00\" fill=\"#000000\">a</text>\n",
       "</g>\n",
       "<!-- 4&#45;&gt;8 -->\n",
       "<g id=\"edge8\" class=\"edge\">\n",
       "<title>4&#45;&gt;8</title>\n",
       "<path fill=\"none\" stroke=\"#000000\" d=\"M42.1238,-99.6223C47.3883,-91.8804 55.7723,-79.5509 62.1718,-70.14\"/>\n",
       "<polygon fill=\"#000000\" stroke=\"#000000\" points=\"65.1794,-71.9413 67.9083,-61.7039 59.3909,-68.0051 65.1794,-71.9413\"/>\n",
       "</g>\n",
       "<!-- 7 -->\n",
       "<g id=\"node8\" class=\"node\">\n",
       "<title>7</title>\n",
       "<text text-anchor=\"middle\" x=\"37.1069\" y=\"-2.8\" font-family=\"Times,serif\" font-size=\"14.00\" fill=\"#000000\">aa</text>\n",
       "</g>\n",
       "<!-- 6&#45;&gt;7 -->\n",
       "<g id=\"edge7\" class=\"edge\">\n",
       "<title>6&#45;&gt;7</title>\n",
       "<path fill=\"none\" stroke=\"#000000\" d=\"M37.1069,-49.6223C37.1069,-42.9738 37.1069,-32.942 37.1069,-24.2807\"/>\n",
       "<polygon fill=\"#000000\" stroke=\"#000000\" points=\"40.607,-24.0842 37.1069,-14.0842 33.607,-24.0842 40.607,-24.0842\"/>\n",
       "</g>\n",
       "</g>\n",
       "</svg>\n"
      ],
      "text/plain": [
       "<graphviz.dot.Digraph at 0x11caeabe0>"
      ]
     },
     "metadata": {},
     "output_type": "display_data"
    },
    {
     "name": "stdout",
     "output_type": "stream",
     "text": [
      "aaaaaaaa\n"
     ]
    }
   ],
   "source": [
    "peg = PEGParser(PEG_SURPRISE, start_symbol='<A>')\n",
    "for s in strings:\n",
    "    with ExpectError():\n",
    "        for tree in peg.parse(s):\n",
    "            display_tree(tree)\n",
    "        print(s)"
   ]
  },
  {
   "cell_type": "markdown",
   "metadata": {
    "slideshow": {
     "slide_type": "notes"
    }
   },
   "source": [
    "This is not the only problem with _Parsing Expression Grammars_. While  *PEGs* are expressive and the *packrat* parser for parsing them is simple and intuitive, *PEGs* suffer from a major deficiency for our purposes. *PEGs* are oriented towards language recognition, and it is not clear how to translate an arbitrary *PEG* to a *CFG*. As we mentioned earlier, a naive re-interpretation of a *PEG* as a *CFG* does not work very well. Further, it is not clear what is the exact relation between the class of languages represented by *PEG* and the class of languages represented by *CFG*. Since our primary focus is *fuzzing* – that is _generation_ of strings – , we next look at _parsers that can accept context-free grammars_."
   ]
  },
  {
   "cell_type": "markdown",
   "metadata": {
    "slideshow": {
     "slide_type": "fragment"
    }
   },
   "source": [
    "The general idea of *CFG* parser is the following: Peek at the input text for the allowed number of characters, and use these, and our parser state to determine which rules can be applied to complete parsing. We next look at a typical *CFG* parsing algorithm, the Earley Parser."
   ]
  },
  {
   "cell_type": "markdown",
   "metadata": {
    "slideshow": {
     "slide_type": "slide"
    },
    "toc-hr-collapsed": false
   },
   "source": [
    "### The Earley Parser"
   ]
  },
  {
   "cell_type": "markdown",
   "metadata": {
    "slideshow": {
     "slide_type": "notes"
    }
   },
   "source": [
    "The Earley parser is a general parser that is able to parse any arbitrary *CFG*. It was invented by Jay Earley \\cite{Earley1970} for use in computational linguistics. While its computational complexity is $O(n^3)$ for parsing strings with arbitrary grammars, it can parse strings with unambiguous grammars in $O(n^2)$ time, and all *[LR(k)](https://en.wikipedia.org/wiki/LR_parser)* grammars in linear time ($O(n)$ \\cite{Leo1991}). Further improvements – notably handling epsilon rules – were invented by Aycock et al. \\cite{Aycock2002}."
   ]
  },
  {
   "cell_type": "markdown",
   "metadata": {
    "slideshow": {
     "slide_type": "notes"
    }
   },
   "source": [
    "Note that one restriction of our implementation is that the start symbol can have only one alternative in its alternative expressions. This is not a restriction in practice because any grammar with multiple alternatives for its start symbol can be extended with a new start symbol that has the original start symbol as its only choice. That is, given a grammar as below,\n",
    "\n",
    "```\n",
    "grammar = {\n",
    "    '<start>': ['<A>', '<B>'],\n",
    "    ...\n",
    "}\n",
    "```\n",
    "one may rewrite it as below to conform to the *single-alternative* rule.\n",
    "```\n",
    "grammar = {\n",
    "    '<start>': ['<start_>'],\n",
    "    '<start_>': ['<A>', '<B>'],\n",
    "    ...\n",
    "}\n",
    "```"
   ]
  },
  {
   "cell_type": "markdown",
   "metadata": {
    "slideshow": {
     "slide_type": "notes"
    }
   },
   "source": [
    "We first implement a simpler parser that is a parser for nearly all *CFGs*, but not quite. In particular, our parser does not understand _epsilon rules_ – rules that derive empty string. We show later how the parser can be extended to handle these."
   ]
  },
  {
   "cell_type": "markdown",
   "metadata": {
    "slideshow": {
     "slide_type": "fragment"
    }
   },
   "source": [
    "We use the following grammar in our examples below."
   ]
  },
  {
   "cell_type": "code",
   "execution_count": 71,
   "metadata": {
    "slideshow": {
     "slide_type": "fragment"
    }
   },
   "outputs": [],
   "source": [
    "SAMPLE_GRAMMAR = {\n",
    "    '<start>': ['<A><B>'],\n",
    "    '<A>': ['a<B>c', 'a<A>'],\n",
    "    '<B>': ['b<C>', '<D>'],\n",
    "    '<C>': ['c'],\n",
    "    '<D>': ['d']\n",
    "}\n",
    "C_SAMPLE_GRAMMAR = canonical(SAMPLE_GRAMMAR)"
   ]
  },
  {
   "cell_type": "code",
   "execution_count": 72,
   "metadata": {
    "slideshow": {
     "slide_type": "subslide"
    }
   },
   "outputs": [
    {
     "name": "stdout",
     "output_type": "stream",
     "text": [
      "start\n"
     ]
    },
    {
     "data": {
      "image/svg+xml": [
       "<svg class=\"railroad-diagram\" height=\"62\" viewBox=\"0 0 197.0 62\" width=\"197.0\" xmlns=\"http://www.w3.org/2000/svg\">\n",
       "<g transform=\"translate(.5 .5)\">\n",
       "<style>/* <![CDATA[ */\n",
       "    svg.railroad-diagram {\n",
       "        background-color:hsl(100,100%,100%);\n",
       "    }\n",
       "    svg.railroad-diagram path {\n",
       "        stroke-width:3;\n",
       "        stroke:black;\n",
       "        fill:rgba(0,0,0,0);\n",
       "    }\n",
       "    svg.railroad-diagram text {\n",
       "        font:bold 14px monospace;\n",
       "        text-anchor:middle;\n",
       "    }\n",
       "    svg.railroad-diagram text.label{\n",
       "        text-anchor:start;\n",
       "    }\n",
       "    svg.railroad-diagram text.comment{\n",
       "        font:italic 12px monospace;\n",
       "    }\n",
       "    svg.railroad-diagram rect{\n",
       "        stroke-width:3;\n",
       "        stroke:black;\n",
       "        fill:hsl(0,62%,82%);\n",
       "    }\n",
       "\n",
       "/* ]]> */\n",
       "</style><g>\n",
       "<path d=\"M20 21v20m10 -20v20m-10 -10h20\"/></g><g>\n",
       "<path d=\"M40 31h0.0\"/><path d=\"M157.0 31h0.0\"/><path d=\"M40.0 31h20\"/><g>\n",
       "<path d=\"M60.0 31h0.0\"/><path d=\"M137.0 31h0.0\"/><g class=\"non-terminal\">\n",
       "<path d=\"M60.0 31h0.0\"/><path d=\"M88.5 31h0.0\"/><rect height=\"22\" width=\"28.5\" x=\"60.0\" y=\"20\"/><text x=\"74.25\" y=\"35\">A</text></g><path d=\"M88.5 31h10\"/><path d=\"M98.5 31h10\"/><g class=\"non-terminal\">\n",
       "<path d=\"M108.5 31h0.0\"/><path d=\"M137.0 31h0.0\"/><rect height=\"22\" width=\"28.5\" x=\"108.5\" y=\"20\"/><text x=\"122.75\" y=\"35\">B</text></g></g><path d=\"M137.0 31h20\"/></g><path d=\"M 157.0 31 h 20 m -10 -10 v 20 m 10 -20 v 20\"/></g></svg>"
      ],
      "text/plain": [
       "<IPython.core.display.SVG object>"
      ]
     },
     "metadata": {},
     "output_type": "display_data"
    },
    {
     "name": "stdout",
     "output_type": "stream",
     "text": [
      "A\n"
     ]
    },
    {
     "data": {
      "image/svg+xml": [
       "<svg class=\"railroad-diagram\" height=\"92\" viewBox=\"0 0 245.5 92\" width=\"245.5\" xmlns=\"http://www.w3.org/2000/svg\">\n",
       "<g transform=\"translate(.5 .5)\">\n",
       "<style>/* <![CDATA[ */\n",
       "    svg.railroad-diagram {\n",
       "        background-color:hsl(100,100%,100%);\n",
       "    }\n",
       "    svg.railroad-diagram path {\n",
       "        stroke-width:3;\n",
       "        stroke:black;\n",
       "        fill:rgba(0,0,0,0);\n",
       "    }\n",
       "    svg.railroad-diagram text {\n",
       "        font:bold 14px monospace;\n",
       "        text-anchor:middle;\n",
       "    }\n",
       "    svg.railroad-diagram text.label{\n",
       "        text-anchor:start;\n",
       "    }\n",
       "    svg.railroad-diagram text.comment{\n",
       "        font:italic 12px monospace;\n",
       "    }\n",
       "    svg.railroad-diagram rect{\n",
       "        stroke-width:3;\n",
       "        stroke:black;\n",
       "        fill:hsl(0,62%,82%);\n",
       "    }\n",
       "\n",
       "/* ]]> */\n",
       "</style><g>\n",
       "<path d=\"M20 51v20m10 -20v20m-10 -10h20\"/></g><g>\n",
       "<path d=\"M40 61h0.0\"/><path d=\"M205.5 61h0.0\"/><path d=\"M40.0 61a10 10 0 0 0 10 -10v-10a10 10 0 0 1 10 -10\"/><g>\n",
       "<path d=\"M60.0 31h0.0\"/><path d=\"M185.5 31h0.0\"/><g class=\"terminal\">\n",
       "<path d=\"M60.0 31h0.0\"/><path d=\"M88.5 31h0.0\"/><rect height=\"22\" rx=\"10\" ry=\"10\" width=\"28.5\" x=\"60.0\" y=\"20\"/><text x=\"74.25\" y=\"35\">a</text></g><path d=\"M88.5 31h10\"/><path d=\"M98.5 31h10\"/><g class=\"non-terminal\">\n",
       "<path d=\"M108.5 31h0.0\"/><path d=\"M137.0 31h0.0\"/><rect height=\"22\" width=\"28.5\" x=\"108.5\" y=\"20\"/><text x=\"122.75\" y=\"35\">B</text></g><path d=\"M137.0 31h10\"/><path d=\"M147.0 31h10\"/><g class=\"terminal\">\n",
       "<path d=\"M157.0 31h0.0\"/><path d=\"M185.5 31h0.0\"/><rect height=\"22\" rx=\"10\" ry=\"10\" width=\"28.5\" x=\"157.0\" y=\"20\"/><text x=\"171.25\" y=\"35\">c</text></g></g><path d=\"M185.5 31a10 10 0 0 1 10 10v10a10 10 0 0 0 10 10\"/><path d=\"M40.0 61h20\"/><g>\n",
       "<path d=\"M60.0 61h24.25\"/><path d=\"M161.25 61h24.25\"/><g class=\"terminal\">\n",
       "<path d=\"M84.25 61h0.0\"/><path d=\"M112.75 61h0.0\"/><rect height=\"22\" rx=\"10\" ry=\"10\" width=\"28.5\" x=\"84.25\" y=\"50\"/><text x=\"98.5\" y=\"65\">a</text></g><path d=\"M112.75 61h10\"/><path d=\"M122.75 61h10\"/><g class=\"non-terminal\">\n",
       "<path d=\"M132.75 61h0.0\"/><path d=\"M161.25 61h0.0\"/><rect height=\"22\" width=\"28.5\" x=\"132.75\" y=\"50\"/><text x=\"147.0\" y=\"65\">A</text></g></g><path d=\"M185.5 61h20\"/></g><path d=\"M 205.5 61 h 20 m -10 -10 v 20 m 10 -20 v 20\"/></g></svg>"
      ],
      "text/plain": [
       "<IPython.core.display.SVG object>"
      ]
     },
     "metadata": {},
     "output_type": "display_data"
    },
    {
     "name": "stdout",
     "output_type": "stream",
     "text": [
      "B\n"
     ]
    },
    {
     "data": {
      "image/svg+xml": [
       "<svg class=\"railroad-diagram\" height=\"92\" viewBox=\"0 0 197.0 92\" width=\"197.0\" xmlns=\"http://www.w3.org/2000/svg\">\n",
       "<g transform=\"translate(.5 .5)\">\n",
       "<style>/* <![CDATA[ */\n",
       "    svg.railroad-diagram {\n",
       "        background-color:hsl(100,100%,100%);\n",
       "    }\n",
       "    svg.railroad-diagram path {\n",
       "        stroke-width:3;\n",
       "        stroke:black;\n",
       "        fill:rgba(0,0,0,0);\n",
       "    }\n",
       "    svg.railroad-diagram text {\n",
       "        font:bold 14px monospace;\n",
       "        text-anchor:middle;\n",
       "    }\n",
       "    svg.railroad-diagram text.label{\n",
       "        text-anchor:start;\n",
       "    }\n",
       "    svg.railroad-diagram text.comment{\n",
       "        font:italic 12px monospace;\n",
       "    }\n",
       "    svg.railroad-diagram rect{\n",
       "        stroke-width:3;\n",
       "        stroke:black;\n",
       "        fill:hsl(0,62%,82%);\n",
       "    }\n",
       "\n",
       "/* ]]> */\n",
       "</style><g>\n",
       "<path d=\"M20 51v20m10 -20v20m-10 -10h20\"/></g><g>\n",
       "<path d=\"M40 61h0.0\"/><path d=\"M157.0 61h0.0\"/><path d=\"M40.0 61a10 10 0 0 0 10 -10v-10a10 10 0 0 1 10 -10\"/><g>\n",
       "<path d=\"M60.0 31h0.0\"/><path d=\"M137.0 31h0.0\"/><g class=\"terminal\">\n",
       "<path d=\"M60.0 31h0.0\"/><path d=\"M88.5 31h0.0\"/><rect height=\"22\" rx=\"10\" ry=\"10\" width=\"28.5\" x=\"60.0\" y=\"20\"/><text x=\"74.25\" y=\"35\">b</text></g><path d=\"M88.5 31h10\"/><path d=\"M98.5 31h10\"/><g class=\"non-terminal\">\n",
       "<path d=\"M108.5 31h0.0\"/><path d=\"M137.0 31h0.0\"/><rect height=\"22\" width=\"28.5\" x=\"108.5\" y=\"20\"/><text x=\"122.75\" y=\"35\">C</text></g></g><path d=\"M137.0 31a10 10 0 0 1 10 10v10a10 10 0 0 0 10 10\"/><path d=\"M40.0 61h20\"/><g>\n",
       "<path d=\"M60.0 61h24.25\"/><path d=\"M112.75 61h24.25\"/><g class=\"non-terminal\">\n",
       "<path d=\"M84.25 61h0.0\"/><path d=\"M112.75 61h0.0\"/><rect height=\"22\" width=\"28.5\" x=\"84.25\" y=\"50\"/><text x=\"98.5\" y=\"65\">D</text></g></g><path d=\"M137.0 61h20\"/></g><path d=\"M 157.0 61 h 20 m -10 -10 v 20 m 10 -20 v 20\"/></g></svg>"
      ],
      "text/plain": [
       "<IPython.core.display.SVG object>"
      ]
     },
     "metadata": {},
     "output_type": "display_data"
    },
    {
     "name": "stdout",
     "output_type": "stream",
     "text": [
      "C\n"
     ]
    },
    {
     "data": {
      "image/svg+xml": [
       "<svg class=\"railroad-diagram\" height=\"62\" viewBox=\"0 0 148.5 62\" width=\"148.5\" xmlns=\"http://www.w3.org/2000/svg\">\n",
       "<g transform=\"translate(.5 .5)\">\n",
       "<style>/* <![CDATA[ */\n",
       "    svg.railroad-diagram {\n",
       "        background-color:hsl(100,100%,100%);\n",
       "    }\n",
       "    svg.railroad-diagram path {\n",
       "        stroke-width:3;\n",
       "        stroke:black;\n",
       "        fill:rgba(0,0,0,0);\n",
       "    }\n",
       "    svg.railroad-diagram text {\n",
       "        font:bold 14px monospace;\n",
       "        text-anchor:middle;\n",
       "    }\n",
       "    svg.railroad-diagram text.label{\n",
       "        text-anchor:start;\n",
       "    }\n",
       "    svg.railroad-diagram text.comment{\n",
       "        font:italic 12px monospace;\n",
       "    }\n",
       "    svg.railroad-diagram rect{\n",
       "        stroke-width:3;\n",
       "        stroke:black;\n",
       "        fill:hsl(0,62%,82%);\n",
       "    }\n",
       "\n",
       "/* ]]> */\n",
       "</style><g>\n",
       "<path d=\"M20 21v20m10 -20v20m-10 -10h20\"/></g><g>\n",
       "<path d=\"M40 31h0.0\"/><path d=\"M108.5 31h0.0\"/><path d=\"M40.0 31h20\"/><g>\n",
       "<path d=\"M60.0 31h0.0\"/><path d=\"M88.5 31h0.0\"/><g class=\"terminal\">\n",
       "<path d=\"M60.0 31h0.0\"/><path d=\"M88.5 31h0.0\"/><rect height=\"22\" rx=\"10\" ry=\"10\" width=\"28.5\" x=\"60.0\" y=\"20\"/><text x=\"74.25\" y=\"35\">c</text></g></g><path d=\"M88.5 31h20\"/></g><path d=\"M 108.5 31 h 20 m -10 -10 v 20 m 10 -20 v 20\"/></g></svg>"
      ],
      "text/plain": [
       "<IPython.core.display.SVG object>"
      ]
     },
     "metadata": {},
     "output_type": "display_data"
    },
    {
     "name": "stdout",
     "output_type": "stream",
     "text": [
      "D\n"
     ]
    },
    {
     "data": {
      "image/svg+xml": [
       "<svg class=\"railroad-diagram\" height=\"62\" viewBox=\"0 0 148.5 62\" width=\"148.5\" xmlns=\"http://www.w3.org/2000/svg\">\n",
       "<g transform=\"translate(.5 .5)\">\n",
       "<style>/* <![CDATA[ */\n",
       "    svg.railroad-diagram {\n",
       "        background-color:hsl(100,100%,100%);\n",
       "    }\n",
       "    svg.railroad-diagram path {\n",
       "        stroke-width:3;\n",
       "        stroke:black;\n",
       "        fill:rgba(0,0,0,0);\n",
       "    }\n",
       "    svg.railroad-diagram text {\n",
       "        font:bold 14px monospace;\n",
       "        text-anchor:middle;\n",
       "    }\n",
       "    svg.railroad-diagram text.label{\n",
       "        text-anchor:start;\n",
       "    }\n",
       "    svg.railroad-diagram text.comment{\n",
       "        font:italic 12px monospace;\n",
       "    }\n",
       "    svg.railroad-diagram rect{\n",
       "        stroke-width:3;\n",
       "        stroke:black;\n",
       "        fill:hsl(0,62%,82%);\n",
       "    }\n",
       "\n",
       "/* ]]> */\n",
       "</style><g>\n",
       "<path d=\"M20 21v20m10 -20v20m-10 -10h20\"/></g><g>\n",
       "<path d=\"M40 31h0.0\"/><path d=\"M108.5 31h0.0\"/><path d=\"M40.0 31h20\"/><g>\n",
       "<path d=\"M60.0 31h0.0\"/><path d=\"M88.5 31h0.0\"/><g class=\"terminal\">\n",
       "<path d=\"M60.0 31h0.0\"/><path d=\"M88.5 31h0.0\"/><rect height=\"22\" rx=\"10\" ry=\"10\" width=\"28.5\" x=\"60.0\" y=\"20\"/><text x=\"74.25\" y=\"35\">d</text></g></g><path d=\"M88.5 31h20\"/></g><path d=\"M 108.5 31 h 20 m -10 -10 v 20 m 10 -20 v 20\"/></g></svg>"
      ],
      "text/plain": [
       "<IPython.core.display.SVG object>"
      ]
     },
     "metadata": {},
     "output_type": "display_data"
    }
   ],
   "source": [
    "syntax_diagram(SAMPLE_GRAMMAR)"
   ]
  },
  {
   "cell_type": "markdown",
   "metadata": {
    "slideshow": {
     "slide_type": "notes"
    }
   },
   "source": [
    "The basic idea of Earley parsing is the following:\n",
    "\n",
    "* Start with the alternative expressions corresponding to the START_SYMBOL. These represent the possible ways to parse the string from a high level. Essentially each expression represents a parsing path. Queue each expression in our set of possible parses of the string. The parsed index of an expression is the part of expression that has already been recognized. In the beginning of parse, the parsed index of all expressions is at the beginning. Further, each letter gets a queue of expressions that recognizes that letter at that point in our parse.\n",
    "* Examine our queue of possible parses and check if any of them start with a nonterminal. If it does, then that nonterminal needs to be recognized from the input before the given rule can be parsed. Hence, add the alternative expressions corresponding to the nonterminal to the queue. Do this recursively.\n",
    "* At this point, we are ready to advance. Examine the current letter in the input, and select all expressions that have that particular letter at the parsed index. These expressions can now advance one step. Advance these selected expressions by incrementing their parsed index and add them to the queue of expressions in line for recognizing the next input letter.\n",
    "* If while doing these things, we find that any of the expressions have finished parsing, we fetch its corresponding nonterminal, and advance all expressions that have that nonterminal at their parsed index.\n",
    "* Continue this procedure recursively until all expressions that we have queued for the current letter have been processed. Then start processing the queue for the next letter.\n",
    "\n",
    "We explain each step in detail with examples in the coming sections."
   ]
  },
  {
   "cell_type": "markdown",
   "metadata": {
    "slideshow": {
     "slide_type": "notes"
    }
   },
   "source": [
    "The parser uses dynamic programming to generate a table containing a _forest of possible parses_ at each letter index – the table contains as many columns as there are letters in the input, and each column contains different parsing rules at various stages of the parse.\n",
    "\n",
    "For example, given an input `adcd`, the Column 0 would contain the following:\n",
    "```\n",
    "<start> : ● <A> <B>\n",
    "```\n",
    "which is the starting rule that indicates that we are currently parsing the rule `<start>`, and the parsing state is just before identifying the symbol `<A>`. It would also contain the following which are two alternative paths it could take to complete the parsing.\n",
    "\n",
    "```\n",
    "<A> : ● a <B> c\n",
    "<A> : ● a <A>\n",
    "```"
   ]
  },
  {
   "cell_type": "markdown",
   "metadata": {
    "slideshow": {
     "slide_type": "notes"
    }
   },
   "source": [
    "Column 1 would contain the following, which represents the possible completion after reading `a`.\n",
    "```\n",
    "<A> : a ● <B> c\n",
    "<A> : a ● <A>\n",
    "<B> : ● b <C>\n",
    "<B> : ● <D>\n",
    "<A> : ● a <B> c\n",
    "<A> : ● a <A>\n",
    "<D> : ● d\n",
    "```"
   ]
  },
  {
   "cell_type": "markdown",
   "metadata": {
    "slideshow": {
     "slide_type": "notes"
    }
   },
   "source": [
    "Column 2 would contain the following after reading `d`\n",
    "```\n",
    "<D> : d ●\n",
    "<B> : <D> ●\n",
    "<A> : a <B> ● c\n",
    "```"
   ]
  },
  {
   "cell_type": "markdown",
   "metadata": {
    "slideshow": {
     "slide_type": "notes"
    }
   },
   "source": [
    "Similarly, Column 3 would contain the following after reading `c`\n",
    "```\n",
    "<A> : a <B> c ●\n",
    "<start> : <A> ● <B>\n",
    "<B> : ● b <C>\n",
    "<B> : ● <D>\n",
    "<D> : ● d\n",
    "```"
   ]
  },
  {
   "cell_type": "markdown",
   "metadata": {
    "slideshow": {
     "slide_type": "notes"
    }
   },
   "source": [
    "Finally, Column 4 would contain the following after reading `d`, with the `●` at the end of the `<start>` rule indicating that the parse was successful.\n",
    "```\n",
    "<D> : d ●\n",
    "<B> : <D> ●\n",
    "<start> : <A> <B> ●\n",
    "```"
   ]
  },
  {
   "cell_type": "markdown",
   "metadata": {
    "slideshow": {
     "slide_type": "notes"
    }
   },
   "source": [
    "As you can see from above, we are essentially filling a table (a table is also called a **chart**) of entries based on each letter we read, and the grammar rules that can be applied. This chart gives the parser its other name -- Chart parsing."
   ]
  },
  {
   "cell_type": "markdown",
   "metadata": {
    "slideshow": {
     "slide_type": "notes"
    }
   },
   "source": [
    "### Columns\n",
    "\n",
    "We define the `Column` first. The `Column` is initialized by its own `index` in the input string, and the `letter` at that index. Internally, we also keep track of the states that are added to the column as the parsing progresses."
   ]
  },
  {
   "cell_type": "code",
   "execution_count": 73,
   "metadata": {
    "slideshow": {
     "slide_type": "subslide"
    }
   },
   "outputs": [],
   "source": [
    "class Column(object):\n",
    "    def __init__(self, index, letter):\n",
    "        self.index, self.letter = index, letter\n",
    "        self.states, self._unique = [], {}\n",
    "\n",
    "    def __str__(self):\n",
    "        return \"%s chart[%d]\\n%s\" % (self.letter, self.index, \"\\n\".join(\n",
    "            str(state) for state in self.states if state.finished()))"
   ]
  },
  {
   "cell_type": "markdown",
   "metadata": {
    "slideshow": {
     "slide_type": "notes"
    }
   },
   "source": [
    "The `Column` only stores unique `states`. Hence, when a new `state` is `added` to our `Column`, we check whether it is already known."
   ]
  },
  {
   "cell_type": "code",
   "execution_count": 74,
   "metadata": {
    "slideshow": {
     "slide_type": "subslide"
    }
   },
   "outputs": [],
   "source": [
    "class Column(Column):\n",
    "    def add(self, state):\n",
    "        if state in self._unique:\n",
    "            return self._unique[state]\n",
    "        self._unique[state] = state\n",
    "        self.states.append(state)\n",
    "        state.e_col = self\n",
    "        return self._unique[state]"
   ]
  },
  {
   "cell_type": "markdown",
   "metadata": {
    "slideshow": {
     "slide_type": "notes"
    }
   },
   "source": [
    "### Items\n",
    "\n",
    "An item represents a _parse in progress for a specific rule._ Hence the item contains the name of the nonterminal, and the corresponding alternative expression (`expr`) which together form the rule, and the current position of parsing in this expression -- `dot`.\n",
    "\n",
    "\n",
    "**Note.** If you are familiar with [LR parsing](https://en.wikipedia.org/wiki/LR_parser), you will notice that an item is simply an `LR0` item."
   ]
  },
  {
   "cell_type": "code",
   "execution_count": 75,
   "metadata": {
    "slideshow": {
     "slide_type": "subslide"
    }
   },
   "outputs": [],
   "source": [
    "class Item(object):\n",
    "    def __init__(self, name, expr, dot):\n",
    "        self.name, self.expr, self.dot = name, expr, dot"
   ]
  },
  {
   "cell_type": "markdown",
   "metadata": {
    "slideshow": {
     "slide_type": "notes"
    }
   },
   "source": [
    "We also provide a few convenience methods. The method `finished()` checks if the `dot` has moved beyond the last element in `expr`. The method `advance()` produces a new `Item` with the `dot` advanced one token, and represents an advance of the parsing.  The method `at_dot()` returns the current symbol being parsed."
   ]
  },
  {
   "cell_type": "code",
   "execution_count": 76,
   "metadata": {
    "slideshow": {
     "slide_type": "subslide"
    }
   },
   "outputs": [],
   "source": [
    "class Item(Item):\n",
    "    def finished(self):\n",
    "        return self.dot >= len(self.expr)\n",
    "\n",
    "    def advance(self):\n",
    "        return Item(self.name, self.expr, self.dot + 1)\n",
    "\n",
    "    def at_dot(self):\n",
    "        return self.expr[self.dot] if self.dot < len(self.expr) else None"
   ]
  },
  {
   "cell_type": "markdown",
   "metadata": {
    "slideshow": {
     "slide_type": "fragment"
    }
   },
   "source": [
    "Here is how an item could be used. We first define our item"
   ]
  },
  {
   "cell_type": "code",
   "execution_count": 77,
   "metadata": {
    "slideshow": {
     "slide_type": "subslide"
    }
   },
   "outputs": [],
   "source": [
    "item_name = '<B>'\n",
    "item_expr = C_SAMPLE_GRAMMAR[item_name][1]\n",
    "an_item = Item(item_name, tuple(item_expr), 0)"
   ]
  },
  {
   "cell_type": "markdown",
   "metadata": {
    "slideshow": {
     "slide_type": "fragment"
    }
   },
   "source": [
    "To determine where the status of parsing, we use `at_dot()`"
   ]
  },
  {
   "cell_type": "code",
   "execution_count": 78,
   "metadata": {
    "slideshow": {
     "slide_type": "fragment"
    }
   },
   "outputs": [
    {
     "data": {
      "text/plain": [
       "'<D>'"
      ]
     },
     "execution_count": 78,
     "metadata": {},
     "output_type": "execute_result"
    }
   ],
   "source": [
    "an_item.at_dot()"
   ]
  },
  {
   "cell_type": "markdown",
   "metadata": {
    "slideshow": {
     "slide_type": "fragment"
    }
   },
   "source": [
    "That is, the next symbol to be parsed is `<D>`"
   ]
  },
  {
   "cell_type": "markdown",
   "metadata": {
    "slideshow": {
     "slide_type": "fragment"
    }
   },
   "source": [
    "If we advance the item, we get another item that represents the finished parsing rule `<B>`."
   ]
  },
  {
   "cell_type": "code",
   "execution_count": 79,
   "metadata": {
    "slideshow": {
     "slide_type": "fragment"
    }
   },
   "outputs": [],
   "source": [
    "another_item = an_item.advance()"
   ]
  },
  {
   "cell_type": "code",
   "execution_count": 80,
   "metadata": {
    "slideshow": {
     "slide_type": "fragment"
    }
   },
   "outputs": [
    {
     "data": {
      "text/plain": [
       "True"
      ]
     },
     "execution_count": 80,
     "metadata": {},
     "output_type": "execute_result"
    }
   ],
   "source": [
    "another_item.finished()"
   ]
  },
  {
   "cell_type": "markdown",
   "metadata": {
    "slideshow": {
     "slide_type": "notes"
    }
   },
   "source": [
    "### States\n",
    "\n",
    "For `Earley` parsing, the state of the parsing is simply one `Item` along with some meta information such as the starting `s_col`  and ending column `e_col` for each state. Hence we inherit from `Item` to create a `State`.\n",
    "Since we are interested in comparing states, we define `hash()` and `eq()` with the corresponding methods."
   ]
  },
  {
   "cell_type": "code",
   "execution_count": 81,
   "metadata": {
    "slideshow": {
     "slide_type": "subslide"
    }
   },
   "outputs": [],
   "source": [
    "class State(Item):\n",
    "    def __init__(self, name, expr, dot, s_col, e_col=None):\n",
    "        super().__init__(name, expr, dot)\n",
    "        self.s_col, self.e_col = s_col, e_col\n",
    "\n",
    "    def __str__(self):\n",
    "        def idx(var):\n",
    "            return var.index if var else -1\n",
    "\n",
    "        return self.name + ':= ' + ' '.join([\n",
    "            str(p)\n",
    "            for p in [*self.expr[:self.dot], '|', *self.expr[self.dot:]]\n",
    "        ]) + \"(%d,%d)\" % (idx(self.s_col), idx(self.e_col))\n",
    "\n",
    "    def copy(self):\n",
    "        return State(self.name, self.expr, self.dot, self.s_col, self.e_col)\n",
    "\n",
    "    def _t(self):\n",
    "        return (self.name, self.expr, self.dot, self.s_col.index)\n",
    "\n",
    "    def __hash__(self):\n",
    "        return hash(self._t())\n",
    "\n",
    "    def __eq__(self, other):\n",
    "        return self._t() == other._t()\n",
    "\n",
    "    def advance(self):\n",
    "        return State(self.name, self.expr, self.dot + 1, self.s_col)"
   ]
  },
  {
   "cell_type": "markdown",
   "metadata": {
    "slideshow": {
     "slide_type": "subslide"
    }
   },
   "source": [
    "The usage of `State` is similar to that of `Item`. The only difference is that it is used along with the `Column` to track the parsing state. For example, we initialize the first column as follows:"
   ]
  },
  {
   "cell_type": "code",
   "execution_count": 82,
   "metadata": {
    "slideshow": {
     "slide_type": "fragment"
    }
   },
   "outputs": [
    {
     "data": {
      "text/plain": [
       "'<A>'"
      ]
     },
     "execution_count": 82,
     "metadata": {},
     "output_type": "execute_result"
    }
   ],
   "source": [
    "col_0 = Column(0, None)\n",
    "item_expr = tuple(*C_SAMPLE_GRAMMAR[START_SYMBOL])\n",
    "start_state = State(START_SYMBOL, item_expr, 0, col_0)\n",
    "col_0.add(start_state)\n",
    "start_state.at_dot()"
   ]
  },
  {
   "cell_type": "markdown",
   "metadata": {
    "slideshow": {
     "slide_type": "fragment"
    }
   },
   "source": [
    "The first column is then updated by using `add()` method of `Column`"
   ]
  },
  {
   "cell_type": "code",
   "execution_count": 83,
   "metadata": {
    "slideshow": {
     "slide_type": "subslide"
    }
   },
   "outputs": [
    {
     "name": "stdout",
     "output_type": "stream",
     "text": [
      "<start>:= | <A> <B>(0,0)\n",
      "<A>:= | a <B> c(0,0)\n",
      "<A>:= | a <A>(0,0)\n"
     ]
    }
   ],
   "source": [
    "sym = start_state.at_dot()\n",
    "for alt in C_SAMPLE_GRAMMAR[sym]:\n",
    "    col_0.add(State(sym, tuple(alt), 0, col_0))\n",
    "for s in col_0.states:\n",
    "    print(s)"
   ]
  },
  {
   "cell_type": "markdown",
   "metadata": {
    "slideshow": {
     "slide_type": "subslide"
    },
    "toc-hr-collapsed": false
   },
   "source": [
    "### The Parsing Algorithm"
   ]
  },
  {
   "cell_type": "markdown",
   "metadata": {
    "slideshow": {
     "slide_type": "notes"
    }
   },
   "source": [
    "The _Earley_ algorithm starts by initializing the chart with columns (as many as there are letters in the input). We also seed the first column with a state representing the expression corresponding to the start symbol. In our case, the state corresponds to the start symbol with the `dot` at `0` is represented as below. The `●` symbol represents the parsing status. In this case, we have not parsed anything.\n",
    "```\n",
    "<start>: ● <A> <B>\n",
    "```\n",
    "We pass this partial chart to a method for filling the rest of the parse chart."
   ]
  },
  {
   "cell_type": "code",
   "execution_count": 84,
   "metadata": {
    "slideshow": {
     "slide_type": "subslide"
    }
   },
   "outputs": [],
   "source": [
    "class EarleyParser(Parser):\n",
    "    def __init__(self, grammar, **kwargs):\n",
    "        super().__init__(grammar, **kwargs)\n",
    "        self.cgrammar = canonical(grammar, letters=True)"
   ]
  },
  {
   "cell_type": "markdown",
   "metadata": {
    "slideshow": {
     "slide_type": "notes"
    }
   },
   "source": [
    "Before starting to parse, we seed the chart with the state representing the ongoing parse of the start symbol."
   ]
  },
  {
   "cell_type": "code",
   "execution_count": 85,
   "metadata": {
    "slideshow": {
     "slide_type": "subslide"
    }
   },
   "outputs": [],
   "source": [
    "class EarleyParser(EarleyParser):\n",
    "    def chart_parse(self, words, start):\n",
    "        alt = tuple(*self.cgrammar[start])\n",
    "        chart = [Column(i, tok) for i, tok in enumerate([None, *words])]\n",
    "        chart[0].add(State(start, alt, 0, chart[0]))\n",
    "        return self.fill_chart(chart)"
   ]
  },
  {
   "cell_type": "markdown",
   "metadata": {
    "slideshow": {
     "slide_type": "notes"
    }
   },
   "source": [
    "The main parsing loop in `fill_chart()` has three fundamental operations. `predict()`, `scan()`, and `complete()`. We discuss `predict` next."
   ]
  },
  {
   "cell_type": "markdown",
   "metadata": {
    "slideshow": {
     "slide_type": "notes"
    }
   },
   "source": [
    "### Predicting States\n",
    "\n",
    "We have already seeded `chart[0]` with a state `[<A>,<B>]` with `dot` at `0`. Next, given that `<A>` is a nonterminal, we `predict` the possible parse continuations of this state. That is, it could be either `a <B> c` or `A <A>`.\n",
    "\n",
    "The general idea of `predict()` is as follows: Say you have a state with name `<A>` from the above grammar, and expression containing `[a,<B>,c]`. Imagine that you have seen `a` already, which means that the `dot` will be on `<B>`. Below, is a representation of our parse status. The left hand side of ● represents the portion already parsed (`a`), and the right hand side represents the portion yet to be parsed (`<B> c`).\n",
    "\n",
    "```\n",
    "<A>: a  ●  <B> c\n",
    "```"
   ]
  },
  {
   "cell_type": "markdown",
   "metadata": {
    "slideshow": {
     "slide_type": "notes"
    }
   },
   "source": [
    "To recognize `<B>`, we look at the definition of `<B>`, which has different alternative expressions. The `predict()` step adds each of these alternatives to the set of states, with `dot` at `0`.\n",
    "\n",
    "```\n",
    "<A>: a ● <B> c\n",
    "<B>: ● b c\n",
    "<B>: ● <D>\n",
    "```\n",
    "\n",
    "In essence, the `predict()` method, when called with the current nonterminal, fetches the alternative expressions corresponding to this nonterminal, and adds these as predicted _child_ states to the _current_ column."
   ]
  },
  {
   "cell_type": "code",
   "execution_count": 86,
   "metadata": {
    "slideshow": {
     "slide_type": "subslide"
    }
   },
   "outputs": [],
   "source": [
    "class EarleyParser(EarleyParser):\n",
    "    def predict(self, col, sym, state):\n",
    "        for alt in self.cgrammar[sym]:\n",
    "            col.add(State(sym, tuple(alt), 0, col))"
   ]
  },
  {
   "cell_type": "markdown",
   "metadata": {
    "slideshow": {
     "slide_type": "fragment"
    }
   },
   "source": [
    "To see how to use `predict`, we first construct the 0th column as before, and we assign the constructed column to an instance of the EarleyParser."
   ]
  },
  {
   "cell_type": "code",
   "execution_count": 87,
   "metadata": {
    "slideshow": {
     "slide_type": "fragment"
    }
   },
   "outputs": [],
   "source": [
    "col_0 = Column(0, None)\n",
    "col_0.add(start_state)\n",
    "ep = EarleyParser(SAMPLE_GRAMMAR)\n",
    "ep.chart = [col_0]"
   ]
  },
  {
   "cell_type": "markdown",
   "metadata": {
    "slideshow": {
     "slide_type": "fragment"
    }
   },
   "source": [
    "It should contain a single state -- `<start> at 0`"
   ]
  },
  {
   "cell_type": "code",
   "execution_count": 88,
   "metadata": {
    "slideshow": {
     "slide_type": "subslide"
    }
   },
   "outputs": [
    {
     "name": "stdout",
     "output_type": "stream",
     "text": [
      "<start>:= | <A> <B>(0,0)\n"
     ]
    }
   ],
   "source": [
    "for s in ep.chart[0].states:\n",
    "    print(s)"
   ]
  },
  {
   "cell_type": "markdown",
   "metadata": {
    "slideshow": {
     "slide_type": "fragment"
    }
   },
   "source": [
    "We apply predict to fill out the 0th column, and the column should contain the possible parse paths."
   ]
  },
  {
   "cell_type": "code",
   "execution_count": 89,
   "metadata": {
    "slideshow": {
     "slide_type": "fragment"
    }
   },
   "outputs": [
    {
     "name": "stdout",
     "output_type": "stream",
     "text": [
      "<start>:= | <A> <B>(0,0)\n",
      "<A>:= | a <B> c(0,0)\n",
      "<A>:= | a <A>(0,0)\n"
     ]
    }
   ],
   "source": [
    "ep.predict(col_0, '<A>', s)\n",
    "for s in ep.chart[0].states:\n",
    "    print(s)"
   ]
  },
  {
   "cell_type": "markdown",
   "metadata": {
    "slideshow": {
     "slide_type": "notes"
    }
   },
   "source": [
    "### Scanning Tokens\n",
    "\n",
    "What if rather than a nonterminal, the state contained a terminal symbol such as a letter? In that case, we are ready to make some progress. For example, consider the second state:\n",
    "```\n",
    "<B>: ● b c\n",
    "```\n",
    "We `scan` the next column's letter. Say the next token is `b`.\n",
    "If the letter matches what we have, then create a new state by advancing the current state by one letter.\n",
    "\n",
    "```\n",
    "<B>: b ● c\n",
    "```\n",
    "This new state is added to the next column (i.e the column that has the matched letter)."
   ]
  },
  {
   "cell_type": "code",
   "execution_count": 90,
   "metadata": {
    "slideshow": {
     "slide_type": "subslide"
    }
   },
   "outputs": [],
   "source": [
    "class EarleyParser(EarleyParser):\n",
    "    def scan(self, col, state, letter):\n",
    "        if letter == col.letter:\n",
    "            col.add(state.advance())"
   ]
  },
  {
   "cell_type": "markdown",
   "metadata": {
    "slideshow": {
     "slide_type": "fragment"
    }
   },
   "source": [
    "As before, we construct the partial parse first, this time adding a new column so that we can observe the effects of `scan()`"
   ]
  },
  {
   "cell_type": "code",
   "execution_count": 91,
   "metadata": {
    "slideshow": {
     "slide_type": "fragment"
    }
   },
   "outputs": [],
   "source": [
    "ep = EarleyParser(SAMPLE_GRAMMAR)\n",
    "col_1 = Column(1, 'a')\n",
    "ep.chart = [col_0, col_1]"
   ]
  },
  {
   "cell_type": "code",
   "execution_count": 92,
   "metadata": {
    "slideshow": {
     "slide_type": "fragment"
    }
   },
   "outputs": [
    {
     "name": "stdout",
     "output_type": "stream",
     "text": [
      "<A>:= | a <B> c(0,0)\n"
     ]
    }
   ],
   "source": [
    "new_state = ep.chart[0].states[1]\n",
    "print(new_state)"
   ]
  },
  {
   "cell_type": "code",
   "execution_count": 93,
   "metadata": {
    "slideshow": {
     "slide_type": "subslide"
    }
   },
   "outputs": [
    {
     "name": "stdout",
     "output_type": "stream",
     "text": [
      "<A>:= a | <B> c(0,1)\n"
     ]
    }
   ],
   "source": [
    "ep.scan(col_1, new_state, 'a')\n",
    "for s in ep.chart[1].states:\n",
    "    print(s)"
   ]
  },
  {
   "cell_type": "markdown",
   "metadata": {
    "slideshow": {
     "slide_type": "notes"
    }
   },
   "source": [
    "### Completing Processing\n",
    "\n",
    "When we advance, what if we actually `complete()` the processing of the current rule? If so, we want to update not just this state, but also all the _parent_ states from which this state was derived.\n",
    "For example, say we have states as below.\n",
    "```\n",
    "<A>: a ● <B> c\n",
    "<B>: b c ● \n",
    "```\n",
    "The state `<B>: b c ●` is now complete. So, we need to advance `<A>: a ● <B> c` one step forward.\n",
    "\n",
    "How do we determine the parent states? Note from `predict` that we added the predicted child states to the _same_ column as that of the inspected state. Hence, we look at the starting column of the current state, with the same symbol `at_dot` as that of the name of the completed state.\n",
    "\n",
    "For each such parent found, we advance that parent (because we have just finished parsing that non terminal for their `at_dot`) and add the new states to the current column."
   ]
  },
  {
   "cell_type": "code",
   "execution_count": 94,
   "metadata": {
    "slideshow": {
     "slide_type": "subslide"
    }
   },
   "outputs": [],
   "source": [
    "class EarleyParser(EarleyParser):\n",
    "    def complete(self, col, state):\n",
    "        return self.earley_complete(col, state)\n",
    "\n",
    "    def earley_complete(self, col, state):\n",
    "        parent_states = [\n",
    "            st for st in state.s_col.states if st.at_dot() == state.name\n",
    "        ]\n",
    "        for st in parent_states:\n",
    "            col.add(st.advance())"
   ]
  },
  {
   "cell_type": "markdown",
   "metadata": {
    "slideshow": {
     "slide_type": "fragment"
    }
   },
   "source": [
    "Here is an example of completed processing. First we complete the Column 0"
   ]
  },
  {
   "cell_type": "code",
   "execution_count": 95,
   "metadata": {
    "slideshow": {
     "slide_type": "subslide"
    }
   },
   "outputs": [
    {
     "name": "stdout",
     "output_type": "stream",
     "text": [
      "<start>:= | <A> <B>(0,0)\n",
      "<A>:= | a <B> c(0,0)\n",
      "<A>:= | a <A>(0,0)\n"
     ]
    }
   ],
   "source": [
    "ep = EarleyParser(SAMPLE_GRAMMAR)\n",
    "col_1 = Column(1, 'a')\n",
    "col_2 = Column(2, 'd')\n",
    "ep.chart = [col_0, col_1, col_2]\n",
    "ep.predict(col_0, '<A>', s)\n",
    "for s in ep.chart[0].states:\n",
    "    print(s)"
   ]
  },
  {
   "cell_type": "markdown",
   "metadata": {
    "slideshow": {
     "slide_type": "fragment"
    }
   },
   "source": [
    "Then we use `scan()` to populate Column 1"
   ]
  },
  {
   "cell_type": "code",
   "execution_count": 96,
   "metadata": {
    "slideshow": {
     "slide_type": "subslide"
    }
   },
   "outputs": [
    {
     "name": "stdout",
     "output_type": "stream",
     "text": [
      "<A>:= a | <B> c(0,1)\n",
      "<A>:= a | <A>(0,1)\n"
     ]
    }
   ],
   "source": [
    "for state in ep.chart[0].states:\n",
    "    if state.at_dot() not in SAMPLE_GRAMMAR:\n",
    "        ep.scan(col_1, state, 'a')\n",
    "for s in ep.chart[1].states:\n",
    "    print(s)"
   ]
  },
  {
   "cell_type": "code",
   "execution_count": 97,
   "metadata": {
    "slideshow": {
     "slide_type": "subslide"
    }
   },
   "outputs": [
    {
     "name": "stdout",
     "output_type": "stream",
     "text": [
      "<A>:= a | <B> c(0,1)\n",
      "<A>:= a | <A>(0,1)\n",
      "<B>:= | b <C>(1,1)\n",
      "<B>:= | <D>(1,1)\n",
      "<A>:= | a <B> c(1,1)\n",
      "<A>:= | a <A>(1,1)\n",
      "<D>:= | d(1,1)\n"
     ]
    }
   ],
   "source": [
    "for state in ep.chart[1].states:\n",
    "    if state.at_dot() in SAMPLE_GRAMMAR:\n",
    "        ep.predict(col_1, state.at_dot(), state)\n",
    "for s in ep.chart[1].states:\n",
    "    print(s)"
   ]
  },
  {
   "cell_type": "markdown",
   "metadata": {
    "slideshow": {
     "slide_type": "fragment"
    }
   },
   "source": [
    "Then we use `scan()` again to populate Column 2"
   ]
  },
  {
   "cell_type": "code",
   "execution_count": 98,
   "metadata": {
    "slideshow": {
     "slide_type": "subslide"
    }
   },
   "outputs": [
    {
     "name": "stdout",
     "output_type": "stream",
     "text": [
      "<D>:= d |(1,2)\n"
     ]
    }
   ],
   "source": [
    "for state in ep.chart[1].states:\n",
    "    if state.at_dot() not in SAMPLE_GRAMMAR:\n",
    "        ep.scan(col_2, state, state.at_dot())\n",
    "\n",
    "for s in ep.chart[2].states:\n",
    "    print(s)"
   ]
  },
  {
   "cell_type": "markdown",
   "metadata": {
    "slideshow": {
     "slide_type": "fragment"
    }
   },
   "source": [
    "Now, we can use `complete()`:"
   ]
  },
  {
   "cell_type": "code",
   "execution_count": 99,
   "metadata": {
    "slideshow": {
     "slide_type": "subslide"
    }
   },
   "outputs": [
    {
     "name": "stdout",
     "output_type": "stream",
     "text": [
      "<D>:= d |(1,2)\n",
      "<B>:= <D> |(1,2)\n",
      "<A>:= a <B> | c(0,2)\n"
     ]
    }
   ],
   "source": [
    "for state in ep.chart[2].states:\n",
    "    if state.finished():\n",
    "        ep.complete(col_2, state)\n",
    "\n",
    "for s in ep.chart[2].states:\n",
    "    print(s)"
   ]
  },
  {
   "cell_type": "markdown",
   "metadata": {
    "slideshow": {
     "slide_type": "notes"
    }
   },
   "source": [
    "### Filling the Chart\n",
    "\n",
    "The main driving loop in `fill_chart()` essentially calls these operations in order. We loop over each column in order.\n",
    "* For each column, fetch one state in the column at a time, and check if the state is `finished`. \n",
    "    * If it is, then we `complete()` all the parent states depending on this state. \n",
    "* If the state was not finished, we check to see if the state's current symbol `at_dot` is a nonterminal. \n",
    "    * If it is a nonterminal, we `predict()` possible continuations, and update the current column with these states. \n",
    "    * If it was not, we `scan()` the next column and advance the current state if it matches the next letter."
   ]
  },
  {
   "cell_type": "code",
   "execution_count": 100,
   "metadata": {
    "slideshow": {
     "slide_type": "subslide"
    }
   },
   "outputs": [],
   "source": [
    "class EarleyParser(EarleyParser):\n",
    "    def fill_chart(self, chart):\n",
    "        for i, col in enumerate(chart):\n",
    "            for state in col.states:\n",
    "                if state.finished():\n",
    "                    self.complete(col, state)\n",
    "                else:\n",
    "                    sym = state.at_dot()\n",
    "                    if sym in self.cgrammar:\n",
    "                        self.predict(col, sym, state)\n",
    "                    else:\n",
    "                        if i + 1 >= len(chart):\n",
    "                            continue\n",
    "                        self.scan(chart[i + 1], state, sym)\n",
    "            if self.log:\n",
    "                print(col, '\\n')\n",
    "        return chart"
   ]
  },
  {
   "cell_type": "markdown",
   "metadata": {
    "slideshow": {
     "slide_type": "subslide"
    }
   },
   "source": [
    "We now can recognize a given string as belonging to a language represented by a grammar."
   ]
  },
  {
   "cell_type": "code",
   "execution_count": 101,
   "metadata": {
    "slideshow": {
     "slide_type": "subslide"
    }
   },
   "outputs": [
    {
     "name": "stdout",
     "output_type": "stream",
     "text": [
      "None chart[0]\n",
      " \n",
      "\n",
      "a chart[1]\n",
      " \n",
      "\n",
      "d chart[2]\n",
      "<D>:= d |(1,2)\n",
      "<B>:= <D> |(1,2) \n",
      "\n",
      "c chart[3]\n",
      "<A>:= a <B> c |(0,3) \n",
      "\n",
      "d chart[4]\n",
      "<D>:= d |(3,4)\n",
      "<B>:= <D> |(3,4)\n",
      "<start>:= <A> <B> |(0,4) \n",
      "\n"
     ]
    }
   ],
   "source": [
    "ep = EarleyParser(SAMPLE_GRAMMAR, log=True)\n",
    "columns = ep.chart_parse('adcd', START_SYMBOL)"
   ]
  },
  {
   "cell_type": "markdown",
   "metadata": {
    "slideshow": {
     "slide_type": "subslide"
    }
   },
   "source": [
    "The chart we printed above only shows completed entries at each index. The parenthesized expression indicates the column just before the first character was recognized, and the ending column.\n",
    "\n",
    "Notice how the `<start>` nonterminal shows fully parsed status."
   ]
  },
  {
   "cell_type": "code",
   "execution_count": 102,
   "metadata": {
    "slideshow": {
     "slide_type": "fragment"
    }
   },
   "outputs": [
    {
     "name": "stdout",
     "output_type": "stream",
     "text": [
      "<start>:= <A> <B> |(0,4)\n"
     ]
    }
   ],
   "source": [
    "last_col = columns[-1]\n",
    "for s in last_col.states:\n",
    "    if s.name == '<start>':\n",
    "        print(s)"
   ]
  },
  {
   "cell_type": "markdown",
   "metadata": {
    "slideshow": {
     "slide_type": "notes"
    }
   },
   "source": [
    "Since `chart_parse()` returns the completed table, we now need to extract the derivation trees."
   ]
  },
  {
   "cell_type": "markdown",
   "metadata": {
    "slideshow": {
     "slide_type": "notes"
    }
   },
   "source": [
    "### The Parse Method\n",
    "\n",
    "For determining how far we have managed to parse, we simply look for the last index from `chart_parse()` where the `start_symbol` was found."
   ]
  },
  {
   "cell_type": "code",
   "execution_count": 103,
   "metadata": {
    "slideshow": {
     "slide_type": "subslide"
    }
   },
   "outputs": [],
   "source": [
    "class EarleyParser(EarleyParser):\n",
    "    def parse_prefix(self, text):\n",
    "        self.table = self.chart_parse(text, self.start_symbol())\n",
    "        for col in reversed(self.table):\n",
    "            states = [\n",
    "                st for st in col.states if st.name == self.start_symbol()\n",
    "            ]\n",
    "            if states:\n",
    "                return col.index, states\n",
    "        return -1, []"
   ]
  },
  {
   "cell_type": "markdown",
   "metadata": {
    "slideshow": {
     "slide_type": "subslide"
    }
   },
   "source": [
    "Here is the `parse_prefix()` in action."
   ]
  },
  {
   "cell_type": "code",
   "execution_count": 104,
   "metadata": {
    "slideshow": {
     "slide_type": "fragment"
    }
   },
   "outputs": [
    {
     "name": "stdout",
     "output_type": "stream",
     "text": [
      "4 ['<start>:= <A> <B> |(0,4)']\n"
     ]
    }
   ],
   "source": [
    "ep = EarleyParser(SAMPLE_GRAMMAR)\n",
    "cursor, last_states = ep.parse_prefix('adcd')\n",
    "print(cursor, [str(s) for s in last_states])"
   ]
  },
  {
   "cell_type": "markdown",
   "metadata": {
    "slideshow": {
     "slide_type": "subslide"
    }
   },
   "source": [
    "The following is adapted from the excellent reference on Earley parsing by [Loup Vaillant](http://loup-vaillant.fr/tutorials/earley-parsing/).\n"
   ]
  },
  {
   "cell_type": "markdown",
   "metadata": {
    "slideshow": {
     "slide_type": "fragment"
    }
   },
   "source": [
    "Our `parse()` method is as follows. It depends on two methods `parse_forest()` and `extract_trees()` that will be defined next."
   ]
  },
  {
   "cell_type": "code",
   "execution_count": 105,
   "metadata": {
    "slideshow": {
     "slide_type": "subslide"
    }
   },
   "outputs": [],
   "source": [
    "class EarleyParser(EarleyParser):\n",
    "    def parse(self, text):\n",
    "        cursor, states = self.parse_prefix(text)\n",
    "        start = next((s for s in states if s.finished()), None)\n",
    "        if cursor < len(text) or not start:\n",
    "            raise SyntaxError(\"at \" + repr(text[cursor:]))\n",
    "\n",
    "        forest = self.extract_trees(self.parse_forest(self.table, start))\n",
    "        return [self.prune_tree(tree) for tree in forest]"
   ]
  },
  {
   "cell_type": "markdown",
   "metadata": {
    "slideshow": {
     "slide_type": "notes"
    }
   },
   "source": [
    "### Parsing Paths\n",
    "\n",
    "The `parse_paths()` method tries to unify the given expression in `named_expr` with the parsed string. For that, it extracts the last symbol in `named_expr` and checks if it is a terminal symbol. If it is, then it checks the chart at `til` to see if the letter corresponding to the position matches the terminal symbol. If it does, extend our start index by the length of the symbol.\n",
    "\n",
    "If the symbol was a nonterminal symbol, then we retrieve the parsed states at the current end column index (`til`) that correspond to the nonterminal symbol, and collect the start index. These are the end column indexes for the remaining expression.\n",
    "\n",
    "Given our list of start indexes, we obtain the parse paths from the remaining expression. If we can obtain any, then we return the parse paths. If not, we return an empty list."
   ]
  },
  {
   "cell_type": "code",
   "execution_count": 106,
   "metadata": {
    "slideshow": {
     "slide_type": "subslide"
    }
   },
   "outputs": [],
   "source": [
    "class EarleyParser(EarleyParser):\n",
    "    def parse_paths(self, named_expr, chart, frm, til):\n",
    "        def paths(state, start, k, e):\n",
    "            if not e:\n",
    "                return [[(state, k)]] if start == frm else []\n",
    "            else:\n",
    "                return [[(state, k)] + r\n",
    "                        for r in self.parse_paths(e, chart, frm, start)]\n",
    "\n",
    "        *expr, var = named_expr\n",
    "        starts = None\n",
    "        if var not in self.cgrammar:\n",
    "            starts = ([(var, til - len(var),\n",
    "                        't')] if til > 0 and chart[til].letter == var else [])\n",
    "        else:\n",
    "            starts = [(s, s.s_col.index, 'n') for s in chart[til].states\n",
    "                      if s.finished() and s.name == var]\n",
    "\n",
    "        return [p for s, start, k in starts for p in paths(s, start, k, expr)]"
   ]
  },
  {
   "cell_type": "markdown",
   "metadata": {
    "slideshow": {
     "slide_type": "subslide"
    }
   },
   "source": [
    "Here is the `parse_paths()` in action"
   ]
  },
  {
   "cell_type": "code",
   "execution_count": 107,
   "metadata": {
    "slideshow": {
     "slide_type": "fragment"
    }
   },
   "outputs": [
    {
     "name": "stdout",
     "output_type": "stream",
     "text": [
      "['<A><B>']\n",
      "[['<B>:= <D> |(3,4)', 'n'], ['<A>:= a <B> c |(0,3)', 'n']]\n"
     ]
    }
   ],
   "source": [
    "print(SAMPLE_GRAMMAR['<start>'])\n",
    "ep = EarleyParser(SAMPLE_GRAMMAR)\n",
    "completed_start = last_states[0]\n",
    "paths = ep.parse_paths(completed_start.expr, columns, 0, 4)\n",
    "for path in paths:\n",
    "    print([list(str(s_) for s_ in s) for s in path])"
   ]
  },
  {
   "cell_type": "markdown",
   "metadata": {
    "slideshow": {
     "slide_type": "fragment"
    }
   },
   "source": [
    "That is, the parse path for `<start>` given the input `adcd` included recognizing the expression `<A><B>`. This was recognized by the two states: `<A>` from input(0) to input(2) which further involved recognizing the rule `a<B>c`, and the next state `<B>` from input(3) which involved recognizing the rule `<D>`."
   ]
  },
  {
   "cell_type": "markdown",
   "metadata": {
    "slideshow": {
     "slide_type": "notes"
    }
   },
   "source": [
    "### Parsing Forests\n",
    "\n",
    "The `parse_forest()` method takes the state which represents the completed parse, and determines the possible ways that its expressions corresponded to the parsed expression. For example, say we are parsing `1+2+3`, and the state has `[<expr>,+,<expr>]` in `expr`. It could have been parsed as either `[{<expr>:1+2},+,{<expr>:3}]` or `[{<expr>:1},+,{<expr>:2+3}]`."
   ]
  },
  {
   "cell_type": "code",
   "execution_count": 108,
   "metadata": {
    "slideshow": {
     "slide_type": "subslide"
    }
   },
   "outputs": [],
   "source": [
    "class EarleyParser(EarleyParser):\n",
    "    def parse_forest(self, chart, state):\n",
    "        def forest(s, kind):\n",
    "            return self.parse_forest(chart, s) if kind == 'n' else (s, [])\n",
    "\n",
    "        pathexprs = self.parse_paths(state.expr, chart, state.s_col.index,\n",
    "                                     state.e_col.index) if state.expr else []\n",
    "        return state.name, [[forest(v, k) for v, k in reversed(pathexpr)]\n",
    "                            for pathexpr in pathexprs]"
   ]
  },
  {
   "cell_type": "code",
   "execution_count": 109,
   "metadata": {
    "slideshow": {
     "slide_type": "fragment"
    }
   },
   "outputs": [
    {
     "data": {
      "text/plain": [
       "('<start>',\n",
       " [[('<A>', [[('a', []), ('<B>', [[('<D>', [[('d', [])]])]]), ('c', [])]]),\n",
       "   ('<B>', [[('<D>', [[('d', [])]])]])]])"
      ]
     },
     "execution_count": 109,
     "metadata": {},
     "output_type": "execute_result"
    }
   ],
   "source": [
    "ep = EarleyParser(SAMPLE_GRAMMAR)\n",
    "result = ep.parse_forest(columns, last_states[0])\n",
    "result"
   ]
  },
  {
   "cell_type": "markdown",
   "metadata": {
    "slideshow": {
     "slide_type": "notes"
    }
   },
   "source": [
    "### Extracting Trees"
   ]
  },
  {
   "cell_type": "markdown",
   "metadata": {
    "slideshow": {
     "slide_type": "notes"
    }
   },
   "source": [
    "What we have from `parse_forest()` is a forest of trees. We need to extract a single tree from that forest. That is accomplished as follows."
   ]
  },
  {
   "cell_type": "markdown",
   "metadata": {
    "slideshow": {
     "slide_type": "skip"
    }
   },
   "source": [
    "(For now, we return the first available derivation tree. To do that, we need to extract the parse forest from the state corresponding to `start`.)"
   ]
  },
  {
   "cell_type": "code",
   "execution_count": 110,
   "metadata": {
    "slideshow": {
     "slide_type": "subslide"
    }
   },
   "outputs": [],
   "source": [
    "class EarleyParser(EarleyParser):\n",
    "    def extract_a_tree(self, forest_node):\n",
    "        name, paths = forest_node\n",
    "        if not paths:\n",
    "            return (name, [])\n",
    "        return (name, [self.extract_a_tree(p) for p in paths[0]])\n",
    "\n",
    "    def extract_trees(self, forest):\n",
    "        return [self.extract_a_tree(forest)]"
   ]
  },
  {
   "cell_type": "markdown",
   "metadata": {
    "slideshow": {
     "slide_type": "skip"
    }
   },
   "source": [
    "We now verify that our parser can parse a given expression."
   ]
  },
  {
   "cell_type": "code",
   "execution_count": 111,
   "metadata": {
    "slideshow": {
     "slide_type": "subslide"
    }
   },
   "outputs": [],
   "source": [
    "A3_GRAMMAR = {\n",
    "    \"<start>\": [\"<expr>\"],\n",
    "    \"<expr>\": [\"<expr>+<expr>\", \"<expr>-<expr>\", \"(<expr>)\", \"<integer>\"],\n",
    "    \"<integer>\": [\"<digit><integer>\", \"<digit>\"],\n",
    "    \"<digit>\": [\"0\", \"1\", \"2\", \"3\", \"4\", \"5\", \"6\", \"7\", \"8\", \"9\"]\n",
    "}"
   ]
  },
  {
   "cell_type": "code",
   "execution_count": 112,
   "metadata": {
    "slideshow": {
     "slide_type": "subslide"
    }
   },
   "outputs": [
    {
     "name": "stdout",
     "output_type": "stream",
     "text": [
      "start\n"
     ]
    },
    {
     "data": {
      "image/svg+xml": [
       "<svg class=\"railroad-diagram\" height=\"62\" viewBox=\"0 0 174.0 62\" width=\"174.0\" xmlns=\"http://www.w3.org/2000/svg\">\n",
       "<g transform=\"translate(.5 .5)\">\n",
       "<style>/* <![CDATA[ */\n",
       "    svg.railroad-diagram {\n",
       "        background-color:hsl(100,100%,100%);\n",
       "    }\n",
       "    svg.railroad-diagram path {\n",
       "        stroke-width:3;\n",
       "        stroke:black;\n",
       "        fill:rgba(0,0,0,0);\n",
       "    }\n",
       "    svg.railroad-diagram text {\n",
       "        font:bold 14px monospace;\n",
       "        text-anchor:middle;\n",
       "    }\n",
       "    svg.railroad-diagram text.label{\n",
       "        text-anchor:start;\n",
       "    }\n",
       "    svg.railroad-diagram text.comment{\n",
       "        font:italic 12px monospace;\n",
       "    }\n",
       "    svg.railroad-diagram rect{\n",
       "        stroke-width:3;\n",
       "        stroke:black;\n",
       "        fill:hsl(0,62%,82%);\n",
       "    }\n",
       "\n",
       "/* ]]> */\n",
       "</style><g>\n",
       "<path d=\"M20 21v20m10 -20v20m-10 -10h20\"/></g><g>\n",
       "<path d=\"M40 31h0.0\"/><path d=\"M134.0 31h0.0\"/><path d=\"M40.0 31h20\"/><g>\n",
       "<path d=\"M60.0 31h0.0\"/><path d=\"M114.0 31h0.0\"/><g class=\"non-terminal\">\n",
       "<path d=\"M60.0 31h0.0\"/><path d=\"M114.0 31h0.0\"/><rect height=\"22\" width=\"54.0\" x=\"60.0\" y=\"20\"/><text x=\"87.0\" y=\"35\">expr</text></g></g><path d=\"M114.0 31h20\"/></g><path d=\"M 134.0 31 h 20 m -10 -10 v 20 m 10 -20 v 20\"/></g></svg>"
      ],
      "text/plain": [
       "<IPython.core.display.SVG object>"
      ]
     },
     "metadata": {},
     "output_type": "display_data"
    },
    {
     "name": "stdout",
     "output_type": "stream",
     "text": [
      "expr\n"
     ]
    },
    {
     "data": {
      "image/svg+xml": [
       "<svg class=\"railroad-diagram\" height=\"152\" viewBox=\"0 0 296.5 152\" width=\"296.5\" xmlns=\"http://www.w3.org/2000/svg\">\n",
       "<g transform=\"translate(.5 .5)\">\n",
       "<style>/* <![CDATA[ */\n",
       "    svg.railroad-diagram {\n",
       "        background-color:hsl(100,100%,100%);\n",
       "    }\n",
       "    svg.railroad-diagram path {\n",
       "        stroke-width:3;\n",
       "        stroke:black;\n",
       "        fill:rgba(0,0,0,0);\n",
       "    }\n",
       "    svg.railroad-diagram text {\n",
       "        font:bold 14px monospace;\n",
       "        text-anchor:middle;\n",
       "    }\n",
       "    svg.railroad-diagram text.label{\n",
       "        text-anchor:start;\n",
       "    }\n",
       "    svg.railroad-diagram text.comment{\n",
       "        font:italic 12px monospace;\n",
       "    }\n",
       "    svg.railroad-diagram rect{\n",
       "        stroke-width:3;\n",
       "        stroke:black;\n",
       "        fill:hsl(0,62%,82%);\n",
       "    }\n",
       "\n",
       "/* ]]> */\n",
       "</style><g>\n",
       "<path d=\"M20 81v20m10 -20v20m-10 -10h20\"/></g><g>\n",
       "<path d=\"M40 91h0.0\"/><path d=\"M256.5 91h0.0\"/><path d=\"M40.0 91a10 10 0 0 0 10 -10v-10a10 10 0 0 1 10 -10\"/><g>\n",
       "<path d=\"M60.0 61h0.0\"/><path d=\"M236.5 61h0.0\"/><g class=\"non-terminal\">\n",
       "<path d=\"M60.0 61h0.0\"/><path d=\"M114.0 61h0.0\"/><rect height=\"22\" width=\"54.0\" x=\"60.0\" y=\"50\"/><text x=\"87.0\" y=\"65\">expr</text></g><path d=\"M114.0 61h10\"/><path d=\"M124.0 61h10\"/><g class=\"terminal\">\n",
       "<path d=\"M134.0 61h0.0\"/><path d=\"M162.5 61h0.0\"/><rect height=\"22\" rx=\"10\" ry=\"10\" width=\"28.5\" x=\"134.0\" y=\"50\"/><text x=\"148.25\" y=\"65\">-</text></g><path d=\"M162.5 61h10\"/><path d=\"M172.5 61h10\"/><g class=\"non-terminal\">\n",
       "<path d=\"M182.5 61h0.0\"/><path d=\"M236.5 61h0.0\"/><rect height=\"22\" width=\"54.0\" x=\"182.5\" y=\"50\"/><text x=\"209.5\" y=\"65\">expr</text></g></g><path d=\"M236.5 61a10 10 0 0 1 10 10v10a10 10 0 0 0 10 10\"/><path d=\"M40.0 91a10 10 0 0 0 10 -10v-40a10 10 0 0 1 10 -10\"/><g>\n",
       "<path d=\"M60.0 31h0.0\"/><path d=\"M236.5 31h0.0\"/><g class=\"non-terminal\">\n",
       "<path d=\"M60.0 31h0.0\"/><path d=\"M114.0 31h0.0\"/><rect height=\"22\" width=\"54.0\" x=\"60.0\" y=\"20\"/><text x=\"87.0\" y=\"35\">expr</text></g><path d=\"M114.0 31h10\"/><path d=\"M124.0 31h10\"/><g class=\"terminal\">\n",
       "<path d=\"M134.0 31h0.0\"/><path d=\"M162.5 31h0.0\"/><rect height=\"22\" rx=\"10\" ry=\"10\" width=\"28.5\" x=\"134.0\" y=\"20\"/><text x=\"148.25\" y=\"35\">+</text></g><path d=\"M162.5 31h10\"/><path d=\"M172.5 31h10\"/><g class=\"non-terminal\">\n",
       "<path d=\"M182.5 31h0.0\"/><path d=\"M236.5 31h0.0\"/><rect height=\"22\" width=\"54.0\" x=\"182.5\" y=\"20\"/><text x=\"209.5\" y=\"35\">expr</text></g></g><path d=\"M236.5 31a10 10 0 0 1 10 10v40a10 10 0 0 0 10 10\"/><path d=\"M40.0 91h20\"/><g>\n",
       "<path d=\"M60.0 91h12.75\"/><path d=\"M223.75 91h12.75\"/><g class=\"terminal\">\n",
       "<path d=\"M72.75 91h0.0\"/><path d=\"M101.25 91h0.0\"/><rect height=\"22\" rx=\"10\" ry=\"10\" width=\"28.5\" x=\"72.75\" y=\"80\"/><text x=\"87.0\" y=\"95\">(</text></g><path d=\"M101.25 91h10\"/><path d=\"M111.25 91h10\"/><g class=\"non-terminal\">\n",
       "<path d=\"M121.25 91h0.0\"/><path d=\"M175.25 91h0.0\"/><rect height=\"22\" width=\"54.0\" x=\"121.25\" y=\"80\"/><text x=\"148.25\" y=\"95\">expr</text></g><path d=\"M175.25 91h10\"/><path d=\"M185.25 91h10\"/><g class=\"terminal\">\n",
       "<path d=\"M195.25 91h0.0\"/><path d=\"M223.75 91h0.0\"/><rect height=\"22\" rx=\"10\" ry=\"10\" width=\"28.5\" x=\"195.25\" y=\"80\"/><text x=\"209.5\" y=\"95\">)</text></g></g><path d=\"M236.5 91h20\"/><path d=\"M40.0 91a10 10 0 0 1 10 10v10a10 10 0 0 0 10 10\"/><g>\n",
       "<path d=\"M60.0 121h48.5\"/><path d=\"M188.0 121h48.5\"/><g class=\"non-terminal\">\n",
       "<path d=\"M108.5 121h0.0\"/><path d=\"M188.0 121h0.0\"/><rect height=\"22\" width=\"79.5\" x=\"108.5\" y=\"110\"/><text x=\"148.25\" y=\"125\">integer</text></g></g><path d=\"M236.5 121a10 10 0 0 0 10 -10v-10a10 10 0 0 1 10 -10\"/></g><path d=\"M 256.5 91 h 20 m -10 -10 v 20 m 10 -20 v 20\"/></g></svg>"
      ],
      "text/plain": [
       "<IPython.core.display.SVG object>"
      ]
     },
     "metadata": {},
     "output_type": "display_data"
    },
    {
     "name": "stdout",
     "output_type": "stream",
     "text": [
      "integer\n"
     ]
    },
    {
     "data": {
      "image/svg+xml": [
       "<svg class=\"railroad-diagram\" height=\"92\" viewBox=\"0 0 282.0 92\" width=\"282.0\" xmlns=\"http://www.w3.org/2000/svg\">\n",
       "<g transform=\"translate(.5 .5)\">\n",
       "<style>/* <![CDATA[ */\n",
       "    svg.railroad-diagram {\n",
       "        background-color:hsl(100,100%,100%);\n",
       "    }\n",
       "    svg.railroad-diagram path {\n",
       "        stroke-width:3;\n",
       "        stroke:black;\n",
       "        fill:rgba(0,0,0,0);\n",
       "    }\n",
       "    svg.railroad-diagram text {\n",
       "        font:bold 14px monospace;\n",
       "        text-anchor:middle;\n",
       "    }\n",
       "    svg.railroad-diagram text.label{\n",
       "        text-anchor:start;\n",
       "    }\n",
       "    svg.railroad-diagram text.comment{\n",
       "        font:italic 12px monospace;\n",
       "    }\n",
       "    svg.railroad-diagram rect{\n",
       "        stroke-width:3;\n",
       "        stroke:black;\n",
       "        fill:hsl(0,62%,82%);\n",
       "    }\n",
       "\n",
       "/* ]]> */\n",
       "</style><g>\n",
       "<path d=\"M20 51v20m10 -20v20m-10 -10h20\"/></g><g>\n",
       "<path d=\"M40 61h0.0\"/><path d=\"M242.0 61h0.0\"/><path d=\"M40.0 61a10 10 0 0 0 10 -10v-10a10 10 0 0 1 10 -10\"/><g>\n",
       "<path d=\"M60.0 31h0.0\"/><path d=\"M222.0 31h0.0\"/><g class=\"non-terminal\">\n",
       "<path d=\"M60.0 31h0.0\"/><path d=\"M122.5 31h0.0\"/><rect height=\"22\" width=\"62.5\" x=\"60.0\" y=\"20\"/><text x=\"91.25\" y=\"35\">digit</text></g><path d=\"M122.5 31h10\"/><path d=\"M132.5 31h10\"/><g class=\"non-terminal\">\n",
       "<path d=\"M142.5 31h0.0\"/><path d=\"M222.0 31h0.0\"/><rect height=\"22\" width=\"79.5\" x=\"142.5\" y=\"20\"/><text x=\"182.25\" y=\"35\">integer</text></g></g><path d=\"M222.0 31a10 10 0 0 1 10 10v10a10 10 0 0 0 10 10\"/><path d=\"M40.0 61h20\"/><g>\n",
       "<path d=\"M60.0 61h49.75\"/><path d=\"M172.25 61h49.75\"/><g class=\"non-terminal\">\n",
       "<path d=\"M109.75 61h0.0\"/><path d=\"M172.25 61h0.0\"/><rect height=\"22\" width=\"62.5\" x=\"109.75\" y=\"50\"/><text x=\"141.0\" y=\"65\">digit</text></g></g><path d=\"M222.0 61h20\"/></g><path d=\"M 242.0 61 h 20 m -10 -10 v 20 m 10 -20 v 20\"/></g></svg>"
      ],
      "text/plain": [
       "<IPython.core.display.SVG object>"
      ]
     },
     "metadata": {},
     "output_type": "display_data"
    },
    {
     "name": "stdout",
     "output_type": "stream",
     "text": [
      "digit\n"
     ]
    },
    {
     "data": {
      "image/svg+xml": [
       "<svg class=\"railroad-diagram\" height=\"109\" viewBox=\"0 0 522.5 109\" width=\"522.5\" xmlns=\"http://www.w3.org/2000/svg\">\n",
       "<g transform=\"translate(.5 .5)\">\n",
       "<style>/* <![CDATA[ */\n",
       "    svg.railroad-diagram {\n",
       "        background-color:hsl(100,100%,100%);\n",
       "    }\n",
       "    svg.railroad-diagram path {\n",
       "        stroke-width:3;\n",
       "        stroke:black;\n",
       "        fill:rgba(0,0,0,0);\n",
       "    }\n",
       "    svg.railroad-diagram text {\n",
       "        font:bold 14px monospace;\n",
       "        text-anchor:middle;\n",
       "    }\n",
       "    svg.railroad-diagram text.label{\n",
       "        text-anchor:start;\n",
       "    }\n",
       "    svg.railroad-diagram text.comment{\n",
       "        font:italic 12px monospace;\n",
       "    }\n",
       "    svg.railroad-diagram rect{\n",
       "        stroke-width:3;\n",
       "        stroke:black;\n",
       "        fill:hsl(0,62%,82%);\n",
       "    }\n",
       "\n",
       "/* ]]> */\n",
       "</style><g>\n",
       "<path d=\"M20 59v20m10 -20v20m-10 -10h20\"/></g><g>\n",
       "<path d=\"M40 69h0.0\"/><path d=\"M482.5 69h0.0\"/><path d=\"M40.0 69a10 10 0 0 0 10 -10v-29a10 10 0 0 1 10 -10h324.0\"/><path d=\"M138.5 89h324.0a10 10 0 0 0 10 -10v0a10 10 0 0 1 10 -10\"/><path d=\"M40.0 69h10\"/><g>\n",
       "<path d=\"M50.0 69h0.0\"/><path d=\"M118.5 69h0.0\"/><path d=\"M50.0 69a10 10 0 0 0 10 -10v-10a10 10 0 0 1 10 -10\"/><g>\n",
       "<path d=\"M70.0 39h0.0\"/><path d=\"M98.5 39h0.0\"/><g class=\"terminal\">\n",
       "<path d=\"M70.0 39h0.0\"/><path d=\"M98.5 39h0.0\"/><rect height=\"22\" rx=\"10\" ry=\"10\" width=\"28.5\" x=\"70.0\" y=\"28\"/><text x=\"84.25\" y=\"43\">0</text></g></g><path d=\"M98.5 39a10 10 0 0 1 10 10v10a10 10 0 0 0 10 10\"/><path d=\"M50.0 69h20\"/><g>\n",
       "<path d=\"M70.0 69h0.0\"/><path d=\"M98.5 69h0.0\"/><g class=\"terminal\">\n",
       "<path d=\"M70.0 69h0.0\"/><path d=\"M98.5 69h0.0\"/><rect height=\"22\" rx=\"10\" ry=\"10\" width=\"28.5\" x=\"70.0\" y=\"58\"/><text x=\"84.25\" y=\"73\">1</text></g></g><path d=\"M98.5 69h20\"/></g><path d=\"M118.5 69a10 10 0 0 1 10 10v0a10 10 0 0 0 10 10\"/><path d=\"M118.5 20a10 10 0 0 1 10 10v29a10 10 0 0 0 10 10\"/><g>\n",
       "<path d=\"M138.5 69h0.0\"/><path d=\"M207.0 69h0.0\"/><path d=\"M138.5 69a10 10 0 0 0 10 -10v-10a10 10 0 0 1 10 -10\"/><g>\n",
       "<path d=\"M158.5 39h0.0\"/><path d=\"M187.0 39h0.0\"/><g class=\"terminal\">\n",
       "<path d=\"M158.5 39h0.0\"/><path d=\"M187.0 39h0.0\"/><rect height=\"22\" rx=\"10\" ry=\"10\" width=\"28.5\" x=\"158.5\" y=\"28\"/><text x=\"172.75\" y=\"43\">2</text></g></g><path d=\"M187.0 39a10 10 0 0 1 10 10v10a10 10 0 0 0 10 10\"/><path d=\"M138.5 69h20\"/><g>\n",
       "<path d=\"M158.5 69h0.0\"/><path d=\"M187.0 69h0.0\"/><g class=\"terminal\">\n",
       "<path d=\"M158.5 69h0.0\"/><path d=\"M187.0 69h0.0\"/><rect height=\"22\" rx=\"10\" ry=\"10\" width=\"28.5\" x=\"158.5\" y=\"58\"/><text x=\"172.75\" y=\"73\">3</text></g></g><path d=\"M187.0 69h20\"/></g><path d=\"M207.0 69a10 10 0 0 1 10 10v0a10 10 0 0 0 10 10\"/><path d=\"M207.0 20a10 10 0 0 1 10 10v29a10 10 0 0 0 10 10\"/><g>\n",
       "<path d=\"M227.0 69h0.0\"/><path d=\"M295.5 69h0.0\"/><path d=\"M227.0 69a10 10 0 0 0 10 -10v-10a10 10 0 0 1 10 -10\"/><g>\n",
       "<path d=\"M247.0 39h0.0\"/><path d=\"M275.5 39h0.0\"/><g class=\"terminal\">\n",
       "<path d=\"M247.0 39h0.0\"/><path d=\"M275.5 39h0.0\"/><rect height=\"22\" rx=\"10\" ry=\"10\" width=\"28.5\" x=\"247.0\" y=\"28\"/><text x=\"261.25\" y=\"43\">4</text></g></g><path d=\"M275.5 39a10 10 0 0 1 10 10v10a10 10 0 0 0 10 10\"/><path d=\"M227.0 69h20\"/><g>\n",
       "<path d=\"M247.0 69h0.0\"/><path d=\"M275.5 69h0.0\"/><g class=\"terminal\">\n",
       "<path d=\"M247.0 69h0.0\"/><path d=\"M275.5 69h0.0\"/><rect height=\"22\" rx=\"10\" ry=\"10\" width=\"28.5\" x=\"247.0\" y=\"58\"/><text x=\"261.25\" y=\"73\">5</text></g></g><path d=\"M275.5 69h20\"/></g><path d=\"M295.5 69a10 10 0 0 1 10 10v0a10 10 0 0 0 10 10\"/><path d=\"M295.5 20a10 10 0 0 1 10 10v29a10 10 0 0 0 10 10\"/><g>\n",
       "<path d=\"M315.5 69h0.0\"/><path d=\"M384.0 69h0.0\"/><path d=\"M315.5 69a10 10 0 0 0 10 -10v-10a10 10 0 0 1 10 -10\"/><g>\n",
       "<path d=\"M335.5 39h0.0\"/><path d=\"M364.0 39h0.0\"/><g class=\"terminal\">\n",
       "<path d=\"M335.5 39h0.0\"/><path d=\"M364.0 39h0.0\"/><rect height=\"22\" rx=\"10\" ry=\"10\" width=\"28.5\" x=\"335.5\" y=\"28\"/><text x=\"349.75\" y=\"43\">6</text></g></g><path d=\"M364.0 39a10 10 0 0 1 10 10v10a10 10 0 0 0 10 10\"/><path d=\"M315.5 69h20\"/><g>\n",
       "<path d=\"M335.5 69h0.0\"/><path d=\"M364.0 69h0.0\"/><g class=\"terminal\">\n",
       "<path d=\"M335.5 69h0.0\"/><path d=\"M364.0 69h0.0\"/><rect height=\"22\" rx=\"10\" ry=\"10\" width=\"28.5\" x=\"335.5\" y=\"58\"/><text x=\"349.75\" y=\"73\">7</text></g></g><path d=\"M364.0 69h20\"/></g><path d=\"M384.0 69a10 10 0 0 1 10 10v0a10 10 0 0 0 10 10\"/><path d=\"M384.0 20a10 10 0 0 1 10 10v29a10 10 0 0 0 10 10\"/><g>\n",
       "<path d=\"M404.0 69h0.0\"/><path d=\"M472.5 69h0.0\"/><path d=\"M404.0 69a10 10 0 0 0 10 -10v-10a10 10 0 0 1 10 -10\"/><g>\n",
       "<path d=\"M424.0 39h0.0\"/><path d=\"M452.5 39h0.0\"/><g class=\"terminal\">\n",
       "<path d=\"M424.0 39h0.0\"/><path d=\"M452.5 39h0.0\"/><rect height=\"22\" rx=\"10\" ry=\"10\" width=\"28.5\" x=\"424.0\" y=\"28\"/><text x=\"438.25\" y=\"43\">8</text></g></g><path d=\"M452.5 39a10 10 0 0 1 10 10v10a10 10 0 0 0 10 10\"/><path d=\"M404.0 69h20\"/><g>\n",
       "<path d=\"M424.0 69h0.0\"/><path d=\"M452.5 69h0.0\"/><g class=\"terminal\">\n",
       "<path d=\"M424.0 69h0.0\"/><path d=\"M452.5 69h0.0\"/><rect height=\"22\" rx=\"10\" ry=\"10\" width=\"28.5\" x=\"424.0\" y=\"58\"/><text x=\"438.25\" y=\"73\">9</text></g></g><path d=\"M452.5 69h20\"/></g><path d=\"M472.5 69h10\"/></g><path d=\"M 482.5 69 h 20 m -10 -10 v 20 m 10 -20 v 20\"/></g></svg>"
      ],
      "text/plain": [
       "<IPython.core.display.SVG object>"
      ]
     },
     "metadata": {},
     "output_type": "display_data"
    }
   ],
   "source": [
    "syntax_diagram(A3_GRAMMAR)"
   ]
  },
  {
   "cell_type": "code",
   "execution_count": 113,
   "metadata": {
    "slideshow": {
     "slide_type": "subslide"
    }
   },
   "outputs": [
    {
     "data": {
      "image/svg+xml": [
       "<?xml version=\"1.0\" encoding=\"UTF-8\" standalone=\"no\"?>\n",
       "<!DOCTYPE svg PUBLIC \"-//W3C//DTD SVG 1.1//EN\"\n",
       " \"http://www.w3.org/Graphics/SVG/1.1/DTD/svg11.dtd\">\n",
       "<!-- Generated by graphviz version 2.40.1 (20161225.0304)\n",
       " -->\n",
       "<!-- Title: %3 Pages: 1 -->\n",
       "<svg width=\"272pt\" height=\"422pt\"\n",
       " viewBox=\"0.00 0.00 271.66 422.00\" xmlns=\"http://www.w3.org/2000/svg\" xmlns:xlink=\"http://www.w3.org/1999/xlink\">\n",
       "<g id=\"graph0\" class=\"graph\" transform=\"scale(1 1) rotate(0) translate(4 418)\">\n",
       "<title>%3</title>\n",
       "<polygon fill=\"#ffffff\" stroke=\"transparent\" points=\"-4,4 -4,-418 267.6602,-418 267.6602,4 -4,4\"/>\n",
       "<!-- 0 -->\n",
       "<g id=\"node1\" class=\"node\">\n",
       "<title>0</title>\n",
       "<text text-anchor=\"middle\" x=\"125.3301\" y=\"-402.8\" font-family=\"Times,serif\" font-size=\"14.00\" fill=\"#000000\">&lt;start&gt;</text>\n",
       "</g>\n",
       "<!-- 1 -->\n",
       "<g id=\"node2\" class=\"node\">\n",
       "<title>1</title>\n",
       "<text text-anchor=\"middle\" x=\"125.3301\" y=\"-352.8\" font-family=\"Times,serif\" font-size=\"14.00\" fill=\"#000000\">&lt;expr&gt;</text>\n",
       "</g>\n",
       "<!-- 0&#45;&gt;1 -->\n",
       "<g id=\"edge1\" class=\"edge\">\n",
       "<title>0&#45;&gt;1</title>\n",
       "<path fill=\"none\" stroke=\"#000000\" d=\"M125.3301,-399.6223C125.3301,-392.9738 125.3301,-382.942 125.3301,-374.2807\"/>\n",
       "<polygon fill=\"#000000\" stroke=\"#000000\" points=\"128.8302,-374.0842 125.3301,-364.0842 121.8302,-374.0842 128.8302,-374.0842\"/>\n",
       "</g>\n",
       "<!-- 2 -->\n",
       "<g id=\"node3\" class=\"node\">\n",
       "<title>2</title>\n",
       "<text text-anchor=\"middle\" x=\"79.3301\" y=\"-302.8\" font-family=\"Times,serif\" font-size=\"14.00\" fill=\"#000000\">&lt;expr&gt;</text>\n",
       "</g>\n",
       "<!-- 1&#45;&gt;2 -->\n",
       "<g id=\"edge2\" class=\"edge\">\n",
       "<title>1&#45;&gt;2</title>\n",
       "<path fill=\"none\" stroke=\"#000000\" d=\"M118.5426,-349.6223C111.8074,-342.3014 101.2983,-330.8785 92.8542,-321.7001\"/>\n",
       "<polygon fill=\"#000000\" stroke=\"#000000\" points=\"95.1939,-319.0738 85.8475,-314.0842 90.0424,-323.8132 95.1939,-319.0738\"/>\n",
       "</g>\n",
       "<!-- 18 -->\n",
       "<g id=\"node19\" class=\"node\">\n",
       "<title>18</title>\n",
       "<text text-anchor=\"middle\" x=\"125.3301\" y=\"-302.8\" font-family=\"Times,serif\" font-size=\"14.00\" fill=\"#000000\">&#45;</text>\n",
       "</g>\n",
       "<!-- 1&#45;&gt;18 -->\n",
       "<g id=\"edge18\" class=\"edge\">\n",
       "<title>1&#45;&gt;18</title>\n",
       "<path fill=\"none\" stroke=\"#000000\" d=\"M125.3301,-349.6223C125.3301,-342.9738 125.3301,-332.942 125.3301,-324.2807\"/>\n",
       "<polygon fill=\"#000000\" stroke=\"#000000\" points=\"128.8302,-324.0842 125.3301,-314.0842 121.8302,-324.0842 128.8302,-324.0842\"/>\n",
       "</g>\n",
       "<!-- 19 -->\n",
       "<g id=\"node20\" class=\"node\">\n",
       "<title>19</title>\n",
       "<text text-anchor=\"middle\" x=\"168.3301\" y=\"-302.8\" font-family=\"Times,serif\" font-size=\"14.00\" fill=\"#000000\">&lt;expr&gt;</text>\n",
       "</g>\n",
       "<!-- 1&#45;&gt;19 -->\n",
       "<g id=\"edge19\" class=\"edge\">\n",
       "<title>1&#45;&gt;19</title>\n",
       "<path fill=\"none\" stroke=\"#000000\" d=\"M131.6749,-349.6223C137.9708,-342.3014 147.7946,-330.8785 155.688,-321.7001\"/>\n",
       "<polygon fill=\"#000000\" stroke=\"#000000\" points=\"158.3709,-323.9482 162.2377,-314.0842 153.0636,-319.3839 158.3709,-323.9482\"/>\n",
       "</g>\n",
       "<!-- 3 -->\n",
       "<g id=\"node4\" class=\"node\">\n",
       "<title>3</title>\n",
       "<text text-anchor=\"middle\" x=\"29.3301\" y=\"-252.8\" font-family=\"Times,serif\" font-size=\"14.00\" fill=\"#000000\">(</text>\n",
       "</g>\n",
       "<!-- 2&#45;&gt;3 -->\n",
       "<g id=\"edge3\" class=\"edge\">\n",
       "<title>2&#45;&gt;3</title>\n",
       "<path fill=\"none\" stroke=\"#000000\" d=\"M71.9524,-299.6223C63.1341,-290.804 48.3639,-276.0338 38.7341,-266.404\"/>\n",
       "<polygon fill=\"#000000\" stroke=\"#000000\" points=\"41.1998,-263.92 31.6538,-259.3238 36.25,-268.8697 41.1998,-263.92\"/>\n",
       "</g>\n",
       "<!-- 4 -->\n",
       "<g id=\"node5\" class=\"node\">\n",
       "<title>4</title>\n",
       "<text text-anchor=\"middle\" x=\"70.3301\" y=\"-252.8\" font-family=\"Times,serif\" font-size=\"14.00\" fill=\"#000000\">&lt;expr&gt;</text>\n",
       "</g>\n",
       "<!-- 2&#45;&gt;4 -->\n",
       "<g id=\"edge4\" class=\"edge\">\n",
       "<title>2&#45;&gt;4</title>\n",
       "<path fill=\"none\" stroke=\"#000000\" d=\"M78.0021,-299.6223C76.7919,-292.8991 74.959,-282.7161 73.3882,-273.9893\"/>\n",
       "<polygon fill=\"#000000\" stroke=\"#000000\" points=\"76.8215,-273.306 71.6052,-264.0842 69.9322,-274.5461 76.8215,-273.306\"/>\n",
       "</g>\n",
       "<!-- 17 -->\n",
       "<g id=\"node18\" class=\"node\">\n",
       "<title>17</title>\n",
       "<text text-anchor=\"middle\" x=\"111.3301\" y=\"-252.8\" font-family=\"Times,serif\" font-size=\"14.00\" fill=\"#000000\">)</text>\n",
       "</g>\n",
       "<!-- 2&#45;&gt;17 -->\n",
       "<g id=\"edge17\" class=\"edge\">\n",
       "<title>2&#45;&gt;17</title>\n",
       "<path fill=\"none\" stroke=\"#000000\" d=\"M84.0518,-299.6223C89.1588,-291.6427 97.3848,-278.7895 103.4698,-269.2816\"/>\n",
       "<polygon fill=\"#000000\" stroke=\"#000000\" points=\"106.5409,-270.9759 108.9835,-260.6665 100.645,-267.2025 106.5409,-270.9759\"/>\n",
       "</g>\n",
       "<!-- 5 -->\n",
       "<g id=\"node6\" class=\"node\">\n",
       "<title>5</title>\n",
       "<text text-anchor=\"middle\" x=\"27.3301\" y=\"-202.8\" font-family=\"Times,serif\" font-size=\"14.00\" fill=\"#000000\">&lt;expr&gt;</text>\n",
       "</g>\n",
       "<!-- 4&#45;&gt;5 -->\n",
       "<g id=\"edge5\" class=\"edge\">\n",
       "<title>4&#45;&gt;5</title>\n",
       "<path fill=\"none\" stroke=\"#000000\" d=\"M63.9853,-249.6223C57.6893,-242.3014 47.8655,-230.8785 39.9722,-221.7001\"/>\n",
       "<polygon fill=\"#000000\" stroke=\"#000000\" points=\"42.5966,-219.3839 33.4225,-214.0842 37.2893,-223.9482 42.5966,-219.3839\"/>\n",
       "</g>\n",
       "<!-- 9 -->\n",
       "<g id=\"node10\" class=\"node\">\n",
       "<title>9</title>\n",
       "<text text-anchor=\"middle\" x=\"69.3301\" y=\"-202.8\" font-family=\"Times,serif\" font-size=\"14.00\" fill=\"#000000\">+</text>\n",
       "</g>\n",
       "<!-- 4&#45;&gt;9 -->\n",
       "<g id=\"edge9\" class=\"edge\">\n",
       "<title>4&#45;&gt;9</title>\n",
       "<path fill=\"none\" stroke=\"#000000\" d=\"M70.1825,-249.6223C70.0496,-242.9738 69.8489,-232.942 69.6757,-224.2807\"/>\n",
       "<polygon fill=\"#000000\" stroke=\"#000000\" points=\"73.1711,-224.0122 69.4718,-214.0842 66.1725,-224.1522 73.1711,-224.0122\"/>\n",
       "</g>\n",
       "<!-- 10 -->\n",
       "<g id=\"node11\" class=\"node\">\n",
       "<title>10</title>\n",
       "<text text-anchor=\"middle\" x=\"111.3301\" y=\"-202.8\" font-family=\"Times,serif\" font-size=\"14.00\" fill=\"#000000\">&lt;expr&gt;</text>\n",
       "</g>\n",
       "<!-- 4&#45;&gt;10 -->\n",
       "<g id=\"edge10\" class=\"edge\">\n",
       "<title>4&#45;&gt;10</title>\n",
       "<path fill=\"none\" stroke=\"#000000\" d=\"M76.3798,-249.6223C82.3216,-242.3761 91.5589,-231.1111 99.045,-221.9818\"/>\n",
       "<polygon fill=\"#000000\" stroke=\"#000000\" points=\"101.8867,-224.0362 105.521,-214.0842 96.4738,-219.5976 101.8867,-224.0362\"/>\n",
       "</g>\n",
       "<!-- 6 -->\n",
       "<g id=\"node7\" class=\"node\">\n",
       "<title>6</title>\n",
       "<text text-anchor=\"middle\" x=\"27.3301\" y=\"-152.8\" font-family=\"Times,serif\" font-size=\"14.00\" fill=\"#000000\">&lt;integer&gt;</text>\n",
       "</g>\n",
       "<!-- 5&#45;&gt;6 -->\n",
       "<g id=\"edge6\" class=\"edge\">\n",
       "<title>5&#45;&gt;6</title>\n",
       "<path fill=\"none\" stroke=\"#000000\" d=\"M27.3301,-199.6223C27.3301,-192.9738 27.3301,-182.942 27.3301,-174.2807\"/>\n",
       "<polygon fill=\"#000000\" stroke=\"#000000\" points=\"30.8302,-174.0842 27.3301,-164.0842 23.8302,-174.0842 30.8302,-174.0842\"/>\n",
       "</g>\n",
       "<!-- 7 -->\n",
       "<g id=\"node8\" class=\"node\">\n",
       "<title>7</title>\n",
       "<text text-anchor=\"middle\" x=\"27.3301\" y=\"-102.8\" font-family=\"Times,serif\" font-size=\"14.00\" fill=\"#000000\">&lt;digit&gt;</text>\n",
       "</g>\n",
       "<!-- 6&#45;&gt;7 -->\n",
       "<g id=\"edge7\" class=\"edge\">\n",
       "<title>6&#45;&gt;7</title>\n",
       "<path fill=\"none\" stroke=\"#000000\" d=\"M27.3301,-149.6223C27.3301,-142.9738 27.3301,-132.942 27.3301,-124.2807\"/>\n",
       "<polygon fill=\"#000000\" stroke=\"#000000\" points=\"30.8302,-124.0842 27.3301,-114.0842 23.8302,-124.0842 30.8302,-124.0842\"/>\n",
       "</g>\n",
       "<!-- 8 -->\n",
       "<g id=\"node9\" class=\"node\">\n",
       "<title>8</title>\n",
       "<text text-anchor=\"middle\" x=\"27.3301\" y=\"-52.8\" font-family=\"Times,serif\" font-size=\"14.00\" fill=\"#000000\">1</text>\n",
       "</g>\n",
       "<!-- 7&#45;&gt;8 -->\n",
       "<g id=\"edge8\" class=\"edge\">\n",
       "<title>7&#45;&gt;8</title>\n",
       "<path fill=\"none\" stroke=\"#000000\" d=\"M27.3301,-99.6223C27.3301,-92.9738 27.3301,-82.942 27.3301,-74.2807\"/>\n",
       "<polygon fill=\"#000000\" stroke=\"#000000\" points=\"30.8302,-74.0842 27.3301,-64.0842 23.8302,-74.0842 30.8302,-74.0842\"/>\n",
       "</g>\n",
       "<!-- 11 -->\n",
       "<g id=\"node12\" class=\"node\">\n",
       "<title>11</title>\n",
       "<text text-anchor=\"middle\" x=\"111.3301\" y=\"-152.8\" font-family=\"Times,serif\" font-size=\"14.00\" fill=\"#000000\">&lt;integer&gt;</text>\n",
       "</g>\n",
       "<!-- 10&#45;&gt;11 -->\n",
       "<g id=\"edge11\" class=\"edge\">\n",
       "<title>10&#45;&gt;11</title>\n",
       "<path fill=\"none\" stroke=\"#000000\" d=\"M111.3301,-199.6223C111.3301,-192.9738 111.3301,-182.942 111.3301,-174.2807\"/>\n",
       "<polygon fill=\"#000000\" stroke=\"#000000\" points=\"114.8302,-174.0842 111.3301,-164.0842 107.8302,-174.0842 114.8302,-174.0842\"/>\n",
       "</g>\n",
       "<!-- 12 -->\n",
       "<g id=\"node13\" class=\"node\">\n",
       "<title>12</title>\n",
       "<text text-anchor=\"middle\" x=\"98.3301\" y=\"-102.8\" font-family=\"Times,serif\" font-size=\"14.00\" fill=\"#000000\">&lt;digit&gt;</text>\n",
       "</g>\n",
       "<!-- 11&#45;&gt;12 -->\n",
       "<g id=\"edge12\" class=\"edge\">\n",
       "<title>11&#45;&gt;12</title>\n",
       "<path fill=\"none\" stroke=\"#000000\" d=\"M109.4119,-149.6223C107.6638,-142.8991 105.0163,-132.7161 102.7473,-123.9893\"/>\n",
       "<polygon fill=\"#000000\" stroke=\"#000000\" points=\"106.0758,-122.8817 100.172,-114.0842 99.301,-124.6432 106.0758,-122.8817\"/>\n",
       "</g>\n",
       "<!-- 14 -->\n",
       "<g id=\"node15\" class=\"node\">\n",
       "<title>14</title>\n",
       "<text text-anchor=\"middle\" x=\"164.3301\" y=\"-102.8\" font-family=\"Times,serif\" font-size=\"14.00\" fill=\"#000000\">&lt;integer&gt;</text>\n",
       "</g>\n",
       "<!-- 11&#45;&gt;14 -->\n",
       "<g id=\"edge14\" class=\"edge\">\n",
       "<title>11&#45;&gt;14</title>\n",
       "<path fill=\"none\" stroke=\"#000000\" d=\"M119.1504,-149.6223C127.0689,-142.152 139.5149,-130.4105 149.3406,-121.1411\"/>\n",
       "<polygon fill=\"#000000\" stroke=\"#000000\" points=\"151.9487,-123.4923 156.8208,-114.0842 147.1451,-118.4005 151.9487,-123.4923\"/>\n",
       "</g>\n",
       "<!-- 13 -->\n",
       "<g id=\"node14\" class=\"node\">\n",
       "<title>13</title>\n",
       "<text text-anchor=\"middle\" x=\"98.3301\" y=\"-52.8\" font-family=\"Times,serif\" font-size=\"14.00\" fill=\"#000000\">2</text>\n",
       "</g>\n",
       "<!-- 12&#45;&gt;13 -->\n",
       "<g id=\"edge13\" class=\"edge\">\n",
       "<title>12&#45;&gt;13</title>\n",
       "<path fill=\"none\" stroke=\"#000000\" d=\"M98.3301,-99.6223C98.3301,-92.9738 98.3301,-82.942 98.3301,-74.2807\"/>\n",
       "<polygon fill=\"#000000\" stroke=\"#000000\" points=\"101.8302,-74.0842 98.3301,-64.0842 94.8302,-74.0842 101.8302,-74.0842\"/>\n",
       "</g>\n",
       "<!-- 15 -->\n",
       "<g id=\"node16\" class=\"node\">\n",
       "<title>15</title>\n",
       "<text text-anchor=\"middle\" x=\"164.3301\" y=\"-52.8\" font-family=\"Times,serif\" font-size=\"14.00\" fill=\"#000000\">&lt;digit&gt;</text>\n",
       "</g>\n",
       "<!-- 14&#45;&gt;15 -->\n",
       "<g id=\"edge15\" class=\"edge\">\n",
       "<title>14&#45;&gt;15</title>\n",
       "<path fill=\"none\" stroke=\"#000000\" d=\"M164.3301,-99.6223C164.3301,-92.9738 164.3301,-82.942 164.3301,-74.2807\"/>\n",
       "<polygon fill=\"#000000\" stroke=\"#000000\" points=\"167.8302,-74.0842 164.3301,-64.0842 160.8302,-74.0842 167.8302,-74.0842\"/>\n",
       "</g>\n",
       "<!-- 16 -->\n",
       "<g id=\"node17\" class=\"node\">\n",
       "<title>16</title>\n",
       "<text text-anchor=\"middle\" x=\"164.3301\" y=\"-2.8\" font-family=\"Times,serif\" font-size=\"14.00\" fill=\"#000000\">4</text>\n",
       "</g>\n",
       "<!-- 15&#45;&gt;16 -->\n",
       "<g id=\"edge16\" class=\"edge\">\n",
       "<title>15&#45;&gt;16</title>\n",
       "<path fill=\"none\" stroke=\"#000000\" d=\"M164.3301,-49.6223C164.3301,-42.9738 164.3301,-32.942 164.3301,-24.2807\"/>\n",
       "<polygon fill=\"#000000\" stroke=\"#000000\" points=\"167.8302,-24.0842 164.3301,-14.0842 160.8302,-24.0842 167.8302,-24.0842\"/>\n",
       "</g>\n",
       "<!-- 20 -->\n",
       "<g id=\"node21\" class=\"node\">\n",
       "<title>20</title>\n",
       "<text text-anchor=\"middle\" x=\"170.3301\" y=\"-252.8\" font-family=\"Times,serif\" font-size=\"14.00\" fill=\"#000000\">&lt;integer&gt;</text>\n",
       "</g>\n",
       "<!-- 19&#45;&gt;20 -->\n",
       "<g id=\"edge20\" class=\"edge\">\n",
       "<title>19&#45;&gt;20</title>\n",
       "<path fill=\"none\" stroke=\"#000000\" d=\"M168.6252,-299.6223C168.8911,-292.9738 169.2924,-282.942 169.6388,-274.2807\"/>\n",
       "<polygon fill=\"#000000\" stroke=\"#000000\" points=\"173.1441,-274.2161 170.0467,-264.0842 166.1497,-273.9363 173.1441,-274.2161\"/>\n",
       "</g>\n",
       "<!-- 21 -->\n",
       "<g id=\"node22\" class=\"node\">\n",
       "<title>21</title>\n",
       "<text text-anchor=\"middle\" x=\"170.3301\" y=\"-202.8\" font-family=\"Times,serif\" font-size=\"14.00\" fill=\"#000000\">&lt;digit&gt;</text>\n",
       "</g>\n",
       "<!-- 20&#45;&gt;21 -->\n",
       "<g id=\"edge21\" class=\"edge\">\n",
       "<title>20&#45;&gt;21</title>\n",
       "<path fill=\"none\" stroke=\"#000000\" d=\"M170.3301,-249.6223C170.3301,-242.9738 170.3301,-232.942 170.3301,-224.2807\"/>\n",
       "<polygon fill=\"#000000\" stroke=\"#000000\" points=\"173.8302,-224.0842 170.3301,-214.0842 166.8302,-224.0842 173.8302,-224.0842\"/>\n",
       "</g>\n",
       "<!-- 23 -->\n",
       "<g id=\"node24\" class=\"node\">\n",
       "<title>23</title>\n",
       "<text text-anchor=\"middle\" x=\"236.3301\" y=\"-202.8\" font-family=\"Times,serif\" font-size=\"14.00\" fill=\"#000000\">&lt;integer&gt;</text>\n",
       "</g>\n",
       "<!-- 20&#45;&gt;23 -->\n",
       "<g id=\"edge23\" class=\"edge\">\n",
       "<title>20&#45;&gt;23</title>\n",
       "<path fill=\"none\" stroke=\"#000000\" d=\"M179.7863,-249.8362C189.8824,-242.1877 206.1132,-229.8916 218.6011,-220.4311\"/>\n",
       "<polygon fill=\"#000000\" stroke=\"#000000\" points=\"221.034,-222.9789 226.8914,-214.1505 216.807,-217.3993 221.034,-222.9789\"/>\n",
       "</g>\n",
       "<!-- 22 -->\n",
       "<g id=\"node23\" class=\"node\">\n",
       "<title>22</title>\n",
       "<text text-anchor=\"middle\" x=\"170.3301\" y=\"-152.8\" font-family=\"Times,serif\" font-size=\"14.00\" fill=\"#000000\">3</text>\n",
       "</g>\n",
       "<!-- 21&#45;&gt;22 -->\n",
       "<g id=\"edge22\" class=\"edge\">\n",
       "<title>21&#45;&gt;22</title>\n",
       "<path fill=\"none\" stroke=\"#000000\" d=\"M170.3301,-199.6223C170.3301,-192.9738 170.3301,-182.942 170.3301,-174.2807\"/>\n",
       "<polygon fill=\"#000000\" stroke=\"#000000\" points=\"173.8302,-174.0842 170.3301,-164.0842 166.8302,-174.0842 173.8302,-174.0842\"/>\n",
       "</g>\n",
       "<!-- 24 -->\n",
       "<g id=\"node25\" class=\"node\">\n",
       "<title>24</title>\n",
       "<text text-anchor=\"middle\" x=\"236.3301\" y=\"-152.8\" font-family=\"Times,serif\" font-size=\"14.00\" fill=\"#000000\">&lt;digit&gt;</text>\n",
       "</g>\n",
       "<!-- 23&#45;&gt;24 -->\n",
       "<g id=\"edge24\" class=\"edge\">\n",
       "<title>23&#45;&gt;24</title>\n",
       "<path fill=\"none\" stroke=\"#000000\" d=\"M236.3301,-199.6223C236.3301,-192.9738 236.3301,-182.942 236.3301,-174.2807\"/>\n",
       "<polygon fill=\"#000000\" stroke=\"#000000\" points=\"239.8302,-174.0842 236.3301,-164.0842 232.8302,-174.0842 239.8302,-174.0842\"/>\n",
       "</g>\n",
       "<!-- 25 -->\n",
       "<g id=\"node26\" class=\"node\">\n",
       "<title>25</title>\n",
       "<text text-anchor=\"middle\" x=\"236.3301\" y=\"-102.8\" font-family=\"Times,serif\" font-size=\"14.00\" fill=\"#000000\">3</text>\n",
       "</g>\n",
       "<!-- 24&#45;&gt;25 -->\n",
       "<g id=\"edge25\" class=\"edge\">\n",
       "<title>24&#45;&gt;25</title>\n",
       "<path fill=\"none\" stroke=\"#000000\" d=\"M236.3301,-149.6223C236.3301,-142.9738 236.3301,-132.942 236.3301,-124.2807\"/>\n",
       "<polygon fill=\"#000000\" stroke=\"#000000\" points=\"239.8302,-124.0842 236.3301,-114.0842 232.8302,-124.0842 239.8302,-124.0842\"/>\n",
       "</g>\n",
       "</g>\n",
       "</svg>\n"
      ],
      "text/plain": [
       "<graphviz.dot.Digraph at 0x11cabf898>"
      ]
     },
     "metadata": {},
     "output_type": "display_data"
    }
   ],
   "source": [
    "mystring = '(1+24)-33'\n",
    "parser = EarleyParser(A3_GRAMMAR)\n",
    "for tree in parser.parse(mystring):\n",
    "    assert tree_to_string(tree) == mystring\n",
    "    display_tree(tree)"
   ]
  },
  {
   "cell_type": "markdown",
   "metadata": {
    "slideshow": {
     "slide_type": "fragment"
    }
   },
   "source": [
    "We now have a complete parser that can parse almost arbitrary *CFG*. There remains a small corner to fix -- the case of epsilon rules as we will see later."
   ]
  },
  {
   "cell_type": "markdown",
   "metadata": {
    "slideshow": {
     "slide_type": "skip"
    }
   },
   "source": [
    "### Ambiguous Parsing"
   ]
  },
  {
   "cell_type": "markdown",
   "metadata": {
    "slideshow": {
     "slide_type": "skip"
    }
   },
   "source": [
    "Ambiguous grammars are grammars that can produce multiple derivation trees for some given string. For example, the `A3_GRAMMAR` can parse `1+2+3` in two different ways – `[1+2]+3` and `1+[2+3]`.\n",
    "\n",
    "Extracting a single tree might be reasonable for unambiguous parses. However, what if the given grammar produces ambiguity when given a string? We need to extract all derivation trees in that case. We enhance our `extract_trees()` method to extract multiple derivation trees."
   ]
  },
  {
   "cell_type": "code",
   "execution_count": 114,
   "metadata": {
    "slideshow": {
     "slide_type": "subslide"
    }
   },
   "outputs": [],
   "source": [
    "class EarleyParser(EarleyParser):\n",
    "    def extract_trees(self, forest_node):\n",
    "        name, paths = forest_node\n",
    "        if not paths:\n",
    "            return [(name, [])]\n",
    "        results = []\n",
    "        for path in paths:\n",
    "            ptrees = zip(*[self.extract_trees(p) for p in path])\n",
    "            results.extend([(name, p) for p in ptrees])\n",
    "        return results"
   ]
  },
  {
   "cell_type": "markdown",
   "metadata": {
    "slideshow": {
     "slide_type": "skip"
    }
   },
   "source": [
    "As before, we verify that everything works."
   ]
  },
  {
   "cell_type": "code",
   "execution_count": 115,
   "metadata": {
    "slideshow": {
     "slide_type": "skip"
    }
   },
   "outputs": [
    {
     "data": {
      "image/svg+xml": [
       "<?xml version=\"1.0\" encoding=\"UTF-8\" standalone=\"no\"?>\n",
       "<!DOCTYPE svg PUBLIC \"-//W3C//DTD SVG 1.1//EN\"\n",
       " \"http://www.w3.org/Graphics/SVG/1.1/DTD/svg11.dtd\">\n",
       "<!-- Generated by graphviz version 2.40.1 (20161225.0304)\n",
       " -->\n",
       "<!-- Title: %3 Pages: 1 -->\n",
       "<svg width=\"357pt\" height=\"372pt\"\n",
       " viewBox=\"0.00 0.00 357.06 372.00\" xmlns=\"http://www.w3.org/2000/svg\" xmlns:xlink=\"http://www.w3.org/1999/xlink\">\n",
       "<g id=\"graph0\" class=\"graph\" transform=\"scale(1 1) rotate(0) translate(4 368)\">\n",
       "<title>%3</title>\n",
       "<polygon fill=\"#ffffff\" stroke=\"transparent\" points=\"-4,4 -4,-368 353.0601,-368 353.0601,4 -4,4\"/>\n",
       "<!-- 0 -->\n",
       "<g id=\"node1\" class=\"node\">\n",
       "<title>0</title>\n",
       "<text text-anchor=\"middle\" x=\"205.73\" y=\"-352.8\" font-family=\"Times,serif\" font-size=\"14.00\" fill=\"#000000\">&lt;start&gt;</text>\n",
       "</g>\n",
       "<!-- 1 -->\n",
       "<g id=\"node2\" class=\"node\">\n",
       "<title>1</title>\n",
       "<text text-anchor=\"middle\" x=\"205.73\" y=\"-302.8\" font-family=\"Times,serif\" font-size=\"14.00\" fill=\"#000000\">&lt;expr&gt;</text>\n",
       "</g>\n",
       "<!-- 0&#45;&gt;1 -->\n",
       "<g id=\"edge1\" class=\"edge\">\n",
       "<title>0&#45;&gt;1</title>\n",
       "<path fill=\"none\" stroke=\"#000000\" d=\"M205.73,-349.6223C205.73,-342.9738 205.73,-332.942 205.73,-324.2807\"/>\n",
       "<polygon fill=\"#000000\" stroke=\"#000000\" points=\"209.2301,-324.0842 205.73,-314.0842 202.2301,-324.0842 209.2301,-324.0842\"/>\n",
       "</g>\n",
       "<!-- 2 -->\n",
       "<g id=\"node3\" class=\"node\">\n",
       "<title>2</title>\n",
       "<text text-anchor=\"middle\" x=\"158.73\" y=\"-252.8\" font-family=\"Times,serif\" font-size=\"14.00\" fill=\"#000000\">&lt;expr&gt;</text>\n",
       "</g>\n",
       "<!-- 1&#45;&gt;2 -->\n",
       "<g id=\"edge2\" class=\"edge\">\n",
       "<title>1&#45;&gt;2</title>\n",
       "<path fill=\"none\" stroke=\"#000000\" d=\"M198.795,-299.6223C191.8431,-292.2267 180.9562,-280.6449 172.2847,-271.4199\"/>\n",
       "<polygon fill=\"#000000\" stroke=\"#000000\" points=\"174.7885,-268.9733 165.3891,-264.0842 169.688,-273.7677 174.7885,-268.9733\"/>\n",
       "</g>\n",
       "<!-- 18 -->\n",
       "<g id=\"node19\" class=\"node\">\n",
       "<title>18</title>\n",
       "<text text-anchor=\"middle\" x=\"205.73\" y=\"-252.8\" font-family=\"Times,serif\" font-size=\"14.00\" fill=\"#000000\">&#45;</text>\n",
       "</g>\n",
       "<!-- 1&#45;&gt;18 -->\n",
       "<g id=\"edge18\" class=\"edge\">\n",
       "<title>1&#45;&gt;18</title>\n",
       "<path fill=\"none\" stroke=\"#000000\" d=\"M205.73,-299.6223C205.73,-292.9738 205.73,-282.942 205.73,-274.2807\"/>\n",
       "<polygon fill=\"#000000\" stroke=\"#000000\" points=\"209.2301,-274.0842 205.73,-264.0842 202.2301,-274.0842 209.2301,-274.0842\"/>\n",
       "</g>\n",
       "<!-- 19 -->\n",
       "<g id=\"node20\" class=\"node\">\n",
       "<title>19</title>\n",
       "<text text-anchor=\"middle\" x=\"249.73\" y=\"-252.8\" font-family=\"Times,serif\" font-size=\"14.00\" fill=\"#000000\">&lt;expr&gt;</text>\n",
       "</g>\n",
       "<!-- 1&#45;&gt;19 -->\n",
       "<g id=\"edge19\" class=\"edge\">\n",
       "<title>1&#45;&gt;19</title>\n",
       "<path fill=\"none\" stroke=\"#000000\" d=\"M212.2223,-299.6223C218.6647,-292.3014 228.7169,-280.8785 236.7939,-271.7001\"/>\n",
       "<polygon fill=\"#000000\" stroke=\"#000000\" points=\"239.5171,-273.9036 243.4959,-264.0842 234.2621,-269.2791 239.5171,-273.9036\"/>\n",
       "</g>\n",
       "<!-- 3 -->\n",
       "<g id=\"node4\" class=\"node\">\n",
       "<title>3</title>\n",
       "<text text-anchor=\"middle\" x=\"100.73\" y=\"-202.8\" font-family=\"Times,serif\" font-size=\"14.00\" fill=\"#000000\">&lt;expr&gt;</text>\n",
       "</g>\n",
       "<!-- 2&#45;&gt;3 -->\n",
       "<g id=\"edge3\" class=\"edge\">\n",
       "<title>2&#45;&gt;3</title>\n",
       "<path fill=\"none\" stroke=\"#000000\" d=\"M150.1719,-249.6223C141.4197,-242.0773 127.6133,-230.1752 116.8119,-220.8637\"/>\n",
       "<polygon fill=\"#000000\" stroke=\"#000000\" points=\"118.8071,-217.9627 108.9476,-214.0842 114.2365,-223.2646 118.8071,-217.9627\"/>\n",
       "</g>\n",
       "<!-- 10 -->\n",
       "<g id=\"node11\" class=\"node\">\n",
       "<title>10</title>\n",
       "<text text-anchor=\"middle\" x=\"145.73\" y=\"-202.8\" font-family=\"Times,serif\" font-size=\"14.00\" fill=\"#000000\">+</text>\n",
       "</g>\n",
       "<!-- 2&#45;&gt;10 -->\n",
       "<g id=\"edge10\" class=\"edge\">\n",
       "<title>2&#45;&gt;10</title>\n",
       "<path fill=\"none\" stroke=\"#000000\" d=\"M156.8118,-249.6223C155.0637,-242.8991 152.4162,-232.7161 150.1472,-223.9893\"/>\n",
       "<polygon fill=\"#000000\" stroke=\"#000000\" points=\"153.4757,-222.8817 147.5719,-214.0842 146.7009,-224.6432 153.4757,-222.8817\"/>\n",
       "</g>\n",
       "<!-- 11 -->\n",
       "<g id=\"node12\" class=\"node\">\n",
       "<title>11</title>\n",
       "<text text-anchor=\"middle\" x=\"187.73\" y=\"-202.8\" font-family=\"Times,serif\" font-size=\"14.00\" fill=\"#000000\">&lt;expr&gt;</text>\n",
       "</g>\n",
       "<!-- 2&#45;&gt;11 -->\n",
       "<g id=\"edge11\" class=\"edge\">\n",
       "<title>2&#45;&gt;11</title>\n",
       "<path fill=\"none\" stroke=\"#000000\" d=\"M163.009,-249.6223C167.0818,-242.6002 173.3436,-231.8041 178.5458,-222.8348\"/>\n",
       "<polygon fill=\"#000000\" stroke=\"#000000\" points=\"181.6315,-224.4905 183.6212,-214.0842 175.5763,-220.9785 181.6315,-224.4905\"/>\n",
       "</g>\n",
       "<!-- 4 -->\n",
       "<g id=\"node5\" class=\"node\">\n",
       "<title>4</title>\n",
       "<text text-anchor=\"middle\" x=\"86.73\" y=\"-152.8\" font-family=\"Times,serif\" font-size=\"14.00\" fill=\"#000000\">&lt;integer&gt;</text>\n",
       "</g>\n",
       "<!-- 3&#45;&gt;4 -->\n",
       "<g id=\"edge4\" class=\"edge\">\n",
       "<title>3&#45;&gt;4</title>\n",
       "<path fill=\"none\" stroke=\"#000000\" d=\"M98.6642,-199.6223C96.7817,-192.8991 93.9305,-182.7161 91.487,-173.9893\"/>\n",
       "<polygon fill=\"#000000\" stroke=\"#000000\" points=\"94.7803,-172.7701 88.7136,-164.0842 88.0395,-174.6576 94.7803,-172.7701\"/>\n",
       "</g>\n",
       "<!-- 5 -->\n",
       "<g id=\"node6\" class=\"node\">\n",
       "<title>5</title>\n",
       "<text text-anchor=\"middle\" x=\"20.73\" y=\"-102.8\" font-family=\"Times,serif\" font-size=\"14.00\" fill=\"#000000\">&lt;digit&gt;</text>\n",
       "</g>\n",
       "<!-- 4&#45;&gt;5 -->\n",
       "<g id=\"edge5\" class=\"edge\">\n",
       "<title>4&#45;&gt;5</title>\n",
       "<path fill=\"none\" stroke=\"#000000\" d=\"M77.2738,-149.8362C67.1777,-142.1877 50.9469,-129.8916 38.459,-120.4311\"/>\n",
       "<polygon fill=\"#000000\" stroke=\"#000000\" points=\"40.2531,-117.3993 30.1686,-114.1505 36.0261,-122.9789 40.2531,-117.3993\"/>\n",
       "</g>\n",
       "<!-- 7 -->\n",
       "<g id=\"node8\" class=\"node\">\n",
       "<title>7</title>\n",
       "<text text-anchor=\"middle\" x=\"86.73\" y=\"-102.8\" font-family=\"Times,serif\" font-size=\"14.00\" fill=\"#000000\">&lt;integer&gt;</text>\n",
       "</g>\n",
       "<!-- 4&#45;&gt;7 -->\n",
       "<g id=\"edge7\" class=\"edge\">\n",
       "<title>4&#45;&gt;7</title>\n",
       "<path fill=\"none\" stroke=\"#000000\" d=\"M86.73,-149.6223C86.73,-142.9738 86.73,-132.942 86.73,-124.2807\"/>\n",
       "<polygon fill=\"#000000\" stroke=\"#000000\" points=\"90.2301,-124.0842 86.73,-114.0842 83.2301,-124.0842 90.2301,-124.0842\"/>\n",
       "</g>\n",
       "<!-- 6 -->\n",
       "<g id=\"node7\" class=\"node\">\n",
       "<title>6</title>\n",
       "<text text-anchor=\"middle\" x=\"20.73\" y=\"-52.8\" font-family=\"Times,serif\" font-size=\"14.00\" fill=\"#000000\">1</text>\n",
       "</g>\n",
       "<!-- 5&#45;&gt;6 -->\n",
       "<g id=\"edge6\" class=\"edge\">\n",
       "<title>5&#45;&gt;6</title>\n",
       "<path fill=\"none\" stroke=\"#000000\" d=\"M20.73,-99.6223C20.73,-92.9738 20.73,-82.942 20.73,-74.2807\"/>\n",
       "<polygon fill=\"#000000\" stroke=\"#000000\" points=\"24.2301,-74.0842 20.73,-64.0842 17.2301,-74.0842 24.2301,-74.0842\"/>\n",
       "</g>\n",
       "<!-- 8 -->\n",
       "<g id=\"node9\" class=\"node\">\n",
       "<title>8</title>\n",
       "<text text-anchor=\"middle\" x=\"86.73\" y=\"-52.8\" font-family=\"Times,serif\" font-size=\"14.00\" fill=\"#000000\">&lt;digit&gt;</text>\n",
       "</g>\n",
       "<!-- 7&#45;&gt;8 -->\n",
       "<g id=\"edge8\" class=\"edge\">\n",
       "<title>7&#45;&gt;8</title>\n",
       "<path fill=\"none\" stroke=\"#000000\" d=\"M86.73,-99.6223C86.73,-92.9738 86.73,-82.942 86.73,-74.2807\"/>\n",
       "<polygon fill=\"#000000\" stroke=\"#000000\" points=\"90.2301,-74.0842 86.73,-64.0842 83.2301,-74.0842 90.2301,-74.0842\"/>\n",
       "</g>\n",
       "<!-- 9 -->\n",
       "<g id=\"node10\" class=\"node\">\n",
       "<title>9</title>\n",
       "<text text-anchor=\"middle\" x=\"86.73\" y=\"-2.8\" font-family=\"Times,serif\" font-size=\"14.00\" fill=\"#000000\">2</text>\n",
       "</g>\n",
       "<!-- 8&#45;&gt;9 -->\n",
       "<g id=\"edge9\" class=\"edge\">\n",
       "<title>8&#45;&gt;9</title>\n",
       "<path fill=\"none\" stroke=\"#000000\" d=\"M86.73,-49.6223C86.73,-42.9738 86.73,-32.942 86.73,-24.2807\"/>\n",
       "<polygon fill=\"#000000\" stroke=\"#000000\" points=\"90.2301,-24.0842 86.73,-14.0842 83.2301,-24.0842 90.2301,-24.0842\"/>\n",
       "</g>\n",
       "<!-- 12 -->\n",
       "<g id=\"node13\" class=\"node\">\n",
       "<title>12</title>\n",
       "<text text-anchor=\"middle\" x=\"187.73\" y=\"-152.8\" font-family=\"Times,serif\" font-size=\"14.00\" fill=\"#000000\">&lt;integer&gt;</text>\n",
       "</g>\n",
       "<!-- 11&#45;&gt;12 -->\n",
       "<g id=\"edge12\" class=\"edge\">\n",
       "<title>11&#45;&gt;12</title>\n",
       "<path fill=\"none\" stroke=\"#000000\" d=\"M187.73,-199.6223C187.73,-192.9738 187.73,-182.942 187.73,-174.2807\"/>\n",
       "<polygon fill=\"#000000\" stroke=\"#000000\" points=\"191.2301,-174.0842 187.73,-164.0842 184.2301,-174.0842 191.2301,-174.0842\"/>\n",
       "</g>\n",
       "<!-- 13 -->\n",
       "<g id=\"node14\" class=\"node\">\n",
       "<title>13</title>\n",
       "<text text-anchor=\"middle\" x=\"152.73\" y=\"-102.8\" font-family=\"Times,serif\" font-size=\"14.00\" fill=\"#000000\">&lt;digit&gt;</text>\n",
       "</g>\n",
       "<!-- 12&#45;&gt;13 -->\n",
       "<g id=\"edge13\" class=\"edge\">\n",
       "<title>12&#45;&gt;13</title>\n",
       "<path fill=\"none\" stroke=\"#000000\" d=\"M182.5656,-149.6223C177.5979,-142.5255 169.9318,-131.574 163.6144,-122.5492\"/>\n",
       "<polygon fill=\"#000000\" stroke=\"#000000\" points=\"166.2909,-120.2694 157.6889,-114.0842 160.5563,-124.2837 166.2909,-120.2694\"/>\n",
       "</g>\n",
       "<!-- 15 -->\n",
       "<g id=\"node16\" class=\"node\">\n",
       "<title>15</title>\n",
       "<text text-anchor=\"middle\" x=\"218.73\" y=\"-102.8\" font-family=\"Times,serif\" font-size=\"14.00\" fill=\"#000000\">&lt;integer&gt;</text>\n",
       "</g>\n",
       "<!-- 12&#45;&gt;15 -->\n",
       "<g id=\"edge15\" class=\"edge\">\n",
       "<title>12&#45;&gt;15</title>\n",
       "<path fill=\"none\" stroke=\"#000000\" d=\"M192.3041,-149.6223C196.6578,-142.6002 203.3514,-131.8041 208.9124,-122.8348\"/>\n",
       "<polygon fill=\"#000000\" stroke=\"#000000\" points=\"212.043,-124.4275 214.3378,-114.0842 206.0937,-120.7389 212.043,-124.4275\"/>\n",
       "</g>\n",
       "<!-- 14 -->\n",
       "<g id=\"node15\" class=\"node\">\n",
       "<title>14</title>\n",
       "<text text-anchor=\"middle\" x=\"152.73\" y=\"-52.8\" font-family=\"Times,serif\" font-size=\"14.00\" fill=\"#000000\">2</text>\n",
       "</g>\n",
       "<!-- 13&#45;&gt;14 -->\n",
       "<g id=\"edge14\" class=\"edge\">\n",
       "<title>13&#45;&gt;14</title>\n",
       "<path fill=\"none\" stroke=\"#000000\" d=\"M152.73,-99.6223C152.73,-92.9738 152.73,-82.942 152.73,-74.2807\"/>\n",
       "<polygon fill=\"#000000\" stroke=\"#000000\" points=\"156.2301,-74.0842 152.73,-64.0842 149.2301,-74.0842 156.2301,-74.0842\"/>\n",
       "</g>\n",
       "<!-- 16 -->\n",
       "<g id=\"node17\" class=\"node\">\n",
       "<title>16</title>\n",
       "<text text-anchor=\"middle\" x=\"218.73\" y=\"-52.8\" font-family=\"Times,serif\" font-size=\"14.00\" fill=\"#000000\">&lt;digit&gt;</text>\n",
       "</g>\n",
       "<!-- 15&#45;&gt;16 -->\n",
       "<g id=\"edge16\" class=\"edge\">\n",
       "<title>15&#45;&gt;16</title>\n",
       "<path fill=\"none\" stroke=\"#000000\" d=\"M218.73,-99.6223C218.73,-92.9738 218.73,-82.942 218.73,-74.2807\"/>\n",
       "<polygon fill=\"#000000\" stroke=\"#000000\" points=\"222.2301,-74.0842 218.73,-64.0842 215.2301,-74.0842 222.2301,-74.0842\"/>\n",
       "</g>\n",
       "<!-- 17 -->\n",
       "<g id=\"node18\" class=\"node\">\n",
       "<title>17</title>\n",
       "<text text-anchor=\"middle\" x=\"218.73\" y=\"-2.8\" font-family=\"Times,serif\" font-size=\"14.00\" fill=\"#000000\">3</text>\n",
       "</g>\n",
       "<!-- 16&#45;&gt;17 -->\n",
       "<g id=\"edge17\" class=\"edge\">\n",
       "<title>16&#45;&gt;17</title>\n",
       "<path fill=\"none\" stroke=\"#000000\" d=\"M218.73,-49.6223C218.73,-42.9738 218.73,-32.942 218.73,-24.2807\"/>\n",
       "<polygon fill=\"#000000\" stroke=\"#000000\" points=\"222.2301,-24.0842 218.73,-14.0842 215.2301,-24.0842 222.2301,-24.0842\"/>\n",
       "</g>\n",
       "<!-- 20 -->\n",
       "<g id=\"node21\" class=\"node\">\n",
       "<title>20</title>\n",
       "<text text-anchor=\"middle\" x=\"255.73\" y=\"-202.8\" font-family=\"Times,serif\" font-size=\"14.00\" fill=\"#000000\">&lt;integer&gt;</text>\n",
       "</g>\n",
       "<!-- 19&#45;&gt;20 -->\n",
       "<g id=\"edge20\" class=\"edge\">\n",
       "<title>19&#45;&gt;20</title>\n",
       "<path fill=\"none\" stroke=\"#000000\" d=\"M250.6153,-249.6223C251.4131,-242.9738 252.6169,-232.942 253.6563,-224.2807\"/>\n",
       "<polygon fill=\"#000000\" stroke=\"#000000\" points=\"257.1634,-224.43 254.8799,-214.0842 250.2133,-223.5959 257.1634,-224.43\"/>\n",
       "</g>\n",
       "<!-- 21 -->\n",
       "<g id=\"node22\" class=\"node\">\n",
       "<title>21</title>\n",
       "<text text-anchor=\"middle\" x=\"255.73\" y=\"-152.8\" font-family=\"Times,serif\" font-size=\"14.00\" fill=\"#000000\">&lt;digit&gt;</text>\n",
       "</g>\n",
       "<!-- 20&#45;&gt;21 -->\n",
       "<g id=\"edge21\" class=\"edge\">\n",
       "<title>20&#45;&gt;21</title>\n",
       "<path fill=\"none\" stroke=\"#000000\" d=\"M255.73,-199.6223C255.73,-192.9738 255.73,-182.942 255.73,-174.2807\"/>\n",
       "<polygon fill=\"#000000\" stroke=\"#000000\" points=\"259.2301,-174.0842 255.73,-164.0842 252.2301,-174.0842 259.2301,-174.0842\"/>\n",
       "</g>\n",
       "<!-- 23 -->\n",
       "<g id=\"node24\" class=\"node\">\n",
       "<title>23</title>\n",
       "<text text-anchor=\"middle\" x=\"321.73\" y=\"-152.8\" font-family=\"Times,serif\" font-size=\"14.00\" fill=\"#000000\">&lt;integer&gt;</text>\n",
       "</g>\n",
       "<!-- 20&#45;&gt;23 -->\n",
       "<g id=\"edge23\" class=\"edge\">\n",
       "<title>20&#45;&gt;23</title>\n",
       "<path fill=\"none\" stroke=\"#000000\" d=\"M265.1862,-199.8362C275.2823,-192.1877 291.5131,-179.8916 304.001,-170.4311\"/>\n",
       "<polygon fill=\"#000000\" stroke=\"#000000\" points=\"306.4339,-172.9789 312.2913,-164.1505 302.2069,-167.3993 306.4339,-172.9789\"/>\n",
       "</g>\n",
       "<!-- 22 -->\n",
       "<g id=\"node23\" class=\"node\">\n",
       "<title>22</title>\n",
       "<text text-anchor=\"middle\" x=\"267.73\" y=\"-102.8\" font-family=\"Times,serif\" font-size=\"14.00\" fill=\"#000000\">3</text>\n",
       "</g>\n",
       "<!-- 21&#45;&gt;22 -->\n",
       "<g id=\"edge22\" class=\"edge\">\n",
       "<title>21&#45;&gt;22</title>\n",
       "<path fill=\"none\" stroke=\"#000000\" d=\"M257.5006,-149.6223C259.1142,-142.8991 261.5581,-132.7161 263.6525,-123.9893\"/>\n",
       "<polygon fill=\"#000000\" stroke=\"#000000\" points=\"267.0993,-124.6249 266.0298,-114.0842 260.2926,-122.9912 267.0993,-124.6249\"/>\n",
       "</g>\n",
       "<!-- 24 -->\n",
       "<g id=\"node25\" class=\"node\">\n",
       "<title>24</title>\n",
       "<text text-anchor=\"middle\" x=\"321.73\" y=\"-102.8\" font-family=\"Times,serif\" font-size=\"14.00\" fill=\"#000000\">&lt;digit&gt;</text>\n",
       "</g>\n",
       "<!-- 23&#45;&gt;24 -->\n",
       "<g id=\"edge24\" class=\"edge\">\n",
       "<title>23&#45;&gt;24</title>\n",
       "<path fill=\"none\" stroke=\"#000000\" d=\"M321.73,-149.6223C321.73,-142.9738 321.73,-132.942 321.73,-124.2807\"/>\n",
       "<polygon fill=\"#000000\" stroke=\"#000000\" points=\"325.2301,-124.0842 321.73,-114.0842 318.2301,-124.0842 325.2301,-124.0842\"/>\n",
       "</g>\n",
       "<!-- 25 -->\n",
       "<g id=\"node26\" class=\"node\">\n",
       "<title>25</title>\n",
       "<text text-anchor=\"middle\" x=\"321.73\" y=\"-52.8\" font-family=\"Times,serif\" font-size=\"14.00\" fill=\"#000000\">4</text>\n",
       "</g>\n",
       "<!-- 24&#45;&gt;25 -->\n",
       "<g id=\"edge25\" class=\"edge\">\n",
       "<title>24&#45;&gt;25</title>\n",
       "<path fill=\"none\" stroke=\"#000000\" d=\"M321.73,-99.6223C321.73,-92.9738 321.73,-82.942 321.73,-74.2807\"/>\n",
       "<polygon fill=\"#000000\" stroke=\"#000000\" points=\"325.2301,-74.0842 321.73,-64.0842 318.2301,-74.0842 325.2301,-74.0842\"/>\n",
       "</g>\n",
       "</g>\n",
       "</svg>\n"
      ],
      "text/plain": [
       "<graphviz.dot.Digraph at 0x11ca9dcc0>"
      ]
     },
     "metadata": {},
     "output_type": "display_data"
    },
    {
     "data": {
      "image/svg+xml": [
       "<?xml version=\"1.0\" encoding=\"UTF-8\" standalone=\"no\"?>\n",
       "<!DOCTYPE svg PUBLIC \"-//W3C//DTD SVG 1.1//EN\"\n",
       " \"http://www.w3.org/Graphics/SVG/1.1/DTD/svg11.dtd\">\n",
       "<!-- Generated by graphviz version 2.40.1 (20161225.0304)\n",
       " -->\n",
       "<!-- Title: %3 Pages: 1 -->\n",
       "<svg width=\"367pt\" height=\"372pt\"\n",
       " viewBox=\"0.00 0.00 367.06 372.00\" xmlns=\"http://www.w3.org/2000/svg\" xmlns:xlink=\"http://www.w3.org/1999/xlink\">\n",
       "<g id=\"graph0\" class=\"graph\" transform=\"scale(1 1) rotate(0) translate(4 368)\">\n",
       "<title>%3</title>\n",
       "<polygon fill=\"#ffffff\" stroke=\"transparent\" points=\"-4,4 -4,-368 363.0601,-368 363.0601,4 -4,4\"/>\n",
       "<!-- 0 -->\n",
       "<g id=\"node1\" class=\"node\">\n",
       "<title>0</title>\n",
       "<text text-anchor=\"middle\" x=\"150.73\" y=\"-352.8\" font-family=\"Times,serif\" font-size=\"14.00\" fill=\"#000000\">&lt;start&gt;</text>\n",
       "</g>\n",
       "<!-- 1 -->\n",
       "<g id=\"node2\" class=\"node\">\n",
       "<title>1</title>\n",
       "<text text-anchor=\"middle\" x=\"150.73\" y=\"-302.8\" font-family=\"Times,serif\" font-size=\"14.00\" fill=\"#000000\">&lt;expr&gt;</text>\n",
       "</g>\n",
       "<!-- 0&#45;&gt;1 -->\n",
       "<g id=\"edge1\" class=\"edge\">\n",
       "<title>0&#45;&gt;1</title>\n",
       "<path fill=\"none\" stroke=\"#000000\" d=\"M150.73,-349.6223C150.73,-342.9738 150.73,-332.942 150.73,-324.2807\"/>\n",
       "<polygon fill=\"#000000\" stroke=\"#000000\" points=\"154.2301,-324.0842 150.73,-314.0842 147.2301,-324.0842 154.2301,-324.0842\"/>\n",
       "</g>\n",
       "<!-- 2 -->\n",
       "<g id=\"node3\" class=\"node\">\n",
       "<title>2</title>\n",
       "<text text-anchor=\"middle\" x=\"101.73\" y=\"-252.8\" font-family=\"Times,serif\" font-size=\"14.00\" fill=\"#000000\">&lt;expr&gt;</text>\n",
       "</g>\n",
       "<!-- 1&#45;&gt;2 -->\n",
       "<g id=\"edge2\" class=\"edge\">\n",
       "<title>1&#45;&gt;2</title>\n",
       "<path fill=\"none\" stroke=\"#000000\" d=\"M143.4999,-299.6223C136.2522,-292.2267 124.902,-280.6449 115.8615,-271.4199\"/>\n",
       "<polygon fill=\"#000000\" stroke=\"#000000\" points=\"118.1716,-268.7766 108.6725,-264.0842 113.172,-273.6761 118.1716,-268.7766\"/>\n",
       "</g>\n",
       "<!-- 9 -->\n",
       "<g id=\"node10\" class=\"node\">\n",
       "<title>9</title>\n",
       "<text text-anchor=\"middle\" x=\"150.73\" y=\"-252.8\" font-family=\"Times,serif\" font-size=\"14.00\" fill=\"#000000\">+</text>\n",
       "</g>\n",
       "<!-- 1&#45;&gt;9 -->\n",
       "<g id=\"edge9\" class=\"edge\">\n",
       "<title>1&#45;&gt;9</title>\n",
       "<path fill=\"none\" stroke=\"#000000\" d=\"M150.73,-299.6223C150.73,-292.9738 150.73,-282.942 150.73,-274.2807\"/>\n",
       "<polygon fill=\"#000000\" stroke=\"#000000\" points=\"154.2301,-274.0842 150.73,-264.0842 147.2301,-274.0842 154.2301,-274.0842\"/>\n",
       "</g>\n",
       "<!-- 10 -->\n",
       "<g id=\"node11\" class=\"node\">\n",
       "<title>10</title>\n",
       "<text text-anchor=\"middle\" x=\"196.73\" y=\"-252.8\" font-family=\"Times,serif\" font-size=\"14.00\" fill=\"#000000\">&lt;expr&gt;</text>\n",
       "</g>\n",
       "<!-- 1&#45;&gt;10 -->\n",
       "<g id=\"edge10\" class=\"edge\">\n",
       "<title>1&#45;&gt;10</title>\n",
       "<path fill=\"none\" stroke=\"#000000\" d=\"M157.5174,-299.6223C164.2527,-292.3014 174.7618,-280.8785 183.2059,-271.7001\"/>\n",
       "<polygon fill=\"#000000\" stroke=\"#000000\" points=\"186.0177,-273.8132 190.2125,-264.0842 180.8662,-269.0738 186.0177,-273.8132\"/>\n",
       "</g>\n",
       "<!-- 3 -->\n",
       "<g id=\"node4\" class=\"node\">\n",
       "<title>3</title>\n",
       "<text text-anchor=\"middle\" x=\"86.73\" y=\"-202.8\" font-family=\"Times,serif\" font-size=\"14.00\" fill=\"#000000\">&lt;integer&gt;</text>\n",
       "</g>\n",
       "<!-- 2&#45;&gt;3 -->\n",
       "<g id=\"edge3\" class=\"edge\">\n",
       "<title>2&#45;&gt;3</title>\n",
       "<path fill=\"none\" stroke=\"#000000\" d=\"M99.5167,-249.6223C97.4773,-242.8244 94.3768,-232.4894 91.7397,-223.699\"/>\n",
       "<polygon fill=\"#000000\" stroke=\"#000000\" points=\"95.0812,-222.6567 88.8552,-214.0842 88.3764,-224.6682 95.0812,-222.6567\"/>\n",
       "</g>\n",
       "<!-- 4 -->\n",
       "<g id=\"node5\" class=\"node\">\n",
       "<title>4</title>\n",
       "<text text-anchor=\"middle\" x=\"20.73\" y=\"-152.8\" font-family=\"Times,serif\" font-size=\"14.00\" fill=\"#000000\">&lt;digit&gt;</text>\n",
       "</g>\n",
       "<!-- 3&#45;&gt;4 -->\n",
       "<g id=\"edge4\" class=\"edge\">\n",
       "<title>3&#45;&gt;4</title>\n",
       "<path fill=\"none\" stroke=\"#000000\" d=\"M77.2738,-199.8362C67.1777,-192.1877 50.9469,-179.8916 38.459,-170.4311\"/>\n",
       "<polygon fill=\"#000000\" stroke=\"#000000\" points=\"40.2531,-167.3993 30.1686,-164.1505 36.0261,-172.9789 40.2531,-167.3993\"/>\n",
       "</g>\n",
       "<!-- 6 -->\n",
       "<g id=\"node7\" class=\"node\">\n",
       "<title>6</title>\n",
       "<text text-anchor=\"middle\" x=\"86.73\" y=\"-152.8\" font-family=\"Times,serif\" font-size=\"14.00\" fill=\"#000000\">&lt;integer&gt;</text>\n",
       "</g>\n",
       "<!-- 3&#45;&gt;6 -->\n",
       "<g id=\"edge6\" class=\"edge\">\n",
       "<title>3&#45;&gt;6</title>\n",
       "<path fill=\"none\" stroke=\"#000000\" d=\"M86.73,-199.6223C86.73,-192.9738 86.73,-182.942 86.73,-174.2807\"/>\n",
       "<polygon fill=\"#000000\" stroke=\"#000000\" points=\"90.2301,-174.0842 86.73,-164.0842 83.2301,-174.0842 90.2301,-174.0842\"/>\n",
       "</g>\n",
       "<!-- 5 -->\n",
       "<g id=\"node6\" class=\"node\">\n",
       "<title>5</title>\n",
       "<text text-anchor=\"middle\" x=\"20.73\" y=\"-102.8\" font-family=\"Times,serif\" font-size=\"14.00\" fill=\"#000000\">1</text>\n",
       "</g>\n",
       "<!-- 4&#45;&gt;5 -->\n",
       "<g id=\"edge5\" class=\"edge\">\n",
       "<title>4&#45;&gt;5</title>\n",
       "<path fill=\"none\" stroke=\"#000000\" d=\"M20.73,-149.6223C20.73,-142.9738 20.73,-132.942 20.73,-124.2807\"/>\n",
       "<polygon fill=\"#000000\" stroke=\"#000000\" points=\"24.2301,-124.0842 20.73,-114.0842 17.2301,-124.0842 24.2301,-124.0842\"/>\n",
       "</g>\n",
       "<!-- 7 -->\n",
       "<g id=\"node8\" class=\"node\">\n",
       "<title>7</title>\n",
       "<text text-anchor=\"middle\" x=\"74.73\" y=\"-102.8\" font-family=\"Times,serif\" font-size=\"14.00\" fill=\"#000000\">&lt;digit&gt;</text>\n",
       "</g>\n",
       "<!-- 6&#45;&gt;7 -->\n",
       "<g id=\"edge7\" class=\"edge\">\n",
       "<title>6&#45;&gt;7</title>\n",
       "<path fill=\"none\" stroke=\"#000000\" d=\"M84.9593,-149.6223C83.3458,-142.8991 80.9018,-132.7161 78.8074,-123.9893\"/>\n",
       "<polygon fill=\"#000000\" stroke=\"#000000\" points=\"82.1673,-122.9912 76.4302,-114.0842 75.3606,-124.6249 82.1673,-122.9912\"/>\n",
       "</g>\n",
       "<!-- 8 -->\n",
       "<g id=\"node9\" class=\"node\">\n",
       "<title>8</title>\n",
       "<text text-anchor=\"middle\" x=\"74.73\" y=\"-52.8\" font-family=\"Times,serif\" font-size=\"14.00\" fill=\"#000000\">2</text>\n",
       "</g>\n",
       "<!-- 7&#45;&gt;8 -->\n",
       "<g id=\"edge8\" class=\"edge\">\n",
       "<title>7&#45;&gt;8</title>\n",
       "<path fill=\"none\" stroke=\"#000000\" d=\"M74.73,-99.6223C74.73,-92.9738 74.73,-82.942 74.73,-74.2807\"/>\n",
       "<polygon fill=\"#000000\" stroke=\"#000000\" points=\"78.2301,-74.0842 74.73,-64.0842 71.2301,-74.0842 78.2301,-74.0842\"/>\n",
       "</g>\n",
       "<!-- 11 -->\n",
       "<g id=\"node12\" class=\"node\">\n",
       "<title>11</title>\n",
       "<text text-anchor=\"middle\" x=\"162.73\" y=\"-202.8\" font-family=\"Times,serif\" font-size=\"14.00\" fill=\"#000000\">&lt;expr&gt;</text>\n",
       "</g>\n",
       "<!-- 10&#45;&gt;11 -->\n",
       "<g id=\"edge11\" class=\"edge\">\n",
       "<title>10&#45;&gt;11</title>\n",
       "<path fill=\"none\" stroke=\"#000000\" d=\"M191.7132,-249.6223C186.8874,-242.5255 179.4403,-231.574 173.3034,-222.5492\"/>\n",
       "<polygon fill=\"#000000\" stroke=\"#000000\" points=\"176.0646,-220.3854 167.5472,-214.0842 170.2761,-224.3216 176.0646,-220.3854\"/>\n",
       "</g>\n",
       "<!-- 18 -->\n",
       "<g id=\"node19\" class=\"node\">\n",
       "<title>18</title>\n",
       "<text text-anchor=\"middle\" x=\"203.73\" y=\"-202.8\" font-family=\"Times,serif\" font-size=\"14.00\" fill=\"#000000\">&#45;</text>\n",
       "</g>\n",
       "<!-- 10&#45;&gt;18 -->\n",
       "<g id=\"edge18\" class=\"edge\">\n",
       "<title>10&#45;&gt;18</title>\n",
       "<path fill=\"none\" stroke=\"#000000\" d=\"M197.7629,-249.6223C198.7041,-242.8991 200.1297,-232.7161 201.3515,-223.9893\"/>\n",
       "<polygon fill=\"#000000\" stroke=\"#000000\" points=\"204.8178,-224.4729 202.7382,-214.0842 197.8854,-223.5023 204.8178,-224.4729\"/>\n",
       "</g>\n",
       "<!-- 19 -->\n",
       "<g id=\"node20\" class=\"node\">\n",
       "<title>19</title>\n",
       "<text text-anchor=\"middle\" x=\"250.73\" y=\"-202.8\" font-family=\"Times,serif\" font-size=\"14.00\" fill=\"#000000\">&lt;expr&gt;</text>\n",
       "</g>\n",
       "<!-- 10&#45;&gt;19 -->\n",
       "<g id=\"edge19\" class=\"edge\">\n",
       "<title>10&#45;&gt;19</title>\n",
       "<path fill=\"none\" stroke=\"#000000\" d=\"M204.6979,-249.6223C212.7658,-242.152 225.4466,-230.4105 235.4576,-221.1411\"/>\n",
       "<polygon fill=\"#000000\" stroke=\"#000000\" points=\"238.1194,-223.4465 243.0791,-214.0842 233.3635,-218.3101 238.1194,-223.4465\"/>\n",
       "</g>\n",
       "<!-- 12 -->\n",
       "<g id=\"node13\" class=\"node\">\n",
       "<title>12</title>\n",
       "<text text-anchor=\"middle\" x=\"162.73\" y=\"-152.8\" font-family=\"Times,serif\" font-size=\"14.00\" fill=\"#000000\">&lt;integer&gt;</text>\n",
       "</g>\n",
       "<!-- 11&#45;&gt;12 -->\n",
       "<g id=\"edge12\" class=\"edge\">\n",
       "<title>11&#45;&gt;12</title>\n",
       "<path fill=\"none\" stroke=\"#000000\" d=\"M162.73,-199.6223C162.73,-192.9738 162.73,-182.942 162.73,-174.2807\"/>\n",
       "<polygon fill=\"#000000\" stroke=\"#000000\" points=\"166.2301,-174.0842 162.73,-164.0842 159.2301,-174.0842 166.2301,-174.0842\"/>\n",
       "</g>\n",
       "<!-- 13 -->\n",
       "<g id=\"node14\" class=\"node\">\n",
       "<title>13</title>\n",
       "<text text-anchor=\"middle\" x=\"133.73\" y=\"-102.8\" font-family=\"Times,serif\" font-size=\"14.00\" fill=\"#000000\">&lt;digit&gt;</text>\n",
       "</g>\n",
       "<!-- 12&#45;&gt;13 -->\n",
       "<g id=\"edge13\" class=\"edge\">\n",
       "<title>12&#45;&gt;13</title>\n",
       "<path fill=\"none\" stroke=\"#000000\" d=\"M158.4509,-149.6223C154.3781,-142.6002 148.1164,-131.8041 142.9142,-122.8348\"/>\n",
       "<polygon fill=\"#000000\" stroke=\"#000000\" points=\"145.8837,-120.9785 137.8388,-114.0842 139.8284,-124.4905 145.8837,-120.9785\"/>\n",
       "</g>\n",
       "<!-- 15 -->\n",
       "<g id=\"node16\" class=\"node\">\n",
       "<title>15</title>\n",
       "<text text-anchor=\"middle\" x=\"199.73\" y=\"-102.8\" font-family=\"Times,serif\" font-size=\"14.00\" fill=\"#000000\">&lt;integer&gt;</text>\n",
       "</g>\n",
       "<!-- 12&#45;&gt;15 -->\n",
       "<g id=\"edge15\" class=\"edge\">\n",
       "<title>12&#45;&gt;15</title>\n",
       "<path fill=\"none\" stroke=\"#000000\" d=\"M168.1895,-149.6223C173.4964,-142.4508 181.7162,-131.343 188.434,-122.2648\"/>\n",
       "<polygon fill=\"#000000\" stroke=\"#000000\" points=\"191.3527,-124.2046 194.4877,-114.0842 185.7258,-120.0407 191.3527,-124.2046\"/>\n",
       "</g>\n",
       "<!-- 14 -->\n",
       "<g id=\"node15\" class=\"node\">\n",
       "<title>14</title>\n",
       "<text text-anchor=\"middle\" x=\"133.73\" y=\"-52.8\" font-family=\"Times,serif\" font-size=\"14.00\" fill=\"#000000\">2</text>\n",
       "</g>\n",
       "<!-- 13&#45;&gt;14 -->\n",
       "<g id=\"edge14\" class=\"edge\">\n",
       "<title>13&#45;&gt;14</title>\n",
       "<path fill=\"none\" stroke=\"#000000\" d=\"M133.73,-99.6223C133.73,-92.9738 133.73,-82.942 133.73,-74.2807\"/>\n",
       "<polygon fill=\"#000000\" stroke=\"#000000\" points=\"137.2301,-74.0842 133.73,-64.0842 130.2301,-74.0842 137.2301,-74.0842\"/>\n",
       "</g>\n",
       "<!-- 16 -->\n",
       "<g id=\"node17\" class=\"node\">\n",
       "<title>16</title>\n",
       "<text text-anchor=\"middle\" x=\"199.73\" y=\"-52.8\" font-family=\"Times,serif\" font-size=\"14.00\" fill=\"#000000\">&lt;digit&gt;</text>\n",
       "</g>\n",
       "<!-- 15&#45;&gt;16 -->\n",
       "<g id=\"edge16\" class=\"edge\">\n",
       "<title>15&#45;&gt;16</title>\n",
       "<path fill=\"none\" stroke=\"#000000\" d=\"M199.73,-99.6223C199.73,-92.9738 199.73,-82.942 199.73,-74.2807\"/>\n",
       "<polygon fill=\"#000000\" stroke=\"#000000\" points=\"203.2301,-74.0842 199.73,-64.0842 196.2301,-74.0842 203.2301,-74.0842\"/>\n",
       "</g>\n",
       "<!-- 17 -->\n",
       "<g id=\"node18\" class=\"node\">\n",
       "<title>17</title>\n",
       "<text text-anchor=\"middle\" x=\"199.73\" y=\"-2.8\" font-family=\"Times,serif\" font-size=\"14.00\" fill=\"#000000\">3</text>\n",
       "</g>\n",
       "<!-- 16&#45;&gt;17 -->\n",
       "<g id=\"edge17\" class=\"edge\">\n",
       "<title>16&#45;&gt;17</title>\n",
       "<path fill=\"none\" stroke=\"#000000\" d=\"M199.73,-49.6223C199.73,-42.9738 199.73,-32.942 199.73,-24.2807\"/>\n",
       "<polygon fill=\"#000000\" stroke=\"#000000\" points=\"203.2301,-24.0842 199.73,-14.0842 196.2301,-24.0842 203.2301,-24.0842\"/>\n",
       "</g>\n",
       "<!-- 20 -->\n",
       "<g id=\"node21\" class=\"node\">\n",
       "<title>20</title>\n",
       "<text text-anchor=\"middle\" x=\"265.73\" y=\"-152.8\" font-family=\"Times,serif\" font-size=\"14.00\" fill=\"#000000\">&lt;integer&gt;</text>\n",
       "</g>\n",
       "<!-- 19&#45;&gt;20 -->\n",
       "<g id=\"edge20\" class=\"edge\">\n",
       "<title>19&#45;&gt;20</title>\n",
       "<path fill=\"none\" stroke=\"#000000\" d=\"M252.9433,-199.6223C254.9827,-192.8244 258.0832,-182.4894 260.7203,-173.699\"/>\n",
       "<polygon fill=\"#000000\" stroke=\"#000000\" points=\"264.0836,-174.6682 263.6047,-164.0842 257.3788,-172.6567 264.0836,-174.6682\"/>\n",
       "</g>\n",
       "<!-- 21 -->\n",
       "<g id=\"node22\" class=\"node\">\n",
       "<title>21</title>\n",
       "<text text-anchor=\"middle\" x=\"265.73\" y=\"-102.8\" font-family=\"Times,serif\" font-size=\"14.00\" fill=\"#000000\">&lt;digit&gt;</text>\n",
       "</g>\n",
       "<!-- 20&#45;&gt;21 -->\n",
       "<g id=\"edge21\" class=\"edge\">\n",
       "<title>20&#45;&gt;21</title>\n",
       "<path fill=\"none\" stroke=\"#000000\" d=\"M265.73,-149.6223C265.73,-142.9738 265.73,-132.942 265.73,-124.2807\"/>\n",
       "<polygon fill=\"#000000\" stroke=\"#000000\" points=\"269.2301,-124.0842 265.73,-114.0842 262.2301,-124.0842 269.2301,-124.0842\"/>\n",
       "</g>\n",
       "<!-- 23 -->\n",
       "<g id=\"node24\" class=\"node\">\n",
       "<title>23</title>\n",
       "<text text-anchor=\"middle\" x=\"331.73\" y=\"-102.8\" font-family=\"Times,serif\" font-size=\"14.00\" fill=\"#000000\">&lt;integer&gt;</text>\n",
       "</g>\n",
       "<!-- 20&#45;&gt;23 -->\n",
       "<g id=\"edge23\" class=\"edge\">\n",
       "<title>20&#45;&gt;23</title>\n",
       "<path fill=\"none\" stroke=\"#000000\" d=\"M275.1862,-149.8362C285.2823,-142.1877 301.5131,-129.8916 314.001,-120.4311\"/>\n",
       "<polygon fill=\"#000000\" stroke=\"#000000\" points=\"316.4339,-122.9789 322.2913,-114.1505 312.2069,-117.3993 316.4339,-122.9789\"/>\n",
       "</g>\n",
       "<!-- 22 -->\n",
       "<g id=\"node23\" class=\"node\">\n",
       "<title>22</title>\n",
       "<text text-anchor=\"middle\" x=\"265.73\" y=\"-52.8\" font-family=\"Times,serif\" font-size=\"14.00\" fill=\"#000000\">3</text>\n",
       "</g>\n",
       "<!-- 21&#45;&gt;22 -->\n",
       "<g id=\"edge22\" class=\"edge\">\n",
       "<title>21&#45;&gt;22</title>\n",
       "<path fill=\"none\" stroke=\"#000000\" d=\"M265.73,-99.6223C265.73,-92.9738 265.73,-82.942 265.73,-74.2807\"/>\n",
       "<polygon fill=\"#000000\" stroke=\"#000000\" points=\"269.2301,-74.0842 265.73,-64.0842 262.2301,-74.0842 269.2301,-74.0842\"/>\n",
       "</g>\n",
       "<!-- 24 -->\n",
       "<g id=\"node25\" class=\"node\">\n",
       "<title>24</title>\n",
       "<text text-anchor=\"middle\" x=\"331.73\" y=\"-52.8\" font-family=\"Times,serif\" font-size=\"14.00\" fill=\"#000000\">&lt;digit&gt;</text>\n",
       "</g>\n",
       "<!-- 23&#45;&gt;24 -->\n",
       "<g id=\"edge24\" class=\"edge\">\n",
       "<title>23&#45;&gt;24</title>\n",
       "<path fill=\"none\" stroke=\"#000000\" d=\"M331.73,-99.6223C331.73,-92.9738 331.73,-82.942 331.73,-74.2807\"/>\n",
       "<polygon fill=\"#000000\" stroke=\"#000000\" points=\"335.2301,-74.0842 331.73,-64.0842 328.2301,-74.0842 335.2301,-74.0842\"/>\n",
       "</g>\n",
       "<!-- 25 -->\n",
       "<g id=\"node26\" class=\"node\">\n",
       "<title>25</title>\n",
       "<text text-anchor=\"middle\" x=\"331.73\" y=\"-2.8\" font-family=\"Times,serif\" font-size=\"14.00\" fill=\"#000000\">4</text>\n",
       "</g>\n",
       "<!-- 24&#45;&gt;25 -->\n",
       "<g id=\"edge25\" class=\"edge\">\n",
       "<title>24&#45;&gt;25</title>\n",
       "<path fill=\"none\" stroke=\"#000000\" d=\"M331.73,-49.6223C331.73,-42.9738 331.73,-32.942 331.73,-24.2807\"/>\n",
       "<polygon fill=\"#000000\" stroke=\"#000000\" points=\"335.2301,-24.0842 331.73,-14.0842 328.2301,-24.0842 335.2301,-24.0842\"/>\n",
       "</g>\n",
       "</g>\n",
       "</svg>\n"
      ],
      "text/plain": [
       "<graphviz.dot.Digraph at 0x11ca9dcc0>"
      ]
     },
     "metadata": {},
     "output_type": "display_data"
    }
   ],
   "source": [
    "mystring = '12+23-34'\n",
    "parser = EarleyParser(A1_GRAMMAR)\n",
    "for tree in parser.parse(mystring):\n",
    "    assert mystring == tree_to_string(tree)\n",
    "    display_tree(tree)"
   ]
  },
  {
   "cell_type": "markdown",
   "metadata": {
    "slideshow": {
     "slide_type": "fragment"
    }
   },
   "source": [
    "One can also use a `GrammarFuzzer` to verify that everything works."
   ]
  },
  {
   "cell_type": "code",
   "execution_count": 116,
   "metadata": {
    "slideshow": {
     "slide_type": "subslide"
    }
   },
   "outputs": [
    {
     "name": "stdout",
     "output_type": "stream",
     "text": [
      "0 045+3+2-9+7-7-5-1-449\n",
      "1 0+9+5-2+1-8+4-3+7+2\n",
      "2 76413\n",
      "3 9339\n",
      "4 62\n"
     ]
    }
   ],
   "source": [
    "gf = GrammarFuzzer(A1_GRAMMAR)\n",
    "for i in range(5):\n",
    "    s = gf.fuzz()\n",
    "    print(i, s)\n",
    "    for tree in parser.parse(s):\n",
    "        assert tree_to_string(tree) == s"
   ]
  },
  {
   "cell_type": "markdown",
   "metadata": {
    "slideshow": {
     "slide_type": "skip"
    },
    "toc-hr-collapsed": true
   },
   "source": [
    "### The Aycock Epsilon Fix\n",
    "\n",
    "While parsing, one often requires to know whether a given nonterminal can derive an empty string. For example, in the following grammar A can derive an empty string, while B can't. The nonterminals that can derive an empty string are called _nullable_ nonterminals. For example, in the below grammar `E_GRAMMAR_1`,  `<A>` is _nullable_, and since `<A>` is one of the alternatives of `<start>`, `<start>` is also _nullable_. But `<B>` is not _nullable_."
   ]
  },
  {
   "cell_type": "code",
   "execution_count": 117,
   "metadata": {
    "slideshow": {
     "slide_type": "skip"
    }
   },
   "outputs": [],
   "source": [
    "E_GRAMMAR_1 = {\n",
    "    '<start>': ['<A>', '<B>'],\n",
    "    '<A>': ['a', ''],\n",
    "    '<B>': ['b']\n",
    "}"
   ]
  },
  {
   "cell_type": "markdown",
   "metadata": {
    "slideshow": {
     "slide_type": "notes"
    }
   },
   "source": [
    "One of the problems with the original Earley implementation is that it does not handle rules that can derive empty strings very well. For example, the given grammar should match `a`"
   ]
  },
  {
   "cell_type": "code",
   "execution_count": 118,
   "metadata": {
    "slideshow": {
     "slide_type": "subslide"
    }
   },
   "outputs": [],
   "source": [
    "EPSILON = ''\n",
    "E_GRAMMAR = {\n",
    "    '<start>': ['<S>'],\n",
    "    '<S>': ['<A><A><A><A>'],\n",
    "    '<A>': ['a', '<E>'],\n",
    "    '<E>': [EPSILON]\n",
    "}"
   ]
  },
  {
   "cell_type": "code",
   "execution_count": 119,
   "metadata": {
    "slideshow": {
     "slide_type": "subslide"
    }
   },
   "outputs": [
    {
     "name": "stdout",
     "output_type": "stream",
     "text": [
      "start\n"
     ]
    },
    {
     "data": {
      "image/svg+xml": [
       "<svg class=\"railroad-diagram\" height=\"62\" viewBox=\"0 0 148.5 62\" width=\"148.5\" xmlns=\"http://www.w3.org/2000/svg\">\n",
       "<g transform=\"translate(.5 .5)\">\n",
       "<style>/* <![CDATA[ */\n",
       "    svg.railroad-diagram {\n",
       "        background-color:hsl(100,100%,100%);\n",
       "    }\n",
       "    svg.railroad-diagram path {\n",
       "        stroke-width:3;\n",
       "        stroke:black;\n",
       "        fill:rgba(0,0,0,0);\n",
       "    }\n",
       "    svg.railroad-diagram text {\n",
       "        font:bold 14px monospace;\n",
       "        text-anchor:middle;\n",
       "    }\n",
       "    svg.railroad-diagram text.label{\n",
       "        text-anchor:start;\n",
       "    }\n",
       "    svg.railroad-diagram text.comment{\n",
       "        font:italic 12px monospace;\n",
       "    }\n",
       "    svg.railroad-diagram rect{\n",
       "        stroke-width:3;\n",
       "        stroke:black;\n",
       "        fill:hsl(0,62%,82%);\n",
       "    }\n",
       "\n",
       "/* ]]> */\n",
       "</style><g>\n",
       "<path d=\"M20 21v20m10 -20v20m-10 -10h20\"/></g><g>\n",
       "<path d=\"M40 31h0.0\"/><path d=\"M108.5 31h0.0\"/><path d=\"M40.0 31h20\"/><g>\n",
       "<path d=\"M60.0 31h0.0\"/><path d=\"M88.5 31h0.0\"/><g class=\"non-terminal\">\n",
       "<path d=\"M60.0 31h0.0\"/><path d=\"M88.5 31h0.0\"/><rect height=\"22\" width=\"28.5\" x=\"60.0\" y=\"20\"/><text x=\"74.25\" y=\"35\">S</text></g></g><path d=\"M88.5 31h20\"/></g><path d=\"M 108.5 31 h 20 m -10 -10 v 20 m 10 -20 v 20\"/></g></svg>"
      ],
      "text/plain": [
       "<IPython.core.display.SVG object>"
      ]
     },
     "metadata": {},
     "output_type": "display_data"
    },
    {
     "name": "stdout",
     "output_type": "stream",
     "text": [
      "S\n"
     ]
    },
    {
     "data": {
      "image/svg+xml": [
       "<svg class=\"railroad-diagram\" height=\"62\" viewBox=\"0 0 294.0 62\" width=\"294.0\" xmlns=\"http://www.w3.org/2000/svg\">\n",
       "<g transform=\"translate(.5 .5)\">\n",
       "<style>/* <![CDATA[ */\n",
       "    svg.railroad-diagram {\n",
       "        background-color:hsl(100,100%,100%);\n",
       "    }\n",
       "    svg.railroad-diagram path {\n",
       "        stroke-width:3;\n",
       "        stroke:black;\n",
       "        fill:rgba(0,0,0,0);\n",
       "    }\n",
       "    svg.railroad-diagram text {\n",
       "        font:bold 14px monospace;\n",
       "        text-anchor:middle;\n",
       "    }\n",
       "    svg.railroad-diagram text.label{\n",
       "        text-anchor:start;\n",
       "    }\n",
       "    svg.railroad-diagram text.comment{\n",
       "        font:italic 12px monospace;\n",
       "    }\n",
       "    svg.railroad-diagram rect{\n",
       "        stroke-width:3;\n",
       "        stroke:black;\n",
       "        fill:hsl(0,62%,82%);\n",
       "    }\n",
       "\n",
       "/* ]]> */\n",
       "</style><g>\n",
       "<path d=\"M20 21v20m10 -20v20m-10 -10h20\"/></g><g>\n",
       "<path d=\"M40 31h0.0\"/><path d=\"M254.0 31h0.0\"/><path d=\"M40.0 31h20\"/><g>\n",
       "<path d=\"M60.0 31h0.0\"/><path d=\"M234.0 31h0.0\"/><g class=\"non-terminal\">\n",
       "<path d=\"M60.0 31h0.0\"/><path d=\"M88.5 31h0.0\"/><rect height=\"22\" width=\"28.5\" x=\"60.0\" y=\"20\"/><text x=\"74.25\" y=\"35\">A</text></g><path d=\"M88.5 31h10\"/><path d=\"M98.5 31h10\"/><g class=\"non-terminal\">\n",
       "<path d=\"M108.5 31h0.0\"/><path d=\"M137.0 31h0.0\"/><rect height=\"22\" width=\"28.5\" x=\"108.5\" y=\"20\"/><text x=\"122.75\" y=\"35\">A</text></g><path d=\"M137.0 31h10\"/><path d=\"M147.0 31h10\"/><g class=\"non-terminal\">\n",
       "<path d=\"M157.0 31h0.0\"/><path d=\"M185.5 31h0.0\"/><rect height=\"22\" width=\"28.5\" x=\"157.0\" y=\"20\"/><text x=\"171.25\" y=\"35\">A</text></g><path d=\"M185.5 31h10\"/><path d=\"M195.5 31h10\"/><g class=\"non-terminal\">\n",
       "<path d=\"M205.5 31h0.0\"/><path d=\"M234.0 31h0.0\"/><rect height=\"22\" width=\"28.5\" x=\"205.5\" y=\"20\"/><text x=\"219.75\" y=\"35\">A</text></g></g><path d=\"M234.0 31h20\"/></g><path d=\"M 254.0 31 h 20 m -10 -10 v 20 m 10 -20 v 20\"/></g></svg>"
      ],
      "text/plain": [
       "<IPython.core.display.SVG object>"
      ]
     },
     "metadata": {},
     "output_type": "display_data"
    },
    {
     "name": "stdout",
     "output_type": "stream",
     "text": [
      "A\n"
     ]
    },
    {
     "data": {
      "image/svg+xml": [
       "<svg class=\"railroad-diagram\" height=\"92\" viewBox=\"0 0 148.5 92\" width=\"148.5\" xmlns=\"http://www.w3.org/2000/svg\">\n",
       "<g transform=\"translate(.5 .5)\">\n",
       "<style>/* <![CDATA[ */\n",
       "    svg.railroad-diagram {\n",
       "        background-color:hsl(100,100%,100%);\n",
       "    }\n",
       "    svg.railroad-diagram path {\n",
       "        stroke-width:3;\n",
       "        stroke:black;\n",
       "        fill:rgba(0,0,0,0);\n",
       "    }\n",
       "    svg.railroad-diagram text {\n",
       "        font:bold 14px monospace;\n",
       "        text-anchor:middle;\n",
       "    }\n",
       "    svg.railroad-diagram text.label{\n",
       "        text-anchor:start;\n",
       "    }\n",
       "    svg.railroad-diagram text.comment{\n",
       "        font:italic 12px monospace;\n",
       "    }\n",
       "    svg.railroad-diagram rect{\n",
       "        stroke-width:3;\n",
       "        stroke:black;\n",
       "        fill:hsl(0,62%,82%);\n",
       "    }\n",
       "\n",
       "/* ]]> */\n",
       "</style><g>\n",
       "<path d=\"M20 51v20m10 -20v20m-10 -10h20\"/></g><g>\n",
       "<path d=\"M40 61h0.0\"/><path d=\"M108.5 61h0.0\"/><path d=\"M40.0 61a10 10 0 0 0 10 -10v-10a10 10 0 0 1 10 -10\"/><g>\n",
       "<path d=\"M60.0 31h0.0\"/><path d=\"M88.5 31h0.0\"/><g class=\"terminal\">\n",
       "<path d=\"M60.0 31h0.0\"/><path d=\"M88.5 31h0.0\"/><rect height=\"22\" rx=\"10\" ry=\"10\" width=\"28.5\" x=\"60.0\" y=\"20\"/><text x=\"74.25\" y=\"35\">a</text></g></g><path d=\"M88.5 31a10 10 0 0 1 10 10v10a10 10 0 0 0 10 10\"/><path d=\"M40.0 61h20\"/><g>\n",
       "<path d=\"M60.0 61h0.0\"/><path d=\"M88.5 61h0.0\"/><g class=\"non-terminal\">\n",
       "<path d=\"M60.0 61h0.0\"/><path d=\"M88.5 61h0.0\"/><rect height=\"22\" width=\"28.5\" x=\"60.0\" y=\"50\"/><text x=\"74.25\" y=\"65\">E</text></g></g><path d=\"M88.5 61h20\"/></g><path d=\"M 108.5 61 h 20 m -10 -10 v 20 m 10 -20 v 20\"/></g></svg>"
      ],
      "text/plain": [
       "<IPython.core.display.SVG object>"
      ]
     },
     "metadata": {},
     "output_type": "display_data"
    },
    {
     "name": "stdout",
     "output_type": "stream",
     "text": [
      "E\n"
     ]
    },
    {
     "data": {
      "image/svg+xml": [
       "<svg class=\"railroad-diagram\" height=\"62\" viewBox=\"0 0 140.0 62\" width=\"140.0\" xmlns=\"http://www.w3.org/2000/svg\">\n",
       "<g transform=\"translate(.5 .5)\">\n",
       "<style>/* <![CDATA[ */\n",
       "    svg.railroad-diagram {\n",
       "        background-color:hsl(100,100%,100%);\n",
       "    }\n",
       "    svg.railroad-diagram path {\n",
       "        stroke-width:3;\n",
       "        stroke:black;\n",
       "        fill:rgba(0,0,0,0);\n",
       "    }\n",
       "    svg.railroad-diagram text {\n",
       "        font:bold 14px monospace;\n",
       "        text-anchor:middle;\n",
       "    }\n",
       "    svg.railroad-diagram text.label{\n",
       "        text-anchor:start;\n",
       "    }\n",
       "    svg.railroad-diagram text.comment{\n",
       "        font:italic 12px monospace;\n",
       "    }\n",
       "    svg.railroad-diagram rect{\n",
       "        stroke-width:3;\n",
       "        stroke:black;\n",
       "        fill:hsl(0,62%,82%);\n",
       "    }\n",
       "\n",
       "/* ]]> */\n",
       "</style><g>\n",
       "<path d=\"M20 21v20m10 -20v20m-10 -10h20\"/></g><g>\n",
       "<path d=\"M40 31h0.0\"/><path d=\"M100.0 31h0.0\"/><path d=\"M40.0 31h20\"/><g>\n",
       "<path d=\"M60.0 31h0.0\"/><path d=\"M80.0 31h0.0\"/><g class=\"terminal\">\n",
       "<path d=\"M60.0 31h0.0\"/><path d=\"M80.0 31h0.0\"/><rect height=\"22\" rx=\"10\" ry=\"10\" width=\"20.0\" x=\"60.0\" y=\"20\"/><text x=\"70.0\" y=\"35\"/></g></g><path d=\"M80.0 31h20\"/></g><path d=\"M 100.0 31 h 20 m -10 -10 v 20 m 10 -20 v 20\"/></g></svg>"
      ],
      "text/plain": [
       "<IPython.core.display.SVG object>"
      ]
     },
     "metadata": {},
     "output_type": "display_data"
    }
   ],
   "source": [
    "syntax_diagram(E_GRAMMAR)"
   ]
  },
  {
   "cell_type": "code",
   "execution_count": 120,
   "metadata": {
    "slideshow": {
     "slide_type": "subslide"
    }
   },
   "outputs": [
    {
     "name": "stderr",
     "output_type": "stream",
     "text": [
      "Traceback (most recent call last):\n",
      "  File \"<ipython-input-120-61c19f40fd3a>\", line 4, in <module>\n",
      "    trees = parser.parse(mystring)\n",
      "  File \"<ipython-input-105-1b14a4332f3d>\", line 6, in parse\n",
      "    raise SyntaxError(\"at \" + repr(text[cursor:]))\n",
      "  File \"<string>\", line None\n",
      "SyntaxError: at 'a' (expected)\n"
     ]
    }
   ],
   "source": [
    "mystring = 'a'\n",
    "parser = EarleyParser(E_GRAMMAR)\n",
    "with ExpectError():\n",
    "    trees = parser.parse(mystring)"
   ]
  },
  {
   "cell_type": "markdown",
   "metadata": {
    "slideshow": {
     "slide_type": "skip"
    }
   },
   "source": [
    "Aycock et al.\\cite{Aycock2002} suggests a simple fix. Their idea is to pre-compute the `nullable` set and use it to advance the `nullable` states. However, before we do that, we need to compute the `nullable` set. The `nullable` set consists of all nonterminals that can derive an empty string."
   ]
  },
  {
   "cell_type": "markdown",
   "metadata": {
    "slideshow": {
     "slide_type": "skip"
    }
   },
   "source": [
    "Computing the `nullable` set requires expanding each production rule in the grammar iteratively and inspecting whether a given rule can derive the empty string. Each iteration needs to take into account new terminals that have been found to be `nullable`. The procedure stops when we obtain a stable result. This procedure can be abstracted into a more general method `fixpoint`."
   ]
  },
  {
   "cell_type": "markdown",
   "metadata": {
    "slideshow": {
     "slide_type": "subslide"
    }
   },
   "source": [
    "#### Fixpoint\n",
    "\n",
    "A `fixpoint` of a function is an element in the function's domain such that it is mapped to itself. For example, 1 is a `fixpoint` of square root because `squareroot(1) == 1`.\n",
    "\n",
    "(We use `str` rather than `hash` to check for equality in `fixpoint` because the data structure `set`, which we would like to use as an argument has a good string representation but is not hashable)."
   ]
  },
  {
   "cell_type": "code",
   "execution_count": 121,
   "metadata": {
    "slideshow": {
     "slide_type": "subslide"
    }
   },
   "outputs": [],
   "source": [
    "def fixpoint(f):\n",
    "    def helper(arg):\n",
    "        while True:\n",
    "            sarg = str(arg)\n",
    "            arg_ = f(arg)\n",
    "            if str(arg_) == sarg:\n",
    "                return arg\n",
    "            arg = arg_\n",
    "\n",
    "    return helper"
   ]
  },
  {
   "cell_type": "markdown",
   "metadata": {
    "slideshow": {
     "slide_type": "skip"
    }
   },
   "source": [
    "Remember `my_sqrt()` from [the first chapter](Intro_Testing.ipynb)? We can define `my_sqrt()` using fixpoint."
   ]
  },
  {
   "cell_type": "code",
   "execution_count": 122,
   "metadata": {
    "slideshow": {
     "slide_type": "subslide"
    }
   },
   "outputs": [],
   "source": [
    "def my_sqrt(x):\n",
    "    @fixpoint\n",
    "    def _my_sqrt(approx):\n",
    "        return (approx + x / approx) / 2\n",
    "\n",
    "    return _my_sqrt(1)"
   ]
  },
  {
   "cell_type": "code",
   "execution_count": 123,
   "metadata": {
    "slideshow": {
     "slide_type": "fragment"
    }
   },
   "outputs": [
    {
     "data": {
      "text/plain": [
       "1.414213562373095"
      ]
     },
     "execution_count": 123,
     "metadata": {},
     "output_type": "execute_result"
    }
   ],
   "source": [
    "my_sqrt(2)"
   ]
  },
  {
   "cell_type": "markdown",
   "metadata": {
    "slideshow": {
     "slide_type": "subslide"
    }
   },
   "source": [
    "#### Nullable\n",
    "\n",
    "Similarly, we can define `nullable` using `fixpoint`. We essentially provide the definition of a single intermediate step. That is, assuming that `nullables` contain the current `nullable` nonterminals, we iterate over the grammar looking for productions which are `nullable` -- that is, productions where the entire sequence can yield an empty string on some expansion."
   ]
  },
  {
   "cell_type": "markdown",
   "metadata": {
    "slideshow": {
     "slide_type": "skip"
    }
   },
   "source": [
    "We need to iterate over the different alternative expressions and their corresponding nonterminals. Hence we define a `rules()` method converts our dictionary representation to this pair format."
   ]
  },
  {
   "cell_type": "code",
   "execution_count": 124,
   "metadata": {
    "slideshow": {
     "slide_type": "skip"
    }
   },
   "outputs": [],
   "source": [
    "def rules(grammar):\n",
    "    return [(key, choice)\n",
    "            for key, choices in grammar.items()\n",
    "            for choice in choices]"
   ]
  },
  {
   "cell_type": "markdown",
   "metadata": {
    "slideshow": {
     "slide_type": "skip"
    }
   },
   "source": [
    "The `terminals()` method extracts all terminal symbols from a `canonical` grammar representation."
   ]
  },
  {
   "cell_type": "code",
   "execution_count": 125,
   "metadata": {
    "slideshow": {
     "slide_type": "skip"
    }
   },
   "outputs": [],
   "source": [
    "def terminals(grammar):\n",
    "    return set(token\n",
    "               for key, choice in rules(grammar)\n",
    "               for token in choice if token not in grammar)"
   ]
  },
  {
   "cell_type": "code",
   "execution_count": 126,
   "metadata": {
    "slideshow": {
     "slide_type": "subslide"
    }
   },
   "outputs": [],
   "source": [
    "def nullable_expr(expr, nullables):\n",
    "    return all(token in nullables for token in expr)"
   ]
  },
  {
   "cell_type": "code",
   "execution_count": 127,
   "metadata": {
    "slideshow": {
     "slide_type": "subslide"
    }
   },
   "outputs": [],
   "source": [
    "def nullable(grammar):\n",
    "    productions = rules(grammar)\n",
    "\n",
    "    @fixpoint\n",
    "    def nullable_(nullables):\n",
    "        for A, expr in productions:\n",
    "            if nullable_expr(expr, nullables):\n",
    "                nullables |= {A}\n",
    "        return (nullables)\n",
    "\n",
    "    return nullable_({EPSILON})"
   ]
  },
  {
   "cell_type": "code",
   "execution_count": 128,
   "metadata": {
    "slideshow": {
     "slide_type": "subslide"
    }
   },
   "outputs": [
    {
     "name": "stdout",
     "output_type": "stream",
     "text": [
      "E_GRAMMAR {'', '<A>', '<E>', '<start>', '<S>'}\n",
      "E_GRAMMAR_1 {'', '<A>', '<start>'}\n"
     ]
    }
   ],
   "source": [
    "for key, grammar in {\n",
    "        'E_GRAMMAR': E_GRAMMAR,\n",
    "        'E_GRAMMAR_1': E_GRAMMAR_1\n",
    "}.items():\n",
    "    print(key, nullable(canonical(grammar)))"
   ]
  },
  {
   "cell_type": "markdown",
   "metadata": {
    "slideshow": {
     "slide_type": "notes"
    }
   },
   "source": [
    "So, once we have the `nullable` set, all that we need to do is, after we have called `predict` on a state corresponding to a nonterminal, check if it is `nullable` and if it is, advance and add the state to the current column."
   ]
  },
  {
   "cell_type": "code",
   "execution_count": 129,
   "metadata": {
    "slideshow": {
     "slide_type": "subslide"
    }
   },
   "outputs": [],
   "source": [
    "class EarleyParser(EarleyParser):\n",
    "    def __init__(self, grammar, **kwargs):\n",
    "        super().__init__(grammar, **kwargs)\n",
    "        self.cgrammar = canonical(grammar, letters=True)\n",
    "        self.epsilon = nullable(self.cgrammar)\n",
    "\n",
    "    def predict(self, col, sym, state):\n",
    "        for alt in self.cgrammar[sym]:\n",
    "            col.add(State(sym, tuple(alt), 0, col))\n",
    "        if sym in self.epsilon:\n",
    "            col.add(state.advance())"
   ]
  },
  {
   "cell_type": "code",
   "execution_count": 130,
   "metadata": {
    "slideshow": {
     "slide_type": "subslide"
    }
   },
   "outputs": [
    {
     "data": {
      "image/svg+xml": [
       "<?xml version=\"1.0\" encoding=\"UTF-8\" standalone=\"no\"?>\n",
       "<!DOCTYPE svg PUBLIC \"-//W3C//DTD SVG 1.1//EN\"\n",
       " \"http://www.w3.org/Graphics/SVG/1.1/DTD/svg11.dtd\">\n",
       "<!-- Generated by graphviz version 2.40.1 (20161225.0304)\n",
       " -->\n",
       "<!-- Title: %3 Pages: 1 -->\n",
       "<svg width=\"166pt\" height=\"172pt\"\n",
       " viewBox=\"0.00 0.00 165.90 172.00\" xmlns=\"http://www.w3.org/2000/svg\" xmlns:xlink=\"http://www.w3.org/1999/xlink\">\n",
       "<g id=\"graph0\" class=\"graph\" transform=\"scale(1 1) rotate(0) translate(4 168)\">\n",
       "<title>%3</title>\n",
       "<polygon fill=\"#ffffff\" stroke=\"transparent\" points=\"-4,4 -4,-168 161.9014,-168 161.9014,4 -4,4\"/>\n",
       "<!-- 0 -->\n",
       "<g id=\"node1\" class=\"node\">\n",
       "<title>0</title>\n",
       "<text text-anchor=\"middle\" x=\"78.9507\" y=\"-152.8\" font-family=\"Times,serif\" font-size=\"14.00\" fill=\"#000000\">&lt;start&gt;</text>\n",
       "</g>\n",
       "<!-- 1 -->\n",
       "<g id=\"node2\" class=\"node\">\n",
       "<title>1</title>\n",
       "<text text-anchor=\"middle\" x=\"78.9507\" y=\"-102.8\" font-family=\"Times,serif\" font-size=\"14.00\" fill=\"#000000\">&lt;S&gt;</text>\n",
       "</g>\n",
       "<!-- 0&#45;&gt;1 -->\n",
       "<g id=\"edge1\" class=\"edge\">\n",
       "<title>0&#45;&gt;1</title>\n",
       "<path fill=\"none\" stroke=\"#000000\" d=\"M78.9507,-149.6223C78.9507,-142.9738 78.9507,-132.942 78.9507,-124.2807\"/>\n",
       "<polygon fill=\"#000000\" stroke=\"#000000\" points=\"82.4508,-124.0842 78.9507,-114.0842 75.4508,-124.0842 82.4508,-124.0842\"/>\n",
       "</g>\n",
       "<!-- 2 -->\n",
       "<g id=\"node3\" class=\"node\">\n",
       "<title>2</title>\n",
       "<text text-anchor=\"middle\" x=\"12.9507\" y=\"-52.8\" font-family=\"Times,serif\" font-size=\"14.00\" fill=\"#000000\">&lt;A&gt;</text>\n",
       "</g>\n",
       "<!-- 1&#45;&gt;2 -->\n",
       "<g id=\"edge2\" class=\"edge\">\n",
       "<title>1&#45;&gt;2</title>\n",
       "<path fill=\"none\" stroke=\"#000000\" d=\"M69.4945,-99.8362C59.3984,-92.1877 43.1676,-79.8916 30.6797,-70.4311\"/>\n",
       "<polygon fill=\"#000000\" stroke=\"#000000\" points=\"32.4738,-67.3993 22.3893,-64.1505 28.2468,-72.9789 32.4738,-67.3993\"/>\n",
       "</g>\n",
       "<!-- 4 -->\n",
       "<g id=\"node5\" class=\"node\">\n",
       "<title>4</title>\n",
       "<text text-anchor=\"middle\" x=\"56.9507\" y=\"-52.8\" font-family=\"Times,serif\" font-size=\"14.00\" fill=\"#000000\">&lt;A&gt;</text>\n",
       "</g>\n",
       "<!-- 1&#45;&gt;4 -->\n",
       "<g id=\"edge4\" class=\"edge\">\n",
       "<title>1&#45;&gt;4</title>\n",
       "<path fill=\"none\" stroke=\"#000000\" d=\"M75.7045,-99.6223C72.6805,-92.7497 68.0659,-82.2618 64.171,-73.4097\"/>\n",
       "<polygon fill=\"#000000\" stroke=\"#000000\" points=\"67.2988,-71.8277 60.0677,-64.0842 60.8916,-74.647 67.2988,-71.8277\"/>\n",
       "</g>\n",
       "<!-- 6 -->\n",
       "<g id=\"node7\" class=\"node\">\n",
       "<title>6</title>\n",
       "<text text-anchor=\"middle\" x=\"100.9507\" y=\"-52.8\" font-family=\"Times,serif\" font-size=\"14.00\" fill=\"#000000\">&lt;A&gt;</text>\n",
       "</g>\n",
       "<!-- 1&#45;&gt;6 -->\n",
       "<g id=\"edge6\" class=\"edge\">\n",
       "<title>1&#45;&gt;6</title>\n",
       "<path fill=\"none\" stroke=\"#000000\" d=\"M82.1969,-99.6223C85.2208,-92.7497 89.8355,-82.2618 93.7304,-73.4097\"/>\n",
       "<polygon fill=\"#000000\" stroke=\"#000000\" points=\"97.0098,-74.647 97.8336,-64.0842 90.6026,-71.8277 97.0098,-74.647\"/>\n",
       "</g>\n",
       "<!-- 8 -->\n",
       "<g id=\"node9\" class=\"node\">\n",
       "<title>8</title>\n",
       "<text text-anchor=\"middle\" x=\"144.9507\" y=\"-52.8\" font-family=\"Times,serif\" font-size=\"14.00\" fill=\"#000000\">&lt;A&gt;</text>\n",
       "</g>\n",
       "<!-- 1&#45;&gt;8 -->\n",
       "<g id=\"edge8\" class=\"edge\">\n",
       "<title>1&#45;&gt;8</title>\n",
       "<path fill=\"none\" stroke=\"#000000\" d=\"M88.4069,-99.8362C98.503,-92.1877 114.7338,-79.8916 127.2217,-70.4311\"/>\n",
       "<polygon fill=\"#000000\" stroke=\"#000000\" points=\"129.6546,-72.9789 135.512,-64.1505 125.4276,-67.3993 129.6546,-72.9789\"/>\n",
       "</g>\n",
       "<!-- 3 -->\n",
       "<g id=\"node4\" class=\"node\">\n",
       "<title>3</title>\n",
       "<text text-anchor=\"middle\" x=\"12.9507\" y=\"-2.8\" font-family=\"Times,serif\" font-size=\"14.00\" fill=\"#000000\">&lt;E&gt;</text>\n",
       "</g>\n",
       "<!-- 2&#45;&gt;3 -->\n",
       "<g id=\"edge3\" class=\"edge\">\n",
       "<title>2&#45;&gt;3</title>\n",
       "<path fill=\"none\" stroke=\"#000000\" d=\"M12.9507,-49.6223C12.9507,-42.9738 12.9507,-32.942 12.9507,-24.2807\"/>\n",
       "<polygon fill=\"#000000\" stroke=\"#000000\" points=\"16.4508,-24.0842 12.9507,-14.0842 9.4508,-24.0842 16.4508,-24.0842\"/>\n",
       "</g>\n",
       "<!-- 5 -->\n",
       "<g id=\"node6\" class=\"node\">\n",
       "<title>5</title>\n",
       "<text text-anchor=\"middle\" x=\"56.9507\" y=\"-2.8\" font-family=\"Times,serif\" font-size=\"14.00\" fill=\"#000000\">&lt;E&gt;</text>\n",
       "</g>\n",
       "<!-- 4&#45;&gt;5 -->\n",
       "<g id=\"edge5\" class=\"edge\">\n",
       "<title>4&#45;&gt;5</title>\n",
       "<path fill=\"none\" stroke=\"#000000\" d=\"M56.9507,-49.6223C56.9507,-42.9738 56.9507,-32.942 56.9507,-24.2807\"/>\n",
       "<polygon fill=\"#000000\" stroke=\"#000000\" points=\"60.4508,-24.0842 56.9507,-14.0842 53.4508,-24.0842 60.4508,-24.0842\"/>\n",
       "</g>\n",
       "<!-- 7 -->\n",
       "<g id=\"node8\" class=\"node\">\n",
       "<title>7</title>\n",
       "<text text-anchor=\"middle\" x=\"100.9507\" y=\"-2.8\" font-family=\"Times,serif\" font-size=\"14.00\" fill=\"#000000\">&lt;E&gt;</text>\n",
       "</g>\n",
       "<!-- 6&#45;&gt;7 -->\n",
       "<g id=\"edge7\" class=\"edge\">\n",
       "<title>6&#45;&gt;7</title>\n",
       "<path fill=\"none\" stroke=\"#000000\" d=\"M100.9507,-49.6223C100.9507,-42.9738 100.9507,-32.942 100.9507,-24.2807\"/>\n",
       "<polygon fill=\"#000000\" stroke=\"#000000\" points=\"104.4508,-24.0842 100.9507,-14.0842 97.4508,-24.0842 104.4508,-24.0842\"/>\n",
       "</g>\n",
       "<!-- 9 -->\n",
       "<g id=\"node10\" class=\"node\">\n",
       "<title>9</title>\n",
       "<text text-anchor=\"middle\" x=\"144.9507\" y=\"-2.8\" font-family=\"Times,serif\" font-size=\"14.00\" fill=\"#000000\">a</text>\n",
       "</g>\n",
       "<!-- 8&#45;&gt;9 -->\n",
       "<g id=\"edge9\" class=\"edge\">\n",
       "<title>8&#45;&gt;9</title>\n",
       "<path fill=\"none\" stroke=\"#000000\" d=\"M144.9507,-49.6223C144.9507,-42.9738 144.9507,-32.942 144.9507,-24.2807\"/>\n",
       "<polygon fill=\"#000000\" stroke=\"#000000\" points=\"148.4508,-24.0842 144.9507,-14.0842 141.4508,-24.0842 148.4508,-24.0842\"/>\n",
       "</g>\n",
       "</g>\n",
       "</svg>\n"
      ],
      "text/plain": [
       "<graphviz.dot.Digraph at 0x11dd68f28>"
      ]
     },
     "metadata": {},
     "output_type": "display_data"
    },
    {
     "data": {
      "image/svg+xml": [
       "<?xml version=\"1.0\" encoding=\"UTF-8\" standalone=\"no\"?>\n",
       "<!DOCTYPE svg PUBLIC \"-//W3C//DTD SVG 1.1//EN\"\n",
       " \"http://www.w3.org/Graphics/SVG/1.1/DTD/svg11.dtd\">\n",
       "<!-- Generated by graphviz version 2.40.1 (20161225.0304)\n",
       " -->\n",
       "<!-- Title: %3 Pages: 1 -->\n",
       "<svg width=\"166pt\" height=\"172pt\"\n",
       " viewBox=\"0.00 0.00 165.90 172.00\" xmlns=\"http://www.w3.org/2000/svg\" xmlns:xlink=\"http://www.w3.org/1999/xlink\">\n",
       "<g id=\"graph0\" class=\"graph\" transform=\"scale(1 1) rotate(0) translate(4 168)\">\n",
       "<title>%3</title>\n",
       "<polygon fill=\"#ffffff\" stroke=\"transparent\" points=\"-4,4 -4,-168 161.9014,-168 161.9014,4 -4,4\"/>\n",
       "<!-- 0 -->\n",
       "<g id=\"node1\" class=\"node\">\n",
       "<title>0</title>\n",
       "<text text-anchor=\"middle\" x=\"78.9507\" y=\"-152.8\" font-family=\"Times,serif\" font-size=\"14.00\" fill=\"#000000\">&lt;start&gt;</text>\n",
       "</g>\n",
       "<!-- 1 -->\n",
       "<g id=\"node2\" class=\"node\">\n",
       "<title>1</title>\n",
       "<text text-anchor=\"middle\" x=\"78.9507\" y=\"-102.8\" font-family=\"Times,serif\" font-size=\"14.00\" fill=\"#000000\">&lt;S&gt;</text>\n",
       "</g>\n",
       "<!-- 0&#45;&gt;1 -->\n",
       "<g id=\"edge1\" class=\"edge\">\n",
       "<title>0&#45;&gt;1</title>\n",
       "<path fill=\"none\" stroke=\"#000000\" d=\"M78.9507,-149.6223C78.9507,-142.9738 78.9507,-132.942 78.9507,-124.2807\"/>\n",
       "<polygon fill=\"#000000\" stroke=\"#000000\" points=\"82.4508,-124.0842 78.9507,-114.0842 75.4508,-124.0842 82.4508,-124.0842\"/>\n",
       "</g>\n",
       "<!-- 2 -->\n",
       "<g id=\"node3\" class=\"node\">\n",
       "<title>2</title>\n",
       "<text text-anchor=\"middle\" x=\"12.9507\" y=\"-52.8\" font-family=\"Times,serif\" font-size=\"14.00\" fill=\"#000000\">&lt;A&gt;</text>\n",
       "</g>\n",
       "<!-- 1&#45;&gt;2 -->\n",
       "<g id=\"edge2\" class=\"edge\">\n",
       "<title>1&#45;&gt;2</title>\n",
       "<path fill=\"none\" stroke=\"#000000\" d=\"M69.4945,-99.8362C59.3984,-92.1877 43.1676,-79.8916 30.6797,-70.4311\"/>\n",
       "<polygon fill=\"#000000\" stroke=\"#000000\" points=\"32.4738,-67.3993 22.3893,-64.1505 28.2468,-72.9789 32.4738,-67.3993\"/>\n",
       "</g>\n",
       "<!-- 4 -->\n",
       "<g id=\"node5\" class=\"node\">\n",
       "<title>4</title>\n",
       "<text text-anchor=\"middle\" x=\"56.9507\" y=\"-52.8\" font-family=\"Times,serif\" font-size=\"14.00\" fill=\"#000000\">&lt;A&gt;</text>\n",
       "</g>\n",
       "<!-- 1&#45;&gt;4 -->\n",
       "<g id=\"edge4\" class=\"edge\">\n",
       "<title>1&#45;&gt;4</title>\n",
       "<path fill=\"none\" stroke=\"#000000\" d=\"M75.7045,-99.6223C72.6805,-92.7497 68.0659,-82.2618 64.171,-73.4097\"/>\n",
       "<polygon fill=\"#000000\" stroke=\"#000000\" points=\"67.2988,-71.8277 60.0677,-64.0842 60.8916,-74.647 67.2988,-71.8277\"/>\n",
       "</g>\n",
       "<!-- 6 -->\n",
       "<g id=\"node7\" class=\"node\">\n",
       "<title>6</title>\n",
       "<text text-anchor=\"middle\" x=\"100.9507\" y=\"-52.8\" font-family=\"Times,serif\" font-size=\"14.00\" fill=\"#000000\">&lt;A&gt;</text>\n",
       "</g>\n",
       "<!-- 1&#45;&gt;6 -->\n",
       "<g id=\"edge6\" class=\"edge\">\n",
       "<title>1&#45;&gt;6</title>\n",
       "<path fill=\"none\" stroke=\"#000000\" d=\"M82.1969,-99.6223C85.2208,-92.7497 89.8355,-82.2618 93.7304,-73.4097\"/>\n",
       "<polygon fill=\"#000000\" stroke=\"#000000\" points=\"97.0098,-74.647 97.8336,-64.0842 90.6026,-71.8277 97.0098,-74.647\"/>\n",
       "</g>\n",
       "<!-- 8 -->\n",
       "<g id=\"node9\" class=\"node\">\n",
       "<title>8</title>\n",
       "<text text-anchor=\"middle\" x=\"144.9507\" y=\"-52.8\" font-family=\"Times,serif\" font-size=\"14.00\" fill=\"#000000\">&lt;A&gt;</text>\n",
       "</g>\n",
       "<!-- 1&#45;&gt;8 -->\n",
       "<g id=\"edge8\" class=\"edge\">\n",
       "<title>1&#45;&gt;8</title>\n",
       "<path fill=\"none\" stroke=\"#000000\" d=\"M88.4069,-99.8362C98.503,-92.1877 114.7338,-79.8916 127.2217,-70.4311\"/>\n",
       "<polygon fill=\"#000000\" stroke=\"#000000\" points=\"129.6546,-72.9789 135.512,-64.1505 125.4276,-67.3993 129.6546,-72.9789\"/>\n",
       "</g>\n",
       "<!-- 3 -->\n",
       "<g id=\"node4\" class=\"node\">\n",
       "<title>3</title>\n",
       "<text text-anchor=\"middle\" x=\"12.9507\" y=\"-2.8\" font-family=\"Times,serif\" font-size=\"14.00\" fill=\"#000000\">&lt;E&gt;</text>\n",
       "</g>\n",
       "<!-- 2&#45;&gt;3 -->\n",
       "<g id=\"edge3\" class=\"edge\">\n",
       "<title>2&#45;&gt;3</title>\n",
       "<path fill=\"none\" stroke=\"#000000\" d=\"M12.9507,-49.6223C12.9507,-42.9738 12.9507,-32.942 12.9507,-24.2807\"/>\n",
       "<polygon fill=\"#000000\" stroke=\"#000000\" points=\"16.4508,-24.0842 12.9507,-14.0842 9.4508,-24.0842 16.4508,-24.0842\"/>\n",
       "</g>\n",
       "<!-- 5 -->\n",
       "<g id=\"node6\" class=\"node\">\n",
       "<title>5</title>\n",
       "<text text-anchor=\"middle\" x=\"56.9507\" y=\"-2.8\" font-family=\"Times,serif\" font-size=\"14.00\" fill=\"#000000\">&lt;E&gt;</text>\n",
       "</g>\n",
       "<!-- 4&#45;&gt;5 -->\n",
       "<g id=\"edge5\" class=\"edge\">\n",
       "<title>4&#45;&gt;5</title>\n",
       "<path fill=\"none\" stroke=\"#000000\" d=\"M56.9507,-49.6223C56.9507,-42.9738 56.9507,-32.942 56.9507,-24.2807\"/>\n",
       "<polygon fill=\"#000000\" stroke=\"#000000\" points=\"60.4508,-24.0842 56.9507,-14.0842 53.4508,-24.0842 60.4508,-24.0842\"/>\n",
       "</g>\n",
       "<!-- 7 -->\n",
       "<g id=\"node8\" class=\"node\">\n",
       "<title>7</title>\n",
       "<text text-anchor=\"middle\" x=\"100.9507\" y=\"-2.8\" font-family=\"Times,serif\" font-size=\"14.00\" fill=\"#000000\">a</text>\n",
       "</g>\n",
       "<!-- 6&#45;&gt;7 -->\n",
       "<g id=\"edge7\" class=\"edge\">\n",
       "<title>6&#45;&gt;7</title>\n",
       "<path fill=\"none\" stroke=\"#000000\" d=\"M100.9507,-49.6223C100.9507,-42.9738 100.9507,-32.942 100.9507,-24.2807\"/>\n",
       "<polygon fill=\"#000000\" stroke=\"#000000\" points=\"104.4508,-24.0842 100.9507,-14.0842 97.4508,-24.0842 104.4508,-24.0842\"/>\n",
       "</g>\n",
       "<!-- 9 -->\n",
       "<g id=\"node10\" class=\"node\">\n",
       "<title>9</title>\n",
       "<text text-anchor=\"middle\" x=\"144.9507\" y=\"-2.8\" font-family=\"Times,serif\" font-size=\"14.00\" fill=\"#000000\">&lt;E&gt;</text>\n",
       "</g>\n",
       "<!-- 8&#45;&gt;9 -->\n",
       "<g id=\"edge9\" class=\"edge\">\n",
       "<title>8&#45;&gt;9</title>\n",
       "<path fill=\"none\" stroke=\"#000000\" d=\"M144.9507,-49.6223C144.9507,-42.9738 144.9507,-32.942 144.9507,-24.2807\"/>\n",
       "<polygon fill=\"#000000\" stroke=\"#000000\" points=\"148.4508,-24.0842 144.9507,-14.0842 141.4508,-24.0842 148.4508,-24.0842\"/>\n",
       "</g>\n",
       "</g>\n",
       "</svg>\n"
      ],
      "text/plain": [
       "<graphviz.dot.Digraph at 0x10d9f4208>"
      ]
     },
     "metadata": {},
     "output_type": "display_data"
    },
    {
     "data": {
      "image/svg+xml": [
       "<?xml version=\"1.0\" encoding=\"UTF-8\" standalone=\"no\"?>\n",
       "<!DOCTYPE svg PUBLIC \"-//W3C//DTD SVG 1.1//EN\"\n",
       " \"http://www.w3.org/Graphics/SVG/1.1/DTD/svg11.dtd\">\n",
       "<!-- Generated by graphviz version 2.40.1 (20161225.0304)\n",
       " -->\n",
       "<!-- Title: %3 Pages: 1 -->\n",
       "<svg width=\"166pt\" height=\"172pt\"\n",
       " viewBox=\"0.00 0.00 165.90 172.00\" xmlns=\"http://www.w3.org/2000/svg\" xmlns:xlink=\"http://www.w3.org/1999/xlink\">\n",
       "<g id=\"graph0\" class=\"graph\" transform=\"scale(1 1) rotate(0) translate(4 168)\">\n",
       "<title>%3</title>\n",
       "<polygon fill=\"#ffffff\" stroke=\"transparent\" points=\"-4,4 -4,-168 161.9014,-168 161.9014,4 -4,4\"/>\n",
       "<!-- 0 -->\n",
       "<g id=\"node1\" class=\"node\">\n",
       "<title>0</title>\n",
       "<text text-anchor=\"middle\" x=\"78.9507\" y=\"-152.8\" font-family=\"Times,serif\" font-size=\"14.00\" fill=\"#000000\">&lt;start&gt;</text>\n",
       "</g>\n",
       "<!-- 1 -->\n",
       "<g id=\"node2\" class=\"node\">\n",
       "<title>1</title>\n",
       "<text text-anchor=\"middle\" x=\"78.9507\" y=\"-102.8\" font-family=\"Times,serif\" font-size=\"14.00\" fill=\"#000000\">&lt;S&gt;</text>\n",
       "</g>\n",
       "<!-- 0&#45;&gt;1 -->\n",
       "<g id=\"edge1\" class=\"edge\">\n",
       "<title>0&#45;&gt;1</title>\n",
       "<path fill=\"none\" stroke=\"#000000\" d=\"M78.9507,-149.6223C78.9507,-142.9738 78.9507,-132.942 78.9507,-124.2807\"/>\n",
       "<polygon fill=\"#000000\" stroke=\"#000000\" points=\"82.4508,-124.0842 78.9507,-114.0842 75.4508,-124.0842 82.4508,-124.0842\"/>\n",
       "</g>\n",
       "<!-- 2 -->\n",
       "<g id=\"node3\" class=\"node\">\n",
       "<title>2</title>\n",
       "<text text-anchor=\"middle\" x=\"12.9507\" y=\"-52.8\" font-family=\"Times,serif\" font-size=\"14.00\" fill=\"#000000\">&lt;A&gt;</text>\n",
       "</g>\n",
       "<!-- 1&#45;&gt;2 -->\n",
       "<g id=\"edge2\" class=\"edge\">\n",
       "<title>1&#45;&gt;2</title>\n",
       "<path fill=\"none\" stroke=\"#000000\" d=\"M69.4945,-99.8362C59.3984,-92.1877 43.1676,-79.8916 30.6797,-70.4311\"/>\n",
       "<polygon fill=\"#000000\" stroke=\"#000000\" points=\"32.4738,-67.3993 22.3893,-64.1505 28.2468,-72.9789 32.4738,-67.3993\"/>\n",
       "</g>\n",
       "<!-- 4 -->\n",
       "<g id=\"node5\" class=\"node\">\n",
       "<title>4</title>\n",
       "<text text-anchor=\"middle\" x=\"56.9507\" y=\"-52.8\" font-family=\"Times,serif\" font-size=\"14.00\" fill=\"#000000\">&lt;A&gt;</text>\n",
       "</g>\n",
       "<!-- 1&#45;&gt;4 -->\n",
       "<g id=\"edge4\" class=\"edge\">\n",
       "<title>1&#45;&gt;4</title>\n",
       "<path fill=\"none\" stroke=\"#000000\" d=\"M75.7045,-99.6223C72.6805,-92.7497 68.0659,-82.2618 64.171,-73.4097\"/>\n",
       "<polygon fill=\"#000000\" stroke=\"#000000\" points=\"67.2988,-71.8277 60.0677,-64.0842 60.8916,-74.647 67.2988,-71.8277\"/>\n",
       "</g>\n",
       "<!-- 6 -->\n",
       "<g id=\"node7\" class=\"node\">\n",
       "<title>6</title>\n",
       "<text text-anchor=\"middle\" x=\"100.9507\" y=\"-52.8\" font-family=\"Times,serif\" font-size=\"14.00\" fill=\"#000000\">&lt;A&gt;</text>\n",
       "</g>\n",
       "<!-- 1&#45;&gt;6 -->\n",
       "<g id=\"edge6\" class=\"edge\">\n",
       "<title>1&#45;&gt;6</title>\n",
       "<path fill=\"none\" stroke=\"#000000\" d=\"M82.1969,-99.6223C85.2208,-92.7497 89.8355,-82.2618 93.7304,-73.4097\"/>\n",
       "<polygon fill=\"#000000\" stroke=\"#000000\" points=\"97.0098,-74.647 97.8336,-64.0842 90.6026,-71.8277 97.0098,-74.647\"/>\n",
       "</g>\n",
       "<!-- 8 -->\n",
       "<g id=\"node9\" class=\"node\">\n",
       "<title>8</title>\n",
       "<text text-anchor=\"middle\" x=\"144.9507\" y=\"-52.8\" font-family=\"Times,serif\" font-size=\"14.00\" fill=\"#000000\">&lt;A&gt;</text>\n",
       "</g>\n",
       "<!-- 1&#45;&gt;8 -->\n",
       "<g id=\"edge8\" class=\"edge\">\n",
       "<title>1&#45;&gt;8</title>\n",
       "<path fill=\"none\" stroke=\"#000000\" d=\"M88.4069,-99.8362C98.503,-92.1877 114.7338,-79.8916 127.2217,-70.4311\"/>\n",
       "<polygon fill=\"#000000\" stroke=\"#000000\" points=\"129.6546,-72.9789 135.512,-64.1505 125.4276,-67.3993 129.6546,-72.9789\"/>\n",
       "</g>\n",
       "<!-- 3 -->\n",
       "<g id=\"node4\" class=\"node\">\n",
       "<title>3</title>\n",
       "<text text-anchor=\"middle\" x=\"12.9507\" y=\"-2.8\" font-family=\"Times,serif\" font-size=\"14.00\" fill=\"#000000\">&lt;E&gt;</text>\n",
       "</g>\n",
       "<!-- 2&#45;&gt;3 -->\n",
       "<g id=\"edge3\" class=\"edge\">\n",
       "<title>2&#45;&gt;3</title>\n",
       "<path fill=\"none\" stroke=\"#000000\" d=\"M12.9507,-49.6223C12.9507,-42.9738 12.9507,-32.942 12.9507,-24.2807\"/>\n",
       "<polygon fill=\"#000000\" stroke=\"#000000\" points=\"16.4508,-24.0842 12.9507,-14.0842 9.4508,-24.0842 16.4508,-24.0842\"/>\n",
       "</g>\n",
       "<!-- 5 -->\n",
       "<g id=\"node6\" class=\"node\">\n",
       "<title>5</title>\n",
       "<text text-anchor=\"middle\" x=\"56.9507\" y=\"-2.8\" font-family=\"Times,serif\" font-size=\"14.00\" fill=\"#000000\">a</text>\n",
       "</g>\n",
       "<!-- 4&#45;&gt;5 -->\n",
       "<g id=\"edge5\" class=\"edge\">\n",
       "<title>4&#45;&gt;5</title>\n",
       "<path fill=\"none\" stroke=\"#000000\" d=\"M56.9507,-49.6223C56.9507,-42.9738 56.9507,-32.942 56.9507,-24.2807\"/>\n",
       "<polygon fill=\"#000000\" stroke=\"#000000\" points=\"60.4508,-24.0842 56.9507,-14.0842 53.4508,-24.0842 60.4508,-24.0842\"/>\n",
       "</g>\n",
       "<!-- 7 -->\n",
       "<g id=\"node8\" class=\"node\">\n",
       "<title>7</title>\n",
       "<text text-anchor=\"middle\" x=\"100.9507\" y=\"-2.8\" font-family=\"Times,serif\" font-size=\"14.00\" fill=\"#000000\">&lt;E&gt;</text>\n",
       "</g>\n",
       "<!-- 6&#45;&gt;7 -->\n",
       "<g id=\"edge7\" class=\"edge\">\n",
       "<title>6&#45;&gt;7</title>\n",
       "<path fill=\"none\" stroke=\"#000000\" d=\"M100.9507,-49.6223C100.9507,-42.9738 100.9507,-32.942 100.9507,-24.2807\"/>\n",
       "<polygon fill=\"#000000\" stroke=\"#000000\" points=\"104.4508,-24.0842 100.9507,-14.0842 97.4508,-24.0842 104.4508,-24.0842\"/>\n",
       "</g>\n",
       "<!-- 9 -->\n",
       "<g id=\"node10\" class=\"node\">\n",
       "<title>9</title>\n",
       "<text text-anchor=\"middle\" x=\"144.9507\" y=\"-2.8\" font-family=\"Times,serif\" font-size=\"14.00\" fill=\"#000000\">&lt;E&gt;</text>\n",
       "</g>\n",
       "<!-- 8&#45;&gt;9 -->\n",
       "<g id=\"edge9\" class=\"edge\">\n",
       "<title>8&#45;&gt;9</title>\n",
       "<path fill=\"none\" stroke=\"#000000\" d=\"M144.9507,-49.6223C144.9507,-42.9738 144.9507,-32.942 144.9507,-24.2807\"/>\n",
       "<polygon fill=\"#000000\" stroke=\"#000000\" points=\"148.4508,-24.0842 144.9507,-14.0842 141.4508,-24.0842 148.4508,-24.0842\"/>\n",
       "</g>\n",
       "</g>\n",
       "</svg>\n"
      ],
      "text/plain": [
       "<graphviz.dot.Digraph at 0x10d9f4208>"
      ]
     },
     "metadata": {},
     "output_type": "display_data"
    },
    {
     "data": {
      "image/svg+xml": [
       "<?xml version=\"1.0\" encoding=\"UTF-8\" standalone=\"no\"?>\n",
       "<!DOCTYPE svg PUBLIC \"-//W3C//DTD SVG 1.1//EN\"\n",
       " \"http://www.w3.org/Graphics/SVG/1.1/DTD/svg11.dtd\">\n",
       "<!-- Generated by graphviz version 2.40.1 (20161225.0304)\n",
       " -->\n",
       "<!-- Title: %3 Pages: 1 -->\n",
       "<svg width=\"166pt\" height=\"172pt\"\n",
       " viewBox=\"0.00 0.00 165.90 172.00\" xmlns=\"http://www.w3.org/2000/svg\" xmlns:xlink=\"http://www.w3.org/1999/xlink\">\n",
       "<g id=\"graph0\" class=\"graph\" transform=\"scale(1 1) rotate(0) translate(4 168)\">\n",
       "<title>%3</title>\n",
       "<polygon fill=\"#ffffff\" stroke=\"transparent\" points=\"-4,4 -4,-168 161.9014,-168 161.9014,4 -4,4\"/>\n",
       "<!-- 0 -->\n",
       "<g id=\"node1\" class=\"node\">\n",
       "<title>0</title>\n",
       "<text text-anchor=\"middle\" x=\"78.9507\" y=\"-152.8\" font-family=\"Times,serif\" font-size=\"14.00\" fill=\"#000000\">&lt;start&gt;</text>\n",
       "</g>\n",
       "<!-- 1 -->\n",
       "<g id=\"node2\" class=\"node\">\n",
       "<title>1</title>\n",
       "<text text-anchor=\"middle\" x=\"78.9507\" y=\"-102.8\" font-family=\"Times,serif\" font-size=\"14.00\" fill=\"#000000\">&lt;S&gt;</text>\n",
       "</g>\n",
       "<!-- 0&#45;&gt;1 -->\n",
       "<g id=\"edge1\" class=\"edge\">\n",
       "<title>0&#45;&gt;1</title>\n",
       "<path fill=\"none\" stroke=\"#000000\" d=\"M78.9507,-149.6223C78.9507,-142.9738 78.9507,-132.942 78.9507,-124.2807\"/>\n",
       "<polygon fill=\"#000000\" stroke=\"#000000\" points=\"82.4508,-124.0842 78.9507,-114.0842 75.4508,-124.0842 82.4508,-124.0842\"/>\n",
       "</g>\n",
       "<!-- 2 -->\n",
       "<g id=\"node3\" class=\"node\">\n",
       "<title>2</title>\n",
       "<text text-anchor=\"middle\" x=\"12.9507\" y=\"-52.8\" font-family=\"Times,serif\" font-size=\"14.00\" fill=\"#000000\">&lt;A&gt;</text>\n",
       "</g>\n",
       "<!-- 1&#45;&gt;2 -->\n",
       "<g id=\"edge2\" class=\"edge\">\n",
       "<title>1&#45;&gt;2</title>\n",
       "<path fill=\"none\" stroke=\"#000000\" d=\"M69.4945,-99.8362C59.3984,-92.1877 43.1676,-79.8916 30.6797,-70.4311\"/>\n",
       "<polygon fill=\"#000000\" stroke=\"#000000\" points=\"32.4738,-67.3993 22.3893,-64.1505 28.2468,-72.9789 32.4738,-67.3993\"/>\n",
       "</g>\n",
       "<!-- 4 -->\n",
       "<g id=\"node5\" class=\"node\">\n",
       "<title>4</title>\n",
       "<text text-anchor=\"middle\" x=\"56.9507\" y=\"-52.8\" font-family=\"Times,serif\" font-size=\"14.00\" fill=\"#000000\">&lt;A&gt;</text>\n",
       "</g>\n",
       "<!-- 1&#45;&gt;4 -->\n",
       "<g id=\"edge4\" class=\"edge\">\n",
       "<title>1&#45;&gt;4</title>\n",
       "<path fill=\"none\" stroke=\"#000000\" d=\"M75.7045,-99.6223C72.6805,-92.7497 68.0659,-82.2618 64.171,-73.4097\"/>\n",
       "<polygon fill=\"#000000\" stroke=\"#000000\" points=\"67.2988,-71.8277 60.0677,-64.0842 60.8916,-74.647 67.2988,-71.8277\"/>\n",
       "</g>\n",
       "<!-- 6 -->\n",
       "<g id=\"node7\" class=\"node\">\n",
       "<title>6</title>\n",
       "<text text-anchor=\"middle\" x=\"100.9507\" y=\"-52.8\" font-family=\"Times,serif\" font-size=\"14.00\" fill=\"#000000\">&lt;A&gt;</text>\n",
       "</g>\n",
       "<!-- 1&#45;&gt;6 -->\n",
       "<g id=\"edge6\" class=\"edge\">\n",
       "<title>1&#45;&gt;6</title>\n",
       "<path fill=\"none\" stroke=\"#000000\" d=\"M82.1969,-99.6223C85.2208,-92.7497 89.8355,-82.2618 93.7304,-73.4097\"/>\n",
       "<polygon fill=\"#000000\" stroke=\"#000000\" points=\"97.0098,-74.647 97.8336,-64.0842 90.6026,-71.8277 97.0098,-74.647\"/>\n",
       "</g>\n",
       "<!-- 8 -->\n",
       "<g id=\"node9\" class=\"node\">\n",
       "<title>8</title>\n",
       "<text text-anchor=\"middle\" x=\"144.9507\" y=\"-52.8\" font-family=\"Times,serif\" font-size=\"14.00\" fill=\"#000000\">&lt;A&gt;</text>\n",
       "</g>\n",
       "<!-- 1&#45;&gt;8 -->\n",
       "<g id=\"edge8\" class=\"edge\">\n",
       "<title>1&#45;&gt;8</title>\n",
       "<path fill=\"none\" stroke=\"#000000\" d=\"M88.4069,-99.8362C98.503,-92.1877 114.7338,-79.8916 127.2217,-70.4311\"/>\n",
       "<polygon fill=\"#000000\" stroke=\"#000000\" points=\"129.6546,-72.9789 135.512,-64.1505 125.4276,-67.3993 129.6546,-72.9789\"/>\n",
       "</g>\n",
       "<!-- 3 -->\n",
       "<g id=\"node4\" class=\"node\">\n",
       "<title>3</title>\n",
       "<text text-anchor=\"middle\" x=\"12.9507\" y=\"-2.8\" font-family=\"Times,serif\" font-size=\"14.00\" fill=\"#000000\">a</text>\n",
       "</g>\n",
       "<!-- 2&#45;&gt;3 -->\n",
       "<g id=\"edge3\" class=\"edge\">\n",
       "<title>2&#45;&gt;3</title>\n",
       "<path fill=\"none\" stroke=\"#000000\" d=\"M12.9507,-49.6223C12.9507,-42.9738 12.9507,-32.942 12.9507,-24.2807\"/>\n",
       "<polygon fill=\"#000000\" stroke=\"#000000\" points=\"16.4508,-24.0842 12.9507,-14.0842 9.4508,-24.0842 16.4508,-24.0842\"/>\n",
       "</g>\n",
       "<!-- 5 -->\n",
       "<g id=\"node6\" class=\"node\">\n",
       "<title>5</title>\n",
       "<text text-anchor=\"middle\" x=\"56.9507\" y=\"-2.8\" font-family=\"Times,serif\" font-size=\"14.00\" fill=\"#000000\">&lt;E&gt;</text>\n",
       "</g>\n",
       "<!-- 4&#45;&gt;5 -->\n",
       "<g id=\"edge5\" class=\"edge\">\n",
       "<title>4&#45;&gt;5</title>\n",
       "<path fill=\"none\" stroke=\"#000000\" d=\"M56.9507,-49.6223C56.9507,-42.9738 56.9507,-32.942 56.9507,-24.2807\"/>\n",
       "<polygon fill=\"#000000\" stroke=\"#000000\" points=\"60.4508,-24.0842 56.9507,-14.0842 53.4508,-24.0842 60.4508,-24.0842\"/>\n",
       "</g>\n",
       "<!-- 7 -->\n",
       "<g id=\"node8\" class=\"node\">\n",
       "<title>7</title>\n",
       "<text text-anchor=\"middle\" x=\"100.9507\" y=\"-2.8\" font-family=\"Times,serif\" font-size=\"14.00\" fill=\"#000000\">&lt;E&gt;</text>\n",
       "</g>\n",
       "<!-- 6&#45;&gt;7 -->\n",
       "<g id=\"edge7\" class=\"edge\">\n",
       "<title>6&#45;&gt;7</title>\n",
       "<path fill=\"none\" stroke=\"#000000\" d=\"M100.9507,-49.6223C100.9507,-42.9738 100.9507,-32.942 100.9507,-24.2807\"/>\n",
       "<polygon fill=\"#000000\" stroke=\"#000000\" points=\"104.4508,-24.0842 100.9507,-14.0842 97.4508,-24.0842 104.4508,-24.0842\"/>\n",
       "</g>\n",
       "<!-- 9 -->\n",
       "<g id=\"node10\" class=\"node\">\n",
       "<title>9</title>\n",
       "<text text-anchor=\"middle\" x=\"144.9507\" y=\"-2.8\" font-family=\"Times,serif\" font-size=\"14.00\" fill=\"#000000\">&lt;E&gt;</text>\n",
       "</g>\n",
       "<!-- 8&#45;&gt;9 -->\n",
       "<g id=\"edge9\" class=\"edge\">\n",
       "<title>8&#45;&gt;9</title>\n",
       "<path fill=\"none\" stroke=\"#000000\" d=\"M144.9507,-49.6223C144.9507,-42.9738 144.9507,-32.942 144.9507,-24.2807\"/>\n",
       "<polygon fill=\"#000000\" stroke=\"#000000\" points=\"148.4508,-24.0842 144.9507,-14.0842 141.4508,-24.0842 148.4508,-24.0842\"/>\n",
       "</g>\n",
       "</g>\n",
       "</svg>\n"
      ],
      "text/plain": [
       "<graphviz.dot.Digraph at 0x10d9f4208>"
      ]
     },
     "metadata": {},
     "output_type": "display_data"
    }
   ],
   "source": [
    "mystring = 'a'\n",
    "parser = EarleyParser(E_GRAMMAR)\n",
    "for tree in parser.parse(mystring):\n",
    "    display_tree(tree)"
   ]
  },
  {
   "cell_type": "markdown",
   "metadata": {
    "slideshow": {
     "slide_type": "subslide"
    }
   },
   "source": [
    "### More Earley Parsing\n",
    "\n",
    "A number of other optimizations exist for Earley parsers. A fast industrial strength Earley parser implementation is the [Marpa parser](https://jeffreykegler.github.io/Marpa-web-site/). Further, Earley parsing need not be restricted to character data. One may also parse streams (audio and video streams) \\cite{qi2018generalized} using a generalized Earley parser."
   ]
  },
  {
   "cell_type": "markdown",
   "metadata": {
    "slideshow": {
     "slide_type": "slide"
    }
   },
   "source": [
    "## Testing the Parsers\n",
    "\n",
    "While we have defined two parser variants, it would be nice to have some confirmation that our parses work well. While it is possible to formally prove that they work, it is much more satisfying to generate random grammars, their corresponding strings, and parse them using the same grammar."
   ]
  },
  {
   "cell_type": "code",
   "execution_count": 131,
   "metadata": {
    "slideshow": {
     "slide_type": "subslide"
    }
   },
   "outputs": [],
   "source": [
    "def prod_line_grammar(nonterminals, terminals):\n",
    "    g = {\n",
    "        '<start>': ['<symbols>'],\n",
    "        '<symbols>': ['<symbol><symbols>', '<symbol>'],\n",
    "        '<symbol>': ['<nonterminals>', '<terminals>'],\n",
    "        '<nonterminals>': ['<lt><alpha><gt>'],\n",
    "        '<lt>': ['<'],\n",
    "        '<gt>': ['>'],\n",
    "        '<alpha>': nonterminals,\n",
    "        '<terminals>': terminals\n",
    "    }\n",
    "\n",
    "    if not nonterminals:\n",
    "        g['<nonterminals>'] = ['']\n",
    "        del g['<lt>']\n",
    "        del g['<alpha>']\n",
    "        del g['<gt>']\n",
    "\n",
    "    return g"
   ]
  },
  {
   "cell_type": "code",
   "execution_count": 132,
   "metadata": {
    "slideshow": {
     "slide_type": "subslide"
    }
   },
   "outputs": [
    {
     "name": "stdout",
     "output_type": "stream",
     "text": [
      "start\n"
     ]
    },
    {
     "data": {
      "image/svg+xml": [
       "<svg class=\"railroad-diagram\" height=\"62\" viewBox=\"0 0 199.5 62\" width=\"199.5\" xmlns=\"http://www.w3.org/2000/svg\">\n",
       "<g transform=\"translate(.5 .5)\">\n",
       "<style>/* <![CDATA[ */\n",
       "    svg.railroad-diagram {\n",
       "        background-color:hsl(100,100%,100%);\n",
       "    }\n",
       "    svg.railroad-diagram path {\n",
       "        stroke-width:3;\n",
       "        stroke:black;\n",
       "        fill:rgba(0,0,0,0);\n",
       "    }\n",
       "    svg.railroad-diagram text {\n",
       "        font:bold 14px monospace;\n",
       "        text-anchor:middle;\n",
       "    }\n",
       "    svg.railroad-diagram text.label{\n",
       "        text-anchor:start;\n",
       "    }\n",
       "    svg.railroad-diagram text.comment{\n",
       "        font:italic 12px monospace;\n",
       "    }\n",
       "    svg.railroad-diagram rect{\n",
       "        stroke-width:3;\n",
       "        stroke:black;\n",
       "        fill:hsl(0,62%,82%);\n",
       "    }\n",
       "\n",
       "/* ]]> */\n",
       "</style><g>\n",
       "<path d=\"M20 21v20m10 -20v20m-10 -10h20\"/></g><g>\n",
       "<path d=\"M40 31h0.0\"/><path d=\"M159.5 31h0.0\"/><path d=\"M40.0 31h20\"/><g>\n",
       "<path d=\"M60.0 31h0.0\"/><path d=\"M139.5 31h0.0\"/><g class=\"non-terminal\">\n",
       "<path d=\"M60.0 31h0.0\"/><path d=\"M139.5 31h0.0\"/><rect height=\"22\" width=\"79.5\" x=\"60.0\" y=\"20\"/><text x=\"99.75\" y=\"35\">symbols</text></g></g><path d=\"M139.5 31h20\"/></g><path d=\"M 159.5 31 h 20 m -10 -10 v 20 m 10 -20 v 20\"/></g></svg>"
      ],
      "text/plain": [
       "<IPython.core.display.SVG object>"
      ]
     },
     "metadata": {},
     "output_type": "display_data"
    },
    {
     "name": "stdout",
     "output_type": "stream",
     "text": [
      "symbols\n"
     ]
    },
    {
     "data": {
      "image/svg+xml": [
       "<svg class=\"railroad-diagram\" height=\"92\" viewBox=\"0 0 290.5 92\" width=\"290.5\" xmlns=\"http://www.w3.org/2000/svg\">\n",
       "<g transform=\"translate(.5 .5)\">\n",
       "<style>/* <![CDATA[ */\n",
       "    svg.railroad-diagram {\n",
       "        background-color:hsl(100,100%,100%);\n",
       "    }\n",
       "    svg.railroad-diagram path {\n",
       "        stroke-width:3;\n",
       "        stroke:black;\n",
       "        fill:rgba(0,0,0,0);\n",
       "    }\n",
       "    svg.railroad-diagram text {\n",
       "        font:bold 14px monospace;\n",
       "        text-anchor:middle;\n",
       "    }\n",
       "    svg.railroad-diagram text.label{\n",
       "        text-anchor:start;\n",
       "    }\n",
       "    svg.railroad-diagram text.comment{\n",
       "        font:italic 12px monospace;\n",
       "    }\n",
       "    svg.railroad-diagram rect{\n",
       "        stroke-width:3;\n",
       "        stroke:black;\n",
       "        fill:hsl(0,62%,82%);\n",
       "    }\n",
       "\n",
       "/* ]]> */\n",
       "</style><g>\n",
       "<path d=\"M20 51v20m10 -20v20m-10 -10h20\"/></g><g>\n",
       "<path d=\"M40 61h0.0\"/><path d=\"M250.5 61h0.0\"/><path d=\"M40.0 61a10 10 0 0 0 10 -10v-10a10 10 0 0 1 10 -10\"/><g>\n",
       "<path d=\"M60.0 31h0.0\"/><path d=\"M230.5 31h0.0\"/><g class=\"non-terminal\">\n",
       "<path d=\"M60.0 31h0.0\"/><path d=\"M131.0 31h0.0\"/><rect height=\"22\" width=\"71.0\" x=\"60.0\" y=\"20\"/><text x=\"95.5\" y=\"35\">symbol</text></g><path d=\"M131.0 31h10\"/><path d=\"M141.0 31h10\"/><g class=\"non-terminal\">\n",
       "<path d=\"M151.0 31h0.0\"/><path d=\"M230.5 31h0.0\"/><rect height=\"22\" width=\"79.5\" x=\"151.0\" y=\"20\"/><text x=\"190.75\" y=\"35\">symbols</text></g></g><path d=\"M230.5 31a10 10 0 0 1 10 10v10a10 10 0 0 0 10 10\"/><path d=\"M40.0 61h20\"/><g>\n",
       "<path d=\"M60.0 61h49.75\"/><path d=\"M180.75 61h49.75\"/><g class=\"non-terminal\">\n",
       "<path d=\"M109.75 61h0.0\"/><path d=\"M180.75 61h0.0\"/><rect height=\"22\" width=\"71.0\" x=\"109.75\" y=\"50\"/><text x=\"145.25\" y=\"65\">symbol</text></g></g><path d=\"M230.5 61h20\"/></g><path d=\"M 250.5 61 h 20 m -10 -10 v 20 m 10 -20 v 20\"/></g></svg>"
      ],
      "text/plain": [
       "<IPython.core.display.SVG object>"
      ]
     },
     "metadata": {},
     "output_type": "display_data"
    },
    {
     "name": "stdout",
     "output_type": "stream",
     "text": [
      "symbol\n"
     ]
    },
    {
     "data": {
      "image/svg+xml": [
       "<svg class=\"railroad-diagram\" height=\"92\" viewBox=\"0 0 242.0 92\" width=\"242.0\" xmlns=\"http://www.w3.org/2000/svg\">\n",
       "<g transform=\"translate(.5 .5)\">\n",
       "<style>/* <![CDATA[ */\n",
       "    svg.railroad-diagram {\n",
       "        background-color:hsl(100,100%,100%);\n",
       "    }\n",
       "    svg.railroad-diagram path {\n",
       "        stroke-width:3;\n",
       "        stroke:black;\n",
       "        fill:rgba(0,0,0,0);\n",
       "    }\n",
       "    svg.railroad-diagram text {\n",
       "        font:bold 14px monospace;\n",
       "        text-anchor:middle;\n",
       "    }\n",
       "    svg.railroad-diagram text.label{\n",
       "        text-anchor:start;\n",
       "    }\n",
       "    svg.railroad-diagram text.comment{\n",
       "        font:italic 12px monospace;\n",
       "    }\n",
       "    svg.railroad-diagram rect{\n",
       "        stroke-width:3;\n",
       "        stroke:black;\n",
       "        fill:hsl(0,62%,82%);\n",
       "    }\n",
       "\n",
       "/* ]]> */\n",
       "</style><g>\n",
       "<path d=\"M20 51v20m10 -20v20m-10 -10h20\"/></g><g>\n",
       "<path d=\"M40 61h0.0\"/><path d=\"M202.0 61h0.0\"/><path d=\"M40.0 61a10 10 0 0 0 10 -10v-10a10 10 0 0 1 10 -10\"/><g>\n",
       "<path d=\"M60.0 31h0.0\"/><path d=\"M182.0 31h0.0\"/><g class=\"non-terminal\">\n",
       "<path d=\"M60.0 31h0.0\"/><path d=\"M182.0 31h0.0\"/><rect height=\"22\" width=\"122.0\" x=\"60.0\" y=\"20\"/><text x=\"121.0\" y=\"35\">nonterminals</text></g></g><path d=\"M182.0 31a10 10 0 0 1 10 10v10a10 10 0 0 0 10 10\"/><path d=\"M40.0 61h20\"/><g>\n",
       "<path d=\"M60.0 61h12.75\"/><path d=\"M169.25 61h12.75\"/><g class=\"non-terminal\">\n",
       "<path d=\"M72.75 61h0.0\"/><path d=\"M169.25 61h0.0\"/><rect height=\"22\" width=\"96.5\" x=\"72.75\" y=\"50\"/><text x=\"121.0\" y=\"65\">terminals</text></g></g><path d=\"M182.0 61h20\"/></g><path d=\"M 202.0 61 h 20 m -10 -10 v 20 m 10 -20 v 20\"/></g></svg>"
      ],
      "text/plain": [
       "<IPython.core.display.SVG object>"
      ]
     },
     "metadata": {},
     "output_type": "display_data"
    },
    {
     "name": "stdout",
     "output_type": "stream",
     "text": [
      "nonterminals\n"
     ]
    },
    {
     "data": {
      "image/svg+xml": [
       "<svg class=\"railroad-diagram\" height=\"62\" viewBox=\"0 0 296.5 62\" width=\"296.5\" xmlns=\"http://www.w3.org/2000/svg\">\n",
       "<g transform=\"translate(.5 .5)\">\n",
       "<style>/* <![CDATA[ */\n",
       "    svg.railroad-diagram {\n",
       "        background-color:hsl(100,100%,100%);\n",
       "    }\n",
       "    svg.railroad-diagram path {\n",
       "        stroke-width:3;\n",
       "        stroke:black;\n",
       "        fill:rgba(0,0,0,0);\n",
       "    }\n",
       "    svg.railroad-diagram text {\n",
       "        font:bold 14px monospace;\n",
       "        text-anchor:middle;\n",
       "    }\n",
       "    svg.railroad-diagram text.label{\n",
       "        text-anchor:start;\n",
       "    }\n",
       "    svg.railroad-diagram text.comment{\n",
       "        font:italic 12px monospace;\n",
       "    }\n",
       "    svg.railroad-diagram rect{\n",
       "        stroke-width:3;\n",
       "        stroke:black;\n",
       "        fill:hsl(0,62%,82%);\n",
       "    }\n",
       "\n",
       "/* ]]> */\n",
       "</style><g>\n",
       "<path d=\"M20 21v20m10 -20v20m-10 -10h20\"/></g><g>\n",
       "<path d=\"M40 31h0.0\"/><path d=\"M256.5 31h0.0\"/><path d=\"M40.0 31h20\"/><g>\n",
       "<path d=\"M60.0 31h0.0\"/><path d=\"M236.5 31h0.0\"/><g class=\"non-terminal\">\n",
       "<path d=\"M60.0 31h0.0\"/><path d=\"M97.0 31h0.0\"/><rect height=\"22\" width=\"37.0\" x=\"60.0\" y=\"20\"/><text x=\"78.5\" y=\"35\">lt</text></g><path d=\"M97.0 31h10\"/><path d=\"M107.0 31h10\"/><g class=\"non-terminal\">\n",
       "<path d=\"M117.0 31h0.0\"/><path d=\"M179.5 31h0.0\"/><rect height=\"22\" width=\"62.5\" x=\"117.0\" y=\"20\"/><text x=\"148.25\" y=\"35\">alpha</text></g><path d=\"M179.5 31h10\"/><path d=\"M189.5 31h10\"/><g class=\"non-terminal\">\n",
       "<path d=\"M199.5 31h0.0\"/><path d=\"M236.5 31h0.0\"/><rect height=\"22\" width=\"37.0\" x=\"199.5\" y=\"20\"/><text x=\"218.0\" y=\"35\">gt</text></g></g><path d=\"M236.5 31h20\"/></g><path d=\"M 256.5 31 h 20 m -10 -10 v 20 m 10 -20 v 20\"/></g></svg>"
      ],
      "text/plain": [
       "<IPython.core.display.SVG object>"
      ]
     },
     "metadata": {},
     "output_type": "display_data"
    },
    {
     "name": "stdout",
     "output_type": "stream",
     "text": [
      "lt\n"
     ]
    },
    {
     "data": {
      "image/svg+xml": [
       "<svg class=\"railroad-diagram\" height=\"62\" viewBox=\"0 0 148.5 62\" width=\"148.5\" xmlns=\"http://www.w3.org/2000/svg\">\n",
       "<g transform=\"translate(.5 .5)\">\n",
       "<style>/* <![CDATA[ */\n",
       "    svg.railroad-diagram {\n",
       "        background-color:hsl(100,100%,100%);\n",
       "    }\n",
       "    svg.railroad-diagram path {\n",
       "        stroke-width:3;\n",
       "        stroke:black;\n",
       "        fill:rgba(0,0,0,0);\n",
       "    }\n",
       "    svg.railroad-diagram text {\n",
       "        font:bold 14px monospace;\n",
       "        text-anchor:middle;\n",
       "    }\n",
       "    svg.railroad-diagram text.label{\n",
       "        text-anchor:start;\n",
       "    }\n",
       "    svg.railroad-diagram text.comment{\n",
       "        font:italic 12px monospace;\n",
       "    }\n",
       "    svg.railroad-diagram rect{\n",
       "        stroke-width:3;\n",
       "        stroke:black;\n",
       "        fill:hsl(0,62%,82%);\n",
       "    }\n",
       "\n",
       "/* ]]> */\n",
       "</style><g>\n",
       "<path d=\"M20 21v20m10 -20v20m-10 -10h20\"/></g><g>\n",
       "<path d=\"M40 31h0.0\"/><path d=\"M108.5 31h0.0\"/><path d=\"M40.0 31h20\"/><g>\n",
       "<path d=\"M60.0 31h0.0\"/><path d=\"M88.5 31h0.0\"/><g class=\"terminal\">\n",
       "<path d=\"M60.0 31h0.0\"/><path d=\"M88.5 31h0.0\"/><rect height=\"22\" rx=\"10\" ry=\"10\" width=\"28.5\" x=\"60.0\" y=\"20\"/><text x=\"74.25\" y=\"35\">&lt;</text></g></g><path d=\"M88.5 31h20\"/></g><path d=\"M 108.5 31 h 20 m -10 -10 v 20 m 10 -20 v 20\"/></g></svg>"
      ],
      "text/plain": [
       "<IPython.core.display.SVG object>"
      ]
     },
     "metadata": {},
     "output_type": "display_data"
    },
    {
     "name": "stdout",
     "output_type": "stream",
     "text": [
      "gt\n"
     ]
    },
    {
     "data": {
      "image/svg+xml": [
       "<svg class=\"railroad-diagram\" height=\"62\" viewBox=\"0 0 148.5 62\" width=\"148.5\" xmlns=\"http://www.w3.org/2000/svg\">\n",
       "<g transform=\"translate(.5 .5)\">\n",
       "<style>/* <![CDATA[ */\n",
       "    svg.railroad-diagram {\n",
       "        background-color:hsl(100,100%,100%);\n",
       "    }\n",
       "    svg.railroad-diagram path {\n",
       "        stroke-width:3;\n",
       "        stroke:black;\n",
       "        fill:rgba(0,0,0,0);\n",
       "    }\n",
       "    svg.railroad-diagram text {\n",
       "        font:bold 14px monospace;\n",
       "        text-anchor:middle;\n",
       "    }\n",
       "    svg.railroad-diagram text.label{\n",
       "        text-anchor:start;\n",
       "    }\n",
       "    svg.railroad-diagram text.comment{\n",
       "        font:italic 12px monospace;\n",
       "    }\n",
       "    svg.railroad-diagram rect{\n",
       "        stroke-width:3;\n",
       "        stroke:black;\n",
       "        fill:hsl(0,62%,82%);\n",
       "    }\n",
       "\n",
       "/* ]]> */\n",
       "</style><g>\n",
       "<path d=\"M20 21v20m10 -20v20m-10 -10h20\"/></g><g>\n",
       "<path d=\"M40 31h0.0\"/><path d=\"M108.5 31h0.0\"/><path d=\"M40.0 31h20\"/><g>\n",
       "<path d=\"M60.0 31h0.0\"/><path d=\"M88.5 31h0.0\"/><g class=\"terminal\">\n",
       "<path d=\"M60.0 31h0.0\"/><path d=\"M88.5 31h0.0\"/><rect height=\"22\" rx=\"10\" ry=\"10\" width=\"28.5\" x=\"60.0\" y=\"20\"/><text x=\"74.25\" y=\"35\">&gt;</text></g></g><path d=\"M88.5 31h20\"/></g><path d=\"M 108.5 31 h 20 m -10 -10 v 20 m 10 -20 v 20\"/></g></svg>"
      ],
      "text/plain": [
       "<IPython.core.display.SVG object>"
      ]
     },
     "metadata": {},
     "output_type": "display_data"
    },
    {
     "name": "stdout",
     "output_type": "stream",
     "text": [
      "alpha\n"
     ]
    },
    {
     "data": {
      "image/svg+xml": [
       "<svg class=\"railroad-diagram\" height=\"122\" viewBox=\"0 0 148.5 122\" width=\"148.5\" xmlns=\"http://www.w3.org/2000/svg\">\n",
       "<g transform=\"translate(.5 .5)\">\n",
       "<style>/* <![CDATA[ */\n",
       "    svg.railroad-diagram {\n",
       "        background-color:hsl(100,100%,100%);\n",
       "    }\n",
       "    svg.railroad-diagram path {\n",
       "        stroke-width:3;\n",
       "        stroke:black;\n",
       "        fill:rgba(0,0,0,0);\n",
       "    }\n",
       "    svg.railroad-diagram text {\n",
       "        font:bold 14px monospace;\n",
       "        text-anchor:middle;\n",
       "    }\n",
       "    svg.railroad-diagram text.label{\n",
       "        text-anchor:start;\n",
       "    }\n",
       "    svg.railroad-diagram text.comment{\n",
       "        font:italic 12px monospace;\n",
       "    }\n",
       "    svg.railroad-diagram rect{\n",
       "        stroke-width:3;\n",
       "        stroke:black;\n",
       "        fill:hsl(0,62%,82%);\n",
       "    }\n",
       "\n",
       "/* ]]> */\n",
       "</style><g>\n",
       "<path d=\"M20 51v20m10 -20v20m-10 -10h20\"/></g><g>\n",
       "<path d=\"M40 61h0.0\"/><path d=\"M108.5 61h0.0\"/><path d=\"M40.0 61a10 10 0 0 0 10 -10v-10a10 10 0 0 1 10 -10\"/><g>\n",
       "<path d=\"M60.0 31h0.0\"/><path d=\"M88.5 31h0.0\"/><g class=\"terminal\">\n",
       "<path d=\"M60.0 31h0.0\"/><path d=\"M88.5 31h0.0\"/><rect height=\"22\" rx=\"10\" ry=\"10\" width=\"28.5\" x=\"60.0\" y=\"20\"/><text x=\"74.25\" y=\"35\">A</text></g></g><path d=\"M88.5 31a10 10 0 0 1 10 10v10a10 10 0 0 0 10 10\"/><path d=\"M40.0 61h20\"/><g>\n",
       "<path d=\"M60.0 61h0.0\"/><path d=\"M88.5 61h0.0\"/><g class=\"terminal\">\n",
       "<path d=\"M60.0 61h0.0\"/><path d=\"M88.5 61h0.0\"/><rect height=\"22\" rx=\"10\" ry=\"10\" width=\"28.5\" x=\"60.0\" y=\"50\"/><text x=\"74.25\" y=\"65\">B</text></g></g><path d=\"M88.5 61h20\"/><path d=\"M40.0 61a10 10 0 0 1 10 10v10a10 10 0 0 0 10 10\"/><g>\n",
       "<path d=\"M60.0 91h0.0\"/><path d=\"M88.5 91h0.0\"/><g class=\"terminal\">\n",
       "<path d=\"M60.0 91h0.0\"/><path d=\"M88.5 91h0.0\"/><rect height=\"22\" rx=\"10\" ry=\"10\" width=\"28.5\" x=\"60.0\" y=\"80\"/><text x=\"74.25\" y=\"95\">C</text></g></g><path d=\"M88.5 91a10 10 0 0 0 10 -10v-10a10 10 0 0 1 10 -10\"/></g><path d=\"M 108.5 61 h 20 m -10 -10 v 20 m 10 -20 v 20\"/></g></svg>"
      ],
      "text/plain": [
       "<IPython.core.display.SVG object>"
      ]
     },
     "metadata": {},
     "output_type": "display_data"
    },
    {
     "name": "stdout",
     "output_type": "stream",
     "text": [
      "terminals\n"
     ]
    },
    {
     "data": {
      "image/svg+xml": [
       "<svg class=\"railroad-diagram\" height=\"122\" viewBox=\"0 0 148.5 122\" width=\"148.5\" xmlns=\"http://www.w3.org/2000/svg\">\n",
       "<g transform=\"translate(.5 .5)\">\n",
       "<style>/* <![CDATA[ */\n",
       "    svg.railroad-diagram {\n",
       "        background-color:hsl(100,100%,100%);\n",
       "    }\n",
       "    svg.railroad-diagram path {\n",
       "        stroke-width:3;\n",
       "        stroke:black;\n",
       "        fill:rgba(0,0,0,0);\n",
       "    }\n",
       "    svg.railroad-diagram text {\n",
       "        font:bold 14px monospace;\n",
       "        text-anchor:middle;\n",
       "    }\n",
       "    svg.railroad-diagram text.label{\n",
       "        text-anchor:start;\n",
       "    }\n",
       "    svg.railroad-diagram text.comment{\n",
       "        font:italic 12px monospace;\n",
       "    }\n",
       "    svg.railroad-diagram rect{\n",
       "        stroke-width:3;\n",
       "        stroke:black;\n",
       "        fill:hsl(0,62%,82%);\n",
       "    }\n",
       "\n",
       "/* ]]> */\n",
       "</style><g>\n",
       "<path d=\"M20 51v20m10 -20v20m-10 -10h20\"/></g><g>\n",
       "<path d=\"M40 61h0.0\"/><path d=\"M108.5 61h0.0\"/><path d=\"M40.0 61a10 10 0 0 0 10 -10v-10a10 10 0 0 1 10 -10\"/><g>\n",
       "<path d=\"M60.0 31h0.0\"/><path d=\"M88.5 31h0.0\"/><g class=\"terminal\">\n",
       "<path d=\"M60.0 31h0.0\"/><path d=\"M88.5 31h0.0\"/><rect height=\"22\" rx=\"10\" ry=\"10\" width=\"28.5\" x=\"60.0\" y=\"20\"/><text x=\"74.25\" y=\"35\">1</text></g></g><path d=\"M88.5 31a10 10 0 0 1 10 10v10a10 10 0 0 0 10 10\"/><path d=\"M40.0 61h20\"/><g>\n",
       "<path d=\"M60.0 61h0.0\"/><path d=\"M88.5 61h0.0\"/><g class=\"terminal\">\n",
       "<path d=\"M60.0 61h0.0\"/><path d=\"M88.5 61h0.0\"/><rect height=\"22\" rx=\"10\" ry=\"10\" width=\"28.5\" x=\"60.0\" y=\"50\"/><text x=\"74.25\" y=\"65\">2</text></g></g><path d=\"M88.5 61h20\"/><path d=\"M40.0 61a10 10 0 0 1 10 10v10a10 10 0 0 0 10 10\"/><g>\n",
       "<path d=\"M60.0 91h0.0\"/><path d=\"M88.5 91h0.0\"/><g class=\"terminal\">\n",
       "<path d=\"M60.0 91h0.0\"/><path d=\"M88.5 91h0.0\"/><rect height=\"22\" rx=\"10\" ry=\"10\" width=\"28.5\" x=\"60.0\" y=\"80\"/><text x=\"74.25\" y=\"95\">3</text></g></g><path d=\"M88.5 91a10 10 0 0 0 10 -10v-10a10 10 0 0 1 10 -10\"/></g><path d=\"M 108.5 61 h 20 m -10 -10 v 20 m 10 -20 v 20\"/></g></svg>"
      ],
      "text/plain": [
       "<IPython.core.display.SVG object>"
      ]
     },
     "metadata": {},
     "output_type": "display_data"
    }
   ],
   "source": [
    "syntax_diagram(prod_line_grammar([\"A\", \"B\", \"C\"], [\"1\", \"2\", \"3\"]))"
   ]
  },
  {
   "cell_type": "code",
   "execution_count": 133,
   "metadata": {
    "slideshow": {
     "slide_type": "subslide"
    }
   },
   "outputs": [],
   "source": [
    "def make_rule(nonterminals, terminals, num_alts):\n",
    "    prod_grammar = prod_line_grammar(nonterminals, terminals)\n",
    "\n",
    "    gf = GrammarFuzzer(prod_grammar, min_nonterminals=3, max_nonterminals=5)\n",
    "    name = \"<%s>\" % ''.join(random.choices(string.ascii_uppercase, k=3))\n",
    "\n",
    "    return (name, [gf.fuzz() for _ in range(num_alts)])"
   ]
  },
  {
   "cell_type": "code",
   "execution_count": 134,
   "metadata": {
    "slideshow": {
     "slide_type": "fragment"
    }
   },
   "outputs": [
    {
     "data": {
      "text/plain": [
       "('<KWR>', ['<A><A>', '<B>12', '<A>11'])"
      ]
     },
     "execution_count": 134,
     "metadata": {},
     "output_type": "execute_result"
    }
   ],
   "source": [
    "make_rule([\"A\", \"B\", \"C\"], [\"1\", \"2\", \"3\"], 3)"
   ]
  },
  {
   "cell_type": "code",
   "execution_count": 135,
   "metadata": {
    "slideshow": {
     "slide_type": "skip"
    }
   },
   "outputs": [],
   "source": [
    "from Grammars import unreachable_nonterminals"
   ]
  },
  {
   "cell_type": "code",
   "execution_count": 136,
   "metadata": {
    "slideshow": {
     "slide_type": "subslide"
    }
   },
   "outputs": [],
   "source": [
    "def make_grammar(num_symbols=3, num_alts=3):\n",
    "    terminals = list(string.ascii_lowercase)\n",
    "    grammar = {}\n",
    "    name = None\n",
    "    for _ in range(num_symbols):\n",
    "        nonterminals = [k[1:-1] for k in grammar.keys()]\n",
    "        name, expansions = \\\n",
    "            make_rule(nonterminals, terminals, num_alts)\n",
    "        grammar[name] = expansions\n",
    "\n",
    "    grammar[START_SYMBOL] = [name]\n",
    "    \n",
    "    # Remove unused parts\n",
    "    for nonterminal in unreachable_nonterminals(grammar):\n",
    "        del grammar[nonterminal]\n",
    "    \n",
    "    assert is_valid_grammar(grammar)\n",
    "    \n",
    "    return grammar"
   ]
  },
  {
   "cell_type": "code",
   "execution_count": 137,
   "metadata": {
    "slideshow": {
     "slide_type": "subslide"
    }
   },
   "outputs": [
    {
     "data": {
      "text/plain": [
       "{'<YNK>': ['oxz', 'gh', 'm'],\n",
       " '<AGT>': ['m<YNK>fy', 'f<YNK>uv', '<YNK>aj'],\n",
       " '<XSJ>': ['<AGT>oy', 'y<YNK>gd', '<YNK>dk'],\n",
       " '<start>': ['<XSJ>']}"
      ]
     },
     "execution_count": 137,
     "metadata": {},
     "output_type": "execute_result"
    }
   ],
   "source": [
    "make_grammar()"
   ]
  },
  {
   "cell_type": "markdown",
   "metadata": {
    "slideshow": {
     "slide_type": "fragment"
    }
   },
   "source": [
    "Now we verify if our arbitrary grammars can be used by the Earley parser."
   ]
  },
  {
   "cell_type": "code",
   "execution_count": 138,
   "metadata": {
    "slideshow": {
     "slide_type": "subslide"
    }
   },
   "outputs": [
    {
     "name": "stdout",
     "output_type": "stream",
     "text": [
      "{'<HIT>': ['kk', '', 'c'], '<ROZ>': ['<HIT>gy', 'nyz', '<HIT>md'], '<start>': ['<ROZ>']}\n",
      "gy\n"
     ]
    },
    {
     "data": {
      "image/svg+xml": [
       "<?xml version=\"1.0\" encoding=\"UTF-8\" standalone=\"no\"?>\n",
       "<!DOCTYPE svg PUBLIC \"-//W3C//DTD SVG 1.1//EN\"\n",
       " \"http://www.w3.org/Graphics/SVG/1.1/DTD/svg11.dtd\">\n",
       "<!-- Generated by graphviz version 2.40.1 (20161225.0304)\n",
       " -->\n",
       "<!-- Title: %3 Pages: 1 -->\n",
       "<svg width=\"80pt\" height=\"122pt\"\n",
       " viewBox=\"0.00 0.00 79.56 122.00\" xmlns=\"http://www.w3.org/2000/svg\" xmlns:xlink=\"http://www.w3.org/1999/xlink\">\n",
       "<g id=\"graph0\" class=\"graph\" transform=\"scale(1 1) rotate(0) translate(4 118)\">\n",
       "<title>%3</title>\n",
       "<polygon fill=\"#ffffff\" stroke=\"transparent\" points=\"-4,4 -4,-118 75.5576,-118 75.5576,4 -4,4\"/>\n",
       "<!-- 0 -->\n",
       "<g id=\"node1\" class=\"node\">\n",
       "<title>0</title>\n",
       "<text text-anchor=\"middle\" x=\"41.5576\" y=\"-102.8\" font-family=\"Times,serif\" font-size=\"14.00\" fill=\"#000000\">&lt;start&gt;</text>\n",
       "</g>\n",
       "<!-- 1 -->\n",
       "<g id=\"node2\" class=\"node\">\n",
       "<title>1</title>\n",
       "<text text-anchor=\"middle\" x=\"41.5576\" y=\"-52.8\" font-family=\"Times,serif\" font-size=\"14.00\" fill=\"#000000\">&lt;ROZ&gt;</text>\n",
       "</g>\n",
       "<!-- 0&#45;&gt;1 -->\n",
       "<g id=\"edge1\" class=\"edge\">\n",
       "<title>0&#45;&gt;1</title>\n",
       "<path fill=\"none\" stroke=\"#000000\" d=\"M41.5576,-99.6223C41.5576,-92.9738 41.5576,-82.942 41.5576,-74.2807\"/>\n",
       "<polygon fill=\"#000000\" stroke=\"#000000\" points=\"45.0577,-74.0842 41.5576,-64.0842 38.0577,-74.0842 45.0577,-74.0842\"/>\n",
       "</g>\n",
       "<!-- 2 -->\n",
       "<g id=\"node3\" class=\"node\">\n",
       "<title>2</title>\n",
       "<text text-anchor=\"middle\" x=\"19.5576\" y=\"-2.8\" font-family=\"Times,serif\" font-size=\"14.00\" fill=\"#000000\">&lt;HIT&gt;</text>\n",
       "</g>\n",
       "<!-- 1&#45;&gt;2 -->\n",
       "<g id=\"edge2\" class=\"edge\">\n",
       "<title>1&#45;&gt;2</title>\n",
       "<path fill=\"none\" stroke=\"#000000\" d=\"M38.3114,-49.6223C35.2875,-42.7497 30.6728,-32.2618 26.7779,-23.4097\"/>\n",
       "<polygon fill=\"#000000\" stroke=\"#000000\" points=\"29.9057,-21.8277 22.6747,-14.0842 23.4985,-24.647 29.9057,-21.8277\"/>\n",
       "</g>\n",
       "<!-- 3 -->\n",
       "<g id=\"node4\" class=\"node\">\n",
       "<title>3</title>\n",
       "<text text-anchor=\"middle\" x=\"64.5576\" y=\"-2.8\" font-family=\"Times,serif\" font-size=\"14.00\" fill=\"#000000\">gy</text>\n",
       "</g>\n",
       "<!-- 1&#45;&gt;3 -->\n",
       "<g id=\"edge3\" class=\"edge\">\n",
       "<title>1&#45;&gt;3</title>\n",
       "<path fill=\"none\" stroke=\"#000000\" d=\"M44.9513,-49.6223C48.1128,-42.7497 52.9372,-32.2618 57.0091,-23.4097\"/>\n",
       "<polygon fill=\"#000000\" stroke=\"#000000\" points=\"60.2995,-24.6318 61.2989,-14.0842 53.9401,-21.7064 60.2995,-24.6318\"/>\n",
       "</g>\n",
       "</g>\n",
       "</svg>\n"
      ],
      "text/plain": [
       "<graphviz.dot.Digraph at 0x10deee0b8>"
      ]
     },
     "metadata": {},
     "output_type": "display_data"
    },
    {
     "name": "stdout",
     "output_type": "stream",
     "text": [
      "{'<YYM>': ['t', 'dw', 'gki'], '<TZU>': ['<YYM>rx', '<YYM>uix', '<YYM>j'], '<XUG>': ['<TZU>jvj', '<YYM>s', '<YYM>d'], '<start>': ['<XUG>']}\n",
      "ts\n"
     ]
    },
    {
     "data": {
      "image/svg+xml": [
       "<?xml version=\"1.0\" encoding=\"UTF-8\" standalone=\"no\"?>\n",
       "<!DOCTYPE svg PUBLIC \"-//W3C//DTD SVG 1.1//EN\"\n",
       " \"http://www.w3.org/Graphics/SVG/1.1/DTD/svg11.dtd\">\n",
       "<!-- Generated by graphviz version 2.40.1 (20161225.0304)\n",
       " -->\n",
       "<!-- Title: %3 Pages: 1 -->\n",
       "<svg width=\"80pt\" height=\"172pt\"\n",
       " viewBox=\"0.00 0.00 79.95 172.00\" xmlns=\"http://www.w3.org/2000/svg\" xmlns:xlink=\"http://www.w3.org/1999/xlink\">\n",
       "<g id=\"graph0\" class=\"graph\" transform=\"scale(1 1) rotate(0) translate(4 168)\">\n",
       "<title>%3</title>\n",
       "<polygon fill=\"#ffffff\" stroke=\"transparent\" points=\"-4,4 -4,-168 75.9541,-168 75.9541,4 -4,4\"/>\n",
       "<!-- 0 -->\n",
       "<g id=\"node1\" class=\"node\">\n",
       "<title>0</title>\n",
       "<text text-anchor=\"middle\" x=\"46.23\" y=\"-152.8\" font-family=\"Times,serif\" font-size=\"14.00\" fill=\"#000000\">&lt;start&gt;</text>\n",
       "</g>\n",
       "<!-- 1 -->\n",
       "<g id=\"node2\" class=\"node\">\n",
       "<title>1</title>\n",
       "<text text-anchor=\"middle\" x=\"46.23\" y=\"-102.8\" font-family=\"Times,serif\" font-size=\"14.00\" fill=\"#000000\">&lt;XUG&gt;</text>\n",
       "</g>\n",
       "<!-- 0&#45;&gt;1 -->\n",
       "<g id=\"edge1\" class=\"edge\">\n",
       "<title>0&#45;&gt;1</title>\n",
       "<path fill=\"none\" stroke=\"#000000\" d=\"M46.23,-149.6223C46.23,-142.9738 46.23,-132.942 46.23,-124.2807\"/>\n",
       "<polygon fill=\"#000000\" stroke=\"#000000\" points=\"49.7301,-124.0842 46.23,-114.0842 42.7301,-124.0842 49.7301,-124.0842\"/>\n",
       "</g>\n",
       "<!-- 2 -->\n",
       "<g id=\"node3\" class=\"node\">\n",
       "<title>2</title>\n",
       "<text text-anchor=\"middle\" x=\"24.23\" y=\"-52.8\" font-family=\"Times,serif\" font-size=\"14.00\" fill=\"#000000\">&lt;YYM&gt;</text>\n",
       "</g>\n",
       "<!-- 1&#45;&gt;2 -->\n",
       "<g id=\"edge2\" class=\"edge\">\n",
       "<title>1&#45;&gt;2</title>\n",
       "<path fill=\"none\" stroke=\"#000000\" d=\"M42.9838,-99.6223C39.9598,-92.7497 35.3452,-82.2618 31.4503,-73.4097\"/>\n",
       "<polygon fill=\"#000000\" stroke=\"#000000\" points=\"34.5781,-71.8277 27.347,-64.0842 28.1709,-74.647 34.5781,-71.8277\"/>\n",
       "</g>\n",
       "<!-- 4 -->\n",
       "<g id=\"node5\" class=\"node\">\n",
       "<title>4</title>\n",
       "<text text-anchor=\"middle\" x=\"69.23\" y=\"-52.8\" font-family=\"Times,serif\" font-size=\"14.00\" fill=\"#000000\">s</text>\n",
       "</g>\n",
       "<!-- 1&#45;&gt;4 -->\n",
       "<g id=\"edge4\" class=\"edge\">\n",
       "<title>1&#45;&gt;4</title>\n",
       "<path fill=\"none\" stroke=\"#000000\" d=\"M49.6237,-99.6223C52.8929,-92.5154 57.9404,-81.5425 62.0952,-72.5103\"/>\n",
       "<polygon fill=\"#000000\" stroke=\"#000000\" points=\"65.4031,-73.6942 66.4025,-63.1466 59.0437,-70.7689 65.4031,-73.6942\"/>\n",
       "</g>\n",
       "<!-- 3 -->\n",
       "<g id=\"node4\" class=\"node\">\n",
       "<title>3</title>\n",
       "<text text-anchor=\"middle\" x=\"24.23\" y=\"-2.8\" font-family=\"Times,serif\" font-size=\"14.00\" fill=\"#000000\">t</text>\n",
       "</g>\n",
       "<!-- 2&#45;&gt;3 -->\n",
       "<g id=\"edge3\" class=\"edge\">\n",
       "<title>2&#45;&gt;3</title>\n",
       "<path fill=\"none\" stroke=\"#000000\" d=\"M24.23,-49.6223C24.23,-42.9738 24.23,-32.942 24.23,-24.2807\"/>\n",
       "<polygon fill=\"#000000\" stroke=\"#000000\" points=\"27.7301,-24.0842 24.23,-14.0842 20.7301,-24.0842 27.7301,-24.0842\"/>\n",
       "</g>\n",
       "</g>\n",
       "</svg>\n"
      ],
      "text/plain": [
       "<graphviz.dot.Digraph at 0x10deee4e0>"
      ]
     },
     "metadata": {},
     "output_type": "display_data"
    },
    {
     "name": "stdout",
     "output_type": "stream",
     "text": [
      "{'<OAK>': ['d', 't', 'g'], '<VFU>': ['<OAK>ta', '<OAK>qy', '<OAK>m<OAK>b'], '<PIQ>': ['<VFU>ic', 'p<VFU>np', '<OAK>v'], '<start>': ['<PIQ>']}\n",
      "gv\n"
     ]
    },
    {
     "data": {
      "image/svg+xml": [
       "<?xml version=\"1.0\" encoding=\"UTF-8\" standalone=\"no\"?>\n",
       "<!DOCTYPE svg PUBLIC \"-//W3C//DTD SVG 1.1//EN\"\n",
       " \"http://www.w3.org/Graphics/SVG/1.1/DTD/svg11.dtd\">\n",
       "<!-- Generated by graphviz version 2.40.1 (20161225.0304)\n",
       " -->\n",
       "<!-- Title: %3 Pages: 1 -->\n",
       "<svg width=\"80pt\" height=\"172pt\"\n",
       " viewBox=\"0.00 0.00 79.56 172.00\" xmlns=\"http://www.w3.org/2000/svg\" xmlns:xlink=\"http://www.w3.org/1999/xlink\">\n",
       "<g id=\"graph0\" class=\"graph\" transform=\"scale(1 1) rotate(0) translate(4 168)\">\n",
       "<title>%3</title>\n",
       "<polygon fill=\"#ffffff\" stroke=\"transparent\" points=\"-4,4 -4,-168 75.561,-168 75.561,4 -4,4\"/>\n",
       "<!-- 0 -->\n",
       "<g id=\"node1\" class=\"node\">\n",
       "<title>0</title>\n",
       "<text text-anchor=\"middle\" x=\"45.061\" y=\"-152.8\" font-family=\"Times,serif\" font-size=\"14.00\" fill=\"#000000\">&lt;start&gt;</text>\n",
       "</g>\n",
       "<!-- 1 -->\n",
       "<g id=\"node2\" class=\"node\">\n",
       "<title>1</title>\n",
       "<text text-anchor=\"middle\" x=\"45.061\" y=\"-102.8\" font-family=\"Times,serif\" font-size=\"14.00\" fill=\"#000000\">&lt;PIQ&gt;</text>\n",
       "</g>\n",
       "<!-- 0&#45;&gt;1 -->\n",
       "<g id=\"edge1\" class=\"edge\">\n",
       "<title>0&#45;&gt;1</title>\n",
       "<path fill=\"none\" stroke=\"#000000\" d=\"M45.061,-149.6223C45.061,-142.9738 45.061,-132.942 45.061,-124.2807\"/>\n",
       "<polygon fill=\"#000000\" stroke=\"#000000\" points=\"48.5611,-124.0842 45.061,-114.0842 41.5611,-124.0842 48.5611,-124.0842\"/>\n",
       "</g>\n",
       "<!-- 2 -->\n",
       "<g id=\"node3\" class=\"node\">\n",
       "<title>2</title>\n",
       "<text text-anchor=\"middle\" x=\"23.061\" y=\"-52.8\" font-family=\"Times,serif\" font-size=\"14.00\" fill=\"#000000\">&lt;OAK&gt;</text>\n",
       "</g>\n",
       "<!-- 1&#45;&gt;2 -->\n",
       "<g id=\"edge2\" class=\"edge\">\n",
       "<title>1&#45;&gt;2</title>\n",
       "<path fill=\"none\" stroke=\"#000000\" d=\"M41.8149,-99.6223C38.7909,-92.7497 34.1762,-82.2618 30.2813,-73.4097\"/>\n",
       "<polygon fill=\"#000000\" stroke=\"#000000\" points=\"33.4091,-71.8277 26.1781,-64.0842 27.0019,-74.647 33.4091,-71.8277\"/>\n",
       "</g>\n",
       "<!-- 4 -->\n",
       "<g id=\"node5\" class=\"node\">\n",
       "<title>4</title>\n",
       "<text text-anchor=\"middle\" x=\"68.061\" y=\"-52.8\" font-family=\"Times,serif\" font-size=\"14.00\" fill=\"#000000\">v</text>\n",
       "</g>\n",
       "<!-- 1&#45;&gt;4 -->\n",
       "<g id=\"edge4\" class=\"edge\">\n",
       "<title>1&#45;&gt;4</title>\n",
       "<path fill=\"none\" stroke=\"#000000\" d=\"M48.4548,-99.6223C51.6162,-92.7497 56.4406,-82.2618 60.5126,-73.4097\"/>\n",
       "<polygon fill=\"#000000\" stroke=\"#000000\" points=\"63.8029,-74.6318 64.8023,-64.0842 57.4435,-71.7064 63.8029,-74.6318\"/>\n",
       "</g>\n",
       "<!-- 3 -->\n",
       "<g id=\"node4\" class=\"node\">\n",
       "<title>3</title>\n",
       "<text text-anchor=\"middle\" x=\"23.061\" y=\"-2.8\" font-family=\"Times,serif\" font-size=\"14.00\" fill=\"#000000\">g</text>\n",
       "</g>\n",
       "<!-- 2&#45;&gt;3 -->\n",
       "<g id=\"edge3\" class=\"edge\">\n",
       "<title>2&#45;&gt;3</title>\n",
       "<path fill=\"none\" stroke=\"#000000\" d=\"M23.061,-49.6223C23.061,-42.9738 23.061,-32.942 23.061,-24.2807\"/>\n",
       "<polygon fill=\"#000000\" stroke=\"#000000\" points=\"26.5611,-24.0842 23.061,-14.0842 19.5611,-24.0842 26.5611,-24.0842\"/>\n",
       "</g>\n",
       "</g>\n",
       "</svg>\n"
      ],
      "text/plain": [
       "<graphviz.dot.Digraph at 0x11cac0c18>"
      ]
     },
     "metadata": {},
     "output_type": "display_data"
    },
    {
     "name": "stdout",
     "output_type": "stream",
     "text": [
      "{'<DYN>': ['c', 'ff', 'w'], '<DNQ>': ['<DYN>eoa', '<DYN><DYN>', 'beu<DYN><DYN>'], '<XYW>': ['<DNQ>o', '<DYN>rx', '<DYN>k'], '<start>': ['<XYW>']}\n",
      "wrx\n"
     ]
    },
    {
     "data": {
      "image/svg+xml": [
       "<?xml version=\"1.0\" encoding=\"UTF-8\" standalone=\"no\"?>\n",
       "<!DOCTYPE svg PUBLIC \"-//W3C//DTD SVG 1.1//EN\"\n",
       " \"http://www.w3.org/Graphics/SVG/1.1/DTD/svg11.dtd\">\n",
       "<!-- Generated by graphviz version 2.40.1 (20161225.0304)\n",
       " -->\n",
       "<!-- Title: %3 Pages: 1 -->\n",
       "<svg width=\"84pt\" height=\"172pt\"\n",
       " viewBox=\"0.00 0.00 83.89 172.00\" xmlns=\"http://www.w3.org/2000/svg\" xmlns:xlink=\"http://www.w3.org/1999/xlink\">\n",
       "<g id=\"graph0\" class=\"graph\" transform=\"scale(1 1) rotate(0) translate(4 168)\">\n",
       "<title>%3</title>\n",
       "<polygon fill=\"#ffffff\" stroke=\"transparent\" points=\"-4,4 -4,-168 79.8921,-168 79.8921,4 -4,4\"/>\n",
       "<!-- 0 -->\n",
       "<g id=\"node1\" class=\"node\">\n",
       "<title>0</title>\n",
       "<text text-anchor=\"middle\" x=\"46.061\" y=\"-152.8\" font-family=\"Times,serif\" font-size=\"14.00\" fill=\"#000000\">&lt;start&gt;</text>\n",
       "</g>\n",
       "<!-- 1 -->\n",
       "<g id=\"node2\" class=\"node\">\n",
       "<title>1</title>\n",
       "<text text-anchor=\"middle\" x=\"46.061\" y=\"-102.8\" font-family=\"Times,serif\" font-size=\"14.00\" fill=\"#000000\">&lt;XYW&gt;</text>\n",
       "</g>\n",
       "<!-- 0&#45;&gt;1 -->\n",
       "<g id=\"edge1\" class=\"edge\">\n",
       "<title>0&#45;&gt;1</title>\n",
       "<path fill=\"none\" stroke=\"#000000\" d=\"M46.061,-149.6223C46.061,-142.9738 46.061,-132.942 46.061,-124.2807\"/>\n",
       "<polygon fill=\"#000000\" stroke=\"#000000\" points=\"49.5611,-124.0842 46.061,-114.0842 42.5611,-124.0842 49.5611,-124.0842\"/>\n",
       "</g>\n",
       "<!-- 2 -->\n",
       "<g id=\"node3\" class=\"node\">\n",
       "<title>2</title>\n",
       "<text text-anchor=\"middle\" x=\"23.061\" y=\"-52.8\" font-family=\"Times,serif\" font-size=\"14.00\" fill=\"#000000\">&lt;DYN&gt;</text>\n",
       "</g>\n",
       "<!-- 1&#45;&gt;2 -->\n",
       "<g id=\"edge2\" class=\"edge\">\n",
       "<title>1&#45;&gt;2</title>\n",
       "<path fill=\"none\" stroke=\"#000000\" d=\"M42.6673,-99.6223C39.5059,-92.7497 34.6815,-82.2618 30.6095,-73.4097\"/>\n",
       "<polygon fill=\"#000000\" stroke=\"#000000\" points=\"33.6786,-71.7064 26.3198,-64.0842 27.3192,-74.6318 33.6786,-71.7064\"/>\n",
       "</g>\n",
       "<!-- 4 -->\n",
       "<g id=\"node5\" class=\"node\">\n",
       "<title>4</title>\n",
       "<text text-anchor=\"middle\" x=\"70.061\" y=\"-52.8\" font-family=\"Times,serif\" font-size=\"14.00\" fill=\"#000000\">rx</text>\n",
       "</g>\n",
       "<!-- 1&#45;&gt;4 -->\n",
       "<g id=\"edge4\" class=\"edge\">\n",
       "<title>1&#45;&gt;4</title>\n",
       "<path fill=\"none\" stroke=\"#000000\" d=\"M49.6023,-99.6223C52.9371,-92.6749 58.045,-82.0334 62.3226,-73.1217\"/>\n",
       "<polygon fill=\"#000000\" stroke=\"#000000\" points=\"65.4886,-74.614 66.6606,-64.0842 59.1779,-71.5848 65.4886,-74.614\"/>\n",
       "</g>\n",
       "<!-- 3 -->\n",
       "<g id=\"node4\" class=\"node\">\n",
       "<title>3</title>\n",
       "<text text-anchor=\"middle\" x=\"23.061\" y=\"-2.8\" font-family=\"Times,serif\" font-size=\"14.00\" fill=\"#000000\">w</text>\n",
       "</g>\n",
       "<!-- 2&#45;&gt;3 -->\n",
       "<g id=\"edge3\" class=\"edge\">\n",
       "<title>2&#45;&gt;3</title>\n",
       "<path fill=\"none\" stroke=\"#000000\" d=\"M23.061,-49.6223C23.061,-42.9738 23.061,-32.942 23.061,-24.2807\"/>\n",
       "<polygon fill=\"#000000\" stroke=\"#000000\" points=\"26.5611,-24.0842 23.061,-14.0842 19.5611,-24.0842 26.5611,-24.0842\"/>\n",
       "</g>\n",
       "</g>\n",
       "</svg>\n"
      ],
      "text/plain": [
       "<graphviz.dot.Digraph at 0x11cac6d30>"
      ]
     },
     "metadata": {},
     "output_type": "display_data"
    },
    {
     "name": "stdout",
     "output_type": "stream",
     "text": [
      "{'<JPV>': ['rxx', 'knkbb', 'aq'], '<JSE>': ['c<JPV>i', 'oh<JPV><JPV><JPV>h', '<JPV><JPV>l'], '<JLL>': ['<JSE>qo', '<JSE>wx', '<JSE>hm'], '<start>': ['<JLL>']}\n",
      "rxxaqlqo\n"
     ]
    },
    {
     "data": {
      "image/svg+xml": [
       "<?xml version=\"1.0\" encoding=\"UTF-8\" standalone=\"no\"?>\n",
       "<!DOCTYPE svg PUBLIC \"-//W3C//DTD SVG 1.1//EN\"\n",
       " \"http://www.w3.org/Graphics/SVG/1.1/DTD/svg11.dtd\">\n",
       "<!-- Generated by graphviz version 2.40.1 (20161225.0304)\n",
       " -->\n",
       "<!-- Title: %3 Pages: 1 -->\n",
       "<svg width=\"136pt\" height=\"222pt\"\n",
       " viewBox=\"0.00 0.00 135.57 222.00\" xmlns=\"http://www.w3.org/2000/svg\" xmlns:xlink=\"http://www.w3.org/1999/xlink\">\n",
       "<g id=\"graph0\" class=\"graph\" transform=\"scale(1 1) rotate(0) translate(4 218)\">\n",
       "<title>%3</title>\n",
       "<polygon fill=\"#ffffff\" stroke=\"transparent\" points=\"-4,4 -4,-218 131.5679,-218 131.5679,4 -4,4\"/>\n",
       "<!-- 0 -->\n",
       "<g id=\"node1\" class=\"node\">\n",
       "<title>0</title>\n",
       "<text text-anchor=\"middle\" x=\"98.5679\" y=\"-202.8\" font-family=\"Times,serif\" font-size=\"14.00\" fill=\"#000000\">&lt;start&gt;</text>\n",
       "</g>\n",
       "<!-- 1 -->\n",
       "<g id=\"node2\" class=\"node\">\n",
       "<title>1</title>\n",
       "<text text-anchor=\"middle\" x=\"98.5679\" y=\"-152.8\" font-family=\"Times,serif\" font-size=\"14.00\" fill=\"#000000\">&lt;JLL&gt;</text>\n",
       "</g>\n",
       "<!-- 0&#45;&gt;1 -->\n",
       "<g id=\"edge1\" class=\"edge\">\n",
       "<title>0&#45;&gt;1</title>\n",
       "<path fill=\"none\" stroke=\"#000000\" d=\"M98.5679,-199.6223C98.5679,-192.9738 98.5679,-182.942 98.5679,-174.2807\"/>\n",
       "<polygon fill=\"#000000\" stroke=\"#000000\" points=\"102.068,-174.0842 98.5679,-164.0842 95.068,-174.0842 102.068,-174.0842\"/>\n",
       "</g>\n",
       "<!-- 2 -->\n",
       "<g id=\"node3\" class=\"node\">\n",
       "<title>2</title>\n",
       "<text text-anchor=\"middle\" x=\"76.5679\" y=\"-102.8\" font-family=\"Times,serif\" font-size=\"14.00\" fill=\"#000000\">&lt;JSE&gt;</text>\n",
       "</g>\n",
       "<!-- 1&#45;&gt;2 -->\n",
       "<g id=\"edge2\" class=\"edge\">\n",
       "<title>1&#45;&gt;2</title>\n",
       "<path fill=\"none\" stroke=\"#000000\" d=\"M95.3217,-149.6223C92.2977,-142.7497 87.6831,-132.2618 83.7882,-123.4097\"/>\n",
       "<polygon fill=\"#000000\" stroke=\"#000000\" points=\"86.916,-121.8277 79.6849,-114.0842 80.5088,-124.647 86.916,-121.8277\"/>\n",
       "</g>\n",
       "<!-- 8 -->\n",
       "<g id=\"node9\" class=\"node\">\n",
       "<title>8</title>\n",
       "<text text-anchor=\"middle\" x=\"120.5679\" y=\"-102.8\" font-family=\"Times,serif\" font-size=\"14.00\" fill=\"#000000\">qo</text>\n",
       "</g>\n",
       "<!-- 1&#45;&gt;8 -->\n",
       "<g id=\"edge8\" class=\"edge\">\n",
       "<title>1&#45;&gt;8</title>\n",
       "<path fill=\"none\" stroke=\"#000000\" d=\"M101.814,-149.6223C104.838,-142.7497 109.4527,-132.2618 113.3476,-123.4097\"/>\n",
       "<polygon fill=\"#000000\" stroke=\"#000000\" points=\"116.627,-124.647 117.4508,-114.0842 110.2198,-121.8277 116.627,-124.647\"/>\n",
       "</g>\n",
       "<!-- 3 -->\n",
       "<g id=\"node4\" class=\"node\">\n",
       "<title>3</title>\n",
       "<text text-anchor=\"middle\" x=\"19.5679\" y=\"-52.8\" font-family=\"Times,serif\" font-size=\"14.00\" fill=\"#000000\">&lt;JPV&gt;</text>\n",
       "</g>\n",
       "<!-- 2&#45;&gt;3 -->\n",
       "<g id=\"edge3\" class=\"edge\">\n",
       "<title>2&#45;&gt;3</title>\n",
       "<path fill=\"none\" stroke=\"#000000\" d=\"M68.1573,-99.6223C59.556,-92.0773 45.9876,-80.1752 35.3725,-70.8637\"/>\n",
       "<polygon fill=\"#000000\" stroke=\"#000000\" points=\"37.4695,-68.0474 27.6438,-64.0842 32.8534,-73.3098 37.4695,-68.0474\"/>\n",
       "</g>\n",
       "<!-- 5 -->\n",
       "<g id=\"node6\" class=\"node\">\n",
       "<title>5</title>\n",
       "<text text-anchor=\"middle\" x=\"76.5679\" y=\"-52.8\" font-family=\"Times,serif\" font-size=\"14.00\" fill=\"#000000\">&lt;JPV&gt;</text>\n",
       "</g>\n",
       "<!-- 2&#45;&gt;5 -->\n",
       "<g id=\"edge5\" class=\"edge\">\n",
       "<title>2&#45;&gt;5</title>\n",
       "<path fill=\"none\" stroke=\"#000000\" d=\"M76.5679,-99.6223C76.5679,-92.9738 76.5679,-82.942 76.5679,-74.2807\"/>\n",
       "<polygon fill=\"#000000\" stroke=\"#000000\" points=\"80.068,-74.0842 76.5679,-64.0842 73.068,-74.0842 80.068,-74.0842\"/>\n",
       "</g>\n",
       "<!-- 7 -->\n",
       "<g id=\"node8\" class=\"node\">\n",
       "<title>7</title>\n",
       "<text text-anchor=\"middle\" x=\"116.5679\" y=\"-52.8\" font-family=\"Times,serif\" font-size=\"14.00\" fill=\"#000000\">l</text>\n",
       "</g>\n",
       "<!-- 2&#45;&gt;7 -->\n",
       "<g id=\"edge7\" class=\"edge\">\n",
       "<title>2&#45;&gt;7</title>\n",
       "<path fill=\"none\" stroke=\"#000000\" d=\"M82.47,-99.6223C89.2503,-91.1469 100.429,-77.1736 108.1277,-67.5502\"/>\n",
       "<polygon fill=\"#000000\" stroke=\"#000000\" points=\"110.8607,-69.7367 114.3746,-59.7416 105.3946,-65.3638 110.8607,-69.7367\"/>\n",
       "</g>\n",
       "<!-- 4 -->\n",
       "<g id=\"node5\" class=\"node\">\n",
       "<title>4</title>\n",
       "<text text-anchor=\"middle\" x=\"19.5679\" y=\"-2.8\" font-family=\"Times,serif\" font-size=\"14.00\" fill=\"#000000\">rxx</text>\n",
       "</g>\n",
       "<!-- 3&#45;&gt;4 -->\n",
       "<g id=\"edge4\" class=\"edge\">\n",
       "<title>3&#45;&gt;4</title>\n",
       "<path fill=\"none\" stroke=\"#000000\" d=\"M19.5679,-49.6223C19.5679,-42.9738 19.5679,-32.942 19.5679,-24.2807\"/>\n",
       "<polygon fill=\"#000000\" stroke=\"#000000\" points=\"23.068,-24.0842 19.5679,-14.0842 16.068,-24.0842 23.068,-24.0842\"/>\n",
       "</g>\n",
       "<!-- 6 -->\n",
       "<g id=\"node7\" class=\"node\">\n",
       "<title>6</title>\n",
       "<text text-anchor=\"middle\" x=\"76.5679\" y=\"-2.8\" font-family=\"Times,serif\" font-size=\"14.00\" fill=\"#000000\">aq</text>\n",
       "</g>\n",
       "<!-- 5&#45;&gt;6 -->\n",
       "<g id=\"edge6\" class=\"edge\">\n",
       "<title>5&#45;&gt;6</title>\n",
       "<path fill=\"none\" stroke=\"#000000\" d=\"M76.5679,-49.6223C76.5679,-42.9738 76.5679,-32.942 76.5679,-24.2807\"/>\n",
       "<polygon fill=\"#000000\" stroke=\"#000000\" points=\"80.068,-24.0842 76.5679,-14.0842 73.068,-24.0842 80.068,-24.0842\"/>\n",
       "</g>\n",
       "</g>\n",
       "</svg>\n"
      ],
      "text/plain": [
       "<graphviz.dot.Digraph at 0x11cabd358>"
      ]
     },
     "metadata": {},
     "output_type": "display_data"
    }
   ],
   "source": [
    "for i in range(5):\n",
    "    my_grammar = make_grammar()\n",
    "    print(my_grammar)\n",
    "    parser = EarleyParser(my_grammar)\n",
    "    mygf = GrammarFuzzer(my_grammar)\n",
    "    s = mygf.fuzz()\n",
    "    print(s)\n",
    "    for tree in parser.parse(s):\n",
    "        assert tree_to_string(tree) == s\n",
    "        display_tree(tree)"
   ]
  },
  {
   "cell_type": "markdown",
   "metadata": {
    "slideshow": {
     "slide_type": "subslide"
    }
   },
   "source": [
    "With this, we have completed both implementation and testing of *arbitrary* CFG, which can now be used along with `LangFuzzer` to generate better fuzzing inputs."
   ]
  },
  {
   "cell_type": "markdown",
   "metadata": {
    "slideshow": {
     "slide_type": "subslide"
    }
   },
   "source": [
    "## Background\n",
    "\n",
    "\n",
    "Numerous parsing techniques exist that can parse a given string using a\n",
    "given grammar, and produce corresponding derivation tree or trees. However,\n",
    "some of these techniques work only on specific classes of grammars.\n",
    "These classes of grammars are named after the specific kind of parser\n",
    "that can accept grammars of that category. That is, the upper bound for\n",
    "the capabilities of the parser defines the grammar class named after that\n",
    "parser.\n",
    "\n",
    "The *LL* and *LR* parsing are the main traditions in parsing. Here, *LL* means left-to-right, leftmost derivation, and it represents a top-down approach. On the other hand, and LR (left-to-right, rightmost derivation) represents a bottom-up approach. Another way to look at it is that LL parsers compute the derivation tree incrementally in *pre-order* while LR parsers compute the derivation tree in *post-order* \\cite{pingali2015graphical}).\n",
    "\n",
    "Different classes of grammars differ in the features that are available to\n",
    "the user for writing a grammar of that class. That is, the corresponding\n",
    "kind of parser will be unable to parse a grammar that makes use of more\n",
    "features than allowed. For example, the `A2_GRAMMAR` is an *LL*\n",
    "grammar because it lacks left recursion, while `A1_GRAMMAR` is not an\n",
    "*LL* grammar. This is because an *LL* parser parses\n",
    "its input from left to right, and constructs the leftmost derivation of its\n",
    "input by expanding the nonterminals it encounters. If there is a left\n",
    "recursion in one of these rules, an *LL* parser will enter an infinite loop.\n",
    "\n",
    "Similarly, a grammar is LL(k) if it can be parsed by an LL parser with k lookahead token, and LR(k) grammar can only be parsed with LR parser with at least k lookahead tokens. These grammars are interesting because both LL(k) and LR(k) grammars have $O(n)$ parsers, and can be used with relatively restricted computational budget compared to other grammars.\n",
    "\n",
    "The languages for which one can provide an *LL(k)* grammar is called *LL(k)* languages (where k is the minimum lookahead required). Similarly, *LR(k)* is defined as the set of languages that have an *LR(k)* grammar. In terms of languages, LL(k) $\\subset$ LL(k+1) and LL(k) $\\subset$ LR(k), and *LR(k)* $=$ *LR(1)*. All deterministic *CFLs* have an *LR(1)* grammar. However, there exist *CFLs* that are inherently ambiguous \\cite{ogden1968helpful}, and for these, one can't provide an *LR(1)* grammar.\n",
    "\n",
    "The other main parsing algorithms for *CFGs* are GLL \\cite{scott2010gll}, GLR \\cite{tomita1987efficient,tomita2012generalized}, and CYK \\cite{grune2008parsing}.\n",
    "The ALL(\\*) (used by ANTLR) on the other hand is a grammar representation that uses *Regular Expression* like predicates (similar to advanced PEGs – see [Exercise](#Exercise-3:-PEG-Predicates)) rather than a fixed lookahead. Hence, ALL(\\*) can accept a larger class of grammars than CFGs.\n",
    "\n",
    "In terms of computational limits of parsing, the main CFG parsers have a complexity of $O(n^3)$ for arbitrary grammars. However, parsing with arbitrary *CFG* is reducible to boolean matrix multiplication \\cite{Valiant1975} (and the reverse \\cite{Lee2002}). This is at present bounded by $O(2^{23728639}$)  \\cite{LeGall2014}. Hence, worse case complexity for parsing arbitrary CFG is likely to remain close to cubic.\n",
    "\n",
    "Regarding PEGs, the actual class of languages that is expressible in *PEG* is currently unknown. In particular, we know that *PEGs* can express certain languages such as $a^n b^n c^n$. However, we do not know if there exist *CFLs* that are not expressible with *PEGs*. In Section 2.3, we provided an instance of a counter-intuitive PEG grammar. While important for our purposes (we use grammars for generation of inputs) this is not a criticism of parsing with PEGs. PEG focuses on writing grammars for recognizing a given language, and not necessarily in interpreting what language an arbitrary PEG might yield. Given a Context-Free Language to parse, it is almost always possible to write a grammar for it in PEG, and given that 1) a PEG can parse any string in $O(n)$ time, and 2) at present we know of no CFL that can't be expressed as a PEG, and 3) compared with *LR* grammars, a PEG is often more intuitive because it allows top-down interpretation, when writing a parser for a language, PEGs should be under serious consideration."
   ]
  },
  {
   "cell_type": "markdown",
   "metadata": {
    "button": false,
    "new_sheet": true,
    "run_control": {
     "read_only": false
    },
    "slideshow": {
     "slide_type": "subslide"
    }
   },
   "source": [
    "## Lessons Learned\n",
    "\n",
    "* Grammars can be used to generate derivation trees for a given string.\n",
    "* Parsing Expression Grammars are intuitive, and easy to implement, but require care to write.\n",
    "* Earley Parsers can parse arbitrary Context Free Grammars.\n"
   ]
  },
  {
   "cell_type": "markdown",
   "metadata": {
    "button": false,
    "new_sheet": false,
    "run_control": {
     "read_only": false
    },
    "slideshow": {
     "slide_type": "subslide"
    }
   },
   "source": [
    "## Next Steps\n",
    "\n",
    "* Use parsed inputs to [recombine existing inputs](LangFuzzer.ipynb)"
   ]
  },
  {
   "cell_type": "markdown",
   "metadata": {
    "button": false,
    "new_sheet": true,
    "run_control": {
     "read_only": false
    },
    "slideshow": {
     "slide_type": "skip"
    },
    "toc-hr-collapsed": false
   },
   "source": [
    "## Exercises"
   ]
  },
  {
   "cell_type": "markdown",
   "metadata": {
    "slideshow": {
     "slide_type": "skip"
    },
    "solution2": "hidden",
    "solution2_first": true
   },
   "source": [
    "### Exercise 1: An Alternative Packrat\n",
    "\n",
    "In the _Packrat_ parser, we showed how one could implement a simple _PEG_ parser. That parser kept track of the current location in the text using an index. Can you modify the parser so that it simply uses the current substring rather than tracking the index? That is, it should no longer have the `at` parameter."
   ]
  },
  {
   "cell_type": "markdown",
   "metadata": {
    "slideshow": {
     "slide_type": "subslide"
    },
    "solution2": "hidden",
    "solution2_first": true
   },
   "source": [
    "**Solution.**  Here is a possible solution:"
   ]
  },
  {
   "cell_type": "code",
   "execution_count": 139,
   "metadata": {
    "slideshow": {
     "slide_type": "subslide"
    },
    "solution2": "hidden"
   },
   "outputs": [],
   "source": [
    "class PackratParser(Parser):\n",
    "    def parse_prefix(self, text):\n",
    "        txt, res = self.unify_key(self.start_symbol(), text)\n",
    "        return len(txt), [res]\n",
    "\n",
    "    def parse(self, text):\n",
    "        remain, res = self.parse_prefix(text)\n",
    "        if remain:\n",
    "            raise SyntaxError(\"at \" + res)\n",
    "        return res\n",
    "\n",
    "    def unify_rule(self, rule, text):\n",
    "        results = []\n",
    "        for token in rule:\n",
    "            text, res = self.unify_key(token, text)\n",
    "            if res is None:\n",
    "                return text, None\n",
    "            results.append(res)\n",
    "        return text, results\n",
    "\n",
    "    def unify_key(self, key, text):\n",
    "        if key not in self.cgrammar:\n",
    "            if text.startswith(key):\n",
    "                return text[len(key):], (key, [])\n",
    "            else:\n",
    "                return text, None\n",
    "        for rule in self.cgrammar[key]:\n",
    "            text_, res = self.unify_rule(rule, text)\n",
    "            if res:\n",
    "                return (text_, (key, res))\n",
    "        return text, None"
   ]
  },
  {
   "cell_type": "code",
   "execution_count": 140,
   "metadata": {
    "button": false,
    "code_folding": [],
    "new_sheet": false,
    "run_control": {
     "read_only": false
    },
    "slideshow": {
     "slide_type": "subslide"
    },
    "solution2": "hidden"
   },
   "outputs": [
    {
     "data": {
      "image/svg+xml": [
       "<?xml version=\"1.0\" encoding=\"UTF-8\" standalone=\"no\"?>\n",
       "<!DOCTYPE svg PUBLIC \"-//W3C//DTD SVG 1.1//EN\"\n",
       " \"http://www.w3.org/Graphics/SVG/1.1/DTD/svg11.dtd\">\n",
       "<!-- Generated by graphviz version 2.40.1 (20161225.0304)\n",
       " -->\n",
       "<!-- Title: %3 Pages: 1 -->\n",
       "<svg width=\"201pt\" height=\"572pt\"\n",
       " viewBox=\"0.00 0.00 200.66 572.00\" xmlns=\"http://www.w3.org/2000/svg\" xmlns:xlink=\"http://www.w3.org/1999/xlink\">\n",
       "<g id=\"graph0\" class=\"graph\" transform=\"scale(1 1) rotate(0) translate(4 568)\">\n",
       "<title>%3</title>\n",
       "<polygon fill=\"#ffffff\" stroke=\"transparent\" points=\"-4,4 -4,-568 196.6602,-568 196.6602,4 -4,4\"/>\n",
       "<!-- 0 -->\n",
       "<g id=\"node1\" class=\"node\">\n",
       "<title>0</title>\n",
       "<text text-anchor=\"middle\" x=\"73.3301\" y=\"-552.8\" font-family=\"Times,serif\" font-size=\"14.00\" fill=\"#000000\">&lt;start&gt;</text>\n",
       "</g>\n",
       "<!-- 1 -->\n",
       "<g id=\"node2\" class=\"node\">\n",
       "<title>1</title>\n",
       "<text text-anchor=\"middle\" x=\"73.3301\" y=\"-502.8\" font-family=\"Times,serif\" font-size=\"14.00\" fill=\"#000000\">&lt;expr&gt;</text>\n",
       "</g>\n",
       "<!-- 0&#45;&gt;1 -->\n",
       "<g id=\"edge1\" class=\"edge\">\n",
       "<title>0&#45;&gt;1</title>\n",
       "<path fill=\"none\" stroke=\"#000000\" d=\"M73.3301,-549.6223C73.3301,-542.9738 73.3301,-532.942 73.3301,-524.2807\"/>\n",
       "<polygon fill=\"#000000\" stroke=\"#000000\" points=\"76.8302,-524.0842 73.3301,-514.0842 69.8302,-524.0842 76.8302,-524.0842\"/>\n",
       "</g>\n",
       "<!-- 2 -->\n",
       "<g id=\"node3\" class=\"node\">\n",
       "<title>2</title>\n",
       "<text text-anchor=\"middle\" x=\"27.3301\" y=\"-452.8\" font-family=\"Times,serif\" font-size=\"14.00\" fill=\"#000000\">&lt;term&gt;</text>\n",
       "</g>\n",
       "<!-- 1&#45;&gt;2 -->\n",
       "<g id=\"edge2\" class=\"edge\">\n",
       "<title>1&#45;&gt;2</title>\n",
       "<path fill=\"none\" stroke=\"#000000\" d=\"M66.5426,-499.6223C59.8074,-492.3014 49.2983,-480.8785 40.8542,-471.7001\"/>\n",
       "<polygon fill=\"#000000\" stroke=\"#000000\" points=\"43.1939,-469.0738 33.8475,-464.0842 38.0424,-473.8132 43.1939,-469.0738\"/>\n",
       "</g>\n",
       "<!-- 7 -->\n",
       "<g id=\"node8\" class=\"node\">\n",
       "<title>7</title>\n",
       "<text text-anchor=\"middle\" x=\"73.3301\" y=\"-452.8\" font-family=\"Times,serif\" font-size=\"14.00\" fill=\"#000000\"> + </text>\n",
       "</g>\n",
       "<!-- 1&#45;&gt;7 -->\n",
       "<g id=\"edge7\" class=\"edge\">\n",
       "<title>1&#45;&gt;7</title>\n",
       "<path fill=\"none\" stroke=\"#000000\" d=\"M73.3301,-499.6223C73.3301,-492.9738 73.3301,-482.942 73.3301,-474.2807\"/>\n",
       "<polygon fill=\"#000000\" stroke=\"#000000\" points=\"76.8302,-474.0842 73.3301,-464.0842 69.8302,-474.0842 76.8302,-474.0842\"/>\n",
       "</g>\n",
       "<!-- 8 -->\n",
       "<g id=\"node9\" class=\"node\">\n",
       "<title>8</title>\n",
       "<text text-anchor=\"middle\" x=\"119.3301\" y=\"-452.8\" font-family=\"Times,serif\" font-size=\"14.00\" fill=\"#000000\">&lt;expr&gt;</text>\n",
       "</g>\n",
       "<!-- 1&#45;&gt;8 -->\n",
       "<g id=\"edge8\" class=\"edge\">\n",
       "<title>1&#45;&gt;8</title>\n",
       "<path fill=\"none\" stroke=\"#000000\" d=\"M80.1175,-499.6223C86.8528,-492.3014 97.3619,-480.8785 105.806,-471.7001\"/>\n",
       "<polygon fill=\"#000000\" stroke=\"#000000\" points=\"108.6178,-473.8132 112.8126,-464.0842 103.4663,-469.0738 108.6178,-473.8132\"/>\n",
       "</g>\n",
       "<!-- 3 -->\n",
       "<g id=\"node4\" class=\"node\">\n",
       "<title>3</title>\n",
       "<text text-anchor=\"middle\" x=\"27.3301\" y=\"-402.8\" font-family=\"Times,serif\" font-size=\"14.00\" fill=\"#000000\">&lt;factor&gt;</text>\n",
       "</g>\n",
       "<!-- 2&#45;&gt;3 -->\n",
       "<g id=\"edge3\" class=\"edge\">\n",
       "<title>2&#45;&gt;3</title>\n",
       "<path fill=\"none\" stroke=\"#000000\" d=\"M27.3301,-449.6223C27.3301,-442.9738 27.3301,-432.942 27.3301,-424.2807\"/>\n",
       "<polygon fill=\"#000000\" stroke=\"#000000\" points=\"30.8302,-424.0842 27.3301,-414.0842 23.8302,-424.0842 30.8302,-424.0842\"/>\n",
       "</g>\n",
       "<!-- 4 -->\n",
       "<g id=\"node5\" class=\"node\">\n",
       "<title>4</title>\n",
       "<text text-anchor=\"middle\" x=\"27.3301\" y=\"-352.8\" font-family=\"Times,serif\" font-size=\"14.00\" fill=\"#000000\">&lt;integer&gt;</text>\n",
       "</g>\n",
       "<!-- 3&#45;&gt;4 -->\n",
       "<g id=\"edge4\" class=\"edge\">\n",
       "<title>3&#45;&gt;4</title>\n",
       "<path fill=\"none\" stroke=\"#000000\" d=\"M27.3301,-399.6223C27.3301,-392.9738 27.3301,-382.942 27.3301,-374.2807\"/>\n",
       "<polygon fill=\"#000000\" stroke=\"#000000\" points=\"30.8302,-374.0842 27.3301,-364.0842 23.8302,-374.0842 30.8302,-374.0842\"/>\n",
       "</g>\n",
       "<!-- 5 -->\n",
       "<g id=\"node6\" class=\"node\">\n",
       "<title>5</title>\n",
       "<text text-anchor=\"middle\" x=\"27.3301\" y=\"-302.8\" font-family=\"Times,serif\" font-size=\"14.00\" fill=\"#000000\">&lt;digit&gt;</text>\n",
       "</g>\n",
       "<!-- 4&#45;&gt;5 -->\n",
       "<g id=\"edge5\" class=\"edge\">\n",
       "<title>4&#45;&gt;5</title>\n",
       "<path fill=\"none\" stroke=\"#000000\" d=\"M27.3301,-349.6223C27.3301,-342.9738 27.3301,-332.942 27.3301,-324.2807\"/>\n",
       "<polygon fill=\"#000000\" stroke=\"#000000\" points=\"30.8302,-324.0842 27.3301,-314.0842 23.8302,-324.0842 30.8302,-324.0842\"/>\n",
       "</g>\n",
       "<!-- 6 -->\n",
       "<g id=\"node7\" class=\"node\">\n",
       "<title>6</title>\n",
       "<text text-anchor=\"middle\" x=\"27.3301\" y=\"-252.8\" font-family=\"Times,serif\" font-size=\"14.00\" fill=\"#000000\">1</text>\n",
       "</g>\n",
       "<!-- 5&#45;&gt;6 -->\n",
       "<g id=\"edge6\" class=\"edge\">\n",
       "<title>5&#45;&gt;6</title>\n",
       "<path fill=\"none\" stroke=\"#000000\" d=\"M27.3301,-299.6223C27.3301,-292.9738 27.3301,-282.942 27.3301,-274.2807\"/>\n",
       "<polygon fill=\"#000000\" stroke=\"#000000\" points=\"30.8302,-274.0842 27.3301,-264.0842 23.8302,-274.0842 30.8302,-274.0842\"/>\n",
       "</g>\n",
       "<!-- 9 -->\n",
       "<g id=\"node10\" class=\"node\">\n",
       "<title>9</title>\n",
       "<text text-anchor=\"middle\" x=\"119.3301\" y=\"-402.8\" font-family=\"Times,serif\" font-size=\"14.00\" fill=\"#000000\">&lt;term&gt;</text>\n",
       "</g>\n",
       "<!-- 8&#45;&gt;9 -->\n",
       "<g id=\"edge9\" class=\"edge\">\n",
       "<title>8&#45;&gt;9</title>\n",
       "<path fill=\"none\" stroke=\"#000000\" d=\"M119.3301,-449.6223C119.3301,-442.9738 119.3301,-432.942 119.3301,-424.2807\"/>\n",
       "<polygon fill=\"#000000\" stroke=\"#000000\" points=\"122.8302,-424.0842 119.3301,-414.0842 115.8302,-424.0842 122.8302,-424.0842\"/>\n",
       "</g>\n",
       "<!-- 10 -->\n",
       "<g id=\"node11\" class=\"node\">\n",
       "<title>10</title>\n",
       "<text text-anchor=\"middle\" x=\"119.3301\" y=\"-352.8\" font-family=\"Times,serif\" font-size=\"14.00\" fill=\"#000000\">&lt;factor&gt;</text>\n",
       "</g>\n",
       "<!-- 9&#45;&gt;10 -->\n",
       "<g id=\"edge10\" class=\"edge\">\n",
       "<title>9&#45;&gt;10</title>\n",
       "<path fill=\"none\" stroke=\"#000000\" d=\"M119.3301,-399.6223C119.3301,-392.9738 119.3301,-382.942 119.3301,-374.2807\"/>\n",
       "<polygon fill=\"#000000\" stroke=\"#000000\" points=\"122.8302,-374.0842 119.3301,-364.0842 115.8302,-374.0842 122.8302,-374.0842\"/>\n",
       "</g>\n",
       "<!-- 11 -->\n",
       "<g id=\"node12\" class=\"node\">\n",
       "<title>11</title>\n",
       "<text text-anchor=\"middle\" x=\"78.3301\" y=\"-302.8\" font-family=\"Times,serif\" font-size=\"14.00\" fill=\"#000000\">(</text>\n",
       "</g>\n",
       "<!-- 10&#45;&gt;11 -->\n",
       "<g id=\"edge11\" class=\"edge\">\n",
       "<title>10&#45;&gt;11</title>\n",
       "<path fill=\"none\" stroke=\"#000000\" d=\"M113.2804,-349.6223C106.3306,-341.1469 94.8725,-327.1736 86.9813,-317.5502\"/>\n",
       "<polygon fill=\"#000000\" stroke=\"#000000\" points=\"89.6254,-315.255 80.5782,-309.7416 84.2125,-319.6935 89.6254,-315.255\"/>\n",
       "</g>\n",
       "<!-- 12 -->\n",
       "<g id=\"node13\" class=\"node\">\n",
       "<title>12</title>\n",
       "<text text-anchor=\"middle\" x=\"119.3301\" y=\"-302.8\" font-family=\"Times,serif\" font-size=\"14.00\" fill=\"#000000\">&lt;expr&gt;</text>\n",
       "</g>\n",
       "<!-- 10&#45;&gt;12 -->\n",
       "<g id=\"edge12\" class=\"edge\">\n",
       "<title>10&#45;&gt;12</title>\n",
       "<path fill=\"none\" stroke=\"#000000\" d=\"M119.3301,-349.6223C119.3301,-342.9738 119.3301,-332.942 119.3301,-324.2807\"/>\n",
       "<polygon fill=\"#000000\" stroke=\"#000000\" points=\"122.8302,-324.0842 119.3301,-314.0842 115.8302,-324.0842 122.8302,-324.0842\"/>\n",
       "</g>\n",
       "<!-- 24 -->\n",
       "<g id=\"node25\" class=\"node\">\n",
       "<title>24</title>\n",
       "<text text-anchor=\"middle\" x=\"160.3301\" y=\"-302.8\" font-family=\"Times,serif\" font-size=\"14.00\" fill=\"#000000\">)</text>\n",
       "</g>\n",
       "<!-- 10&#45;&gt;24 -->\n",
       "<g id=\"edge24\" class=\"edge\">\n",
       "<title>10&#45;&gt;24</title>\n",
       "<path fill=\"none\" stroke=\"#000000\" d=\"M125.3798,-349.6223C132.3296,-341.1469 143.7877,-327.1736 151.6789,-317.5502\"/>\n",
       "<polygon fill=\"#000000\" stroke=\"#000000\" points=\"154.4476,-319.6935 158.082,-309.7416 149.0347,-315.255 154.4476,-319.6935\"/>\n",
       "</g>\n",
       "<!-- 13 -->\n",
       "<g id=\"node14\" class=\"node\">\n",
       "<title>13</title>\n",
       "<text text-anchor=\"middle\" x=\"119.3301\" y=\"-252.8\" font-family=\"Times,serif\" font-size=\"14.00\" fill=\"#000000\">&lt;term&gt;</text>\n",
       "</g>\n",
       "<!-- 12&#45;&gt;13 -->\n",
       "<g id=\"edge13\" class=\"edge\">\n",
       "<title>12&#45;&gt;13</title>\n",
       "<path fill=\"none\" stroke=\"#000000\" d=\"M119.3301,-299.6223C119.3301,-292.9738 119.3301,-282.942 119.3301,-274.2807\"/>\n",
       "<polygon fill=\"#000000\" stroke=\"#000000\" points=\"122.8302,-274.0842 119.3301,-264.0842 115.8302,-274.0842 122.8302,-274.0842\"/>\n",
       "</g>\n",
       "<!-- 14 -->\n",
       "<g id=\"node15\" class=\"node\">\n",
       "<title>14</title>\n",
       "<text text-anchor=\"middle\" x=\"70.3301\" y=\"-202.8\" font-family=\"Times,serif\" font-size=\"14.00\" fill=\"#000000\">&lt;factor&gt;</text>\n",
       "</g>\n",
       "<!-- 13&#45;&gt;14 -->\n",
       "<g id=\"edge14\" class=\"edge\">\n",
       "<title>13&#45;&gt;14</title>\n",
       "<path fill=\"none\" stroke=\"#000000\" d=\"M112.1,-249.6223C104.8523,-242.2267 93.5021,-230.6449 84.4616,-221.4199\"/>\n",
       "<polygon fill=\"#000000\" stroke=\"#000000\" points=\"86.7717,-218.7766 77.2726,-214.0842 81.7721,-223.6761 86.7717,-218.7766\"/>\n",
       "</g>\n",
       "<!-- 18 -->\n",
       "<g id=\"node19\" class=\"node\">\n",
       "<title>18</title>\n",
       "<text text-anchor=\"middle\" x=\"119.3301\" y=\"-202.8\" font-family=\"Times,serif\" font-size=\"14.00\" fill=\"#000000\"> * </text>\n",
       "</g>\n",
       "<!-- 13&#45;&gt;18 -->\n",
       "<g id=\"edge18\" class=\"edge\">\n",
       "<title>13&#45;&gt;18</title>\n",
       "<path fill=\"none\" stroke=\"#000000\" d=\"M119.3301,-249.6223C119.3301,-242.9738 119.3301,-232.942 119.3301,-224.2807\"/>\n",
       "<polygon fill=\"#000000\" stroke=\"#000000\" points=\"122.8302,-224.0842 119.3301,-214.0842 115.8302,-224.0842 122.8302,-224.0842\"/>\n",
       "</g>\n",
       "<!-- 19 -->\n",
       "<g id=\"node20\" class=\"node\">\n",
       "<title>19</title>\n",
       "<text text-anchor=\"middle\" x=\"165.3301\" y=\"-202.8\" font-family=\"Times,serif\" font-size=\"14.00\" fill=\"#000000\">&lt;term&gt;</text>\n",
       "</g>\n",
       "<!-- 13&#45;&gt;19 -->\n",
       "<g id=\"edge19\" class=\"edge\">\n",
       "<title>13&#45;&gt;19</title>\n",
       "<path fill=\"none\" stroke=\"#000000\" d=\"M126.1175,-249.6223C132.8528,-242.3014 143.3619,-230.8785 151.806,-221.7001\"/>\n",
       "<polygon fill=\"#000000\" stroke=\"#000000\" points=\"154.6178,-223.8132 158.8126,-214.0842 149.4663,-219.0738 154.6178,-223.8132\"/>\n",
       "</g>\n",
       "<!-- 15 -->\n",
       "<g id=\"node16\" class=\"node\">\n",
       "<title>15</title>\n",
       "<text text-anchor=\"middle\" x=\"70.3301\" y=\"-152.8\" font-family=\"Times,serif\" font-size=\"14.00\" fill=\"#000000\">&lt;integer&gt;</text>\n",
       "</g>\n",
       "<!-- 14&#45;&gt;15 -->\n",
       "<g id=\"edge15\" class=\"edge\">\n",
       "<title>14&#45;&gt;15</title>\n",
       "<path fill=\"none\" stroke=\"#000000\" d=\"M70.3301,-199.6223C70.3301,-192.9738 70.3301,-182.942 70.3301,-174.2807\"/>\n",
       "<polygon fill=\"#000000\" stroke=\"#000000\" points=\"73.8302,-174.0842 70.3301,-164.0842 66.8302,-174.0842 73.8302,-174.0842\"/>\n",
       "</g>\n",
       "<!-- 16 -->\n",
       "<g id=\"node17\" class=\"node\">\n",
       "<title>16</title>\n",
       "<text text-anchor=\"middle\" x=\"70.3301\" y=\"-102.8\" font-family=\"Times,serif\" font-size=\"14.00\" fill=\"#000000\">&lt;digit&gt;</text>\n",
       "</g>\n",
       "<!-- 15&#45;&gt;16 -->\n",
       "<g id=\"edge16\" class=\"edge\">\n",
       "<title>15&#45;&gt;16</title>\n",
       "<path fill=\"none\" stroke=\"#000000\" d=\"M70.3301,-149.6223C70.3301,-142.9738 70.3301,-132.942 70.3301,-124.2807\"/>\n",
       "<polygon fill=\"#000000\" stroke=\"#000000\" points=\"73.8302,-124.0842 70.3301,-114.0842 66.8302,-124.0842 73.8302,-124.0842\"/>\n",
       "</g>\n",
       "<!-- 17 -->\n",
       "<g id=\"node18\" class=\"node\">\n",
       "<title>17</title>\n",
       "<text text-anchor=\"middle\" x=\"70.3301\" y=\"-52.8\" font-family=\"Times,serif\" font-size=\"14.00\" fill=\"#000000\">2</text>\n",
       "</g>\n",
       "<!-- 16&#45;&gt;17 -->\n",
       "<g id=\"edge17\" class=\"edge\">\n",
       "<title>16&#45;&gt;17</title>\n",
       "<path fill=\"none\" stroke=\"#000000\" d=\"M70.3301,-99.6223C70.3301,-92.9738 70.3301,-82.942 70.3301,-74.2807\"/>\n",
       "<polygon fill=\"#000000\" stroke=\"#000000\" points=\"73.8302,-74.0842 70.3301,-64.0842 66.8302,-74.0842 73.8302,-74.0842\"/>\n",
       "</g>\n",
       "<!-- 20 -->\n",
       "<g id=\"node21\" class=\"node\">\n",
       "<title>20</title>\n",
       "<text text-anchor=\"middle\" x=\"165.3301\" y=\"-152.8\" font-family=\"Times,serif\" font-size=\"14.00\" fill=\"#000000\">&lt;factor&gt;</text>\n",
       "</g>\n",
       "<!-- 19&#45;&gt;20 -->\n",
       "<g id=\"edge20\" class=\"edge\">\n",
       "<title>19&#45;&gt;20</title>\n",
       "<path fill=\"none\" stroke=\"#000000\" d=\"M165.3301,-199.6223C165.3301,-192.9738 165.3301,-182.942 165.3301,-174.2807\"/>\n",
       "<polygon fill=\"#000000\" stroke=\"#000000\" points=\"168.8302,-174.0842 165.3301,-164.0842 161.8302,-174.0842 168.8302,-174.0842\"/>\n",
       "</g>\n",
       "<!-- 21 -->\n",
       "<g id=\"node22\" class=\"node\">\n",
       "<title>21</title>\n",
       "<text text-anchor=\"middle\" x=\"165.3301\" y=\"-102.8\" font-family=\"Times,serif\" font-size=\"14.00\" fill=\"#000000\">&lt;integer&gt;</text>\n",
       "</g>\n",
       "<!-- 20&#45;&gt;21 -->\n",
       "<g id=\"edge21\" class=\"edge\">\n",
       "<title>20&#45;&gt;21</title>\n",
       "<path fill=\"none\" stroke=\"#000000\" d=\"M165.3301,-149.6223C165.3301,-142.9738 165.3301,-132.942 165.3301,-124.2807\"/>\n",
       "<polygon fill=\"#000000\" stroke=\"#000000\" points=\"168.8302,-124.0842 165.3301,-114.0842 161.8302,-124.0842 168.8302,-124.0842\"/>\n",
       "</g>\n",
       "<!-- 22 -->\n",
       "<g id=\"node23\" class=\"node\">\n",
       "<title>22</title>\n",
       "<text text-anchor=\"middle\" x=\"165.3301\" y=\"-52.8\" font-family=\"Times,serif\" font-size=\"14.00\" fill=\"#000000\">&lt;digit&gt;</text>\n",
       "</g>\n",
       "<!-- 21&#45;&gt;22 -->\n",
       "<g id=\"edge22\" class=\"edge\">\n",
       "<title>21&#45;&gt;22</title>\n",
       "<path fill=\"none\" stroke=\"#000000\" d=\"M165.3301,-99.6223C165.3301,-92.9738 165.3301,-82.942 165.3301,-74.2807\"/>\n",
       "<polygon fill=\"#000000\" stroke=\"#000000\" points=\"168.8302,-74.0842 165.3301,-64.0842 161.8302,-74.0842 168.8302,-74.0842\"/>\n",
       "</g>\n",
       "<!-- 23 -->\n",
       "<g id=\"node24\" class=\"node\">\n",
       "<title>23</title>\n",
       "<text text-anchor=\"middle\" x=\"165.3301\" y=\"-2.8\" font-family=\"Times,serif\" font-size=\"14.00\" fill=\"#000000\">3</text>\n",
       "</g>\n",
       "<!-- 22&#45;&gt;23 -->\n",
       "<g id=\"edge23\" class=\"edge\">\n",
       "<title>22&#45;&gt;23</title>\n",
       "<path fill=\"none\" stroke=\"#000000\" d=\"M165.3301,-49.6223C165.3301,-42.9738 165.3301,-32.942 165.3301,-24.2807\"/>\n",
       "<polygon fill=\"#000000\" stroke=\"#000000\" points=\"168.8302,-24.0842 165.3301,-14.0842 161.8302,-24.0842 168.8302,-24.0842\"/>\n",
       "</g>\n",
       "</g>\n",
       "</svg>\n"
      ],
      "text/plain": [
       "<graphviz.dot.Digraph at 0x11cabdb00>"
      ]
     },
     "metadata": {},
     "output_type": "display_data"
    }
   ],
   "source": [
    "mystring = \"1 + (2 * 3)\"\n",
    "for tree in PackratParser(EXPR_GRAMMAR).parse(mystring):\n",
    "    assert tree_to_string(tree) == mystring\n",
    "    display_tree(tree)"
   ]
  },
  {
   "cell_type": "markdown",
   "metadata": {
    "button": false,
    "new_sheet": false,
    "run_control": {
     "read_only": false
    },
    "slideshow": {
     "slide_type": "skip"
    }
   },
   "source": [
    "### Exercise 2: More PEG Syntax\n",
    "\n",
    "The _PEG_ syntax provides a few notational conveniences reminiscent of regular expressions. For example, it supports the following operators (letters `T` and `A` represents tokens that can be either terminal or nonterminal. `ε` is an empty string, and `/` is the ordered choice operator similar to the non-ordered choice operator `|`):\n",
    "\n",
    "* `T?` represents an optional greedy match of T and `A := T?` is equivalent to `A := T/ε`.\n",
    "* `T*` represents zero or more greedy matches of `T` and `A := T*` is equivalent to `A := T A/ε`.\n",
    "* `T+` represents one or more greedy matches – equivalent to `TT*`\n",
    "\n",
    "If you look at the three notations above, each can be represented in the grammar in terms of basic syntax.\n",
    "Remember the exercise from [the chapter on grammars](Grammars.ipynb) that developed `define_ex_grammar()` that can represent grammars as Python code? extend `define_ex_grammar()` to `define_peg()` to support the above notational conveniences. The decorator should rewrite a given grammar that contains these notations to an equivalent grammar in basic syntax."
   ]
  },
  {
   "cell_type": "markdown",
   "metadata": {
    "button": false,
    "heading_collapsed": true,
    "new_sheet": false,
    "run_control": {
     "read_only": false
    },
    "slideshow": {
     "slide_type": "skip"
    },
    "solution": "hidden",
    "solution_first": true
   },
   "source": [
    "### Exercise 3: PEG Predicates\n",
    "\n",
    "Beyond these notational conveniences, it also supports two predicates that can provide a powerful lookahead facility that does not consume any input.\n",
    "\n",
    "* `T&A` represents an _And-predicate_ that matches `T` if `T` is matched, and it is immediately followed by `A`\n",
    "* `T!A` represents a _Not-predicate_ that matches `T` if `T` is matched, and it is *not* immediately followed by `A`\n",
    "\n",
    "Implement these predicates in our _PEG_ parser."
   ]
  },
  {
   "cell_type": "markdown",
   "metadata": {
    "button": false,
    "new_sheet": false,
    "run_control": {
     "read_only": false
    },
    "slideshow": {
     "slide_type": "skip"
    },
    "solution": "hidden",
    "solution2": "hidden",
    "solution2_first": true,
    "solution_first": true
   },
   "source": [
    "### Exercise 4: Earley Fill Chart\n",
    "\n",
    "In the `Earley Parser`, `Column` class, we keep the states both as a `list` and also as a `dict` even though `dict` is ordered. Can you explain why?\n",
    "\n",
    "**Hint**: see the `fill_chart` method."
   ]
  },
  {
   "cell_type": "markdown",
   "metadata": {
    "slideshow": {
     "slide_type": "subslide"
    },
    "solution2": "hidden"
   },
   "source": [
    "**Solution.** Python allows us to append to a list in flight, while a dict, eventhough it is ordered does not allow that facility.\n",
    "\n",
    "That is, the following will work\n",
    "\n",
    "```python\n",
    "values = [1]\n",
    "for v in values:\n",
    "   values.append(v*2)\n",
    "```\n",
    "\n",
    "However, the following will result in an error\n",
    "```python\n",
    "values = {1:1}\n",
    "for v in values:\n",
    "    values[v*2] = v*2\n",
    "```\n",
    "\n",
    "In the `fill_chart`, we make use of this facility to modify the set of states we are iterating on, on the fly."
   ]
  },
  {
   "cell_type": "markdown",
   "metadata": {
    "slideshow": {
     "slide_type": "skip"
    }
   },
   "source": [
    "### Exercise 5: Leo Parser\n",
    "\n",
    "One of the problems with the original Earley parser is that while it can parse strings using arbitrary _Context Free Gramamrs_, its performance on right-recursive grammars is quadratic. That is, it takes $O(n^2)$ runtime and space for parsing with right-recursive grammars. For example, consider the parsing of the following string by two different grammars `LR_GRAMMAR` and `RR_GRAMMAR`."
   ]
  },
  {
   "cell_type": "code",
   "execution_count": 141,
   "metadata": {
    "slideshow": {
     "slide_type": "fragment"
    }
   },
   "outputs": [],
   "source": [
    "mystring = 'aaaaaa'"
   ]
  },
  {
   "cell_type": "markdown",
   "metadata": {
    "slideshow": {
     "slide_type": "skip"
    }
   },
   "source": [
    "To see the problem, we need to enable logging. Here is the logged version of parsing with the `LR_GRAMMAR`"
   ]
  },
  {
   "cell_type": "code",
   "execution_count": 142,
   "metadata": {
    "slideshow": {
     "slide_type": "skip"
    }
   },
   "outputs": [
    {
     "name": "stdout",
     "output_type": "stream",
     "text": [
      "None chart[0]\n",
      "<A>:= |(0,0)\n",
      "<start>:= <A> |(0,0) \n",
      "\n",
      "a chart[1]\n",
      "<A>:= <A> a |(0,1)\n",
      "<start>:= <A> |(0,1) \n",
      "\n",
      "a chart[2]\n",
      "<A>:= <A> a |(0,2)\n",
      "<start>:= <A> |(0,2) \n",
      "\n",
      "a chart[3]\n",
      "<A>:= <A> a |(0,3)\n",
      "<start>:= <A> |(0,3) \n",
      "\n",
      "a chart[4]\n",
      "<A>:= <A> a |(0,4)\n",
      "<start>:= <A> |(0,4) \n",
      "\n",
      "a chart[5]\n",
      "<A>:= <A> a |(0,5)\n",
      "<start>:= <A> |(0,5) \n",
      "\n",
      "a chart[6]\n",
      "<A>:= <A> a |(0,6)\n",
      "<start>:= <A> |(0,6) \n",
      "\n"
     ]
    }
   ],
   "source": [
    "result = EarleyParser(LR_GRAMMAR, log=True).parse(mystring)"
   ]
  },
  {
   "cell_type": "markdown",
   "metadata": {
    "slideshow": {
     "slide_type": "subslide"
    }
   },
   "source": [
    "Compare that to the parsing of `RR_GRAMMAR` as seen below:"
   ]
  },
  {
   "cell_type": "code",
   "execution_count": 143,
   "metadata": {
    "slideshow": {
     "slide_type": "skip"
    }
   },
   "outputs": [
    {
     "name": "stdout",
     "output_type": "stream",
     "text": [
      "None chart[0]\n",
      "<A>:= |(0,0)\n",
      "<start>:= <A> |(0,0) \n",
      "\n",
      "a chart[1]\n",
      "<A>:= |(1,1)\n",
      "<A>:= a <A> |(0,1)\n",
      "<start>:= <A> |(0,1) \n",
      "\n",
      "a chart[2]\n",
      "<A>:= |(2,2)\n",
      "<A>:= a <A> |(1,2)\n",
      "<A>:= a <A> |(0,2)\n",
      "<start>:= <A> |(0,2) \n",
      "\n",
      "a chart[3]\n",
      "<A>:= |(3,3)\n",
      "<A>:= a <A> |(2,3)\n",
      "<A>:= a <A> |(1,3)\n",
      "<A>:= a <A> |(0,3)\n",
      "<start>:= <A> |(0,3) \n",
      "\n",
      "a chart[4]\n",
      "<A>:= |(4,4)\n",
      "<A>:= a <A> |(3,4)\n",
      "<A>:= a <A> |(2,4)\n",
      "<A>:= a <A> |(1,4)\n",
      "<A>:= a <A> |(0,4)\n",
      "<start>:= <A> |(0,4) \n",
      "\n",
      "a chart[5]\n",
      "<A>:= |(5,5)\n",
      "<A>:= a <A> |(4,5)\n",
      "<A>:= a <A> |(3,5)\n",
      "<A>:= a <A> |(2,5)\n",
      "<A>:= a <A> |(1,5)\n",
      "<A>:= a <A> |(0,5)\n",
      "<start>:= <A> |(0,5) \n",
      "\n",
      "a chart[6]\n",
      "<A>:= |(6,6)\n",
      "<A>:= a <A> |(5,6)\n",
      "<A>:= a <A> |(4,6)\n",
      "<A>:= a <A> |(3,6)\n",
      "<A>:= a <A> |(2,6)\n",
      "<A>:= a <A> |(1,6)\n",
      "<A>:= a <A> |(0,6)\n",
      "<start>:= <A> |(0,6) \n",
      "\n"
     ]
    }
   ],
   "source": [
    "result = EarleyParser(RR_GRAMMAR, log=True).parse(mystring)"
   ]
  },
  {
   "cell_type": "markdown",
   "metadata": {
    "slideshow": {
     "slide_type": "skip"
    }
   },
   "source": [
    "As can be seen from the parsing log for each letter, the number of states with representation `<A>: a <A> ● (i, j)` increases at each stage, and these are simply a left over from the previous letter. They do not contribute anything more to the parse other than to simply complete these entries. However, they take up space, and require resources for inspection, contributing a factor of `n` in analysis.\n",
    "\n",
    "Joop Leo \\cite{Leo1991} found that this inefficiency can be avoided by detecting right recursion. The idea is that before starting the `completion` step, check whether the current item has a _deterministic reduction path_. If such a path exists, add a copy of the topmost element of the _deteministic reduction path_ to the current column, and return. If not, perform the original `completion` step.\n",
    "\n",
    "\n",
    "**Definition 2.1**: An item is said to be on the deterministic reduction path above $[A \\rightarrow  \\gamma., i]$ if it is $[B \\rightarrow \\alpha A ., k]$ with $[B \\rightarrow \\alpha . A, k]$ being the only item in $ I_i $ with the dot in front of A, or if it is on the deterministic reduction path above $[B \\rightarrow \\alpha A ., k]$. An item on such a path is called *topmost* one if there is no item on the deterministic reduction path above it\\cite{Leo1991}."
   ]
  },
  {
   "cell_type": "markdown",
   "metadata": {
    "slideshow": {
     "slide_type": "subslide"
    }
   },
   "source": [
    "Finding a _deterministic reduction path_ is as follows:\n",
    "\n",
    "Given a complete state, represented by `<A> : seq_1 ● (s, e)` where `s` is the starting column for this rule, and `e` the current column, there is a _deterministic reduction path_ **above** it if two constraints are satisfied.\n",
    "\n",
    "1. There exist a *single* item in the form `<B> : seq_2 ● <A> (k, s)` in column `s`.\n",
    "2. That should be the *single* item in s with dot in front of `<A>`\n",
    "\n",
    "The resulting item is of the form `<B> : seq_2 <A> ● (k, e)`, which is simply item from (1) advanced, and is considered above `<A>:.. (s, e)` in the deterministic reduction path.\n",
    "The `seq_1` and `seq_2` are arbitrary symbol sequences.\n",
    "\n",
    "This forms the following chain of links, with `<A>:.. (s_1, e)` being the child of `<B>:.. (s_2, e)` etc."
   ]
  },
  {
   "cell_type": "markdown",
   "metadata": {
    "slideshow": {
     "slide_type": "subslide"
    }
   },
   "source": [
    "Here is one way to visualize the chain:\n",
    "```\n",
    "<C> : seq_3 <B> ● (s_3, e)  \n",
    "             |  constraints satisfied by <C> : seq_3 ● <B> (s_3, s_2)\n",
    "            <B> : seq_2 <A> ● (s_2, e)  \n",
    "                         | constraints satisfied by <B> : seq_2 ● <A> (s_2, s_1)\n",
    "                        <A> : seq_1 ● (s_1, e)\n",
    "```"
   ]
  },
  {
   "cell_type": "markdown",
   "metadata": {
    "slideshow": {
     "slide_type": "subslide"
    }
   },
   "source": [
    "Essentially, what we want to do is to identify potential deterministic right recursion candidates, perform completion on them, and *throw away the result*. We do this until we reach the top. See Grune et al.~\\cite{grune2008parsing} for further information."
   ]
  },
  {
   "cell_type": "markdown",
   "metadata": {
    "slideshow": {
     "slide_type": "subslide"
    }
   },
   "source": [
    "Note that the completions are in the same column (`e`), with each candidates with constraints satisfied \n",
    "in further and further earlier columns (as shown below):\n",
    "```\n",
    "<C> : seq_3 ● <B> (s_3, s_2)  -->              <C> : seq_3 <B> ● (s_3, e)\n",
    "               |\n",
    "              <B> : seq_2 ● <A> (s_2, s_1) --> <B> : seq_2 <A> ● (s_2, e)  \n",
    "                             |\n",
    "                            <A> : seq_1 ●                        (s_1, e)\n",
    "```"
   ]
  },
  {
   "cell_type": "markdown",
   "metadata": {
    "slideshow": {
     "slide_type": "subslide"
    }
   },
   "source": [
    "Following this chain, the topmost item is the item `<C>:.. (s_3, e)` that does not have a parent. The topmost item needs to be saved is called a *transitive* item by Leo, and it is associated with the non-terminal symbol that started the lookup. The transitive item needs to be added to each column we inspect."
   ]
  },
  {
   "cell_type": "markdown",
   "metadata": {
    "slideshow": {
     "slide_type": "fragment"
    }
   },
   "source": [
    "Here is the skeleton for the parser `LeoParser`."
   ]
  },
  {
   "cell_type": "code",
   "execution_count": 144,
   "metadata": {
    "slideshow": {
     "slide_type": "skip"
    }
   },
   "outputs": [],
   "source": [
    "class LeoParser(EarleyParser):\n",
    "    def complete(self, col, state):\n",
    "        return self.leo_complete(col, state)\n",
    "\n",
    "    def leo_complete(self, col, state):\n",
    "        detred = self.deterministic_reduction(state)\n",
    "        if detred:\n",
    "            col.add(detred.copy())\n",
    "        else:\n",
    "            self.earley_complete(col, state)\n",
    "\n",
    "    def deterministic_reduction(self, state):\n",
    "        raise NotImplemented()"
   ]
  },
  {
   "cell_type": "markdown",
   "metadata": {
    "slideshow": {
     "slide_type": "skip"
    },
    "solution2": "hidden",
    "solution2_first": true
   },
   "source": [
    "Can you implement the `deterministic_reduction()` method to obtain the topmost element?"
   ]
  },
  {
   "cell_type": "markdown",
   "metadata": {
    "slideshow": {
     "slide_type": "subslide"
    },
    "solution2": "hidden",
    "solution2_first": true
   },
   "source": [
    "**Solution.**  Here is a possible solution:"
   ]
  },
  {
   "cell_type": "markdown",
   "metadata": {
    "slideshow": {
     "slide_type": "skip"
    },
    "solution2": "hidden"
   },
   "source": [
    "First, we update our `Column` class with the ability to add transitive items. Note that, while Leo asks the transitive to be added to the set $ I_k $ there is no actual requirement for the transitive states to be added to the `states` list. The transitive items are only intended for memoization and not for the `fill_chart()` method. Hence, we track them separately."
   ]
  },
  {
   "cell_type": "code",
   "execution_count": 145,
   "metadata": {
    "slideshow": {
     "slide_type": "skip"
    },
    "solution2": "hidden"
   },
   "outputs": [],
   "source": [
    "class Column(Column):\n",
    "    def __init__(self, index, letter):\n",
    "        self.index, self.letter = index, letter\n",
    "        self.states, self._unique, self.transitives = [], {}, {}\n",
    "\n",
    "    def add_transitive(self, key, state):\n",
    "        assert key not in self.transitives\n",
    "        self.transitives[key] = state\n",
    "        return self.transitives[key]"
   ]
  },
  {
   "cell_type": "markdown",
   "metadata": {
    "slideshow": {
     "slide_type": "skip"
    },
    "solution2": "hidden"
   },
   "source": [
    "Remember the picture we drew of the deterministic path?\n",
    "```\n",
    "    <C> : seq_3 <B> ● (s_3, e)  \n",
    "                 |  constraints satisfied by <C> : seq_3 ● <B> (s_3, s_2)\n",
    "                <B> : seq_2 <A> ● (s_2, e)  \n",
    "                             | constraints satisfied by <B> : seq_2 ● <A> (s_2, s_1)\n",
    "                            <A> : seq_1 ● (s_1, e)\n",
    "```"
   ]
  },
  {
   "cell_type": "markdown",
   "metadata": {
    "slideshow": {
     "slide_type": "skip"
    },
    "solution2": "hidden"
   },
   "source": [
    "We define a function `uniq_postdot()` that given the item `<A> := seq_1 ● (s_1, e)`, returns a `<B> : seq_2 ● <A> (s_2, s_1)` that satisfies the constraints mentioned in the above picture."
   ]
  },
  {
   "cell_type": "code",
   "execution_count": 146,
   "metadata": {
    "slideshow": {
     "slide_type": "skip"
    },
    "solution2": "hidden"
   },
   "outputs": [],
   "source": [
    "class LeoParser(LeoParser):\n",
    "    def uniq_postdot(self, st_A):\n",
    "        col_s1 = st_A.s_col\n",
    "        parent_states = [\n",
    "            s for s in col_s1.states if s.expr and s.at_dot() == st_A.name\n",
    "        ]\n",
    "        if len(parent_states) > 1:\n",
    "            return None\n",
    "        matching_st_B = [s for s in parent_states if s.dot == len(s.expr) - 1]\n",
    "        return matching_st_B[0] if matching_st_B else None"
   ]
  },
  {
   "cell_type": "code",
   "execution_count": 147,
   "metadata": {
    "slideshow": {
     "slide_type": "skip"
    },
    "solution2": "hidden"
   },
   "outputs": [
    {
     "data": {
      "text/plain": [
       "[('<D>:= d |(3,4)', '<B>:= | <D>(3,3)'),\n",
       " ('<B>:= <D> |(3,4)', '<start>:= <A> | <B>(0,3)'),\n",
       " ('<start>:= <A> <B> |(0,4)', 'None')]"
      ]
     },
     "execution_count": 147,
     "metadata": {},
     "output_type": "execute_result"
    }
   ],
   "source": [
    "lp = LeoParser(RR_GRAMMAR)\n",
    "[(str(s), str(lp.uniq_postdot(s))) for s in columns[-1].states]"
   ]
  },
  {
   "cell_type": "markdown",
   "metadata": {
    "slideshow": {
     "slide_type": "skip"
    },
    "solution2": "hidden"
   },
   "source": [
    "We next define the function `get_top()` that is the core of deterministic reduction which gets the topmost state above the current state (`A`)."
   ]
  },
  {
   "cell_type": "code",
   "execution_count": 148,
   "metadata": {
    "slideshow": {
     "slide_type": "subslide"
    },
    "solution2": "hidden"
   },
   "outputs": [],
   "source": [
    "class LeoParser(LeoParser):\n",
    "    def get_top(self, state_A):\n",
    "        st_B_inc = self.uniq_postdot(state_A)\n",
    "        if not st_B_inc:\n",
    "            return None\n",
    "\n",
    "        t_name = st_B_inc.name\n",
    "        if t_name in st_B_inc.e_col.transitives:\n",
    "            return st_B_inc.e_col.transitives[t_name]\n",
    "\n",
    "        st_B = st_B_inc.advance()\n",
    "\n",
    "        top = self.get_top(st_B) or st_B\n",
    "        return st_B_inc.e_col.add_transitive(t_name, top)"
   ]
  },
  {
   "cell_type": "markdown",
   "metadata": {
    "slideshow": {
     "slide_type": "skip"
    },
    "solution2": "hidden"
   },
   "source": [
    "Once we have the machinery in place, `deterministic_reduction()` itself is simply a wrapper to call `get_top()`"
   ]
  },
  {
   "cell_type": "code",
   "execution_count": 149,
   "metadata": {
    "slideshow": {
     "slide_type": "skip"
    },
    "solution2": "hidden"
   },
   "outputs": [],
   "source": [
    "class LeoParser(LeoParser):\n",
    "    def deterministic_reduction(self, state):\n",
    "        return self.get_top(state)"
   ]
  },
  {
   "cell_type": "code",
   "execution_count": 150,
   "metadata": {
    "slideshow": {
     "slide_type": "skip"
    },
    "solution2": "hidden"
   },
   "outputs": [
    {
     "data": {
      "text/plain": [
       "[('<A>:= a | <A>(5,6)', '<start>:= <A> |(0,-1)'),\n",
       " ('<A>:= | a <A>(6,6)', '<start>:= <A> |(0,-1)'),\n",
       " ('<A>:= |(6,6)', '<start>:= <A> |(0,-1)'),\n",
       " ('<A>:= a <A> |(5,6)', '<start>:= <A> |(0,-1)'),\n",
       " ('<start>:= <A> |(0,6)', 'None')]"
      ]
     },
     "execution_count": 150,
     "metadata": {},
     "output_type": "execute_result"
    }
   ],
   "source": [
    "lp = LeoParser(RR_GRAMMAR)\n",
    "columns = lp.chart_parse(mystring, lp.start_symbol())\n",
    "[(str(s), str(lp.get_top(s))) for s in columns[-1].states]"
   ]
  },
  {
   "cell_type": "markdown",
   "metadata": {
    "slideshow": {
     "slide_type": "skip"
    },
    "solution2": "hidden"
   },
   "source": [
    "Now, both LR and RR grammars should work within $O(n)$ bounds."
   ]
  },
  {
   "cell_type": "code",
   "execution_count": 151,
   "metadata": {
    "slideshow": {
     "slide_type": "skip"
    },
    "solution2": "hidden"
   },
   "outputs": [
    {
     "name": "stdout",
     "output_type": "stream",
     "text": [
      "None chart[0]\n",
      "<A>:= |(0,0)\n",
      "<start>:= <A> |(0,0) \n",
      "\n",
      "a chart[1]\n",
      "<A>:= |(1,1)\n",
      "<A>:= a <A> |(0,1)\n",
      "<start>:= <A> |(0,1) \n",
      "\n",
      "a chart[2]\n",
      "<A>:= |(2,2)\n",
      "<A>:= a <A> |(1,2)\n",
      "<start>:= <A> |(0,2) \n",
      "\n",
      "a chart[3]\n",
      "<A>:= |(3,3)\n",
      "<A>:= a <A> |(2,3)\n",
      "<start>:= <A> |(0,3) \n",
      "\n",
      "a chart[4]\n",
      "<A>:= |(4,4)\n",
      "<A>:= a <A> |(3,4)\n",
      "<start>:= <A> |(0,4) \n",
      "\n",
      "a chart[5]\n",
      "<A>:= |(5,5)\n",
      "<A>:= a <A> |(4,5)\n",
      "<start>:= <A> |(0,5) \n",
      "\n",
      "a chart[6]\n",
      "<A>:= |(6,6)\n",
      "<A>:= a <A> |(5,6)\n",
      "<start>:= <A> |(0,6) \n",
      "\n"
     ]
    }
   ],
   "source": [
    "result = LeoParser(RR_GRAMMAR, log=True).parse(mystring)"
   ]
  },
  {
   "cell_type": "markdown",
   "metadata": {
    "slideshow": {
     "slide_type": "subslide"
    },
    "solution2": "hidden"
   },
   "source": [
    "We verify the Leo parser with a few more right recursive grammars."
   ]
  },
  {
   "cell_type": "code",
   "execution_count": 152,
   "metadata": {
    "slideshow": {
     "slide_type": "skip"
    },
    "solution2": "hidden"
   },
   "outputs": [],
   "source": [
    "RR_GRAMMAR2 = {\n",
    "    '<start>': ['<A>'],\n",
    "    '<A>': ['ab<A>', ''],\n",
    "}\n",
    "mystring2 = 'ababababab'"
   ]
  },
  {
   "cell_type": "code",
   "execution_count": 153,
   "metadata": {
    "slideshow": {
     "slide_type": "skip"
    },
    "solution2": "hidden"
   },
   "outputs": [
    {
     "name": "stdout",
     "output_type": "stream",
     "text": [
      "None chart[0]\n",
      "<A>:= |(0,0)\n",
      "<start>:= <A> |(0,0) \n",
      "\n",
      "a chart[1]\n",
      " \n",
      "\n",
      "b chart[2]\n",
      "<A>:= |(2,2)\n",
      "<A>:= a b <A> |(0,2)\n",
      "<start>:= <A> |(0,2) \n",
      "\n",
      "a chart[3]\n",
      " \n",
      "\n",
      "b chart[4]\n",
      "<A>:= |(4,4)\n",
      "<A>:= a b <A> |(2,4)\n",
      "<start>:= <A> |(0,4) \n",
      "\n",
      "a chart[5]\n",
      " \n",
      "\n",
      "b chart[6]\n",
      "<A>:= |(6,6)\n",
      "<A>:= a b <A> |(4,6)\n",
      "<start>:= <A> |(0,6) \n",
      "\n",
      "a chart[7]\n",
      " \n",
      "\n",
      "b chart[8]\n",
      "<A>:= |(8,8)\n",
      "<A>:= a b <A> |(6,8)\n",
      "<start>:= <A> |(0,8) \n",
      "\n",
      "a chart[9]\n",
      " \n",
      "\n",
      "b chart[10]\n",
      "<A>:= |(10,10)\n",
      "<A>:= a b <A> |(8,10)\n",
      "<start>:= <A> |(0,10) \n",
      "\n"
     ]
    }
   ],
   "source": [
    "result = LeoParser(RR_GRAMMAR2, log=True).parse(mystring2)"
   ]
  },
  {
   "cell_type": "code",
   "execution_count": 154,
   "metadata": {
    "slideshow": {
     "slide_type": "skip"
    },
    "solution2": "hidden"
   },
   "outputs": [],
   "source": [
    "RR_GRAMMAR3 = {\n",
    "    '<start>': ['c<A>'],\n",
    "    '<A>': ['ab<A>', ''],\n",
    "}\n",
    "mystring3 = 'cababababab'"
   ]
  },
  {
   "cell_type": "code",
   "execution_count": 155,
   "metadata": {
    "slideshow": {
     "slide_type": "skip"
    },
    "solution2": "hidden"
   },
   "outputs": [
    {
     "name": "stdout",
     "output_type": "stream",
     "text": [
      "None chart[0]\n",
      " \n",
      "\n",
      "c chart[1]\n",
      "<A>:= |(1,1)\n",
      "<start>:= c <A> |(0,1) \n",
      "\n",
      "a chart[2]\n",
      " \n",
      "\n",
      "b chart[3]\n",
      "<A>:= |(3,3)\n",
      "<A>:= a b <A> |(1,3)\n",
      "<start>:= c <A> |(0,3) \n",
      "\n",
      "a chart[4]\n",
      " \n",
      "\n",
      "b chart[5]\n",
      "<A>:= |(5,5)\n",
      "<A>:= a b <A> |(3,5)\n",
      "<start>:= c <A> |(0,5) \n",
      "\n",
      "a chart[6]\n",
      " \n",
      "\n",
      "b chart[7]\n",
      "<A>:= |(7,7)\n",
      "<A>:= a b <A> |(5,7)\n",
      "<start>:= c <A> |(0,7) \n",
      "\n",
      "a chart[8]\n",
      " \n",
      "\n",
      "b chart[9]\n",
      "<A>:= |(9,9)\n",
      "<A>:= a b <A> |(7,9)\n",
      "<start>:= c <A> |(0,9) \n",
      "\n",
      "a chart[10]\n",
      " \n",
      "\n",
      "b chart[11]\n",
      "<A>:= |(11,11)\n",
      "<A>:= a b <A> |(9,11)\n",
      "<start>:= c <A> |(0,11) \n",
      "\n"
     ]
    }
   ],
   "source": [
    "result = LeoParser(RR_GRAMMAR3, log=True).parse(mystring3)"
   ]
  },
  {
   "cell_type": "code",
   "execution_count": 156,
   "metadata": {
    "slideshow": {
     "slide_type": "skip"
    },
    "solution2": "hidden"
   },
   "outputs": [],
   "source": [
    "RR_GRAMMAR4 = {\n",
    "    '<start>': ['<A>c'],\n",
    "    '<A>': ['ab<A>', ''],\n",
    "}\n",
    "mystring4 = 'ababababc'"
   ]
  },
  {
   "cell_type": "code",
   "execution_count": 157,
   "metadata": {
    "slideshow": {
     "slide_type": "subslide"
    },
    "solution2": "hidden"
   },
   "outputs": [
    {
     "name": "stdout",
     "output_type": "stream",
     "text": [
      "None chart[0]\n",
      "<A>:= |(0,0) \n",
      "\n",
      "a chart[1]\n",
      " \n",
      "\n",
      "b chart[2]\n",
      "<A>:= |(2,2)\n",
      "<A>:= a b <A> |(0,2) \n",
      "\n",
      "a chart[3]\n",
      " \n",
      "\n",
      "b chart[4]\n",
      "<A>:= |(4,4)\n",
      "<A>:= a b <A> |(2,4)\n",
      "<A>:= a b <A> |(0,4) \n",
      "\n",
      "a chart[5]\n",
      " \n",
      "\n",
      "b chart[6]\n",
      "<A>:= |(6,6)\n",
      "<A>:= a b <A> |(4,6)\n",
      "<A>:= a b <A> |(0,6) \n",
      "\n",
      "a chart[7]\n",
      " \n",
      "\n",
      "b chart[8]\n",
      "<A>:= |(8,8)\n",
      "<A>:= a b <A> |(6,8)\n",
      "<A>:= a b <A> |(0,8) \n",
      "\n",
      "c chart[9]\n",
      "<start>:= <A> c |(0,9) \n",
      "\n"
     ]
    }
   ],
   "source": [
    "result = LeoParser(RR_GRAMMAR4, log=True).parse(mystring4)"
   ]
  },
  {
   "cell_type": "code",
   "execution_count": 158,
   "metadata": {
    "slideshow": {
     "slide_type": "skip"
    },
    "solution2": "hidden"
   },
   "outputs": [],
   "source": [
    "RR_GRAMMAR5 = {\n",
    "    '<start>': ['<A>'],\n",
    "    '<A>': ['ab<B>', ''],\n",
    "    '<B>': ['<A>'],\n",
    "}\n",
    "mystring5 = 'abababab'"
   ]
  },
  {
   "cell_type": "code",
   "execution_count": 159,
   "metadata": {
    "slideshow": {
     "slide_type": "skip"
    },
    "solution2": "hidden"
   },
   "outputs": [
    {
     "name": "stdout",
     "output_type": "stream",
     "text": [
      "None chart[0]\n",
      "<A>:= |(0,0)\n",
      "<start>:= <A> |(0,0) \n",
      "\n",
      "a chart[1]\n",
      " \n",
      "\n",
      "b chart[2]\n",
      "<A>:= a b <B> |(0,2)\n",
      "<A>:= |(2,2)\n",
      "<B>:= <A> |(2,2)\n",
      "<start>:= <A> |(0,2) \n",
      "\n",
      "a chart[3]\n",
      " \n",
      "\n",
      "b chart[4]\n",
      "<A>:= a b <B> |(2,4)\n",
      "<A>:= |(4,4)\n",
      "<B>:= <A> |(4,4)\n",
      "<start>:= <A> |(0,4) \n",
      "\n",
      "a chart[5]\n",
      " \n",
      "\n",
      "b chart[6]\n",
      "<A>:= a b <B> |(4,6)\n",
      "<A>:= |(6,6)\n",
      "<B>:= <A> |(6,6)\n",
      "<start>:= <A> |(0,6) \n",
      "\n",
      "a chart[7]\n",
      " \n",
      "\n",
      "b chart[8]\n",
      "<A>:= a b <B> |(6,8)\n",
      "<A>:= |(8,8)\n",
      "<B>:= <A> |(8,8)\n",
      "<start>:= <A> |(0,8) \n",
      "\n"
     ]
    }
   ],
   "source": [
    "result = LeoParser(RR_GRAMMAR5, log=True).parse(mystring5)"
   ]
  },
  {
   "cell_type": "code",
   "execution_count": 160,
   "metadata": {
    "slideshow": {
     "slide_type": "skip"
    },
    "solution2": "hidden"
   },
   "outputs": [],
   "source": [
    "RR_GRAMMAR6 = {\n",
    "    '<start>': ['<A>'],\n",
    "    '<A>': ['a<B>', ''],\n",
    "    '<B>': ['b<A>'],\n",
    "}\n",
    "mystring6 = 'abababab'"
   ]
  },
  {
   "cell_type": "code",
   "execution_count": 161,
   "metadata": {
    "slideshow": {
     "slide_type": "skip"
    },
    "solution2": "hidden"
   },
   "outputs": [
    {
     "name": "stdout",
     "output_type": "stream",
     "text": [
      "None chart[0]\n",
      "<A>:= |(0,0)\n",
      "<start>:= <A> |(0,0) \n",
      "\n",
      "a chart[1]\n",
      " \n",
      "\n",
      "b chart[2]\n",
      "<A>:= |(2,2)\n",
      "<B>:= b <A> |(1,2)\n",
      "<start>:= <A> |(0,2) \n",
      "\n",
      "a chart[3]\n",
      " \n",
      "\n",
      "b chart[4]\n",
      "<A>:= |(4,4)\n",
      "<B>:= b <A> |(3,4)\n",
      "<start>:= <A> |(0,4) \n",
      "\n",
      "a chart[5]\n",
      " \n",
      "\n",
      "b chart[6]\n",
      "<A>:= |(6,6)\n",
      "<B>:= b <A> |(5,6)\n",
      "<start>:= <A> |(0,6) \n",
      "\n",
      "a chart[7]\n",
      " \n",
      "\n",
      "b chart[8]\n",
      "<A>:= |(8,8)\n",
      "<B>:= b <A> |(7,8)\n",
      "<start>:= <A> |(0,8) \n",
      "\n"
     ]
    }
   ],
   "source": [
    "result = LeoParser(RR_GRAMMAR6, log=True).parse(mystring6)"
   ]
  },
  {
   "cell_type": "code",
   "execution_count": 162,
   "metadata": {
    "slideshow": {
     "slide_type": "skip"
    },
    "solution2": "hidden"
   },
   "outputs": [],
   "source": [
    "RR_GRAMMAR7 = {\n",
    "    '<start>': ['<A>'],\n",
    "    '<A>': ['a<A>', 'a'],\n",
    "}\n",
    "mystring7 = 'aaaaaaaa'"
   ]
  },
  {
   "cell_type": "code",
   "execution_count": 163,
   "metadata": {
    "slideshow": {
     "slide_type": "skip"
    },
    "solution2": "hidden"
   },
   "outputs": [
    {
     "name": "stdout",
     "output_type": "stream",
     "text": [
      "None chart[0]\n",
      " \n",
      "\n",
      "a chart[1]\n",
      "<A>:= a |(0,1)\n",
      "<start>:= <A> |(0,1) \n",
      "\n",
      "a chart[2]\n",
      "<A>:= a |(1,2)\n",
      "<start>:= <A> |(0,2) \n",
      "\n",
      "a chart[3]\n",
      "<A>:= a |(2,3)\n",
      "<start>:= <A> |(0,3) \n",
      "\n",
      "a chart[4]\n",
      "<A>:= a |(3,4)\n",
      "<start>:= <A> |(0,4) \n",
      "\n",
      "a chart[5]\n",
      "<A>:= a |(4,5)\n",
      "<start>:= <A> |(0,5) \n",
      "\n",
      "a chart[6]\n",
      "<A>:= a |(5,6)\n",
      "<start>:= <A> |(0,6) \n",
      "\n",
      "a chart[7]\n",
      "<A>:= a |(6,7)\n",
      "<start>:= <A> |(0,7) \n",
      "\n",
      "a chart[8]\n",
      "<A>:= a |(7,8)\n",
      "<start>:= <A> |(0,8) \n",
      "\n"
     ]
    }
   ],
   "source": [
    "result = LeoParser(RR_GRAMMAR7, log=True).parse(mystring7)"
   ]
  },
  {
   "cell_type": "markdown",
   "metadata": {
    "slideshow": {
     "slide_type": "skip"
    },
    "solution2": "hidden"
   },
   "source": [
    "We verify that our parser works correctly on `LR_GRAMMAR` too."
   ]
  },
  {
   "cell_type": "code",
   "execution_count": 164,
   "metadata": {
    "slideshow": {
     "slide_type": "subslide"
    },
    "solution2": "hidden"
   },
   "outputs": [
    {
     "name": "stdout",
     "output_type": "stream",
     "text": [
      "None chart[0]\n",
      "<A>:= |(0,0)\n",
      "<start>:= <A> |(0,0) \n",
      "\n",
      "a chart[1]\n",
      "<A>:= <A> a |(0,1)\n",
      "<start>:= <A> |(0,1) \n",
      "\n",
      "a chart[2]\n",
      "<A>:= <A> a |(0,2)\n",
      "<start>:= <A> |(0,2) \n",
      "\n",
      "a chart[3]\n",
      "<A>:= <A> a |(0,3)\n",
      "<start>:= <A> |(0,3) \n",
      "\n",
      "a chart[4]\n",
      "<A>:= <A> a |(0,4)\n",
      "<start>:= <A> |(0,4) \n",
      "\n",
      "a chart[5]\n",
      "<A>:= <A> a |(0,5)\n",
      "<start>:= <A> |(0,5) \n",
      "\n",
      "a chart[6]\n",
      "<A>:= <A> a |(0,6)\n",
      "<start>:= <A> |(0,6) \n",
      "\n",
      "aaaaaa\n"
     ]
    }
   ],
   "source": [
    "result = LeoParser(LR_GRAMMAR, log=True).parse(mystring)\n",
    "for tree in result:\n",
    "    print(tree_to_string(tree))"
   ]
  },
  {
   "cell_type": "markdown",
   "metadata": {
    "slideshow": {
     "slide_type": "skip"
    },
    "solution2": "hidden",
    "solution2_first": true
   },
   "source": [
    "__Advanced:__ We have fixed the complexity bounds. However, because we are saving only the topmost item of a right recursion, we need to fix our parser to be aware of our fix while extracting parse trees. Can you fix it?\n",
    "\n",
    "__Hint:__ Leo suggests simply transforming the Leo item sets to normal Earley sets, with the results from deterministic reduction expanded to their originals. For that, keep in mind the picture of constraint chain we drew earlier."
   ]
  },
  {
   "cell_type": "markdown",
   "metadata": {
    "slideshow": {
     "slide_type": "skip"
    },
    "solution2": "hidden",
    "solution2_first": true
   },
   "source": [
    "**Solution.** Here is a possible solution."
   ]
  },
  {
   "cell_type": "markdown",
   "metadata": {
    "slideshow": {
     "slide_type": "skip"
    },
    "solution2": "hidden"
   },
   "source": [
    "We first change the definition of `add_transitive()` so that results of deterministic reduction can be identified later."
   ]
  },
  {
   "cell_type": "code",
   "execution_count": 165,
   "metadata": {
    "slideshow": {
     "slide_type": "skip"
    },
    "solution2": "hidden"
   },
   "outputs": [],
   "source": [
    "class Column(Column):\n",
    "    def add_transitive(self, key, state):\n",
    "        assert key not in self.transitives\n",
    "        self.transitives[key] = TState(state.name, state.expr, state.dot,\n",
    "                                       state.s_col, state.e_col)\n",
    "        return self.transitives[key]"
   ]
  },
  {
   "cell_type": "code",
   "execution_count": 166,
   "metadata": {
    "slideshow": {
     "slide_type": "skip"
    },
    "solution2": "hidden"
   },
   "outputs": [],
   "source": [
    "class TState(State):\n",
    "    def copy(self):\n",
    "        return TState(self.name, self.expr, self.dot, self.s_col, self.e_col)"
   ]
  },
  {
   "cell_type": "markdown",
   "metadata": {
    "slideshow": {
     "slide_type": "skip"
    },
    "solution2": "hidden"
   },
   "source": [
    "We define a method `traverse_constraints()` that, given the name of the state corresponding to a constraint, the starting column, ending column, and the reversed table, obtains the state corresponding to the constraint, updates the ending column with the completed item corresponding to the constraint, and fetches the next constraint in the chain (reproduced below)."
   ]
  },
  {
   "cell_type": "markdown",
   "metadata": {
    "slideshow": {
     "slide_type": "skip"
    },
    "solution2": "hidden"
   },
   "source": [
    "Note that given the completed item ` <C> : seq_3 <B> ● (s_3, e)` we really have no way to constrain what should be `<A>` in `<B> : seq_2 ● <A> (s_2, s_1)`. While going in the other direction, where we were doing reduction, we had the constraint that there was only one item with dot before `<A>`. However, when expanding, there seems to be no constraint that `<B>` should have only one expansion at column `s_2` with only one symbol left to parse. We assume that there is only a single candidate based on the reasoning that a deterministic reduction cannot stand in for multiple expansions.\n",
    "```\n",
    "<C> : seq_3 ● <B> (s_3, s_2)  -->              <C> : seq_3 <B> ● (s_3, e)\n",
    "               |\n",
    "              <B> : seq_2 ● <A> (s_2, s_1) --> <B> : seq_2 <A> ● (s_2, e)  \n",
    "                             |\n",
    "                            <A> : seq_1 ●                        (s_1, e)\n",
    "```"
   ]
  },
  {
   "cell_type": "code",
   "execution_count": 167,
   "metadata": {
    "slideshow": {
     "slide_type": "skip"
    },
    "solution2": "hidden"
   },
   "outputs": [],
   "source": [
    "class LeoParser(LeoParser):\n",
    "    def traverse_constraints(self, st_C_name, s_3, e, r_table):\n",
    "        candidates = [\n",
    "            s for s in r_table[s_3].states if s.name == st_C_name\n",
    "            and s.dot == len(s.expr) - 1 and s.e_col.index <= e.index\n",
    "            and s.at_dot() in self.cgrammar\n",
    "        ]\n",
    "        if not candidates:\n",
    "            return\n",
    "        c_C, *empty = candidates\n",
    "        assert empty == []\n",
    "        e.add(c_C.advance())\n",
    "        self.traverse_constraints(c_C.at_dot(), c_C.e_col.index, e, r_table)"
   ]
  },
  {
   "cell_type": "markdown",
   "metadata": {
    "slideshow": {
     "slide_type": "fragment"
    },
    "solution2": "hidden"
   },
   "source": [
    "We define a `rearrange()` method to generate a reversed table where each column contains states that start at that column."
   ]
  },
  {
   "cell_type": "code",
   "execution_count": 168,
   "metadata": {
    "code_folding": [],
    "slideshow": {
     "slide_type": "subslide"
    },
    "solution2": "hidden"
   },
   "outputs": [],
   "source": [
    "class LeoParser(LeoParser):\n",
    "    def rearrange(self, table):\n",
    "        f_table = [Column(c.index, c.letter) for c in table]\n",
    "        for col in table:\n",
    "            for s in col.states:\n",
    "                f_table[s.s_col.index].states.append(s)\n",
    "        return f_table"
   ]
  },
  {
   "cell_type": "markdown",
   "metadata": {
    "slideshow": {
     "slide_type": "skip"
    },
    "solution2": "hidden"
   },
   "source": [
    "Here is the rearranged table. (Can you explain why the Column 0 has a large number of `<start>` items?)"
   ]
  },
  {
   "cell_type": "code",
   "execution_count": 169,
   "metadata": {
    "slideshow": {
     "slide_type": "skip"
    },
    "solution2": "hidden"
   },
   "outputs": [
    {
     "name": "stdout",
     "output_type": "stream",
     "text": [
      "None chart[0]\n",
      "<A>:= |(0,0)\n",
      "<start>:= <A> |(0,0)\n",
      "<A>:= a <A> |(0,1)\n",
      "<start>:= <A> |(0,1)\n",
      "<start>:= <A> |(0,2)\n",
      "<start>:= <A> |(0,3)\n",
      "<start>:= <A> |(0,4)\n",
      "<start>:= <A> |(0,5)\n",
      "<start>:= <A> |(0,6) \n",
      "\n",
      "a chart[1]\n",
      "<A>:= |(1,1)\n",
      "<A>:= a <A> |(1,2) \n",
      "\n",
      "a chart[2]\n",
      "<A>:= |(2,2)\n",
      "<A>:= a <A> |(2,3) \n",
      "\n",
      "a chart[3]\n",
      "<A>:= |(3,3)\n",
      "<A>:= a <A> |(3,4) \n",
      "\n",
      "a chart[4]\n",
      "<A>:= |(4,4)\n",
      "<A>:= a <A> |(4,5) \n",
      "\n",
      "a chart[5]\n",
      "<A>:= |(5,5)\n",
      "<A>:= a <A> |(5,6) \n",
      "\n",
      "a chart[6]\n",
      "<A>:= |(6,6) \n",
      "\n"
     ]
    }
   ],
   "source": [
    "ep = LeoParser(RR_GRAMMAR)\n",
    "columns = ep.chart_parse(mystring, ep.start_symbol())\n",
    "r_table = ep.rearrange(columns)\n",
    "for col in r_table:\n",
    "    print(col, \"\\n\")"
   ]
  },
  {
   "cell_type": "markdown",
   "metadata": {
    "slideshow": {
     "slide_type": "skip"
    },
    "solution2": "hidden"
   },
   "source": [
    "We save the result of rearrange before going into `parse_forest()`."
   ]
  },
  {
   "cell_type": "code",
   "execution_count": 170,
   "metadata": {
    "slideshow": {
     "slide_type": "subslide"
    },
    "solution2": "hidden"
   },
   "outputs": [],
   "source": [
    "class LeoParser(LeoParser):\n",
    "    def parse(self, text):\n",
    "        cursor, states = self.parse_prefix(text)\n",
    "        start = next((s for s in states if s.finished()), None)\n",
    "        if cursor < len(text) or not start:\n",
    "            raise SyntaxError(\"at \" + repr(text[cursor:]))\n",
    "\n",
    "        self.r_table = self.rearrange(self.table)\n",
    "        forest = self.extract_trees(self.parse_forest(self.table, start))\n",
    "        return [self.prune_tree(tree) for tree in forest]"
   ]
  },
  {
   "cell_type": "markdown",
   "metadata": {
    "slideshow": {
     "slide_type": "skip"
    },
    "solution2": "hidden"
   },
   "source": [
    "Finally, during `parse_forest()`, we first check to see if it is a transitive state, and if it is, expand it to the original sequence of states using `traverse_constraints()`."
   ]
  },
  {
   "cell_type": "code",
   "execution_count": 171,
   "metadata": {
    "slideshow": {
     "slide_type": "subslide"
    },
    "solution2": "hidden"
   },
   "outputs": [],
   "source": [
    "class LeoParser(LeoParser):\n",
    "    def parse_forest(self, chart, state):\n",
    "        if isinstance(state, TState):\n",
    "            self.traverse_constraints(state.name, state.s_col.index,\n",
    "                                      state.e_col, self.r_table)\n",
    "        return super().parse_forest(chart, state)"
   ]
  },
  {
   "cell_type": "markdown",
   "metadata": {
    "slideshow": {
     "slide_type": "skip"
    },
    "solution2": "hidden"
   },
   "source": [
    "This completes our implementation of `LeoParser`."
   ]
  },
  {
   "cell_type": "markdown",
   "metadata": {
    "slideshow": {
     "slide_type": "skip"
    },
    "solution2": "hidden"
   },
   "source": [
    "We check whether the previously defined right recursive grammars parse and return the correct parse trees."
   ]
  },
  {
   "cell_type": "code",
   "execution_count": 172,
   "metadata": {
    "slideshow": {
     "slide_type": "skip"
    },
    "solution2": "hidden"
   },
   "outputs": [],
   "source": [
    "result = LeoParser(RR_GRAMMAR).parse(mystring)\n",
    "for tree in result:\n",
    "    assert mystring == tree_to_string(tree)"
   ]
  },
  {
   "cell_type": "code",
   "execution_count": 173,
   "metadata": {
    "slideshow": {
     "slide_type": "skip"
    },
    "solution2": "hidden"
   },
   "outputs": [],
   "source": [
    "result = LeoParser(RR_GRAMMAR2).parse(mystring2)\n",
    "for tree in result:\n",
    "    assert mystring2 == tree_to_string(tree)"
   ]
  },
  {
   "cell_type": "code",
   "execution_count": 174,
   "metadata": {
    "slideshow": {
     "slide_type": "skip"
    },
    "solution2": "hidden"
   },
   "outputs": [],
   "source": [
    "result = LeoParser(RR_GRAMMAR3).parse(mystring3)\n",
    "for tree in result:\n",
    "    assert mystring3 == tree_to_string(tree)"
   ]
  },
  {
   "cell_type": "code",
   "execution_count": 175,
   "metadata": {
    "slideshow": {
     "slide_type": "skip"
    },
    "solution2": "hidden"
   },
   "outputs": [],
   "source": [
    "result = LeoParser(RR_GRAMMAR4).parse(mystring4)\n",
    "for tree in result:\n",
    "    assert mystring4 == tree_to_string(tree)"
   ]
  },
  {
   "cell_type": "code",
   "execution_count": 176,
   "metadata": {
    "slideshow": {
     "slide_type": "skip"
    },
    "solution2": "hidden"
   },
   "outputs": [],
   "source": [
    "result = LeoParser(RR_GRAMMAR5).parse(mystring5)\n",
    "for tree in result:\n",
    "    assert mystring5 == tree_to_string(tree)"
   ]
  },
  {
   "cell_type": "code",
   "execution_count": 177,
   "metadata": {
    "slideshow": {
     "slide_type": "skip"
    },
    "solution2": "hidden"
   },
   "outputs": [],
   "source": [
    "result = LeoParser(RR_GRAMMAR6).parse(mystring6)\n",
    "for tree in result:\n",
    "    assert mystring6 == tree_to_string(tree)"
   ]
  },
  {
   "cell_type": "code",
   "execution_count": 178,
   "metadata": {
    "slideshow": {
     "slide_type": "skip"
    },
    "solution2": "hidden"
   },
   "outputs": [],
   "source": [
    "result = LeoParser(RR_GRAMMAR7).parse(mystring7)\n",
    "for tree in result:\n",
    "    assert mystring7 == tree_to_string(tree)"
   ]
  },
  {
   "cell_type": "code",
   "execution_count": 179,
   "metadata": {
    "slideshow": {
     "slide_type": "skip"
    },
    "solution2": "hidden"
   },
   "outputs": [],
   "source": [
    "result = LeoParser(LR_GRAMMAR).parse(mystring)\n",
    "for tree in result:\n",
    "    assert mystring == tree_to_string(tree)"
   ]
  },
  {
   "cell_type": "markdown",
   "metadata": {
    "slideshow": {
     "slide_type": "skip"
    },
    "solution2": "hidden",
    "solution2_first": true
   },
   "source": [
    "### Exercise 6: First Set of a Nonterminal\n",
    "\n",
    "We previously gave a way to extract a the `nullable` (epsilon) set, which is often used for parsing.\n",
    "Along with `nullable`, parsing algorithms often use two other sets [`first` and `follow`](https://en.wikipedia.org/wiki/Canonical_LR_parser#FIRST_and_FOLLOW_sets).\n",
    "The first set of a terminal symbol is itself, and the first set of a nonterminal is composed of terminal symbols that can come at the beginning of any derivation\n",
    "of that nonterminal. The first set of any nonterminal that can derive the empty string should contain `EPSILON`. For example, using our `A1_GRAMMAR`, the first set of both `<expr>` and `<start>` is `{0,1,2,3,4,5,6,7,8,9}`. The extraction first set for any self-recursive nonterminal is simple enough. One simply has to recursively compute the first set of the first element of its choice expressions. The computation of `first` set for a self-recursive nonterminal is tricky. One has to recursively compute the first set until one is sure that no more terminals can be added to the first set.\n",
    "\n",
    "Can you implement the `first` set using our `fixpoint()` decorator?"
   ]
  },
  {
   "cell_type": "markdown",
   "metadata": {
    "slideshow": {
     "slide_type": "subslide"
    },
    "solution2": "hidden"
   },
   "source": [
    "**Solution.** The first set of all terminals is the set containing just themselves. So we initialize that first. Then we update the first set with rules that derive empty strings."
   ]
  },
  {
   "cell_type": "code",
   "execution_count": 180,
   "metadata": {
    "slideshow": {
     "slide_type": "fragment"
    },
    "solution2": "hidden"
   },
   "outputs": [],
   "source": [
    "def firstset(grammar, nullable):\n",
    "    first = {i: {i} for i in terminals(grammar)}\n",
    "    for k in grammar:\n",
    "        first[k] = {EPSILON} if k in nullable else set()\n",
    "    return firstset_((rules(grammar), first, nullable))[1]"
   ]
  },
  {
   "cell_type": "markdown",
   "metadata": {
    "slideshow": {
     "slide_type": "fragment"
    },
    "solution2": "hidden"
   },
   "source": [
    "Finally, we rely on the `fixpoint` to update the first set with the contents of the current first set until the first set stops changing."
   ]
  },
  {
   "cell_type": "code",
   "execution_count": 181,
   "metadata": {
    "slideshow": {
     "slide_type": "subslide"
    },
    "solution2": "hidden"
   },
   "outputs": [],
   "source": [
    "def first_expr(expr, first, nullable):\n",
    "    tokens = set()\n",
    "    for token in expr:\n",
    "        tokens |= first[token]\n",
    "        if token not in nullable:\n",
    "            break\n",
    "    return tokens"
   ]
  },
  {
   "cell_type": "code",
   "execution_count": 182,
   "metadata": {
    "slideshow": {
     "slide_type": "fragment"
    },
    "solution2": "hidden"
   },
   "outputs": [],
   "source": [
    "@fixpoint\n",
    "def firstset_(arg):\n",
    "    (rules, first, epsilon) = arg\n",
    "    for A, expression in rules:\n",
    "        first[A] |= first_expr(expression, first, epsilon)\n",
    "    return (rules, first, epsilon)"
   ]
  },
  {
   "cell_type": "code",
   "execution_count": 183,
   "metadata": {
    "slideshow": {
     "slide_type": "subslide"
    },
    "solution2": "hidden"
   },
   "outputs": [
    {
     "data": {
      "text/plain": [
       "{'7': {'7'},\n",
       " '8': {'8'},\n",
       " '+': {'+'},\n",
       " '2': {'2'},\n",
       " '-': {'-'},\n",
       " '3': {'3'},\n",
       " '0': {'0'},\n",
       " '9': {'9'},\n",
       " '5': {'5'},\n",
       " '6': {'6'},\n",
       " '4': {'4'},\n",
       " '1': {'1'},\n",
       " '<start>': {'0', '1', '2', '3', '4', '5', '6', '7', '8', '9'},\n",
       " '<expr>': {'0', '1', '2', '3', '4', '5', '6', '7', '8', '9'},\n",
       " '<integer>': {'0', '1', '2', '3', '4', '5', '6', '7', '8', '9'},\n",
       " '<digit>': {'0', '1', '2', '3', '4', '5', '6', '7', '8', '9'}}"
      ]
     },
     "execution_count": 183,
     "metadata": {},
     "output_type": "execute_result"
    }
   ],
   "source": [
    "firstset(canonical(A1_GRAMMAR), EPSILON)"
   ]
  },
  {
   "cell_type": "markdown",
   "metadata": {
    "slideshow": {
     "slide_type": "skip"
    },
    "solution2": "hidden",
    "solution2_first": true
   },
   "source": [
    "### Exercise 7: Follow Set of a Nonterminal\n",
    "\n",
    "The follow set definition is similar to the first set. The follow set of a nonterminal is the set of terminals that can occur just after that nonterminal is used in any derivation. The follow set of the start symbol is `EOF`, and the follow set of any nonterminal is the super set of first sets of all symbols that come after it in any choice expression.\n",
    "\n",
    "For example, the follow set of `<expr>` in `A1_GRAMMAR` is the set `{EOF, +, -}`.\n",
    "\n",
    "As in the previous exercise, implement the `followset()` using the `fixpoint()` decorator."
   ]
  },
  {
   "cell_type": "markdown",
   "metadata": {
    "slideshow": {
     "slide_type": "subslide"
    },
    "solution2": "hidden"
   },
   "source": [
    "**Solution.** The implementation of `followset()` is similar to `firstset()`. We first initialize the follow set with `EOF`, get the epsilon and first sets, and use the `fixpoint()` decorator to iteratively compute the follow set until nothing changes."
   ]
  },
  {
   "cell_type": "code",
   "execution_count": 184,
   "metadata": {
    "slideshow": {
     "slide_type": "fragment"
    },
    "solution2": "hidden"
   },
   "outputs": [],
   "source": [
    "EOF = '\\0'"
   ]
  },
  {
   "cell_type": "code",
   "execution_count": 185,
   "metadata": {
    "slideshow": {
     "slide_type": "fragment"
    },
    "solution2": "hidden"
   },
   "outputs": [],
   "source": [
    "def followset(grammar, start):\n",
    "    follow = {i: set() for i in grammar}\n",
    "    follow[start] = {EOF}\n",
    "\n",
    "    epsilon = nullable(grammar)\n",
    "    first = firstset(grammar, epsilon)\n",
    "    return followset_((grammar, epsilon, first, follow))[-1]"
   ]
  },
  {
   "cell_type": "markdown",
   "metadata": {
    "slideshow": {
     "slide_type": "fragment"
    },
    "solution2": "hidden"
   },
   "source": [
    "Given the current follow set, one can update the follow set as follows:"
   ]
  },
  {
   "cell_type": "code",
   "execution_count": 186,
   "metadata": {
    "slideshow": {
     "slide_type": "subslide"
    },
    "solution2": "hidden"
   },
   "outputs": [],
   "source": [
    "@fixpoint\n",
    "def followset_(arg):\n",
    "    grammar, epsilon, first, follow = arg\n",
    "    for A, expression in rules(grammar):\n",
    "        f_B = follow[A]\n",
    "        for t in reversed(expression):\n",
    "            if t in grammar:\n",
    "                follow[t] |= f_B\n",
    "            f_B = f_B | first[t] if t in epsilon else (first[t] - {EPSILON})\n",
    "\n",
    "    return (grammar, epsilon, first, follow)"
   ]
  },
  {
   "cell_type": "code",
   "execution_count": 187,
   "metadata": {
    "slideshow": {
     "slide_type": "subslide"
    },
    "solution2": "hidden"
   },
   "outputs": [
    {
     "data": {
      "text/plain": [
       "{'<start>': {'\\x00'},\n",
       " '<expr>': {'\\x00', '+', '-'},\n",
       " '<integer>': {'\\x00', '+', '-'},\n",
       " '<digit>': {'\\x00',\n",
       "  '+',\n",
       "  '-',\n",
       "  '0',\n",
       "  '1',\n",
       "  '2',\n",
       "  '3',\n",
       "  '4',\n",
       "  '5',\n",
       "  '6',\n",
       "  '7',\n",
       "  '8',\n",
       "  '9'}}"
      ]
     },
     "execution_count": 187,
     "metadata": {},
     "output_type": "execute_result"
    }
   ],
   "source": [
    "followset(canonical(A1_GRAMMAR), START_SYMBOL)"
   ]
  },
  {
   "cell_type": "markdown",
   "metadata": {
    "slideshow": {
     "slide_type": "skip"
    },
    "toc-hr-collapsed": true
   },
   "source": [
    "### Exercise 8: A LL(1) Parser\n",
    "\n",
    "As we mentioned previously, there exist other kinds of parsers that operate left-to-right with right most derivation (*LR(k)*) or left-to-right with left most derivation (*LL(k)*) with _k_ signifying the amount of lookahead the parser is permitted to use.\n",
    "\n",
    "What should one do with the lookahead? That lookahead can be used to determine which rule to apply. In the case of an *LL(1)* parser, the rule to apply is determined by looking at the _first_ set of the different rules. We previously implemented `first_expr()` that takes a an expression, the set of  `nullables`, and computes the first set of that rule.\n",
    "\n",
    "If a rule can derive an empty set, then that rule may also be applicable if of sees the `follow()` set of the corresponding nonterminal."
   ]
  },
  {
   "cell_type": "markdown",
   "metadata": {
    "slideshow": {
     "slide_type": "skip"
    }
   },
   "source": [
    "#### Part 1: A LL(1) Parsing Table\n",
    "\n",
    "The first part of this exercise is to implement the _parse table_ that describes what action to take for an *LL(1)* parser on seeing a terminal symbol on lookahead.  The table should be in the form of a _dictionary_ such that the keys represent the nonterminal symbol, and the value should contain another dictionary with keys as terminal symbols and the particular rule to continue parsing as the value.\n",
    "\n",
    "Let us illustrate this table with an example.  The `parse_table()` method populates a `self.table` data structure that should conform to the following requirements:"
   ]
  },
  {
   "cell_type": "code",
   "execution_count": 188,
   "metadata": {
    "slideshow": {
     "slide_type": "skip"
    }
   },
   "outputs": [],
   "source": [
    "class LL1Parser(Parser):\n",
    "    def parse_table(self):\n",
    "        self.my_rules = rules(self.cgrammar)\n",
    "        self.table = ...          # fill in here to produce\n",
    "\n",
    "    def rules(self):\n",
    "        for i, rule in enumerate(self.my_rules):\n",
    "            print(i, rule)\n",
    "\n",
    "    def show_table(self):\n",
    "        ts = list(sorted(terminals(self.cgrammar)))\n",
    "        print('Rule Name\\t| %s' % ' | '.join(t for t in ts))\n",
    "        for k in self.table:\n",
    "            pr = self.table[k]\n",
    "            actions = list(str(pr[t]) if t in pr else ' ' for t in ts)\n",
    "            print('%s  \\t| %s' % (k, ' | '.join(actions)))"
   ]
  },
  {
   "cell_type": "markdown",
   "metadata": {
    "slideshow": {
     "slide_type": "skip"
    }
   },
   "source": [
    "On invocation of `LL1Parser(A2_GRAMMAR).show_table()`\n",
    "It should result in the following table:"
   ]
  },
  {
   "cell_type": "code",
   "execution_count": 189,
   "metadata": {
    "slideshow": {
     "slide_type": "skip"
    }
   },
   "outputs": [
    {
     "name": "stdout",
     "output_type": "stream",
     "text": [
      "0\t <start> := ['<expr>']\n",
      "1\t <expr> := ['<integer>', '<expr_>']\n",
      "2\t <expr_> := ['+', '<expr>']\n",
      "3\t <expr_> := ['-', '<expr>']\n",
      "4\t <expr_> := []\n",
      "5\t <integer> := ['<digit>', '<integer_>']\n",
      "6\t <integer_> := ['<integer>']\n",
      "7\t <integer_> := []\n",
      "8\t <digit> := ['0']\n",
      "9\t <digit> := ['1']\n",
      "10\t <digit> := ['2']\n",
      "11\t <digit> := ['3']\n",
      "12\t <digit> := ['4']\n",
      "13\t <digit> := ['5']\n",
      "14\t <digit> := ['6']\n",
      "15\t <digit> := ['7']\n",
      "16\t <digit> := ['8']\n",
      "17\t <digit> := ['9']\n"
     ]
    }
   ],
   "source": [
    "for i, r in enumerate(rules(canonical(A2_GRAMMAR))):\n",
    "    print(\"%d\\t %s := %s\" % (i, r[0], r[1]))"
   ]
  },
  {
   "cell_type": "markdown",
   "metadata": {
    "slideshow": {
     "slide_type": "subslide"
    },
    "solution2": "hidden",
    "solution2_first": true
   },
   "source": [
    "|Rule Name  || + | - | 0 | 1 | 2 | 3 | 4 | 5 | 6 | 7 | 8 | 9|\n",
    "|-----------||---|---|---|---|---|---|---|---|---|---|---|--|\n",
    "|start  \t||   |   | 0 | 0 | 0 | 0 | 0 | 0 | 0 | 0 | 0 | 0|\n",
    "|expr   \t||   |   | 1 | 1 | 1 | 1 | 1 | 1 | 1 | 1 | 1 | 1|\n",
    "|expr_  \t|| 2 | 3 |   |   |   |   |   |   |   |   |   |  |\n",
    "|integer  \t||   |   | 5 | 5 | 5 | 5 | 5 | 5 | 5 | 5 | 5 | 5|\n",
    "|integer_  \t|| 7 | 7 | 6 | 6 | 6 | 6 | 6 | 6 | 6 | 6 | 6 | 6|\n",
    "|digit  \t||   |   | 8 | 9 |10 |11 |12 |13 |14 |15 |16 |17|"
   ]
  },
  {
   "cell_type": "markdown",
   "metadata": {
    "slideshow": {
     "slide_type": "subslide"
    },
    "solution2": "hidden"
   },
   "source": [
    "**Solution.** We define `predict()` as we explained before. Then we use the predicted rules to populate the parse table."
   ]
  },
  {
   "cell_type": "code",
   "execution_count": 190,
   "metadata": {
    "slideshow": {
     "slide_type": "subslide"
    },
    "solution2": "hidden"
   },
   "outputs": [],
   "source": [
    "class LL1Parser(LL1Parser):\n",
    "    def predict(self, rulepair, first, follow, epsilon):\n",
    "        A, rule = rulepair\n",
    "        rf = first_expr(rule, first, epsilon)\n",
    "        if nullable_expr(rule, epsilon):\n",
    "            rf |= follow[A]\n",
    "        return rf\n",
    "\n",
    "    def parse_table(self):\n",
    "        self.my_rules = rules(self.cgrammar)\n",
    "        epsilon = nullable(self.cgrammar)\n",
    "        first = firstset(self.cgrammar, epsilon)\n",
    "        # inefficient, can combine the three.\n",
    "        follow = followset(self.cgrammar, self.start_symbol())\n",
    "\n",
    "        ptable = [(i, self.predict(rule, first, follow, epsilon))\n",
    "                  for i, rule in enumerate(self.my_rules)]\n",
    "\n",
    "        parse_tbl = {k: {} for k in self.cgrammar}\n",
    "\n",
    "        for i, pvals in ptable:\n",
    "            (k, expr) = self.my_rules[i]\n",
    "            parse_tbl[k].update({v: i for v in pvals})\n",
    "\n",
    "        self.table = parse_tbl"
   ]
  },
  {
   "cell_type": "code",
   "execution_count": 191,
   "metadata": {
    "slideshow": {
     "slide_type": "subslide"
    },
    "solution2": "hidden"
   },
   "outputs": [
    {
     "name": "stdout",
     "output_type": "stream",
     "text": [
      "Rule Name\t| + | - | 0 | 1 | 2 | 3 | 4 | 5 | 6 | 7 | 8 | 9\n",
      "<start>  \t|   |   | 0 | 0 | 0 | 0 | 0 | 0 | 0 | 0 | 0 | 0\n",
      "<expr>  \t|   |   | 1 | 1 | 1 | 1 | 1 | 1 | 1 | 1 | 1 | 1\n",
      "<expr_>  \t| 2 | 3 |   |   |   |   |   |   |   |   |   |  \n",
      "<integer>  \t|   |   | 5 | 5 | 5 | 5 | 5 | 5 | 5 | 5 | 5 | 5\n",
      "<integer_>  \t| 7 | 7 | 6 | 6 | 6 | 6 | 6 | 6 | 6 | 6 | 6 | 6\n",
      "<digit>  \t|   |   | 8 | 9 | 10 | 11 | 12 | 13 | 14 | 15 | 16 | 17\n"
     ]
    }
   ],
   "source": [
    "ll1parser = LL1Parser(A2_GRAMMAR)\n",
    "ll1parser.parse_table()\n",
    "ll1parser.show_table()"
   ]
  },
  {
   "cell_type": "markdown",
   "metadata": {
    "slideshow": {
     "slide_type": "skip"
    },
    "solution2": "hidden",
    "solution2_first": true
   },
   "source": [
    "#### Part 2: The Parser\n",
    "\n",
    "Once we have the parse table, implementing the parser is as follows: Consider the first item from the sequence of tokens to parse, and seed the stack with the start symbol.\n",
    "\n",
    "While the stack is not empty, extract the first symbol from the stack, and if the symbol is a terminal, verify that the symbol matches the item from the input stream. If the symbol is a nonterminal, use the symbol and input item to lookup the next rule from the parse table. Insert the rule thus found to the top of the stack. Keep track of the expressions being parsed to build up the parse table.\n",
    "\n",
    "Use the parse table defined previously to implement the complete LL(1) parser."
   ]
  },
  {
   "cell_type": "markdown",
   "metadata": {
    "slideshow": {
     "slide_type": "subslide"
    },
    "solution2": "hidden",
    "solution2_first": true
   },
   "source": [
    "**Solution.** Here is the complete parser:"
   ]
  },
  {
   "cell_type": "code",
   "execution_count": 192,
   "metadata": {
    "slideshow": {
     "slide_type": "subslide"
    },
    "solution2": "hidden"
   },
   "outputs": [],
   "source": [
    "class LL1Parser(LL1Parser):\n",
    "    def parse_helper(self, stack, inplst):\n",
    "        inp, *inplst = inplst\n",
    "        exprs = []\n",
    "        while stack:\n",
    "            val, *stack = stack\n",
    "            if isinstance(val, tuple):\n",
    "                exprs.append(val)\n",
    "            elif val not in self.cgrammar:  # terminal\n",
    "                assert val == inp\n",
    "                exprs.append(val)\n",
    "                inp, *inplst = inplst or [None]\n",
    "            else:\n",
    "                if inp is not None:\n",
    "                    i = self.table[val][inp]\n",
    "                    _, rhs = self.my_rules[i]\n",
    "                    stack = rhs + [(val, len(rhs))] + stack\n",
    "        return self.linear_to_tree(exprs)\n",
    "\n",
    "    def parse(self, inp):\n",
    "        self.parse_table()\n",
    "        k, _ = self.my_rules[0]\n",
    "        stack = [k]\n",
    "        return self.parse_helper(stack, inp)\n",
    "\n",
    "    def linear_to_tree(self, arr):\n",
    "        stack = []\n",
    "        while arr:\n",
    "            elt = arr.pop(0)\n",
    "            if not isinstance(elt, tuple):\n",
    "                stack.append((elt, []))\n",
    "            else:\n",
    "                # get the last n\n",
    "                sym, n = elt\n",
    "                elts = stack[-n:] if n > 0 else []\n",
    "                stack = stack[0:len(stack) - n]\n",
    "                stack.append((sym, elts))\n",
    "        assert len(stack) == 1\n",
    "        return stack[0]"
   ]
  },
  {
   "cell_type": "code",
   "execution_count": 193,
   "metadata": {
    "slideshow": {
     "slide_type": "subslide"
    },
    "solution2": "hidden"
   },
   "outputs": [
    {
     "data": {
      "image/svg+xml": [
       "<?xml version=\"1.0\" encoding=\"UTF-8\" standalone=\"no\"?>\n",
       "<!DOCTYPE svg PUBLIC \"-//W3C//DTD SVG 1.1//EN\"\n",
       " \"http://www.w3.org/Graphics/SVG/1.1/DTD/svg11.dtd\">\n",
       "<!-- Generated by graphviz version 2.40.1 (20161225.0304)\n",
       " -->\n",
       "<!-- Title: %3 Pages: 1 -->\n",
       "<svg width=\"225pt\" height=\"322pt\"\n",
       " viewBox=\"0.00 0.00 225.46 322.00\" xmlns=\"http://www.w3.org/2000/svg\" xmlns:xlink=\"http://www.w3.org/1999/xlink\">\n",
       "<g id=\"graph0\" class=\"graph\" transform=\"scale(1 1) rotate(0) translate(4 318)\">\n",
       "<title>%3</title>\n",
       "<polygon fill=\"#ffffff\" stroke=\"transparent\" points=\"-4,4 -4,-318 221.46,-318 221.46,4 -4,4\"/>\n",
       "<!-- 0 -->\n",
       "<g id=\"node1\" class=\"node\">\n",
       "<title>0</title>\n",
       "<text text-anchor=\"middle\" x=\"121.73\" y=\"-302.8\" font-family=\"Times,serif\" font-size=\"14.00\" fill=\"#000000\">&lt;start&gt;</text>\n",
       "</g>\n",
       "<!-- 1 -->\n",
       "<g id=\"node2\" class=\"node\">\n",
       "<title>1</title>\n",
       "<text text-anchor=\"middle\" x=\"121.73\" y=\"-252.8\" font-family=\"Times,serif\" font-size=\"14.00\" fill=\"#000000\">&lt;expr&gt;</text>\n",
       "</g>\n",
       "<!-- 0&#45;&gt;1 -->\n",
       "<g id=\"edge1\" class=\"edge\">\n",
       "<title>0&#45;&gt;1</title>\n",
       "<path fill=\"none\" stroke=\"#000000\" d=\"M121.73,-299.6223C121.73,-292.9738 121.73,-282.942 121.73,-274.2807\"/>\n",
       "<polygon fill=\"#000000\" stroke=\"#000000\" points=\"125.2301,-274.0842 121.73,-264.0842 118.2301,-274.0842 125.2301,-274.0842\"/>\n",
       "</g>\n",
       "<!-- 2 -->\n",
       "<g id=\"node3\" class=\"node\">\n",
       "<title>2</title>\n",
       "<text text-anchor=\"middle\" x=\"121.73\" y=\"-202.8\" font-family=\"Times,serif\" font-size=\"14.00\" fill=\"#000000\">&lt;expr_&gt;</text>\n",
       "</g>\n",
       "<!-- 1&#45;&gt;2 -->\n",
       "<g id=\"edge2\" class=\"edge\">\n",
       "<title>1&#45;&gt;2</title>\n",
       "<path fill=\"none\" stroke=\"#000000\" d=\"M121.73,-249.6223C121.73,-242.9738 121.73,-232.942 121.73,-224.2807\"/>\n",
       "<polygon fill=\"#000000\" stroke=\"#000000\" points=\"125.2301,-224.0842 121.73,-214.0842 118.2301,-224.0842 125.2301,-224.0842\"/>\n",
       "</g>\n",
       "<!-- 3 -->\n",
       "<g id=\"node4\" class=\"node\">\n",
       "<title>3</title>\n",
       "<text text-anchor=\"middle\" x=\"121.73\" y=\"-152.8\" font-family=\"Times,serif\" font-size=\"14.00\" fill=\"#000000\">&lt;expr&gt;</text>\n",
       "</g>\n",
       "<!-- 2&#45;&gt;3 -->\n",
       "<g id=\"edge3\" class=\"edge\">\n",
       "<title>2&#45;&gt;3</title>\n",
       "<path fill=\"none\" stroke=\"#000000\" d=\"M121.73,-199.6223C121.73,-192.9738 121.73,-182.942 121.73,-174.2807\"/>\n",
       "<polygon fill=\"#000000\" stroke=\"#000000\" points=\"125.2301,-174.0842 121.73,-164.0842 118.2301,-174.0842 125.2301,-174.0842\"/>\n",
       "</g>\n",
       "<!-- 4 -->\n",
       "<g id=\"node5\" class=\"node\">\n",
       "<title>4</title>\n",
       "<text text-anchor=\"middle\" x=\"85.73\" y=\"-102.8\" font-family=\"Times,serif\" font-size=\"14.00\" fill=\"#000000\">&lt;integer&gt;</text>\n",
       "</g>\n",
       "<!-- 3&#45;&gt;4 -->\n",
       "<g id=\"edge4\" class=\"edge\">\n",
       "<title>3&#45;&gt;4</title>\n",
       "<path fill=\"none\" stroke=\"#000000\" d=\"M116.4181,-149.6223C111.2546,-142.4508 103.2569,-131.343 96.7207,-122.2648\"/>\n",
       "<polygon fill=\"#000000\" stroke=\"#000000\" points=\"99.5141,-120.1545 90.8306,-114.0842 93.8333,-124.2446 99.5141,-120.1545\"/>\n",
       "</g>\n",
       "<!-- 8 -->\n",
       "<g id=\"node9\" class=\"node\">\n",
       "<title>8</title>\n",
       "<text text-anchor=\"middle\" x=\"158.73\" y=\"-102.8\" font-family=\"Times,serif\" font-size=\"14.00\" fill=\"#000000\">&lt;integer&gt;</text>\n",
       "</g>\n",
       "<!-- 3&#45;&gt;8 -->\n",
       "<g id=\"edge8\" class=\"edge\">\n",
       "<title>3&#45;&gt;8</title>\n",
       "<path fill=\"none\" stroke=\"#000000\" d=\"M127.1895,-149.6223C132.4964,-142.4508 140.7162,-131.343 147.434,-122.2648\"/>\n",
       "<polygon fill=\"#000000\" stroke=\"#000000\" points=\"150.3527,-124.2046 153.4877,-114.0842 144.7258,-120.0407 150.3527,-124.2046\"/>\n",
       "</g>\n",
       "<!-- 5 -->\n",
       "<g id=\"node6\" class=\"node\">\n",
       "<title>5</title>\n",
       "<text text-anchor=\"middle\" x=\"20.73\" y=\"-52.8\" font-family=\"Times,serif\" font-size=\"14.00\" fill=\"#000000\">&lt;digit&gt;</text>\n",
       "</g>\n",
       "<!-- 4&#45;&gt;5 -->\n",
       "<g id=\"edge5\" class=\"edge\">\n",
       "<title>4&#45;&gt;5</title>\n",
       "<path fill=\"none\" stroke=\"#000000\" d=\"M76.4171,-99.8362C66.474,-92.1877 50.489,-79.8916 38.1904,-70.4311\"/>\n",
       "<polygon fill=\"#000000\" stroke=\"#000000\" points=\"40.0859,-67.4734 30.0256,-64.1505 35.8179,-73.0218 40.0859,-67.4734\"/>\n",
       "</g>\n",
       "<!-- 7 -->\n",
       "<g id=\"node8\" class=\"node\">\n",
       "<title>7</title>\n",
       "<text text-anchor=\"middle\" x=\"90.73\" y=\"-52.8\" font-family=\"Times,serif\" font-size=\"14.00\" fill=\"#000000\">&lt;integer_&gt;</text>\n",
       "</g>\n",
       "<!-- 4&#45;&gt;7 -->\n",
       "<g id=\"edge7\" class=\"edge\">\n",
       "<title>4&#45;&gt;7</title>\n",
       "<path fill=\"none\" stroke=\"#000000\" d=\"M86.4677,-99.6223C87.1326,-92.9738 88.1358,-82.942 89.0019,-74.2807\"/>\n",
       "<polygon fill=\"#000000\" stroke=\"#000000\" points=\"92.5091,-74.3829 90.0216,-64.0842 85.5438,-73.6863 92.5091,-74.3829\"/>\n",
       "</g>\n",
       "<!-- 6 -->\n",
       "<g id=\"node7\" class=\"node\">\n",
       "<title>6</title>\n",
       "<text text-anchor=\"middle\" x=\"20.73\" y=\"-2.8\" font-family=\"Times,serif\" font-size=\"14.00\" fill=\"#000000\">1</text>\n",
       "</g>\n",
       "<!-- 5&#45;&gt;6 -->\n",
       "<g id=\"edge6\" class=\"edge\">\n",
       "<title>5&#45;&gt;6</title>\n",
       "<path fill=\"none\" stroke=\"#000000\" d=\"M20.73,-49.6223C20.73,-42.9738 20.73,-32.942 20.73,-24.2807\"/>\n",
       "<polygon fill=\"#000000\" stroke=\"#000000\" points=\"24.2301,-24.0842 20.73,-14.0842 17.2301,-24.0842 24.2301,-24.0842\"/>\n",
       "</g>\n",
       "<!-- 9 -->\n",
       "<g id=\"node10\" class=\"node\">\n",
       "<title>9</title>\n",
       "<text text-anchor=\"middle\" x=\"153.73\" y=\"-52.8\" font-family=\"Times,serif\" font-size=\"14.00\" fill=\"#000000\">+</text>\n",
       "</g>\n",
       "<!-- 8&#45;&gt;9 -->\n",
       "<g id=\"edge9\" class=\"edge\">\n",
       "<title>8&#45;&gt;9</title>\n",
       "<path fill=\"none\" stroke=\"#000000\" d=\"M157.9922,-99.6223C157.3274,-92.9738 156.3242,-82.942 155.4581,-74.2807\"/>\n",
       "<polygon fill=\"#000000\" stroke=\"#000000\" points=\"158.9162,-73.6863 154.4384,-64.0842 151.9509,-74.3829 158.9162,-73.6863\"/>\n",
       "</g>\n",
       "<!-- 10 -->\n",
       "<g id=\"node11\" class=\"node\">\n",
       "<title>10</title>\n",
       "<text text-anchor=\"middle\" x=\"196.73\" y=\"-52.8\" font-family=\"Times,serif\" font-size=\"14.00\" fill=\"#000000\">&lt;digit&gt;</text>\n",
       "</g>\n",
       "<!-- 8&#45;&gt;10 -->\n",
       "<g id=\"edge10\" class=\"edge\">\n",
       "<title>8&#45;&gt;10</title>\n",
       "<path fill=\"none\" stroke=\"#000000\" d=\"M164.337,-99.6223C169.7873,-92.4508 178.2293,-81.343 185.1287,-72.2648\"/>\n",
       "<polygon fill=\"#000000\" stroke=\"#000000\" points=\"188.0817,-74.1636 191.346,-64.0842 182.5086,-69.928 188.0817,-74.1636\"/>\n",
       "</g>\n",
       "<!-- 11 -->\n",
       "<g id=\"node12\" class=\"node\">\n",
       "<title>11</title>\n",
       "<text text-anchor=\"middle\" x=\"196.73\" y=\"-2.8\" font-family=\"Times,serif\" font-size=\"14.00\" fill=\"#000000\">2</text>\n",
       "</g>\n",
       "<!-- 10&#45;&gt;11 -->\n",
       "<g id=\"edge11\" class=\"edge\">\n",
       "<title>10&#45;&gt;11</title>\n",
       "<path fill=\"none\" stroke=\"#000000\" d=\"M196.73,-49.6223C196.73,-42.9738 196.73,-32.942 196.73,-24.2807\"/>\n",
       "<polygon fill=\"#000000\" stroke=\"#000000\" points=\"200.2301,-24.0842 196.73,-14.0842 193.2301,-24.0842 200.2301,-24.0842\"/>\n",
       "</g>\n",
       "</g>\n",
       "</svg>\n"
      ],
      "text/plain": [
       "<graphviz.dot.Digraph at 0x11cac07f0>"
      ]
     },
     "metadata": {},
     "output_type": "display_data"
    }
   ],
   "source": [
    "ll1parser = LL1Parser(A2_GRAMMAR)\n",
    "tree = ll1parser.parse('1+2')\n",
    "display_tree(tree)"
   ]
  }
 ],
 "metadata": {
  "ipub": {
   "bibliography": "fuzzingbook.bib",
   "toc": true
  },
  "kernelspec": {
   "display_name": "Python 3",
   "language": "python",
   "name": "python3"
  },
  "language_info": {
   "codemirror_mode": {
    "name": "ipython",
    "version": 3
   },
   "file_extension": ".py",
   "mimetype": "text/x-python",
   "name": "python",
   "nbconvert_exporter": "python",
   "pygments_lexer": "ipython3",
   "version": "3.6.6"
  },
  "toc": {
   "base_numbering": 1,
   "nav_menu": {},
   "number_sections": true,
   "sideBar": true,
   "skip_h1_title": true,
   "title_cell": "",
   "title_sidebar": "Contents",
   "toc_cell": false,
   "toc_position": {},
   "toc_section_display": true,
   "toc_window_display": true
  },
  "toc-autonumbering": false,
  "varInspector": {
   "cols": {
    "lenName": 16,
    "lenType": 16,
    "lenVar": 40
   },
   "kernels_config": {
    "python": {
     "delete_cmd_postfix": "",
     "delete_cmd_prefix": "del ",
     "library": "var_list.py",
     "varRefreshCmd": "print(var_dic_list())"
    },
    "r": {
     "delete_cmd_postfix": ") ",
     "delete_cmd_prefix": "rm(",
     "library": "var_list.r",
     "varRefreshCmd": "cat(var_dic_list()) "
    }
   },
   "types_to_exclude": [
    "module",
    "function",
    "builtin_function_or_method",
    "instance",
    "_Feature"
   ],
   "window_display": false
  }
 },
 "nbformat": 4,
 "nbformat_minor": 2
}
