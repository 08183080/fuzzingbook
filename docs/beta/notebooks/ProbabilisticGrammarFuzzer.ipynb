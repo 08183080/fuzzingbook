{
 "cells": [
  {
   "cell_type": "markdown",
   "metadata": {
    "button": false,
    "new_sheet": false,
    "run_control": {
     "read_only": false
    },
    "slideshow": {
     "slide_type": "slide"
    }
   },
   "source": [
    "# Probabilistic Grammar Fuzzing\n",
    "\n",
    "Let us give grammars even more power by assigning probabilities to individual expansions.  This allows us to control how many of each element should be produced.  \\todo{Work in progress.}"
   ]
  },
  {
   "cell_type": "markdown",
   "metadata": {
    "button": false,
    "new_sheet": false,
    "run_control": {
     "read_only": false
    },
    "slideshow": {
     "slide_type": "subslide"
    }
   },
   "source": [
    "**Prerequisites**\n",
    "\n",
    "* You should have read the [chapter on grammars](Grammars.ipynb)."
   ]
  },
  {
   "cell_type": "code",
   "execution_count": 1,
   "metadata": {
    "button": false,
    "collapsed": true,
    "new_sheet": false,
    "run_control": {
     "read_only": false
    },
    "slideshow": {
     "slide_type": "skip"
    }
   },
   "outputs": [],
   "source": [
    "import fuzzingbook_utils"
   ]
  },
  {
   "cell_type": "code",
   "execution_count": 2,
   "metadata": {
    "button": false,
    "code_folding": [],
    "collapsed": true,
    "new_sheet": false,
    "run_control": {
     "read_only": false
    },
    "slideshow": {
     "slide_type": "subslide"
    }
   },
   "outputs": [],
   "source": [
    "from GrammarFuzzer import GrammarFuzzer, all_terminals"
   ]
  },
  {
   "cell_type": "code",
   "execution_count": 3,
   "metadata": {
    "button": false,
    "code_folding": [],
    "collapsed": true,
    "new_sheet": false,
    "run_control": {
     "read_only": false
    },
    "slideshow": {
     "slide_type": "subslide"
    }
   },
   "outputs": [],
   "source": [
    "from Grammars import is_valid_grammar, EXPR_GRAMMAR, START_SYMBOL, crange"
   ]
  },
  {
   "cell_type": "markdown",
   "metadata": {
    "slideshow": {
     "slide_type": "fragment"
    }
   },
   "source": [
    "We introduce a little helper function that will allow us to add arbitrary options to an expansion."
   ]
  },
  {
   "cell_type": "code",
   "execution_count": 4,
   "metadata": {
    "slideshow": {
     "slide_type": "fragment"
    }
   },
   "outputs": [],
   "source": [
    "def opts(**kwargs):\n",
    "    return kwargs"
   ]
  },
  {
   "cell_type": "code",
   "execution_count": 5,
   "metadata": {
    "button": false,
    "collapsed": true,
    "new_sheet": false,
    "run_control": {
     "read_only": false
    },
    "slideshow": {
     "slide_type": "skip"
    }
   },
   "outputs": [],
   "source": [
    "PROBABILISTIC_EXPR_GRAMMAR = {\n",
    "    \"<start>\":\n",
    "        [\"<expr>\"],\n",
    "\n",
    "    \"<expr>\":\n",
    "        [(\"<term> + <expr>\", opts(prob=0.1)),\n",
    "         (\"<term> - <expr>\", opts(prob=0.2)),\n",
    "         \"<term>\"],\n",
    "\n",
    "    \"<term>\":\n",
    "        [(\"<factor> * <term>\", opts(prob=0.1)),\n",
    "         (\"<factor> / <term>\", opts(prob=0.1)),\n",
    "         \"<factor>\"\n",
    "         ],\n",
    "\n",
    "    \"<factor>\":\n",
    "        [\"+<factor>\", \"-<factor>\", \"(<expr>)\",\n",
    "            \"<leadinteger>\", \"<leadinteger>.<integer>\"],\n",
    "\n",
    "    \"<leadinteger>\":\n",
    "        [\"<leaddigit><integer>\", \"<leaddigit>\"],\n",
    "\n",
    "    # Benford's law: frequency distribution of leading digits\n",
    "    \"<leaddigit>\":\n",
    "        [(\"1\", opts(prob=0.301)),\n",
    "         (\"2\", opts(prob=0.176)),\n",
    "         (\"3\", opts(prob=0.125)),\n",
    "         (\"4\", opts(prob=0.097)),\n",
    "         (\"5\", opts(prob=0.079)),\n",
    "         (\"6\", opts(prob=0.067)),\n",
    "         (\"7\", opts(prob=0.058)),\n",
    "         (\"8\", opts(prob=0.051)),\n",
    "         (\"9\", opts(prob=0.046)),\n",
    "         ],\n",
    "\n",
    "    # Remaining digits are equally distributed\n",
    "    \"<integer>\":\n",
    "        [\"<digit><integer>\", \"<digit>\"],\n",
    "\n",
    "    \"<digit>\":\n",
    "        [\"0\", \"1\", \"2\", \"3\", \"4\", \"5\", \"6\", \"7\", \"8\", \"9\"],\n",
    "}"
   ]
  },
  {
   "cell_type": "code",
   "execution_count": 6,
   "metadata": {
    "button": false,
    "collapsed": true,
    "new_sheet": false,
    "run_control": {
     "read_only": false
    },
    "slideshow": {
     "slide_type": "skip"
    }
   },
   "outputs": [],
   "source": [
    "assert is_valid_grammar(PROBABILISTIC_EXPR_GRAMMAR)"
   ]
  },
  {
   "cell_type": "code",
   "execution_count": 7,
   "metadata": {
    "slideshow": {
     "slide_type": "fragment"
    }
   },
   "outputs": [
    {
     "data": {
      "text/plain": [
       "[('1', {'prob': 0.301}),\n",
       " ('2', {'prob': 0.176}),\n",
       " ('3', {'prob': 0.125}),\n",
       " ('4', {'prob': 0.097}),\n",
       " ('5', {'prob': 0.079}),\n",
       " ('6', {'prob': 0.067}),\n",
       " ('7', {'prob': 0.058}),\n",
       " ('8', {'prob': 0.051}),\n",
       " ('9', {'prob': 0.046})]"
      ]
     },
     "execution_count": 7,
     "metadata": {},
     "output_type": "execute_result"
    }
   ],
   "source": [
    "PROBABILISTIC_EXPR_GRAMMAR[\"<leaddigit>\"]"
   ]
  },
  {
   "cell_type": "code",
   "execution_count": 8,
   "metadata": {
    "slideshow": {
     "slide_type": "subslide"
    }
   },
   "outputs": [],
   "source": [
    "def exp_string(expansion):\n",
    "    \"\"\"Return the string to be expanded\"\"\"\n",
    "    if isinstance(expansion, str):\n",
    "        return expansion\n",
    "    return expansion[0]"
   ]
  },
  {
   "cell_type": "code",
   "execution_count": 9,
   "metadata": {
    "slideshow": {
     "slide_type": "fragment"
    }
   },
   "outputs": [
    {
     "data": {
      "text/plain": [
       "'1'"
      ]
     },
     "execution_count": 9,
     "metadata": {},
     "output_type": "execute_result"
    }
   ],
   "source": [
    "exp_string(PROBABILISTIC_EXPR_GRAMMAR[\"<leaddigit>\"][0])"
   ]
  },
  {
   "cell_type": "code",
   "execution_count": 10,
   "metadata": {
    "slideshow": {
     "slide_type": "fragment"
    }
   },
   "outputs": [],
   "source": [
    "def exp_prob(expansion):\n",
    "    \"\"\"Return the specified probability, or None if unspecified\"\"\"\n",
    "    if isinstance(expansion, str):\n",
    "        return None\n",
    "    return expansion[1]['prob']"
   ]
  },
  {
   "cell_type": "code",
   "execution_count": 11,
   "metadata": {
    "slideshow": {
     "slide_type": "fragment"
    }
   },
   "outputs": [
    {
     "data": {
      "text/plain": [
       "0.301"
      ]
     },
     "execution_count": 11,
     "metadata": {},
     "output_type": "execute_result"
    }
   ],
   "source": [
    "exp_prob(PROBABILISTIC_EXPR_GRAMMAR[\"<leaddigit>\"][0])"
   ]
  },
  {
   "cell_type": "markdown",
   "metadata": {
    "slideshow": {
     "slide_type": "fragment"
    }
   },
   "source": [
    "The probabilistic grammar works with our existing infrastructure:"
   ]
  },
  {
   "cell_type": "code",
   "execution_count": 12,
   "metadata": {
    "slideshow": {
     "slide_type": "subslide"
    }
   },
   "outputs": [
    {
     "data": {
      "text/plain": [
       "'4 + ++--7.0 - -7 - +++7.3 * (1 * 3 + 5 / 3 / 5 + 2) * 38 * (2 + 8)'"
      ]
     },
     "execution_count": 12,
     "metadata": {},
     "output_type": "execute_result"
    }
   ],
   "source": [
    "f = GrammarFuzzer(PROBABILISTIC_EXPR_GRAMMAR)\n",
    "f.fuzz()"
   ]
  },
  {
   "cell_type": "code",
   "execution_count": 13,
   "metadata": {
    "slideshow": {
     "slide_type": "skip"
    }
   },
   "outputs": [],
   "source": [
    "from GrammarCoverageFuzzer import GrammarCoverageFuzzer"
   ]
  },
  {
   "cell_type": "code",
   "execution_count": 14,
   "metadata": {
    "slideshow": {
     "slide_type": "fragment"
    }
   },
   "outputs": [
    {
     "data": {
      "text/plain": [
       "'1.30'"
      ]
     },
     "execution_count": 14,
     "metadata": {},
     "output_type": "execute_result"
    }
   ],
   "source": [
    "f = GrammarCoverageFuzzer(PROBABILISTIC_EXPR_GRAMMAR)\n",
    "f.fuzz()"
   ]
  },
  {
   "cell_type": "markdown",
   "metadata": {
    "slideshow": {
     "slide_type": "slide"
    }
   },
   "source": [
    "## Checking Probabilities"
   ]
  },
  {
   "cell_type": "code",
   "execution_count": 15,
   "metadata": {
    "slideshow": {
     "slide_type": "fragment"
    }
   },
   "outputs": [],
   "source": [
    "def exp_probabilities(expansions, nonterminal=\"<symbol>\"):\n",
    "    probabilities = [exp_prob(expansion) for expansion in expansions]\n",
    "    prob_dist = prob_distribution(probabilities, nonterminal)\n",
    "    \n",
    "    prob_mapping = {}\n",
    "    for i in range(len(expansions)):\n",
    "        expansion = exp_string(expansions[i])\n",
    "        prob_mapping[expansion] = prob_dist[i]\n",
    "    \n",
    "    return prob_mapping"
   ]
  },
  {
   "cell_type": "code",
   "execution_count": 16,
   "metadata": {
    "slideshow": {
     "slide_type": "subslide"
    }
   },
   "outputs": [],
   "source": [
    "def prob_distribution(probabilities, nonterminal=\"<symbol>\"):\n",
    "    epsilon = 0.00001\n",
    "\n",
    "    number_of_unspecified_probabilities = probabilities.count(None)\n",
    "    if number_of_unspecified_probabilities == 0:\n",
    "        assert abs(sum(probabilities) - 1.0) < epsilon, \\\n",
    "            nonterminal + \": sum of probabilities must be 1.0\"\n",
    "        return probabilities\n",
    "\n",
    "    sum_of_specified_probabilities = 0.0\n",
    "    for p in probabilities:\n",
    "        if p is not None:\n",
    "            sum_of_specified_probabilities += p\n",
    "    assert 0 <= sum_of_specified_probabilities <= 1.0, \\\n",
    "        nonterminal + \": sum of specified probabilities must be between 0.0 and 1.0\"\n",
    "\n",
    "    default_probability = ((1.0 - sum_of_specified_probabilities) / \n",
    "         number_of_unspecified_probabilities)\n",
    "    all_probabilities = []\n",
    "    for p in probabilities:\n",
    "        if p is None:\n",
    "            p = default_probability\n",
    "        all_probabilities.append(p)\n",
    "\n",
    "    assert abs(sum(all_probabilities) - 1.0) < epsilon\n",
    "    return all_probabilities"
   ]
  },
  {
   "cell_type": "code",
   "execution_count": 17,
   "metadata": {
    "slideshow": {
     "slide_type": "subslide"
    }
   },
   "outputs": [
    {
     "data": {
      "text/plain": [
       "[('1', {'prob': 0.301}),\n",
       " ('2', {'prob': 0.176}),\n",
       " ('3', {'prob': 0.125}),\n",
       " ('4', {'prob': 0.097}),\n",
       " ('5', {'prob': 0.079}),\n",
       " ('6', {'prob': 0.067}),\n",
       " ('7', {'prob': 0.058}),\n",
       " ('8', {'prob': 0.051}),\n",
       " ('9', {'prob': 0.046})]"
      ]
     },
     "execution_count": 17,
     "metadata": {},
     "output_type": "execute_result"
    }
   ],
   "source": [
    "PROBABILISTIC_EXPR_GRAMMAR[\"<leaddigit>\"]"
   ]
  },
  {
   "cell_type": "code",
   "execution_count": 18,
   "metadata": {
    "slideshow": {
     "slide_type": "subslide"
    }
   },
   "outputs": [
    {
     "data": {
      "text/plain": [
       "{'1': 0.301,\n",
       " '2': 0.176,\n",
       " '3': 0.125,\n",
       " '4': 0.097,\n",
       " '5': 0.079,\n",
       " '6': 0.067,\n",
       " '7': 0.058,\n",
       " '8': 0.051,\n",
       " '9': 0.046}"
      ]
     },
     "execution_count": 18,
     "metadata": {},
     "output_type": "execute_result"
    }
   ],
   "source": [
    "exp_probabilities(PROBABILISTIC_EXPR_GRAMMAR[\"<leaddigit>\"])"
   ]
  },
  {
   "cell_type": "code",
   "execution_count": 19,
   "metadata": {
    "slideshow": {
     "slide_type": "subslide"
    }
   },
   "outputs": [
    {
     "data": {
      "text/plain": [
       "{'0': 0.1,\n",
       " '1': 0.1,\n",
       " '2': 0.1,\n",
       " '3': 0.1,\n",
       " '4': 0.1,\n",
       " '5': 0.1,\n",
       " '6': 0.1,\n",
       " '7': 0.1,\n",
       " '8': 0.1,\n",
       " '9': 0.1}"
      ]
     },
     "execution_count": 19,
     "metadata": {},
     "output_type": "execute_result"
    }
   ],
   "source": [
    "exp_probabilities(PROBABILISTIC_EXPR_GRAMMAR[\"<digit>\"])"
   ]
  },
  {
   "cell_type": "code",
   "execution_count": 20,
   "metadata": {
    "slideshow": {
     "slide_type": "fragment"
    }
   },
   "outputs": [
    {
     "data": {
      "text/plain": [
       "{'<term> + <expr>': 0.1, '<term> - <expr>': 0.2, '<term>': 0.7}"
      ]
     },
     "execution_count": 20,
     "metadata": {},
     "output_type": "execute_result"
    }
   ],
   "source": [
    "exp_probabilities(PROBABILISTIC_EXPR_GRAMMAR[\"<expr>\"])"
   ]
  },
  {
   "cell_type": "code",
   "execution_count": 21,
   "metadata": {
    "slideshow": {
     "slide_type": "subslide"
    }
   },
   "outputs": [],
   "source": [
    "def is_valid_probabilistic_grammar(grammar, start_symbol=START_SYMBOL):\n",
    "    if not is_valid_grammar(grammar, start_symbol):\n",
    "        return False\n",
    "   \n",
    "    for nonterminal in grammar:\n",
    "        expansions = grammar[nonterminal]\n",
    "        prob_dist = exp_probabilities(expansions, nonterminal)\n",
    "    \n",
    "    return True"
   ]
  },
  {
   "cell_type": "code",
   "execution_count": 22,
   "metadata": {
    "slideshow": {
     "slide_type": "fragment"
    }
   },
   "outputs": [],
   "source": [
    "assert is_valid_probabilistic_grammar(PROBABILISTIC_EXPR_GRAMMAR)"
   ]
  },
  {
   "cell_type": "code",
   "execution_count": 23,
   "metadata": {
    "slideshow": {
     "slide_type": "fragment"
    }
   },
   "outputs": [],
   "source": [
    "assert is_valid_probabilistic_grammar(EXPR_GRAMMAR)"
   ]
  },
  {
   "cell_type": "code",
   "execution_count": 24,
   "metadata": {
    "slideshow": {
     "slide_type": "skip"
    }
   },
   "outputs": [],
   "source": [
    "from ExpectError import ExpectError"
   ]
  },
  {
   "cell_type": "code",
   "execution_count": 25,
   "metadata": {
    "slideshow": {
     "slide_type": "subslide"
    }
   },
   "outputs": [
    {
     "name": "stderr",
     "output_type": "stream",
     "text": [
      "Traceback (most recent call last):\n",
      "  File \"<ipython-input-25-52b9560321a8>\", line 2, in <module>\n",
      "    assert not is_valid_probabilistic_grammar({\"<start>\": [(\"1\", opts(prob=0.5))]})\n",
      "  File \"<ipython-input-21-4c4804178dc7>\", line 7, in is_valid_probabilistic_grammar\n",
      "    prob_dist = exp_probabilities(expansions, nonterminal)\n",
      "  File \"<ipython-input-15-002b16bf30d0>\", line 3, in exp_probabilities\n",
      "    prob_dist = prob_distribution(probabilities, nonterminal)\n",
      "  File \"<ipython-input-16-a663ca479845>\", line 6, in prob_distribution\n",
      "    assert abs(sum(probabilities) - 1.0) < epsilon,             nonterminal + \": sum of probabilities must be 1.0\"\n",
      "AssertionError: <start>: sum of probabilities must be 1.0 (expected)\n"
     ]
    }
   ],
   "source": [
    "with ExpectError():\n",
    "    assert not is_valid_probabilistic_grammar({\"<start>\": [(\"1\", opts(prob=0.5))]})"
   ]
  },
  {
   "cell_type": "code",
   "execution_count": 26,
   "metadata": {
    "slideshow": {
     "slide_type": "subslide"
    }
   },
   "outputs": [
    {
     "name": "stderr",
     "output_type": "stream",
     "text": [
      "Traceback (most recent call last):\n",
      "  File \"<ipython-input-26-2edf698b8e32>\", line 2, in <module>\n",
      "    assert not is_valid_probabilistic_grammar({\"<start>\": [(\"1\", opts(prob=1.5)), \"2\"]})\n",
      "  File \"<ipython-input-21-4c4804178dc7>\", line 7, in is_valid_probabilistic_grammar\n",
      "    prob_dist = exp_probabilities(expansions, nonterminal)\n",
      "  File \"<ipython-input-15-002b16bf30d0>\", line 3, in exp_probabilities\n",
      "    prob_dist = prob_distribution(probabilities, nonterminal)\n",
      "  File \"<ipython-input-16-a663ca479845>\", line 13, in prob_distribution\n",
      "    assert 0 <= sum_of_specified_probabilities <= 1.0,         nonterminal + \": sum of specified probabilities must be between 0.0 and 1.0\"\n",
      "AssertionError: <start>: sum of specified probabilities must be between 0.0 and 1.0 (expected)\n"
     ]
    }
   ],
   "source": [
    "with ExpectError():\n",
    "    assert not is_valid_probabilistic_grammar({\"<start>\": [(\"1\", opts(prob=1.5)), \"2\"]})"
   ]
  },
  {
   "cell_type": "markdown",
   "metadata": {
    "slideshow": {
     "slide_type": "slide"
    }
   },
   "source": [
    "## Selecting by Probability"
   ]
  },
  {
   "cell_type": "code",
   "execution_count": 27,
   "metadata": {
    "slideshow": {
     "slide_type": "skip"
    }
   },
   "outputs": [],
   "source": [
    "import random"
   ]
  },
  {
   "cell_type": "code",
   "execution_count": 28,
   "metadata": {
    "slideshow": {
     "slide_type": "fragment"
    }
   },
   "outputs": [],
   "source": [
    "class ProbabilisticGrammarFuzzer(GrammarFuzzer):\n",
    "    def choose_node_expansion(self, node, possible_children):\n",
    "        (symbol, tree) = node\n",
    "        expansions = self.grammar[symbol]\n",
    "        probabilities = exp_probabilities(expansions)\n",
    "\n",
    "        weights = []\n",
    "        for child in possible_children:\n",
    "            child_weight = probabilities[all_terminals((node, child))]\n",
    "            weights.append(child_weight)\n",
    "            \n",
    "        return random.choices(range(len(possible_children)), weights=weights)[0]"
   ]
  },
  {
   "cell_type": "code",
   "execution_count": 29,
   "metadata": {
    "slideshow": {
     "slide_type": "subslide"
    }
   },
   "outputs": [
    {
     "data": {
      "text/plain": [
       "'+++588.1'"
      ]
     },
     "execution_count": 29,
     "metadata": {},
     "output_type": "execute_result"
    }
   ],
   "source": [
    "f = ProbabilisticGrammarFuzzer(PROBABILISTIC_EXPR_GRAMMAR)\n",
    "f.fuzz()"
   ]
  },
  {
   "cell_type": "code",
   "execution_count": 30,
   "metadata": {
    "slideshow": {
     "slide_type": "fragment"
    }
   },
   "outputs": [
    {
     "data": {
      "text/plain": [
       "'3'"
      ]
     },
     "execution_count": 30,
     "metadata": {},
     "output_type": "execute_result"
    }
   ],
   "source": [
    "leaddigit_fuzzer = ProbabilisticGrammarFuzzer(PROBABILISTIC_EXPR_GRAMMAR, start_symbol=\"<leaddigit>\")\n",
    "leaddigit_fuzzer.fuzz()"
   ]
  },
  {
   "cell_type": "code",
   "execution_count": 31,
   "metadata": {
    "slideshow": {
     "slide_type": "subslide"
    }
   },
   "outputs": [
    {
     "name": "stdout",
     "output_type": "stream",
     "text": [
      "[('0', 0.0), ('1', 0.3025), ('2', 0.1751), ('3', 0.122), ('4', 0.0942), ('5', 0.0812), ('6', 0.0651), ('7', 0.0591), ('8', 0.0529), ('9', 0.0479)]\n"
     ]
    }
   ],
   "source": [
    "trials = 10000\n",
    "\n",
    "count = {}\n",
    "for c in crange('0', '9'):\n",
    "    count[c] = 0\n",
    "\n",
    "for i in range(trials):\n",
    "    count[leaddigit_fuzzer.fuzz()] += 1\n",
    "\n",
    "print([(digit, count[digit] / trials) for digit in count])"
   ]
  },
  {
   "cell_type": "markdown",
   "metadata": {
    "button": false,
    "new_sheet": true,
    "run_control": {
     "read_only": false
    },
    "slideshow": {
     "slide_type": "slide"
    }
   },
   "source": [
    "## Lessons Learned\n",
    "\n",
    "* _Lesson one_\n",
    "* _Lesson two_\n",
    "* _Lesson three_"
   ]
  },
  {
   "cell_type": "markdown",
   "metadata": {
    "button": false,
    "new_sheet": false,
    "run_control": {
     "read_only": false
    },
    "slideshow": {
     "slide_type": "slide"
    }
   },
   "source": [
    "## Next Steps\n",
    "\n",
    "_Link to subsequent chapters (notebooks) here, as in:_\n",
    "\n",
    "* [use _mutations_ on existing inputs to get more valid inputs](MutationFuzzer.ipynb)\n",
    "* [use _grammars_ (i.e., a specification of the input format) to get even more valid inputs](Grammars.ipynb)\n",
    "* [reduce _failing inputs_ for efficient debugging](Reducer.ipynb)\n"
   ]
  },
  {
   "cell_type": "markdown",
   "metadata": {
    "button": false,
    "new_sheet": true,
    "run_control": {
     "read_only": false
    },
    "slideshow": {
     "slide_type": "slide"
    }
   },
   "source": [
    "## Exercises\n",
    "\n",
    "Close the chapter with a few exercises such that people have things to do.  In Jupyter Notebook, use the `exercise2` nbextension to add solutions that can be interactively viewed or hidden:\n",
    "\n",
    "* Mark the _last_ cell of the exercise (this should be a _text_ cell) as well as _all_ cells of the solution.  (Use the `rubberband` nbextension and use Shift+Drag to mark multiple cells.)\n",
    "* Click on the `solution` button at the top.\n",
    "\n",
    "(Alternatively, just copy the exercise and solution cells below with their metadata.)"
   ]
  },
  {
   "cell_type": "markdown",
   "metadata": {
    "button": false,
    "new_sheet": false,
    "run_control": {
     "read_only": false
    },
    "slideshow": {
     "slide_type": "subslide"
    },
    "solution2": "hidden",
    "solution2_first": true
   },
   "source": [
    "### Exercise 1\n",
    "\n",
    "Create a class `ProbabilisticGrammarCoverageFuzzer` that extends `GrammarCoverageFuzzer` with probabilistic capabilities.  The idea is to first cover all uncovered expansions (like `GrammarCoverageFuzzer`) and once all expansions are covered, to proceed by probabilities (like `ProbabilisticGrammarFuzzer`).  To this end, define new instances of the `choose_covered_node_expansion()` and `choose_uncovered_node_expansion()` methods that choose an expansion based on the given weights.  If you are an advanced programmer, realize the class via _multiple inheritance_ from `GrammarCoverageFuzzer` and `ProbabilisticGrammarFuzzer` to achieve this."
   ]
  },
  {
   "cell_type": "markdown",
   "metadata": {
    "slideshow": {
     "slide_type": "skip"
    },
    "solution2": "hidden"
   },
   "source": [
    "**Solution**.  With multiple inheritance, this is fairly easy; we just need to point the three methods to the right places:"
   ]
  },
  {
   "cell_type": "code",
   "execution_count": 32,
   "metadata": {
    "cell_style": "center",
    "slideshow": {
     "slide_type": "skip"
    },
    "solution2": "hidden"
   },
   "outputs": [],
   "source": [
    "class ProbabilisticGrammarCoverageFuzzer(GrammarCoverageFuzzer, ProbabilisticGrammarFuzzer):\n",
    "    # Choose uncovered expansions first\n",
    "    def choose_node_expansion(self, node, possible_children):\n",
    "        return GrammarCoverageFuzzer.choose_node_expansion(self, node, possible_children)\n",
    "\n",
    "    # Among uncovered expansions, pick by (relative) probability\n",
    "    def choose_uncovered_node_expansion(self, node, possible_children):\n",
    "        return ProbabilisticGrammarFuzzer.choose_node_expansion(self, node, possible_children)\n",
    "    \n",
    "    # For covered nodes, pick by probability, too\n",
    "    def choose_covered_node_expansion(self, node, possible_children):\n",
    "        return ProbabilisticGrammarFuzzer.choose_node_expansion(self, node, possible_children)"
   ]
  },
  {
   "cell_type": "markdown",
   "metadata": {
    "slideshow": {
     "slide_type": "skip"
    },
    "solution2": "hidden"
   },
   "source": [
    "In the first nine invocations, our fuzzer covers one digit after another:"
   ]
  },
  {
   "cell_type": "code",
   "execution_count": 33,
   "metadata": {
    "slideshow": {
     "slide_type": "skip"
    },
    "solution2": "hidden"
   },
   "outputs": [
    {
     "name": "stdout",
     "output_type": "stream",
     "text": [
      "['2', '6', '1', '4', '5', '7', '3', '8', '9']\n"
     ]
    }
   ],
   "source": [
    "cov_leaddigit_fuzzer = ProbabilisticGrammarCoverageFuzzer(PROBABILISTIC_EXPR_GRAMMAR, start_symbol=\"<leaddigit>\")\n",
    "print([cov_leaddigit_fuzzer.fuzz() for i in range(9)])"
   ]
  },
  {
   "cell_type": "markdown",
   "metadata": {
    "slideshow": {
     "slide_type": "skip"
    },
    "solution2": "hidden"
   },
   "source": [
    "After these, we again proceed by probabilities:"
   ]
  },
  {
   "cell_type": "code",
   "execution_count": 34,
   "metadata": {
    "slideshow": {
     "slide_type": "skip"
    },
    "solution2": "hidden"
   },
   "outputs": [
    {
     "name": "stdout",
     "output_type": "stream",
     "text": [
      "[('0', 0.0), ('1', 0.2968), ('2', 0.1787), ('3', 0.1242), ('4', 0.1), ('5', 0.0757), ('6', 0.0674), ('7', 0.0613), ('8', 0.0497), ('9', 0.0462)]\n"
     ]
    }
   ],
   "source": [
    "trials = 10000\n",
    "\n",
    "count = {}\n",
    "for c in crange('0', '9'):\n",
    "    count[c] = 0\n",
    "\n",
    "for i in range(trials):\n",
    "    count[cov_leaddigit_fuzzer.fuzz()] += 1\n",
    "\n",
    "print([(digit, count[digit] / trials) for digit in count])"
   ]
  },
  {
   "cell_type": "markdown",
   "metadata": {
    "button": false,
    "new_sheet": false,
    "run_control": {
     "read_only": false
    },
    "slideshow": {
     "slide_type": "subslide"
    },
    "solution": "hidden",
    "solution2": "hidden",
    "solution2_first": true,
    "solution_first": true
   },
   "source": [
    "### Exercise 2\n",
    "\n",
    "_Text of the exercise_"
   ]
  },
  {
   "cell_type": "markdown",
   "metadata": {
    "button": false,
    "new_sheet": false,
    "run_control": {
     "read_only": false
    },
    "slideshow": {
     "slide_type": "fragment"
    },
    "solution": "hidden",
    "solution2": "hidden"
   },
   "source": [
    "_Solution for the exercise_"
   ]
  }
 ],
 "metadata": {
  "ipub": {
   "bibliography": "fuzzingbook.bib",
   "toc": true
  },
  "kernelspec": {
   "display_name": "Python 3",
   "language": "python",
   "name": "python3"
  },
  "language_info": {
   "codemirror_mode": {
    "name": "ipython",
    "version": 3
   },
   "file_extension": ".py",
   "mimetype": "text/x-python",
   "name": "python",
   "nbconvert_exporter": "python",
   "pygments_lexer": "ipython3",
   "version": "3.6.6"
  },
  "toc": {
   "base_numbering": 1,
   "nav_menu": {},
   "number_sections": true,
   "sideBar": true,
   "skip_h1_title": true,
   "title_cell": "",
   "title_sidebar": "Contents",
   "toc_cell": false,
   "toc_position": {},
   "toc_section_display": true,
   "toc_window_display": true
  }
 },
 "nbformat": 4,
 "nbformat_minor": 2
}
