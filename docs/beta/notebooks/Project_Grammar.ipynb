{
 "cells": [
  {
   "cell_type": "markdown",
   "metadata": {},
   "source": [
    "# Project 2 - Grammars"
   ]
  },
  {
   "cell_type": "code",
   "execution_count": null,
   "metadata": {},
   "outputs": [],
   "source": [
    "import fuzzingbook_utils"
   ]
  },
  {
   "cell_type": "code",
   "execution_count": null,
   "metadata": {},
   "outputs": [],
   "source": [
    "!pip install coverage gcovr"
   ]
  },
  {
   "cell_type": "markdown",
   "metadata": {},
   "source": [
    "## Introduction\n",
    "\n",
    "Testing regular expression (regex) parsers is a challenging task. A simple regex, such as `a?(b|c)+d*`, requires dozens of inputs to cover all possibilities.\n",
    "\n",
    "To test regex, we use the python [regex](https://pypi.org/project/regex/) module (provided in the `data/regex` directory of this project). We use the source code of the `regex` module so that we can compute the coverage of the module.  "
   ]
  },
  {
   "cell_type": "code",
   "execution_count": null,
   "metadata": {},
   "outputs": [],
   "source": [
    "from data.regex.regex_3 import _regex_core\n",
    "from data.regex.regex_3 import regex"
   ]
  },
  {
   "cell_type": "code",
   "execution_count": null,
   "metadata": {},
   "outputs": [],
   "source": [
    "pattern = 'a?(b|c)+d*$'\n",
    "print('a matches %s: %s' % (pattern, regex.match(pattern, 'a') != None))\n",
    "print('b matches %s: %s' % (pattern, regex.match(pattern, 'ab') != None))"
   ]
  },
  {
   "cell_type": "markdown",
   "metadata": {},
   "source": [
    "An efficient approach to test regex is to use grammars. Regex are instances of regular languages - a subset of context-free grammar (CFG) - and, thus, can be tested with the techniques presented in this course.\n",
    "\n",
    "Assume the following grammar, which represents the `a?(b|c)+d*` regular expression."
   ]
  },
  {
   "cell_type": "code",
   "execution_count": null,
   "metadata": {},
   "outputs": [],
   "source": [
    "example_grammar = {'<start>': ['<A><BC><D>'],\n",
    "                   '<A>': ['a', '<empty>'],\n",
    "                   '<BC>': ['b<BC2>', 'c<BC2>'],\n",
    "                   '<BC2>': ['b<BC2>', 'c<BC2>', '<empty>'],\n",
    "                   '<D>': ['d<D>', '<empty>'],\n",
    "                   '<empty>': [''],\n",
    "                   }"
   ]
  },
  {
   "cell_type": "markdown",
   "metadata": {},
   "source": [
    "Reusing the techniques from the lecture we expand and visualize it."
   ]
  },
  {
   "cell_type": "code",
   "execution_count": null,
   "metadata": {},
   "outputs": [],
   "source": [
    "from GrammarFuzzer import GrammarFuzzer, display_tree"
   ]
  },
  {
   "cell_type": "code",
   "execution_count": null,
   "metadata": {},
   "outputs": [],
   "source": [
    "def as_tree(grammar):\n",
    "    f = GrammarFuzzer(grammar)\n",
    "    \n",
    "    derivation_tree = f.init_tree()\n",
    "    for i in range(6):\n",
    "        derivation_tree = f.expand_tree_once(derivation_tree)    \n",
    "    display_tree(derivation_tree)\n",
    "\n",
    "as_tree(example_grammar)"
   ]
  },
  {
   "cell_type": "markdown",
   "metadata": {},
   "source": [
    "And we can use it to produce valid input values"
   ]
  },
  {
   "cell_type": "code",
   "execution_count": null,
   "metadata": {},
   "outputs": [],
   "source": [
    "def test_input(grammar):\n",
    "    f = GrammarFuzzer(grammar)\n",
    "    input_value =  f.fuzz()\n",
    "    print('%s matches %s: %s' % (input_value, pattern, regex.match(pattern, input_value) != None))\n",
    "\n",
    "for i in range(5):    \n",
    "    test_input(example_grammar)"
   ]
  },
  {
   "cell_type": "markdown",
   "metadata": {},
   "source": [
    "## Objective\n",
    "\n",
    "The goal of this project is to _implement an algorithm that constructs a CFG from an arbitrary regular expression. Then, use the techniques learned in the lecture (i.e. efficient grammar-based fuzzing) to automatically expand your grammar and to automatically produce a set of inputs that match the given regular expression, covering as many grammar productions as possible._"
   ]
  },
  {
   "cell_type": "markdown",
   "metadata": {},
   "source": [
    "## Regex specification\n",
    "\n",
    "In this project, we restrict the regex specification into its simpler constructions and grouped then into 3 categories: _basic syntax, complex syntax and bonus_ as follows:\n",
    "\n",
    "| Category | Components |\n",
    "|----------|-----------|\n",
    "| Basic Syntax | Anchors `^` and `$` <br> Groupings `()` <br> Whitespace `\\s =  [ \\t\\n\\r\\f\\v]` <br> Quantifiers `*`, `+`, `?` <br> concatenation <br> OR operator <code>&#124;</code> | \n",
    "| Complex syntax | Character classes `[0-9]`, `[a-z]`, `[A-Z]`, `[0-9A-Za-z]`  <br> Special character classes `\\d = [0-9]`, `\\w = [0-9a-zA-Z_]` <br> Bounded quantifier `{}` <br> Set Negation `[^]` (requires look-ahead) <br> `\\D = [^0-9]` <br> `\\W = [^0-9a-zA-Z_]` <br> `\\S = [^\\s]` | \n",
    "| Bonus | Boundaries `\\b` and `\\B`  |   |\n",
    "\n",
    "In your implementation, ignore any non-listed regex elements, such as flags, back references, other types of look-ahead, look-behind and greedy/lazy match. \n",
    "\n",
    "We use the [regex parser](https://pypi.org/project/regex/), version 2.4.150 from 2018.11.07, instead of Python's native `re`, because `re` is just a wrapper for a C library. Confirm regex version using: "
   ]
  },
  {
   "cell_type": "code",
   "execution_count": null,
   "metadata": {},
   "outputs": [],
   "source": [
    "print(regex.__version__)"
   ]
  },
  {
   "cell_type": "markdown",
   "metadata": {},
   "source": [
    "## Regex samples for development\n",
    "\n",
    "Ensure your implementation works on the following regex examples, and covers the provided minimum required coverage for parsing a represententative input for each regex:\n",
    "\n",
    "| Category | Examples | Min. Cov. LOC _regex_core.py | Min. Cov. LOC *.c|\n",
    "|--------------|----------|------|------|\n",
    "| Basic Syntax | `^ab$` | 241 (8%)  |  988     (7%)| \n",
    "| Basic Syntax | `b$` | 170 (6%) | 949     (6%) |\n",
    "| Basic Syntax | `ab*$` | 207 (7%) | 1142     (8%) |\n",
    "| Basic Syntax | <code>a&#124;b`$`</code> | 308 (11%) | 1024     (7%) |\n",
    "| Basic Syntax | <code>a(b&#124;c)`$`</code> | 321 (11%)  | 1198     (8%)|\n",
    "| Basic Syntax | <code>(a&#124;b)\\s`$`</code> | 334 (12%) |  1131     (8%) |\n",
    "| Basic Syntax | <code>^a*(b+&#124;c)d?`$`</code> | 413 (15%) | 1442    (10%) |\n",
    "| Basic Syntax | <code>^a*(b+&#124;c)d?\\se`$`</code> | 455 (16%)  | 1633    (11%) |\n",
    "| Basic Syntax | <code>^a+(b*&#124;c)d?\\se`$`</code> | 426     (15%) | 1564    (11%) |\n",
    "|  Basic Syntax | `^[0-9]+\\s[a-z]*\\s?[A-Z]+$`</code> | 303     (11%) | 1228     (9%) |\n",
    "| Complex Syntax | `\\w$` | 169 (6%)  |  878 (6%) |  \n",
    "| Complex Syntax | `\\d$` | 169 (6%) | 875 (6%) | \n",
    "| Complex Syntax | <code>(a&#124;b){2,5}$</code> | 401 (14%) |  1380    (10%)| \n",
    "| Complex Syntax | `[0-9a-zA-Z]$` | 252 (9%) | 902     (6%) |\n",
    "| Complex Syntax | `[0-9]$` | 222 (8%) | 852     (6%) |\n",
    "| Complex Syntax | `[a-z]$` | 222 (8%) | 852     (6%) |\n",
    "| Complex Syntax | `[^a-zA-Z]$` | 213 (7%)| 879     (6%) |\n",
    "| Complex Syntax | `[^0-9]$` | 178 (6%) | 825     (6%) | \n",
    "| Complex Syntax | `\\D$` | 168 (6%) |  877     (6%) |\n",
    "| Complex Syntax | `\\W$` | 122 (4%) |  852     (6%) |\n",
    "| Complex Syntax | `\\S$` | 122 (4%) |  852     (6%) |\n",
    "| Complex Syntax | `[a-zA-Z]\\s\\w+\\s\\d\\s$` | 324     (11%) | 1295     (9%) |\n",
    "| Complex Syntax |  `a(bc){2,5}$` | 297     (10%) | 1472 (10%) |\n",
    "| Bonus | `\\babc\\b$` | 258 (9%) | 865     (6%) |\n",
    "| Bonus | `abc\\B` | 177 (6%) | 987     (7%) |\n",
    "| Bonus | `\\babc\\B` | 247 (9%) | 928     (6%) |\n",
    "    \n",
    "\n",
    "Note that the code coverage during the execution of the import statement (`import regex`) is unacccounted for, since this module was executed before the collection of coverage data began. We also do not track or evaluate the coverage of the python code (`regex.py`), since it is always the same for`regex.match` method call.\n",
    "\n",
    "Coverage data for Python (i.e. `_regex_core.py`) were obtained using a python utility for measuring code coverage of Python programs called [Coverage.py](https://coverage.readthedocs.io/en/v4.5.x/), version 4.5.2. Confirm your Coverage.py version:"
   ]
  },
  {
   "cell_type": "code",
   "execution_count": null,
   "metadata": {},
   "outputs": [],
   "source": [
    "!coverage --version"
   ]
  },
  {
   "cell_type": "markdown",
   "metadata": {},
   "source": [
    "Coverage data for the C extensions of regex (i.e. _regex.c  and _regex_unicode.c) were obtained using the python utility for GNU gcov utility [Gcovr](https://gcovr.com/), version 4.1. You can confirm your Gcovr version using:"
   ]
  },
  {
   "cell_type": "code",
   "execution_count": null,
   "metadata": {},
   "outputs": [],
   "source": [
    "!gcovr --version"
   ]
  },
  {
   "cell_type": "markdown",
   "metadata": {},
   "source": [
    "## Tips\n",
    "For more information on Python regex matching read the documentation of Python3 [re](https://docs.python.org/3.1/library/re.html/).\n",
    "\n",
    "To test your implementation with sample regex inputs, use the following python libraries that generate matching strings for any regex: [rstr](https://bitbucket.org/leapfrogdevelopment/rstr) & [exrex](https://github.com/asciimoo/exrex)."
   ]
  },
  {
   "cell_type": "markdown",
   "metadata": {},
   "source": [
    "# Evaluation\n",
    "\n",
    "Your generated test inputs will be executed on [the fuzzingbook server](https://fuzzingbook.cispa.saarland/), based on the amount of executed methods and lines of code (LOC). \n",
    "\n",
    "__Note: if you are developing locally, use the source code of version 2018.11.07 of the [regex parser](https://pypi.org/project/regex/), however test on [the fuzzingbook server](https://fuzzingbook.cispa.saarland/) before submission.__\n",
    "    \n",
    "Your implementation will be tested with a _secret_ set of regex, encompassing all previously specified syntax categories.\n",
    "\n",
    "## Grading framework\n",
    "\n",
    "For grading:\n",
    "  * __To pass__, your implementation should automatically construct a grammar for an arbitrary set of regular expressions encompassing the basic syntax in the Regex Specification. __Points__ will be assigned based on the coverage achieved by the generated test inputs.\n",
    "  * __To obtain extra points__, your implementation should support the construction of the grammar for all or some of the complex syntax specification. __Points__ will be assigned based on the number of features you cover, as well as on the coverage achieved by your generated test inputs.\n",
    "  * __Bonus Points__ will be awarded to implementation which support the bonus specification (boundaries).\n",
    "\n",
    "\n",
    "## Auxiliary functions\n",
    "\n",
    "The following functions are available to assist your implementation and tests:\n",
    "\n",
    "### Generating Sample inputs from your grammar\n",
    "\n",
    "Using the GrammarCoverageFuzzer, produce unique set of inputs from your grammar:"
   ]
  },
  {
   "cell_type": "code",
   "execution_count": null,
   "metadata": {},
   "outputs": [],
   "source": [
    "from GrammarCoverageFuzzer import GrammarCoverageFuzzer\n",
    "from Grammars import is_valid_grammar, def_used_nonterminals\n",
    "import random\n",
    "\n",
    "def generate_inputs(grammar):\n",
    "    assert is_valid_grammar(grammar)\n",
    "    start_seed, end_seed = 2000, 2005\n",
    "    inputs = []\n",
    "    for seed in range(start_seed, end_seed):\n",
    "        f = GrammarCoverageFuzzer(grammar)\n",
    "        while (len(f.max_expansion_coverage() - f.expansion_coverage()) > 0):\n",
    "            inputs.append(f.fuzz()) \n",
    "    return set(inputs)\n"
   ]
  },
  {
   "cell_type": "markdown",
   "metadata": {},
   "source": [
    "### Ensuring all inputs are valid\n",
    "\n",
    "Your grammar should produce __only__ valid inputs. To ensure that all inputs your grammar can produce are valid you can use:"
   ]
  },
  {
   "cell_type": "code",
   "execution_count": null,
   "metadata": {},
   "outputs": [],
   "source": [
    "def ensure_all_valid(pattern, inputs):\n",
    "    res = [[inp, regex.match(pattern, inp) != None] for inp in inputs]\n",
    "    \n",
    "    failures = list(filter(lambda x: not x[1], res))\n",
    "    \n",
    "    if len(failures) > 0:\n",
    "        raise ValueError(\"Invalid inputs: \" + str([x[0] for x in failures]))"
   ]
  },
  {
   "cell_type": "markdown",
   "metadata": {},
   "source": [
    "### Python: Obtaining code coverage for an input\n",
    "\n",
    "You can use the `run_with_py_coverage` function to obtain the python code covered by each input generated by your grammar."
   ]
  },
  {
   "cell_type": "code",
   "execution_count": null,
   "metadata": {},
   "outputs": [],
   "source": [
    "from coverage import Coverage\n",
    "import os"
   ]
  },
  {
   "cell_type": "code",
   "execution_count": null,
   "metadata": {},
   "outputs": [],
   "source": [
    "def run_with_py_coverage(pattern, inp):\n",
    "    cwd = os.getcwd()\n",
    "    target_dir = os.path.join(cwd,\"data\", \"regex\")\n",
    "    os.chdir(target_dir)\n",
    "    \n",
    "    regex._cache = {}\n",
    "    cov = Coverage(include=[\"*.py\"])\n",
    "    cov.start()\n",
    "    regex.match(pattern, str(inp))\n",
    "    cov.stop()\n",
    "    cov.save()\n",
    "    results = cov.analysis2(\"regex_3/_regex_core.py\")\n",
    "    covered = set(results[1]) - set(results[3])\n",
    "\n",
    "    os.chdir(cwd)\n",
    "    return covered, len(set(results[1]))"
   ]
  },
  {
   "cell_type": "markdown",
   "metadata": {},
   "source": [
    "### C Extensions: Obtaining code coverage for an input\n",
    "We implement helper function to execute bash commands:"
   ]
  },
  {
   "cell_type": "code",
   "execution_count": null,
   "metadata": {},
   "outputs": [],
   "source": [
    "import subprocess\n",
    "\n",
    "def execute_bash_command(command):\n",
    "    process = subprocess.Popen(command, shell=True,\n",
    "                       stdout=subprocess.PIPE, \n",
    "                       stderr=subprocess.PIPE)\n",
    "    out, error = process.communicate()\n",
    "    error = error.decode(\"utf-8\").strip() \n",
    "    if error:\n",
    "        raise ValueError(\"bash command error: '{0}',\\n during execution of command: \\n '{1}': \".format(error, command ))\n",
    "    res = out.decode(\"utf-8\").strip()\n",
    "    return res\n"
   ]
  },
  {
   "cell_type": "markdown",
   "metadata": {},
   "source": [
    "We implement the function `run_with_c_coverage()` to obtain coverage for the C classes in the regex module. \n"
   ]
  },
  {
   "cell_type": "code",
   "execution_count": null,
   "metadata": {},
   "outputs": [],
   "source": [
    "import os\n",
    "\n",
    "def run_with_c_coverage(pattern, inp):\n",
    "    cwd = os.getcwd()\n",
    "    target_dir = os.path.join(cwd , \"data\", \"regex\")\n",
    "    if os.getcwd() != target_dir and os.path.isdir(target_dir):\n",
    "        os.chdir(target_dir)        \n",
    "    \n",
    "    #remove old build\n",
    "    build_dir = os.path.join(os.getcwd(), \"build\")\n",
    "    if os.path.isdir(build_dir):\n",
    "        rm_command = \"rm -r \" + build_dir \n",
    "        execute_bash_command(rm_command)\n",
    "        \n",
    "    #re-build regex \n",
    "    c_flags = 'CFLAGS=\"-fprofile-arcs -ftest-coverage -fPIC -g -O0\" ' \n",
    "    build_instr = 'python setup.py build_ext --inplace > /dev/null'\n",
    "    build_command = c_flags + build_instr\n",
    "    execute_bash_command(build_command)\n",
    "\n",
    "    #run regex match test\n",
    "    run_test_command = \"\"\"python -c \"from regex_3 import _regex_core;\\\n",
    "                        from regex_3 import regex;pattern = '{0}'; inp = '{1}';\\\n",
    "                        regex._cache = {{}}; regex.match(pattern, str(inp))\" \"\"\".\\\n",
    "                        format(pattern, inp.replace(\"\\n\", \"\\\\\\n\").replace(\"\\r\", \"\\\\\\r\"))\n",
    "\n",
    "    execute_bash_command(run_test_command) \n",
    "\n",
    "    #obtain coverage of c extensions\n",
    "    gcovr_instr = 'gcovr -r . '\n",
    "    grep_TOTAL =  'grep -n \"TOTAL\" '\n",
    "    c_cov_command = gcovr_instr + \"| \" + grep_TOTAL \n",
    "    cov_out = execute_bash_command(c_cov_command) \n",
    "    coverage = cov_out.split()[2]\n",
    "    percent_coverage = cov_out.split()[3]\n",
    "\n",
    "    os.chdir(cwd)\n",
    "    return coverage, percent_coverage"
   ]
  },
  {
   "cell_type": "markdown",
   "metadata": {},
   "source": [
    "### Obtain both Python and C coverage for a population of inputs \n",
    "For all your inputs, use `population_coverage` to obtain the overall cummulative coverage of Python code and the maximum coverage for C Code."
   ]
  },
  {
   "cell_type": "code",
   "execution_count": null,
   "metadata": {},
   "outputs": [],
   "source": [
    "def population_coverage(pattern, population):\n",
    "    py_all_coverage = set()\n",
    "    c_max_coverage = 0\n",
    "    c_max_percent = 0\n",
    "    py_max_percent = \"\"\n",
    "\n",
    "    for inp in population:\n",
    "        #obtain all covered LOC for Python code\n",
    "        py_covered, py_length = run_with_py_coverage(pattern, inp)\n",
    "        py_all_coverage |= py_covered\n",
    "\n",
    "        #obtain max coverage for C code\n",
    "        c_covered, percent_covered = run_with_c_coverage(pattern, inp)\n",
    "        if c_max_coverage < int(c_covered):\n",
    "            c_max_coverage = int(c_covered)\n",
    "            c_max_percent = percent_covered\n",
    "    \n",
    "    py_max_percent = str(int(len(py_all_coverage)/py_length * 100)) + \"%\"\n",
    "        \n",
    "    return len(py_all_coverage), c_max_coverage, py_max_percent, c_max_percent"
   ]
  },
  {
   "cell_type": "markdown",
   "metadata": {},
   "source": [
    "## Your code\n",
    "Write your code here to create a grammar out of an arbitrary regular expression. "
   ]
  },
  {
   "cell_type": "code",
   "execution_count": null,
   "metadata": {
    "code_folding": [
     24,
     30,
     299,
     318,
     334
    ]
   },
   "outputs": [],
   "source": [
    "import string\n",
    "from collections import defaultdict\n",
    "\n",
    "grammar = defaultdict(list)\n",
    "\n",
    "#write your code below\n",
    "\n",
    "#regex to context free grammar conversion\n",
    "def regex_to_CFG(regex_pattern):\n",
    "    \n",
    "    return grammar\n",
    "    \n"
   ]
  },
  {
   "cell_type": "markdown",
   "metadata": {},
   "source": [
    "## Evaluation code\n",
    "\n",
    "The following code will be used to run your evaluation.\n",
    "\n",
    "__Note that the set of regular expression which will be used for evaluation may be different from those provided as example.__"
   ]
  },
  {
   "cell_type": "code",
   "execution_count": null,
   "metadata": {},
   "outputs": [],
   "source": [
    "secret_set_of_regex = [[r'^ab$', 241, 988], [r'b$', 170, 949],[r'ab*$', 207, 1142],\\\n",
    "                       [r'a|b$',308, 1024], [r'a(b|c)$', 321, 1198], [r'(a|b)\\s$',334, 1131],\\\n",
    "                       [r'^a*(b+|c)d?$', 413, 1442],[r'^a*(b+|c)d?\\se$', 455, 1633],\\\n",
    "                       [r'^a+(b*|c)d?\\se$',426, 1564], [r'^[0-9]+\\s[a-z]*\\s?[A-Z]+$', 303, 1228],\\\n",
    "                       [r'\\w$', 169, 878], [r'\\d$', 169, 875], [r'(a|b){2,5}$', 401, 1380],\\\n",
    "                       [r'[0-9a-zA-Z]$', 252, 902], [r'[0-9]$', 222, 852], [r'[a-z]$', 222, 852],\\\n",
    "                       [r'[^a-zA-Z]', 213, 879], [r'[^0-9]', 178, 825],\\\n",
    "                       [r'\\D$', 168, 877], [r'\\W', 122, 852] , [r'\\S', 122, 852],\\\n",
    "                       [r'[a-zA-Z]\\s\\w+\\s\\d\\s$', 324, 1295], [r'a(bc){2,5}$', 297, 1472],\\\n",
    "                       [r'\\babc\\b$', 258, 865], [r'abc\\B', 177, 987], [r'\\babc\\B', 247, 928]]"
   ]
  },
  {
   "cell_type": "code",
   "execution_count": null,
   "metadata": {},
   "outputs": [],
   "source": [
    "to_process = []\n",
    "for pattern, py_min_coverage, c_min_coverage in secret_set_of_regex:\n",
    "    grammar = regex_to_CFG(pattern)\n",
    "    to_process.append([pattern, py_min_coverage, c_min_coverage, grammar])"
   ]
  },
  {
   "cell_type": "markdown",
   "metadata": {},
   "source": [
    "Each regex will be evaluated individually, against a minimum precomputed coverage.\n",
    "Plot coverage result and indicate errors.   "
   ]
  },
  {
   "cell_type": "code",
   "execution_count": null,
   "metadata": {
    "code_folding": []
   },
   "outputs": [],
   "source": [
    "def evaluate(grammar, pattern, py_min_coverage, c_min_coverage):\n",
    "    \n",
    "    inputs = generate_inputs(grammar)\n",
    "    ensure_all_valid(pattern, inputs)\n",
    "    \n",
    "    py_all_coverage, c_max_coverage,  py_percent, c_percent = population_coverage(pattern, inputs)    \n",
    "    \n",
    "    return py_all_coverage >= py_min_coverage and c_max_coverage >= c_min_coverage, py_all_coverage, c_max_coverage, py_percent, c_percent"
   ]
  },
  {
   "cell_type": "markdown",
   "metadata": {},
   "source": [
    "Plot coverage result and indicate errors.   "
   ]
  },
  {
   "cell_type": "code",
   "execution_count": null,
   "metadata": {},
   "outputs": [],
   "source": [
    "import numpy as np\n",
    "import matplotlib.pyplot as plt\n",
    "\n",
    "def plot_bar_chart(py_cov_tuple, c_cov_tuple,  py_err, c_err, num_grammars):\n",
    "    \n",
    "    fig, ax = plt.subplots(figsize=(20,10))\n",
    "    index = np.arange(num_grammars)\n",
    "    bar_width = 0.4\n",
    "    opacity = 0.4\n",
    "    error_config = {'ecolor': '0.3'}\n",
    "\n",
    "    rects1 = ax.bar(index, py_cov_tuple, bar_width,\n",
    "                    alpha=opacity, color='b', yerr=py_err,\n",
    "                    error_kw=error_config,\n",
    "                    label='Python Code')\n",
    "\n",
    "    rects2 = ax.bar(index + bar_width, c_cov_tuple, bar_width,\n",
    "                    alpha=opacity, color='r', yerr=c_err,\n",
    "                    error_kw=error_config,\n",
    "                    label='C Code')\n",
    "\n",
    "    ax.set_xlabel('Regex')\n",
    "    ax.set_ylabel('Coverage (LOC)')\n",
    "    ax.set_title('Coverage of Regex by Language (Python & C)')\n",
    "    ax.set_xticks(index + bar_width / 2)\n",
    "    ax.set_xticklabels(('1', '2', '3', '4', '5', '6', '7', '8', '9', '10',\\\n",
    "                       '11', '12', '13', '14', '15', '16', '17', '18', '19', '20',\\\n",
    "                       '21', '22', '23', '24', '25', '26'))\n",
    "    ax.legend()\n",
    "\n",
    "    fig.tight_layout()\n",
    "    plt.show()"
   ]
  },
  {
   "cell_type": "markdown",
   "metadata": {},
   "source": [
    "Final result will be computed accordingly:"
   ]
  },
  {
   "cell_type": "code",
   "execution_count": null,
   "metadata": {},
   "outputs": [],
   "source": [
    "def compute_results():\n",
    "    overall_result, py_cov_list, c_cov_list, py_err, c_err, evaluation_list, failed_regexes = [], [], [], [], [], [], []\n",
    "    \n",
    "    dash = '-' * 98\n",
    "    print(dash)\n",
    "    print('{:<28s}{:>12s}{:>12s}{:>12s}{:>12s}{:>18s}'.format(\"Pattern\", \"Py_cov (LOC)\", \"Py_cov (%)\", \"C_cov (LOC)\", \"C_cov (%)\", \"Pass(1)/Fail(0)\"))\n",
    "    print(dash)\n",
    "\n",
    "    \n",
    "    for pattern, py_min_coverage, c_min_coverage, grammar in to_process:    \n",
    "        evaluation_result, py_all_coverage, c_max_coverage, py_percent, c_percent = evaluate(grammar, pattern, py_min_coverage, c_min_coverage)\n",
    "\n",
    "        py_cov_list.append(py_all_coverage)\n",
    "        c_cov_list.append(c_max_coverage)\n",
    "        evaluation_list.append(evaluation_result)\n",
    "        if py_all_coverage < py_min_coverage:\n",
    "            py_err.append((py_all_coverage - py_min_coverage ))\n",
    "            failed_regexes.append([pattern, \"Py\"])\n",
    "        else:\n",
    "            py_err.append(0)\n",
    "        if c_max_coverage < c_min_coverage:\n",
    "            c_err.append((c_max_coverage - c_min_coverage ))\n",
    "            failed_regexes.append([pattern, \"C\"])\n",
    "        else:\n",
    "            c_err.append(0)\n",
    "\n",
    "        print('{:<28s}{:>12d}{:>12s}{:>12d}{:>12s}{:>12b}'.format(pattern, py_all_coverage, py_percent, c_max_coverage, c_percent, c_max_coverage >= c_min_coverage and  py_all_coverage >= py_min_coverage))\n",
    "\n",
    "        overall_result.append([pattern, evaluation_result])\n",
    "\n",
    "    plot_bar_chart(tuple(py_cov_list), tuple(c_cov_list), tuple(py_err), tuple(c_err), len(to_process))\n",
    "    score = sum(evaluation_list)\n",
    "    print(\"Score: {0}/{1}\\nScore Percentage: {2}%\".format(score,len(evaluation_list), ((score*100)/len(evaluation_list))))\n",
    "    if failed_regexes:\n",
    "        print(\"The following regexes failed the coverage baseline: \", failed_regexes)\n"
   ]
  },
  {
   "cell_type": "code",
   "execution_count": null,
   "metadata": {
    "scrolled": false
   },
   "outputs": [],
   "source": [
    "compute_results()"
   ]
  },
  {
   "cell_type": "code",
   "execution_count": null,
   "metadata": {},
   "outputs": [],
   "source": []
  }
 ],
 "metadata": {
  "kernelspec": {
   "display_name": "Python 3",
   "language": "python",
   "name": "python3"
  },
  "language_info": {
   "codemirror_mode": {
    "name": "ipython",
    "version": 3
   },
   "file_extension": ".py",
   "mimetype": "text/x-python",
   "name": "python",
   "nbconvert_exporter": "python",
   "pygments_lexer": "ipython3",
   "version": "3.6.6"
  },
  "toc": {
   "base_numbering": 1,
   "nav_menu": {},
   "number_sections": true,
   "sideBar": true,
   "skip_h1_title": false,
   "title_cell": "Table of Contents",
   "title_sidebar": "Contents",
   "toc_cell": false,
   "toc_position": {},
   "toc_section_display": true,
   "toc_window_display": true
  },
  "varInspector": {
   "cols": {
    "lenName": 16,
    "lenType": 16,
    "lenVar": 40
   },
   "kernels_config": {
    "python": {
     "delete_cmd_postfix": "",
     "delete_cmd_prefix": "del ",
     "library": "var_list.py",
     "varRefreshCmd": "print(var_dic_list())"
    },
    "r": {
     "delete_cmd_postfix": ") ",
     "delete_cmd_prefix": "rm(",
     "library": "var_list.r",
     "varRefreshCmd": "cat(var_dic_list()) "
    }
   },
   "types_to_exclude": [
    "module",
    "function",
    "builtin_function_or_method",
    "instance",
    "_Feature"
   ],
   "window_display": false
  }
 },
 "nbformat": 4,
 "nbformat_minor": 2
}
