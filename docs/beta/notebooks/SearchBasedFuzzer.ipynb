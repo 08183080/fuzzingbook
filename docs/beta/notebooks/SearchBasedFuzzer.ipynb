{
 "cells": [
  {
   "cell_type": "markdown",
   "metadata": {
    "button": false,
    "new_sheet": false,
    "run_control": {
     "read_only": false
    },
    "slideshow": {
     "slide_type": "slide"
    }
   },
   "source": [
    "# Search-Based Fuzzing\n",
    "\n",
    "Sometimes we are not only interested in fuzzing as many as possible diverse program inputs, but in deriving *specific* test inputs that achieve some objective, such as reaching specific statements in a program. When we have an idea of what we are looking for, then we can *search* for it. Search algorithms are at the core of computer science, but applying classic search algorithms like breadth or depth first search to search for tests is unrealistic, because these algorithms potentially require us to look at all possible inputs. However, domain-knowledge can be used to overcome this problem. For example, if we can estimate which of several program inputs is closer to the one we are looking for, then this information can guide us to reach the target quicker -- this information is known as a *heuristic*. The way heuristics are applied systematically is captured in *meta-heuristic* search algorithms. The \"meta\" denotes that these algorithm are generic and can be instantiated differently to different problems. Meta-heuristics often take inspiration from processes observed in nature. For example, there are algorithms mimicking evolutionary processes, swarm intelligence, or chemical reactions. In general they are much more efficient than exhaustive search approaches such that they can be applied to vast search spaces --- search spaces as vast as the domain of program inputs are no problem for them."
   ]
  },
  {
   "cell_type": "markdown",
   "metadata": {
    "button": false,
    "new_sheet": false,
    "run_control": {
     "read_only": false
    },
    "slideshow": {
     "slide_type": "subslide"
    }
   },
   "source": [
    "**Prerequisites**\n",
    "\n",
    "* You should know how code coverage works, e.g. from the [chapter on coverage](Coverage.ipynb)."
   ]
  },
  {
   "cell_type": "markdown",
   "metadata": {
    "button": false,
    "new_sheet": true,
    "run_control": {
     "read_only": false
    },
    "slideshow": {
     "slide_type": "slide"
    }
   },
   "source": [
    "## Test Generation as a Search Problem\n",
    "\n",
    "If we want to apply a meta-heuristic search algorithm to generate test data for a program, then we have to make several choices: First, we need to decide on what exactly our *search space* is in the first place. The search space is defined by how we *represent* what we are looking for. Are we looking for single integer values? Tuples of values? Objects? XML documents? "
   ]
  },
  {
   "cell_type": "markdown",
   "metadata": {
    "slideshow": {
     "slide_type": "subslide"
    }
   },
   "source": [
    "### Representing program inputs as a search problem\n",
    "\n",
    "The representation is highly dependent on the particular testing problem we are solving --- we know which program we are testing, so the representation needs to encode whatever an input to our target program is. Let's consider the example function `test_me` as our function under test: "
   ]
  },
  {
   "cell_type": "code",
   "execution_count": 1,
   "metadata": {
    "slideshow": {
     "slide_type": "skip"
    }
   },
   "outputs": [],
   "source": [
    "import fuzzingbook_utils"
   ]
  },
  {
   "cell_type": "code",
   "execution_count": 2,
   "metadata": {
    "slideshow": {
     "slide_type": "skip"
    }
   },
   "outputs": [],
   "source": [
    "import Fuzzer"
   ]
  },
  {
   "cell_type": "code",
   "execution_count": 3,
   "metadata": {
    "slideshow": {
     "slide_type": "skip"
    }
   },
   "outputs": [],
   "source": [
    "from fuzzingbook_utils import unicode_escape, terminal_escape"
   ]
  },
  {
   "cell_type": "code",
   "execution_count": 4,
   "metadata": {
    "slideshow": {
     "slide_type": "fragment"
    }
   },
   "outputs": [],
   "source": [
    "def test_me(x, y):\n",
    "    if x == 2 * (y + 1):\n",
    "        return True\n",
    "    else:\n",
    "        return False"
   ]
  },
  {
   "cell_type": "markdown",
   "metadata": {
    "slideshow": {
     "slide_type": "subslide"
    }
   },
   "source": [
    "The `test_me` function has two input parameters, and returns `True` or `False` depending on how the two relate to each other. A test input to `test_me` consists of a pair of values, one for `x` and one for `y`. For example:"
   ]
  },
  {
   "cell_type": "code",
   "execution_count": 5,
   "metadata": {
    "slideshow": {
     "slide_type": "fragment"
    }
   },
   "outputs": [
    {
     "data": {
      "text/plain": [
       "False"
      ]
     },
     "execution_count": 5,
     "metadata": {},
     "output_type": "execute_result"
    }
   ],
   "source": [
    "test_me(0, 0)"
   ]
  },
  {
   "cell_type": "code",
   "execution_count": 6,
   "metadata": {
    "slideshow": {
     "slide_type": "fragment"
    }
   },
   "outputs": [
    {
     "data": {
      "text/plain": [
       "False"
      ]
     },
     "execution_count": 6,
     "metadata": {},
     "output_type": "execute_result"
    }
   ],
   "source": [
    "test_me(4, 2)"
   ]
  },
  {
   "cell_type": "code",
   "execution_count": 7,
   "metadata": {
    "slideshow": {
     "slide_type": "fragment"
    }
   },
   "outputs": [
    {
     "data": {
      "text/plain": [
       "True"
      ]
     },
     "execution_count": 7,
     "metadata": {},
     "output_type": "execute_result"
    }
   ],
   "source": [
    "test_me(22, 10)"
   ]
  },
  {
   "cell_type": "markdown",
   "metadata": {
    "slideshow": {
     "slide_type": "subslide"
    }
   },
   "source": [
    "Our search space is only concerned with inputs, thus a simple representation for test data would be input tuples `(x, y)`. Each point in this input space has eight *neighbours*:\n",
    "\n",
    "- `x-1, y-1`\n",
    "- `x-1, y`\n",
    "- `x-1, y+1`\n",
    "- `x, y+1`\n",
    "- `x+1, y+1`\n",
    "- `x+1, y`\n",
    "- `x, y-1`\n",
    "\n",
    "To keep things simple, let's restrict the size of our search space to start with (we will change this later). For example, let's assume we only want values in the range of -1000 to 1000:"
   ]
  },
  {
   "cell_type": "code",
   "execution_count": 8,
   "metadata": {
    "slideshow": {
     "slide_type": "subslide"
    }
   },
   "outputs": [],
   "source": [
    "MAX = 1000\n",
    "MIN = -MAX"
   ]
  },
  {
   "cell_type": "markdown",
   "metadata": {
    "slideshow": {
     "slide_type": "fragment"
    }
   },
   "source": [
    "To retrieve the neighbours for any point in our search space, we define the function `neighbours`, which implements a basic Moore neighbourhood. That is, we look at all 8 immediate neighbours, while considering the boundaries we just defined with `MAX` and `MIN`:"
   ]
  },
  {
   "cell_type": "code",
   "execution_count": 9,
   "metadata": {
    "slideshow": {
     "slide_type": "fragment"
    }
   },
   "outputs": [],
   "source": [
    "def neighbours(x, y):\n",
    "    return [(x + dx, y + dy) for dx in [-1, 0, 1]\n",
    "            for dy in [-1, 0, 1]\n",
    "            if (dx != 0 or dy != 0)\n",
    "            and ((MIN <= x + dx <= MAX)\n",
    "                 and (MIN <= y + dy <= MAX))]"
   ]
  },
  {
   "cell_type": "code",
   "execution_count": 10,
   "metadata": {
    "slideshow": {
     "slide_type": "fragment"
    }
   },
   "outputs": [
    {
     "name": "stdout",
     "output_type": "stream",
     "text": [
      "[(9, 9), (9, 10), (9, 11), (10, 9), (10, 11), (11, 9), (11, 10), (11, 11)]\n"
     ]
    }
   ],
   "source": [
    "print(neighbours(10, 10))"
   ]
  },
  {
   "cell_type": "markdown",
   "metadata": {
    "slideshow": {
     "slide_type": "subslide"
    }
   },
   "source": [
    "This fully defines our search space: We have a representation, and we know how individuals are related to each other through their neighbourhood. Now we just need to find an algorithm to explore this neighbourhood, and a heuristic that guides the algorithm."
   ]
  },
  {
   "cell_type": "markdown",
   "metadata": {
    "slideshow": {
     "slide_type": "subslide"
    }
   },
   "source": [
    "### Defining a search landscape: Fitness functions\n",
    "\n",
    "All meta-heuristics are based on the use of a heuristic function that estimates how good a given candidate solution is; this \"goodness\" is typically called the *fitness* of an individual, and the heuristic that estimates the fitness is the *fitness function*. The fitness function is a function that maps any point in the search space to a numerical value, the fitness value. The better a candidate solution in the search space with respect to being an optimal solution, the better its fitness value. Thus, if you plot each point in the search space with its fitness value as the height, you get a landscape with the optimal solution represented as the highest peak."
   ]
  },
  {
   "cell_type": "markdown",
   "metadata": {
    "slideshow": {
     "slide_type": "subslide"
    }
   },
   "source": [
    "The fitness function depends on the objective one would like to achieve with generating the test data. Suppose that we are interested in covering the true branch of the if-condition in the `test_me` function, i.e. `x == 2 * (y + 1)`.\n",
    "\n",
    "How close is a given input tuple for this function from reaching the target branch? Let's consider an arbitrary point in the search space, e.g. `(274, 153)`. The if-condition compares the following values:"
   ]
  },
  {
   "cell_type": "code",
   "execution_count": 11,
   "metadata": {
    "slideshow": {
     "slide_type": "fragment"
    }
   },
   "outputs": [
    {
     "data": {
      "text/plain": [
       "(274, 308)"
      ]
     },
     "execution_count": 11,
     "metadata": {},
     "output_type": "execute_result"
    }
   ],
   "source": [
    "x = 274\n",
    "y = 153\n",
    "x, 2 * (y + 1)"
   ]
  },
  {
   "cell_type": "markdown",
   "metadata": {
    "slideshow": {
     "slide_type": "subslide"
    }
   },
   "source": [
    "In order to make the branch true, both values need to be the same. Thus, the more they differ, the further we are away from making the comparison true, and the less they differ, the closer we are from making the comparison true. Thus, we can quantify \"how false\" the comparison is by calculating the difference between `x` and `2 * (y + 1)`. Thus, we can calculate this distance as `abs(x - 2 * (y + 1))`:"
   ]
  },
  {
   "cell_type": "code",
   "execution_count": 12,
   "metadata": {
    "slideshow": {
     "slide_type": "fragment"
    }
   },
   "outputs": [],
   "source": [
    "def calculate_distance(x, y):\n",
    "    return abs(x - 2 * (y + 1))"
   ]
  },
  {
   "cell_type": "code",
   "execution_count": 13,
   "metadata": {
    "slideshow": {
     "slide_type": "fragment"
    }
   },
   "outputs": [
    {
     "data": {
      "text/plain": [
       "34"
      ]
     },
     "execution_count": 13,
     "metadata": {},
     "output_type": "execute_result"
    }
   ],
   "source": [
    "calculate_distance(274, 153)"
   ]
  },
  {
   "cell_type": "markdown",
   "metadata": {
    "slideshow": {
     "slide_type": "subslide"
    }
   },
   "source": [
    "We can use this distance value as out fitness function, since we can nicely measure how close we are to an optimal solution. Note, however, that \"better\" doesn't mean \"bigger\" in this case; the smaller the distance the better. This is not a problem, since any algorithm that can maximize a value can also be made to minimize it instead.\n",
    "\n",
    "For each value in the search space of integer tuples, this distance value defines the elevation in our search landscape. Since our example search space is two-dimensional, the search landscape is three-dimensional and we can plot it to see what it looks like:"
   ]
  },
  {
   "cell_type": "code",
   "execution_count": 14,
   "metadata": {
    "slideshow": {
     "slide_type": "skip"
    }
   },
   "outputs": [],
   "source": [
    "from mpl_toolkits.mplot3d import Axes3D\n",
    "import matplotlib.pyplot as plt\n",
    "import numpy as np"
   ]
  },
  {
   "cell_type": "code",
   "execution_count": 15,
   "metadata": {
    "slideshow": {
     "slide_type": "subslide"
    }
   },
   "outputs": [
    {
     "data": {
      "image/png": "[encoded data removed]",
      "text/plain": [
       "<Figure size 432x288 with 1 Axes>"
      ]
     },
     "metadata": {
      "needs_background": "light"
     },
     "output_type": "display_data"
    }
   ],
   "source": [
    "%matplotlib inline\n",
    "\n",
    "x = np.outer(np.linspace(-10, 10, 30), np.ones(30))\n",
    "y = x.copy().T\n",
    "z = calculate_distance(x, y)\n",
    "\n",
    "fig = plt.figure()\n",
    "ax = plt.axes(projection='3d')\n",
    "\n",
    "ax.plot_surface(x, y, z, cmap=plt.cm.jet, rstride=1, cstride=1, linewidth=0);"
   ]
  },
  {
   "cell_type": "markdown",
   "metadata": {
    "slideshow": {
     "slide_type": "fragment"
    }
   },
   "source": [
    "The optimal values, i.e. those that make the if-condition true, have fitness value 0 and can be clearly seen at the bottom of the plot. The further away from the optimal values, the higher elevated the points in the search space."
   ]
  },
  {
   "cell_type": "markdown",
   "metadata": {
    "slideshow": {
     "slide_type": "subslide"
    }
   },
   "source": [
    "### Instrumentation\n",
    "\n",
    "The fitness function should calculate the distance value for concrete test executions. That is, we want to run the program, and then learn the distance value of this execution. However, the branching condition is hidden within the source code of the target function, and its value may in principle be the result of various calculations along the execution path reaching it. Even though in our example the condition is an equation using the input values of the function directly, this may not be the case in general; it might as well be derived values. Thus, the values we need to calculate our distance metric need to be observed directly at the conditional statement.\n",
    "\n",
    "This is typically done with *instrumentation*: We add new code immediately before or after the branching condition to keep track of the values observed and calculate the distance using these values. The following is an instrumented version of our program under test, which prints out the distance values as it is executed:"
   ]
  },
  {
   "cell_type": "code",
   "execution_count": 16,
   "metadata": {
    "slideshow": {
     "slide_type": "subslide"
    }
   },
   "outputs": [],
   "source": [
    "def test_me_instrumented(x, y):\n",
    "    print(\"Instrumentation: Input = (%d, %d), distance = %d\" %\n",
    "          (x, y, calculate_distance(x, y)))\n",
    "    if x == 2 * (y + 1):\n",
    "        return True\n",
    "    else:\n",
    "        return False"
   ]
  },
  {
   "cell_type": "markdown",
   "metadata": {
    "slideshow": {
     "slide_type": "fragment"
    }
   },
   "source": [
    "Let's try this out for a couple of example values:"
   ]
  },
  {
   "cell_type": "code",
   "execution_count": 17,
   "metadata": {
    "slideshow": {
     "slide_type": "fragment"
    }
   },
   "outputs": [
    {
     "name": "stdout",
     "output_type": "stream",
     "text": [
      "Instrumentation: Input = (0, 0), distance = 2\n"
     ]
    },
    {
     "data": {
      "text/plain": [
       "False"
      ]
     },
     "execution_count": 17,
     "metadata": {},
     "output_type": "execute_result"
    }
   ],
   "source": [
    "test_me_instrumented(0, 0)"
   ]
  },
  {
   "cell_type": "code",
   "execution_count": 18,
   "metadata": {
    "slideshow": {
     "slide_type": "subslide"
    }
   },
   "outputs": [
    {
     "name": "stdout",
     "output_type": "stream",
     "text": [
      "Instrumentation: Input = (5, 2), distance = 1\n"
     ]
    },
    {
     "data": {
      "text/plain": [
       "False"
      ]
     },
     "execution_count": 18,
     "metadata": {},
     "output_type": "execute_result"
    }
   ],
   "source": [
    "test_me_instrumented(5, 2)"
   ]
  },
  {
   "cell_type": "code",
   "execution_count": 19,
   "metadata": {
    "slideshow": {
     "slide_type": "fragment"
    }
   },
   "outputs": [
    {
     "name": "stdout",
     "output_type": "stream",
     "text": [
      "Instrumentation: Input = (22, 10), distance = 0\n"
     ]
    },
    {
     "data": {
      "text/plain": [
       "True"
      ]
     },
     "execution_count": 19,
     "metadata": {},
     "output_type": "execute_result"
    }
   ],
   "source": [
    "test_me_instrumented(22, 10)"
   ]
  },
  {
   "cell_type": "markdown",
   "metadata": {
    "slideshow": {
     "slide_type": "fragment"
    }
   },
   "source": [
    "When calculating a fitness value, we will execute the instrumented program version, but we need some means to access the distance value calculated during that execution. As a simple first solution to this problem, we can just add a global variable and store the value of the distance calculation there. "
   ]
  },
  {
   "cell_type": "code",
   "execution_count": 20,
   "metadata": {
    "slideshow": {
     "slide_type": "fragment"
    }
   },
   "outputs": [],
   "source": [
    "distance = 0"
   ]
  },
  {
   "cell_type": "code",
   "execution_count": 21,
   "metadata": {
    "slideshow": {
     "slide_type": "subslide"
    }
   },
   "outputs": [],
   "source": [
    "def test_me_instrumented(x, y):\n",
    "    global distance\n",
    "    distance = calculate_distance(x, y)\n",
    "    if x == 2 * (y + 1):\n",
    "        return True\n",
    "    else:\n",
    "        return False"
   ]
  },
  {
   "cell_type": "markdown",
   "metadata": {
    "slideshow": {
     "slide_type": "fragment"
    }
   },
   "source": [
    "Using this instrumented version of `test_me`, we can now finally define our fitness function, which simply runs the instrumented `test_me_instrumented` function, and then retrieves the value of the global `distance` variable:"
   ]
  },
  {
   "cell_type": "code",
   "execution_count": 22,
   "metadata": {
    "slideshow": {
     "slide_type": "subslide"
    }
   },
   "outputs": [],
   "source": [
    "def get_fitness(x, y):\n",
    "    global distance\n",
    "    test_me_instrumented(x, y)\n",
    "    fitness = distance\n",
    "    return fitness"
   ]
  },
  {
   "cell_type": "markdown",
   "metadata": {
    "slideshow": {
     "slide_type": "fragment"
    }
   },
   "source": [
    "Let's try this on some example inputs:"
   ]
  },
  {
   "cell_type": "code",
   "execution_count": 23,
   "metadata": {
    "slideshow": {
     "slide_type": "fragment"
    }
   },
   "outputs": [
    {
     "data": {
      "text/plain": [
       "2"
      ]
     },
     "execution_count": 23,
     "metadata": {},
     "output_type": "execute_result"
    }
   ],
   "source": [
    "get_fitness(0, 0)"
   ]
  },
  {
   "cell_type": "code",
   "execution_count": 24,
   "metadata": {
    "slideshow": {
     "slide_type": "fragment"
    }
   },
   "outputs": [
    {
     "data": {
      "text/plain": [
       "5"
      ]
     },
     "execution_count": 24,
     "metadata": {},
     "output_type": "execute_result"
    }
   ],
   "source": [
    "get_fitness(1, 2)"
   ]
  },
  {
   "cell_type": "code",
   "execution_count": 25,
   "metadata": {
    "slideshow": {
     "slide_type": "fragment"
    }
   },
   "outputs": [
    {
     "data": {
      "text/plain": [
       "0"
      ]
     },
     "execution_count": 25,
     "metadata": {},
     "output_type": "execute_result"
    }
   ],
   "source": [
    "get_fitness(22, 10)"
   ]
  },
  {
   "cell_type": "markdown",
   "metadata": {
    "slideshow": {
     "slide_type": "subslide"
    }
   },
   "source": [
    "### Hillclimbing the example\n",
    "\n",
    "Having decided on a representation (2-tuples of integers) and a fitness function (distance to target branch), we can now finally go ahead and implement our search algorithm. Let's explore this search space using the simplest possible meta-heuristic algorithm: Hillclimbing. The metaphor captures aptly what is happening: The algorithm tries to climb a hill in the search space defined by our representation. Except, that in our search landscape the best values are not those high up but down low, so technically we are are descending into valleys.\n",
    "\n",
    "The hillclimbing algorithm itself is very simple: \n",
    "1. Take a random starting point\n",
    "2. Determine fitness value of all neighbours\n",
    "3. Move to neighbour with the best fitness value\n",
    "4. If solution is not found, continue with step 2"
   ]
  },
  {
   "cell_type": "markdown",
   "metadata": {
    "slideshow": {
     "slide_type": "subslide"
    }
   },
   "source": [
    "The hillclimber starts with a random test input, i.e., random values for `x` and `y`. For any pair of random integer numbers, the chances of them satisfying the condition `x == 2 * (y + 1)` are rather slim. Suppose the random values are `(274, 153)`. The right hand side of the equation, `2 * (y + 1)`, evaluates to 308, so the condition is clearly false. Where should the hillclimber go to now? Let's look at the fitness values of this test input and its neighbours:"
   ]
  },
  {
   "cell_type": "code",
   "execution_count": 26,
   "metadata": {
    "slideshow": {
     "slide_type": "subslide"
    }
   },
   "outputs": [
    {
     "name": "stdout",
     "output_type": "stream",
     "text": [
      "Origin 274, 153 has fitness 34\n",
      "Neighbour 273, 152 has fitness 33\n",
      "Neighbour 273, 153 has fitness 35\n",
      "Neighbour 273, 154 has fitness 37\n",
      "Neighbour 274, 152 has fitness 32\n",
      "Neighbour 274, 154 has fitness 36\n",
      "Neighbour 275, 152 has fitness 31\n",
      "Neighbour 275, 153 has fitness 33\n",
      "Neighbour 275, 154 has fitness 35\n"
     ]
    }
   ],
   "source": [
    "x, y = 274, 153\n",
    "print(\"Origin %d, %d has fitness %d\" % (x, y, get_fitness(x, y)))\n",
    "for nx, ny in neighbours(x, y):\n",
    "    print(\"Neighbour %d, %d has fitness %d\" % (nx, ny, get_fitness(nx, ny)))"
   ]
  },
  {
   "cell_type": "markdown",
   "metadata": {
    "slideshow": {
     "slide_type": "subslide"
    }
   },
   "source": [
    "Increasing `y` by one increases the value of the right hand side of the equation to `310`. Thus, the value on the left hand side of the equation thus differs *even more* to the value on the right hand side of the equation than it did before the increase! So, increasing `y` does not seem like a good idea. On the other hand, increasing `x` by one improves things: The left hand side and the right hand side of the equation become more similar; they are \"less unequal\". Thus, out of the eight possible neighbors of `(274, 153)`, the neighbor that increases `x` and decreases `y` (`(275, 152)`) seems best intuitively --- the outcome of the condition is still false, but it is \"less so\" than for the original value."
   ]
  },
  {
   "cell_type": "markdown",
   "metadata": {
    "slideshow": {
     "slide_type": "fragment"
    }
   },
   "source": [
    "Let's now implement the hillcimbing algorithm. "
   ]
  },
  {
   "cell_type": "code",
   "execution_count": 27,
   "metadata": {
    "slideshow": {
     "slide_type": "skip"
    }
   },
   "outputs": [],
   "source": [
    "import random"
   ]
  },
  {
   "cell_type": "code",
   "execution_count": 28,
   "metadata": {
    "slideshow": {
     "slide_type": "subslide"
    }
   },
   "outputs": [],
   "source": [
    "def hillclimber():\n",
    "    # Create and evaluate starting point\n",
    "    x, y = random.randint(MIN, MAX), random.randint(MIN, MAX)\n",
    "    fitness = get_fitness(x, y)\n",
    "    print(\"Initial value: %d, %d at fitness %.4f\" % (x, y, fitness))\n",
    "    iterations = 0\n",
    "\n",
    "    # Stop once we have found an optimal solution\n",
    "    while fitness > 0:\n",
    "        iterations += 1\n",
    "        # Move to first neighbour with a better fitness\n",
    "        for (nextx, nexty) in neighbours(x, y):\n",
    "            new_fitness = get_fitness(nextx, nexty)\n",
    "\n",
    "            # Smaller fitness values are better\n",
    "            if new_fitness < fitness:\n",
    "                x, y = nextx, nexty\n",
    "                fitness = new_fitness\n",
    "                print(\"New value: %d, %d at fitness %.4f\" % (x, y, fitness))\n",
    "                break\n",
    "\n",
    "    print(\"Found optimum after %d iterations at %d, %d\" % (iterations, x, y))"
   ]
  },
  {
   "cell_type": "code",
   "execution_count": 29,
   "metadata": {
    "slideshow": {
     "slide_type": "subslide"
    }
   },
   "outputs": [
    {
     "name": "stdout",
     "output_type": "stream",
     "text": [
      "Initial value: 201, -956 at fitness 2111.0000\n",
      "New value: 200, -956 at fitness 2110.0000\n",
      "New value: 199, -956 at fitness 2109.0000\n",
      "New value: 198, -956 at fitness 2108.0000\n",
      "New value: 197, -956 at fitness 2107.0000\n",
      "New value: 196, -956 at fitness 2106.0000\n",
      "New value: 195, -956 at fitness 2105.0000\n",
      "New value: 194, -956 at fitness 2104.0000\n",
      "New value: 193, -956 at fitness 2103.0000\n",
      "New value: 192, -956 at fitness 2102.0000\n",
      "New value: 191, -956 at fitness 2101.0000\n",
      "New value: 190, -956 at fitness 2100.0000\n",
      "New value: 189, -956 at fitness 2099.0000\n",
      "New value: 188, -956 at fitness 2098.0000\n",
      "New value: 187, -956 at fitness 2097.0000\n",
      "New value: 186, -956 at fitness 2096.0000\n",
      "New value: 185, -956 at fitness 2095.0000\n",
      "New value: 184, -956 at fitness 2094.0000\n",
      "New value: 183, -956 at fitness 2093.0000\n",
      "New value: 182, -956 at fitness 2092.0000\n",
      "New value: 181, -956 at fitness 2091.0000\n",
      "New value: 180, -956 at fitness 2090.0000\n",
      "New value: 179, -956 at fitness 2089.0000\n",
      "New value: 178, -956 at fitness 2088.0000\n",
      "New value: 177, -956 at fitness 2087.0000\n",
      "New value: 176, -956 at fitness 2086.0000\n",
      "New value: 175, -956 at fitness 2085.0000\n",
      "New value: 174, -956 at fitness 2084.0000\n",
      "New value: 173, -956 at fitness 2083.0000\n",
      "New value: 172, -956 at fitness 2082.0000\n",
      "New value: 171, -956 at fitness 2081.0000\n",
      "New value: 170, -956 at fitness 2080.0000\n",
      "New value: 169, -956 at fitness 2079.0000\n",
      "New value: 168, -956 at fitness 2078.0000\n",
      "New value: 167, -956 at fitness 2077.0000\n",
      "New value: 166, -956 at fitness 2076.0000\n",
      "New value: 165, -956 at fitness 2075.0000\n",
      "New value: 164, -956 at fitness 2074.0000\n",
      "New value: 163, -956 at fitness 2073.0000\n",
      "New value: 162, -956 at fitness 2072.0000\n",
      "New value: 161, -956 at fitness 2071.0000\n",
      "New value: 160, -956 at fitness 2070.0000\n",
      "New value: 159, -956 at fitness 2069.0000\n",
      "New value: 158, -956 at fitness 2068.0000\n",
      "New value: 157, -956 at fitness 2067.0000\n",
      "New value: 156, -956 at fitness 2066.0000\n",
      "New value: 155, -956 at fitness 2065.0000\n",
      "New value: 154, -956 at fitness 2064.0000\n",
      "New value: 153, -956 at fitness 2063.0000\n",
      "New value: 152, -956 at fitness 2062.0000\n",
      "New value: 151, -956 at fitness 2061.0000\n",
      "New value: 150, -956 at fitness 2060.0000\n",
      "New value: 149, -956 at fitness 2059.0000\n",
      "New value: 148, -956 at fitness 2058.0000\n",
      "New value: 147, -956 at fitness 2057.0000\n",
      "New value: 146, -956 at fitness 2056.0000\n",
      "New value: 145, -956 at fitness 2055.0000\n",
      "New value: 144, -956 at fitness 2054.0000\n",
      "New value: 143, -956 at fitness 2053.0000\n",
      "New value: 142, -956 at fitness 2052.0000\n",
      "New value: 141, -956 at fitness 2051.0000\n",
      "New value: 140, -956 at fitness 2050.0000\n",
      "New value: 139, -956 at fitness 2049.0000\n",
      "New value: 138, -956 at fitness 2048.0000\n",
      "New value: 137, -956 at fitness 2047.0000\n",
      "New value: 136, -956 at fitness 2046.0000\n",
      "New value: 135, -956 at fitness 2045.0000\n",
      "New value: 134, -956 at fitness 2044.0000\n",
      "New value: 133, -956 at fitness 2043.0000\n",
      "New value: 132, -956 at fitness 2042.0000\n",
      "New value: 131, -956 at fitness 2041.0000\n",
      "New value: 130, -956 at fitness 2040.0000\n",
      "New value: 129, -956 at fitness 2039.0000\n",
      "New value: 128, -956 at fitness 2038.0000\n",
      "New value: 127, -956 at fitness 2037.0000\n",
      "New value: 126, -956 at fitness 2036.0000\n",
      "New value: 125, -956 at fitness 2035.0000\n",
      "New value: 124, -956 at fitness 2034.0000\n",
      "New value: 123, -956 at fitness 2033.0000\n",
      "New value: 122, -956 at fitness 2032.0000\n",
      "New value: 121, -956 at fitness 2031.0000\n",
      "New value: 120, -956 at fitness 2030.0000\n",
      "New value: 119, -956 at fitness 2029.0000\n",
      "New value: 118, -956 at fitness 2028.0000\n",
      "New value: 117, -956 at fitness 2027.0000\n",
      "New value: 116, -956 at fitness 2026.0000\n",
      "New value: 115, -956 at fitness 2025.0000\n",
      "New value: 114, -956 at fitness 2024.0000\n",
      "New value: 113, -956 at fitness 2023.0000\n",
      "New value: 112, -956 at fitness 2022.0000\n",
      "New value: 111, -956 at fitness 2021.0000\n",
      "New value: 110, -956 at fitness 2020.0000\n",
      "New value: 109, -956 at fitness 2019.0000\n",
      "New value: 108, -956 at fitness 2018.0000\n",
      "New value: 107, -956 at fitness 2017.0000\n",
      "New value: 106, -956 at fitness 2016.0000\n",
      "New value: 105, -956 at fitness 2015.0000\n",
      "New value: 104, -956 at fitness 2014.0000\n",
      "New value: 103, -956 at fitness 2013.0000\n",
      "New value: 102, -956 at fitness 2012.0000\n",
      "New value: 101, -956 at fitness 2011.0000\n",
      "New value: 100, -956 at fitness 2010.0000\n",
      "New value: 99, -956 at fitness 2009.0000\n",
      "New value: 98, -956 at fitness 2008.0000\n",
      "New value: 97, -956 at fitness 2007.0000\n",
      "New value: 96, -956 at fitness 2006.0000\n",
      "New value: 95, -956 at fitness 2005.0000\n",
      "New value: 94, -956 at fitness 2004.0000\n",
      "New value: 93, -956 at fitness 2003.0000\n",
      "New value: 92, -956 at fitness 2002.0000\n",
      "New value: 91, -956 at fitness 2001.0000\n",
      "New value: 90, -956 at fitness 2000.0000\n",
      "New value: 89, -956 at fitness 1999.0000\n",
      "New value: 88, -956 at fitness 1998.0000\n",
      "New value: 87, -956 at fitness 1997.0000\n",
      "New value: 86, -956 at fitness 1996.0000\n",
      "New value: 85, -956 at fitness 1995.0000\n",
      "New value: 84, -956 at fitness 1994.0000\n",
      "New value: 83, -956 at fitness 1993.0000\n",
      "New value: 82, -956 at fitness 1992.0000\n",
      "New value: 81, -956 at fitness 1991.0000\n",
      "New value: 80, -956 at fitness 1990.0000\n",
      "New value: 79, -956 at fitness 1989.0000\n",
      "New value: 78, -956 at fitness 1988.0000\n",
      "New value: 77, -956 at fitness 1987.0000\n",
      "New value: 76, -956 at fitness 1986.0000\n",
      "New value: 75, -956 at fitness 1985.0000\n",
      "New value: 74, -956 at fitness 1984.0000\n",
      "New value: 73, -956 at fitness 1983.0000\n",
      "New value: 72, -956 at fitness 1982.0000\n",
      "New value: 71, -956 at fitness 1981.0000\n",
      "New value: 70, -956 at fitness 1980.0000\n",
      "New value: 69, -956 at fitness 1979.0000\n",
      "New value: 68, -956 at fitness 1978.0000\n",
      "New value: 67, -956 at fitness 1977.0000\n",
      "New value: 66, -956 at fitness 1976.0000\n",
      "New value: 65, -956 at fitness 1975.0000\n",
      "New value: 64, -956 at fitness 1974.0000\n",
      "New value: 63, -956 at fitness 1973.0000\n",
      "New value: 62, -956 at fitness 1972.0000\n",
      "New value: 61, -956 at fitness 1971.0000\n",
      "New value: 60, -956 at fitness 1970.0000\n",
      "New value: 59, -956 at fitness 1969.0000\n",
      "New value: 58, -956 at fitness 1968.0000\n",
      "New value: 57, -956 at fitness 1967.0000\n",
      "New value: 56, -956 at fitness 1966.0000\n",
      "New value: 55, -956 at fitness 1965.0000\n",
      "New value: 54, -956 at fitness 1964.0000\n",
      "New value: 53, -956 at fitness 1963.0000\n",
      "New value: 52, -956 at fitness 1962.0000\n",
      "New value: 51, -956 at fitness 1961.0000\n",
      "New value: 50, -956 at fitness 1960.0000\n",
      "New value: 49, -956 at fitness 1959.0000\n",
      "New value: 48, -956 at fitness 1958.0000\n",
      "New value: 47, -956 at fitness 1957.0000\n",
      "New value: 46, -956 at fitness 1956.0000\n",
      "New value: 45, -956 at fitness 1955.0000\n",
      "New value: 44, -956 at fitness 1954.0000\n",
      "New value: 43, -956 at fitness 1953.0000\n",
      "New value: 42, -956 at fitness 1952.0000\n",
      "New value: 41, -956 at fitness 1951.0000\n",
      "New value: 40, -956 at fitness 1950.0000\n",
      "New value: 39, -956 at fitness 1949.0000\n",
      "New value: 38, -956 at fitness 1948.0000\n",
      "New value: 37, -956 at fitness 1947.0000\n",
      "New value: 36, -956 at fitness 1946.0000\n",
      "New value: 35, -956 at fitness 1945.0000\n",
      "New value: 34, -956 at fitness 1944.0000\n",
      "New value: 33, -956 at fitness 1943.0000\n",
      "New value: 32, -956 at fitness 1942.0000\n",
      "New value: 31, -956 at fitness 1941.0000\n",
      "New value: 30, -956 at fitness 1940.0000\n",
      "New value: 29, -956 at fitness 1939.0000\n",
      "New value: 28, -956 at fitness 1938.0000\n",
      "New value: 27, -956 at fitness 1937.0000\n",
      "New value: 26, -956 at fitness 1936.0000\n",
      "New value: 25, -956 at fitness 1935.0000\n",
      "New value: 24, -956 at fitness 1934.0000\n",
      "New value: 23, -956 at fitness 1933.0000\n",
      "New value: 22, -956 at fitness 1932.0000\n",
      "New value: 21, -956 at fitness 1931.0000\n",
      "New value: 20, -956 at fitness 1930.0000\n",
      "New value: 19, -956 at fitness 1929.0000\n",
      "New value: 18, -956 at fitness 1928.0000\n",
      "New value: 17, -956 at fitness 1927.0000\n",
      "New value: 16, -956 at fitness 1926.0000\n",
      "New value: 15, -956 at fitness 1925.0000\n",
      "New value: 14, -956 at fitness 1924.0000\n",
      "New value: 13, -956 at fitness 1923.0000\n",
      "New value: 12, -956 at fitness 1922.0000\n",
      "New value: 11, -956 at fitness 1921.0000\n",
      "New value: 10, -956 at fitness 1920.0000\n",
      "New value: 9, -956 at fitness 1919.0000\n",
      "New value: 8, -956 at fitness 1918.0000\n",
      "New value: 7, -956 at fitness 1917.0000\n",
      "New value: 6, -956 at fitness 1916.0000\n",
      "New value: 5, -956 at fitness 1915.0000\n",
      "New value: 4, -956 at fitness 1914.0000\n",
      "New value: 3, -956 at fitness 1913.0000\n",
      "New value: 2, -956 at fitness 1912.0000\n",
      "New value: 1, -956 at fitness 1911.0000\n",
      "New value: 0, -956 at fitness 1910.0000\n",
      "New value: -1, -956 at fitness 1909.0000\n",
      "New value: -2, -956 at fitness 1908.0000\n",
      "New value: -3, -956 at fitness 1907.0000\n",
      "New value: -4, -956 at fitness 1906.0000\n",
      "New value: -5, -956 at fitness 1905.0000\n",
      "New value: -6, -956 at fitness 1904.0000\n",
      "New value: -7, -956 at fitness 1903.0000\n",
      "New value: -8, -956 at fitness 1902.0000\n",
      "New value: -9, -956 at fitness 1901.0000\n",
      "New value: -10, -956 at fitness 1900.0000\n",
      "New value: -11, -956 at fitness 1899.0000\n",
      "New value: -12, -956 at fitness 1898.0000\n",
      "New value: -13, -956 at fitness 1897.0000\n",
      "New value: -14, -956 at fitness 1896.0000\n",
      "New value: -15, -956 at fitness 1895.0000\n",
      "New value: -16, -956 at fitness 1894.0000\n",
      "New value: -17, -956 at fitness 1893.0000\n",
      "New value: -18, -956 at fitness 1892.0000\n",
      "New value: -19, -956 at fitness 1891.0000\n",
      "New value: -20, -956 at fitness 1890.0000\n",
      "New value: -21, -956 at fitness 1889.0000\n",
      "New value: -22, -956 at fitness 1888.0000\n",
      "New value: -23, -956 at fitness 1887.0000\n",
      "New value: -24, -956 at fitness 1886.0000\n",
      "New value: -25, -956 at fitness 1885.0000\n",
      "New value: -26, -956 at fitness 1884.0000\n",
      "New value: -27, -956 at fitness 1883.0000\n",
      "New value: -28, -956 at fitness 1882.0000\n",
      "New value: -29, -956 at fitness 1881.0000\n",
      "New value: -30, -956 at fitness 1880.0000\n",
      "New value: -31, -956 at fitness 1879.0000\n",
      "New value: -32, -956 at fitness 1878.0000\n",
      "New value: -33, -956 at fitness 1877.0000\n",
      "New value: -34, -956 at fitness 1876.0000\n",
      "New value: -35, -956 at fitness 1875.0000\n",
      "New value: -36, -956 at fitness 1874.0000\n",
      "New value: -37, -956 at fitness 1873.0000\n",
      "New value: -38, -956 at fitness 1872.0000\n",
      "New value: -39, -956 at fitness 1871.0000\n",
      "New value: -40, -956 at fitness 1870.0000\n",
      "New value: -41, -956 at fitness 1869.0000\n",
      "New value: -42, -956 at fitness 1868.0000\n",
      "New value: -43, -956 at fitness 1867.0000\n",
      "New value: -44, -956 at fitness 1866.0000\n",
      "New value: -45, -956 at fitness 1865.0000\n",
      "New value: -46, -956 at fitness 1864.0000\n",
      "New value: -47, -956 at fitness 1863.0000\n",
      "New value: -48, -956 at fitness 1862.0000\n",
      "New value: -49, -956 at fitness 1861.0000\n",
      "New value: -50, -956 at fitness 1860.0000\n",
      "New value: -51, -956 at fitness 1859.0000\n",
      "New value: -52, -956 at fitness 1858.0000\n",
      "New value: -53, -956 at fitness 1857.0000\n",
      "New value: -54, -956 at fitness 1856.0000\n",
      "New value: -55, -956 at fitness 1855.0000\n",
      "New value: -56, -956 at fitness 1854.0000\n",
      "New value: -57, -956 at fitness 1853.0000\n",
      "New value: -58, -956 at fitness 1852.0000\n",
      "New value: -59, -956 at fitness 1851.0000\n",
      "New value: -60, -956 at fitness 1850.0000\n",
      "New value: -61, -956 at fitness 1849.0000\n",
      "New value: -62, -956 at fitness 1848.0000\n",
      "New value: -63, -956 at fitness 1847.0000\n",
      "New value: -64, -956 at fitness 1846.0000\n",
      "New value: -65, -956 at fitness 1845.0000\n",
      "New value: -66, -956 at fitness 1844.0000\n",
      "New value: -67, -956 at fitness 1843.0000\n",
      "New value: -68, -956 at fitness 1842.0000\n",
      "New value: -69, -956 at fitness 1841.0000\n",
      "New value: -70, -956 at fitness 1840.0000\n",
      "New value: -71, -956 at fitness 1839.0000\n",
      "New value: -72, -956 at fitness 1838.0000\n",
      "New value: -73, -956 at fitness 1837.0000\n",
      "New value: -74, -956 at fitness 1836.0000\n",
      "New value: -75, -956 at fitness 1835.0000\n",
      "New value: -76, -956 at fitness 1834.0000\n",
      "New value: -77, -956 at fitness 1833.0000\n",
      "New value: -78, -956 at fitness 1832.0000\n",
      "New value: -79, -956 at fitness 1831.0000\n",
      "New value: -80, -956 at fitness 1830.0000\n",
      "New value: -81, -956 at fitness 1829.0000\n",
      "New value: -82, -956 at fitness 1828.0000\n",
      "New value: -83, -956 at fitness 1827.0000\n",
      "New value: -84, -956 at fitness 1826.0000\n",
      "New value: -85, -956 at fitness 1825.0000\n",
      "New value: -86, -956 at fitness 1824.0000\n",
      "New value: -87, -956 at fitness 1823.0000\n",
      "New value: -88, -956 at fitness 1822.0000\n",
      "New value: -89, -956 at fitness 1821.0000\n",
      "New value: -90, -956 at fitness 1820.0000\n",
      "New value: -91, -956 at fitness 1819.0000\n",
      "New value: -92, -956 at fitness 1818.0000\n",
      "New value: -93, -956 at fitness 1817.0000\n",
      "New value: -94, -956 at fitness 1816.0000\n",
      "New value: -95, -956 at fitness 1815.0000\n",
      "New value: -96, -956 at fitness 1814.0000\n",
      "New value: -97, -956 at fitness 1813.0000\n",
      "New value: -98, -956 at fitness 1812.0000\n",
      "New value: -99, -956 at fitness 1811.0000\n",
      "New value: -100, -956 at fitness 1810.0000\n",
      "New value: -101, -956 at fitness 1809.0000\n",
      "New value: -102, -956 at fitness 1808.0000\n",
      "New value: -103, -956 at fitness 1807.0000\n",
      "New value: -104, -956 at fitness 1806.0000\n",
      "New value: -105, -956 at fitness 1805.0000\n",
      "New value: -106, -956 at fitness 1804.0000\n",
      "New value: -107, -956 at fitness 1803.0000\n",
      "New value: -108, -956 at fitness 1802.0000\n",
      "New value: -109, -956 at fitness 1801.0000\n",
      "New value: -110, -956 at fitness 1800.0000\n",
      "New value: -111, -956 at fitness 1799.0000\n",
      "New value: -112, -956 at fitness 1798.0000\n",
      "New value: -113, -956 at fitness 1797.0000\n",
      "New value: -114, -956 at fitness 1796.0000\n",
      "New value: -115, -956 at fitness 1795.0000\n",
      "New value: -116, -956 at fitness 1794.0000\n",
      "New value: -117, -956 at fitness 1793.0000\n",
      "New value: -118, -956 at fitness 1792.0000\n",
      "New value: -119, -956 at fitness 1791.0000\n",
      "New value: -120, -956 at fitness 1790.0000\n",
      "New value: -121, -956 at fitness 1789.0000\n",
      "New value: -122, -956 at fitness 1788.0000\n",
      "New value: -123, -956 at fitness 1787.0000\n",
      "New value: -124, -956 at fitness 1786.0000\n",
      "New value: -125, -956 at fitness 1785.0000\n",
      "New value: -126, -956 at fitness 1784.0000\n",
      "New value: -127, -956 at fitness 1783.0000\n",
      "New value: -128, -956 at fitness 1782.0000\n",
      "New value: -129, -956 at fitness 1781.0000\n",
      "New value: -130, -956 at fitness 1780.0000\n",
      "New value: -131, -956 at fitness 1779.0000\n",
      "New value: -132, -956 at fitness 1778.0000\n",
      "New value: -133, -956 at fitness 1777.0000\n",
      "New value: -134, -956 at fitness 1776.0000\n",
      "New value: -135, -956 at fitness 1775.0000\n",
      "New value: -136, -956 at fitness 1774.0000\n",
      "New value: -137, -956 at fitness 1773.0000\n",
      "New value: -138, -956 at fitness 1772.0000\n",
      "New value: -139, -956 at fitness 1771.0000\n",
      "New value: -140, -956 at fitness 1770.0000\n",
      "New value: -141, -956 at fitness 1769.0000\n",
      "New value: -142, -956 at fitness 1768.0000\n",
      "New value: -143, -956 at fitness 1767.0000\n",
      "New value: -144, -956 at fitness 1766.0000\n",
      "New value: -145, -956 at fitness 1765.0000\n",
      "New value: -146, -956 at fitness 1764.0000\n",
      "New value: -147, -956 at fitness 1763.0000\n",
      "New value: -148, -956 at fitness 1762.0000\n",
      "New value: -149, -956 at fitness 1761.0000\n",
      "New value: -150, -956 at fitness 1760.0000\n",
      "New value: -151, -956 at fitness 1759.0000\n",
      "New value: -152, -956 at fitness 1758.0000\n",
      "New value: -153, -956 at fitness 1757.0000\n",
      "New value: -154, -956 at fitness 1756.0000\n",
      "New value: -155, -956 at fitness 1755.0000\n",
      "New value: -156, -956 at fitness 1754.0000\n",
      "New value: -157, -956 at fitness 1753.0000\n",
      "New value: -158, -956 at fitness 1752.0000\n",
      "New value: -159, -956 at fitness 1751.0000\n",
      "New value: -160, -956 at fitness 1750.0000\n",
      "New value: -161, -956 at fitness 1749.0000\n",
      "New value: -162, -956 at fitness 1748.0000\n",
      "New value: -163, -956 at fitness 1747.0000\n",
      "New value: -164, -956 at fitness 1746.0000\n",
      "New value: -165, -956 at fitness 1745.0000\n",
      "New value: -166, -956 at fitness 1744.0000\n",
      "New value: -167, -956 at fitness 1743.0000\n",
      "New value: -168, -956 at fitness 1742.0000\n",
      "New value: -169, -956 at fitness 1741.0000\n",
      "New value: -170, -956 at fitness 1740.0000\n",
      "New value: -171, -956 at fitness 1739.0000\n",
      "New value: -172, -956 at fitness 1738.0000\n",
      "New value: -173, -956 at fitness 1737.0000\n",
      "New value: -174, -956 at fitness 1736.0000\n",
      "New value: -175, -956 at fitness 1735.0000\n",
      "New value: -176, -956 at fitness 1734.0000\n",
      "New value: -177, -956 at fitness 1733.0000\n",
      "New value: -178, -956 at fitness 1732.0000\n",
      "New value: -179, -956 at fitness 1731.0000\n",
      "New value: -180, -956 at fitness 1730.0000\n",
      "New value: -181, -956 at fitness 1729.0000\n",
      "New value: -182, -956 at fitness 1728.0000\n",
      "New value: -183, -956 at fitness 1727.0000\n",
      "New value: -184, -956 at fitness 1726.0000\n",
      "New value: -185, -956 at fitness 1725.0000\n",
      "New value: -186, -956 at fitness 1724.0000\n",
      "New value: -187, -956 at fitness 1723.0000\n",
      "New value: -188, -956 at fitness 1722.0000\n",
      "New value: -189, -956 at fitness 1721.0000\n",
      "New value: -190, -956 at fitness 1720.0000\n",
      "New value: -191, -956 at fitness 1719.0000\n",
      "New value: -192, -956 at fitness 1718.0000\n",
      "New value: -193, -956 at fitness 1717.0000\n",
      "New value: -194, -956 at fitness 1716.0000\n",
      "New value: -195, -956 at fitness 1715.0000\n",
      "New value: -196, -956 at fitness 1714.0000\n",
      "New value: -197, -956 at fitness 1713.0000\n",
      "New value: -198, -956 at fitness 1712.0000\n",
      "New value: -199, -956 at fitness 1711.0000\n",
      "New value: -200, -956 at fitness 1710.0000\n",
      "New value: -201, -956 at fitness 1709.0000\n",
      "New value: -202, -956 at fitness 1708.0000\n",
      "New value: -203, -956 at fitness 1707.0000\n",
      "New value: -204, -956 at fitness 1706.0000\n",
      "New value: -205, -956 at fitness 1705.0000\n",
      "New value: -206, -956 at fitness 1704.0000\n",
      "New value: -207, -956 at fitness 1703.0000\n",
      "New value: -208, -956 at fitness 1702.0000\n",
      "New value: -209, -956 at fitness 1701.0000\n",
      "New value: -210, -956 at fitness 1700.0000\n",
      "New value: -211, -956 at fitness 1699.0000\n",
      "New value: -212, -956 at fitness 1698.0000\n",
      "New value: -213, -956 at fitness 1697.0000\n",
      "New value: -214, -956 at fitness 1696.0000\n",
      "New value: -215, -956 at fitness 1695.0000\n",
      "New value: -216, -956 at fitness 1694.0000\n",
      "New value: -217, -956 at fitness 1693.0000\n",
      "New value: -218, -956 at fitness 1692.0000\n",
      "New value: -219, -956 at fitness 1691.0000\n",
      "New value: -220, -956 at fitness 1690.0000\n",
      "New value: -221, -956 at fitness 1689.0000\n",
      "New value: -222, -956 at fitness 1688.0000\n",
      "New value: -223, -956 at fitness 1687.0000\n",
      "New value: -224, -956 at fitness 1686.0000\n",
      "New value: -225, -956 at fitness 1685.0000\n",
      "New value: -226, -956 at fitness 1684.0000\n",
      "New value: -227, -956 at fitness 1683.0000\n",
      "New value: -228, -956 at fitness 1682.0000\n",
      "New value: -229, -956 at fitness 1681.0000\n",
      "New value: -230, -956 at fitness 1680.0000\n",
      "New value: -231, -956 at fitness 1679.0000\n",
      "New value: -232, -956 at fitness 1678.0000\n",
      "New value: -233, -956 at fitness 1677.0000\n",
      "New value: -234, -956 at fitness 1676.0000\n",
      "New value: -235, -956 at fitness 1675.0000\n",
      "New value: -236, -956 at fitness 1674.0000\n",
      "New value: -237, -956 at fitness 1673.0000\n",
      "New value: -238, -956 at fitness 1672.0000\n",
      "New value: -239, -956 at fitness 1671.0000\n",
      "New value: -240, -956 at fitness 1670.0000\n",
      "New value: -241, -956 at fitness 1669.0000\n",
      "New value: -242, -956 at fitness 1668.0000\n",
      "New value: -243, -956 at fitness 1667.0000\n",
      "New value: -244, -956 at fitness 1666.0000\n",
      "New value: -245, -956 at fitness 1665.0000\n",
      "New value: -246, -956 at fitness 1664.0000\n",
      "New value: -247, -956 at fitness 1663.0000\n",
      "New value: -248, -956 at fitness 1662.0000\n",
      "New value: -249, -956 at fitness 1661.0000\n",
      "New value: -250, -956 at fitness 1660.0000\n",
      "New value: -251, -956 at fitness 1659.0000\n",
      "New value: -252, -956 at fitness 1658.0000\n",
      "New value: -253, -956 at fitness 1657.0000\n",
      "New value: -254, -956 at fitness 1656.0000\n",
      "New value: -255, -956 at fitness 1655.0000\n",
      "New value: -256, -956 at fitness 1654.0000\n",
      "New value: -257, -956 at fitness 1653.0000\n",
      "New value: -258, -956 at fitness 1652.0000\n",
      "New value: -259, -956 at fitness 1651.0000\n",
      "New value: -260, -956 at fitness 1650.0000\n",
      "New value: -261, -956 at fitness 1649.0000\n",
      "New value: -262, -956 at fitness 1648.0000\n",
      "New value: -263, -956 at fitness 1647.0000\n",
      "New value: -264, -956 at fitness 1646.0000\n",
      "New value: -265, -956 at fitness 1645.0000\n",
      "New value: -266, -956 at fitness 1644.0000\n",
      "New value: -267, -956 at fitness 1643.0000\n",
      "New value: -268, -956 at fitness 1642.0000\n",
      "New value: -269, -956 at fitness 1641.0000\n",
      "New value: -270, -956 at fitness 1640.0000\n",
      "New value: -271, -956 at fitness 1639.0000\n",
      "New value: -272, -956 at fitness 1638.0000\n",
      "New value: -273, -956 at fitness 1637.0000\n",
      "New value: -274, -956 at fitness 1636.0000\n",
      "New value: -275, -956 at fitness 1635.0000\n",
      "New value: -276, -956 at fitness 1634.0000\n",
      "New value: -277, -956 at fitness 1633.0000\n",
      "New value: -278, -956 at fitness 1632.0000\n",
      "New value: -279, -956 at fitness 1631.0000\n",
      "New value: -280, -956 at fitness 1630.0000\n",
      "New value: -281, -956 at fitness 1629.0000\n",
      "New value: -282, -956 at fitness 1628.0000\n",
      "New value: -283, -956 at fitness 1627.0000\n",
      "New value: -284, -956 at fitness 1626.0000\n",
      "New value: -285, -956 at fitness 1625.0000\n",
      "New value: -286, -956 at fitness 1624.0000\n",
      "New value: -287, -956 at fitness 1623.0000\n",
      "New value: -288, -956 at fitness 1622.0000\n",
      "New value: -289, -956 at fitness 1621.0000\n",
      "New value: -290, -956 at fitness 1620.0000\n",
      "New value: -291, -956 at fitness 1619.0000\n",
      "New value: -292, -956 at fitness 1618.0000\n",
      "New value: -293, -956 at fitness 1617.0000\n",
      "New value: -294, -956 at fitness 1616.0000\n",
      "New value: -295, -956 at fitness 1615.0000\n",
      "New value: -296, -956 at fitness 1614.0000\n",
      "New value: -297, -956 at fitness 1613.0000\n",
      "New value: -298, -956 at fitness 1612.0000\n",
      "New value: -299, -956 at fitness 1611.0000\n",
      "New value: -300, -956 at fitness 1610.0000\n",
      "New value: -301, -956 at fitness 1609.0000\n",
      "New value: -302, -956 at fitness 1608.0000\n",
      "New value: -303, -956 at fitness 1607.0000\n",
      "New value: -304, -956 at fitness 1606.0000\n",
      "New value: -305, -956 at fitness 1605.0000\n",
      "New value: -306, -956 at fitness 1604.0000\n",
      "New value: -307, -956 at fitness 1603.0000\n",
      "New value: -308, -956 at fitness 1602.0000\n",
      "New value: -309, -956 at fitness 1601.0000\n",
      "New value: -310, -956 at fitness 1600.0000\n",
      "New value: -311, -956 at fitness 1599.0000\n",
      "New value: -312, -956 at fitness 1598.0000\n",
      "New value: -313, -956 at fitness 1597.0000\n",
      "New value: -314, -956 at fitness 1596.0000\n",
      "New value: -315, -956 at fitness 1595.0000\n",
      "New value: -316, -956 at fitness 1594.0000\n",
      "New value: -317, -956 at fitness 1593.0000\n",
      "New value: -318, -956 at fitness 1592.0000\n",
      "New value: -319, -956 at fitness 1591.0000\n",
      "New value: -320, -956 at fitness 1590.0000\n",
      "New value: -321, -956 at fitness 1589.0000\n",
      "New value: -322, -956 at fitness 1588.0000\n",
      "New value: -323, -956 at fitness 1587.0000\n",
      "New value: -324, -956 at fitness 1586.0000\n",
      "New value: -325, -956 at fitness 1585.0000\n",
      "New value: -326, -956 at fitness 1584.0000\n",
      "New value: -327, -956 at fitness 1583.0000\n",
      "New value: -328, -956 at fitness 1582.0000\n",
      "New value: -329, -956 at fitness 1581.0000\n",
      "New value: -330, -956 at fitness 1580.0000\n",
      "New value: -331, -956 at fitness 1579.0000\n",
      "New value: -332, -956 at fitness 1578.0000\n",
      "New value: -333, -956 at fitness 1577.0000\n",
      "New value: -334, -956 at fitness 1576.0000\n",
      "New value: -335, -956 at fitness 1575.0000\n",
      "New value: -336, -956 at fitness 1574.0000\n",
      "New value: -337, -956 at fitness 1573.0000\n",
      "New value: -338, -956 at fitness 1572.0000\n",
      "New value: -339, -956 at fitness 1571.0000\n",
      "New value: -340, -956 at fitness 1570.0000\n",
      "New value: -341, -956 at fitness 1569.0000\n",
      "New value: -342, -956 at fitness 1568.0000\n",
      "New value: -343, -956 at fitness 1567.0000\n",
      "New value: -344, -956 at fitness 1566.0000\n",
      "New value: -345, -956 at fitness 1565.0000\n",
      "New value: -346, -956 at fitness 1564.0000\n",
      "New value: -347, -956 at fitness 1563.0000\n",
      "New value: -348, -956 at fitness 1562.0000\n",
      "New value: -349, -956 at fitness 1561.0000\n",
      "New value: -350, -956 at fitness 1560.0000\n",
      "New value: -351, -956 at fitness 1559.0000\n",
      "New value: -352, -956 at fitness 1558.0000\n",
      "New value: -353, -956 at fitness 1557.0000\n",
      "New value: -354, -956 at fitness 1556.0000\n",
      "New value: -355, -956 at fitness 1555.0000\n",
      "New value: -356, -956 at fitness 1554.0000\n",
      "New value: -357, -956 at fitness 1553.0000\n",
      "New value: -358, -956 at fitness 1552.0000\n",
      "New value: -359, -956 at fitness 1551.0000\n",
      "New value: -360, -956 at fitness 1550.0000\n",
      "New value: -361, -956 at fitness 1549.0000\n",
      "New value: -362, -956 at fitness 1548.0000\n",
      "New value: -363, -956 at fitness 1547.0000\n",
      "New value: -364, -956 at fitness 1546.0000\n",
      "New value: -365, -956 at fitness 1545.0000\n",
      "New value: -366, -956 at fitness 1544.0000\n",
      "New value: -367, -956 at fitness 1543.0000\n",
      "New value: -368, -956 at fitness 1542.0000\n",
      "New value: -369, -956 at fitness 1541.0000\n",
      "New value: -370, -956 at fitness 1540.0000\n",
      "New value: -371, -956 at fitness 1539.0000\n",
      "New value: -372, -956 at fitness 1538.0000\n",
      "New value: -373, -956 at fitness 1537.0000\n",
      "New value: -374, -956 at fitness 1536.0000\n",
      "New value: -375, -956 at fitness 1535.0000\n",
      "New value: -376, -956 at fitness 1534.0000\n",
      "New value: -377, -956 at fitness 1533.0000\n",
      "New value: -378, -956 at fitness 1532.0000\n",
      "New value: -379, -956 at fitness 1531.0000\n",
      "New value: -380, -956 at fitness 1530.0000\n",
      "New value: -381, -956 at fitness 1529.0000\n",
      "New value: -382, -956 at fitness 1528.0000\n",
      "New value: -383, -956 at fitness 1527.0000\n",
      "New value: -384, -956 at fitness 1526.0000\n",
      "New value: -385, -956 at fitness 1525.0000\n",
      "New value: -386, -956 at fitness 1524.0000\n",
      "New value: -387, -956 at fitness 1523.0000\n",
      "New value: -388, -956 at fitness 1522.0000\n",
      "New value: -389, -956 at fitness 1521.0000\n",
      "New value: -390, -956 at fitness 1520.0000\n",
      "New value: -391, -956 at fitness 1519.0000\n",
      "New value: -392, -956 at fitness 1518.0000\n",
      "New value: -393, -956 at fitness 1517.0000\n",
      "New value: -394, -956 at fitness 1516.0000\n",
      "New value: -395, -956 at fitness 1515.0000\n",
      "New value: -396, -956 at fitness 1514.0000\n",
      "New value: -397, -956 at fitness 1513.0000\n",
      "New value: -398, -956 at fitness 1512.0000\n",
      "New value: -399, -956 at fitness 1511.0000\n",
      "New value: -400, -956 at fitness 1510.0000\n",
      "New value: -401, -956 at fitness 1509.0000\n",
      "New value: -402, -956 at fitness 1508.0000\n",
      "New value: -403, -956 at fitness 1507.0000\n",
      "New value: -404, -956 at fitness 1506.0000\n",
      "New value: -405, -956 at fitness 1505.0000\n",
      "New value: -406, -956 at fitness 1504.0000\n",
      "New value: -407, -956 at fitness 1503.0000\n",
      "New value: -408, -956 at fitness 1502.0000\n",
      "New value: -409, -956 at fitness 1501.0000\n",
      "New value: -410, -956 at fitness 1500.0000\n",
      "New value: -411, -956 at fitness 1499.0000\n",
      "New value: -412, -956 at fitness 1498.0000\n",
      "New value: -413, -956 at fitness 1497.0000\n",
      "New value: -414, -956 at fitness 1496.0000\n",
      "New value: -415, -956 at fitness 1495.0000\n",
      "New value: -416, -956 at fitness 1494.0000\n",
      "New value: -417, -956 at fitness 1493.0000\n",
      "New value: -418, -956 at fitness 1492.0000\n",
      "New value: -419, -956 at fitness 1491.0000\n",
      "New value: -420, -956 at fitness 1490.0000\n",
      "New value: -421, -956 at fitness 1489.0000\n",
      "New value: -422, -956 at fitness 1488.0000\n",
      "New value: -423, -956 at fitness 1487.0000\n",
      "New value: -424, -956 at fitness 1486.0000\n",
      "New value: -425, -956 at fitness 1485.0000\n",
      "New value: -426, -956 at fitness 1484.0000\n",
      "New value: -427, -956 at fitness 1483.0000\n",
      "New value: -428, -956 at fitness 1482.0000\n",
      "New value: -429, -956 at fitness 1481.0000\n",
      "New value: -430, -956 at fitness 1480.0000\n",
      "New value: -431, -956 at fitness 1479.0000\n",
      "New value: -432, -956 at fitness 1478.0000\n",
      "New value: -433, -956 at fitness 1477.0000\n",
      "New value: -434, -956 at fitness 1476.0000\n",
      "New value: -435, -956 at fitness 1475.0000\n",
      "New value: -436, -956 at fitness 1474.0000\n",
      "New value: -437, -956 at fitness 1473.0000\n",
      "New value: -438, -956 at fitness 1472.0000\n",
      "New value: -439, -956 at fitness 1471.0000\n",
      "New value: -440, -956 at fitness 1470.0000\n",
      "New value: -441, -956 at fitness 1469.0000\n",
      "New value: -442, -956 at fitness 1468.0000\n",
      "New value: -443, -956 at fitness 1467.0000\n",
      "New value: -444, -956 at fitness 1466.0000\n",
      "New value: -445, -956 at fitness 1465.0000\n",
      "New value: -446, -956 at fitness 1464.0000\n",
      "New value: -447, -956 at fitness 1463.0000\n",
      "New value: -448, -956 at fitness 1462.0000\n",
      "New value: -449, -956 at fitness 1461.0000\n",
      "New value: -450, -956 at fitness 1460.0000\n",
      "New value: -451, -956 at fitness 1459.0000\n",
      "New value: -452, -956 at fitness 1458.0000\n",
      "New value: -453, -956 at fitness 1457.0000\n",
      "New value: -454, -956 at fitness 1456.0000\n",
      "New value: -455, -956 at fitness 1455.0000\n",
      "New value: -456, -956 at fitness 1454.0000\n",
      "New value: -457, -956 at fitness 1453.0000\n",
      "New value: -458, -956 at fitness 1452.0000\n",
      "New value: -459, -956 at fitness 1451.0000\n",
      "New value: -460, -956 at fitness 1450.0000\n",
      "New value: -461, -956 at fitness 1449.0000\n",
      "New value: -462, -956 at fitness 1448.0000\n",
      "New value: -463, -956 at fitness 1447.0000\n",
      "New value: -464, -956 at fitness 1446.0000\n",
      "New value: -465, -956 at fitness 1445.0000\n",
      "New value: -466, -956 at fitness 1444.0000\n",
      "New value: -467, -956 at fitness 1443.0000\n",
      "New value: -468, -956 at fitness 1442.0000\n",
      "New value: -469, -956 at fitness 1441.0000\n",
      "New value: -470, -956 at fitness 1440.0000\n",
      "New value: -471, -956 at fitness 1439.0000\n",
      "New value: -472, -956 at fitness 1438.0000\n",
      "New value: -473, -956 at fitness 1437.0000\n",
      "New value: -474, -956 at fitness 1436.0000\n",
      "New value: -475, -956 at fitness 1435.0000\n",
      "New value: -476, -956 at fitness 1434.0000\n",
      "New value: -477, -956 at fitness 1433.0000\n",
      "New value: -478, -956 at fitness 1432.0000\n",
      "New value: -479, -956 at fitness 1431.0000\n",
      "New value: -480, -956 at fitness 1430.0000\n",
      "New value: -481, -956 at fitness 1429.0000\n",
      "New value: -482, -956 at fitness 1428.0000\n",
      "New value: -483, -956 at fitness 1427.0000\n",
      "New value: -484, -956 at fitness 1426.0000\n",
      "New value: -485, -956 at fitness 1425.0000\n",
      "New value: -486, -956 at fitness 1424.0000\n",
      "New value: -487, -956 at fitness 1423.0000\n",
      "New value: -488, -956 at fitness 1422.0000\n",
      "New value: -489, -956 at fitness 1421.0000\n",
      "New value: -490, -956 at fitness 1420.0000\n",
      "New value: -491, -956 at fitness 1419.0000\n",
      "New value: -492, -956 at fitness 1418.0000\n",
      "New value: -493, -956 at fitness 1417.0000\n",
      "New value: -494, -956 at fitness 1416.0000\n",
      "New value: -495, -956 at fitness 1415.0000\n",
      "New value: -496, -956 at fitness 1414.0000\n",
      "New value: -497, -956 at fitness 1413.0000\n",
      "New value: -498, -956 at fitness 1412.0000\n",
      "New value: -499, -956 at fitness 1411.0000\n",
      "New value: -500, -956 at fitness 1410.0000\n",
      "New value: -501, -956 at fitness 1409.0000\n",
      "New value: -502, -956 at fitness 1408.0000\n",
      "New value: -503, -956 at fitness 1407.0000\n",
      "New value: -504, -956 at fitness 1406.0000\n",
      "New value: -505, -956 at fitness 1405.0000\n",
      "New value: -506, -956 at fitness 1404.0000\n",
      "New value: -507, -956 at fitness 1403.0000\n",
      "New value: -508, -956 at fitness 1402.0000\n",
      "New value: -509, -956 at fitness 1401.0000\n",
      "New value: -510, -956 at fitness 1400.0000\n",
      "New value: -511, -956 at fitness 1399.0000\n",
      "New value: -512, -956 at fitness 1398.0000\n",
      "New value: -513, -956 at fitness 1397.0000\n",
      "New value: -514, -956 at fitness 1396.0000\n",
      "New value: -515, -956 at fitness 1395.0000\n",
      "New value: -516, -956 at fitness 1394.0000\n",
      "New value: -517, -956 at fitness 1393.0000\n",
      "New value: -518, -956 at fitness 1392.0000\n",
      "New value: -519, -956 at fitness 1391.0000\n",
      "New value: -520, -956 at fitness 1390.0000\n",
      "New value: -521, -956 at fitness 1389.0000\n",
      "New value: -522, -956 at fitness 1388.0000\n",
      "New value: -523, -956 at fitness 1387.0000\n",
      "New value: -524, -956 at fitness 1386.0000\n",
      "New value: -525, -956 at fitness 1385.0000\n",
      "New value: -526, -956 at fitness 1384.0000\n",
      "New value: -527, -956 at fitness 1383.0000\n",
      "New value: -528, -956 at fitness 1382.0000\n",
      "New value: -529, -956 at fitness 1381.0000\n",
      "New value: -530, -956 at fitness 1380.0000\n",
      "New value: -531, -956 at fitness 1379.0000\n",
      "New value: -532, -956 at fitness 1378.0000\n",
      "New value: -533, -956 at fitness 1377.0000\n",
      "New value: -534, -956 at fitness 1376.0000\n",
      "New value: -535, -956 at fitness 1375.0000\n",
      "New value: -536, -956 at fitness 1374.0000\n",
      "New value: -537, -956 at fitness 1373.0000\n",
      "New value: -538, -956 at fitness 1372.0000\n",
      "New value: -539, -956 at fitness 1371.0000\n",
      "New value: -540, -956 at fitness 1370.0000\n",
      "New value: -541, -956 at fitness 1369.0000\n",
      "New value: -542, -956 at fitness 1368.0000\n",
      "New value: -543, -956 at fitness 1367.0000\n",
      "New value: -544, -956 at fitness 1366.0000\n",
      "New value: -545, -956 at fitness 1365.0000\n",
      "New value: -546, -956 at fitness 1364.0000\n",
      "New value: -547, -956 at fitness 1363.0000\n",
      "New value: -548, -956 at fitness 1362.0000\n",
      "New value: -549, -956 at fitness 1361.0000\n",
      "New value: -550, -956 at fitness 1360.0000\n",
      "New value: -551, -956 at fitness 1359.0000\n",
      "New value: -552, -956 at fitness 1358.0000\n",
      "New value: -553, -956 at fitness 1357.0000\n",
      "New value: -554, -956 at fitness 1356.0000\n",
      "New value: -555, -956 at fitness 1355.0000\n",
      "New value: -556, -956 at fitness 1354.0000\n",
      "New value: -557, -956 at fitness 1353.0000\n",
      "New value: -558, -956 at fitness 1352.0000\n",
      "New value: -559, -956 at fitness 1351.0000\n",
      "New value: -560, -956 at fitness 1350.0000\n",
      "New value: -561, -956 at fitness 1349.0000\n",
      "New value: -562, -956 at fitness 1348.0000\n",
      "New value: -563, -956 at fitness 1347.0000\n",
      "New value: -564, -956 at fitness 1346.0000\n",
      "New value: -565, -956 at fitness 1345.0000\n",
      "New value: -566, -956 at fitness 1344.0000\n",
      "New value: -567, -956 at fitness 1343.0000\n",
      "New value: -568, -956 at fitness 1342.0000\n",
      "New value: -569, -956 at fitness 1341.0000\n",
      "New value: -570, -956 at fitness 1340.0000\n",
      "New value: -571, -956 at fitness 1339.0000\n",
      "New value: -572, -956 at fitness 1338.0000\n",
      "New value: -573, -956 at fitness 1337.0000\n",
      "New value: -574, -956 at fitness 1336.0000\n",
      "New value: -575, -956 at fitness 1335.0000\n",
      "New value: -576, -956 at fitness 1334.0000\n",
      "New value: -577, -956 at fitness 1333.0000\n",
      "New value: -578, -956 at fitness 1332.0000\n",
      "New value: -579, -956 at fitness 1331.0000\n",
      "New value: -580, -956 at fitness 1330.0000\n",
      "New value: -581, -956 at fitness 1329.0000\n",
      "New value: -582, -956 at fitness 1328.0000\n",
      "New value: -583, -956 at fitness 1327.0000\n",
      "New value: -584, -956 at fitness 1326.0000\n",
      "New value: -585, -956 at fitness 1325.0000\n",
      "New value: -586, -956 at fitness 1324.0000\n",
      "New value: -587, -956 at fitness 1323.0000\n",
      "New value: -588, -956 at fitness 1322.0000\n",
      "New value: -589, -956 at fitness 1321.0000\n",
      "New value: -590, -956 at fitness 1320.0000\n",
      "New value: -591, -956 at fitness 1319.0000\n",
      "New value: -592, -956 at fitness 1318.0000\n",
      "New value: -593, -956 at fitness 1317.0000\n",
      "New value: -594, -956 at fitness 1316.0000\n",
      "New value: -595, -956 at fitness 1315.0000\n",
      "New value: -596, -956 at fitness 1314.0000\n",
      "New value: -597, -956 at fitness 1313.0000\n",
      "New value: -598, -956 at fitness 1312.0000\n",
      "New value: -599, -956 at fitness 1311.0000\n",
      "New value: -600, -956 at fitness 1310.0000\n",
      "New value: -601, -956 at fitness 1309.0000\n",
      "New value: -602, -956 at fitness 1308.0000\n",
      "New value: -603, -956 at fitness 1307.0000\n",
      "New value: -604, -956 at fitness 1306.0000\n",
      "New value: -605, -956 at fitness 1305.0000\n",
      "New value: -606, -956 at fitness 1304.0000\n",
      "New value: -607, -956 at fitness 1303.0000\n",
      "New value: -608, -956 at fitness 1302.0000\n",
      "New value: -609, -956 at fitness 1301.0000\n",
      "New value: -610, -956 at fitness 1300.0000\n",
      "New value: -611, -956 at fitness 1299.0000\n",
      "New value: -612, -956 at fitness 1298.0000\n",
      "New value: -613, -956 at fitness 1297.0000\n",
      "New value: -614, -956 at fitness 1296.0000\n",
      "New value: -615, -956 at fitness 1295.0000\n",
      "New value: -616, -956 at fitness 1294.0000\n",
      "New value: -617, -956 at fitness 1293.0000\n",
      "New value: -618, -956 at fitness 1292.0000\n",
      "New value: -619, -956 at fitness 1291.0000\n",
      "New value: -620, -956 at fitness 1290.0000\n",
      "New value: -621, -956 at fitness 1289.0000\n",
      "New value: -622, -956 at fitness 1288.0000\n",
      "New value: -623, -956 at fitness 1287.0000\n",
      "New value: -624, -956 at fitness 1286.0000\n",
      "New value: -625, -956 at fitness 1285.0000\n",
      "New value: -626, -956 at fitness 1284.0000\n",
      "New value: -627, -956 at fitness 1283.0000\n",
      "New value: -628, -956 at fitness 1282.0000\n",
      "New value: -629, -956 at fitness 1281.0000\n",
      "New value: -630, -956 at fitness 1280.0000\n",
      "New value: -631, -956 at fitness 1279.0000\n",
      "New value: -632, -956 at fitness 1278.0000\n",
      "New value: -633, -956 at fitness 1277.0000\n",
      "New value: -634, -956 at fitness 1276.0000\n",
      "New value: -635, -956 at fitness 1275.0000\n",
      "New value: -636, -956 at fitness 1274.0000\n",
      "New value: -637, -956 at fitness 1273.0000\n",
      "New value: -638, -956 at fitness 1272.0000\n",
      "New value: -639, -956 at fitness 1271.0000\n",
      "New value: -640, -956 at fitness 1270.0000\n",
      "New value: -641, -956 at fitness 1269.0000\n",
      "New value: -642, -956 at fitness 1268.0000\n",
      "New value: -643, -956 at fitness 1267.0000\n",
      "New value: -644, -956 at fitness 1266.0000\n",
      "New value: -645, -956 at fitness 1265.0000\n",
      "New value: -646, -956 at fitness 1264.0000\n",
      "New value: -647, -956 at fitness 1263.0000\n",
      "New value: -648, -956 at fitness 1262.0000\n",
      "New value: -649, -956 at fitness 1261.0000\n",
      "New value: -650, -956 at fitness 1260.0000\n",
      "New value: -651, -956 at fitness 1259.0000\n",
      "New value: -652, -956 at fitness 1258.0000\n",
      "New value: -653, -956 at fitness 1257.0000\n",
      "New value: -654, -956 at fitness 1256.0000\n",
      "New value: -655, -956 at fitness 1255.0000\n",
      "New value: -656, -956 at fitness 1254.0000\n",
      "New value: -657, -956 at fitness 1253.0000\n",
      "New value: -658, -956 at fitness 1252.0000\n",
      "New value: -659, -956 at fitness 1251.0000\n",
      "New value: -660, -956 at fitness 1250.0000\n",
      "New value: -661, -956 at fitness 1249.0000\n",
      "New value: -662, -956 at fitness 1248.0000\n",
      "New value: -663, -956 at fitness 1247.0000\n",
      "New value: -664, -956 at fitness 1246.0000\n",
      "New value: -665, -956 at fitness 1245.0000\n",
      "New value: -666, -956 at fitness 1244.0000\n",
      "New value: -667, -956 at fitness 1243.0000\n",
      "New value: -668, -956 at fitness 1242.0000\n",
      "New value: -669, -956 at fitness 1241.0000\n",
      "New value: -670, -956 at fitness 1240.0000\n",
      "New value: -671, -956 at fitness 1239.0000\n",
      "New value: -672, -956 at fitness 1238.0000\n",
      "New value: -673, -956 at fitness 1237.0000\n",
      "New value: -674, -956 at fitness 1236.0000\n",
      "New value: -675, -956 at fitness 1235.0000\n",
      "New value: -676, -956 at fitness 1234.0000\n",
      "New value: -677, -956 at fitness 1233.0000\n",
      "New value: -678, -956 at fitness 1232.0000\n",
      "New value: -679, -956 at fitness 1231.0000\n",
      "New value: -680, -956 at fitness 1230.0000\n",
      "New value: -681, -956 at fitness 1229.0000\n",
      "New value: -682, -956 at fitness 1228.0000\n",
      "New value: -683, -956 at fitness 1227.0000\n",
      "New value: -684, -956 at fitness 1226.0000\n",
      "New value: -685, -956 at fitness 1225.0000\n",
      "New value: -686, -956 at fitness 1224.0000\n",
      "New value: -687, -956 at fitness 1223.0000\n",
      "New value: -688, -956 at fitness 1222.0000\n",
      "New value: -689, -956 at fitness 1221.0000\n",
      "New value: -690, -956 at fitness 1220.0000\n",
      "New value: -691, -956 at fitness 1219.0000\n",
      "New value: -692, -956 at fitness 1218.0000\n",
      "New value: -693, -956 at fitness 1217.0000\n",
      "New value: -694, -956 at fitness 1216.0000\n",
      "New value: -695, -956 at fitness 1215.0000\n",
      "New value: -696, -956 at fitness 1214.0000\n",
      "New value: -697, -956 at fitness 1213.0000\n",
      "New value: -698, -956 at fitness 1212.0000\n",
      "New value: -699, -956 at fitness 1211.0000\n",
      "New value: -700, -956 at fitness 1210.0000\n",
      "New value: -701, -956 at fitness 1209.0000\n",
      "New value: -702, -956 at fitness 1208.0000\n",
      "New value: -703, -956 at fitness 1207.0000\n",
      "New value: -704, -956 at fitness 1206.0000\n",
      "New value: -705, -956 at fitness 1205.0000\n",
      "New value: -706, -956 at fitness 1204.0000\n",
      "New value: -707, -956 at fitness 1203.0000\n",
      "New value: -708, -956 at fitness 1202.0000\n",
      "New value: -709, -956 at fitness 1201.0000\n",
      "New value: -710, -956 at fitness 1200.0000\n",
      "New value: -711, -956 at fitness 1199.0000\n",
      "New value: -712, -956 at fitness 1198.0000\n",
      "New value: -713, -956 at fitness 1197.0000\n",
      "New value: -714, -956 at fitness 1196.0000\n",
      "New value: -715, -956 at fitness 1195.0000\n",
      "New value: -716, -956 at fitness 1194.0000\n",
      "New value: -717, -956 at fitness 1193.0000\n",
      "New value: -718, -956 at fitness 1192.0000\n",
      "New value: -719, -956 at fitness 1191.0000\n",
      "New value: -720, -956 at fitness 1190.0000\n",
      "New value: -721, -956 at fitness 1189.0000\n",
      "New value: -722, -956 at fitness 1188.0000\n",
      "New value: -723, -956 at fitness 1187.0000\n",
      "New value: -724, -956 at fitness 1186.0000\n",
      "New value: -725, -956 at fitness 1185.0000\n",
      "New value: -726, -956 at fitness 1184.0000\n",
      "New value: -727, -956 at fitness 1183.0000\n",
      "New value: -728, -956 at fitness 1182.0000\n",
      "New value: -729, -956 at fitness 1181.0000\n",
      "New value: -730, -956 at fitness 1180.0000\n",
      "New value: -731, -956 at fitness 1179.0000\n",
      "New value: -732, -956 at fitness 1178.0000\n",
      "New value: -733, -956 at fitness 1177.0000\n",
      "New value: -734, -956 at fitness 1176.0000\n",
      "New value: -735, -956 at fitness 1175.0000\n",
      "New value: -736, -956 at fitness 1174.0000\n",
      "New value: -737, -956 at fitness 1173.0000\n",
      "New value: -738, -956 at fitness 1172.0000\n",
      "New value: -739, -956 at fitness 1171.0000\n",
      "New value: -740, -956 at fitness 1170.0000\n",
      "New value: -741, -956 at fitness 1169.0000\n",
      "New value: -742, -956 at fitness 1168.0000\n",
      "New value: -743, -956 at fitness 1167.0000\n",
      "New value: -744, -956 at fitness 1166.0000\n",
      "New value: -745, -956 at fitness 1165.0000\n",
      "New value: -746, -956 at fitness 1164.0000\n",
      "New value: -747, -956 at fitness 1163.0000\n",
      "New value: -748, -956 at fitness 1162.0000\n",
      "New value: -749, -956 at fitness 1161.0000\n",
      "New value: -750, -956 at fitness 1160.0000\n",
      "New value: -751, -956 at fitness 1159.0000\n",
      "New value: -752, -956 at fitness 1158.0000\n",
      "New value: -753, -956 at fitness 1157.0000\n",
      "New value: -754, -956 at fitness 1156.0000\n",
      "New value: -755, -956 at fitness 1155.0000\n",
      "New value: -756, -956 at fitness 1154.0000\n",
      "New value: -757, -956 at fitness 1153.0000\n",
      "New value: -758, -956 at fitness 1152.0000\n",
      "New value: -759, -956 at fitness 1151.0000\n",
      "New value: -760, -956 at fitness 1150.0000\n",
      "New value: -761, -956 at fitness 1149.0000\n",
      "New value: -762, -956 at fitness 1148.0000\n",
      "New value: -763, -956 at fitness 1147.0000\n",
      "New value: -764, -956 at fitness 1146.0000\n",
      "New value: -765, -956 at fitness 1145.0000\n",
      "New value: -766, -956 at fitness 1144.0000\n",
      "New value: -767, -956 at fitness 1143.0000\n",
      "New value: -768, -956 at fitness 1142.0000\n",
      "New value: -769, -956 at fitness 1141.0000\n",
      "New value: -770, -956 at fitness 1140.0000\n",
      "New value: -771, -956 at fitness 1139.0000\n",
      "New value: -772, -956 at fitness 1138.0000\n",
      "New value: -773, -956 at fitness 1137.0000\n",
      "New value: -774, -956 at fitness 1136.0000\n",
      "New value: -775, -956 at fitness 1135.0000\n",
      "New value: -776, -956 at fitness 1134.0000\n",
      "New value: -777, -956 at fitness 1133.0000\n",
      "New value: -778, -956 at fitness 1132.0000\n",
      "New value: -779, -956 at fitness 1131.0000\n",
      "New value: -780, -956 at fitness 1130.0000\n",
      "New value: -781, -956 at fitness 1129.0000\n",
      "New value: -782, -956 at fitness 1128.0000\n",
      "New value: -783, -956 at fitness 1127.0000\n",
      "New value: -784, -956 at fitness 1126.0000\n",
      "New value: -785, -956 at fitness 1125.0000\n",
      "New value: -786, -956 at fitness 1124.0000\n",
      "New value: -787, -956 at fitness 1123.0000\n",
      "New value: -788, -956 at fitness 1122.0000\n",
      "New value: -789, -956 at fitness 1121.0000\n",
      "New value: -790, -956 at fitness 1120.0000\n",
      "New value: -791, -956 at fitness 1119.0000\n",
      "New value: -792, -956 at fitness 1118.0000\n",
      "New value: -793, -956 at fitness 1117.0000\n",
      "New value: -794, -956 at fitness 1116.0000\n",
      "New value: -795, -956 at fitness 1115.0000\n",
      "New value: -796, -956 at fitness 1114.0000\n",
      "New value: -797, -956 at fitness 1113.0000\n",
      "New value: -798, -956 at fitness 1112.0000\n",
      "New value: -799, -956 at fitness 1111.0000\n",
      "New value: -800, -956 at fitness 1110.0000\n",
      "New value: -801, -956 at fitness 1109.0000\n",
      "New value: -802, -956 at fitness 1108.0000\n",
      "New value: -803, -956 at fitness 1107.0000\n",
      "New value: -804, -956 at fitness 1106.0000\n",
      "New value: -805, -956 at fitness 1105.0000\n",
      "New value: -806, -956 at fitness 1104.0000\n",
      "New value: -807, -956 at fitness 1103.0000\n",
      "New value: -808, -956 at fitness 1102.0000\n",
      "New value: -809, -956 at fitness 1101.0000\n",
      "New value: -810, -956 at fitness 1100.0000\n",
      "New value: -811, -956 at fitness 1099.0000\n",
      "New value: -812, -956 at fitness 1098.0000\n",
      "New value: -813, -956 at fitness 1097.0000\n",
      "New value: -814, -956 at fitness 1096.0000\n",
      "New value: -815, -956 at fitness 1095.0000\n",
      "New value: -816, -956 at fitness 1094.0000\n",
      "New value: -817, -956 at fitness 1093.0000\n",
      "New value: -818, -956 at fitness 1092.0000\n",
      "New value: -819, -956 at fitness 1091.0000\n",
      "New value: -820, -956 at fitness 1090.0000\n",
      "New value: -821, -956 at fitness 1089.0000\n",
      "New value: -822, -956 at fitness 1088.0000\n",
      "New value: -823, -956 at fitness 1087.0000\n",
      "New value: -824, -956 at fitness 1086.0000\n",
      "New value: -825, -956 at fitness 1085.0000\n",
      "New value: -826, -956 at fitness 1084.0000\n",
      "New value: -827, -956 at fitness 1083.0000\n",
      "New value: -828, -956 at fitness 1082.0000\n",
      "New value: -829, -956 at fitness 1081.0000\n",
      "New value: -830, -956 at fitness 1080.0000\n",
      "New value: -831, -956 at fitness 1079.0000\n",
      "New value: -832, -956 at fitness 1078.0000\n",
      "New value: -833, -956 at fitness 1077.0000\n",
      "New value: -834, -956 at fitness 1076.0000\n",
      "New value: -835, -956 at fitness 1075.0000\n",
      "New value: -836, -956 at fitness 1074.0000\n",
      "New value: -837, -956 at fitness 1073.0000\n",
      "New value: -838, -956 at fitness 1072.0000\n",
      "New value: -839, -956 at fitness 1071.0000\n",
      "New value: -840, -956 at fitness 1070.0000\n",
      "New value: -841, -956 at fitness 1069.0000\n",
      "New value: -842, -956 at fitness 1068.0000\n",
      "New value: -843, -956 at fitness 1067.0000\n",
      "New value: -844, -956 at fitness 1066.0000\n",
      "New value: -845, -956 at fitness 1065.0000\n",
      "New value: -846, -956 at fitness 1064.0000\n",
      "New value: -847, -956 at fitness 1063.0000\n",
      "New value: -848, -956 at fitness 1062.0000\n",
      "New value: -849, -956 at fitness 1061.0000\n",
      "New value: -850, -956 at fitness 1060.0000\n",
      "New value: -851, -956 at fitness 1059.0000\n",
      "New value: -852, -956 at fitness 1058.0000\n",
      "New value: -853, -956 at fitness 1057.0000\n",
      "New value: -854, -956 at fitness 1056.0000\n",
      "New value: -855, -956 at fitness 1055.0000\n",
      "New value: -856, -956 at fitness 1054.0000\n",
      "New value: -857, -956 at fitness 1053.0000\n",
      "New value: -858, -956 at fitness 1052.0000\n",
      "New value: -859, -956 at fitness 1051.0000\n",
      "New value: -860, -956 at fitness 1050.0000\n",
      "New value: -861, -956 at fitness 1049.0000\n",
      "New value: -862, -956 at fitness 1048.0000\n",
      "New value: -863, -956 at fitness 1047.0000\n",
      "New value: -864, -956 at fitness 1046.0000\n",
      "New value: -865, -956 at fitness 1045.0000\n",
      "New value: -866, -956 at fitness 1044.0000\n",
      "New value: -867, -956 at fitness 1043.0000\n",
      "New value: -868, -956 at fitness 1042.0000\n",
      "New value: -869, -956 at fitness 1041.0000\n",
      "New value: -870, -956 at fitness 1040.0000\n",
      "New value: -871, -956 at fitness 1039.0000\n",
      "New value: -872, -956 at fitness 1038.0000\n",
      "New value: -873, -956 at fitness 1037.0000\n",
      "New value: -874, -956 at fitness 1036.0000\n",
      "New value: -875, -956 at fitness 1035.0000\n",
      "New value: -876, -956 at fitness 1034.0000\n",
      "New value: -877, -956 at fitness 1033.0000\n",
      "New value: -878, -956 at fitness 1032.0000\n",
      "New value: -879, -956 at fitness 1031.0000\n",
      "New value: -880, -956 at fitness 1030.0000\n",
      "New value: -881, -956 at fitness 1029.0000\n",
      "New value: -882, -956 at fitness 1028.0000\n",
      "New value: -883, -956 at fitness 1027.0000\n",
      "New value: -884, -956 at fitness 1026.0000\n",
      "New value: -885, -956 at fitness 1025.0000\n",
      "New value: -886, -956 at fitness 1024.0000\n",
      "New value: -887, -956 at fitness 1023.0000\n",
      "New value: -888, -956 at fitness 1022.0000\n",
      "New value: -889, -956 at fitness 1021.0000\n",
      "New value: -890, -956 at fitness 1020.0000\n",
      "New value: -891, -956 at fitness 1019.0000\n",
      "New value: -892, -956 at fitness 1018.0000\n",
      "New value: -893, -956 at fitness 1017.0000\n",
      "New value: -894, -956 at fitness 1016.0000\n",
      "New value: -895, -956 at fitness 1015.0000\n",
      "New value: -896, -956 at fitness 1014.0000\n",
      "New value: -897, -956 at fitness 1013.0000\n",
      "New value: -898, -956 at fitness 1012.0000\n",
      "New value: -899, -956 at fitness 1011.0000\n",
      "New value: -900, -956 at fitness 1010.0000\n",
      "New value: -901, -956 at fitness 1009.0000\n",
      "New value: -902, -956 at fitness 1008.0000\n",
      "New value: -903, -956 at fitness 1007.0000\n",
      "New value: -904, -956 at fitness 1006.0000\n",
      "New value: -905, -956 at fitness 1005.0000\n",
      "New value: -906, -956 at fitness 1004.0000\n",
      "New value: -907, -956 at fitness 1003.0000\n",
      "New value: -908, -956 at fitness 1002.0000\n",
      "New value: -909, -956 at fitness 1001.0000\n",
      "New value: -910, -956 at fitness 1000.0000\n",
      "New value: -911, -956 at fitness 999.0000\n",
      "New value: -912, -956 at fitness 998.0000\n",
      "New value: -913, -956 at fitness 997.0000\n",
      "New value: -914, -956 at fitness 996.0000\n",
      "New value: -915, -956 at fitness 995.0000\n",
      "New value: -916, -956 at fitness 994.0000\n",
      "New value: -917, -956 at fitness 993.0000\n",
      "New value: -918, -956 at fitness 992.0000\n",
      "New value: -919, -956 at fitness 991.0000\n",
      "New value: -920, -956 at fitness 990.0000\n",
      "New value: -921, -956 at fitness 989.0000\n",
      "New value: -922, -956 at fitness 988.0000\n",
      "New value: -923, -956 at fitness 987.0000\n",
      "New value: -924, -956 at fitness 986.0000\n",
      "New value: -925, -956 at fitness 985.0000\n",
      "New value: -926, -956 at fitness 984.0000\n",
      "New value: -927, -956 at fitness 983.0000\n",
      "New value: -928, -956 at fitness 982.0000\n",
      "New value: -929, -956 at fitness 981.0000\n",
      "New value: -930, -956 at fitness 980.0000\n",
      "New value: -931, -956 at fitness 979.0000\n",
      "New value: -932, -956 at fitness 978.0000\n",
      "New value: -933, -956 at fitness 977.0000\n",
      "New value: -934, -956 at fitness 976.0000\n",
      "New value: -935, -956 at fitness 975.0000\n",
      "New value: -936, -956 at fitness 974.0000\n",
      "New value: -937, -956 at fitness 973.0000\n",
      "New value: -938, -956 at fitness 972.0000\n",
      "New value: -939, -956 at fitness 971.0000\n",
      "New value: -940, -956 at fitness 970.0000\n",
      "New value: -941, -956 at fitness 969.0000\n",
      "New value: -942, -956 at fitness 968.0000\n",
      "New value: -943, -956 at fitness 967.0000\n",
      "New value: -944, -956 at fitness 966.0000\n",
      "New value: -945, -956 at fitness 965.0000\n",
      "New value: -946, -956 at fitness 964.0000\n",
      "New value: -947, -956 at fitness 963.0000\n",
      "New value: -948, -956 at fitness 962.0000\n",
      "New value: -949, -956 at fitness 961.0000\n",
      "New value: -950, -956 at fitness 960.0000\n",
      "New value: -951, -956 at fitness 959.0000\n",
      "New value: -952, -956 at fitness 958.0000\n",
      "New value: -953, -956 at fitness 957.0000\n",
      "New value: -954, -956 at fitness 956.0000\n",
      "New value: -955, -956 at fitness 955.0000\n",
      "New value: -956, -956 at fitness 954.0000\n",
      "New value: -957, -956 at fitness 953.0000\n",
      "New value: -958, -956 at fitness 952.0000\n",
      "New value: -959, -956 at fitness 951.0000\n",
      "New value: -960, -956 at fitness 950.0000\n",
      "New value: -961, -956 at fitness 949.0000\n",
      "New value: -962, -956 at fitness 948.0000\n",
      "New value: -963, -956 at fitness 947.0000\n",
      "New value: -964, -956 at fitness 946.0000\n",
      "New value: -965, -956 at fitness 945.0000\n",
      "New value: -966, -956 at fitness 944.0000\n",
      "New value: -967, -956 at fitness 943.0000\n",
      "New value: -968, -956 at fitness 942.0000\n",
      "New value: -969, -956 at fitness 941.0000\n",
      "New value: -970, -956 at fitness 940.0000\n",
      "New value: -971, -956 at fitness 939.0000\n",
      "New value: -972, -956 at fitness 938.0000\n",
      "New value: -973, -956 at fitness 937.0000\n",
      "New value: -974, -956 at fitness 936.0000\n",
      "New value: -975, -956 at fitness 935.0000\n",
      "New value: -976, -956 at fitness 934.0000\n",
      "New value: -977, -956 at fitness 933.0000\n",
      "New value: -978, -956 at fitness 932.0000\n",
      "New value: -979, -956 at fitness 931.0000\n",
      "New value: -980, -956 at fitness 930.0000\n",
      "New value: -981, -956 at fitness 929.0000\n",
      "New value: -982, -956 at fitness 928.0000\n",
      "New value: -983, -956 at fitness 927.0000\n",
      "New value: -984, -956 at fitness 926.0000\n",
      "New value: -985, -956 at fitness 925.0000\n",
      "New value: -986, -956 at fitness 924.0000\n",
      "New value: -987, -956 at fitness 923.0000\n",
      "New value: -988, -956 at fitness 922.0000\n",
      "New value: -989, -956 at fitness 921.0000\n",
      "New value: -990, -956 at fitness 920.0000\n",
      "New value: -991, -956 at fitness 919.0000\n",
      "New value: -992, -956 at fitness 918.0000\n",
      "New value: -993, -956 at fitness 917.0000\n",
      "New value: -994, -956 at fitness 916.0000\n",
      "New value: -995, -956 at fitness 915.0000\n",
      "New value: -996, -956 at fitness 914.0000\n",
      "New value: -997, -956 at fitness 913.0000\n",
      "New value: -998, -956 at fitness 912.0000\n",
      "New value: -999, -956 at fitness 911.0000\n",
      "New value: -1000, -956 at fitness 910.0000\n",
      "New value: -1000, -955 at fitness 908.0000\n",
      "New value: -1000, -954 at fitness 906.0000\n",
      "New value: -1000, -953 at fitness 904.0000\n",
      "New value: -1000, -952 at fitness 902.0000\n",
      "New value: -1000, -951 at fitness 900.0000\n",
      "New value: -1000, -950 at fitness 898.0000\n",
      "New value: -1000, -949 at fitness 896.0000\n",
      "New value: -1000, -948 at fitness 894.0000\n",
      "New value: -1000, -947 at fitness 892.0000\n",
      "New value: -1000, -946 at fitness 890.0000\n",
      "New value: -1000, -945 at fitness 888.0000\n",
      "New value: -1000, -944 at fitness 886.0000\n",
      "New value: -1000, -943 at fitness 884.0000\n",
      "New value: -1000, -942 at fitness 882.0000\n",
      "New value: -1000, -941 at fitness 880.0000\n",
      "New value: -1000, -940 at fitness 878.0000\n",
      "New value: -1000, -939 at fitness 876.0000\n",
      "New value: -1000, -938 at fitness 874.0000\n",
      "New value: -1000, -937 at fitness 872.0000\n",
      "New value: -1000, -936 at fitness 870.0000\n",
      "New value: -1000, -935 at fitness 868.0000\n",
      "New value: -1000, -934 at fitness 866.0000\n",
      "New value: -1000, -933 at fitness 864.0000\n",
      "New value: -1000, -932 at fitness 862.0000\n",
      "New value: -1000, -931 at fitness 860.0000\n",
      "New value: -1000, -930 at fitness 858.0000\n",
      "New value: -1000, -929 at fitness 856.0000\n",
      "New value: -1000, -928 at fitness 854.0000\n",
      "New value: -1000, -927 at fitness 852.0000\n",
      "New value: -1000, -926 at fitness 850.0000\n",
      "New value: -1000, -925 at fitness 848.0000\n",
      "New value: -1000, -924 at fitness 846.0000\n",
      "New value: -1000, -923 at fitness 844.0000\n",
      "New value: -1000, -922 at fitness 842.0000\n",
      "New value: -1000, -921 at fitness 840.0000\n",
      "New value: -1000, -920 at fitness 838.0000\n",
      "New value: -1000, -919 at fitness 836.0000\n",
      "New value: -1000, -918 at fitness 834.0000\n",
      "New value: -1000, -917 at fitness 832.0000\n",
      "New value: -1000, -916 at fitness 830.0000\n",
      "New value: -1000, -915 at fitness 828.0000\n",
      "New value: -1000, -914 at fitness 826.0000\n",
      "New value: -1000, -913 at fitness 824.0000\n",
      "New value: -1000, -912 at fitness 822.0000\n",
      "New value: -1000, -911 at fitness 820.0000\n",
      "New value: -1000, -910 at fitness 818.0000\n",
      "New value: -1000, -909 at fitness 816.0000\n",
      "New value: -1000, -908 at fitness 814.0000\n",
      "New value: -1000, -907 at fitness 812.0000\n",
      "New value: -1000, -906 at fitness 810.0000\n",
      "New value: -1000, -905 at fitness 808.0000\n",
      "New value: -1000, -904 at fitness 806.0000\n",
      "New value: -1000, -903 at fitness 804.0000\n",
      "New value: -1000, -902 at fitness 802.0000\n",
      "New value: -1000, -901 at fitness 800.0000\n",
      "New value: -1000, -900 at fitness 798.0000\n",
      "New value: -1000, -899 at fitness 796.0000\n",
      "New value: -1000, -898 at fitness 794.0000\n",
      "New value: -1000, -897 at fitness 792.0000\n",
      "New value: -1000, -896 at fitness 790.0000\n",
      "New value: -1000, -895 at fitness 788.0000\n",
      "New value: -1000, -894 at fitness 786.0000\n",
      "New value: -1000, -893 at fitness 784.0000\n",
      "New value: -1000, -892 at fitness 782.0000\n",
      "New value: -1000, -891 at fitness 780.0000\n",
      "New value: -1000, -890 at fitness 778.0000\n",
      "New value: -1000, -889 at fitness 776.0000\n",
      "New value: -1000, -888 at fitness 774.0000\n",
      "New value: -1000, -887 at fitness 772.0000\n",
      "New value: -1000, -886 at fitness 770.0000\n",
      "New value: -1000, -885 at fitness 768.0000\n",
      "New value: -1000, -884 at fitness 766.0000\n",
      "New value: -1000, -883 at fitness 764.0000\n",
      "New value: -1000, -882 at fitness 762.0000\n",
      "New value: -1000, -881 at fitness 760.0000\n",
      "New value: -1000, -880 at fitness 758.0000\n",
      "New value: -1000, -879 at fitness 756.0000\n",
      "New value: -1000, -878 at fitness 754.0000\n",
      "New value: -1000, -877 at fitness 752.0000\n",
      "New value: -1000, -876 at fitness 750.0000\n",
      "New value: -1000, -875 at fitness 748.0000\n",
      "New value: -1000, -874 at fitness 746.0000\n",
      "New value: -1000, -873 at fitness 744.0000\n",
      "New value: -1000, -872 at fitness 742.0000\n",
      "New value: -1000, -871 at fitness 740.0000\n",
      "New value: -1000, -870 at fitness 738.0000\n",
      "New value: -1000, -869 at fitness 736.0000\n",
      "New value: -1000, -868 at fitness 734.0000\n",
      "New value: -1000, -867 at fitness 732.0000\n",
      "New value: -1000, -866 at fitness 730.0000\n",
      "New value: -1000, -865 at fitness 728.0000\n",
      "New value: -1000, -864 at fitness 726.0000\n",
      "New value: -1000, -863 at fitness 724.0000\n",
      "New value: -1000, -862 at fitness 722.0000\n",
      "New value: -1000, -861 at fitness 720.0000\n",
      "New value: -1000, -860 at fitness 718.0000\n",
      "New value: -1000, -859 at fitness 716.0000\n",
      "New value: -1000, -858 at fitness 714.0000\n",
      "New value: -1000, -857 at fitness 712.0000\n",
      "New value: -1000, -856 at fitness 710.0000\n",
      "New value: -1000, -855 at fitness 708.0000\n",
      "New value: -1000, -854 at fitness 706.0000\n",
      "New value: -1000, -853 at fitness 704.0000\n",
      "New value: -1000, -852 at fitness 702.0000\n",
      "New value: -1000, -851 at fitness 700.0000\n",
      "New value: -1000, -850 at fitness 698.0000\n",
      "New value: -1000, -849 at fitness 696.0000\n",
      "New value: -1000, -848 at fitness 694.0000\n",
      "New value: -1000, -847 at fitness 692.0000\n",
      "New value: -1000, -846 at fitness 690.0000\n",
      "New value: -1000, -845 at fitness 688.0000\n",
      "New value: -1000, -844 at fitness 686.0000\n",
      "New value: -1000, -843 at fitness 684.0000\n",
      "New value: -1000, -842 at fitness 682.0000\n",
      "New value: -1000, -841 at fitness 680.0000\n",
      "New value: -1000, -840 at fitness 678.0000\n",
      "New value: -1000, -839 at fitness 676.0000\n",
      "New value: -1000, -838 at fitness 674.0000\n",
      "New value: -1000, -837 at fitness 672.0000\n",
      "New value: -1000, -836 at fitness 670.0000\n",
      "New value: -1000, -835 at fitness 668.0000\n",
      "New value: -1000, -834 at fitness 666.0000\n",
      "New value: -1000, -833 at fitness 664.0000\n",
      "New value: -1000, -832 at fitness 662.0000\n",
      "New value: -1000, -831 at fitness 660.0000\n",
      "New value: -1000, -830 at fitness 658.0000\n",
      "New value: -1000, -829 at fitness 656.0000\n",
      "New value: -1000, -828 at fitness 654.0000\n",
      "New value: -1000, -827 at fitness 652.0000\n",
      "New value: -1000, -826 at fitness 650.0000\n",
      "New value: -1000, -825 at fitness 648.0000\n",
      "New value: -1000, -824 at fitness 646.0000\n",
      "New value: -1000, -823 at fitness 644.0000\n",
      "New value: -1000, -822 at fitness 642.0000\n",
      "New value: -1000, -821 at fitness 640.0000\n",
      "New value: -1000, -820 at fitness 638.0000\n",
      "New value: -1000, -819 at fitness 636.0000\n",
      "New value: -1000, -818 at fitness 634.0000\n",
      "New value: -1000, -817 at fitness 632.0000\n",
      "New value: -1000, -816 at fitness 630.0000\n",
      "New value: -1000, -815 at fitness 628.0000\n",
      "New value: -1000, -814 at fitness 626.0000\n",
      "New value: -1000, -813 at fitness 624.0000\n",
      "New value: -1000, -812 at fitness 622.0000\n",
      "New value: -1000, -811 at fitness 620.0000\n",
      "New value: -1000, -810 at fitness 618.0000\n",
      "New value: -1000, -809 at fitness 616.0000\n",
      "New value: -1000, -808 at fitness 614.0000\n",
      "New value: -1000, -807 at fitness 612.0000\n",
      "New value: -1000, -806 at fitness 610.0000\n",
      "New value: -1000, -805 at fitness 608.0000\n",
      "New value: -1000, -804 at fitness 606.0000\n",
      "New value: -1000, -803 at fitness 604.0000\n",
      "New value: -1000, -802 at fitness 602.0000\n",
      "New value: -1000, -801 at fitness 600.0000\n",
      "New value: -1000, -800 at fitness 598.0000\n",
      "New value: -1000, -799 at fitness 596.0000\n",
      "New value: -1000, -798 at fitness 594.0000\n",
      "New value: -1000, -797 at fitness 592.0000\n",
      "New value: -1000, -796 at fitness 590.0000\n",
      "New value: -1000, -795 at fitness 588.0000\n",
      "New value: -1000, -794 at fitness 586.0000\n",
      "New value: -1000, -793 at fitness 584.0000\n",
      "New value: -1000, -792 at fitness 582.0000\n",
      "New value: -1000, -791 at fitness 580.0000\n",
      "New value: -1000, -790 at fitness 578.0000\n",
      "New value: -1000, -789 at fitness 576.0000\n",
      "New value: -1000, -788 at fitness 574.0000\n",
      "New value: -1000, -787 at fitness 572.0000\n",
      "New value: -1000, -786 at fitness 570.0000\n",
      "New value: -1000, -785 at fitness 568.0000\n",
      "New value: -1000, -784 at fitness 566.0000\n",
      "New value: -1000, -783 at fitness 564.0000\n",
      "New value: -1000, -782 at fitness 562.0000\n",
      "New value: -1000, -781 at fitness 560.0000\n",
      "New value: -1000, -780 at fitness 558.0000\n",
      "New value: -1000, -779 at fitness 556.0000\n",
      "New value: -1000, -778 at fitness 554.0000\n",
      "New value: -1000, -777 at fitness 552.0000\n",
      "New value: -1000, -776 at fitness 550.0000\n",
      "New value: -1000, -775 at fitness 548.0000\n",
      "New value: -1000, -774 at fitness 546.0000\n",
      "New value: -1000, -773 at fitness 544.0000\n",
      "New value: -1000, -772 at fitness 542.0000\n",
      "New value: -1000, -771 at fitness 540.0000\n",
      "New value: -1000, -770 at fitness 538.0000\n",
      "New value: -1000, -769 at fitness 536.0000\n",
      "New value: -1000, -768 at fitness 534.0000\n",
      "New value: -1000, -767 at fitness 532.0000\n",
      "New value: -1000, -766 at fitness 530.0000\n",
      "New value: -1000, -765 at fitness 528.0000\n",
      "New value: -1000, -764 at fitness 526.0000\n",
      "New value: -1000, -763 at fitness 524.0000\n",
      "New value: -1000, -762 at fitness 522.0000\n",
      "New value: -1000, -761 at fitness 520.0000\n",
      "New value: -1000, -760 at fitness 518.0000\n",
      "New value: -1000, -759 at fitness 516.0000\n",
      "New value: -1000, -758 at fitness 514.0000\n",
      "New value: -1000, -757 at fitness 512.0000\n",
      "New value: -1000, -756 at fitness 510.0000\n",
      "New value: -1000, -755 at fitness 508.0000\n",
      "New value: -1000, -754 at fitness 506.0000\n",
      "New value: -1000, -753 at fitness 504.0000\n",
      "New value: -1000, -752 at fitness 502.0000\n",
      "New value: -1000, -751 at fitness 500.0000\n",
      "New value: -1000, -750 at fitness 498.0000\n",
      "New value: -1000, -749 at fitness 496.0000\n",
      "New value: -1000, -748 at fitness 494.0000\n",
      "New value: -1000, -747 at fitness 492.0000\n",
      "New value: -1000, -746 at fitness 490.0000\n",
      "New value: -1000, -745 at fitness 488.0000\n",
      "New value: -1000, -744 at fitness 486.0000\n",
      "New value: -1000, -743 at fitness 484.0000\n",
      "New value: -1000, -742 at fitness 482.0000\n",
      "New value: -1000, -741 at fitness 480.0000\n",
      "New value: -1000, -740 at fitness 478.0000\n",
      "New value: -1000, -739 at fitness 476.0000\n",
      "New value: -1000, -738 at fitness 474.0000\n",
      "New value: -1000, -737 at fitness 472.0000\n",
      "New value: -1000, -736 at fitness 470.0000\n",
      "New value: -1000, -735 at fitness 468.0000\n",
      "New value: -1000, -734 at fitness 466.0000\n",
      "New value: -1000, -733 at fitness 464.0000\n",
      "New value: -1000, -732 at fitness 462.0000\n",
      "New value: -1000, -731 at fitness 460.0000\n",
      "New value: -1000, -730 at fitness 458.0000\n",
      "New value: -1000, -729 at fitness 456.0000\n",
      "New value: -1000, -728 at fitness 454.0000\n",
      "New value: -1000, -727 at fitness 452.0000\n",
      "New value: -1000, -726 at fitness 450.0000\n",
      "New value: -1000, -725 at fitness 448.0000\n",
      "New value: -1000, -724 at fitness 446.0000\n",
      "New value: -1000, -723 at fitness 444.0000\n",
      "New value: -1000, -722 at fitness 442.0000\n",
      "New value: -1000, -721 at fitness 440.0000\n",
      "New value: -1000, -720 at fitness 438.0000\n",
      "New value: -1000, -719 at fitness 436.0000\n",
      "New value: -1000, -718 at fitness 434.0000\n",
      "New value: -1000, -717 at fitness 432.0000\n",
      "New value: -1000, -716 at fitness 430.0000\n",
      "New value: -1000, -715 at fitness 428.0000\n",
      "New value: -1000, -714 at fitness 426.0000\n",
      "New value: -1000, -713 at fitness 424.0000\n",
      "New value: -1000, -712 at fitness 422.0000\n",
      "New value: -1000, -711 at fitness 420.0000\n",
      "New value: -1000, -710 at fitness 418.0000\n",
      "New value: -1000, -709 at fitness 416.0000\n",
      "New value: -1000, -708 at fitness 414.0000\n",
      "New value: -1000, -707 at fitness 412.0000\n",
      "New value: -1000, -706 at fitness 410.0000\n",
      "New value: -1000, -705 at fitness 408.0000\n",
      "New value: -1000, -704 at fitness 406.0000\n",
      "New value: -1000, -703 at fitness 404.0000\n",
      "New value: -1000, -702 at fitness 402.0000\n",
      "New value: -1000, -701 at fitness 400.0000\n",
      "New value: -1000, -700 at fitness 398.0000\n",
      "New value: -1000, -699 at fitness 396.0000\n",
      "New value: -1000, -698 at fitness 394.0000\n",
      "New value: -1000, -697 at fitness 392.0000\n",
      "New value: -1000, -696 at fitness 390.0000\n",
      "New value: -1000, -695 at fitness 388.0000\n",
      "New value: -1000, -694 at fitness 386.0000\n",
      "New value: -1000, -693 at fitness 384.0000\n",
      "New value: -1000, -692 at fitness 382.0000\n",
      "New value: -1000, -691 at fitness 380.0000\n",
      "New value: -1000, -690 at fitness 378.0000\n",
      "New value: -1000, -689 at fitness 376.0000\n",
      "New value: -1000, -688 at fitness 374.0000\n",
      "New value: -1000, -687 at fitness 372.0000\n",
      "New value: -1000, -686 at fitness 370.0000\n",
      "New value: -1000, -685 at fitness 368.0000\n",
      "New value: -1000, -684 at fitness 366.0000\n",
      "New value: -1000, -683 at fitness 364.0000\n",
      "New value: -1000, -682 at fitness 362.0000\n",
      "New value: -1000, -681 at fitness 360.0000\n",
      "New value: -1000, -680 at fitness 358.0000\n",
      "New value: -1000, -679 at fitness 356.0000\n",
      "New value: -1000, -678 at fitness 354.0000\n",
      "New value: -1000, -677 at fitness 352.0000\n",
      "New value: -1000, -676 at fitness 350.0000\n",
      "New value: -1000, -675 at fitness 348.0000\n",
      "New value: -1000, -674 at fitness 346.0000\n",
      "New value: -1000, -673 at fitness 344.0000\n",
      "New value: -1000, -672 at fitness 342.0000\n",
      "New value: -1000, -671 at fitness 340.0000\n",
      "New value: -1000, -670 at fitness 338.0000\n",
      "New value: -1000, -669 at fitness 336.0000\n",
      "New value: -1000, -668 at fitness 334.0000\n",
      "New value: -1000, -667 at fitness 332.0000\n",
      "New value: -1000, -666 at fitness 330.0000\n",
      "New value: -1000, -665 at fitness 328.0000\n",
      "New value: -1000, -664 at fitness 326.0000\n",
      "New value: -1000, -663 at fitness 324.0000\n",
      "New value: -1000, -662 at fitness 322.0000\n",
      "New value: -1000, -661 at fitness 320.0000\n",
      "New value: -1000, -660 at fitness 318.0000\n",
      "New value: -1000, -659 at fitness 316.0000\n",
      "New value: -1000, -658 at fitness 314.0000\n",
      "New value: -1000, -657 at fitness 312.0000\n",
      "New value: -1000, -656 at fitness 310.0000\n",
      "New value: -1000, -655 at fitness 308.0000\n",
      "New value: -1000, -654 at fitness 306.0000\n",
      "New value: -1000, -653 at fitness 304.0000\n",
      "New value: -1000, -652 at fitness 302.0000\n",
      "New value: -1000, -651 at fitness 300.0000\n",
      "New value: -1000, -650 at fitness 298.0000\n",
      "New value: -1000, -649 at fitness 296.0000\n",
      "New value: -1000, -648 at fitness 294.0000\n",
      "New value: -1000, -647 at fitness 292.0000\n",
      "New value: -1000, -646 at fitness 290.0000\n",
      "New value: -1000, -645 at fitness 288.0000\n",
      "New value: -1000, -644 at fitness 286.0000\n",
      "New value: -1000, -643 at fitness 284.0000\n",
      "New value: -1000, -642 at fitness 282.0000\n",
      "New value: -1000, -641 at fitness 280.0000\n",
      "New value: -1000, -640 at fitness 278.0000\n",
      "New value: -1000, -639 at fitness 276.0000\n",
      "New value: -1000, -638 at fitness 274.0000\n",
      "New value: -1000, -637 at fitness 272.0000\n",
      "New value: -1000, -636 at fitness 270.0000\n",
      "New value: -1000, -635 at fitness 268.0000\n",
      "New value: -1000, -634 at fitness 266.0000\n",
      "New value: -1000, -633 at fitness 264.0000\n",
      "New value: -1000, -632 at fitness 262.0000\n",
      "New value: -1000, -631 at fitness 260.0000\n",
      "New value: -1000, -630 at fitness 258.0000\n",
      "New value: -1000, -629 at fitness 256.0000\n",
      "New value: -1000, -628 at fitness 254.0000\n",
      "New value: -1000, -627 at fitness 252.0000\n",
      "New value: -1000, -626 at fitness 250.0000\n",
      "New value: -1000, -625 at fitness 248.0000\n",
      "New value: -1000, -624 at fitness 246.0000\n",
      "New value: -1000, -623 at fitness 244.0000\n",
      "New value: -1000, -622 at fitness 242.0000\n",
      "New value: -1000, -621 at fitness 240.0000\n",
      "New value: -1000, -620 at fitness 238.0000\n",
      "New value: -1000, -619 at fitness 236.0000\n",
      "New value: -1000, -618 at fitness 234.0000\n",
      "New value: -1000, -617 at fitness 232.0000\n",
      "New value: -1000, -616 at fitness 230.0000\n",
      "New value: -1000, -615 at fitness 228.0000\n",
      "New value: -1000, -614 at fitness 226.0000\n",
      "New value: -1000, -613 at fitness 224.0000\n",
      "New value: -1000, -612 at fitness 222.0000\n",
      "New value: -1000, -611 at fitness 220.0000\n",
      "New value: -1000, -610 at fitness 218.0000\n",
      "New value: -1000, -609 at fitness 216.0000\n",
      "New value: -1000, -608 at fitness 214.0000\n",
      "New value: -1000, -607 at fitness 212.0000\n",
      "New value: -1000, -606 at fitness 210.0000\n",
      "New value: -1000, -605 at fitness 208.0000\n",
      "New value: -1000, -604 at fitness 206.0000\n",
      "New value: -1000, -603 at fitness 204.0000\n",
      "New value: -1000, -602 at fitness 202.0000\n",
      "New value: -1000, -601 at fitness 200.0000\n",
      "New value: -1000, -600 at fitness 198.0000\n",
      "New value: -1000, -599 at fitness 196.0000\n",
      "New value: -1000, -598 at fitness 194.0000\n",
      "New value: -1000, -597 at fitness 192.0000\n",
      "New value: -1000, -596 at fitness 190.0000\n",
      "New value: -1000, -595 at fitness 188.0000\n",
      "New value: -1000, -594 at fitness 186.0000\n",
      "New value: -1000, -593 at fitness 184.0000\n",
      "New value: -1000, -592 at fitness 182.0000\n",
      "New value: -1000, -591 at fitness 180.0000\n",
      "New value: -1000, -590 at fitness 178.0000\n",
      "New value: -1000, -589 at fitness 176.0000\n",
      "New value: -1000, -588 at fitness 174.0000\n",
      "New value: -1000, -587 at fitness 172.0000\n",
      "New value: -1000, -586 at fitness 170.0000\n",
      "New value: -1000, -585 at fitness 168.0000\n",
      "New value: -1000, -584 at fitness 166.0000\n",
      "New value: -1000, -583 at fitness 164.0000\n",
      "New value: -1000, -582 at fitness 162.0000\n",
      "New value: -1000, -581 at fitness 160.0000\n",
      "New value: -1000, -580 at fitness 158.0000\n",
      "New value: -1000, -579 at fitness 156.0000\n",
      "New value: -1000, -578 at fitness 154.0000\n",
      "New value: -1000, -577 at fitness 152.0000\n",
      "New value: -1000, -576 at fitness 150.0000\n",
      "New value: -1000, -575 at fitness 148.0000\n",
      "New value: -1000, -574 at fitness 146.0000\n",
      "New value: -1000, -573 at fitness 144.0000\n",
      "New value: -1000, -572 at fitness 142.0000\n",
      "New value: -1000, -571 at fitness 140.0000\n",
      "New value: -1000, -570 at fitness 138.0000\n",
      "New value: -1000, -569 at fitness 136.0000\n",
      "New value: -1000, -568 at fitness 134.0000\n",
      "New value: -1000, -567 at fitness 132.0000\n",
      "New value: -1000, -566 at fitness 130.0000\n",
      "New value: -1000, -565 at fitness 128.0000\n",
      "New value: -1000, -564 at fitness 126.0000\n",
      "New value: -1000, -563 at fitness 124.0000\n",
      "New value: -1000, -562 at fitness 122.0000\n",
      "New value: -1000, -561 at fitness 120.0000\n",
      "New value: -1000, -560 at fitness 118.0000\n",
      "New value: -1000, -559 at fitness 116.0000\n",
      "New value: -1000, -558 at fitness 114.0000\n",
      "New value: -1000, -557 at fitness 112.0000\n",
      "New value: -1000, -556 at fitness 110.0000\n",
      "New value: -1000, -555 at fitness 108.0000\n",
      "New value: -1000, -554 at fitness 106.0000\n",
      "New value: -1000, -553 at fitness 104.0000\n",
      "New value: -1000, -552 at fitness 102.0000\n",
      "New value: -1000, -551 at fitness 100.0000\n",
      "New value: -1000, -550 at fitness 98.0000\n",
      "New value: -1000, -549 at fitness 96.0000\n",
      "New value: -1000, -548 at fitness 94.0000\n",
      "New value: -1000, -547 at fitness 92.0000\n",
      "New value: -1000, -546 at fitness 90.0000\n",
      "New value: -1000, -545 at fitness 88.0000\n",
      "New value: -1000, -544 at fitness 86.0000\n",
      "New value: -1000, -543 at fitness 84.0000\n",
      "New value: -1000, -542 at fitness 82.0000\n",
      "New value: -1000, -541 at fitness 80.0000\n",
      "New value: -1000, -540 at fitness 78.0000\n",
      "New value: -1000, -539 at fitness 76.0000\n",
      "New value: -1000, -538 at fitness 74.0000\n",
      "New value: -1000, -537 at fitness 72.0000\n",
      "New value: -1000, -536 at fitness 70.0000\n",
      "New value: -1000, -535 at fitness 68.0000\n",
      "New value: -1000, -534 at fitness 66.0000\n",
      "New value: -1000, -533 at fitness 64.0000\n",
      "New value: -1000, -532 at fitness 62.0000\n",
      "New value: -1000, -531 at fitness 60.0000\n",
      "New value: -1000, -530 at fitness 58.0000\n",
      "New value: -1000, -529 at fitness 56.0000\n",
      "New value: -1000, -528 at fitness 54.0000\n",
      "New value: -1000, -527 at fitness 52.0000\n",
      "New value: -1000, -526 at fitness 50.0000\n",
      "New value: -1000, -525 at fitness 48.0000\n",
      "New value: -1000, -524 at fitness 46.0000\n",
      "New value: -1000, -523 at fitness 44.0000\n",
      "New value: -1000, -522 at fitness 42.0000\n",
      "New value: -1000, -521 at fitness 40.0000\n",
      "New value: -1000, -520 at fitness 38.0000\n",
      "New value: -1000, -519 at fitness 36.0000\n",
      "New value: -1000, -518 at fitness 34.0000\n",
      "New value: -1000, -517 at fitness 32.0000\n",
      "New value: -1000, -516 at fitness 30.0000\n",
      "New value: -1000, -515 at fitness 28.0000\n",
      "New value: -1000, -514 at fitness 26.0000\n",
      "New value: -1000, -513 at fitness 24.0000\n",
      "New value: -1000, -512 at fitness 22.0000\n",
      "New value: -1000, -511 at fitness 20.0000\n",
      "New value: -1000, -510 at fitness 18.0000\n",
      "New value: -1000, -509 at fitness 16.0000\n",
      "New value: -1000, -508 at fitness 14.0000\n",
      "New value: -1000, -507 at fitness 12.0000\n",
      "New value: -1000, -506 at fitness 10.0000\n",
      "New value: -1000, -505 at fitness 8.0000\n",
      "New value: -1000, -504 at fitness 6.0000\n",
      "New value: -1000, -503 at fitness 4.0000\n",
      "New value: -1000, -502 at fitness 2.0000\n",
      "New value: -1000, -501 at fitness 0.0000\n",
      "Found optimum after 1656 iterations at -1000, -501\n"
     ]
    }
   ],
   "source": [
    "hillclimber()"
   ]
  },
  {
   "cell_type": "markdown",
   "metadata": {
    "slideshow": {
     "slide_type": "subslide"
    }
   },
   "source": [
    "The hillclimber starts by choosing random values for `x` and `y`. We use low values in the range of `-1000`--`1000` (which we defined `MIN` and `MAX` to be earlier) to reduce the time search takes when playing with the example. Then, we determine the fitness value of this starting point by calling `get_fitness`. Recall that we are trying to find the smallest possible fitness value, therefore we now loop until we have found a fitness value of `0` (i.e., an optimal value). \n",
    "\n",
    "In this loop, we iterate over all neighbours (`neighbours`), and evaluate the fitness value of each of the neighbours. As soon as we have found a neighbour with better (smaller) fitness, the hillclimber exits the loop and uses this as the new starting point. An alternative variant of this simple hillclimbing algorithm would be to remove the `break` statement: By doing so, *all* neighbours would be evaluated and the best neighbour would be chosen. This is known as *steepest ascent hillclimbing*. You will see that the number of iterations necessary to reach the optimum is lower, although for each iteration more tests are executed."
   ]
  },
  {
   "cell_type": "code",
   "execution_count": 30,
   "metadata": {
    "slideshow": {
     "slide_type": "subslide"
    }
   },
   "outputs": [],
   "source": [
    "def steepest_ascent_hillclimber():\n",
    "    # Create and evaluate starting point\n",
    "    x, y = random.randint(MIN, MAX), random.randint(MIN, MAX)\n",
    "    fitness = get_fitness(x, y)\n",
    "    print(\"Initial value: %d, %d at fitness %.4f\" % (x, y, fitness))\n",
    "    iterations = 0\n",
    "\n",
    "    # Stop once we have found an optimal solution\n",
    "    while fitness > 0:\n",
    "        iterations += 1\n",
    "        # Move to first neighbour with a better fitness\n",
    "        for (nextx, nexty) in neighbours(x, y):\n",
    "            new_fitness = get_fitness(nextx, nexty)\n",
    "            if new_fitness < fitness:\n",
    "                x, y = nextx, nexty\n",
    "                fitness = new_fitness\n",
    "                print(\"New value: %d, %d at fitness %.4f\" % (x, y, fitness))\n",
    "\n",
    "    print(\"Found optimum after %d iterations at %d, %d\" % (iterations, x, y))"
   ]
  },
  {
   "cell_type": "code",
   "execution_count": 31,
   "metadata": {
    "slideshow": {
     "slide_type": "subslide"
    }
   },
   "outputs": [
    {
     "name": "stdout",
     "output_type": "stream",
     "text": [
      "Initial value: -258, 645 at fitness 1550.0000\n",
      "New value: -259, 644 at fitness 1549.0000\n",
      "New value: -258, 644 at fitness 1548.0000\n",
      "New value: -257, 644 at fitness 1547.0000\n",
      "New value: -258, 643 at fitness 1546.0000\n",
      "New value: -257, 643 at fitness 1545.0000\n",
      "New value: -256, 643 at fitness 1544.0000\n",
      "New value: -257, 642 at fitness 1543.0000\n",
      "New value: -256, 642 at fitness 1542.0000\n",
      "New value: -255, 642 at fitness 1541.0000\n",
      "New value: -256, 641 at fitness 1540.0000\n",
      "New value: -255, 641 at fitness 1539.0000\n",
      "New value: -254, 641 at fitness 1538.0000\n",
      "New value: -255, 640 at fitness 1537.0000\n",
      "New value: -254, 640 at fitness 1536.0000\n",
      "New value: -253, 640 at fitness 1535.0000\n",
      "New value: -254, 639 at fitness 1534.0000\n",
      "New value: -253, 639 at fitness 1533.0000\n",
      "New value: -252, 639 at fitness 1532.0000\n",
      "New value: -253, 638 at fitness 1531.0000\n",
      "New value: -252, 638 at fitness 1530.0000\n",
      "New value: -251, 638 at fitness 1529.0000\n",
      "New value: -252, 637 at fitness 1528.0000\n",
      "New value: -251, 637 at fitness 1527.0000\n",
      "New value: -250, 637 at fitness 1526.0000\n",
      "New value: -251, 636 at fitness 1525.0000\n",
      "New value: -250, 636 at fitness 1524.0000\n",
      "New value: -249, 636 at fitness 1523.0000\n",
      "New value: -250, 635 at fitness 1522.0000\n",
      "New value: -249, 635 at fitness 1521.0000\n",
      "New value: -248, 635 at fitness 1520.0000\n",
      "New value: -249, 634 at fitness 1519.0000\n",
      "New value: -248, 634 at fitness 1518.0000\n",
      "New value: -247, 634 at fitness 1517.0000\n",
      "New value: -248, 633 at fitness 1516.0000\n",
      "New value: -247, 633 at fitness 1515.0000\n",
      "New value: -246, 633 at fitness 1514.0000\n",
      "New value: -247, 632 at fitness 1513.0000\n",
      "New value: -246, 632 at fitness 1512.0000\n",
      "New value: -245, 632 at fitness 1511.0000\n",
      "New value: -246, 631 at fitness 1510.0000\n",
      "New value: -245, 631 at fitness 1509.0000\n",
      "New value: -244, 631 at fitness 1508.0000\n",
      "New value: -245, 630 at fitness 1507.0000\n",
      "New value: -244, 630 at fitness 1506.0000\n",
      "New value: -243, 630 at fitness 1505.0000\n",
      "New value: -244, 629 at fitness 1504.0000\n",
      "New value: -243, 629 at fitness 1503.0000\n",
      "New value: -242, 629 at fitness 1502.0000\n",
      "New value: -243, 628 at fitness 1501.0000\n",
      "New value: -242, 628 at fitness 1500.0000\n",
      "New value: -241, 628 at fitness 1499.0000\n",
      "New value: -242, 627 at fitness 1498.0000\n",
      "New value: -241, 627 at fitness 1497.0000\n",
      "New value: -240, 627 at fitness 1496.0000\n",
      "New value: -241, 626 at fitness 1495.0000\n",
      "New value: -240, 626 at fitness 1494.0000\n",
      "New value: -239, 626 at fitness 1493.0000\n",
      "New value: -240, 625 at fitness 1492.0000\n",
      "New value: -239, 625 at fitness 1491.0000\n",
      "New value: -238, 625 at fitness 1490.0000\n",
      "New value: -239, 624 at fitness 1489.0000\n",
      "New value: -238, 624 at fitness 1488.0000\n",
      "New value: -237, 624 at fitness 1487.0000\n",
      "New value: -238, 623 at fitness 1486.0000\n",
      "New value: -237, 623 at fitness 1485.0000\n",
      "New value: -236, 623 at fitness 1484.0000\n",
      "New value: -237, 622 at fitness 1483.0000\n",
      "New value: -236, 622 at fitness 1482.0000\n",
      "New value: -235, 622 at fitness 1481.0000\n",
      "New value: -236, 621 at fitness 1480.0000\n",
      "New value: -235, 621 at fitness 1479.0000\n",
      "New value: -234, 621 at fitness 1478.0000\n",
      "New value: -235, 620 at fitness 1477.0000\n",
      "New value: -234, 620 at fitness 1476.0000\n",
      "New value: -233, 620 at fitness 1475.0000\n",
      "New value: -234, 619 at fitness 1474.0000\n",
      "New value: -233, 619 at fitness 1473.0000\n",
      "New value: -232, 619 at fitness 1472.0000\n",
      "New value: -233, 618 at fitness 1471.0000\n",
      "New value: -232, 618 at fitness 1470.0000\n",
      "New value: -231, 618 at fitness 1469.0000\n",
      "New value: -232, 617 at fitness 1468.0000\n",
      "New value: -231, 617 at fitness 1467.0000\n",
      "New value: -230, 617 at fitness 1466.0000\n",
      "New value: -231, 616 at fitness 1465.0000\n",
      "New value: -230, 616 at fitness 1464.0000\n",
      "New value: -229, 616 at fitness 1463.0000\n",
      "New value: -230, 615 at fitness 1462.0000\n",
      "New value: -229, 615 at fitness 1461.0000\n",
      "New value: -228, 615 at fitness 1460.0000\n",
      "New value: -229, 614 at fitness 1459.0000\n",
      "New value: -228, 614 at fitness 1458.0000\n",
      "New value: -227, 614 at fitness 1457.0000\n",
      "New value: -228, 613 at fitness 1456.0000\n",
      "New value: -227, 613 at fitness 1455.0000\n",
      "New value: -226, 613 at fitness 1454.0000\n",
      "New value: -227, 612 at fitness 1453.0000\n",
      "New value: -226, 612 at fitness 1452.0000\n",
      "New value: -225, 612 at fitness 1451.0000\n",
      "New value: -226, 611 at fitness 1450.0000\n",
      "New value: -225, 611 at fitness 1449.0000\n",
      "New value: -224, 611 at fitness 1448.0000\n",
      "New value: -225, 610 at fitness 1447.0000\n",
      "New value: -224, 610 at fitness 1446.0000\n",
      "New value: -223, 610 at fitness 1445.0000\n",
      "New value: -224, 609 at fitness 1444.0000\n",
      "New value: -223, 609 at fitness 1443.0000\n",
      "New value: -222, 609 at fitness 1442.0000\n",
      "New value: -223, 608 at fitness 1441.0000\n",
      "New value: -222, 608 at fitness 1440.0000\n",
      "New value: -221, 608 at fitness 1439.0000\n",
      "New value: -222, 607 at fitness 1438.0000\n",
      "New value: -221, 607 at fitness 1437.0000\n",
      "New value: -220, 607 at fitness 1436.0000\n",
      "New value: -221, 606 at fitness 1435.0000\n",
      "New value: -220, 606 at fitness 1434.0000\n",
      "New value: -219, 606 at fitness 1433.0000\n",
      "New value: -220, 605 at fitness 1432.0000\n",
      "New value: -219, 605 at fitness 1431.0000\n",
      "New value: -218, 605 at fitness 1430.0000\n",
      "New value: -219, 604 at fitness 1429.0000\n",
      "New value: -218, 604 at fitness 1428.0000\n",
      "New value: -217, 604 at fitness 1427.0000\n",
      "New value: -218, 603 at fitness 1426.0000\n",
      "New value: -217, 603 at fitness 1425.0000\n",
      "New value: -216, 603 at fitness 1424.0000\n",
      "New value: -217, 602 at fitness 1423.0000\n",
      "New value: -216, 602 at fitness 1422.0000\n",
      "New value: -215, 602 at fitness 1421.0000\n",
      "New value: -216, 601 at fitness 1420.0000\n",
      "New value: -215, 601 at fitness 1419.0000\n",
      "New value: -214, 601 at fitness 1418.0000\n",
      "New value: -215, 600 at fitness 1417.0000\n",
      "New value: -214, 600 at fitness 1416.0000\n",
      "New value: -213, 600 at fitness 1415.0000\n",
      "New value: -214, 599 at fitness 1414.0000\n",
      "New value: -213, 599 at fitness 1413.0000\n",
      "New value: -212, 599 at fitness 1412.0000\n",
      "New value: -213, 598 at fitness 1411.0000\n",
      "New value: -212, 598 at fitness 1410.0000\n",
      "New value: -211, 598 at fitness 1409.0000\n",
      "New value: -212, 597 at fitness 1408.0000\n",
      "New value: -211, 597 at fitness 1407.0000\n",
      "New value: -210, 597 at fitness 1406.0000\n",
      "New value: -211, 596 at fitness 1405.0000\n",
      "New value: -210, 596 at fitness 1404.0000\n",
      "New value: -209, 596 at fitness 1403.0000\n",
      "New value: -210, 595 at fitness 1402.0000\n",
      "New value: -209, 595 at fitness 1401.0000\n",
      "New value: -208, 595 at fitness 1400.0000\n",
      "New value: -209, 594 at fitness 1399.0000\n",
      "New value: -208, 594 at fitness 1398.0000\n",
      "New value: -207, 594 at fitness 1397.0000\n",
      "New value: -208, 593 at fitness 1396.0000\n",
      "New value: -207, 593 at fitness 1395.0000\n",
      "New value: -206, 593 at fitness 1394.0000\n",
      "New value: -207, 592 at fitness 1393.0000\n",
      "New value: -206, 592 at fitness 1392.0000\n",
      "New value: -205, 592 at fitness 1391.0000\n",
      "New value: -206, 591 at fitness 1390.0000\n",
      "New value: -205, 591 at fitness 1389.0000\n",
      "New value: -204, 591 at fitness 1388.0000\n",
      "New value: -205, 590 at fitness 1387.0000\n",
      "New value: -204, 590 at fitness 1386.0000\n",
      "New value: -203, 590 at fitness 1385.0000\n",
      "New value: -204, 589 at fitness 1384.0000\n",
      "New value: -203, 589 at fitness 1383.0000\n",
      "New value: -202, 589 at fitness 1382.0000\n",
      "New value: -203, 588 at fitness 1381.0000\n",
      "New value: -202, 588 at fitness 1380.0000\n",
      "New value: -201, 588 at fitness 1379.0000\n",
      "New value: -202, 587 at fitness 1378.0000\n",
      "New value: -201, 587 at fitness 1377.0000\n",
      "New value: -200, 587 at fitness 1376.0000\n",
      "New value: -201, 586 at fitness 1375.0000\n",
      "New value: -200, 586 at fitness 1374.0000\n",
      "New value: -199, 586 at fitness 1373.0000\n",
      "New value: -200, 585 at fitness 1372.0000\n",
      "New value: -199, 585 at fitness 1371.0000\n",
      "New value: -198, 585 at fitness 1370.0000\n",
      "New value: -199, 584 at fitness 1369.0000\n",
      "New value: -198, 584 at fitness 1368.0000\n",
      "New value: -197, 584 at fitness 1367.0000\n",
      "New value: -198, 583 at fitness 1366.0000\n",
      "New value: -197, 583 at fitness 1365.0000\n",
      "New value: -196, 583 at fitness 1364.0000\n",
      "New value: -197, 582 at fitness 1363.0000\n",
      "New value: -196, 582 at fitness 1362.0000\n",
      "New value: -195, 582 at fitness 1361.0000\n",
      "New value: -196, 581 at fitness 1360.0000\n",
      "New value: -195, 581 at fitness 1359.0000\n",
      "New value: -194, 581 at fitness 1358.0000\n",
      "New value: -195, 580 at fitness 1357.0000\n",
      "New value: -194, 580 at fitness 1356.0000\n",
      "New value: -193, 580 at fitness 1355.0000\n",
      "New value: -194, 579 at fitness 1354.0000\n",
      "New value: -193, 579 at fitness 1353.0000\n",
      "New value: -192, 579 at fitness 1352.0000\n",
      "New value: -193, 578 at fitness 1351.0000\n",
      "New value: -192, 578 at fitness 1350.0000\n",
      "New value: -191, 578 at fitness 1349.0000\n",
      "New value: -192, 577 at fitness 1348.0000\n",
      "New value: -191, 577 at fitness 1347.0000\n",
      "New value: -190, 577 at fitness 1346.0000\n",
      "New value: -191, 576 at fitness 1345.0000\n",
      "New value: -190, 576 at fitness 1344.0000\n",
      "New value: -189, 576 at fitness 1343.0000\n",
      "New value: -190, 575 at fitness 1342.0000\n",
      "New value: -189, 575 at fitness 1341.0000\n",
      "New value: -188, 575 at fitness 1340.0000\n",
      "New value: -189, 574 at fitness 1339.0000\n",
      "New value: -188, 574 at fitness 1338.0000\n",
      "New value: -187, 574 at fitness 1337.0000\n",
      "New value: -188, 573 at fitness 1336.0000\n",
      "New value: -187, 573 at fitness 1335.0000\n",
      "New value: -186, 573 at fitness 1334.0000\n",
      "New value: -187, 572 at fitness 1333.0000\n",
      "New value: -186, 572 at fitness 1332.0000\n",
      "New value: -185, 572 at fitness 1331.0000\n",
      "New value: -186, 571 at fitness 1330.0000\n",
      "New value: -185, 571 at fitness 1329.0000\n",
      "New value: -184, 571 at fitness 1328.0000\n",
      "New value: -185, 570 at fitness 1327.0000\n",
      "New value: -184, 570 at fitness 1326.0000\n",
      "New value: -183, 570 at fitness 1325.0000\n",
      "New value: -184, 569 at fitness 1324.0000\n",
      "New value: -183, 569 at fitness 1323.0000\n",
      "New value: -182, 569 at fitness 1322.0000\n",
      "New value: -183, 568 at fitness 1321.0000\n",
      "New value: -182, 568 at fitness 1320.0000\n",
      "New value: -181, 568 at fitness 1319.0000\n",
      "New value: -182, 567 at fitness 1318.0000\n",
      "New value: -181, 567 at fitness 1317.0000\n",
      "New value: -180, 567 at fitness 1316.0000\n",
      "New value: -181, 566 at fitness 1315.0000\n",
      "New value: -180, 566 at fitness 1314.0000\n",
      "New value: -179, 566 at fitness 1313.0000\n",
      "New value: -180, 565 at fitness 1312.0000\n",
      "New value: -179, 565 at fitness 1311.0000\n",
      "New value: -178, 565 at fitness 1310.0000\n",
      "New value: -179, 564 at fitness 1309.0000\n",
      "New value: -178, 564 at fitness 1308.0000\n",
      "New value: -177, 564 at fitness 1307.0000\n",
      "New value: -178, 563 at fitness 1306.0000\n",
      "New value: -177, 563 at fitness 1305.0000\n",
      "New value: -176, 563 at fitness 1304.0000\n",
      "New value: -177, 562 at fitness 1303.0000\n",
      "New value: -176, 562 at fitness 1302.0000\n",
      "New value: -175, 562 at fitness 1301.0000\n",
      "New value: -176, 561 at fitness 1300.0000\n",
      "New value: -175, 561 at fitness 1299.0000\n",
      "New value: -174, 561 at fitness 1298.0000\n",
      "New value: -175, 560 at fitness 1297.0000\n",
      "New value: -174, 560 at fitness 1296.0000\n",
      "New value: -173, 560 at fitness 1295.0000\n",
      "New value: -174, 559 at fitness 1294.0000\n",
      "New value: -173, 559 at fitness 1293.0000\n",
      "New value: -172, 559 at fitness 1292.0000\n",
      "New value: -173, 558 at fitness 1291.0000\n",
      "New value: -172, 558 at fitness 1290.0000\n",
      "New value: -171, 558 at fitness 1289.0000\n",
      "New value: -172, 557 at fitness 1288.0000\n",
      "New value: -171, 557 at fitness 1287.0000\n",
      "New value: -170, 557 at fitness 1286.0000\n",
      "New value: -171, 556 at fitness 1285.0000\n",
      "New value: -170, 556 at fitness 1284.0000\n",
      "New value: -169, 556 at fitness 1283.0000\n",
      "New value: -170, 555 at fitness 1282.0000\n",
      "New value: -169, 555 at fitness 1281.0000\n",
      "New value: -168, 555 at fitness 1280.0000\n",
      "New value: -169, 554 at fitness 1279.0000\n",
      "New value: -168, 554 at fitness 1278.0000\n",
      "New value: -167, 554 at fitness 1277.0000\n",
      "New value: -168, 553 at fitness 1276.0000\n",
      "New value: -167, 553 at fitness 1275.0000\n",
      "New value: -166, 553 at fitness 1274.0000\n",
      "New value: -167, 552 at fitness 1273.0000\n",
      "New value: -166, 552 at fitness 1272.0000\n",
      "New value: -165, 552 at fitness 1271.0000\n",
      "New value: -166, 551 at fitness 1270.0000\n",
      "New value: -165, 551 at fitness 1269.0000\n",
      "New value: -164, 551 at fitness 1268.0000\n",
      "New value: -165, 550 at fitness 1267.0000\n",
      "New value: -164, 550 at fitness 1266.0000\n",
      "New value: -163, 550 at fitness 1265.0000\n",
      "New value: -164, 549 at fitness 1264.0000\n",
      "New value: -163, 549 at fitness 1263.0000\n",
      "New value: -162, 549 at fitness 1262.0000\n",
      "New value: -163, 548 at fitness 1261.0000\n",
      "New value: -162, 548 at fitness 1260.0000\n",
      "New value: -161, 548 at fitness 1259.0000\n",
      "New value: -162, 547 at fitness 1258.0000\n",
      "New value: -161, 547 at fitness 1257.0000\n",
      "New value: -160, 547 at fitness 1256.0000\n",
      "New value: -161, 546 at fitness 1255.0000\n",
      "New value: -160, 546 at fitness 1254.0000\n",
      "New value: -159, 546 at fitness 1253.0000\n",
      "New value: -160, 545 at fitness 1252.0000\n",
      "New value: -159, 545 at fitness 1251.0000\n",
      "New value: -158, 545 at fitness 1250.0000\n",
      "New value: -159, 544 at fitness 1249.0000\n",
      "New value: -158, 544 at fitness 1248.0000\n",
      "New value: -157, 544 at fitness 1247.0000\n",
      "New value: -158, 543 at fitness 1246.0000\n",
      "New value: -157, 543 at fitness 1245.0000\n",
      "New value: -156, 543 at fitness 1244.0000\n",
      "New value: -157, 542 at fitness 1243.0000\n",
      "New value: -156, 542 at fitness 1242.0000\n",
      "New value: -155, 542 at fitness 1241.0000\n",
      "New value: -156, 541 at fitness 1240.0000\n",
      "New value: -155, 541 at fitness 1239.0000\n",
      "New value: -154, 541 at fitness 1238.0000\n",
      "New value: -155, 540 at fitness 1237.0000\n",
      "New value: -154, 540 at fitness 1236.0000\n",
      "New value: -153, 540 at fitness 1235.0000\n",
      "New value: -154, 539 at fitness 1234.0000\n",
      "New value: -153, 539 at fitness 1233.0000\n",
      "New value: -152, 539 at fitness 1232.0000\n",
      "New value: -153, 538 at fitness 1231.0000\n",
      "New value: -152, 538 at fitness 1230.0000\n",
      "New value: -151, 538 at fitness 1229.0000\n",
      "New value: -152, 537 at fitness 1228.0000\n",
      "New value: -151, 537 at fitness 1227.0000\n",
      "New value: -150, 537 at fitness 1226.0000\n",
      "New value: -151, 536 at fitness 1225.0000\n",
      "New value: -150, 536 at fitness 1224.0000\n",
      "New value: -149, 536 at fitness 1223.0000\n",
      "New value: -150, 535 at fitness 1222.0000\n",
      "New value: -149, 535 at fitness 1221.0000\n",
      "New value: -148, 535 at fitness 1220.0000\n",
      "New value: -149, 534 at fitness 1219.0000\n",
      "New value: -148, 534 at fitness 1218.0000\n",
      "New value: -147, 534 at fitness 1217.0000\n",
      "New value: -148, 533 at fitness 1216.0000\n",
      "New value: -147, 533 at fitness 1215.0000\n",
      "New value: -146, 533 at fitness 1214.0000\n",
      "New value: -147, 532 at fitness 1213.0000\n",
      "New value: -146, 532 at fitness 1212.0000\n",
      "New value: -145, 532 at fitness 1211.0000\n",
      "New value: -146, 531 at fitness 1210.0000\n",
      "New value: -145, 531 at fitness 1209.0000\n",
      "New value: -144, 531 at fitness 1208.0000\n",
      "New value: -145, 530 at fitness 1207.0000\n",
      "New value: -144, 530 at fitness 1206.0000\n",
      "New value: -143, 530 at fitness 1205.0000\n",
      "New value: -144, 529 at fitness 1204.0000\n",
      "New value: -143, 529 at fitness 1203.0000\n",
      "New value: -142, 529 at fitness 1202.0000\n",
      "New value: -143, 528 at fitness 1201.0000\n",
      "New value: -142, 528 at fitness 1200.0000\n",
      "New value: -141, 528 at fitness 1199.0000\n",
      "New value: -142, 527 at fitness 1198.0000\n",
      "New value: -141, 527 at fitness 1197.0000\n",
      "New value: -140, 527 at fitness 1196.0000\n",
      "New value: -141, 526 at fitness 1195.0000\n",
      "New value: -140, 526 at fitness 1194.0000\n",
      "New value: -139, 526 at fitness 1193.0000\n",
      "New value: -140, 525 at fitness 1192.0000\n",
      "New value: -139, 525 at fitness 1191.0000\n",
      "New value: -138, 525 at fitness 1190.0000\n",
      "New value: -139, 524 at fitness 1189.0000\n",
      "New value: -138, 524 at fitness 1188.0000\n",
      "New value: -137, 524 at fitness 1187.0000\n",
      "New value: -138, 523 at fitness 1186.0000\n",
      "New value: -137, 523 at fitness 1185.0000\n",
      "New value: -136, 523 at fitness 1184.0000\n",
      "New value: -137, 522 at fitness 1183.0000\n",
      "New value: -136, 522 at fitness 1182.0000\n",
      "New value: -135, 522 at fitness 1181.0000\n",
      "New value: -136, 521 at fitness 1180.0000\n",
      "New value: -135, 521 at fitness 1179.0000\n",
      "New value: -134, 521 at fitness 1178.0000\n",
      "New value: -135, 520 at fitness 1177.0000\n",
      "New value: -134, 520 at fitness 1176.0000\n",
      "New value: -133, 520 at fitness 1175.0000\n",
      "New value: -134, 519 at fitness 1174.0000\n",
      "New value: -133, 519 at fitness 1173.0000\n",
      "New value: -132, 519 at fitness 1172.0000\n",
      "New value: -133, 518 at fitness 1171.0000\n",
      "New value: -132, 518 at fitness 1170.0000\n",
      "New value: -131, 518 at fitness 1169.0000\n",
      "New value: -132, 517 at fitness 1168.0000\n",
      "New value: -131, 517 at fitness 1167.0000\n",
      "New value: -130, 517 at fitness 1166.0000\n",
      "New value: -131, 516 at fitness 1165.0000\n",
      "New value: -130, 516 at fitness 1164.0000\n",
      "New value: -129, 516 at fitness 1163.0000\n",
      "New value: -130, 515 at fitness 1162.0000\n",
      "New value: -129, 515 at fitness 1161.0000\n",
      "New value: -128, 515 at fitness 1160.0000\n",
      "New value: -129, 514 at fitness 1159.0000\n",
      "New value: -128, 514 at fitness 1158.0000\n",
      "New value: -127, 514 at fitness 1157.0000\n",
      "New value: -128, 513 at fitness 1156.0000\n",
      "New value: -127, 513 at fitness 1155.0000\n",
      "New value: -126, 513 at fitness 1154.0000\n",
      "New value: -127, 512 at fitness 1153.0000\n",
      "New value: -126, 512 at fitness 1152.0000\n",
      "New value: -125, 512 at fitness 1151.0000\n",
      "New value: -126, 511 at fitness 1150.0000\n",
      "New value: -125, 511 at fitness 1149.0000\n",
      "New value: -124, 511 at fitness 1148.0000\n",
      "New value: -125, 510 at fitness 1147.0000\n",
      "New value: -124, 510 at fitness 1146.0000\n",
      "New value: -123, 510 at fitness 1145.0000\n",
      "New value: -124, 509 at fitness 1144.0000\n",
      "New value: -123, 509 at fitness 1143.0000\n",
      "New value: -122, 509 at fitness 1142.0000\n",
      "New value: -123, 508 at fitness 1141.0000\n",
      "New value: -122, 508 at fitness 1140.0000\n",
      "New value: -121, 508 at fitness 1139.0000\n",
      "New value: -122, 507 at fitness 1138.0000\n",
      "New value: -121, 507 at fitness 1137.0000\n",
      "New value: -120, 507 at fitness 1136.0000\n",
      "New value: -121, 506 at fitness 1135.0000\n",
      "New value: -120, 506 at fitness 1134.0000\n",
      "New value: -119, 506 at fitness 1133.0000\n",
      "New value: -120, 505 at fitness 1132.0000\n",
      "New value: -119, 505 at fitness 1131.0000\n",
      "New value: -118, 505 at fitness 1130.0000\n",
      "New value: -119, 504 at fitness 1129.0000\n",
      "New value: -118, 504 at fitness 1128.0000\n",
      "New value: -117, 504 at fitness 1127.0000\n",
      "New value: -118, 503 at fitness 1126.0000\n",
      "New value: -117, 503 at fitness 1125.0000\n",
      "New value: -116, 503 at fitness 1124.0000\n",
      "New value: -117, 502 at fitness 1123.0000\n",
      "New value: -116, 502 at fitness 1122.0000\n",
      "New value: -115, 502 at fitness 1121.0000\n",
      "New value: -116, 501 at fitness 1120.0000\n",
      "New value: -115, 501 at fitness 1119.0000\n",
      "New value: -114, 501 at fitness 1118.0000\n",
      "New value: -115, 500 at fitness 1117.0000\n",
      "New value: -114, 500 at fitness 1116.0000\n",
      "New value: -113, 500 at fitness 1115.0000\n",
      "New value: -114, 499 at fitness 1114.0000\n",
      "New value: -113, 499 at fitness 1113.0000\n",
      "New value: -112, 499 at fitness 1112.0000\n",
      "New value: -113, 498 at fitness 1111.0000\n",
      "New value: -112, 498 at fitness 1110.0000\n",
      "New value: -111, 498 at fitness 1109.0000\n",
      "New value: -112, 497 at fitness 1108.0000\n",
      "New value: -111, 497 at fitness 1107.0000\n",
      "New value: -110, 497 at fitness 1106.0000\n",
      "New value: -111, 496 at fitness 1105.0000\n",
      "New value: -110, 496 at fitness 1104.0000\n",
      "New value: -109, 496 at fitness 1103.0000\n",
      "New value: -110, 495 at fitness 1102.0000\n",
      "New value: -109, 495 at fitness 1101.0000\n",
      "New value: -108, 495 at fitness 1100.0000\n",
      "New value: -109, 494 at fitness 1099.0000\n",
      "New value: -108, 494 at fitness 1098.0000\n",
      "New value: -107, 494 at fitness 1097.0000\n",
      "New value: -108, 493 at fitness 1096.0000\n",
      "New value: -107, 493 at fitness 1095.0000\n",
      "New value: -106, 493 at fitness 1094.0000\n",
      "New value: -107, 492 at fitness 1093.0000\n",
      "New value: -106, 492 at fitness 1092.0000\n",
      "New value: -105, 492 at fitness 1091.0000\n",
      "New value: -106, 491 at fitness 1090.0000\n",
      "New value: -105, 491 at fitness 1089.0000\n",
      "New value: -104, 491 at fitness 1088.0000\n",
      "New value: -105, 490 at fitness 1087.0000\n",
      "New value: -104, 490 at fitness 1086.0000\n",
      "New value: -103, 490 at fitness 1085.0000\n",
      "New value: -104, 489 at fitness 1084.0000\n",
      "New value: -103, 489 at fitness 1083.0000\n",
      "New value: -102, 489 at fitness 1082.0000\n",
      "New value: -103, 488 at fitness 1081.0000\n",
      "New value: -102, 488 at fitness 1080.0000\n",
      "New value: -101, 488 at fitness 1079.0000\n",
      "New value: -102, 487 at fitness 1078.0000\n",
      "New value: -101, 487 at fitness 1077.0000\n",
      "New value: -100, 487 at fitness 1076.0000\n",
      "New value: -101, 486 at fitness 1075.0000\n",
      "New value: -100, 486 at fitness 1074.0000\n",
      "New value: -99, 486 at fitness 1073.0000\n",
      "New value: -100, 485 at fitness 1072.0000\n",
      "New value: -99, 485 at fitness 1071.0000\n",
      "New value: -98, 485 at fitness 1070.0000\n",
      "New value: -99, 484 at fitness 1069.0000\n",
      "New value: -98, 484 at fitness 1068.0000\n",
      "New value: -97, 484 at fitness 1067.0000\n",
      "New value: -98, 483 at fitness 1066.0000\n",
      "New value: -97, 483 at fitness 1065.0000\n",
      "New value: -96, 483 at fitness 1064.0000\n",
      "New value: -97, 482 at fitness 1063.0000\n",
      "New value: -96, 482 at fitness 1062.0000\n",
      "New value: -95, 482 at fitness 1061.0000\n",
      "New value: -96, 481 at fitness 1060.0000\n",
      "New value: -95, 481 at fitness 1059.0000\n",
      "New value: -94, 481 at fitness 1058.0000\n",
      "New value: -95, 480 at fitness 1057.0000\n",
      "New value: -94, 480 at fitness 1056.0000\n",
      "New value: -93, 480 at fitness 1055.0000\n",
      "New value: -94, 479 at fitness 1054.0000\n",
      "New value: -93, 479 at fitness 1053.0000\n",
      "New value: -92, 479 at fitness 1052.0000\n",
      "New value: -93, 478 at fitness 1051.0000\n",
      "New value: -92, 478 at fitness 1050.0000\n",
      "New value: -91, 478 at fitness 1049.0000\n",
      "New value: -92, 477 at fitness 1048.0000\n",
      "New value: -91, 477 at fitness 1047.0000\n",
      "New value: -90, 477 at fitness 1046.0000\n",
      "New value: -91, 476 at fitness 1045.0000\n",
      "New value: -90, 476 at fitness 1044.0000\n",
      "New value: -89, 476 at fitness 1043.0000\n",
      "New value: -90, 475 at fitness 1042.0000\n",
      "New value: -89, 475 at fitness 1041.0000\n",
      "New value: -88, 475 at fitness 1040.0000\n",
      "New value: -89, 474 at fitness 1039.0000\n",
      "New value: -88, 474 at fitness 1038.0000\n",
      "New value: -87, 474 at fitness 1037.0000\n",
      "New value: -88, 473 at fitness 1036.0000\n",
      "New value: -87, 473 at fitness 1035.0000\n",
      "New value: -86, 473 at fitness 1034.0000\n",
      "New value: -87, 472 at fitness 1033.0000\n",
      "New value: -86, 472 at fitness 1032.0000\n",
      "New value: -85, 472 at fitness 1031.0000\n",
      "New value: -86, 471 at fitness 1030.0000\n",
      "New value: -85, 471 at fitness 1029.0000\n",
      "New value: -84, 471 at fitness 1028.0000\n",
      "New value: -85, 470 at fitness 1027.0000\n",
      "New value: -84, 470 at fitness 1026.0000\n",
      "New value: -83, 470 at fitness 1025.0000\n",
      "New value: -84, 469 at fitness 1024.0000\n",
      "New value: -83, 469 at fitness 1023.0000\n",
      "New value: -82, 469 at fitness 1022.0000\n",
      "New value: -83, 468 at fitness 1021.0000\n",
      "New value: -82, 468 at fitness 1020.0000\n",
      "New value: -81, 468 at fitness 1019.0000\n",
      "New value: -82, 467 at fitness 1018.0000\n",
      "New value: -81, 467 at fitness 1017.0000\n",
      "New value: -80, 467 at fitness 1016.0000\n",
      "New value: -81, 466 at fitness 1015.0000\n",
      "New value: -80, 466 at fitness 1014.0000\n",
      "New value: -79, 466 at fitness 1013.0000\n",
      "New value: -80, 465 at fitness 1012.0000\n",
      "New value: -79, 465 at fitness 1011.0000\n",
      "New value: -78, 465 at fitness 1010.0000\n",
      "New value: -79, 464 at fitness 1009.0000\n",
      "New value: -78, 464 at fitness 1008.0000\n",
      "New value: -77, 464 at fitness 1007.0000\n",
      "New value: -78, 463 at fitness 1006.0000\n",
      "New value: -77, 463 at fitness 1005.0000\n",
      "New value: -76, 463 at fitness 1004.0000\n",
      "New value: -77, 462 at fitness 1003.0000\n",
      "New value: -76, 462 at fitness 1002.0000\n",
      "New value: -75, 462 at fitness 1001.0000\n",
      "New value: -76, 461 at fitness 1000.0000\n",
      "New value: -75, 461 at fitness 999.0000\n",
      "New value: -74, 461 at fitness 998.0000\n",
      "New value: -75, 460 at fitness 997.0000\n",
      "New value: -74, 460 at fitness 996.0000\n",
      "New value: -73, 460 at fitness 995.0000\n",
      "New value: -74, 459 at fitness 994.0000\n",
      "New value: -73, 459 at fitness 993.0000\n",
      "New value: -72, 459 at fitness 992.0000\n",
      "New value: -73, 458 at fitness 991.0000\n",
      "New value: -72, 458 at fitness 990.0000\n",
      "New value: -71, 458 at fitness 989.0000\n",
      "New value: -72, 457 at fitness 988.0000\n",
      "New value: -71, 457 at fitness 987.0000\n",
      "New value: -70, 457 at fitness 986.0000\n",
      "New value: -71, 456 at fitness 985.0000\n",
      "New value: -70, 456 at fitness 984.0000\n",
      "New value: -69, 456 at fitness 983.0000\n",
      "New value: -70, 455 at fitness 982.0000\n",
      "New value: -69, 455 at fitness 981.0000\n",
      "New value: -68, 455 at fitness 980.0000\n",
      "New value: -69, 454 at fitness 979.0000\n",
      "New value: -68, 454 at fitness 978.0000\n",
      "New value: -67, 454 at fitness 977.0000\n",
      "New value: -68, 453 at fitness 976.0000\n",
      "New value: -67, 453 at fitness 975.0000\n",
      "New value: -66, 453 at fitness 974.0000\n",
      "New value: -67, 452 at fitness 973.0000\n",
      "New value: -66, 452 at fitness 972.0000\n",
      "New value: -65, 452 at fitness 971.0000\n",
      "New value: -66, 451 at fitness 970.0000\n",
      "New value: -65, 451 at fitness 969.0000\n",
      "New value: -64, 451 at fitness 968.0000\n",
      "New value: -65, 450 at fitness 967.0000\n",
      "New value: -64, 450 at fitness 966.0000\n",
      "New value: -63, 450 at fitness 965.0000\n",
      "New value: -64, 449 at fitness 964.0000\n",
      "New value: -63, 449 at fitness 963.0000\n",
      "New value: -62, 449 at fitness 962.0000\n",
      "New value: -63, 448 at fitness 961.0000\n",
      "New value: -62, 448 at fitness 960.0000\n",
      "New value: -61, 448 at fitness 959.0000\n",
      "New value: -62, 447 at fitness 958.0000\n",
      "New value: -61, 447 at fitness 957.0000\n",
      "New value: -60, 447 at fitness 956.0000\n",
      "New value: -61, 446 at fitness 955.0000\n",
      "New value: -60, 446 at fitness 954.0000\n",
      "New value: -59, 446 at fitness 953.0000\n",
      "New value: -60, 445 at fitness 952.0000\n",
      "New value: -59, 445 at fitness 951.0000\n",
      "New value: -58, 445 at fitness 950.0000\n",
      "New value: -59, 444 at fitness 949.0000\n",
      "New value: -58, 444 at fitness 948.0000\n",
      "New value: -57, 444 at fitness 947.0000\n",
      "New value: -58, 443 at fitness 946.0000\n",
      "New value: -57, 443 at fitness 945.0000\n",
      "New value: -56, 443 at fitness 944.0000\n",
      "New value: -57, 442 at fitness 943.0000\n",
      "New value: -56, 442 at fitness 942.0000\n",
      "New value: -55, 442 at fitness 941.0000\n",
      "New value: -56, 441 at fitness 940.0000\n",
      "New value: -55, 441 at fitness 939.0000\n",
      "New value: -54, 441 at fitness 938.0000\n",
      "New value: -55, 440 at fitness 937.0000\n",
      "New value: -54, 440 at fitness 936.0000\n",
      "New value: -53, 440 at fitness 935.0000\n",
      "New value: -54, 439 at fitness 934.0000\n",
      "New value: -53, 439 at fitness 933.0000\n",
      "New value: -52, 439 at fitness 932.0000\n",
      "New value: -53, 438 at fitness 931.0000\n",
      "New value: -52, 438 at fitness 930.0000\n",
      "New value: -51, 438 at fitness 929.0000\n",
      "New value: -52, 437 at fitness 928.0000\n",
      "New value: -51, 437 at fitness 927.0000\n",
      "New value: -50, 437 at fitness 926.0000\n",
      "New value: -51, 436 at fitness 925.0000\n",
      "New value: -50, 436 at fitness 924.0000\n",
      "New value: -49, 436 at fitness 923.0000\n",
      "New value: -50, 435 at fitness 922.0000\n",
      "New value: -49, 435 at fitness 921.0000\n",
      "New value: -48, 435 at fitness 920.0000\n",
      "New value: -49, 434 at fitness 919.0000\n",
      "New value: -48, 434 at fitness 918.0000\n",
      "New value: -47, 434 at fitness 917.0000\n",
      "New value: -48, 433 at fitness 916.0000\n",
      "New value: -47, 433 at fitness 915.0000\n",
      "New value: -46, 433 at fitness 914.0000\n",
      "New value: -47, 432 at fitness 913.0000\n",
      "New value: -46, 432 at fitness 912.0000\n",
      "New value: -45, 432 at fitness 911.0000\n",
      "New value: -46, 431 at fitness 910.0000\n",
      "New value: -45, 431 at fitness 909.0000\n",
      "New value: -44, 431 at fitness 908.0000\n",
      "New value: -45, 430 at fitness 907.0000\n",
      "New value: -44, 430 at fitness 906.0000\n",
      "New value: -43, 430 at fitness 905.0000\n",
      "New value: -44, 429 at fitness 904.0000\n",
      "New value: -43, 429 at fitness 903.0000\n",
      "New value: -42, 429 at fitness 902.0000\n",
      "New value: -43, 428 at fitness 901.0000\n",
      "New value: -42, 428 at fitness 900.0000\n",
      "New value: -41, 428 at fitness 899.0000\n",
      "New value: -42, 427 at fitness 898.0000\n",
      "New value: -41, 427 at fitness 897.0000\n",
      "New value: -40, 427 at fitness 896.0000\n",
      "New value: -41, 426 at fitness 895.0000\n",
      "New value: -40, 426 at fitness 894.0000\n",
      "New value: -39, 426 at fitness 893.0000\n",
      "New value: -40, 425 at fitness 892.0000\n",
      "New value: -39, 425 at fitness 891.0000\n",
      "New value: -38, 425 at fitness 890.0000\n",
      "New value: -39, 424 at fitness 889.0000\n",
      "New value: -38, 424 at fitness 888.0000\n",
      "New value: -37, 424 at fitness 887.0000\n",
      "New value: -38, 423 at fitness 886.0000\n",
      "New value: -37, 423 at fitness 885.0000\n",
      "New value: -36, 423 at fitness 884.0000\n",
      "New value: -37, 422 at fitness 883.0000\n",
      "New value: -36, 422 at fitness 882.0000\n",
      "New value: -35, 422 at fitness 881.0000\n",
      "New value: -36, 421 at fitness 880.0000\n",
      "New value: -35, 421 at fitness 879.0000\n",
      "New value: -34, 421 at fitness 878.0000\n",
      "New value: -35, 420 at fitness 877.0000\n",
      "New value: -34, 420 at fitness 876.0000\n",
      "New value: -33, 420 at fitness 875.0000\n",
      "New value: -34, 419 at fitness 874.0000\n",
      "New value: -33, 419 at fitness 873.0000\n",
      "New value: -32, 419 at fitness 872.0000\n",
      "New value: -33, 418 at fitness 871.0000\n",
      "New value: -32, 418 at fitness 870.0000\n",
      "New value: -31, 418 at fitness 869.0000\n",
      "New value: -32, 417 at fitness 868.0000\n",
      "New value: -31, 417 at fitness 867.0000\n",
      "New value: -30, 417 at fitness 866.0000\n",
      "New value: -31, 416 at fitness 865.0000\n",
      "New value: -30, 416 at fitness 864.0000\n",
      "New value: -29, 416 at fitness 863.0000\n",
      "New value: -30, 415 at fitness 862.0000\n",
      "New value: -29, 415 at fitness 861.0000\n",
      "New value: -28, 415 at fitness 860.0000\n",
      "New value: -29, 414 at fitness 859.0000\n",
      "New value: -28, 414 at fitness 858.0000\n",
      "New value: -27, 414 at fitness 857.0000\n",
      "New value: -28, 413 at fitness 856.0000\n",
      "New value: -27, 413 at fitness 855.0000\n",
      "New value: -26, 413 at fitness 854.0000\n",
      "New value: -27, 412 at fitness 853.0000\n",
      "New value: -26, 412 at fitness 852.0000\n",
      "New value: -25, 412 at fitness 851.0000\n",
      "New value: -26, 411 at fitness 850.0000\n",
      "New value: -25, 411 at fitness 849.0000\n",
      "New value: -24, 411 at fitness 848.0000\n",
      "New value: -25, 410 at fitness 847.0000\n",
      "New value: -24, 410 at fitness 846.0000\n",
      "New value: -23, 410 at fitness 845.0000\n",
      "New value: -24, 409 at fitness 844.0000\n",
      "New value: -23, 409 at fitness 843.0000\n",
      "New value: -22, 409 at fitness 842.0000\n",
      "New value: -23, 408 at fitness 841.0000\n",
      "New value: -22, 408 at fitness 840.0000\n",
      "New value: -21, 408 at fitness 839.0000\n",
      "New value: -22, 407 at fitness 838.0000\n",
      "New value: -21, 407 at fitness 837.0000\n",
      "New value: -20, 407 at fitness 836.0000\n",
      "New value: -21, 406 at fitness 835.0000\n",
      "New value: -20, 406 at fitness 834.0000\n",
      "New value: -19, 406 at fitness 833.0000\n",
      "New value: -20, 405 at fitness 832.0000\n",
      "New value: -19, 405 at fitness 831.0000\n",
      "New value: -18, 405 at fitness 830.0000\n",
      "New value: -19, 404 at fitness 829.0000\n",
      "New value: -18, 404 at fitness 828.0000\n",
      "New value: -17, 404 at fitness 827.0000\n",
      "New value: -18, 403 at fitness 826.0000\n",
      "New value: -17, 403 at fitness 825.0000\n",
      "New value: -16, 403 at fitness 824.0000\n",
      "New value: -17, 402 at fitness 823.0000\n",
      "New value: -16, 402 at fitness 822.0000\n",
      "New value: -15, 402 at fitness 821.0000\n",
      "New value: -16, 401 at fitness 820.0000\n",
      "New value: -15, 401 at fitness 819.0000\n",
      "New value: -14, 401 at fitness 818.0000\n",
      "New value: -15, 400 at fitness 817.0000\n",
      "New value: -14, 400 at fitness 816.0000\n",
      "New value: -13, 400 at fitness 815.0000\n",
      "New value: -14, 399 at fitness 814.0000\n",
      "New value: -13, 399 at fitness 813.0000\n",
      "New value: -12, 399 at fitness 812.0000\n",
      "New value: -13, 398 at fitness 811.0000\n",
      "New value: -12, 398 at fitness 810.0000\n",
      "New value: -11, 398 at fitness 809.0000\n",
      "New value: -12, 397 at fitness 808.0000\n",
      "New value: -11, 397 at fitness 807.0000\n",
      "New value: -10, 397 at fitness 806.0000\n",
      "New value: -11, 396 at fitness 805.0000\n",
      "New value: -10, 396 at fitness 804.0000\n",
      "New value: -9, 396 at fitness 803.0000\n",
      "New value: -10, 395 at fitness 802.0000\n",
      "New value: -9, 395 at fitness 801.0000\n",
      "New value: -8, 395 at fitness 800.0000\n",
      "New value: -9, 394 at fitness 799.0000\n",
      "New value: -8, 394 at fitness 798.0000\n",
      "New value: -7, 394 at fitness 797.0000\n",
      "New value: -8, 393 at fitness 796.0000\n",
      "New value: -7, 393 at fitness 795.0000\n",
      "New value: -6, 393 at fitness 794.0000\n",
      "New value: -7, 392 at fitness 793.0000\n",
      "New value: -6, 392 at fitness 792.0000\n",
      "New value: -5, 392 at fitness 791.0000\n",
      "New value: -6, 391 at fitness 790.0000\n",
      "New value: -5, 391 at fitness 789.0000\n",
      "New value: -4, 391 at fitness 788.0000\n",
      "New value: -5, 390 at fitness 787.0000\n",
      "New value: -4, 390 at fitness 786.0000\n",
      "New value: -3, 390 at fitness 785.0000\n",
      "New value: -4, 389 at fitness 784.0000\n",
      "New value: -3, 389 at fitness 783.0000\n",
      "New value: -2, 389 at fitness 782.0000\n",
      "New value: -3, 388 at fitness 781.0000\n",
      "New value: -2, 388 at fitness 780.0000\n",
      "New value: -1, 388 at fitness 779.0000\n",
      "New value: -2, 387 at fitness 778.0000\n",
      "New value: -1, 387 at fitness 777.0000\n",
      "New value: 0, 387 at fitness 776.0000\n",
      "New value: -1, 386 at fitness 775.0000\n",
      "New value: 0, 386 at fitness 774.0000\n",
      "New value: 1, 386 at fitness 773.0000\n",
      "New value: 0, 385 at fitness 772.0000\n",
      "New value: 1, 385 at fitness 771.0000\n",
      "New value: 2, 385 at fitness 770.0000\n",
      "New value: 1, 384 at fitness 769.0000\n",
      "New value: 2, 384 at fitness 768.0000\n",
      "New value: 3, 384 at fitness 767.0000\n",
      "New value: 2, 383 at fitness 766.0000\n",
      "New value: 3, 383 at fitness 765.0000\n",
      "New value: 4, 383 at fitness 764.0000\n",
      "New value: 3, 382 at fitness 763.0000\n",
      "New value: 4, 382 at fitness 762.0000\n",
      "New value: 5, 382 at fitness 761.0000\n",
      "New value: 4, 381 at fitness 760.0000\n",
      "New value: 5, 381 at fitness 759.0000\n",
      "New value: 6, 381 at fitness 758.0000\n",
      "New value: 5, 380 at fitness 757.0000\n",
      "New value: 6, 380 at fitness 756.0000\n",
      "New value: 7, 380 at fitness 755.0000\n",
      "New value: 6, 379 at fitness 754.0000\n",
      "New value: 7, 379 at fitness 753.0000\n",
      "New value: 8, 379 at fitness 752.0000\n",
      "New value: 7, 378 at fitness 751.0000\n",
      "New value: 8, 378 at fitness 750.0000\n",
      "New value: 9, 378 at fitness 749.0000\n",
      "New value: 8, 377 at fitness 748.0000\n",
      "New value: 9, 377 at fitness 747.0000\n",
      "New value: 10, 377 at fitness 746.0000\n",
      "New value: 9, 376 at fitness 745.0000\n",
      "New value: 10, 376 at fitness 744.0000\n",
      "New value: 11, 376 at fitness 743.0000\n",
      "New value: 10, 375 at fitness 742.0000\n",
      "New value: 11, 375 at fitness 741.0000\n",
      "New value: 12, 375 at fitness 740.0000\n",
      "New value: 11, 374 at fitness 739.0000\n",
      "New value: 12, 374 at fitness 738.0000\n",
      "New value: 13, 374 at fitness 737.0000\n",
      "New value: 12, 373 at fitness 736.0000\n",
      "New value: 13, 373 at fitness 735.0000\n",
      "New value: 14, 373 at fitness 734.0000\n",
      "New value: 13, 372 at fitness 733.0000\n",
      "New value: 14, 372 at fitness 732.0000\n",
      "New value: 15, 372 at fitness 731.0000\n",
      "New value: 14, 371 at fitness 730.0000\n",
      "New value: 15, 371 at fitness 729.0000\n",
      "New value: 16, 371 at fitness 728.0000\n",
      "New value: 15, 370 at fitness 727.0000\n",
      "New value: 16, 370 at fitness 726.0000\n",
      "New value: 17, 370 at fitness 725.0000\n",
      "New value: 16, 369 at fitness 724.0000\n",
      "New value: 17, 369 at fitness 723.0000\n",
      "New value: 18, 369 at fitness 722.0000\n",
      "New value: 17, 368 at fitness 721.0000\n",
      "New value: 18, 368 at fitness 720.0000\n",
      "New value: 19, 368 at fitness 719.0000\n",
      "New value: 18, 367 at fitness 718.0000\n",
      "New value: 19, 367 at fitness 717.0000\n",
      "New value: 20, 367 at fitness 716.0000\n",
      "New value: 19, 366 at fitness 715.0000\n",
      "New value: 20, 366 at fitness 714.0000\n",
      "New value: 21, 366 at fitness 713.0000\n",
      "New value: 20, 365 at fitness 712.0000\n",
      "New value: 21, 365 at fitness 711.0000\n",
      "New value: 22, 365 at fitness 710.0000\n",
      "New value: 21, 364 at fitness 709.0000\n",
      "New value: 22, 364 at fitness 708.0000\n",
      "New value: 23, 364 at fitness 707.0000\n",
      "New value: 22, 363 at fitness 706.0000\n",
      "New value: 23, 363 at fitness 705.0000\n",
      "New value: 24, 363 at fitness 704.0000\n",
      "New value: 23, 362 at fitness 703.0000\n",
      "New value: 24, 362 at fitness 702.0000\n",
      "New value: 25, 362 at fitness 701.0000\n",
      "New value: 24, 361 at fitness 700.0000\n",
      "New value: 25, 361 at fitness 699.0000\n",
      "New value: 26, 361 at fitness 698.0000\n",
      "New value: 25, 360 at fitness 697.0000\n",
      "New value: 26, 360 at fitness 696.0000\n",
      "New value: 27, 360 at fitness 695.0000\n",
      "New value: 26, 359 at fitness 694.0000\n",
      "New value: 27, 359 at fitness 693.0000\n",
      "New value: 28, 359 at fitness 692.0000\n",
      "New value: 27, 358 at fitness 691.0000\n",
      "New value: 28, 358 at fitness 690.0000\n",
      "New value: 29, 358 at fitness 689.0000\n",
      "New value: 28, 357 at fitness 688.0000\n",
      "New value: 29, 357 at fitness 687.0000\n",
      "New value: 30, 357 at fitness 686.0000\n",
      "New value: 29, 356 at fitness 685.0000\n",
      "New value: 30, 356 at fitness 684.0000\n",
      "New value: 31, 356 at fitness 683.0000\n",
      "New value: 30, 355 at fitness 682.0000\n",
      "New value: 31, 355 at fitness 681.0000\n",
      "New value: 32, 355 at fitness 680.0000\n",
      "New value: 31, 354 at fitness 679.0000\n",
      "New value: 32, 354 at fitness 678.0000\n",
      "New value: 33, 354 at fitness 677.0000\n",
      "New value: 32, 353 at fitness 676.0000\n",
      "New value: 33, 353 at fitness 675.0000\n",
      "New value: 34, 353 at fitness 674.0000\n",
      "New value: 33, 352 at fitness 673.0000\n",
      "New value: 34, 352 at fitness 672.0000\n",
      "New value: 35, 352 at fitness 671.0000\n",
      "New value: 34, 351 at fitness 670.0000\n",
      "New value: 35, 351 at fitness 669.0000\n",
      "New value: 36, 351 at fitness 668.0000\n",
      "New value: 35, 350 at fitness 667.0000\n",
      "New value: 36, 350 at fitness 666.0000\n",
      "New value: 37, 350 at fitness 665.0000\n",
      "New value: 36, 349 at fitness 664.0000\n",
      "New value: 37, 349 at fitness 663.0000\n",
      "New value: 38, 349 at fitness 662.0000\n",
      "New value: 37, 348 at fitness 661.0000\n",
      "New value: 38, 348 at fitness 660.0000\n",
      "New value: 39, 348 at fitness 659.0000\n",
      "New value: 38, 347 at fitness 658.0000\n",
      "New value: 39, 347 at fitness 657.0000\n",
      "New value: 40, 347 at fitness 656.0000\n",
      "New value: 39, 346 at fitness 655.0000\n",
      "New value: 40, 346 at fitness 654.0000\n",
      "New value: 41, 346 at fitness 653.0000\n",
      "New value: 40, 345 at fitness 652.0000\n",
      "New value: 41, 345 at fitness 651.0000\n",
      "New value: 42, 345 at fitness 650.0000\n",
      "New value: 41, 344 at fitness 649.0000\n",
      "New value: 42, 344 at fitness 648.0000\n",
      "New value: 43, 344 at fitness 647.0000\n",
      "New value: 42, 343 at fitness 646.0000\n",
      "New value: 43, 343 at fitness 645.0000\n",
      "New value: 44, 343 at fitness 644.0000\n",
      "New value: 43, 342 at fitness 643.0000\n",
      "New value: 44, 342 at fitness 642.0000\n",
      "New value: 45, 342 at fitness 641.0000\n",
      "New value: 44, 341 at fitness 640.0000\n",
      "New value: 45, 341 at fitness 639.0000\n",
      "New value: 46, 341 at fitness 638.0000\n",
      "New value: 45, 340 at fitness 637.0000\n",
      "New value: 46, 340 at fitness 636.0000\n",
      "New value: 47, 340 at fitness 635.0000\n",
      "New value: 46, 339 at fitness 634.0000\n",
      "New value: 47, 339 at fitness 633.0000\n",
      "New value: 48, 339 at fitness 632.0000\n",
      "New value: 47, 338 at fitness 631.0000\n",
      "New value: 48, 338 at fitness 630.0000\n",
      "New value: 49, 338 at fitness 629.0000\n",
      "New value: 48, 337 at fitness 628.0000\n",
      "New value: 49, 337 at fitness 627.0000\n",
      "New value: 50, 337 at fitness 626.0000\n",
      "New value: 49, 336 at fitness 625.0000\n",
      "New value: 50, 336 at fitness 624.0000\n",
      "New value: 51, 336 at fitness 623.0000\n",
      "New value: 50, 335 at fitness 622.0000\n",
      "New value: 51, 335 at fitness 621.0000\n",
      "New value: 52, 335 at fitness 620.0000\n",
      "New value: 51, 334 at fitness 619.0000\n",
      "New value: 52, 334 at fitness 618.0000\n",
      "New value: 53, 334 at fitness 617.0000\n",
      "New value: 52, 333 at fitness 616.0000\n",
      "New value: 53, 333 at fitness 615.0000\n",
      "New value: 54, 333 at fitness 614.0000\n",
      "New value: 53, 332 at fitness 613.0000\n",
      "New value: 54, 332 at fitness 612.0000\n",
      "New value: 55, 332 at fitness 611.0000\n",
      "New value: 54, 331 at fitness 610.0000\n",
      "New value: 55, 331 at fitness 609.0000\n",
      "New value: 56, 331 at fitness 608.0000\n",
      "New value: 55, 330 at fitness 607.0000\n",
      "New value: 56, 330 at fitness 606.0000\n",
      "New value: 57, 330 at fitness 605.0000\n",
      "New value: 56, 329 at fitness 604.0000\n",
      "New value: 57, 329 at fitness 603.0000\n",
      "New value: 58, 329 at fitness 602.0000\n",
      "New value: 57, 328 at fitness 601.0000\n",
      "New value: 58, 328 at fitness 600.0000\n",
      "New value: 59, 328 at fitness 599.0000\n",
      "New value: 58, 327 at fitness 598.0000\n",
      "New value: 59, 327 at fitness 597.0000\n",
      "New value: 60, 327 at fitness 596.0000\n",
      "New value: 59, 326 at fitness 595.0000\n",
      "New value: 60, 326 at fitness 594.0000\n",
      "New value: 61, 326 at fitness 593.0000\n",
      "New value: 60, 325 at fitness 592.0000\n",
      "New value: 61, 325 at fitness 591.0000\n",
      "New value: 62, 325 at fitness 590.0000\n",
      "New value: 61, 324 at fitness 589.0000\n",
      "New value: 62, 324 at fitness 588.0000\n",
      "New value: 63, 324 at fitness 587.0000\n",
      "New value: 62, 323 at fitness 586.0000\n",
      "New value: 63, 323 at fitness 585.0000\n",
      "New value: 64, 323 at fitness 584.0000\n",
      "New value: 63, 322 at fitness 583.0000\n",
      "New value: 64, 322 at fitness 582.0000\n",
      "New value: 65, 322 at fitness 581.0000\n",
      "New value: 64, 321 at fitness 580.0000\n",
      "New value: 65, 321 at fitness 579.0000\n",
      "New value: 66, 321 at fitness 578.0000\n",
      "New value: 65, 320 at fitness 577.0000\n",
      "New value: 66, 320 at fitness 576.0000\n",
      "New value: 67, 320 at fitness 575.0000\n",
      "New value: 66, 319 at fitness 574.0000\n",
      "New value: 67, 319 at fitness 573.0000\n",
      "New value: 68, 319 at fitness 572.0000\n",
      "New value: 67, 318 at fitness 571.0000\n",
      "New value: 68, 318 at fitness 570.0000\n",
      "New value: 69, 318 at fitness 569.0000\n",
      "New value: 68, 317 at fitness 568.0000\n",
      "New value: 69, 317 at fitness 567.0000\n",
      "New value: 70, 317 at fitness 566.0000\n",
      "New value: 69, 316 at fitness 565.0000\n",
      "New value: 70, 316 at fitness 564.0000\n",
      "New value: 71, 316 at fitness 563.0000\n",
      "New value: 70, 315 at fitness 562.0000\n",
      "New value: 71, 315 at fitness 561.0000\n",
      "New value: 72, 315 at fitness 560.0000\n",
      "New value: 71, 314 at fitness 559.0000\n",
      "New value: 72, 314 at fitness 558.0000\n",
      "New value: 73, 314 at fitness 557.0000\n",
      "New value: 72, 313 at fitness 556.0000\n",
      "New value: 73, 313 at fitness 555.0000\n",
      "New value: 74, 313 at fitness 554.0000\n",
      "New value: 73, 312 at fitness 553.0000\n",
      "New value: 74, 312 at fitness 552.0000\n",
      "New value: 75, 312 at fitness 551.0000\n",
      "New value: 74, 311 at fitness 550.0000\n",
      "New value: 75, 311 at fitness 549.0000\n",
      "New value: 76, 311 at fitness 548.0000\n",
      "New value: 75, 310 at fitness 547.0000\n",
      "New value: 76, 310 at fitness 546.0000\n",
      "New value: 77, 310 at fitness 545.0000\n",
      "New value: 76, 309 at fitness 544.0000\n",
      "New value: 77, 309 at fitness 543.0000\n",
      "New value: 78, 309 at fitness 542.0000\n",
      "New value: 77, 308 at fitness 541.0000\n",
      "New value: 78, 308 at fitness 540.0000\n",
      "New value: 79, 308 at fitness 539.0000\n",
      "New value: 78, 307 at fitness 538.0000\n",
      "New value: 79, 307 at fitness 537.0000\n",
      "New value: 80, 307 at fitness 536.0000\n",
      "New value: 79, 306 at fitness 535.0000\n",
      "New value: 80, 306 at fitness 534.0000\n",
      "New value: 81, 306 at fitness 533.0000\n",
      "New value: 80, 305 at fitness 532.0000\n",
      "New value: 81, 305 at fitness 531.0000\n",
      "New value: 82, 305 at fitness 530.0000\n",
      "New value: 81, 304 at fitness 529.0000\n",
      "New value: 82, 304 at fitness 528.0000\n",
      "New value: 83, 304 at fitness 527.0000\n",
      "New value: 82, 303 at fitness 526.0000\n",
      "New value: 83, 303 at fitness 525.0000\n",
      "New value: 84, 303 at fitness 524.0000\n",
      "New value: 83, 302 at fitness 523.0000\n",
      "New value: 84, 302 at fitness 522.0000\n",
      "New value: 85, 302 at fitness 521.0000\n",
      "New value: 84, 301 at fitness 520.0000\n",
      "New value: 85, 301 at fitness 519.0000\n",
      "New value: 86, 301 at fitness 518.0000\n",
      "New value: 85, 300 at fitness 517.0000\n",
      "New value: 86, 300 at fitness 516.0000\n",
      "New value: 87, 300 at fitness 515.0000\n",
      "New value: 86, 299 at fitness 514.0000\n",
      "New value: 87, 299 at fitness 513.0000\n",
      "New value: 88, 299 at fitness 512.0000\n",
      "New value: 87, 298 at fitness 511.0000\n",
      "New value: 88, 298 at fitness 510.0000\n",
      "New value: 89, 298 at fitness 509.0000\n",
      "New value: 88, 297 at fitness 508.0000\n",
      "New value: 89, 297 at fitness 507.0000\n",
      "New value: 90, 297 at fitness 506.0000\n",
      "New value: 89, 296 at fitness 505.0000\n",
      "New value: 90, 296 at fitness 504.0000\n",
      "New value: 91, 296 at fitness 503.0000\n",
      "New value: 90, 295 at fitness 502.0000\n",
      "New value: 91, 295 at fitness 501.0000\n",
      "New value: 92, 295 at fitness 500.0000\n",
      "New value: 91, 294 at fitness 499.0000\n",
      "New value: 92, 294 at fitness 498.0000\n",
      "New value: 93, 294 at fitness 497.0000\n",
      "New value: 92, 293 at fitness 496.0000\n",
      "New value: 93, 293 at fitness 495.0000\n",
      "New value: 94, 293 at fitness 494.0000\n",
      "New value: 93, 292 at fitness 493.0000\n",
      "New value: 94, 292 at fitness 492.0000\n",
      "New value: 95, 292 at fitness 491.0000\n",
      "New value: 94, 291 at fitness 490.0000\n",
      "New value: 95, 291 at fitness 489.0000\n",
      "New value: 96, 291 at fitness 488.0000\n",
      "New value: 95, 290 at fitness 487.0000\n",
      "New value: 96, 290 at fitness 486.0000\n",
      "New value: 97, 290 at fitness 485.0000\n",
      "New value: 96, 289 at fitness 484.0000\n",
      "New value: 97, 289 at fitness 483.0000\n",
      "New value: 98, 289 at fitness 482.0000\n",
      "New value: 97, 288 at fitness 481.0000\n",
      "New value: 98, 288 at fitness 480.0000\n",
      "New value: 99, 288 at fitness 479.0000\n",
      "New value: 98, 287 at fitness 478.0000\n",
      "New value: 99, 287 at fitness 477.0000\n",
      "New value: 100, 287 at fitness 476.0000\n",
      "New value: 99, 286 at fitness 475.0000\n",
      "New value: 100, 286 at fitness 474.0000\n",
      "New value: 101, 286 at fitness 473.0000\n",
      "New value: 100, 285 at fitness 472.0000\n",
      "New value: 101, 285 at fitness 471.0000\n",
      "New value: 102, 285 at fitness 470.0000\n",
      "New value: 101, 284 at fitness 469.0000\n",
      "New value: 102, 284 at fitness 468.0000\n",
      "New value: 103, 284 at fitness 467.0000\n",
      "New value: 102, 283 at fitness 466.0000\n",
      "New value: 103, 283 at fitness 465.0000\n",
      "New value: 104, 283 at fitness 464.0000\n",
      "New value: 103, 282 at fitness 463.0000\n",
      "New value: 104, 282 at fitness 462.0000\n",
      "New value: 105, 282 at fitness 461.0000\n",
      "New value: 104, 281 at fitness 460.0000\n",
      "New value: 105, 281 at fitness 459.0000\n",
      "New value: 106, 281 at fitness 458.0000\n",
      "New value: 105, 280 at fitness 457.0000\n",
      "New value: 106, 280 at fitness 456.0000\n",
      "New value: 107, 280 at fitness 455.0000\n",
      "New value: 106, 279 at fitness 454.0000\n",
      "New value: 107, 279 at fitness 453.0000\n",
      "New value: 108, 279 at fitness 452.0000\n",
      "New value: 107, 278 at fitness 451.0000\n",
      "New value: 108, 278 at fitness 450.0000\n",
      "New value: 109, 278 at fitness 449.0000\n",
      "New value: 108, 277 at fitness 448.0000\n",
      "New value: 109, 277 at fitness 447.0000\n",
      "New value: 110, 277 at fitness 446.0000\n",
      "New value: 109, 276 at fitness 445.0000\n",
      "New value: 110, 276 at fitness 444.0000\n",
      "New value: 111, 276 at fitness 443.0000\n",
      "New value: 110, 275 at fitness 442.0000\n",
      "New value: 111, 275 at fitness 441.0000\n",
      "New value: 112, 275 at fitness 440.0000\n",
      "New value: 111, 274 at fitness 439.0000\n",
      "New value: 112, 274 at fitness 438.0000\n",
      "New value: 113, 274 at fitness 437.0000\n",
      "New value: 112, 273 at fitness 436.0000\n",
      "New value: 113, 273 at fitness 435.0000\n",
      "New value: 114, 273 at fitness 434.0000\n",
      "New value: 113, 272 at fitness 433.0000\n",
      "New value: 114, 272 at fitness 432.0000\n",
      "New value: 115, 272 at fitness 431.0000\n",
      "New value: 114, 271 at fitness 430.0000\n",
      "New value: 115, 271 at fitness 429.0000\n",
      "New value: 116, 271 at fitness 428.0000\n",
      "New value: 115, 270 at fitness 427.0000\n",
      "New value: 116, 270 at fitness 426.0000\n",
      "New value: 117, 270 at fitness 425.0000\n",
      "New value: 116, 269 at fitness 424.0000\n",
      "New value: 117, 269 at fitness 423.0000\n",
      "New value: 118, 269 at fitness 422.0000\n",
      "New value: 117, 268 at fitness 421.0000\n",
      "New value: 118, 268 at fitness 420.0000\n",
      "New value: 119, 268 at fitness 419.0000\n",
      "New value: 118, 267 at fitness 418.0000\n",
      "New value: 119, 267 at fitness 417.0000\n",
      "New value: 120, 267 at fitness 416.0000\n",
      "New value: 119, 266 at fitness 415.0000\n",
      "New value: 120, 266 at fitness 414.0000\n",
      "New value: 121, 266 at fitness 413.0000\n",
      "New value: 120, 265 at fitness 412.0000\n",
      "New value: 121, 265 at fitness 411.0000\n",
      "New value: 122, 265 at fitness 410.0000\n",
      "New value: 121, 264 at fitness 409.0000\n",
      "New value: 122, 264 at fitness 408.0000\n",
      "New value: 123, 264 at fitness 407.0000\n",
      "New value: 122, 263 at fitness 406.0000\n",
      "New value: 123, 263 at fitness 405.0000\n",
      "New value: 124, 263 at fitness 404.0000\n",
      "New value: 123, 262 at fitness 403.0000\n",
      "New value: 124, 262 at fitness 402.0000\n",
      "New value: 125, 262 at fitness 401.0000\n",
      "New value: 124, 261 at fitness 400.0000\n",
      "New value: 125, 261 at fitness 399.0000\n",
      "New value: 126, 261 at fitness 398.0000\n",
      "New value: 125, 260 at fitness 397.0000\n",
      "New value: 126, 260 at fitness 396.0000\n",
      "New value: 127, 260 at fitness 395.0000\n",
      "New value: 126, 259 at fitness 394.0000\n",
      "New value: 127, 259 at fitness 393.0000\n",
      "New value: 128, 259 at fitness 392.0000\n",
      "New value: 127, 258 at fitness 391.0000\n",
      "New value: 128, 258 at fitness 390.0000\n",
      "New value: 129, 258 at fitness 389.0000\n",
      "New value: 128, 257 at fitness 388.0000\n",
      "New value: 129, 257 at fitness 387.0000\n",
      "New value: 130, 257 at fitness 386.0000\n",
      "New value: 129, 256 at fitness 385.0000\n",
      "New value: 130, 256 at fitness 384.0000\n",
      "New value: 131, 256 at fitness 383.0000\n",
      "New value: 130, 255 at fitness 382.0000\n",
      "New value: 131, 255 at fitness 381.0000\n",
      "New value: 132, 255 at fitness 380.0000\n",
      "New value: 131, 254 at fitness 379.0000\n",
      "New value: 132, 254 at fitness 378.0000\n",
      "New value: 133, 254 at fitness 377.0000\n",
      "New value: 132, 253 at fitness 376.0000\n",
      "New value: 133, 253 at fitness 375.0000\n",
      "New value: 134, 253 at fitness 374.0000\n",
      "New value: 133, 252 at fitness 373.0000\n",
      "New value: 134, 252 at fitness 372.0000\n",
      "New value: 135, 252 at fitness 371.0000\n",
      "New value: 134, 251 at fitness 370.0000\n",
      "New value: 135, 251 at fitness 369.0000\n",
      "New value: 136, 251 at fitness 368.0000\n",
      "New value: 135, 250 at fitness 367.0000\n",
      "New value: 136, 250 at fitness 366.0000\n",
      "New value: 137, 250 at fitness 365.0000\n",
      "New value: 136, 249 at fitness 364.0000\n",
      "New value: 137, 249 at fitness 363.0000\n",
      "New value: 138, 249 at fitness 362.0000\n",
      "New value: 137, 248 at fitness 361.0000\n",
      "New value: 138, 248 at fitness 360.0000\n",
      "New value: 139, 248 at fitness 359.0000\n",
      "New value: 138, 247 at fitness 358.0000\n",
      "New value: 139, 247 at fitness 357.0000\n",
      "New value: 140, 247 at fitness 356.0000\n",
      "New value: 139, 246 at fitness 355.0000\n",
      "New value: 140, 246 at fitness 354.0000\n",
      "New value: 141, 246 at fitness 353.0000\n",
      "New value: 140, 245 at fitness 352.0000\n",
      "New value: 141, 245 at fitness 351.0000\n",
      "New value: 142, 245 at fitness 350.0000\n",
      "New value: 141, 244 at fitness 349.0000\n",
      "New value: 142, 244 at fitness 348.0000\n",
      "New value: 143, 244 at fitness 347.0000\n",
      "New value: 142, 243 at fitness 346.0000\n",
      "New value: 143, 243 at fitness 345.0000\n",
      "New value: 144, 243 at fitness 344.0000\n",
      "New value: 143, 242 at fitness 343.0000\n",
      "New value: 144, 242 at fitness 342.0000\n",
      "New value: 145, 242 at fitness 341.0000\n",
      "New value: 144, 241 at fitness 340.0000\n",
      "New value: 145, 241 at fitness 339.0000\n",
      "New value: 146, 241 at fitness 338.0000\n",
      "New value: 145, 240 at fitness 337.0000\n",
      "New value: 146, 240 at fitness 336.0000\n",
      "New value: 147, 240 at fitness 335.0000\n",
      "New value: 146, 239 at fitness 334.0000\n",
      "New value: 147, 239 at fitness 333.0000\n",
      "New value: 148, 239 at fitness 332.0000\n",
      "New value: 147, 238 at fitness 331.0000\n",
      "New value: 148, 238 at fitness 330.0000\n",
      "New value: 149, 238 at fitness 329.0000\n",
      "New value: 148, 237 at fitness 328.0000\n",
      "New value: 149, 237 at fitness 327.0000\n",
      "New value: 150, 237 at fitness 326.0000\n",
      "New value: 149, 236 at fitness 325.0000\n",
      "New value: 150, 236 at fitness 324.0000\n",
      "New value: 151, 236 at fitness 323.0000\n",
      "New value: 150, 235 at fitness 322.0000\n",
      "New value: 151, 235 at fitness 321.0000\n",
      "New value: 152, 235 at fitness 320.0000\n",
      "New value: 151, 234 at fitness 319.0000\n",
      "New value: 152, 234 at fitness 318.0000\n",
      "New value: 153, 234 at fitness 317.0000\n",
      "New value: 152, 233 at fitness 316.0000\n",
      "New value: 153, 233 at fitness 315.0000\n",
      "New value: 154, 233 at fitness 314.0000\n",
      "New value: 153, 232 at fitness 313.0000\n",
      "New value: 154, 232 at fitness 312.0000\n",
      "New value: 155, 232 at fitness 311.0000\n",
      "New value: 154, 231 at fitness 310.0000\n",
      "New value: 155, 231 at fitness 309.0000\n",
      "New value: 156, 231 at fitness 308.0000\n",
      "New value: 155, 230 at fitness 307.0000\n",
      "New value: 156, 230 at fitness 306.0000\n",
      "New value: 157, 230 at fitness 305.0000\n",
      "New value: 156, 229 at fitness 304.0000\n",
      "New value: 157, 229 at fitness 303.0000\n",
      "New value: 158, 229 at fitness 302.0000\n",
      "New value: 157, 228 at fitness 301.0000\n",
      "New value: 158, 228 at fitness 300.0000\n",
      "New value: 159, 228 at fitness 299.0000\n",
      "New value: 158, 227 at fitness 298.0000\n",
      "New value: 159, 227 at fitness 297.0000\n",
      "New value: 160, 227 at fitness 296.0000\n",
      "New value: 159, 226 at fitness 295.0000\n",
      "New value: 160, 226 at fitness 294.0000\n",
      "New value: 161, 226 at fitness 293.0000\n",
      "New value: 160, 225 at fitness 292.0000\n",
      "New value: 161, 225 at fitness 291.0000\n",
      "New value: 162, 225 at fitness 290.0000\n",
      "New value: 161, 224 at fitness 289.0000\n",
      "New value: 162, 224 at fitness 288.0000\n",
      "New value: 163, 224 at fitness 287.0000\n",
      "New value: 162, 223 at fitness 286.0000\n",
      "New value: 163, 223 at fitness 285.0000\n",
      "New value: 164, 223 at fitness 284.0000\n",
      "New value: 163, 222 at fitness 283.0000\n",
      "New value: 164, 222 at fitness 282.0000\n",
      "New value: 165, 222 at fitness 281.0000\n",
      "New value: 164, 221 at fitness 280.0000\n",
      "New value: 165, 221 at fitness 279.0000\n",
      "New value: 166, 221 at fitness 278.0000\n",
      "New value: 165, 220 at fitness 277.0000\n",
      "New value: 166, 220 at fitness 276.0000\n",
      "New value: 167, 220 at fitness 275.0000\n",
      "New value: 166, 219 at fitness 274.0000\n",
      "New value: 167, 219 at fitness 273.0000\n",
      "New value: 168, 219 at fitness 272.0000\n",
      "New value: 167, 218 at fitness 271.0000\n",
      "New value: 168, 218 at fitness 270.0000\n",
      "New value: 169, 218 at fitness 269.0000\n",
      "New value: 168, 217 at fitness 268.0000\n",
      "New value: 169, 217 at fitness 267.0000\n",
      "New value: 170, 217 at fitness 266.0000\n",
      "New value: 169, 216 at fitness 265.0000\n",
      "New value: 170, 216 at fitness 264.0000\n",
      "New value: 171, 216 at fitness 263.0000\n",
      "New value: 170, 215 at fitness 262.0000\n",
      "New value: 171, 215 at fitness 261.0000\n",
      "New value: 172, 215 at fitness 260.0000\n",
      "New value: 171, 214 at fitness 259.0000\n",
      "New value: 172, 214 at fitness 258.0000\n",
      "New value: 173, 214 at fitness 257.0000\n",
      "New value: 172, 213 at fitness 256.0000\n",
      "New value: 173, 213 at fitness 255.0000\n",
      "New value: 174, 213 at fitness 254.0000\n",
      "New value: 173, 212 at fitness 253.0000\n",
      "New value: 174, 212 at fitness 252.0000\n",
      "New value: 175, 212 at fitness 251.0000\n",
      "New value: 174, 211 at fitness 250.0000\n",
      "New value: 175, 211 at fitness 249.0000\n",
      "New value: 176, 211 at fitness 248.0000\n",
      "New value: 175, 210 at fitness 247.0000\n",
      "New value: 176, 210 at fitness 246.0000\n",
      "New value: 177, 210 at fitness 245.0000\n",
      "New value: 176, 209 at fitness 244.0000\n",
      "New value: 177, 209 at fitness 243.0000\n",
      "New value: 178, 209 at fitness 242.0000\n",
      "New value: 177, 208 at fitness 241.0000\n",
      "New value: 178, 208 at fitness 240.0000\n",
      "New value: 179, 208 at fitness 239.0000\n",
      "New value: 178, 207 at fitness 238.0000\n",
      "New value: 179, 207 at fitness 237.0000\n",
      "New value: 180, 207 at fitness 236.0000\n",
      "New value: 179, 206 at fitness 235.0000\n",
      "New value: 180, 206 at fitness 234.0000\n",
      "New value: 181, 206 at fitness 233.0000\n",
      "New value: 180, 205 at fitness 232.0000\n",
      "New value: 181, 205 at fitness 231.0000\n",
      "New value: 182, 205 at fitness 230.0000\n",
      "New value: 181, 204 at fitness 229.0000\n",
      "New value: 182, 204 at fitness 228.0000\n",
      "New value: 183, 204 at fitness 227.0000\n",
      "New value: 182, 203 at fitness 226.0000\n",
      "New value: 183, 203 at fitness 225.0000\n",
      "New value: 184, 203 at fitness 224.0000\n",
      "New value: 183, 202 at fitness 223.0000\n",
      "New value: 184, 202 at fitness 222.0000\n",
      "New value: 185, 202 at fitness 221.0000\n",
      "New value: 184, 201 at fitness 220.0000\n",
      "New value: 185, 201 at fitness 219.0000\n",
      "New value: 186, 201 at fitness 218.0000\n",
      "New value: 185, 200 at fitness 217.0000\n",
      "New value: 186, 200 at fitness 216.0000\n",
      "New value: 187, 200 at fitness 215.0000\n",
      "New value: 186, 199 at fitness 214.0000\n",
      "New value: 187, 199 at fitness 213.0000\n",
      "New value: 188, 199 at fitness 212.0000\n",
      "New value: 187, 198 at fitness 211.0000\n",
      "New value: 188, 198 at fitness 210.0000\n",
      "New value: 189, 198 at fitness 209.0000\n",
      "New value: 188, 197 at fitness 208.0000\n",
      "New value: 189, 197 at fitness 207.0000\n",
      "New value: 190, 197 at fitness 206.0000\n",
      "New value: 189, 196 at fitness 205.0000\n",
      "New value: 190, 196 at fitness 204.0000\n",
      "New value: 191, 196 at fitness 203.0000\n",
      "New value: 190, 195 at fitness 202.0000\n",
      "New value: 191, 195 at fitness 201.0000\n",
      "New value: 192, 195 at fitness 200.0000\n",
      "New value: 191, 194 at fitness 199.0000\n",
      "New value: 192, 194 at fitness 198.0000\n",
      "New value: 193, 194 at fitness 197.0000\n",
      "New value: 192, 193 at fitness 196.0000\n",
      "New value: 193, 193 at fitness 195.0000\n",
      "New value: 194, 193 at fitness 194.0000\n",
      "New value: 193, 192 at fitness 193.0000\n",
      "New value: 194, 192 at fitness 192.0000\n",
      "New value: 195, 192 at fitness 191.0000\n",
      "New value: 194, 191 at fitness 190.0000\n",
      "New value: 195, 191 at fitness 189.0000\n",
      "New value: 196, 191 at fitness 188.0000\n",
      "New value: 195, 190 at fitness 187.0000\n",
      "New value: 196, 190 at fitness 186.0000\n",
      "New value: 197, 190 at fitness 185.0000\n",
      "New value: 196, 189 at fitness 184.0000\n",
      "New value: 197, 189 at fitness 183.0000\n",
      "New value: 198, 189 at fitness 182.0000\n",
      "New value: 197, 188 at fitness 181.0000\n",
      "New value: 198, 188 at fitness 180.0000\n",
      "New value: 199, 188 at fitness 179.0000\n",
      "New value: 198, 187 at fitness 178.0000\n",
      "New value: 199, 187 at fitness 177.0000\n",
      "New value: 200, 187 at fitness 176.0000\n",
      "New value: 199, 186 at fitness 175.0000\n",
      "New value: 200, 186 at fitness 174.0000\n",
      "New value: 201, 186 at fitness 173.0000\n",
      "New value: 200, 185 at fitness 172.0000\n",
      "New value: 201, 185 at fitness 171.0000\n",
      "New value: 202, 185 at fitness 170.0000\n",
      "New value: 201, 184 at fitness 169.0000\n",
      "New value: 202, 184 at fitness 168.0000\n",
      "New value: 203, 184 at fitness 167.0000\n",
      "New value: 202, 183 at fitness 166.0000\n",
      "New value: 203, 183 at fitness 165.0000\n",
      "New value: 204, 183 at fitness 164.0000\n",
      "New value: 203, 182 at fitness 163.0000\n",
      "New value: 204, 182 at fitness 162.0000\n",
      "New value: 205, 182 at fitness 161.0000\n",
      "New value: 204, 181 at fitness 160.0000\n",
      "New value: 205, 181 at fitness 159.0000\n",
      "New value: 206, 181 at fitness 158.0000\n",
      "New value: 205, 180 at fitness 157.0000\n",
      "New value: 206, 180 at fitness 156.0000\n",
      "New value: 207, 180 at fitness 155.0000\n",
      "New value: 206, 179 at fitness 154.0000\n",
      "New value: 207, 179 at fitness 153.0000\n",
      "New value: 208, 179 at fitness 152.0000\n",
      "New value: 207, 178 at fitness 151.0000\n",
      "New value: 208, 178 at fitness 150.0000\n",
      "New value: 209, 178 at fitness 149.0000\n",
      "New value: 208, 177 at fitness 148.0000\n",
      "New value: 209, 177 at fitness 147.0000\n",
      "New value: 210, 177 at fitness 146.0000\n",
      "New value: 209, 176 at fitness 145.0000\n",
      "New value: 210, 176 at fitness 144.0000\n",
      "New value: 211, 176 at fitness 143.0000\n",
      "New value: 210, 175 at fitness 142.0000\n",
      "New value: 211, 175 at fitness 141.0000\n",
      "New value: 212, 175 at fitness 140.0000\n",
      "New value: 211, 174 at fitness 139.0000\n",
      "New value: 212, 174 at fitness 138.0000\n",
      "New value: 213, 174 at fitness 137.0000\n",
      "New value: 212, 173 at fitness 136.0000\n",
      "New value: 213, 173 at fitness 135.0000\n",
      "New value: 214, 173 at fitness 134.0000\n",
      "New value: 213, 172 at fitness 133.0000\n",
      "New value: 214, 172 at fitness 132.0000\n",
      "New value: 215, 172 at fitness 131.0000\n",
      "New value: 214, 171 at fitness 130.0000\n",
      "New value: 215, 171 at fitness 129.0000\n",
      "New value: 216, 171 at fitness 128.0000\n",
      "New value: 215, 170 at fitness 127.0000\n",
      "New value: 216, 170 at fitness 126.0000\n",
      "New value: 217, 170 at fitness 125.0000\n",
      "New value: 216, 169 at fitness 124.0000\n",
      "New value: 217, 169 at fitness 123.0000\n",
      "New value: 218, 169 at fitness 122.0000\n",
      "New value: 217, 168 at fitness 121.0000\n",
      "New value: 218, 168 at fitness 120.0000\n",
      "New value: 219, 168 at fitness 119.0000\n",
      "New value: 218, 167 at fitness 118.0000\n",
      "New value: 219, 167 at fitness 117.0000\n",
      "New value: 220, 167 at fitness 116.0000\n",
      "New value: 219, 166 at fitness 115.0000\n",
      "New value: 220, 166 at fitness 114.0000\n",
      "New value: 221, 166 at fitness 113.0000\n",
      "New value: 220, 165 at fitness 112.0000\n",
      "New value: 221, 165 at fitness 111.0000\n",
      "New value: 222, 165 at fitness 110.0000\n",
      "New value: 221, 164 at fitness 109.0000\n",
      "New value: 222, 164 at fitness 108.0000\n",
      "New value: 223, 164 at fitness 107.0000\n",
      "New value: 222, 163 at fitness 106.0000\n",
      "New value: 223, 163 at fitness 105.0000\n",
      "New value: 224, 163 at fitness 104.0000\n",
      "New value: 223, 162 at fitness 103.0000\n",
      "New value: 224, 162 at fitness 102.0000\n",
      "New value: 225, 162 at fitness 101.0000\n",
      "New value: 224, 161 at fitness 100.0000\n",
      "New value: 225, 161 at fitness 99.0000\n",
      "New value: 226, 161 at fitness 98.0000\n",
      "New value: 225, 160 at fitness 97.0000\n",
      "New value: 226, 160 at fitness 96.0000\n",
      "New value: 227, 160 at fitness 95.0000\n",
      "New value: 226, 159 at fitness 94.0000\n",
      "New value: 227, 159 at fitness 93.0000\n",
      "New value: 228, 159 at fitness 92.0000\n",
      "New value: 227, 158 at fitness 91.0000\n",
      "New value: 228, 158 at fitness 90.0000\n",
      "New value: 229, 158 at fitness 89.0000\n",
      "New value: 228, 157 at fitness 88.0000\n",
      "New value: 229, 157 at fitness 87.0000\n",
      "New value: 230, 157 at fitness 86.0000\n",
      "New value: 229, 156 at fitness 85.0000\n",
      "New value: 230, 156 at fitness 84.0000\n",
      "New value: 231, 156 at fitness 83.0000\n",
      "New value: 230, 155 at fitness 82.0000\n",
      "New value: 231, 155 at fitness 81.0000\n",
      "New value: 232, 155 at fitness 80.0000\n",
      "New value: 231, 154 at fitness 79.0000\n",
      "New value: 232, 154 at fitness 78.0000\n",
      "New value: 233, 154 at fitness 77.0000\n",
      "New value: 232, 153 at fitness 76.0000\n",
      "New value: 233, 153 at fitness 75.0000\n",
      "New value: 234, 153 at fitness 74.0000\n",
      "New value: 233, 152 at fitness 73.0000\n",
      "New value: 234, 152 at fitness 72.0000\n",
      "New value: 235, 152 at fitness 71.0000\n",
      "New value: 234, 151 at fitness 70.0000\n",
      "New value: 235, 151 at fitness 69.0000\n",
      "New value: 236, 151 at fitness 68.0000\n",
      "New value: 235, 150 at fitness 67.0000\n",
      "New value: 236, 150 at fitness 66.0000\n",
      "New value: 237, 150 at fitness 65.0000\n",
      "New value: 236, 149 at fitness 64.0000\n",
      "New value: 237, 149 at fitness 63.0000\n",
      "New value: 238, 149 at fitness 62.0000\n",
      "New value: 237, 148 at fitness 61.0000\n",
      "New value: 238, 148 at fitness 60.0000\n",
      "New value: 239, 148 at fitness 59.0000\n",
      "New value: 238, 147 at fitness 58.0000\n",
      "New value: 239, 147 at fitness 57.0000\n",
      "New value: 240, 147 at fitness 56.0000\n",
      "New value: 239, 146 at fitness 55.0000\n",
      "New value: 240, 146 at fitness 54.0000\n",
      "New value: 241, 146 at fitness 53.0000\n",
      "New value: 240, 145 at fitness 52.0000\n",
      "New value: 241, 145 at fitness 51.0000\n",
      "New value: 242, 145 at fitness 50.0000\n",
      "New value: 241, 144 at fitness 49.0000\n",
      "New value: 242, 144 at fitness 48.0000\n",
      "New value: 243, 144 at fitness 47.0000\n",
      "New value: 242, 143 at fitness 46.0000\n",
      "New value: 243, 143 at fitness 45.0000\n",
      "New value: 244, 143 at fitness 44.0000\n",
      "New value: 243, 142 at fitness 43.0000\n",
      "New value: 244, 142 at fitness 42.0000\n",
      "New value: 245, 142 at fitness 41.0000\n",
      "New value: 244, 141 at fitness 40.0000\n",
      "New value: 245, 141 at fitness 39.0000\n",
      "New value: 246, 141 at fitness 38.0000\n",
      "New value: 245, 140 at fitness 37.0000\n",
      "New value: 246, 140 at fitness 36.0000\n",
      "New value: 247, 140 at fitness 35.0000\n",
      "New value: 246, 139 at fitness 34.0000\n",
      "New value: 247, 139 at fitness 33.0000\n",
      "New value: 248, 139 at fitness 32.0000\n",
      "New value: 247, 138 at fitness 31.0000\n",
      "New value: 248, 138 at fitness 30.0000\n",
      "New value: 249, 138 at fitness 29.0000\n",
      "New value: 248, 137 at fitness 28.0000\n",
      "New value: 249, 137 at fitness 27.0000\n",
      "New value: 250, 137 at fitness 26.0000\n",
      "New value: 249, 136 at fitness 25.0000\n",
      "New value: 250, 136 at fitness 24.0000\n",
      "New value: 251, 136 at fitness 23.0000\n",
      "New value: 250, 135 at fitness 22.0000\n",
      "New value: 251, 135 at fitness 21.0000\n",
      "New value: 252, 135 at fitness 20.0000\n",
      "New value: 251, 134 at fitness 19.0000\n",
      "New value: 252, 134 at fitness 18.0000\n",
      "New value: 253, 134 at fitness 17.0000\n",
      "New value: 252, 133 at fitness 16.0000\n",
      "New value: 253, 133 at fitness 15.0000\n",
      "New value: 254, 133 at fitness 14.0000\n",
      "New value: 253, 132 at fitness 13.0000\n",
      "New value: 254, 132 at fitness 12.0000\n",
      "New value: 255, 132 at fitness 11.0000\n",
      "New value: 254, 131 at fitness 10.0000\n",
      "New value: 255, 131 at fitness 9.0000\n",
      "New value: 256, 131 at fitness 8.0000\n",
      "New value: 255, 130 at fitness 7.0000\n",
      "New value: 256, 130 at fitness 6.0000\n",
      "New value: 257, 130 at fitness 5.0000\n",
      "New value: 256, 129 at fitness 4.0000\n",
      "New value: 257, 129 at fitness 3.0000\n",
      "New value: 258, 129 at fitness 2.0000\n",
      "New value: 257, 128 at fitness 1.0000\n",
      "New value: 258, 128 at fitness 0.0000\n",
      "Found optimum after 517 iterations at 258, 128\n"
     ]
    }
   ],
   "source": [
    "steepest_ascent_hillclimber()"
   ]
  },
  {
   "cell_type": "markdown",
   "metadata": {
    "slideshow": {
     "slide_type": "subslide"
    }
   },
   "source": [
    "Our example program has a very nice fitness landscape --- there is a perfect gradient, and the hillclimber will always find a solution. We can see this nice gradient if we plot the fitness values observed over time:"
   ]
  },
  {
   "cell_type": "code",
   "execution_count": 32,
   "metadata": {
    "slideshow": {
     "slide_type": "subslide"
    }
   },
   "outputs": [],
   "source": [
    "def plotting_hillclimber(fitness_function):\n",
    "    data = []\n",
    "\n",
    "    # Create and evaluate starting point\n",
    "    x, y = random.randint(MIN, MAX), random.randint(MIN, MAX)\n",
    "    fitness = fitness_function(x, y)\n",
    "    data += [fitness]\n",
    "    iterations = 0\n",
    "\n",
    "    # Stop once we have found an optimal solution\n",
    "    while fitness > 0:\n",
    "        iterations += 1\n",
    "        # Move to first neighbour with a better fitness\n",
    "        for (nextx, nexty) in neighbours(x, y):\n",
    "            new_fitness = fitness_function(nextx, nexty)\n",
    "            if new_fitness < fitness:\n",
    "                x, y = nextx, nexty\n",
    "                fitness = new_fitness\n",
    "                data += [fitness]\n",
    "                break\n",
    "\n",
    "    print(\"Found optimum after %d iterations at %d, %d\" % (iterations, x, y))\n",
    "    return data"
   ]
  },
  {
   "cell_type": "code",
   "execution_count": 33,
   "metadata": {
    "slideshow": {
     "slide_type": "subslide"
    }
   },
   "outputs": [
    {
     "name": "stdout",
     "output_type": "stream",
     "text": [
      "Found optimum after 429 iterations at -1000, -501\n"
     ]
    }
   ],
   "source": [
    "data = plotting_hillclimber(get_fitness)"
   ]
  },
  {
   "cell_type": "code",
   "execution_count": 34,
   "metadata": {
    "slideshow": {
     "slide_type": "skip"
    }
   },
   "outputs": [],
   "source": [
    "import matplotlib.pyplot as plt"
   ]
  },
  {
   "cell_type": "code",
   "execution_count": 35,
   "metadata": {
    "slideshow": {
     "slide_type": "fragment"
    }
   },
   "outputs": [
    {
     "data": {
      "image/png": "[encoded data removed]",
      "text/plain": [
       "<Figure size 432x288 with 1 Axes>"
      ]
     },
     "metadata": {
      "needs_background": "light"
     },
     "output_type": "display_data"
    }
   ],
   "source": [
    "fig = plt.figure()\n",
    "ax = plt.axes()\n",
    "\n",
    "x = range(len(data))\n",
    "ax.plot(x, data);"
   ]
  },
  {
   "cell_type": "markdown",
   "metadata": {
    "slideshow": {
     "slide_type": "fragment"
    }
   },
   "source": [
    "This gradient is the result of an ideal fitness landscape. In practice, we won't always have such a nice gradient. In particular, our hillclimber only works well as long as there is at least one neighbour that has a better fitness value. What if we reach a point where _none_ of the neighbours actually has a better fitness value? Consider the following function `test_me2`:"
   ]
  },
  {
   "cell_type": "code",
   "execution_count": 36,
   "metadata": {
    "slideshow": {
     "slide_type": "subslide"
    }
   },
   "outputs": [],
   "source": [
    "def test_me2(x, y):\n",
    "    if(x * x == y * y * (x % 20)):\n",
    "        return True\n",
    "    else:\n",
    "        return False"
   ]
  },
  {
   "cell_type": "markdown",
   "metadata": {
    "slideshow": {
     "slide_type": "fragment"
    }
   },
   "source": [
    "If we want to cover the true-branch of the if-condition in `test_me2` again, then we can calculate the distance in the same way as previously, i.e., by calculating the difference between the two sides of the comparison. Let's instrument the `test_me2` function:"
   ]
  },
  {
   "cell_type": "code",
   "execution_count": 37,
   "metadata": {
    "slideshow": {
     "slide_type": "subslide"
    }
   },
   "outputs": [],
   "source": [
    "def test_me2_instrumented(x, y):\n",
    "    global distance\n",
    "    distance = abs(x * x - y * y * (x % 20))\n",
    "    if(x * x == y * y * (x % 20)):\n",
    "        return True\n",
    "    else:\n",
    "        return False"
   ]
  },
  {
   "cell_type": "markdown",
   "metadata": {
    "slideshow": {
     "slide_type": "fragment"
    }
   },
   "source": [
    "With this instrumented version, we just need a fitness function that calls the instrumented version and reads out the global `distance` variable."
   ]
  },
  {
   "cell_type": "code",
   "execution_count": 38,
   "metadata": {
    "slideshow": {
     "slide_type": "fragment"
    }
   },
   "outputs": [],
   "source": [
    "def bad_fitness(x, y):\n",
    "    global distance\n",
    "    test_me2_instrumented(x, y)\n",
    "    fitness = distance\n",
    "    return fitness"
   ]
  },
  {
   "cell_type": "markdown",
   "metadata": {
    "slideshow": {
     "slide_type": "subslide"
    }
   },
   "source": [
    "Before we run the hillclimber on this example, let's have a look at the search landscape again by plotting it:"
   ]
  },
  {
   "cell_type": "code",
   "execution_count": 39,
   "metadata": {
    "slideshow": {
     "slide_type": "skip"
    }
   },
   "outputs": [],
   "source": [
    "from mpl_toolkits.mplot3d import Axes3D\n",
    "from math import exp, tan"
   ]
  },
  {
   "cell_type": "code",
   "execution_count": 40,
   "metadata": {
    "slideshow": {
     "slide_type": "fragment"
    }
   },
   "outputs": [],
   "source": [
    "x = np.outer(np.linspace(-10, 10, 30), np.ones(30))\n",
    "y = x.copy().T\n",
    "z = abs(x * x - y * y * (x % 20))"
   ]
  },
  {
   "cell_type": "code",
   "execution_count": 41,
   "metadata": {
    "slideshow": {
     "slide_type": "fragment"
    }
   },
   "outputs": [
    {
     "data": {
      "image/png": "[encoded data removed]",
      "text/plain": [
       "<Figure size 432x288 with 1 Axes>"
      ]
     },
     "metadata": {
      "needs_background": "light"
     },
     "output_type": "display_data"
    }
   ],
   "source": [
    "fig = plt.figure()\n",
    "ax = plt.axes(projection='3d')\n",
    "\n",
    "ax.plot_surface(x, y, z, cmap=plt.cm.jet, rstride=1, cstride=1, linewidth=0);"
   ]
  },
  {
   "cell_type": "markdown",
   "metadata": {
    "slideshow": {
     "slide_type": "subslide"
    }
   },
   "source": [
    "At this point it would be nice to run the hillclimber using the new fitness function, but there is a problem: Running our hillclimber with this fitness function is not a good idea, because it might never terminate. Suppose we've reached a point where all neighbours have the same or a worse fitness value. The hillclimber can move no where and is stuck there forever! Such a point in the search landscape is called a *local optimum*. If one reaches such a point, the easiest way out is to give up and restart from a new random point. This is what we will do in our hillclimber with *random restarts*. "
   ]
  },
  {
   "cell_type": "code",
   "execution_count": 42,
   "metadata": {
    "slideshow": {
     "slide_type": "subslide"
    }
   },
   "outputs": [],
   "source": [
    "def restarting_hillclimber(fitness_function):\n",
    "    data = []\n",
    "\n",
    "    # Create and evaluate starting point\n",
    "    x, y = random.randint(MIN, MAX), random.randint(MIN, MAX)\n",
    "    fitness = fitness_function(x, y)\n",
    "    data += [fitness]\n",
    "    print(\"Initial value: %d, %d at fitness %.4f\" % (x, y, fitness))\n",
    "    iterations = 0\n",
    "\n",
    "    # Stop once we have found an optimal solution\n",
    "    while fitness > 0:\n",
    "        changed = False\n",
    "        iterations += 1\n",
    "        # Move to first neighbour with a better fitness\n",
    "        for (nextx, nexty) in neighbours(x, y):\n",
    "            new_fitness = fitness_function(nextx, nexty)\n",
    "            if new_fitness < fitness:\n",
    "                x, y = nextx, nexty\n",
    "                fitness = new_fitness\n",
    "                data += [fitness]\n",
    "                changed = True\n",
    "                break\n",
    "        if not changed:\n",
    "            x, y = random.randint(MIN, MAX), random.randint(MIN, MAX)\n",
    "            fitness = fitness_function(x, y)\n",
    "            data += [fitness]\n",
    "\n",
    "    print(\"Found optimum after %d iterations at %d, %d\" % (iterations, x, y))\n",
    "    return data"
   ]
  },
  {
   "cell_type": "markdown",
   "metadata": {
    "slideshow": {
     "slide_type": "subslide"
    }
   },
   "source": [
    "The change is trivial: We simply keep track whether any movement has occurred with a boolean flag, and if we did not move to any of the neighbours, we pick a new random position to start over at. For convenience, we also made the hillclimber parameterizable with fitness functions. Let's try it out with our `bad_fitness` and plot the resulting fitness values we observe:"
   ]
  },
  {
   "cell_type": "code",
   "execution_count": 43,
   "metadata": {
    "slideshow": {
     "slide_type": "fragment"
    }
   },
   "outputs": [],
   "source": [
    "MAX = 1000\n",
    "MIN = -MAX"
   ]
  },
  {
   "cell_type": "code",
   "execution_count": 44,
   "metadata": {
    "slideshow": {
     "slide_type": "fragment"
    }
   },
   "outputs": [
    {
     "name": "stdout",
     "output_type": "stream",
     "text": [
      "Initial value: 333, 231 at fitness 582804.0000\n",
      "Found optimum after 165 iterations at 521, 521\n"
     ]
    }
   ],
   "source": [
    "data = restarting_hillclimber(bad_fitness)"
   ]
  },
  {
   "cell_type": "code",
   "execution_count": 45,
   "metadata": {
    "slideshow": {
     "slide_type": "skip"
    }
   },
   "outputs": [],
   "source": [
    "import matplotlib.pyplot as plt"
   ]
  },
  {
   "cell_type": "code",
   "execution_count": 46,
   "metadata": {
    "slideshow": {
     "slide_type": "subslide"
    }
   },
   "outputs": [
    {
     "data": {
      "image/png": "[encoded data removed]",
      "text/plain": [
       "<Figure size 432x288 with 1 Axes>"
      ]
     },
     "metadata": {
      "needs_background": "light"
     },
     "output_type": "display_data"
    }
   ],
   "source": [
    "fig = plt.figure()\n",
    "ax = plt.axes()\n",
    "\n",
    "x = range(len(data))\n",
    "ax.plot(x, data);"
   ]
  },
  {
   "cell_type": "markdown",
   "metadata": {
    "slideshow": {
     "slide_type": "fragment"
    }
   },
   "source": [
    "Run the example a couple of times. Sometimes, we are lucky and there is a gradient that takes is straight to an optimal solution. But sometimes you'll see restarts throughout the search before reaching an optimal value."
   ]
  },
  {
   "cell_type": "markdown",
   "metadata": {
    "slideshow": {
     "slide_type": "subslide"
    }
   },
   "source": [
    "We restricted initial values of `x` and `y` to  rather small range of `[MIN, MAX]`. This is a common trick in test generation, as in *most* cases solutions tend to consist of small values, and using small values to start the search makes the search quicker in many cases. However, what if the solution we need is at a completely different place in our search space? Our bias towards smaller solutions would mean that the hillclimber would take very long to find the solution, and given a fixed search budget it would thus be less likely to actually find a solution. To see what effects this would have, we could simple replace the `1000` with, say, `1000000` or more. We can play around with the range to see the performance we get for our simple search problems."
   ]
  },
  {
   "cell_type": "code",
   "execution_count": 47,
   "metadata": {
    "slideshow": {
     "slide_type": "fragment"
    }
   },
   "outputs": [],
   "source": [
    "MAX = 100000\n",
    "MIN = -MAX"
   ]
  },
  {
   "cell_type": "code",
   "execution_count": 48,
   "metadata": {
    "slideshow": {
     "slide_type": "skip"
    }
   },
   "outputs": [],
   "source": [
    "from Timer import Timer"
   ]
  },
  {
   "cell_type": "code",
   "execution_count": 49,
   "metadata": {
    "slideshow": {
     "slide_type": "subslide"
    }
   },
   "outputs": [
    {
     "name": "stdout",
     "output_type": "stream",
     "text": [
      "Initial value: 64543, -55357 at fitness 175255.0000\n",
      "Found optimum after 169899 iterations at -100000, -50001\n",
      "Search time: 0.90s\n"
     ]
    }
   ],
   "source": [
    "with Timer() as t:\n",
    "    restarting_hillclimber(get_fitness)\n",
    "    print(\"Search time: %.2fs\" % t.elapsed_time())"
   ]
  },
  {
   "cell_type": "markdown",
   "metadata": {
    "slideshow": {
     "slide_type": "fragment"
    }
   },
   "source": [
    "In most cases the search now will take much longer until a solution is found --- likely longer than we are prepared to wait for such a simple example function! (Although sometimes we will get lucky and randomly hit a good starting position). How is this ever going to work on \"real\" examples? Not to imagine if there were even more parameters and a bigger neighbourhood!"
   ]
  },
  {
   "cell_type": "markdown",
   "metadata": {
    "button": false,
    "new_sheet": false,
    "run_control": {
     "read_only": false
    },
    "slideshow": {
     "slide_type": "slide"
    }
   },
   "source": [
    "## Testing a More Complex Program\n",
    "\n",
    "Let's turn to a slightly more complex program: The CGI decoder you already know from [the Coverage chapter](Coverage.ipynb). "
   ]
  },
  {
   "cell_type": "code",
   "execution_count": 50,
   "metadata": {
    "slideshow": {
     "slide_type": "subslide"
    }
   },
   "outputs": [],
   "source": [
    "def cgi_decode(s):\n",
    "    \"\"\"Decode the CGI-encoded string `s`:\n",
    "       * replace \"+\" by \" \"\n",
    "       * replace \"%xx\" by the character with hex number xx.\n",
    "       Return the decoded string.  Raise `ValueError` for invalid inputs.\"\"\"\n",
    "\n",
    "    # Mapping of hex digits to their integer values\n",
    "    hex_values = {\n",
    "        '0': 0, '1': 1, '2': 2, '3': 3, '4': 4,\n",
    "        '5': 5, '6': 6, '7': 7, '8': 8, '9': 9,\n",
    "        'a': 10, 'b': 11, 'c': 12, 'd': 13, 'e': 14, 'f': 15,\n",
    "        'A': 10, 'B': 11, 'C': 12, 'D': 13, 'E': 14, 'F': 15,\n",
    "    }\n",
    "\n",
    "    t = \"\"\n",
    "    i = 0\n",
    "    while i < len(s):\n",
    "        c = s[i]\n",
    "        if c == '+':\n",
    "            t += ' '\n",
    "        elif c == '%':\n",
    "            digit_high, digit_low = s[i + 1], s[i + 2]\n",
    "            i += 2\n",
    "            if digit_high in hex_values and digit_low in hex_values:\n",
    "                v = hex_values[digit_high] * 16 + hex_values[digit_low]\n",
    "                t += chr(v)\n",
    "            else:\n",
    "                raise ValueError(\"Invalid encoding\")\n",
    "        else:\n",
    "            t += c\n",
    "        i += 1\n",
    "    return t"
   ]
  },
  {
   "cell_type": "markdown",
   "metadata": {
    "slideshow": {
     "slide_type": "subslide"
    }
   },
   "source": [
    "### CGI Decoder as a Search Problem\n",
    "\n",
    "The `cgi_decode` function has one input of type string, and one possible way to define the neighbourhood of a string is by all possible strings that have an edit distance of 1. For example, string `test` would have two neighbours for each of its four characters:\n",
    "\n",
    "- `uest`\n",
    "- `tfst`\n",
    "- `tett`\n",
    "- `tesu`\n",
    "- `sest`\n",
    "- `tdst`\n",
    "- `tert`\n",
    "- `tess`\n",
    "\n",
    "In addition, prepending any character or appending any character would also have an edit distance of 1 and could be considered neighbours. To keep things simple, let's keep the length of our input strings fixed to a reasonable value (e.g. 10). In this case, each individual has 20 neighbours (i.e., each character has two neighbours).\n",
    "\n",
    "Let's implement a new `neighbour_strings` function that produces these neighbouring strings:"
   ]
  },
  {
   "cell_type": "code",
   "execution_count": 51,
   "metadata": {
    "slideshow": {
     "slide_type": "subslide"
    }
   },
   "outputs": [],
   "source": [
    "def neighbour_strings(x):\n",
    "    n = []\n",
    "    for pos in range(len(x)):\n",
    "        c = ord(x[pos])\n",
    "        if c < 127:\n",
    "            n += [x[:pos] + chr(c + 1) + x[pos + 1:]]\n",
    "        if c > 20:\n",
    "            n += [x[:pos] + chr(c - 1) + x[pos + 1:]]\n",
    "    return n"
   ]
  },
  {
   "cell_type": "markdown",
   "metadata": {
    "slideshow": {
     "slide_type": "fragment"
    }
   },
   "source": [
    "The `neighbour_strings` function gets the numerical value of each character in the input string, and creates a new string with the character replaced with the preceding and succeeding characters in the alphabet. To start with, we only consider printable ASCII characters, which are in the range 20--127."
   ]
  },
  {
   "cell_type": "code",
   "execution_count": 52,
   "metadata": {
    "slideshow": {
     "slide_type": "subslide"
    }
   },
   "outputs": [
    {
     "name": "stdout",
     "output_type": "stream",
     "text": [
      "['Iello', 'Gello', 'Hfllo', 'Hdllo', 'Hemlo', 'Heklo', 'Helmo', 'Helko', 'Hellp', 'Helln']\n"
     ]
    }
   ],
   "source": [
    "print(neighbour_strings(\"Hello\"))"
   ]
  },
  {
   "cell_type": "markdown",
   "metadata": {
    "slideshow": {
     "slide_type": "fragment"
    }
   },
   "source": [
    "Thus we have defined the search space for the `cgi_decode` function. The next ingredient to searching for individuals in this search space is a fitness function."
   ]
  },
  {
   "cell_type": "markdown",
   "metadata": {
    "slideshow": {
     "slide_type": "subslide"
    }
   },
   "source": [
    "### Branch Distances\n",
    "\n",
    "The `test_me` function consisted of a single if-condition, in which two integer numbers were compared. In the `cgi_decode` function we have three if-conditions and one while loop, and they all compare characters. Fortunately, as we have already seen, we can treat characters like numbers, so we can use the same distance estimate we used in the `test_me` example. However, there are also two conditions which check whether a character is contained in a set, e.g. `digit_high in hex_values`. How close is a value to being contained in the set? An obvious solution would be to consider the distance to the closest value in the set as the estimate."
   ]
  },
  {
   "cell_type": "code",
   "execution_count": 53,
   "metadata": {
    "slideshow": {
     "slide_type": "skip"
    }
   },
   "outputs": [],
   "source": [
    "import sys"
   ]
  },
  {
   "cell_type": "code",
   "execution_count": 54,
   "metadata": {
    "slideshow": {
     "slide_type": "subslide"
    }
   },
   "outputs": [],
   "source": [
    "def distance_character(target, values):\n",
    "\n",
    "    # Initialize with very large value so that any comparison is better\n",
    "    minimum = sys.maxsize\n",
    "\n",
    "    for elem in values:\n",
    "        distance = abs(target - elem)\n",
    "        if distance < minimum:\n",
    "            minimum = distance\n",
    "    return minimum"
   ]
  },
  {
   "cell_type": "code",
   "execution_count": 55,
   "metadata": {
    "slideshow": {
     "slide_type": "fragment"
    }
   },
   "outputs": [
    {
     "data": {
      "text/plain": [
       "2"
      ]
     },
     "execution_count": 55,
     "metadata": {},
     "output_type": "execute_result"
    }
   ],
   "source": [
    "distance_character(10, [1, 5, 12, 100])"
   ]
  },
  {
   "cell_type": "code",
   "execution_count": 56,
   "metadata": {
    "slideshow": {
     "slide_type": "fragment"
    }
   },
   "outputs": [
    {
     "data": {
      "text/plain": [
       "10"
      ]
     },
     "execution_count": 56,
     "metadata": {},
     "output_type": "execute_result"
    }
   ],
   "source": [
    "distance_character(10, [0, 50, 80, 200])"
   ]
  },
  {
   "cell_type": "markdown",
   "metadata": {
    "slideshow": {
     "slide_type": "subslide"
    }
   },
   "source": [
    "A further simplification we have made so far was to assume that we would always want conditions to evaluate to true. In practice, we might want to have if-conditions evaluate to false just as well. Thus, each if-condition actually has two distance estimates, one to estimate how close it is to being true, and one how close it is to being false. If the condition is true, then the true distance is 0; if the condition is false, then the false distance is 0. That is, in a comparison `a == b`, if `a` is smaller than `b`, then the false distance of is `0` by definition. "
   ]
  },
  {
   "cell_type": "markdown",
   "metadata": {
    "slideshow": {
     "slide_type": "fragment"
    }
   },
   "source": [
    "What is the distance of `a == b` being false when `a` equals `b`? Any change to either `a` or `b` would make the condition evaluate to false, so we can define the distance simply as 1 in this case."
   ]
  },
  {
   "cell_type": "markdown",
   "metadata": {
    "slideshow": {
     "slide_type": "subslide"
    }
   },
   "source": [
    "More generally, there can be other types of comparisons, for example using relational operators. Consider the loop condition in `cgi_decode`: `i < len(s)`, i.e., it uses a less-than comparison operator. It is quite straight forward to extend our notion of branch distance to cover different types of comparisons, and to calculate true and false distances.  The following table shows how to calculate the distance for different types of comparisons:\n",
    "\n",
    "| Condition | Distance True | Distance False |\n",
    "| ------------- |:-------------:| -----:|\n",
    "| a == b      | abs(a - b) | 1 |\n",
    "| a != b      | 1          | abs(a - b) |\n",
    "| a < b       | b - a + 1  | a - b      |\n",
    "| a <= b      | b - a      | a - b + 1  |\n",
    "| a > b       | a - b + 1  | b - a      |\n",
    "\n",
    "\n",
    "Note that several of the calculations add a constant `1`. The reason for this is quite simple: Suppose we want to have `a < b` evaluate to true, and let `a = 27` and `b = 27`. The condition is not true, but simply taking the difference would give us a result of `0`. To avoid this, we have to add a constant value. It is not important whether this value is `1` -- any positive constant works."
   ]
  },
  {
   "cell_type": "markdown",
   "metadata": {
    "slideshow": {
     "slide_type": "subslide"
    }
   },
   "source": [
    "### Dealing with Complex Conditions\n",
    "\n",
    "In the `cgi_decode` function, we can also find a somewhat more complex predicate which consists of two conditions joined by a logical `and`:\n",
    "\n",
    "`\n",
    "if digit_high in hex_values and digit_low in hex_values:\n",
    "`\n",
    "\n",
    "In principle, the branch distance is defined such that the distance to make a conjunction `A and B` true equals the sum of the branch distances for `A` and `B`, as both of the two conditions would need to be true. Similarly, the branch distance to make `A or B` true would be the minimum of the two branch distances of `A` and `B`, as it suffices if one of the two conditions is true to make the entire expression true. \n",
    "\n",
    "However, it is not as easy as that in practice: Predicates can consist of nested conditions and negations, and one would need to convert the expression to canonical form before being able to apply this calculation. Furthermore, most modern programming languages use *short-circuit evaluation*: If there is a condition `A or B`, and `A` is true, then `B` is never evaluated. If `B` is an expression with side-effects, then by calculating the branch distance of `B` even though short-circuit evaluation would avoid its execution, we would potentially be changing the program behavior (by invoking the side-effect that would in normal behavior not be executed), and that is not acceptable.\n",
    "\n",
    "\n",
    "Furthermore, what if the branching condition has side-effects? For example, suppose that the branching condition were `x == 2 * foo(y)`, where `foo` is a function that takes an integer as input. Naively instrumenting would lead to the following code:\n",
    "\n",
    "```\n",
    "    distance = abs(x - 2 * foo(y))\n",
    "\tif x == 2 * foo(y):\n",
    "\t...\n",
    "```\n",
    "\n",
    "Thus, the instrumentation would lead to `foo` being executed *twice*. Suppose `foo` changes the state of the system (e.g., by printing something, accessing the filesystem, changing some state variables, etc.), then clearly invoking `foo` a second time is a bad idea. One way to overcome this problem is to _transform_ the conditions, rather than _adding_ tracing calls. For example, one can create temporary variables that hold the values necessary for the distance calculation and then use these in the branching condition:\n",
    "\n",
    "```\n",
    "\ttmp1 = x\n",
    "\ttmp2 = 2 * foo(y)\n",
    "\tdistance = abs(tmp1 - tmp2)\n",
    "\tif tmp1 == tmp2:\n",
    "\t...\n",
    "```\n",
    "\n",
    "Besides these issues, the approach of adding a global variable and method call to the program seems like a rather clumsy approach --- surely we cannot start thinking about every branch in our program on its own and instrument the program we want to test manually, in particular if programs have multiple branches like the `cgi_decode` function. Rather, we should be looking at how to _automatically_ instrument programs to contain the necessary added statements such that we can calculate fitness values."
   ]
  },
  {
   "cell_type": "markdown",
   "metadata": {
    "slideshow": {
     "slide_type": "subslide"
    }
   },
   "source": [
    "### Instrumentation for Atomic Conditions\n",
    "\n",
    "An alternative approach to using the global and temporary variables is to replace the actual comparison with a call to a helper function, where the original expressions are evaluated as arguments, and the operator is an additional argument. Assume we have a function `evaluate_condition` which takes four parameters: `num` is a unique id that identifies the condition; `op` is the operator of the comparison; `lhs` and `rhs` are the operands. The function calculates two distances for the condition: The distance to the condition evaluating to true, and the distance to the condition evaluating to false. One of the two outcomes will always be true, and thus one of them will always have distance `0`. Since the function replaces the original comparison, it returns true or false, depending on which distance is `0`. That means, the example expression \n",
    "\n",
    "```\n",
    "    if x == 2 * foo(y)\n",
    "```\n",
    "    \n",
    "would be replaced by \n",
    "\n",
    "```\n",
    "    if evaluate_condition(0, \"Eq\", x, 2 * foo(y))\n",
    "```\n",
    "\n",
    "such that the arguments are only evaluated once, and side-effects are thus handled correctly. Here is how the `evaluate_condition` function looks like:\n"
   ]
  },
  {
   "cell_type": "code",
   "execution_count": 57,
   "metadata": {
    "slideshow": {
     "slide_type": "subslide"
    }
   },
   "outputs": [],
   "source": [
    "def evaluate_condition(num, op, lhs, rhs):\n",
    "    distance_true = 0\n",
    "    distance_false = 0\n",
    "    if op == \"Eq\":\n",
    "        if lhs == rhs:\n",
    "            distance_false = 1\n",
    "        else:\n",
    "            distance_true = abs(lhs - rhs)\n",
    "\n",
    "    # ... code for other types of conditions\n",
    "\n",
    "    if distance_true == 0:\n",
    "        return True\n",
    "    else:\n",
    "        return False"
   ]
  },
  {
   "cell_type": "markdown",
   "metadata": {
    "slideshow": {
     "slide_type": "subslide"
    }
   },
   "source": [
    "Note that we are initializing `distance_true` and `distance_false` with `0`. Thus, if `lhs` equals `rhs`, then the variable `distance_true` remains 0, and vice versa."
   ]
  },
  {
   "cell_type": "code",
   "execution_count": 58,
   "metadata": {
    "slideshow": {
     "slide_type": "fragment"
    }
   },
   "outputs": [
    {
     "data": {
      "text/plain": [
       "False"
      ]
     },
     "execution_count": 58,
     "metadata": {},
     "output_type": "execute_result"
    }
   ],
   "source": [
    "evaluate_condition(1, \"Eq\", 10, 20)"
   ]
  },
  {
   "cell_type": "code",
   "execution_count": 59,
   "metadata": {
    "slideshow": {
     "slide_type": "fragment"
    }
   },
   "outputs": [
    {
     "data": {
      "text/plain": [
       "True"
      ]
     },
     "execution_count": 59,
     "metadata": {},
     "output_type": "execute_result"
    }
   ],
   "source": [
    "evaluate_condition(2, \"Eq\", 20, 20)"
   ]
  },
  {
   "cell_type": "markdown",
   "metadata": {
    "slideshow": {
     "slide_type": "fragment"
    }
   },
   "source": [
    "What the `evaluate_condition` function does not yet do is store the distances observed. Obviously, we will need to store the values somewhere so that we can access it from our fitness function. Since the `cgi_decode` program consists of several conditions, and for each condition we might be interested in the true and the false distance, we simply use two global dictionaries, `distances_true` and `distances_false`, and define a helper function that stores the distance values observed in the dictionary:"
   ]
  },
  {
   "cell_type": "code",
   "execution_count": 60,
   "metadata": {
    "slideshow": {
     "slide_type": "subslide"
    }
   },
   "outputs": [],
   "source": [
    "def update_maps(condition_num, d_true, d_false):\n",
    "    global distances_true, distances_false\n",
    "\n",
    "    if condition_num in distances_true.keys():\n",
    "        distances_true[condition_num] = min(\n",
    "            distances_true[condition_num], d_true)\n",
    "    else:\n",
    "        distances_true[condition_num] = d_true\n",
    "\n",
    "    if condition_num in distances_false.keys():\n",
    "        distances_false[condition_num] = min(\n",
    "            distances_false[condition_num], d_false)\n",
    "    else:\n",
    "        distances_false[condition_num] = d_false"
   ]
  },
  {
   "cell_type": "markdown",
   "metadata": {
    "slideshow": {
     "slide_type": "subslide"
    }
   },
   "source": [
    "The variable `condition_num` is the unique ID of the condition that we've just evaluated. If this is the first time that we have executed this particular condition, then the true and false distances are simply stored in the corresponding dictionaries. However, it is possible that the same test executions a condition multiple times. For example, the loop condition `i < len(s)` in the `cgi_decode` function is evaluated before every single loop iteration. In the end, however, we want to have a single fitness value for a test. As covering a branch just requires that at least one of the executions reaches the branch, we consider only the closest one. Therefore, if the `distances_true` and `distances_false` dictionaries already contain the distance from a previous execution, we only replace that value if the new execution was closer to reaching the branch; this is implemented using the `min` functions."
   ]
  },
  {
   "cell_type": "markdown",
   "metadata": {
    "slideshow": {
     "slide_type": "subslide"
    }
   },
   "source": [
    "We now need to call this function from within `evaluate_condition`. Let's also add the calculation of distance for the `in` operator and the `<` comparison, since we need both of them for the `cgi_decode` example. Furthermore, `cgi_decode` actually compares characters and numbers. To make sure we use the correct types, we first have to convert the characters to numbers to calculate the distances. This is done using Python's `ord` function."
   ]
  },
  {
   "cell_type": "code",
   "execution_count": 61,
   "metadata": {
    "slideshow": {
     "slide_type": "subslide"
    }
   },
   "outputs": [],
   "source": [
    "def evaluate_condition(num, op, lhs, rhs):\n",
    "    distance_true = 0\n",
    "    distance_false = 0\n",
    "\n",
    "    # Make sure the distance can be calculated on number and character\n",
    "    # comparisons\n",
    "    if isinstance(lhs, str):\n",
    "        lhs = ord(lhs)\n",
    "    if isinstance(rhs, str):\n",
    "        rhs = ord(rhs)\n",
    "\n",
    "    if op == \"Eq\":\n",
    "        if lhs == rhs:\n",
    "            distance_false = 1\n",
    "        else:\n",
    "            distance_true = abs(lhs - rhs)\n",
    "\n",
    "    elif op == \"Lt\":\n",
    "        if lhs < rhs:\n",
    "            distance_false = rhs - lhs\n",
    "        else:\n",
    "            distance_true = lhs - rhs + 1\n",
    "    # ...\n",
    "    # handle other comparison operators\n",
    "    # ...\n",
    "\n",
    "    elif op == \"In\":\n",
    "        minimum = sys.maxsize\n",
    "        for elem in rhs.keys():\n",
    "            distance = abs(lhs - ord(elem))\n",
    "            if distance < minimum:\n",
    "                minimum = distance\n",
    "\n",
    "        distance_true = minimum\n",
    "        if distance_true == 0:\n",
    "            distance_false = 1\n",
    "\n",
    "    update_maps(num, distance_true, distance_false)\n",
    "\n",
    "    if distance_true == 0:\n",
    "        return True\n",
    "    else:\n",
    "        return False"
   ]
  },
  {
   "cell_type": "markdown",
   "metadata": {
    "slideshow": {
     "slide_type": "subslide"
    }
   },
   "source": [
    "The following shows the instrumentation of the conjunction from `cgi_decode` to make use of the `evaluate_condition` function. There are two calls to `evaluate_condition` corresponding to the two conditions, and the `and` with which they are conjoined ensures that the original short-circuiting behavior is preserved:\n",
    "\n",
    "`\n",
    "if (evaluate_condition(4, 'In', digit_high, hex_values) and evaluate_condition(5, 'In', digit_low, hex_values))\n",
    "`\n",
    "\n",
    "Of course we would like to automatically produce this instrumented varion."
   ]
  },
  {
   "cell_type": "markdown",
   "metadata": {
    "slideshow": {
     "slide_type": "subslide"
    }
   },
   "source": [
    "### Instrumenting Source Code Automatically\n",
    "\n",
    "Replacing comparisons automatically is actually quite easy in Python, using the abstract syntax tree (AST) of the program. In the AST, a comparison will typically be a tree node with an operator attribute and two children for the left-hand and right-hand operators. To replace such comparisons with a call to `evaluate_condition` one simply needs to replace the comparison node in the AST with a function call node, and this is what the `BranchTransformer` class does using a NodeTransformer from Python's `ast` module:\n"
   ]
  },
  {
   "cell_type": "code",
   "execution_count": 62,
   "metadata": {
    "slideshow": {
     "slide_type": "skip"
    }
   },
   "outputs": [],
   "source": [
    "import ast"
   ]
  },
  {
   "cell_type": "code",
   "execution_count": 63,
   "metadata": {
    "slideshow": {
     "slide_type": "subslide"
    }
   },
   "outputs": [],
   "source": [
    "class BranchTransformer(ast.NodeTransformer):\n",
    "\n",
    "    branch_num = 0\n",
    "\n",
    "    def visit_FunctionDef(self, node):\n",
    "        node.name = node.name + \"_instrumented\"\n",
    "        return self.generic_visit(node)\n",
    "\n",
    "    def visit_Compare(self, node):\n",
    "        if node.ops[0] in [ast.Is, ast.IsNot, ast.In, ast.NotIn]:\n",
    "            return node\n",
    "\n",
    "        self.branch_num += 1\n",
    "        return ast.Call(func=ast.Name(\"evaluate_condition\", ast.Load()),\n",
    "                        args=[ast.Num(self.branch_num),\n",
    "                              ast.Str(node.ops[0].__class__.__name__),\n",
    "                              node.left,\n",
    "                              node.comparators[0]],\n",
    "                        keywords=[],\n",
    "                        starargs=None,\n",
    "                        kwargs=None)"
   ]
  },
  {
   "cell_type": "markdown",
   "metadata": {
    "slideshow": {
     "slide_type": "subslide"
    }
   },
   "source": [
    "The `BranchTransformer` parses a target Python program using the built-in parser `ast.parse`, which returns the AST. Python provides API to traverse and modify this AST. To replace the comparison with a function call we use an `ast.NodeTransformer`, which uses the visitor pattern where there is one `visit_*` function for each type of node in the AST. As we are interested in replacing comparisons, we override `visit_Compare`, where instead of the original comparison node we return a new node of type `ast.Func`, which is a function call node. The first parameter of this node is the name of the function `evaluate_condition`, and the arguments are the four arguments that our `evaluate_condition` function expects: Number of branch (for which we keep a count in `branch_num`), the operator (for which we simply use the class name), the left-hand side, and the right-hand side. Note that Python allows comparisons of multiple expressions (e.g. `1 < x < 10`); to keep the code simple we only deal with individual comparisons here, but it would be straight forward to extend the code by treating each comparison with an individual call to `evaluate_condition`. You will notice that we also override `visit_FunctionDef`; this is just to change the name of the method by appending `_instrumented`, so that we can continue to use the original function together with the instrumented one."
   ]
  },
  {
   "cell_type": "markdown",
   "metadata": {
    "slideshow": {
     "slide_type": "subslide"
    }
   },
   "source": [
    "The following code parses the source code of the `cgi_decode` function to an AST, then transforms it, and prints it out again (using the `to_source` function from the `astor` library):"
   ]
  },
  {
   "cell_type": "code",
   "execution_count": 64,
   "metadata": {
    "slideshow": {
     "slide_type": "skip"
    }
   },
   "outputs": [],
   "source": [
    "import inspect\n",
    "import ast\n",
    "from astor import to_source"
   ]
  },
  {
   "cell_type": "code",
   "execution_count": 65,
   "metadata": {
    "slideshow": {
     "slide_type": "subslide"
    }
   },
   "outputs": [
    {
     "name": "stdout",
     "output_type": "stream",
     "text": [
      "def cgi_decode_instrumented(s):\n",
      "    \"\"\"Decode the CGI-encoded string `s`:\n",
      "       * replace \"+\" by \" \"\n",
      "       * replace \"%xx\" by the character with hex number xx.\n",
      "       Return the decoded string.  Raise `ValueError` for invalid inputs.\"\"\"\n",
      "    hex_values = {'0': 0, '1': 1, '2': 2, '3': 3, '4': 4, '5': 5, '6': 6,\n",
      "        '7': 7, '8': 8, '9': 9, 'a': 10, 'b': 11, 'c': 12, 'd': 13, 'e': 14,\n",
      "        'f': 15, 'A': 10, 'B': 11, 'C': 12, 'D': 13, 'E': 14, 'F': 15}\n",
      "    t = ''\n",
      "    i = 0\n",
      "    while evaluate_condition(1, 'Lt', i, len(s)):\n",
      "        c = s[i]\n",
      "        if evaluate_condition(2, 'Eq', c, '+'):\n",
      "            t += ' '\n",
      "        elif evaluate_condition(3, 'Eq', c, '%'):\n",
      "            digit_high, digit_low = s[i + 1], s[i + 2]\n",
      "            i += 2\n",
      "            if evaluate_condition(4, 'In', digit_high, hex_values\n",
      "                ) and evaluate_condition(5, 'In', digit_low, hex_values):\n",
      "                v = hex_values[digit_high] * 16 + hex_values[digit_low]\n",
      "                t += chr(v)\n",
      "            else:\n",
      "                raise ValueError('Invalid encoding')\n",
      "        else:\n",
      "            t += c\n",
      "        i += 1\n",
      "    return t\n",
      "\n"
     ]
    }
   ],
   "source": [
    "source = inspect.getsource(cgi_decode)\n",
    "node = ast.parse(source)\n",
    "BranchTransformer().visit(node)\n",
    "\n",
    "# Make sure the line numbers are ok before printing\n",
    "node = ast.fix_missing_locations(node)\n",
    "print(to_source(node))"
   ]
  },
  {
   "cell_type": "markdown",
   "metadata": {
    "slideshow": {
     "slide_type": "subslide"
    }
   },
   "source": [
    "To calculate a fitness value with the instrumented version, we need to compile the instrumented AST again, which is done using Python's `compile` function. We then need to make the compiled function accessible, for which first retrieve the current module from `sys.modules`, and then add the compiled code of the instrumented function to the list of functions of the current module using `exec`. After this, the `cgi_decode_instrumented` function can be accessed."
   ]
  },
  {
   "cell_type": "code",
   "execution_count": 66,
   "metadata": {
    "slideshow": {
     "slide_type": "subslide"
    }
   },
   "outputs": [],
   "source": [
    "def create_instrumented_function(f):\n",
    "    source = inspect.getsource(f)\n",
    "    node = ast.parse(source)\n",
    "    node = BranchTransformer().visit(node)\n",
    "\n",
    "    # Make sure the line numbers are ok so that it compiles\n",
    "    node = ast.fix_missing_locations(node)\n",
    "\n",
    "    # Compile and add the instrumented function to the current module\n",
    "    current_module = sys.modules[__name__]\n",
    "    code = compile(node, filename=\"<ast>\", mode=\"exec\")\n",
    "    exec(code, current_module.__dict__)"
   ]
  },
  {
   "cell_type": "code",
   "execution_count": 67,
   "metadata": {
    "slideshow": {
     "slide_type": "fragment"
    }
   },
   "outputs": [],
   "source": [
    "# Set up the global maps\n",
    "distances_true = {}\n",
    "distances_false = {}"
   ]
  },
  {
   "cell_type": "code",
   "execution_count": 68,
   "metadata": {
    "slideshow": {
     "slide_type": "subslide"
    }
   },
   "outputs": [],
   "source": [
    "# Create instrumented function\n",
    "# cgi_decode_instrumented = \n",
    "create_instrumented_function(cgi_decode)"
   ]
  },
  {
   "cell_type": "code",
   "execution_count": 69,
   "metadata": {
    "slideshow": {
     "slide_type": "fragment"
    }
   },
   "outputs": [],
   "source": [
    "assert cgi_decode(\"Hello+Reader\") == cgi_decode_instrumented(\"Hello+Reader\")"
   ]
  },
  {
   "cell_type": "code",
   "execution_count": 70,
   "metadata": {
    "slideshow": {
     "slide_type": "fragment"
    }
   },
   "outputs": [
    {
     "data": {
      "text/plain": [
       "'Hello Reader'"
      ]
     },
     "execution_count": 70,
     "metadata": {},
     "output_type": "execute_result"
    }
   ],
   "source": [
    "cgi_decode_instrumented(\"Hello+Reader\")"
   ]
  },
  {
   "cell_type": "code",
   "execution_count": 71,
   "metadata": {
    "slideshow": {
     "slide_type": "fragment"
    }
   },
   "outputs": [
    {
     "data": {
      "text/plain": [
       "{1: 0, 2: 0, 3: 35}"
      ]
     },
     "execution_count": 71,
     "metadata": {},
     "output_type": "execute_result"
    }
   ],
   "source": [
    "distances_true"
   ]
  },
  {
   "cell_type": "code",
   "execution_count": 72,
   "metadata": {
    "slideshow": {
     "slide_type": "fragment"
    }
   },
   "outputs": [
    {
     "data": {
      "text/plain": [
       "{1: 0, 2: 0, 3: 0}"
      ]
     },
     "execution_count": 72,
     "metadata": {},
     "output_type": "execute_result"
    }
   ],
   "source": [
    "distances_false"
   ]
  },
  {
   "cell_type": "markdown",
   "metadata": {
    "slideshow": {
     "slide_type": "subslide"
    }
   },
   "source": [
    "As we can see from the `distances_true` and `distances_false` maps, conditions 1 and 2 have evaluated to true and to false, whereas condition 3 has only evaluated to false, when executed on `cgi_decode_instrumented`. This is as expected, since the while-loop was entered and left, and there was one white space but no `%`-character in the input string."
   ]
  },
  {
   "cell_type": "markdown",
   "metadata": {
    "slideshow": {
     "slide_type": "subslide"
    }
   },
   "source": [
    "### Fitness Function to Create Valid Hexadecimal Inputs\n",
    "\n",
    "As an example, let's take as objective to test the part of `cgi_decode` that decodes valid hexadecimal codes. This means that we want to make condition 1 true, 2 false, 3 true, and 4 true. To represent such a path, we can simply sum up the branch distances for exactly these branches. However, there is a potential issue with simply summing up branch distances: If the distance for one condition depends on a comparison of very large values and the distance calculation for another condition depends on small values, then an improvement of the large values would very likely lead to a better fitness improvement, and thus bias the search. To avoid this, we need to *normalize* branch distances before adding them up."
   ]
  },
  {
   "cell_type": "markdown",
   "metadata": {
    "slideshow": {
     "slide_type": "subslide"
    }
   },
   "source": [
    "A normalisation function for a range `[a, b]` takes a number as input and returns a value that is `>=a` and `<=b`. The important thing about the function is that for any two numbers `x` and `y` the ordering needs to be preserved by the normalisation. That is, if `x<y` then it must also hold that `normalize(x) < normalize(y)`. There are many different functions that could achieve this result; a simple one is `normalize(x) = x/(x+k)`: It is computationally cheap, and will normalise any positive value in the range `[0,1]` (to change this to `[0,b]` one would just need to multiply by `b`). If we use this normalisation function, we also know the maximum value: it is `1.0`. The function assumes that the value to be normalised is positive. The value of the factor `k` defines the steepness of the curve. For example, for `k=1` (which is a good default value) the curve is very steep, with values quickly approaching, but never reaching, `1`."
   ]
  },
  {
   "cell_type": "code",
   "execution_count": 73,
   "metadata": {
    "slideshow": {
     "slide_type": "subslide"
    }
   },
   "outputs": [],
   "source": [
    "def normalize(x):\n",
    "    return x / (1.0 + x)"
   ]
  },
  {
   "cell_type": "markdown",
   "metadata": {
    "slideshow": {
     "slide_type": "fragment"
    }
   },
   "source": [
    "To see how this normalisation function works, we can plot a range of values. The x-axis contains the original values, the y-axis shows the corresponding normalised value:"
   ]
  },
  {
   "cell_type": "code",
   "execution_count": 74,
   "metadata": {
    "slideshow": {
     "slide_type": "skip"
    }
   },
   "outputs": [
    {
     "data": {
      "image/png": "[encoded data removed]",
      "text/plain": [
       "<Figure size 432x288 with 1 Axes>"
      ]
     },
     "metadata": {
      "needs_background": "light"
     },
     "output_type": "display_data"
    }
   ],
   "source": [
    "import matplotlib.pyplot as plt\n",
    "fig = plt.figure()\n",
    "ax = plt.axes()\n",
    "\n",
    "x = range(100)\n",
    "y = [value / (value + 1.0) for value in x]\n",
    "ax.plot(x, y);"
   ]
  },
  {
   "cell_type": "markdown",
   "metadata": {
    "slideshow": {
     "slide_type": "fragment"
    }
   },
   "source": [
    "Using this normalization function, we can calculate a fitness value by running the instrumented program under test, and then adding up the normalized values of the relevant branches. However, not every if statement will be executed by every test case. What is the branch distance for a branch that wasn't even executed? We need to make sure that the branch distance for branches that weren't even executed is higher than any of the branch distances observed during execution. Given our normalization, we know this maximum value is 1. Thus, the fitness function could look like this:"
   ]
  },
  {
   "cell_type": "code",
   "execution_count": 75,
   "metadata": {
    "slideshow": {
     "slide_type": "subslide"
    }
   },
   "outputs": [],
   "source": [
    "def get_fitness(x):\n",
    "    # Reset any distance values from previous executions\n",
    "    global distances_true, distances_false\n",
    "    distances_true = {}\n",
    "    distances_false = {}\n",
    "\n",
    "    # Run the function under test\n",
    "    try:\n",
    "        cgi_decode_instrumented(x)\n",
    "    except BaseException:\n",
    "        pass\n",
    "\n",
    "    # Sum up branch distances\n",
    "    fitness = 0.0\n",
    "    for branch in [1, 3, 4, 5]:\n",
    "        if branch in distances_true:\n",
    "            fitness += normalize(distances_true[branch])\n",
    "        else:\n",
    "            fitness += 1.0\n",
    "\n",
    "    for branch in [2]:\n",
    "        if branch in distances_false:\n",
    "            fitness += normalize(distances_false[branch])\n",
    "        else:\n",
    "            fitness += 1.0\n",
    "\n",
    "    return fitness"
   ]
  },
  {
   "cell_type": "markdown",
   "metadata": {
    "slideshow": {
     "slide_type": "subslide"
    }
   },
   "source": [
    "To see our instrumentation in action, let's calculate fitness values for a couple of example inputs, progressively getting closer to the target."
   ]
  },
  {
   "cell_type": "code",
   "execution_count": 76,
   "metadata": {
    "slideshow": {
     "slide_type": "fragment"
    }
   },
   "outputs": [
    {
     "data": {
      "text/plain": [
       "4.5"
      ]
     },
     "execution_count": 76,
     "metadata": {},
     "output_type": "execute_result"
    }
   ],
   "source": [
    "# Empty string does not even enter the loop\n",
    "get_fitness(\"\")"
   ]
  },
  {
   "cell_type": "code",
   "execution_count": 77,
   "metadata": {
    "slideshow": {
     "slide_type": "fragment"
    }
   },
   "outputs": [
    {
     "data": {
      "text/plain": [
       "2.9722222222222223"
      ]
     },
     "execution_count": 77,
     "metadata": {},
     "output_type": "execute_result"
    }
   ],
   "source": [
    "# String contains no percentage character\n",
    "get_fitness(\"Hello+Reader\")"
   ]
  },
  {
   "cell_type": "code",
   "execution_count": 78,
   "metadata": {
    "slideshow": {
     "slide_type": "fragment"
    }
   },
   "outputs": [
    {
     "data": {
      "text/plain": [
       "1.9230769230769231"
      ]
     },
     "execution_count": 78,
     "metadata": {},
     "output_type": "execute_result"
    }
   ],
   "source": [
    "# String contains a percentage character, but no valid hex char\n",
    "get_fitness(\"%UU\")"
   ]
  },
  {
   "cell_type": "code",
   "execution_count": 79,
   "metadata": {
    "slideshow": {
     "slide_type": "fragment"
    }
   },
   "outputs": [
    {
     "data": {
      "text/plain": [
       "0.9230769230769231"
      ]
     },
     "execution_count": 79,
     "metadata": {},
     "output_type": "execute_result"
    }
   ],
   "source": [
    "# String contains a percentage character, but only one valid hex char\n",
    "get_fitness(\"%AU\")"
   ]
  },
  {
   "cell_type": "code",
   "execution_count": 80,
   "metadata": {
    "slideshow": {
     "slide_type": "subslide"
    }
   },
   "outputs": [
    {
     "data": {
      "text/plain": [
       "0.0"
      ]
     },
     "execution_count": 80,
     "metadata": {},
     "output_type": "execute_result"
    }
   ],
   "source": [
    "# String contains a percentage character and two valid hex chars\n",
    "get_fitness(\"%AA\")"
   ]
  },
  {
   "cell_type": "markdown",
   "metadata": {
    "slideshow": {
     "slide_type": "subslide"
    }
   },
   "source": [
    "### Hillclimbing Valid Hexadecimal Inputs\n",
    "\n",
    "We have now defined the search space through our `neighbour_strings` function, and we have derived a new fitness function, so before we can apply the hillclimber to the problem of finding strings that contain valid 2-digit hex codes, the only remaining point is to derive a random starting point, which you've already done previously in the [MutationFuzzer chapter](MutationFuzzer.ipynb):"
   ]
  },
  {
   "cell_type": "code",
   "execution_count": 81,
   "metadata": {
    "slideshow": {
     "slide_type": "fragment"
    }
   },
   "outputs": [],
   "source": [
    "def random_string(l):\n",
    "    s = \"\"\n",
    "    for i in range(l):\n",
    "        random_character = chr(random.randrange(32, 127))\n",
    "        s = s + random_character\n",
    "    return s"
   ]
  },
  {
   "cell_type": "markdown",
   "metadata": {
    "slideshow": {
     "slide_type": "subslide"
    }
   },
   "source": [
    "Now we can put it all together and use the identical hillclimbing algorithm again, and just make it generate random strings instead of numbers, and use the new fitness function:"
   ]
  },
  {
   "cell_type": "code",
   "execution_count": 82,
   "metadata": {
    "slideshow": {
     "slide_type": "subslide"
    }
   },
   "outputs": [],
   "source": [
    "def hillclimb_cgi():\n",
    "    x = random_string(10)\n",
    "    fitness = get_fitness(x)\n",
    "    print(\"Initial input: %s at fitness %.4f\" % (x, fitness))\n",
    "\n",
    "    while fitness > 0:\n",
    "        changed = False\n",
    "        for (nextx) in neighbour_strings(x):\n",
    "            new_fitness = get_fitness(nextx)\n",
    "            if new_fitness < fitness:\n",
    "                x = nextx\n",
    "                fitness = new_fitness\n",
    "                changed = True\n",
    "                print(\"New value: %s at fitness %.4f\" % (x, fitness))\n",
    "                break\n",
    "\n",
    "        # Random restart if necessary\n",
    "        if not changed:\n",
    "            x = random_string(10)\n",
    "            fitness = get_fitness(x)\n",
    "\n",
    "    print(\"Optimum at %s, fitness %.4f\" % (x, fitness))"
   ]
  },
  {
   "cell_type": "code",
   "execution_count": 83,
   "metadata": {
    "slideshow": {
     "slide_type": "subslide"
    }
   },
   "outputs": [
    {
     "name": "stdout",
     "output_type": "stream",
     "text": [
      "Initial input: o'@[3(rW*M at fitness 2.6667\n",
      "New value: o&@[3(rW*M at fitness 2.5000\n",
      "New value: o%@[3(rW*M at fitness 1.5000\n",
      "New value: o%A[3(rW*M at fitness 0.8571\n",
      "New value: o%A\\3(rW*M at fitness 0.8333\n",
      "New value: o%A]3(rW*M at fitness 0.8000\n",
      "New value: o%A^3(rW*M at fitness 0.7500\n",
      "New value: o%A_3(rW*M at fitness 0.6667\n",
      "New value: o%A`3(rW*M at fitness 0.5000\n",
      "New value: o%Aa3(rW*M at fitness 0.0000\n",
      "Optimum at o%Aa3(rW*M, fitness 0.0000\n"
     ]
    }
   ],
   "source": [
    "hillclimb_cgi()"
   ]
  },
  {
   "cell_type": "markdown",
   "metadata": {
    "slideshow": {
     "slide_type": "subslide"
    }
   },
   "source": [
    "Run the hillclimber a couple of times to see it generate strings with valid hex characters. Sometimes it only takes a couple of steps, sometimes it takes longer, but at the end it always solves the problem and generates the string we want to have."
   ]
  },
  {
   "cell_type": "markdown",
   "metadata": {
    "button": false,
    "new_sheet": false,
    "run_control": {
     "read_only": false
    },
    "slideshow": {
     "slide_type": "subslide"
    }
   },
   "source": [
    "## Evolutionary Search\n",
    "\n",
    "Hillclimbing works well, if the neighbourhood is reasonably small. This was the case so far in the `cgi_decode` example because we limited ourselves to a fixed number of characters (10) and limited the character range to printable ASCII characters. But imagine what happens if we are not looking for ASCII characters, but  UTF-16 unicode characters? These are not allowed in URLs really, but let's see what happens if we change our search space:"
   ]
  },
  {
   "cell_type": "code",
   "execution_count": 84,
   "metadata": {
    "slideshow": {
     "slide_type": "subslide"
    }
   },
   "outputs": [],
   "source": [
    "def random_unicode_string(l):\n",
    "    s = \"\"\n",
    "    for i in range(l):\n",
    "        # Limits to reflect range of UTF-16\n",
    "        random_character = chr(random.randrange(0, 65536))\n",
    "        s = s + random_character\n",
    "    return s"
   ]
  },
  {
   "cell_type": "code",
   "execution_count": 85,
   "metadata": {
    "slideshow": {
     "slide_type": "subslide"
    }
   },
   "outputs": [],
   "source": [
    "def unicode_string_neighbours(x):\n",
    "    n = []\n",
    "    for pos in range(len(x)):\n",
    "        c = ord(x[pos])\n",
    "        # Limits to reflect range of UTF-16\n",
    "        if c < 65536:\n",
    "            n += [x[:pos] + chr(c + 1) + x[pos + 1:]]\n",
    "        if c > 0:\n",
    "            n += [x[:pos] + chr(c - 1) + x[pos + 1:]]\n",
    "\n",
    "    return n"
   ]
  },
  {
   "cell_type": "markdown",
   "metadata": {
    "slideshow": {
     "slide_type": "subslide"
    }
   },
   "source": [
    "UTF-8 characters are represented with 16 bits, and this gives us a range of 65536 possible characters. The functions above are adapted to these boundaries. Before we run the hillclimber again, let's make one more change: We will add an iteration limit so that we can give up the search, rather than waiting forever for it to complete."
   ]
  },
  {
   "cell_type": "code",
   "execution_count": 86,
   "metadata": {
    "slideshow": {
     "slide_type": "fragment"
    }
   },
   "outputs": [],
   "source": [
    "def terminal_repr(s):\n",
    "    return terminal_escape(repr(s))"
   ]
  },
  {
   "cell_type": "code",
   "execution_count": 87,
   "metadata": {
    "slideshow": {
     "slide_type": "subslide"
    }
   },
   "outputs": [],
   "source": [
    "def hillclimb_cgi_limited(max_iterations):\n",
    "    x = random_unicode_string(10)\n",
    "    fitness = get_fitness(x)\n",
    "    print(\"Initial input: %s at fitness %.4f\" % (terminal_repr(x), fitness))\n",
    "\n",
    "    iteration = 0\n",
    "    while fitness > 0 and iteration < max_iterations:\n",
    "        changed = False\n",
    "        for (nextx) in unicode_string_neighbours(x):\n",
    "            new_fitness = get_fitness(nextx)\n",
    "            if new_fitness < fitness:\n",
    "                x = nextx\n",
    "                fitness = new_fitness\n",
    "                changed = True\n",
    "                print(\"New value: %s at fitness %.4f\" %\n",
    "                      (terminal_repr(x), fitness))\n",
    "                break\n",
    "\n",
    "        # Random restart if necessary\n",
    "        if not changed:\n",
    "            x = random_string(10)\n",
    "            fitness = get_fitness(x)\n",
    "        iteration += 1\n",
    "\n",
    "    print(\"Optimum at %s, fitness %.4f\" % (terminal_repr(x), fitness))"
   ]
  },
  {
   "cell_type": "code",
   "execution_count": 88,
   "metadata": {
    "slideshow": {
     "slide_type": "subslide"
    }
   },
   "outputs": [
    {
     "name": "stdout",
     "output_type": "stream",
     "text": [
      "Initial input: '埂\\udf19\\uf67c듵騛쁥핡勸\\uf172싕' at fitness 3.0000\n",
      "New value: '埂\\udf19\\uf67c듵騛쁥핡勷\\uf172싕' at fitness 3.0000\n",
      "New value: '埂\\udf19\\uf67c듵騛쁥핡勶\\uf172싕' at fitness 3.0000\n",
      "New value: '埂\\udf19\\uf67c듵騛쁥핡勵\\uf172싕' at fitness 3.0000\n",
      "New value: '埂\\udf19\\uf67c듵騛쁥핡勴\\uf172싕' at fitness 3.0000\n",
      "New value: '埂\\udf19\\uf67c듵騛쁥핡勳\\uf172싕' at fitness 3.0000\n",
      "New value: '埂\\udf19\\uf67c듵騛쁥핡勲\\uf172싕' at fitness 3.0000\n",
      "New value: '埂\\udf19\\uf67c듵騛쁥핡勱\\uf172싕' at fitness 3.0000\n",
      "New value: '埂\\udf19\\uf67c듵騛쁥핡勰\\uf172싕' at fitness 3.0000\n",
      "New value: '埂\\udf19\\uf67c듵騛쁥핡勯\\uf172싕' at fitness 3.0000\n",
      "New value: '埂\\udf19\\uf67c듵騛쁥핡勮\\uf172싕' at fitness 3.0000\n",
      "New value: '埂\\udf19\\uf67c듵騛쁥핡勭\\uf172싕' at fitness 3.0000\n",
      "New value: '埂\\udf19\\uf67c듵騛쁥핡勬\\uf172싕' at fitness 3.0000\n",
      "New value: '埂\\udf19\\uf67c듵騛쁥핡勫\\uf172싕' at fitness 3.0000\n",
      "New value: '埂\\udf19\\uf67c듵騛쁥핡勪\\uf172싕' at fitness 3.0000\n",
      "New value: '埂\\udf19\\uf67c듵騛쁥핡勩\\uf172싕' at fitness 3.0000\n",
      "New value: '埂\\udf19\\uf67c듵騛쁥핡勨\\uf172싕' at fitness 3.0000\n",
      "New value: '埂\\udf19\\uf67c듵騛쁥핡勧\\uf172싕' at fitness 3.0000\n",
      "New value: '埂\\udf19\\uf67c듵騛쁥핡勦\\uf172싕' at fitness 3.0000\n",
      "New value: '埂\\udf19\\uf67c듵騛쁥핡勥\\uf172싕' at fitness 3.0000\n",
      "New value: '埂\\udf19\\uf67c듵騛쁥핡勤\\uf172싕' at fitness 3.0000\n",
      "New value: '埂\\udf19\\uf67c듵騛쁥핡勣\\uf172싕' at fitness 3.0000\n",
      "New value: '埂\\udf19\\uf67c듵騛쁥핡勢\\uf172싕' at fitness 3.0000\n",
      "New value: '埂\\udf19\\uf67c듵騛쁥핡勡\\uf172싕' at fitness 3.0000\n",
      "New value: '埂\\udf19\\uf67c듵騛쁥핡勠\\uf172싕' at fitness 3.0000\n",
      "New value: '埂\\udf19\\uf67c듵騛쁥핡募\\uf172싕' at fitness 3.0000\n",
      "New value: '埂\\udf19\\uf67c듵騛쁥핡勞\\uf172싕' at fitness 3.0000\n",
      "New value: '埂\\udf19\\uf67c듵騛쁥핡勝\\uf172싕' at fitness 3.0000\n",
      "New value: '埂\\udf19\\uf67c듵騛쁥핡勜\\uf172싕' at fitness 3.0000\n",
      "New value: '埂\\udf19\\uf67c듵騛쁥핡勛\\uf172싕' at fitness 3.0000\n",
      "New value: '埂\\udf19\\uf67c듵騛쁥핡勚\\uf172싕' at fitness 3.0000\n",
      "New value: '埂\\udf19\\uf67c듵騛쁥핡務\\uf172싕' at fitness 3.0000\n",
      "New value: '埂\\udf19\\uf67c듵騛쁥핡勘\\uf172싕' at fitness 3.0000\n",
      "New value: '埂\\udf19\\uf67c듵騛쁥핡勗\\uf172싕' at fitness 3.0000\n",
      "New value: '埂\\udf19\\uf67c듵騛쁥핡勖\\uf172싕' at fitness 3.0000\n",
      "New value: '埂\\udf19\\uf67c듵騛쁥핡動\\uf172싕' at fitness 3.0000\n",
      "New value: '埂\\udf19\\uf67c듵騛쁥핡勔\\uf172싕' at fitness 3.0000\n",
      "New value: '埂\\udf19\\uf67c듵騛쁥핡勓\\uf172싕' at fitness 3.0000\n",
      "New value: '埂\\udf19\\uf67c듵騛쁥핡勒\\uf172싕' at fitness 3.0000\n",
      "New value: '埂\\udf19\\uf67c듵騛쁥핡勑\\uf172싕' at fitness 3.0000\n",
      "New value: '埂\\udf19\\uf67c듵騛쁥핡勐\\uf172싕' at fitness 3.0000\n",
      "New value: '埂\\udf19\\uf67c듵騛쁥핡勏\\uf172싕' at fitness 3.0000\n",
      "New value: '埂\\udf19\\uf67c듵騛쁥핡勎\\uf172싕' at fitness 3.0000\n",
      "New value: '埂\\udf19\\uf67c듵騛쁥핡勍\\uf172싕' at fitness 3.0000\n",
      "New value: '埂\\udf19\\uf67c듵騛쁥핡勌\\uf172싕' at fitness 3.0000\n",
      "New value: '埂\\udf19\\uf67c듵騛쁥핡勋\\uf172싕' at fitness 3.0000\n",
      "New value: '埂\\udf19\\uf67c듵騛쁥핡勊\\uf172싕' at fitness 3.0000\n",
      "New value: '埂\\udf19\\uf67c듵騛쁥핡勉\\uf172싕' at fitness 3.0000\n",
      "New value: '埂\\udf19\\uf67c듵騛쁥핡勈\\uf172싕' at fitness 3.0000\n",
      "New value: '埂\\udf19\\uf67c듵騛쁥핡勇\\uf172싕' at fitness 3.0000\n",
      "New value: '埂\\udf19\\uf67c듵騛쁥핡勆\\uf172싕' at fitness 3.0000\n",
      "New value: '埂\\udf19\\uf67c듵騛쁥핡勅\\uf172싕' at fitness 3.0000\n",
      "New value: '埂\\udf19\\uf67c듵騛쁥핡勄\\uf172싕' at fitness 3.0000\n",
      "New value: '埂\\udf19\\uf67c듵騛쁥핡勃\\uf172싕' at fitness 3.0000\n",
      "New value: '埂\\udf19\\uf67c듵騛쁥핡勂\\uf172싕' at fitness 3.0000\n",
      "New value: '埂\\udf19\\uf67c듵騛쁥핡勁\\uf172싕' at fitness 3.0000\n",
      "New value: '埂\\udf19\\uf67c듵騛쁥핡勀\\uf172싕' at fitness 3.0000\n",
      "New value: '埂\\udf19\\uf67c듵騛쁥핡势\\uf172싕' at fitness 3.0000\n",
      "New value: '埂\\udf19\\uf67c듵騛쁥핡劾\\uf172싕' at fitness 3.0000\n",
      "New value: '埂\\udf19\\uf67c듵騛쁥핡劽\\uf172싕' at fitness 3.0000\n",
      "New value: '埂\\udf19\\uf67c듵騛쁥핡劼\\uf172싕' at fitness 3.0000\n",
      "New value: '埂\\udf19\\uf67c듵騛쁥핡劻\\uf172싕' at fitness 3.0000\n",
      "New value: '埂\\udf19\\uf67c듵騛쁥핡劺\\uf172싕' at fitness 3.0000\n",
      "New value: '埂\\udf19\\uf67c듵騛쁥핡効\\uf172싕' at fitness 3.0000\n",
      "New value: '埂\\udf19\\uf67c듵騛쁥핡劸\\uf172싕' at fitness 3.0000\n",
      "New value: '埂\\udf19\\uf67c듵騛쁥핡劷\\uf172싕' at fitness 3.0000\n",
      "New value: '埂\\udf19\\uf67c듵騛쁥핡劶\\uf172싕' at fitness 3.0000\n",
      "New value: '埂\\udf19\\uf67c듵騛쁥핡劵\\uf172싕' at fitness 3.0000\n",
      "New value: '埂\\udf19\\uf67c듵騛쁥핡労\\uf172싕' at fitness 3.0000\n",
      "New value: '埂\\udf19\\uf67c듵騛쁥핡劳\\uf172싕' at fitness 3.0000\n",
      "New value: '埂\\udf19\\uf67c듵騛쁥핡劲\\uf172싕' at fitness 3.0000\n",
      "New value: '埂\\udf19\\uf67c듵騛쁥핡励\\uf172싕' at fitness 3.0000\n",
      "New value: '埂\\udf19\\uf67c듵騛쁥핡劰\\uf172싕' at fitness 3.0000\n",
      "New value: '埂\\udf19\\uf67c듵騛쁥핡劯\\uf172싕' at fitness 3.0000\n",
      "New value: '埂\\udf19\\uf67c듵騛쁥핡劮\\uf172싕' at fitness 3.0000\n",
      "New value: '埂\\udf19\\uf67c듵騛쁥핡劭\\uf172싕' at fitness 3.0000\n",
      "New value: '埂\\udf19\\uf67c듵騛쁥핡劬\\uf172싕' at fitness 3.0000\n",
      "New value: '埂\\udf19\\uf67c듵騛쁥핡劫\\uf172싕' at fitness 3.0000\n",
      "New value: '埂\\udf19\\uf67c듵騛쁥핡努\\uf172싕' at fitness 3.0000\n",
      "New value: '埂\\udf19\\uf67c듵騛쁥핡助\\uf172싕' at fitness 3.0000\n",
      "New value: '埂\\udf19\\uf67c듵騛쁥핡动\\uf172싕' at fitness 3.0000\n",
      "New value: '埂\\udf19\\uf67c듵騛쁥핡劧\\uf172싕' at fitness 3.0000\n",
      "New value: '埂\\udf19\\uf67c듵騛쁥핡劦\\uf172싕' at fitness 3.0000\n",
      "New value: '埂\\udf19\\uf67c듵騛쁥핡劥\\uf172싕' at fitness 3.0000\n",
      "New value: '埂\\udf19\\uf67c듵騛쁥핡劤\\uf172싕' at fitness 3.0000\n",
      "New value: '埂\\udf19\\uf67c듵騛쁥핡劣\\uf172싕' at fitness 3.0000\n",
      "New value: '埂\\udf19\\uf67c듵騛쁥핡劢\\uf172싕' at fitness 3.0000\n",
      "New value: '埂\\udf19\\uf67c듵騛쁥핡务\\uf172싕' at fitness 3.0000\n",
      "New value: '埂\\udf19\\uf67c듵騛쁥핡加\\uf172싕' at fitness 3.0000\n",
      "New value: '埂\\udf19\\uf67c듵騛쁥핡功\\uf172싕' at fitness 3.0000\n",
      "New value: '埂\\udf19\\uf67c듵騛쁥핡办\\uf172싕' at fitness 3.0000\n",
      "New value: '埂\\udf19\\uf67c듵騛쁥핡劝\\uf172싕' at fitness 3.0000\n",
      "New value: '埂\\udf19\\uf67c듵騛쁥핡劜\\uf172싕' at fitness 3.0000\n",
      "New value: '埂\\udf19\\uf67c듵騛쁥핡力\\uf172싕' at fitness 3.0000\n",
      "New value: '埂\\udf19\\uf67c듵騛쁥핡劚\\uf172싕' at fitness 3.0000\n",
      "New value: '埂\\udf19\\uf67c듵騛쁥핡劙\\uf172싕' at fitness 3.0000\n",
      "New value: '埂\\udf19\\uf67c듵騛쁥핡劘\\uf172싕' at fitness 3.0000\n",
      "New value: '埂\\udf19\\uf67c듵騛쁥핡劗\\uf172싕' at fitness 3.0000\n",
      "New value: '埂\\udf19\\uf67c듵騛쁥핡劖\\uf172싕' at fitness 3.0000\n",
      "New value: '埂\\udf19\\uf67c듵騛쁥핡劕\\uf172싕' at fitness 3.0000\n",
      "New value: '埂\\udf19\\uf67c듵騛쁥핡劔\\uf172싕' at fitness 3.0000\n",
      "Optimum at '埂\\udf19\\uf67c듵騛쁥핡劔\\uf172싕', fitness 3.0000\n"
     ]
    }
   ],
   "source": [
    "hillclimb_cgi_limited(100)"
   ]
  },
  {
   "cell_type": "markdown",
   "metadata": {
    "slideshow": {
     "slide_type": "subslide"
    }
   },
   "source": [
    "You can play around with the iteration limit and see how long it takes to find a solution in this search space. Unless you are lucky with the random starting point, this usually takes really unreasonably long."
   ]
  },
  {
   "cell_type": "markdown",
   "metadata": {
    "slideshow": {
     "slide_type": "subslide"
    }
   },
   "source": [
    "### Global Search\n",
    "\n",
    "The hillclimber explores the local neighbourhood of an individual in each step of the search, and if the neighbourhood is too large, then this takes too long. An alternative strategy is to not restrict the search to the local neighbourhood, but to search the search space *globally*. That is, the search algorithm is allowed to make larger steps around the search space. A simple modification of the hillclimber converts it from a local to a global search algorithm: Instead of looking at all the immediate neighbours, the individual is *mutated* in a way that allows larger modifications."
   ]
  },
  {
   "cell_type": "markdown",
   "metadata": {
    "slideshow": {
     "slide_type": "subslide"
    }
   },
   "source": [
    "A *mutation* is a change that represents such a larger step around the search space. An important decision when implementing a mutation is that it should, theoretically, be possible to reach any point in the search space simply by applying mutation successively. However, mutation usually should not completely replace an individual with a random one. It is important for the search to be effective that the mutation constitutes a reasonable change to an individual that still maintains most of its traits. For our search problem of 10-character strings, a possible mutation would be to replace only _1_ out of the 10 characters, as follows:"
   ]
  },
  {
   "cell_type": "code",
   "execution_count": 89,
   "metadata": {
    "slideshow": {
     "slide_type": "fragment"
    }
   },
   "outputs": [],
   "source": [
    "def flip_random_character(s):\n",
    "    pos = random.randint(0, len(s) - 1)\n",
    "    new_c = chr(random.randrange(0, 65536))\n",
    "    return s[:pos] + new_c + s[pos + 1:]"
   ]
  },
  {
   "cell_type": "markdown",
   "metadata": {
    "slideshow": {
     "slide_type": "subslide"
    }
   },
   "source": [
    "A simple modification of the hillclimber is to replace the exploration of the neighbourhood with mutations. In each iteration, the current individual is mutated. The resulting offspring individual is compared to its parent, and the better of the two is the new point in the search space, and used for the next iteration of mutation. This is called \"randomized hillclimbing\"."
   ]
  },
  {
   "cell_type": "code",
   "execution_count": 90,
   "metadata": {
    "slideshow": {
     "slide_type": "subslide"
    }
   },
   "outputs": [],
   "source": [
    "def randomized_hillclimb():\n",
    "    x = random_unicode_string(10)\n",
    "    fitness = get_fitness(x)\n",
    "    print(\"Initial value: %s at fitness %.4f\" %\n",
    "          (terminal_repr(x), fitness))\n",
    "\n",
    "    iterations = 0\n",
    "    while fitness > 0:\n",
    "        mutated = flip_random_character(x)\n",
    "        new_fitness = get_fitness(mutated)\n",
    "        if new_fitness <= fitness:\n",
    "            x = mutated\n",
    "            fitness = new_fitness\n",
    "            #print(\"New value: %s at fitness %.4f\" %(terminal_repr(x), fitness))\n",
    "        iterations += 1\n",
    "\n",
    "    print(\"Optimum at %s after %d iterations\" %\n",
    "          (terminal_repr(x), iterations))"
   ]
  },
  {
   "cell_type": "code",
   "execution_count": 91,
   "metadata": {
    "slideshow": {
     "slide_type": "subslide"
    }
   },
   "outputs": [
    {
     "name": "stdout",
     "output_type": "stream",
     "text": [
      "Initial value: '舨ᑆ\\uec4f\\ue27f羏\\uf314䖗繣厪킨' at fitness 2.9998\n",
      "Optimum at 'ጤ〆撟%e5匸㗵暠ᴌ' after 34356 iterations\n"
     ]
    }
   ],
   "source": [
    "randomized_hillclimb()"
   ]
  },
  {
   "cell_type": "markdown",
   "metadata": {
    "slideshow": {
     "slide_type": "subslide"
    }
   },
   "source": [
    "This algorithm usually finds the solution quicker than the standard hillclimber, although it is still rather slow! \n",
    "\n",
    "There is one subtle, but crucial, change between the hillclimber and the randomized version that is worth pointing out: Note the comparison `new_fitness <= fitness`, whereas in the hillclimber we used `new_fitness < fitness`. This is important because the search landscape may have areas with equal fitness values (plateaus) which we somehow need to overcome. In the standard hillcimber we did this with random restarts. If the randomized hillclimber would reject offspring with identical fitness, it would keep mutating the identical individual, and possibly struggle to escape the plateau. If we replace also with equal fitness, we allow the search to move around the plateau, increasing chances of escaping it eventually.\n"
   ]
  },
  {
   "cell_type": "markdown",
   "metadata": {
    "slideshow": {
     "slide_type": "subslide"
    }
   },
   "source": [
    "The randomized hillclimber is also known as *1+1 Evolutionary Algorithm* (*(1+1)EA*). An evolutionary algorithm is a meta-heuristic search algorithm that tries to mimic the natural processes of evolution. Natural evolution is based\n",
    "on populations where environmental pressure causes natural selection: Only the fittest survive, while those that are not fit enough will die, and thus the overall fitness of the population gradually improves. The (1+1)EA is a very specific evolutionary algorithm with a population size of 1, which produces exactly 1 offspring. However, the most common search algorithm in practice is a genetic algorithm."
   ]
  },
  {
   "cell_type": "markdown",
   "metadata": {
    "slideshow": {
     "slide_type": "subslide"
    }
   },
   "source": [
    "### Genetic Algorithms\n",
    "\n",
    "One of the best known evolutionary algorithms is the *Genetic Algorithm* (GA). A GA is based on the idea that problem solutions can be genetically encoded: A chromosome consists of a sequence of genes, where each gene encodes one trait of the individual (e.g., eye colour, hair colour, etc.). A fitness function can take the information contained in this description, the so called genotype, and evaluates the properties of the resulting phenotype, i.e., the actual solution represented by this genetic encoding. The fitness value of an individual is measured on the phenotype."
   ]
  },
  {
   "cell_type": "markdown",
   "metadata": {
    "slideshow": {
     "slide_type": "subslide"
    }
   },
   "source": [
    "For our `cgi_decode` example, we could consider individual characters to be the genes, and then a chromosome is a sequences of characters. In other words, the genetic encoding is exactly what we already used so far! However, for the GA the representation requires different operations than the enumeration of the neighbourhood."
   ]
  },
  {
   "cell_type": "markdown",
   "metadata": {
    "slideshow": {
     "slide_type": "subslide"
    }
   },
   "source": [
    "The GA emulates natural evolution with the following process:\n",
    "\n",
    "- Create an initial population of random chromosomes\n",
    "- Select fit individuals for reproduction\n",
    "- Generate new population through reproduction of selected individuals\n",
    "- Continue doing so until an optimal solution has been found, or some other limit has been reached.\n",
    "\n",
    "The first step, creating an initial population, is trivial:"
   ]
  },
  {
   "cell_type": "code",
   "execution_count": 92,
   "metadata": {
    "slideshow": {
     "slide_type": "fragment"
    }
   },
   "outputs": [],
   "source": [
    "def create_population(size):\n",
    "    return [random_unicode_string(10) for i in range(size)]"
   ]
  },
  {
   "cell_type": "code",
   "execution_count": 93,
   "metadata": {
    "slideshow": {
     "slide_type": "subslide"
    }
   },
   "outputs": [
    {
     "data": {
      "text/plain": [
       "['㛇莜戹豔㮝\\ue008力ᒐᱯꊎ',\n",
       " '\\ue295쁉陵ꯃ赖蟽⍬꺲緥㲱',\n",
       " '\\u2e77騬⊳铁땕\\uf189\\ue663쌯幆艆',\n",
       " '龚筓\\uf3a9욀놷䓒隯迌쀐∑',\n",
       " '쓛唁뗌蹽\\udcd5偏躝娒鸭赌',\n",
       " '蹤⪖ឺ웳ఫ䓻䤷溸ᰒﵘ',\n",
       " '㲒혋Ꮘ\\uea95\\udf7b䢶裕㖬눹庑',\n",
       " '\\u2d9d鼓咝笩窻ꨔ铺扄\\ueb57\\uf1bf',\n",
       " '\\udd26Ч甄ꃢ\\udcb0㼁튰㣋ช봼',\n",
       " '닇軬欴鞛㈓Ẫ住畿ꔪ칀']"
      ]
     },
     "execution_count": 93,
     "metadata": {},
     "output_type": "execute_result"
    }
   ],
   "source": [
    "create_population(10)"
   ]
  },
  {
   "cell_type": "markdown",
   "metadata": {
    "slideshow": {
     "slide_type": "subslide"
    }
   },
   "source": [
    "The selection process prefers fitter individuals, therefore we need to determine the fitness values for all the individuals in our population. As we are going to need the fitness value for each individual at several places in the algorithm, we are going to store it by making fitness a list of _tuples_, each tuple consisting of an individual and its fitness value."
   ]
  },
  {
   "cell_type": "code",
   "execution_count": 94,
   "metadata": {
    "slideshow": {
     "slide_type": "fragment"
    }
   },
   "outputs": [],
   "source": [
    "def evaluate_population(population):\n",
    "    fitness = [get_fitness(x) for x in population]\n",
    "    return list(zip(population, fitness))"
   ]
  },
  {
   "cell_type": "code",
   "execution_count": 95,
   "metadata": {
    "slideshow": {
     "slide_type": "fragment"
    }
   },
   "outputs": [],
   "source": [
    "population = create_population(10)"
   ]
  },
  {
   "cell_type": "code",
   "execution_count": 96,
   "metadata": {
    "slideshow": {
     "slide_type": "subslide"
    }
   },
   "outputs": [
    {
     "name": "stdout",
     "output_type": "stream",
     "text": [
      "'\\ue46fت팣㘇ธ漅ೇ↪䜭㎮': 2.9994\n",
      "'\\ua7e9\\ue9e0\\ue7de턤댪囿厠‐\\ue0c5ﴌ': 2.9999\n",
      "'䇯Ꜩ잣\\ua9ce㙦\\uf4aa歿蘸ཎ㫜': 2.9997\n",
      "'ⱳ콾哇\\uef1f\\uf6a8⾃䣖坤Ꮾ둰': 2.9998\n",
      "'າ伫螉\\ue110㝎겱괼䆵喞\\u18ac': 2.9997\n",
      "'ས婎쥤䇉韤\\udd06䕮춵磒露': 2.9997\n",
      "'辺緢噑粲\\uf400嚳寬\\x87ꐂ쑹': 2.9899\n",
      "'뉫㻑\\u1fd4㈖鬒樼\\u0dcc朏\\ue57eማ': 2.9997\n",
      "'얨㐁皭់멄\\ud97b\\ueac9㢂ቅ뮜': 2.9998\n",
      "'⒃⍜㈪㊷\\udbdb乑蓍\\udc48鱲뻜': 2.9999\n"
     ]
    }
   ],
   "source": [
    "for (individual, fitness) in evaluate_population(population):\n",
    "    print(\"%s: %.4f\" % (terminal_repr(individual), fitness))"
   ]
  },
  {
   "cell_type": "markdown",
   "metadata": {
    "slideshow": {
     "slide_type": "subslide"
    }
   },
   "source": [
    "The use of a fitness value in the search is typically explained using \"survival of the fittest\", but one of Darwin’s key insights on evolution was that selection is not only defined by survival -- individuals reproduce sexually, and sexual selection describes the selection pressure during reproduction. This selection is typically influenced by either combat: rivalling males fighting over a female, and the stronger (fitter) male wins; the selection is also influenced by display. Darwin’s example for this is the peacock: The peacock has long, beautiful tail feathers that appear to serve no purpose, and do not seem to support the concept of natural selection. However, peahens are influenced in their selection of a sexual partner by his appearance. Impressive ornaments suggest that a male is genetically particularly healthy and will lead to healthy offspring. This is reflected in a GA: The better the fitness value an individual, the more likely it is to mate with another individual. A simple selection algorithm that reflects this concept is *tournament selection*: A small number of randomly chosen individual compete to be selected, and the best is selected:"
   ]
  },
  {
   "cell_type": "code",
   "execution_count": 97,
   "metadata": {
    "slideshow": {
     "slide_type": "subslide"
    }
   },
   "outputs": [],
   "source": [
    "def selection(evaluated_population, tournament_size):\n",
    "    competition = random.sample(evaluated_population, tournament_size)\n",
    "    winner = min(competition, key=lambda individual: individual[1])[0]\n",
    "\n",
    "    # Return a copy of the selected individual\n",
    "    return winner[:]"
   ]
  },
  {
   "cell_type": "markdown",
   "metadata": {
    "slideshow": {
     "slide_type": "subslide"
    }
   },
   "source": [
    "The `tournament_size` parameter specifies how many randomly selected individuals out of the population participate in the tournament. This is an important choice as it determines *selective pressure*: The larger the tournament size, the larger the probability of very good individuals being included in the tournament. This, in turn, increases the probability of these very good individuals of dominating the next generation, thus reducing the diversity and leading to premature convergence. In contrast, if the tournament size is too small, then this inhibits evolution. The best value for the tournament size depends on the population size, but usually it is fairly small (e.g. 5). Let's run a tournament using all individuals of an example population to see that the best one is selected:"
   ]
  },
  {
   "cell_type": "code",
   "execution_count": 98,
   "metadata": {
    "slideshow": {
     "slide_type": "fragment"
    }
   },
   "outputs": [],
   "source": [
    "population = create_population(10)\n",
    "fitness = evaluate_population(population)\n",
    "selected = selection(fitness, 10)"
   ]
  },
  {
   "cell_type": "code",
   "execution_count": 99,
   "metadata": {
    "slideshow": {
     "slide_type": "subslide"
    }
   },
   "outputs": [
    {
     "name": "stdout",
     "output_type": "stream",
     "text": [
      "'둚䘣蹸붢騒ꋎỺ觉\\ued2a焊': 2.9999\n",
      "'닔㶐ꡡ\\udca4贕굇᳆\\ueccd윘赉': 2.9999\n",
      "'笁깉ရ豴\\uea60ᛰ滒鶵）Ⰴ': 2.9998\n",
      "'㠒㵄\\ue14cᤃᇚ\\udebe\\uf851쿛鏆闊': 2.9998\n",
      "'ࠝ\\udd53ᶂ㮍訬廘랦铘뫘출': 2.9995\n",
      "'ꡩၔ玤姨乪药汏䗫汔悔': 2.9998\n",
      "'\\uef2a潦ﳠ鹉卼㴐Ṭ\\uf4b0˅얓': 2.9985\n",
      "'❱\\u0ff7╇塐䲫琭煸ᮤឋ퇃': 2.9998\n",
      "'ڮ焈㱉煉ꅿᦗ툍혐خ꧓': 2.9994\n",
      "'ἂጋ\\uddcc\\ue3d7粖\\ude2c⮌鮓讃\\ueab6': 2.9998\n"
     ]
    }
   ],
   "source": [
    "for (individual, fitness_value) in fitness:\n",
    "    print(\"%s: %.4f\" % (terminal_repr(individual), fitness_value))"
   ]
  },
  {
   "cell_type": "code",
   "execution_count": 100,
   "metadata": {
    "slideshow": {
     "slide_type": "subslide"
    }
   },
   "outputs": [
    {
     "name": "stdout",
     "output_type": "stream",
     "text": [
      "Winner: '\\uef2a潦ﳠ鹉卼㴐Ṭ\\uf4b0˅얓'\n"
     ]
    }
   ],
   "source": [
    "print(\"Winner: %s\" % terminal_repr(selected))"
   ]
  },
  {
   "cell_type": "markdown",
   "metadata": {
    "slideshow": {
     "slide_type": "fragment"
    }
   },
   "source": [
    "Like in natural evolution, the individuals selected based on their fitness reproduce, to form a new generation. During this reproduction, like in natural reproduction, genetic material of the selected parents is combined. This is typically done by a process known as *crossover*, where an offspring chromosome is produced from the genes of its parents. In our case, a chromosome is a sequence of characters, and crossing over two parent sequences of characters can simply be done by chosing a cutoff random point, and creating offspring by combining the halves of the parents chromosomes based on the cutoff point."
   ]
  },
  {
   "cell_type": "code",
   "execution_count": 101,
   "metadata": {
    "slideshow": {
     "slide_type": "subslide"
    }
   },
   "outputs": [],
   "source": [
    "def crossover(parent1, parent2):\n",
    "    pos = random.randint(1, len(parent1))\n",
    "\n",
    "    offspring1 = parent1[:pos] + parent2[pos:]\n",
    "    offspring2 = parent2[:pos] + parent1[pos:]\n",
    "\n",
    "    return (offspring1, offspring2)"
   ]
  },
  {
   "cell_type": "code",
   "execution_count": 102,
   "metadata": {
    "slideshow": {
     "slide_type": "fragment"
    }
   },
   "outputs": [
    {
     "data": {
      "text/plain": [
       "('Hello W Book', 'Goodbyeorld')"
      ]
     },
     "execution_count": 102,
     "metadata": {},
     "output_type": "execute_result"
    }
   ],
   "source": [
    "parent1 = \"Hello World\"\n",
    "parent2 = \"Goodbye Book\"\n",
    "\n",
    "crossover(parent1, parent2)"
   ]
  },
  {
   "cell_type": "markdown",
   "metadata": {
    "slideshow": {
     "slide_type": "subslide"
    }
   },
   "source": [
    "A further essential ingredient of genetic evolution is the concept of mutation: Sometimes, offspring contain small changes in their genes, which represent new genetic material and new physiological traits. If the mutation introduced new genetic material that represents useful traits leading to better fitness values, then this genetic material will survive. If the mutation introduced useless genetic material, then the resulting individuals will likely have bad fitness values and die off quickly.\n",
    "\n",
    "An important aspect is that both, mutation and crossover, are probabilistic actions. They do not always happen, and their effects are different every time they do happen. For a sequence genetic encoding, a common approach is to first use a probability to decide whether to apply mutation, and then to select one gene and change it a bit. Alternatively, we can probabilistically mutate genes such that on average one is changed. We do this by calculating a probability `P` of each gene being mutated as 1/(number of genes). Then, if a gene is mutated, we don't just replace it by a random character, but make it more likely that there is only a small change. This is achieved by sampling from a Gaussian distribution with the current value as the mean. We arbitrarily use a standard deviation of 100 to make small changes more likely than large changes."
   ]
  },
  {
   "cell_type": "code",
   "execution_count": 103,
   "metadata": {
    "slideshow": {
     "slide_type": "subslide"
    }
   },
   "outputs": [],
   "source": [
    "def mutate(chromosome):\n",
    "    mutated = chromosome[:]\n",
    "    P = 1.0 / len(mutated)\n",
    "\n",
    "    for pos in range(len(mutated)):\n",
    "        if random.random() < P:\n",
    "            new_c = chr(int(random.gauss(ord(mutated[pos]), 100) % 65536))\n",
    "            mutated = mutated[:pos] + new_c + mutated[pos + 1:]\n",
    "    return mutated"
   ]
  },
  {
   "cell_type": "markdown",
   "metadata": {
    "slideshow": {
     "slide_type": "fragment"
    }
   },
   "source": [
    "Now at last we have all the ingredients to build the full algorithm:"
   ]
  },
  {
   "cell_type": "code",
   "execution_count": 104,
   "metadata": {
    "slideshow": {
     "slide_type": "subslide"
    }
   },
   "outputs": [],
   "source": [
    "def genetic_algorithm():\n",
    "    # Generate and evaluate initial population\n",
    "    generation = 0\n",
    "    population = create_population(100)\n",
    "    fitness = evaluate_population(population)\n",
    "    best = min(fitness, key=lambda item: item[1])\n",
    "    best_individual = best[0]\n",
    "    best_fitness = best[1]\n",
    "    print(\"Best fitness of initial population: %s - %.10f\" %\n",
    "        (terminal_repr(best_individual), best_fitness))\n",
    "\n",
    "    # Stop when optimum found, or we run out of patience\n",
    "    while best_fitness > 0 and generation < 1000:\n",
    "\n",
    "        # The next generation will have the same size as the current one\n",
    "        new_population = []\n",
    "        while len(new_population) < len(population):\n",
    "            # Selection\n",
    "            offspring1 = selection(fitness, 10)\n",
    "            offspring2 = selection(fitness, 10)\n",
    "\n",
    "            # Crossover\n",
    "            if random.random() < 0.7:\n",
    "                (offspring1, offspring2) = crossover(offspring1, offspring2)\n",
    "\n",
    "            # Mutation\n",
    "            offspring1 = mutate(offspring1)\n",
    "            offspring2 = mutate(offspring2)\n",
    "\n",
    "            new_population.append(offspring1)\n",
    "            new_population.append(offspring2)\n",
    "\n",
    "        # Once full, the new population replaces the old one\n",
    "        generation += 1\n",
    "        population = new_population\n",
    "        fitness = evaluate_population(population)\n",
    "\n",
    "        best = min(fitness, key=lambda item: item[1])\n",
    "        best_individual = best[0]\n",
    "        best_fitness = best[1]\n",
    "        print(\n",
    "            \"Best fitness at generation %d: %s - %.8f\" %\n",
    "            (generation, terminal_repr(best_individual), best_fitness))\n",
    "\n",
    "    print(\n",
    "        \"Best individual: %s, fitness %.10f\" %\n",
    "        (terminal_repr(best_individual), best_fitness))"
   ]
  },
  {
   "cell_type": "markdown",
   "metadata": {
    "slideshow": {
     "slide_type": "subslide"
    }
   },
   "source": [
    "Let's see how this works on our unicode example."
   ]
  },
  {
   "cell_type": "code",
   "execution_count": 105,
   "metadata": {
    "slideshow": {
     "slide_type": "subslide"
    }
   },
   "outputs": [
    {
     "name": "stdout",
     "output_type": "stream",
     "text": [
      "Best fitness of initial population: '俴\\x8a辰燄펧䬍缯檒㤢⦡' - 2.9901960784\n",
      "Best fitness at generation 1: 'ཬə쫯ὼ酟剺鬈{Ż\\ue313' - 2.98850575\n",
      "Best fitness at generation 2: '俴\\x82辰燄酟剺鬢\\x1bŻ\\ue313' - 2.90909091\n",
      "Best fitness at generation 3: 'ྂɵ쫕ὼ酟剺鬈%Ŧ\\ue384' - 1.99610895\n",
      "Best fitness at generation 4: 'ྂɵ쬆ὼ酟剺鬈%ŋ\\ue384' - 1.99565217\n",
      "Best fitness at generation 5: '俴ʐ쫕ἶ酟剺髺%¼\\ue384' - 1.98850575\n",
      "Best fitness at generation 6: 'ྂɵ쫪ὼ酟剒鬈%\\x9e\\ue37f' - 1.98245614\n",
      "Best fitness at generation 7: '俴̗쪕ἶ酟剺髱%4\\ue378' - 0.99998280\n",
      "Best fitness at generation 8: '侪\\x86쪕ἶ酟剺髱%4\\ue378' - 0.99998280\n",
      "Best fitness at generation 9: '俆ǫ쪸ἶ醿剺髱%4\\ue2b5' - 0.99998274\n",
      "Best fitness at generation 10: '俆ǫ쪸ἶ釘剺髧%4\\ue2b5' - 0.99998274\n",
      "Best fitness at generation 11: '俆ɫ쫕Ồ酟剺髱%4\\ue256' - 0.99998271\n",
      "Best fitness at generation 12: '侪\\x86쪕ἶ醿剺髱%4\\ue1f9' - 0.99998268\n",
      "Best fitness at generation 13: '侪ï쪕ἶ醿剺髱%4\\ue1f9' - 0.99998268\n",
      "Best fitness at generation 14: '俆\\x86쪕ἶ醿剺髱%4\\ue1f9' - 0.99998268\n",
      "Best fitness at generation 15: '俆Ǩ쪸ἂ醿剺髱%4\\ue150' - 0.99998263\n",
      "Best fitness at generation 16: '俴ʓ쫕ớ鄞务髱%e\\ue0f0' - 0.99998260\n",
      "Best fitness at generation 17: '侪ï쪵ớ酟刖髱%F\\ue0a9' - 0.99998258\n",
      "Best fitness at generation 18: '佺ģ쪵ớ鄞劐髱%e\\ue05c' - 0.99998256\n",
      "Best fitness at generation 19: '侪ï쪵ớ酟刖髱%e\\ue05c' - 0.99998256\n",
      "Best fitness at generation 20: '侪ï쪵ί酃劐髝%e\\ue00c' - 0.99998253\n",
      "Best fitness at generation 21: '侪ï쪵ί酊劐髝%e\\ue00c' - 0.99998253\n",
      "Best fitness at generation 22: '侪ï쪵ᾉ酟刖髱%F\\udf82' - 0.99998249\n",
      "Best fitness at generation 23: '位ï쫎ớ酟刖髱%e\\udf2c' - 0.99998247\n",
      "Best fitness at generation 24: '侪Ƣ쫎ớ鄾劐髱%e\\uded9' - 0.99998244\n",
      "Best fitness at generation 25: '侪Ƣ쫎ễ鄾劐髱%e\\uded9' - 0.99998244\n",
      "Best fitness at generation 26: '俿Ƣ쫎ớ醀剒髱%e\\udea1' - 0.99998242\n",
      "Best fitness at generation 27: '位ï쫎ớ鄟刖髱%e\\ude5e' - 0.99998240\n",
      "Best fitness at generation 28: '佫ï쫎ớ鄟刖髱%e\\ude10' - 0.99998238\n",
      "Best fitness at generation 29: '佫ï쫎ớ鄟刖髱%e\\uddd7' - 0.99998236\n",
      "Best fitness at generation 30: '偶Ƣ쫎ṉ鄟刖髱%e\\udd35' - 0.99998231\n",
      "Best fitness at generation 31: '佫ï쫎ử鄟刖髱%e\\udd35' - 0.99998231\n",
      "Best fitness at generation 32: '傑Ŷ쫎ṉ鄟剬髱%e\\udcca' - 0.99998228\n",
      "Best fitness at generation 33: '佫ı쫎ṉ鄟刖髱%e\\udcbc' - 0.99998227\n",
      "Best fitness at generation 34: '佫ś쫎ớ鄟刖骽%e\\udc2e' - 0.99998223\n",
      "Best fitness at generation 35: '佫ś쫎ớ鄟刖骽%e\\udbf5' - 0.99998221\n",
      "Best fitness at generation 36: '佫ı쫎ớ鄟刖骽%e\\udbb6' - 0.99998219\n",
      "Best fitness at generation 37: '佫ś쫎ớ鄟劃骽%e\\udb8f' - 0.99998218\n",
      "Best fitness at generation 38: '佫ś쫒ớ鄃刖骽%e\\uda95' - 0.99998210\n",
      "Best fitness at generation 39: '佫ţ쫎ớ鄃刖骽%e\\uda4f' - 0.99998207\n",
      "Best fitness at generation 40: '佫\\x8d쫎Ἇ鄃勢骽%e\\uda4f' - 0.99998207\n",
      "Best fitness at generation 41: '佫ś쫎ớ鄟刖骽%e\\ud96c' - 0.99998200\n",
      "Best fitness at generation 42: '佫ś쫎ớ鄟刖骽%e\\ud96c' - 0.99998200\n",
      "Best fitness at generation 43: '仢Ũ쩻Ỉ鄃刖魞%e\\ud90d' - 0.99998197\n",
      "Best fitness at generation 44: '仢Ũ쫎Ỉ鄃刖骽%e\\ud88c' - 0.99998193\n",
      "Best fitness at generation 45: '仢Ũ쫎Ỉ鄃冴骽%e\\ud88c' - 0.99998193\n",
      "Best fitness at generation 46: '仢Ũ쨽Ỉ鄃刖體%e힝' - 0.99998185\n",
      "Best fitness at generation 47: '伆Ũ쫎Ỉ鄮刖體%e힝' - 0.99998185\n",
      "Best fitness at generation 48: '伆Ƶ쫎Ỉ鄮劌體%e휵' - 0.99998182\n",
      "Best fitness at generation 49: '伆Ƶ쫎Ỉ鄳劌體%e휵' - 0.99998182\n",
      "Best fitness at generation 50: '伆Ƶ쫎Ỉ鄮劌體%e횵' - 0.99998177\n",
      "Best fitness at generation 51: '伆Ƶ쫎Ỉ酾刖體%e화' - 0.99998174\n",
      "Best fitness at generation 52: '份Ƶ쫎Ỉ酾刖體%e화' - 0.99998174\n",
      "Best fitness at generation 53: '仓Ƶ쫎Ỉ酾刖體%e햀' - 0.99998167\n",
      "Best fitness at generation 54: '仓Ƶ쪍Ỉ酾刖鬿%e햀' - 0.99998167\n",
      "Best fitness at generation 55: '佚ǜ쫎Ỉ酾刖體%e퓺' - 0.99998162\n",
      "Best fitness at generation 56: '伆Ƶ쫎Ỉ酾刖體%e풲' - 0.99998160\n",
      "Best fitness at generation 57: '伆Ś쫎Ỉ酾刖體%e푐' - 0.99998157\n",
      "Best fitness at generation 58: '伆ĉ쩳Ỉ酾勊鯝%e퐼' - 0.99998156\n",
      "Best fitness at generation 59: '仵Ƶ쫎ṵ酾刖驫%e퐎' - 0.99998154\n",
      "Best fitness at generation 60: '伆Ś쩗Ỉ酡刖體%e폑' - 0.99998152\n",
      "Best fitness at generation 61: '伆Ś쩗Ỉ酡刖體%e퍔' - 0.99998148\n",
      "Best fitness at generation 62: '伆Ś쩂Ỉ醲刖驨%e팓' - 0.99998146\n",
      "Best fitness at generation 63: '伆ȇ쩗Ỉ酡刖體%e틊' - 0.99998143\n",
      "Best fitness at generation 64: '伆Ś쩂ὰ鉷刖驨%e틂' - 0.99998143\n",
      "Best fitness at generation 65: '伆Ż쩂Ỉ醲刖驨%e툉' - 0.99998137\n",
      "Best fitness at generation 66: '伯Ś쪸Ỉ酡刖體%e턟' - 0.99998129\n",
      "Best fitness at generation 67: '伆Ś쩂ὰ鉷刖體%e턟' - 0.99998129\n",
      "Best fitness at generation 68: '仿Ś쪸ṷ酡刖體%e탃' - 0.99998125\n",
      "Best fitness at generation 69: '丙\\x99쪸ṷ酲刖體%e탃' - 0.99998125\n",
      "Best fitness at generation 70: '伓ż쩓ỳ酡刖體%e퀤' - 0.99998120\n",
      "Best fitness at generation 71: '仗Ś쪸Ỉ酡兦驸%e퀤' - 0.99998120\n",
      "Best fitness at generation 72: '伓ż쫝ὂ酲刖體%e쿫' - 0.99998118\n",
      "Best fitness at generation 73: '仵¶쪲Ỉ釐刖體%e쾶' - 0.99998116\n",
      "Best fitness at generation 74: '么\\x99쪸ṷ酲刖體%e켵' - 0.99998111\n",
      "Best fitness at generation 75: '佔Ę쩓ỳ酡刖體%e컲' - 0.99998109\n",
      "Best fitness at generation 76: '伆ŗ쩓Ἓ酲刖體%e췘' - 0.99998099\n",
      "Best fitness at generation 77: '伆ŗ쩓Ễ酲刽體%e췘' - 0.99998099\n",
      "Best fitness at generation 78: '伆ŗ쩓ὼ酲刖體%e쳿' - 0.99998091\n",
      "Best fitness at generation 79: '仓ż쩓ἧ酲刽體%e쳿' - 0.99998091\n",
      "Best fitness at generation 80: '仵ż쨿ἅ酲刖體%e챟' - 0.99998085\n",
      "Best fitness at generation 81: '仵ż쨿ἅ酲刖體%e쯴' - 0.99998081\n",
      "Best fitness at generation 82: '仵ż쨿ἅ酲刖體%e쮹' - 0.99998079\n",
      "Best fitness at generation 83: '仵ż쨿ἅ酲刖體%e쬷' - 0.99998074\n",
      "Best fitness at generation 84: '仵ż쨿ἅ酲刖體%e쬝' - 0.99998073\n",
      "Best fitness at generation 85: '仵ż쪕ἅ酲刻體%e쫗' - 0.99998070\n",
      "Best fitness at generation 86: '仵ż쪕ἅ酲净體%e쫗' - 0.99998070\n",
      "Best fitness at generation 87: '仵Ɖ쩅ἅ酲刖體%e쨷' - 0.99998064\n",
      "Best fitness at generation 88: '仵Ɖ짴ἅ酲刖體%e짪' - 0.99998062\n",
      "Best fitness at generation 89: '仵Ɖ짴ἅ鋆刖體%e짪' - 0.99998062\n",
      "Best fitness at generation 90: '仵Ɖ짴ἅ鋆刖體%e쥅' - 0.99998055\n",
      "Best fitness at generation 91: '仵Ɖ짴ἅ鋆刖體%e쥅' - 0.99998055\n",
      "Best fitness at generation 92: '仪Ɯ쩢ᾊ釈刖魜%e줃' - 0.99998053\n",
      "Best fitness at generation 93: '仵ż쩢ᾈ鋆刖體%e죬' - 0.99998052\n",
      "Best fitness at generation 94: '仵ż쩢\\u1fb5鋆刖體%e죂' - 0.99998050\n",
      "Best fitness at generation 95: '余Ɖ짴ἅ鋆刖體%e좡' - 0.99998049\n",
      "Best fitness at generation 96: '便Ɖ짴ả鋆刖體%e졖' - 0.99998046\n",
      "Best fitness at generation 97: '余Ɖ짬ἅ錥刖體%e적' - 0.99998043\n",
      "Best fitness at generation 98: '仨ż쩢\\u1fb5鉑劌驞%e쟣' - 0.99998042\n",
      "Best fitness at generation 99: '余ĝ짴ἅ鋍刖鬾%e윯' - 0.99998035\n",
      "Best fitness at generation 100: '䵖ù즸Ở鋆刖鬃%e왘' - 0.99998027\n",
      "Best fitness at generation 101: '䵖ù즸Ở鋆刖鬃%e왘' - 0.99998027\n",
      "Best fitness at generation 102: '仚ż즹ᾥ鋛刖鬾%e옣' - 0.99998025\n",
      "Best fitness at generation 103: '乴ż즸Ở鋲刖骥%e얱' - 0.99998020\n",
      "Best fitness at generation 104: '伒ĝ짴ἅ銻刖鬃%e얱' - 0.99998020\n",
      "Best fitness at generation 105: '䵖Ę즸ẫ鋆刖鬾%e씣' - 0.99998015\n",
      "Best fitness at generation 106: '仚ż즸Ở鋲刖鬮%e쒔' - 0.99998009\n",
      "Best fitness at generation 107: '䵖Ę쥶ẫ鋆刖鬾%e쐂' - 0.99998003\n",
      "Best fitness at generation 108: '䴖ż쥻Ở鋲刖鬮%e쏡' - 0.99998002\n",
      "Best fitness at generation 109: '乴ż죁ẍ釱刖骊%e쎩' - 0.99998000\n",
      "Best fitness at generation 110: '乴ż쥻Ở鋲剌骥%e썒' - 0.99997996\n",
      "Best fitness at generation 111: '代ż즸ḑ鋲兴骪%e싙' - 0.99997991\n",
      "Best fitness at generation 112: '代ż즸Ở鋲剌骪%e쉳' - 0.99997987\n",
      "Best fitness at generation 113: '伱ż즸Ở鋲凞骪%e숀' - 0.99997982\n",
      "Best fitness at generation 114: '代ż즸\\u1f17鋲剌骪%e솷' - 0.99997979\n",
      "Best fitness at generation 115: '代ż즸\\u1f17鋲剌骪%e솷' - 0.99997979\n",
      "Best fitness at generation 116: '伔ż쨄\\u1f17鋲剌骪%e셈' - 0.99997975\n",
      "Best fitness at generation 117: '伔Ɯ쨄\\u1f17鋲剌骪%e샃' - 0.99997969\n",
      "Best fitness at generation 118: '代ż즸\\u1f17鋲剌骁%e샃' - 0.99997969\n",
      "Best fitness at generation 119: '代ż쨄\\u1f17鋲剌鬛%e삘' - 0.99997968\n",
      "Best fitness at generation 120: '仝ż쨄\\u1f17錡剌骪%e쁍' - 0.99997965\n",
      "Best fitness at generation 121: '从ż쨄\\u1f17鋲剌骪%e쀒' - 0.99997962\n",
      "Best fitness at generation 122: '从ż쨣\\u1f17鋲剌骪%e쀒' - 0.99997962\n",
      "Best fitness at generation 123: '侔ż쨄\\u1f17鋲剌髙%e뽱' - 0.99997955\n",
      "Best fitness at generation 124: '代Ɯ쨄ῥ鋲剌髙%e뽱' - 0.99997955\n",
      "Best fitness at generation 125: '任ż쨄\\u1f17鋲剌髙%e뻷' - 0.99997950\n",
      "Best fitness at generation 126: '任Ɯ즂Ἓ鋲剌髙%e뻫' - 0.99997950\n",
      "Best fitness at generation 127: '任Ɯ즂Ἓ鋲剌髙%e뺒' - 0.99997946\n",
      "Best fitness at generation 128: '亴ż즸\\u1f17錳出髙%e뺒' - 0.99997946\n",
      "Best fitness at generation 129: '代Ŷ쨄ῥ鋲刓髙%e븙' - 0.99997941\n",
      "Best fitness at generation 130: '亿Ŷ쨄ῥ鋲刓髙%e븄' - 0.99997940\n",
      "Best fitness at generation 131: '代\\x92쩸ῥ鋲刓髙%e뵢' - 0.99997933\n",
      "Best fitness at generation 132: '亿Ŷ짝ᾇ鋲刓髙%e볊' - 0.99997927\n",
      "Best fitness at generation 133: '任ȸ집Ἓ鋲刓髙%e볊' - 0.99997927\n",
      "Best fitness at generation 134: '们ŀ쫁ῥ鋲刓髙%e벟' - 0.99997925\n",
      "Best fitness at generation 135: '任Ʒ집ὖ釻刓髙%e뮿' - 0.99997915\n",
      "Best fitness at generation 136: '亿ĵ짝ᾇ鋲刓魴%e뮓' - 0.99997913\n",
      "Best fitness at generation 137: '亿ĵ짝ὸ鋲冎魴%e묍' - 0.99997907\n",
      "Best fitness at generation 138: '仈\\x92쩸ῥ鍘刓鬻%e뫃' - 0.99997904\n",
      "Best fitness at generation 139: '仈\\x92쩸ῥ鍘刓鬻%e몴' - 0.99997903\n",
      "Best fitness at generation 140: '仈\\x92쩸ῥ鍘刓鬻%e몴' - 0.99997903\n",
      "Best fitness at generation 141: '並Ʒ집ῥ鍘刓鬻%e먋' - 0.99997896\n",
      "Best fitness at generation 142: '仈\\x92집ῥ鍘刓魲%e먋' - 0.99997896\n",
      "Best fitness at generation 143: '亿Ś집ῥ鍘刓鬙%e맋' - 0.99997893\n",
      "Best fitness at generation 144: '亿ĵ짝ồ鋉刓髍%e륬' - 0.99997889\n",
      "Best fitness at generation 145: '亿¦짝ồ鍘刓鬙%e룙' - 0.99997882\n",
      "Best fitness at generation 146: '亿¦쨦ồ鍘刓鬙%e룙' - 0.99997882\n",
      "Best fitness at generation 147: '亿Ś집ῥ鋉刓鬙%e렫' - 0.99997874\n",
      "Best fitness at generation 148: '亿»즺ồ鍘刓鬙%e렁' - 0.99997873\n",
      "Best fitness at generation 149: '仝ŏ즺ồ鍘刓鬽%e럫' - 0.99997872\n",
      "Best fitness at generation 150: '亠ð쥭ồ鍘刓鮩%e랦' - 0.99997868\n",
      "Best fitness at generation 151: '仝ŏ즺ồ鎽刓鬽%e띯' - 0.99997866\n",
      "Best fitness at generation 152: '亠Ý쥭ὧ錩刊鯖%e뜖' - 0.99997862\n",
      "Best fitness at generation 153: '仝ħ죩Ộ錩券鯖%e뜖' - 0.99997862\n",
      "Best fitness at generation 154: '亠Ø쥭ᾀ錩刊鯖%e뛐' - 0.99997859\n",
      "Best fitness at generation 155: '仉ŏ즺ồ鎽刓魁%e뙰' - 0.99997854\n",
      "Best fitness at generation 156: '亠Ē쥭Ὑ鍘刊鮘%e똫' - 0.99997851\n",
      "Best fitness at generation 157: '亠Ē쥭ᾟ鍤刊鯉%e떏' - 0.99997844\n",
      "Best fitness at generation 158: '仙ŏ쥭ᾟ鍤刊鯉%e떏' - 0.99997844\n",
      "Best fitness at generation 159: '亠Ē쥭ᾟ鍤刊鯉%e듮' - 0.99997836\n",
      "Best fitness at generation 160: '仉ŏ쥭Ὑ鍤刊鯉%e듮' - 0.99997836\n",
      "Best fitness at generation 161: '亠Ē쥭ᾟ鍤刊鯉%e뒺' - 0.99997834\n",
      "Best fitness at generation 162: '交ŏ쥭Ὑ鍤刊鯉%e됿' - 0.99997828\n",
      "Best fitness at generation 163: '习è쥭Ὑ鍤刊鯉%e돽' - 0.99997825\n",
      "Best fitness at generation 164: '习è쥭Ẵ鍤刊鯒%e돽' - 0.99997825\n",
      "Best fitness at generation 165: '佘â쥭ᾟ鍤刊鯉%e뎻' - 0.99997822\n",
      "Best fitness at generation 166: '他Ē즖Ὑ鍤刊鮴%e뎸' - 0.99997822\n",
      "Best fitness at generation 167: '伻\\ufff3죬ᾟ鍤刊鯉%e덅' - 0.99997816\n",
      "Best fitness at generation 168: '仯Ē쥭ᾟ鍤刊鯺%e댁' - 0.99997813\n",
      "Best fitness at generation 169: '伻\\ufff3죬ᾈ鍤刊鯉%e늕' - 0.99997808\n",
      "Best fitness at generation 170: '习©쥊ᾟ鍁刊鯺%e늕' - 0.99997808\n",
      "Best fitness at generation 171: '佉ﾇ쥓\\u1f16鍤刊鯴%d뉕' - 0.99997805\n",
      "Best fitness at generation 172: '佞å짂\\u2000鋊刊鯉%e뇚' - 0.99997799\n",
      "Best fitness at generation 173: '仫\\ufff3죔ᾈ鍤刊鯴%d놑' - 0.99997795\n",
      "Best fitness at generation 174: '仫ċ쫘\\u2000鋊刊鯉%d넯' - 0.99997790\n",
      "Best fitness at generation 175: '仫\\ufff3죔ᾈ鍤刊鯴%d낾' - 0.99997785\n",
      "Best fitness at generation 176: '仫M쫘\\u2000鋊刊鯴%d나' - 0.99997783\n",
      "Best fitness at generation 177: '仫\\ufff3죔ᾈ錕刊鯴%d뀊' - 0.99997776\n",
      "Best fitness at generation 178: '仫ﾦ죔ᾈ錃刊鱕%d뀄' - 0.99997776\n",
      "Best fitness at generation 179: '仫ﾊ쫘\\u2000鋊刊鯴%d꼵' - 0.99997765\n",
      "Best fitness at generation 180: '佶ﾊ쫘\\u2000鋊刊鯴%d꼵' - 0.99997765\n",
      "Best fitness at generation 181: '仫ﾉ죔ᾈ錃刊鱙%d꺻' - 0.99997759\n",
      "Best fitness at generation 182: '仼\\ufff3죔\\u200f鍂冶鯴%d꺈' - 0.99997757\n",
      "Best fitness at generation 183: '仫ﾉ죔ᾈ鋢刊鱙%d깗' - 0.99997754\n",
      "Best fitness at generation 184: '仫\\ufff3죔\\u200f鍂冶鯴%d근' - 0.99997750\n",
      "Best fitness at generation 185: '仫ﾉ줕\\u1fb5錃刊鵝%d굨' - 0.99997742\n",
      "Best fitness at generation 186: '丙ﾉ죔Ἰ鋢刊鱙%d괥' - 0.99997739\n",
      "Best fitness at generation 187: '仫ﾉ좭ᾈ鋢刊鱙%d괄' - 0.99997737\n",
      "Best fitness at generation 188: '丙ﾉ죔ḿ鋌刊鱙%d곺' - 0.99997737\n",
      "Best fitness at generation 189: '乐 줕\\u2068鋯刊鳽%d갷' - 0.99997727\n",
      "Best fitness at generation 190: '伤ﾉ좖―鋢刊鲹%dꯦ' - 0.99997722\n",
      "Best fitness at generation 191: '代ﾉ좖―鋢兽鲹%dꯦ' - 0.99997722\n",
      "Best fitness at generation 192: '伤ﾉ쟶―鋢刊鳑%dꮚ' - 0.99997718\n",
      "Best fitness at generation 193: '代ﾉ젮ὡ鍝刊鵝%dꭒ' - 0.99997715\n",
      "Best fitness at generation 194: '仗ﾉ죋―銢兽鵝%d\\uaad2' - 0.99997708\n",
      "Best fitness at generation 195: '仫ｭ좭᾿鋢入鵝%dꩯ' - 0.99997703\n",
      "Best fitness at generation 196: '代ﾉ줣᾿鋢入鵝%dꩯ' - 0.99997703\n",
      "Best fitness at generation 197: '仗ﾉ졼―銢兽鵝%dꦚ' - 0.99997691\n",
      "Best fitness at generation 198: '仫ﾉ졼―銢兽鵝%dꦚ' - 0.99997691\n",
      "Best fitness at generation 199: '仫ﾉ졼―銢兘鵝%dꥦ' - 0.99997689\n",
      "Best fitness at generation 200: '代￩죋―銢兽鵝%d꣰' - 0.99997682\n",
      "Best fitness at generation 201: '侃ｭ쟶―銢兽鶸%d꡷' - 0.99997676\n",
      "Best fitness at generation 202: '侃ｭ쟶―銢兽鶸%d꡷' - 0.99997676\n",
      "Best fitness at generation 203: '侃ｭ쟶―釦兽鶸%dꟿ' - 0.99997669\n",
      "Best fitness at generation 204: '侃ｭ젆―銢兽鶸%dꟿ' - 0.99997669\n",
      "Best fitness at generation 205: '俞ｭ쟶―銢儖鴽%dꞏ' - 0.99997663\n",
      "Best fitness at generation 206: '佼ￃ쟶―銢兽鳫%dꝢ' - 0.99997661\n",
      "Best fitness at generation 207: '伱ｭ쟌―銢兽鶑%d꛵' - 0.99997655\n",
      "Best fitness at generation 208: '侰ｭ쟶―銾儖鴝%dꗫ' - 0.99997640\n",
      "Best fitness at generation 209: '什ｭ쟌―銢儖鴝%dꗫ' - 0.99997640\n",
      "Best fitness at generation 210: '佼￪쟶―銢儖鴝%dꔞ' - 0.99997629\n",
      "Best fitness at generation 211: '佼￪잶―銢儖鴝%dꑻ' - 0.99997619\n",
      "Best fitness at generation 212: '佼￪잶―銢儖鴝%dꑻ' - 0.99997619\n",
      "Best fitness at generation 213: '佫ｭ읻―銾儖鴝%2ꐼ' - 0.99997616\n",
      "Best fitness at generation 214: '佼ﾃ잶‗銢儖鴝%dꐒ' - 0.99997613\n",
      "Best fitness at generation 215: '佼ﾃ잶‗銢儖鴝%dꐒ' - 0.99997613\n",
      "Best fitness at generation 216: '佹ｭ읂‗銢儖鴝%dꎼ' - 0.99997609\n",
      "Best fitness at generation 217: '佫￪잡―鉲儖鴝%dꎼ' - 0.99997609\n",
      "Best fitness at generation 218: '佼ﾠ잶‗銢儖鴝%dꌋ' - 0.99997598\n",
      "Best fitness at generation 219: '俪ﾃ웢⃖銢儖鶅%dꋢ' - 0.99997596\n",
      "Best fitness at generation 220: '俪ﾃ웢⃖銢儖鶅%dꊭ' - 0.99997593\n",
      "Best fitness at generation 221: '佼ﾠ잶‗銢儖鶅%dꈺ' - 0.99997586\n",
      "Best fitness at generation 222: '佼ﾠ잶ᾶ銢儥鴼%dꇁ' - 0.99997579\n",
      "Best fitness at generation 223: '俪＠웢⃖銢儍鶅%dꆦ' - 0.99997578\n",
      "Best fitness at generation 224: '佹ﾃ웢\\u1f5a銢僐鴼%dꅍ' - 0.99997572\n",
      "Best fitness at generation 225: '佹ﾃ웢⃖銢儍鶅%dꄔ' - 0.99997569\n",
      "Best fitness at generation 226: '偕ﾃ왮⃖銢儍鳬%dꂛ' - 0.99997562\n",
      "Best fitness at generation 227: '使ﾠ잶ᾶ銖僐鶅%dꂛ' - 0.99997562\n",
      "Best fitness at generation 228: '佹ﾃ웢\\u205f銢儍鳬%dꁩ' - 0.99997559\n",
      "Best fitness at generation 229: '偕ﾃ욥⁽鋅儍鳬%d鿁' - 0.99997549\n",
      "Best fitness at generation 230: '偕ﾃ욥⁽銣儍鳬%d龤' - 0.99997547\n",
      "Best fitness at generation 231: '偕ﾃ옹⁽鋅儍鳬%d黛' - 0.99997535\n",
      "Best fitness at generation 232: '倸ﾃ엶⃖銖倣鳬%d鸤' - 0.99997524\n",
      "Best fitness at generation 233: '倸ﾃ엶⃖銖倣鳬%d鸤' - 0.99997524\n",
      "Best fitness at generation 234: '傒ﾠ왮⁽鋅儍鳽%d鸤' - 0.99997524\n",
      "Best fitness at generation 235: '倸ﾃ엶⃖銖係鴎%d鴭' - 0.99997508\n",
      "Best fitness at generation 236: '偁\\uffbf욥\\u2029鈪儍鳬%d鳤' - 0.99997504\n",
      "Best fitness at generation 237: '僮ﾃ욥₊鈪儍鳬%d鳤' - 0.99997504\n",
      "Best fitness at generation 238: '偕ﾃ웶\\u205f鋕儍鳬%d鱏' - 0.99997495\n",
      "Best fitness at generation 239: '俋ﾃ엶⃖銖伥鳬%d鰉' - 0.99997490\n",
      "Best fitness at generation 240: '俨ｍ웄\\u205f鋌儍鳬%d鯘' - 0.99997487\n",
      "Best fitness at generation 241: '倸ｍ웄\\u205f鉠儍鳬%d鮘' - 0.99997483\n",
      "Best fitness at generation 242: '僮ￂ웄\\u205f鋌兖鳬%d鬦' - 0.99997476\n",
      "Best fitness at generation 243: '倶ｏ원⁼鉠儍鳬%d髪' - 0.99997472\n",
      "Best fitness at generation 244: '僮ￂ웄\\u205f鋌兖鳬%d髉' - 0.99997470\n",
      "Best fitness at generation 245: '俋ｏ원№鉠儍鳬%d驳' - 0.99997464\n",
      "Best fitness at generation 246: '俋ｏ원№鋡儍鵎%d騵' - 0.99997460\n",
      "Best fitness at generation 247: '俋ｏ원№鋡儍鵎%d首' - 0.99997450\n",
      "Best fitness at generation 248: '俋ｏ원№鋡儍鵎%d馑' - 0.99997450\n",
      "Best fitness at generation 249: '僮ￂ역№鋡儍鵎%d飵' - 0.99997440\n",
      "Best fitness at generation 250: '僮Ｐ역№鋡儍鵎%d飵' - 0.99997440\n",
      "Best fitness at generation 251: '八Ｐ역№鎥儍鵎%d韤' - 0.99997422\n",
      "Best fitness at generation 252: '僮Ｐ역№鋡儍鵎%d韤' - 0.99997422\n",
      "Best fitness at generation 253: '僮Ｐ역№鋡儍鴣%d韃' - 0.99997419\n",
      "Best fitness at generation 254: '傯ￂ윂₱鋡儍鳂%d鞉' - 0.99997415\n",
      "Best fitness at generation 255: '傯ￂ윂₱鋡儍鳂%d鞉' - 0.99997415\n",
      "Best fitness at generation 256: '傯ￂ윂₱鉞儍鳂%d霰' - 0.99997410\n",
      "Best fitness at generation 257: '僮Ｐ역№鋡儍鴣%d隡' - 0.99997400\n",
      "Best fitness at generation 258: '僮Ｐ옏№鋡儍鴣%d陰' - 0.99997397\n",
      "Best fitness at generation 259: '傮Ｐ았№鉞儍鳂%d陨' - 0.99997396\n",
      "Best fitness at generation 260: '僰Ｐ역№鋡儍鴣%d闤' - 0.99997387\n",
      "Best fitness at generation 261: '僮ﾤ역№鋡儍鴣%d闌' - 0.99997385\n",
      "Best fitness at generation 262: '僮ﾤ역№鋡儍鴣%d铜' - 0.99997369\n",
      "Best fitness at generation 263: '僮ﾤ역№鋡儍鴣%d钜' - 0.99997364\n",
      "Best fitness at generation 264: '僮ﾤ역⃰鋡儍鴣%d鑫' - 0.99997361\n",
      "Best fitness at generation 265: '僰Ｐ씇№鋡儍鴮%d鐒' - 0.99997355\n",
      "Best fitness at generation 266: '僮Ｐ씇⃢鋡儍鴮%d鎵' - 0.99997348\n",
      "Best fitness at generation 267: '僮ﾤ역⃰鋡儍鴮%d鎵' - 0.99997348\n",
      "Best fitness at generation 268: '価ｱ왓⃡鋡凇鴮%d鍝' - 0.99997342\n",
      "Best fitness at generation 269: '僰Ｐ씫№鋡儍鴮%d鋄' - 0.99997331\n",
      "Best fitness at generation 270: '価Ｐ씫№鋡儧鴮%d鋄' - 0.99997331\n",
      "Best fitness at generation 271: '偅\\uffef씇№鋡儍鴮%d釫' - 0.99997316\n",
      "Best fitness at generation 272: '僰Ｐ쒃№鋡儍鴮%d釫' - 0.99997316\n",
      "Best fitness at generation 273: '傇Ｐ쒠№鋡儍鵬%d釟' - 0.99997315\n",
      "Best fitness at generation 274: '侮ｕ씫№鉚儍鴮%d郴' - 0.99997298\n",
      "Best fitness at generation 275: '傇Ｐ쒠ℐ鉚儍鴮%d郴' - 0.99997298\n",
      "Best fitness at generation 276: '偣ﾢ앳Ⅱ鉚儩鴮%d透' - 0.99997281\n",
      "Best fitness at generation 277: '偅\\uffef씇ℐ鉚儍鴮%d迸' - 0.99997279\n",
      "Best fitness at generation 278: '侮ﾝ씫⅞鋡儍鵬%d込' - 0.99997275\n",
      "Best fitness at generation 279: '偣ￓ앳Ⅱ鉚僲鴮%d辧' - 0.99997273\n",
      "Best fitness at generation 280: '偅\\uffef앳Ⅱ鉚儩鴮%d辝' - 0.99997273\n",
      "Best fitness at generation 281: '俠ｕ씫№鉚儩鴮%d輲' - 0.99997265\n",
      "Best fitness at generation 282: '偣ﾢ씌Ⅷ鉈儍鴮%d輁' - 0.99997261\n",
      "Best fitness at generation 283: '偅\\uffef앳Ⅱ銟儩鳘%d蹱' - 0.99997250\n",
      "Best fitness at generation 284: '偅\\uffef옎ⅈ鈶儍鳉%d蹧' - 0.99997249\n",
      "Best fitness at generation 285: '偣ﾢ씌ⅺ銟儩鳘%d踳' - 0.99997245\n",
      "Best fitness at generation 286: '係ﾢ씌Ⅷ銟儩鳪%d趕' - 0.99997233\n",
      "Best fitness at generation 287: '係ﾢ씌Ⅷ銟儩鳪%d趕' - 0.99997233\n",
      "Best fitness at generation 288: '偙\\uffef옎ⅈ鈺儍鳉%E赈' - 0.99997227\n",
      "Best fitness at generation 289: '偣ﾢ쓠⅊鈺儍鳉%E赈' - 0.99997227\n",
      "Best fitness at generation 290: '係ﾐ씌⋡錑傫鲩%d贄' - 0.99997222\n",
      "Best fitness at generation 291: '偣ﾢ쓠⅊鈺兛鳉%d贄' - 0.99997222\n",
      "Best fitness at generation 292: '偣ﾢ씌⋡錑傫鲩%d豬' - 0.99997210\n",
      "Best fitness at generation 293: '係ﾐ씌⋡鋱傫鲩%d豩' - 0.99997210\n",
      "Best fitness at generation 294: '介\\uffdf얰∹錑僩鲩%d讪' - 0.99997195\n",
      "Best fitness at generation 295: '係\\uffdf얰∹錑僩鲩%d讪' - 0.99997195\n",
      "Best fitness at generation 296: '介\\x99얰⍛錑偮鲩%d謜' - 0.99997184\n",
      "Best fitness at generation 297: '俱ﾢ얰∹錑偮鲩%d諁' - 0.99997177\n",
      "Best fitness at generation 298: '値￦옾∹錑偮鲩%d諁' - 0.99997177\n",
      "Best fitness at generation 299: '俱￼엂∹錑僩鲩%d詣' - 0.99997169\n",
      "Best fitness at generation 300: '俱￼엂∹鍊僩鲩%d訂' - 0.99997161\n",
      "Best fitness at generation 301: '俱￼옾∹錑侊鰲%d覫' - 0.99997154\n",
      "Best fitness at generation 302: '俱\\ufff0씯≖錑傫鲩%d襃' - 0.99997146\n",
      "Best fitness at generation 303: '値￦옾∹鍮侊鰲%d褐' - 0.99997142\n",
      "Best fitness at generation 304: '俱￼왊⋾錑傫鲩%d裈' - 0.99997136\n",
      "Best fitness at generation 305: '俱￼왊⌈錑傫鯕%d蠽' - 0.99997124\n",
      "Best fitness at generation 306: '俖|왳⌈錑傫鯕%d蠽' - 0.99997124\n",
      "Best fitness at generation 307: '俱￼왊⋾鏉傫鯕%d蟖' - 0.99997116\n",
      "Best fitness at generation 308: '俱￼왊⋾鏉傫鯕%d蟖' - 0.99997116\n",
      "Best fitness at generation 309: '佤￼왊⌈鑥兾鯕%d蜥' - 0.99997101\n",
      "Best fitness at generation 310: '侺￼왊⌈錖傫鯕%d蜞' - 0.99997101\n",
      "Best fitness at generation 311: '俱￼왟⌈錖傫鯕%d蚿' - 0.99997093\n",
      "Best fitness at generation 312: '俱￼씋⇟錑伖鯕%d蚊' - 0.99997088\n",
      "Best fitness at generation 313: '佩￼씋↩錑値鮝%d蘾' - 0.99997082\n",
      "Best fitness at generation 314: '佩￼씋↩錑値鮝%d蘾' - 0.99997082\n",
      "Best fitness at generation 315: '俱￼앝⇟錑値鮝%d蔜' - 0.99997057\n",
      "Best fitness at generation 316: '傴￼씋↩鍧値鯀%d蒾' - 0.99997048\n",
      "Best fitness at generation 317: '俱￼앝⇟鍧値鯀%d葘' - 0.99997040\n",
      "Best fitness at generation 318: '俱￼앝⇟鍧値鯀%d葁' - 0.99997038\n",
      "Best fitness at generation 319: '俱\\ufffe왏⇟鏜値鯀%d華' - 0.99997030\n",
      "Best fitness at generation 320: '傴￼앝⇟錑傿鮝%d菤' - 0.99997029\n",
      "Best fitness at generation 321: '俱2앝↝鍧倪鯻%d莟' - 0.99997023\n",
      "Best fitness at generation 322: '俱2왨⇟錑傿鮝%d荣' - 0.99997018\n",
      "Best fitness at generation 323: '俱\\ufffe왨⇟錑儩鮝%d茚' - 0.99997011\n",
      "Best fitness at generation 324: '俱2왨⇷錑傿鮝%d艒' - 0.99996993\n",
      "Best fitness at generation 325: '俻ﾈ웡⇟錑儩鮝%d致' - 0.99996985\n",
      "Best fitness at generation 326: '倲2욯⇟錑傿鮝%d膕' - 0.99996976\n",
      "Best fitness at generation 327: '俜2웡⇟錑儩鬒%d腲' - 0.99996973\n",
      "Best fitness at generation 328: '俱2왨⇟錳僾鮝%d胺' - 0.99996962\n",
      "Best fitness at generation 329: '俻ￆ웡⇟錑儩鬒%5胇' - 0.99996957\n",
      "Best fitness at generation 330: '俜2웡Ↄ錑儩騴%5聊' - 0.99996946\n",
      "Best fitness at generation 331: '俜2웣Ↄ錑儩騴%5耵' - 0.99996944\n",
      "Best fitness at generation 332: '俜2웡Ↄ錑儩騴%5翶' - 0.99996938\n",
      "Best fitness at generation 333: '俜2웣Ↄ錑儩鬡%5羃' - 0.99996927\n",
      "Best fitness at generation 334: '俜2웣Ↄ錑兪鬡%5罚' - 0.99996923\n",
      "Best fitness at generation 335: '俜ﾢ웣Ↄ錑兪鬡%5纮' - 0.99996907\n",
      "Best fitness at generation 336: '俜ﾢ웣Ↄ錑兪鬡%5縚' - 0.99996893\n",
      "Best fitness at generation 337: '侂\\x18웣Ↄ錑兪鬡%5緹' - 0.99996889\n",
      "Best fitness at generation 338: '俜ﾢ욦⅄錑兪鬡%5絇' - 0.99996872\n",
      "Best fitness at generation 339: '俜ﾢ으⅄錑兪鬡%5糵' - 0.99996864\n",
      "Best fitness at generation 340: '住?욦Ⅰ錑兪魐%5粽' - 0.99996859\n",
      "Best fitness at generation 341: '侭ﾢ욛⅄錑兪鬡%5簽' - 0.99996846\n",
      "Best fitness at generation 342: '住\\x18웣⅄錑兪鬡%5簽' - 0.99996846\n",
      "Best fitness at generation 343: '侭ﾢ왻ℱ錑兪鬡%5簜' - 0.99996843\n",
      "Best fitness at generation 344: '侭ﾡ욛ℎ錵兪鬡%5篯' - 0.99996838\n",
      "Best fitness at generation 345: '侭ﾢ왻ℱ錑兪鬡%5筸' - 0.99996826\n",
      "Best fitness at generation 346: '侭ﾢ왻ℱ鎥兪鬡%5筸' - 0.99996826\n",
      "Best fitness at generation 347: '侭ﾢ욽ₓ錑兪鬡%5竻' - 0.99996813\n",
      "Best fitness at generation 348: '侭ﾢ욽ₓ錑僝鬡%5竻' - 0.99996813\n",
      "Best fitness at generation 349: '住ﾢ올ℱ錑兪驲%5竆' - 0.99996808\n",
      "Best fitness at generation 350: '侭ﾢ욽ₓ銼兪鬡%5穝' - 0.99996797\n",
      "Best fitness at generation 351: '住ﾢ올ℱ錑兪驲%5稘' - 0.99996790\n",
      "Best fitness at generation 352: '侭ﾢ왻ℱ鋤凝鬛%5稂' - 0.99996788\n",
      "Best fitness at generation 353: '侷ﾡ올ℱ鍹兪驲%5禡' - 0.99996778\n",
      "Best fitness at generation 354: '住ﾢ왘\\u20f5鋂兣鬛%5祥' - 0.99996772\n",
      "Best fitness at generation 355: '住\\x17윋\\u20f5鋂兣髏%5磇' - 0.99996755\n",
      "Best fitness at generation 356: '住`윋\\u20f5鋂兣髏%5砸' - 0.99996740\n",
      "Best fitness at generation 357: '住`윋\\u20f5鋂兣髏%5皤' - 0.99996697\n",
      "Best fitness at generation 358: '伻ﾡ올\\u20f5鋂兣髏%5皤' - 0.99996697\n",
      "Best fitness at generation 359: '伳`쟃\\u20f5鋂兣鬃%5痔' - 0.99996674\n",
      "Best fitness at generation 360: '伳ﾽ쟃\\u20f5鋂兣鬃%5痔' - 0.99996674\n",
      "Best fitness at generation 361: '係－얕Ⅿ錑兣鬃%5甍' - 0.99996651\n",
      "Best fitness at generation 362: '住ﻨ옷⃜錑偢鬱%5瓲' - 0.99996648\n",
      "Best fitness at generation 363: '住ﻨ옷⃜錌偿鬱%5瑿' - 0.99996635\n",
      "Best fitness at generation 364: '住ﻨ옷⃜錌偿鬱%5瑿' - 0.99996635\n",
      "Best fitness at generation 365: '住ﻖ옷⃜錌偿鬱%5琷' - 0.99996627\n",
      "Best fitness at generation 366: '俜？얕⃜錌偿魸%5玘' - 0.99996609\n",
      "Best fitness at generation 367: '俜ｚ왘⃜錌偿鬱%5獇' - 0.99996600\n",
      "Best fitness at generation 368: '住＠옷⃜錢偫魾%5猓' - 0.99996594\n",
      "Best fitness at generation 369: '俜ｚ왘⃜錌偿魪%5牼' - 0.99996576\n",
      "Best fitness at generation 370: '俜ｚ왘⃜錌偿魪%5牼' - 0.99996576\n",
      "Best fitness at generation 371: '住＠옷⃜錢偫魪%5牘' - 0.99996572\n",
      "Best fitness at generation 372: '俻ｚ왘₷錌僗魪%5燽' - 0.99996561\n",
      "Best fitness at generation 373: '住＠왘₈錌僗魪%5照' - 0.99996543\n",
      "Best fitness at generation 374: '住ｚ왘₷錌僗魪%5照' - 0.99996543\n",
      "Best fitness at generation 375: '伣＠왘\\u20c2鎄僗魪%5烜' - 0.99996527\n",
      "Best fitness at generation 376: '住ｚ왘₷錌僗魪%5炿' - 0.99996523\n",
      "Best fitness at generation 377: '侇？엑\\u20c2鍈僗魪%5瀾' - 0.99996508\n",
      "Best fitness at generation 378: '侇\\x03엑\\u20c2鍈僗魪%5澡' - 0.99996488\n",
      "Best fitness at generation 379: '侇\\x03엑‽鍈僗魪%5澡' - 0.99996488\n",
      "Best fitness at generation 380: '侇\\x03양\\u20c2鍈僗魪%5潈' - 0.99996477\n",
      "Best fitness at generation 381: '侇\\x03양\\u20c2鑋傴鬮%5潁' - 0.99996476\n",
      "Best fitness at generation 382: '侇\\x03양\\u20c2鑋傴鬮%5溟' - 0.99996456\n",
      "Best fitness at generation 383: '乗［엔⁁鍈偤魪%5湠' - 0.99996448\n",
      "Best fitness at generation 384: '侇\\x03양⁾鑋傴鮸%5渺' - 0.99996443\n",
      "Best fitness at generation 385: '侇？옠\\u20c2錈充髳%5涪' - 0.99996425\n",
      "Best fitness at generation 386: '侇\\x03얦⁾鑋充髳%5涪' - 0.99996425\n",
      "Best fitness at generation 387: '佁＠왘\\u20c2銫充髳%5涋' - 0.99996421\n",
      "Best fitness at generation 388: '亢＠웙⁞錈充髳%5浂' - 0.99996412\n",
      "Best fitness at generation 389: '佁＠왘\\u20c2銫充髳%5洷' - 0.99996410\n",
      "Best fitness at generation 390: '亥Ｓ웸⁞錻傴鯫%5沐' - 0.99996389\n",
      "Best fitness at generation 391: '佁＠왘\\u20c2銫儼髳%5沎' - 0.99996388\n",
      "Best fitness at generation 392: '亢＠욬ↂ錻傴鯫%5氮' - 0.99996376\n",
      "Best fitness at generation 393: '佁ﹹ왘\\u20c2銫儼髳%5殱' - 0.99996359\n",
      "Best fitness at generation 394: '佁ﹹ왘\\u20c2銫兎髳%5殱' - 0.99996359\n",
      "Best fitness at generation 395: '侇\\ufff2웙⁞鉓儼髳%5殱' - 0.99996359\n",
      "Best fitness at generation 396: '佁ﹹ왘\\u20ff銫兎髳%5欕' - 0.99996339\n",
      "Best fitness at generation 397: '侇\\ufff2웙⁞鉓兎髳%5欕' - 0.99996339\n",
      "Best fitness at generation 398: '事ﻕ욬\\u20c2錻兎髳%5橛' - 0.99996313\n",
      "Best fitness at generation 399: '仐ﹻ왘\\u20ff鈰兎髳%5樲' - 0.99996308\n",
      "Best fitness at generation 400: '仐＠욬₂錻兺髳%5榛' - 0.99996287\n",
      "Best fitness at generation 401: '事ﻕ옔₶錻兺髳%5楼' - 0.99996283\n",
      "Best fitness at generation 402: '事＠욬₂鎀冷髳%5楡' - 0.99996279\n",
      "Best fitness at generation 403: '事ﹿ옔₶鍔兺髳%5椿' - 0.99996274\n",
      "Best fitness at generation 404: '乸ｮ욬₂鎀冷髳%5梭' - 0.99996254\n",
      "Best fitness at generation 405: '事ﻕ옔₶鎀冷髳%5梭' - 0.99996254\n",
      "Best fitness at generation 406: '仪ﹿ옐₂錗冷髳%5栄' - 0.99996230\n",
      "Best fitness at generation 407: '仪ﹿ옔‟錗儌髤%5枳' - 0.99996219\n",
      "Best fitness at generation 408: '亷ﻕ욬₂錗僪髳%5朼' - 0.99996202\n",
      "Best fitness at generation 409: '事ﻪ욘⁷鐬儌髤%5朎' - 0.99996195\n",
      "Best fitness at generation 410: '亷ﻕ욬₂錗僪髳%5暥' - 0.99996180\n",
      "Best fitness at generation 411: '亷ﻕ욟₂錗僪髳%5暐' - 0.99996177\n",
      "Best fitness at generation 412: '事ﻪ욟₂錗僪髰%5晓' - 0.99996168\n",
      "Best fitness at generation 413: '亷ﻕ엪ₒ錗僪髳%5斩' - 0.99996143\n",
      "Best fitness at generation 414: '于ﻯ욬ℂ錗僪髳%5敧' - 0.99996133\n",
      "Best fitness at generation 415: '佋ﺆ옔ₒ錗僪髳%5敔' - 0.99996130\n",
      "Best fitness at generation 416: '事ﻪ욟₂錗克髨%5敔' - 0.99996130\n",
      "Best fitness at generation 417: '佋ﺆ옔₂鍐克髨%5擄' - 0.99996108\n",
      "Best fitness at generation 418: '亣ｅ옦‟鈯僓髳%5撺' - 0.99996107\n",
      "Best fitness at generation 419: '亣ﻵ엂⃨錵儯髄%5摔' - 0.99996091\n",
      "Best fitness at generation 420: '亣ﻵ엂↵錵儯髄%5摔' - 0.99996091\n",
      "Best fitness at generation 421: '佋ﾱ옔₂鍐兩髨%5揅' - 0.99996069\n",
      "Best fitness at generation 422: '乵｛얡ᾂ鈯僓髳%5措' - 0.99996065\n",
      "Best fitness at generation 423: '価ﾖ옔\\u209f鍐兩髨%5捤' - 0.99996054\n",
      "Best fitness at generation 424: '乵［왪ᾂ鋋儯髄%5拁' - 0.99996029\n",
      "Best fitness at generation 425: '乵［왪ᾂ鋋儯髄%5拁' - 0.99996029\n",
      "Best fitness at generation 426: '亣｛욊ᾂ釧僓鬥%5戵' - 0.99996006\n",
      "Best fitness at generation 427: '価ﾖ왪\\u2001鋋冋髄%5懰' - 0.99995995\n",
      "Best fitness at generation 428: '争ﻉ얬\\u2001鋋冋髄%5慪' - 0.99995974\n",
      "Best fitness at generation 429: '亣｛욊\\u2001鋋冋髄%5慀' - 0.99995967\n",
      "Best fitness at generation 430: '亣｛웊Ἆ釻僓髄%5惾' - 0.99995956\n",
      "Best fitness at generation 431: '傰ﾖ왪\\u2001鋸冋髄%5悘' - 0.99995939\n",
      "Best fitness at generation 432: '傰ﾖ왪\\u2001鋸冋髄%5悘' - 0.99995939\n",
      "Best fitness at generation 433: '争ｚ얬\\u200a鋋僓髄%5怽' - 0.99995924\n",
      "Best fitness at generation 434: '乽ｚ얬\\u200a鋋僓髄%5忋' - 0.99995905\n",
      "Best fitness at generation 435: '乽ｚ얬\\u200a鋋僓騍%5彟' - 0.99995887\n",
      "Best fitness at generation 436: '些ﻉ얬„鋋僓髄%5廸' - 0.99995870\n",
      "Best fitness at generation 437: '俙ﾖ왵ώ鋸冋骖%5府' - 0.99995854\n",
      "Best fitness at generation 438: '乽ｚ옇\\u200a鋋冋骖%5库' - 0.99995852\n",
      "Best fitness at generation 439: '俙\\ufff3얊ώ錗冋骖%5巨' - 0.99995823\n",
      "Best fitness at generation 440: '俙\\ufff3얊ώ錗冋骖%5巨' - 0.99995823\n",
      "Best fitness at generation 441: '乽ｚ옇\\u200a鋋僓髨%5崽' - 0.99995793\n",
      "Best fitness at generation 442: '乽ｚ옇\\u200a鋋僓髨%5崽' - 0.99995793\n",
      "Best fitness at generation 443: '倖ﾨ얊ώ鏒冋饛%5峖' - 0.99995774\n",
      "Best fitness at generation 444: '倖ｲ씗ώ錗刘骖%5岭' - 0.99995767\n",
      "Best fitness at generation 445: '倖ｲ씗ώ錗刘骖%5屬' - 0.99995755\n",
      "Best fitness at generation 446: '倖ｲ씗ώ鋇刘骄%5屏' - 0.99995750\n",
      "Best fitness at generation 447: '倖ｲ씗Ἓ鋇刘骖%5尌' - 0.99995738\n",
      "Best fitness at generation 448: '倖ﹶ씗ώ錗冭骄%5寢' - 0.99995730\n",
      "Best fitness at generation 449: '倖ｲ씗Ἓ鋇刘骖%5季' - 0.99995707\n",
      "Best fitness at generation 450: '倖ｲ씗Ἓ鋇刘驿%5嫑' - 0.99995680\n",
      "Best fitness at generation 451: '倖ｲ씗Ἓ鋇刘驿%5媹' - 0.99995675\n",
      "Best fitness at generation 452: '倦＆씗Ἓ鋇刘骖%5妷' - 0.99995627\n",
      "Best fitness at generation 453: '倦＆씗Ἓ鋇刘骖%5奾' - 0.99995616\n",
      "Best fitness at generation 454: '偆ｲ씢Ἓ鋇刘驿%5夛' - 0.99995597\n",
      "Best fitness at generation 455: '偆－씢Ἓ鋇刘骖%5墫' - 0.99995575\n",
      "Best fitness at generation 456: '倖ｲ씗Ἓ鋇刘骖%5墫' - 0.99995575\n",
      "Best fitness at generation 457: '偆ﻖ씢Ἓ鉦刘骖%5堌' - 0.99995543\n",
      "Best fitness at generation 458: '偆ｲ씢Ṷ鋇劝骖%5埴' - 0.99995539\n",
      "Best fitness at generation 459: '偆ｲ씢Ṯ鋇劝骖%5坮' - 0.99995512\n",
      "Best fitness at generation 460: '倏ｲ씢Ṷ鋇劝骖%5坎' - 0.99995505\n",
      "Best fitness at generation 461: '偆ｲ씢Ṷ鋇劝骖%5圎' - 0.99995492\n",
      "Best fitness at generation 462: '偭ｲ씢Ṷ鋇劝骖%5噢' - 0.99995457\n",
      "Best fitness at generation 463: '傏\\uffdf씢Ṷ鋇劝骖%5嘘' - 0.99995442\n",
      "Best fitness at generation 464: '傏\\uffdf씢Ṷ鉫劝骖%5喃' - 0.99995411\n",
      "Best fitness at generation 465: '傏\\uffdf앂Ṩ鋇劝骖%5啳' - 0.99995407\n",
      "Best fitness at generation 466: '傏\\uffdf씢Ṷ鉫勀骖%5唊' - 0.99995385\n",
      "Best fitness at generation 467: '倴！씢ṅ鋇加骖%5哐' - 0.99995373\n",
      "Best fitness at generation 468: '倴！씢ṅ鉫加驉%5哐' - 0.99995373\n",
      "Best fitness at generation 469: '傏\\uffdf씢Ḅ鉫劝骖%5叹' - 0.99995326\n",
      "Best fitness at generation 470: '傏￼씢Ṷ鈌劝骖%5叹' - 0.99995326\n",
      "Best fitness at generation 471: '傏\\uffdf씢Ḅ鉫劝骖%5厸' - 0.99995312\n",
      "Best fitness at generation 472: '傏\\x02옆Ḹ銌匫驔%5即' - 0.99995297\n",
      "Best fitness at generation 473: '傏\\x02옆Ḹ銌匫骱%5匸' - 0.99995284\n",
      "Best fitness at generation 474: '傏\\x02앿ṅ鋇劙骖%5勻' - 0.99995270\n",
      "Best fitness at generation 475: '傏\\x02옆Ḹ銌匫骱%5剷' - 0.99995240\n",
      "Best fitness at generation 476: '僭\\x02앿ṅ錎匫驔%5剕' - 0.99995233\n",
      "Best fitness at generation 477: '傏\\x02옆Ḹ銌匫鮞%5凭' - 0.99995209\n",
      "Best fitness at generation 478: '傏\\x02옆Ḹ銌匫骱%5冚' - 0.99995190\n",
      "Best fitness at generation 479: '偂ｿ씧Ḗ銌匫骱%5冚' - 0.99995190\n",
      "Best fitness at generation 480: '僭\\x02옆Ố鄝厸骱%5僨' - 0.99995148\n",
      "Best fitness at generation 481: '俊\\x02옆Ḹ銌匫髕%5僨' - 0.99995148\n",
      "Best fitness at generation 482: '僗\\x0b엁Ḣ銌匫髑%5倝' - 0.99995100\n",
      "Best fitness at generation 483: '傏G엁Ḹ銌勜髕%5倝' - 0.99995100\n",
      "Best fitness at generation 484: '僭\\x0b엁Ḣ銌匫髑%5候' - 0.99995099\n",
      "Best fitness at generation 485: '傏ﾛ엁Ḹ鉩勜髕%5侏' - 0.99995066\n",
      "Best fitness at generation 486: '僭ﾛ엁Ḹ鉇勜髕%5佝' - 0.99995053\n",
      "Best fitness at generation 487: '侣õ여Ố鈘匫髑%5佀' - 0.99995046\n",
      "Best fitness at generation 488: '傏G엁Ḹ鈸勜髕%5会' - 0.99995037\n",
      "Best fitness at generation 489: '侣õ엿Ḹ鉩剰髕%5亲' - 0.99995011\n",
      "Best fitness at generation 490: '儎õ여ᾙ鈘匫髑%5亦' - 0.99995008\n",
      "Best fitness at generation 491: '傭G엁ᶾ鈸勜髕%5丘' - 0.99994973\n",
      "Best fitness at generation 492: '傑ǅ욋ọ鈘卄骯%5䷿' - 0.99994966\n",
      "Best fitness at generation 493: '像ǅ욋Ừ鈘协骯%5䶠' - 0.99994942\n",
      "Best fitness at generation 494: '像ǅ욋Ừ鈘厏骯%5䵛' - 0.99994924\n",
      "Best fitness at generation 495: '像ǅ욋Ừ鈘叉骯%5䵛' - 0.99994924\n",
      "Best fitness at generation 496: '傧ɰ왍Ừ鈘厏騲%5䳣' - 0.99994893\n",
      "Best fitness at generation 497: '傧İ욋Ừ鉊厏骯%5䳙' - 0.99994891\n",
      "Best fitness at generation 498: '像ɰ욋Ừ鈘厏騲%5䱌' - 0.99994854\n",
      "Best fitness at generation 499: '傧İ욋ἄ鍗午骯%5䯬' - 0.99994828\n",
      "Best fitness at generation 500: '儿İ욋Ừ鈘厂骯%5䭞' - 0.99994790\n",
      "Best fitness at generation 501: '傧İ욋Ừ鈘厂骯%5䩃' - 0.99994712\n",
      "Best fitness at generation 502: '傧İ욋Ừ鈘厂骯%5䦴' - 0.99994671\n",
      "Best fitness at generation 503: '傧İ욋Ừ鈘厂駜%5䦢' - 0.99994666\n",
      "Best fitness at generation 504: '傧İ욋Ừ鈘厂駜%5䣯' - 0.99994615\n",
      "Best fitness at generation 505: '傧İ욋Ừ鈦厂骯%5䣯' - 0.99994615\n",
      "Best fitness at generation 506: '傧İ욋Ừ鈘协駜%5䠧' - 0.99994556\n",
      "Best fitness at generation 507: '傧İ욋Ừ鈙厂駜%5䠧' - 0.99994556\n",
      "Best fitness at generation 508: '傧İ욋Ừ銙协駜%5䝫' - 0.99994500\n",
      "Best fitness at generation 509: '僶İ욋Ừ銙协駜%5䜴' - 0.99994483\n",
      "Best fitness at generation 510: '傧Ƅ윘Ỏ醮协駜%5䜰' - 0.99994482\n",
      "Best fitness at generation 511: '傧Ƅ윘Ỏ醮协駜%5䚘' - 0.99994435\n",
      "Best fitness at generation 512: '傧Ƅ윘Ỏ醮协駜%5䚘' - 0.99994435\n",
      "Best fitness at generation 513: '僛İ욋\\u1fb5銙协駜%5䙡' - 0.99994418\n",
      "Best fitness at generation 514: '僶Ƅ윘ẍ醮协馉%5䗟' - 0.99994378\n",
      "Best fitness at generation 515: '傫Ƅ읨Ể郕协駜%5䔅' - 0.99994308\n",
      "Best fitness at generation 516: '僶Ơ윘ẍ醮协駜%5䔅' - 0.99994308\n",
      "Best fitness at generation 517: '僲Ã읨Ể郕协馒%F䑹' - 0.99994262\n",
      "Best fitness at generation 518: '僲Ã읨Ể郕协馒%F䑹' - 0.99994262\n",
      "Best fitness at generation 519: '僶İ읨Ể郕协駜%5䐈' - 0.99994225\n",
      "Best fitness at generation 520: '僲Ã읨Ể郕劮駜%5䐈' - 0.99994225\n",
      "Best fitness at generation 521: '僦Ã읨Ể郕凩駜%5䍩' - 0.99994171\n",
      "Best fitness at generation 522: '僦Ã읨Ể郕凩駜%5䍩' - 0.99994171\n",
      "Best fitness at generation 523: '僦Ã잞Ể郕凩駜%5䍈' - 0.99994160\n",
      "Best fitness at generation 524: '僦Ã웉Ể郱凩馒%5䋸' - 0.99994132\n",
      "Best fitness at generation 525: '僦Ã웉Ể郱凩馒%5䋸' - 0.99994132\n",
      "Best fitness at generation 526: '允Ã잞Ể郱凩馒%5䉥' - 0.99994081\n",
      "Best fitness at generation 527: '僦Ã욑Ờ郱凩饤%5䈼' - 0.99994067\n",
      "Best fitness at generation 528: '僶Ã읨Ể郞凩駜%5䇻' - 0.99994044\n",
      "Best fitness at generation 529: '僦Ã욑Ằ郱凩馒%5䅉' - 0.99993980\n",
      "Best fitness at generation 530: '儊Ã윜Ể郞凩馒%5䄭' - 0.99993970\n",
      "Best fitness at generation 531: '僧Ĺ욑Ằ郱刾馊%5䁸' - 0.99993904\n",
      "Best fitness at generation 532: '僧ò욑Ằ郱刾馊%5䁸' - 0.99993904\n",
      "Best fitness at generation 533: '偝Ã욑Ể郗凩餵%5䀱' - 0.99993877\n",
      "Best fitness at generation 534: '僧Ĺ욑Ằ郱勄餵%5䀱' - 0.99993877\n",
      "Best fitness at generation 535: '僧Ĺ욑Ằ郱勄餵%5㾈' - 0.99993813\n",
      "Best fitness at generation 536: '僧Ĺ욑Ằ郱勴餱%5㾈' - 0.99993813\n",
      "Best fitness at generation 537: '儊Ã윜ẛ逛刾餼%5㺜' - 0.99993721\n",
      "Best fitness at generation 538: '儊Ã윜ẛ逛刾餼%5㺛' - 0.99993721\n",
      "Best fitness at generation 539: '倳Ã욑Ể逛刾餼%5㸙' - 0.99993669\n",
      "Best fitness at generation 540: '倳Ã욑Ể逛刾餼%5㸙' - 0.99993669\n",
      "Best fitness at generation 541: '倳Ë욑Ể逛刾餼%5㶊' - 0.99993611\n",
      "Best fitness at generation 542: '倳Ã욑Ể逛刾餼%5㵠' - 0.99993594\n",
      "Best fitness at generation 543: '倳Ã욑Ể逾刾餐%5㲻' - 0.99993526\n",
      "Best fitness at generation 544: '信Ë윮Ể邎刾餼%5㲻' - 0.99993526\n",
      "Best fitness at generation 545: '倳Ã욑Ể邎刾饚%5㲎' - 0.99993507\n",
      "Best fitness at generation 546: '倳Ã욑Ể逾匷餐%5㰗' - 0.99993456\n",
      "Best fitness at generation 547: '倳Ã욑ṁ逾刖餐%5㭻' - 0.99993389\n",
      "Best fitness at generation 548: '傈Ë욑Ể逾匷餐%5㭠' - 0.99993377\n",
      "Best fitness at generation 549: '傈Ë욤ẓ那匷餐%5㫳' - 0.99993329\n",
      "Best fitness at generation 550: '傈Ë욑Ể遚匷餐%5㫌' - 0.99993311\n",
      "Best fitness at generation 551: '倛\\x88욑Ể那匷餐%5㩑' - 0.99993256\n",
      "Best fitness at generation 552: '俵w욑Ể逾匷餐%5㧸' - 0.99993215\n",
      "Best fitness at generation 553: '傈D욑ṁ邚刖餐%5㦧' - 0.99993178\n",
      "Best fitness at generation 554: '傈D욑ṁ邚刖餐%5㦂' - 0.99993161\n",
      "Best fitness at generation 555: '偈Ĥ웝Ể邚剧餐%5㤿' - 0.99993129\n",
      "Best fitness at generation 556: '傣ä연Ể遻厴餐%5㤻' - 0.99993127\n",
      "Best fitness at generation 557: '傣ä욑Ể遻厴餐%5㡲' - 0.99993031\n",
      "Best fitness at generation 558: '傈\\x83욖Ể遻叔餐%5㠮' - 0.99992998\n",
      "Best fitness at generation 559: '傣Å연Ể遻叔餐%5㜑' - 0.99992855\n",
      "Best fitness at generation 560: '侪Ĥ왥Ể逵剧餐%5㜑' - 0.99992855\n",
      "Best fitness at generation 561: '傣ä욑Ể邫叔餐%5㛙' - 0.99992826\n",
      "Best fitness at generation 562: '侪Ĥ웓Ể邫叔餐%5㘬' - 0.99992736\n",
      "Best fitness at generation 563: '傣ä왥Ể逵叔餐%5㘬' - 0.99992736\n",
      "Best fitness at generation 564: '傣ä웓Ể邫叔餐%5㕸' - 0.99992640\n",
      "Best fitness at generation 565: '侪í읁Ể邫叔餐%5㕌' - 0.99992616\n",
      "Best fitness at generation 566: '侪Ĥ웓Ể鄬叔餐%5㔗' - 0.99992587\n",
      "Best fitness at generation 567: '侪Ĥ웓Ể郯叔餐%8㒋' - 0.99992509\n",
      "Best fitness at generation 568: '侪í읁Ể郯叔餐%8㒋' - 0.99992509\n",
      "Best fitness at generation 569: '侪í웇Ể郯叔餐%5㑩' - 0.99992490\n",
      "Best fitness at generation 570: '侪Ĥ욾Ỗ郯叔餐%5㏀' - 0.99992394\n",
      "Best fitness at generation 571: '侪Ĥ욾Ỗ郯叔餐%5㍩' - 0.99992343\n",
      "Best fitness at generation 572: '侊Ĥ웓Ỗ郯叔餐%5㌾' - 0.99992318\n",
      "Best fitness at generation 573: '侉Ť웇ặ郳叔餐%5㋏' - 0.99992252\n",
      "Best fitness at generation 574: '侊Ĥ웍Ỗ郯叔飻%5㉼' - 0.99992202\n",
      "Best fitness at generation 575: '侉Ĥ웍Ỗ郯叔飻%5㈹' - 0.99992161\n",
      "Best fitness at generation 576: '侊Ĥ웍Ỗ郯叔餓%5㆜' - 0.99992063\n",
      "Best fitness at generation 577: '侊Ĥ웍Ỗ郯叔餓%5㆜' - 0.99992063\n",
      "Best fitness at generation 578: '侪Ĥ웍Ỗ郯叜餓%5ㄸ' - 0.99991999\n",
      "Best fitness at generation 579: '侪Ĥ씙ẞ郯厑餓%5ロ' - 0.99991951\n",
      "Best fitness at generation 580: '侪Ĥ씙ẞ郯厑餓%5ば' - 0.99991869\n",
      "Best fitness at generation 581: '侄Ĥ욹Ỗ郯厑餓%5⿒' - 0.99991763\n",
      "Best fitness at generation 582: '侊Ł웍Ỗ鄼叜餓%5⿒' - 0.99991763\n",
      "Best fitness at generation 583: '侪Ĥ웍Ỗ郯厌餓%5⾁' - 0.99991708\n",
      "Best fitness at generation 584: '侊Ł웍Ỗ鄼叩餓%5⼨' - 0.99991646\n",
      "Best fitness at generation 585: '侪Ĥ윌Ỗ郮厌馎%5\\u2eff' - 0.99991618\n",
      "Best fitness at generation 586: '侪Ĥ씙Ụ郌叩餓%5⸺' - 0.99991477\n",
      "Best fitness at generation 587: '佬~욕Ẓ鄼厌馮%5ⷃ' - 0.99991390\n",
      "Best fitness at generation 588: '侹Ĥ읬Ụ郌咶餓%5ⶫ' - 0.99991372\n",
      "Best fitness at generation 589: '佬\\x80욕Ẓ鄵厌馑%5ⵉ' - 0.99991298\n",
      "Best fitness at generation 590: '侹Ĥ읬Ụ郌咶餓%5ⴕ' - 0.99991259\n",
      "Best fitness at generation 591: '佬~욕Ἃ鄼厌饕%5Ⲝ' - 0.99991165\n",
      "Best fitness at generation 592: '佬~왿Ẫ鄼厌饕%5Ⲝ' - 0.99991165\n",
      "Best fitness at generation 593: '侓Ĥ읬Ἢ郌咶頰%5ⱄ' - 0.99991096\n",
      "Best fitness at generation 594: '佬~읬Ụ郌唐飭%5ⱂ' - 0.99991094\n",
      "Best fitness at generation 595: '侹Ĥ읬Ẕ鄼厌頰%5⮊' - 0.99990946\n",
      "Best fitness at generation 596: '侓Ĥ윭Ἢ鄼厌頰%5⮊' - 0.99990946\n",
      "Best fitness at generation 597: '侓Ĥ윋Ẕ鄼厌頰%5⫃' - 0.99990780\n",
      "Best fitness at generation 598: '俽Ĥ윋Ẕ鄼厌頰%5⫃' - 0.99990780\n",
      "Best fitness at generation 599: '侓Ĥ윋Ẕ鄼厌頰%5⩳' - 0.99990711\n",
      "Best fitness at generation 600: '侹Ĥ윋Ẕ鄼厌頰%5⧬' - 0.99990594\n",
      "Best fitness at generation 601: '俥Ɛ윭Ἢ鄼厌頰%5⧔' - 0.99990572\n",
      "Best fitness at generation 602: '侹Ĥ윋Ẕ鄼勊頰%5⦁' - 0.99990498\n",
      "Best fitness at generation 603: '侹Ĥ욘Ẕ酕厌頰%5⥵' - 0.99990487\n",
      "Best fitness at generation 604: '侹Ĥ웮Ẕ鄼勊頰%5⢐' - 0.99990275\n",
      "Best fitness at generation 605: '侹Ĥ웮Ẕ鄼勊頰%5➮' - 0.99990057\n",
      "Best fitness at generation 606: '伒ø잓Ẕ鄼勊頰%5❐' - 0.99989963\n",
      "Best fitness at generation 607: '侹Ĥ잕Ṱ鄼匭頰%5❐' - 0.99989963\n",
      "Best fitness at generation 608: '侹Ĥ웮Ế鄼勃頰%5✴' - 0.99989935\n",
      "Best fitness at generation 609: '佔ƹ웮Ạ鄼勃頰%5♳' - 0.99989735\n",
      "Best fitness at generation 610: '侹µ잕Ế鄼勃頰%5♟' - 0.99989714\n",
      "Best fitness at generation 611: '侹Ţ웮Ẕ鄒匩頰%5☣' - 0.99989650\n",
      "Best fitness at generation 612: '侹Ĥ웮Ṱ鄼勳頰%5◊' - 0.99989554\n",
      "Best fitness at generation 613: '侹¡웮Ẕ鄁匩頰%5┷' - 0.99989391\n",
      "Best fitness at generation 614: '俻ŕ웮Ẕ這匩頰%5┷' - 0.99989391\n",
      "Best fitness at generation 615: '侹Ĥ웮ầ鄼勳頰%5┷' - 0.99989391\n",
      "Best fitness at generation 616: '侹Ĥ웮ầ鄼匩頰%5┒' - 0.99989349\n",
      "Best fitness at generation 617: '侹Ĥ웮ầ鄼匩頰%5⑦' - 0.99989150\n",
      "Best fitness at generation 618: '侪Ù웮Ẕ鄼匩韌%5\\u245d' - 0.99989140\n",
      "Best fitness at generation 619: '侹\\x9f웮Ẕ鄼匩韌%5␗' - 0.99989057\n",
      "Best fitness at generation 620: '侹Ĥ웮ầ迒勴頰%5␄' - 0.99989034\n",
      "Best fitness at generation 621: '侪￫웷ả鄼匩頰%5⌲' - 0.99988775\n",
      "Best fitness at generation 622: '侹Ĥ웮ẛ进匩頰%8⋐' - 0.99988651\n",
      "Best fitness at generation 623: '侹Ĥ웮ẛ进劗頰%8⋐' - 0.99988651\n",
      "Best fitness at generation 624: '偤Ă웮ầ进勴頰%5⊵' - 0.99988616\n",
      "Best fitness at generation 625: '侃￣웮ẛ进勴頰%5≬' - 0.99988520\n",
      "Best fitness at generation 626: '侹Ĥ욨ṓ进勴頰%5⇃' - 0.99988293\n",
      "Best fitness at generation 627: '侹Ĥ욨ṓ进勴顼%5ⅱ' - 0.99988180\n",
      "Best fitness at generation 628: '侹Ʈ욨ṓ进勴頰%5℘' - 0.99988054\n",
      "Best fitness at generation 629: '侪￣웷ẚ逜勿頰%5₩' - 0.99987893\n",
      "Best fitness at generation 630: '侹Ĥ욑ṓ进勇頰%5\\u206d' - 0.99987805\n",
      "Best fitness at generation 631: '侹ò웮ḹ进勴顢%5ῳ' - 0.99987621\n",
      "Best fitness at generation 632: '侹á웮ḹ逕勴顢%5ῳ' - 0.99987621\n",
      "Best fitness at generation 633: '倶Ʈ욨ṓ轟勇頰%5ῆ' - 0.99987551\n",
      "Best fitness at generation 634: '倶Ʈ욨ṓ轟勇頰%5Ὑ' - 0.99987380\n",
      "Best fitness at generation 635: '低ò웮ḹ进勇頰%5Ὑ' - 0.99987380\n",
      "Best fitness at generation 636: '侲Ŷ웈ṙ进勴頰%5Ẁ' - 0.99987025\n",
      "Best fitness at generation 637: '俞ò잼ṙ进卵頰%5ṁ' - 0.99986918\n",
      "Best fitness at generation 638: '俞ò잼ṙ辌勴頰%5᷽' - 0.99986800\n",
      "Best fitness at generation 639: '俞ò잼ṙ进卵頰%5ᶒ' - 0.99986611\n",
      "Best fitness at generation 640: '侦Ʈ욨Ả进勥靫%5ᶑ' - 0.99986610\n",
      "Best fitness at generation 641: '傣ò잼Ḋ轃台頰%5ᴔ' - 0.99986382\n",
      "Best fitness at generation 642: '俜¨잼ṙ轃台頰%5ᴔ' - 0.99986382\n",
      "Best fitness at generation 643: '侲Ŷ웈ṙ轃台頰%5\\u1caf' - 0.99986192\n",
      "Best fitness at generation 644: '俞ò읓ᷔ进台頰%5ᱱ' - 0.99986072\n",
      "Best fitness at generation 645: '俞Ə읓ᷔ进台韛%5ᱱ' - 0.99986072\n",
      "Best fitness at generation 646: '傣~잼Ḋ轃厞頰%5᮷' - 0.99985702\n",
      "Best fitness at generation 647: '俞ò쟭ᷔ进台頰%5᮷' - 0.99985702\n",
      "Best fitness at generation 648: '傣~잼Ḋ轃厞頰%5᭝' - 0.99985516\n",
      "Best fitness at generation 649: '俞~잼Ḋ載厞頰%5ᬂ' - 0.99985322\n",
      "Best fitness at generation 650: '傣~잼Ḋ轃厞頰%5ᨣ' - 0.99984825\n",
      "Best fitness at generation 651: '侲~잼Ḋ轃厞頰%5ᨣ' - 0.99984825\n",
      "Best fitness at generation 652: '傣~잼ᶶ轃厞頰%5\\u193e' - 0.99984279\n",
      "Best fitness at generation 653: '傣~잼ᶶ軽厞顅%5\\u193e' - 0.99984279\n",
      "Best fitness at generation 654: '傳~잼Ḋ轃厞頰%5\\u18ff' - 0.99984122\n",
      "Best fitness at generation 655: '位ĕ잼ḧ軛厞頰%5ᢽ' - 0.99983954\n",
      "Best fitness at generation 656: '傣ĕ잼ḧ軛厞頰%5ᢽ' - 0.99983954\n",
      "Best fitness at generation 657: '你ĕ쟌ᶱ載卥頰%5ᢱ' - 0.99983923\n",
      "Best fitness at generation 658: '傣y윮ᵴ軛句頰%5᠄' - 0.99983463\n",
      "Best fitness at generation 659: '傣y윮ᵴ軛句頰%5᠄' - 0.99983463\n",
      "Best fitness at generation 660: '傳p윮ᵴ軛吮頰%5៤' - 0.99983375\n",
      "Best fitness at generation 661: '僫y윮Ṩ躪句顆%5\\u177b' - 0.99983080\n",
      "Best fitness at generation 662: '傣y잼ḧ軛勣飯%5ᛣ' - 0.99982633\n",
      "Best fitness at generation 663: '兊y윮Ṩ躪句顆%5ᛠ' - 0.99982624\n",
      "Best fitness at generation 664: '兊Ē읗ᵴ軛呚頰%5ᙬ' - 0.99982266\n",
      "Best fitness at generation 665: '兊)윮Ṩ躪句顆%5ᙝ' - 0.99982219\n",
      "Best fitness at generation 666: '傣Ē윜ᵴ軛味頰%5ᘁ' - 0.99981923\n",
      "Best fitness at generation 667: '傊Ē읗Ṩ躪句頰%5ᗦ' - 0.99981835\n",
      "Best fitness at generation 668: '僠ë읗ᵴ軛味頰%5ᗂ' - 0.99981715\n",
      "Best fitness at generation 669: '僠ë읗ᵴ軛哯頰%5ᕇ' - 0.99981294\n",
      "Best fitness at generation 670: '傊Ē읗Ṩ躪句頰%5ᒻ' - 0.99980791\n",
      "Best fitness at generation 671: '傊Ē읗Ṩ躪句頰%1ᒒ' - 0.99980639\n",
      "Best fitness at generation 672: '傊Ē읗Ṩ躪句韠%5ᐮ' - 0.99980257\n",
      "Best fitness at generation 673: '兖Ē쟋Ứ躪句頰%5ᐮ' - 0.99980257\n",
      "Best fitness at generation 674: '傊¶읗Ṩ躪句頰%5Ꮪ' - 0.99979924\n",
      "Best fitness at generation 675: '儛Ē읗Ṩ躪句頰%5ጲ' - 0.99979223\n",
      "Best fitness at generation 676: '傊Ē읗Ṩ躪句頰%5ጲ' - 0.99979223\n",
      "Best fitness at generation 677: '儛Ē윘Ṩ躪句頰%5ጕ' - 0.99979097\n",
      "Best fitness at generation 678: '儛Ē윦Ṩ躪叆颩%5ቖ' - 0.99978228\n",
      "Best fitness at generation 679: '儛Ē윦Ṩ躪句頰%5ቖ' - 0.99978228\n",
      "Best fitness at generation 680: '偯Ã읋ᶔ躪叆颩%5ᇖ' - 0.99977604\n",
      "Best fitness at generation 681: '儛Ã읋ᶔ蹰叆颏%5ᆙ' - 0.99977293\n",
      "Best fitness at generation 682: '偯Ã읋ᶔ転厇颩%5ᆊ' - 0.99977216\n",
      "Best fitness at generation 683: '偯Ã읋ᴽ躮吉颏%5ᄺ' - 0.99976793\n",
      "Best fitness at generation 684: '儛Ô윴Ṩ農叆颩%5Ⴤ' - 0.99976139\n",
      "Best fitness at generation 685: '侳Ã읋ᴽ躮吉颏%5Ⴤ' - 0.99976139\n",
      "Best fitness at generation 686: '儛Ô잺Ṩ躪叆颩%5Ⴋ' - 0.99975996\n",
      "Best fitness at generation 687: '儛e잺Ṩ躱叆颩%5ႍ' - 0.99975822\n",
      "Best fitness at generation 688: '偯ǔ쟀ᴽ躪叆颩%5ႆ' - 0.99975781\n",
      "Best fitness at generation 689: '傏D잺Ṩ蹇吇颏%Cည' - 0.99975031\n",
      "Best fitness at generation 690: '偯ﾹ쟄Ṩ躪勿颩%5ྃ' - 0.99974160\n",
      "Best fitness at generation 691: '倔ǔ쟀Ầ躪勿顱%5ྃ' - 0.99974160\n",
      "Best fitness at generation 692: '倔ǔ쟀ᴽ車吴颩%5ཚ' - 0.99973884\n",
      "Best fitness at generation 693: '偯ﾹ쟄Ṩ躪吴颩%5ຳ' - 0.99972693\n",
      "Best fitness at generation 694: '偯\\x9e쟄᷆車吴颩%5ใ' - 0.99971831\n",
      "Best fitness at generation 695: '偯ﾹ쟄Ṩ躪吴颩%5ใ' - 0.99971831\n",
      "Best fitness at generation 696: '倔Ɲ쟀ᵵ車吴颩%5൯' - 0.99970042\n",
      "Best fitness at generation 697: '倔Ɲ쟀ᵵ車吴颩%5൯' - 0.99970042\n",
      "Best fitness at generation 698: '俦Ɲ쟀ᵵ輧吴颩%5൯' - 0.99970042\n",
      "Best fitness at generation 699: '偆ƹ졉ᴽ車吴颩%5\\u0cf8' - 0.99968934\n",
      "Best fitness at generation 700: '偃Ｎ쟄ᵵ車吴颩%5್' - 0.99968514\n",
      "Best fitness at generation 701: '倔ƛ쟀ᵵ軈吴鞩%5ಒ' - 0.99967918\n",
      "Best fitness at generation 702: '傁ƹ좣ᴽ車吴鞩%5௹' - 0.99966262\n",
      "Best fitness at generation 703: '傁ƹ좣ᴛ車咅鞩%5ஓ' - 0.99965059\n",
      "Best fitness at generation 704: '俗Ɲ쟀\\u1ccb躍咅鞩%5ஓ' - 0.99965059\n",
      "Best fitness at generation 705: '俗ƹ좣ᴛ車咅鞩%5\\u0b00' - 0.99963168\n",
      "Best fitness at generation 706: '倔ȗ좣ᴛ車咅鞩%5ો' - 0.99962434\n",
      "Best fitness at generation 707: '僩Ť좣ᱮ車咅韰%5ੳ' - 0.99961150\n",
      "Best fitness at generation 708: '僩Ť줎ᱮ車咅韰%5ੳ' - 0.99961150\n",
      "Best fitness at generation 709: '僜Ť좣ᴛ車呤韰%5ਨ' - 0.99959984\n",
      "Best fitness at generation 710: '僩Ť좣ᱮ軯吪韰%5९' - 0.99956785\n",
      "Best fitness at generation 711: '僜Ť좣ᴛ車呤韰%5९' - 0.99956785\n",
      "Best fitness at generation 712: '僩S좣ᱮ車咅韜%5न' - 0.99955417\n",
      "Best fitness at generation 713: '僩S죗ᱮ車咅韜%5\\u0864' - 0.99951148\n",
      "Best fitness at generation 714: '偣:쥧ᱮ車哖韜%5࠰' - 0.99949875\n",
      "Best fitness at generation 715: '俊Ǚ죴ᴛ車哐韰%5߹' - 0.99948454\n",
      "Best fitness at generation 716: '僩\\x1a죗ᴛ車咅韜%5߬' - 0.99948106\n",
      "Best fitness at generation 717: '俊Ǚ죴ᶣ車哐韰%5ޗ' - 0.99945711\n",
      "Best fitness at generation 718: '倥:죴ᴛ車咅韞%5ۧ' - 0.99939976\n",
      "Best fitness at generation 719: '俊S좥ᴛ車咅韞%5ۧ' - 0.99939976\n",
      "Best fitness at generation 720: '俊S좥ᴛ車咅韞%5ۧ' - 0.99939976\n",
      "Best fitness at generation 721: '俊Ǚ줚ᶶ車唫须%5ڕ' - 0.99936869\n",
      "Best fitness at generation 722: '俳Ǚ죴ᶶ車唫须%5ڕ' - 0.99936869\n",
      "Best fitness at generation 723: '佹S죴ᶶ車唫须%5س' - 0.99932705\n",
      "Best fitness at generation 724: '佹Ã죴᳴車周须%5ח' - 0.99928264\n",
      "Best fitness at generation 725: '倘Ǚ죏᳞蹲唫须%5ը' - 0.99922058\n",
      "Best fitness at generation 726: '佹ﾛ죴ᴪ轇咎鞃%2Ԙ' - 0.99916874\n",
      "Best fitness at generation 727: '侁ﾛ죴ᵍ轇咎鞃%2ѥ' - 0.99902344\n",
      "Best fitness at generation 728: '佹S죴ᴪ轇哐鞃%2К' - 0.99894626\n",
      "Best fitness at generation 729: '佹\\uffff죴ᴪ轇哐鞃%2К' - 0.99894626\n",
      "Best fitness at generation 730: '佹S죴ᴪ连咐鞃%2ό' - 0.99885189\n",
      "Best fitness at generation 731: '佹S죴ᴪ轇咐鞃%2ό' - 0.99885189\n",
      "Best fitness at generation 732: '侟¨죴ᴪ轇哐鞃%2̮' - 0.99859748\n",
      "Best fitness at generation 733: '侟¨죴ᴪ转哐鞃%2̮' - 0.99859748\n",
      "Best fitness at generation 734: '侟¨죱ᴪ轇哐鞃%2˱' - 0.99846626\n",
      "Best fitness at generation 735: '佧\\x8d줱\\u1cb3軖咎鞃%2ʙ' - 0.99822695\n",
      "Best fitness at generation 736: '俗¨죴ᳲ轇咎鞃%2ʙ' - 0.99822695\n",
      "Best fitness at generation 737: '佧\\x8d좻ᵰ軖咐零%2Ȁ' - 0.99756691\n",
      "Best fitness at generation 738: '佧\\x8d줱\\u1cb3軖咎鞃%2Ǵ' - 0.99749373\n",
      "Best fitness at generation 739: '他¥쥖ᲅ軖咐零%2ń' - 0.99551570\n",
      "Best fitness at generation 740: '亴¿쥖ᲅ轐咐隭%2à' - 0.99186992\n",
      "Best fitness at generation 741: '以ß쥖ᲅ轐咆隭%2à' - 0.99186992\n",
      "Best fitness at generation 742: '他¥줩ᲅ軖咐零%eÉ' - 0.99000000\n",
      "Best fitness at generation 743: '予ß쥇᳗轐咆隭%2A' - 0.00000000\n",
      "Best individual: '予ß쥇᳗轐咆隭%2A', fitness 0.0000000000\n"
     ]
    }
   ],
   "source": [
    "genetic_algorithm()"
   ]
  },
  {
   "cell_type": "markdown",
   "metadata": {
    "button": false,
    "new_sheet": true,
    "run_control": {
     "read_only": false
    },
    "slideshow": {
     "slide_type": "slide"
    }
   },
   "source": [
    "## Lessons Learned\n",
    "\n",
    "* A meta-heuristic search problem consists of an algorithm, a representation, and a fitness function.\n",
    "* For test generation, fitness functions typically estimate how close an execution comes to a target location. To determine this distance, we use instrumentation to calculate the distance during test execution.\n",
    "* Local search algorithms like hillcimbing work well when the neighbourhood is well defined and not too large.\n",
    "* Global search algorithms like genetic algorithms are very flexible and scale up well to larger test problems."
   ]
  },
  {
   "cell_type": "markdown",
   "metadata": {
    "button": false,
    "new_sheet": false,
    "run_control": {
     "read_only": false
    },
    "slideshow": {
     "slide_type": "slide"
    }
   },
   "source": [
    "## Next Steps\n",
    "\n",
    "In this chapter we looked at rather simple program inputs. We can apply the same search algorithms also to evolve complex test inputs\n",
    "\n",
    "* [e.g. for web fuzzing](WebFuzzer.ipynb)"
   ]
  },
  {
   "cell_type": "markdown",
   "metadata": {
    "slideshow": {
     "slide_type": "slide"
    },
    "solution2": "hidden",
    "solution2_first": true
   },
   "source": [
    "## Background\n",
    "\n",
    "The targets of the search are typically related to coverage. For discussions, see the books in the [Introduction to Testing](Intro_Testing.ipynb)."
   ]
  },
  {
   "cell_type": "markdown",
   "metadata": {
    "slideshow": {
     "slide_type": "skip"
    },
    "solution2": "hidden"
   },
   "source": [
    "**Solution.** _Some text for the solution_"
   ]
  },
  {
   "cell_type": "code",
   "execution_count": 106,
   "metadata": {
    "cell_style": "split",
    "slideshow": {
     "slide_type": "skip"
    },
    "solution2": "hidden"
   },
   "outputs": [],
   "source": [
    "# def hillclimber():\n",
    "#     # Create and evaluate starting point\n",
    "#     x, y = random.randint(MIN, MAX), random.randint(MIN, MAX)\n",
    "#     fitness = get_fitness(x, y)\n",
    "#     print(\"Initial value: %d, %d at fitness %.4f\" % (x, y, fitness))\n",
    "#     iterations = 0\n",
    "\n",
    "#     # Stop once we have found an optimal solution\n",
    "#     while fitness > 0:\n",
    "#         iterations += 1\n",
    "#         # Move to first neighbour with a better fitness\n",
    "#         for (nextx, nexty) in neighbours(x, y):\n",
    "#             new_fitness = get_fitness(nextx, nexty)\n",
    "#             if new_fitness < fitness:\n",
    "#                 x, y = nextx, nexty\n",
    "#                 fitness = new_fitness\n",
    "#                 changed = True\n",
    "#                 print(\"New value: %d, %d at fitness %.4f\" % (x, y, fitness))\n",
    "#                 break\n",
    "\n",
    "#     print(\"Found optimum after %d iterations at %d, %d\" % (iterations, x, y))"
   ]
  },
  {
   "cell_type": "code",
   "execution_count": 107,
   "metadata": {
    "cell_style": "split",
    "slideshow": {
     "slide_type": "skip"
    },
    "solution2": "hidden"
   },
   "outputs": [],
   "source": [
    "# hillclimber()"
   ]
  },
  {
   "cell_type": "markdown",
   "metadata": {
    "slideshow": {
     "slide_type": "skip"
    },
    "solution2": "hidden"
   },
   "source": [
    "_Some more text for the solution_"
   ]
  }
 ],
 "metadata": {
  "ipub": {
   "bibliography": "fuzzingbook.bib",
   "toc": true
  },
  "kernelspec": {
   "display_name": "Python 3",
   "language": "python",
   "name": "python3"
  },
  "language_info": {
   "codemirror_mode": {
    "name": "ipython",
    "version": 3
   },
   "file_extension": ".py",
   "mimetype": "text/x-python",
   "name": "python",
   "nbconvert_exporter": "python",
   "pygments_lexer": "ipython3",
   "version": "3.6.6"
  },
  "toc": {
   "base_numbering": 1,
   "nav_menu": {},
   "number_sections": true,
   "sideBar": true,
   "skip_h1_title": true,
   "title_cell": "",
   "title_sidebar": "Contents",
   "toc_cell": false,
   "toc_position": {},
   "toc_section_display": true,
   "toc_window_display": true
  },
  "toc-autonumbering": false,
  "varInspector": {
   "cols": {
    "lenName": 16,
    "lenType": 16,
    "lenVar": 40
   },
   "kernels_config": {
    "python": {
     "delete_cmd_postfix": "",
     "delete_cmd_prefix": "del ",
     "library": "var_list.py",
     "varRefreshCmd": "print(var_dic_list())"
    },
    "r": {
     "delete_cmd_postfix": ") ",
     "delete_cmd_prefix": "rm(",
     "library": "var_list.r",
     "varRefreshCmd": "cat(var_dic_list()) "
    }
   },
   "types_to_exclude": [
    "module",
    "function",
    "builtin_function_or_method",
    "instance",
    "_Feature"
   ],
   "window_display": false
  }
 },
 "nbformat": 4,
 "nbformat_minor": 2
}
