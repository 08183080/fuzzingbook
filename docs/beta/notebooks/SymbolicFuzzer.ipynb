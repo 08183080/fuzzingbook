{
 "cells": [
  {
   "cell_type": "markdown",
   "metadata": {
    "button": false,
    "new_sheet": false,
    "run_control": {
     "read_only": false
    },
    "slideshow": {
     "slide_type": "slide"
    }
   },
   "source": [
    "# Symbolic Fuzzing\n",
    "\n",
    "One of the problems with traditional methods of fuzzing is that they fail to penetrate deeply into the program. Quite often the execution of a specific branch of execution may happen only with very specific inputs, which could represent an extremely small fraction of the input space. The traditional fuzzing methods relies on chance to produce inputs they need. However, relying on randomness to generate values that we want is a bad idea when the space to be explored is huge. For example, a function that accepts a string, even if one only considers the first $10$ characters, already has $2^{80}$ possible inputs. If one is looking for a specific string, random generation of values will take a few thousand years even in one of the super computers.\n",
    "\n",
    "Symbolic execution is a way out of this problem. A program is a computation that can be treated as a system of equations that obtains the output values from the given inputs. Executing the program symbolically -- that is, solving these mathematically -- along with any specified objective such as covering a particular branch or obtaining a particular output will get us inputs that can accomplish this task. Unfortunately, symbolic execution can rapidly become unwieldy as the paths through the program increases. A practical alternative is called *Concolic* execution, which combines symbolic and concrete execution, with concrete execution guiding symbolic execution through a path through the program.\n",
    "\n",
    "In this chapter, we investigate how **concolic execution** can be implemented, and how it can be used to obtain interesting values for fuzzing."
   ]
  },
  {
   "cell_type": "markdown",
   "metadata": {
    "button": false,
    "new_sheet": false,
    "run_control": {
     "read_only": false
    },
    "slideshow": {
     "slide_type": "subslide"
    }
   },
   "source": [
    "**Prerequisites**\n",
    "\n",
    "* You should have read the [chapter on coverage](Coverage.ipynb).\n",
    "* Some knowledge of inheritance in Python is required.\n",
    "* A familiarity with the [chapter on search based fuzzing](SearchBasedFuzzer.ipynb) would be useful.\n",
    "* A familiarity with the basic idea of [SMT solvers](https://en.wikipedia.org/wiki/Satisfiability_modulo_theories) would be useful."
   ]
  },
  {
   "cell_type": "markdown",
   "metadata": {
    "slideshow": {
     "slide_type": "slide"
    }
   },
   "source": [
    "## Using symbolic variables to obtain path conditions for coverage"
   ]
  },
  {
   "cell_type": "markdown",
   "metadata": {
    "slideshow": {
     "slide_type": "fragment"
    }
   },
   "source": [
    "In the chapter on [parsing and recombining inputs](SearchBasedFuzzer.ipynb), we saw how difficult it was to generate inputs for `process_vehicle()` -- a simple function that accepts a string. The solution given there was to rely on preexisting sample inputs. However, this solution is inadequate as it assumes the existence of sample inputs. What if there are no sample inputs at hand?\n",
    "\n",
    "For a simpler example, let us consider the following function. Can we generate inputs to cover all the paths?"
   ]
  },
  {
   "cell_type": "code",
   "execution_count": 1,
   "metadata": {
    "slideshow": {
     "slide_type": "subslide"
    }
   },
   "outputs": [],
   "source": [
    "def check_triangle(a, b, c):\n",
    "    if a == b:\n",
    "        if a == c:\n",
    "            if b == c:\n",
    "                return \"Equilateral\"\n",
    "            else:\n",
    "                return \"Isosceles\"\n",
    "        else:\n",
    "            return \"Isosceles\"\n",
    "    else:\n",
    "        if b != c:\n",
    "            if a == c:\n",
    "                return \"Isosceles\"\n",
    "            else:\n",
    "                return \"Scalene\"\n",
    "        else:\n",
    "            return \"Isosceles\""
   ]
  },
  {
   "cell_type": "markdown",
   "metadata": {
    "slideshow": {
     "slide_type": "subslide"
    }
   },
   "source": [
    "### The control flow graph"
   ]
  },
  {
   "cell_type": "markdown",
   "metadata": {
    "slideshow": {
     "slide_type": "fragment"
    }
   },
   "source": [
    "The control flow graph of this function can be represented as follows:"
   ]
  },
  {
   "cell_type": "code",
   "execution_count": 2,
   "metadata": {
    "slideshow": {
     "slide_type": "skip"
    }
   },
   "outputs": [],
   "source": [
    "import fuzzingbook_utils"
   ]
  },
  {
   "cell_type": "code",
   "execution_count": 3,
   "metadata": {
    "slideshow": {
     "slide_type": "skip"
    }
   },
   "outputs": [],
   "source": [
    "from ControlFlow import PyCFG, CFGNode, to_graph, gen_cfg"
   ]
  },
  {
   "cell_type": "code",
   "execution_count": 4,
   "metadata": {
    "slideshow": {
     "slide_type": "skip"
    }
   },
   "outputs": [],
   "source": [
    "import inspect"
   ]
  },
  {
   "cell_type": "code",
   "execution_count": 5,
   "metadata": {
    "slideshow": {
     "slide_type": "skip"
    }
   },
   "outputs": [],
   "source": [
    "from graphviz import Source, Graph"
   ]
  },
  {
   "cell_type": "code",
   "execution_count": 6,
   "metadata": {
    "slideshow": {
     "slide_type": "fragment"
    }
   },
   "outputs": [
    {
     "data": {
      "image/svg+xml": [
       "<?xml version=\"1.0\" encoding=\"UTF-8\" standalone=\"no\"?>\n",
       "<!DOCTYPE svg PUBLIC \"-//W3C//DTD SVG 1.1//EN\"\n",
       " \"http://www.w3.org/Graphics/SVG/1.1/DTD/svg11.dtd\">\n",
       "<!-- Generated by graphviz version 2.40.1 (20161225.0304)\n",
       " -->\n",
       "<!-- Title: %3 Pages: 1 -->\n",
       "<svg width=\"690pt\" height=\"486pt\"\n",
       " viewBox=\"0.00 0.00 689.90 486.00\" xmlns=\"http://www.w3.org/2000/svg\" xmlns:xlink=\"http://www.w3.org/1999/xlink\">\n",
       "<g id=\"graph0\" class=\"graph\" transform=\"scale(1 1) rotate(0) translate(4 482)\">\n",
       "<title>%3</title>\n",
       "<polygon fill=\"#ffffff\" stroke=\"transparent\" points=\"-4,4 -4,-482 685.897,-482 685.897,4 -4,4\"/>\n",
       "<!-- 1 -->\n",
       "<g id=\"node1\" class=\"node\">\n",
       "<title>1</title>\n",
       "<ellipse fill=\"none\" stroke=\"#000000\" cx=\"271.4502\" cy=\"-456\" rx=\"120.6851\" ry=\"18\"/>\n",
       "<ellipse fill=\"none\" stroke=\"#000000\" cx=\"271.4502\" cy=\"-456\" rx=\"124.6881\" ry=\"22\"/>\n",
       "<text text-anchor=\"middle\" x=\"271.4502\" y=\"-451.8\" font-family=\"Times,serif\" font-size=\"14.00\" fill=\"#000000\">1: enter: check_triangle(a, b, c)</text>\n",
       "</g>\n",
       "<!-- 3 -->\n",
       "<g id=\"node9\" class=\"node\">\n",
       "<title>3</title>\n",
       "<polygon fill=\"none\" stroke=\"#000000\" points=\"271.4502,-397 189.6854,-379 271.4502,-361 353.215,-379 271.4502,-397\"/>\n",
       "<text text-anchor=\"middle\" x=\"271.4502\" y=\"-374.8\" font-family=\"Times,serif\" font-size=\"14.00\" fill=\"#000000\">2: if: (a == b)</text>\n",
       "</g>\n",
       "<!-- 1&#45;&gt;3 -->\n",
       "<g id=\"edge7\" class=\"edge\">\n",
       "<title>1&#45;&gt;3</title>\n",
       "<path fill=\"none\" stroke=\"#000000\" d=\"M271.4502,-433.7284C271.4502,-425.4552 271.4502,-415.9583 271.4502,-407.2229\"/>\n",
       "<polygon fill=\"#000000\" stroke=\"#000000\" points=\"274.9503,-407.0789 271.4502,-397.0789 267.9503,-407.079 274.9503,-407.0789\"/>\n",
       "</g>\n",
       "<!-- 2 -->\n",
       "<g id=\"node2\" class=\"node\">\n",
       "<title>2</title>\n",
       "<ellipse fill=\"none\" stroke=\"#000000\" cx=\"360.4502\" cy=\"-22\" rx=\"116.3561\" ry=\"18\"/>\n",
       "<ellipse fill=\"none\" stroke=\"#000000\" cx=\"360.4502\" cy=\"-22\" rx=\"120.3621\" ry=\"22\"/>\n",
       "<text text-anchor=\"middle\" x=\"360.4502\" y=\"-17.8\" font-family=\"Times,serif\" font-size=\"14.00\" fill=\"#000000\">1: exit: check_triangle(a, b, c)</text>\n",
       "</g>\n",
       "<!-- 6 -->\n",
       "<g id=\"node3\" class=\"node\">\n",
       "<title>6</title>\n",
       "<polygon fill=\"none\" stroke=\"#000000\" points=\"215.2267,-117 81.6736,-117 81.6736,-81 215.2267,-81 215.2267,-117\"/>\n",
       "<text text-anchor=\"middle\" x=\"148.4502\" y=\"-94.8\" font-family=\"Times,serif\" font-size=\"14.00\" fill=\"#000000\">5: return &#39;Equilateral&#39;</text>\n",
       "</g>\n",
       "<!-- 6&#45;&gt;2 -->\n",
       "<g id=\"edge1\" class=\"edge\">\n",
       "<title>6&#45;&gt;2</title>\n",
       "<path fill=\"none\" stroke=\"#000000\" d=\"M198.1548,-80.9469C227.5462,-70.2717 265.0722,-56.642 296.6353,-45.1781\"/>\n",
       "<polygon fill=\"#000000\" stroke=\"#000000\" points=\"298.0193,-48.3991 306.2237,-41.6955 295.6296,-41.8197 298.0193,-48.3991\"/>\n",
       "</g>\n",
       "<!-- 7 -->\n",
       "<g id=\"node4\" class=\"node\">\n",
       "<title>7</title>\n",
       "<polygon fill=\"none\" stroke=\"#000000\" points=\"355.8506,-117 233.0498,-117 233.0498,-81 355.8506,-81 355.8506,-117\"/>\n",
       "<text text-anchor=\"middle\" x=\"294.4502\" y=\"-94.8\" font-family=\"Times,serif\" font-size=\"14.00\" fill=\"#000000\">7: return &#39;Isosceles&#39;</text>\n",
       "</g>\n",
       "<!-- 7&#45;&gt;2 -->\n",
       "<g id=\"edge2\" class=\"edge\">\n",
       "<title>7&#45;&gt;2</title>\n",
       "<path fill=\"none\" stroke=\"#000000\" d=\"M310.0913,-80.7521C317.5507,-72.0494 326.6645,-61.4166 335.0784,-51.6005\"/>\n",
       "<polygon fill=\"#000000\" stroke=\"#000000\" points=\"337.7805,-53.826 341.6311,-43.9556 332.4657,-49.2704 337.7805,-53.826\"/>\n",
       "</g>\n",
       "<!-- 8 -->\n",
       "<g id=\"node5\" class=\"node\">\n",
       "<title>8</title>\n",
       "<polygon fill=\"none\" stroke=\"#000000\" points=\"122.8506,-171 .0498,-171 .0498,-135 122.8506,-135 122.8506,-171\"/>\n",
       "<text text-anchor=\"middle\" x=\"61.4502\" y=\"-148.8\" font-family=\"Times,serif\" font-size=\"14.00\" fill=\"#000000\">9: return &#39;Isosceles&#39;</text>\n",
       "</g>\n",
       "<!-- 8&#45;&gt;2 -->\n",
       "<g id=\"edge3\" class=\"edge\">\n",
       "<title>8&#45;&gt;2</title>\n",
       "<path fill=\"none\" stroke=\"#000000\" d=\"M58.9294,-134.8546C57.7613,-118.6028 58.9451,-95.2044 72.4502,-81 95.9136,-56.3217 173.164,-41.3402 241.7547,-32.6518\"/>\n",
       "<polygon fill=\"#000000\" stroke=\"#000000\" points=\"242.3067,-36.1103 251.8044,-31.4151 241.4517,-29.1627 242.3067,-36.1103\"/>\n",
       "</g>\n",
       "<!-- 11 -->\n",
       "<g id=\"node6\" class=\"node\">\n",
       "<title>11</title>\n",
       "<polygon fill=\"none\" stroke=\"#000000\" points=\"541.3506,-117 411.5498,-117 411.5498,-81 541.3506,-81 541.3506,-117\"/>\n",
       "<text text-anchor=\"middle\" x=\"476.4502\" y=\"-94.8\" font-family=\"Times,serif\" font-size=\"14.00\" fill=\"#000000\">13: return &#39;Isosceles&#39;</text>\n",
       "</g>\n",
       "<!-- 11&#45;&gt;2 -->\n",
       "<g id=\"edge4\" class=\"edge\">\n",
       "<title>11&#45;&gt;2</title>\n",
       "<path fill=\"none\" stroke=\"#000000\" d=\"M449.2533,-80.9469C434.9019,-71.4205 417.0058,-59.5412 401.047,-48.9479\"/>\n",
       "<polygon fill=\"#000000\" stroke=\"#000000\" points=\"402.6824,-45.8325 392.4151,-43.2181 398.811,-51.6646 402.6824,-45.8325\"/>\n",
       "</g>\n",
       "<!-- 12 -->\n",
       "<g id=\"node7\" class=\"node\">\n",
       "<title>12</title>\n",
       "<polygon fill=\"none\" stroke=\"#000000\" points=\"681.8438,-117 559.0566,-117 559.0566,-81 681.8438,-81 681.8438,-117\"/>\n",
       "<text text-anchor=\"middle\" x=\"620.4502\" y=\"-94.8\" font-family=\"Times,serif\" font-size=\"14.00\" fill=\"#000000\">15: return &#39;Scalene&#39;</text>\n",
       "</g>\n",
       "<!-- 12&#45;&gt;2 -->\n",
       "<g id=\"edge5\" class=\"edge\">\n",
       "<title>12&#45;&gt;2</title>\n",
       "<path fill=\"none\" stroke=\"#000000\" d=\"M559.4917,-80.9469C521.7759,-69.7772 473.1378,-55.3729 433.383,-43.5993\"/>\n",
       "<polygon fill=\"#000000\" stroke=\"#000000\" points=\"434.3239,-40.2278 423.7416,-40.744 432.3361,-46.9396 434.3239,-40.2278\"/>\n",
       "</g>\n",
       "<!-- 13 -->\n",
       "<g id=\"node8\" class=\"node\">\n",
       "<title>13</title>\n",
       "<polygon fill=\"none\" stroke=\"#000000\" points=\"444.3506,-171 314.5498,-171 314.5498,-135 444.3506,-135 444.3506,-171\"/>\n",
       "<text text-anchor=\"middle\" x=\"379.4502\" y=\"-148.8\" font-family=\"Times,serif\" font-size=\"14.00\" fill=\"#000000\">17: return &#39;Isosceles&#39;</text>\n",
       "</g>\n",
       "<!-- 13&#45;&gt;2 -->\n",
       "<g id=\"edge6\" class=\"edge\">\n",
       "<title>13&#45;&gt;2</title>\n",
       "<path fill=\"none\" stroke=\"#000000\" d=\"M376.8083,-134.785C373.7971,-114.0236 368.8176,-79.6908 365.142,-54.3489\"/>\n",
       "<polygon fill=\"#000000\" stroke=\"#000000\" points=\"368.6048,-53.8393 363.7056,-44.4452 361.6773,-54.8441 368.6048,-53.8393\"/>\n",
       "</g>\n",
       "<!-- 4 -->\n",
       "<g id=\"node10\" class=\"node\">\n",
       "<title>4</title>\n",
       "<polygon fill=\"none\" stroke=\"#000000\" points=\"179.4502,-311 98.0897,-293 179.4502,-275 260.8107,-293 179.4502,-311\"/>\n",
       "<text text-anchor=\"middle\" x=\"179.4502\" y=\"-288.8\" font-family=\"Times,serif\" font-size=\"14.00\" fill=\"#000000\">3: if: (a == c)</text>\n",
       "</g>\n",
       "<!-- 3&#45;&gt;4 -->\n",
       "<g id=\"edge8\" class=\"edge\">\n",
       "<title>3&#45;&gt;4</title>\n",
       "<path fill=\"none\" stroke=\"#0000ff\" d=\"M255.8436,-364.4113C241.305,-350.8208 219.4347,-330.3768 202.8151,-314.8411\"/>\n",
       "<polygon fill=\"#0000ff\" stroke=\"#0000ff\" points=\"204.8287,-311.9323 195.1333,-307.6603 200.0485,-317.046 204.8287,-311.9323\"/>\n",
       "<text text-anchor=\"middle\" x=\"235.7261\" y=\"-331.8\" font-family=\"Times,serif\" font-size=\"14.00\" fill=\"#000000\">T</text>\n",
       "</g>\n",
       "<!-- 9 -->\n",
       "<g id=\"node12\" class=\"node\">\n",
       "<title>9</title>\n",
       "<polygon fill=\"none\" stroke=\"#000000\" points=\"378.4502,-311 293.8715,-293 378.4502,-275 463.0289,-293 378.4502,-311\"/>\n",
       "<text text-anchor=\"middle\" x=\"378.4502\" y=\"-288.8\" font-family=\"Times,serif\" font-size=\"14.00\" fill=\"#000000\">11: if: (b != c)</text>\n",
       "</g>\n",
       "<!-- 3&#45;&gt;9 -->\n",
       "<g id=\"edge13\" class=\"edge\">\n",
       "<title>3&#45;&gt;9</title>\n",
       "<path fill=\"none\" stroke=\"#ff0000\" d=\"M289.1191,-364.7988C306.3624,-350.9397 332.7964,-329.6937 352.4407,-313.9048\"/>\n",
       "<polygon fill=\"#ff0000\" stroke=\"#ff0000\" points=\"354.7956,-316.5025 360.3974,-307.5097 350.4103,-311.0464 354.7956,-316.5025\"/>\n",
       "<text text-anchor=\"middle\" x=\"334.3433\" y=\"-331.8\" font-family=\"Times,serif\" font-size=\"14.00\" fill=\"#000000\">F</text>\n",
       "</g>\n",
       "<!-- 4&#45;&gt;8 -->\n",
       "<g id=\"edge12\" class=\"edge\">\n",
       "<title>4&#45;&gt;8</title>\n",
       "<path fill=\"none\" stroke=\"#ff0000\" d=\"M155.1047,-280.0856C134.7762,-268.1957 106.3284,-248.8171 88.4502,-225 78.7121,-212.027 72.1355,-195.1486 67.9131,-180.9947\"/>\n",
       "<polygon fill=\"#ff0000\" stroke=\"#ff0000\" points=\"71.2647,-179.9821 65.2431,-171.2649 64.5143,-181.8346 71.2647,-179.9821\"/>\n",
       "<text text-anchor=\"middle\" x=\"124.3433\" y=\"-245.8\" font-family=\"Times,serif\" font-size=\"14.00\" fill=\"#000000\">F</text>\n",
       "</g>\n",
       "<!-- 5 -->\n",
       "<g id=\"node11\" class=\"node\">\n",
       "<title>5</title>\n",
       "<polygon fill=\"none\" stroke=\"#000000\" points=\"179.4502,-225 97.6854,-207 179.4502,-189 261.215,-207 179.4502,-225\"/>\n",
       "<text text-anchor=\"middle\" x=\"179.4502\" y=\"-202.8\" font-family=\"Times,serif\" font-size=\"14.00\" fill=\"#000000\">4: if: (b == c)</text>\n",
       "</g>\n",
       "<!-- 4&#45;&gt;5 -->\n",
       "<g id=\"edge9\" class=\"edge\">\n",
       "<title>4&#45;&gt;5</title>\n",
       "<path fill=\"none\" stroke=\"#0000ff\" d=\"M179.4502,-274.7616C179.4502,-263.3597 179.4502,-248.4342 179.4502,-235.494\"/>\n",
       "<polygon fill=\"#0000ff\" stroke=\"#0000ff\" points=\"182.9503,-235.2121 179.4502,-225.2121 175.9503,-235.2121 182.9503,-235.2121\"/>\n",
       "<text text-anchor=\"middle\" x=\"183.7261\" y=\"-245.8\" font-family=\"Times,serif\" font-size=\"14.00\" fill=\"#000000\">T</text>\n",
       "</g>\n",
       "<!-- 5&#45;&gt;6 -->\n",
       "<g id=\"edge10\" class=\"edge\">\n",
       "<title>5&#45;&gt;6</title>\n",
       "<path fill=\"none\" stroke=\"#0000ff\" d=\"M174.4695,-189.6479C169.6016,-172.6887 162.1126,-146.5982 156.4169,-126.7551\"/>\n",
       "<polygon fill=\"#0000ff\" stroke=\"#0000ff\" points=\"159.7485,-125.6755 153.6253,-117.0293 153.0201,-127.6068 159.7485,-125.6755\"/>\n",
       "<text text-anchor=\"middle\" x=\"173.7261\" y=\"-148.8\" font-family=\"Times,serif\" font-size=\"14.00\" fill=\"#000000\">T</text>\n",
       "</g>\n",
       "<!-- 5&#45;&gt;7 -->\n",
       "<g id=\"edge11\" class=\"edge\">\n",
       "<title>5&#45;&gt;7</title>\n",
       "<path fill=\"none\" stroke=\"#ff0000\" d=\"M195.4405,-191.9831C214.1005,-174.4588 245.2492,-145.2061 267.6294,-124.1882\"/>\n",
       "<polygon fill=\"#ff0000\" stroke=\"#ff0000\" points=\"270.2516,-126.5271 275.1451,-117.13 265.4596,-121.4245 270.2516,-126.5271\"/>\n",
       "<text text-anchor=\"middle\" x=\"258.3433\" y=\"-148.8\" font-family=\"Times,serif\" font-size=\"14.00\" fill=\"#000000\">F</text>\n",
       "</g>\n",
       "<!-- 9&#45;&gt;13 -->\n",
       "<g id=\"edge17\" class=\"edge\">\n",
       "<title>9&#45;&gt;13</title>\n",
       "<path fill=\"none\" stroke=\"#ff0000\" d=\"M378.5789,-274.9841C378.7475,-251.3829 379.0451,-209.7198 379.2449,-181.7374\"/>\n",
       "<polygon fill=\"#ff0000\" stroke=\"#ff0000\" points=\"382.7472,-181.4161 379.3188,-171.3914 375.7474,-181.3661 382.7472,-181.4161\"/>\n",
       "<text text-anchor=\"middle\" x=\"382.3433\" y=\"-245.8\" font-family=\"Times,serif\" font-size=\"14.00\" fill=\"#000000\">F</text>\n",
       "</g>\n",
       "<!-- 10 -->\n",
       "<g id=\"node13\" class=\"node\">\n",
       "<title>10</title>\n",
       "<polygon fill=\"none\" stroke=\"#000000\" points=\"493.4502,-225 406.0835,-207 493.4502,-189 580.8169,-207 493.4502,-225\"/>\n",
       "<text text-anchor=\"middle\" x=\"493.4502\" y=\"-202.8\" font-family=\"Times,serif\" font-size=\"14.00\" fill=\"#000000\">12: if: (a == c)</text>\n",
       "</g>\n",
       "<!-- 9&#45;&gt;10 -->\n",
       "<g id=\"edge14\" class=\"edge\">\n",
       "<title>9&#45;&gt;10</title>\n",
       "<path fill=\"none\" stroke=\"#0000ff\" d=\"M397.4401,-278.7988C416.1675,-264.794 444.9816,-243.2461 466.1597,-227.4086\"/>\n",
       "<polygon fill=\"#0000ff\" stroke=\"#0000ff\" points=\"468.5198,-230.0141 474.4321,-221.2222 464.3276,-224.4082 468.5198,-230.0141\"/>\n",
       "<text text-anchor=\"middle\" x=\"446.7261\" y=\"-245.8\" font-family=\"Times,serif\" font-size=\"14.00\" fill=\"#000000\">T</text>\n",
       "</g>\n",
       "<!-- 10&#45;&gt;11 -->\n",
       "<g id=\"edge15\" class=\"edge\">\n",
       "<title>10&#45;&gt;11</title>\n",
       "<path fill=\"none\" stroke=\"#0000ff\" d=\"M490.643,-189.166C487.989,-172.3054 483.9647,-146.739 480.8782,-127.131\"/>\n",
       "<polygon fill=\"#0000ff\" stroke=\"#0000ff\" points=\"484.3308,-126.5556 479.3184,-117.2215 477.416,-127.6441 484.3308,-126.5556\"/>\n",
       "<text text-anchor=\"middle\" x=\"491.7261\" y=\"-148.8\" font-family=\"Times,serif\" font-size=\"14.00\" fill=\"#000000\">T</text>\n",
       "</g>\n",
       "<!-- 10&#45;&gt;12 -->\n",
       "<g id=\"edge16\" class=\"edge\">\n",
       "<title>10&#45;&gt;12</title>\n",
       "<path fill=\"none\" stroke=\"#ff0000\" d=\"M510.578,-192.4346C531.2278,-174.8741 566.2635,-145.0801 591.2185,-123.8584\"/>\n",
       "<polygon fill=\"#ff0000\" stroke=\"#ff0000\" points=\"593.585,-126.4404 598.9356,-117.2959 589.0502,-121.1079 593.585,-126.4404\"/>\n",
       "<text text-anchor=\"middle\" x=\"579.3433\" y=\"-148.8\" font-family=\"Times,serif\" font-size=\"14.00\" fill=\"#000000\">F</text>\n",
       "</g>\n",
       "</g>\n",
       "</svg>\n"
      ],
      "text/plain": [
       "<graphviz.files.Source at 0x1058d03c8>"
      ]
     },
     "execution_count": 6,
     "metadata": {},
     "output_type": "execute_result"
    }
   ],
   "source": [
    "Source(to_graph(gen_cfg(inspect.getsource(check_triangle))))"
   ]
  },
  {
   "cell_type": "markdown",
   "metadata": {
    "slideshow": {
     "slide_type": "fragment"
    }
   },
   "source": [
    "The possible execution paths traced by the program can be represented as follows, with the numbers indicating the specific line numbers executed."
   ]
  },
  {
   "cell_type": "code",
   "execution_count": 7,
   "metadata": {
    "slideshow": {
     "slide_type": "subslide"
    }
   },
   "outputs": [],
   "source": [
    "paths = {\n",
    "    '<path 1>': ([1, 2, 3, 4, 5], 'Equilateral'),\n",
    "    '<path 2>': ([1, 2, 3, 4, 7], 'Isosceles'),\n",
    "    '<path 3>': ([1, 2, 3, 9], 'Isosceles'),\n",
    "    '<path 4>': ([1, 2, 11, 12, 13], 'Isosceles'),\n",
    "    '<path 5>': ([1, 2, 11, 12, 15], 'Scalene'),\n",
    "    '<path 6>': ([1, 2, 11, 17], 'Isosceles'),\n",
    "}"
   ]
  },
  {
   "cell_type": "markdown",
   "metadata": {
    "slideshow": {
     "slide_type": "fragment"
    }
   },
   "source": [
    "Consider the `<path 1>`. To trace this path, we need to execute the following statements in order."
   ]
  },
  {
   "cell_type": "markdown",
   "metadata": {
    "slideshow": {
     "slide_type": "subslide"
    }
   },
   "source": [
    "```python\n",
    "1: check_triangle(a, b, c)\n",
    "2: if (a == b) -> True\n",
    "3: if (a == c) -> True\n",
    "4: if (b == c) -> True\n",
    "5: return 'Equilateral'\n",
    "```"
   ]
  },
  {
   "cell_type": "markdown",
   "metadata": {
    "slideshow": {
     "slide_type": "fragment"
    }
   },
   "source": [
    "That is, any execution that traces this path has to start with values for `a`, `b`, and `c` that obeys the constraints in line numbers `2: (a == b)` evaluates to `True`, `3: (a == c)` evaluates to `True`, and `4: (b == c)` evaluates to `True`. Can we generate inputs such that these constraints are satisfied?"
   ]
  },
  {
   "cell_type": "markdown",
   "metadata": {
    "slideshow": {
     "slide_type": "subslide"
    }
   },
   "source": [
    "One of the ways to solve such constraints is to use an [SMT solver](https://en.wikipedia.org/wiki/Satisfiability_modulo_theories) such as [z3](http://theory.stanford.edu/~nikolaj/programmingz3.html). Here is how one would go about solving the set of equations using *z3*."
   ]
  },
  {
   "cell_type": "code",
   "execution_count": 8,
   "metadata": {
    "slideshow": {
     "slide_type": "skip"
    }
   },
   "outputs": [],
   "source": [
    "import z3"
   ]
  },
  {
   "cell_type": "markdown",
   "metadata": {
    "slideshow": {
     "slide_type": "fragment"
    }
   },
   "source": [
    "First, we declare a set of variables as symbolic integers using *z3*.\n",
    "\n",
    "*A symbolic variable can be thought of as a sort of placeholder for the real variable, sort of like the `x` in solving for `x` in Algebra. We identify what conditions the variable is supposed to obey, and finally produce a value that obeys all*"
   ]
  },
  {
   "cell_type": "code",
   "execution_count": 9,
   "metadata": {
    "slideshow": {
     "slide_type": "fragment"
    }
   },
   "outputs": [],
   "source": [
    "a, b, c = z3.Int('a'), z3.Int('b'), z3.Int('c')"
   ]
  },
  {
   "cell_type": "markdown",
   "metadata": {
    "slideshow": {
     "slide_type": "fragment"
    }
   },
   "source": [
    "We can now ask *z3* to solve the set of equations for us as follows."
   ]
  },
  {
   "cell_type": "code",
   "execution_count": 10,
   "metadata": {
    "slideshow": {
     "slide_type": "subslide"
    }
   },
   "outputs": [
    {
     "name": "stdout",
     "output_type": "stream",
     "text": [
      "[a = 0, b = 0, c = 0]\n"
     ]
    }
   ],
   "source": [
    "z3.solve(a == b, a == c, b == c)"
   ]
  },
  {
   "cell_type": "markdown",
   "metadata": {
    "slideshow": {
     "slide_type": "fragment"
    }
   },
   "source": [
    "Here we find the first problem in our program. Our program seems to not check whether the sides are greater than zero. Assume for now that we do not have that restriction. Does our program correctly follow the path described?\n",
    "\n",
    "We can use the `Coverage` from the [chapter on coverage](Coverage.ipynb) as a tracer to visualize that information as below."
   ]
  },
  {
   "cell_type": "code",
   "execution_count": 11,
   "metadata": {
    "slideshow": {
     "slide_type": "skip"
    }
   },
   "outputs": [],
   "source": [
    "from Coverage import Coverage"
   ]
  },
  {
   "cell_type": "markdown",
   "metadata": {
    "slideshow": {
     "slide_type": "fragment"
    }
   },
   "source": [
    "We modify the tracer to report *all* traced events."
   ]
  },
  {
   "cell_type": "code",
   "execution_count": 12,
   "metadata": {
    "slideshow": {
     "slide_type": "subslide"
    }
   },
   "outputs": [],
   "source": [
    "class Tracer(Coverage):\n",
    "    def traceit(self, frame, event, args):\n",
    "        if event != 'return':\n",
    "            f = inspect.getframeinfo(frame)\n",
    "            self._trace.append((f.function, f.lineno))\n",
    "        return self.traceit"
   ]
  },
  {
   "cell_type": "markdown",
   "metadata": {
    "slideshow": {
     "slide_type": "fragment"
    }
   },
   "source": [
    "First, we recover the trace."
   ]
  },
  {
   "cell_type": "code",
   "execution_count": 13,
   "metadata": {
    "slideshow": {
     "slide_type": "subslide"
    }
   },
   "outputs": [
    {
     "data": {
      "text/plain": [
       "[('check_triangle', 1),\n",
       " ('check_triangle', 2),\n",
       " ('check_triangle', 3),\n",
       " ('check_triangle', 4),\n",
       " ('check_triangle', 5),\n",
       " ('__exit__', 24),\n",
       " ('__exit__', 25)]"
      ]
     },
     "execution_count": 13,
     "metadata": {},
     "output_type": "execute_result"
    }
   ],
   "source": [
    "with Tracer() as cov:\n",
    "    assert check_triangle(0, 0, 0) == 'Equilateral'\n",
    "cov._trace"
   ]
  },
  {
   "cell_type": "markdown",
   "metadata": {
    "slideshow": {
     "slide_type": "fragment"
    }
   },
   "source": [
    "To plot the path taken, we need to extract edges from the coverage.\n",
    "We define a procedure `cov_to_arcs()` to translate our coverage to a list of edges."
   ]
  },
  {
   "cell_type": "code",
   "execution_count": 14,
   "metadata": {
    "slideshow": {
     "slide_type": "subslide"
    }
   },
   "outputs": [],
   "source": [
    "def cov_to_arcs(cov):\n",
    "    t = [i for f, i in cov._trace]\n",
    "    return list(zip(t, t[1:]))"
   ]
  },
  {
   "cell_type": "code",
   "execution_count": 15,
   "metadata": {
    "slideshow": {
     "slide_type": "fragment"
    }
   },
   "outputs": [
    {
     "data": {
      "text/plain": [
       "[(1, 2), (2, 3), (3, 4), (4, 5), (5, 24), (24, 25)]"
      ]
     },
     "execution_count": 15,
     "metadata": {},
     "output_type": "execute_result"
    }
   ],
   "source": [
    "cov_to_arcs(cov)"
   ]
  },
  {
   "cell_type": "markdown",
   "metadata": {
    "slideshow": {
     "slide_type": "fragment"
    }
   },
   "source": [
    "We can now determine the path taken."
   ]
  },
  {
   "cell_type": "markdown",
   "metadata": {
    "slideshow": {
     "slide_type": "subslide"
    }
   },
   "source": [
    "### The CFG with path taken"
   ]
  },
  {
   "cell_type": "code",
   "execution_count": 16,
   "metadata": {
    "slideshow": {
     "slide_type": "fragment"
    }
   },
   "outputs": [],
   "source": [
    "check_triangle_src = inspect.getsource(check_triangle).strip()"
   ]
  },
  {
   "cell_type": "code",
   "execution_count": 17,
   "metadata": {
    "slideshow": {
     "slide_type": "fragment"
    }
   },
   "outputs": [
    {
     "data": {
      "image/svg+xml": [
       "<?xml version=\"1.0\" encoding=\"UTF-8\" standalone=\"no\"?>\n",
       "<!DOCTYPE svg PUBLIC \"-//W3C//DTD SVG 1.1//EN\"\n",
       " \"http://www.w3.org/Graphics/SVG/1.1/DTD/svg11.dtd\">\n",
       "<!-- Generated by graphviz version 2.40.1 (20161225.0304)\n",
       " -->\n",
       "<!-- Title: %3 Pages: 1 -->\n",
       "<svg width=\"698pt\" height=\"420pt\"\n",
       " viewBox=\"0.00 0.00 697.90 420.00\" xmlns=\"http://www.w3.org/2000/svg\" xmlns:xlink=\"http://www.w3.org/1999/xlink\">\n",
       "<g id=\"graph0\" class=\"graph\" transform=\"scale(1 1) rotate(0) translate(4 416)\">\n",
       "<title>%3</title>\n",
       "<polygon fill=\"#ffffff\" stroke=\"transparent\" points=\"-4,4 -4,-416 693.897,-416 693.897,4 -4,4\"/>\n",
       "<!-- 1 -->\n",
       "<g id=\"node1\" class=\"node\">\n",
       "<title>1</title>\n",
       "<ellipse fill=\"none\" stroke=\"#000000\" cx=\"306.4502\" cy=\"-390\" rx=\"120.6851\" ry=\"18\"/>\n",
       "<ellipse fill=\"none\" stroke=\"#000000\" cx=\"306.4502\" cy=\"-390\" rx=\"124.6881\" ry=\"22\"/>\n",
       "<text text-anchor=\"middle\" x=\"306.4502\" y=\"-385.8\" font-family=\"Times,serif\" font-size=\"14.00\" fill=\"#000000\">1: enter: check_triangle(a, b, c)</text>\n",
       "</g>\n",
       "<!-- 3 -->\n",
       "<g id=\"node9\" class=\"node\">\n",
       "<title>3</title>\n",
       "<polygon fill=\"none\" stroke=\"#000000\" points=\"306.4502,-332 224.6854,-314 306.4502,-296 388.215,-314 306.4502,-332\"/>\n",
       "<text text-anchor=\"middle\" x=\"306.4502\" y=\"-309.8\" font-family=\"Times,serif\" font-size=\"14.00\" fill=\"#000000\">2: if: (a == b)</text>\n",
       "</g>\n",
       "<!-- 1&#45;&gt;3 -->\n",
       "<g id=\"edge7\" class=\"edge\">\n",
       "<title>1&#45;&gt;3</title>\n",
       "<path fill=\"none\" stroke=\"#00ff00\" d=\"M306.4502,-367.6086C306.4502,-359.7272 306.4502,-350.7616 306.4502,-342.4482\"/>\n",
       "<polygon fill=\"#00ff00\" stroke=\"#00ff00\" points=\"309.9503,-342.3974 306.4502,-332.3975 302.9503,-342.3975 309.9503,-342.3974\"/>\n",
       "</g>\n",
       "<!-- 2 -->\n",
       "<g id=\"node2\" class=\"node\">\n",
       "<title>2</title>\n",
       "<ellipse fill=\"none\" stroke=\"#000000\" cx=\"346.4502\" cy=\"-22\" rx=\"116.3561\" ry=\"18\"/>\n",
       "<ellipse fill=\"none\" stroke=\"#000000\" cx=\"346.4502\" cy=\"-22\" rx=\"120.3621\" ry=\"22\"/>\n",
       "<text text-anchor=\"middle\" x=\"346.4502\" y=\"-17.8\" font-family=\"Times,serif\" font-size=\"14.00\" fill=\"#000000\">1: exit: check_triangle(a, b, c)</text>\n",
       "</g>\n",
       "<!-- 6 -->\n",
       "<g id=\"node3\" class=\"node\">\n",
       "<title>6</title>\n",
       "<polygon fill=\"none\" stroke=\"#000000\" points=\"223.2267,-116 89.6736,-116 89.6736,-80 223.2267,-80 223.2267,-116\"/>\n",
       "<text text-anchor=\"middle\" x=\"156.4502\" y=\"-93.8\" font-family=\"Times,serif\" font-size=\"14.00\" fill=\"#000000\">5: return &#39;Equilateral&#39;</text>\n",
       "</g>\n",
       "<!-- 6&#45;&gt;2 -->\n",
       "<g id=\"edge1\" class=\"edge\">\n",
       "<title>6&#45;&gt;2</title>\n",
       "<path fill=\"none\" stroke=\"#00ff00\" d=\"M201.4775,-79.9891C227.0001,-69.78 259.2498,-56.8802 286.8486,-45.8407\"/>\n",
       "<polygon fill=\"#00ff00\" stroke=\"#00ff00\" points=\"288.4131,-48.9845 296.3979,-42.0209 285.8133,-42.4852 288.4131,-48.9845\"/>\n",
       "</g>\n",
       "<!-- 7 -->\n",
       "<g id=\"node4\" class=\"node\">\n",
       "<title>7</title>\n",
       "<polygon fill=\"none\" stroke=\"#000000\" points=\"363.8506,-116 241.0498,-116 241.0498,-80 363.8506,-80 363.8506,-116\"/>\n",
       "<text text-anchor=\"middle\" x=\"302.4502\" y=\"-93.8\" font-family=\"Times,serif\" font-size=\"14.00\" fill=\"#000000\">7: return &#39;Isosceles&#39;</text>\n",
       "</g>\n",
       "<!-- 7&#45;&gt;2 -->\n",
       "<g id=\"edge2\" class=\"edge\">\n",
       "<title>7&#45;&gt;2</title>\n",
       "<path fill=\"none\" stroke=\"#ff0000\" d=\"M312.8776,-79.9891C317.5663,-71.8904 323.2353,-62.0984 328.5693,-52.8851\"/>\n",
       "<polygon fill=\"#ff0000\" stroke=\"#ff0000\" points=\"331.7615,-54.3568 333.7429,-43.9489 325.7035,-50.8495 331.7615,-54.3568\"/>\n",
       "</g>\n",
       "<!-- 8 -->\n",
       "<g id=\"node5\" class=\"node\">\n",
       "<title>8</title>\n",
       "<polygon fill=\"none\" stroke=\"#000000\" points=\"122.8506,-188 .0498,-188 .0498,-152 122.8506,-152 122.8506,-188\"/>\n",
       "<text text-anchor=\"middle\" x=\"61.4502\" y=\"-165.8\" font-family=\"Times,serif\" font-size=\"14.00\" fill=\"#000000\">9: return &#39;Isosceles&#39;</text>\n",
       "</g>\n",
       "<!-- 8&#45;&gt;2 -->\n",
       "<g id=\"edge3\" class=\"edge\">\n",
       "<title>8&#45;&gt;2</title>\n",
       "<path fill=\"none\" stroke=\"#ff0000\" d=\"M59.9277,-151.7903C59.2962,-131.4551 61.6551,-98.9201 80.4502,-80 102.0649,-58.2416 170.1226,-43.6384 231.9815,-34.5274\"/>\n",
       "<polygon fill=\"#ff0000\" stroke=\"#ff0000\" points=\"232.8435,-37.9397 242.2459,-33.0566 231.8505,-31.0105 232.8435,-37.9397\"/>\n",
       "</g>\n",
       "<!-- 11 -->\n",
       "<g id=\"node6\" class=\"node\">\n",
       "<title>11</title>\n",
       "<polygon fill=\"none\" stroke=\"#000000\" points=\"549.3506,-116 419.5498,-116 419.5498,-80 549.3506,-80 549.3506,-116\"/>\n",
       "<text text-anchor=\"middle\" x=\"484.4502\" y=\"-93.8\" font-family=\"Times,serif\" font-size=\"14.00\" fill=\"#000000\">13: return &#39;Isosceles&#39;</text>\n",
       "</g>\n",
       "<!-- 11&#45;&gt;2 -->\n",
       "<g id=\"edge4\" class=\"edge\">\n",
       "<title>11&#45;&gt;2</title>\n",
       "<path fill=\"none\" stroke=\"#ff0000\" d=\"M451.7461,-79.9891C434.3379,-70.402 412.6209,-58.4418 393.4389,-47.8778\"/>\n",
       "<polygon fill=\"#ff0000\" stroke=\"#ff0000\" points=\"394.9911,-44.737 384.5432,-42.9787 391.6142,-50.8687 394.9911,-44.737\"/>\n",
       "</g>\n",
       "<!-- 12 -->\n",
       "<g id=\"node7\" class=\"node\">\n",
       "<title>12</title>\n",
       "<polygon fill=\"none\" stroke=\"#000000\" points=\"689.8438,-116 567.0566,-116 567.0566,-80 689.8438,-80 689.8438,-116\"/>\n",
       "<text text-anchor=\"middle\" x=\"628.4502\" y=\"-93.8\" font-family=\"Times,serif\" font-size=\"14.00\" fill=\"#000000\">15: return &#39;Scalene&#39;</text>\n",
       "</g>\n",
       "<!-- 12&#45;&gt;2 -->\n",
       "<g id=\"edge5\" class=\"edge\">\n",
       "<title>12&#45;&gt;2</title>\n",
       "<path fill=\"none\" stroke=\"#ff0000\" d=\"M566.9126,-81.4154C524.8638,-70.0831 468.8161,-54.978 423.7561,-42.8342\"/>\n",
       "<polygon fill=\"#ff0000\" stroke=\"#ff0000\" points=\"424.5909,-39.4344 414.0246,-40.2115 422.7693,-46.1932 424.5909,-39.4344\"/>\n",
       "</g>\n",
       "<!-- 13 -->\n",
       "<g id=\"node8\" class=\"node\">\n",
       "<title>13</title>\n",
       "<polygon fill=\"none\" stroke=\"#000000\" points=\"456.3506,-188 326.5498,-188 326.5498,-152 456.3506,-152 456.3506,-188\"/>\n",
       "<text text-anchor=\"middle\" x=\"391.4502\" y=\"-165.8\" font-family=\"Times,serif\" font-size=\"14.00\" fill=\"#000000\">17: return &#39;Isosceles&#39;</text>\n",
       "</g>\n",
       "<!-- 13&#45;&gt;2 -->\n",
       "<g id=\"edge6\" class=\"edge\">\n",
       "<title>13&#45;&gt;2</title>\n",
       "<path fill=\"none\" stroke=\"#ff0000\" d=\"M388.7754,-151.7733C385.8044,-133.3782 380.36,-104.2959 372.4502,-80 369.5711,-71.1565 365.7697,-61.8495 361.9652,-53.3426\"/>\n",
       "<polygon fill=\"#ff0000\" stroke=\"#ff0000\" points=\"365.088,-51.7566 357.7176,-44.1455 358.733,-54.6916 365.088,-51.7566\"/>\n",
       "</g>\n",
       "<!-- 4 -->\n",
       "<g id=\"node10\" class=\"node\">\n",
       "<title>4</title>\n",
       "<polygon fill=\"none\" stroke=\"#000000\" points=\"214.4502,-260 133.0897,-242 214.4502,-224 295.8107,-242 214.4502,-260\"/>\n",
       "<text text-anchor=\"middle\" x=\"214.4502\" y=\"-237.8\" font-family=\"Times,serif\" font-size=\"14.00\" fill=\"#000000\">3: if: (a == c)</text>\n",
       "</g>\n",
       "<!-- 3&#45;&gt;4 -->\n",
       "<g id=\"edge8\" class=\"edge\">\n",
       "<title>3&#45;&gt;4</title>\n",
       "<path fill=\"none\" stroke=\"#00ff00\" d=\"M288.274,-299.7751C274.6652,-289.1248 255.8523,-274.4017 240.6242,-262.484\"/>\n",
       "<polygon fill=\"#00ff00\" stroke=\"#00ff00\" points=\"242.6208,-259.6022 232.5887,-256.1953 238.3067,-265.1147 242.6208,-259.6022\"/>\n",
       "</g>\n",
       "<!-- 9 -->\n",
       "<g id=\"node12\" class=\"node\">\n",
       "<title>9</title>\n",
       "<polygon fill=\"none\" stroke=\"#000000\" points=\"398.4502,-260 313.8715,-242 398.4502,-224 483.0289,-242 398.4502,-260\"/>\n",
       "<text text-anchor=\"middle\" x=\"398.4502\" y=\"-237.8\" font-family=\"Times,serif\" font-size=\"14.00\" fill=\"#000000\">11: if: (b != c)</text>\n",
       "</g>\n",
       "<!-- 3&#45;&gt;9 -->\n",
       "<g id=\"edge13\" class=\"edge\">\n",
       "<title>3&#45;&gt;9</title>\n",
       "<path fill=\"none\" stroke=\"#ff0000\" d=\"M324.6264,-299.7751C338.2352,-289.1248 357.0481,-274.4017 372.2762,-262.484\"/>\n",
       "<polygon fill=\"#ff0000\" stroke=\"#ff0000\" points=\"374.5937,-265.1147 380.3117,-256.1953 370.2796,-259.6022 374.5937,-265.1147\"/>\n",
       "</g>\n",
       "<!-- 4&#45;&gt;8 -->\n",
       "<g id=\"edge12\" class=\"edge\">\n",
       "<title>4&#45;&gt;8</title>\n",
       "<path fill=\"none\" stroke=\"#ff0000\" d=\"M188.1486,-229.6228C166.4616,-219.4172 135.1382,-204.6767 109.0632,-192.4061\"/>\n",
       "<polygon fill=\"#ff0000\" stroke=\"#ff0000\" points=\"110.2601,-189.1012 99.7216,-188.0101 107.2795,-195.435 110.2601,-189.1012\"/>\n",
       "</g>\n",
       "<!-- 5 -->\n",
       "<g id=\"node11\" class=\"node\">\n",
       "<title>5</title>\n",
       "<polygon fill=\"none\" stroke=\"#000000\" points=\"222.4502,-188 140.6854,-170 222.4502,-152 304.215,-170 222.4502,-188\"/>\n",
       "<text text-anchor=\"middle\" x=\"222.4502\" y=\"-165.8\" font-family=\"Times,serif\" font-size=\"14.00\" fill=\"#000000\">4: if: (b == c)</text>\n",
       "</g>\n",
       "<!-- 4&#45;&gt;5 -->\n",
       "<g id=\"edge9\" class=\"edge\">\n",
       "<title>4&#45;&gt;5</title>\n",
       "<path fill=\"none\" stroke=\"#00ff00\" d=\"M216.4277,-224.2022C217.319,-216.1807 218.3921,-206.5231 219.384,-197.5957\"/>\n",
       "<polygon fill=\"#00ff00\" stroke=\"#00ff00\" points=\"222.8696,-197.9184 220.4954,-187.593 215.9124,-197.1453 222.8696,-197.9184\"/>\n",
       "</g>\n",
       "<!-- 5&#45;&gt;6 -->\n",
       "<g id=\"edge10\" class=\"edge\">\n",
       "<title>5&#45;&gt;6</title>\n",
       "<path fill=\"none\" stroke=\"#00ff00\" d=\"M208.4533,-154.7307C200.1913,-145.7176 189.5187,-134.0747 179.9939,-123.6841\"/>\n",
       "<polygon fill=\"#00ff00\" stroke=\"#00ff00\" points=\"182.3303,-121.0532 172.993,-116.0467 177.1702,-125.7833 182.3303,-121.0532\"/>\n",
       "</g>\n",
       "<!-- 5&#45;&gt;7 -->\n",
       "<g id=\"edge11\" class=\"edge\">\n",
       "<title>5&#45;&gt;7</title>\n",
       "<path fill=\"none\" stroke=\"#ff0000\" d=\"M238.6394,-155.4297C248.9764,-146.1265 262.6489,-133.8212 274.6858,-122.988\"/>\n",
       "<polygon fill=\"#ff0000\" stroke=\"#ff0000\" points=\"277.2164,-125.4192 282.308,-116.128 272.5337,-120.2161 277.2164,-125.4192\"/>\n",
       "</g>\n",
       "<!-- 9&#45;&gt;13 -->\n",
       "<g id=\"edge17\" class=\"edge\">\n",
       "<title>9&#45;&gt;13</title>\n",
       "<path fill=\"none\" stroke=\"#ff0000\" d=\"M396.7199,-224.2022C395.96,-216.3864 395.0491,-207.0171 394.2,-198.2836\"/>\n",
       "<polygon fill=\"#ff0000\" stroke=\"#ff0000\" points=\"397.6606,-197.7075 393.2092,-188.0931 390.6934,-198.3849 397.6606,-197.7075\"/>\n",
       "</g>\n",
       "<!-- 10 -->\n",
       "<g id=\"node13\" class=\"node\">\n",
       "<title>10</title>\n",
       "<polygon fill=\"none\" stroke=\"#000000\" points=\"561.4502,-188 474.0835,-170 561.4502,-152 648.8169,-170 561.4502,-188\"/>\n",
       "<text text-anchor=\"middle\" x=\"561.4502\" y=\"-165.8\" font-family=\"Times,serif\" font-size=\"14.00\" fill=\"#000000\">12: if: (a == c)</text>\n",
       "</g>\n",
       "<!-- 9&#45;&gt;10 -->\n",
       "<g id=\"edge14\" class=\"edge\">\n",
       "<title>9&#45;&gt;10</title>\n",
       "<path fill=\"none\" stroke=\"#ff0000\" d=\"M426.1009,-229.7862C453.0655,-217.8754 494.2648,-199.677 524.126,-186.4868\"/>\n",
       "<polygon fill=\"#ff0000\" stroke=\"#ff0000\" points=\"525.6572,-189.6367 533.3904,-182.3945 522.8288,-183.2336 525.6572,-189.6367\"/>\n",
       "</g>\n",
       "<!-- 10&#45;&gt;11 -->\n",
       "<g id=\"edge15\" class=\"edge\">\n",
       "<title>10&#45;&gt;11</title>\n",
       "<path fill=\"none\" stroke=\"#ff0000\" d=\"M545.4957,-155.0816C535.689,-145.9116 522.869,-133.9241 511.5103,-123.3029\"/>\n",
       "<polygon fill=\"#ff0000\" stroke=\"#ff0000\" points=\"513.6297,-120.493 503.935,-116.2195 508.8487,-125.606 513.6297,-120.493\"/>\n",
       "</g>\n",
       "<!-- 10&#45;&gt;12 -->\n",
       "<g id=\"edge16\" class=\"edge\">\n",
       "<title>10&#45;&gt;12</title>\n",
       "<path fill=\"none\" stroke=\"#ff0000\" d=\"M575.6592,-154.7307C584.1285,-145.6292 595.0934,-133.8461 604.8338,-123.3788\"/>\n",
       "<polygon fill=\"#ff0000\" stroke=\"#ff0000\" points=\"607.4067,-125.7517 611.6567,-116.0467 602.2822,-120.9831 607.4067,-125.7517\"/>\n",
       "</g>\n",
       "</g>\n",
       "</svg>\n"
      ],
      "text/plain": [
       "<graphviz.files.Source at 0x107653208>"
      ]
     },
     "execution_count": 17,
     "metadata": {},
     "output_type": "execute_result"
    }
   ],
   "source": [
    "Source(to_graph(gen_cfg(check_triangle_src), arcs=cov_to_arcs(cov)))"
   ]
  },
  {
   "cell_type": "markdown",
   "metadata": {
    "slideshow": {
     "slide_type": "fragment"
    }
   },
   "source": [
    "As you can see, the path taken is `<path 1>`."
   ]
  },
  {
   "cell_type": "markdown",
   "metadata": {
    "slideshow": {
     "slide_type": "fragment"
    }
   },
   "source": [
    "Similarly, for solving `<path 2>` we need to simply invert the condition at <line 2>:"
   ]
  },
  {
   "cell_type": "code",
   "execution_count": 18,
   "metadata": {
    "slideshow": {
     "slide_type": "fragment"
    }
   },
   "outputs": [],
   "source": [
    "a, b, c = z3.Ints('a b c')"
   ]
  },
  {
   "cell_type": "code",
   "execution_count": 19,
   "metadata": {
    "slideshow": {
     "slide_type": "fragment"
    }
   },
   "outputs": [
    {
     "name": "stdout",
     "output_type": "stream",
     "text": [
      "no solution\n"
     ]
    }
   ],
   "source": [
    "z3.solve(a == b, a == c, z3.Not(b == c))"
   ]
  },
  {
   "cell_type": "markdown",
   "metadata": {
    "slideshow": {
     "slide_type": "fragment"
    }
   },
   "source": [
    "The symbolic execution suggests that there is no solution. A moment's reflection will convince us that it is indeed true. Let us proceed with the other paths. The `<path 3>` can be obtained by inverting the condition at `<line 4>`."
   ]
  },
  {
   "cell_type": "code",
   "execution_count": 20,
   "metadata": {
    "slideshow": {
     "slide_type": "subslide"
    }
   },
   "outputs": [],
   "source": [
    "a, b, c = z3.Ints('a b c')"
   ]
  },
  {
   "cell_type": "code",
   "execution_count": 21,
   "metadata": {
    "slideshow": {
     "slide_type": "fragment"
    }
   },
   "outputs": [
    {
     "name": "stdout",
     "output_type": "stream",
     "text": [
      "[c = 0, b = 1, a = 1]\n"
     ]
    }
   ],
   "source": [
    "z3.solve(a == b, z3.Not(a == c))"
   ]
  },
  {
   "cell_type": "code",
   "execution_count": 22,
   "metadata": {
    "slideshow": {
     "slide_type": "fragment"
    }
   },
   "outputs": [
    {
     "data": {
      "text/plain": [
       "[1, 2, 3, 9]"
      ]
     },
     "execution_count": 22,
     "metadata": {},
     "output_type": "execute_result"
    }
   ],
   "source": [
    "with Tracer() as cov:\n",
    "    assert check_triangle(1, 1, 0) == 'Isosceles'\n",
    "[i for fn, i in cov._trace if fn == 'check_triangle']"
   ]
  },
  {
   "cell_type": "markdown",
   "metadata": {
    "slideshow": {
     "slide_type": "fragment"
    }
   },
   "source": [
    "How about path <4>?"
   ]
  },
  {
   "cell_type": "code",
   "execution_count": 23,
   "metadata": {
    "slideshow": {
     "slide_type": "fragment"
    }
   },
   "outputs": [],
   "source": [
    "a, b, c = z3.Ints('a b c')"
   ]
  },
  {
   "cell_type": "code",
   "execution_count": 24,
   "metadata": {
    "slideshow": {
     "slide_type": "fragment"
    }
   },
   "outputs": [
    {
     "name": "stdout",
     "output_type": "stream",
     "text": [
      "[b = 0, c = 1, a = 1]\n"
     ]
    }
   ],
   "source": [
    "z3.solve(z3.Not(a == b), b != c, a == c)"
   ]
  },
  {
   "cell_type": "markdown",
   "metadata": {
    "slideshow": {
     "slide_type": "subslide"
    }
   },
   "source": [
    "As we mentioned earlier, our program does not account for sides with zero or negative length. We can modify our program to check for zero and negative input. However, do we always have to make sure that every function has to account for all possible inputs? It is possible that the `check_triangle` is not directly exposed to the user, and it is called from another function that already guarantees that the inputs would be positive.\n",
    "\n",
    "We can easily add such a precondition here."
   ]
  },
  {
   "cell_type": "code",
   "execution_count": 25,
   "metadata": {
    "slideshow": {
     "slide_type": "fragment"
    }
   },
   "outputs": [],
   "source": [
    "pre_condition = z3.And(a > 0, b > 0, c > 0)"
   ]
  },
  {
   "cell_type": "code",
   "execution_count": 26,
   "metadata": {
    "slideshow": {
     "slide_type": "fragment"
    }
   },
   "outputs": [
    {
     "name": "stdout",
     "output_type": "stream",
     "text": [
      "[c = 2, b = 1, a = 2]\n"
     ]
    }
   ],
   "source": [
    "z3.solve(pre_condition, z3.Not(a == b), b != c, a == c)"
   ]
  },
  {
   "cell_type": "code",
   "execution_count": 27,
   "metadata": {
    "slideshow": {
     "slide_type": "subslide"
    }
   },
   "outputs": [
    {
     "data": {
      "text/plain": [
       "[1, 2, 11, 12, 13]"
      ]
     },
     "execution_count": 27,
     "metadata": {},
     "output_type": "execute_result"
    }
   ],
   "source": [
    "with Tracer() as cov:\n",
    "    assert check_triangle(1, 2, 1) == 'Isosceles'\n",
    "[i for fn, i in cov._trace if fn == 'check_triangle']"
   ]
  },
  {
   "cell_type": "code",
   "execution_count": 28,
   "metadata": {
    "slideshow": {
     "slide_type": "fragment"
    }
   },
   "outputs": [
    {
     "data": {
      "text/plain": [
       "([1, 2, 11, 12, 13], 'Isosceles')"
      ]
     },
     "execution_count": 28,
     "metadata": {},
     "output_type": "execute_result"
    }
   ],
   "source": [
    "paths['<path 4>']"
   ]
  },
  {
   "cell_type": "markdown",
   "metadata": {
    "slideshow": {
     "slide_type": "fragment"
    }
   },
   "source": [
    "Continuing to path <5>:"
   ]
  },
  {
   "cell_type": "code",
   "execution_count": 29,
   "metadata": {
    "slideshow": {
     "slide_type": "fragment"
    }
   },
   "outputs": [],
   "source": [
    "a, b, c = z3.Ints('a b c')"
   ]
  },
  {
   "cell_type": "code",
   "execution_count": 30,
   "metadata": {
    "scrolled": true,
    "slideshow": {
     "slide_type": "fragment"
    }
   },
   "outputs": [
    {
     "name": "stdout",
     "output_type": "stream",
     "text": [
      "[b = 2, a = 1, c = 3]\n"
     ]
    }
   ],
   "source": [
    "z3.solve(pre_condition, z3.Not(a == b), b != c, z3.Not(a == c))"
   ]
  },
  {
   "cell_type": "markdown",
   "metadata": {
    "slideshow": {
     "slide_type": "fragment"
    }
   },
   "source": [
    "And indeed it is a *Scalene* triangle."
   ]
  },
  {
   "cell_type": "code",
   "execution_count": 31,
   "metadata": {
    "slideshow": {
     "slide_type": "subslide"
    }
   },
   "outputs": [
    {
     "data": {
      "text/plain": [
       "[1, 2, 11, 12, 15]"
      ]
     },
     "execution_count": 31,
     "metadata": {},
     "output_type": "execute_result"
    }
   ],
   "source": [
    "with Tracer() as cov:\n",
    "    assert check_triangle(3, 1, 2) == 'Scalene'\n",
    "[i for fn, i in cov._trace if fn == 'check_triangle']"
   ]
  },
  {
   "cell_type": "code",
   "execution_count": 32,
   "metadata": {
    "slideshow": {
     "slide_type": "fragment"
    }
   },
   "outputs": [
    {
     "data": {
      "text/plain": [
       "([1, 2, 11, 12, 15], 'Scalene')"
      ]
     },
     "execution_count": 32,
     "metadata": {},
     "output_type": "execute_result"
    }
   ],
   "source": [
    "paths['<path 5>']"
   ]
  },
  {
   "cell_type": "markdown",
   "metadata": {
    "slideshow": {
     "slide_type": "fragment"
    }
   },
   "source": [
    "Finally, for `<path 6>` the procedure is similar."
   ]
  },
  {
   "cell_type": "code",
   "execution_count": 33,
   "metadata": {
    "slideshow": {
     "slide_type": "fragment"
    }
   },
   "outputs": [
    {
     "name": "stdout",
     "output_type": "stream",
     "text": [
      "[c = 2, a = 1, b = 2]\n"
     ]
    }
   ],
   "source": [
    "z3.solve(pre_condition, z3.Not(a == b), z3.Not(b != c))"
   ]
  },
  {
   "cell_type": "code",
   "execution_count": 34,
   "metadata": {
    "slideshow": {
     "slide_type": "fragment"
    }
   },
   "outputs": [
    {
     "data": {
      "text/plain": [
       "[1, 2, 11, 17]"
      ]
     },
     "execution_count": 34,
     "metadata": {},
     "output_type": "execute_result"
    }
   ],
   "source": [
    "with Tracer() as cov:\n",
    "    assert check_triangle(2, 1, 1) == 'Isosceles'\n",
    "[i for fn, i in cov._trace if fn == 'check_triangle']"
   ]
  },
  {
   "cell_type": "code",
   "execution_count": 35,
   "metadata": {
    "slideshow": {
     "slide_type": "subslide"
    }
   },
   "outputs": [
    {
     "data": {
      "text/plain": [
       "([1, 2, 11, 17], 'Isosceles')"
      ]
     },
     "execution_count": 35,
     "metadata": {},
     "output_type": "execute_result"
    }
   ],
   "source": [
    "paths['<path 6>']"
   ]
  },
  {
   "cell_type": "markdown",
   "metadata": {
    "slideshow": {
     "slide_type": "fragment"
    }
   },
   "source": [
    "What if we wanted another solution? We can simply ask the solver to solve again, and not give us the same values."
   ]
  },
  {
   "cell_type": "code",
   "execution_count": 36,
   "metadata": {
    "slideshow": {
     "slide_type": "fragment"
    }
   },
   "outputs": [],
   "source": [
    "seen = [z3.And(a == 2, b == 1, c == 1)]"
   ]
  },
  {
   "cell_type": "code",
   "execution_count": 37,
   "metadata": {
    "slideshow": {
     "slide_type": "fragment"
    }
   },
   "outputs": [
    {
     "name": "stdout",
     "output_type": "stream",
     "text": [
      "[c = 2, a = 1, b = 2]\n"
     ]
    }
   ],
   "source": [
    "z3.solve(pre_condition, z3.Not(z3.Or(seen)), z3.Not(a == b), z3.Not(b != c))"
   ]
  },
  {
   "cell_type": "code",
   "execution_count": 38,
   "metadata": {
    "slideshow": {
     "slide_type": "fragment"
    }
   },
   "outputs": [],
   "source": [
    "seen.append(z3.And(a == 1, b == 2, c == 2))"
   ]
  },
  {
   "cell_type": "code",
   "execution_count": 39,
   "metadata": {
    "slideshow": {
     "slide_type": "fragment"
    }
   },
   "outputs": [
    {
     "name": "stdout",
     "output_type": "stream",
     "text": [
      "[c = 1, a = 3, b = 1]\n"
     ]
    }
   ],
   "source": [
    "z3.solve(pre_condition, z3.Not(z3.Or(seen)), z3.Not(a == b), z3.Not(b != c))"
   ]
  },
  {
   "cell_type": "markdown",
   "metadata": {
    "slideshow": {
     "slide_type": "subslide"
    }
   },
   "source": [
    "That is, using simple symbolic computation, we were able to easily see that (1) some of the paths are not reachable, and (2) some of the conditions were insufficient -- we needed preconditions. What about the total coverage obtained?"
   ]
  },
  {
   "cell_type": "markdown",
   "metadata": {
    "slideshow": {
     "slide_type": "subslide"
    }
   },
   "source": [
    "### Visualizing the coverage obtained"
   ]
  },
  {
   "cell_type": "markdown",
   "metadata": {
    "slideshow": {
     "slide_type": "fragment"
    }
   },
   "source": [
    "Visualizing the statement coverage can be accomplished as below."
   ]
  },
  {
   "cell_type": "code",
   "execution_count": 40,
   "metadata": {
    "slideshow": {
     "slide_type": "fragment"
    }
   },
   "outputs": [],
   "source": [
    "class Tracer(Tracer):\n",
    "    def show_coverage(self, fn):\n",
    "        src = fn if isinstance(fn, str) else inspect.getsource(fn)\n",
    "        covered = set([lineno for method, lineno in self._trace])\n",
    "        for i, s in enumerate(src.split('\\n')):\n",
    "            print('%s %2d: %s' % ('#' if i + 1 in covered else ' ', i + 1, s))"
   ]
  },
  {
   "cell_type": "markdown",
   "metadata": {
    "slideshow": {
     "slide_type": "fragment"
    }
   },
   "source": [
    "We run all the inputs obtained under the coverage tracer."
   ]
  },
  {
   "cell_type": "code",
   "execution_count": 41,
   "metadata": {
    "slideshow": {
     "slide_type": "fragment"
    }
   },
   "outputs": [],
   "source": [
    "with Tracer() as cov:\n",
    "    assert check_triangle(0, 0, 0) == 'Equilateral'\n",
    "    assert check_triangle(1, 1, 0) == 'Isosceles'\n",
    "    assert check_triangle(1, 2, 1) == 'Isosceles'\n",
    "    assert check_triangle(3, 1, 2) == 'Scalene'\n",
    "    assert check_triangle(2, 1, 1) == 'Isosceles'"
   ]
  },
  {
   "cell_type": "code",
   "execution_count": 42,
   "metadata": {
    "slideshow": {
     "slide_type": "subslide"
    }
   },
   "outputs": [
    {
     "name": "stdout",
     "output_type": "stream",
     "text": [
      "#  1: def check_triangle(a, b, c):\n",
      "#  2:     if a == b:\n",
      "#  3:         if a == c:\n",
      "#  4:             if b == c:\n",
      "#  5:                 return \"Equilateral\"\n",
      "   6:             else:\n",
      "   7:                 return \"Isosceles\"\n",
      "   8:         else:\n",
      "#  9:             return \"Isosceles\"\n",
      "  10:     else:\n",
      "# 11:         if b != c:\n",
      "# 12:             if a == c:\n",
      "# 13:                 return \"Isosceles\"\n",
      "  14:             else:\n",
      "# 15:                 return \"Scalene\"\n",
      "  16:         else:\n",
      "# 17:             return \"Isosceles\"\n",
      "  18: \n"
     ]
    }
   ],
   "source": [
    "cov.show_coverage(check_triangle)"
   ]
  },
  {
   "cell_type": "markdown",
   "metadata": {
    "slideshow": {
     "slide_type": "subslide"
    }
   },
   "source": [
    "The coverage is as expected. The generated values does seem to cover all code that can be covered."
   ]
  },
  {
   "cell_type": "markdown",
   "metadata": {
    "slideshow": {
     "slide_type": "subslide"
    }
   },
   "source": [
    "### Function summaries"
   ]
  },
  {
   "cell_type": "markdown",
   "metadata": {
    "slideshow": {
     "slide_type": "fragment"
    }
   },
   "source": [
    "Now, consider this equation for determining absolute value."
   ]
  },
  {
   "cell_type": "code",
   "execution_count": 43,
   "metadata": {
    "slideshow": {
     "slide_type": "fragment"
    }
   },
   "outputs": [],
   "source": [
    "def abs_value(x):\n",
    "    if x < 0:\n",
    "        v = -x\n",
    "    else:\n",
    "        v = x\n",
    "    return v"
   ]
  },
  {
   "cell_type": "code",
   "execution_count": 44,
   "metadata": {
    "slideshow": {
     "slide_type": "fragment"
    }
   },
   "outputs": [
    {
     "data": {
      "image/svg+xml": [
       "<?xml version=\"1.0\" encoding=\"UTF-8\" standalone=\"no\"?>\n",
       "<!DOCTYPE svg PUBLIC \"-//W3C//DTD SVG 1.1//EN\"\n",
       " \"http://www.w3.org/Graphics/SVG/1.1/DTD/svg11.dtd\">\n",
       "<!-- Generated by graphviz version 2.40.1 (20161225.0304)\n",
       " -->\n",
       "<!-- Title: %3 Pages: 1 -->\n",
       "<svg width=\"190pt\" height=\"365pt\"\n",
       " viewBox=\"0.00 0.00 190.42 365.00\" xmlns=\"http://www.w3.org/2000/svg\" xmlns:xlink=\"http://www.w3.org/1999/xlink\">\n",
       "<g id=\"graph0\" class=\"graph\" transform=\"scale(1 1) rotate(0) translate(4 361)\">\n",
       "<title>%3</title>\n",
       "<polygon fill=\"#ffffff\" stroke=\"transparent\" points=\"-4,4 -4,-361 186.4216,-361 186.4216,4 -4,4\"/>\n",
       "<!-- 1 -->\n",
       "<g id=\"node1\" class=\"node\">\n",
       "<title>1</title>\n",
       "<ellipse fill=\"none\" stroke=\"#000000\" cx=\"91.2108\" cy=\"-335\" rx=\"87.4128\" ry=\"18\"/>\n",
       "<ellipse fill=\"none\" stroke=\"#000000\" cx=\"91.2108\" cy=\"-335\" rx=\"91.4221\" ry=\"22\"/>\n",
       "<text text-anchor=\"middle\" x=\"91.2108\" y=\"-330.8\" font-family=\"Times,serif\" font-size=\"14.00\" fill=\"#000000\">1: enter: abs_value(x)</text>\n",
       "</g>\n",
       "<!-- 3 -->\n",
       "<g id=\"node4\" class=\"node\">\n",
       "<title>3</title>\n",
       "<polygon fill=\"none\" stroke=\"#000000\" points=\"91.2108,-276 15.6481,-258 91.2108,-240 166.7735,-258 91.2108,-276\"/>\n",
       "<text text-anchor=\"middle\" x=\"91.2108\" y=\"-253.8\" font-family=\"Times,serif\" font-size=\"14.00\" fill=\"#000000\">2: if: (x &lt; 0)</text>\n",
       "</g>\n",
       "<!-- 1&#45;&gt;3 -->\n",
       "<g id=\"edge2\" class=\"edge\">\n",
       "<title>1&#45;&gt;3</title>\n",
       "<path fill=\"none\" stroke=\"#000000\" d=\"M91.2108,-312.7284C91.2108,-304.4552 91.2108,-294.9583 91.2108,-286.2229\"/>\n",
       "<polygon fill=\"#000000\" stroke=\"#000000\" points=\"94.7109,-286.0789 91.2108,-276.0789 87.7109,-286.079 94.7109,-286.0789\"/>\n",
       "</g>\n",
       "<!-- 2 -->\n",
       "<g id=\"node2\" class=\"node\">\n",
       "<title>2</title>\n",
       "<ellipse fill=\"none\" stroke=\"#000000\" cx=\"90.2108\" cy=\"-22\" rx=\"82.6052\" ry=\"18\"/>\n",
       "<ellipse fill=\"none\" stroke=\"#000000\" cx=\"90.2108\" cy=\"-22\" rx=\"86.5959\" ry=\"22\"/>\n",
       "<text text-anchor=\"middle\" x=\"90.2108\" y=\"-17.8\" font-family=\"Times,serif\" font-size=\"14.00\" fill=\"#000000\">1: exit: abs_value(x)</text>\n",
       "</g>\n",
       "<!-- 6 -->\n",
       "<g id=\"node3\" class=\"node\">\n",
       "<title>6</title>\n",
       "<polygon fill=\"none\" stroke=\"#000000\" points=\"127.5289,-117 52.8927,-117 52.8927,-81 127.5289,-81 127.5289,-117\"/>\n",
       "<text text-anchor=\"middle\" x=\"90.2108\" y=\"-94.8\" font-family=\"Times,serif\" font-size=\"14.00\" fill=\"#000000\">6: return v</text>\n",
       "</g>\n",
       "<!-- 6&#45;&gt;2 -->\n",
       "<g id=\"edge1\" class=\"edge\">\n",
       "<title>6&#45;&gt;2</title>\n",
       "<path fill=\"none\" stroke=\"#000000\" d=\"M90.2108,-80.7521C90.2108,-72.8888 90.2108,-63.4498 90.2108,-54.4612\"/>\n",
       "<polygon fill=\"#000000\" stroke=\"#000000\" points=\"93.7109,-54.2376 90.2108,-44.2377 86.7109,-54.2377 93.7109,-54.2376\"/>\n",
       "</g>\n",
       "<!-- 4 -->\n",
       "<g id=\"node5\" class=\"node\">\n",
       "<title>4</title>\n",
       "<polygon fill=\"none\" stroke=\"#000000\" points=\"86.4826,-190 9.939,-190 9.939,-154 86.4826,-154 86.4826,-190\"/>\n",
       "<text text-anchor=\"middle\" x=\"48.2108\" y=\"-167.8\" font-family=\"Times,serif\" font-size=\"14.00\" fill=\"#000000\">3: v = (&#45; x)</text>\n",
       "</g>\n",
       "<!-- 3&#45;&gt;4 -->\n",
       "<g id=\"edge3\" class=\"edge\">\n",
       "<title>3&#45;&gt;4</title>\n",
       "<path fill=\"none\" stroke=\"#0000ff\" d=\"M83.1228,-241.8241C77.1533,-229.885 68.887,-213.3524 61.8964,-199.3713\"/>\n",
       "<polygon fill=\"#0000ff\" stroke=\"#0000ff\" points=\"64.9072,-197.5665 57.3045,-190.1875 58.6462,-200.697 64.9072,-197.5665\"/>\n",
       "<text text-anchor=\"middle\" x=\"77.4867\" y=\"-210.8\" font-family=\"Times,serif\" font-size=\"14.00\" fill=\"#000000\">T</text>\n",
       "</g>\n",
       "<!-- 5 -->\n",
       "<g id=\"node6\" class=\"node\">\n",
       "<title>5</title>\n",
       "<polygon fill=\"none\" stroke=\"#000000\" points=\"163.9966,-190 104.4249,-190 104.4249,-154 163.9966,-154 163.9966,-190\"/>\n",
       "<text text-anchor=\"middle\" x=\"134.2108\" y=\"-167.8\" font-family=\"Times,serif\" font-size=\"14.00\" fill=\"#000000\">5: v = x</text>\n",
       "</g>\n",
       "<!-- 3&#45;&gt;5 -->\n",
       "<g id=\"edge4\" class=\"edge\">\n",
       "<title>3&#45;&gt;5</title>\n",
       "<path fill=\"none\" stroke=\"#ff0000\" d=\"M99.2988,-241.8241C105.2683,-229.885 113.5346,-213.3524 120.5252,-199.3713\"/>\n",
       "<polygon fill=\"#ff0000\" stroke=\"#ff0000\" points=\"123.7754,-200.697 125.1171,-190.1875 117.5144,-197.5665 123.7754,-200.697\"/>\n",
       "<text text-anchor=\"middle\" x=\"119.1039\" y=\"-210.8\" font-family=\"Times,serif\" font-size=\"14.00\" fill=\"#000000\">F</text>\n",
       "</g>\n",
       "<!-- 4&#45;&gt;6 -->\n",
       "<g id=\"edge5\" class=\"edge\">\n",
       "<title>4&#45;&gt;6</title>\n",
       "<path fill=\"none\" stroke=\"#000000\" d=\"M58.5928,-153.9551C63.439,-145.5319 69.309,-135.3292 74.6692,-126.0128\"/>\n",
       "<polygon fill=\"#000000\" stroke=\"#000000\" points=\"77.8494,-127.5036 79.8026,-117.0904 71.7819,-124.0127 77.8494,-127.5036\"/>\n",
       "</g>\n",
       "<!-- 5&#45;&gt;6 -->\n",
       "<g id=\"edge6\" class=\"edge\">\n",
       "<title>5&#45;&gt;6</title>\n",
       "<path fill=\"none\" stroke=\"#000000\" d=\"M123.3344,-153.9551C118.2045,-145.4441 111.9796,-135.1165 106.3171,-125.7219\"/>\n",
       "<polygon fill=\"#000000\" stroke=\"#000000\" points=\"109.2744,-123.8481 101.1146,-117.0904 103.2792,-127.4617 109.2744,-123.8481\"/>\n",
       "</g>\n",
       "</g>\n",
       "</svg>\n"
      ],
      "text/plain": [
       "<graphviz.files.Source at 0x10767f470>"
      ]
     },
     "execution_count": 44,
     "metadata": {},
     "output_type": "execute_result"
    }
   ],
   "source": [
    "Source(to_graph(gen_cfg(inspect.getsource(abs_value))))"
   ]
  },
  {
   "cell_type": "markdown",
   "metadata": {
    "slideshow": {
     "slide_type": "fragment"
    }
   },
   "source": [
    "What can we say about the value of `v` at `line: 5`? Let us trace and see. First, we have variable `x` at `line: 1`."
   ]
  },
  {
   "cell_type": "code",
   "execution_count": 45,
   "metadata": {
    "slideshow": {
     "slide_type": "fragment"
    }
   },
   "outputs": [],
   "source": [
    "x = z3.Int('x')"
   ]
  },
  {
   "cell_type": "markdown",
   "metadata": {
    "slideshow": {
     "slide_type": "fragment"
    }
   },
   "source": [
    "At `line: 2`, we face a bifurcation in the possible paths. Hence, we produce two paths with corresponding constraints."
   ]
  },
  {
   "cell_type": "code",
   "execution_count": 46,
   "metadata": {
    "slideshow": {
     "slide_type": "subslide"
    }
   },
   "outputs": [],
   "source": [
    "l2_F = x < 0\n",
    "l2_T = z3.Not(x < 0)"
   ]
  },
  {
   "cell_type": "markdown",
   "metadata": {
    "slideshow": {
     "slide_type": "fragment"
    }
   },
   "source": [
    "For `line: 3`, we only need to consider the `If` path. However, we have an assignment. So we use a new variable here."
   ]
  },
  {
   "cell_type": "code",
   "execution_count": 47,
   "metadata": {
    "slideshow": {
     "slide_type": "fragment"
    }
   },
   "outputs": [],
   "source": [
    "v_0 = z3.Int('v_0')\n",
    "l3 = z3.And(l2_F, v_0 == -x)"
   ]
  },
  {
   "cell_type": "markdown",
   "metadata": {
    "slideshow": {
     "slide_type": "fragment"
    }
   },
   "source": [
    "Similarly, for `line: 5`, we have an assignment. (Can we reuse the variable `v_0` from before?)"
   ]
  },
  {
   "cell_type": "code",
   "execution_count": 48,
   "metadata": {
    "slideshow": {
     "slide_type": "fragment"
    }
   },
   "outputs": [],
   "source": [
    "v_1 = z3.Int('v_1')\n",
    "l5 = z3.And(l2_T, v_1 == x)"
   ]
  },
  {
   "cell_type": "markdown",
   "metadata": {
    "slideshow": {
     "slide_type": "fragment"
    }
   },
   "source": [
    "When we come to `line: 6`, we see that we have *two* input streams. We have a choice. We can either keep each path separate as we did previously."
   ]
  },
  {
   "cell_type": "code",
   "execution_count": 49,
   "metadata": {
    "slideshow": {
     "slide_type": "subslide"
    }
   },
   "outputs": [
    {
     "name": "stdout",
     "output_type": "stream",
     "text": [
      "[x = -1, v = 1, v_0 = 1]\n",
      "[x = 1, v = 1, v_1 = 1]\n"
     ]
    }
   ],
   "source": [
    "v = z3.Int('v')\n",
    "for s in [z3.And(l3, v == v_0), z3.And(l5, v == v_1)]:\n",
    "    z3.solve(x != 0, s)"
   ]
  },
  {
   "cell_type": "markdown",
   "metadata": {
    "slideshow": {
     "slide_type": "fragment"
    }
   },
   "source": [
    "Or, we can combine them together and produce a single predicate at `line: 6`."
   ]
  },
  {
   "cell_type": "code",
   "execution_count": 50,
   "metadata": {
    "slideshow": {
     "slide_type": "fragment"
    }
   },
   "outputs": [
    {
     "name": "stdout",
     "output_type": "stream",
     "text": [
      "[v_0 = -1, v = 0, v_1 = 0, x = 0]\n"
     ]
    }
   ],
   "source": [
    "v = z3.Int('v')\n",
    "l6 = z3.Or(z3.And(l3, v == v_0), z3.And(l5, v == v_1))\n",
    "z3.solve(l6)"
   ]
  },
  {
   "cell_type": "markdown",
   "metadata": {
    "slideshow": {
     "slide_type": "subslide"
    }
   },
   "source": [
    "**Note.** Mering two incoming streams of execution can be non-trivial, especially when the execution paths are traversed multiple times (E.g. loops and recursion). For those interested, lookup [inferring loop invariants](https://www.st.cs.uni-saarland.de/publications/details/galeotti-hvc-2014/)."
   ]
  },
  {
   "cell_type": "markdown",
   "metadata": {
    "slideshow": {
     "slide_type": "fragment"
    }
   },
   "source": [
    "We can get this to produce any number of solutions for `abs()` as below."
   ]
  },
  {
   "cell_type": "code",
   "execution_count": 51,
   "metadata": {
    "scrolled": false,
    "slideshow": {
     "slide_type": "subslide"
    }
   },
   "outputs": [
    {
     "name": "stdout",
     "output_type": "stream",
     "text": [
      "[v_0 = -1, v = 0, v_1 = 0, x = 0]\n",
      "[v = 1, v_1 = 1, x = 1]\n",
      "[v = 2, v_1 = 2, x = 2]\n",
      "[v = 3, v_1 = 3, x = 3]\n",
      "[v = 4, v_1 = 4, x = 4]\n"
     ]
    },
    {
     "data": {
      "text/plain": [
       "[Or(And(And(x < 0, v_0 == -x), v == v_0),\n",
       "    And(And(Not(x < 0), v_1 == x), v == v_1)),\n",
       " Not(0 == x),\n",
       " Not(1 == x),\n",
       " Not(2 == x),\n",
       " Not(3 == x),\n",
       " Not(4 == x)]"
      ]
     },
     "execution_count": 51,
     "metadata": {},
     "output_type": "execute_result"
    }
   ],
   "source": [
    "s = z3.Solver()\n",
    "s.add(l6)\n",
    "for i in range(5):\n",
    "    if s.check() == z3.sat:\n",
    "        m = s.model()\n",
    "        x_val = m[x]\n",
    "        print(m)\n",
    "    else:\n",
    "        print('no solution')\n",
    "        break\n",
    "    s.add(z3.Not(x == x_val))\n",
    "s"
   ]
  },
  {
   "cell_type": "markdown",
   "metadata": {
    "slideshow": {
     "slide_type": "subslide"
    }
   },
   "source": [
    "The solver is not particularly random. So we need to help it a bit to produce values on the negative range."
   ]
  },
  {
   "cell_type": "code",
   "execution_count": 52,
   "metadata": {
    "slideshow": {
     "slide_type": "subslide"
    }
   },
   "outputs": [
    {
     "name": "stdout",
     "output_type": "stream",
     "text": [
      "[v_0 = 1, v = 1, x = -1]\n",
      "[v_0 = 2, v = 2, x = -2]\n",
      "[v_0 = 3, v = 3, x = -3]\n",
      "[v_0 = 4, v = 4, x = -4]\n",
      "[v_0 = 5, v = 5, x = -5]\n"
     ]
    },
    {
     "data": {
      "text/plain": [
       "[Or(And(And(x < 0, v_0 == -x), v == v_0),\n",
       "    And(And(Not(x < 0), v_1 == x), v == v_1)),\n",
       " Not(0 == x),\n",
       " Not(1 == x),\n",
       " Not(2 == x),\n",
       " Not(3 == x),\n",
       " Not(4 == x),\n",
       " x < 0,\n",
       " Not(-1 == x),\n",
       " Not(-2 == x),\n",
       " Not(-3 == x),\n",
       " Not(-4 == x),\n",
       " Not(-5 == x)]"
      ]
     },
     "execution_count": 52,
     "metadata": {},
     "output_type": "execute_result"
    }
   ],
   "source": [
    "s.add(x < 0)\n",
    "for i in range(5):\n",
    "    if s.check() == z3.sat:\n",
    "        m = s.model()\n",
    "        x_val = m[x]\n",
    "        print(m)\n",
    "    else:\n",
    "        print('no solution')\n",
    "        break\n",
    "    s.add(z3.Not(x == x_val))\n",
    "\n",
    "s"
   ]
  },
  {
   "cell_type": "markdown",
   "metadata": {
    "slideshow": {
     "slide_type": "subslide"
    }
   },
   "source": [
    "Note that the single expression produced at `line: 6` is essentially a summary for `abs_value()`. "
   ]
  },
  {
   "cell_type": "code",
   "execution_count": 53,
   "metadata": {
    "slideshow": {
     "slide_type": "fragment"
    }
   },
   "outputs": [
    {
     "data": {
      "text/plain": [
       "Or(And(And(x < 0, v_0 == -x), v == v_0),\n",
       "   And(And(Not(x < 0), v_1 == x), v == v_1))"
      ]
     },
     "execution_count": 53,
     "metadata": {},
     "output_type": "execute_result"
    }
   ],
   "source": [
    "abs_value_summary = l6\n",
    "abs_value_summary"
   ]
  },
  {
   "cell_type": "markdown",
   "metadata": {
    "slideshow": {
     "slide_type": "fragment"
    }
   },
   "source": [
    "The *z3* solver can be used to simplify the predicates where possible."
   ]
  },
  {
   "cell_type": "code",
   "execution_count": 54,
   "metadata": {
    "slideshow": {
     "slide_type": "fragment"
    }
   },
   "outputs": [
    {
     "data": {
      "text/plain": [
       "Or(And(Not(0 <= x), v_0 == -1*x, v == v_0),\n",
       "   And(0 <= x, v_1 == x, v == v_1))"
      ]
     },
     "execution_count": 54,
     "metadata": {},
     "output_type": "execute_result"
    }
   ],
   "source": [
    "z3.simplify(l6)"
   ]
  },
  {
   "cell_type": "markdown",
   "metadata": {
    "slideshow": {
     "slide_type": "fragment"
    }
   },
   "source": [
    "One can use this summary rather than trace into `abs_value()` when `abs_value()` is used elsewhere. For that, we need to convert this summary into a form that is usable in other places."
   ]
  },
  {
   "cell_type": "code",
   "execution_count": 55,
   "metadata": {
    "slideshow": {
     "slide_type": "skip"
    }
   },
   "outputs": [],
   "source": [
    "import ast\n",
    "import astunparse"
   ]
  },
  {
   "cell_type": "markdown",
   "metadata": {
    "slideshow": {
     "slide_type": "subslide"
    }
   },
   "source": [
    "#### prefix_vars\n",
    "The method `prefix_vars()` modifies the variables in an expression such that the variables are prefixed with a given value."
   ]
  },
  {
   "cell_type": "code",
   "execution_count": 56,
   "metadata": {
    "slideshow": {
     "slide_type": "subslide"
    }
   },
   "outputs": [],
   "source": [
    "def prefix_vars(astnode, prefix):\n",
    "    if isinstance(astnode, ast.BoolOp):\n",
    "        return ast.BoolOp(astnode.op,\n",
    "                          [prefix_vars(i, prefix) for i in astnode.values], [])\n",
    "    elif isinstance(astnode, ast.BinOp):\n",
    "        return ast.BinOp(\n",
    "            prefix_vars(astnode.left, prefix), astnode.op,\n",
    "            prefix_vars(astnode.right, prefix))\n",
    "    elif isinstance(astnode, ast.UnaryOp):\n",
    "        return ast.UnaryOp(astnode.op, prefix_vars(astnode.operand, prefix))\n",
    "    elif isinstance(astnode, ast.Call):\n",
    "        return ast.Call(prefix_vars(astnode.func, prefix),\n",
    "                        [prefix_vars(i, prefix) for i in astnode.args],\n",
    "                        astnode.keywords)\n",
    "    elif isinstance(astnode, ast.Compare):\n",
    "        return ast.Compare(\n",
    "            prefix_vars(astnode.left, prefix), astnode.ops,\n",
    "            [prefix_vars(i, prefix) for i in astnode.comparators])\n",
    "    elif isinstance(astnode, ast.Name):\n",
    "        if astnode.id in {'And', 'Or', 'Not'}:\n",
    "            return ast.Name('z3.%s' % (astnode.id), astnode.ctx)\n",
    "        else:\n",
    "            return ast.Name('%s_%s' % (prefix, astnode.id), astnode.ctx)\n",
    "    elif isinstance(astnode, ast.Return):\n",
    "        return ast.Return(prefix_vars(astnode.value, env))\n",
    "    else:\n",
    "        return astnode"
   ]
  },
  {
   "cell_type": "markdown",
   "metadata": {
    "slideshow": {
     "slide_type": "subslide"
    }
   },
   "source": [
    "The function `to_src()` allows us to *unparse* an expression."
   ]
  },
  {
   "cell_type": "code",
   "execution_count": 57,
   "metadata": {
    "slideshow": {
     "slide_type": "fragment"
    }
   },
   "outputs": [],
   "source": [
    "def to_src(astnode):\n",
    "    return astunparse.unparse(astnode).strip()"
   ]
  },
  {
   "cell_type": "code",
   "execution_count": 58,
   "metadata": {
    "slideshow": {
     "slide_type": "fragment"
    }
   },
   "outputs": [],
   "source": [
    "def get_expression(src):\n",
    "    return ast.parse(src).body[0].value"
   ]
  },
  {
   "cell_type": "markdown",
   "metadata": {
    "slideshow": {
     "slide_type": "fragment"
    }
   },
   "source": [
    "Now, we can combine both pieces to produce a prefixed expression as below."
   ]
  },
  {
   "cell_type": "code",
   "execution_count": 59,
   "metadata": {
    "scrolled": true,
    "slideshow": {
     "slide_type": "fragment"
    }
   },
   "outputs": [
    {
     "data": {
      "text/plain": [
       "'z3.Or(z3.And(z3.And((x1_x < 0), (x1_v_0 == (- x1_x))), (x1_v == x1_v_0)), z3.And(z3.And(z3.Not((x1_x < 0)), (x1_v_1 == x1_x)), (x1_v == x1_v_1)))'"
      ]
     },
     "execution_count": 59,
     "metadata": {},
     "output_type": "execute_result"
    }
   ],
   "source": [
    "abs_value_summary_ast = get_expression(str(abs_value_summary))\n",
    "to_src(prefix_vars(abs_value_summary_ast, 'x1'))"
   ]
  },
  {
   "cell_type": "markdown",
   "metadata": {
    "slideshow": {
     "slide_type": "subslide"
    }
   },
   "source": [
    "#### names"
   ]
  },
  {
   "cell_type": "markdown",
   "metadata": {
    "slideshow": {
     "slide_type": "fragment"
    }
   },
   "source": [
    "We need the names of variables used in an expression to declare the to declare them. The method `names()` extracts variables used."
   ]
  },
  {
   "cell_type": "code",
   "execution_count": 60,
   "metadata": {
    "slideshow": {
     "slide_type": "subslide"
    }
   },
   "outputs": [],
   "source": [
    "def names(astnode):\n",
    "    lst = []\n",
    "    if isinstance(astnode, ast.BoolOp):\n",
    "        for i in astnode.values:\n",
    "            lst.extend(names(i))\n",
    "    elif isinstance(astnode, ast.BinOp):\n",
    "        lst.extend(names(astnode.left))\n",
    "        lst.extend(names(astnode.right))\n",
    "    elif isinstance(astnode, ast.UnaryOp):\n",
    "        lst.extend(names(astnode.operand))\n",
    "    elif isinstance(astnode, ast.Call):\n",
    "        for i in astnode.args:\n",
    "            lst.extend(names(i))\n",
    "    elif isinstance(astnode, ast.Compare):\n",
    "        lst.extend(names(astnode.left))\n",
    "        for i in astnode.comparators:\n",
    "            lst.extend(names(i))\n",
    "    elif isinstance(astnode, ast.Name):\n",
    "        lst.append(astnode.id)\n",
    "    elif isinstance(astnode, ast.Expr):\n",
    "        lst.extend(names(astnode.value))\n",
    "    elif isinstance(astnode, (ast.Num, ast.Str, ast.Tuple, ast.NameConstant)):\n",
    "        pass\n",
    "    elif isinstance(astnode, ast.Assign):\n",
    "        for t in astnode.targets:\n",
    "            lst.extend(names(t))\n",
    "        lst.extend(names(astnode.value))\n",
    "    elif isinstance(astnode, ast.Module):\n",
    "        for b in astnode.body:\n",
    "            lst.extend(names(b))\n",
    "    else:\n",
    "        raise Exception(str(astnode))\n",
    "    return list(set(lst))"
   ]
  },
  {
   "cell_type": "markdown",
   "metadata": {
    "slideshow": {
     "slide_type": "subslide"
    }
   },
   "source": [
    "With this, we can now extract the variables used in an expression."
   ]
  },
  {
   "cell_type": "code",
   "execution_count": 61,
   "metadata": {
    "slideshow": {
     "slide_type": "fragment"
    }
   },
   "outputs": [
    {
     "data": {
      "text/plain": [
       "['c', 'b', 'x', 'y', 'z', 'a']"
      ]
     },
     "execution_count": 61,
     "metadata": {},
     "output_type": "execute_result"
    }
   ],
   "source": [
    "v = ast.parse('fn(x+z,y>(a+b)) == c')\n",
    "names(v)"
   ]
  },
  {
   "cell_type": "code",
   "execution_count": 62,
   "metadata": {
    "slideshow": {
     "slide_type": "fragment"
    }
   },
   "outputs": [
    {
     "data": {
      "text/plain": [
       "['v_1', 'x', 'v_0', 'v']"
      ]
     },
     "execution_count": 62,
     "metadata": {},
     "output_type": "execute_result"
    }
   ],
   "source": [
    "abs_value_vars = names(ast.parse(str(abs_value_summary)))\n",
    "abs_value_vars"
   ]
  },
  {
   "cell_type": "markdown",
   "metadata": {
    "slideshow": {
     "slide_type": "fragment"
    }
   },
   "source": [
    "Registering functions for later use."
   ]
  },
  {
   "cell_type": "code",
   "execution_count": 63,
   "metadata": {
    "slideshow": {
     "slide_type": "fragment"
    }
   },
   "outputs": [],
   "source": [
    "function_summaries = {}\n",
    "function_summaries['abs_value'] = {\n",
    "    'predicate': str(abs_value_summary),\n",
    "    'vars': abs_value_vars}"
   ]
  },
  {
   "cell_type": "code",
   "execution_count": 64,
   "metadata": {
    "slideshow": {
     "slide_type": "subslide"
    }
   },
   "outputs": [],
   "source": [
    "def define_vars(fn_vars, sym_fn='z3.Int'):\n",
    "    sym_var_dec = ', '.join(fn_vars)\n",
    "    sym_var_def = ', '.join([\"%s('%s')\" % (sym_fn, i) for i in fn_vars])\n",
    "    return \"%s = %s\" % (sym_var_dec, sym_var_def)"
   ]
  },
  {
   "cell_type": "code",
   "execution_count": 65,
   "metadata": {
    "slideshow": {
     "slide_type": "fragment"
    }
   },
   "outputs": [],
   "source": [
    "def gen_fn_summary(prefix, fn, sym_fn='z3.Int'):\n",
    "    fn_name = fn.__name__\n",
    "    summary = function_summaries[fn_name]\n",
    "    summary_ast = ast.parse(summary['predicate']).body[0].value\n",
    "    fn_vars = [\"%s_%s\" % (prefix, s) for s in summary['vars']]\n",
    "    declarations = define_vars(fn_vars, sym_fn)\n",
    "    return declarations, to_src(prefix_vars(summary_ast, prefix))"
   ]
  },
  {
   "cell_type": "code",
   "execution_count": 66,
   "metadata": {
    "slideshow": {
     "slide_type": "fragment"
    }
   },
   "outputs": [
    {
     "data": {
      "text/plain": [
       "(\"a_v_1, a_x, a_v_0, a_v = z3.Int('a_v_1'), z3.Int('a_x'), z3.Int('a_v_0'), z3.Int('a_v')\",\n",
       " 'z3.Or(z3.And(z3.And((a_x < 0), (a_v_0 == (- a_x))), (a_v == a_v_0)), z3.And(z3.And(z3.Not((a_x < 0)), (a_v_1 == a_x)), (a_v == a_v_1)))')"
      ]
     },
     "execution_count": 66,
     "metadata": {},
     "output_type": "execute_result"
    }
   ],
   "source": [
    "gen_fn_summary('a', abs_value)"
   ]
  },
  {
   "cell_type": "code",
   "execution_count": 67,
   "metadata": {
    "slideshow": {
     "slide_type": "subslide"
    }
   },
   "outputs": [
    {
     "data": {
      "text/plain": [
       "(\"b_v_1, b_x, b_v_0, b_v = z3.Int('b_v_1'), z3.Int('b_x'), z3.Int('b_v_0'), z3.Int('b_v')\",\n",
       " 'z3.Or(z3.And(z3.And((b_x < 0), (b_v_0 == (- b_x))), (b_v == b_v_0)), z3.And(z3.And(z3.Not((b_x < 0)), (b_v_1 == b_x)), (b_v == b_v_1)))')"
      ]
     },
     "execution_count": 67,
     "metadata": {},
     "output_type": "execute_result"
    }
   ],
   "source": [
    "gen_fn_summary('b', abs_value)"
   ]
  },
  {
   "cell_type": "markdown",
   "metadata": {
    "slideshow": {
     "slide_type": "fragment"
    }
   },
   "source": [
    "How do we use our function summaries? Here is a function `abs_max()` that uses `abs_value()`."
   ]
  },
  {
   "cell_type": "code",
   "execution_count": 68,
   "metadata": {
    "slideshow": {
     "slide_type": "fragment"
    }
   },
   "outputs": [],
   "source": [
    "def abs_max(a, b):\n",
    "    a1 = abs_value(a)\n",
    "    b1 = abs_value(b)\n",
    "    if a1 > b1:\n",
    "        c = a1\n",
    "    else:\n",
    "        c = b1\n",
    "    return c"
   ]
  },
  {
   "cell_type": "markdown",
   "metadata": {
    "slideshow": {
     "slide_type": "fragment"
    }
   },
   "source": [
    "To trace this function symbolically, we first define the two variables `a` and `b`."
   ]
  },
  {
   "cell_type": "code",
   "execution_count": 69,
   "metadata": {
    "slideshow": {
     "slide_type": "subslide"
    }
   },
   "outputs": [],
   "source": [
    "a = z3.Int('a')\n",
    "b = z3.Int('b')"
   ]
  },
  {
   "cell_type": "markdown",
   "metadata": {
    "slideshow": {
     "slide_type": "fragment"
    }
   },
   "source": [
    "The `line: 2` contains definition for `a1`, which we define as a symbolic variable."
   ]
  },
  {
   "cell_type": "code",
   "execution_count": 70,
   "metadata": {
    "slideshow": {
     "slide_type": "fragment"
    }
   },
   "outputs": [],
   "source": [
    "a1 = z3.Int('a1')"
   ]
  },
  {
   "cell_type": "markdown",
   "metadata": {
    "slideshow": {
     "slide_type": "fragment"
    }
   },
   "source": [
    "We also need to call `abs_value()`, which is accomplished as follows. Since this is the first call to `abs_value()`, we use `abs1` as the prefix."
   ]
  },
  {
   "cell_type": "code",
   "execution_count": 71,
   "metadata": {
    "scrolled": true,
    "slideshow": {
     "slide_type": "fragment"
    }
   },
   "outputs": [
    {
     "data": {
      "text/plain": [
       "'z3.Or(z3.And(z3.And((abs1_x < 0), (abs1_v_0 == (- abs1_x))), (abs1_v == abs1_v_0)), z3.And(z3.And(z3.Not((abs1_x < 0)), (abs1_v_1 == abs1_x)), (abs1_v == abs1_v_1)))'"
      ]
     },
     "execution_count": 71,
     "metadata": {},
     "output_type": "execute_result"
    }
   ],
   "source": [
    "d, v = gen_fn_summary('abs1', abs_value)\n",
    "v"
   ]
  },
  {
   "cell_type": "markdown",
   "metadata": {
    "slideshow": {
     "slide_type": "fragment"
    }
   },
   "source": [
    "We also need to equate the resulting value (`<prefix>_v`) to the symbolic variable `a1` we defined earlier."
   ]
  },
  {
   "cell_type": "code",
   "execution_count": 72,
   "metadata": {
    "slideshow": {
     "slide_type": "subslide"
    }
   },
   "outputs": [
    {
     "data": {
      "text/plain": [
       "'l2 = z3.And(a == abs1_x, a1 == abs1_v, z3.Or(z3.And(z3.And((abs1_x < 0), (abs1_v_0 == (- abs1_x))), (abs1_v == abs1_v_0)), z3.And(z3.And(z3.Not((abs1_x < 0)), (abs1_v_1 == abs1_x)), (abs1_v == abs1_v_1))))'"
      ]
     },
     "execution_count": 72,
     "metadata": {},
     "output_type": "execute_result"
    }
   ],
   "source": [
    "l2_src = \"l2 = z3.And(a == abs1_x, a1 == abs1_v, %s)\" % v\n",
    "l2_src"
   ]
  },
  {
   "cell_type": "markdown",
   "metadata": {
    "slideshow": {
     "slide_type": "fragment"
    }
   },
   "source": [
    "Applying both declaration and the assignment."
   ]
  },
  {
   "cell_type": "code",
   "execution_count": 73,
   "metadata": {
    "slideshow": {
     "slide_type": "fragment"
    }
   },
   "outputs": [],
   "source": [
    "exec(d)\n",
    "exec(l2_src)"
   ]
  },
  {
   "cell_type": "code",
   "execution_count": 74,
   "metadata": {
    "slideshow": {
     "slide_type": "fragment"
    }
   },
   "outputs": [
    {
     "data": {
      "text/plain": [
       "And(a == abs1_x,\n",
       "    a1 == abs1_v,\n",
       "    Or(And(And(abs1_x < 0, abs1_v_0 == -abs1_x),\n",
       "           abs1_v == abs1_v_0),\n",
       "       And(And(Not(abs1_x < 0), abs1_v_1 == abs1_x),\n",
       "           abs1_v == abs1_v_1)))"
      ]
     },
     "execution_count": 74,
     "metadata": {},
     "output_type": "execute_result"
    }
   ],
   "source": [
    "l2"
   ]
  },
  {
   "cell_type": "markdown",
   "metadata": {
    "slideshow": {
     "slide_type": "fragment"
    }
   },
   "source": [
    "We need to do the same for `line: 3`, but with `abs2` as the prefix."
   ]
  },
  {
   "cell_type": "code",
   "execution_count": 75,
   "metadata": {
    "slideshow": {
     "slide_type": "subslide"
    }
   },
   "outputs": [],
   "source": [
    "b1 = z3.Int('b1')\n",
    "d, v = gen_fn_summary('abs2', abs_value)\n",
    "l3_src = \"l3_ = z3.And(b == abs2_x, b1 == abs2_v, %s)\" % v\n",
    "exec(d)\n",
    "exec(l3_src)"
   ]
  },
  {
   "cell_type": "code",
   "execution_count": 76,
   "metadata": {
    "slideshow": {
     "slide_type": "fragment"
    }
   },
   "outputs": [
    {
     "data": {
      "text/plain": [
       "And(b == abs2_x,\n",
       "    b1 == abs2_v,\n",
       "    Or(And(And(abs2_x < 0, abs2_v_0 == -abs2_x),\n",
       "           abs2_v == abs2_v_0),\n",
       "       And(And(Not(abs2_x < 0), abs2_v_1 == abs2_x),\n",
       "           abs2_v == abs2_v_1)))"
      ]
     },
     "execution_count": 76,
     "metadata": {},
     "output_type": "execute_result"
    }
   ],
   "source": [
    "l3_"
   ]
  },
  {
   "cell_type": "markdown",
   "metadata": {
    "slideshow": {
     "slide_type": "fragment"
    }
   },
   "source": [
    "To get the true set of predicates at `line: 3`, we need to add the predicates from `line: 2`."
   ]
  },
  {
   "cell_type": "code",
   "execution_count": 77,
   "metadata": {
    "slideshow": {
     "slide_type": "fragment"
    }
   },
   "outputs": [],
   "source": [
    "l3 = z3.And(l2, l3_)"
   ]
  },
  {
   "cell_type": "code",
   "execution_count": 78,
   "metadata": {
    "scrolled": true,
    "slideshow": {
     "slide_type": "subslide"
    }
   },
   "outputs": [
    {
     "data": {
      "text/plain": [
       "And(And(a == abs1_x,\n",
       "        a1 == abs1_v,\n",
       "        Or(And(And(abs1_x < 0, abs1_v_0 == -abs1_x),\n",
       "               abs1_v == abs1_v_0),\n",
       "           And(And(Not(abs1_x < 0), abs1_v_1 == abs1_x),\n",
       "               abs1_v == abs1_v_1))),\n",
       "    And(b == abs2_x,\n",
       "        b1 == abs2_v,\n",
       "        Or(And(And(abs2_x < 0, abs2_v_0 == -abs2_x),\n",
       "               abs2_v == abs2_v_0),\n",
       "           And(And(Not(abs2_x < 0), abs2_v_1 == abs2_x),\n",
       "               abs2_v == abs2_v_1))))"
      ]
     },
     "execution_count": 78,
     "metadata": {},
     "output_type": "execute_result"
    }
   ],
   "source": [
    "l3"
   ]
  },
  {
   "cell_type": "markdown",
   "metadata": {
    "slideshow": {
     "slide_type": "fragment"
    }
   },
   "source": [
    "This equation can be simplified a bit using z3."
   ]
  },
  {
   "cell_type": "code",
   "execution_count": 79,
   "metadata": {
    "slideshow": {
     "slide_type": "subslide"
    }
   },
   "outputs": [
    {
     "data": {
      "text/plain": [
       "And(a == abs1_x,\n",
       "    a1 == abs1_v,\n",
       "    Or(And(Not(0 <= abs1_x),\n",
       "           abs1_v_0 == -1*abs1_x,\n",
       "           abs1_v == abs1_v_0),\n",
       "       And(0 <= abs1_x,\n",
       "           abs1_v_1 == abs1_x,\n",
       "           abs1_v == abs1_v_1)),\n",
       "    b == abs2_x,\n",
       "    b1 == abs2_v,\n",
       "    Or(And(Not(0 <= abs2_x),\n",
       "           abs2_v_0 == -1*abs2_x,\n",
       "           abs2_v == abs2_v_0),\n",
       "       And(0 <= abs2_x,\n",
       "           abs2_v_1 == abs2_x,\n",
       "           abs2_v == abs2_v_1)))"
      ]
     },
     "execution_count": 79,
     "metadata": {},
     "output_type": "execute_result"
    }
   ],
   "source": [
    "z3.simplify(l3)"
   ]
  },
  {
   "cell_type": "markdown",
   "metadata": {
    "slideshow": {
     "slide_type": "subslide"
    }
   },
   "source": [
    "Coming to `line: 4`, we have a condition."
   ]
  },
  {
   "cell_type": "code",
   "execution_count": 80,
   "metadata": {
    "slideshow": {
     "slide_type": "fragment"
    }
   },
   "outputs": [],
   "source": [
    "l4_cond = a1 > b1\n",
    "l4 = z3.And(l3, l4_cond)"
   ]
  },
  {
   "cell_type": "markdown",
   "metadata": {
    "slideshow": {
     "slide_type": "fragment"
    }
   },
   "source": [
    "For `line: 5`, we define the symbolic variable `c_0` assuming we took the *IF* branch."
   ]
  },
  {
   "cell_type": "code",
   "execution_count": 81,
   "metadata": {
    "slideshow": {
     "slide_type": "fragment"
    }
   },
   "outputs": [],
   "source": [
    "c_0 = z3.Int('c_0')\n",
    "l5 = z3.And(l4, c_0 == a1)"
   ]
  },
  {
   "cell_type": "markdown",
   "metadata": {
    "slideshow": {
     "slide_type": "fragment"
    }
   },
   "source": [
    "For `line: 6`, the *ELSE* branch was taken. So we invert that condition."
   ]
  },
  {
   "cell_type": "code",
   "execution_count": 82,
   "metadata": {
    "slideshow": {
     "slide_type": "fragment"
    }
   },
   "outputs": [],
   "source": [
    "l6 = z3.And(l3, z3.Not(l4_cond))"
   ]
  },
  {
   "cell_type": "markdown",
   "metadata": {
    "slideshow": {
     "slide_type": "fragment"
    }
   },
   "source": [
    "For `line: 7`, we define `c_1`."
   ]
  },
  {
   "cell_type": "code",
   "execution_count": 83,
   "metadata": {
    "slideshow": {
     "slide_type": "fragment"
    }
   },
   "outputs": [],
   "source": [
    "c_1 = z3.Int('c_1')\n",
    "l7 = z3.And(l6, c_1 == b1)"
   ]
  },
  {
   "cell_type": "code",
   "execution_count": 84,
   "metadata": {
    "slideshow": {
     "slide_type": "subslide"
    }
   },
   "outputs": [
    {
     "data": {
      "text/plain": [
       "sat"
      ]
     },
     "execution_count": 84,
     "metadata": {},
     "output_type": "execute_result"
    }
   ],
   "source": [
    "s1 = z3.Solver()\n",
    "s1.add(l5)\n",
    "s1.check()"
   ]
  },
  {
   "cell_type": "code",
   "execution_count": 85,
   "metadata": {
    "slideshow": {
     "slide_type": "fragment"
    }
   },
   "outputs": [
    {
     "data": {
      "text/plain": [
       "[(a, 1), (a1, 1), (b, 0), (b1, 0), (c_0, 1)]"
      ]
     },
     "execution_count": 85,
     "metadata": {},
     "output_type": "execute_result"
    }
   ],
   "source": [
    "m1 = s1.model()\n",
    "sorted([(d, m1[d]) for d in m1.decls() if not d.name(\n",
    ").startswith('abs')], key=lambda x: x[0].name())"
   ]
  },
  {
   "cell_type": "code",
   "execution_count": 86,
   "metadata": {
    "slideshow": {
     "slide_type": "fragment"
    }
   },
   "outputs": [
    {
     "data": {
      "text/plain": [
       "sat"
      ]
     },
     "execution_count": 86,
     "metadata": {},
     "output_type": "execute_result"
    }
   ],
   "source": [
    "s2 = z3.Solver()\n",
    "s2.add(l7)\n",
    "s2.check()"
   ]
  },
  {
   "cell_type": "code",
   "execution_count": 87,
   "metadata": {
    "slideshow": {
     "slide_type": "subslide"
    }
   },
   "outputs": [
    {
     "data": {
      "text/plain": [
       "[(a, 1), (a1, 1), (b, 1), (b1, 1), (c_1, 1)]"
      ]
     },
     "execution_count": 87,
     "metadata": {},
     "output_type": "execute_result"
    }
   ],
   "source": [
    "m2 = s2.model()\n",
    "sorted([(d, m2[d]) for d in m2.decls() if not d.name(\n",
    ").startswith('abs')], key=lambda x: x[0].name())"
   ]
  },
  {
   "cell_type": "markdown",
   "metadata": {
    "slideshow": {
     "slide_type": "fragment"
    }
   },
   "source": [
    "What we really want to do is to automate this process, because doing this by hand is tedious and error prone. Essentially, we want the ability to extract *all paths* in the program, and symbolically execute each path, which will generate the inputs required to cover all reachable portions of the program."
   ]
  },
  {
   "cell_type": "markdown",
   "metadata": {
    "slideshow": {
     "slide_type": "slide"
    }
   },
   "source": [
    "## Symbolic Execution"
   ]
  },
  {
   "cell_type": "markdown",
   "metadata": {
    "slideshow": {
     "slide_type": "subslide"
    }
   },
   "source": [
    "We define a simple *symbolic fuzzer* that can generate input values *symbolically* with the following assumptions:\n",
    "\n",
    "* There are no loops in the program\n",
    "* The function is self contained.\n",
    "* No recursion.\n",
    "* No reassignments for variables.\n",
    "\n",
    "The key idea is as follows: We traverse through the control flow graph from the entry point, and generate all possible paths to a given depth. Then we collect constraints that we encountered along the path, and generate inputs that will traverse the program up to that point."
   ]
  },
  {
   "cell_type": "markdown",
   "metadata": {
    "slideshow": {
     "slide_type": "subslide"
    }
   },
   "source": [
    "We build our fuzzer based on the class `Fuzzer`."
   ]
  },
  {
   "cell_type": "code",
   "execution_count": 88,
   "metadata": {
    "slideshow": {
     "slide_type": "skip"
    }
   },
   "outputs": [],
   "source": [
    "from Fuzzer import Fuzzer"
   ]
  },
  {
   "cell_type": "markdown",
   "metadata": {
    "slideshow": {
     "slide_type": "subslide"
    }
   },
   "source": [
    "### SimpleSymbolicFuzzer"
   ]
  },
  {
   "cell_type": "markdown",
   "metadata": {
    "slideshow": {
     "slide_type": "fragment"
    }
   },
   "source": [
    "We start by extracting the control flow graph of the function passed. We also provide a hook for child classes to do their processing."
   ]
  },
  {
   "cell_type": "code",
   "execution_count": 89,
   "metadata": {
    "slideshow": {
     "slide_type": "subslide"
    }
   },
   "outputs": [],
   "source": [
    "class SimpleSymbolicFuzzer(Fuzzer):\n",
    "    def __init__(self, fn, **kwargs):\n",
    "        self.fn = fn\n",
    "        self.fn_src = inspect.getsource(fn)\n",
    "        self.fn_args = list(inspect.signature(fn).parameters)\n",
    "        self.py_cfg = PyCFG()\n",
    "        self.py_cfg.gen_cfg(self.fn_src)\n",
    "        self.fnenter, self.fnexit = self.py_cfg.functions[fn.__name__]\n",
    "        self.paths = None\n",
    "        self.last_path = None\n",
    "        self.removed_solutions = []\n",
    "        self.z3 = z3.Solver()\n",
    "        self.options(kwargs)\n",
    "        self.process()\n",
    "\n",
    "    def process(self):\n",
    "        pass"
   ]
  },
  {
   "cell_type": "markdown",
   "metadata": {
    "slideshow": {
     "slide_type": "subslide"
    }
   },
   "source": [
    "We need a few variables to control how much we are willing to traverse."
   ]
  },
  {
   "cell_type": "markdown",
   "metadata": {
    "slideshow": {
     "slide_type": "fragment"
    }
   },
   "source": [
    "`MAX_DEPTH` is the depth to which one should attempt to trace the execution."
   ]
  },
  {
   "cell_type": "code",
   "execution_count": 90,
   "metadata": {
    "slideshow": {
     "slide_type": "fragment"
    }
   },
   "outputs": [],
   "source": [
    "MAX_DEPTH = 100"
   ]
  },
  {
   "cell_type": "markdown",
   "metadata": {
    "slideshow": {
     "slide_type": "fragment"
    }
   },
   "source": [
    "`MAX_TRIES` is the maximum number of attempts we will try to produce a value before giving up."
   ]
  },
  {
   "cell_type": "code",
   "execution_count": 91,
   "metadata": {
    "slideshow": {
     "slide_type": "fragment"
    }
   },
   "outputs": [],
   "source": [
    "MAX_TRIES = 100"
   ]
  },
  {
   "cell_type": "markdown",
   "metadata": {
    "slideshow": {
     "slide_type": "fragment"
    }
   },
   "source": [
    "`MAX_ITER` is the number of iterations we will attempt."
   ]
  },
  {
   "cell_type": "code",
   "execution_count": 92,
   "metadata": {
    "slideshow": {
     "slide_type": "fragment"
    }
   },
   "outputs": [],
   "source": [
    "MAX_ITER = 100"
   ]
  },
  {
   "cell_type": "markdown",
   "metadata": {
    "slideshow": {
     "slide_type": "fragment"
    }
   },
   "source": [
    "The `options()` method sets these parameters in the fuzzing class."
   ]
  },
  {
   "cell_type": "code",
   "execution_count": 93,
   "metadata": {
    "slideshow": {
     "slide_type": "subslide"
    }
   },
   "outputs": [],
   "source": [
    "class SimpleSymbolicFuzzer(SimpleSymbolicFuzzer):\n",
    "    def options(self, kwargs):\n",
    "        self.max_depth = kwargs.get('max_depth', MAX_DEPTH)\n",
    "        self.max_tries = kwargs.get('max_tries', MAX_TRIES)\n",
    "        self.max_iter = kwargs.get('max_iter', MAX_ITER)\n",
    "        self.symbolic_fn = kwargs.get('symbolic_fn', 'z3.Int')\n",
    "        self._options = kwargs"
   ]
  },
  {
   "cell_type": "markdown",
   "metadata": {
    "slideshow": {
     "slide_type": "fragment"
    }
   },
   "source": [
    "The initialization generates a control flow graph and hooks it to `fnenter` and `fnexit`."
   ]
  },
  {
   "cell_type": "code",
   "execution_count": 94,
   "metadata": {
    "slideshow": {
     "slide_type": "fragment"
    }
   },
   "outputs": [],
   "source": [
    "symfz_ct = SimpleSymbolicFuzzer(check_triangle)"
   ]
  },
  {
   "cell_type": "code",
   "execution_count": 95,
   "metadata": {
    "slideshow": {
     "slide_type": "fragment"
    }
   },
   "outputs": [
    {
     "data": {
      "text/plain": [
       "(id:9 line[1] parents: [] : enter: check_triangle(a, b, c),\n",
       " id:10 line[1] parents: [14, 15, 16, 19, 20, 21] : exit: check_triangle(a, b, c))"
      ]
     },
     "execution_count": 95,
     "metadata": {},
     "output_type": "execute_result"
    }
   ],
   "source": [
    "symfz_ct.fnenter, symfz_ct.fnexit"
   ]
  },
  {
   "cell_type": "markdown",
   "metadata": {
    "slideshow": {
     "slide_type": "subslide"
    }
   },
   "source": [
    "#### get_all_paths\n",
    "We can use the procedure `get_all_paths()` starting from `fnenter` to recursively retrieve all paths in the function.\n",
    "\n",
    "In the CFG, in the case of if-then-else branches, the first node is the `If` branch, while the second node is the `Else` branch. Hence, we keep track of the order of definition in `idx`."
   ]
  },
  {
   "cell_type": "code",
   "execution_count": 96,
   "metadata": {
    "slideshow": {
     "slide_type": "subslide"
    }
   },
   "outputs": [],
   "source": [
    "class SimpleSymbolicFuzzer(SimpleSymbolicFuzzer):\n",
    "    def get_all_paths(self, fenter, depth=0):\n",
    "        if depth > self.max_depth:\n",
    "            raise Exception('Maximum depth exceeded')\n",
    "        if not fenter.children:\n",
    "            return [[(0, fenter)]]\n",
    "\n",
    "        fnpaths = []\n",
    "        for idx, child in enumerate(fenter.children):\n",
    "            child_paths = self.get_all_paths(child, depth + 1)\n",
    "            for path in child_paths:\n",
    "                fnpaths.append([(idx, fenter)] + path)\n",
    "        return fnpaths"
   ]
  },
  {
   "cell_type": "markdown",
   "metadata": {
    "slideshow": {
     "slide_type": "fragment"
    }
   },
   "source": [
    "This can be used as follows."
   ]
  },
  {
   "cell_type": "code",
   "execution_count": 97,
   "metadata": {
    "scrolled": false,
    "slideshow": {
     "slide_type": "subslide"
    }
   },
   "outputs": [
    {
     "name": "stdout",
     "output_type": "stream",
     "text": [
      "6\n"
     ]
    },
    {
     "data": {
      "text/plain": [
       "[(0, id:24 line[1] parents: [] : enter: check_triangle(a, b, c)),\n",
       " (0, id:26 line[2] parents: [24] : _if: (a == b)),\n",
       " (0, id:27 line[3] parents: [26] : _if: (a == c)),\n",
       " (1, id:28 line[4] parents: [27] : _if: (b == c)),\n",
       " (0, id:30 line[7] parents: [28] : return 'Isosceles'),\n",
       " (0,\n",
       "  id:25 line[1] parents: [29, 30, 31, 34, 35, 36] : exit: check_triangle(a, b, c))]"
      ]
     },
     "execution_count": 97,
     "metadata": {},
     "output_type": "execute_result"
    }
   ],
   "source": [
    "symfz_ct = SimpleSymbolicFuzzer(check_triangle)\n",
    "paths = symfz_ct.get_all_paths(symfz_ct.fnenter)\n",
    "print(len(paths))\n",
    "paths[1]"
   ]
  },
  {
   "cell_type": "markdown",
   "metadata": {
    "slideshow": {
     "slide_type": "fragment"
    }
   },
   "source": [
    "We hook `get_all_paths()` to initialization as below."
   ]
  },
  {
   "cell_type": "code",
   "execution_count": 98,
   "metadata": {
    "slideshow": {
     "slide_type": "subslide"
    }
   },
   "outputs": [],
   "source": [
    "class SimpleSymbolicFuzzer(SimpleSymbolicFuzzer):\n",
    "    def process(self):\n",
    "        self.paths = self.get_all_paths(self.fnenter)\n",
    "        self.last_path = len(self.paths)"
   ]
  },
  {
   "cell_type": "markdown",
   "metadata": {
    "slideshow": {
     "slide_type": "subslide"
    }
   },
   "source": [
    "#### extract_constraints\n",
    "\n",
    "For any given path, we define a function `extract_constraints()` to extract the constraints in `z3` format. Given that the order of the child shows which branch was taken, we need to shift"
   ]
  },
  {
   "cell_type": "code",
   "execution_count": 99,
   "metadata": {
    "slideshow": {
     "slide_type": "subslide"
    }
   },
   "outputs": [],
   "source": [
    "class SimpleSymbolicFuzzer(SimpleSymbolicFuzzer):\n",
    "    def extract_constraints(self, path):\n",
    "        predicates = []\n",
    "        for (idx, elt) in path:\n",
    "            if isinstance(elt.ast_node, ast.AnnAssign):\n",
    "                if elt.ast_node.target.id in {'_if', '_while'}:\n",
    "                    s = to_src(elt.ast_node.annotation)\n",
    "                    predicates.append((\"%s\" if idx == 0 else \"z3.Not%s\") % s)\n",
    "            elif isinstance(elt.ast_node, ast.Assign):\n",
    "                predicates.append(to_src(elt.ast_node))\n",
    "            else:\n",
    "                pass\n",
    "        return predicates"
   ]
  },
  {
   "cell_type": "code",
   "execution_count": 100,
   "metadata": {
    "slideshow": {
     "slide_type": "subslide"
    }
   },
   "outputs": [
    {
     "data": {
      "text/plain": [
       "['(a == b)', '(a == c)', 'z3.Not(b == c)']"
      ]
     },
     "execution_count": 100,
     "metadata": {},
     "output_type": "execute_result"
    }
   ],
   "source": [
    "symfz_ct = SimpleSymbolicFuzzer(check_triangle)\n",
    "paths = symfz_ct.get_all_paths(symfz_ct.fnenter)\n",
    "constraints = symfz_ct.extract_constraints(paths[1])\n",
    "constraints"
   ]
  },
  {
   "cell_type": "markdown",
   "metadata": {
    "slideshow": {
     "slide_type": "fragment"
    }
   },
   "source": [
    "The method `used_vars()` extracts the symbolic variables to be defined from an expression."
   ]
  },
  {
   "cell_type": "code",
   "execution_count": 101,
   "metadata": {
    "slideshow": {
     "slide_type": "fragment"
    }
   },
   "outputs": [],
   "source": [
    "def used_vars(predicates):\n",
    "    return list(set([n for p in predicates for n in names(get_expression(p))]))"
   ]
  },
  {
   "cell_type": "code",
   "execution_count": 102,
   "metadata": {
    "slideshow": {
     "slide_type": "fragment"
    }
   },
   "outputs": [
    {
     "data": {
      "text/plain": [
       "['c', 'b', 'a']"
      ]
     },
     "execution_count": 102,
     "metadata": {},
     "output_type": "execute_result"
    }
   ],
   "source": [
    "used_vars(constraints)"
   ]
  },
  {
   "cell_type": "code",
   "execution_count": 103,
   "metadata": {
    "slideshow": {
     "slide_type": "fragment"
    }
   },
   "outputs": [
    {
     "data": {
      "text/plain": [
       "['(a == b)', '(a == c)', '(b == c)']"
      ]
     },
     "execution_count": 103,
     "metadata": {},
     "output_type": "execute_result"
    }
   ],
   "source": [
    "symfz_ct.extract_constraints(paths[0])"
   ]
  },
  {
   "cell_type": "markdown",
   "metadata": {
    "slideshow": {
     "slide_type": "subslide"
    }
   },
   "source": [
    "#### Fuzzing with our simple fuzzer"
   ]
  },
  {
   "cell_type": "markdown",
   "metadata": {
    "slideshow": {
     "slide_type": "fragment"
    }
   },
   "source": [
    "To actually generate solutions, we define `fuzz()`. For that, we need to first extract all paths. Then choose a particular path, and extract the constraints in that path, which is then solved using *z3*."
   ]
  },
  {
   "cell_type": "code",
   "execution_count": 104,
   "metadata": {
    "slideshow": {
     "slide_type": "skip"
    }
   },
   "outputs": [],
   "source": [
    "from contextlib import contextmanager"
   ]
  },
  {
   "cell_type": "markdown",
   "metadata": {
    "slideshow": {
     "slide_type": "fragment"
    }
   },
   "source": [
    "First we create a checkpoint for our current solver so that we can check a predicate, and rollback if necessary."
   ]
  },
  {
   "cell_type": "code",
   "execution_count": 105,
   "metadata": {
    "slideshow": {
     "slide_type": "fragment"
    }
   },
   "outputs": [],
   "source": [
    "@contextmanager\n",
    "def checkpoint(z3solver):\n",
    "    z3solver.push()\n",
    "    yield z3solver\n",
    "    z3solver.pop()"
   ]
  },
  {
   "cell_type": "markdown",
   "metadata": {
    "slideshow": {
     "slide_type": "subslide"
    }
   },
   "source": [
    "The `use_path()` function extracts constraints for a single function, applies it to our current solver (under a checkpoint), and returns the results if some solutions can be found.\n",
    "\n",
    "If solutions were found, we also make sure that we never reuse those solutions."
   ]
  },
  {
   "cell_type": "code",
   "execution_count": 106,
   "metadata": {
    "slideshow": {
     "slide_type": "subslide"
    }
   },
   "outputs": [],
   "source": [
    "class SimpleSymbolicFuzzer(SimpleSymbolicFuzzer):\n",
    "    def solve_path_constraint(self, path):\n",
    "        # re-initializing does not seem problematic.\n",
    "        # a = z3.Int('a').get_id() remains the same.\n",
    "        constraints = self.extract_constraints(path)\n",
    "        exec(define_vars(used_vars(constraints), self.symbolic_fn))\n",
    "\n",
    "        solutions = {}\n",
    "        with checkpoint(self.z3):\n",
    "            st = 'self.z3.add(%s)' % ', '.join(constraints)\n",
    "            eval(st)\n",
    "            if self.z3.check() != z3.sat:\n",
    "                return {}\n",
    "            m = self.z3.model()\n",
    "            solutions = {d.name(): m[d] for d in m.decls()}\n",
    "            my_args = {k: solutions.get(k, None) for k in self.fn_args}\n",
    "        predicate = 'z3.And(%s)' % ','.join(\n",
    "            [\"%s == %s\" % (k, v) for k, v in my_args.items()])\n",
    "        eval('self.z3.add(z3.Not(%s))' % predicate)\n",
    "        return my_args"
   ]
  },
  {
   "cell_type": "markdown",
   "metadata": {
    "slideshow": {
     "slide_type": "subslide"
    }
   },
   "source": [
    "We define `get_path()` that retrieves the current path and updates the path used."
   ]
  },
  {
   "cell_type": "code",
   "execution_count": 107,
   "metadata": {
    "slideshow": {
     "slide_type": "fragment"
    }
   },
   "outputs": [],
   "source": [
    "class SimpleSymbolicFuzzer(SimpleSymbolicFuzzer):\n",
    "    def get_next_path(self):\n",
    "        self.last_path -= 1\n",
    "        if self.last_path == -1:\n",
    "            self.last_path = len(self.paths) - 1\n",
    "        return self.paths[self.last_path]"
   ]
  },
  {
   "cell_type": "markdown",
   "metadata": {
    "slideshow": {
     "slide_type": "fragment"
    }
   },
   "source": [
    "The `fuzz()` method simply solves each path in order."
   ]
  },
  {
   "cell_type": "code",
   "execution_count": 108,
   "metadata": {
    "slideshow": {
     "slide_type": "subslide"
    }
   },
   "outputs": [],
   "source": [
    "class SimpleSymbolicFuzzer(SimpleSymbolicFuzzer):\n",
    "    def fuzz(self):\n",
    "        for i in range(self.max_tries):\n",
    "            res = self.solve_path_constraint(self.get_next_path())\n",
    "            if res:\n",
    "                return res\n",
    "        return {}"
   ]
  },
  {
   "cell_type": "markdown",
   "metadata": {
    "slideshow": {
     "slide_type": "fragment"
    }
   },
   "source": [
    "The fuzzer can be used as follows."
   ]
  },
  {
   "cell_type": "code",
   "execution_count": 109,
   "metadata": {
    "scrolled": false,
    "slideshow": {
     "slide_type": "subslide"
    }
   },
   "outputs": [
    {
     "name": "stdout",
     "output_type": "stream",
     "text": [
      "{'a': 0, 'b': 1, 'c': 1} result: Isosceles\n",
      "{'a': 1, 'b': 2, 'c': 3} result: Scalene\n",
      "{'a': 2, 'b': 0, 'c': 2} result: Isosceles\n",
      "{'a': 0, 'b': 0, 'c': 4} result: Isosceles\n",
      "{'a': 1, 'b': 1, 'c': 1} result: Equilateral\n",
      "{'a': 2, 'b': 3, 'c': 3} result: Isosceles\n",
      "{'a': 4, 'b': 5, 'c': 6} result: Scalene\n",
      "{'a': 4, 'b': 2, 'c': 4} result: Isosceles\n",
      "{'a': 2, 'b': 2, 'c': 5} result: Isosceles\n"
     ]
    }
   ],
   "source": [
    "a, b, c = None, None, None\n",
    "symfz_ct = SimpleSymbolicFuzzer(check_triangle)\n",
    "for i in range(1, 10):\n",
    "    r = symfz_ct.fuzz()\n",
    "    v = check_triangle(r['a'].as_long(), r['b'].as_long(), r['c'].as_long())\n",
    "    print(r, \"result:\", v)"
   ]
  },
  {
   "cell_type": "markdown",
   "metadata": {
    "slideshow": {
     "slide_type": "subslide"
    }
   },
   "source": [
    "#### Problems with the Simple Fuzzer"
   ]
  },
  {
   "cell_type": "markdown",
   "metadata": {
    "slideshow": {
     "slide_type": "fragment"
    }
   },
   "source": [
    "As we mentioned earlier, the `SimpleSymbolicFuzzer` cannot yet deal with variable reassignments. Further, it also fails to account for any loops. For example, consider the following program."
   ]
  },
  {
   "cell_type": "code",
   "execution_count": 110,
   "metadata": {
    "slideshow": {
     "slide_type": "fragment"
    }
   },
   "outputs": [],
   "source": [
    "def gcd(a, b):\n",
    "    if a < b:\n",
    "        c = a\n",
    "        a = b\n",
    "        b = c\n",
    "\n",
    "    while b != 0:\n",
    "        c = a\n",
    "        a = b\n",
    "        b = c % b\n",
    "    return a"
   ]
  },
  {
   "cell_type": "code",
   "execution_count": 111,
   "metadata": {
    "slideshow": {
     "slide_type": "subslide"
    }
   },
   "outputs": [
    {
     "data": {
      "image/svg+xml": [
       "<?xml version=\"1.0\" encoding=\"UTF-8\" standalone=\"no\"?>\n",
       "<!DOCTYPE svg PUBLIC \"-//W3C//DTD SVG 1.1//EN\"\n",
       " \"http://www.w3.org/Graphics/SVG/1.1/DTD/svg11.dtd\">\n",
       "<!-- Generated by graphviz version 2.40.1 (20161225.0304)\n",
       " -->\n",
       "<!-- Title: %3 Pages: 1 -->\n",
       "<svg width=\"300pt\" height=\"670pt\"\n",
       " viewBox=\"0.00 0.00 300.39 670.00\" xmlns=\"http://www.w3.org/2000/svg\" xmlns:xlink=\"http://www.w3.org/1999/xlink\">\n",
       "<g id=\"graph0\" class=\"graph\" transform=\"scale(1 1) rotate(0) translate(4 666)\">\n",
       "<title>%3</title>\n",
       "<polygon fill=\"#ffffff\" stroke=\"transparent\" points=\"-4,4 -4,-666 296.3944,-666 296.3944,4 -4,4\"/>\n",
       "<!-- 1 -->\n",
       "<g id=\"node1\" class=\"node\">\n",
       "<title>1</title>\n",
       "<ellipse fill=\"none\" stroke=\"#000000\" cx=\"194.5523\" cy=\"-640\" rx=\"72.9326\" ry=\"18\"/>\n",
       "<ellipse fill=\"none\" stroke=\"#000000\" cx=\"194.5523\" cy=\"-640\" rx=\"76.9308\" ry=\"22\"/>\n",
       "<text text-anchor=\"middle\" x=\"194.5523\" y=\"-635.8\" font-family=\"Times,serif\" font-size=\"14.00\" fill=\"#000000\">1: enter: gcd(a, b)</text>\n",
       "</g>\n",
       "<!-- 3 -->\n",
       "<g id=\"node4\" class=\"node\">\n",
       "<title>3</title>\n",
       "<polygon fill=\"none\" stroke=\"#000000\" points=\"194.5523,-581 119.8938,-563 194.5523,-545 269.2108,-563 194.5523,-581\"/>\n",
       "<text text-anchor=\"middle\" x=\"194.5523\" y=\"-558.8\" font-family=\"Times,serif\" font-size=\"14.00\" fill=\"#000000\">2: if: (a &lt; b)</text>\n",
       "</g>\n",
       "<!-- 1&#45;&gt;3 -->\n",
       "<g id=\"edge2\" class=\"edge\">\n",
       "<title>1&#45;&gt;3</title>\n",
       "<path fill=\"none\" stroke=\"#000000\" d=\"M194.5523,-617.7284C194.5523,-609.4552 194.5523,-599.9583 194.5523,-591.2229\"/>\n",
       "<polygon fill=\"#000000\" stroke=\"#000000\" points=\"198.0524,-591.0789 194.5523,-581.0789 191.0524,-591.079 198.0524,-591.0789\"/>\n",
       "</g>\n",
       "<!-- 2 -->\n",
       "<g id=\"node2\" class=\"node\">\n",
       "<title>2</title>\n",
       "<ellipse fill=\"none\" stroke=\"#000000\" cx=\"72.5523\" cy=\"-95\" rx=\"68.6017\" ry=\"18\"/>\n",
       "<ellipse fill=\"none\" stroke=\"#000000\" cx=\"72.5523\" cy=\"-95\" rx=\"72.6046\" ry=\"22\"/>\n",
       "<text text-anchor=\"middle\" x=\"72.5523\" y=\"-90.8\" font-family=\"Times,serif\" font-size=\"14.00\" fill=\"#000000\">1: exit: gcd(a, b)</text>\n",
       "</g>\n",
       "<!-- 11 -->\n",
       "<g id=\"node3\" class=\"node\">\n",
       "<title>11</title>\n",
       "<polygon fill=\"none\" stroke=\"#000000\" points=\"129.5708,-190 49.5337,-190 49.5337,-154 129.5708,-154 129.5708,-190\"/>\n",
       "<text text-anchor=\"middle\" x=\"89.5523\" y=\"-167.8\" font-family=\"Times,serif\" font-size=\"14.00\" fill=\"#000000\">11: return a</text>\n",
       "</g>\n",
       "<!-- 11&#45;&gt;2 -->\n",
       "<g id=\"edge1\" class=\"edge\">\n",
       "<title>11&#45;&gt;2</title>\n",
       "<path fill=\"none\" stroke=\"#000000\" d=\"M85.5235,-153.7521C83.7543,-145.7387 81.6239,-136.0889 79.6055,-126.947\"/>\n",
       "<polygon fill=\"#000000\" stroke=\"#000000\" points=\"82.9733,-125.9659 77.3996,-116.9556 76.1379,-127.4751 82.9733,-125.9659\"/>\n",
       "</g>\n",
       "<!-- 4 -->\n",
       "<g id=\"node5\" class=\"node\">\n",
       "<title>4</title>\n",
       "<polygon fill=\"none\" stroke=\"#000000\" points=\"192.2659,-495 134.8387,-495 134.8387,-459 192.2659,-459 192.2659,-495\"/>\n",
       "<text text-anchor=\"middle\" x=\"163.5523\" y=\"-472.8\" font-family=\"Times,serif\" font-size=\"14.00\" fill=\"#000000\">3: c = a</text>\n",
       "</g>\n",
       "<!-- 3&#45;&gt;4 -->\n",
       "<g id=\"edge3\" class=\"edge\">\n",
       "<title>3&#45;&gt;4</title>\n",
       "<path fill=\"none\" stroke=\"#0000ff\" d=\"M188.5752,-546.4183C184.2995,-534.5568 178.4454,-518.3164 173.4745,-504.5261\"/>\n",
       "<polygon fill=\"#0000ff\" stroke=\"#0000ff\" points=\"176.7299,-503.2359 170.0462,-495.0153 170.1447,-505.6097 176.7299,-503.2359\"/>\n",
       "<text text-anchor=\"middle\" x=\"185.8282\" y=\"-515.8\" font-family=\"Times,serif\" font-size=\"14.00\" fill=\"#000000\">T</text>\n",
       "</g>\n",
       "<!-- 7 -->\n",
       "<g id=\"node8\" class=\"node\">\n",
       "<title>7</title>\n",
       "<polygon fill=\"none\" stroke=\"#000000\" points=\"192.5523,-276 92.8677,-258 192.5523,-240 292.2368,-258 192.5523,-276\"/>\n",
       "<text text-anchor=\"middle\" x=\"192.5523\" y=\"-253.8\" font-family=\"Times,serif\" font-size=\"14.00\" fill=\"#000000\">7: while: (b != 0)</text>\n",
       "</g>\n",
       "<!-- 3&#45;&gt;7 -->\n",
       "<g id=\"edge7\" class=\"edge\">\n",
       "<title>3&#45;&gt;7</title>\n",
       "<path fill=\"none\" stroke=\"#ff0000\" d=\"M203.1054,-547.0187C211.3396,-530.1193 222.5523,-502.4372 222.5523,-477 222.5523,-477 222.5523,-477 222.5523,-331 222.5523,-314.1893 215.6619,-296.725 208.4856,-283.0947\"/>\n",
       "<polygon fill=\"#ff0000\" stroke=\"#ff0000\" points=\"211.5062,-281.3256 203.5528,-274.326 205.4053,-284.7576 211.5062,-281.3256\"/>\n",
       "<text text-anchor=\"middle\" x=\"226.4454\" y=\"-399.8\" font-family=\"Times,serif\" font-size=\"14.00\" fill=\"#000000\">F</text>\n",
       "</g>\n",
       "<!-- 5 -->\n",
       "<g id=\"node6\" class=\"node\">\n",
       "<title>5</title>\n",
       "<polygon fill=\"none\" stroke=\"#000000\" points=\"187.0535,-422 128.0511,-422 128.0511,-386 187.0535,-386 187.0535,-422\"/>\n",
       "<text text-anchor=\"middle\" x=\"157.5523\" y=\"-399.8\" font-family=\"Times,serif\" font-size=\"14.00\" fill=\"#000000\">4: a = b</text>\n",
       "</g>\n",
       "<!-- 4&#45;&gt;5 -->\n",
       "<g id=\"edge4\" class=\"edge\">\n",
       "<title>4&#45;&gt;5</title>\n",
       "<path fill=\"none\" stroke=\"#000000\" d=\"M162.0691,-458.9551C161.4057,-450.8828 160.6079,-441.1764 159.8686,-432.1817\"/>\n",
       "<polygon fill=\"#000000\" stroke=\"#000000\" points=\"163.3466,-431.77 159.0392,-422.0904 156.3702,-432.3435 163.3466,-431.77\"/>\n",
       "</g>\n",
       "<!-- 6 -->\n",
       "<g id=\"node7\" class=\"node\">\n",
       "<title>6</title>\n",
       "<polygon fill=\"none\" stroke=\"#000000\" points=\"193.0535,-349 134.0511,-349 134.0511,-313 193.0535,-313 193.0535,-349\"/>\n",
       "<text text-anchor=\"middle\" x=\"163.5523\" y=\"-326.8\" font-family=\"Times,serif\" font-size=\"14.00\" fill=\"#000000\">5: b = c</text>\n",
       "</g>\n",
       "<!-- 5&#45;&gt;6 -->\n",
       "<g id=\"edge5\" class=\"edge\">\n",
       "<title>5&#45;&gt;6</title>\n",
       "<path fill=\"none\" stroke=\"#000000\" d=\"M159.0354,-385.9551C159.6989,-377.8828 160.4967,-368.1764 161.236,-359.1817\"/>\n",
       "<polygon fill=\"#000000\" stroke=\"#000000\" points=\"164.7344,-359.3435 162.0654,-349.0904 157.7579,-358.77 164.7344,-359.3435\"/>\n",
       "</g>\n",
       "<!-- 6&#45;&gt;7 -->\n",
       "<g id=\"edge6\" class=\"edge\">\n",
       "<title>6&#45;&gt;7</title>\n",
       "<path fill=\"none\" stroke=\"#000000\" d=\"M170.7208,-312.9551C174.1567,-304.3062 178.3378,-293.7814 182.1178,-284.2661\"/>\n",
       "<polygon fill=\"#000000\" stroke=\"#000000\" points=\"185.4246,-285.4222 185.8638,-274.8365 178.9191,-282.8378 185.4246,-285.4222\"/>\n",
       "</g>\n",
       "<!-- 7&#45;&gt;11 -->\n",
       "<g id=\"edge12\" class=\"edge\">\n",
       "<title>7&#45;&gt;11</title>\n",
       "<path fill=\"none\" stroke=\"#ff0000\" d=\"M174.6111,-243.0199C159.3165,-230.2497 137.0277,-211.6397 119.1029,-196.6733\"/>\n",
       "<polygon fill=\"#ff0000\" stroke=\"#ff0000\" points=\"121.1344,-193.81 111.2151,-190.0874 116.648,-199.1832 121.1344,-193.81\"/>\n",
       "<text text-anchor=\"middle\" x=\"151.4454\" y=\"-210.8\" font-family=\"Times,serif\" font-size=\"14.00\" fill=\"#000000\">F</text>\n",
       "</g>\n",
       "<!-- 8 -->\n",
       "<g id=\"node10\" class=\"node\">\n",
       "<title>8</title>\n",
       "<polygon fill=\"none\" stroke=\"#000000\" points=\"221.2659,-190 163.8387,-190 163.8387,-154 221.2659,-154 221.2659,-190\"/>\n",
       "<text text-anchor=\"middle\" x=\"192.5523\" y=\"-167.8\" font-family=\"Times,serif\" font-size=\"14.00\" fill=\"#000000\">8: c = a</text>\n",
       "</g>\n",
       "<!-- 7&#45;&gt;8 -->\n",
       "<g id=\"edge9\" class=\"edge\">\n",
       "<title>7&#45;&gt;8</title>\n",
       "<path fill=\"none\" stroke=\"#0000ff\" d=\"M192.5523,-239.7616C192.5523,-228.3597 192.5523,-213.4342 192.5523,-200.494\"/>\n",
       "<polygon fill=\"#0000ff\" stroke=\"#0000ff\" points=\"196.0524,-200.2121 192.5523,-190.2121 189.0524,-200.2121 196.0524,-200.2121\"/>\n",
       "<text text-anchor=\"middle\" x=\"196.8282\" y=\"-210.8\" font-family=\"Times,serif\" font-size=\"14.00\" fill=\"#000000\">T</text>\n",
       "</g>\n",
       "<!-- 10 -->\n",
       "<g id=\"node9\" class=\"node\">\n",
       "<title>10</title>\n",
       "<polygon fill=\"none\" stroke=\"#000000\" points=\"271.0388,-36 170.0658,-36 170.0658,0 271.0388,0 271.0388,-36\"/>\n",
       "<text text-anchor=\"middle\" x=\"220.5523\" y=\"-13.8\" font-family=\"Times,serif\" font-size=\"14.00\" fill=\"#000000\">10: b = (c % b)</text>\n",
       "</g>\n",
       "<!-- 10&#45;&gt;7 -->\n",
       "<g id=\"edge8\" class=\"edge\">\n",
       "<title>10&#45;&gt;7</title>\n",
       "<path fill=\"none\" stroke=\"#000000\" d=\"M225.2943,-36.4414C232.6889,-68.3296 244.7259,-135.5818 230.5523,-190 226.5202,-205.4808 218.1011,-221.1736 210.21,-233.5773\"/>\n",
       "<polygon fill=\"#000000\" stroke=\"#000000\" points=\"207.2473,-231.7119 204.6277,-241.9778 213.0775,-235.5862 207.2473,-231.7119\"/>\n",
       "</g>\n",
       "<!-- 9 -->\n",
       "<g id=\"node11\" class=\"node\">\n",
       "<title>9</title>\n",
       "<polygon fill=\"none\" stroke=\"#000000\" points=\"222.0535,-113 163.0511,-113 163.0511,-77 222.0535,-77 222.0535,-113\"/>\n",
       "<text text-anchor=\"middle\" x=\"192.5523\" y=\"-90.8\" font-family=\"Times,serif\" font-size=\"14.00\" fill=\"#000000\">9: a = b</text>\n",
       "</g>\n",
       "<!-- 8&#45;&gt;9 -->\n",
       "<g id=\"edge10\" class=\"edge\">\n",
       "<title>8&#45;&gt;9</title>\n",
       "<path fill=\"none\" stroke=\"#000000\" d=\"M192.5523,-153.7521C192.5523,-144.6422 192.5523,-133.4174 192.5523,-123.2282\"/>\n",
       "<polygon fill=\"#000000\" stroke=\"#000000\" points=\"196.0524,-123.1169 192.5523,-113.1169 189.0524,-123.117 196.0524,-123.1169\"/>\n",
       "</g>\n",
       "<!-- 9&#45;&gt;10 -->\n",
       "<g id=\"edge11\" class=\"edge\">\n",
       "<title>9&#45;&gt;10</title>\n",
       "<path fill=\"none\" stroke=\"#000000\" d=\"M199.1879,-76.7521C202.5703,-67.4504 206.7545,-55.9438 210.521,-45.5861\"/>\n",
       "<polygon fill=\"#000000\" stroke=\"#000000\" points=\"213.8361,-46.711 213.9643,-36.1169 207.2575,-44.3188 213.8361,-46.711\"/>\n",
       "</g>\n",
       "</g>\n",
       "</svg>\n"
      ],
      "text/plain": [
       "<graphviz.files.Source at 0x11616ddd8>"
      ]
     },
     "execution_count": 111,
     "metadata": {},
     "output_type": "execute_result"
    }
   ],
   "source": [
    "Source(to_graph(gen_cfg(inspect.getsource(gcd))))"
   ]
  },
  {
   "cell_type": "code",
   "execution_count": 112,
   "metadata": {
    "slideshow": {
     "slide_type": "skip"
    }
   },
   "outputs": [],
   "source": [
    "from ExpectError import ExpectError"
   ]
  },
  {
   "cell_type": "code",
   "execution_count": 113,
   "metadata": {
    "scrolled": false,
    "slideshow": {
     "slide_type": "subslide"
    }
   },
   "outputs": [
    {
     "name": "stderr",
     "output_type": "stream",
     "text": [
      "Traceback (most recent call last):\n",
      "  File \"<ipython-input-113-e63c685aac70>\", line 2, in <module>\n",
      "    symfz_gcd = SimpleSymbolicFuzzer(gcd)\n",
      "  File \"<ipython-input-89-d395d767fa77>\", line 14, in __init__\n",
      "    self.process()\n",
      "  File \"<ipython-input-98-6bc97a9e8eb0>\", line 3, in process\n",
      "    self.paths = self.get_all_paths(self.fnenter)\n",
      "  File \"<ipython-input-96-11757c1bd8b3>\", line 10, in get_all_paths\n",
      "    child_paths = self.get_all_paths(child, depth + 1)\n",
      "  File \"<ipython-input-96-11757c1bd8b3>\", line 10, in get_all_paths\n",
      "    child_paths = self.get_all_paths(child, depth + 1)\n",
      "  File \"<ipython-input-96-11757c1bd8b3>\", line 10, in get_all_paths\n",
      "    child_paths = self.get_all_paths(child, depth + 1)\n",
      "  [Previous line repeated 97 more times]\n",
      "  File \"<ipython-input-96-11757c1bd8b3>\", line 4, in get_all_paths\n",
      "    raise Exception('Maximum depth exceeded')\n",
      "Exception: Maximum depth exceeded (expected)\n"
     ]
    }
   ],
   "source": [
    "with ExpectError():\n",
    "    symfz_gcd = SimpleSymbolicFuzzer(gcd)\n",
    "    for i in range(1, 100):\n",
    "        r = symfz_gcd.fuzz()\n",
    "        v = gcd(r['a'].as_long(), r['b'].as_long())\n",
    "        print(r, v)"
   ]
  },
  {
   "cell_type": "markdown",
   "metadata": {
    "slideshow": {
     "slide_type": "subslide"
    }
   },
   "source": [
    "### Advanced Symbolic Fuzzer"
   ]
  },
  {
   "cell_type": "markdown",
   "metadata": {
    "slideshow": {
     "slide_type": "fragment"
    }
   },
   "source": [
    "We next define `AdvancedSymbolicFuzzer` that can deal with reassignments and *unrolling of loops*."
   ]
  },
  {
   "cell_type": "code",
   "execution_count": 114,
   "metadata": {
    "slideshow": {
     "slide_type": "fragment"
    }
   },
   "outputs": [],
   "source": [
    "class AdvancedSymbolicFuzzer(SimpleSymbolicFuzzer):\n",
    "    def options(self, kwargs):\n",
    "        super().options(kwargs)"
   ]
  },
  {
   "cell_type": "markdown",
   "metadata": {
    "slideshow": {
     "slide_type": "fragment"
    }
   },
   "source": [
    "Once we allow reassignments and loop unrolling, we have to deal with what to call the new variables generated. This is what we will tackle next."
   ]
  },
  {
   "cell_type": "markdown",
   "metadata": {
    "slideshow": {
     "slide_type": "subslide"
    }
   },
   "source": [
    "#### rename_variables"
   ]
  },
  {
   "cell_type": "markdown",
   "metadata": {
    "slideshow": {
     "slide_type": "fragment"
    }
   },
   "source": [
    "We want to rename all variables present in an expression such that the variables are annotated with their usage count. This makes it possible to determine variable reassignments.  To do that, we define the `rename_variables()` function that, when given an `env` that contains the current usage index of different variables, renames the variables in the passed in AST node with the annotations.\n",
    "\n",
    "That is, if the expression is `env[v] == 1`, `v` is renamed to `_v_1`"
   ]
  },
  {
   "cell_type": "code",
   "execution_count": 115,
   "metadata": {
    "slideshow": {
     "slide_type": "subslide"
    }
   },
   "outputs": [],
   "source": [
    "def rename_variables(astnode, env):\n",
    "    if isinstance(astnode, ast.BoolOp):\n",
    "        fn = 'z3.And' if isinstance(astnode.op, ast.And) else 'z3.Or'\n",
    "        return ast.Call(\n",
    "            ast.Name(fn, None),\n",
    "            [rename_variables(i, env) for i in astnode.values], [])\n",
    "    elif isinstance(astnode, ast.BinOp):\n",
    "        return ast.BinOp(\n",
    "            rename_variables(astnode.left, env), astnode.op,\n",
    "            rename_variables(astnode.right, env))\n",
    "    elif isinstance(astnode, ast.UnaryOp):\n",
    "        if isinstance(astnode.op, ast.Not):\n",
    "            return ast.Call(\n",
    "                ast.Name('z3.Not', None),\n",
    "                [rename_variables(astnode.operand, env)], [])\n",
    "        else:\n",
    "            return ast.UnaryOp(astnode.op,\n",
    "                               rename_variables(astnode.operand, env))\n",
    "    elif isinstance(astnode, ast.Call):\n",
    "        return ast.Call(astnode.func,\n",
    "                        [rename_variables(i, env) for i in astnode.args],\n",
    "                        astnode.keywords)\n",
    "    elif isinstance(astnode, ast.Compare):\n",
    "        return ast.Compare(\n",
    "            rename_variables(astnode.left, env), astnode.ops,\n",
    "            [rename_variables(i, env) for i in astnode.comparators])\n",
    "    elif isinstance(astnode, ast.Name):\n",
    "        if astnode.id not in env:\n",
    "            env[astnode.id] = 0\n",
    "        num = env[astnode.id]\n",
    "        return ast.Name('_%s_%d' % (astnode.id, num), astnode.ctx)\n",
    "    elif isinstance(astnode, ast.Return):\n",
    "        return ast.Return(rename_variables(astnode.value, env))\n",
    "    else:\n",
    "        return astnode"
   ]
  },
  {
   "cell_type": "markdown",
   "metadata": {
    "slideshow": {
     "slide_type": "subslide"
    }
   },
   "source": [
    "To verify that it works ans intended, we start with an environment."
   ]
  },
  {
   "cell_type": "code",
   "execution_count": 116,
   "metadata": {
    "slideshow": {
     "slide_type": "fragment"
    }
   },
   "outputs": [],
   "source": [
    "env = {'x': 1}"
   ]
  },
  {
   "cell_type": "code",
   "execution_count": 117,
   "metadata": {
    "slideshow": {
     "slide_type": "fragment"
    }
   },
   "outputs": [
    {
     "data": {
      "text/plain": [
       "_ast.BoolOp"
      ]
     },
     "execution_count": 117,
     "metadata": {},
     "output_type": "execute_result"
    }
   ],
   "source": [
    "ba = get_expression('x == 1 and y == 2')\n",
    "type(ba)"
   ]
  },
  {
   "cell_type": "code",
   "execution_count": 118,
   "metadata": {
    "slideshow": {
     "slide_type": "fragment"
    }
   },
   "outputs": [],
   "source": [
    "assert to_src(rename_variables(ba, env)) == 'z3.And((_x_1 == 1), (_y_0 == 2))'"
   ]
  },
  {
   "cell_type": "code",
   "execution_count": 119,
   "metadata": {
    "slideshow": {
     "slide_type": "fragment"
    }
   },
   "outputs": [
    {
     "data": {
      "text/plain": [
       "_ast.Or"
      ]
     },
     "execution_count": 119,
     "metadata": {},
     "output_type": "execute_result"
    }
   ],
   "source": [
    "bo = get_expression('x == 1 or y == 2')\n",
    "type(bo.op)"
   ]
  },
  {
   "cell_type": "code",
   "execution_count": 120,
   "metadata": {
    "slideshow": {
     "slide_type": "fragment"
    }
   },
   "outputs": [],
   "source": [
    "assert to_src(rename_variables(bo, env)) == 'z3.Or((_x_1 == 1), (_y_0 == 2))'"
   ]
  },
  {
   "cell_type": "code",
   "execution_count": 121,
   "metadata": {
    "slideshow": {
     "slide_type": "fragment"
    }
   },
   "outputs": [
    {
     "data": {
      "text/plain": [
       "_ast.BinOp"
      ]
     },
     "execution_count": 121,
     "metadata": {},
     "output_type": "execute_result"
    }
   ],
   "source": [
    "b = get_expression('x + y')\n",
    "type(b)"
   ]
  },
  {
   "cell_type": "code",
   "execution_count": 122,
   "metadata": {
    "slideshow": {
     "slide_type": "fragment"
    }
   },
   "outputs": [],
   "source": [
    "assert to_src(rename_variables(b, env)) == '(_x_1 + _y_0)'"
   ]
  },
  {
   "cell_type": "code",
   "execution_count": 123,
   "metadata": {
    "slideshow": {
     "slide_type": "subslide"
    }
   },
   "outputs": [
    {
     "data": {
      "text/plain": [
       "_ast.UnaryOp"
      ]
     },
     "execution_count": 123,
     "metadata": {},
     "output_type": "execute_result"
    }
   ],
   "source": [
    "u = get_expression('-y')\n",
    "type(u)"
   ]
  },
  {
   "cell_type": "code",
   "execution_count": 124,
   "metadata": {
    "slideshow": {
     "slide_type": "fragment"
    }
   },
   "outputs": [],
   "source": [
    "assert to_src(rename_variables(u, env)) == '(- _y_0)'"
   ]
  },
  {
   "cell_type": "code",
   "execution_count": 125,
   "metadata": {
    "slideshow": {
     "slide_type": "fragment"
    }
   },
   "outputs": [
    {
     "data": {
      "text/plain": [
       "_ast.Not"
      ]
     },
     "execution_count": 125,
     "metadata": {},
     "output_type": "execute_result"
    }
   ],
   "source": [
    "un = get_expression('not y')\n",
    "type(un.op)"
   ]
  },
  {
   "cell_type": "code",
   "execution_count": 126,
   "metadata": {
    "slideshow": {
     "slide_type": "fragment"
    }
   },
   "outputs": [],
   "source": [
    "assert to_src(rename_variables(un, env)) == 'z3.Not(_y_0)'"
   ]
  },
  {
   "cell_type": "code",
   "execution_count": 127,
   "metadata": {
    "slideshow": {
     "slide_type": "fragment"
    }
   },
   "outputs": [
    {
     "data": {
      "text/plain": [
       "_ast.Compare"
      ]
     },
     "execution_count": 127,
     "metadata": {},
     "output_type": "execute_result"
    }
   ],
   "source": [
    "c = get_expression('x == y')\n",
    "type(c)"
   ]
  },
  {
   "cell_type": "code",
   "execution_count": 128,
   "metadata": {
    "slideshow": {
     "slide_type": "fragment"
    }
   },
   "outputs": [],
   "source": [
    "assert to_src(rename_variables(c, env)) == '(_x_1 == _y_0)'"
   ]
  },
  {
   "cell_type": "code",
   "execution_count": 129,
   "metadata": {
    "slideshow": {
     "slide_type": "fragment"
    }
   },
   "outputs": [
    {
     "data": {
      "text/plain": [
       "_ast.Call"
      ]
     },
     "execution_count": 129,
     "metadata": {},
     "output_type": "execute_result"
    }
   ],
   "source": [
    "f = get_expression('fn(x,y)')\n",
    "type(f)"
   ]
  },
  {
   "cell_type": "code",
   "execution_count": 130,
   "metadata": {
    "slideshow": {
     "slide_type": "subslide"
    }
   },
   "outputs": [],
   "source": [
    "assert to_src(rename_variables(f, env)) == 'fn(_x_1, _y_0)'"
   ]
  },
  {
   "cell_type": "code",
   "execution_count": 131,
   "metadata": {
    "scrolled": false,
    "slideshow": {
     "slide_type": "fragment"
    }
   },
   "outputs": [
    {
     "data": {
      "text/plain": [
       "{'x': 1, 'y': 0}"
      ]
     },
     "execution_count": 131,
     "metadata": {},
     "output_type": "execute_result"
    }
   ],
   "source": [
    "env"
   ]
  },
  {
   "cell_type": "markdown",
   "metadata": {
    "slideshow": {
     "slide_type": "fragment"
    }
   },
   "source": [
    "Next, we want to process the CFG, and correctly transform the paths."
   ]
  },
  {
   "cell_type": "markdown",
   "metadata": {
    "slideshow": {
     "slide_type": "subslide"
    }
   },
   "source": [
    "#### PNode"
   ]
  },
  {
   "cell_type": "markdown",
   "metadata": {
    "slideshow": {
     "slide_type": "fragment"
    }
   },
   "source": [
    "For keeping track of assignments in the CFG, We define a data structure `PNode` that stores the current CFG node."
   ]
  },
  {
   "cell_type": "code",
   "execution_count": 132,
   "metadata": {
    "slideshow": {
     "slide_type": "fragment"
    }
   },
   "outputs": [],
   "source": [
    "class PNode:\n",
    "    def __init__(self, idx, cfgnode, parent=None, order=0):\n",
    "        self.idx, self.cfgnode, self.parent, self.order = idx, cfgnode, parent, order\n",
    "\n",
    "    def __repr__(self):\n",
    "        return \"PNode:%d[%s order:%d]\" % (self.idx, str(self.cfgnode),\n",
    "                                          self.order)"
   ]
  },
  {
   "cell_type": "markdown",
   "metadata": {
    "slideshow": {
     "slide_type": "fragment"
    }
   },
   "source": [
    "Defining a new `PNode` is done as follows."
   ]
  },
  {
   "cell_type": "code",
   "execution_count": 133,
   "metadata": {
    "slideshow": {
     "slide_type": "fragment"
    }
   },
   "outputs": [],
   "source": [
    "cfg = PyCFG()\n",
    "cfg.gen_cfg(inspect.getsource(gcd))\n",
    "fnenter, fnexit = cfg.functions['gcd']"
   ]
  },
  {
   "cell_type": "code",
   "execution_count": 134,
   "metadata": {
    "slideshow": {
     "slide_type": "subslide"
    }
   },
   "outputs": [
    {
     "data": {
      "text/plain": [
       "PNode:0[id:27 line[1] parents: [] : enter: gcd(a, b) order:0]"
      ]
     },
     "execution_count": 134,
     "metadata": {},
     "output_type": "execute_result"
    }
   ],
   "source": [
    "PNode(0, fnenter)"
   ]
  },
  {
   "cell_type": "markdown",
   "metadata": {
    "slideshow": {
     "slide_type": "subslide"
    }
   },
   "source": [
    "##### copy\n",
    "The `copy()` method generates a copy for the child's keep, indicating which path was taken (with `order` of the child)."
   ]
  },
  {
   "cell_type": "code",
   "execution_count": 135,
   "metadata": {
    "slideshow": {
     "slide_type": "fragment"
    }
   },
   "outputs": [],
   "source": [
    "class PNode(PNode):\n",
    "    def copy(self, order):\n",
    "        p = PNode(self.idx, self.cfgnode, self.parent, order)\n",
    "        assert p.order == order\n",
    "        return p"
   ]
  },
  {
   "cell_type": "markdown",
   "metadata": {
    "slideshow": {
     "slide_type": "fragment"
    }
   },
   "source": [
    "Using the copy operation."
   ]
  },
  {
   "cell_type": "code",
   "execution_count": 136,
   "metadata": {
    "slideshow": {
     "slide_type": "fragment"
    }
   },
   "outputs": [
    {
     "data": {
      "text/plain": [
       "PNode:0[id:27 line[1] parents: [] : enter: gcd(a, b) order:1]"
      ]
     },
     "execution_count": 136,
     "metadata": {},
     "output_type": "execute_result"
    }
   ],
   "source": [
    "PNode(0, fnenter).copy(1)"
   ]
  },
  {
   "cell_type": "markdown",
   "metadata": {
    "slideshow": {
     "slide_type": "subslide"
    }
   },
   "source": [
    "##### explore"
   ]
  },
  {
   "cell_type": "markdown",
   "metadata": {
    "slideshow": {
     "slide_type": "fragment"
    }
   },
   "source": [
    "A problem we had with our `SimpleSymbolicFuzzer` is that it explored a path to completion before attempting another. However, this is non-optimal. One may want to explore the graph in a more step-wise manner, expanding every possible execution one step at a time.\n",
    "\n",
    "Hence, we define `explore()`  which explores the children of a node if any, one step at a time. If done exhaustively, this will generate all paths from a starting node until no more children are left. We made `PNode` to a container class so that this iteration can be driven from outside, and stopped if say a maximum iteration is complete, or certain paths need to be prioritized."
   ]
  },
  {
   "cell_type": "code",
   "execution_count": 137,
   "metadata": {
    "slideshow": {
     "slide_type": "subslide"
    }
   },
   "outputs": [],
   "source": [
    "class PNode(PNode):\n",
    "    def explore(self):\n",
    "        return [\n",
    "            PNode(self.idx + 1, n, self.copy(i))\n",
    "            for (i, n) in enumerate(self.cfgnode.children)\n",
    "        ]"
   ]
  },
  {
   "cell_type": "markdown",
   "metadata": {
    "slideshow": {
     "slide_type": "fragment"
    }
   },
   "source": [
    "We can use `explore()` as follows."
   ]
  },
  {
   "cell_type": "code",
   "execution_count": 138,
   "metadata": {
    "slideshow": {
     "slide_type": "fragment"
    }
   },
   "outputs": [
    {
     "data": {
      "text/plain": [
       "[PNode:1[id:29 line[2] parents: [27] : _if: (a < b) order:0]]"
      ]
     },
     "execution_count": 138,
     "metadata": {},
     "output_type": "execute_result"
    }
   ],
   "source": [
    "PNode(0, fnenter).explore()"
   ]
  },
  {
   "cell_type": "code",
   "execution_count": 139,
   "metadata": {
    "slideshow": {
     "slide_type": "fragment"
    }
   },
   "outputs": [
    {
     "data": {
      "text/plain": [
       "[PNode:2[id:30 line[3] parents: [29] : c = a order:0],\n",
       " PNode:2[id:33 line[7] parents: [32, 29, 36] : _while: (b != 0) order:0]]"
      ]
     },
     "execution_count": 139,
     "metadata": {},
     "output_type": "execute_result"
    }
   ],
   "source": [
    "PNode(0, fnenter).explore()[0].explore()"
   ]
  },
  {
   "cell_type": "markdown",
   "metadata": {
    "slideshow": {
     "slide_type": "subslide"
    }
   },
   "source": [
    "##### get_path_to_root"
   ]
  },
  {
   "cell_type": "markdown",
   "metadata": {
    "slideshow": {
     "slide_type": "fragment"
    }
   },
   "source": [
    "The method `get_path_to_root()` recursively goes up through child->parent chain retrieving the complete chain to the topmost parent."
   ]
  },
  {
   "cell_type": "code",
   "execution_count": 140,
   "metadata": {
    "code_folding": [],
    "slideshow": {
     "slide_type": "fragment"
    }
   },
   "outputs": [],
   "source": [
    "class PNode(PNode):\n",
    "    def get_path_to_root(self):\n",
    "        path = []\n",
    "        n = self\n",
    "        while n:\n",
    "            path.append(n)\n",
    "            n = n.parent\n",
    "        return list(reversed(path))"
   ]
  },
  {
   "cell_type": "code",
   "execution_count": 141,
   "metadata": {
    "scrolled": true,
    "slideshow": {
     "slide_type": "subslide"
    }
   },
   "outputs": [
    {
     "data": {
      "text/plain": [
       "[[PNode:0[id:27 line[1] parents: [] : enter: gcd(a, b) order:0],\n",
       "  PNode:1[id:29 line[2] parents: [27] : _if: (a < b) order:0],\n",
       "  PNode:2[id:30 line[3] parents: [29] : c = a order:0],\n",
       "  PNode:3[id:31 line[4] parents: [30] : a = b order:0],\n",
       "  PNode:4[id:32 line[5] parents: [31] : b = c order:0]]]"
      ]
     },
     "execution_count": 141,
     "metadata": {},
     "output_type": "execute_result"
    }
   ],
   "source": [
    "p = PNode(0, fnenter)\n",
    "[s.get_path_to_root() for s in p.explore()[0].explore()[0].explore()[0].explore()]"
   ]
  },
  {
   "cell_type": "markdown",
   "metadata": {
    "slideshow": {
     "slide_type": "fragment"
    }
   },
   "source": [
    "The string representation of the node is in `z3` solvable form."
   ]
  },
  {
   "cell_type": "code",
   "execution_count": 142,
   "metadata": {
    "slideshow": {
     "slide_type": "fragment"
    }
   },
   "outputs": [],
   "source": [
    "class PNode(PNode):\n",
    "    def __str__(self):\n",
    "        path = self.get_path_to_root()\n",
    "        ssa_path = to_single_assignment_predicates(path)\n",
    "        return ', '.join([to_src(p) for p in ssa_path])"
   ]
  },
  {
   "cell_type": "markdown",
   "metadata": {
    "slideshow": {
     "slide_type": "fragment"
    }
   },
   "source": [
    "However, before using it, we need to define the `rename_variables()`. But first, we define `names()`."
   ]
  },
  {
   "cell_type": "markdown",
   "metadata": {
    "slideshow": {
     "slide_type": "subslide"
    }
   },
   "source": [
    "###### to_single_assignment_predicates"
   ]
  },
  {
   "cell_type": "markdown",
   "metadata": {
    "slideshow": {
     "slide_type": "fragment"
    }
   },
   "source": [
    "We need to rename used variables. Any variable `v = xxx` should be renamed to `_v_0` and any later assignment such as `v = v + 1` should be transformed to `_v_1 = _v_0 + 1` and later conditionals such as `v == x` should be transformed to `(_v_1 == _x_0)`. The method `to_single_assignment_predicates()` does this for a given path."
   ]
  },
  {
   "cell_type": "code",
   "execution_count": 143,
   "metadata": {
    "slideshow": {
     "slide_type": "subslide"
    }
   },
   "outputs": [],
   "source": [
    "def to_single_assignment_predicates(path):\n",
    "    env = {}\n",
    "    new_path = []\n",
    "    for i, node in enumerate(path):\n",
    "        ast_node = node.cfgnode.ast_node\n",
    "        new_node = None\n",
    "        if isinstance(ast_node, ast.AnnAssign) and ast_node.target.id in {\n",
    "                'exit'}:\n",
    "            new_node = None\n",
    "        elif isinstance(ast_node, ast.AnnAssign) and ast_node.target.id in {'enter'}:\n",
    "            args = [\n",
    "                ast.parse(\n",
    "                    \"%s == _%s_0\" %\n",
    "                    (a.id, a.id)).body[0].value for a in ast_node.annotation.args]\n",
    "            new_node = ast.Call(ast.Name('z3.And', None), args, [])\n",
    "        elif isinstance(ast_node, ast.AnnAssign) and ast_node.target.id in {'_if', '_while'}:\n",
    "            new_node = rename_variables(ast_node.annotation, env)\n",
    "            if node.order != 0:\n",
    "                assert node.order == 1\n",
    "                new_node = ast.Call(ast.Name('z3.Not', None), [new_node], [])\n",
    "        elif isinstance(ast_node, ast.Assign):\n",
    "            assigned = ast_node.targets[0].id\n",
    "            val = [rename_variables(ast_node.value, env)]\n",
    "            env[assigned] = 0 if assigned not in env else env[assigned] + 1\n",
    "            target = ast.Name('_%s_%d' %\n",
    "                              (ast_node.targets[0].id, env[assigned]), None)\n",
    "            new_node = ast.Expr(ast.Compare(target, [ast.Eq()], val))\n",
    "        elif isinstance(ast_node, (ast.Return, ast.Pass)):\n",
    "            new_node = None\n",
    "        else:\n",
    "            s = \"NI %s %s\" % (type(ast_node), ast_node.target.id)\n",
    "            raise Exception(s)\n",
    "        new_path.append(new_node)\n",
    "    return new_path"
   ]
  },
  {
   "cell_type": "code",
   "execution_count": 144,
   "metadata": {
    "slideshow": {
     "slide_type": "subslide"
    }
   },
   "outputs": [],
   "source": [
    "p = PNode(0, fnenter)\n",
    "path = p.explore()[0].explore()[0].explore()[0].get_path_to_root()\n",
    "spath = to_single_assignment_predicates(path)"
   ]
  },
  {
   "cell_type": "code",
   "execution_count": 145,
   "metadata": {
    "scrolled": false,
    "slideshow": {
     "slide_type": "fragment"
    }
   },
   "outputs": [
    {
     "data": {
      "text/plain": [
       "['z3.And((a == _a_0), (b == _b_0))',\n",
       " '(_a_0 < _b_0)',\n",
       " '(_c_0 == _a_0)',\n",
       " '(_a_1 == _b_0)']"
      ]
     },
     "execution_count": 145,
     "metadata": {},
     "output_type": "execute_result"
    }
   ],
   "source": [
    "[to_src(s) for s in spath]"
   ]
  },
  {
   "cell_type": "code",
   "execution_count": 146,
   "metadata": {
    "slideshow": {
     "slide_type": "fragment"
    }
   },
   "outputs": [],
   "source": [
    "assert set(q for s in spath for q in names(s)) == {\n",
    "    '_a_0', '_a_1', '_b_0', '_c_0', 'a', 'b'}"
   ]
  },
  {
   "cell_type": "markdown",
   "metadata": {
    "slideshow": {
     "slide_type": "subslide"
    }
   },
   "source": [
    "##### can_be_satisfied\n",
    "\n",
    "One of the ways in which the *concolic* execution simplifies *symbolic* execution is in the treatment of loops. Rather than trying to determine an invariant for a loop, we simply *unroll* the loops a number of times until we hit the `MAX_DEPTH` limit. However, not all loops will need to be unrolled until `MAX_DEPTH` is reached. Some of them may exit before. Hence, it is necessary to check whether the given set of constraints can be satisfied before continuing to explore further. "
   ]
  },
  {
   "cell_type": "code",
   "execution_count": 147,
   "metadata": {
    "slideshow": {
     "slide_type": "subslide"
    }
   },
   "outputs": [],
   "source": [
    "class AdvancedSymbolicFuzzer(AdvancedSymbolicFuzzer):\n",
    "    def can_be_satisfied(self, p):\n",
    "        s2 = self.extract_constraints(p.get_path_to_root())\n",
    "        s = z3.Solver()\n",
    "        exec(define_vars(used_vars(s2), self.symbolic_fn), globals(), locals())\n",
    "        exec(\"s.add(z3.And(%s))\" % ','.join(s2), globals(), locals())\n",
    "        return s.check() == z3.sat"
   ]
  },
  {
   "cell_type": "markdown",
   "metadata": {
    "slideshow": {
     "slide_type": "subslide"
    }
   },
   "source": [
    "#### extract_constraints\n",
    "\n",
    "The `extract_constraints()` generates the `z3` constraints from a path. The main work is done by `to_single_assignment_predicates()`. The `extract_constraints()` then converts the AST to source."
   ]
  },
  {
   "cell_type": "code",
   "execution_count": 148,
   "metadata": {
    "slideshow": {
     "slide_type": "fragment"
    }
   },
   "outputs": [],
   "source": [
    "class AdvancedSymbolicFuzzer(AdvancedSymbolicFuzzer):\n",
    "    def extract_constraints(self, path):\n",
    "        return [to_src(p) for p in to_single_assignment_predicates(path) if p]"
   ]
  },
  {
   "cell_type": "markdown",
   "metadata": {
    "slideshow": {
     "slide_type": "subslide"
    }
   },
   "source": [
    "#### get_all_paths"
   ]
  },
  {
   "cell_type": "markdown",
   "metadata": {
    "slideshow": {
     "slide_type": "fragment"
    }
   },
   "source": [
    "Get all paths one can generate from function enter node (`fenter`) subject to max_depth limit."
   ]
  },
  {
   "cell_type": "code",
   "execution_count": 149,
   "metadata": {
    "slideshow": {
     "slide_type": "subslide"
    }
   },
   "outputs": [],
   "source": [
    "class AdvancedSymbolicFuzzer(AdvancedSymbolicFuzzer):\n",
    "    def get_all_paths(self, fenter):\n",
    "        path_lst = [PNode(0, fenter)]\n",
    "        completed = []\n",
    "        for i in range(self.max_iter):\n",
    "            new_paths = [PNode(0, fenter)]\n",
    "            for path in path_lst:\n",
    "                # explore each path once\n",
    "                if path.cfgnode.children:\n",
    "                    np = path.explore()\n",
    "                    for p in np:\n",
    "                        if path.idx > self.max_depth:\n",
    "                            break\n",
    "                        if self.can_be_satisfied(p):\n",
    "                            new_paths.append(p)\n",
    "                        else:\n",
    "                            pass\n",
    "                else:\n",
    "                    completed.append(path)\n",
    "            path_lst = new_paths\n",
    "        return completed + path_lst"
   ]
  },
  {
   "cell_type": "markdown",
   "metadata": {
    "slideshow": {
     "slide_type": "subslide"
    }
   },
   "source": [
    "We can now obtain all paths using our advanced symbolic fuzzer as follows."
   ]
  },
  {
   "cell_type": "code",
   "execution_count": 150,
   "metadata": {
    "scrolled": false,
    "slideshow": {
     "slide_type": "subslide"
    }
   },
   "outputs": [
    {
     "name": "stdout",
     "output_type": "stream",
     "text": [
      "38\n"
     ]
    },
    {
     "data": {
      "text/plain": [
       "[PNode:0[id:40 line[1] parents: [] : enter: gcd(a, b) order:0],\n",
       " PNode:1[id:42 line[2] parents: [40] : _if: (a < b) order:1],\n",
       " PNode:2[id:46 line[7] parents: [45, 42, 49] : _while: (b != 0) order:0],\n",
       " PNode:3[id:47 line[8] parents: [46] : c = a order:0],\n",
       " PNode:4[id:48 line[9] parents: [47] : a = b order:0],\n",
       " PNode:5[id:49 line[10] parents: [48] : b = (c % b) order:0],\n",
       " PNode:6[id:46 line[7] parents: [45, 42, 49] : _while: (b != 0) order:0],\n",
       " PNode:7[id:47 line[8] parents: [46] : c = a order:0],\n",
       " PNode:8[id:48 line[9] parents: [47] : a = b order:0],\n",
       " PNode:9[id:49 line[10] parents: [48] : b = (c % b) order:0],\n",
       " PNode:10[id:46 line[7] parents: [45, 42, 49] : _while: (b != 0) order:0]]"
      ]
     },
     "execution_count": 150,
     "metadata": {},
     "output_type": "execute_result"
    }
   ],
   "source": [
    "asymfz_gcd = AdvancedSymbolicFuzzer(\n",
    "    gcd, max_iter=10, max_tries=10, max_depth=10)\n",
    "paths = asymfz_gcd.get_all_paths(asymfz_gcd.fnenter)\n",
    "print(len(paths))\n",
    "paths[37].get_path_to_root()"
   ]
  },
  {
   "cell_type": "markdown",
   "metadata": {
    "slideshow": {
     "slide_type": "subslide"
    }
   },
   "source": [
    "We can also list the predicates in each path."
   ]
  },
  {
   "cell_type": "code",
   "execution_count": 151,
   "metadata": {
    "scrolled": false,
    "slideshow": {
     "slide_type": "subslide"
    }
   },
   "outputs": [
    {
     "name": "stdout",
     "output_type": "stream",
     "text": [
      "z3.And((a == _a_0), (b == _b_0))\n",
      "z3.Not((_a_0 < _b_0))\n",
      "(_b_0 != 0)\n",
      "(_c_0 == _a_0)\n",
      "(_a_1 == _b_0)\n",
      "(_b_1 == (_c_0 % _b_0))\n",
      "(_b_1 != 0)\n",
      "(_c_1 == _a_1)\n",
      "(_a_2 == _b_1)\n",
      "(_b_2 == (_c_1 % _b_1))\n",
      "(_b_2 != 0)\n"
     ]
    }
   ],
   "source": [
    "for s in to_single_assignment_predicates(paths[37].get_path_to_root()):\n",
    "    if s is not None:\n",
    "        print(to_src(s))"
   ]
  },
  {
   "cell_type": "code",
   "execution_count": 152,
   "metadata": {
    "slideshow": {
     "slide_type": "subslide"
    }
   },
   "outputs": [],
   "source": [
    "constraints = asymfz_gcd.extract_constraints(paths[37].get_path_to_root())"
   ]
  },
  {
   "cell_type": "code",
   "execution_count": 153,
   "metadata": {
    "slideshow": {
     "slide_type": "fragment"
    }
   },
   "outputs": [
    {
     "data": {
      "text/plain": [
       "['z3.And((a == _a_0), (b == _b_0))',\n",
       " 'z3.Not((_a_0 < _b_0))',\n",
       " '(_b_0 != 0)',\n",
       " '(_c_0 == _a_0)',\n",
       " '(_a_1 == _b_0)',\n",
       " '(_b_1 == (_c_0 % _b_0))',\n",
       " '(_b_1 != 0)',\n",
       " '(_c_1 == _a_1)',\n",
       " '(_a_2 == _b_1)',\n",
       " '(_b_2 == (_c_1 % _b_1))',\n",
       " '(_b_2 != 0)']"
      ]
     },
     "execution_count": 153,
     "metadata": {},
     "output_type": "execute_result"
    }
   ],
   "source": [
    "constraints"
   ]
  },
  {
   "cell_type": "code",
   "execution_count": 154,
   "metadata": {
    "slideshow": {
     "slide_type": "fragment"
    }
   },
   "outputs": [
    {
     "data": {
      "text/plain": [
       "['_b_0', '_b_1', 'b', '_a_1', '_c_0', '_b_2', '_c_1', '_a_2', '_a_0', 'a']"
      ]
     },
     "execution_count": 154,
     "metadata": {},
     "output_type": "execute_result"
    }
   ],
   "source": [
    "used_vars(constraints)"
   ]
  },
  {
   "cell_type": "markdown",
   "metadata": {
    "slideshow": {
     "slide_type": "subslide"
    }
   },
   "source": [
    "#### Fuzzing with our advanced fuzzer"
   ]
  },
  {
   "cell_type": "code",
   "execution_count": 155,
   "metadata": {
    "slideshow": {
     "slide_type": "fragment"
    }
   },
   "outputs": [],
   "source": [
    "class AdvancedSymbolicFuzzer(AdvancedSymbolicFuzzer):\n",
    "    def get_next_path(self):\n",
    "        self.last_path -= 1\n",
    "        if self.last_path == -1:\n",
    "            self.last_path = len(self.paths) - 1\n",
    "        return self.paths[self.last_path].get_path_to_root()"
   ]
  },
  {
   "cell_type": "code",
   "execution_count": 156,
   "metadata": {
    "scrolled": false,
    "slideshow": {
     "slide_type": "subslide"
    }
   },
   "outputs": [
    {
     "name": "stdout",
     "output_type": "stream",
     "text": [
      "{'a': 7, 'b': 5} result: 1\n",
      "{'a': 8, 'b': 16} result: 8\n",
      "{'a': 2, 'b': 15} result: 1\n",
      "{'a': 4, 'b': 3} result: 1\n",
      "{'a': 3, 'b': 4} result: 1\n",
      "{'a': 6, 'b': 6} result: 6\n",
      "{'a': 3, 'b': 2} result: 1\n",
      "{'a': 1, 'b': 17} result: 1\n",
      "{'a': 9, 'b': 1} result: 1\n",
      "{'a': 19, 'b': 18} result: 1\n"
     ]
    }
   ],
   "source": [
    "asymfz_gcd = AdvancedSymbolicFuzzer(\n",
    "    gcd, max_tries=10, max_iter=10, max_depth=10)\n",
    "data = []\n",
    "for i in range(10):\n",
    "    r = asymfz_gcd.fuzz()\n",
    "    data.append((r['a'].as_long(), r['b'].as_long()))\n",
    "    v = gcd(*data[-1])\n",
    "    print(r, \"result:\", repr(v))"
   ]
  },
  {
   "cell_type": "markdown",
   "metadata": {
    "slideshow": {
     "slide_type": "subslide"
    }
   },
   "source": [
    "What is our coverage?"
   ]
  },
  {
   "cell_type": "code",
   "execution_count": 157,
   "metadata": {
    "slideshow": {
     "slide_type": "fragment"
    }
   },
   "outputs": [],
   "source": [
    "with Tracer() as cov:\n",
    "    for a, b in data:\n",
    "        gcd(a, b)"
   ]
  },
  {
   "cell_type": "code",
   "execution_count": 158,
   "metadata": {
    "scrolled": true,
    "slideshow": {
     "slide_type": "subslide"
    }
   },
   "outputs": [
    {
     "name": "stdout",
     "output_type": "stream",
     "text": [
      "#  1: def gcd(a, b):\n",
      "#  2:     if a < b:\n",
      "#  3:         c = a\n",
      "#  4:         a = b\n",
      "#  5:         b = c\n",
      "   6: \n",
      "#  7:     while b != 0:\n",
      "#  8:         c = a\n",
      "#  9:         a = b\n",
      "# 10:         b = c % b\n",
      "# 11:     return a\n",
      "  12: \n"
     ]
    }
   ],
   "source": [
    "cov.show_coverage(gcd)"
   ]
  },
  {
   "cell_type": "code",
   "execution_count": 159,
   "metadata": {
    "slideshow": {
     "slide_type": "subslide"
    }
   },
   "outputs": [
    {
     "data": {
      "image/svg+xml": [
       "<?xml version=\"1.0\" encoding=\"UTF-8\" standalone=\"no\"?>\n",
       "<!DOCTYPE svg PUBLIC \"-//W3C//DTD SVG 1.1//EN\"\n",
       " \"http://www.w3.org/Graphics/SVG/1.1/DTD/svg11.dtd\">\n",
       "<!-- Generated by graphviz version 2.40.1 (20161225.0304)\n",
       " -->\n",
       "<!-- Title: %3 Pages: 1 -->\n",
       "<svg width=\"300pt\" height=\"636pt\"\n",
       " viewBox=\"0.00 0.00 300.39 636.00\" xmlns=\"http://www.w3.org/2000/svg\" xmlns:xlink=\"http://www.w3.org/1999/xlink\">\n",
       "<g id=\"graph0\" class=\"graph\" transform=\"scale(1 1) rotate(0) translate(4 632)\">\n",
       "<title>%3</title>\n",
       "<polygon fill=\"#ffffff\" stroke=\"transparent\" points=\"-4,4 -4,-632 296.3944,-632 296.3944,4 -4,4\"/>\n",
       "<!-- 1 -->\n",
       "<g id=\"node1\" class=\"node\">\n",
       "<title>1</title>\n",
       "<ellipse fill=\"none\" stroke=\"#000000\" cx=\"192.5523\" cy=\"-606\" rx=\"72.9326\" ry=\"18\"/>\n",
       "<ellipse fill=\"none\" stroke=\"#000000\" cx=\"192.5523\" cy=\"-606\" rx=\"76.9308\" ry=\"22\"/>\n",
       "<text text-anchor=\"middle\" x=\"192.5523\" y=\"-601.8\" font-family=\"Times,serif\" font-size=\"14.00\" fill=\"#000000\">1: enter: gcd(a, b)</text>\n",
       "</g>\n",
       "<!-- 3 -->\n",
       "<g id=\"node4\" class=\"node\">\n",
       "<title>3</title>\n",
       "<polygon fill=\"none\" stroke=\"#000000\" points=\"192.5523,-548 117.8938,-530 192.5523,-512 267.2108,-530 192.5523,-548\"/>\n",
       "<text text-anchor=\"middle\" x=\"192.5523\" y=\"-525.8\" font-family=\"Times,serif\" font-size=\"14.00\" fill=\"#000000\">2: if: (a &lt; b)</text>\n",
       "</g>\n",
       "<!-- 1&#45;&gt;3 -->\n",
       "<g id=\"edge2\" class=\"edge\">\n",
       "<title>1&#45;&gt;3</title>\n",
       "<path fill=\"none\" stroke=\"#00ff00\" d=\"M192.5523,-583.6086C192.5523,-575.7272 192.5523,-566.7616 192.5523,-558.4482\"/>\n",
       "<polygon fill=\"#00ff00\" stroke=\"#00ff00\" points=\"196.0524,-558.3974 192.5523,-548.3975 189.0524,-558.3975 196.0524,-558.3974\"/>\n",
       "</g>\n",
       "<!-- 2 -->\n",
       "<g id=\"node2\" class=\"node\">\n",
       "<title>2</title>\n",
       "<ellipse fill=\"none\" stroke=\"#000000\" cx=\"72.5523\" cy=\"-94\" rx=\"68.6017\" ry=\"18\"/>\n",
       "<ellipse fill=\"none\" stroke=\"#000000\" cx=\"72.5523\" cy=\"-94\" rx=\"72.6046\" ry=\"22\"/>\n",
       "<text text-anchor=\"middle\" x=\"72.5523\" y=\"-89.8\" font-family=\"Times,serif\" font-size=\"14.00\" fill=\"#000000\">1: exit: gcd(a, b)</text>\n",
       "</g>\n",
       "<!-- 11 -->\n",
       "<g id=\"node3\" class=\"node\">\n",
       "<title>11</title>\n",
       "<polygon fill=\"none\" stroke=\"#000000\" points=\"129.5708,-188 49.5337,-188 49.5337,-152 129.5708,-152 129.5708,-188\"/>\n",
       "<text text-anchor=\"middle\" x=\"89.5523\" y=\"-165.8\" font-family=\"Times,serif\" font-size=\"14.00\" fill=\"#000000\">11: return a</text>\n",
       "</g>\n",
       "<!-- 11&#45;&gt;2 -->\n",
       "<g id=\"edge1\" class=\"edge\">\n",
       "<title>11&#45;&gt;2</title>\n",
       "<path fill=\"none\" stroke=\"#00ff00\" d=\"M85.5235,-151.9891C83.8016,-144.291 81.7374,-135.0629 79.7675,-126.2561\"/>\n",
       "<polygon fill=\"#00ff00\" stroke=\"#00ff00\" points=\"83.123,-125.223 77.5244,-116.2282 76.2918,-126.7511 83.123,-125.223\"/>\n",
       "</g>\n",
       "<!-- 4 -->\n",
       "<g id=\"node5\" class=\"node\">\n",
       "<title>4</title>\n",
       "<polygon fill=\"none\" stroke=\"#000000\" points=\"193.2659,-476 135.8387,-476 135.8387,-440 193.2659,-440 193.2659,-476\"/>\n",
       "<text text-anchor=\"middle\" x=\"164.5523\" y=\"-453.8\" font-family=\"Times,serif\" font-size=\"14.00\" fill=\"#000000\">3: c = a</text>\n",
       "</g>\n",
       "<!-- 3&#45;&gt;4 -->\n",
       "<g id=\"edge3\" class=\"edge\">\n",
       "<title>3&#45;&gt;4</title>\n",
       "<path fill=\"none\" stroke=\"#00ff00\" d=\"M186.0581,-513.3008C182.8448,-505.0378 178.8824,-494.8488 175.2379,-485.4773\"/>\n",
       "<polygon fill=\"#00ff00\" stroke=\"#00ff00\" points=\"178.4863,-484.1736 171.5998,-476.1222 171.9623,-486.7108 178.4863,-484.1736\"/>\n",
       "</g>\n",
       "<!-- 7 -->\n",
       "<g id=\"node8\" class=\"node\">\n",
       "<title>7</title>\n",
       "<polygon fill=\"none\" stroke=\"#000000\" points=\"192.5523,-260 92.8677,-242 192.5523,-224 292.2368,-242 192.5523,-260\"/>\n",
       "<text text-anchor=\"middle\" x=\"192.5523\" y=\"-237.8\" font-family=\"Times,serif\" font-size=\"14.00\" fill=\"#000000\">7: while: (b != 0)</text>\n",
       "</g>\n",
       "<!-- 3&#45;&gt;7 -->\n",
       "<g id=\"edge7\" class=\"edge\">\n",
       "<title>3&#45;&gt;7</title>\n",
       "<path fill=\"none\" stroke=\"#00ff00\" d=\"M196.6115,-512.6028C198.858,-502.0751 201.4191,-488.3428 202.5523,-476 209.8665,-396.3351 209.8665,-375.6649 202.5523,-296 201.7466,-287.225 200.2193,-277.7478 198.5964,-269.219\"/>\n",
       "<polygon fill=\"#00ff00\" stroke=\"#00ff00\" points=\"202.0231,-268.5057 196.6115,-259.3972 195.1618,-269.8923 202.0231,-268.5057\"/>\n",
       "</g>\n",
       "<!-- 5 -->\n",
       "<g id=\"node6\" class=\"node\">\n",
       "<title>5</title>\n",
       "<polygon fill=\"none\" stroke=\"#000000\" points=\"194.0535,-404 135.0511,-404 135.0511,-368 194.0535,-368 194.0535,-404\"/>\n",
       "<text text-anchor=\"middle\" x=\"164.5523\" y=\"-381.8\" font-family=\"Times,serif\" font-size=\"14.00\" fill=\"#000000\">4: a = b</text>\n",
       "</g>\n",
       "<!-- 4&#45;&gt;5 -->\n",
       "<g id=\"edge4\" class=\"edge\">\n",
       "<title>4&#45;&gt;5</title>\n",
       "<path fill=\"none\" stroke=\"#00ff00\" d=\"M164.5523,-439.8314C164.5523,-432.131 164.5523,-422.9743 164.5523,-414.4166\"/>\n",
       "<polygon fill=\"#00ff00\" stroke=\"#00ff00\" points=\"168.0524,-414.4132 164.5523,-404.4133 161.0524,-414.4133 168.0524,-414.4132\"/>\n",
       "</g>\n",
       "<!-- 6 -->\n",
       "<g id=\"node7\" class=\"node\">\n",
       "<title>6</title>\n",
       "<polygon fill=\"none\" stroke=\"#000000\" points=\"194.0535,-332 135.0511,-332 135.0511,-296 194.0535,-296 194.0535,-332\"/>\n",
       "<text text-anchor=\"middle\" x=\"164.5523\" y=\"-309.8\" font-family=\"Times,serif\" font-size=\"14.00\" fill=\"#000000\">5: b = c</text>\n",
       "</g>\n",
       "<!-- 5&#45;&gt;6 -->\n",
       "<g id=\"edge5\" class=\"edge\">\n",
       "<title>5&#45;&gt;6</title>\n",
       "<path fill=\"none\" stroke=\"#00ff00\" d=\"M164.5523,-367.8314C164.5523,-360.131 164.5523,-350.9743 164.5523,-342.4166\"/>\n",
       "<polygon fill=\"#00ff00\" stroke=\"#00ff00\" points=\"168.0524,-342.4132 164.5523,-332.4133 161.0524,-342.4133 168.0524,-342.4132\"/>\n",
       "</g>\n",
       "<!-- 6&#45;&gt;7 -->\n",
       "<g id=\"edge6\" class=\"edge\">\n",
       "<title>6&#45;&gt;7</title>\n",
       "<path fill=\"none\" stroke=\"#00ff00\" d=\"M171.6179,-295.8314C174.854,-287.51 178.7514,-277.4881 182.3015,-268.3591\"/>\n",
       "<polygon fill=\"#00ff00\" stroke=\"#00ff00\" points=\"185.6073,-269.5149 185.9698,-258.9263 179.0833,-266.9778 185.6073,-269.5149\"/>\n",
       "</g>\n",
       "<!-- 7&#45;&gt;11 -->\n",
       "<g id=\"edge12\" class=\"edge\">\n",
       "<title>7&#45;&gt;11</title>\n",
       "<path fill=\"none\" stroke=\"#00ff00\" d=\"M171.7087,-227.4297C158.0196,-217.8606 139.787,-205.1155 123.9759,-194.0631\"/>\n",
       "<polygon fill=\"#00ff00\" stroke=\"#00ff00\" points=\"125.6867,-190.9887 115.4853,-188.128 121.6762,-196.7259 125.6867,-190.9887\"/>\n",
       "</g>\n",
       "<!-- 8 -->\n",
       "<g id=\"node10\" class=\"node\">\n",
       "<title>8</title>\n",
       "<polygon fill=\"none\" stroke=\"#000000\" points=\"221.2659,-188 163.8387,-188 163.8387,-152 221.2659,-152 221.2659,-188\"/>\n",
       "<text text-anchor=\"middle\" x=\"192.5523\" y=\"-165.8\" font-family=\"Times,serif\" font-size=\"14.00\" fill=\"#000000\">8: c = a</text>\n",
       "</g>\n",
       "<!-- 7&#45;&gt;8 -->\n",
       "<g id=\"edge9\" class=\"edge\">\n",
       "<title>7&#45;&gt;8</title>\n",
       "<path fill=\"none\" stroke=\"#00ff00\" d=\"M192.5523,-223.8314C192.5523,-216.131 192.5523,-206.9743 192.5523,-198.4166\"/>\n",
       "<polygon fill=\"#00ff00\" stroke=\"#00ff00\" points=\"196.0524,-198.4132 192.5523,-188.4133 189.0524,-198.4133 196.0524,-198.4132\"/>\n",
       "</g>\n",
       "<!-- 10 -->\n",
       "<g id=\"node9\" class=\"node\">\n",
       "<title>10</title>\n",
       "<polygon fill=\"none\" stroke=\"#000000\" points=\"271.0388,-36 170.0658,-36 170.0658,0 271.0388,0 271.0388,-36\"/>\n",
       "<text text-anchor=\"middle\" x=\"220.5523\" y=\"-13.8\" font-family=\"Times,serif\" font-size=\"14.00\" fill=\"#000000\">10: b = (c % b)</text>\n",
       "</g>\n",
       "<!-- 10&#45;&gt;7 -->\n",
       "<g id=\"edge8\" class=\"edge\">\n",
       "<title>10&#45;&gt;7</title>\n",
       "<path fill=\"none\" stroke=\"#00ff00\" d=\"M225.8451,-36.3954C234.0714,-68.167 247.3282,-135.0101 230.5523,-188 227.0912,-198.9324 220.533,-209.5661 213.8265,-218.4653\"/>\n",
       "<polygon fill=\"#00ff00\" stroke=\"#00ff00\" points=\"210.9735,-216.4284 207.4473,-226.4192 216.4342,-220.808 210.9735,-216.4284\"/>\n",
       "</g>\n",
       "<!-- 9 -->\n",
       "<g id=\"node11\" class=\"node\">\n",
       "<title>9</title>\n",
       "<polygon fill=\"none\" stroke=\"#000000\" points=\"222.0535,-112 163.0511,-112 163.0511,-76 222.0535,-76 222.0535,-112\"/>\n",
       "<text text-anchor=\"middle\" x=\"192.5523\" y=\"-89.8\" font-family=\"Times,serif\" font-size=\"14.00\" fill=\"#000000\">9: a = b</text>\n",
       "</g>\n",
       "<!-- 8&#45;&gt;9 -->\n",
       "<g id=\"edge10\" class=\"edge\">\n",
       "<title>8&#45;&gt;9</title>\n",
       "<path fill=\"none\" stroke=\"#00ff00\" d=\"M192.5523,-151.9891C192.5523,-143.1566 192.5523,-132.3099 192.5523,-122.3965\"/>\n",
       "<polygon fill=\"#00ff00\" stroke=\"#00ff00\" points=\"196.0524,-122.145 192.5523,-112.145 189.0524,-122.1451 196.0524,-122.145\"/>\n",
       "</g>\n",
       "<!-- 9&#45;&gt;10 -->\n",
       "<g id=\"edge11\" class=\"edge\">\n",
       "<title>9&#45;&gt;10</title>\n",
       "<path fill=\"none\" stroke=\"#00ff00\" d=\"M199.1879,-75.9891C202.5112,-66.9686 206.6085,-55.8474 210.3231,-45.765\"/>\n",
       "<polygon fill=\"#00ff00\" stroke=\"#00ff00\" points=\"213.6944,-46.7385 213.8673,-36.145 207.126,-44.3185 213.6944,-46.7385\"/>\n",
       "</g>\n",
       "</g>\n",
       "</svg>\n"
      ],
      "text/plain": [
       "<graphviz.files.Source at 0x1161c2518>"
      ]
     },
     "execution_count": 159,
     "metadata": {},
     "output_type": "execute_result"
    }
   ],
   "source": [
    "Source(to_graph(gen_cfg(inspect.getsource(gcd)), arcs=cov_to_arcs(cov)))"
   ]
  },
  {
   "cell_type": "markdown",
   "metadata": {
    "slideshow": {
     "slide_type": "fragment"
    }
   },
   "source": [
    "How do we make use of our fuzzer in practice? We explore a small case study of a program to solve the roots of a quadratic equation."
   ]
  },
  {
   "cell_type": "markdown",
   "metadata": {
    "slideshow": {
     "slide_type": "subslide"
    }
   },
   "source": [
    "#### Example: roots\n",
    "Here is the famous equation for finding the roots of quadratic equations."
   ]
  },
  {
   "cell_type": "code",
   "execution_count": 160,
   "metadata": {
    "slideshow": {
     "slide_type": "fragment"
    }
   },
   "outputs": [],
   "source": [
    "def roots(a, b, c):\n",
    "    d = b * b - 4 * a * c\n",
    "    ax = 0.5 * d\n",
    "    bx = 0\n",
    "    while (ax - bx) > 0.1:\n",
    "        bx = 0.5 * (ax + d / ax)\n",
    "        ax = bx\n",
    "    s = bx\n",
    "\n",
    "    a2 = 2 * a\n",
    "    ba2 = b / a2\n",
    "    return -ba2 + s / a2, -ba2 - s / a2"
   ]
  },
  {
   "cell_type": "markdown",
   "metadata": {
    "slideshow": {
     "slide_type": "subslide"
    }
   },
   "source": [
    "Does the program look correct? Let us investigate if the program is reasonable. But before that, we need a helper\n",
    "function `sym_to_float()` to convert symbolic values to floating point."
   ]
  },
  {
   "cell_type": "code",
   "execution_count": 161,
   "metadata": {
    "slideshow": {
     "slide_type": "fragment"
    }
   },
   "outputs": [],
   "source": [
    "def sym_to_float(v):\n",
    "    if v is None:\n",
    "        return math.inf\n",
    "    return v.numerator_as_long() / v.denominator_as_long()"
   ]
  },
  {
   "cell_type": "markdown",
   "metadata": {
    "slideshow": {
     "slide_type": "fragment"
    }
   },
   "source": [
    "Now we are ready to fuzz."
   ]
  },
  {
   "cell_type": "code",
   "execution_count": 162,
   "metadata": {
    "scrolled": false,
    "slideshow": {
     "slide_type": "subslide"
    }
   },
   "outputs": [
    {
     "name": "stdout",
     "output_type": "stream",
     "text": [
      "[-0.5, 0.0, 0.0] (0.0, 0.0)\n",
      "[0.5, 0.125, 1.0] (-0.125, -0.125)\n",
      "[0.5, 0.125, 2.0] (-0.125, -0.125)\n",
      "[0.5, 0.125, 3.0] (-0.125, -0.125)\n",
      "[0.5, 0.125, -2.0] (1.87890625, -2.12890625)\n",
      "[0.5, 0.125, 4.0] (-0.125, -0.125)\n",
      "[0.5, 0.125, -3.0] (2.37890625, -2.62890625)\n",
      "[0.5, 0.125, -4.0] (2.87890625, -3.12890625)\n",
      "[0.125, 0.5, -0.5] (2.5, -6.5)\n",
      "[0.125, 0.5, -2.0] (3.25, -7.25)\n",
      "[0.125, 0.5, -3.0] (3.75, -7.75)\n",
      "[2.0, 3.0, 4.0] (-0.75, -0.75)\n",
      "[0.5, 0.125, 3.5] (-0.125, -0.125)\n",
      "[0.5, 0.125, 3.25] (-0.125, -0.125)\n",
      "[0.5, 0.125, 3.125] (-0.125, -0.125)\n",
      "[0.5, 0.125, 3.0625] (-0.125, -0.125)\n",
      "[0.5, 0.125, 3.03125] (-0.125, -0.125)\n",
      "[0.5, 0.125, -5.0] (3.37890625, -3.62890625)\n",
      "[0.5, 0.125, 3.015625] (-0.125, -0.125)\n",
      "[0.5, 0.125, -1.0] (1.37890625, -1.62890625)\n",
      "[0.5, 0.125, -1.5] (1.62890625, -1.87890625)\n",
      "[0.125, 0.5, -4.0] (4.25, -8.25)\n",
      "[0.125, 0.5, -1.0] (2.75, -6.75)\n",
      "[0.125, 0.5, -1.5] (3.0, -7.0)\n",
      "[1.0, 3.0, 4.0] (-1.5, -1.5)\n",
      "[0.5, 0.125, 3.0078125] (-0.125, -0.125)\n",
      "[0.5, 0.125, 3.00390625] (-0.125, -0.125)\n",
      "[0.5, 0.125, 3.001953125] (-0.125, -0.125)\n",
      "[0.5, 0.125, 3.0009765625] (-0.125, -0.125)\n",
      "[0.5, 0.125, 3.00048828125] (-0.125, -0.125)\n",
      "[0.5, 0.125, -1.75] (1.75390625, -2.00390625)\n",
      "[0.5, 0.125, 3.000244140625] (-0.125, -0.125)\n",
      "[0.5, 0.125, -1.875] (1.81640625, -2.06640625)\n",
      "[0.5, 0.125, -1.9375] (1.84765625, -2.09765625)\n",
      "[0.125, 0.5, -1.75] (3.125, -7.125)\n",
      "[0.125, 0.5, -1.875] (3.1875, -7.1875)\n",
      "[0.125, 0.5, -1.9375] (3.21875, -7.21875)\n"
     ]
    },
    {
     "name": "stderr",
     "output_type": "stream",
     "text": [
      "Traceback (most recent call last):\n",
      "  File \"<ipython-input-162-f5ef2f568ed3>\", line 11, in <module>\n",
      "    v = roots(*d)\n",
      "  File \"<ipython-input-160-52eec1eb10b3>\", line 11, in roots\n",
      "    ba2 = b / a2\n",
      "ZeroDivisionError: float division by zero (expected)\n"
     ]
    }
   ],
   "source": [
    "asymfz_roots = AdvancedSymbolicFuzzer(\n",
    "    roots,\n",
    "    max_tries=10,\n",
    "    max_iter=10,\n",
    "    max_depth=10,\n",
    "    symbolic_fn='z3.Real')\n",
    "with ExpectError():\n",
    "    for i in range(100):\n",
    "        r = asymfz_roots.fuzz()\n",
    "        d = [sym_to_float(r[i]) for i in ['a', 'b', 'c']]\n",
    "        v = roots(*d)\n",
    "        print(d, v)"
   ]
  },
  {
   "cell_type": "markdown",
   "metadata": {
    "slideshow": {
     "slide_type": "subslide"
    }
   },
   "source": [
    "We have a `ZeroDivisionError`. Can we eliminate it?"
   ]
  },
  {
   "cell_type": "markdown",
   "metadata": {
    "slideshow": {
     "slide_type": "subslide"
    }
   },
   "source": [
    "#####  roots - take 2"
   ]
  },
  {
   "cell_type": "code",
   "execution_count": 163,
   "metadata": {
    "slideshow": {
     "slide_type": "subslide"
    }
   },
   "outputs": [],
   "source": [
    "def roots2(a, b, c):\n",
    "    d = b * b - 4 * a * c\n",
    "\n",
    "    xa = 0.5 * d\n",
    "    xb = 0\n",
    "    while (xa - xb) > 0.1:\n",
    "        xb = 0.5 * (xa + d / xa)\n",
    "        xa = xb\n",
    "    s = xb\n",
    "\n",
    "    if a == 0:\n",
    "        return -c / b\n",
    "\n",
    "    a2 = 2 * a\n",
    "    ba2 = b / a2\n",
    "    return -ba2 + s / a2, -ba2 - s / a2"
   ]
  },
  {
   "cell_type": "code",
   "execution_count": 164,
   "metadata": {
    "scrolled": false,
    "slideshow": {
     "slide_type": "subslide"
    }
   },
   "outputs": [
    {
     "name": "stderr",
     "output_type": "stream",
     "text": [
      "Traceback (most recent call last):\n",
      "  File \"<ipython-input-164-bb7dc1496456>\", line 11, in <module>\n",
      "    v = roots2(*d)\n",
      "  File \"<ipython-input-163-0e6dcf0888e2>\", line 12, in roots2\n",
      "    return -c / b\n",
      "ZeroDivisionError: float division by zero (expected)\n"
     ]
    }
   ],
   "source": [
    "asymfz_roots = AdvancedSymbolicFuzzer(\n",
    "    roots2,\n",
    "    max_tries=10,\n",
    "    max_iter=10,\n",
    "    max_depth=10,\n",
    "    symbolic_fn='z3.Real')\n",
    "with ExpectError():\n",
    "    for i in range(1000):\n",
    "        r = asymfz_roots.fuzz()\n",
    "        d = [sym_to_float(r[i]) for i in ['a', 'b', 'c']]\n",
    "        v = roots2(*d)\n",
    "        #print(d, v)"
   ]
  },
  {
   "cell_type": "markdown",
   "metadata": {
    "slideshow": {
     "slide_type": "subslide"
    }
   },
   "source": [
    "Apparently, our fix was incomplete. Let us try again."
   ]
  },
  {
   "cell_type": "markdown",
   "metadata": {
    "slideshow": {
     "slide_type": "subslide"
    }
   },
   "source": [
    "#####  roots - take 3"
   ]
  },
  {
   "cell_type": "code",
   "execution_count": 165,
   "metadata": {
    "slideshow": {
     "slide_type": "skip"
    }
   },
   "outputs": [],
   "source": [
    "import math"
   ]
  },
  {
   "cell_type": "code",
   "execution_count": 166,
   "metadata": {
    "slideshow": {
     "slide_type": "subslide"
    }
   },
   "outputs": [],
   "source": [
    "def roots3(a, b, c):\n",
    "    d = b * b - 4 * a * c\n",
    "\n",
    "    xa = 0.5 * d\n",
    "    xb = 0\n",
    "    while (xa - xb) > 0.1:\n",
    "        xb = 0.5 * (xa + d / xa)\n",
    "        xa = xb\n",
    "    s = xb\n",
    "\n",
    "    if a == 0:\n",
    "        if b == 0:\n",
    "            return math.inf\n",
    "        return -c / b\n",
    "\n",
    "    a2 = 2 * a\n",
    "    ba2 = b / a2\n",
    "    return -ba2 + s / a2, -ba2 - s / a2"
   ]
  },
  {
   "cell_type": "code",
   "execution_count": 167,
   "metadata": {
    "scrolled": true,
    "slideshow": {
     "slide_type": "subslide"
    }
   },
   "outputs": [
    {
     "name": "stdout",
     "output_type": "stream",
     "text": [
      "{'a': -1, 'b': 0, 'c': 0}\n",
      "[-1.0, 0.0, 0.0] (0.0, 0.0)\n",
      "{'a': 1, 'b': 1/8, 'c': 1}\n",
      "[1.0, 0.125, 1.0] (-0.0625, -0.0625)\n",
      "{'a': 0, 'b': 1/4, 'c': 0}\n",
      "[0.0, 0.25, 0.0] -0.0\n",
      "{'a': 0, 'b': 0, 'c': 2}\n",
      "[0.0, 0.0, 2.0] inf\n",
      "{'a': 1, 'b': 1/8, 'c': 2}\n",
      "[1.0, 0.125, 2.0] (-0.0625, -0.0625)\n",
      "{'a': 0, 'b': 1/4, 'c': -1}\n",
      "[0.0, 0.25, -1.0] 4.0\n",
      "{'a': 0, 'b': 0, 'c': 3}\n",
      "[0.0, 0.0, 3.0] inf\n",
      "{'a': 1, 'b': 1/8, 'c': 3}\n",
      "[1.0, 0.125, 3.0] (-0.0625, -0.0625)\n",
      "{'a': 0, 'b': 0, 'c': 4}\n",
      "[0.0, 0.0, 4.0] inf\n",
      "{'a': 0, 'b': 0, 'c': 5/2}\n",
      "[0.0, 0.0, 2.5] inf\n"
     ]
    }
   ],
   "source": [
    "asymfz_roots = AdvancedSymbolicFuzzer(\n",
    "    roots3,\n",
    "    max_tries=10,\n",
    "    max_iter=10,\n",
    "    max_depth=10,\n",
    "    symbolic_fn='z3.Real')\n",
    "# with ExpectError():\n",
    "for i in range(10):\n",
    "    r = asymfz_roots.fuzz()\n",
    "    print(r)\n",
    "    d = [sym_to_float(r[i]) for i in ['a', 'b', 'c']]\n",
    "    v = roots3(*d)\n",
    "    print(d, v)"
   ]
  },
  {
   "cell_type": "markdown",
   "metadata": {
    "slideshow": {
     "slide_type": "subslide"
    }
   },
   "source": [
    "#### Problems with our advanced fuzzer"
   ]
  },
  {
   "cell_type": "markdown",
   "metadata": {
    "slideshow": {
     "slide_type": "fragment"
    }
   },
   "source": [
    "There is an evident error in this program. We are not checking for negative roots. However, the symbolic execution does not seem to have detected it."
   ]
  },
  {
   "cell_type": "markdown",
   "metadata": {
    "slideshow": {
     "slide_type": "fragment"
    }
   },
   "source": [
    "Why are we not able to detect the problem of negative roots? Because we stop execution at a predetermined depth without throwing an error. That is, our symbolic execution is wide but shallow.\n",
    "\n",
    "Is there a way to make it go deep? One solution is to go for the *Concolic Execution*."
   ]
  },
  {
   "cell_type": "markdown",
   "metadata": {
    "slideshow": {
     "slide_type": "subslide"
    }
   },
   "source": [
    "### Concolic Execution"
   ]
  },
  {
   "cell_type": "markdown",
   "metadata": {
    "slideshow": {
     "slide_type": "fragment"
    }
   },
   "source": [
    "In *concolic execution*, we rely on a seed input to guide our symbolic execution. We collect the line numbers that our seed input traces, and feed it to the symbolic execution such that in the `explore` step, only the child node that correspond to the seed input execution path is chosen. This allows us to collect the complete set of constraints along a *representative path*. Once we have it, we can choose any particular predicate and invert it to explore the program execution paths near the representative path."
   ]
  },
  {
   "cell_type": "markdown",
   "metadata": {
    "slideshow": {
     "slide_type": "fragment"
    }
   },
   "source": [
    "We modify our original `Tracer` to provide *all* line numbers that the program traversed."
   ]
  },
  {
   "cell_type": "code",
   "execution_count": 168,
   "metadata": {
    "slideshow": {
     "slide_type": "subslide"
    }
   },
   "outputs": [],
   "source": [
    "class LineTracer(Tracer):\n",
    "    def traceit(self, frame, event, arg):\n",
    "        f = inspect.getframeinfo(frame)\n",
    "        self._trace.append((f.function, f.lineno))\n",
    "        return self.traceit"
   ]
  },
  {
   "cell_type": "code",
   "execution_count": 169,
   "metadata": {
    "slideshow": {
     "slide_type": "fragment"
    }
   },
   "outputs": [],
   "source": [
    "with LineTracer() as cov:\n",
    "    roots3(1, 1, 1)"
   ]
  },
  {
   "cell_type": "code",
   "execution_count": 170,
   "metadata": {
    "slideshow": {
     "slide_type": "subslide"
    }
   },
   "outputs": [
    {
     "data": {
      "text/plain": [
       "[('roots3', 1),\n",
       " ('roots3', 2),\n",
       " ('roots3', 4),\n",
       " ('roots3', 5),\n",
       " ('roots3', 6),\n",
       " ('roots3', 9),\n",
       " ('roots3', 11),\n",
       " ('roots3', 16),\n",
       " ('roots3', 17),\n",
       " ('roots3', 18),\n",
       " ('roots3', 18),\n",
       " ('__exit__', 24),\n",
       " ('__exit__', 25)]"
      ]
     },
     "execution_count": 170,
     "metadata": {},
     "output_type": "execute_result"
    }
   ],
   "source": [
    "cov._trace"
   ]
  },
  {
   "cell_type": "markdown",
   "metadata": {
    "slideshow": {
     "slide_type": "subslide"
    }
   },
   "source": [
    "#### ConcolicFuzzer"
   ]
  },
  {
   "cell_type": "markdown",
   "metadata": {
    "slideshow": {
     "slide_type": "fragment"
    }
   },
   "source": [
    "The `ConcolicFuzzer` first extracts the program trace on a seed input."
   ]
  },
  {
   "cell_type": "code",
   "execution_count": 171,
   "metadata": {
    "slideshow": {
     "slide_type": "fragment"
    }
   },
   "outputs": [],
   "source": [
    "class ConcolicFuzzer(AdvancedSymbolicFuzzer):\n",
    "    def __init__(self, fn, fnargs, **kwargs):\n",
    "        with Tracer() as cov:\n",
    "            fn(*fnargs)\n",
    "        first = cov._trace[0][1]\n",
    "        self.lines = [i - first + 1 for f, i in cov._trace if f == fn.__name__]\n",
    "        self.current_line = 0\n",
    "        super().__init__(fn, **kwargs)"
   ]
  },
  {
   "cell_type": "markdown",
   "metadata": {
    "slideshow": {
     "slide_type": "subslide"
    }
   },
   "source": [
    "##### get_all_paths\n",
    "The method `get_all_paths()` now tries to follow the seed execution path."
   ]
  },
  {
   "cell_type": "code",
   "execution_count": 172,
   "metadata": {
    "slideshow": {
     "slide_type": "subslide"
    }
   },
   "outputs": [],
   "source": [
    "class ConcolicFuzzer(ConcolicFuzzer):\n",
    "    def get_all_paths(self, fenter):\n",
    "        assert fenter.ast_node.lineno == self.lines[self.current_line]\n",
    "        self.current_line += 1\n",
    "        last_node = PNode(0, fenter)\n",
    "        while last_node and self.current_line < len(self.lines):\n",
    "            if last_node.cfgnode.children:\n",
    "                np = last_node.explore()\n",
    "                for p in np:\n",
    "                    if self.lines[self.current_line] == p.cfgnode.ast_node.lineno:\n",
    "                        self.current_line += 1\n",
    "                        last_node = p\n",
    "                        break\n",
    "                else:\n",
    "                    last_node = None\n",
    "                    break\n",
    "            else:\n",
    "                break\n",
    "        assert len(self.lines) == self.current_line\n",
    "        return [last_node]\n",
    "\n",
    "    def solve_path_constraint(self, path):\n",
    "        # re-initializing does not seem problematic.\n",
    "        # a = z3.Int('a').get_id() remains the same.\n",
    "        constraints = self.extract_constraints(path)\n",
    "        exec(define_vars(used_vars(constraints), self.symbolic_fn))\n",
    "\n",
    "        solutions = {}\n",
    "        with checkpoint(self.z3):\n",
    "            eval('self.z3.add(%s)' % ', '.join(constraints))\n",
    "            if self.z3.check() != z3.sat:\n",
    "                return {}\n",
    "            m = self.z3.model()\n",
    "            solutions = {d.name(): m[d] for d in m.decls()}\n",
    "            my_args = {k: solutions.get(k, None) for k in self.fn_args}\n",
    "        predicate = 'z3.And(%s)' % ','.join(\n",
    "            [\"%s == %s\" % (k, v) for k, v in my_args.items()])\n",
    "        eval('self.z3.add(z3.Not(%s))' % predicate)\n",
    "        return my_args"
   ]
  },
  {
   "cell_type": "markdown",
   "metadata": {
    "slideshow": {
     "slide_type": "subslide"
    }
   },
   "source": [
    "#### Fuzzing with our concolic fuzzer"
   ]
  },
  {
   "cell_type": "code",
   "execution_count": 173,
   "metadata": {
    "slideshow": {
     "slide_type": "fragment"
    }
   },
   "outputs": [],
   "source": [
    "acfz_roots = ConcolicFuzzer(\n",
    "    roots3,\n",
    "    fnargs=[1, 1, 1],\n",
    "    max_tries=10,\n",
    "    max_iter=10,\n",
    "    max_depth=10,\n",
    "    symbolic_fn='z3.Real')"
   ]
  },
  {
   "cell_type": "code",
   "execution_count": 174,
   "metadata": {
    "slideshow": {
     "slide_type": "subslide"
    }
   },
   "outputs": [
    {
     "data": {
      "text/plain": [
       "[PNode:0[id:62 line[1] parents: [] : enter: roots3(a, b, c) order:0],\n",
       " PNode:1[id:64 line[2] parents: [62] : d = ((b * b) - ((4 * a) * c)) order:0],\n",
       " PNode:2[id:65 line[4] parents: [64] : xa = (0.5 * d) order:0],\n",
       " PNode:3[id:66 line[5] parents: [65] : xb = 0 order:0],\n",
       " PNode:4[id:67 line[6] parents: [66, 69] : _while: ((xa - xb) > 0.1) order:1],\n",
       " PNode:5[id:70 line[9] parents: [67] : s = xb order:0],\n",
       " PNode:6[id:71 line[11] parents: [70] : _if: (a == 0) order:1],\n",
       " PNode:7[id:75 line[16] parents: [71] : a2 = (2 * a) order:0],\n",
       " PNode:8[id:76 line[17] parents: [75] : ba2 = (b / a2) order:0],\n",
       " PNode:9[id:77 line[18] parents: [76] : return (((- ba2) + (s / a2)), ((- ba2) - (s / a2))) order:0]]"
      ]
     },
     "execution_count": 174,
     "metadata": {},
     "output_type": "execute_result"
    }
   ],
   "source": [
    "acfz_roots.paths[0].get_path_to_root()"
   ]
  },
  {
   "cell_type": "code",
   "execution_count": 175,
   "metadata": {
    "slideshow": {
     "slide_type": "subslide"
    }
   },
   "outputs": [
    {
     "name": "stdout",
     "output_type": "stream",
     "text": [
      "[1, 2, 4, 5, 6, 9, 11, 16, 17, 18]\n",
      "[1, 2, 4, 5, 6, 9, 11, 16, 17, 18]\n"
     ]
    }
   ],
   "source": [
    "print([i.cfgnode.ast_node.lineno for i in acfz_roots.paths[0].get_path_to_root()])\n",
    "print(acfz_roots.lines)"
   ]
  },
  {
   "cell_type": "markdown",
   "metadata": {
    "slideshow": {
     "slide_type": "fragment"
    }
   },
   "source": [
    "We extract the constraints as usual."
   ]
  },
  {
   "cell_type": "code",
   "execution_count": 176,
   "metadata": {
    "scrolled": false,
    "slideshow": {
     "slide_type": "fragment"
    }
   },
   "outputs": [],
   "source": [
    "constraints = acfz_roots.extract_constraints(\n",
    "    acfz_roots.paths[0].get_path_to_root())"
   ]
  },
  {
   "cell_type": "code",
   "execution_count": 177,
   "metadata": {
    "slideshow": {
     "slide_type": "subslide"
    }
   },
   "outputs": [
    {
     "data": {
      "text/plain": [
       "['z3.And((a == _a_0), (b == _b_0), (c == _c_0))',\n",
       " '(_d_0 == ((_b_0 * _b_0) - ((4 * _a_0) * _c_0)))',\n",
       " '(_xa_0 == (0.5 * _d_0))',\n",
       " '(_xb_0 == 0)',\n",
       " 'z3.Not(((_xa_0 - _xb_0) > 0.1))',\n",
       " '(_s_0 == _xb_0)',\n",
       " 'z3.Not((_a_0 == 0))',\n",
       " '(_a2_0 == (2 * _a_0))',\n",
       " '(_ba2_0 == (_b_0 / _a2_0))']"
      ]
     },
     "execution_count": 177,
     "metadata": {},
     "output_type": "execute_result"
    }
   ],
   "source": [
    "constraints"
   ]
  },
  {
   "cell_type": "markdown",
   "metadata": {
    "slideshow": {
     "slide_type": "fragment"
    }
   },
   "source": [
    "The used vars are first as symbolic."
   ]
  },
  {
   "cell_type": "code",
   "execution_count": 178,
   "metadata": {
    "slideshow": {
     "slide_type": "fragment"
    }
   },
   "outputs": [],
   "source": [
    "exec(define_vars(used_vars(constraints), 'z3.Real'))"
   ]
  },
  {
   "cell_type": "markdown",
   "metadata": {
    "slideshow": {
     "slide_type": "subslide"
    }
   },
   "source": [
    "We can now solve our constraints. However, before that, here is a question for you.\n",
    "\n",
    "Should it result in exactly the same arguments?"
   ]
  },
  {
   "cell_type": "code",
   "execution_count": 179,
   "metadata": {
    "slideshow": {
     "slide_type": "subslide"
    }
   },
   "outputs": [
    {
     "name": "stdout",
     "output_type": "stream",
     "text": [
      "[_b_0 = 1/8,\n",
      " _a_0 = 1,\n",
      " _c_0 = 1,\n",
      " _ba2_0 = 1/16,\n",
      " _a2_0 = 2,\n",
      " _s_0 = 0,\n",
      " _xb_0 = 0,\n",
      " _xa_0 = -255/128,\n",
      " _d_0 = -255/64,\n",
      " c = 1,\n",
      " b = 1/8,\n",
      " a = 1]\n"
     ]
    }
   ],
   "source": [
    "eval('z3.solve(%s)' % ','.join(constraints))"
   ]
  },
  {
   "cell_type": "code",
   "execution_count": 180,
   "metadata": {
    "slideshow": {
     "slide_type": "subslide"
    }
   },
   "outputs": [
    {
     "data": {
      "text/plain": [
       "{'a': -1, 'b': 0, 'c': 0}"
      ]
     },
     "execution_count": 180,
     "metadata": {},
     "output_type": "execute_result"
    }
   ],
   "source": [
    "acfz_roots.fuzz()"
   ]
  },
  {
   "cell_type": "markdown",
   "metadata": {
    "slideshow": {
     "slide_type": "fragment"
    }
   },
   "source": [
    "Did they take the same path?"
   ]
  },
  {
   "cell_type": "code",
   "execution_count": 181,
   "metadata": {
    "slideshow": {
     "slide_type": "fragment"
    }
   },
   "outputs": [
    {
     "data": {
      "image/svg+xml": [
       "<?xml version=\"1.0\" encoding=\"UTF-8\" standalone=\"no\"?>\n",
       "<!DOCTYPE svg PUBLIC \"-//W3C//DTD SVG 1.1//EN\"\n",
       " \"http://www.w3.org/Graphics/SVG/1.1/DTD/svg11.dtd\">\n",
       "<!-- Generated by graphviz version 2.40.1 (20161225.0304)\n",
       " -->\n",
       "<!-- Title: %3 Pages: 1 -->\n",
       "<svg width=\"418pt\" height=\"708pt\"\n",
       " viewBox=\"0.00 0.00 418.49 708.00\" xmlns=\"http://www.w3.org/2000/svg\" xmlns:xlink=\"http://www.w3.org/1999/xlink\">\n",
       "<g id=\"graph0\" class=\"graph\" transform=\"scale(1 1) rotate(0) translate(4 704)\">\n",
       "<title>%3</title>\n",
       "<polygon fill=\"#ffffff\" stroke=\"transparent\" points=\"-4,4 -4,-704 414.4854,-704 414.4854,4 -4,4\"/>\n",
       "<!-- 1 -->\n",
       "<g id=\"node1\" class=\"node\">\n",
       "<title>1</title>\n",
       "<ellipse fill=\"none\" stroke=\"#000000\" cx=\"205.9854\" cy=\"-678\" rx=\"86.4515\" ry=\"18\"/>\n",
       "<ellipse fill=\"none\" stroke=\"#000000\" cx=\"205.9854\" cy=\"-678\" rx=\"90.4618\" ry=\"22\"/>\n",
       "<text text-anchor=\"middle\" x=\"205.9854\" y=\"-673.8\" font-family=\"Times,serif\" font-size=\"14.00\" fill=\"#000000\">1: enter: roots(a, b, c)</text>\n",
       "</g>\n",
       "<!-- 3 -->\n",
       "<g id=\"node4\" class=\"node\">\n",
       "<title>3</title>\n",
       "<polygon fill=\"none\" stroke=\"#000000\" points=\"294.1575,-620 117.8132,-620 117.8132,-584 294.1575,-584 294.1575,-620\"/>\n",
       "<text text-anchor=\"middle\" x=\"205.9854\" y=\"-597.8\" font-family=\"Times,serif\" font-size=\"14.00\" fill=\"#000000\">2: d = ((b * b) &#45; ((4 * a) * c))</text>\n",
       "</g>\n",
       "<!-- 1&#45;&gt;3 -->\n",
       "<g id=\"edge2\" class=\"edge\">\n",
       "<title>1&#45;&gt;3</title>\n",
       "<path fill=\"none\" stroke=\"#00ff00\" d=\"M205.9854,-655.6086C205.9854,-647.7272 205.9854,-638.7616 205.9854,-630.4482\"/>\n",
       "<polygon fill=\"#00ff00\" stroke=\"#00ff00\" points=\"209.4855,-630.3974 205.9854,-620.3975 202.4855,-630.3975 209.4855,-630.3974\"/>\n",
       "</g>\n",
       "<!-- 2 -->\n",
       "<g id=\"node2\" class=\"node\">\n",
       "<title>2</title>\n",
       "<ellipse fill=\"none\" stroke=\"#000000\" cx=\"265.9854\" cy=\"-22\" rx=\"81.6438\" ry=\"18\"/>\n",
       "<ellipse fill=\"none\" stroke=\"#000000\" cx=\"265.9854\" cy=\"-22\" rx=\"85.6354\" ry=\"22\"/>\n",
       "<text text-anchor=\"middle\" x=\"265.9854\" y=\"-17.8\" font-family=\"Times,serif\" font-size=\"14.00\" fill=\"#000000\">1: exit: roots(a, b, c)</text>\n",
       "</g>\n",
       "<!-- 12 -->\n",
       "<g id=\"node3\" class=\"node\">\n",
       "<title>12</title>\n",
       "<polygon fill=\"none\" stroke=\"#000000\" points=\"410.4854,-116 121.4854,-116 121.4854,-80 410.4854,-80 410.4854,-116\"/>\n",
       "<text text-anchor=\"middle\" x=\"265.9854\" y=\"-93.8\" font-family=\"Times,serif\" font-size=\"14.00\" fill=\"#000000\">12: return (((&#45; ba2) + (s / a2)), ((&#45; ba2) &#45; (s / a2)))</text>\n",
       "</g>\n",
       "<!-- 12&#45;&gt;2 -->\n",
       "<g id=\"edge1\" class=\"edge\">\n",
       "<title>12&#45;&gt;2</title>\n",
       "<path fill=\"none\" stroke=\"#00ff00\" d=\"M265.9854,-79.9891C265.9854,-72.291 265.9854,-63.0629 265.9854,-54.2561\"/>\n",
       "<polygon fill=\"#00ff00\" stroke=\"#00ff00\" points=\"269.4855,-54.2282 265.9854,-44.2282 262.4855,-54.2282 269.4855,-54.2282\"/>\n",
       "</g>\n",
       "<!-- 4 -->\n",
       "<g id=\"node5\" class=\"node\">\n",
       "<title>4</title>\n",
       "<polygon fill=\"none\" stroke=\"#000000\" points=\"259.3091,-548 152.6616,-548 152.6616,-512 259.3091,-512 259.3091,-548\"/>\n",
       "<text text-anchor=\"middle\" x=\"205.9854\" y=\"-525.8\" font-family=\"Times,serif\" font-size=\"14.00\" fill=\"#000000\">3: ax = (0.5 * d)</text>\n",
       "</g>\n",
       "<!-- 3&#45;&gt;4 -->\n",
       "<g id=\"edge3\" class=\"edge\">\n",
       "<title>3&#45;&gt;4</title>\n",
       "<path fill=\"none\" stroke=\"#00ff00\" d=\"M205.9854,-583.8314C205.9854,-576.131 205.9854,-566.9743 205.9854,-558.4166\"/>\n",
       "<polygon fill=\"#00ff00\" stroke=\"#00ff00\" points=\"209.4855,-558.4132 205.9854,-548.4133 202.4855,-558.4133 209.4855,-558.4132\"/>\n",
       "</g>\n",
       "<!-- 5 -->\n",
       "<g id=\"node6\" class=\"node\">\n",
       "<title>5</title>\n",
       "<polygon fill=\"none\" stroke=\"#000000\" points=\"239.2711,-476 172.6996,-476 172.6996,-440 239.2711,-440 239.2711,-476\"/>\n",
       "<text text-anchor=\"middle\" x=\"205.9854\" y=\"-453.8\" font-family=\"Times,serif\" font-size=\"14.00\" fill=\"#000000\">4: bx = 0</text>\n",
       "</g>\n",
       "<!-- 4&#45;&gt;5 -->\n",
       "<g id=\"edge4\" class=\"edge\">\n",
       "<title>4&#45;&gt;5</title>\n",
       "<path fill=\"none\" stroke=\"#00ff00\" d=\"M205.9854,-511.8314C205.9854,-504.131 205.9854,-494.9743 205.9854,-486.4166\"/>\n",
       "<polygon fill=\"#00ff00\" stroke=\"#00ff00\" points=\"209.4855,-486.4132 205.9854,-476.4133 202.4855,-486.4133 209.4855,-486.4132\"/>\n",
       "</g>\n",
       "<!-- 6 -->\n",
       "<g id=\"node7\" class=\"node\">\n",
       "<title>6</title>\n",
       "<polygon fill=\"none\" stroke=\"#000000\" points=\"205.9854,-404 64.2603,-386 205.9854,-368 347.7104,-386 205.9854,-404\"/>\n",
       "<text text-anchor=\"middle\" x=\"205.9854\" y=\"-381.8\" font-family=\"Times,serif\" font-size=\"14.00\" fill=\"#000000\">5: while: ((ax &#45; bx) &gt; 0.1)</text>\n",
       "</g>\n",
       "<!-- 5&#45;&gt;6 -->\n",
       "<g id=\"edge5\" class=\"edge\">\n",
       "<title>5&#45;&gt;6</title>\n",
       "<path fill=\"none\" stroke=\"#00ff00\" d=\"M205.9854,-439.8314C205.9854,-432.131 205.9854,-422.9743 205.9854,-414.4166\"/>\n",
       "<polygon fill=\"#00ff00\" stroke=\"#00ff00\" points=\"209.4855,-414.4132 205.9854,-404.4133 202.4855,-414.4133 209.4855,-414.4132\"/>\n",
       "</g>\n",
       "<!-- 7 -->\n",
       "<g id=\"node9\" class=\"node\">\n",
       "<title>7</title>\n",
       "<polygon fill=\"none\" stroke=\"#000000\" points=\"177.9561,-332 .0146,-332 .0146,-296 177.9561,-296 177.9561,-332\"/>\n",
       "<text text-anchor=\"middle\" x=\"88.9854\" y=\"-309.8\" font-family=\"Times,serif\" font-size=\"14.00\" fill=\"#000000\">6: bx = (0.5 * (ax + (d / ax)))</text>\n",
       "</g>\n",
       "<!-- 6&#45;&gt;7 -->\n",
       "<g id=\"edge7\" class=\"edge\">\n",
       "<title>6&#45;&gt;7</title>\n",
       "<path fill=\"none\" stroke=\"#ff0000\" d=\"M181.4583,-370.9064C165.8234,-361.285 145.234,-348.6146 127.4529,-337.6723\"/>\n",
       "<polygon fill=\"#ff0000\" stroke=\"#ff0000\" points=\"128.8025,-334.3933 118.4516,-332.133 125.1338,-340.3549 128.8025,-334.3933\"/>\n",
       "</g>\n",
       "<!-- 9 -->\n",
       "<g id=\"node10\" class=\"node\">\n",
       "<title>9</title>\n",
       "<polygon fill=\"none\" stroke=\"#000000\" points=\"298.2193,-332 233.7514,-332 233.7514,-296 298.2193,-296 298.2193,-332\"/>\n",
       "<text text-anchor=\"middle\" x=\"265.9854\" y=\"-309.8\" font-family=\"Times,serif\" font-size=\"14.00\" fill=\"#000000\">8: s = bx</text>\n",
       "</g>\n",
       "<!-- 6&#45;&gt;9 -->\n",
       "<g id=\"edge9\" class=\"edge\">\n",
       "<title>6&#45;&gt;9</title>\n",
       "<path fill=\"none\" stroke=\"#00ff00\" d=\"M219.6003,-369.6621C226.9664,-360.8227 236.2337,-349.702 244.5446,-339.7289\"/>\n",
       "<polygon fill=\"#00ff00\" stroke=\"#00ff00\" points=\"247.237,-341.9652 250.9501,-332.0423 241.8594,-337.4839 247.237,-341.9652\"/>\n",
       "</g>\n",
       "<!-- 8 -->\n",
       "<g id=\"node8\" class=\"node\">\n",
       "<title>8</title>\n",
       "<polygon fill=\"none\" stroke=\"#000000\" points=\"161.4861,-260 88.4846,-260 88.4846,-224 161.4861,-224 161.4861,-260\"/>\n",
       "<text text-anchor=\"middle\" x=\"124.9854\" y=\"-237.8\" font-family=\"Times,serif\" font-size=\"14.00\" fill=\"#000000\">7: ax = bx</text>\n",
       "</g>\n",
       "<!-- 8&#45;&gt;6 -->\n",
       "<g id=\"edge6\" class=\"edge\">\n",
       "<title>8&#45;&gt;6</title>\n",
       "<path fill=\"none\" stroke=\"#ff0000\" d=\"M153.1246,-260.2182C165.3146,-269.5118 178.6705,-281.8464 186.9854,-296 198.0072,-314.7616 202.6788,-339.048 204.6376,-357.6628\"/>\n",
       "<polygon fill=\"#ff0000\" stroke=\"#ff0000\" points=\"201.1718,-358.2148 205.5049,-367.883 208.1467,-357.6228 201.1718,-358.2148\"/>\n",
       "</g>\n",
       "<!-- 7&#45;&gt;8 -->\n",
       "<g id=\"edge8\" class=\"edge\">\n",
       "<title>7&#45;&gt;8</title>\n",
       "<path fill=\"none\" stroke=\"#ff0000\" d=\"M98.0697,-295.8314C102.0468,-287.8771 106.8008,-278.369 111.1992,-269.5723\"/>\n",
       "<polygon fill=\"#ff0000\" stroke=\"#ff0000\" points=\"114.437,-270.9228 115.7787,-260.4133 108.176,-267.7923 114.437,-270.9228\"/>\n",
       "</g>\n",
       "<!-- 10 -->\n",
       "<g id=\"node11\" class=\"node\">\n",
       "<title>10</title>\n",
       "<polygon fill=\"none\" stroke=\"#000000\" points=\"317.0225,-260 214.9482,-260 214.9482,-224 317.0225,-224 317.0225,-260\"/>\n",
       "<text text-anchor=\"middle\" x=\"265.9854\" y=\"-237.8\" font-family=\"Times,serif\" font-size=\"14.00\" fill=\"#000000\">10: a2 = (2 * a)</text>\n",
       "</g>\n",
       "<!-- 9&#45;&gt;10 -->\n",
       "<g id=\"edge10\" class=\"edge\">\n",
       "<title>9&#45;&gt;10</title>\n",
       "<path fill=\"none\" stroke=\"#00ff00\" d=\"M265.9854,-295.8314C265.9854,-288.131 265.9854,-278.9743 265.9854,-270.4166\"/>\n",
       "<polygon fill=\"#00ff00\" stroke=\"#00ff00\" points=\"269.4855,-270.4132 265.9854,-260.4133 262.4855,-270.4133 269.4855,-270.4132\"/>\n",
       "</g>\n",
       "<!-- 11 -->\n",
       "<g id=\"node12\" class=\"node\">\n",
       "<title>11</title>\n",
       "<polygon fill=\"none\" stroke=\"#000000\" points=\"322.4002,-188 209.5705,-188 209.5705,-152 322.4002,-152 322.4002,-188\"/>\n",
       "<text text-anchor=\"middle\" x=\"265.9854\" y=\"-165.8\" font-family=\"Times,serif\" font-size=\"14.00\" fill=\"#000000\">11: ba2 = (b / a2)</text>\n",
       "</g>\n",
       "<!-- 10&#45;&gt;11 -->\n",
       "<g id=\"edge11\" class=\"edge\">\n",
       "<title>10&#45;&gt;11</title>\n",
       "<path fill=\"none\" stroke=\"#00ff00\" d=\"M265.9854,-223.8314C265.9854,-216.131 265.9854,-206.9743 265.9854,-198.4166\"/>\n",
       "<polygon fill=\"#00ff00\" stroke=\"#00ff00\" points=\"269.4855,-198.4132 265.9854,-188.4133 262.4855,-198.4133 269.4855,-198.4132\"/>\n",
       "</g>\n",
       "<!-- 11&#45;&gt;12 -->\n",
       "<g id=\"edge12\" class=\"edge\">\n",
       "<title>11&#45;&gt;12</title>\n",
       "<path fill=\"none\" stroke=\"#00ff00\" d=\"M265.9854,-151.8314C265.9854,-144.131 265.9854,-134.9743 265.9854,-126.4166\"/>\n",
       "<polygon fill=\"#00ff00\" stroke=\"#00ff00\" points=\"269.4855,-126.4132 265.9854,-116.4133 262.4855,-126.4133 269.4855,-126.4132\"/>\n",
       "</g>\n",
       "</g>\n",
       "</svg>\n"
      ],
      "text/plain": [
       "<graphviz.files.Source at 0x1161f7198>"
      ]
     },
     "execution_count": 181,
     "metadata": {},
     "output_type": "execute_result"
    }
   ],
   "source": [
    "with Tracer() as cov:\n",
    "    roots(1, 1, 1)\n",
    "Source(to_graph(gen_cfg(inspect.getsource(roots)), arcs=cov_to_arcs(cov)))"
   ]
  },
  {
   "cell_type": "code",
   "execution_count": 182,
   "metadata": {
    "slideshow": {
     "slide_type": "fragment"
    }
   },
   "outputs": [
    {
     "data": {
      "image/svg+xml": [
       "<?xml version=\"1.0\" encoding=\"UTF-8\" standalone=\"no\"?>\n",
       "<!DOCTYPE svg PUBLIC \"-//W3C//DTD SVG 1.1//EN\"\n",
       " \"http://www.w3.org/Graphics/SVG/1.1/DTD/svg11.dtd\">\n",
       "<!-- Generated by graphviz version 2.40.1 (20161225.0304)\n",
       " -->\n",
       "<!-- Title: %3 Pages: 1 -->\n",
       "<svg width=\"418pt\" height=\"708pt\"\n",
       " viewBox=\"0.00 0.00 418.49 708.00\" xmlns=\"http://www.w3.org/2000/svg\" xmlns:xlink=\"http://www.w3.org/1999/xlink\">\n",
       "<g id=\"graph0\" class=\"graph\" transform=\"scale(1 1) rotate(0) translate(4 704)\">\n",
       "<title>%3</title>\n",
       "<polygon fill=\"#ffffff\" stroke=\"transparent\" points=\"-4,4 -4,-704 414.4854,-704 414.4854,4 -4,4\"/>\n",
       "<!-- 1 -->\n",
       "<g id=\"node1\" class=\"node\">\n",
       "<title>1</title>\n",
       "<ellipse fill=\"none\" stroke=\"#000000\" cx=\"205.9854\" cy=\"-678\" rx=\"86.4515\" ry=\"18\"/>\n",
       "<ellipse fill=\"none\" stroke=\"#000000\" cx=\"205.9854\" cy=\"-678\" rx=\"90.4618\" ry=\"22\"/>\n",
       "<text text-anchor=\"middle\" x=\"205.9854\" y=\"-673.8\" font-family=\"Times,serif\" font-size=\"14.00\" fill=\"#000000\">1: enter: roots(a, b, c)</text>\n",
       "</g>\n",
       "<!-- 3 -->\n",
       "<g id=\"node4\" class=\"node\">\n",
       "<title>3</title>\n",
       "<polygon fill=\"none\" stroke=\"#000000\" points=\"294.1575,-620 117.8132,-620 117.8132,-584 294.1575,-584 294.1575,-620\"/>\n",
       "<text text-anchor=\"middle\" x=\"205.9854\" y=\"-597.8\" font-family=\"Times,serif\" font-size=\"14.00\" fill=\"#000000\">2: d = ((b * b) &#45; ((4 * a) * c))</text>\n",
       "</g>\n",
       "<!-- 1&#45;&gt;3 -->\n",
       "<g id=\"edge2\" class=\"edge\">\n",
       "<title>1&#45;&gt;3</title>\n",
       "<path fill=\"none\" stroke=\"#00ff00\" d=\"M205.9854,-655.6086C205.9854,-647.7272 205.9854,-638.7616 205.9854,-630.4482\"/>\n",
       "<polygon fill=\"#00ff00\" stroke=\"#00ff00\" points=\"209.4855,-630.3974 205.9854,-620.3975 202.4855,-630.3975 209.4855,-630.3974\"/>\n",
       "</g>\n",
       "<!-- 2 -->\n",
       "<g id=\"node2\" class=\"node\">\n",
       "<title>2</title>\n",
       "<ellipse fill=\"none\" stroke=\"#000000\" cx=\"265.9854\" cy=\"-22\" rx=\"81.6438\" ry=\"18\"/>\n",
       "<ellipse fill=\"none\" stroke=\"#000000\" cx=\"265.9854\" cy=\"-22\" rx=\"85.6354\" ry=\"22\"/>\n",
       "<text text-anchor=\"middle\" x=\"265.9854\" y=\"-17.8\" font-family=\"Times,serif\" font-size=\"14.00\" fill=\"#000000\">1: exit: roots(a, b, c)</text>\n",
       "</g>\n",
       "<!-- 12 -->\n",
       "<g id=\"node3\" class=\"node\">\n",
       "<title>12</title>\n",
       "<polygon fill=\"none\" stroke=\"#000000\" points=\"410.4854,-116 121.4854,-116 121.4854,-80 410.4854,-80 410.4854,-116\"/>\n",
       "<text text-anchor=\"middle\" x=\"265.9854\" y=\"-93.8\" font-family=\"Times,serif\" font-size=\"14.00\" fill=\"#000000\">12: return (((&#45; ba2) + (s / a2)), ((&#45; ba2) &#45; (s / a2)))</text>\n",
       "</g>\n",
       "<!-- 12&#45;&gt;2 -->\n",
       "<g id=\"edge1\" class=\"edge\">\n",
       "<title>12&#45;&gt;2</title>\n",
       "<path fill=\"none\" stroke=\"#00ff00\" d=\"M265.9854,-79.9891C265.9854,-72.291 265.9854,-63.0629 265.9854,-54.2561\"/>\n",
       "<polygon fill=\"#00ff00\" stroke=\"#00ff00\" points=\"269.4855,-54.2282 265.9854,-44.2282 262.4855,-54.2282 269.4855,-54.2282\"/>\n",
       "</g>\n",
       "<!-- 4 -->\n",
       "<g id=\"node5\" class=\"node\">\n",
       "<title>4</title>\n",
       "<polygon fill=\"none\" stroke=\"#000000\" points=\"259.3091,-548 152.6616,-548 152.6616,-512 259.3091,-512 259.3091,-548\"/>\n",
       "<text text-anchor=\"middle\" x=\"205.9854\" y=\"-525.8\" font-family=\"Times,serif\" font-size=\"14.00\" fill=\"#000000\">3: ax = (0.5 * d)</text>\n",
       "</g>\n",
       "<!-- 3&#45;&gt;4 -->\n",
       "<g id=\"edge3\" class=\"edge\">\n",
       "<title>3&#45;&gt;4</title>\n",
       "<path fill=\"none\" stroke=\"#00ff00\" d=\"M205.9854,-583.8314C205.9854,-576.131 205.9854,-566.9743 205.9854,-558.4166\"/>\n",
       "<polygon fill=\"#00ff00\" stroke=\"#00ff00\" points=\"209.4855,-558.4132 205.9854,-548.4133 202.4855,-558.4133 209.4855,-558.4132\"/>\n",
       "</g>\n",
       "<!-- 5 -->\n",
       "<g id=\"node6\" class=\"node\">\n",
       "<title>5</title>\n",
       "<polygon fill=\"none\" stroke=\"#000000\" points=\"239.2711,-476 172.6996,-476 172.6996,-440 239.2711,-440 239.2711,-476\"/>\n",
       "<text text-anchor=\"middle\" x=\"205.9854\" y=\"-453.8\" font-family=\"Times,serif\" font-size=\"14.00\" fill=\"#000000\">4: bx = 0</text>\n",
       "</g>\n",
       "<!-- 4&#45;&gt;5 -->\n",
       "<g id=\"edge4\" class=\"edge\">\n",
       "<title>4&#45;&gt;5</title>\n",
       "<path fill=\"none\" stroke=\"#00ff00\" d=\"M205.9854,-511.8314C205.9854,-504.131 205.9854,-494.9743 205.9854,-486.4166\"/>\n",
       "<polygon fill=\"#00ff00\" stroke=\"#00ff00\" points=\"209.4855,-486.4132 205.9854,-476.4133 202.4855,-486.4133 209.4855,-486.4132\"/>\n",
       "</g>\n",
       "<!-- 6 -->\n",
       "<g id=\"node7\" class=\"node\">\n",
       "<title>6</title>\n",
       "<polygon fill=\"none\" stroke=\"#000000\" points=\"205.9854,-404 64.2603,-386 205.9854,-368 347.7104,-386 205.9854,-404\"/>\n",
       "<text text-anchor=\"middle\" x=\"205.9854\" y=\"-381.8\" font-family=\"Times,serif\" font-size=\"14.00\" fill=\"#000000\">5: while: ((ax &#45; bx) &gt; 0.1)</text>\n",
       "</g>\n",
       "<!-- 5&#45;&gt;6 -->\n",
       "<g id=\"edge5\" class=\"edge\">\n",
       "<title>5&#45;&gt;6</title>\n",
       "<path fill=\"none\" stroke=\"#00ff00\" d=\"M205.9854,-439.8314C205.9854,-432.131 205.9854,-422.9743 205.9854,-414.4166\"/>\n",
       "<polygon fill=\"#00ff00\" stroke=\"#00ff00\" points=\"209.4855,-414.4132 205.9854,-404.4133 202.4855,-414.4133 209.4855,-414.4132\"/>\n",
       "</g>\n",
       "<!-- 7 -->\n",
       "<g id=\"node9\" class=\"node\">\n",
       "<title>7</title>\n",
       "<polygon fill=\"none\" stroke=\"#000000\" points=\"177.9561,-332 .0146,-332 .0146,-296 177.9561,-296 177.9561,-332\"/>\n",
       "<text text-anchor=\"middle\" x=\"88.9854\" y=\"-309.8\" font-family=\"Times,serif\" font-size=\"14.00\" fill=\"#000000\">6: bx = (0.5 * (ax + (d / ax)))</text>\n",
       "</g>\n",
       "<!-- 6&#45;&gt;7 -->\n",
       "<g id=\"edge7\" class=\"edge\">\n",
       "<title>6&#45;&gt;7</title>\n",
       "<path fill=\"none\" stroke=\"#ff0000\" d=\"M181.4583,-370.9064C165.8234,-361.285 145.234,-348.6146 127.4529,-337.6723\"/>\n",
       "<polygon fill=\"#ff0000\" stroke=\"#ff0000\" points=\"128.8025,-334.3933 118.4516,-332.133 125.1338,-340.3549 128.8025,-334.3933\"/>\n",
       "</g>\n",
       "<!-- 9 -->\n",
       "<g id=\"node10\" class=\"node\">\n",
       "<title>9</title>\n",
       "<polygon fill=\"none\" stroke=\"#000000\" points=\"298.2193,-332 233.7514,-332 233.7514,-296 298.2193,-296 298.2193,-332\"/>\n",
       "<text text-anchor=\"middle\" x=\"265.9854\" y=\"-309.8\" font-family=\"Times,serif\" font-size=\"14.00\" fill=\"#000000\">8: s = bx</text>\n",
       "</g>\n",
       "<!-- 6&#45;&gt;9 -->\n",
       "<g id=\"edge9\" class=\"edge\">\n",
       "<title>6&#45;&gt;9</title>\n",
       "<path fill=\"none\" stroke=\"#00ff00\" d=\"M219.6003,-369.6621C226.9664,-360.8227 236.2337,-349.702 244.5446,-339.7289\"/>\n",
       "<polygon fill=\"#00ff00\" stroke=\"#00ff00\" points=\"247.237,-341.9652 250.9501,-332.0423 241.8594,-337.4839 247.237,-341.9652\"/>\n",
       "</g>\n",
       "<!-- 8 -->\n",
       "<g id=\"node8\" class=\"node\">\n",
       "<title>8</title>\n",
       "<polygon fill=\"none\" stroke=\"#000000\" points=\"161.4861,-260 88.4846,-260 88.4846,-224 161.4861,-224 161.4861,-260\"/>\n",
       "<text text-anchor=\"middle\" x=\"124.9854\" y=\"-237.8\" font-family=\"Times,serif\" font-size=\"14.00\" fill=\"#000000\">7: ax = bx</text>\n",
       "</g>\n",
       "<!-- 8&#45;&gt;6 -->\n",
       "<g id=\"edge6\" class=\"edge\">\n",
       "<title>8&#45;&gt;6</title>\n",
       "<path fill=\"none\" stroke=\"#ff0000\" d=\"M153.1246,-260.2182C165.3146,-269.5118 178.6705,-281.8464 186.9854,-296 198.0072,-314.7616 202.6788,-339.048 204.6376,-357.6628\"/>\n",
       "<polygon fill=\"#ff0000\" stroke=\"#ff0000\" points=\"201.1718,-358.2148 205.5049,-367.883 208.1467,-357.6228 201.1718,-358.2148\"/>\n",
       "</g>\n",
       "<!-- 7&#45;&gt;8 -->\n",
       "<g id=\"edge8\" class=\"edge\">\n",
       "<title>7&#45;&gt;8</title>\n",
       "<path fill=\"none\" stroke=\"#ff0000\" d=\"M98.0697,-295.8314C102.0468,-287.8771 106.8008,-278.369 111.1992,-269.5723\"/>\n",
       "<polygon fill=\"#ff0000\" stroke=\"#ff0000\" points=\"114.437,-270.9228 115.7787,-260.4133 108.176,-267.7923 114.437,-270.9228\"/>\n",
       "</g>\n",
       "<!-- 10 -->\n",
       "<g id=\"node11\" class=\"node\">\n",
       "<title>10</title>\n",
       "<polygon fill=\"none\" stroke=\"#000000\" points=\"317.0225,-260 214.9482,-260 214.9482,-224 317.0225,-224 317.0225,-260\"/>\n",
       "<text text-anchor=\"middle\" x=\"265.9854\" y=\"-237.8\" font-family=\"Times,serif\" font-size=\"14.00\" fill=\"#000000\">10: a2 = (2 * a)</text>\n",
       "</g>\n",
       "<!-- 9&#45;&gt;10 -->\n",
       "<g id=\"edge10\" class=\"edge\">\n",
       "<title>9&#45;&gt;10</title>\n",
       "<path fill=\"none\" stroke=\"#00ff00\" d=\"M265.9854,-295.8314C265.9854,-288.131 265.9854,-278.9743 265.9854,-270.4166\"/>\n",
       "<polygon fill=\"#00ff00\" stroke=\"#00ff00\" points=\"269.4855,-270.4132 265.9854,-260.4133 262.4855,-270.4133 269.4855,-270.4132\"/>\n",
       "</g>\n",
       "<!-- 11 -->\n",
       "<g id=\"node12\" class=\"node\">\n",
       "<title>11</title>\n",
       "<polygon fill=\"none\" stroke=\"#000000\" points=\"322.4002,-188 209.5705,-188 209.5705,-152 322.4002,-152 322.4002,-188\"/>\n",
       "<text text-anchor=\"middle\" x=\"265.9854\" y=\"-165.8\" font-family=\"Times,serif\" font-size=\"14.00\" fill=\"#000000\">11: ba2 = (b / a2)</text>\n",
       "</g>\n",
       "<!-- 10&#45;&gt;11 -->\n",
       "<g id=\"edge11\" class=\"edge\">\n",
       "<title>10&#45;&gt;11</title>\n",
       "<path fill=\"none\" stroke=\"#00ff00\" d=\"M265.9854,-223.8314C265.9854,-216.131 265.9854,-206.9743 265.9854,-198.4166\"/>\n",
       "<polygon fill=\"#00ff00\" stroke=\"#00ff00\" points=\"269.4855,-198.4132 265.9854,-188.4133 262.4855,-198.4133 269.4855,-198.4132\"/>\n",
       "</g>\n",
       "<!-- 11&#45;&gt;12 -->\n",
       "<g id=\"edge12\" class=\"edge\">\n",
       "<title>11&#45;&gt;12</title>\n",
       "<path fill=\"none\" stroke=\"#00ff00\" d=\"M265.9854,-151.8314C265.9854,-144.131 265.9854,-134.9743 265.9854,-126.4166\"/>\n",
       "<polygon fill=\"#00ff00\" stroke=\"#00ff00\" points=\"269.4855,-126.4132 265.9854,-116.4133 262.4855,-126.4133 269.4855,-126.4132\"/>\n",
       "</g>\n",
       "</g>\n",
       "</svg>\n"
      ],
      "text/plain": [
       "<graphviz.files.Source at 0x116207b00>"
      ]
     },
     "execution_count": 182,
     "metadata": {},
     "output_type": "execute_result"
    }
   ],
   "source": [
    "with Tracer() as cov:\n",
    "    roots(1, 1 / 8, 1)\n",
    "Source(to_graph(gen_cfg(inspect.getsource(roots)), arcs=cov_to_arcs(cov)))"
   ]
  },
  {
   "cell_type": "markdown",
   "metadata": {
    "slideshow": {
     "slide_type": "fragment"
    }
   },
   "source": [
    "Remember our constraints"
   ]
  },
  {
   "cell_type": "code",
   "execution_count": 183,
   "metadata": {
    "slideshow": {
     "slide_type": "subslide"
    }
   },
   "outputs": [
    {
     "data": {
      "text/plain": [
       "['z3.And((a == _a_0), (b == _b_0), (c == _c_0))',\n",
       " '(_d_0 == ((_b_0 * _b_0) - ((4 * _a_0) * _c_0)))',\n",
       " '(_xa_0 == (0.5 * _d_0))',\n",
       " '(_xb_0 == 0)',\n",
       " 'z3.Not(((_xa_0 - _xb_0) > 0.1))',\n",
       " '(_s_0 == _xb_0)',\n",
       " 'z3.Not((_a_0 == 0))',\n",
       " '(_a2_0 == (2 * _a_0))',\n",
       " '(_ba2_0 == (_b_0 / _a2_0))']"
      ]
     },
     "execution_count": 183,
     "metadata": {},
     "output_type": "execute_result"
    }
   ],
   "source": [
    "constraints"
   ]
  },
  {
   "cell_type": "markdown",
   "metadata": {
    "slideshow": {
     "slide_type": "subslide"
    }
   },
   "source": [
    "#### Exploring nearby paths\n",
    "\n",
    "We can explore nearby paths by negating some of the predicates."
   ]
  },
  {
   "cell_type": "code",
   "execution_count": 184,
   "metadata": {
    "slideshow": {
     "slide_type": "fragment"
    }
   },
   "outputs": [],
   "source": [
    "new_constraints = constraints[0:4] + ['z3.Not(%s)' % constraints[4]]"
   ]
  },
  {
   "cell_type": "code",
   "execution_count": 185,
   "metadata": {
    "slideshow": {
     "slide_type": "fragment"
    }
   },
   "outputs": [
    {
     "data": {
      "text/plain": [
       "['z3.And((a == _a_0), (b == _b_0), (c == _c_0))',\n",
       " '(_d_0 == ((_b_0 * _b_0) - ((4 * _a_0) * _c_0)))',\n",
       " '(_xa_0 == (0.5 * _d_0))',\n",
       " '(_xb_0 == 0)',\n",
       " 'z3.Not(z3.Not(((_xa_0 - _xb_0) > 0.1)))']"
      ]
     },
     "execution_count": 185,
     "metadata": {},
     "output_type": "execute_result"
    }
   ],
   "source": [
    "new_constraints"
   ]
  },
  {
   "cell_type": "code",
   "execution_count": 186,
   "metadata": {
    "slideshow": {
     "slide_type": "subslide"
    }
   },
   "outputs": [
    {
     "name": "stdout",
     "output_type": "stream",
     "text": [
      "[_b_0 = 0,\n",
      " _c_0 = 1,\n",
      " _a_0 = -11/20,\n",
      " _xb_0 = 0,\n",
      " _xa_0 = 11/10,\n",
      " _d_0 = 11/5,\n",
      " c = 1,\n",
      " b = 0,\n",
      " a = -11/20]\n"
     ]
    }
   ],
   "source": [
    "eval('z3.solve(%s)' % ','.join(new_constraints))"
   ]
  },
  {
   "cell_type": "code",
   "execution_count": 187,
   "metadata": {
    "slideshow": {
     "slide_type": "fragment"
    }
   },
   "outputs": [
    {
     "data": {
      "image/svg+xml": [
       "<?xml version=\"1.0\" encoding=\"UTF-8\" standalone=\"no\"?>\n",
       "<!DOCTYPE svg PUBLIC \"-//W3C//DTD SVG 1.1//EN\"\n",
       " \"http://www.w3.org/Graphics/SVG/1.1/DTD/svg11.dtd\">\n",
       "<!-- Generated by graphviz version 2.40.1 (20161225.0304)\n",
       " -->\n",
       "<!-- Title: %3 Pages: 1 -->\n",
       "<svg width=\"579pt\" height=\"780pt\"\n",
       " viewBox=\"0.00 0.00 579.18 780.00\" xmlns=\"http://www.w3.org/2000/svg\" xmlns:xlink=\"http://www.w3.org/1999/xlink\">\n",
       "<g id=\"graph0\" class=\"graph\" transform=\"scale(1 1) rotate(0) translate(4 776)\">\n",
       "<title>%3</title>\n",
       "<polygon fill=\"#ffffff\" stroke=\"transparent\" points=\"-4,4 -4,-776 575.1812,-776 575.1812,4 -4,4\"/>\n",
       "<!-- 1 -->\n",
       "<g id=\"node1\" class=\"node\">\n",
       "<title>1</title>\n",
       "<ellipse fill=\"none\" stroke=\"#000000\" cx=\"233.6812\" cy=\"-750\" rx=\"90.7984\" ry=\"18\"/>\n",
       "<ellipse fill=\"none\" stroke=\"#000000\" cx=\"233.6812\" cy=\"-750\" rx=\"94.8049\" ry=\"22\"/>\n",
       "<text text-anchor=\"middle\" x=\"233.6812\" y=\"-745.8\" font-family=\"Times,serif\" font-size=\"14.00\" fill=\"#000000\">1: enter: roots3(a, b, c)</text>\n",
       "</g>\n",
       "<!-- 3 -->\n",
       "<g id=\"node6\" class=\"node\">\n",
       "<title>3</title>\n",
       "<polygon fill=\"none\" stroke=\"#000000\" points=\"321.8533,-692 145.509,-692 145.509,-656 321.8533,-656 321.8533,-692\"/>\n",
       "<text text-anchor=\"middle\" x=\"233.6812\" y=\"-669.8\" font-family=\"Times,serif\" font-size=\"14.00\" fill=\"#000000\">2: d = ((b * b) &#45; ((4 * a) * c))</text>\n",
       "</g>\n",
       "<!-- 1&#45;&gt;3 -->\n",
       "<g id=\"edge4\" class=\"edge\">\n",
       "<title>1&#45;&gt;3</title>\n",
       "<path fill=\"none\" stroke=\"#00ff00\" d=\"M233.6812,-727.6086C233.6812,-719.7272 233.6812,-710.7616 233.6812,-702.4482\"/>\n",
       "<polygon fill=\"#00ff00\" stroke=\"#00ff00\" points=\"237.1813,-702.3974 233.6812,-692.3975 230.1813,-702.3975 237.1813,-702.3974\"/>\n",
       "</g>\n",
       "<!-- 2 -->\n",
       "<g id=\"node2\" class=\"node\">\n",
       "<title>2</title>\n",
       "<ellipse fill=\"none\" stroke=\"#000000\" cx=\"201.6812\" cy=\"-22\" rx=\"86.4684\" ry=\"18\"/>\n",
       "<ellipse fill=\"none\" stroke=\"#000000\" cx=\"201.6812\" cy=\"-22\" rx=\"90.4791\" ry=\"22\"/>\n",
       "<text text-anchor=\"middle\" x=\"201.6812\" y=\"-17.8\" font-family=\"Times,serif\" font-size=\"14.00\" fill=\"#000000\">1: exit: roots3(a, b, c)</text>\n",
       "</g>\n",
       "<!-- 12 -->\n",
       "<g id=\"node3\" class=\"node\">\n",
       "<title>12</title>\n",
       "<polygon fill=\"none\" stroke=\"#000000\" points=\"121.544,-116 -.1817,-116 -.1817,-80 121.544,-80 121.544,-116\"/>\n",
       "<text text-anchor=\"middle\" x=\"60.6812\" y=\"-93.8\" font-family=\"Times,serif\" font-size=\"14.00\" fill=\"#000000\">13: return math.inf</text>\n",
       "</g>\n",
       "<!-- 12&#45;&gt;2 -->\n",
       "<g id=\"edge1\" class=\"edge\">\n",
       "<title>12&#45;&gt;2</title>\n",
       "<path fill=\"none\" stroke=\"#ff0000\" d=\"M94.0962,-79.9891C112.387,-70.1302 135.3336,-57.7618 155.3313,-46.9829\"/>\n",
       "<polygon fill=\"#ff0000\" stroke=\"#ff0000\" points=\"157.1426,-49.9827 164.2847,-42.157 153.8213,-43.8208 157.1426,-49.9827\"/>\n",
       "</g>\n",
       "<!-- 13 -->\n",
       "<g id=\"node4\" class=\"node\">\n",
       "<title>13</title>\n",
       "<polygon fill=\"none\" stroke=\"#000000\" points=\"264.4128,-116 138.9495,-116 138.9495,-80 264.4128,-80 264.4128,-116\"/>\n",
       "<text text-anchor=\"middle\" x=\"201.6812\" y=\"-93.8\" font-family=\"Times,serif\" font-size=\"14.00\" fill=\"#000000\">14: return ((&#45; c) / b)</text>\n",
       "</g>\n",
       "<!-- 13&#45;&gt;2 -->\n",
       "<g id=\"edge2\" class=\"edge\">\n",
       "<title>13&#45;&gt;2</title>\n",
       "<path fill=\"none\" stroke=\"#ff0000\" d=\"M201.6812,-79.9891C201.6812,-72.291 201.6812,-63.0629 201.6812,-54.2561\"/>\n",
       "<polygon fill=\"#ff0000\" stroke=\"#ff0000\" points=\"205.1813,-54.2282 201.6812,-44.2282 198.1813,-54.2282 205.1813,-54.2282\"/>\n",
       "</g>\n",
       "<!-- 16 -->\n",
       "<g id=\"node5\" class=\"node\">\n",
       "<title>16</title>\n",
       "<polygon fill=\"none\" stroke=\"#000000\" points=\"571.1812,-116 282.1812,-116 282.1812,-80 571.1812,-80 571.1812,-116\"/>\n",
       "<text text-anchor=\"middle\" x=\"426.6812\" y=\"-93.8\" font-family=\"Times,serif\" font-size=\"14.00\" fill=\"#000000\">18: return (((&#45; ba2) + (s / a2)), ((&#45; ba2) &#45; (s / a2)))</text>\n",
       "</g>\n",
       "<!-- 16&#45;&gt;2 -->\n",
       "<g id=\"edge3\" class=\"edge\">\n",
       "<title>16&#45;&gt;2</title>\n",
       "<path fill=\"none\" stroke=\"#00ff00\" d=\"M373.3593,-79.9891C340.7149,-68.9625 298.777,-54.7968 264.5232,-43.2266\"/>\n",
       "<polygon fill=\"#00ff00\" stroke=\"#00ff00\" points=\"265.2145,-39.7659 254.6203,-39.8817 262.9743,-46.3978 265.2145,-39.7659\"/>\n",
       "</g>\n",
       "<!-- 4 -->\n",
       "<g id=\"node7\" class=\"node\">\n",
       "<title>4</title>\n",
       "<polygon fill=\"none\" stroke=\"#000000\" points=\"287.0049,-620 180.3574,-620 180.3574,-584 287.0049,-584 287.0049,-620\"/>\n",
       "<text text-anchor=\"middle\" x=\"233.6812\" y=\"-597.8\" font-family=\"Times,serif\" font-size=\"14.00\" fill=\"#000000\">4: xa = (0.5 * d)</text>\n",
       "</g>\n",
       "<!-- 3&#45;&gt;4 -->\n",
       "<g id=\"edge5\" class=\"edge\">\n",
       "<title>3&#45;&gt;4</title>\n",
       "<path fill=\"none\" stroke=\"#00ff00\" d=\"M233.6812,-655.8314C233.6812,-648.131 233.6812,-638.9743 233.6812,-630.4166\"/>\n",
       "<polygon fill=\"#00ff00\" stroke=\"#00ff00\" points=\"237.1813,-630.4132 233.6812,-620.4133 230.1813,-630.4133 237.1813,-630.4132\"/>\n",
       "</g>\n",
       "<!-- 5 -->\n",
       "<g id=\"node8\" class=\"node\">\n",
       "<title>5</title>\n",
       "<polygon fill=\"none\" stroke=\"#000000\" points=\"266.9669,-548 200.3954,-548 200.3954,-512 266.9669,-512 266.9669,-548\"/>\n",
       "<text text-anchor=\"middle\" x=\"233.6812\" y=\"-525.8\" font-family=\"Times,serif\" font-size=\"14.00\" fill=\"#000000\">5: xb = 0</text>\n",
       "</g>\n",
       "<!-- 4&#45;&gt;5 -->\n",
       "<g id=\"edge6\" class=\"edge\">\n",
       "<title>4&#45;&gt;5</title>\n",
       "<path fill=\"none\" stroke=\"#00ff00\" d=\"M233.6812,-583.8314C233.6812,-576.131 233.6812,-566.9743 233.6812,-558.4166\"/>\n",
       "<polygon fill=\"#00ff00\" stroke=\"#00ff00\" points=\"237.1813,-558.4132 233.6812,-548.4133 230.1813,-558.4133 237.1813,-558.4132\"/>\n",
       "</g>\n",
       "<!-- 6 -->\n",
       "<g id=\"node9\" class=\"node\">\n",
       "<title>6</title>\n",
       "<polygon fill=\"none\" stroke=\"#000000\" points=\"233.6812,-476 91.9561,-458 233.6812,-440 375.4062,-458 233.6812,-476\"/>\n",
       "<text text-anchor=\"middle\" x=\"233.6812\" y=\"-453.8\" font-family=\"Times,serif\" font-size=\"14.00\" fill=\"#000000\">6: while: ((xa &#45; xb) &gt; 0.1)</text>\n",
       "</g>\n",
       "<!-- 5&#45;&gt;6 -->\n",
       "<g id=\"edge7\" class=\"edge\">\n",
       "<title>5&#45;&gt;6</title>\n",
       "<path fill=\"none\" stroke=\"#00ff00\" d=\"M233.6812,-511.8314C233.6812,-504.131 233.6812,-494.9743 233.6812,-486.4166\"/>\n",
       "<polygon fill=\"#00ff00\" stroke=\"#00ff00\" points=\"237.1813,-486.4132 233.6812,-476.4133 230.1813,-486.4133 237.1813,-486.4132\"/>\n",
       "</g>\n",
       "<!-- 7 -->\n",
       "<g id=\"node11\" class=\"node\">\n",
       "<title>7</title>\n",
       "<polygon fill=\"none\" stroke=\"#000000\" points=\"205.6519,-404 27.7104,-404 27.7104,-368 205.6519,-368 205.6519,-404\"/>\n",
       "<text text-anchor=\"middle\" x=\"116.6812\" y=\"-381.8\" font-family=\"Times,serif\" font-size=\"14.00\" fill=\"#000000\">7: xb = (0.5 * (xa + (d / xa)))</text>\n",
       "</g>\n",
       "<!-- 6&#45;&gt;7 -->\n",
       "<g id=\"edge9\" class=\"edge\">\n",
       "<title>6&#45;&gt;7</title>\n",
       "<path fill=\"none\" stroke=\"#00ff00\" d=\"M209.1541,-442.9064C193.5192,-433.285 172.9298,-420.6146 155.1487,-409.6723\"/>\n",
       "<polygon fill=\"#00ff00\" stroke=\"#00ff00\" points=\"156.4983,-406.3933 146.1474,-404.133 152.8296,-412.3549 156.4983,-406.3933\"/>\n",
       "</g>\n",
       "<!-- 9 -->\n",
       "<g id=\"node12\" class=\"node\">\n",
       "<title>9</title>\n",
       "<polygon fill=\"none\" stroke=\"#000000\" points=\"325.9151,-404 261.4472,-404 261.4472,-368 325.9151,-368 325.9151,-404\"/>\n",
       "<text text-anchor=\"middle\" x=\"293.6812\" y=\"-381.8\" font-family=\"Times,serif\" font-size=\"14.00\" fill=\"#000000\">9: s = xb</text>\n",
       "</g>\n",
       "<!-- 6&#45;&gt;9 -->\n",
       "<g id=\"edge11\" class=\"edge\">\n",
       "<title>6&#45;&gt;9</title>\n",
       "<path fill=\"none\" stroke=\"#00ff00\" d=\"M247.2961,-441.6621C254.6622,-432.8227 263.9295,-421.702 272.2404,-411.7289\"/>\n",
       "<polygon fill=\"#00ff00\" stroke=\"#00ff00\" points=\"274.9328,-413.9652 278.6459,-404.0423 269.5552,-409.4839 274.9328,-413.9652\"/>\n",
       "</g>\n",
       "<!-- 8 -->\n",
       "<g id=\"node10\" class=\"node\">\n",
       "<title>8</title>\n",
       "<polygon fill=\"none\" stroke=\"#000000\" points=\"171.1819,-332 98.1804,-332 98.1804,-296 171.1819,-296 171.1819,-332\"/>\n",
       "<text text-anchor=\"middle\" x=\"134.6812\" y=\"-309.8\" font-family=\"Times,serif\" font-size=\"14.00\" fill=\"#000000\">8: xa = xb</text>\n",
       "</g>\n",
       "<!-- 8&#45;&gt;6 -->\n",
       "<g id=\"edge8\" class=\"edge\">\n",
       "<title>8&#45;&gt;6</title>\n",
       "<path fill=\"none\" stroke=\"#00ff00\" d=\"M170.9596,-330.5514C186.6822,-339.4943 203.919,-352.0149 214.6812,-368 226.9651,-386.2455 231.5308,-410.9103 233.1277,-429.8054\"/>\n",
       "<polygon fill=\"#00ff00\" stroke=\"#00ff00\" points=\"229.6413,-430.1356 233.7503,-439.9012 236.6281,-429.7047 229.6413,-430.1356\"/>\n",
       "</g>\n",
       "<!-- 7&#45;&gt;8 -->\n",
       "<g id=\"edge10\" class=\"edge\">\n",
       "<title>7&#45;&gt;8</title>\n",
       "<path fill=\"none\" stroke=\"#00ff00\" d=\"M121.2233,-367.8314C123.1696,-360.0463 125.4879,-350.7729 127.6475,-342.1347\"/>\n",
       "<polygon fill=\"#00ff00\" stroke=\"#00ff00\" points=\"131.0479,-342.9636 130.0778,-332.4133 124.2569,-341.2658 131.0479,-342.9636\"/>\n",
       "</g>\n",
       "<!-- 10 -->\n",
       "<g id=\"node13\" class=\"node\">\n",
       "<title>10</title>\n",
       "<polygon fill=\"none\" stroke=\"#000000\" points=\"293.6812,-332 205.8256,-314 293.6812,-296 381.5367,-314 293.6812,-332\"/>\n",
       "<text text-anchor=\"middle\" x=\"293.6812\" y=\"-309.8\" font-family=\"Times,serif\" font-size=\"14.00\" fill=\"#000000\">11: if: (a == 0)</text>\n",
       "</g>\n",
       "<!-- 9&#45;&gt;10 -->\n",
       "<g id=\"edge12\" class=\"edge\">\n",
       "<title>9&#45;&gt;10</title>\n",
       "<path fill=\"none\" stroke=\"#00ff00\" d=\"M293.6812,-367.8314C293.6812,-360.131 293.6812,-350.9743 293.6812,-342.4166\"/>\n",
       "<polygon fill=\"#00ff00\" stroke=\"#00ff00\" points=\"297.1813,-342.4132 293.6812,-332.4133 290.1813,-342.4133 297.1813,-342.4132\"/>\n",
       "</g>\n",
       "<!-- 11 -->\n",
       "<g id=\"node14\" class=\"node\">\n",
       "<title>11</title>\n",
       "<polygon fill=\"none\" stroke=\"#000000\" points=\"201.6812,-188 113.0051,-170 201.6812,-152 290.3572,-170 201.6812,-188\"/>\n",
       "<text text-anchor=\"middle\" x=\"201.6812\" y=\"-165.8\" font-family=\"Times,serif\" font-size=\"14.00\" fill=\"#000000\">12: if: (b == 0)</text>\n",
       "</g>\n",
       "<!-- 10&#45;&gt;11 -->\n",
       "<g id=\"edge13\" class=\"edge\">\n",
       "<title>10&#45;&gt;11</title>\n",
       "<path fill=\"none\" stroke=\"#ff0000\" d=\"M283.484,-298.0393C267.4576,-272.9545 236.2576,-224.1196 217.3625,-194.5447\"/>\n",
       "<polygon fill=\"#ff0000\" stroke=\"#ff0000\" points=\"220.2573,-192.5748 211.9239,-186.0322 214.3584,-196.3436 220.2573,-192.5748\"/>\n",
       "</g>\n",
       "<!-- 14 -->\n",
       "<g id=\"node15\" class=\"node\">\n",
       "<title>14</title>\n",
       "<polygon fill=\"none\" stroke=\"#000000\" points=\"394.7183,-260 292.644,-260 292.644,-224 394.7183,-224 394.7183,-260\"/>\n",
       "<text text-anchor=\"middle\" x=\"343.6812\" y=\"-237.8\" font-family=\"Times,serif\" font-size=\"14.00\" fill=\"#000000\">16: a2 = (2 * a)</text>\n",
       "</g>\n",
       "<!-- 10&#45;&gt;14 -->\n",
       "<g id=\"edge16\" class=\"edge\">\n",
       "<title>10&#45;&gt;14</title>\n",
       "<path fill=\"none\" stroke=\"#00ff00\" d=\"M304.7778,-298.0209C310.7858,-289.3693 318.3647,-278.4557 325.2336,-268.5645\"/>\n",
       "<polygon fill=\"#00ff00\" stroke=\"#00ff00\" points=\"328.2005,-270.4282 331.0297,-260.2181 322.4509,-266.4354 328.2005,-270.4282\"/>\n",
       "</g>\n",
       "<!-- 11&#45;&gt;12 -->\n",
       "<g id=\"edge14\" class=\"edge\">\n",
       "<title>11&#45;&gt;12</title>\n",
       "<path fill=\"none\" stroke=\"#ff0000\" d=\"M176.1471,-156.9613C156.3902,-146.8727 128.5472,-132.655 105.1527,-120.7089\"/>\n",
       "<polygon fill=\"#ff0000\" stroke=\"#ff0000\" points=\"106.5985,-117.5173 96.1007,-116.0866 103.415,-123.7515 106.5985,-117.5173\"/>\n",
       "</g>\n",
       "<!-- 11&#45;&gt;13 -->\n",
       "<g id=\"edge15\" class=\"edge\">\n",
       "<title>11&#45;&gt;13</title>\n",
       "<path fill=\"none\" stroke=\"#ff0000\" d=\"M201.6812,-151.8314C201.6812,-144.131 201.6812,-134.9743 201.6812,-126.4166\"/>\n",
       "<polygon fill=\"#ff0000\" stroke=\"#ff0000\" points=\"205.1813,-126.4132 201.6812,-116.4133 198.1813,-126.4133 205.1813,-126.4132\"/>\n",
       "</g>\n",
       "<!-- 15 -->\n",
       "<g id=\"node16\" class=\"node\">\n",
       "<title>15</title>\n",
       "<polygon fill=\"none\" stroke=\"#000000\" points=\"452.1079,-188 339.2544,-188 339.2544,-152 452.1079,-152 452.1079,-188\"/>\n",
       "<text text-anchor=\"middle\" x=\"395.6812\" y=\"-165.8\" font-family=\"Times,serif\" font-size=\"14.00\" fill=\"#000000\">17: ba2 = (b / a2)</text>\n",
       "</g>\n",
       "<!-- 14&#45;&gt;15 -->\n",
       "<g id=\"edge17\" class=\"edge\">\n",
       "<title>14&#45;&gt;15</title>\n",
       "<path fill=\"none\" stroke=\"#00ff00\" d=\"M356.8029,-223.8314C362.731,-215.6232 369.8541,-205.7606 376.3745,-196.7323\"/>\n",
       "<polygon fill=\"#00ff00\" stroke=\"#00ff00\" points=\"379.3651,-198.5693 382.3827,-188.4133 373.6904,-194.4708 379.3651,-198.5693\"/>\n",
       "</g>\n",
       "<!-- 15&#45;&gt;16 -->\n",
       "<g id=\"edge18\" class=\"edge\">\n",
       "<title>15&#45;&gt;16</title>\n",
       "<path fill=\"none\" stroke=\"#00ff00\" d=\"M403.5038,-151.8314C406.8921,-143.9617 410.9352,-134.5712 414.6888,-125.8533\"/>\n",
       "<polygon fill=\"#00ff00\" stroke=\"#00ff00\" points=\"418.0133,-126.9822 418.7532,-116.4133 411.5839,-124.214 418.0133,-126.9822\"/>\n",
       "</g>\n",
       "</g>\n",
       "</svg>\n"
      ],
      "text/plain": [
       "<graphviz.files.Source at 0x116211cc0>"
      ]
     },
     "execution_count": 187,
     "metadata": {},
     "output_type": "execute_result"
    }
   ],
   "source": [
    "with Tracer() as cov:\n",
    "    roots3(1, 0, -11 / 20)\n",
    "Source(to_graph(gen_cfg(inspect.getsource(roots3)), arcs=cov_to_arcs(cov)))"
   ]
  },
  {
   "cell_type": "markdown",
   "metadata": {
    "slideshow": {
     "slide_type": "subslide"
    }
   },
   "source": [
    "\\todo{Function summaries and variable renaming}"
   ]
  },
  {
   "cell_type": "markdown",
   "metadata": {
    "slideshow": {
     "slide_type": "fragment"
    }
   },
   "source": [
    "Our symbolic fuzzer is reasonable for single functions that use `Int` or `Real` values. However, real world applications often contain multiple recursive method calls, which will not be handled by our implementation. Nor are real applications restricted to using just numbers.\n",
    "\n",
    "We will examine an implementation that can handle practical programs next."
   ]
  },
  {
   "cell_type": "markdown",
   "metadata": {
    "slideshow": {
     "slide_type": "subslide"
    }
   },
   "source": [
    "### Concolic Execution with Proxies"
   ]
  },
  {
   "cell_type": "markdown",
   "metadata": {
    "slideshow": {
     "slide_type": "fragment"
    }
   },
   "source": [
    "A second approach to concolic execution is to use a wrapper class as we did in the [chapter on information flow](InformationFlow.ipynb). We start with a register for symbolic variables."
   ]
  },
  {
   "cell_type": "code",
   "execution_count": 188,
   "metadata": {
    "slideshow": {
     "slide_type": "fragment"
    }
   },
   "outputs": [],
   "source": [
    "Var_Register = {}"
   ]
  },
  {
   "cell_type": "markdown",
   "metadata": {
    "slideshow": {
     "slide_type": "fragment"
    }
   },
   "source": [
    "Next, we define wrapper objects for concolic variables.\n",
    "\n",
    "#### IntWrapper"
   ]
  },
  {
   "cell_type": "code",
   "execution_count": 189,
   "metadata": {
    "slideshow": {
     "slide_type": "subslide"
    }
   },
   "outputs": [],
   "source": [
    "class IntWrapper():\n",
    "    def __init__(self, z, value=None):\n",
    "        self.z = z\n",
    "        self.value = value\n",
    "        Var_Register[z.sexpr()] = z\n",
    "\n",
    "    def __add__(self, other):\n",
    "        return IntWrapper(self.z + other.z, self.value + other.value)\n",
    "\n",
    "    def __radd__(self, other):\n",
    "        return self.__add__(other)\n",
    "\n",
    "    def __eq__(self, other):\n",
    "        if isinstance(other, int):\n",
    "            return BoolWrapper(self.z == other, self.value == other)\n",
    "        else:\n",
    "            return BoolWrapper(self.z == other.z, self.value == other.value)\n",
    "\n",
    "    def __lt__(self, other):\n",
    "        if isinstance(other, int):\n",
    "            return BoolWrapper(self.z < other, self.value < other)\n",
    "        else:\n",
    "            return BoolWrapper(self.z < other.z, self.value < other.value)\n",
    "\n",
    "    def __gt__(self, other):\n",
    "        if isinstance(other, int):\n",
    "            return BoolWrapper(self.z > other, self.value > other)\n",
    "        else:\n",
    "            return BoolWrapper(self.z > other.z, self.value > other.value)\n",
    "\n",
    "    def __req__(self, other):\n",
    "        return self.__eq__(other)"
   ]
  },
  {
   "cell_type": "markdown",
   "metadata": {
    "slideshow": {
     "slide_type": "subslide"
    }
   },
   "source": [
    "#### BoolWrapper\n",
    "\n",
    "The `BoolWrapper` collects the predicates that it finds along the way."
   ]
  },
  {
   "cell_type": "code",
   "execution_count": 190,
   "metadata": {
    "slideshow": {
     "slide_type": "fragment"
    }
   },
   "outputs": [],
   "source": [
    "Predicates = []"
   ]
  },
  {
   "cell_type": "code",
   "execution_count": 191,
   "metadata": {
    "slideshow": {
     "slide_type": "subslide"
    }
   },
   "outputs": [],
   "source": [
    "class BoolWrapper():\n",
    "    def __init__(self, z, value=None):\n",
    "        self.z = z\n",
    "        self.value = value\n",
    "\n",
    "    def __not__(self):\n",
    "        return BoolWrapper(z3.Not(self.z), not self.value)\n",
    "\n",
    "    def __bool__(self):\n",
    "        if self.value:\n",
    "            Predicates.append(self.z)\n",
    "            return True\n",
    "        else:\n",
    "            Predicates.append(z3.Not(self.z))\n",
    "            return False"
   ]
  },
  {
   "cell_type": "markdown",
   "metadata": {
    "slideshow": {
     "slide_type": "subslide"
    }
   },
   "source": [
    "Finally the `explore()` function executes the given function returns the result and predicates collected along the way."
   ]
  },
  {
   "cell_type": "code",
   "execution_count": 192,
   "metadata": {
    "slideshow": {
     "slide_type": "subslide"
    }
   },
   "outputs": [],
   "source": [
    "def explore(fn, args):\n",
    "    result, error = None, None\n",
    "    Predicates.clear()\n",
    "    Var_Register.clear()\n",
    "    my_args = []\n",
    "    for i,a in enumerate(args):\n",
    "        if isinstance(a, int):\n",
    "            my_args.append(IntWrapper(z3.Int('arg_%s' % i), a))\n",
    "        else:\n",
    "            assert False\n",
    "    try:\n",
    "        result = fn(*my_args)\n",
    "    except Exception as e:\n",
    "        error = e\n",
    "    finally:\n",
    "        return (result, error, Predicates)"
   ]
  },
  {
   "cell_type": "markdown",
   "metadata": {
    "slideshow": {
     "slide_type": "subslide"
    }
   },
   "source": [
    "Let us see if this works."
   ]
  },
  {
   "cell_type": "code",
   "execution_count": 193,
   "metadata": {
    "slideshow": {
     "slide_type": "fragment"
    }
   },
   "outputs": [],
   "source": [
    "result, err, pred = explore(abs_max, [2, 1])"
   ]
  },
  {
   "cell_type": "code",
   "execution_count": 194,
   "metadata": {
    "slideshow": {
     "slide_type": "fragment"
    }
   },
   "outputs": [
    {
     "data": {
      "text/plain": [
       "[Not(arg_0 < 0), Not(arg_1 < 0), arg_0 > arg_1]"
      ]
     },
     "execution_count": 194,
     "metadata": {},
     "output_type": "execute_result"
    }
   ],
   "source": [
    "pred"
   ]
  },
  {
   "cell_type": "code",
   "execution_count": 195,
   "metadata": {
    "slideshow": {
     "slide_type": "fragment"
    }
   },
   "outputs": [
    {
     "name": "stdout",
     "output_type": "stream",
     "text": [
      "arg_0=z3.Int('arg_0')\n",
      "arg_1=z3.Int('arg_1')\n"
     ]
    }
   ],
   "source": [
    "for k in Var_Register:\n",
    "    s = \"%s=z3.Int('%s')\" % (k, Var_Register[k])\n",
    "    print(s)\n",
    "    exec(s)"
   ]
  },
  {
   "cell_type": "code",
   "execution_count": 196,
   "metadata": {
    "slideshow": {
     "slide_type": "fragment"
    }
   },
   "outputs": [
    {
     "name": "stdout",
     "output_type": "stream",
     "text": [
      "[arg_1 = 0, arg_0 = 1]\n"
     ]
    }
   ],
   "source": [
    "z3.solve(pred)"
   ]
  },
  {
   "cell_type": "markdown",
   "metadata": {
    "button": false,
    "new_sheet": true,
    "run_control": {
     "read_only": false
    },
    "slideshow": {
     "slide_type": "slide"
    }
   },
   "source": [
    "## Concolic Execution with PyExZ3"
   ]
  },
  {
   "cell_type": "markdown",
   "metadata": {
    "slideshow": {
     "slide_type": "fragment"
    }
   },
   "source": [
    " **Requires the PyExZ3 pip package from [here](https://github.com/uds-se/PyExZ3).**\n",
    " \n",
    "[PyExZ3](https://www.microsoft.com/en-us/research/wp-content/uploads/2016/02/dse.pdf) is a concolic evaluator of programs that takes a different strategy from what we did here. Similar to our dynamic taint approach, the PyExZ3 wraps the Python data structures so that they are symbolic equivalents. These data structures are then traced through program execution, and constraints are collected at the end."
   ]
  },
  {
   "cell_type": "markdown",
   "metadata": {
    "slideshow": {
     "slide_type": "subslide"
    }
   },
   "source": [
    "```python\n",
    "import PyExZ3.pyloader\n",
    "import symbolic.symbolic_types as st\n",
    "```"
   ]
  },
  {
   "cell_type": "markdown",
   "metadata": {
    "slideshow": {
     "slide_type": "fragment"
    }
   },
   "source": [
    "```python\n",
    "generatedInputs, returnVals, path = PyExZ3.pyloader.exploreFunction(check_triangle)\n",
    "```"
   ]
  },
  {
   "cell_type": "markdown",
   "metadata": {
    "slideshow": {
     "slide_type": "fragment"
    }
   },
   "source": [
    "We can get *PyExZ3* to print a flow graph of the conditions it examined."
   ]
  },
  {
   "cell_type": "markdown",
   "metadata": {
    "slideshow": {
     "slide_type": "fragment"
    }
   },
   "source": [
    "```python\n",
    "Source(path.toDot())\n",
    "```"
   ]
  },
  {
   "cell_type": "markdown",
   "metadata": {
    "slideshow": {
     "slide_type": "fragment"
    }
   },
   "source": [
    "As in our implementation, *PyExZ3* also takes a `max_iters` argument."
   ]
  },
  {
   "cell_type": "markdown",
   "metadata": {
    "slideshow": {
     "slide_type": "subslide"
    }
   },
   "source": [
    "```python\n",
    "generatedInputs, returnVals, path = PyExZ3.pyloader.exploreFunction(gcd, max_iters=5)\n",
    "```"
   ]
  },
  {
   "cell_type": "markdown",
   "metadata": {
    "slideshow": {
     "slide_type": "fragment"
    }
   },
   "source": [
    "```python\n",
    "Source(path.toDot())\n",
    "```"
   ]
  },
  {
   "cell_type": "markdown",
   "metadata": {
    "slideshow": {
     "slide_type": "fragment"
    }
   },
   "source": [
    "This is useful in functions such as `factorial()`."
   ]
  },
  {
   "cell_type": "code",
   "execution_count": 197,
   "metadata": {
    "slideshow": {
     "slide_type": "fragment"
    }
   },
   "outputs": [],
   "source": [
    "def factorial(n):\n",
    "    if n <= 1:\n",
    "        return 1\n",
    "    return n * factorial(n - 1)"
   ]
  },
  {
   "cell_type": "markdown",
   "metadata": {
    "slideshow": {
     "slide_type": "subslide"
    }
   },
   "source": [
    "```python\n",
    "generatedInputs, returnVals, path = PyExZ3.pyloader.exploreFunction(factorial, max_iters=10)\n",
    "```"
   ]
  },
  {
   "cell_type": "markdown",
   "metadata": {
    "slideshow": {
     "slide_type": "fragment"
    }
   },
   "source": [
    "Our implementation did not yet implement symbolic execution through function calls. *PyExZ3* does handle symbolic execution across function boundaries."
   ]
  },
  {
   "cell_type": "code",
   "execution_count": 198,
   "metadata": {
    "slideshow": {
     "slide_type": "skip"
    }
   },
   "outputs": [],
   "source": [
    "import math"
   ]
  },
  {
   "cell_type": "code",
   "execution_count": 199,
   "metadata": {
    "slideshow": {
     "slide_type": "fragment"
    }
   },
   "outputs": [],
   "source": [
    "def discriminant(a, b, c):\n",
    "    return b * b - 4 * a * c"
   ]
  },
  {
   "cell_type": "code",
   "execution_count": 200,
   "metadata": {
    "slideshow": {
     "slide_type": "subslide"
    }
   },
   "outputs": [],
   "source": [
    "def my_roots(a, b, c):\n",
    "    if a == 0:\n",
    "        if b == 0:\n",
    "            return math.inf\n",
    "        return -c / b\n",
    "    d = discriminant(a, b, c)\n",
    "    a2 = 2 * a\n",
    "    ba2 = b / a2\n",
    "    if d == 0:\n",
    "        return -ba2\n",
    "    s = math.sqrt(d)\n",
    "    return -ba2 + s / a2, -ba2 - s / a2"
   ]
  },
  {
   "cell_type": "markdown",
   "metadata": {
    "slideshow": {
     "slide_type": "fragment"
    }
   },
   "source": [
    "Remember what we mentioned about our implementation being unable to determine the error of the previous `roots()`? Would *PyExZ3* find it?"
   ]
  },
  {
   "cell_type": "markdown",
   "metadata": {
    "scrolled": false,
    "slideshow": {
     "slide_type": "subslide"
    }
   },
   "source": [
    "```python\n",
    "generatedInputs, returnVals, path = PyExZ3.pyloader.exploreFunction(my_roots)\n",
    "```"
   ]
  },
  {
   "cell_type": "markdown",
   "metadata": {
    "slideshow": {
     "slide_type": "fragment"
    }
   },
   "source": [
    "Unfortunately, it does not seem to detect it. The culprit is the `math.sqrt()` call. *PyExZ3* does not know how it behaves. Hence, it makes the returned variable unconstrained. It can be seen when we try to trace the function directly."
   ]
  },
  {
   "cell_type": "markdown",
   "metadata": {
    "slideshow": {
     "slide_type": "fragment"
    }
   },
   "source": [
    "```python\n",
    "with ExpectError():\n",
    "    generatedInputs, returnVals, path = PyExZ3.pyloader.exploreFunction(math.sqrt)\n",
    "```"
   ]
  },
  {
   "cell_type": "markdown",
   "metadata": {
    "slideshow": {
     "slide_type": "fragment"
    }
   },
   "source": [
    "The problem here is that *PyExZ3* does not know about *math.sqrt*. Can we help it?"
   ]
  },
  {
   "cell_type": "code",
   "execution_count": 201,
   "metadata": {
    "slideshow": {
     "slide_type": "subslide"
    }
   },
   "outputs": [],
   "source": [
    "def sqrt(d):\n",
    "    if d < 0:\n",
    "        assert False\n",
    "    xa = 0.5 * d\n",
    "    xb = 0\n",
    "    while (xa - xb) > 0.1:\n",
    "        xb = 0.5 * (xa + d / xa)\n",
    "        xa = xb\n",
    "    s = xb\n",
    "    return s"
   ]
  },
  {
   "cell_type": "code",
   "execution_count": 202,
   "metadata": {
    "slideshow": {
     "slide_type": "fragment"
    }
   },
   "outputs": [],
   "source": [
    "def discriminant(a, b, c):\n",
    "    return b * b - 4 * a * c"
   ]
  },
  {
   "cell_type": "code",
   "execution_count": 203,
   "metadata": {
    "slideshow": {
     "slide_type": "subslide"
    }
   },
   "outputs": [],
   "source": [
    "def my_roots(a, b, c):\n",
    "    if a == 0:\n",
    "        if b == 0:\n",
    "            return math.inf\n",
    "        return -c / b\n",
    "    d = discriminant(a, b, c)\n",
    "    a2 = 2 * a\n",
    "    ba2 = b / a2\n",
    "    if d == 0:\n",
    "        return -ba2\n",
    "    s = sqrt(d)\n",
    "    return -ba2 + s / a2, -ba2 - s / a2"
   ]
  },
  {
   "cell_type": "markdown",
   "metadata": {
    "slideshow": {
     "slide_type": "fragment"
    }
   },
   "source": [
    "With this, *PyExZ3* is ready to find all the problematic areas."
   ]
  },
  {
   "cell_type": "markdown",
   "metadata": {
    "slideshow": {
     "slide_type": "subslide"
    }
   },
   "source": [
    "```python\n",
    "with ExpectError():\n",
    "    generatedInputs, returnVals, path = PyExZ3.pyloader.exploreFunction(my_roots, max_iters=1000)\n",
    "```"
   ]
  },
  {
   "cell_type": "markdown",
   "metadata": {
    "slideshow": {
     "slide_type": "subslide"
    }
   },
   "source": [
    "#### roots - take 4"
   ]
  },
  {
   "cell_type": "code",
   "execution_count": 204,
   "metadata": {
    "slideshow": {
     "slide_type": "fragment"
    }
   },
   "outputs": [],
   "source": [
    "def sqrt(d):\n",
    "    if d < 0:\n",
    "        assert False\n",
    "    xa = 0.5 * d\n",
    "    xb = 0\n",
    "    while (xa - xb) > 0.1:\n",
    "        xb = 0.5 * (xa + d / xa)\n",
    "        xa = xb\n",
    "    s = xb\n",
    "    return s"
   ]
  },
  {
   "cell_type": "code",
   "execution_count": 205,
   "metadata": {
    "slideshow": {
     "slide_type": "fragment"
    }
   },
   "outputs": [],
   "source": [
    "def discriminant(a, b, c):\n",
    "    return b * b - 4 * a * c"
   ]
  },
  {
   "cell_type": "code",
   "execution_count": 206,
   "metadata": {
    "slideshow": {
     "slide_type": "subslide"
    }
   },
   "outputs": [],
   "source": [
    "def roots4(a, b, c):\n",
    "    if a == 0:\n",
    "        if b == 0:\n",
    "            return math.inf\n",
    "        return -c / b\n",
    "    d = discriminant(a, b, c)\n",
    "    a2 = 2 * a\n",
    "    ba2 = b / a2\n",
    "    if d == 0:\n",
    "        return -ba2\n",
    "    elif d < 0:\n",
    "        s = sqrt(-d)\n",
    "        return (-ba2, s / a2), (-ba2, -s / a2)\n",
    "    else:\n",
    "        s = sqrt(d)\n",
    "        return -ba2 + s / a2, -ba2 - s / a2"
   ]
  },
  {
   "cell_type": "markdown",
   "metadata": {
    "slideshow": {
     "slide_type": "subslide"
    }
   },
   "source": [
    "And that indeed seems to be accepted by *PyExZ3*."
   ]
  },
  {
   "cell_type": "markdown",
   "metadata": {
    "slideshow": {
     "slide_type": "fragment"
    }
   },
   "source": [
    "```python\n",
    "generatedInputs, returnVals, path = PyExZ3.pyloader.exploreFunction(roots4, max_iters=1000)\n",
    "```"
   ]
  },
  {
   "cell_type": "markdown",
   "metadata": {
    "slideshow": {
     "slide_type": "slide"
    }
   },
   "source": [
    "## Using Concolic Execution in Fuzzing"
   ]
  },
  {
   "cell_type": "markdown",
   "metadata": {
    "slideshow": {
     "slide_type": "fragment"
    }
   },
   "source": [
    "Similar to dynamic taint analysis, one can consider *concolic execution* as a better oracle for fuzzing. For dynamic taints, we simply check whether taints reached any of the marked sinks on fuzzing, which helps us to not rely only on program crashes to detect that a program has vulnerabilities. Similarly, *concolic execution* needs to be driven by grammar based deep fuzzing, and the end result can be checked for specific properties such as information leak.\\todo{Expand}."
   ]
  },
  {
   "cell_type": "markdown",
   "metadata": {
    "button": false,
    "new_sheet": true,
    "run_control": {
     "read_only": false
    },
    "slideshow": {
     "slide_type": "slide"
    }
   },
   "source": [
    "## Lessons Learned\n",
    "\n",
    "* One can use symbolic execution to augment the inputs that explore all characteristics of a program.\n",
    "* Symbolic execution can be broad but shallow.\n",
    "* Concolic execution provides an acceptable middle ground, and uses a seed execution for guiding the symbolic exploration."
   ]
  },
  {
   "cell_type": "markdown",
   "metadata": {
    "button": false,
    "new_sheet": false,
    "run_control": {
     "read_only": false
    },
    "slideshow": {
     "slide_type": "slide"
    }
   },
   "source": [
    "## Next Steps\n",
    "\n",
    "* [Search based fuzzing](SearchBasedFuzzer.ipynb) can often be an acceptable middle ground when random fuzzing does not provide sufficient results, but symbolic fuzzing is too heavyweight."
   ]
  },
  {
   "cell_type": "markdown",
   "metadata": {
    "slideshow": {
     "slide_type": "slide"
    }
   },
   "source": [
    "## Background\n",
    "\n",
    "Symbolic execution of programs was originally described by King~\\cite{king1976symbolic} in 1976. It is used extensively in vulnerability analysis of software, especially binary programs. Some of the well known symbolic execution tools include KLEE~\\cite{KLEE}, Angr~\\cite{wang2017angr, stephens2016driller}, and SAGE~\\cite{godefroid2012sage}. The most well known symbolic execution environment for Python is CHEF~\\cite{bucur2014prototyping} which does symbolic execution by modifying the interpreter. PeerCheck~\\cite{PeerCheck} and PEF~\\cite{PEF} are two concolic execution engines."
   ]
  },
  {
   "cell_type": "code",
   "execution_count": null,
   "metadata": {
    "slideshow": {
     "slide_type": "fragment"
    }
   },
   "outputs": [],
   "source": []
  },
  {
   "cell_type": "markdown",
   "metadata": {
    "button": false,
    "new_sheet": true,
    "run_control": {
     "read_only": false
    },
    "slideshow": {
     "slide_type": "slide"
    }
   },
   "source": [
    "## Exercises"
   ]
  },
  {
   "cell_type": "markdown",
   "metadata": {
    "button": false,
    "new_sheet": false,
    "run_control": {
     "read_only": false
    },
    "slideshow": {
     "slide_type": "subslide"
    },
    "solution": "hidden",
    "solution2": "hidden",
    "solution2_first": true,
    "solution_first": true
   },
   "source": [
    "### Exercise 1: _Extending Symbolic Fuzzer to use function summaries_\n",
    "\n",
    "We showed in the first section how function summaries may be produced. Can you extend the `AdvancedSymbolicFuzzer` to use function summaries when needed?"
   ]
  },
  {
   "cell_type": "markdown",
   "metadata": {
    "button": false,
    "new_sheet": false,
    "run_control": {
     "read_only": false
    },
    "slideshow": {
     "slide_type": "skip"
    },
    "solution": "hidden",
    "solution2": "hidden"
   },
   "source": [
    "**Solution.** _None yet available._"
   ]
  },
  {
   "cell_type": "markdown",
   "metadata": {
    "button": false,
    "new_sheet": false,
    "run_control": {
     "read_only": false
    },
    "slideshow": {
     "slide_type": "subslide"
    },
    "solution2": "hidden",
    "solution2_first": true
   },
   "source": [
    "### Exercise 2: _Inferring variable types for Concolic Fuzzer_\n",
    "\n",
    "Our `ConcolicFuzzer` assumes that all its variables are of the same category. However, most real world programs take inputs with different data types, and different data types are used during execution. Given that Python is a dynamic language, how do we know what to declare our variables as? One way (the simplest) is to rely on the types returned by the concrete execution. Can you modify our `ConcolicFuzzer` so that it uses the right variable types?"
   ]
  },
  {
   "cell_type": "markdown",
   "metadata": {
    "slideshow": {
     "slide_type": "skip"
    },
    "solution2": "hidden"
   },
   "source": [
    "**Solution.** _None yet available._"
   ]
  },
  {
   "cell_type": "markdown",
   "metadata": {
    "button": false,
    "new_sheet": false,
    "run_control": {
     "read_only": false
    },
    "slideshow": {
     "slide_type": "subslide"
    },
    "solution2": "hidden",
    "solution2_first": true
   },
   "source": [
    "### Exercise 3: _Extending Concolic Fuzzer to trace through function calls_\n",
    "\n",
    "Unlike SymbolicFuzzers, a ConcolicFuzzer does not need function summaries. In fact, it needs to step through individual steps of functions it can get access to (For external functions such as `math.sqrt`, one still has to rely on function summaries). Can you extend the `ConcolicFuzzer` to trace across function boundaries?"
   ]
  },
  {
   "cell_type": "markdown",
   "metadata": {
    "slideshow": {
     "slide_type": "skip"
    },
    "solution2": "hidden"
   },
   "source": [
    "**Solution.** _None yet available._"
   ]
  }
 ],
 "metadata": {
  "ipub": {
   "bibliography": "fuzzingbook.bib",
   "toc": true
  },
  "kernelspec": {
   "display_name": "Python 3",
   "language": "python",
   "name": "python3"
  },
  "language_info": {
   "codemirror_mode": {
    "name": "ipython",
    "version": 3
   },
   "file_extension": ".py",
   "mimetype": "text/x-python",
   "name": "python",
   "nbconvert_exporter": "python",
   "pygments_lexer": "ipython3",
   "version": "3.6.6"
  },
  "toc": {
   "base_numbering": 1,
   "nav_menu": {},
   "number_sections": true,
   "sideBar": true,
   "skip_h1_title": true,
   "title_cell": "",
   "title_sidebar": "Contents",
   "toc_cell": false,
   "toc_position": {},
   "toc_section_display": true,
   "toc_window_display": true
  },
  "toc-autonumbering": false,
  "varInspector": {
   "cols": {
    "lenName": 16,
    "lenType": 16,
    "lenVar": 40
   },
   "kernels_config": {
    "python": {
     "delete_cmd_postfix": "",
     "delete_cmd_prefix": "del ",
     "library": "var_list.py",
     "varRefreshCmd": "print(var_dic_list())"
    },
    "r": {
     "delete_cmd_postfix": ") ",
     "delete_cmd_prefix": "rm(",
     "library": "var_list.r",
     "varRefreshCmd": "cat(var_dic_list()) "
    }
   },
   "types_to_exclude": [
    "module",
    "function",
    "builtin_function_or_method",
    "instance",
    "_Feature"
   ],
   "window_display": false
  }
 },
 "nbformat": 4,
 "nbformat_minor": 2
}
