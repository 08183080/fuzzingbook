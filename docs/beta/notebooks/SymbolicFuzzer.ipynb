{
 "cells": [
  {
   "cell_type": "markdown",
   "metadata": {
    "button": false,
    "new_sheet": false,
    "run_control": {
     "read_only": false
    },
    "slideshow": {
     "slide_type": "slide"
    }
   },
   "source": [
    "# Symbolic Fuzzing\n",
    "\n",
    "One of the problems with traditional methods of fuzzing is that they fail to exercise all the possible behaviors that a system can have, especially when the input space is large. Quite often the execution of a specific branch of execution may happen only with very specific inputs, which could represent an extremely small fraction of the input space. The traditional fuzzing methods relies on chance to produce inputs they need. However, relying on randomness to generate values that we want is a bad idea when the space to be explored is huge. For example, a function that accepts a string, even if one only considers the first $10$ characters, already has $2^{80}$ possible inputs. If one is looking for a specific string, random generation of values will take a few thousand years even in one of the super computers."
   ]
  },
  {
   "cell_type": "markdown",
   "metadata": {
    "button": false,
    "new_sheet": false,
    "run_control": {
     "read_only": false
    },
    "slideshow": {
     "slide_type": "subslide"
    }
   },
   "source": [
    "In the [chapter on concolic testing](ConcolicFuzzer.ipynb), we have seen how _concolic tracing_ can offer a way out. We saw how concolic tracing can be implemented using direct information flows using the Python interpreter. However, there are two problems with this approach.\n",
    "* The first is that concolic tracing relies on the existence of sample inputs. What if one has no sample inputs?\n",
    "* Second, direct information flows could be unreliable if the program has indirect information flows such as those based on control flow.\n",
    "\n",
    "In both cases, _static code analysis_ can bridge the gap. However, that raises the question: Can we determine the complete behavior of the program by examining it statically, and check if it behaves unexpectedly under some (unknown) input or result in an unexpected output?"
   ]
  },
  {
   "cell_type": "markdown",
   "metadata": {
    "button": false,
    "new_sheet": false,
    "run_control": {
     "read_only": false
    },
    "slideshow": {
     "slide_type": "subslide"
    }
   },
   "source": [
    "_Symbolic execution_ is one of the ways that we can reason about the behavior of a program without executing it. A program is a computation that can be treated as a system of equations that obtains the output values from the given inputs. Executing the program symbolically -- that is, solving these mathematically -- along with any specified objective such as covering a particular branch or obtaining a particular output will get us inputs that can accomplish this task."
   ]
  },
  {
   "cell_type": "markdown",
   "metadata": {
    "button": false,
    "new_sheet": false,
    "run_control": {
     "read_only": false
    },
    "slideshow": {
     "slide_type": "fragment"
    }
   },
   "source": [
    "In this chapter, we investigate how symbolic execution can be implemented, and how it can be used to obtain interesting values for fuzzing."
   ]
  },
  {
   "cell_type": "code",
   "execution_count": 1,
   "metadata": {
    "execution": {
     "iopub.execute_input": "2022-01-24T10:02:24.205568Z",
     "iopub.status.busy": "2022-01-24T10:02:24.204377Z",
     "iopub.status.idle": "2022-01-24T10:02:24.377395Z",
     "shell.execute_reply": "2022-01-24T10:02:24.377839Z"
    },
    "slideshow": {
     "slide_type": "skip"
    }
   },
   "outputs": [
    {
     "data": {
      "text/html": [
       "\n",
       "        <iframe\n",
       "            width=\"640\"\n",
       "            height=\"360\"\n",
       "            src=\"https://www.youtube-nocookie.com/embed/RLQ_ORBezkk\"\n",
       "            frameborder=\"0\"\n",
       "            allowfullscreen\n",
       "            \n",
       "        ></iframe>\n",
       "        "
      ],
      "text/plain": [
       "<IPython.lib.display.IFrame at 0x102f3b4c0>"
      ]
     },
     "execution_count": 1,
     "metadata": {},
     "output_type": "execute_result"
    }
   ],
   "source": [
    "from bookutils import YouTubeVideo\n",
    "YouTubeVideo('RLQ_ORBezkk')"
   ]
  },
  {
   "cell_type": "markdown",
   "metadata": {
    "button": false,
    "new_sheet": false,
    "run_control": {
     "read_only": false
    },
    "slideshow": {
     "slide_type": "subslide"
    }
   },
   "source": [
    "**Prerequisites**\n",
    "\n",
    "* You should understand how to use [type annotations](https://docs.python.org/3/library/typing.html) in Python.\n",
    "* A working knowledge of [SMT solvers](https://en.wikipedia.org/wiki/Satisfiability_modulo_theories), especially [Z3](https://github.com/Z3Prover/z3) is useful.\n",
    "* You should have read the [chapter on coverage](Coverage.ipynb).\n",
    "* A familiarity with [chapter on concolic fuzzing](ConcolicFuzzer.ipynb) would be helpful."
   ]
  },
  {
   "cell_type": "markdown",
   "metadata": {
    "jp-MarkdownHeadingCollapsed": true,
    "slideshow": {
     "slide_type": "skip"
    },
    "tags": []
   },
   "source": [
    "## Synopsis\n",
    "<!-- Automatically generated. Do not edit. -->\n",
    "\n",
    "To [use the code provided in this chapter](Importing.ipynb), write\n",
    "\n",
    "```python\n",
    ">>> from fuzzingbook.SymbolicFuzzer import <identifier>\n",
    "```\n",
    "\n",
    "and then make use of the following features.\n",
    "\n",
    "\n",
    "This chapter provides an implementation of a symbolic fuzzing engine `SymbolicFuzzer`. The fuzzer uses symbolic execution to exhaustively explore paths in the program to a limited depth, and generate inputs that will reach these paths.\n",
    "\n",
    "As an example, consider the function `gcd()`, computing the greatest common divisor of `a` and `b`:\n",
    "\n",
    "```python\n",
    "def gcd(a: int, b: int) -> int:\n",
    "    if a < b:\n",
    "        c: int = a  # type: ignore\n",
    "        a = b\n",
    "        b = c\n",
    "\n",
    "    while b != 0:\n",
    "        c: int = a  # type: ignore\n",
    "        a = b\n",
    "        b = c % b\n",
    "\n",
    "    return a\n",
    "```\n",
    "To explore `gcd()`, the fuzzer can be used as follows, producing values for arguments that cover different paths in `gcd()` (including multiple times of loop iterations):\n",
    "\n",
    "```python\n",
    ">>> gcd_fuzzer = SymbolicFuzzer(gcd, max_tries=10, max_iter=10, max_depth=10)\n",
    ">>> for i in range(10):\n",
    ">>>     args = gcd_fuzzer.fuzz()\n",
    ">>>     print(args)\n",
    "{'a': 5, 'b': 3}\n",
    "{'a': 1, 'b': 4}\n",
    "{'a': 4, 'b': 5}\n",
    "{'a': 6, 'b': -7}\n",
    "{'a': 3, 'b': 4}\n",
    "{'a': 1, 'b': 1}\n",
    "{'a': 13, 'b': 7}\n",
    "{'a': 2, 'b': 4}\n",
    "{'a': 6, 'b': 6}\n",
    "{'a': 9, 'b': 8}\n",
    "\n",
    "```\n",
    "Note that the variable values returned by `fuzz()` are Z3 _symbolic_ values; to convert them to Python numbers, use their method `as_long()`:\n",
    "\n",
    "```python\n",
    ">>> for i in range(10):\n",
    ">>>     args = gcd_fuzzer.fuzz()\n",
    ">>>     a = args['a'].as_long()\n",
    ">>>     b = args['b'].as_long()\n",
    ">>>     d = gcd(a, b)\n",
    ">>>     print(f\"gcd({a}, {b}) = {d}\")\n",
    "gcd(0, 5) = 5\n",
    "gcd(-1, 0) = -1\n",
    "gcd(14, 13) = 1\n",
    "gcd(0, 14) = 14\n",
    "gcd(14, 15) = 1\n",
    "gcd(15, 15) = 15\n",
    "gcd(2, 3) = 1\n",
    "gcd(16, 0) = 16\n",
    "gcd(16, -1) = -1\n",
    "gcd(-1, 1) = -1\n",
    "\n",
    "```\n",
    "The symbolic fuzzer is subject to a number of constraints. First, it requires that the function to be fuzzed has correct type annotations, including all local variables. Second, it solves loops by unrolling them, but only for a fixed amount.\n",
    "\n",
    "For programs without loops and variable reassignments, the `SimpleSymbolicFuzzer` is a faster, but more limited alternative.\n",
    "\n",
    "![](PICS/SymbolicFuzzer-synopsis-1.svg)\n",
    "\n"
   ]
  },
  {
   "cell_type": "markdown",
   "metadata": {
    "slideshow": {
     "slide_type": "slide"
    }
   },
   "source": [
    "## Obtaining Path Conditions for Coverage"
   ]
  },
  {
   "cell_type": "markdown",
   "metadata": {
    "slideshow": {
     "slide_type": "subslide"
    }
   },
   "source": [
    "In the chapter on [parsing and recombining inputs](SearchBasedFuzzer.ipynb), we saw how difficult it was to generate inputs for `process_vehicle()` -- a simple function that accepts a string. The solution given there was to rely on preexisting sample inputs. However, this solution is inadequate as it assumes the existence of sample inputs. What if there are no sample inputs at hand?\n",
    "\n",
    "For a simpler example, let us consider the following triangle function (which we already have seen in the [chapter on concolic fuzzing](ConcolicFuzzer.ipynb)). Can we generate inputs to cover all the paths?\n",
    "\n",
    "*Note.* We use type annotations to denote the argument types of programs. The [chapter on discovering dynamic invariants](DynamicInvariants.ipynb) will discuss how these types can be inferred automatically."
   ]
  },
  {
   "cell_type": "code",
   "execution_count": 2,
   "metadata": {
    "execution": {
     "iopub.execute_input": "2022-01-24T10:02:24.385871Z",
     "iopub.status.busy": "2022-01-24T10:02:24.384710Z",
     "iopub.status.idle": "2022-01-24T10:02:24.387024Z",
     "shell.execute_reply": "2022-01-24T10:02:24.387593Z"
    },
    "slideshow": {
     "slide_type": "subslide"
    }
   },
   "outputs": [],
   "source": [
    "def check_triangle(a: int, b: int, c: int) -> str:\n",
    "    if a == b:\n",
    "        if a == c:\n",
    "            if b == c:\n",
    "                return \"Equilateral\"\n",
    "            else:\n",
    "                return \"Isosceles\"\n",
    "        else:\n",
    "            return \"Isosceles\"\n",
    "    else:\n",
    "        if b != c:\n",
    "            if a == c:\n",
    "                return \"Isosceles\"\n",
    "            else:\n",
    "                return \"Scalene\"\n",
    "        else:\n",
    "            return \"Isosceles\""
   ]
  },
  {
   "cell_type": "markdown",
   "metadata": {
    "slideshow": {
     "slide_type": "subslide"
    }
   },
   "source": [
    "### The Control Flow Graph"
   ]
  },
  {
   "cell_type": "markdown",
   "metadata": {
    "slideshow": {
     "slide_type": "fragment"
    }
   },
   "source": [
    "The control flow graph of this function can be represented as follows:"
   ]
  },
  {
   "cell_type": "code",
   "execution_count": 3,
   "metadata": {
    "execution": {
     "iopub.execute_input": "2022-01-24T10:02:24.392477Z",
     "iopub.status.busy": "2022-01-24T10:02:24.391580Z",
     "iopub.status.idle": "2022-01-24T10:02:24.393858Z",
     "shell.execute_reply": "2022-01-24T10:02:24.394657Z"
    },
    "slideshow": {
     "slide_type": "skip"
    }
   },
   "outputs": [],
   "source": [
    "import bookutils"
   ]
  },
  {
   "cell_type": "code",
   "execution_count": 4,
   "metadata": {
    "execution": {
     "iopub.execute_input": "2022-01-24T10:02:24.399458Z",
     "iopub.status.busy": "2022-01-24T10:02:24.398643Z",
     "iopub.status.idle": "2022-01-24T10:02:24.400872Z",
     "shell.execute_reply": "2022-01-24T10:02:24.401566Z"
    },
    "slideshow": {
     "slide_type": "skip"
    }
   },
   "outputs": [],
   "source": [
    "import inspect"
   ]
  },
  {
   "cell_type": "code",
   "execution_count": 5,
   "metadata": {
    "execution": {
     "iopub.execute_input": "2022-01-24T10:02:24.406655Z",
     "iopub.status.busy": "2022-01-24T10:02:24.405938Z",
     "iopub.status.idle": "2022-01-24T10:02:24.799574Z",
     "shell.execute_reply": "2022-01-24T10:02:24.800382Z"
    },
    "slideshow": {
     "slide_type": "skip"
    }
   },
   "outputs": [],
   "source": [
    "from ControlFlow import PyCFG, to_graph, gen_cfg"
   ]
  },
  {
   "cell_type": "code",
   "execution_count": 6,
   "metadata": {
    "execution": {
     "iopub.execute_input": "2022-01-24T10:02:24.805387Z",
     "iopub.status.busy": "2022-01-24T10:02:24.804747Z",
     "iopub.status.idle": "2022-01-24T10:02:24.806528Z",
     "shell.execute_reply": "2022-01-24T10:02:24.807407Z"
    },
    "slideshow": {
     "slide_type": "fragment"
    }
   },
   "outputs": [],
   "source": [
    "def show_cfg(fn, **kwargs):\n",
    "    return to_graph(gen_cfg(inspect.getsource(fn)), **kwargs)"
   ]
  },
  {
   "cell_type": "code",
   "execution_count": 7,
   "metadata": {
    "execution": {
     "iopub.execute_input": "2022-01-24T10:02:24.818127Z",
     "iopub.status.busy": "2022-01-24T10:02:24.811202Z",
     "iopub.status.idle": "2022-01-24T10:02:25.555666Z",
     "shell.execute_reply": "2022-01-24T10:02:25.556338Z"
    },
    "slideshow": {
     "slide_type": "fragment"
    }
   },
   "outputs": [
    {
     "data": {
      "image/svg+xml": [
       "<?xml version=\"1.0\" encoding=\"UTF-8\" standalone=\"no\"?>\n",
       "<!DOCTYPE svg PUBLIC \"-//W3C//DTD SVG 1.1//EN\"\n",
       " \"http://www.w3.org/Graphics/SVG/1.1/DTD/svg11.dtd\">\n",
       "<!-- Generated by graphviz version 2.49.3 (20211023.0002)\n",
       " -->\n",
       "<!-- Pages: 1 -->\n",
       "<svg width=\"693pt\" height=\"488pt\"\n",
       " viewBox=\"0.00 0.00 693.00 488.00\" xmlns=\"http://www.w3.org/2000/svg\" xmlns:xlink=\"http://www.w3.org/1999/xlink\">\n",
       "<g id=\"graph0\" class=\"graph\" transform=\"scale(1 1) rotate(0) translate(4 484)\">\n",
       "<polygon fill=\"white\" stroke=\"transparent\" points=\"-4,4 -4,-484 689,-484 689,4 -4,4\"/>\n",
       "<!-- 1 -->\n",
       "<g id=\"node1\" class=\"node\">\n",
       "<title>1</title>\n",
       "<ellipse fill=\"none\" stroke=\"black\" cx=\"266.5\" cy=\"-458\" rx=\"124.27\" ry=\"18\"/>\n",
       "<ellipse fill=\"none\" stroke=\"black\" cx=\"266.5\" cy=\"-458\" rx=\"128.28\" ry=\"22\"/>\n",
       "<text text-anchor=\"middle\" x=\"266.5\" y=\"-454.3\" font-family=\"Times,serif\" font-size=\"14.00\">1: enter: check_triangle(a, b, c)</text>\n",
       "</g>\n",
       "<!-- 3 -->\n",
       "<g id=\"node9\" class=\"node\">\n",
       "<title>3</title>\n",
       "<polygon fill=\"none\" stroke=\"black\" points=\"266.5,-399 190.42,-381 266.5,-363 342.58,-381 266.5,-399\"/>\n",
       "<text text-anchor=\"middle\" x=\"266.5\" y=\"-377.3\" font-family=\"Times,serif\" font-size=\"14.00\">2: if: a == b</text>\n",
       "</g>\n",
       "<!-- 1&#45;&gt;3 -->\n",
       "<g id=\"edge7\" class=\"edge\">\n",
       "<title>1&#45;&gt;3</title>\n",
       "<path fill=\"none\" stroke=\"black\" d=\"M266.5,-435.71C266.5,-427.46 266.5,-417.91 266.5,-409.17\"/>\n",
       "<polygon fill=\"black\" stroke=\"black\" points=\"270,-409.06 266.5,-399.06 263,-409.06 270,-409.06\"/>\n",
       "</g>\n",
       "<!-- 2 -->\n",
       "<g id=\"node2\" class=\"node\">\n",
       "<title>2</title>\n",
       "<ellipse fill=\"none\" stroke=\"black\" cx=\"362.5\" cy=\"-22\" rx=\"119.68\" ry=\"18\"/>\n",
       "<ellipse fill=\"none\" stroke=\"black\" cx=\"362.5\" cy=\"-22\" rx=\"123.68\" ry=\"22\"/>\n",
       "<text text-anchor=\"middle\" x=\"362.5\" y=\"-18.3\" font-family=\"Times,serif\" font-size=\"14.00\">1: exit: check_triangle(a, b, c)</text>\n",
       "</g>\n",
       "<!-- 6 -->\n",
       "<g id=\"node3\" class=\"node\">\n",
       "<title>6</title>\n",
       "<polygon fill=\"none\" stroke=\"black\" points=\"215.5,-117 81.5,-117 81.5,-81 215.5,-81 215.5,-117\"/>\n",
       "<text text-anchor=\"middle\" x=\"148.5\" y=\"-95.3\" font-family=\"Times,serif\" font-size=\"14.00\">5: return &#39;Equilateral&#39;</text>\n",
       "</g>\n",
       "<!-- 6&#45;&gt;2 -->\n",
       "<g id=\"edge1\" class=\"edge\">\n",
       "<title>6&#45;&gt;2</title>\n",
       "<path fill=\"none\" stroke=\"black\" d=\"M197.06,-80.98C227.25,-70.4 266.4,-56.68 299.03,-45.24\"/>\n",
       "<polygon fill=\"black\" stroke=\"black\" points=\"300.21,-48.54 308.49,-41.93 297.9,-41.93 300.21,-48.54\"/>\n",
       "</g>\n",
       "<!-- 7 -->\n",
       "<g id=\"node4\" class=\"node\">\n",
       "<title>7</title>\n",
       "<polygon fill=\"none\" stroke=\"black\" points=\"357,-117 234,-117 234,-81 357,-81 357,-117\"/>\n",
       "<text text-anchor=\"middle\" x=\"295.5\" y=\"-95.3\" font-family=\"Times,serif\" font-size=\"14.00\">7: return &#39;Isosceles&#39;</text>\n",
       "</g>\n",
       "<!-- 7&#45;&gt;2 -->\n",
       "<g id=\"edge2\" class=\"edge\">\n",
       "<title>7&#45;&gt;2</title>\n",
       "<path fill=\"none\" stroke=\"black\" d=\"M310.7,-80.98C318.44,-72.32 328.06,-61.55 336.9,-51.66\"/>\n",
       "<polygon fill=\"black\" stroke=\"black\" points=\"339.72,-53.76 343.77,-43.97 334.5,-49.09 339.72,-53.76\"/>\n",
       "</g>\n",
       "<!-- 8 -->\n",
       "<g id=\"node5\" class=\"node\">\n",
       "<title>8</title>\n",
       "<polygon fill=\"none\" stroke=\"black\" points=\"123,-171 0,-171 0,-135 123,-135 123,-171\"/>\n",
       "<text text-anchor=\"middle\" x=\"61.5\" y=\"-149.3\" font-family=\"Times,serif\" font-size=\"14.00\">9: return &#39;Isosceles&#39;</text>\n",
       "</g>\n",
       "<!-- 8&#45;&gt;2 -->\n",
       "<g id=\"edge3\" class=\"edge\">\n",
       "<title>8&#45;&gt;2</title>\n",
       "<path fill=\"none\" stroke=\"black\" d=\"M59.09,-134.7C57.89,-118.65 58.96,-95.15 72.5,-81 96.1,-56.34 173.42,-41.65 242.28,-33.23\"/>\n",
       "<polygon fill=\"black\" stroke=\"black\" points=\"242.86,-36.68 252.37,-32.03 242.03,-29.73 242.86,-36.68\"/>\n",
       "</g>\n",
       "<!-- 11 -->\n",
       "<g id=\"node6\" class=\"node\">\n",
       "<title>11</title>\n",
       "<polygon fill=\"none\" stroke=\"black\" points=\"543.5,-117 413.5,-117 413.5,-81 543.5,-81 543.5,-117\"/>\n",
       "<text text-anchor=\"middle\" x=\"478.5\" y=\"-95.3\" font-family=\"Times,serif\" font-size=\"14.00\">13: return &#39;Isosceles&#39;</text>\n",
       "</g>\n",
       "<!-- 11&#45;&gt;2 -->\n",
       "<g id=\"edge4\" class=\"edge\">\n",
       "<title>11&#45;&gt;2</title>\n",
       "<path fill=\"none\" stroke=\"black\" d=\"M452.18,-80.98C437.63,-71.57 419.24,-59.68 402.9,-49.12\"/>\n",
       "<polygon fill=\"black\" stroke=\"black\" points=\"404.38,-45.91 394.08,-43.42 400.58,-51.79 404.38,-45.91\"/>\n",
       "</g>\n",
       "<!-- 12 -->\n",
       "<g id=\"node7\" class=\"node\">\n",
       "<title>12</title>\n",
       "<polygon fill=\"none\" stroke=\"black\" points=\"685,-117 562,-117 562,-81 685,-81 685,-117\"/>\n",
       "<text text-anchor=\"middle\" x=\"623.5\" y=\"-95.3\" font-family=\"Times,serif\" font-size=\"14.00\">15: return &#39;Scalene&#39;</text>\n",
       "</g>\n",
       "<!-- 12&#45;&gt;2 -->\n",
       "<g id=\"edge5\" class=\"edge\">\n",
       "<title>12&#45;&gt;2</title>\n",
       "<path fill=\"none\" stroke=\"black\" d=\"M564.28,-80.98C525.84,-69.94 475.52,-55.48 434.74,-43.76\"/>\n",
       "<polygon fill=\"black\" stroke=\"black\" points=\"435.71,-40.4 425.13,-41 433.77,-47.12 435.71,-40.4\"/>\n",
       "</g>\n",
       "<!-- 13 -->\n",
       "<g id=\"node8\" class=\"node\">\n",
       "<title>13</title>\n",
       "<polygon fill=\"none\" stroke=\"black\" points=\"444.5,-171 314.5,-171 314.5,-135 444.5,-135 444.5,-171\"/>\n",
       "<text text-anchor=\"middle\" x=\"379.5\" y=\"-149.3\" font-family=\"Times,serif\" font-size=\"14.00\">17: return &#39;Isosceles&#39;</text>\n",
       "</g>\n",
       "<!-- 13&#45;&gt;2 -->\n",
       "<g id=\"edge6\" class=\"edge\">\n",
       "<title>13&#45;&gt;2</title>\n",
       "<path fill=\"none\" stroke=\"black\" d=\"M377.24,-134.87C374.54,-114.36 369.96,-79.61 366.62,-54.27\"/>\n",
       "<polygon fill=\"black\" stroke=\"black\" points=\"370.05,-53.51 365.27,-44.06 363.11,-54.43 370.05,-53.51\"/>\n",
       "</g>\n",
       "<!-- 4 -->\n",
       "<g id=\"node10\" class=\"node\">\n",
       "<title>4</title>\n",
       "<polygon fill=\"none\" stroke=\"black\" points=\"180.5,-312 105.26,-294 180.5,-276 255.74,-294 180.5,-312\"/>\n",
       "<text text-anchor=\"middle\" x=\"180.5\" y=\"-290.3\" font-family=\"Times,serif\" font-size=\"14.00\">3: if: a == c</text>\n",
       "</g>\n",
       "<!-- 3&#45;&gt;4 -->\n",
       "<g id=\"edge8\" class=\"edge\">\n",
       "<title>3&#45;&gt;4</title>\n",
       "<path fill=\"none\" stroke=\"blue\" d=\"M252.3,-365.96C238.52,-352.35 217.45,-331.52 201.69,-315.94\"/>\n",
       "<polygon fill=\"blue\" stroke=\"blue\" points=\"204.01,-313.32 194.44,-308.77 199.09,-318.29 204.01,-313.32\"/>\n",
       "<text text-anchor=\"middle\" x=\"234\" y=\"-333.8\" font-family=\"Times,serif\" font-size=\"14.00\">T</text>\n",
       "</g>\n",
       "<!-- 9 -->\n",
       "<g id=\"node12\" class=\"node\">\n",
       "<title>9</title>\n",
       "<polygon fill=\"none\" stroke=\"black\" points=\"377.5,-312 298.4,-294 377.5,-276 456.6,-294 377.5,-312\"/>\n",
       "<text text-anchor=\"middle\" x=\"377.5\" y=\"-290.3\" font-family=\"Times,serif\" font-size=\"14.00\">11: if: b != c</text>\n",
       "</g>\n",
       "<!-- 3&#45;&gt;9 -->\n",
       "<g id=\"edge13\" class=\"edge\">\n",
       "<title>3&#45;&gt;9</title>\n",
       "<path fill=\"none\" stroke=\"red\" d=\"M283.84,-366.72C302.17,-352.68 331.26,-330.41 352.16,-314.41\"/>\n",
       "<polygon fill=\"red\" stroke=\"red\" points=\"354.47,-317.05 360.28,-308.19 350.21,-311.49 354.47,-317.05\"/>\n",
       "<text text-anchor=\"middle\" x=\"332.5\" y=\"-333.8\" font-family=\"Times,serif\" font-size=\"14.00\">F</text>\n",
       "</g>\n",
       "<!-- 4&#45;&gt;8 -->\n",
       "<g id=\"edge12\" class=\"edge\">\n",
       "<title>4&#45;&gt;8</title>\n",
       "<path fill=\"none\" stroke=\"red\" d=\"M160.48,-280.78C141.74,-268.54 113.96,-248.23 95.5,-225 85.03,-211.83 76.77,-194.9 71.01,-180.88\"/>\n",
       "<polygon fill=\"red\" stroke=\"red\" points=\"74.16,-179.32 67.27,-171.28 67.64,-181.87 74.16,-179.32\"/>\n",
       "<text text-anchor=\"middle\" x=\"133.5\" y=\"-246.8\" font-family=\"Times,serif\" font-size=\"14.00\">F</text>\n",
       "</g>\n",
       "<!-- 5 -->\n",
       "<g id=\"node11\" class=\"node\">\n",
       "<title>5</title>\n",
       "<polygon fill=\"none\" stroke=\"black\" points=\"180.5,-225 104.42,-207 180.5,-189 256.58,-207 180.5,-225\"/>\n",
       "<text text-anchor=\"middle\" x=\"180.5\" y=\"-203.3\" font-family=\"Times,serif\" font-size=\"14.00\">4: if: b == c</text>\n",
       "</g>\n",
       "<!-- 4&#45;&gt;5 -->\n",
       "<g id=\"edge9\" class=\"edge\">\n",
       "<title>4&#45;&gt;5</title>\n",
       "<path fill=\"none\" stroke=\"blue\" d=\"M180.5,-275.8C180.5,-264.16 180.5,-248.55 180.5,-235.24\"/>\n",
       "<polygon fill=\"blue\" stroke=\"blue\" points=\"184,-235.18 180.5,-225.18 177,-235.18 184,-235.18\"/>\n",
       "<text text-anchor=\"middle\" x=\"185\" y=\"-246.8\" font-family=\"Times,serif\" font-size=\"14.00\">T</text>\n",
       "</g>\n",
       "<!-- 5&#45;&gt;6 -->\n",
       "<g id=\"edge10\" class=\"edge\">\n",
       "<title>5&#45;&gt;6</title>\n",
       "<path fill=\"none\" stroke=\"blue\" d=\"M175.64,-189.9C170.61,-173.23 162.66,-146.89 156.66,-127.02\"/>\n",
       "<polygon fill=\"blue\" stroke=\"blue\" points=\"159.97,-125.87 153.73,-117.31 153.26,-127.89 159.97,-125.87\"/>\n",
       "<text text-anchor=\"middle\" x=\"174\" y=\"-149.3\" font-family=\"Times,serif\" font-size=\"14.00\">T</text>\n",
       "</g>\n",
       "<!-- 5&#45;&gt;7 -->\n",
       "<g id=\"edge11\" class=\"edge\">\n",
       "<title>5&#45;&gt;7</title>\n",
       "<path fill=\"none\" stroke=\"red\" d=\"M195.53,-192.14C214.27,-174.87 246.59,-145.08 269.41,-124.05\"/>\n",
       "<polygon fill=\"red\" stroke=\"red\" points=\"272.06,-126.37 277.04,-117.02 267.31,-121.22 272.06,-126.37\"/>\n",
       "<text text-anchor=\"middle\" x=\"259.5\" y=\"-149.3\" font-family=\"Times,serif\" font-size=\"14.00\">F</text>\n",
       "</g>\n",
       "<!-- 9&#45;&gt;13 -->\n",
       "<g id=\"edge17\" class=\"edge\">\n",
       "<title>9&#45;&gt;13</title>\n",
       "<path fill=\"none\" stroke=\"red\" d=\"M377.75,-275.96C378.08,-252.4 378.7,-209.64 379.1,-181.53\"/>\n",
       "<polygon fill=\"red\" stroke=\"red\" points=\"382.61,-181.23 379.25,-171.18 375.61,-181.13 382.61,-181.23\"/>\n",
       "<text text-anchor=\"middle\" x=\"381.5\" y=\"-246.8\" font-family=\"Times,serif\" font-size=\"14.00\">F</text>\n",
       "</g>\n",
       "<!-- 10 -->\n",
       "<g id=\"node13\" class=\"node\">\n",
       "<title>10</title>\n",
       "<polygon fill=\"none\" stroke=\"black\" points=\"487.5,-225 405.89,-207 487.5,-189 569.11,-207 487.5,-225\"/>\n",
       "<text text-anchor=\"middle\" x=\"487.5\" y=\"-203.3\" font-family=\"Times,serif\" font-size=\"14.00\">12: if: a == c</text>\n",
       "</g>\n",
       "<!-- 9&#45;&gt;10 -->\n",
       "<g id=\"edge14\" class=\"edge\">\n",
       "<title>9&#45;&gt;10</title>\n",
       "<path fill=\"none\" stroke=\"blue\" d=\"M394.69,-279.72C412.74,-265.77 441.34,-243.67 462.02,-227.69\"/>\n",
       "<polygon fill=\"blue\" stroke=\"blue\" points=\"464.3,-230.35 470.07,-221.47 460.02,-224.81 464.3,-230.35\"/>\n",
       "<text text-anchor=\"middle\" x=\"443\" y=\"-246.8\" font-family=\"Times,serif\" font-size=\"14.00\">T</text>\n",
       "</g>\n",
       "<!-- 10&#45;&gt;11 -->\n",
       "<g id=\"edge15\" class=\"edge\">\n",
       "<title>10&#45;&gt;11</title>\n",
       "<path fill=\"none\" stroke=\"blue\" d=\"M486.05,-188.97C484.65,-172.38 482.48,-146.88 480.83,-127.43\"/>\n",
       "<polygon fill=\"blue\" stroke=\"blue\" points=\"484.31,-127.01 479.97,-117.34 477.33,-127.6 484.31,-127.01\"/>\n",
       "<text text-anchor=\"middle\" x=\"488\" y=\"-149.3\" font-family=\"Times,serif\" font-size=\"14.00\">T</text>\n",
       "</g>\n",
       "<!-- 10&#45;&gt;12 -->\n",
       "<g id=\"edge16\" class=\"edge\">\n",
       "<title>10&#45;&gt;12</title>\n",
       "<path fill=\"none\" stroke=\"red\" d=\"M504.72,-192.58C527.01,-175.21 566.19,-144.67 593.43,-123.44\"/>\n",
       "<polygon fill=\"red\" stroke=\"red\" points=\"595.73,-126.08 601.47,-117.17 591.43,-120.56 595.73,-126.08\"/>\n",
       "<text text-anchor=\"middle\" x=\"579.5\" y=\"-149.3\" font-family=\"Times,serif\" font-size=\"14.00\">F</text>\n",
       "</g>\n",
       "</g>\n",
       "</svg>\n"
      ],
      "text/plain": [
       "<graphviz.dot.Digraph at 0x102fa6040>"
      ]
     },
     "execution_count": 7,
     "metadata": {},
     "output_type": "execute_result"
    }
   ],
   "source": [
    "show_cfg(check_triangle)"
   ]
  },
  {
   "cell_type": "markdown",
   "metadata": {
    "slideshow": {
     "slide_type": "fragment"
    }
   },
   "source": [
    "The possible execution paths traced by the program can be represented as follows, with the numbers indicating the specific line numbers executed."
   ]
  },
  {
   "cell_type": "code",
   "execution_count": 8,
   "metadata": {
    "execution": {
     "iopub.execute_input": "2022-01-24T10:02:25.564715Z",
     "iopub.status.busy": "2022-01-24T10:02:25.563561Z",
     "iopub.status.idle": "2022-01-24T10:02:25.567526Z",
     "shell.execute_reply": "2022-01-24T10:02:25.566772Z"
    },
    "slideshow": {
     "slide_type": "subslide"
    }
   },
   "outputs": [],
   "source": [
    "paths = {\n",
    "    '<path 1>': ([1, 2, 3, 4, 5], 'Equilateral'),\n",
    "    '<path 2>': ([1, 2, 3, 4, 7], 'Isosceles'),\n",
    "    '<path 3>': ([1, 2, 3, 9], 'Isosceles'),\n",
    "    '<path 4>': ([1, 2, 11, 12, 13], 'Isosceles'),\n",
    "    '<path 5>': ([1, 2, 11, 12, 15], 'Scalene'),\n",
    "    '<path 6>': ([1, 2, 11, 17], 'Isosceles'),\n",
    "}"
   ]
  },
  {
   "cell_type": "markdown",
   "metadata": {
    "slideshow": {
     "slide_type": "fragment"
    }
   },
   "source": [
    "Consider the `<path 1>`. To trace this path, we need to execute the following statements in order."
   ]
  },
  {
   "cell_type": "markdown",
   "metadata": {
    "slideshow": {
     "slide_type": "subslide"
    }
   },
   "source": [
    "```python\n",
    "1: check_triangle(a, b, c)\n",
    "2: if (a == b) -> True\n",
    "3: if (a == c) -> True\n",
    "4: if (b == c) -> True\n",
    "5: return 'Equilateral'\n",
    "```"
   ]
  },
  {
   "cell_type": "markdown",
   "metadata": {
    "slideshow": {
     "slide_type": "fragment"
    }
   },
   "source": [
    "That is, any execution that traces this path has to start with values for `a`, `b`, and `c` that obeys the constraints in line numbers `2: (a == b)` evaluates to `True`, `3: (a == c)` evaluates to `True`, and `4: (b == c)` evaluates to `True`. Can we generate inputs such that these constraints are satisfied?"
   ]
  },
  {
   "cell_type": "markdown",
   "metadata": {
    "slideshow": {
     "slide_type": "fragment"
    }
   },
   "source": [
    "We have seen from the [chapter on concolic fuzzing](ConcolicFuzzer.ipynb) how one can use an SMT solver such as Z3 to obtain a solution."
   ]
  },
  {
   "cell_type": "code",
   "execution_count": 9,
   "metadata": {
    "execution": {
     "iopub.execute_input": "2022-01-24T10:02:25.574765Z",
     "iopub.status.busy": "2022-01-24T10:02:25.573680Z",
     "iopub.status.idle": "2022-01-24T10:02:25.641411Z",
     "shell.execute_reply": "2022-01-24T10:02:25.640885Z"
    },
    "slideshow": {
     "slide_type": "skip"
    }
   },
   "outputs": [],
   "source": [
    "import z3  # type: ignore"
   ]
  },
  {
   "cell_type": "code",
   "execution_count": 10,
   "metadata": {
    "execution": {
     "iopub.execute_input": "2022-01-24T10:02:25.646674Z",
     "iopub.status.busy": "2022-01-24T10:02:25.645741Z",
     "iopub.status.idle": "2022-01-24T10:02:25.649445Z",
     "shell.execute_reply": "2022-01-24T10:02:25.650098Z"
    },
    "slideshow": {
     "slide_type": "subslide"
    }
   },
   "outputs": [
    {
     "name": "stdout",
     "output_type": "stream",
     "text": [
      "(4, 8, 14, 0)\n"
     ]
    }
   ],
   "source": [
    "z3_ver = z3.get_version()\n",
    "print(z3_ver)"
   ]
  },
  {
   "cell_type": "code",
   "execution_count": 11,
   "metadata": {
    "execution": {
     "iopub.execute_input": "2022-01-24T10:02:25.656406Z",
     "iopub.status.busy": "2022-01-24T10:02:25.655372Z",
     "iopub.status.idle": "2022-01-24T10:02:25.657765Z",
     "shell.execute_reply": "2022-01-24T10:02:25.658292Z"
    },
    "slideshow": {
     "slide_type": "fragment"
    }
   },
   "outputs": [],
   "source": [
    "assert z3_ver >= (4, 8, 6, 0), \"Please check z3 version\""
   ]
  },
  {
   "cell_type": "markdown",
   "metadata": {
    "slideshow": {
     "slide_type": "fragment"
    }
   },
   "source": [
    "What kind of symbolic variables do we need? We can obtain that information from the type annotations of the function."
   ]
  },
  {
   "cell_type": "code",
   "execution_count": 12,
   "metadata": {
    "execution": {
     "iopub.execute_input": "2022-01-24T10:02:25.663350Z",
     "iopub.status.busy": "2022-01-24T10:02:25.662483Z",
     "iopub.status.idle": "2022-01-24T10:02:25.664704Z",
     "shell.execute_reply": "2022-01-24T10:02:25.665196Z"
    },
    "slideshow": {
     "slide_type": "fragment"
    }
   },
   "outputs": [],
   "source": [
    "def get_annotations(fn):\n",
    "    sig = inspect.signature(fn)\n",
    "    return ([(i.name, i.annotation)\n",
    "             for i in sig.parameters.values()], sig.return_annotation)"
   ]
  },
  {
   "cell_type": "code",
   "execution_count": 13,
   "metadata": {
    "execution": {
     "iopub.execute_input": "2022-01-24T10:02:25.671682Z",
     "iopub.status.busy": "2022-01-24T10:02:25.670601Z",
     "iopub.status.idle": "2022-01-24T10:02:25.674565Z",
     "shell.execute_reply": "2022-01-24T10:02:25.675371Z"
    },
    "slideshow": {
     "slide_type": "fragment"
    }
   },
   "outputs": [
    {
     "data": {
      "text/plain": [
       "([('a', int), ('b', int), ('c', int)], str)"
      ]
     },
     "execution_count": 13,
     "metadata": {},
     "output_type": "execute_result"
    }
   ],
   "source": [
    "params, ret = get_annotations(check_triangle)\n",
    "params, ret"
   ]
  },
  {
   "cell_type": "markdown",
   "metadata": {
    "slideshow": {
     "slide_type": "fragment"
    }
   },
   "source": [
    "We create symbolic variables to represent each of the parameters"
   ]
  },
  {
   "cell_type": "code",
   "execution_count": 14,
   "metadata": {
    "execution": {
     "iopub.execute_input": "2022-01-24T10:02:25.680972Z",
     "iopub.status.busy": "2022-01-24T10:02:25.680270Z",
     "iopub.status.idle": "2022-01-24T10:02:25.682534Z",
     "shell.execute_reply": "2022-01-24T10:02:25.683480Z"
    },
    "slideshow": {
     "slide_type": "subslide"
    }
   },
   "outputs": [],
   "source": [
    "SYM_VARS = {\n",
    "    int: (\n",
    "        z3.Int, z3.IntVal), float: (\n",
    "            z3.Real, z3.RealVal), str: (\n",
    "                z3.String, z3.StringVal)}"
   ]
  },
  {
   "cell_type": "code",
   "execution_count": 15,
   "metadata": {
    "execution": {
     "iopub.execute_input": "2022-01-24T10:02:25.689725Z",
     "iopub.status.busy": "2022-01-24T10:02:25.688844Z",
     "iopub.status.idle": "2022-01-24T10:02:25.690984Z",
     "shell.execute_reply": "2022-01-24T10:02:25.691528Z"
    },
    "slideshow": {
     "slide_type": "fragment"
    }
   },
   "outputs": [],
   "source": [
    "def get_symbolicparams(fn):\n",
    "    params, ret = get_annotations(fn)\n",
    "    return [SYM_VARS[typ][0](name)\n",
    "            for name, typ in params], SYM_VARS[ret][0]('__return__')"
   ]
  },
  {
   "cell_type": "code",
   "execution_count": 16,
   "metadata": {
    "execution": {
     "iopub.execute_input": "2022-01-24T10:02:25.696174Z",
     "iopub.status.busy": "2022-01-24T10:02:25.695419Z",
     "iopub.status.idle": "2022-01-24T10:02:25.726104Z",
     "shell.execute_reply": "2022-01-24T10:02:25.726654Z"
    },
    "slideshow": {
     "slide_type": "fragment"
    }
   },
   "outputs": [
    {
     "data": {
      "text/plain": [
       "(a, b, c, __return__)"
      ]
     },
     "execution_count": 16,
     "metadata": {},
     "output_type": "execute_result"
    }
   ],
   "source": [
    "(a, b, c), r = get_symbolicparams(check_triangle)\n",
    "a, b, c, r"
   ]
  },
  {
   "cell_type": "markdown",
   "metadata": {
    "slideshow": {
     "slide_type": "fragment"
    }
   },
   "source": [
    "We can now ask *z3* to solve the set of equations for us as follows."
   ]
  },
  {
   "cell_type": "code",
   "execution_count": 17,
   "metadata": {
    "execution": {
     "iopub.execute_input": "2022-01-24T10:02:25.732612Z",
     "iopub.status.busy": "2022-01-24T10:02:25.731693Z",
     "iopub.status.idle": "2022-01-24T10:02:25.795439Z",
     "shell.execute_reply": "2022-01-24T10:02:25.796084Z"
    },
    "slideshow": {
     "slide_type": "subslide"
    }
   },
   "outputs": [
    {
     "name": "stdout",
     "output_type": "stream",
     "text": [
      "[a = 0, b = 0, c = 0]\n"
     ]
    }
   ],
   "source": [
    "z3.solve(a == b, a == c, b == c)"
   ]
  },
  {
   "cell_type": "markdown",
   "metadata": {
    "slideshow": {
     "slide_type": "fragment"
    }
   },
   "source": [
    "Here we find the first problem in our program. Our program seems to not check whether the sides are greater than zero. (Real-world triangles all have sides with a positive length.) Assume for now that we do not have that restriction. Does our program correctly follow the path described?\n",
    "\n",
    "We can use the `ArcCoverage` from the [chapter on concolic fuzzing](ConcolicFuzzer.ipynb) as a tracer to visualize that information as below."
   ]
  },
  {
   "cell_type": "code",
   "execution_count": 18,
   "metadata": {
    "execution": {
     "iopub.execute_input": "2022-01-24T10:02:25.800816Z",
     "iopub.status.busy": "2022-01-24T10:02:25.799826Z",
     "iopub.status.idle": "2022-01-24T10:02:34.521586Z",
     "shell.execute_reply": "2022-01-24T10:02:34.522157Z"
    },
    "slideshow": {
     "slide_type": "skip"
    }
   },
   "outputs": [],
   "source": [
    "from ConcolicFuzzer import ArcCoverage  # minor dependency"
   ]
  },
  {
   "cell_type": "markdown",
   "metadata": {
    "slideshow": {
     "slide_type": "fragment"
    }
   },
   "source": [
    "First, we recover the trace."
   ]
  },
  {
   "cell_type": "code",
   "execution_count": 19,
   "metadata": {
    "execution": {
     "iopub.execute_input": "2022-01-24T10:02:34.549007Z",
     "iopub.status.busy": "2022-01-24T10:02:34.545858Z",
     "iopub.status.idle": "2022-01-24T10:02:34.553569Z",
     "shell.execute_reply": "2022-01-24T10:02:34.554152Z"
    },
    "slideshow": {
     "slide_type": "subslide"
    }
   },
   "outputs": [
    {
     "data": {
      "text/plain": [
       "([('check_triangle', 1),\n",
       "  ('check_triangle', 2),\n",
       "  ('check_triangle', 3),\n",
       "  ('check_triangle', 4),\n",
       "  ('check_triangle', 5),\n",
       "  ('__exit__', 101),\n",
       "  ('__exit__', 104)],\n",
       " [(1, 2), (2, 3), (3, 4), (4, 5), (5, 101), (101, 104)])"
      ]
     },
     "execution_count": 19,
     "metadata": {},
     "output_type": "execute_result"
    }
   ],
   "source": [
    "with ArcCoverage() as cov:\n",
    "    assert check_triangle(0, 0, 0) == 'Equilateral'\n",
    "cov._trace, cov.arcs()"
   ]
  },
  {
   "cell_type": "markdown",
   "metadata": {
    "slideshow": {
     "slide_type": "fragment"
    }
   },
   "source": [
    "We can now determine the path taken."
   ]
  },
  {
   "cell_type": "markdown",
   "metadata": {
    "slideshow": {
     "slide_type": "subslide"
    }
   },
   "source": [
    "### The CFG with Path Taken"
   ]
  },
  {
   "cell_type": "code",
   "execution_count": 20,
   "metadata": {
    "execution": {
     "iopub.execute_input": "2022-01-24T10:02:34.562444Z",
     "iopub.status.busy": "2022-01-24T10:02:34.561588Z",
     "iopub.status.idle": "2022-01-24T10:02:35.098348Z",
     "shell.execute_reply": "2022-01-24T10:02:35.098774Z"
    },
    "slideshow": {
     "slide_type": "fragment"
    }
   },
   "outputs": [
    {
     "data": {
      "image/svg+xml": [
       "<?xml version=\"1.0\" encoding=\"UTF-8\" standalone=\"no\"?>\n",
       "<!DOCTYPE svg PUBLIC \"-//W3C//DTD SVG 1.1//EN\"\n",
       " \"http://www.w3.org/Graphics/SVG/1.1/DTD/svg11.dtd\">\n",
       "<!-- Generated by graphviz version 2.49.3 (20211023.0002)\n",
       " -->\n",
       "<!-- Pages: 1 -->\n",
       "<svg width=\"699pt\" height=\"420pt\"\n",
       " viewBox=\"0.00 0.00 699.00 420.00\" xmlns=\"http://www.w3.org/2000/svg\" xmlns:xlink=\"http://www.w3.org/1999/xlink\">\n",
       "<g id=\"graph0\" class=\"graph\" transform=\"scale(1 1) rotate(0) translate(4 416)\">\n",
       "<polygon fill=\"white\" stroke=\"transparent\" points=\"-4,4 -4,-416 695,-416 695,4 -4,4\"/>\n",
       "<!-- 1 -->\n",
       "<g id=\"node1\" class=\"node\">\n",
       "<title>1</title>\n",
       "<ellipse fill=\"none\" stroke=\"black\" cx=\"303.5\" cy=\"-390\" rx=\"124.27\" ry=\"18\"/>\n",
       "<ellipse fill=\"none\" stroke=\"black\" cx=\"303.5\" cy=\"-390\" rx=\"128.28\" ry=\"22\"/>\n",
       "<text text-anchor=\"middle\" x=\"303.5\" y=\"-386.3\" font-family=\"Times,serif\" font-size=\"14.00\">1: enter: check_triangle(a, b, c)</text>\n",
       "</g>\n",
       "<!-- 3 -->\n",
       "<g id=\"node9\" class=\"node\">\n",
       "<title>3</title>\n",
       "<polygon fill=\"none\" stroke=\"black\" points=\"303.5,-332 227.42,-314 303.5,-296 379.58,-314 303.5,-332\"/>\n",
       "<text text-anchor=\"middle\" x=\"303.5\" y=\"-310.3\" font-family=\"Times,serif\" font-size=\"14.00\">2: if: a == b</text>\n",
       "</g>\n",
       "<!-- 1&#45;&gt;3 -->\n",
       "<g id=\"edge7\" class=\"edge\">\n",
       "<title>1&#45;&gt;3</title>\n",
       "<path fill=\"none\" stroke=\"green\" d=\"M303.5,-367.99C303.5,-360.06 303.5,-350.91 303.5,-342.48\"/>\n",
       "<polygon fill=\"green\" stroke=\"green\" points=\"307,-342.31 303.5,-332.31 300,-342.31 307,-342.31\"/>\n",
       "</g>\n",
       "<!-- 2 -->\n",
       "<g id=\"node2\" class=\"node\">\n",
       "<title>2</title>\n",
       "<ellipse fill=\"none\" stroke=\"black\" cx=\"346.5\" cy=\"-22\" rx=\"119.68\" ry=\"18\"/>\n",
       "<ellipse fill=\"none\" stroke=\"black\" cx=\"346.5\" cy=\"-22\" rx=\"123.68\" ry=\"22\"/>\n",
       "<text text-anchor=\"middle\" x=\"346.5\" y=\"-18.3\" font-family=\"Times,serif\" font-size=\"14.00\">1: exit: check_triangle(a, b, c)</text>\n",
       "</g>\n",
       "<!-- 6 -->\n",
       "<g id=\"node3\" class=\"node\">\n",
       "<title>6</title>\n",
       "<polygon fill=\"none\" stroke=\"black\" points=\"221.5,-116 87.5,-116 87.5,-80 221.5,-80 221.5,-116\"/>\n",
       "<text text-anchor=\"middle\" x=\"154.5\" y=\"-94.3\" font-family=\"Times,serif\" font-size=\"14.00\">5: return &#39;Equilateral&#39;</text>\n",
       "</g>\n",
       "<!-- 6&#45;&gt;2 -->\n",
       "<g id=\"edge1\" class=\"edge\">\n",
       "<title>6&#45;&gt;2</title>\n",
       "<path fill=\"none\" stroke=\"green\" d=\"M199.03,-79.84C225.31,-69.71 258.89,-56.77 287.36,-45.79\"/>\n",
       "<polygon fill=\"green\" stroke=\"green\" points=\"288.73,-49.02 296.81,-42.15 286.22,-42.48 288.73,-49.02\"/>\n",
       "</g>\n",
       "<!-- 7 -->\n",
       "<g id=\"node4\" class=\"node\">\n",
       "<title>7</title>\n",
       "<polygon fill=\"none\" stroke=\"black\" points=\"363,-116 240,-116 240,-80 363,-80 363,-116\"/>\n",
       "<text text-anchor=\"middle\" x=\"301.5\" y=\"-94.3\" font-family=\"Times,serif\" font-size=\"14.00\">7: return &#39;Isosceles&#39;</text>\n",
       "</g>\n",
       "<!-- 7&#45;&gt;2 -->\n",
       "<g id=\"edge2\" class=\"edge\">\n",
       "<title>7&#45;&gt;2</title>\n",
       "<path fill=\"none\" stroke=\"red\" d=\"M311.94,-79.84C316.86,-71.75 322.87,-61.86 328.49,-52.62\"/>\n",
       "<polygon fill=\"red\" stroke=\"red\" points=\"331.5,-54.39 333.71,-44.03 325.52,-50.76 331.5,-54.39\"/>\n",
       "</g>\n",
       "<!-- 8 -->\n",
       "<g id=\"node5\" class=\"node\">\n",
       "<title>8</title>\n",
       "<polygon fill=\"none\" stroke=\"black\" points=\"123,-188 0,-188 0,-152 123,-152 123,-188\"/>\n",
       "<text text-anchor=\"middle\" x=\"61.5\" y=\"-166.3\" font-family=\"Times,serif\" font-size=\"14.00\">9: return &#39;Isosceles&#39;</text>\n",
       "</g>\n",
       "<!-- 8&#45;&gt;2 -->\n",
       "<g id=\"edge3\" class=\"edge\">\n",
       "<title>8&#45;&gt;2</title>\n",
       "<path fill=\"none\" stroke=\"red\" d=\"M59.61,-151.73C58.45,-131.7 59.9,-98.99 78.5,-80 100.06,-57.98 168.45,-43.65 230.74,-34.87\"/>\n",
       "<polygon fill=\"red\" stroke=\"red\" points=\"231.25,-38.33 240.68,-33.5 230.29,-31.39 231.25,-38.33\"/>\n",
       "</g>\n",
       "<!-- 11 -->\n",
       "<g id=\"node6\" class=\"node\">\n",
       "<title>11</title>\n",
       "<polygon fill=\"none\" stroke=\"black\" points=\"549.5,-116 419.5,-116 419.5,-80 549.5,-80 549.5,-116\"/>\n",
       "<text text-anchor=\"middle\" x=\"484.5\" y=\"-94.3\" font-family=\"Times,serif\" font-size=\"14.00\">13: return &#39;Isosceles&#39;</text>\n",
       "</g>\n",
       "<!-- 11&#45;&gt;2 -->\n",
       "<g id=\"edge4\" class=\"edge\">\n",
       "<title>11&#45;&gt;2</title>\n",
       "<path fill=\"none\" stroke=\"red\" d=\"M452.49,-79.84C434.9,-70.4 412.74,-58.52 393.24,-48.07\"/>\n",
       "<polygon fill=\"red\" stroke=\"red\" points=\"394.68,-44.86 384.21,-43.22 391.37,-51.03 394.68,-44.86\"/>\n",
       "</g>\n",
       "<!-- 12 -->\n",
       "<g id=\"node7\" class=\"node\">\n",
       "<title>12</title>\n",
       "<polygon fill=\"none\" stroke=\"black\" points=\"691,-116 568,-116 568,-80 691,-80 691,-116\"/>\n",
       "<text text-anchor=\"middle\" x=\"629.5\" y=\"-94.3\" font-family=\"Times,serif\" font-size=\"14.00\">15: return &#39;Scalene&#39;</text>\n",
       "</g>\n",
       "<!-- 12&#45;&gt;2 -->\n",
       "<g id=\"edge5\" class=\"edge\">\n",
       "<title>12&#45;&gt;2</title>\n",
       "<path fill=\"none\" stroke=\"red\" d=\"M567.74,-80.85C525.32,-69.76 468.69,-54.95 423.35,-43.1\"/>\n",
       "<polygon fill=\"red\" stroke=\"red\" points=\"424.12,-39.68 413.56,-40.54 422.35,-46.45 424.12,-39.68\"/>\n",
       "</g>\n",
       "<!-- 13 -->\n",
       "<g id=\"node8\" class=\"node\">\n",
       "<title>13</title>\n",
       "<polygon fill=\"none\" stroke=\"black\" points=\"455.5,-188 325.5,-188 325.5,-152 455.5,-152 455.5,-188\"/>\n",
       "<text text-anchor=\"middle\" x=\"390.5\" y=\"-166.3\" font-family=\"Times,serif\" font-size=\"14.00\">17: return &#39;Isosceles&#39;</text>\n",
       "</g>\n",
       "<!-- 13&#45;&gt;2 -->\n",
       "<g id=\"edge6\" class=\"edge\">\n",
       "<title>13&#45;&gt;2</title>\n",
       "<path fill=\"none\" stroke=\"red\" d=\"M387.87,-151.67C384.88,-133.53 379.35,-104.36 371.5,-80 368.63,-71.11 364.85,-61.72 361.1,-53.19\"/>\n",
       "<polygon fill=\"red\" stroke=\"red\" points=\"364.24,-51.65 356.93,-43.99 357.87,-54.54 364.24,-51.65\"/>\n",
       "</g>\n",
       "<!-- 4 -->\n",
       "<g id=\"node10\" class=\"node\">\n",
       "<title>4</title>\n",
       "<polygon fill=\"none\" stroke=\"black\" points=\"217.5,-260 142.26,-242 217.5,-224 292.74,-242 217.5,-260\"/>\n",
       "<text text-anchor=\"middle\" x=\"217.5\" y=\"-238.3\" font-family=\"Times,serif\" font-size=\"14.00\">3: if: a == c</text>\n",
       "</g>\n",
       "<!-- 3&#45;&gt;4 -->\n",
       "<g id=\"edge8\" class=\"edge\">\n",
       "<title>3&#45;&gt;4</title>\n",
       "<path fill=\"none\" stroke=\"green\" d=\"M286.92,-299.5C274.11,-289.08 256.19,-274.49 241.76,-262.75\"/>\n",
       "<polygon fill=\"green\" stroke=\"green\" points=\"243.7,-259.82 233.74,-256.22 239.29,-265.25 243.7,-259.82\"/>\n",
       "</g>\n",
       "<!-- 9 -->\n",
       "<g id=\"node12\" class=\"node\">\n",
       "<title>9</title>\n",
       "<polygon fill=\"none\" stroke=\"black\" points=\"390.5,-260 311.4,-242 390.5,-224 469.6,-242 390.5,-260\"/>\n",
       "<text text-anchor=\"middle\" x=\"390.5\" y=\"-238.3\" font-family=\"Times,serif\" font-size=\"14.00\">11: if: b != c</text>\n",
       "</g>\n",
       "<!-- 3&#45;&gt;9 -->\n",
       "<g id=\"edge13\" class=\"edge\">\n",
       "<title>3&#45;&gt;9</title>\n",
       "<path fill=\"none\" stroke=\"red\" d=\"M319.86,-299.83C332.78,-289.44 351.02,-274.76 365.73,-262.93\"/>\n",
       "<polygon fill=\"red\" stroke=\"red\" points=\"368.32,-265.34 373.91,-256.35 363.93,-259.89 368.32,-265.34\"/>\n",
       "</g>\n",
       "<!-- 4&#45;&gt;8 -->\n",
       "<g id=\"edge12\" class=\"edge\">\n",
       "<title>4&#45;&gt;8</title>\n",
       "<path fill=\"none\" stroke=\"red\" d=\"M192.78,-229.91C170.24,-219.79 136.33,-204.58 108.62,-192.15\"/>\n",
       "<polygon fill=\"red\" stroke=\"red\" points=\"110.05,-188.95 99.49,-188.05 107.18,-195.33 110.05,-188.95\"/>\n",
       "</g>\n",
       "<!-- 5 -->\n",
       "<g id=\"node11\" class=\"node\">\n",
       "<title>5</title>\n",
       "<polygon fill=\"none\" stroke=\"black\" points=\"217.5,-188 141.42,-170 217.5,-152 293.58,-170 217.5,-188\"/>\n",
       "<text text-anchor=\"middle\" x=\"217.5\" y=\"-166.3\" font-family=\"Times,serif\" font-size=\"14.00\">4: if: b == c</text>\n",
       "</g>\n",
       "<!-- 4&#45;&gt;5 -->\n",
       "<g id=\"edge9\" class=\"edge\">\n",
       "<title>4&#45;&gt;5</title>\n",
       "<path fill=\"none\" stroke=\"green\" d=\"M217.5,-223.7C217.5,-215.98 217.5,-206.71 217.5,-198.11\"/>\n",
       "<polygon fill=\"green\" stroke=\"green\" points=\"221,-198.1 217.5,-188.1 214,-198.1 221,-198.1\"/>\n",
       "</g>\n",
       "<!-- 5&#45;&gt;6 -->\n",
       "<g id=\"edge10\" class=\"edge\">\n",
       "<title>5&#45;&gt;6</title>\n",
       "<path fill=\"none\" stroke=\"green\" d=\"M204.75,-154.83C196.73,-145.92 186.16,-134.17 176.78,-123.75\"/>\n",
       "<polygon fill=\"green\" stroke=\"green\" points=\"179.19,-121.2 169.9,-116.11 173.99,-125.89 179.19,-121.2\"/>\n",
       "</g>\n",
       "<!-- 5&#45;&gt;7 -->\n",
       "<g id=\"edge11\" class=\"edge\">\n",
       "<title>5&#45;&gt;7</title>\n",
       "<path fill=\"none\" stroke=\"red\" d=\"M233.7,-155.5C244.83,-146.23 259.91,-133.66 273.03,-122.73\"/>\n",
       "<polygon fill=\"red\" stroke=\"red\" points=\"275.44,-125.27 280.88,-116.18 270.96,-119.89 275.44,-125.27\"/>\n",
       "</g>\n",
       "<!-- 9&#45;&gt;13 -->\n",
       "<g id=\"edge17\" class=\"edge\">\n",
       "<title>9&#45;&gt;13</title>\n",
       "<path fill=\"none\" stroke=\"red\" d=\"M390.5,-223.7C390.5,-215.98 390.5,-206.71 390.5,-198.11\"/>\n",
       "<polygon fill=\"red\" stroke=\"red\" points=\"394,-198.1 390.5,-188.1 387,-198.1 394,-198.1\"/>\n",
       "</g>\n",
       "<!-- 10 -->\n",
       "<g id=\"node13\" class=\"node\">\n",
       "<title>10</title>\n",
       "<polygon fill=\"none\" stroke=\"black\" points=\"555.5,-188 473.89,-170 555.5,-152 637.11,-170 555.5,-188\"/>\n",
       "<text text-anchor=\"middle\" x=\"555.5\" y=\"-166.3\" font-family=\"Times,serif\" font-size=\"14.00\">12: if: a == c</text>\n",
       "</g>\n",
       "<!-- 9&#45;&gt;10 -->\n",
       "<g id=\"edge14\" class=\"edge\">\n",
       "<title>9&#45;&gt;10</title>\n",
       "<path fill=\"none\" stroke=\"red\" d=\"M416.64,-229.91C444.36,-218.15 488.33,-199.5 519.35,-186.34\"/>\n",
       "<polygon fill=\"red\" stroke=\"red\" points=\"521.09,-189.4 528.93,-182.27 518.36,-182.96 521.09,-189.4\"/>\n",
       "</g>\n",
       "<!-- 10&#45;&gt;11 -->\n",
       "<g id=\"edge15\" class=\"edge\">\n",
       "<title>10&#45;&gt;11</title>\n",
       "<path fill=\"none\" stroke=\"red\" d=\"M541.13,-154.83C531.91,-145.75 519.71,-133.71 508.99,-123.14\"/>\n",
       "<polygon fill=\"red\" stroke=\"red\" points=\"511.44,-120.64 501.86,-116.11 506.52,-125.63 511.44,-120.64\"/>\n",
       "</g>\n",
       "<!-- 10&#45;&gt;12 -->\n",
       "<g id=\"edge16\" class=\"edge\">\n",
       "<title>10&#45;&gt;12</title>\n",
       "<path fill=\"none\" stroke=\"red\" d=\"M570.12,-155.17C579.77,-146.04 592.68,-133.83 603.99,-123.13\"/>\n",
       "<polygon fill=\"red\" stroke=\"red\" points=\"606.65,-125.43 611.51,-116.02 601.84,-120.35 606.65,-125.43\"/>\n",
       "</g>\n",
       "</g>\n",
       "</svg>\n"
      ],
      "text/plain": [
       "<graphviz.dot.Digraph at 0x1092000a0>"
      ]
     },
     "execution_count": 20,
     "metadata": {},
     "output_type": "execute_result"
    }
   ],
   "source": [
    "show_cfg(check_triangle, arcs=cov.arcs())"
   ]
  },
  {
   "cell_type": "markdown",
   "metadata": {
    "slideshow": {
     "slide_type": "fragment"
    }
   },
   "source": [
    "As you can see, the path taken is `<path 1>`."
   ]
  },
  {
   "cell_type": "markdown",
   "metadata": {
    "slideshow": {
     "slide_type": "fragment"
    }
   },
   "source": [
    "Similarly, for solving `<path 2>` we need to simply invert the condition at <line 2>:"
   ]
  },
  {
   "cell_type": "code",
   "execution_count": 21,
   "metadata": {
    "execution": {
     "iopub.execute_input": "2022-01-24T10:02:35.104795Z",
     "iopub.status.busy": "2022-01-24T10:02:35.104077Z",
     "iopub.status.idle": "2022-01-24T10:02:35.124337Z",
     "shell.execute_reply": "2022-01-24T10:02:35.124759Z"
    },
    "slideshow": {
     "slide_type": "fragment"
    }
   },
   "outputs": [
    {
     "name": "stdout",
     "output_type": "stream",
     "text": [
      "no solution\n"
     ]
    }
   ],
   "source": [
    "z3.solve(a == b, a == c, z3.Not(b == c))"
   ]
  },
  {
   "cell_type": "markdown",
   "metadata": {
    "slideshow": {
     "slide_type": "fragment"
    }
   },
   "source": [
    "The symbolic execution suggests that there is no solution. A moment's reflection will convince us that it is indeed true. Let us proceed with the other paths. The `<path 3>` can be obtained by inverting the condition at `<line 4>`."
   ]
  },
  {
   "cell_type": "code",
   "execution_count": 22,
   "metadata": {
    "execution": {
     "iopub.execute_input": "2022-01-24T10:02:35.129447Z",
     "iopub.status.busy": "2022-01-24T10:02:35.128676Z",
     "iopub.status.idle": "2022-01-24T10:02:35.152448Z",
     "shell.execute_reply": "2022-01-24T10:02:35.153283Z"
    },
    "slideshow": {
     "slide_type": "subslide"
    }
   },
   "outputs": [
    {
     "name": "stdout",
     "output_type": "stream",
     "text": [
      "[b = 1, c = 0, a = 1]\n"
     ]
    }
   ],
   "source": [
    "z3.solve(a == b, z3.Not(a == c))"
   ]
  },
  {
   "cell_type": "code",
   "execution_count": 23,
   "metadata": {
    "execution": {
     "iopub.execute_input": "2022-01-24T10:02:35.185576Z",
     "iopub.status.busy": "2022-01-24T10:02:35.158592Z",
     "iopub.status.idle": "2022-01-24T10:02:35.188877Z",
     "shell.execute_reply": "2022-01-24T10:02:35.189430Z"
    },
    "slideshow": {
     "slide_type": "fragment"
    }
   },
   "outputs": [
    {
     "data": {
      "text/plain": [
       "[1, 2, 3, 9]"
      ]
     },
     "execution_count": 23,
     "metadata": {},
     "output_type": "execute_result"
    }
   ],
   "source": [
    "with ArcCoverage() as cov:\n",
    "    assert check_triangle(1, 1, 0) == 'Isosceles'\n",
    "[i for fn, i in cov._trace if fn == 'check_triangle']"
   ]
  },
  {
   "cell_type": "code",
   "execution_count": 24,
   "metadata": {
    "execution": {
     "iopub.execute_input": "2022-01-24T10:02:35.195138Z",
     "iopub.status.busy": "2022-01-24T10:02:35.194142Z",
     "iopub.status.idle": "2022-01-24T10:02:35.198029Z",
     "shell.execute_reply": "2022-01-24T10:02:35.198598Z"
    },
    "slideshow": {
     "slide_type": "fragment"
    }
   },
   "outputs": [
    {
     "data": {
      "text/plain": [
       "([1, 2, 3, 9], 'Isosceles')"
      ]
     },
     "execution_count": 24,
     "metadata": {},
     "output_type": "execute_result"
    }
   ],
   "source": [
    "paths['<path 3>']"
   ]
  },
  {
   "cell_type": "markdown",
   "metadata": {
    "slideshow": {
     "slide_type": "fragment"
    }
   },
   "source": [
    "How about path <4>?"
   ]
  },
  {
   "cell_type": "code",
   "execution_count": 25,
   "metadata": {
    "execution": {
     "iopub.execute_input": "2022-01-24T10:02:35.204221Z",
     "iopub.status.busy": "2022-01-24T10:02:35.203302Z",
     "iopub.status.idle": "2022-01-24T10:02:35.237425Z",
     "shell.execute_reply": "2022-01-24T10:02:35.238028Z"
    },
    "slideshow": {
     "slide_type": "fragment"
    }
   },
   "outputs": [
    {
     "name": "stdout",
     "output_type": "stream",
     "text": [
      "[b = 0, c = 1, a = 1]\n"
     ]
    }
   ],
   "source": [
    "z3.solve(z3.Not(a == b), b != c, a == c)"
   ]
  },
  {
   "cell_type": "markdown",
   "metadata": {
    "slideshow": {
     "slide_type": "subslide"
    }
   },
   "source": [
    "As we mentioned earlier, our program does not account for sides with zero or negative length. We can modify our program to check for zero and negative input. However, do we always have to make sure that every function has to account for all possible inputs? It is possible that the `check_triangle` is not directly exposed to the user, and it is called from another function that already guarantees that the inputs would be positive. In the [chapter on dynamic invariants](DynamicInvariants.ipynb), we will show how to discover such preconditions and post conditions.\n",
    "\n",
    "We can easily add such a precondition here."
   ]
  },
  {
   "cell_type": "code",
   "execution_count": 26,
   "metadata": {
    "execution": {
     "iopub.execute_input": "2022-01-24T10:02:35.244810Z",
     "iopub.status.busy": "2022-01-24T10:02:35.243764Z",
     "iopub.status.idle": "2022-01-24T10:02:35.246933Z",
     "shell.execute_reply": "2022-01-24T10:02:35.247451Z"
    },
    "slideshow": {
     "slide_type": "fragment"
    }
   },
   "outputs": [],
   "source": [
    "pre_condition = z3.And(a > 0, b > 0, c > 0)"
   ]
  },
  {
   "cell_type": "code",
   "execution_count": 27,
   "metadata": {
    "execution": {
     "iopub.execute_input": "2022-01-24T10:02:35.252536Z",
     "iopub.status.busy": "2022-01-24T10:02:35.251707Z",
     "iopub.status.idle": "2022-01-24T10:02:35.271620Z",
     "shell.execute_reply": "2022-01-24T10:02:35.272355Z"
    },
    "slideshow": {
     "slide_type": "fragment"
    }
   },
   "outputs": [
    {
     "name": "stdout",
     "output_type": "stream",
     "text": [
      "[c = 2, b = 1, a = 2]\n"
     ]
    }
   ],
   "source": [
    "z3.solve(pre_condition, z3.Not(a == b), b != c, a == c)"
   ]
  },
  {
   "cell_type": "code",
   "execution_count": 28,
   "metadata": {
    "execution": {
     "iopub.execute_input": "2022-01-24T10:02:35.302149Z",
     "iopub.status.busy": "2022-01-24T10:02:35.294850Z",
     "iopub.status.idle": "2022-01-24T10:02:35.305622Z",
     "shell.execute_reply": "2022-01-24T10:02:35.306206Z"
    },
    "slideshow": {
     "slide_type": "subslide"
    }
   },
   "outputs": [
    {
     "data": {
      "text/plain": [
       "[1, 2, 11, 12, 13]"
      ]
     },
     "execution_count": 28,
     "metadata": {},
     "output_type": "execute_result"
    }
   ],
   "source": [
    "with ArcCoverage() as cov:\n",
    "    assert check_triangle(1, 2, 1) == 'Isosceles'\n",
    "[i for fn, i in cov._trace if fn == 'check_triangle']"
   ]
  },
  {
   "cell_type": "code",
   "execution_count": 29,
   "metadata": {
    "execution": {
     "iopub.execute_input": "2022-01-24T10:02:35.311912Z",
     "iopub.status.busy": "2022-01-24T10:02:35.310972Z",
     "iopub.status.idle": "2022-01-24T10:02:35.314394Z",
     "shell.execute_reply": "2022-01-24T10:02:35.314969Z"
    },
    "slideshow": {
     "slide_type": "fragment"
    }
   },
   "outputs": [
    {
     "data": {
      "text/plain": [
       "([1, 2, 11, 12, 13], 'Isosceles')"
      ]
     },
     "execution_count": 29,
     "metadata": {},
     "output_type": "execute_result"
    }
   ],
   "source": [
    "paths['<path 4>']"
   ]
  },
  {
   "cell_type": "markdown",
   "metadata": {
    "slideshow": {
     "slide_type": "fragment"
    }
   },
   "source": [
    "Continuing to path <5>:"
   ]
  },
  {
   "cell_type": "code",
   "execution_count": 30,
   "metadata": {
    "execution": {
     "iopub.execute_input": "2022-01-24T10:02:35.320326Z",
     "iopub.status.busy": "2022-01-24T10:02:35.319413Z",
     "iopub.status.idle": "2022-01-24T10:02:35.340038Z",
     "shell.execute_reply": "2022-01-24T10:02:35.340593Z"
    },
    "slideshow": {
     "slide_type": "fragment"
    }
   },
   "outputs": [
    {
     "name": "stdout",
     "output_type": "stream",
     "text": [
      "[a = 1, c = 3, b = 2]\n"
     ]
    }
   ],
   "source": [
    "z3.solve(pre_condition, z3.Not(a == b), b != c, z3.Not(a == c))"
   ]
  },
  {
   "cell_type": "markdown",
   "metadata": {
    "slideshow": {
     "slide_type": "fragment"
    }
   },
   "source": [
    "And indeed it is a *Scalene* triangle."
   ]
  },
  {
   "cell_type": "code",
   "execution_count": 31,
   "metadata": {
    "execution": {
     "iopub.execute_input": "2022-01-24T10:02:35.365805Z",
     "iopub.status.busy": "2022-01-24T10:02:35.365131Z",
     "iopub.status.idle": "2022-01-24T10:02:35.368126Z",
     "shell.execute_reply": "2022-01-24T10:02:35.368719Z"
    },
    "slideshow": {
     "slide_type": "fragment"
    }
   },
   "outputs": [],
   "source": [
    "with ArcCoverage() as cov:\n",
    "    assert check_triangle(3, 1, 2) == 'Scalene'"
   ]
  },
  {
   "cell_type": "code",
   "execution_count": 32,
   "metadata": {
    "execution": {
     "iopub.execute_input": "2022-01-24T10:02:35.374534Z",
     "iopub.status.busy": "2022-01-24T10:02:35.373528Z",
     "iopub.status.idle": "2022-01-24T10:02:35.377837Z",
     "shell.execute_reply": "2022-01-24T10:02:35.378319Z"
    },
    "slideshow": {
     "slide_type": "fragment"
    }
   },
   "outputs": [
    {
     "data": {
      "text/plain": [
       "([1, 2, 11, 12, 15], 'Scalene')"
      ]
     },
     "execution_count": 32,
     "metadata": {},
     "output_type": "execute_result"
    }
   ],
   "source": [
    "paths['<path 5>']"
   ]
  },
  {
   "cell_type": "markdown",
   "metadata": {
    "slideshow": {
     "slide_type": "subslide"
    }
   },
   "source": [
    "Finally, for `<path 6>` the procedure is similar."
   ]
  },
  {
   "cell_type": "code",
   "execution_count": 33,
   "metadata": {
    "execution": {
     "iopub.execute_input": "2022-01-24T10:02:35.382993Z",
     "iopub.status.busy": "2022-01-24T10:02:35.382222Z",
     "iopub.status.idle": "2022-01-24T10:02:35.405751Z",
     "shell.execute_reply": "2022-01-24T10:02:35.405085Z"
    },
    "slideshow": {
     "slide_type": "fragment"
    }
   },
   "outputs": [
    {
     "name": "stdout",
     "output_type": "stream",
     "text": [
      "[c = 2, a = 1, b = 2]\n"
     ]
    }
   ],
   "source": [
    "z3.solve(pre_condition, z3.Not(a == b), z3.Not(b != c))"
   ]
  },
  {
   "cell_type": "code",
   "execution_count": 34,
   "metadata": {
    "execution": {
     "iopub.execute_input": "2022-01-24T10:02:35.413187Z",
     "iopub.status.busy": "2022-01-24T10:02:35.411915Z",
     "iopub.status.idle": "2022-01-24T10:02:35.437812Z",
     "shell.execute_reply": "2022-01-24T10:02:35.438381Z"
    },
    "slideshow": {
     "slide_type": "fragment"
    }
   },
   "outputs": [
    {
     "data": {
      "text/plain": [
       "[1, 2, 11, 17]"
      ]
     },
     "execution_count": 34,
     "metadata": {},
     "output_type": "execute_result"
    }
   ],
   "source": [
    "with ArcCoverage() as cov:\n",
    "    assert check_triangle(2, 1, 1) == 'Isosceles'\n",
    "[i for fn, i in cov._trace if fn == 'check_triangle']"
   ]
  },
  {
   "cell_type": "code",
   "execution_count": 35,
   "metadata": {
    "execution": {
     "iopub.execute_input": "2022-01-24T10:02:35.444117Z",
     "iopub.status.busy": "2022-01-24T10:02:35.442950Z",
     "iopub.status.idle": "2022-01-24T10:02:35.446441Z",
     "shell.execute_reply": "2022-01-24T10:02:35.446860Z"
    },
    "slideshow": {
     "slide_type": "fragment"
    }
   },
   "outputs": [
    {
     "data": {
      "text/plain": [
       "([1, 2, 11, 17], 'Isosceles')"
      ]
     },
     "execution_count": 35,
     "metadata": {},
     "output_type": "execute_result"
    }
   ],
   "source": [
    "paths['<path 6>']"
   ]
  },
  {
   "cell_type": "markdown",
   "metadata": {
    "slideshow": {
     "slide_type": "fragment"
    }
   },
   "source": [
    "What if we wanted another solution? We can simply ask the solver to solve again, and not give us the same values."
   ]
  },
  {
   "cell_type": "code",
   "execution_count": 36,
   "metadata": {
    "execution": {
     "iopub.execute_input": "2022-01-24T10:02:35.451379Z",
     "iopub.status.busy": "2022-01-24T10:02:35.450638Z",
     "iopub.status.idle": "2022-01-24T10:02:35.453521Z",
     "shell.execute_reply": "2022-01-24T10:02:35.454122Z"
    },
    "slideshow": {
     "slide_type": "fragment"
    }
   },
   "outputs": [],
   "source": [
    "seen = [z3.And(a == 2, b == 1, c == 1)]"
   ]
  },
  {
   "cell_type": "code",
   "execution_count": 37,
   "metadata": {
    "execution": {
     "iopub.execute_input": "2022-01-24T10:02:35.459710Z",
     "iopub.status.busy": "2022-01-24T10:02:35.459052Z",
     "iopub.status.idle": "2022-01-24T10:02:35.479972Z",
     "shell.execute_reply": "2022-01-24T10:02:35.480468Z"
    },
    "slideshow": {
     "slide_type": "subslide"
    }
   },
   "outputs": [
    {
     "name": "stdout",
     "output_type": "stream",
     "text": [
      "[c = 2, a = 1, b = 2]\n"
     ]
    }
   ],
   "source": [
    "z3.solve(pre_condition, z3.Not(z3.Or(seen)), z3.Not(a == b), z3.Not(b != c))"
   ]
  },
  {
   "cell_type": "code",
   "execution_count": 38,
   "metadata": {
    "execution": {
     "iopub.execute_input": "2022-01-24T10:02:35.484657Z",
     "iopub.status.busy": "2022-01-24T10:02:35.484020Z",
     "iopub.status.idle": "2022-01-24T10:02:35.487144Z",
     "shell.execute_reply": "2022-01-24T10:02:35.487873Z"
    },
    "slideshow": {
     "slide_type": "fragment"
    }
   },
   "outputs": [],
   "source": [
    "seen.append(z3.And(a == 1, b == 2, c == 2))"
   ]
  },
  {
   "cell_type": "code",
   "execution_count": 39,
   "metadata": {
    "execution": {
     "iopub.execute_input": "2022-01-24T10:02:35.494042Z",
     "iopub.status.busy": "2022-01-24T10:02:35.492971Z",
     "iopub.status.idle": "2022-01-24T10:02:35.519370Z",
     "shell.execute_reply": "2022-01-24T10:02:35.520176Z"
    },
    "slideshow": {
     "slide_type": "fragment"
    }
   },
   "outputs": [
    {
     "name": "stdout",
     "output_type": "stream",
     "text": [
      "[c = 1, a = 3, b = 1]\n"
     ]
    }
   ],
   "source": [
    "z3.solve(pre_condition, z3.Not(z3.Or(seen)), z3.Not(a == b), z3.Not(b != c))"
   ]
  },
  {
   "cell_type": "markdown",
   "metadata": {
    "slideshow": {
     "slide_type": "fragment"
    }
   },
   "source": [
    "That is, using simple symbolic computation, we were able to easily see that (1) some of the paths are not reachable, and (2) some of the conditions were insufficient -- we needed preconditions. What about the total coverage obtained?"
   ]
  },
  {
   "cell_type": "markdown",
   "metadata": {
    "slideshow": {
     "slide_type": "subslide"
    }
   },
   "source": [
    "### Visualizing the Coverage"
   ]
  },
  {
   "cell_type": "markdown",
   "metadata": {
    "slideshow": {
     "slide_type": "fragment"
    }
   },
   "source": [
    "Visualizing the statement coverage can be accomplished as below."
   ]
  },
  {
   "cell_type": "code",
   "execution_count": 40,
   "metadata": {
    "execution": {
     "iopub.execute_input": "2022-01-24T10:02:35.527695Z",
     "iopub.status.busy": "2022-01-24T10:02:35.526684Z",
     "iopub.status.idle": "2022-01-24T10:02:35.528876Z",
     "shell.execute_reply": "2022-01-24T10:02:35.529854Z"
    },
    "slideshow": {
     "slide_type": "fragment"
    }
   },
   "outputs": [],
   "source": [
    "class VisualizedArcCoverage(ArcCoverage):\n",
    "    def show_coverage(self, fn):\n",
    "        src = fn if isinstance(fn, str) else inspect.getsource(fn)\n",
    "        covered = set([lineno for method, lineno in self._trace])\n",
    "        for i, s in enumerate(src.split('\\n')):\n",
    "            print('%s %2d: %s' % ('#' if i + 1 in covered else ' ', i + 1, s))"
   ]
  },
  {
   "cell_type": "markdown",
   "metadata": {
    "slideshow": {
     "slide_type": "fragment"
    }
   },
   "source": [
    "We run all the inputs obtained under the coverage tracer."
   ]
  },
  {
   "cell_type": "code",
   "execution_count": 41,
   "metadata": {
    "execution": {
     "iopub.execute_input": "2022-01-24T10:02:35.565135Z",
     "iopub.status.busy": "2022-01-24T10:02:35.548910Z",
     "iopub.status.idle": "2022-01-24T10:02:35.639814Z",
     "shell.execute_reply": "2022-01-24T10:02:35.639186Z"
    },
    "slideshow": {
     "slide_type": "fragment"
    }
   },
   "outputs": [],
   "source": [
    "with VisualizedArcCoverage() as cov:\n",
    "    assert check_triangle(0, 0, 0) == 'Equilateral'\n",
    "    assert check_triangle(1, 1, 0) == 'Isosceles'\n",
    "    assert check_triangle(1, 2, 1) == 'Isosceles'\n",
    "    assert check_triangle(3, 1, 2) == 'Scalene'\n",
    "    assert check_triangle(2, 1, 1) == 'Isosceles'"
   ]
  },
  {
   "cell_type": "code",
   "execution_count": 42,
   "metadata": {
    "execution": {
     "iopub.execute_input": "2022-01-24T10:02:35.645556Z",
     "iopub.status.busy": "2022-01-24T10:02:35.644650Z",
     "iopub.status.idle": "2022-01-24T10:02:35.647529Z",
     "shell.execute_reply": "2022-01-24T10:02:35.648210Z"
    },
    "slideshow": {
     "slide_type": "subslide"
    }
   },
   "outputs": [
    {
     "name": "stdout",
     "output_type": "stream",
     "text": [
      "#  1: def check_triangle(a: int, b: int, c: int) -> str:\n",
      "#  2:     if a == b:\n",
      "#  3:         if a == c:\n",
      "#  4:             if b == c:\n",
      "#  5:                 return \"Equilateral\"\n",
      "   6:             else:\n",
      "   7:                 return \"Isosceles\"\n",
      "   8:         else:\n",
      "#  9:             return \"Isosceles\"\n",
      "  10:     else:\n",
      "# 11:         if b != c:\n",
      "# 12:             if a == c:\n",
      "# 13:                 return \"Isosceles\"\n",
      "  14:             else:\n",
      "# 15:                 return \"Scalene\"\n",
      "  16:         else:\n",
      "# 17:             return \"Isosceles\"\n",
      "  18: \n"
     ]
    }
   ],
   "source": [
    "cov.show_coverage(check_triangle)"
   ]
  },
  {
   "cell_type": "markdown",
   "metadata": {
    "slideshow": {
     "slide_type": "subslide"
    }
   },
   "source": [
    "The coverage is as expected. The generated values does seem to cover all code that can be covered.\n",
    "\n",
    "We have seen how to reason about each path through the program. Can we combine them together to produce a single expression that represents the program behavior? This is what we will discuss next."
   ]
  },
  {
   "cell_type": "markdown",
   "metadata": {
    "slideshow": {
     "slide_type": "subslide"
    }
   },
   "source": [
    "### Function Summaries"
   ]
  },
  {
   "cell_type": "markdown",
   "metadata": {
    "slideshow": {
     "slide_type": "fragment"
    }
   },
   "source": [
    "Consider this equation for determining absolute value."
   ]
  },
  {
   "cell_type": "code",
   "execution_count": 43,
   "metadata": {
    "execution": {
     "iopub.execute_input": "2022-01-24T10:02:35.652945Z",
     "iopub.status.busy": "2022-01-24T10:02:35.652302Z",
     "iopub.status.idle": "2022-01-24T10:02:35.654658Z",
     "shell.execute_reply": "2022-01-24T10:02:35.655520Z"
    },
    "slideshow": {
     "slide_type": "fragment"
    }
   },
   "outputs": [],
   "source": [
    "def abs_value(x: float) -> float:\n",
    "    if x < 0:\n",
    "        v: float = -x  # type: ignore\n",
    "    else:\n",
    "        v: float = x  # type: ignore\n",
    "    return v"
   ]
  },
  {
   "cell_type": "code",
   "execution_count": 44,
   "metadata": {
    "execution": {
     "iopub.execute_input": "2022-01-24T10:02:35.662422Z",
     "iopub.status.busy": "2022-01-24T10:02:35.661628Z",
     "iopub.status.idle": "2022-01-24T10:02:36.193950Z",
     "shell.execute_reply": "2022-01-24T10:02:36.194574Z"
    },
    "slideshow": {
     "slide_type": "fragment"
    }
   },
   "outputs": [
    {
     "data": {
      "image/svg+xml": [
       "<?xml version=\"1.0\" encoding=\"UTF-8\" standalone=\"no\"?>\n",
       "<!DOCTYPE svg PUBLIC \"-//W3C//DTD SVG 1.1//EN\"\n",
       " \"http://www.w3.org/Graphics/SVG/1.1/DTD/svg11.dtd\">\n",
       "<!-- Generated by graphviz version 2.49.3 (20211023.0002)\n",
       " -->\n",
       "<!-- Pages: 1 -->\n",
       "<svg width=\"272pt\" height=\"366pt\"\n",
       " viewBox=\"0.00 0.00 271.84 366.00\" xmlns=\"http://www.w3.org/2000/svg\" xmlns:xlink=\"http://www.w3.org/1999/xlink\">\n",
       "<g id=\"graph0\" class=\"graph\" transform=\"scale(1 1) rotate(0) translate(4 362)\">\n",
       "<polygon fill=\"white\" stroke=\"transparent\" points=\"-4,4 -4,-362 267.84,-362 267.84,4 -4,4\"/>\n",
       "<!-- 1 -->\n",
       "<g id=\"node1\" class=\"node\">\n",
       "<title>1</title>\n",
       "<ellipse fill=\"none\" stroke=\"black\" cx=\"133.04\" cy=\"-336\" rx=\"90.19\" ry=\"18\"/>\n",
       "<ellipse fill=\"none\" stroke=\"black\" cx=\"133.04\" cy=\"-336\" rx=\"94.18\" ry=\"22\"/>\n",
       "<text text-anchor=\"middle\" x=\"133.04\" y=\"-332.3\" font-family=\"Times,serif\" font-size=\"14.00\">1: enter: abs_value(x)</text>\n",
       "</g>\n",
       "<!-- 3 -->\n",
       "<g id=\"node4\" class=\"node\">\n",
       "<title>3</title>\n",
       "<polygon fill=\"none\" stroke=\"black\" points=\"133.04,-277 63.33,-259 133.04,-241 202.76,-259 133.04,-277\"/>\n",
       "<text text-anchor=\"middle\" x=\"133.04\" y=\"-255.3\" font-family=\"Times,serif\" font-size=\"14.00\">2: if: x &lt; 0</text>\n",
       "</g>\n",
       "<!-- 1&#45;&gt;3 -->\n",
       "<g id=\"edge2\" class=\"edge\">\n",
       "<title>1&#45;&gt;3</title>\n",
       "<path fill=\"none\" stroke=\"black\" d=\"M133.04,-313.71C133.04,-305.46 133.04,-295.91 133.04,-287.17\"/>\n",
       "<polygon fill=\"black\" stroke=\"black\" points=\"136.54,-287.06 133.04,-277.06 129.54,-287.06 136.54,-287.06\"/>\n",
       "</g>\n",
       "<!-- 2 -->\n",
       "<g id=\"node2\" class=\"node\">\n",
       "<title>2</title>\n",
       "<ellipse fill=\"none\" stroke=\"black\" cx=\"133.04\" cy=\"-22\" rx=\"85.59\" ry=\"18\"/>\n",
       "<ellipse fill=\"none\" stroke=\"black\" cx=\"133.04\" cy=\"-22\" rx=\"89.59\" ry=\"22\"/>\n",
       "<text text-anchor=\"middle\" x=\"133.04\" y=\"-18.3\" font-family=\"Times,serif\" font-size=\"14.00\">1: exit: abs_value(x)</text>\n",
       "</g>\n",
       "<!-- 6 -->\n",
       "<g id=\"node3\" class=\"node\">\n",
       "<title>6</title>\n",
       "<polygon fill=\"none\" stroke=\"black\" points=\"170.54,-117 95.54,-117 95.54,-81 170.54,-81 170.54,-117\"/>\n",
       "<text text-anchor=\"middle\" x=\"133.04\" y=\"-95.3\" font-family=\"Times,serif\" font-size=\"14.00\">6: return v</text>\n",
       "</g>\n",
       "<!-- 6&#45;&gt;2 -->\n",
       "<g id=\"edge1\" class=\"edge\">\n",
       "<title>6&#45;&gt;2</title>\n",
       "<path fill=\"none\" stroke=\"black\" d=\"M133.04,-80.98C133.04,-73.15 133.04,-63.61 133.04,-54.54\"/>\n",
       "<polygon fill=\"black\" stroke=\"black\" points=\"136.54,-54.24 133.04,-44.24 129.54,-54.24 136.54,-54.24\"/>\n",
       "</g>\n",
       "<!-- 4 -->\n",
       "<g id=\"node5\" class=\"node\">\n",
       "<title>4</title>\n",
       "<ellipse fill=\"none\" stroke=\"black\" cx=\"63.04\" cy=\"-172\" rx=\"63.09\" ry=\"18\"/>\n",
       "<text text-anchor=\"middle\" x=\"63.04\" y=\"-168.3\" font-family=\"Times,serif\" font-size=\"14.00\">3: v: float = &#45;x</text>\n",
       "</g>\n",
       "<!-- 3&#45;&gt;4 -->\n",
       "<g id=\"edge3\" class=\"edge\">\n",
       "<title>3&#45;&gt;4</title>\n",
       "<path fill=\"none\" stroke=\"blue\" d=\"M121.49,-243.96C111.13,-231.39 95.71,-212.67 83.31,-197.61\"/>\n",
       "<polygon fill=\"blue\" stroke=\"blue\" points=\"85.84,-195.18 76.79,-189.69 80.44,-199.63 85.84,-195.18\"/>\n",
       "<text text-anchor=\"middle\" x=\"107.54\" y=\"-211.8\" font-family=\"Times,serif\" font-size=\"14.00\">T</text>\n",
       "</g>\n",
       "<!-- 5 -->\n",
       "<g id=\"node6\" class=\"node\">\n",
       "<title>5</title>\n",
       "<ellipse fill=\"none\" stroke=\"black\" cx=\"204.04\" cy=\"-172\" rx=\"59.59\" ry=\"18\"/>\n",
       "<text text-anchor=\"middle\" x=\"204.04\" y=\"-168.3\" font-family=\"Times,serif\" font-size=\"14.00\">5: v: float = x</text>\n",
       "</g>\n",
       "<!-- 3&#45;&gt;5 -->\n",
       "<g id=\"edge4\" class=\"edge\">\n",
       "<title>3&#45;&gt;5</title>\n",
       "<path fill=\"none\" stroke=\"red\" d=\"M144.77,-243.96C155.27,-231.39 170.91,-212.67 183.49,-197.61\"/>\n",
       "<polygon fill=\"red\" stroke=\"red\" points=\"186.38,-199.6 190.11,-189.69 181.01,-195.12 186.38,-199.6\"/>\n",
       "<text text-anchor=\"middle\" x=\"176.04\" y=\"-211.8\" font-family=\"Times,serif\" font-size=\"14.00\">F</text>\n",
       "</g>\n",
       "<!-- 4&#45;&gt;6 -->\n",
       "<g id=\"edge5\" class=\"edge\">\n",
       "<title>4&#45;&gt;6</title>\n",
       "<path fill=\"none\" stroke=\"black\" d=\"M79.28,-154.53C88.03,-145.65 99.01,-134.52 108.76,-124.63\"/>\n",
       "<polygon fill=\"black\" stroke=\"black\" points=\"111.39,-126.95 115.92,-117.37 106.41,-122.03 111.39,-126.95\"/>\n",
       "</g>\n",
       "<!-- 5&#45;&gt;6 -->\n",
       "<g id=\"edge6\" class=\"edge\">\n",
       "<title>5&#45;&gt;6</title>\n",
       "<path fill=\"none\" stroke=\"black\" d=\"M187.58,-154.53C178.7,-145.65 167.56,-134.52 157.67,-124.63\"/>\n",
       "<polygon fill=\"black\" stroke=\"black\" points=\"159.96,-121.96 150.41,-117.37 155.01,-126.91 159.96,-121.96\"/>\n",
       "</g>\n",
       "</g>\n",
       "</svg>\n"
      ],
      "text/plain": [
       "<graphviz.dot.Digraph at 0x1091cc190>"
      ]
     },
     "execution_count": 44,
     "metadata": {},
     "output_type": "execute_result"
    }
   ],
   "source": [
    "show_cfg(abs_value)"
   ]
  },
  {
   "cell_type": "markdown",
   "metadata": {
    "slideshow": {
     "slide_type": "fragment"
    }
   },
   "source": [
    "What can we say about the value of `v` at `line: 5`? Let us trace and see. First, we have variable `x` at `line: 1`."
   ]
  },
  {
   "cell_type": "code",
   "execution_count": 45,
   "metadata": {
    "execution": {
     "iopub.execute_input": "2022-01-24T10:02:36.200437Z",
     "iopub.status.busy": "2022-01-24T10:02:36.199650Z",
     "iopub.status.idle": "2022-01-24T10:02:36.203384Z",
     "shell.execute_reply": "2022-01-24T10:02:36.202904Z"
    },
    "slideshow": {
     "slide_type": "fragment"
    }
   },
   "outputs": [],
   "source": [
    "(x,), r = get_symbolicparams(abs_value)"
   ]
  },
  {
   "cell_type": "markdown",
   "metadata": {
    "slideshow": {
     "slide_type": "fragment"
    }
   },
   "source": [
    "At `line: 2`, we face a bifurcation in the possible paths. Hence, we produce two paths with corresponding constraints."
   ]
  },
  {
   "cell_type": "code",
   "execution_count": 46,
   "metadata": {
    "execution": {
     "iopub.execute_input": "2022-01-24T10:02:36.208198Z",
     "iopub.status.busy": "2022-01-24T10:02:36.207369Z",
     "iopub.status.idle": "2022-01-24T10:02:36.210317Z",
     "shell.execute_reply": "2022-01-24T10:02:36.210778Z"
    },
    "slideshow": {
     "slide_type": "subslide"
    }
   },
   "outputs": [],
   "source": [
    "l2_T = x < 0\n",
    "l2_F = z3.Not(x < 0)"
   ]
  },
  {
   "cell_type": "markdown",
   "metadata": {
    "slideshow": {
     "slide_type": "fragment"
    }
   },
   "source": [
    "For `line: 3`, we only need to consider the `If` path. However, we have an assignment. So we use a new variable here. The type _float_ is indicated in the source, and its equivalent *z3* type is _Real_."
   ]
  },
  {
   "cell_type": "code",
   "execution_count": 47,
   "metadata": {
    "execution": {
     "iopub.execute_input": "2022-01-24T10:02:36.214584Z",
     "iopub.status.busy": "2022-01-24T10:02:36.213938Z",
     "iopub.status.idle": "2022-01-24T10:02:36.217314Z",
     "shell.execute_reply": "2022-01-24T10:02:36.217743Z"
    },
    "slideshow": {
     "slide_type": "fragment"
    }
   },
   "outputs": [],
   "source": [
    "v_0 = z3.Real('v_0')\n",
    "l3 = z3.And(l2_T, v_0 == -x)"
   ]
  },
  {
   "cell_type": "markdown",
   "metadata": {
    "slideshow": {
     "slide_type": "fragment"
    }
   },
   "source": [
    "Similarly, for `line: 5`, we have an assignment. (Can we reuse the variable `v_0` from before?)"
   ]
  },
  {
   "cell_type": "code",
   "execution_count": 48,
   "metadata": {
    "execution": {
     "iopub.execute_input": "2022-01-24T10:02:36.222248Z",
     "iopub.status.busy": "2022-01-24T10:02:36.221485Z",
     "iopub.status.idle": "2022-01-24T10:02:36.224487Z",
     "shell.execute_reply": "2022-01-24T10:02:36.225121Z"
    },
    "slideshow": {
     "slide_type": "fragment"
    }
   },
   "outputs": [],
   "source": [
    "v_1 = z3.Real('v_1')\n",
    "l5 = z3.And(l2_F, v_1 == x)"
   ]
  },
  {
   "cell_type": "markdown",
   "metadata": {
    "slideshow": {
     "slide_type": "fragment"
    }
   },
   "source": [
    "When we come to `line: 6`, we see that we have *two* input streams. We have a choice. We can either keep each path separate as we did previously."
   ]
  },
  {
   "cell_type": "code",
   "execution_count": 49,
   "metadata": {
    "execution": {
     "iopub.execute_input": "2022-01-24T10:02:36.229751Z",
     "iopub.status.busy": "2022-01-24T10:02:36.229089Z",
     "iopub.status.idle": "2022-01-24T10:02:36.273500Z",
     "shell.execute_reply": "2022-01-24T10:02:36.274344Z"
    },
    "slideshow": {
     "slide_type": "subslide"
    }
   },
   "outputs": [
    {
     "name": "stdout",
     "output_type": "stream",
     "text": [
      "[x = -1/2, v_0 = 1/2, v = 1/2]\n",
      "[v_1 = 1, x = 1, v = 1]\n"
     ]
    }
   ],
   "source": [
    "v = z3.Real('v')\n",
    "for s in [z3.And(l3, v == v_0), z3.And(l5, v == v_1)]:\n",
    "    z3.solve(x != 0, s)"
   ]
  },
  {
   "cell_type": "markdown",
   "metadata": {
    "slideshow": {
     "slide_type": "fragment"
    }
   },
   "source": [
    "Or, we can combine them together and produce a single predicate at `line: 6`."
   ]
  },
  {
   "cell_type": "code",
   "execution_count": 50,
   "metadata": {
    "execution": {
     "iopub.execute_input": "2022-01-24T10:02:36.280575Z",
     "iopub.status.busy": "2022-01-24T10:02:36.279833Z",
     "iopub.status.idle": "2022-01-24T10:02:36.301859Z",
     "shell.execute_reply": "2022-01-24T10:02:36.302438Z"
    },
    "slideshow": {
     "slide_type": "fragment"
    }
   },
   "outputs": [
    {
     "name": "stdout",
     "output_type": "stream",
     "text": [
      "[v_1 = 0, x = 0, v_0 = 1/2, v = 0]\n"
     ]
    }
   ],
   "source": [
    "v = z3.Real('v')\n",
    "l6 = z3.Or(z3.And(l3, v == v_0), z3.And(l5, v == v_1))\n",
    "z3.solve(l6)"
   ]
  },
  {
   "cell_type": "markdown",
   "metadata": {
    "slideshow": {
     "slide_type": "subslide"
    }
   },
   "source": [
    "**Note.** Merging two incoming streams of execution can be non-trivial, especially when the execution paths are traversed multiple times (E.g. loops and recursion). For those interested, lookup [inferring loop invariants](https://www.st.cs.uni-saarland.de/publications/details/galeotti-hvc-2014/)."
   ]
  },
  {
   "cell_type": "markdown",
   "metadata": {
    "slideshow": {
     "slide_type": "fragment"
    }
   },
   "source": [
    "We can get this to produce any number of solutions for `abs()` as below."
   ]
  },
  {
   "cell_type": "code",
   "execution_count": 51,
   "metadata": {
    "execution": {
     "iopub.execute_input": "2022-01-24T10:02:36.308429Z",
     "iopub.status.busy": "2022-01-24T10:02:36.307658Z",
     "iopub.status.idle": "2022-01-24T10:02:36.351613Z",
     "shell.execute_reply": "2022-01-24T10:02:36.352160Z"
    },
    "slideshow": {
     "slide_type": "subslide"
    }
   },
   "outputs": [
    {
     "name": "stdout",
     "output_type": "stream",
     "text": [
      "[v_1 = 0, x = 0, v_0 = 1/2, v = 0]\n",
      "[v_1 = 1/2, x = 1/2, v = 1/2]\n",
      "[v_1 = 1/4, x = 1/4, v = 1/4]\n",
      "[v_1 = 1/8, x = 1/8, v = 1/8]\n",
      "[v_1 = 1/16, x = 1/16, v = 1/16]\n"
     ]
    },
    {
     "data": {
      "text/html": [
       "[x &lt; 0 &and; v_0 = -x &and; v = v_0 &or; &not;(x &lt; 0) &and; v_1 = x &and; v = v_1,\n",
       " &not;(0 = x),\n",
       " &not;(1/2 = x),\n",
       " &not;(1/4 = x),\n",
       " &not;(1/8 = x),\n",
       " &not;(1/16 = x)]"
      ],
      "text/plain": [
       "[Or(And(And(x < 0, v_0 == -x), v == v_0),\n",
       "    And(And(Not(x < 0), v_1 == x), v == v_1)),\n",
       " Not(0 == x),\n",
       " Not(1/2 == x),\n",
       " Not(1/4 == x),\n",
       " Not(1/8 == x),\n",
       " Not(1/16 == x)]"
      ]
     },
     "execution_count": 51,
     "metadata": {},
     "output_type": "execute_result"
    }
   ],
   "source": [
    "s = z3.Solver()\n",
    "s.add(l6)\n",
    "for i in range(5):\n",
    "    if s.check() == z3.sat:\n",
    "        m = s.model()\n",
    "        x_val = m[x]\n",
    "        print(m)\n",
    "    else:\n",
    "        print('no solution')\n",
    "        break\n",
    "    s.add(z3.Not(x == x_val))\n",
    "s"
   ]
  },
  {
   "cell_type": "markdown",
   "metadata": {
    "slideshow": {
     "slide_type": "subslide"
    }
   },
   "source": [
    "The solver is not particularly random. So we need to help it a bit to produce values on the negative range."
   ]
  },
  {
   "cell_type": "code",
   "execution_count": 52,
   "metadata": {
    "execution": {
     "iopub.execute_input": "2022-01-24T10:02:36.358583Z",
     "iopub.status.busy": "2022-01-24T10:02:36.357765Z",
     "iopub.status.idle": "2022-01-24T10:02:36.367461Z",
     "shell.execute_reply": "2022-01-24T10:02:36.368058Z"
    },
    "slideshow": {
     "slide_type": "subslide"
    }
   },
   "outputs": [
    {
     "name": "stdout",
     "output_type": "stream",
     "text": [
      "[x = -1/32, v_0 = 1/32, v = 1/32]\n",
      "[x = -33/32, v_0 = 33/32, v = 33/32]\n",
      "[x = -65/32, v_0 = 65/32, v = 65/32]\n",
      "[x = -97/32, v_0 = 97/32, v = 97/32]\n",
      "[x = -129/32, v_0 = 129/32, v = 129/32]\n"
     ]
    }
   ],
   "source": [
    "s.add(x < 0)\n",
    "for i in range(5):\n",
    "    if s.check() == z3.sat:\n",
    "        m = s.model()\n",
    "        x_val = m[x]\n",
    "        print(m)\n",
    "    else:\n",
    "        print('no solution')\n",
    "        break\n",
    "    s.add(z3.Not(x == x_val))"
   ]
  },
  {
   "cell_type": "code",
   "execution_count": 53,
   "metadata": {
    "execution": {
     "iopub.execute_input": "2022-01-24T10:02:36.373490Z",
     "iopub.status.busy": "2022-01-24T10:02:36.372620Z",
     "iopub.status.idle": "2022-01-24T10:02:36.396264Z",
     "shell.execute_reply": "2022-01-24T10:02:36.396854Z"
    },
    "slideshow": {
     "slide_type": "subslide"
    }
   },
   "outputs": [
    {
     "data": {
      "text/html": [
       "[x &lt; 0 &and; v_0 = -x &and; v = v_0 &or; &not;(x &lt; 0) &and; v_1 = x &and; v = v_1,\n",
       " &not;(0 = x),\n",
       " &not;(1/2 = x),\n",
       " &not;(1/4 = x),\n",
       " &not;(1/8 = x),\n",
       " &not;(1/16 = x),\n",
       " x &lt; 0,\n",
       " &not;(-1/32 = x),\n",
       " &not;(-33/32 = x),\n",
       " &not;(-65/32 = x),\n",
       " &not;(-97/32 = x),\n",
       " &not;(-129/32 = x)]"
      ],
      "text/plain": [
       "[Or(And(And(x < 0, v_0 == -x), v == v_0),\n",
       "    And(And(Not(x < 0), v_1 == x), v == v_1)),\n",
       " Not(0 == x),\n",
       " Not(1/2 == x),\n",
       " Not(1/4 == x),\n",
       " Not(1/8 == x),\n",
       " Not(1/16 == x),\n",
       " x < 0,\n",
       " Not(-1/32 == x),\n",
       " Not(-33/32 == x),\n",
       " Not(-65/32 == x),\n",
       " Not(-97/32 == x),\n",
       " Not(-129/32 == x)]"
      ]
     },
     "execution_count": 53,
     "metadata": {},
     "output_type": "execute_result"
    }
   ],
   "source": [
    "s"
   ]
  },
  {
   "cell_type": "markdown",
   "metadata": {
    "slideshow": {
     "slide_type": "subslide"
    }
   },
   "source": [
    "Note that the single expression produced at `line: 6` is essentially a summary for `abs_value()`. "
   ]
  },
  {
   "cell_type": "code",
   "execution_count": 54,
   "metadata": {
    "execution": {
     "iopub.execute_input": "2022-01-24T10:02:36.402037Z",
     "iopub.status.busy": "2022-01-24T10:02:36.401071Z",
     "iopub.status.idle": "2022-01-24T10:02:36.414115Z",
     "shell.execute_reply": "2022-01-24T10:02:36.414601Z"
    },
    "slideshow": {
     "slide_type": "fragment"
    }
   },
   "outputs": [
    {
     "data": {
      "text/html": [
       "x &lt; 0 &and; v_0 = -x &and; v = v_0 &or; &not;(x &lt; 0) &and; v_1 = x &and; v = v_1"
      ],
      "text/plain": [
       "Or(And(And(x < 0, v_0 == -x), v == v_0),\n",
       "   And(And(Not(x < 0), v_1 == x), v == v_1))"
      ]
     },
     "execution_count": 54,
     "metadata": {},
     "output_type": "execute_result"
    }
   ],
   "source": [
    "abs_value_summary = l6\n",
    "abs_value_summary"
   ]
  },
  {
   "cell_type": "markdown",
   "metadata": {
    "slideshow": {
     "slide_type": "fragment"
    }
   },
   "source": [
    "The *z3* solver can be used to simplify the predicates where possible."
   ]
  },
  {
   "cell_type": "code",
   "execution_count": 55,
   "metadata": {
    "execution": {
     "iopub.execute_input": "2022-01-24T10:02:36.419953Z",
     "iopub.status.busy": "2022-01-24T10:02:36.418725Z",
     "iopub.status.idle": "2022-01-24T10:02:36.429868Z",
     "shell.execute_reply": "2022-01-24T10:02:36.430440Z"
    },
    "slideshow": {
     "slide_type": "fragment"
    }
   },
   "outputs": [
    {
     "data": {
      "text/html": [
       "&not;(0 &le; x) &and; v_0 = -1&middot;x &and; v = v_0 &or; 0 &le; x &and; v_1 = x &and; v = v_1"
      ],
      "text/plain": [
       "Or(And(Not(0 <= x), v_0 == -1*x, v == v_0),\n",
       "   And(0 <= x, v_1 == x, v == v_1))"
      ]
     },
     "execution_count": 55,
     "metadata": {},
     "output_type": "execute_result"
    }
   ],
   "source": [
    "z3.simplify(l6)"
   ]
  },
  {
   "cell_type": "markdown",
   "metadata": {
    "slideshow": {
     "slide_type": "subslide"
    }
   },
   "source": [
    "One can use this summary rather than trace into `abs_value()` when `abs_value()` is used elsewhere. However, that presents us with a problem. It is possible that the same function may be called multiple times. In this case, using the same variables will lead to collision. One way to avoid that is to *prefix* some call specific value to the variables.\n",
    "\n",
    "**Note:** The SMT 2.0 standard allows one to define functions (*macros* in SMT parlance) directly. For example, the `abs-value` will be defined as follows:\n",
    "\n",
    "```lisp\n",
    "(define-fun abs-value ((x Int)) Int\n",
    "       (if (> x 0)\n",
    "           x\n",
    "           (* -1 x)))\n",
    "```\n",
    "\n",
    "Or equivalantly, (especially if `abs-value` is recursively defined)\n",
    "\n",
    "```lisp\n",
    "(declare-fun abs-value (Int) Int)\n",
    "(assert (forall ((x Int))\n",
    "                (= (abs-value x)\n",
    "                   (if (> x 0)\n",
    "                       x\n",
    "                       (* -1 x)))))\n",
    "```\n",
    "One can then say\n",
    "```\n",
    "(> (abs-value x) (abs-value y))\n",
    "```\n",
    "\n",
    "Unfortunately, the z3py project does not expose this facility in Python. Hence we have to use the `prefix_vars()` hack."
   ]
  },
  {
   "cell_type": "code",
   "execution_count": 56,
   "metadata": {
    "execution": {
     "iopub.execute_input": "2022-01-24T10:02:36.434475Z",
     "iopub.status.busy": "2022-01-24T10:02:36.433759Z",
     "iopub.status.idle": "2022-01-24T10:02:36.436429Z",
     "shell.execute_reply": "2022-01-24T10:02:36.437198Z"
    },
    "slideshow": {
     "slide_type": "skip"
    }
   },
   "outputs": [],
   "source": [
    "import ast"
   ]
  },
  {
   "cell_type": "markdown",
   "metadata": {
    "slideshow": {
     "slide_type": "subslide"
    }
   },
   "source": [
    "The method `prefix_vars()` modifies the variables in an expression such that the variables are prefixed with a given value."
   ]
  },
  {
   "cell_type": "code",
   "execution_count": 57,
   "metadata": {
    "execution": {
     "iopub.execute_input": "2022-01-24T10:02:36.448285Z",
     "iopub.status.busy": "2022-01-24T10:02:36.447405Z",
     "iopub.status.idle": "2022-01-24T10:02:36.449697Z",
     "shell.execute_reply": "2022-01-24T10:02:36.450382Z"
    },
    "slideshow": {
     "slide_type": "subslide"
    }
   },
   "outputs": [],
   "source": [
    "def prefix_vars(astnode, prefix):\n",
    "    if isinstance(astnode, ast.BoolOp):\n",
    "        return ast.BoolOp(astnode.op,\n",
    "                          [prefix_vars(i, prefix) for i in astnode.values], [])\n",
    "    elif isinstance(astnode, ast.BinOp):\n",
    "        return ast.BinOp(\n",
    "            prefix_vars(astnode.left, prefix), astnode.op,\n",
    "            prefix_vars(astnode.right, prefix))\n",
    "    elif isinstance(astnode, ast.UnaryOp):\n",
    "        return ast.UnaryOp(astnode.op, prefix_vars(astnode.operand, prefix))\n",
    "    elif isinstance(astnode, ast.Call):\n",
    "        return ast.Call(prefix_vars(astnode.func, prefix),\n",
    "                        [prefix_vars(i, prefix) for i in astnode.args],\n",
    "                        astnode.keywords)\n",
    "    elif isinstance(astnode, ast.Compare):\n",
    "        return ast.Compare(\n",
    "            prefix_vars(astnode.left, prefix), astnode.ops,\n",
    "            [prefix_vars(i, prefix) for i in astnode.comparators])\n",
    "    elif isinstance(astnode, ast.Name):\n",
    "        if astnode.id in {'And', 'Or', 'Not'}:\n",
    "            return ast.Name('z3.%s' % (astnode.id), astnode.ctx)\n",
    "        else:\n",
    "            return ast.Name('%s%s' % (prefix, astnode.id), astnode.ctx)\n",
    "    elif isinstance(astnode, ast.Return):\n",
    "        return ast.Return(prefix_vars(astnode.value, env))\n",
    "    else:\n",
    "        return astnode"
   ]
  },
  {
   "cell_type": "markdown",
   "metadata": {
    "slideshow": {
     "slide_type": "subslide"
    }
   },
   "source": [
    "For applying `prefix_vars()` one needs the _abstract syntax tree_ (AST) of the Python expression involved. We obtain this by invoking `ast.parse()`:"
   ]
  },
  {
   "cell_type": "code",
   "execution_count": 58,
   "metadata": {
    "execution": {
     "iopub.execute_input": "2022-01-24T10:02:36.455374Z",
     "iopub.status.busy": "2022-01-24T10:02:36.454329Z",
     "iopub.status.idle": "2022-01-24T10:02:36.456626Z",
     "shell.execute_reply": "2022-01-24T10:02:36.457263Z"
    },
    "slideshow": {
     "slide_type": "fragment"
    }
   },
   "outputs": [],
   "source": [
    "xy_ast = ast.parse('x+y')"
   ]
  },
  {
   "cell_type": "markdown",
   "metadata": {
    "slideshow": {
     "slide_type": "fragment"
    }
   },
   "source": [
    "We can visualize the resulting tree as follows:"
   ]
  },
  {
   "cell_type": "code",
   "execution_count": 59,
   "metadata": {
    "execution": {
     "iopub.execute_input": "2022-01-24T10:02:36.462326Z",
     "iopub.status.busy": "2022-01-24T10:02:36.461301Z",
     "iopub.status.idle": "2022-01-24T10:02:36.463369Z",
     "shell.execute_reply": "2022-01-24T10:02:36.463887Z"
    },
    "slideshow": {
     "slide_type": "skip"
    }
   },
   "outputs": [],
   "source": [
    "from bookutils import rich_output"
   ]
  },
  {
   "cell_type": "code",
   "execution_count": 60,
   "metadata": {
    "execution": {
     "iopub.execute_input": "2022-01-24T10:02:36.469277Z",
     "iopub.status.busy": "2022-01-24T10:02:36.468300Z",
     "iopub.status.idle": "2022-01-24T10:02:36.472900Z",
     "shell.execute_reply": "2022-01-24T10:02:36.473621Z"
    },
    "slideshow": {
     "slide_type": "fragment"
    }
   },
   "outputs": [],
   "source": [
    "if rich_output():\n",
    "    # Normally, this will do\n",
    "    from showast import show_ast\n",
    "else:\n",
    "    def show_ast(tree):\n",
    "        ast.dump(tree, indent=4)"
   ]
  },
  {
   "cell_type": "code",
   "execution_count": 61,
   "metadata": {
    "execution": {
     "iopub.execute_input": "2022-01-24T10:02:36.478421Z",
     "iopub.status.busy": "2022-01-24T10:02:36.477692Z",
     "iopub.status.idle": "2022-01-24T10:02:37.101506Z",
     "shell.execute_reply": "2022-01-24T10:02:37.101073Z"
    },
    "slideshow": {
     "slide_type": "fragment"
    }
   },
   "outputs": [
    {
     "data": {
      "image/svg+xml": [
       "<svg xmlns=\"http://www.w3.org/2000/svg\" xmlns:xlink=\"http://www.w3.org/1999/xlink\" width=\"296pt\" height=\"260pt\" viewBox=\"0.00 0.00 296.00 260.00\">\n",
       "<g id=\"graph0\" class=\"graph\" transform=\"scale(1 1) rotate(0) translate(4 256)\">\n",
       "<polygon fill=\"white\" stroke=\"transparent\" points=\"-4,4 -4,-256 292,-256 292,4 -4,4\"/>\n",
       "<!-- 0 -->\n",
       "<g id=\"node1\" class=\"node\">\n",
       "<title>0</title>\n",
       "<text text-anchor=\"start\" x=\"118\" y=\"-231.3\" font-family=\"Courier,monospace\" font-weight=\"bold\" font-size=\"14.00\" fill=\"#004080\">Expr</text>\n",
       "</g>\n",
       "<!-- 1 -->\n",
       "<g id=\"node2\" class=\"node\">\n",
       "<title>1</title>\n",
       "<text text-anchor=\"start\" x=\"113.5\" y=\"-159.3\" font-family=\"Courier,monospace\" font-weight=\"bold\" font-size=\"14.00\" fill=\"#004080\">BinOp</text>\n",
       "</g>\n",
       "<!-- 0&#45;&#45;1 -->\n",
       "<g id=\"edge1\" class=\"edge\">\n",
       "<title>0--1</title>\n",
       "<path fill=\"none\" stroke=\"black\" d=\"M135,-215.7C135,-204.85 135,-190.92 135,-180.1\"/>\n",
       "</g>\n",
       "<!-- 2 -->\n",
       "<g id=\"node3\" class=\"node\">\n",
       "<title>2</title>\n",
       "<text text-anchor=\"start\" x=\"46\" y=\"-87.3\" font-family=\"Courier,monospace\" font-weight=\"bold\" font-size=\"14.00\" fill=\"#004080\">Name</text>\n",
       "</g>\n",
       "<!-- 1&#45;&#45;2 -->\n",
       "<g id=\"edge2\" class=\"edge\">\n",
       "<title>1--2</title>\n",
       "<path fill=\"none\" stroke=\"black\" d=\"M135,-143C135,-143 107.57,-123.19 86.58,-108.03\"/>\n",
       "</g>\n",
       "<!-- 5 -->\n",
       "<g id=\"node6\" class=\"node\">\n",
       "<title>5</title>\n",
       "<text text-anchor=\"middle\" x=\"135\" y=\"-86.3\" font-family=\"Courier,monospace\" font-size=\"14.00\" fill=\"#008040\">Add</text>\n",
       "</g>\n",
       "<!-- 1&#45;&#45;5 -->\n",
       "<g id=\"edge5\" class=\"edge\">\n",
       "<title>1--5</title>\n",
       "<path fill=\"none\" stroke=\"black\" d=\"M135,-143C135,-143 135,-123.19 135,-108.03\"/>\n",
       "</g>\n",
       "<!-- 6 -->\n",
       "<g id=\"node7\" class=\"node\">\n",
       "<title>6</title>\n",
       "<text text-anchor=\"start\" x=\"190\" y=\"-87.3\" font-family=\"Courier,monospace\" font-weight=\"bold\" font-size=\"14.00\" fill=\"#004080\">Name</text>\n",
       "</g>\n",
       "<!-- 1&#45;&#45;6 -->\n",
       "<g id=\"edge6\" class=\"edge\">\n",
       "<title>1--6</title>\n",
       "<path fill=\"none\" stroke=\"black\" d=\"M135,-143C135,-143 162.43,-123.19 183.42,-108.03\"/>\n",
       "</g>\n",
       "<!-- 3 -->\n",
       "<g id=\"node4\" class=\"node\">\n",
       "<title>3</title>\n",
       "<text text-anchor=\"middle\" x=\"27\" y=\"-14.3\" font-family=\"Courier,monospace\" font-size=\"14.00\" fill=\"#008040\">&quot;x&quot;</text>\n",
       "</g>\n",
       "<!-- 2&#45;&#45;3 -->\n",
       "<g id=\"edge3\" class=\"edge\">\n",
       "<title>2--3</title>\n",
       "<path fill=\"none\" stroke=\"black\" d=\"M63,-71C63,-71 49.29,-51.19 38.79,-36.03\"/>\n",
       "</g>\n",
       "<!-- 4 -->\n",
       "<g id=\"node5\" class=\"node\">\n",
       "<title>4</title>\n",
       "<text text-anchor=\"middle\" x=\"99\" y=\"-14.3\" font-family=\"Courier,monospace\" font-size=\"14.00\" fill=\"#008040\">Load</text>\n",
       "</g>\n",
       "<!-- 2&#45;&#45;4 -->\n",
       "<g id=\"edge4\" class=\"edge\">\n",
       "<title>2--4</title>\n",
       "<path fill=\"none\" stroke=\"black\" d=\"M63,-71C63,-71 76.71,-51.19 87.21,-36.03\"/>\n",
       "</g>\n",
       "<!-- 7 -->\n",
       "<g id=\"node8\" class=\"node\">\n",
       "<title>7</title>\n",
       "<text text-anchor=\"middle\" x=\"189\" y=\"-14.3\" font-family=\"Courier,monospace\" font-size=\"14.00\" fill=\"#008040\">&quot;y&quot;</text>\n",
       "</g>\n",
       "<!-- 6&#45;&#45;7 -->\n",
       "<g id=\"edge7\" class=\"edge\">\n",
       "<title>6--7</title>\n",
       "<path fill=\"none\" stroke=\"black\" d=\"M211,-71C211,-71 202.62,-51.19 196.2,-36.03\"/>\n",
       "</g>\n",
       "<!-- 8 -->\n",
       "<g id=\"node9\" class=\"node\">\n",
       "<title>8</title>\n",
       "<text text-anchor=\"middle\" x=\"261\" y=\"-14.3\" font-family=\"Courier,monospace\" font-size=\"14.00\" fill=\"#008040\">Load</text>\n",
       "</g>\n",
       "<!-- 6&#45;&#45;8 -->\n",
       "<g id=\"edge8\" class=\"edge\">\n",
       "<title>6--8</title>\n",
       "<path fill=\"none\" stroke=\"black\" d=\"M211,-71C211,-71 230.05,-51.19 244.63,-36.03\"/>\n",
       "</g>\n",
       "</g>\n",
       "</svg>"
      ],
      "text/plain": [
       "<IPython.core.display.SVG object>"
      ]
     },
     "metadata": {},
     "output_type": "display_data"
    }
   ],
   "source": [
    "show_ast(xy_ast)"
   ]
  },
  {
   "cell_type": "markdown",
   "metadata": {
    "slideshow": {
     "slide_type": "subslide"
    }
   },
   "source": [
    "What the visualization does _not_ show, though, is that when parsing Python source code, the resulting AST comes wrapped in a `Module` by default:"
   ]
  },
  {
   "cell_type": "code",
   "execution_count": 62,
   "metadata": {
    "execution": {
     "iopub.execute_input": "2022-01-24T10:02:37.108189Z",
     "iopub.status.busy": "2022-01-24T10:02:37.107112Z",
     "iopub.status.idle": "2022-01-24T10:02:37.110890Z",
     "shell.execute_reply": "2022-01-24T10:02:37.111437Z"
    },
    "slideshow": {
     "slide_type": "fragment"
    }
   },
   "outputs": [
    {
     "data": {
      "text/plain": [
       "<ast.Module at 0x1091e7100>"
      ]
     },
     "execution_count": 62,
     "metadata": {},
     "output_type": "execute_result"
    }
   ],
   "source": [
    "xy_ast"
   ]
  },
  {
   "cell_type": "markdown",
   "metadata": {
    "slideshow": {
     "slide_type": "fragment"
    }
   },
   "source": [
    "And to access the expression (`Expr`), we need to access the first child of that \"module\":"
   ]
  },
  {
   "cell_type": "code",
   "execution_count": 63,
   "metadata": {
    "execution": {
     "iopub.execute_input": "2022-01-24T10:02:37.116258Z",
     "iopub.status.busy": "2022-01-24T10:02:37.115261Z",
     "iopub.status.idle": "2022-01-24T10:02:37.118921Z",
     "shell.execute_reply": "2022-01-24T10:02:37.119464Z"
    },
    "slideshow": {
     "slide_type": "fragment"
    }
   },
   "outputs": [
    {
     "data": {
      "text/plain": [
       "<ast.Expr at 0x1091e73a0>"
      ]
     },
     "execution_count": 63,
     "metadata": {},
     "output_type": "execute_result"
    }
   ],
   "source": [
    "xy_ast.body[0]"
   ]
  },
  {
   "cell_type": "markdown",
   "metadata": {
    "slideshow": {
     "slide_type": "fragment"
    }
   },
   "source": [
    "The actual expression is within that `Expr` object:"
   ]
  },
  {
   "cell_type": "code",
   "execution_count": 64,
   "metadata": {
    "execution": {
     "iopub.execute_input": "2022-01-24T10:02:37.124649Z",
     "iopub.status.busy": "2022-01-24T10:02:37.123855Z",
     "iopub.status.idle": "2022-01-24T10:02:37.126847Z",
     "shell.execute_reply": "2022-01-24T10:02:37.127565Z"
    },
    "slideshow": {
     "slide_type": "fragment"
    }
   },
   "outputs": [
    {
     "data": {
      "text/plain": [
       "<ast.BinOp at 0x1091e7400>"
      ]
     },
     "execution_count": 64,
     "metadata": {},
     "output_type": "execute_result"
    }
   ],
   "source": [
    "xy_ast.body[0].value  # type: ignore"
   ]
  },
  {
   "cell_type": "markdown",
   "metadata": {
    "slideshow": {
     "slide_type": "fragment"
    }
   },
   "source": [
    "Hence, for easier manipulation of an expression AST, we define a function `get_expression()` which unwraps it and returns the AST representation of the expression inside."
   ]
  },
  {
   "cell_type": "code",
   "execution_count": 65,
   "metadata": {
    "execution": {
     "iopub.execute_input": "2022-01-24T10:02:37.133124Z",
     "iopub.status.busy": "2022-01-24T10:02:37.132318Z",
     "iopub.status.idle": "2022-01-24T10:02:37.134585Z",
     "shell.execute_reply": "2022-01-24T10:02:37.135243Z"
    },
    "slideshow": {
     "slide_type": "subslide"
    }
   },
   "outputs": [],
   "source": [
    "def get_expression(src):\n",
    "    return ast.parse(src).body[0].value"
   ]
  },
  {
   "cell_type": "markdown",
   "metadata": {
    "slideshow": {
     "slide_type": "fragment"
    }
   },
   "source": [
    "It is used as follows:"
   ]
  },
  {
   "cell_type": "code",
   "execution_count": 66,
   "metadata": {
    "execution": {
     "iopub.execute_input": "2022-01-24T10:02:37.141478Z",
     "iopub.status.busy": "2022-01-24T10:02:37.140381Z",
     "iopub.status.idle": "2022-01-24T10:02:37.144147Z",
     "shell.execute_reply": "2022-01-24T10:02:37.144579Z"
    },
    "slideshow": {
     "slide_type": "fragment"
    }
   },
   "outputs": [
    {
     "data": {
      "text/plain": [
       "<ast.BinOp at 0x1091e2ca0>"
      ]
     },
     "execution_count": 66,
     "metadata": {},
     "output_type": "execute_result"
    }
   ],
   "source": [
    "e = get_expression('x+y')\n",
    "e"
   ]
  },
  {
   "cell_type": "markdown",
   "metadata": {
    "slideshow": {
     "slide_type": "fragment"
    }
   },
   "source": [
    "The function `to_src()` allows us to *unparse* an expression."
   ]
  },
  {
   "cell_type": "code",
   "execution_count": 67,
   "metadata": {
    "execution": {
     "iopub.execute_input": "2022-01-24T10:02:37.149042Z",
     "iopub.status.busy": "2022-01-24T10:02:37.148395Z",
     "iopub.status.idle": "2022-01-24T10:02:37.150333Z",
     "shell.execute_reply": "2022-01-24T10:02:37.150882Z"
    },
    "slideshow": {
     "slide_type": "fragment"
    }
   },
   "outputs": [],
   "source": [
    "def to_src(astnode):\n",
    "    return ast.unparse(astnode).strip()"
   ]
  },
  {
   "cell_type": "markdown",
   "metadata": {
    "slideshow": {
     "slide_type": "fragment"
    }
   },
   "source": [
    "It is used as follows:"
   ]
  },
  {
   "cell_type": "code",
   "execution_count": 68,
   "metadata": {
    "execution": {
     "iopub.execute_input": "2022-01-24T10:02:37.156525Z",
     "iopub.status.busy": "2022-01-24T10:02:37.154938Z",
     "iopub.status.idle": "2022-01-24T10:02:37.158996Z",
     "shell.execute_reply": "2022-01-24T10:02:37.159469Z"
    },
    "slideshow": {
     "slide_type": "fragment"
    }
   },
   "outputs": [
    {
     "data": {
      "text/plain": [
       "'x + y'"
      ]
     },
     "execution_count": 68,
     "metadata": {},
     "output_type": "execute_result"
    }
   ],
   "source": [
    "to_src(e)"
   ]
  },
  {
   "cell_type": "markdown",
   "metadata": {
    "slideshow": {
     "slide_type": "fragment"
    }
   },
   "source": [
    "We can combine both pieces to produce a prefixed expression. Let us prefix all variables with `x1_`:"
   ]
  },
  {
   "cell_type": "code",
   "execution_count": 69,
   "metadata": {
    "execution": {
     "iopub.execute_input": "2022-01-24T10:02:37.164657Z",
     "iopub.status.busy": "2022-01-24T10:02:37.163978Z",
     "iopub.status.idle": "2022-01-24T10:02:37.171457Z",
     "shell.execute_reply": "2022-01-24T10:02:37.171917Z"
    },
    "slideshow": {
     "slide_type": "subslide"
    }
   },
   "outputs": [
    {
     "name": "stdout",
     "output_type": "stream",
     "text": [
      "z3.Or(z3.And(z3.And(x1_x < 0, x1_v_0 == -x1_x), x1_v == x1_v_0), z3.And(z3.And(z3.Not(x1_x < 0), x1_v_1 == x1_x), x1_v == x1_v_1))\n"
     ]
    }
   ],
   "source": [
    "abs_value_summary_ast = get_expression(str(abs_value_summary))\n",
    "print(to_src(prefix_vars(abs_value_summary_ast, 'x1_')))"
   ]
  },
  {
   "cell_type": "markdown",
   "metadata": {
    "slideshow": {
     "slide_type": "subslide"
    }
   },
   "source": [
    "#### Get Names and Types of Variables Used"
   ]
  },
  {
   "cell_type": "markdown",
   "metadata": {
    "slideshow": {
     "slide_type": "fragment"
    }
   },
   "source": [
    "What about the declarations used? Given that we have all equations in *Z3*, we can retrieve this information directly. We define `z3_names_and_types()` that takes in a *Z3* expression, and extracts the variable definitions required."
   ]
  },
  {
   "cell_type": "code",
   "execution_count": 70,
   "metadata": {
    "execution": {
     "iopub.execute_input": "2022-01-24T10:02:37.179077Z",
     "iopub.status.busy": "2022-01-24T10:02:37.178301Z",
     "iopub.status.idle": "2022-01-24T10:02:37.180399Z",
     "shell.execute_reply": "2022-01-24T10:02:37.180831Z"
    },
    "slideshow": {
     "slide_type": "subslide"
    }
   },
   "outputs": [],
   "source": [
    "def z3_names_and_types(z3_ast):\n",
    "    hm = {}\n",
    "    children = z3_ast.children()\n",
    "    if children:\n",
    "        for c in children:\n",
    "            hm.update(z3_names_and_types(c))\n",
    "    else:\n",
    "        # HACK.. How else to distinguish literals and vars?\n",
    "        if (str(z3_ast.decl()) != str(z3_ast.sort())):\n",
    "            hm[\"%s\" % str(z3_ast.decl())] = 'z3.%s' % str(z3_ast.sort())\n",
    "        else:\n",
    "            pass\n",
    "    return hm"
   ]
  },
  {
   "cell_type": "code",
   "execution_count": 71,
   "metadata": {
    "execution": {
     "iopub.execute_input": "2022-01-24T10:02:37.184876Z",
     "iopub.status.busy": "2022-01-24T10:02:37.184303Z",
     "iopub.status.idle": "2022-01-24T10:02:37.190891Z",
     "shell.execute_reply": "2022-01-24T10:02:37.191378Z"
    },
    "slideshow": {
     "slide_type": "subslide"
    }
   },
   "outputs": [
    {
     "data": {
      "text/plain": [
       "{'x': 'z3.Real', 'v_0': 'z3.Real', 'v': 'z3.Real', 'v_1': 'z3.Real'}"
      ]
     },
     "execution_count": 71,
     "metadata": {},
     "output_type": "execute_result"
    }
   ],
   "source": [
    "abs_value_declarations = z3_names_and_types(abs_value_summary)\n",
    "abs_value_declarations"
   ]
  },
  {
   "cell_type": "markdown",
   "metadata": {
    "slideshow": {
     "slide_type": "fragment"
    }
   },
   "source": [
    "However, `z3_names_and_types()` is limited in that it requires the *Z3* AST to operate. Hence, we also define `used_identifiers()` that can extract  identifiers directly from the string representation of any Python expression, (including *Z3* constraints). One trade-off here is that we lose track of the type information. But we will see how to recover that later."
   ]
  },
  {
   "cell_type": "code",
   "execution_count": 72,
   "metadata": {
    "execution": {
     "iopub.execute_input": "2022-01-24T10:02:37.201588Z",
     "iopub.status.busy": "2022-01-24T10:02:37.200618Z",
     "iopub.status.idle": "2022-01-24T10:02:37.203334Z",
     "shell.execute_reply": "2022-01-24T10:02:37.203822Z"
    },
    "slideshow": {
     "slide_type": "subslide"
    }
   },
   "outputs": [],
   "source": [
    "def used_identifiers(src):\n",
    "    def names(astnode):\n",
    "        lst = []\n",
    "        if isinstance(astnode, ast.BoolOp):\n",
    "            for i in astnode.values:\n",
    "                lst.extend(names(i))\n",
    "        elif isinstance(astnode, ast.BinOp):\n",
    "            lst.extend(names(astnode.left))\n",
    "            lst.extend(names(astnode.right))\n",
    "        elif isinstance(astnode, ast.UnaryOp):\n",
    "            lst.extend(names(astnode.operand))\n",
    "        elif isinstance(astnode, ast.Call):\n",
    "            for i in astnode.args:\n",
    "                lst.extend(names(i))\n",
    "        elif isinstance(astnode, ast.Compare):\n",
    "            lst.extend(names(astnode.left))\n",
    "            for i in astnode.comparators:\n",
    "                lst.extend(names(i))\n",
    "        elif isinstance(astnode, ast.Name):\n",
    "            lst.append(astnode.id)\n",
    "        elif isinstance(astnode, ast.Expr):\n",
    "            lst.extend(names(astnode.value))\n",
    "        elif isinstance(astnode, (ast.Num, ast.Str, ast.Tuple, ast.NameConstant)):\n",
    "            pass\n",
    "        elif isinstance(astnode, ast.Assign):\n",
    "            for t in astnode.targets:\n",
    "                lst.extend(names(t))\n",
    "            lst.extend(names(astnode.value))\n",
    "        elif isinstance(astnode, ast.Module):\n",
    "            for b in astnode.body:\n",
    "                lst.extend(names(b))\n",
    "        else:\n",
    "            raise Exception(str(astnode))\n",
    "        return list(set(lst))\n",
    "    return names(ast.parse(src))"
   ]
  },
  {
   "cell_type": "code",
   "execution_count": 73,
   "metadata": {
    "execution": {
     "iopub.execute_input": "2022-01-24T10:02:37.208709Z",
     "iopub.status.busy": "2022-01-24T10:02:37.207884Z",
     "iopub.status.idle": "2022-01-24T10:02:37.215864Z",
     "shell.execute_reply": "2022-01-24T10:02:37.216430Z"
    },
    "slideshow": {
     "slide_type": "subslide"
    }
   },
   "outputs": [
    {
     "data": {
      "text/plain": [
       "['v_1', 'x', 'v', 'v_0']"
      ]
     },
     "execution_count": 73,
     "metadata": {},
     "output_type": "execute_result"
    }
   ],
   "source": [
    "used_identifiers(str(abs_value_summary))"
   ]
  },
  {
   "cell_type": "markdown",
   "metadata": {
    "slideshow": {
     "slide_type": "fragment"
    }
   },
   "source": [
    "We can now register the function summary `abs_value` for later use."
   ]
  },
  {
   "cell_type": "code",
   "execution_count": 74,
   "metadata": {
    "execution": {
     "iopub.execute_input": "2022-01-24T10:02:37.222024Z",
     "iopub.status.busy": "2022-01-24T10:02:37.221102Z",
     "iopub.status.idle": "2022-01-24T10:02:37.227846Z",
     "shell.execute_reply": "2022-01-24T10:02:37.228269Z"
    },
    "slideshow": {
     "slide_type": "fragment"
    }
   },
   "outputs": [],
   "source": [
    "function_summaries = {}\n",
    "function_summaries['abs_value'] = {\n",
    "    'predicate': str(abs_value_summary),\n",
    "    'vars': abs_value_declarations}"
   ]
  },
  {
   "cell_type": "markdown",
   "metadata": {
    "slideshow": {
     "slide_type": "fragment"
    }
   },
   "source": [
    "As we mentioned previously, we do not want to rely on *Z3* to extract the type information. A better alternative is to let the user specify the type information as annotations, and extract this information from the program. We will see next how this can be achieved.\n",
    "\n",
    "First, we convert the *Python type to Z3 type* map to its string equivalent."
   ]
  },
  {
   "cell_type": "code",
   "execution_count": 75,
   "metadata": {
    "execution": {
     "iopub.execute_input": "2022-01-24T10:02:37.234403Z",
     "iopub.status.busy": "2022-01-24T10:02:37.233234Z",
     "iopub.status.idle": "2022-01-24T10:02:37.238427Z",
     "shell.execute_reply": "2022-01-24T10:02:37.239114Z"
    },
    "slideshow": {
     "slide_type": "subslide"
    }
   },
   "outputs": [
    {
     "data": {
      "text/plain": [
       "{'int': ('z3.Int', 'z3.IntVal'),\n",
       " 'float': ('z3.Real', 'z3.RealVal'),\n",
       " 'str': ('z3.String', 'z3.StringVal')}"
      ]
     },
     "execution_count": 75,
     "metadata": {},
     "output_type": "execute_result"
    }
   ],
   "source": [
    "SYM_VARS_STR = {\n",
    "    k.__name__: (\"z3.%s\" % v1.__name__, \"z3.%s\" % v2.__name__)\n",
    "    for k, (v1, v2) in SYM_VARS.items()\n",
    "}\n",
    "SYM_VARS_STR"
   ]
  },
  {
   "cell_type": "markdown",
   "metadata": {
    "slideshow": {
     "slide_type": "fragment"
    }
   },
   "source": [
    "We also define a convenience method `translate_to_z3_name()` for accessing the *Z3* type for symbolic variables."
   ]
  },
  {
   "cell_type": "code",
   "execution_count": 76,
   "metadata": {
    "execution": {
     "iopub.execute_input": "2022-01-24T10:02:37.244769Z",
     "iopub.status.busy": "2022-01-24T10:02:37.243775Z",
     "iopub.status.idle": "2022-01-24T10:02:37.246485Z",
     "shell.execute_reply": "2022-01-24T10:02:37.247170Z"
    },
    "slideshow": {
     "slide_type": "fragment"
    }
   },
   "outputs": [],
   "source": [
    "def translate_to_z3_name(v):\n",
    "    return SYM_VARS_STR[v][0]"
   ]
  },
  {
   "cell_type": "markdown",
   "metadata": {
    "slideshow": {
     "slide_type": "subslide"
    }
   },
   "source": [
    "We now define the method `declarations()` that extracts variables used in Python _statements_. The idea is to look for augmented assignments that contain annotated type information. These are collected and returned.\n",
    "\n",
    "If there are `call` nodes, they represent function calls. The used variables in these function calls are recovered from the corresponding function summaries."
   ]
  },
  {
   "cell_type": "code",
   "execution_count": 77,
   "metadata": {
    "execution": {
     "iopub.execute_input": "2022-01-24T10:02:37.258842Z",
     "iopub.status.busy": "2022-01-24T10:02:37.257947Z",
     "iopub.status.idle": "2022-01-24T10:02:37.260934Z",
     "shell.execute_reply": "2022-01-24T10:02:37.261588Z"
    },
    "slideshow": {
     "slide_type": "subslide"
    }
   },
   "outputs": [],
   "source": [
    "def declarations(astnode, hm=None):\n",
    "    if hm is None:\n",
    "        hm = {}\n",
    "    if isinstance(astnode, ast.Module):\n",
    "        for b in astnode.body:\n",
    "            declarations(b, hm)\n",
    "    elif isinstance(astnode, ast.FunctionDef):\n",
    "        # hm[astnode.name + '__return__'] = \\\n",
    "        # translate_to_z3_name(astnode.returns.id)\n",
    "        for a in astnode.args.args:\n",
    "            hm[a.arg] = translate_to_z3_name(a.annotation.id)\n",
    "        for b in astnode.body:\n",
    "            declarations(b, hm)\n",
    "    elif isinstance(astnode, ast.Call):\n",
    "        # get declarations from the function summary.\n",
    "        n = astnode.function\n",
    "        assert isinstance(n, ast.Name)  # for now.\n",
    "        name = n.id\n",
    "        hm.update(dict(function_summaries[name]['vars']))\n",
    "    elif isinstance(astnode, ast.AnnAssign):\n",
    "        assert isinstance(astnode.target, ast.Name)\n",
    "        hm[astnode.target.id] = translate_to_z3_name(astnode.annotation.id)\n",
    "    elif isinstance(astnode, ast.Assign):\n",
    "        # verify it is already defined\n",
    "        for t in astnode.targets:\n",
    "            assert isinstance(t, ast.Name)\n",
    "            assert t.id in hm\n",
    "    elif isinstance(astnode, ast.AugAssign):\n",
    "        assert isinstance(astnode.target, ast.Name)\n",
    "        assert astnode.target.id in hm\n",
    "    elif isinstance(astnode, (ast.If, ast.For, ast.While)):\n",
    "        for b in astnode.body:\n",
    "            declarations(b, hm)\n",
    "        for b in astnode.orelse:\n",
    "            declarations(b, hm)\n",
    "    elif isinstance(astnode, ast.Return):\n",
    "        pass\n",
    "    else:\n",
    "        raise Exception(str(astnode))\n",
    "    return hm"
   ]
  },
  {
   "cell_type": "markdown",
   "metadata": {
    "slideshow": {
     "slide_type": "subslide"
    }
   },
   "source": [
    "With this, we can now extract the variables used in an expression."
   ]
  },
  {
   "cell_type": "code",
   "execution_count": 78,
   "metadata": {
    "execution": {
     "iopub.execute_input": "2022-01-24T10:02:37.267398Z",
     "iopub.status.busy": "2022-01-24T10:02:37.266574Z",
     "iopub.status.idle": "2022-01-24T10:02:37.270371Z",
     "shell.execute_reply": "2022-01-24T10:02:37.270891Z"
    },
    "slideshow": {
     "slide_type": "fragment"
    }
   },
   "outputs": [
    {
     "data": {
      "text/plain": [
       "{'s': 'z3.Int', 'p': 'z3.Real'}"
      ]
     },
     "execution_count": 78,
     "metadata": {},
     "output_type": "execute_result"
    }
   ],
   "source": [
    "declarations(ast.parse('s: int = 3\\np: float = 4.0\\ns += 1'))"
   ]
  },
  {
   "cell_type": "markdown",
   "metadata": {
    "slideshow": {
     "slide_type": "fragment"
    }
   },
   "source": [
    "We wrap `declarations()` in the method `used_vars()` that operates directly on function objects."
   ]
  },
  {
   "cell_type": "code",
   "execution_count": 79,
   "metadata": {
    "execution": {
     "iopub.execute_input": "2022-01-24T10:02:37.278086Z",
     "iopub.status.busy": "2022-01-24T10:02:37.276899Z",
     "iopub.status.idle": "2022-01-24T10:02:37.279548Z",
     "shell.execute_reply": "2022-01-24T10:02:37.280307Z"
    },
    "slideshow": {
     "slide_type": "fragment"
    }
   },
   "outputs": [],
   "source": [
    "def used_vars(fn):\n",
    "    return declarations(ast.parse(inspect.getsource(fn)))"
   ]
  },
  {
   "cell_type": "markdown",
   "metadata": {
    "slideshow": {
     "slide_type": "fragment"
    }
   },
   "source": [
    "Here is how it can be used:"
   ]
  },
  {
   "cell_type": "code",
   "execution_count": 80,
   "metadata": {
    "execution": {
     "iopub.execute_input": "2022-01-24T10:02:37.288460Z",
     "iopub.status.busy": "2022-01-24T10:02:37.286072Z",
     "iopub.status.idle": "2022-01-24T10:02:37.294157Z",
     "shell.execute_reply": "2022-01-24T10:02:37.293520Z"
    },
    "slideshow": {
     "slide_type": "fragment"
    }
   },
   "outputs": [
    {
     "data": {
      "text/plain": [
       "{'a': 'z3.Int', 'b': 'z3.Int', 'c': 'z3.Int'}"
      ]
     },
     "execution_count": 80,
     "metadata": {},
     "output_type": "execute_result"
    }
   ],
   "source": [
    "used_vars(check_triangle)"
   ]
  },
  {
   "cell_type": "code",
   "execution_count": 81,
   "metadata": {
    "execution": {
     "iopub.execute_input": "2022-01-24T10:02:37.300286Z",
     "iopub.status.busy": "2022-01-24T10:02:37.298544Z",
     "iopub.status.idle": "2022-01-24T10:02:37.303711Z",
     "shell.execute_reply": "2022-01-24T10:02:37.304555Z"
    },
    "slideshow": {
     "slide_type": "fragment"
    }
   },
   "outputs": [
    {
     "data": {
      "text/plain": [
       "{'x': 'z3.Real', 'v': 'z3.Real'}"
      ]
     },
     "execution_count": 81,
     "metadata": {},
     "output_type": "execute_result"
    }
   ],
   "source": [
    "used_vars(abs_value)"
   ]
  },
  {
   "cell_type": "markdown",
   "metadata": {
    "slideshow": {
     "slide_type": "subslide"
    }
   },
   "source": [
    "Given the extracted variables and their *Z3* types, we need a way to reinstantiate them when needed. We define `define_symbolic_vars()` that translates these descriptions to a form that can be directly `exec()`ed."
   ]
  },
  {
   "cell_type": "code",
   "execution_count": 82,
   "metadata": {
    "execution": {
     "iopub.execute_input": "2022-01-24T10:02:37.311698Z",
     "iopub.status.busy": "2022-01-24T10:02:37.310642Z",
     "iopub.status.idle": "2022-01-24T10:02:37.312928Z",
     "shell.execute_reply": "2022-01-24T10:02:37.313411Z"
    },
    "slideshow": {
     "slide_type": "fragment"
    }
   },
   "outputs": [],
   "source": [
    "def define_symbolic_vars(fn_vars, prefix):\n",
    "    sym_var_dec = ', '.join([prefix + n for n in fn_vars])\n",
    "    sym_var_def = ', '.join([\"%s('%s%s')\" % (t, prefix, n)\n",
    "                             for n, t in fn_vars.items()])\n",
    "    return \"%s = %s\" % (sym_var_dec, sym_var_def)"
   ]
  },
  {
   "cell_type": "markdown",
   "metadata": {
    "slideshow": {
     "slide_type": "fragment"
    }
   },
   "source": [
    "Here is how it can be used:"
   ]
  },
  {
   "cell_type": "code",
   "execution_count": 83,
   "metadata": {
    "execution": {
     "iopub.execute_input": "2022-01-24T10:02:37.320124Z",
     "iopub.status.busy": "2022-01-24T10:02:37.319075Z",
     "iopub.status.idle": "2022-01-24T10:02:37.322981Z",
     "shell.execute_reply": "2022-01-24T10:02:37.323498Z"
    },
    "slideshow": {
     "slide_type": "fragment"
    }
   },
   "outputs": [
    {
     "data": {
      "text/plain": [
       "\"x, v_0, v, v_1 = z3.Real('x'), z3.Real('v_0'), z3.Real('v'), z3.Real('v_1')\""
      ]
     },
     "execution_count": 83,
     "metadata": {},
     "output_type": "execute_result"
    }
   ],
   "source": [
    "define_symbolic_vars(abs_value_declarations, '')"
   ]
  },
  {
   "cell_type": "markdown",
   "metadata": {
    "slideshow": {
     "slide_type": "fragment"
    }
   },
   "source": [
    "We next define `gen_fn_summary()` that returns a function summary in instantiable form using *Z3*. "
   ]
  },
  {
   "cell_type": "code",
   "execution_count": 84,
   "metadata": {
    "execution": {
     "iopub.execute_input": "2022-01-24T10:02:37.329701Z",
     "iopub.status.busy": "2022-01-24T10:02:37.328651Z",
     "iopub.status.idle": "2022-01-24T10:02:37.330914Z",
     "shell.execute_reply": "2022-01-24T10:02:37.331501Z"
    },
    "slideshow": {
     "slide_type": "subslide"
    }
   },
   "outputs": [],
   "source": [
    "def gen_fn_summary(prefix, fn):\n",
    "    summary = function_summaries[fn.__name__]['predicate']\n",
    "    fn_vars = function_summaries[fn.__name__]['vars']\n",
    "    decl = define_symbolic_vars(fn_vars, prefix)\n",
    "    summary_ast = get_expression(summary)\n",
    "    return decl, to_src(prefix_vars(summary_ast, prefix))"
   ]
  },
  {
   "cell_type": "markdown",
   "metadata": {
    "slideshow": {
     "slide_type": "fragment"
    }
   },
   "source": [
    "Here is how it can be used:"
   ]
  },
  {
   "cell_type": "code",
   "execution_count": 85,
   "metadata": {
    "execution": {
     "iopub.execute_input": "2022-01-24T10:02:37.339226Z",
     "iopub.status.busy": "2022-01-24T10:02:37.338006Z",
     "iopub.status.idle": "2022-01-24T10:02:37.342915Z",
     "shell.execute_reply": "2022-01-24T10:02:37.343939Z"
    },
    "slideshow": {
     "slide_type": "fragment"
    }
   },
   "outputs": [
    {
     "data": {
      "text/plain": [
       "(\"a_x, a_v_0, a_v, a_v_1 = z3.Real('a_x'), z3.Real('a_v_0'), z3.Real('a_v'), z3.Real('a_v_1')\",\n",
       " 'z3.Or(z3.And(z3.And(a_x < 0, a_v_0 == -a_x), a_v == a_v_0), z3.And(z3.And(z3.Not(a_x < 0), a_v_1 == a_x), a_v == a_v_1))')"
      ]
     },
     "execution_count": 85,
     "metadata": {},
     "output_type": "execute_result"
    }
   ],
   "source": [
    "gen_fn_summary('a_', abs_value)"
   ]
  },
  {
   "cell_type": "code",
   "execution_count": 86,
   "metadata": {
    "execution": {
     "iopub.execute_input": "2022-01-24T10:02:37.350816Z",
     "iopub.status.busy": "2022-01-24T10:02:37.349820Z",
     "iopub.status.idle": "2022-01-24T10:02:37.354072Z",
     "shell.execute_reply": "2022-01-24T10:02:37.354747Z"
    },
    "slideshow": {
     "slide_type": "fragment"
    }
   },
   "outputs": [
    {
     "data": {
      "text/plain": [
       "(\"b_x, b_v_0, b_v, b_v_1 = z3.Real('b_x'), z3.Real('b_v_0'), z3.Real('b_v'), z3.Real('b_v_1')\",\n",
       " 'z3.Or(z3.And(z3.And(b_x < 0, b_v_0 == -b_x), b_v == b_v_0), z3.And(z3.And(z3.Not(b_x < 0), b_v_1 == b_x), b_v == b_v_1))')"
      ]
     },
     "execution_count": 86,
     "metadata": {},
     "output_type": "execute_result"
    }
   ],
   "source": [
    "gen_fn_summary('b_', abs_value)"
   ]
  },
  {
   "cell_type": "markdown",
   "metadata": {
    "slideshow": {
     "slide_type": "fragment"
    }
   },
   "source": [
    "How do we use our function summaries? Here is a function `abs_max()` that uses `abs_value()`."
   ]
  },
  {
   "cell_type": "code",
   "execution_count": 87,
   "metadata": {
    "execution": {
     "iopub.execute_input": "2022-01-24T10:02:37.361671Z",
     "iopub.status.busy": "2022-01-24T10:02:37.360708Z",
     "iopub.status.idle": "2022-01-24T10:02:37.363393Z",
     "shell.execute_reply": "2022-01-24T10:02:37.363874Z"
    },
    "slideshow": {
     "slide_type": "subslide"
    }
   },
   "outputs": [],
   "source": [
    "def abs_max(a: float, b: float):\n",
    "    a1: float = abs_value(a)\n",
    "    b1: float = abs_value(b)\n",
    "    if a1 > b1:\n",
    "        c: float = a1  # type: ignore\n",
    "    else:\n",
    "        c: float = b1  # type: ignore\n",
    "    return c"
   ]
  },
  {
   "cell_type": "markdown",
   "metadata": {
    "slideshow": {
     "slide_type": "fragment"
    }
   },
   "source": [
    "To trace this function symbolically, we first define the two variables `a` and `b`."
   ]
  },
  {
   "cell_type": "code",
   "execution_count": 88,
   "metadata": {
    "execution": {
     "iopub.execute_input": "2022-01-24T10:02:37.370026Z",
     "iopub.status.busy": "2022-01-24T10:02:37.368617Z",
     "iopub.status.idle": "2022-01-24T10:02:37.372164Z",
     "shell.execute_reply": "2022-01-24T10:02:37.374508Z"
    },
    "slideshow": {
     "slide_type": "fragment"
    }
   },
   "outputs": [],
   "source": [
    "a = z3.Real('a')\n",
    "b = z3.Real('b')"
   ]
  },
  {
   "cell_type": "markdown",
   "metadata": {
    "slideshow": {
     "slide_type": "fragment"
    }
   },
   "source": [
    "The `line: 2` contains definition for `a1`, which we define as a symbolic variable."
   ]
  },
  {
   "cell_type": "code",
   "execution_count": 89,
   "metadata": {
    "execution": {
     "iopub.execute_input": "2022-01-24T10:02:37.390084Z",
     "iopub.status.busy": "2022-01-24T10:02:37.389339Z",
     "iopub.status.idle": "2022-01-24T10:02:37.391809Z",
     "shell.execute_reply": "2022-01-24T10:02:37.392262Z"
    },
    "slideshow": {
     "slide_type": "fragment"
    }
   },
   "outputs": [],
   "source": [
    "a1 = z3.Real('a1')"
   ]
  },
  {
   "cell_type": "markdown",
   "metadata": {
    "slideshow": {
     "slide_type": "subslide"
    }
   },
   "source": [
    "We also need to call `abs_value()`, which is accomplished as follows. Since this is the first call to `abs_value()`, we use `abs1` as the prefix."
   ]
  },
  {
   "cell_type": "code",
   "execution_count": 90,
   "metadata": {
    "execution": {
     "iopub.execute_input": "2022-01-24T10:02:37.398367Z",
     "iopub.status.busy": "2022-01-24T10:02:37.397420Z",
     "iopub.status.idle": "2022-01-24T10:02:37.401882Z",
     "shell.execute_reply": "2022-01-24T10:02:37.402551Z"
    },
    "slideshow": {
     "slide_type": "fragment"
    }
   },
   "outputs": [
    {
     "data": {
      "text/plain": [
       "(\"abs1_x, abs1_v_0, abs1_v, abs1_v_1 = z3.Real('abs1_x'), z3.Real('abs1_v_0'), z3.Real('abs1_v'), z3.Real('abs1_v_1')\",\n",
       " 'z3.Or(z3.And(z3.And(abs1_x < 0, abs1_v_0 == -abs1_x), abs1_v == abs1_v_0), z3.And(z3.And(z3.Not(abs1_x < 0), abs1_v_1 == abs1_x), abs1_v == abs1_v_1))')"
      ]
     },
     "execution_count": 90,
     "metadata": {},
     "output_type": "execute_result"
    }
   ],
   "source": [
    "d, v = gen_fn_summary('abs1_', abs_value)\n",
    "d, v"
   ]
  },
  {
   "cell_type": "markdown",
   "metadata": {
    "slideshow": {
     "slide_type": "fragment"
    }
   },
   "source": [
    "We also need to equate the resulting value (`<prefix>_v`) to the symbolic variable `a1` we defined earlier."
   ]
  },
  {
   "cell_type": "code",
   "execution_count": 91,
   "metadata": {
    "execution": {
     "iopub.execute_input": "2022-01-24T10:02:37.408537Z",
     "iopub.status.busy": "2022-01-24T10:02:37.407563Z",
     "iopub.status.idle": "2022-01-24T10:02:37.411569Z",
     "shell.execute_reply": "2022-01-24T10:02:37.412207Z"
    },
    "slideshow": {
     "slide_type": "fragment"
    }
   },
   "outputs": [
    {
     "data": {
      "text/plain": [
       "'l2 = z3.And(a == abs1_x, a1 == abs1_v, z3.Or(z3.And(z3.And(abs1_x < 0, abs1_v_0 == -abs1_x), abs1_v == abs1_v_0), z3.And(z3.And(z3.Not(abs1_x < 0), abs1_v_1 == abs1_x), abs1_v == abs1_v_1)))'"
      ]
     },
     "execution_count": 91,
     "metadata": {},
     "output_type": "execute_result"
    }
   ],
   "source": [
    "l2_src = \"l2 = z3.And(a == abs1_x, a1 == abs1_v, %s)\" % v\n",
    "l2_src"
   ]
  },
  {
   "cell_type": "markdown",
   "metadata": {
    "slideshow": {
     "slide_type": "fragment"
    }
   },
   "source": [
    "Applying both declaration and the assignment."
   ]
  },
  {
   "cell_type": "code",
   "execution_count": 92,
   "metadata": {
    "execution": {
     "iopub.execute_input": "2022-01-24T10:02:37.417367Z",
     "iopub.status.busy": "2022-01-24T10:02:37.416547Z",
     "iopub.status.idle": "2022-01-24T10:02:37.421388Z",
     "shell.execute_reply": "2022-01-24T10:02:37.420649Z"
    },
    "slideshow": {
     "slide_type": "fragment"
    }
   },
   "outputs": [],
   "source": [
    "exec(d)\n",
    "exec(l2_src)"
   ]
  },
  {
   "cell_type": "code",
   "execution_count": 93,
   "metadata": {
    "execution": {
     "iopub.execute_input": "2022-01-24T10:02:37.425915Z",
     "iopub.status.busy": "2022-01-24T10:02:37.425306Z",
     "iopub.status.idle": "2022-01-24T10:02:37.441902Z",
     "shell.execute_reply": "2022-01-24T10:02:37.442649Z"
    },
    "slideshow": {
     "slide_type": "subslide"
    }
   },
   "outputs": [
    {
     "data": {
      "text/html": [
       "a = abs1_x &and;\n",
       "a1 = abs1_v &and;\n",
       "(abs1_x &lt; 0 &and; abs1_v_0 = -abs1_x &and; abs1_v = abs1_v_0 &or;\n",
       " &not;(abs1_x &lt; 0) &and; abs1_v_1 = abs1_x &and; abs1_v = abs1_v_1)"
      ],
      "text/plain": [
       "And(a == abs1_x,\n",
       "    a1 == abs1_v,\n",
       "    Or(And(And(abs1_x < 0, abs1_v_0 == -abs1_x),\n",
       "           abs1_v == abs1_v_0),\n",
       "       And(And(Not(abs1_x < 0), abs1_v_1 == abs1_x),\n",
       "           abs1_v == abs1_v_1)))"
      ]
     },
     "execution_count": 93,
     "metadata": {},
     "output_type": "execute_result"
    }
   ],
   "source": [
    "l2  # type: ignore"
   ]
  },
  {
   "cell_type": "markdown",
   "metadata": {
    "slideshow": {
     "slide_type": "fragment"
    }
   },
   "source": [
    "We need to do the same for `line: 3`, but with `abs2` as the prefix."
   ]
  },
  {
   "cell_type": "code",
   "execution_count": 94,
   "metadata": {
    "execution": {
     "iopub.execute_input": "2022-01-24T10:02:37.448677Z",
     "iopub.status.busy": "2022-01-24T10:02:37.447934Z",
     "iopub.status.idle": "2022-01-24T10:02:37.452588Z",
     "shell.execute_reply": "2022-01-24T10:02:37.453076Z"
    },
    "slideshow": {
     "slide_type": "fragment"
    }
   },
   "outputs": [],
   "source": [
    "b1 = z3.Real('b1')\n",
    "d, v = gen_fn_summary('abs2_', abs_value)\n",
    "l3_src = \"l3_ = z3.And(b == abs2_x, b1 == abs2_v, %s)\" % v\n",
    "exec(d)\n",
    "exec(l3_src)"
   ]
  },
  {
   "cell_type": "code",
   "execution_count": 95,
   "metadata": {
    "execution": {
     "iopub.execute_input": "2022-01-24T10:02:37.459133Z",
     "iopub.status.busy": "2022-01-24T10:02:37.458152Z",
     "iopub.status.idle": "2022-01-24T10:02:37.474511Z",
     "shell.execute_reply": "2022-01-24T10:02:37.475286Z"
    },
    "slideshow": {
     "slide_type": "subslide"
    }
   },
   "outputs": [
    {
     "data": {
      "text/html": [
       "b = abs2_x &and;\n",
       "b1 = abs2_v &and;\n",
       "(abs2_x &lt; 0 &and; abs2_v_0 = -abs2_x &and; abs2_v = abs2_v_0 &or;\n",
       " &not;(abs2_x &lt; 0) &and; abs2_v_1 = abs2_x &and; abs2_v = abs2_v_1)"
      ],
      "text/plain": [
       "And(b == abs2_x,\n",
       "    b1 == abs2_v,\n",
       "    Or(And(And(abs2_x < 0, abs2_v_0 == -abs2_x),\n",
       "           abs2_v == abs2_v_0),\n",
       "       And(And(Not(abs2_x < 0), abs2_v_1 == abs2_x),\n",
       "           abs2_v == abs2_v_1)))"
      ]
     },
     "execution_count": 95,
     "metadata": {},
     "output_type": "execute_result"
    }
   ],
   "source": [
    "l3_  # type: ignore"
   ]
  },
  {
   "cell_type": "markdown",
   "metadata": {
    "slideshow": {
     "slide_type": "fragment"
    }
   },
   "source": [
    "To get the true set of predicates at `line: 3`, we need to add the predicates from `line: 2`."
   ]
  },
  {
   "cell_type": "code",
   "execution_count": 96,
   "metadata": {
    "execution": {
     "iopub.execute_input": "2022-01-24T10:02:37.480837Z",
     "iopub.status.busy": "2022-01-24T10:02:37.480148Z",
     "iopub.status.idle": "2022-01-24T10:02:37.483761Z",
     "shell.execute_reply": "2022-01-24T10:02:37.483153Z"
    },
    "slideshow": {
     "slide_type": "fragment"
    }
   },
   "outputs": [],
   "source": [
    "l3 = z3.And(l2, l3_)  # type: ignore"
   ]
  },
  {
   "cell_type": "code",
   "execution_count": 97,
   "metadata": {
    "execution": {
     "iopub.execute_input": "2022-01-24T10:02:37.488952Z",
     "iopub.status.busy": "2022-01-24T10:02:37.488285Z",
     "iopub.status.idle": "2022-01-24T10:02:37.535475Z",
     "shell.execute_reply": "2022-01-24T10:02:37.536330Z"
    },
    "slideshow": {
     "slide_type": "subslide"
    }
   },
   "outputs": [
    {
     "data": {
      "text/html": [
       "a = abs1_x &and;\n",
       "a1 = abs1_v &and;\n",
       "(abs1_x &lt; 0 &and; abs1_v_0 = -abs1_x &and; abs1_v = abs1_v_0 &or;\n",
       " &not;(abs1_x &lt; 0) &and; abs1_v_1 = abs1_x &and; abs1_v = abs1_v_1) &and;\n",
       "b = abs2_x &and;\n",
       "b1 = abs2_v &and;\n",
       "(abs2_x &lt; 0 &and; abs2_v_0 = -abs2_x &and; abs2_v = abs2_v_0 &or;\n",
       " &not;(abs2_x &lt; 0) &and; abs2_v_1 = abs2_x &and; abs2_v = abs2_v_1)"
      ],
      "text/plain": [
       "And(And(a == abs1_x,\n",
       "        a1 == abs1_v,\n",
       "        Or(And(And(abs1_x < 0, abs1_v_0 == -abs1_x),\n",
       "               abs1_v == abs1_v_0),\n",
       "           And(And(Not(abs1_x < 0), abs1_v_1 == abs1_x),\n",
       "               abs1_v == abs1_v_1))),\n",
       "    And(b == abs2_x,\n",
       "        b1 == abs2_v,\n",
       "        Or(And(And(abs2_x < 0, abs2_v_0 == -abs2_x),\n",
       "               abs2_v == abs2_v_0),\n",
       "           And(And(Not(abs2_x < 0), abs2_v_1 == abs2_x),\n",
       "               abs2_v == abs2_v_1))))"
      ]
     },
     "execution_count": 97,
     "metadata": {},
     "output_type": "execute_result"
    }
   ],
   "source": [
    "l3"
   ]
  },
  {
   "cell_type": "markdown",
   "metadata": {
    "slideshow": {
     "slide_type": "fragment"
    }
   },
   "source": [
    "This equation can be simplified a bit using z3."
   ]
  },
  {
   "cell_type": "code",
   "execution_count": 98,
   "metadata": {
    "execution": {
     "iopub.execute_input": "2022-01-24T10:02:37.541906Z",
     "iopub.status.busy": "2022-01-24T10:02:37.541263Z",
     "iopub.status.idle": "2022-01-24T10:02:37.587013Z",
     "shell.execute_reply": "2022-01-24T10:02:37.587807Z"
    },
    "slideshow": {
     "slide_type": "subslide"
    }
   },
   "outputs": [
    {
     "data": {
      "text/html": [
       "a = abs1_x &and;\n",
       "a1 = abs1_v &and;\n",
       "(&not;(0 &le; abs1_x) &and; abs1_v_0 = -1&middot;abs1_x &and; abs1_v = abs1_v_0 &or;\n",
       " 0 &le; abs1_x &and; abs1_v_1 = abs1_x &and; abs1_v = abs1_v_1) &and;\n",
       "b = abs2_x &and;\n",
       "b1 = abs2_v &and;\n",
       "(&not;(0 &le; abs2_x) &and; abs2_v_0 = -1&middot;abs2_x &and; abs2_v = abs2_v_0 &or;\n",
       " 0 &le; abs2_x &and; abs2_v_1 = abs2_x &and; abs2_v = abs2_v_1)"
      ],
      "text/plain": [
       "And(a == abs1_x,\n",
       "    a1 == abs1_v,\n",
       "    Or(And(Not(0 <= abs1_x),\n",
       "           abs1_v_0 == -1*abs1_x,\n",
       "           abs1_v == abs1_v_0),\n",
       "       And(0 <= abs1_x,\n",
       "           abs1_v_1 == abs1_x,\n",
       "           abs1_v == abs1_v_1)),\n",
       "    b == abs2_x,\n",
       "    b1 == abs2_v,\n",
       "    Or(And(Not(0 <= abs2_x),\n",
       "           abs2_v_0 == -1*abs2_x,\n",
       "           abs2_v == abs2_v_0),\n",
       "       And(0 <= abs2_x,\n",
       "           abs2_v_1 == abs2_x,\n",
       "           abs2_v == abs2_v_1)))"
      ]
     },
     "execution_count": 98,
     "metadata": {},
     "output_type": "execute_result"
    }
   ],
   "source": [
    "z3.simplify(l3)"
   ]
  },
  {
   "cell_type": "markdown",
   "metadata": {
    "slideshow": {
     "slide_type": "subslide"
    }
   },
   "source": [
    "Coming to `line: 4`, we have a condition."
   ]
  },
  {
   "cell_type": "code",
   "execution_count": 99,
   "metadata": {
    "execution": {
     "iopub.execute_input": "2022-01-24T10:02:37.596681Z",
     "iopub.status.busy": "2022-01-24T10:02:37.593994Z",
     "iopub.status.idle": "2022-01-24T10:02:37.599841Z",
     "shell.execute_reply": "2022-01-24T10:02:37.600469Z"
    },
    "slideshow": {
     "slide_type": "fragment"
    }
   },
   "outputs": [],
   "source": [
    "l4_cond = a1 > b1\n",
    "l4 = z3.And(l3, l4_cond)"
   ]
  },
  {
   "cell_type": "markdown",
   "metadata": {
    "slideshow": {
     "slide_type": "fragment"
    }
   },
   "source": [
    "For `line: 5`, we define the symbolic variable `c_0` assuming we took the *IF* branch."
   ]
  },
  {
   "cell_type": "code",
   "execution_count": 100,
   "metadata": {
    "execution": {
     "iopub.execute_input": "2022-01-24T10:02:37.606362Z",
     "iopub.status.busy": "2022-01-24T10:02:37.605223Z",
     "iopub.status.idle": "2022-01-24T10:02:37.609436Z",
     "shell.execute_reply": "2022-01-24T10:02:37.610334Z"
    },
    "slideshow": {
     "slide_type": "fragment"
    }
   },
   "outputs": [],
   "source": [
    "c_0 = z3.Real('c_0')\n",
    "l5 = z3.And(l4, c_0 == a1)"
   ]
  },
  {
   "cell_type": "markdown",
   "metadata": {
    "slideshow": {
     "slide_type": "fragment"
    }
   },
   "source": [
    "For `line: 6`, the *ELSE* branch was taken. So we invert that condition."
   ]
  },
  {
   "cell_type": "code",
   "execution_count": 101,
   "metadata": {
    "execution": {
     "iopub.execute_input": "2022-01-24T10:02:37.617042Z",
     "iopub.status.busy": "2022-01-24T10:02:37.616081Z",
     "iopub.status.idle": "2022-01-24T10:02:37.618913Z",
     "shell.execute_reply": "2022-01-24T10:02:37.619475Z"
    },
    "slideshow": {
     "slide_type": "fragment"
    }
   },
   "outputs": [],
   "source": [
    "l6 = z3.And(l3, z3.Not(l4_cond))"
   ]
  },
  {
   "cell_type": "markdown",
   "metadata": {
    "slideshow": {
     "slide_type": "fragment"
    }
   },
   "source": [
    "For `line: 7`, we define `c_1`."
   ]
  },
  {
   "cell_type": "code",
   "execution_count": 102,
   "metadata": {
    "execution": {
     "iopub.execute_input": "2022-01-24T10:02:37.626362Z",
     "iopub.status.busy": "2022-01-24T10:02:37.625289Z",
     "iopub.status.idle": "2022-01-24T10:02:37.628889Z",
     "shell.execute_reply": "2022-01-24T10:02:37.629646Z"
    },
    "slideshow": {
     "slide_type": "fragment"
    }
   },
   "outputs": [],
   "source": [
    "c_1 = z3.Real('c_1')\n",
    "l7 = z3.And(l6, c_1 == b1)"
   ]
  },
  {
   "cell_type": "code",
   "execution_count": 103,
   "metadata": {
    "execution": {
     "iopub.execute_input": "2022-01-24T10:02:37.637741Z",
     "iopub.status.busy": "2022-01-24T10:02:37.635654Z",
     "iopub.status.idle": "2022-01-24T10:02:37.663724Z",
     "shell.execute_reply": "2022-01-24T10:02:37.664169Z"
    },
    "slideshow": {
     "slide_type": "subslide"
    }
   },
   "outputs": [
    {
     "data": {
      "text/html": [
       "<b>sat</b>"
      ],
      "text/plain": [
       "sat"
      ]
     },
     "execution_count": 103,
     "metadata": {},
     "output_type": "execute_result"
    }
   ],
   "source": [
    "s1 = z3.Solver()\n",
    "s1.add(l5)\n",
    "s1.check()"
   ]
  },
  {
   "cell_type": "code",
   "execution_count": 104,
   "metadata": {
    "execution": {
     "iopub.execute_input": "2022-01-24T10:02:37.674412Z",
     "iopub.status.busy": "2022-01-24T10:02:37.673436Z",
     "iopub.status.idle": "2022-01-24T10:02:37.679660Z",
     "shell.execute_reply": "2022-01-24T10:02:37.680384Z"
    },
    "slideshow": {
     "slide_type": "fragment"
    }
   },
   "outputs": [
    {
     "data": {
      "text/plain": [
       "[(a, 1/2), (a1, 1/2), (b, -1/4), (b1, 1/4), (c_0, 1/2)]"
      ]
     },
     "execution_count": 104,
     "metadata": {},
     "output_type": "execute_result"
    }
   ],
   "source": [
    "m1 = s1.model()\n",
    "sorted([(d, m1[d]) for d in m1.decls() if not d.name(\n",
    ").startswith('abs')], key=lambda x: x[0].name())"
   ]
  },
  {
   "cell_type": "code",
   "execution_count": 105,
   "metadata": {
    "execution": {
     "iopub.execute_input": "2022-01-24T10:02:37.686190Z",
     "iopub.status.busy": "2022-01-24T10:02:37.685176Z",
     "iopub.status.idle": "2022-01-24T10:02:37.710549Z",
     "shell.execute_reply": "2022-01-24T10:02:37.711118Z"
    },
    "slideshow": {
     "slide_type": "fragment"
    }
   },
   "outputs": [
    {
     "data": {
      "text/html": [
       "<b>sat</b>"
      ],
      "text/plain": [
       "sat"
      ]
     },
     "execution_count": 105,
     "metadata": {},
     "output_type": "execute_result"
    }
   ],
   "source": [
    "s2 = z3.Solver()\n",
    "s2.add(l7)\n",
    "s2.check()"
   ]
  },
  {
   "cell_type": "code",
   "execution_count": 106,
   "metadata": {
    "execution": {
     "iopub.execute_input": "2022-01-24T10:02:37.718995Z",
     "iopub.status.busy": "2022-01-24T10:02:37.717898Z",
     "iopub.status.idle": "2022-01-24T10:02:37.723954Z",
     "shell.execute_reply": "2022-01-24T10:02:37.724615Z"
    },
    "slideshow": {
     "slide_type": "subslide"
    }
   },
   "outputs": [
    {
     "data": {
      "text/plain": [
       "[(a, -1/2), (a1, 1/2), (b, 1/2), (b1, 1/2), (c_1, 1/2)]"
      ]
     },
     "execution_count": 106,
     "metadata": {},
     "output_type": "execute_result"
    }
   ],
   "source": [
    "m2 = s2.model()\n",
    "sorted([(d, m2[d]) for d in m2.decls() if not d.name(\n",
    ").startswith('abs')], key=lambda x: x[0].name())"
   ]
  },
  {
   "cell_type": "markdown",
   "metadata": {
    "slideshow": {
     "slide_type": "fragment"
    }
   },
   "source": [
    "What we really want to do is to automate this process, because doing this by hand is tedious and error prone. Essentially, we want the ability to extract *all paths* in the program, and symbolically execute each path, which will generate the inputs required to cover all reachable portions of the program."
   ]
  },
  {
   "cell_type": "markdown",
   "metadata": {
    "slideshow": {
     "slide_type": "slide"
    }
   },
   "source": [
    "## Simple Symbolic Fuzzing"
   ]
  },
  {
   "cell_type": "markdown",
   "metadata": {
    "slideshow": {
     "slide_type": "subslide"
    }
   },
   "source": [
    "We define a simple *symbolic fuzzer* that can generate input values *symbolically* with the following assumptions:\n",
    "\n",
    "* There are no loops in the program\n",
    "* The function is self contained.\n",
    "* No recursion.\n",
    "* No reassignments for variables.\n",
    "\n",
    "The key idea is as follows: We traverse through the control flow graph from the entry point, and generate all possible paths to a given depth. Then we collect constraints that we encountered along the path, and generate inputs that will traverse the program up to that point."
   ]
  },
  {
   "cell_type": "markdown",
   "metadata": {
    "slideshow": {
     "slide_type": "subslide"
    }
   },
   "source": [
    "We build our fuzzer based on the class `Fuzzer`."
   ]
  },
  {
   "cell_type": "code",
   "execution_count": 107,
   "metadata": {
    "execution": {
     "iopub.execute_input": "2022-01-24T10:02:37.732038Z",
     "iopub.status.busy": "2022-01-24T10:02:37.731136Z",
     "iopub.status.idle": "2022-01-24T10:02:37.733606Z",
     "shell.execute_reply": "2022-01-24T10:02:37.734263Z"
    },
    "slideshow": {
     "slide_type": "skip"
    }
   },
   "outputs": [],
   "source": [
    "from Fuzzer import Fuzzer"
   ]
  },
  {
   "cell_type": "markdown",
   "metadata": {
    "slideshow": {
     "slide_type": "fragment"
    }
   },
   "source": [
    "We start by extracting the control flow graph of the function passed. We also provide a hook for child classes to do their processing."
   ]
  },
  {
   "cell_type": "code",
   "execution_count": 108,
   "metadata": {
    "execution": {
     "iopub.execute_input": "2022-01-24T10:02:37.749000Z",
     "iopub.status.busy": "2022-01-24T10:02:37.747572Z",
     "iopub.status.idle": "2022-01-24T10:02:37.757345Z",
     "shell.execute_reply": "2022-01-24T10:02:37.759023Z"
    },
    "slideshow": {
     "slide_type": "subslide"
    }
   },
   "outputs": [],
   "source": [
    "class SimpleSymbolicFuzzer(Fuzzer):\n",
    "    \"\"\"Simple symbolic fuzzer\"\"\"\n",
    "\n",
    "    def __init__(self, fn, **kwargs):\n",
    "        \"\"\"Constructor.\n",
    "        `fn` is the function to be fuzzed.\n",
    "        Possible keyword parameters:\n",
    "        * `max_depth` - the depth to which one should attempt\n",
    "          to trace the execution (default 100) \n",
    "        * `max_tries` - the maximum number of attempts\n",
    "          we will try to produce a value before giving up (default 100)\n",
    "        * `max_iter` - the number of iterations we will attempt (default 100).\n",
    "        \"\"\"\n",
    "        self.fn_name = fn.__name__\n",
    "        py_cfg = PyCFG()\n",
    "        py_cfg.gen_cfg(inspect.getsource(fn))\n",
    "        self.fnenter, self.fnexit = py_cfg.functions[self.fn_name]\n",
    "        self.used_variables = used_vars(fn)\n",
    "        self.fn_args = list(inspect.signature(fn).parameters)\n",
    "        self.z3 = z3.Solver()\n",
    "\n",
    "        self.paths = None\n",
    "        self.last_path = None\n",
    "\n",
    "        self.options(kwargs)\n",
    "        self.process()\n",
    "\n",
    "    def process(self):\n",
    "        ...  # to be defined later"
   ]
  },
  {
   "cell_type": "markdown",
   "metadata": {
    "slideshow": {
     "slide_type": "subslide"
    }
   },
   "source": [
    "We need a few variables to control how much we are willing to traverse."
   ]
  },
  {
   "cell_type": "markdown",
   "metadata": {
    "slideshow": {
     "slide_type": "fragment"
    }
   },
   "source": [
    "`MAX_DEPTH` is the depth to which one should attempt to trace the execution."
   ]
  },
  {
   "cell_type": "code",
   "execution_count": 109,
   "metadata": {
    "execution": {
     "iopub.execute_input": "2022-01-24T10:02:37.770145Z",
     "iopub.status.busy": "2022-01-24T10:02:37.767765Z",
     "iopub.status.idle": "2022-01-24T10:02:37.773011Z",
     "shell.execute_reply": "2022-01-24T10:02:37.773757Z"
    },
    "slideshow": {
     "slide_type": "fragment"
    }
   },
   "outputs": [],
   "source": [
    "MAX_DEPTH = 100"
   ]
  },
  {
   "cell_type": "markdown",
   "metadata": {
    "slideshow": {
     "slide_type": "fragment"
    }
   },
   "source": [
    "`MAX_TRIES` is the maximum number of attempts we will try to produce a value before giving up."
   ]
  },
  {
   "cell_type": "code",
   "execution_count": 110,
   "metadata": {
    "execution": {
     "iopub.execute_input": "2022-01-24T10:02:37.781316Z",
     "iopub.status.busy": "2022-01-24T10:02:37.780338Z",
     "iopub.status.idle": "2022-01-24T10:02:37.783442Z",
     "shell.execute_reply": "2022-01-24T10:02:37.782480Z"
    },
    "slideshow": {
     "slide_type": "fragment"
    }
   },
   "outputs": [],
   "source": [
    "MAX_TRIES = 100"
   ]
  },
  {
   "cell_type": "markdown",
   "metadata": {
    "slideshow": {
     "slide_type": "fragment"
    }
   },
   "source": [
    "`MAX_ITER` is the number of iterations we will attempt."
   ]
  },
  {
   "cell_type": "code",
   "execution_count": 111,
   "metadata": {
    "execution": {
     "iopub.execute_input": "2022-01-24T10:02:37.789228Z",
     "iopub.status.busy": "2022-01-24T10:02:37.787971Z",
     "iopub.status.idle": "2022-01-24T10:02:37.791018Z",
     "shell.execute_reply": "2022-01-24T10:02:37.791917Z"
    },
    "slideshow": {
     "slide_type": "fragment"
    }
   },
   "outputs": [],
   "source": [
    "MAX_ITER = 100"
   ]
  },
  {
   "cell_type": "markdown",
   "metadata": {
    "slideshow": {
     "slide_type": "fragment"
    }
   },
   "source": [
    "The `options()` method sets these parameters in the fuzzing class."
   ]
  },
  {
   "cell_type": "code",
   "execution_count": 112,
   "metadata": {
    "execution": {
     "iopub.execute_input": "2022-01-24T10:02:37.801786Z",
     "iopub.status.busy": "2022-01-24T10:02:37.800237Z",
     "iopub.status.idle": "2022-01-24T10:02:37.803420Z",
     "shell.execute_reply": "2022-01-24T10:02:37.804198Z"
    },
    "slideshow": {
     "slide_type": "subslide"
    }
   },
   "outputs": [],
   "source": [
    "class SimpleSymbolicFuzzer(SimpleSymbolicFuzzer):\n",
    "    def options(self, kwargs):\n",
    "        self.max_depth = kwargs.get('max_depth', MAX_DEPTH)\n",
    "        self.max_tries = kwargs.get('max_tries', MAX_TRIES)\n",
    "        self.max_iter = kwargs.get('max_iter', MAX_ITER)\n",
    "        self._options = kwargs"
   ]
  },
  {
   "cell_type": "markdown",
   "metadata": {
    "slideshow": {
     "slide_type": "fragment"
    }
   },
   "source": [
    "The initialization generates a control flow graph and hooks it to `fnenter` and `fnexit`."
   ]
  },
  {
   "cell_type": "code",
   "execution_count": 113,
   "metadata": {
    "execution": {
     "iopub.execute_input": "2022-01-24T10:02:37.812805Z",
     "iopub.status.busy": "2022-01-24T10:02:37.810969Z",
     "iopub.status.idle": "2022-01-24T10:02:37.816000Z",
     "shell.execute_reply": "2022-01-24T10:02:37.816826Z"
    },
    "slideshow": {
     "slide_type": "fragment"
    }
   },
   "outputs": [],
   "source": [
    "symfz_ct = SimpleSymbolicFuzzer(check_triangle)"
   ]
  },
  {
   "cell_type": "code",
   "execution_count": 114,
   "metadata": {
    "execution": {
     "iopub.execute_input": "2022-01-24T10:02:37.824903Z",
     "iopub.status.busy": "2022-01-24T10:02:37.823777Z",
     "iopub.status.idle": "2022-01-24T10:02:37.828518Z",
     "shell.execute_reply": "2022-01-24T10:02:37.829273Z"
    },
    "slideshow": {
     "slide_type": "fragment"
    }
   },
   "outputs": [
    {
     "data": {
      "text/plain": [
       "(id:9 line[1] parents: [] : enter: check_triangle(a, b, c),\n",
       " id:10 line[1] parents: [14, 15, 16, 19, 20, 21] : exit: check_triangle(a, b, c))"
      ]
     },
     "execution_count": 114,
     "metadata": {},
     "output_type": "execute_result"
    }
   ],
   "source": [
    "symfz_ct.fnenter, symfz_ct.fnexit"
   ]
  },
  {
   "cell_type": "markdown",
   "metadata": {
    "slideshow": {
     "slide_type": "subslide"
    }
   },
   "source": [
    "### Generating All Possible Paths\n",
    "We can use the procedure `get_all_paths()` starting from `fnenter` to recursively retrieve all paths in the function.\n",
    "\n",
    "The idea is as follows: Start with the function entry point `fnenter`, and recursively follow the children using the CFG. At any node there is a branching, there would be multiple children. On other nodes there would be only one child. Let us say a node had $n$ children. Such a node would result in $n$ paths. We attach the current node to the head of each paths, and return all paths thus generated."
   ]
  },
  {
   "cell_type": "code",
   "execution_count": 115,
   "metadata": {
    "execution": {
     "iopub.execute_input": "2022-01-24T10:02:37.838893Z",
     "iopub.status.busy": "2022-01-24T10:02:37.837214Z",
     "iopub.status.idle": "2022-01-24T10:02:37.840515Z",
     "shell.execute_reply": "2022-01-24T10:02:37.841719Z"
    },
    "slideshow": {
     "slide_type": "subslide"
    }
   },
   "outputs": [],
   "source": [
    "class SimpleSymbolicFuzzer(SimpleSymbolicFuzzer):\n",
    "    def get_all_paths(self, fenter, depth=0):\n",
    "        if depth > self.max_depth:\n",
    "            raise Exception('Maximum depth exceeded')\n",
    "        if not fenter.children:\n",
    "            return [[(0, fenter)]]\n",
    "\n",
    "        fnpaths = []\n",
    "        for idx, child in enumerate(fenter.children):\n",
    "            child_paths = self.get_all_paths(child, depth + 1)\n",
    "            for path in child_paths:\n",
    "                # In a conditional branch, idx is 0 for IF, and 1 for Else\n",
    "                fnpaths.append([(idx, fenter)] + path)\n",
    "        return fnpaths"
   ]
  },
  {
   "cell_type": "markdown",
   "metadata": {
    "slideshow": {
     "slide_type": "fragment"
    }
   },
   "source": [
    "This can be used as follows."
   ]
  },
  {
   "cell_type": "code",
   "execution_count": 116,
   "metadata": {
    "execution": {
     "iopub.execute_input": "2022-01-24T10:02:37.851574Z",
     "iopub.status.busy": "2022-01-24T10:02:37.849544Z",
     "iopub.status.idle": "2022-01-24T10:02:37.854584Z",
     "shell.execute_reply": "2022-01-24T10:02:37.855316Z"
    },
    "slideshow": {
     "slide_type": "subslide"
    }
   },
   "outputs": [],
   "source": [
    "symfz_ct = SimpleSymbolicFuzzer(check_triangle)\n",
    "all_paths = symfz_ct.get_all_paths(symfz_ct.fnenter)"
   ]
  },
  {
   "cell_type": "code",
   "execution_count": 117,
   "metadata": {
    "execution": {
     "iopub.execute_input": "2022-01-24T10:02:37.862977Z",
     "iopub.status.busy": "2022-01-24T10:02:37.861793Z",
     "iopub.status.idle": "2022-01-24T10:02:37.866696Z",
     "shell.execute_reply": "2022-01-24T10:02:37.867773Z"
    },
    "slideshow": {
     "slide_type": "fragment"
    }
   },
   "outputs": [
    {
     "data": {
      "text/plain": [
       "6"
      ]
     },
     "execution_count": 117,
     "metadata": {},
     "output_type": "execute_result"
    }
   ],
   "source": [
    "len(all_paths)"
   ]
  },
  {
   "cell_type": "code",
   "execution_count": 118,
   "metadata": {
    "execution": {
     "iopub.execute_input": "2022-01-24T10:02:37.874584Z",
     "iopub.status.busy": "2022-01-24T10:02:37.873609Z",
     "iopub.status.idle": "2022-01-24T10:02:37.879481Z",
     "shell.execute_reply": "2022-01-24T10:02:37.880407Z"
    },
    "slideshow": {
     "slide_type": "fragment"
    }
   },
   "outputs": [
    {
     "data": {
      "text/plain": [
       "[(0, id:24 line[1] parents: [] : enter: check_triangle(a, b, c)),\n",
       " (0, id:26 line[2] parents: [24] : _if: a == b),\n",
       " (0, id:27 line[3] parents: [26] : _if: a == c),\n",
       " (1, id:28 line[4] parents: [27] : _if: b == c),\n",
       " (0, id:30 line[7] parents: [28] : return 'Isosceles'),\n",
       " (0,\n",
       "  id:25 line[1] parents: [29, 30, 31, 34, 35, 36] : exit: check_triangle(a, b, c))]"
      ]
     },
     "execution_count": 118,
     "metadata": {},
     "output_type": "execute_result"
    }
   ],
   "source": [
    "all_paths[1]"
   ]
  },
  {
   "cell_type": "markdown",
   "metadata": {
    "slideshow": {
     "slide_type": "fragment"
    }
   },
   "source": [
    "We hook `get_all_paths()` to initialization as below."
   ]
  },
  {
   "cell_type": "code",
   "execution_count": 119,
   "metadata": {
    "execution": {
     "iopub.execute_input": "2022-01-24T10:02:37.887938Z",
     "iopub.status.busy": "2022-01-24T10:02:37.886640Z",
     "iopub.status.idle": "2022-01-24T10:02:37.889995Z",
     "shell.execute_reply": "2022-01-24T10:02:37.890804Z"
    },
    "slideshow": {
     "slide_type": "subslide"
    }
   },
   "outputs": [],
   "source": [
    "class SimpleSymbolicFuzzer(SimpleSymbolicFuzzer):\n",
    "    def process(self):\n",
    "        self.paths = self.get_all_paths(self.fnenter)\n",
    "        self.last_path = len(self.paths)"
   ]
  },
  {
   "cell_type": "markdown",
   "metadata": {
    "slideshow": {
     "slide_type": "subslide"
    }
   },
   "source": [
    "### Extracting All Constraints\n",
    "\n",
    "For any given path, we define a function `extract_constraints()` to extract the constraints such that they are executable directly with *Z3*. The `idx` represents the particular branch that was taken. Hence, if the `False` branch was taken in a conditional, we attach a negation of the conditional."
   ]
  },
  {
   "cell_type": "code",
   "execution_count": 120,
   "metadata": {
    "execution": {
     "iopub.execute_input": "2022-01-24T10:02:37.903071Z",
     "iopub.status.busy": "2022-01-24T10:02:37.901506Z",
     "iopub.status.idle": "2022-01-24T10:02:37.904377Z",
     "shell.execute_reply": "2022-01-24T10:02:37.905228Z"
    },
    "slideshow": {
     "slide_type": "subslide"
    }
   },
   "outputs": [],
   "source": [
    "class SimpleSymbolicFuzzer(SimpleSymbolicFuzzer):\n",
    "    def extract_constraints(self, path):\n",
    "        predicates = []\n",
    "        for (idx, elt) in path:\n",
    "            if isinstance(elt.ast_node, ast.AnnAssign):\n",
    "                if elt.ast_node.target.id in {'_if', '_while'}:\n",
    "                    s = to_src(elt.ast_node.annotation)\n",
    "                    predicates.append((\"%s\" if idx == 0 else \"z3.Not(%s)\") % s)\n",
    "                elif isinstance(elt.ast_node.annotation, ast.Call):\n",
    "                    assert elt.ast_node.annotation.func.id == self.fn_name\n",
    "                else:\n",
    "                    node = elt.ast_node\n",
    "                    t = ast.Compare(node.target, [ast.Eq()], [node.value])\n",
    "                    predicates.append(to_src(t))\n",
    "            elif isinstance(elt.ast_node, ast.Assign):\n",
    "                node = elt.ast_node\n",
    "                t = ast.Compare(node.targets[0], [ast.Eq()], [node.value])\n",
    "                predicates.append(to_src(t))\n",
    "            else:\n",
    "                pass\n",
    "        return predicates"
   ]
  },
  {
   "cell_type": "code",
   "execution_count": 121,
   "metadata": {
    "execution": {
     "iopub.execute_input": "2022-01-24T10:02:37.914704Z",
     "iopub.status.busy": "2022-01-24T10:02:37.912671Z",
     "iopub.status.idle": "2022-01-24T10:02:37.920770Z",
     "shell.execute_reply": "2022-01-24T10:02:37.921397Z"
    },
    "slideshow": {
     "slide_type": "subslide"
    }
   },
   "outputs": [
    {
     "data": {
      "text/plain": [
       "['a == b', 'a == c', 'b == c']"
      ]
     },
     "execution_count": 121,
     "metadata": {},
     "output_type": "execute_result"
    }
   ],
   "source": [
    "symfz_ct = SimpleSymbolicFuzzer(check_triangle)\n",
    "all_paths = symfz_ct.get_all_paths(symfz_ct.fnenter)\n",
    "symfz_ct.extract_constraints(all_paths[0])"
   ]
  },
  {
   "cell_type": "code",
   "execution_count": 122,
   "metadata": {
    "execution": {
     "iopub.execute_input": "2022-01-24T10:02:37.929092Z",
     "iopub.status.busy": "2022-01-24T10:02:37.927636Z",
     "iopub.status.idle": "2022-01-24T10:02:37.932398Z",
     "shell.execute_reply": "2022-01-24T10:02:37.933258Z"
    },
    "slideshow": {
     "slide_type": "fragment"
    }
   },
   "outputs": [
    {
     "data": {
      "text/plain": [
       "['a == b', 'a == c', 'z3.Not(b == c)']"
      ]
     },
     "execution_count": 122,
     "metadata": {},
     "output_type": "execute_result"
    }
   ],
   "source": [
    "constraints = symfz_ct.extract_constraints(all_paths[1])\n",
    "constraints"
   ]
  },
  {
   "cell_type": "markdown",
   "metadata": {
    "slideshow": {
     "slide_type": "subslide"
    }
   },
   "source": [
    "### Fuzzing with Simple Symbolic Fuzzer\n",
    "\n",
    "To actually generate solutions, we define `fuzz()`. For that, we need to first extract all paths. Then choose a particular path, and extract the constraints in that path, which is then solved using *z3*."
   ]
  },
  {
   "cell_type": "code",
   "execution_count": 123,
   "metadata": {
    "execution": {
     "iopub.execute_input": "2022-01-24T10:02:37.940487Z",
     "iopub.status.busy": "2022-01-24T10:02:37.939463Z",
     "iopub.status.idle": "2022-01-24T10:02:37.944060Z",
     "shell.execute_reply": "2022-01-24T10:02:37.943090Z"
    },
    "slideshow": {
     "slide_type": "skip"
    }
   },
   "outputs": [],
   "source": [
    "from contextlib import contextmanager"
   ]
  },
  {
   "cell_type": "markdown",
   "metadata": {
    "slideshow": {
     "slide_type": "fragment"
    }
   },
   "source": [
    "First we create a checkpoint for our current solver so that we can check a predicate, and rollback if necessary."
   ]
  },
  {
   "cell_type": "code",
   "execution_count": 124,
   "metadata": {
    "execution": {
     "iopub.execute_input": "2022-01-24T10:02:37.950474Z",
     "iopub.status.busy": "2022-01-24T10:02:37.949394Z",
     "iopub.status.idle": "2022-01-24T10:02:37.953036Z",
     "shell.execute_reply": "2022-01-24T10:02:37.953556Z"
    },
    "slideshow": {
     "slide_type": "fragment"
    }
   },
   "outputs": [],
   "source": [
    "@contextmanager\n",
    "def checkpoint(z3solver):\n",
    "    z3solver.push()\n",
    "    yield z3solver\n",
    "    z3solver.pop()"
   ]
  },
  {
   "cell_type": "markdown",
   "metadata": {
    "slideshow": {
     "slide_type": "subslide"
    }
   },
   "source": [
    "The `use_path()` function extracts constraints for a single function, applies it to our current solver (under a checkpoint), and returns the results if some solutions can be found.\n",
    "If solutions were found, we also make sure that we never reuse those solutions."
   ]
  },
  {
   "cell_type": "code",
   "execution_count": 125,
   "metadata": {
    "execution": {
     "iopub.execute_input": "2022-01-24T10:02:37.964962Z",
     "iopub.status.busy": "2022-01-24T10:02:37.964026Z",
     "iopub.status.idle": "2022-01-24T10:02:37.967333Z",
     "shell.execute_reply": "2022-01-24T10:02:37.968118Z"
    },
    "slideshow": {
     "slide_type": "subslide"
    }
   },
   "outputs": [],
   "source": [
    "class SimpleSymbolicFuzzer(SimpleSymbolicFuzzer):\n",
    "    def solve_path_constraint(self, path):\n",
    "        # re-initializing does not seem problematic.\n",
    "        # a = z3.Int('a').get_id() remains the same.\n",
    "        constraints = self.extract_constraints(path)\n",
    "        decl = define_symbolic_vars(self.used_variables, '')\n",
    "        exec(decl)\n",
    "\n",
    "        solutions = {}\n",
    "        with checkpoint(self.z3):\n",
    "            st = 'self.z3.add(%s)' % ', '.join(constraints)\n",
    "            eval(st)\n",
    "            if self.z3.check() != z3.sat:\n",
    "                return {}\n",
    "            m = self.z3.model()\n",
    "            solutions = {d.name(): m[d] for d in m.decls()}\n",
    "            my_args = {k: solutions.get(k, None) for k in self.fn_args}\n",
    "        predicate = 'z3.And(%s)' % ','.join(\n",
    "            [\"%s == %s\" % (k, v) for k, v in my_args.items()])\n",
    "        eval('self.z3.add(z3.Not(%s))' % predicate)\n",
    "        return my_args"
   ]
  },
  {
   "cell_type": "markdown",
   "metadata": {
    "slideshow": {
     "slide_type": "subslide"
    }
   },
   "source": [
    "We define `get_path()` that retrieves the current path and updates the path used."
   ]
  },
  {
   "cell_type": "code",
   "execution_count": 126,
   "metadata": {
    "execution": {
     "iopub.execute_input": "2022-01-24T10:02:37.975866Z",
     "iopub.status.busy": "2022-01-24T10:02:37.974489Z",
     "iopub.status.idle": "2022-01-24T10:02:37.979781Z",
     "shell.execute_reply": "2022-01-24T10:02:37.980413Z"
    },
    "slideshow": {
     "slide_type": "fragment"
    }
   },
   "outputs": [],
   "source": [
    "class SimpleSymbolicFuzzer(SimpleSymbolicFuzzer):\n",
    "    def get_next_path(self):\n",
    "        self.last_path -= 1\n",
    "        if self.last_path == -1:\n",
    "            self.last_path = len(self.paths) - 1\n",
    "        return self.paths[self.last_path]"
   ]
  },
  {
   "cell_type": "markdown",
   "metadata": {
    "slideshow": {
     "slide_type": "fragment"
    }
   },
   "source": [
    "The `fuzz()` method simply solves each path in order."
   ]
  },
  {
   "cell_type": "code",
   "execution_count": 127,
   "metadata": {
    "execution": {
     "iopub.execute_input": "2022-01-24T10:02:37.988137Z",
     "iopub.status.busy": "2022-01-24T10:02:37.986678Z",
     "iopub.status.idle": "2022-01-24T10:02:37.990119Z",
     "shell.execute_reply": "2022-01-24T10:02:37.991088Z"
    },
    "slideshow": {
     "slide_type": "subslide"
    }
   },
   "outputs": [],
   "source": [
    "class SimpleSymbolicFuzzer(SimpleSymbolicFuzzer):\n",
    "    def fuzz(self):\n",
    "        \"\"\"Produce one solution for each path.\n",
    "        Returns a mapping of variable names to (symbolic) Z3 values.\"\"\"\n",
    "        for i in range(self.max_tries):\n",
    "            res = self.solve_path_constraint(self.get_next_path())\n",
    "            if res:\n",
    "                return res\n",
    "\n",
    "        return {}"
   ]
  },
  {
   "cell_type": "markdown",
   "metadata": {
    "slideshow": {
     "slide_type": "fragment"
    }
   },
   "source": [
    "The fuzzer can be used as follows. Note that we need to convert the symbolic variables returned to Python numbers, using `as_long()`:"
   ]
  },
  {
   "cell_type": "code",
   "execution_count": 128,
   "metadata": {
    "execution": {
     "iopub.execute_input": "2022-01-24T10:02:38.001532Z",
     "iopub.status.busy": "2022-01-24T10:02:37.999199Z",
     "iopub.status.idle": "2022-01-24T10:02:38.061099Z",
     "shell.execute_reply": "2022-01-24T10:02:38.062189Z"
    },
    "slideshow": {
     "slide_type": "subslide"
    }
   },
   "outputs": [
    {
     "name": "stdout",
     "output_type": "stream",
     "text": [
      "{'a': 2, 'b': 3, 'c': 3} result: Isosceles\n",
      "{'a': 6, 'b': 5, 'c': 4} result: Scalene\n",
      "{'a': 7, 'b': 8, 'c': 7} result: Isosceles\n",
      "{'a': 10, 'b': 10, 'c': 9} result: Isosceles\n",
      "{'a': 11, 'b': 11, 'c': 11} result: Equilateral\n",
      "{'a': 13, 'b': 12, 'c': 12} result: Isosceles\n",
      "{'a': 16, 'b': 15, 'c': 14} result: Scalene\n",
      "{'a': 17, 'b': 18, 'c': 17} result: Isosceles\n",
      "{'a': 20, 'b': 20, 'c': 19} result: Isosceles\n"
     ]
    }
   ],
   "source": [
    "a, b, c = None, None, None\n",
    "symfz_ct = SimpleSymbolicFuzzer(check_triangle)\n",
    "for i in range(1, 10):\n",
    "    args = symfz_ct.fuzz()\n",
    "    res = check_triangle(args['a'].as_long(),\n",
    "                         args['b'].as_long(),\n",
    "                         args['c'].as_long())\n",
    "    print(args, \"result:\", res)"
   ]
  },
  {
   "cell_type": "markdown",
   "metadata": {
    "slideshow": {
     "slide_type": "subslide"
    }
   },
   "source": [
    "For symbolic fractions, we access their numerators and denominators:"
   ]
  },
  {
   "cell_type": "code",
   "execution_count": 129,
   "metadata": {
    "execution": {
     "iopub.execute_input": "2022-01-24T10:02:38.071778Z",
     "iopub.status.busy": "2022-01-24T10:02:38.070682Z",
     "iopub.status.idle": "2022-01-24T10:02:38.114157Z",
     "shell.execute_reply": "2022-01-24T10:02:38.114721Z"
    },
    "slideshow": {
     "slide_type": "subslide"
    }
   },
   "outputs": [
    {
     "name": "stdout",
     "output_type": "stream",
     "text": [
      "{'x': 0} result: 0.0\n",
      "{'x': -1/2} result: 0.5\n",
      "{'x': 1/2} result: 0.5\n",
      "{'x': -1/4} result: 0.25\n",
      "{'x': 3/2} result: 1.5\n",
      "{'x': -3/8} result: 0.375\n",
      "{'x': 5/2} result: 2.5\n",
      "{'x': -1/8} result: 0.125\n",
      "{'x': 2} result: 2.0\n"
     ]
    }
   ],
   "source": [
    "symfz_av = SimpleSymbolicFuzzer(abs_value)\n",
    "for i in range(1, 10):\n",
    "    args = symfz_av.fuzz()\n",
    "    abs_res = abs_value(args['x'].numerator_as_long() /\n",
    "                        args['x'].denominator_as_long())\n",
    "    print(args, \"result:\", abs_res)"
   ]
  },
  {
   "cell_type": "markdown",
   "metadata": {
    "slideshow": {
     "slide_type": "subslide"
    }
   },
   "source": [
    "The _SimpleSymbolicFuzzer_ seems to work well for the _simple_ programs we checked above."
   ]
  },
  {
   "cell_type": "markdown",
   "metadata": {
    "slideshow": {
     "slide_type": "subslide"
    }
   },
   "source": [
    "### Problems with the Simple Fuzzer\n",
    "\n",
    "As we mentioned earlier, the `SimpleSymbolicFuzzer` cannot yet deal with variable reassignments. Further, it also fails to account for any loops. For example, consider the following program."
   ]
  },
  {
   "cell_type": "code",
   "execution_count": 130,
   "metadata": {
    "execution": {
     "iopub.execute_input": "2022-01-24T10:02:38.123752Z",
     "iopub.status.busy": "2022-01-24T10:02:38.122124Z",
     "iopub.status.idle": "2022-01-24T10:02:38.124785Z",
     "shell.execute_reply": "2022-01-24T10:02:38.125498Z"
    },
    "slideshow": {
     "slide_type": "subslide"
    }
   },
   "outputs": [],
   "source": [
    "def gcd(a: int, b: int) -> int:\n",
    "    if a < b:\n",
    "        c: int = a  # type: ignore\n",
    "        a = b\n",
    "        b = c\n",
    "\n",
    "    while b != 0:\n",
    "        c: int = a  # type: ignore\n",
    "        a = b\n",
    "        b = c % b\n",
    "\n",
    "    return a"
   ]
  },
  {
   "cell_type": "code",
   "execution_count": 131,
   "metadata": {
    "execution": {
     "iopub.execute_input": "2022-01-24T10:02:38.132886Z",
     "iopub.status.busy": "2022-01-24T10:02:38.129732Z",
     "iopub.status.idle": "2022-01-24T10:02:38.946885Z",
     "shell.execute_reply": "2022-01-24T10:02:38.948278Z"
    },
    "slideshow": {
     "slide_type": "fragment"
    }
   },
   "outputs": [
    {
     "data": {
      "image/svg+xml": [
       "<?xml version=\"1.0\" encoding=\"UTF-8\" standalone=\"no\"?>\n",
       "<!DOCTYPE svg PUBLIC \"-//W3C//DTD SVG 1.1//EN\"\n",
       " \"http://www.w3.org/Graphics/SVG/1.1/DTD/svg11.dtd\">\n",
       "<!-- Generated by graphviz version 2.49.3 (20211023.0002)\n",
       " -->\n",
       "<!-- Pages: 1 -->\n",
       "<svg width=\"288pt\" height=\"672pt\"\n",
       " viewBox=\"0.00 0.00 287.52 672.00\" xmlns=\"http://www.w3.org/2000/svg\" xmlns:xlink=\"http://www.w3.org/1999/xlink\">\n",
       "<g id=\"graph0\" class=\"graph\" transform=\"scale(1 1) rotate(0) translate(4 668)\">\n",
       "<polygon fill=\"white\" stroke=\"transparent\" points=\"-4,4 -4,-668 283.52,-668 283.52,4 -4,4\"/>\n",
       "<!-- 1 -->\n",
       "<g id=\"node1\" class=\"node\">\n",
       "<title>1</title>\n",
       "<ellipse fill=\"none\" stroke=\"black\" cx=\"175.84\" cy=\"-642\" rx=\"75.29\" ry=\"18\"/>\n",
       "<ellipse fill=\"none\" stroke=\"black\" cx=\"175.84\" cy=\"-642\" rx=\"79.29\" ry=\"22\"/>\n",
       "<text text-anchor=\"middle\" x=\"175.84\" y=\"-638.3\" font-family=\"Times,serif\" font-size=\"14.00\">1: enter: gcd(a, b)</text>\n",
       "</g>\n",
       "<!-- 3 -->\n",
       "<g id=\"node4\" class=\"node\">\n",
       "<title>3</title>\n",
       "<polygon fill=\"none\" stroke=\"black\" points=\"175.84,-583 106.97,-565 175.84,-547 244.72,-565 175.84,-583\"/>\n",
       "<text text-anchor=\"middle\" x=\"175.84\" y=\"-561.3\" font-family=\"Times,serif\" font-size=\"14.00\">2: if: a &lt; b</text>\n",
       "</g>\n",
       "<!-- 1&#45;&gt;3 -->\n",
       "<g id=\"edge2\" class=\"edge\">\n",
       "<title>1&#45;&gt;3</title>\n",
       "<path fill=\"none\" stroke=\"black\" d=\"M175.84,-619.71C175.84,-611.46 175.84,-601.91 175.84,-593.17\"/>\n",
       "<polygon fill=\"black\" stroke=\"black\" points=\"179.34,-593.06 175.84,-583.06 172.34,-593.06 179.34,-593.06\"/>\n",
       "</g>\n",
       "<!-- 2 -->\n",
       "<g id=\"node2\" class=\"node\">\n",
       "<title>2</title>\n",
       "<ellipse fill=\"none\" stroke=\"black\" cx=\"74.84\" cy=\"-95\" rx=\"70.7\" ry=\"18\"/>\n",
       "<ellipse fill=\"none\" stroke=\"black\" cx=\"74.84\" cy=\"-95\" rx=\"74.69\" ry=\"22\"/>\n",
       "<text text-anchor=\"middle\" x=\"74.84\" y=\"-91.3\" font-family=\"Times,serif\" font-size=\"14.00\">1: exit: gcd(a, b)</text>\n",
       "</g>\n",
       "<!-- 11 -->\n",
       "<g id=\"node3\" class=\"node\">\n",
       "<title>11</title>\n",
       "<polygon fill=\"none\" stroke=\"black\" points=\"115.34,-190 34.34,-190 34.34,-154 115.34,-154 115.34,-190\"/>\n",
       "<text text-anchor=\"middle\" x=\"74.84\" y=\"-168.3\" font-family=\"Times,serif\" font-size=\"14.00\">12: return a</text>\n",
       "</g>\n",
       "<!-- 11&#45;&gt;2 -->\n",
       "<g id=\"edge1\" class=\"edge\">\n",
       "<title>11&#45;&gt;2</title>\n",
       "<path fill=\"none\" stroke=\"black\" d=\"M74.84,-153.98C74.84,-146.15 74.84,-136.61 74.84,-127.54\"/>\n",
       "<polygon fill=\"black\" stroke=\"black\" points=\"78.34,-127.24 74.84,-117.24 71.34,-127.24 78.34,-127.24\"/>\n",
       "</g>\n",
       "<!-- 4 -->\n",
       "<g id=\"node5\" class=\"node\">\n",
       "<title>4</title>\n",
       "<ellipse fill=\"none\" stroke=\"black\" cx=\"135.84\" cy=\"-478\" rx=\"51.99\" ry=\"18\"/>\n",
       "<text text-anchor=\"middle\" x=\"135.84\" y=\"-474.3\" font-family=\"Times,serif\" font-size=\"14.00\">3: c: int = a</text>\n",
       "</g>\n",
       "<!-- 3&#45;&gt;4 -->\n",
       "<g id=\"edge3\" class=\"edge\">\n",
       "<title>3&#45;&gt;4</title>\n",
       "<path fill=\"none\" stroke=\"blue\" d=\"M168.69,-548.8C163,-536.7 154.89,-519.47 148.15,-505.16\"/>\n",
       "<polygon fill=\"blue\" stroke=\"blue\" points=\"151.18,-503.37 143.76,-495.81 144.85,-506.35 151.18,-503.37\"/>\n",
       "<text text-anchor=\"middle\" x=\"163.34\" y=\"-517.8\" font-family=\"Times,serif\" font-size=\"14.00\">T</text>\n",
       "</g>\n",
       "<!-- 7 -->\n",
       "<g id=\"node8\" class=\"node\">\n",
       "<title>7</title>\n",
       "<polygon fill=\"none\" stroke=\"black\" points=\"184.84,-277 90,-259 184.84,-241 279.69,-259 184.84,-277\"/>\n",
       "<text text-anchor=\"middle\" x=\"184.84\" y=\"-255.3\" font-family=\"Times,serif\" font-size=\"14.00\">7: while: b != 0</text>\n",
       "</g>\n",
       "<!-- 3&#45;&gt;7 -->\n",
       "<g id=\"edge7\" class=\"edge\">\n",
       "<title>3&#45;&gt;7</title>\n",
       "<path fill=\"none\" stroke=\"red\" d=\"M187.2,-549.91C199.02,-533.78 215.84,-506.07 215.84,-479 215.84,-479 215.84,-479 215.84,-331 215.84,-314.33 208.58,-297.16 201.08,-283.89\"/>\n",
       "<polygon fill=\"red\" stroke=\"red\" points=\"203.86,-281.71 195.69,-274.97 197.87,-285.33 203.86,-281.71\"/>\n",
       "<text text-anchor=\"middle\" x=\"219.84\" y=\"-401.3\" font-family=\"Times,serif\" font-size=\"14.00\">F</text>\n",
       "</g>\n",
       "<!-- 5 -->\n",
       "<g id=\"node6\" class=\"node\">\n",
       "<title>5</title>\n",
       "<polygon fill=\"none\" stroke=\"black\" points=\"176.34,-423 117.34,-423 117.34,-387 176.34,-387 176.34,-423\"/>\n",
       "<text text-anchor=\"middle\" x=\"146.84\" y=\"-401.3\" font-family=\"Times,serif\" font-size=\"14.00\">4: a = b</text>\n",
       "</g>\n",
       "<!-- 4&#45;&gt;5 -->\n",
       "<g id=\"edge4\" class=\"edge\">\n",
       "<title>4&#45;&gt;5</title>\n",
       "<path fill=\"none\" stroke=\"black\" d=\"M138.51,-459.81C139.75,-451.79 141.26,-442.05 142.65,-433.07\"/>\n",
       "<polygon fill=\"black\" stroke=\"black\" points=\"146.13,-433.45 144.21,-423.03 139.22,-432.38 146.13,-433.45\"/>\n",
       "</g>\n",
       "<!-- 6 -->\n",
       "<g id=\"node7\" class=\"node\">\n",
       "<title>6</title>\n",
       "<polygon fill=\"none\" stroke=\"black\" points=\"184.34,-350 125.34,-350 125.34,-314 184.34,-314 184.34,-350\"/>\n",
       "<text text-anchor=\"middle\" x=\"154.84\" y=\"-328.3\" font-family=\"Times,serif\" font-size=\"14.00\">5: b = c</text>\n",
       "</g>\n",
       "<!-- 5&#45;&gt;6 -->\n",
       "<g id=\"edge5\" class=\"edge\">\n",
       "<title>5&#45;&gt;6</title>\n",
       "<path fill=\"none\" stroke=\"black\" d=\"M148.78,-386.81C149.68,-378.79 150.78,-369.05 151.79,-360.07\"/>\n",
       "<polygon fill=\"black\" stroke=\"black\" points=\"155.28,-360.36 152.92,-350.03 148.33,-359.57 155.28,-360.36\"/>\n",
       "</g>\n",
       "<!-- 6&#45;&gt;7 -->\n",
       "<g id=\"edge6\" class=\"edge\">\n",
       "<title>6&#45;&gt;7</title>\n",
       "<path fill=\"none\" stroke=\"black\" d=\"M162.11,-313.81C165.71,-305.28 170.13,-294.81 174.12,-285.38\"/>\n",
       "<polygon fill=\"black\" stroke=\"black\" points=\"177.39,-286.63 178.06,-276.06 170.94,-283.9 177.39,-286.63\"/>\n",
       "</g>\n",
       "<!-- 7&#45;&gt;11 -->\n",
       "<g id=\"edge12\" class=\"edge\">\n",
       "<title>7&#45;&gt;11</title>\n",
       "<path fill=\"none\" stroke=\"red\" d=\"M167.17,-244.34C150.48,-231.45 125.12,-211.85 105.2,-196.45\"/>\n",
       "<polygon fill=\"red\" stroke=\"red\" points=\"107.08,-193.49 97.03,-190.15 102.8,-199.03 107.08,-193.49\"/>\n",
       "<text text-anchor=\"middle\" x=\"140.84\" y=\"-211.8\" font-family=\"Times,serif\" font-size=\"14.00\">F</text>\n",
       "</g>\n",
       "<!-- 8 -->\n",
       "<g id=\"node10\" class=\"node\">\n",
       "<title>8</title>\n",
       "<ellipse fill=\"none\" stroke=\"black\" cx=\"184.84\" cy=\"-172\" rx=\"51.99\" ry=\"18\"/>\n",
       "<text text-anchor=\"middle\" x=\"184.84\" y=\"-168.3\" font-family=\"Times,serif\" font-size=\"14.00\">8: c: int = a</text>\n",
       "</g>\n",
       "<!-- 7&#45;&gt;8 -->\n",
       "<g id=\"edge9\" class=\"edge\">\n",
       "<title>7&#45;&gt;8</title>\n",
       "<path fill=\"none\" stroke=\"blue\" d=\"M184.84,-240.8C184.84,-229.16 184.84,-213.55 184.84,-200.24\"/>\n",
       "<polygon fill=\"blue\" stroke=\"blue\" points=\"188.34,-200.18 184.84,-190.18 181.34,-200.18 188.34,-200.18\"/>\n",
       "<text text-anchor=\"middle\" x=\"189.34\" y=\"-211.8\" font-family=\"Times,serif\" font-size=\"14.00\">T</text>\n",
       "</g>\n",
       "<!-- 10 -->\n",
       "<g id=\"node9\" class=\"node\">\n",
       "<title>10</title>\n",
       "<polygon fill=\"none\" stroke=\"black\" points=\"278.84,-36 186.84,-36 186.84,0 278.84,0 278.84,-36\"/>\n",
       "<text text-anchor=\"middle\" x=\"232.84\" y=\"-14.3\" font-family=\"Times,serif\" font-size=\"14.00\">10: b = c % b</text>\n",
       "</g>\n",
       "<!-- 10&#45;&gt;7 -->\n",
       "<g id=\"edge8\" class=\"edge\">\n",
       "<title>10&#45;&gt;7</title>\n",
       "<path fill=\"none\" stroke=\"black\" d=\"M238.86,-36.2C248.93,-67.84 266.17,-136.89 245.84,-190 238.69,-208.7 223.76,-225.49 210.46,-237.71\"/>\n",
       "<polygon fill=\"black\" stroke=\"black\" points=\"208.1,-235.12 202.89,-244.35 212.71,-240.38 208.1,-235.12\"/>\n",
       "</g>\n",
       "<!-- 9 -->\n",
       "<g id=\"node11\" class=\"node\">\n",
       "<title>9</title>\n",
       "<polygon fill=\"none\" stroke=\"black\" points=\"231.34,-113 172.34,-113 172.34,-77 231.34,-77 231.34,-113\"/>\n",
       "<text text-anchor=\"middle\" x=\"201.84\" y=\"-91.3\" font-family=\"Times,serif\" font-size=\"14.00\">9: a = b</text>\n",
       "</g>\n",
       "<!-- 8&#45;&gt;9 -->\n",
       "<g id=\"edge10\" class=\"edge\">\n",
       "<title>8&#45;&gt;9</title>\n",
       "<path fill=\"none\" stroke=\"black\" d=\"M188.7,-153.98C190.77,-144.84 193.38,-133.36 195.72,-123.03\"/>\n",
       "<polygon fill=\"black\" stroke=\"black\" points=\"199.15,-123.74 197.94,-113.21 192.32,-122.19 199.15,-123.74\"/>\n",
       "</g>\n",
       "<!-- 9&#45;&gt;10 -->\n",
       "<g id=\"edge11\" class=\"edge\">\n",
       "<title>9&#45;&gt;10</title>\n",
       "<path fill=\"none\" stroke=\"black\" d=\"M208.88,-76.98C212.7,-67.75 217.5,-56.12 221.81,-45.71\"/>\n",
       "<polygon fill=\"black\" stroke=\"black\" points=\"225.14,-46.79 225.73,-36.21 218.68,-44.12 225.14,-46.79\"/>\n",
       "</g>\n",
       "</g>\n",
       "</svg>\n"
      ],
      "text/plain": [
       "<graphviz.dot.Digraph at 0x1090937f0>"
      ]
     },
     "execution_count": 131,
     "metadata": {},
     "output_type": "execute_result"
    }
   ],
   "source": [
    "show_cfg(gcd)"
   ]
  },
  {
   "cell_type": "code",
   "execution_count": 132,
   "metadata": {
    "execution": {
     "iopub.execute_input": "2022-01-24T10:02:38.955642Z",
     "iopub.status.busy": "2022-01-24T10:02:38.954576Z",
     "iopub.status.idle": "2022-01-24T10:02:38.957848Z",
     "shell.execute_reply": "2022-01-24T10:02:38.958419Z"
    },
    "slideshow": {
     "slide_type": "skip"
    }
   },
   "outputs": [],
   "source": [
    "from ExpectError import ExpectError"
   ]
  },
  {
   "cell_type": "code",
   "execution_count": 133,
   "metadata": {
    "execution": {
     "iopub.execute_input": "2022-01-24T10:02:38.976211Z",
     "iopub.status.busy": "2022-01-24T10:02:38.975099Z",
     "iopub.status.idle": "2022-01-24T10:02:38.983538Z",
     "shell.execute_reply": "2022-01-24T10:02:38.984083Z"
    },
    "slideshow": {
     "slide_type": "subslide"
    }
   },
   "outputs": [
    {
     "name": "stderr",
     "output_type": "stream",
     "text": [
      "Traceback (most recent call last):\n",
      "  File \"/var/folders/n2/xd9445p97rb3xh7m1dfx8_4h0006ts/T/ipykernel_67683/3731434224.py\", line 2, in <module>\n",
      "    symfz_gcd = SimpleSymbolicFuzzer(gcd, max_depth=1000, max_iter=10)\n",
      "  File \"/var/folders/n2/xd9445p97rb3xh7m1dfx8_4h0006ts/T/ipykernel_67683/2089833100.py\", line 26, in __init__\n",
      "    self.process()\n",
      "  File \"/var/folders/n2/xd9445p97rb3xh7m1dfx8_4h0006ts/T/ipykernel_67683/4234366425.py\", line 3, in process\n",
      "    self.paths = self.get_all_paths(self.fnenter)\n",
      "  File \"/var/folders/n2/xd9445p97rb3xh7m1dfx8_4h0006ts/T/ipykernel_67683/228300930.py\", line 10, in get_all_paths\n",
      "    child_paths = self.get_all_paths(child, depth + 1)\n",
      "  File \"/var/folders/n2/xd9445p97rb3xh7m1dfx8_4h0006ts/T/ipykernel_67683/228300930.py\", line 10, in get_all_paths\n",
      "    child_paths = self.get_all_paths(child, depth + 1)\n",
      "  File \"/var/folders/n2/xd9445p97rb3xh7m1dfx8_4h0006ts/T/ipykernel_67683/228300930.py\", line 10, in get_all_paths\n",
      "    child_paths = self.get_all_paths(child, depth + 1)\n",
      "  [Previous line repeated 998 more times]\n",
      "  File \"/var/folders/n2/xd9445p97rb3xh7m1dfx8_4h0006ts/T/ipykernel_67683/228300930.py\", line 4, in get_all_paths\n",
      "    raise Exception('Maximum depth exceeded')\n",
      "Exception: Maximum depth exceeded (expected)\n"
     ]
    }
   ],
   "source": [
    "with ExpectError():\n",
    "    symfz_gcd = SimpleSymbolicFuzzer(gcd, max_depth=1000, max_iter=10)\n",
    "    for i in range(1, 100):\n",
    "        r = symfz_gcd.fuzz()\n",
    "        v = gcd(r['a'].as_long(), r['b'].as_long())\n",
    "        print(r, v)"
   ]
  },
  {
   "cell_type": "markdown",
   "metadata": {
    "slideshow": {
     "slide_type": "subslide"
    }
   },
   "source": [
    "The problem here is that our *SimpleSymbolicFuzzer* has no concept of loops and variable reassignments. We will see how to fix this shortcoming next."
   ]
  },
  {
   "cell_type": "markdown",
   "metadata": {
    "slideshow": {
     "slide_type": "slide"
    }
   },
   "source": [
    "## Advanced Symbolic Fuzzing"
   ]
  },
  {
   "cell_type": "markdown",
   "metadata": {
    "slideshow": {
     "slide_type": "fragment"
    }
   },
   "source": [
    "We next define `SymbolicFuzzer` that can deal with reassignments and *unrolling of loops*."
   ]
  },
  {
   "cell_type": "code",
   "execution_count": 134,
   "metadata": {
    "execution": {
     "iopub.execute_input": "2022-01-24T10:02:38.990477Z",
     "iopub.status.busy": "2022-01-24T10:02:38.989465Z",
     "iopub.status.idle": "2022-01-24T10:02:38.991706Z",
     "shell.execute_reply": "2022-01-24T10:02:38.992453Z"
    },
    "slideshow": {
     "slide_type": "fragment"
    }
   },
   "outputs": [],
   "source": [
    "class SymbolicFuzzer(SimpleSymbolicFuzzer):\n",
    "    \"\"\"Symbolic fuzzing with reassignments and loop unrolling\"\"\"\n",
    "\n",
    "    def options(self, kwargs):\n",
    "        super().options(kwargs)"
   ]
  },
  {
   "cell_type": "markdown",
   "metadata": {
    "slideshow": {
     "slide_type": "fragment"
    }
   },
   "source": [
    "Once we allow reassignments and loop unrolling, we have to deal with what to call the new variables generated. This is what we will tackle next."
   ]
  },
  {
   "cell_type": "markdown",
   "metadata": {
    "slideshow": {
     "slide_type": "subslide"
    }
   },
   "source": [
    "### Dealing with Reassignments\n",
    "\n",
    "We want to rename all variables present in an expression such that the variables are annotated with their usage count. This makes it possible to determine variable reassignments.  To do that, we define the `rename_variables()` function that, when given an `env` that contains the current usage index of different variables, renames the variables in the passed in AST node with the annotations, and returns a copy with the modifications. Note that we can't use [NodeTransformer](https://docs.python.org/3/library/ast.html#ast.NodeTransformer) here as it would modify the AST.\n",
    "\n",
    "That is, if the expression is `env[v] == 1`, `v` is renamed to `_v_1`"
   ]
  },
  {
   "cell_type": "code",
   "execution_count": 135,
   "metadata": {
    "execution": {
     "iopub.execute_input": "2022-01-24T10:02:39.009140Z",
     "iopub.status.busy": "2022-01-24T10:02:39.007920Z",
     "iopub.status.idle": "2022-01-24T10:02:39.010977Z",
     "shell.execute_reply": "2022-01-24T10:02:39.011910Z"
    },
    "slideshow": {
     "slide_type": "subslide"
    }
   },
   "outputs": [],
   "source": [
    "def rename_variables(astnode, env):\n",
    "    if isinstance(astnode, ast.BoolOp):\n",
    "        fn = 'z3.And' if isinstance(astnode.op, ast.And) else 'z3.Or'\n",
    "        return ast.Call(\n",
    "            ast.Name(fn, None),\n",
    "            [rename_variables(i, env) for i in astnode.values], [])\n",
    "    elif isinstance(astnode, ast.BinOp):\n",
    "        return ast.BinOp(\n",
    "            rename_variables(astnode.left, env), astnode.op,\n",
    "            rename_variables(astnode.right, env))\n",
    "    elif isinstance(astnode, ast.UnaryOp):\n",
    "        if isinstance(astnode.op, ast.Not):\n",
    "            return ast.Call(\n",
    "                ast.Name('z3.Not', None),\n",
    "                [rename_variables(astnode.operand, env)], [])\n",
    "        else:\n",
    "            return ast.UnaryOp(astnode.op,\n",
    "                               rename_variables(astnode.operand, env))\n",
    "    elif isinstance(astnode, ast.Call):\n",
    "        return ast.Call(astnode.func,\n",
    "                        [rename_variables(i, env) for i in astnode.args],\n",
    "                        astnode.keywords)\n",
    "    elif isinstance(astnode, ast.Compare):\n",
    "        return ast.Compare(\n",
    "            rename_variables(astnode.left, env), astnode.ops,\n",
    "            [rename_variables(i, env) for i in astnode.comparators])\n",
    "    elif isinstance(astnode, ast.Name):\n",
    "        if astnode.id not in env:\n",
    "            env[astnode.id] = 0\n",
    "        num = env[astnode.id]\n",
    "        return ast.Name('_%s_%d' % (astnode.id, num), astnode.ctx)\n",
    "    elif isinstance(astnode, ast.Return):\n",
    "        return ast.Return(rename_variables(astnode.value, env))\n",
    "    else:\n",
    "        return astnode"
   ]
  },
  {
   "cell_type": "markdown",
   "metadata": {
    "slideshow": {
     "slide_type": "subslide"
    }
   },
   "source": [
    "To verify that it works as intended, we start with an environment."
   ]
  },
  {
   "cell_type": "code",
   "execution_count": 136,
   "metadata": {
    "execution": {
     "iopub.execute_input": "2022-01-24T10:02:39.018167Z",
     "iopub.status.busy": "2022-01-24T10:02:39.017311Z",
     "iopub.status.idle": "2022-01-24T10:02:39.020277Z",
     "shell.execute_reply": "2022-01-24T10:02:39.019670Z"
    },
    "slideshow": {
     "slide_type": "fragment"
    }
   },
   "outputs": [],
   "source": [
    "env = {'x': 1}"
   ]
  },
  {
   "cell_type": "code",
   "execution_count": 137,
   "metadata": {
    "execution": {
     "iopub.execute_input": "2022-01-24T10:02:39.027249Z",
     "iopub.status.busy": "2022-01-24T10:02:39.026207Z",
     "iopub.status.idle": "2022-01-24T10:02:39.030611Z",
     "shell.execute_reply": "2022-01-24T10:02:39.031332Z"
    },
    "slideshow": {
     "slide_type": "fragment"
    }
   },
   "outputs": [
    {
     "data": {
      "text/plain": [
       "ast.BoolOp"
      ]
     },
     "execution_count": 137,
     "metadata": {},
     "output_type": "execute_result"
    }
   ],
   "source": [
    "ba = get_expression('x == 1 and y == 2')\n",
    "type(ba)"
   ]
  },
  {
   "cell_type": "code",
   "execution_count": 138,
   "metadata": {
    "execution": {
     "iopub.execute_input": "2022-01-24T10:02:39.038869Z",
     "iopub.status.busy": "2022-01-24T10:02:39.037748Z",
     "iopub.status.idle": "2022-01-24T10:02:39.040571Z",
     "shell.execute_reply": "2022-01-24T10:02:39.041400Z"
    },
    "slideshow": {
     "slide_type": "fragment"
    }
   },
   "outputs": [],
   "source": [
    "assert to_src(rename_variables(ba, env)) == 'z3.And(_x_1 == 1, _y_0 == 2)'"
   ]
  },
  {
   "cell_type": "code",
   "execution_count": 139,
   "metadata": {
    "execution": {
     "iopub.execute_input": "2022-01-24T10:02:39.048709Z",
     "iopub.status.busy": "2022-01-24T10:02:39.047552Z",
     "iopub.status.idle": "2022-01-24T10:02:39.051484Z",
     "shell.execute_reply": "2022-01-24T10:02:39.051975Z"
    },
    "slideshow": {
     "slide_type": "fragment"
    }
   },
   "outputs": [
    {
     "data": {
      "text/plain": [
       "ast.Or"
      ]
     },
     "execution_count": 139,
     "metadata": {},
     "output_type": "execute_result"
    }
   ],
   "source": [
    "bo = get_expression('x == 1 or y == 2')\n",
    "type(bo.op)"
   ]
  },
  {
   "cell_type": "code",
   "execution_count": 140,
   "metadata": {
    "execution": {
     "iopub.execute_input": "2022-01-24T10:02:39.057699Z",
     "iopub.status.busy": "2022-01-24T10:02:39.056974Z",
     "iopub.status.idle": "2022-01-24T10:02:39.059573Z",
     "shell.execute_reply": "2022-01-24T10:02:39.060525Z"
    },
    "slideshow": {
     "slide_type": "fragment"
    }
   },
   "outputs": [],
   "source": [
    "assert to_src(rename_variables(bo, env)) == 'z3.Or(_x_1 == 1, _y_0 == 2)'"
   ]
  },
  {
   "cell_type": "code",
   "execution_count": 141,
   "metadata": {
    "execution": {
     "iopub.execute_input": "2022-01-24T10:02:39.069715Z",
     "iopub.status.busy": "2022-01-24T10:02:39.068528Z",
     "iopub.status.idle": "2022-01-24T10:02:39.072865Z",
     "shell.execute_reply": "2022-01-24T10:02:39.073475Z"
    },
    "slideshow": {
     "slide_type": "fragment"
    }
   },
   "outputs": [
    {
     "data": {
      "text/plain": [
       "ast.BinOp"
      ]
     },
     "execution_count": 141,
     "metadata": {},
     "output_type": "execute_result"
    }
   ],
   "source": [
    "b = get_expression('x + y')\n",
    "type(b)"
   ]
  },
  {
   "cell_type": "code",
   "execution_count": 142,
   "metadata": {
    "execution": {
     "iopub.execute_input": "2022-01-24T10:02:39.079609Z",
     "iopub.status.busy": "2022-01-24T10:02:39.078300Z",
     "iopub.status.idle": "2022-01-24T10:02:39.081162Z",
     "shell.execute_reply": "2022-01-24T10:02:39.081929Z"
    },
    "slideshow": {
     "slide_type": "fragment"
    }
   },
   "outputs": [],
   "source": [
    "assert to_src(rename_variables(b, env)) == '_x_1 + _y_0'"
   ]
  },
  {
   "cell_type": "code",
   "execution_count": 143,
   "metadata": {
    "execution": {
     "iopub.execute_input": "2022-01-24T10:02:39.090270Z",
     "iopub.status.busy": "2022-01-24T10:02:39.089396Z",
     "iopub.status.idle": "2022-01-24T10:02:39.092690Z",
     "shell.execute_reply": "2022-01-24T10:02:39.093254Z"
    },
    "slideshow": {
     "slide_type": "subslide"
    }
   },
   "outputs": [
    {
     "data": {
      "text/plain": [
       "ast.UnaryOp"
      ]
     },
     "execution_count": 143,
     "metadata": {},
     "output_type": "execute_result"
    }
   ],
   "source": [
    "u = get_expression('-y')\n",
    "type(u)"
   ]
  },
  {
   "cell_type": "code",
   "execution_count": 144,
   "metadata": {
    "execution": {
     "iopub.execute_input": "2022-01-24T10:02:39.099340Z",
     "iopub.status.busy": "2022-01-24T10:02:39.098280Z",
     "iopub.status.idle": "2022-01-24T10:02:39.100413Z",
     "shell.execute_reply": "2022-01-24T10:02:39.100937Z"
    },
    "slideshow": {
     "slide_type": "fragment"
    }
   },
   "outputs": [],
   "source": [
    "assert to_src(rename_variables(u, env)) == '-_y_0'"
   ]
  },
  {
   "cell_type": "code",
   "execution_count": 145,
   "metadata": {
    "execution": {
     "iopub.execute_input": "2022-01-24T10:02:39.107525Z",
     "iopub.status.busy": "2022-01-24T10:02:39.106538Z",
     "iopub.status.idle": "2022-01-24T10:02:39.110466Z",
     "shell.execute_reply": "2022-01-24T10:02:39.111031Z"
    },
    "slideshow": {
     "slide_type": "fragment"
    }
   },
   "outputs": [
    {
     "data": {
      "text/plain": [
       "ast.Not"
      ]
     },
     "execution_count": 145,
     "metadata": {},
     "output_type": "execute_result"
    }
   ],
   "source": [
    "un = get_expression('not y')\n",
    "type(un.op)"
   ]
  },
  {
   "cell_type": "code",
   "execution_count": 146,
   "metadata": {
    "execution": {
     "iopub.execute_input": "2022-01-24T10:02:39.117525Z",
     "iopub.status.busy": "2022-01-24T10:02:39.116369Z",
     "iopub.status.idle": "2022-01-24T10:02:39.118665Z",
     "shell.execute_reply": "2022-01-24T10:02:39.119462Z"
    },
    "slideshow": {
     "slide_type": "fragment"
    }
   },
   "outputs": [],
   "source": [
    "assert to_src(rename_variables(un, env)) == 'z3.Not(_y_0)'"
   ]
  },
  {
   "cell_type": "code",
   "execution_count": 147,
   "metadata": {
    "execution": {
     "iopub.execute_input": "2022-01-24T10:02:39.125394Z",
     "iopub.status.busy": "2022-01-24T10:02:39.124323Z",
     "iopub.status.idle": "2022-01-24T10:02:39.128610Z",
     "shell.execute_reply": "2022-01-24T10:02:39.129149Z"
    },
    "slideshow": {
     "slide_type": "fragment"
    }
   },
   "outputs": [
    {
     "data": {
      "text/plain": [
       "ast.Compare"
      ]
     },
     "execution_count": 147,
     "metadata": {},
     "output_type": "execute_result"
    }
   ],
   "source": [
    "c = get_expression('x == y')\n",
    "type(c)"
   ]
  },
  {
   "cell_type": "code",
   "execution_count": 148,
   "metadata": {
    "execution": {
     "iopub.execute_input": "2022-01-24T10:02:39.134527Z",
     "iopub.status.busy": "2022-01-24T10:02:39.133518Z",
     "iopub.status.idle": "2022-01-24T10:02:39.136496Z",
     "shell.execute_reply": "2022-01-24T10:02:39.137332Z"
    },
    "slideshow": {
     "slide_type": "fragment"
    }
   },
   "outputs": [],
   "source": [
    "assert to_src(rename_variables(c, env)) == '_x_1 == _y_0'"
   ]
  },
  {
   "cell_type": "code",
   "execution_count": 149,
   "metadata": {
    "execution": {
     "iopub.execute_input": "2022-01-24T10:02:39.143887Z",
     "iopub.status.busy": "2022-01-24T10:02:39.142519Z",
     "iopub.status.idle": "2022-01-24T10:02:39.147483Z",
     "shell.execute_reply": "2022-01-24T10:02:39.148177Z"
    },
    "slideshow": {
     "slide_type": "fragment"
    }
   },
   "outputs": [
    {
     "data": {
      "text/plain": [
       "ast.Call"
      ]
     },
     "execution_count": 149,
     "metadata": {},
     "output_type": "execute_result"
    }
   ],
   "source": [
    "f = get_expression('fn(x,y)')\n",
    "type(f)"
   ]
  },
  {
   "cell_type": "code",
   "execution_count": 150,
   "metadata": {
    "execution": {
     "iopub.execute_input": "2022-01-24T10:02:39.153996Z",
     "iopub.status.busy": "2022-01-24T10:02:39.152860Z",
     "iopub.status.idle": "2022-01-24T10:02:39.155631Z",
     "shell.execute_reply": "2022-01-24T10:02:39.156643Z"
    },
    "slideshow": {
     "slide_type": "subslide"
    }
   },
   "outputs": [],
   "source": [
    "assert to_src(rename_variables(f, env)) == 'fn(_x_1, _y_0)'"
   ]
  },
  {
   "cell_type": "code",
   "execution_count": 151,
   "metadata": {
    "execution": {
     "iopub.execute_input": "2022-01-24T10:02:39.162444Z",
     "iopub.status.busy": "2022-01-24T10:02:39.161703Z",
     "iopub.status.idle": "2022-01-24T10:02:39.165511Z",
     "shell.execute_reply": "2022-01-24T10:02:39.166122Z"
    },
    "slideshow": {
     "slide_type": "fragment"
    }
   },
   "outputs": [
    {
     "data": {
      "text/plain": [
       "{'x': 1, 'y': 0}"
      ]
     },
     "execution_count": 151,
     "metadata": {},
     "output_type": "execute_result"
    }
   ],
   "source": [
    "env"
   ]
  },
  {
   "cell_type": "markdown",
   "metadata": {
    "slideshow": {
     "slide_type": "fragment"
    }
   },
   "source": [
    "Next, we want to process the CFG, and correctly transform the paths."
   ]
  },
  {
   "cell_type": "markdown",
   "metadata": {
    "slideshow": {
     "slide_type": "subslide"
    }
   },
   "source": [
    "### Tracking Assignments\n",
    "\n",
    "For keeping track of assignments in the CFG, We define a data structure `PNode` that stores the current CFG node."
   ]
  },
  {
   "cell_type": "code",
   "execution_count": 152,
   "metadata": {
    "execution": {
     "iopub.execute_input": "2022-01-24T10:02:39.174572Z",
     "iopub.status.busy": "2022-01-24T10:02:39.173416Z",
     "iopub.status.idle": "2022-01-24T10:02:39.176745Z",
     "shell.execute_reply": "2022-01-24T10:02:39.177564Z"
    },
    "slideshow": {
     "slide_type": "fragment"
    }
   },
   "outputs": [],
   "source": [
    "class PNode:\n",
    "    def __init__(self, idx, cfgnode, parent=None, order=0, seen=None):\n",
    "        self.seen = {} if seen is None else seen\n",
    "        self.max_iter = MAX_ITER\n",
    "        self.idx, self.cfgnode, self.parent, self.order = idx, cfgnode, parent, order\n",
    "\n",
    "    def __repr__(self):\n",
    "        return \"PNode:%d[%s order:%d]\" % (self.idx, str(self.cfgnode),\n",
    "                                          self.order)"
   ]
  },
  {
   "cell_type": "markdown",
   "metadata": {
    "slideshow": {
     "slide_type": "fragment"
    }
   },
   "source": [
    "Defining a new `PNode` is done as follows."
   ]
  },
  {
   "cell_type": "code",
   "execution_count": 153,
   "metadata": {
    "execution": {
     "iopub.execute_input": "2022-01-24T10:02:39.184626Z",
     "iopub.status.busy": "2022-01-24T10:02:39.183792Z",
     "iopub.status.idle": "2022-01-24T10:02:39.186451Z",
     "shell.execute_reply": "2022-01-24T10:02:39.187604Z"
    },
    "slideshow": {
     "slide_type": "subslide"
    }
   },
   "outputs": [],
   "source": [
    "cfg = PyCFG()\n",
    "cfg.gen_cfg(inspect.getsource(gcd))\n",
    "gcd_fnenter, _ = cfg.functions['gcd']"
   ]
  },
  {
   "cell_type": "code",
   "execution_count": 154,
   "metadata": {
    "execution": {
     "iopub.execute_input": "2022-01-24T10:02:39.193416Z",
     "iopub.status.busy": "2022-01-24T10:02:39.192196Z",
     "iopub.status.idle": "2022-01-24T10:02:39.197168Z",
     "shell.execute_reply": "2022-01-24T10:02:39.198002Z"
    },
    "slideshow": {
     "slide_type": "fragment"
    }
   },
   "outputs": [
    {
     "data": {
      "text/plain": [
       "PNode:0[id:27 line[1] parents: [] : enter: gcd(a, b) order:0]"
      ]
     },
     "execution_count": 154,
     "metadata": {},
     "output_type": "execute_result"
    }
   ],
   "source": [
    "PNode(0, gcd_fnenter)"
   ]
  },
  {
   "cell_type": "markdown",
   "metadata": {
    "slideshow": {
     "slide_type": "fragment"
    }
   },
   "source": [
    "The `copy()` method generates a copy for the child's keep, indicating which path was taken (with `order` of the child)."
   ]
  },
  {
   "cell_type": "code",
   "execution_count": 155,
   "metadata": {
    "execution": {
     "iopub.execute_input": "2022-01-24T10:02:39.205002Z",
     "iopub.status.busy": "2022-01-24T10:02:39.203945Z",
     "iopub.status.idle": "2022-01-24T10:02:39.206529Z",
     "shell.execute_reply": "2022-01-24T10:02:39.207043Z"
    },
    "slideshow": {
     "slide_type": "fragment"
    }
   },
   "outputs": [],
   "source": [
    "class PNode(PNode):\n",
    "    def copy(self, order):\n",
    "        p = PNode(self.idx, self.cfgnode, self.parent, order, self.seen)\n",
    "        assert p.order == order\n",
    "        return p"
   ]
  },
  {
   "cell_type": "markdown",
   "metadata": {
    "slideshow": {
     "slide_type": "fragment"
    }
   },
   "source": [
    "Using the copy operation."
   ]
  },
  {
   "cell_type": "code",
   "execution_count": 156,
   "metadata": {
    "execution": {
     "iopub.execute_input": "2022-01-24T10:02:39.214208Z",
     "iopub.status.busy": "2022-01-24T10:02:39.213076Z",
     "iopub.status.idle": "2022-01-24T10:02:39.217650Z",
     "shell.execute_reply": "2022-01-24T10:02:39.218218Z"
    },
    "slideshow": {
     "slide_type": "fragment"
    }
   },
   "outputs": [
    {
     "data": {
      "text/plain": [
       "PNode:0[id:27 line[1] parents: [] : enter: gcd(a, b) order:1]"
      ]
     },
     "execution_count": 156,
     "metadata": {},
     "output_type": "execute_result"
    }
   ],
   "source": [
    "PNode(0, gcd_fnenter).copy(1)"
   ]
  },
  {
   "cell_type": "markdown",
   "metadata": {
    "slideshow": {
     "slide_type": "subslide"
    }
   },
   "source": [
    "#### Stepwise Exploration of Paths\n",
    "\n",
    "A problem we had with our `SimpleSymbolicFuzzer` is that it explored a path to completion before attempting another. However, this is non-optimal. One may want to explore the graph in a more step-wise manner, expanding every possible execution one step at a time.\n",
    "\n",
    "Hence, we define `explore()`  which explores the children of a node if any, one step at a time. If done exhaustively, this will generate all paths from a starting node until no more children are left. We made `PNode` to a container class so that this iteration can be driven from outside, and stopped if say a maximum iteration is complete, or certain paths need to be prioritized."
   ]
  },
  {
   "cell_type": "code",
   "execution_count": 157,
   "metadata": {
    "execution": {
     "iopub.execute_input": "2022-01-24T10:02:39.225738Z",
     "iopub.status.busy": "2022-01-24T10:02:39.224700Z",
     "iopub.status.idle": "2022-01-24T10:02:39.227369Z",
     "shell.execute_reply": "2022-01-24T10:02:39.228164Z"
    },
    "slideshow": {
     "slide_type": "subslide"
    }
   },
   "outputs": [],
   "source": [
    "class PNode(PNode):\n",
    "    def explore(self):\n",
    "        ret = []\n",
    "        for (i, n) in enumerate(self.cfgnode.children):\n",
    "            key = \"[%d]%s\" % (self.idx + 1, n)\n",
    "            ccount = self.seen.get(key, 0)\n",
    "            if ccount > self.max_iter:\n",
    "                continue  # drop this child\n",
    "            self.seen[key] = ccount + 1\n",
    "            pn = PNode(self.idx + 1, n, self.copy(i), seen=self.seen)\n",
    "            ret.append(pn)\n",
    "        return ret"
   ]
  },
  {
   "cell_type": "markdown",
   "metadata": {
    "slideshow": {
     "slide_type": "fragment"
    }
   },
   "source": [
    "We can use `explore()` as follows."
   ]
  },
  {
   "cell_type": "code",
   "execution_count": 158,
   "metadata": {
    "execution": {
     "iopub.execute_input": "2022-01-24T10:02:39.234730Z",
     "iopub.status.busy": "2022-01-24T10:02:39.233706Z",
     "iopub.status.idle": "2022-01-24T10:02:39.238328Z",
     "shell.execute_reply": "2022-01-24T10:02:39.239033Z"
    },
    "slideshow": {
     "slide_type": "fragment"
    }
   },
   "outputs": [
    {
     "data": {
      "text/plain": [
       "[PNode:1[id:29 line[2] parents: [27] : _if: a < b order:0]]"
      ]
     },
     "execution_count": 158,
     "metadata": {},
     "output_type": "execute_result"
    }
   ],
   "source": [
    "PNode(0, gcd_fnenter).explore()"
   ]
  },
  {
   "cell_type": "code",
   "execution_count": 159,
   "metadata": {
    "execution": {
     "iopub.execute_input": "2022-01-24T10:02:39.247362Z",
     "iopub.status.busy": "2022-01-24T10:02:39.246029Z",
     "iopub.status.idle": "2022-01-24T10:02:39.250582Z",
     "shell.execute_reply": "2022-01-24T10:02:39.251474Z"
    },
    "slideshow": {
     "slide_type": "subslide"
    }
   },
   "outputs": [
    {
     "data": {
      "text/plain": [
       "[PNode:2[id:30 line[3] parents: [29] : c: int = a order:0],\n",
       " PNode:2[id:33 line[7] parents: [32, 29, 36] : _while: b != 0 order:0]]"
      ]
     },
     "execution_count": 159,
     "metadata": {},
     "output_type": "execute_result"
    }
   ],
   "source": [
    "PNode(0, gcd_fnenter).explore()[0].explore()"
   ]
  },
  {
   "cell_type": "markdown",
   "metadata": {
    "slideshow": {
     "slide_type": "fragment"
    }
   },
   "source": [
    "The method `get_path_to_root()` recursively goes up through child->parent chain retrieving the complete chain to the topmost parent."
   ]
  },
  {
   "cell_type": "code",
   "execution_count": 160,
   "metadata": {
    "code_folding": [],
    "execution": {
     "iopub.execute_input": "2022-01-24T10:02:39.258315Z",
     "iopub.status.busy": "2022-01-24T10:02:39.257325Z",
     "iopub.status.idle": "2022-01-24T10:02:39.260672Z",
     "shell.execute_reply": "2022-01-24T10:02:39.260104Z"
    },
    "slideshow": {
     "slide_type": "fragment"
    }
   },
   "outputs": [],
   "source": [
    "class PNode(PNode):\n",
    "    def get_path_to_root(self):\n",
    "        path = []\n",
    "        n = self\n",
    "        while n:\n",
    "            path.append(n)\n",
    "            n = n.parent\n",
    "        return list(reversed(path))"
   ]
  },
  {
   "cell_type": "code",
   "execution_count": 161,
   "metadata": {
    "execution": {
     "iopub.execute_input": "2022-01-24T10:02:39.268477Z",
     "iopub.status.busy": "2022-01-24T10:02:39.266978Z",
     "iopub.status.idle": "2022-01-24T10:02:39.272503Z",
     "shell.execute_reply": "2022-01-24T10:02:39.273203Z"
    },
    "slideshow": {
     "slide_type": "subslide"
    }
   },
   "outputs": [
    {
     "data": {
      "text/plain": [
       "[[PNode:0[id:27 line[1] parents: [] : enter: gcd(a, b) order:0],\n",
       "  PNode:1[id:29 line[2] parents: [27] : _if: a < b order:0],\n",
       "  PNode:2[id:30 line[3] parents: [29] : c: int = a order:0],\n",
       "  PNode:3[id:31 line[4] parents: [30] : a = b order:0],\n",
       "  PNode:4[id:32 line[5] parents: [31] : b = c order:0]]]"
      ]
     },
     "execution_count": 161,
     "metadata": {},
     "output_type": "execute_result"
    }
   ],
   "source": [
    "p = PNode(0, gcd_fnenter)\n",
    "[s.get_path_to_root() for s in p.explore()[0].explore()[0].explore()[0].explore()]"
   ]
  },
  {
   "cell_type": "markdown",
   "metadata": {
    "slideshow": {
     "slide_type": "fragment"
    }
   },
   "source": [
    "The string representation of the node is in `z3` solvable form."
   ]
  },
  {
   "cell_type": "code",
   "execution_count": 162,
   "metadata": {
    "execution": {
     "iopub.execute_input": "2022-01-24T10:02:39.282033Z",
     "iopub.status.busy": "2022-01-24T10:02:39.280669Z",
     "iopub.status.idle": "2022-01-24T10:02:39.283960Z",
     "shell.execute_reply": "2022-01-24T10:02:39.284934Z"
    },
    "slideshow": {
     "slide_type": "fragment"
    }
   },
   "outputs": [],
   "source": [
    "class PNode(PNode):\n",
    "    def __str__(self):\n",
    "        path = self.get_path_to_root()\n",
    "        ssa_path = to_single_assignment_predicates(path)\n",
    "        return ', '.join([to_src(p) for p in ssa_path])"
   ]
  },
  {
   "cell_type": "markdown",
   "metadata": {
    "slideshow": {
     "slide_type": "fragment"
    }
   },
   "source": [
    "However, before using it, we need to take care of variable renaming so that reassignments can work."
   ]
  },
  {
   "cell_type": "markdown",
   "metadata": {
    "slideshow": {
     "slide_type": "subslide"
    }
   },
   "source": [
    "#### Renaming Used Variables\n",
    "\n",
    "We need to rename used variables. Any variable `v = xxx` should be renamed to `_v_0` and any later assignment such as `v = v + 1` should be transformed to `_v_1 = _v_0 + 1` and later conditionals such as `v == x` should be transformed to `(_v_1 == _x_0)`. The method `to_single_assignment_predicates()` does this for a given path."
   ]
  },
  {
   "cell_type": "code",
   "execution_count": 163,
   "metadata": {
    "execution": {
     "iopub.execute_input": "2022-01-24T10:02:39.302793Z",
     "iopub.status.busy": "2022-01-24T10:02:39.301487Z",
     "iopub.status.idle": "2022-01-24T10:02:39.303981Z",
     "shell.execute_reply": "2022-01-24T10:02:39.304629Z"
    },
    "slideshow": {
     "slide_type": "subslide"
    }
   },
   "outputs": [],
   "source": [
    "def to_single_assignment_predicates(path):\n",
    "    env = {}\n",
    "    new_path = []\n",
    "    for i, node in enumerate(path):\n",
    "        ast_node = node.cfgnode.ast_node\n",
    "        new_node = None\n",
    "        if isinstance(ast_node, ast.AnnAssign) and ast_node.target.id in {\n",
    "                'exit'}:\n",
    "            new_node = None\n",
    "        elif isinstance(ast_node, ast.AnnAssign) and ast_node.target.id in {'enter'}:\n",
    "            args = [\n",
    "                ast.parse(\n",
    "                    \"%s == _%s_0\" %\n",
    "                    (a.id, a.id)).body[0].value for a in ast_node.annotation.args]\n",
    "            new_node = ast.Call(ast.Name('z3.And', None), args, [])\n",
    "        elif isinstance(ast_node, ast.AnnAssign) and ast_node.target.id in {'_if', '_while'}:\n",
    "            new_node = rename_variables(ast_node.annotation, env)\n",
    "            if node.order != 0:\n",
    "                assert node.order == 1\n",
    "                new_node = ast.Call(ast.Name('z3.Not', None), [new_node], [])\n",
    "        elif isinstance(ast_node, ast.AnnAssign):\n",
    "            assigned = ast_node.target.id\n",
    "            val = [rename_variables(ast_node.value, env)]\n",
    "            env[assigned] = 0 if assigned not in env else env[assigned] + 1\n",
    "            target = ast.Name('_%s_%d' %\n",
    "                              (ast_node.target.id, env[assigned]), None)\n",
    "            new_node = ast.Expr(ast.Compare(target, [ast.Eq()], val))\n",
    "        elif isinstance(ast_node, ast.Assign):\n",
    "            assigned = ast_node.targets[0].id\n",
    "            val = [rename_variables(ast_node.value, env)]\n",
    "            env[assigned] = 0 if assigned not in env else env[assigned] + 1\n",
    "            target = ast.Name('_%s_%d' %\n",
    "                              (ast_node.targets[0].id, env[assigned]), None)\n",
    "            new_node = ast.Expr(ast.Compare(target, [ast.Eq()], val))\n",
    "        elif isinstance(ast_node, (ast.Return, ast.Pass)):\n",
    "            new_node = None\n",
    "        else:\n",
    "            s = \"NI %s %s\" % (type(ast_node), ast_node.target.id)\n",
    "            raise Exception(s)\n",
    "        new_path.append(new_node)\n",
    "    return new_path"
   ]
  },
  {
   "cell_type": "markdown",
   "metadata": {
    "slideshow": {
     "slide_type": "subslide"
    }
   },
   "source": [
    "Here is how it can be used:"
   ]
  },
  {
   "cell_type": "code",
   "execution_count": 164,
   "metadata": {
    "execution": {
     "iopub.execute_input": "2022-01-24T10:02:39.311361Z",
     "iopub.status.busy": "2022-01-24T10:02:39.310333Z",
     "iopub.status.idle": "2022-01-24T10:02:39.312680Z",
     "shell.execute_reply": "2022-01-24T10:02:39.313127Z"
    },
    "slideshow": {
     "slide_type": "fragment"
    }
   },
   "outputs": [],
   "source": [
    "p = PNode(0, gcd_fnenter)\n",
    "path = p.explore()[0].explore()[0].explore()[0].get_path_to_root()\n",
    "spath = to_single_assignment_predicates(path)"
   ]
  },
  {
   "cell_type": "code",
   "execution_count": 165,
   "metadata": {
    "execution": {
     "iopub.execute_input": "2022-01-24T10:02:39.319903Z",
     "iopub.status.busy": "2022-01-24T10:02:39.318742Z",
     "iopub.status.idle": "2022-01-24T10:02:39.323043Z",
     "shell.execute_reply": "2022-01-24T10:02:39.323519Z"
    },
    "slideshow": {
     "slide_type": "fragment"
    }
   },
   "outputs": [
    {
     "data": {
      "text/plain": [
       "['z3.And(a == _a_0, b == _b_0)', '_a_0 < _b_0', '_c_0 == _a_0', '_a_1 == _b_0']"
      ]
     },
     "execution_count": 165,
     "metadata": {},
     "output_type": "execute_result"
    }
   ],
   "source": [
    "[to_src(s) for s in spath]"
   ]
  },
  {
   "cell_type": "markdown",
   "metadata": {
    "slideshow": {
     "slide_type": "subslide"
    }
   },
   "source": [
    "#### Check Before You Loop\n",
    "\n",
    "One of the ways in which the *concolic* execution simplifies *symbolic* execution is in the treatment of loops. Rather than trying to determine an invariant for a loop, we simply _unroll_ the loops a number of times until we hit the `MAX_DEPTH` limit.\n",
    "However, not all loops will need to be unrolled until `MAX_DEPTH` is reached. Some of them may exit before. Hence, it is necessary to check whether the given set of constraints can be satisfied before continuing to explore further. "
   ]
  },
  {
   "cell_type": "code",
   "execution_count": 166,
   "metadata": {
    "execution": {
     "iopub.execute_input": "2022-01-24T10:02:39.330631Z",
     "iopub.status.busy": "2022-01-24T10:02:39.329792Z",
     "iopub.status.idle": "2022-01-24T10:02:39.332099Z",
     "shell.execute_reply": "2022-01-24T10:02:39.332587Z"
    },
    "slideshow": {
     "slide_type": "subslide"
    }
   },
   "outputs": [],
   "source": [
    "def identifiers_with_types(identifiers, defined):\n",
    "    with_types = dict(defined)\n",
    "    for i in identifiers:\n",
    "        if i[0] == '_':\n",
    "            nxt = i[1:].find('_', 1)\n",
    "            name = i[1:nxt + 1]\n",
    "            assert name in defined\n",
    "            typ = defined[name]\n",
    "            with_types[i] = typ\n",
    "    return with_types"
   ]
  },
  {
   "cell_type": "markdown",
   "metadata": {
    "slideshow": {
     "slide_type": "fragment"
    }
   },
   "source": [
    "The `extract_constraints()` generates the `z3` constraints from a path. The main work is done by `to_single_assignment_predicates()`. The `extract_constraints()` then converts the AST to source."
   ]
  },
  {
   "cell_type": "code",
   "execution_count": 167,
   "metadata": {
    "execution": {
     "iopub.execute_input": "2022-01-24T10:02:39.339294Z",
     "iopub.status.busy": "2022-01-24T10:02:39.338224Z",
     "iopub.status.idle": "2022-01-24T10:02:39.341544Z",
     "shell.execute_reply": "2022-01-24T10:02:39.340816Z"
    },
    "slideshow": {
     "slide_type": "subslide"
    }
   },
   "outputs": [],
   "source": [
    "class SymbolicFuzzer(SymbolicFuzzer):\n",
    "    def extract_constraints(self, path):\n",
    "        return [to_src(p) for p in to_single_assignment_predicates(path) if p]"
   ]
  },
  {
   "cell_type": "markdown",
   "metadata": {
    "slideshow": {
     "slide_type": "subslide"
    }
   },
   "source": [
    "### Solving Path Constraints\n",
    "\n",
    "We now update our `solve_path_constraint()` method to take into account the new identifiers created during reassignments."
   ]
  },
  {
   "cell_type": "code",
   "execution_count": 168,
   "metadata": {
    "execution": {
     "iopub.execute_input": "2022-01-24T10:02:39.351397Z",
     "iopub.status.busy": "2022-01-24T10:02:39.350675Z",
     "iopub.status.idle": "2022-01-24T10:02:39.352973Z",
     "shell.execute_reply": "2022-01-24T10:02:39.353571Z"
    },
    "slideshow": {
     "slide_type": "subslide"
    }
   },
   "outputs": [],
   "source": [
    "class SymbolicFuzzer(SymbolicFuzzer):\n",
    "    def solve_path_constraint(self, path):\n",
    "        # re-initializing does not seem problematic.\n",
    "        # a = z3.Int('a').get_id() remains the same.\n",
    "        constraints = self.extract_constraints(path)\n",
    "        identifiers = [\n",
    "            c for i in constraints for c in used_identifiers(i)]  # <- changes\n",
    "        with_types = identifiers_with_types(\n",
    "            identifiers, self.used_variables)  # <- changes\n",
    "        decl = define_symbolic_vars(with_types, '')\n",
    "        exec(decl)\n",
    "\n",
    "        solutions = {}\n",
    "        with checkpoint(self.z3):\n",
    "            st = 'self.z3.add(%s)' % ', '.join(constraints)\n",
    "            eval(st)\n",
    "            if self.z3.check() != z3.sat:\n",
    "                return {}\n",
    "            m = self.z3.model()\n",
    "            solutions = {d.name(): m[d] for d in m.decls()}\n",
    "            my_args = {k: solutions.get(k, None) for k in self.fn_args}\n",
    "\n",
    "        predicate = 'z3.And(%s)' % ','.join(\n",
    "            [\"%s == %s\" % (k, v) for k, v in my_args.items()])\n",
    "        eval('self.z3.add(z3.Not(%s))' % predicate)\n",
    "\n",
    "        return my_args"
   ]
  },
  {
   "cell_type": "markdown",
   "metadata": {
    "slideshow": {
     "slide_type": "subslide"
    }
   },
   "source": [
    "### Generating All Paths"
   ]
  },
  {
   "cell_type": "markdown",
   "metadata": {
    "slideshow": {
     "slide_type": "fragment"
    }
   },
   "source": [
    "The `get_all_paths()` is now similarly updated so that we unroll loops only to a specified height. It is also converted to an iterative exploration style so that we explore the CFG in a breadth first manner."
   ]
  },
  {
   "cell_type": "code",
   "execution_count": 169,
   "metadata": {
    "execution": {
     "iopub.execute_input": "2022-01-24T10:02:39.362096Z",
     "iopub.status.busy": "2022-01-24T10:02:39.361112Z",
     "iopub.status.idle": "2022-01-24T10:02:39.363945Z",
     "shell.execute_reply": "2022-01-24T10:02:39.364564Z"
    },
    "slideshow": {
     "slide_type": "subslide"
    }
   },
   "outputs": [],
   "source": [
    "class SymbolicFuzzer(SymbolicFuzzer):\n",
    "    def get_all_paths(self, fenter):\n",
    "        path_lst = [PNode(0, fenter)]\n",
    "        completed = []\n",
    "        for i in range(self.max_iter):\n",
    "            new_paths = [PNode(0, fenter)]\n",
    "            for path in path_lst:\n",
    "                # explore each path once\n",
    "                if path.cfgnode.children:\n",
    "                    np = path.explore()\n",
    "                    for p in np:\n",
    "                        if path.idx > self.max_depth:\n",
    "                            break\n",
    "                        new_paths.append(p)\n",
    "                else:\n",
    "                    completed.append(path)\n",
    "            path_lst = new_paths\n",
    "        return completed + path_lst"
   ]
  },
  {
   "cell_type": "markdown",
   "metadata": {
    "slideshow": {
     "slide_type": "subslide"
    }
   },
   "source": [
    "We can now obtain all paths using our advanced symbolic fuzzer as follows."
   ]
  },
  {
   "cell_type": "code",
   "execution_count": 170,
   "metadata": {
    "execution": {
     "iopub.execute_input": "2022-01-24T10:02:39.371230Z",
     "iopub.status.busy": "2022-01-24T10:02:39.370303Z",
     "iopub.status.idle": "2022-01-24T10:02:39.381801Z",
     "shell.execute_reply": "2022-01-24T10:02:39.382255Z"
    },
    "slideshow": {
     "slide_type": "fragment"
    }
   },
   "outputs": [],
   "source": [
    "asymfz_gcd = SymbolicFuzzer(\n",
    "    gcd, max_iter=10, max_tries=10, max_depth=10)\n",
    "all_paths = asymfz_gcd.get_all_paths(asymfz_gcd.fnenter)"
   ]
  },
  {
   "cell_type": "code",
   "execution_count": 171,
   "metadata": {
    "execution": {
     "iopub.execute_input": "2022-01-24T10:02:39.387150Z",
     "iopub.status.busy": "2022-01-24T10:02:39.386252Z",
     "iopub.status.idle": "2022-01-24T10:02:39.389890Z",
     "shell.execute_reply": "2022-01-24T10:02:39.390592Z"
    },
    "slideshow": {
     "slide_type": "fragment"
    }
   },
   "outputs": [
    {
     "data": {
      "text/plain": [
       "38"
      ]
     },
     "execution_count": 171,
     "metadata": {},
     "output_type": "execute_result"
    }
   ],
   "source": [
    "len(all_paths)"
   ]
  },
  {
   "cell_type": "code",
   "execution_count": 172,
   "metadata": {
    "execution": {
     "iopub.execute_input": "2022-01-24T10:02:39.398327Z",
     "iopub.status.busy": "2022-01-24T10:02:39.397425Z",
     "iopub.status.idle": "2022-01-24T10:02:39.401335Z",
     "shell.execute_reply": "2022-01-24T10:02:39.401929Z"
    },
    "slideshow": {
     "slide_type": "subslide"
    }
   },
   "outputs": [
    {
     "data": {
      "text/plain": [
       "[PNode:0[id:40 line[1] parents: [] : enter: gcd(a, b) order:0],\n",
       " PNode:1[id:42 line[2] parents: [40] : _if: a < b order:1],\n",
       " PNode:2[id:46 line[7] parents: [45, 42, 49] : _while: b != 0 order:0],\n",
       " PNode:3[id:47 line[8] parents: [46] : c: int = a order:0],\n",
       " PNode:4[id:48 line[9] parents: [47] : a = b order:0],\n",
       " PNode:5[id:49 line[10] parents: [48] : b = c % b order:0],\n",
       " PNode:6[id:46 line[7] parents: [45, 42, 49] : _while: b != 0 order:0],\n",
       " PNode:7[id:47 line[8] parents: [46] : c: int = a order:0],\n",
       " PNode:8[id:48 line[9] parents: [47] : a = b order:0],\n",
       " PNode:9[id:49 line[10] parents: [48] : b = c % b order:0],\n",
       " PNode:10[id:46 line[7] parents: [45, 42, 49] : _while: b != 0 order:0]]"
      ]
     },
     "execution_count": 172,
     "metadata": {},
     "output_type": "execute_result"
    }
   ],
   "source": [
    "all_paths[37].get_path_to_root()"
   ]
  },
  {
   "cell_type": "markdown",
   "metadata": {
    "slideshow": {
     "slide_type": "fragment"
    }
   },
   "source": [
    "We can also list the predicates in each path."
   ]
  },
  {
   "cell_type": "code",
   "execution_count": 173,
   "metadata": {
    "execution": {
     "iopub.execute_input": "2022-01-24T10:02:39.409799Z",
     "iopub.status.busy": "2022-01-24T10:02:39.408507Z",
     "iopub.status.idle": "2022-01-24T10:02:39.412807Z",
     "shell.execute_reply": "2022-01-24T10:02:39.413311Z"
    },
    "slideshow": {
     "slide_type": "subslide"
    }
   },
   "outputs": [
    {
     "name": "stdout",
     "output_type": "stream",
     "text": [
      "z3.And(a == _a_0, b == _b_0)\n",
      "z3.Not(_a_0 < _b_0)\n",
      "_b_0 != 0\n",
      "_c_0 == _a_0\n",
      "_a_1 == _b_0\n",
      "_b_1 == _c_0 % _b_0\n",
      "_b_1 != 0\n",
      "_c_1 == _a_1\n",
      "_a_2 == _b_1\n",
      "_b_2 == _c_1 % _b_1\n",
      "_b_2 != 0\n"
     ]
    }
   ],
   "source": [
    "for s in to_single_assignment_predicates(all_paths[37].get_path_to_root()):\n",
    "    if s is not None:\n",
    "        print(to_src(s))"
   ]
  },
  {
   "cell_type": "code",
   "execution_count": 174,
   "metadata": {
    "execution": {
     "iopub.execute_input": "2022-01-24T10:02:39.418398Z",
     "iopub.status.busy": "2022-01-24T10:02:39.417724Z",
     "iopub.status.idle": "2022-01-24T10:02:39.421168Z",
     "shell.execute_reply": "2022-01-24T10:02:39.422111Z"
    },
    "slideshow": {
     "slide_type": "subslide"
    }
   },
   "outputs": [],
   "source": [
    "constraints = asymfz_gcd.extract_constraints(all_paths[37].get_path_to_root())"
   ]
  },
  {
   "cell_type": "code",
   "execution_count": 175,
   "metadata": {
    "execution": {
     "iopub.execute_input": "2022-01-24T10:02:39.428161Z",
     "iopub.status.busy": "2022-01-24T10:02:39.426948Z",
     "iopub.status.idle": "2022-01-24T10:02:39.431167Z",
     "shell.execute_reply": "2022-01-24T10:02:39.431707Z"
    },
    "slideshow": {
     "slide_type": "fragment"
    }
   },
   "outputs": [
    {
     "data": {
      "text/plain": [
       "['z3.And(a == _a_0, b == _b_0)',\n",
       " 'z3.Not(_a_0 < _b_0)',\n",
       " '_b_0 != 0',\n",
       " '_c_0 == _a_0',\n",
       " '_a_1 == _b_0',\n",
       " '_b_1 == _c_0 % _b_0',\n",
       " '_b_1 != 0',\n",
       " '_c_1 == _a_1',\n",
       " '_a_2 == _b_1',\n",
       " '_b_2 == _c_1 % _b_1',\n",
       " '_b_2 != 0']"
      ]
     },
     "execution_count": 175,
     "metadata": {},
     "output_type": "execute_result"
    }
   ],
   "source": [
    "constraints"
   ]
  },
  {
   "cell_type": "markdown",
   "metadata": {
    "slideshow": {
     "slide_type": "subslide"
    }
   },
   "source": [
    "The constraints printed out demonstrates that our approach for renaming variables was successful. We need only one more piece to complete the puzzle. Our path is still a `PNode`. We need to modify `get_next_path()` so that we return the corresponding predicate chain."
   ]
  },
  {
   "cell_type": "code",
   "execution_count": 176,
   "metadata": {
    "execution": {
     "iopub.execute_input": "2022-01-24T10:02:39.439532Z",
     "iopub.status.busy": "2022-01-24T10:02:39.437440Z",
     "iopub.status.idle": "2022-01-24T10:02:39.441469Z",
     "shell.execute_reply": "2022-01-24T10:02:39.442730Z"
    },
    "slideshow": {
     "slide_type": "fragment"
    }
   },
   "outputs": [],
   "source": [
    "class SymbolicFuzzer(SymbolicFuzzer):\n",
    "    def get_next_path(self):\n",
    "        self.last_path -= 1\n",
    "        if self.last_path == -1:\n",
    "            self.last_path = len(self.paths) - 1\n",
    "        return self.paths[self.last_path].get_path_to_root()"
   ]
  },
  {
   "cell_type": "markdown",
   "metadata": {
    "slideshow": {
     "slide_type": "fragment"
    }
   },
   "source": [
    "We will see next how to use our fuzzer for fuzzing."
   ]
  },
  {
   "cell_type": "markdown",
   "metadata": {
    "slideshow": {
     "slide_type": "subslide"
    }
   },
   "source": [
    "### Fuzzing with Advanced Symbolic Fuzzer\n",
    "\n",
    "We use our advanced symbolic fuzzer on *gcd* to generate plausible inputs."
   ]
  },
  {
   "cell_type": "code",
   "execution_count": 177,
   "metadata": {
    "execution": {
     "iopub.execute_input": "2022-01-24T10:02:39.456669Z",
     "iopub.status.busy": "2022-01-24T10:02:39.455549Z",
     "iopub.status.idle": "2022-01-24T10:02:39.551399Z",
     "shell.execute_reply": "2022-01-24T10:02:39.550822Z"
    },
    "slideshow": {
     "slide_type": "subslide"
    }
   },
   "outputs": [
    {
     "name": "stdout",
     "output_type": "stream",
     "text": [
      "{'a': 8, 'b': 3} result: 1\n",
      "{'a': 1, 'b': 2} result: 1\n",
      "{'a': 3, 'b': 4} result: 1\n",
      "{'a': 9, 'b': -18} result: -9\n",
      "{'a': 2, 'b': 3} result: 1\n",
      "{'a': 4, 'b': 4} result: 4\n",
      "{'a': 9, 'b': 8} result: 1\n",
      "{'a': 5, 'b': 10} result: 5\n",
      "{'a': 4, 'b': 1} result: 1\n",
      "{'a': 6, 'b': 5} result: 1\n"
     ]
    }
   ],
   "source": [
    "asymfz_gcd = SymbolicFuzzer(\n",
    "    gcd, max_tries=10, max_iter=10, max_depth=10)\n",
    "data = []\n",
    "for i in range(10):\n",
    "    r = asymfz_gcd.fuzz()\n",
    "    data.append((r['a'].as_long(), r['b'].as_long()))\n",
    "    v = gcd(*data[-1])\n",
    "    print(r, \"result:\", repr(v))"
   ]
  },
  {
   "cell_type": "markdown",
   "metadata": {
    "slideshow": {
     "slide_type": "subslide"
    }
   },
   "source": [
    "The outputs look reasonable. However, what is the coverage obtained?"
   ]
  },
  {
   "cell_type": "code",
   "execution_count": 178,
   "metadata": {
    "execution": {
     "iopub.execute_input": "2022-01-24T10:02:39.565221Z",
     "iopub.status.busy": "2022-01-24T10:02:39.564174Z",
     "iopub.status.idle": "2022-01-24T10:02:40.227903Z",
     "shell.execute_reply": "2022-01-24T10:02:40.228605Z"
    },
    "slideshow": {
     "slide_type": "fragment"
    }
   },
   "outputs": [],
   "source": [
    "with VisualizedArcCoverage() as cov:\n",
    "    for a, b in data:\n",
    "        gcd(a, b)"
   ]
  },
  {
   "cell_type": "code",
   "execution_count": 179,
   "metadata": {
    "execution": {
     "iopub.execute_input": "2022-01-24T10:02:40.236541Z",
     "iopub.status.busy": "2022-01-24T10:02:40.234647Z",
     "iopub.status.idle": "2022-01-24T10:02:40.240232Z",
     "shell.execute_reply": "2022-01-24T10:02:40.241004Z"
    },
    "slideshow": {
     "slide_type": "subslide"
    }
   },
   "outputs": [
    {
     "name": "stdout",
     "output_type": "stream",
     "text": [
      "#  1: def gcd(a: int, b: int) -> int:\n",
      "#  2:     if a < b:\n",
      "#  3:         c: int = a  # type: ignore\n",
      "#  4:         a = b\n",
      "#  5:         b = c\n",
      "   6: \n",
      "#  7:     while b != 0:\n",
      "#  8:         c: int = a  # type: ignore\n",
      "#  9:         a = b\n",
      "# 10:         b = c % b\n",
      "  11: \n",
      "# 12:     return a\n",
      "  13: \n"
     ]
    }
   ],
   "source": [
    "cov.show_coverage(gcd)"
   ]
  },
  {
   "cell_type": "code",
   "execution_count": 180,
   "metadata": {
    "execution": {
     "iopub.execute_input": "2022-01-24T10:02:40.250251Z",
     "iopub.status.busy": "2022-01-24T10:02:40.246801Z",
     "iopub.status.idle": "2022-01-24T10:02:40.969630Z",
     "shell.execute_reply": "2022-01-24T10:02:40.970772Z"
    },
    "slideshow": {
     "slide_type": "subslide"
    }
   },
   "outputs": [
    {
     "data": {
      "image/svg+xml": [
       "<?xml version=\"1.0\" encoding=\"UTF-8\" standalone=\"no\"?>\n",
       "<!DOCTYPE svg PUBLIC \"-//W3C//DTD SVG 1.1//EN\"\n",
       " \"http://www.w3.org/Graphics/SVG/1.1/DTD/svg11.dtd\">\n",
       "<!-- Generated by graphviz version 2.49.3 (20211023.0002)\n",
       " -->\n",
       "<!-- Pages: 1 -->\n",
       "<svg width=\"288pt\" height=\"636pt\"\n",
       " viewBox=\"0.00 0.00 287.52 636.00\" xmlns=\"http://www.w3.org/2000/svg\" xmlns:xlink=\"http://www.w3.org/1999/xlink\">\n",
       "<g id=\"graph0\" class=\"graph\" transform=\"scale(1 1) rotate(0) translate(4 632)\">\n",
       "<polygon fill=\"white\" stroke=\"transparent\" points=\"-4,4 -4,-632 283.52,-632 283.52,4 -4,4\"/>\n",
       "<!-- 1 -->\n",
       "<g id=\"node1\" class=\"node\">\n",
       "<title>1</title>\n",
       "<ellipse fill=\"none\" stroke=\"black\" cx=\"178.84\" cy=\"-606\" rx=\"75.29\" ry=\"18\"/>\n",
       "<ellipse fill=\"none\" stroke=\"black\" cx=\"178.84\" cy=\"-606\" rx=\"79.29\" ry=\"22\"/>\n",
       "<text text-anchor=\"middle\" x=\"178.84\" y=\"-602.3\" font-family=\"Times,serif\" font-size=\"14.00\">1: enter: gcd(a, b)</text>\n",
       "</g>\n",
       "<!-- 3 -->\n",
       "<g id=\"node4\" class=\"node\">\n",
       "<title>3</title>\n",
       "<polygon fill=\"none\" stroke=\"black\" points=\"178.84,-548 109.97,-530 178.84,-512 247.72,-530 178.84,-548\"/>\n",
       "<text text-anchor=\"middle\" x=\"178.84\" y=\"-526.3\" font-family=\"Times,serif\" font-size=\"14.00\">2: if: a &lt; b</text>\n",
       "</g>\n",
       "<!-- 1&#45;&gt;3 -->\n",
       "<g id=\"edge2\" class=\"edge\">\n",
       "<title>1&#45;&gt;3</title>\n",
       "<path fill=\"none\" stroke=\"green\" d=\"M178.84,-583.99C178.84,-576.06 178.84,-566.91 178.84,-558.48\"/>\n",
       "<polygon fill=\"green\" stroke=\"green\" points=\"182.34,-558.31 178.84,-548.31 175.34,-558.31 182.34,-558.31\"/>\n",
       "</g>\n",
       "<!-- 2 -->\n",
       "<g id=\"node2\" class=\"node\">\n",
       "<title>2</title>\n",
       "<ellipse fill=\"none\" stroke=\"black\" cx=\"74.84\" cy=\"-94\" rx=\"70.7\" ry=\"18\"/>\n",
       "<ellipse fill=\"none\" stroke=\"black\" cx=\"74.84\" cy=\"-94\" rx=\"74.69\" ry=\"22\"/>\n",
       "<text text-anchor=\"middle\" x=\"74.84\" y=\"-90.3\" font-family=\"Times,serif\" font-size=\"14.00\">1: exit: gcd(a, b)</text>\n",
       "</g>\n",
       "<!-- 11 -->\n",
       "<g id=\"node3\" class=\"node\">\n",
       "<title>11</title>\n",
       "<polygon fill=\"none\" stroke=\"black\" points=\"115.34,-188 34.34,-188 34.34,-152 115.34,-152 115.34,-188\"/>\n",
       "<text text-anchor=\"middle\" x=\"74.84\" y=\"-166.3\" font-family=\"Times,serif\" font-size=\"14.00\">12: return a</text>\n",
       "</g>\n",
       "<!-- 11&#45;&gt;2 -->\n",
       "<g id=\"edge1\" class=\"edge\">\n",
       "<title>11&#45;&gt;2</title>\n",
       "<path fill=\"none\" stroke=\"green\" d=\"M74.84,-151.84C74.84,-144.16 74.84,-134.88 74.84,-126.05\"/>\n",
       "<polygon fill=\"green\" stroke=\"green\" points=\"78.34,-126.03 74.84,-116.03 71.34,-126.03 78.34,-126.03\"/>\n",
       "</g>\n",
       "<!-- 4 -->\n",
       "<g id=\"node5\" class=\"node\">\n",
       "<title>4</title>\n",
       "<ellipse fill=\"none\" stroke=\"black\" cx=\"138.84\" cy=\"-458\" rx=\"51.99\" ry=\"18\"/>\n",
       "<text text-anchor=\"middle\" x=\"138.84\" y=\"-454.3\" font-family=\"Times,serif\" font-size=\"14.00\">3: c: int = a</text>\n",
       "</g>\n",
       "<!-- 3&#45;&gt;4 -->\n",
       "<g id=\"edge3\" class=\"edge\">\n",
       "<title>3&#45;&gt;4</title>\n",
       "<path fill=\"none\" stroke=\"green\" d=\"M170.36,-514.15C165.44,-505.55 159.12,-494.48 153.43,-484.52\"/>\n",
       "<polygon fill=\"green\" stroke=\"green\" points=\"156.44,-482.73 148.44,-475.79 150.36,-486.21 156.44,-482.73\"/>\n",
       "</g>\n",
       "<!-- 7 -->\n",
       "<g id=\"node8\" class=\"node\">\n",
       "<title>7</title>\n",
       "<polygon fill=\"none\" stroke=\"black\" points=\"184.84,-260 90,-242 184.84,-224 279.69,-242 184.84,-260\"/>\n",
       "<text text-anchor=\"middle\" x=\"184.84\" y=\"-238.3\" font-family=\"Times,serif\" font-size=\"14.00\">7: while: b != 0</text>\n",
       "</g>\n",
       "<!-- 3&#45;&gt;7 -->\n",
       "<g id=\"edge7\" class=\"edge\">\n",
       "<title>3&#45;&gt;7</title>\n",
       "<path fill=\"none\" stroke=\"green\" d=\"M186.7,-513.7C191.55,-503.35 197.32,-489.22 199.84,-476 213.96,-402.04 199.69,-312.73 190.8,-269.29\"/>\n",
       "<polygon fill=\"green\" stroke=\"green\" points=\"194.17,-268.33 188.68,-259.28 187.33,-269.78 194.17,-268.33\"/>\n",
       "</g>\n",
       "<!-- 5 -->\n",
       "<g id=\"node6\" class=\"node\">\n",
       "<title>5</title>\n",
       "<polygon fill=\"none\" stroke=\"black\" points=\"179.34,-404 120.34,-404 120.34,-368 179.34,-368 179.34,-404\"/>\n",
       "<text text-anchor=\"middle\" x=\"149.84\" y=\"-382.3\" font-family=\"Times,serif\" font-size=\"14.00\">4: a = b</text>\n",
       "</g>\n",
       "<!-- 4&#45;&gt;5 -->\n",
       "<g id=\"edge4\" class=\"edge\">\n",
       "<title>4&#45;&gt;5</title>\n",
       "<path fill=\"none\" stroke=\"green\" d=\"M141.56,-439.7C142.78,-431.98 144.23,-422.71 145.58,-414.11\"/>\n",
       "<polygon fill=\"green\" stroke=\"green\" points=\"149.06,-414.53 147.16,-404.1 142.15,-413.44 149.06,-414.53\"/>\n",
       "</g>\n",
       "<!-- 6 -->\n",
       "<g id=\"node7\" class=\"node\">\n",
       "<title>6</title>\n",
       "<polygon fill=\"none\" stroke=\"black\" points=\"185.34,-332 126.34,-332 126.34,-296 185.34,-296 185.34,-332\"/>\n",
       "<text text-anchor=\"middle\" x=\"155.84\" y=\"-310.3\" font-family=\"Times,serif\" font-size=\"14.00\">5: b = c</text>\n",
       "</g>\n",
       "<!-- 5&#45;&gt;6 -->\n",
       "<g id=\"edge5\" class=\"edge\">\n",
       "<title>5&#45;&gt;6</title>\n",
       "<path fill=\"none\" stroke=\"green\" d=\"M151.33,-367.7C151.99,-359.98 152.78,-350.71 153.52,-342.11\"/>\n",
       "<polygon fill=\"green\" stroke=\"green\" points=\"157.01,-342.37 154.38,-332.1 150.04,-341.77 157.01,-342.37\"/>\n",
       "</g>\n",
       "<!-- 6&#45;&gt;7 -->\n",
       "<g id=\"edge6\" class=\"edge\">\n",
       "<title>6&#45;&gt;7</title>\n",
       "<path fill=\"none\" stroke=\"green\" d=\"M163.01,-295.7C166.41,-287.49 170.54,-277.52 174.29,-268.48\"/>\n",
       "<polygon fill=\"green\" stroke=\"green\" points=\"177.56,-269.72 178.16,-259.14 171.09,-267.04 177.56,-269.72\"/>\n",
       "</g>\n",
       "<!-- 7&#45;&gt;11 -->\n",
       "<g id=\"edge12\" class=\"edge\">\n",
       "<title>7&#45;&gt;11</title>\n",
       "<path fill=\"none\" stroke=\"green\" d=\"M164.15,-227.83C148.96,-218.17 127.96,-204.8 110.14,-193.46\"/>\n",
       "<polygon fill=\"green\" stroke=\"green\" points=\"112,-190.5 101.69,-188.08 108.24,-196.4 112,-190.5\"/>\n",
       "</g>\n",
       "<!-- 8 -->\n",
       "<g id=\"node10\" class=\"node\">\n",
       "<title>8</title>\n",
       "<ellipse fill=\"none\" stroke=\"black\" cx=\"184.84\" cy=\"-170\" rx=\"51.99\" ry=\"18\"/>\n",
       "<text text-anchor=\"middle\" x=\"184.84\" y=\"-166.3\" font-family=\"Times,serif\" font-size=\"14.00\">8: c: int = a</text>\n",
       "</g>\n",
       "<!-- 7&#45;&gt;8 -->\n",
       "<g id=\"edge9\" class=\"edge\">\n",
       "<title>7&#45;&gt;8</title>\n",
       "<path fill=\"none\" stroke=\"green\" d=\"M184.84,-223.7C184.84,-215.98 184.84,-206.71 184.84,-198.11\"/>\n",
       "<polygon fill=\"green\" stroke=\"green\" points=\"188.34,-198.1 184.84,-188.1 181.34,-198.1 188.34,-198.1\"/>\n",
       "</g>\n",
       "<!-- 10 -->\n",
       "<g id=\"node9\" class=\"node\">\n",
       "<title>10</title>\n",
       "<polygon fill=\"none\" stroke=\"black\" points=\"278.84,-36 186.84,-36 186.84,0 278.84,0 278.84,-36\"/>\n",
       "<text text-anchor=\"middle\" x=\"232.84\" y=\"-14.3\" font-family=\"Times,serif\" font-size=\"14.00\">10: b = c % b</text>\n",
       "</g>\n",
       "<!-- 10&#45;&gt;7 -->\n",
       "<g id=\"edge8\" class=\"edge\">\n",
       "<title>10&#45;&gt;7</title>\n",
       "<path fill=\"none\" stroke=\"green\" d=\"M239.36,-36.01C250.35,-67.59 269.22,-136.72 245.84,-188 239.52,-201.87 227.58,-213.51 215.93,-222.32\"/>\n",
       "<polygon fill=\"green\" stroke=\"green\" points=\"213.72,-219.59 207.58,-228.22 217.76,-225.31 213.72,-219.59\"/>\n",
       "</g>\n",
       "<!-- 9 -->\n",
       "<g id=\"node11\" class=\"node\">\n",
       "<title>9</title>\n",
       "<polygon fill=\"none\" stroke=\"black\" points=\"231.34,-112 172.34,-112 172.34,-76 231.34,-76 231.34,-112\"/>\n",
       "<text text-anchor=\"middle\" x=\"201.84\" y=\"-90.3\" font-family=\"Times,serif\" font-size=\"14.00\">9: a = b</text>\n",
       "</g>\n",
       "<!-- 8&#45;&gt;9 -->\n",
       "<g id=\"edge10\" class=\"edge\">\n",
       "<title>8&#45;&gt;9</title>\n",
       "<path fill=\"none\" stroke=\"green\" d=\"M188.79,-151.84C190.82,-142.96 193.36,-131.93 195.65,-121.95\"/>\n",
       "<polygon fill=\"green\" stroke=\"green\" points=\"199.09,-122.6 197.92,-112.07 192.27,-121.03 199.09,-122.6\"/>\n",
       "</g>\n",
       "<!-- 9&#45;&gt;10 -->\n",
       "<g id=\"edge11\" class=\"edge\">\n",
       "<title>9&#45;&gt;10</title>\n",
       "<path fill=\"none\" stroke=\"green\" d=\"M209.03,-75.84C212.83,-66.78 217.57,-55.47 221.82,-45.32\"/>\n",
       "<polygon fill=\"green\" stroke=\"green\" points=\"225.06,-46.65 225.69,-36.07 218.6,-43.94 225.06,-46.65\"/>\n",
       "</g>\n",
       "</g>\n",
       "</svg>\n"
      ],
      "text/plain": [
       "<graphviz.dot.Digraph at 0x10914a0d0>"
      ]
     },
     "execution_count": 180,
     "metadata": {},
     "output_type": "execute_result"
    }
   ],
   "source": [
    "show_cfg(gcd, arcs=cov.arcs())"
   ]
  },
  {
   "cell_type": "markdown",
   "metadata": {
    "slideshow": {
     "slide_type": "fragment"
    }
   },
   "source": [
    "Indeed both branch and statement coverage visualization seems to indicate that we achieved complete coverage.\n",
    "How do we make use of our fuzzer in practice? We explore a small case study of a program to solve the roots of a quadratic equation."
   ]
  },
  {
   "cell_type": "markdown",
   "metadata": {
    "slideshow": {
     "slide_type": "subslide"
    }
   },
   "source": [
    "#### Example: Roots of a Quadratic Equation\n",
    "Here is the famous equation for finding the roots of a quadratic equation."
   ]
  },
  {
   "cell_type": "code",
   "execution_count": 181,
   "metadata": {
    "execution": {
     "iopub.execute_input": "2022-01-24T10:02:40.978595Z",
     "iopub.status.busy": "2022-01-24T10:02:40.977439Z",
     "iopub.status.idle": "2022-01-24T10:02:40.980465Z",
     "shell.execute_reply": "2022-01-24T10:02:40.980963Z"
    },
    "slideshow": {
     "slide_type": "skip"
    }
   },
   "outputs": [],
   "source": [
    "from typing import Tuple"
   ]
  },
  {
   "cell_type": "code",
   "execution_count": 182,
   "metadata": {
    "execution": {
     "iopub.execute_input": "2022-01-24T10:02:40.988620Z",
     "iopub.status.busy": "2022-01-24T10:02:40.987559Z",
     "iopub.status.idle": "2022-01-24T10:02:40.990439Z",
     "shell.execute_reply": "2022-01-24T10:02:40.991091Z"
    },
    "slideshow": {
     "slide_type": "subslide"
    }
   },
   "outputs": [],
   "source": [
    "def roots(a: float, b: float, c: float) -> Tuple[float, float]:\n",
    "    d: float = b * b - 4 * a * c\n",
    "    ax: float = 0.5 * d\n",
    "    bx: float = 0\n",
    "    while (ax - bx) > 0.1:\n",
    "        bx = 0.5 * (ax + d / ax)\n",
    "        ax = bx\n",
    "\n",
    "    s: float = bx\n",
    "    a2: float = 2 * a\n",
    "    ba2: float = b / a2\n",
    "\n",
    "    return -ba2 + s / a2, -ba2 - s / a2"
   ]
  },
  {
   "cell_type": "markdown",
   "metadata": {
    "slideshow": {
     "slide_type": "subslide"
    }
   },
   "source": [
    "Does the program look correct? Let us investigate if the program is reasonable. But before that, we need a helper\n",
    "function `sym_to_float()` to convert symbolic values to floating point."
   ]
  },
  {
   "cell_type": "code",
   "execution_count": 183,
   "metadata": {
    "execution": {
     "iopub.execute_input": "2022-01-24T10:02:40.998846Z",
     "iopub.status.busy": "2022-01-24T10:02:40.998143Z",
     "iopub.status.idle": "2022-01-24T10:02:41.000555Z",
     "shell.execute_reply": "2022-01-24T10:02:41.001203Z"
    },
    "slideshow": {
     "slide_type": "fragment"
    }
   },
   "outputs": [],
   "source": [
    "def sym_to_float(v):\n",
    "    if v is None:\n",
    "        return math.inf\n",
    "    elif isinstance(v, z3.IntNumRef):\n",
    "        return v.as_long()\n",
    "    return v.numerator_as_long() / v.denominator_as_long()"
   ]
  },
  {
   "cell_type": "markdown",
   "metadata": {
    "slideshow": {
     "slide_type": "fragment"
    }
   },
   "source": [
    "Now we are ready to fuzz."
   ]
  },
  {
   "cell_type": "code",
   "execution_count": 184,
   "metadata": {
    "execution": {
     "iopub.execute_input": "2022-01-24T10:02:41.017603Z",
     "iopub.status.busy": "2022-01-24T10:02:41.016488Z",
     "iopub.status.idle": "2022-01-24T10:02:41.019228Z",
     "shell.execute_reply": "2022-01-24T10:02:41.020028Z"
    },
    "slideshow": {
     "slide_type": "subslide"
    }
   },
   "outputs": [],
   "source": [
    "asymfz_roots = SymbolicFuzzer(\n",
    "    roots,\n",
    "    max_tries=10,\n",
    "    max_iter=10,\n",
    "    max_depth=10)"
   ]
  },
  {
   "cell_type": "code",
   "execution_count": 185,
   "metadata": {
    "execution": {
     "iopub.execute_input": "2022-01-24T10:02:41.031050Z",
     "iopub.status.busy": "2022-01-24T10:02:41.029848Z",
     "iopub.status.idle": "2022-01-24T10:02:41.076370Z",
     "shell.execute_reply": "2022-01-24T10:02:41.076962Z"
    },
    "slideshow": {
     "slide_type": "subslide"
    }
   },
   "outputs": [
    {
     "name": "stdout",
     "output_type": "stream",
     "text": [
      "{'a': 11/10, 'b': 0, 'c': -1/2}\n",
      "[1.1, 0.0, -0.5] (0.7045454545454545, -0.7045454545454545)\n",
      "{'a': 0, 'b': -1/4, 'c': -1}\n"
     ]
    },
    {
     "name": "stderr",
     "output_type": "stream",
     "text": [
      "Traceback (most recent call last):\n",
      "  File \"/var/folders/n2/xd9445p97rb3xh7m1dfx8_4h0006ts/T/ipykernel_67683/94617992.py\", line 6, in <module>\n",
      "    v = roots(*d)\n",
      "  File \"/var/folders/n2/xd9445p97rb3xh7m1dfx8_4h0006ts/T/ipykernel_67683/2299859991.py\", line 11, in roots\n",
      "    ba2: float = b / a2\n",
      "ZeroDivisionError: float division by zero (expected)\n"
     ]
    }
   ],
   "source": [
    "with ExpectError():\n",
    "    for i in range(100):\n",
    "        r = asymfz_roots.fuzz()\n",
    "        print(r)\n",
    "        d = [sym_to_float(r[i]) for i in ['a', 'b', 'c']]\n",
    "        v = roots(*d)\n",
    "        print(d, v)"
   ]
  },
  {
   "cell_type": "markdown",
   "metadata": {
    "slideshow": {
     "slide_type": "subslide"
    }
   },
   "source": [
    "We have a `ZeroDivisionError`. Can we eliminate it?"
   ]
  },
  {
   "cell_type": "markdown",
   "metadata": {
    "slideshow": {
     "slide_type": "subslide"
    }
   },
   "source": [
    "#####  Roots - Check Before Divide"
   ]
  },
  {
   "cell_type": "code",
   "execution_count": 186,
   "metadata": {
    "execution": {
     "iopub.execute_input": "2022-01-24T10:02:41.085319Z",
     "iopub.status.busy": "2022-01-24T10:02:41.084340Z",
     "iopub.status.idle": "2022-01-24T10:02:41.086707Z",
     "shell.execute_reply": "2022-01-24T10:02:41.087390Z"
    },
    "slideshow": {
     "slide_type": "subslide"
    }
   },
   "outputs": [],
   "source": [
    "def roots2(a: float, b: float, c: float) -> Tuple[float, float]:\n",
    "    d: float = b * b - 4 * a * c\n",
    "\n",
    "    xa: float = 0.5 * d\n",
    "    xb: float = 0\n",
    "    while (xa - xb) > 0.1:\n",
    "        xb = 0.5 * (xa + d / xa)\n",
    "        xa = xb\n",
    "\n",
    "    s: float = xb\n",
    "\n",
    "    if a == 0:\n",
    "        return -c / b, -c / b  # only one solution\n",
    "\n",
    "    a2: float = 2 * a\n",
    "    ba2: float = b / a2\n",
    "    return -ba2 + s / a2, -ba2 - s / a2"
   ]
  },
  {
   "cell_type": "code",
   "execution_count": 187,
   "metadata": {
    "execution": {
     "iopub.execute_input": "2022-01-24T10:02:41.093336Z",
     "iopub.status.busy": "2022-01-24T10:02:41.092250Z",
     "iopub.status.idle": "2022-01-24T10:02:41.105457Z",
     "shell.execute_reply": "2022-01-24T10:02:41.106131Z"
    },
    "slideshow": {
     "slide_type": "subslide"
    }
   },
   "outputs": [],
   "source": [
    "asymfz_roots = SymbolicFuzzer(\n",
    "    roots2,\n",
    "    max_tries=10,\n",
    "    max_iter=10,\n",
    "    max_depth=10)"
   ]
  },
  {
   "cell_type": "code",
   "execution_count": 188,
   "metadata": {
    "execution": {
     "iopub.execute_input": "2022-01-24T10:02:41.113101Z",
     "iopub.status.busy": "2022-01-24T10:02:41.112294Z",
     "iopub.status.idle": "2022-01-24T10:02:41.190632Z",
     "shell.execute_reply": "2022-01-24T10:02:41.191309Z"
    },
    "slideshow": {
     "slide_type": "subslide"
    }
   },
   "outputs": [
    {
     "name": "stderr",
     "output_type": "stream",
     "text": [
      "Traceback (most recent call last):\n",
      "  File \"/var/folders/n2/xd9445p97rb3xh7m1dfx8_4h0006ts/T/ipykernel_67683/567876003.py\", line 5, in <module>\n",
      "    v = roots2(*d)\n",
      "  File \"/var/folders/n2/xd9445p97rb3xh7m1dfx8_4h0006ts/T/ipykernel_67683/714795544.py\", line 13, in roots2\n",
      "    return -c / b, -c / b  # only one solution\n",
      "ZeroDivisionError: float division by zero (expected)\n"
     ]
    }
   ],
   "source": [
    "with ExpectError():\n",
    "    for i in range(1000):\n",
    "        r = asymfz_roots.fuzz()\n",
    "        d = [sym_to_float(r[i]) for i in ['a', 'b', 'c']]\n",
    "        v = roots2(*d)\n",
    "        #print(d, v)"
   ]
  },
  {
   "cell_type": "markdown",
   "metadata": {
    "slideshow": {
     "slide_type": "fragment"
    }
   },
   "source": [
    "Apparently, our fix was incomplete. Let us try again."
   ]
  },
  {
   "cell_type": "markdown",
   "metadata": {
    "slideshow": {
     "slide_type": "subslide"
    }
   },
   "source": [
    "#####  Roots - Eliminating the Zero Division Error"
   ]
  },
  {
   "cell_type": "code",
   "execution_count": 189,
   "metadata": {
    "execution": {
     "iopub.execute_input": "2022-01-24T10:02:41.197713Z",
     "iopub.status.busy": "2022-01-24T10:02:41.196400Z",
     "iopub.status.idle": "2022-01-24T10:02:41.198856Z",
     "shell.execute_reply": "2022-01-24T10:02:41.199358Z"
    },
    "slideshow": {
     "slide_type": "skip"
    }
   },
   "outputs": [],
   "source": [
    "import math"
   ]
  },
  {
   "cell_type": "code",
   "execution_count": 190,
   "metadata": {
    "execution": {
     "iopub.execute_input": "2022-01-24T10:02:41.207724Z",
     "iopub.status.busy": "2022-01-24T10:02:41.206585Z",
     "iopub.status.idle": "2022-01-24T10:02:41.208707Z",
     "shell.execute_reply": "2022-01-24T10:02:41.209196Z"
    },
    "slideshow": {
     "slide_type": "subslide"
    }
   },
   "outputs": [],
   "source": [
    "def roots3(a: float, b: float, c: float) -> Tuple[float, float]:\n",
    "    d: float = b * b - 4 * a * c\n",
    "\n",
    "    xa: float = 0.5 * d\n",
    "    xb: float = 0\n",
    "    while (xa - xb) > 0.1:\n",
    "        xb = 0.5 * (xa + d / xa)\n",
    "        xa = xb\n",
    "    s: float = xb\n",
    "\n",
    "    if a == 0:\n",
    "        if b == 0:\n",
    "            return math.inf, math.inf\n",
    "        return -c / b, -c / b  # only one solution\n",
    "\n",
    "    a2: float = 2 * a\n",
    "    ba2: float = b / a2\n",
    "    return -ba2 + s / a2, -ba2 - s / a2"
   ]
  },
  {
   "cell_type": "code",
   "execution_count": 191,
   "metadata": {
    "execution": {
     "iopub.execute_input": "2022-01-24T10:02:41.223743Z",
     "iopub.status.busy": "2022-01-24T10:02:41.213520Z",
     "iopub.status.idle": "2022-01-24T10:02:41.228638Z",
     "shell.execute_reply": "2022-01-24T10:02:41.229399Z"
    },
    "slideshow": {
     "slide_type": "subslide"
    }
   },
   "outputs": [],
   "source": [
    "asymfz_roots = SymbolicFuzzer(\n",
    "    roots3,\n",
    "    max_tries=10,\n",
    "    max_iter=10,\n",
    "    max_depth=10)"
   ]
  },
  {
   "cell_type": "code",
   "execution_count": 192,
   "metadata": {
    "execution": {
     "iopub.execute_input": "2022-01-24T10:02:41.237498Z",
     "iopub.status.busy": "2022-01-24T10:02:41.236324Z",
     "iopub.status.idle": "2022-01-24T10:02:41.366824Z",
     "shell.execute_reply": "2022-01-24T10:02:41.367407Z"
    },
    "slideshow": {
     "slide_type": "subslide"
    }
   },
   "outputs": [
    {
     "name": "stdout",
     "output_type": "stream",
     "text": [
      "{'a': -1, 'b': 0, 'c': 0}\n",
      "[-1.0, 0.0, 0.0] (0.0, 0.0)\n",
      "{'a': -1/2, 'b': 1/2, 'c': 19/40}\n",
      "[-0.5, 0.5, 0.475] (-0.8, 1.8)\n",
      "{'a': -3/2, 'b': -1, 'c': -1/6}\n",
      "[-1.5, -1.0, -0.16666666666666666] (-0.3333333333333333, -0.3333333333333333)\n",
      "{'a': 0, 'b': -1/4, 'c': 2}\n",
      "[0.0, -0.25, 2.0] (8.0, 8.0)\n",
      "{'a': 0, 'b': 0, 'c': 3}\n",
      "[0.0, 0.0, 3.0] (inf, inf)\n",
      "{'a': 0, 'b': -63/64, 'c': 4}\n",
      "[0.0, -0.984375, 4.0] (4.063492063492063, 4.063492063492063)\n",
      "{'a': -9/16, 'b': 3/2, 'c': -1}\n",
      "[-0.5625, 1.5, -1.0] (1.3333333333333333, 1.3333333333333333)\n",
      "{'a': 0, 'b': -3/8, 'c': 5}\n",
      "[0.0, -0.375, 5.0] (13.333333333333334, 13.333333333333334)\n",
      "{'a': 0, 'b': 0, 'c': 6}\n",
      "[0.0, 0.0, 6.0] (inf, inf)\n",
      "{'a': 51539916617/1236950581248, 'b': 434717/262144, 'c': 9/2}\n",
      "[0.04166691652709334, 1.6583137512207031, 4.5] (-1.8997536224904188, -37.89953774437632)\n"
     ]
    }
   ],
   "source": [
    "for i in range(10):\n",
    "    r = asymfz_roots.fuzz()\n",
    "    print(r)\n",
    "    d = [sym_to_float(r[i]) for i in ['a', 'b', 'c']]\n",
    "    v = roots3(*d)\n",
    "    print(d, v)"
   ]
  },
  {
   "cell_type": "markdown",
   "metadata": {
    "slideshow": {
     "slide_type": "subslide"
    }
   },
   "source": [
    "With this, we have demonstrated that we can use our *SymbolicFuzzer* to fuzz programs, and it can aid in identifying problems in code."
   ]
  },
  {
   "cell_type": "markdown",
   "metadata": {
    "slideshow": {
     "slide_type": "slide"
    },
    "tags": []
   },
   "source": [
    "## Limitations\n",
    "\n",
    "There is an evident error in the `roots3()` function. We are not checking for negative roots. However, the symbolic execution does not seem to have detected it. Why are we not able to detect the problem of negative roots? Because we stop execution at a predetermined depth without throwing an error. That is, our symbolic execution is wide but shallow. One of the ways this limitation can be overcome is by relying on [concolic execution](ConcolicFuzzer.ipynb), that allows one to go deeper than pure symbolic execution."
   ]
  },
  {
   "cell_type": "markdown",
   "metadata": {
    "jp-MarkdownHeadingCollapsed": true,
    "slideshow": {
     "slide_type": "fragment"
    },
    "tags": []
   },
   "source": [
    "A second problem is that symbolic execution is necessarily computation intensive. This means that specification based fuzzers are often able to generate a much larger set of inputs, and consecutively more coverage on programs that do not check for magic bytes, such that they provide a reasonable gradient of exploration."
   ]
  },
  {
   "cell_type": "markdown",
   "metadata": {
    "slideshow": {
     "slide_type": "slide"
    }
   },
   "source": [
    "## Synopsis"
   ]
  },
  {
   "cell_type": "markdown",
   "metadata": {
    "slideshow": {
     "slide_type": "fragment"
    }
   },
   "source": [
    "This chapter provides an implementation of a symbolic fuzzing engine `SymbolicFuzzer`. The fuzzer uses symbolic execution to exhaustively explore paths in the program to a limited depth, and generate inputs that will reach these paths."
   ]
  },
  {
   "cell_type": "markdown",
   "metadata": {
    "slideshow": {
     "slide_type": "fragment"
    }
   },
   "source": [
    "As an example, consider the function `gcd()`, computing the greatest common divisor of `a` and `b`:"
   ]
  },
  {
   "cell_type": "code",
   "execution_count": 193,
   "metadata": {
    "execution": {
     "iopub.execute_input": "2022-01-24T10:02:41.373498Z",
     "iopub.status.busy": "2022-01-24T10:02:41.372448Z",
     "iopub.status.idle": "2022-01-24T10:02:41.375386Z",
     "shell.execute_reply": "2022-01-24T10:02:41.376269Z"
    },
    "slideshow": {
     "slide_type": "fragment"
    }
   },
   "outputs": [],
   "source": [
    "# ignore\n",
    "from bookutils import print_content"
   ]
  },
  {
   "cell_type": "code",
   "execution_count": 194,
   "metadata": {
    "execution": {
     "iopub.execute_input": "2022-01-24T10:02:41.423976Z",
     "iopub.status.busy": "2022-01-24T10:02:41.380895Z",
     "iopub.status.idle": "2022-01-24T10:02:41.691435Z",
     "shell.execute_reply": "2022-01-24T10:02:41.691934Z"
    },
    "slideshow": {
     "slide_type": "subslide"
    }
   },
   "outputs": [
    {
     "name": "stdout",
     "output_type": "stream",
     "text": [
      "\u001b[34mdef\u001b[39;49;00m \u001b[32mgcd\u001b[39;49;00m(a: \u001b[36mint\u001b[39;49;00m, b: \u001b[36mint\u001b[39;49;00m) -> \u001b[36mint\u001b[39;49;00m:\n",
      "    \u001b[34mif\u001b[39;49;00m a < b:\n",
      "        c: \u001b[36mint\u001b[39;49;00m = a  \u001b[37m# type: ignore\u001b[39;49;00m\n",
      "        a = b\n",
      "        b = c\n",
      "\n",
      "    \u001b[34mwhile\u001b[39;49;00m b != \u001b[34m0\u001b[39;49;00m:\n",
      "        c: \u001b[36mint\u001b[39;49;00m = a  \u001b[37m# type: ignore\u001b[39;49;00m\n",
      "        a = b\n",
      "        b = c % b\n",
      "\n",
      "    \u001b[34mreturn\u001b[39;49;00m a"
     ]
    }
   ],
   "source": [
    "# ignore\n",
    "print_content(inspect.getsource(gcd), '.py')"
   ]
  },
  {
   "cell_type": "markdown",
   "metadata": {
    "slideshow": {
     "slide_type": "subslide"
    }
   },
   "source": [
    "To explore `gcd()`, the fuzzer can be used as follows, producing values for arguments that cover different paths in `gcd()` (including multiple times of loop iterations):"
   ]
  },
  {
   "cell_type": "code",
   "execution_count": 195,
   "metadata": {
    "execution": {
     "iopub.execute_input": "2022-01-24T10:02:41.709334Z",
     "iopub.status.busy": "2022-01-24T10:02:41.703046Z",
     "iopub.status.idle": "2022-01-24T10:02:41.791821Z",
     "shell.execute_reply": "2022-01-24T10:02:41.792431Z"
    },
    "slideshow": {
     "slide_type": "subslide"
    }
   },
   "outputs": [
    {
     "name": "stdout",
     "output_type": "stream",
     "text": [
      "{'a': 5, 'b': 3}\n",
      "{'a': 1, 'b': 4}\n",
      "{'a': 4, 'b': 5}\n",
      "{'a': 6, 'b': -7}\n",
      "{'a': 3, 'b': 4}\n",
      "{'a': 1, 'b': 1}\n",
      "{'a': 13, 'b': 7}\n",
      "{'a': 2, 'b': 4}\n",
      "{'a': 6, 'b': 6}\n",
      "{'a': 9, 'b': 8}\n"
     ]
    }
   ],
   "source": [
    "gcd_fuzzer = SymbolicFuzzer(gcd, max_tries=10, max_iter=10, max_depth=10)\n",
    "for i in range(10):\n",
    "    args = gcd_fuzzer.fuzz()\n",
    "    print(args)"
   ]
  },
  {
   "cell_type": "markdown",
   "metadata": {
    "slideshow": {
     "slide_type": "subslide"
    }
   },
   "source": [
    "Note that the variable values returned by `fuzz()` are Z3 _symbolic_ values; to convert them to Python numbers, use their method `as_long()`:"
   ]
  },
  {
   "cell_type": "code",
   "execution_count": 196,
   "metadata": {
    "execution": {
     "iopub.execute_input": "2022-01-24T10:02:41.799079Z",
     "iopub.status.busy": "2022-01-24T10:02:41.798245Z",
     "iopub.status.idle": "2022-01-24T10:02:41.845788Z",
     "shell.execute_reply": "2022-01-24T10:02:41.846599Z"
    },
    "slideshow": {
     "slide_type": "subslide"
    }
   },
   "outputs": [
    {
     "name": "stdout",
     "output_type": "stream",
     "text": [
      "gcd(0, 5) = 5\n",
      "gcd(-1, 0) = -1\n",
      "gcd(14, 13) = 1\n",
      "gcd(0, 14) = 14\n",
      "gcd(14, 15) = 1\n",
      "gcd(15, 15) = 15\n",
      "gcd(2, 3) = 1\n",
      "gcd(16, 0) = 16\n",
      "gcd(16, -1) = -1\n",
      "gcd(-1, 1) = -1\n"
     ]
    }
   ],
   "source": [
    "for i in range(10):\n",
    "    args = gcd_fuzzer.fuzz()\n",
    "    a = args['a'].as_long()\n",
    "    b = args['b'].as_long()\n",
    "    d = gcd(a, b)\n",
    "    print(f\"gcd({a}, {b}) = {d}\")"
   ]
  },
  {
   "cell_type": "markdown",
   "metadata": {
    "slideshow": {
     "slide_type": "subslide"
    }
   },
   "source": [
    "The symbolic fuzzer is subject to a number of constraints. First, it requires that the function to be fuzzed has correct type annotations, including all local variables. Second, it solves loops by unrolling them, but only for a fixed amount."
   ]
  },
  {
   "cell_type": "markdown",
   "metadata": {
    "slideshow": {
     "slide_type": "fragment"
    }
   },
   "source": [
    "For programs without loops and variable reassignments, the `SimpleSymbolicFuzzer` is a faster, but more limited alternative."
   ]
  },
  {
   "cell_type": "code",
   "execution_count": 197,
   "metadata": {
    "execution": {
     "iopub.execute_input": "2022-01-24T10:02:41.860539Z",
     "iopub.status.busy": "2022-01-24T10:02:41.859491Z",
     "iopub.status.idle": "2022-01-24T10:02:42.651475Z",
     "shell.execute_reply": "2022-01-24T10:02:42.650983Z"
    },
    "slideshow": {
     "slide_type": "fragment"
    }
   },
   "outputs": [
    {
     "data": {
      "image/svg+xml": [
       "<?xml version=\"1.0\" encoding=\"UTF-8\" standalone=\"no\"?>\n",
       "<!DOCTYPE svg PUBLIC \"-//W3C//DTD SVG 1.1//EN\"\n",
       " \"http://www.w3.org/Graphics/SVG/1.1/DTD/svg11.dtd\">\n",
       "<!-- Generated by graphviz version 2.49.3 (20211023.0002)\n",
       " -->\n",
       "<!-- Pages: 1 -->\n",
       "<svg width=\"301pt\" height=\"363pt\"\n",
       " viewBox=\"0.00 0.00 300.50 363.00\" xmlns=\"http://www.w3.org/2000/svg\" xmlns:xlink=\"http://www.w3.org/1999/xlink\">\n",
       "<g id=\"graph0\" class=\"graph\" transform=\"scale(1 1) rotate(0) translate(4 359)\">\n",
       "<g id=\"a_graph0\"><a xlink:title=\"SymbolicFuzzer class hierarchy\">\n",
       "<polygon fill=\"white\" stroke=\"transparent\" points=\"-4,4 -4,-359 296.5,-359 296.5,4 -4,4\"/>\n",
       "</a>\n",
       "</g>\n",
       "<!-- SymbolicFuzzer -->\n",
       "<g id=\"node1\" class=\"node\">\n",
       "<title>SymbolicFuzzer</title>\n",
       "<g id=\"a_node1\"><a xlink:href=\"#\" xlink:title=\"class SymbolicFuzzer:&#10;Symbolic fuzzing with reassignments and loop unrolling\">\n",
       "<polygon fill=\"none\" stroke=\"black\" points=\"1,-0.5 1,-86.5 156,-86.5 156,-0.5 1,-0.5\"/>\n",
       "<text text-anchor=\"start\" x=\"29.5\" y=\"-72.3\" font-family=\"Patua One, Helvetica, sans-serif\" font-weight=\"bold\" font-size=\"14.00\" fill=\"#b03a2e\">SymbolicFuzzer</text>\n",
       "<polyline fill=\"none\" stroke=\"black\" points=\"1,-63.5 156,-63.5 \"/>\n",
       "<g id=\"a_node1_0\"><a xlink:href=\"#\" xlink:title=\"SymbolicFuzzer\">\n",
       "<g id=\"a_node1_1\"><a xlink:href=\"#\" xlink:title=\"extract_constraints(self, path)\">\n",
       "<text text-anchor=\"start\" x=\"9.5\" y=\"-52\" font-family=\"'Fira Mono', 'Source Code Pro', 'Courier', monospace\" font-style=\"italic\" font-size=\"10.00\">extract_constraints()</text>\n",
       "</a>\n",
       "</g>\n",
       "<g id=\"a_node1_2\"><a xlink:href=\"#\" xlink:title=\"get_all_paths(self, fenter)\">\n",
       "<text text-anchor=\"start\" x=\"9.5\" y=\"-41\" font-family=\"'Fira Mono', 'Source Code Pro', 'Courier', monospace\" font-style=\"italic\" font-size=\"10.00\">get_all_paths()</text>\n",
       "</a>\n",
       "</g>\n",
       "<g id=\"a_node1_3\"><a xlink:href=\"#\" xlink:title=\"get_next_path(self)\">\n",
       "<text text-anchor=\"start\" x=\"9.5\" y=\"-30\" font-family=\"'Fira Mono', 'Source Code Pro', 'Courier', monospace\" font-style=\"italic\" font-size=\"10.00\">get_next_path()</text>\n",
       "</a>\n",
       "</g>\n",
       "<g id=\"a_node1_4\"><a xlink:href=\"#\" xlink:title=\"options(self, kwargs)\">\n",
       "<text text-anchor=\"start\" x=\"9.5\" y=\"-19\" font-family=\"'Fira Mono', 'Source Code Pro', 'Courier', monospace\" font-style=\"italic\" font-size=\"10.00\">options()</text>\n",
       "</a>\n",
       "</g>\n",
       "<g id=\"a_node1_5\"><a xlink:href=\"#\" xlink:title=\"solve_path_constraint(self, path)\">\n",
       "<text text-anchor=\"start\" x=\"9.5\" y=\"-8\" font-family=\"'Fira Mono', 'Source Code Pro', 'Courier', monospace\" font-style=\"italic\" font-size=\"10.00\">solve_path_constraint()</text>\n",
       "</a>\n",
       "</g>\n",
       "</a>\n",
       "</g>\n",
       "</a>\n",
       "</g>\n",
       "</g>\n",
       "<!-- SimpleSymbolicFuzzer -->\n",
       "<g id=\"node2\" class=\"node\">\n",
       "<title>SimpleSymbolicFuzzer</title>\n",
       "<g id=\"a_node2\"><a xlink:href=\"#\" xlink:title=\"class SimpleSymbolicFuzzer:&#10;Simple symbolic fuzzer\">\n",
       "<polygon fill=\"none\" stroke=\"black\" points=\"0,-123.5 0,-242.5 157,-242.5 157,-123.5 0,-123.5\"/>\n",
       "<text text-anchor=\"start\" x=\"8\" y=\"-228.3\" font-family=\"Patua One, Helvetica, sans-serif\" font-weight=\"bold\" font-size=\"14.00\" fill=\"#b03a2e\">SimpleSymbolicFuzzer</text>\n",
       "<polyline fill=\"none\" stroke=\"black\" points=\"0,-219.5 157,-219.5 \"/>\n",
       "<g id=\"a_node2_6\"><a xlink:href=\"#\" xlink:title=\"SimpleSymbolicFuzzer\">\n",
       "<g id=\"a_node2_7\"><a xlink:href=\"#\" xlink:title=\"__init__(self, fn, **kwargs):&#10;Constructor.&#10;`fn` is the function to be fuzzed.&#10;Possible keyword parameters:&#10;* `max_depth` &#45; the depth to which one should attempt&#10;to trace the execution (default 100)&#10;* `max_tries` &#45; the maximum number of attempts&#10;we will try to produce a value before giving up (default 100)&#10;* `max_iter` &#45; the number of iterations we will attempt (default 100).\">\n",
       "<text text-anchor=\"start\" x=\"9.5\" y=\"-208.5\" font-family=\"'Fira Mono', 'Source Code Pro', 'Courier', monospace\" font-weight=\"bold\" font-style=\"italic\" font-size=\"10.00\">__init__()</text>\n",
       "</a>\n",
       "</g>\n",
       "<g id=\"a_node2_8\"><a xlink:href=\"#\" xlink:title=\"fuzz(self):&#10;Produce one solution for each path.&#10;Returns a mapping of variable names to (symbolic) Z3 values.\">\n",
       "<text text-anchor=\"start\" x=\"9.5\" y=\"-197.5\" font-family=\"'Fira Mono', 'Source Code Pro', 'Courier', monospace\" font-weight=\"bold\" font-style=\"italic\" font-size=\"10.00\">fuzz()</text>\n",
       "</a>\n",
       "</g>\n",
       "<g id=\"a_node2_9\"><a xlink:href=\"#\" xlink:title=\"extract_constraints(self, path)\">\n",
       "<text text-anchor=\"start\" x=\"9.5\" y=\"-186.5\" font-family=\"'Fira Mono', 'Source Code Pro', 'Courier', monospace\" font-style=\"italic\" font-size=\"10.00\">extract_constraints()</text>\n",
       "</a>\n",
       "</g>\n",
       "<g id=\"a_node2_10\"><a xlink:href=\"#\" xlink:title=\"get_all_paths(self, fenter, depth=0)\">\n",
       "<text text-anchor=\"start\" x=\"9.5\" y=\"-175.5\" font-family=\"'Fira Mono', 'Source Code Pro', 'Courier', monospace\" font-style=\"italic\" font-size=\"10.00\">get_all_paths()</text>\n",
       "</a>\n",
       "</g>\n",
       "<g id=\"a_node2_11\"><a xlink:href=\"#\" xlink:title=\"get_next_path(self)\">\n",
       "<text text-anchor=\"start\" x=\"9.5\" y=\"-164.5\" font-family=\"'Fira Mono', 'Source Code Pro', 'Courier', monospace\" font-style=\"italic\" font-size=\"10.00\">get_next_path()</text>\n",
       "</a>\n",
       "</g>\n",
       "<g id=\"a_node2_12\"><a xlink:href=\"#\" xlink:title=\"options(self, kwargs)\">\n",
       "<text text-anchor=\"start\" x=\"9.5\" y=\"-153.5\" font-family=\"'Fira Mono', 'Source Code Pro', 'Courier', monospace\" font-style=\"italic\" font-size=\"10.00\">options()</text>\n",
       "</a>\n",
       "</g>\n",
       "<g id=\"a_node2_13\"><a xlink:href=\"#\" xlink:title=\"process(self)\">\n",
       "<text text-anchor=\"start\" x=\"9.5\" y=\"-141.5\" font-family=\"'Fira Mono', 'Source Code Pro', 'Courier', monospace\" font-size=\"10.00\">process()</text>\n",
       "</a>\n",
       "</g>\n",
       "<g id=\"a_node2_14\"><a xlink:href=\"#\" xlink:title=\"solve_path_constraint(self, path)\">\n",
       "<text text-anchor=\"start\" x=\"9.5\" y=\"-131.5\" font-family=\"'Fira Mono', 'Source Code Pro', 'Courier', monospace\" font-style=\"italic\" font-size=\"10.00\">solve_path_constraint()</text>\n",
       "</a>\n",
       "</g>\n",
       "</a>\n",
       "</g>\n",
       "</a>\n",
       "</g>\n",
       "</g>\n",
       "<!-- SymbolicFuzzer&#45;&gt;SimpleSymbolicFuzzer -->\n",
       "<g id=\"edge1\" class=\"edge\">\n",
       "<title>SymbolicFuzzer&#45;&gt;SimpleSymbolicFuzzer</title>\n",
       "<path fill=\"none\" stroke=\"black\" d=\"M78.5,-86.5C78.5,-94.94 78.5,-104.01 78.5,-113.08\"/>\n",
       "<polygon fill=\"none\" stroke=\"black\" points=\"75,-113.3 78.5,-123.3 82,-113.3 75,-113.3\"/>\n",
       "</g>\n",
       "<!-- Fuzzer -->\n",
       "<g id=\"node3\" class=\"node\">\n",
       "<title>Fuzzer</title>\n",
       "<g id=\"a_node3\"><a xlink:href=\"Fuzzer.ipynb\" xlink:title=\"class Fuzzer:&#10;Base class for fuzzers.\">\n",
       "<polygon fill=\"none\" stroke=\"black\" points=\"40,-279.5 40,-354.5 117,-354.5 117,-279.5 40,-279.5\"/>\n",
       "<text text-anchor=\"start\" x=\"57.5\" y=\"-340.3\" font-family=\"Patua One, Helvetica, sans-serif\" font-weight=\"bold\" font-size=\"14.00\" fill=\"#b03a2e\">Fuzzer</text>\n",
       "<polyline fill=\"none\" stroke=\"black\" points=\"40,-331.5 117,-331.5 \"/>\n",
       "<g id=\"a_node3_15\"><a xlink:href=\"#\" xlink:title=\"Fuzzer\">\n",
       "<g id=\"a_node3_16\"><a xlink:href=\"Fuzzer.ipynb\" xlink:title=\"__init__(self) &#45;&gt; None:&#10;Constructor\">\n",
       "<text text-anchor=\"start\" x=\"48.5\" y=\"-320.5\" font-family=\"'Fira Mono', 'Source Code Pro', 'Courier', monospace\" font-weight=\"bold\" font-style=\"italic\" font-size=\"10.00\">__init__()</text>\n",
       "</a>\n",
       "</g>\n",
       "<g id=\"a_node3_17\"><a xlink:href=\"Fuzzer.ipynb\" xlink:title=\"fuzz(self) &#45;&gt; str:&#10;Return fuzz input\">\n",
       "<text text-anchor=\"start\" x=\"48.5\" y=\"-309.5\" font-family=\"'Fira Mono', 'Source Code Pro', 'Courier', monospace\" font-weight=\"bold\" font-style=\"italic\" font-size=\"10.00\">fuzz()</text>\n",
       "</a>\n",
       "</g>\n",
       "<g id=\"a_node3_18\"><a xlink:href=\"Fuzzer.ipynb\" xlink:title=\"run(self, runner: Fuzzer.Runner = &lt;Fuzzer.Runner object at 0x103c9fb20&gt;) &#45;&gt; Tuple[subprocess.CompletedProcess, str]:&#10;Run `runner` with fuzz input\">\n",
       "<text text-anchor=\"start\" x=\"48.5\" y=\"-298.5\" font-family=\"'Fira Mono', 'Source Code Pro', 'Courier', monospace\" font-weight=\"bold\" font-size=\"10.00\">run()</text>\n",
       "</a>\n",
       "</g>\n",
       "<g id=\"a_node3_19\"><a xlink:href=\"Fuzzer.ipynb\" xlink:title=\"runs(self, runner: Fuzzer.Runner = &lt;Fuzzer.PrintRunner object at 0x103c9d5e0&gt;, trials: int = 10) &#45;&gt; List[Tuple[subprocess.CompletedProcess, str]]:&#10;Run `runner` with fuzz input, `trials` times\">\n",
       "<text text-anchor=\"start\" x=\"48.5\" y=\"-287.5\" font-family=\"'Fira Mono', 'Source Code Pro', 'Courier', monospace\" font-weight=\"bold\" font-size=\"10.00\">runs()</text>\n",
       "</a>\n",
       "</g>\n",
       "</a>\n",
       "</g>\n",
       "</a>\n",
       "</g>\n",
       "</g>\n",
       "<!-- SimpleSymbolicFuzzer&#45;&gt;Fuzzer -->\n",
       "<g id=\"edge2\" class=\"edge\">\n",
       "<title>SimpleSymbolicFuzzer&#45;&gt;Fuzzer</title>\n",
       "<path fill=\"none\" stroke=\"black\" d=\"M78.5,-242.67C78.5,-251.58 78.5,-260.66 78.5,-269.27\"/>\n",
       "<polygon fill=\"none\" stroke=\"black\" points=\"75,-269.49 78.5,-279.49 82,-269.49 75,-269.49\"/>\n",
       "</g>\n",
       "<!-- Legend -->\n",
       "<g id=\"node4\" class=\"node\">\n",
       "<title>Legend</title>\n",
       "<text text-anchor=\"start\" x=\"174.5\" y=\"-61\" font-family=\"Patua One, Helvetica, sans-serif\" font-weight=\"bold\" font-size=\"10.00\" fill=\"#b03a2e\">Legend</text>\n",
       "<text text-anchor=\"start\" x=\"174.5\" y=\"-51\" font-family=\"Patua One, Helvetica, sans-serif\" font-size=\"10.00\">• </text>\n",
       "<text text-anchor=\"start\" x=\"180.5\" y=\"-51\" font-family=\"'Fira Mono', 'Source Code Pro', 'Courier', monospace\" font-weight=\"bold\" font-size=\"8.00\">public_method()</text>\n",
       "<text text-anchor=\"start\" x=\"174.5\" y=\"-41\" font-family=\"Patua One, Helvetica, sans-serif\" font-size=\"10.00\">• </text>\n",
       "<text text-anchor=\"start\" x=\"180.5\" y=\"-41\" font-family=\"'Fira Mono', 'Source Code Pro', 'Courier', monospace\" font-size=\"8.00\">private_method()</text>\n",
       "<text text-anchor=\"start\" x=\"174.5\" y=\"-31\" font-family=\"Patua One, Helvetica, sans-serif\" font-size=\"10.00\">• </text>\n",
       "<text text-anchor=\"start\" x=\"180.5\" y=\"-31\" font-family=\"'Fira Mono', 'Source Code Pro', 'Courier', monospace\" font-style=\"italic\" font-size=\"8.00\">overloaded_method()</text>\n",
       "<text text-anchor=\"start\" x=\"174.5\" y=\"-21.8\" font-family=\"Helvetica,sans-Serif\" font-size=\"9.00\">Hover over names to see doc</text>\n",
       "</g>\n",
       "</g>\n",
       "</svg>\n"
      ],
      "text/plain": [
       "<graphviz.dot.Digraph at 0x120171bb0>"
      ]
     },
     "execution_count": 197,
     "metadata": {},
     "output_type": "execute_result"
    }
   ],
   "source": [
    "# ignore\n",
    "from ClassDiagram import display_class_hierarchy\n",
    "display_class_hierarchy(SymbolicFuzzer)"
   ]
  },
  {
   "cell_type": "markdown",
   "metadata": {
    "button": false,
    "new_sheet": true,
    "run_control": {
     "read_only": false
    },
    "slideshow": {
     "slide_type": "slide"
    }
   },
   "source": [
    "## Lessons Learned\n",
    "\n",
    "* One can use symbolic execution to augment the inputs that explore all characteristics of a program.\n",
    "* Symbolic execution can be broad but shallow.\n",
    "* Symbolic execution is well suited for programs that rely on specific values to be present in the input, however, its utility decreases when such values are not present, and the input space represents a gradient in terms of coverage."
   ]
  },
  {
   "cell_type": "markdown",
   "metadata": {
    "button": false,
    "new_sheet": false,
    "run_control": {
     "read_only": false
    },
    "slideshow": {
     "slide_type": "slide"
    }
   },
   "source": [
    "## Next Steps\n",
    "\n",
    "* [Search based fuzzing](SearchBasedFuzzer.ipynb) can often be an acceptable middle ground when random fuzzing does not provide sufficient results, but symbolic fuzzing is too heavyweight."
   ]
  },
  {
   "cell_type": "markdown",
   "metadata": {
    "slideshow": {
     "slide_type": "slide"
    }
   },
   "source": [
    "## Background\n",
    "\n",
    "Symbolic execution of programs was originally described by King \\cite{king1976symbolic} in 1976. It is used extensively in vulnerability analysis of software, especially binary programs. Some of the well known symbolic execution tools include *KLEE* \\cite{KLEE}, *angr* \\cite{wang2017angr}, *Driller* \\cite{stephens2016driller}, and *SAGE* \\cite{godefroid2012sage}. The best known symbolic execution environment for Python is CHEF \\cite{bucur2014prototyping} which does symbolic execution by modifying the interpreter.\n",
    "\n",
    "The Z3 solver we use in this chapter was developed at Microsoft Research under the lead of Leonardo de Moura and Nikolaj Bjørner \\cite{z3}. It is one of the most popular solvers."
   ]
  },
  {
   "cell_type": "markdown",
   "metadata": {
    "button": false,
    "new_sheet": true,
    "run_control": {
     "read_only": false
    },
    "slideshow": {
     "slide_type": "slide"
    }
   },
   "source": [
    "## Exercises"
   ]
  },
  {
   "cell_type": "markdown",
   "metadata": {
    "button": false,
    "new_sheet": false,
    "run_control": {
     "read_only": false
    },
    "slideshow": {
     "slide_type": "subslide"
    },
    "solution": "hidden",
    "solution2": "hidden",
    "solution2_first": true,
    "solution_first": true
   },
   "source": [
    "### Exercise 1: Extending Symbolic Fuzzer to use function summaries\n",
    "\n",
    "We showed in the first section how function summaries may be produced. Can you extend the `SymbolicFuzzer` to use function summaries when needed?"
   ]
  },
  {
   "cell_type": "markdown",
   "metadata": {
    "button": false,
    "new_sheet": false,
    "run_control": {
     "read_only": false
    },
    "slideshow": {
     "slide_type": "skip"
    },
    "solution": "hidden",
    "solution2": "hidden"
   },
   "source": [
    "**Solution.** _None yet available._"
   ]
  },
  {
   "cell_type": "markdown",
   "metadata": {
    "slideshow": {
     "slide_type": "subslide"
    }
   },
   "source": [
    "### Exercise 2: Statically checking if a loop should be unrolled further\n",
    "\n",
    "We examined how loops would be unrolled during exploration to a fixed depth. However, not all loops need to be unrolled completely. Some of the loops may contain only a constant number of iterations. For example, consider the loop below."
   ]
  },
  {
   "cell_type": "code",
   "execution_count": 198,
   "metadata": {
    "execution": {
     "iopub.execute_input": "2022-01-24T10:02:42.659017Z",
     "iopub.status.busy": "2022-01-24T10:02:42.657839Z",
     "iopub.status.idle": "2022-01-24T10:02:42.660751Z",
     "shell.execute_reply": "2022-01-24T10:02:42.661416Z"
    },
    "slideshow": {
     "slide_type": "fragment"
    }
   },
   "outputs": [],
   "source": [
    "i = 0\n",
    "while i < 10:\n",
    "    i += 1"
   ]
  },
  {
   "cell_type": "markdown",
   "metadata": {
    "slideshow": {
     "slide_type": "fragment"
    }
   },
   "source": [
    "This loop needs to be unrolled exactly $10$ times. For such cases, can you implement a method `can_be_satisfied()` which is invoked as below, to only unroll further if the path condition can be satisfied."
   ]
  },
  {
   "cell_type": "code",
   "execution_count": 199,
   "metadata": {
    "execution": {
     "iopub.execute_input": "2022-01-24T10:02:42.670230Z",
     "iopub.status.busy": "2022-01-24T10:02:42.669075Z",
     "iopub.status.idle": "2022-01-24T10:02:42.672024Z",
     "shell.execute_reply": "2022-01-24T10:02:42.672768Z"
    },
    "slideshow": {
     "slide_type": "subslide"
    },
    "solution2": "hidden",
    "solution2_first": true
   },
   "outputs": [],
   "source": [
    "class SymbolicFuzzer(SymbolicFuzzer):\n",
    "    def get_all_paths(self, fenter):\n",
    "        path_lst = [PNode(0, fenter)]\n",
    "        completed = []\n",
    "        for i in range(self.max_iter):\n",
    "            new_paths = [PNode(0, fenter)]\n",
    "            for path in path_lst:\n",
    "                # explore each path once\n",
    "                if path.cfgnode.children:\n",
    "                    np = path.explore()\n",
    "                    for p in np:\n",
    "                        if path.idx > self.max_depth:\n",
    "                            break\n",
    "                        if self.can_be_satisfied(p):\n",
    "                            new_paths.append(p)\n",
    "                        else:\n",
    "                            break\n",
    "                else:\n",
    "                    completed.append(path)\n",
    "            path_lst = new_paths\n",
    "        return completed + path_lst"
   ]
  },
  {
   "cell_type": "markdown",
   "metadata": {
    "slideshow": {
     "slide_type": "skip"
    },
    "solution2": "hidden",
    "solution2_first": true
   },
   "source": [
    "**Solution.** Here is a solution."
   ]
  },
  {
   "cell_type": "code",
   "execution_count": 200,
   "metadata": {
    "execution": {
     "iopub.execute_input": "2022-01-24T10:02:42.681523Z",
     "iopub.status.busy": "2022-01-24T10:02:42.680640Z",
     "iopub.status.idle": "2022-01-24T10:02:42.682902Z",
     "shell.execute_reply": "2022-01-24T10:02:42.683411Z"
    },
    "slideshow": {
     "slide_type": "skip"
    },
    "solution2": "hidden"
   },
   "outputs": [],
   "source": [
    "class SymbolicFuzzer(SymbolicFuzzer):\n",
    "    def can_be_satisfied(self, p):\n",
    "        s2 = self.extract_constraints(p.get_path_to_root())\n",
    "        s = z3.Solver()\n",
    "        identifiers = [c for i in s2 for c in used_identifiers(i)]\n",
    "        with_types = identifiers_with_types(identifiers, self.used_variables)\n",
    "        decl = define_symbolic_vars(with_types, '')\n",
    "        exec(decl)\n",
    "        exec(\"s.add(z3.And(%s))\" % ','.join(s2), globals(), locals())\n",
    "        return s.check() == z3.sat"
   ]
  },
  {
   "cell_type": "markdown",
   "metadata": {
    "slideshow": {
     "slide_type": "skip"
    },
    "solution2": "hidden"
   },
   "source": [
    "With this implementation, new conditions are appended to paths if and only if the paths are still satisfiable after incorporating the condition."
   ]
  },
  {
   "cell_type": "markdown",
   "metadata": {
    "slideshow": {
     "slide_type": "subslide"
    }
   },
   "source": [
    "### Exercise 3: Implementing a Concolic Fuzzer\n"
   ]
  },
  {
   "cell_type": "markdown",
   "metadata": {
    "slideshow": {
     "slide_type": "fragment"
    },
    "solution2": "hidden",
    "solution2_first": true
   },
   "source": [
    "We have seen in the chapter on [concolic fuzzing](ConcolicFuzzer.ipynb) how to trace a function concolically using information flow. However, this is somewhat sub-optimal as the constraints can get dropped when the information flow is indirect (as in control flow based information flow). Can you implement concolic tracing using the infrastructure we built for symbolic execution?"
   ]
  },
  {
   "cell_type": "markdown",
   "metadata": {
    "slideshow": {
     "slide_type": "skip"
    },
    "solution2": "hidden",
    "solution2_first": true
   },
   "source": [
    "**Solution.** Here is a possible solution."
   ]
  },
  {
   "cell_type": "markdown",
   "metadata": {
    "slideshow": {
     "slide_type": "skip"
    },
    "solution2": "hidden"
   },
   "source": [
    "In *concolic execution*, we rely on a seed input to guide our symbolic execution. We collect the line numbers that our seed input traces, and feed it to the symbolic execution such that in the `explore` step, only the child node that correspond to the seed input execution path is chosen. This allows us to collect the complete set of constraints along a *representative path*. Once we have it, we can choose any particular predicate and invert it to explore the program execution paths near the representative path."
   ]
  },
  {
   "cell_type": "markdown",
   "metadata": {
    "slideshow": {
     "slide_type": "skip"
    },
    "solution2": "hidden"
   },
   "source": [
    "We modify our original `ArcCoverage` to provide *all* line numbers that the program traversed."
   ]
  },
  {
   "cell_type": "code",
   "execution_count": 201,
   "metadata": {
    "execution": {
     "iopub.execute_input": "2022-01-24T10:02:42.690043Z",
     "iopub.status.busy": "2022-01-24T10:02:42.689019Z",
     "iopub.status.idle": "2022-01-24T10:02:42.691048Z",
     "shell.execute_reply": "2022-01-24T10:02:42.691552Z"
    },
    "slideshow": {
     "slide_type": "skip"
    },
    "solution2": "hidden"
   },
   "outputs": [],
   "source": [
    "class TrackingArcCoverage(ArcCoverage):\n",
    "    def offsets_from_entry(self, fn):\n",
    "        zero = self._trace[0][1] - 1\n",
    "        return [l - zero for (f, l) in self._trace if f == fn]"
   ]
  },
  {
   "cell_type": "code",
   "execution_count": 202,
   "metadata": {
    "execution": {
     "iopub.execute_input": "2022-01-24T10:02:42.697873Z",
     "iopub.status.busy": "2022-01-24T10:02:42.696896Z",
     "iopub.status.idle": "2022-01-24T10:02:42.766334Z",
     "shell.execute_reply": "2022-01-24T10:02:42.766848Z"
    },
    "slideshow": {
     "slide_type": "skip"
    },
    "solution2": "hidden"
   },
   "outputs": [],
   "source": [
    "with TrackingArcCoverage() as cov:\n",
    "    roots3(1, 1, 1)"
   ]
  },
  {
   "cell_type": "code",
   "execution_count": 203,
   "metadata": {
    "execution": {
     "iopub.execute_input": "2022-01-24T10:02:42.773801Z",
     "iopub.status.busy": "2022-01-24T10:02:42.772904Z",
     "iopub.status.idle": "2022-01-24T10:02:42.778625Z",
     "shell.execute_reply": "2022-01-24T10:02:42.779233Z"
    },
    "slideshow": {
     "slide_type": "skip"
    },
    "solution2": "hidden"
   },
   "outputs": [
    {
     "data": {
      "text/plain": [
       "[1, 2, 4, 5, 6, 9, 11, 16, 17, 18]"
      ]
     },
     "execution_count": 203,
     "metadata": {},
     "output_type": "execute_result"
    }
   ],
   "source": [
    "cov.offsets_from_entry('roots3')"
   ]
  },
  {
   "cell_type": "markdown",
   "metadata": {
    "slideshow": {
     "slide_type": "skip"
    },
    "solution2": "hidden"
   },
   "source": [
    "The `ConcolicTracer` first extracts the program trace on a seed input."
   ]
  },
  {
   "cell_type": "code",
   "execution_count": 204,
   "metadata": {
    "execution": {
     "iopub.execute_input": "2022-01-24T10:02:42.785526Z",
     "iopub.status.busy": "2022-01-24T10:02:42.784751Z",
     "iopub.status.idle": "2022-01-24T10:02:42.787837Z",
     "shell.execute_reply": "2022-01-24T10:02:42.788417Z"
    },
    "slideshow": {
     "slide_type": "skip"
    },
    "solution2": "hidden"
   },
   "outputs": [],
   "source": [
    "class ConcolicTracer(SymbolicFuzzer):\n",
    "    def __init__(self, fn, fnargs, **kwargs):\n",
    "        with TrackingArcCoverage() as cov:\n",
    "            fn(*fnargs)\n",
    "        self.lines = cov.offsets_from_entry(fn.__name__)\n",
    "        self.current_line = 0\n",
    "        super().__init__(fn, **kwargs)"
   ]
  },
  {
   "cell_type": "markdown",
   "metadata": {
    "slideshow": {
     "slide_type": "skip"
    },
    "solution2": "hidden"
   },
   "source": [
    "The method `get_all_paths()` now tries to follow the seed execution path."
   ]
  },
  {
   "cell_type": "code",
   "execution_count": 205,
   "metadata": {
    "execution": {
     "iopub.execute_input": "2022-01-24T10:02:42.797397Z",
     "iopub.status.busy": "2022-01-24T10:02:42.796323Z",
     "iopub.status.idle": "2022-01-24T10:02:42.798358Z",
     "shell.execute_reply": "2022-01-24T10:02:42.799213Z"
    },
    "slideshow": {
     "slide_type": "skip"
    },
    "solution2": "hidden"
   },
   "outputs": [],
   "source": [
    "class ConcolicTracer(ConcolicTracer):\n",
    "    def get_all_paths(self, fenter):\n",
    "        assert fenter.ast_node.lineno == self.lines[self.current_line]\n",
    "        self.current_line += 1\n",
    "        last_node = PNode(0, fenter)\n",
    "        while last_node and self.current_line < len(self.lines):\n",
    "            if last_node.cfgnode.children:\n",
    "                np = last_node.explore()\n",
    "                for p in np:\n",
    "                    if self.lines[self.current_line] == p.cfgnode.ast_node.lineno:\n",
    "                        self.current_line += 1\n",
    "                        last_node = p\n",
    "                        break\n",
    "                else:\n",
    "                    last_node = None\n",
    "                    break\n",
    "            else:\n",
    "                break\n",
    "        assert len(self.lines) == self.current_line\n",
    "        return [last_node]"
   ]
  },
  {
   "cell_type": "markdown",
   "metadata": {
    "slideshow": {
     "slide_type": "skip"
    },
    "solution2": "hidden"
   },
   "source": [
    "We are now ready to concolicaly trace our execution."
   ]
  },
  {
   "cell_type": "markdown",
   "metadata": {
    "slideshow": {
     "slide_type": "subslide"
    },
    "solution2": "hidden"
   },
   "source": [
    "#### Tracing the Execution Concolicaly"
   ]
  },
  {
   "cell_type": "code",
   "execution_count": 206,
   "metadata": {
    "execution": {
     "iopub.execute_input": "2022-01-24T10:02:42.847484Z",
     "iopub.status.busy": "2022-01-24T10:02:42.821525Z",
     "iopub.status.idle": "2022-01-24T10:02:42.873807Z",
     "shell.execute_reply": "2022-01-24T10:02:42.874466Z"
    },
    "slideshow": {
     "slide_type": "fragment"
    },
    "solution2": "hidden"
   },
   "outputs": [],
   "source": [
    "acfz_roots = ConcolicTracer(\n",
    "    roots3,\n",
    "    fnargs=[1, 1, 1],\n",
    "    max_tries=10,\n",
    "    max_iter=10,\n",
    "    max_depth=10)"
   ]
  },
  {
   "cell_type": "code",
   "execution_count": 207,
   "metadata": {
    "execution": {
     "iopub.execute_input": "2022-01-24T10:02:42.882219Z",
     "iopub.status.busy": "2022-01-24T10:02:42.881419Z",
     "iopub.status.idle": "2022-01-24T10:02:42.884245Z",
     "shell.execute_reply": "2022-01-24T10:02:42.884655Z"
    },
    "slideshow": {
     "slide_type": "subslide"
    },
    "solution2": "hidden"
   },
   "outputs": [
    {
     "data": {
      "text/plain": [
       "[PNode:0[id:75 line[1] parents: [] : enter: roots3(a, b, c) order:0],\n",
       " PNode:1[id:77 line[2] parents: [75] : d: float = b * b - 4 * a * c order:0],\n",
       " PNode:2[id:78 line[4] parents: [77] : xa: float = 0.5 * d order:0],\n",
       " PNode:3[id:79 line[5] parents: [78] : xb: float = 0 order:0],\n",
       " PNode:4[id:80 line[6] parents: [79, 82] : _while: xa - xb > 0.1 order:1],\n",
       " PNode:5[id:83 line[9] parents: [80] : s: float = xb order:0],\n",
       " PNode:6[id:84 line[11] parents: [83] : _if: a == 0 order:1],\n",
       " PNode:7[id:88 line[16] parents: [84] : a2: float = 2 * a order:0],\n",
       " PNode:8[id:89 line[17] parents: [88] : ba2: float = b / a2 order:0],\n",
       " PNode:9[id:90 line[18] parents: [89] : return (-ba2 + s / a2, -ba2 - s / a2) order:0]]"
      ]
     },
     "execution_count": 207,
     "metadata": {},
     "output_type": "execute_result"
    }
   ],
   "source": [
    "acfz_roots.paths[0].get_path_to_root()"
   ]
  },
  {
   "cell_type": "code",
   "execution_count": 208,
   "metadata": {
    "execution": {
     "iopub.execute_input": "2022-01-24T10:02:42.889961Z",
     "iopub.status.busy": "2022-01-24T10:02:42.889018Z",
     "iopub.status.idle": "2022-01-24T10:02:42.892482Z",
     "shell.execute_reply": "2022-01-24T10:02:42.893129Z"
    },
    "slideshow": {
     "slide_type": "subslide"
    },
    "solution2": "hidden"
   },
   "outputs": [
    {
     "name": "stdout",
     "output_type": "stream",
     "text": [
      "[1, 2, 4, 5, 6, 9, 11, 16, 17, 18]\n",
      "[1, 2, 4, 5, 6, 9, 11, 16, 17, 18]\n",
      "[1, 2, 4, 5, 6, 9, 11, 16, 17, 18]\n"
     ]
    }
   ],
   "source": [
    "print(cov.offsets_from_entry('roots3'))\n",
    "print([i.cfgnode.ast_node.lineno for i in acfz_roots.paths[0].get_path_to_root()])\n",
    "print(acfz_roots.lines)"
   ]
  },
  {
   "cell_type": "markdown",
   "metadata": {
    "slideshow": {
     "slide_type": "fragment"
    },
    "solution2": "hidden"
   },
   "source": [
    "As can be seen above, we recovered the trace information correctly.\n",
    "Next, we extract the constraints as usual."
   ]
  },
  {
   "cell_type": "code",
   "execution_count": 209,
   "metadata": {
    "execution": {
     "iopub.execute_input": "2022-01-24T10:02:42.899594Z",
     "iopub.status.busy": "2022-01-24T10:02:42.898421Z",
     "iopub.status.idle": "2022-01-24T10:02:42.900750Z",
     "shell.execute_reply": "2022-01-24T10:02:42.901266Z"
    },
    "slideshow": {
     "slide_type": "fragment"
    },
    "solution2": "hidden"
   },
   "outputs": [],
   "source": [
    "constraints = acfz_roots.extract_constraints(\n",
    "    acfz_roots.paths[0].get_path_to_root())"
   ]
  },
  {
   "cell_type": "code",
   "execution_count": 210,
   "metadata": {
    "execution": {
     "iopub.execute_input": "2022-01-24T10:02:42.907191Z",
     "iopub.status.busy": "2022-01-24T10:02:42.905795Z",
     "iopub.status.idle": "2022-01-24T10:02:42.910844Z",
     "shell.execute_reply": "2022-01-24T10:02:42.911688Z"
    },
    "slideshow": {
     "slide_type": "subslide"
    },
    "solution2": "hidden"
   },
   "outputs": [
    {
     "data": {
      "text/plain": [
       "['z3.And(a == _a_0, b == _b_0, c == _c_0)',\n",
       " '_d_0 == _b_0 * _b_0 - 4 * _a_0 * _c_0',\n",
       " '_xa_0 == 0.5 * _d_0',\n",
       " '_xb_0 == 0',\n",
       " 'z3.Not(_xa_0 - _xb_0 > 0.1)',\n",
       " '_s_0 == _xb_0',\n",
       " 'z3.Not(_a_0 == 0)',\n",
       " '_a2_0 == 2 * _a_0',\n",
       " '_ba2_0 == _b_0 / _a2_0']"
      ]
     },
     "execution_count": 210,
     "metadata": {},
     "output_type": "execute_result"
    }
   ],
   "source": [
    "constraints"
   ]
  },
  {
   "cell_type": "markdown",
   "metadata": {
    "slideshow": {
     "slide_type": "fragment"
    },
    "solution2": "hidden"
   },
   "source": [
    "Next, we change our constraints to symbolic variables and solve them."
   ]
  },
  {
   "cell_type": "code",
   "execution_count": 211,
   "metadata": {
    "execution": {
     "iopub.execute_input": "2022-01-24T10:02:42.920744Z",
     "iopub.status.busy": "2022-01-24T10:02:42.919710Z",
     "iopub.status.idle": "2022-01-24T10:02:42.923771Z",
     "shell.execute_reply": "2022-01-24T10:02:42.924370Z"
    },
    "slideshow": {
     "slide_type": "fragment"
    },
    "solution2": "hidden"
   },
   "outputs": [],
   "source": [
    "identifiers = [c for i in constraints for c in used_identifiers(i)]\n",
    "with_types = identifiers_with_types(identifiers, acfz_roots.used_variables)\n",
    "decl = define_symbolic_vars(with_types, '')\n",
    "exec(decl)"
   ]
  },
  {
   "cell_type": "markdown",
   "metadata": {
    "slideshow": {
     "slide_type": "subslide"
    },
    "solution2": "hidden"
   },
   "source": [
    "We are ready solve our constraints. However, before that, here is a question for you.\n",
    "*Should it result in exactly the same arguments?*"
   ]
  },
  {
   "cell_type": "code",
   "execution_count": 212,
   "metadata": {
    "execution": {
     "iopub.execute_input": "2022-01-24T10:02:42.930908Z",
     "iopub.status.busy": "2022-01-24T10:02:42.929890Z",
     "iopub.status.idle": "2022-01-24T10:02:42.967455Z",
     "shell.execute_reply": "2022-01-24T10:02:42.966625Z"
    },
    "slideshow": {
     "slide_type": "subslide"
    },
    "solution2": "hidden"
   },
   "outputs": [
    {
     "name": "stdout",
     "output_type": "stream",
     "text": [
      "[a = 1,\n",
      " _a_0 = 1,\n",
      " _b_0 = 1/8,\n",
      " _c_0 = 1,\n",
      " _ba2_0 = 1/16,\n",
      " _a2_0 = 2,\n",
      " _s_0 = 0,\n",
      " _xb_0 = 0,\n",
      " _xa_0 = -255/128,\n",
      " _d_0 = -255/64,\n",
      " c = 1,\n",
      " b = 1/8,\n",
      " /0 = [(1/8, 2) -> 1/16, else -> 0]]\n"
     ]
    }
   ],
   "source": [
    "eval('z3.solve(%s)' % ','.join(constraints))"
   ]
  },
  {
   "cell_type": "code",
   "execution_count": 213,
   "metadata": {
    "execution": {
     "iopub.execute_input": "2022-01-24T10:02:42.976205Z",
     "iopub.status.busy": "2022-01-24T10:02:42.974469Z",
     "iopub.status.idle": "2022-01-24T10:02:42.995006Z",
     "shell.execute_reply": "2022-01-24T10:02:42.996073Z"
    },
    "slideshow": {
     "slide_type": "subslide"
    },
    "solution2": "hidden"
   },
   "outputs": [
    {
     "data": {
      "text/plain": [
       "{'a': -1, 'b': 0, 'c': 0}"
      ]
     },
     "execution_count": 213,
     "metadata": {},
     "output_type": "execute_result"
    }
   ],
   "source": [
    "acfz_roots.fuzz()"
   ]
  },
  {
   "cell_type": "markdown",
   "metadata": {
    "slideshow": {
     "slide_type": "fragment"
    },
    "solution2": "hidden"
   },
   "source": [
    "Did they take the same path?"
   ]
  },
  {
   "cell_type": "code",
   "execution_count": 214,
   "metadata": {
    "execution": {
     "iopub.execute_input": "2022-01-24T10:02:43.042939Z",
     "iopub.status.busy": "2022-01-24T10:02:43.021691Z",
     "iopub.status.idle": "2022-01-24T10:02:43.773336Z",
     "shell.execute_reply": "2022-01-24T10:02:43.774277Z"
    },
    "slideshow": {
     "slide_type": "fragment"
    },
    "solution2": "hidden"
   },
   "outputs": [
    {
     "data": {
      "image/svg+xml": [
       "<?xml version=\"1.0\" encoding=\"UTF-8\" standalone=\"no\"?>\n",
       "<!DOCTYPE svg PUBLIC \"-//W3C//DTD SVG 1.1//EN\"\n",
       " \"http://www.w3.org/Graphics/SVG/1.1/DTD/svg11.dtd\">\n",
       "<!-- Generated by graphviz version 2.49.3 (20211023.0002)\n",
       " -->\n",
       "<!-- Pages: 1 -->\n",
       "<svg width=\"402pt\" height=\"708pt\"\n",
       " viewBox=\"0.00 0.00 401.50 708.00\" xmlns=\"http://www.w3.org/2000/svg\" xmlns:xlink=\"http://www.w3.org/1999/xlink\">\n",
       "<g id=\"graph0\" class=\"graph\" transform=\"scale(1 1) rotate(0) translate(4 704)\">\n",
       "<polygon fill=\"white\" stroke=\"transparent\" points=\"-4,4 -4,-704 397.5,-704 397.5,4 -4,4\"/>\n",
       "<!-- 1 -->\n",
       "<g id=\"node1\" class=\"node\">\n",
       "<title>1</title>\n",
       "<ellipse fill=\"none\" stroke=\"black\" cx=\"188\" cy=\"-678\" rx=\"89.08\" ry=\"18\"/>\n",
       "<ellipse fill=\"none\" stroke=\"black\" cx=\"188\" cy=\"-678\" rx=\"93.08\" ry=\"22\"/>\n",
       "<text text-anchor=\"middle\" x=\"188\" y=\"-674.3\" font-family=\"Times,serif\" font-size=\"14.00\">1: enter: roots(a, b, c)</text>\n",
       "</g>\n",
       "<!-- 3 -->\n",
       "<g id=\"node4\" class=\"node\">\n",
       "<title>3</title>\n",
       "<ellipse fill=\"none\" stroke=\"black\" cx=\"188\" cy=\"-602\" rx=\"111.58\" ry=\"18\"/>\n",
       "<text text-anchor=\"middle\" x=\"188\" y=\"-598.3\" font-family=\"Times,serif\" font-size=\"14.00\">2: d: float = b * b &#45; 4 * a * c</text>\n",
       "</g>\n",
       "<!-- 1&#45;&gt;3 -->\n",
       "<g id=\"edge2\" class=\"edge\">\n",
       "<title>1&#45;&gt;3</title>\n",
       "<path fill=\"none\" stroke=\"green\" d=\"M188,-655.99C188,-648.06 188,-638.91 188,-630.48\"/>\n",
       "<polygon fill=\"green\" stroke=\"green\" points=\"191.5,-630.31 188,-620.31 184.5,-630.31 191.5,-630.31\"/>\n",
       "</g>\n",
       "<!-- 2 -->\n",
       "<g id=\"node2\" class=\"node\">\n",
       "<title>2</title>\n",
       "<ellipse fill=\"none\" stroke=\"black\" cx=\"280\" cy=\"-22\" rx=\"84.49\" ry=\"18\"/>\n",
       "<ellipse fill=\"none\" stroke=\"black\" cx=\"280\" cy=\"-22\" rx=\"88.49\" ry=\"22\"/>\n",
       "<text text-anchor=\"middle\" x=\"280\" y=\"-18.3\" font-family=\"Times,serif\" font-size=\"14.00\">1: exit: roots(a, b, c)</text>\n",
       "</g>\n",
       "<!-- 12 -->\n",
       "<g id=\"node3\" class=\"node\">\n",
       "<title>12</title>\n",
       "<polygon fill=\"none\" stroke=\"black\" points=\"393.5,-116 166.5,-116 166.5,-80 393.5,-80 393.5,-116\"/>\n",
       "<text text-anchor=\"middle\" x=\"280\" y=\"-94.3\" font-family=\"Times,serif\" font-size=\"14.00\">13: return (&#45;ba2 + s / a2, &#45;ba2 &#45; s / a2)</text>\n",
       "</g>\n",
       "<!-- 12&#45;&gt;2 -->\n",
       "<g id=\"edge1\" class=\"edge\">\n",
       "<title>12&#45;&gt;2</title>\n",
       "<path fill=\"none\" stroke=\"green\" d=\"M280,-79.84C280,-72.16 280,-62.88 280,-54.05\"/>\n",
       "<polygon fill=\"green\" stroke=\"green\" points=\"283.5,-54.03 280,-44.03 276.5,-54.03 283.5,-54.03\"/>\n",
       "</g>\n",
       "<!-- 4 -->\n",
       "<g id=\"node5\" class=\"node\">\n",
       "<title>4</title>\n",
       "<ellipse fill=\"none\" stroke=\"black\" cx=\"188\" cy=\"-530\" rx=\"84.49\" ry=\"18\"/>\n",
       "<text text-anchor=\"middle\" x=\"188\" y=\"-526.3\" font-family=\"Times,serif\" font-size=\"14.00\">3: ax: float = 0.5 * d</text>\n",
       "</g>\n",
       "<!-- 3&#45;&gt;4 -->\n",
       "<g id=\"edge3\" class=\"edge\">\n",
       "<title>3&#45;&gt;4</title>\n",
       "<path fill=\"none\" stroke=\"green\" d=\"M188,-583.7C188,-575.98 188,-566.71 188,-558.11\"/>\n",
       "<polygon fill=\"green\" stroke=\"green\" points=\"191.5,-558.1 188,-548.1 184.5,-558.1 191.5,-558.1\"/>\n",
       "</g>\n",
       "<!-- 5 -->\n",
       "<g id=\"node6\" class=\"node\">\n",
       "<title>5</title>\n",
       "<ellipse fill=\"none\" stroke=\"black\" cx=\"188\" cy=\"-458\" rx=\"64.19\" ry=\"18\"/>\n",
       "<text text-anchor=\"middle\" x=\"188\" y=\"-454.3\" font-family=\"Times,serif\" font-size=\"14.00\">4: bx: float = 0</text>\n",
       "</g>\n",
       "<!-- 4&#45;&gt;5 -->\n",
       "<g id=\"edge4\" class=\"edge\">\n",
       "<title>4&#45;&gt;5</title>\n",
       "<path fill=\"none\" stroke=\"green\" d=\"M188,-511.7C188,-503.98 188,-494.71 188,-486.11\"/>\n",
       "<polygon fill=\"green\" stroke=\"green\" points=\"191.5,-486.1 188,-476.1 184.5,-486.1 191.5,-486.1\"/>\n",
       "</g>\n",
       "<!-- 6 -->\n",
       "<g id=\"node7\" class=\"node\">\n",
       "<title>6</title>\n",
       "<polygon fill=\"none\" stroke=\"black\" points=\"188,-404 58.3,-386 188,-368 317.7,-386 188,-404\"/>\n",
       "<text text-anchor=\"middle\" x=\"188\" y=\"-382.3\" font-family=\"Times,serif\" font-size=\"14.00\">5: while: ax &#45; bx &gt; 0.1</text>\n",
       "</g>\n",
       "<!-- 5&#45;&gt;6 -->\n",
       "<g id=\"edge5\" class=\"edge\">\n",
       "<title>5&#45;&gt;6</title>\n",
       "<path fill=\"none\" stroke=\"green\" d=\"M188,-439.7C188,-431.98 188,-422.71 188,-414.11\"/>\n",
       "<polygon fill=\"green\" stroke=\"green\" points=\"191.5,-414.1 188,-404.1 184.5,-414.1 191.5,-414.1\"/>\n",
       "</g>\n",
       "<!-- 7 -->\n",
       "<g id=\"node9\" class=\"node\">\n",
       "<title>7</title>\n",
       "<polygon fill=\"none\" stroke=\"black\" points=\"160,-332 0,-332 0,-296 160,-296 160,-332\"/>\n",
       "<text text-anchor=\"middle\" x=\"80\" y=\"-310.3\" font-family=\"Times,serif\" font-size=\"14.00\">6: bx = 0.5 * (ax + d / ax)</text>\n",
       "</g>\n",
       "<!-- 6&#45;&gt;7 -->\n",
       "<g id=\"edge7\" class=\"edge\">\n",
       "<title>6&#45;&gt;7</title>\n",
       "<path fill=\"none\" stroke=\"red\" d=\"M166.14,-370.83C151.45,-361.31 131.76,-348.55 114.91,-337.63\"/>\n",
       "<polygon fill=\"red\" stroke=\"red\" points=\"116.7,-334.61 106.4,-332.11 112.89,-340.49 116.7,-334.61\"/>\n",
       "</g>\n",
       "<!-- 9 -->\n",
       "<g id=\"node10\" class=\"node\">\n",
       "<title>9</title>\n",
       "<ellipse fill=\"none\" stroke=\"black\" cx=\"280\" cy=\"-314\" rx=\"63.89\" ry=\"18\"/>\n",
       "<text text-anchor=\"middle\" x=\"280\" y=\"-310.3\" font-family=\"Times,serif\" font-size=\"14.00\">9: s: float = bx</text>\n",
       "</g>\n",
       "<!-- 6&#45;&gt;9 -->\n",
       "<g id=\"edge9\" class=\"edge\">\n",
       "<title>6&#45;&gt;9</title>\n",
       "<path fill=\"none\" stroke=\"green\" d=\"M207.06,-370.5C219.65,-360.92 236.38,-348.19 250.65,-337.33\"/>\n",
       "<polygon fill=\"green\" stroke=\"green\" points=\"252.87,-340.04 258.71,-331.2 248.63,-334.47 252.87,-340.04\"/>\n",
       "</g>\n",
       "<!-- 8 -->\n",
       "<g id=\"node8\" class=\"node\">\n",
       "<title>8</title>\n",
       "<polygon fill=\"none\" stroke=\"black\" points=\"148.5,-260 75.5,-260 75.5,-224 148.5,-224 148.5,-260\"/>\n",
       "<text text-anchor=\"middle\" x=\"112\" y=\"-238.3\" font-family=\"Times,serif\" font-size=\"14.00\">7: ax = bx</text>\n",
       "</g>\n",
       "<!-- 8&#45;&gt;6 -->\n",
       "<g id=\"edge6\" class=\"edge\">\n",
       "<title>8&#45;&gt;6</title>\n",
       "<path fill=\"none\" stroke=\"red\" d=\"M136.39,-260.04C147.97,-269.37 161,-281.9 169,-296 179.75,-314.95 184.43,-339.32 186.47,-357.76\"/>\n",
       "<polygon fill=\"red\" stroke=\"red\" points=\"182.99,-358.21 187.38,-367.85 189.96,-357.58 182.99,-358.21\"/>\n",
       "</g>\n",
       "<!-- 7&#45;&gt;8 -->\n",
       "<g id=\"edge8\" class=\"edge\">\n",
       "<title>7&#45;&gt;8</title>\n",
       "<path fill=\"none\" stroke=\"red\" d=\"M87.91,-295.7C91.55,-287.73 95.95,-278.1 99.99,-269.26\"/>\n",
       "<polygon fill=\"red\" stroke=\"red\" points=\"103.21,-270.65 104.18,-260.1 96.84,-267.74 103.21,-270.65\"/>\n",
       "</g>\n",
       "<!-- 10 -->\n",
       "<g id=\"node11\" class=\"node\">\n",
       "<title>10</title>\n",
       "<ellipse fill=\"none\" stroke=\"black\" cx=\"280\" cy=\"-242\" rx=\"81.49\" ry=\"18\"/>\n",
       "<text text-anchor=\"middle\" x=\"280\" y=\"-238.3\" font-family=\"Times,serif\" font-size=\"14.00\">10: a2: float = 2 * a</text>\n",
       "</g>\n",
       "<!-- 9&#45;&gt;10 -->\n",
       "<g id=\"edge10\" class=\"edge\">\n",
       "<title>9&#45;&gt;10</title>\n",
       "<path fill=\"none\" stroke=\"green\" d=\"M280,-295.7C280,-287.98 280,-278.71 280,-270.11\"/>\n",
       "<polygon fill=\"green\" stroke=\"green\" points=\"283.5,-270.1 280,-260.1 276.5,-270.1 283.5,-270.1\"/>\n",
       "</g>\n",
       "<!-- 11 -->\n",
       "<g id=\"node12\" class=\"node\">\n",
       "<title>11</title>\n",
       "<ellipse fill=\"none\" stroke=\"black\" cx=\"280\" cy=\"-170\" rx=\"88.28\" ry=\"18\"/>\n",
       "<text text-anchor=\"middle\" x=\"280\" y=\"-166.3\" font-family=\"Times,serif\" font-size=\"14.00\">11: ba2: float = b / a2</text>\n",
       "</g>\n",
       "<!-- 10&#45;&gt;11 -->\n",
       "<g id=\"edge11\" class=\"edge\">\n",
       "<title>10&#45;&gt;11</title>\n",
       "<path fill=\"none\" stroke=\"green\" d=\"M280,-223.7C280,-215.98 280,-206.71 280,-198.11\"/>\n",
       "<polygon fill=\"green\" stroke=\"green\" points=\"283.5,-198.1 280,-188.1 276.5,-198.1 283.5,-198.1\"/>\n",
       "</g>\n",
       "<!-- 11&#45;&gt;12 -->\n",
       "<g id=\"edge12\" class=\"edge\">\n",
       "<title>11&#45;&gt;12</title>\n",
       "<path fill=\"none\" stroke=\"green\" d=\"M280,-151.7C280,-143.98 280,-134.71 280,-126.11\"/>\n",
       "<polygon fill=\"green\" stroke=\"green\" points=\"283.5,-126.1 280,-116.1 276.5,-126.1 283.5,-126.1\"/>\n",
       "</g>\n",
       "</g>\n",
       "</svg>\n"
      ],
      "text/plain": [
       "<graphviz.dot.Digraph at 0x103ae7520>"
      ]
     },
     "execution_count": 214,
     "metadata": {},
     "output_type": "execute_result"
    }
   ],
   "source": [
    "with ArcCoverage() as cov:\n",
    "    roots(1, 1, 1)\n",
    "show_cfg(roots, arcs=cov.arcs())"
   ]
  },
  {
   "cell_type": "code",
   "execution_count": 215,
   "metadata": {
    "execution": {
     "iopub.execute_input": "2022-01-24T10:02:43.815631Z",
     "iopub.status.busy": "2022-01-24T10:02:43.801830Z",
     "iopub.status.idle": "2022-01-24T10:02:44.532178Z",
     "shell.execute_reply": "2022-01-24T10:02:44.532776Z"
    },
    "slideshow": {
     "slide_type": "fragment"
    },
    "solution2": "hidden"
   },
   "outputs": [
    {
     "data": {
      "image/svg+xml": [
       "<?xml version=\"1.0\" encoding=\"UTF-8\" standalone=\"no\"?>\n",
       "<!DOCTYPE svg PUBLIC \"-//W3C//DTD SVG 1.1//EN\"\n",
       " \"http://www.w3.org/Graphics/SVG/1.1/DTD/svg11.dtd\">\n",
       "<!-- Generated by graphviz version 2.49.3 (20211023.0002)\n",
       " -->\n",
       "<!-- Pages: 1 -->\n",
       "<svg width=\"402pt\" height=\"708pt\"\n",
       " viewBox=\"0.00 0.00 401.50 708.00\" xmlns=\"http://www.w3.org/2000/svg\" xmlns:xlink=\"http://www.w3.org/1999/xlink\">\n",
       "<g id=\"graph0\" class=\"graph\" transform=\"scale(1 1) rotate(0) translate(4 704)\">\n",
       "<polygon fill=\"white\" stroke=\"transparent\" points=\"-4,4 -4,-704 397.5,-704 397.5,4 -4,4\"/>\n",
       "<!-- 1 -->\n",
       "<g id=\"node1\" class=\"node\">\n",
       "<title>1</title>\n",
       "<ellipse fill=\"none\" stroke=\"black\" cx=\"188\" cy=\"-678\" rx=\"89.08\" ry=\"18\"/>\n",
       "<ellipse fill=\"none\" stroke=\"black\" cx=\"188\" cy=\"-678\" rx=\"93.08\" ry=\"22\"/>\n",
       "<text text-anchor=\"middle\" x=\"188\" y=\"-674.3\" font-family=\"Times,serif\" font-size=\"14.00\">1: enter: roots(a, b, c)</text>\n",
       "</g>\n",
       "<!-- 3 -->\n",
       "<g id=\"node4\" class=\"node\">\n",
       "<title>3</title>\n",
       "<ellipse fill=\"none\" stroke=\"black\" cx=\"188\" cy=\"-602\" rx=\"111.58\" ry=\"18\"/>\n",
       "<text text-anchor=\"middle\" x=\"188\" y=\"-598.3\" font-family=\"Times,serif\" font-size=\"14.00\">2: d: float = b * b &#45; 4 * a * c</text>\n",
       "</g>\n",
       "<!-- 1&#45;&gt;3 -->\n",
       "<g id=\"edge2\" class=\"edge\">\n",
       "<title>1&#45;&gt;3</title>\n",
       "<path fill=\"none\" stroke=\"green\" d=\"M188,-655.99C188,-648.06 188,-638.91 188,-630.48\"/>\n",
       "<polygon fill=\"green\" stroke=\"green\" points=\"191.5,-630.31 188,-620.31 184.5,-630.31 191.5,-630.31\"/>\n",
       "</g>\n",
       "<!-- 2 -->\n",
       "<g id=\"node2\" class=\"node\">\n",
       "<title>2</title>\n",
       "<ellipse fill=\"none\" stroke=\"black\" cx=\"280\" cy=\"-22\" rx=\"84.49\" ry=\"18\"/>\n",
       "<ellipse fill=\"none\" stroke=\"black\" cx=\"280\" cy=\"-22\" rx=\"88.49\" ry=\"22\"/>\n",
       "<text text-anchor=\"middle\" x=\"280\" y=\"-18.3\" font-family=\"Times,serif\" font-size=\"14.00\">1: exit: roots(a, b, c)</text>\n",
       "</g>\n",
       "<!-- 12 -->\n",
       "<g id=\"node3\" class=\"node\">\n",
       "<title>12</title>\n",
       "<polygon fill=\"none\" stroke=\"black\" points=\"393.5,-116 166.5,-116 166.5,-80 393.5,-80 393.5,-116\"/>\n",
       "<text text-anchor=\"middle\" x=\"280\" y=\"-94.3\" font-family=\"Times,serif\" font-size=\"14.00\">13: return (&#45;ba2 + s / a2, &#45;ba2 &#45; s / a2)</text>\n",
       "</g>\n",
       "<!-- 12&#45;&gt;2 -->\n",
       "<g id=\"edge1\" class=\"edge\">\n",
       "<title>12&#45;&gt;2</title>\n",
       "<path fill=\"none\" stroke=\"green\" d=\"M280,-79.84C280,-72.16 280,-62.88 280,-54.05\"/>\n",
       "<polygon fill=\"green\" stroke=\"green\" points=\"283.5,-54.03 280,-44.03 276.5,-54.03 283.5,-54.03\"/>\n",
       "</g>\n",
       "<!-- 4 -->\n",
       "<g id=\"node5\" class=\"node\">\n",
       "<title>4</title>\n",
       "<ellipse fill=\"none\" stroke=\"black\" cx=\"188\" cy=\"-530\" rx=\"84.49\" ry=\"18\"/>\n",
       "<text text-anchor=\"middle\" x=\"188\" y=\"-526.3\" font-family=\"Times,serif\" font-size=\"14.00\">3: ax: float = 0.5 * d</text>\n",
       "</g>\n",
       "<!-- 3&#45;&gt;4 -->\n",
       "<g id=\"edge3\" class=\"edge\">\n",
       "<title>3&#45;&gt;4</title>\n",
       "<path fill=\"none\" stroke=\"green\" d=\"M188,-583.7C188,-575.98 188,-566.71 188,-558.11\"/>\n",
       "<polygon fill=\"green\" stroke=\"green\" points=\"191.5,-558.1 188,-548.1 184.5,-558.1 191.5,-558.1\"/>\n",
       "</g>\n",
       "<!-- 5 -->\n",
       "<g id=\"node6\" class=\"node\">\n",
       "<title>5</title>\n",
       "<ellipse fill=\"none\" stroke=\"black\" cx=\"188\" cy=\"-458\" rx=\"64.19\" ry=\"18\"/>\n",
       "<text text-anchor=\"middle\" x=\"188\" y=\"-454.3\" font-family=\"Times,serif\" font-size=\"14.00\">4: bx: float = 0</text>\n",
       "</g>\n",
       "<!-- 4&#45;&gt;5 -->\n",
       "<g id=\"edge4\" class=\"edge\">\n",
       "<title>4&#45;&gt;5</title>\n",
       "<path fill=\"none\" stroke=\"green\" d=\"M188,-511.7C188,-503.98 188,-494.71 188,-486.11\"/>\n",
       "<polygon fill=\"green\" stroke=\"green\" points=\"191.5,-486.1 188,-476.1 184.5,-486.1 191.5,-486.1\"/>\n",
       "</g>\n",
       "<!-- 6 -->\n",
       "<g id=\"node7\" class=\"node\">\n",
       "<title>6</title>\n",
       "<polygon fill=\"none\" stroke=\"black\" points=\"188,-404 58.3,-386 188,-368 317.7,-386 188,-404\"/>\n",
       "<text text-anchor=\"middle\" x=\"188\" y=\"-382.3\" font-family=\"Times,serif\" font-size=\"14.00\">5: while: ax &#45; bx &gt; 0.1</text>\n",
       "</g>\n",
       "<!-- 5&#45;&gt;6 -->\n",
       "<g id=\"edge5\" class=\"edge\">\n",
       "<title>5&#45;&gt;6</title>\n",
       "<path fill=\"none\" stroke=\"green\" d=\"M188,-439.7C188,-431.98 188,-422.71 188,-414.11\"/>\n",
       "<polygon fill=\"green\" stroke=\"green\" points=\"191.5,-414.1 188,-404.1 184.5,-414.1 191.5,-414.1\"/>\n",
       "</g>\n",
       "<!-- 7 -->\n",
       "<g id=\"node9\" class=\"node\">\n",
       "<title>7</title>\n",
       "<polygon fill=\"none\" stroke=\"black\" points=\"160,-332 0,-332 0,-296 160,-296 160,-332\"/>\n",
       "<text text-anchor=\"middle\" x=\"80\" y=\"-310.3\" font-family=\"Times,serif\" font-size=\"14.00\">6: bx = 0.5 * (ax + d / ax)</text>\n",
       "</g>\n",
       "<!-- 6&#45;&gt;7 -->\n",
       "<g id=\"edge7\" class=\"edge\">\n",
       "<title>6&#45;&gt;7</title>\n",
       "<path fill=\"none\" stroke=\"red\" d=\"M166.14,-370.83C151.45,-361.31 131.76,-348.55 114.91,-337.63\"/>\n",
       "<polygon fill=\"red\" stroke=\"red\" points=\"116.7,-334.61 106.4,-332.11 112.89,-340.49 116.7,-334.61\"/>\n",
       "</g>\n",
       "<!-- 9 -->\n",
       "<g id=\"node10\" class=\"node\">\n",
       "<title>9</title>\n",
       "<ellipse fill=\"none\" stroke=\"black\" cx=\"280\" cy=\"-314\" rx=\"63.89\" ry=\"18\"/>\n",
       "<text text-anchor=\"middle\" x=\"280\" y=\"-310.3\" font-family=\"Times,serif\" font-size=\"14.00\">9: s: float = bx</text>\n",
       "</g>\n",
       "<!-- 6&#45;&gt;9 -->\n",
       "<g id=\"edge9\" class=\"edge\">\n",
       "<title>6&#45;&gt;9</title>\n",
       "<path fill=\"none\" stroke=\"green\" d=\"M207.06,-370.5C219.65,-360.92 236.38,-348.19 250.65,-337.33\"/>\n",
       "<polygon fill=\"green\" stroke=\"green\" points=\"252.87,-340.04 258.71,-331.2 248.63,-334.47 252.87,-340.04\"/>\n",
       "</g>\n",
       "<!-- 8 -->\n",
       "<g id=\"node8\" class=\"node\">\n",
       "<title>8</title>\n",
       "<polygon fill=\"none\" stroke=\"black\" points=\"148.5,-260 75.5,-260 75.5,-224 148.5,-224 148.5,-260\"/>\n",
       "<text text-anchor=\"middle\" x=\"112\" y=\"-238.3\" font-family=\"Times,serif\" font-size=\"14.00\">7: ax = bx</text>\n",
       "</g>\n",
       "<!-- 8&#45;&gt;6 -->\n",
       "<g id=\"edge6\" class=\"edge\">\n",
       "<title>8&#45;&gt;6</title>\n",
       "<path fill=\"none\" stroke=\"red\" d=\"M136.39,-260.04C147.97,-269.37 161,-281.9 169,-296 179.75,-314.95 184.43,-339.32 186.47,-357.76\"/>\n",
       "<polygon fill=\"red\" stroke=\"red\" points=\"182.99,-358.21 187.38,-367.85 189.96,-357.58 182.99,-358.21\"/>\n",
       "</g>\n",
       "<!-- 7&#45;&gt;8 -->\n",
       "<g id=\"edge8\" class=\"edge\">\n",
       "<title>7&#45;&gt;8</title>\n",
       "<path fill=\"none\" stroke=\"red\" d=\"M87.91,-295.7C91.55,-287.73 95.95,-278.1 99.99,-269.26\"/>\n",
       "<polygon fill=\"red\" stroke=\"red\" points=\"103.21,-270.65 104.18,-260.1 96.84,-267.74 103.21,-270.65\"/>\n",
       "</g>\n",
       "<!-- 10 -->\n",
       "<g id=\"node11\" class=\"node\">\n",
       "<title>10</title>\n",
       "<ellipse fill=\"none\" stroke=\"black\" cx=\"280\" cy=\"-242\" rx=\"81.49\" ry=\"18\"/>\n",
       "<text text-anchor=\"middle\" x=\"280\" y=\"-238.3\" font-family=\"Times,serif\" font-size=\"14.00\">10: a2: float = 2 * a</text>\n",
       "</g>\n",
       "<!-- 9&#45;&gt;10 -->\n",
       "<g id=\"edge10\" class=\"edge\">\n",
       "<title>9&#45;&gt;10</title>\n",
       "<path fill=\"none\" stroke=\"green\" d=\"M280,-295.7C280,-287.98 280,-278.71 280,-270.11\"/>\n",
       "<polygon fill=\"green\" stroke=\"green\" points=\"283.5,-270.1 280,-260.1 276.5,-270.1 283.5,-270.1\"/>\n",
       "</g>\n",
       "<!-- 11 -->\n",
       "<g id=\"node12\" class=\"node\">\n",
       "<title>11</title>\n",
       "<ellipse fill=\"none\" stroke=\"black\" cx=\"280\" cy=\"-170\" rx=\"88.28\" ry=\"18\"/>\n",
       "<text text-anchor=\"middle\" x=\"280\" y=\"-166.3\" font-family=\"Times,serif\" font-size=\"14.00\">11: ba2: float = b / a2</text>\n",
       "</g>\n",
       "<!-- 10&#45;&gt;11 -->\n",
       "<g id=\"edge11\" class=\"edge\">\n",
       "<title>10&#45;&gt;11</title>\n",
       "<path fill=\"none\" stroke=\"green\" d=\"M280,-223.7C280,-215.98 280,-206.71 280,-198.11\"/>\n",
       "<polygon fill=\"green\" stroke=\"green\" points=\"283.5,-198.1 280,-188.1 276.5,-198.1 283.5,-198.1\"/>\n",
       "</g>\n",
       "<!-- 11&#45;&gt;12 -->\n",
       "<g id=\"edge12\" class=\"edge\">\n",
       "<title>11&#45;&gt;12</title>\n",
       "<path fill=\"none\" stroke=\"green\" d=\"M280,-151.7C280,-143.98 280,-134.71 280,-126.11\"/>\n",
       "<polygon fill=\"green\" stroke=\"green\" points=\"283.5,-126.1 280,-116.1 276.5,-126.1 283.5,-126.1\"/>\n",
       "</g>\n",
       "</g>\n",
       "</svg>\n"
      ],
      "text/plain": [
       "<graphviz.dot.Digraph at 0x1091bdac0>"
      ]
     },
     "execution_count": 215,
     "metadata": {},
     "output_type": "execute_result"
    }
   ],
   "source": [
    "with ArcCoverage() as cov:\n",
    "    roots(-1, 0, 0)\n",
    "show_cfg(roots, arcs=cov.arcs())"
   ]
  },
  {
   "cell_type": "markdown",
   "metadata": {
    "slideshow": {
     "slide_type": "subslide"
    },
    "solution2": "hidden"
   },
   "source": [
    "Indeed, even though the arguments were different, the path traced is exactly the same.\n",
    "\n",
    "As we saw in the chapter on [concolic fuzzing](ConcolicFuzzer.ipynb), concolic tracing has another use, namely that we can use it to explore nearby paths. We will see how to do that next."
   ]
  },
  {
   "cell_type": "markdown",
   "metadata": {
    "slideshow": {
     "slide_type": "subslide"
    },
    "solution2": "hidden"
   },
   "source": [
    "#### Exploring Nearby Paths\n",
    "\n",
    "We collected the following constraints."
   ]
  },
  {
   "cell_type": "code",
   "execution_count": 216,
   "metadata": {
    "execution": {
     "iopub.execute_input": "2022-01-24T10:02:44.541627Z",
     "iopub.status.busy": "2022-01-24T10:02:44.540299Z",
     "iopub.status.idle": "2022-01-24T10:02:44.545258Z",
     "shell.execute_reply": "2022-01-24T10:02:44.545841Z"
    },
    "slideshow": {
     "slide_type": "fragment"
    },
    "solution2": "hidden"
   },
   "outputs": [
    {
     "data": {
      "text/plain": [
       "['z3.And(a == _a_0, b == _b_0, c == _c_0)',\n",
       " '_d_0 == _b_0 * _b_0 - 4 * _a_0 * _c_0',\n",
       " '_xa_0 == 0.5 * _d_0',\n",
       " '_xb_0 == 0',\n",
       " 'z3.Not(_xa_0 - _xb_0 > 0.1)',\n",
       " '_s_0 == _xb_0',\n",
       " 'z3.Not(_a_0 == 0)',\n",
       " '_a2_0 == 2 * _a_0',\n",
       " '_ba2_0 == _b_0 / _a2_0']"
      ]
     },
     "execution_count": 216,
     "metadata": {},
     "output_type": "execute_result"
    }
   ],
   "source": [
    "constraints"
   ]
  },
  {
   "cell_type": "markdown",
   "metadata": {
    "slideshow": {
     "slide_type": "subslide"
    },
    "solution2": "hidden"
   },
   "source": [
    "We can explore nearby paths by negating the conditionals starting from the very last. (A question for the student: Why do we want to start negating from the very last?)"
   ]
  },
  {
   "cell_type": "code",
   "execution_count": 217,
   "metadata": {
    "execution": {
     "iopub.execute_input": "2022-01-24T10:02:44.551630Z",
     "iopub.status.busy": "2022-01-24T10:02:44.550881Z",
     "iopub.status.idle": "2022-01-24T10:02:44.553182Z",
     "shell.execute_reply": "2022-01-24T10:02:44.553648Z"
    },
    "slideshow": {
     "slide_type": "fragment"
    },
    "solution2": "hidden"
   },
   "outputs": [],
   "source": [
    "new_constraints = constraints[0:4] + ['z3.Not(%s)' % constraints[4]]"
   ]
  },
  {
   "cell_type": "code",
   "execution_count": 218,
   "metadata": {
    "execution": {
     "iopub.execute_input": "2022-01-24T10:02:44.560277Z",
     "iopub.status.busy": "2022-01-24T10:02:44.559267Z",
     "iopub.status.idle": "2022-01-24T10:02:44.563026Z",
     "shell.execute_reply": "2022-01-24T10:02:44.563820Z"
    },
    "slideshow": {
     "slide_type": "fragment"
    },
    "solution2": "hidden"
   },
   "outputs": [
    {
     "data": {
      "text/plain": [
       "['z3.And(a == _a_0, b == _b_0, c == _c_0)',\n",
       " '_d_0 == _b_0 * _b_0 - 4 * _a_0 * _c_0',\n",
       " '_xa_0 == 0.5 * _d_0',\n",
       " '_xb_0 == 0',\n",
       " 'z3.Not(z3.Not(_xa_0 - _xb_0 > 0.1))']"
      ]
     },
     "execution_count": 218,
     "metadata": {},
     "output_type": "execute_result"
    }
   ],
   "source": [
    "new_constraints"
   ]
  },
  {
   "cell_type": "code",
   "execution_count": 219,
   "metadata": {
    "execution": {
     "iopub.execute_input": "2022-01-24T10:02:44.569476Z",
     "iopub.status.busy": "2022-01-24T10:02:44.568464Z",
     "iopub.status.idle": "2022-01-24T10:02:44.598891Z",
     "shell.execute_reply": "2022-01-24T10:02:44.599565Z"
    },
    "slideshow": {
     "slide_type": "subslide"
    },
    "solution2": "hidden"
   },
   "outputs": [
    {
     "name": "stdout",
     "output_type": "stream",
     "text": [
      "[_a_0 = -11/20,\n",
      " _b_0 = 0,\n",
      " _c_0 = 1,\n",
      " _xb_0 = 0,\n",
      " _xa_0 = 11/10,\n",
      " _d_0 = 11/5,\n",
      " c = 1,\n",
      " b = 0,\n",
      " a = -11/20]\n"
     ]
    }
   ],
   "source": [
    "eval('z3.solve(%s)' % ','.join(new_constraints))"
   ]
  },
  {
   "cell_type": "code",
   "execution_count": 220,
   "metadata": {
    "execution": {
     "iopub.execute_input": "2022-01-24T10:02:44.633999Z",
     "iopub.status.busy": "2022-01-24T10:02:44.620909Z",
     "iopub.status.idle": "2022-01-24T10:02:45.426116Z",
     "shell.execute_reply": "2022-01-24T10:02:45.426792Z"
    },
    "slideshow": {
     "slide_type": "fragment"
    },
    "solution2": "hidden"
   },
   "outputs": [
    {
     "data": {
      "image/svg+xml": [
       "<?xml version=\"1.0\" encoding=\"UTF-8\" standalone=\"no\"?>\n",
       "<!DOCTYPE svg PUBLIC \"-//W3C//DTD SVG 1.1//EN\"\n",
       " \"http://www.w3.org/Graphics/SVG/1.1/DTD/svg11.dtd\">\n",
       "<!-- Generated by graphviz version 2.49.3 (20211023.0002)\n",
       " -->\n",
       "<!-- Pages: 1 -->\n",
       "<svg width=\"605pt\" height=\"780pt\"\n",
       " viewBox=\"0.00 0.00 605.00 780.00\" xmlns=\"http://www.w3.org/2000/svg\" xmlns:xlink=\"http://www.w3.org/1999/xlink\">\n",
       "<g id=\"graph0\" class=\"graph\" transform=\"scale(1 1) rotate(0) translate(4 776)\">\n",
       "<polygon fill=\"white\" stroke=\"transparent\" points=\"-4,4 -4,-776 601,-776 601,4 -4,4\"/>\n",
       "<!-- 1 -->\n",
       "<g id=\"node1\" class=\"node\">\n",
       "<title>1</title>\n",
       "<ellipse fill=\"none\" stroke=\"black\" cx=\"289.5\" cy=\"-750\" rx=\"93.68\" ry=\"18\"/>\n",
       "<ellipse fill=\"none\" stroke=\"black\" cx=\"289.5\" cy=\"-750\" rx=\"97.68\" ry=\"22\"/>\n",
       "<text text-anchor=\"middle\" x=\"289.5\" y=\"-746.3\" font-family=\"Times,serif\" font-size=\"14.00\">1: enter: roots3(a, b, c)</text>\n",
       "</g>\n",
       "<!-- 3 -->\n",
       "<g id=\"node6\" class=\"node\">\n",
       "<title>3</title>\n",
       "<ellipse fill=\"none\" stroke=\"black\" cx=\"289.5\" cy=\"-674\" rx=\"111.58\" ry=\"18\"/>\n",
       "<text text-anchor=\"middle\" x=\"289.5\" y=\"-670.3\" font-family=\"Times,serif\" font-size=\"14.00\">2: d: float = b * b &#45; 4 * a * c</text>\n",
       "</g>\n",
       "<!-- 1&#45;&gt;3 -->\n",
       "<g id=\"edge4\" class=\"edge\">\n",
       "<title>1&#45;&gt;3</title>\n",
       "<path fill=\"none\" stroke=\"green\" d=\"M289.5,-727.99C289.5,-720.06 289.5,-710.91 289.5,-702.48\"/>\n",
       "<polygon fill=\"green\" stroke=\"green\" points=\"293,-702.31 289.5,-692.31 286,-702.31 293,-702.31\"/>\n",
       "</g>\n",
       "<!-- 2 -->\n",
       "<g id=\"node2\" class=\"node\">\n",
       "<title>2</title>\n",
       "<ellipse fill=\"none\" stroke=\"black\" cx=\"277.5\" cy=\"-22\" rx=\"89.08\" ry=\"18\"/>\n",
       "<ellipse fill=\"none\" stroke=\"black\" cx=\"277.5\" cy=\"-22\" rx=\"93.08\" ry=\"22\"/>\n",
       "<text text-anchor=\"middle\" x=\"277.5\" y=\"-18.3\" font-family=\"Times,serif\" font-size=\"14.00\">1: exit: roots3(a, b, c)</text>\n",
       "</g>\n",
       "<!-- 12 -->\n",
       "<g id=\"node3\" class=\"node\">\n",
       "<title>12</title>\n",
       "<polygon fill=\"none\" stroke=\"black\" points=\"185,-116 0,-116 0,-80 185,-80 185,-116\"/>\n",
       "<text text-anchor=\"middle\" x=\"92.5\" y=\"-94.3\" font-family=\"Times,serif\" font-size=\"14.00\">13: return (math.inf, math.inf)</text>\n",
       "</g>\n",
       "<!-- 12&#45;&gt;2 -->\n",
       "<g id=\"edge1\" class=\"edge\">\n",
       "<title>12&#45;&gt;2</title>\n",
       "<path fill=\"none\" stroke=\"red\" d=\"M135.41,-79.84C161.28,-69.49 194.51,-56.2 222.33,-45.07\"/>\n",
       "<polygon fill=\"red\" stroke=\"red\" points=\"223.93,-48.2 231.92,-41.23 221.33,-41.7 223.93,-48.2\"/>\n",
       "</g>\n",
       "<!-- 13 -->\n",
       "<g id=\"node4\" class=\"node\">\n",
       "<title>13</title>\n",
       "<polygon fill=\"none\" stroke=\"black\" points=\"352,-116 203,-116 203,-80 352,-80 352,-116\"/>\n",
       "<text text-anchor=\"middle\" x=\"277.5\" y=\"-94.3\" font-family=\"Times,serif\" font-size=\"14.00\">14: return (&#45;c / b, &#45;c / b)</text>\n",
       "</g>\n",
       "<!-- 13&#45;&gt;2 -->\n",
       "<g id=\"edge2\" class=\"edge\">\n",
       "<title>13&#45;&gt;2</title>\n",
       "<path fill=\"none\" stroke=\"red\" d=\"M277.5,-79.84C277.5,-72.16 277.5,-62.88 277.5,-54.05\"/>\n",
       "<polygon fill=\"red\" stroke=\"red\" points=\"281,-54.03 277.5,-44.03 274,-54.03 281,-54.03\"/>\n",
       "</g>\n",
       "<!-- 16 -->\n",
       "<g id=\"node5\" class=\"node\">\n",
       "<title>16</title>\n",
       "<polygon fill=\"none\" stroke=\"black\" points=\"597,-116 370,-116 370,-80 597,-80 597,-116\"/>\n",
       "<text text-anchor=\"middle\" x=\"483.5\" y=\"-94.3\" font-family=\"Times,serif\" font-size=\"14.00\">18: return (&#45;ba2 + s / a2, &#45;ba2 &#45; s / a2)</text>\n",
       "</g>\n",
       "<!-- 16&#45;&gt;2 -->\n",
       "<g id=\"edge3\" class=\"edge\">\n",
       "<title>16&#45;&gt;2</title>\n",
       "<path fill=\"none\" stroke=\"green\" d=\"M435.98,-79.93C406.37,-69.29 368.03,-55.52 336.49,-44.19\"/>\n",
       "<polygon fill=\"green\" stroke=\"green\" points=\"337.53,-40.84 326.93,-40.76 335.16,-47.43 337.53,-40.84\"/>\n",
       "</g>\n",
       "<!-- 4 -->\n",
       "<g id=\"node7\" class=\"node\">\n",
       "<title>4</title>\n",
       "<ellipse fill=\"none\" stroke=\"black\" cx=\"289.5\" cy=\"-602\" rx=\"84.49\" ry=\"18\"/>\n",
       "<text text-anchor=\"middle\" x=\"289.5\" y=\"-598.3\" font-family=\"Times,serif\" font-size=\"14.00\">4: xa: float = 0.5 * d</text>\n",
       "</g>\n",
       "<!-- 3&#45;&gt;4 -->\n",
       "<g id=\"edge5\" class=\"edge\">\n",
       "<title>3&#45;&gt;4</title>\n",
       "<path fill=\"none\" stroke=\"green\" d=\"M289.5,-655.7C289.5,-647.98 289.5,-638.71 289.5,-630.11\"/>\n",
       "<polygon fill=\"green\" stroke=\"green\" points=\"293,-630.1 289.5,-620.1 286,-630.1 293,-630.1\"/>\n",
       "</g>\n",
       "<!-- 5 -->\n",
       "<g id=\"node8\" class=\"node\">\n",
       "<title>5</title>\n",
       "<ellipse fill=\"none\" stroke=\"black\" cx=\"289.5\" cy=\"-530\" rx=\"64.19\" ry=\"18\"/>\n",
       "<text text-anchor=\"middle\" x=\"289.5\" y=\"-526.3\" font-family=\"Times,serif\" font-size=\"14.00\">5: xb: float = 0</text>\n",
       "</g>\n",
       "<!-- 4&#45;&gt;5 -->\n",
       "<g id=\"edge6\" class=\"edge\">\n",
       "<title>4&#45;&gt;5</title>\n",
       "<path fill=\"none\" stroke=\"green\" d=\"M289.5,-583.7C289.5,-575.98 289.5,-566.71 289.5,-558.11\"/>\n",
       "<polygon fill=\"green\" stroke=\"green\" points=\"293,-558.1 289.5,-548.1 286,-558.1 293,-558.1\"/>\n",
       "</g>\n",
       "<!-- 6 -->\n",
       "<g id=\"node9\" class=\"node\">\n",
       "<title>6</title>\n",
       "<polygon fill=\"none\" stroke=\"black\" points=\"289.5,-476 159.8,-458 289.5,-440 419.2,-458 289.5,-476\"/>\n",
       "<text text-anchor=\"middle\" x=\"289.5\" y=\"-454.3\" font-family=\"Times,serif\" font-size=\"14.00\">6: while: xa &#45; xb &gt; 0.1</text>\n",
       "</g>\n",
       "<!-- 5&#45;&gt;6 -->\n",
       "<g id=\"edge7\" class=\"edge\">\n",
       "<title>5&#45;&gt;6</title>\n",
       "<path fill=\"none\" stroke=\"green\" d=\"M289.5,-511.7C289.5,-503.98 289.5,-494.71 289.5,-486.11\"/>\n",
       "<polygon fill=\"green\" stroke=\"green\" points=\"293,-486.1 289.5,-476.1 286,-486.1 293,-486.1\"/>\n",
       "</g>\n",
       "<!-- 7 -->\n",
       "<g id=\"node11\" class=\"node\">\n",
       "<title>7</title>\n",
       "<polygon fill=\"none\" stroke=\"black\" points=\"261.5,-404 101.5,-404 101.5,-368 261.5,-368 261.5,-404\"/>\n",
       "<text text-anchor=\"middle\" x=\"181.5\" y=\"-382.3\" font-family=\"Times,serif\" font-size=\"14.00\">7: xb = 0.5 * (xa + d / xa)</text>\n",
       "</g>\n",
       "<!-- 6&#45;&gt;7 -->\n",
       "<g id=\"edge9\" class=\"edge\">\n",
       "<title>6&#45;&gt;7</title>\n",
       "<path fill=\"none\" stroke=\"green\" d=\"M267.64,-442.83C252.95,-433.31 233.26,-420.55 216.41,-409.63\"/>\n",
       "<polygon fill=\"green\" stroke=\"green\" points=\"218.2,-406.61 207.9,-404.11 214.39,-412.49 218.2,-406.61\"/>\n",
       "</g>\n",
       "<!-- 9 -->\n",
       "<g id=\"node12\" class=\"node\">\n",
       "<title>9</title>\n",
       "<ellipse fill=\"none\" stroke=\"black\" cx=\"381.5\" cy=\"-386\" rx=\"63.89\" ry=\"18\"/>\n",
       "<text text-anchor=\"middle\" x=\"381.5\" y=\"-382.3\" font-family=\"Times,serif\" font-size=\"14.00\">9: s: float = xb</text>\n",
       "</g>\n",
       "<!-- 6&#45;&gt;9 -->\n",
       "<g id=\"edge11\" class=\"edge\">\n",
       "<title>6&#45;&gt;9</title>\n",
       "<path fill=\"none\" stroke=\"green\" d=\"M308.56,-442.5C321.15,-432.92 337.88,-420.19 352.15,-409.33\"/>\n",
       "<polygon fill=\"green\" stroke=\"green\" points=\"354.37,-412.04 360.21,-403.2 350.13,-406.47 354.37,-412.04\"/>\n",
       "</g>\n",
       "<!-- 8 -->\n",
       "<g id=\"node10\" class=\"node\">\n",
       "<title>8</title>\n",
       "<polygon fill=\"none\" stroke=\"black\" points=\"250,-332 177,-332 177,-296 250,-296 250,-332\"/>\n",
       "<text text-anchor=\"middle\" x=\"213.5\" y=\"-310.3\" font-family=\"Times,serif\" font-size=\"14.00\">8: xa = xb</text>\n",
       "</g>\n",
       "<!-- 8&#45;&gt;6 -->\n",
       "<g id=\"edge8\" class=\"edge\">\n",
       "<title>8&#45;&gt;6</title>\n",
       "<path fill=\"none\" stroke=\"green\" d=\"M237.89,-332.04C249.47,-341.37 262.5,-353.9 270.5,-368 281.25,-386.95 285.93,-411.32 287.97,-429.76\"/>\n",
       "<polygon fill=\"green\" stroke=\"green\" points=\"284.49,-430.21 288.88,-439.85 291.46,-429.58 284.49,-430.21\"/>\n",
       "</g>\n",
       "<!-- 7&#45;&gt;8 -->\n",
       "<g id=\"edge10\" class=\"edge\">\n",
       "<title>7&#45;&gt;8</title>\n",
       "<path fill=\"none\" stroke=\"green\" d=\"M189.41,-367.7C193.05,-359.73 197.45,-350.1 201.49,-341.26\"/>\n",
       "<polygon fill=\"green\" stroke=\"green\" points=\"204.71,-342.65 205.68,-332.1 198.34,-339.74 204.71,-342.65\"/>\n",
       "</g>\n",
       "<!-- 10 -->\n",
       "<g id=\"node13\" class=\"node\">\n",
       "<title>10</title>\n",
       "<polygon fill=\"none\" stroke=\"black\" points=\"381.5,-332 299.89,-314 381.5,-296 463.11,-314 381.5,-332\"/>\n",
       "<text text-anchor=\"middle\" x=\"381.5\" y=\"-310.3\" font-family=\"Times,serif\" font-size=\"14.00\">11: if: a == 0</text>\n",
       "</g>\n",
       "<!-- 9&#45;&gt;10 -->\n",
       "<g id=\"edge12\" class=\"edge\">\n",
       "<title>9&#45;&gt;10</title>\n",
       "<path fill=\"none\" stroke=\"green\" d=\"M381.5,-367.7C381.5,-359.98 381.5,-350.71 381.5,-342.11\"/>\n",
       "<polygon fill=\"green\" stroke=\"green\" points=\"385,-342.1 381.5,-332.1 378,-342.1 385,-342.1\"/>\n",
       "</g>\n",
       "<!-- 11 -->\n",
       "<g id=\"node14\" class=\"node\">\n",
       "<title>11</title>\n",
       "<polygon fill=\"none\" stroke=\"black\" points=\"277.5,-188 193.71,-170 277.5,-152 361.29,-170 277.5,-188\"/>\n",
       "<text text-anchor=\"middle\" x=\"277.5\" y=\"-166.3\" font-family=\"Times,serif\" font-size=\"14.00\">12: if: b == 0</text>\n",
       "</g>\n",
       "<!-- 10&#45;&gt;11 -->\n",
       "<g id=\"edge13\" class=\"edge\">\n",
       "<title>10&#45;&gt;11</title>\n",
       "<path fill=\"none\" stroke=\"red\" d=\"M370.76,-298.34C352.7,-273.68 316.11,-223.71 294.52,-194.23\"/>\n",
       "<polygon fill=\"red\" stroke=\"red\" points=\"297.07,-191.79 288.34,-185.79 291.42,-195.93 297.07,-191.79\"/>\n",
       "</g>\n",
       "<!-- 14 -->\n",
       "<g id=\"node15\" class=\"node\">\n",
       "<title>14</title>\n",
       "<ellipse fill=\"none\" stroke=\"black\" cx=\"446.5\" cy=\"-242\" rx=\"81.49\" ry=\"18\"/>\n",
       "<text text-anchor=\"middle\" x=\"446.5\" y=\"-238.3\" font-family=\"Times,serif\" font-size=\"14.00\">16: a2: float = 2 * a</text>\n",
       "</g>\n",
       "<!-- 10&#45;&gt;14 -->\n",
       "<g id=\"edge16\" class=\"edge\">\n",
       "<title>10&#45;&gt;14</title>\n",
       "<path fill=\"none\" stroke=\"green\" d=\"M394.65,-298.83C403.07,-289.77 414.21,-277.77 424.01,-267.22\"/>\n",
       "<polygon fill=\"green\" stroke=\"green\" points=\"426.61,-269.57 430.85,-259.86 421.48,-264.8 426.61,-269.57\"/>\n",
       "</g>\n",
       "<!-- 11&#45;&gt;12 -->\n",
       "<g id=\"edge14\" class=\"edge\">\n",
       "<title>11&#45;&gt;12</title>\n",
       "<path fill=\"none\" stroke=\"red\" d=\"M248.59,-158.06C221.59,-147.84 180.56,-132.32 147.34,-119.75\"/>\n",
       "<polygon fill=\"red\" stroke=\"red\" points=\"148.35,-116.39 137.76,-116.12 145.87,-122.94 148.35,-116.39\"/>\n",
       "</g>\n",
       "<!-- 11&#45;&gt;13 -->\n",
       "<g id=\"edge15\" class=\"edge\">\n",
       "<title>11&#45;&gt;13</title>\n",
       "<path fill=\"none\" stroke=\"red\" d=\"M277.5,-151.7C277.5,-143.98 277.5,-134.71 277.5,-126.11\"/>\n",
       "<polygon fill=\"red\" stroke=\"red\" points=\"281,-126.1 277.5,-116.1 274,-126.1 281,-126.1\"/>\n",
       "</g>\n",
       "<!-- 15 -->\n",
       "<g id=\"node16\" class=\"node\">\n",
       "<title>15</title>\n",
       "<ellipse fill=\"none\" stroke=\"black\" cx=\"475.5\" cy=\"-170\" rx=\"88.28\" ry=\"18\"/>\n",
       "<text text-anchor=\"middle\" x=\"475.5\" y=\"-166.3\" font-family=\"Times,serif\" font-size=\"14.00\">17: ba2: float = b / a2</text>\n",
       "</g>\n",
       "<!-- 14&#45;&gt;15 -->\n",
       "<g id=\"edge17\" class=\"edge\">\n",
       "<title>14&#45;&gt;15</title>\n",
       "<path fill=\"none\" stroke=\"green\" d=\"M453.52,-224.05C456.78,-216.18 460.74,-206.62 464.4,-197.79\"/>\n",
       "<polygon fill=\"green\" stroke=\"green\" points=\"467.75,-198.85 468.34,-188.28 461.28,-196.17 467.75,-198.85\"/>\n",
       "</g>\n",
       "<!-- 15&#45;&gt;16 -->\n",
       "<g id=\"edge18\" class=\"edge\">\n",
       "<title>15&#45;&gt;16</title>\n",
       "<path fill=\"none\" stroke=\"green\" d=\"M477.48,-151.7C478.36,-143.98 479.42,-134.71 480.4,-126.11\"/>\n",
       "<polygon fill=\"green\" stroke=\"green\" points=\"483.89,-126.44 481.55,-116.1 476.93,-125.64 483.89,-126.44\"/>\n",
       "</g>\n",
       "</g>\n",
       "</svg>\n"
      ],
      "text/plain": [
       "<graphviz.dot.Digraph at 0x1091b6a90>"
      ]
     },
     "execution_count": 220,
     "metadata": {},
     "output_type": "execute_result"
    }
   ],
   "source": [
    "with ArcCoverage() as cov:\n",
    "    roots3(1, 0, -11 / 20)\n",
    "show_cfg(roots3, arcs=cov.arcs())"
   ]
  },
  {
   "cell_type": "markdown",
   "metadata": {
    "slideshow": {
     "slide_type": "subslide"
    },
    "solution2": "hidden",
    "solution2_first": true
   },
   "source": [
    "Indeed, the path traced is now different. One can continue this procedure to the necessary number of times to explore all nearby paths to the execution.\n",
    "\n",
    "Can you incorporate this exploration into the concolic fuzzer?"
   ]
  },
  {
   "cell_type": "markdown",
   "metadata": {
    "slideshow": {
     "slide_type": "skip"
    },
    "solution2": "hidden"
   },
   "source": [
    "**Solution.** _None yet available._"
   ]
  },
  {
   "cell_type": "markdown",
   "metadata": {
    "slideshow": {
     "slide_type": "slide"
    }
   },
   "source": [
    "## Compatibility"
   ]
  },
  {
   "cell_type": "markdown",
   "metadata": {
    "slideshow": {
     "slide_type": "fragment"
    }
   },
   "source": [
    "Earlier versions of this chapter used the name `AdvancedSymbolicFuzzer` for `SymbolicFuzzer`."
   ]
  },
  {
   "cell_type": "code",
   "execution_count": 221,
   "metadata": {
    "execution": {
     "iopub.execute_input": "2022-01-24T10:02:45.435368Z",
     "iopub.status.busy": "2022-01-24T10:02:45.433367Z",
     "iopub.status.idle": "2022-01-24T10:02:45.439105Z",
     "shell.execute_reply": "2022-01-24T10:02:45.438160Z"
    },
    "slideshow": {
     "slide_type": "fragment"
    }
   },
   "outputs": [],
   "source": [
    "AdvancedSymbolicFuzzer = SymbolicFuzzer"
   ]
  }
 ],
 "metadata": {
  "ipub": {
   "bibliography": "fuzzingbook.bib",
   "toc": true
  },
  "kernelspec": {
   "display_name": "Python 3 (ipykernel)",
   "language": "python",
   "name": "python3"
  },
  "language_info": {
   "codemirror_mode": {
    "name": "ipython",
    "version": 3
   },
   "file_extension": ".py",
   "mimetype": "text/x-python",
   "name": "python",
   "nbconvert_exporter": "python",
   "pygments_lexer": "ipython3",
   "version": "3.9.7"
  },
  "toc": {
   "base_numbering": 1,
   "nav_menu": {},
   "number_sections": true,
   "sideBar": true,
   "skip_h1_title": true,
   "title_cell": "",
   "title_sidebar": "Contents",
   "toc_cell": false,
   "toc_position": {},
   "toc_section_display": true,
   "toc_window_display": true
  },
  "toc-autonumbering": false,
  "varInspector": {
   "cols": {
    "lenName": 16,
    "lenType": 16,
    "lenVar": 40
   },
   "kernels_config": {
    "python": {
     "delete_cmd_postfix": "",
     "delete_cmd_prefix": "del ",
     "library": "var_list.py",
     "varRefreshCmd": "print(var_dic_list())"
    },
    "r": {
     "delete_cmd_postfix": ") ",
     "delete_cmd_prefix": "rm(",
     "library": "var_list.r",
     "varRefreshCmd": "cat(var_dic_list()) "
    }
   },
   "types_to_exclude": [
    "module",
    "function",
    "builtin_function_or_method",
    "instance",
    "_Feature"
   ],
   "window_display": false
  }
 },
 "nbformat": 4,
 "nbformat_minor": 4
}