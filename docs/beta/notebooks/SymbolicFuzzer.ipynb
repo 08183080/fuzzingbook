{
 "cells": [
  {
   "cell_type": "markdown",
   "metadata": {
    "button": false,
    "new_sheet": false,
    "run_control": {
     "read_only": false
    },
    "slideshow": {
     "slide_type": "slide"
    }
   },
   "source": [
    "# Symbolic Fuzzing\n",
    "\n",
    "One of the problems with traditional methods of fuzzing is that they fail to exercise all the possible behaviors that a system can have, especially when the input space is large. Quite often the execution of a specific branch of execution may happen only with very specific inputs, which could represent an extremely small fraction of the input space. The traditional fuzzing methods relies on chance to produce inputs they need. However, relying on randomness to generate values that we want is a bad idea when the space to be explored is huge. For example, a function that accepts a string, even if one only considers the first $10$ characters, already has $2^{80}$ possible inputs. If one is looking for a specific string, random generation of values will take a few thousand years even in one of the super computers.\n",
    "\n",
    "We saw previously how concolic tracing can offer a way out. We saw how concolic tracing can be implemented using direct information flows using the Python interpreter. However, there are two problems with this approach. The first is that, concolic tracing relies on the existence of sample inputs. What if one has no sample inputs? Secondly, direct information flows could be unreliable if the program has indirect information flows such as those based on control flow. In such cases, static analysis becomes necessary to bridge the gap. However, that raises the question. Can we determine the complete behavior of the program by examining it statically, and check if it behaves unexpectedly under some (unknown) input or result in an unexpected output?\n",
    "\n",
    "Symbolic execution is one of the ways that we can reason about the behavior of a program without executing it. A program is a computation that can be treated as a system of equations that obtains the output values from the given inputs. Executing the program symbolically -- that is, solving these mathematically -- along with any specified objective such as covering a particular branch or obtaining a particular output will get us inputs that can accomplish this task.\n",
    "\n",
    "In this chapter, we investigate how symbolic execution can be implemented, and how it can be used to obtain interesting values for fuzzing."
   ]
  },
  {
   "cell_type": "markdown",
   "metadata": {
    "button": false,
    "new_sheet": false,
    "run_control": {
     "read_only": false
    },
    "slideshow": {
     "slide_type": "subslide"
    }
   },
   "source": [
    "**Prerequisites**\n",
    "\n",
    "* You should understand how to use [type annotations](https://docs.python.org/3/library/typing.html) in Python.\n",
    "* A working knowledge of [SMT solvers](https://en.wikipedia.org/wiki/Satisfiability_modulo_theories), especially [Z3](https://github.com/Z3Prover/z3) is useful.\n",
    "* You should have read the [chapter on coverage](Coverage.ipynb).\n",
    "* A familiarity with [chapter on concolic fuzzing](ConcolicFuzzer.ipynb) would be helpful."
   ]
  },
  {
   "cell_type": "markdown",
   "metadata": {
    "slideshow": {
     "slide_type": "slide"
    }
   },
   "source": [
    "## Synopsis\n",
    "<!-- Automatically generated. Do not edit. -->\n",
    "\n",
    "To [use the code provided in this chapter](Importing.ipynb), write\n",
    "\n",
    "```python\n",
    ">>> from fuzzingbook.SymbolicFuzzer import <identifier>\n",
    "```\n",
    "\n",
    "and then make use of the following features.\n",
    "\n",
    "\n",
    "This chapter provides an implementation of a symbolic fuzzing engine `AdvancedSymbolicFuzzer`. The fuzzer uses symbolic execution to exhaustively explore paths in the program to a limited depth, and generate inputs that will reach these paths. Given a program to explore (`gcd` here), the fuzzer can be used as follows:\n",
    "\n",
    "```python\n",
    ">>> gcd_fuzzer = AdvancedSymbolicFuzzer(gcd, max_tries=10, max_iter=10, max_depth=10)\n",
    ">>> for i in range(10):\n",
    ">>>     r = gcd_fuzzer.fuzz()\n",
    ">>>     print(r)\n",
    "{'a': 7, 'b': 5}\n",
    "{'a': -1, 'b': 0}\n",
    "{'a': 2, 'b': 7}\n",
    "{'a': 7, 'b': 6}\n",
    "{'a': 3, 'b': 5}\n",
    "{'a': 0, 'b': -1}\n",
    "{'a': 15, 'b': 8}\n",
    "{'a': -2, 'b': 0}\n",
    "{'a': 9533, 'b': -9533}\n",
    "{'a': 12, 'b': 11}\n",
    "\n",
    "```\n"
   ]
  },
  {
   "cell_type": "markdown",
   "metadata": {
    "slideshow": {
     "slide_type": "slide"
    }
   },
   "source": [
    "## Obtaining Path Conditions for Coverage"
   ]
  },
  {
   "cell_type": "markdown",
   "metadata": {
    "slideshow": {
     "slide_type": "subslide"
    }
   },
   "source": [
    "In the chapter on [parsing and recombining inputs](SearchBasedFuzzer.ipynb), we saw how difficult it was to generate inputs for `process_vehicle()` -- a simple function that accepts a string. The solution given there was to rely on preexisting sample inputs. However, this solution is inadequate as it assumes the existence of sample inputs. What if there are no sample inputs at hand?\n",
    "\n",
    "For a simpler example, let us consider the following function. Can we generate inputs to cover all the paths?\n",
    "\n",
    "*Note.* We use type annotations to denote the argument types of programs. The [chapter on discovering dynamic invariants](DynamicInvariants.ipynb) will discuss how these types can be inferred automatically."
   ]
  },
  {
   "cell_type": "code",
   "execution_count": 1,
   "metadata": {
    "execution": {
     "iopub.execute_input": "2022-01-02T15:26:08.490060Z",
     "iopub.status.busy": "2022-01-02T15:26:08.488258Z",
     "iopub.status.idle": "2022-01-02T15:26:08.493914Z",
     "shell.execute_reply": "2022-01-02T15:26:08.495476Z"
    },
    "slideshow": {
     "slide_type": "subslide"
    }
   },
   "outputs": [],
   "source": [
    "def check_triangle(a: int, b: int, c: int) -> str:\n",
    "    if a == b:\n",
    "        if a == c:\n",
    "            if b == c:\n",
    "                return \"Equilateral\"\n",
    "            else:\n",
    "                return \"Isosceles\"\n",
    "        else:\n",
    "            return \"Isosceles\"\n",
    "    else:\n",
    "        if b != c:\n",
    "            if a == c:\n",
    "                return \"Isosceles\"\n",
    "            else:\n",
    "                return \"Scalene\"\n",
    "        else:\n",
    "            return \"Isosceles\""
   ]
  },
  {
   "cell_type": "markdown",
   "metadata": {
    "slideshow": {
     "slide_type": "subslide"
    }
   },
   "source": [
    "### The Control Flow Graph"
   ]
  },
  {
   "cell_type": "markdown",
   "metadata": {
    "slideshow": {
     "slide_type": "fragment"
    }
   },
   "source": [
    "The control flow graph of this function can be represented as follows:"
   ]
  },
  {
   "cell_type": "code",
   "execution_count": 2,
   "metadata": {
    "execution": {
     "iopub.execute_input": "2022-01-02T15:26:08.503608Z",
     "iopub.status.busy": "2022-01-02T15:26:08.502499Z",
     "iopub.status.idle": "2022-01-02T15:26:08.631737Z",
     "shell.execute_reply": "2022-01-02T15:26:08.632198Z"
    },
    "slideshow": {
     "slide_type": "skip"
    }
   },
   "outputs": [],
   "source": [
    "import bookutils"
   ]
  },
  {
   "cell_type": "code",
   "execution_count": 3,
   "metadata": {
    "execution": {
     "iopub.execute_input": "2022-01-02T15:26:08.637218Z",
     "iopub.status.busy": "2022-01-02T15:26:08.636266Z",
     "iopub.status.idle": "2022-01-02T15:26:08.638865Z",
     "shell.execute_reply": "2022-01-02T15:26:08.639333Z"
    },
    "slideshow": {
     "slide_type": "skip"
    }
   },
   "outputs": [],
   "source": [
    "import inspect"
   ]
  },
  {
   "cell_type": "code",
   "execution_count": 4,
   "metadata": {
    "execution": {
     "iopub.execute_input": "2022-01-02T15:26:08.644742Z",
     "iopub.status.busy": "2022-01-02T15:26:08.643247Z",
     "iopub.status.idle": "2022-01-02T15:26:08.908188Z",
     "shell.execute_reply": "2022-01-02T15:26:08.908772Z"
    },
    "slideshow": {
     "slide_type": "skip"
    }
   },
   "outputs": [],
   "source": [
    "from ControlFlow import PyCFG, to_graph, gen_cfg"
   ]
  },
  {
   "cell_type": "code",
   "execution_count": 5,
   "metadata": {
    "execution": {
     "iopub.execute_input": "2022-01-02T15:26:08.914484Z",
     "iopub.status.busy": "2022-01-02T15:26:08.913607Z",
     "iopub.status.idle": "2022-01-02T15:26:08.915864Z",
     "shell.execute_reply": "2022-01-02T15:26:08.916311Z"
    },
    "slideshow": {
     "slide_type": "fragment"
    }
   },
   "outputs": [],
   "source": [
    "def show_cfg(fn, **kwargs):\n",
    "    return to_graph(gen_cfg(inspect.getsource(fn)), **kwargs)"
   ]
  },
  {
   "cell_type": "code",
   "execution_count": 6,
   "metadata": {
    "execution": {
     "iopub.execute_input": "2022-01-02T15:26:08.931942Z",
     "iopub.status.busy": "2022-01-02T15:26:08.931271Z",
     "iopub.status.idle": "2022-01-02T15:26:09.423933Z",
     "shell.execute_reply": "2022-01-02T15:26:09.424377Z"
    },
    "slideshow": {
     "slide_type": "fragment"
    }
   },
   "outputs": [
    {
     "data": {
      "image/svg+xml": [
       "<?xml version=\"1.0\" encoding=\"UTF-8\" standalone=\"no\"?>\n",
       "<!DOCTYPE svg PUBLIC \"-//W3C//DTD SVG 1.1//EN\"\n",
       " \"http://www.w3.org/Graphics/SVG/1.1/DTD/svg11.dtd\">\n",
       "<!-- Generated by graphviz version 2.49.3 (20211023.0002)\n",
       " -->\n",
       "<!-- Pages: 1 -->\n",
       "<svg width=\"693pt\" height=\"488pt\"\n",
       " viewBox=\"0.00 0.00 693.00 488.00\" xmlns=\"http://www.w3.org/2000/svg\" xmlns:xlink=\"http://www.w3.org/1999/xlink\">\n",
       "<g id=\"graph0\" class=\"graph\" transform=\"scale(1 1) rotate(0) translate(4 484)\">\n",
       "<polygon fill=\"white\" stroke=\"transparent\" points=\"-4,4 -4,-484 689,-484 689,4 -4,4\"/>\n",
       "<!-- 1 -->\n",
       "<g id=\"node1\" class=\"node\">\n",
       "<title>1</title>\n",
       "<ellipse fill=\"none\" stroke=\"black\" cx=\"266.5\" cy=\"-458\" rx=\"124.27\" ry=\"18\"/>\n",
       "<ellipse fill=\"none\" stroke=\"black\" cx=\"266.5\" cy=\"-458\" rx=\"128.28\" ry=\"22\"/>\n",
       "<text text-anchor=\"middle\" x=\"266.5\" y=\"-454.3\" font-family=\"Times,serif\" font-size=\"14.00\">1: enter: check_triangle(a, b, c)</text>\n",
       "</g>\n",
       "<!-- 3 -->\n",
       "<g id=\"node9\" class=\"node\">\n",
       "<title>3</title>\n",
       "<polygon fill=\"none\" stroke=\"black\" points=\"266.5,-399 190.42,-381 266.5,-363 342.58,-381 266.5,-399\"/>\n",
       "<text text-anchor=\"middle\" x=\"266.5\" y=\"-377.3\" font-family=\"Times,serif\" font-size=\"14.00\">2: if: a == b</text>\n",
       "</g>\n",
       "<!-- 1&#45;&gt;3 -->\n",
       "<g id=\"edge7\" class=\"edge\">\n",
       "<title>1&#45;&gt;3</title>\n",
       "<path fill=\"none\" stroke=\"black\" d=\"M266.5,-435.71C266.5,-427.46 266.5,-417.91 266.5,-409.17\"/>\n",
       "<polygon fill=\"black\" stroke=\"black\" points=\"270,-409.06 266.5,-399.06 263,-409.06 270,-409.06\"/>\n",
       "</g>\n",
       "<!-- 2 -->\n",
       "<g id=\"node2\" class=\"node\">\n",
       "<title>2</title>\n",
       "<ellipse fill=\"none\" stroke=\"black\" cx=\"362.5\" cy=\"-22\" rx=\"119.68\" ry=\"18\"/>\n",
       "<ellipse fill=\"none\" stroke=\"black\" cx=\"362.5\" cy=\"-22\" rx=\"123.68\" ry=\"22\"/>\n",
       "<text text-anchor=\"middle\" x=\"362.5\" y=\"-18.3\" font-family=\"Times,serif\" font-size=\"14.00\">1: exit: check_triangle(a, b, c)</text>\n",
       "</g>\n",
       "<!-- 6 -->\n",
       "<g id=\"node3\" class=\"node\">\n",
       "<title>6</title>\n",
       "<polygon fill=\"none\" stroke=\"black\" points=\"215.5,-117 81.5,-117 81.5,-81 215.5,-81 215.5,-117\"/>\n",
       "<text text-anchor=\"middle\" x=\"148.5\" y=\"-95.3\" font-family=\"Times,serif\" font-size=\"14.00\">5: return &#39;Equilateral&#39;</text>\n",
       "</g>\n",
       "<!-- 6&#45;&gt;2 -->\n",
       "<g id=\"edge1\" class=\"edge\">\n",
       "<title>6&#45;&gt;2</title>\n",
       "<path fill=\"none\" stroke=\"black\" d=\"M197.06,-80.98C227.25,-70.4 266.4,-56.68 299.03,-45.24\"/>\n",
       "<polygon fill=\"black\" stroke=\"black\" points=\"300.21,-48.54 308.49,-41.93 297.9,-41.93 300.21,-48.54\"/>\n",
       "</g>\n",
       "<!-- 7 -->\n",
       "<g id=\"node4\" class=\"node\">\n",
       "<title>7</title>\n",
       "<polygon fill=\"none\" stroke=\"black\" points=\"357,-117 234,-117 234,-81 357,-81 357,-117\"/>\n",
       "<text text-anchor=\"middle\" x=\"295.5\" y=\"-95.3\" font-family=\"Times,serif\" font-size=\"14.00\">7: return &#39;Isosceles&#39;</text>\n",
       "</g>\n",
       "<!-- 7&#45;&gt;2 -->\n",
       "<g id=\"edge2\" class=\"edge\">\n",
       "<title>7&#45;&gt;2</title>\n",
       "<path fill=\"none\" stroke=\"black\" d=\"M310.7,-80.98C318.44,-72.32 328.06,-61.55 336.9,-51.66\"/>\n",
       "<polygon fill=\"black\" stroke=\"black\" points=\"339.72,-53.76 343.77,-43.97 334.5,-49.09 339.72,-53.76\"/>\n",
       "</g>\n",
       "<!-- 8 -->\n",
       "<g id=\"node5\" class=\"node\">\n",
       "<title>8</title>\n",
       "<polygon fill=\"none\" stroke=\"black\" points=\"123,-171 0,-171 0,-135 123,-135 123,-171\"/>\n",
       "<text text-anchor=\"middle\" x=\"61.5\" y=\"-149.3\" font-family=\"Times,serif\" font-size=\"14.00\">9: return &#39;Isosceles&#39;</text>\n",
       "</g>\n",
       "<!-- 8&#45;&gt;2 -->\n",
       "<g id=\"edge3\" class=\"edge\">\n",
       "<title>8&#45;&gt;2</title>\n",
       "<path fill=\"none\" stroke=\"black\" d=\"M59.09,-134.7C57.89,-118.65 58.96,-95.15 72.5,-81 96.1,-56.34 173.42,-41.65 242.28,-33.23\"/>\n",
       "<polygon fill=\"black\" stroke=\"black\" points=\"242.86,-36.68 252.37,-32.03 242.03,-29.73 242.86,-36.68\"/>\n",
       "</g>\n",
       "<!-- 11 -->\n",
       "<g id=\"node6\" class=\"node\">\n",
       "<title>11</title>\n",
       "<polygon fill=\"none\" stroke=\"black\" points=\"543.5,-117 413.5,-117 413.5,-81 543.5,-81 543.5,-117\"/>\n",
       "<text text-anchor=\"middle\" x=\"478.5\" y=\"-95.3\" font-family=\"Times,serif\" font-size=\"14.00\">13: return &#39;Isosceles&#39;</text>\n",
       "</g>\n",
       "<!-- 11&#45;&gt;2 -->\n",
       "<g id=\"edge4\" class=\"edge\">\n",
       "<title>11&#45;&gt;2</title>\n",
       "<path fill=\"none\" stroke=\"black\" d=\"M452.18,-80.98C437.63,-71.57 419.24,-59.68 402.9,-49.12\"/>\n",
       "<polygon fill=\"black\" stroke=\"black\" points=\"404.38,-45.91 394.08,-43.42 400.58,-51.79 404.38,-45.91\"/>\n",
       "</g>\n",
       "<!-- 12 -->\n",
       "<g id=\"node7\" class=\"node\">\n",
       "<title>12</title>\n",
       "<polygon fill=\"none\" stroke=\"black\" points=\"685,-117 562,-117 562,-81 685,-81 685,-117\"/>\n",
       "<text text-anchor=\"middle\" x=\"623.5\" y=\"-95.3\" font-family=\"Times,serif\" font-size=\"14.00\">15: return &#39;Scalene&#39;</text>\n",
       "</g>\n",
       "<!-- 12&#45;&gt;2 -->\n",
       "<g id=\"edge5\" class=\"edge\">\n",
       "<title>12&#45;&gt;2</title>\n",
       "<path fill=\"none\" stroke=\"black\" d=\"M564.28,-80.98C525.84,-69.94 475.52,-55.48 434.74,-43.76\"/>\n",
       "<polygon fill=\"black\" stroke=\"black\" points=\"435.71,-40.4 425.13,-41 433.77,-47.12 435.71,-40.4\"/>\n",
       "</g>\n",
       "<!-- 13 -->\n",
       "<g id=\"node8\" class=\"node\">\n",
       "<title>13</title>\n",
       "<polygon fill=\"none\" stroke=\"black\" points=\"444.5,-171 314.5,-171 314.5,-135 444.5,-135 444.5,-171\"/>\n",
       "<text text-anchor=\"middle\" x=\"379.5\" y=\"-149.3\" font-family=\"Times,serif\" font-size=\"14.00\">17: return &#39;Isosceles&#39;</text>\n",
       "</g>\n",
       "<!-- 13&#45;&gt;2 -->\n",
       "<g id=\"edge6\" class=\"edge\">\n",
       "<title>13&#45;&gt;2</title>\n",
       "<path fill=\"none\" stroke=\"black\" d=\"M377.24,-134.87C374.54,-114.36 369.96,-79.61 366.62,-54.27\"/>\n",
       "<polygon fill=\"black\" stroke=\"black\" points=\"370.05,-53.51 365.27,-44.06 363.11,-54.43 370.05,-53.51\"/>\n",
       "</g>\n",
       "<!-- 4 -->\n",
       "<g id=\"node10\" class=\"node\">\n",
       "<title>4</title>\n",
       "<polygon fill=\"none\" stroke=\"black\" points=\"180.5,-312 105.26,-294 180.5,-276 255.74,-294 180.5,-312\"/>\n",
       "<text text-anchor=\"middle\" x=\"180.5\" y=\"-290.3\" font-family=\"Times,serif\" font-size=\"14.00\">3: if: a == c</text>\n",
       "</g>\n",
       "<!-- 3&#45;&gt;4 -->\n",
       "<g id=\"edge8\" class=\"edge\">\n",
       "<title>3&#45;&gt;4</title>\n",
       "<path fill=\"none\" stroke=\"blue\" d=\"M252.3,-365.96C238.52,-352.35 217.45,-331.52 201.69,-315.94\"/>\n",
       "<polygon fill=\"blue\" stroke=\"blue\" points=\"204.01,-313.32 194.44,-308.77 199.09,-318.29 204.01,-313.32\"/>\n",
       "<text text-anchor=\"middle\" x=\"234\" y=\"-333.8\" font-family=\"Times,serif\" font-size=\"14.00\">T</text>\n",
       "</g>\n",
       "<!-- 9 -->\n",
       "<g id=\"node12\" class=\"node\">\n",
       "<title>9</title>\n",
       "<polygon fill=\"none\" stroke=\"black\" points=\"377.5,-312 298.4,-294 377.5,-276 456.6,-294 377.5,-312\"/>\n",
       "<text text-anchor=\"middle\" x=\"377.5\" y=\"-290.3\" font-family=\"Times,serif\" font-size=\"14.00\">11: if: b != c</text>\n",
       "</g>\n",
       "<!-- 3&#45;&gt;9 -->\n",
       "<g id=\"edge13\" class=\"edge\">\n",
       "<title>3&#45;&gt;9</title>\n",
       "<path fill=\"none\" stroke=\"red\" d=\"M283.84,-366.72C302.17,-352.68 331.26,-330.41 352.16,-314.41\"/>\n",
       "<polygon fill=\"red\" stroke=\"red\" points=\"354.47,-317.05 360.28,-308.19 350.21,-311.49 354.47,-317.05\"/>\n",
       "<text text-anchor=\"middle\" x=\"332.5\" y=\"-333.8\" font-family=\"Times,serif\" font-size=\"14.00\">F</text>\n",
       "</g>\n",
       "<!-- 4&#45;&gt;8 -->\n",
       "<g id=\"edge12\" class=\"edge\">\n",
       "<title>4&#45;&gt;8</title>\n",
       "<path fill=\"none\" stroke=\"red\" d=\"M160.48,-280.78C141.74,-268.54 113.96,-248.23 95.5,-225 85.03,-211.83 76.77,-194.9 71.01,-180.88\"/>\n",
       "<polygon fill=\"red\" stroke=\"red\" points=\"74.16,-179.32 67.27,-171.28 67.64,-181.87 74.16,-179.32\"/>\n",
       "<text text-anchor=\"middle\" x=\"133.5\" y=\"-246.8\" font-family=\"Times,serif\" font-size=\"14.00\">F</text>\n",
       "</g>\n",
       "<!-- 5 -->\n",
       "<g id=\"node11\" class=\"node\">\n",
       "<title>5</title>\n",
       "<polygon fill=\"none\" stroke=\"black\" points=\"180.5,-225 104.42,-207 180.5,-189 256.58,-207 180.5,-225\"/>\n",
       "<text text-anchor=\"middle\" x=\"180.5\" y=\"-203.3\" font-family=\"Times,serif\" font-size=\"14.00\">4: if: b == c</text>\n",
       "</g>\n",
       "<!-- 4&#45;&gt;5 -->\n",
       "<g id=\"edge9\" class=\"edge\">\n",
       "<title>4&#45;&gt;5</title>\n",
       "<path fill=\"none\" stroke=\"blue\" d=\"M180.5,-275.8C180.5,-264.16 180.5,-248.55 180.5,-235.24\"/>\n",
       "<polygon fill=\"blue\" stroke=\"blue\" points=\"184,-235.18 180.5,-225.18 177,-235.18 184,-235.18\"/>\n",
       "<text text-anchor=\"middle\" x=\"185\" y=\"-246.8\" font-family=\"Times,serif\" font-size=\"14.00\">T</text>\n",
       "</g>\n",
       "<!-- 5&#45;&gt;6 -->\n",
       "<g id=\"edge10\" class=\"edge\">\n",
       "<title>5&#45;&gt;6</title>\n",
       "<path fill=\"none\" stroke=\"blue\" d=\"M175.64,-189.9C170.61,-173.23 162.66,-146.89 156.66,-127.02\"/>\n",
       "<polygon fill=\"blue\" stroke=\"blue\" points=\"159.97,-125.87 153.73,-117.31 153.26,-127.89 159.97,-125.87\"/>\n",
       "<text text-anchor=\"middle\" x=\"174\" y=\"-149.3\" font-family=\"Times,serif\" font-size=\"14.00\">T</text>\n",
       "</g>\n",
       "<!-- 5&#45;&gt;7 -->\n",
       "<g id=\"edge11\" class=\"edge\">\n",
       "<title>5&#45;&gt;7</title>\n",
       "<path fill=\"none\" stroke=\"red\" d=\"M195.53,-192.14C214.27,-174.87 246.59,-145.08 269.41,-124.05\"/>\n",
       "<polygon fill=\"red\" stroke=\"red\" points=\"272.06,-126.37 277.04,-117.02 267.31,-121.22 272.06,-126.37\"/>\n",
       "<text text-anchor=\"middle\" x=\"259.5\" y=\"-149.3\" font-family=\"Times,serif\" font-size=\"14.00\">F</text>\n",
       "</g>\n",
       "<!-- 9&#45;&gt;13 -->\n",
       "<g id=\"edge17\" class=\"edge\">\n",
       "<title>9&#45;&gt;13</title>\n",
       "<path fill=\"none\" stroke=\"red\" d=\"M377.75,-275.96C378.08,-252.4 378.7,-209.64 379.1,-181.53\"/>\n",
       "<polygon fill=\"red\" stroke=\"red\" points=\"382.61,-181.23 379.25,-171.18 375.61,-181.13 382.61,-181.23\"/>\n",
       "<text text-anchor=\"middle\" x=\"381.5\" y=\"-246.8\" font-family=\"Times,serif\" font-size=\"14.00\">F</text>\n",
       "</g>\n",
       "<!-- 10 -->\n",
       "<g id=\"node13\" class=\"node\">\n",
       "<title>10</title>\n",
       "<polygon fill=\"none\" stroke=\"black\" points=\"487.5,-225 405.89,-207 487.5,-189 569.11,-207 487.5,-225\"/>\n",
       "<text text-anchor=\"middle\" x=\"487.5\" y=\"-203.3\" font-family=\"Times,serif\" font-size=\"14.00\">12: if: a == c</text>\n",
       "</g>\n",
       "<!-- 9&#45;&gt;10 -->\n",
       "<g id=\"edge14\" class=\"edge\">\n",
       "<title>9&#45;&gt;10</title>\n",
       "<path fill=\"none\" stroke=\"blue\" d=\"M394.69,-279.72C412.74,-265.77 441.34,-243.67 462.02,-227.69\"/>\n",
       "<polygon fill=\"blue\" stroke=\"blue\" points=\"464.3,-230.35 470.07,-221.47 460.02,-224.81 464.3,-230.35\"/>\n",
       "<text text-anchor=\"middle\" x=\"443\" y=\"-246.8\" font-family=\"Times,serif\" font-size=\"14.00\">T</text>\n",
       "</g>\n",
       "<!-- 10&#45;&gt;11 -->\n",
       "<g id=\"edge15\" class=\"edge\">\n",
       "<title>10&#45;&gt;11</title>\n",
       "<path fill=\"none\" stroke=\"blue\" d=\"M486.05,-188.97C484.65,-172.38 482.48,-146.88 480.83,-127.43\"/>\n",
       "<polygon fill=\"blue\" stroke=\"blue\" points=\"484.31,-127.01 479.97,-117.34 477.33,-127.6 484.31,-127.01\"/>\n",
       "<text text-anchor=\"middle\" x=\"488\" y=\"-149.3\" font-family=\"Times,serif\" font-size=\"14.00\">T</text>\n",
       "</g>\n",
       "<!-- 10&#45;&gt;12 -->\n",
       "<g id=\"edge16\" class=\"edge\">\n",
       "<title>10&#45;&gt;12</title>\n",
       "<path fill=\"none\" stroke=\"red\" d=\"M504.72,-192.58C527.01,-175.21 566.19,-144.67 593.43,-123.44\"/>\n",
       "<polygon fill=\"red\" stroke=\"red\" points=\"595.73,-126.08 601.47,-117.17 591.43,-120.56 595.73,-126.08\"/>\n",
       "<text text-anchor=\"middle\" x=\"579.5\" y=\"-149.3\" font-family=\"Times,serif\" font-size=\"14.00\">F</text>\n",
       "</g>\n",
       "</g>\n",
       "</svg>\n"
      ],
      "text/plain": [
       "<graphviz.dot.Digraph at 0x10676c4f0>"
      ]
     },
     "execution_count": 6,
     "metadata": {},
     "output_type": "execute_result"
    }
   ],
   "source": [
    "show_cfg(check_triangle)"
   ]
  },
  {
   "cell_type": "markdown",
   "metadata": {
    "slideshow": {
     "slide_type": "fragment"
    }
   },
   "source": [
    "The possible execution paths traced by the program can be represented as follows, with the numbers indicating the specific line numbers executed."
   ]
  },
  {
   "cell_type": "code",
   "execution_count": 7,
   "metadata": {
    "execution": {
     "iopub.execute_input": "2022-01-02T15:26:09.433609Z",
     "iopub.status.busy": "2022-01-02T15:26:09.432267Z",
     "iopub.status.idle": "2022-01-02T15:26:09.435051Z",
     "shell.execute_reply": "2022-01-02T15:26:09.435678Z"
    },
    "slideshow": {
     "slide_type": "subslide"
    }
   },
   "outputs": [],
   "source": [
    "paths = {\n",
    "    '<path 1>': ([1, 2, 3, 4, 5], 'Equilateral'),\n",
    "    '<path 2>': ([1, 2, 3, 4, 7], 'Isosceles'),\n",
    "    '<path 3>': ([1, 2, 3, 9], 'Isosceles'),\n",
    "    '<path 4>': ([1, 2, 11, 12, 13], 'Isosceles'),\n",
    "    '<path 5>': ([1, 2, 11, 12, 15], 'Scalene'),\n",
    "    '<path 6>': ([1, 2, 11, 17], 'Isosceles'),\n",
    "}"
   ]
  },
  {
   "cell_type": "markdown",
   "metadata": {
    "slideshow": {
     "slide_type": "fragment"
    }
   },
   "source": [
    "Consider the `<path 1>`. To trace this path, we need to execute the following statements in order."
   ]
  },
  {
   "cell_type": "markdown",
   "metadata": {
    "slideshow": {
     "slide_type": "subslide"
    }
   },
   "source": [
    "```python\n",
    "1: check_triangle(a, b, c)\n",
    "2: if (a == b) -> True\n",
    "3: if (a == c) -> True\n",
    "4: if (b == c) -> True\n",
    "5: return 'Equilateral'\n",
    "```"
   ]
  },
  {
   "cell_type": "markdown",
   "metadata": {
    "slideshow": {
     "slide_type": "fragment"
    }
   },
   "source": [
    "That is, any execution that traces this path has to start with values for `a`, `b`, and `c` that obeys the constraints in line numbers `2: (a == b)` evaluates to `True`, `3: (a == c)` evaluates to `True`, and `4: (b == c)` evaluates to `True`. Can we generate inputs such that these constraints are satisfied?"
   ]
  },
  {
   "cell_type": "markdown",
   "metadata": {
    "slideshow": {
     "slide_type": "fragment"
    }
   },
   "source": [
    "We have seen from the [chapter on concolic fuzzing](ConcolicFuzzer.ipynb) how one can use an SMT solver such as Z3 to obtain a solution."
   ]
  },
  {
   "cell_type": "code",
   "execution_count": 8,
   "metadata": {
    "execution": {
     "iopub.execute_input": "2022-01-02T15:26:09.441518Z",
     "iopub.status.busy": "2022-01-02T15:26:09.440227Z",
     "iopub.status.idle": "2022-01-02T15:26:09.501543Z",
     "shell.execute_reply": "2022-01-02T15:26:09.502457Z"
    },
    "slideshow": {
     "slide_type": "skip"
    }
   },
   "outputs": [],
   "source": [
    "import z3  # type: ignore"
   ]
  },
  {
   "cell_type": "code",
   "execution_count": 9,
   "metadata": {
    "execution": {
     "iopub.execute_input": "2022-01-02T15:26:09.507982Z",
     "iopub.status.busy": "2022-01-02T15:26:09.507362Z",
     "iopub.status.idle": "2022-01-02T15:26:09.509304Z",
     "shell.execute_reply": "2022-01-02T15:26:09.509942Z"
    },
    "slideshow": {
     "slide_type": "subslide"
    }
   },
   "outputs": [],
   "source": [
    "assert z3.get_version() >= (4, 8, 6, 0), \"Please check z3 version\"\n",
    "assert z3.get_version() <= (4, 8, 9, 0), \"Please check z3 version\""
   ]
  },
  {
   "cell_type": "markdown",
   "metadata": {
    "slideshow": {
     "slide_type": "fragment"
    }
   },
   "source": [
    "What kind of symbolic variables do we need? We can obtain that information from the type annotations of the function."
   ]
  },
  {
   "cell_type": "code",
   "execution_count": 10,
   "metadata": {
    "execution": {
     "iopub.execute_input": "2022-01-02T15:26:09.514719Z",
     "iopub.status.busy": "2022-01-02T15:26:09.513991Z",
     "iopub.status.idle": "2022-01-02T15:26:09.516235Z",
     "shell.execute_reply": "2022-01-02T15:26:09.516758Z"
    },
    "slideshow": {
     "slide_type": "fragment"
    }
   },
   "outputs": [],
   "source": [
    "def get_annotations(fn):\n",
    "    sig = inspect.signature(fn)\n",
    "    return ([(i.name, i.annotation)\n",
    "             for i in sig.parameters.values()], sig.return_annotation)"
   ]
  },
  {
   "cell_type": "code",
   "execution_count": 11,
   "metadata": {
    "execution": {
     "iopub.execute_input": "2022-01-02T15:26:09.521470Z",
     "iopub.status.busy": "2022-01-02T15:26:09.520807Z",
     "iopub.status.idle": "2022-01-02T15:26:09.523419Z",
     "shell.execute_reply": "2022-01-02T15:26:09.523835Z"
    },
    "slideshow": {
     "slide_type": "fragment"
    }
   },
   "outputs": [
    {
     "data": {
      "text/plain": [
       "([('a', int), ('b', int), ('c', int)], str)"
      ]
     },
     "execution_count": 11,
     "metadata": {},
     "output_type": "execute_result"
    }
   ],
   "source": [
    "params, ret = get_annotations(check_triangle)\n",
    "params, ret"
   ]
  },
  {
   "cell_type": "markdown",
   "metadata": {
    "slideshow": {
     "slide_type": "fragment"
    }
   },
   "source": [
    "We create symbolic variables to represent each of the parameters"
   ]
  },
  {
   "cell_type": "code",
   "execution_count": 12,
   "metadata": {
    "execution": {
     "iopub.execute_input": "2022-01-02T15:26:09.527787Z",
     "iopub.status.busy": "2022-01-02T15:26:09.527168Z",
     "iopub.status.idle": "2022-01-02T15:26:09.528859Z",
     "shell.execute_reply": "2022-01-02T15:26:09.529266Z"
    },
    "slideshow": {
     "slide_type": "subslide"
    }
   },
   "outputs": [],
   "source": [
    "SYM_VARS = {\n",
    "    int: (\n",
    "        z3.Int, z3.IntVal), float: (\n",
    "            z3.Real, z3.RealVal), str: (\n",
    "                z3.String, z3.StringVal)}"
   ]
  },
  {
   "cell_type": "code",
   "execution_count": 13,
   "metadata": {
    "execution": {
     "iopub.execute_input": "2022-01-02T15:26:09.533447Z",
     "iopub.status.busy": "2022-01-02T15:26:09.532782Z",
     "iopub.status.idle": "2022-01-02T15:26:09.534594Z",
     "shell.execute_reply": "2022-01-02T15:26:09.535016Z"
    },
    "slideshow": {
     "slide_type": "fragment"
    }
   },
   "outputs": [],
   "source": [
    "def get_symbolicparams(fn):\n",
    "    params, ret = get_annotations(fn)\n",
    "    return [SYM_VARS[typ][0](name)\n",
    "            for name, typ in params], SYM_VARS[ret][0]('__return__')"
   ]
  },
  {
   "cell_type": "code",
   "execution_count": 14,
   "metadata": {
    "execution": {
     "iopub.execute_input": "2022-01-02T15:26:09.539166Z",
     "iopub.status.busy": "2022-01-02T15:26:09.538257Z",
     "iopub.status.idle": "2022-01-02T15:26:09.545738Z",
     "shell.execute_reply": "2022-01-02T15:26:09.546609Z"
    },
    "slideshow": {
     "slide_type": "fragment"
    }
   },
   "outputs": [
    {
     "data": {
      "text/plain": [
       "(a, b, c, __return__)"
      ]
     },
     "execution_count": 14,
     "metadata": {},
     "output_type": "execute_result"
    }
   ],
   "source": [
    "(a, b, c), r = get_symbolicparams(check_triangle)\n",
    "a, b, c, r"
   ]
  },
  {
   "cell_type": "markdown",
   "metadata": {
    "slideshow": {
     "slide_type": "fragment"
    }
   },
   "source": [
    "We can now ask *z3* to solve the set of equations for us as follows."
   ]
  },
  {
   "cell_type": "code",
   "execution_count": 15,
   "metadata": {
    "execution": {
     "iopub.execute_input": "2022-01-02T15:26:09.553587Z",
     "iopub.status.busy": "2022-01-02T15:26:09.552577Z",
     "iopub.status.idle": "2022-01-02T15:26:09.574948Z",
     "shell.execute_reply": "2022-01-02T15:26:09.575567Z"
    },
    "slideshow": {
     "slide_type": "subslide"
    }
   },
   "outputs": [
    {
     "name": "stdout",
     "output_type": "stream",
     "text": [
      "[a = 0, b = 0, c = 0]\n"
     ]
    }
   ],
   "source": [
    "z3.solve(a == b, a == c, b == c)"
   ]
  },
  {
   "cell_type": "markdown",
   "metadata": {
    "slideshow": {
     "slide_type": "fragment"
    }
   },
   "source": [
    "Here we find the first problem in our program. Our program seems to not check whether the sides are greater than zero. Assume for now that we do not have that restriction. Does our program correctly follow the path described?\n",
    "\n",
    "We can use the `ArcCoverage` from the [chapter on concolic fuzzing](ConcolicFuzzer.ipynb) as a tracer to visualize that information as below."
   ]
  },
  {
   "cell_type": "code",
   "execution_count": 16,
   "metadata": {
    "execution": {
     "iopub.execute_input": "2022-01-02T15:26:09.580507Z",
     "iopub.status.busy": "2022-01-02T15:26:09.579811Z",
     "iopub.status.idle": "2022-01-02T15:26:15.381703Z",
     "shell.execute_reply": "2022-01-02T15:26:15.382104Z"
    },
    "slideshow": {
     "slide_type": "skip"
    }
   },
   "outputs": [],
   "source": [
    "from ConcolicFuzzer import ArcCoverage  # minor dependency"
   ]
  },
  {
   "cell_type": "markdown",
   "metadata": {
    "slideshow": {
     "slide_type": "fragment"
    }
   },
   "source": [
    "First, we recover the trace."
   ]
  },
  {
   "cell_type": "code",
   "execution_count": 17,
   "metadata": {
    "execution": {
     "iopub.execute_input": "2022-01-02T15:26:15.386382Z",
     "iopub.status.busy": "2022-01-02T15:26:15.385572Z",
     "iopub.status.idle": "2022-01-02T15:26:15.594623Z",
     "shell.execute_reply": "2022-01-02T15:26:15.595018Z"
    },
    "slideshow": {
     "slide_type": "subslide"
    }
   },
   "outputs": [
    {
     "data": {
      "text/plain": [
       "([('check_triangle', 1),\n",
       "  ('check_triangle', 2),\n",
       "  ('check_triangle', 3),\n",
       "  ('check_triangle', 4),\n",
       "  ('check_triangle', 5),\n",
       "  ('__exit__', 101),\n",
       "  ('__exit__', 104)],\n",
       " [(1, 2), (2, 3), (3, 4), (4, 5), (5, 101), (101, 104)])"
      ]
     },
     "execution_count": 17,
     "metadata": {},
     "output_type": "execute_result"
    }
   ],
   "source": [
    "with ArcCoverage() as cov:\n",
    "    assert check_triangle(0, 0, 0) == 'Equilateral'\n",
    "cov._trace, cov.arcs()"
   ]
  },
  {
   "cell_type": "markdown",
   "metadata": {
    "slideshow": {
     "slide_type": "fragment"
    }
   },
   "source": [
    "We can now determine the path taken."
   ]
  },
  {
   "cell_type": "markdown",
   "metadata": {
    "slideshow": {
     "slide_type": "subslide"
    }
   },
   "source": [
    "### The CFG with Path Taken"
   ]
  },
  {
   "cell_type": "code",
   "execution_count": 18,
   "metadata": {
    "execution": {
     "iopub.execute_input": "2022-01-02T15:26:15.602522Z",
     "iopub.status.busy": "2022-01-02T15:26:15.601971Z",
     "iopub.status.idle": "2022-01-02T15:26:16.004932Z",
     "shell.execute_reply": "2022-01-02T15:26:16.005394Z"
    },
    "slideshow": {
     "slide_type": "fragment"
    }
   },
   "outputs": [
    {
     "data": {
      "image/svg+xml": [
       "<?xml version=\"1.0\" encoding=\"UTF-8\" standalone=\"no\"?>\n",
       "<!DOCTYPE svg PUBLIC \"-//W3C//DTD SVG 1.1//EN\"\n",
       " \"http://www.w3.org/Graphics/SVG/1.1/DTD/svg11.dtd\">\n",
       "<!-- Generated by graphviz version 2.49.3 (20211023.0002)\n",
       " -->\n",
       "<!-- Pages: 1 -->\n",
       "<svg width=\"699pt\" height=\"420pt\"\n",
       " viewBox=\"0.00 0.00 699.00 420.00\" xmlns=\"http://www.w3.org/2000/svg\" xmlns:xlink=\"http://www.w3.org/1999/xlink\">\n",
       "<g id=\"graph0\" class=\"graph\" transform=\"scale(1 1) rotate(0) translate(4 416)\">\n",
       "<polygon fill=\"white\" stroke=\"transparent\" points=\"-4,4 -4,-416 695,-416 695,4 -4,4\"/>\n",
       "<!-- 1 -->\n",
       "<g id=\"node1\" class=\"node\">\n",
       "<title>1</title>\n",
       "<ellipse fill=\"none\" stroke=\"black\" cx=\"303.5\" cy=\"-390\" rx=\"124.27\" ry=\"18\"/>\n",
       "<ellipse fill=\"none\" stroke=\"black\" cx=\"303.5\" cy=\"-390\" rx=\"128.28\" ry=\"22\"/>\n",
       "<text text-anchor=\"middle\" x=\"303.5\" y=\"-386.3\" font-family=\"Times,serif\" font-size=\"14.00\">1: enter: check_triangle(a, b, c)</text>\n",
       "</g>\n",
       "<!-- 3 -->\n",
       "<g id=\"node9\" class=\"node\">\n",
       "<title>3</title>\n",
       "<polygon fill=\"none\" stroke=\"black\" points=\"303.5,-332 227.42,-314 303.5,-296 379.58,-314 303.5,-332\"/>\n",
       "<text text-anchor=\"middle\" x=\"303.5\" y=\"-310.3\" font-family=\"Times,serif\" font-size=\"14.00\">2: if: a == b</text>\n",
       "</g>\n",
       "<!-- 1&#45;&gt;3 -->\n",
       "<g id=\"edge7\" class=\"edge\">\n",
       "<title>1&#45;&gt;3</title>\n",
       "<path fill=\"none\" stroke=\"green\" d=\"M303.5,-367.99C303.5,-360.06 303.5,-350.91 303.5,-342.48\"/>\n",
       "<polygon fill=\"green\" stroke=\"green\" points=\"307,-342.31 303.5,-332.31 300,-342.31 307,-342.31\"/>\n",
       "</g>\n",
       "<!-- 2 -->\n",
       "<g id=\"node2\" class=\"node\">\n",
       "<title>2</title>\n",
       "<ellipse fill=\"none\" stroke=\"black\" cx=\"346.5\" cy=\"-22\" rx=\"119.68\" ry=\"18\"/>\n",
       "<ellipse fill=\"none\" stroke=\"black\" cx=\"346.5\" cy=\"-22\" rx=\"123.68\" ry=\"22\"/>\n",
       "<text text-anchor=\"middle\" x=\"346.5\" y=\"-18.3\" font-family=\"Times,serif\" font-size=\"14.00\">1: exit: check_triangle(a, b, c)</text>\n",
       "</g>\n",
       "<!-- 6 -->\n",
       "<g id=\"node3\" class=\"node\">\n",
       "<title>6</title>\n",
       "<polygon fill=\"none\" stroke=\"black\" points=\"221.5,-116 87.5,-116 87.5,-80 221.5,-80 221.5,-116\"/>\n",
       "<text text-anchor=\"middle\" x=\"154.5\" y=\"-94.3\" font-family=\"Times,serif\" font-size=\"14.00\">5: return &#39;Equilateral&#39;</text>\n",
       "</g>\n",
       "<!-- 6&#45;&gt;2 -->\n",
       "<g id=\"edge1\" class=\"edge\">\n",
       "<title>6&#45;&gt;2</title>\n",
       "<path fill=\"none\" stroke=\"green\" d=\"M199.03,-79.84C225.31,-69.71 258.89,-56.77 287.36,-45.79\"/>\n",
       "<polygon fill=\"green\" stroke=\"green\" points=\"288.73,-49.02 296.81,-42.15 286.22,-42.48 288.73,-49.02\"/>\n",
       "</g>\n",
       "<!-- 7 -->\n",
       "<g id=\"node4\" class=\"node\">\n",
       "<title>7</title>\n",
       "<polygon fill=\"none\" stroke=\"black\" points=\"363,-116 240,-116 240,-80 363,-80 363,-116\"/>\n",
       "<text text-anchor=\"middle\" x=\"301.5\" y=\"-94.3\" font-family=\"Times,serif\" font-size=\"14.00\">7: return &#39;Isosceles&#39;</text>\n",
       "</g>\n",
       "<!-- 7&#45;&gt;2 -->\n",
       "<g id=\"edge2\" class=\"edge\">\n",
       "<title>7&#45;&gt;2</title>\n",
       "<path fill=\"none\" stroke=\"red\" d=\"M311.94,-79.84C316.86,-71.75 322.87,-61.86 328.49,-52.62\"/>\n",
       "<polygon fill=\"red\" stroke=\"red\" points=\"331.5,-54.39 333.71,-44.03 325.52,-50.76 331.5,-54.39\"/>\n",
       "</g>\n",
       "<!-- 8 -->\n",
       "<g id=\"node5\" class=\"node\">\n",
       "<title>8</title>\n",
       "<polygon fill=\"none\" stroke=\"black\" points=\"123,-188 0,-188 0,-152 123,-152 123,-188\"/>\n",
       "<text text-anchor=\"middle\" x=\"61.5\" y=\"-166.3\" font-family=\"Times,serif\" font-size=\"14.00\">9: return &#39;Isosceles&#39;</text>\n",
       "</g>\n",
       "<!-- 8&#45;&gt;2 -->\n",
       "<g id=\"edge3\" class=\"edge\">\n",
       "<title>8&#45;&gt;2</title>\n",
       "<path fill=\"none\" stroke=\"red\" d=\"M59.61,-151.73C58.45,-131.7 59.9,-98.99 78.5,-80 100.06,-57.98 168.45,-43.65 230.74,-34.87\"/>\n",
       "<polygon fill=\"red\" stroke=\"red\" points=\"231.25,-38.33 240.68,-33.5 230.29,-31.39 231.25,-38.33\"/>\n",
       "</g>\n",
       "<!-- 11 -->\n",
       "<g id=\"node6\" class=\"node\">\n",
       "<title>11</title>\n",
       "<polygon fill=\"none\" stroke=\"black\" points=\"549.5,-116 419.5,-116 419.5,-80 549.5,-80 549.5,-116\"/>\n",
       "<text text-anchor=\"middle\" x=\"484.5\" y=\"-94.3\" font-family=\"Times,serif\" font-size=\"14.00\">13: return &#39;Isosceles&#39;</text>\n",
       "</g>\n",
       "<!-- 11&#45;&gt;2 -->\n",
       "<g id=\"edge4\" class=\"edge\">\n",
       "<title>11&#45;&gt;2</title>\n",
       "<path fill=\"none\" stroke=\"red\" d=\"M452.49,-79.84C434.9,-70.4 412.74,-58.52 393.24,-48.07\"/>\n",
       "<polygon fill=\"red\" stroke=\"red\" points=\"394.68,-44.86 384.21,-43.22 391.37,-51.03 394.68,-44.86\"/>\n",
       "</g>\n",
       "<!-- 12 -->\n",
       "<g id=\"node7\" class=\"node\">\n",
       "<title>12</title>\n",
       "<polygon fill=\"none\" stroke=\"black\" points=\"691,-116 568,-116 568,-80 691,-80 691,-116\"/>\n",
       "<text text-anchor=\"middle\" x=\"629.5\" y=\"-94.3\" font-family=\"Times,serif\" font-size=\"14.00\">15: return &#39;Scalene&#39;</text>\n",
       "</g>\n",
       "<!-- 12&#45;&gt;2 -->\n",
       "<g id=\"edge5\" class=\"edge\">\n",
       "<title>12&#45;&gt;2</title>\n",
       "<path fill=\"none\" stroke=\"red\" d=\"M567.74,-80.85C525.32,-69.76 468.69,-54.95 423.35,-43.1\"/>\n",
       "<polygon fill=\"red\" stroke=\"red\" points=\"424.12,-39.68 413.56,-40.54 422.35,-46.45 424.12,-39.68\"/>\n",
       "</g>\n",
       "<!-- 13 -->\n",
       "<g id=\"node8\" class=\"node\">\n",
       "<title>13</title>\n",
       "<polygon fill=\"none\" stroke=\"black\" points=\"455.5,-188 325.5,-188 325.5,-152 455.5,-152 455.5,-188\"/>\n",
       "<text text-anchor=\"middle\" x=\"390.5\" y=\"-166.3\" font-family=\"Times,serif\" font-size=\"14.00\">17: return &#39;Isosceles&#39;</text>\n",
       "</g>\n",
       "<!-- 13&#45;&gt;2 -->\n",
       "<g id=\"edge6\" class=\"edge\">\n",
       "<title>13&#45;&gt;2</title>\n",
       "<path fill=\"none\" stroke=\"red\" d=\"M387.87,-151.67C384.88,-133.53 379.35,-104.36 371.5,-80 368.63,-71.11 364.85,-61.72 361.1,-53.19\"/>\n",
       "<polygon fill=\"red\" stroke=\"red\" points=\"364.24,-51.65 356.93,-43.99 357.87,-54.54 364.24,-51.65\"/>\n",
       "</g>\n",
       "<!-- 4 -->\n",
       "<g id=\"node10\" class=\"node\">\n",
       "<title>4</title>\n",
       "<polygon fill=\"none\" stroke=\"black\" points=\"217.5,-260 142.26,-242 217.5,-224 292.74,-242 217.5,-260\"/>\n",
       "<text text-anchor=\"middle\" x=\"217.5\" y=\"-238.3\" font-family=\"Times,serif\" font-size=\"14.00\">3: if: a == c</text>\n",
       "</g>\n",
       "<!-- 3&#45;&gt;4 -->\n",
       "<g id=\"edge8\" class=\"edge\">\n",
       "<title>3&#45;&gt;4</title>\n",
       "<path fill=\"none\" stroke=\"green\" d=\"M286.92,-299.5C274.11,-289.08 256.19,-274.49 241.76,-262.75\"/>\n",
       "<polygon fill=\"green\" stroke=\"green\" points=\"243.7,-259.82 233.74,-256.22 239.29,-265.25 243.7,-259.82\"/>\n",
       "</g>\n",
       "<!-- 9 -->\n",
       "<g id=\"node12\" class=\"node\">\n",
       "<title>9</title>\n",
       "<polygon fill=\"none\" stroke=\"black\" points=\"390.5,-260 311.4,-242 390.5,-224 469.6,-242 390.5,-260\"/>\n",
       "<text text-anchor=\"middle\" x=\"390.5\" y=\"-238.3\" font-family=\"Times,serif\" font-size=\"14.00\">11: if: b != c</text>\n",
       "</g>\n",
       "<!-- 3&#45;&gt;9 -->\n",
       "<g id=\"edge13\" class=\"edge\">\n",
       "<title>3&#45;&gt;9</title>\n",
       "<path fill=\"none\" stroke=\"red\" d=\"M319.86,-299.83C332.78,-289.44 351.02,-274.76 365.73,-262.93\"/>\n",
       "<polygon fill=\"red\" stroke=\"red\" points=\"368.32,-265.34 373.91,-256.35 363.93,-259.89 368.32,-265.34\"/>\n",
       "</g>\n",
       "<!-- 4&#45;&gt;8 -->\n",
       "<g id=\"edge12\" class=\"edge\">\n",
       "<title>4&#45;&gt;8</title>\n",
       "<path fill=\"none\" stroke=\"red\" d=\"M192.78,-229.91C170.24,-219.79 136.33,-204.58 108.62,-192.15\"/>\n",
       "<polygon fill=\"red\" stroke=\"red\" points=\"110.05,-188.95 99.49,-188.05 107.18,-195.33 110.05,-188.95\"/>\n",
       "</g>\n",
       "<!-- 5 -->\n",
       "<g id=\"node11\" class=\"node\">\n",
       "<title>5</title>\n",
       "<polygon fill=\"none\" stroke=\"black\" points=\"217.5,-188 141.42,-170 217.5,-152 293.58,-170 217.5,-188\"/>\n",
       "<text text-anchor=\"middle\" x=\"217.5\" y=\"-166.3\" font-family=\"Times,serif\" font-size=\"14.00\">4: if: b == c</text>\n",
       "</g>\n",
       "<!-- 4&#45;&gt;5 -->\n",
       "<g id=\"edge9\" class=\"edge\">\n",
       "<title>4&#45;&gt;5</title>\n",
       "<path fill=\"none\" stroke=\"green\" d=\"M217.5,-223.7C217.5,-215.98 217.5,-206.71 217.5,-198.11\"/>\n",
       "<polygon fill=\"green\" stroke=\"green\" points=\"221,-198.1 217.5,-188.1 214,-198.1 221,-198.1\"/>\n",
       "</g>\n",
       "<!-- 5&#45;&gt;6 -->\n",
       "<g id=\"edge10\" class=\"edge\">\n",
       "<title>5&#45;&gt;6</title>\n",
       "<path fill=\"none\" stroke=\"green\" d=\"M204.75,-154.83C196.73,-145.92 186.16,-134.17 176.78,-123.75\"/>\n",
       "<polygon fill=\"green\" stroke=\"green\" points=\"179.19,-121.2 169.9,-116.11 173.99,-125.89 179.19,-121.2\"/>\n",
       "</g>\n",
       "<!-- 5&#45;&gt;7 -->\n",
       "<g id=\"edge11\" class=\"edge\">\n",
       "<title>5&#45;&gt;7</title>\n",
       "<path fill=\"none\" stroke=\"red\" d=\"M233.7,-155.5C244.83,-146.23 259.91,-133.66 273.03,-122.73\"/>\n",
       "<polygon fill=\"red\" stroke=\"red\" points=\"275.44,-125.27 280.88,-116.18 270.96,-119.89 275.44,-125.27\"/>\n",
       "</g>\n",
       "<!-- 9&#45;&gt;13 -->\n",
       "<g id=\"edge17\" class=\"edge\">\n",
       "<title>9&#45;&gt;13</title>\n",
       "<path fill=\"none\" stroke=\"red\" d=\"M390.5,-223.7C390.5,-215.98 390.5,-206.71 390.5,-198.11\"/>\n",
       "<polygon fill=\"red\" stroke=\"red\" points=\"394,-198.1 390.5,-188.1 387,-198.1 394,-198.1\"/>\n",
       "</g>\n",
       "<!-- 10 -->\n",
       "<g id=\"node13\" class=\"node\">\n",
       "<title>10</title>\n",
       "<polygon fill=\"none\" stroke=\"black\" points=\"555.5,-188 473.89,-170 555.5,-152 637.11,-170 555.5,-188\"/>\n",
       "<text text-anchor=\"middle\" x=\"555.5\" y=\"-166.3\" font-family=\"Times,serif\" font-size=\"14.00\">12: if: a == c</text>\n",
       "</g>\n",
       "<!-- 9&#45;&gt;10 -->\n",
       "<g id=\"edge14\" class=\"edge\">\n",
       "<title>9&#45;&gt;10</title>\n",
       "<path fill=\"none\" stroke=\"red\" d=\"M416.64,-229.91C444.36,-218.15 488.33,-199.5 519.35,-186.34\"/>\n",
       "<polygon fill=\"red\" stroke=\"red\" points=\"521.09,-189.4 528.93,-182.27 518.36,-182.96 521.09,-189.4\"/>\n",
       "</g>\n",
       "<!-- 10&#45;&gt;11 -->\n",
       "<g id=\"edge15\" class=\"edge\">\n",
       "<title>10&#45;&gt;11</title>\n",
       "<path fill=\"none\" stroke=\"red\" d=\"M541.13,-154.83C531.91,-145.75 519.71,-133.71 508.99,-123.14\"/>\n",
       "<polygon fill=\"red\" stroke=\"red\" points=\"511.44,-120.64 501.86,-116.11 506.52,-125.63 511.44,-120.64\"/>\n",
       "</g>\n",
       "<!-- 10&#45;&gt;12 -->\n",
       "<g id=\"edge16\" class=\"edge\">\n",
       "<title>10&#45;&gt;12</title>\n",
       "<path fill=\"none\" stroke=\"red\" d=\"M570.12,-155.17C579.77,-146.04 592.68,-133.83 603.99,-123.13\"/>\n",
       "<polygon fill=\"red\" stroke=\"red\" points=\"606.65,-125.43 611.51,-116.02 601.84,-120.35 606.65,-125.43\"/>\n",
       "</g>\n",
       "</g>\n",
       "</svg>\n"
      ],
      "text/plain": [
       "<graphviz.dot.Digraph at 0x1068cca30>"
      ]
     },
     "execution_count": 18,
     "metadata": {},
     "output_type": "execute_result"
    }
   ],
   "source": [
    "show_cfg(check_triangle, arcs=cov.arcs())"
   ]
  },
  {
   "cell_type": "markdown",
   "metadata": {
    "slideshow": {
     "slide_type": "fragment"
    }
   },
   "source": [
    "As you can see, the path taken is `<path 1>`."
   ]
  },
  {
   "cell_type": "markdown",
   "metadata": {
    "slideshow": {
     "slide_type": "fragment"
    }
   },
   "source": [
    "Similarly, for solving `<path 2>` we need to simply invert the condition at <line 2>:"
   ]
  },
  {
   "cell_type": "code",
   "execution_count": 19,
   "metadata": {
    "execution": {
     "iopub.execute_input": "2022-01-02T15:26:16.011485Z",
     "iopub.status.busy": "2022-01-02T15:26:16.010900Z",
     "iopub.status.idle": "2022-01-02T15:26:16.031490Z",
     "shell.execute_reply": "2022-01-02T15:26:16.030919Z"
    },
    "slideshow": {
     "slide_type": "fragment"
    }
   },
   "outputs": [
    {
     "name": "stdout",
     "output_type": "stream",
     "text": [
      "no solution\n"
     ]
    }
   ],
   "source": [
    "z3.solve(a == b, a == c, z3.Not(b == c))"
   ]
  },
  {
   "cell_type": "markdown",
   "metadata": {
    "slideshow": {
     "slide_type": "fragment"
    }
   },
   "source": [
    "The symbolic execution suggests that there is no solution. A moment's reflection will convince us that it is indeed true. Let us proceed with the other paths. The `<path 3>` can be obtained by inverting the condition at `<line 4>`."
   ]
  },
  {
   "cell_type": "code",
   "execution_count": 20,
   "metadata": {
    "execution": {
     "iopub.execute_input": "2022-01-02T15:26:16.036002Z",
     "iopub.status.busy": "2022-01-02T15:26:16.035442Z",
     "iopub.status.idle": "2022-01-02T15:26:16.052886Z",
     "shell.execute_reply": "2022-01-02T15:26:16.053263Z"
    },
    "slideshow": {
     "slide_type": "subslide"
    }
   },
   "outputs": [
    {
     "name": "stdout",
     "output_type": "stream",
     "text": [
      "[c = 0, b = 1, a = 1]\n"
     ]
    }
   ],
   "source": [
    "z3.solve(a == b, z3.Not(a == c))"
   ]
  },
  {
   "cell_type": "code",
   "execution_count": 21,
   "metadata": {
    "execution": {
     "iopub.execute_input": "2022-01-02T15:26:16.081467Z",
     "iopub.status.busy": "2022-01-02T15:26:16.079890Z",
     "iopub.status.idle": "2022-01-02T15:26:16.084948Z",
     "shell.execute_reply": "2022-01-02T15:26:16.085551Z"
    },
    "slideshow": {
     "slide_type": "fragment"
    }
   },
   "outputs": [
    {
     "data": {
      "text/plain": [
       "[1, 2, 3, 9]"
      ]
     },
     "execution_count": 21,
     "metadata": {},
     "output_type": "execute_result"
    }
   ],
   "source": [
    "with ArcCoverage() as cov:\n",
    "    assert check_triangle(1, 1, 0) == 'Isosceles'\n",
    "[i for fn, i in cov._trace if fn == 'check_triangle']"
   ]
  },
  {
   "cell_type": "code",
   "execution_count": 22,
   "metadata": {
    "execution": {
     "iopub.execute_input": "2022-01-02T15:26:16.091008Z",
     "iopub.status.busy": "2022-01-02T15:26:16.090017Z",
     "iopub.status.idle": "2022-01-02T15:26:16.093753Z",
     "shell.execute_reply": "2022-01-02T15:26:16.094241Z"
    },
    "slideshow": {
     "slide_type": "fragment"
    }
   },
   "outputs": [
    {
     "data": {
      "text/plain": [
       "([1, 2, 3, 9], 'Isosceles')"
      ]
     },
     "execution_count": 22,
     "metadata": {},
     "output_type": "execute_result"
    }
   ],
   "source": [
    "paths['<path 3>']"
   ]
  },
  {
   "cell_type": "markdown",
   "metadata": {
    "slideshow": {
     "slide_type": "fragment"
    }
   },
   "source": [
    "How about path <4>?"
   ]
  },
  {
   "cell_type": "code",
   "execution_count": 23,
   "metadata": {
    "execution": {
     "iopub.execute_input": "2022-01-02T15:26:16.100080Z",
     "iopub.status.busy": "2022-01-02T15:26:16.099236Z",
     "iopub.status.idle": "2022-01-02T15:26:16.120122Z",
     "shell.execute_reply": "2022-01-02T15:26:16.120577Z"
    },
    "slideshow": {
     "slide_type": "fragment"
    }
   },
   "outputs": [
    {
     "name": "stdout",
     "output_type": "stream",
     "text": [
      "[b = 0, c = 1, a = 1]\n"
     ]
    }
   ],
   "source": [
    "z3.solve(z3.Not(a == b), b != c, a == c)"
   ]
  },
  {
   "cell_type": "markdown",
   "metadata": {
    "slideshow": {
     "slide_type": "subslide"
    }
   },
   "source": [
    "As we mentioned earlier, our program does not account for sides with zero or negative length. We can modify our program to check for zero and negative input. However, do we always have to make sure that every function has to account for all possible inputs? It is possible that the `check_triangle` is not directly exposed to the user, and it is called from another function that already guarantees that the inputs would be positive. In the [chapter on dynamic invariants](DynamicInvariants.ipynb), we will show how to discover such preconditions and post conditions.\n",
    "\n",
    "We can easily add such a precondition here."
   ]
  },
  {
   "cell_type": "code",
   "execution_count": 24,
   "metadata": {
    "execution": {
     "iopub.execute_input": "2022-01-02T15:26:16.125227Z",
     "iopub.status.busy": "2022-01-02T15:26:16.124445Z",
     "iopub.status.idle": "2022-01-02T15:26:16.126917Z",
     "shell.execute_reply": "2022-01-02T15:26:16.127416Z"
    },
    "slideshow": {
     "slide_type": "fragment"
    }
   },
   "outputs": [],
   "source": [
    "pre_condition = z3.And(a > 0, b > 0, c > 0)"
   ]
  },
  {
   "cell_type": "code",
   "execution_count": 25,
   "metadata": {
    "execution": {
     "iopub.execute_input": "2022-01-02T15:26:16.131322Z",
     "iopub.status.busy": "2022-01-02T15:26:16.130758Z",
     "iopub.status.idle": "2022-01-02T15:26:16.148329Z",
     "shell.execute_reply": "2022-01-02T15:26:16.148707Z"
    },
    "slideshow": {
     "slide_type": "fragment"
    }
   },
   "outputs": [
    {
     "name": "stdout",
     "output_type": "stream",
     "text": [
      "[c = 2, b = 1, a = 2]\n"
     ]
    }
   ],
   "source": [
    "z3.solve(pre_condition, z3.Not(a == b), b != c, a == c)"
   ]
  },
  {
   "cell_type": "code",
   "execution_count": 26,
   "metadata": {
    "execution": {
     "iopub.execute_input": "2022-01-02T15:26:16.170098Z",
     "iopub.status.busy": "2022-01-02T15:26:16.169222Z",
     "iopub.status.idle": "2022-01-02T15:26:16.172193Z",
     "shell.execute_reply": "2022-01-02T15:26:16.172577Z"
    },
    "slideshow": {
     "slide_type": "subslide"
    }
   },
   "outputs": [
    {
     "data": {
      "text/plain": [
       "[1, 2, 11, 12, 13]"
      ]
     },
     "execution_count": 26,
     "metadata": {},
     "output_type": "execute_result"
    }
   ],
   "source": [
    "with ArcCoverage() as cov:\n",
    "    assert check_triangle(1, 2, 1) == 'Isosceles'\n",
    "[i for fn, i in cov._trace if fn == 'check_triangle']"
   ]
  },
  {
   "cell_type": "code",
   "execution_count": 27,
   "metadata": {
    "execution": {
     "iopub.execute_input": "2022-01-02T15:26:16.177131Z",
     "iopub.status.busy": "2022-01-02T15:26:16.176411Z",
     "iopub.status.idle": "2022-01-02T15:26:16.179544Z",
     "shell.execute_reply": "2022-01-02T15:26:16.179999Z"
    },
    "slideshow": {
     "slide_type": "fragment"
    }
   },
   "outputs": [
    {
     "data": {
      "text/plain": [
       "([1, 2, 11, 12, 13], 'Isosceles')"
      ]
     },
     "execution_count": 27,
     "metadata": {},
     "output_type": "execute_result"
    }
   ],
   "source": [
    "paths['<path 4>']"
   ]
  },
  {
   "cell_type": "markdown",
   "metadata": {
    "slideshow": {
     "slide_type": "fragment"
    }
   },
   "source": [
    "Continuing to path <5>:"
   ]
  },
  {
   "cell_type": "code",
   "execution_count": 28,
   "metadata": {
    "execution": {
     "iopub.execute_input": "2022-01-02T15:26:16.185894Z",
     "iopub.status.busy": "2022-01-02T15:26:16.184923Z",
     "iopub.status.idle": "2022-01-02T15:26:16.204548Z",
     "shell.execute_reply": "2022-01-02T15:26:16.205013Z"
    },
    "slideshow": {
     "slide_type": "fragment"
    }
   },
   "outputs": [
    {
     "name": "stdout",
     "output_type": "stream",
     "text": [
      "[b = 2, a = 1, c = 3]\n"
     ]
    }
   ],
   "source": [
    "z3.solve(pre_condition, z3.Not(a == b), b != c, z3.Not(a == c))"
   ]
  },
  {
   "cell_type": "markdown",
   "metadata": {
    "slideshow": {
     "slide_type": "fragment"
    }
   },
   "source": [
    "And indeed it is a *Scalene* triangle."
   ]
  },
  {
   "cell_type": "code",
   "execution_count": 29,
   "metadata": {
    "execution": {
     "iopub.execute_input": "2022-01-02T15:26:16.226271Z",
     "iopub.status.busy": "2022-01-02T15:26:16.225747Z",
     "iopub.status.idle": "2022-01-02T15:26:16.227526Z",
     "shell.execute_reply": "2022-01-02T15:26:16.227902Z"
    },
    "slideshow": {
     "slide_type": "fragment"
    }
   },
   "outputs": [],
   "source": [
    "with ArcCoverage() as cov:\n",
    "    assert check_triangle(3, 1, 2) == 'Scalene'"
   ]
  },
  {
   "cell_type": "code",
   "execution_count": 30,
   "metadata": {
    "execution": {
     "iopub.execute_input": "2022-01-02T15:26:16.231898Z",
     "iopub.status.busy": "2022-01-02T15:26:16.231317Z",
     "iopub.status.idle": "2022-01-02T15:26:16.233718Z",
     "shell.execute_reply": "2022-01-02T15:26:16.234107Z"
    },
    "slideshow": {
     "slide_type": "fragment"
    }
   },
   "outputs": [
    {
     "data": {
      "text/plain": [
       "([1, 2, 11, 12, 15], 'Scalene')"
      ]
     },
     "execution_count": 30,
     "metadata": {},
     "output_type": "execute_result"
    }
   ],
   "source": [
    "paths['<path 5>']"
   ]
  },
  {
   "cell_type": "markdown",
   "metadata": {
    "slideshow": {
     "slide_type": "subslide"
    }
   },
   "source": [
    "Finally, for `<path 6>` the procedure is similar."
   ]
  },
  {
   "cell_type": "code",
   "execution_count": 31,
   "metadata": {
    "execution": {
     "iopub.execute_input": "2022-01-02T15:26:16.237738Z",
     "iopub.status.busy": "2022-01-02T15:26:16.237206Z",
     "iopub.status.idle": "2022-01-02T15:26:16.256834Z",
     "shell.execute_reply": "2022-01-02T15:26:16.257249Z"
    },
    "slideshow": {
     "slide_type": "fragment"
    }
   },
   "outputs": [
    {
     "name": "stdout",
     "output_type": "stream",
     "text": [
      "[c = 2, a = 1, b = 2]\n"
     ]
    }
   ],
   "source": [
    "z3.solve(pre_condition, z3.Not(a == b), z3.Not(b != c))"
   ]
  },
  {
   "cell_type": "code",
   "execution_count": 32,
   "metadata": {
    "execution": {
     "iopub.execute_input": "2022-01-02T15:26:16.276784Z",
     "iopub.status.busy": "2022-01-02T15:26:16.276147Z",
     "iopub.status.idle": "2022-01-02T15:26:16.278472Z",
     "shell.execute_reply": "2022-01-02T15:26:16.278860Z"
    },
    "slideshow": {
     "slide_type": "fragment"
    }
   },
   "outputs": [
    {
     "data": {
      "text/plain": [
       "[1, 2, 11, 17]"
      ]
     },
     "execution_count": 32,
     "metadata": {},
     "output_type": "execute_result"
    }
   ],
   "source": [
    "with ArcCoverage() as cov:\n",
    "    assert check_triangle(2, 1, 1) == 'Isosceles'\n",
    "[i for fn, i in cov._trace if fn == 'check_triangle']"
   ]
  },
  {
   "cell_type": "code",
   "execution_count": 33,
   "metadata": {
    "execution": {
     "iopub.execute_input": "2022-01-02T15:26:16.282393Z",
     "iopub.status.busy": "2022-01-02T15:26:16.281816Z",
     "iopub.status.idle": "2022-01-02T15:26:16.284185Z",
     "shell.execute_reply": "2022-01-02T15:26:16.284557Z"
    },
    "slideshow": {
     "slide_type": "fragment"
    }
   },
   "outputs": [
    {
     "data": {
      "text/plain": [
       "([1, 2, 11, 17], 'Isosceles')"
      ]
     },
     "execution_count": 33,
     "metadata": {},
     "output_type": "execute_result"
    }
   ],
   "source": [
    "paths['<path 6>']"
   ]
  },
  {
   "cell_type": "markdown",
   "metadata": {
    "slideshow": {
     "slide_type": "fragment"
    }
   },
   "source": [
    "What if we wanted another solution? We can simply ask the solver to solve again, and not give us the same values."
   ]
  },
  {
   "cell_type": "code",
   "execution_count": 34,
   "metadata": {
    "execution": {
     "iopub.execute_input": "2022-01-02T15:26:16.288705Z",
     "iopub.status.busy": "2022-01-02T15:26:16.288080Z",
     "iopub.status.idle": "2022-01-02T15:26:16.290637Z",
     "shell.execute_reply": "2022-01-02T15:26:16.291019Z"
    },
    "slideshow": {
     "slide_type": "fragment"
    }
   },
   "outputs": [],
   "source": [
    "seen = [z3.And(a == 2, b == 1, c == 1)]"
   ]
  },
  {
   "cell_type": "code",
   "execution_count": 35,
   "metadata": {
    "execution": {
     "iopub.execute_input": "2022-01-02T15:26:16.294341Z",
     "iopub.status.busy": "2022-01-02T15:26:16.293815Z",
     "iopub.status.idle": "2022-01-02T15:26:16.310694Z",
     "shell.execute_reply": "2022-01-02T15:26:16.311074Z"
    },
    "slideshow": {
     "slide_type": "subslide"
    }
   },
   "outputs": [
    {
     "name": "stdout",
     "output_type": "stream",
     "text": [
      "[c = 2, a = 1, b = 2]\n"
     ]
    }
   ],
   "source": [
    "z3.solve(pre_condition, z3.Not(z3.Or(seen)), z3.Not(a == b), z3.Not(b != c))"
   ]
  },
  {
   "cell_type": "code",
   "execution_count": 36,
   "metadata": {
    "execution": {
     "iopub.execute_input": "2022-01-02T15:26:16.314692Z",
     "iopub.status.busy": "2022-01-02T15:26:16.314107Z",
     "iopub.status.idle": "2022-01-02T15:26:16.316629Z",
     "shell.execute_reply": "2022-01-02T15:26:16.317006Z"
    },
    "slideshow": {
     "slide_type": "fragment"
    }
   },
   "outputs": [],
   "source": [
    "seen.append(z3.And(a == 1, b == 2, c == 2))"
   ]
  },
  {
   "cell_type": "code",
   "execution_count": 37,
   "metadata": {
    "execution": {
     "iopub.execute_input": "2022-01-02T15:26:16.320338Z",
     "iopub.status.busy": "2022-01-02T15:26:16.319818Z",
     "iopub.status.idle": "2022-01-02T15:26:16.335945Z",
     "shell.execute_reply": "2022-01-02T15:26:16.336326Z"
    },
    "slideshow": {
     "slide_type": "fragment"
    }
   },
   "outputs": [
    {
     "name": "stdout",
     "output_type": "stream",
     "text": [
      "[c = 1, a = 3, b = 1]\n"
     ]
    }
   ],
   "source": [
    "z3.solve(pre_condition, z3.Not(z3.Or(seen)), z3.Not(a == b), z3.Not(b != c))"
   ]
  },
  {
   "cell_type": "markdown",
   "metadata": {
    "slideshow": {
     "slide_type": "fragment"
    }
   },
   "source": [
    "That is, using simple symbolic computation, we were able to easily see that (1) some of the paths are not reachable, and (2) some of the conditions were insufficient -- we needed preconditions. What about the total coverage obtained?"
   ]
  },
  {
   "cell_type": "markdown",
   "metadata": {
    "slideshow": {
     "slide_type": "subslide"
    }
   },
   "source": [
    "### Visualizing the Coverage"
   ]
  },
  {
   "cell_type": "markdown",
   "metadata": {
    "slideshow": {
     "slide_type": "fragment"
    }
   },
   "source": [
    "Visualizing the statement coverage can be accomplished as below."
   ]
  },
  {
   "cell_type": "code",
   "execution_count": 38,
   "metadata": {
    "execution": {
     "iopub.execute_input": "2022-01-02T15:26:16.341486Z",
     "iopub.status.busy": "2022-01-02T15:26:16.340951Z",
     "iopub.status.idle": "2022-01-02T15:26:16.342629Z",
     "shell.execute_reply": "2022-01-02T15:26:16.343014Z"
    },
    "slideshow": {
     "slide_type": "fragment"
    }
   },
   "outputs": [],
   "source": [
    "class VisualizedArcCoverage(ArcCoverage):\n",
    "    def show_coverage(self, fn):\n",
    "        src = fn if isinstance(fn, str) else inspect.getsource(fn)\n",
    "        covered = set([lineno for method, lineno in self._trace])\n",
    "        for i, s in enumerate(src.split('\\n')):\n",
    "            print('%s %2d: %s' % ('#' if i + 1 in covered else ' ', i + 1, s))"
   ]
  },
  {
   "cell_type": "markdown",
   "metadata": {
    "slideshow": {
     "slide_type": "fragment"
    }
   },
   "source": [
    "We run all the inputs obtained under the coverage tracer."
   ]
  },
  {
   "cell_type": "code",
   "execution_count": 39,
   "metadata": {
    "execution": {
     "iopub.execute_input": "2022-01-02T15:26:16.422490Z",
     "iopub.status.busy": "2022-01-02T15:26:16.397632Z",
     "iopub.status.idle": "2022-01-02T15:26:16.424197Z",
     "shell.execute_reply": "2022-01-02T15:26:16.424574Z"
    },
    "slideshow": {
     "slide_type": "fragment"
    }
   },
   "outputs": [],
   "source": [
    "with VisualizedArcCoverage() as cov:\n",
    "    assert check_triangle(0, 0, 0) == 'Equilateral'\n",
    "    assert check_triangle(1, 1, 0) == 'Isosceles'\n",
    "    assert check_triangle(1, 2, 1) == 'Isosceles'\n",
    "    assert check_triangle(3, 1, 2) == 'Scalene'\n",
    "    assert check_triangle(2, 1, 1) == 'Isosceles'"
   ]
  },
  {
   "cell_type": "code",
   "execution_count": 40,
   "metadata": {
    "execution": {
     "iopub.execute_input": "2022-01-02T15:26:16.427928Z",
     "iopub.status.busy": "2022-01-02T15:26:16.427295Z",
     "iopub.status.idle": "2022-01-02T15:26:16.430547Z",
     "shell.execute_reply": "2022-01-02T15:26:16.431003Z"
    },
    "slideshow": {
     "slide_type": "subslide"
    }
   },
   "outputs": [
    {
     "name": "stdout",
     "output_type": "stream",
     "text": [
      "#  1: def check_triangle(a: int, b: int, c: int) -> str:\n",
      "#  2:     if a == b:\n",
      "#  3:         if a == c:\n",
      "#  4:             if b == c:\n",
      "#  5:                 return \"Equilateral\"\n",
      "   6:             else:\n",
      "   7:                 return \"Isosceles\"\n",
      "   8:         else:\n",
      "#  9:             return \"Isosceles\"\n",
      "  10:     else:\n",
      "# 11:         if b != c:\n",
      "# 12:             if a == c:\n",
      "# 13:                 return \"Isosceles\"\n",
      "  14:             else:\n",
      "# 15:                 return \"Scalene\"\n",
      "  16:         else:\n",
      "# 17:             return \"Isosceles\"\n",
      "  18: \n"
     ]
    }
   ],
   "source": [
    "cov.show_coverage(check_triangle)"
   ]
  },
  {
   "cell_type": "markdown",
   "metadata": {
    "slideshow": {
     "slide_type": "subslide"
    }
   },
   "source": [
    "The coverage is as expected. The generated values does seem to cover all code that can be covered.\n",
    "\n",
    "We have seen how to reason about each path through the program. Can we combine them together to produce a single expression that represents the program behavior? This is what we will discuss next."
   ]
  },
  {
   "cell_type": "markdown",
   "metadata": {
    "slideshow": {
     "slide_type": "subslide"
    }
   },
   "source": [
    "### Function Summaries"
   ]
  },
  {
   "cell_type": "markdown",
   "metadata": {
    "slideshow": {
     "slide_type": "fragment"
    }
   },
   "source": [
    "Consider this equation for determining absolute value."
   ]
  },
  {
   "cell_type": "code",
   "execution_count": 41,
   "metadata": {
    "execution": {
     "iopub.execute_input": "2022-01-02T15:26:16.435280Z",
     "iopub.status.busy": "2022-01-02T15:26:16.434696Z",
     "iopub.status.idle": "2022-01-02T15:26:16.436530Z",
     "shell.execute_reply": "2022-01-02T15:26:16.437053Z"
    },
    "slideshow": {
     "slide_type": "fragment"
    }
   },
   "outputs": [],
   "source": [
    "def abs_value(x: float) -> float:\n",
    "    if x < 0:\n",
    "        v: float = -x  # type: ignore\n",
    "    else:\n",
    "        v: float = x  # type: ignore\n",
    "    return v"
   ]
  },
  {
   "cell_type": "code",
   "execution_count": 42,
   "metadata": {
    "execution": {
     "iopub.execute_input": "2022-01-02T15:26:16.441996Z",
     "iopub.status.busy": "2022-01-02T15:26:16.441412Z",
     "iopub.status.idle": "2022-01-02T15:26:16.833820Z",
     "shell.execute_reply": "2022-01-02T15:26:16.834199Z"
    },
    "slideshow": {
     "slide_type": "fragment"
    }
   },
   "outputs": [
    {
     "data": {
      "image/svg+xml": [
       "<?xml version=\"1.0\" encoding=\"UTF-8\" standalone=\"no\"?>\n",
       "<!DOCTYPE svg PUBLIC \"-//W3C//DTD SVG 1.1//EN\"\n",
       " \"http://www.w3.org/Graphics/SVG/1.1/DTD/svg11.dtd\">\n",
       "<!-- Generated by graphviz version 2.49.3 (20211023.0002)\n",
       " -->\n",
       "<!-- Pages: 1 -->\n",
       "<svg width=\"272pt\" height=\"366pt\"\n",
       " viewBox=\"0.00 0.00 271.84 366.00\" xmlns=\"http://www.w3.org/2000/svg\" xmlns:xlink=\"http://www.w3.org/1999/xlink\">\n",
       "<g id=\"graph0\" class=\"graph\" transform=\"scale(1 1) rotate(0) translate(4 362)\">\n",
       "<polygon fill=\"white\" stroke=\"transparent\" points=\"-4,4 -4,-362 267.84,-362 267.84,4 -4,4\"/>\n",
       "<!-- 1 -->\n",
       "<g id=\"node1\" class=\"node\">\n",
       "<title>1</title>\n",
       "<ellipse fill=\"none\" stroke=\"black\" cx=\"133.04\" cy=\"-336\" rx=\"90.19\" ry=\"18\"/>\n",
       "<ellipse fill=\"none\" stroke=\"black\" cx=\"133.04\" cy=\"-336\" rx=\"94.18\" ry=\"22\"/>\n",
       "<text text-anchor=\"middle\" x=\"133.04\" y=\"-332.3\" font-family=\"Times,serif\" font-size=\"14.00\">1: enter: abs_value(x)</text>\n",
       "</g>\n",
       "<!-- 3 -->\n",
       "<g id=\"node4\" class=\"node\">\n",
       "<title>3</title>\n",
       "<polygon fill=\"none\" stroke=\"black\" points=\"133.04,-277 63.33,-259 133.04,-241 202.76,-259 133.04,-277\"/>\n",
       "<text text-anchor=\"middle\" x=\"133.04\" y=\"-255.3\" font-family=\"Times,serif\" font-size=\"14.00\">2: if: x &lt; 0</text>\n",
       "</g>\n",
       "<!-- 1&#45;&gt;3 -->\n",
       "<g id=\"edge2\" class=\"edge\">\n",
       "<title>1&#45;&gt;3</title>\n",
       "<path fill=\"none\" stroke=\"black\" d=\"M133.04,-313.71C133.04,-305.46 133.04,-295.91 133.04,-287.17\"/>\n",
       "<polygon fill=\"black\" stroke=\"black\" points=\"136.54,-287.06 133.04,-277.06 129.54,-287.06 136.54,-287.06\"/>\n",
       "</g>\n",
       "<!-- 2 -->\n",
       "<g id=\"node2\" class=\"node\">\n",
       "<title>2</title>\n",
       "<ellipse fill=\"none\" stroke=\"black\" cx=\"133.04\" cy=\"-22\" rx=\"85.59\" ry=\"18\"/>\n",
       "<ellipse fill=\"none\" stroke=\"black\" cx=\"133.04\" cy=\"-22\" rx=\"89.59\" ry=\"22\"/>\n",
       "<text text-anchor=\"middle\" x=\"133.04\" y=\"-18.3\" font-family=\"Times,serif\" font-size=\"14.00\">1: exit: abs_value(x)</text>\n",
       "</g>\n",
       "<!-- 6 -->\n",
       "<g id=\"node3\" class=\"node\">\n",
       "<title>6</title>\n",
       "<polygon fill=\"none\" stroke=\"black\" points=\"170.54,-117 95.54,-117 95.54,-81 170.54,-81 170.54,-117\"/>\n",
       "<text text-anchor=\"middle\" x=\"133.04\" y=\"-95.3\" font-family=\"Times,serif\" font-size=\"14.00\">6: return v</text>\n",
       "</g>\n",
       "<!-- 6&#45;&gt;2 -->\n",
       "<g id=\"edge1\" class=\"edge\">\n",
       "<title>6&#45;&gt;2</title>\n",
       "<path fill=\"none\" stroke=\"black\" d=\"M133.04,-80.98C133.04,-73.15 133.04,-63.61 133.04,-54.54\"/>\n",
       "<polygon fill=\"black\" stroke=\"black\" points=\"136.54,-54.24 133.04,-44.24 129.54,-54.24 136.54,-54.24\"/>\n",
       "</g>\n",
       "<!-- 4 -->\n",
       "<g id=\"node5\" class=\"node\">\n",
       "<title>4</title>\n",
       "<ellipse fill=\"none\" stroke=\"black\" cx=\"63.04\" cy=\"-172\" rx=\"63.09\" ry=\"18\"/>\n",
       "<text text-anchor=\"middle\" x=\"63.04\" y=\"-168.3\" font-family=\"Times,serif\" font-size=\"14.00\">3: v: float = &#45;x</text>\n",
       "</g>\n",
       "<!-- 3&#45;&gt;4 -->\n",
       "<g id=\"edge3\" class=\"edge\">\n",
       "<title>3&#45;&gt;4</title>\n",
       "<path fill=\"none\" stroke=\"blue\" d=\"M121.49,-243.96C111.13,-231.39 95.71,-212.67 83.31,-197.61\"/>\n",
       "<polygon fill=\"blue\" stroke=\"blue\" points=\"85.84,-195.18 76.79,-189.69 80.44,-199.63 85.84,-195.18\"/>\n",
       "<text text-anchor=\"middle\" x=\"107.54\" y=\"-211.8\" font-family=\"Times,serif\" font-size=\"14.00\">T</text>\n",
       "</g>\n",
       "<!-- 5 -->\n",
       "<g id=\"node6\" class=\"node\">\n",
       "<title>5</title>\n",
       "<ellipse fill=\"none\" stroke=\"black\" cx=\"204.04\" cy=\"-172\" rx=\"59.59\" ry=\"18\"/>\n",
       "<text text-anchor=\"middle\" x=\"204.04\" y=\"-168.3\" font-family=\"Times,serif\" font-size=\"14.00\">5: v: float = x</text>\n",
       "</g>\n",
       "<!-- 3&#45;&gt;5 -->\n",
       "<g id=\"edge4\" class=\"edge\">\n",
       "<title>3&#45;&gt;5</title>\n",
       "<path fill=\"none\" stroke=\"red\" d=\"M144.77,-243.96C155.27,-231.39 170.91,-212.67 183.49,-197.61\"/>\n",
       "<polygon fill=\"red\" stroke=\"red\" points=\"186.38,-199.6 190.11,-189.69 181.01,-195.12 186.38,-199.6\"/>\n",
       "<text text-anchor=\"middle\" x=\"176.04\" y=\"-211.8\" font-family=\"Times,serif\" font-size=\"14.00\">F</text>\n",
       "</g>\n",
       "<!-- 4&#45;&gt;6 -->\n",
       "<g id=\"edge5\" class=\"edge\">\n",
       "<title>4&#45;&gt;6</title>\n",
       "<path fill=\"none\" stroke=\"black\" d=\"M79.28,-154.53C88.03,-145.65 99.01,-134.52 108.76,-124.63\"/>\n",
       "<polygon fill=\"black\" stroke=\"black\" points=\"111.39,-126.95 115.92,-117.37 106.41,-122.03 111.39,-126.95\"/>\n",
       "</g>\n",
       "<!-- 5&#45;&gt;6 -->\n",
       "<g id=\"edge6\" class=\"edge\">\n",
       "<title>5&#45;&gt;6</title>\n",
       "<path fill=\"none\" stroke=\"black\" d=\"M187.58,-154.53C178.7,-145.65 167.56,-134.52 157.67,-124.63\"/>\n",
       "<polygon fill=\"black\" stroke=\"black\" points=\"159.96,-121.96 150.41,-117.37 155.01,-126.91 159.96,-121.96\"/>\n",
       "</g>\n",
       "</g>\n",
       "</svg>\n"
      ],
      "text/plain": [
       "<graphviz.dot.Digraph at 0x1070e0cd0>"
      ]
     },
     "execution_count": 42,
     "metadata": {},
     "output_type": "execute_result"
    }
   ],
   "source": [
    "show_cfg(abs_value)"
   ]
  },
  {
   "cell_type": "markdown",
   "metadata": {
    "slideshow": {
     "slide_type": "fragment"
    }
   },
   "source": [
    "What can we say about the value of `v` at `line: 5`? Let us trace and see. First, we have variable `x` at `line: 1`."
   ]
  },
  {
   "cell_type": "code",
   "execution_count": 43,
   "metadata": {
    "execution": {
     "iopub.execute_input": "2022-01-02T15:26:16.838849Z",
     "iopub.status.busy": "2022-01-02T15:26:16.838323Z",
     "iopub.status.idle": "2022-01-02T15:26:16.840563Z",
     "shell.execute_reply": "2022-01-02T15:26:16.840979Z"
    },
    "slideshow": {
     "slide_type": "fragment"
    }
   },
   "outputs": [],
   "source": [
    "(x,), r = get_symbolicparams(abs_value)"
   ]
  },
  {
   "cell_type": "markdown",
   "metadata": {
    "slideshow": {
     "slide_type": "fragment"
    }
   },
   "source": [
    "At `line: 2`, we face a bifurcation in the possible paths. Hence, we produce two paths with corresponding constraints."
   ]
  },
  {
   "cell_type": "code",
   "execution_count": 44,
   "metadata": {
    "execution": {
     "iopub.execute_input": "2022-01-02T15:26:16.844679Z",
     "iopub.status.busy": "2022-01-02T15:26:16.844076Z",
     "iopub.status.idle": "2022-01-02T15:26:16.846103Z",
     "shell.execute_reply": "2022-01-02T15:26:16.846491Z"
    },
    "slideshow": {
     "slide_type": "subslide"
    }
   },
   "outputs": [],
   "source": [
    "l2_F = x < 0\n",
    "l2_T = z3.Not(x < 0)"
   ]
  },
  {
   "cell_type": "markdown",
   "metadata": {
    "slideshow": {
     "slide_type": "fragment"
    }
   },
   "source": [
    "For `line: 3`, we only need to consider the `If` path. However, we have an assignment. So we use a new variable here. The type _float_ is indicated in the source, and its equivalent *z3* type is _Real_."
   ]
  },
  {
   "cell_type": "code",
   "execution_count": 45,
   "metadata": {
    "execution": {
     "iopub.execute_input": "2022-01-02T15:26:16.849584Z",
     "iopub.status.busy": "2022-01-02T15:26:16.849067Z",
     "iopub.status.idle": "2022-01-02T15:26:16.851421Z",
     "shell.execute_reply": "2022-01-02T15:26:16.851833Z"
    },
    "slideshow": {
     "slide_type": "fragment"
    }
   },
   "outputs": [],
   "source": [
    "v_0 = z3.Real('v_0')\n",
    "l3 = z3.And(l2_F, v_0 == -x)"
   ]
  },
  {
   "cell_type": "markdown",
   "metadata": {
    "slideshow": {
     "slide_type": "fragment"
    }
   },
   "source": [
    "Similarly, for `line: 5`, we have an assignment. (Can we reuse the variable `v_0` from before?)"
   ]
  },
  {
   "cell_type": "code",
   "execution_count": 46,
   "metadata": {
    "execution": {
     "iopub.execute_input": "2022-01-02T15:26:16.855348Z",
     "iopub.status.busy": "2022-01-02T15:26:16.854699Z",
     "iopub.status.idle": "2022-01-02T15:26:16.857058Z",
     "shell.execute_reply": "2022-01-02T15:26:16.857446Z"
    },
    "slideshow": {
     "slide_type": "fragment"
    }
   },
   "outputs": [],
   "source": [
    "v_1 = z3.Real('v_1')\n",
    "l5 = z3.And(l2_T, v_1 == x)"
   ]
  },
  {
   "cell_type": "markdown",
   "metadata": {
    "slideshow": {
     "slide_type": "fragment"
    }
   },
   "source": [
    "When we come to `line: 6`, we see that we have *two* input streams. We have a choice. We can either keep each path separate as we did previously."
   ]
  },
  {
   "cell_type": "code",
   "execution_count": 47,
   "metadata": {
    "execution": {
     "iopub.execute_input": "2022-01-02T15:26:16.861326Z",
     "iopub.status.busy": "2022-01-02T15:26:16.860804Z",
     "iopub.status.idle": "2022-01-02T15:26:16.891634Z",
     "shell.execute_reply": "2022-01-02T15:26:16.892184Z"
    },
    "slideshow": {
     "slide_type": "subslide"
    }
   },
   "outputs": [
    {
     "name": "stdout",
     "output_type": "stream",
     "text": [
      "[v_0 = 1/2, v = 1/2, x = -1/2]\n",
      "[v = 1, v_1 = 1, x = 1]\n"
     ]
    }
   ],
   "source": [
    "v = z3.Real('v')\n",
    "for s in [z3.And(l3, v == v_0), z3.And(l5, v == v_1)]:\n",
    "    z3.solve(x != 0, s)"
   ]
  },
  {
   "cell_type": "markdown",
   "metadata": {
    "slideshow": {
     "slide_type": "fragment"
    }
   },
   "source": [
    "Or, we can combine them together and produce a single predicate at `line: 6`."
   ]
  },
  {
   "cell_type": "code",
   "execution_count": 48,
   "metadata": {
    "execution": {
     "iopub.execute_input": "2022-01-02T15:26:16.895854Z",
     "iopub.status.busy": "2022-01-02T15:26:16.895334Z",
     "iopub.status.idle": "2022-01-02T15:26:16.911435Z",
     "shell.execute_reply": "2022-01-02T15:26:16.911829Z"
    },
    "slideshow": {
     "slide_type": "fragment"
    }
   },
   "outputs": [
    {
     "name": "stdout",
     "output_type": "stream",
     "text": [
      "[v_0 = 1/2, v = 0, v_1 = 0, x = 0]\n"
     ]
    }
   ],
   "source": [
    "v = z3.Real('v')\n",
    "l6 = z3.Or(z3.And(l3, v == v_0), z3.And(l5, v == v_1))\n",
    "z3.solve(l6)"
   ]
  },
  {
   "cell_type": "markdown",
   "metadata": {
    "slideshow": {
     "slide_type": "subslide"
    }
   },
   "source": [
    "**Note.** Merging two incoming streams of execution can be non-trivial, especially when the execution paths are traversed multiple times (E.g. loops and recursion). For those interested, lookup [inferring loop invariants](https://www.st.cs.uni-saarland.de/publications/details/galeotti-hvc-2014/)."
   ]
  },
  {
   "cell_type": "markdown",
   "metadata": {
    "slideshow": {
     "slide_type": "fragment"
    }
   },
   "source": [
    "We can get this to produce any number of solutions for `abs()` as below."
   ]
  },
  {
   "cell_type": "code",
   "execution_count": 49,
   "metadata": {
    "execution": {
     "iopub.execute_input": "2022-01-02T15:26:16.916068Z",
     "iopub.status.busy": "2022-01-02T15:26:16.915542Z",
     "iopub.status.idle": "2022-01-02T15:26:16.948924Z",
     "shell.execute_reply": "2022-01-02T15:26:16.949303Z"
    },
    "slideshow": {
     "slide_type": "subslide"
    }
   },
   "outputs": [
    {
     "name": "stdout",
     "output_type": "stream",
     "text": [
      "[v_0 = 1/2, v = 0, v_1 = 0, x = 0]\n",
      "[v = 1, v_1 = 1, x = 1]\n",
      "[v = 1/2, v_1 = 1/2, x = 1/2]\n",
      "[v = 1/4, v_1 = 1/4, x = 1/4]\n",
      "[v = 1/8, v_1 = 1/8, x = 1/8]\n"
     ]
    },
    {
     "data": {
      "text/html": [
       "[x &lt; 0 &and; v_0 = -x &and; v = v_0 &or; &not;(x &lt; 0) &and; v_1 = x &and; v = v_1,\n",
       " &not;(0 = x),\n",
       " &not;(1 = x),\n",
       " &not;(1/2 = x),\n",
       " &not;(1/4 = x),\n",
       " &not;(1/8 = x)]"
      ],
      "text/plain": [
       "[Or(And(And(x < 0, v_0 == -x), v == v_0),\n",
       "    And(And(Not(x < 0), v_1 == x), v == v_1)),\n",
       " Not(0 == x),\n",
       " Not(1 == x),\n",
       " Not(1/2 == x),\n",
       " Not(1/4 == x),\n",
       " Not(1/8 == x)]"
      ]
     },
     "execution_count": 49,
     "metadata": {},
     "output_type": "execute_result"
    }
   ],
   "source": [
    "s = z3.Solver()\n",
    "s.add(l6)\n",
    "for i in range(5):\n",
    "    if s.check() == z3.sat:\n",
    "        m = s.model()\n",
    "        x_val = m[x]\n",
    "        print(m)\n",
    "    else:\n",
    "        print('no solution')\n",
    "        break\n",
    "    s.add(z3.Not(x == x_val))\n",
    "s"
   ]
  },
  {
   "cell_type": "markdown",
   "metadata": {
    "slideshow": {
     "slide_type": "subslide"
    }
   },
   "source": [
    "The solver is not particularly random. So we need to help it a bit to produce values on the negative range."
   ]
  },
  {
   "cell_type": "code",
   "execution_count": 50,
   "metadata": {
    "execution": {
     "iopub.execute_input": "2022-01-02T15:26:16.953558Z",
     "iopub.status.busy": "2022-01-02T15:26:16.952957Z",
     "iopub.status.idle": "2022-01-02T15:26:16.977866Z",
     "shell.execute_reply": "2022-01-02T15:26:16.978250Z"
    },
    "slideshow": {
     "slide_type": "subslide"
    }
   },
   "outputs": [
    {
     "name": "stdout",
     "output_type": "stream",
     "text": [
      "[v_0 = 1, v = 1, x = -1]\n",
      "[v_0 = 2, v = 2, x = -2]\n",
      "[v_0 = 3, v = 3, x = -3]\n",
      "[v_0 = 4, v = 4, x = -4]\n",
      "[v_0 = 5, v = 5, x = -5]\n"
     ]
    },
    {
     "data": {
      "text/html": [
       "[x &lt; 0 &and; v_0 = -x &and; v = v_0 &or; &not;(x &lt; 0) &and; v_1 = x &and; v = v_1,\n",
       " &not;(0 = x),\n",
       " &not;(1 = x),\n",
       " &not;(1/2 = x),\n",
       " &not;(1/4 = x),\n",
       " &not;(1/8 = x),\n",
       " x &lt; 0,\n",
       " &not;(-1 = x),\n",
       " &not;(-2 = x),\n",
       " &not;(-3 = x),\n",
       " &not;(-4 = x),\n",
       " &not;(-5 = x)]"
      ],
      "text/plain": [
       "[Or(And(And(x < 0, v_0 == -x), v == v_0),\n",
       "    And(And(Not(x < 0), v_1 == x), v == v_1)),\n",
       " Not(0 == x),\n",
       " Not(1 == x),\n",
       " Not(1/2 == x),\n",
       " Not(1/4 == x),\n",
       " Not(1/8 == x),\n",
       " x < 0,\n",
       " Not(-1 == x),\n",
       " Not(-2 == x),\n",
       " Not(-3 == x),\n",
       " Not(-4 == x),\n",
       " Not(-5 == x)]"
      ]
     },
     "execution_count": 50,
     "metadata": {},
     "output_type": "execute_result"
    }
   ],
   "source": [
    "s.add(x < 0)\n",
    "for i in range(5):\n",
    "    if s.check() == z3.sat:\n",
    "        m = s.model()\n",
    "        x_val = m[x]\n",
    "        print(m)\n",
    "    else:\n",
    "        print('no solution')\n",
    "        break\n",
    "    s.add(z3.Not(x == x_val))\n",
    "\n",
    "s"
   ]
  },
  {
   "cell_type": "markdown",
   "metadata": {
    "slideshow": {
     "slide_type": "subslide"
    }
   },
   "source": [
    "Note that the single expression produced at `line: 6` is essentially a summary for `abs_value()`. "
   ]
  },
  {
   "cell_type": "code",
   "execution_count": 51,
   "metadata": {
    "execution": {
     "iopub.execute_input": "2022-01-02T15:26:16.981573Z",
     "iopub.status.busy": "2022-01-02T15:26:16.981056Z",
     "iopub.status.idle": "2022-01-02T15:26:16.991012Z",
     "shell.execute_reply": "2022-01-02T15:26:16.991453Z"
    },
    "slideshow": {
     "slide_type": "fragment"
    }
   },
   "outputs": [
    {
     "data": {
      "text/html": [
       "x &lt; 0 &and; v_0 = -x &and; v = v_0 &or; &not;(x &lt; 0) &and; v_1 = x &and; v = v_1"
      ],
      "text/plain": [
       "Or(And(And(x < 0, v_0 == -x), v == v_0),\n",
       "   And(And(Not(x < 0), v_1 == x), v == v_1))"
      ]
     },
     "execution_count": 51,
     "metadata": {},
     "output_type": "execute_result"
    }
   ],
   "source": [
    "abs_value_summary = l6\n",
    "abs_value_summary"
   ]
  },
  {
   "cell_type": "markdown",
   "metadata": {
    "slideshow": {
     "slide_type": "fragment"
    }
   },
   "source": [
    "The *z3* solver can be used to simplify the predicates where possible."
   ]
  },
  {
   "cell_type": "code",
   "execution_count": 52,
   "metadata": {
    "execution": {
     "iopub.execute_input": "2022-01-02T15:26:16.995488Z",
     "iopub.status.busy": "2022-01-02T15:26:16.994965Z",
     "iopub.status.idle": "2022-01-02T15:26:17.003673Z",
     "shell.execute_reply": "2022-01-02T15:26:17.004058Z"
    },
    "slideshow": {
     "slide_type": "fragment"
    }
   },
   "outputs": [
    {
     "data": {
      "text/html": [
       "&not;(0 &le; x) &and; v_0 = -1&middot;x &and; v = v_0 &or; 0 &le; x &and; v_1 = x &and; v = v_1"
      ],
      "text/plain": [
       "Or(And(Not(0 <= x), v_0 == -1*x, v == v_0),\n",
       "   And(0 <= x, v_1 == x, v == v_1))"
      ]
     },
     "execution_count": 52,
     "metadata": {},
     "output_type": "execute_result"
    }
   ],
   "source": [
    "z3.simplify(l6)"
   ]
  },
  {
   "cell_type": "markdown",
   "metadata": {
    "slideshow": {
     "slide_type": "subslide"
    }
   },
   "source": [
    "One can use this summary rather than trace into `abs_value()` when `abs_value()` is used elsewhere. However, that presents us with a problem. It is possible that the same function may be called multiple times. In this case, using the same variables will lead to collision. One way to avoid that is to *prefix* some call specific value to the variables.\n",
    "\n",
    "**Note:** The SMT 2.0 standard allows one to define functions (*macros* in SMT parlance) directly. For example, the `abs-value` will be defined as follows:\n",
    "\n",
    "```lisp\n",
    "(define-fun abs-value ((x Int)) Int\n",
    "       (if (> x 0)\n",
    "           x\n",
    "           (* -1 x)))\n",
    "```\n",
    "\n",
    "Or equivalantly, (especially if `abs-value` is recursively defined)\n",
    "\n",
    "```lisp\n",
    "(declare-fun abs-value (Int) Int)\n",
    "(assert (forall ((x Int))\n",
    "                (= (abs-value x)\n",
    "                   (if (> x 0)\n",
    "                       x\n",
    "                       (* -1 x)))))\n",
    "```\n",
    "One can then say\n",
    "```\n",
    "(> (abs-value x) (abs-value y))\n",
    "```\n",
    "\n",
    "Unfortunately, the z3py project does not expose this facility in Python. Hence we have to use the `prefix_vars()` hack."
   ]
  },
  {
   "cell_type": "code",
   "execution_count": 53,
   "metadata": {
    "execution": {
     "iopub.execute_input": "2022-01-02T15:26:17.010482Z",
     "iopub.status.busy": "2022-01-02T15:26:17.009381Z",
     "iopub.status.idle": "2022-01-02T15:26:17.011978Z",
     "shell.execute_reply": "2022-01-02T15:26:17.012505Z"
    },
    "slideshow": {
     "slide_type": "skip"
    }
   },
   "outputs": [],
   "source": [
    "import ast"
   ]
  },
  {
   "cell_type": "markdown",
   "metadata": {
    "slideshow": {
     "slide_type": "subslide"
    }
   },
   "source": [
    "The method `prefix_vars()` modifies the variables in an expression such that the variables are prefixed with a given value."
   ]
  },
  {
   "cell_type": "code",
   "execution_count": 54,
   "metadata": {
    "execution": {
     "iopub.execute_input": "2022-01-02T15:26:17.022635Z",
     "iopub.status.busy": "2022-01-02T15:26:17.021849Z",
     "iopub.status.idle": "2022-01-02T15:26:17.023960Z",
     "shell.execute_reply": "2022-01-02T15:26:17.024517Z"
    },
    "slideshow": {
     "slide_type": "subslide"
    }
   },
   "outputs": [],
   "source": [
    "def prefix_vars(astnode, prefix):\n",
    "    if isinstance(astnode, ast.BoolOp):\n",
    "        return ast.BoolOp(astnode.op,\n",
    "                          [prefix_vars(i, prefix) for i in astnode.values], [])\n",
    "    elif isinstance(astnode, ast.BinOp):\n",
    "        return ast.BinOp(\n",
    "            prefix_vars(astnode.left, prefix), astnode.op,\n",
    "            prefix_vars(astnode.right, prefix))\n",
    "    elif isinstance(astnode, ast.UnaryOp):\n",
    "        return ast.UnaryOp(astnode.op, prefix_vars(astnode.operand, prefix))\n",
    "    elif isinstance(astnode, ast.Call):\n",
    "        return ast.Call(prefix_vars(astnode.func, prefix),\n",
    "                        [prefix_vars(i, prefix) for i in astnode.args],\n",
    "                        astnode.keywords)\n",
    "    elif isinstance(astnode, ast.Compare):\n",
    "        return ast.Compare(\n",
    "            prefix_vars(astnode.left, prefix), astnode.ops,\n",
    "            [prefix_vars(i, prefix) for i in astnode.comparators])\n",
    "    elif isinstance(astnode, ast.Name):\n",
    "        if astnode.id in {'And', 'Or', 'Not'}:\n",
    "            return ast.Name('z3.%s' % (astnode.id), astnode.ctx)\n",
    "        else:\n",
    "            return ast.Name('%s%s' % (prefix, astnode.id), astnode.ctx)\n",
    "    elif isinstance(astnode, ast.Return):\n",
    "        return ast.Return(prefix_vars(astnode.value, env))\n",
    "    else:\n",
    "        return astnode"
   ]
  },
  {
   "cell_type": "markdown",
   "metadata": {
    "slideshow": {
     "slide_type": "subslide"
    }
   },
   "source": [
    "For applying `prefix_vars()` one needs the AST of Python expression involved.\n",
    "When parsing Python source code, it comes wrapped in a `Module` by default."
   ]
  },
  {
   "cell_type": "code",
   "execution_count": 55,
   "metadata": {
    "execution": {
     "iopub.execute_input": "2022-01-02T15:26:17.029059Z",
     "iopub.status.busy": "2022-01-02T15:26:17.028443Z",
     "iopub.status.idle": "2022-01-02T15:26:17.031346Z",
     "shell.execute_reply": "2022-01-02T15:26:17.031776Z"
    },
    "slideshow": {
     "slide_type": "fragment"
    }
   },
   "outputs": [
    {
     "data": {
      "text/plain": [
       "<ast.Module at 0x10c4a05e0>"
      ]
     },
     "execution_count": 55,
     "metadata": {},
     "output_type": "execute_result"
    }
   ],
   "source": [
    "ast.parse('x+y')"
   ]
  },
  {
   "cell_type": "markdown",
   "metadata": {
    "slideshow": {
     "slide_type": "fragment"
    }
   },
   "source": [
    "Hence, for easier manipulation of expression AST, we define `get_expression()` which unwraps it and returns the AST representation of the expression inside."
   ]
  },
  {
   "cell_type": "code",
   "execution_count": 56,
   "metadata": {
    "execution": {
     "iopub.execute_input": "2022-01-02T15:26:17.035632Z",
     "iopub.status.busy": "2022-01-02T15:26:17.034893Z",
     "iopub.status.idle": "2022-01-02T15:26:17.036790Z",
     "shell.execute_reply": "2022-01-02T15:26:17.037252Z"
    },
    "slideshow": {
     "slide_type": "fragment"
    }
   },
   "outputs": [],
   "source": [
    "def get_expression(src):\n",
    "    return ast.parse(src).body[0].value"
   ]
  },
  {
   "cell_type": "markdown",
   "metadata": {
    "slideshow": {
     "slide_type": "fragment"
    }
   },
   "source": [
    "It is used as follows:"
   ]
  },
  {
   "cell_type": "code",
   "execution_count": 57,
   "metadata": {
    "execution": {
     "iopub.execute_input": "2022-01-02T15:26:17.042230Z",
     "iopub.status.busy": "2022-01-02T15:26:17.041338Z",
     "iopub.status.idle": "2022-01-02T15:26:17.044638Z",
     "shell.execute_reply": "2022-01-02T15:26:17.045019Z"
    },
    "slideshow": {
     "slide_type": "fragment"
    }
   },
   "outputs": [
    {
     "data": {
      "text/plain": [
       "<ast.BinOp at 0x10c4a0a60>"
      ]
     },
     "execution_count": 57,
     "metadata": {},
     "output_type": "execute_result"
    }
   ],
   "source": [
    "e = get_expression('x+y')\n",
    "e"
   ]
  },
  {
   "cell_type": "markdown",
   "metadata": {
    "slideshow": {
     "slide_type": "subslide"
    }
   },
   "source": [
    "The function `to_src()` allows us to *unparse* an expression."
   ]
  },
  {
   "cell_type": "code",
   "execution_count": 58,
   "metadata": {
    "execution": {
     "iopub.execute_input": "2022-01-02T15:26:17.048532Z",
     "iopub.status.busy": "2022-01-02T15:26:17.047899Z",
     "iopub.status.idle": "2022-01-02T15:26:17.049442Z",
     "shell.execute_reply": "2022-01-02T15:26:17.050002Z"
    },
    "slideshow": {
     "slide_type": "fragment"
    }
   },
   "outputs": [],
   "source": [
    "def to_src(astnode):\n",
    "    return ast.unparse(astnode).strip()"
   ]
  },
  {
   "cell_type": "markdown",
   "metadata": {
    "slideshow": {
     "slide_type": "fragment"
    }
   },
   "source": [
    "It is used as follows:"
   ]
  },
  {
   "cell_type": "code",
   "execution_count": 59,
   "metadata": {
    "execution": {
     "iopub.execute_input": "2022-01-02T15:26:17.055150Z",
     "iopub.status.busy": "2022-01-02T15:26:17.054228Z",
     "iopub.status.idle": "2022-01-02T15:26:17.057725Z",
     "shell.execute_reply": "2022-01-02T15:26:17.058122Z"
    },
    "slideshow": {
     "slide_type": "fragment"
    }
   },
   "outputs": [
    {
     "data": {
      "text/plain": [
       "'x + y'"
      ]
     },
     "execution_count": 59,
     "metadata": {},
     "output_type": "execute_result"
    }
   ],
   "source": [
    "to_src(e)"
   ]
  },
  {
   "cell_type": "markdown",
   "metadata": {
    "slideshow": {
     "slide_type": "fragment"
    }
   },
   "source": [
    "We can combine both pieces to produce a prefixed expression as below."
   ]
  },
  {
   "cell_type": "code",
   "execution_count": 60,
   "metadata": {
    "execution": {
     "iopub.execute_input": "2022-01-02T15:26:17.062087Z",
     "iopub.status.busy": "2022-01-02T15:26:17.061308Z",
     "iopub.status.idle": "2022-01-02T15:26:17.067605Z",
     "shell.execute_reply": "2022-01-02T15:26:17.068053Z"
    },
    "slideshow": {
     "slide_type": "fragment"
    }
   },
   "outputs": [
    {
     "name": "stdout",
     "output_type": "stream",
     "text": [
      "z3.Or(z3.And(z3.And(x1_x < 0, x1_v_0 == -x1_x), x1_v == x1_v_0), z3.And(z3.And(z3.Not(x1_x < 0), x1_v_1 == x1_x), x1_v == x1_v_1))\n"
     ]
    }
   ],
   "source": [
    "abs_value_summary_ast = get_expression(str(abs_value_summary))\n",
    "print(to_src(prefix_vars(abs_value_summary_ast, 'x1_')))"
   ]
  },
  {
   "cell_type": "markdown",
   "metadata": {
    "slideshow": {
     "slide_type": "subslide"
    }
   },
   "source": [
    "#### Get Names and Types of Variables Used"
   ]
  },
  {
   "cell_type": "markdown",
   "metadata": {
    "slideshow": {
     "slide_type": "fragment"
    }
   },
   "source": [
    "What about the declarations used? Given that we have all equations in *Z3*, we can retrieve this information directly. We define `z3_names_and_types()` that takes in a *Z3* expression, and extracts the variable definitions required."
   ]
  },
  {
   "cell_type": "code",
   "execution_count": 61,
   "metadata": {
    "execution": {
     "iopub.execute_input": "2022-01-02T15:26:17.073564Z",
     "iopub.status.busy": "2022-01-02T15:26:17.072823Z",
     "iopub.status.idle": "2022-01-02T15:26:17.074719Z",
     "shell.execute_reply": "2022-01-02T15:26:17.075120Z"
    },
    "slideshow": {
     "slide_type": "subslide"
    }
   },
   "outputs": [],
   "source": [
    "def z3_names_and_types(z3_ast):\n",
    "    hm = {}\n",
    "    children = z3_ast.children()\n",
    "    if children:\n",
    "        for c in children:\n",
    "            hm.update(z3_names_and_types(c))\n",
    "    else:\n",
    "        # HACK.. How else to distinguish literals and vars?\n",
    "        if (str(z3_ast.decl()) != str(z3_ast.sort())):\n",
    "            hm[\"%s\" % str(z3_ast.decl())] = 'z3.%s' % str(z3_ast.sort())\n",
    "        else:\n",
    "            pass\n",
    "    return hm"
   ]
  },
  {
   "cell_type": "code",
   "execution_count": 62,
   "metadata": {
    "execution": {
     "iopub.execute_input": "2022-01-02T15:26:17.079293Z",
     "iopub.status.busy": "2022-01-02T15:26:17.078633Z",
     "iopub.status.idle": "2022-01-02T15:26:17.084186Z",
     "shell.execute_reply": "2022-01-02T15:26:17.084617Z"
    },
    "slideshow": {
     "slide_type": "subslide"
    }
   },
   "outputs": [
    {
     "data": {
      "text/plain": [
       "{'x': 'z3.Real', 'v_0': 'z3.Real', 'v': 'z3.Real', 'v_1': 'z3.Real'}"
      ]
     },
     "execution_count": 62,
     "metadata": {},
     "output_type": "execute_result"
    }
   ],
   "source": [
    "abs_value_declarations = z3_names_and_types(abs_value_summary)\n",
    "abs_value_declarations"
   ]
  },
  {
   "cell_type": "markdown",
   "metadata": {
    "slideshow": {
     "slide_type": "fragment"
    }
   },
   "source": [
    "However, `z3_names_and_types()` is limited in that it requires the *Z3* AST to operate. Hence, we also define `used_identifiers()` that can extract  identifiers directly from the string representation of any Python expression, (including *Z3* constraints). One trade-off here is that we lose track of the type information. But we will see how to recover that later."
   ]
  },
  {
   "cell_type": "code",
   "execution_count": 63,
   "metadata": {
    "execution": {
     "iopub.execute_input": "2022-01-02T15:26:17.094230Z",
     "iopub.status.busy": "2022-01-02T15:26:17.093100Z",
     "iopub.status.idle": "2022-01-02T15:26:17.095519Z",
     "shell.execute_reply": "2022-01-02T15:26:17.096364Z"
    },
    "slideshow": {
     "slide_type": "subslide"
    }
   },
   "outputs": [],
   "source": [
    "def used_identifiers(src):\n",
    "    def names(astnode):\n",
    "        lst = []\n",
    "        if isinstance(astnode, ast.BoolOp):\n",
    "            for i in astnode.values:\n",
    "                lst.extend(names(i))\n",
    "        elif isinstance(astnode, ast.BinOp):\n",
    "            lst.extend(names(astnode.left))\n",
    "            lst.extend(names(astnode.right))\n",
    "        elif isinstance(astnode, ast.UnaryOp):\n",
    "            lst.extend(names(astnode.operand))\n",
    "        elif isinstance(astnode, ast.Call):\n",
    "            for i in astnode.args:\n",
    "                lst.extend(names(i))\n",
    "        elif isinstance(astnode, ast.Compare):\n",
    "            lst.extend(names(astnode.left))\n",
    "            for i in astnode.comparators:\n",
    "                lst.extend(names(i))\n",
    "        elif isinstance(astnode, ast.Name):\n",
    "            lst.append(astnode.id)\n",
    "        elif isinstance(astnode, ast.Expr):\n",
    "            lst.extend(names(astnode.value))\n",
    "        elif isinstance(astnode, (ast.Num, ast.Str, ast.Tuple, ast.NameConstant)):\n",
    "            pass\n",
    "        elif isinstance(astnode, ast.Assign):\n",
    "            for t in astnode.targets:\n",
    "                lst.extend(names(t))\n",
    "            lst.extend(names(astnode.value))\n",
    "        elif isinstance(astnode, ast.Module):\n",
    "            for b in astnode.body:\n",
    "                lst.extend(names(b))\n",
    "        else:\n",
    "            raise Exception(str(astnode))\n",
    "        return list(set(lst))\n",
    "    return names(ast.parse(src))"
   ]
  },
  {
   "cell_type": "code",
   "execution_count": 64,
   "metadata": {
    "execution": {
     "iopub.execute_input": "2022-01-02T15:26:17.100508Z",
     "iopub.status.busy": "2022-01-02T15:26:17.099937Z",
     "iopub.status.idle": "2022-01-02T15:26:17.106178Z",
     "shell.execute_reply": "2022-01-02T15:26:17.106629Z"
    },
    "slideshow": {
     "slide_type": "subslide"
    }
   },
   "outputs": [
    {
     "data": {
      "text/plain": [
       "['v_0', 'v', 'v_1', 'x']"
      ]
     },
     "execution_count": 64,
     "metadata": {},
     "output_type": "execute_result"
    }
   ],
   "source": [
    "used_identifiers(str(abs_value_summary))"
   ]
  },
  {
   "cell_type": "markdown",
   "metadata": {
    "slideshow": {
     "slide_type": "fragment"
    }
   },
   "source": [
    "We can now register the function summary `abs_value` for later use."
   ]
  },
  {
   "cell_type": "code",
   "execution_count": 65,
   "metadata": {
    "execution": {
     "iopub.execute_input": "2022-01-02T15:26:17.110667Z",
     "iopub.status.busy": "2022-01-02T15:26:17.110091Z",
     "iopub.status.idle": "2022-01-02T15:26:17.115104Z",
     "shell.execute_reply": "2022-01-02T15:26:17.115548Z"
    },
    "slideshow": {
     "slide_type": "fragment"
    }
   },
   "outputs": [],
   "source": [
    "function_summaries = {}\n",
    "function_summaries['abs_value'] = {\n",
    "    'predicate': str(abs_value_summary),\n",
    "    'vars': abs_value_declarations}"
   ]
  },
  {
   "cell_type": "markdown",
   "metadata": {
    "slideshow": {
     "slide_type": "fragment"
    }
   },
   "source": [
    "As we mentioned previously, we do not want to rely on *Z3* to extract the type information. A better alternative is to let the user specify the type information as annotations, and extract this information from the program. We will see next how this can be achieved.\n",
    "\n",
    "First, we convert the *Python type to Z3 type* map to its string equivalent."
   ]
  },
  {
   "cell_type": "code",
   "execution_count": 66,
   "metadata": {
    "execution": {
     "iopub.execute_input": "2022-01-02T15:26:17.119877Z",
     "iopub.status.busy": "2022-01-02T15:26:17.119331Z",
     "iopub.status.idle": "2022-01-02T15:26:17.121556Z",
     "shell.execute_reply": "2022-01-02T15:26:17.121925Z"
    },
    "slideshow": {
     "slide_type": "subslide"
    }
   },
   "outputs": [
    {
     "data": {
      "text/plain": [
       "{'int': ('z3.Int', 'z3.IntVal'),\n",
       " 'float': ('z3.Real', 'z3.RealVal'),\n",
       " 'str': ('z3.String', 'z3.StringVal')}"
      ]
     },
     "execution_count": 66,
     "metadata": {},
     "output_type": "execute_result"
    }
   ],
   "source": [
    "SYM_VARS_STR = {\n",
    "    k.__name__: (\"z3.%s\" % v1.__name__, \"z3.%s\" % v2.__name__)\n",
    "    for k, (v1, v2) in SYM_VARS.items()\n",
    "}\n",
    "SYM_VARS_STR"
   ]
  },
  {
   "cell_type": "markdown",
   "metadata": {
    "slideshow": {
     "slide_type": "fragment"
    }
   },
   "source": [
    "We also define a convenience method `translate_to_z3_name()` for accessing the *Z3* type for symbolic variables."
   ]
  },
  {
   "cell_type": "code",
   "execution_count": 67,
   "metadata": {
    "execution": {
     "iopub.execute_input": "2022-01-02T15:26:17.125555Z",
     "iopub.status.busy": "2022-01-02T15:26:17.124929Z",
     "iopub.status.idle": "2022-01-02T15:26:17.126801Z",
     "shell.execute_reply": "2022-01-02T15:26:17.127357Z"
    },
    "slideshow": {
     "slide_type": "fragment"
    }
   },
   "outputs": [],
   "source": [
    "def translate_to_z3_name(v):\n",
    "    return SYM_VARS_STR[v][0]"
   ]
  },
  {
   "cell_type": "markdown",
   "metadata": {
    "slideshow": {
     "slide_type": "subslide"
    }
   },
   "source": [
    "We now define the method `declarations()` that extracts variables used in Python _statements_. The idea is to look for augmented assignments that contain annotated type information. These are collected and returned.\n",
    "\n",
    "If there are `call` nodes, they represent function calls. The used variables in these function calls are recovered from the corresponding function summaries."
   ]
  },
  {
   "cell_type": "code",
   "execution_count": 68,
   "metadata": {
    "execution": {
     "iopub.execute_input": "2022-01-02T15:26:17.135564Z",
     "iopub.status.busy": "2022-01-02T15:26:17.134952Z",
     "iopub.status.idle": "2022-01-02T15:26:17.136595Z",
     "shell.execute_reply": "2022-01-02T15:26:17.136975Z"
    },
    "slideshow": {
     "slide_type": "subslide"
    }
   },
   "outputs": [],
   "source": [
    "def declarations(astnode, hm=None):\n",
    "    if hm is None:\n",
    "        hm = {}\n",
    "    if isinstance(astnode, ast.Module):\n",
    "        for b in astnode.body:\n",
    "            declarations(b, hm)\n",
    "    elif isinstance(astnode, ast.FunctionDef):\n",
    "        #hm[astnode.name + '__return__'] = translate_to_z3_name(astnode.returns.id)\n",
    "        for a in astnode.args.args:\n",
    "            hm[a.arg] = translate_to_z3_name(a.annotation.id)\n",
    "        for b in astnode.body:\n",
    "            declarations(b, hm)\n",
    "    elif isinstance(astnode, ast.Call):\n",
    "        # get declarations from the function summary.\n",
    "        n = astnode.function\n",
    "        assert isinstance(n, ast.Name)  # for now.\n",
    "        name = n.id\n",
    "        hm.update(dict(function_summaries[name]['vars']))\n",
    "    elif isinstance(astnode, ast.AnnAssign):\n",
    "        assert isinstance(astnode.target, ast.Name)\n",
    "        hm[astnode.target.id] = translate_to_z3_name(astnode.annotation.id)\n",
    "    elif isinstance(astnode, ast.Assign):\n",
    "        # verify it is already defined\n",
    "        for t in astnode.targets:\n",
    "            assert isinstance(t, ast.Name)\n",
    "            assert t.id in hm\n",
    "    elif isinstance(astnode, ast.AugAssign):\n",
    "        assert isinstance(astnode.target, ast.Name)\n",
    "        assert astnode.target.id in hm\n",
    "    elif isinstance(astnode, (ast.If, ast.For, ast.While)):\n",
    "        for b in astnode.body:\n",
    "            declarations(b, hm)\n",
    "        for b in astnode.orelse:\n",
    "            declarations(b, hm)\n",
    "    elif isinstance(astnode, ast.Return):\n",
    "        pass\n",
    "    else:\n",
    "        raise Exception(str(astnode))\n",
    "    return hm"
   ]
  },
  {
   "cell_type": "markdown",
   "metadata": {
    "slideshow": {
     "slide_type": "subslide"
    }
   },
   "source": [
    "With this, we can now extract the variables used in an expression."
   ]
  },
  {
   "cell_type": "code",
   "execution_count": 69,
   "metadata": {
    "execution": {
     "iopub.execute_input": "2022-01-02T15:26:17.140893Z",
     "iopub.status.busy": "2022-01-02T15:26:17.140304Z",
     "iopub.status.idle": "2022-01-02T15:26:17.142594Z",
     "shell.execute_reply": "2022-01-02T15:26:17.142964Z"
    },
    "slideshow": {
     "slide_type": "fragment"
    }
   },
   "outputs": [
    {
     "data": {
      "text/plain": [
       "{'s': 'z3.Int', 'p': 'z3.Real'}"
      ]
     },
     "execution_count": 69,
     "metadata": {},
     "output_type": "execute_result"
    }
   ],
   "source": [
    "declarations(ast.parse('s: int = 3\\np: float = 4.0\\ns += 1'))"
   ]
  },
  {
   "cell_type": "markdown",
   "metadata": {
    "slideshow": {
     "slide_type": "fragment"
    }
   },
   "source": [
    "We wrap `declarations()` in the method `used_vars()` that operates directly on function objects."
   ]
  },
  {
   "cell_type": "code",
   "execution_count": 70,
   "metadata": {
    "execution": {
     "iopub.execute_input": "2022-01-02T15:26:17.146253Z",
     "iopub.status.busy": "2022-01-02T15:26:17.145740Z",
     "iopub.status.idle": "2022-01-02T15:26:17.147491Z",
     "shell.execute_reply": "2022-01-02T15:26:17.147858Z"
    },
    "slideshow": {
     "slide_type": "fragment"
    }
   },
   "outputs": [],
   "source": [
    "def used_vars(fn):\n",
    "    return declarations(ast.parse(inspect.getsource(fn)))"
   ]
  },
  {
   "cell_type": "markdown",
   "metadata": {
    "slideshow": {
     "slide_type": "fragment"
    }
   },
   "source": [
    "Here is how it can be used:"
   ]
  },
  {
   "cell_type": "code",
   "execution_count": 71,
   "metadata": {
    "execution": {
     "iopub.execute_input": "2022-01-02T15:26:17.151483Z",
     "iopub.status.busy": "2022-01-02T15:26:17.150270Z",
     "iopub.status.idle": "2022-01-02T15:26:17.153621Z",
     "shell.execute_reply": "2022-01-02T15:26:17.153993Z"
    },
    "slideshow": {
     "slide_type": "fragment"
    }
   },
   "outputs": [
    {
     "data": {
      "text/plain": [
       "{'a': 'z3.Int', 'b': 'z3.Int', 'c': 'z3.Int'}"
      ]
     },
     "execution_count": 71,
     "metadata": {},
     "output_type": "execute_result"
    }
   ],
   "source": [
    "used_vars(check_triangle)"
   ]
  },
  {
   "cell_type": "code",
   "execution_count": 72,
   "metadata": {
    "execution": {
     "iopub.execute_input": "2022-01-02T15:26:17.156803Z",
     "iopub.status.busy": "2022-01-02T15:26:17.156248Z",
     "iopub.status.idle": "2022-01-02T15:26:17.158985Z",
     "shell.execute_reply": "2022-01-02T15:26:17.159354Z"
    },
    "slideshow": {
     "slide_type": "fragment"
    }
   },
   "outputs": [
    {
     "data": {
      "text/plain": [
       "{'x': 'z3.Real', 'v': 'z3.Real'}"
      ]
     },
     "execution_count": 72,
     "metadata": {},
     "output_type": "execute_result"
    }
   ],
   "source": [
    "used_vars(abs_value)"
   ]
  },
  {
   "cell_type": "markdown",
   "metadata": {
    "slideshow": {
     "slide_type": "subslide"
    }
   },
   "source": [
    "Given the extracted variables and their *Z3* types, we need a way to reinstantiate them when needed. We define `define_symbolic_vars()` that translates these descriptions to a form that can be directly `exec()`ed."
   ]
  },
  {
   "cell_type": "code",
   "execution_count": 73,
   "metadata": {
    "execution": {
     "iopub.execute_input": "2022-01-02T15:26:17.163123Z",
     "iopub.status.busy": "2022-01-02T15:26:17.162553Z",
     "iopub.status.idle": "2022-01-02T15:26:17.164265Z",
     "shell.execute_reply": "2022-01-02T15:26:17.164706Z"
    },
    "slideshow": {
     "slide_type": "fragment"
    }
   },
   "outputs": [],
   "source": [
    "def define_symbolic_vars(fn_vars, prefix):\n",
    "    sym_var_dec = ', '.join([prefix + n for n in fn_vars])\n",
    "    sym_var_def = ', '.join([\"%s('%s%s')\" % (t, prefix, n)\n",
    "                             for n, t in fn_vars.items()])\n",
    "    return \"%s = %s\" % (sym_var_dec, sym_var_def)"
   ]
  },
  {
   "cell_type": "markdown",
   "metadata": {
    "slideshow": {
     "slide_type": "fragment"
    }
   },
   "source": [
    "Here is how it can be used:"
   ]
  },
  {
   "cell_type": "code",
   "execution_count": 74,
   "metadata": {
    "execution": {
     "iopub.execute_input": "2022-01-02T15:26:17.167965Z",
     "iopub.status.busy": "2022-01-02T15:26:17.167411Z",
     "iopub.status.idle": "2022-01-02T15:26:17.169636Z",
     "shell.execute_reply": "2022-01-02T15:26:17.170063Z"
    },
    "slideshow": {
     "slide_type": "fragment"
    }
   },
   "outputs": [
    {
     "data": {
      "text/plain": [
       "\"x, v_0, v, v_1 = z3.Real('x'), z3.Real('v_0'), z3.Real('v'), z3.Real('v_1')\""
      ]
     },
     "execution_count": 74,
     "metadata": {},
     "output_type": "execute_result"
    }
   ],
   "source": [
    "define_symbolic_vars(abs_value_declarations, '')"
   ]
  },
  {
   "cell_type": "markdown",
   "metadata": {
    "slideshow": {
     "slide_type": "fragment"
    }
   },
   "source": [
    "We next define `gen_fn_summary()` that returns a function summary in instantiable form using *Z3*. "
   ]
  },
  {
   "cell_type": "code",
   "execution_count": 75,
   "metadata": {
    "execution": {
     "iopub.execute_input": "2022-01-02T15:26:17.173756Z",
     "iopub.status.busy": "2022-01-02T15:26:17.173244Z",
     "iopub.status.idle": "2022-01-02T15:26:17.174812Z",
     "shell.execute_reply": "2022-01-02T15:26:17.175250Z"
    },
    "slideshow": {
     "slide_type": "subslide"
    }
   },
   "outputs": [],
   "source": [
    "def gen_fn_summary(prefix, fn):\n",
    "    summary = function_summaries[fn.__name__]['predicate']\n",
    "    fn_vars = function_summaries[fn.__name__]['vars']\n",
    "    decl = define_symbolic_vars(fn_vars, prefix)\n",
    "    summary_ast = get_expression(summary)\n",
    "    return decl, to_src(prefix_vars(summary_ast, prefix))"
   ]
  },
  {
   "cell_type": "markdown",
   "metadata": {
    "slideshow": {
     "slide_type": "fragment"
    }
   },
   "source": [
    "Here is how it can be used:"
   ]
  },
  {
   "cell_type": "code",
   "execution_count": 76,
   "metadata": {
    "execution": {
     "iopub.execute_input": "2022-01-02T15:26:17.178846Z",
     "iopub.status.busy": "2022-01-02T15:26:17.178329Z",
     "iopub.status.idle": "2022-01-02T15:26:17.180477Z",
     "shell.execute_reply": "2022-01-02T15:26:17.180902Z"
    },
    "slideshow": {
     "slide_type": "fragment"
    }
   },
   "outputs": [
    {
     "data": {
      "text/plain": [
       "(\"a_x, a_v_0, a_v, a_v_1 = z3.Real('a_x'), z3.Real('a_v_0'), z3.Real('a_v'), z3.Real('a_v_1')\",\n",
       " 'z3.Or(z3.And(z3.And(a_x < 0, a_v_0 == -a_x), a_v == a_v_0), z3.And(z3.And(z3.Not(a_x < 0), a_v_1 == a_x), a_v == a_v_1))')"
      ]
     },
     "execution_count": 76,
     "metadata": {},
     "output_type": "execute_result"
    }
   ],
   "source": [
    "gen_fn_summary('a_', abs_value)"
   ]
  },
  {
   "cell_type": "code",
   "execution_count": 77,
   "metadata": {
    "execution": {
     "iopub.execute_input": "2022-01-02T15:26:17.184330Z",
     "iopub.status.busy": "2022-01-02T15:26:17.183781Z",
     "iopub.status.idle": "2022-01-02T15:26:17.186177Z",
     "shell.execute_reply": "2022-01-02T15:26:17.186575Z"
    },
    "slideshow": {
     "slide_type": "fragment"
    }
   },
   "outputs": [
    {
     "data": {
      "text/plain": [
       "(\"b_x, b_v_0, b_v, b_v_1 = z3.Real('b_x'), z3.Real('b_v_0'), z3.Real('b_v'), z3.Real('b_v_1')\",\n",
       " 'z3.Or(z3.And(z3.And(b_x < 0, b_v_0 == -b_x), b_v == b_v_0), z3.And(z3.And(z3.Not(b_x < 0), b_v_1 == b_x), b_v == b_v_1))')"
      ]
     },
     "execution_count": 77,
     "metadata": {},
     "output_type": "execute_result"
    }
   ],
   "source": [
    "gen_fn_summary('b_', abs_value)"
   ]
  },
  {
   "cell_type": "markdown",
   "metadata": {
    "slideshow": {
     "slide_type": "fragment"
    }
   },
   "source": [
    "How do we use our function summaries? Here is a function `abs_max()` that uses `abs_value()`."
   ]
  },
  {
   "cell_type": "code",
   "execution_count": 78,
   "metadata": {
    "execution": {
     "iopub.execute_input": "2022-01-02T15:26:17.190814Z",
     "iopub.status.busy": "2022-01-02T15:26:17.190242Z",
     "iopub.status.idle": "2022-01-02T15:26:17.191660Z",
     "shell.execute_reply": "2022-01-02T15:26:17.192102Z"
    },
    "slideshow": {
     "slide_type": "subslide"
    }
   },
   "outputs": [],
   "source": [
    "def abs_max(a: float, b: float):\n",
    "    a1: float = abs_value(a)\n",
    "    b1: float = abs_value(b)\n",
    "    if a1 > b1:\n",
    "        c: float = a1  # type: ignore\n",
    "    else:\n",
    "        c: float = b1  # type: ignore\n",
    "    return c"
   ]
  },
  {
   "cell_type": "markdown",
   "metadata": {
    "slideshow": {
     "slide_type": "fragment"
    }
   },
   "source": [
    "To trace this function symbolically, we first define the two variables `a` and `b`."
   ]
  },
  {
   "cell_type": "code",
   "execution_count": 79,
   "metadata": {
    "execution": {
     "iopub.execute_input": "2022-01-02T15:26:17.195282Z",
     "iopub.status.busy": "2022-01-02T15:26:17.194722Z",
     "iopub.status.idle": "2022-01-02T15:26:17.196814Z",
     "shell.execute_reply": "2022-01-02T15:26:17.197195Z"
    },
    "slideshow": {
     "slide_type": "fragment"
    }
   },
   "outputs": [],
   "source": [
    "a = z3.Real('a')\n",
    "b = z3.Real('b')"
   ]
  },
  {
   "cell_type": "markdown",
   "metadata": {
    "slideshow": {
     "slide_type": "fragment"
    }
   },
   "source": [
    "The `line: 2` contains definition for `a1`, which we define as a symbolic variable."
   ]
  },
  {
   "cell_type": "code",
   "execution_count": 80,
   "metadata": {
    "execution": {
     "iopub.execute_input": "2022-01-02T15:26:17.200355Z",
     "iopub.status.busy": "2022-01-02T15:26:17.199834Z",
     "iopub.status.idle": "2022-01-02T15:26:17.201423Z",
     "shell.execute_reply": "2022-01-02T15:26:17.201952Z"
    },
    "slideshow": {
     "slide_type": "fragment"
    }
   },
   "outputs": [],
   "source": [
    "a1 = z3.Real('a1')"
   ]
  },
  {
   "cell_type": "markdown",
   "metadata": {
    "slideshow": {
     "slide_type": "subslide"
    }
   },
   "source": [
    "We also need to call `abs_value()`, which is accomplished as follows. Since this is the first call to `abs_value()`, we use `abs1` as the prefix."
   ]
  },
  {
   "cell_type": "code",
   "execution_count": 81,
   "metadata": {
    "execution": {
     "iopub.execute_input": "2022-01-02T15:26:17.205839Z",
     "iopub.status.busy": "2022-01-02T15:26:17.205270Z",
     "iopub.status.idle": "2022-01-02T15:26:17.207549Z",
     "shell.execute_reply": "2022-01-02T15:26:17.207923Z"
    },
    "slideshow": {
     "slide_type": "fragment"
    }
   },
   "outputs": [
    {
     "data": {
      "text/plain": [
       "(\"abs1_x, abs1_v_0, abs1_v, abs1_v_1 = z3.Real('abs1_x'), z3.Real('abs1_v_0'), z3.Real('abs1_v'), z3.Real('abs1_v_1')\",\n",
       " 'z3.Or(z3.And(z3.And(abs1_x < 0, abs1_v_0 == -abs1_x), abs1_v == abs1_v_0), z3.And(z3.And(z3.Not(abs1_x < 0), abs1_v_1 == abs1_x), abs1_v == abs1_v_1))')"
      ]
     },
     "execution_count": 81,
     "metadata": {},
     "output_type": "execute_result"
    }
   ],
   "source": [
    "d, v = gen_fn_summary('abs1_', abs_value)\n",
    "d, v"
   ]
  },
  {
   "cell_type": "markdown",
   "metadata": {
    "slideshow": {
     "slide_type": "fragment"
    }
   },
   "source": [
    "We also need to equate the resulting value (`<prefix>_v`) to the symbolic variable `a1` we defined earlier."
   ]
  },
  {
   "cell_type": "code",
   "execution_count": 82,
   "metadata": {
    "execution": {
     "iopub.execute_input": "2022-01-02T15:26:17.211404Z",
     "iopub.status.busy": "2022-01-02T15:26:17.210871Z",
     "iopub.status.idle": "2022-01-02T15:26:17.213421Z",
     "shell.execute_reply": "2022-01-02T15:26:17.213857Z"
    },
    "slideshow": {
     "slide_type": "fragment"
    }
   },
   "outputs": [
    {
     "data": {
      "text/plain": [
       "'l2 = z3.And(a == abs1_x, a1 == abs1_v, z3.Or(z3.And(z3.And(abs1_x < 0, abs1_v_0 == -abs1_x), abs1_v == abs1_v_0), z3.And(z3.And(z3.Not(abs1_x < 0), abs1_v_1 == abs1_x), abs1_v == abs1_v_1)))'"
      ]
     },
     "execution_count": 82,
     "metadata": {},
     "output_type": "execute_result"
    }
   ],
   "source": [
    "l2_src = \"l2 = z3.And(a == abs1_x, a1 == abs1_v, %s)\" % v\n",
    "l2_src"
   ]
  },
  {
   "cell_type": "markdown",
   "metadata": {
    "slideshow": {
     "slide_type": "fragment"
    }
   },
   "source": [
    "Applying both declaration and the assignment."
   ]
  },
  {
   "cell_type": "code",
   "execution_count": 83,
   "metadata": {
    "execution": {
     "iopub.execute_input": "2022-01-02T15:26:17.217962Z",
     "iopub.status.busy": "2022-01-02T15:26:17.216993Z",
     "iopub.status.idle": "2022-01-02T15:26:17.220957Z",
     "shell.execute_reply": "2022-01-02T15:26:17.221344Z"
    },
    "slideshow": {
     "slide_type": "fragment"
    }
   },
   "outputs": [],
   "source": [
    "exec(d)\n",
    "exec(l2_src)"
   ]
  },
  {
   "cell_type": "code",
   "execution_count": 84,
   "metadata": {
    "execution": {
     "iopub.execute_input": "2022-01-02T15:26:17.225656Z",
     "iopub.status.busy": "2022-01-02T15:26:17.224928Z",
     "iopub.status.idle": "2022-01-02T15:26:17.238265Z",
     "shell.execute_reply": "2022-01-02T15:26:17.238737Z"
    },
    "slideshow": {
     "slide_type": "subslide"
    }
   },
   "outputs": [
    {
     "data": {
      "text/html": [
       "a = abs1_x &and;\n",
       "a1 = abs1_v &and;\n",
       "(abs1_x &lt; 0 &and; abs1_v_0 = -abs1_x &and; abs1_v = abs1_v_0 &or;\n",
       " &not;(abs1_x &lt; 0) &and; abs1_v_1 = abs1_x &and; abs1_v = abs1_v_1)"
      ],
      "text/plain": [
       "And(a == abs1_x,\n",
       "    a1 == abs1_v,\n",
       "    Or(And(And(abs1_x < 0, abs1_v_0 == -abs1_x),\n",
       "           abs1_v == abs1_v_0),\n",
       "       And(And(Not(abs1_x < 0), abs1_v_1 == abs1_x),\n",
       "           abs1_v == abs1_v_1)))"
      ]
     },
     "execution_count": 84,
     "metadata": {},
     "output_type": "execute_result"
    }
   ],
   "source": [
    "l2  # type: ignore"
   ]
  },
  {
   "cell_type": "markdown",
   "metadata": {
    "slideshow": {
     "slide_type": "fragment"
    }
   },
   "source": [
    "We need to do the same for `line: 3`, but with `abs2` as the prefix."
   ]
  },
  {
   "cell_type": "code",
   "execution_count": 85,
   "metadata": {
    "execution": {
     "iopub.execute_input": "2022-01-02T15:26:17.243652Z",
     "iopub.status.busy": "2022-01-02T15:26:17.243002Z",
     "iopub.status.idle": "2022-01-02T15:26:17.247190Z",
     "shell.execute_reply": "2022-01-02T15:26:17.247783Z"
    },
    "slideshow": {
     "slide_type": "fragment"
    }
   },
   "outputs": [],
   "source": [
    "b1 = z3.Real('b1')\n",
    "d, v = gen_fn_summary('abs2_', abs_value)\n",
    "l3_src = \"l3_ = z3.And(b == abs2_x, b1 == abs2_v, %s)\" % v\n",
    "exec(d)\n",
    "exec(l3_src)"
   ]
  },
  {
   "cell_type": "code",
   "execution_count": 86,
   "metadata": {
    "execution": {
     "iopub.execute_input": "2022-01-02T15:26:17.251749Z",
     "iopub.status.busy": "2022-01-02T15:26:17.251139Z",
     "iopub.status.idle": "2022-01-02T15:26:17.265562Z",
     "shell.execute_reply": "2022-01-02T15:26:17.265942Z"
    },
    "slideshow": {
     "slide_type": "subslide"
    }
   },
   "outputs": [
    {
     "data": {
      "text/html": [
       "b = abs2_x &and;\n",
       "b1 = abs2_v &and;\n",
       "(abs2_x &lt; 0 &and; abs2_v_0 = -abs2_x &and; abs2_v = abs2_v_0 &or;\n",
       " &not;(abs2_x &lt; 0) &and; abs2_v_1 = abs2_x &and; abs2_v = abs2_v_1)"
      ],
      "text/plain": [
       "And(b == abs2_x,\n",
       "    b1 == abs2_v,\n",
       "    Or(And(And(abs2_x < 0, abs2_v_0 == -abs2_x),\n",
       "           abs2_v == abs2_v_0),\n",
       "       And(And(Not(abs2_x < 0), abs2_v_1 == abs2_x),\n",
       "           abs2_v == abs2_v_1)))"
      ]
     },
     "execution_count": 86,
     "metadata": {},
     "output_type": "execute_result"
    }
   ],
   "source": [
    "l3_  # type: ignore"
   ]
  },
  {
   "cell_type": "markdown",
   "metadata": {
    "slideshow": {
     "slide_type": "fragment"
    }
   },
   "source": [
    "To get the true set of predicates at `line: 3`, we need to add the predicates from `line: 2`."
   ]
  },
  {
   "cell_type": "code",
   "execution_count": 87,
   "metadata": {
    "execution": {
     "iopub.execute_input": "2022-01-02T15:26:17.269358Z",
     "iopub.status.busy": "2022-01-02T15:26:17.268797Z",
     "iopub.status.idle": "2022-01-02T15:26:17.270903Z",
     "shell.execute_reply": "2022-01-02T15:26:17.271341Z"
    },
    "slideshow": {
     "slide_type": "fragment"
    }
   },
   "outputs": [],
   "source": [
    "l3 = z3.And(l2, l3_)  # type: ignore"
   ]
  },
  {
   "cell_type": "code",
   "execution_count": 88,
   "metadata": {
    "execution": {
     "iopub.execute_input": "2022-01-02T15:26:17.274974Z",
     "iopub.status.busy": "2022-01-02T15:26:17.274421Z",
     "iopub.status.idle": "2022-01-02T15:26:17.306548Z",
     "shell.execute_reply": "2022-01-02T15:26:17.307173Z"
    },
    "slideshow": {
     "slide_type": "subslide"
    }
   },
   "outputs": [
    {
     "data": {
      "text/html": [
       "a = abs1_x &and;\n",
       "a1 = abs1_v &and;\n",
       "(abs1_x &lt; 0 &and; abs1_v_0 = -abs1_x &and; abs1_v = abs1_v_0 &or;\n",
       " &not;(abs1_x &lt; 0) &and; abs1_v_1 = abs1_x &and; abs1_v = abs1_v_1) &and;\n",
       "b = abs2_x &and;\n",
       "b1 = abs2_v &and;\n",
       "(abs2_x &lt; 0 &and; abs2_v_0 = -abs2_x &and; abs2_v = abs2_v_0 &or;\n",
       " &not;(abs2_x &lt; 0) &and; abs2_v_1 = abs2_x &and; abs2_v = abs2_v_1)"
      ],
      "text/plain": [
       "And(And(a == abs1_x,\n",
       "        a1 == abs1_v,\n",
       "        Or(And(And(abs1_x < 0, abs1_v_0 == -abs1_x),\n",
       "               abs1_v == abs1_v_0),\n",
       "           And(And(Not(abs1_x < 0), abs1_v_1 == abs1_x),\n",
       "               abs1_v == abs1_v_1))),\n",
       "    And(b == abs2_x,\n",
       "        b1 == abs2_v,\n",
       "        Or(And(And(abs2_x < 0, abs2_v_0 == -abs2_x),\n",
       "               abs2_v == abs2_v_0),\n",
       "           And(And(Not(abs2_x < 0), abs2_v_1 == abs2_x),\n",
       "               abs2_v == abs2_v_1))))"
      ]
     },
     "execution_count": 88,
     "metadata": {},
     "output_type": "execute_result"
    }
   ],
   "source": [
    "l3"
   ]
  },
  {
   "cell_type": "markdown",
   "metadata": {
    "slideshow": {
     "slide_type": "fragment"
    }
   },
   "source": [
    "This equation can be simplified a bit using z3."
   ]
  },
  {
   "cell_type": "code",
   "execution_count": 89,
   "metadata": {
    "execution": {
     "iopub.execute_input": "2022-01-02T15:26:17.311375Z",
     "iopub.status.busy": "2022-01-02T15:26:17.310557Z",
     "iopub.status.idle": "2022-01-02T15:26:17.327379Z",
     "shell.execute_reply": "2022-01-02T15:26:17.327758Z"
    },
    "slideshow": {
     "slide_type": "subslide"
    }
   },
   "outputs": [
    {
     "data": {
      "text/html": [
       "a = abs1_x &and;\n",
       "a1 = abs1_v &and;\n",
       "(&not;(0 &le; abs1_x) &and; abs1_v_0 = -1&middot;abs1_x &and; abs1_v = abs1_v_0 &or;\n",
       " 0 &le; abs1_x &and; abs1_v_1 = abs1_x &and; abs1_v = abs1_v_1) &and;\n",
       "b = abs2_x &and;\n",
       "b1 = abs2_v &and;\n",
       "(&not;(0 &le; abs2_x) &and; abs2_v_0 = -1&middot;abs2_x &and; abs2_v = abs2_v_0 &or;\n",
       " 0 &le; abs2_x &and; abs2_v_1 = abs2_x &and; abs2_v = abs2_v_1)"
      ],
      "text/plain": [
       "And(a == abs1_x,\n",
       "    a1 == abs1_v,\n",
       "    Or(And(Not(0 <= abs1_x),\n",
       "           abs1_v_0 == -1*abs1_x,\n",
       "           abs1_v == abs1_v_0),\n",
       "       And(0 <= abs1_x,\n",
       "           abs1_v_1 == abs1_x,\n",
       "           abs1_v == abs1_v_1)),\n",
       "    b == abs2_x,\n",
       "    b1 == abs2_v,\n",
       "    Or(And(Not(0 <= abs2_x),\n",
       "           abs2_v_0 == -1*abs2_x,\n",
       "           abs2_v == abs2_v_0),\n",
       "       And(0 <= abs2_x,\n",
       "           abs2_v_1 == abs2_x,\n",
       "           abs2_v == abs2_v_1)))"
      ]
     },
     "execution_count": 89,
     "metadata": {},
     "output_type": "execute_result"
    }
   ],
   "source": [
    "z3.simplify(l3)"
   ]
  },
  {
   "cell_type": "markdown",
   "metadata": {
    "slideshow": {
     "slide_type": "subslide"
    }
   },
   "source": [
    "Coming to `line: 4`, we have a condition."
   ]
  },
  {
   "cell_type": "code",
   "execution_count": 90,
   "metadata": {
    "execution": {
     "iopub.execute_input": "2022-01-02T15:26:17.331133Z",
     "iopub.status.busy": "2022-01-02T15:26:17.330574Z",
     "iopub.status.idle": "2022-01-02T15:26:17.332894Z",
     "shell.execute_reply": "2022-01-02T15:26:17.333285Z"
    },
    "slideshow": {
     "slide_type": "fragment"
    }
   },
   "outputs": [],
   "source": [
    "l4_cond = a1 > b1\n",
    "l4 = z3.And(l3, l4_cond)"
   ]
  },
  {
   "cell_type": "markdown",
   "metadata": {
    "slideshow": {
     "slide_type": "fragment"
    }
   },
   "source": [
    "For `line: 5`, we define the symbolic variable `c_0` assuming we took the *IF* branch."
   ]
  },
  {
   "cell_type": "code",
   "execution_count": 91,
   "metadata": {
    "execution": {
     "iopub.execute_input": "2022-01-02T15:26:17.336695Z",
     "iopub.status.busy": "2022-01-02T15:26:17.336095Z",
     "iopub.status.idle": "2022-01-02T15:26:17.338421Z",
     "shell.execute_reply": "2022-01-02T15:26:17.338816Z"
    },
    "slideshow": {
     "slide_type": "fragment"
    }
   },
   "outputs": [],
   "source": [
    "c_0 = z3.Real('c_0')\n",
    "l5 = z3.And(l4, c_0 == a1)"
   ]
  },
  {
   "cell_type": "markdown",
   "metadata": {
    "slideshow": {
     "slide_type": "fragment"
    }
   },
   "source": [
    "For `line: 6`, the *ELSE* branch was taken. So we invert that condition."
   ]
  },
  {
   "cell_type": "code",
   "execution_count": 92,
   "metadata": {
    "execution": {
     "iopub.execute_input": "2022-01-02T15:26:17.342017Z",
     "iopub.status.busy": "2022-01-02T15:26:17.341477Z",
     "iopub.status.idle": "2022-01-02T15:26:17.343492Z",
     "shell.execute_reply": "2022-01-02T15:26:17.343926Z"
    },
    "slideshow": {
     "slide_type": "fragment"
    }
   },
   "outputs": [],
   "source": [
    "l6 = z3.And(l3, z3.Not(l4_cond))"
   ]
  },
  {
   "cell_type": "markdown",
   "metadata": {
    "slideshow": {
     "slide_type": "fragment"
    }
   },
   "source": [
    "For `line: 7`, we define `c_1`."
   ]
  },
  {
   "cell_type": "code",
   "execution_count": 93,
   "metadata": {
    "execution": {
     "iopub.execute_input": "2022-01-02T15:26:17.346919Z",
     "iopub.status.busy": "2022-01-02T15:26:17.346363Z",
     "iopub.status.idle": "2022-01-02T15:26:17.348923Z",
     "shell.execute_reply": "2022-01-02T15:26:17.349413Z"
    },
    "slideshow": {
     "slide_type": "fragment"
    }
   },
   "outputs": [],
   "source": [
    "c_1 = z3.Real('c_1')\n",
    "l7 = z3.And(l6, c_1 == b1)"
   ]
  },
  {
   "cell_type": "code",
   "execution_count": 94,
   "metadata": {
    "execution": {
     "iopub.execute_input": "2022-01-02T15:26:17.352561Z",
     "iopub.status.busy": "2022-01-02T15:26:17.352044Z",
     "iopub.status.idle": "2022-01-02T15:26:17.367932Z",
     "shell.execute_reply": "2022-01-02T15:26:17.368404Z"
    },
    "slideshow": {
     "slide_type": "subslide"
    }
   },
   "outputs": [
    {
     "data": {
      "text/html": [
       "<b>sat</b>"
      ],
      "text/plain": [
       "sat"
      ]
     },
     "execution_count": 94,
     "metadata": {},
     "output_type": "execute_result"
    }
   ],
   "source": [
    "s1 = z3.Solver()\n",
    "s1.add(l5)\n",
    "s1.check()"
   ]
  },
  {
   "cell_type": "code",
   "execution_count": 95,
   "metadata": {
    "execution": {
     "iopub.execute_input": "2022-01-02T15:26:17.372573Z",
     "iopub.status.busy": "2022-01-02T15:26:17.372057Z",
     "iopub.status.idle": "2022-01-02T15:26:17.375653Z",
     "shell.execute_reply": "2022-01-02T15:26:17.376069Z"
    },
    "slideshow": {
     "slide_type": "fragment"
    }
   },
   "outputs": [
    {
     "data": {
      "text/plain": [
       "[(a, 1/2), (a1, 1/2), (b, -1/4), (b1, 1/4), (c_0, 1/2)]"
      ]
     },
     "execution_count": 95,
     "metadata": {},
     "output_type": "execute_result"
    }
   ],
   "source": [
    "m1 = s1.model()\n",
    "sorted([(d, m1[d]) for d in m1.decls() if not d.name(\n",
    ").startswith('abs')], key=lambda x: x[0].name())"
   ]
  },
  {
   "cell_type": "code",
   "execution_count": 96,
   "metadata": {
    "execution": {
     "iopub.execute_input": "2022-01-02T15:26:17.379133Z",
     "iopub.status.busy": "2022-01-02T15:26:17.378597Z",
     "iopub.status.idle": "2022-01-02T15:26:17.394176Z",
     "shell.execute_reply": "2022-01-02T15:26:17.394617Z"
    },
    "slideshow": {
     "slide_type": "fragment"
    }
   },
   "outputs": [
    {
     "data": {
      "text/html": [
       "<b>sat</b>"
      ],
      "text/plain": [
       "sat"
      ]
     },
     "execution_count": 96,
     "metadata": {},
     "output_type": "execute_result"
    }
   ],
   "source": [
    "s2 = z3.Solver()\n",
    "s2.add(l7)\n",
    "s2.check()"
   ]
  },
  {
   "cell_type": "code",
   "execution_count": 97,
   "metadata": {
    "execution": {
     "iopub.execute_input": "2022-01-02T15:26:17.398705Z",
     "iopub.status.busy": "2022-01-02T15:26:17.398077Z",
     "iopub.status.idle": "2022-01-02T15:26:17.401947Z",
     "shell.execute_reply": "2022-01-02T15:26:17.402492Z"
    },
    "slideshow": {
     "slide_type": "subslide"
    }
   },
   "outputs": [
    {
     "data": {
      "text/plain": [
       "[(a, -1/4), (a1, 1/4), (b, 1/4), (b1, 1/4), (c_1, 1/4)]"
      ]
     },
     "execution_count": 97,
     "metadata": {},
     "output_type": "execute_result"
    }
   ],
   "source": [
    "m2 = s2.model()\n",
    "sorted([(d, m2[d]) for d in m2.decls() if not d.name(\n",
    ").startswith('abs')], key=lambda x: x[0].name())"
   ]
  },
  {
   "cell_type": "markdown",
   "metadata": {
    "slideshow": {
     "slide_type": "fragment"
    }
   },
   "source": [
    "What we really want to do is to automate this process, because doing this by hand is tedious and error prone. Essentially, we want the ability to extract *all paths* in the program, and symbolically execute each path, which will generate the inputs required to cover all reachable portions of the program."
   ]
  },
  {
   "cell_type": "markdown",
   "metadata": {
    "slideshow": {
     "slide_type": "slide"
    }
   },
   "source": [
    "## SimpleSymbolicFuzzer"
   ]
  },
  {
   "cell_type": "markdown",
   "metadata": {
    "slideshow": {
     "slide_type": "subslide"
    }
   },
   "source": [
    "We define a simple *symbolic fuzzer* that can generate input values *symbolically* with the following assumptions:\n",
    "\n",
    "* There are no loops in the program\n",
    "* The function is self contained.\n",
    "* No recursion.\n",
    "* No reassignments for variables.\n",
    "\n",
    "The key idea is as follows: We traverse through the control flow graph from the entry point, and generate all possible paths to a given depth. Then we collect constraints that we encountered along the path, and generate inputs that will traverse the program up to that point."
   ]
  },
  {
   "cell_type": "markdown",
   "metadata": {
    "slideshow": {
     "slide_type": "subslide"
    }
   },
   "source": [
    "We build our fuzzer based on the class `Fuzzer`."
   ]
  },
  {
   "cell_type": "code",
   "execution_count": 98,
   "metadata": {
    "execution": {
     "iopub.execute_input": "2022-01-02T15:26:17.405641Z",
     "iopub.status.busy": "2022-01-02T15:26:17.405132Z",
     "iopub.status.idle": "2022-01-02T15:26:17.406775Z",
     "shell.execute_reply": "2022-01-02T15:26:17.407157Z"
    },
    "slideshow": {
     "slide_type": "skip"
    }
   },
   "outputs": [],
   "source": [
    "from Fuzzer import Fuzzer"
   ]
  },
  {
   "cell_type": "markdown",
   "metadata": {
    "slideshow": {
     "slide_type": "fragment"
    }
   },
   "source": [
    "We start by extracting the control flow graph of the function passed. We also provide a hook for child classes to do their processing."
   ]
  },
  {
   "cell_type": "code",
   "execution_count": 99,
   "metadata": {
    "execution": {
     "iopub.execute_input": "2022-01-02T15:26:17.411854Z",
     "iopub.status.busy": "2022-01-02T15:26:17.411334Z",
     "iopub.status.idle": "2022-01-02T15:26:17.412851Z",
     "shell.execute_reply": "2022-01-02T15:26:17.413285Z"
    },
    "slideshow": {
     "slide_type": "subslide"
    }
   },
   "outputs": [],
   "source": [
    "class SimpleSymbolicFuzzer(Fuzzer):\n",
    "    def __init__(self, fn, **kwargs):\n",
    "        self.fn_name = fn.__name__\n",
    "        py_cfg = PyCFG()\n",
    "        py_cfg.gen_cfg(inspect.getsource(fn))\n",
    "        self.fnenter, self.fnexit = py_cfg.functions[self.fn_name]\n",
    "        self.used_variables = used_vars(fn)\n",
    "        self.fn_args = list(inspect.signature(fn).parameters)\n",
    "        self.z3 = z3.Solver()\n",
    "\n",
    "        self.paths = None\n",
    "        self.last_path = None\n",
    "\n",
    "        self.options(kwargs)\n",
    "        self.process()\n",
    "\n",
    "    def process(self):\n",
    "        pass"
   ]
  },
  {
   "cell_type": "markdown",
   "metadata": {
    "slideshow": {
     "slide_type": "subslide"
    }
   },
   "source": [
    "We need a few variables to control how much we are willing to traverse."
   ]
  },
  {
   "cell_type": "markdown",
   "metadata": {
    "slideshow": {
     "slide_type": "fragment"
    }
   },
   "source": [
    "`MAX_DEPTH` is the depth to which one should attempt to trace the execution."
   ]
  },
  {
   "cell_type": "code",
   "execution_count": 100,
   "metadata": {
    "execution": {
     "iopub.execute_input": "2022-01-02T15:26:17.416241Z",
     "iopub.status.busy": "2022-01-02T15:26:17.415699Z",
     "iopub.status.idle": "2022-01-02T15:26:17.417179Z",
     "shell.execute_reply": "2022-01-02T15:26:17.417544Z"
    },
    "slideshow": {
     "slide_type": "fragment"
    }
   },
   "outputs": [],
   "source": [
    "MAX_DEPTH = 100"
   ]
  },
  {
   "cell_type": "markdown",
   "metadata": {
    "slideshow": {
     "slide_type": "fragment"
    }
   },
   "source": [
    "`MAX_TRIES` is the maximum number of attempts we will try to produce a value before giving up."
   ]
  },
  {
   "cell_type": "code",
   "execution_count": 101,
   "metadata": {
    "execution": {
     "iopub.execute_input": "2022-01-02T15:26:17.420341Z",
     "iopub.status.busy": "2022-01-02T15:26:17.419834Z",
     "iopub.status.idle": "2022-01-02T15:26:17.421478Z",
     "shell.execute_reply": "2022-01-02T15:26:17.421844Z"
    },
    "slideshow": {
     "slide_type": "fragment"
    }
   },
   "outputs": [],
   "source": [
    "MAX_TRIES = 100"
   ]
  },
  {
   "cell_type": "markdown",
   "metadata": {
    "slideshow": {
     "slide_type": "fragment"
    }
   },
   "source": [
    "`MAX_ITER` is the number of iterations we will attempt."
   ]
  },
  {
   "cell_type": "code",
   "execution_count": 102,
   "metadata": {
    "execution": {
     "iopub.execute_input": "2022-01-02T15:26:17.424671Z",
     "iopub.status.busy": "2022-01-02T15:26:17.424161Z",
     "iopub.status.idle": "2022-01-02T15:26:17.425777Z",
     "shell.execute_reply": "2022-01-02T15:26:17.426149Z"
    },
    "slideshow": {
     "slide_type": "fragment"
    }
   },
   "outputs": [],
   "source": [
    "MAX_ITER = 100"
   ]
  },
  {
   "cell_type": "markdown",
   "metadata": {
    "slideshow": {
     "slide_type": "fragment"
    }
   },
   "source": [
    "The `options()` method sets these parameters in the fuzzing class."
   ]
  },
  {
   "cell_type": "code",
   "execution_count": 103,
   "metadata": {
    "execution": {
     "iopub.execute_input": "2022-01-02T15:26:17.429777Z",
     "iopub.status.busy": "2022-01-02T15:26:17.429267Z",
     "iopub.status.idle": "2022-01-02T15:26:17.430847Z",
     "shell.execute_reply": "2022-01-02T15:26:17.431277Z"
    },
    "slideshow": {
     "slide_type": "subslide"
    }
   },
   "outputs": [],
   "source": [
    "class SimpleSymbolicFuzzer(SimpleSymbolicFuzzer):\n",
    "    def options(self, kwargs):\n",
    "        self.max_depth = kwargs.get('max_depth', MAX_DEPTH)\n",
    "        self.max_tries = kwargs.get('max_tries', MAX_TRIES)\n",
    "        self.max_iter = kwargs.get('max_iter', MAX_ITER)\n",
    "        self._options = kwargs"
   ]
  },
  {
   "cell_type": "markdown",
   "metadata": {
    "slideshow": {
     "slide_type": "fragment"
    }
   },
   "source": [
    "The initialization generates a control flow graph and hooks it to `fnenter` and `fnexit`."
   ]
  },
  {
   "cell_type": "code",
   "execution_count": 104,
   "metadata": {
    "execution": {
     "iopub.execute_input": "2022-01-02T15:26:17.434625Z",
     "iopub.status.busy": "2022-01-02T15:26:17.433674Z",
     "iopub.status.idle": "2022-01-02T15:26:17.437014Z",
     "shell.execute_reply": "2022-01-02T15:26:17.437563Z"
    },
    "slideshow": {
     "slide_type": "fragment"
    }
   },
   "outputs": [],
   "source": [
    "symfz_ct = SimpleSymbolicFuzzer(check_triangle)"
   ]
  },
  {
   "cell_type": "code",
   "execution_count": 105,
   "metadata": {
    "execution": {
     "iopub.execute_input": "2022-01-02T15:26:17.441278Z",
     "iopub.status.busy": "2022-01-02T15:26:17.440653Z",
     "iopub.status.idle": "2022-01-02T15:26:17.443189Z",
     "shell.execute_reply": "2022-01-02T15:26:17.443564Z"
    },
    "slideshow": {
     "slide_type": "fragment"
    }
   },
   "outputs": [
    {
     "data": {
      "text/plain": [
       "(id:9 line[1] parents: [] : enter: check_triangle(a, b, c),\n",
       " id:10 line[1] parents: [14, 15, 16, 19, 20, 21] : exit: check_triangle(a, b, c))"
      ]
     },
     "execution_count": 105,
     "metadata": {},
     "output_type": "execute_result"
    }
   ],
   "source": [
    "symfz_ct.fnenter, symfz_ct.fnexit"
   ]
  },
  {
   "cell_type": "markdown",
   "metadata": {
    "slideshow": {
     "slide_type": "subslide"
    }
   },
   "source": [
    "### Generating All Possible Paths\n",
    "We can use the procedure `get_all_paths()` starting from `fnenter` to recursively retrieve all paths in the function.\n",
    "\n",
    "The idea is as follows: Start with the function entry point `fnenter`, and recursively follow the children using the CFG. At any node there is a branching, there would be multiple children. On other nodes there would be only one child. Let us say a node had $n$ children. Such a node would result in $n$ paths. We attach the current node to the head of each paths, and return all paths thus generated."
   ]
  },
  {
   "cell_type": "code",
   "execution_count": 106,
   "metadata": {
    "execution": {
     "iopub.execute_input": "2022-01-02T15:26:17.448443Z",
     "iopub.status.busy": "2022-01-02T15:26:17.447920Z",
     "iopub.status.idle": "2022-01-02T15:26:17.449739Z",
     "shell.execute_reply": "2022-01-02T15:26:17.450153Z"
    },
    "slideshow": {
     "slide_type": "subslide"
    }
   },
   "outputs": [],
   "source": [
    "class SimpleSymbolicFuzzer(SimpleSymbolicFuzzer):\n",
    "    def get_all_paths(self, fenter, depth=0):\n",
    "        if depth > self.max_depth:\n",
    "            raise Exception('Maximum depth exceeded')\n",
    "        if not fenter.children:\n",
    "            return [[(0, fenter)]]\n",
    "\n",
    "        fnpaths = []\n",
    "        for idx, child in enumerate(fenter.children):\n",
    "            child_paths = self.get_all_paths(child, depth + 1)\n",
    "            for path in child_paths:\n",
    "                # In a conditional branch, idx is 0 for IF, and 1 for Else\n",
    "                fnpaths.append([(idx, fenter)] + path)\n",
    "        return fnpaths"
   ]
  },
  {
   "cell_type": "markdown",
   "metadata": {
    "slideshow": {
     "slide_type": "fragment"
    }
   },
   "source": [
    "This can be used as follows."
   ]
  },
  {
   "cell_type": "code",
   "execution_count": 107,
   "metadata": {
    "execution": {
     "iopub.execute_input": "2022-01-02T15:26:17.454579Z",
     "iopub.status.busy": "2022-01-02T15:26:17.453999Z",
     "iopub.status.idle": "2022-01-02T15:26:17.456707Z",
     "shell.execute_reply": "2022-01-02T15:26:17.457330Z"
    },
    "slideshow": {
     "slide_type": "subslide"
    }
   },
   "outputs": [],
   "source": [
    "symfz_ct = SimpleSymbolicFuzzer(check_triangle)\n",
    "all_paths = symfz_ct.get_all_paths(symfz_ct.fnenter)"
   ]
  },
  {
   "cell_type": "code",
   "execution_count": 108,
   "metadata": {
    "execution": {
     "iopub.execute_input": "2022-01-02T15:26:17.461038Z",
     "iopub.status.busy": "2022-01-02T15:26:17.460510Z",
     "iopub.status.idle": "2022-01-02T15:26:17.462774Z",
     "shell.execute_reply": "2022-01-02T15:26:17.463149Z"
    },
    "slideshow": {
     "slide_type": "fragment"
    }
   },
   "outputs": [
    {
     "data": {
      "text/plain": [
       "6"
      ]
     },
     "execution_count": 108,
     "metadata": {},
     "output_type": "execute_result"
    }
   ],
   "source": [
    "len(all_paths)"
   ]
  },
  {
   "cell_type": "code",
   "execution_count": 109,
   "metadata": {
    "execution": {
     "iopub.execute_input": "2022-01-02T15:26:17.466909Z",
     "iopub.status.busy": "2022-01-02T15:26:17.466370Z",
     "iopub.status.idle": "2022-01-02T15:26:17.468607Z",
     "shell.execute_reply": "2022-01-02T15:26:17.469042Z"
    },
    "slideshow": {
     "slide_type": "fragment"
    }
   },
   "outputs": [
    {
     "data": {
      "text/plain": [
       "[(0, id:24 line[1] parents: [] : enter: check_triangle(a, b, c)),\n",
       " (0, id:26 line[2] parents: [24] : _if: a == b),\n",
       " (0, id:27 line[3] parents: [26] : _if: a == c),\n",
       " (1, id:28 line[4] parents: [27] : _if: b == c),\n",
       " (0, id:30 line[7] parents: [28] : return 'Isosceles'),\n",
       " (0,\n",
       "  id:25 line[1] parents: [29, 30, 31, 34, 35, 36] : exit: check_triangle(a, b, c))]"
      ]
     },
     "execution_count": 109,
     "metadata": {},
     "output_type": "execute_result"
    }
   ],
   "source": [
    "all_paths[1]"
   ]
  },
  {
   "cell_type": "markdown",
   "metadata": {
    "slideshow": {
     "slide_type": "fragment"
    }
   },
   "source": [
    "We hook `get_all_paths()` to initialization as below."
   ]
  },
  {
   "cell_type": "code",
   "execution_count": 110,
   "metadata": {
    "execution": {
     "iopub.execute_input": "2022-01-02T15:26:17.472666Z",
     "iopub.status.busy": "2022-01-02T15:26:17.472140Z",
     "iopub.status.idle": "2022-01-02T15:26:17.473700Z",
     "shell.execute_reply": "2022-01-02T15:26:17.474136Z"
    },
    "slideshow": {
     "slide_type": "subslide"
    }
   },
   "outputs": [],
   "source": [
    "class SimpleSymbolicFuzzer(SimpleSymbolicFuzzer):\n",
    "    def process(self):\n",
    "        self.paths = self.get_all_paths(self.fnenter)\n",
    "        self.last_path = len(self.paths)"
   ]
  },
  {
   "cell_type": "markdown",
   "metadata": {
    "slideshow": {
     "slide_type": "subslide"
    }
   },
   "source": [
    "### Extracting All Constraints\n",
    "\n",
    "For any given path, we define a function `extract_constraints()` to extract the constraints such that they are executable directly with *Z3*. The `idx` represents the particular branch that was taken. Hence, if the `False` branch was taken in a conditional, we attach a negation of the conditional."
   ]
  },
  {
   "cell_type": "code",
   "execution_count": 111,
   "metadata": {
    "execution": {
     "iopub.execute_input": "2022-01-02T15:26:17.480306Z",
     "iopub.status.busy": "2022-01-02T15:26:17.479791Z",
     "iopub.status.idle": "2022-01-02T15:26:17.481475Z",
     "shell.execute_reply": "2022-01-02T15:26:17.482006Z"
    },
    "slideshow": {
     "slide_type": "subslide"
    }
   },
   "outputs": [],
   "source": [
    "class SimpleSymbolicFuzzer(SimpleSymbolicFuzzer):\n",
    "    def extract_constraints(self, path):\n",
    "        predicates = []\n",
    "        for (idx, elt) in path:\n",
    "            if isinstance(elt.ast_node, ast.AnnAssign):\n",
    "                if elt.ast_node.target.id in {'_if', '_while'}:\n",
    "                    s = to_src(elt.ast_node.annotation)\n",
    "                    predicates.append((\"%s\" if idx == 0 else \"z3.Not(%s)\") % s)\n",
    "                elif isinstance(elt.ast_node.annotation, ast.Call):\n",
    "                    assert elt.ast_node.annotation.func.id == self.fn_name\n",
    "                else:\n",
    "                    node = elt.ast_node\n",
    "                    t = ast.Compare(node.target, [ast.Eq()], [node.value])\n",
    "                    predicates.append(to_src(t))\n",
    "            elif isinstance(elt.ast_node, ast.Assign):\n",
    "                node = elt.ast_node\n",
    "                t = ast.Compare(node.targets[0], [ast.Eq()], [node.value])\n",
    "                predicates.append(to_src(t))\n",
    "            else:\n",
    "                pass\n",
    "        return predicates"
   ]
  },
  {
   "cell_type": "code",
   "execution_count": 112,
   "metadata": {
    "execution": {
     "iopub.execute_input": "2022-01-02T15:26:17.487135Z",
     "iopub.status.busy": "2022-01-02T15:26:17.484846Z",
     "iopub.status.idle": "2022-01-02T15:26:17.489671Z",
     "shell.execute_reply": "2022-01-02T15:26:17.490088Z"
    },
    "slideshow": {
     "slide_type": "subslide"
    }
   },
   "outputs": [
    {
     "data": {
      "text/plain": [
       "['a == b', 'a == c', 'b == c']"
      ]
     },
     "execution_count": 112,
     "metadata": {},
     "output_type": "execute_result"
    }
   ],
   "source": [
    "symfz_ct = SimpleSymbolicFuzzer(check_triangle)\n",
    "all_paths = symfz_ct.get_all_paths(symfz_ct.fnenter)\n",
    "symfz_ct.extract_constraints(all_paths[0])"
   ]
  },
  {
   "cell_type": "code",
   "execution_count": 113,
   "metadata": {
    "execution": {
     "iopub.execute_input": "2022-01-02T15:26:17.494247Z",
     "iopub.status.busy": "2022-01-02T15:26:17.493665Z",
     "iopub.status.idle": "2022-01-02T15:26:17.496016Z",
     "shell.execute_reply": "2022-01-02T15:26:17.496382Z"
    },
    "slideshow": {
     "slide_type": "fragment"
    }
   },
   "outputs": [
    {
     "data": {
      "text/plain": [
       "['a == b', 'a == c', 'z3.Not(b == c)']"
      ]
     },
     "execution_count": 113,
     "metadata": {},
     "output_type": "execute_result"
    }
   ],
   "source": [
    "constraints = symfz_ct.extract_constraints(all_paths[1])\n",
    "constraints"
   ]
  },
  {
   "cell_type": "markdown",
   "metadata": {
    "slideshow": {
     "slide_type": "subslide"
    }
   },
   "source": [
    "### Fuzzing with Simple Symbolic Fuzzer\n",
    "\n",
    "To actually generate solutions, we define `fuzz()`. For that, we need to first extract all paths. Then choose a particular path, and extract the constraints in that path, which is then solved using *z3*."
   ]
  },
  {
   "cell_type": "code",
   "execution_count": 114,
   "metadata": {
    "execution": {
     "iopub.execute_input": "2022-01-02T15:26:17.499499Z",
     "iopub.status.busy": "2022-01-02T15:26:17.498921Z",
     "iopub.status.idle": "2022-01-02T15:26:17.500741Z",
     "shell.execute_reply": "2022-01-02T15:26:17.501181Z"
    },
    "slideshow": {
     "slide_type": "skip"
    }
   },
   "outputs": [],
   "source": [
    "from contextlib import contextmanager"
   ]
  },
  {
   "cell_type": "markdown",
   "metadata": {
    "slideshow": {
     "slide_type": "fragment"
    }
   },
   "source": [
    "First we create a checkpoint for our current solver so that we can check a predicate, and rollback if necessary."
   ]
  },
  {
   "cell_type": "code",
   "execution_count": 115,
   "metadata": {
    "execution": {
     "iopub.execute_input": "2022-01-02T15:26:17.504511Z",
     "iopub.status.busy": "2022-01-02T15:26:17.503960Z",
     "iopub.status.idle": "2022-01-02T15:26:17.505816Z",
     "shell.execute_reply": "2022-01-02T15:26:17.506198Z"
    },
    "slideshow": {
     "slide_type": "fragment"
    }
   },
   "outputs": [],
   "source": [
    "@contextmanager\n",
    "def checkpoint(z3solver):\n",
    "    z3solver.push()\n",
    "    yield z3solver\n",
    "    z3solver.pop()"
   ]
  },
  {
   "cell_type": "markdown",
   "metadata": {
    "slideshow": {
     "slide_type": "subslide"
    }
   },
   "source": [
    "The `use_path()` function extracts constraints for a single function, applies it to our current solver (under a checkpoint), and returns the results if some solutions can be found.\n",
    "If solutions were found, we also make sure that we never reuse those solutions."
   ]
  },
  {
   "cell_type": "code",
   "execution_count": 116,
   "metadata": {
    "execution": {
     "iopub.execute_input": "2022-01-02T15:26:17.511925Z",
     "iopub.status.busy": "2022-01-02T15:26:17.511408Z",
     "iopub.status.idle": "2022-01-02T15:26:17.513053Z",
     "shell.execute_reply": "2022-01-02T15:26:17.513422Z"
    },
    "slideshow": {
     "slide_type": "subslide"
    }
   },
   "outputs": [],
   "source": [
    "class SimpleSymbolicFuzzer(SimpleSymbolicFuzzer):\n",
    "    def solve_path_constraint(self, path):\n",
    "        # re-initializing does not seem problematic.\n",
    "        # a = z3.Int('a').get_id() remains the same.\n",
    "        constraints = self.extract_constraints(path)\n",
    "        decl = define_symbolic_vars(self.used_variables, '')\n",
    "        exec(decl)\n",
    "\n",
    "        solutions = {}\n",
    "        with checkpoint(self.z3):\n",
    "            st = 'self.z3.add(%s)' % ', '.join(constraints)\n",
    "            eval(st)\n",
    "            if self.z3.check() != z3.sat:\n",
    "                return {}\n",
    "            m = self.z3.model()\n",
    "            solutions = {d.name(): m[d] for d in m.decls()}\n",
    "            my_args = {k: solutions.get(k, None) for k in self.fn_args}\n",
    "        predicate = 'z3.And(%s)' % ','.join(\n",
    "            [\"%s == %s\" % (k, v) for k, v in my_args.items()])\n",
    "        eval('self.z3.add(z3.Not(%s))' % predicate)\n",
    "        return my_args"
   ]
  },
  {
   "cell_type": "markdown",
   "metadata": {
    "slideshow": {
     "slide_type": "subslide"
    }
   },
   "source": [
    "We define `get_path()` that retrieves the current path and updates the path used."
   ]
  },
  {
   "cell_type": "code",
   "execution_count": 117,
   "metadata": {
    "execution": {
     "iopub.execute_input": "2022-01-02T15:26:17.517252Z",
     "iopub.status.busy": "2022-01-02T15:26:17.516733Z",
     "iopub.status.idle": "2022-01-02T15:26:17.518374Z",
     "shell.execute_reply": "2022-01-02T15:26:17.518741Z"
    },
    "slideshow": {
     "slide_type": "fragment"
    }
   },
   "outputs": [],
   "source": [
    "class SimpleSymbolicFuzzer(SimpleSymbolicFuzzer):\n",
    "    def get_next_path(self):\n",
    "        self.last_path -= 1\n",
    "        if self.last_path == -1:\n",
    "            self.last_path = len(self.paths) - 1\n",
    "        return self.paths[self.last_path]"
   ]
  },
  {
   "cell_type": "markdown",
   "metadata": {
    "slideshow": {
     "slide_type": "fragment"
    }
   },
   "source": [
    "The `fuzz()` method simply solves each path in order."
   ]
  },
  {
   "cell_type": "code",
   "execution_count": 118,
   "metadata": {
    "execution": {
     "iopub.execute_input": "2022-01-02T15:26:17.522436Z",
     "iopub.status.busy": "2022-01-02T15:26:17.521897Z",
     "iopub.status.idle": "2022-01-02T15:26:17.523335Z",
     "shell.execute_reply": "2022-01-02T15:26:17.523767Z"
    },
    "slideshow": {
     "slide_type": "subslide"
    }
   },
   "outputs": [],
   "source": [
    "class SimpleSymbolicFuzzer(SimpleSymbolicFuzzer):\n",
    "    def fuzz(self):\n",
    "        for i in range(self.max_tries):\n",
    "            res = self.solve_path_constraint(self.get_next_path())\n",
    "            if res:\n",
    "                return res\n",
    "        return {}"
   ]
  },
  {
   "cell_type": "markdown",
   "metadata": {
    "slideshow": {
     "slide_type": "fragment"
    }
   },
   "source": [
    "The fuzzer can be used as follows."
   ]
  },
  {
   "cell_type": "code",
   "execution_count": 119,
   "metadata": {
    "execution": {
     "iopub.execute_input": "2022-01-02T15:26:17.527400Z",
     "iopub.status.busy": "2022-01-02T15:26:17.526894Z",
     "iopub.status.idle": "2022-01-02T15:26:17.557753Z",
     "shell.execute_reply": "2022-01-02T15:26:17.558127Z"
    },
    "slideshow": {
     "slide_type": "subslide"
    }
   },
   "outputs": [
    {
     "name": "stdout",
     "output_type": "stream",
     "text": [
      "{'a': 0, 'b': 1, 'c': 1} result: Isosceles\n",
      "{'a': 1, 'b': 3, 'c': 2} result: Scalene\n",
      "{'a': 0, 'b': 2, 'c': 0} result: Isosceles\n",
      "{'a': 3, 'b': 3, 'c': 0} result: Isosceles\n",
      "{'a': 2, 'b': 2, 'c': 2} result: Equilateral\n",
      "{'a': 1, 'b': 3, 'c': 3} result: Isosceles\n",
      "{'a': 1, 'b': 5, 'c': 4} result: Scalene\n",
      "{'a': 0, 'b': 4, 'c': 0} result: Isosceles\n",
      "{'a': 5, 'b': 5, 'c': 0} result: Isosceles\n"
     ]
    }
   ],
   "source": [
    "a, b, c = None, None, None\n",
    "symfz_ct = SimpleSymbolicFuzzer(check_triangle)\n",
    "for i in range(1, 10):\n",
    "    r = symfz_ct.fuzz()\n",
    "    v = check_triangle(r['a'].as_long(), r['b'].as_long(), r['c'].as_long())\n",
    "    print(r, \"result:\", v)"
   ]
  },
  {
   "cell_type": "code",
   "execution_count": 120,
   "metadata": {
    "execution": {
     "iopub.execute_input": "2022-01-02T15:26:17.561704Z",
     "iopub.status.busy": "2022-01-02T15:26:17.561159Z",
     "iopub.status.idle": "2022-01-02T15:26:17.586080Z",
     "shell.execute_reply": "2022-01-02T15:26:17.586520Z"
    },
    "slideshow": {
     "slide_type": "subslide"
    }
   },
   "outputs": [
    {
     "name": "stdout",
     "output_type": "stream",
     "text": [
      "{'x': 0} result: 0.0\n",
      "{'x': -1} result: 1.0\n",
      "{'x': 1} result: 1.0\n",
      "{'x': -2} result: 2.0\n",
      "{'x': 2} result: 2.0\n",
      "{'x': -3/2} result: 1.5\n",
      "{'x': 3/2} result: 1.5\n",
      "{'x': -1/2} result: 0.5\n",
      "{'x': 5/4} result: 1.25\n"
     ]
    }
   ],
   "source": [
    "symfz_av = SimpleSymbolicFuzzer(abs_value)\n",
    "for i in range(1, 10):\n",
    "    r = symfz_av.fuzz()\n",
    "    v = abs_value(r['x'].numerator_as_long() / r['x'].denominator_as_long())\n",
    "    print(r, \"result:\", v)"
   ]
  },
  {
   "cell_type": "markdown",
   "metadata": {
    "slideshow": {
     "slide_type": "subslide"
    }
   },
   "source": [
    "The _SimpleSymbolicFuzzer_ seems to work well for the _simple_ programs we checked above."
   ]
  },
  {
   "cell_type": "markdown",
   "metadata": {
    "slideshow": {
     "slide_type": "subslide"
    }
   },
   "source": [
    "### Problems with the Simple Fuzzer\n",
    "\n",
    "As we mentioned earlier, the `SimpleSymbolicFuzzer` cannot yet deal with variable reassignments. Further, it also fails to account for any loops. For example, consider the following program."
   ]
  },
  {
   "cell_type": "code",
   "execution_count": 121,
   "metadata": {
    "execution": {
     "iopub.execute_input": "2022-01-02T15:26:17.590513Z",
     "iopub.status.busy": "2022-01-02T15:26:17.590004Z",
     "iopub.status.idle": "2022-01-02T15:26:17.591821Z",
     "shell.execute_reply": "2022-01-02T15:26:17.592189Z"
    },
    "slideshow": {
     "slide_type": "subslide"
    }
   },
   "outputs": [],
   "source": [
    "def gcd(a: int, b: int) -> int:\n",
    "    if a < b:\n",
    "        c: int = a  # type: ignore\n",
    "        a = b\n",
    "        b = c\n",
    "\n",
    "    while b != 0:\n",
    "        c: int = a  # type: ignore\n",
    "        a = b\n",
    "        b = c % b\n",
    "    return a"
   ]
  },
  {
   "cell_type": "code",
   "execution_count": 122,
   "metadata": {
    "execution": {
     "iopub.execute_input": "2022-01-02T15:26:17.596925Z",
     "iopub.status.busy": "2022-01-02T15:26:17.596410Z",
     "iopub.status.idle": "2022-01-02T15:26:18.009796Z",
     "shell.execute_reply": "2022-01-02T15:26:18.010501Z"
    },
    "slideshow": {
     "slide_type": "fragment"
    }
   },
   "outputs": [
    {
     "data": {
      "image/svg+xml": [
       "<?xml version=\"1.0\" encoding=\"UTF-8\" standalone=\"no\"?>\n",
       "<!DOCTYPE svg PUBLIC \"-//W3C//DTD SVG 1.1//EN\"\n",
       " \"http://www.w3.org/Graphics/SVG/1.1/DTD/svg11.dtd\">\n",
       "<!-- Generated by graphviz version 2.49.3 (20211023.0002)\n",
       " -->\n",
       "<!-- Pages: 1 -->\n",
       "<svg width=\"288pt\" height=\"672pt\"\n",
       " viewBox=\"0.00 0.00 287.52 672.00\" xmlns=\"http://www.w3.org/2000/svg\" xmlns:xlink=\"http://www.w3.org/1999/xlink\">\n",
       "<g id=\"graph0\" class=\"graph\" transform=\"scale(1 1) rotate(0) translate(4 668)\">\n",
       "<polygon fill=\"white\" stroke=\"transparent\" points=\"-4,4 -4,-668 283.52,-668 283.52,4 -4,4\"/>\n",
       "<!-- 1 -->\n",
       "<g id=\"node1\" class=\"node\">\n",
       "<title>1</title>\n",
       "<ellipse fill=\"none\" stroke=\"black\" cx=\"175.84\" cy=\"-642\" rx=\"75.29\" ry=\"18\"/>\n",
       "<ellipse fill=\"none\" stroke=\"black\" cx=\"175.84\" cy=\"-642\" rx=\"79.29\" ry=\"22\"/>\n",
       "<text text-anchor=\"middle\" x=\"175.84\" y=\"-638.3\" font-family=\"Times,serif\" font-size=\"14.00\">1: enter: gcd(a, b)</text>\n",
       "</g>\n",
       "<!-- 3 -->\n",
       "<g id=\"node4\" class=\"node\">\n",
       "<title>3</title>\n",
       "<polygon fill=\"none\" stroke=\"black\" points=\"175.84,-583 106.97,-565 175.84,-547 244.72,-565 175.84,-583\"/>\n",
       "<text text-anchor=\"middle\" x=\"175.84\" y=\"-561.3\" font-family=\"Times,serif\" font-size=\"14.00\">2: if: a &lt; b</text>\n",
       "</g>\n",
       "<!-- 1&#45;&gt;3 -->\n",
       "<g id=\"edge2\" class=\"edge\">\n",
       "<title>1&#45;&gt;3</title>\n",
       "<path fill=\"none\" stroke=\"black\" d=\"M175.84,-619.71C175.84,-611.46 175.84,-601.91 175.84,-593.17\"/>\n",
       "<polygon fill=\"black\" stroke=\"black\" points=\"179.34,-593.06 175.84,-583.06 172.34,-593.06 179.34,-593.06\"/>\n",
       "</g>\n",
       "<!-- 2 -->\n",
       "<g id=\"node2\" class=\"node\">\n",
       "<title>2</title>\n",
       "<ellipse fill=\"none\" stroke=\"black\" cx=\"74.84\" cy=\"-95\" rx=\"70.7\" ry=\"18\"/>\n",
       "<ellipse fill=\"none\" stroke=\"black\" cx=\"74.84\" cy=\"-95\" rx=\"74.69\" ry=\"22\"/>\n",
       "<text text-anchor=\"middle\" x=\"74.84\" y=\"-91.3\" font-family=\"Times,serif\" font-size=\"14.00\">1: exit: gcd(a, b)</text>\n",
       "</g>\n",
       "<!-- 11 -->\n",
       "<g id=\"node3\" class=\"node\">\n",
       "<title>11</title>\n",
       "<polygon fill=\"none\" stroke=\"black\" points=\"115.34,-190 34.34,-190 34.34,-154 115.34,-154 115.34,-190\"/>\n",
       "<text text-anchor=\"middle\" x=\"74.84\" y=\"-168.3\" font-family=\"Times,serif\" font-size=\"14.00\">11: return a</text>\n",
       "</g>\n",
       "<!-- 11&#45;&gt;2 -->\n",
       "<g id=\"edge1\" class=\"edge\">\n",
       "<title>11&#45;&gt;2</title>\n",
       "<path fill=\"none\" stroke=\"black\" d=\"M74.84,-153.98C74.84,-146.15 74.84,-136.61 74.84,-127.54\"/>\n",
       "<polygon fill=\"black\" stroke=\"black\" points=\"78.34,-127.24 74.84,-117.24 71.34,-127.24 78.34,-127.24\"/>\n",
       "</g>\n",
       "<!-- 4 -->\n",
       "<g id=\"node5\" class=\"node\">\n",
       "<title>4</title>\n",
       "<ellipse fill=\"none\" stroke=\"black\" cx=\"135.84\" cy=\"-478\" rx=\"51.99\" ry=\"18\"/>\n",
       "<text text-anchor=\"middle\" x=\"135.84\" y=\"-474.3\" font-family=\"Times,serif\" font-size=\"14.00\">3: c: int = a</text>\n",
       "</g>\n",
       "<!-- 3&#45;&gt;4 -->\n",
       "<g id=\"edge3\" class=\"edge\">\n",
       "<title>3&#45;&gt;4</title>\n",
       "<path fill=\"none\" stroke=\"blue\" d=\"M168.69,-548.8C163,-536.7 154.89,-519.47 148.15,-505.16\"/>\n",
       "<polygon fill=\"blue\" stroke=\"blue\" points=\"151.18,-503.37 143.76,-495.81 144.85,-506.35 151.18,-503.37\"/>\n",
       "<text text-anchor=\"middle\" x=\"163.34\" y=\"-517.8\" font-family=\"Times,serif\" font-size=\"14.00\">T</text>\n",
       "</g>\n",
       "<!-- 7 -->\n",
       "<g id=\"node8\" class=\"node\">\n",
       "<title>7</title>\n",
       "<polygon fill=\"none\" stroke=\"black\" points=\"184.84,-277 90,-259 184.84,-241 279.69,-259 184.84,-277\"/>\n",
       "<text text-anchor=\"middle\" x=\"184.84\" y=\"-255.3\" font-family=\"Times,serif\" font-size=\"14.00\">7: while: b != 0</text>\n",
       "</g>\n",
       "<!-- 3&#45;&gt;7 -->\n",
       "<g id=\"edge7\" class=\"edge\">\n",
       "<title>3&#45;&gt;7</title>\n",
       "<path fill=\"none\" stroke=\"red\" d=\"M187.2,-549.91C199.02,-533.78 215.84,-506.07 215.84,-479 215.84,-479 215.84,-479 215.84,-331 215.84,-314.33 208.58,-297.16 201.08,-283.89\"/>\n",
       "<polygon fill=\"red\" stroke=\"red\" points=\"203.86,-281.71 195.69,-274.97 197.87,-285.33 203.86,-281.71\"/>\n",
       "<text text-anchor=\"middle\" x=\"219.84\" y=\"-401.3\" font-family=\"Times,serif\" font-size=\"14.00\">F</text>\n",
       "</g>\n",
       "<!-- 5 -->\n",
       "<g id=\"node6\" class=\"node\">\n",
       "<title>5</title>\n",
       "<polygon fill=\"none\" stroke=\"black\" points=\"176.34,-423 117.34,-423 117.34,-387 176.34,-387 176.34,-423\"/>\n",
       "<text text-anchor=\"middle\" x=\"146.84\" y=\"-401.3\" font-family=\"Times,serif\" font-size=\"14.00\">4: a = b</text>\n",
       "</g>\n",
       "<!-- 4&#45;&gt;5 -->\n",
       "<g id=\"edge4\" class=\"edge\">\n",
       "<title>4&#45;&gt;5</title>\n",
       "<path fill=\"none\" stroke=\"black\" d=\"M138.51,-459.81C139.75,-451.79 141.26,-442.05 142.65,-433.07\"/>\n",
       "<polygon fill=\"black\" stroke=\"black\" points=\"146.13,-433.45 144.21,-423.03 139.22,-432.38 146.13,-433.45\"/>\n",
       "</g>\n",
       "<!-- 6 -->\n",
       "<g id=\"node7\" class=\"node\">\n",
       "<title>6</title>\n",
       "<polygon fill=\"none\" stroke=\"black\" points=\"184.34,-350 125.34,-350 125.34,-314 184.34,-314 184.34,-350\"/>\n",
       "<text text-anchor=\"middle\" x=\"154.84\" y=\"-328.3\" font-family=\"Times,serif\" font-size=\"14.00\">5: b = c</text>\n",
       "</g>\n",
       "<!-- 5&#45;&gt;6 -->\n",
       "<g id=\"edge5\" class=\"edge\">\n",
       "<title>5&#45;&gt;6</title>\n",
       "<path fill=\"none\" stroke=\"black\" d=\"M148.78,-386.81C149.68,-378.79 150.78,-369.05 151.79,-360.07\"/>\n",
       "<polygon fill=\"black\" stroke=\"black\" points=\"155.28,-360.36 152.92,-350.03 148.33,-359.57 155.28,-360.36\"/>\n",
       "</g>\n",
       "<!-- 6&#45;&gt;7 -->\n",
       "<g id=\"edge6\" class=\"edge\">\n",
       "<title>6&#45;&gt;7</title>\n",
       "<path fill=\"none\" stroke=\"black\" d=\"M162.11,-313.81C165.71,-305.28 170.13,-294.81 174.12,-285.38\"/>\n",
       "<polygon fill=\"black\" stroke=\"black\" points=\"177.39,-286.63 178.06,-276.06 170.94,-283.9 177.39,-286.63\"/>\n",
       "</g>\n",
       "<!-- 7&#45;&gt;11 -->\n",
       "<g id=\"edge12\" class=\"edge\">\n",
       "<title>7&#45;&gt;11</title>\n",
       "<path fill=\"none\" stroke=\"red\" d=\"M167.17,-244.34C150.48,-231.45 125.12,-211.85 105.2,-196.45\"/>\n",
       "<polygon fill=\"red\" stroke=\"red\" points=\"107.08,-193.49 97.03,-190.15 102.8,-199.03 107.08,-193.49\"/>\n",
       "<text text-anchor=\"middle\" x=\"140.84\" y=\"-211.8\" font-family=\"Times,serif\" font-size=\"14.00\">F</text>\n",
       "</g>\n",
       "<!-- 8 -->\n",
       "<g id=\"node10\" class=\"node\">\n",
       "<title>8</title>\n",
       "<ellipse fill=\"none\" stroke=\"black\" cx=\"184.84\" cy=\"-172\" rx=\"51.99\" ry=\"18\"/>\n",
       "<text text-anchor=\"middle\" x=\"184.84\" y=\"-168.3\" font-family=\"Times,serif\" font-size=\"14.00\">8: c: int = a</text>\n",
       "</g>\n",
       "<!-- 7&#45;&gt;8 -->\n",
       "<g id=\"edge9\" class=\"edge\">\n",
       "<title>7&#45;&gt;8</title>\n",
       "<path fill=\"none\" stroke=\"blue\" d=\"M184.84,-240.8C184.84,-229.16 184.84,-213.55 184.84,-200.24\"/>\n",
       "<polygon fill=\"blue\" stroke=\"blue\" points=\"188.34,-200.18 184.84,-190.18 181.34,-200.18 188.34,-200.18\"/>\n",
       "<text text-anchor=\"middle\" x=\"189.34\" y=\"-211.8\" font-family=\"Times,serif\" font-size=\"14.00\">T</text>\n",
       "</g>\n",
       "<!-- 10 -->\n",
       "<g id=\"node9\" class=\"node\">\n",
       "<title>10</title>\n",
       "<polygon fill=\"none\" stroke=\"black\" points=\"278.84,-36 186.84,-36 186.84,0 278.84,0 278.84,-36\"/>\n",
       "<text text-anchor=\"middle\" x=\"232.84\" y=\"-14.3\" font-family=\"Times,serif\" font-size=\"14.00\">10: b = c % b</text>\n",
       "</g>\n",
       "<!-- 10&#45;&gt;7 -->\n",
       "<g id=\"edge8\" class=\"edge\">\n",
       "<title>10&#45;&gt;7</title>\n",
       "<path fill=\"none\" stroke=\"black\" d=\"M238.86,-36.2C248.93,-67.84 266.17,-136.89 245.84,-190 238.69,-208.7 223.76,-225.49 210.46,-237.71\"/>\n",
       "<polygon fill=\"black\" stroke=\"black\" points=\"208.1,-235.12 202.89,-244.35 212.71,-240.38 208.1,-235.12\"/>\n",
       "</g>\n",
       "<!-- 9 -->\n",
       "<g id=\"node11\" class=\"node\">\n",
       "<title>9</title>\n",
       "<polygon fill=\"none\" stroke=\"black\" points=\"231.34,-113 172.34,-113 172.34,-77 231.34,-77 231.34,-113\"/>\n",
       "<text text-anchor=\"middle\" x=\"201.84\" y=\"-91.3\" font-family=\"Times,serif\" font-size=\"14.00\">9: a = b</text>\n",
       "</g>\n",
       "<!-- 8&#45;&gt;9 -->\n",
       "<g id=\"edge10\" class=\"edge\">\n",
       "<title>8&#45;&gt;9</title>\n",
       "<path fill=\"none\" stroke=\"black\" d=\"M188.7,-153.98C190.77,-144.84 193.38,-133.36 195.72,-123.03\"/>\n",
       "<polygon fill=\"black\" stroke=\"black\" points=\"199.15,-123.74 197.94,-113.21 192.32,-122.19 199.15,-123.74\"/>\n",
       "</g>\n",
       "<!-- 9&#45;&gt;10 -->\n",
       "<g id=\"edge11\" class=\"edge\">\n",
       "<title>9&#45;&gt;10</title>\n",
       "<path fill=\"none\" stroke=\"black\" d=\"M208.88,-76.98C212.7,-67.75 217.5,-56.12 221.81,-45.71\"/>\n",
       "<polygon fill=\"black\" stroke=\"black\" points=\"225.14,-46.79 225.73,-36.21 218.68,-44.12 225.14,-46.79\"/>\n",
       "</g>\n",
       "</g>\n",
       "</svg>\n"
      ],
      "text/plain": [
       "<graphviz.dot.Digraph at 0x10e6daa90>"
      ]
     },
     "execution_count": 122,
     "metadata": {},
     "output_type": "execute_result"
    }
   ],
   "source": [
    "show_cfg(gcd)"
   ]
  },
  {
   "cell_type": "code",
   "execution_count": 123,
   "metadata": {
    "execution": {
     "iopub.execute_input": "2022-01-02T15:26:18.015954Z",
     "iopub.status.busy": "2022-01-02T15:26:18.015033Z",
     "iopub.status.idle": "2022-01-02T15:26:18.016876Z",
     "shell.execute_reply": "2022-01-02T15:26:18.017278Z"
    },
    "slideshow": {
     "slide_type": "skip"
    }
   },
   "outputs": [],
   "source": [
    "from ExpectError import ExpectError"
   ]
  },
  {
   "cell_type": "code",
   "execution_count": 124,
   "metadata": {
    "execution": {
     "iopub.execute_input": "2022-01-02T15:26:18.030494Z",
     "iopub.status.busy": "2022-01-02T15:26:18.022605Z",
     "iopub.status.idle": "2022-01-02T15:26:18.033233Z",
     "shell.execute_reply": "2022-01-02T15:26:18.033636Z"
    },
    "slideshow": {
     "slide_type": "subslide"
    }
   },
   "outputs": [
    {
     "name": "stderr",
     "output_type": "stream",
     "text": [
      "Traceback (most recent call last):\n",
      "  File \"/tmp/ipykernel_20349/3731434224.py\", line 2, in <module>\n",
      "    symfz_gcd = SimpleSymbolicFuzzer(gcd, max_depth=1000, max_iter=10)\n",
      "  File \"/tmp/ipykernel_20349/3721101788.py\", line 15, in __init__\n",
      "    self.process()\n",
      "  File \"/tmp/ipykernel_20349/4234366425.py\", line 3, in process\n",
      "    self.paths = self.get_all_paths(self.fnenter)\n",
      "  File \"/tmp/ipykernel_20349/228300930.py\", line 10, in get_all_paths\n",
      "    child_paths = self.get_all_paths(child, depth + 1)\n",
      "  File \"/tmp/ipykernel_20349/228300930.py\", line 10, in get_all_paths\n",
      "    child_paths = self.get_all_paths(child, depth + 1)\n",
      "  File \"/tmp/ipykernel_20349/228300930.py\", line 10, in get_all_paths\n",
      "    child_paths = self.get_all_paths(child, depth + 1)\n",
      "  [Previous line repeated 998 more times]\n",
      "  File \"/tmp/ipykernel_20349/228300930.py\", line 4, in get_all_paths\n",
      "    raise Exception('Maximum depth exceeded')\n",
      "Exception: Maximum depth exceeded (expected)\n"
     ]
    }
   ],
   "source": [
    "with ExpectError():\n",
    "    symfz_gcd = SimpleSymbolicFuzzer(gcd, max_depth=1000, max_iter=10)\n",
    "    for i in range(1, 100):\n",
    "        r = symfz_gcd.fuzz()\n",
    "        v = gcd(r['a'].as_long(), r['b'].as_long())\n",
    "        print(r, v)"
   ]
  },
  {
   "cell_type": "markdown",
   "metadata": {
    "slideshow": {
     "slide_type": "subslide"
    }
   },
   "source": [
    "The problem here is that our *SimpleSymbolicFuzzer* has no concept of loops and variable reassignments. We will see how to fix this shortcoming next."
   ]
  },
  {
   "cell_type": "markdown",
   "metadata": {
    "slideshow": {
     "slide_type": "slide"
    }
   },
   "source": [
    "## Advanced Symbolic Fuzzer"
   ]
  },
  {
   "cell_type": "markdown",
   "metadata": {
    "slideshow": {
     "slide_type": "fragment"
    }
   },
   "source": [
    "We next define `AdvancedSymbolicFuzzer` that can deal with reassignments and *unrolling of loops*."
   ]
  },
  {
   "cell_type": "code",
   "execution_count": 125,
   "metadata": {
    "execution": {
     "iopub.execute_input": "2022-01-02T15:26:18.038444Z",
     "iopub.status.busy": "2022-01-02T15:26:18.037829Z",
     "iopub.status.idle": "2022-01-02T15:26:18.039487Z",
     "shell.execute_reply": "2022-01-02T15:26:18.039975Z"
    },
    "slideshow": {
     "slide_type": "fragment"
    }
   },
   "outputs": [],
   "source": [
    "class AdvancedSymbolicFuzzer(SimpleSymbolicFuzzer):\n",
    "    def options(self, kwargs):\n",
    "        super().options(kwargs)"
   ]
  },
  {
   "cell_type": "markdown",
   "metadata": {
    "slideshow": {
     "slide_type": "fragment"
    }
   },
   "source": [
    "Once we allow reassignments and loop unrolling, we have to deal with what to call the new variables generated. This is what we will tackle next."
   ]
  },
  {
   "cell_type": "markdown",
   "metadata": {
    "slideshow": {
     "slide_type": "subslide"
    }
   },
   "source": [
    "### Dealing with Reassingments\n",
    "\n",
    "We want to rename all variables present in an expression such that the variables are annotated with their usage count. This makes it possible to determine variable reassignments.  To do that, we define the `rename_variables()` function that, when given an `env` that contains the current usage index of different variables, renames the variables in the passed in AST node with the annotations, and returns a copy with the modifications. Note that we can't use [NodeTransformer](https://docs.python.org/3/library/ast.html#ast.NodeTransformer) here as it would modify the AST.\n",
    "\n",
    "That is, if the expression is `env[v] == 1`, `v` is renamed to `_v_1`"
   ]
  },
  {
   "cell_type": "code",
   "execution_count": 126,
   "metadata": {
    "execution": {
     "iopub.execute_input": "2022-01-02T15:26:18.049916Z",
     "iopub.status.busy": "2022-01-02T15:26:18.049179Z",
     "iopub.status.idle": "2022-01-02T15:26:18.051016Z",
     "shell.execute_reply": "2022-01-02T15:26:18.051521Z"
    },
    "slideshow": {
     "slide_type": "subslide"
    }
   },
   "outputs": [],
   "source": [
    "def rename_variables(astnode, env):\n",
    "    if isinstance(astnode, ast.BoolOp):\n",
    "        fn = 'z3.And' if isinstance(astnode.op, ast.And) else 'z3.Or'\n",
    "        return ast.Call(\n",
    "            ast.Name(fn, None),\n",
    "            [rename_variables(i, env) for i in astnode.values], [])\n",
    "    elif isinstance(astnode, ast.BinOp):\n",
    "        return ast.BinOp(\n",
    "            rename_variables(astnode.left, env), astnode.op,\n",
    "            rename_variables(astnode.right, env))\n",
    "    elif isinstance(astnode, ast.UnaryOp):\n",
    "        if isinstance(astnode.op, ast.Not):\n",
    "            return ast.Call(\n",
    "                ast.Name('z3.Not', None),\n",
    "                [rename_variables(astnode.operand, env)], [])\n",
    "        else:\n",
    "            return ast.UnaryOp(astnode.op,\n",
    "                               rename_variables(astnode.operand, env))\n",
    "    elif isinstance(astnode, ast.Call):\n",
    "        return ast.Call(astnode.func,\n",
    "                        [rename_variables(i, env) for i in astnode.args],\n",
    "                        astnode.keywords)\n",
    "    elif isinstance(astnode, ast.Compare):\n",
    "        return ast.Compare(\n",
    "            rename_variables(astnode.left, env), astnode.ops,\n",
    "            [rename_variables(i, env) for i in astnode.comparators])\n",
    "    elif isinstance(astnode, ast.Name):\n",
    "        if astnode.id not in env:\n",
    "            env[astnode.id] = 0\n",
    "        num = env[astnode.id]\n",
    "        return ast.Name('_%s_%d' % (astnode.id, num), astnode.ctx)\n",
    "    elif isinstance(astnode, ast.Return):\n",
    "        return ast.Return(rename_variables(astnode.value, env))\n",
    "    else:\n",
    "        return astnode"
   ]
  },
  {
   "cell_type": "markdown",
   "metadata": {
    "slideshow": {
     "slide_type": "subslide"
    }
   },
   "source": [
    "To verify that it works as intended, we start with an environment."
   ]
  },
  {
   "cell_type": "code",
   "execution_count": 127,
   "metadata": {
    "execution": {
     "iopub.execute_input": "2022-01-02T15:26:18.055563Z",
     "iopub.status.busy": "2022-01-02T15:26:18.054850Z",
     "iopub.status.idle": "2022-01-02T15:26:18.057332Z",
     "shell.execute_reply": "2022-01-02T15:26:18.057841Z"
    },
    "slideshow": {
     "slide_type": "fragment"
    }
   },
   "outputs": [],
   "source": [
    "env = {'x': 1}"
   ]
  },
  {
   "cell_type": "code",
   "execution_count": 128,
   "metadata": {
    "execution": {
     "iopub.execute_input": "2022-01-02T15:26:18.062445Z",
     "iopub.status.busy": "2022-01-02T15:26:18.061768Z",
     "iopub.status.idle": "2022-01-02T15:26:18.064509Z",
     "shell.execute_reply": "2022-01-02T15:26:18.065088Z"
    },
    "slideshow": {
     "slide_type": "fragment"
    }
   },
   "outputs": [
    {
     "data": {
      "text/plain": [
       "ast.BoolOp"
      ]
     },
     "execution_count": 128,
     "metadata": {},
     "output_type": "execute_result"
    }
   ],
   "source": [
    "ba = get_expression('x == 1 and y == 2')\n",
    "type(ba)"
   ]
  },
  {
   "cell_type": "code",
   "execution_count": 129,
   "metadata": {
    "execution": {
     "iopub.execute_input": "2022-01-02T15:26:18.069316Z",
     "iopub.status.busy": "2022-01-02T15:26:18.068739Z",
     "iopub.status.idle": "2022-01-02T15:26:18.070951Z",
     "shell.execute_reply": "2022-01-02T15:26:18.071406Z"
    },
    "slideshow": {
     "slide_type": "fragment"
    }
   },
   "outputs": [],
   "source": [
    "assert to_src(rename_variables(ba, env)) == 'z3.And(_x_1 == 1, _y_0 == 2)'"
   ]
  },
  {
   "cell_type": "code",
   "execution_count": 130,
   "metadata": {
    "execution": {
     "iopub.execute_input": "2022-01-02T15:26:18.076438Z",
     "iopub.status.busy": "2022-01-02T15:26:18.075819Z",
     "iopub.status.idle": "2022-01-02T15:26:18.078358Z",
     "shell.execute_reply": "2022-01-02T15:26:18.078695Z"
    },
    "slideshow": {
     "slide_type": "fragment"
    }
   },
   "outputs": [
    {
     "data": {
      "text/plain": [
       "ast.Or"
      ]
     },
     "execution_count": 130,
     "metadata": {},
     "output_type": "execute_result"
    }
   ],
   "source": [
    "bo = get_expression('x == 1 or y == 2')\n",
    "type(bo.op)"
   ]
  },
  {
   "cell_type": "code",
   "execution_count": 131,
   "metadata": {
    "execution": {
     "iopub.execute_input": "2022-01-02T15:26:18.082727Z",
     "iopub.status.busy": "2022-01-02T15:26:18.081975Z",
     "iopub.status.idle": "2022-01-02T15:26:18.083767Z",
     "shell.execute_reply": "2022-01-02T15:26:18.084444Z"
    },
    "slideshow": {
     "slide_type": "fragment"
    }
   },
   "outputs": [],
   "source": [
    "assert to_src(rename_variables(bo, env)) == 'z3.Or(_x_1 == 1, _y_0 == 2)'"
   ]
  },
  {
   "cell_type": "code",
   "execution_count": 132,
   "metadata": {
    "execution": {
     "iopub.execute_input": "2022-01-02T15:26:18.089697Z",
     "iopub.status.busy": "2022-01-02T15:26:18.088897Z",
     "iopub.status.idle": "2022-01-02T15:26:18.091645Z",
     "shell.execute_reply": "2022-01-02T15:26:18.092042Z"
    },
    "slideshow": {
     "slide_type": "fragment"
    }
   },
   "outputs": [
    {
     "data": {
      "text/plain": [
       "ast.BinOp"
      ]
     },
     "execution_count": 132,
     "metadata": {},
     "output_type": "execute_result"
    }
   ],
   "source": [
    "b = get_expression('x + y')\n",
    "type(b)"
   ]
  },
  {
   "cell_type": "code",
   "execution_count": 133,
   "metadata": {
    "execution": {
     "iopub.execute_input": "2022-01-02T15:26:18.095989Z",
     "iopub.status.busy": "2022-01-02T15:26:18.095464Z",
     "iopub.status.idle": "2022-01-02T15:26:18.097269Z",
     "shell.execute_reply": "2022-01-02T15:26:18.097646Z"
    },
    "slideshow": {
     "slide_type": "fragment"
    }
   },
   "outputs": [],
   "source": [
    "assert to_src(rename_variables(b, env)) == '_x_1 + _y_0'"
   ]
  },
  {
   "cell_type": "code",
   "execution_count": 134,
   "metadata": {
    "execution": {
     "iopub.execute_input": "2022-01-02T15:26:18.102734Z",
     "iopub.status.busy": "2022-01-02T15:26:18.102142Z",
     "iopub.status.idle": "2022-01-02T15:26:18.104509Z",
     "shell.execute_reply": "2022-01-02T15:26:18.104889Z"
    },
    "slideshow": {
     "slide_type": "subslide"
    }
   },
   "outputs": [
    {
     "data": {
      "text/plain": [
       "ast.UnaryOp"
      ]
     },
     "execution_count": 134,
     "metadata": {},
     "output_type": "execute_result"
    }
   ],
   "source": [
    "u = get_expression('-y')\n",
    "type(u)"
   ]
  },
  {
   "cell_type": "code",
   "execution_count": 135,
   "metadata": {
    "execution": {
     "iopub.execute_input": "2022-01-02T15:26:18.108773Z",
     "iopub.status.busy": "2022-01-02T15:26:18.108000Z",
     "iopub.status.idle": "2022-01-02T15:26:18.109990Z",
     "shell.execute_reply": "2022-01-02T15:26:18.110420Z"
    },
    "slideshow": {
     "slide_type": "fragment"
    }
   },
   "outputs": [],
   "source": [
    "assert to_src(rename_variables(u, env)) == '-_y_0'"
   ]
  },
  {
   "cell_type": "code",
   "execution_count": 136,
   "metadata": {
    "execution": {
     "iopub.execute_input": "2022-01-02T15:26:18.114317Z",
     "iopub.status.busy": "2022-01-02T15:26:18.113727Z",
     "iopub.status.idle": "2022-01-02T15:26:18.116240Z",
     "shell.execute_reply": "2022-01-02T15:26:18.116613Z"
    },
    "slideshow": {
     "slide_type": "fragment"
    }
   },
   "outputs": [
    {
     "data": {
      "text/plain": [
       "ast.Not"
      ]
     },
     "execution_count": 136,
     "metadata": {},
     "output_type": "execute_result"
    }
   ],
   "source": [
    "un = get_expression('not y')\n",
    "type(un.op)"
   ]
  },
  {
   "cell_type": "code",
   "execution_count": 137,
   "metadata": {
    "execution": {
     "iopub.execute_input": "2022-01-02T15:26:18.119991Z",
     "iopub.status.busy": "2022-01-02T15:26:18.119459Z",
     "iopub.status.idle": "2022-01-02T15:26:18.121132Z",
     "shell.execute_reply": "2022-01-02T15:26:18.121505Z"
    },
    "slideshow": {
     "slide_type": "fragment"
    }
   },
   "outputs": [],
   "source": [
    "assert to_src(rename_variables(un, env)) == 'z3.Not(_y_0)'"
   ]
  },
  {
   "cell_type": "code",
   "execution_count": 138,
   "metadata": {
    "execution": {
     "iopub.execute_input": "2022-01-02T15:26:18.125559Z",
     "iopub.status.busy": "2022-01-02T15:26:18.124920Z",
     "iopub.status.idle": "2022-01-02T15:26:18.127460Z",
     "shell.execute_reply": "2022-01-02T15:26:18.127828Z"
    },
    "slideshow": {
     "slide_type": "fragment"
    }
   },
   "outputs": [
    {
     "data": {
      "text/plain": [
       "ast.Compare"
      ]
     },
     "execution_count": 138,
     "metadata": {},
     "output_type": "execute_result"
    }
   ],
   "source": [
    "c = get_expression('x == y')\n",
    "type(c)"
   ]
  },
  {
   "cell_type": "code",
   "execution_count": 139,
   "metadata": {
    "execution": {
     "iopub.execute_input": "2022-01-02T15:26:18.131006Z",
     "iopub.status.busy": "2022-01-02T15:26:18.130439Z",
     "iopub.status.idle": "2022-01-02T15:26:18.132456Z",
     "shell.execute_reply": "2022-01-02T15:26:18.132888Z"
    },
    "slideshow": {
     "slide_type": "fragment"
    }
   },
   "outputs": [],
   "source": [
    "assert to_src(rename_variables(c, env)) == '_x_1 == _y_0'"
   ]
  },
  {
   "cell_type": "code",
   "execution_count": 140,
   "metadata": {
    "execution": {
     "iopub.execute_input": "2022-01-02T15:26:18.136620Z",
     "iopub.status.busy": "2022-01-02T15:26:18.136041Z",
     "iopub.status.idle": "2022-01-02T15:26:18.138395Z",
     "shell.execute_reply": "2022-01-02T15:26:18.138803Z"
    },
    "slideshow": {
     "slide_type": "fragment"
    }
   },
   "outputs": [
    {
     "data": {
      "text/plain": [
       "ast.Call"
      ]
     },
     "execution_count": 140,
     "metadata": {},
     "output_type": "execute_result"
    }
   ],
   "source": [
    "f = get_expression('fn(x,y)')\n",
    "type(f)"
   ]
  },
  {
   "cell_type": "code",
   "execution_count": 141,
   "metadata": {
    "execution": {
     "iopub.execute_input": "2022-01-02T15:26:18.142399Z",
     "iopub.status.busy": "2022-01-02T15:26:18.141834Z",
     "iopub.status.idle": "2022-01-02T15:26:18.143633Z",
     "shell.execute_reply": "2022-01-02T15:26:18.144027Z"
    },
    "slideshow": {
     "slide_type": "subslide"
    }
   },
   "outputs": [],
   "source": [
    "assert to_src(rename_variables(f, env)) == 'fn(_x_1, _y_0)'"
   ]
  },
  {
   "cell_type": "code",
   "execution_count": 142,
   "metadata": {
    "execution": {
     "iopub.execute_input": "2022-01-02T15:26:18.149766Z",
     "iopub.status.busy": "2022-01-02T15:26:18.148514Z",
     "iopub.status.idle": "2022-01-02T15:26:18.152925Z",
     "shell.execute_reply": "2022-01-02T15:26:18.153365Z"
    },
    "slideshow": {
     "slide_type": "fragment"
    }
   },
   "outputs": [
    {
     "data": {
      "text/plain": [
       "{'x': 1, 'y': 0}"
      ]
     },
     "execution_count": 142,
     "metadata": {},
     "output_type": "execute_result"
    }
   ],
   "source": [
    "env"
   ]
  },
  {
   "cell_type": "markdown",
   "metadata": {
    "slideshow": {
     "slide_type": "fragment"
    }
   },
   "source": [
    "Next, we want to process the CFG, and correctly transform the paths."
   ]
  },
  {
   "cell_type": "markdown",
   "metadata": {
    "slideshow": {
     "slide_type": "subslide"
    }
   },
   "source": [
    "### Tracking Assignments\n",
    "\n",
    "For keeping track of assignments in the CFG, We define a data structure `PNode` that stores the current CFG node."
   ]
  },
  {
   "cell_type": "code",
   "execution_count": 143,
   "metadata": {
    "execution": {
     "iopub.execute_input": "2022-01-02T15:26:18.159477Z",
     "iopub.status.busy": "2022-01-02T15:26:18.158635Z",
     "iopub.status.idle": "2022-01-02T15:26:18.160985Z",
     "shell.execute_reply": "2022-01-02T15:26:18.161456Z"
    },
    "slideshow": {
     "slide_type": "fragment"
    }
   },
   "outputs": [],
   "source": [
    "class PNode:\n",
    "    def __init__(self, idx, cfgnode, parent=None, order=0, seen=None):\n",
    "        self.seen = {} if seen is None else seen\n",
    "        self.max_iter = MAX_ITER\n",
    "        self.idx, self.cfgnode, self.parent, self.order = idx, cfgnode, parent, order\n",
    "\n",
    "    def __repr__(self):\n",
    "        return \"PNode:%d[%s order:%d]\" % (self.idx, str(self.cfgnode),\n",
    "                                          self.order)"
   ]
  },
  {
   "cell_type": "markdown",
   "metadata": {
    "slideshow": {
     "slide_type": "fragment"
    }
   },
   "source": [
    "Defining a new `PNode` is done as follows."
   ]
  },
  {
   "cell_type": "code",
   "execution_count": 144,
   "metadata": {
    "execution": {
     "iopub.execute_input": "2022-01-02T15:26:18.167113Z",
     "iopub.status.busy": "2022-01-02T15:26:18.166488Z",
     "iopub.status.idle": "2022-01-02T15:26:18.168580Z",
     "shell.execute_reply": "2022-01-02T15:26:18.169040Z"
    },
    "slideshow": {
     "slide_type": "subslide"
    }
   },
   "outputs": [],
   "source": [
    "cfg = PyCFG()\n",
    "cfg.gen_cfg(inspect.getsource(gcd))\n",
    "gcd_fnenter, _ = cfg.functions['gcd']"
   ]
  },
  {
   "cell_type": "code",
   "execution_count": 145,
   "metadata": {
    "execution": {
     "iopub.execute_input": "2022-01-02T15:26:18.173298Z",
     "iopub.status.busy": "2022-01-02T15:26:18.172614Z",
     "iopub.status.idle": "2022-01-02T15:26:18.175435Z",
     "shell.execute_reply": "2022-01-02T15:26:18.175875Z"
    },
    "slideshow": {
     "slide_type": "fragment"
    }
   },
   "outputs": [
    {
     "data": {
      "text/plain": [
       "PNode:0[id:27 line[1] parents: [] : enter: gcd(a, b) order:0]"
      ]
     },
     "execution_count": 145,
     "metadata": {},
     "output_type": "execute_result"
    }
   ],
   "source": [
    "PNode(0, gcd_fnenter)"
   ]
  },
  {
   "cell_type": "markdown",
   "metadata": {
    "slideshow": {
     "slide_type": "fragment"
    }
   },
   "source": [
    "The `copy()` method generates a copy for the child's keep, indicating which path was taken (with `order` of the child)."
   ]
  },
  {
   "cell_type": "code",
   "execution_count": 146,
   "metadata": {
    "execution": {
     "iopub.execute_input": "2022-01-02T15:26:18.181228Z",
     "iopub.status.busy": "2022-01-02T15:26:18.180447Z",
     "iopub.status.idle": "2022-01-02T15:26:18.182547Z",
     "shell.execute_reply": "2022-01-02T15:26:18.183062Z"
    },
    "slideshow": {
     "slide_type": "fragment"
    }
   },
   "outputs": [],
   "source": [
    "class PNode(PNode):\n",
    "    def copy(self, order):\n",
    "        p = PNode(self.idx, self.cfgnode, self.parent, order, self.seen)\n",
    "        assert p.order == order\n",
    "        return p"
   ]
  },
  {
   "cell_type": "markdown",
   "metadata": {
    "slideshow": {
     "slide_type": "fragment"
    }
   },
   "source": [
    "Using the copy operation."
   ]
  },
  {
   "cell_type": "code",
   "execution_count": 147,
   "metadata": {
    "execution": {
     "iopub.execute_input": "2022-01-02T15:26:18.187619Z",
     "iopub.status.busy": "2022-01-02T15:26:18.186954Z",
     "iopub.status.idle": "2022-01-02T15:26:18.189660Z",
     "shell.execute_reply": "2022-01-02T15:26:18.190102Z"
    },
    "slideshow": {
     "slide_type": "fragment"
    }
   },
   "outputs": [
    {
     "data": {
      "text/plain": [
       "PNode:0[id:27 line[1] parents: [] : enter: gcd(a, b) order:1]"
      ]
     },
     "execution_count": 147,
     "metadata": {},
     "output_type": "execute_result"
    }
   ],
   "source": [
    "PNode(0, gcd_fnenter).copy(1)"
   ]
  },
  {
   "cell_type": "markdown",
   "metadata": {
    "slideshow": {
     "slide_type": "subslide"
    }
   },
   "source": [
    "#### Stepwise Exploration of Paths\n",
    "\n",
    "A problem we had with our `SimpleSymbolicFuzzer` is that it explored a path to completion before attempting another. However, this is non-optimal. One may want to explore the graph in a more step-wise manner, expanding every possible execution one step at a time.\n",
    "\n",
    "Hence, we define `explore()`  which explores the children of a node if any, one step at a time. If done exhaustively, this will generate all paths from a starting node until no more children are left. We made `PNode` to a container class so that this iteration can be driven from outside, and stopped if say a maximum iteration is complete, or certain paths need to be prioritized."
   ]
  },
  {
   "cell_type": "code",
   "execution_count": 148,
   "metadata": {
    "execution": {
     "iopub.execute_input": "2022-01-02T15:26:18.196033Z",
     "iopub.status.busy": "2022-01-02T15:26:18.195386Z",
     "iopub.status.idle": "2022-01-02T15:26:18.197144Z",
     "shell.execute_reply": "2022-01-02T15:26:18.197629Z"
    },
    "slideshow": {
     "slide_type": "subslide"
    }
   },
   "outputs": [],
   "source": [
    "class PNode(PNode):\n",
    "    def explore(self):\n",
    "        ret = []\n",
    "        for (i, n) in enumerate(self.cfgnode.children):\n",
    "            key = \"[%d]%s\" % (self.idx + 1, n)\n",
    "            ccount = self.seen.get(key, 0)\n",
    "            if ccount > self.max_iter:\n",
    "                continue  # drop this child\n",
    "            self.seen[key] = ccount + 1\n",
    "            pn = PNode(self.idx + 1, n, self.copy(i), seen=self.seen)\n",
    "            ret.append(pn)\n",
    "        return ret"
   ]
  },
  {
   "cell_type": "markdown",
   "metadata": {
    "slideshow": {
     "slide_type": "fragment"
    }
   },
   "source": [
    "We can use `explore()` as follows."
   ]
  },
  {
   "cell_type": "code",
   "execution_count": 149,
   "metadata": {
    "execution": {
     "iopub.execute_input": "2022-01-02T15:26:18.202170Z",
     "iopub.status.busy": "2022-01-02T15:26:18.201542Z",
     "iopub.status.idle": "2022-01-02T15:26:18.204195Z",
     "shell.execute_reply": "2022-01-02T15:26:18.204643Z"
    },
    "slideshow": {
     "slide_type": "fragment"
    }
   },
   "outputs": [
    {
     "data": {
      "text/plain": [
       "[PNode:1[id:29 line[2] parents: [27] : _if: a < b order:0]]"
      ]
     },
     "execution_count": 149,
     "metadata": {},
     "output_type": "execute_result"
    }
   ],
   "source": [
    "PNode(0, gcd_fnenter).explore()"
   ]
  },
  {
   "cell_type": "code",
   "execution_count": 150,
   "metadata": {
    "execution": {
     "iopub.execute_input": "2022-01-02T15:26:18.208879Z",
     "iopub.status.busy": "2022-01-02T15:26:18.208271Z",
     "iopub.status.idle": "2022-01-02T15:26:18.210700Z",
     "shell.execute_reply": "2022-01-02T15:26:18.211102Z"
    },
    "slideshow": {
     "slide_type": "subslide"
    }
   },
   "outputs": [
    {
     "data": {
      "text/plain": [
       "[PNode:2[id:30 line[3] parents: [29] : c: int = a order:0],\n",
       " PNode:2[id:33 line[7] parents: [32, 29, 36] : _while: b != 0 order:0]]"
      ]
     },
     "execution_count": 150,
     "metadata": {},
     "output_type": "execute_result"
    }
   ],
   "source": [
    "PNode(0, gcd_fnenter).explore()[0].explore()"
   ]
  },
  {
   "cell_type": "markdown",
   "metadata": {
    "slideshow": {
     "slide_type": "fragment"
    }
   },
   "source": [
    "The method `get_path_to_root()` recursively goes up through child->parent chain retrieving the complete chain to the topmost parent."
   ]
  },
  {
   "cell_type": "code",
   "execution_count": 151,
   "metadata": {
    "code_folding": [],
    "execution": {
     "iopub.execute_input": "2022-01-02T15:26:18.214996Z",
     "iopub.status.busy": "2022-01-02T15:26:18.214466Z",
     "iopub.status.idle": "2022-01-02T15:26:18.216099Z",
     "shell.execute_reply": "2022-01-02T15:26:18.216537Z"
    },
    "slideshow": {
     "slide_type": "fragment"
    }
   },
   "outputs": [],
   "source": [
    "class PNode(PNode):\n",
    "    def get_path_to_root(self):\n",
    "        path = []\n",
    "        n = self\n",
    "        while n:\n",
    "            path.append(n)\n",
    "            n = n.parent\n",
    "        return list(reversed(path))"
   ]
  },
  {
   "cell_type": "code",
   "execution_count": 152,
   "metadata": {
    "execution": {
     "iopub.execute_input": "2022-01-02T15:26:18.220691Z",
     "iopub.status.busy": "2022-01-02T15:26:18.220141Z",
     "iopub.status.idle": "2022-01-02T15:26:18.222403Z",
     "shell.execute_reply": "2022-01-02T15:26:18.222769Z"
    },
    "slideshow": {
     "slide_type": "subslide"
    }
   },
   "outputs": [
    {
     "data": {
      "text/plain": [
       "[[PNode:0[id:27 line[1] parents: [] : enter: gcd(a, b) order:0],\n",
       "  PNode:1[id:29 line[2] parents: [27] : _if: a < b order:0],\n",
       "  PNode:2[id:30 line[3] parents: [29] : c: int = a order:0],\n",
       "  PNode:3[id:31 line[4] parents: [30] : a = b order:0],\n",
       "  PNode:4[id:32 line[5] parents: [31] : b = c order:0]]]"
      ]
     },
     "execution_count": 152,
     "metadata": {},
     "output_type": "execute_result"
    }
   ],
   "source": [
    "p = PNode(0, gcd_fnenter)\n",
    "[s.get_path_to_root() for s in p.explore()[0].explore()[0].explore()[0].explore()]"
   ]
  },
  {
   "cell_type": "markdown",
   "metadata": {
    "slideshow": {
     "slide_type": "fragment"
    }
   },
   "source": [
    "The string representation of the node is in `z3` solvable form."
   ]
  },
  {
   "cell_type": "code",
   "execution_count": 153,
   "metadata": {
    "execution": {
     "iopub.execute_input": "2022-01-02T15:26:18.226393Z",
     "iopub.status.busy": "2022-01-02T15:26:18.225886Z",
     "iopub.status.idle": "2022-01-02T15:26:18.227473Z",
     "shell.execute_reply": "2022-01-02T15:26:18.227836Z"
    },
    "slideshow": {
     "slide_type": "fragment"
    }
   },
   "outputs": [],
   "source": [
    "class PNode(PNode):\n",
    "    def __str__(self):\n",
    "        path = self.get_path_to_root()\n",
    "        ssa_path = to_single_assignment_predicates(path)\n",
    "        return ', '.join([to_src(p) for p in ssa_path])"
   ]
  },
  {
   "cell_type": "markdown",
   "metadata": {
    "slideshow": {
     "slide_type": "fragment"
    }
   },
   "source": [
    "However, before using it, we need to take care of variable renaming so that reassignments can work."
   ]
  },
  {
   "cell_type": "markdown",
   "metadata": {
    "slideshow": {
     "slide_type": "subslide"
    }
   },
   "source": [
    "#### Renaming Used Variables\n",
    "\n",
    "We need to rename used variables. Any variable `v = xxx` should be renamed to `_v_0` and any later assignment such as `v = v + 1` should be transformed to `_v_1 = _v_0 + 1` and later conditionals such as `v == x` should be transformed to `(_v_1 == _x_0)`. The method `to_single_assignment_predicates()` does this for a given path."
   ]
  },
  {
   "cell_type": "code",
   "execution_count": 154,
   "metadata": {
    "execution": {
     "iopub.execute_input": "2022-01-02T15:26:18.237892Z",
     "iopub.status.busy": "2022-01-02T15:26:18.237128Z",
     "iopub.status.idle": "2022-01-02T15:26:18.239280Z",
     "shell.execute_reply": "2022-01-02T15:26:18.239658Z"
    },
    "slideshow": {
     "slide_type": "subslide"
    }
   },
   "outputs": [],
   "source": [
    "def to_single_assignment_predicates(path):\n",
    "    env = {}\n",
    "    new_path = []\n",
    "    for i, node in enumerate(path):\n",
    "        ast_node = node.cfgnode.ast_node\n",
    "        new_node = None\n",
    "        if isinstance(ast_node, ast.AnnAssign) and ast_node.target.id in {\n",
    "                'exit'}:\n",
    "            new_node = None\n",
    "        elif isinstance(ast_node, ast.AnnAssign) and ast_node.target.id in {'enter'}:\n",
    "            args = [\n",
    "                ast.parse(\n",
    "                    \"%s == _%s_0\" %\n",
    "                    (a.id, a.id)).body[0].value for a in ast_node.annotation.args]\n",
    "            new_node = ast.Call(ast.Name('z3.And', None), args, [])\n",
    "        elif isinstance(ast_node, ast.AnnAssign) and ast_node.target.id in {'_if', '_while'}:\n",
    "            new_node = rename_variables(ast_node.annotation, env)\n",
    "            if node.order != 0:\n",
    "                assert node.order == 1\n",
    "                new_node = ast.Call(ast.Name('z3.Not', None), [new_node], [])\n",
    "        elif isinstance(ast_node, ast.AnnAssign):\n",
    "            assigned = ast_node.target.id\n",
    "            val = [rename_variables(ast_node.value, env)]\n",
    "            env[assigned] = 0 if assigned not in env else env[assigned] + 1\n",
    "            target = ast.Name('_%s_%d' %\n",
    "                              (ast_node.target.id, env[assigned]), None)\n",
    "            new_node = ast.Expr(ast.Compare(target, [ast.Eq()], val))\n",
    "        elif isinstance(ast_node, ast.Assign):\n",
    "            assigned = ast_node.targets[0].id\n",
    "            val = [rename_variables(ast_node.value, env)]\n",
    "            env[assigned] = 0 if assigned not in env else env[assigned] + 1\n",
    "            target = ast.Name('_%s_%d' %\n",
    "                              (ast_node.targets[0].id, env[assigned]), None)\n",
    "            new_node = ast.Expr(ast.Compare(target, [ast.Eq()], val))\n",
    "        elif isinstance(ast_node, (ast.Return, ast.Pass)):\n",
    "            new_node = None\n",
    "        else:\n",
    "            s = \"NI %s %s\" % (type(ast_node), ast_node.target.id)\n",
    "            raise Exception(s)\n",
    "        new_path.append(new_node)\n",
    "    return new_path"
   ]
  },
  {
   "cell_type": "markdown",
   "metadata": {
    "slideshow": {
     "slide_type": "subslide"
    }
   },
   "source": [
    "Here is how it can be used:"
   ]
  },
  {
   "cell_type": "code",
   "execution_count": 155,
   "metadata": {
    "execution": {
     "iopub.execute_input": "2022-01-02T15:26:18.243647Z",
     "iopub.status.busy": "2022-01-02T15:26:18.243127Z",
     "iopub.status.idle": "2022-01-02T15:26:18.244771Z",
     "shell.execute_reply": "2022-01-02T15:26:18.245139Z"
    },
    "slideshow": {
     "slide_type": "fragment"
    }
   },
   "outputs": [],
   "source": [
    "p = PNode(0, gcd_fnenter)\n",
    "path = p.explore()[0].explore()[0].explore()[0].get_path_to_root()\n",
    "spath = to_single_assignment_predicates(path)"
   ]
  },
  {
   "cell_type": "code",
   "execution_count": 156,
   "metadata": {
    "execution": {
     "iopub.execute_input": "2022-01-02T15:26:18.248771Z",
     "iopub.status.busy": "2022-01-02T15:26:18.248251Z",
     "iopub.status.idle": "2022-01-02T15:26:18.250444Z",
     "shell.execute_reply": "2022-01-02T15:26:18.250810Z"
    },
    "slideshow": {
     "slide_type": "fragment"
    }
   },
   "outputs": [
    {
     "data": {
      "text/plain": [
       "['z3.And(a == _a_0, b == _b_0)', '_a_0 < _b_0', '_c_0 == _a_0', '_a_1 == _b_0']"
      ]
     },
     "execution_count": 156,
     "metadata": {},
     "output_type": "execute_result"
    }
   ],
   "source": [
    "[to_src(s) for s in spath]"
   ]
  },
  {
   "cell_type": "markdown",
   "metadata": {
    "slideshow": {
     "slide_type": "subslide"
    }
   },
   "source": [
    "#### Check Before You Loop\n",
    "\n",
    "One of the ways in which the *concolic* execution simplifies *symbolic* execution is in the treatment of loops. Rather than trying to determine an invariant for a loop, we simply *unroll* the loops a number of times until we hit the `MAX_DEPTH` limit. However, not all loops will need to be unrolled until `MAX_DEPTH` is reached. Some of them may exit before. Hence, it is necessary to check whether the given set of constraints can be satisfied before continuing to explore further. "
   ]
  },
  {
   "cell_type": "code",
   "execution_count": 157,
   "metadata": {
    "execution": {
     "iopub.execute_input": "2022-01-02T15:26:18.254929Z",
     "iopub.status.busy": "2022-01-02T15:26:18.254417Z",
     "iopub.status.idle": "2022-01-02T15:26:18.256124Z",
     "shell.execute_reply": "2022-01-02T15:26:18.256489Z"
    },
    "slideshow": {
     "slide_type": "subslide"
    }
   },
   "outputs": [],
   "source": [
    "def identifiers_with_types(identifiers, defined):\n",
    "    with_types = dict(defined)\n",
    "    for i in identifiers:\n",
    "        if i[0] == '_':\n",
    "            nxt = i[1:].find('_', 1)\n",
    "            name = i[1:nxt + 1]\n",
    "            assert name in defined\n",
    "            typ = defined[name]\n",
    "            with_types[i] = typ\n",
    "    return with_types"
   ]
  },
  {
   "cell_type": "markdown",
   "metadata": {
    "slideshow": {
     "slide_type": "fragment"
    }
   },
   "source": [
    "The `extract_constraints()` generates the `z3` constraints from a path. The main work is done by `to_single_assignment_predicates()`. The `extract_constraints()` then converts the AST to source."
   ]
  },
  {
   "cell_type": "code",
   "execution_count": 158,
   "metadata": {
    "execution": {
     "iopub.execute_input": "2022-01-02T15:26:18.260375Z",
     "iopub.status.busy": "2022-01-02T15:26:18.259479Z",
     "iopub.status.idle": "2022-01-02T15:26:18.262037Z",
     "shell.execute_reply": "2022-01-02T15:26:18.262465Z"
    },
    "slideshow": {
     "slide_type": "subslide"
    }
   },
   "outputs": [],
   "source": [
    "class AdvancedSymbolicFuzzer(AdvancedSymbolicFuzzer):\n",
    "    def extract_constraints(self, path):\n",
    "        return [to_src(p) for p in to_single_assignment_predicates(path) if p]"
   ]
  },
  {
   "cell_type": "markdown",
   "metadata": {
    "slideshow": {
     "slide_type": "subslide"
    }
   },
   "source": [
    "### Solving Path Constraints\n",
    "\n",
    "We now update our `solve_path_constraint()` method to take into account the new identifiers created during reassignments."
   ]
  },
  {
   "cell_type": "code",
   "execution_count": 159,
   "metadata": {
    "execution": {
     "iopub.execute_input": "2022-01-02T15:26:18.270698Z",
     "iopub.status.busy": "2022-01-02T15:26:18.269920Z",
     "iopub.status.idle": "2022-01-02T15:26:18.272421Z",
     "shell.execute_reply": "2022-01-02T15:26:18.272909Z"
    },
    "slideshow": {
     "slide_type": "subslide"
    }
   },
   "outputs": [],
   "source": [
    "class AdvancedSymbolicFuzzer(AdvancedSymbolicFuzzer):\n",
    "    def solve_path_constraint(self, path):\n",
    "        # re-initializing does not seem problematic.\n",
    "        # a = z3.Int('a').get_id() remains the same.\n",
    "        constraints = self.extract_constraints(path)\n",
    "        identifiers = [\n",
    "            c for i in constraints for c in used_identifiers(i)]  # <- changes\n",
    "        with_types = identifiers_with_types(\n",
    "            identifiers, self.used_variables)  # <- changes\n",
    "        decl = define_symbolic_vars(with_types, '')\n",
    "        exec(decl)\n",
    "\n",
    "        solutions = {}\n",
    "        with checkpoint(self.z3):\n",
    "            st = 'self.z3.add(%s)' % ', '.join(constraints)\n",
    "            eval(st)\n",
    "            if self.z3.check() != z3.sat:\n",
    "                return {}\n",
    "            m = self.z3.model()\n",
    "            solutions = {d.name(): m[d] for d in m.decls()}\n",
    "            my_args = {k: solutions.get(k, None) for k in self.fn_args}\n",
    "        predicate = 'z3.And(%s)' % ','.join(\n",
    "            [\"%s == %s\" % (k, v) for k, v in my_args.items()])\n",
    "        eval('self.z3.add(z3.Not(%s))' % predicate)\n",
    "        return my_args"
   ]
  },
  {
   "cell_type": "markdown",
   "metadata": {
    "slideshow": {
     "slide_type": "subslide"
    }
   },
   "source": [
    "### Generating All Paths"
   ]
  },
  {
   "cell_type": "markdown",
   "metadata": {
    "slideshow": {
     "slide_type": "fragment"
    }
   },
   "source": [
    "The `get_all_paths()` is now similarly updated so that we unroll loops only to a specified height. It is also converted to an iterative exploration style so that we explore the CFG in a breadth first manner."
   ]
  },
  {
   "cell_type": "code",
   "execution_count": 160,
   "metadata": {
    "execution": {
     "iopub.execute_input": "2022-01-02T15:26:18.279467Z",
     "iopub.status.busy": "2022-01-02T15:26:18.278910Z",
     "iopub.status.idle": "2022-01-02T15:26:18.280953Z",
     "shell.execute_reply": "2022-01-02T15:26:18.281352Z"
    },
    "slideshow": {
     "slide_type": "subslide"
    }
   },
   "outputs": [],
   "source": [
    "class AdvancedSymbolicFuzzer(AdvancedSymbolicFuzzer):\n",
    "    def get_all_paths(self, fenter):\n",
    "        path_lst = [PNode(0, fenter)]\n",
    "        completed = []\n",
    "        for i in range(self.max_iter):\n",
    "            new_paths = [PNode(0, fenter)]\n",
    "            for path in path_lst:\n",
    "                # explore each path once\n",
    "                if path.cfgnode.children:\n",
    "                    np = path.explore()\n",
    "                    for p in np:\n",
    "                        if path.idx > self.max_depth:\n",
    "                            break\n",
    "                        new_paths.append(p)\n",
    "                else:\n",
    "                    completed.append(path)\n",
    "            path_lst = new_paths\n",
    "        return completed + path_lst"
   ]
  },
  {
   "cell_type": "markdown",
   "metadata": {
    "slideshow": {
     "slide_type": "subslide"
    }
   },
   "source": [
    "We can now obtain all paths using our advanced symbolic fuzzer as follows."
   ]
  },
  {
   "cell_type": "code",
   "execution_count": 161,
   "metadata": {
    "execution": {
     "iopub.execute_input": "2022-01-02T15:26:18.295025Z",
     "iopub.status.busy": "2022-01-02T15:26:18.293847Z",
     "iopub.status.idle": "2022-01-02T15:26:18.297429Z",
     "shell.execute_reply": "2022-01-02T15:26:18.298271Z"
    },
    "slideshow": {
     "slide_type": "fragment"
    }
   },
   "outputs": [],
   "source": [
    "asymfz_gcd = AdvancedSymbolicFuzzer(\n",
    "    gcd, max_iter=10, max_tries=10, max_depth=10)\n",
    "all_paths = asymfz_gcd.get_all_paths(asymfz_gcd.fnenter)"
   ]
  },
  {
   "cell_type": "code",
   "execution_count": 162,
   "metadata": {
    "execution": {
     "iopub.execute_input": "2022-01-02T15:26:18.305033Z",
     "iopub.status.busy": "2022-01-02T15:26:18.304098Z",
     "iopub.status.idle": "2022-01-02T15:26:18.307939Z",
     "shell.execute_reply": "2022-01-02T15:26:18.308446Z"
    },
    "slideshow": {
     "slide_type": "fragment"
    }
   },
   "outputs": [
    {
     "data": {
      "text/plain": [
       "38"
      ]
     },
     "execution_count": 162,
     "metadata": {},
     "output_type": "execute_result"
    }
   ],
   "source": [
    "len(all_paths)"
   ]
  },
  {
   "cell_type": "code",
   "execution_count": 163,
   "metadata": {
    "execution": {
     "iopub.execute_input": "2022-01-02T15:26:18.315412Z",
     "iopub.status.busy": "2022-01-02T15:26:18.314458Z",
     "iopub.status.idle": "2022-01-02T15:26:18.317715Z",
     "shell.execute_reply": "2022-01-02T15:26:18.318207Z"
    },
    "slideshow": {
     "slide_type": "subslide"
    }
   },
   "outputs": [
    {
     "data": {
      "text/plain": [
       "[PNode:0[id:40 line[1] parents: [] : enter: gcd(a, b) order:0],\n",
       " PNode:1[id:42 line[2] parents: [40] : _if: a < b order:1],\n",
       " PNode:2[id:46 line[7] parents: [45, 42, 49] : _while: b != 0 order:0],\n",
       " PNode:3[id:47 line[8] parents: [46] : c: int = a order:0],\n",
       " PNode:4[id:48 line[9] parents: [47] : a = b order:0],\n",
       " PNode:5[id:49 line[10] parents: [48] : b = c % b order:0],\n",
       " PNode:6[id:46 line[7] parents: [45, 42, 49] : _while: b != 0 order:0],\n",
       " PNode:7[id:47 line[8] parents: [46] : c: int = a order:0],\n",
       " PNode:8[id:48 line[9] parents: [47] : a = b order:0],\n",
       " PNode:9[id:49 line[10] parents: [48] : b = c % b order:0],\n",
       " PNode:10[id:46 line[7] parents: [45, 42, 49] : _while: b != 0 order:0]]"
      ]
     },
     "execution_count": 163,
     "metadata": {},
     "output_type": "execute_result"
    }
   ],
   "source": [
    "all_paths[37].get_path_to_root()"
   ]
  },
  {
   "cell_type": "markdown",
   "metadata": {
    "slideshow": {
     "slide_type": "fragment"
    }
   },
   "source": [
    "We can also list the predicates in each path."
   ]
  },
  {
   "cell_type": "code",
   "execution_count": 164,
   "metadata": {
    "execution": {
     "iopub.execute_input": "2022-01-02T15:26:18.322981Z",
     "iopub.status.busy": "2022-01-02T15:26:18.322385Z",
     "iopub.status.idle": "2022-01-02T15:26:18.325471Z",
     "shell.execute_reply": "2022-01-02T15:26:18.326269Z"
    },
    "slideshow": {
     "slide_type": "subslide"
    }
   },
   "outputs": [
    {
     "name": "stdout",
     "output_type": "stream",
     "text": [
      "z3.And(a == _a_0, b == _b_0)\n",
      "z3.Not(_a_0 < _b_0)\n",
      "_b_0 != 0\n",
      "_c_0 == _a_0\n",
      "_a_1 == _b_0\n",
      "_b_1 == _c_0 % _b_0\n",
      "_b_1 != 0\n",
      "_c_1 == _a_1\n",
      "_a_2 == _b_1\n",
      "_b_2 == _c_1 % _b_1\n",
      "_b_2 != 0\n"
     ]
    }
   ],
   "source": [
    "for s in to_single_assignment_predicates(all_paths[37].get_path_to_root()):\n",
    "    if s is not None:\n",
    "        print(to_src(s))"
   ]
  },
  {
   "cell_type": "code",
   "execution_count": 165,
   "metadata": {
    "execution": {
     "iopub.execute_input": "2022-01-02T15:26:18.332486Z",
     "iopub.status.busy": "2022-01-02T15:26:18.331397Z",
     "iopub.status.idle": "2022-01-02T15:26:18.333714Z",
     "shell.execute_reply": "2022-01-02T15:26:18.334222Z"
    },
    "slideshow": {
     "slide_type": "subslide"
    }
   },
   "outputs": [],
   "source": [
    "constraints = asymfz_gcd.extract_constraints(all_paths[37].get_path_to_root())"
   ]
  },
  {
   "cell_type": "code",
   "execution_count": 166,
   "metadata": {
    "execution": {
     "iopub.execute_input": "2022-01-02T15:26:18.338793Z",
     "iopub.status.busy": "2022-01-02T15:26:18.338104Z",
     "iopub.status.idle": "2022-01-02T15:26:18.341117Z",
     "shell.execute_reply": "2022-01-02T15:26:18.341525Z"
    },
    "slideshow": {
     "slide_type": "fragment"
    }
   },
   "outputs": [
    {
     "data": {
      "text/plain": [
       "['z3.And(a == _a_0, b == _b_0)',\n",
       " 'z3.Not(_a_0 < _b_0)',\n",
       " '_b_0 != 0',\n",
       " '_c_0 == _a_0',\n",
       " '_a_1 == _b_0',\n",
       " '_b_1 == _c_0 % _b_0',\n",
       " '_b_1 != 0',\n",
       " '_c_1 == _a_1',\n",
       " '_a_2 == _b_1',\n",
       " '_b_2 == _c_1 % _b_1',\n",
       " '_b_2 != 0']"
      ]
     },
     "execution_count": 166,
     "metadata": {},
     "output_type": "execute_result"
    }
   ],
   "source": [
    "constraints"
   ]
  },
  {
   "cell_type": "markdown",
   "metadata": {
    "slideshow": {
     "slide_type": "subslide"
    }
   },
   "source": [
    "The constraints printed out demonstrates that our approach for renaming variables was successful. We need only one more piece to complete the puzzle. Our path is still a `PNode`. We need to modify `get_next_path()` so that we return the corresponding predicate chain."
   ]
  },
  {
   "cell_type": "code",
   "execution_count": 167,
   "metadata": {
    "execution": {
     "iopub.execute_input": "2022-01-02T15:26:18.346165Z",
     "iopub.status.busy": "2022-01-02T15:26:18.345571Z",
     "iopub.status.idle": "2022-01-02T15:26:18.348419Z",
     "shell.execute_reply": "2022-01-02T15:26:18.347796Z"
    },
    "slideshow": {
     "slide_type": "fragment"
    }
   },
   "outputs": [],
   "source": [
    "class AdvancedSymbolicFuzzer(AdvancedSymbolicFuzzer):\n",
    "    def get_next_path(self):\n",
    "        self.last_path -= 1\n",
    "        if self.last_path == -1:\n",
    "            self.last_path = len(self.paths) - 1\n",
    "        return self.paths[self.last_path].get_path_to_root()"
   ]
  },
  {
   "cell_type": "markdown",
   "metadata": {
    "slideshow": {
     "slide_type": "fragment"
    }
   },
   "source": [
    "We will see next how to use our fuzzer for fuzzing."
   ]
  },
  {
   "cell_type": "markdown",
   "metadata": {
    "slideshow": {
     "slide_type": "subslide"
    }
   },
   "source": [
    "### Fuzzing with Advanced Symbolic Fuzzer\n",
    "\n",
    "We use our advanced symbolic fuzzer on *gcd* to generate plausible inputs."
   ]
  },
  {
   "cell_type": "code",
   "execution_count": 168,
   "metadata": {
    "execution": {
     "iopub.execute_input": "2022-01-02T15:26:18.359245Z",
     "iopub.status.busy": "2022-01-02T15:26:18.358500Z",
     "iopub.status.idle": "2022-01-02T15:26:18.410777Z",
     "shell.execute_reply": "2022-01-02T15:26:18.411156Z"
    },
    "slideshow": {
     "slide_type": "subslide"
    }
   },
   "outputs": [
    {
     "name": "stdout",
     "output_type": "stream",
     "text": [
      "{'a': 7, 'b': 5} result: 1\n",
      "{'a': -1, 'b': 0} result: -1\n",
      "{'a': 2, 'b': 7} result: 1\n",
      "{'a': 7, 'b': 6} result: 1\n",
      "{'a': 3, 'b': 5} result: 1\n",
      "{'a': 0, 'b': -1} result: -1\n",
      "{'a': 15, 'b': 8} result: 1\n",
      "{'a': -2, 'b': 0} result: -2\n",
      "{'a': 9533, 'b': -9533} result: -9533\n",
      "{'a': 12, 'b': 11} result: 1\n"
     ]
    }
   ],
   "source": [
    "asymfz_gcd = AdvancedSymbolicFuzzer(\n",
    "    gcd, max_tries=10, max_iter=10, max_depth=10)\n",
    "data = []\n",
    "for i in range(10):\n",
    "    r = asymfz_gcd.fuzz()\n",
    "    data.append((r['a'].as_long(), r['b'].as_long()))\n",
    "    v = gcd(*data[-1])\n",
    "    print(r, \"result:\", repr(v))"
   ]
  },
  {
   "cell_type": "markdown",
   "metadata": {
    "slideshow": {
     "slide_type": "subslide"
    }
   },
   "source": [
    "The outputs look reasonable. However, what is the coverage obtained?"
   ]
  },
  {
   "cell_type": "code",
   "execution_count": 169,
   "metadata": {
    "execution": {
     "iopub.execute_input": "2022-01-02T15:26:18.461017Z",
     "iopub.status.busy": "2022-01-02T15:26:18.438140Z",
     "iopub.status.idle": "2022-01-02T15:26:19.005238Z",
     "shell.execute_reply": "2022-01-02T15:26:19.005713Z"
    },
    "slideshow": {
     "slide_type": "fragment"
    }
   },
   "outputs": [],
   "source": [
    "with VisualizedArcCoverage() as cov:\n",
    "    for a, b in data:\n",
    "        gcd(a, b)"
   ]
  },
  {
   "cell_type": "code",
   "execution_count": 170,
   "metadata": {
    "execution": {
     "iopub.execute_input": "2022-01-02T15:26:19.010572Z",
     "iopub.status.busy": "2022-01-02T15:26:19.009571Z",
     "iopub.status.idle": "2022-01-02T15:26:19.013942Z",
     "shell.execute_reply": "2022-01-02T15:26:19.014579Z"
    },
    "slideshow": {
     "slide_type": "subslide"
    }
   },
   "outputs": [
    {
     "name": "stdout",
     "output_type": "stream",
     "text": [
      "#  1: def gcd(a: int, b: int) -> int:\n",
      "#  2:     if a < b:\n",
      "#  3:         c: int = a  # type: ignore\n",
      "#  4:         a = b\n",
      "#  5:         b = c\n",
      "   6: \n",
      "#  7:     while b != 0:\n",
      "#  8:         c: int = a  # type: ignore\n",
      "#  9:         a = b\n",
      "# 10:         b = c % b\n",
      "# 11:     return a\n",
      "  12: \n"
     ]
    }
   ],
   "source": [
    "cov.show_coverage(gcd)"
   ]
  },
  {
   "cell_type": "code",
   "execution_count": 171,
   "metadata": {
    "execution": {
     "iopub.execute_input": "2022-01-02T15:26:19.026933Z",
     "iopub.status.busy": "2022-01-02T15:26:19.019215Z",
     "iopub.status.idle": "2022-01-02T15:26:19.471415Z",
     "shell.execute_reply": "2022-01-02T15:26:19.471794Z"
    },
    "slideshow": {
     "slide_type": "subslide"
    }
   },
   "outputs": [
    {
     "data": {
      "image/svg+xml": [
       "<?xml version=\"1.0\" encoding=\"UTF-8\" standalone=\"no\"?>\n",
       "<!DOCTYPE svg PUBLIC \"-//W3C//DTD SVG 1.1//EN\"\n",
       " \"http://www.w3.org/Graphics/SVG/1.1/DTD/svg11.dtd\">\n",
       "<!-- Generated by graphviz version 2.49.3 (20211023.0002)\n",
       " -->\n",
       "<!-- Pages: 1 -->\n",
       "<svg width=\"288pt\" height=\"636pt\"\n",
       " viewBox=\"0.00 0.00 287.52 636.00\" xmlns=\"http://www.w3.org/2000/svg\" xmlns:xlink=\"http://www.w3.org/1999/xlink\">\n",
       "<g id=\"graph0\" class=\"graph\" transform=\"scale(1 1) rotate(0) translate(4 632)\">\n",
       "<polygon fill=\"white\" stroke=\"transparent\" points=\"-4,4 -4,-632 283.52,-632 283.52,4 -4,4\"/>\n",
       "<!-- 1 -->\n",
       "<g id=\"node1\" class=\"node\">\n",
       "<title>1</title>\n",
       "<ellipse fill=\"none\" stroke=\"black\" cx=\"178.84\" cy=\"-606\" rx=\"75.29\" ry=\"18\"/>\n",
       "<ellipse fill=\"none\" stroke=\"black\" cx=\"178.84\" cy=\"-606\" rx=\"79.29\" ry=\"22\"/>\n",
       "<text text-anchor=\"middle\" x=\"178.84\" y=\"-602.3\" font-family=\"Times,serif\" font-size=\"14.00\">1: enter: gcd(a, b)</text>\n",
       "</g>\n",
       "<!-- 3 -->\n",
       "<g id=\"node4\" class=\"node\">\n",
       "<title>3</title>\n",
       "<polygon fill=\"none\" stroke=\"black\" points=\"178.84,-548 109.97,-530 178.84,-512 247.72,-530 178.84,-548\"/>\n",
       "<text text-anchor=\"middle\" x=\"178.84\" y=\"-526.3\" font-family=\"Times,serif\" font-size=\"14.00\">2: if: a &lt; b</text>\n",
       "</g>\n",
       "<!-- 1&#45;&gt;3 -->\n",
       "<g id=\"edge2\" class=\"edge\">\n",
       "<title>1&#45;&gt;3</title>\n",
       "<path fill=\"none\" stroke=\"green\" d=\"M178.84,-583.99C178.84,-576.06 178.84,-566.91 178.84,-558.48\"/>\n",
       "<polygon fill=\"green\" stroke=\"green\" points=\"182.34,-558.31 178.84,-548.31 175.34,-558.31 182.34,-558.31\"/>\n",
       "</g>\n",
       "<!-- 2 -->\n",
       "<g id=\"node2\" class=\"node\">\n",
       "<title>2</title>\n",
       "<ellipse fill=\"none\" stroke=\"black\" cx=\"74.84\" cy=\"-94\" rx=\"70.7\" ry=\"18\"/>\n",
       "<ellipse fill=\"none\" stroke=\"black\" cx=\"74.84\" cy=\"-94\" rx=\"74.69\" ry=\"22\"/>\n",
       "<text text-anchor=\"middle\" x=\"74.84\" y=\"-90.3\" font-family=\"Times,serif\" font-size=\"14.00\">1: exit: gcd(a, b)</text>\n",
       "</g>\n",
       "<!-- 11 -->\n",
       "<g id=\"node3\" class=\"node\">\n",
       "<title>11</title>\n",
       "<polygon fill=\"none\" stroke=\"black\" points=\"115.34,-188 34.34,-188 34.34,-152 115.34,-152 115.34,-188\"/>\n",
       "<text text-anchor=\"middle\" x=\"74.84\" y=\"-166.3\" font-family=\"Times,serif\" font-size=\"14.00\">11: return a</text>\n",
       "</g>\n",
       "<!-- 11&#45;&gt;2 -->\n",
       "<g id=\"edge1\" class=\"edge\">\n",
       "<title>11&#45;&gt;2</title>\n",
       "<path fill=\"none\" stroke=\"green\" d=\"M74.84,-151.84C74.84,-144.16 74.84,-134.88 74.84,-126.05\"/>\n",
       "<polygon fill=\"green\" stroke=\"green\" points=\"78.34,-126.03 74.84,-116.03 71.34,-126.03 78.34,-126.03\"/>\n",
       "</g>\n",
       "<!-- 4 -->\n",
       "<g id=\"node5\" class=\"node\">\n",
       "<title>4</title>\n",
       "<ellipse fill=\"none\" stroke=\"black\" cx=\"138.84\" cy=\"-458\" rx=\"51.99\" ry=\"18\"/>\n",
       "<text text-anchor=\"middle\" x=\"138.84\" y=\"-454.3\" font-family=\"Times,serif\" font-size=\"14.00\">3: c: int = a</text>\n",
       "</g>\n",
       "<!-- 3&#45;&gt;4 -->\n",
       "<g id=\"edge3\" class=\"edge\">\n",
       "<title>3&#45;&gt;4</title>\n",
       "<path fill=\"none\" stroke=\"green\" d=\"M170.36,-514.15C165.44,-505.55 159.12,-494.48 153.43,-484.52\"/>\n",
       "<polygon fill=\"green\" stroke=\"green\" points=\"156.44,-482.73 148.44,-475.79 150.36,-486.21 156.44,-482.73\"/>\n",
       "</g>\n",
       "<!-- 7 -->\n",
       "<g id=\"node8\" class=\"node\">\n",
       "<title>7</title>\n",
       "<polygon fill=\"none\" stroke=\"black\" points=\"184.84,-260 90,-242 184.84,-224 279.69,-242 184.84,-260\"/>\n",
       "<text text-anchor=\"middle\" x=\"184.84\" y=\"-238.3\" font-family=\"Times,serif\" font-size=\"14.00\">7: while: b != 0</text>\n",
       "</g>\n",
       "<!-- 3&#45;&gt;7 -->\n",
       "<g id=\"edge7\" class=\"edge\">\n",
       "<title>3&#45;&gt;7</title>\n",
       "<path fill=\"none\" stroke=\"green\" d=\"M186.7,-513.7C191.55,-503.35 197.32,-489.22 199.84,-476 213.96,-402.04 199.69,-312.73 190.8,-269.29\"/>\n",
       "<polygon fill=\"green\" stroke=\"green\" points=\"194.17,-268.33 188.68,-259.28 187.33,-269.78 194.17,-268.33\"/>\n",
       "</g>\n",
       "<!-- 5 -->\n",
       "<g id=\"node6\" class=\"node\">\n",
       "<title>5</title>\n",
       "<polygon fill=\"none\" stroke=\"black\" points=\"179.34,-404 120.34,-404 120.34,-368 179.34,-368 179.34,-404\"/>\n",
       "<text text-anchor=\"middle\" x=\"149.84\" y=\"-382.3\" font-family=\"Times,serif\" font-size=\"14.00\">4: a = b</text>\n",
       "</g>\n",
       "<!-- 4&#45;&gt;5 -->\n",
       "<g id=\"edge4\" class=\"edge\">\n",
       "<title>4&#45;&gt;5</title>\n",
       "<path fill=\"none\" stroke=\"green\" d=\"M141.56,-439.7C142.78,-431.98 144.23,-422.71 145.58,-414.11\"/>\n",
       "<polygon fill=\"green\" stroke=\"green\" points=\"149.06,-414.53 147.16,-404.1 142.15,-413.44 149.06,-414.53\"/>\n",
       "</g>\n",
       "<!-- 6 -->\n",
       "<g id=\"node7\" class=\"node\">\n",
       "<title>6</title>\n",
       "<polygon fill=\"none\" stroke=\"black\" points=\"185.34,-332 126.34,-332 126.34,-296 185.34,-296 185.34,-332\"/>\n",
       "<text text-anchor=\"middle\" x=\"155.84\" y=\"-310.3\" font-family=\"Times,serif\" font-size=\"14.00\">5: b = c</text>\n",
       "</g>\n",
       "<!-- 5&#45;&gt;6 -->\n",
       "<g id=\"edge5\" class=\"edge\">\n",
       "<title>5&#45;&gt;6</title>\n",
       "<path fill=\"none\" stroke=\"green\" d=\"M151.33,-367.7C151.99,-359.98 152.78,-350.71 153.52,-342.11\"/>\n",
       "<polygon fill=\"green\" stroke=\"green\" points=\"157.01,-342.37 154.38,-332.1 150.04,-341.77 157.01,-342.37\"/>\n",
       "</g>\n",
       "<!-- 6&#45;&gt;7 -->\n",
       "<g id=\"edge6\" class=\"edge\">\n",
       "<title>6&#45;&gt;7</title>\n",
       "<path fill=\"none\" stroke=\"green\" d=\"M163.01,-295.7C166.41,-287.49 170.54,-277.52 174.29,-268.48\"/>\n",
       "<polygon fill=\"green\" stroke=\"green\" points=\"177.56,-269.72 178.16,-259.14 171.09,-267.04 177.56,-269.72\"/>\n",
       "</g>\n",
       "<!-- 7&#45;&gt;11 -->\n",
       "<g id=\"edge12\" class=\"edge\">\n",
       "<title>7&#45;&gt;11</title>\n",
       "<path fill=\"none\" stroke=\"green\" d=\"M164.15,-227.83C148.96,-218.17 127.96,-204.8 110.14,-193.46\"/>\n",
       "<polygon fill=\"green\" stroke=\"green\" points=\"112,-190.5 101.69,-188.08 108.24,-196.4 112,-190.5\"/>\n",
       "</g>\n",
       "<!-- 8 -->\n",
       "<g id=\"node10\" class=\"node\">\n",
       "<title>8</title>\n",
       "<ellipse fill=\"none\" stroke=\"black\" cx=\"184.84\" cy=\"-170\" rx=\"51.99\" ry=\"18\"/>\n",
       "<text text-anchor=\"middle\" x=\"184.84\" y=\"-166.3\" font-family=\"Times,serif\" font-size=\"14.00\">8: c: int = a</text>\n",
       "</g>\n",
       "<!-- 7&#45;&gt;8 -->\n",
       "<g id=\"edge9\" class=\"edge\">\n",
       "<title>7&#45;&gt;8</title>\n",
       "<path fill=\"none\" stroke=\"green\" d=\"M184.84,-223.7C184.84,-215.98 184.84,-206.71 184.84,-198.11\"/>\n",
       "<polygon fill=\"green\" stroke=\"green\" points=\"188.34,-198.1 184.84,-188.1 181.34,-198.1 188.34,-198.1\"/>\n",
       "</g>\n",
       "<!-- 10 -->\n",
       "<g id=\"node9\" class=\"node\">\n",
       "<title>10</title>\n",
       "<polygon fill=\"none\" stroke=\"black\" points=\"278.84,-36 186.84,-36 186.84,0 278.84,0 278.84,-36\"/>\n",
       "<text text-anchor=\"middle\" x=\"232.84\" y=\"-14.3\" font-family=\"Times,serif\" font-size=\"14.00\">10: b = c % b</text>\n",
       "</g>\n",
       "<!-- 10&#45;&gt;7 -->\n",
       "<g id=\"edge8\" class=\"edge\">\n",
       "<title>10&#45;&gt;7</title>\n",
       "<path fill=\"none\" stroke=\"green\" d=\"M239.36,-36.01C250.35,-67.59 269.22,-136.72 245.84,-188 239.52,-201.87 227.58,-213.51 215.93,-222.32\"/>\n",
       "<polygon fill=\"green\" stroke=\"green\" points=\"213.72,-219.59 207.58,-228.22 217.76,-225.31 213.72,-219.59\"/>\n",
       "</g>\n",
       "<!-- 9 -->\n",
       "<g id=\"node11\" class=\"node\">\n",
       "<title>9</title>\n",
       "<polygon fill=\"none\" stroke=\"black\" points=\"231.34,-112 172.34,-112 172.34,-76 231.34,-76 231.34,-112\"/>\n",
       "<text text-anchor=\"middle\" x=\"201.84\" y=\"-90.3\" font-family=\"Times,serif\" font-size=\"14.00\">9: a = b</text>\n",
       "</g>\n",
       "<!-- 8&#45;&gt;9 -->\n",
       "<g id=\"edge10\" class=\"edge\">\n",
       "<title>8&#45;&gt;9</title>\n",
       "<path fill=\"none\" stroke=\"green\" d=\"M188.79,-151.84C190.82,-142.96 193.36,-131.93 195.65,-121.95\"/>\n",
       "<polygon fill=\"green\" stroke=\"green\" points=\"199.09,-122.6 197.92,-112.07 192.27,-121.03 199.09,-122.6\"/>\n",
       "</g>\n",
       "<!-- 9&#45;&gt;10 -->\n",
       "<g id=\"edge11\" class=\"edge\">\n",
       "<title>9&#45;&gt;10</title>\n",
       "<path fill=\"none\" stroke=\"green\" d=\"M209.03,-75.84C212.83,-66.78 217.57,-55.47 221.82,-45.32\"/>\n",
       "<polygon fill=\"green\" stroke=\"green\" points=\"225.06,-46.65 225.69,-36.07 218.6,-43.94 225.06,-46.65\"/>\n",
       "</g>\n",
       "</g>\n",
       "</svg>\n"
      ],
      "text/plain": [
       "<graphviz.dot.Digraph at 0x10c596940>"
      ]
     },
     "execution_count": 171,
     "metadata": {},
     "output_type": "execute_result"
    }
   ],
   "source": [
    "show_cfg(gcd, arcs=cov.arcs())"
   ]
  },
  {
   "cell_type": "markdown",
   "metadata": {
    "slideshow": {
     "slide_type": "fragment"
    }
   },
   "source": [
    "Indeed both branch and statement coverage visualization seems to indicate that we achieved complete coverage.\n",
    "How do we make use of our fuzzer in practice? We explore a small case study of a program to solve the roots of a quadratic equation."
   ]
  },
  {
   "cell_type": "markdown",
   "metadata": {
    "slideshow": {
     "slide_type": "subslide"
    }
   },
   "source": [
    "#### Example: Roots of a Quadratic Equation\n",
    "Here is the famous equation for finding the roots of a quadratic equation."
   ]
  },
  {
   "cell_type": "code",
   "execution_count": 172,
   "metadata": {
    "execution": {
     "iopub.execute_input": "2022-01-02T15:26:19.476283Z",
     "iopub.status.busy": "2022-01-02T15:26:19.475755Z",
     "iopub.status.idle": "2022-01-02T15:26:19.477644Z",
     "shell.execute_reply": "2022-01-02T15:26:19.478089Z"
    },
    "slideshow": {
     "slide_type": "skip"
    }
   },
   "outputs": [],
   "source": [
    "from typing import Tuple"
   ]
  },
  {
   "cell_type": "code",
   "execution_count": 173,
   "metadata": {
    "execution": {
     "iopub.execute_input": "2022-01-02T15:26:19.483804Z",
     "iopub.status.busy": "2022-01-02T15:26:19.483087Z",
     "iopub.status.idle": "2022-01-02T15:26:19.485679Z",
     "shell.execute_reply": "2022-01-02T15:26:19.486142Z"
    },
    "slideshow": {
     "slide_type": "fragment"
    }
   },
   "outputs": [],
   "source": [
    "def roots(a: float, b: float, c: float) -> Tuple[float, float]:\n",
    "    d: float = b * b - 4 * a * c\n",
    "    ax: float = 0.5 * d\n",
    "    bx: float = 0\n",
    "    while (ax - bx) > 0.1:\n",
    "        bx = 0.5 * (ax + d / ax)\n",
    "        ax = bx\n",
    "    s: float = bx\n",
    "\n",
    "    a2: float = 2 * a\n",
    "    ba2: float = b / a2\n",
    "    return -ba2 + s / a2, -ba2 - s / a2"
   ]
  },
  {
   "cell_type": "markdown",
   "metadata": {
    "slideshow": {
     "slide_type": "subslide"
    }
   },
   "source": [
    "Does the program look correct? Let us investigate if the program is reasonable. But before that, we need a helper\n",
    "function `sym_to_float()` to convert symbolic values to floating point."
   ]
  },
  {
   "cell_type": "code",
   "execution_count": 174,
   "metadata": {
    "execution": {
     "iopub.execute_input": "2022-01-02T15:26:19.491337Z",
     "iopub.status.busy": "2022-01-02T15:26:19.490122Z",
     "iopub.status.idle": "2022-01-02T15:26:19.492794Z",
     "shell.execute_reply": "2022-01-02T15:26:19.493264Z"
    },
    "slideshow": {
     "slide_type": "fragment"
    }
   },
   "outputs": [],
   "source": [
    "def sym_to_float(v):\n",
    "    if v is None:\n",
    "        return math.inf\n",
    "    elif isinstance(v, z3.IntNumRef):\n",
    "        return v.as_long()\n",
    "    return v.numerator_as_long() / v.denominator_as_long()"
   ]
  },
  {
   "cell_type": "markdown",
   "metadata": {
    "slideshow": {
     "slide_type": "fragment"
    }
   },
   "source": [
    "Now we are ready to fuzz."
   ]
  },
  {
   "cell_type": "code",
   "execution_count": 175,
   "metadata": {
    "execution": {
     "iopub.execute_input": "2022-01-02T15:26:19.505246Z",
     "iopub.status.busy": "2022-01-02T15:26:19.498572Z",
     "iopub.status.idle": "2022-01-02T15:26:19.701291Z",
     "shell.execute_reply": "2022-01-02T15:26:19.701726Z"
    },
    "slideshow": {
     "slide_type": "subslide"
    }
   },
   "outputs": [
    {
     "name": "stdout",
     "output_type": "stream",
     "text": [
      "{'a': 1/2, 'b': 1/8, 'c': -2}\n",
      "[0.5, 0.125, -2.0] (1.87890625, -2.12890625)\n",
      "{'a': 1/2, 'b': 1/8, 'c': 1}\n",
      "[0.5, 0.125, 1.0] (-0.125, -0.125)\n",
      "{'a': 1/2, 'b': 1/8, 'c': -3}\n",
      "[0.5, 0.125, -3.0] (2.37890625, -2.62890625)\n",
      "{'a': 1/2, 'b': 1/8, 'c': 2}\n",
      "[0.5, 0.125, 2.0] (-0.125, -0.125)\n",
      "{'a': 1/2, 'b': 1/8, 'c': -4}\n",
      "[0.5, 0.125, -4.0] (2.87890625, -3.12890625)\n",
      "{'a': 1/2, 'b': 1/8, 'c': 3}\n",
      "[0.5, 0.125, 3.0] (-0.125, -0.125)\n",
      "{'a': 3/2, 'b': 0, 'c': 0}\n",
      "[1.5, 0.0, 0.0] (0.0, -0.0)\n",
      "{'a': 1/2, 'b': 1/8, 'c': -5}\n",
      "[0.5, 0.125, -5.0] (3.37890625, -3.62890625)\n",
      "{'a': 1/2, 'b': 1/8, 'c': 4}\n",
      "[0.5, 0.125, 4.0] (-0.125, -0.125)\n",
      "{'a': 1/2, 'b': 1/8, 'c': -1}\n",
      "[0.5, 0.125, -1.0] (1.37890625, -1.62890625)\n",
      "{'a': 1/2, 'b': 1/8, 'c': -3/2}\n",
      "[0.5, 0.125, -1.5] (1.62890625, -1.87890625)\n",
      "{'a': 1/8, 'b': 1/2, 'c': -1/2}\n",
      "[0.125, 0.5, -0.5] (2.5, -6.5)\n",
      "{'a': 1/8, 'b': 1/2, 'c': -2}\n",
      "[0.125, 0.5, -2.0] (3.25, -7.25)\n",
      "{'a': 0, 'b': 0, 'c': -13/8}\n"
     ]
    },
    {
     "name": "stderr",
     "output_type": "stream",
     "text": [
      "Traceback (most recent call last):\n",
      "  File \"/tmp/ipykernel_20349/2733494840.py\", line 11, in <module>\n",
      "    v = roots(*d)\n",
      "  File \"/tmp/ipykernel_20349/3901012876.py\", line 11, in roots\n",
      "    ba2: float = b / a2\n",
      "ZeroDivisionError: float division by zero (expected)\n"
     ]
    }
   ],
   "source": [
    "asymfz_roots = AdvancedSymbolicFuzzer(\n",
    "    roots,\n",
    "    max_tries=10,\n",
    "    max_iter=10,\n",
    "    max_depth=10)\n",
    "with ExpectError():\n",
    "    for i in range(100):\n",
    "        r = asymfz_roots.fuzz()\n",
    "        print(r)\n",
    "        d = [sym_to_float(r[i]) for i in ['a', 'b', 'c']]\n",
    "        v = roots(*d)\n",
    "        print(d, v)"
   ]
  },
  {
   "cell_type": "markdown",
   "metadata": {
    "slideshow": {
     "slide_type": "subslide"
    }
   },
   "source": [
    "We have a `ZeroDivisionError`. Can we eliminate it?"
   ]
  },
  {
   "cell_type": "markdown",
   "metadata": {
    "slideshow": {
     "slide_type": "subslide"
    }
   },
   "source": [
    "#####  Roots - Check Before Divide"
   ]
  },
  {
   "cell_type": "code",
   "execution_count": 176,
   "metadata": {
    "execution": {
     "iopub.execute_input": "2022-01-02T15:26:19.707762Z",
     "iopub.status.busy": "2022-01-02T15:26:19.706859Z",
     "iopub.status.idle": "2022-01-02T15:26:19.710825Z",
     "shell.execute_reply": "2022-01-02T15:26:19.711408Z"
    },
    "slideshow": {
     "slide_type": "subslide"
    }
   },
   "outputs": [],
   "source": [
    "def roots2(a: float, b: float, c: float) -> Tuple[float, float]:\n",
    "    d: float = b * b - 4 * a * c\n",
    "\n",
    "    xa: float = 0.5 * d\n",
    "    xb: float = 0\n",
    "    while (xa - xb) > 0.1:\n",
    "        xb = 0.5 * (xa + d / xa)\n",
    "        xa = xb\n",
    "    s: float = xb\n",
    "\n",
    "    if a == 0:\n",
    "        return -c / b, -c / b  # only one solution\n",
    "\n",
    "    a2: float = 2 * a\n",
    "    ba2: float = b / a2\n",
    "    return -ba2 + s / a2, -ba2 - s / a2"
   ]
  },
  {
   "cell_type": "code",
   "execution_count": 177,
   "metadata": {
    "execution": {
     "iopub.execute_input": "2022-01-02T15:26:19.722637Z",
     "iopub.status.busy": "2022-01-02T15:26:19.718590Z",
     "iopub.status.idle": "2022-01-02T15:26:19.807538Z",
     "shell.execute_reply": "2022-01-02T15:26:19.807963Z"
    },
    "slideshow": {
     "slide_type": "subslide"
    }
   },
   "outputs": [
    {
     "name": "stderr",
     "output_type": "stream",
     "text": [
      "Traceback (most recent call last):\n",
      "  File \"/tmp/ipykernel_20349/1140150925.py\", line 10, in <module>\n",
      "    v = roots2(*d)\n",
      "  File \"/tmp/ipykernel_20349/1742037252.py\", line 12, in roots2\n",
      "    return -c / b, -c / b  # only one solution\n",
      "ZeroDivisionError: float division by zero (expected)\n"
     ]
    }
   ],
   "source": [
    "asymfz_roots = AdvancedSymbolicFuzzer(\n",
    "    roots2,\n",
    "    max_tries=10,\n",
    "    max_iter=10,\n",
    "    max_depth=10)\n",
    "with ExpectError():\n",
    "    for i in range(1000):\n",
    "        r = asymfz_roots.fuzz()\n",
    "        d = [sym_to_float(r[i]) for i in ['a', 'b', 'c']]\n",
    "        v = roots2(*d)\n",
    "        #print(d, v)"
   ]
  },
  {
   "cell_type": "markdown",
   "metadata": {
    "slideshow": {
     "slide_type": "subslide"
    }
   },
   "source": [
    "Apparently, our fix was incomplete. Let us try again."
   ]
  },
  {
   "cell_type": "markdown",
   "metadata": {
    "slideshow": {
     "slide_type": "subslide"
    }
   },
   "source": [
    "#####  Roots - Eliminating the Zero Division Error"
   ]
  },
  {
   "cell_type": "code",
   "execution_count": 178,
   "metadata": {
    "execution": {
     "iopub.execute_input": "2022-01-02T15:26:19.811790Z",
     "iopub.status.busy": "2022-01-02T15:26:19.811192Z",
     "iopub.status.idle": "2022-01-02T15:26:19.813678Z",
     "shell.execute_reply": "2022-01-02T15:26:19.814118Z"
    },
    "slideshow": {
     "slide_type": "skip"
    }
   },
   "outputs": [],
   "source": [
    "import math"
   ]
  },
  {
   "cell_type": "code",
   "execution_count": 179,
   "metadata": {
    "execution": {
     "iopub.execute_input": "2022-01-02T15:26:19.819827Z",
     "iopub.status.busy": "2022-01-02T15:26:19.819232Z",
     "iopub.status.idle": "2022-01-02T15:26:19.820915Z",
     "shell.execute_reply": "2022-01-02T15:26:19.821321Z"
    },
    "slideshow": {
     "slide_type": "subslide"
    }
   },
   "outputs": [],
   "source": [
    "def roots3(a: float, b: float, c: float) -> Tuple[float, float]:\n",
    "    d: float = b * b - 4 * a * c\n",
    "\n",
    "    xa: float = 0.5 * d\n",
    "    xb: float = 0\n",
    "    while (xa - xb) > 0.1:\n",
    "        xb = 0.5 * (xa + d / xa)\n",
    "        xa = xb\n",
    "    s: float = xb\n",
    "\n",
    "    if a == 0:\n",
    "        if b == 0:\n",
    "            return math.inf, math.inf\n",
    "        return -c / b, -c / b  # only one solution\n",
    "\n",
    "    a2: float = 2 * a\n",
    "    ba2: float = b / a2\n",
    "    return -ba2 + s / a2, -ba2 - s / a2"
   ]
  },
  {
   "cell_type": "code",
   "execution_count": 180,
   "metadata": {
    "execution": {
     "iopub.execute_input": "2022-01-02T15:26:19.829642Z",
     "iopub.status.busy": "2022-01-02T15:26:19.827192Z",
     "iopub.status.idle": "2022-01-02T15:26:19.989133Z",
     "shell.execute_reply": "2022-01-02T15:26:19.989888Z"
    },
    "slideshow": {
     "slide_type": "subslide"
    }
   },
   "outputs": [
    {
     "name": "stdout",
     "output_type": "stream",
     "text": [
      "{'a': -1, 'b': 0, 'c': 0}\n",
      "[-1.0, 0.0, 0.0] (0.0, 0.0)\n",
      "{'a': 1, 'b': 1/8, 'c': -2}\n",
      "[1.0, 0.125, -2.0] (1.439453125, -1.564453125)\n",
      "{'a': 1, 'b': 1/8, 'c': 1}\n",
      "[1.0, 0.125, 1.0] (-0.0625, -0.0625)\n",
      "{'a': 0, 'b': 1/4, 'c': 0}\n",
      "[0.0, 0.25, 0.0] (-0.0, -0.0)\n",
      "{'a': 0, 'b': 0, 'c': 2}\n",
      "[0.0, 0.0, 2.0] (inf, inf)\n",
      "{'a': 0, 'b': 1, 'c': -1/4}\n",
      "[0.0, 1.0, -0.25] (0.25, 0.25)\n",
      "{'a': 1, 'b': 1/8, 'c': 2}\n",
      "[1.0, 0.125, 2.0] (-0.0625, -0.0625)\n",
      "{'a': 0, 'b': 1/4, 'c': -1}\n",
      "[0.0, 0.25, -1.0] (4.0, 4.0)\n",
      "{'a': 0, 'b': 0, 'c': 3}\n",
      "[0.0, 0.0, 3.0] (inf, inf)\n",
      "{'a': 1/2, 'b': 1/8, 'c': -2}\n",
      "[0.5, 0.125, -2.0] (1.87890625, -2.12890625)\n"
     ]
    }
   ],
   "source": [
    "asymfz_roots = AdvancedSymbolicFuzzer(\n",
    "    roots3,\n",
    "    max_tries=10,\n",
    "    max_iter=10,\n",
    "    max_depth=10)\n",
    "for i in range(10):\n",
    "    r = asymfz_roots.fuzz()\n",
    "    print(r)\n",
    "    d = [sym_to_float(r[i]) for i in ['a', 'b', 'c']]\n",
    "    v = roots3(*d)\n",
    "    print(d, v)"
   ]
  },
  {
   "cell_type": "markdown",
   "metadata": {
    "slideshow": {
     "slide_type": "subslide"
    }
   },
   "source": [
    "With this, we have demonstrated that we can use our *AdvancedSymbolicFuzzer* to fuzz programs, and it can aid in identifying problems in code."
   ]
  },
  {
   "cell_type": "markdown",
   "metadata": {
    "jp-MarkdownHeadingCollapsed": true,
    "slideshow": {
     "slide_type": "slide"
    },
    "tags": []
   },
   "source": [
    "## Limitations\n",
    "\n",
    "There is an evident error in this program. We are not checking for negative roots. However, the symbolic execution does not seem to have detected it. Why are we not able to detect the problem of negative roots? Because we stop execution at a predetermined depth without throwing an error. That is, our symbolic execution is wide but shallow. One of the ways this limitation can be overcome is by relying on [concolic execution](ConcolicFuzzer.ipynb), that allows one to go deeper than pure symbolic execution. A second problem is that symbolic execution is necessarily computation intensive. Which means that specification based fuzzers are often able to generate a much larger set of inputs, and consecutively more coverage on programs that do not check for magic bytes, such that they provide a reasonable gradient of exploration."
   ]
  },
  {
   "cell_type": "markdown",
   "metadata": {
    "slideshow": {
     "slide_type": "slide"
    }
   },
   "source": [
    "## Synopsis"
   ]
  },
  {
   "cell_type": "markdown",
   "metadata": {
    "slideshow": {
     "slide_type": "fragment"
    }
   },
   "source": [
    "This chapter provides an implementation of a symbolic fuzzing engine `AdvancedSymbolicFuzzer`. The fuzzer uses symbolic execution to exhaustively explore paths in the program to a limited depth, and generate inputs that will reach these paths. Given a program to explore (`gcd` here), the fuzzer can be used as follows:"
   ]
  },
  {
   "cell_type": "code",
   "execution_count": 181,
   "metadata": {
    "execution": {
     "iopub.execute_input": "2022-01-02T15:26:19.997938Z",
     "iopub.status.busy": "2022-01-02T15:26:19.994941Z",
     "iopub.status.idle": "2022-01-02T15:26:20.045613Z",
     "shell.execute_reply": "2022-01-02T15:26:20.045981Z"
    },
    "slideshow": {
     "slide_type": "subslide"
    }
   },
   "outputs": [
    {
     "name": "stdout",
     "output_type": "stream",
     "text": [
      "{'a': 7, 'b': 5}\n",
      "{'a': -1, 'b': 0}\n",
      "{'a': 2, 'b': 7}\n",
      "{'a': 7, 'b': 6}\n",
      "{'a': 3, 'b': 5}\n",
      "{'a': 0, 'b': -1}\n",
      "{'a': 15, 'b': 8}\n",
      "{'a': -2, 'b': 0}\n",
      "{'a': 9533, 'b': -9533}\n",
      "{'a': 12, 'b': 11}\n"
     ]
    }
   ],
   "source": [
    "gcd_fuzzer = AdvancedSymbolicFuzzer(gcd, max_tries=10, max_iter=10, max_depth=10)\n",
    "for i in range(10):\n",
    "    r = gcd_fuzzer.fuzz()\n",
    "    print(r)"
   ]
  },
  {
   "cell_type": "markdown",
   "metadata": {
    "button": false,
    "new_sheet": true,
    "run_control": {
     "read_only": false
    },
    "slideshow": {
     "slide_type": "slide"
    }
   },
   "source": [
    "## Lessons Learned\n",
    "\n",
    "* One can use symbolic execution to augment the inputs that explore all characteristics of a program.\n",
    "* Symbolic execution can be broad but shallow.\n",
    "* Symbolic execution is well suited for programs that rely on specific values to be present in the input, however, its utility decreases when such values are not present, and the input space represents a gradient in terms of coverage."
   ]
  },
  {
   "cell_type": "markdown",
   "metadata": {
    "button": false,
    "new_sheet": false,
    "run_control": {
     "read_only": false
    },
    "slideshow": {
     "slide_type": "slide"
    }
   },
   "source": [
    "## Next Steps\n",
    "\n",
    "* [Search based fuzzing](SearchBasedFuzzer.ipynb) can often be an acceptable middle ground when random fuzzing does not provide sufficient results, but symbolic fuzzing is too heavyweight."
   ]
  },
  {
   "cell_type": "markdown",
   "metadata": {
    "slideshow": {
     "slide_type": "slide"
    }
   },
   "source": [
    "## Background\n",
    "\n",
    "Symbolic execution of programs was originally described by King \\cite{king1976symbolic} in 1976. It is used extensively in vulnerability analysis of software, especially binary programs. Some of the well known symbolic execution tools include *KLEE* \\cite{KLEE}, *angr* \\cite{wang2017angr}, *Driller* \\cite{stephens2016driller}, and *SAGE* \\cite{godefroid2012sage}. The best known symbolic execution environment for Python is CHEF \\cite{bucur2014prototyping} which does symbolic execution by modifying the interpreter.\n",
    "\n",
    "The Z3 solver we use in this chapter was developed at Microsoft Research under the lead of Leonardo de Moura and Nikolaj Bjørner \\cite{z3}. It is one of the most popular solvers."
   ]
  },
  {
   "cell_type": "markdown",
   "metadata": {
    "button": false,
    "new_sheet": true,
    "run_control": {
     "read_only": false
    },
    "slideshow": {
     "slide_type": "slide"
    }
   },
   "source": [
    "## Exercises"
   ]
  },
  {
   "cell_type": "markdown",
   "metadata": {
    "button": false,
    "new_sheet": false,
    "run_control": {
     "read_only": false
    },
    "slideshow": {
     "slide_type": "subslide"
    },
    "solution": "hidden",
    "solution2": "hidden",
    "solution2_first": true,
    "solution_first": true
   },
   "source": [
    "### Exercise 1: _Extending Symbolic Fuzzer to use function summaries_\n",
    "\n",
    "We showed in the first section how function summaries may be produced. Can you extend the `AdvancedSymbolicFuzzer` to use function summaries when needed?"
   ]
  },
  {
   "cell_type": "markdown",
   "metadata": {
    "button": false,
    "new_sheet": false,
    "run_control": {
     "read_only": false
    },
    "slideshow": {
     "slide_type": "skip"
    },
    "solution": "hidden",
    "solution2": "hidden"
   },
   "source": [
    "**Solution.** _None yet available._"
   ]
  },
  {
   "cell_type": "markdown",
   "metadata": {
    "slideshow": {
     "slide_type": "subslide"
    }
   },
   "source": [
    "### Exercise 2: _Statically checking if a loop should be unrolled further_\n",
    "\n",
    "We examined how loops would be unrolled during exploration to a fixed depth. However, not all loops need to be unrolled completely. Some of the loops may contain only a constant number of iterations. For example, consider the loop below."
   ]
  },
  {
   "cell_type": "code",
   "execution_count": 182,
   "metadata": {
    "execution": {
     "iopub.execute_input": "2022-01-02T15:26:20.050047Z",
     "iopub.status.busy": "2022-01-02T15:26:20.049503Z",
     "iopub.status.idle": "2022-01-02T15:26:20.051120Z",
     "shell.execute_reply": "2022-01-02T15:26:20.051575Z"
    },
    "slideshow": {
     "slide_type": "fragment"
    }
   },
   "outputs": [],
   "source": [
    "i = 0\n",
    "while i < 10:\n",
    "    i += 1"
   ]
  },
  {
   "cell_type": "markdown",
   "metadata": {
    "slideshow": {
     "slide_type": "fragment"
    }
   },
   "source": [
    "This loop needs to be unrolled exactly $10$ times. For such cases, can you implement a method `can_be_satisfied()` which is invoked as below, to only unroll further if the path condition can be satisfied."
   ]
  },
  {
   "cell_type": "code",
   "execution_count": 183,
   "metadata": {
    "execution": {
     "iopub.execute_input": "2022-01-02T15:26:20.056748Z",
     "iopub.status.busy": "2022-01-02T15:26:20.056205Z",
     "iopub.status.idle": "2022-01-02T15:26:20.057891Z",
     "shell.execute_reply": "2022-01-02T15:26:20.058414Z"
    },
    "slideshow": {
     "slide_type": "subslide"
    },
    "solution2": "hidden",
    "solution2_first": true
   },
   "outputs": [],
   "source": [
    "class AdvancedSymbolicFuzzer(AdvancedSymbolicFuzzer):\n",
    "    def get_all_paths(self, fenter):\n",
    "        path_lst = [PNode(0, fenter)]\n",
    "        completed = []\n",
    "        for i in range(self.max_iter):\n",
    "            new_paths = [PNode(0, fenter)]\n",
    "            for path in path_lst:\n",
    "                # explore each path once\n",
    "                if path.cfgnode.children:\n",
    "                    np = path.explore()\n",
    "                    for p in np:\n",
    "                        if path.idx > self.max_depth:\n",
    "                            break\n",
    "                        if self.can_be_satisfied(p):\n",
    "                            new_paths.append(p)\n",
    "                        else:\n",
    "                            break\n",
    "                else:\n",
    "                    completed.append(path)\n",
    "            path_lst = new_paths\n",
    "        return completed + path_lst"
   ]
  },
  {
   "cell_type": "markdown",
   "metadata": {
    "slideshow": {
     "slide_type": "skip"
    },
    "solution2": "hidden",
    "solution2_first": true
   },
   "source": [
    "**Solution.** Here is a solution."
   ]
  },
  {
   "cell_type": "code",
   "execution_count": 184,
   "metadata": {
    "execution": {
     "iopub.execute_input": "2022-01-02T15:26:20.063241Z",
     "iopub.status.busy": "2022-01-02T15:26:20.062638Z",
     "iopub.status.idle": "2022-01-02T15:26:20.064102Z",
     "shell.execute_reply": "2022-01-02T15:26:20.064785Z"
    },
    "slideshow": {
     "slide_type": "skip"
    },
    "solution2": "hidden"
   },
   "outputs": [],
   "source": [
    "class AdvancedSymbolicFuzzer(AdvancedSymbolicFuzzer):\n",
    "    def can_be_satisfied(self, p):\n",
    "        s2 = self.extract_constraints(p.get_path_to_root())\n",
    "        s = z3.Solver()\n",
    "        identifiers = [c for i in s2 for c in used_identifiers(i)]\n",
    "        with_types = identifiers_with_types(identifiers, self.used_variables)\n",
    "        decl = define_symbolic_vars(with_types, '')\n",
    "        exec(decl)\n",
    "        exec(\"s.add(z3.And(%s))\" % ','.join(s2), globals(), locals())\n",
    "        return s.check() == z3.sat"
   ]
  },
  {
   "cell_type": "markdown",
   "metadata": {
    "slideshow": {
     "slide_type": "skip"
    },
    "solution2": "hidden"
   },
   "source": [
    "With this implementation, new conditions are appended to paths if and only if the paths are still satisfiable after incorporating the condition."
   ]
  },
  {
   "cell_type": "markdown",
   "metadata": {
    "slideshow": {
     "slide_type": "subslide"
    }
   },
   "source": [
    "### Exercise 3: _Implementing a Concolic Fuzzer_\n"
   ]
  },
  {
   "cell_type": "markdown",
   "metadata": {
    "slideshow": {
     "slide_type": "fragment"
    },
    "solution2": "hidden",
    "solution2_first": true
   },
   "source": [
    "We have seen in the chapter on [concolic fuzzing](ConcolicFuzzer.ipynb) how to trace a function concolicaly using information flow. However, this is somewhat suboptimal as the constraints can get dropped when the information flow is indirect (as in control flow based information flow). Can you implement concolic tracing using the infrastructure we built for symbolic execution?"
   ]
  },
  {
   "cell_type": "markdown",
   "metadata": {
    "slideshow": {
     "slide_type": "skip"
    },
    "solution2": "hidden",
    "solution2_first": true
   },
   "source": [
    "**Solution.** Here is a possible solution."
   ]
  },
  {
   "cell_type": "markdown",
   "metadata": {
    "slideshow": {
     "slide_type": "skip"
    },
    "solution2": "hidden"
   },
   "source": [
    "In *concolic execution*, we rely on a seed input to guide our symbolic execution. We collect the line numbers that our seed input traces, and feed it to the symbolic execution such that in the `explore` step, only the child node that correspond to the seed input execution path is chosen. This allows us to collect the complete set of constraints along a *representative path*. Once we have it, we can choose any particular predicate and invert it to explore the program execution paths near the representative path."
   ]
  },
  {
   "cell_type": "markdown",
   "metadata": {
    "slideshow": {
     "slide_type": "skip"
    },
    "solution2": "hidden"
   },
   "source": [
    "We modify our original `ArcCoverage` to provide *all* line numbers that the program traversed."
   ]
  },
  {
   "cell_type": "code",
   "execution_count": 185,
   "metadata": {
    "execution": {
     "iopub.execute_input": "2022-01-02T15:26:20.069481Z",
     "iopub.status.busy": "2022-01-02T15:26:20.068959Z",
     "iopub.status.idle": "2022-01-02T15:26:20.070615Z",
     "shell.execute_reply": "2022-01-02T15:26:20.070986Z"
    },
    "slideshow": {
     "slide_type": "skip"
    },
    "solution2": "hidden"
   },
   "outputs": [],
   "source": [
    "class TrackingArcCoverage(ArcCoverage):\n",
    "    def offsets_from_entry(self, fn):\n",
    "        zero = self._trace[0][1] - 1\n",
    "        return [l - zero for (f, l) in self._trace if f == fn]"
   ]
  },
  {
   "cell_type": "code",
   "execution_count": 186,
   "metadata": {
    "execution": {
     "iopub.execute_input": "2022-01-02T15:26:20.090239Z",
     "iopub.status.busy": "2022-01-02T15:26:20.082261Z",
     "iopub.status.idle": "2022-01-02T15:26:20.115578Z",
     "shell.execute_reply": "2022-01-02T15:26:20.116073Z"
    },
    "slideshow": {
     "slide_type": "skip"
    },
    "solution2": "hidden"
   },
   "outputs": [],
   "source": [
    "with TrackingArcCoverage() as cov:\n",
    "    roots3(1, 1, 1)"
   ]
  },
  {
   "cell_type": "code",
   "execution_count": 187,
   "metadata": {
    "execution": {
     "iopub.execute_input": "2022-01-02T15:26:20.120370Z",
     "iopub.status.busy": "2022-01-02T15:26:20.119786Z",
     "iopub.status.idle": "2022-01-02T15:26:20.122139Z",
     "shell.execute_reply": "2022-01-02T15:26:20.122536Z"
    },
    "slideshow": {
     "slide_type": "skip"
    },
    "solution2": "hidden"
   },
   "outputs": [
    {
     "data": {
      "text/plain": [
       "[1, 2, 4, 5, 6, 9, 11, 16, 17, 18]"
      ]
     },
     "execution_count": 187,
     "metadata": {},
     "output_type": "execute_result"
    }
   ],
   "source": [
    "cov.offsets_from_entry('roots3')"
   ]
  },
  {
   "cell_type": "markdown",
   "metadata": {
    "slideshow": {
     "slide_type": "skip"
    },
    "solution2": "hidden"
   },
   "source": [
    "The `ConcolicTracer` first extracts the program trace on a seed input."
   ]
  },
  {
   "cell_type": "code",
   "execution_count": 188,
   "metadata": {
    "execution": {
     "iopub.execute_input": "2022-01-02T15:26:20.126753Z",
     "iopub.status.busy": "2022-01-02T15:26:20.126127Z",
     "iopub.status.idle": "2022-01-02T15:26:20.127686Z",
     "shell.execute_reply": "2022-01-02T15:26:20.128069Z"
    },
    "slideshow": {
     "slide_type": "skip"
    },
    "solution2": "hidden"
   },
   "outputs": [],
   "source": [
    "class ConcolicTracer(AdvancedSymbolicFuzzer):\n",
    "    def __init__(self, fn, fnargs, **kwargs):\n",
    "        with TrackingArcCoverage() as cov:\n",
    "            fn(*fnargs)\n",
    "        self.lines = cov.offsets_from_entry(fn.__name__)\n",
    "        self.current_line = 0\n",
    "        super().__init__(fn, **kwargs)"
   ]
  },
  {
   "cell_type": "markdown",
   "metadata": {
    "slideshow": {
     "slide_type": "skip"
    },
    "solution2": "hidden"
   },
   "source": [
    "The method `get_all_paths()` now tries to follow the seed execution path."
   ]
  },
  {
   "cell_type": "code",
   "execution_count": 189,
   "metadata": {
    "execution": {
     "iopub.execute_input": "2022-01-02T15:26:20.133417Z",
     "iopub.status.busy": "2022-01-02T15:26:20.132860Z",
     "iopub.status.idle": "2022-01-02T15:26:20.134687Z",
     "shell.execute_reply": "2022-01-02T15:26:20.135087Z"
    },
    "slideshow": {
     "slide_type": "skip"
    },
    "solution2": "hidden"
   },
   "outputs": [],
   "source": [
    "class ConcolicTracer(ConcolicTracer):\n",
    "    def get_all_paths(self, fenter):\n",
    "        assert fenter.ast_node.lineno == self.lines[self.current_line]\n",
    "        self.current_line += 1\n",
    "        last_node = PNode(0, fenter)\n",
    "        while last_node and self.current_line < len(self.lines):\n",
    "            if last_node.cfgnode.children:\n",
    "                np = last_node.explore()\n",
    "                for p in np:\n",
    "                    if self.lines[self.current_line] == p.cfgnode.ast_node.lineno:\n",
    "                        self.current_line += 1\n",
    "                        last_node = p\n",
    "                        break\n",
    "                else:\n",
    "                    last_node = None\n",
    "                    break\n",
    "            else:\n",
    "                break\n",
    "        assert len(self.lines) == self.current_line\n",
    "        return [last_node]"
   ]
  },
  {
   "cell_type": "markdown",
   "metadata": {
    "slideshow": {
     "slide_type": "skip"
    },
    "solution2": "hidden"
   },
   "source": [
    "We are now ready to concolicaly trace our execution."
   ]
  },
  {
   "cell_type": "markdown",
   "metadata": {
    "slideshow": {
     "slide_type": "subslide"
    },
    "solution2": "hidden"
   },
   "source": [
    "#### Tracing the Execution Concolicaly"
   ]
  },
  {
   "cell_type": "code",
   "execution_count": 190,
   "metadata": {
    "execution": {
     "iopub.execute_input": "2022-01-02T15:26:20.150437Z",
     "iopub.status.busy": "2022-01-02T15:26:20.141735Z",
     "iopub.status.idle": "2022-01-02T15:26:20.182109Z",
     "shell.execute_reply": "2022-01-02T15:26:20.181628Z"
    },
    "slideshow": {
     "slide_type": "fragment"
    },
    "solution2": "hidden"
   },
   "outputs": [],
   "source": [
    "acfz_roots = ConcolicTracer(\n",
    "    roots3,\n",
    "    fnargs=[1, 1, 1],\n",
    "    max_tries=10,\n",
    "    max_iter=10,\n",
    "    max_depth=10)"
   ]
  },
  {
   "cell_type": "code",
   "execution_count": 191,
   "metadata": {
    "execution": {
     "iopub.execute_input": "2022-01-02T15:26:20.188080Z",
     "iopub.status.busy": "2022-01-02T15:26:20.187047Z",
     "iopub.status.idle": "2022-01-02T15:26:20.190926Z",
     "shell.execute_reply": "2022-01-02T15:26:20.191383Z"
    },
    "slideshow": {
     "slide_type": "subslide"
    },
    "solution2": "hidden"
   },
   "outputs": [
    {
     "data": {
      "text/plain": [
       "[PNode:0[id:75 line[1] parents: [] : enter: roots3(a, b, c) order:0],\n",
       " PNode:1[id:77 line[2] parents: [75] : d: float = b * b - 4 * a * c order:0],\n",
       " PNode:2[id:78 line[4] parents: [77] : xa: float = 0.5 * d order:0],\n",
       " PNode:3[id:79 line[5] parents: [78] : xb: float = 0 order:0],\n",
       " PNode:4[id:80 line[6] parents: [79, 82] : _while: xa - xb > 0.1 order:1],\n",
       " PNode:5[id:83 line[9] parents: [80] : s: float = xb order:0],\n",
       " PNode:6[id:84 line[11] parents: [83] : _if: a == 0 order:1],\n",
       " PNode:7[id:88 line[16] parents: [84] : a2: float = 2 * a order:0],\n",
       " PNode:8[id:89 line[17] parents: [88] : ba2: float = b / a2 order:0],\n",
       " PNode:9[id:90 line[18] parents: [89] : return (-ba2 + s / a2, -ba2 - s / a2) order:0]]"
      ]
     },
     "execution_count": 191,
     "metadata": {},
     "output_type": "execute_result"
    }
   ],
   "source": [
    "acfz_roots.paths[0].get_path_to_root()"
   ]
  },
  {
   "cell_type": "code",
   "execution_count": 192,
   "metadata": {
    "execution": {
     "iopub.execute_input": "2022-01-02T15:26:20.196075Z",
     "iopub.status.busy": "2022-01-02T15:26:20.195423Z",
     "iopub.status.idle": "2022-01-02T15:26:20.198803Z",
     "shell.execute_reply": "2022-01-02T15:26:20.199313Z"
    },
    "slideshow": {
     "slide_type": "subslide"
    },
    "solution2": "hidden"
   },
   "outputs": [
    {
     "name": "stdout",
     "output_type": "stream",
     "text": [
      "[1, 2, 4, 5, 6, 9, 11, 16, 17, 18]\n",
      "[1, 2, 4, 5, 6, 9, 11, 16, 17, 18]\n",
      "[1, 2, 4, 5, 6, 9, 11, 16, 17, 18]\n"
     ]
    }
   ],
   "source": [
    "print(cov.offsets_from_entry('roots3'))\n",
    "print([i.cfgnode.ast_node.lineno for i in acfz_roots.paths[0].get_path_to_root()])\n",
    "print(acfz_roots.lines)"
   ]
  },
  {
   "cell_type": "markdown",
   "metadata": {
    "slideshow": {
     "slide_type": "fragment"
    },
    "solution2": "hidden"
   },
   "source": [
    "As can be seen above, we recovered the trace information correctly.\n",
    "Next, we extract the constraints as usual."
   ]
  },
  {
   "cell_type": "code",
   "execution_count": 193,
   "metadata": {
    "execution": {
     "iopub.execute_input": "2022-01-02T15:26:20.204134Z",
     "iopub.status.busy": "2022-01-02T15:26:20.203345Z",
     "iopub.status.idle": "2022-01-02T15:26:20.205787Z",
     "shell.execute_reply": "2022-01-02T15:26:20.205294Z"
    },
    "slideshow": {
     "slide_type": "fragment"
    },
    "solution2": "hidden"
   },
   "outputs": [],
   "source": [
    "constraints = acfz_roots.extract_constraints(\n",
    "    acfz_roots.paths[0].get_path_to_root())"
   ]
  },
  {
   "cell_type": "code",
   "execution_count": 194,
   "metadata": {
    "execution": {
     "iopub.execute_input": "2022-01-02T15:26:20.209769Z",
     "iopub.status.busy": "2022-01-02T15:26:20.208926Z",
     "iopub.status.idle": "2022-01-02T15:26:20.213146Z",
     "shell.execute_reply": "2022-01-02T15:26:20.213678Z"
    },
    "slideshow": {
     "slide_type": "subslide"
    },
    "solution2": "hidden"
   },
   "outputs": [
    {
     "data": {
      "text/plain": [
       "['z3.And(a == _a_0, b == _b_0, c == _c_0)',\n",
       " '_d_0 == _b_0 * _b_0 - 4 * _a_0 * _c_0',\n",
       " '_xa_0 == 0.5 * _d_0',\n",
       " '_xb_0 == 0',\n",
       " 'z3.Not(_xa_0 - _xb_0 > 0.1)',\n",
       " '_s_0 == _xb_0',\n",
       " 'z3.Not(_a_0 == 0)',\n",
       " '_a2_0 == 2 * _a_0',\n",
       " '_ba2_0 == _b_0 / _a2_0']"
      ]
     },
     "execution_count": 194,
     "metadata": {},
     "output_type": "execute_result"
    }
   ],
   "source": [
    "constraints"
   ]
  },
  {
   "cell_type": "markdown",
   "metadata": {
    "slideshow": {
     "slide_type": "fragment"
    },
    "solution2": "hidden"
   },
   "source": [
    "Next, we change our constraints to symbolic variables and solve them."
   ]
  },
  {
   "cell_type": "code",
   "execution_count": 195,
   "metadata": {
    "execution": {
     "iopub.execute_input": "2022-01-02T15:26:20.219139Z",
     "iopub.status.busy": "2022-01-02T15:26:20.218468Z",
     "iopub.status.idle": "2022-01-02T15:26:20.220999Z",
     "shell.execute_reply": "2022-01-02T15:26:20.221644Z"
    },
    "slideshow": {
     "slide_type": "fragment"
    },
    "solution2": "hidden"
   },
   "outputs": [],
   "source": [
    "identifiers = [c for i in constraints for c in used_identifiers(i)]\n",
    "with_types = identifiers_with_types(identifiers, acfz_roots.used_variables)\n",
    "decl = define_symbolic_vars(with_types, '')\n",
    "exec(decl)"
   ]
  },
  {
   "cell_type": "markdown",
   "metadata": {
    "slideshow": {
     "slide_type": "subslide"
    },
    "solution2": "hidden"
   },
   "source": [
    "We are ready solve our constraints. However, before that, here is a question for you.\n",
    "*Should it result in exactly the same arguments?*"
   ]
  },
  {
   "cell_type": "code",
   "execution_count": 196,
   "metadata": {
    "execution": {
     "iopub.execute_input": "2022-01-02T15:26:20.226372Z",
     "iopub.status.busy": "2022-01-02T15:26:20.225642Z",
     "iopub.status.idle": "2022-01-02T15:26:20.250191Z",
     "shell.execute_reply": "2022-01-02T15:26:20.250576Z"
    },
    "slideshow": {
     "slide_type": "subslide"
    },
    "solution2": "hidden"
   },
   "outputs": [
    {
     "name": "stdout",
     "output_type": "stream",
     "text": [
      "[_a_0 = 1,\n",
      " _b_0 = 1/8,\n",
      " _c_0 = 1,\n",
      " _ba2_0 = 1/16,\n",
      " _a2_0 = 2,\n",
      " _s_0 = 0,\n",
      " _xb_0 = 0,\n",
      " _xa_0 = -255/128,\n",
      " _d_0 = -255/64,\n",
      " c = 1,\n",
      " b = 1/8,\n",
      " a = 1,\n",
      " /0 = [(1/8, 2) -> 1/16, else -> 0]]\n"
     ]
    }
   ],
   "source": [
    "eval('z3.solve(%s)' % ','.join(constraints))"
   ]
  },
  {
   "cell_type": "code",
   "execution_count": 197,
   "metadata": {
    "execution": {
     "iopub.execute_input": "2022-01-02T15:26:20.256008Z",
     "iopub.status.busy": "2022-01-02T15:26:20.255455Z",
     "iopub.status.idle": "2022-01-02T15:26:20.268318Z",
     "shell.execute_reply": "2022-01-02T15:26:20.268710Z"
    },
    "slideshow": {
     "slide_type": "subslide"
    },
    "solution2": "hidden"
   },
   "outputs": [
    {
     "data": {
      "text/plain": [
       "{'a': -1, 'b': 0, 'c': 0}"
      ]
     },
     "execution_count": 197,
     "metadata": {},
     "output_type": "execute_result"
    }
   ],
   "source": [
    "acfz_roots.fuzz()"
   ]
  },
  {
   "cell_type": "markdown",
   "metadata": {
    "slideshow": {
     "slide_type": "fragment"
    },
    "solution2": "hidden"
   },
   "source": [
    "Did they take the same path?"
   ]
  },
  {
   "cell_type": "code",
   "execution_count": 198,
   "metadata": {
    "execution": {
     "iopub.execute_input": "2022-01-02T15:26:20.272679Z",
     "iopub.status.busy": "2022-01-02T15:26:20.272065Z",
     "iopub.status.idle": "2022-01-02T15:26:20.852987Z",
     "shell.execute_reply": "2022-01-02T15:26:20.852395Z"
    },
    "slideshow": {
     "slide_type": "fragment"
    },
    "solution2": "hidden"
   },
   "outputs": [
    {
     "data": {
      "image/svg+xml": [
       "<?xml version=\"1.0\" encoding=\"UTF-8\" standalone=\"no\"?>\n",
       "<!DOCTYPE svg PUBLIC \"-//W3C//DTD SVG 1.1//EN\"\n",
       " \"http://www.w3.org/Graphics/SVG/1.1/DTD/svg11.dtd\">\n",
       "<!-- Generated by graphviz version 2.49.3 (20211023.0002)\n",
       " -->\n",
       "<!-- Pages: 1 -->\n",
       "<svg width=\"402pt\" height=\"708pt\"\n",
       " viewBox=\"0.00 0.00 401.50 708.00\" xmlns=\"http://www.w3.org/2000/svg\" xmlns:xlink=\"http://www.w3.org/1999/xlink\">\n",
       "<g id=\"graph0\" class=\"graph\" transform=\"scale(1 1) rotate(0) translate(4 704)\">\n",
       "<polygon fill=\"white\" stroke=\"transparent\" points=\"-4,4 -4,-704 397.5,-704 397.5,4 -4,4\"/>\n",
       "<!-- 1 -->\n",
       "<g id=\"node1\" class=\"node\">\n",
       "<title>1</title>\n",
       "<ellipse fill=\"none\" stroke=\"black\" cx=\"188\" cy=\"-678\" rx=\"89.08\" ry=\"18\"/>\n",
       "<ellipse fill=\"none\" stroke=\"black\" cx=\"188\" cy=\"-678\" rx=\"93.08\" ry=\"22\"/>\n",
       "<text text-anchor=\"middle\" x=\"188\" y=\"-674.3\" font-family=\"Times,serif\" font-size=\"14.00\">1: enter: roots(a, b, c)</text>\n",
       "</g>\n",
       "<!-- 3 -->\n",
       "<g id=\"node4\" class=\"node\">\n",
       "<title>3</title>\n",
       "<ellipse fill=\"none\" stroke=\"black\" cx=\"188\" cy=\"-602\" rx=\"111.58\" ry=\"18\"/>\n",
       "<text text-anchor=\"middle\" x=\"188\" y=\"-598.3\" font-family=\"Times,serif\" font-size=\"14.00\">2: d: float = b * b &#45; 4 * a * c</text>\n",
       "</g>\n",
       "<!-- 1&#45;&gt;3 -->\n",
       "<g id=\"edge2\" class=\"edge\">\n",
       "<title>1&#45;&gt;3</title>\n",
       "<path fill=\"none\" stroke=\"green\" d=\"M188,-655.99C188,-648.06 188,-638.91 188,-630.48\"/>\n",
       "<polygon fill=\"green\" stroke=\"green\" points=\"191.5,-630.31 188,-620.31 184.5,-630.31 191.5,-630.31\"/>\n",
       "</g>\n",
       "<!-- 2 -->\n",
       "<g id=\"node2\" class=\"node\">\n",
       "<title>2</title>\n",
       "<ellipse fill=\"none\" stroke=\"black\" cx=\"280\" cy=\"-22\" rx=\"84.49\" ry=\"18\"/>\n",
       "<ellipse fill=\"none\" stroke=\"black\" cx=\"280\" cy=\"-22\" rx=\"88.49\" ry=\"22\"/>\n",
       "<text text-anchor=\"middle\" x=\"280\" y=\"-18.3\" font-family=\"Times,serif\" font-size=\"14.00\">1: exit: roots(a, b, c)</text>\n",
       "</g>\n",
       "<!-- 12 -->\n",
       "<g id=\"node3\" class=\"node\">\n",
       "<title>12</title>\n",
       "<polygon fill=\"none\" stroke=\"black\" points=\"393.5,-116 166.5,-116 166.5,-80 393.5,-80 393.5,-116\"/>\n",
       "<text text-anchor=\"middle\" x=\"280\" y=\"-94.3\" font-family=\"Times,serif\" font-size=\"14.00\">12: return (&#45;ba2 + s / a2, &#45;ba2 &#45; s / a2)</text>\n",
       "</g>\n",
       "<!-- 12&#45;&gt;2 -->\n",
       "<g id=\"edge1\" class=\"edge\">\n",
       "<title>12&#45;&gt;2</title>\n",
       "<path fill=\"none\" stroke=\"green\" d=\"M280,-79.84C280,-72.16 280,-62.88 280,-54.05\"/>\n",
       "<polygon fill=\"green\" stroke=\"green\" points=\"283.5,-54.03 280,-44.03 276.5,-54.03 283.5,-54.03\"/>\n",
       "</g>\n",
       "<!-- 4 -->\n",
       "<g id=\"node5\" class=\"node\">\n",
       "<title>4</title>\n",
       "<ellipse fill=\"none\" stroke=\"black\" cx=\"188\" cy=\"-530\" rx=\"84.49\" ry=\"18\"/>\n",
       "<text text-anchor=\"middle\" x=\"188\" y=\"-526.3\" font-family=\"Times,serif\" font-size=\"14.00\">3: ax: float = 0.5 * d</text>\n",
       "</g>\n",
       "<!-- 3&#45;&gt;4 -->\n",
       "<g id=\"edge3\" class=\"edge\">\n",
       "<title>3&#45;&gt;4</title>\n",
       "<path fill=\"none\" stroke=\"green\" d=\"M188,-583.7C188,-575.98 188,-566.71 188,-558.11\"/>\n",
       "<polygon fill=\"green\" stroke=\"green\" points=\"191.5,-558.1 188,-548.1 184.5,-558.1 191.5,-558.1\"/>\n",
       "</g>\n",
       "<!-- 5 -->\n",
       "<g id=\"node6\" class=\"node\">\n",
       "<title>5</title>\n",
       "<ellipse fill=\"none\" stroke=\"black\" cx=\"188\" cy=\"-458\" rx=\"64.19\" ry=\"18\"/>\n",
       "<text text-anchor=\"middle\" x=\"188\" y=\"-454.3\" font-family=\"Times,serif\" font-size=\"14.00\">4: bx: float = 0</text>\n",
       "</g>\n",
       "<!-- 4&#45;&gt;5 -->\n",
       "<g id=\"edge4\" class=\"edge\">\n",
       "<title>4&#45;&gt;5</title>\n",
       "<path fill=\"none\" stroke=\"green\" d=\"M188,-511.7C188,-503.98 188,-494.71 188,-486.11\"/>\n",
       "<polygon fill=\"green\" stroke=\"green\" points=\"191.5,-486.1 188,-476.1 184.5,-486.1 191.5,-486.1\"/>\n",
       "</g>\n",
       "<!-- 6 -->\n",
       "<g id=\"node7\" class=\"node\">\n",
       "<title>6</title>\n",
       "<polygon fill=\"none\" stroke=\"black\" points=\"188,-404 58.3,-386 188,-368 317.7,-386 188,-404\"/>\n",
       "<text text-anchor=\"middle\" x=\"188\" y=\"-382.3\" font-family=\"Times,serif\" font-size=\"14.00\">5: while: ax &#45; bx &gt; 0.1</text>\n",
       "</g>\n",
       "<!-- 5&#45;&gt;6 -->\n",
       "<g id=\"edge5\" class=\"edge\">\n",
       "<title>5&#45;&gt;6</title>\n",
       "<path fill=\"none\" stroke=\"green\" d=\"M188,-439.7C188,-431.98 188,-422.71 188,-414.11\"/>\n",
       "<polygon fill=\"green\" stroke=\"green\" points=\"191.5,-414.1 188,-404.1 184.5,-414.1 191.5,-414.1\"/>\n",
       "</g>\n",
       "<!-- 7 -->\n",
       "<g id=\"node9\" class=\"node\">\n",
       "<title>7</title>\n",
       "<polygon fill=\"none\" stroke=\"black\" points=\"160,-332 0,-332 0,-296 160,-296 160,-332\"/>\n",
       "<text text-anchor=\"middle\" x=\"80\" y=\"-310.3\" font-family=\"Times,serif\" font-size=\"14.00\">6: bx = 0.5 * (ax + d / ax)</text>\n",
       "</g>\n",
       "<!-- 6&#45;&gt;7 -->\n",
       "<g id=\"edge7\" class=\"edge\">\n",
       "<title>6&#45;&gt;7</title>\n",
       "<path fill=\"none\" stroke=\"red\" d=\"M166.14,-370.83C151.45,-361.31 131.76,-348.55 114.91,-337.63\"/>\n",
       "<polygon fill=\"red\" stroke=\"red\" points=\"116.7,-334.61 106.4,-332.11 112.89,-340.49 116.7,-334.61\"/>\n",
       "</g>\n",
       "<!-- 9 -->\n",
       "<g id=\"node10\" class=\"node\">\n",
       "<title>9</title>\n",
       "<ellipse fill=\"none\" stroke=\"black\" cx=\"280\" cy=\"-314\" rx=\"63.89\" ry=\"18\"/>\n",
       "<text text-anchor=\"middle\" x=\"280\" y=\"-310.3\" font-family=\"Times,serif\" font-size=\"14.00\">8: s: float = bx</text>\n",
       "</g>\n",
       "<!-- 6&#45;&gt;9 -->\n",
       "<g id=\"edge9\" class=\"edge\">\n",
       "<title>6&#45;&gt;9</title>\n",
       "<path fill=\"none\" stroke=\"green\" d=\"M207.06,-370.5C219.65,-360.92 236.38,-348.19 250.65,-337.33\"/>\n",
       "<polygon fill=\"green\" stroke=\"green\" points=\"252.87,-340.04 258.71,-331.2 248.63,-334.47 252.87,-340.04\"/>\n",
       "</g>\n",
       "<!-- 8 -->\n",
       "<g id=\"node8\" class=\"node\">\n",
       "<title>8</title>\n",
       "<polygon fill=\"none\" stroke=\"black\" points=\"148.5,-260 75.5,-260 75.5,-224 148.5,-224 148.5,-260\"/>\n",
       "<text text-anchor=\"middle\" x=\"112\" y=\"-238.3\" font-family=\"Times,serif\" font-size=\"14.00\">7: ax = bx</text>\n",
       "</g>\n",
       "<!-- 8&#45;&gt;6 -->\n",
       "<g id=\"edge6\" class=\"edge\">\n",
       "<title>8&#45;&gt;6</title>\n",
       "<path fill=\"none\" stroke=\"red\" d=\"M136.39,-260.04C147.97,-269.37 161,-281.9 169,-296 179.75,-314.95 184.43,-339.32 186.47,-357.76\"/>\n",
       "<polygon fill=\"red\" stroke=\"red\" points=\"182.99,-358.21 187.38,-367.85 189.96,-357.58 182.99,-358.21\"/>\n",
       "</g>\n",
       "<!-- 7&#45;&gt;8 -->\n",
       "<g id=\"edge8\" class=\"edge\">\n",
       "<title>7&#45;&gt;8</title>\n",
       "<path fill=\"none\" stroke=\"red\" d=\"M87.91,-295.7C91.55,-287.73 95.95,-278.1 99.99,-269.26\"/>\n",
       "<polygon fill=\"red\" stroke=\"red\" points=\"103.21,-270.65 104.18,-260.1 96.84,-267.74 103.21,-270.65\"/>\n",
       "</g>\n",
       "<!-- 10 -->\n",
       "<g id=\"node11\" class=\"node\">\n",
       "<title>10</title>\n",
       "<ellipse fill=\"none\" stroke=\"black\" cx=\"280\" cy=\"-242\" rx=\"81.49\" ry=\"18\"/>\n",
       "<text text-anchor=\"middle\" x=\"280\" y=\"-238.3\" font-family=\"Times,serif\" font-size=\"14.00\">10: a2: float = 2 * a</text>\n",
       "</g>\n",
       "<!-- 9&#45;&gt;10 -->\n",
       "<g id=\"edge10\" class=\"edge\">\n",
       "<title>9&#45;&gt;10</title>\n",
       "<path fill=\"none\" stroke=\"green\" d=\"M280,-295.7C280,-287.98 280,-278.71 280,-270.11\"/>\n",
       "<polygon fill=\"green\" stroke=\"green\" points=\"283.5,-270.1 280,-260.1 276.5,-270.1 283.5,-270.1\"/>\n",
       "</g>\n",
       "<!-- 11 -->\n",
       "<g id=\"node12\" class=\"node\">\n",
       "<title>11</title>\n",
       "<ellipse fill=\"none\" stroke=\"black\" cx=\"280\" cy=\"-170\" rx=\"88.28\" ry=\"18\"/>\n",
       "<text text-anchor=\"middle\" x=\"280\" y=\"-166.3\" font-family=\"Times,serif\" font-size=\"14.00\">11: ba2: float = b / a2</text>\n",
       "</g>\n",
       "<!-- 10&#45;&gt;11 -->\n",
       "<g id=\"edge11\" class=\"edge\">\n",
       "<title>10&#45;&gt;11</title>\n",
       "<path fill=\"none\" stroke=\"green\" d=\"M280,-223.7C280,-215.98 280,-206.71 280,-198.11\"/>\n",
       "<polygon fill=\"green\" stroke=\"green\" points=\"283.5,-198.1 280,-188.1 276.5,-198.1 283.5,-198.1\"/>\n",
       "</g>\n",
       "<!-- 11&#45;&gt;12 -->\n",
       "<g id=\"edge12\" class=\"edge\">\n",
       "<title>11&#45;&gt;12</title>\n",
       "<path fill=\"none\" stroke=\"green\" d=\"M280,-151.7C280,-143.98 280,-134.71 280,-126.11\"/>\n",
       "<polygon fill=\"green\" stroke=\"green\" points=\"283.5,-126.1 280,-116.1 276.5,-126.1 283.5,-126.1\"/>\n",
       "</g>\n",
       "</g>\n",
       "</svg>\n"
      ],
      "text/plain": [
       "<graphviz.dot.Digraph at 0x10c43fb80>"
      ]
     },
     "execution_count": 198,
     "metadata": {},
     "output_type": "execute_result"
    }
   ],
   "source": [
    "with ArcCoverage() as cov:\n",
    "    roots(1, 1, 1)\n",
    "show_cfg(roots, arcs=cov.arcs())"
   ]
  },
  {
   "cell_type": "code",
   "execution_count": 199,
   "metadata": {
    "execution": {
     "iopub.execute_input": "2022-01-02T15:26:20.898370Z",
     "iopub.status.busy": "2022-01-02T15:26:20.871720Z",
     "iopub.status.idle": "2022-01-02T15:26:21.397204Z",
     "shell.execute_reply": "2022-01-02T15:26:21.398033Z"
    },
    "slideshow": {
     "slide_type": "fragment"
    },
    "solution2": "hidden"
   },
   "outputs": [
    {
     "data": {
      "image/svg+xml": [
       "<?xml version=\"1.0\" encoding=\"UTF-8\" standalone=\"no\"?>\n",
       "<!DOCTYPE svg PUBLIC \"-//W3C//DTD SVG 1.1//EN\"\n",
       " \"http://www.w3.org/Graphics/SVG/1.1/DTD/svg11.dtd\">\n",
       "<!-- Generated by graphviz version 2.49.3 (20211023.0002)\n",
       " -->\n",
       "<!-- Pages: 1 -->\n",
       "<svg width=\"402pt\" height=\"708pt\"\n",
       " viewBox=\"0.00 0.00 401.50 708.00\" xmlns=\"http://www.w3.org/2000/svg\" xmlns:xlink=\"http://www.w3.org/1999/xlink\">\n",
       "<g id=\"graph0\" class=\"graph\" transform=\"scale(1 1) rotate(0) translate(4 704)\">\n",
       "<polygon fill=\"white\" stroke=\"transparent\" points=\"-4,4 -4,-704 397.5,-704 397.5,4 -4,4\"/>\n",
       "<!-- 1 -->\n",
       "<g id=\"node1\" class=\"node\">\n",
       "<title>1</title>\n",
       "<ellipse fill=\"none\" stroke=\"black\" cx=\"188\" cy=\"-678\" rx=\"89.08\" ry=\"18\"/>\n",
       "<ellipse fill=\"none\" stroke=\"black\" cx=\"188\" cy=\"-678\" rx=\"93.08\" ry=\"22\"/>\n",
       "<text text-anchor=\"middle\" x=\"188\" y=\"-674.3\" font-family=\"Times,serif\" font-size=\"14.00\">1: enter: roots(a, b, c)</text>\n",
       "</g>\n",
       "<!-- 3 -->\n",
       "<g id=\"node4\" class=\"node\">\n",
       "<title>3</title>\n",
       "<ellipse fill=\"none\" stroke=\"black\" cx=\"188\" cy=\"-602\" rx=\"111.58\" ry=\"18\"/>\n",
       "<text text-anchor=\"middle\" x=\"188\" y=\"-598.3\" font-family=\"Times,serif\" font-size=\"14.00\">2: d: float = b * b &#45; 4 * a * c</text>\n",
       "</g>\n",
       "<!-- 1&#45;&gt;3 -->\n",
       "<g id=\"edge2\" class=\"edge\">\n",
       "<title>1&#45;&gt;3</title>\n",
       "<path fill=\"none\" stroke=\"green\" d=\"M188,-655.99C188,-648.06 188,-638.91 188,-630.48\"/>\n",
       "<polygon fill=\"green\" stroke=\"green\" points=\"191.5,-630.31 188,-620.31 184.5,-630.31 191.5,-630.31\"/>\n",
       "</g>\n",
       "<!-- 2 -->\n",
       "<g id=\"node2\" class=\"node\">\n",
       "<title>2</title>\n",
       "<ellipse fill=\"none\" stroke=\"black\" cx=\"280\" cy=\"-22\" rx=\"84.49\" ry=\"18\"/>\n",
       "<ellipse fill=\"none\" stroke=\"black\" cx=\"280\" cy=\"-22\" rx=\"88.49\" ry=\"22\"/>\n",
       "<text text-anchor=\"middle\" x=\"280\" y=\"-18.3\" font-family=\"Times,serif\" font-size=\"14.00\">1: exit: roots(a, b, c)</text>\n",
       "</g>\n",
       "<!-- 12 -->\n",
       "<g id=\"node3\" class=\"node\">\n",
       "<title>12</title>\n",
       "<polygon fill=\"none\" stroke=\"black\" points=\"393.5,-116 166.5,-116 166.5,-80 393.5,-80 393.5,-116\"/>\n",
       "<text text-anchor=\"middle\" x=\"280\" y=\"-94.3\" font-family=\"Times,serif\" font-size=\"14.00\">12: return (&#45;ba2 + s / a2, &#45;ba2 &#45; s / a2)</text>\n",
       "</g>\n",
       "<!-- 12&#45;&gt;2 -->\n",
       "<g id=\"edge1\" class=\"edge\">\n",
       "<title>12&#45;&gt;2</title>\n",
       "<path fill=\"none\" stroke=\"green\" d=\"M280,-79.84C280,-72.16 280,-62.88 280,-54.05\"/>\n",
       "<polygon fill=\"green\" stroke=\"green\" points=\"283.5,-54.03 280,-44.03 276.5,-54.03 283.5,-54.03\"/>\n",
       "</g>\n",
       "<!-- 4 -->\n",
       "<g id=\"node5\" class=\"node\">\n",
       "<title>4</title>\n",
       "<ellipse fill=\"none\" stroke=\"black\" cx=\"188\" cy=\"-530\" rx=\"84.49\" ry=\"18\"/>\n",
       "<text text-anchor=\"middle\" x=\"188\" y=\"-526.3\" font-family=\"Times,serif\" font-size=\"14.00\">3: ax: float = 0.5 * d</text>\n",
       "</g>\n",
       "<!-- 3&#45;&gt;4 -->\n",
       "<g id=\"edge3\" class=\"edge\">\n",
       "<title>3&#45;&gt;4</title>\n",
       "<path fill=\"none\" stroke=\"green\" d=\"M188,-583.7C188,-575.98 188,-566.71 188,-558.11\"/>\n",
       "<polygon fill=\"green\" stroke=\"green\" points=\"191.5,-558.1 188,-548.1 184.5,-558.1 191.5,-558.1\"/>\n",
       "</g>\n",
       "<!-- 5 -->\n",
       "<g id=\"node6\" class=\"node\">\n",
       "<title>5</title>\n",
       "<ellipse fill=\"none\" stroke=\"black\" cx=\"188\" cy=\"-458\" rx=\"64.19\" ry=\"18\"/>\n",
       "<text text-anchor=\"middle\" x=\"188\" y=\"-454.3\" font-family=\"Times,serif\" font-size=\"14.00\">4: bx: float = 0</text>\n",
       "</g>\n",
       "<!-- 4&#45;&gt;5 -->\n",
       "<g id=\"edge4\" class=\"edge\">\n",
       "<title>4&#45;&gt;5</title>\n",
       "<path fill=\"none\" stroke=\"green\" d=\"M188,-511.7C188,-503.98 188,-494.71 188,-486.11\"/>\n",
       "<polygon fill=\"green\" stroke=\"green\" points=\"191.5,-486.1 188,-476.1 184.5,-486.1 191.5,-486.1\"/>\n",
       "</g>\n",
       "<!-- 6 -->\n",
       "<g id=\"node7\" class=\"node\">\n",
       "<title>6</title>\n",
       "<polygon fill=\"none\" stroke=\"black\" points=\"188,-404 58.3,-386 188,-368 317.7,-386 188,-404\"/>\n",
       "<text text-anchor=\"middle\" x=\"188\" y=\"-382.3\" font-family=\"Times,serif\" font-size=\"14.00\">5: while: ax &#45; bx &gt; 0.1</text>\n",
       "</g>\n",
       "<!-- 5&#45;&gt;6 -->\n",
       "<g id=\"edge5\" class=\"edge\">\n",
       "<title>5&#45;&gt;6</title>\n",
       "<path fill=\"none\" stroke=\"green\" d=\"M188,-439.7C188,-431.98 188,-422.71 188,-414.11\"/>\n",
       "<polygon fill=\"green\" stroke=\"green\" points=\"191.5,-414.1 188,-404.1 184.5,-414.1 191.5,-414.1\"/>\n",
       "</g>\n",
       "<!-- 7 -->\n",
       "<g id=\"node9\" class=\"node\">\n",
       "<title>7</title>\n",
       "<polygon fill=\"none\" stroke=\"black\" points=\"160,-332 0,-332 0,-296 160,-296 160,-332\"/>\n",
       "<text text-anchor=\"middle\" x=\"80\" y=\"-310.3\" font-family=\"Times,serif\" font-size=\"14.00\">6: bx = 0.5 * (ax + d / ax)</text>\n",
       "</g>\n",
       "<!-- 6&#45;&gt;7 -->\n",
       "<g id=\"edge7\" class=\"edge\">\n",
       "<title>6&#45;&gt;7</title>\n",
       "<path fill=\"none\" stroke=\"red\" d=\"M166.14,-370.83C151.45,-361.31 131.76,-348.55 114.91,-337.63\"/>\n",
       "<polygon fill=\"red\" stroke=\"red\" points=\"116.7,-334.61 106.4,-332.11 112.89,-340.49 116.7,-334.61\"/>\n",
       "</g>\n",
       "<!-- 9 -->\n",
       "<g id=\"node10\" class=\"node\">\n",
       "<title>9</title>\n",
       "<ellipse fill=\"none\" stroke=\"black\" cx=\"280\" cy=\"-314\" rx=\"63.89\" ry=\"18\"/>\n",
       "<text text-anchor=\"middle\" x=\"280\" y=\"-310.3\" font-family=\"Times,serif\" font-size=\"14.00\">8: s: float = bx</text>\n",
       "</g>\n",
       "<!-- 6&#45;&gt;9 -->\n",
       "<g id=\"edge9\" class=\"edge\">\n",
       "<title>6&#45;&gt;9</title>\n",
       "<path fill=\"none\" stroke=\"green\" d=\"M207.06,-370.5C219.65,-360.92 236.38,-348.19 250.65,-337.33\"/>\n",
       "<polygon fill=\"green\" stroke=\"green\" points=\"252.87,-340.04 258.71,-331.2 248.63,-334.47 252.87,-340.04\"/>\n",
       "</g>\n",
       "<!-- 8 -->\n",
       "<g id=\"node8\" class=\"node\">\n",
       "<title>8</title>\n",
       "<polygon fill=\"none\" stroke=\"black\" points=\"148.5,-260 75.5,-260 75.5,-224 148.5,-224 148.5,-260\"/>\n",
       "<text text-anchor=\"middle\" x=\"112\" y=\"-238.3\" font-family=\"Times,serif\" font-size=\"14.00\">7: ax = bx</text>\n",
       "</g>\n",
       "<!-- 8&#45;&gt;6 -->\n",
       "<g id=\"edge6\" class=\"edge\">\n",
       "<title>8&#45;&gt;6</title>\n",
       "<path fill=\"none\" stroke=\"red\" d=\"M136.39,-260.04C147.97,-269.37 161,-281.9 169,-296 179.75,-314.95 184.43,-339.32 186.47,-357.76\"/>\n",
       "<polygon fill=\"red\" stroke=\"red\" points=\"182.99,-358.21 187.38,-367.85 189.96,-357.58 182.99,-358.21\"/>\n",
       "</g>\n",
       "<!-- 7&#45;&gt;8 -->\n",
       "<g id=\"edge8\" class=\"edge\">\n",
       "<title>7&#45;&gt;8</title>\n",
       "<path fill=\"none\" stroke=\"red\" d=\"M87.91,-295.7C91.55,-287.73 95.95,-278.1 99.99,-269.26\"/>\n",
       "<polygon fill=\"red\" stroke=\"red\" points=\"103.21,-270.65 104.18,-260.1 96.84,-267.74 103.21,-270.65\"/>\n",
       "</g>\n",
       "<!-- 10 -->\n",
       "<g id=\"node11\" class=\"node\">\n",
       "<title>10</title>\n",
       "<ellipse fill=\"none\" stroke=\"black\" cx=\"280\" cy=\"-242\" rx=\"81.49\" ry=\"18\"/>\n",
       "<text text-anchor=\"middle\" x=\"280\" y=\"-238.3\" font-family=\"Times,serif\" font-size=\"14.00\">10: a2: float = 2 * a</text>\n",
       "</g>\n",
       "<!-- 9&#45;&gt;10 -->\n",
       "<g id=\"edge10\" class=\"edge\">\n",
       "<title>9&#45;&gt;10</title>\n",
       "<path fill=\"none\" stroke=\"green\" d=\"M280,-295.7C280,-287.98 280,-278.71 280,-270.11\"/>\n",
       "<polygon fill=\"green\" stroke=\"green\" points=\"283.5,-270.1 280,-260.1 276.5,-270.1 283.5,-270.1\"/>\n",
       "</g>\n",
       "<!-- 11 -->\n",
       "<g id=\"node12\" class=\"node\">\n",
       "<title>11</title>\n",
       "<ellipse fill=\"none\" stroke=\"black\" cx=\"280\" cy=\"-170\" rx=\"88.28\" ry=\"18\"/>\n",
       "<text text-anchor=\"middle\" x=\"280\" y=\"-166.3\" font-family=\"Times,serif\" font-size=\"14.00\">11: ba2: float = b / a2</text>\n",
       "</g>\n",
       "<!-- 10&#45;&gt;11 -->\n",
       "<g id=\"edge11\" class=\"edge\">\n",
       "<title>10&#45;&gt;11</title>\n",
       "<path fill=\"none\" stroke=\"green\" d=\"M280,-223.7C280,-215.98 280,-206.71 280,-198.11\"/>\n",
       "<polygon fill=\"green\" stroke=\"green\" points=\"283.5,-198.1 280,-188.1 276.5,-198.1 283.5,-198.1\"/>\n",
       "</g>\n",
       "<!-- 11&#45;&gt;12 -->\n",
       "<g id=\"edge12\" class=\"edge\">\n",
       "<title>11&#45;&gt;12</title>\n",
       "<path fill=\"none\" stroke=\"green\" d=\"M280,-151.7C280,-143.98 280,-134.71 280,-126.11\"/>\n",
       "<polygon fill=\"green\" stroke=\"green\" points=\"283.5,-126.1 280,-116.1 276.5,-126.1 283.5,-126.1\"/>\n",
       "</g>\n",
       "</g>\n",
       "</svg>\n"
      ],
      "text/plain": [
       "<graphviz.dot.Digraph at 0x10e6cda90>"
      ]
     },
     "execution_count": 199,
     "metadata": {},
     "output_type": "execute_result"
    }
   ],
   "source": [
    "with ArcCoverage() as cov:\n",
    "    roots(-1, 0, 0)\n",
    "show_cfg(roots, arcs=cov.arcs())"
   ]
  },
  {
   "cell_type": "markdown",
   "metadata": {
    "slideshow": {
     "slide_type": "subslide"
    },
    "solution2": "hidden"
   },
   "source": [
    "Indeed, even though the arguments were different, the path traced is exactly the same.\n",
    "\n",
    "As we saw in the chapter on [concolic fuzzing](ConcolicFuzzer.ipynb), concolic tracing has another use, namely that we can use it to explore nearby paths. We will see how to do that next."
   ]
  },
  {
   "cell_type": "markdown",
   "metadata": {
    "slideshow": {
     "slide_type": "subslide"
    },
    "solution2": "hidden"
   },
   "source": [
    "#### Exploring Nearby Paths\n",
    "\n",
    "We collected the following constraints."
   ]
  },
  {
   "cell_type": "code",
   "execution_count": 200,
   "metadata": {
    "execution": {
     "iopub.execute_input": "2022-01-02T15:26:21.405993Z",
     "iopub.status.busy": "2022-01-02T15:26:21.405123Z",
     "iopub.status.idle": "2022-01-02T15:26:21.408625Z",
     "shell.execute_reply": "2022-01-02T15:26:21.409228Z"
    },
    "slideshow": {
     "slide_type": "fragment"
    },
    "solution2": "hidden"
   },
   "outputs": [
    {
     "data": {
      "text/plain": [
       "['z3.And(a == _a_0, b == _b_0, c == _c_0)',\n",
       " '_d_0 == _b_0 * _b_0 - 4 * _a_0 * _c_0',\n",
       " '_xa_0 == 0.5 * _d_0',\n",
       " '_xb_0 == 0',\n",
       " 'z3.Not(_xa_0 - _xb_0 > 0.1)',\n",
       " '_s_0 == _xb_0',\n",
       " 'z3.Not(_a_0 == 0)',\n",
       " '_a2_0 == 2 * _a_0',\n",
       " '_ba2_0 == _b_0 / _a2_0']"
      ]
     },
     "execution_count": 200,
     "metadata": {},
     "output_type": "execute_result"
    }
   ],
   "source": [
    "constraints"
   ]
  },
  {
   "cell_type": "markdown",
   "metadata": {
    "slideshow": {
     "slide_type": "subslide"
    },
    "solution2": "hidden"
   },
   "source": [
    "We can explore nearby paths by negating the conditionals starting from the very last. (A question for the student: Why do we want to start negating from the very last?)"
   ]
  },
  {
   "cell_type": "code",
   "execution_count": 201,
   "metadata": {
    "execution": {
     "iopub.execute_input": "2022-01-02T15:26:21.413780Z",
     "iopub.status.busy": "2022-01-02T15:26:21.412984Z",
     "iopub.status.idle": "2022-01-02T15:26:21.414998Z",
     "shell.execute_reply": "2022-01-02T15:26:21.415684Z"
    },
    "slideshow": {
     "slide_type": "fragment"
    },
    "solution2": "hidden"
   },
   "outputs": [],
   "source": [
    "new_constraints = constraints[0:4] + ['z3.Not(%s)' % constraints[4]]"
   ]
  },
  {
   "cell_type": "code",
   "execution_count": 202,
   "metadata": {
    "execution": {
     "iopub.execute_input": "2022-01-02T15:26:21.420691Z",
     "iopub.status.busy": "2022-01-02T15:26:21.419932Z",
     "iopub.status.idle": "2022-01-02T15:26:21.422842Z",
     "shell.execute_reply": "2022-01-02T15:26:21.423293Z"
    },
    "slideshow": {
     "slide_type": "fragment"
    },
    "solution2": "hidden"
   },
   "outputs": [
    {
     "data": {
      "text/plain": [
       "['z3.And(a == _a_0, b == _b_0, c == _c_0)',\n",
       " '_d_0 == _b_0 * _b_0 - 4 * _a_0 * _c_0',\n",
       " '_xa_0 == 0.5 * _d_0',\n",
       " '_xb_0 == 0',\n",
       " 'z3.Not(z3.Not(_xa_0 - _xb_0 > 0.1))']"
      ]
     },
     "execution_count": 202,
     "metadata": {},
     "output_type": "execute_result"
    }
   ],
   "source": [
    "new_constraints"
   ]
  },
  {
   "cell_type": "code",
   "execution_count": 203,
   "metadata": {
    "execution": {
     "iopub.execute_input": "2022-01-02T15:26:21.428060Z",
     "iopub.status.busy": "2022-01-02T15:26:21.427275Z",
     "iopub.status.idle": "2022-01-02T15:26:21.451031Z",
     "shell.execute_reply": "2022-01-02T15:26:21.451512Z"
    },
    "slideshow": {
     "slide_type": "subslide"
    },
    "solution2": "hidden"
   },
   "outputs": [
    {
     "name": "stdout",
     "output_type": "stream",
     "text": [
      "[_b_0 = 0,\n",
      " _c_0 = 1,\n",
      " _a_0 = -11/20,\n",
      " _xb_0 = 0,\n",
      " _xa_0 = 11/10,\n",
      " _d_0 = 11/5,\n",
      " c = 1,\n",
      " b = 0,\n",
      " a = -11/20]\n"
     ]
    }
   ],
   "source": [
    "eval('z3.solve(%s)' % ','.join(new_constraints))"
   ]
  },
  {
   "cell_type": "code",
   "execution_count": 204,
   "metadata": {
    "execution": {
     "iopub.execute_input": "2022-01-02T15:26:21.480581Z",
     "iopub.status.busy": "2022-01-02T15:26:21.471567Z",
     "iopub.status.idle": "2022-01-02T15:26:22.085963Z",
     "shell.execute_reply": "2022-01-02T15:26:22.086589Z"
    },
    "slideshow": {
     "slide_type": "fragment"
    },
    "solution2": "hidden"
   },
   "outputs": [
    {
     "data": {
      "image/svg+xml": [
       "<?xml version=\"1.0\" encoding=\"UTF-8\" standalone=\"no\"?>\n",
       "<!DOCTYPE svg PUBLIC \"-//W3C//DTD SVG 1.1//EN\"\n",
       " \"http://www.w3.org/Graphics/SVG/1.1/DTD/svg11.dtd\">\n",
       "<!-- Generated by graphviz version 2.49.3 (20211023.0002)\n",
       " -->\n",
       "<!-- Pages: 1 -->\n",
       "<svg width=\"605pt\" height=\"780pt\"\n",
       " viewBox=\"0.00 0.00 605.00 780.00\" xmlns=\"http://www.w3.org/2000/svg\" xmlns:xlink=\"http://www.w3.org/1999/xlink\">\n",
       "<g id=\"graph0\" class=\"graph\" transform=\"scale(1 1) rotate(0) translate(4 776)\">\n",
       "<polygon fill=\"white\" stroke=\"transparent\" points=\"-4,4 -4,-776 601,-776 601,4 -4,4\"/>\n",
       "<!-- 1 -->\n",
       "<g id=\"node1\" class=\"node\">\n",
       "<title>1</title>\n",
       "<ellipse fill=\"none\" stroke=\"black\" cx=\"289.5\" cy=\"-750\" rx=\"93.68\" ry=\"18\"/>\n",
       "<ellipse fill=\"none\" stroke=\"black\" cx=\"289.5\" cy=\"-750\" rx=\"97.68\" ry=\"22\"/>\n",
       "<text text-anchor=\"middle\" x=\"289.5\" y=\"-746.3\" font-family=\"Times,serif\" font-size=\"14.00\">1: enter: roots3(a, b, c)</text>\n",
       "</g>\n",
       "<!-- 3 -->\n",
       "<g id=\"node6\" class=\"node\">\n",
       "<title>3</title>\n",
       "<ellipse fill=\"none\" stroke=\"black\" cx=\"289.5\" cy=\"-674\" rx=\"111.58\" ry=\"18\"/>\n",
       "<text text-anchor=\"middle\" x=\"289.5\" y=\"-670.3\" font-family=\"Times,serif\" font-size=\"14.00\">2: d: float = b * b &#45; 4 * a * c</text>\n",
       "</g>\n",
       "<!-- 1&#45;&gt;3 -->\n",
       "<g id=\"edge4\" class=\"edge\">\n",
       "<title>1&#45;&gt;3</title>\n",
       "<path fill=\"none\" stroke=\"green\" d=\"M289.5,-727.99C289.5,-720.06 289.5,-710.91 289.5,-702.48\"/>\n",
       "<polygon fill=\"green\" stroke=\"green\" points=\"293,-702.31 289.5,-692.31 286,-702.31 293,-702.31\"/>\n",
       "</g>\n",
       "<!-- 2 -->\n",
       "<g id=\"node2\" class=\"node\">\n",
       "<title>2</title>\n",
       "<ellipse fill=\"none\" stroke=\"black\" cx=\"277.5\" cy=\"-22\" rx=\"89.08\" ry=\"18\"/>\n",
       "<ellipse fill=\"none\" stroke=\"black\" cx=\"277.5\" cy=\"-22\" rx=\"93.08\" ry=\"22\"/>\n",
       "<text text-anchor=\"middle\" x=\"277.5\" y=\"-18.3\" font-family=\"Times,serif\" font-size=\"14.00\">1: exit: roots3(a, b, c)</text>\n",
       "</g>\n",
       "<!-- 12 -->\n",
       "<g id=\"node3\" class=\"node\">\n",
       "<title>12</title>\n",
       "<polygon fill=\"none\" stroke=\"black\" points=\"185,-116 0,-116 0,-80 185,-80 185,-116\"/>\n",
       "<text text-anchor=\"middle\" x=\"92.5\" y=\"-94.3\" font-family=\"Times,serif\" font-size=\"14.00\">13: return (math.inf, math.inf)</text>\n",
       "</g>\n",
       "<!-- 12&#45;&gt;2 -->\n",
       "<g id=\"edge1\" class=\"edge\">\n",
       "<title>12&#45;&gt;2</title>\n",
       "<path fill=\"none\" stroke=\"red\" d=\"M135.41,-79.84C161.28,-69.49 194.51,-56.2 222.33,-45.07\"/>\n",
       "<polygon fill=\"red\" stroke=\"red\" points=\"223.93,-48.2 231.92,-41.23 221.33,-41.7 223.93,-48.2\"/>\n",
       "</g>\n",
       "<!-- 13 -->\n",
       "<g id=\"node4\" class=\"node\">\n",
       "<title>13</title>\n",
       "<polygon fill=\"none\" stroke=\"black\" points=\"352,-116 203,-116 203,-80 352,-80 352,-116\"/>\n",
       "<text text-anchor=\"middle\" x=\"277.5\" y=\"-94.3\" font-family=\"Times,serif\" font-size=\"14.00\">14: return (&#45;c / b, &#45;c / b)</text>\n",
       "</g>\n",
       "<!-- 13&#45;&gt;2 -->\n",
       "<g id=\"edge2\" class=\"edge\">\n",
       "<title>13&#45;&gt;2</title>\n",
       "<path fill=\"none\" stroke=\"red\" d=\"M277.5,-79.84C277.5,-72.16 277.5,-62.88 277.5,-54.05\"/>\n",
       "<polygon fill=\"red\" stroke=\"red\" points=\"281,-54.03 277.5,-44.03 274,-54.03 281,-54.03\"/>\n",
       "</g>\n",
       "<!-- 16 -->\n",
       "<g id=\"node5\" class=\"node\">\n",
       "<title>16</title>\n",
       "<polygon fill=\"none\" stroke=\"black\" points=\"597,-116 370,-116 370,-80 597,-80 597,-116\"/>\n",
       "<text text-anchor=\"middle\" x=\"483.5\" y=\"-94.3\" font-family=\"Times,serif\" font-size=\"14.00\">18: return (&#45;ba2 + s / a2, &#45;ba2 &#45; s / a2)</text>\n",
       "</g>\n",
       "<!-- 16&#45;&gt;2 -->\n",
       "<g id=\"edge3\" class=\"edge\">\n",
       "<title>16&#45;&gt;2</title>\n",
       "<path fill=\"none\" stroke=\"green\" d=\"M435.98,-79.93C406.37,-69.29 368.03,-55.52 336.49,-44.19\"/>\n",
       "<polygon fill=\"green\" stroke=\"green\" points=\"337.53,-40.84 326.93,-40.76 335.16,-47.43 337.53,-40.84\"/>\n",
       "</g>\n",
       "<!-- 4 -->\n",
       "<g id=\"node7\" class=\"node\">\n",
       "<title>4</title>\n",
       "<ellipse fill=\"none\" stroke=\"black\" cx=\"289.5\" cy=\"-602\" rx=\"84.49\" ry=\"18\"/>\n",
       "<text text-anchor=\"middle\" x=\"289.5\" y=\"-598.3\" font-family=\"Times,serif\" font-size=\"14.00\">4: xa: float = 0.5 * d</text>\n",
       "</g>\n",
       "<!-- 3&#45;&gt;4 -->\n",
       "<g id=\"edge5\" class=\"edge\">\n",
       "<title>3&#45;&gt;4</title>\n",
       "<path fill=\"none\" stroke=\"green\" d=\"M289.5,-655.7C289.5,-647.98 289.5,-638.71 289.5,-630.11\"/>\n",
       "<polygon fill=\"green\" stroke=\"green\" points=\"293,-630.1 289.5,-620.1 286,-630.1 293,-630.1\"/>\n",
       "</g>\n",
       "<!-- 5 -->\n",
       "<g id=\"node8\" class=\"node\">\n",
       "<title>5</title>\n",
       "<ellipse fill=\"none\" stroke=\"black\" cx=\"289.5\" cy=\"-530\" rx=\"64.19\" ry=\"18\"/>\n",
       "<text text-anchor=\"middle\" x=\"289.5\" y=\"-526.3\" font-family=\"Times,serif\" font-size=\"14.00\">5: xb: float = 0</text>\n",
       "</g>\n",
       "<!-- 4&#45;&gt;5 -->\n",
       "<g id=\"edge6\" class=\"edge\">\n",
       "<title>4&#45;&gt;5</title>\n",
       "<path fill=\"none\" stroke=\"green\" d=\"M289.5,-583.7C289.5,-575.98 289.5,-566.71 289.5,-558.11\"/>\n",
       "<polygon fill=\"green\" stroke=\"green\" points=\"293,-558.1 289.5,-548.1 286,-558.1 293,-558.1\"/>\n",
       "</g>\n",
       "<!-- 6 -->\n",
       "<g id=\"node9\" class=\"node\">\n",
       "<title>6</title>\n",
       "<polygon fill=\"none\" stroke=\"black\" points=\"289.5,-476 159.8,-458 289.5,-440 419.2,-458 289.5,-476\"/>\n",
       "<text text-anchor=\"middle\" x=\"289.5\" y=\"-454.3\" font-family=\"Times,serif\" font-size=\"14.00\">6: while: xa &#45; xb &gt; 0.1</text>\n",
       "</g>\n",
       "<!-- 5&#45;&gt;6 -->\n",
       "<g id=\"edge7\" class=\"edge\">\n",
       "<title>5&#45;&gt;6</title>\n",
       "<path fill=\"none\" stroke=\"green\" d=\"M289.5,-511.7C289.5,-503.98 289.5,-494.71 289.5,-486.11\"/>\n",
       "<polygon fill=\"green\" stroke=\"green\" points=\"293,-486.1 289.5,-476.1 286,-486.1 293,-486.1\"/>\n",
       "</g>\n",
       "<!-- 7 -->\n",
       "<g id=\"node11\" class=\"node\">\n",
       "<title>7</title>\n",
       "<polygon fill=\"none\" stroke=\"black\" points=\"261.5,-404 101.5,-404 101.5,-368 261.5,-368 261.5,-404\"/>\n",
       "<text text-anchor=\"middle\" x=\"181.5\" y=\"-382.3\" font-family=\"Times,serif\" font-size=\"14.00\">7: xb = 0.5 * (xa + d / xa)</text>\n",
       "</g>\n",
       "<!-- 6&#45;&gt;7 -->\n",
       "<g id=\"edge9\" class=\"edge\">\n",
       "<title>6&#45;&gt;7</title>\n",
       "<path fill=\"none\" stroke=\"green\" d=\"M267.64,-442.83C252.95,-433.31 233.26,-420.55 216.41,-409.63\"/>\n",
       "<polygon fill=\"green\" stroke=\"green\" points=\"218.2,-406.61 207.9,-404.11 214.39,-412.49 218.2,-406.61\"/>\n",
       "</g>\n",
       "<!-- 9 -->\n",
       "<g id=\"node12\" class=\"node\">\n",
       "<title>9</title>\n",
       "<ellipse fill=\"none\" stroke=\"black\" cx=\"381.5\" cy=\"-386\" rx=\"63.89\" ry=\"18\"/>\n",
       "<text text-anchor=\"middle\" x=\"381.5\" y=\"-382.3\" font-family=\"Times,serif\" font-size=\"14.00\">9: s: float = xb</text>\n",
       "</g>\n",
       "<!-- 6&#45;&gt;9 -->\n",
       "<g id=\"edge11\" class=\"edge\">\n",
       "<title>6&#45;&gt;9</title>\n",
       "<path fill=\"none\" stroke=\"green\" d=\"M308.56,-442.5C321.15,-432.92 337.88,-420.19 352.15,-409.33\"/>\n",
       "<polygon fill=\"green\" stroke=\"green\" points=\"354.37,-412.04 360.21,-403.2 350.13,-406.47 354.37,-412.04\"/>\n",
       "</g>\n",
       "<!-- 8 -->\n",
       "<g id=\"node10\" class=\"node\">\n",
       "<title>8</title>\n",
       "<polygon fill=\"none\" stroke=\"black\" points=\"250,-332 177,-332 177,-296 250,-296 250,-332\"/>\n",
       "<text text-anchor=\"middle\" x=\"213.5\" y=\"-310.3\" font-family=\"Times,serif\" font-size=\"14.00\">8: xa = xb</text>\n",
       "</g>\n",
       "<!-- 8&#45;&gt;6 -->\n",
       "<g id=\"edge8\" class=\"edge\">\n",
       "<title>8&#45;&gt;6</title>\n",
       "<path fill=\"none\" stroke=\"green\" d=\"M237.89,-332.04C249.47,-341.37 262.5,-353.9 270.5,-368 281.25,-386.95 285.93,-411.32 287.97,-429.76\"/>\n",
       "<polygon fill=\"green\" stroke=\"green\" points=\"284.49,-430.21 288.88,-439.85 291.46,-429.58 284.49,-430.21\"/>\n",
       "</g>\n",
       "<!-- 7&#45;&gt;8 -->\n",
       "<g id=\"edge10\" class=\"edge\">\n",
       "<title>7&#45;&gt;8</title>\n",
       "<path fill=\"none\" stroke=\"green\" d=\"M189.41,-367.7C193.05,-359.73 197.45,-350.1 201.49,-341.26\"/>\n",
       "<polygon fill=\"green\" stroke=\"green\" points=\"204.71,-342.65 205.68,-332.1 198.34,-339.74 204.71,-342.65\"/>\n",
       "</g>\n",
       "<!-- 10 -->\n",
       "<g id=\"node13\" class=\"node\">\n",
       "<title>10</title>\n",
       "<polygon fill=\"none\" stroke=\"black\" points=\"381.5,-332 299.89,-314 381.5,-296 463.11,-314 381.5,-332\"/>\n",
       "<text text-anchor=\"middle\" x=\"381.5\" y=\"-310.3\" font-family=\"Times,serif\" font-size=\"14.00\">11: if: a == 0</text>\n",
       "</g>\n",
       "<!-- 9&#45;&gt;10 -->\n",
       "<g id=\"edge12\" class=\"edge\">\n",
       "<title>9&#45;&gt;10</title>\n",
       "<path fill=\"none\" stroke=\"green\" d=\"M381.5,-367.7C381.5,-359.98 381.5,-350.71 381.5,-342.11\"/>\n",
       "<polygon fill=\"green\" stroke=\"green\" points=\"385,-342.1 381.5,-332.1 378,-342.1 385,-342.1\"/>\n",
       "</g>\n",
       "<!-- 11 -->\n",
       "<g id=\"node14\" class=\"node\">\n",
       "<title>11</title>\n",
       "<polygon fill=\"none\" stroke=\"black\" points=\"277.5,-188 193.71,-170 277.5,-152 361.29,-170 277.5,-188\"/>\n",
       "<text text-anchor=\"middle\" x=\"277.5\" y=\"-166.3\" font-family=\"Times,serif\" font-size=\"14.00\">12: if: b == 0</text>\n",
       "</g>\n",
       "<!-- 10&#45;&gt;11 -->\n",
       "<g id=\"edge13\" class=\"edge\">\n",
       "<title>10&#45;&gt;11</title>\n",
       "<path fill=\"none\" stroke=\"red\" d=\"M370.76,-298.34C352.7,-273.68 316.11,-223.71 294.52,-194.23\"/>\n",
       "<polygon fill=\"red\" stroke=\"red\" points=\"297.07,-191.79 288.34,-185.79 291.42,-195.93 297.07,-191.79\"/>\n",
       "</g>\n",
       "<!-- 14 -->\n",
       "<g id=\"node15\" class=\"node\">\n",
       "<title>14</title>\n",
       "<ellipse fill=\"none\" stroke=\"black\" cx=\"446.5\" cy=\"-242\" rx=\"81.49\" ry=\"18\"/>\n",
       "<text text-anchor=\"middle\" x=\"446.5\" y=\"-238.3\" font-family=\"Times,serif\" font-size=\"14.00\">16: a2: float = 2 * a</text>\n",
       "</g>\n",
       "<!-- 10&#45;&gt;14 -->\n",
       "<g id=\"edge16\" class=\"edge\">\n",
       "<title>10&#45;&gt;14</title>\n",
       "<path fill=\"none\" stroke=\"green\" d=\"M394.65,-298.83C403.07,-289.77 414.21,-277.77 424.01,-267.22\"/>\n",
       "<polygon fill=\"green\" stroke=\"green\" points=\"426.61,-269.57 430.85,-259.86 421.48,-264.8 426.61,-269.57\"/>\n",
       "</g>\n",
       "<!-- 11&#45;&gt;12 -->\n",
       "<g id=\"edge14\" class=\"edge\">\n",
       "<title>11&#45;&gt;12</title>\n",
       "<path fill=\"none\" stroke=\"red\" d=\"M248.59,-158.06C221.59,-147.84 180.56,-132.32 147.34,-119.75\"/>\n",
       "<polygon fill=\"red\" stroke=\"red\" points=\"148.35,-116.39 137.76,-116.12 145.87,-122.94 148.35,-116.39\"/>\n",
       "</g>\n",
       "<!-- 11&#45;&gt;13 -->\n",
       "<g id=\"edge15\" class=\"edge\">\n",
       "<title>11&#45;&gt;13</title>\n",
       "<path fill=\"none\" stroke=\"red\" d=\"M277.5,-151.7C277.5,-143.98 277.5,-134.71 277.5,-126.11\"/>\n",
       "<polygon fill=\"red\" stroke=\"red\" points=\"281,-126.1 277.5,-116.1 274,-126.1 281,-126.1\"/>\n",
       "</g>\n",
       "<!-- 15 -->\n",
       "<g id=\"node16\" class=\"node\">\n",
       "<title>15</title>\n",
       "<ellipse fill=\"none\" stroke=\"black\" cx=\"475.5\" cy=\"-170\" rx=\"88.28\" ry=\"18\"/>\n",
       "<text text-anchor=\"middle\" x=\"475.5\" y=\"-166.3\" font-family=\"Times,serif\" font-size=\"14.00\">17: ba2: float = b / a2</text>\n",
       "</g>\n",
       "<!-- 14&#45;&gt;15 -->\n",
       "<g id=\"edge17\" class=\"edge\">\n",
       "<title>14&#45;&gt;15</title>\n",
       "<path fill=\"none\" stroke=\"green\" d=\"M453.52,-224.05C456.78,-216.18 460.74,-206.62 464.4,-197.79\"/>\n",
       "<polygon fill=\"green\" stroke=\"green\" points=\"467.75,-198.85 468.34,-188.28 461.28,-196.17 467.75,-198.85\"/>\n",
       "</g>\n",
       "<!-- 15&#45;&gt;16 -->\n",
       "<g id=\"edge18\" class=\"edge\">\n",
       "<title>15&#45;&gt;16</title>\n",
       "<path fill=\"none\" stroke=\"green\" d=\"M477.48,-151.7C478.36,-143.98 479.42,-134.71 480.4,-126.11\"/>\n",
       "<polygon fill=\"green\" stroke=\"green\" points=\"483.89,-126.44 481.55,-116.1 476.93,-125.64 483.89,-126.44\"/>\n",
       "</g>\n",
       "</g>\n",
       "</svg>\n"
      ],
      "text/plain": [
       "<graphviz.dot.Digraph at 0x107060b80>"
      ]
     },
     "execution_count": 204,
     "metadata": {},
     "output_type": "execute_result"
    }
   ],
   "source": [
    "with ArcCoverage() as cov:\n",
    "    roots3(1, 0, -11 / 20)\n",
    "show_cfg(roots3, arcs=cov.arcs())"
   ]
  },
  {
   "cell_type": "markdown",
   "metadata": {
    "slideshow": {
     "slide_type": "subslide"
    },
    "solution2": "hidden",
    "solution2_first": true
   },
   "source": [
    "Indeed, the path traced is now different. One can continue this procedure to the necessary number of times to explore all nearby paths to the execution.\n",
    "\n",
    "Can you incorporate this exploration into the concolic fuzzer?"
   ]
  },
  {
   "cell_type": "markdown",
   "metadata": {
    "slideshow": {
     "slide_type": "skip"
    },
    "solution2": "hidden"
   },
   "source": [
    "**Solution.** _None yet available._"
   ]
  }
 ],
 "metadata": {
  "ipub": {
   "bibliography": "fuzzingbook.bib",
   "toc": true
  },
  "kernelspec": {
   "display_name": "Python 3 (ipykernel)",
   "language": "python",
   "name": "python3"
  },
  "language_info": {
   "codemirror_mode": {
    "name": "ipython",
    "version": 3
   },
   "file_extension": ".py",
   "mimetype": "text/x-python",
   "name": "python",
   "nbconvert_exporter": "python",
   "pygments_lexer": "ipython3",
   "version": "3.9.7"
  },
  "toc": {
   "base_numbering": 1,
   "nav_menu": {},
   "number_sections": true,
   "sideBar": true,
   "skip_h1_title": true,
   "title_cell": "",
   "title_sidebar": "Contents",
   "toc_cell": false,
   "toc_position": {},
   "toc_section_display": true,
   "toc_window_display": true
  },
  "toc-autonumbering": false,
  "varInspector": {
   "cols": {
    "lenName": 16,
    "lenType": 16,
    "lenVar": 40
   },
   "kernels_config": {
    "python": {
     "delete_cmd_postfix": "",
     "delete_cmd_prefix": "del ",
     "library": "var_list.py",
     "varRefreshCmd": "print(var_dic_list())"
    },
    "r": {
     "delete_cmd_postfix": ") ",
     "delete_cmd_prefix": "rm(",
     "library": "var_list.r",
     "varRefreshCmd": "cat(var_dic_list()) "
    }
   },
   "types_to_exclude": [
    "module",
    "function",
    "builtin_function_or_method",
    "instance",
    "_Feature"
   ],
   "window_display": false
  }
 },
 "nbformat": 4,
 "nbformat_minor": 4
}