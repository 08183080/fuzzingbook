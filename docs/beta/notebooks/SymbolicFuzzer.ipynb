{
 "cells": [
  {
   "cell_type": "markdown",
   "metadata": {
    "button": false,
    "new_sheet": false,
    "run_control": {
     "read_only": false
    },
    "slideshow": {
     "slide_type": "slide"
    }
   },
   "source": [
    "# Symbolic Fuzzing\n",
    "\n",
    "One of the problems with traditional methods of fuzzing is that they fail to penetrate deeply into the program. Quite often the execution of a specific branch of execution may happen only with very specific inputs, which could represent an extremely small fraction of the input space. The traditional fuzzing methods relies on chance to produce inputs they need. However, relying on randomness to generate values that we want is a bad idea when the space to be explored is huge. For example, a function that accepts a string, even if one only considers the first $10$ characters, already has $2^{80}$ possible inputs. If one is looking for a specific string, random generation of values will take a few thousand years even in one of the super computers.\n",
    "\n",
    "Symbolic execution is a way out of this problem. A program is a computation that can be treated as a system of equations that obtains the output values from the given inputs. Executing the program symbolically -- that is, solving these mathematically -- along with any specified objective such as covering a particular branch or obtaining a particular output will get us inputs that can accomplish this task. Unfortunately, symbolic execution can rapidly become unwieldy as the paths through the program increases. A practical alternative is called *Concolic* execution, which combines symbolic and concrete execution, with concrete execution guiding symbolic execution through a path through the program.\n",
    "\n",
    "In this chapter, we investigate how **concolic execution** can be implemented, and how it can be used to obtain interesting values for fuzzing."
   ]
  },
  {
   "cell_type": "markdown",
   "metadata": {
    "button": false,
    "new_sheet": false,
    "run_control": {
     "read_only": false
    },
    "slideshow": {
     "slide_type": "subslide"
    }
   },
   "source": [
    "**Prerequisites**\n",
    "\n",
    "* You should have read the [chapter on coverage](Coverage.ipynb).\n",
    "* Some knowledge of inheritance in Python is required.\n",
    "* A familiarity with the [chapter on search based fuzzing](SearchBasedFuzzer.ipynb) would be useful.\n",
    "* A familiarity with the basic idea of [SMT solvers](https://en.wikipedia.org/wiki/Satisfiability_modulo_theories) would be useful."
   ]
  },
  {
   "cell_type": "markdown",
   "metadata": {
    "slideshow": {
     "slide_type": "slide"
    }
   },
   "source": [
    "## Using symbolic variables to obtain path conditions for coverage"
   ]
  },
  {
   "cell_type": "markdown",
   "metadata": {
    "slideshow": {
     "slide_type": "fragment"
    }
   },
   "source": [
    "In the chapter on [parsing and recombining inputs](SearchBasedFuzzer.ipynb), we saw how difficult it was to generate inputs for `process_vehicle()` -- a simple function that accepts a string. The solution given there was to rely on preexisting sample inputs. However, this solution is inadequate as it assumes the existence of sample inputs. What if there are no sample inputs at hand?\n",
    "\n",
    "For a simpler example, let us consider the following function. Can we generate inputs to cover all the paths?"
   ]
  },
  {
   "cell_type": "code",
   "execution_count": 1,
   "metadata": {
    "slideshow": {
     "slide_type": "subslide"
    }
   },
   "outputs": [],
   "source": [
    "def check_triangle(a, b, c):\n",
    "    if a == b:\n",
    "        if a == c:\n",
    "            if b == c:\n",
    "                return \"Equilateral\"\n",
    "            else:\n",
    "                return \"Isosceles\"\n",
    "        else:\n",
    "            return \"Isosceles\"\n",
    "    else:\n",
    "        if b != c:\n",
    "            if a == c:\n",
    "                return \"Isosceles\"\n",
    "            else:\n",
    "                return \"Scalene\"\n",
    "        else:\n",
    "            return \"Isosceles\""
   ]
  },
  {
   "cell_type": "markdown",
   "metadata": {
    "slideshow": {
     "slide_type": "subslide"
    }
   },
   "source": [
    "### The control flow graph"
   ]
  },
  {
   "cell_type": "markdown",
   "metadata": {
    "slideshow": {
     "slide_type": "fragment"
    }
   },
   "source": [
    "The control flow graph of this function can be represented as follows:"
   ]
  },
  {
   "cell_type": "code",
   "execution_count": 2,
   "metadata": {
    "slideshow": {
     "slide_type": "skip"
    }
   },
   "outputs": [],
   "source": [
    "import fuzzingbook_utils"
   ]
  },
  {
   "cell_type": "code",
   "execution_count": 3,
   "metadata": {
    "slideshow": {
     "slide_type": "skip"
    }
   },
   "outputs": [],
   "source": [
    "from ControlFlow import PyCFG, CFGNode, to_graph, gen_cfg"
   ]
  },
  {
   "cell_type": "code",
   "execution_count": 4,
   "metadata": {
    "slideshow": {
     "slide_type": "skip"
    }
   },
   "outputs": [],
   "source": [
    "import inspect"
   ]
  },
  {
   "cell_type": "code",
   "execution_count": 5,
   "metadata": {
    "slideshow": {
     "slide_type": "skip"
    }
   },
   "outputs": [],
   "source": [
    "from graphviz import Source, Graph"
   ]
  },
  {
   "cell_type": "code",
   "execution_count": 6,
   "metadata": {
    "slideshow": {
     "slide_type": "fragment"
    }
   },
   "outputs": [
    {
     "data": {
      "image/svg+xml": [
       "<?xml version=\"1.0\" encoding=\"UTF-8\" standalone=\"no\"?>\n",
       "<!DOCTYPE svg PUBLIC \"-//W3C//DTD SVG 1.1//EN\"\n",
       " \"http://www.w3.org/Graphics/SVG/1.1/DTD/svg11.dtd\">\n",
       "<!-- Generated by graphviz version 2.40.1 (20161225.0304)\n",
       " -->\n",
       "<!-- Title: %3 Pages: 1 -->\n",
       "<svg width=\"695pt\" height=\"488pt\"\n",
       " viewBox=\"0.00 0.00 695.00 488.00\" xmlns=\"http://www.w3.org/2000/svg\" xmlns:xlink=\"http://www.w3.org/1999/xlink\">\n",
       "<g id=\"graph0\" class=\"graph\" transform=\"scale(1 1) rotate(0) translate(4 484)\">\n",
       "<title>%3</title>\n",
       "<polygon fill=\"#ffffff\" stroke=\"transparent\" points=\"-4,4 -4,-484 691,-484 691,4 -4,4\"/>\n",
       "<!-- 1 -->\n",
       "<g id=\"node1\" class=\"node\">\n",
       "<title>1</title>\n",
       "<ellipse fill=\"none\" stroke=\"#000000\" cx=\"276.5\" cy=\"-458\" rx=\"124.2738\" ry=\"18\"/>\n",
       "<ellipse fill=\"none\" stroke=\"#000000\" cx=\"276.5\" cy=\"-458\" rx=\"128.2781\" ry=\"22\"/>\n",
       "<text text-anchor=\"middle\" x=\"276.5\" y=\"-454.3\" font-family=\"Times,serif\" font-size=\"14.00\" fill=\"#000000\">1: enter: check_triangle(a, b, c)</text>\n",
       "</g>\n",
       "<!-- 3 -->\n",
       "<g id=\"node9\" class=\"node\">\n",
       "<title>3</title>\n",
       "<polygon fill=\"none\" stroke=\"#000000\" points=\"276.5,-399 191.875,-381 276.5,-363 361.125,-381 276.5,-399\"/>\n",
       "<text text-anchor=\"middle\" x=\"276.5\" y=\"-377.3\" font-family=\"Times,serif\" font-size=\"14.00\" fill=\"#000000\">2: if: (a == b)</text>\n",
       "</g>\n",
       "<!-- 1&#45;&gt;3 -->\n",
       "<g id=\"edge7\" class=\"edge\">\n",
       "<title>1&#45;&gt;3</title>\n",
       "<path fill=\"none\" stroke=\"#000000\" d=\"M276.5,-435.7284C276.5,-427.4552 276.5,-417.9583 276.5,-409.2229\"/>\n",
       "<polygon fill=\"#000000\" stroke=\"#000000\" points=\"280.0001,-409.0789 276.5,-399.0789 273.0001,-409.079 280.0001,-409.0789\"/>\n",
       "</g>\n",
       "<!-- 2 -->\n",
       "<g id=\"node2\" class=\"node\">\n",
       "<title>2</title>\n",
       "<ellipse fill=\"none\" stroke=\"#000000\" cx=\"364.5\" cy=\"-22\" rx=\"119.6759\" ry=\"18\"/>\n",
       "<ellipse fill=\"none\" stroke=\"#000000\" cx=\"364.5\" cy=\"-22\" rx=\"123.6788\" ry=\"22\"/>\n",
       "<text text-anchor=\"middle\" x=\"364.5\" y=\"-18.3\" font-family=\"Times,serif\" font-size=\"14.00\" fill=\"#000000\">1: exit: check_triangle(a, b, c)</text>\n",
       "</g>\n",
       "<!-- 6 -->\n",
       "<g id=\"node3\" class=\"node\">\n",
       "<title>6</title>\n",
       "<polygon fill=\"none\" stroke=\"#000000\" points=\"217.5,-117 83.5,-117 83.5,-81 217.5,-81 217.5,-117\"/>\n",
       "<text text-anchor=\"middle\" x=\"150.5\" y=\"-95.3\" font-family=\"Times,serif\" font-size=\"14.00\" fill=\"#000000\">5: return &#39;Equilateral&#39;</text>\n",
       "</g>\n",
       "<!-- 6&#45;&gt;2 -->\n",
       "<g id=\"edge1\" class=\"edge\">\n",
       "<title>6&#45;&gt;2</title>\n",
       "<path fill=\"none\" stroke=\"#000000\" d=\"M200.6735,-80.9469C230.2302,-70.312 267.9365,-56.7448 299.7221,-45.3079\"/>\n",
       "<polygon fill=\"#000000\" stroke=\"#000000\" points=\"301.1565,-48.5115 309.381,-41.8325 298.7866,-41.9249 301.1565,-48.5115\"/>\n",
       "</g>\n",
       "<!-- 7 -->\n",
       "<g id=\"node4\" class=\"node\">\n",
       "<title>7</title>\n",
       "<polygon fill=\"none\" stroke=\"#000000\" points=\"359,-117 236,-117 236,-81 359,-81 359,-117\"/>\n",
       "<text text-anchor=\"middle\" x=\"297.5\" y=\"-95.3\" font-family=\"Times,serif\" font-size=\"14.00\" fill=\"#000000\">7: return &#39;Isosceles&#39;</text>\n",
       "</g>\n",
       "<!-- 7&#45;&gt;2 -->\n",
       "<g id=\"edge2\" class=\"edge\">\n",
       "<title>7&#45;&gt;2</title>\n",
       "<path fill=\"none\" stroke=\"#000000\" d=\"M313.3781,-80.7521C320.9506,-72.0494 330.2024,-61.4166 338.7438,-51.6005\"/>\n",
       "<polygon fill=\"#000000\" stroke=\"#000000\" points=\"341.4719,-53.7971 345.3958,-43.9556 336.1911,-49.2021 341.4719,-53.7971\"/>\n",
       "</g>\n",
       "<!-- 8 -->\n",
       "<g id=\"node5\" class=\"node\">\n",
       "<title>8</title>\n",
       "<polygon fill=\"none\" stroke=\"#000000\" points=\"123,-171 0,-171 0,-135 123,-135 123,-171\"/>\n",
       "<text text-anchor=\"middle\" x=\"61.5\" y=\"-149.3\" font-family=\"Times,serif\" font-size=\"14.00\" fill=\"#000000\">9: return &#39;Isosceles&#39;</text>\n",
       "</g>\n",
       "<!-- 8&#45;&gt;2 -->\n",
       "<g id=\"edge3\" class=\"edge\">\n",
       "<title>8&#45;&gt;2</title>\n",
       "<path fill=\"none\" stroke=\"#000000\" d=\"M59.5451,-134.794C58.8711,-118.5004 60.7328,-95.0745 74.5,-81 98.256,-56.7137 174.8577,-41.7745 243.3669,-33.0063\"/>\n",
       "<polygon fill=\"#000000\" stroke=\"#000000\" points=\"243.9175,-36.4649 253.4089,-31.7571 243.0532,-29.5184 243.9175,-36.4649\"/>\n",
       "</g>\n",
       "<!-- 11 -->\n",
       "<g id=\"node6\" class=\"node\">\n",
       "<title>11</title>\n",
       "<polygon fill=\"none\" stroke=\"#000000\" points=\"545.5,-117 415.5,-117 415.5,-81 545.5,-81 545.5,-117\"/>\n",
       "<text text-anchor=\"middle\" x=\"480.5\" y=\"-95.3\" font-family=\"Times,serif\" font-size=\"14.00\" fill=\"#000000\">13: return &#39;Isosceles&#39;</text>\n",
       "</g>\n",
       "<!-- 11&#45;&gt;2 -->\n",
       "<g id=\"edge4\" class=\"edge\">\n",
       "<title>11&#45;&gt;2</title>\n",
       "<path fill=\"none\" stroke=\"#000000\" d=\"M453.3032,-80.9469C439.0647,-71.4955 421.3372,-59.7282 405.4742,-49.1984\"/>\n",
       "<polygon fill=\"#000000\" stroke=\"#000000\" points=\"407.1544,-46.1128 396.8872,-43.4984 403.283,-51.9449 407.1544,-46.1128\"/>\n",
       "</g>\n",
       "<!-- 12 -->\n",
       "<g id=\"node7\" class=\"node\">\n",
       "<title>12</title>\n",
       "<polygon fill=\"none\" stroke=\"#000000\" points=\"687,-117 564,-117 564,-81 687,-81 687,-117\"/>\n",
       "<text text-anchor=\"middle\" x=\"625.5\" y=\"-95.3\" font-family=\"Times,serif\" font-size=\"14.00\" fill=\"#000000\">15: return &#39;Scalene&#39;</text>\n",
       "</g>\n",
       "<!-- 12&#45;&gt;2 -->\n",
       "<g id=\"edge5\" class=\"edge\">\n",
       "<title>12&#45;&gt;2</title>\n",
       "<path fill=\"none\" stroke=\"#000000\" d=\"M564.3071,-80.9469C526.5854,-69.8183 477.9799,-55.4788 438.1539,-43.7293\"/>\n",
       "<polygon fill=\"#000000\" stroke=\"#000000\" points=\"439.0744,-40.3518 428.4927,-40.8791 437.0936,-47.0657 439.0744,-40.3518\"/>\n",
       "</g>\n",
       "<!-- 13 -->\n",
       "<g id=\"node8\" class=\"node\">\n",
       "<title>13</title>\n",
       "<polygon fill=\"none\" stroke=\"#000000\" points=\"449.5,-171 319.5,-171 319.5,-135 449.5,-135 449.5,-171\"/>\n",
       "<text text-anchor=\"middle\" x=\"384.5\" y=\"-149.3\" font-family=\"Times,serif\" font-size=\"14.00\" fill=\"#000000\">17: return &#39;Isosceles&#39;</text>\n",
       "</g>\n",
       "<!-- 13&#45;&gt;2 -->\n",
       "<g id=\"edge6\" class=\"edge\">\n",
       "<title>13&#45;&gt;2</title>\n",
       "<path fill=\"none\" stroke=\"#000000\" d=\"M381.7191,-134.785C378.5494,-114.0236 373.3077,-79.6908 369.4388,-54.3489\"/>\n",
       "<polygon fill=\"#000000\" stroke=\"#000000\" points=\"372.896,-53.8024 367.9268,-44.4452 365.9762,-54.859 372.896,-53.8024\"/>\n",
       "</g>\n",
       "<!-- 4 -->\n",
       "<g id=\"node10\" class=\"node\">\n",
       "<title>4</title>\n",
       "<polygon fill=\"none\" stroke=\"#000000\" points=\"181.5,-312 97.7131,-294 181.5,-276 265.2869,-294 181.5,-312\"/>\n",
       "<text text-anchor=\"middle\" x=\"181.5\" y=\"-290.3\" font-family=\"Times,serif\" font-size=\"14.00\" fill=\"#000000\">3: if: (a == c)</text>\n",
       "</g>\n",
       "<!-- 3&#45;&gt;4 -->\n",
       "<g id=\"edge8\" class=\"edge\">\n",
       "<title>3&#45;&gt;4</title>\n",
       "<path fill=\"none\" stroke=\"#0000ff\" d=\"M260.3845,-366.2416C245.2354,-352.3682 222.3771,-331.4348 205.1601,-315.6677\"/>\n",
       "<polygon fill=\"#0000ff\" stroke=\"#0000ff\" points=\"207.4331,-313.0033 197.6945,-308.8308 202.7055,-318.1657 207.4331,-313.0033\"/>\n",
       "<text text-anchor=\"middle\" x=\"240\" y=\"-333.8\" font-family=\"Times,serif\" font-size=\"14.00\" fill=\"#000000\">T</text>\n",
       "</g>\n",
       "<!-- 9 -->\n",
       "<g id=\"node12\" class=\"node\">\n",
       "<title>9</title>\n",
       "<polygon fill=\"none\" stroke=\"#000000\" points=\"383.5,-312 295.0212,-294 383.5,-276 471.9788,-294 383.5,-312\"/>\n",
       "<text text-anchor=\"middle\" x=\"383.5\" y=\"-290.3\" font-family=\"Times,serif\" font-size=\"14.00\" fill=\"#000000\">11: if: (b != c)</text>\n",
       "</g>\n",
       "<!-- 3&#45;&gt;9 -->\n",
       "<g id=\"edge13\" class=\"edge\">\n",
       "<title>3&#45;&gt;9</title>\n",
       "<path fill=\"none\" stroke=\"#ff0000\" d=\"M294.1689,-366.6337C311.4122,-352.6134 337.8462,-331.1204 357.4905,-315.1479\"/>\n",
       "<polygon fill=\"#ff0000\" stroke=\"#ff0000\" points=\"359.8963,-317.7027 365.4472,-308.6784 355.4803,-312.2715 359.8963,-317.7027\"/>\n",
       "<text text-anchor=\"middle\" x=\"339.5\" y=\"-333.8\" font-family=\"Times,serif\" font-size=\"14.00\" fill=\"#000000\">F</text>\n",
       "</g>\n",
       "<!-- 4&#45;&gt;8 -->\n",
       "<g id=\"edge12\" class=\"edge\">\n",
       "<title>4&#45;&gt;8</title>\n",
       "<path fill=\"none\" stroke=\"#ff0000\" d=\"M156.6875,-281.2908C135.6108,-269.348 105.9272,-249.6434 87.5,-225 77.8295,-212.0673 71.4817,-195.191 67.481,-181.0282\"/>\n",
       "<polygon fill=\"#ff0000\" stroke=\"#ff0000\" points=\"70.8559,-180.0988 64.9687,-171.2902 64.0778,-181.8475 70.8559,-180.0988\"/>\n",
       "<text text-anchor=\"middle\" x=\"124.5\" y=\"-246.8\" font-family=\"Times,serif\" font-size=\"14.00\" fill=\"#000000\">F</text>\n",
       "</g>\n",
       "<!-- 5 -->\n",
       "<g id=\"node11\" class=\"node\">\n",
       "<title>5</title>\n",
       "<polygon fill=\"none\" stroke=\"#000000\" points=\"181.5,-225 96.875,-207 181.5,-189 266.125,-207 181.5,-225\"/>\n",
       "<text text-anchor=\"middle\" x=\"181.5\" y=\"-203.3\" font-family=\"Times,serif\" font-size=\"14.00\" fill=\"#000000\">4: if: (b == c)</text>\n",
       "</g>\n",
       "<!-- 4&#45;&gt;5 -->\n",
       "<g id=\"edge9\" class=\"edge\">\n",
       "<title>4&#45;&gt;5</title>\n",
       "<path fill=\"none\" stroke=\"#0000ff\" d=\"M181.5,-275.9735C181.5,-264.1918 181.5,-248.5607 181.5,-235.1581\"/>\n",
       "<polygon fill=\"#0000ff\" stroke=\"#0000ff\" points=\"185.0001,-235.0033 181.5,-225.0034 178.0001,-235.0034 185.0001,-235.0033\"/>\n",
       "<text text-anchor=\"middle\" x=\"186\" y=\"-246.8\" font-family=\"Times,serif\" font-size=\"14.00\" fill=\"#000000\">T</text>\n",
       "</g>\n",
       "<!-- 5&#45;&gt;6 -->\n",
       "<g id=\"edge10\" class=\"edge\">\n",
       "<title>5&#45;&gt;6</title>\n",
       "<path fill=\"none\" stroke=\"#0000ff\" d=\"M176.5193,-189.6479C171.6514,-172.6887 164.1625,-146.5982 158.4667,-126.7551\"/>\n",
       "<polygon fill=\"#0000ff\" stroke=\"#0000ff\" points=\"161.7983,-125.6755 155.6751,-117.0293 155.0699,-127.6068 161.7983,-125.6755\"/>\n",
       "<text text-anchor=\"middle\" x=\"176\" y=\"-149.3\" font-family=\"Times,serif\" font-size=\"14.00\" fill=\"#000000\">T</text>\n",
       "</g>\n",
       "<!-- 5&#45;&gt;7 -->\n",
       "<g id=\"edge11\" class=\"edge\">\n",
       "<title>5&#45;&gt;7</title>\n",
       "<path fill=\"none\" stroke=\"#ff0000\" d=\"M197.6293,-191.9831C216.4516,-174.4588 247.8712,-145.2061 270.446,-124.1882\"/>\n",
       "<polygon fill=\"#ff0000\" stroke=\"#ff0000\" points=\"273.093,-126.5059 278.027,-117.13 268.3231,-121.3826 273.093,-126.5059\"/>\n",
       "<text text-anchor=\"middle\" x=\"261.5\" y=\"-149.3\" font-family=\"Times,serif\" font-size=\"14.00\" fill=\"#000000\">F</text>\n",
       "</g>\n",
       "<!-- 9&#45;&gt;13 -->\n",
       "<g id=\"edge17\" class=\"edge\">\n",
       "<title>9&#45;&gt;13</title>\n",
       "<path fill=\"none\" stroke=\"#ff0000\" d=\"M383.6287,-275.8554C383.7989,-251.8485 384.1008,-209.2861 384.3007,-181.1035\"/>\n",
       "<polygon fill=\"#ff0000\" stroke=\"#ff0000\" points=\"387.8007,-181.0996 384.3718,-171.075 380.8009,-181.0499 387.8007,-181.0996\"/>\n",
       "<text text-anchor=\"middle\" x=\"387.5\" y=\"-246.8\" font-family=\"Times,serif\" font-size=\"14.00\" fill=\"#000000\">F</text>\n",
       "</g>\n",
       "<!-- 10 -->\n",
       "<g id=\"node13\" class=\"node\">\n",
       "<title>10</title>\n",
       "<polygon fill=\"none\" stroke=\"#000000\" points=\"501.5,-225 411.3451,-207 501.5,-189 591.6549,-207 501.5,-225\"/>\n",
       "<text text-anchor=\"middle\" x=\"501.5\" y=\"-203.3\" font-family=\"Times,serif\" font-size=\"14.00\" fill=\"#000000\">12: if: (a == c)</text>\n",
       "</g>\n",
       "<!-- 9&#45;&gt;10 -->\n",
       "<g id=\"edge14\" class=\"edge\">\n",
       "<title>9&#45;&gt;10</title>\n",
       "<path fill=\"none\" stroke=\"#0000ff\" d=\"M402.7214,-279.8283C422.0928,-265.546 452.1729,-243.3683 474.0518,-227.2372\"/>\n",
       "<polygon fill=\"#0000ff\" stroke=\"#0000ff\" points=\"476.315,-229.9171 482.2869,-221.1656 472.161,-224.2829 476.315,-229.9171\"/>\n",
       "<text text-anchor=\"middle\" x=\"454\" y=\"-246.8\" font-family=\"Times,serif\" font-size=\"14.00\" fill=\"#000000\">T</text>\n",
       "</g>\n",
       "<!-- 10&#45;&gt;11 -->\n",
       "<g id=\"edge15\" class=\"edge\">\n",
       "<title>10&#45;&gt;11</title>\n",
       "<path fill=\"none\" stroke=\"#0000ff\" d=\"M498.126,-189.6479C494.8435,-172.7665 489.8017,-146.8374 485.95,-127.0285\"/>\n",
       "<polygon fill=\"#0000ff\" stroke=\"#0000ff\" points=\"489.3501,-126.1773 484.0057,-117.0293 482.4788,-127.5135 489.3501,-126.1773\"/>\n",
       "<text text-anchor=\"middle\" x=\"498\" y=\"-149.3\" font-family=\"Times,serif\" font-size=\"14.00\" fill=\"#000000\">T</text>\n",
       "</g>\n",
       "<!-- 10&#45;&gt;12 -->\n",
       "<g id=\"edge16\" class=\"edge\">\n",
       "<title>10&#45;&gt;12</title>\n",
       "<path fill=\"none\" stroke=\"#ff0000\" d=\"M518.4817,-192.2095C538.6239,-174.6662 572.5198,-145.144 596.7689,-124.0238\"/>\n",
       "<polygon fill=\"#ff0000\" stroke=\"#ff0000\" points=\"599.3468,-126.42 604.5889,-117.2129 594.7493,-121.1414 599.3468,-126.42\"/>\n",
       "<text text-anchor=\"middle\" x=\"585.5\" y=\"-149.3\" font-family=\"Times,serif\" font-size=\"14.00\" fill=\"#000000\">F</text>\n",
       "</g>\n",
       "</g>\n",
       "</svg>\n"
      ],
      "text/plain": [
       "<graphviz.files.Source at 0x1038b53c8>"
      ]
     },
     "execution_count": 6,
     "metadata": {},
     "output_type": "execute_result"
    }
   ],
   "source": [
    "Source(to_graph(gen_cfg(inspect.getsource(check_triangle))))"
   ]
  },
  {
   "cell_type": "markdown",
   "metadata": {
    "slideshow": {
     "slide_type": "fragment"
    }
   },
   "source": [
    "The possible execution paths traced by the program can be represented as follows, with the numbers indicating the specific line numbers executed."
   ]
  },
  {
   "cell_type": "code",
   "execution_count": 7,
   "metadata": {
    "slideshow": {
     "slide_type": "subslide"
    }
   },
   "outputs": [],
   "source": [
    "paths = {\n",
    "    '<path 1>': ([1, 2, 3, 4, 5], 'Equilateral'),\n",
    "    '<path 2>': ([1, 2, 3, 4, 7], 'Isosceles'),\n",
    "    '<path 3>': ([1, 2, 3, 9], 'Isosceles'),\n",
    "    '<path 4>': ([1, 2, 11, 12, 13], 'Isosceles'),\n",
    "    '<path 5>': ([1, 2, 11, 12, 15], 'Scalene'),\n",
    "    '<path 6>': ([1, 2, 11, 17], 'Isosceles'),\n",
    "}"
   ]
  },
  {
   "cell_type": "markdown",
   "metadata": {
    "slideshow": {
     "slide_type": "fragment"
    }
   },
   "source": [
    "Consider the `<path 1>`. To trace this path, we need to execute the following statements in order."
   ]
  },
  {
   "cell_type": "markdown",
   "metadata": {
    "slideshow": {
     "slide_type": "subslide"
    }
   },
   "source": [
    "```python\n",
    "1: check_triangle(a, b, c)\n",
    "2: if (a == b) -> True\n",
    "3: if (a == c) -> True\n",
    "4: if (b == c) -> True\n",
    "5: return 'Equilateral'\n",
    "```"
   ]
  },
  {
   "cell_type": "markdown",
   "metadata": {
    "slideshow": {
     "slide_type": "fragment"
    }
   },
   "source": [
    "That is, any execution that traces this path has to start with values for `a`, `b`, and `c` that obeys the constraints in line numbers `2: (a == b)` evaluates to `True`, `3: (a == c)` evaluates to `True`, and `4: (b == c)` evaluates to `True`. Can we generate inputs such that these constraints are satisfied?"
   ]
  },
  {
   "cell_type": "markdown",
   "metadata": {
    "slideshow": {
     "slide_type": "subslide"
    }
   },
   "source": [
    "One of the ways to solve such constraints is to use an [SMT solver](https://en.wikipedia.org/wiki/Satisfiability_modulo_theories) such as [z3](http://theory.stanford.edu/~nikolaj/programmingz3.html). Here is how one would go about solving the set of equations using *z3*."
   ]
  },
  {
   "cell_type": "code",
   "execution_count": 8,
   "metadata": {
    "slideshow": {
     "slide_type": "skip"
    }
   },
   "outputs": [],
   "source": [
    "import z3"
   ]
  },
  {
   "cell_type": "markdown",
   "metadata": {
    "slideshow": {
     "slide_type": "fragment"
    }
   },
   "source": [
    "First, we declare a set of variables as symbolic integers using *z3*.\n",
    "\n",
    "*A symbolic variable can be thought of as a sort of placeholder for the real variable, sort of like the `x` in solving for `x` in Algebra. We identify what conditions the variable is supposed to obey, and finally produce a value that obeys all*"
   ]
  },
  {
   "cell_type": "code",
   "execution_count": 9,
   "metadata": {
    "slideshow": {
     "slide_type": "fragment"
    }
   },
   "outputs": [],
   "source": [
    "a, b, c = z3.Int('a'), z3.Int('b'), z3.Int('c')"
   ]
  },
  {
   "cell_type": "markdown",
   "metadata": {
    "slideshow": {
     "slide_type": "fragment"
    }
   },
   "source": [
    "We can now ask *z3* to solve the set of equations for us as follows."
   ]
  },
  {
   "cell_type": "code",
   "execution_count": 10,
   "metadata": {
    "slideshow": {
     "slide_type": "subslide"
    }
   },
   "outputs": [
    {
     "name": "stdout",
     "output_type": "stream",
     "text": [
      "[a = 0, b = 0, c = 0]\n"
     ]
    }
   ],
   "source": [
    "z3.solve(a == b, a == c, b == c)"
   ]
  },
  {
   "cell_type": "markdown",
   "metadata": {
    "slideshow": {
     "slide_type": "fragment"
    }
   },
   "source": [
    "Here we find the first problem in our program. Our program seems to not check whether the sides are greater than zero. Assume for now that we do not have that restriction. Does our program correctly follow the path described?\n",
    "\n",
    "We can use the `Coverage` from the [chapter on coverage](Coverage.ipynb) as a tracer to visualize that information as below."
   ]
  },
  {
   "cell_type": "code",
   "execution_count": 11,
   "metadata": {
    "slideshow": {
     "slide_type": "skip"
    }
   },
   "outputs": [],
   "source": [
    "from Coverage import Coverage"
   ]
  },
  {
   "cell_type": "markdown",
   "metadata": {
    "slideshow": {
     "slide_type": "fragment"
    }
   },
   "source": [
    "We modify the tracer to report *all* traced events."
   ]
  },
  {
   "cell_type": "code",
   "execution_count": 12,
   "metadata": {
    "slideshow": {
     "slide_type": "subslide"
    }
   },
   "outputs": [],
   "source": [
    "class Tracer(Coverage):\n",
    "    def traceit(self, frame, event, args):\n",
    "        if event != 'return':\n",
    "            f = inspect.getframeinfo(frame)\n",
    "            self._trace.append((f.function, f.lineno))\n",
    "        return self.traceit"
   ]
  },
  {
   "cell_type": "markdown",
   "metadata": {
    "slideshow": {
     "slide_type": "fragment"
    }
   },
   "source": [
    "First, we recover the trace."
   ]
  },
  {
   "cell_type": "code",
   "execution_count": 13,
   "metadata": {
    "slideshow": {
     "slide_type": "subslide"
    }
   },
   "outputs": [
    {
     "data": {
      "text/plain": [
       "[('check_triangle', 1),\n",
       " ('check_triangle', 2),\n",
       " ('check_triangle', 3),\n",
       " ('check_triangle', 4),\n",
       " ('check_triangle', 5),\n",
       " ('__exit__', 24),\n",
       " ('__exit__', 25)]"
      ]
     },
     "execution_count": 13,
     "metadata": {},
     "output_type": "execute_result"
    }
   ],
   "source": [
    "with Tracer() as cov:\n",
    "    assert check_triangle(0, 0, 0) == 'Equilateral'\n",
    "cov._trace"
   ]
  },
  {
   "cell_type": "markdown",
   "metadata": {
    "slideshow": {
     "slide_type": "fragment"
    }
   },
   "source": [
    "To plot the path taken, we need to extract edges from the coverage.\n",
    "We define a procedure `cov_to_arcs()` to translate our coverage to a list of edges."
   ]
  },
  {
   "cell_type": "code",
   "execution_count": 14,
   "metadata": {
    "slideshow": {
     "slide_type": "subslide"
    }
   },
   "outputs": [],
   "source": [
    "def cov_to_arcs(cov):\n",
    "    t = [i for f, i in cov._trace]\n",
    "    return list(zip(t, t[1:]))"
   ]
  },
  {
   "cell_type": "code",
   "execution_count": 15,
   "metadata": {
    "slideshow": {
     "slide_type": "fragment"
    }
   },
   "outputs": [
    {
     "data": {
      "text/plain": [
       "[(1, 2), (2, 3), (3, 4), (4, 5), (5, 24), (24, 25)]"
      ]
     },
     "execution_count": 15,
     "metadata": {},
     "output_type": "execute_result"
    }
   ],
   "source": [
    "cov_to_arcs(cov)"
   ]
  },
  {
   "cell_type": "markdown",
   "metadata": {
    "slideshow": {
     "slide_type": "fragment"
    }
   },
   "source": [
    "We can now determine the path taken."
   ]
  },
  {
   "cell_type": "markdown",
   "metadata": {
    "slideshow": {
     "slide_type": "subslide"
    }
   },
   "source": [
    "### The CFG with path taken"
   ]
  },
  {
   "cell_type": "code",
   "execution_count": 16,
   "metadata": {
    "slideshow": {
     "slide_type": "fragment"
    }
   },
   "outputs": [],
   "source": [
    "check_triangle_src = inspect.getsource(check_triangle).strip()"
   ]
  },
  {
   "cell_type": "code",
   "execution_count": 17,
   "metadata": {
    "slideshow": {
     "slide_type": "fragment"
    }
   },
   "outputs": [
    {
     "data": {
      "image/svg+xml": [
       "<?xml version=\"1.0\" encoding=\"UTF-8\" standalone=\"no\"?>\n",
       "<!DOCTYPE svg PUBLIC \"-//W3C//DTD SVG 1.1//EN\"\n",
       " \"http://www.w3.org/Graphics/SVG/1.1/DTD/svg11.dtd\">\n",
       "<!-- Generated by graphviz version 2.40.1 (20161225.0304)\n",
       " -->\n",
       "<!-- Title: %3 Pages: 1 -->\n",
       "<svg width=\"701pt\" height=\"420pt\"\n",
       " viewBox=\"0.00 0.00 701.00 420.00\" xmlns=\"http://www.w3.org/2000/svg\" xmlns:xlink=\"http://www.w3.org/1999/xlink\">\n",
       "<g id=\"graph0\" class=\"graph\" transform=\"scale(1 1) rotate(0) translate(4 416)\">\n",
       "<title>%3</title>\n",
       "<polygon fill=\"#ffffff\" stroke=\"transparent\" points=\"-4,4 -4,-416 697,-416 697,4 -4,4\"/>\n",
       "<!-- 1 -->\n",
       "<g id=\"node1\" class=\"node\">\n",
       "<title>1</title>\n",
       "<ellipse fill=\"none\" stroke=\"#000000\" cx=\"309.5\" cy=\"-390\" rx=\"124.2738\" ry=\"18\"/>\n",
       "<ellipse fill=\"none\" stroke=\"#000000\" cx=\"309.5\" cy=\"-390\" rx=\"128.2781\" ry=\"22\"/>\n",
       "<text text-anchor=\"middle\" x=\"309.5\" y=\"-386.3\" font-family=\"Times,serif\" font-size=\"14.00\" fill=\"#000000\">1: enter: check_triangle(a, b, c)</text>\n",
       "</g>\n",
       "<!-- 3 -->\n",
       "<g id=\"node9\" class=\"node\">\n",
       "<title>3</title>\n",
       "<polygon fill=\"none\" stroke=\"#000000\" points=\"309.5,-332 224.875,-314 309.5,-296 394.125,-314 309.5,-332\"/>\n",
       "<text text-anchor=\"middle\" x=\"309.5\" y=\"-310.3\" font-family=\"Times,serif\" font-size=\"14.00\" fill=\"#000000\">2: if: (a == b)</text>\n",
       "</g>\n",
       "<!-- 1&#45;&gt;3 -->\n",
       "<g id=\"edge7\" class=\"edge\">\n",
       "<title>1&#45;&gt;3</title>\n",
       "<path fill=\"none\" stroke=\"#00ff00\" d=\"M309.5,-367.6086C309.5,-359.7272 309.5,-350.7616 309.5,-342.4482\"/>\n",
       "<polygon fill=\"#00ff00\" stroke=\"#00ff00\" points=\"313.0001,-342.3974 309.5,-332.3975 306.0001,-342.3975 313.0001,-342.3974\"/>\n",
       "</g>\n",
       "<!-- 2 -->\n",
       "<g id=\"node2\" class=\"node\">\n",
       "<title>2</title>\n",
       "<ellipse fill=\"none\" stroke=\"#000000\" cx=\"348.5\" cy=\"-22\" rx=\"119.6759\" ry=\"18\"/>\n",
       "<ellipse fill=\"none\" stroke=\"#000000\" cx=\"348.5\" cy=\"-22\" rx=\"123.6788\" ry=\"22\"/>\n",
       "<text text-anchor=\"middle\" x=\"348.5\" y=\"-18.3\" font-family=\"Times,serif\" font-size=\"14.00\" fill=\"#000000\">1: exit: check_triangle(a, b, c)</text>\n",
       "</g>\n",
       "<!-- 6 -->\n",
       "<g id=\"node3\" class=\"node\">\n",
       "<title>6</title>\n",
       "<polygon fill=\"none\" stroke=\"#000000\" points=\"223.5,-116 89.5,-116 89.5,-80 223.5,-80 223.5,-116\"/>\n",
       "<text text-anchor=\"middle\" x=\"156.5\" y=\"-94.3\" font-family=\"Times,serif\" font-size=\"14.00\" fill=\"#000000\">5: return &#39;Equilateral&#39;</text>\n",
       "</g>\n",
       "<!-- 6&#45;&gt;2 -->\n",
       "<g id=\"edge1\" class=\"edge\">\n",
       "<title>6&#45;&gt;2</title>\n",
       "<path fill=\"none\" stroke=\"#00ff00\" d=\"M202.0013,-79.9891C227.6933,-69.8193 260.1311,-56.9793 287.949,-45.9681\"/>\n",
       "<polygon fill=\"#00ff00\" stroke=\"#00ff00\" points=\"289.5673,-49.0918 297.5772,-42.157 286.9909,-42.5832 289.5673,-49.0918\"/>\n",
       "</g>\n",
       "<!-- 7 -->\n",
       "<g id=\"node4\" class=\"node\">\n",
       "<title>7</title>\n",
       "<polygon fill=\"none\" stroke=\"#000000\" points=\"365,-116 242,-116 242,-80 365,-80 365,-116\"/>\n",
       "<text text-anchor=\"middle\" x=\"303.5\" y=\"-94.3\" font-family=\"Times,serif\" font-size=\"14.00\" fill=\"#000000\">7: return &#39;Isosceles&#39;</text>\n",
       "</g>\n",
       "<!-- 7&#45;&gt;2 -->\n",
       "<g id=\"edge2\" class=\"edge\">\n",
       "<title>7&#45;&gt;2</title>\n",
       "<path fill=\"none\" stroke=\"#ff0000\" d=\"M314.1644,-79.9891C319.0096,-71.8061 324.8784,-61.8943 330.3831,-52.5974\"/>\n",
       "<polygon fill=\"#ff0000\" stroke=\"#ff0000\" points=\"333.4207,-54.3369 335.504,-43.9489 327.3973,-50.7704 333.4207,-54.3369\"/>\n",
       "</g>\n",
       "<!-- 8 -->\n",
       "<g id=\"node5\" class=\"node\">\n",
       "<title>8</title>\n",
       "<polygon fill=\"none\" stroke=\"#000000\" points=\"123,-188 0,-188 0,-152 123,-152 123,-188\"/>\n",
       "<text text-anchor=\"middle\" x=\"61.5\" y=\"-166.3\" font-family=\"Times,serif\" font-size=\"14.00\" fill=\"#000000\">9: return &#39;Isosceles&#39;</text>\n",
       "</g>\n",
       "<!-- 8&#45;&gt;2 -->\n",
       "<g id=\"edge3\" class=\"edge\">\n",
       "<title>8&#45;&gt;2</title>\n",
       "<path fill=\"none\" stroke=\"#ff0000\" d=\"M59.9722,-151.785C59.3358,-131.445 61.6902,-98.9055 80.5,-80 102.0881,-58.3021 169.6088,-43.7681 231.4703,-34.6756\"/>\n",
       "<polygon fill=\"#ff0000\" stroke=\"#ff0000\" points=\"232.3363,-38.0875 241.7403,-33.2074 231.3456,-31.158 232.3363,-38.0875\"/>\n",
       "</g>\n",
       "<!-- 11 -->\n",
       "<g id=\"node6\" class=\"node\">\n",
       "<title>11</title>\n",
       "<polygon fill=\"none\" stroke=\"#000000\" points=\"551.5,-116 421.5,-116 421.5,-80 551.5,-80 551.5,-116\"/>\n",
       "<text text-anchor=\"middle\" x=\"486.5\" y=\"-94.3\" font-family=\"Times,serif\" font-size=\"14.00\" fill=\"#000000\">13: return &#39;Isosceles&#39;</text>\n",
       "</g>\n",
       "<!-- 11&#45;&gt;2 -->\n",
       "<g id=\"edge4\" class=\"edge\">\n",
       "<title>11&#45;&gt;2</title>\n",
       "<path fill=\"none\" stroke=\"#ff0000\" d=\"M453.7959,-79.9891C436.3878,-70.402 414.6707,-58.4418 395.4887,-47.8778\"/>\n",
       "<polygon fill=\"#ff0000\" stroke=\"#ff0000\" points=\"397.0409,-44.737 386.593,-42.9787 393.664,-50.8687 397.0409,-44.737\"/>\n",
       "</g>\n",
       "<!-- 12 -->\n",
       "<g id=\"node7\" class=\"node\">\n",
       "<title>12</title>\n",
       "<polygon fill=\"none\" stroke=\"#000000\" points=\"693,-116 570,-116 570,-80 693,-80 693,-116\"/>\n",
       "<text text-anchor=\"middle\" x=\"631.5\" y=\"-94.3\" font-family=\"Times,serif\" font-size=\"14.00\" fill=\"#000000\">15: return &#39;Scalene&#39;</text>\n",
       "</g>\n",
       "<!-- 12&#45;&gt;2 -->\n",
       "<g id=\"edge5\" class=\"edge\">\n",
       "<title>12&#45;&gt;2</title>\n",
       "<path fill=\"none\" stroke=\"#ff0000\" d=\"M569.7442,-81.4154C527.6978,-70.1238 471.7035,-55.0865 426.5676,-42.9651\"/>\n",
       "<polygon fill=\"#ff0000\" stroke=\"#ff0000\" points=\"427.3828,-39.5601 416.8172,-40.3467 425.5672,-46.3206 427.3828,-39.5601\"/>\n",
       "</g>\n",
       "<!-- 13 -->\n",
       "<g id=\"node8\" class=\"node\">\n",
       "<title>13</title>\n",
       "<polygon fill=\"none\" stroke=\"#000000\" points=\"458.5,-188 328.5,-188 328.5,-152 458.5,-152 458.5,-188\"/>\n",
       "<text text-anchor=\"middle\" x=\"393.5\" y=\"-166.3\" font-family=\"Times,serif\" font-size=\"14.00\" fill=\"#000000\">17: return &#39;Isosceles&#39;</text>\n",
       "</g>\n",
       "<!-- 13&#45;&gt;2 -->\n",
       "<g id=\"edge6\" class=\"edge\">\n",
       "<title>13&#45;&gt;2</title>\n",
       "<path fill=\"none\" stroke=\"#ff0000\" d=\"M390.4968,-151.8033C387.2234,-133.4315 381.3812,-104.367 373.5,-80 370.6315,-71.1312 366.9114,-61.7571 363.2216,-53.191\"/>\n",
       "<polygon fill=\"#ff0000\" stroke=\"#ff0000\" points=\"366.3693,-51.6553 359.1155,-43.9331 359.9705,-54.4934 366.3693,-51.6553\"/>\n",
       "</g>\n",
       "<!-- 4 -->\n",
       "<g id=\"node10\" class=\"node\">\n",
       "<title>4</title>\n",
       "<polygon fill=\"none\" stroke=\"#000000\" points=\"214.5,-260 130.7131,-242 214.5,-224 298.2869,-242 214.5,-260\"/>\n",
       "<text text-anchor=\"middle\" x=\"214.5\" y=\"-238.3\" font-family=\"Times,serif\" font-size=\"14.00\" fill=\"#000000\">3: if: (a == c)</text>\n",
       "</g>\n",
       "<!-- 3&#45;&gt;4 -->\n",
       "<g id=\"edge8\" class=\"edge\">\n",
       "<title>3&#45;&gt;4</title>\n",
       "<path fill=\"none\" stroke=\"#00ff00\" d=\"M290.7311,-299.7751C276.6786,-289.1248 257.2522,-274.4017 241.5275,-262.484\"/>\n",
       "<polygon fill=\"#00ff00\" stroke=\"#00ff00\" points=\"243.3138,-259.4462 233.23,-256.1953 239.0856,-265.025 243.3138,-259.4462\"/>\n",
       "</g>\n",
       "<!-- 9 -->\n",
       "<g id=\"node12\" class=\"node\">\n",
       "<title>9</title>\n",
       "<polygon fill=\"none\" stroke=\"#000000\" points=\"404.5,-260 316.0212,-242 404.5,-224 492.9788,-242 404.5,-260\"/>\n",
       "<text text-anchor=\"middle\" x=\"404.5\" y=\"-238.3\" font-family=\"Times,serif\" font-size=\"14.00\" fill=\"#000000\">11: if: (b != c)</text>\n",
       "</g>\n",
       "<!-- 3&#45;&gt;9 -->\n",
       "<g id=\"edge13\" class=\"edge\">\n",
       "<title>3&#45;&gt;9</title>\n",
       "<path fill=\"none\" stroke=\"#ff0000\" d=\"M328.2689,-299.7751C342.3214,-289.1248 361.7478,-274.4017 377.4725,-262.484\"/>\n",
       "<polygon fill=\"#ff0000\" stroke=\"#ff0000\" points=\"379.9144,-265.025 385.77,-256.1953 375.6862,-259.4462 379.9144,-265.025\"/>\n",
       "</g>\n",
       "<!-- 4&#45;&gt;8 -->\n",
       "<g id=\"edge12\" class=\"edge\">\n",
       "<title>4&#45;&gt;8</title>\n",
       "<path fill=\"none\" stroke=\"#ff0000\" d=\"M188.1984,-229.6228C166.5114,-219.4172 135.188,-204.6767 109.113,-192.4061\"/>\n",
       "<polygon fill=\"#ff0000\" stroke=\"#ff0000\" points=\"110.3099,-189.1012 99.7714,-188.0101 107.3293,-195.435 110.3099,-189.1012\"/>\n",
       "</g>\n",
       "<!-- 5 -->\n",
       "<g id=\"node11\" class=\"node\">\n",
       "<title>5</title>\n",
       "<polygon fill=\"none\" stroke=\"#000000\" points=\"225.5,-188 140.875,-170 225.5,-152 310.125,-170 225.5,-188\"/>\n",
       "<text text-anchor=\"middle\" x=\"225.5\" y=\"-166.3\" font-family=\"Times,serif\" font-size=\"14.00\" fill=\"#000000\">4: if: (b == c)</text>\n",
       "</g>\n",
       "<!-- 4&#45;&gt;5 -->\n",
       "<g id=\"edge9\" class=\"edge\">\n",
       "<title>4&#45;&gt;5</title>\n",
       "<path fill=\"none\" stroke=\"#00ff00\" d=\"M217.1628,-224.5708C218.3967,-216.4942 219.893,-206.7004 221.2755,-197.6514\"/>\n",
       "<polygon fill=\"#00ff00\" stroke=\"#00ff00\" points=\"224.7731,-197.9322 222.8236,-187.5182 217.8534,-196.8749 224.7731,-197.9322\"/>\n",
       "</g>\n",
       "<!-- 5&#45;&gt;6 -->\n",
       "<g id=\"edge10\" class=\"edge\">\n",
       "<title>5&#45;&gt;6</title>\n",
       "<path fill=\"none\" stroke=\"#00ff00\" d=\"M210.8669,-154.7307C202.1447,-145.6292 190.8525,-133.8461 180.8214,-123.3788\"/>\n",
       "<polygon fill=\"#00ff00\" stroke=\"#00ff00\" points=\"183.2408,-120.8449 173.7947,-116.0467 178.1869,-125.6883 183.2408,-120.8449\"/>\n",
       "</g>\n",
       "<!-- 5&#45;&gt;7 -->\n",
       "<g id=\"edge11\" class=\"edge\">\n",
       "<title>5&#45;&gt;7</title>\n",
       "<path fill=\"none\" stroke=\"#ff0000\" d=\"M241.6617,-155.0816C251.5957,-145.9116 264.5822,-133.9241 276.0885,-123.3029\"/>\n",
       "<polygon fill=\"#ff0000\" stroke=\"#ff0000\" points=\"278.7881,-125.5742 283.7622,-116.2195 274.0401,-120.4305 278.7881,-125.5742\"/>\n",
       "</g>\n",
       "<!-- 9&#45;&gt;13 -->\n",
       "<g id=\"edge17\" class=\"edge\">\n",
       "<title>9&#45;&gt;13</title>\n",
       "<path fill=\"none\" stroke=\"#ff0000\" d=\"M401.7809,-224.2022C400.5737,-216.3005 399.1239,-206.811 397.7772,-197.9959\"/>\n",
       "<polygon fill=\"#ff0000\" stroke=\"#ff0000\" points=\"401.2344,-197.4498 396.2642,-188.0931 394.3147,-198.507 401.2344,-197.4498\"/>\n",
       "</g>\n",
       "<!-- 10 -->\n",
       "<g id=\"node13\" class=\"node\">\n",
       "<title>10</title>\n",
       "<polygon fill=\"none\" stroke=\"#000000\" points=\"566.5,-188 476.3451,-170 566.5,-152 656.6549,-170 566.5,-188\"/>\n",
       "<text text-anchor=\"middle\" x=\"566.5\" y=\"-166.3\" font-family=\"Times,serif\" font-size=\"14.00\" fill=\"#000000\">12: if: (a == c)</text>\n",
       "</g>\n",
       "<!-- 9&#45;&gt;10 -->\n",
       "<g id=\"edge14\" class=\"edge\">\n",
       "<title>9&#45;&gt;10</title>\n",
       "<path fill=\"none\" stroke=\"#ff0000\" d=\"M432.3488,-229.6228C459.1237,-217.7228 499.7711,-199.6573 529.3055,-186.5309\"/>\n",
       "<polygon fill=\"#ff0000\" stroke=\"#ff0000\" points=\"530.7559,-189.7165 538.4725,-182.4567 527.9128,-183.3198 530.7559,-189.7165\"/>\n",
       "</g>\n",
       "<!-- 10&#45;&gt;11 -->\n",
       "<g id=\"edge15\" class=\"edge\">\n",
       "<title>10&#45;&gt;11</title>\n",
       "<path fill=\"none\" stroke=\"#ff0000\" d=\"M549.9239,-155.0816C539.6372,-145.8235 526.1592,-133.6933 514.2744,-122.9969\"/>\n",
       "<polygon fill=\"#ff0000\" stroke=\"#ff0000\" points=\"516.5183,-120.3077 506.7439,-116.2195 511.8355,-125.5107 516.5183,-120.3077\"/>\n",
       "</g>\n",
       "<!-- 10&#45;&gt;12 -->\n",
       "<g id=\"edge16\" class=\"edge\">\n",
       "<title>10&#45;&gt;12</title>\n",
       "<path fill=\"none\" stroke=\"#ff0000\" d=\"M580.2848,-154.7307C588.4216,-145.7176 598.9326,-134.0747 608.313,-123.6841\"/>\n",
       "<polygon fill=\"#ff0000\" stroke=\"#ff0000\" points=\"611.1047,-125.8148 615.2078,-116.0467 605.9088,-121.124 611.1047,-125.8148\"/>\n",
       "</g>\n",
       "</g>\n",
       "</svg>\n"
      ],
      "text/plain": [
       "<graphviz.files.Source at 0x114534400>"
      ]
     },
     "execution_count": 17,
     "metadata": {},
     "output_type": "execute_result"
    }
   ],
   "source": [
    "Source(to_graph(gen_cfg(check_triangle_src), arcs=cov_to_arcs(cov)))"
   ]
  },
  {
   "cell_type": "markdown",
   "metadata": {
    "slideshow": {
     "slide_type": "fragment"
    }
   },
   "source": [
    "As you can see, the path taken is `<path 1>`."
   ]
  },
  {
   "cell_type": "markdown",
   "metadata": {
    "slideshow": {
     "slide_type": "fragment"
    }
   },
   "source": [
    "Similarly, for solving `<path 2>` we need to simply invert the condition at <line 2>:"
   ]
  },
  {
   "cell_type": "code",
   "execution_count": 18,
   "metadata": {
    "slideshow": {
     "slide_type": "fragment"
    }
   },
   "outputs": [],
   "source": [
    "a, b, c = z3.Ints('a b c')"
   ]
  },
  {
   "cell_type": "code",
   "execution_count": 19,
   "metadata": {
    "slideshow": {
     "slide_type": "fragment"
    }
   },
   "outputs": [
    {
     "name": "stdout",
     "output_type": "stream",
     "text": [
      "no solution\n"
     ]
    }
   ],
   "source": [
    "z3.solve(a == b, a == c, z3.Not(b == c))"
   ]
  },
  {
   "cell_type": "markdown",
   "metadata": {
    "slideshow": {
     "slide_type": "fragment"
    }
   },
   "source": [
    "The symbolic execution suggests that there is no solution. A moment's reflection will convince us that it is indeed true. Let us proceed with the other paths. The `<path 3>` can be obtained by inverting the condition at `<line 4>`."
   ]
  },
  {
   "cell_type": "code",
   "execution_count": 20,
   "metadata": {
    "slideshow": {
     "slide_type": "subslide"
    }
   },
   "outputs": [],
   "source": [
    "a, b, c = z3.Ints('a b c')"
   ]
  },
  {
   "cell_type": "code",
   "execution_count": 21,
   "metadata": {
    "slideshow": {
     "slide_type": "fragment"
    }
   },
   "outputs": [
    {
     "name": "stdout",
     "output_type": "stream",
     "text": [
      "[c = 0, b = 1, a = 1]\n"
     ]
    }
   ],
   "source": [
    "z3.solve(a == b, z3.Not(a == c))"
   ]
  },
  {
   "cell_type": "code",
   "execution_count": 22,
   "metadata": {
    "slideshow": {
     "slide_type": "fragment"
    }
   },
   "outputs": [
    {
     "data": {
      "text/plain": [
       "[1, 2, 3, 9]"
      ]
     },
     "execution_count": 22,
     "metadata": {},
     "output_type": "execute_result"
    }
   ],
   "source": [
    "with Tracer() as cov:\n",
    "    assert check_triangle(1, 1, 0) == 'Isosceles'\n",
    "[i for fn, i in cov._trace if fn == 'check_triangle']"
   ]
  },
  {
   "cell_type": "markdown",
   "metadata": {
    "slideshow": {
     "slide_type": "fragment"
    }
   },
   "source": [
    "How about path <4>?"
   ]
  },
  {
   "cell_type": "code",
   "execution_count": 23,
   "metadata": {
    "slideshow": {
     "slide_type": "fragment"
    }
   },
   "outputs": [],
   "source": [
    "a, b, c = z3.Ints('a b c')"
   ]
  },
  {
   "cell_type": "code",
   "execution_count": 24,
   "metadata": {
    "slideshow": {
     "slide_type": "fragment"
    }
   },
   "outputs": [
    {
     "name": "stdout",
     "output_type": "stream",
     "text": [
      "[b = 0, c = -1, a = -1]\n"
     ]
    }
   ],
   "source": [
    "z3.solve(z3.Not(a == b), b != c, a == c)"
   ]
  },
  {
   "cell_type": "markdown",
   "metadata": {
    "slideshow": {
     "slide_type": "subslide"
    }
   },
   "source": [
    "As we mentioned earlier, our program does not account for sides with zero or negative length. We can modify our program to check for zero and negative input. However, do we always have to make sure that every function has to account for all possible inputs? It is possible that the `check_triangle` is not directly exposed to the user, and it is called from another function that already guarantees that the inputs would be positive.\n",
    "\n",
    "We can easily add such a precondition here."
   ]
  },
  {
   "cell_type": "code",
   "execution_count": 25,
   "metadata": {
    "slideshow": {
     "slide_type": "fragment"
    }
   },
   "outputs": [],
   "source": [
    "pre_condition = z3.And(a > 0, b > 0, c > 0)"
   ]
  },
  {
   "cell_type": "code",
   "execution_count": 26,
   "metadata": {
    "slideshow": {
     "slide_type": "fragment"
    }
   },
   "outputs": [
    {
     "name": "stdout",
     "output_type": "stream",
     "text": [
      "[c = 1, b = 2, a = 1]\n"
     ]
    }
   ],
   "source": [
    "z3.solve(pre_condition, z3.Not(a == b), b != c, a == c)"
   ]
  },
  {
   "cell_type": "code",
   "execution_count": 27,
   "metadata": {
    "slideshow": {
     "slide_type": "subslide"
    }
   },
   "outputs": [
    {
     "data": {
      "text/plain": [
       "[1, 2, 11, 12, 13]"
      ]
     },
     "execution_count": 27,
     "metadata": {},
     "output_type": "execute_result"
    }
   ],
   "source": [
    "with Tracer() as cov:\n",
    "    assert check_triangle(1, 2, 1) == 'Isosceles'\n",
    "[i for fn, i in cov._trace if fn == 'check_triangle']"
   ]
  },
  {
   "cell_type": "code",
   "execution_count": 28,
   "metadata": {
    "slideshow": {
     "slide_type": "fragment"
    }
   },
   "outputs": [
    {
     "data": {
      "text/plain": [
       "([1, 2, 11, 12, 13], 'Isosceles')"
      ]
     },
     "execution_count": 28,
     "metadata": {},
     "output_type": "execute_result"
    }
   ],
   "source": [
    "paths['<path 4>']"
   ]
  },
  {
   "cell_type": "markdown",
   "metadata": {
    "slideshow": {
     "slide_type": "fragment"
    }
   },
   "source": [
    "Continuing to path <5>:"
   ]
  },
  {
   "cell_type": "code",
   "execution_count": 29,
   "metadata": {
    "slideshow": {
     "slide_type": "fragment"
    }
   },
   "outputs": [],
   "source": [
    "a, b, c = z3.Ints('a b c')"
   ]
  },
  {
   "cell_type": "code",
   "execution_count": 30,
   "metadata": {
    "scrolled": true,
    "slideshow": {
     "slide_type": "fragment"
    }
   },
   "outputs": [
    {
     "name": "stdout",
     "output_type": "stream",
     "text": [
      "[b = 1, a = 3, c = 2]\n"
     ]
    }
   ],
   "source": [
    "z3.solve(pre_condition, z3.Not(a == b), b != c, z3.Not(a == c))"
   ]
  },
  {
   "cell_type": "markdown",
   "metadata": {
    "slideshow": {
     "slide_type": "fragment"
    }
   },
   "source": [
    "And indeed it is a *Scalene* triangle."
   ]
  },
  {
   "cell_type": "code",
   "execution_count": 31,
   "metadata": {
    "slideshow": {
     "slide_type": "subslide"
    }
   },
   "outputs": [
    {
     "data": {
      "text/plain": [
       "[1, 2, 11, 12, 15]"
      ]
     },
     "execution_count": 31,
     "metadata": {},
     "output_type": "execute_result"
    }
   ],
   "source": [
    "with Tracer() as cov:\n",
    "    assert check_triangle(3, 1, 2) == 'Scalene'\n",
    "[i for fn, i in cov._trace if fn == 'check_triangle']"
   ]
  },
  {
   "cell_type": "code",
   "execution_count": 32,
   "metadata": {
    "slideshow": {
     "slide_type": "fragment"
    }
   },
   "outputs": [
    {
     "data": {
      "text/plain": [
       "([1, 2, 11, 12, 15], 'Scalene')"
      ]
     },
     "execution_count": 32,
     "metadata": {},
     "output_type": "execute_result"
    }
   ],
   "source": [
    "paths['<path 5>']"
   ]
  },
  {
   "cell_type": "markdown",
   "metadata": {
    "slideshow": {
     "slide_type": "fragment"
    }
   },
   "source": [
    "Finally, for `<path 6>` the procedure is similar."
   ]
  },
  {
   "cell_type": "code",
   "execution_count": 33,
   "metadata": {
    "slideshow": {
     "slide_type": "fragment"
    }
   },
   "outputs": [
    {
     "name": "stdout",
     "output_type": "stream",
     "text": [
      "[c = 1, a = 2, b = 1]\n"
     ]
    }
   ],
   "source": [
    "z3.solve(pre_condition, z3.Not(a == b), z3.Not(b != c))"
   ]
  },
  {
   "cell_type": "code",
   "execution_count": 34,
   "metadata": {
    "slideshow": {
     "slide_type": "fragment"
    }
   },
   "outputs": [
    {
     "data": {
      "text/plain": [
       "[1, 2, 11, 17]"
      ]
     },
     "execution_count": 34,
     "metadata": {},
     "output_type": "execute_result"
    }
   ],
   "source": [
    "with Tracer() as cov:\n",
    "    assert check_triangle(2, 1, 1) == 'Isosceles'\n",
    "[i for fn, i in cov._trace if fn == 'check_triangle']"
   ]
  },
  {
   "cell_type": "code",
   "execution_count": 35,
   "metadata": {
    "slideshow": {
     "slide_type": "subslide"
    }
   },
   "outputs": [
    {
     "data": {
      "text/plain": [
       "([1, 2, 11, 17], 'Isosceles')"
      ]
     },
     "execution_count": 35,
     "metadata": {},
     "output_type": "execute_result"
    }
   ],
   "source": [
    "paths['<path 6>']"
   ]
  },
  {
   "cell_type": "markdown",
   "metadata": {
    "slideshow": {
     "slide_type": "fragment"
    }
   },
   "source": [
    "What if we wanted another solution? We can simply ask the solver to solve again, and not give us the same values."
   ]
  },
  {
   "cell_type": "code",
   "execution_count": 36,
   "metadata": {
    "slideshow": {
     "slide_type": "fragment"
    }
   },
   "outputs": [],
   "source": [
    "seen = [z3.And(a == 2, b == 1, c == 1)]"
   ]
  },
  {
   "cell_type": "code",
   "execution_count": 37,
   "metadata": {
    "slideshow": {
     "slide_type": "fragment"
    }
   },
   "outputs": [
    {
     "name": "stdout",
     "output_type": "stream",
     "text": [
      "[c = 2, a = 1, b = 2]\n"
     ]
    }
   ],
   "source": [
    "z3.solve(pre_condition, z3.Not(z3.Or(seen)), z3.Not(a == b), z3.Not(b != c))"
   ]
  },
  {
   "cell_type": "code",
   "execution_count": 38,
   "metadata": {
    "slideshow": {
     "slide_type": "fragment"
    }
   },
   "outputs": [],
   "source": [
    "seen.append(z3.And(a == 1, b == 2, c == 2))"
   ]
  },
  {
   "cell_type": "code",
   "execution_count": 39,
   "metadata": {
    "slideshow": {
     "slide_type": "fragment"
    }
   },
   "outputs": [
    {
     "name": "stdout",
     "output_type": "stream",
     "text": [
      "[c = 1, a = 3, b = 1]\n"
     ]
    }
   ],
   "source": [
    "z3.solve(pre_condition, z3.Not(z3.Or(seen)), z3.Not(a == b), z3.Not(b != c))"
   ]
  },
  {
   "cell_type": "markdown",
   "metadata": {
    "slideshow": {
     "slide_type": "subslide"
    }
   },
   "source": [
    "That is, using simple symbolic computation, we were able to easily see that (1) some of the paths are not reachable, and (2) some of the conditions were insufficient -- we needed preconditions. What about the total coverage obtained?"
   ]
  },
  {
   "cell_type": "markdown",
   "metadata": {
    "slideshow": {
     "slide_type": "subslide"
    }
   },
   "source": [
    "### Visualizing the coverage obtained"
   ]
  },
  {
   "cell_type": "markdown",
   "metadata": {
    "slideshow": {
     "slide_type": "fragment"
    }
   },
   "source": [
    "Visualizing the statement coverage can be accomplished as below."
   ]
  },
  {
   "cell_type": "code",
   "execution_count": 40,
   "metadata": {
    "slideshow": {
     "slide_type": "fragment"
    }
   },
   "outputs": [],
   "source": [
    "class Tracer(Tracer):\n",
    "    def show_coverage(self, fn):\n",
    "        src = fn if isinstance(fn, str) else inspect.getsource(fn)\n",
    "        covered = set([lineno for method, lineno in self._trace])\n",
    "        for i, s in enumerate(src.split('\\n')):\n",
    "            print('%s %2d: %s' % ('#' if i + 1 in covered else ' ', i + 1, s))"
   ]
  },
  {
   "cell_type": "markdown",
   "metadata": {
    "slideshow": {
     "slide_type": "fragment"
    }
   },
   "source": [
    "We run all the inputs obtained under the coverage tracer."
   ]
  },
  {
   "cell_type": "code",
   "execution_count": 41,
   "metadata": {
    "slideshow": {
     "slide_type": "fragment"
    }
   },
   "outputs": [],
   "source": [
    "with Tracer() as cov:\n",
    "    assert check_triangle(0, 0, 0) == 'Equilateral'\n",
    "    assert check_triangle(1, 1, 0) == 'Isosceles'\n",
    "    assert check_triangle(1, 2, 1) == 'Isosceles'\n",
    "    assert check_triangle(3, 1, 2) == 'Scalene'\n",
    "    assert check_triangle(2, 1, 1) == 'Isosceles'"
   ]
  },
  {
   "cell_type": "code",
   "execution_count": 42,
   "metadata": {
    "slideshow": {
     "slide_type": "subslide"
    }
   },
   "outputs": [
    {
     "name": "stdout",
     "output_type": "stream",
     "text": [
      "#  1: def check_triangle(a, b, c):\n",
      "#  2:     if a == b:\n",
      "#  3:         if a == c:\n",
      "#  4:             if b == c:\n",
      "#  5:                 return \"Equilateral\"\n",
      "   6:             else:\n",
      "   7:                 return \"Isosceles\"\n",
      "   8:         else:\n",
      "#  9:             return \"Isosceles\"\n",
      "  10:     else:\n",
      "# 11:         if b != c:\n",
      "# 12:             if a == c:\n",
      "# 13:                 return \"Isosceles\"\n",
      "  14:             else:\n",
      "# 15:                 return \"Scalene\"\n",
      "  16:         else:\n",
      "# 17:             return \"Isosceles\"\n",
      "  18: \n"
     ]
    }
   ],
   "source": [
    "cov.show_coverage(check_triangle)"
   ]
  },
  {
   "cell_type": "markdown",
   "metadata": {
    "slideshow": {
     "slide_type": "subslide"
    }
   },
   "source": [
    "The coverage is as expected. The generated values does seem to cover all code that can be covered."
   ]
  },
  {
   "cell_type": "markdown",
   "metadata": {
    "slideshow": {
     "slide_type": "subslide"
    }
   },
   "source": [
    "### Function summaries"
   ]
  },
  {
   "cell_type": "markdown",
   "metadata": {
    "slideshow": {
     "slide_type": "fragment"
    }
   },
   "source": [
    "Now, consider this equation for determining absolute value."
   ]
  },
  {
   "cell_type": "code",
   "execution_count": 43,
   "metadata": {
    "slideshow": {
     "slide_type": "fragment"
    }
   },
   "outputs": [],
   "source": [
    "def abs_value(x):\n",
    "    if x < 0:\n",
    "        v = -x\n",
    "    else:\n",
    "        v = x\n",
    "    return v"
   ]
  },
  {
   "cell_type": "code",
   "execution_count": 44,
   "metadata": {
    "slideshow": {
     "slide_type": "fragment"
    }
   },
   "outputs": [
    {
     "data": {
      "image/svg+xml": [
       "<?xml version=\"1.0\" encoding=\"UTF-8\" standalone=\"no\"?>\n",
       "<!DOCTYPE svg PUBLIC \"-//W3C//DTD SVG 1.1//EN\"\n",
       " \"http://www.w3.org/Graphics/SVG/1.1/DTD/svg11.dtd\">\n",
       "<!-- Generated by graphviz version 2.40.1 (20161225.0304)\n",
       " -->\n",
       "<!-- Title: %3 Pages: 1 -->\n",
       "<svg width=\"197pt\" height=\"366pt\"\n",
       " viewBox=\"0.00 0.00 196.68 366.00\" xmlns=\"http://www.w3.org/2000/svg\" xmlns:xlink=\"http://www.w3.org/1999/xlink\">\n",
       "<g id=\"graph0\" class=\"graph\" transform=\"scale(1 1) rotate(0) translate(4 362)\">\n",
       "<title>%3</title>\n",
       "<polygon fill=\"#ffffff\" stroke=\"transparent\" points=\"-4,4 -4,-362 192.684,-362 192.684,4 -4,4\"/>\n",
       "<!-- 1 -->\n",
       "<g id=\"node1\" class=\"node\">\n",
       "<title>1</title>\n",
       "<ellipse fill=\"none\" stroke=\"#000000\" cx=\"94.342\" cy=\"-336\" rx=\"90.1909\" ry=\"18\"/>\n",
       "<ellipse fill=\"none\" stroke=\"#000000\" cx=\"94.342\" cy=\"-336\" rx=\"94.1842\" ry=\"22\"/>\n",
       "<text text-anchor=\"middle\" x=\"94.342\" y=\"-332.3\" font-family=\"Times,serif\" font-size=\"14.00\" fill=\"#000000\">1: enter: abs_value(x)</text>\n",
       "</g>\n",
       "<!-- 3 -->\n",
       "<g id=\"node4\" class=\"node\">\n",
       "<title>3</title>\n",
       "<polygon fill=\"none\" stroke=\"#000000\" points=\"94.342,-277 16.085,-259 94.342,-241 172.5989,-259 94.342,-277\"/>\n",
       "<text text-anchor=\"middle\" x=\"94.342\" y=\"-255.3\" font-family=\"Times,serif\" font-size=\"14.00\" fill=\"#000000\">2: if: (x &lt; 0)</text>\n",
       "</g>\n",
       "<!-- 1&#45;&gt;3 -->\n",
       "<g id=\"edge2\" class=\"edge\">\n",
       "<title>1&#45;&gt;3</title>\n",
       "<path fill=\"none\" stroke=\"#000000\" d=\"M94.342,-313.7284C94.342,-305.4552 94.342,-295.9583 94.342,-287.2229\"/>\n",
       "<polygon fill=\"#000000\" stroke=\"#000000\" points=\"97.8421,-287.0789 94.342,-277.0789 90.8421,-287.079 97.8421,-287.0789\"/>\n",
       "</g>\n",
       "<!-- 2 -->\n",
       "<g id=\"node2\" class=\"node\">\n",
       "<title>2</title>\n",
       "<ellipse fill=\"none\" stroke=\"#000000\" cx=\"94.342\" cy=\"-22\" rx=\"85.5945\" ry=\"18\"/>\n",
       "<ellipse fill=\"none\" stroke=\"#000000\" cx=\"94.342\" cy=\"-22\" rx=\"89.5853\" ry=\"22\"/>\n",
       "<text text-anchor=\"middle\" x=\"94.342\" y=\"-18.3\" font-family=\"Times,serif\" font-size=\"14.00\" fill=\"#000000\">1: exit: abs_value(x)</text>\n",
       "</g>\n",
       "<!-- 6 -->\n",
       "<g id=\"node3\" class=\"node\">\n",
       "<title>6</title>\n",
       "<polygon fill=\"none\" stroke=\"#000000\" points=\"131.842,-117 56.842,-117 56.842,-81 131.842,-81 131.842,-117\"/>\n",
       "<text text-anchor=\"middle\" x=\"94.342\" y=\"-95.3\" font-family=\"Times,serif\" font-size=\"14.00\" fill=\"#000000\">6: return v</text>\n",
       "</g>\n",
       "<!-- 6&#45;&gt;2 -->\n",
       "<g id=\"edge1\" class=\"edge\">\n",
       "<title>6&#45;&gt;2</title>\n",
       "<path fill=\"none\" stroke=\"#000000\" d=\"M94.342,-80.7521C94.342,-72.8888 94.342,-63.4498 94.342,-54.4612\"/>\n",
       "<polygon fill=\"#000000\" stroke=\"#000000\" points=\"97.8421,-54.2376 94.342,-44.2377 90.8421,-54.2377 97.8421,-54.2376\"/>\n",
       "</g>\n",
       "<!-- 4 -->\n",
       "<g id=\"node5\" class=\"node\">\n",
       "<title>4</title>\n",
       "<polygon fill=\"none\" stroke=\"#000000\" points=\"89.842,-190 12.842,-190 12.842,-154 89.842,-154 89.842,-190\"/>\n",
       "<text text-anchor=\"middle\" x=\"51.342\" y=\"-168.3\" font-family=\"Times,serif\" font-size=\"14.00\" fill=\"#000000\">3: v = (&#45; x)</text>\n",
       "</g>\n",
       "<!-- 3&#45;&gt;4 -->\n",
       "<g id=\"edge3\" class=\"edge\">\n",
       "<title>3&#45;&gt;4</title>\n",
       "<path fill=\"none\" stroke=\"#0000ff\" d=\"M86.254,-242.636C80.2449,-230.4781 71.9086,-213.6115 64.8889,-199.4089\"/>\n",
       "<polygon fill=\"#0000ff\" stroke=\"#0000ff\" points=\"67.8529,-197.5065 60.2842,-190.0925 61.5775,-200.6081 67.8529,-197.5065\"/>\n",
       "<text text-anchor=\"middle\" x=\"80.842\" y=\"-211.8\" font-family=\"Times,serif\" font-size=\"14.00\" fill=\"#000000\">T</text>\n",
       "</g>\n",
       "<!-- 5 -->\n",
       "<g id=\"node6\" class=\"node\">\n",
       "<title>5</title>\n",
       "<polygon fill=\"none\" stroke=\"#000000\" points=\"168.342,-190 108.342,-190 108.342,-154 168.342,-154 168.342,-190\"/>\n",
       "<text text-anchor=\"middle\" x=\"138.342\" y=\"-168.3\" font-family=\"Times,serif\" font-size=\"14.00\" fill=\"#000000\">5: v = x</text>\n",
       "</g>\n",
       "<!-- 3&#45;&gt;5 -->\n",
       "<g id=\"edge4\" class=\"edge\">\n",
       "<title>3&#45;&gt;5</title>\n",
       "<path fill=\"none\" stroke=\"#ff0000\" d=\"M102.618,-242.636C108.7669,-230.4781 117.2971,-213.6115 124.48,-199.4089\"/>\n",
       "<polygon fill=\"#ff0000\" stroke=\"#ff0000\" points=\"127.8019,-200.5958 129.1918,-190.0925 121.5553,-197.4366 127.8019,-200.5958\"/>\n",
       "<text text-anchor=\"middle\" x=\"122.342\" y=\"-211.8\" font-family=\"Times,serif\" font-size=\"14.00\" fill=\"#000000\">F</text>\n",
       "</g>\n",
       "<!-- 4&#45;&gt;6 -->\n",
       "<g id=\"edge5\" class=\"edge\">\n",
       "<title>4&#45;&gt;6</title>\n",
       "<path fill=\"none\" stroke=\"#000000\" d=\"M61.9712,-153.9551C66.9845,-145.4441 73.0679,-135.1165 78.6017,-125.7219\"/>\n",
       "<polygon fill=\"#000000\" stroke=\"#000000\" points=\"81.6263,-127.4831 83.686,-117.0904 75.5949,-123.9303 81.6263,-127.4831\"/>\n",
       "</g>\n",
       "<!-- 5&#45;&gt;6 -->\n",
       "<g id=\"edge6\" class=\"edge\">\n",
       "<title>5&#45;&gt;6</title>\n",
       "<path fill=\"none\" stroke=\"#000000\" d=\"M127.4656,-153.9551C122.3357,-145.4441 116.1108,-135.1165 110.4483,-125.7219\"/>\n",
       "<polygon fill=\"#000000\" stroke=\"#000000\" points=\"113.4056,-123.8481 105.2458,-117.0904 107.4104,-127.4617 113.4056,-123.8481\"/>\n",
       "</g>\n",
       "</g>\n",
       "</svg>\n"
      ],
      "text/plain": [
       "<graphviz.files.Source at 0x118f46fd0>"
      ]
     },
     "execution_count": 44,
     "metadata": {},
     "output_type": "execute_result"
    }
   ],
   "source": [
    "Source(to_graph(gen_cfg(inspect.getsource(abs_value))))"
   ]
  },
  {
   "cell_type": "markdown",
   "metadata": {
    "slideshow": {
     "slide_type": "fragment"
    }
   },
   "source": [
    "What can we say about the value of `v` at `line: 5`? Let us trace and see. First, we have variable `x` at `line: 1`."
   ]
  },
  {
   "cell_type": "code",
   "execution_count": 45,
   "metadata": {
    "slideshow": {
     "slide_type": "fragment"
    }
   },
   "outputs": [],
   "source": [
    "x = z3.Int('x')"
   ]
  },
  {
   "cell_type": "markdown",
   "metadata": {
    "slideshow": {
     "slide_type": "fragment"
    }
   },
   "source": [
    "At `line: 2`, we face a bifurcation in the possible paths. Hence, we produce two paths with corresponding constraints."
   ]
  },
  {
   "cell_type": "code",
   "execution_count": 46,
   "metadata": {
    "slideshow": {
     "slide_type": "subslide"
    }
   },
   "outputs": [],
   "source": [
    "l2_F = x < 0\n",
    "l2_T = z3.Not(x < 0)"
   ]
  },
  {
   "cell_type": "markdown",
   "metadata": {
    "slideshow": {
     "slide_type": "fragment"
    }
   },
   "source": [
    "For `line: 3`, we only need to consider the `If` path. However, we have an assignment. So we use a new variable here."
   ]
  },
  {
   "cell_type": "code",
   "execution_count": 47,
   "metadata": {
    "slideshow": {
     "slide_type": "fragment"
    }
   },
   "outputs": [],
   "source": [
    "v_0 = z3.Int('v_0')\n",
    "l3 = z3.And(l2_F, v_0 == -x)"
   ]
  },
  {
   "cell_type": "markdown",
   "metadata": {
    "slideshow": {
     "slide_type": "fragment"
    }
   },
   "source": [
    "Similarly, for `line: 5`, we have an assignment. (Can we reuse the variable `v_0` from before?)"
   ]
  },
  {
   "cell_type": "code",
   "execution_count": 48,
   "metadata": {
    "slideshow": {
     "slide_type": "fragment"
    }
   },
   "outputs": [],
   "source": [
    "v_1 = z3.Int('v_1')\n",
    "l5 = z3.And(l2_T, v_1 == x)"
   ]
  },
  {
   "cell_type": "markdown",
   "metadata": {
    "slideshow": {
     "slide_type": "fragment"
    }
   },
   "source": [
    "When we come to `line: 6`, we see that we have *two* input streams. We have a choice. We can either keep each path separate as we did previously."
   ]
  },
  {
   "cell_type": "code",
   "execution_count": 49,
   "metadata": {
    "slideshow": {
     "slide_type": "subslide"
    }
   },
   "outputs": [
    {
     "name": "stdout",
     "output_type": "stream",
     "text": [
      "[x = -1, v = 1, v_0 = 1]\n",
      "[x = 1, v = 1, v_1 = 1]\n"
     ]
    }
   ],
   "source": [
    "v = z3.Int('v')\n",
    "for s in [z3.And(l3, v == v_0), z3.And(l5, v == v_1)]:\n",
    "    z3.solve(x != 0, s)"
   ]
  },
  {
   "cell_type": "markdown",
   "metadata": {
    "slideshow": {
     "slide_type": "fragment"
    }
   },
   "source": [
    "Or, we can combine them together and produce a single predicate at `line: 6`."
   ]
  },
  {
   "cell_type": "code",
   "execution_count": 50,
   "metadata": {
    "slideshow": {
     "slide_type": "fragment"
    }
   },
   "outputs": [
    {
     "name": "stdout",
     "output_type": "stream",
     "text": [
      "[v_0 = -1, v = 0, v_1 = 0, x = 0]\n"
     ]
    }
   ],
   "source": [
    "v = z3.Int('v')\n",
    "l6 = z3.Or(z3.And(l3, v == v_0), z3.And(l5, v == v_1))\n",
    "z3.solve(l6)"
   ]
  },
  {
   "cell_type": "markdown",
   "metadata": {
    "slideshow": {
     "slide_type": "subslide"
    }
   },
   "source": [
    "**Note.** Mering two incoming streams of execution can be non-trivial, especially when the execution paths are traversed multiple times (E.g. loops and recursion). For those interested, lookup [inferring loop invariants](https://www.st.cs.uni-saarland.de/publications/details/galeotti-hvc-2014/)."
   ]
  },
  {
   "cell_type": "markdown",
   "metadata": {
    "slideshow": {
     "slide_type": "fragment"
    }
   },
   "source": [
    "We can get this to produce any number of solutions for `abs()` as below."
   ]
  },
  {
   "cell_type": "code",
   "execution_count": 51,
   "metadata": {
    "scrolled": false,
    "slideshow": {
     "slide_type": "subslide"
    }
   },
   "outputs": [
    {
     "name": "stdout",
     "output_type": "stream",
     "text": [
      "[v_0 = -1, v = 0, v_1 = 0, x = 0]\n",
      "[v = 1, v_1 = 1, x = 1]\n",
      "[v = 2, v_1 = 2, x = 2]\n",
      "[v = 3, v_1 = 3, x = 3]\n",
      "[v = 4, v_1 = 4, x = 4]\n"
     ]
    },
    {
     "data": {
      "text/plain": [
       "[Or(And(And(x < 0, v_0 == -x), v == v_0),\n",
       "    And(And(Not(x < 0), v_1 == x), v == v_1)),\n",
       " Not(0 == x),\n",
       " Not(1 == x),\n",
       " Not(2 == x),\n",
       " Not(3 == x),\n",
       " Not(4 == x)]"
      ]
     },
     "execution_count": 51,
     "metadata": {},
     "output_type": "execute_result"
    }
   ],
   "source": [
    "s = z3.Solver()\n",
    "s.add(l6)\n",
    "for i in range(5):\n",
    "    if s.check() == z3.sat:\n",
    "        m = s.model()\n",
    "        x_val = m[x]\n",
    "        print(m)\n",
    "    else:\n",
    "        print('no solution')\n",
    "        break\n",
    "    s.add(z3.Not(x == x_val))\n",
    "s"
   ]
  },
  {
   "cell_type": "markdown",
   "metadata": {
    "slideshow": {
     "slide_type": "subslide"
    }
   },
   "source": [
    "The solver is not particularly random. So we need to help it a bit to produce values on the negative range."
   ]
  },
  {
   "cell_type": "code",
   "execution_count": 52,
   "metadata": {
    "slideshow": {
     "slide_type": "subslide"
    }
   },
   "outputs": [
    {
     "name": "stdout",
     "output_type": "stream",
     "text": [
      "[v_0 = 1, v = 1, x = -1]\n",
      "[v_0 = 2, v = 2, x = -2]\n",
      "[v_0 = 3, v = 3, x = -3]\n",
      "[v_0 = 4, v = 4, x = -4]\n",
      "[v_0 = 5, v = 5, x = -5]\n"
     ]
    },
    {
     "data": {
      "text/plain": [
       "[Or(And(And(x < 0, v_0 == -x), v == v_0),\n",
       "    And(And(Not(x < 0), v_1 == x), v == v_1)),\n",
       " Not(0 == x),\n",
       " Not(1 == x),\n",
       " Not(2 == x),\n",
       " Not(3 == x),\n",
       " Not(4 == x),\n",
       " x < 0,\n",
       " Not(-1 == x),\n",
       " Not(-2 == x),\n",
       " Not(-3 == x),\n",
       " Not(-4 == x),\n",
       " Not(-5 == x)]"
      ]
     },
     "execution_count": 52,
     "metadata": {},
     "output_type": "execute_result"
    }
   ],
   "source": [
    "s.add(x < 0)\n",
    "for i in range(5):\n",
    "    if s.check() == z3.sat:\n",
    "        m = s.model()\n",
    "        x_val = m[x]\n",
    "        print(m)\n",
    "    else:\n",
    "        print('no solution')\n",
    "        break\n",
    "    s.add(z3.Not(x == x_val))\n",
    "\n",
    "s"
   ]
  },
  {
   "cell_type": "markdown",
   "metadata": {
    "slideshow": {
     "slide_type": "subslide"
    }
   },
   "source": [
    "Note that the single expression produced at `line: 6` is essentially a summary for `abs_value()`. "
   ]
  },
  {
   "cell_type": "code",
   "execution_count": 53,
   "metadata": {
    "slideshow": {
     "slide_type": "fragment"
    }
   },
   "outputs": [
    {
     "data": {
      "text/plain": [
       "Or(And(And(x < 0, v_0 == -x), v == v_0),\n",
       "   And(And(Not(x < 0), v_1 == x), v == v_1))"
      ]
     },
     "execution_count": 53,
     "metadata": {},
     "output_type": "execute_result"
    }
   ],
   "source": [
    "abs_value_summary = l6\n",
    "abs_value_summary"
   ]
  },
  {
   "cell_type": "markdown",
   "metadata": {
    "slideshow": {
     "slide_type": "fragment"
    }
   },
   "source": [
    "The *z3* solver can be used to simplify the predicates where possible."
   ]
  },
  {
   "cell_type": "code",
   "execution_count": 54,
   "metadata": {
    "slideshow": {
     "slide_type": "fragment"
    }
   },
   "outputs": [
    {
     "data": {
      "text/plain": [
       "Or(And(Not(0 <= x), v_0 == -1*x, v == v_0),\n",
       "   And(0 <= x, v_1 == x, v == v_1))"
      ]
     },
     "execution_count": 54,
     "metadata": {},
     "output_type": "execute_result"
    }
   ],
   "source": [
    "z3.simplify(l6)"
   ]
  },
  {
   "cell_type": "markdown",
   "metadata": {
    "slideshow": {
     "slide_type": "fragment"
    }
   },
   "source": [
    "One can use this summary rather than trace into `abs_value()` when `abs_value()` is used elsewhere. For that, we need to convert this summary into a form that is usable in other places."
   ]
  },
  {
   "cell_type": "code",
   "execution_count": 55,
   "metadata": {
    "slideshow": {
     "slide_type": "skip"
    }
   },
   "outputs": [],
   "source": [
    "import ast\n",
    "import astunparse"
   ]
  },
  {
   "cell_type": "markdown",
   "metadata": {
    "slideshow": {
     "slide_type": "subslide"
    }
   },
   "source": [
    "#### prefix_vars\n",
    "The method `prefix_vars()` modifies the variables in an expression such that the variables are prefixed with a given value."
   ]
  },
  {
   "cell_type": "code",
   "execution_count": 56,
   "metadata": {
    "slideshow": {
     "slide_type": "subslide"
    }
   },
   "outputs": [],
   "source": [
    "def prefix_vars(astnode, prefix):\n",
    "    if isinstance(astnode, ast.BoolOp):\n",
    "        return ast.BoolOp(astnode.op,\n",
    "                          [prefix_vars(i, prefix) for i in astnode.values], [])\n",
    "    elif isinstance(astnode, ast.BinOp):\n",
    "        return ast.BinOp(\n",
    "            prefix_vars(astnode.left, prefix), astnode.op,\n",
    "            prefix_vars(astnode.right, prefix))\n",
    "    elif isinstance(astnode, ast.UnaryOp):\n",
    "        return ast.UnaryOp(astnode.op, prefix_vars(astnode.operand, prefix))\n",
    "    elif isinstance(astnode, ast.Call):\n",
    "        return ast.Call(prefix_vars(astnode.func, prefix),\n",
    "                        [prefix_vars(i, prefix) for i in astnode.args],\n",
    "                        astnode.keywords)\n",
    "    elif isinstance(astnode, ast.Compare):\n",
    "        return ast.Compare(\n",
    "            prefix_vars(astnode.left, prefix), astnode.ops,\n",
    "            [prefix_vars(i, prefix) for i in astnode.comparators])\n",
    "    elif isinstance(astnode, ast.Name):\n",
    "        if astnode.id in {'And', 'Or', 'Not'}:\n",
    "            return ast.Name('z3.%s' % (astnode.id), astnode.ctx)\n",
    "        else:\n",
    "            return ast.Name('%s_%s' % (prefix, astnode.id), astnode.ctx)\n",
    "    elif isinstance(astnode, ast.Return):\n",
    "        return ast.Return(prefix_vars(astnode.value, env))\n",
    "    else:\n",
    "        return astnode"
   ]
  },
  {
   "cell_type": "markdown",
   "metadata": {
    "slideshow": {
     "slide_type": "subslide"
    }
   },
   "source": [
    "The function `to_src()` allows us to *unparse* an expression."
   ]
  },
  {
   "cell_type": "code",
   "execution_count": 57,
   "metadata": {
    "slideshow": {
     "slide_type": "fragment"
    }
   },
   "outputs": [],
   "source": [
    "def to_src(astnode):\n",
    "    return astunparse.unparse(astnode).strip()"
   ]
  },
  {
   "cell_type": "code",
   "execution_count": 58,
   "metadata": {
    "slideshow": {
     "slide_type": "fragment"
    }
   },
   "outputs": [],
   "source": [
    "def get_expression(src):\n",
    "    return ast.parse(src).body[0].value"
   ]
  },
  {
   "cell_type": "markdown",
   "metadata": {
    "slideshow": {
     "slide_type": "fragment"
    }
   },
   "source": [
    "Now, we can combine both pieces to produce a prefixed expression as below."
   ]
  },
  {
   "cell_type": "code",
   "execution_count": 59,
   "metadata": {
    "scrolled": true,
    "slideshow": {
     "slide_type": "fragment"
    }
   },
   "outputs": [
    {
     "data": {
      "text/plain": [
       "'z3.Or(z3.And(z3.And((x1_x < 0), (x1_v_0 == (- x1_x))), (x1_v == x1_v_0)), z3.And(z3.And(z3.Not((x1_x < 0)), (x1_v_1 == x1_x)), (x1_v == x1_v_1)))'"
      ]
     },
     "execution_count": 59,
     "metadata": {},
     "output_type": "execute_result"
    }
   ],
   "source": [
    "abs_value_summary_ast = get_expression(str(abs_value_summary))\n",
    "to_src(prefix_vars(abs_value_summary_ast, 'x1'))"
   ]
  },
  {
   "cell_type": "markdown",
   "metadata": {
    "slideshow": {
     "slide_type": "subslide"
    }
   },
   "source": [
    "#### names"
   ]
  },
  {
   "cell_type": "markdown",
   "metadata": {
    "slideshow": {
     "slide_type": "fragment"
    }
   },
   "source": [
    "We need the names of variables used in an expression to declare the to declare them. The method `names()` extracts variables used."
   ]
  },
  {
   "cell_type": "code",
   "execution_count": 60,
   "metadata": {
    "slideshow": {
     "slide_type": "subslide"
    }
   },
   "outputs": [],
   "source": [
    "def names(astnode):\n",
    "    lst = []\n",
    "    if isinstance(astnode, ast.BoolOp):\n",
    "        for i in astnode.values:\n",
    "            lst.extend(names(i))\n",
    "    elif isinstance(astnode, ast.BinOp):\n",
    "        lst.extend(names(astnode.left))\n",
    "        lst.extend(names(astnode.right))\n",
    "    elif isinstance(astnode, ast.UnaryOp):\n",
    "        lst.extend(names(astnode.operand))\n",
    "    elif isinstance(astnode, ast.Call):\n",
    "        for i in astnode.args:\n",
    "            lst.extend(names(i))\n",
    "    elif isinstance(astnode, ast.Compare):\n",
    "        lst.extend(names(astnode.left))\n",
    "        for i in astnode.comparators:\n",
    "            lst.extend(names(i))\n",
    "    elif isinstance(astnode, ast.Name):\n",
    "        lst.append(astnode.id)\n",
    "    elif isinstance(astnode, ast.Expr):\n",
    "        lst.extend(names(astnode.value))\n",
    "    elif isinstance(astnode, (ast.Num, ast.Str, ast.Tuple, ast.NameConstant)):\n",
    "        pass\n",
    "    elif isinstance(astnode, ast.Assign):\n",
    "        for t in astnode.targets:\n",
    "            lst.extend(names(t))\n",
    "        lst.extend(names(astnode.value))\n",
    "    elif isinstance(astnode, ast.Module):\n",
    "        for b in astnode.body:\n",
    "            lst.extend(names(b))\n",
    "    else:\n",
    "        raise Exception(str(astnode))\n",
    "    return list(set(lst))"
   ]
  },
  {
   "cell_type": "markdown",
   "metadata": {
    "slideshow": {
     "slide_type": "subslide"
    }
   },
   "source": [
    "With this, we can now extract the variables used in an expression."
   ]
  },
  {
   "cell_type": "code",
   "execution_count": 61,
   "metadata": {
    "slideshow": {
     "slide_type": "fragment"
    }
   },
   "outputs": [
    {
     "data": {
      "text/plain": [
       "['x', 'a', 'b', 'z', 'y', 'c']"
      ]
     },
     "execution_count": 61,
     "metadata": {},
     "output_type": "execute_result"
    }
   ],
   "source": [
    "v = ast.parse('fn(x+z,y>(a+b)) == c')\n",
    "names(v)"
   ]
  },
  {
   "cell_type": "code",
   "execution_count": 62,
   "metadata": {
    "slideshow": {
     "slide_type": "fragment"
    }
   },
   "outputs": [
    {
     "data": {
      "text/plain": [
       "['v_0', 'x', 'v_1', 'v']"
      ]
     },
     "execution_count": 62,
     "metadata": {},
     "output_type": "execute_result"
    }
   ],
   "source": [
    "abs_value_vars = names(ast.parse(str(abs_value_summary)))\n",
    "abs_value_vars"
   ]
  },
  {
   "cell_type": "markdown",
   "metadata": {
    "slideshow": {
     "slide_type": "fragment"
    }
   },
   "source": [
    "Registering functions for later use."
   ]
  },
  {
   "cell_type": "code",
   "execution_count": 63,
   "metadata": {
    "slideshow": {
     "slide_type": "fragment"
    }
   },
   "outputs": [],
   "source": [
    "function_summaries = {}\n",
    "function_summaries['abs_value'] = {\n",
    "    'predicate': str(abs_value_summary),\n",
    "    'vars': abs_value_vars}"
   ]
  },
  {
   "cell_type": "code",
   "execution_count": 64,
   "metadata": {
    "slideshow": {
     "slide_type": "subslide"
    }
   },
   "outputs": [],
   "source": [
    "def define_vars(fn_vars, sym_fn='z3.Int'):\n",
    "    sym_var_dec = ', '.join(fn_vars)\n",
    "    sym_var_def = ', '.join([\"%s('%s')\" % (sym_fn, i) for i in fn_vars])\n",
    "    return \"%s = %s\" % (sym_var_dec, sym_var_def)"
   ]
  },
  {
   "cell_type": "code",
   "execution_count": 65,
   "metadata": {
    "slideshow": {
     "slide_type": "fragment"
    }
   },
   "outputs": [],
   "source": [
    "def gen_fn_summary(prefix, fn, sym_fn='z3.Int'):\n",
    "    fn_name = fn.__name__\n",
    "    summary = function_summaries[fn_name]\n",
    "    summary_ast = ast.parse(summary['predicate']).body[0].value\n",
    "    fn_vars = [\"%s_%s\" % (prefix, s) for s in summary['vars']]\n",
    "    declarations = define_vars(fn_vars, sym_fn)\n",
    "    return declarations, to_src(prefix_vars(summary_ast, prefix))"
   ]
  },
  {
   "cell_type": "code",
   "execution_count": 66,
   "metadata": {
    "slideshow": {
     "slide_type": "fragment"
    }
   },
   "outputs": [
    {
     "data": {
      "text/plain": [
       "(\"a_v_0, a_x, a_v_1, a_v = z3.Int('a_v_0'), z3.Int('a_x'), z3.Int('a_v_1'), z3.Int('a_v')\",\n",
       " 'z3.Or(z3.And(z3.And((a_x < 0), (a_v_0 == (- a_x))), (a_v == a_v_0)), z3.And(z3.And(z3.Not((a_x < 0)), (a_v_1 == a_x)), (a_v == a_v_1)))')"
      ]
     },
     "execution_count": 66,
     "metadata": {},
     "output_type": "execute_result"
    }
   ],
   "source": [
    "gen_fn_summary('a', abs_value)"
   ]
  },
  {
   "cell_type": "code",
   "execution_count": 67,
   "metadata": {
    "slideshow": {
     "slide_type": "subslide"
    }
   },
   "outputs": [
    {
     "data": {
      "text/plain": [
       "(\"b_v_0, b_x, b_v_1, b_v = z3.Int('b_v_0'), z3.Int('b_x'), z3.Int('b_v_1'), z3.Int('b_v')\",\n",
       " 'z3.Or(z3.And(z3.And((b_x < 0), (b_v_0 == (- b_x))), (b_v == b_v_0)), z3.And(z3.And(z3.Not((b_x < 0)), (b_v_1 == b_x)), (b_v == b_v_1)))')"
      ]
     },
     "execution_count": 67,
     "metadata": {},
     "output_type": "execute_result"
    }
   ],
   "source": [
    "gen_fn_summary('b', abs_value)"
   ]
  },
  {
   "cell_type": "markdown",
   "metadata": {
    "slideshow": {
     "slide_type": "fragment"
    }
   },
   "source": [
    "How do we use our function summaries? Here is a function `abs_max()` that uses `abs_value()`."
   ]
  },
  {
   "cell_type": "code",
   "execution_count": 68,
   "metadata": {
    "slideshow": {
     "slide_type": "fragment"
    }
   },
   "outputs": [],
   "source": [
    "def abs_max(a, b):\n",
    "    a1 = abs_value(a)\n",
    "    b1 = abs_value(b)\n",
    "    if a1 > b1:\n",
    "        c = a1\n",
    "    else:\n",
    "        c = b1\n",
    "    return c"
   ]
  },
  {
   "cell_type": "markdown",
   "metadata": {
    "slideshow": {
     "slide_type": "fragment"
    }
   },
   "source": [
    "To trace this function symbolically, we first define the two variables `a` and `b`."
   ]
  },
  {
   "cell_type": "code",
   "execution_count": 69,
   "metadata": {
    "slideshow": {
     "slide_type": "subslide"
    }
   },
   "outputs": [],
   "source": [
    "a = z3.Int('a')\n",
    "b = z3.Int('b')"
   ]
  },
  {
   "cell_type": "markdown",
   "metadata": {
    "slideshow": {
     "slide_type": "fragment"
    }
   },
   "source": [
    "The `line: 2` contains definition for `a1`, which we define as a symbolic variable."
   ]
  },
  {
   "cell_type": "code",
   "execution_count": 70,
   "metadata": {
    "slideshow": {
     "slide_type": "fragment"
    }
   },
   "outputs": [],
   "source": [
    "a1 = z3.Int('a1')"
   ]
  },
  {
   "cell_type": "markdown",
   "metadata": {
    "slideshow": {
     "slide_type": "fragment"
    }
   },
   "source": [
    "We also need to call `abs_value()`, which is accomplished as follows. Since this is the first call to `abs_value()`, we use `abs1` as the prefix."
   ]
  },
  {
   "cell_type": "code",
   "execution_count": 71,
   "metadata": {
    "scrolled": true,
    "slideshow": {
     "slide_type": "fragment"
    }
   },
   "outputs": [
    {
     "data": {
      "text/plain": [
       "'z3.Or(z3.And(z3.And((abs1_x < 0), (abs1_v_0 == (- abs1_x))), (abs1_v == abs1_v_0)), z3.And(z3.And(z3.Not((abs1_x < 0)), (abs1_v_1 == abs1_x)), (abs1_v == abs1_v_1)))'"
      ]
     },
     "execution_count": 71,
     "metadata": {},
     "output_type": "execute_result"
    }
   ],
   "source": [
    "d, v = gen_fn_summary('abs1', abs_value)\n",
    "v"
   ]
  },
  {
   "cell_type": "markdown",
   "metadata": {
    "slideshow": {
     "slide_type": "fragment"
    }
   },
   "source": [
    "We also need to equate the resulting value (`<prefix>_v`) to the symbolic variable `a1` we defined earlier."
   ]
  },
  {
   "cell_type": "code",
   "execution_count": 72,
   "metadata": {
    "slideshow": {
     "slide_type": "subslide"
    }
   },
   "outputs": [
    {
     "data": {
      "text/plain": [
       "'l2 = z3.And(a == abs1_x, a1 == abs1_v, z3.Or(z3.And(z3.And((abs1_x < 0), (abs1_v_0 == (- abs1_x))), (abs1_v == abs1_v_0)), z3.And(z3.And(z3.Not((abs1_x < 0)), (abs1_v_1 == abs1_x)), (abs1_v == abs1_v_1))))'"
      ]
     },
     "execution_count": 72,
     "metadata": {},
     "output_type": "execute_result"
    }
   ],
   "source": [
    "l2_src = \"l2 = z3.And(a == abs1_x, a1 == abs1_v, %s)\" % v\n",
    "l2_src"
   ]
  },
  {
   "cell_type": "markdown",
   "metadata": {
    "slideshow": {
     "slide_type": "fragment"
    }
   },
   "source": [
    "Applying both declaration and the assignment."
   ]
  },
  {
   "cell_type": "code",
   "execution_count": 73,
   "metadata": {
    "slideshow": {
     "slide_type": "fragment"
    }
   },
   "outputs": [],
   "source": [
    "exec(d)\n",
    "exec(l2_src)"
   ]
  },
  {
   "cell_type": "code",
   "execution_count": 74,
   "metadata": {
    "slideshow": {
     "slide_type": "fragment"
    }
   },
   "outputs": [
    {
     "data": {
      "text/plain": [
       "And(a == abs1_x,\n",
       "    a1 == abs1_v,\n",
       "    Or(And(And(abs1_x < 0, abs1_v_0 == -abs1_x),\n",
       "           abs1_v == abs1_v_0),\n",
       "       And(And(Not(abs1_x < 0), abs1_v_1 == abs1_x),\n",
       "           abs1_v == abs1_v_1)))"
      ]
     },
     "execution_count": 74,
     "metadata": {},
     "output_type": "execute_result"
    }
   ],
   "source": [
    "l2"
   ]
  },
  {
   "cell_type": "markdown",
   "metadata": {
    "slideshow": {
     "slide_type": "fragment"
    }
   },
   "source": [
    "We need to do the same for `line: 3`, but with `abs2` as the prefix."
   ]
  },
  {
   "cell_type": "code",
   "execution_count": 75,
   "metadata": {
    "slideshow": {
     "slide_type": "subslide"
    }
   },
   "outputs": [],
   "source": [
    "b1 = z3.Int('b1')\n",
    "d, v = gen_fn_summary('abs2', abs_value)\n",
    "l3_src = \"l3_ = z3.And(b == abs2_x, b1 == abs2_v, %s)\" % v\n",
    "exec(d)\n",
    "exec(l3_src)"
   ]
  },
  {
   "cell_type": "code",
   "execution_count": 76,
   "metadata": {
    "slideshow": {
     "slide_type": "fragment"
    }
   },
   "outputs": [
    {
     "data": {
      "text/plain": [
       "And(b == abs2_x,\n",
       "    b1 == abs2_v,\n",
       "    Or(And(And(abs2_x < 0, abs2_v_0 == -abs2_x),\n",
       "           abs2_v == abs2_v_0),\n",
       "       And(And(Not(abs2_x < 0), abs2_v_1 == abs2_x),\n",
       "           abs2_v == abs2_v_1)))"
      ]
     },
     "execution_count": 76,
     "metadata": {},
     "output_type": "execute_result"
    }
   ],
   "source": [
    "l3_"
   ]
  },
  {
   "cell_type": "markdown",
   "metadata": {
    "slideshow": {
     "slide_type": "fragment"
    }
   },
   "source": [
    "To get the true set of predicates at `line: 3`, we need to add the predicates from `line: 2`."
   ]
  },
  {
   "cell_type": "code",
   "execution_count": 77,
   "metadata": {
    "slideshow": {
     "slide_type": "fragment"
    }
   },
   "outputs": [],
   "source": [
    "l3 = z3.And(l2, l3_)"
   ]
  },
  {
   "cell_type": "code",
   "execution_count": 78,
   "metadata": {
    "scrolled": true,
    "slideshow": {
     "slide_type": "subslide"
    }
   },
   "outputs": [
    {
     "data": {
      "text/plain": [
       "And(And(a == abs1_x,\n",
       "        a1 == abs1_v,\n",
       "        Or(And(And(abs1_x < 0, abs1_v_0 == -abs1_x),\n",
       "               abs1_v == abs1_v_0),\n",
       "           And(And(Not(abs1_x < 0), abs1_v_1 == abs1_x),\n",
       "               abs1_v == abs1_v_1))),\n",
       "    And(b == abs2_x,\n",
       "        b1 == abs2_v,\n",
       "        Or(And(And(abs2_x < 0, abs2_v_0 == -abs2_x),\n",
       "               abs2_v == abs2_v_0),\n",
       "           And(And(Not(abs2_x < 0), abs2_v_1 == abs2_x),\n",
       "               abs2_v == abs2_v_1))))"
      ]
     },
     "execution_count": 78,
     "metadata": {},
     "output_type": "execute_result"
    }
   ],
   "source": [
    "l3"
   ]
  },
  {
   "cell_type": "markdown",
   "metadata": {
    "slideshow": {
     "slide_type": "fragment"
    }
   },
   "source": [
    "This equation can be simplified a bit using z3."
   ]
  },
  {
   "cell_type": "code",
   "execution_count": 79,
   "metadata": {
    "slideshow": {
     "slide_type": "subslide"
    }
   },
   "outputs": [
    {
     "data": {
      "text/plain": [
       "And(a == abs1_x,\n",
       "    a1 == abs1_v,\n",
       "    Or(And(Not(0 <= abs1_x),\n",
       "           abs1_v_0 == -1*abs1_x,\n",
       "           abs1_v == abs1_v_0),\n",
       "       And(0 <= abs1_x,\n",
       "           abs1_v_1 == abs1_x,\n",
       "           abs1_v == abs1_v_1)),\n",
       "    b == abs2_x,\n",
       "    b1 == abs2_v,\n",
       "    Or(And(Not(0 <= abs2_x),\n",
       "           abs2_v_0 == -1*abs2_x,\n",
       "           abs2_v == abs2_v_0),\n",
       "       And(0 <= abs2_x,\n",
       "           abs2_v_1 == abs2_x,\n",
       "           abs2_v == abs2_v_1)))"
      ]
     },
     "execution_count": 79,
     "metadata": {},
     "output_type": "execute_result"
    }
   ],
   "source": [
    "z3.simplify(l3)"
   ]
  },
  {
   "cell_type": "markdown",
   "metadata": {
    "slideshow": {
     "slide_type": "subslide"
    }
   },
   "source": [
    "Coming to `line: 4`, we have a condition."
   ]
  },
  {
   "cell_type": "code",
   "execution_count": 80,
   "metadata": {
    "slideshow": {
     "slide_type": "fragment"
    }
   },
   "outputs": [],
   "source": [
    "l4_cond = a1 > b1\n",
    "l4 = z3.And(l3, l4_cond)"
   ]
  },
  {
   "cell_type": "markdown",
   "metadata": {
    "slideshow": {
     "slide_type": "fragment"
    }
   },
   "source": [
    "For `line: 5`, we define the symbolic variable `c_0` assuming we took the *IF* branch."
   ]
  },
  {
   "cell_type": "code",
   "execution_count": 81,
   "metadata": {
    "slideshow": {
     "slide_type": "fragment"
    }
   },
   "outputs": [],
   "source": [
    "c_0 = z3.Int('c_0')\n",
    "l5 = z3.And(l4, c_0 == a1)"
   ]
  },
  {
   "cell_type": "markdown",
   "metadata": {
    "slideshow": {
     "slide_type": "fragment"
    }
   },
   "source": [
    "For `line: 6`, the *ELSE* branch was taken. So we invert that condition."
   ]
  },
  {
   "cell_type": "code",
   "execution_count": 82,
   "metadata": {
    "slideshow": {
     "slide_type": "fragment"
    }
   },
   "outputs": [],
   "source": [
    "l6 = z3.And(l3, z3.Not(l4_cond))"
   ]
  },
  {
   "cell_type": "markdown",
   "metadata": {
    "slideshow": {
     "slide_type": "fragment"
    }
   },
   "source": [
    "For `line: 7`, we define `c_1`."
   ]
  },
  {
   "cell_type": "code",
   "execution_count": 83,
   "metadata": {
    "slideshow": {
     "slide_type": "fragment"
    }
   },
   "outputs": [],
   "source": [
    "c_1 = z3.Int('c_1')\n",
    "l7 = z3.And(l6, c_1 == b1)"
   ]
  },
  {
   "cell_type": "code",
   "execution_count": 84,
   "metadata": {
    "slideshow": {
     "slide_type": "subslide"
    }
   },
   "outputs": [
    {
     "data": {
      "text/plain": [
       "sat"
      ]
     },
     "execution_count": 84,
     "metadata": {},
     "output_type": "execute_result"
    }
   ],
   "source": [
    "s1 = z3.Solver()\n",
    "s1.add(l5)\n",
    "s1.check()"
   ]
  },
  {
   "cell_type": "code",
   "execution_count": 85,
   "metadata": {
    "slideshow": {
     "slide_type": "fragment"
    }
   },
   "outputs": [
    {
     "data": {
      "text/plain": [
       "[(a, 1), (a1, 1), (b, 0), (b1, 0), (c_0, 1)]"
      ]
     },
     "execution_count": 85,
     "metadata": {},
     "output_type": "execute_result"
    }
   ],
   "source": [
    "m1 = s1.model()\n",
    "sorted([(d, m1[d]) for d in m1.decls() if not d.name(\n",
    ").startswith('abs')], key=lambda x: x[0].name())"
   ]
  },
  {
   "cell_type": "code",
   "execution_count": 86,
   "metadata": {
    "slideshow": {
     "slide_type": "fragment"
    }
   },
   "outputs": [
    {
     "data": {
      "text/plain": [
       "sat"
      ]
     },
     "execution_count": 86,
     "metadata": {},
     "output_type": "execute_result"
    }
   ],
   "source": [
    "s2 = z3.Solver()\n",
    "s2.add(l7)\n",
    "s2.check()"
   ]
  },
  {
   "cell_type": "code",
   "execution_count": 87,
   "metadata": {
    "slideshow": {
     "slide_type": "subslide"
    }
   },
   "outputs": [
    {
     "data": {
      "text/plain": [
       "[(a, 1), (a1, 1), (b, 1), (b1, 1), (c_1, 1)]"
      ]
     },
     "execution_count": 87,
     "metadata": {},
     "output_type": "execute_result"
    }
   ],
   "source": [
    "m2 = s2.model()\n",
    "sorted([(d, m2[d]) for d in m2.decls() if not d.name(\n",
    ").startswith('abs')], key=lambda x: x[0].name())"
   ]
  },
  {
   "cell_type": "markdown",
   "metadata": {
    "slideshow": {
     "slide_type": "fragment"
    }
   },
   "source": [
    "What we really want to do is to automate this process, because doing this by hand is tedious and error prone. Essentially, we want the ability to extract *all paths* in the program, and symbolically execute each path, which will generate the inputs required to cover all reachable portions of the program."
   ]
  },
  {
   "cell_type": "markdown",
   "metadata": {
    "slideshow": {
     "slide_type": "slide"
    }
   },
   "source": [
    "## Symbolic Execution"
   ]
  },
  {
   "cell_type": "markdown",
   "metadata": {
    "slideshow": {
     "slide_type": "subslide"
    }
   },
   "source": [
    "We define a simple *symbolic fuzzer* that can generate input values *symbolically* with the following assumptions:\n",
    "\n",
    "* There are no loops in the program\n",
    "* The function is self contained.\n",
    "* No recursion.\n",
    "* No reassignments for variables.\n",
    "\n",
    "The key idea is as follows: We traverse through the control flow graph from the entry point, and generate all possible paths to a given depth. Then we collect constraints that we encountered along the path, and generate inputs that will traverse the program up to that point."
   ]
  },
  {
   "cell_type": "markdown",
   "metadata": {
    "slideshow": {
     "slide_type": "subslide"
    }
   },
   "source": [
    "We build our fuzzer based on the class `Fuzzer`."
   ]
  },
  {
   "cell_type": "code",
   "execution_count": 88,
   "metadata": {
    "slideshow": {
     "slide_type": "skip"
    }
   },
   "outputs": [],
   "source": [
    "from Fuzzer import Fuzzer"
   ]
  },
  {
   "cell_type": "markdown",
   "metadata": {
    "slideshow": {
     "slide_type": "subslide"
    }
   },
   "source": [
    "### SimpleSymbolicFuzzer"
   ]
  },
  {
   "cell_type": "markdown",
   "metadata": {
    "slideshow": {
     "slide_type": "fragment"
    }
   },
   "source": [
    "We start by extracting the control flow graph of the function passed. We also provide a hook for child classes to do their processing."
   ]
  },
  {
   "cell_type": "code",
   "execution_count": 89,
   "metadata": {
    "slideshow": {
     "slide_type": "subslide"
    }
   },
   "outputs": [],
   "source": [
    "class SimpleSymbolicFuzzer(Fuzzer):\n",
    "    def __init__(self, fn, **kwargs):\n",
    "        self.fn = fn\n",
    "        self.fn_src = inspect.getsource(fn)\n",
    "        self.fn_args = list(inspect.signature(fn).parameters)\n",
    "        self.py_cfg = PyCFG()\n",
    "        self.py_cfg.gen_cfg(self.fn_src)\n",
    "        self.fnenter, self.fnexit = self.py_cfg.functions[fn.__name__]\n",
    "        self.paths = None\n",
    "        self.last_path = None\n",
    "        self.removed_solutions = []\n",
    "        self.z3 = z3.Solver()\n",
    "        self.options(kwargs)\n",
    "        self.process()\n",
    "\n",
    "    def process(self):\n",
    "        pass"
   ]
  },
  {
   "cell_type": "markdown",
   "metadata": {
    "slideshow": {
     "slide_type": "subslide"
    }
   },
   "source": [
    "We need a few variables to control how much we are willing to traverse."
   ]
  },
  {
   "cell_type": "markdown",
   "metadata": {
    "slideshow": {
     "slide_type": "fragment"
    }
   },
   "source": [
    "`MAX_DEPTH` is the depth to which one should attempt to trace the execution."
   ]
  },
  {
   "cell_type": "code",
   "execution_count": 90,
   "metadata": {
    "slideshow": {
     "slide_type": "fragment"
    }
   },
   "outputs": [],
   "source": [
    "MAX_DEPTH = 100"
   ]
  },
  {
   "cell_type": "markdown",
   "metadata": {
    "slideshow": {
     "slide_type": "fragment"
    }
   },
   "source": [
    "`MAX_TRIES` is the maximum number of attempts we will try to produce a value before giving up."
   ]
  },
  {
   "cell_type": "code",
   "execution_count": 91,
   "metadata": {
    "slideshow": {
     "slide_type": "fragment"
    }
   },
   "outputs": [],
   "source": [
    "MAX_TRIES = 100"
   ]
  },
  {
   "cell_type": "markdown",
   "metadata": {
    "slideshow": {
     "slide_type": "fragment"
    }
   },
   "source": [
    "`MAX_ITER` is the number of iterations we will attempt."
   ]
  },
  {
   "cell_type": "code",
   "execution_count": 92,
   "metadata": {
    "slideshow": {
     "slide_type": "fragment"
    }
   },
   "outputs": [],
   "source": [
    "MAX_ITER = 100"
   ]
  },
  {
   "cell_type": "markdown",
   "metadata": {
    "slideshow": {
     "slide_type": "fragment"
    }
   },
   "source": [
    "The `options()` method sets these parameters in the fuzzing class."
   ]
  },
  {
   "cell_type": "code",
   "execution_count": 93,
   "metadata": {
    "slideshow": {
     "slide_type": "subslide"
    }
   },
   "outputs": [],
   "source": [
    "class SimpleSymbolicFuzzer(SimpleSymbolicFuzzer):\n",
    "    def options(self, kwargs):\n",
    "        self.max_depth = kwargs.get('max_depth', MAX_DEPTH)\n",
    "        self.max_tries = kwargs.get('max_tries', MAX_TRIES)\n",
    "        self.max_iter = kwargs.get('max_iter', MAX_ITER)\n",
    "        self.symbolic_fn = kwargs.get('symbolic_fn', 'z3.Int')\n",
    "        self._options = kwargs"
   ]
  },
  {
   "cell_type": "markdown",
   "metadata": {
    "slideshow": {
     "slide_type": "fragment"
    }
   },
   "source": [
    "The initialization generates a control flow graph and hooks it to `fnenter` and `fnexit`."
   ]
  },
  {
   "cell_type": "code",
   "execution_count": 94,
   "metadata": {
    "slideshow": {
     "slide_type": "fragment"
    }
   },
   "outputs": [],
   "source": [
    "symfz_ct = SimpleSymbolicFuzzer(check_triangle)"
   ]
  },
  {
   "cell_type": "code",
   "execution_count": 95,
   "metadata": {
    "slideshow": {
     "slide_type": "fragment"
    }
   },
   "outputs": [
    {
     "data": {
      "text/plain": [
       "(id:9 line[1] parents: [] : enter: check_triangle(a, b, c),\n",
       " id:10 line[1] parents: [14, 15, 16, 19, 20, 21] : exit: check_triangle(a, b, c))"
      ]
     },
     "execution_count": 95,
     "metadata": {},
     "output_type": "execute_result"
    }
   ],
   "source": [
    "symfz_ct.fnenter, symfz_ct.fnexit"
   ]
  },
  {
   "cell_type": "markdown",
   "metadata": {
    "slideshow": {
     "slide_type": "subslide"
    }
   },
   "source": [
    "#### get_all_paths\n",
    "We can use the procedure `get_all_paths()` starting from `fnenter` to recursively retrieve all paths in the function.\n",
    "\n",
    "In the CFG, in the case of if-then-else branches, the first node is the `If` branch, while the second node is the `Else` branch. Hence, we keep track of the order of definition in `idx`."
   ]
  },
  {
   "cell_type": "code",
   "execution_count": 96,
   "metadata": {
    "slideshow": {
     "slide_type": "subslide"
    }
   },
   "outputs": [],
   "source": [
    "class SimpleSymbolicFuzzer(SimpleSymbolicFuzzer):\n",
    "    def get_all_paths(self, fenter, depth=0):\n",
    "        if depth > self.max_depth:\n",
    "            raise Exception('Maximum depth exceeded')\n",
    "        if not fenter.children:\n",
    "            return [[(0, fenter)]]\n",
    "\n",
    "        fnpaths = []\n",
    "        for idx, child in enumerate(fenter.children):\n",
    "            child_paths = self.get_all_paths(child, depth + 1)\n",
    "            for path in child_paths:\n",
    "                fnpaths.append([(idx, fenter)] + path)\n",
    "        return fnpaths"
   ]
  },
  {
   "cell_type": "markdown",
   "metadata": {
    "slideshow": {
     "slide_type": "fragment"
    }
   },
   "source": [
    "This can be used as follows."
   ]
  },
  {
   "cell_type": "code",
   "execution_count": 97,
   "metadata": {
    "scrolled": false,
    "slideshow": {
     "slide_type": "subslide"
    }
   },
   "outputs": [
    {
     "name": "stdout",
     "output_type": "stream",
     "text": [
      "6\n"
     ]
    },
    {
     "data": {
      "text/plain": [
       "[(0, id:24 line[1] parents: [] : enter: check_triangle(a, b, c)),\n",
       " (0, id:26 line[2] parents: [24] : _if: (a == b)),\n",
       " (0, id:27 line[3] parents: [26] : _if: (a == c)),\n",
       " (1, id:28 line[4] parents: [27] : _if: (b == c)),\n",
       " (0, id:30 line[7] parents: [28] : return 'Isosceles'),\n",
       " (0,\n",
       "  id:25 line[1] parents: [29, 30, 31, 34, 35, 36] : exit: check_triangle(a, b, c))]"
      ]
     },
     "execution_count": 97,
     "metadata": {},
     "output_type": "execute_result"
    }
   ],
   "source": [
    "symfz_ct = SimpleSymbolicFuzzer(check_triangle)\n",
    "paths = symfz_ct.get_all_paths(symfz_ct.fnenter)\n",
    "print(len(paths))\n",
    "paths[1]"
   ]
  },
  {
   "cell_type": "markdown",
   "metadata": {
    "slideshow": {
     "slide_type": "fragment"
    }
   },
   "source": [
    "We hook `get_all_paths()` to initialization as below."
   ]
  },
  {
   "cell_type": "code",
   "execution_count": 98,
   "metadata": {
    "slideshow": {
     "slide_type": "subslide"
    }
   },
   "outputs": [],
   "source": [
    "class SimpleSymbolicFuzzer(SimpleSymbolicFuzzer):\n",
    "    def process(self):\n",
    "        self.paths = self.get_all_paths(self.fnenter)\n",
    "        self.last_path = len(self.paths)"
   ]
  },
  {
   "cell_type": "markdown",
   "metadata": {
    "slideshow": {
     "slide_type": "subslide"
    }
   },
   "source": [
    "#### extract_constraints\n",
    "\n",
    "For any given path, we define a function `extract_constraints()` to extract the constraints in `z3` format. Given that the order of the child shows which branch was taken, we need to shift"
   ]
  },
  {
   "cell_type": "code",
   "execution_count": 99,
   "metadata": {
    "slideshow": {
     "slide_type": "subslide"
    }
   },
   "outputs": [],
   "source": [
    "class SimpleSymbolicFuzzer(SimpleSymbolicFuzzer):\n",
    "    def extract_constraints(self, path):\n",
    "        predicates = []\n",
    "        for (idx, elt) in path:\n",
    "            if isinstance(elt.ast_node, ast.AnnAssign):\n",
    "                if elt.ast_node.target.id in {'_if', '_while'}:\n",
    "                    s = to_src(elt.ast_node.annotation)\n",
    "                    predicates.append((\"%s\" if idx == 0 else \"z3.Not%s\") % s)\n",
    "            elif isinstance(elt.ast_node, ast.Assign):\n",
    "                predicates.append(to_src(elt.ast_node))\n",
    "            else:\n",
    "                pass\n",
    "        return predicates"
   ]
  },
  {
   "cell_type": "code",
   "execution_count": 100,
   "metadata": {
    "slideshow": {
     "slide_type": "subslide"
    }
   },
   "outputs": [
    {
     "data": {
      "text/plain": [
       "['(a == b)', '(a == c)', 'z3.Not(b == c)']"
      ]
     },
     "execution_count": 100,
     "metadata": {},
     "output_type": "execute_result"
    }
   ],
   "source": [
    "symfz_ct = SimpleSymbolicFuzzer(check_triangle)\n",
    "paths = symfz_ct.get_all_paths(symfz_ct.fnenter)\n",
    "constraints = symfz_ct.extract_constraints(paths[1])\n",
    "constraints"
   ]
  },
  {
   "cell_type": "markdown",
   "metadata": {
    "slideshow": {
     "slide_type": "fragment"
    }
   },
   "source": [
    "The method `used_vars()` extracts the symbolic variables to be defined from an expression."
   ]
  },
  {
   "cell_type": "code",
   "execution_count": 101,
   "metadata": {
    "slideshow": {
     "slide_type": "fragment"
    }
   },
   "outputs": [],
   "source": [
    "def used_vars(predicates):\n",
    "    return list(set([n for p in predicates for n in names(get_expression(p))]))"
   ]
  },
  {
   "cell_type": "code",
   "execution_count": 102,
   "metadata": {
    "slideshow": {
     "slide_type": "fragment"
    }
   },
   "outputs": [
    {
     "data": {
      "text/plain": [
       "['a', 'b', 'c']"
      ]
     },
     "execution_count": 102,
     "metadata": {},
     "output_type": "execute_result"
    }
   ],
   "source": [
    "used_vars(constraints)"
   ]
  },
  {
   "cell_type": "code",
   "execution_count": 103,
   "metadata": {
    "slideshow": {
     "slide_type": "fragment"
    }
   },
   "outputs": [
    {
     "data": {
      "text/plain": [
       "['(a == b)', '(a == c)', '(b == c)']"
      ]
     },
     "execution_count": 103,
     "metadata": {},
     "output_type": "execute_result"
    }
   ],
   "source": [
    "symfz_ct.extract_constraints(paths[0])"
   ]
  },
  {
   "cell_type": "markdown",
   "metadata": {
    "slideshow": {
     "slide_type": "subslide"
    }
   },
   "source": [
    "#### Fuzzing with our simple fuzzer"
   ]
  },
  {
   "cell_type": "markdown",
   "metadata": {
    "slideshow": {
     "slide_type": "fragment"
    }
   },
   "source": [
    "To actually generate solutions, we define `fuzz()`. For that, we need to first extract all paths. Then choose a particular path, and extract the constraints in that path, which is then solved using *z3*."
   ]
  },
  {
   "cell_type": "code",
   "execution_count": 104,
   "metadata": {
    "slideshow": {
     "slide_type": "skip"
    }
   },
   "outputs": [],
   "source": [
    "from contextlib import contextmanager"
   ]
  },
  {
   "cell_type": "markdown",
   "metadata": {
    "slideshow": {
     "slide_type": "fragment"
    }
   },
   "source": [
    "First we create a checkpoint for our current solver so that we can check a predicate, and rollback if necessary."
   ]
  },
  {
   "cell_type": "code",
   "execution_count": 105,
   "metadata": {
    "slideshow": {
     "slide_type": "fragment"
    }
   },
   "outputs": [],
   "source": [
    "@contextmanager\n",
    "def checkpoint(z3solver):\n",
    "    z3solver.push()\n",
    "    yield z3solver\n",
    "    z3solver.pop()"
   ]
  },
  {
   "cell_type": "markdown",
   "metadata": {
    "slideshow": {
     "slide_type": "subslide"
    }
   },
   "source": [
    "The `use_path()` function extracts constraints for a single function, applies it to our current solver (under a checkpoint), and returns the results if some solutions can be found.\n",
    "\n",
    "If solutions were found, we also make sure that we never reuse those solutions."
   ]
  },
  {
   "cell_type": "code",
   "execution_count": 106,
   "metadata": {
    "slideshow": {
     "slide_type": "subslide"
    }
   },
   "outputs": [],
   "source": [
    "class SimpleSymbolicFuzzer(SimpleSymbolicFuzzer):\n",
    "    def solve_path_constraint(self, path):\n",
    "        # re-initializing does not seem problematic.\n",
    "        # a = z3.Int('a').get_id() remains the same.\n",
    "        constraints = self.extract_constraints(path)\n",
    "        exec(define_vars(used_vars(constraints), self.symbolic_fn))\n",
    "\n",
    "        solutions = {}\n",
    "        with checkpoint(self.z3):\n",
    "            st = 'self.z3.add(%s)' % ', '.join(constraints)\n",
    "            eval(st)\n",
    "            if self.z3.check() != z3.sat:\n",
    "                return {}\n",
    "            m = self.z3.model()\n",
    "            solutions = {d.name(): m[d] for d in m.decls()}\n",
    "            my_args = {k: solutions.get(k, None) for k in self.fn_args}\n",
    "        predicate = 'z3.And(%s)' % ','.join(\n",
    "            [\"%s == %s\" % (k, v) for k, v in my_args.items()])\n",
    "        eval('self.z3.add(z3.Not(%s))' % predicate)\n",
    "        return my_args"
   ]
  },
  {
   "cell_type": "markdown",
   "metadata": {
    "slideshow": {
     "slide_type": "subslide"
    }
   },
   "source": [
    "We define `get_path()` that retrieves the current path and updates the path used."
   ]
  },
  {
   "cell_type": "code",
   "execution_count": 107,
   "metadata": {
    "slideshow": {
     "slide_type": "fragment"
    }
   },
   "outputs": [],
   "source": [
    "class SimpleSymbolicFuzzer(SimpleSymbolicFuzzer):\n",
    "    def get_next_path(self):\n",
    "        self.last_path -= 1\n",
    "        if self.last_path == -1:\n",
    "            self.last_path = len(self.paths) - 1\n",
    "        return self.paths[self.last_path]"
   ]
  },
  {
   "cell_type": "markdown",
   "metadata": {
    "slideshow": {
     "slide_type": "fragment"
    }
   },
   "source": [
    "The `fuzz()` method simply solves each path in order."
   ]
  },
  {
   "cell_type": "code",
   "execution_count": 108,
   "metadata": {
    "slideshow": {
     "slide_type": "subslide"
    }
   },
   "outputs": [],
   "source": [
    "class SimpleSymbolicFuzzer(SimpleSymbolicFuzzer):\n",
    "    def fuzz(self):\n",
    "        for i in range(self.max_tries):\n",
    "            res = self.solve_path_constraint(self.get_next_path())\n",
    "            if res:\n",
    "                return res\n",
    "        return {}"
   ]
  },
  {
   "cell_type": "markdown",
   "metadata": {
    "slideshow": {
     "slide_type": "fragment"
    }
   },
   "source": [
    "The fuzzer can be used as follows."
   ]
  },
  {
   "cell_type": "code",
   "execution_count": 109,
   "metadata": {
    "scrolled": false,
    "slideshow": {
     "slide_type": "subslide"
    }
   },
   "outputs": [
    {
     "name": "stdout",
     "output_type": "stream",
     "text": [
      "{'a': 0, 'b': 1, 'c': 1} result: Isosceles\n",
      "{'a': 1, 'b': 2, 'c': 3} result: Scalene\n",
      "{'a': 2, 'b': 0, 'c': 2} result: Isosceles\n",
      "{'a': 0, 'b': 0, 'c': 4} result: Isosceles\n",
      "{'a': 1, 'b': 1, 'c': 1} result: Equilateral\n",
      "{'a': 2, 'b': 3, 'c': 3} result: Isosceles\n",
      "{'a': 4, 'b': 5, 'c': 6} result: Scalene\n",
      "{'a': 4, 'b': 2, 'c': 4} result: Isosceles\n",
      "{'a': 2, 'b': 2, 'c': 5} result: Isosceles\n"
     ]
    }
   ],
   "source": [
    "a, b, c = None, None, None\n",
    "symfz_ct = SimpleSymbolicFuzzer(check_triangle)\n",
    "for i in range(1, 10):\n",
    "    r = symfz_ct.fuzz()\n",
    "    v = check_triangle(r['a'].as_long(), r['b'].as_long(), r['c'].as_long())\n",
    "    print(r, \"result:\", v)"
   ]
  },
  {
   "cell_type": "markdown",
   "metadata": {
    "slideshow": {
     "slide_type": "subslide"
    }
   },
   "source": [
    "#### Problems with the Simple Fuzzer"
   ]
  },
  {
   "cell_type": "markdown",
   "metadata": {
    "slideshow": {
     "slide_type": "fragment"
    }
   },
   "source": [
    "As we mentioned earlier, the `SimpleSymbolicFuzzer` cannot yet deal with variable reassignments. Further, it also fails to account for any loops. For example, consider the following program."
   ]
  },
  {
   "cell_type": "code",
   "execution_count": 110,
   "metadata": {
    "slideshow": {
     "slide_type": "fragment"
    }
   },
   "outputs": [],
   "source": [
    "def gcd(a, b):\n",
    "    if a < b:\n",
    "        c = a\n",
    "        a = b\n",
    "        b = c\n",
    "\n",
    "    while b != 0:\n",
    "        c = a\n",
    "        a = b\n",
    "        b = c % b\n",
    "    return a"
   ]
  },
  {
   "cell_type": "code",
   "execution_count": 111,
   "metadata": {
    "slideshow": {
     "slide_type": "subslide"
    }
   },
   "outputs": [
    {
     "data": {
      "image/svg+xml": [
       "<?xml version=\"1.0\" encoding=\"UTF-8\" standalone=\"no\"?>\n",
       "<!DOCTYPE svg PUBLIC \"-//W3C//DTD SVG 1.1//EN\"\n",
       " \"http://www.w3.org/Graphics/SVG/1.1/DTD/svg11.dtd\">\n",
       "<!-- Generated by graphviz version 2.40.1 (20161225.0304)\n",
       " -->\n",
       "<!-- Title: %3 Pages: 1 -->\n",
       "<svg width=\"308pt\" height=\"672pt\"\n",
       " viewBox=\"0.00 0.00 307.79 672.00\" xmlns=\"http://www.w3.org/2000/svg\" xmlns:xlink=\"http://www.w3.org/1999/xlink\">\n",
       "<g id=\"graph0\" class=\"graph\" transform=\"scale(1 1) rotate(0) translate(4 668)\">\n",
       "<title>%3</title>\n",
       "<polygon fill=\"#ffffff\" stroke=\"transparent\" points=\"-4,4 -4,-668 303.7893,-668 303.7893,4 -4,4\"/>\n",
       "<!-- 1 -->\n",
       "<g id=\"node1\" class=\"node\">\n",
       "<title>1</title>\n",
       "<ellipse fill=\"none\" stroke=\"#000000\" cx=\"198.8437\" cy=\"-642\" rx=\"75.2921\" ry=\"18\"/>\n",
       "<ellipse fill=\"none\" stroke=\"#000000\" cx=\"198.8437\" cy=\"-642\" rx=\"79.2868\" ry=\"22\"/>\n",
       "<text text-anchor=\"middle\" x=\"198.8437\" y=\"-638.3\" font-family=\"Times,serif\" font-size=\"14.00\" fill=\"#000000\">1: enter: gcd(a, b)</text>\n",
       "</g>\n",
       "<!-- 3 -->\n",
       "<g id=\"node4\" class=\"node\">\n",
       "<title>3</title>\n",
       "<polygon fill=\"none\" stroke=\"#000000\" points=\"198.8437,-583 121.4247,-565 198.8437,-547 276.2627,-565 198.8437,-583\"/>\n",
       "<text text-anchor=\"middle\" x=\"198.8437\" y=\"-561.3\" font-family=\"Times,serif\" font-size=\"14.00\" fill=\"#000000\">2: if: (a &lt; b)</text>\n",
       "</g>\n",
       "<!-- 1&#45;&gt;3 -->\n",
       "<g id=\"edge2\" class=\"edge\">\n",
       "<title>1&#45;&gt;3</title>\n",
       "<path fill=\"none\" stroke=\"#000000\" d=\"M198.8437,-619.7284C198.8437,-611.4552 198.8437,-601.9583 198.8437,-593.2229\"/>\n",
       "<polygon fill=\"#000000\" stroke=\"#000000\" points=\"202.3438,-593.0789 198.8437,-583.0789 195.3438,-593.079 202.3438,-593.0789\"/>\n",
       "</g>\n",
       "<!-- 2 -->\n",
       "<g id=\"node2\" class=\"node\">\n",
       "<title>2</title>\n",
       "<ellipse fill=\"none\" stroke=\"#000000\" cx=\"74.8437\" cy=\"-95\" rx=\"70.6961\" ry=\"18\"/>\n",
       "<ellipse fill=\"none\" stroke=\"#000000\" cx=\"74.8437\" cy=\"-95\" rx=\"74.6878\" ry=\"22\"/>\n",
       "<text text-anchor=\"middle\" x=\"74.8437\" y=\"-91.3\" font-family=\"Times,serif\" font-size=\"14.00\" fill=\"#000000\">1: exit: gcd(a, b)</text>\n",
       "</g>\n",
       "<!-- 11 -->\n",
       "<g id=\"node3\" class=\"node\">\n",
       "<title>11</title>\n",
       "<polygon fill=\"none\" stroke=\"#000000\" points=\"132.3437,-190 51.3437,-190 51.3437,-154 132.3437,-154 132.3437,-190\"/>\n",
       "<text text-anchor=\"middle\" x=\"91.8437\" y=\"-168.3\" font-family=\"Times,serif\" font-size=\"14.00\" fill=\"#000000\">11: return a</text>\n",
       "</g>\n",
       "<!-- 11&#45;&gt;2 -->\n",
       "<g id=\"edge1\" class=\"edge\">\n",
       "<title>11&#45;&gt;2</title>\n",
       "<path fill=\"none\" stroke=\"#000000\" d=\"M87.815,-153.7521C86.0458,-145.7387 83.9153,-136.0889 81.897,-126.947\"/>\n",
       "<polygon fill=\"#000000\" stroke=\"#000000\" points=\"85.2647,-125.9659 79.6911,-116.9556 78.4293,-127.4751 85.2647,-125.9659\"/>\n",
       "</g>\n",
       "<!-- 4 -->\n",
       "<g id=\"node5\" class=\"node\">\n",
       "<title>4</title>\n",
       "<polygon fill=\"none\" stroke=\"#000000\" points=\"196.8437,-496 138.8437,-496 138.8437,-460 196.8437,-460 196.8437,-496\"/>\n",
       "<text text-anchor=\"middle\" x=\"167.8437\" y=\"-474.3\" font-family=\"Times,serif\" font-size=\"14.00\" fill=\"#000000\">3: c = a</text>\n",
       "</g>\n",
       "<!-- 3&#45;&gt;4 -->\n",
       "<g id=\"edge3\" class=\"edge\">\n",
       "<title>3&#45;&gt;4</title>\n",
       "<path fill=\"none\" stroke=\"#0000ff\" d=\"M192.8666,-548.2255C188.5909,-536.2261 182.7368,-519.7968 177.7659,-505.8462\"/>\n",
       "<polygon fill=\"#0000ff\" stroke=\"#0000ff\" points=\"180.9911,-504.4699 174.3376,-496.2248 174.3972,-506.8195 180.9911,-504.4699\"/>\n",
       "<text text-anchor=\"middle\" x=\"190.3437\" y=\"-517.8\" font-family=\"Times,serif\" font-size=\"14.00\" fill=\"#000000\">T</text>\n",
       "</g>\n",
       "<!-- 7 -->\n",
       "<g id=\"node8\" class=\"node\">\n",
       "<title>7</title>\n",
       "<polygon fill=\"none\" stroke=\"#000000\" points=\"196.8437,-277 93.9525,-259 196.8437,-241 299.735,-259 196.8437,-277\"/>\n",
       "<text text-anchor=\"middle\" x=\"196.8437\" y=\"-255.3\" font-family=\"Times,serif\" font-size=\"14.00\" fill=\"#000000\">7: while: (b != 0)</text>\n",
       "</g>\n",
       "<!-- 3&#45;&gt;7 -->\n",
       "<g id=\"edge7\" class=\"edge\">\n",
       "<title>3&#45;&gt;7</title>\n",
       "<path fill=\"none\" stroke=\"#ff0000\" d=\"M207.3968,-548.8215C215.6311,-531.7162 226.8437,-503.7048 226.8437,-478 226.8437,-478 226.8437,-478 226.8437,-332 226.8437,-315.1893 219.9534,-297.725 212.777,-284.0947\"/>\n",
       "<polygon fill=\"#ff0000\" stroke=\"#ff0000\" points=\"215.7977,-282.3256 207.8443,-275.326 209.6967,-285.7576 215.7977,-282.3256\"/>\n",
       "<text text-anchor=\"middle\" x=\"230.8437\" y=\"-401.3\" font-family=\"Times,serif\" font-size=\"14.00\" fill=\"#000000\">F</text>\n",
       "</g>\n",
       "<!-- 5 -->\n",
       "<g id=\"node6\" class=\"node\">\n",
       "<title>5</title>\n",
       "<polygon fill=\"none\" stroke=\"#000000\" points=\"190.3437,-423 131.3437,-423 131.3437,-387 190.3437,-387 190.3437,-423\"/>\n",
       "<text text-anchor=\"middle\" x=\"160.8437\" y=\"-401.3\" font-family=\"Times,serif\" font-size=\"14.00\" fill=\"#000000\">4: a = b</text>\n",
       "</g>\n",
       "<!-- 4&#45;&gt;5 -->\n",
       "<g id=\"edge4\" class=\"edge\">\n",
       "<title>4&#45;&gt;5</title>\n",
       "<path fill=\"none\" stroke=\"#000000\" d=\"M166.1134,-459.9551C165.3393,-451.8828 164.4086,-442.1764 163.5461,-433.1817\"/>\n",
       "<polygon fill=\"#000000\" stroke=\"#000000\" points=\"167.017,-432.7106 162.5784,-423.0904 160.049,-433.3788 167.017,-432.7106\"/>\n",
       "</g>\n",
       "<!-- 6 -->\n",
       "<g id=\"node7\" class=\"node\">\n",
       "<title>6</title>\n",
       "<polygon fill=\"none\" stroke=\"#000000\" points=\"196.3437,-350 137.3437,-350 137.3437,-314 196.3437,-314 196.3437,-350\"/>\n",
       "<text text-anchor=\"middle\" x=\"166.8437\" y=\"-328.3\" font-family=\"Times,serif\" font-size=\"14.00\" fill=\"#000000\">5: b = c</text>\n",
       "</g>\n",
       "<!-- 5&#45;&gt;6 -->\n",
       "<g id=\"edge5\" class=\"edge\">\n",
       "<title>5&#45;&gt;6</title>\n",
       "<path fill=\"none\" stroke=\"#000000\" d=\"M162.3269,-386.9551C162.9903,-378.8828 163.7881,-369.1764 164.5274,-360.1817\"/>\n",
       "<polygon fill=\"#000000\" stroke=\"#000000\" points=\"168.0258,-360.3435 165.3568,-350.0904 161.0494,-359.77 168.0258,-360.3435\"/>\n",
       "</g>\n",
       "<!-- 6&#45;&gt;7 -->\n",
       "<g id=\"edge6\" class=\"edge\">\n",
       "<title>6&#45;&gt;7</title>\n",
       "<path fill=\"none\" stroke=\"#000000\" d=\"M174.2594,-313.9551C177.8137,-305.3062 182.139,-294.7814 186.0494,-285.2661\"/>\n",
       "<polygon fill=\"#000000\" stroke=\"#000000\" points=\"189.3607,-286.4163 189.9246,-275.8365 182.8861,-283.7555 189.3607,-286.4163\"/>\n",
       "</g>\n",
       "<!-- 7&#45;&gt;11 -->\n",
       "<g id=\"edge12\" class=\"edge\">\n",
       "<title>7&#45;&gt;11</title>\n",
       "<path fill=\"none\" stroke=\"#ff0000\" d=\"M178.5541,-243.8458C162.9626,-230.9271 140.241,-212.1006 121.9681,-196.9602\"/>\n",
       "<polygon fill=\"#ff0000\" stroke=\"#ff0000\" points=\"123.8605,-193.9828 113.9272,-190.2977 119.3943,-199.373 123.8605,-193.9828\"/>\n",
       "<text text-anchor=\"middle\" x=\"154.8437\" y=\"-211.8\" font-family=\"Times,serif\" font-size=\"14.00\" fill=\"#000000\">F</text>\n",
       "</g>\n",
       "<!-- 8 -->\n",
       "<g id=\"node10\" class=\"node\">\n",
       "<title>8</title>\n",
       "<polygon fill=\"none\" stroke=\"#000000\" points=\"225.8437,-190 167.8437,-190 167.8437,-154 225.8437,-154 225.8437,-190\"/>\n",
       "<text text-anchor=\"middle\" x=\"196.8437\" y=\"-168.3\" font-family=\"Times,serif\" font-size=\"14.00\" fill=\"#000000\">8: c = a</text>\n",
       "</g>\n",
       "<!-- 7&#45;&gt;8 -->\n",
       "<g id=\"edge9\" class=\"edge\">\n",
       "<title>7&#45;&gt;8</title>\n",
       "<path fill=\"none\" stroke=\"#0000ff\" d=\"M196.8437,-240.9735C196.8437,-229.1918 196.8437,-213.5607 196.8437,-200.1581\"/>\n",
       "<polygon fill=\"#0000ff\" stroke=\"#0000ff\" points=\"200.3438,-200.0033 196.8437,-190.0034 193.3438,-200.0034 200.3438,-200.0033\"/>\n",
       "<text text-anchor=\"middle\" x=\"201.3437\" y=\"-211.8\" font-family=\"Times,serif\" font-size=\"14.00\" fill=\"#000000\">T</text>\n",
       "</g>\n",
       "<!-- 10 -->\n",
       "<g id=\"node9\" class=\"node\">\n",
       "<title>10</title>\n",
       "<polygon fill=\"none\" stroke=\"#000000\" points=\"276.3437,-36 175.3437,-36 175.3437,0 276.3437,0 276.3437,-36\"/>\n",
       "<text text-anchor=\"middle\" x=\"225.8437\" y=\"-14.3\" font-family=\"Times,serif\" font-size=\"14.00\" fill=\"#000000\">10: b = (c % b)</text>\n",
       "</g>\n",
       "<!-- 10&#45;&gt;7 -->\n",
       "<g id=\"edge8\" class=\"edge\">\n",
       "<title>10&#45;&gt;7</title>\n",
       "<path fill=\"none\" stroke=\"#000000\" d=\"M230.3966,-36.2026C237.5638,-68.0093 249.255,-135.5083 234.8437,-190 230.6795,-205.7455 222.1658,-221.7741 214.2507,-234.4147\"/>\n",
       "<polygon fill=\"#000000\" stroke=\"#000000\" points=\"211.2023,-232.6815 208.6638,-242.9678 217.0628,-236.5097 211.2023,-232.6815\"/>\n",
       "</g>\n",
       "<!-- 9 -->\n",
       "<g id=\"node11\" class=\"node\">\n",
       "<title>9</title>\n",
       "<polygon fill=\"none\" stroke=\"#000000\" points=\"226.3437,-113 167.3437,-113 167.3437,-77 226.3437,-77 226.3437,-113\"/>\n",
       "<text text-anchor=\"middle\" x=\"196.8437\" y=\"-91.3\" font-family=\"Times,serif\" font-size=\"14.00\" fill=\"#000000\">9: a = b</text>\n",
       "</g>\n",
       "<!-- 8&#45;&gt;9 -->\n",
       "<g id=\"edge10\" class=\"edge\">\n",
       "<title>8&#45;&gt;9</title>\n",
       "<path fill=\"none\" stroke=\"#000000\" d=\"M196.8437,-153.7521C196.8437,-144.6422 196.8437,-133.4174 196.8437,-123.2282\"/>\n",
       "<polygon fill=\"#000000\" stroke=\"#000000\" points=\"200.3438,-123.1169 196.8437,-113.1169 193.3438,-123.117 200.3438,-123.1169\"/>\n",
       "</g>\n",
       "<!-- 9&#45;&gt;10 -->\n",
       "<g id=\"edge11\" class=\"edge\">\n",
       "<title>9&#45;&gt;10</title>\n",
       "<path fill=\"none\" stroke=\"#000000\" d=\"M203.7163,-76.7521C207.2196,-67.4504 211.5532,-55.9438 215.4542,-45.5861\"/>\n",
       "<polygon fill=\"#000000\" stroke=\"#000000\" points=\"218.7712,-46.7088 219.0205,-36.1169 212.2204,-44.2416 218.7712,-46.7088\"/>\n",
       "</g>\n",
       "</g>\n",
       "</svg>\n"
      ],
      "text/plain": [
       "<graphviz.files.Source at 0x118f78ac8>"
      ]
     },
     "execution_count": 111,
     "metadata": {},
     "output_type": "execute_result"
    }
   ],
   "source": [
    "Source(to_graph(gen_cfg(inspect.getsource(gcd))))"
   ]
  },
  {
   "cell_type": "code",
   "execution_count": 112,
   "metadata": {
    "slideshow": {
     "slide_type": "skip"
    }
   },
   "outputs": [],
   "source": [
    "from ExpectError import ExpectError"
   ]
  },
  {
   "cell_type": "code",
   "execution_count": 113,
   "metadata": {
    "scrolled": false,
    "slideshow": {
     "slide_type": "subslide"
    }
   },
   "outputs": [
    {
     "name": "stderr",
     "output_type": "stream",
     "text": [
      "Traceback (most recent call last):\n",
      "  File \"<ipython-input-113-e63c685aac70>\", line 2, in <module>\n",
      "    symfz_gcd = SimpleSymbolicFuzzer(gcd)\n",
      "  File \"<ipython-input-89-d395d767fa77>\", line 14, in __init__\n",
      "    self.process()\n",
      "  File \"<ipython-input-98-6bc97a9e8eb0>\", line 3, in process\n",
      "    self.paths = self.get_all_paths(self.fnenter)\n",
      "  File \"<ipython-input-96-11757c1bd8b3>\", line 10, in get_all_paths\n",
      "    child_paths = self.get_all_paths(child, depth + 1)\n",
      "  File \"<ipython-input-96-11757c1bd8b3>\", line 10, in get_all_paths\n",
      "    child_paths = self.get_all_paths(child, depth + 1)\n",
      "  File \"<ipython-input-96-11757c1bd8b3>\", line 10, in get_all_paths\n",
      "    child_paths = self.get_all_paths(child, depth + 1)\n",
      "  [Previous line repeated 97 more times]\n",
      "  File \"<ipython-input-96-11757c1bd8b3>\", line 4, in get_all_paths\n",
      "    raise Exception('Maximum depth exceeded')\n",
      "Exception: Maximum depth exceeded (expected)\n"
     ]
    }
   ],
   "source": [
    "with ExpectError():\n",
    "    symfz_gcd = SimpleSymbolicFuzzer(gcd)\n",
    "    for i in range(1, 100):\n",
    "        r = symfz_gcd.fuzz()\n",
    "        v = gcd(r['a'].as_long(), r['b'].as_long())\n",
    "        print(r, v)"
   ]
  },
  {
   "cell_type": "markdown",
   "metadata": {
    "slideshow": {
     "slide_type": "subslide"
    }
   },
   "source": [
    "### Advanced Symbolic Fuzzer"
   ]
  },
  {
   "cell_type": "markdown",
   "metadata": {
    "slideshow": {
     "slide_type": "fragment"
    }
   },
   "source": [
    "We next define `AdvancedSymbolicFuzzer` that can deal with reassignments and *unrolling of loops*."
   ]
  },
  {
   "cell_type": "code",
   "execution_count": 114,
   "metadata": {
    "slideshow": {
     "slide_type": "fragment"
    }
   },
   "outputs": [],
   "source": [
    "class AdvancedSymbolicFuzzer(SimpleSymbolicFuzzer):\n",
    "    def options(self, kwargs):\n",
    "        super().options(kwargs)"
   ]
  },
  {
   "cell_type": "markdown",
   "metadata": {
    "slideshow": {
     "slide_type": "fragment"
    }
   },
   "source": [
    "Once we allow reassignments and loop unrolling, we have to deal with what to call the new variables generated. This is what we will tackle next."
   ]
  },
  {
   "cell_type": "markdown",
   "metadata": {
    "slideshow": {
     "slide_type": "subslide"
    }
   },
   "source": [
    "#### rename_variables"
   ]
  },
  {
   "cell_type": "markdown",
   "metadata": {
    "slideshow": {
     "slide_type": "fragment"
    }
   },
   "source": [
    "We want to rename all variables present in an expression such that the variables are annotated with their usage count. This makes it possible to determine variable reassignments.  To do that, we define the `rename_variables()` function that, when given an `env` that contains the current usage index of different variables, renames the variables in the passed in AST node with the annotations.\n",
    "\n",
    "That is, if the expression is `env[v] == 1`, `v` is renamed to `_v_1`"
   ]
  },
  {
   "cell_type": "code",
   "execution_count": 115,
   "metadata": {
    "slideshow": {
     "slide_type": "subslide"
    }
   },
   "outputs": [],
   "source": [
    "def rename_variables(astnode, env):\n",
    "    if isinstance(astnode, ast.BoolOp):\n",
    "        fn = 'z3.And' if isinstance(astnode.op, ast.And) else 'z3.Or'\n",
    "        return ast.Call(\n",
    "            ast.Name(fn, None),\n",
    "            [rename_variables(i, env) for i in astnode.values], [])\n",
    "    elif isinstance(astnode, ast.BinOp):\n",
    "        return ast.BinOp(\n",
    "            rename_variables(astnode.left, env), astnode.op,\n",
    "            rename_variables(astnode.right, env))\n",
    "    elif isinstance(astnode, ast.UnaryOp):\n",
    "        if isinstance(astnode.op, ast.Not):\n",
    "            return ast.Call(\n",
    "                ast.Name('z3.Not', None),\n",
    "                [rename_variables(astnode.operand, env)], [])\n",
    "        else:\n",
    "            return ast.UnaryOp(astnode.op,\n",
    "                               rename_variables(astnode.operand, env))\n",
    "    elif isinstance(astnode, ast.Call):\n",
    "        return ast.Call(astnode.func,\n",
    "                        [rename_variables(i, env) for i in astnode.args],\n",
    "                        astnode.keywords)\n",
    "    elif isinstance(astnode, ast.Compare):\n",
    "        return ast.Compare(\n",
    "            rename_variables(astnode.left, env), astnode.ops,\n",
    "            [rename_variables(i, env) for i in astnode.comparators])\n",
    "    elif isinstance(astnode, ast.Name):\n",
    "        if astnode.id not in env:\n",
    "            env[astnode.id] = 0\n",
    "        num = env[astnode.id]\n",
    "        return ast.Name('_%s_%d' % (astnode.id, num), astnode.ctx)\n",
    "    elif isinstance(astnode, ast.Return):\n",
    "        return ast.Return(rename_variables(astnode.value, env))\n",
    "    else:\n",
    "        return astnode"
   ]
  },
  {
   "cell_type": "markdown",
   "metadata": {
    "slideshow": {
     "slide_type": "subslide"
    }
   },
   "source": [
    "To verify that it works ans intended, we start with an environment."
   ]
  },
  {
   "cell_type": "code",
   "execution_count": 116,
   "metadata": {
    "slideshow": {
     "slide_type": "fragment"
    }
   },
   "outputs": [],
   "source": [
    "env = {'x': 1}"
   ]
  },
  {
   "cell_type": "code",
   "execution_count": 117,
   "metadata": {
    "slideshow": {
     "slide_type": "fragment"
    }
   },
   "outputs": [
    {
     "data": {
      "text/plain": [
       "_ast.BoolOp"
      ]
     },
     "execution_count": 117,
     "metadata": {},
     "output_type": "execute_result"
    }
   ],
   "source": [
    "ba = get_expression('x == 1 and y == 2')\n",
    "type(ba)"
   ]
  },
  {
   "cell_type": "code",
   "execution_count": 118,
   "metadata": {
    "slideshow": {
     "slide_type": "fragment"
    }
   },
   "outputs": [],
   "source": [
    "assert to_src(rename_variables(ba, env)) == 'z3.And((_x_1 == 1), (_y_0 == 2))'"
   ]
  },
  {
   "cell_type": "code",
   "execution_count": 119,
   "metadata": {
    "slideshow": {
     "slide_type": "fragment"
    }
   },
   "outputs": [
    {
     "data": {
      "text/plain": [
       "_ast.Or"
      ]
     },
     "execution_count": 119,
     "metadata": {},
     "output_type": "execute_result"
    }
   ],
   "source": [
    "bo = get_expression('x == 1 or y == 2')\n",
    "type(bo.op)"
   ]
  },
  {
   "cell_type": "code",
   "execution_count": 120,
   "metadata": {
    "slideshow": {
     "slide_type": "fragment"
    }
   },
   "outputs": [],
   "source": [
    "assert to_src(rename_variables(bo, env)) == 'z3.Or((_x_1 == 1), (_y_0 == 2))'"
   ]
  },
  {
   "cell_type": "code",
   "execution_count": 121,
   "metadata": {
    "slideshow": {
     "slide_type": "fragment"
    }
   },
   "outputs": [
    {
     "data": {
      "text/plain": [
       "_ast.BinOp"
      ]
     },
     "execution_count": 121,
     "metadata": {},
     "output_type": "execute_result"
    }
   ],
   "source": [
    "b = get_expression('x + y')\n",
    "type(b)"
   ]
  },
  {
   "cell_type": "code",
   "execution_count": 122,
   "metadata": {
    "slideshow": {
     "slide_type": "fragment"
    }
   },
   "outputs": [],
   "source": [
    "assert to_src(rename_variables(b, env)) == '(_x_1 + _y_0)'"
   ]
  },
  {
   "cell_type": "code",
   "execution_count": 123,
   "metadata": {
    "slideshow": {
     "slide_type": "subslide"
    }
   },
   "outputs": [
    {
     "data": {
      "text/plain": [
       "_ast.UnaryOp"
      ]
     },
     "execution_count": 123,
     "metadata": {},
     "output_type": "execute_result"
    }
   ],
   "source": [
    "u = get_expression('-y')\n",
    "type(u)"
   ]
  },
  {
   "cell_type": "code",
   "execution_count": 124,
   "metadata": {
    "slideshow": {
     "slide_type": "fragment"
    }
   },
   "outputs": [],
   "source": [
    "assert to_src(rename_variables(u, env)) == '(- _y_0)'"
   ]
  },
  {
   "cell_type": "code",
   "execution_count": 125,
   "metadata": {
    "slideshow": {
     "slide_type": "fragment"
    }
   },
   "outputs": [
    {
     "data": {
      "text/plain": [
       "_ast.Not"
      ]
     },
     "execution_count": 125,
     "metadata": {},
     "output_type": "execute_result"
    }
   ],
   "source": [
    "un = get_expression('not y')\n",
    "type(un.op)"
   ]
  },
  {
   "cell_type": "code",
   "execution_count": 126,
   "metadata": {
    "slideshow": {
     "slide_type": "fragment"
    }
   },
   "outputs": [],
   "source": [
    "assert to_src(rename_variables(un, env)) == 'z3.Not(_y_0)'"
   ]
  },
  {
   "cell_type": "code",
   "execution_count": 127,
   "metadata": {
    "slideshow": {
     "slide_type": "fragment"
    }
   },
   "outputs": [
    {
     "data": {
      "text/plain": [
       "_ast.Compare"
      ]
     },
     "execution_count": 127,
     "metadata": {},
     "output_type": "execute_result"
    }
   ],
   "source": [
    "c = get_expression('x == y')\n",
    "type(c)"
   ]
  },
  {
   "cell_type": "code",
   "execution_count": 128,
   "metadata": {
    "slideshow": {
     "slide_type": "fragment"
    }
   },
   "outputs": [],
   "source": [
    "assert to_src(rename_variables(c, env)) == '(_x_1 == _y_0)'"
   ]
  },
  {
   "cell_type": "code",
   "execution_count": 129,
   "metadata": {
    "slideshow": {
     "slide_type": "fragment"
    }
   },
   "outputs": [
    {
     "data": {
      "text/plain": [
       "_ast.Call"
      ]
     },
     "execution_count": 129,
     "metadata": {},
     "output_type": "execute_result"
    }
   ],
   "source": [
    "f = get_expression('fn(x,y)')\n",
    "type(f)"
   ]
  },
  {
   "cell_type": "code",
   "execution_count": 130,
   "metadata": {
    "slideshow": {
     "slide_type": "subslide"
    }
   },
   "outputs": [],
   "source": [
    "assert to_src(rename_variables(f, env)) == 'fn(_x_1, _y_0)'"
   ]
  },
  {
   "cell_type": "code",
   "execution_count": 131,
   "metadata": {
    "scrolled": false,
    "slideshow": {
     "slide_type": "fragment"
    }
   },
   "outputs": [
    {
     "data": {
      "text/plain": [
       "{'x': 1, 'y': 0}"
      ]
     },
     "execution_count": 131,
     "metadata": {},
     "output_type": "execute_result"
    }
   ],
   "source": [
    "env"
   ]
  },
  {
   "cell_type": "markdown",
   "metadata": {
    "slideshow": {
     "slide_type": "fragment"
    }
   },
   "source": [
    "Next, we want to process the CFG, and correctly transform the paths."
   ]
  },
  {
   "cell_type": "markdown",
   "metadata": {
    "slideshow": {
     "slide_type": "subslide"
    }
   },
   "source": [
    "#### PNode"
   ]
  },
  {
   "cell_type": "markdown",
   "metadata": {
    "slideshow": {
     "slide_type": "fragment"
    }
   },
   "source": [
    "For keeping track of assignments in the CFG, We define a data structure `PNode` that stores the current CFG node."
   ]
  },
  {
   "cell_type": "code",
   "execution_count": 132,
   "metadata": {
    "slideshow": {
     "slide_type": "fragment"
    }
   },
   "outputs": [],
   "source": [
    "class PNode:\n",
    "    def __init__(self, idx, cfgnode, parent=None, order=0):\n",
    "        self.idx, self.cfgnode, self.parent, self.order = idx, cfgnode, parent, order\n",
    "\n",
    "    def __repr__(self):\n",
    "        return \"PNode:%d[%s order:%d]\" % (self.idx, str(self.cfgnode),\n",
    "                                          self.order)"
   ]
  },
  {
   "cell_type": "markdown",
   "metadata": {
    "slideshow": {
     "slide_type": "fragment"
    }
   },
   "source": [
    "Defining a new `PNode` is done as follows."
   ]
  },
  {
   "cell_type": "code",
   "execution_count": 133,
   "metadata": {
    "slideshow": {
     "slide_type": "fragment"
    }
   },
   "outputs": [],
   "source": [
    "cfg = PyCFG()\n",
    "cfg.gen_cfg(inspect.getsource(gcd))\n",
    "fnenter, fnexit = cfg.functions['gcd']"
   ]
  },
  {
   "cell_type": "code",
   "execution_count": 134,
   "metadata": {
    "slideshow": {
     "slide_type": "subslide"
    }
   },
   "outputs": [
    {
     "data": {
      "text/plain": [
       "PNode:0[id:27 line[1] parents: [] : enter: gcd(a, b) order:0]"
      ]
     },
     "execution_count": 134,
     "metadata": {},
     "output_type": "execute_result"
    }
   ],
   "source": [
    "PNode(0, fnenter)"
   ]
  },
  {
   "cell_type": "markdown",
   "metadata": {
    "slideshow": {
     "slide_type": "subslide"
    }
   },
   "source": [
    "##### copy\n",
    "The `copy()` method generates a copy for the child's keep, indicating which path was taken (with `order` of the child)."
   ]
  },
  {
   "cell_type": "code",
   "execution_count": 135,
   "metadata": {
    "slideshow": {
     "slide_type": "fragment"
    }
   },
   "outputs": [],
   "source": [
    "class PNode(PNode):\n",
    "    def copy(self, order):\n",
    "        p = PNode(self.idx, self.cfgnode, self.parent, order)\n",
    "        assert p.order == order\n",
    "        return p"
   ]
  },
  {
   "cell_type": "markdown",
   "metadata": {
    "slideshow": {
     "slide_type": "fragment"
    }
   },
   "source": [
    "Using the copy operation."
   ]
  },
  {
   "cell_type": "code",
   "execution_count": 136,
   "metadata": {
    "slideshow": {
     "slide_type": "fragment"
    }
   },
   "outputs": [
    {
     "data": {
      "text/plain": [
       "PNode:0[id:27 line[1] parents: [] : enter: gcd(a, b) order:1]"
      ]
     },
     "execution_count": 136,
     "metadata": {},
     "output_type": "execute_result"
    }
   ],
   "source": [
    "PNode(0, fnenter).copy(1)"
   ]
  },
  {
   "cell_type": "markdown",
   "metadata": {
    "slideshow": {
     "slide_type": "subslide"
    }
   },
   "source": [
    "##### explore"
   ]
  },
  {
   "cell_type": "markdown",
   "metadata": {
    "slideshow": {
     "slide_type": "fragment"
    }
   },
   "source": [
    "A problem we had with our `SimpleSymbolicFuzzer` is that it explored a path to completion before attempting another. However, this is non-optimal. One may want to explore the graph in a more step-wise manner, expanding every possible execution one step at a time.\n",
    "\n",
    "Hence, we define `explore()`  which explores the children of a node if any, one step at a time. If done exhaustively, this will generate all paths from a starting node until no more children are left. We made `PNode` to a container class so that this iteration can be driven from outside, and stopped if say a maximum iteration is complete, or certain paths need to be prioritized."
   ]
  },
  {
   "cell_type": "code",
   "execution_count": 137,
   "metadata": {
    "slideshow": {
     "slide_type": "subslide"
    }
   },
   "outputs": [],
   "source": [
    "class PNode(PNode):\n",
    "    def explore(self):\n",
    "        return [\n",
    "            PNode(self.idx + 1, n, self.copy(i))\n",
    "            for (i, n) in enumerate(self.cfgnode.children)\n",
    "        ]"
   ]
  },
  {
   "cell_type": "markdown",
   "metadata": {
    "slideshow": {
     "slide_type": "fragment"
    }
   },
   "source": [
    "We can use `explore()` as follows."
   ]
  },
  {
   "cell_type": "code",
   "execution_count": 138,
   "metadata": {
    "slideshow": {
     "slide_type": "fragment"
    }
   },
   "outputs": [
    {
     "data": {
      "text/plain": [
       "[PNode:1[id:29 line[2] parents: [27] : _if: (a < b) order:0]]"
      ]
     },
     "execution_count": 138,
     "metadata": {},
     "output_type": "execute_result"
    }
   ],
   "source": [
    "PNode(0, fnenter).explore()"
   ]
  },
  {
   "cell_type": "code",
   "execution_count": 139,
   "metadata": {
    "slideshow": {
     "slide_type": "fragment"
    }
   },
   "outputs": [
    {
     "data": {
      "text/plain": [
       "[PNode:2[id:30 line[3] parents: [29] : c = a order:0],\n",
       " PNode:2[id:33 line[7] parents: [32, 29, 36] : _while: (b != 0) order:0]]"
      ]
     },
     "execution_count": 139,
     "metadata": {},
     "output_type": "execute_result"
    }
   ],
   "source": [
    "PNode(0, fnenter).explore()[0].explore()"
   ]
  },
  {
   "cell_type": "markdown",
   "metadata": {
    "slideshow": {
     "slide_type": "subslide"
    }
   },
   "source": [
    "##### get_path_to_root"
   ]
  },
  {
   "cell_type": "markdown",
   "metadata": {
    "slideshow": {
     "slide_type": "fragment"
    }
   },
   "source": [
    "The method `get_path_to_root()` recursively goes up through child->parent chain retrieving the complete chain to the topmost parent."
   ]
  },
  {
   "cell_type": "code",
   "execution_count": 140,
   "metadata": {
    "code_folding": [],
    "slideshow": {
     "slide_type": "fragment"
    }
   },
   "outputs": [],
   "source": [
    "class PNode(PNode):\n",
    "    def get_path_to_root(self):\n",
    "        path = []\n",
    "        n = self\n",
    "        while n:\n",
    "            path.append(n)\n",
    "            n = n.parent\n",
    "        return list(reversed(path))"
   ]
  },
  {
   "cell_type": "code",
   "execution_count": 141,
   "metadata": {
    "scrolled": true,
    "slideshow": {
     "slide_type": "subslide"
    }
   },
   "outputs": [
    {
     "data": {
      "text/plain": [
       "[[PNode:0[id:27 line[1] parents: [] : enter: gcd(a, b) order:0],\n",
       "  PNode:1[id:29 line[2] parents: [27] : _if: (a < b) order:0],\n",
       "  PNode:2[id:30 line[3] parents: [29] : c = a order:0],\n",
       "  PNode:3[id:31 line[4] parents: [30] : a = b order:0],\n",
       "  PNode:4[id:32 line[5] parents: [31] : b = c order:0]]]"
      ]
     },
     "execution_count": 141,
     "metadata": {},
     "output_type": "execute_result"
    }
   ],
   "source": [
    "p = PNode(0, fnenter)\n",
    "[s.get_path_to_root() for s in p.explore()[0].explore()[0].explore()[0].explore()]"
   ]
  },
  {
   "cell_type": "markdown",
   "metadata": {
    "slideshow": {
     "slide_type": "fragment"
    }
   },
   "source": [
    "The string representation of the node is in `z3` solvable form."
   ]
  },
  {
   "cell_type": "code",
   "execution_count": 142,
   "metadata": {
    "slideshow": {
     "slide_type": "fragment"
    }
   },
   "outputs": [],
   "source": [
    "class PNode(PNode):\n",
    "    def __str__(self):\n",
    "        path = self.get_path_to_root()\n",
    "        ssa_path = to_single_assignment_predicates(path)\n",
    "        return ', '.join([to_src(p) for p in ssa_path])"
   ]
  },
  {
   "cell_type": "markdown",
   "metadata": {
    "slideshow": {
     "slide_type": "fragment"
    }
   },
   "source": [
    "However, before using it, we need to define the `rename_variables()`. But first, we define `names()`."
   ]
  },
  {
   "cell_type": "markdown",
   "metadata": {
    "slideshow": {
     "slide_type": "subslide"
    }
   },
   "source": [
    "###### to_single_assignment_predicates"
   ]
  },
  {
   "cell_type": "markdown",
   "metadata": {
    "slideshow": {
     "slide_type": "fragment"
    }
   },
   "source": [
    "We need to rename used variables. Any variable `v = xxx` should be renamed to `_v_0` and any later assignment such as `v = v + 1` should be transformed to `_v_1 = _v_0 + 1` and later conditionals such as `v == x` should be transformed to `(_v_1 == _x_0)`. The method `to_single_assignment_predicates()` does this for a given path."
   ]
  },
  {
   "cell_type": "code",
   "execution_count": 143,
   "metadata": {
    "slideshow": {
     "slide_type": "subslide"
    }
   },
   "outputs": [],
   "source": [
    "def to_single_assignment_predicates(path):\n",
    "    env = {}\n",
    "    new_path = []\n",
    "    for i, node in enumerate(path):\n",
    "        ast_node = node.cfgnode.ast_node\n",
    "        new_node = None\n",
    "        if isinstance(ast_node, ast.AnnAssign) and ast_node.target.id in {\n",
    "                'exit'}:\n",
    "            new_node = None\n",
    "        elif isinstance(ast_node, ast.AnnAssign) and ast_node.target.id in {'enter'}:\n",
    "            args = [\n",
    "                ast.parse(\n",
    "                    \"%s == _%s_0\" %\n",
    "                    (a.id, a.id)).body[0].value for a in ast_node.annotation.args]\n",
    "            new_node = ast.Call(ast.Name('z3.And', None), args, [])\n",
    "        elif isinstance(ast_node, ast.AnnAssign) and ast_node.target.id in {'_if', '_while'}:\n",
    "            new_node = rename_variables(ast_node.annotation, env)\n",
    "            if node.order != 0:\n",
    "                assert node.order == 1\n",
    "                new_node = ast.Call(ast.Name('z3.Not', None), [new_node], [])\n",
    "        elif isinstance(ast_node, ast.Assign):\n",
    "            assigned = ast_node.targets[0].id\n",
    "            val = [rename_variables(ast_node.value, env)]\n",
    "            env[assigned] = 0 if assigned not in env else env[assigned] + 1\n",
    "            target = ast.Name('_%s_%d' %\n",
    "                              (ast_node.targets[0].id, env[assigned]), None)\n",
    "            new_node = ast.Expr(ast.Compare(target, [ast.Eq()], val))\n",
    "        elif isinstance(ast_node, (ast.Return, ast.Pass)):\n",
    "            new_node = None\n",
    "        else:\n",
    "            s = \"NI %s %s\" % (type(ast_node), ast_node.target.id)\n",
    "            raise Exception(s)\n",
    "        new_path.append(new_node)\n",
    "    return new_path"
   ]
  },
  {
   "cell_type": "code",
   "execution_count": 144,
   "metadata": {
    "slideshow": {
     "slide_type": "subslide"
    }
   },
   "outputs": [],
   "source": [
    "p = PNode(0, fnenter)\n",
    "path = p.explore()[0].explore()[0].explore()[0].get_path_to_root()\n",
    "spath = to_single_assignment_predicates(path)"
   ]
  },
  {
   "cell_type": "code",
   "execution_count": 145,
   "metadata": {
    "scrolled": false,
    "slideshow": {
     "slide_type": "fragment"
    }
   },
   "outputs": [
    {
     "data": {
      "text/plain": [
       "['z3.And((a == _a_0), (b == _b_0))',\n",
       " '(_a_0 < _b_0)',\n",
       " '(_c_0 == _a_0)',\n",
       " '(_a_1 == _b_0)']"
      ]
     },
     "execution_count": 145,
     "metadata": {},
     "output_type": "execute_result"
    }
   ],
   "source": [
    "[to_src(s) for s in spath]"
   ]
  },
  {
   "cell_type": "code",
   "execution_count": 146,
   "metadata": {
    "slideshow": {
     "slide_type": "fragment"
    }
   },
   "outputs": [],
   "source": [
    "assert set(q for s in spath for q in names(s)) == {\n",
    "    '_a_0', '_a_1', '_b_0', '_c_0', 'a', 'b'}"
   ]
  },
  {
   "cell_type": "markdown",
   "metadata": {
    "slideshow": {
     "slide_type": "subslide"
    }
   },
   "source": [
    "##### can_be_satisfied\n",
    "\n",
    "One of the ways in which the *concolic* execution simplifies *symbolic* execution is in the treatment of loops. Rather than trying to determine an invariant for a loop, we simply *unroll* the loops a number of times until we hit the `MAX_DEPTH` limit. However, not all loops will need to be unrolled until `MAX_DEPTH` is reached. Some of them may exit before. Hence, it is necessary to check whether the given set of constraints can be satisfied before continuing to explore further. "
   ]
  },
  {
   "cell_type": "code",
   "execution_count": 147,
   "metadata": {
    "slideshow": {
     "slide_type": "subslide"
    }
   },
   "outputs": [],
   "source": [
    "class AdvancedSymbolicFuzzer(AdvancedSymbolicFuzzer):\n",
    "    def can_be_satisfied(self, p):\n",
    "        s2 = self.extract_constraints(p.get_path_to_root())\n",
    "        s = z3.Solver()\n",
    "        exec(define_vars(used_vars(s2), self.symbolic_fn), globals(), locals())\n",
    "        exec(\"s.add(z3.And(%s))\" % ','.join(s2), globals(), locals())\n",
    "        return s.check() == z3.sat"
   ]
  },
  {
   "cell_type": "markdown",
   "metadata": {
    "slideshow": {
     "slide_type": "subslide"
    }
   },
   "source": [
    "#### extract_constraints\n",
    "\n",
    "The `extract_constraints()` generates the `z3` constraints from a path. The main work is done by `to_single_assignment_predicates()`. The `extract_constraints()` then converts the AST to source."
   ]
  },
  {
   "cell_type": "code",
   "execution_count": 148,
   "metadata": {
    "slideshow": {
     "slide_type": "fragment"
    }
   },
   "outputs": [],
   "source": [
    "class AdvancedSymbolicFuzzer(AdvancedSymbolicFuzzer):\n",
    "    def extract_constraints(self, path):\n",
    "        return [to_src(p) for p in to_single_assignment_predicates(path) if p]"
   ]
  },
  {
   "cell_type": "markdown",
   "metadata": {
    "slideshow": {
     "slide_type": "subslide"
    }
   },
   "source": [
    "#### get_all_paths"
   ]
  },
  {
   "cell_type": "markdown",
   "metadata": {
    "slideshow": {
     "slide_type": "fragment"
    }
   },
   "source": [
    "Get all paths one can generate from function enter node (`fenter`) subject to max_depth limit."
   ]
  },
  {
   "cell_type": "code",
   "execution_count": 149,
   "metadata": {
    "slideshow": {
     "slide_type": "subslide"
    }
   },
   "outputs": [],
   "source": [
    "class AdvancedSymbolicFuzzer(AdvancedSymbolicFuzzer):\n",
    "    def get_all_paths(self, fenter):\n",
    "        path_lst = [PNode(0, fenter)]\n",
    "        completed = []\n",
    "        for i in range(self.max_iter):\n",
    "            new_paths = [PNode(0, fenter)]\n",
    "            for path in path_lst:\n",
    "                # explore each path once\n",
    "                if path.cfgnode.children:\n",
    "                    np = path.explore()\n",
    "                    for p in np:\n",
    "                        if path.idx > self.max_depth:\n",
    "                            break\n",
    "                        if self.can_be_satisfied(p):\n",
    "                            new_paths.append(p)\n",
    "                        else:\n",
    "                            pass\n",
    "                else:\n",
    "                    completed.append(path)\n",
    "            path_lst = new_paths\n",
    "        return completed + path_lst"
   ]
  },
  {
   "cell_type": "markdown",
   "metadata": {
    "slideshow": {
     "slide_type": "subslide"
    }
   },
   "source": [
    "We can now obtain all paths using our advanced symbolic fuzzer as follows."
   ]
  },
  {
   "cell_type": "code",
   "execution_count": 150,
   "metadata": {
    "scrolled": false,
    "slideshow": {
     "slide_type": "subslide"
    }
   },
   "outputs": [
    {
     "name": "stdout",
     "output_type": "stream",
     "text": [
      "38\n"
     ]
    },
    {
     "data": {
      "text/plain": [
       "[PNode:0[id:40 line[1] parents: [] : enter: gcd(a, b) order:0],\n",
       " PNode:1[id:42 line[2] parents: [40] : _if: (a < b) order:1],\n",
       " PNode:2[id:46 line[7] parents: [45, 42, 49] : _while: (b != 0) order:0],\n",
       " PNode:3[id:47 line[8] parents: [46] : c = a order:0],\n",
       " PNode:4[id:48 line[9] parents: [47] : a = b order:0],\n",
       " PNode:5[id:49 line[10] parents: [48] : b = (c % b) order:0],\n",
       " PNode:6[id:46 line[7] parents: [45, 42, 49] : _while: (b != 0) order:0],\n",
       " PNode:7[id:47 line[8] parents: [46] : c = a order:0],\n",
       " PNode:8[id:48 line[9] parents: [47] : a = b order:0],\n",
       " PNode:9[id:49 line[10] parents: [48] : b = (c % b) order:0],\n",
       " PNode:10[id:46 line[7] parents: [45, 42, 49] : _while: (b != 0) order:0]]"
      ]
     },
     "execution_count": 150,
     "metadata": {},
     "output_type": "execute_result"
    }
   ],
   "source": [
    "asymfz_gcd = AdvancedSymbolicFuzzer(\n",
    "    gcd, max_iter=10, max_tries=10, max_depth=10)\n",
    "paths = asymfz_gcd.get_all_paths(asymfz_gcd.fnenter)\n",
    "print(len(paths))\n",
    "paths[37].get_path_to_root()"
   ]
  },
  {
   "cell_type": "markdown",
   "metadata": {
    "slideshow": {
     "slide_type": "subslide"
    }
   },
   "source": [
    "We can also list the predicates in each path."
   ]
  },
  {
   "cell_type": "code",
   "execution_count": 151,
   "metadata": {
    "scrolled": false,
    "slideshow": {
     "slide_type": "subslide"
    }
   },
   "outputs": [
    {
     "name": "stdout",
     "output_type": "stream",
     "text": [
      "z3.And((a == _a_0), (b == _b_0))\n",
      "z3.Not((_a_0 < _b_0))\n",
      "(_b_0 != 0)\n",
      "(_c_0 == _a_0)\n",
      "(_a_1 == _b_0)\n",
      "(_b_1 == (_c_0 % _b_0))\n",
      "(_b_1 != 0)\n",
      "(_c_1 == _a_1)\n",
      "(_a_2 == _b_1)\n",
      "(_b_2 == (_c_1 % _b_1))\n",
      "(_b_2 != 0)\n"
     ]
    }
   ],
   "source": [
    "for s in to_single_assignment_predicates(paths[37].get_path_to_root()):\n",
    "    if s is not None:\n",
    "        print(to_src(s))"
   ]
  },
  {
   "cell_type": "code",
   "execution_count": 152,
   "metadata": {
    "slideshow": {
     "slide_type": "subslide"
    }
   },
   "outputs": [],
   "source": [
    "constraints = asymfz_gcd.extract_constraints(paths[37].get_path_to_root())"
   ]
  },
  {
   "cell_type": "code",
   "execution_count": 153,
   "metadata": {
    "slideshow": {
     "slide_type": "fragment"
    }
   },
   "outputs": [
    {
     "data": {
      "text/plain": [
       "['z3.And((a == _a_0), (b == _b_0))',\n",
       " 'z3.Not((_a_0 < _b_0))',\n",
       " '(_b_0 != 0)',\n",
       " '(_c_0 == _a_0)',\n",
       " '(_a_1 == _b_0)',\n",
       " '(_b_1 == (_c_0 % _b_0))',\n",
       " '(_b_1 != 0)',\n",
       " '(_c_1 == _a_1)',\n",
       " '(_a_2 == _b_1)',\n",
       " '(_b_2 == (_c_1 % _b_1))',\n",
       " '(_b_2 != 0)']"
      ]
     },
     "execution_count": 153,
     "metadata": {},
     "output_type": "execute_result"
    }
   ],
   "source": [
    "constraints"
   ]
  },
  {
   "cell_type": "code",
   "execution_count": 154,
   "metadata": {
    "slideshow": {
     "slide_type": "fragment"
    }
   },
   "outputs": [
    {
     "data": {
      "text/plain": [
       "['_b_0', 'a', 'b', '_a_0', '_b_1', '_a_2', '_c_0', '_c_1', '_a_1', '_b_2']"
      ]
     },
     "execution_count": 154,
     "metadata": {},
     "output_type": "execute_result"
    }
   ],
   "source": [
    "used_vars(constraints)"
   ]
  },
  {
   "cell_type": "markdown",
   "metadata": {
    "slideshow": {
     "slide_type": "subslide"
    }
   },
   "source": [
    "#### Fuzzing with our advanced fuzzer"
   ]
  },
  {
   "cell_type": "code",
   "execution_count": 155,
   "metadata": {
    "slideshow": {
     "slide_type": "fragment"
    }
   },
   "outputs": [],
   "source": [
    "class AdvancedSymbolicFuzzer(AdvancedSymbolicFuzzer):\n",
    "    def get_next_path(self):\n",
    "        self.last_path -= 1\n",
    "        if self.last_path == -1:\n",
    "            self.last_path = len(self.paths) - 1\n",
    "        return self.paths[self.last_path].get_path_to_root()"
   ]
  },
  {
   "cell_type": "code",
   "execution_count": 156,
   "metadata": {
    "scrolled": false,
    "slideshow": {
     "slide_type": "subslide"
    }
   },
   "outputs": [
    {
     "name": "stdout",
     "output_type": "stream",
     "text": [
      "{'a': 7, 'b': 4} result: 1\n",
      "{'a': 1, 'b': 2} result: 1\n",
      "{'a': 2, 'b': 3} result: 1\n",
      "{'a': 8, 'b': 3} result: 1\n",
      "{'a': 3, 'b': 5} result: 1\n",
      "{'a': 6, 'b': 6} result: 6\n",
      "{'a': 9, 'b': 2} result: 1\n",
      "{'a': 4, 'b': 5} result: 1\n",
      "{'a': 10, 'b': 1} result: 1\n",
      "{'a': 13, 'b': 7} result: 1\n"
     ]
    }
   ],
   "source": [
    "asymfz_gcd = AdvancedSymbolicFuzzer(\n",
    "    gcd, max_tries=10, max_iter=10, max_depth=10)\n",
    "data = []\n",
    "for i in range(10):\n",
    "    r = asymfz_gcd.fuzz()\n",
    "    data.append((r['a'].as_long(), r['b'].as_long()))\n",
    "    v = gcd(*data[-1])\n",
    "    print(r, \"result:\", repr(v))"
   ]
  },
  {
   "cell_type": "markdown",
   "metadata": {
    "slideshow": {
     "slide_type": "subslide"
    }
   },
   "source": [
    "What is our coverage?"
   ]
  },
  {
   "cell_type": "code",
   "execution_count": 157,
   "metadata": {
    "slideshow": {
     "slide_type": "fragment"
    }
   },
   "outputs": [],
   "source": [
    "with Tracer() as cov:\n",
    "    for a, b in data:\n",
    "        gcd(a, b)"
   ]
  },
  {
   "cell_type": "code",
   "execution_count": 158,
   "metadata": {
    "scrolled": true,
    "slideshow": {
     "slide_type": "subslide"
    }
   },
   "outputs": [
    {
     "name": "stdout",
     "output_type": "stream",
     "text": [
      "#  1: def gcd(a, b):\n",
      "#  2:     if a < b:\n",
      "#  3:         c = a\n",
      "#  4:         a = b\n",
      "#  5:         b = c\n",
      "   6: \n",
      "#  7:     while b != 0:\n",
      "#  8:         c = a\n",
      "#  9:         a = b\n",
      "# 10:         b = c % b\n",
      "# 11:     return a\n",
      "  12: \n"
     ]
    }
   ],
   "source": [
    "cov.show_coverage(gcd)"
   ]
  },
  {
   "cell_type": "code",
   "execution_count": 159,
   "metadata": {
    "slideshow": {
     "slide_type": "subslide"
    }
   },
   "outputs": [
    {
     "data": {
      "image/svg+xml": [
       "<?xml version=\"1.0\" encoding=\"UTF-8\" standalone=\"no\"?>\n",
       "<!DOCTYPE svg PUBLIC \"-//W3C//DTD SVG 1.1//EN\"\n",
       " \"http://www.w3.org/Graphics/SVG/1.1/DTD/svg11.dtd\">\n",
       "<!-- Generated by graphviz version 2.40.1 (20161225.0304)\n",
       " -->\n",
       "<!-- Title: %3 Pages: 1 -->\n",
       "<svg width=\"308pt\" height=\"636pt\"\n",
       " viewBox=\"0.00 0.00 307.79 636.00\" xmlns=\"http://www.w3.org/2000/svg\" xmlns:xlink=\"http://www.w3.org/1999/xlink\">\n",
       "<g id=\"graph0\" class=\"graph\" transform=\"scale(1 1) rotate(0) translate(4 632)\">\n",
       "<title>%3</title>\n",
       "<polygon fill=\"#ffffff\" stroke=\"transparent\" points=\"-4,4 -4,-632 303.7893,-632 303.7893,4 -4,4\"/>\n",
       "<!-- 1 -->\n",
       "<g id=\"node1\" class=\"node\">\n",
       "<title>1</title>\n",
       "<ellipse fill=\"none\" stroke=\"#000000\" cx=\"196.8437\" cy=\"-606\" rx=\"75.2921\" ry=\"18\"/>\n",
       "<ellipse fill=\"none\" stroke=\"#000000\" cx=\"196.8437\" cy=\"-606\" rx=\"79.2868\" ry=\"22\"/>\n",
       "<text text-anchor=\"middle\" x=\"196.8437\" y=\"-602.3\" font-family=\"Times,serif\" font-size=\"14.00\" fill=\"#000000\">1: enter: gcd(a, b)</text>\n",
       "</g>\n",
       "<!-- 3 -->\n",
       "<g id=\"node4\" class=\"node\">\n",
       "<title>3</title>\n",
       "<polygon fill=\"none\" stroke=\"#000000\" points=\"196.8437,-548 119.4247,-530 196.8437,-512 274.2627,-530 196.8437,-548\"/>\n",
       "<text text-anchor=\"middle\" x=\"196.8437\" y=\"-526.3\" font-family=\"Times,serif\" font-size=\"14.00\" fill=\"#000000\">2: if: (a &lt; b)</text>\n",
       "</g>\n",
       "<!-- 1&#45;&gt;3 -->\n",
       "<g id=\"edge2\" class=\"edge\">\n",
       "<title>1&#45;&gt;3</title>\n",
       "<path fill=\"none\" stroke=\"#00ff00\" d=\"M196.8437,-583.6086C196.8437,-575.7272 196.8437,-566.7616 196.8437,-558.4482\"/>\n",
       "<polygon fill=\"#00ff00\" stroke=\"#00ff00\" points=\"200.3438,-558.3974 196.8437,-548.3975 193.3438,-558.3975 200.3438,-558.3974\"/>\n",
       "</g>\n",
       "<!-- 2 -->\n",
       "<g id=\"node2\" class=\"node\">\n",
       "<title>2</title>\n",
       "<ellipse fill=\"none\" stroke=\"#000000\" cx=\"74.8437\" cy=\"-94\" rx=\"70.6961\" ry=\"18\"/>\n",
       "<ellipse fill=\"none\" stroke=\"#000000\" cx=\"74.8437\" cy=\"-94\" rx=\"74.6878\" ry=\"22\"/>\n",
       "<text text-anchor=\"middle\" x=\"74.8437\" y=\"-90.3\" font-family=\"Times,serif\" font-size=\"14.00\" fill=\"#000000\">1: exit: gcd(a, b)</text>\n",
       "</g>\n",
       "<!-- 11 -->\n",
       "<g id=\"node3\" class=\"node\">\n",
       "<title>11</title>\n",
       "<polygon fill=\"none\" stroke=\"#000000\" points=\"132.3437,-188 51.3437,-188 51.3437,-152 132.3437,-152 132.3437,-188\"/>\n",
       "<text text-anchor=\"middle\" x=\"91.8437\" y=\"-166.3\" font-family=\"Times,serif\" font-size=\"14.00\" fill=\"#000000\">11: return a</text>\n",
       "</g>\n",
       "<!-- 11&#45;&gt;2 -->\n",
       "<g id=\"edge1\" class=\"edge\">\n",
       "<title>11&#45;&gt;2</title>\n",
       "<path fill=\"none\" stroke=\"#00ff00\" d=\"M87.815,-151.9891C86.093,-144.291 84.0288,-135.0629 82.0589,-126.2561\"/>\n",
       "<polygon fill=\"#00ff00\" stroke=\"#00ff00\" points=\"85.4144,-125.223 79.8158,-116.2282 78.5832,-126.7511 85.4144,-125.223\"/>\n",
       "</g>\n",
       "<!-- 4 -->\n",
       "<g id=\"node5\" class=\"node\">\n",
       "<title>4</title>\n",
       "<polygon fill=\"none\" stroke=\"#000000\" points=\"197.8437,-476 139.8437,-476 139.8437,-440 197.8437,-440 197.8437,-476\"/>\n",
       "<text text-anchor=\"middle\" x=\"168.8437\" y=\"-454.3\" font-family=\"Times,serif\" font-size=\"14.00\" fill=\"#000000\">3: c = a</text>\n",
       "</g>\n",
       "<!-- 3&#45;&gt;4 -->\n",
       "<g id=\"edge3\" class=\"edge\">\n",
       "<title>3&#45;&gt;4</title>\n",
       "<path fill=\"none\" stroke=\"#00ff00\" d=\"M190.3496,-513.3008C187.1362,-505.0378 183.1738,-494.8488 179.5293,-485.4773\"/>\n",
       "<polygon fill=\"#00ff00\" stroke=\"#00ff00\" points=\"182.7778,-484.1736 175.8912,-476.1222 176.2537,-486.7108 182.7778,-484.1736\"/>\n",
       "</g>\n",
       "<!-- 7 -->\n",
       "<g id=\"node8\" class=\"node\">\n",
       "<title>7</title>\n",
       "<polygon fill=\"none\" stroke=\"#000000\" points=\"196.8437,-260 93.9525,-242 196.8437,-224 299.735,-242 196.8437,-260\"/>\n",
       "<text text-anchor=\"middle\" x=\"196.8437\" y=\"-238.3\" font-family=\"Times,serif\" font-size=\"14.00\" fill=\"#000000\">7: while: (b != 0)</text>\n",
       "</g>\n",
       "<!-- 3&#45;&gt;7 -->\n",
       "<g id=\"edge7\" class=\"edge\">\n",
       "<title>3&#45;&gt;7</title>\n",
       "<path fill=\"none\" stroke=\"#00ff00\" d=\"M200.903,-512.6028C203.1495,-502.0751 205.7105,-488.3428 206.8437,-476 209.6985,-444.9062 215.8187,-411.6392 205.8437,-296 205.0971,-287.3446 203.7363,-277.9857 202.295,-269.5292\"/>\n",
       "<polygon fill=\"#00ff00\" stroke=\"#00ff00\" points=\"205.6907,-268.6384 200.4666,-259.4211 198.8025,-269.8844 205.6907,-268.6384\"/>\n",
       "</g>\n",
       "<!-- 5 -->\n",
       "<g id=\"node6\" class=\"node\">\n",
       "<title>5</title>\n",
       "<polygon fill=\"none\" stroke=\"#000000\" points=\"197.3437,-404 138.3437,-404 138.3437,-368 197.3437,-368 197.3437,-404\"/>\n",
       "<text text-anchor=\"middle\" x=\"167.8437\" y=\"-382.3\" font-family=\"Times,serif\" font-size=\"14.00\" fill=\"#000000\">4: a = b</text>\n",
       "</g>\n",
       "<!-- 4&#45;&gt;5 -->\n",
       "<g id=\"edge4\" class=\"edge\">\n",
       "<title>4&#45;&gt;5</title>\n",
       "<path fill=\"none\" stroke=\"#00ff00\" d=\"M168.5914,-439.8314C168.4844,-432.131 168.3572,-422.9743 168.2384,-414.4166\"/>\n",
       "<polygon fill=\"#00ff00\" stroke=\"#00ff00\" points=\"171.7381,-414.3637 168.0995,-404.4133 164.7388,-414.4609 171.7381,-414.3637\"/>\n",
       "</g>\n",
       "<!-- 6 -->\n",
       "<g id=\"node7\" class=\"node\">\n",
       "<title>6</title>\n",
       "<polygon fill=\"none\" stroke=\"#000000\" points=\"197.3437,-332 138.3437,-332 138.3437,-296 197.3437,-296 197.3437,-332\"/>\n",
       "<text text-anchor=\"middle\" x=\"167.8437\" y=\"-310.3\" font-family=\"Times,serif\" font-size=\"14.00\" fill=\"#000000\">5: b = c</text>\n",
       "</g>\n",
       "<!-- 5&#45;&gt;6 -->\n",
       "<g id=\"edge5\" class=\"edge\">\n",
       "<title>5&#45;&gt;6</title>\n",
       "<path fill=\"none\" stroke=\"#00ff00\" d=\"M167.8437,-367.8314C167.8437,-360.131 167.8437,-350.9743 167.8437,-342.4166\"/>\n",
       "<polygon fill=\"#00ff00\" stroke=\"#00ff00\" points=\"171.3438,-342.4132 167.8437,-332.4133 164.3438,-342.4133 171.3438,-342.4132\"/>\n",
       "</g>\n",
       "<!-- 6&#45;&gt;7 -->\n",
       "<g id=\"edge6\" class=\"edge\">\n",
       "<title>6&#45;&gt;7</title>\n",
       "<path fill=\"none\" stroke=\"#00ff00\" d=\"M175.1616,-295.8314C178.5133,-287.51 182.5499,-277.4881 186.2269,-268.3591\"/>\n",
       "<polygon fill=\"#00ff00\" stroke=\"#00ff00\" points=\"189.5366,-269.5098 190.0262,-258.9263 183.0435,-266.8945 189.5366,-269.5098\"/>\n",
       "</g>\n",
       "<!-- 7&#45;&gt;11 -->\n",
       "<g id=\"edge12\" class=\"edge\">\n",
       "<title>7&#45;&gt;11</title>\n",
       "<path fill=\"none\" stroke=\"#00ff00\" d=\"M175.8478,-227.6028C161.9109,-218.0461 143.2737,-205.2663 127.0951,-194.1724\"/>\n",
       "<polygon fill=\"#00ff00\" stroke=\"#00ff00\" points=\"128.632,-190.9825 118.4054,-188.2137 124.6733,-196.7556 128.632,-190.9825\"/>\n",
       "</g>\n",
       "<!-- 8 -->\n",
       "<g id=\"node10\" class=\"node\">\n",
       "<title>8</title>\n",
       "<polygon fill=\"none\" stroke=\"#000000\" points=\"225.8437,-188 167.8437,-188 167.8437,-152 225.8437,-152 225.8437,-188\"/>\n",
       "<text text-anchor=\"middle\" x=\"196.8437\" y=\"-166.3\" font-family=\"Times,serif\" font-size=\"14.00\" fill=\"#000000\">8: c = a</text>\n",
       "</g>\n",
       "<!-- 7&#45;&gt;8 -->\n",
       "<g id=\"edge9\" class=\"edge\">\n",
       "<title>7&#45;&gt;8</title>\n",
       "<path fill=\"none\" stroke=\"#00ff00\" d=\"M196.8437,-223.8314C196.8437,-216.131 196.8437,-206.9743 196.8437,-198.4166\"/>\n",
       "<polygon fill=\"#00ff00\" stroke=\"#00ff00\" points=\"200.3438,-198.4132 196.8437,-188.4133 193.3438,-198.4133 200.3438,-198.4132\"/>\n",
       "</g>\n",
       "<!-- 10 -->\n",
       "<g id=\"node9\" class=\"node\">\n",
       "<title>10</title>\n",
       "<polygon fill=\"none\" stroke=\"#000000\" points=\"276.3437,-36 175.3437,-36 175.3437,0 276.3437,0 276.3437,-36\"/>\n",
       "<text text-anchor=\"middle\" x=\"225.8437\" y=\"-14.3\" font-family=\"Times,serif\" font-size=\"14.00\" fill=\"#000000\">10: b = (c % b)</text>\n",
       "</g>\n",
       "<!-- 10&#45;&gt;7 -->\n",
       "<g id=\"edge8\" class=\"edge\">\n",
       "<title>10&#45;&gt;7</title>\n",
       "<path fill=\"none\" stroke=\"#00ff00\" d=\"M231.039,-36.424C239.0944,-68.2387 251.9816,-135.1452 234.8437,-188 231.3068,-198.9081 224.732,-209.5365 218.0335,-218.4383\"/>\n",
       "<polygon fill=\"#00ff00\" stroke=\"#00ff00\" points=\"215.181,-216.4011 211.6683,-226.3967 220.6477,-220.7733 215.181,-216.4011\"/>\n",
       "</g>\n",
       "<!-- 9 -->\n",
       "<g id=\"node11\" class=\"node\">\n",
       "<title>9</title>\n",
       "<polygon fill=\"none\" stroke=\"#000000\" points=\"226.3437,-112 167.3437,-112 167.3437,-76 226.3437,-76 226.3437,-112\"/>\n",
       "<text text-anchor=\"middle\" x=\"196.8437\" y=\"-90.3\" font-family=\"Times,serif\" font-size=\"14.00\" fill=\"#000000\">9: a = b</text>\n",
       "</g>\n",
       "<!-- 8&#45;&gt;9 -->\n",
       "<g id=\"edge10\" class=\"edge\">\n",
       "<title>8&#45;&gt;9</title>\n",
       "<path fill=\"none\" stroke=\"#00ff00\" d=\"M196.8437,-151.9891C196.8437,-143.1566 196.8437,-132.3099 196.8437,-122.3965\"/>\n",
       "<polygon fill=\"#00ff00\" stroke=\"#00ff00\" points=\"200.3438,-122.145 196.8437,-112.145 193.3438,-122.1451 200.3438,-122.145\"/>\n",
       "</g>\n",
       "<!-- 9&#45;&gt;10 -->\n",
       "<g id=\"edge11\" class=\"edge\">\n",
       "<title>9&#45;&gt;10</title>\n",
       "<path fill=\"none\" stroke=\"#00ff00\" d=\"M203.7163,-75.9891C207.1583,-66.9686 211.4019,-55.8474 215.2492,-45.765\"/>\n",
       "<polygon fill=\"#00ff00\" stroke=\"#00ff00\" points=\"218.6249,-46.7358 218.92,-36.145 212.0848,-44.2402 218.6249,-46.7358\"/>\n",
       "</g>\n",
       "</g>\n",
       "</svg>\n"
      ],
      "text/plain": [
       "<graphviz.files.Source at 0x118f97048>"
      ]
     },
     "execution_count": 159,
     "metadata": {},
     "output_type": "execute_result"
    }
   ],
   "source": [
    "Source(to_graph(gen_cfg(inspect.getsource(gcd)), arcs=cov_to_arcs(cov)))"
   ]
  },
  {
   "cell_type": "markdown",
   "metadata": {
    "slideshow": {
     "slide_type": "fragment"
    }
   },
   "source": [
    "How do we make use of our fuzzer in practice? We explore a small case study of a program to solve the roots of a quadratic equation."
   ]
  },
  {
   "cell_type": "markdown",
   "metadata": {
    "slideshow": {
     "slide_type": "subslide"
    }
   },
   "source": [
    "#### Example: roots\n",
    "Here is the famous equation for finding the roots of quadratic equations."
   ]
  },
  {
   "cell_type": "code",
   "execution_count": 160,
   "metadata": {
    "slideshow": {
     "slide_type": "fragment"
    }
   },
   "outputs": [],
   "source": [
    "def roots(a, b, c):\n",
    "    d = b * b - 4 * a * c\n",
    "    ax = 0.5 * d\n",
    "    bx = 0\n",
    "    while (ax - bx) > 0.1:\n",
    "        bx = 0.5 * (ax + d / ax)\n",
    "        ax = bx\n",
    "    s = bx\n",
    "\n",
    "    a2 = 2 * a\n",
    "    ba2 = b / a2\n",
    "    return -ba2 + s / a2, -ba2 - s / a2"
   ]
  },
  {
   "cell_type": "markdown",
   "metadata": {
    "slideshow": {
     "slide_type": "subslide"
    }
   },
   "source": [
    "Does the program look correct? Let us investigate if the program is reasonable. But before that, we need a helper\n",
    "function `sym_to_float()` to convert symbolic values to floating point."
   ]
  },
  {
   "cell_type": "code",
   "execution_count": 161,
   "metadata": {
    "slideshow": {
     "slide_type": "fragment"
    }
   },
   "outputs": [],
   "source": [
    "def sym_to_float(v):\n",
    "    if v is None:\n",
    "        return math.inf\n",
    "    return v.numerator_as_long() / v.denominator_as_long()"
   ]
  },
  {
   "cell_type": "markdown",
   "metadata": {
    "slideshow": {
     "slide_type": "fragment"
    }
   },
   "source": [
    "Now we are ready to fuzz."
   ]
  },
  {
   "cell_type": "code",
   "execution_count": 162,
   "metadata": {
    "scrolled": false,
    "slideshow": {
     "slide_type": "subslide"
    }
   },
   "outputs": [
    {
     "name": "stdout",
     "output_type": "stream",
     "text": [
      "[0.5, 0.125, 1.0] (-0.125, -0.125)\n",
      "[0.5, 0.125, 2.0] (-0.125, -0.125)\n",
      "[0.5, 0.125, 3.0] (-0.125, -0.125)\n"
     ]
    },
    {
     "name": "stderr",
     "output_type": "stream",
     "text": [
      "Traceback (most recent call last):\n",
      "  File \"<ipython-input-162-f5ef2f568ed3>\", line 11, in <module>\n",
      "    v = roots(*d)\n",
      "  File \"<ipython-input-160-52eec1eb10b3>\", line 11, in roots\n",
      "    ba2 = b / a2\n",
      "ZeroDivisionError: float division by zero (expected)\n"
     ]
    }
   ],
   "source": [
    "asymfz_roots = AdvancedSymbolicFuzzer(\n",
    "    roots,\n",
    "    max_tries=10,\n",
    "    max_iter=10,\n",
    "    max_depth=10,\n",
    "    symbolic_fn='z3.Real')\n",
    "with ExpectError():\n",
    "    for i in range(100):\n",
    "        r = asymfz_roots.fuzz()\n",
    "        d = [sym_to_float(r[i]) for i in ['a', 'b', 'c']]\n",
    "        v = roots(*d)\n",
    "        print(d, v)"
   ]
  },
  {
   "cell_type": "markdown",
   "metadata": {
    "slideshow": {
     "slide_type": "subslide"
    }
   },
   "source": [
    "We have a `ZeroDivisionError`. Can we eliminate it?"
   ]
  },
  {
   "cell_type": "markdown",
   "metadata": {
    "slideshow": {
     "slide_type": "subslide"
    }
   },
   "source": [
    "#####  roots - take 2"
   ]
  },
  {
   "cell_type": "code",
   "execution_count": 163,
   "metadata": {
    "slideshow": {
     "slide_type": "subslide"
    }
   },
   "outputs": [],
   "source": [
    "def roots2(a, b, c):\n",
    "    d = b * b - 4 * a * c\n",
    "\n",
    "    xa = 0.5 * d\n",
    "    xb = 0\n",
    "    while (xa - xb) > 0.1:\n",
    "        xb = 0.5 * (xa + d / xa)\n",
    "        xa = xb\n",
    "    s = xb\n",
    "\n",
    "    if a == 0:\n",
    "        return -c / b\n",
    "\n",
    "    a2 = 2 * a\n",
    "    ba2 = b / a2\n",
    "    return -ba2 + s / a2, -ba2 - s / a2"
   ]
  },
  {
   "cell_type": "code",
   "execution_count": 164,
   "metadata": {
    "scrolled": false,
    "slideshow": {
     "slide_type": "subslide"
    }
   },
   "outputs": [
    {
     "name": "stderr",
     "output_type": "stream",
     "text": [
      "Traceback (most recent call last):\n",
      "  File \"<ipython-input-164-bb7dc1496456>\", line 11, in <module>\n",
      "    v = roots2(*d)\n",
      "  File \"<ipython-input-163-0e6dcf0888e2>\", line 12, in roots2\n",
      "    return -c / b\n",
      "ZeroDivisionError: float division by zero (expected)\n"
     ]
    }
   ],
   "source": [
    "asymfz_roots = AdvancedSymbolicFuzzer(\n",
    "    roots2,\n",
    "    max_tries=10,\n",
    "    max_iter=10,\n",
    "    max_depth=10,\n",
    "    symbolic_fn='z3.Real')\n",
    "with ExpectError():\n",
    "    for i in range(1000):\n",
    "        r = asymfz_roots.fuzz()\n",
    "        d = [sym_to_float(r[i]) for i in ['a', 'b', 'c']]\n",
    "        v = roots2(*d)\n",
    "        #print(d, v)"
   ]
  },
  {
   "cell_type": "markdown",
   "metadata": {
    "slideshow": {
     "slide_type": "subslide"
    }
   },
   "source": [
    "Apparently, our fix was incomplete. Let us try again."
   ]
  },
  {
   "cell_type": "markdown",
   "metadata": {
    "slideshow": {
     "slide_type": "subslide"
    }
   },
   "source": [
    "#####  roots - take 3"
   ]
  },
  {
   "cell_type": "code",
   "execution_count": 165,
   "metadata": {
    "slideshow": {
     "slide_type": "skip"
    }
   },
   "outputs": [],
   "source": [
    "import math"
   ]
  },
  {
   "cell_type": "code",
   "execution_count": 166,
   "metadata": {
    "slideshow": {
     "slide_type": "subslide"
    }
   },
   "outputs": [],
   "source": [
    "def roots3(a, b, c):\n",
    "    d = b * b - 4 * a * c\n",
    "\n",
    "    xa = 0.5 * d\n",
    "    xb = 0\n",
    "    while (xa - xb) > 0.1:\n",
    "        xb = 0.5 * (xa + d / xa)\n",
    "        xa = xb\n",
    "    s = xb\n",
    "\n",
    "    if a == 0:\n",
    "        if b == 0:\n",
    "            return math.inf\n",
    "        return -c / b\n",
    "\n",
    "    a2 = 2 * a\n",
    "    ba2 = b / a2\n",
    "    return -ba2 + s / a2, -ba2 - s / a2"
   ]
  },
  {
   "cell_type": "code",
   "execution_count": 167,
   "metadata": {
    "scrolled": true,
    "slideshow": {
     "slide_type": "subslide"
    }
   },
   "outputs": [
    {
     "name": "stdout",
     "output_type": "stream",
     "text": [
      "{'a': -1, 'b': 0, 'c': 0}\n",
      "[-1.0, 0.0, 0.0] (0.0, 0.0)\n",
      "{'a': -1/2, 'b': 0, 'c': 0}\n",
      "[-0.5, 0.0, 0.0] (0.0, 0.0)\n",
      "{'a': 0, 'b': 1/4, 'c': 0}\n",
      "[0.0, 0.25, 0.0] -0.0\n",
      "{'a': 0, 'b': 0, 'c': 1}\n",
      "[0.0, 0.0, 1.0] inf\n",
      "{'a': 1, 'b': 1/8, 'c': 1}\n",
      "[1.0, 0.125, 1.0] (-0.0625, -0.0625)\n",
      "{'a': 0, 'b': 1/4, 'c': -1}\n",
      "[0.0, 0.25, -1.0] 4.0\n",
      "{'a': 0, 'b': 0, 'c': 0}\n",
      "[0.0, 0.0, 0.0] inf\n",
      "{'a': -1, 'b': 0, 'c': -1}\n",
      "[-1.0, 0.0, -1.0] (0.0, 0.0)\n",
      "{'a': 0, 'b': 0, 'c': -1/2}\n",
      "[0.0, 0.0, -0.5] inf\n",
      "{'a': 0, 'b': 0, 'c': 1/8}\n",
      "[0.0, 0.0, 0.125] inf\n"
     ]
    }
   ],
   "source": [
    "asymfz_roots = AdvancedSymbolicFuzzer(\n",
    "    roots3,\n",
    "    max_tries=10,\n",
    "    max_iter=10,\n",
    "    max_depth=10,\n",
    "    symbolic_fn='z3.Real')\n",
    "# with ExpectError():\n",
    "for i in range(10):\n",
    "    r = asymfz_roots.fuzz()\n",
    "    print(r)\n",
    "    d = [sym_to_float(r[i]) for i in ['a', 'b', 'c']]\n",
    "    v = roots3(*d)\n",
    "    print(d, v)"
   ]
  },
  {
   "cell_type": "markdown",
   "metadata": {
    "slideshow": {
     "slide_type": "subslide"
    }
   },
   "source": [
    "#### Problems with our advanced fuzzer"
   ]
  },
  {
   "cell_type": "markdown",
   "metadata": {
    "slideshow": {
     "slide_type": "fragment"
    }
   },
   "source": [
    "There is an evident error in this program. We are not checking for negative roots. However, the symbolic execution does not seem to have detected it."
   ]
  },
  {
   "cell_type": "markdown",
   "metadata": {
    "slideshow": {
     "slide_type": "fragment"
    }
   },
   "source": [
    "Why are we not able to detect the problem of negative roots? Because we stop execution at a predetermined depth without throwing an error. That is, our symbolic execution is wide but shallow.\n",
    "\n",
    "Is there a way to make it go deep? One solution is to go for the *Concolic Execution*."
   ]
  },
  {
   "cell_type": "markdown",
   "metadata": {
    "slideshow": {
     "slide_type": "subslide"
    }
   },
   "source": [
    "### Concolic Execution"
   ]
  },
  {
   "cell_type": "markdown",
   "metadata": {
    "slideshow": {
     "slide_type": "fragment"
    }
   },
   "source": [
    "In *concolic execution*, we rely on a seed input to guide our symbolic execution. We collect the line numbers that our seed input traces, and feed it to the symbolic execution such that in the `explore` step, only the child node that correspond to the seed input execution path is chosen. This allows us to collect the complete set of constraints along a *representative path*. Once we have it, we can choose any particular predicate and invert it to explore the program execution paths near the representative path."
   ]
  },
  {
   "cell_type": "markdown",
   "metadata": {
    "slideshow": {
     "slide_type": "fragment"
    }
   },
   "source": [
    "We modify our original `Tracer` to provide *all* line numbers that the program traversed."
   ]
  },
  {
   "cell_type": "markdown",
   "metadata": {
    "slideshow": {
     "slide_type": "subslide"
    }
   },
   "source": [
    "#### ConcolicFuzzer"
   ]
  },
  {
   "cell_type": "code",
   "execution_count": 168,
   "metadata": {
    "slideshow": {
     "slide_type": "fragment"
    }
   },
   "outputs": [],
   "source": [
    "class Tracer(Tracer):\n",
    "    def offsets_from_entry(self, fn):\n",
    "        zero = self._trace[0][1] - 1\n",
    "        return [l-zero for (f,l) in self._trace if f == fn]"
   ]
  },
  {
   "cell_type": "code",
   "execution_count": 169,
   "metadata": {
    "slideshow": {
     "slide_type": "fragment"
    }
   },
   "outputs": [],
   "source": [
    "with Tracer() as cov:\n",
    "    roots3(1, 1, 1)"
   ]
  },
  {
   "cell_type": "code",
   "execution_count": 170,
   "metadata": {
    "slideshow": {
     "slide_type": "fragment"
    }
   },
   "outputs": [
    {
     "data": {
      "text/plain": [
       "[1, 2, 4, 5, 6, 9, 11, 16, 17, 18]"
      ]
     },
     "execution_count": 170,
     "metadata": {},
     "output_type": "execute_result"
    }
   ],
   "source": [
    "cov.offsets_from_entry('roots3')"
   ]
  },
  {
   "cell_type": "markdown",
   "metadata": {
    "slideshow": {
     "slide_type": "fragment"
    }
   },
   "source": [
    "The `ConcolicFuzzer` first extracts the program trace on a seed input."
   ]
  },
  {
   "cell_type": "code",
   "execution_count": 171,
   "metadata": {
    "slideshow": {
     "slide_type": "subslide"
    }
   },
   "outputs": [],
   "source": [
    "class ConcolicFuzzer(AdvancedSymbolicFuzzer):\n",
    "    def __init__(self, fn, fnargs, **kwargs):\n",
    "        with Tracer() as cov:\n",
    "            fn(*fnargs)\n",
    "        self.lines = cov.offsets_from_entry(fn.__name__)\n",
    "        self.current_line = 0\n",
    "        super().__init__(fn, **kwargs)"
   ]
  },
  {
   "cell_type": "markdown",
   "metadata": {
    "slideshow": {
     "slide_type": "subslide"
    }
   },
   "source": [
    "##### get_all_paths\n",
    "The method `get_all_paths()` now tries to follow the seed execution path."
   ]
  },
  {
   "cell_type": "code",
   "execution_count": 172,
   "metadata": {
    "slideshow": {
     "slide_type": "subslide"
    }
   },
   "outputs": [],
   "source": [
    "class ConcolicFuzzer(ConcolicFuzzer):\n",
    "    def get_all_paths(self, fenter):\n",
    "        assert fenter.ast_node.lineno == self.lines[self.current_line]\n",
    "        self.current_line += 1\n",
    "        last_node = PNode(0, fenter)\n",
    "        while last_node and self.current_line < len(self.lines):\n",
    "            if last_node.cfgnode.children:\n",
    "                np = last_node.explore()\n",
    "                for p in np:\n",
    "                    if self.lines[self.current_line] == p.cfgnode.ast_node.lineno:\n",
    "                        self.current_line += 1\n",
    "                        last_node = p\n",
    "                        break\n",
    "                else:\n",
    "                    last_node = None\n",
    "                    break\n",
    "            else:\n",
    "                break\n",
    "        assert len(self.lines) == self.current_line\n",
    "        return [last_node]\n",
    "\n",
    "    def solve_path_constraint(self, path):\n",
    "        # re-initializing does not seem problematic.\n",
    "        # a = z3.Int('a').get_id() remains the same.\n",
    "        constraints = self.extract_constraints(path)\n",
    "        exec(define_vars(used_vars(constraints), self.symbolic_fn))\n",
    "\n",
    "        solutions = {}\n",
    "        with checkpoint(self.z3):\n",
    "            eval('self.z3.add(%s)' % ', '.join(constraints))\n",
    "            if self.z3.check() != z3.sat:\n",
    "                return {}\n",
    "            m = self.z3.model()\n",
    "            solutions = {d.name(): m[d] for d in m.decls()}\n",
    "            my_args = {k: solutions.get(k, None) for k in self.fn_args}\n",
    "        predicate = 'z3.And(%s)' % ','.join(\n",
    "            [\"%s == %s\" % (k, v) for k, v in my_args.items()])\n",
    "        eval('self.z3.add(z3.Not(%s))' % predicate)\n",
    "        return my_args"
   ]
  },
  {
   "cell_type": "markdown",
   "metadata": {
    "slideshow": {
     "slide_type": "subslide"
    }
   },
   "source": [
    "#### Fuzzing with our concolic fuzzer"
   ]
  },
  {
   "cell_type": "code",
   "execution_count": 173,
   "metadata": {
    "slideshow": {
     "slide_type": "fragment"
    }
   },
   "outputs": [],
   "source": [
    "acfz_roots = ConcolicFuzzer(\n",
    "    roots3,\n",
    "    fnargs=[1, 1, 1],\n",
    "    max_tries=10,\n",
    "    max_iter=10,\n",
    "    max_depth=10,\n",
    "    symbolic_fn='z3.Real')"
   ]
  },
  {
   "cell_type": "code",
   "execution_count": 174,
   "metadata": {
    "slideshow": {
     "slide_type": "subslide"
    }
   },
   "outputs": [
    {
     "data": {
      "text/plain": [
       "[PNode:0[id:62 line[1] parents: [] : enter: roots3(a, b, c) order:0],\n",
       " PNode:1[id:64 line[2] parents: [62] : d = ((b * b) - ((4 * a) * c)) order:0],\n",
       " PNode:2[id:65 line[4] parents: [64] : xa = (0.5 * d) order:0],\n",
       " PNode:3[id:66 line[5] parents: [65] : xb = 0 order:0],\n",
       " PNode:4[id:67 line[6] parents: [66, 69] : _while: ((xa - xb) > 0.1) order:1],\n",
       " PNode:5[id:70 line[9] parents: [67] : s = xb order:0],\n",
       " PNode:6[id:71 line[11] parents: [70] : _if: (a == 0) order:1],\n",
       " PNode:7[id:75 line[16] parents: [71] : a2 = (2 * a) order:0],\n",
       " PNode:8[id:76 line[17] parents: [75] : ba2 = (b / a2) order:0],\n",
       " PNode:9[id:77 line[18] parents: [76] : return (((- ba2) + (s / a2)), ((- ba2) - (s / a2))) order:0]]"
      ]
     },
     "execution_count": 174,
     "metadata": {},
     "output_type": "execute_result"
    }
   ],
   "source": [
    "acfz_roots.paths[0].get_path_to_root()"
   ]
  },
  {
   "cell_type": "code",
   "execution_count": 175,
   "metadata": {
    "slideshow": {
     "slide_type": "subslide"
    }
   },
   "outputs": [
    {
     "name": "stdout",
     "output_type": "stream",
     "text": [
      "[1, 2, 4, 5, 6, 9, 11, 16, 17, 18]\n",
      "[1, 2, 4, 5, 6, 9, 11, 16, 17, 18]\n"
     ]
    }
   ],
   "source": [
    "print([i.cfgnode.ast_node.lineno for i in acfz_roots.paths[0].get_path_to_root()])\n",
    "print(acfz_roots.lines)"
   ]
  },
  {
   "cell_type": "markdown",
   "metadata": {
    "slideshow": {
     "slide_type": "fragment"
    }
   },
   "source": [
    "We extract the constraints as usual."
   ]
  },
  {
   "cell_type": "code",
   "execution_count": 176,
   "metadata": {
    "scrolled": false,
    "slideshow": {
     "slide_type": "fragment"
    }
   },
   "outputs": [],
   "source": [
    "constraints = acfz_roots.extract_constraints(\n",
    "    acfz_roots.paths[0].get_path_to_root())"
   ]
  },
  {
   "cell_type": "code",
   "execution_count": 177,
   "metadata": {
    "slideshow": {
     "slide_type": "subslide"
    }
   },
   "outputs": [
    {
     "data": {
      "text/plain": [
       "['z3.And((a == _a_0), (b == _b_0), (c == _c_0))',\n",
       " '(_d_0 == ((_b_0 * _b_0) - ((4 * _a_0) * _c_0)))',\n",
       " '(_xa_0 == (0.5 * _d_0))',\n",
       " '(_xb_0 == 0)',\n",
       " 'z3.Not(((_xa_0 - _xb_0) > 0.1))',\n",
       " '(_s_0 == _xb_0)',\n",
       " 'z3.Not((_a_0 == 0))',\n",
       " '(_a2_0 == (2 * _a_0))',\n",
       " '(_ba2_0 == (_b_0 / _a2_0))']"
      ]
     },
     "execution_count": 177,
     "metadata": {},
     "output_type": "execute_result"
    }
   ],
   "source": [
    "constraints"
   ]
  },
  {
   "cell_type": "markdown",
   "metadata": {
    "slideshow": {
     "slide_type": "fragment"
    }
   },
   "source": [
    "The used vars are first as symbolic."
   ]
  },
  {
   "cell_type": "code",
   "execution_count": 178,
   "metadata": {
    "slideshow": {
     "slide_type": "fragment"
    }
   },
   "outputs": [],
   "source": [
    "exec(define_vars(used_vars(constraints), 'z3.Real'))"
   ]
  },
  {
   "cell_type": "markdown",
   "metadata": {
    "slideshow": {
     "slide_type": "subslide"
    }
   },
   "source": [
    "We can now solve our constraints. However, before that, here is a question for you.\n",
    "\n",
    "Should it result in exactly the same arguments?"
   ]
  },
  {
   "cell_type": "code",
   "execution_count": 179,
   "metadata": {
    "slideshow": {
     "slide_type": "subslide"
    }
   },
   "outputs": [
    {
     "name": "stdout",
     "output_type": "stream",
     "text": [
      "[_b_0 = 1/8,\n",
      " _a_0 = 1,\n",
      " _c_0 = 1,\n",
      " _ba2_0 = 1/16,\n",
      " _a2_0 = 2,\n",
      " _s_0 = 0,\n",
      " _xb_0 = 0,\n",
      " _xa_0 = -255/128,\n",
      " _d_0 = -255/64,\n",
      " c = 1,\n",
      " b = 1/8,\n",
      " a = 1]\n"
     ]
    }
   ],
   "source": [
    "eval('z3.solve(%s)' % ','.join(constraints))"
   ]
  },
  {
   "cell_type": "code",
   "execution_count": 180,
   "metadata": {
    "slideshow": {
     "slide_type": "subslide"
    }
   },
   "outputs": [
    {
     "data": {
      "text/plain": [
       "{'a': 1, 'b': 0, 'c': 0}"
      ]
     },
     "execution_count": 180,
     "metadata": {},
     "output_type": "execute_result"
    }
   ],
   "source": [
    "acfz_roots.fuzz()"
   ]
  },
  {
   "cell_type": "markdown",
   "metadata": {
    "slideshow": {
     "slide_type": "fragment"
    }
   },
   "source": [
    "Did they take the same path?"
   ]
  },
  {
   "cell_type": "code",
   "execution_count": 181,
   "metadata": {
    "slideshow": {
     "slide_type": "fragment"
    }
   },
   "outputs": [
    {
     "data": {
      "image/svg+xml": [
       "<?xml version=\"1.0\" encoding=\"UTF-8\" standalone=\"no\"?>\n",
       "<!DOCTYPE svg PUBLIC \"-//W3C//DTD SVG 1.1//EN\"\n",
       " \"http://www.w3.org/Graphics/SVG/1.1/DTD/svg11.dtd\">\n",
       "<!-- Generated by graphviz version 2.40.1 (20161225.0304)\n",
       " -->\n",
       "<!-- Title: %3 Pages: 1 -->\n",
       "<svg width=\"420pt\" height=\"708pt\"\n",
       " viewBox=\"0.00 0.00 420.00 708.00\" xmlns=\"http://www.w3.org/2000/svg\" xmlns:xlink=\"http://www.w3.org/1999/xlink\">\n",
       "<g id=\"graph0\" class=\"graph\" transform=\"scale(1 1) rotate(0) translate(4 704)\">\n",
       "<title>%3</title>\n",
       "<polygon fill=\"#ffffff\" stroke=\"transparent\" points=\"-4,4 -4,-704 416,-704 416,4 -4,4\"/>\n",
       "<!-- 1 -->\n",
       "<g id=\"node1\" class=\"node\">\n",
       "<title>1</title>\n",
       "<ellipse fill=\"none\" stroke=\"#000000\" cx=\"206\" cy=\"-678\" rx=\"89.0824\" ry=\"18\"/>\n",
       "<ellipse fill=\"none\" stroke=\"#000000\" cx=\"206\" cy=\"-678\" rx=\"93.0842\" ry=\"22\"/>\n",
       "<text text-anchor=\"middle\" x=\"206\" y=\"-674.3\" font-family=\"Times,serif\" font-size=\"14.00\" fill=\"#000000\">1: enter: roots(a, b, c)</text>\n",
       "</g>\n",
       "<!-- 3 -->\n",
       "<g id=\"node4\" class=\"node\">\n",
       "<title>3</title>\n",
       "<polygon fill=\"none\" stroke=\"#000000\" points=\"294.5,-620 117.5,-620 117.5,-584 294.5,-584 294.5,-620\"/>\n",
       "<text text-anchor=\"middle\" x=\"206\" y=\"-598.3\" font-family=\"Times,serif\" font-size=\"14.00\" fill=\"#000000\">2: d = ((b * b) &#45; ((4 * a) * c))</text>\n",
       "</g>\n",
       "<!-- 1&#45;&gt;3 -->\n",
       "<g id=\"edge2\" class=\"edge\">\n",
       "<title>1&#45;&gt;3</title>\n",
       "<path fill=\"none\" stroke=\"#00ff00\" d=\"M206,-655.6086C206,-647.7272 206,-638.7616 206,-630.4482\"/>\n",
       "<polygon fill=\"#00ff00\" stroke=\"#00ff00\" points=\"209.5001,-630.3974 206,-620.3975 202.5001,-630.3975 209.5001,-630.3974\"/>\n",
       "</g>\n",
       "<!-- 2 -->\n",
       "<g id=\"node2\" class=\"node\">\n",
       "<title>2</title>\n",
       "<ellipse fill=\"none\" stroke=\"#000000\" cx=\"267\" cy=\"-22\" rx=\"84.4853\" ry=\"18\"/>\n",
       "<ellipse fill=\"none\" stroke=\"#000000\" cx=\"267\" cy=\"-22\" rx=\"88.485\" ry=\"22\"/>\n",
       "<text text-anchor=\"middle\" x=\"267\" y=\"-18.3\" font-family=\"Times,serif\" font-size=\"14.00\" fill=\"#000000\">1: exit: roots(a, b, c)</text>\n",
       "</g>\n",
       "<!-- 12 -->\n",
       "<g id=\"node3\" class=\"node\">\n",
       "<title>12</title>\n",
       "<polygon fill=\"none\" stroke=\"#000000\" points=\"412,-116 122,-116 122,-80 412,-80 412,-116\"/>\n",
       "<text text-anchor=\"middle\" x=\"267\" y=\"-94.3\" font-family=\"Times,serif\" font-size=\"14.00\" fill=\"#000000\">12: return (((&#45; ba2) + (s / a2)), ((&#45; ba2) &#45; (s / a2)))</text>\n",
       "</g>\n",
       "<!-- 12&#45;&gt;2 -->\n",
       "<g id=\"edge1\" class=\"edge\">\n",
       "<title>12&#45;&gt;2</title>\n",
       "<path fill=\"none\" stroke=\"#00ff00\" d=\"M267,-79.9891C267,-72.291 267,-63.0629 267,-54.2561\"/>\n",
       "<polygon fill=\"#00ff00\" stroke=\"#00ff00\" points=\"270.5001,-54.2282 267,-44.2282 263.5001,-54.2282 270.5001,-54.2282\"/>\n",
       "</g>\n",
       "<!-- 4 -->\n",
       "<g id=\"node5\" class=\"node\">\n",
       "<title>4</title>\n",
       "<polygon fill=\"none\" stroke=\"#000000\" points=\"259.5,-548 152.5,-548 152.5,-512 259.5,-512 259.5,-548\"/>\n",
       "<text text-anchor=\"middle\" x=\"206\" y=\"-526.3\" font-family=\"Times,serif\" font-size=\"14.00\" fill=\"#000000\">3: ax = (0.5 * d)</text>\n",
       "</g>\n",
       "<!-- 3&#45;&gt;4 -->\n",
       "<g id=\"edge3\" class=\"edge\">\n",
       "<title>3&#45;&gt;4</title>\n",
       "<path fill=\"none\" stroke=\"#00ff00\" d=\"M206,-583.8314C206,-576.131 206,-566.9743 206,-558.4166\"/>\n",
       "<polygon fill=\"#00ff00\" stroke=\"#00ff00\" points=\"209.5001,-558.4132 206,-548.4133 202.5001,-558.4133 209.5001,-558.4132\"/>\n",
       "</g>\n",
       "<!-- 5 -->\n",
       "<g id=\"node6\" class=\"node\">\n",
       "<title>5</title>\n",
       "<polygon fill=\"none\" stroke=\"#000000\" points=\"239.5,-476 172.5,-476 172.5,-440 239.5,-440 239.5,-476\"/>\n",
       "<text text-anchor=\"middle\" x=\"206\" y=\"-454.3\" font-family=\"Times,serif\" font-size=\"14.00\" fill=\"#000000\">4: bx = 0</text>\n",
       "</g>\n",
       "<!-- 4&#45;&gt;5 -->\n",
       "<g id=\"edge4\" class=\"edge\">\n",
       "<title>4&#45;&gt;5</title>\n",
       "<path fill=\"none\" stroke=\"#00ff00\" d=\"M206,-511.8314C206,-504.131 206,-494.9743 206,-486.4166\"/>\n",
       "<polygon fill=\"#00ff00\" stroke=\"#00ff00\" points=\"209.5001,-486.4132 206,-476.4133 202.5001,-486.4133 209.5001,-486.4132\"/>\n",
       "</g>\n",
       "<!-- 6 -->\n",
       "<g id=\"node7\" class=\"node\">\n",
       "<title>6</title>\n",
       "<polygon fill=\"none\" stroke=\"#000000\" points=\"206,-404 59.7078,-386 206,-368 352.2922,-386 206,-404\"/>\n",
       "<text text-anchor=\"middle\" x=\"206\" y=\"-382.3\" font-family=\"Times,serif\" font-size=\"14.00\" fill=\"#000000\">5: while: ((ax &#45; bx) &gt; 0.1)</text>\n",
       "</g>\n",
       "<!-- 5&#45;&gt;6 -->\n",
       "<g id=\"edge5\" class=\"edge\">\n",
       "<title>5&#45;&gt;6</title>\n",
       "<path fill=\"none\" stroke=\"#00ff00\" d=\"M206,-439.8314C206,-432.131 206,-422.9743 206,-414.4166\"/>\n",
       "<polygon fill=\"#00ff00\" stroke=\"#00ff00\" points=\"209.5001,-414.4132 206,-404.4133 202.5001,-414.4133 209.5001,-414.4132\"/>\n",
       "</g>\n",
       "<!-- 7 -->\n",
       "<g id=\"node9\" class=\"node\">\n",
       "<title>7</title>\n",
       "<polygon fill=\"none\" stroke=\"#000000\" points=\"178,-332 0,-332 0,-296 178,-296 178,-332\"/>\n",
       "<text text-anchor=\"middle\" x=\"89\" y=\"-310.3\" font-family=\"Times,serif\" font-size=\"14.00\" fill=\"#000000\">6: bx = (0.5 * (ax + (d / ax)))</text>\n",
       "</g>\n",
       "<!-- 6&#45;&gt;7 -->\n",
       "<g id=\"edge7\" class=\"edge\">\n",
       "<title>6&#45;&gt;7</title>\n",
       "<path fill=\"none\" stroke=\"#ff0000\" d=\"M181.473,-370.9064C165.8381,-361.285 145.2487,-348.6146 127.4675,-337.6723\"/>\n",
       "<polygon fill=\"#ff0000\" stroke=\"#ff0000\" points=\"128.8172,-334.3933 118.4662,-332.133 125.1484,-340.3549 128.8172,-334.3933\"/>\n",
       "</g>\n",
       "<!-- 9 -->\n",
       "<g id=\"node10\" class=\"node\">\n",
       "<title>9</title>\n",
       "<polygon fill=\"none\" stroke=\"#000000\" points=\"299.5,-332 234.5,-332 234.5,-296 299.5,-296 299.5,-332\"/>\n",
       "<text text-anchor=\"middle\" x=\"267\" y=\"-310.3\" font-family=\"Times,serif\" font-size=\"14.00\" fill=\"#000000\">8: s = bx</text>\n",
       "</g>\n",
       "<!-- 6&#45;&gt;9 -->\n",
       "<g id=\"edge9\" class=\"edge\">\n",
       "<title>6&#45;&gt;9</title>\n",
       "<path fill=\"none\" stroke=\"#00ff00\" d=\"M219.8418,-369.6621C227.3308,-360.8227 236.7525,-349.702 245.2019,-339.7289\"/>\n",
       "<polygon fill=\"#00ff00\" stroke=\"#00ff00\" points=\"247.9204,-341.9347 251.7141,-332.0423 242.5795,-337.4097 247.9204,-341.9347\"/>\n",
       "</g>\n",
       "<!-- 8 -->\n",
       "<g id=\"node8\" class=\"node\">\n",
       "<title>8</title>\n",
       "<polygon fill=\"none\" stroke=\"#000000\" points=\"161.5,-260 88.5,-260 88.5,-224 161.5,-224 161.5,-260\"/>\n",
       "<text text-anchor=\"middle\" x=\"125\" y=\"-238.3\" font-family=\"Times,serif\" font-size=\"14.00\" fill=\"#000000\">7: ax = bx</text>\n",
       "</g>\n",
       "<!-- 8&#45;&gt;6 -->\n",
       "<g id=\"edge6\" class=\"edge\">\n",
       "<title>8&#45;&gt;6</title>\n",
       "<path fill=\"none\" stroke=\"#ff0000\" d=\"M153.1393,-260.2182C165.3292,-269.5118 178.6852,-281.8464 187,-296 198.0219,-314.7616 202.6934,-339.048 204.6523,-357.6628\"/>\n",
       "<polygon fill=\"#ff0000\" stroke=\"#ff0000\" points=\"201.1864,-358.2148 205.5196,-367.883 208.1613,-357.6228 201.1864,-358.2148\"/>\n",
       "</g>\n",
       "<!-- 7&#45;&gt;8 -->\n",
       "<g id=\"edge8\" class=\"edge\">\n",
       "<title>7&#45;&gt;8</title>\n",
       "<path fill=\"none\" stroke=\"#ff0000\" d=\"M98.0843,-295.8314C102.0615,-287.8771 106.8155,-278.369 111.2139,-269.5723\"/>\n",
       "<polygon fill=\"#ff0000\" stroke=\"#ff0000\" points=\"114.4517,-270.9228 115.7934,-260.4133 108.1907,-267.7923 114.4517,-270.9228\"/>\n",
       "</g>\n",
       "<!-- 10 -->\n",
       "<g id=\"node11\" class=\"node\">\n",
       "<title>10</title>\n",
       "<polygon fill=\"none\" stroke=\"#000000\" points=\"318.5,-260 215.5,-260 215.5,-224 318.5,-224 318.5,-260\"/>\n",
       "<text text-anchor=\"middle\" x=\"267\" y=\"-238.3\" font-family=\"Times,serif\" font-size=\"14.00\" fill=\"#000000\">10: a2 = (2 * a)</text>\n",
       "</g>\n",
       "<!-- 9&#45;&gt;10 -->\n",
       "<g id=\"edge10\" class=\"edge\">\n",
       "<title>9&#45;&gt;10</title>\n",
       "<path fill=\"none\" stroke=\"#00ff00\" d=\"M267,-295.8314C267,-288.131 267,-278.9743 267,-270.4166\"/>\n",
       "<polygon fill=\"#00ff00\" stroke=\"#00ff00\" points=\"270.5001,-270.4132 267,-260.4133 263.5001,-270.4133 270.5001,-270.4132\"/>\n",
       "</g>\n",
       "<!-- 11 -->\n",
       "<g id=\"node12\" class=\"node\">\n",
       "<title>11</title>\n",
       "<polygon fill=\"none\" stroke=\"#000000\" points=\"323.5,-188 210.5,-188 210.5,-152 323.5,-152 323.5,-188\"/>\n",
       "<text text-anchor=\"middle\" x=\"267\" y=\"-166.3\" font-family=\"Times,serif\" font-size=\"14.00\" fill=\"#000000\">11: ba2 = (b / a2)</text>\n",
       "</g>\n",
       "<!-- 10&#45;&gt;11 -->\n",
       "<g id=\"edge11\" class=\"edge\">\n",
       "<title>10&#45;&gt;11</title>\n",
       "<path fill=\"none\" stroke=\"#00ff00\" d=\"M267,-223.8314C267,-216.131 267,-206.9743 267,-198.4166\"/>\n",
       "<polygon fill=\"#00ff00\" stroke=\"#00ff00\" points=\"270.5001,-198.4132 267,-188.4133 263.5001,-198.4133 270.5001,-198.4132\"/>\n",
       "</g>\n",
       "<!-- 11&#45;&gt;12 -->\n",
       "<g id=\"edge12\" class=\"edge\">\n",
       "<title>11&#45;&gt;12</title>\n",
       "<path fill=\"none\" stroke=\"#00ff00\" d=\"M267,-151.8314C267,-144.131 267,-134.9743 267,-126.4166\"/>\n",
       "<polygon fill=\"#00ff00\" stroke=\"#00ff00\" points=\"270.5001,-126.4132 267,-116.4133 263.5001,-126.4133 270.5001,-126.4132\"/>\n",
       "</g>\n",
       "</g>\n",
       "</svg>\n"
      ],
      "text/plain": [
       "<graphviz.files.Source at 0x118fdcd30>"
      ]
     },
     "execution_count": 181,
     "metadata": {},
     "output_type": "execute_result"
    }
   ],
   "source": [
    "with Tracer() as cov:\n",
    "    roots(1, 1, 1)\n",
    "Source(to_graph(gen_cfg(inspect.getsource(roots)), arcs=cov_to_arcs(cov)))"
   ]
  },
  {
   "cell_type": "code",
   "execution_count": 182,
   "metadata": {
    "slideshow": {
     "slide_type": "fragment"
    }
   },
   "outputs": [
    {
     "data": {
      "image/svg+xml": [
       "<?xml version=\"1.0\" encoding=\"UTF-8\" standalone=\"no\"?>\n",
       "<!DOCTYPE svg PUBLIC \"-//W3C//DTD SVG 1.1//EN\"\n",
       " \"http://www.w3.org/Graphics/SVG/1.1/DTD/svg11.dtd\">\n",
       "<!-- Generated by graphviz version 2.40.1 (20161225.0304)\n",
       " -->\n",
       "<!-- Title: %3 Pages: 1 -->\n",
       "<svg width=\"420pt\" height=\"708pt\"\n",
       " viewBox=\"0.00 0.00 420.00 708.00\" xmlns=\"http://www.w3.org/2000/svg\" xmlns:xlink=\"http://www.w3.org/1999/xlink\">\n",
       "<g id=\"graph0\" class=\"graph\" transform=\"scale(1 1) rotate(0) translate(4 704)\">\n",
       "<title>%3</title>\n",
       "<polygon fill=\"#ffffff\" stroke=\"transparent\" points=\"-4,4 -4,-704 416,-704 416,4 -4,4\"/>\n",
       "<!-- 1 -->\n",
       "<g id=\"node1\" class=\"node\">\n",
       "<title>1</title>\n",
       "<ellipse fill=\"none\" stroke=\"#000000\" cx=\"206\" cy=\"-678\" rx=\"89.0824\" ry=\"18\"/>\n",
       "<ellipse fill=\"none\" stroke=\"#000000\" cx=\"206\" cy=\"-678\" rx=\"93.0842\" ry=\"22\"/>\n",
       "<text text-anchor=\"middle\" x=\"206\" y=\"-674.3\" font-family=\"Times,serif\" font-size=\"14.00\" fill=\"#000000\">1: enter: roots(a, b, c)</text>\n",
       "</g>\n",
       "<!-- 3 -->\n",
       "<g id=\"node4\" class=\"node\">\n",
       "<title>3</title>\n",
       "<polygon fill=\"none\" stroke=\"#000000\" points=\"294.5,-620 117.5,-620 117.5,-584 294.5,-584 294.5,-620\"/>\n",
       "<text text-anchor=\"middle\" x=\"206\" y=\"-598.3\" font-family=\"Times,serif\" font-size=\"14.00\" fill=\"#000000\">2: d = ((b * b) &#45; ((4 * a) * c))</text>\n",
       "</g>\n",
       "<!-- 1&#45;&gt;3 -->\n",
       "<g id=\"edge2\" class=\"edge\">\n",
       "<title>1&#45;&gt;3</title>\n",
       "<path fill=\"none\" stroke=\"#00ff00\" d=\"M206,-655.6086C206,-647.7272 206,-638.7616 206,-630.4482\"/>\n",
       "<polygon fill=\"#00ff00\" stroke=\"#00ff00\" points=\"209.5001,-630.3974 206,-620.3975 202.5001,-630.3975 209.5001,-630.3974\"/>\n",
       "</g>\n",
       "<!-- 2 -->\n",
       "<g id=\"node2\" class=\"node\">\n",
       "<title>2</title>\n",
       "<ellipse fill=\"none\" stroke=\"#000000\" cx=\"267\" cy=\"-22\" rx=\"84.4853\" ry=\"18\"/>\n",
       "<ellipse fill=\"none\" stroke=\"#000000\" cx=\"267\" cy=\"-22\" rx=\"88.485\" ry=\"22\"/>\n",
       "<text text-anchor=\"middle\" x=\"267\" y=\"-18.3\" font-family=\"Times,serif\" font-size=\"14.00\" fill=\"#000000\">1: exit: roots(a, b, c)</text>\n",
       "</g>\n",
       "<!-- 12 -->\n",
       "<g id=\"node3\" class=\"node\">\n",
       "<title>12</title>\n",
       "<polygon fill=\"none\" stroke=\"#000000\" points=\"412,-116 122,-116 122,-80 412,-80 412,-116\"/>\n",
       "<text text-anchor=\"middle\" x=\"267\" y=\"-94.3\" font-family=\"Times,serif\" font-size=\"14.00\" fill=\"#000000\">12: return (((&#45; ba2) + (s / a2)), ((&#45; ba2) &#45; (s / a2)))</text>\n",
       "</g>\n",
       "<!-- 12&#45;&gt;2 -->\n",
       "<g id=\"edge1\" class=\"edge\">\n",
       "<title>12&#45;&gt;2</title>\n",
       "<path fill=\"none\" stroke=\"#00ff00\" d=\"M267,-79.9891C267,-72.291 267,-63.0629 267,-54.2561\"/>\n",
       "<polygon fill=\"#00ff00\" stroke=\"#00ff00\" points=\"270.5001,-54.2282 267,-44.2282 263.5001,-54.2282 270.5001,-54.2282\"/>\n",
       "</g>\n",
       "<!-- 4 -->\n",
       "<g id=\"node5\" class=\"node\">\n",
       "<title>4</title>\n",
       "<polygon fill=\"none\" stroke=\"#000000\" points=\"259.5,-548 152.5,-548 152.5,-512 259.5,-512 259.5,-548\"/>\n",
       "<text text-anchor=\"middle\" x=\"206\" y=\"-526.3\" font-family=\"Times,serif\" font-size=\"14.00\" fill=\"#000000\">3: ax = (0.5 * d)</text>\n",
       "</g>\n",
       "<!-- 3&#45;&gt;4 -->\n",
       "<g id=\"edge3\" class=\"edge\">\n",
       "<title>3&#45;&gt;4</title>\n",
       "<path fill=\"none\" stroke=\"#00ff00\" d=\"M206,-583.8314C206,-576.131 206,-566.9743 206,-558.4166\"/>\n",
       "<polygon fill=\"#00ff00\" stroke=\"#00ff00\" points=\"209.5001,-558.4132 206,-548.4133 202.5001,-558.4133 209.5001,-558.4132\"/>\n",
       "</g>\n",
       "<!-- 5 -->\n",
       "<g id=\"node6\" class=\"node\">\n",
       "<title>5</title>\n",
       "<polygon fill=\"none\" stroke=\"#000000\" points=\"239.5,-476 172.5,-476 172.5,-440 239.5,-440 239.5,-476\"/>\n",
       "<text text-anchor=\"middle\" x=\"206\" y=\"-454.3\" font-family=\"Times,serif\" font-size=\"14.00\" fill=\"#000000\">4: bx = 0</text>\n",
       "</g>\n",
       "<!-- 4&#45;&gt;5 -->\n",
       "<g id=\"edge4\" class=\"edge\">\n",
       "<title>4&#45;&gt;5</title>\n",
       "<path fill=\"none\" stroke=\"#00ff00\" d=\"M206,-511.8314C206,-504.131 206,-494.9743 206,-486.4166\"/>\n",
       "<polygon fill=\"#00ff00\" stroke=\"#00ff00\" points=\"209.5001,-486.4132 206,-476.4133 202.5001,-486.4133 209.5001,-486.4132\"/>\n",
       "</g>\n",
       "<!-- 6 -->\n",
       "<g id=\"node7\" class=\"node\">\n",
       "<title>6</title>\n",
       "<polygon fill=\"none\" stroke=\"#000000\" points=\"206,-404 59.7078,-386 206,-368 352.2922,-386 206,-404\"/>\n",
       "<text text-anchor=\"middle\" x=\"206\" y=\"-382.3\" font-family=\"Times,serif\" font-size=\"14.00\" fill=\"#000000\">5: while: ((ax &#45; bx) &gt; 0.1)</text>\n",
       "</g>\n",
       "<!-- 5&#45;&gt;6 -->\n",
       "<g id=\"edge5\" class=\"edge\">\n",
       "<title>5&#45;&gt;6</title>\n",
       "<path fill=\"none\" stroke=\"#00ff00\" d=\"M206,-439.8314C206,-432.131 206,-422.9743 206,-414.4166\"/>\n",
       "<polygon fill=\"#00ff00\" stroke=\"#00ff00\" points=\"209.5001,-414.4132 206,-404.4133 202.5001,-414.4133 209.5001,-414.4132\"/>\n",
       "</g>\n",
       "<!-- 7 -->\n",
       "<g id=\"node9\" class=\"node\">\n",
       "<title>7</title>\n",
       "<polygon fill=\"none\" stroke=\"#000000\" points=\"178,-332 0,-332 0,-296 178,-296 178,-332\"/>\n",
       "<text text-anchor=\"middle\" x=\"89\" y=\"-310.3\" font-family=\"Times,serif\" font-size=\"14.00\" fill=\"#000000\">6: bx = (0.5 * (ax + (d / ax)))</text>\n",
       "</g>\n",
       "<!-- 6&#45;&gt;7 -->\n",
       "<g id=\"edge7\" class=\"edge\">\n",
       "<title>6&#45;&gt;7</title>\n",
       "<path fill=\"none\" stroke=\"#ff0000\" d=\"M181.473,-370.9064C165.8381,-361.285 145.2487,-348.6146 127.4675,-337.6723\"/>\n",
       "<polygon fill=\"#ff0000\" stroke=\"#ff0000\" points=\"128.8172,-334.3933 118.4662,-332.133 125.1484,-340.3549 128.8172,-334.3933\"/>\n",
       "</g>\n",
       "<!-- 9 -->\n",
       "<g id=\"node10\" class=\"node\">\n",
       "<title>9</title>\n",
       "<polygon fill=\"none\" stroke=\"#000000\" points=\"299.5,-332 234.5,-332 234.5,-296 299.5,-296 299.5,-332\"/>\n",
       "<text text-anchor=\"middle\" x=\"267\" y=\"-310.3\" font-family=\"Times,serif\" font-size=\"14.00\" fill=\"#000000\">8: s = bx</text>\n",
       "</g>\n",
       "<!-- 6&#45;&gt;9 -->\n",
       "<g id=\"edge9\" class=\"edge\">\n",
       "<title>6&#45;&gt;9</title>\n",
       "<path fill=\"none\" stroke=\"#00ff00\" d=\"M219.8418,-369.6621C227.3308,-360.8227 236.7525,-349.702 245.2019,-339.7289\"/>\n",
       "<polygon fill=\"#00ff00\" stroke=\"#00ff00\" points=\"247.9204,-341.9347 251.7141,-332.0423 242.5795,-337.4097 247.9204,-341.9347\"/>\n",
       "</g>\n",
       "<!-- 8 -->\n",
       "<g id=\"node8\" class=\"node\">\n",
       "<title>8</title>\n",
       "<polygon fill=\"none\" stroke=\"#000000\" points=\"161.5,-260 88.5,-260 88.5,-224 161.5,-224 161.5,-260\"/>\n",
       "<text text-anchor=\"middle\" x=\"125\" y=\"-238.3\" font-family=\"Times,serif\" font-size=\"14.00\" fill=\"#000000\">7: ax = bx</text>\n",
       "</g>\n",
       "<!-- 8&#45;&gt;6 -->\n",
       "<g id=\"edge6\" class=\"edge\">\n",
       "<title>8&#45;&gt;6</title>\n",
       "<path fill=\"none\" stroke=\"#ff0000\" d=\"M153.1393,-260.2182C165.3292,-269.5118 178.6852,-281.8464 187,-296 198.0219,-314.7616 202.6934,-339.048 204.6523,-357.6628\"/>\n",
       "<polygon fill=\"#ff0000\" stroke=\"#ff0000\" points=\"201.1864,-358.2148 205.5196,-367.883 208.1613,-357.6228 201.1864,-358.2148\"/>\n",
       "</g>\n",
       "<!-- 7&#45;&gt;8 -->\n",
       "<g id=\"edge8\" class=\"edge\">\n",
       "<title>7&#45;&gt;8</title>\n",
       "<path fill=\"none\" stroke=\"#ff0000\" d=\"M98.0843,-295.8314C102.0615,-287.8771 106.8155,-278.369 111.2139,-269.5723\"/>\n",
       "<polygon fill=\"#ff0000\" stroke=\"#ff0000\" points=\"114.4517,-270.9228 115.7934,-260.4133 108.1907,-267.7923 114.4517,-270.9228\"/>\n",
       "</g>\n",
       "<!-- 10 -->\n",
       "<g id=\"node11\" class=\"node\">\n",
       "<title>10</title>\n",
       "<polygon fill=\"none\" stroke=\"#000000\" points=\"318.5,-260 215.5,-260 215.5,-224 318.5,-224 318.5,-260\"/>\n",
       "<text text-anchor=\"middle\" x=\"267\" y=\"-238.3\" font-family=\"Times,serif\" font-size=\"14.00\" fill=\"#000000\">10: a2 = (2 * a)</text>\n",
       "</g>\n",
       "<!-- 9&#45;&gt;10 -->\n",
       "<g id=\"edge10\" class=\"edge\">\n",
       "<title>9&#45;&gt;10</title>\n",
       "<path fill=\"none\" stroke=\"#00ff00\" d=\"M267,-295.8314C267,-288.131 267,-278.9743 267,-270.4166\"/>\n",
       "<polygon fill=\"#00ff00\" stroke=\"#00ff00\" points=\"270.5001,-270.4132 267,-260.4133 263.5001,-270.4133 270.5001,-270.4132\"/>\n",
       "</g>\n",
       "<!-- 11 -->\n",
       "<g id=\"node12\" class=\"node\">\n",
       "<title>11</title>\n",
       "<polygon fill=\"none\" stroke=\"#000000\" points=\"323.5,-188 210.5,-188 210.5,-152 323.5,-152 323.5,-188\"/>\n",
       "<text text-anchor=\"middle\" x=\"267\" y=\"-166.3\" font-family=\"Times,serif\" font-size=\"14.00\" fill=\"#000000\">11: ba2 = (b / a2)</text>\n",
       "</g>\n",
       "<!-- 10&#45;&gt;11 -->\n",
       "<g id=\"edge11\" class=\"edge\">\n",
       "<title>10&#45;&gt;11</title>\n",
       "<path fill=\"none\" stroke=\"#00ff00\" d=\"M267,-223.8314C267,-216.131 267,-206.9743 267,-198.4166\"/>\n",
       "<polygon fill=\"#00ff00\" stroke=\"#00ff00\" points=\"270.5001,-198.4132 267,-188.4133 263.5001,-198.4133 270.5001,-198.4132\"/>\n",
       "</g>\n",
       "<!-- 11&#45;&gt;12 -->\n",
       "<g id=\"edge12\" class=\"edge\">\n",
       "<title>11&#45;&gt;12</title>\n",
       "<path fill=\"none\" stroke=\"#00ff00\" d=\"M267,-151.8314C267,-144.131 267,-134.9743 267,-126.4166\"/>\n",
       "<polygon fill=\"#00ff00\" stroke=\"#00ff00\" points=\"270.5001,-126.4132 267,-116.4133 263.5001,-126.4133 270.5001,-126.4132\"/>\n",
       "</g>\n",
       "</g>\n",
       "</svg>\n"
      ],
      "text/plain": [
       "<graphviz.files.Source at 0x11901c128>"
      ]
     },
     "execution_count": 182,
     "metadata": {},
     "output_type": "execute_result"
    }
   ],
   "source": [
    "with Tracer() as cov:\n",
    "    roots(1, 1 / 8, 1)\n",
    "Source(to_graph(gen_cfg(inspect.getsource(roots)), arcs=cov_to_arcs(cov)))"
   ]
  },
  {
   "cell_type": "markdown",
   "metadata": {
    "slideshow": {
     "slide_type": "fragment"
    }
   },
   "source": [
    "Remember our constraints"
   ]
  },
  {
   "cell_type": "code",
   "execution_count": 183,
   "metadata": {
    "slideshow": {
     "slide_type": "subslide"
    }
   },
   "outputs": [
    {
     "data": {
      "text/plain": [
       "['z3.And((a == _a_0), (b == _b_0), (c == _c_0))',\n",
       " '(_d_0 == ((_b_0 * _b_0) - ((4 * _a_0) * _c_0)))',\n",
       " '(_xa_0 == (0.5 * _d_0))',\n",
       " '(_xb_0 == 0)',\n",
       " 'z3.Not(((_xa_0 - _xb_0) > 0.1))',\n",
       " '(_s_0 == _xb_0)',\n",
       " 'z3.Not((_a_0 == 0))',\n",
       " '(_a2_0 == (2 * _a_0))',\n",
       " '(_ba2_0 == (_b_0 / _a2_0))']"
      ]
     },
     "execution_count": 183,
     "metadata": {},
     "output_type": "execute_result"
    }
   ],
   "source": [
    "constraints"
   ]
  },
  {
   "cell_type": "markdown",
   "metadata": {
    "slideshow": {
     "slide_type": "subslide"
    }
   },
   "source": [
    "#### Exploring nearby paths\n",
    "\n",
    "We can explore nearby paths by negating some of the predicates."
   ]
  },
  {
   "cell_type": "code",
   "execution_count": 184,
   "metadata": {
    "slideshow": {
     "slide_type": "fragment"
    }
   },
   "outputs": [],
   "source": [
    "new_constraints = constraints[0:4] + ['z3.Not(%s)' % constraints[4]]"
   ]
  },
  {
   "cell_type": "code",
   "execution_count": 185,
   "metadata": {
    "slideshow": {
     "slide_type": "fragment"
    }
   },
   "outputs": [
    {
     "data": {
      "text/plain": [
       "['z3.And((a == _a_0), (b == _b_0), (c == _c_0))',\n",
       " '(_d_0 == ((_b_0 * _b_0) - ((4 * _a_0) * _c_0)))',\n",
       " '(_xa_0 == (0.5 * _d_0))',\n",
       " '(_xb_0 == 0)',\n",
       " 'z3.Not(z3.Not(((_xa_0 - _xb_0) > 0.1)))']"
      ]
     },
     "execution_count": 185,
     "metadata": {},
     "output_type": "execute_result"
    }
   ],
   "source": [
    "new_constraints"
   ]
  },
  {
   "cell_type": "code",
   "execution_count": 186,
   "metadata": {
    "slideshow": {
     "slide_type": "subslide"
    }
   },
   "outputs": [
    {
     "name": "stdout",
     "output_type": "stream",
     "text": [
      "[_b_0 = 0,\n",
      " _c_0 = 1,\n",
      " _a_0 = -11/20,\n",
      " _xb_0 = 0,\n",
      " _xa_0 = 11/10,\n",
      " _d_0 = 11/5,\n",
      " c = 1,\n",
      " b = 0,\n",
      " a = -11/20]\n"
     ]
    }
   ],
   "source": [
    "eval('z3.solve(%s)' % ','.join(new_constraints))"
   ]
  },
  {
   "cell_type": "code",
   "execution_count": 187,
   "metadata": {
    "slideshow": {
     "slide_type": "fragment"
    }
   },
   "outputs": [
    {
     "data": {
      "image/svg+xml": [
       "<?xml version=\"1.0\" encoding=\"UTF-8\" standalone=\"no\"?>\n",
       "<!DOCTYPE svg PUBLIC \"-//W3C//DTD SVG 1.1//EN\"\n",
       " \"http://www.w3.org/Graphics/SVG/1.1/DTD/svg11.dtd\">\n",
       "<!-- Generated by graphviz version 2.40.1 (20161225.0304)\n",
       " -->\n",
       "<!-- Title: %3 Pages: 1 -->\n",
       "<svg width=\"582pt\" height=\"780pt\"\n",
       " viewBox=\"0.00 0.00 582.00 780.00\" xmlns=\"http://www.w3.org/2000/svg\" xmlns:xlink=\"http://www.w3.org/1999/xlink\">\n",
       "<g id=\"graph0\" class=\"graph\" transform=\"scale(1 1) rotate(0) translate(4 776)\">\n",
       "<title>%3</title>\n",
       "<polygon fill=\"#ffffff\" stroke=\"transparent\" points=\"-4,4 -4,-776 578,-776 578,4 -4,4\"/>\n",
       "<!-- 1 -->\n",
       "<g id=\"node1\" class=\"node\">\n",
       "<title>1</title>\n",
       "<ellipse fill=\"none\" stroke=\"#000000\" cx=\"235\" cy=\"-750\" rx=\"93.6797\" ry=\"18\"/>\n",
       "<ellipse fill=\"none\" stroke=\"#000000\" cx=\"235\" cy=\"-750\" rx=\"97.6835\" ry=\"22\"/>\n",
       "<text text-anchor=\"middle\" x=\"235\" y=\"-746.3\" font-family=\"Times,serif\" font-size=\"14.00\" fill=\"#000000\">1: enter: roots3(a, b, c)</text>\n",
       "</g>\n",
       "<!-- 3 -->\n",
       "<g id=\"node6\" class=\"node\">\n",
       "<title>3</title>\n",
       "<polygon fill=\"none\" stroke=\"#000000\" points=\"323.5,-692 146.5,-692 146.5,-656 323.5,-656 323.5,-692\"/>\n",
       "<text text-anchor=\"middle\" x=\"235\" y=\"-670.3\" font-family=\"Times,serif\" font-size=\"14.00\" fill=\"#000000\">2: d = ((b * b) &#45; ((4 * a) * c))</text>\n",
       "</g>\n",
       "<!-- 1&#45;&gt;3 -->\n",
       "<g id=\"edge4\" class=\"edge\">\n",
       "<title>1&#45;&gt;3</title>\n",
       "<path fill=\"none\" stroke=\"#00ff00\" d=\"M235,-727.6086C235,-719.7272 235,-710.7616 235,-702.4482\"/>\n",
       "<polygon fill=\"#00ff00\" stroke=\"#00ff00\" points=\"238.5001,-702.3974 235,-692.3975 231.5001,-702.3975 238.5001,-702.3974\"/>\n",
       "</g>\n",
       "<!-- 2 -->\n",
       "<g id=\"node2\" class=\"node\">\n",
       "<title>2</title>\n",
       "<ellipse fill=\"none\" stroke=\"#000000\" cx=\"203\" cy=\"-22\" rx=\"89.0824\" ry=\"18\"/>\n",
       "<ellipse fill=\"none\" stroke=\"#000000\" cx=\"203\" cy=\"-22\" rx=\"93.0842\" ry=\"22\"/>\n",
       "<text text-anchor=\"middle\" x=\"203\" y=\"-18.3\" font-family=\"Times,serif\" font-size=\"14.00\" fill=\"#000000\">1: exit: roots3(a, b, c)</text>\n",
       "</g>\n",
       "<!-- 12 -->\n",
       "<g id=\"node3\" class=\"node\">\n",
       "<title>12</title>\n",
       "<polygon fill=\"none\" stroke=\"#000000\" points=\"122,-116 0,-116 0,-80 122,-80 122,-116\"/>\n",
       "<text text-anchor=\"middle\" x=\"61\" y=\"-94.3\" font-family=\"Times,serif\" font-size=\"14.00\" fill=\"#000000\">13: return math.inf</text>\n",
       "</g>\n",
       "<!-- 12&#45;&gt;2 -->\n",
       "<g id=\"edge1\" class=\"edge\">\n",
       "<title>12&#45;&gt;2</title>\n",
       "<path fill=\"none\" stroke=\"#ff0000\" d=\"M94.652,-79.9891C113.0726,-70.1302 136.1819,-57.7618 156.3215,-46.9829\"/>\n",
       "<polygon fill=\"#ff0000\" stroke=\"#ff0000\" points=\"158.1732,-49.9616 165.3383,-42.157 154.8701,-43.7899 158.1732,-49.9616\"/>\n",
       "</g>\n",
       "<!-- 13 -->\n",
       "<g id=\"node4\" class=\"node\">\n",
       "<title>13</title>\n",
       "<polygon fill=\"none\" stroke=\"#000000\" points=\"266,-116 140,-116 140,-80 266,-80 266,-116\"/>\n",
       "<text text-anchor=\"middle\" x=\"203\" y=\"-94.3\" font-family=\"Times,serif\" font-size=\"14.00\" fill=\"#000000\">14: return ((&#45; c) / b)</text>\n",
       "</g>\n",
       "<!-- 13&#45;&gt;2 -->\n",
       "<g id=\"edge2\" class=\"edge\">\n",
       "<title>13&#45;&gt;2</title>\n",
       "<path fill=\"none\" stroke=\"#ff0000\" d=\"M203,-79.9891C203,-72.291 203,-63.0629 203,-54.2561\"/>\n",
       "<polygon fill=\"#ff0000\" stroke=\"#ff0000\" points=\"206.5001,-54.2282 203,-44.2282 199.5001,-54.2282 206.5001,-54.2282\"/>\n",
       "</g>\n",
       "<!-- 16 -->\n",
       "<g id=\"node5\" class=\"node\">\n",
       "<title>16</title>\n",
       "<polygon fill=\"none\" stroke=\"#000000\" points=\"574,-116 284,-116 284,-80 574,-80 574,-116\"/>\n",
       "<text text-anchor=\"middle\" x=\"429\" y=\"-94.3\" font-family=\"Times,serif\" font-size=\"14.00\" fill=\"#000000\">18: return (((&#45; ba2) + (s / a2)), ((&#45; ba2) &#45; (s / a2)))</text>\n",
       "</g>\n",
       "<!-- 16&#45;&gt;2 -->\n",
       "<g id=\"edge3\" class=\"edge\">\n",
       "<title>16&#45;&gt;2</title>\n",
       "<path fill=\"none\" stroke=\"#00ff00\" d=\"M375.4412,-79.9891C342.6302,-68.9553 300.4724,-54.7783 266.0539,-43.204\"/>\n",
       "<polygon fill=\"#00ff00\" stroke=\"#00ff00\" points=\"267.1596,-39.8832 256.5656,-40.0132 264.9284,-46.5181 267.1596,-39.8832\"/>\n",
       "</g>\n",
       "<!-- 4 -->\n",
       "<g id=\"node7\" class=\"node\">\n",
       "<title>4</title>\n",
       "<polygon fill=\"none\" stroke=\"#000000\" points=\"288.5,-620 181.5,-620 181.5,-584 288.5,-584 288.5,-620\"/>\n",
       "<text text-anchor=\"middle\" x=\"235\" y=\"-598.3\" font-family=\"Times,serif\" font-size=\"14.00\" fill=\"#000000\">4: xa = (0.5 * d)</text>\n",
       "</g>\n",
       "<!-- 3&#45;&gt;4 -->\n",
       "<g id=\"edge5\" class=\"edge\">\n",
       "<title>3&#45;&gt;4</title>\n",
       "<path fill=\"none\" stroke=\"#00ff00\" d=\"M235,-655.8314C235,-648.131 235,-638.9743 235,-630.4166\"/>\n",
       "<polygon fill=\"#00ff00\" stroke=\"#00ff00\" points=\"238.5001,-630.4132 235,-620.4133 231.5001,-630.4133 238.5001,-630.4132\"/>\n",
       "</g>\n",
       "<!-- 5 -->\n",
       "<g id=\"node8\" class=\"node\">\n",
       "<title>5</title>\n",
       "<polygon fill=\"none\" stroke=\"#000000\" points=\"268.5,-548 201.5,-548 201.5,-512 268.5,-512 268.5,-548\"/>\n",
       "<text text-anchor=\"middle\" x=\"235\" y=\"-526.3\" font-family=\"Times,serif\" font-size=\"14.00\" fill=\"#000000\">5: xb = 0</text>\n",
       "</g>\n",
       "<!-- 4&#45;&gt;5 -->\n",
       "<g id=\"edge6\" class=\"edge\">\n",
       "<title>4&#45;&gt;5</title>\n",
       "<path fill=\"none\" stroke=\"#00ff00\" d=\"M235,-583.8314C235,-576.131 235,-566.9743 235,-558.4166\"/>\n",
       "<polygon fill=\"#00ff00\" stroke=\"#00ff00\" points=\"238.5001,-558.4132 235,-548.4133 231.5001,-558.4133 238.5001,-558.4132\"/>\n",
       "</g>\n",
       "<!-- 6 -->\n",
       "<g id=\"node9\" class=\"node\">\n",
       "<title>6</title>\n",
       "<polygon fill=\"none\" stroke=\"#000000\" points=\"235,-476 88.7078,-458 235,-440 381.2922,-458 235,-476\"/>\n",
       "<text text-anchor=\"middle\" x=\"235\" y=\"-454.3\" font-family=\"Times,serif\" font-size=\"14.00\" fill=\"#000000\">6: while: ((xa &#45; xb) &gt; 0.1)</text>\n",
       "</g>\n",
       "<!-- 5&#45;&gt;6 -->\n",
       "<g id=\"edge7\" class=\"edge\">\n",
       "<title>5&#45;&gt;6</title>\n",
       "<path fill=\"none\" stroke=\"#00ff00\" d=\"M235,-511.8314C235,-504.131 235,-494.9743 235,-486.4166\"/>\n",
       "<polygon fill=\"#00ff00\" stroke=\"#00ff00\" points=\"238.5001,-486.4132 235,-476.4133 231.5001,-486.4133 238.5001,-486.4132\"/>\n",
       "</g>\n",
       "<!-- 7 -->\n",
       "<g id=\"node11\" class=\"node\">\n",
       "<title>7</title>\n",
       "<polygon fill=\"none\" stroke=\"#000000\" points=\"207,-404 29,-404 29,-368 207,-368 207,-404\"/>\n",
       "<text text-anchor=\"middle\" x=\"118\" y=\"-382.3\" font-family=\"Times,serif\" font-size=\"14.00\" fill=\"#000000\">7: xb = (0.5 * (xa + (d / xa)))</text>\n",
       "</g>\n",
       "<!-- 6&#45;&gt;7 -->\n",
       "<g id=\"edge9\" class=\"edge\">\n",
       "<title>6&#45;&gt;7</title>\n",
       "<path fill=\"none\" stroke=\"#00ff00\" d=\"M210.473,-442.9064C194.8381,-433.285 174.2487,-420.6146 156.4675,-409.6723\"/>\n",
       "<polygon fill=\"#00ff00\" stroke=\"#00ff00\" points=\"157.8172,-406.3933 147.4662,-404.133 154.1484,-412.3549 157.8172,-406.3933\"/>\n",
       "</g>\n",
       "<!-- 9 -->\n",
       "<g id=\"node12\" class=\"node\">\n",
       "<title>9</title>\n",
       "<polygon fill=\"none\" stroke=\"#000000\" points=\"328.5,-404 263.5,-404 263.5,-368 328.5,-368 328.5,-404\"/>\n",
       "<text text-anchor=\"middle\" x=\"296\" y=\"-382.3\" font-family=\"Times,serif\" font-size=\"14.00\" fill=\"#000000\">9: s = xb</text>\n",
       "</g>\n",
       "<!-- 6&#45;&gt;9 -->\n",
       "<g id=\"edge11\" class=\"edge\">\n",
       "<title>6&#45;&gt;9</title>\n",
       "<path fill=\"none\" stroke=\"#00ff00\" d=\"M248.8418,-441.6621C256.3308,-432.8227 265.7525,-421.702 274.2019,-411.7289\"/>\n",
       "<polygon fill=\"#00ff00\" stroke=\"#00ff00\" points=\"276.9204,-413.9347 280.7141,-404.0423 271.5795,-409.4097 276.9204,-413.9347\"/>\n",
       "</g>\n",
       "<!-- 8 -->\n",
       "<g id=\"node10\" class=\"node\">\n",
       "<title>8</title>\n",
       "<polygon fill=\"none\" stroke=\"#000000\" points=\"171.5,-332 98.5,-332 98.5,-296 171.5,-296 171.5,-332\"/>\n",
       "<text text-anchor=\"middle\" x=\"135\" y=\"-310.3\" font-family=\"Times,serif\" font-size=\"14.00\" fill=\"#000000\">8: xa = xb</text>\n",
       "</g>\n",
       "<!-- 8&#45;&gt;6 -->\n",
       "<g id=\"edge8\" class=\"edge\">\n",
       "<title>8&#45;&gt;6</title>\n",
       "<path fill=\"none\" stroke=\"#00ff00\" d=\"M171.7279,-330.4547C187.6463,-339.3772 205.099,-351.9086 216,-368 228.3363,-386.2102 232.8981,-410.8777 234.4801,-429.7828\"/>\n",
       "<polygon fill=\"#00ff00\" stroke=\"#00ff00\" points=\"230.9938,-430.1153 235.0933,-439.8848 237.9809,-429.6911 230.9938,-430.1153\"/>\n",
       "</g>\n",
       "<!-- 7&#45;&gt;8 -->\n",
       "<g id=\"edge10\" class=\"edge\">\n",
       "<title>7&#45;&gt;8</title>\n",
       "<path fill=\"none\" stroke=\"#00ff00\" d=\"M122.2898,-367.8314C124.108,-360.131 126.2699,-350.9743 128.2905,-342.4166\"/>\n",
       "<polygon fill=\"#00ff00\" stroke=\"#00ff00\" points=\"131.7608,-342.95 130.6524,-332.4133 124.9481,-341.3414 131.7608,-342.95\"/>\n",
       "</g>\n",
       "<!-- 10 -->\n",
       "<g id=\"node13\" class=\"node\">\n",
       "<title>10</title>\n",
       "<polygon fill=\"none\" stroke=\"#000000\" points=\"296,-332 205.0069,-314 296,-296 386.9931,-314 296,-332\"/>\n",
       "<text text-anchor=\"middle\" x=\"296\" y=\"-310.3\" font-family=\"Times,serif\" font-size=\"14.00\" fill=\"#000000\">11: if: (a == 0)</text>\n",
       "</g>\n",
       "<!-- 9&#45;&gt;10 -->\n",
       "<g id=\"edge12\" class=\"edge\">\n",
       "<title>9&#45;&gt;10</title>\n",
       "<path fill=\"none\" stroke=\"#00ff00\" d=\"M296,-367.8314C296,-360.131 296,-350.9743 296,-342.4166\"/>\n",
       "<polygon fill=\"#00ff00\" stroke=\"#00ff00\" points=\"299.5001,-342.4132 296,-332.4133 292.5001,-342.4133 299.5001,-342.4132\"/>\n",
       "</g>\n",
       "<!-- 11 -->\n",
       "<g id=\"node14\" class=\"node\">\n",
       "<title>11</title>\n",
       "<polygon fill=\"none\" stroke=\"#000000\" points=\"203,-188 111.1685,-170 203,-152 294.8315,-170 203,-188\"/>\n",
       "<text text-anchor=\"middle\" x=\"203\" y=\"-166.3\" font-family=\"Times,serif\" font-size=\"14.00\" fill=\"#000000\">12: if: (b == 0)</text>\n",
       "</g>\n",
       "<!-- 10&#45;&gt;11 -->\n",
       "<g id=\"edge13\" class=\"edge\">\n",
       "<title>10&#45;&gt;11</title>\n",
       "<path fill=\"none\" stroke=\"#ff0000\" d=\"M285.5125,-297.7613C269.3256,-272.6978 238.1374,-224.4063 219.085,-194.9058\"/>\n",
       "<polygon fill=\"#ff0000\" stroke=\"#ff0000\" points=\"221.9573,-192.9019 213.5919,-186.4003 216.077,-196.6996 221.9573,-192.9019\"/>\n",
       "</g>\n",
       "<!-- 14 -->\n",
       "<g id=\"node15\" class=\"node\">\n",
       "<title>14</title>\n",
       "<polygon fill=\"none\" stroke=\"#000000\" points=\"398.5,-260 295.5,-260 295.5,-224 398.5,-224 398.5,-260\"/>\n",
       "<text text-anchor=\"middle\" x=\"347\" y=\"-238.3\" font-family=\"Times,serif\" font-size=\"14.00\" fill=\"#000000\">16: a2 = (2 * a)</text>\n",
       "</g>\n",
       "<!-- 10&#45;&gt;14 -->\n",
       "<g id=\"edge16\" class=\"edge\">\n",
       "<title>10&#45;&gt;14</title>\n",
       "<path fill=\"none\" stroke=\"#00ff00\" d=\"M307.3186,-298.0209C313.4468,-289.3693 321.1772,-278.4557 328.1835,-268.5645\"/>\n",
       "<polygon fill=\"#00ff00\" stroke=\"#00ff00\" points=\"331.1714,-270.4014 334.0955,-260.2181 325.4592,-266.3553 331.1714,-270.4014\"/>\n",
       "</g>\n",
       "<!-- 11&#45;&gt;12 -->\n",
       "<g id=\"edge14\" class=\"edge\">\n",
       "<title>11&#45;&gt;12</title>\n",
       "<path fill=\"none\" stroke=\"#ff0000\" d=\"M177.2849,-156.9613C157.3878,-146.8727 129.3474,-132.655 105.7869,-120.7089\"/>\n",
       "<polygon fill=\"#ff0000\" stroke=\"#ff0000\" points=\"107.1726,-117.4873 96.6708,-116.0866 104.007,-123.7306 107.1726,-117.4873\"/>\n",
       "</g>\n",
       "<!-- 11&#45;&gt;13 -->\n",
       "<g id=\"edge15\" class=\"edge\">\n",
       "<title>11&#45;&gt;13</title>\n",
       "<path fill=\"none\" stroke=\"#ff0000\" d=\"M203,-151.8314C203,-144.131 203,-134.9743 203,-126.4166\"/>\n",
       "<polygon fill=\"#ff0000\" stroke=\"#ff0000\" points=\"206.5001,-126.4132 203,-116.4133 199.5001,-126.4133 206.5001,-126.4132\"/>\n",
       "</g>\n",
       "<!-- 15 -->\n",
       "<g id=\"node16\" class=\"node\">\n",
       "<title>15</title>\n",
       "<polygon fill=\"none\" stroke=\"#000000\" points=\"455.5,-188 342.5,-188 342.5,-152 455.5,-152 455.5,-188\"/>\n",
       "<text text-anchor=\"middle\" x=\"399\" y=\"-166.3\" font-family=\"Times,serif\" font-size=\"14.00\" fill=\"#000000\">17: ba2 = (b / a2)</text>\n",
       "</g>\n",
       "<!-- 14&#45;&gt;15 -->\n",
       "<g id=\"edge17\" class=\"edge\">\n",
       "<title>14&#45;&gt;15</title>\n",
       "<path fill=\"none\" stroke=\"#00ff00\" d=\"M360.1218,-223.8314C366.0499,-215.6232 373.1729,-205.7606 379.6933,-196.7323\"/>\n",
       "<polygon fill=\"#00ff00\" stroke=\"#00ff00\" points=\"382.684,-198.5693 385.7015,-188.4133 377.0092,-194.4708 382.684,-198.5693\"/>\n",
       "</g>\n",
       "<!-- 15&#45;&gt;16 -->\n",
       "<g id=\"edge18\" class=\"edge\">\n",
       "<title>15&#45;&gt;16</title>\n",
       "<path fill=\"none\" stroke=\"#00ff00\" d=\"M406.5703,-151.8314C409.8493,-143.9617 413.762,-134.5712 417.3945,-125.8533\"/>\n",
       "<polygon fill=\"#00ff00\" stroke=\"#00ff00\" points=\"420.7124,-126.9902 421.3278,-116.4133 414.2508,-124.2979 420.7124,-126.9902\"/>\n",
       "</g>\n",
       "</g>\n",
       "</svg>\n"
      ],
      "text/plain": [
       "<graphviz.files.Source at 0x118f8fb00>"
      ]
     },
     "execution_count": 187,
     "metadata": {},
     "output_type": "execute_result"
    }
   ],
   "source": [
    "with Tracer() as cov:\n",
    "    roots3(1, 0, -11 / 20)\n",
    "Source(to_graph(gen_cfg(inspect.getsource(roots3)), arcs=cov_to_arcs(cov)))"
   ]
  },
  {
   "cell_type": "markdown",
   "metadata": {
    "slideshow": {
     "slide_type": "subslide"
    }
   },
   "source": [
    "\\todo{Function summaries and variable renaming}"
   ]
  },
  {
   "cell_type": "markdown",
   "metadata": {
    "slideshow": {
     "slide_type": "fragment"
    }
   },
   "source": [
    "Our symbolic fuzzer is reasonable for single functions that use `Int` or `Real` values. However, real world applications often contain multiple recursive method calls, which will not be handled by our implementation. Nor are real applications restricted to using just numbers.\n",
    "\n",
    "We will examine an implementation that can handle practical programs next."
   ]
  },
  {
   "cell_type": "markdown",
   "metadata": {
    "slideshow": {
     "slide_type": "subslide"
    }
   },
   "source": [
    "### Concolic Execution with Proxies"
   ]
  },
  {
   "cell_type": "markdown",
   "metadata": {
    "slideshow": {
     "slide_type": "fragment"
    }
   },
   "source": [
    "A second approach to concolic execution is to use a wrapper class as we did in the [chapter on information flow](InformationFlow.ipynb). We start with a register for symbolic variables."
   ]
  },
  {
   "cell_type": "code",
   "execution_count": 188,
   "metadata": {
    "slideshow": {
     "slide_type": "fragment"
    }
   },
   "outputs": [],
   "source": [
    "Var_Register = {}"
   ]
  },
  {
   "cell_type": "markdown",
   "metadata": {
    "slideshow": {
     "slide_type": "fragment"
    }
   },
   "source": [
    "Next, we define wrapper objects for concolic variables.\n",
    "\n",
    "#### IntWrapper"
   ]
  },
  {
   "cell_type": "code",
   "execution_count": 189,
   "metadata": {
    "slideshow": {
     "slide_type": "subslide"
    }
   },
   "outputs": [],
   "source": [
    "class IntWrapper():\n",
    "    def __init__(self, z, value=None):\n",
    "        self.z = z\n",
    "        self.value = value\n",
    "        Var_Register[z.sexpr()] = z\n",
    "\n",
    "    def __add__(self, other):\n",
    "        return IntWrapper(self.z + other.z, self.value + other.value)\n",
    "\n",
    "    def __radd__(self, other):\n",
    "        return self.__add__(other)\n",
    "\n",
    "    def __eq__(self, other):\n",
    "        if isinstance(other, int):\n",
    "            return BoolWrapper(self.z == other, self.value == other)\n",
    "        else:\n",
    "            return BoolWrapper(self.z == other.z, self.value == other.value)\n",
    "\n",
    "    def __lt__(self, other):\n",
    "        if isinstance(other, int):\n",
    "            return BoolWrapper(self.z < other, self.value < other)\n",
    "        else:\n",
    "            return BoolWrapper(self.z < other.z, self.value < other.value)\n",
    "\n",
    "    def __gt__(self, other):\n",
    "        if isinstance(other, int):\n",
    "            return BoolWrapper(self.z > other, self.value > other)\n",
    "        else:\n",
    "            return BoolWrapper(self.z > other.z, self.value > other.value)\n",
    "\n",
    "    def __req__(self, other):\n",
    "        return self.__eq__(other)"
   ]
  },
  {
   "cell_type": "markdown",
   "metadata": {
    "slideshow": {
     "slide_type": "subslide"
    }
   },
   "source": [
    "#### BoolWrapper\n",
    "\n",
    "The `BoolWrapper` collects the predicates that it finds along the way."
   ]
  },
  {
   "cell_type": "code",
   "execution_count": 190,
   "metadata": {
    "slideshow": {
     "slide_type": "fragment"
    }
   },
   "outputs": [],
   "source": [
    "Predicates = []"
   ]
  },
  {
   "cell_type": "code",
   "execution_count": 191,
   "metadata": {
    "slideshow": {
     "slide_type": "subslide"
    }
   },
   "outputs": [],
   "source": [
    "class BoolWrapper():\n",
    "    def __init__(self, z, value=None):\n",
    "        self.z = z\n",
    "        self.value = value\n",
    "\n",
    "    def __not__(self):\n",
    "        return BoolWrapper(z3.Not(self.z), not self.value)\n",
    "\n",
    "    def __bool__(self):\n",
    "        if self.value:\n",
    "            Predicates.append(self.z)\n",
    "            return True\n",
    "        else:\n",
    "            Predicates.append(z3.Not(self.z))\n",
    "            return False"
   ]
  },
  {
   "cell_type": "markdown",
   "metadata": {
    "slideshow": {
     "slide_type": "subslide"
    }
   },
   "source": [
    "Finally the `explore()` function executes the given function returns the result and predicates collected along the way."
   ]
  },
  {
   "cell_type": "code",
   "execution_count": 192,
   "metadata": {
    "slideshow": {
     "slide_type": "subslide"
    }
   },
   "outputs": [],
   "source": [
    "def explore(fn, args):\n",
    "    result, error = None, None\n",
    "    Predicates.clear()\n",
    "    Var_Register.clear()\n",
    "    my_args = []\n",
    "    for i,a in enumerate(args):\n",
    "        if isinstance(a, int):\n",
    "            my_args.append(IntWrapper(z3.Int('arg_%s' % i), a))\n",
    "        else:\n",
    "            assert False\n",
    "    try:\n",
    "        result = fn(*my_args)\n",
    "    except Exception as e:\n",
    "        error = e\n",
    "    finally:\n",
    "        return (result, error, Predicates)"
   ]
  },
  {
   "cell_type": "markdown",
   "metadata": {
    "slideshow": {
     "slide_type": "subslide"
    }
   },
   "source": [
    "Let us see if this works."
   ]
  },
  {
   "cell_type": "code",
   "execution_count": 193,
   "metadata": {
    "slideshow": {
     "slide_type": "fragment"
    }
   },
   "outputs": [],
   "source": [
    "result, err, pred = explore(abs_max, [2, 1])"
   ]
  },
  {
   "cell_type": "code",
   "execution_count": 194,
   "metadata": {
    "slideshow": {
     "slide_type": "fragment"
    }
   },
   "outputs": [
    {
     "data": {
      "text/plain": [
       "[Not(arg_0 < 0), Not(arg_1 < 0), arg_0 > arg_1]"
      ]
     },
     "execution_count": 194,
     "metadata": {},
     "output_type": "execute_result"
    }
   ],
   "source": [
    "pred"
   ]
  },
  {
   "cell_type": "code",
   "execution_count": 195,
   "metadata": {
    "slideshow": {
     "slide_type": "fragment"
    }
   },
   "outputs": [
    {
     "name": "stdout",
     "output_type": "stream",
     "text": [
      "arg_0=z3.Int('arg_0')\n",
      "arg_1=z3.Int('arg_1')\n"
     ]
    }
   ],
   "source": [
    "for k in Var_Register:\n",
    "    s = \"%s=z3.Int('%s')\" % (k, Var_Register[k])\n",
    "    print(s)\n",
    "    exec(s)"
   ]
  },
  {
   "cell_type": "code",
   "execution_count": 196,
   "metadata": {
    "slideshow": {
     "slide_type": "fragment"
    }
   },
   "outputs": [
    {
     "name": "stdout",
     "output_type": "stream",
     "text": [
      "[arg_1 = 0, arg_0 = 1]\n"
     ]
    }
   ],
   "source": [
    "z3.solve(pred)"
   ]
  },
  {
   "cell_type": "markdown",
   "metadata": {
    "button": false,
    "new_sheet": true,
    "run_control": {
     "read_only": false
    },
    "slideshow": {
     "slide_type": "slide"
    }
   },
   "source": [
    "## Concolic Execution with PyExZ3"
   ]
  },
  {
   "cell_type": "markdown",
   "metadata": {
    "slideshow": {
     "slide_type": "fragment"
    }
   },
   "source": [
    " **Requires the PyExZ3 pip package from [here](https://github.com/uds-se/PyExZ3).**\n",
    " \n",
    "[PyExZ3](https://www.microsoft.com/en-us/research/wp-content/uploads/2016/02/dse.pdf) is a concolic evaluator of programs that takes a different strategy from what we did here. Similar to our dynamic taint approach, the PyExZ3 wraps the Python data structures so that they are symbolic equivalents. These data structures are then traced through program execution, and constraints are collected at the end."
   ]
  },
  {
   "cell_type": "markdown",
   "metadata": {
    "slideshow": {
     "slide_type": "subslide"
    }
   },
   "source": [
    "```python\n",
    "import PyExZ3.pyloader\n",
    "import symbolic.symbolic_types as st\n",
    "```"
   ]
  },
  {
   "cell_type": "markdown",
   "metadata": {
    "slideshow": {
     "slide_type": "fragment"
    }
   },
   "source": [
    "```python\n",
    "generatedInputs, returnVals, path = PyExZ3.pyloader.exploreFunction(check_triangle)\n",
    "```"
   ]
  },
  {
   "cell_type": "markdown",
   "metadata": {
    "slideshow": {
     "slide_type": "fragment"
    }
   },
   "source": [
    "We can get *PyExZ3* to print a flow graph of the conditions it examined."
   ]
  },
  {
   "cell_type": "markdown",
   "metadata": {
    "slideshow": {
     "slide_type": "fragment"
    }
   },
   "source": [
    "```python\n",
    "Source(path.toDot())\n",
    "```"
   ]
  },
  {
   "cell_type": "markdown",
   "metadata": {
    "slideshow": {
     "slide_type": "fragment"
    }
   },
   "source": [
    "As in our implementation, *PyExZ3* also takes a `max_iters` argument."
   ]
  },
  {
   "cell_type": "markdown",
   "metadata": {
    "slideshow": {
     "slide_type": "subslide"
    }
   },
   "source": [
    "```python\n",
    "generatedInputs, returnVals, path = PyExZ3.pyloader.exploreFunction(gcd, max_iters=5)\n",
    "```"
   ]
  },
  {
   "cell_type": "markdown",
   "metadata": {
    "slideshow": {
     "slide_type": "fragment"
    }
   },
   "source": [
    "```python\n",
    "Source(path.toDot())\n",
    "```"
   ]
  },
  {
   "cell_type": "markdown",
   "metadata": {
    "slideshow": {
     "slide_type": "fragment"
    }
   },
   "source": [
    "This is useful in functions such as `factorial()`."
   ]
  },
  {
   "cell_type": "code",
   "execution_count": 197,
   "metadata": {
    "slideshow": {
     "slide_type": "fragment"
    }
   },
   "outputs": [],
   "source": [
    "def factorial(n):\n",
    "    if n <= 1:\n",
    "        return 1\n",
    "    return n * factorial(n - 1)"
   ]
  },
  {
   "cell_type": "markdown",
   "metadata": {
    "slideshow": {
     "slide_type": "subslide"
    }
   },
   "source": [
    "```python\n",
    "generatedInputs, returnVals, path = PyExZ3.pyloader.exploreFunction(factorial, max_iters=10)\n",
    "```"
   ]
  },
  {
   "cell_type": "markdown",
   "metadata": {
    "slideshow": {
     "slide_type": "fragment"
    }
   },
   "source": [
    "Our implementation did not yet implement symbolic execution through function calls. *PyExZ3* does handle symbolic execution across function boundaries."
   ]
  },
  {
   "cell_type": "code",
   "execution_count": 198,
   "metadata": {
    "slideshow": {
     "slide_type": "skip"
    }
   },
   "outputs": [],
   "source": [
    "import math"
   ]
  },
  {
   "cell_type": "code",
   "execution_count": 199,
   "metadata": {
    "slideshow": {
     "slide_type": "fragment"
    }
   },
   "outputs": [],
   "source": [
    "def discriminant(a, b, c):\n",
    "    return b * b - 4 * a * c"
   ]
  },
  {
   "cell_type": "code",
   "execution_count": 200,
   "metadata": {
    "slideshow": {
     "slide_type": "subslide"
    }
   },
   "outputs": [],
   "source": [
    "def my_roots(a, b, c):\n",
    "    if a == 0:\n",
    "        if b == 0:\n",
    "            return math.inf\n",
    "        return -c / b\n",
    "    d = discriminant(a, b, c)\n",
    "    a2 = 2 * a\n",
    "    ba2 = b / a2\n",
    "    if d == 0:\n",
    "        return -ba2\n",
    "    s = math.sqrt(d)\n",
    "    return -ba2 + s / a2, -ba2 - s / a2"
   ]
  },
  {
   "cell_type": "markdown",
   "metadata": {
    "slideshow": {
     "slide_type": "fragment"
    }
   },
   "source": [
    "Remember what we mentioned about our implementation being unable to determine the error of the previous `roots()`? Would *PyExZ3* find it?"
   ]
  },
  {
   "cell_type": "markdown",
   "metadata": {
    "scrolled": false,
    "slideshow": {
     "slide_type": "subslide"
    }
   },
   "source": [
    "```python\n",
    "generatedInputs, returnVals, path = PyExZ3.pyloader.exploreFunction(my_roots)\n",
    "```"
   ]
  },
  {
   "cell_type": "markdown",
   "metadata": {
    "slideshow": {
     "slide_type": "fragment"
    }
   },
   "source": [
    "Unfortunately, it does not seem to detect it. The culprit is the `math.sqrt()` call. *PyExZ3* does not know how it behaves. Hence, it makes the returned variable unconstrained. It can be seen when we try to trace the function directly."
   ]
  },
  {
   "cell_type": "markdown",
   "metadata": {
    "slideshow": {
     "slide_type": "fragment"
    }
   },
   "source": [
    "```python\n",
    "with ExpectError():\n",
    "    generatedInputs, returnVals, path = PyExZ3.pyloader.exploreFunction(math.sqrt)\n",
    "```"
   ]
  },
  {
   "cell_type": "markdown",
   "metadata": {
    "slideshow": {
     "slide_type": "fragment"
    }
   },
   "source": [
    "The problem here is that *PyExZ3* does not know about *math.sqrt*. Can we help it?"
   ]
  },
  {
   "cell_type": "code",
   "execution_count": 201,
   "metadata": {
    "slideshow": {
     "slide_type": "subslide"
    }
   },
   "outputs": [],
   "source": [
    "def sqrt(d):\n",
    "    if d < 0:\n",
    "        assert False\n",
    "    xa = 0.5 * d\n",
    "    xb = 0\n",
    "    while (xa - xb) > 0.1:\n",
    "        xb = 0.5 * (xa + d / xa)\n",
    "        xa = xb\n",
    "    s = xb\n",
    "    return s"
   ]
  },
  {
   "cell_type": "code",
   "execution_count": 202,
   "metadata": {
    "slideshow": {
     "slide_type": "fragment"
    }
   },
   "outputs": [],
   "source": [
    "def discriminant(a, b, c):\n",
    "    return b * b - 4 * a * c"
   ]
  },
  {
   "cell_type": "code",
   "execution_count": 203,
   "metadata": {
    "slideshow": {
     "slide_type": "subslide"
    }
   },
   "outputs": [],
   "source": [
    "def my_roots(a, b, c):\n",
    "    if a == 0:\n",
    "        if b == 0:\n",
    "            return math.inf\n",
    "        return -c / b\n",
    "    d = discriminant(a, b, c)\n",
    "    a2 = 2 * a\n",
    "    ba2 = b / a2\n",
    "    if d == 0:\n",
    "        return -ba2\n",
    "    s = sqrt(d)\n",
    "    return -ba2 + s / a2, -ba2 - s / a2"
   ]
  },
  {
   "cell_type": "markdown",
   "metadata": {
    "slideshow": {
     "slide_type": "fragment"
    }
   },
   "source": [
    "With this, *PyExZ3* is ready to find all the problematic areas."
   ]
  },
  {
   "cell_type": "markdown",
   "metadata": {
    "slideshow": {
     "slide_type": "subslide"
    }
   },
   "source": [
    "```python\n",
    "with ExpectError():\n",
    "    generatedInputs, returnVals, path = PyExZ3.pyloader.exploreFunction(my_roots, max_iters=1000)\n",
    "```"
   ]
  },
  {
   "cell_type": "markdown",
   "metadata": {
    "slideshow": {
     "slide_type": "subslide"
    }
   },
   "source": [
    "#### roots - take 4"
   ]
  },
  {
   "cell_type": "code",
   "execution_count": 204,
   "metadata": {
    "slideshow": {
     "slide_type": "fragment"
    }
   },
   "outputs": [],
   "source": [
    "def sqrt(d):\n",
    "    if d < 0:\n",
    "        assert False\n",
    "    xa = 0.5 * d\n",
    "    xb = 0\n",
    "    while (xa - xb) > 0.1:\n",
    "        xb = 0.5 * (xa + d / xa)\n",
    "        xa = xb\n",
    "    s = xb\n",
    "    return s"
   ]
  },
  {
   "cell_type": "code",
   "execution_count": 205,
   "metadata": {
    "slideshow": {
     "slide_type": "fragment"
    }
   },
   "outputs": [],
   "source": [
    "def discriminant(a, b, c):\n",
    "    return b * b - 4 * a * c"
   ]
  },
  {
   "cell_type": "code",
   "execution_count": 206,
   "metadata": {
    "slideshow": {
     "slide_type": "subslide"
    }
   },
   "outputs": [],
   "source": [
    "def roots4(a, b, c):\n",
    "    if a == 0:\n",
    "        if b == 0:\n",
    "            return math.inf\n",
    "        return -c / b\n",
    "    d = discriminant(a, b, c)\n",
    "    a2 = 2 * a\n",
    "    ba2 = b / a2\n",
    "    if d == 0:\n",
    "        return -ba2\n",
    "    elif d < 0:\n",
    "        s = sqrt(-d)\n",
    "        return (-ba2, s / a2), (-ba2, -s / a2)\n",
    "    else:\n",
    "        s = sqrt(d)\n",
    "        return -ba2 + s / a2, -ba2 - s / a2"
   ]
  },
  {
   "cell_type": "markdown",
   "metadata": {
    "slideshow": {
     "slide_type": "subslide"
    }
   },
   "source": [
    "And that indeed seems to be accepted by *PyExZ3*."
   ]
  },
  {
   "cell_type": "markdown",
   "metadata": {
    "slideshow": {
     "slide_type": "fragment"
    }
   },
   "source": [
    "```python\n",
    "generatedInputs, returnVals, path = PyExZ3.pyloader.exploreFunction(roots4, max_iters=1000)\n",
    "```"
   ]
  },
  {
   "cell_type": "markdown",
   "metadata": {
    "slideshow": {
     "slide_type": "slide"
    }
   },
   "source": [
    "## Using Concolic Execution in Fuzzing"
   ]
  },
  {
   "cell_type": "markdown",
   "metadata": {
    "slideshow": {
     "slide_type": "fragment"
    }
   },
   "source": [
    "Similar to dynamic taint analysis, one can consider *concolic execution* as a better oracle for fuzzing. For dynamic taints, we simply check whether taints reached any of the marked sinks on fuzzing, which helps us to not rely only on program crashes to detect that a program has vulnerabilities. Similarly, *concolic execution* needs to be driven by grammar based deep fuzzing, and the end result can be checked for specific properties such as information leak.\\todo{Expand}."
   ]
  },
  {
   "cell_type": "markdown",
   "metadata": {
    "button": false,
    "new_sheet": true,
    "run_control": {
     "read_only": false
    },
    "slideshow": {
     "slide_type": "slide"
    }
   },
   "source": [
    "## Lessons Learned\n",
    "\n",
    "* One can use symbolic execution to augment the inputs that explore all characteristics of a program.\n",
    "* Symbolic execution can be broad but shallow.\n",
    "* Concolic execution provides an acceptable middle ground, and uses a seed execution for guiding the symbolic exploration."
   ]
  },
  {
   "cell_type": "markdown",
   "metadata": {
    "button": false,
    "new_sheet": false,
    "run_control": {
     "read_only": false
    },
    "slideshow": {
     "slide_type": "slide"
    }
   },
   "source": [
    "## Next Steps\n",
    "\n",
    "* [Search based fuzzing](SearchBasedFuzzer.ipynb) can often be an acceptable middle ground when random fuzzing does not provide sufficient results, but symbolic fuzzing is too heavyweight."
   ]
  },
  {
   "cell_type": "markdown",
   "metadata": {
    "slideshow": {
     "slide_type": "slide"
    }
   },
   "source": [
    "## Background\n",
    "\n",
    "Symbolic execution of programs was originally described by King~\\cite{king1976symbolic} in 1976. It is used extensively in vulnerability analysis of software, especially binary programs. Some of the well known symbolic execution tools include KLEE~\\cite{KLEE}, Angr~\\cite{wang2017angr, stephens2016driller}, and SAGE~\\cite{godefroid2012sage}. The most well known symbolic execution environment for Python is CHEF~\\cite{bucur2014prototyping} which does symbolic execution by modifying the interpreter. PeerCheck~\\cite{PeerCheck} and PEF~\\cite{PEF} are two concolic execution engines."
   ]
  },
  {
   "cell_type": "code",
   "execution_count": null,
   "metadata": {
    "slideshow": {
     "slide_type": "fragment"
    }
   },
   "outputs": [],
   "source": []
  },
  {
   "cell_type": "markdown",
   "metadata": {
    "button": false,
    "new_sheet": true,
    "run_control": {
     "read_only": false
    },
    "slideshow": {
     "slide_type": "slide"
    }
   },
   "source": [
    "## Exercises"
   ]
  },
  {
   "cell_type": "markdown",
   "metadata": {
    "button": false,
    "new_sheet": false,
    "run_control": {
     "read_only": false
    },
    "slideshow": {
     "slide_type": "subslide"
    },
    "solution": "hidden",
    "solution2": "hidden",
    "solution2_first": true,
    "solution_first": true
   },
   "source": [
    "### Exercise 1: _Extending Symbolic Fuzzer to use function summaries_\n",
    "\n",
    "We showed in the first section how function summaries may be produced. Can you extend the `AdvancedSymbolicFuzzer` to use function summaries when needed?"
   ]
  },
  {
   "cell_type": "markdown",
   "metadata": {
    "button": false,
    "new_sheet": false,
    "run_control": {
     "read_only": false
    },
    "slideshow": {
     "slide_type": "skip"
    },
    "solution": "hidden",
    "solution2": "hidden"
   },
   "source": [
    "**Solution.** _None yet available._"
   ]
  },
  {
   "cell_type": "markdown",
   "metadata": {
    "button": false,
    "new_sheet": false,
    "run_control": {
     "read_only": false
    },
    "slideshow": {
     "slide_type": "subslide"
    },
    "solution2": "hidden",
    "solution2_first": true
   },
   "source": [
    "### Exercise 2: _Inferring variable types for Concolic Fuzzer_\n",
    "\n",
    "Our `ConcolicFuzzer` assumes that all its variables are of the same category. However, most real world programs take inputs with different data types, and different data types are used during execution. Given that Python is a dynamic language, how do we know what to declare our variables as? One way (the simplest) is to rely on the types returned by the concrete execution. Can you modify our `ConcolicFuzzer` so that it uses the right variable types?"
   ]
  },
  {
   "cell_type": "markdown",
   "metadata": {
    "slideshow": {
     "slide_type": "skip"
    },
    "solution2": "hidden"
   },
   "source": [
    "**Solution.** _None yet available._"
   ]
  },
  {
   "cell_type": "markdown",
   "metadata": {
    "button": false,
    "new_sheet": false,
    "run_control": {
     "read_only": false
    },
    "slideshow": {
     "slide_type": "subslide"
    },
    "solution2": "hidden",
    "solution2_first": true
   },
   "source": [
    "### Exercise 3: _Extending Concolic Fuzzer to trace through function calls_\n",
    "\n",
    "Unlike SymbolicFuzzers, a ConcolicFuzzer does not need function summaries. In fact, it needs to step through individual steps of functions it can get access to (For external functions such as `math.sqrt`, one still has to rely on function summaries). Can you extend the `ConcolicFuzzer` to trace across function boundaries?"
   ]
  },
  {
   "cell_type": "markdown",
   "metadata": {
    "slideshow": {
     "slide_type": "skip"
    },
    "solution2": "hidden"
   },
   "source": [
    "**Solution.** _None yet available._"
   ]
  }
 ],
 "metadata": {
  "ipub": {
   "bibliography": "fuzzingbook.bib",
   "toc": true
  },
  "kernelspec": {
   "display_name": "Python 3",
   "language": "python",
   "name": "python3"
  },
  "language_info": {
   "codemirror_mode": {
    "name": "ipython",
    "version": 3
   },
   "file_extension": ".py",
   "mimetype": "text/x-python",
   "name": "python",
   "nbconvert_exporter": "python",
   "pygments_lexer": "ipython3",
   "version": "3.6.6"
  },
  "toc": {
   "base_numbering": 1,
   "nav_menu": {},
   "number_sections": true,
   "sideBar": true,
   "skip_h1_title": true,
   "title_cell": "",
   "title_sidebar": "Contents",
   "toc_cell": false,
   "toc_position": {},
   "toc_section_display": true,
   "toc_window_display": true
  },
  "toc-autonumbering": false,
  "varInspector": {
   "cols": {
    "lenName": 16,
    "lenType": 16,
    "lenVar": 40
   },
   "kernels_config": {
    "python": {
     "delete_cmd_postfix": "",
     "delete_cmd_prefix": "del ",
     "library": "var_list.py",
     "varRefreshCmd": "print(var_dic_list())"
    },
    "r": {
     "delete_cmd_postfix": ") ",
     "delete_cmd_prefix": "rm(",
     "library": "var_list.r",
     "varRefreshCmd": "cat(var_dic_list()) "
    }
   },
   "types_to_exclude": [
    "module",
    "function",
    "builtin_function_or_method",
    "instance",
    "_Feature"
   ],
   "window_display": false
  }
 },
 "nbformat": 4,
 "nbformat_minor": 2
}
