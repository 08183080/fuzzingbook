{
 "cells": [
  {
   "cell_type": "markdown",
   "metadata": {
    "button": false,
    "new_sheet": false,
    "run_control": {
     "read_only": false
    },
    "slideshow": {
     "slide_type": "slide"
    }
   },
   "source": [
    "# Carving Unit Tests\n",
    "\n",
    "So far, we have always generated _system input_, i.e. data that the program as a whole obtains via its input channels.  If we are interested in testing only a small set of functions, having to go through the system can be very inefficient.  This chapter introduces a technique known as _carving_, which, given a system test, automatically extracts a set of _unit tests_ that replicate the calls seen during the unit test.  The key idea is to _record_ such calls such that we can _replay_ them later – as a whole or selectively.  On top, we also explore how to synthesize API grammars from carved unit tests; this means that we can _synthesize API tests without having to write a grammar at all._"
   ]
  },
  {
   "cell_type": "markdown",
   "metadata": {
    "button": false,
    "new_sheet": false,
    "run_control": {
     "read_only": false
    },
    "slideshow": {
     "slide_type": "subslide"
    }
   },
   "source": [
    "**Prerequisites**\n",
    "\n",
    "* Carving makes use of dynamic traces of function calls and variables, as introduced in the [chapter on configuration fuzzing](ConfigurationFuzzer.ipynb).\n",
    "* Using grammars to test units was introduced in the [chapter on API fuzzing](APIFuzzer.ipynb)."
   ]
  },
  {
   "cell_type": "code",
   "execution_count": 1,
   "metadata": {
    "execution": {
     "iopub.execute_input": "2022-01-12T13:54:47.970191Z",
     "iopub.status.busy": "2022-01-12T13:54:47.968922Z",
     "iopub.status.idle": "2022-01-12T13:54:48.217663Z",
     "shell.execute_reply": "2022-01-12T13:54:48.218135Z"
    },
    "slideshow": {
     "slide_type": "skip"
    }
   },
   "outputs": [],
   "source": [
    "import bookutils"
   ]
  },
  {
   "cell_type": "code",
   "execution_count": 2,
   "metadata": {
    "execution": {
     "iopub.execute_input": "2022-01-12T13:54:48.221744Z",
     "iopub.status.busy": "2022-01-12T13:54:48.221082Z",
     "iopub.status.idle": "2022-01-12T13:54:53.049943Z",
     "shell.execute_reply": "2022-01-12T13:54:53.050485Z"
    },
    "slideshow": {
     "slide_type": "skip"
    }
   },
   "outputs": [],
   "source": [
    "import APIFuzzer"
   ]
  },
  {
   "cell_type": "markdown",
   "metadata": {
    "slideshow": {
     "slide_type": "skip"
    }
   },
   "source": [
    "## Synopsis\n",
    "<!-- Automatically generated. Do not edit. -->\n",
    "\n",
    "To [use the code provided in this chapter](Importing.ipynb), write\n",
    "\n",
    "```python\n",
    ">>> from fuzzingbook.Carver import <identifier>\n",
    "```\n",
    "\n",
    "and then make use of the following features.\n",
    "\n",
    "\n",
    "This chapter provides means to _record and replay function calls_ during a system test.  Since individual function calls are much faster than a whole system run, such \"carving\" mechanisms have the potential to run tests much faster.\n",
    "\n",
    "### Recording Calls\n",
    "\n",
    "The `CallCarver` class records all calls occurring while it is active.  It is used in conjunction with a `with` clause:\n",
    "\n",
    "```python\n",
    ">>> with CallCarver() as carver:\n",
    ">>>     y = my_sqrt(2)\n",
    ">>>     y = my_sqrt(4)\n",
    "```\n",
    "After execution, `called_functions()` lists the names of functions encountered:\n",
    "\n",
    "```python\n",
    ">>> carver.called_functions()\n",
    "['my_sqrt', '__exit__']\n",
    "```\n",
    "The `arguments()` method lists the arguments recorded for a function.  This is a mapping of the function name to a list of lists of arguments; each argument is a pair (parameter name, value).\n",
    "\n",
    "```python\n",
    ">>> carver.arguments('my_sqrt')\n",
    "[[('x', 2)], [('x', 4)]]\n",
    "```\n",
    "Complex arguments are properly serialized, such that they can be easily restored.\n",
    "\n",
    "### Synthesizing Calls\n",
    "\n",
    "While such recorded arguments already could be turned into arguments and calls, a much nicer alternative is to create a _grammar_ for recorded calls.  This allows to synthesize arbitrary _combinations_ of arguments, and also offers a base for further customization of calls.\n",
    "\n",
    "The `CallGrammarMiner` class turns a list of carved executions into a grammar.\n",
    "\n",
    "```python\n",
    ">>> my_sqrt_miner = CallGrammarMiner(carver)\n",
    ">>> my_sqrt_grammar = my_sqrt_miner.mine_call_grammar()\n",
    ">>> my_sqrt_grammar\n",
    "{'<start>': ['<call>'],\n",
    " '<call>': ['<my_sqrt>'],\n",
    " '<my_sqrt-x>': ['4', '2'],\n",
    " '<my_sqrt>': ['my_sqrt(<my_sqrt-x>)']}\n",
    "```\n",
    "This grammar can be used to synthesize calls.\n",
    "\n",
    "```python\n",
    ">>> fuzzer = GrammarCoverageFuzzer(my_sqrt_grammar)\n",
    ">>> fuzzer.fuzz()\n",
    "'my_sqrt(2)'\n",
    "```\n",
    "These calls can be executed in isolation, effectively extracting unit tests from system tests:\n",
    "\n",
    "```python\n",
    ">>> eval(fuzzer.fuzz())\n",
    "2.0\n",
    "```\n"
   ]
  },
  {
   "cell_type": "markdown",
   "metadata": {
    "button": false,
    "new_sheet": false,
    "run_control": {
     "read_only": false
    },
    "slideshow": {
     "slide_type": "slide"
    }
   },
   "source": [
    "## System Tests vs Unit Tests\n",
    "\n",
    "Remember the URL grammar introduced for [grammar fuzzing](Grammars.ipynb)?  With such a grammar, we can happily test a Web browser again and again, checking how it reacts to arbitrary page requests.\n",
    "\n",
    "Let us define a very simple \"web browser\" that goes and downloads the content given by the URL."
   ]
  },
  {
   "cell_type": "code",
   "execution_count": 3,
   "metadata": {
    "execution": {
     "iopub.execute_input": "2022-01-12T13:54:53.054380Z",
     "iopub.status.busy": "2022-01-12T13:54:53.053765Z",
     "iopub.status.idle": "2022-01-12T13:54:53.055492Z",
     "shell.execute_reply": "2022-01-12T13:54:53.055902Z"
    },
    "slideshow": {
     "slide_type": "skip"
    }
   },
   "outputs": [],
   "source": [
    "import urllib.parse"
   ]
  },
  {
   "cell_type": "code",
   "execution_count": 4,
   "metadata": {
    "execution": {
     "iopub.execute_input": "2022-01-12T13:54:53.060001Z",
     "iopub.status.busy": "2022-01-12T13:54:53.059393Z",
     "iopub.status.idle": "2022-01-12T13:54:53.061001Z",
     "shell.execute_reply": "2022-01-12T13:54:53.061457Z"
    },
    "slideshow": {
     "slide_type": "fragment"
    }
   },
   "outputs": [],
   "source": [
    "def webbrowser(url):\n",
    "    \"\"\"Download the http/https resource given by the URL\"\"\"\n",
    "    import requests  # Only import if needed\n",
    "\n",
    "    r = requests.get(url)\n",
    "    return r.text"
   ]
  },
  {
   "cell_type": "markdown",
   "metadata": {
    "slideshow": {
     "slide_type": "subslide"
    }
   },
   "source": [
    "Let us apply this on [fuzzingbook.org](https://www.fuzzingbook.org/) and measure the time, using the [Timer class](Timer.ipynb):"
   ]
  },
  {
   "cell_type": "code",
   "execution_count": 5,
   "metadata": {
    "execution": {
     "iopub.execute_input": "2022-01-12T13:54:53.065747Z",
     "iopub.status.busy": "2022-01-12T13:54:53.064897Z",
     "iopub.status.idle": "2022-01-12T13:54:53.066781Z",
     "shell.execute_reply": "2022-01-12T13:54:53.067241Z"
    },
    "slideshow": {
     "slide_type": "skip"
    }
   },
   "outputs": [],
   "source": [
    "from Timer import Timer"
   ]
  },
  {
   "cell_type": "code",
   "execution_count": 6,
   "metadata": {
    "execution": {
     "iopub.execute_input": "2022-01-12T13:54:53.071469Z",
     "iopub.status.busy": "2022-01-12T13:54:53.070884Z",
     "iopub.status.idle": "2022-01-12T13:54:53.566071Z",
     "shell.execute_reply": "2022-01-12T13:54:53.566487Z"
    },
    "slideshow": {
     "slide_type": "fragment"
    }
   },
   "outputs": [
    {
     "name": "stdout",
     "output_type": "stream",
     "text": [
      "Downloaded 457681 bytes in 0.49 seconds\n"
     ]
    }
   ],
   "source": [
    "with Timer() as webbrowser_timer:\n",
    "    fuzzingbook_contents = webbrowser(\n",
    "        \"http://www.fuzzingbook.org/html/Fuzzer.html\")\n",
    "\n",
    "print(\"Downloaded %d bytes in %.2f seconds\" %\n",
    "      (len(fuzzingbook_contents), webbrowser_timer.elapsed_time()))"
   ]
  },
  {
   "cell_type": "code",
   "execution_count": 7,
   "metadata": {
    "execution": {
     "iopub.execute_input": "2022-01-12T13:54:53.571893Z",
     "iopub.status.busy": "2022-01-12T13:54:53.571243Z",
     "iopub.status.idle": "2022-01-12T13:54:53.574762Z",
     "shell.execute_reply": "2022-01-12T13:54:53.575201Z"
    },
    "slideshow": {
     "slide_type": "fragment"
    }
   },
   "outputs": [
    {
     "data": {
      "text/plain": [
       "'\\n<!-- A html document -->\\n<!-- \\nwith standard nbconvert css layout\\nwith standard nbconvert input/out'"
      ]
     },
     "execution_count": 7,
     "metadata": {},
     "output_type": "execute_result"
    }
   ],
   "source": [
    "fuzzingbook_contents[:100]"
   ]
  },
  {
   "cell_type": "markdown",
   "metadata": {
    "slideshow": {
     "slide_type": "subslide"
    }
   },
   "source": [
    "A full webbrowser, of course, would also render the HTML content.  We can achieve this using these commands (but we don't, as we do not want to replicate the entire Web page here):\n",
    "\n",
    "\n",
    "```python\n",
    "from IPython.display import HTML, display\n",
    "HTML(fuzzingbook_contents)\n",
    "```"
   ]
  },
  {
   "cell_type": "markdown",
   "metadata": {
    "slideshow": {
     "slide_type": "subslide"
    }
   },
   "source": [
    "Having to start a whole browser (or having it render a Web page) again and again means lots of overhead, though – in particular if we want to test only a subset of its functionality.  In particular, after a change in the code, we would prefer to test only the subset of functions that is affected by the change, rather than running the well-tested functions again and again."
   ]
  },
  {
   "cell_type": "markdown",
   "metadata": {
    "button": false,
    "new_sheet": false,
    "run_control": {
     "read_only": false
    },
    "slideshow": {
     "slide_type": "fragment"
    }
   },
   "source": [
    "Let us assume we change the function that takes care of parsing the given URL and decomposing it into the individual elements – the scheme (\"http\"), the network location (`\"www.fuzzingbook.com\"`), or the path (`\"/html/Fuzzer.html\"`).  This function is named `urlparse()`:"
   ]
  },
  {
   "cell_type": "code",
   "execution_count": 8,
   "metadata": {
    "execution": {
     "iopub.execute_input": "2022-01-12T13:54:53.578785Z",
     "iopub.status.busy": "2022-01-12T13:54:53.578183Z",
     "iopub.status.idle": "2022-01-12T13:54:53.580017Z",
     "shell.execute_reply": "2022-01-12T13:54:53.580646Z"
    },
    "slideshow": {
     "slide_type": "skip"
    }
   },
   "outputs": [],
   "source": [
    "from urllib.parse import urlparse"
   ]
  },
  {
   "cell_type": "code",
   "execution_count": 9,
   "metadata": {
    "execution": {
     "iopub.execute_input": "2022-01-12T13:54:53.584942Z",
     "iopub.status.busy": "2022-01-12T13:54:53.584311Z",
     "iopub.status.idle": "2022-01-12T13:54:53.586849Z",
     "shell.execute_reply": "2022-01-12T13:54:53.587372Z"
    },
    "slideshow": {
     "slide_type": "fragment"
    }
   },
   "outputs": [
    {
     "data": {
      "text/plain": [
       "ParseResult(scheme='https', netloc='www.fuzzingbook.com', path='/html/Carver.html', params='', query='', fragment='')"
      ]
     },
     "execution_count": 9,
     "metadata": {},
     "output_type": "execute_result"
    }
   ],
   "source": [
    "urlparse('https://www.fuzzingbook.com/html/Carver.html')"
   ]
  },
  {
   "cell_type": "markdown",
   "metadata": {
    "slideshow": {
     "slide_type": "subslide"
    }
   },
   "source": [
    "You see how the individual elements of the URL – the _scheme_ (`\"http\"`), the _network location_ (`\"www.fuzzingbook.com\"`), or the path (`\"//html/Carver.html\"`) are all properly identified.  Other elements (like `params`, `query`, or `fragment`) are empty, because they were not part of our input."
   ]
  },
  {
   "cell_type": "markdown",
   "metadata": {
    "slideshow": {
     "slide_type": "fragment"
    }
   },
   "source": [
    "The interesting thing is that executing only `urlparse()` is orders of magnitude faster than running all of `webbrowser()`.  Let us measure the factor:"
   ]
  },
  {
   "cell_type": "code",
   "execution_count": 10,
   "metadata": {
    "execution": {
     "iopub.execute_input": "2022-01-12T13:54:53.594944Z",
     "iopub.status.busy": "2022-01-12T13:54:53.594138Z",
     "iopub.status.idle": "2022-01-12T13:54:53.596999Z",
     "shell.execute_reply": "2022-01-12T13:54:53.597440Z"
    },
    "slideshow": {
     "slide_type": "subslide"
    }
   },
   "outputs": [
    {
     "data": {
      "text/plain": [
       "2.5005910000004407e-06"
      ]
     },
     "execution_count": 10,
     "metadata": {},
     "output_type": "execute_result"
    }
   ],
   "source": [
    "runs = 1000\n",
    "with Timer() as urlparse_timer:\n",
    "    for i in range(runs):\n",
    "        urlparse('https://www.fuzzingbook.com/html/Carver.html')\n",
    "\n",
    "avg_urlparse_time = urlparse_timer.elapsed_time() / 1000\n",
    "avg_urlparse_time"
   ]
  },
  {
   "cell_type": "markdown",
   "metadata": {
    "slideshow": {
     "slide_type": "fragment"
    }
   },
   "source": [
    "Compare this to the time required by the webbrowser"
   ]
  },
  {
   "cell_type": "code",
   "execution_count": 11,
   "metadata": {
    "execution": {
     "iopub.execute_input": "2022-01-12T13:54:53.601727Z",
     "iopub.status.busy": "2022-01-12T13:54:53.601182Z",
     "iopub.status.idle": "2022-01-12T13:54:53.603423Z",
     "shell.execute_reply": "2022-01-12T13:54:53.603891Z"
    },
    "slideshow": {
     "slide_type": "fragment"
    }
   },
   "outputs": [
    {
     "data": {
      "text/plain": [
       "0.49079493500000027"
      ]
     },
     "execution_count": 11,
     "metadata": {},
     "output_type": "execute_result"
    }
   ],
   "source": [
    "webbrowser_timer.elapsed_time()"
   ]
  },
  {
   "cell_type": "markdown",
   "metadata": {
    "slideshow": {
     "slide_type": "fragment"
    }
   },
   "source": [
    "The difference in time is huge:"
   ]
  },
  {
   "cell_type": "code",
   "execution_count": 12,
   "metadata": {
    "execution": {
     "iopub.execute_input": "2022-01-12T13:54:53.607567Z",
     "iopub.status.busy": "2022-01-12T13:54:53.607011Z",
     "iopub.status.idle": "2022-01-12T13:54:53.609377Z",
     "shell.execute_reply": "2022-01-12T13:54:53.609763Z"
    },
    "slideshow": {
     "slide_type": "fragment"
    }
   },
   "outputs": [
    {
     "data": {
      "text/plain": [
       "196271.57539954106"
      ]
     },
     "execution_count": 12,
     "metadata": {},
     "output_type": "execute_result"
    }
   ],
   "source": [
    "webbrowser_timer.elapsed_time() / avg_urlparse_time"
   ]
  },
  {
   "cell_type": "markdown",
   "metadata": {
    "slideshow": {
     "slide_type": "subslide"
    }
   },
   "source": [
    "Hence, in the time it takes to run `webbrowser()` once, we can have _tens of thousands_ of executions of `urlparse()` – and this does not even take into account the time it takes the browser to render the downloaded HTML, to run the included scripts, and whatever else happens when a Web page is loaded.  Hence, strategies that allow us to test at the _unit_ level are very promising as they can save lots of overhead."
   ]
  },
  {
   "cell_type": "markdown",
   "metadata": {
    "slideshow": {
     "slide_type": "slide"
    }
   },
   "source": [
    "## Carving Unit Tests\n",
    "\n",
    "Testing methods and functions at the unit level requires a very good understanding of the individual units to be tested as well as their interplay with other units.  Setting up an appropriate infrastructure and writing unit tests by hand thus is demanding, yet rewarding.  There is, however, an interesting alternative to writing unit tests by hand.  The technique of _carving_ automatically _converts system tests into unit tests_ by means of recording and replaying function calls:\n",
    "\n",
    "1. During a system test (given or generated), we _record_ all calls into a function, including all arguments and other variables the function reads.\n",
    "2. From these, we synthesize a self-contained _unit test_ that reconstructs the function call with all arguments.\n",
    "3. This unit test can be executed (replayed) at any time with high efficiency.\n",
    "\n",
    "In the remainder of this chapter, let us explore these steps."
   ]
  },
  {
   "cell_type": "markdown",
   "metadata": {
    "button": false,
    "new_sheet": true,
    "run_control": {
     "read_only": false
    },
    "slideshow": {
     "slide_type": "slide"
    }
   },
   "source": [
    "## Recording Calls\n",
    "\n",
    "Our first challenge is to record function calls together with their arguments.  (In the interest of simplicity, we restrict ourself to arguments, ignoring any global variables or other non-arguments that are read by the function.)  To record calls and arguments, we use the mechanism [we introduced for coverage](Coverage.ipynb): By setting up a tracer function, we track all calls into individual functions, also saving their arguments.  Just like `Coverage` objects, we want to use `Carver` objects to be able to be used in conjunction with the `with` statement, such that we can trace a particular code block:\n",
    "\n",
    "```python\n",
    "with Carver() as carver:\n",
    "    function_to_be_traced()\n",
    "c = carver.calls()\n",
    "```\n",
    "\n",
    "The initial definition supports this construct:"
   ]
  },
  {
   "cell_type": "markdown",
   "metadata": {
    "slideshow": {
     "slide_type": "subslide"
    }
   },
   "source": [
    "\\todo{Get tracker from [dynamic invariants](DynamicInvariants.ipynb)}"
   ]
  },
  {
   "cell_type": "code",
   "execution_count": 13,
   "metadata": {
    "execution": {
     "iopub.execute_input": "2022-01-12T13:54:53.613400Z",
     "iopub.status.busy": "2022-01-12T13:54:53.612721Z",
     "iopub.status.idle": "2022-01-12T13:54:53.614791Z",
     "shell.execute_reply": "2022-01-12T13:54:53.615457Z"
    },
    "slideshow": {
     "slide_type": "skip"
    }
   },
   "outputs": [],
   "source": [
    "import sys"
   ]
  },
  {
   "cell_type": "code",
   "execution_count": 14,
   "metadata": {
    "execution": {
     "iopub.execute_input": "2022-01-12T13:54:53.620589Z",
     "iopub.status.busy": "2022-01-12T13:54:53.619880Z",
     "iopub.status.idle": "2022-01-12T13:54:53.621542Z",
     "shell.execute_reply": "2022-01-12T13:54:53.621941Z"
    },
    "slideshow": {
     "slide_type": "subslide"
    }
   },
   "outputs": [],
   "source": [
    "class Carver:\n",
    "    def __init__(self, log=False):\n",
    "        self._log = log\n",
    "        self.reset()\n",
    "\n",
    "    def reset(self):\n",
    "        self._calls = {}\n",
    "\n",
    "    # Start of `with` block\n",
    "    def __enter__(self):\n",
    "        self.original_trace_function = sys.gettrace()\n",
    "        sys.settrace(self.traceit)\n",
    "        return self\n",
    "\n",
    "    # End of `with` block\n",
    "    def __exit__(self, exc_type, exc_value, tb):\n",
    "        sys.settrace(self.original_trace_function)"
   ]
  },
  {
   "cell_type": "markdown",
   "metadata": {
    "slideshow": {
     "slide_type": "subslide"
    }
   },
   "source": [
    "The actual work takes place in the `traceit()` method, which records all calls in the `_calls` attribute.  First, we define two helper functions:"
   ]
  },
  {
   "cell_type": "code",
   "execution_count": 15,
   "metadata": {
    "execution": {
     "iopub.execute_input": "2022-01-12T13:54:53.625329Z",
     "iopub.status.busy": "2022-01-12T13:54:53.624754Z",
     "iopub.status.idle": "2022-01-12T13:54:53.626145Z",
     "shell.execute_reply": "2022-01-12T13:54:53.626680Z"
    },
    "slideshow": {
     "slide_type": "skip"
    }
   },
   "outputs": [],
   "source": [
    "import inspect"
   ]
  },
  {
   "cell_type": "code",
   "execution_count": 16,
   "metadata": {
    "execution": {
     "iopub.execute_input": "2022-01-12T13:54:53.631471Z",
     "iopub.status.busy": "2022-01-12T13:54:53.630558Z",
     "iopub.status.idle": "2022-01-12T13:54:53.632763Z",
     "shell.execute_reply": "2022-01-12T13:54:53.633285Z"
    },
    "slideshow": {
     "slide_type": "fragment"
    }
   },
   "outputs": [],
   "source": [
    "def get_qualified_name(code):\n",
    "    \"\"\"Return the fully qualified name of the current function\"\"\"\n",
    "    name = code.co_name\n",
    "    module = inspect.getmodule(code)\n",
    "    if module is not None:\n",
    "        name = module.__name__ + \".\" + name\n",
    "    return name"
   ]
  },
  {
   "cell_type": "code",
   "execution_count": 17,
   "metadata": {
    "execution": {
     "iopub.execute_input": "2022-01-12T13:54:53.637429Z",
     "iopub.status.busy": "2022-01-12T13:54:53.636850Z",
     "iopub.status.idle": "2022-01-12T13:54:53.638658Z",
     "shell.execute_reply": "2022-01-12T13:54:53.639038Z"
    },
    "slideshow": {
     "slide_type": "subslide"
    }
   },
   "outputs": [],
   "source": [
    "def get_arguments(frame):\n",
    "    \"\"\"Return call arguments in the given frame\"\"\"\n",
    "    # When called, all arguments are local variables\n",
    "    local_variables = frame.f_locals.copy()\n",
    "    arguments = [(var, frame.f_locals[var])\n",
    "                 for var in local_variables]\n",
    "    arguments.reverse()  # Want same order as call\n",
    "    return arguments"
   ]
  },
  {
   "cell_type": "code",
   "execution_count": 18,
   "metadata": {
    "execution": {
     "iopub.execute_input": "2022-01-12T13:54:53.645061Z",
     "iopub.status.busy": "2022-01-12T13:54:53.644238Z",
     "iopub.status.idle": "2022-01-12T13:54:53.646055Z",
     "shell.execute_reply": "2022-01-12T13:54:53.646479Z"
    },
    "slideshow": {
     "slide_type": "subslide"
    }
   },
   "outputs": [],
   "source": [
    "class CallCarver(Carver):\n",
    "    def add_call(self, function_name, arguments):\n",
    "        \"\"\"Add given call to list of calls\"\"\"\n",
    "        if function_name not in self._calls:\n",
    "            self._calls[function_name] = []\n",
    "        self._calls[function_name].append(arguments)\n",
    "\n",
    "    # Tracking function: Record all calls and all args\n",
    "    def traceit(self, frame, event, arg):\n",
    "        if event != \"call\":\n",
    "            return None\n",
    "\n",
    "        code = frame.f_code\n",
    "        function_name = code.co_name\n",
    "        qualified_name = get_qualified_name(code)\n",
    "        arguments = get_arguments(frame)\n",
    "\n",
    "        self.add_call(function_name, arguments)\n",
    "        if qualified_name != function_name:\n",
    "            self.add_call(qualified_name, arguments)\n",
    "\n",
    "        if self._log:\n",
    "            print(simple_call_string(function_name, arguments))\n",
    "\n",
    "        return None"
   ]
  },
  {
   "cell_type": "markdown",
   "metadata": {
    "slideshow": {
     "slide_type": "subslide"
    }
   },
   "source": [
    "Finally, we need some convenience functions to access the calls:"
   ]
  },
  {
   "cell_type": "code",
   "execution_count": 19,
   "metadata": {
    "execution": {
     "iopub.execute_input": "2022-01-12T13:54:53.652087Z",
     "iopub.status.busy": "2022-01-12T13:54:53.651491Z",
     "iopub.status.idle": "2022-01-12T13:54:53.653032Z",
     "shell.execute_reply": "2022-01-12T13:54:53.653475Z"
    },
    "slideshow": {
     "slide_type": "subslide"
    }
   },
   "outputs": [],
   "source": [
    "class CallCarver(CallCarver):\n",
    "    def calls(self):\n",
    "        \"\"\"Return a dictionary of all calls traced.\"\"\"\n",
    "        return self._calls\n",
    "\n",
    "    def arguments(self, function_name):\n",
    "        \"\"\"Return a list of all arguments of the given function\n",
    "        as (VAR, VALUE) pairs.\n",
    "        Raises an exception if the function was not traced.\"\"\"\n",
    "        return self._calls[function_name]\n",
    "\n",
    "    def called_functions(self, qualified=False):\n",
    "        \"\"\"Return all functions called.\"\"\"\n",
    "        if qualified:\n",
    "            return [function_name for function_name in self._calls.keys()\n",
    "                    if function_name.find('.') >= 0]\n",
    "        else:\n",
    "            return [function_name for function_name in self._calls.keys()\n",
    "                    if function_name.find('.') < 0]"
   ]
  },
  {
   "cell_type": "markdown",
   "metadata": {
    "slideshow": {
     "slide_type": "subslide"
    }
   },
   "source": [
    "### Recording my_sqrt()"
   ]
  },
  {
   "cell_type": "markdown",
   "metadata": {
    "slideshow": {
     "slide_type": "fragment"
    }
   },
   "source": [
    "Let's try out our new `Carver` class – first on a very simple function:"
   ]
  },
  {
   "cell_type": "code",
   "execution_count": 20,
   "metadata": {
    "execution": {
     "iopub.execute_input": "2022-01-12T13:54:53.656917Z",
     "iopub.status.busy": "2022-01-12T13:54:53.656382Z",
     "iopub.status.idle": "2022-01-12T13:54:53.658146Z",
     "shell.execute_reply": "2022-01-12T13:54:53.658524Z"
    },
    "slideshow": {
     "slide_type": "skip"
    }
   },
   "outputs": [],
   "source": [
    "from Intro_Testing import my_sqrt"
   ]
  },
  {
   "cell_type": "code",
   "execution_count": 21,
   "metadata": {
    "execution": {
     "iopub.execute_input": "2022-01-12T13:54:53.662310Z",
     "iopub.status.busy": "2022-01-12T13:54:53.661652Z",
     "iopub.status.idle": "2022-01-12T13:54:53.850884Z",
     "shell.execute_reply": "2022-01-12T13:54:53.851285Z"
    },
    "slideshow": {
     "slide_type": "fragment"
    }
   },
   "outputs": [],
   "source": [
    "with CallCarver() as sqrt_carver:\n",
    "    my_sqrt(2)\n",
    "    my_sqrt(4)"
   ]
  },
  {
   "cell_type": "markdown",
   "metadata": {
    "slideshow": {
     "slide_type": "fragment"
    }
   },
   "source": [
    "We can retrieve all calls seen..."
   ]
  },
  {
   "cell_type": "code",
   "execution_count": 22,
   "metadata": {
    "execution": {
     "iopub.execute_input": "2022-01-12T13:54:53.855726Z",
     "iopub.status.busy": "2022-01-12T13:54:53.855071Z",
     "iopub.status.idle": "2022-01-12T13:54:53.857536Z",
     "shell.execute_reply": "2022-01-12T13:54:53.857928Z"
    },
    "slideshow": {
     "slide_type": "fragment"
    }
   },
   "outputs": [
    {
     "data": {
      "text/plain": [
       "{'my_sqrt': [[('x', 2)], [('x', 4)]],\n",
       " 'Intro_Testing.my_sqrt': [[('x', 2)], [('x', 4)]],\n",
       " '__exit__': [[('tb', None),\n",
       "   ('exc_value', None),\n",
       "   ('exc_type', None),\n",
       "   ('self', <__main__.CallCarver at 0x119d800d0>)]]}"
      ]
     },
     "execution_count": 22,
     "metadata": {},
     "output_type": "execute_result"
    }
   ],
   "source": [
    "sqrt_carver.calls()"
   ]
  },
  {
   "cell_type": "code",
   "execution_count": 23,
   "metadata": {
    "execution": {
     "iopub.execute_input": "2022-01-12T13:54:53.861698Z",
     "iopub.status.busy": "2022-01-12T13:54:53.861086Z",
     "iopub.status.idle": "2022-01-12T13:54:53.863989Z",
     "shell.execute_reply": "2022-01-12T13:54:53.864388Z"
    },
    "slideshow": {
     "slide_type": "subslide"
    }
   },
   "outputs": [
    {
     "data": {
      "text/plain": [
       "['my_sqrt', '__exit__']"
      ]
     },
     "execution_count": 23,
     "metadata": {},
     "output_type": "execute_result"
    }
   ],
   "source": [
    "sqrt_carver.called_functions()"
   ]
  },
  {
   "cell_type": "markdown",
   "metadata": {
    "slideshow": {
     "slide_type": "fragment"
    }
   },
   "source": [
    "... as well as the arguments of a particular function:"
   ]
  },
  {
   "cell_type": "code",
   "execution_count": 24,
   "metadata": {
    "execution": {
     "iopub.execute_input": "2022-01-12T13:54:53.868097Z",
     "iopub.status.busy": "2022-01-12T13:54:53.867567Z",
     "iopub.status.idle": "2022-01-12T13:54:53.869730Z",
     "shell.execute_reply": "2022-01-12T13:54:53.870228Z"
    },
    "slideshow": {
     "slide_type": "fragment"
    }
   },
   "outputs": [
    {
     "data": {
      "text/plain": [
       "[[('x', 2)], [('x', 4)]]"
      ]
     },
     "execution_count": 24,
     "metadata": {},
     "output_type": "execute_result"
    }
   ],
   "source": [
    "sqrt_carver.arguments(\"my_sqrt\")"
   ]
  },
  {
   "cell_type": "markdown",
   "metadata": {
    "slideshow": {
     "slide_type": "fragment"
    }
   },
   "source": [
    "We define a convenience function for nicer printing of these lists:"
   ]
  },
  {
   "cell_type": "code",
   "execution_count": 25,
   "metadata": {
    "execution": {
     "iopub.execute_input": "2022-01-12T13:54:53.873928Z",
     "iopub.status.busy": "2022-01-12T13:54:53.873413Z",
     "iopub.status.idle": "2022-01-12T13:54:53.875003Z",
     "shell.execute_reply": "2022-01-12T13:54:53.875437Z"
    },
    "slideshow": {
     "slide_type": "fragment"
    }
   },
   "outputs": [],
   "source": [
    "def simple_call_string(function_name, argument_list):\n",
    "    \"\"\"Return function_name(arg[0], arg[1], ...) as a string\"\"\"\n",
    "    return function_name + \"(\" + \\\n",
    "        \", \".join([var + \"=\" + repr(value)\n",
    "                   for (var, value) in argument_list]) + \")\""
   ]
  },
  {
   "cell_type": "code",
   "execution_count": 26,
   "metadata": {
    "execution": {
     "iopub.execute_input": "2022-01-12T13:54:53.878672Z",
     "iopub.status.busy": "2022-01-12T13:54:53.878156Z",
     "iopub.status.idle": "2022-01-12T13:54:53.880262Z",
     "shell.execute_reply": "2022-01-12T13:54:53.880801Z"
    },
    "slideshow": {
     "slide_type": "subslide"
    }
   },
   "outputs": [
    {
     "name": "stdout",
     "output_type": "stream",
     "text": [
      "my_sqrt(x=2)\n",
      "my_sqrt(x=4)\n",
      "__exit__(tb=None, exc_value=None, exc_type=None, self=<__main__.CallCarver object at 0x119d800d0>)\n"
     ]
    }
   ],
   "source": [
    "for function_name in sqrt_carver.called_functions():\n",
    "    for argument_list in sqrt_carver.arguments(function_name):\n",
    "        print(simple_call_string(function_name, argument_list))"
   ]
  },
  {
   "cell_type": "markdown",
   "metadata": {
    "slideshow": {
     "slide_type": "fragment"
    }
   },
   "source": [
    "This is a syntax we can directly use to invoke `my_sqrt()` again:"
   ]
  },
  {
   "cell_type": "code",
   "execution_count": 27,
   "metadata": {
    "execution": {
     "iopub.execute_input": "2022-01-12T13:54:53.884617Z",
     "iopub.status.busy": "2022-01-12T13:54:53.884038Z",
     "iopub.status.idle": "2022-01-12T13:54:53.886377Z",
     "shell.execute_reply": "2022-01-12T13:54:53.886888Z"
    },
    "slideshow": {
     "slide_type": "fragment"
    }
   },
   "outputs": [
    {
     "data": {
      "text/plain": [
       "1.414213562373095"
      ]
     },
     "execution_count": 27,
     "metadata": {},
     "output_type": "execute_result"
    }
   ],
   "source": [
    "eval(\"my_sqrt(x=2)\")"
   ]
  },
  {
   "cell_type": "markdown",
   "metadata": {
    "slideshow": {
     "slide_type": "subslide"
    }
   },
   "source": [
    "### Carving urlparse()"
   ]
  },
  {
   "cell_type": "markdown",
   "metadata": {
    "slideshow": {
     "slide_type": "fragment"
    }
   },
   "source": [
    "What happens if we apply this to `webbrowser()`?"
   ]
  },
  {
   "cell_type": "code",
   "execution_count": 28,
   "metadata": {
    "execution": {
     "iopub.execute_input": "2022-01-12T13:54:53.893543Z",
     "iopub.status.busy": "2022-01-12T13:54:53.892957Z",
     "iopub.status.idle": "2022-01-12T13:54:55.351369Z",
     "shell.execute_reply": "2022-01-12T13:54:55.352076Z"
    },
    "slideshow": {
     "slide_type": "fragment"
    }
   },
   "outputs": [],
   "source": [
    "with CallCarver() as webbrowser_carver:\n",
    "    webbrowser(\"http://www.example.com\")"
   ]
  },
  {
   "cell_type": "markdown",
   "metadata": {
    "slideshow": {
     "slide_type": "fragment"
    }
   },
   "source": [
    "We see that retrieving a URL from the Web requires quite some functionality:"
   ]
  },
  {
   "cell_type": "code",
   "execution_count": 29,
   "metadata": {
    "execution": {
     "iopub.execute_input": "2022-01-12T13:54:55.358500Z",
     "iopub.status.busy": "2022-01-12T13:54:55.357515Z",
     "iopub.status.idle": "2022-01-12T13:54:55.361685Z",
     "shell.execute_reply": "2022-01-12T13:54:55.362292Z"
    },
    "slideshow": {
     "slide_type": "fragment"
    }
   },
   "outputs": [
    {
     "data": {
      "text/plain": [
       "325"
      ]
     },
     "execution_count": 29,
     "metadata": {},
     "output_type": "execute_result"
    }
   ],
   "source": [
    "function_list = webbrowser_carver.called_functions(qualified=True)\n",
    "len(function_list)"
   ]
  },
  {
   "cell_type": "code",
   "execution_count": 30,
   "metadata": {
    "execution": {
     "iopub.execute_input": "2022-01-12T13:54:55.367675Z",
     "iopub.status.busy": "2022-01-12T13:54:55.366720Z",
     "iopub.status.idle": "2022-01-12T13:54:55.370017Z",
     "shell.execute_reply": "2022-01-12T13:54:55.371046Z"
    },
    "slideshow": {
     "slide_type": "fragment"
    }
   },
   "outputs": [
    {
     "name": "stdout",
     "output_type": "stream",
     "text": [
      "['requests.api.get', 'requests.api.request', 'requests.sessions.__init__', 'requests.utils.default_headers', 'requests.utils.default_user_agent', 'requests.structures.__init__', 'collections.abc.update', 'abc.__instancecheck__', 'requests.structures.__setitem__', 'requests.hooks.default_hooks', 'requests.hooks.<dictcomp>', 'requests.cookies.cookiejar_from_dict', 'http.cookiejar.__init__', 'threading.RLock', 'http.cookiejar.__iter__', 'requests.cookies.<listcomp>', 'http.cookiejar.deepvalues', 'http.cookiejar.vals_sorted_by_key', 'requests.adapters.__init__', 'urllib3.util.retry.__init__', 'urllib3.util.retry.<listcomp>', 'requests.adapters.init_poolmanager', 'urllib3.poolmanager.__init__', 'urllib3.request.__init__', 'urllib3._collections.__init__', 'requests.sessions.mount', 'requests.sessions.<listcomp>', 'requests.sessions.__enter__', 'requests.sessions.request', 'requests.models.__init__', 'requests.sessions.prepare_request', 'requests.cookies.merge_cookies', 'requests.cookies.update', 'requests.utils.get_netrc_auth', 'collections.abc.get', 'os.__getitem__', 'os.encode', 'requests.utils.<genexpr>', 'posixpath.expanduser', 'posixpath._get_sep', 'collections.abc.__contains__', 'os.decode', 'genericpath.exists', 'urllib.parse.urlparse', 'urllib.parse._coerce_args', 'urllib.parse.urlsplit', 'urllib.parse._splitnetloc', 'urllib.parse._checknetloc', 'urllib.parse._noop', 'netrc.__init__']\n"
     ]
    }
   ],
   "source": [
    "print(function_list[:50])"
   ]
  },
  {
   "cell_type": "markdown",
   "metadata": {
    "slideshow": {
     "slide_type": "fragment"
    }
   },
   "source": [
    "Among several other functions, we also have a call to `urlparse()`:"
   ]
  },
  {
   "cell_type": "code",
   "execution_count": 31,
   "metadata": {
    "execution": {
     "iopub.execute_input": "2022-01-12T13:54:55.380922Z",
     "iopub.status.busy": "2022-01-12T13:54:55.379982Z",
     "iopub.status.idle": "2022-01-12T13:54:55.384683Z",
     "shell.execute_reply": "2022-01-12T13:54:55.385441Z"
    },
    "slideshow": {
     "slide_type": "subslide"
    }
   },
   "outputs": [
    {
     "data": {
      "text/plain": [
       "[[('allow_fragments', True),\n",
       "  ('scheme', ''),\n",
       "  ('url', 'http://www.example.com')],\n",
       " [('allow_fragments', True),\n",
       "  ('scheme', ''),\n",
       "  ('url', 'http://www.example.com/')],\n",
       " [('allow_fragments', True),\n",
       "  ('scheme', ''),\n",
       "  ('url', 'http://www.example.com/')],\n",
       " [('allow_fragments', True),\n",
       "  ('scheme', ''),\n",
       "  ('url', 'http://www.example.com/')],\n",
       " [('allow_fragments', True),\n",
       "  ('scheme', ''),\n",
       "  ('url', 'http://www.example.com/')],\n",
       " [('allow_fragments', True),\n",
       "  ('scheme', ''),\n",
       "  ('url', 'http://www.example.com/')],\n",
       " [('allow_fragments', True),\n",
       "  ('scheme', ''),\n",
       "  ('url', 'http://www.example.com/')],\n",
       " [('allow_fragments', True),\n",
       "  ('scheme', ''),\n",
       "  ('url', 'http://www.example.com/')],\n",
       " [('allow_fragments', True),\n",
       "  ('scheme', ''),\n",
       "  ('url', 'http://www.example.com/')],\n",
       " [('allow_fragments', True),\n",
       "  ('scheme', ''),\n",
       "  ('url', 'http://www.example.com/')],\n",
       " [('allow_fragments', True),\n",
       "  ('scheme', ''),\n",
       "  ('url', 'http://www.example.com/')],\n",
       " [('allow_fragments', True),\n",
       "  ('scheme', ''),\n",
       "  ('url', 'http://www.example.com/')],\n",
       " [('allow_fragments', True),\n",
       "  ('scheme', ''),\n",
       "  ('url', 'http://www.example.com/')],\n",
       " [('allow_fragments', True),\n",
       "  ('scheme', ''),\n",
       "  ('url', 'http://www.example.com/')]]"
      ]
     },
     "execution_count": 31,
     "metadata": {},
     "output_type": "execute_result"
    }
   ],
   "source": [
    "urlparse_argument_list = webbrowser_carver.arguments(\"urllib.parse.urlparse\")\n",
    "urlparse_argument_list"
   ]
  },
  {
   "cell_type": "markdown",
   "metadata": {
    "slideshow": {
     "slide_type": "subslide"
    }
   },
   "source": [
    "Again, we can convert this into a well-formatted call:"
   ]
  },
  {
   "cell_type": "code",
   "execution_count": 32,
   "metadata": {
    "execution": {
     "iopub.execute_input": "2022-01-12T13:54:55.391880Z",
     "iopub.status.busy": "2022-01-12T13:54:55.390940Z",
     "iopub.status.idle": "2022-01-12T13:54:55.396197Z",
     "shell.execute_reply": "2022-01-12T13:54:55.397129Z"
    },
    "slideshow": {
     "slide_type": "fragment"
    }
   },
   "outputs": [
    {
     "data": {
      "text/plain": [
       "\"urlparse(allow_fragments=True, scheme='', url='http://www.example.com')\""
      ]
     },
     "execution_count": 32,
     "metadata": {},
     "output_type": "execute_result"
    }
   ],
   "source": [
    "urlparse_call = simple_call_string(\"urlparse\", urlparse_argument_list[0])\n",
    "urlparse_call"
   ]
  },
  {
   "cell_type": "markdown",
   "metadata": {
    "slideshow": {
     "slide_type": "fragment"
    }
   },
   "source": [
    "Again, we can re-execute this call:"
   ]
  },
  {
   "cell_type": "code",
   "execution_count": 33,
   "metadata": {
    "execution": {
     "iopub.execute_input": "2022-01-12T13:54:55.403222Z",
     "iopub.status.busy": "2022-01-12T13:54:55.402389Z",
     "iopub.status.idle": "2022-01-12T13:54:55.406107Z",
     "shell.execute_reply": "2022-01-12T13:54:55.406659Z"
    },
    "slideshow": {
     "slide_type": "fragment"
    }
   },
   "outputs": [
    {
     "data": {
      "text/plain": [
       "ParseResult(scheme='http', netloc='www.example.com', path='', params='', query='', fragment='')"
      ]
     },
     "execution_count": 33,
     "metadata": {},
     "output_type": "execute_result"
    }
   ],
   "source": [
    "eval(urlparse_call)"
   ]
  },
  {
   "cell_type": "markdown",
   "metadata": {
    "slideshow": {
     "slide_type": "fragment"
    }
   },
   "source": [
    "We now have successfully carved the call to `urlparse()` out of the `webbrowser()` execution."
   ]
  },
  {
   "cell_type": "markdown",
   "metadata": {
    "slideshow": {
     "slide_type": "slide"
    }
   },
   "source": [
    "## Replaying Calls"
   ]
  },
  {
   "cell_type": "markdown",
   "metadata": {
    "slideshow": {
     "slide_type": "subslide"
    }
   },
   "source": [
    "Replaying calls in their entirety and in all generality is tricky, as there are several challenges to be addressed.  These include:\n",
    "\n",
    "1. We need to be able to _access_ individual functions.  If we access a function by name, the name must be in scope.  If the name is not visible (for instance, because it is a name internal to the module), we must make it visible.\n",
    "\n",
    "2. Any _resources_ accessed outside of arguments must be recorded and reconstructed for replay as well.  This can be difficult if variables refer to external resources such as files or network resources.\n",
    "\n",
    "3. _Complex objects_ must be reconstructed as well."
   ]
  },
  {
   "cell_type": "markdown",
   "metadata": {
    "slideshow": {
     "slide_type": "subslide"
    }
   },
   "source": [
    "These constraints make carving hard or even impossible if the function to be tested interacts heavily with its environment.  To illustrate these issues, consider the `email.parser.parse()` method that is invoked in `webbrowser()`:"
   ]
  },
  {
   "cell_type": "code",
   "execution_count": 34,
   "metadata": {
    "execution": {
     "iopub.execute_input": "2022-01-12T13:54:55.412856Z",
     "iopub.status.busy": "2022-01-12T13:54:55.411986Z",
     "iopub.status.idle": "2022-01-12T13:54:55.414732Z",
     "shell.execute_reply": "2022-01-12T13:54:55.415654Z"
    },
    "slideshow": {
     "slide_type": "fragment"
    }
   },
   "outputs": [],
   "source": [
    "email_parse_argument_list = webbrowser_carver.arguments(\"email.parser.parse\")"
   ]
  },
  {
   "cell_type": "markdown",
   "metadata": {
    "slideshow": {
     "slide_type": "fragment"
    }
   },
   "source": [
    "Calls to this method look like this:"
   ]
  },
  {
   "cell_type": "code",
   "execution_count": 35,
   "metadata": {
    "execution": {
     "iopub.execute_input": "2022-01-12T13:54:55.421870Z",
     "iopub.status.busy": "2022-01-12T13:54:55.418797Z",
     "iopub.status.idle": "2022-01-12T13:54:55.426985Z",
     "shell.execute_reply": "2022-01-12T13:54:55.427889Z"
    },
    "slideshow": {
     "slide_type": "fragment"
    }
   },
   "outputs": [
    {
     "data": {
      "text/plain": [
       "'email.parser.Parser.parse(headersonly=False, fp=<_io.StringIO object at 0x1067b5a60>, self=<email.parser.Parser object at 0x119f5e1c0>)'"
      ]
     },
     "execution_count": 35,
     "metadata": {},
     "output_type": "execute_result"
    }
   ],
   "source": [
    "email_parse_call = simple_call_string(\n",
    "    \"email.parser.Parser.parse\",\n",
    "    email_parse_argument_list[0])\n",
    "email_parse_call"
   ]
  },
  {
   "cell_type": "markdown",
   "metadata": {
    "slideshow": {
     "slide_type": "fragment"
    }
   },
   "source": [
    "We see that `email.parser.Parser.parse()` is part of a `email.parser.Parser` object (`self`) and it gets a `StringIO` object (`fp`).  Both are non-primitive values.  How could we possibly reconstruct them?"
   ]
  },
  {
   "cell_type": "markdown",
   "metadata": {
    "slideshow": {
     "slide_type": "subslide"
    }
   },
   "source": [
    "### Serializing Objects\n",
    "\n",
    "The answer to the problem of complex objects lies in creating a _persistent_ representation that can be _reconstructed_ at later points in time.  This process is known as _serialization_; in Python, it is also known as _pickling_.  The `pickle` module provides means to create a serialized representation of an object.  Let us apply this on the `email.parser.Parser` object we just found:"
   ]
  },
  {
   "cell_type": "code",
   "execution_count": 36,
   "metadata": {
    "execution": {
     "iopub.execute_input": "2022-01-12T13:54:55.433648Z",
     "iopub.status.busy": "2022-01-12T13:54:55.432686Z",
     "iopub.status.idle": "2022-01-12T13:54:55.435076Z",
     "shell.execute_reply": "2022-01-12T13:54:55.435746Z"
    },
    "slideshow": {
     "slide_type": "skip"
    }
   },
   "outputs": [],
   "source": [
    "import pickle"
   ]
  },
  {
   "cell_type": "code",
   "execution_count": 37,
   "metadata": {
    "execution": {
     "iopub.execute_input": "2022-01-12T13:54:55.442466Z",
     "iopub.status.busy": "2022-01-12T13:54:55.441371Z",
     "iopub.status.idle": "2022-01-12T13:54:55.446686Z",
     "shell.execute_reply": "2022-01-12T13:54:55.447603Z"
    },
    "slideshow": {
     "slide_type": "fragment"
    }
   },
   "outputs": [
    {
     "data": {
      "text/plain": [
       "[[('headersonly', False),\n",
       "  ('fp', <_io.StringIO at 0x1067b5a60>),\n",
       "  ('self', <email.parser.Parser at 0x119f5e1c0>)]]"
      ]
     },
     "execution_count": 37,
     "metadata": {},
     "output_type": "execute_result"
    }
   ],
   "source": [
    "email_parse_argument_list"
   ]
  },
  {
   "cell_type": "code",
   "execution_count": 38,
   "metadata": {
    "execution": {
     "iopub.execute_input": "2022-01-12T13:54:55.455467Z",
     "iopub.status.busy": "2022-01-12T13:54:55.454314Z",
     "iopub.status.idle": "2022-01-12T13:54:55.459467Z",
     "shell.execute_reply": "2022-01-12T13:54:55.460780Z"
    },
    "slideshow": {
     "slide_type": "fragment"
    }
   },
   "outputs": [
    {
     "data": {
      "text/plain": [
       "<email.parser.Parser at 0x119f5e1c0>"
      ]
     },
     "execution_count": 38,
     "metadata": {},
     "output_type": "execute_result"
    }
   ],
   "source": [
    "parser_object = email_parse_argument_list[0][2][1]\n",
    "parser_object"
   ]
  },
  {
   "cell_type": "code",
   "execution_count": 39,
   "metadata": {
    "execution": {
     "iopub.execute_input": "2022-01-12T13:54:55.468942Z",
     "iopub.status.busy": "2022-01-12T13:54:55.467843Z",
     "iopub.status.idle": "2022-01-12T13:54:55.472064Z",
     "shell.execute_reply": "2022-01-12T13:54:55.472787Z"
    },
    "slideshow": {
     "slide_type": "subslide"
    }
   },
   "outputs": [
    {
     "data": {
      "text/plain": [
       "b'\\x80\\x04\\x95w\\x00\\x00\\x00\\x00\\x00\\x00\\x00\\x8c\\x0cemail.parser\\x94\\x8c\\x06Parser\\x94\\x93\\x94)\\x81\\x94}\\x94(\\x8c\\x06_class\\x94\\x8c\\x0bhttp.client\\x94\\x8c\\x0bHTTPMessage\\x94\\x93\\x94\\x8c\\x06policy\\x94\\x8c\\x11email._policybase\\x94\\x8c\\x08Compat32\\x94\\x93\\x94)\\x81\\x94ub.'"
      ]
     },
     "execution_count": 39,
     "metadata": {},
     "output_type": "execute_result"
    }
   ],
   "source": [
    "pickled = pickle.dumps(parser_object)\n",
    "pickled"
   ]
  },
  {
   "cell_type": "markdown",
   "metadata": {
    "slideshow": {
     "slide_type": "fragment"
    }
   },
   "source": [
    "From this string representing the serialized `email.parser.Parser` object, we can recreate the Parser object at any time:"
   ]
  },
  {
   "cell_type": "code",
   "execution_count": 40,
   "metadata": {
    "execution": {
     "iopub.execute_input": "2022-01-12T13:54:55.480564Z",
     "iopub.status.busy": "2022-01-12T13:54:55.479380Z",
     "iopub.status.idle": "2022-01-12T13:54:55.484066Z",
     "shell.execute_reply": "2022-01-12T13:54:55.484786Z"
    },
    "slideshow": {
     "slide_type": "fragment"
    }
   },
   "outputs": [
    {
     "data": {
      "text/plain": [
       "<email.parser.Parser at 0x119f5ef10>"
      ]
     },
     "execution_count": 40,
     "metadata": {},
     "output_type": "execute_result"
    }
   ],
   "source": [
    "unpickled_parser_object = pickle.loads(pickled)\n",
    "unpickled_parser_object"
   ]
  },
  {
   "cell_type": "markdown",
   "metadata": {
    "slideshow": {
     "slide_type": "fragment"
    }
   },
   "source": [
    "The serialization mechanism allows us to produce a representation for all objects passed as parameters (assuming they can be pickled, that is).  We can now extend the `simple_call_string()` function such that it automatically pickles objects.  Additionally, we set it up such that if the first parameter is named `self` (i.e., it is a class method), we make it a method of the `self` object."
   ]
  },
  {
   "cell_type": "code",
   "execution_count": 41,
   "metadata": {
    "execution": {
     "iopub.execute_input": "2022-01-12T13:54:55.492042Z",
     "iopub.status.busy": "2022-01-12T13:54:55.491010Z",
     "iopub.status.idle": "2022-01-12T13:54:55.493279Z",
     "shell.execute_reply": "2022-01-12T13:54:55.494329Z"
    },
    "slideshow": {
     "slide_type": "subslide"
    }
   },
   "outputs": [],
   "source": [
    "def call_value(value):\n",
    "    value_as_string = repr(value)\n",
    "    if value_as_string.find('<') >= 0:\n",
    "        # Complex object\n",
    "        value_as_string = \"pickle.loads(\" + repr(pickle.dumps(value)) + \")\"\n",
    "    return value_as_string"
   ]
  },
  {
   "cell_type": "code",
   "execution_count": 42,
   "metadata": {
    "execution": {
     "iopub.execute_input": "2022-01-12T13:54:55.502543Z",
     "iopub.status.busy": "2022-01-12T13:54:55.501624Z",
     "iopub.status.idle": "2022-01-12T13:54:55.503708Z",
     "shell.execute_reply": "2022-01-12T13:54:55.504418Z"
    },
    "slideshow": {
     "slide_type": "subslide"
    }
   },
   "outputs": [],
   "source": [
    "def call_string(function_name, argument_list):\n",
    "    \"\"\"Return function_name(arg[0], arg[1], ...) as a string, pickling complex objects\"\"\"\n",
    "    if len(argument_list) > 0:\n",
    "        (first_var, first_value) = argument_list[0]\n",
    "        if first_var == \"self\":\n",
    "            # Make this a method call\n",
    "            method_name = function_name.split(\".\")[-1]\n",
    "            function_name = call_value(first_value) + \".\" + method_name\n",
    "            argument_list = argument_list[1:]\n",
    "\n",
    "    return function_name + \"(\" + \\\n",
    "        \", \".join([var + \"=\" + call_value(value)\n",
    "                   for (var, value) in argument_list]) + \")\""
   ]
  },
  {
   "cell_type": "markdown",
   "metadata": {
    "slideshow": {
     "slide_type": "fragment"
    }
   },
   "source": [
    "Let us apply the extended `call_string()` method to create a call for `email.parser.parse()`, including pickled objects:"
   ]
  },
  {
   "cell_type": "code",
   "execution_count": 43,
   "metadata": {
    "execution": {
     "iopub.execute_input": "2022-01-12T13:54:55.510340Z",
     "iopub.status.busy": "2022-01-12T13:54:55.509391Z",
     "iopub.status.idle": "2022-01-12T13:54:55.513040Z",
     "shell.execute_reply": "2022-01-12T13:54:55.513651Z"
    },
    "slideshow": {
     "slide_type": "subslide"
    }
   },
   "outputs": [
    {
     "name": "stdout",
     "output_type": "stream",
     "text": [
      "email.parser.Parser.parse(headersonly=False, fp=pickle.loads(b'\\x80\\x04\\x95\\x94\\x01\\x00\\x00\\x00\\x00\\x00\\x00\\x8c\\x03_io\\x94\\x8c\\x08StringIO\\x94\\x93\\x94)\\x81\\x94(Xk\\x01\\x00\\x00Content-Encoding: gzip\\r\\nAccept-Ranges: bytes\\r\\nAge: 574431\\r\\nCache-Control: max-age=604800\\r\\nContent-Type: text/html; charset=UTF-8\\r\\nDate: Wed, 12 Jan 2022 13:54:55 GMT\\r\\nEtag: \"3147526947+ident\"\\r\\nExpires: Wed, 19 Jan 2022 13:54:55 GMT\\r\\nLast-Modified: Thu, 17 Oct 2019 07:18:26 GMT\\r\\nServer: ECS (dcb/7F13)\\r\\nVary: Accept-Encoding\\r\\nX-Cache: HIT\\r\\nContent-Length: 648\\r\\n\\r\\n\\x94\\x8c\\x01\\n\\x94Mk\\x01Nt\\x94b.'), self=pickle.loads(b'\\x80\\x04\\x95w\\x00\\x00\\x00\\x00\\x00\\x00\\x00\\x8c\\x0cemail.parser\\x94\\x8c\\x06Parser\\x94\\x93\\x94)\\x81\\x94}\\x94(\\x8c\\x06_class\\x94\\x8c\\x0bhttp.client\\x94\\x8c\\x0bHTTPMessage\\x94\\x93\\x94\\x8c\\x06policy\\x94\\x8c\\x11email._policybase\\x94\\x8c\\x08Compat32\\x94\\x93\\x94)\\x81\\x94ub.'))\n"
     ]
    }
   ],
   "source": [
    "call = call_string(\"email.parser.Parser.parse\", email_parse_argument_list[0])\n",
    "print(call)"
   ]
  },
  {
   "cell_type": "markdown",
   "metadata": {
    "slideshow": {
     "slide_type": "fragment"
    }
   },
   "source": [
    "With this call involving the pickled object, we can now re-run the original call and obtain a valid result:"
   ]
  },
  {
   "cell_type": "code",
   "execution_count": 44,
   "metadata": {
    "execution": {
     "iopub.execute_input": "2022-01-12T13:54:55.518398Z",
     "iopub.status.busy": "2022-01-12T13:54:55.517350Z",
     "iopub.status.idle": "2022-01-12T13:54:55.520356Z",
     "shell.execute_reply": "2022-01-12T13:54:55.520890Z"
    },
    "slideshow": {
     "slide_type": "skip"
    }
   },
   "outputs": [],
   "source": [
    "import email"
   ]
  },
  {
   "cell_type": "code",
   "execution_count": 45,
   "metadata": {
    "execution": {
     "iopub.execute_input": "2022-01-12T13:54:55.527192Z",
     "iopub.status.busy": "2022-01-12T13:54:55.526206Z",
     "iopub.status.idle": "2022-01-12T13:54:55.530638Z",
     "shell.execute_reply": "2022-01-12T13:54:55.531986Z"
    },
    "slideshow": {
     "slide_type": "fragment"
    }
   },
   "outputs": [
    {
     "data": {
      "text/plain": [
       "<http.client.HTTPMessage at 0x119f94160>"
      ]
     },
     "execution_count": 45,
     "metadata": {},
     "output_type": "execute_result"
    }
   ],
   "source": [
    "eval(call)"
   ]
  },
  {
   "cell_type": "markdown",
   "metadata": {
    "slideshow": {
     "slide_type": "subslide"
    }
   },
   "source": [
    "### All Calls\n",
    "\n",
    "So far, we have seen only one call of `webbrowser()`.  How many of the calls within `webbrowser()` can we actually carve and replay?  Let us try this out and compute the numbers."
   ]
  },
  {
   "cell_type": "code",
   "execution_count": 46,
   "metadata": {
    "execution": {
     "iopub.execute_input": "2022-01-12T13:54:55.538676Z",
     "iopub.status.busy": "2022-01-12T13:54:55.537032Z",
     "iopub.status.idle": "2022-01-12T13:54:55.541114Z",
     "shell.execute_reply": "2022-01-12T13:54:55.542563Z"
    },
    "slideshow": {
     "slide_type": "skip"
    }
   },
   "outputs": [],
   "source": [
    "import traceback"
   ]
  },
  {
   "cell_type": "code",
   "execution_count": 47,
   "metadata": {
    "execution": {
     "iopub.execute_input": "2022-01-12T13:54:55.548963Z",
     "iopub.status.busy": "2022-01-12T13:54:55.548345Z",
     "iopub.status.idle": "2022-01-12T13:54:55.551342Z",
     "shell.execute_reply": "2022-01-12T13:54:55.552361Z"
    },
    "slideshow": {
     "slide_type": "skip"
    }
   },
   "outputs": [],
   "source": [
    "import enum\n",
    "import socket"
   ]
  },
  {
   "cell_type": "code",
   "execution_count": 48,
   "metadata": {
    "execution": {
     "iopub.execute_input": "2022-01-12T13:54:55.559286Z",
     "iopub.status.busy": "2022-01-12T13:54:55.557995Z",
     "iopub.status.idle": "2022-01-12T13:54:55.560956Z",
     "shell.execute_reply": "2022-01-12T13:54:55.561919Z"
    },
    "slideshow": {
     "slide_type": "fragment"
    }
   },
   "outputs": [],
   "source": [
    "all_functions = set(webbrowser_carver.called_functions(qualified=True))\n",
    "call_success = set()\n",
    "run_success = set()"
   ]
  },
  {
   "cell_type": "code",
   "execution_count": 49,
   "metadata": {
    "execution": {
     "iopub.execute_input": "2022-01-12T13:54:55.658613Z",
     "iopub.status.busy": "2022-01-12T13:54:55.603988Z",
     "iopub.status.idle": "2022-01-12T13:54:57.761580Z",
     "shell.execute_reply": "2022-01-12T13:54:57.762732Z"
    },
    "slideshow": {
     "slide_type": "subslide"
    }
   },
   "outputs": [],
   "source": [
    "exceptions_seen = set()\n",
    "\n",
    "for function_name in webbrowser_carver.called_functions(qualified=True):\n",
    "    for argument_list in webbrowser_carver.arguments(function_name):\n",
    "        try:\n",
    "            call = call_string(function_name, argument_list)\n",
    "            call_success.add(function_name)\n",
    "\n",
    "            result = eval(call)\n",
    "            run_success.add(function_name)\n",
    "\n",
    "        except Exception as exc:\n",
    "            exceptions_seen.add(repr(exc))\n",
    "            # print(\"->\", call, file=sys.stderr)\n",
    "            # traceback.print_exc()\n",
    "            # print(\"\", file=sys.stderr)\n",
    "            continue"
   ]
  },
  {
   "cell_type": "code",
   "execution_count": 50,
   "metadata": {
    "execution": {
     "iopub.execute_input": "2022-01-12T13:54:57.769788Z",
     "iopub.status.busy": "2022-01-12T13:54:57.769165Z",
     "iopub.status.idle": "2022-01-12T13:54:57.772059Z",
     "shell.execute_reply": "2022-01-12T13:54:57.772468Z"
    },
    "slideshow": {
     "slide_type": "subslide"
    }
   },
   "outputs": [
    {
     "name": "stdout",
     "output_type": "stream",
     "text": [
      "264/325 calls (81.23%) successfully created and 54/325 calls (16.62%) successfully ran\n"
     ]
    }
   ],
   "source": [
    "print(\"%d/%d calls (%.2f%%) successfully created and %d/%d calls (%.2f%%) successfully ran\" % (\n",
    "    len(call_success), len(all_functions), len(\n",
    "        call_success) * 100 / len(all_functions),\n",
    "    len(run_success), len(all_functions), len(run_success) * 100 / len(all_functions)))"
   ]
  },
  {
   "cell_type": "markdown",
   "metadata": {
    "slideshow": {
     "slide_type": "fragment"
    }
   },
   "source": [
    "About a quarter of the calls succeed.  Let us take a look into some of the error messages we get:"
   ]
  },
  {
   "cell_type": "code",
   "execution_count": 51,
   "metadata": {
    "execution": {
     "iopub.execute_input": "2022-01-12T13:54:57.777878Z",
     "iopub.status.busy": "2022-01-12T13:54:57.777215Z",
     "iopub.status.idle": "2022-01-12T13:54:57.779870Z",
     "shell.execute_reply": "2022-01-12T13:54:57.780484Z"
    },
    "slideshow": {
     "slide_type": "subslide"
    }
   },
   "outputs": [
    {
     "name": "stdout",
     "output_type": "stream",
     "text": [
      "SyntaxError('invalid syntax', ('<string>', 1, 1144, 'pickle.loads(b\\'\\\\x80\\\\x04\\\\x95h\\\\x02\\\\x00\\\\x00\\\\x00\\\\x00\\\\x00\\\\x00\\\\x8c\\\\x0bhttp.client\\\\x94\\\\x8c\\\\x0bHTTPMessage\\\\x94\\\\x93\\\\x94)\\\\x81\\\\x94}\\\\x94(\\\\x8c\\\\x06policy\\\\x94\\\\x8c\\\\x11email._policybase\\\\x94\\\\x8c\\\\x08Compat32\\\\x94\\\\x93\\\\x94)\\\\x81\\\\x94\\\\x8c\\\\x08_headers\\\\x94]\\\\x94(\\\\x8c\\\\x10Content-Encoding\\\\x94\\\\x8c\\\\x04gzip\\\\x94\\\\x86\\\\x94\\\\x8c\\\\rAccept-Ranges\\\\x94\\\\x8c\\\\x05bytes\\\\x94\\\\x86\\\\x94\\\\x8c\\\\x03Age\\\\x94\\\\x8c\\\\x06574431\\\\x94\\\\x86\\\\x94\\\\x8c\\\\rCache-Control\\\\x94\\\\x8c\\\\x0emax-age=604800\\\\x94\\\\x86\\\\x94\\\\x8c\\\\x0cContent-Type\\\\x94\\\\x8c\\\\x18text/html; charset=UTF-8\\\\x94\\\\x86\\\\x94\\\\x8c\\\\x04Date\\\\x94\\\\x8c\\\\x1dWed, 12 Jan 2022 13:54:55 GMT\\\\x94\\\\x86\\\\x94\\\\x8c\\\\x04Etag\\\\x94\\\\x8c\\\\x12\"3147526947+ident\"\\\\x94\\\\x86\\\\x94\\\\x8c\\\\x07Expires\\\\x94\\\\x8c\\\\x1dWed, 19 Jan 2022 13:54:55 GMT\\\\x94\\\\x86\\\\x94\\\\x8c\\\\rLast-Modified\\\\x94\\\\x8c\\\\x1dThu, 17 Oct 2019 07:18:26 GMT\\\\x94\\\\x86\\\\x94\\\\x8c\\\\x06Server\\\\x94\\\\x8c\\\\x0eECS (dcb/7F13)\\\\x94\\\\x86\\\\x94\\\\x8c\\\\x04Vary\\\\x94\\\\x8c\\\\x0fAccept-Encoding\\\\x94\\\\x86\\\\x94\\\\x8c\\\\x07X-Cache\\\\x94\\\\x8c\\\\x03HIT\\\\x94\\\\x86\\\\x94\\\\x8c\\\\x0eContent-Length\\\\x94\\\\x8c\\\\x03648\\\\x94\\\\x86\\\\x94e\\\\x8c\\\\t_unixfrom\\\\x94N\\\\x8c\\\\x08_payload\\\\x94\\\\x8c\\\\x00\\\\x94\\\\x8c\\\\x08_charset\\\\x94N\\\\x8c\\\\x08preamble\\\\x94N\\\\x8c\\\\x08epilogue\\\\x94N\\\\x8c\\\\x07defects\\\\x94]\\\\x94\\\\x8c\\\\r_default_type\\\\x94\\\\x8c\\\\ntext/plain\\\\x94ub.\\').<listcomp>(.0=pickle.loads(b\\'\\\\x80\\\\x04\\\\x95\\\\x1b\\\\x00\\\\x00\\\\x00\\\\x00\\\\x00\\\\x00\\\\x00\\\\x8c\\\\x08builtins\\\\x94\\\\x8c\\\\x04iter\\\\x94\\\\x93\\\\x94]\\\\x94\\\\x85\\\\x94R\\\\x94.\\'))'))\n",
      "SyntaxError('invalid syntax', ('<string>', 1, 19, \"requests.sessions.<listcomp>(prefix='http://', .0=pickle.loads(b'\\\\x80\\\\x04\\\\x95\\\\x1b\\\\x00\\\\x00\\\\x00\\\\x00\\\\x00\\\\x00\\\\x00\\\\x8c\\\\x08builtins\\\\x94\\\\x8c\\\\x04iter\\\\x94\\\\x93\\\\x94]\\\\x94\\\\x85\\\\x94R\\\\x94.'))\"))\n",
      "SyntaxError('invalid syntax', ('<string>', 1, 16, \"requests.utils.<lambda>(k='no_proxy')\"))\n",
      "ValueError('I/O operation on closed socket.')\n",
      "AttributeError(\"module 'email.message' has no attribute 'set_payload'\")\n",
      "SyntaxError('invalid syntax', ('<string>', 1, 20, \"urllib3.connection.<genexpr>(v='keep-alive', .0=pickle.loads(b'\\\\x80\\\\x04\\\\x95\\\\x1a\\\\x00\\\\x00\\\\x00\\\\x00\\\\x00\\\\x00\\\\x00\\\\x8c\\\\x08builtins\\\\x94\\\\x8c\\\\x04iter\\\\x94\\\\x93\\\\x94)\\\\x85\\\\x94R\\\\x94.'))\"))\n",
      "SyntaxError('invalid syntax', ('<string>', 1, 16, \"requests.utils.<genexpr>(f='.netrc', .0=pickle.loads(b'\\\\x80\\\\x04\\\\x950\\\\x00\\\\x00\\\\x00\\\\x00\\\\x00\\\\x00\\\\x00\\\\x8c\\\\x08builtins\\\\x94\\\\x8c\\\\x04iter\\\\x94\\\\x93\\\\x94\\\\x8c\\\\x06.netrc\\\\x94\\\\x8c\\\\x06_netrc\\\\x94\\\\x86\\\\x94\\\\x85\\\\x94R\\\\x94K\\\\x01b.'))\"))\n",
      "TypeError(\"cannot pickle 'generator' object\")\n",
      "AttributeError(\"module 'email._policybase' has no attribute '_sanitize_header'\")\n",
      "NameError(\"name 'requests' is not defined\")\n"
     ]
    }
   ],
   "source": [
    "for i in range(10):\n",
    "    print(list(exceptions_seen)[i])"
   ]
  },
  {
   "cell_type": "markdown",
   "metadata": {
    "slideshow": {
     "slide_type": "subslide"
    }
   },
   "source": [
    "We see that:\n",
    "\n",
    "* **A large majority of calls could be converted into call strings.**  If this is not the case, this is mostly due to having unserialized objects being passed.\n",
    "* **About a quarter of the calls could be executed.**  The error messages for the failing runs are varied; the most frequent being that some internal name is invoked that is not in scope."
   ]
  },
  {
   "cell_type": "markdown",
   "metadata": {
    "slideshow": {
     "slide_type": "fragment"
    }
   },
   "source": [
    "Our carving mechanism should be taken with a grain of salt: We still do not cover the situation where external variables and values (such as global variables) are being accessed, and the serialization mechanism cannot recreate external resources.  Still, if the function of interest falls among those that _can_ be carved and replayed, we can very effectively re-run its calls with their original arguments."
   ]
  },
  {
   "cell_type": "markdown",
   "metadata": {
    "slideshow": {
     "slide_type": "slide"
    }
   },
   "source": [
    "## Mining API Grammars from Carved Calls\n",
    "\n",
    "So far, we have used carved calls to replay exactly the same invocations as originally encountered.  However, we can also _mutate_ carved calls to effectively fuzz APIs with previously recorded arguments.\n",
    "\n",
    "The general idea is as follows:\n",
    "\n",
    "1. First, we record all calls of a specific function from a given execution of the program.\n",
    "2. Second, we create a grammar that incorporates all these calls, with separate rules for each argument and alternatives for each value found; this allows us to produce calls that arbitrarily _recombine_ these arguments.\n",
    "\n",
    "Let us explore these steps in the following sections."
   ]
  },
  {
   "cell_type": "markdown",
   "metadata": {
    "slideshow": {
     "slide_type": "subslide"
    }
   },
   "source": [
    "### From Calls to Grammars\n",
    "\n",
    "Let us start with an example.  The `power(x, y)` function returns $x^y$; it is but a wrapper around the equivalent `math.pow()` function.  (Since `power()` is defined in Python, we can trace it – in contrast to `math.pow()`, which is implemented in C.)"
   ]
  },
  {
   "cell_type": "code",
   "execution_count": 52,
   "metadata": {
    "execution": {
     "iopub.execute_input": "2022-01-12T13:54:57.785884Z",
     "iopub.status.busy": "2022-01-12T13:54:57.785166Z",
     "iopub.status.idle": "2022-01-12T13:54:57.787673Z",
     "shell.execute_reply": "2022-01-12T13:54:57.788150Z"
    },
    "slideshow": {
     "slide_type": "skip"
    }
   },
   "outputs": [],
   "source": [
    "import math"
   ]
  },
  {
   "cell_type": "code",
   "execution_count": 53,
   "metadata": {
    "execution": {
     "iopub.execute_input": "2022-01-12T13:54:57.792003Z",
     "iopub.status.busy": "2022-01-12T13:54:57.791325Z",
     "iopub.status.idle": "2022-01-12T13:54:57.793128Z",
     "shell.execute_reply": "2022-01-12T13:54:57.793532Z"
    },
    "slideshow": {
     "slide_type": "fragment"
    }
   },
   "outputs": [],
   "source": [
    "def power(x, y):\n",
    "    return math.pow(x, y)"
   ]
  },
  {
   "cell_type": "markdown",
   "metadata": {
    "slideshow": {
     "slide_type": "fragment"
    }
   },
   "source": [
    "Let us invoke `power()` while recording its arguments:"
   ]
  },
  {
   "cell_type": "code",
   "execution_count": 54,
   "metadata": {
    "execution": {
     "iopub.execute_input": "2022-01-12T13:54:57.806860Z",
     "iopub.status.busy": "2022-01-12T13:54:57.806184Z",
     "iopub.status.idle": "2022-01-12T13:54:57.807951Z",
     "shell.execute_reply": "2022-01-12T13:54:57.808662Z"
    },
    "slideshow": {
     "slide_type": "fragment"
    }
   },
   "outputs": [],
   "source": [
    "with CallCarver() as power_carver:\n",
    "    z = power(1, 2)\n",
    "    z = power(3, 4)"
   ]
  },
  {
   "cell_type": "code",
   "execution_count": 55,
   "metadata": {
    "execution": {
     "iopub.execute_input": "2022-01-12T13:54:57.814280Z",
     "iopub.status.busy": "2022-01-12T13:54:57.813192Z",
     "iopub.status.idle": "2022-01-12T13:54:57.817091Z",
     "shell.execute_reply": "2022-01-12T13:54:57.817580Z"
    },
    "slideshow": {
     "slide_type": "fragment"
    }
   },
   "outputs": [
    {
     "data": {
      "text/plain": [
       "[[('y', 2), ('x', 1)], [('y', 4), ('x', 3)]]"
      ]
     },
     "execution_count": 55,
     "metadata": {},
     "output_type": "execute_result"
    }
   ],
   "source": [
    "power_carver.arguments(\"power\")"
   ]
  },
  {
   "cell_type": "markdown",
   "metadata": {
    "slideshow": {
     "slide_type": "subslide"
    }
   },
   "source": [
    "From this list of recorded arguments, we could now create a grammar for the `power()` call, with `x` and `y` expanding into the values seen:"
   ]
  },
  {
   "cell_type": "code",
   "execution_count": 56,
   "metadata": {
    "execution": {
     "iopub.execute_input": "2022-01-12T13:54:57.822522Z",
     "iopub.status.busy": "2022-01-12T13:54:57.821872Z",
     "iopub.status.idle": "2022-01-12T13:54:57.823469Z",
     "shell.execute_reply": "2022-01-12T13:54:57.823948Z"
    },
    "slideshow": {
     "slide_type": "skip"
    }
   },
   "outputs": [],
   "source": [
    "from Grammars import START_SYMBOL, is_valid_grammar, new_symbol\n",
    "from Grammars import extend_grammar, Grammar"
   ]
  },
  {
   "cell_type": "code",
   "execution_count": 57,
   "metadata": {
    "execution": {
     "iopub.execute_input": "2022-01-12T13:54:57.828200Z",
     "iopub.status.busy": "2022-01-12T13:54:57.827469Z",
     "iopub.status.idle": "2022-01-12T13:54:57.829415Z",
     "shell.execute_reply": "2022-01-12T13:54:57.830094Z"
    },
    "slideshow": {
     "slide_type": "fragment"
    }
   },
   "outputs": [],
   "source": [
    "POWER_GRAMMAR: Grammar = {\n",
    "    \"<start>\": [\"power(<x>, <y>)\"],\n",
    "    \"<x>\": [\"1\", \"3\"],\n",
    "    \"<y>\": [\"2\", \"4\"]\n",
    "}\n",
    "\n",
    "assert is_valid_grammar(POWER_GRAMMAR)"
   ]
  },
  {
   "cell_type": "markdown",
   "metadata": {
    "slideshow": {
     "slide_type": "fragment"
    }
   },
   "source": [
    "When fuzzing with this grammar, we then get arbitrary combinations of `x` and `y`; aiming for coverage will ensure that all values are actually tested at least once:"
   ]
  },
  {
   "cell_type": "code",
   "execution_count": 58,
   "metadata": {
    "execution": {
     "iopub.execute_input": "2022-01-12T13:54:57.835023Z",
     "iopub.status.busy": "2022-01-12T13:54:57.834344Z",
     "iopub.status.idle": "2022-01-12T13:54:57.836615Z",
     "shell.execute_reply": "2022-01-12T13:54:57.837471Z"
    },
    "slideshow": {
     "slide_type": "skip"
    }
   },
   "outputs": [],
   "source": [
    "from GrammarCoverageFuzzer import GrammarCoverageFuzzer"
   ]
  },
  {
   "cell_type": "code",
   "execution_count": 59,
   "metadata": {
    "execution": {
     "iopub.execute_input": "2022-01-12T13:54:57.843494Z",
     "iopub.status.busy": "2022-01-12T13:54:57.842807Z",
     "iopub.status.idle": "2022-01-12T13:54:57.845475Z",
     "shell.execute_reply": "2022-01-12T13:54:57.845925Z"
    },
    "slideshow": {
     "slide_type": "subslide"
    }
   },
   "outputs": [
    {
     "data": {
      "text/plain": [
       "['power(1, 2)', 'power(3, 4)', 'power(1, 2)', 'power(3, 4)', 'power(3, 4)']"
      ]
     },
     "execution_count": 59,
     "metadata": {},
     "output_type": "execute_result"
    }
   ],
   "source": [
    "power_fuzzer = GrammarCoverageFuzzer(POWER_GRAMMAR)\n",
    "[power_fuzzer.fuzz() for i in range(5)]"
   ]
  },
  {
   "cell_type": "markdown",
   "metadata": {
    "slideshow": {
     "slide_type": "fragment"
    }
   },
   "source": [
    "What we need is a method to automatically convert the arguments as seen in `power_carver` to the grammar as seen in `POWER_GRAMMAR`.  This is what we define in the next section."
   ]
  },
  {
   "cell_type": "markdown",
   "metadata": {
    "slideshow": {
     "slide_type": "subslide"
    }
   },
   "source": [
    "### A Grammar Miner for Calls\n",
    "\n",
    "We introduce a class `CallGrammarMiner`, which, given a `Carver`, automatically produces a grammar from the calls seen.  To initialize, we pass the carver object:"
   ]
  },
  {
   "cell_type": "code",
   "execution_count": 60,
   "metadata": {
    "execution": {
     "iopub.execute_input": "2022-01-12T13:54:57.851213Z",
     "iopub.status.busy": "2022-01-12T13:54:57.850589Z",
     "iopub.status.idle": "2022-01-12T13:54:57.852346Z",
     "shell.execute_reply": "2022-01-12T13:54:57.852792Z"
    },
    "slideshow": {
     "slide_type": "fragment"
    }
   },
   "outputs": [],
   "source": [
    "class CallGrammarMiner:\n",
    "    def __init__(self, carver, log=False):\n",
    "        self.carver = carver\n",
    "        self.log = log"
   ]
  },
  {
   "cell_type": "markdown",
   "metadata": {
    "slideshow": {
     "slide_type": "subslide"
    }
   },
   "source": [
    "#### Initial Grammar\n",
    "\n",
    "The initial grammar produces a single call.  The possible `<call>` expansions are to be constructed later:"
   ]
  },
  {
   "cell_type": "code",
   "execution_count": 61,
   "metadata": {
    "execution": {
     "iopub.execute_input": "2022-01-12T13:54:57.856933Z",
     "iopub.status.busy": "2022-01-12T13:54:57.856370Z",
     "iopub.status.idle": "2022-01-12T13:54:57.857942Z",
     "shell.execute_reply": "2022-01-12T13:54:57.858593Z"
    },
    "slideshow": {
     "slide_type": "skip"
    }
   },
   "outputs": [],
   "source": [
    "import copy "
   ]
  },
  {
   "cell_type": "code",
   "execution_count": 62,
   "metadata": {
    "execution": {
     "iopub.execute_input": "2022-01-12T13:54:57.863465Z",
     "iopub.status.busy": "2022-01-12T13:54:57.862347Z",
     "iopub.status.idle": "2022-01-12T13:54:57.867092Z",
     "shell.execute_reply": "2022-01-12T13:54:57.865813Z"
    },
    "slideshow": {
     "slide_type": "fragment"
    }
   },
   "outputs": [],
   "source": [
    "class CallGrammarMiner(CallGrammarMiner):\n",
    "    CALL_SYMBOL = \"<call>\"\n",
    "\n",
    "    def initial_grammar(self):\n",
    "        return extend_grammar(\n",
    "            {START_SYMBOL: [self.CALL_SYMBOL],\n",
    "                self.CALL_SYMBOL: []\n",
    "             })"
   ]
  },
  {
   "cell_type": "code",
   "execution_count": 63,
   "metadata": {
    "execution": {
     "iopub.execute_input": "2022-01-12T13:54:57.873425Z",
     "iopub.status.busy": "2022-01-12T13:54:57.872695Z",
     "iopub.status.idle": "2022-01-12T13:54:57.876078Z",
     "shell.execute_reply": "2022-01-12T13:54:57.876551Z"
    },
    "slideshow": {
     "slide_type": "subslide"
    }
   },
   "outputs": [
    {
     "data": {
      "text/plain": [
       "{'<start>': ['<call>'], '<call>': []}"
      ]
     },
     "execution_count": 63,
     "metadata": {},
     "output_type": "execute_result"
    }
   ],
   "source": [
    "m = CallGrammarMiner(power_carver)\n",
    "initial_grammar = m.initial_grammar()\n",
    "initial_grammar"
   ]
  },
  {
   "cell_type": "markdown",
   "metadata": {
    "slideshow": {
     "slide_type": "subslide"
    }
   },
   "source": [
    "#### A Grammar from Arguments\n",
    "\n",
    "Let us start by creating a grammar from a list of arguments.  The method `mine_arguments_grammar()` creates a grammar for the arguments seen during carving, such as these:"
   ]
  },
  {
   "cell_type": "code",
   "execution_count": 64,
   "metadata": {
    "execution": {
     "iopub.execute_input": "2022-01-12T13:54:57.882811Z",
     "iopub.status.busy": "2022-01-12T13:54:57.881761Z",
     "iopub.status.idle": "2022-01-12T13:54:57.885711Z",
     "shell.execute_reply": "2022-01-12T13:54:57.886435Z"
    },
    "slideshow": {
     "slide_type": "fragment"
    }
   },
   "outputs": [
    {
     "data": {
      "text/plain": [
       "[[('y', 2), ('x', 1)], [('y', 4), ('x', 3)]]"
      ]
     },
     "execution_count": 64,
     "metadata": {},
     "output_type": "execute_result"
    }
   ],
   "source": [
    "arguments = power_carver.arguments(\"power\")\n",
    "arguments"
   ]
  },
  {
   "cell_type": "markdown",
   "metadata": {
    "slideshow": {
     "slide_type": "fragment"
    }
   },
   "source": [
    "The `mine_arguments_grammar()` method iterates through the variables seen and creates a mapping `variables` of variable names to a set of values seen (as strings, going through `call_value()`).  In a second step, it then creates a grammar with a rule for each variable name, expanding into the values seen."
   ]
  },
  {
   "cell_type": "code",
   "execution_count": 65,
   "metadata": {
    "execution": {
     "iopub.execute_input": "2022-01-12T13:54:57.894295Z",
     "iopub.status.busy": "2022-01-12T13:54:57.893595Z",
     "iopub.status.idle": "2022-01-12T13:54:57.895482Z",
     "shell.execute_reply": "2022-01-12T13:54:57.895994Z"
    },
    "slideshow": {
     "slide_type": "subslide"
    }
   },
   "outputs": [],
   "source": [
    "class CallGrammarMiner(CallGrammarMiner):\n",
    "    def var_symbol(self, function_name, var, grammar):\n",
    "        return new_symbol(grammar, \"<\" + function_name + \"-\" + var + \">\")\n",
    "\n",
    "    def mine_arguments_grammar(self, function_name, arguments, grammar):\n",
    "        var_grammar = {}\n",
    "\n",
    "        variables = {}\n",
    "        for argument_list in arguments:\n",
    "            for (var, value) in argument_list:\n",
    "                value_string = call_value(value)\n",
    "                if self.log:\n",
    "                    print(var, \"=\", value_string)\n",
    "\n",
    "                if value_string.find(\"<\") >= 0:\n",
    "                    var_grammar[\"<langle>\"] = [\"<\"]\n",
    "                    value_string = value_string.replace(\"<\", \"<langle>\")\n",
    "\n",
    "                if var not in variables:\n",
    "                    variables[var] = set()\n",
    "                variables[var].add(value_string)\n",
    "\n",
    "        var_symbols = []\n",
    "        for var in variables:\n",
    "            var_symbol = self.var_symbol(function_name, var, grammar)\n",
    "            var_symbols.append(var_symbol)\n",
    "            var_grammar[var_symbol] = list(variables[var])\n",
    "\n",
    "        return var_grammar, var_symbols"
   ]
  },
  {
   "cell_type": "code",
   "execution_count": 66,
   "metadata": {
    "execution": {
     "iopub.execute_input": "2022-01-12T13:54:57.901116Z",
     "iopub.status.busy": "2022-01-12T13:54:57.900263Z",
     "iopub.status.idle": "2022-01-12T13:54:57.902729Z",
     "shell.execute_reply": "2022-01-12T13:54:57.903399Z"
    },
    "slideshow": {
     "slide_type": "subslide"
    }
   },
   "outputs": [],
   "source": [
    "m = CallGrammarMiner(power_carver)\n",
    "var_grammar, var_symbols = m.mine_arguments_grammar(\n",
    "    \"power\", arguments, initial_grammar)"
   ]
  },
  {
   "cell_type": "code",
   "execution_count": 67,
   "metadata": {
    "execution": {
     "iopub.execute_input": "2022-01-12T13:54:57.908250Z",
     "iopub.status.busy": "2022-01-12T13:54:57.907632Z",
     "iopub.status.idle": "2022-01-12T13:54:57.910773Z",
     "shell.execute_reply": "2022-01-12T13:54:57.911178Z"
    },
    "slideshow": {
     "slide_type": "fragment"
    }
   },
   "outputs": [
    {
     "data": {
      "text/plain": [
       "{'<power-y>': ['4', '2'], '<power-x>': ['3', '1']}"
      ]
     },
     "execution_count": 67,
     "metadata": {},
     "output_type": "execute_result"
    }
   ],
   "source": [
    "var_grammar"
   ]
  },
  {
   "cell_type": "markdown",
   "metadata": {
    "slideshow": {
     "slide_type": "fragment"
    }
   },
   "source": [
    "The additional return value `var_symbols` is a list of argument symbols in the call:"
   ]
  },
  {
   "cell_type": "code",
   "execution_count": 68,
   "metadata": {
    "execution": {
     "iopub.execute_input": "2022-01-12T13:54:57.916134Z",
     "iopub.status.busy": "2022-01-12T13:54:57.915252Z",
     "iopub.status.idle": "2022-01-12T13:54:57.918147Z",
     "shell.execute_reply": "2022-01-12T13:54:57.918563Z"
    },
    "slideshow": {
     "slide_type": "fragment"
    }
   },
   "outputs": [
    {
     "data": {
      "text/plain": [
       "['<power-y>', '<power-x>']"
      ]
     },
     "execution_count": 68,
     "metadata": {},
     "output_type": "execute_result"
    }
   ],
   "source": [
    "var_symbols"
   ]
  },
  {
   "cell_type": "markdown",
   "metadata": {
    "slideshow": {
     "slide_type": "subslide"
    }
   },
   "source": [
    "#### A Grammar from Calls\n",
    "\n",
    "To get the grammar for a single function (`mine_function_grammar()`), we add a call to the function:"
   ]
  },
  {
   "cell_type": "code",
   "execution_count": 69,
   "metadata": {
    "execution": {
     "iopub.execute_input": "2022-01-12T13:54:57.925042Z",
     "iopub.status.busy": "2022-01-12T13:54:57.924465Z",
     "iopub.status.idle": "2022-01-12T13:54:57.926229Z",
     "shell.execute_reply": "2022-01-12T13:54:57.926797Z"
    },
    "slideshow": {
     "slide_type": "subslide"
    }
   },
   "outputs": [],
   "source": [
    "class CallGrammarMiner(CallGrammarMiner):\n",
    "    def function_symbol(self, function_name, grammar):\n",
    "        return new_symbol(grammar, \"<\" + function_name + \">\")\n",
    "\n",
    "    def mine_function_grammar(self, function_name, grammar):\n",
    "        arguments = self.carver.arguments(function_name)\n",
    "\n",
    "        if self.log:\n",
    "            print(function_name, arguments)\n",
    "\n",
    "        var_grammar, var_symbols = self.mine_arguments_grammar(\n",
    "            function_name, arguments, grammar)\n",
    "\n",
    "        function_grammar = var_grammar\n",
    "        function_symbol = self.function_symbol(function_name, grammar)\n",
    "\n",
    "        if len(var_symbols) > 0 and var_symbols[0].find(\"-self\") >= 0:\n",
    "            # Method call\n",
    "            function_grammar[function_symbol] = [\n",
    "                var_symbols[0] + \".\" + function_name + \"(\" + \", \".join(var_symbols[1:]) + \")\"]\n",
    "        else:\n",
    "            function_grammar[function_symbol] = [\n",
    "                function_name + \"(\" + \", \".join(var_symbols) + \")\"]\n",
    "\n",
    "        if self.log:\n",
    "            print(function_symbol, \"::=\", function_grammar[function_symbol])\n",
    "\n",
    "        return function_grammar, function_symbol"
   ]
  },
  {
   "cell_type": "code",
   "execution_count": 70,
   "metadata": {
    "execution": {
     "iopub.execute_input": "2022-01-12T13:54:57.932201Z",
     "iopub.status.busy": "2022-01-12T13:54:57.931207Z",
     "iopub.status.idle": "2022-01-12T13:54:57.934333Z",
     "shell.execute_reply": "2022-01-12T13:54:57.934800Z"
    },
    "slideshow": {
     "slide_type": "subslide"
    }
   },
   "outputs": [
    {
     "data": {
      "text/plain": [
       "{'<power-y>': ['4', '2'],\n",
       " '<power-x>': ['3', '1'],\n",
       " '<power>': ['power(<power-y>, <power-x>)']}"
      ]
     },
     "execution_count": 70,
     "metadata": {},
     "output_type": "execute_result"
    }
   ],
   "source": [
    "m = CallGrammarMiner(power_carver)\n",
    "function_grammar, function_symbol = m.mine_function_grammar(\n",
    "    \"power\", initial_grammar)\n",
    "function_grammar"
   ]
  },
  {
   "cell_type": "markdown",
   "metadata": {
    "slideshow": {
     "slide_type": "fragment"
    }
   },
   "source": [
    "The additionally returned `function_symbol` holds the name of the function call just added:"
   ]
  },
  {
   "cell_type": "code",
   "execution_count": 71,
   "metadata": {
    "execution": {
     "iopub.execute_input": "2022-01-12T13:54:57.938810Z",
     "iopub.status.busy": "2022-01-12T13:54:57.938150Z",
     "iopub.status.idle": "2022-01-12T13:54:57.940796Z",
     "shell.execute_reply": "2022-01-12T13:54:57.941200Z"
    },
    "slideshow": {
     "slide_type": "fragment"
    }
   },
   "outputs": [
    {
     "data": {
      "text/plain": [
       "'<power>'"
      ]
     },
     "execution_count": 71,
     "metadata": {},
     "output_type": "execute_result"
    }
   ],
   "source": [
    "function_symbol"
   ]
  },
  {
   "cell_type": "markdown",
   "metadata": {
    "slideshow": {
     "slide_type": "subslide"
    }
   },
   "source": [
    "#### A Grammar from all Calls\n",
    "\n",
    "Let us now repeat the above for all function calls seen during carving.  To this end, we simply iterate over all function calls seen:"
   ]
  },
  {
   "cell_type": "code",
   "execution_count": 72,
   "metadata": {
    "execution": {
     "iopub.execute_input": "2022-01-12T13:54:57.945194Z",
     "iopub.status.busy": "2022-01-12T13:54:57.944603Z",
     "iopub.status.idle": "2022-01-12T13:54:57.948168Z",
     "shell.execute_reply": "2022-01-12T13:54:57.949002Z"
    },
    "slideshow": {
     "slide_type": "fragment"
    }
   },
   "outputs": [
    {
     "data": {
      "text/plain": [
       "['power', '__exit__']"
      ]
     },
     "execution_count": 72,
     "metadata": {},
     "output_type": "execute_result"
    }
   ],
   "source": [
    "power_carver.called_functions()"
   ]
  },
  {
   "cell_type": "code",
   "execution_count": 73,
   "metadata": {
    "execution": {
     "iopub.execute_input": "2022-01-12T13:54:57.955968Z",
     "iopub.status.busy": "2022-01-12T13:54:57.955264Z",
     "iopub.status.idle": "2022-01-12T13:54:57.956905Z",
     "shell.execute_reply": "2022-01-12T13:54:57.957307Z"
    },
    "slideshow": {
     "slide_type": "subslide"
    }
   },
   "outputs": [],
   "source": [
    "class CallGrammarMiner(CallGrammarMiner):\n",
    "    def mine_call_grammar(self, function_list=None, qualified=False):\n",
    "        grammar = self.initial_grammar()\n",
    "        fn_list = function_list\n",
    "        if function_list is None:\n",
    "            fn_list = self.carver.called_functions(qualified=qualified)\n",
    "\n",
    "        for function_name in fn_list:\n",
    "            if function_list is None and (function_name.startswith(\"_\") or function_name.startswith(\"<\")):\n",
    "                continue  # Internal function\n",
    "\n",
    "            # Ignore errors with mined functions\n",
    "            try:\n",
    "                function_grammar, function_symbol = self.mine_function_grammar(\n",
    "                    function_name, grammar)\n",
    "            except:\n",
    "                if function_list is not None:\n",
    "                    raise\n",
    "\n",
    "            if function_symbol not in grammar[self.CALL_SYMBOL]:\n",
    "                grammar[self.CALL_SYMBOL].append(function_symbol)\n",
    "            grammar.update(function_grammar)\n",
    "\n",
    "        assert is_valid_grammar(grammar)\n",
    "        return grammar"
   ]
  },
  {
   "cell_type": "markdown",
   "metadata": {
    "slideshow": {
     "slide_type": "subslide"
    }
   },
   "source": [
    "The method `mine_call_grammar()` is the one that clients can and should use – first for mining..."
   ]
  },
  {
   "cell_type": "code",
   "execution_count": 74,
   "metadata": {
    "execution": {
     "iopub.execute_input": "2022-01-12T13:54:57.962054Z",
     "iopub.status.busy": "2022-01-12T13:54:57.961427Z",
     "iopub.status.idle": "2022-01-12T13:54:57.965091Z",
     "shell.execute_reply": "2022-01-12T13:54:57.965523Z"
    },
    "slideshow": {
     "slide_type": "fragment"
    }
   },
   "outputs": [
    {
     "data": {
      "text/plain": [
       "{'<start>': ['<call>'],\n",
       " '<call>': ['<power>'],\n",
       " '<power-y>': ['4', '2'],\n",
       " '<power-x>': ['3', '1'],\n",
       " '<power>': ['power(<power-y>, <power-x>)']}"
      ]
     },
     "execution_count": 74,
     "metadata": {},
     "output_type": "execute_result"
    }
   ],
   "source": [
    "m = CallGrammarMiner(power_carver)\n",
    "power_grammar = m.mine_call_grammar()\n",
    "power_grammar"
   ]
  },
  {
   "cell_type": "markdown",
   "metadata": {
    "slideshow": {
     "slide_type": "fragment"
    }
   },
   "source": [
    "...and then for fuzzing:"
   ]
  },
  {
   "cell_type": "code",
   "execution_count": 75,
   "metadata": {
    "execution": {
     "iopub.execute_input": "2022-01-12T13:54:57.971508Z",
     "iopub.status.busy": "2022-01-12T13:54:57.970916Z",
     "iopub.status.idle": "2022-01-12T13:54:57.973429Z",
     "shell.execute_reply": "2022-01-12T13:54:57.973831Z"
    },
    "slideshow": {
     "slide_type": "fragment"
    }
   },
   "outputs": [
    {
     "data": {
      "text/plain": [
       "['power(2, 3)', 'power(4, 1)', 'power(2, 3)', 'power(2, 3)', 'power(4, 3)']"
      ]
     },
     "execution_count": 75,
     "metadata": {},
     "output_type": "execute_result"
    }
   ],
   "source": [
    "power_fuzzer = GrammarCoverageFuzzer(power_grammar)\n",
    "[power_fuzzer.fuzz() for i in range(5)]"
   ]
  },
  {
   "cell_type": "markdown",
   "metadata": {
    "slideshow": {
     "slide_type": "subslide"
    }
   },
   "source": [
    "With this, we have successfully extracted a grammar from a recorded execution; in contrast to \"simple\" carving, our grammar allows us to _recombine_ arguments and thus to fuzz at the API level."
   ]
  },
  {
   "cell_type": "markdown",
   "metadata": {
    "slideshow": {
     "slide_type": "slide"
    }
   },
   "source": [
    "## Fuzzing Web Functions\n",
    "\n",
    "Let us now apply our grammar miner on a larger API – the `urlparse()` function we already encountered during carving."
   ]
  },
  {
   "cell_type": "code",
   "execution_count": 76,
   "metadata": {
    "execution": {
     "iopub.execute_input": "2022-01-12T13:54:57.980245Z",
     "iopub.status.busy": "2022-01-12T13:54:57.976858Z",
     "iopub.status.idle": "2022-01-12T13:54:58.964055Z",
     "shell.execute_reply": "2022-01-12T13:54:58.964654Z"
    },
    "slideshow": {
     "slide_type": "fragment"
    }
   },
   "outputs": [],
   "source": [
    "with CallCarver() as webbrowser_carver:\n",
    "    webbrowser(\"https://www.fuzzingbook.org\")\n",
    "    webbrowser(\"http://www.example.com\")"
   ]
  },
  {
   "cell_type": "markdown",
   "metadata": {
    "slideshow": {
     "slide_type": "fragment"
    }
   },
   "source": [
    "We can mine a grammar from the calls encountered:"
   ]
  },
  {
   "cell_type": "code",
   "execution_count": 77,
   "metadata": {
    "execution": {
     "iopub.execute_input": "2022-01-12T13:54:59.044505Z",
     "iopub.status.busy": "2022-01-12T13:54:59.013008Z",
     "iopub.status.idle": "2022-01-12T13:54:59.048088Z",
     "shell.execute_reply": "2022-01-12T13:54:59.048674Z"
    },
    "slideshow": {
     "slide_type": "fragment"
    }
   },
   "outputs": [],
   "source": [
    "m = CallGrammarMiner(webbrowser_carver)\n",
    "webbrowser_grammar = m.mine_call_grammar()"
   ]
  },
  {
   "cell_type": "markdown",
   "metadata": {
    "slideshow": {
     "slide_type": "fragment"
    }
   },
   "source": [
    "This is a rather large grammar:"
   ]
  },
  {
   "cell_type": "code",
   "execution_count": 78,
   "metadata": {
    "execution": {
     "iopub.execute_input": "2022-01-12T13:54:59.053295Z",
     "iopub.status.busy": "2022-01-12T13:54:59.052696Z",
     "iopub.status.idle": "2022-01-12T13:54:59.055507Z",
     "shell.execute_reply": "2022-01-12T13:54:59.055905Z"
    },
    "slideshow": {
     "slide_type": "fragment"
    }
   },
   "outputs": [
    {
     "data": {
      "text/plain": [
       "141"
      ]
     },
     "execution_count": 78,
     "metadata": {},
     "output_type": "execute_result"
    }
   ],
   "source": [
    "call_list = webbrowser_grammar['<call>']\n",
    "len(call_list)"
   ]
  },
  {
   "cell_type": "code",
   "execution_count": 79,
   "metadata": {
    "execution": {
     "iopub.execute_input": "2022-01-12T13:54:59.060672Z",
     "iopub.status.busy": "2022-01-12T13:54:59.060010Z",
     "iopub.status.idle": "2022-01-12T13:54:59.062741Z",
     "shell.execute_reply": "2022-01-12T13:54:59.063327Z"
    },
    "slideshow": {
     "slide_type": "subslide"
    }
   },
   "outputs": [
    {
     "name": "stdout",
     "output_type": "stream",
     "text": [
      "['<webbrowser>', '<default_headers>', '<default_user_agent>', '<update>', '<default_hooks>', '<cookiejar_from_dict>', '<RLock>', '<deepvalues>', '<vals_sorted_by_key>', '<init_poolmanager>', '<mount>', '<prepare_request>', '<merge_cookies>', '<get_netrc_auth>', '<encode>', '<expanduser>', '<decode>', '<exists>', '<urlparse>', '<urlsplit>']\n"
     ]
    }
   ],
   "source": [
    "print(call_list[:20])"
   ]
  },
  {
   "cell_type": "markdown",
   "metadata": {
    "slideshow": {
     "slide_type": "fragment"
    }
   },
   "source": [
    "Here's the rule for the `urlsplit()` function:"
   ]
  },
  {
   "cell_type": "code",
   "execution_count": 80,
   "metadata": {
    "execution": {
     "iopub.execute_input": "2022-01-12T13:54:59.068505Z",
     "iopub.status.busy": "2022-01-12T13:54:59.067767Z",
     "iopub.status.idle": "2022-01-12T13:54:59.070466Z",
     "shell.execute_reply": "2022-01-12T13:54:59.070851Z"
    },
    "slideshow": {
     "slide_type": "fragment"
    }
   },
   "outputs": [
    {
     "data": {
      "text/plain": [
       "['urlsplit(<urlsplit-allow_fragments>, <urlsplit-scheme>, <urlsplit-url>)']"
      ]
     },
     "execution_count": 80,
     "metadata": {},
     "output_type": "execute_result"
    }
   ],
   "source": [
    "webbrowser_grammar[\"<urlsplit>\"]"
   ]
  },
  {
   "cell_type": "markdown",
   "metadata": {
    "slideshow": {
     "slide_type": "fragment"
    }
   },
   "source": [
    "Here are the arguments.  Note that although we only passed `http://www.fuzzingbook.org` as a parameter, we also see the `https:` variant.  That is because opening the `http:` URL automatically redirects to the `https:` URL, which is then also processed by `urlsplit()`."
   ]
  },
  {
   "cell_type": "code",
   "execution_count": 81,
   "metadata": {
    "execution": {
     "iopub.execute_input": "2022-01-12T13:54:59.075210Z",
     "iopub.status.busy": "2022-01-12T13:54:59.074562Z",
     "iopub.status.idle": "2022-01-12T13:54:59.077219Z",
     "shell.execute_reply": "2022-01-12T13:54:59.077735Z"
    },
    "slideshow": {
     "slide_type": "fragment"
    }
   },
   "outputs": [
    {
     "data": {
      "text/plain": [
       "[\"'http://www.example.com'\",\n",
       " \"'https://www.fuzzingbook.org/'\",\n",
       " \"'http://www.example.com/'\",\n",
       " \"'https://www.fuzzingbook.org'\"]"
      ]
     },
     "execution_count": 81,
     "metadata": {},
     "output_type": "execute_result"
    }
   ],
   "source": [
    "webbrowser_grammar[\"<urlsplit-url>\"]"
   ]
  },
  {
   "cell_type": "markdown",
   "metadata": {
    "slideshow": {
     "slide_type": "subslide"
    }
   },
   "source": [
    "There also is some variation in the `scheme` argument:"
   ]
  },
  {
   "cell_type": "code",
   "execution_count": 82,
   "metadata": {
    "execution": {
     "iopub.execute_input": "2022-01-12T13:54:59.083053Z",
     "iopub.status.busy": "2022-01-12T13:54:59.082205Z",
     "iopub.status.idle": "2022-01-12T13:54:59.085261Z",
     "shell.execute_reply": "2022-01-12T13:54:59.085648Z"
    },
    "slideshow": {
     "slide_type": "fragment"
    }
   },
   "outputs": [
    {
     "data": {
      "text/plain": [
       "[\"''\"]"
      ]
     },
     "execution_count": 82,
     "metadata": {},
     "output_type": "execute_result"
    }
   ],
   "source": [
    "webbrowser_grammar[\"<urlsplit-scheme>\"]"
   ]
  },
  {
   "cell_type": "markdown",
   "metadata": {
    "slideshow": {
     "slide_type": "fragment"
    }
   },
   "source": [
    "If we now apply a fuzzer on these rules, we systematically cover all variations of arguments seen, including, of course, combinations not seen during carving.  Again, we are fuzzing at the API level here."
   ]
  },
  {
   "cell_type": "code",
   "execution_count": 83,
   "metadata": {
    "execution": {
     "iopub.execute_input": "2022-01-12T13:54:59.123137Z",
     "iopub.status.busy": "2022-01-12T13:54:59.115026Z",
     "iopub.status.idle": "2022-01-12T13:54:59.126817Z",
     "shell.execute_reply": "2022-01-12T13:54:59.126139Z"
    },
    "slideshow": {
     "slide_type": "subslide"
    }
   },
   "outputs": [
    {
     "name": "stdout",
     "output_type": "stream",
     "text": [
      "urlsplit(True, '', 'https://www.fuzzingbook.org/')\n",
      "urlsplit(True, '', 'http://www.example.com/')\n",
      "urlsplit(True, '', 'http://www.example.com')\n",
      "urlsplit(True, '', 'https://www.fuzzingbook.org')\n",
      "urlsplit(True, '', 'http://www.example.com')\n"
     ]
    }
   ],
   "source": [
    "urlsplit_fuzzer = GrammarCoverageFuzzer(\n",
    "    webbrowser_grammar, start_symbol=\"<urlsplit>\")\n",
    "for i in range(5):\n",
    "    print(urlsplit_fuzzer.fuzz())"
   ]
  },
  {
   "cell_type": "markdown",
   "metadata": {
    "slideshow": {
     "slide_type": "fragment"
    }
   },
   "source": [
    "Just as seen with carving, running tests at the API level is orders of magnitude faster than executing system tests.  Hence, this calls for means to fuzz at the method level:"
   ]
  },
  {
   "cell_type": "code",
   "execution_count": 84,
   "metadata": {
    "execution": {
     "iopub.execute_input": "2022-01-12T13:54:59.131062Z",
     "iopub.status.busy": "2022-01-12T13:54:59.130190Z",
     "iopub.status.idle": "2022-01-12T13:54:59.132842Z",
     "shell.execute_reply": "2022-01-12T13:54:59.133518Z"
    },
    "slideshow": {
     "slide_type": "skip"
    }
   },
   "outputs": [],
   "source": [
    "from urllib.parse import urlsplit"
   ]
  },
  {
   "cell_type": "code",
   "execution_count": 85,
   "metadata": {
    "execution": {
     "iopub.execute_input": "2022-01-12T13:54:59.137453Z",
     "iopub.status.busy": "2022-01-12T13:54:59.136817Z",
     "iopub.status.idle": "2022-01-12T13:54:59.138522Z",
     "shell.execute_reply": "2022-01-12T13:54:59.138952Z"
    },
    "slideshow": {
     "slide_type": "skip"
    }
   },
   "outputs": [],
   "source": [
    "from Timer import Timer"
   ]
  },
  {
   "cell_type": "code",
   "execution_count": 86,
   "metadata": {
    "execution": {
     "iopub.execute_input": "2022-01-12T13:54:59.145926Z",
     "iopub.status.busy": "2022-01-12T13:54:59.144933Z",
     "iopub.status.idle": "2022-01-12T13:54:59.148967Z",
     "shell.execute_reply": "2022-01-12T13:54:59.149421Z"
    },
    "slideshow": {
     "slide_type": "subslide"
    }
   },
   "outputs": [
    {
     "data": {
      "text/plain": [
       "2.8642000000189682e-05"
      ]
     },
     "execution_count": 86,
     "metadata": {},
     "output_type": "execute_result"
    }
   ],
   "source": [
    "with Timer() as urlsplit_timer:\n",
    "    urlsplit('http://www.fuzzingbook.org/', 'http', True)\n",
    "urlsplit_timer.elapsed_time()"
   ]
  },
  {
   "cell_type": "code",
   "execution_count": 87,
   "metadata": {
    "execution": {
     "iopub.execute_input": "2022-01-12T13:54:59.154114Z",
     "iopub.status.busy": "2022-01-12T13:54:59.153408Z",
     "iopub.status.idle": "2022-01-12T13:54:59.377848Z",
     "shell.execute_reply": "2022-01-12T13:54:59.378512Z"
    },
    "slideshow": {
     "slide_type": "fragment"
    }
   },
   "outputs": [
    {
     "data": {
      "text/plain": [
       "0.22125710899999973"
      ]
     },
     "execution_count": 87,
     "metadata": {},
     "output_type": "execute_result"
    }
   ],
   "source": [
    "with Timer() as webbrowser_timer:\n",
    "    webbrowser(\"http://www.fuzzingbook.org\")\n",
    "webbrowser_timer.elapsed_time()"
   ]
  },
  {
   "cell_type": "code",
   "execution_count": 88,
   "metadata": {
    "execution": {
     "iopub.execute_input": "2022-01-12T13:54:59.384909Z",
     "iopub.status.busy": "2022-01-12T13:54:59.383790Z",
     "iopub.status.idle": "2022-01-12T13:54:59.387388Z",
     "shell.execute_reply": "2022-01-12T13:54:59.387798Z"
    },
    "slideshow": {
     "slide_type": "fragment"
    }
   },
   "outputs": [
    {
     "data": {
      "text/plain": [
       "7724.918266829636"
      ]
     },
     "execution_count": 88,
     "metadata": {},
     "output_type": "execute_result"
    }
   ],
   "source": [
    "webbrowser_timer.elapsed_time() / urlsplit_timer.elapsed_time()"
   ]
  },
  {
   "cell_type": "markdown",
   "metadata": {
    "slideshow": {
     "slide_type": "subslide"
    }
   },
   "source": [
    "But then again, the caveats encountered during carving apply, notably the requirement to recreate the original function environment.  If we also alter or recombine arguments, we get the additional risk of _violating an implicit precondition_ – that is, invoking a function with arguments the function was never designed for.  Such _false alarms_, resulting from incorrect invocations rather than incorrect implementations, must then be identified (typically manually) and wed out (for instance, by altering or constraining the grammar).  The huge speed gains at the API level, however, may well justify this additional investment."
   ]
  },
  {
   "cell_type": "markdown",
   "metadata": {
    "slideshow": {
     "slide_type": "slide"
    }
   },
   "source": [
    "## Synopsis\n",
    "\n",
    "This chapter provides means to _record and replay function calls_ during a system test.  Since individual function calls are much faster than a whole system run, such \"carving\" mechanisms have the potential to run tests much faster."
   ]
  },
  {
   "cell_type": "markdown",
   "metadata": {
    "slideshow": {
     "slide_type": "subslide"
    }
   },
   "source": [
    "### Recording Calls\n",
    "\n",
    "The `CallCarver` class records all calls occurring while it is active.  It is used in conjunction with a `with` clause:"
   ]
  },
  {
   "cell_type": "code",
   "execution_count": 89,
   "metadata": {
    "execution": {
     "iopub.execute_input": "2022-01-12T13:54:59.393844Z",
     "iopub.status.busy": "2022-01-12T13:54:59.392767Z",
     "iopub.status.idle": "2022-01-12T13:54:59.399197Z",
     "shell.execute_reply": "2022-01-12T13:54:59.399742Z"
    },
    "slideshow": {
     "slide_type": "fragment"
    }
   },
   "outputs": [],
   "source": [
    "with CallCarver() as carver:\n",
    "    y = my_sqrt(2)\n",
    "    y = my_sqrt(4)"
   ]
  },
  {
   "cell_type": "markdown",
   "metadata": {
    "slideshow": {
     "slide_type": "fragment"
    }
   },
   "source": [
    "After execution, `called_functions()` lists the names of functions encountered:"
   ]
  },
  {
   "cell_type": "code",
   "execution_count": 90,
   "metadata": {
    "execution": {
     "iopub.execute_input": "2022-01-12T13:54:59.404990Z",
     "iopub.status.busy": "2022-01-12T13:54:59.404392Z",
     "iopub.status.idle": "2022-01-12T13:54:59.407381Z",
     "shell.execute_reply": "2022-01-12T13:54:59.406947Z"
    },
    "slideshow": {
     "slide_type": "fragment"
    }
   },
   "outputs": [
    {
     "data": {
      "text/plain": [
       "['my_sqrt', '__exit__']"
      ]
     },
     "execution_count": 90,
     "metadata": {},
     "output_type": "execute_result"
    }
   ],
   "source": [
    "carver.called_functions()"
   ]
  },
  {
   "cell_type": "markdown",
   "metadata": {
    "slideshow": {
     "slide_type": "fragment"
    }
   },
   "source": [
    "The `arguments()` method lists the arguments recorded for a function.  This is a mapping of the function name to a list of lists of arguments; each argument is a pair (parameter name, value)."
   ]
  },
  {
   "cell_type": "code",
   "execution_count": 91,
   "metadata": {
    "execution": {
     "iopub.execute_input": "2022-01-12T13:54:59.411830Z",
     "iopub.status.busy": "2022-01-12T13:54:59.411157Z",
     "iopub.status.idle": "2022-01-12T13:54:59.414109Z",
     "shell.execute_reply": "2022-01-12T13:54:59.414685Z"
    },
    "slideshow": {
     "slide_type": "subslide"
    }
   },
   "outputs": [
    {
     "data": {
      "text/plain": [
       "[[('x', 2)], [('x', 4)]]"
      ]
     },
     "execution_count": 91,
     "metadata": {},
     "output_type": "execute_result"
    }
   ],
   "source": [
    "carver.arguments('my_sqrt')"
   ]
  },
  {
   "cell_type": "markdown",
   "metadata": {
    "slideshow": {
     "slide_type": "fragment"
    }
   },
   "source": [
    "Complex arguments are properly serialized, such that they can be easily restored."
   ]
  },
  {
   "cell_type": "markdown",
   "metadata": {
    "slideshow": {
     "slide_type": "subslide"
    }
   },
   "source": [
    "### Synthesizing Calls\n",
    "\n",
    "While such recorded arguments already could be turned into arguments and calls, a much nicer alternative is to create a _grammar_ for recorded calls.  This allows to synthesize arbitrary _combinations_ of arguments, and also offers a base for further customization of calls."
   ]
  },
  {
   "cell_type": "markdown",
   "metadata": {
    "slideshow": {
     "slide_type": "fragment"
    }
   },
   "source": [
    "The `CallGrammarMiner` class turns a list of carved executions into a grammar."
   ]
  },
  {
   "cell_type": "code",
   "execution_count": 92,
   "metadata": {
    "execution": {
     "iopub.execute_input": "2022-01-12T13:54:59.420252Z",
     "iopub.status.busy": "2022-01-12T13:54:59.419577Z",
     "iopub.status.idle": "2022-01-12T13:54:59.422164Z",
     "shell.execute_reply": "2022-01-12T13:54:59.422548Z"
    },
    "slideshow": {
     "slide_type": "subslide"
    }
   },
   "outputs": [
    {
     "data": {
      "text/plain": [
       "{'<start>': ['<call>'],\n",
       " '<call>': ['<my_sqrt>'],\n",
       " '<my_sqrt-x>': ['4', '2'],\n",
       " '<my_sqrt>': ['my_sqrt(<my_sqrt-x>)']}"
      ]
     },
     "execution_count": 92,
     "metadata": {},
     "output_type": "execute_result"
    }
   ],
   "source": [
    "my_sqrt_miner = CallGrammarMiner(carver)\n",
    "my_sqrt_grammar = my_sqrt_miner.mine_call_grammar()\n",
    "my_sqrt_grammar"
   ]
  },
  {
   "cell_type": "markdown",
   "metadata": {
    "slideshow": {
     "slide_type": "fragment"
    }
   },
   "source": [
    "This grammar can be used to synthesize calls."
   ]
  },
  {
   "cell_type": "code",
   "execution_count": 93,
   "metadata": {
    "execution": {
     "iopub.execute_input": "2022-01-12T13:54:59.427259Z",
     "iopub.status.busy": "2022-01-12T13:54:59.426549Z",
     "iopub.status.idle": "2022-01-12T13:54:59.430761Z",
     "shell.execute_reply": "2022-01-12T13:54:59.431522Z"
    },
    "slideshow": {
     "slide_type": "fragment"
    }
   },
   "outputs": [
    {
     "data": {
      "text/plain": [
       "'my_sqrt(2)'"
      ]
     },
     "execution_count": 93,
     "metadata": {},
     "output_type": "execute_result"
    }
   ],
   "source": [
    "fuzzer = GrammarCoverageFuzzer(my_sqrt_grammar)\n",
    "fuzzer.fuzz()"
   ]
  },
  {
   "cell_type": "markdown",
   "metadata": {
    "slideshow": {
     "slide_type": "fragment"
    }
   },
   "source": [
    "These calls can be executed in isolation, effectively extracting unit tests from system tests:"
   ]
  },
  {
   "cell_type": "code",
   "execution_count": 94,
   "metadata": {
    "execution": {
     "iopub.execute_input": "2022-01-12T13:54:59.438267Z",
     "iopub.status.busy": "2022-01-12T13:54:59.437374Z",
     "iopub.status.idle": "2022-01-12T13:54:59.440295Z",
     "shell.execute_reply": "2022-01-12T13:54:59.440686Z"
    },
    "slideshow": {
     "slide_type": "fragment"
    }
   },
   "outputs": [
    {
     "data": {
      "text/plain": [
       "2.0"
      ]
     },
     "execution_count": 94,
     "metadata": {},
     "output_type": "execute_result"
    }
   ],
   "source": [
    "eval(fuzzer.fuzz())"
   ]
  },
  {
   "cell_type": "markdown",
   "metadata": {
    "button": false,
    "new_sheet": true,
    "run_control": {
     "read_only": false
    },
    "slideshow": {
     "slide_type": "slide"
    }
   },
   "source": [
    "## Lessons Learned\n",
    "\n",
    "* _Carving_ allows for effective replay of function calls recorded during a system test.\n",
    "* A function call can be _orders of magnitude faster_ than a system invocation.\n",
    "* _Serialization_ allows to create persistent representations of complex objects.\n",
    "* Functions that heavily interact with their environment and/or access external resources are difficult to carve.\n",
    "* From carved calls, one can produce API grammars that arbitrarily combine carved arguments."
   ]
  },
  {
   "cell_type": "markdown",
   "metadata": {
    "button": false,
    "new_sheet": false,
    "run_control": {
     "read_only": false
    },
    "slideshow": {
     "slide_type": "slide"
    }
   },
   "source": [
    "## Next Steps\n",
    "\n",
    "In the next chapter, we will discuss [how to reduce failure-inducing inputs](Reducer.ipynb)."
   ]
  },
  {
   "cell_type": "markdown",
   "metadata": {
    "slideshow": {
     "slide_type": "slide"
    }
   },
   "source": [
    "## Background\n",
    "\n",
    "Carving was invented by Elbaum et al. \\cite{Elbaum2006} and originally implemented for Java.  In this chapter, we follow several of their design choices (including recording and serializing method arguments only).\n",
    "\n",
    "The combination of carving and fuzzing at the API level is described in \\cite{Kampmann2018}."
   ]
  },
  {
   "cell_type": "markdown",
   "metadata": {
    "button": false,
    "new_sheet": true,
    "run_control": {
     "read_only": false
    },
    "slideshow": {
     "slide_type": "slide"
    }
   },
   "source": [
    "## Exercises\n",
    "\n",
    "### Exercise 1: Carving for Regression Testing\n",
    "\n",
    "So far, during carving, we only have looked into reproducing _calls_, but not into actually checking the _results_ of these calls.  This is important for _regression testing_ – i.e. checking whether a change to code does not impede existing functionality.  We can build this by recording not only _calls_, but also _return values_ – and then later compare whether the same calls result in the same values.  This may not work on all occasions; values that depend on time, randomness, or other external factors may be different.  Still, for functionality that abstracts from these details, checking that nothing has changed is an important part of testing."
   ]
  },
  {
   "cell_type": "markdown",
   "metadata": {
    "button": false,
    "new_sheet": false,
    "run_control": {
     "read_only": false
    },
    "slideshow": {
     "slide_type": "subslide"
    },
    "solution": "hidden",
    "solution2": "hidden",
    "solution2_first": true,
    "solution_first": true
   },
   "source": [
    "Our aim is to design a class `ResultCarver` that extends `CallCarver` by recording both calls and return values.\n",
    "\n",
    "In a first step, create a `traceit()` method that also tracks return values by extending the `traceit()` method.  The `traceit()` event type is `\"return\"` and the `arg` parameter is the returned value.  Here is a prototype that only prints out the returned values:"
   ]
  },
  {
   "cell_type": "code",
   "execution_count": 95,
   "metadata": {
    "execution": {
     "iopub.execute_input": "2022-01-12T13:54:59.447610Z",
     "iopub.status.busy": "2022-01-12T13:54:59.446083Z",
     "iopub.status.idle": "2022-01-12T13:54:59.448983Z",
     "shell.execute_reply": "2022-01-12T13:54:59.449552Z"
    },
    "slideshow": {
     "slide_type": "subslide"
    }
   },
   "outputs": [],
   "source": [
    "class ResultCarver(CallCarver):\n",
    "    def traceit(self, frame, event, arg):\n",
    "        if event == \"return\":\n",
    "            if self._log:\n",
    "                print(\"Result:\", arg)\n",
    "\n",
    "        super().traceit(frame, event, arg)\n",
    "        # Need to return traceit function such that it is invoked for return\n",
    "        # events\n",
    "        return self.traceit"
   ]
  },
  {
   "cell_type": "code",
   "execution_count": 96,
   "metadata": {
    "execution": {
     "iopub.execute_input": "2022-01-12T13:54:59.454353Z",
     "iopub.status.busy": "2022-01-12T13:54:59.453768Z",
     "iopub.status.idle": "2022-01-12T13:54:59.460863Z",
     "shell.execute_reply": "2022-01-12T13:54:59.461575Z"
    },
    "slideshow": {
     "slide_type": "subslide"
    }
   },
   "outputs": [
    {
     "name": "stdout",
     "output_type": "stream",
     "text": [
      "my_sqrt(x=2)\n",
      "Result: 1.414213562373095\n",
      "__exit__(tb=None, exc_value=None, exc_type=None, self=<__main__.ResultCarver object at 0x1220e1d90>)\n"
     ]
    }
   ],
   "source": [
    "with ResultCarver(log=True) as result_carver:\n",
    "    my_sqrt(2)"
   ]
  },
  {
   "cell_type": "markdown",
   "metadata": {
    "slideshow": {
     "slide_type": "subslide"
    },
    "solution2": "hidden",
    "solution2_first": true
   },
   "source": [
    "#### Part 1: Store function results\n",
    "\n",
    "Extend the above code such that results are _stored_ in a way that associates them with the currently returning function (or method).  To this end, you need to keep track of the _current stack of called functions_."
   ]
  },
  {
   "cell_type": "markdown",
   "metadata": {
    "button": false,
    "new_sheet": false,
    "run_control": {
     "read_only": false
    },
    "slideshow": {
     "slide_type": "skip"
    },
    "solution": "hidden",
    "solution2": "hidden"
   },
   "source": [
    "**Solution.** Here's a solution, building on the above:"
   ]
  },
  {
   "cell_type": "code",
   "execution_count": 97,
   "metadata": {
    "execution": {
     "iopub.execute_input": "2022-01-12T13:54:59.472375Z",
     "iopub.status.busy": "2022-01-12T13:54:59.471732Z",
     "iopub.status.idle": "2022-01-12T13:54:59.473846Z",
     "shell.execute_reply": "2022-01-12T13:54:59.474278Z"
    },
    "slideshow": {
     "slide_type": "skip"
    },
    "solution2": "hidden"
   },
   "outputs": [],
   "source": [
    "class ResultCarver(CallCarver):\n",
    "    def reset(self):\n",
    "        super().reset()\n",
    "        self._call_stack = []\n",
    "        self._results = {}\n",
    "\n",
    "    def add_result(self, function_name, arguments, result):\n",
    "        key = simple_call_string(function_name, arguments)\n",
    "        self._results[key] = result\n",
    "\n",
    "    def traceit(self, frame, event, arg):\n",
    "        if event == \"call\":\n",
    "            code = frame.f_code\n",
    "            function_name = code.co_name\n",
    "            qualified_name = get_qualified_name(code)\n",
    "            self._call_stack.append(\n",
    "                (function_name, qualified_name, get_arguments(frame)))\n",
    "\n",
    "        if event == \"return\":\n",
    "            result = arg\n",
    "            (function_name, qualified_name, arguments) = self._call_stack.pop()\n",
    "            self.add_result(function_name, arguments, result)\n",
    "            if function_name != qualified_name:\n",
    "                self.add_result(qualified_name, arguments, result)\n",
    "            if self._log:\n",
    "                print(\n",
    "                    simple_call_string(\n",
    "                        function_name,\n",
    "                        arguments),\n",
    "                    \"=\",\n",
    "                    result)\n",
    "\n",
    "        # Keep on processing current calls\n",
    "        super().traceit(frame, event, arg)\n",
    "\n",
    "        # Need to return traceit function such that it is invoked for return\n",
    "        # events\n",
    "        return self.traceit"
   ]
  },
  {
   "cell_type": "code",
   "execution_count": 98,
   "metadata": {
    "execution": {
     "iopub.execute_input": "2022-01-12T13:54:59.478589Z",
     "iopub.status.busy": "2022-01-12T13:54:59.477809Z",
     "iopub.status.idle": "2022-01-12T13:54:59.493529Z",
     "shell.execute_reply": "2022-01-12T13:54:59.494216Z"
    },
    "slideshow": {
     "slide_type": "skip"
    },
    "solution2": "hidden"
   },
   "outputs": [
    {
     "name": "stdout",
     "output_type": "stream",
     "text": [
      "my_sqrt(x=2)\n",
      "my_sqrt(x=2) = 1.414213562373095\n",
      "__exit__(tb=None, exc_value=None, exc_type=None, self=<__main__.ResultCarver object at 0x1220a6190>)\n"
     ]
    },
    {
     "data": {
      "text/plain": [
       "{'my_sqrt(x=2)': 1.414213562373095,\n",
       " 'Intro_Testing.my_sqrt(x=2)': 1.414213562373095}"
      ]
     },
     "execution_count": 98,
     "metadata": {},
     "output_type": "execute_result"
    }
   ],
   "source": [
    "with ResultCarver(log=True) as result_carver:\n",
    "    my_sqrt(2)\n",
    "result_carver._results"
   ]
  },
  {
   "cell_type": "markdown",
   "metadata": {
    "button": false,
    "new_sheet": false,
    "run_control": {
     "read_only": false
    },
    "slideshow": {
     "slide_type": "subslide"
    },
    "solution": "hidden",
    "solution2": "hidden",
    "solution2_first": true,
    "solution_first": true
   },
   "source": [
    "#### Part 2: Access results\n",
    "\n",
    "  Give it a method `result()` that returns the value recorded for that particular function name and result:\n",
    "\n",
    "```python\n",
    "class ResultCarver(CallCarver):\n",
    "    def result(self, function_name, argument):\n",
    "        \"\"\"Returns the result recorded for function_name(argument\"\"\"\n",
    "```"
   ]
  },
  {
   "cell_type": "markdown",
   "metadata": {
    "slideshow": {
     "slide_type": "skip"
    },
    "solution2": "hidden"
   },
   "source": [
    "**Solution.** This is mostly done in the code for part 1:"
   ]
  },
  {
   "cell_type": "code",
   "execution_count": 99,
   "metadata": {
    "execution": {
     "iopub.execute_input": "2022-01-12T13:54:59.501468Z",
     "iopub.status.busy": "2022-01-12T13:54:59.500221Z",
     "iopub.status.idle": "2022-01-12T13:54:59.502348Z",
     "shell.execute_reply": "2022-01-12T13:54:59.502737Z"
    },
    "slideshow": {
     "slide_type": "skip"
    },
    "solution2": "hidden"
   },
   "outputs": [],
   "source": [
    "class ResultCarver(ResultCarver):\n",
    "    def result(self, function_name, argument):\n",
    "        key = simple_call_string(function_name, arguments)\n",
    "        return self._results[key]"
   ]
  },
  {
   "cell_type": "markdown",
   "metadata": {
    "slideshow": {
     "slide_type": "subslide"
    },
    "solution2": "hidden",
    "solution2_first": true
   },
   "source": [
    "#### Part 3: Produce assertions\n",
    "\n",
    "For the functions called during `webbrowser()` execution, create a set of _assertions_ that check whether the result returned is still the same.  Test this for `urllib.parse.urlparse()` and `urllib.parse.urlsplit()`."
   ]
  },
  {
   "cell_type": "markdown",
   "metadata": {
    "button": false,
    "new_sheet": false,
    "run_control": {
     "read_only": false
    },
    "slideshow": {
     "slide_type": "skip"
    },
    "solution": "hidden",
    "solution2": "hidden"
   },
   "source": [
    "**Solution.** Not too hard now:"
   ]
  },
  {
   "cell_type": "code",
   "execution_count": 100,
   "metadata": {
    "execution": {
     "iopub.execute_input": "2022-01-12T13:54:59.514907Z",
     "iopub.status.busy": "2022-01-12T13:54:59.513967Z",
     "iopub.status.idle": "2022-01-12T13:55:01.082611Z",
     "shell.execute_reply": "2022-01-12T13:55:01.083175Z"
    },
    "slideshow": {
     "slide_type": "skip"
    },
    "solution2": "hidden"
   },
   "outputs": [],
   "source": [
    "with ResultCarver() as webbrowser_result_carver:\n",
    "    webbrowser(\"http://www.example.com\")"
   ]
  },
  {
   "cell_type": "code",
   "execution_count": 101,
   "metadata": {
    "execution": {
     "iopub.execute_input": "2022-01-12T13:55:01.090066Z",
     "iopub.status.busy": "2022-01-12T13:55:01.088883Z",
     "iopub.status.idle": "2022-01-12T13:55:01.100056Z",
     "shell.execute_reply": "2022-01-12T13:55:01.099469Z"
    },
    "slideshow": {
     "slide_type": "skip"
    },
    "solution2": "hidden"
   },
   "outputs": [
    {
     "name": "stdout",
     "output_type": "stream",
     "text": [
      "assert urllib.parse.urlparse(allow_fragments=True, scheme='', url='http://www.example.com') == ParseResult(scheme='http', netloc='www.example.com', path='', params='', query='', fragment='')\n",
      "assert urllib.parse.urlparse(allow_fragments=True, scheme='', url='http://www.example.com/') == ParseResult(scheme='http', netloc='www.example.com', path='/', params='', query='', fragment='')\n",
      "assert urllib.parse.urlparse(allow_fragments=True, scheme='', url='http://www.example.com/') == ParseResult(scheme='http', netloc='www.example.com', path='/', params='', query='', fragment='')\n",
      "assert urllib.parse.urlparse(allow_fragments=True, scheme='', url='http://www.example.com/') == ParseResult(scheme='http', netloc='www.example.com', path='/', params='', query='', fragment='')\n",
      "assert urllib.parse.urlparse(allow_fragments=True, scheme='', url='http://www.example.com/') == ParseResult(scheme='http', netloc='www.example.com', path='/', params='', query='', fragment='')\n",
      "assert urllib.parse.urlparse(allow_fragments=True, scheme='', url='http://www.example.com/') == ParseResult(scheme='http', netloc='www.example.com', path='/', params='', query='', fragment='')\n",
      "assert urllib.parse.urlparse(allow_fragments=True, scheme='', url='http://www.example.com/') == ParseResult(scheme='http', netloc='www.example.com', path='/', params='', query='', fragment='')\n",
      "assert urllib.parse.urlparse(allow_fragments=True, scheme='', url='http://www.example.com/') == ParseResult(scheme='http', netloc='www.example.com', path='/', params='', query='', fragment='')\n",
      "assert urllib.parse.urlparse(allow_fragments=True, scheme='', url='http://www.example.com/') == ParseResult(scheme='http', netloc='www.example.com', path='/', params='', query='', fragment='')\n",
      "assert urllib.parse.urlparse(allow_fragments=True, scheme='', url='http://www.example.com/') == ParseResult(scheme='http', netloc='www.example.com', path='/', params='', query='', fragment='')\n",
      "assert urllib.parse.urlparse(allow_fragments=True, scheme='', url='http://www.example.com/') == ParseResult(scheme='http', netloc='www.example.com', path='/', params='', query='', fragment='')\n",
      "assert urllib.parse.urlparse(allow_fragments=True, scheme='', url='http://www.example.com/') == ParseResult(scheme='http', netloc='www.example.com', path='/', params='', query='', fragment='')\n",
      "assert urllib.parse.urlparse(allow_fragments=True, scheme='', url='http://www.example.com/') == ParseResult(scheme='http', netloc='www.example.com', path='/', params='', query='', fragment='')\n",
      "assert urllib.parse.urlparse(allow_fragments=True, scheme='', url='http://www.example.com/') == ParseResult(scheme='http', netloc='www.example.com', path='/', params='', query='', fragment='')\n",
      "assert urllib.parse.urlsplit(allow_fragments=True, scheme='', url='http://www.example.com') == SplitResult(scheme='http', netloc='www.example.com', path='', query='', fragment='')\n",
      "assert urllib.parse.urlsplit(allow_fragments=True, scheme='', url='http://www.example.com/') == SplitResult(scheme='http', netloc='www.example.com', path='/', query='', fragment='')\n",
      "assert urllib.parse.urlsplit(allow_fragments=True, scheme='', url='http://www.example.com/') == SplitResult(scheme='http', netloc='www.example.com', path='/', query='', fragment='')\n",
      "assert urllib.parse.urlsplit(allow_fragments=True, scheme='', url='http://www.example.com/') == SplitResult(scheme='http', netloc='www.example.com', path='/', query='', fragment='')\n",
      "assert urllib.parse.urlsplit(allow_fragments=True, scheme='', url='http://www.example.com/') == SplitResult(scheme='http', netloc='www.example.com', path='/', query='', fragment='')\n",
      "assert urllib.parse.urlsplit(allow_fragments=True, scheme='', url='http://www.example.com/') == SplitResult(scheme='http', netloc='www.example.com', path='/', query='', fragment='')\n",
      "assert urllib.parse.urlsplit(allow_fragments=True, scheme='', url='http://www.example.com/') == SplitResult(scheme='http', netloc='www.example.com', path='/', query='', fragment='')\n",
      "assert urllib.parse.urlsplit(allow_fragments=True, scheme='', url='http://www.example.com/') == SplitResult(scheme='http', netloc='www.example.com', path='/', query='', fragment='')\n",
      "assert urllib.parse.urlsplit(allow_fragments=True, scheme='', url='http://www.example.com/') == SplitResult(scheme='http', netloc='www.example.com', path='/', query='', fragment='')\n",
      "assert urllib.parse.urlsplit(allow_fragments=True, scheme='', url='http://www.example.com/') == SplitResult(scheme='http', netloc='www.example.com', path='/', query='', fragment='')\n",
      "assert urllib.parse.urlsplit(allow_fragments=True, scheme='', url='http://www.example.com/') == SplitResult(scheme='http', netloc='www.example.com', path='/', query='', fragment='')\n",
      "assert urllib.parse.urlsplit(allow_fragments=True, scheme='', url='http://www.example.com/') == SplitResult(scheme='http', netloc='www.example.com', path='/', query='', fragment='')\n",
      "assert urllib.parse.urlsplit(allow_fragments=True, scheme='', url='http://www.example.com/') == SplitResult(scheme='http', netloc='www.example.com', path='/', query='', fragment='')\n",
      "assert urllib.parse.urlsplit(allow_fragments=True, scheme='', url='http://www.example.com/') == SplitResult(scheme='http', netloc='www.example.com', path='/', query='', fragment='')\n",
      "assert urllib.parse.urlsplit(allow_fragments=True, scheme='', url='http://www.example.com/') == SplitResult(scheme='http', netloc='www.example.com', path='/', query='', fragment='')\n"
     ]
    }
   ],
   "source": [
    "for function_name in [\"urllib.parse.urlparse\", \"urllib.parse.urlsplit\"]:\n",
    "    for arguments in webbrowser_result_carver.arguments(function_name):\n",
    "        try:\n",
    "            call = call_string(function_name, arguments)\n",
    "            result = webbrowser_result_carver.result(function_name, arguments)\n",
    "            print(\"assert\", call, \"==\", call_value(result))\n",
    "        except Exception:\n",
    "            continue"
   ]
  },
  {
   "cell_type": "markdown",
   "metadata": {
    "slideshow": {
     "slide_type": "skip"
    },
    "solution2": "hidden"
   },
   "source": [
    "We can run these assertions:"
   ]
  },
  {
   "cell_type": "code",
   "execution_count": 102,
   "metadata": {
    "execution": {
     "iopub.execute_input": "2022-01-12T13:55:01.104956Z",
     "iopub.status.busy": "2022-01-12T13:55:01.104385Z",
     "iopub.status.idle": "2022-01-12T13:55:01.106220Z",
     "shell.execute_reply": "2022-01-12T13:55:01.106866Z"
    },
    "slideshow": {
     "slide_type": "skip"
    },
    "solution2": "hidden"
   },
   "outputs": [],
   "source": [
    "from urllib.parse import SplitResult, ParseResult, urlparse, urlsplit"
   ]
  },
  {
   "cell_type": "code",
   "execution_count": 103,
   "metadata": {
    "execution": {
     "iopub.execute_input": "2022-01-12T13:55:01.113072Z",
     "iopub.status.busy": "2022-01-12T13:55:01.112327Z",
     "iopub.status.idle": "2022-01-12T13:55:01.114909Z",
     "shell.execute_reply": "2022-01-12T13:55:01.115759Z"
    },
    "slideshow": {
     "slide_type": "skip"
    },
    "solution2": "hidden"
   },
   "outputs": [],
   "source": [
    "assert urlparse(\n",
    "    url='http://www.example.com',\n",
    "    scheme='',\n",
    "    allow_fragments=True) == ParseResult(\n",
    "        scheme='http',\n",
    "        netloc='www.example.com',\n",
    "        path='',\n",
    "        params='',\n",
    "        query='',\n",
    "    fragment='')\n",
    "assert urlsplit(\n",
    "    url='http://www.example.com',\n",
    "    scheme='',\n",
    "    allow_fragments=True) == SplitResult(\n",
    "        scheme='http',\n",
    "        netloc='www.example.com',\n",
    "        path='',\n",
    "        query='',\n",
    "    fragment='')"
   ]
  },
  {
   "cell_type": "markdown",
   "metadata": {
    "slideshow": {
     "slide_type": "skip"
    },
    "solution2": "hidden"
   },
   "source": [
    "We can now add these carved tests to a _regression test suite_ which would be run after every change to ensure that the functionality of `urlparse()` and `urlsplit()` is not changed."
   ]
  },
  {
   "cell_type": "markdown",
   "metadata": {
    "button": false,
    "new_sheet": false,
    "run_control": {
     "read_only": false
    },
    "slideshow": {
     "slide_type": "subslide"
    },
    "solution2": "hidden",
    "solution2_first": true
   },
   "source": [
    "### Exercise 2: Abstracting Arguments\n",
    "\n",
    "When mining an API grammar from executions, set up an abstraction scheme to widen the range of arguments to be used during testing.  If the values for an argument, all conform to some type `T`. abstract it into `<T>`.  For instance, if calls to `foo(1)`, `foo(2)`, `foo(3)` have been seen, the grammar should abstract its calls into `foo(<int>)`, with `<int>` being appropriately defined.\n",
    "\n",
    "Do this for a number of common types: integers, positive numbers, floating-point numbers, host names, URLs, mail addresses, and more."
   ]
  },
  {
   "cell_type": "markdown",
   "metadata": {
    "slideshow": {
     "slide_type": "skip"
    },
    "solution2": "hidden"
   },
   "source": [
    "**Solution.** Left to the reader."
   ]
  }
 ],
 "metadata": {
  "ipub": {
   "bibliography": "fuzzingbook.bib",
   "toc": true
  },
  "kernelspec": {
   "display_name": "Python 3 (ipykernel)",
   "language": "python",
   "name": "python3"
  },
  "language_info": {
   "codemirror_mode": {
    "name": "ipython",
    "version": 3
   },
   "file_extension": ".py",
   "mimetype": "text/x-python",
   "name": "python",
   "nbconvert_exporter": "python",
   "pygments_lexer": "ipython3",
   "version": "3.9.7"
  },
  "toc": {
   "base_numbering": 1,
   "nav_menu": {},
   "number_sections": true,
   "sideBar": true,
   "skip_h1_title": true,
   "title_cell": "",
   "title_sidebar": "Contents",
   "toc_cell": false,
   "toc_position": {},
   "toc_section_display": true,
   "toc_window_display": true
  },
  "toc-autonumbering": false
 },
 "nbformat": 4,
 "nbformat_minor": 4
}