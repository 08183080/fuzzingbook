{
 "cells": [
  {
   "cell_type": "markdown",
   "metadata": {
    "slideshow": {
     "slide_type": "slide"
    }
   },
   "source": [
    "# Concolic Fuzzing\n",
    "\n",
    "In the [chapter on information flow](InformationFlow.ipynb), we have seen how one can use dynamic taints to produce more intelligent test cases than simply looking for program crashes. We have also seen how one can use the taints to update the grammar, and hence focus more on the dangerous methods. "
   ]
  },
  {
   "cell_type": "markdown",
   "metadata": {
    "slideshow": {
     "slide_type": "fragment"
    }
   },
   "source": [
    "While taints are helpful, uninterpreted strings is only one of the attack vectors. Can we say anything more about the properties of variables at any point in the execution? For example, can we say for sure that a function will always receive the buffers with the correct length?"
   ]
  },
  {
   "cell_type": "markdown",
   "metadata": {
    "slideshow": {
     "slide_type": "subslide"
    }
   },
   "source": [
    " _Concolic execution_ offers a solution here. The idea of _concolic execution_ over a function is as follows: We start with a sample input for the function, and execute the function under trace. At each point the execution passes through a conditional, we _save the conditional encountered_ in the form of _relations between symbolic variables._ Here, a _symbolic variable_ can be thought of as a sort of placeholder for the real variable, sort of like the x in solving for x in Algebra. The symbolic variables can be used to specify relations without actually solving them."
   ]
  },
  {
   "cell_type": "markdown",
   "metadata": {
    "slideshow": {
     "slide_type": "fragment"
    }
   },
   "source": [
    "With concolic execution, one can collect the constraints that an execution path encounters, and use it to answer questions about the program behavior at any point we prefer along the program execution path. We can further use concolic execution to enhance fuzzing."
   ]
  },
  {
   "cell_type": "markdown",
   "metadata": {
    "slideshow": {
     "slide_type": "subslide"
    }
   },
   "source": [
    "In this chapter, we explore in depth how to execute a Python function concolically, and how concolic execution can be used to enhance fuzzing."
   ]
  },
  {
   "cell_type": "code",
   "execution_count": 1,
   "metadata": {
    "execution": {
     "iopub.execute_input": "2022-01-04T17:42:12.185723Z",
     "iopub.status.busy": "2022-01-04T17:42:12.184963Z",
     "iopub.status.idle": "2022-01-04T17:42:12.341676Z",
     "shell.execute_reply": "2022-01-04T17:42:12.342063Z"
    },
    "slideshow": {
     "slide_type": "skip"
    }
   },
   "outputs": [
    {
     "data": {
      "text/html": [
       "\n",
       "        <iframe\n",
       "            width=\"640\"\n",
       "            height=\"360\"\n",
       "            src=\"https://www.youtube-nocookie.com/embed/5jBfa1njy18\"\n",
       "            frameborder=\"0\"\n",
       "            allowfullscreen\n",
       "            \n",
       "        ></iframe>\n",
       "        "
      ],
      "text/plain": [
       "<IPython.lib.display.IFrame at 0x10e505e20>"
      ]
     },
     "execution_count": 1,
     "metadata": {},
     "output_type": "execute_result"
    }
   ],
   "source": [
    "from bookutils import YouTubeVideo\n",
    "YouTubeVideo('5jBfa1njy18')"
   ]
  },
  {
   "cell_type": "markdown",
   "metadata": {
    "button": false,
    "new_sheet": false,
    "run_control": {
     "read_only": false
    },
    "slideshow": {
     "slide_type": "subslide"
    }
   },
   "source": [
    "**Prerequisites**\n",
    "\n",
    "* You should have read the [chapter on coverage](Coverage.ipynb).\n",
    "* You should have read the [chapter on information flow](InformationFlow.ipynb).\n",
    "* A familiarity with the basic idea of [SMT solvers](https://en.wikipedia.org/wiki/Satisfiability_modulo_theories) would be useful."
   ]
  },
  {
   "cell_type": "markdown",
   "metadata": {
    "slideshow": {
     "slide_type": "fragment"
    }
   },
   "source": [
    "We first set up our infrastructure so that we can make use of previously defined functions."
   ]
  },
  {
   "cell_type": "code",
   "execution_count": 2,
   "metadata": {
    "execution": {
     "iopub.execute_input": "2022-01-04T17:42:12.346514Z",
     "iopub.status.busy": "2022-01-04T17:42:12.345727Z",
     "iopub.status.idle": "2022-01-04T17:42:12.347465Z",
     "shell.execute_reply": "2022-01-04T17:42:12.347883Z"
    },
    "slideshow": {
     "slide_type": "skip"
    }
   },
   "outputs": [],
   "source": [
    "import bookutils"
   ]
  },
  {
   "cell_type": "code",
   "execution_count": 3,
   "metadata": {
    "execution": {
     "iopub.execute_input": "2022-01-04T17:42:12.351838Z",
     "iopub.status.busy": "2022-01-04T17:42:12.351308Z",
     "iopub.status.idle": "2022-01-04T17:42:12.353269Z",
     "shell.execute_reply": "2022-01-04T17:42:12.353712Z"
    },
    "slideshow": {
     "slide_type": "skip"
    }
   },
   "outputs": [],
   "source": [
    "from typing import List, Callable, Dict, Tuple"
   ]
  },
  {
   "cell_type": "markdown",
   "metadata": {
    "slideshow": {
     "slide_type": "skip"
    }
   },
   "source": [
    "## Synopsis\n",
    "<!-- Automatically generated. Do not edit. -->\n",
    "\n",
    "To [use the code provided in this chapter](Importing.ipynb), write\n",
    "\n",
    "```python\n",
    ">>> from fuzzingbook.ConcolicFuzzer import <identifier>\n",
    "```\n",
    "\n",
    "and then make use of the following features.\n",
    "\n",
    "\n",
    "This chapter defines two main classes: `SimpleConcolicFuzzer` and `ConcolicGrammarFuzzer`. The `SimpleConcolicFuzzer` first uses a sample input to collect predicates encountered. The fuzzer then negates random predicates to generate new input constraints. These, when solved, produce inputs that explore paths that are close to the original path.\n",
    "\n",
    "### ConcolicTracer\n",
    "\n",
    "At the heart of both fuzzers lies the concept of a _concolic tracer_, capturing symbolic variables and path conditions as a program gets executed.\n",
    "\n",
    "`ConcolicTracer` is used in a `with` block; the syntax `tracer[function]` executes `function` within the `tracer` while capturing conditions. Here is an example for the `cgi_decode()` function:\n",
    "\n",
    "```python\n",
    ">>> with ConcolicTracer() as _:\n",
    ">>>     _[cgi_decode]('a%20d')\n",
    "```\n",
    "Once executed, we can retrieve the symbolic variables in the `decls` attribute. This is a mapping of symbolic variables to types.\n",
    "\n",
    "```python\n",
    ">>> _.decls\n",
    "{'cgi_decode_s_str_1': 'String'}\n",
    "```\n",
    "The extracted path conditions can be found in the `path` attribute:\n",
    "\n",
    "```python\n",
    ">>> _.path\n",
    "[Not(str.substr(cgi_decode_s_str_1, 0, 1) == \"+\"),\n",
    " Not(str.substr(cgi_decode_s_str_1, 0, 1) == \"%\"),\n",
    " Not(str.substr(cgi_decode_s_str_1, 1, 1) == \"+\"),\n",
    " str.substr(cgi_decode_s_str_1, 1, 1) == \"%\",\n",
    " Not(str.substr(cgi_decode_s_str_1, 2, 1) == \"0\"),\n",
    " Not(str.substr(cgi_decode_s_str_1, 2, 1) == \"1\"),\n",
    " str.substr(cgi_decode_s_str_1, 2, 1) == \"2\",\n",
    " str.substr(cgi_decode_s_str_1, 3, 1) == \"0\",\n",
    " Not(str.substr(cgi_decode_s_str_1, 4, 1) == \"+\"),\n",
    " Not(str.substr(cgi_decode_s_str_1, 4, 1) == \"%\")]\n",
    "```\n",
    "The `context` attribute holds a pair of `decls` and `path` attributes; this is useful for passing it into the `ConcolicTracer` constructor.\n",
    "\n",
    "```python\n",
    ">>> assert _.context == (_.decls, _.path)\n",
    "```\n",
    "We can solve these constraints to obtain a value for the function parameters that follow the same path as the original (traced) invocation:\n",
    "\n",
    "```python\n",
    ">>> _.zeval()\n",
    "('sat', {'s': ('\\\\x00%20', 'String')})\n",
    "```\n",
    "The `zeval()` function also allows to pass _alternate_ or _negated_ constraints. See the chapter for examples.\n",
    "\n",
    "```python\n",
    ">>> from ClassDiagram import display_class_hierarchy\n",
    ">>> display_class_hierarchy(ConcolicTracer)\n",
    "```\n",
    "![](PICS/ConcolicFuzzer-synopsis-1.svg)\n",
    "\n",
    "### SimpleConcolicFuzzer\n",
    "\n",
    "The constraints obtained from `ConcolicTracer` are added to the concolic fuzzer as follows:\n",
    "\n",
    "```python\n",
    ">>> scf = SimpleConcolicFuzzer()\n",
    ">>> scf.add_trace(_, 'a%20d')\n",
    "```\n",
    "The concolic fuzzer then uses the constraints added to guide its fuzzing as follows:\n",
    "\n",
    "```python\n",
    ">>> scf = SimpleConcolicFuzzer()\n",
    ">>> for i in range(20):\n",
    ">>>     v = scf.fuzz()\n",
    ">>>     if v is None:\n",
    ">>>         break\n",
    ">>>     print(repr(v))\n",
    ">>>     with ExpectError(print_traceback=False):\n",
    ">>>         with ConcolicTracer() as _:\n",
    ">>>             _[cgi_decode](v)\n",
    ">>>     scf.add_trace(_, v)\n",
    "' '\n",
    "'%\\\\x00'\n",
    "'%7\\\\x00'\n",
    "\n",
    "ValueError: Invalid encoding (expected)\n",
    "ValueError: Invalid encoding (expected)\n",
    "ValueError: Invalid encoding (expected)\n",
    "\n",
    "'%\\\\x000\\\\x00'\n",
    "'%\\\\x009\\\\x00'\n",
    "'+\\\\x00'\n",
    "\n",
    "ValueError: Invalid encoding (expected)\n",
    "\n",
    "'%7e\\\\x00'\n",
    "'%b\\\\x00'\n",
    "''\n",
    "\n",
    "ValueError: Invalid encoding (expected)\n",
    "\n",
    "'%77\\\\x00'\n",
    "'%7E\\\\x00'\n",
    "'%73\\\\x00'\n",
    "'%7'\n",
    "'%77\\\\x00+\\\\x00'\n",
    "'%77\\\\x00\\\\x00\\\\x00+\\\\x00'\n",
    "\n",
    "IndexError: string index out of range (expected)\n",
    "\n",
    "'%1\\\\x00'\n",
    "'%7E\\\\x00%\\\\x00'\n",
    "\n",
    "ValueError: Invalid encoding (expected)\n",
    "ValueError: Invalid encoding (expected)\n",
    "\n",
    "'%75\\\\x00'\n",
    "'%\\\\x00C\\\\x00'\n",
    "'%73\\\\x00\\\\x00%\\\\x00'\n",
    "\n",
    "ValueError: Invalid encoding (expected)\n",
    "ValueError: Invalid encoding (expected)\n",
    "\n",
    "```\n",
    "We see how the additional inputs generated explore additional paths.\n",
    "\n",
    "```python\n",
    ">>> display_class_hierarchy(SimpleConcolicFuzzer)\n",
    "```\n",
    "![](PICS/ConcolicFuzzer-synopsis-2.svg)\n",
    "\n",
    "### ConcolicGrammarFuzzer\n",
    "\n",
    "The `SimpleConcolicFuzzer` simply explores all paths near the original path traversed by the sample input. It uses a simple mechanism to explore the paths that are near the paths that it knows about, and other than code paths, knows nothing about the input.\n",
    "\n",
    "The `ConcolicGrammarFuzzer` on the other hand, knows about the input grammar, and can collect feedback from the subject under fuzzing. It can lift some of the constraints encountered to the grammar, enabling deeper fuzzing. It is used as follows:\n",
    "\n",
    "```python\n",
    ">>> from InformationFlow import INVENTORY_GRAMMAR, SQLException\n",
    ">>> cgf = ConcolicGrammarFuzzer(INVENTORY_GRAMMAR)\n",
    ">>> cgf.prune_tokens(prune_tokens)\n",
    ">>> for i in range(10):\n",
    ">>>     query = cgf.fuzz()\n",
    ">>>     print(query)\n",
    ">>>     with ConcolicTracer() as _:\n",
    ">>>         with ExpectError(print_traceback=False):\n",
    ">>>             try:\n",
    ">>>                 res = _[db_select](query)\n",
    ">>>                 print(repr(res))\n",
    ">>>             except SQLException as e:\n",
    ">>>                 print(e)\n",
    ">>>         cgf.update_grammar(_)\n",
    ">>>         print()\n",
    "update w set kF=: where w8(y(W)<h)-j!=:BLlf((C>R)!=:)\n",
    "Table ('w') was not found\n",
    "\n",
    "delete from months where (--0==L<c/K)!=H-W>S/N==m==l\n",
    "Invalid WHERE ('(--0==L<c/K)!=H-W>S/N==m==l')\n",
    "\n",
    "select -6.9 from nYD38G47083\n",
    "Table ('nYD38G47083') was not found\n",
    "\n",
    "select (((r)==((L))!=q)) from bhTy where I==i*S==x==F\n",
    "Table ('bhTy') was not found\n",
    "\n",
    "insert into vehicles (Vb,L) values (88.578)\n",
    "Column ('Vb') was not found\n",
    "\n",
    "select (C/c>B(d,n,X)),d,J,R from S\n",
    "Table ('S') was not found\n",
    "\n",
    "insert into PG58 (L) values (5)\n",
    "Table ('PG58') was not found\n",
    "\n",
    "select --932.7==R0Q from r993\n",
    "Table ('r993') was not found\n",
    "\n",
    "insert into S9Iz1C (la,B9) values ('aqu')\n",
    "Table ('S9Iz1C') was not found\n",
    "\n",
    "delete from vehicles where W/V!=A(f)+t<O*E/S-.\n",
    "Invalid WHERE ('W/V!=A(f)+t<O*E/S-.')\n",
    "\n",
    "\n",
    ">>> display_class_hierarchy(ConcolicGrammarFuzzer)\n",
    "```\n",
    "![](PICS/ConcolicFuzzer-synopsis-3.svg)\n",
    "\n"
   ]
  },
  {
   "cell_type": "markdown",
   "metadata": {
    "slideshow": {
     "slide_type": "slide"
    },
    "toc-hr-collapsed": false
   },
   "source": [
    "## Tracking Constraints"
   ]
  },
  {
   "cell_type": "markdown",
   "metadata": {
    "slideshow": {
     "slide_type": "fragment"
    }
   },
   "source": [
    "In the chapter on [information flow](InformationFlow), we have seen how dynamic taints can be used to direct fuzzing by indicating which part of input reached interesting places. However, dynamic taint tracking is limited in the information that it can propagate. For example, we might want to explore what happens when certain properties of the input changes."
   ]
  },
  {
   "cell_type": "markdown",
   "metadata": {
    "slideshow": {
     "slide_type": "fragment"
    }
   },
   "source": [
    "For example, say we have a function `factorial()` that returns the *factorial value* of its input."
   ]
  },
  {
   "cell_type": "code",
   "execution_count": 4,
   "metadata": {
    "execution": {
     "iopub.execute_input": "2022-01-04T17:42:12.359064Z",
     "iopub.status.busy": "2022-01-04T17:42:12.358505Z",
     "iopub.status.idle": "2022-01-04T17:42:12.360388Z",
     "shell.execute_reply": "2022-01-04T17:42:12.360831Z"
    },
    "slideshow": {
     "slide_type": "subslide"
    }
   },
   "outputs": [],
   "source": [
    "def factorial(n):\n",
    "    if n < 0:\n",
    "        return None\n",
    "\n",
    "    if n == 0:\n",
    "        return 1\n",
    "\n",
    "    if n == 1:\n",
    "        return 1\n",
    "\n",
    "    v = 1\n",
    "    while n != 0:\n",
    "        v = v * n\n",
    "        n = n - 1\n",
    "\n",
    "    return v"
   ]
  },
  {
   "cell_type": "markdown",
   "metadata": {
    "slideshow": {
     "slide_type": "subslide"
    }
   },
   "source": [
    "We exercise the function with a value of `5`."
   ]
  },
  {
   "cell_type": "code",
   "execution_count": 5,
   "metadata": {
    "execution": {
     "iopub.execute_input": "2022-01-04T17:42:12.364979Z",
     "iopub.status.busy": "2022-01-04T17:42:12.364375Z",
     "iopub.status.idle": "2022-01-04T17:42:12.367370Z",
     "shell.execute_reply": "2022-01-04T17:42:12.367749Z"
    },
    "slideshow": {
     "slide_type": "fragment"
    }
   },
   "outputs": [
    {
     "data": {
      "text/plain": [
       "120"
      ]
     },
     "execution_count": 5,
     "metadata": {},
     "output_type": "execute_result"
    }
   ],
   "source": [
    "factorial(5)"
   ]
  },
  {
   "cell_type": "markdown",
   "metadata": {
    "slideshow": {
     "slide_type": "fragment"
    }
   },
   "source": [
    "Is this sufficient to explore all the features of the function? How do we know? One way to verify that we have explored all features is to look at the _coverage obtained_. First we need to extend the `Coverage` class from the [chapter on coverage](Coverage.ipynb) to provide us with coverage arcs."
   ]
  },
  {
   "cell_type": "code",
   "execution_count": 6,
   "metadata": {
    "execution": {
     "iopub.execute_input": "2022-01-04T17:42:12.371925Z",
     "iopub.status.busy": "2022-01-04T17:42:12.371312Z",
     "iopub.status.idle": "2022-01-04T17:42:14.022543Z",
     "shell.execute_reply": "2022-01-04T17:42:14.022975Z"
    },
    "slideshow": {
     "slide_type": "skip"
    }
   },
   "outputs": [],
   "source": [
    "from Coverage import Coverage"
   ]
  },
  {
   "cell_type": "code",
   "execution_count": 7,
   "metadata": {
    "execution": {
     "iopub.execute_input": "2022-01-04T17:42:14.030507Z",
     "iopub.status.busy": "2022-01-04T17:42:14.028942Z",
     "iopub.status.idle": "2022-01-04T17:42:14.032849Z",
     "shell.execute_reply": "2022-01-04T17:42:14.033926Z"
    },
    "slideshow": {
     "slide_type": "skip"
    }
   },
   "outputs": [],
   "source": [
    "import inspect"
   ]
  },
  {
   "cell_type": "code",
   "execution_count": 8,
   "metadata": {
    "execution": {
     "iopub.execute_input": "2022-01-04T17:42:14.042066Z",
     "iopub.status.busy": "2022-01-04T17:42:14.041480Z",
     "iopub.status.idle": "2022-01-04T17:42:14.043813Z",
     "shell.execute_reply": "2022-01-04T17:42:14.045086Z"
    },
    "slideshow": {
     "slide_type": "subslide"
    }
   },
   "outputs": [],
   "source": [
    "class ArcCoverage(Coverage):\n",
    "    def traceit(self, frame, event, args):\n",
    "        if event != 'return':\n",
    "            f = inspect.getframeinfo(frame)\n",
    "            self._trace.append((f.function, f.lineno))\n",
    "        return self.traceit\n",
    "\n",
    "    def arcs(self):\n",
    "        t = [i for f, i in self._trace]\n",
    "        return list(zip(t, t[1:]))"
   ]
  },
  {
   "cell_type": "markdown",
   "metadata": {
    "slideshow": {
     "slide_type": "fragment"
    }
   },
   "source": [
    "Next, we use the `Tracer` to obtain the coverage arcs."
   ]
  },
  {
   "cell_type": "code",
   "execution_count": 9,
   "metadata": {
    "execution": {
     "iopub.execute_input": "2022-01-04T17:42:14.051034Z",
     "iopub.status.busy": "2022-01-04T17:42:14.050233Z",
     "iopub.status.idle": "2022-01-04T17:42:14.287822Z",
     "shell.execute_reply": "2022-01-04T17:42:14.288249Z"
    },
    "slideshow": {
     "slide_type": "fragment"
    }
   },
   "outputs": [],
   "source": [
    "with ArcCoverage() as cov:\n",
    "    factorial(5)"
   ]
  },
  {
   "cell_type": "markdown",
   "metadata": {
    "slideshow": {
     "slide_type": "fragment"
    }
   },
   "source": [
    "We can now use the coverage arcs to visualize the coverage obtained."
   ]
  },
  {
   "cell_type": "code",
   "execution_count": 10,
   "metadata": {
    "execution": {
     "iopub.execute_input": "2022-01-04T17:42:14.292982Z",
     "iopub.status.busy": "2022-01-04T17:42:14.291814Z",
     "iopub.status.idle": "2022-01-04T17:42:14.681371Z",
     "shell.execute_reply": "2022-01-04T17:42:14.681815Z"
    },
    "slideshow": {
     "slide_type": "skip"
    }
   },
   "outputs": [],
   "source": [
    "from ControlFlow import to_graph, gen_cfg"
   ]
  },
  {
   "cell_type": "code",
   "execution_count": 11,
   "metadata": {
    "execution": {
     "iopub.execute_input": "2022-01-04T17:42:14.689489Z",
     "iopub.status.busy": "2022-01-04T17:42:14.688566Z",
     "iopub.status.idle": "2022-01-04T17:42:15.314932Z",
     "shell.execute_reply": "2022-01-04T17:42:15.315421Z"
    },
    "slideshow": {
     "slide_type": "subslide"
    }
   },
   "outputs": [
    {
     "data": {
      "image/svg+xml": [
       "<?xml version=\"1.0\" encoding=\"UTF-8\" standalone=\"no\"?>\n",
       "<!DOCTYPE svg PUBLIC \"-//W3C//DTD SVG 1.1//EN\"\n",
       " \"http://www.w3.org/Graphics/SVG/1.1/DTD/svg11.dtd\">\n",
       "<!-- Generated by graphviz version 2.49.3 (20211023.0002)\n",
       " -->\n",
       "<!-- Pages: 1 -->\n",
       "<svg width=\"423pt\" height=\"564pt\"\n",
       " viewBox=\"0.00 0.00 423.11 564.00\" xmlns=\"http://www.w3.org/2000/svg\" xmlns:xlink=\"http://www.w3.org/1999/xlink\">\n",
       "<g id=\"graph0\" class=\"graph\" transform=\"scale(1 1) rotate(0) translate(4 560)\">\n",
       "<polygon fill=\"white\" stroke=\"transparent\" points=\"-4,4 -4,-560 419.11,-560 419.11,4 -4,4\"/>\n",
       "<!-- 1 -->\n",
       "<g id=\"node1\" class=\"node\">\n",
       "<title>1</title>\n",
       "<ellipse fill=\"none\" stroke=\"black\" cx=\"101\" cy=\"-534\" rx=\"83.69\" ry=\"18\"/>\n",
       "<ellipse fill=\"none\" stroke=\"black\" cx=\"101\" cy=\"-534\" rx=\"87.69\" ry=\"22\"/>\n",
       "<text text-anchor=\"middle\" x=\"101\" y=\"-530.3\" font-family=\"Times,serif\" font-size=\"14.00\">1: enter: factorial(n)</text>\n",
       "</g>\n",
       "<!-- 3 -->\n",
       "<g id=\"node7\" class=\"node\">\n",
       "<title>3</title>\n",
       "<polygon fill=\"none\" stroke=\"black\" points=\"101,-476 31.29,-458 101,-440 170.71,-458 101,-476\"/>\n",
       "<text text-anchor=\"middle\" x=\"101\" y=\"-454.3\" font-family=\"Times,serif\" font-size=\"14.00\">2: if: n &lt; 0</text>\n",
       "</g>\n",
       "<!-- 1&#45;&gt;3 -->\n",
       "<g id=\"edge5\" class=\"edge\">\n",
       "<title>1&#45;&gt;3</title>\n",
       "<path fill=\"none\" stroke=\"green\" d=\"M101,-511.99C101,-504.06 101,-494.91 101,-486.48\"/>\n",
       "<polygon fill=\"green\" stroke=\"green\" points=\"104.5,-486.31 101,-476.31 97.5,-486.31 104.5,-486.31\"/>\n",
       "</g>\n",
       "<!-- 2 -->\n",
       "<g id=\"node2\" class=\"node\">\n",
       "<title>2</title>\n",
       "<ellipse fill=\"none\" stroke=\"black\" cx=\"145\" cy=\"-22\" rx=\"79.1\" ry=\"18\"/>\n",
       "<ellipse fill=\"none\" stroke=\"black\" cx=\"145\" cy=\"-22\" rx=\"83.09\" ry=\"22\"/>\n",
       "<text text-anchor=\"middle\" x=\"145\" y=\"-18.3\" font-family=\"Times,serif\" font-size=\"14.00\">1: exit: factorial(n)</text>\n",
       "</g>\n",
       "<!-- 4 -->\n",
       "<g id=\"node3\" class=\"node\">\n",
       "<title>4</title>\n",
       "<polygon fill=\"none\" stroke=\"black\" points=\"98,-188 0,-188 0,-152 98,-152 98,-188\"/>\n",
       "<text text-anchor=\"middle\" x=\"49\" y=\"-166.3\" font-family=\"Times,serif\" font-size=\"14.00\">3: return None</text>\n",
       "</g>\n",
       "<!-- 4&#45;&gt;2 -->\n",
       "<g id=\"edge1\" class=\"edge\">\n",
       "<title>4&#45;&gt;2</title>\n",
       "<path fill=\"none\" stroke=\"red\" d=\"M60.2,-151.97C76.23,-127.59 105.93,-82.42 125.58,-52.53\"/>\n",
       "<polygon fill=\"red\" stroke=\"red\" points=\"128.51,-54.44 131.08,-44.16 122.67,-50.6 128.51,-54.44\"/>\n",
       "</g>\n",
       "<!-- 6 -->\n",
       "<g id=\"node4\" class=\"node\">\n",
       "<title>6</title>\n",
       "<polygon fill=\"none\" stroke=\"black\" points=\"163.5,-332 88.5,-332 88.5,-296 163.5,-296 163.5,-332\"/>\n",
       "<text text-anchor=\"middle\" x=\"126\" y=\"-310.3\" font-family=\"Times,serif\" font-size=\"14.00\">6: return 1</text>\n",
       "</g>\n",
       "<!-- 6&#45;&gt;2 -->\n",
       "<g id=\"edge2\" class=\"edge\">\n",
       "<title>6&#45;&gt;2</title>\n",
       "<path fill=\"none\" stroke=\"red\" d=\"M127.13,-295.73C130.24,-248.22 138.97,-115.09 142.96,-54.16\"/>\n",
       "<polygon fill=\"red\" stroke=\"red\" points=\"146.46,-54.21 143.62,-44 139.48,-53.75 146.46,-54.21\"/>\n",
       "</g>\n",
       "<!-- 8 -->\n",
       "<g id=\"node5\" class=\"node\">\n",
       "<title>8</title>\n",
       "<polygon fill=\"none\" stroke=\"black\" points=\"235.5,-260 160.5,-260 160.5,-224 235.5,-224 235.5,-260\"/>\n",
       "<text text-anchor=\"middle\" x=\"198\" y=\"-238.3\" font-family=\"Times,serif\" font-size=\"14.00\">9: return 1</text>\n",
       "</g>\n",
       "<!-- 8&#45;&gt;2 -->\n",
       "<g id=\"edge3\" class=\"edge\">\n",
       "<title>8&#45;&gt;2</title>\n",
       "<path fill=\"none\" stroke=\"red\" d=\"M193.84,-223.89C184.93,-187.22 163.86,-100.59 152.53,-53.97\"/>\n",
       "<polygon fill=\"red\" stroke=\"red\" points=\"155.9,-53.01 150.13,-44.12 149.1,-54.66 155.9,-53.01\"/>\n",
       "</g>\n",
       "<!-- 13 -->\n",
       "<g id=\"node6\" class=\"node\">\n",
       "<title>13</title>\n",
       "<polygon fill=\"none\" stroke=\"black\" points=\"274,-116 192,-116 192,-80 274,-80 274,-116\"/>\n",
       "<text text-anchor=\"middle\" x=\"233\" y=\"-94.3\" font-family=\"Times,serif\" font-size=\"14.00\">16: return v</text>\n",
       "</g>\n",
       "<!-- 13&#45;&gt;2 -->\n",
       "<g id=\"edge4\" class=\"edge\">\n",
       "<title>13&#45;&gt;2</title>\n",
       "<path fill=\"none\" stroke=\"green\" d=\"M212.59,-79.84C202.03,-70.96 188.89,-59.91 177.02,-49.93\"/>\n",
       "<polygon fill=\"green\" stroke=\"green\" points=\"178.95,-46.98 169.05,-43.22 174.45,-52.34 178.95,-46.98\"/>\n",
       "</g>\n",
       "<!-- 3&#45;&gt;4 -->\n",
       "<g id=\"edge6\" class=\"edge\">\n",
       "<title>3&#45;&gt;4</title>\n",
       "<path fill=\"none\" stroke=\"red\" d=\"M89.42,-442.65C81.92,-432.49 72.69,-418.2 68,-404 44.41,-332.62 45.01,-242.55 47.15,-198.21\"/>\n",
       "<polygon fill=\"red\" stroke=\"red\" points=\"50.64,-198.39 47.69,-188.21 43.65,-198 50.64,-198.39\"/>\n",
       "</g>\n",
       "<!-- 5 -->\n",
       "<g id=\"node8\" class=\"node\">\n",
       "<title>5</title>\n",
       "<polygon fill=\"none\" stroke=\"black\" points=\"154,-404 76.58,-386 154,-368 231.42,-386 154,-404\"/>\n",
       "<text text-anchor=\"middle\" x=\"154\" y=\"-382.3\" font-family=\"Times,serif\" font-size=\"14.00\">5: if: n == 0</text>\n",
       "</g>\n",
       "<!-- 3&#45;&gt;5 -->\n",
       "<g id=\"edge7\" class=\"edge\">\n",
       "<title>3&#45;&gt;5</title>\n",
       "<path fill=\"none\" stroke=\"green\" d=\"M111.98,-442.5C119.16,-433.02 128.68,-420.44 136.85,-409.66\"/>\n",
       "<polygon fill=\"green\" stroke=\"green\" points=\"139.79,-411.57 143.03,-401.49 134.21,-407.35 139.79,-411.57\"/>\n",
       "</g>\n",
       "<!-- 5&#45;&gt;6 -->\n",
       "<g id=\"edge8\" class=\"edge\">\n",
       "<title>5&#45;&gt;6</title>\n",
       "<path fill=\"none\" stroke=\"red\" d=\"M147.65,-369.12C144.42,-361.06 140.42,-351.05 136.74,-341.84\"/>\n",
       "<polygon fill=\"red\" stroke=\"red\" points=\"139.88,-340.28 132.92,-332.29 133.38,-342.88 139.88,-340.28\"/>\n",
       "</g>\n",
       "<!-- 7 -->\n",
       "<g id=\"node9\" class=\"node\">\n",
       "<title>7</title>\n",
       "<polygon fill=\"none\" stroke=\"black\" points=\"259,-332 181.58,-314 259,-296 336.42,-314 259,-332\"/>\n",
       "<text text-anchor=\"middle\" x=\"259\" y=\"-310.3\" font-family=\"Times,serif\" font-size=\"14.00\">8: if: n == 1</text>\n",
       "</g>\n",
       "<!-- 5&#45;&gt;7 -->\n",
       "<g id=\"edge9\" class=\"edge\">\n",
       "<title>5&#45;&gt;7</title>\n",
       "<path fill=\"none\" stroke=\"green\" d=\"M173.26,-372.16C189.54,-361.31 213.07,-345.62 231.36,-333.43\"/>\n",
       "<polygon fill=\"green\" stroke=\"green\" points=\"233.48,-336.22 239.86,-327.76 229.6,-330.39 233.48,-336.22\"/>\n",
       "</g>\n",
       "<!-- 7&#45;&gt;8 -->\n",
       "<g id=\"edge10\" class=\"edge\">\n",
       "<title>7&#45;&gt;8</title>\n",
       "<path fill=\"none\" stroke=\"red\" d=\"M246.66,-298.83C238.89,-289.92 228.65,-278.17 219.57,-267.75\"/>\n",
       "<polygon fill=\"red\" stroke=\"red\" points=\"222.12,-265.35 212.91,-260.11 216.84,-269.95 222.12,-265.35\"/>\n",
       "</g>\n",
       "<!-- 9 -->\n",
       "<g id=\"node10\" class=\"node\">\n",
       "<title>9</title>\n",
       "<polygon fill=\"none\" stroke=\"black\" points=\"323,-260 257,-260 257,-224 323,-224 323,-260\"/>\n",
       "<text text-anchor=\"middle\" x=\"290\" y=\"-238.3\" font-family=\"Times,serif\" font-size=\"14.00\">11: v = 1</text>\n",
       "</g>\n",
       "<!-- 7&#45;&gt;9 -->\n",
       "<g id=\"edge11\" class=\"edge\">\n",
       "<title>7&#45;&gt;9</title>\n",
       "<path fill=\"none\" stroke=\"green\" d=\"M265.88,-297.46C269.48,-289.33 273.99,-279.15 278.14,-269.79\"/>\n",
       "<polygon fill=\"green\" stroke=\"green\" points=\"281.42,-271.02 282.27,-260.46 275.02,-268.19 281.42,-271.02\"/>\n",
       "</g>\n",
       "<!-- 10 -->\n",
       "<g id=\"node11\" class=\"node\">\n",
       "<title>10</title>\n",
       "<polygon fill=\"none\" stroke=\"black\" points=\"314,-188 212.79,-170 314,-152 415.21,-170 314,-188\"/>\n",
       "<text text-anchor=\"middle\" x=\"314\" y=\"-166.3\" font-family=\"Times,serif\" font-size=\"14.00\">12: while: n != 0</text>\n",
       "</g>\n",
       "<!-- 9&#45;&gt;10 -->\n",
       "<g id=\"edge12\" class=\"edge\">\n",
       "<title>9&#45;&gt;10</title>\n",
       "<path fill=\"none\" stroke=\"green\" d=\"M295.93,-223.7C298.72,-215.58 302.09,-205.74 305.17,-196.76\"/>\n",
       "<polygon fill=\"green\" stroke=\"green\" points=\"308.53,-197.74 308.46,-187.14 301.91,-195.47 308.53,-197.74\"/>\n",
       "</g>\n",
       "<!-- 10&#45;&gt;13 -->\n",
       "<g id=\"edge16\" class=\"edge\">\n",
       "<title>10&#45;&gt;13</title>\n",
       "<path fill=\"none\" stroke=\"green\" d=\"M297.61,-154.83C286.99,-145.66 272.9,-133.48 260.58,-122.84\"/>\n",
       "<polygon fill=\"green\" stroke=\"green\" points=\"262.66,-120 252.8,-116.11 258.08,-125.3 262.66,-120\"/>\n",
       "</g>\n",
       "<!-- 11 -->\n",
       "<g id=\"node13\" class=\"node\">\n",
       "<title>11</title>\n",
       "<polygon fill=\"none\" stroke=\"black\" points=\"380,-116 292,-116 292,-80 380,-80 380,-116\"/>\n",
       "<text text-anchor=\"middle\" x=\"336\" y=\"-94.3\" font-family=\"Times,serif\" font-size=\"14.00\">13: v = v * n</text>\n",
       "</g>\n",
       "<!-- 10&#45;&gt;11 -->\n",
       "<g id=\"edge14\" class=\"edge\">\n",
       "<title>10&#45;&gt;11</title>\n",
       "<path fill=\"none\" stroke=\"green\" d=\"M319.1,-152.76C321.61,-144.78 324.7,-134.95 327.55,-125.89\"/>\n",
       "<polygon fill=\"green\" stroke=\"green\" points=\"330.96,-126.71 330.62,-116.12 324.28,-124.61 330.96,-126.71\"/>\n",
       "</g>\n",
       "<!-- 12 -->\n",
       "<g id=\"node12\" class=\"node\">\n",
       "<title>12</title>\n",
       "<polygon fill=\"none\" stroke=\"black\" points=\"414.5,-40 329.5,-40 329.5,-4 414.5,-4 414.5,-40\"/>\n",
       "<text text-anchor=\"middle\" x=\"372\" y=\"-18.3\" font-family=\"Times,serif\" font-size=\"14.00\">14: n = n &#45; 1</text>\n",
       "</g>\n",
       "<!-- 12&#45;&gt;10 -->\n",
       "<g id=\"edge13\" class=\"edge\">\n",
       "<title>12&#45;&gt;10</title>\n",
       "<path fill=\"none\" stroke=\"green\" d=\"M381.31,-40.08C390.53,-59.5 401.6,-91.66 389,-116 380.99,-131.48 366.14,-143.4 351.76,-151.98\"/>\n",
       "<polygon fill=\"green\" stroke=\"green\" points=\"349.97,-148.97 342.93,-156.9 353.37,-155.09 349.97,-148.97\"/>\n",
       "</g>\n",
       "<!-- 11&#45;&gt;12 -->\n",
       "<g id=\"edge15\" class=\"edge\">\n",
       "<title>11&#45;&gt;12</title>\n",
       "<path fill=\"none\" stroke=\"green\" d=\"M344.35,-79.84C348.76,-70.78 354.26,-59.47 359.19,-49.32\"/>\n",
       "<polygon fill=\"green\" stroke=\"green\" points=\"362.47,-50.59 363.7,-40.07 356.17,-47.53 362.47,-50.59\"/>\n",
       "</g>\n",
       "</g>\n",
       "</svg>\n"
      ],
      "text/plain": [
       "<graphviz.dot.Digraph at 0x116159250>"
      ]
     },
     "execution_count": 11,
     "metadata": {},
     "output_type": "execute_result"
    }
   ],
   "source": [
    "to_graph(gen_cfg(inspect.getsource(factorial)), arcs=cov.arcs())"
   ]
  },
  {
   "cell_type": "markdown",
   "metadata": {
    "slideshow": {
     "slide_type": "fragment"
    }
   },
   "source": [
    "We see that the path `[1, 2, 5, 8, 11, 12, 13, 14]` is covered (green) but sub-paths such as  `[2, 3]`,  `[5, 6]` and `[8, 9]` are unexplored (red). What we need is the ability to generate inputs such that the `True` branch is taken at `2`. How do we do that?"
   ]
  },
  {
   "cell_type": "markdown",
   "metadata": {
    "slideshow": {
     "slide_type": "slide"
    },
    "toc-hr-collapsed": false
   },
   "source": [
    "## Concolic Execution\n",
    "\n",
    "One way to cover additional branches is to look at the execution path being taken, and collect the _conditional constraints_ that the path encounters. Then we can try to produce inputs that lead us to taking the non-traversed path."
   ]
  },
  {
   "cell_type": "markdown",
   "metadata": {
    "slideshow": {
     "slide_type": "fragment"
    }
   },
   "source": [
    "First, let us step through the function."
   ]
  },
  {
   "cell_type": "code",
   "execution_count": 12,
   "metadata": {
    "execution": {
     "iopub.execute_input": "2022-01-04T17:42:15.321073Z",
     "iopub.status.busy": "2022-01-04T17:42:15.320434Z",
     "iopub.status.idle": "2022-01-04T17:42:15.322751Z",
     "shell.execute_reply": "2022-01-04T17:42:15.323181Z"
    },
    "slideshow": {
     "slide_type": "fragment"
    }
   },
   "outputs": [],
   "source": [
    "lines = [i[1] for i in cov._trace if i[0] == 'factorial']\n",
    "src = {i + 1: s for i, s in enumerate(\n",
    "    inspect.getsource(factorial).split('\\n'))}"
   ]
  },
  {
   "cell_type": "markdown",
   "metadata": {
    "slideshow": {
     "slide_type": "fragment"
    }
   },
   "source": [
    "* The line (1) is simply the entry point of the function. We know that the input is `n`, which is an integer."
   ]
  },
  {
   "cell_type": "code",
   "execution_count": 13,
   "metadata": {
    "execution": {
     "iopub.execute_input": "2022-01-04T17:42:15.327463Z",
     "iopub.status.busy": "2022-01-04T17:42:15.326809Z",
     "iopub.status.idle": "2022-01-04T17:42:15.329328Z",
     "shell.execute_reply": "2022-01-04T17:42:15.329737Z"
    },
    "slideshow": {
     "slide_type": "fragment"
    }
   },
   "outputs": [
    {
     "data": {
      "text/plain": [
       "'def factorial(n):'"
      ]
     },
     "execution_count": 13,
     "metadata": {},
     "output_type": "execute_result"
    }
   ],
   "source": [
    "src[1]"
   ]
  },
  {
   "cell_type": "markdown",
   "metadata": {
    "slideshow": {
     "slide_type": "subslide"
    }
   },
   "source": [
    "* The line (2) is a predicate `n < 0`. Since the next line taken is line (5), we know that at this point in the execution path, the predicate was `false`."
   ]
  },
  {
   "cell_type": "code",
   "execution_count": 14,
   "metadata": {
    "execution": {
     "iopub.execute_input": "2022-01-04T17:42:15.334087Z",
     "iopub.status.busy": "2022-01-04T17:42:15.333500Z",
     "iopub.status.idle": "2022-01-04T17:42:15.336082Z",
     "shell.execute_reply": "2022-01-04T17:42:15.336502Z"
    },
    "slideshow": {
     "slide_type": "fragment"
    }
   },
   "outputs": [
    {
     "data": {
      "text/plain": [
       "('    if n < 0:', '        return None', '', '    if n == 0:')"
      ]
     },
     "execution_count": 14,
     "metadata": {},
     "output_type": "execute_result"
    }
   ],
   "source": [
    "src[2], src[3], src[4], src[5]"
   ]
  },
  {
   "cell_type": "markdown",
   "metadata": {
    "slideshow": {
     "slide_type": "fragment"
    }
   },
   "source": [
    "We notice that this is one of the predicates where the `true` branch was not taken. How do we generate a value that takes the `true` branch here? One way is to use symbolic variables to represent the input, encode the constraint, and use an *SMT Solver* to solve the negation of the constraint."
   ]
  },
  {
   "cell_type": "markdown",
   "metadata": {
    "slideshow": {
     "slide_type": "subslide"
    }
   },
   "source": [
    "As we mentioned in the introduction to the chapter, a symbolic variable can be thought of as a sort of placeholder for the real variable, sort of like the `x` in solving for `x` in Algebra. These variables can be used to encode constraints placed on the variables in the program. We identify what constraints the variable is supposed to obey, and finally produce a value that obeys all constraints imposed."
   ]
  },
  {
   "cell_type": "markdown",
   "metadata": {
    "slideshow": {
     "slide_type": "slide"
    }
   },
   "source": [
    "## Solving Constraints"
   ]
  },
  {
   "cell_type": "markdown",
   "metadata": {
    "slideshow": {
     "slide_type": "fragment"
    }
   },
   "source": [
    "To solve these constraints, one can use a _Satisfiability Modulo Theories_ (SMT) solver. An SMT solver is built on top of a _SATISFIABILITY_ (SAT) solver. A SAT solver is being used to check whether boolean formulas in first order logic (e.g `(a | b ) & (~a | ~b)`) can be satisfied using any assignments for the variables (e.g `a = true, b = false`). An SMT solver extends these SAT solvers to specific background theories -- for example, _theory of integers_, or _theory of strings_. That is, given a string constraint expressed as a formula with string variables (e.g `h + t == 'hello,world'`), an SMT solver that understands _theory of strings_ can be used to check if that constraint can be satisfied, and if satisfiable, provide an instantiation of concrete values for the variables used in the formula (e.g `h = 'hello,', t = 'world'`)."
   ]
  },
  {
   "cell_type": "markdown",
   "metadata": {
    "slideshow": {
     "slide_type": "fragment"
    }
   },
   "source": [
    "We use the SMT solver Z3 in this chapter."
   ]
  },
  {
   "cell_type": "code",
   "execution_count": 15,
   "metadata": {
    "execution": {
     "iopub.execute_input": "2022-01-04T17:42:15.340863Z",
     "iopub.status.busy": "2022-01-04T17:42:15.340291Z",
     "iopub.status.idle": "2022-01-04T17:42:15.366360Z",
     "shell.execute_reply": "2022-01-04T17:42:15.366917Z"
    },
    "slideshow": {
     "slide_type": "skip"
    }
   },
   "outputs": [],
   "source": [
    "import z3  # type: ignore"
   ]
  },
  {
   "cell_type": "code",
   "execution_count": 16,
   "metadata": {
    "execution": {
     "iopub.execute_input": "2022-01-04T17:42:15.371227Z",
     "iopub.status.busy": "2022-01-04T17:42:15.370652Z",
     "iopub.status.idle": "2022-01-04T17:42:15.372543Z",
     "shell.execute_reply": "2022-01-04T17:42:15.373020Z"
    },
    "slideshow": {
     "slide_type": "subslide"
    }
   },
   "outputs": [],
   "source": [
    "assert z3.get_version() >= (4, 8, 6, 0), \"Please check z3 version\"\n",
    "assert z3.get_version() <= (4, 8, 9, 0), \"Please check z3 version\""
   ]
  },
  {
   "cell_type": "markdown",
   "metadata": {
    "slideshow": {
     "slide_type": "fragment"
    }
   },
   "source": [
    "Let us set up Z3 first. To ensure that the string constraints we use in this chapter are successfully evaluated, we need to specify the `z3str3` solver. Further, we set the timeout for Z3 computations to 30 seconds."
   ]
  },
  {
   "cell_type": "code",
   "execution_count": 17,
   "metadata": {
    "execution": {
     "iopub.execute_input": "2022-01-04T17:42:15.377009Z",
     "iopub.status.busy": "2022-01-04T17:42:15.376215Z",
     "iopub.status.idle": "2022-01-04T17:42:15.378921Z",
     "shell.execute_reply": "2022-01-04T17:42:15.378493Z"
    },
    "slideshow": {
     "slide_type": "fragment"
    }
   },
   "outputs": [],
   "source": [
    "z3.set_option('smt.string_solver', 'z3str3')\n",
    "z3.set_option('timeout', 30 * 1000)  # milliseconds"
   ]
  },
  {
   "cell_type": "markdown",
   "metadata": {
    "slideshow": {
     "slide_type": "fragment"
    }
   },
   "source": [
    "To encode constraints, we need symbolic variables. Here, we make `zn` a placeholder for the Z3 symbolic integer variable `n`."
   ]
  },
  {
   "cell_type": "code",
   "execution_count": 18,
   "metadata": {
    "execution": {
     "iopub.execute_input": "2022-01-04T17:42:15.382599Z",
     "iopub.status.busy": "2022-01-04T17:42:15.381947Z",
     "iopub.status.idle": "2022-01-04T17:42:15.384606Z",
     "shell.execute_reply": "2022-01-04T17:42:15.385018Z"
    },
    "slideshow": {
     "slide_type": "fragment"
    }
   },
   "outputs": [],
   "source": [
    "zn = z3.Int('n')"
   ]
  },
  {
   "cell_type": "markdown",
   "metadata": {
    "slideshow": {
     "slide_type": "fragment"
    }
   },
   "source": [
    "Remember the constraint `(n < 0)` from line 2 in `factorial()`? We can now encode the constraint as follows. "
   ]
  },
  {
   "cell_type": "code",
   "execution_count": 19,
   "metadata": {
    "execution": {
     "iopub.execute_input": "2022-01-04T17:42:15.388681Z",
     "iopub.status.busy": "2022-01-04T17:42:15.388092Z",
     "iopub.status.idle": "2022-01-04T17:42:15.392355Z",
     "shell.execute_reply": "2022-01-04T17:42:15.392768Z"
    },
    "slideshow": {
     "slide_type": "fragment"
    }
   },
   "outputs": [
    {
     "data": {
      "text/html": [
       "n &lt; 0"
      ],
      "text/plain": [
       "n < 0"
      ]
     },
     "execution_count": 19,
     "metadata": {},
     "output_type": "execute_result"
    }
   ],
   "source": [
    "zn < 0"
   ]
  },
  {
   "cell_type": "markdown",
   "metadata": {
    "slideshow": {
     "slide_type": "subslide"
    }
   },
   "source": [
    "We previously traced `factorial(5)`. We saw that with input `5`, the execution took the `else` branch on the predicate `n < 0`. We can express this observation as follows."
   ]
  },
  {
   "cell_type": "code",
   "execution_count": 20,
   "metadata": {
    "execution": {
     "iopub.execute_input": "2022-01-04T17:42:15.396349Z",
     "iopub.status.busy": "2022-01-04T17:42:15.395767Z",
     "iopub.status.idle": "2022-01-04T17:42:15.399869Z",
     "shell.execute_reply": "2022-01-04T17:42:15.400355Z"
    },
    "slideshow": {
     "slide_type": "fragment"
    }
   },
   "outputs": [
    {
     "data": {
      "text/html": [
       "&not;(n &lt; 0)"
      ],
      "text/plain": [
       "Not(n < 0)"
      ]
     },
     "execution_count": 20,
     "metadata": {},
     "output_type": "execute_result"
    }
   ],
   "source": [
    "z3.Not(zn < 0)"
   ]
  },
  {
   "cell_type": "markdown",
   "metadata": {
    "slideshow": {
     "slide_type": "fragment"
    }
   },
   "source": [
    "Let us now solve constraints. The `z3.solve()` method checks if the constraints are satisfiable; if they are, it also provides values for variables such that the constraints are satisfied. For example, we can ask Z3 for an input that will take the `else` branch as follows:"
   ]
  },
  {
   "cell_type": "code",
   "execution_count": 21,
   "metadata": {
    "execution": {
     "iopub.execute_input": "2022-01-04T17:42:15.404012Z",
     "iopub.status.busy": "2022-01-04T17:42:15.403378Z",
     "iopub.status.idle": "2022-01-04T17:42:15.426792Z",
     "shell.execute_reply": "2022-01-04T17:42:15.427381Z"
    },
    "slideshow": {
     "slide_type": "fragment"
    }
   },
   "outputs": [
    {
     "name": "stdout",
     "output_type": "stream",
     "text": [
      "[n = 0]\n"
     ]
    }
   ],
   "source": [
    "z3.solve(z3.Not(zn < 0))"
   ]
  },
  {
   "cell_type": "markdown",
   "metadata": {
    "slideshow": {
     "slide_type": "fragment"
    }
   },
   "source": [
    "This is *a solution* (albeit a trivial one). SMT solvers can be used to solve much harder problems. For example, here is how one can solve a quadratic equation."
   ]
  },
  {
   "cell_type": "code",
   "execution_count": 22,
   "metadata": {
    "execution": {
     "iopub.execute_input": "2022-01-04T17:42:15.433727Z",
     "iopub.status.busy": "2022-01-04T17:42:15.432774Z",
     "iopub.status.idle": "2022-01-04T17:42:15.467527Z",
     "shell.execute_reply": "2022-01-04T17:42:15.468800Z"
    },
    "slideshow": {
     "slide_type": "subslide"
    }
   },
   "outputs": [
    {
     "name": "stdout",
     "output_type": "stream",
     "text": [
      "[x = 5]\n"
     ]
    }
   ],
   "source": [
    "x = z3.Real('x')\n",
    "eqn = (2 * x**2 - 11 * x + 5 == 0)\n",
    "z3.solve(eqn)"
   ]
  },
  {
   "cell_type": "markdown",
   "metadata": {
    "slideshow": {
     "slide_type": "fragment"
    }
   },
   "source": [
    "Again, this is _one solution_. We can ask z3 to give us another solution as follows."
   ]
  },
  {
   "cell_type": "code",
   "execution_count": 23,
   "metadata": {
    "execution": {
     "iopub.execute_input": "2022-01-04T17:42:15.477425Z",
     "iopub.status.busy": "2022-01-04T17:42:15.475866Z",
     "iopub.status.idle": "2022-01-04T17:42:15.501189Z",
     "shell.execute_reply": "2022-01-04T17:42:15.501707Z"
    },
    "slideshow": {
     "slide_type": "fragment"
    }
   },
   "outputs": [
    {
     "name": "stdout",
     "output_type": "stream",
     "text": [
      "[x = 1/2]\n"
     ]
    }
   ],
   "source": [
    "z3.solve(x != 5, eqn)"
   ]
  },
  {
   "cell_type": "markdown",
   "metadata": {
    "slideshow": {
     "slide_type": "fragment"
    }
   },
   "source": [
    "Indeed, both `x = 5` and `x = 1/2` are solutions to the quadratic equation $ 2x^2 -11x + 5 = 0 $"
   ]
  },
  {
   "cell_type": "markdown",
   "metadata": {
    "slideshow": {
     "slide_type": "fragment"
    }
   },
   "source": [
    "Similarly, we can ask *Z3* for an input that satisfies the constraint encoded in line 2 of `factorial()` so that we take the `if` branch."
   ]
  },
  {
   "cell_type": "code",
   "execution_count": 24,
   "metadata": {
    "execution": {
     "iopub.execute_input": "2022-01-04T17:42:15.505753Z",
     "iopub.status.busy": "2022-01-04T17:42:15.505036Z",
     "iopub.status.idle": "2022-01-04T17:42:15.524408Z",
     "shell.execute_reply": "2022-01-04T17:42:15.524822Z"
    },
    "slideshow": {
     "slide_type": "subslide"
    }
   },
   "outputs": [
    {
     "name": "stdout",
     "output_type": "stream",
     "text": [
      "[n = -1]\n"
     ]
    }
   ],
   "source": [
    "z3.solve(zn < 0)"
   ]
  },
  {
   "cell_type": "markdown",
   "metadata": {
    "slideshow": {
     "slide_type": "fragment"
    }
   },
   "source": [
    "That is, if one uses `-1` as an input to `factorial()`, it is guaranteed to take the `if` branch in line 2 during execution."
   ]
  },
  {
   "cell_type": "markdown",
   "metadata": {
    "slideshow": {
     "slide_type": "fragment"
    }
   },
   "source": [
    "Let us try using that with our coverage. Here, the `-1` is the solution from above."
   ]
  },
  {
   "cell_type": "code",
   "execution_count": 25,
   "metadata": {
    "execution": {
     "iopub.execute_input": "2022-01-04T17:42:15.532166Z",
     "iopub.status.busy": "2022-01-04T17:42:15.531575Z",
     "iopub.status.idle": "2022-01-04T17:42:15.587094Z",
     "shell.execute_reply": "2022-01-04T17:42:15.587620Z"
    },
    "slideshow": {
     "slide_type": "fragment"
    }
   },
   "outputs": [],
   "source": [
    "with cov as cov:\n",
    "    factorial(-1)"
   ]
  },
  {
   "cell_type": "code",
   "execution_count": 26,
   "metadata": {
    "execution": {
     "iopub.execute_input": "2022-01-04T17:42:15.598124Z",
     "iopub.status.busy": "2022-01-04T17:42:15.597138Z",
     "iopub.status.idle": "2022-01-04T17:42:16.151669Z",
     "shell.execute_reply": "2022-01-04T17:42:16.152263Z"
    },
    "slideshow": {
     "slide_type": "fragment"
    }
   },
   "outputs": [
    {
     "data": {
      "image/svg+xml": [
       "<?xml version=\"1.0\" encoding=\"UTF-8\" standalone=\"no\"?>\n",
       "<!DOCTYPE svg PUBLIC \"-//W3C//DTD SVG 1.1//EN\"\n",
       " \"http://www.w3.org/Graphics/SVG/1.1/DTD/svg11.dtd\">\n",
       "<!-- Generated by graphviz version 2.49.3 (20211023.0002)\n",
       " -->\n",
       "<!-- Pages: 1 -->\n",
       "<svg width=\"423pt\" height=\"564pt\"\n",
       " viewBox=\"0.00 0.00 423.11 564.00\" xmlns=\"http://www.w3.org/2000/svg\" xmlns:xlink=\"http://www.w3.org/1999/xlink\">\n",
       "<g id=\"graph0\" class=\"graph\" transform=\"scale(1 1) rotate(0) translate(4 560)\">\n",
       "<polygon fill=\"white\" stroke=\"transparent\" points=\"-4,4 -4,-560 419.11,-560 419.11,4 -4,4\"/>\n",
       "<!-- 1 -->\n",
       "<g id=\"node1\" class=\"node\">\n",
       "<title>1</title>\n",
       "<ellipse fill=\"none\" stroke=\"black\" cx=\"101\" cy=\"-534\" rx=\"83.69\" ry=\"18\"/>\n",
       "<ellipse fill=\"none\" stroke=\"black\" cx=\"101\" cy=\"-534\" rx=\"87.69\" ry=\"22\"/>\n",
       "<text text-anchor=\"middle\" x=\"101\" y=\"-530.3\" font-family=\"Times,serif\" font-size=\"14.00\">1: enter: factorial(n)</text>\n",
       "</g>\n",
       "<!-- 3 -->\n",
       "<g id=\"node7\" class=\"node\">\n",
       "<title>3</title>\n",
       "<polygon fill=\"none\" stroke=\"black\" points=\"101,-476 31.29,-458 101,-440 170.71,-458 101,-476\"/>\n",
       "<text text-anchor=\"middle\" x=\"101\" y=\"-454.3\" font-family=\"Times,serif\" font-size=\"14.00\">2: if: n &lt; 0</text>\n",
       "</g>\n",
       "<!-- 1&#45;&gt;3 -->\n",
       "<g id=\"edge5\" class=\"edge\">\n",
       "<title>1&#45;&gt;3</title>\n",
       "<path fill=\"none\" stroke=\"green\" d=\"M101,-511.99C101,-504.06 101,-494.91 101,-486.48\"/>\n",
       "<polygon fill=\"green\" stroke=\"green\" points=\"104.5,-486.31 101,-476.31 97.5,-486.31 104.5,-486.31\"/>\n",
       "</g>\n",
       "<!-- 2 -->\n",
       "<g id=\"node2\" class=\"node\">\n",
       "<title>2</title>\n",
       "<ellipse fill=\"none\" stroke=\"black\" cx=\"145\" cy=\"-22\" rx=\"79.1\" ry=\"18\"/>\n",
       "<ellipse fill=\"none\" stroke=\"black\" cx=\"145\" cy=\"-22\" rx=\"83.09\" ry=\"22\"/>\n",
       "<text text-anchor=\"middle\" x=\"145\" y=\"-18.3\" font-family=\"Times,serif\" font-size=\"14.00\">1: exit: factorial(n)</text>\n",
       "</g>\n",
       "<!-- 4 -->\n",
       "<g id=\"node3\" class=\"node\">\n",
       "<title>4</title>\n",
       "<polygon fill=\"none\" stroke=\"black\" points=\"98,-188 0,-188 0,-152 98,-152 98,-188\"/>\n",
       "<text text-anchor=\"middle\" x=\"49\" y=\"-166.3\" font-family=\"Times,serif\" font-size=\"14.00\">3: return None</text>\n",
       "</g>\n",
       "<!-- 4&#45;&gt;2 -->\n",
       "<g id=\"edge1\" class=\"edge\">\n",
       "<title>4&#45;&gt;2</title>\n",
       "<path fill=\"none\" stroke=\"green\" d=\"M60.2,-151.97C76.23,-127.59 105.93,-82.42 125.58,-52.53\"/>\n",
       "<polygon fill=\"green\" stroke=\"green\" points=\"128.51,-54.44 131.08,-44.16 122.67,-50.6 128.51,-54.44\"/>\n",
       "</g>\n",
       "<!-- 6 -->\n",
       "<g id=\"node4\" class=\"node\">\n",
       "<title>6</title>\n",
       "<polygon fill=\"none\" stroke=\"black\" points=\"163.5,-332 88.5,-332 88.5,-296 163.5,-296 163.5,-332\"/>\n",
       "<text text-anchor=\"middle\" x=\"126\" y=\"-310.3\" font-family=\"Times,serif\" font-size=\"14.00\">6: return 1</text>\n",
       "</g>\n",
       "<!-- 6&#45;&gt;2 -->\n",
       "<g id=\"edge2\" class=\"edge\">\n",
       "<title>6&#45;&gt;2</title>\n",
       "<path fill=\"none\" stroke=\"red\" d=\"M127.13,-295.73C130.24,-248.22 138.97,-115.09 142.96,-54.16\"/>\n",
       "<polygon fill=\"red\" stroke=\"red\" points=\"146.46,-54.21 143.62,-44 139.48,-53.75 146.46,-54.21\"/>\n",
       "</g>\n",
       "<!-- 8 -->\n",
       "<g id=\"node5\" class=\"node\">\n",
       "<title>8</title>\n",
       "<polygon fill=\"none\" stroke=\"black\" points=\"235.5,-260 160.5,-260 160.5,-224 235.5,-224 235.5,-260\"/>\n",
       "<text text-anchor=\"middle\" x=\"198\" y=\"-238.3\" font-family=\"Times,serif\" font-size=\"14.00\">9: return 1</text>\n",
       "</g>\n",
       "<!-- 8&#45;&gt;2 -->\n",
       "<g id=\"edge3\" class=\"edge\">\n",
       "<title>8&#45;&gt;2</title>\n",
       "<path fill=\"none\" stroke=\"red\" d=\"M193.84,-223.89C184.93,-187.22 163.86,-100.59 152.53,-53.97\"/>\n",
       "<polygon fill=\"red\" stroke=\"red\" points=\"155.9,-53.01 150.13,-44.12 149.1,-54.66 155.9,-53.01\"/>\n",
       "</g>\n",
       "<!-- 13 -->\n",
       "<g id=\"node6\" class=\"node\">\n",
       "<title>13</title>\n",
       "<polygon fill=\"none\" stroke=\"black\" points=\"274,-116 192,-116 192,-80 274,-80 274,-116\"/>\n",
       "<text text-anchor=\"middle\" x=\"233\" y=\"-94.3\" font-family=\"Times,serif\" font-size=\"14.00\">16: return v</text>\n",
       "</g>\n",
       "<!-- 13&#45;&gt;2 -->\n",
       "<g id=\"edge4\" class=\"edge\">\n",
       "<title>13&#45;&gt;2</title>\n",
       "<path fill=\"none\" stroke=\"green\" d=\"M212.59,-79.84C202.03,-70.96 188.89,-59.91 177.02,-49.93\"/>\n",
       "<polygon fill=\"green\" stroke=\"green\" points=\"178.95,-46.98 169.05,-43.22 174.45,-52.34 178.95,-46.98\"/>\n",
       "</g>\n",
       "<!-- 3&#45;&gt;4 -->\n",
       "<g id=\"edge6\" class=\"edge\">\n",
       "<title>3&#45;&gt;4</title>\n",
       "<path fill=\"none\" stroke=\"green\" d=\"M89.42,-442.65C81.92,-432.49 72.69,-418.2 68,-404 44.41,-332.62 45.01,-242.55 47.15,-198.21\"/>\n",
       "<polygon fill=\"green\" stroke=\"green\" points=\"50.64,-198.39 47.69,-188.21 43.65,-198 50.64,-198.39\"/>\n",
       "</g>\n",
       "<!-- 5 -->\n",
       "<g id=\"node8\" class=\"node\">\n",
       "<title>5</title>\n",
       "<polygon fill=\"none\" stroke=\"black\" points=\"154,-404 76.58,-386 154,-368 231.42,-386 154,-404\"/>\n",
       "<text text-anchor=\"middle\" x=\"154\" y=\"-382.3\" font-family=\"Times,serif\" font-size=\"14.00\">5: if: n == 0</text>\n",
       "</g>\n",
       "<!-- 3&#45;&gt;5 -->\n",
       "<g id=\"edge7\" class=\"edge\">\n",
       "<title>3&#45;&gt;5</title>\n",
       "<path fill=\"none\" stroke=\"green\" d=\"M111.98,-442.5C119.16,-433.02 128.68,-420.44 136.85,-409.66\"/>\n",
       "<polygon fill=\"green\" stroke=\"green\" points=\"139.79,-411.57 143.03,-401.49 134.21,-407.35 139.79,-411.57\"/>\n",
       "</g>\n",
       "<!-- 5&#45;&gt;6 -->\n",
       "<g id=\"edge8\" class=\"edge\">\n",
       "<title>5&#45;&gt;6</title>\n",
       "<path fill=\"none\" stroke=\"red\" d=\"M147.65,-369.12C144.42,-361.06 140.42,-351.05 136.74,-341.84\"/>\n",
       "<polygon fill=\"red\" stroke=\"red\" points=\"139.88,-340.28 132.92,-332.29 133.38,-342.88 139.88,-340.28\"/>\n",
       "</g>\n",
       "<!-- 7 -->\n",
       "<g id=\"node9\" class=\"node\">\n",
       "<title>7</title>\n",
       "<polygon fill=\"none\" stroke=\"black\" points=\"259,-332 181.58,-314 259,-296 336.42,-314 259,-332\"/>\n",
       "<text text-anchor=\"middle\" x=\"259\" y=\"-310.3\" font-family=\"Times,serif\" font-size=\"14.00\">8: if: n == 1</text>\n",
       "</g>\n",
       "<!-- 5&#45;&gt;7 -->\n",
       "<g id=\"edge9\" class=\"edge\">\n",
       "<title>5&#45;&gt;7</title>\n",
       "<path fill=\"none\" stroke=\"green\" d=\"M173.26,-372.16C189.54,-361.31 213.07,-345.62 231.36,-333.43\"/>\n",
       "<polygon fill=\"green\" stroke=\"green\" points=\"233.48,-336.22 239.86,-327.76 229.6,-330.39 233.48,-336.22\"/>\n",
       "</g>\n",
       "<!-- 7&#45;&gt;8 -->\n",
       "<g id=\"edge10\" class=\"edge\">\n",
       "<title>7&#45;&gt;8</title>\n",
       "<path fill=\"none\" stroke=\"red\" d=\"M246.66,-298.83C238.89,-289.92 228.65,-278.17 219.57,-267.75\"/>\n",
       "<polygon fill=\"red\" stroke=\"red\" points=\"222.12,-265.35 212.91,-260.11 216.84,-269.95 222.12,-265.35\"/>\n",
       "</g>\n",
       "<!-- 9 -->\n",
       "<g id=\"node10\" class=\"node\">\n",
       "<title>9</title>\n",
       "<polygon fill=\"none\" stroke=\"black\" points=\"323,-260 257,-260 257,-224 323,-224 323,-260\"/>\n",
       "<text text-anchor=\"middle\" x=\"290\" y=\"-238.3\" font-family=\"Times,serif\" font-size=\"14.00\">11: v = 1</text>\n",
       "</g>\n",
       "<!-- 7&#45;&gt;9 -->\n",
       "<g id=\"edge11\" class=\"edge\">\n",
       "<title>7&#45;&gt;9</title>\n",
       "<path fill=\"none\" stroke=\"green\" d=\"M265.88,-297.46C269.48,-289.33 273.99,-279.15 278.14,-269.79\"/>\n",
       "<polygon fill=\"green\" stroke=\"green\" points=\"281.42,-271.02 282.27,-260.46 275.02,-268.19 281.42,-271.02\"/>\n",
       "</g>\n",
       "<!-- 10 -->\n",
       "<g id=\"node11\" class=\"node\">\n",
       "<title>10</title>\n",
       "<polygon fill=\"none\" stroke=\"black\" points=\"314,-188 212.79,-170 314,-152 415.21,-170 314,-188\"/>\n",
       "<text text-anchor=\"middle\" x=\"314\" y=\"-166.3\" font-family=\"Times,serif\" font-size=\"14.00\">12: while: n != 0</text>\n",
       "</g>\n",
       "<!-- 9&#45;&gt;10 -->\n",
       "<g id=\"edge12\" class=\"edge\">\n",
       "<title>9&#45;&gt;10</title>\n",
       "<path fill=\"none\" stroke=\"green\" d=\"M295.93,-223.7C298.72,-215.58 302.09,-205.74 305.17,-196.76\"/>\n",
       "<polygon fill=\"green\" stroke=\"green\" points=\"308.53,-197.74 308.46,-187.14 301.91,-195.47 308.53,-197.74\"/>\n",
       "</g>\n",
       "<!-- 10&#45;&gt;13 -->\n",
       "<g id=\"edge16\" class=\"edge\">\n",
       "<title>10&#45;&gt;13</title>\n",
       "<path fill=\"none\" stroke=\"green\" d=\"M297.61,-154.83C286.99,-145.66 272.9,-133.48 260.58,-122.84\"/>\n",
       "<polygon fill=\"green\" stroke=\"green\" points=\"262.66,-120 252.8,-116.11 258.08,-125.3 262.66,-120\"/>\n",
       "</g>\n",
       "<!-- 11 -->\n",
       "<g id=\"node13\" class=\"node\">\n",
       "<title>11</title>\n",
       "<polygon fill=\"none\" stroke=\"black\" points=\"380,-116 292,-116 292,-80 380,-80 380,-116\"/>\n",
       "<text text-anchor=\"middle\" x=\"336\" y=\"-94.3\" font-family=\"Times,serif\" font-size=\"14.00\">13: v = v * n</text>\n",
       "</g>\n",
       "<!-- 10&#45;&gt;11 -->\n",
       "<g id=\"edge14\" class=\"edge\">\n",
       "<title>10&#45;&gt;11</title>\n",
       "<path fill=\"none\" stroke=\"green\" d=\"M319.1,-152.76C321.61,-144.78 324.7,-134.95 327.55,-125.89\"/>\n",
       "<polygon fill=\"green\" stroke=\"green\" points=\"330.96,-126.71 330.62,-116.12 324.28,-124.61 330.96,-126.71\"/>\n",
       "</g>\n",
       "<!-- 12 -->\n",
       "<g id=\"node12\" class=\"node\">\n",
       "<title>12</title>\n",
       "<polygon fill=\"none\" stroke=\"black\" points=\"414.5,-40 329.5,-40 329.5,-4 414.5,-4 414.5,-40\"/>\n",
       "<text text-anchor=\"middle\" x=\"372\" y=\"-18.3\" font-family=\"Times,serif\" font-size=\"14.00\">14: n = n &#45; 1</text>\n",
       "</g>\n",
       "<!-- 12&#45;&gt;10 -->\n",
       "<g id=\"edge13\" class=\"edge\">\n",
       "<title>12&#45;&gt;10</title>\n",
       "<path fill=\"none\" stroke=\"green\" d=\"M381.31,-40.08C390.53,-59.5 401.6,-91.66 389,-116 380.99,-131.48 366.14,-143.4 351.76,-151.98\"/>\n",
       "<polygon fill=\"green\" stroke=\"green\" points=\"349.97,-148.97 342.93,-156.9 353.37,-155.09 349.97,-148.97\"/>\n",
       "</g>\n",
       "<!-- 11&#45;&gt;12 -->\n",
       "<g id=\"edge15\" class=\"edge\">\n",
       "<title>11&#45;&gt;12</title>\n",
       "<path fill=\"none\" stroke=\"green\" d=\"M344.35,-79.84C348.76,-70.78 354.26,-59.47 359.19,-49.32\"/>\n",
       "<polygon fill=\"green\" stroke=\"green\" points=\"362.47,-50.59 363.7,-40.07 356.17,-47.53 362.47,-50.59\"/>\n",
       "</g>\n",
       "</g>\n",
       "</svg>\n"
      ],
      "text/plain": [
       "<graphviz.dot.Digraph at 0x112863610>"
      ]
     },
     "execution_count": 26,
     "metadata": {},
     "output_type": "execute_result"
    }
   ],
   "source": [
    "to_graph(gen_cfg(inspect.getsource(factorial)), arcs=cov.arcs())"
   ]
  },
  {
   "cell_type": "markdown",
   "metadata": {
    "slideshow": {
     "slide_type": "subslide"
    }
   },
   "source": [
    "Ok, so we have managed to cover a little more of the graph. Let us continue with our original input of `factorial(5)`:\n",
    "* In line (5) we encounter a new predicate `n == 0`, for which we again took the false branch."
   ]
  },
  {
   "cell_type": "code",
   "execution_count": 27,
   "metadata": {
    "execution": {
     "iopub.execute_input": "2022-01-04T17:42:16.157359Z",
     "iopub.status.busy": "2022-01-04T17:42:16.156728Z",
     "iopub.status.idle": "2022-01-04T17:42:16.159202Z",
     "shell.execute_reply": "2022-01-04T17:42:16.159600Z"
    },
    "slideshow": {
     "slide_type": "fragment"
    }
   },
   "outputs": [
    {
     "data": {
      "text/plain": [
       "'    if n == 0:'"
      ]
     },
     "execution_count": 27,
     "metadata": {},
     "output_type": "execute_result"
    }
   ],
   "source": [
    "src[5]"
   ]
  },
  {
   "cell_type": "markdown",
   "metadata": {
    "slideshow": {
     "slide_type": "fragment"
    }
   },
   "source": [
    "The predicates required, to follow the path until this point are as follows."
   ]
  },
  {
   "cell_type": "code",
   "execution_count": 28,
   "metadata": {
    "execution": {
     "iopub.execute_input": "2022-01-04T17:42:16.164184Z",
     "iopub.status.busy": "2022-01-04T17:42:16.163552Z",
     "iopub.status.idle": "2022-01-04T17:42:16.166637Z",
     "shell.execute_reply": "2022-01-04T17:42:16.167213Z"
    },
    "slideshow": {
     "slide_type": "fragment"
    }
   },
   "outputs": [],
   "source": [
    "predicates = [z3.Not(zn < 0), z3.Not(zn == 0)]"
   ]
  },
  {
   "cell_type": "markdown",
   "metadata": {
    "slideshow": {
     "slide_type": "fragment"
    }
   },
   "source": [
    "* If we continue to line (8), we encounter another predicate, for which again, we took the `false` branch"
   ]
  },
  {
   "cell_type": "code",
   "execution_count": 29,
   "metadata": {
    "execution": {
     "iopub.execute_input": "2022-01-04T17:42:16.173197Z",
     "iopub.status.busy": "2022-01-04T17:42:16.172250Z",
     "iopub.status.idle": "2022-01-04T17:42:16.176814Z",
     "shell.execute_reply": "2022-01-04T17:42:16.177371Z"
    },
    "slideshow": {
     "slide_type": "fragment"
    }
   },
   "outputs": [
    {
     "data": {
      "text/plain": [
       "'    if n == 1:'"
      ]
     },
     "execution_count": 29,
     "metadata": {},
     "output_type": "execute_result"
    }
   ],
   "source": [
    "src[8]"
   ]
  },
  {
   "cell_type": "markdown",
   "metadata": {
    "slideshow": {
     "slide_type": "fragment"
    }
   },
   "source": [
    "The predicates encountered so far are as follows"
   ]
  },
  {
   "cell_type": "code",
   "execution_count": 30,
   "metadata": {
    "execution": {
     "iopub.execute_input": "2022-01-04T17:42:16.181936Z",
     "iopub.status.busy": "2022-01-04T17:42:16.181147Z",
     "iopub.status.idle": "2022-01-04T17:42:16.184557Z",
     "shell.execute_reply": "2022-01-04T17:42:16.185123Z"
    },
    "slideshow": {
     "slide_type": "subslide"
    }
   },
   "outputs": [],
   "source": [
    "predicates = [z3.Not(zn < 0), z3.Not(zn == 0), z3.Not(zn == 1)]"
   ]
  },
  {
   "cell_type": "markdown",
   "metadata": {
    "slideshow": {
     "slide_type": "fragment"
    }
   },
   "source": [
    "To take the branch at (6), we essentially have to obey the predicates until that point, but invert the last predicate."
   ]
  },
  {
   "cell_type": "code",
   "execution_count": 31,
   "metadata": {
    "execution": {
     "iopub.execute_input": "2022-01-04T17:42:16.190534Z",
     "iopub.status.busy": "2022-01-04T17:42:16.189804Z",
     "iopub.status.idle": "2022-01-04T17:42:16.214596Z",
     "shell.execute_reply": "2022-01-04T17:42:16.215559Z"
    },
    "slideshow": {
     "slide_type": "fragment"
    }
   },
   "outputs": [
    {
     "name": "stdout",
     "output_type": "stream",
     "text": [
      "[n = 1]\n"
     ]
    }
   ],
   "source": [
    "last = len(predicates) - 1\n",
    "z3.solve(predicates[0:-1] + [z3.Not(predicates[-1])])"
   ]
  },
  {
   "cell_type": "markdown",
   "metadata": {
    "slideshow": {
     "slide_type": "subslide"
    }
   },
   "source": [
    "What we are doing here is tracing the execution corresponding to a particular input `factorial(5)`, using concrete values, and along with it, keeping *symbolic shadow variables* that enable us to capture the constraints. As we mentioned in the introduction, this particular method of execution where one tracks concrete  execution using symbolic variables is called *Concolic Execution*.\n",
    "\n",
    "How do we automate this process? One method is to use a similar infrastructure as that of the chapter on [information flow](InformationFlow.ipynb), and use the Python inheritance to create _symbolic proxy objects_ that can track the concrete execution."
   ]
  },
  {
   "cell_type": "markdown",
   "metadata": {
    "slideshow": {
     "slide_type": "slide"
    },
    "tags": [],
    "toc-nb-collapsed": true
   },
   "source": [
    "## A Concolic Tracer\n",
    "\n",
    "Let us now define a class to _collect_ symbolic variables and path conditions during an execution. The idea is to have a `ConcolicTracer` class that is invoked in a `with` block. To execute a function while tracing its path conditions, we need to _transform_ its arguments, which we do by invoking functions through a `[]` item access.\n",
    "\n",
    "This is a typical usage of a `ConcolicTracer`:\n",
    "\n",
    "```python\n",
    "with ConcolicTracer as _:\n",
    "    _.[function](args, ...)\n",
    "```\n",
    "\n",
    "After execution, we can access the symbolic variables in the `decls` attribute:\n",
    "\n",
    "```python\n",
    "_.decls\n",
    "```\n",
    "\n",
    "whereas the `path` attribute lists the precondition paths encountered:\n",
    "\n",
    "```python\n",
    "_.path\n",
    "```\n",
    "\n",
    "The `context` attribute contains a pair of declarations and paths:\n",
    "\n",
    "```python\n",
    "_.context\n",
    "```\n",
    "\n",
    "If you read this for the first time, skip the implementation and head right to the examples."
   ]
  },
  {
   "cell_type": "markdown",
   "metadata": {
    "slideshow": {
     "slide_type": "subslide"
    },
    "tags": []
   },
   "source": [
    "### Excursion: Implementing ConcolicTracer"
   ]
  },
  {
   "cell_type": "markdown",
   "metadata": {
    "slideshow": {
     "slide_type": "fragment"
    }
   },
   "source": [
    "Let us now implement `ConcolicTracer`\n",
    " constructor of a  accepts a single `context` argument which contains the declarations for the symbolic variables seen so far, and path conditions seen so far. We only need this in case of nested contexts."
   ]
  },
  {
   "cell_type": "code",
   "execution_count": 32,
   "metadata": {
    "execution": {
     "iopub.execute_input": "2022-01-04T17:42:16.224617Z",
     "iopub.status.busy": "2022-01-04T17:42:16.223863Z",
     "iopub.status.idle": "2022-01-04T17:42:16.225650Z",
     "shell.execute_reply": "2022-01-04T17:42:16.226053Z"
    },
    "slideshow": {
     "slide_type": "fragment"
    }
   },
   "outputs": [],
   "source": [
    "class ConcolicTracer:\n",
    "    \"\"\"Trace function execution, tracking variables and path conditions\"\"\"\n",
    "\n",
    "    def __init__(self, context=None):\n",
    "        \"\"\"Constructor.\"\"\"\n",
    "        self.context = context if context is not None else ({}, [])\n",
    "        self.decls, self.path = self.context"
   ]
  },
  {
   "cell_type": "markdown",
   "metadata": {
    "slideshow": {
     "slide_type": "fragment"
    }
   },
   "source": [
    "We add the enter and exit methods for the `with` block."
   ]
  },
  {
   "cell_type": "code",
   "execution_count": 33,
   "metadata": {
    "execution": {
     "iopub.execute_input": "2022-01-04T17:42:16.230349Z",
     "iopub.status.busy": "2022-01-04T17:42:16.229669Z",
     "iopub.status.idle": "2022-01-04T17:42:16.231767Z",
     "shell.execute_reply": "2022-01-04T17:42:16.232171Z"
    },
    "slideshow": {
     "slide_type": "subslide"
    }
   },
   "outputs": [],
   "source": [
    "class ConcolicTracer(ConcolicTracer):\n",
    "    def __enter__(self):\n",
    "        return self\n",
    "\n",
    "    def __exit__(self, exc_type, exc_value, tb):\n",
    "        return"
   ]
  },
  {
   "cell_type": "markdown",
   "metadata": {
    "slideshow": {
     "slide_type": "fragment"
    }
   },
   "source": [
    "We use introspection to determine the arguments to the function, which is hooked into the `getitem()` method."
   ]
  },
  {
   "cell_type": "code",
   "execution_count": 34,
   "metadata": {
    "execution": {
     "iopub.execute_input": "2022-01-04T17:42:16.239326Z",
     "iopub.status.busy": "2022-01-04T17:42:16.238494Z",
     "iopub.status.idle": "2022-01-04T17:42:16.240766Z",
     "shell.execute_reply": "2022-01-04T17:42:16.241357Z"
    },
    "slideshow": {
     "slide_type": "fragment"
    }
   },
   "outputs": [],
   "source": [
    "class ConcolicTracer(ConcolicTracer):\n",
    "    def __getitem__(self, fn):\n",
    "        self.fn = fn\n",
    "        self.fn_args = {i: None for i in inspect.signature(fn).parameters}\n",
    "        return self"
   ]
  },
  {
   "cell_type": "markdown",
   "metadata": {
    "slideshow": {
     "slide_type": "fragment"
    }
   },
   "source": [
    "Finally, the function itself is invoked using the `call` method."
   ]
  },
  {
   "cell_type": "code",
   "execution_count": 35,
   "metadata": {
    "execution": {
     "iopub.execute_input": "2022-01-04T17:42:16.245915Z",
     "iopub.status.busy": "2022-01-04T17:42:16.245349Z",
     "iopub.status.idle": "2022-01-04T17:42:16.247019Z",
     "shell.execute_reply": "2022-01-04T17:42:16.247476Z"
    },
    "slideshow": {
     "slide_type": "subslide"
    }
   },
   "outputs": [],
   "source": [
    "class ConcolicTracer(ConcolicTracer):\n",
    "    def __call__(self, *args):\n",
    "        self.result = self.fn(*self.concolic(args))\n",
    "        return self.result"
   ]
  },
  {
   "cell_type": "markdown",
   "metadata": {
    "slideshow": {
     "slide_type": "fragment"
    }
   },
   "source": [
    "For now, we define `concolic()` as a transparent function. It will be modified to produce symbolic variables later."
   ]
  },
  {
   "cell_type": "code",
   "execution_count": 36,
   "metadata": {
    "execution": {
     "iopub.execute_input": "2022-01-04T17:42:16.252496Z",
     "iopub.status.busy": "2022-01-04T17:42:16.251502Z",
     "iopub.status.idle": "2022-01-04T17:42:16.254058Z",
     "shell.execute_reply": "2022-01-04T17:42:16.253612Z"
    },
    "slideshow": {
     "slide_type": "fragment"
    }
   },
   "outputs": [],
   "source": [
    "class ConcolicTracer(ConcolicTracer):\n",
    "    def concolic(self, args):\n",
    "        return args"
   ]
  },
  {
   "cell_type": "markdown",
   "metadata": {
    "slideshow": {
     "slide_type": "fragment"
    }
   },
   "source": [
    "We now have things in place for _tracing_ functions:"
   ]
  },
  {
   "cell_type": "code",
   "execution_count": 37,
   "metadata": {
    "execution": {
     "iopub.execute_input": "2022-01-04T17:42:16.258199Z",
     "iopub.status.busy": "2022-01-04T17:42:16.257561Z",
     "iopub.status.idle": "2022-01-04T17:42:16.259188Z",
     "shell.execute_reply": "2022-01-04T17:42:16.259658Z"
    },
    "slideshow": {
     "slide_type": "fragment"
    }
   },
   "outputs": [],
   "source": [
    "with ConcolicTracer() as _:\n",
    "    _[factorial](1)"
   ]
  },
  {
   "cell_type": "markdown",
   "metadata": {
    "slideshow": {
     "slide_type": "fragment"
    }
   },
   "source": [
    "And for retrieving results (but not actually _computing_ them):"
   ]
  },
  {
   "cell_type": "code",
   "execution_count": 38,
   "metadata": {
    "execution": {
     "iopub.execute_input": "2022-01-04T17:42:16.264223Z",
     "iopub.status.busy": "2022-01-04T17:42:16.263458Z",
     "iopub.status.idle": "2022-01-04T17:42:16.266956Z",
     "shell.execute_reply": "2022-01-04T17:42:16.267498Z"
    },
    "slideshow": {
     "slide_type": "fragment"
    }
   },
   "outputs": [
    {
     "data": {
      "text/plain": [
       "{}"
      ]
     },
     "execution_count": 38,
     "metadata": {},
     "output_type": "execute_result"
    }
   ],
   "source": [
    "_.decls"
   ]
  },
  {
   "cell_type": "code",
   "execution_count": 39,
   "metadata": {
    "execution": {
     "iopub.execute_input": "2022-01-04T17:42:16.271764Z",
     "iopub.status.busy": "2022-01-04T17:42:16.271087Z",
     "iopub.status.idle": "2022-01-04T17:42:16.273758Z",
     "shell.execute_reply": "2022-01-04T17:42:16.274328Z"
    },
    "slideshow": {
     "slide_type": "subslide"
    }
   },
   "outputs": [
    {
     "data": {
      "text/plain": [
       "[]"
      ]
     },
     "execution_count": 39,
     "metadata": {},
     "output_type": "execute_result"
    }
   ],
   "source": [
    "_.path"
   ]
  },
  {
   "cell_type": "markdown",
   "metadata": {
    "slideshow": {
     "slide_type": "fragment"
    }
   },
   "source": [
    "Both `decls` and `path` attributes will be set by concolic proxy objects, which we define next."
   ]
  },
  {
   "cell_type": "markdown",
   "metadata": {
    "slideshow": {
     "slide_type": "subslide"
    },
    "tags": [],
    "toc-hr-collapsed": true
   },
   "source": [
    "#### Concolic Proxy Objects\n",
    "\n",
    "We now define the concolic proxy objects that can be used for concolic tracing. First, we define the `zproxy_create()` method that given a class name, correctly creates an instance of that class, and the symbolic corresponding variable, and registers the symbolic variable in the context information `context`."
   ]
  },
  {
   "cell_type": "code",
   "execution_count": 40,
   "metadata": {
    "execution": {
     "iopub.execute_input": "2022-01-04T17:42:16.279810Z",
     "iopub.status.busy": "2022-01-04T17:42:16.278965Z",
     "iopub.status.idle": "2022-01-04T17:42:16.280831Z",
     "shell.execute_reply": "2022-01-04T17:42:16.281387Z"
    },
    "slideshow": {
     "slide_type": "fragment"
    }
   },
   "outputs": [],
   "source": [
    "def zproxy_create(cls, z_type, z3var, context, z_name, v=None):\n",
    "    z_value = cls(context, z3var(z_name), v)\n",
    "    context[0][z_name] = z_type  # add to decls\n",
    "    return z_value"
   ]
  },
  {
   "cell_type": "markdown",
   "metadata": {
    "slideshow": {
     "slide_type": "subslide"
    },
    "toc-hr-collapsed": false
   },
   "source": [
    "#### A Proxy Class for Booleans\n",
    "\n",
    "First, we define the `zbool` class which is used to track the predicates encountered. It is a wrapper class that contains both symbolic (`z`) as well as concrete (`v`) values. The concrete value is used to determine which path to take, and the symbolic value is used to collect the predicates encountered.\n",
    "\n",
    "The initialization is done in two parts. The first one is using `zproxy_create()` to correctly initialize and register the shadow symbolic variable corresponding to the passed argument. This is used exclusively when the symbolic variable needs to be initialized first. In all other cases, the constructor is called with the preexisting symbolic value."
   ]
  },
  {
   "cell_type": "code",
   "execution_count": 41,
   "metadata": {
    "execution": {
     "iopub.execute_input": "2022-01-04T17:42:16.286457Z",
     "iopub.status.busy": "2022-01-04T17:42:16.285782Z",
     "iopub.status.idle": "2022-01-04T17:42:16.287648Z",
     "shell.execute_reply": "2022-01-04T17:42:16.288055Z"
    },
    "slideshow": {
     "slide_type": "subslide"
    }
   },
   "outputs": [],
   "source": [
    "class zbool:\n",
    "    @classmethod\n",
    "    def create(cls, context, z_name, v):\n",
    "        return zproxy_create(cls, 'Bool', z3.Bool, context, z_name, v)\n",
    "\n",
    "    def __init__(self, context, z, v=None):\n",
    "        self.context = context\n",
    "        self.z = z\n",
    "        self.v = v\n",
    "        self.decl, self.path = self.context"
   ]
  },
  {
   "cell_type": "markdown",
   "metadata": {
    "slideshow": {
     "slide_type": "fragment"
    }
   },
   "source": [
    "Here is how it is used. We create a symbolic variable `my_bool_arg` with a value of `True` in the current context of the concolic tracer:"
   ]
  },
  {
   "cell_type": "code",
   "execution_count": 42,
   "metadata": {
    "execution": {
     "iopub.execute_input": "2022-01-04T17:42:16.291952Z",
     "iopub.status.busy": "2022-01-04T17:42:16.291395Z",
     "iopub.status.idle": "2022-01-04T17:42:16.293719Z",
     "shell.execute_reply": "2022-01-04T17:42:16.293284Z"
    },
    "slideshow": {
     "slide_type": "fragment"
    }
   },
   "outputs": [],
   "source": [
    "with ConcolicTracer() as _:\n",
    "    val = zbool.create(_.context, 'my_bool_arg', True)"
   ]
  },
  {
   "cell_type": "markdown",
   "metadata": {
    "slideshow": {
     "slide_type": "fragment"
    }
   },
   "source": [
    "We can now access the symbolic name in the `z` attribute:"
   ]
  },
  {
   "cell_type": "code",
   "execution_count": 43,
   "metadata": {
    "execution": {
     "iopub.execute_input": "2022-01-04T17:42:16.297960Z",
     "iopub.status.busy": "2022-01-04T17:42:16.297358Z",
     "iopub.status.idle": "2022-01-04T17:42:16.300991Z",
     "shell.execute_reply": "2022-01-04T17:42:16.300598Z"
    },
    "slideshow": {
     "slide_type": "subslide"
    }
   },
   "outputs": [
    {
     "data": {
      "text/html": [
       "my_bool_arg"
      ],
      "text/plain": [
       "my_bool_arg"
      ]
     },
     "execution_count": 43,
     "metadata": {},
     "output_type": "execute_result"
    }
   ],
   "source": [
    "val.z"
   ]
  },
  {
   "cell_type": "markdown",
   "metadata": {
    "slideshow": {
     "slide_type": "fragment"
    }
   },
   "source": [
    "The value is in the `v` attribute:"
   ]
  },
  {
   "cell_type": "code",
   "execution_count": 44,
   "metadata": {
    "execution": {
     "iopub.execute_input": "2022-01-04T17:42:16.305233Z",
     "iopub.status.busy": "2022-01-04T17:42:16.304529Z",
     "iopub.status.idle": "2022-01-04T17:42:16.308506Z",
     "shell.execute_reply": "2022-01-04T17:42:16.307829Z"
    },
    "slideshow": {
     "slide_type": "fragment"
    }
   },
   "outputs": [
    {
     "data": {
      "text/plain": [
       "True"
      ]
     },
     "execution_count": 44,
     "metadata": {},
     "output_type": "execute_result"
    }
   ],
   "source": [
    "val.v"
   ]
  },
  {
   "cell_type": "markdown",
   "metadata": {
    "slideshow": {
     "slide_type": "fragment"
    }
   },
   "source": [
    "Note that the context of the enclosing `ConcolicTracer()` is automatically updated (via `zproxy_create()`) to hold the variable declarations and types:"
   ]
  },
  {
   "cell_type": "code",
   "execution_count": 45,
   "metadata": {
    "execution": {
     "iopub.execute_input": "2022-01-04T17:42:16.313655Z",
     "iopub.status.busy": "2022-01-04T17:42:16.312921Z",
     "iopub.status.idle": "2022-01-04T17:42:16.315731Z",
     "shell.execute_reply": "2022-01-04T17:42:16.316575Z"
    },
    "slideshow": {
     "slide_type": "fragment"
    }
   },
   "outputs": [
    {
     "data": {
      "text/plain": [
       "({'my_bool_arg': 'Bool'}, [])"
      ]
     },
     "execution_count": 45,
     "metadata": {},
     "output_type": "execute_result"
    }
   ],
   "source": [
    "_.context"
   ]
  },
  {
   "cell_type": "markdown",
   "metadata": {
    "slideshow": {
     "slide_type": "fragment"
    }
   },
   "source": [
    "The context can also be reached through the `context` attribute; both point to the same data structure."
   ]
  },
  {
   "cell_type": "code",
   "execution_count": 46,
   "metadata": {
    "execution": {
     "iopub.execute_input": "2022-01-04T17:42:16.321994Z",
     "iopub.status.busy": "2022-01-04T17:42:16.321070Z",
     "iopub.status.idle": "2022-01-04T17:42:16.324317Z",
     "shell.execute_reply": "2022-01-04T17:42:16.324759Z"
    },
    "slideshow": {
     "slide_type": "fragment"
    }
   },
   "outputs": [
    {
     "data": {
      "text/plain": [
       "({'my_bool_arg': 'Bool'}, [])"
      ]
     },
     "execution_count": 46,
     "metadata": {},
     "output_type": "execute_result"
    }
   ],
   "source": [
    "val.context"
   ]
  },
  {
   "cell_type": "markdown",
   "metadata": {
    "slideshow": {
     "slide_type": "subslide"
    }
   },
   "source": [
    "##### Negation of Encoded formula\n",
    "\n",
    "The `zbool` class allows negation of its concrete and symbolic values."
   ]
  },
  {
   "cell_type": "code",
   "execution_count": 47,
   "metadata": {
    "execution": {
     "iopub.execute_input": "2022-01-04T17:42:16.330158Z",
     "iopub.status.busy": "2022-01-04T17:42:16.329212Z",
     "iopub.status.idle": "2022-01-04T17:42:16.331542Z",
     "shell.execute_reply": "2022-01-04T17:42:16.332153Z"
    },
    "slideshow": {
     "slide_type": "fragment"
    }
   },
   "outputs": [],
   "source": [
    "class zbool(zbool):\n",
    "    def __not__(self):\n",
    "        return zbool(self.context, z3.Not(self.z), not self.v)"
   ]
  },
  {
   "cell_type": "markdown",
   "metadata": {
    "slideshow": {
     "slide_type": "fragment"
    }
   },
   "source": [
    "Here is how it can be used."
   ]
  },
  {
   "cell_type": "code",
   "execution_count": 48,
   "metadata": {
    "execution": {
     "iopub.execute_input": "2022-01-04T17:42:16.337310Z",
     "iopub.status.busy": "2022-01-04T17:42:16.336452Z",
     "iopub.status.idle": "2022-01-04T17:42:16.338551Z",
     "shell.execute_reply": "2022-01-04T17:42:16.338967Z"
    },
    "slideshow": {
     "slide_type": "fragment"
    }
   },
   "outputs": [],
   "source": [
    "with ConcolicTracer() as _:\n",
    "    val = zbool.create(_.context, 'my_bool_arg', True).__not__()"
   ]
  },
  {
   "cell_type": "code",
   "execution_count": 49,
   "metadata": {
    "execution": {
     "iopub.execute_input": "2022-01-04T17:42:16.344274Z",
     "iopub.status.busy": "2022-01-04T17:42:16.342886Z",
     "iopub.status.idle": "2022-01-04T17:42:16.346782Z",
     "shell.execute_reply": "2022-01-04T17:42:16.347538Z"
    },
    "slideshow": {
     "slide_type": "fragment"
    }
   },
   "outputs": [
    {
     "data": {
      "text/html": [
       "&not;my_bool_arg"
      ],
      "text/plain": [
       "Not(my_bool_arg)"
      ]
     },
     "execution_count": 49,
     "metadata": {},
     "output_type": "execute_result"
    }
   ],
   "source": [
    "val.z"
   ]
  },
  {
   "cell_type": "code",
   "execution_count": 50,
   "metadata": {
    "execution": {
     "iopub.execute_input": "2022-01-04T17:42:16.353061Z",
     "iopub.status.busy": "2022-01-04T17:42:16.352133Z",
     "iopub.status.idle": "2022-01-04T17:42:16.356137Z",
     "shell.execute_reply": "2022-01-04T17:42:16.356684Z"
    },
    "slideshow": {
     "slide_type": "fragment"
    }
   },
   "outputs": [
    {
     "data": {
      "text/plain": [
       "False"
      ]
     },
     "execution_count": 50,
     "metadata": {},
     "output_type": "execute_result"
    }
   ],
   "source": [
    "val.v"
   ]
  },
  {
   "cell_type": "code",
   "execution_count": 51,
   "metadata": {
    "execution": {
     "iopub.execute_input": "2022-01-04T17:42:16.361190Z",
     "iopub.status.busy": "2022-01-04T17:42:16.360549Z",
     "iopub.status.idle": "2022-01-04T17:42:16.363559Z",
     "shell.execute_reply": "2022-01-04T17:42:16.363173Z"
    },
    "slideshow": {
     "slide_type": "subslide"
    }
   },
   "outputs": [
    {
     "data": {
      "text/plain": [
       "({'my_bool_arg': 'Bool'}, [])"
      ]
     },
     "execution_count": 51,
     "metadata": {},
     "output_type": "execute_result"
    }
   ],
   "source": [
    "_.context"
   ]
  },
  {
   "cell_type": "markdown",
   "metadata": {
    "slideshow": {
     "slide_type": "subslide"
    }
   },
   "source": [
    "##### Registering Predicates on Conditionals\n",
    "\n",
    "The `zbool` class is being used to track Boolean conditions that arise during program execution. It tracks such conditions by registering the corresponding symbolic expressions in the context as soon as it is evaluated. On evaluation, the `__bool__()` method is called; so we can hook into this one:"
   ]
  },
  {
   "cell_type": "code",
   "execution_count": 52,
   "metadata": {
    "execution": {
     "iopub.execute_input": "2022-01-04T17:42:16.370073Z",
     "iopub.status.busy": "2022-01-04T17:42:16.369254Z",
     "iopub.status.idle": "2022-01-04T17:42:16.371096Z",
     "shell.execute_reply": "2022-01-04T17:42:16.371579Z"
    },
    "slideshow": {
     "slide_type": "fragment"
    }
   },
   "outputs": [],
   "source": [
    "class zbool(zbool):\n",
    "    def __bool__(self):\n",
    "        r, pred = (True, self.z) if self.v else (False, z3.Not(self.z))\n",
    "        self.path.append(pred)\n",
    "        return r"
   ]
  },
  {
   "cell_type": "markdown",
   "metadata": {
    "slideshow": {
     "slide_type": "fragment"
    }
   },
   "source": [
    "The `zbool` class can be used to keep track of Boolean values and conditions encountered during the execution. For example, we can encode the conditions encountered by Line 6 in `factorial()` as follows:"
   ]
  },
  {
   "cell_type": "markdown",
   "metadata": {
    "slideshow": {
     "slide_type": "subslide"
    }
   },
   "source": [
    "First, we define the concrete value (`ca`), and its shadow symbolic variable (`za`)."
   ]
  },
  {
   "cell_type": "code",
   "execution_count": 53,
   "metadata": {
    "execution": {
     "iopub.execute_input": "2022-01-04T17:42:16.376330Z",
     "iopub.status.busy": "2022-01-04T17:42:16.375341Z",
     "iopub.status.idle": "2022-01-04T17:42:16.377485Z",
     "shell.execute_reply": "2022-01-04T17:42:16.377897Z"
    },
    "slideshow": {
     "slide_type": "fragment"
    }
   },
   "outputs": [],
   "source": [
    "ca = 5\n",
    "za = z3.Int('a')"
   ]
  },
  {
   "cell_type": "markdown",
   "metadata": {
    "slideshow": {
     "slide_type": "fragment"
    }
   },
   "source": [
    "Then, we wrap it in `zbool`, and use it in a conditional, forcing the conditional to be registered in the context."
   ]
  },
  {
   "cell_type": "code",
   "execution_count": 54,
   "metadata": {
    "execution": {
     "iopub.execute_input": "2022-01-04T17:42:16.382205Z",
     "iopub.status.busy": "2022-01-04T17:42:16.381460Z",
     "iopub.status.idle": "2022-01-04T17:42:16.384658Z",
     "shell.execute_reply": "2022-01-04T17:42:16.385064Z"
    },
    "slideshow": {
     "slide_type": "fragment"
    }
   },
   "outputs": [
    {
     "name": "stdout",
     "output_type": "stream",
     "text": [
      "success\n"
     ]
    }
   ],
   "source": [
    "with ConcolicTracer() as _:\n",
    "    if zbool(_.context, za == z3.IntVal(5), ca == 5):\n",
    "        print('success')"
   ]
  },
  {
   "cell_type": "markdown",
   "metadata": {
    "slideshow": {
     "slide_type": "fragment"
    }
   },
   "source": [
    "We can retrieve the registered conditional as follows."
   ]
  },
  {
   "cell_type": "code",
   "execution_count": 55,
   "metadata": {
    "execution": {
     "iopub.execute_input": "2022-01-04T17:42:16.390145Z",
     "iopub.status.busy": "2022-01-04T17:42:16.389254Z",
     "iopub.status.idle": "2022-01-04T17:42:16.392512Z",
     "shell.execute_reply": "2022-01-04T17:42:16.392988Z"
    },
    "slideshow": {
     "slide_type": "fragment"
    }
   },
   "outputs": [
    {
     "data": {
      "text/plain": [
       "[5 == a]"
      ]
     },
     "execution_count": 55,
     "metadata": {},
     "output_type": "execute_result"
    }
   ],
   "source": [
    "_.path"
   ]
  },
  {
   "cell_type": "markdown",
   "metadata": {
    "slideshow": {
     "slide_type": "subslide"
    },
    "toc-hr-collapsed": false
   },
   "source": [
    "#### A Proxy Class for Integers"
   ]
  },
  {
   "cell_type": "markdown",
   "metadata": {
    "slideshow": {
     "slide_type": "fragment"
    }
   },
   "source": [
    "Next, we define a symbolic wrapper `zint` for `int`.\n",
    "This class keeps track of the `int` variables used and the predicates encountered in `context`. Finally, it also keeps the concrete value so that it can be used to determine the path to take. As the `zint` extends the primitive `int` class, we have to define a _new_ method to open it for extension."
   ]
  },
  {
   "cell_type": "code",
   "execution_count": 56,
   "metadata": {
    "execution": {
     "iopub.execute_input": "2022-01-04T17:42:16.397368Z",
     "iopub.status.busy": "2022-01-04T17:42:16.396644Z",
     "iopub.status.idle": "2022-01-04T17:42:16.399257Z",
     "shell.execute_reply": "2022-01-04T17:42:16.400184Z"
    },
    "slideshow": {
     "slide_type": "fragment"
    }
   },
   "outputs": [],
   "source": [
    "class zint(int):\n",
    "    def __new__(cls, context, zn, v, *args, **kw):\n",
    "        return int.__new__(cls, v, *args, **kw)"
   ]
  },
  {
   "cell_type": "markdown",
   "metadata": {
    "slideshow": {
     "slide_type": "fragment"
    }
   },
   "source": [
    "As in the case of `zbool`, the initialization takes place in two parts. The first using `create()` if a new symbolic argument is being registered, and then the usual initialization."
   ]
  },
  {
   "cell_type": "code",
   "execution_count": 57,
   "metadata": {
    "execution": {
     "iopub.execute_input": "2022-01-04T17:42:16.405618Z",
     "iopub.status.busy": "2022-01-04T17:42:16.404786Z",
     "iopub.status.idle": "2022-01-04T17:42:16.406884Z",
     "shell.execute_reply": "2022-01-04T17:42:16.407480Z"
    },
    "slideshow": {
     "slide_type": "subslide"
    }
   },
   "outputs": [],
   "source": [
    "class zint(zint):\n",
    "    @classmethod\n",
    "    def create(cls, context, zn, v=None):\n",
    "        return zproxy_create(cls, 'Int', z3.Int, context, zn, v)\n",
    "\n",
    "    def __init__(self, context, z, v=None):\n",
    "        self.z, self.v = z, v\n",
    "        self.context = context"
   ]
  },
  {
   "cell_type": "markdown",
   "metadata": {
    "slideshow": {
     "slide_type": "fragment"
    }
   },
   "source": [
    "The `int` value of a `zint` object is its concrete value."
   ]
  },
  {
   "cell_type": "code",
   "execution_count": 58,
   "metadata": {
    "execution": {
     "iopub.execute_input": "2022-01-04T17:42:16.412194Z",
     "iopub.status.busy": "2022-01-04T17:42:16.411599Z",
     "iopub.status.idle": "2022-01-04T17:42:16.413747Z",
     "shell.execute_reply": "2022-01-04T17:42:16.414386Z"
    },
    "slideshow": {
     "slide_type": "fragment"
    }
   },
   "outputs": [],
   "source": [
    "class zint(zint):\n",
    "    def __int__(self):\n",
    "        return self.v\n",
    "\n",
    "    def __pos__(self):\n",
    "        return self.v"
   ]
  },
  {
   "cell_type": "markdown",
   "metadata": {
    "slideshow": {
     "slide_type": "subslide"
    }
   },
   "source": [
    "Using these proxies is as follows."
   ]
  },
  {
   "cell_type": "code",
   "execution_count": 59,
   "metadata": {
    "execution": {
     "iopub.execute_input": "2022-01-04T17:42:16.419247Z",
     "iopub.status.busy": "2022-01-04T17:42:16.418372Z",
     "iopub.status.idle": "2022-01-04T17:42:16.421040Z",
     "shell.execute_reply": "2022-01-04T17:42:16.421722Z"
    },
    "slideshow": {
     "slide_type": "fragment"
    }
   },
   "outputs": [],
   "source": [
    "with ConcolicTracer() as _:\n",
    "    val = zint.create(_.context, 'int_arg', 0)"
   ]
  },
  {
   "cell_type": "code",
   "execution_count": 60,
   "metadata": {
    "execution": {
     "iopub.execute_input": "2022-01-04T17:42:16.427242Z",
     "iopub.status.busy": "2022-01-04T17:42:16.426331Z",
     "iopub.status.idle": "2022-01-04T17:42:16.430417Z",
     "shell.execute_reply": "2022-01-04T17:42:16.430967Z"
    },
    "slideshow": {
     "slide_type": "fragment"
    }
   },
   "outputs": [
    {
     "data": {
      "text/html": [
       "int_arg"
      ],
      "text/plain": [
       "int_arg"
      ]
     },
     "execution_count": 60,
     "metadata": {},
     "output_type": "execute_result"
    }
   ],
   "source": [
    "val.z"
   ]
  },
  {
   "cell_type": "code",
   "execution_count": 61,
   "metadata": {
    "execution": {
     "iopub.execute_input": "2022-01-04T17:42:16.435550Z",
     "iopub.status.busy": "2022-01-04T17:42:16.434641Z",
     "iopub.status.idle": "2022-01-04T17:42:16.438084Z",
     "shell.execute_reply": "2022-01-04T17:42:16.438490Z"
    },
    "slideshow": {
     "slide_type": "fragment"
    }
   },
   "outputs": [
    {
     "data": {
      "text/plain": [
       "0"
      ]
     },
     "execution_count": 61,
     "metadata": {},
     "output_type": "execute_result"
    }
   ],
   "source": [
    "val.v"
   ]
  },
  {
   "cell_type": "code",
   "execution_count": 62,
   "metadata": {
    "execution": {
     "iopub.execute_input": "2022-01-04T17:42:16.443160Z",
     "iopub.status.busy": "2022-01-04T17:42:16.442379Z",
     "iopub.status.idle": "2022-01-04T17:42:16.446263Z",
     "shell.execute_reply": "2022-01-04T17:42:16.446674Z"
    },
    "slideshow": {
     "slide_type": "fragment"
    }
   },
   "outputs": [
    {
     "data": {
      "text/plain": [
       "({'int_arg': 'Int'}, [])"
      ]
     },
     "execution_count": 62,
     "metadata": {},
     "output_type": "execute_result"
    }
   ],
   "source": [
    "_.context"
   ]
  },
  {
   "cell_type": "markdown",
   "metadata": {
    "slideshow": {
     "slide_type": "fragment"
    }
   },
   "source": [
    "The `zint` class is often used to do arithmetic with, or compare to other `int`s. These `int`s can be either a variable or a constant value. We define a helper method `_zv()` that checks what kind of `int` a given value is, and produces the correct symbolic equivalent."
   ]
  },
  {
   "cell_type": "code",
   "execution_count": 63,
   "metadata": {
    "execution": {
     "iopub.execute_input": "2022-01-04T17:42:16.452234Z",
     "iopub.status.busy": "2022-01-04T17:42:16.451327Z",
     "iopub.status.idle": "2022-01-04T17:42:16.453733Z",
     "shell.execute_reply": "2022-01-04T17:42:16.454213Z"
    },
    "slideshow": {
     "slide_type": "subslide"
    }
   },
   "outputs": [],
   "source": [
    "class zint(zint):\n",
    "    def _zv(self, o):\n",
    "        return (o.z, o.v) if isinstance(o, zint) else (z3.IntVal(o), o)"
   ]
  },
  {
   "cell_type": "markdown",
   "metadata": {
    "slideshow": {
     "slide_type": "fragment"
    }
   },
   "source": [
    "It can be used as follows"
   ]
  },
  {
   "cell_type": "code",
   "execution_count": 64,
   "metadata": {
    "execution": {
     "iopub.execute_input": "2022-01-04T17:42:16.459672Z",
     "iopub.status.busy": "2022-01-04T17:42:16.458783Z",
     "iopub.status.idle": "2022-01-04T17:42:16.461096Z",
     "shell.execute_reply": "2022-01-04T17:42:16.461927Z"
    },
    "slideshow": {
     "slide_type": "fragment"
    }
   },
   "outputs": [],
   "source": [
    "with ConcolicTracer() as _:\n",
    "    val = zint.create(_.context, 'int_arg', 0)"
   ]
  },
  {
   "cell_type": "code",
   "execution_count": 65,
   "metadata": {
    "execution": {
     "iopub.execute_input": "2022-01-04T17:42:16.467030Z",
     "iopub.status.busy": "2022-01-04T17:42:16.465944Z",
     "iopub.status.idle": "2022-01-04T17:42:16.469851Z",
     "shell.execute_reply": "2022-01-04T17:42:16.470570Z"
    },
    "slideshow": {
     "slide_type": "fragment"
    }
   },
   "outputs": [
    {
     "data": {
      "text/plain": [
       "(0, 0)"
      ]
     },
     "execution_count": 65,
     "metadata": {},
     "output_type": "execute_result"
    }
   ],
   "source": [
    "val._zv(0)"
   ]
  },
  {
   "cell_type": "code",
   "execution_count": 66,
   "metadata": {
    "execution": {
     "iopub.execute_input": "2022-01-04T17:42:16.475830Z",
     "iopub.status.busy": "2022-01-04T17:42:16.475257Z",
     "iopub.status.idle": "2022-01-04T17:42:16.478063Z",
     "shell.execute_reply": "2022-01-04T17:42:16.478758Z"
    },
    "slideshow": {
     "slide_type": "fragment"
    }
   },
   "outputs": [
    {
     "data": {
      "text/plain": [
       "(int_arg, 0)"
      ]
     },
     "execution_count": 66,
     "metadata": {},
     "output_type": "execute_result"
    }
   ],
   "source": [
    "val._zv(val)"
   ]
  },
  {
   "cell_type": "markdown",
   "metadata": {
    "slideshow": {
     "slide_type": "subslide"
    }
   },
   "source": [
    "##### Equality between Integers\n",
    "\n",
    "Two integers can be compared for equality using _ne_ and _eq_."
   ]
  },
  {
   "cell_type": "code",
   "execution_count": 67,
   "metadata": {
    "execution": {
     "iopub.execute_input": "2022-01-04T17:42:16.486959Z",
     "iopub.status.busy": "2022-01-04T17:42:16.485319Z",
     "iopub.status.idle": "2022-01-04T17:42:16.488283Z",
     "shell.execute_reply": "2022-01-04T17:42:16.489097Z"
    },
    "slideshow": {
     "slide_type": "fragment"
    }
   },
   "outputs": [],
   "source": [
    "class zint(zint):\n",
    "    def __ne__(self, other):\n",
    "        z, v = self._zv(other)\n",
    "        return zbool(self.context, self.z != z, self.v != v)\n",
    "\n",
    "    def __eq__(self, other):\n",
    "        z, v = self._zv(other)\n",
    "        return zbool(self.context, self.z == z, self.v == v)"
   ]
  },
  {
   "cell_type": "markdown",
   "metadata": {
    "slideshow": {
     "slide_type": "fragment"
    }
   },
   "source": [
    " We also define _req_ using _eq_ in case the int being compared is on the left hand side."
   ]
  },
  {
   "cell_type": "code",
   "execution_count": 68,
   "metadata": {
    "execution": {
     "iopub.execute_input": "2022-01-04T17:42:16.494201Z",
     "iopub.status.busy": "2022-01-04T17:42:16.493627Z",
     "iopub.status.idle": "2022-01-04T17:42:16.495461Z",
     "shell.execute_reply": "2022-01-04T17:42:16.495931Z"
    },
    "slideshow": {
     "slide_type": "subslide"
    }
   },
   "outputs": [],
   "source": [
    "class zint(zint):\n",
    "    def __req__(self, other):\n",
    "        return self.__eq__(other)"
   ]
  },
  {
   "cell_type": "markdown",
   "metadata": {
    "slideshow": {
     "slide_type": "fragment"
    }
   },
   "source": [
    "It can be used as follows."
   ]
  },
  {
   "cell_type": "code",
   "execution_count": 69,
   "metadata": {
    "execution": {
     "iopub.execute_input": "2022-01-04T17:42:16.502295Z",
     "iopub.status.busy": "2022-01-04T17:42:16.501728Z",
     "iopub.status.idle": "2022-01-04T17:42:16.506681Z",
     "shell.execute_reply": "2022-01-04T17:42:16.507234Z"
    },
    "slideshow": {
     "slide_type": "fragment"
    }
   },
   "outputs": [
    {
     "name": "stdout",
     "output_type": "stream",
     "text": [
      "int_a == int_b int_a != int_b 0 != int_b\n"
     ]
    }
   ],
   "source": [
    "with ConcolicTracer() as _:\n",
    "    ia = zint.create(_.context, 'int_a', 0)\n",
    "    ib = zint.create(_.context, 'int_b', 0)\n",
    "    v1 = ia == ib\n",
    "    v2 = ia != ib\n",
    "    v3 = 0 != ib\n",
    "    print(v1.z, v2.z, v3.z)"
   ]
  },
  {
   "cell_type": "markdown",
   "metadata": {
    "slideshow": {
     "slide_type": "subslide"
    }
   },
   "source": [
    "##### Comparisons between Integers\n",
    "\n",
    "Integers can also be compared for ordering, and the methods for this are defined below."
   ]
  },
  {
   "cell_type": "code",
   "execution_count": 70,
   "metadata": {
    "execution": {
     "iopub.execute_input": "2022-01-04T17:42:16.512794Z",
     "iopub.status.busy": "2022-01-04T17:42:16.512231Z",
     "iopub.status.idle": "2022-01-04T17:42:16.514112Z",
     "shell.execute_reply": "2022-01-04T17:42:16.514514Z"
    },
    "slideshow": {
     "slide_type": "fragment"
    }
   },
   "outputs": [],
   "source": [
    "class zint(zint):\n",
    "    def __lt__(self, other):\n",
    "        z, v = self._zv(other)\n",
    "        return zbool(self.context, self.z < z, self.v < v)\n",
    "\n",
    "    def __gt__(self, other):\n",
    "        z, v = self._zv(other)\n",
    "        return zbool(self.context, self.z > z, self.v > v)"
   ]
  },
  {
   "cell_type": "markdown",
   "metadata": {
    "slideshow": {
     "slide_type": "fragment"
    }
   },
   "source": [
    "We use the comparisons and equality operators to provide the other missing operators."
   ]
  },
  {
   "cell_type": "code",
   "execution_count": 71,
   "metadata": {
    "execution": {
     "iopub.execute_input": "2022-01-04T17:42:16.519626Z",
     "iopub.status.busy": "2022-01-04T17:42:16.518957Z",
     "iopub.status.idle": "2022-01-04T17:42:16.520792Z",
     "shell.execute_reply": "2022-01-04T17:42:16.521179Z"
    },
    "slideshow": {
     "slide_type": "subslide"
    }
   },
   "outputs": [],
   "source": [
    "class zint(zint):\n",
    "    def __le__(self, other):\n",
    "        z, v = self._zv(other)\n",
    "        return zbool(self.context, z3.Or(self.z < z, self.z == z),\n",
    "                     self.v < v or self.v == v)\n",
    "\n",
    "    def __ge__(self, other):\n",
    "        z, v = self._zv(other)\n",
    "        return zbool(self.context, z3.Or(self.z > z, self.z == z),\n",
    "                     self.v > v or self.v == v)"
   ]
  },
  {
   "cell_type": "markdown",
   "metadata": {
    "slideshow": {
     "slide_type": "fragment"
    }
   },
   "source": [
    "These functions can be used as follows."
   ]
  },
  {
   "cell_type": "code",
   "execution_count": 72,
   "metadata": {
    "execution": {
     "iopub.execute_input": "2022-01-04T17:42:16.526064Z",
     "iopub.status.busy": "2022-01-04T17:42:16.525254Z",
     "iopub.status.idle": "2022-01-04T17:42:16.532656Z",
     "shell.execute_reply": "2022-01-04T17:42:16.533142Z"
    },
    "slideshow": {
     "slide_type": "subslide"
    }
   },
   "outputs": [
    {
     "name": "stdout",
     "output_type": "stream",
     "text": [
      "int_a > int_b int_a < int_b\n",
      "Or(int_a > int_b, int_a == int_b) Or(int_a < int_b, int_a == int_b)\n"
     ]
    }
   ],
   "source": [
    "with ConcolicTracer() as _:\n",
    "    ia = zint.create(_.context, 'int_a', 0)\n",
    "    ib = zint.create(_.context, 'int_b', 1)\n",
    "    v1 = ia > ib\n",
    "    v2 = ia < ib\n",
    "    print(v1.z, v2.z)\n",
    "    v3 = ia >= ib\n",
    "    v4 = ia <= ib\n",
    "    print(v3.z, v4.z)"
   ]
  },
  {
   "cell_type": "markdown",
   "metadata": {
    "slideshow": {
     "slide_type": "subslide"
    }
   },
   "source": [
    "##### Binary Operators for Integers\n",
    "\n",
    "We implement relevant arithmetic operators for integers as described in the [Python documentation](https://docs.python.org/3/reference/datamodel.html#object.__add__). (The commented out operators are not directly available for `z3.ArithRef`. They need to be implemented separately if needed. See the exercises for how it can be done.)"
   ]
  },
  {
   "cell_type": "code",
   "execution_count": 73,
   "metadata": {
    "execution": {
     "iopub.execute_input": "2022-01-04T17:42:16.537413Z",
     "iopub.status.busy": "2022-01-04T17:42:16.536723Z",
     "iopub.status.idle": "2022-01-04T17:42:16.538640Z",
     "shell.execute_reply": "2022-01-04T17:42:16.539146Z"
    },
    "slideshow": {
     "slide_type": "subslide"
    }
   },
   "outputs": [],
   "source": [
    "INT_BINARY_OPS = [\n",
    "    '__add__',\n",
    "    '__sub__',\n",
    "    '__mul__',\n",
    "    '__truediv__',\n",
    "    # '__div__',\n",
    "    '__mod__',\n",
    "    # '__divmod__',\n",
    "    '__pow__',\n",
    "    # '__lshift__',\n",
    "    # '__rshift__',\n",
    "    # '__and__',\n",
    "    # '__xor__',\n",
    "    # '__or__',\n",
    "    '__radd__',\n",
    "    '__rsub__',\n",
    "    '__rmul__',\n",
    "    '__rtruediv__',\n",
    "    # '__rdiv__',\n",
    "    '__rmod__',\n",
    "    # '__rdivmod__',\n",
    "    '__rpow__',\n",
    "    # '__rlshift__',\n",
    "    # '__rrshift__',\n",
    "    # '__rand__',\n",
    "    # '__rxor__',\n",
    "    # '__ror__',\n",
    "]"
   ]
  },
  {
   "cell_type": "code",
   "execution_count": 74,
   "metadata": {
    "execution": {
     "iopub.execute_input": "2022-01-04T17:42:16.543980Z",
     "iopub.status.busy": "2022-01-04T17:42:16.543381Z",
     "iopub.status.idle": "2022-01-04T17:42:16.544907Z",
     "shell.execute_reply": "2022-01-04T17:42:16.545300Z"
    },
    "slideshow": {
     "slide_type": "subslide"
    }
   },
   "outputs": [],
   "source": [
    "def make_int_binary_wrapper(fname, fun, zfun):  # type: ignore\n",
    "    def proxy(self, other):\n",
    "        z, v = self._zv(other)\n",
    "        z_ = zfun(self.z, z)\n",
    "        v_ = fun(self.v, v)\n",
    "        if isinstance(v_, float):\n",
    "            # we do not implement float results yet.\n",
    "            assert round(v_) == v_\n",
    "            v_ = round(v_)\n",
    "        return zint(self.context, z_, v_)\n",
    "\n",
    "    return proxy"
   ]
  },
  {
   "cell_type": "code",
   "execution_count": 75,
   "metadata": {
    "execution": {
     "iopub.execute_input": "2022-01-04T17:42:16.548756Z",
     "iopub.status.busy": "2022-01-04T17:42:16.548195Z",
     "iopub.status.idle": "2022-01-04T17:42:16.550120Z",
     "shell.execute_reply": "2022-01-04T17:42:16.550530Z"
    },
    "slideshow": {
     "slide_type": "fragment"
    }
   },
   "outputs": [],
   "source": [
    "INITIALIZER_LIST: List[Callable] = []"
   ]
  },
  {
   "cell_type": "code",
   "execution_count": 76,
   "metadata": {
    "execution": {
     "iopub.execute_input": "2022-01-04T17:42:16.554362Z",
     "iopub.status.busy": "2022-01-04T17:42:16.553466Z",
     "iopub.status.idle": "2022-01-04T17:42:16.555885Z",
     "shell.execute_reply": "2022-01-04T17:42:16.556328Z"
    },
    "slideshow": {
     "slide_type": "subslide"
    }
   },
   "outputs": [],
   "source": [
    "def initialize():\n",
    "    for fn in INITIALIZER_LIST:\n",
    "        fn()"
   ]
  },
  {
   "cell_type": "code",
   "execution_count": 77,
   "metadata": {
    "execution": {
     "iopub.execute_input": "2022-01-04T17:42:16.560359Z",
     "iopub.status.busy": "2022-01-04T17:42:16.559803Z",
     "iopub.status.idle": "2022-01-04T17:42:16.561606Z",
     "shell.execute_reply": "2022-01-04T17:42:16.562005Z"
    },
    "slideshow": {
     "slide_type": "fragment"
    }
   },
   "outputs": [],
   "source": [
    "def init_concolic_1():\n",
    "    for fname in INT_BINARY_OPS:\n",
    "        fun = getattr(int, fname)\n",
    "        zfun = getattr(z3.ArithRef, fname)\n",
    "        setattr(zint, fname, make_int_binary_wrapper(fname, fun, zfun))"
   ]
  },
  {
   "cell_type": "code",
   "execution_count": 78,
   "metadata": {
    "execution": {
     "iopub.execute_input": "2022-01-04T17:42:16.565358Z",
     "iopub.status.busy": "2022-01-04T17:42:16.564721Z",
     "iopub.status.idle": "2022-01-04T17:42:16.566582Z",
     "shell.execute_reply": "2022-01-04T17:42:16.567145Z"
    },
    "slideshow": {
     "slide_type": "fragment"
    }
   },
   "outputs": [],
   "source": [
    "INITIALIZER_LIST.append(init_concolic_1)"
   ]
  },
  {
   "cell_type": "code",
   "execution_count": 79,
   "metadata": {
    "execution": {
     "iopub.execute_input": "2022-01-04T17:42:16.570875Z",
     "iopub.status.busy": "2022-01-04T17:42:16.570309Z",
     "iopub.status.idle": "2022-01-04T17:42:16.572376Z",
     "shell.execute_reply": "2022-01-04T17:42:16.572783Z"
    },
    "slideshow": {
     "slide_type": "fragment"
    }
   },
   "outputs": [],
   "source": [
    "init_concolic_1()"
   ]
  },
  {
   "cell_type": "code",
   "execution_count": 80,
   "metadata": {
    "execution": {
     "iopub.execute_input": "2022-01-04T17:42:16.580183Z",
     "iopub.status.busy": "2022-01-04T17:42:16.579351Z",
     "iopub.status.idle": "2022-01-04T17:42:16.589824Z",
     "shell.execute_reply": "2022-01-04T17:42:16.590273Z"
    },
    "slideshow": {
     "slide_type": "subslide"
    }
   },
   "outputs": [
    {
     "name": "stdout",
     "output_type": "stream",
     "text": [
      "int_a + int_b\n",
      "int_a + 10\n",
      "11 + int_b\n",
      "int_a - int_b\n",
      "int_a*int_b\n",
      "int_a/int_b\n",
      "int_a**int_b\n"
     ]
    }
   ],
   "source": [
    "with ConcolicTracer() as _:\n",
    "    ia = zint.create(_.context, 'int_a', 0)\n",
    "    ib = zint.create(_.context, 'int_b', 1)\n",
    "    print((ia + ib).z)\n",
    "    print((ia + 10).z)\n",
    "    print((11 + ib).z)\n",
    "    print((ia - ib).z)\n",
    "    print((ia * ib).z)\n",
    "    print((ia / ib).z)\n",
    "    print((ia ** ib).z)"
   ]
  },
  {
   "cell_type": "markdown",
   "metadata": {
    "slideshow": {
     "slide_type": "subslide"
    }
   },
   "source": [
    "##### Integer Unary Operators\n",
    "\n",
    "We also implement the relevant unary operators as below."
   ]
  },
  {
   "cell_type": "code",
   "execution_count": 81,
   "metadata": {
    "execution": {
     "iopub.execute_input": "2022-01-04T17:42:16.594067Z",
     "iopub.status.busy": "2022-01-04T17:42:16.593506Z",
     "iopub.status.idle": "2022-01-04T17:42:16.595327Z",
     "shell.execute_reply": "2022-01-04T17:42:16.595749Z"
    },
    "slideshow": {
     "slide_type": "fragment"
    }
   },
   "outputs": [],
   "source": [
    "INT_UNARY_OPS = [\n",
    "    '__neg__',\n",
    "    '__pos__',\n",
    "    # '__abs__',\n",
    "    # '__invert__',\n",
    "    # '__round__',\n",
    "    # '__ceil__',\n",
    "    # '__floor__',\n",
    "    # '__trunc__',\n",
    "]"
   ]
  },
  {
   "cell_type": "code",
   "execution_count": 82,
   "metadata": {
    "execution": {
     "iopub.execute_input": "2022-01-04T17:42:16.600161Z",
     "iopub.status.busy": "2022-01-04T17:42:16.599297Z",
     "iopub.status.idle": "2022-01-04T17:42:16.601125Z",
     "shell.execute_reply": "2022-01-04T17:42:16.601620Z"
    },
    "slideshow": {
     "slide_type": "subslide"
    }
   },
   "outputs": [],
   "source": [
    "def make_int_unary_wrapper(fname, fun, zfun):\n",
    "    def proxy(self):\n",
    "        return zint(self.context, zfun(self.z), fun(self.v))\n",
    "\n",
    "    return proxy"
   ]
  },
  {
   "cell_type": "code",
   "execution_count": 83,
   "metadata": {
    "execution": {
     "iopub.execute_input": "2022-01-04T17:42:16.605990Z",
     "iopub.status.busy": "2022-01-04T17:42:16.605312Z",
     "iopub.status.idle": "2022-01-04T17:42:16.607104Z",
     "shell.execute_reply": "2022-01-04T17:42:16.607578Z"
    },
    "slideshow": {
     "slide_type": "fragment"
    }
   },
   "outputs": [],
   "source": [
    "def init_concolic_2():\n",
    "    for fname in INT_UNARY_OPS:\n",
    "        fun = getattr(int, fname)\n",
    "        zfun = getattr(z3.ArithRef, fname)\n",
    "        setattr(zint, fname, make_int_unary_wrapper(fname, fun, zfun))"
   ]
  },
  {
   "cell_type": "code",
   "execution_count": 84,
   "metadata": {
    "execution": {
     "iopub.execute_input": "2022-01-04T17:42:16.611088Z",
     "iopub.status.busy": "2022-01-04T17:42:16.610536Z",
     "iopub.status.idle": "2022-01-04T17:42:16.612754Z",
     "shell.execute_reply": "2022-01-04T17:42:16.613334Z"
    },
    "slideshow": {
     "slide_type": "fragment"
    }
   },
   "outputs": [],
   "source": [
    "INITIALIZER_LIST.append(init_concolic_2)"
   ]
  },
  {
   "cell_type": "code",
   "execution_count": 85,
   "metadata": {
    "execution": {
     "iopub.execute_input": "2022-01-04T17:42:16.616660Z",
     "iopub.status.busy": "2022-01-04T17:42:16.616077Z",
     "iopub.status.idle": "2022-01-04T17:42:16.618361Z",
     "shell.execute_reply": "2022-01-04T17:42:16.617949Z"
    },
    "slideshow": {
     "slide_type": "fragment"
    }
   },
   "outputs": [],
   "source": [
    "init_concolic_2()"
   ]
  },
  {
   "cell_type": "markdown",
   "metadata": {
    "slideshow": {
     "slide_type": "fragment"
    }
   },
   "source": [
    "We can use the unary operators we defined above as follows:"
   ]
  },
  {
   "cell_type": "code",
   "execution_count": 86,
   "metadata": {
    "execution": {
     "iopub.execute_input": "2022-01-04T17:42:16.622305Z",
     "iopub.status.busy": "2022-01-04T17:42:16.621609Z",
     "iopub.status.idle": "2022-01-04T17:42:16.626235Z",
     "shell.execute_reply": "2022-01-04T17:42:16.626640Z"
    },
    "slideshow": {
     "slide_type": "subslide"
    }
   },
   "outputs": [
    {
     "name": "stdout",
     "output_type": "stream",
     "text": [
      "-int_a\n",
      "int_a\n"
     ]
    }
   ],
   "source": [
    "with ConcolicTracer() as _:\n",
    "    ia = zint.create(_.context, 'int_a', 0)\n",
    "    print((-ia).z)\n",
    "    print((+ia).z)"
   ]
  },
  {
   "cell_type": "markdown",
   "metadata": {
    "slideshow": {
     "slide_type": "subslide"
    }
   },
   "source": [
    "##### Using an Integer in a Boolean Context\n",
    "\n",
    "An integer may be converted to a boolean context in conditionals or as part of boolean predicates such as `or`, `and` and `not`. In these cases, the `__bool__()` method gets called. Unfortunately, this method requires a primitive boolean value. Hence, we force the current integer formula to a boolean predicate and register it in the current context."
   ]
  },
  {
   "cell_type": "code",
   "execution_count": 87,
   "metadata": {
    "execution": {
     "iopub.execute_input": "2022-01-04T17:42:16.630457Z",
     "iopub.status.busy": "2022-01-04T17:42:16.629891Z",
     "iopub.status.idle": "2022-01-04T17:42:16.631731Z",
     "shell.execute_reply": "2022-01-04T17:42:16.632132Z"
    },
    "slideshow": {
     "slide_type": "fragment"
    }
   },
   "outputs": [],
   "source": [
    "class zint(zint):\n",
    "    def __bool__(self):\n",
    "        # return zbool(self.context, self.z, self.v) <-- not allowed\n",
    "        # force registering boolean condition\n",
    "        if self != 0:\n",
    "            return True\n",
    "        return False"
   ]
  },
  {
   "cell_type": "markdown",
   "metadata": {
    "slideshow": {
     "slide_type": "subslide"
    }
   },
   "source": [
    "It is used as follows"
   ]
  },
  {
   "cell_type": "code",
   "execution_count": 88,
   "metadata": {
    "execution": {
     "iopub.execute_input": "2022-01-04T17:42:16.637587Z",
     "iopub.status.busy": "2022-01-04T17:42:16.636774Z",
     "iopub.status.idle": "2022-01-04T17:42:16.639563Z",
     "shell.execute_reply": "2022-01-04T17:42:16.640039Z"
    },
    "slideshow": {
     "slide_type": "fragment"
    }
   },
   "outputs": [],
   "source": [
    "with ConcolicTracer() as _:\n",
    "    za = zint.create(_.context, 'int_a', 1)\n",
    "    zb = zint.create(_.context, 'int_b', 0)\n",
    "    if za and zb:\n",
    "        print(1)"
   ]
  },
  {
   "cell_type": "code",
   "execution_count": 89,
   "metadata": {
    "execution": {
     "iopub.execute_input": "2022-01-04T17:42:16.644837Z",
     "iopub.status.busy": "2022-01-04T17:42:16.644257Z",
     "iopub.status.idle": "2022-01-04T17:42:16.648569Z",
     "shell.execute_reply": "2022-01-04T17:42:16.648990Z"
    },
    "slideshow": {
     "slide_type": "fragment"
    }
   },
   "outputs": [
    {
     "data": {
      "text/plain": [
       "({'int_a': 'Int', 'int_b': 'Int'}, [0 != int_a, Not(0 != int_b)])"
      ]
     },
     "execution_count": 89,
     "metadata": {},
     "output_type": "execute_result"
    }
   ],
   "source": [
    "_.context"
   ]
  },
  {
   "cell_type": "markdown",
   "metadata": {
    "slideshow": {
     "slide_type": "subslide"
    },
    "toc-hr-collapsed": true
   },
   "source": [
    "#### Remaining Methods of the  ConcolicTracer\n",
    "\n",
    "We now complete some of the methods of the `ConcolicTracer`."
   ]
  },
  {
   "cell_type": "markdown",
   "metadata": {
    "slideshow": {
     "slide_type": "subslide"
    }
   },
   "source": [
    "##### Translating to the SMT Expression Format\n",
    "\n",
    "Given that we are using an SMT Solver z3, it is often useful to retrieve the corresponding SMT expression for a symbolic expression. This can be used as an argument to `z3` or other SMT solvers.\n",
    "\n",
    "The format of the SMT expression ([SMT-LIB](http://smtlib.github.io/jSMTLIB/SMTLIBTutorial.pdf)) is as follows:\n",
    "\n",
    "* Variables declarations in [S-EXP](https://en.wikipedia.org/wiki/S-expression) format.\n",
    "  E.g. The following declares a symbolic integer variable `x`\n",
    "```\n",
    "(declare-const x Int)\n",
    "```\n",
    " This declares a `bit vector` `b` of length `8`\n",
    "```\n",
    "(declare-const b (_ BitVec 8))\n",
    "```\n",
    " This declares a symbolic real variable `r`\n",
    "```\n",
    "(declare-const x Real)\n",
    "```\n",
    " This declares a symbolic string variable `s`\n",
    "```\n",
    "(declare-const s String)\n",
    "```\n",
    "\n",
    "The declared variables can be used in logical formulas that are encoded in *S-EXP* format. For example, here is a logical formula.\n",
    "\n",
    "```\n",
    "(assert\n",
    "    (and\n",
    "        (= a b)\n",
    "        (= a c)\n",
    "        (! b c)))\n",
    "```\n",
    "Here is another example, using string variables.\n",
    "\n",
    "```\n",
    "(or (< 0 (str.indexof (str.substr my_str1 7 19) \" where \" 0))\n",
    "    (= (str.indexof (str.substr my_str1 7 19) \" where \" 0) 0))\n",
    "```\n"
   ]
  },
  {
   "cell_type": "code",
   "execution_count": 90,
   "metadata": {
    "execution": {
     "iopub.execute_input": "2022-01-04T17:42:16.655363Z",
     "iopub.status.busy": "2022-01-04T17:42:16.654782Z",
     "iopub.status.idle": "2022-01-04T17:42:16.657275Z",
     "shell.execute_reply": "2022-01-04T17:42:16.656801Z"
    },
    "slideshow": {
     "slide_type": "subslide"
    }
   },
   "outputs": [],
   "source": [
    "class ConcolicTracer(ConcolicTracer):\n",
    "    def smt_expr(self, show_decl=False, simplify=False, path=[]):\n",
    "        r = []\n",
    "        if show_decl:\n",
    "            for decl in self.decls:\n",
    "                v = self.decls[decl]\n",
    "                v = '(_ BitVec 8)' if v == 'BitVec' else v\n",
    "                r.append(\"(declare-const %s %s)\" % (decl, v))\n",
    "        path = path if path else self.path\n",
    "        if path:\n",
    "            path = z3.And(path)\n",
    "            if show_decl:\n",
    "                if simplify:\n",
    "                    return '\\n'.join([\n",
    "                        *r,\n",
    "                        \"(assert %s)\" % z3.simplify(path).sexpr()\n",
    "                    ])\n",
    "                else:\n",
    "                    return '\\n'.join(\n",
    "                        [*r, \"(assert %s)\" % path.sexpr()])\n",
    "            else:\n",
    "                return z3.simplify(path).sexpr()\n",
    "        else:\n",
    "            return ''"
   ]
  },
  {
   "cell_type": "markdown",
   "metadata": {
    "slideshow": {
     "slide_type": "subslide"
    }
   },
   "source": [
    "To see how to use `smt_expr()`, let us consider an example. The `triangle()` function is used to determine if the given sides to a triangle result in an `equilateral` triangle, an `isosceles` triangle, or a `scalene` triangle. It is implemented as follows."
   ]
  },
  {
   "cell_type": "code",
   "execution_count": 91,
   "metadata": {
    "execution": {
     "iopub.execute_input": "2022-01-04T17:42:16.661596Z",
     "iopub.status.busy": "2022-01-04T17:42:16.661023Z",
     "iopub.status.idle": "2022-01-04T17:42:16.662644Z",
     "shell.execute_reply": "2022-01-04T17:42:16.663042Z"
    },
    "slideshow": {
     "slide_type": "subslide"
    }
   },
   "outputs": [],
   "source": [
    "def triangle(a, b, c):\n",
    "    if a == b:\n",
    "        if b == c:\n",
    "            return 'equilateral'\n",
    "        else:\n",
    "            return 'isosceles'\n",
    "    else:\n",
    "        if b == c:\n",
    "            return 'isosceles'\n",
    "        else:\n",
    "            if a == c:\n",
    "                return 'isosceles'\n",
    "            else:\n",
    "                return 'scalene'"
   ]
  },
  {
   "cell_type": "code",
   "execution_count": 92,
   "metadata": {
    "execution": {
     "iopub.execute_input": "2022-01-04T17:42:16.666608Z",
     "iopub.status.busy": "2022-01-04T17:42:16.666057Z",
     "iopub.status.idle": "2022-01-04T17:42:16.668765Z",
     "shell.execute_reply": "2022-01-04T17:42:16.669222Z"
    },
    "slideshow": {
     "slide_type": "subslide"
    }
   },
   "outputs": [
    {
     "data": {
      "text/plain": [
       "'isosceles'"
      ]
     },
     "execution_count": 92,
     "metadata": {},
     "output_type": "execute_result"
    }
   ],
   "source": [
    "triangle(1, 2, 1)"
   ]
  },
  {
   "cell_type": "markdown",
   "metadata": {
    "slideshow": {
     "slide_type": "fragment"
    }
   },
   "source": [
    "To translate make it run under `ConcolicTracer`, we first define the arguments. The triangle being defined has sides `1, 1, 1`. i.e. it is an `equilateral` triangle."
   ]
  },
  {
   "cell_type": "code",
   "execution_count": 93,
   "metadata": {
    "execution": {
     "iopub.execute_input": "2022-01-04T17:42:16.673553Z",
     "iopub.status.busy": "2022-01-04T17:42:16.672915Z",
     "iopub.status.idle": "2022-01-04T17:42:16.676404Z",
     "shell.execute_reply": "2022-01-04T17:42:16.676803Z"
    },
    "slideshow": {
     "slide_type": "fragment"
    }
   },
   "outputs": [
    {
     "name": "stdout",
     "output_type": "stream",
     "text": [
      "({'int_a': 'Int', 'int_b': 'Int', 'int_c': 'Int'}, [int_a == int_b, int_b == int_c])\n"
     ]
    }
   ],
   "source": [
    "with ConcolicTracer() as _:\n",
    "    za = zint.create(_.context, 'int_a', 1)\n",
    "    zb = zint.create(_.context, 'int_b', 1)\n",
    "    zc = zint.create(_.context, 'int_c', 1)\n",
    "    triangle(za, zb, zc)\n",
    "print(_.context)"
   ]
  },
  {
   "cell_type": "markdown",
   "metadata": {
    "slideshow": {
     "slide_type": "fragment"
    }
   },
   "source": [
    "We can now call `smt_expr()` to retrieve the SMT expression as below."
   ]
  },
  {
   "cell_type": "code",
   "execution_count": 94,
   "metadata": {
    "execution": {
     "iopub.execute_input": "2022-01-04T17:42:16.681124Z",
     "iopub.status.busy": "2022-01-04T17:42:16.680214Z",
     "iopub.status.idle": "2022-01-04T17:42:16.683473Z",
     "shell.execute_reply": "2022-01-04T17:42:16.683959Z"
    },
    "slideshow": {
     "slide_type": "subslide"
    }
   },
   "outputs": [
    {
     "name": "stdout",
     "output_type": "stream",
     "text": [
      "(declare-const int_a Int)\n",
      "(declare-const int_b Int)\n",
      "(declare-const int_c Int)\n",
      "(assert (and (= int_a int_b) (= int_b int_c)))\n"
     ]
    }
   ],
   "source": [
    "print(_.smt_expr(show_decl=True))"
   ]
  },
  {
   "cell_type": "markdown",
   "metadata": {
    "slideshow": {
     "slide_type": "fragment"
    }
   },
   "source": [
    "The collected predicates can also be solved directly using the Python z3 API."
   ]
  },
  {
   "cell_type": "code",
   "execution_count": 95,
   "metadata": {
    "execution": {
     "iopub.execute_input": "2022-01-04T17:42:16.687858Z",
     "iopub.status.busy": "2022-01-04T17:42:16.687262Z",
     "iopub.status.idle": "2022-01-04T17:42:16.707535Z",
     "shell.execute_reply": "2022-01-04T17:42:16.708061Z"
    },
    "slideshow": {
     "slide_type": "fragment"
    }
   },
   "outputs": [
    {
     "name": "stdout",
     "output_type": "stream",
     "text": [
      "[int_c = 0, int_a = 0, int_b = 0]\n"
     ]
    }
   ],
   "source": [
    "z3.solve(_.path)"
   ]
  },
  {
   "cell_type": "markdown",
   "metadata": {
    "slideshow": {
     "slide_type": "subslide"
    }
   },
   "source": [
    "##### Generating Fresh Names\n",
    "While using the proxy classes, we often will have to generate new symbolic variables, with names that have not been used before. For this, we define `fresh_name()` that always generates unique integers for names."
   ]
  },
  {
   "cell_type": "code",
   "execution_count": 96,
   "metadata": {
    "execution": {
     "iopub.execute_input": "2022-01-04T17:42:16.713157Z",
     "iopub.status.busy": "2022-01-04T17:42:16.712428Z",
     "iopub.status.idle": "2022-01-04T17:42:16.714155Z",
     "shell.execute_reply": "2022-01-04T17:42:16.714553Z"
    },
    "slideshow": {
     "slide_type": "fragment"
    }
   },
   "outputs": [],
   "source": [
    "COUNTER = 0"
   ]
  },
  {
   "cell_type": "code",
   "execution_count": 97,
   "metadata": {
    "execution": {
     "iopub.execute_input": "2022-01-04T17:42:16.719464Z",
     "iopub.status.busy": "2022-01-04T17:42:16.718185Z",
     "iopub.status.idle": "2022-01-04T17:42:16.720628Z",
     "shell.execute_reply": "2022-01-04T17:42:16.721078Z"
    },
    "slideshow": {
     "slide_type": "fragment"
    }
   },
   "outputs": [],
   "source": [
    "def fresh_name():\n",
    "    global COUNTER\n",
    "    COUNTER += 1\n",
    "    return COUNTER"
   ]
  },
  {
   "cell_type": "markdown",
   "metadata": {
    "slideshow": {
     "slide_type": "fragment"
    }
   },
   "source": [
    "It can be used as follows:"
   ]
  },
  {
   "cell_type": "code",
   "execution_count": 98,
   "metadata": {
    "execution": {
     "iopub.execute_input": "2022-01-04T17:42:16.727736Z",
     "iopub.status.busy": "2022-01-04T17:42:16.726803Z",
     "iopub.status.idle": "2022-01-04T17:42:16.729785Z",
     "shell.execute_reply": "2022-01-04T17:42:16.730185Z"
    },
    "slideshow": {
     "slide_type": "fragment"
    }
   },
   "outputs": [
    {
     "data": {
      "text/plain": [
       "1"
      ]
     },
     "execution_count": 98,
     "metadata": {},
     "output_type": "execute_result"
    }
   ],
   "source": [
    "fresh_name()"
   ]
  },
  {
   "cell_type": "code",
   "execution_count": 99,
   "metadata": {
    "execution": {
     "iopub.execute_input": "2022-01-04T17:42:16.734684Z",
     "iopub.status.busy": "2022-01-04T17:42:16.733799Z",
     "iopub.status.idle": "2022-01-04T17:42:16.736648Z",
     "shell.execute_reply": "2022-01-04T17:42:16.736117Z"
    },
    "slideshow": {
     "slide_type": "subslide"
    }
   },
   "outputs": [],
   "source": [
    "def reset_counter():\n",
    "    global COUNTER\n",
    "    COUNTER = 0"
   ]
  },
  {
   "cell_type": "code",
   "execution_count": 100,
   "metadata": {
    "execution": {
     "iopub.execute_input": "2022-01-04T17:42:16.743632Z",
     "iopub.status.busy": "2022-01-04T17:42:16.742389Z",
     "iopub.status.idle": "2022-01-04T17:42:16.745973Z",
     "shell.execute_reply": "2022-01-04T17:42:16.746602Z"
    },
    "slideshow": {
     "slide_type": "fragment"
    }
   },
   "outputs": [],
   "source": [
    "class ConcolicTracer(ConcolicTracer):\n",
    "    def __enter__(self):\n",
    "        reset_counter()\n",
    "        return self\n",
    "\n",
    "    def __exit__(self, exc_type, exc_value, tb):\n",
    "        return"
   ]
  },
  {
   "cell_type": "markdown",
   "metadata": {
    "slideshow": {
     "slide_type": "subslide"
    }
   },
   "source": [
    " ##### Translating Arguments to Concolic Proxies\n",
    " \n",
    "We had previously defined `concolic()` as a transparent function. We now provide the full implementation of this function. It inspects a given function's parameters, and infers the parameter types from the concrete arguments passed in. It then uses this information to instantiate the correct proxy classes for each argument."
   ]
  },
  {
   "cell_type": "code",
   "execution_count": 101,
   "metadata": {
    "execution": {
     "iopub.execute_input": "2022-01-04T17:42:16.753416Z",
     "iopub.status.busy": "2022-01-04T17:42:16.752695Z",
     "iopub.status.idle": "2022-01-04T17:42:16.754537Z",
     "shell.execute_reply": "2022-01-04T17:42:16.754931Z"
    },
    "slideshow": {
     "slide_type": "subslide"
    }
   },
   "outputs": [],
   "source": [
    "class ConcolicTracer(ConcolicTracer):\n",
    "    def concolic(self, args):\n",
    "        my_args = []\n",
    "        for name, arg in zip(self.fn_args, args):\n",
    "            t = type(arg).__name__\n",
    "            zwrap = globals()['z' + t]\n",
    "            vname = \"%s_%s_%s_%s\" % (self.fn.__name__, name, t, fresh_name())\n",
    "            my_args.append(zwrap.create(self.context, vname, arg))\n",
    "            self.fn_args[name] = vname\n",
    "        return my_args"
   ]
  },
  {
   "cell_type": "markdown",
   "metadata": {
    "slideshow": {
     "slide_type": "fragment"
    }
   },
   "source": [
    "This is how it gets used:"
   ]
  },
  {
   "cell_type": "code",
   "execution_count": 102,
   "metadata": {
    "execution": {
     "iopub.execute_input": "2022-01-04T17:42:16.759996Z",
     "iopub.status.busy": "2022-01-04T17:42:16.759295Z",
     "iopub.status.idle": "2022-01-04T17:42:16.763623Z",
     "shell.execute_reply": "2022-01-04T17:42:16.764041Z"
    },
    "slideshow": {
     "slide_type": "fragment"
    }
   },
   "outputs": [],
   "source": [
    "with ConcolicTracer() as _:\n",
    "    _[factorial](5)"
   ]
  },
  {
   "cell_type": "markdown",
   "metadata": {
    "slideshow": {
     "slide_type": "subslide"
    }
   },
   "source": [
    "With the new `concolic()` method, the arguments to the factorial are correctly associated with symbolic variables, which allows us to retrieve the predicates encountered."
   ]
  },
  {
   "cell_type": "code",
   "execution_count": 103,
   "metadata": {
    "execution": {
     "iopub.execute_input": "2022-01-04T17:42:16.768025Z",
     "iopub.status.busy": "2022-01-04T17:42:16.767299Z",
     "iopub.status.idle": "2022-01-04T17:42:16.787966Z",
     "shell.execute_reply": "2022-01-04T17:42:16.787237Z"
    },
    "slideshow": {
     "slide_type": "fragment"
    }
   },
   "outputs": [
    {
     "data": {
      "text/plain": [
       "({'factorial_n_int_1': 'Int'},\n",
       " [Not(0 > factorial_n_int_1),\n",
       "  Not(0 == factorial_n_int_1),\n",
       "  Not(1 == factorial_n_int_1),\n",
       "  0 != factorial_n_int_1,\n",
       "  0 != factorial_n_int_1 - 1,\n",
       "  0 != factorial_n_int_1 - 1 - 1,\n",
       "  0 != factorial_n_int_1 - 1 - 1 - 1,\n",
       "  0 != factorial_n_int_1 - 1 - 1 - 1 - 1,\n",
       "  Not(0 != factorial_n_int_1 - 1 - 1 - 1 - 1 - 1)])"
      ]
     },
     "execution_count": 103,
     "metadata": {},
     "output_type": "execute_result"
    }
   ],
   "source": [
    "_.context"
   ]
  },
  {
   "cell_type": "markdown",
   "metadata": {
    "slideshow": {
     "slide_type": "subslide"
    }
   },
   "source": [
    "As before, we can also print out the SMT expression which can be passed directly to command line SMT solvers."
   ]
  },
  {
   "cell_type": "code",
   "execution_count": 104,
   "metadata": {
    "execution": {
     "iopub.execute_input": "2022-01-04T17:42:16.792922Z",
     "iopub.status.busy": "2022-01-04T17:42:16.791992Z",
     "iopub.status.idle": "2022-01-04T17:42:16.796092Z",
     "shell.execute_reply": "2022-01-04T17:42:16.796578Z"
    },
    "slideshow": {
     "slide_type": "subslide"
    }
   },
   "outputs": [
    {
     "name": "stdout",
     "output_type": "stream",
     "text": [
      "(declare-const factorial_n_int_1 Int)\n",
      "(assert (let ((a!1 (distinct 0 (- (- (- factorial_n_int_1 1) 1) 1)))\n",
      "      (a!2 (- (- (- (- factorial_n_int_1 1) 1) 1) 1)))\n",
      "  (and (not (> 0 factorial_n_int_1))\n",
      "       (not (= 0 factorial_n_int_1))\n",
      "       (not (= 1 factorial_n_int_1))\n",
      "       (distinct 0 factorial_n_int_1)\n",
      "       (distinct 0 (- factorial_n_int_1 1))\n",
      "       (distinct 0 (- (- factorial_n_int_1 1) 1))\n",
      "       a!1\n",
      "       (distinct 0 a!2)\n",
      "       (not (distinct 0 (- a!2 1))))))\n"
     ]
    }
   ],
   "source": [
    "print(_.smt_expr(show_decl=True))"
   ]
  },
  {
   "cell_type": "markdown",
   "metadata": {
    "slideshow": {
     "slide_type": "subslide"
    }
   },
   "source": [
    "We next define methods to evaluate the SMT expression both in Python and from command line."
   ]
  },
  {
   "cell_type": "markdown",
   "metadata": {
    "slideshow": {
     "slide_type": "subslide"
    }
   },
   "source": [
    "##### Evaluating the Concolic Expressions\n",
    "\n",
    "We define `zeval()` to solve the predicates in a context, and return results. It has two modes. The `python` mode uses `z3` Python API to solve and return the results. If the `python` mode is false, it writes the SMT expression to a file, and invokes the command line `z3` for a solution."
   ]
  },
  {
   "cell_type": "code",
   "execution_count": 105,
   "metadata": {
    "execution": {
     "iopub.execute_input": "2022-01-04T17:42:16.803735Z",
     "iopub.status.busy": "2022-01-04T17:42:16.803088Z",
     "iopub.status.idle": "2022-01-04T17:42:16.804992Z",
     "shell.execute_reply": "2022-01-04T17:42:16.805393Z"
    },
    "slideshow": {
     "slide_type": "subslide"
    }
   },
   "outputs": [],
   "source": [
    "class ConcolicTracer(ConcolicTracer):\n",
    "    def zeval(self, predicates=None, *,python=False, log=False):\n",
    "        \"\"\"Evaluate `predicates` in current context.\n",
    "        - If `python` is set, use the z3 Python API; otherwise use z3 standalone.\n",
    "        - If `log` is set, show input to z3.\n",
    "        Return a pair (`result`, `solution`) where\n",
    "        - `result` is either `'sat'` (satisfiable); then \n",
    "           solution` is a mapping of variables to (value, type) pairs; or\n",
    "        - `result` is not `'sat'`, indicating an error; then `solution` is `None`\n",
    "        \"\"\"\n",
    "        if predicates is None:\n",
    "            path = self.path\n",
    "        else:\n",
    "            path = list(self.path)\n",
    "            for i in sorted(predicates):\n",
    "                if len(path) > i:\n",
    "                    path[i] = predicates[i]\n",
    "                else:\n",
    "                    path.append(predicates[i])\n",
    "        if log:\n",
    "            print('Predicates in path:')\n",
    "            for i,p in enumerate(path):\n",
    "                print(i, p)\n",
    "            print()\n",
    "\n",
    "        r, sol = (zeval_py if python else zeval_smt)(path, self, log)\n",
    "        if r == 'sat':\n",
    "            return r, {k: sol.get(self.fn_args[k], None) for k in self.fn_args}\n",
    "        else:\n",
    "            return r, None"
   ]
  },
  {
   "cell_type": "markdown",
   "metadata": {
    "slideshow": {
     "slide_type": "subslide"
    }
   },
   "source": [
    "##### Using the Python API\n",
    "\n",
    "Given a set of predicates that the function encountered, and the tracer under which the function was executed, the `zeval_py()` function first declares the relevant symbolic variables, and uses the `z3.Solver()`to provide a set of inputs that would trace the same path through the function."
   ]
  },
  {
   "cell_type": "code",
   "execution_count": 106,
   "metadata": {
    "execution": {
     "iopub.execute_input": "2022-01-04T17:42:16.811120Z",
     "iopub.status.busy": "2022-01-04T17:42:16.810549Z",
     "iopub.status.idle": "2022-01-04T17:42:16.812233Z",
     "shell.execute_reply": "2022-01-04T17:42:16.812633Z"
    },
    "slideshow": {
     "slide_type": "subslide"
    }
   },
   "outputs": [],
   "source": [
    "def zeval_py(path, cc, log):\n",
    "    for decl in cc.decls:\n",
    "        if cc.decls[decl] == 'BitVec':\n",
    "            v = \"z3.%s('%s', 8)\" % (cc.decls[decl], decl)\n",
    "        else:\n",
    "            v = \"z3.%s('%s')\" % (cc.decls[decl], decl)\n",
    "        exec(v)\n",
    "    s = z3.Solver()\n",
    "    s.add(z3.And(path))\n",
    "    if s.check() == z3.unsat:\n",
    "        return 'No Solutions', {}\n",
    "    elif s.check() == z3.unknown:\n",
    "        return 'Gave up', None\n",
    "    assert s.check() == z3.sat\n",
    "    m = s.model()\n",
    "    return 'sat', {d.name(): m[d] for d in m.decls()}"
   ]
  },
  {
   "cell_type": "markdown",
   "metadata": {
    "slideshow": {
     "slide_type": "subslide"
    }
   },
   "source": [
    "It can be used as follows:"
   ]
  },
  {
   "cell_type": "code",
   "execution_count": 107,
   "metadata": {
    "execution": {
     "iopub.execute_input": "2022-01-04T17:42:16.816463Z",
     "iopub.status.busy": "2022-01-04T17:42:16.815902Z",
     "iopub.status.idle": "2022-01-04T17:42:16.819732Z",
     "shell.execute_reply": "2022-01-04T17:42:16.820198Z"
    },
    "slideshow": {
     "slide_type": "fragment"
    }
   },
   "outputs": [],
   "source": [
    "with ConcolicTracer() as _:\n",
    "    _[factorial](5)"
   ]
  },
  {
   "cell_type": "code",
   "execution_count": 108,
   "metadata": {
    "execution": {
     "iopub.execute_input": "2022-01-04T17:42:16.823785Z",
     "iopub.status.busy": "2022-01-04T17:42:16.823137Z",
     "iopub.status.idle": "2022-01-04T17:42:16.861589Z",
     "shell.execute_reply": "2022-01-04T17:42:16.862303Z"
    },
    "slideshow": {
     "slide_type": "fragment"
    }
   },
   "outputs": [
    {
     "data": {
      "text/plain": [
       "('sat', {'n': 5})"
      ]
     },
     "execution_count": 108,
     "metadata": {},
     "output_type": "execute_result"
    }
   ],
   "source": [
    "_.zeval(python=True)"
   ]
  },
  {
   "cell_type": "markdown",
   "metadata": {
    "slideshow": {
     "slide_type": "fragment"
    }
   },
   "source": [
    "That is, given the set of constraints, the assignment `n == 5` conforms to all constraints."
   ]
  },
  {
   "cell_type": "markdown",
   "metadata": {
    "slideshow": {
     "slide_type": "subslide"
    }
   },
   "source": [
    "##### Using the Command Line\n",
    "\n",
    "The `zeval_smt()` function writes the SMT expression to the file system, and calls the `z3` SMT solver command line to solve it. The result of SMT expression is again an `sexpr`. Hence, we first define `parse_sexp()` to parse and return the correct values."
   ]
  },
  {
   "cell_type": "code",
   "execution_count": 109,
   "metadata": {
    "execution": {
     "iopub.execute_input": "2022-01-04T17:42:16.866431Z",
     "iopub.status.busy": "2022-01-04T17:42:16.865766Z",
     "iopub.status.idle": "2022-01-04T17:42:16.867650Z",
     "shell.execute_reply": "2022-01-04T17:42:16.868053Z"
    },
    "slideshow": {
     "slide_type": "skip"
    }
   },
   "outputs": [],
   "source": [
    "import re"
   ]
  },
  {
   "cell_type": "code",
   "execution_count": 110,
   "metadata": {
    "execution": {
     "iopub.execute_input": "2022-01-04T17:42:16.872241Z",
     "iopub.status.busy": "2022-01-04T17:42:16.871675Z",
     "iopub.status.idle": "2022-01-04T17:42:16.873451Z",
     "shell.execute_reply": "2022-01-04T17:42:16.873877Z"
    },
    "slideshow": {
     "slide_type": "skip"
    }
   },
   "outputs": [],
   "source": [
    "import subprocess"
   ]
  },
  {
   "cell_type": "code",
   "execution_count": 111,
   "metadata": {
    "execution": {
     "iopub.execute_input": "2022-01-04T17:42:16.877522Z",
     "iopub.status.busy": "2022-01-04T17:42:16.876950Z",
     "iopub.status.idle": "2022-01-04T17:42:16.879176Z",
     "shell.execute_reply": "2022-01-04T17:42:16.879782Z"
    },
    "slideshow": {
     "slide_type": "fragment"
    }
   },
   "outputs": [],
   "source": [
    "SEXPR_TOKEN = r'''(?mx)\n",
    "    \\s*(?:\n",
    "        (?P<bra>\\()|\n",
    "        (?P<ket>\\))|\n",
    "        (?P<token>[^\"()\\s]+)|\n",
    "        (?P<string>\"[^\"]*\")\n",
    "       )'''"
   ]
  },
  {
   "cell_type": "code",
   "execution_count": 112,
   "metadata": {
    "execution": {
     "iopub.execute_input": "2022-01-04T17:42:16.887030Z",
     "iopub.status.busy": "2022-01-04T17:42:16.886090Z",
     "iopub.status.idle": "2022-01-04T17:42:16.888244Z",
     "shell.execute_reply": "2022-01-04T17:42:16.888950Z"
    },
    "slideshow": {
     "slide_type": "subslide"
    }
   },
   "outputs": [],
   "source": [
    "def parse_sexp(sexp):\n",
    "    stack, res = [], []\n",
    "    for elements in re.finditer(SEXPR_TOKEN, sexp):\n",
    "        kind, value = [(t, v) for t, v in elements.groupdict().items() if v][0]\n",
    "        if kind == 'bra':\n",
    "            stack.append(res)\n",
    "            res = []\n",
    "        elif kind == 'ket':\n",
    "            last, res = res, stack.pop(-1)\n",
    "            res.append(last)\n",
    "        elif kind == 'token':\n",
    "            res.append(value)\n",
    "        elif kind == 'string':\n",
    "            res.append(value[1:-1])\n",
    "        else:\n",
    "            assert False\n",
    "    return res"
   ]
  },
  {
   "cell_type": "markdown",
   "metadata": {
    "slideshow": {
     "slide_type": "subslide"
    }
   },
   "source": [
    "The `parse_sexp()` function can be used as follows"
   ]
  },
  {
   "cell_type": "code",
   "execution_count": 113,
   "metadata": {
    "execution": {
     "iopub.execute_input": "2022-01-04T17:42:16.893873Z",
     "iopub.status.busy": "2022-01-04T17:42:16.893177Z",
     "iopub.status.idle": "2022-01-04T17:42:16.895844Z",
     "shell.execute_reply": "2022-01-04T17:42:16.896222Z"
    },
    "slideshow": {
     "slide_type": "fragment"
    }
   },
   "outputs": [
    {
     "data": {
      "text/plain": [
       "['abcd', ['hello', '123', ['world', 'hello world']]]"
      ]
     },
     "execution_count": 113,
     "metadata": {},
     "output_type": "execute_result"
    }
   ],
   "source": [
    "parse_sexp('abcd (hello 123 (world \"hello world\"))')"
   ]
  },
  {
   "cell_type": "markdown",
   "metadata": {
    "slideshow": {
     "slide_type": "fragment"
    }
   },
   "source": [
    "We now define `zeval_smt()` which uses the `z3` command line directly, and uses `parse_sexp()` to parse and return the solutions to function arguments if any."
   ]
  },
  {
   "cell_type": "code",
   "execution_count": 114,
   "metadata": {
    "execution": {
     "iopub.execute_input": "2022-01-04T17:42:16.899475Z",
     "iopub.status.busy": "2022-01-04T17:42:16.898927Z",
     "iopub.status.idle": "2022-01-04T17:42:16.900768Z",
     "shell.execute_reply": "2022-01-04T17:42:16.901181Z"
    },
    "slideshow": {
     "slide_type": "skip"
    }
   },
   "outputs": [],
   "source": [
    "import tempfile"
   ]
  },
  {
   "cell_type": "code",
   "execution_count": 115,
   "metadata": {
    "execution": {
     "iopub.execute_input": "2022-01-04T17:42:16.907749Z",
     "iopub.status.busy": "2022-01-04T17:42:16.907136Z",
     "iopub.status.idle": "2022-01-04T17:42:16.908794Z",
     "shell.execute_reply": "2022-01-04T17:42:16.909187Z"
    },
    "slideshow": {
     "slide_type": "subslide"
    }
   },
   "outputs": [],
   "source": [
    "def zeval_smt(path, cc, log):\n",
    "    s = cc.smt_expr(True, True, path)\n",
    "\n",
    "    with tempfile.NamedTemporaryFile(mode='w', suffix='.smt') as f:\n",
    "        f.write(s)\n",
    "        f.write(\"\\n(check-sat)\")\n",
    "        f.write(\"\\n(get-model)\")\n",
    "        f.flush()\n",
    "\n",
    "        if log:\n",
    "            print(s, '(check-sat)', '(get-model)', sep='\\n')\n",
    "        output = subprocess.getoutput(\"z3 -t:60 \" + f.name)\n",
    "\n",
    "    if log:\n",
    "        print(output)\n",
    "\n",
    "    o = parse_sexp(output)\n",
    "    if not o:\n",
    "        return 'Gave up', None\n",
    "\n",
    "    kind = o[0]\n",
    "    if kind == 'unknown':\n",
    "        return 'Gave up', None\n",
    "    elif kind == 'unsat':\n",
    "        return 'No Solutions', {}\n",
    "\n",
    "    assert kind == 'sat'\n",
    "    assert o[1][0] == 'model'\n",
    "    return 'sat', {i[1]: (i[-1], i[-2]) for i in o[1][1:]}"
   ]
  },
  {
   "cell_type": "markdown",
   "metadata": {
    "slideshow": {
     "slide_type": "subslide"
    }
   },
   "source": [
    "We can now use `zeval()` as follows."
   ]
  },
  {
   "cell_type": "code",
   "execution_count": 116,
   "metadata": {
    "execution": {
     "iopub.execute_input": "2022-01-04T17:42:16.912522Z",
     "iopub.status.busy": "2022-01-04T17:42:16.911954Z",
     "iopub.status.idle": "2022-01-04T17:42:16.916100Z",
     "shell.execute_reply": "2022-01-04T17:42:16.916505Z"
    },
    "slideshow": {
     "slide_type": "fragment"
    }
   },
   "outputs": [],
   "source": [
    "with ConcolicTracer() as _:\n",
    "    _[factorial](5)"
   ]
  },
  {
   "cell_type": "code",
   "execution_count": 117,
   "metadata": {
    "execution": {
     "iopub.execute_input": "2022-01-04T17:42:16.920583Z",
     "iopub.status.busy": "2022-01-04T17:42:16.919837Z",
     "iopub.status.idle": "2022-01-04T17:42:17.085742Z",
     "shell.execute_reply": "2022-01-04T17:42:17.086793Z"
    },
    "slideshow": {
     "slide_type": "subslide"
    }
   },
   "outputs": [
    {
     "name": "stdout",
     "output_type": "stream",
     "text": [
      "Predicates in path:\n",
      "0 Not(0 > factorial_n_int_1)\n",
      "1 Not(0 == factorial_n_int_1)\n",
      "2 Not(1 == factorial_n_int_1)\n",
      "3 0 != factorial_n_int_1\n",
      "4 0 != factorial_n_int_1 - 1\n",
      "5 0 != factorial_n_int_1 - 1 - 1\n",
      "6 0 != factorial_n_int_1 - 1 - 1 - 1\n",
      "7 0 != factorial_n_int_1 - 1 - 1 - 1 - 1\n",
      "8 Not(0 != factorial_n_int_1 - 1 - 1 - 1 - 1 - 1)\n",
      "\n",
      "(declare-const factorial_n_int_1 Int)\n",
      "(assert (and (<= 0 factorial_n_int_1)\n",
      "     (not (= 0 factorial_n_int_1))\n",
      "     (not (= 1 factorial_n_int_1))\n",
      "     (not (= 2 factorial_n_int_1))\n",
      "     (not (= 3 factorial_n_int_1))\n",
      "     (not (= 4 factorial_n_int_1))\n",
      "     (= 5 factorial_n_int_1)))\n",
      "(check-sat)\n",
      "(get-model)\n",
      "sat\n",
      "(model \n",
      "  (define-fun factorial_n_int_1 () Int\n",
      "    5)\n",
      ")\n"
     ]
    },
    {
     "data": {
      "text/plain": [
       "('sat', {'n': ('5', 'Int')})"
      ]
     },
     "execution_count": 117,
     "metadata": {},
     "output_type": "execute_result"
    }
   ],
   "source": [
    "_.zeval(log=True)"
   ]
  },
  {
   "cell_type": "markdown",
   "metadata": {
    "slideshow": {
     "slide_type": "subslide"
    }
   },
   "source": [
    "Indeed, we get similar results (`n == 5`)  from using the command line as from using the Python API."
   ]
  },
  {
   "cell_type": "markdown",
   "metadata": {
    "slideshow": {
     "slide_type": "subslide"
    },
    "toc-hr-collapsed": true
   },
   "source": [
    "#### A Proxy Class for Strings\n",
    "\n",
    "Here, we define the proxy string class `zstr`. First we define our initialization routines. Since `str` is a primitive type, we define `new` to extend it."
   ]
  },
  {
   "cell_type": "code",
   "execution_count": 118,
   "metadata": {
    "execution": {
     "iopub.execute_input": "2022-01-04T17:42:17.096127Z",
     "iopub.status.busy": "2022-01-04T17:42:17.095220Z",
     "iopub.status.idle": "2022-01-04T17:42:17.097222Z",
     "shell.execute_reply": "2022-01-04T17:42:17.097740Z"
    },
    "slideshow": {
     "slide_type": "fragment"
    }
   },
   "outputs": [],
   "source": [
    "class zstr(str):\n",
    "    def __new__(cls, context, zn, v):\n",
    "        return str.__new__(cls, v)"
   ]
  },
  {
   "cell_type": "markdown",
   "metadata": {
    "slideshow": {
     "slide_type": "fragment"
    }
   },
   "source": [
    "As before, initialization proceeds with `create()` and the constructor."
   ]
  },
  {
   "cell_type": "code",
   "execution_count": 119,
   "metadata": {
    "execution": {
     "iopub.execute_input": "2022-01-04T17:42:17.103829Z",
     "iopub.status.busy": "2022-01-04T17:42:17.102933Z",
     "iopub.status.idle": "2022-01-04T17:42:17.105406Z",
     "shell.execute_reply": "2022-01-04T17:42:17.106043Z"
    },
    "slideshow": {
     "slide_type": "subslide"
    }
   },
   "outputs": [],
   "source": [
    "class zstr(zstr):\n",
    "    @classmethod\n",
    "    def create(cls, context, zn, v=None):\n",
    "        return zproxy_create(cls, 'String', z3.String, context, zn, v)\n",
    "\n",
    "    def __init__(self, context, z, v=None):\n",
    "        self.context, self.z, self.v = context, z, v\n",
    "        self._len = zint(context, z3.Length(z), len(v))\n",
    "        #self.context[1].append(z3.Length(z) == z3.IntVal(len(v)))"
   ]
  },
  {
   "cell_type": "markdown",
   "metadata": {
    "slideshow": {
     "slide_type": "fragment"
    }
   },
   "source": [
    "We also define `_zv()` helper to help us with methods that accept another string"
   ]
  },
  {
   "cell_type": "code",
   "execution_count": 120,
   "metadata": {
    "execution": {
     "iopub.execute_input": "2022-01-04T17:42:17.114306Z",
     "iopub.status.busy": "2022-01-04T17:42:17.113349Z",
     "iopub.status.idle": "2022-01-04T17:42:17.116427Z",
     "shell.execute_reply": "2022-01-04T17:42:17.117021Z"
    },
    "slideshow": {
     "slide_type": "fragment"
    }
   },
   "outputs": [],
   "source": [
    "class zstr(zstr):\n",
    "    def _zv(self, o):\n",
    "        return (o.z, o.v) if isinstance(o, zstr) else (z3.StringVal(o), o)"
   ]
  },
  {
   "cell_type": "markdown",
   "metadata": {
    "slideshow": {
     "slide_type": "subslide"
    }
   },
   "source": [
    "##### Retrieving Ordinal Value\n",
    "We define `zord` that given a symbolic one character long string, obtains the `ord()` for that. It returns two values. The first one is the variable that corresponds to `ord()`, and second is the predicate that links the variable to the passed in single character string."
   ]
  },
  {
   "cell_type": "code",
   "execution_count": 121,
   "metadata": {
    "execution": {
     "iopub.execute_input": "2022-01-04T17:42:17.126010Z",
     "iopub.status.busy": "2022-01-04T17:42:17.124590Z",
     "iopub.status.idle": "2022-01-04T17:42:17.128509Z",
     "shell.execute_reply": "2022-01-04T17:42:17.129219Z"
    },
    "slideshow": {
     "slide_type": "fragment"
    }
   },
   "outputs": [],
   "source": [
    "def zord(context, c):\n",
    "    bn = \"bitvec_%d\" % fresh_name()\n",
    "    v = z3.BitVec(bn, 8)\n",
    "    context[0][bn] = 'BitVec'\n",
    "    z = (z3.Unit(v) == c)\n",
    "    context[1].append(z)\n",
    "    return v"
   ]
  },
  {
   "cell_type": "markdown",
   "metadata": {
    "slideshow": {
     "slide_type": "fragment"
    }
   },
   "source": [
    "We use it as follows"
   ]
  },
  {
   "cell_type": "code",
   "execution_count": 122,
   "metadata": {
    "execution": {
     "iopub.execute_input": "2022-01-04T17:42:17.134118Z",
     "iopub.status.busy": "2022-01-04T17:42:17.133481Z",
     "iopub.status.idle": "2022-01-04T17:42:17.135343Z",
     "shell.execute_reply": "2022-01-04T17:42:17.135746Z"
    },
    "slideshow": {
     "slide_type": "fragment"
    }
   },
   "outputs": [],
   "source": [
    "zc = z3.String('arg_%d' % fresh_name())"
   ]
  },
  {
   "cell_type": "code",
   "execution_count": 123,
   "metadata": {
    "execution": {
     "iopub.execute_input": "2022-01-04T17:42:17.139918Z",
     "iopub.status.busy": "2022-01-04T17:42:17.139272Z",
     "iopub.status.idle": "2022-01-04T17:42:17.142584Z",
     "shell.execute_reply": "2022-01-04T17:42:17.143079Z"
    },
    "slideshow": {
     "slide_type": "subslide"
    }
   },
   "outputs": [],
   "source": [
    "with ConcolicTracer() as _:\n",
    "    zi = zord(_.context, zc)"
   ]
  },
  {
   "cell_type": "markdown",
   "metadata": {
    "slideshow": {
     "slide_type": "fragment"
    }
   },
   "source": [
    "The symbolic bitvector is in `zi`. It is linked to the passed in argument in `context`"
   ]
  },
  {
   "cell_type": "code",
   "execution_count": 124,
   "metadata": {
    "execution": {
     "iopub.execute_input": "2022-01-04T17:42:17.148036Z",
     "iopub.status.busy": "2022-01-04T17:42:17.147147Z",
     "iopub.status.idle": "2022-01-04T17:42:17.153446Z",
     "shell.execute_reply": "2022-01-04T17:42:17.153819Z"
    },
    "slideshow": {
     "slide_type": "fragment"
    }
   },
   "outputs": [
    {
     "data": {
      "text/plain": [
       "({'bitvec_1': 'BitVec'}, [Unit(bitvec_1) == arg_2])"
      ]
     },
     "execution_count": 124,
     "metadata": {},
     "output_type": "execute_result"
    }
   ],
   "source": [
    "_.context"
   ]
  },
  {
   "cell_type": "markdown",
   "metadata": {
    "slideshow": {
     "slide_type": "fragment"
    }
   },
   "source": [
    "We can specify what the result of `ord()` should be, and call `z3.solve()` to provide us with a solution that will provide the required result."
   ]
  },
  {
   "cell_type": "code",
   "execution_count": 125,
   "metadata": {
    "execution": {
     "iopub.execute_input": "2022-01-04T17:42:17.157392Z",
     "iopub.status.busy": "2022-01-04T17:42:17.156842Z",
     "iopub.status.idle": "2022-01-04T17:42:17.181651Z",
     "shell.execute_reply": "2022-01-04T17:42:17.182187Z"
    },
    "slideshow": {
     "slide_type": "fragment"
    }
   },
   "outputs": [
    {
     "name": "stdout",
     "output_type": "stream",
     "text": [
      "[bitvec_1 = 65, arg_2 = \"A\"]\n"
     ]
    }
   ],
   "source": [
    "z3.solve(_.path + [zi == 65])"
   ]
  },
  {
   "cell_type": "markdown",
   "metadata": {
    "slideshow": {
     "slide_type": "subslide"
    }
   },
   "source": [
    "##### Translating an Ordinal Value to ASCII\n",
    "Similarly, we can convert the ASCII value back to a single character string using `zchr()`"
   ]
  },
  {
   "cell_type": "code",
   "execution_count": 126,
   "metadata": {
    "execution": {
     "iopub.execute_input": "2022-01-04T17:42:17.188760Z",
     "iopub.status.busy": "2022-01-04T17:42:17.188013Z",
     "iopub.status.idle": "2022-01-04T17:42:17.190014Z",
     "shell.execute_reply": "2022-01-04T17:42:17.190603Z"
    },
    "slideshow": {
     "slide_type": "fragment"
    }
   },
   "outputs": [],
   "source": [
    "def zchr(context, i):\n",
    "    sn = 'string_%d' % fresh_name()\n",
    "    s = z3.String(sn)\n",
    "    context[0][sn] = 'String'\n",
    "    z = z3.And([s == z3.Unit(i), z3.Length(s) == 1])\n",
    "    context[1].append(z)\n",
    "    return s"
   ]
  },
  {
   "cell_type": "markdown",
   "metadata": {
    "slideshow": {
     "slide_type": "fragment"
    }
   },
   "source": [
    "For using it, we first define a bitvector that is 8 bits long."
   ]
  },
  {
   "cell_type": "code",
   "execution_count": 127,
   "metadata": {
    "execution": {
     "iopub.execute_input": "2022-01-04T17:42:17.194642Z",
     "iopub.status.busy": "2022-01-04T17:42:17.193864Z",
     "iopub.status.idle": "2022-01-04T17:42:17.196284Z",
     "shell.execute_reply": "2022-01-04T17:42:17.196690Z"
    },
    "slideshow": {
     "slide_type": "fragment"
    }
   },
   "outputs": [],
   "source": [
    "i = z3.BitVec('bv_%d' % fresh_name(), 8)"
   ]
  },
  {
   "cell_type": "markdown",
   "metadata": {
    "slideshow": {
     "slide_type": "fragment"
    }
   },
   "source": [
    "We can now retrieve the `chr()` representation as below."
   ]
  },
  {
   "cell_type": "code",
   "execution_count": 128,
   "metadata": {
    "execution": {
     "iopub.execute_input": "2022-01-04T17:42:17.202192Z",
     "iopub.status.busy": "2022-01-04T17:42:17.200206Z",
     "iopub.status.idle": "2022-01-04T17:42:17.206606Z",
     "shell.execute_reply": "2022-01-04T17:42:17.205714Z"
    },
    "slideshow": {
     "slide_type": "fragment"
    }
   },
   "outputs": [],
   "source": [
    "with ConcolicTracer() as _:\n",
    "    zc = zchr(_.context, i)"
   ]
  },
  {
   "cell_type": "code",
   "execution_count": 129,
   "metadata": {
    "execution": {
     "iopub.execute_input": "2022-01-04T17:42:17.218017Z",
     "iopub.status.busy": "2022-01-04T17:42:17.214715Z",
     "iopub.status.idle": "2022-01-04T17:42:17.223744Z",
     "shell.execute_reply": "2022-01-04T17:42:17.224280Z"
    },
    "slideshow": {
     "slide_type": "subslide"
    }
   },
   "outputs": [
    {
     "data": {
      "text/plain": [
       "({'string_1': 'String'}, [And(string_1 == Unit(bv_2), Length(string_1) == 1)])"
      ]
     },
     "execution_count": 129,
     "metadata": {},
     "output_type": "execute_result"
    }
   ],
   "source": [
    "_.context"
   ]
  },
  {
   "cell_type": "markdown",
   "metadata": {
    "slideshow": {
     "slide_type": "fragment"
    }
   },
   "source": [
    "As before, we can specify what the end result of calling `chr()` should be to get the original argument."
   ]
  },
  {
   "cell_type": "code",
   "execution_count": 130,
   "metadata": {
    "execution": {
     "iopub.execute_input": "2022-01-04T17:42:17.229470Z",
     "iopub.status.busy": "2022-01-04T17:42:17.228826Z",
     "iopub.status.idle": "2022-01-04T17:42:17.253487Z",
     "shell.execute_reply": "2022-01-04T17:42:17.253942Z"
    },
    "slideshow": {
     "slide_type": "fragment"
    }
   },
   "outputs": [
    {
     "name": "stdout",
     "output_type": "stream",
     "text": [
      "[string_1 = \"a\", bv_2 = 97]\n"
     ]
    }
   ],
   "source": [
    "z3.solve(_.path + [zc == z3.StringVal('a')])"
   ]
  },
  {
   "cell_type": "markdown",
   "metadata": {
    "slideshow": {
     "slide_type": "subslide"
    }
   },
   "source": [
    "##### Equality between Strings\n",
    "\n",
    "The equality of `zstr` is defined similar to that of `zint`"
   ]
  },
  {
   "cell_type": "code",
   "execution_count": 131,
   "metadata": {
    "execution": {
     "iopub.execute_input": "2022-01-04T17:42:17.259173Z",
     "iopub.status.busy": "2022-01-04T17:42:17.258614Z",
     "iopub.status.idle": "2022-01-04T17:42:17.260320Z",
     "shell.execute_reply": "2022-01-04T17:42:17.260811Z"
    },
    "slideshow": {
     "slide_type": "fragment"
    }
   },
   "outputs": [],
   "source": [
    "class zstr(zstr):\n",
    "    def __eq__(self, other):\n",
    "        z, v = self._zv(other)\n",
    "        return zbool(self.context, self.z == z, self.v == v)\n",
    "\n",
    "    def __req__(self, other):\n",
    "        return self.__eq__(other)"
   ]
  },
  {
   "cell_type": "markdown",
   "metadata": {
    "slideshow": {
     "slide_type": "fragment"
    }
   },
   "source": [
    "The `zstr` class is used as follows."
   ]
  },
  {
   "cell_type": "code",
   "execution_count": 132,
   "metadata": {
    "execution": {
     "iopub.execute_input": "2022-01-04T17:42:17.266224Z",
     "iopub.status.busy": "2022-01-04T17:42:17.264552Z",
     "iopub.status.idle": "2022-01-04T17:42:17.268247Z",
     "shell.execute_reply": "2022-01-04T17:42:17.268690Z"
    },
    "slideshow": {
     "slide_type": "subslide"
    }
   },
   "outputs": [],
   "source": [
    "def tstr1(s):\n",
    "    if s == 'h':\n",
    "        return True\n",
    "    else:\n",
    "        return False"
   ]
  },
  {
   "cell_type": "code",
   "execution_count": 133,
   "metadata": {
    "execution": {
     "iopub.execute_input": "2022-01-04T17:42:17.273384Z",
     "iopub.status.busy": "2022-01-04T17:42:17.272388Z",
     "iopub.status.idle": "2022-01-04T17:42:17.274745Z",
     "shell.execute_reply": "2022-01-04T17:42:17.275262Z"
    },
    "slideshow": {
     "slide_type": "fragment"
    }
   },
   "outputs": [],
   "source": [
    "with ConcolicTracer() as _:\n",
    "    r = _[tstr1]('h')"
   ]
  },
  {
   "cell_type": "code",
   "execution_count": 134,
   "metadata": {
    "execution": {
     "iopub.execute_input": "2022-01-04T17:42:17.278741Z",
     "iopub.status.busy": "2022-01-04T17:42:17.278189Z",
     "iopub.status.idle": "2022-01-04T17:42:17.325755Z",
     "shell.execute_reply": "2022-01-04T17:42:17.326230Z"
    },
    "slideshow": {
     "slide_type": "fragment"
    }
   },
   "outputs": [
    {
     "data": {
      "text/plain": [
       "('sat', {'s': ('h', 'String')})"
      ]
     },
     "execution_count": 134,
     "metadata": {},
     "output_type": "execute_result"
    }
   ],
   "source": [
    "_.zeval()"
   ]
  },
  {
   "cell_type": "markdown",
   "metadata": {
    "slideshow": {
     "slide_type": "fragment"
    }
   },
   "source": [
    "It works even if we have more than one character."
   ]
  },
  {
   "cell_type": "code",
   "execution_count": 135,
   "metadata": {
    "execution": {
     "iopub.execute_input": "2022-01-04T17:42:17.331730Z",
     "iopub.status.busy": "2022-01-04T17:42:17.330975Z",
     "iopub.status.idle": "2022-01-04T17:42:17.333647Z",
     "shell.execute_reply": "2022-01-04T17:42:17.334171Z"
    },
    "slideshow": {
     "slide_type": "fragment"
    }
   },
   "outputs": [],
   "source": [
    "def tstr1(s):  # type: ignore\n",
    "    if s == 'hello world':\n",
    "        return True\n",
    "    else:\n",
    "        return False"
   ]
  },
  {
   "cell_type": "code",
   "execution_count": 136,
   "metadata": {
    "execution": {
     "iopub.execute_input": "2022-01-04T17:42:17.338330Z",
     "iopub.status.busy": "2022-01-04T17:42:17.337689Z",
     "iopub.status.idle": "2022-01-04T17:42:17.340307Z",
     "shell.execute_reply": "2022-01-04T17:42:17.341021Z"
    },
    "slideshow": {
     "slide_type": "subslide"
    }
   },
   "outputs": [],
   "source": [
    "with ConcolicTracer() as _:\n",
    "    r = _[tstr1]('hello world')"
   ]
  },
  {
   "cell_type": "code",
   "execution_count": 137,
   "metadata": {
    "execution": {
     "iopub.execute_input": "2022-01-04T17:42:17.346155Z",
     "iopub.status.busy": "2022-01-04T17:42:17.345566Z",
     "iopub.status.idle": "2022-01-04T17:42:17.348654Z",
     "shell.execute_reply": "2022-01-04T17:42:17.349286Z"
    },
    "slideshow": {
     "slide_type": "fragment"
    }
   },
   "outputs": [
    {
     "data": {
      "text/plain": [
       "({'tstr1_s_str_1': 'String'}, [tstr1_s_str_1 == \"hello world\"])"
      ]
     },
     "execution_count": 137,
     "metadata": {},
     "output_type": "execute_result"
    }
   ],
   "source": [
    "_.context"
   ]
  },
  {
   "cell_type": "code",
   "execution_count": 138,
   "metadata": {
    "execution": {
     "iopub.execute_input": "2022-01-04T17:42:17.354059Z",
     "iopub.status.busy": "2022-01-04T17:42:17.353399Z",
     "iopub.status.idle": "2022-01-04T17:42:17.389675Z",
     "shell.execute_reply": "2022-01-04T17:42:17.390440Z"
    },
    "slideshow": {
     "slide_type": "fragment"
    }
   },
   "outputs": [
    {
     "data": {
      "text/plain": [
       "('sat', {'s': ('hello world', 'String')})"
      ]
     },
     "execution_count": 138,
     "metadata": {},
     "output_type": "execute_result"
    }
   ],
   "source": [
    "_.zeval()"
   ]
  },
  {
   "cell_type": "markdown",
   "metadata": {
    "slideshow": {
     "slide_type": "subslide"
    }
   },
   "source": [
    "##### Concatenation of Strings\n",
    "What if we need to concatenate two strings? We need additional helpers to accomplish that."
   ]
  },
  {
   "cell_type": "code",
   "execution_count": 139,
   "metadata": {
    "execution": {
     "iopub.execute_input": "2022-01-04T17:42:17.395977Z",
     "iopub.status.busy": "2022-01-04T17:42:17.395347Z",
     "iopub.status.idle": "2022-01-04T17:42:17.397353Z",
     "shell.execute_reply": "2022-01-04T17:42:17.397804Z"
    },
    "slideshow": {
     "slide_type": "fragment"
    }
   },
   "outputs": [],
   "source": [
    "class zstr(zstr):\n",
    "    def __add__(self, other):\n",
    "        z, v = self._zv(other)\n",
    "        return zstr(self.context, self.z + z, self.v + v)\n",
    "\n",
    "    def __radd__(self, other):\n",
    "        return self.__add__(other)"
   ]
  },
  {
   "cell_type": "markdown",
   "metadata": {
    "slideshow": {
     "slide_type": "fragment"
    }
   },
   "source": [
    "Here is how it can be used. First, we create the wrapped arguments"
   ]
  },
  {
   "cell_type": "code",
   "execution_count": 140,
   "metadata": {
    "execution": {
     "iopub.execute_input": "2022-01-04T17:42:17.403503Z",
     "iopub.status.busy": "2022-01-04T17:42:17.402859Z",
     "iopub.status.idle": "2022-01-04T17:42:17.406176Z",
     "shell.execute_reply": "2022-01-04T17:42:17.406584Z"
    },
    "slideshow": {
     "slide_type": "subslide"
    }
   },
   "outputs": [
    {
     "name": "stdout",
     "output_type": "stream",
     "text": [
      "hello world\n"
     ]
    }
   ],
   "source": [
    "with ConcolicTracer() as _:\n",
    "    v1, v2 = [zstr.create(_.context, 'arg_%d' % fresh_name(), s)\n",
    "              for s in ['hello', 'world']]\n",
    "    if (v1 + ' ' + v2) == 'hello world':\n",
    "        print('hello world')"
   ]
  },
  {
   "cell_type": "markdown",
   "metadata": {
    "slideshow": {
     "slide_type": "fragment"
    }
   },
   "source": [
    "The addition of symbolic variables is preserved in `context`"
   ]
  },
  {
   "cell_type": "code",
   "execution_count": 141,
   "metadata": {
    "execution": {
     "iopub.execute_input": "2022-01-04T17:42:17.411399Z",
     "iopub.status.busy": "2022-01-04T17:42:17.410774Z",
     "iopub.status.idle": "2022-01-04T17:42:17.414558Z",
     "shell.execute_reply": "2022-01-04T17:42:17.415075Z"
    },
    "slideshow": {
     "slide_type": "fragment"
    }
   },
   "outputs": [
    {
     "data": {
      "text/plain": [
       "({'arg_1': 'String', 'arg_2': 'String'},\n",
       " [Concat(Concat(arg_1, \" \"), arg_2) == \"hello world\"])"
      ]
     },
     "execution_count": 141,
     "metadata": {},
     "output_type": "execute_result"
    }
   ],
   "source": [
    "_.context"
   ]
  },
  {
   "cell_type": "markdown",
   "metadata": {
    "slideshow": {
     "slide_type": "subslide"
    }
   },
   "source": [
    "##### Producing Substrings\n",
    "Similarly, accessing substrings also require extra help."
   ]
  },
  {
   "cell_type": "code",
   "execution_count": 142,
   "metadata": {
    "execution": {
     "iopub.execute_input": "2022-01-04T17:42:17.422678Z",
     "iopub.status.busy": "2022-01-04T17:42:17.421912Z",
     "iopub.status.idle": "2022-01-04T17:42:17.424422Z",
     "shell.execute_reply": "2022-01-04T17:42:17.423996Z"
    },
    "slideshow": {
     "slide_type": "subslide"
    }
   },
   "outputs": [],
   "source": [
    "class zstr(zstr):\n",
    "    def __getitem__(self, idx):\n",
    "        if isinstance(idx, slice):\n",
    "            start, stop, step = idx.indices(len(self.v))\n",
    "            assert step == 1  # for now\n",
    "            assert stop >= start  # for now\n",
    "            rz = z3.SubString(self.z, start, stop - start)\n",
    "            rv = self.v[idx]\n",
    "        elif isinstance(idx, int):\n",
    "            rz = z3.SubString(self.z, idx, 1)\n",
    "            rv = self.v[idx]\n",
    "        else:\n",
    "            assert False  # for now\n",
    "        return zstr(self.context, rz, rv)\n",
    "\n",
    "    def __iter__(self):\n",
    "        return zstr_iterator(self.context, self)"
   ]
  },
  {
   "cell_type": "markdown",
   "metadata": {
    "slideshow": {
     "slide_type": "subslide"
    }
   },
   "source": [
    "##### An Iterator Class for Strings\n",
    "\n",
    "We define the iterator as follows."
   ]
  },
  {
   "cell_type": "code",
   "execution_count": 143,
   "metadata": {
    "execution": {
     "iopub.execute_input": "2022-01-04T17:42:17.429329Z",
     "iopub.status.busy": "2022-01-04T17:42:17.428771Z",
     "iopub.status.idle": "2022-01-04T17:42:17.430930Z",
     "shell.execute_reply": "2022-01-04T17:42:17.431546Z"
    },
    "slideshow": {
     "slide_type": "subslide"
    }
   },
   "outputs": [],
   "source": [
    "class zstr_iterator():\n",
    "    def __init__(self, context, zstr):\n",
    "        self.context = context\n",
    "        self._zstr = zstr\n",
    "        self._str_idx = 0\n",
    "        self._str_max = zstr._len  # intz is not an _int_\n",
    "\n",
    "    def __next__(self):\n",
    "        if self._str_idx == self._str_max:  # intz#eq\n",
    "            raise StopIteration\n",
    "        c = self._zstr[self._str_idx]\n",
    "        self._str_idx += 1\n",
    "        return c\n",
    "\n",
    "    def __len__(self):\n",
    "        return self._len"
   ]
  },
  {
   "cell_type": "markdown",
   "metadata": {
    "slideshow": {
     "slide_type": "subslide"
    }
   },
   "source": [
    "Here is how it can be used."
   ]
  },
  {
   "cell_type": "code",
   "execution_count": 144,
   "metadata": {
    "execution": {
     "iopub.execute_input": "2022-01-04T17:42:17.436352Z",
     "iopub.status.busy": "2022-01-04T17:42:17.435712Z",
     "iopub.status.idle": "2022-01-04T17:42:17.437652Z",
     "shell.execute_reply": "2022-01-04T17:42:17.438052Z"
    },
    "slideshow": {
     "slide_type": "fragment"
    }
   },
   "outputs": [],
   "source": [
    "def tstr2(s):\n",
    "    if s[0] == 'h' and s[1] == 'e' and s[3] == 'l':\n",
    "        return True\n",
    "    else:\n",
    "        return False"
   ]
  },
  {
   "cell_type": "code",
   "execution_count": 145,
   "metadata": {
    "execution": {
     "iopub.execute_input": "2022-01-04T17:42:17.442793Z",
     "iopub.status.busy": "2022-01-04T17:42:17.441905Z",
     "iopub.status.idle": "2022-01-04T17:42:17.445135Z",
     "shell.execute_reply": "2022-01-04T17:42:17.445542Z"
    },
    "slideshow": {
     "slide_type": "fragment"
    }
   },
   "outputs": [],
   "source": [
    "with ConcolicTracer() as _:\n",
    "    r = _[tstr2]('hello')"
   ]
  },
  {
   "cell_type": "markdown",
   "metadata": {
    "slideshow": {
     "slide_type": "fragment"
    }
   },
   "source": [
    "Again, the context shows predicates encountered."
   ]
  },
  {
   "cell_type": "code",
   "execution_count": 146,
   "metadata": {
    "execution": {
     "iopub.execute_input": "2022-01-04T17:42:17.450635Z",
     "iopub.status.busy": "2022-01-04T17:42:17.449737Z",
     "iopub.status.idle": "2022-01-04T17:42:17.454784Z",
     "shell.execute_reply": "2022-01-04T17:42:17.455292Z"
    },
    "slideshow": {
     "slide_type": "fragment"
    }
   },
   "outputs": [
    {
     "data": {
      "text/plain": [
       "({'tstr2_s_str_1': 'String'},\n",
       " [str.substr(tstr2_s_str_1, 0, 1) == \"h\",\n",
       "  str.substr(tstr2_s_str_1, 1, 1) == \"e\",\n",
       "  str.substr(tstr2_s_str_1, 3, 1) == \"l\"])"
      ]
     },
     "execution_count": 146,
     "metadata": {},
     "output_type": "execute_result"
    }
   ],
   "source": [
    "_.context"
   ]
  },
  {
   "cell_type": "markdown",
   "metadata": {
    "slideshow": {
     "slide_type": "subslide"
    }
   },
   "source": [
    "The function `zeval()` returns a solution for the predicate. Note that the value returned is not exactly the argument that we passed in. This is a consequence of the predicates we have. That is, we have no constraints on what the character value on `s[2]` should be."
   ]
  },
  {
   "cell_type": "code",
   "execution_count": 147,
   "metadata": {
    "execution": {
     "iopub.execute_input": "2022-01-04T17:42:17.459591Z",
     "iopub.status.busy": "2022-01-04T17:42:17.458956Z",
     "iopub.status.idle": "2022-01-04T17:42:17.529764Z",
     "shell.execute_reply": "2022-01-04T17:42:17.530366Z"
    },
    "slideshow": {
     "slide_type": "fragment"
    }
   },
   "outputs": [
    {
     "data": {
      "text/plain": [
       "('sat', {'s': ('he\\\\x00l\\\\x00', 'String')})"
      ]
     },
     "execution_count": 147,
     "metadata": {},
     "output_type": "execute_result"
    }
   ],
   "source": [
    "_.zeval()"
   ]
  },
  {
   "cell_type": "markdown",
   "metadata": {
    "slideshow": {
     "slide_type": "subslide"
    }
   },
   "source": [
    "##### Translating to Upper and Lower Equivalents\n",
    "\n",
    "A major complication is supporting `upper()` and `lower()` methods. We use the previously defined `zchr()` and `zord()` functions to accomplish this."
   ]
  },
  {
   "cell_type": "code",
   "execution_count": 148,
   "metadata": {
    "execution": {
     "iopub.execute_input": "2022-01-04T17:42:17.540300Z",
     "iopub.status.busy": "2022-01-04T17:42:17.539631Z",
     "iopub.status.idle": "2022-01-04T17:42:17.541499Z",
     "shell.execute_reply": "2022-01-04T17:42:17.541917Z"
    },
    "slideshow": {
     "slide_type": "subslide"
    }
   },
   "outputs": [],
   "source": [
    "class zstr(zstr):\n",
    "    def upper(self):\n",
    "        empty = ''\n",
    "        ne = 'empty_%d' % fresh_name()\n",
    "        result = zstr.create(self.context, ne, empty)\n",
    "        self.context[1].append(z3.StringVal(empty) == result.z)\n",
    "        cdiff = (ord('a') - ord('A'))\n",
    "        for i in self:\n",
    "            oz = zord(self.context, i.z)\n",
    "            uz = zchr(self.context, oz - cdiff)\n",
    "            rz = z3.And([oz >= ord('a'), oz <= ord('z')])\n",
    "            ov = ord(i.v)\n",
    "            uv = chr(ov - cdiff)\n",
    "            rv = ov >= ord('a') and ov <= ord('z')\n",
    "            if zbool(self.context, rz, rv):\n",
    "                i = zstr(self.context, uz, uv)\n",
    "            else:\n",
    "                i = zstr(self.context, i.z, i.v)\n",
    "            result += i\n",
    "        return result"
   ]
  },
  {
   "cell_type": "markdown",
   "metadata": {
    "slideshow": {
     "slide_type": "subslide"
    }
   },
   "source": [
    "The `lower()` function is similar to `upper()` except that the character ranges are switched, and the lowercase is above uppercase. Hence, we add the difference to the ordinal to make a character to lowercase."
   ]
  },
  {
   "cell_type": "code",
   "execution_count": 149,
   "metadata": {
    "execution": {
     "iopub.execute_input": "2022-01-04T17:42:17.550917Z",
     "iopub.status.busy": "2022-01-04T17:42:17.550026Z",
     "iopub.status.idle": "2022-01-04T17:42:17.551973Z",
     "shell.execute_reply": "2022-01-04T17:42:17.552372Z"
    },
    "slideshow": {
     "slide_type": "subslide"
    }
   },
   "outputs": [],
   "source": [
    "class zstr(zstr):\n",
    "    def lower(self):\n",
    "        empty = ''\n",
    "        ne = 'empty_%d' % fresh_name()\n",
    "        result = zstr.create(self.context, ne, empty)\n",
    "        self.context[1].append(z3.StringVal(empty) == result.z)\n",
    "        cdiff = (ord('a') - ord('A'))\n",
    "        for i in self:\n",
    "            oz = zord(self.context, i.z)\n",
    "            uz = zchr(self.context, oz + cdiff)\n",
    "            rz = z3.And([oz >= ord('A'), oz <= ord('Z')])\n",
    "            ov = ord(i.v)\n",
    "            uv = chr(ov + cdiff)\n",
    "            rv = ov >= ord('A') and ov <= ord('Z')\n",
    "            if zbool(self.context, rz, rv):\n",
    "                i = zstr(self.context, uz, uv)\n",
    "            else:\n",
    "                i = zstr(self.context, i.z, i.v)\n",
    "            result += i\n",
    "        return result"
   ]
  },
  {
   "cell_type": "markdown",
   "metadata": {
    "slideshow": {
     "slide_type": "subslide"
    }
   },
   "source": [
    "Here is how it is used."
   ]
  },
  {
   "cell_type": "code",
   "execution_count": 150,
   "metadata": {
    "execution": {
     "iopub.execute_input": "2022-01-04T17:42:17.559068Z",
     "iopub.status.busy": "2022-01-04T17:42:17.557866Z",
     "iopub.status.idle": "2022-01-04T17:42:17.561090Z",
     "shell.execute_reply": "2022-01-04T17:42:17.560527Z"
    },
    "slideshow": {
     "slide_type": "fragment"
    }
   },
   "outputs": [],
   "source": [
    "def tstr3(s):\n",
    "    if s.upper() == 'H':\n",
    "        return True\n",
    "    else:\n",
    "        return False"
   ]
  },
  {
   "cell_type": "code",
   "execution_count": 151,
   "metadata": {
    "execution": {
     "iopub.execute_input": "2022-01-04T17:42:17.566420Z",
     "iopub.status.busy": "2022-01-04T17:42:17.565666Z",
     "iopub.status.idle": "2022-01-04T17:42:17.570361Z",
     "shell.execute_reply": "2022-01-04T17:42:17.570772Z"
    },
    "slideshow": {
     "slide_type": "fragment"
    }
   },
   "outputs": [],
   "source": [
    "with ConcolicTracer() as _:\n",
    "    r = _[tstr3]('h')"
   ]
  },
  {
   "cell_type": "markdown",
   "metadata": {
    "slideshow": {
     "slide_type": "fragment"
    }
   },
   "source": [
    "Again, we use `zeval()` to solve the collected constraints, and verify that our constraints are correct. "
   ]
  },
  {
   "cell_type": "code",
   "execution_count": 152,
   "metadata": {
    "execution": {
     "iopub.execute_input": "2022-01-04T17:42:17.574916Z",
     "iopub.status.busy": "2022-01-04T17:42:17.574108Z",
     "iopub.status.idle": "2022-01-04T17:42:17.619842Z",
     "shell.execute_reply": "2022-01-04T17:42:17.620886Z"
    },
    "slideshow": {
     "slide_type": "fragment"
    }
   },
   "outputs": [
    {
     "data": {
      "text/plain": [
       "('sat', {'s': ('h', 'String')})"
      ]
     },
     "execution_count": 152,
     "metadata": {},
     "output_type": "execute_result"
    }
   ],
   "source": [
    "_.zeval()"
   ]
  },
  {
   "cell_type": "markdown",
   "metadata": {
    "slideshow": {
     "slide_type": "fragment"
    }
   },
   "source": [
    "Here is a larger example using `upper()`"
   ]
  },
  {
   "cell_type": "code",
   "execution_count": 153,
   "metadata": {
    "execution": {
     "iopub.execute_input": "2022-01-04T17:42:17.626420Z",
     "iopub.status.busy": "2022-01-04T17:42:17.625525Z",
     "iopub.status.idle": "2022-01-04T17:42:17.628020Z",
     "shell.execute_reply": "2022-01-04T17:42:17.628539Z"
    },
    "slideshow": {
     "slide_type": "subslide"
    }
   },
   "outputs": [],
   "source": [
    "def tstr4(s):\n",
    "    if s.lower() == 'hello world':\n",
    "        return True\n",
    "    else:\n",
    "        return False"
   ]
  },
  {
   "cell_type": "code",
   "execution_count": 154,
   "metadata": {
    "execution": {
     "iopub.execute_input": "2022-01-04T17:42:17.633805Z",
     "iopub.status.busy": "2022-01-04T17:42:17.632698Z",
     "iopub.status.idle": "2022-01-04T17:42:17.647512Z",
     "shell.execute_reply": "2022-01-04T17:42:17.647891Z"
    },
    "slideshow": {
     "slide_type": "fragment"
    }
   },
   "outputs": [],
   "source": [
    "with ConcolicTracer() as _:\n",
    "    r = _[tstr4]('Hello World')"
   ]
  },
  {
   "cell_type": "code",
   "execution_count": 155,
   "metadata": {
    "execution": {
     "iopub.execute_input": "2022-01-04T17:42:17.652808Z",
     "iopub.status.busy": "2022-01-04T17:42:17.652225Z",
     "iopub.status.idle": "2022-01-04T17:42:17.765443Z",
     "shell.execute_reply": "2022-01-04T17:42:17.766613Z"
    },
    "slideshow": {
     "slide_type": "fragment"
    }
   },
   "outputs": [
    {
     "data": {
      "text/plain": [
       "('Gave up', None)"
      ]
     },
     "execution_count": 155,
     "metadata": {},
     "output_type": "execute_result"
    }
   ],
   "source": [
    "_.zeval()"
   ]
  },
  {
   "cell_type": "markdown",
   "metadata": {
    "slideshow": {
     "slide_type": "fragment"
    }
   },
   "source": [
    "Again, we obtain the right input value."
   ]
  },
  {
   "cell_type": "markdown",
   "metadata": {
    "slideshow": {
     "slide_type": "subslide"
    }
   },
   "source": [
    "##### Checking for String Prefixes\n",
    "We define `startswith()`."
   ]
  },
  {
   "cell_type": "code",
   "execution_count": 156,
   "metadata": {
    "execution": {
     "iopub.execute_input": "2022-01-04T17:42:17.775817Z",
     "iopub.status.busy": "2022-01-04T17:42:17.774893Z",
     "iopub.status.idle": "2022-01-04T17:42:17.777003Z",
     "shell.execute_reply": "2022-01-04T17:42:17.777676Z"
    },
    "slideshow": {
     "slide_type": "subslide"
    }
   },
   "outputs": [],
   "source": [
    "class zstr(zstr):\n",
    "    def startswith(self, other, beg=0, end=None):\n",
    "        assert end is None  # for now\n",
    "        assert isinstance(beg, int)  # for now\n",
    "        zb = z3.IntVal(beg)\n",
    "\n",
    "        others = other if isinstance(other, tuple) else (other, )\n",
    "\n",
    "        last = False\n",
    "        for o in others:\n",
    "            z, v = self._zv(o)\n",
    "            r = z3.IndexOf(self.z, z, zb)\n",
    "            last = zbool(self.context, r == zb, self.v.startswith(v))\n",
    "            if last:\n",
    "                return last\n",
    "        return last"
   ]
  },
  {
   "cell_type": "markdown",
   "metadata": {
    "slideshow": {
     "slide_type": "subslide"
    }
   },
   "source": [
    "An example."
   ]
  },
  {
   "cell_type": "code",
   "execution_count": 157,
   "metadata": {
    "execution": {
     "iopub.execute_input": "2022-01-04T17:42:17.782399Z",
     "iopub.status.busy": "2022-01-04T17:42:17.781733Z",
     "iopub.status.idle": "2022-01-04T17:42:17.784049Z",
     "shell.execute_reply": "2022-01-04T17:42:17.784461Z"
    },
    "slideshow": {
     "slide_type": "fragment"
    }
   },
   "outputs": [],
   "source": [
    "def tstr5(s):\n",
    "    if s.startswith('hello'):\n",
    "        return True\n",
    "    else:\n",
    "        return False"
   ]
  },
  {
   "cell_type": "code",
   "execution_count": 158,
   "metadata": {
    "execution": {
     "iopub.execute_input": "2022-01-04T17:42:17.788374Z",
     "iopub.status.busy": "2022-01-04T17:42:17.787801Z",
     "iopub.status.idle": "2022-01-04T17:42:17.792120Z",
     "shell.execute_reply": "2022-01-04T17:42:17.791634Z"
    },
    "slideshow": {
     "slide_type": "fragment"
    }
   },
   "outputs": [],
   "source": [
    "with ConcolicTracer() as _:\n",
    "    r = _[tstr5]('hello world')"
   ]
  },
  {
   "cell_type": "code",
   "execution_count": 159,
   "metadata": {
    "execution": {
     "iopub.execute_input": "2022-01-04T17:42:17.797087Z",
     "iopub.status.busy": "2022-01-04T17:42:17.796290Z",
     "iopub.status.idle": "2022-01-04T17:42:17.839221Z",
     "shell.execute_reply": "2022-01-04T17:42:17.839697Z"
    },
    "slideshow": {
     "slide_type": "fragment"
    }
   },
   "outputs": [
    {
     "data": {
      "text/plain": [
       "('sat', {'s': ('hello', 'String')})"
      ]
     },
     "execution_count": 159,
     "metadata": {},
     "output_type": "execute_result"
    }
   ],
   "source": [
    "_.zeval()"
   ]
  },
  {
   "cell_type": "code",
   "execution_count": 160,
   "metadata": {
    "execution": {
     "iopub.execute_input": "2022-01-04T17:42:17.844663Z",
     "iopub.status.busy": "2022-01-04T17:42:17.844001Z",
     "iopub.status.idle": "2022-01-04T17:42:17.847801Z",
     "shell.execute_reply": "2022-01-04T17:42:17.847417Z"
    },
    "slideshow": {
     "slide_type": "fragment"
    }
   },
   "outputs": [],
   "source": [
    "with ConcolicTracer() as _:\n",
    "    r = _[tstr5]('my world')"
   ]
  },
  {
   "cell_type": "code",
   "execution_count": 161,
   "metadata": {
    "execution": {
     "iopub.execute_input": "2022-01-04T17:42:17.852365Z",
     "iopub.status.busy": "2022-01-04T17:42:17.851715Z",
     "iopub.status.idle": "2022-01-04T17:42:17.895034Z",
     "shell.execute_reply": "2022-01-04T17:42:17.895443Z"
    },
    "slideshow": {
     "slide_type": "fragment"
    }
   },
   "outputs": [
    {
     "data": {
      "text/plain": [
       "('sat', {'s': ('', 'String')})"
      ]
     },
     "execution_count": 161,
     "metadata": {},
     "output_type": "execute_result"
    }
   ],
   "source": [
    "_.zeval()"
   ]
  },
  {
   "cell_type": "markdown",
   "metadata": {
    "slideshow": {
     "slide_type": "subslide"
    }
   },
   "source": [
    "As before, the predicates only ensure that the `startswith()` returned a true value. Hence, our solution reflects that."
   ]
  },
  {
   "cell_type": "markdown",
   "metadata": {
    "slideshow": {
     "slide_type": "subslide"
    }
   },
   "source": [
    "##### Finding Substrings\n",
    "We also define `find()`"
   ]
  },
  {
   "cell_type": "code",
   "execution_count": 162,
   "metadata": {
    "execution": {
     "iopub.execute_input": "2022-01-04T17:42:17.902822Z",
     "iopub.status.busy": "2022-01-04T17:42:17.901929Z",
     "iopub.status.idle": "2022-01-04T17:42:17.904300Z",
     "shell.execute_reply": "2022-01-04T17:42:17.904833Z"
    },
    "slideshow": {
     "slide_type": "fragment"
    }
   },
   "outputs": [],
   "source": [
    "class zstr(zstr):\n",
    "    def find(self, other, beg=0, end=None):\n",
    "        assert end is None  # for now\n",
    "        assert isinstance(beg, int)  # for now\n",
    "        zb = z3.IntVal(beg)\n",
    "        z, v = self._zv(other)\n",
    "        zi = z3.IndexOf(self.z, z, zb)\n",
    "        vi = self.v.find(v, beg, end)\n",
    "        return zint(self.context, zi, vi)"
   ]
  },
  {
   "cell_type": "markdown",
   "metadata": {
    "slideshow": {
     "slide_type": "fragment"
    }
   },
   "source": [
    "An example."
   ]
  },
  {
   "cell_type": "code",
   "execution_count": 163,
   "metadata": {
    "execution": {
     "iopub.execute_input": "2022-01-04T17:42:17.908929Z",
     "iopub.status.busy": "2022-01-04T17:42:17.908378Z",
     "iopub.status.idle": "2022-01-04T17:42:17.910086Z",
     "shell.execute_reply": "2022-01-04T17:42:17.910543Z"
    },
    "slideshow": {
     "slide_type": "subslide"
    }
   },
   "outputs": [],
   "source": [
    "def tstr6(s):\n",
    "    if s.find('world') != -1:\n",
    "        return True\n",
    "    else:\n",
    "        return False"
   ]
  },
  {
   "cell_type": "code",
   "execution_count": 164,
   "metadata": {
    "execution": {
     "iopub.execute_input": "2022-01-04T17:42:17.915318Z",
     "iopub.status.busy": "2022-01-04T17:42:17.914568Z",
     "iopub.status.idle": "2022-01-04T17:42:17.917606Z",
     "shell.execute_reply": "2022-01-04T17:42:17.918115Z"
    },
    "slideshow": {
     "slide_type": "fragment"
    }
   },
   "outputs": [],
   "source": [
    "with ConcolicTracer() as _:\n",
    "    r = _[tstr6]('hello world')"
   ]
  },
  {
   "cell_type": "code",
   "execution_count": 165,
   "metadata": {
    "execution": {
     "iopub.execute_input": "2022-01-04T17:42:17.923288Z",
     "iopub.status.busy": "2022-01-04T17:42:17.922391Z",
     "iopub.status.idle": "2022-01-04T17:42:17.968926Z",
     "shell.execute_reply": "2022-01-04T17:42:17.969936Z"
    },
    "slideshow": {
     "slide_type": "fragment"
    }
   },
   "outputs": [
    {
     "data": {
      "text/plain": [
       "('sat', {'s': ('world', 'String')})"
      ]
     },
     "execution_count": 165,
     "metadata": {},
     "output_type": "execute_result"
    }
   ],
   "source": [
    "_.zeval()"
   ]
  },
  {
   "cell_type": "markdown",
   "metadata": {
    "slideshow": {
     "slide_type": "fragment"
    }
   },
   "source": [
    "As before, the predicates only ensure that the `find()` returned a value greater than -1. Hence, our solution reflects that."
   ]
  },
  {
   "cell_type": "markdown",
   "metadata": {
    "slideshow": {
     "slide_type": "subslide"
    }
   },
   "source": [
    "##### Remove Space from Ends"
   ]
  },
  {
   "cell_type": "markdown",
   "metadata": {
    "slideshow": {
     "slide_type": "fragment"
    }
   },
   "source": [
    "We next implement `strip()`."
   ]
  },
  {
   "cell_type": "code",
   "execution_count": 166,
   "metadata": {
    "execution": {
     "iopub.execute_input": "2022-01-04T17:42:17.976712Z",
     "iopub.status.busy": "2022-01-04T17:42:17.976077Z",
     "iopub.status.idle": "2022-01-04T17:42:17.978544Z",
     "shell.execute_reply": "2022-01-04T17:42:17.977976Z"
    },
    "slideshow": {
     "slide_type": "skip"
    }
   },
   "outputs": [],
   "source": [
    "import string"
   ]
  },
  {
   "cell_type": "code",
   "execution_count": 167,
   "metadata": {
    "execution": {
     "iopub.execute_input": "2022-01-04T17:42:17.987696Z",
     "iopub.status.busy": "2022-01-04T17:42:17.986419Z",
     "iopub.status.idle": "2022-01-04T17:42:17.989162Z",
     "shell.execute_reply": "2022-01-04T17:42:17.989604Z"
    },
    "slideshow": {
     "slide_type": "subslide"
    }
   },
   "outputs": [],
   "source": [
    "class zstr(zstr):\n",
    "    def rstrip(self, chars=None):\n",
    "        if chars is None:\n",
    "            chars = string.whitespace\n",
    "        if self._len == 0:\n",
    "            return self\n",
    "        else:\n",
    "            last_idx = self._len - 1\n",
    "            cz = z3.SubString(self.z, last_idx.z, 1)\n",
    "            cv = self.v[-1]\n",
    "            zcheck_space = z3.Or([cz == z3.StringVal(char) for char in chars])\n",
    "            vcheck_space = any(cv == char for char in chars)\n",
    "            if zbool(self.context, zcheck_space, vcheck_space):\n",
    "                return zstr(self.context, z3.SubString(self.z, 0, last_idx.z),\n",
    "                            self.v[0:-1]).rstrip(chars)\n",
    "            else:\n",
    "                return self"
   ]
  },
  {
   "cell_type": "code",
   "execution_count": 168,
   "metadata": {
    "execution": {
     "iopub.execute_input": "2022-01-04T17:42:17.995786Z",
     "iopub.status.busy": "2022-01-04T17:42:17.994805Z",
     "iopub.status.idle": "2022-01-04T17:42:17.997043Z",
     "shell.execute_reply": "2022-01-04T17:42:17.997625Z"
    },
    "slideshow": {
     "slide_type": "subslide"
    }
   },
   "outputs": [],
   "source": [
    "def tstr7(s):\n",
    "    if s.rstrip(' ') == 'a b':\n",
    "        return True\n",
    "    else:\n",
    "        return False"
   ]
  },
  {
   "cell_type": "code",
   "execution_count": 169,
   "metadata": {
    "execution": {
     "iopub.execute_input": "2022-01-04T17:42:18.003678Z",
     "iopub.status.busy": "2022-01-04T17:42:18.002496Z",
     "iopub.status.idle": "2022-01-04T17:42:18.010152Z",
     "shell.execute_reply": "2022-01-04T17:42:18.011196Z"
    },
    "slideshow": {
     "slide_type": "fragment"
    }
   },
   "outputs": [
    {
     "name": "stdout",
     "output_type": "stream",
     "text": [
      "True\n"
     ]
    }
   ],
   "source": [
    "with ConcolicTracer() as _:\n",
    "    r = _[tstr7]('a b   ')\n",
    "    print(r)"
   ]
  },
  {
   "cell_type": "code",
   "execution_count": 170,
   "metadata": {
    "execution": {
     "iopub.execute_input": "2022-01-04T17:42:18.015963Z",
     "iopub.status.busy": "2022-01-04T17:42:18.015149Z",
     "iopub.status.idle": "2022-01-04T17:42:18.078635Z",
     "shell.execute_reply": "2022-01-04T17:42:18.079088Z"
    },
    "slideshow": {
     "slide_type": "fragment"
    }
   },
   "outputs": [
    {
     "data": {
      "text/plain": [
       "('sat', {'s': ('a b   ', 'String')})"
      ]
     },
     "execution_count": 170,
     "metadata": {},
     "output_type": "execute_result"
    }
   ],
   "source": [
    "_.zeval()"
   ]
  },
  {
   "cell_type": "code",
   "execution_count": 171,
   "metadata": {
    "execution": {
     "iopub.execute_input": "2022-01-04T17:42:18.088197Z",
     "iopub.status.busy": "2022-01-04T17:42:18.087555Z",
     "iopub.status.idle": "2022-01-04T17:42:18.089435Z",
     "shell.execute_reply": "2022-01-04T17:42:18.089830Z"
    },
    "slideshow": {
     "slide_type": "subslide"
    }
   },
   "outputs": [],
   "source": [
    "class zstr(zstr):\n",
    "    def lstrip(self, chars=None):\n",
    "        if chars is None:\n",
    "            chars = string.whitespace\n",
    "        if self._len == 0:\n",
    "            return self\n",
    "        else:\n",
    "            first_idx = 0\n",
    "            cz = z3.SubString(self.z, 0, 1)\n",
    "            cv = self.v[0]\n",
    "            zcheck_space = z3.Or([cz == z3.StringVal(char) for char in chars])\n",
    "            vcheck_space = any(cv == char for char in chars)\n",
    "            if zbool(self.context, zcheck_space, vcheck_space):\n",
    "                return zstr(self.context, z3.SubString(\n",
    "                    self.z, 1, self._len.z), self.v[1:]).lstrip(chars)\n",
    "            else:\n",
    "                return self"
   ]
  },
  {
   "cell_type": "code",
   "execution_count": 172,
   "metadata": {
    "execution": {
     "iopub.execute_input": "2022-01-04T17:42:18.094806Z",
     "iopub.status.busy": "2022-01-04T17:42:18.093943Z",
     "iopub.status.idle": "2022-01-04T17:42:18.095851Z",
     "shell.execute_reply": "2022-01-04T17:42:18.096245Z"
    },
    "slideshow": {
     "slide_type": "subslide"
    }
   },
   "outputs": [],
   "source": [
    "def tstr8(s):\n",
    "    if s.lstrip(' ') == 'a b':\n",
    "        return True\n",
    "    else:\n",
    "        return False"
   ]
  },
  {
   "cell_type": "code",
   "execution_count": 173,
   "metadata": {
    "execution": {
     "iopub.execute_input": "2022-01-04T17:42:18.101219Z",
     "iopub.status.busy": "2022-01-04T17:42:18.100480Z",
     "iopub.status.idle": "2022-01-04T17:42:18.105879Z",
     "shell.execute_reply": "2022-01-04T17:42:18.106243Z"
    },
    "slideshow": {
     "slide_type": "fragment"
    }
   },
   "outputs": [
    {
     "name": "stdout",
     "output_type": "stream",
     "text": [
      "True\n"
     ]
    }
   ],
   "source": [
    "with ConcolicTracer() as _:\n",
    "    r = _[tstr8]('   a b')\n",
    "    print(r)"
   ]
  },
  {
   "cell_type": "code",
   "execution_count": 174,
   "metadata": {
    "execution": {
     "iopub.execute_input": "2022-01-04T17:42:18.110322Z",
     "iopub.status.busy": "2022-01-04T17:42:18.109697Z",
     "iopub.status.idle": "2022-01-04T17:42:18.165528Z",
     "shell.execute_reply": "2022-01-04T17:42:18.166234Z"
    },
    "slideshow": {
     "slide_type": "fragment"
    }
   },
   "outputs": [
    {
     "data": {
      "text/plain": [
       "('sat', {'s': ('   a b', 'String')})"
      ]
     },
     "execution_count": 174,
     "metadata": {},
     "output_type": "execute_result"
    }
   ],
   "source": [
    "_.zeval()"
   ]
  },
  {
   "cell_type": "code",
   "execution_count": 175,
   "metadata": {
    "execution": {
     "iopub.execute_input": "2022-01-04T17:42:18.174349Z",
     "iopub.status.busy": "2022-01-04T17:42:18.172773Z",
     "iopub.status.idle": "2022-01-04T17:42:18.175818Z",
     "shell.execute_reply": "2022-01-04T17:42:18.176865Z"
    },
    "slideshow": {
     "slide_type": "fragment"
    }
   },
   "outputs": [],
   "source": [
    "class zstr(zstr):\n",
    "    def strip(self, chars=None):\n",
    "        return self.lstrip(chars).rstrip(chars)"
   ]
  },
  {
   "cell_type": "markdown",
   "metadata": {
    "slideshow": {
     "slide_type": "subslide"
    }
   },
   "source": [
    "Example usage."
   ]
  },
  {
   "cell_type": "code",
   "execution_count": 176,
   "metadata": {
    "execution": {
     "iopub.execute_input": "2022-01-04T17:42:18.184365Z",
     "iopub.status.busy": "2022-01-04T17:42:18.182589Z",
     "iopub.status.idle": "2022-01-04T17:42:18.186457Z",
     "shell.execute_reply": "2022-01-04T17:42:18.187142Z"
    },
    "slideshow": {
     "slide_type": "fragment"
    }
   },
   "outputs": [],
   "source": [
    "def tstr9(s):\n",
    "    if s.strip() == 'a b':\n",
    "        return True\n",
    "    else:\n",
    "        return False"
   ]
  },
  {
   "cell_type": "code",
   "execution_count": 177,
   "metadata": {
    "execution": {
     "iopub.execute_input": "2022-01-04T17:42:18.194091Z",
     "iopub.status.busy": "2022-01-04T17:42:18.192747Z",
     "iopub.status.idle": "2022-01-04T17:42:18.210408Z",
     "shell.execute_reply": "2022-01-04T17:42:18.211194Z"
    },
    "slideshow": {
     "slide_type": "fragment"
    }
   },
   "outputs": [
    {
     "name": "stdout",
     "output_type": "stream",
     "text": [
      "True\n"
     ]
    }
   ],
   "source": [
    "with ConcolicTracer() as _:\n",
    "    r = _[tstr9]('    a b  ')\n",
    "    print(r)"
   ]
  },
  {
   "cell_type": "code",
   "execution_count": 178,
   "metadata": {
    "execution": {
     "iopub.execute_input": "2022-01-04T17:42:18.218380Z",
     "iopub.status.busy": "2022-01-04T17:42:18.216785Z",
     "iopub.status.idle": "2022-01-04T17:42:18.293629Z",
     "shell.execute_reply": "2022-01-04T17:42:18.294233Z"
    },
    "slideshow": {
     "slide_type": "fragment"
    }
   },
   "outputs": [
    {
     "data": {
      "text/plain": [
       "('sat', {'s': ('\\\\n\\\\n\\\\f\\\\fa b \\\\f', 'String')})"
      ]
     },
     "execution_count": 178,
     "metadata": {},
     "output_type": "execute_result"
    }
   ],
   "source": [
    "_.zeval()"
   ]
  },
  {
   "cell_type": "markdown",
   "metadata": {
    "slideshow": {
     "slide_type": "fragment"
    }
   },
   "source": [
    "The `strip()` has generated the right constraints. "
   ]
  },
  {
   "cell_type": "markdown",
   "metadata": {
    "slideshow": {
     "slide_type": "subslide"
    }
   },
   "source": [
    "##### Splitting Strings\n",
    "\n",
    "We implement string `split()` as follows."
   ]
  },
  {
   "cell_type": "code",
   "execution_count": 179,
   "metadata": {
    "execution": {
     "iopub.execute_input": "2022-01-04T17:42:18.305034Z",
     "iopub.status.busy": "2022-01-04T17:42:18.303975Z",
     "iopub.status.idle": "2022-01-04T17:42:18.306815Z",
     "shell.execute_reply": "2022-01-04T17:42:18.307220Z"
    },
    "slideshow": {
     "slide_type": "subslide"
    }
   },
   "outputs": [],
   "source": [
    "class zstr(zstr):\n",
    "    def split(self, sep=None, maxsplit=-1):\n",
    "        assert sep is not None  # default space based split is complicated\n",
    "        assert maxsplit == -1  # for now.\n",
    "        zsep = z3.StringVal(sep)\n",
    "        zl = z3.Length(zsep)\n",
    "        # zi would be the length of prefix\n",
    "        zi = z3.IndexOf(self.z, zsep, z3.IntVal(0))\n",
    "        # Z3Bug: There is a bug in the `z3.IndexOf` method which returns\n",
    "        # `z3.SeqRef` instead of `z3.ArithRef`. So we need to fix it.\n",
    "        zi = z3.ArithRef(zi.ast, zi.ctx)\n",
    "\n",
    "        vi = self.v.find(sep)\n",
    "        if zbool(self.context, zi >= z3.IntVal(0), vi >= 0):\n",
    "            zprefix = z3.SubString(self.z, z3.IntVal(0), zi)\n",
    "            zmid = z3.SubString(self.z, zi, zl)\n",
    "            zsuffix = z3.SubString(self.z, zi + zl,\n",
    "                                   z3.Length(self.z))\n",
    "            return [zstr(self.context, zprefix, self.v[0:vi])] + zstr(\n",
    "                self.context, zsuffix, self.v[vi + len(sep):]).split(\n",
    "                    sep, maxsplit)\n",
    "        else:\n",
    "            return [self]"
   ]
  },
  {
   "cell_type": "code",
   "execution_count": 180,
   "metadata": {
    "execution": {
     "iopub.execute_input": "2022-01-04T17:42:18.311181Z",
     "iopub.status.busy": "2022-01-04T17:42:18.310634Z",
     "iopub.status.idle": "2022-01-04T17:42:18.313077Z",
     "shell.execute_reply": "2022-01-04T17:42:18.312520Z"
    },
    "slideshow": {
     "slide_type": "subslide"
    }
   },
   "outputs": [],
   "source": [
    "def tstr10(s):\n",
    "    if s.split(',') == ['a', 'b', 'c']:\n",
    "        return True\n",
    "    else:\n",
    "        return False"
   ]
  },
  {
   "cell_type": "code",
   "execution_count": 181,
   "metadata": {
    "execution": {
     "iopub.execute_input": "2022-01-04T17:42:18.319064Z",
     "iopub.status.busy": "2022-01-04T17:42:18.318238Z",
     "iopub.status.idle": "2022-01-04T17:42:18.323179Z",
     "shell.execute_reply": "2022-01-04T17:42:18.323627Z"
    },
    "slideshow": {
     "slide_type": "fragment"
    }
   },
   "outputs": [
    {
     "name": "stdout",
     "output_type": "stream",
     "text": [
      "True\n"
     ]
    }
   ],
   "source": [
    "with ConcolicTracer() as _:\n",
    "    r = _[tstr10]('a,b,c')\n",
    "    print(r)"
   ]
  },
  {
   "cell_type": "code",
   "execution_count": 182,
   "metadata": {
    "execution": {
     "iopub.execute_input": "2022-01-04T17:42:18.328068Z",
     "iopub.status.busy": "2022-01-04T17:42:18.327306Z",
     "iopub.status.idle": "2022-01-04T17:42:18.383731Z",
     "shell.execute_reply": "2022-01-04T17:42:18.384614Z"
    },
    "slideshow": {
     "slide_type": "fragment"
    }
   },
   "outputs": [
    {
     "data": {
      "text/plain": [
       "('sat', {'s': ('a,b,c', 'String')})"
      ]
     },
     "execution_count": 182,
     "metadata": {},
     "output_type": "execute_result"
    }
   ],
   "source": [
    "_.zeval()"
   ]
  },
  {
   "cell_type": "markdown",
   "metadata": {
    "slideshow": {
     "slide_type": "subslide"
    }
   },
   "source": [
    "##### Trip Wire\n",
    "\n",
    "For easier debugging, we abort any calls to methods in `str` that are not overridden by `zstr`."
   ]
  },
  {
   "cell_type": "code",
   "execution_count": 183,
   "metadata": {
    "execution": {
     "iopub.execute_input": "2022-01-04T17:42:18.389978Z",
     "iopub.status.busy": "2022-01-04T17:42:18.389409Z",
     "iopub.status.idle": "2022-01-04T17:42:18.391462Z",
     "shell.execute_reply": "2022-01-04T17:42:18.391856Z"
    },
    "slideshow": {
     "slide_type": "fragment"
    }
   },
   "outputs": [],
   "source": [
    "def make_str_abort_wrapper(fun):\n",
    "    def proxy(*args, **kwargs):\n",
    "        raise Exception('%s Not implemented in `zstr`' % fun.__name__)\n",
    "    return proxy"
   ]
  },
  {
   "cell_type": "code",
   "execution_count": 184,
   "metadata": {
    "execution": {
     "iopub.execute_input": "2022-01-04T17:42:18.398434Z",
     "iopub.status.busy": "2022-01-04T17:42:18.397717Z",
     "iopub.status.idle": "2022-01-04T17:42:18.400801Z",
     "shell.execute_reply": "2022-01-04T17:42:18.399931Z"
    },
    "slideshow": {
     "slide_type": "subslide"
    }
   },
   "outputs": [],
   "source": [
    "def init_concolic_3():\n",
    "    strmembers = inspect.getmembers(zstr, callable)\n",
    "    zstrmembers = {m[0] for m in strmembers if len(\n",
    "        m) == 2 and 'zstr' in m[1].__qualname__}\n",
    "    for name, fn in inspect.getmembers(str, callable):\n",
    "        # Omitted 'splitlines' as this is needed for formatting output in\n",
    "        # IPython/Jupyter\n",
    "        if name not in zstrmembers and name not in [\n",
    "            'splitlines',\n",
    "            '__class__',\n",
    "            '__contains__',\n",
    "            '__delattr__',\n",
    "            '__dir__',\n",
    "            '__format__',\n",
    "            '__ge__',\n",
    "            '__getattribute__',\n",
    "            '__getnewargs__',\n",
    "            '__gt__',\n",
    "            '__hash__',\n",
    "            '__le__',\n",
    "            '__len__',\n",
    "            '__lt__',\n",
    "            '__mod__',\n",
    "            '__mul__',\n",
    "            '__ne__',\n",
    "            '__reduce__',\n",
    "            '__reduce_ex__',\n",
    "            '__repr__',\n",
    "            '__rmod__',\n",
    "            '__rmul__',\n",
    "            '__setattr__',\n",
    "            '__sizeof__',\n",
    "                '__str__']:\n",
    "            setattr(zstr, name, make_str_abort_wrapper(fn))"
   ]
  },
  {
   "cell_type": "code",
   "execution_count": 185,
   "metadata": {
    "execution": {
     "iopub.execute_input": "2022-01-04T17:42:18.404591Z",
     "iopub.status.busy": "2022-01-04T17:42:18.403898Z",
     "iopub.status.idle": "2022-01-04T17:42:18.405687Z",
     "shell.execute_reply": "2022-01-04T17:42:18.406083Z"
    },
    "slideshow": {
     "slide_type": "subslide"
    }
   },
   "outputs": [],
   "source": [
    "INITIALIZER_LIST.append(init_concolic_3)"
   ]
  },
  {
   "cell_type": "code",
   "execution_count": 186,
   "metadata": {
    "execution": {
     "iopub.execute_input": "2022-01-04T17:42:18.410861Z",
     "iopub.status.busy": "2022-01-04T17:42:18.410212Z",
     "iopub.status.idle": "2022-01-04T17:42:18.411779Z",
     "shell.execute_reply": "2022-01-04T17:42:18.412252Z"
    },
    "slideshow": {
     "slide_type": "fragment"
    },
    "tags": []
   },
   "outputs": [],
   "source": [
    "init_concolic_3()"
   ]
  },
  {
   "cell_type": "markdown",
   "metadata": {
    "slideshow": {
     "slide_type": "subslide"
    }
   },
   "source": [
    "### End of Excursion"
   ]
  },
  {
   "cell_type": "markdown",
   "metadata": {
    "slideshow": {
     "slide_type": "subslide"
    }
   },
   "source": [
    "### Example: Triangle\n",
    "\n",
    "We previously showed how to run `triangle()` under `ConcolicTracer`."
   ]
  },
  {
   "cell_type": "code",
   "execution_count": 187,
   "metadata": {
    "execution": {
     "iopub.execute_input": "2022-01-04T17:42:18.416296Z",
     "iopub.status.busy": "2022-01-04T17:42:18.415703Z",
     "iopub.status.idle": "2022-01-04T17:42:18.419883Z",
     "shell.execute_reply": "2022-01-04T17:42:18.420348Z"
    },
    "slideshow": {
     "slide_type": "fragment"
    }
   },
   "outputs": [
    {
     "name": "stdout",
     "output_type": "stream",
     "text": [
      "scalene\n"
     ]
    }
   ],
   "source": [
    "with ConcolicTracer() as _:\n",
    "    print(_[triangle](1, 2, 3))"
   ]
  },
  {
   "cell_type": "markdown",
   "metadata": {
    "slideshow": {
     "slide_type": "fragment"
    }
   },
   "source": [
    "The symbolic variables are as follows:"
   ]
  },
  {
   "cell_type": "code",
   "execution_count": 188,
   "metadata": {
    "execution": {
     "iopub.execute_input": "2022-01-04T17:42:18.424831Z",
     "iopub.status.busy": "2022-01-04T17:42:18.424189Z",
     "iopub.status.idle": "2022-01-04T17:42:18.426787Z",
     "shell.execute_reply": "2022-01-04T17:42:18.427186Z"
    },
    "slideshow": {
     "slide_type": "fragment"
    },
    "tags": []
   },
   "outputs": [
    {
     "data": {
      "text/plain": [
       "{'triangle_a_int_1': 'Int',\n",
       " 'triangle_b_int_2': 'Int',\n",
       " 'triangle_c_int_3': 'Int'}"
      ]
     },
     "execution_count": 188,
     "metadata": {},
     "output_type": "execute_result"
    }
   ],
   "source": [
    "_.decls"
   ]
  },
  {
   "cell_type": "markdown",
   "metadata": {
    "slideshow": {
     "slide_type": "fragment"
    }
   },
   "source": [
    "The predicates are as follows:"
   ]
  },
  {
   "cell_type": "code",
   "execution_count": 189,
   "metadata": {
    "execution": {
     "iopub.execute_input": "2022-01-04T17:42:18.431499Z",
     "iopub.status.busy": "2022-01-04T17:42:18.430929Z",
     "iopub.status.idle": "2022-01-04T17:42:18.436572Z",
     "shell.execute_reply": "2022-01-04T17:42:18.436983Z"
    },
    "slideshow": {
     "slide_type": "subslide"
    }
   },
   "outputs": [
    {
     "data": {
      "text/plain": [
       "[Not(triangle_a_int_1 == triangle_b_int_2),\n",
       " Not(triangle_b_int_2 == triangle_c_int_3),\n",
       " Not(triangle_a_int_1 == triangle_c_int_3)]"
      ]
     },
     "execution_count": 189,
     "metadata": {},
     "output_type": "execute_result"
    }
   ],
   "source": [
    "_.path"
   ]
  },
  {
   "cell_type": "markdown",
   "metadata": {
    "slideshow": {
     "slide_type": "fragment"
    }
   },
   "source": [
    "Using `zeval()`, we solve these path conditions and obtain a solution. We find that Z3 gives us three distinct integer values:"
   ]
  },
  {
   "cell_type": "code",
   "execution_count": 190,
   "metadata": {
    "execution": {
     "iopub.execute_input": "2022-01-04T17:42:18.442087Z",
     "iopub.status.busy": "2022-01-04T17:42:18.441110Z",
     "iopub.status.idle": "2022-01-04T17:42:18.485282Z",
     "shell.execute_reply": "2022-01-04T17:42:18.485993Z"
    },
    "slideshow": {
     "slide_type": "fragment"
    }
   },
   "outputs": [
    {
     "data": {
      "text/plain": [
       "('sat',\n",
       " {'a': ('0', 'Int'), 'b': (['-', '2'], 'Int'), 'c': (['-', '1'], 'Int')})"
      ]
     },
     "execution_count": 190,
     "metadata": {},
     "output_type": "execute_result"
    }
   ],
   "source": [
    "_.zeval()"
   ]
  },
  {
   "cell_type": "markdown",
   "metadata": {
    "slideshow": {
     "slide_type": "fragment"
    }
   },
   "source": [
    "(Note that some of the values may be negative. Indeed, `triangle()` works with negative length values, too, even if real triangles only have positive lengths.)"
   ]
  },
  {
   "cell_type": "markdown",
   "metadata": {
    "slideshow": {
     "slide_type": "fragment"
    }
   },
   "source": [
    "If we invoke `triangle()` with these very values, we take the _exact same path_ as the original input:"
   ]
  },
  {
   "cell_type": "code",
   "execution_count": 191,
   "metadata": {
    "execution": {
     "iopub.execute_input": "2022-01-04T17:42:18.492557Z",
     "iopub.status.busy": "2022-01-04T17:42:18.491903Z",
     "iopub.status.idle": "2022-01-04T17:42:18.494475Z",
     "shell.execute_reply": "2022-01-04T17:42:18.494875Z"
    },
    "slideshow": {
     "slide_type": "subslide"
    }
   },
   "outputs": [
    {
     "data": {
      "text/plain": [
       "'scalene'"
      ]
     },
     "execution_count": 191,
     "metadata": {},
     "output_type": "execute_result"
    }
   ],
   "source": [
    "triangle(0, -2, -1)"
   ]
  },
  {
   "cell_type": "markdown",
   "metadata": {
    "slideshow": {
     "slide_type": "fragment"
    }
   },
   "source": [
    "We can have z3 _negate_ individual conditions – and thus take different paths.\n",
    "First, we retrieve the symbolic variables."
   ]
  },
  {
   "cell_type": "code",
   "execution_count": 192,
   "metadata": {
    "execution": {
     "iopub.execute_input": "2022-01-04T17:42:18.500178Z",
     "iopub.status.busy": "2022-01-04T17:42:18.499453Z",
     "iopub.status.idle": "2022-01-04T17:42:18.502171Z",
     "shell.execute_reply": "2022-01-04T17:42:18.502652Z"
    },
    "slideshow": {
     "slide_type": "fragment"
    }
   },
   "outputs": [],
   "source": [
    "za, zb, zc = [z3.Int(s) for s in _.decls.keys()]"
   ]
  },
  {
   "cell_type": "code",
   "execution_count": 193,
   "metadata": {
    "execution": {
     "iopub.execute_input": "2022-01-04T17:42:18.509800Z",
     "iopub.status.busy": "2022-01-04T17:42:18.508604Z",
     "iopub.status.idle": "2022-01-04T17:42:18.512521Z",
     "shell.execute_reply": "2022-01-04T17:42:18.512928Z"
    },
    "slideshow": {
     "slide_type": "fragment"
    }
   },
   "outputs": [
    {
     "data": {
      "text/plain": [
       "(triangle_a_int_1, triangle_b_int_2, triangle_c_int_3)"
      ]
     },
     "execution_count": 193,
     "metadata": {},
     "output_type": "execute_result"
    }
   ],
   "source": [
    "za, zb, zc"
   ]
  },
  {
   "cell_type": "markdown",
   "metadata": {
    "slideshow": {
     "slide_type": "fragment"
    }
   },
   "source": [
    "Then, we pass a negated predicate to `zeval()`. The key (here: `1`) determines which predicate the new predicate will replace."
   ]
  },
  {
   "cell_type": "code",
   "execution_count": 194,
   "metadata": {
    "execution": {
     "iopub.execute_input": "2022-01-04T17:42:18.517869Z",
     "iopub.status.busy": "2022-01-04T17:42:18.516783Z",
     "iopub.status.idle": "2022-01-04T17:42:18.559517Z",
     "shell.execute_reply": "2022-01-04T17:42:18.558943Z"
    },
    "slideshow": {
     "slide_type": "fragment"
    }
   },
   "outputs": [
    {
     "data": {
      "text/plain": [
       "('sat', {'a': ('1', 'Int'), 'b': ('0', 'Int'), 'c': ('0', 'Int')})"
      ]
     },
     "execution_count": 194,
     "metadata": {},
     "output_type": "execute_result"
    }
   ],
   "source": [
    "_.zeval({1: zb == zc})"
   ]
  },
  {
   "cell_type": "code",
   "execution_count": 195,
   "metadata": {
    "execution": {
     "iopub.execute_input": "2022-01-04T17:42:18.564744Z",
     "iopub.status.busy": "2022-01-04T17:42:18.563949Z",
     "iopub.status.idle": "2022-01-04T17:42:18.567303Z",
     "shell.execute_reply": "2022-01-04T17:42:18.567743Z"
    },
    "slideshow": {
     "slide_type": "fragment"
    }
   },
   "outputs": [
    {
     "data": {
      "text/plain": [
       "'isosceles'"
      ]
     },
     "execution_count": 195,
     "metadata": {},
     "output_type": "execute_result"
    }
   ],
   "source": [
    "triangle(1, 0, 1)"
   ]
  },
  {
   "cell_type": "markdown",
   "metadata": {
    "slideshow": {
     "slide_type": "subslide"
    }
   },
   "source": [
    "The updated predicate returns `isosceles` as expected. By negating further conditions, we can systematically explore all branches in `triangle()`."
   ]
  },
  {
   "cell_type": "markdown",
   "metadata": {
    "slideshow": {
     "slide_type": "subslide"
    }
   },
   "source": [
    "### Example: Decoding CGI Strings"
   ]
  },
  {
   "cell_type": "markdown",
   "metadata": {
    "slideshow": {
     "slide_type": "fragment"
    }
   },
   "source": [
    "Let us apply `ConcolicTracer` on our example program `cgi_decode()` from the [chapter on coverage](Coverage.ipynb). Note that we need to rewrite its code slightly, as the hash lookups in `hex_values` can not be used for transferring constraints yet."
   ]
  },
  {
   "cell_type": "code",
   "execution_count": 196,
   "metadata": {
    "execution": {
     "iopub.execute_input": "2022-01-04T17:42:18.576783Z",
     "iopub.status.busy": "2022-01-04T17:42:18.576022Z",
     "iopub.status.idle": "2022-01-04T17:42:18.579487Z",
     "shell.execute_reply": "2022-01-04T17:42:18.579072Z"
    },
    "slideshow": {
     "slide_type": "subslide"
    }
   },
   "outputs": [],
   "source": [
    "def cgi_decode(s):\n",
    "    \"\"\"Decode the CGI-encoded string `s`:\n",
    "       * replace \"+\" by \" \"\n",
    "       * replace \"%xx\" by the character with hex number xx.\n",
    "       Return the decoded string.  Raise `ValueError` for invalid inputs.\"\"\"\n",
    "\n",
    "    # Mapping of hex digits to their integer values\n",
    "    hex_values = {\n",
    "        '0': 0, '1': 1, '2': 2, '3': 3, '4': 4,\n",
    "        '5': 5, '6': 6, '7': 7, '8': 8, '9': 9,\n",
    "        'a': 10, 'b': 11, 'c': 12, 'd': 13, 'e': 14, 'f': 15,\n",
    "        'A': 10, 'B': 11, 'C': 12, 'D': 13, 'E': 14, 'F': 15,\n",
    "    }\n",
    "\n",
    "    t = ''\n",
    "    i = 0\n",
    "    while i < len(s):\n",
    "        c = s[i]\n",
    "        if c == '+':\n",
    "            t += ' '\n",
    "        elif c == '%':\n",
    "            digit_high, digit_low = s[i + 1], s[i + 2]\n",
    "            i = i + 2\n",
    "            found = 0\n",
    "            v = 0\n",
    "            for key in hex_values:\n",
    "                if key == digit_high:\n",
    "                    found = found + 1\n",
    "                    v = hex_values[key] * 16\n",
    "                    break\n",
    "            for key in hex_values:\n",
    "                if key == digit_low:\n",
    "                    found = found + 1\n",
    "                    v = v + hex_values[key]\n",
    "                    break\n",
    "            if found == 2:\n",
    "                if v >= 128:\n",
    "                    # z3.StringVal(urllib.parse.unquote('%80')) <-- bug in z3\n",
    "                    raise ValueError(\"Invalid encoding\")\n",
    "                t = t + chr(v)\n",
    "            else:\n",
    "                raise ValueError(\"Invalid encoding\")\n",
    "        else:\n",
    "            t = t + c\n",
    "        i = i + 1\n",
    "    return t"
   ]
  },
  {
   "cell_type": "code",
   "execution_count": 197,
   "metadata": {
    "execution": {
     "iopub.execute_input": "2022-01-04T17:42:18.584787Z",
     "iopub.status.busy": "2022-01-04T17:42:18.583536Z",
     "iopub.status.idle": "2022-01-04T17:42:18.590056Z",
     "shell.execute_reply": "2022-01-04T17:42:18.590498Z"
    },
    "slideshow": {
     "slide_type": "subslide"
    }
   },
   "outputs": [],
   "source": [
    "with ConcolicTracer() as _:\n",
    "    _[cgi_decode]('a%20d')"
   ]
  },
  {
   "cell_type": "markdown",
   "metadata": {
    "slideshow": {
     "slide_type": "fragment"
    }
   },
   "source": [
    "Once executed, we can retrieve the symbolic variables in the `decls` attribute. This is a mapping of symbolic variables to types."
   ]
  },
  {
   "cell_type": "code",
   "execution_count": 198,
   "metadata": {
    "execution": {
     "iopub.execute_input": "2022-01-04T17:42:18.594665Z",
     "iopub.status.busy": "2022-01-04T17:42:18.594021Z",
     "iopub.status.idle": "2022-01-04T17:42:18.596490Z",
     "shell.execute_reply": "2022-01-04T17:42:18.596881Z"
    },
    "slideshow": {
     "slide_type": "fragment"
    }
   },
   "outputs": [
    {
     "data": {
      "text/plain": [
       "{'cgi_decode_s_str_1': 'String'}"
      ]
     },
     "execution_count": 198,
     "metadata": {},
     "output_type": "execute_result"
    }
   ],
   "source": [
    "_.decls"
   ]
  },
  {
   "cell_type": "markdown",
   "metadata": {
    "slideshow": {
     "slide_type": "fragment"
    }
   },
   "source": [
    "The extracted path conditions can be found in the `path` attribute:"
   ]
  },
  {
   "cell_type": "code",
   "execution_count": 199,
   "metadata": {
    "execution": {
     "iopub.execute_input": "2022-01-04T17:42:18.603350Z",
     "iopub.status.busy": "2022-01-04T17:42:18.602124Z",
     "iopub.status.idle": "2022-01-04T17:42:18.611398Z",
     "shell.execute_reply": "2022-01-04T17:42:18.611798Z"
    },
    "slideshow": {
     "slide_type": "subslide"
    }
   },
   "outputs": [
    {
     "data": {
      "text/plain": [
       "[Not(str.substr(cgi_decode_s_str_1, 0, 1) == \"+\"),\n",
       " Not(str.substr(cgi_decode_s_str_1, 0, 1) == \"%\"),\n",
       " Not(str.substr(cgi_decode_s_str_1, 1, 1) == \"+\"),\n",
       " str.substr(cgi_decode_s_str_1, 1, 1) == \"%\",\n",
       " Not(str.substr(cgi_decode_s_str_1, 2, 1) == \"0\"),\n",
       " Not(str.substr(cgi_decode_s_str_1, 2, 1) == \"1\"),\n",
       " str.substr(cgi_decode_s_str_1, 2, 1) == \"2\",\n",
       " str.substr(cgi_decode_s_str_1, 3, 1) == \"0\",\n",
       " Not(str.substr(cgi_decode_s_str_1, 4, 1) == \"+\"),\n",
       " Not(str.substr(cgi_decode_s_str_1, 4, 1) == \"%\")]"
      ]
     },
     "execution_count": 199,
     "metadata": {},
     "output_type": "execute_result"
    }
   ],
   "source": [
    "_.path"
   ]
  },
  {
   "cell_type": "markdown",
   "metadata": {
    "slideshow": {
     "slide_type": "fragment"
    }
   },
   "source": [
    "The `context` attribute holds a pair of `decls` and `path` attributes; this is useful for passing it into the `ConcolicTracer` constructor."
   ]
  },
  {
   "cell_type": "code",
   "execution_count": 200,
   "metadata": {
    "execution": {
     "iopub.execute_input": "2022-01-04T17:42:18.617310Z",
     "iopub.status.busy": "2022-01-04T17:42:18.615997Z",
     "iopub.status.idle": "2022-01-04T17:42:18.618667Z",
     "shell.execute_reply": "2022-01-04T17:42:18.619424Z"
    },
    "slideshow": {
     "slide_type": "fragment"
    }
   },
   "outputs": [],
   "source": [
    "assert _.context == (_.decls, _.path)"
   ]
  },
  {
   "cell_type": "markdown",
   "metadata": {
    "slideshow": {
     "slide_type": "subslide"
    }
   },
   "source": [
    "We can solve these constraints to obtain a value for the function parameters that follow the same path as the original (traced) invocation:"
   ]
  },
  {
   "cell_type": "code",
   "execution_count": 201,
   "metadata": {
    "execution": {
     "iopub.execute_input": "2022-01-04T17:42:18.624838Z",
     "iopub.status.busy": "2022-01-04T17:42:18.623830Z",
     "iopub.status.idle": "2022-01-04T17:42:18.714611Z",
     "shell.execute_reply": "2022-01-04T17:42:18.715684Z"
    },
    "slideshow": {
     "slide_type": "fragment"
    }
   },
   "outputs": [
    {
     "data": {
      "text/plain": [
       "('sat', {'s': ('\\\\x00%20', 'String')})"
      ]
     },
     "execution_count": 201,
     "metadata": {},
     "output_type": "execute_result"
    }
   ],
   "source": [
    "_.zeval()"
   ]
  },
  {
   "cell_type": "markdown",
   "metadata": {
    "slideshow": {
     "slide_type": "fragment"
    }
   },
   "source": [
    "_Negating_ some of these constraints will yield different paths taken, and thus greater code coverage. This is what our concolic fuzzers (see later) do. Let us go and negate the first constraint, namely that the first character should _not_ be a `+` character:"
   ]
  },
  {
   "cell_type": "code",
   "execution_count": 202,
   "metadata": {
    "execution": {
     "iopub.execute_input": "2022-01-04T17:42:18.723181Z",
     "iopub.status.busy": "2022-01-04T17:42:18.722403Z",
     "iopub.status.idle": "2022-01-04T17:42:18.729126Z",
     "shell.execute_reply": "2022-01-04T17:42:18.729582Z"
    },
    "slideshow": {
     "slide_type": "fragment"
    }
   },
   "outputs": [
    {
     "data": {
      "text/html": [
       "&not;(str.substr(cgi_decode_s_str_1, 0, 1) = \"+\")"
      ],
      "text/plain": [
       "Not(str.substr(cgi_decode_s_str_1, 0, 1) == \"+\")"
      ]
     },
     "execution_count": 202,
     "metadata": {},
     "output_type": "execute_result"
    }
   ],
   "source": [
    "_.path[0]"
   ]
  },
  {
   "cell_type": "markdown",
   "metadata": {
    "slideshow": {
     "slide_type": "fragment"
    }
   },
   "source": [
    "To compute the negated string, we have to construct it via z3 primitives:"
   ]
  },
  {
   "cell_type": "code",
   "execution_count": 203,
   "metadata": {
    "execution": {
     "iopub.execute_input": "2022-01-04T17:42:18.735714Z",
     "iopub.status.busy": "2022-01-04T17:42:18.734602Z",
     "iopub.status.idle": "2022-01-04T17:42:18.738097Z",
     "shell.execute_reply": "2022-01-04T17:42:18.737085Z"
    },
    "slideshow": {
     "slide_type": "fragment"
    }
   },
   "outputs": [],
   "source": [
    "zs = z3.String('cgi_decode_s_str_1')"
   ]
  },
  {
   "cell_type": "code",
   "execution_count": 204,
   "metadata": {
    "execution": {
     "iopub.execute_input": "2022-01-04T17:42:18.744348Z",
     "iopub.status.busy": "2022-01-04T17:42:18.743103Z",
     "iopub.status.idle": "2022-01-04T17:42:18.751339Z",
     "shell.execute_reply": "2022-01-04T17:42:18.751878Z"
    },
    "slideshow": {
     "slide_type": "fragment"
    }
   },
   "outputs": [
    {
     "data": {
      "text/html": [
       "str.substr(cgi_decode_s_str_1, 0, 1) = \"a\""
      ],
      "text/plain": [
       "str.substr(cgi_decode_s_str_1, 0, 1) == \"a\""
      ]
     },
     "execution_count": 204,
     "metadata": {},
     "output_type": "execute_result"
    }
   ],
   "source": [
    "z3.SubString(zs, 0, 1) == z3.StringVal('a')"
   ]
  },
  {
   "cell_type": "markdown",
   "metadata": {
    "slideshow": {
     "slide_type": "subslide"
    }
   },
   "source": [
    "Invoking `zeval()` with the path condition to be changed obtains a new input that satisfies the negated predicate:"
   ]
  },
  {
   "cell_type": "code",
   "execution_count": 205,
   "metadata": {
    "execution": {
     "iopub.execute_input": "2022-01-04T17:42:18.758051Z",
     "iopub.status.busy": "2022-01-04T17:42:18.757232Z",
     "iopub.status.idle": "2022-01-04T17:42:18.822160Z",
     "shell.execute_reply": "2022-01-04T17:42:18.822798Z"
    },
    "slideshow": {
     "slide_type": "fragment"
    }
   },
   "outputs": [],
   "source": [
    "(result, new_vars) = _.zeval({0: z3.SubString(zs, 0, 1) == z3.StringVal('+')})\n",
    "assert result == 'sat'"
   ]
  },
  {
   "cell_type": "code",
   "execution_count": 206,
   "metadata": {
    "execution": {
     "iopub.execute_input": "2022-01-04T17:42:18.831111Z",
     "iopub.status.busy": "2022-01-04T17:42:18.829745Z",
     "iopub.status.idle": "2022-01-04T17:42:18.836072Z",
     "shell.execute_reply": "2022-01-04T17:42:18.837120Z"
    },
    "slideshow": {
     "slide_type": "fragment"
    }
   },
   "outputs": [
    {
     "data": {
      "text/plain": [
       "{'s': ('+%20\\\\x00', 'String')}"
      ]
     },
     "execution_count": 206,
     "metadata": {},
     "output_type": "execute_result"
    }
   ],
   "source": [
    "new_vars"
   ]
  },
  {
   "cell_type": "code",
   "execution_count": 207,
   "metadata": {
    "execution": {
     "iopub.execute_input": "2022-01-04T17:42:18.841402Z",
     "iopub.status.busy": "2022-01-04T17:42:18.840841Z",
     "iopub.status.idle": "2022-01-04T17:42:18.842862Z",
     "shell.execute_reply": "2022-01-04T17:42:18.843350Z"
    },
    "slideshow": {
     "slide_type": "fragment"
    }
   },
   "outputs": [],
   "source": [
    "(new_s, new_s_type) = new_vars['s']"
   ]
  },
  {
   "cell_type": "code",
   "execution_count": 208,
   "metadata": {
    "execution": {
     "iopub.execute_input": "2022-01-04T17:42:18.847781Z",
     "iopub.status.busy": "2022-01-04T17:42:18.847114Z",
     "iopub.status.idle": "2022-01-04T17:42:18.850153Z",
     "shell.execute_reply": "2022-01-04T17:42:18.850787Z"
    },
    "slideshow": {
     "slide_type": "fragment"
    }
   },
   "outputs": [
    {
     "data": {
      "text/plain": [
       "'+%20\\\\x00'"
      ]
     },
     "execution_count": 208,
     "metadata": {},
     "output_type": "execute_result"
    }
   ],
   "source": [
    "new_s"
   ]
  },
  {
   "cell_type": "markdown",
   "metadata": {
    "slideshow": {
     "slide_type": "fragment"
    }
   },
   "source": [
    "We can validate that `new_s` indeed takes the new path by re-running the tracer with `new_s` as input:"
   ]
  },
  {
   "cell_type": "code",
   "execution_count": 209,
   "metadata": {
    "execution": {
     "iopub.execute_input": "2022-01-04T17:42:18.855244Z",
     "iopub.status.busy": "2022-01-04T17:42:18.854622Z",
     "iopub.status.idle": "2022-01-04T17:42:18.860504Z",
     "shell.execute_reply": "2022-01-04T17:42:18.861025Z"
    },
    "slideshow": {
     "slide_type": "fragment"
    }
   },
   "outputs": [],
   "source": [
    "with ConcolicTracer() as _:\n",
    "    _[cgi_decode](new_s)"
   ]
  },
  {
   "cell_type": "code",
   "execution_count": 210,
   "metadata": {
    "execution": {
     "iopub.execute_input": "2022-01-04T17:42:18.866474Z",
     "iopub.status.busy": "2022-01-04T17:42:18.865488Z",
     "iopub.status.idle": "2022-01-04T17:42:18.884982Z",
     "shell.execute_reply": "2022-01-04T17:42:18.885779Z"
    },
    "slideshow": {
     "slide_type": "subslide"
    }
   },
   "outputs": [
    {
     "data": {
      "text/plain": [
       "[str.substr(cgi_decode_s_str_1, 0, 1) == \"+\",\n",
       " Not(str.substr(cgi_decode_s_str_1, 1, 1) == \"+\"),\n",
       " str.substr(cgi_decode_s_str_1, 1, 1) == \"%\",\n",
       " Not(str.substr(cgi_decode_s_str_1, 2, 1) == \"0\"),\n",
       " Not(str.substr(cgi_decode_s_str_1, 2, 1) == \"1\"),\n",
       " str.substr(cgi_decode_s_str_1, 2, 1) == \"2\",\n",
       " str.substr(cgi_decode_s_str_1, 3, 1) == \"0\",\n",
       " Not(str.substr(cgi_decode_s_str_1, 4, 1) == \"+\"),\n",
       " Not(str.substr(cgi_decode_s_str_1, 4, 1) == \"%\"),\n",
       " Not(str.substr(cgi_decode_s_str_1, 5, 1) == \"+\"),\n",
       " Not(str.substr(cgi_decode_s_str_1, 5, 1) == \"%\"),\n",
       " Not(str.substr(cgi_decode_s_str_1, 6, 1) == \"+\"),\n",
       " Not(str.substr(cgi_decode_s_str_1, 6, 1) == \"%\"),\n",
       " Not(str.substr(cgi_decode_s_str_1, 7, 1) == \"+\"),\n",
       " Not(str.substr(cgi_decode_s_str_1, 7, 1) == \"%\")]"
      ]
     },
     "execution_count": 210,
     "metadata": {},
     "output_type": "execute_result"
    }
   ],
   "source": [
    "_.path"
   ]
  },
  {
   "cell_type": "markdown",
   "metadata": {
    "slideshow": {
     "slide_type": "subslide"
    }
   },
   "source": [
    "By negating further conditions, we can explore more and more code."
   ]
  },
  {
   "cell_type": "markdown",
   "metadata": {
    "slideshow": {
     "slide_type": "subslide"
    }
   },
   "source": [
    "### Example: Round\n",
    "\n",
    "Here is a function that gives you the nearest ten's multiplier"
   ]
  },
  {
   "cell_type": "code",
   "execution_count": 211,
   "metadata": {
    "execution": {
     "iopub.execute_input": "2022-01-04T17:42:18.893102Z",
     "iopub.status.busy": "2022-01-04T17:42:18.892114Z",
     "iopub.status.idle": "2022-01-04T17:42:18.894459Z",
     "shell.execute_reply": "2022-01-04T17:42:18.894907Z"
    },
    "slideshow": {
     "slide_type": "fragment"
    }
   },
   "outputs": [],
   "source": [
    "def round10(r):\n",
    "    while r % 10 != 0:\n",
    "        r += 1\n",
    "    return r"
   ]
  },
  {
   "cell_type": "markdown",
   "metadata": {
    "slideshow": {
     "slide_type": "fragment"
    }
   },
   "source": [
    "As before, we execute the function under the `ConcolicTracer` context."
   ]
  },
  {
   "cell_type": "code",
   "execution_count": 212,
   "metadata": {
    "execution": {
     "iopub.execute_input": "2022-01-04T17:42:18.899935Z",
     "iopub.status.busy": "2022-01-04T17:42:18.899301Z",
     "iopub.status.idle": "2022-01-04T17:42:18.905833Z",
     "shell.execute_reply": "2022-01-04T17:42:18.907044Z"
    },
    "slideshow": {
     "slide_type": "fragment"
    }
   },
   "outputs": [],
   "source": [
    "with ConcolicTracer() as _:\n",
    "    r = _[round10](1)"
   ]
  },
  {
   "cell_type": "markdown",
   "metadata": {
    "slideshow": {
     "slide_type": "fragment"
    }
   },
   "source": [
    "We verify that we were able to capture all the predicates:"
   ]
  },
  {
   "cell_type": "code",
   "execution_count": 213,
   "metadata": {
    "execution": {
     "iopub.execute_input": "2022-01-04T17:42:18.915290Z",
     "iopub.status.busy": "2022-01-04T17:42:18.914019Z",
     "iopub.status.idle": "2022-01-04T17:42:19.245242Z",
     "shell.execute_reply": "2022-01-04T17:42:19.245647Z"
    },
    "slideshow": {
     "slide_type": "subslide"
    }
   },
   "outputs": [
    {
     "data": {
      "text/plain": [
       "({'round10_r_int_1': 'Int'},\n",
       " [0 != round10_r_int_1%10,\n",
       "  0 != (round10_r_int_1 + 1)%10,\n",
       "  0 != (round10_r_int_1 + 1 + 1)%10,\n",
       "  0 != (round10_r_int_1 + 1 + 1 + 1)%10,\n",
       "  0 != (round10_r_int_1 + 1 + 1 + 1 + 1)%10,\n",
       "  0 != (round10_r_int_1 + 1 + 1 + 1 + 1 + 1)%10,\n",
       "  0 != (round10_r_int_1 + 1 + 1 + 1 + 1 + 1 + 1)%10,\n",
       "  0 != (round10_r_int_1 + 1 + 1 + 1 + 1 + 1 + 1 + 1)%10,\n",
       "  0 != (round10_r_int_1 + 1 + 1 + 1 + 1 + 1 + 1 + 1 + 1)%10,\n",
       "  Not(0 !=\n",
       "      (round10_r_int_1 + 1 + 1 + 1 + 1 + 1 + 1 + 1 + 1 + 1)%10)])"
      ]
     },
     "execution_count": 213,
     "metadata": {},
     "output_type": "execute_result"
    }
   ],
   "source": [
    "_.context"
   ]
  },
  {
   "cell_type": "markdown",
   "metadata": {
    "slideshow": {
     "slide_type": "fragment"
    }
   },
   "source": [
    "We use `zeval()` to obtain more inputs that take the same path."
   ]
  },
  {
   "cell_type": "code",
   "execution_count": 214,
   "metadata": {
    "execution": {
     "iopub.execute_input": "2022-01-04T17:42:19.250084Z",
     "iopub.status.busy": "2022-01-04T17:42:19.249509Z",
     "iopub.status.idle": "2022-01-04T17:42:19.294607Z",
     "shell.execute_reply": "2022-01-04T17:42:19.295136Z"
    },
    "slideshow": {
     "slide_type": "subslide"
    }
   },
   "outputs": [
    {
     "data": {
      "text/plain": [
       "('sat', {'r': (['-', '9'], 'Int')})"
      ]
     },
     "execution_count": 214,
     "metadata": {},
     "output_type": "execute_result"
    }
   ],
   "source": [
    "_.zeval()"
   ]
  },
  {
   "cell_type": "markdown",
   "metadata": {
    "slideshow": {
     "slide_type": "subslide"
    }
   },
   "source": [
    "### Example: Absolute Maximum\n",
    "\n",
    "Do our concolic proxies work across functions? Say we have a function `max_value()` as below."
   ]
  },
  {
   "cell_type": "code",
   "execution_count": 215,
   "metadata": {
    "execution": {
     "iopub.execute_input": "2022-01-04T17:42:19.301092Z",
     "iopub.status.busy": "2022-01-04T17:42:19.300277Z",
     "iopub.status.idle": "2022-01-04T17:42:19.302209Z",
     "shell.execute_reply": "2022-01-04T17:42:19.302721Z"
    },
    "slideshow": {
     "slide_type": "fragment"
    }
   },
   "outputs": [],
   "source": [
    "def abs_value(a):\n",
    "    if a > 0:\n",
    "        return a\n",
    "    else:\n",
    "        return -a"
   ]
  },
  {
   "cell_type": "markdown",
   "metadata": {
    "slideshow": {
     "slide_type": "fragment"
    }
   },
   "source": [
    "It is called by another function `abs_max()`"
   ]
  },
  {
   "cell_type": "code",
   "execution_count": 216,
   "metadata": {
    "execution": {
     "iopub.execute_input": "2022-01-04T17:42:19.308382Z",
     "iopub.status.busy": "2022-01-04T17:42:19.307552Z",
     "iopub.status.idle": "2022-01-04T17:42:19.309691Z",
     "shell.execute_reply": "2022-01-04T17:42:19.310196Z"
    },
    "slideshow": {
     "slide_type": "subslide"
    }
   },
   "outputs": [],
   "source": [
    "def abs_max(a, b):\n",
    "    a1 = abs_value(a)\n",
    "    b1 = abs_value(b)\n",
    "    if a1 > b1:\n",
    "        c = a1\n",
    "    else:\n",
    "        c = b1\n",
    "    return c"
   ]
  },
  {
   "cell_type": "markdown",
   "metadata": {
    "slideshow": {
     "slide_type": "fragment"
    }
   },
   "source": [
    "Using the `Concolic()` context on `abs_max()`."
   ]
  },
  {
   "cell_type": "code",
   "execution_count": 217,
   "metadata": {
    "execution": {
     "iopub.execute_input": "2022-01-04T17:42:19.314822Z",
     "iopub.status.busy": "2022-01-04T17:42:19.314087Z",
     "iopub.status.idle": "2022-01-04T17:42:19.317179Z",
     "shell.execute_reply": "2022-01-04T17:42:19.317617Z"
    },
    "slideshow": {
     "slide_type": "fragment"
    }
   },
   "outputs": [],
   "source": [
    "with ConcolicTracer() as _:\n",
    "    _[abs_max](2, 1)"
   ]
  },
  {
   "cell_type": "markdown",
   "metadata": {
    "slideshow": {
     "slide_type": "fragment"
    }
   },
   "source": [
    "As expected, we have the predicates across functions."
   ]
  },
  {
   "cell_type": "code",
   "execution_count": 218,
   "metadata": {
    "execution": {
     "iopub.execute_input": "2022-01-04T17:42:19.322543Z",
     "iopub.status.busy": "2022-01-04T17:42:19.321925Z",
     "iopub.status.idle": "2022-01-04T17:42:19.326301Z",
     "shell.execute_reply": "2022-01-04T17:42:19.326801Z"
    },
    "slideshow": {
     "slide_type": "fragment"
    }
   },
   "outputs": [
    {
     "data": {
      "text/plain": [
       "({'abs_max_a_int_1': 'Int', 'abs_max_b_int_2': 'Int'},\n",
       " [0 < abs_max_a_int_1, 0 < abs_max_b_int_2, abs_max_a_int_1 > abs_max_b_int_2])"
      ]
     },
     "execution_count": 218,
     "metadata": {},
     "output_type": "execute_result"
    }
   ],
   "source": [
    "_.context"
   ]
  },
  {
   "cell_type": "code",
   "execution_count": 219,
   "metadata": {
    "execution": {
     "iopub.execute_input": "2022-01-04T17:42:19.330989Z",
     "iopub.status.busy": "2022-01-04T17:42:19.330375Z",
     "iopub.status.idle": "2022-01-04T17:42:19.374893Z",
     "shell.execute_reply": "2022-01-04T17:42:19.375661Z"
    },
    "slideshow": {
     "slide_type": "subslide"
    }
   },
   "outputs": [
    {
     "data": {
      "text/plain": [
       "('sat', {'a': ('2', 'Int'), 'b': ('1', 'Int')})"
      ]
     },
     "execution_count": 219,
     "metadata": {},
     "output_type": "execute_result"
    }
   ],
   "source": [
    "_.zeval()"
   ]
  },
  {
   "cell_type": "markdown",
   "metadata": {
    "slideshow": {
     "slide_type": "fragment"
    }
   },
   "source": [
    "Solving the predicates works as expected."
   ]
  },
  {
   "cell_type": "markdown",
   "metadata": {
    "slideshow": {
     "slide_type": "fragment"
    }
   },
   "source": [
    "Using negative numbers as arguments so that a different branch is taken in `abs_value()`"
   ]
  },
  {
   "cell_type": "code",
   "execution_count": 220,
   "metadata": {
    "execution": {
     "iopub.execute_input": "2022-01-04T17:42:19.382223Z",
     "iopub.status.busy": "2022-01-04T17:42:19.381327Z",
     "iopub.status.idle": "2022-01-04T17:42:19.385048Z",
     "shell.execute_reply": "2022-01-04T17:42:19.384546Z"
    },
    "slideshow": {
     "slide_type": "fragment"
    }
   },
   "outputs": [],
   "source": [
    "with ConcolicTracer() as _:\n",
    "    _[abs_max](-2, -1)"
   ]
  },
  {
   "cell_type": "code",
   "execution_count": 221,
   "metadata": {
    "execution": {
     "iopub.execute_input": "2022-01-04T17:42:19.389971Z",
     "iopub.status.busy": "2022-01-04T17:42:19.389339Z",
     "iopub.status.idle": "2022-01-04T17:42:19.394686Z",
     "shell.execute_reply": "2022-01-04T17:42:19.395155Z"
    },
    "slideshow": {
     "slide_type": "fragment"
    }
   },
   "outputs": [
    {
     "data": {
      "text/plain": [
       "({'abs_max_a_int_1': 'Int', 'abs_max_b_int_2': 'Int'},\n",
       " [Not(0 < abs_max_a_int_1),\n",
       "  Not(0 < abs_max_b_int_2),\n",
       "  -abs_max_a_int_1 > -abs_max_b_int_2])"
      ]
     },
     "execution_count": 221,
     "metadata": {},
     "output_type": "execute_result"
    }
   ],
   "source": [
    "_.context"
   ]
  },
  {
   "cell_type": "code",
   "execution_count": 222,
   "metadata": {
    "execution": {
     "iopub.execute_input": "2022-01-04T17:42:19.399287Z",
     "iopub.status.busy": "2022-01-04T17:42:19.398666Z",
     "iopub.status.idle": "2022-01-04T17:42:19.447858Z",
     "shell.execute_reply": "2022-01-04T17:42:19.448376Z"
    },
    "slideshow": {
     "slide_type": "fragment"
    }
   },
   "outputs": [
    {
     "data": {
      "text/plain": [
       "('sat', {'a': (['-', '1'], 'Int'), 'b': ('0', 'Int')})"
      ]
     },
     "execution_count": 222,
     "metadata": {},
     "output_type": "execute_result"
    }
   ],
   "source": [
    "_.zeval()"
   ]
  },
  {
   "cell_type": "markdown",
   "metadata": {
    "slideshow": {
     "slide_type": "subslide"
    }
   },
   "source": [
    "The solution reflects our predicates. (We used `a > 0` in `abs_value()`)."
   ]
  },
  {
   "cell_type": "markdown",
   "metadata": {
    "slideshow": {
     "slide_type": "subslide"
    }
   },
   "source": [
    "### Example: Binomial Coefficient\n",
    "\n",
    "For a larger example that uses different kinds of variables, say we want to compute the binomial coefficient by the following formulas\n",
    "\n",
    "$$ \n",
    "^nP_k=\\frac{n!}{(n-k)!}\n",
    "$$\n",
    "\n",
    "$$\n",
    "\\binom nk=\\,^nC_k=\\frac{^nP_k}{k!}\n",
    "$$\n"
   ]
  },
  {
   "cell_type": "markdown",
   "metadata": {
    "slideshow": {
     "slide_type": "subslide"
    }
   },
   "source": [
    "we define the functions as follows."
   ]
  },
  {
   "cell_type": "code",
   "execution_count": 223,
   "metadata": {
    "execution": {
     "iopub.execute_input": "2022-01-04T17:42:19.456186Z",
     "iopub.status.busy": "2022-01-04T17:42:19.455421Z",
     "iopub.status.idle": "2022-01-04T17:42:19.457915Z",
     "shell.execute_reply": "2022-01-04T17:42:19.458433Z"
    },
    "slideshow": {
     "slide_type": "fragment"
    }
   },
   "outputs": [],
   "source": [
    "def factorial(n):  # type: ignore\n",
    "    v = 1\n",
    "    while n != 0:\n",
    "        v *= n\n",
    "        n -= 1\n",
    "\n",
    "    return v"
   ]
  },
  {
   "cell_type": "code",
   "execution_count": 224,
   "metadata": {
    "execution": {
     "iopub.execute_input": "2022-01-04T17:42:19.463972Z",
     "iopub.status.busy": "2022-01-04T17:42:19.463098Z",
     "iopub.status.idle": "2022-01-04T17:42:19.465409Z",
     "shell.execute_reply": "2022-01-04T17:42:19.465893Z"
    },
    "slideshow": {
     "slide_type": "fragment"
    }
   },
   "outputs": [],
   "source": [
    "def permutation(n, k):\n",
    "    return factorial(n) / factorial(n - k)"
   ]
  },
  {
   "cell_type": "code",
   "execution_count": 225,
   "metadata": {
    "execution": {
     "iopub.execute_input": "2022-01-04T17:42:19.471939Z",
     "iopub.status.busy": "2022-01-04T17:42:19.471185Z",
     "iopub.status.idle": "2022-01-04T17:42:19.474666Z",
     "shell.execute_reply": "2022-01-04T17:42:19.473734Z"
    },
    "slideshow": {
     "slide_type": "fragment"
    }
   },
   "outputs": [],
   "source": [
    "def combination(n, k):\n",
    "    return permutation(n, k) / factorial(k)"
   ]
  },
  {
   "cell_type": "code",
   "execution_count": 226,
   "metadata": {
    "execution": {
     "iopub.execute_input": "2022-01-04T17:42:19.479757Z",
     "iopub.status.busy": "2022-01-04T17:42:19.478966Z",
     "iopub.status.idle": "2022-01-04T17:42:19.481101Z",
     "shell.execute_reply": "2022-01-04T17:42:19.481581Z"
    },
    "slideshow": {
     "slide_type": "subslide"
    }
   },
   "outputs": [],
   "source": [
    "def binomial(n, k):\n",
    "    if n < 0 or k < 0 or n < k:\n",
    "        raise Exception('Invalid values')\n",
    "    return combination(n, k)"
   ]
  },
  {
   "cell_type": "markdown",
   "metadata": {
    "slideshow": {
     "slide_type": "fragment"
    }
   },
   "source": [
    "As before, we run the function under `ConcolicTracer`."
   ]
  },
  {
   "cell_type": "code",
   "execution_count": 227,
   "metadata": {
    "execution": {
     "iopub.execute_input": "2022-01-04T17:42:19.488128Z",
     "iopub.status.busy": "2022-01-04T17:42:19.487295Z",
     "iopub.status.idle": "2022-01-04T17:42:19.493895Z",
     "shell.execute_reply": "2022-01-04T17:42:19.494385Z"
    },
    "slideshow": {
     "slide_type": "fragment"
    }
   },
   "outputs": [],
   "source": [
    "with ConcolicTracer() as _:\n",
    "    v = _[binomial](4, 2)"
   ]
  },
  {
   "cell_type": "markdown",
   "metadata": {
    "slideshow": {
     "slide_type": "fragment"
    }
   },
   "source": [
    "Then call `zeval()` to evaluate."
   ]
  },
  {
   "cell_type": "code",
   "execution_count": 228,
   "metadata": {
    "execution": {
     "iopub.execute_input": "2022-01-04T17:42:19.500076Z",
     "iopub.status.busy": "2022-01-04T17:42:19.499291Z",
     "iopub.status.idle": "2022-01-04T17:42:19.549027Z",
     "shell.execute_reply": "2022-01-04T17:42:19.549738Z"
    },
    "slideshow": {
     "slide_type": "fragment"
    }
   },
   "outputs": [
    {
     "data": {
      "text/plain": [
       "('sat', {'n': ('4', 'Int'), 'k': ('2', 'Int')})"
      ]
     },
     "execution_count": 228,
     "metadata": {},
     "output_type": "execute_result"
    }
   ],
   "source": [
    "_.zeval()"
   ]
  },
  {
   "cell_type": "raw",
   "metadata": {
    "slideshow": {
     "slide_type": "skip"
    }
   },
   "source": [
    "The values returned are same as the input values as expected."
   ]
  },
  {
   "cell_type": "markdown",
   "metadata": {
    "slideshow": {
     "slide_type": "subslide"
    }
   },
   "source": [
    "### Example: Database"
   ]
  },
  {
   "cell_type": "markdown",
   "metadata": {
    "slideshow": {
     "slide_type": "fragment"
    },
    "toc-hr-collapsed": true
   },
   "source": [
    "For a larger example using the Concolic String class `zstr`, we use the DB class from the [chapter on information flow](InformationFlow.ipynb)."
   ]
  },
  {
   "cell_type": "code",
   "execution_count": 229,
   "metadata": {
    "execution": {
     "iopub.execute_input": "2022-01-04T17:42:19.557736Z",
     "iopub.status.busy": "2022-01-04T17:42:19.556993Z",
     "iopub.status.idle": "2022-01-04T17:42:22.247002Z",
     "shell.execute_reply": "2022-01-04T17:42:22.247457Z"
    },
    "slideshow": {
     "slide_type": "skip"
    }
   },
   "outputs": [],
   "source": [
    "from InformationFlow import DB, sample_db, update_inventory"
   ]
  },
  {
   "cell_type": "markdown",
   "metadata": {
    "slideshow": {
     "slide_type": "fragment"
    }
   },
   "source": [
    "We first populate our database."
   ]
  },
  {
   "cell_type": "code",
   "execution_count": 230,
   "metadata": {
    "execution": {
     "iopub.execute_input": "2022-01-04T17:42:22.252657Z",
     "iopub.status.busy": "2022-01-04T17:42:22.251795Z",
     "iopub.status.idle": "2022-01-04T17:42:24.225448Z",
     "shell.execute_reply": "2022-01-04T17:42:24.225999Z"
    },
    "slideshow": {
     "slide_type": "skip"
    }
   },
   "outputs": [],
   "source": [
    "from GrammarMiner import VEHICLES  # minor dependency"
   ]
  },
  {
   "cell_type": "code",
   "execution_count": 231,
   "metadata": {
    "execution": {
     "iopub.execute_input": "2022-01-04T17:42:24.230806Z",
     "iopub.status.busy": "2022-01-04T17:42:24.230053Z",
     "iopub.status.idle": "2022-01-04T17:42:24.232489Z",
     "shell.execute_reply": "2022-01-04T17:42:24.233252Z"
    },
    "slideshow": {
     "slide_type": "fragment"
    }
   },
   "outputs": [],
   "source": [
    "db = sample_db()\n",
    "for V in VEHICLES:\n",
    "    update_inventory(db, V)"
   ]
  },
  {
   "cell_type": "code",
   "execution_count": 232,
   "metadata": {
    "execution": {
     "iopub.execute_input": "2022-01-04T17:42:24.240322Z",
     "iopub.status.busy": "2022-01-04T17:42:24.239600Z",
     "iopub.status.idle": "2022-01-04T17:42:24.242644Z",
     "shell.execute_reply": "2022-01-04T17:42:24.243075Z"
    },
    "slideshow": {
     "slide_type": "fragment"
    }
   },
   "outputs": [
    {
     "data": {
      "text/plain": [
       "{'inventory': ({'year': int, 'kind': str, 'company': str, 'model': str},\n",
       "  [{'year': 1997, 'kind': 'van', 'company': 'Ford', 'model': 'E350'},\n",
       "   {'year': 2000, 'kind': 'car', 'company': 'Mercury', 'model': 'Cougar'},\n",
       "   {'year': 1999, 'kind': 'car', 'company': 'Chevy', 'model': 'Venture'}])}"
      ]
     },
     "execution_count": 232,
     "metadata": {},
     "output_type": "execute_result"
    }
   ],
   "source": [
    "db.db"
   ]
  },
  {
   "cell_type": "markdown",
   "metadata": {
    "slideshow": {
     "slide_type": "subslide"
    }
   },
   "source": [
    "We are now ready to fuzz our `DB` class. Hash functions are difficult to handle directly (because they rely on internal C functions). Hence we modify `table()` slightly."
   ]
  },
  {
   "cell_type": "code",
   "execution_count": 233,
   "metadata": {
    "execution": {
     "iopub.execute_input": "2022-01-04T17:42:24.249477Z",
     "iopub.status.busy": "2022-01-04T17:42:24.248633Z",
     "iopub.status.idle": "2022-01-04T17:42:24.250734Z",
     "shell.execute_reply": "2022-01-04T17:42:24.251192Z"
    },
    "slideshow": {
     "slide_type": "fragment"
    }
   },
   "outputs": [],
   "source": [
    "class ConcolicDB(DB):\n",
    "    def table(self, t_name):\n",
    "        for k, v in self.db:\n",
    "            if t_name == k:\n",
    "                return v\n",
    "        raise SQLException('Table (%s) was not found' % repr(t_name))\n",
    "\n",
    "    def column(self, decl, c_name):\n",
    "        for k in decl:\n",
    "            if c_name == k:\n",
    "                return decl[k]\n",
    "        raise SQLException('Column (%s) was not found' % repr(c_name))"
   ]
  },
  {
   "cell_type": "markdown",
   "metadata": {
    "slideshow": {
     "slide_type": "subslide"
    }
   },
   "source": [
    "To make it easy, we define a single function `db_select()` that directly invokes `db.sql()`."
   ]
  },
  {
   "cell_type": "code",
   "execution_count": 234,
   "metadata": {
    "execution": {
     "iopub.execute_input": "2022-01-04T17:42:24.256484Z",
     "iopub.status.busy": "2022-01-04T17:42:24.255765Z",
     "iopub.status.idle": "2022-01-04T17:42:24.257663Z",
     "shell.execute_reply": "2022-01-04T17:42:24.258106Z"
    },
    "slideshow": {
     "slide_type": "fragment"
    }
   },
   "outputs": [],
   "source": [
    "def db_select(s):\n",
    "    my_db = ConcolicDB()\n",
    "    my_db.db = [(k, v) for (k, v) in db.db.items()]\n",
    "    r = my_db.sql(s)\n",
    "    return r"
   ]
  },
  {
   "cell_type": "markdown",
   "metadata": {
    "slideshow": {
     "slide_type": "fragment"
    }
   },
   "source": [
    "We now want to run SQL statements under our `ConcolicTracer`, and collect predicates obtained."
   ]
  },
  {
   "cell_type": "code",
   "execution_count": 235,
   "metadata": {
    "execution": {
     "iopub.execute_input": "2022-01-04T17:42:24.262330Z",
     "iopub.status.busy": "2022-01-04T17:42:24.261672Z",
     "iopub.status.idle": "2022-01-04T17:42:24.266919Z",
     "shell.execute_reply": "2022-01-04T17:42:24.267385Z"
    },
    "slideshow": {
     "slide_type": "fragment"
    }
   },
   "outputs": [],
   "source": [
    "with ConcolicTracer() as _:\n",
    "    _[db_select]('select kind from inventory')"
   ]
  },
  {
   "cell_type": "markdown",
   "metadata": {
    "slideshow": {
     "slide_type": "fragment"
    }
   },
   "source": [
    "The predicates encountered during the execution are as follows:"
   ]
  },
  {
   "cell_type": "code",
   "execution_count": 236,
   "metadata": {
    "execution": {
     "iopub.execute_input": "2022-01-04T17:42:24.271588Z",
     "iopub.status.busy": "2022-01-04T17:42:24.270980Z",
     "iopub.status.idle": "2022-01-04T17:42:24.286387Z",
     "shell.execute_reply": "2022-01-04T17:42:24.286803Z"
    },
    "slideshow": {
     "slide_type": "subslide"
    }
   },
   "outputs": [
    {
     "data": {
      "text/plain": [
       "[0 == IndexOf(db_select_s_str_1, \"select \", 0),\n",
       " 0 == IndexOf(db_select_s_str_1, \"select \", 0),\n",
       " Not(0 >\n",
       "     IndexOf(str.substr(db_select_s_str_1, 7, 19),\n",
       "             \" from \",\n",
       "             0)),\n",
       " Not(19 <\n",
       "     IndexOf(str.substr(db_select_s_str_1, 7, 19),\n",
       "             \" from \",\n",
       "             0)),\n",
       " Or(0 <\n",
       "    IndexOf(str.substr(db_select_s_str_1, 7, 19),\n",
       "            \" from \",\n",
       "            0),\n",
       "    0 ==\n",
       "    IndexOf(str.substr(db_select_s_str_1, 7, 19),\n",
       "            \" from \",\n",
       "            0)),\n",
       " Not(Or(0 <\n",
       "        IndexOf(str.substr(db_select_s_str_1, 7, 19),\n",
       "                \" where \",\n",
       "                0),\n",
       "        0 ==\n",
       "        IndexOf(str.substr(db_select_s_str_1, 7, 19),\n",
       "                \" where \",\n",
       "                0))),\n",
       " Not(19 <\n",
       "     IndexOf(str.substr(db_select_s_str_1, 7, 19),\n",
       "             \" from \",\n",
       "             0) +\n",
       "     6),\n",
       " Or(19 >\n",
       "    IndexOf(str.substr(db_select_s_str_1, 7, 19),\n",
       "            \" from \",\n",
       "            0) +\n",
       "    6,\n",
       "    19 ==\n",
       "    IndexOf(str.substr(db_select_s_str_1, 7, 19),\n",
       "            \" from \",\n",
       "            0) +\n",
       "    6),\n",
       " str.substr(str.substr(db_select_s_str_1, 7, 19), 10, 9) ==\n",
       " \"inventory\"]"
      ]
     },
     "execution_count": 236,
     "metadata": {},
     "output_type": "execute_result"
    }
   ],
   "source": [
    "_.path"
   ]
  },
  {
   "cell_type": "markdown",
   "metadata": {
    "slideshow": {
     "slide_type": "subslide"
    }
   },
   "source": [
    "We can use `zeval()` as before to solve the constraints."
   ]
  },
  {
   "cell_type": "code",
   "execution_count": 237,
   "metadata": {
    "execution": {
     "iopub.execute_input": "2022-01-04T17:42:24.291106Z",
     "iopub.status.busy": "2022-01-04T17:42:24.290484Z",
     "iopub.status.idle": "2022-01-04T17:42:24.394681Z",
     "shell.execute_reply": "2022-01-04T17:42:24.395114Z"
    },
    "slideshow": {
     "slide_type": "fragment"
    }
   },
   "outputs": [
    {
     "data": {
      "text/plain": [
       "('Gave up', None)"
      ]
     },
     "execution_count": 237,
     "metadata": {},
     "output_type": "execute_result"
    }
   ],
   "source": [
    "_.zeval()"
   ]
  },
  {
   "cell_type": "markdown",
   "metadata": {
    "slideshow": {
     "slide_type": "slide"
    },
    "tags": []
   },
   "source": [
    "## Fuzzing with Constraints\n",
    "\n",
    "The `SimpleConcolicFuzzer` class starts with a sample input generated by some other fuzzer. It then runs the function being tested under `ConcolicTracer`, and collects the path predicates. It then negates random predicates within the path and solves it with Z3 to produce a new output that is guaranteed to take a different path than the original."
   ]
  },
  {
   "cell_type": "markdown",
   "metadata": {
    "slideshow": {
     "slide_type": "fragment"
    }
   },
   "source": [
    "As with `ConcolicTracer`, above, please first look at the examples before digging into the implementation."
   ]
  },
  {
   "cell_type": "markdown",
   "metadata": {
    "slideshow": {
     "slide_type": "subslide"
    }
   },
   "source": [
    "### Excursion: Implementing SimpleConcolicFuzzer"
   ]
  },
  {
   "cell_type": "markdown",
   "metadata": {
    "slideshow": {
     "slide_type": "fragment"
    }
   },
   "source": [
    "First, we import the `Fuzzer` interface, and an example program `hang_if_no_space()`"
   ]
  },
  {
   "cell_type": "code",
   "execution_count": 238,
   "metadata": {
    "execution": {
     "iopub.execute_input": "2022-01-04T17:42:24.401979Z",
     "iopub.status.busy": "2022-01-04T17:42:24.401024Z",
     "iopub.status.idle": "2022-01-04T17:42:24.403841Z",
     "shell.execute_reply": "2022-01-04T17:42:24.404533Z"
    },
    "slideshow": {
     "slide_type": "skip"
    }
   },
   "outputs": [],
   "source": [
    "from Fuzzer import Fuzzer, hang_if_no_space"
   ]
  },
  {
   "cell_type": "code",
   "execution_count": 239,
   "metadata": {
    "execution": {
     "iopub.execute_input": "2022-01-04T17:42:24.410160Z",
     "iopub.status.busy": "2022-01-04T17:42:24.408955Z",
     "iopub.status.idle": "2022-01-04T17:42:24.412018Z",
     "shell.execute_reply": "2022-01-04T17:42:24.412494Z"
    },
    "slideshow": {
     "slide_type": "skip"
    }
   },
   "outputs": [],
   "source": [
    "from ExpectError import ExpectTimeout, ExpectError"
   ]
  },
  {
   "cell_type": "code",
   "execution_count": 240,
   "metadata": {
    "execution": {
     "iopub.execute_input": "2022-01-04T17:42:24.417855Z",
     "iopub.status.busy": "2022-01-04T17:42:24.417142Z",
     "iopub.status.idle": "2022-01-04T17:42:24.420412Z",
     "shell.execute_reply": "2022-01-04T17:42:24.419787Z"
    },
    "slideshow": {
     "slide_type": "skip"
    }
   },
   "outputs": [],
   "source": [
    "import random"
   ]
  },
  {
   "cell_type": "markdown",
   "metadata": {
    "slideshow": {
     "slide_type": "subslide"
    }
   },
   "source": [
    "#### Representing Decisions"
   ]
  },
  {
   "cell_type": "markdown",
   "metadata": {
    "slideshow": {
     "slide_type": "fragment"
    }
   },
   "source": [
    "To make the fuzzer work, we need a way to represent decisions made during trace. We keep this in a _binary tree_ where each node represents a decision made, and each leaf represents a complete path. A node in the binary tree is represented by the `TraceNode` class.\n",
    "\n",
    "When a new node is added, it represents a decision taken by the parent on some predicate. This predicate is supplied as `smt_val`, which is `True` for this child to be reached. Since the predicate is actually present in the parent node, we also carry a member `smt` which will be updated by the first child to be added."
   ]
  },
  {
   "cell_type": "code",
   "execution_count": 241,
   "metadata": {
    "execution": {
     "iopub.execute_input": "2022-01-04T17:42:24.431297Z",
     "iopub.status.busy": "2022-01-04T17:42:24.430228Z",
     "iopub.status.idle": "2022-01-04T17:42:24.434503Z",
     "shell.execute_reply": "2022-01-04T17:42:24.435365Z"
    },
    "slideshow": {
     "slide_type": "subslide"
    }
   },
   "outputs": [],
   "source": [
    "class TraceNode:\n",
    "    def __init__(self, smt_val, parent, info):\n",
    "        # This is the smt that lead to this node\n",
    "        self._smt_val = z3.simplify(smt_val) if smt_val is not None else None\n",
    "\n",
    "        # This is the predicate that this node might perform at a future point\n",
    "        self.smt = None\n",
    "        self.info = info\n",
    "        self.parent = parent\n",
    "        self.children = {}\n",
    "        self.path = None\n",
    "        self.tree = None\n",
    "        self._pattern = None\n",
    "        self.log = True\n",
    "\n",
    "    def no(self): return self.children.get(self.tree.no_bit)\n",
    "\n",
    "    def yes(self): return self.children.get(self.tree.yes_bit)\n",
    "\n",
    "    def get_children(self): return (self.no(), self.yes())\n",
    "\n",
    "    def __str__(self):\n",
    "        return 'TraceNode[%s]' % ','.join(self.children.keys())"
   ]
  },
  {
   "cell_type": "markdown",
   "metadata": {
    "slideshow": {
     "slide_type": "subslide"
    }
   },
   "source": [
    "We add a `PlausibleChild` class to track the leaf nodes."
   ]
  },
  {
   "cell_type": "code",
   "execution_count": 242,
   "metadata": {
    "execution": {
     "iopub.execute_input": "2022-01-04T17:42:24.444600Z",
     "iopub.status.busy": "2022-01-04T17:42:24.443412Z",
     "iopub.status.idle": "2022-01-04T17:42:24.446134Z",
     "shell.execute_reply": "2022-01-04T17:42:24.446704Z"
    },
    "slideshow": {
     "slide_type": "fragment"
    }
   },
   "outputs": [],
   "source": [
    "class PlausibleChild:\n",
    "    def __init__(self, parent, cond, tree):\n",
    "        self.parent = parent\n",
    "        self.cond = cond\n",
    "        self.tree = tree\n",
    "        self._smt_val = None\n",
    "\n",
    "    def __repr__(self):\n",
    "        return 'PlausibleChild[%s]' % (self.parent.pattern() + ':' + self.cond)"
   ]
  },
  {
   "cell_type": "markdown",
   "metadata": {
    "slideshow": {
     "slide_type": "fragment"
    }
   },
   "source": [
    "When the leaf nodes are used to generate new paths, we expect its sibling `TraceNode` to have been already explored. Hence, we make use of the sibling's values for context `cc`, and the `smt_val` from the parent."
   ]
  },
  {
   "cell_type": "code",
   "execution_count": 243,
   "metadata": {
    "execution": {
     "iopub.execute_input": "2022-01-04T17:42:24.457172Z",
     "iopub.status.busy": "2022-01-04T17:42:24.455604Z",
     "iopub.status.idle": "2022-01-04T17:42:24.458154Z",
     "shell.execute_reply": "2022-01-04T17:42:24.458668Z"
    },
    "slideshow": {
     "slide_type": "subslide"
    }
   },
   "outputs": [],
   "source": [
    "class PlausibleChild(PlausibleChild):\n",
    "    def smt_val(self):\n",
    "        if self._smt_val is not None:\n",
    "            return self._smt_val\n",
    "        # if the parent has other children, then that child would have updatd the parent's smt\n",
    "        # Hence, we can use that child's smt_value's opposite as our value.\n",
    "        assert self.parent.smt is not None\n",
    "        if self.cond == self.tree.no_bit:\n",
    "            self._smt_val = z3.Not(self.parent.smt)\n",
    "        else:\n",
    "            self._smt_val = self.parent.smt\n",
    "        return self._smt_val\n",
    "\n",
    "    def cc(self):\n",
    "        if self.parent.info.get('cc') is not None:\n",
    "            return self.parent.info['cc']\n",
    "        # if there is a plausible child node, it means that there can\n",
    "        # be at most one child.\n",
    "        sibilings = list(self.parent.children.values())\n",
    "        assert len(sibilings) == 1\n",
    "        # We expect at the other child to have cc\n",
    "        return sibilings[0].info['cc']"
   ]
  },
  {
   "cell_type": "markdown",
   "metadata": {
    "slideshow": {
     "slide_type": "subslide"
    }
   },
   "source": [
    "The `PlausibleChild` instance is used to generate new paths to explore using `path_expression()`."
   ]
  },
  {
   "cell_type": "code",
   "execution_count": 244,
   "metadata": {
    "execution": {
     "iopub.execute_input": "2022-01-04T17:42:24.464371Z",
     "iopub.status.busy": "2022-01-04T17:42:24.463657Z",
     "iopub.status.idle": "2022-01-04T17:42:24.465939Z",
     "shell.execute_reply": "2022-01-04T17:42:24.466459Z"
    },
    "slideshow": {
     "slide_type": "fragment"
    }
   },
   "outputs": [],
   "source": [
    "class PlausibleChild(PlausibleChild):\n",
    "    def path_expression(self):\n",
    "        path_to_root = self.parent.get_path_to_root()\n",
    "        assert path_to_root[0]._smt_val is None\n",
    "        return [i._smt_val for i in path_to_root[1:]] + [self.smt_val()]"
   ]
  },
  {
   "cell_type": "markdown",
   "metadata": {
    "slideshow": {
     "slide_type": "fragment"
    }
   },
   "source": [
    "The `TraceTree` class helps us keep track of the binary tree. In the beginning, the root is a sentinel `TraceNode` instance, and simply have two plausible children as leaves. As soon as the first trace is added, one of the plausible children will become a true child."
   ]
  },
  {
   "cell_type": "code",
   "execution_count": 245,
   "metadata": {
    "execution": {
     "iopub.execute_input": "2022-01-04T17:42:24.475477Z",
     "iopub.status.busy": "2022-01-04T17:42:24.474652Z",
     "iopub.status.idle": "2022-01-04T17:42:24.476740Z",
     "shell.execute_reply": "2022-01-04T17:42:24.477254Z"
    },
    "slideshow": {
     "slide_type": "subslide"
    }
   },
   "outputs": [],
   "source": [
    "class TraceTree:\n",
    "    def __init__(self):\n",
    "        self.root = TraceNode(smt_val=None, parent=None, info={'num': 0})\n",
    "        self.root.tree = self\n",
    "        self.leaves = {}\n",
    "        self.no_bit, self.yes_bit = '0', '1'\n",
    "\n",
    "        pprefix = ':'\n",
    "        for bit in [self.no_bit, self.yes_bit]:\n",
    "            self.leaves[pprefix + bit] = PlausibleChild(self.root, bit, self)\n",
    "        self.completed_paths = {}"
   ]
  },
  {
   "cell_type": "markdown",
   "metadata": {
    "slideshow": {
     "slide_type": "fragment"
    }
   },
   "source": [
    "The `add_trace()` method of the `TraceTree` provides a way for new traces to be added. It is kept separate from the initialization as we might want to add more than one trace from the same function."
   ]
  },
  {
   "cell_type": "code",
   "execution_count": 246,
   "metadata": {
    "execution": {
     "iopub.execute_input": "2022-01-04T17:42:24.483839Z",
     "iopub.status.busy": "2022-01-04T17:42:24.482599Z",
     "iopub.status.idle": "2022-01-04T17:42:24.485164Z",
     "shell.execute_reply": "2022-01-04T17:42:24.485788Z"
    },
    "slideshow": {
     "slide_type": "subslide"
    }
   },
   "outputs": [],
   "source": [
    "class TraceTree(TraceTree):\n",
    "    def add_trace(self, tracer, string):\n",
    "        last = self.root\n",
    "        i = 0\n",
    "        for i, elt in enumerate(tracer.path):\n",
    "            last = last.add_child(elt=elt, i=i + 1, cc=tracer, string=string)\n",
    "        last.add_child(elt=z3.BoolVal(True), i=i + 1, cc=tracer, string=string)"
   ]
  },
  {
   "cell_type": "markdown",
   "metadata": {
    "slideshow": {
     "slide_type": "fragment"
    }
   },
   "source": [
    "To make `add_trace()` work, we need a little more infrastructure, that we define below.\n",
    "\n",
    "The `bit()` method translates a predicate to a bit that corresponds to the decision taken at each predicate. If the `if` branch is taken, the result is `1`, while `else` branch is indicated by `0`. The pattern indicates the bit-pattern of decisions required to reach the leaf from the root."
   ]
  },
  {
   "cell_type": "code",
   "execution_count": 247,
   "metadata": {
    "execution": {
     "iopub.execute_input": "2022-01-04T17:42:24.493284Z",
     "iopub.status.busy": "2022-01-04T17:42:24.492495Z",
     "iopub.status.idle": "2022-01-04T17:42:24.494504Z",
     "shell.execute_reply": "2022-01-04T17:42:24.495170Z"
    },
    "slideshow": {
     "slide_type": "subslide"
    }
   },
   "outputs": [],
   "source": [
    "class TraceNode(TraceNode):\n",
    "    def bit(self):\n",
    "        if self._smt_val is None:\n",
    "            return None\n",
    "        return self.tree.no_bit if self._smt_val.decl(\n",
    "        ).name() == 'not' else self.tree.yes_bit\n",
    "\n",
    "    def pattern(self):\n",
    "        if self._pattern is not None:\n",
    "            return self._pattern\n",
    "        path = self.get_path_to_root()\n",
    "        assert path[0]._smt_val is None\n",
    "        assert path[0].parent is None\n",
    "\n",
    "        self._pattern = ''.join([p.bit() for p in path[1:]])\n",
    "        return self._pattern"
   ]
  },
  {
   "cell_type": "markdown",
   "metadata": {
    "slideshow": {
     "slide_type": "subslide"
    }
   },
   "source": [
    "Each node knows how to add a new child, and get the path to root, which is cached.\n",
    "\n",
    "When we add a child to the root node, it means that there was a decision in the current node, and the child is the result of the decision. Hence, to get the decision being made, we simplify the `smt` expression, and check if it starts with `not`. If it does not start with a `not`, we interpret that as the current decision in the node. If it starts with `not`, then we interpret that `not(smt)` was the expression being evaluated in the current node.\n",
    "\n",
    "We know the first decision made only after going through the program at least once. As soon as the program is traversed, we update the parent with the decision that resulted in the current child."
   ]
  },
  {
   "cell_type": "code",
   "execution_count": 248,
   "metadata": {
    "execution": {
     "iopub.execute_input": "2022-01-04T17:42:24.506560Z",
     "iopub.status.busy": "2022-01-04T17:42:24.505822Z",
     "iopub.status.idle": "2022-01-04T17:42:24.507639Z",
     "shell.execute_reply": "2022-01-04T17:42:24.508152Z"
    },
    "slideshow": {
     "slide_type": "subslide"
    }
   },
   "outputs": [],
   "source": [
    "class TraceNode(TraceNode):\n",
    "    def add_child(self, elt, i, cc, string):\n",
    "        if elt == z3.BoolVal(True):\n",
    "            # No more exploration here. Simply unregister the leaves of *this*\n",
    "            # node and possibly register them in completed nodes, and exit\n",
    "            for bit in [self.tree.no_bit, self.tree.yes_bit]:\n",
    "                child_leaf = self.pattern() + ':' + bit\n",
    "                if child_leaf in self.tree.leaves:\n",
    "                    del self.tree.leaves[child_leaf]\n",
    "            self.tree.completed_paths[self.pattern()] = self\n",
    "            return None\n",
    "\n",
    "        child_node = TraceNode(smt_val=elt,\n",
    "                               parent=self,\n",
    "                               info={'num': i, 'cc': cc, 'string': string})\n",
    "        child_node.tree = self.tree\n",
    "\n",
    "        # bit represents the path that child took from this node.\n",
    "        bit = child_node.bit()\n",
    "\n",
    "        # first we update our smt decision\n",
    "        if bit == self.tree.yes_bit:  # yes, which means the smt can be used as is\n",
    "            if self.smt is not None:\n",
    "                assert self.smt == child_node._smt_val\n",
    "            else:\n",
    "                self.smt = child_node._smt_val\n",
    "        # no, which means we have to negate it to get the decision.\n",
    "        elif bit == self.tree.no_bit:\n",
    "            smt_ = z3.simplify(z3.Not(child_node._smt_val))\n",
    "            if self.smt is not None:\n",
    "                assert smt_ == self.smt\n",
    "            else:\n",
    "                self.smt = smt_\n",
    "        else:\n",
    "            assert False\n",
    "\n",
    "        if bit in self.children:\n",
    "            #    if self.log:\n",
    "            #print(elt, child_node.bit(), i, string)\n",
    "            #print(i,'overwriting', bit,'=>',self.children[bit],'with',child_node)\n",
    "            child_node = self.children[bit]\n",
    "            #self.children[bit] = child_node\n",
    "            #child_node.children = old.children\n",
    "        else:\n",
    "            self.children[bit] = child_node\n",
    "\n",
    "        # At this point, we have to unregister any leaves that correspond to this child from tree,\n",
    "        # and add the plausible children of this child as leaves to be explored. Note that\n",
    "        # if it is the end (z3.True), we do not have any more children.\n",
    "        child_leaf = self.pattern() + ':' + bit\n",
    "        if child_leaf in self.tree.leaves:\n",
    "            del self.tree.leaves[child_leaf]\n",
    "\n",
    "        pprefix = child_node.pattern() + ':'\n",
    "\n",
    "        # Plausible children.\n",
    "        for bit in [self.tree.no_bit, self.tree.yes_bit]:\n",
    "            self.tree.leaves[pprefix +\n",
    "                             bit] = PlausibleChild(child_node, bit, self.tree)\n",
    "        return child_node"
   ]
  },
  {
   "cell_type": "markdown",
   "metadata": {
    "slideshow": {
     "slide_type": "subslide"
    }
   },
   "source": [
    "The path to root from any node is computed once and cached."
   ]
  },
  {
   "cell_type": "code",
   "execution_count": 249,
   "metadata": {
    "execution": {
     "iopub.execute_input": "2022-01-04T17:42:24.513434Z",
     "iopub.status.busy": "2022-01-04T17:42:24.512821Z",
     "iopub.status.idle": "2022-01-04T17:42:24.514826Z",
     "shell.execute_reply": "2022-01-04T17:42:24.515307Z"
    },
    "slideshow": {
     "slide_type": "fragment"
    }
   },
   "outputs": [],
   "source": [
    "class TraceNode(TraceNode):\n",
    "    def get_path_to_root(self):\n",
    "        if self.path is not None:\n",
    "            return self.path\n",
    "        parent_path = []\n",
    "        if self.parent is not None:\n",
    "            parent_path = self.parent.get_path_to_root()\n",
    "        self.path = parent_path + [self]\n",
    "        return self.path"
   ]
  },
  {
   "cell_type": "markdown",
   "metadata": {
    "slideshow": {
     "slide_type": "subslide"
    }
   },
   "source": [
    "#### The SimpleConcolicFuzzer class"
   ]
  },
  {
   "cell_type": "markdown",
   "metadata": {
    "slideshow": {
     "slide_type": "fragment"
    }
   },
   "source": [
    "The `SimpleConcolicFuzzer` is defined with the `Fuzzer` interface. "
   ]
  },
  {
   "cell_type": "code",
   "execution_count": 250,
   "metadata": {
    "execution": {
     "iopub.execute_input": "2022-01-04T17:42:24.519749Z",
     "iopub.status.busy": "2022-01-04T17:42:24.519050Z",
     "iopub.status.idle": "2022-01-04T17:42:24.520791Z",
     "shell.execute_reply": "2022-01-04T17:42:24.521221Z"
    },
    "slideshow": {
     "slide_type": "fragment"
    }
   },
   "outputs": [],
   "source": [
    "class SimpleConcolicFuzzer(Fuzzer):\n",
    "    def __init__(self):\n",
    "        self.ct = TraceTree()\n",
    "        self.max_tries = 1000\n",
    "        self.last = None\n",
    "        self.last_idx = None"
   ]
  },
  {
   "cell_type": "markdown",
   "metadata": {
    "slideshow": {
     "slide_type": "fragment"
    }
   },
   "source": [
    "The `add_trace()` method we defined earlier is used as follows. First, we use a random string to generate the concolic trace."
   ]
  },
  {
   "cell_type": "code",
   "execution_count": 251,
   "metadata": {
    "execution": {
     "iopub.execute_input": "2022-01-04T17:42:24.526010Z",
     "iopub.status.busy": "2022-01-04T17:42:24.525213Z",
     "iopub.status.idle": "2022-01-04T17:42:24.528775Z",
     "shell.execute_reply": "2022-01-04T17:42:24.529191Z"
    },
    "slideshow": {
     "slide_type": "fragment"
    }
   },
   "outputs": [],
   "source": [
    "with ExpectTimeout(2):\n",
    "    with ConcolicTracer() as _:\n",
    "        _[hang_if_no_space]('ab d')"
   ]
  },
  {
   "cell_type": "markdown",
   "metadata": {
    "slideshow": {
     "slide_type": "fragment"
    }
   },
   "source": [
    "Next, we initialize and add this trace to the fuzzer."
   ]
  },
  {
   "cell_type": "code",
   "execution_count": 252,
   "metadata": {
    "execution": {
     "iopub.execute_input": "2022-01-04T17:42:24.533140Z",
     "iopub.status.busy": "2022-01-04T17:42:24.532547Z",
     "iopub.status.idle": "2022-01-04T17:42:24.537702Z",
     "shell.execute_reply": "2022-01-04T17:42:24.538119Z"
    },
    "slideshow": {
     "slide_type": "subslide"
    }
   },
   "outputs": [
    {
     "data": {
      "text/plain": [
       "[Not(str.substr(hang_if_no_space_s_str_1, 0, 1) == \" \"),\n",
       " Not(str.substr(hang_if_no_space_s_str_1, 1, 1) == \" \"),\n",
       " str.substr(hang_if_no_space_s_str_1, 2, 1) == \" \"]"
      ]
     },
     "execution_count": 252,
     "metadata": {},
     "output_type": "execute_result"
    }
   ],
   "source": [
    "_.path"
   ]
  },
  {
   "cell_type": "code",
   "execution_count": 253,
   "metadata": {
    "execution": {
     "iopub.execute_input": "2022-01-04T17:42:24.542608Z",
     "iopub.status.busy": "2022-01-04T17:42:24.541968Z",
     "iopub.status.idle": "2022-01-04T17:42:24.545277Z",
     "shell.execute_reply": "2022-01-04T17:42:24.545687Z"
    },
    "slideshow": {
     "slide_type": "fragment"
    }
   },
   "outputs": [],
   "source": [
    "scf = SimpleConcolicFuzzer()\n",
    "scf.ct.add_trace(_, 'ab d')"
   ]
  },
  {
   "cell_type": "markdown",
   "metadata": {
    "slideshow": {
     "slide_type": "fragment"
    }
   },
   "source": [
    "The path we added above can be obtained from the `TraceTree` as below."
   ]
  },
  {
   "cell_type": "code",
   "execution_count": 254,
   "metadata": {
    "execution": {
     "iopub.execute_input": "2022-01-04T17:42:24.550192Z",
     "iopub.status.busy": "2022-01-04T17:42:24.549598Z",
     "iopub.status.idle": "2022-01-04T17:42:24.554332Z",
     "shell.execute_reply": "2022-01-04T17:42:24.554819Z"
    },
    "slideshow": {
     "slide_type": "fragment"
    }
   },
   "outputs": [
    {
     "data": {
      "text/plain": [
       "[None,\n",
       " Not(str.substr(hang_if_no_space_s_str_1, 0, 1) == \" \"),\n",
       " Not(str.substr(hang_if_no_space_s_str_1, 1, 1) == \" \"),\n",
       " str.substr(hang_if_no_space_s_str_1, 2, 1) == \" \"]"
      ]
     },
     "execution_count": 254,
     "metadata": {},
     "output_type": "execute_result"
    }
   ],
   "source": [
    "[i._smt_val for i in scf.ct.root.get_children()[0].get_children()[\n",
    "    0].get_children()[1].get_path_to_root()]"
   ]
  },
  {
   "cell_type": "markdown",
   "metadata": {
    "slideshow": {
     "slide_type": "fragment"
    }
   },
   "source": [
    "Below are the registered leaves that we can explore at this moment."
   ]
  },
  {
   "cell_type": "code",
   "execution_count": 255,
   "metadata": {
    "execution": {
     "iopub.execute_input": "2022-01-04T17:42:24.559081Z",
     "iopub.status.busy": "2022-01-04T17:42:24.558382Z",
     "iopub.status.idle": "2022-01-04T17:42:24.560975Z",
     "shell.execute_reply": "2022-01-04T17:42:24.561411Z"
    },
    "slideshow": {
     "slide_type": "subslide"
    }
   },
   "outputs": [
    {
     "name": "stdout",
     "output_type": "stream",
     "text": [
      ":1 \t PlausibleChild[:1]\n",
      "0:1 \t PlausibleChild[0:1]\n",
      "00:0 \t PlausibleChild[00:0]\n"
     ]
    }
   ],
   "source": [
    "for key in scf.ct.leaves:\n",
    "    print(key, '\\t', scf.ct.leaves[key])"
   ]
  },
  {
   "cell_type": "markdown",
   "metadata": {
    "slideshow": {
     "slide_type": "fragment"
    }
   },
   "source": [
    "Next, we need a way to visualize the constructed tree."
   ]
  },
  {
   "cell_type": "code",
   "execution_count": 256,
   "metadata": {
    "execution": {
     "iopub.execute_input": "2022-01-04T17:42:24.564967Z",
     "iopub.status.busy": "2022-01-04T17:42:24.564371Z",
     "iopub.status.idle": "2022-01-04T17:42:24.566246Z",
     "shell.execute_reply": "2022-01-04T17:42:24.566753Z"
    },
    "slideshow": {
     "slide_type": "skip"
    }
   },
   "outputs": [],
   "source": [
    "from GrammarFuzzer import display_tree"
   ]
  },
  {
   "cell_type": "code",
   "execution_count": 257,
   "metadata": {
    "execution": {
     "iopub.execute_input": "2022-01-04T17:42:24.570288Z",
     "iopub.status.busy": "2022-01-04T17:42:24.569678Z",
     "iopub.status.idle": "2022-01-04T17:42:24.571581Z",
     "shell.execute_reply": "2022-01-04T17:42:24.572024Z"
    },
    "slideshow": {
     "slide_type": "fragment"
    }
   },
   "outputs": [],
   "source": [
    "TREE_NODES = {}"
   ]
  },
  {
   "cell_type": "code",
   "execution_count": 258,
   "metadata": {
    "execution": {
     "iopub.execute_input": "2022-01-04T17:42:24.578192Z",
     "iopub.status.busy": "2022-01-04T17:42:24.577513Z",
     "iopub.status.idle": "2022-01-04T17:42:24.579489Z",
     "shell.execute_reply": "2022-01-04T17:42:24.580089Z"
    },
    "slideshow": {
     "slide_type": "subslide"
    }
   },
   "outputs": [],
   "source": [
    "def my_extract_node(tnode, id):\n",
    "    key, node, parent = tnode\n",
    "    if node is None:\n",
    "        # return '? (%s:%s)' % (parent.pattern(), key) , [], ''\n",
    "        return '?', [], ''\n",
    "    if node.smt is None:\n",
    "        return '* %s' % node.info.get('string', ''), [], ''\n",
    "\n",
    "    no, yes = node.get_children()\n",
    "    num = str(node.info.get('num'))\n",
    "    children = [('0', no, node), ('1', yes, node)]\n",
    "    TREE_NODES[id] = 0\n",
    "    return \"(%s) %s\" % (num, str(node.smt)), children, ''"
   ]
  },
  {
   "cell_type": "code",
   "execution_count": 259,
   "metadata": {
    "execution": {
     "iopub.execute_input": "2022-01-04T17:42:24.585433Z",
     "iopub.status.busy": "2022-01-04T17:42:24.584845Z",
     "iopub.status.idle": "2022-01-04T17:42:24.586708Z",
     "shell.execute_reply": "2022-01-04T17:42:24.587132Z"
    },
    "slideshow": {
     "slide_type": "subslide"
    }
   },
   "outputs": [],
   "source": [
    "def my_edge_attr(dot, start_node, stop_node):\n",
    "    # the edges are always drawn '0:NO' first.\n",
    "    if TREE_NODES[start_node] == 0:\n",
    "        color, label = 'red', '0'\n",
    "        TREE_NODES[start_node] = 1\n",
    "    else:\n",
    "        color, label = 'blue', '1'\n",
    "        TREE_NODES[start_node] = 2\n",
    "    dot.edge(repr(start_node), repr(stop_node), color=color, label=label)"
   ]
  },
  {
   "cell_type": "code",
   "execution_count": 260,
   "metadata": {
    "execution": {
     "iopub.execute_input": "2022-01-04T17:42:24.591815Z",
     "iopub.status.busy": "2022-01-04T17:42:24.590863Z",
     "iopub.status.idle": "2022-01-04T17:42:24.593052Z",
     "shell.execute_reply": "2022-01-04T17:42:24.593503Z"
    },
    "slideshow": {
     "slide_type": "fragment"
    }
   },
   "outputs": [],
   "source": [
    "def display_trace_tree(root):\n",
    "    TREE_NODES.clear()\n",
    "    return display_tree(\n",
    "        ('', root, None), extract_node=my_extract_node, edge_attr=my_edge_attr)"
   ]
  },
  {
   "cell_type": "code",
   "execution_count": 261,
   "metadata": {
    "execution": {
     "iopub.execute_input": "2022-01-04T17:42:24.598103Z",
     "iopub.status.busy": "2022-01-04T17:42:24.597495Z",
     "iopub.status.idle": "2022-01-04T17:42:25.206939Z",
     "shell.execute_reply": "2022-01-04T17:42:25.207874Z"
    },
    "slideshow": {
     "slide_type": "fragment"
    }
   },
   "outputs": [
    {
     "data": {
      "image/svg+xml": [
       "<?xml version=\"1.0\" encoding=\"UTF-8\" standalone=\"no\"?>\n",
       "<!DOCTYPE svg PUBLIC \"-//W3C//DTD SVG 1.1//EN\"\n",
       " \"http://www.w3.org/Graphics/SVG/1.1/DTD/svg11.dtd\">\n",
       "<!-- Generated by graphviz version 2.49.3 (20211023.0002)\n",
       " -->\n",
       "<!-- Pages: 1 -->\n",
       "<svg width=\"513pt\" height=\"221pt\"\n",
       " viewBox=\"0.00 0.00 513.00 221.00\" xmlns=\"http://www.w3.org/2000/svg\" xmlns:xlink=\"http://www.w3.org/1999/xlink\">\n",
       "<g id=\"graph0\" class=\"graph\" transform=\"scale(1 1) rotate(0) translate(4 217)\">\n",
       "<polygon fill=\"white\" stroke=\"transparent\" points=\"-4,4 -4,-217 509,-217 509,4 -4,4\"/>\n",
       "<!-- 0 -->\n",
       "<g id=\"node1\" class=\"node\">\n",
       "<title>0</title>\n",
       "<text text-anchor=\"middle\" x=\"357.5\" y=\"-201.8\" font-family=\"Times,serif\" font-size=\"14.00\">(0) str.substr(hang_if_no_space_s_str_1, 0, 1) == &quot; &quot;</text>\n",
       "</g>\n",
       "<!-- 1 -->\n",
       "<g id=\"node2\" class=\"node\">\n",
       "<title>1</title>\n",
       "<text text-anchor=\"middle\" x=\"231.5\" y=\"-135.8\" font-family=\"Times,serif\" font-size=\"14.00\">(1) str.substr(hang_if_no_space_s_str_1, 1, 1) == &quot; &quot;</text>\n",
       "</g>\n",
       "<!-- 0&#45;&gt;1 -->\n",
       "<g id=\"edge1\" class=\"edge\">\n",
       "<title>0&#45;&gt;1</title>\n",
       "<path fill=\"none\" stroke=\"red\" d=\"M344.49,-197.89C323.08,-187.02 280.17,-165.22 253.83,-151.84\"/>\n",
       "<polygon fill=\"red\" stroke=\"red\" points=\"255.13,-148.58 244.63,-147.17 251.96,-154.82 255.13,-148.58\"/>\n",
       "<text text-anchor=\"middle\" x=\"310.5\" y=\"-168.8\" font-family=\"Times,serif\" font-size=\"14.00\">0</text>\n",
       "</g>\n",
       "<!-- 6 -->\n",
       "<g id=\"node7\" class=\"node\">\n",
       "<title>6</title>\n",
       "<text text-anchor=\"middle\" x=\"400.5\" y=\"-135.8\" font-family=\"Times,serif\" font-size=\"14.00\">?</text>\n",
       "</g>\n",
       "<!-- 0&#45;&gt;6 -->\n",
       "<g id=\"edge6\" class=\"edge\">\n",
       "<title>0&#45;&gt;6</title>\n",
       "<path fill=\"none\" stroke=\"blue\" d=\"M362.1,-197.65C369.01,-187.38 382.19,-167.75 391.16,-154.4\"/>\n",
       "<polygon fill=\"blue\" stroke=\"blue\" points=\"394.13,-156.26 396.8,-146.01 388.32,-152.35 394.13,-156.26\"/>\n",
       "<text text-anchor=\"middle\" x=\"386.5\" y=\"-168.8\" font-family=\"Times,serif\" font-size=\"14.00\">1</text>\n",
       "</g>\n",
       "<!-- 2 -->\n",
       "<g id=\"node3\" class=\"node\">\n",
       "<title>2</title>\n",
       "<text text-anchor=\"middle\" x=\"147.5\" y=\"-69.8\" font-family=\"Times,serif\" font-size=\"14.00\">(2) str.substr(hang_if_no_space_s_str_1, 2, 1) == &quot; &quot;</text>\n",
       "</g>\n",
       "<!-- 1&#45;&gt;2 -->\n",
       "<g id=\"edge2\" class=\"edge\">\n",
       "<title>1&#45;&gt;2</title>\n",
       "<path fill=\"none\" stroke=\"red\" d=\"M222.83,-131.89C209.12,-121.45 182.2,-100.93 164.53,-87.47\"/>\n",
       "<polygon fill=\"red\" stroke=\"red\" points=\"166.33,-84.44 156.25,-81.17 162.08,-90.01 166.33,-84.44\"/>\n",
       "<text text-anchor=\"middle\" x=\"201.5\" y=\"-102.8\" font-family=\"Times,serif\" font-size=\"14.00\">0</text>\n",
       "</g>\n",
       "<!-- 5 -->\n",
       "<g id=\"node6\" class=\"node\">\n",
       "<title>5</title>\n",
       "<text text-anchor=\"middle\" x=\"316.5\" y=\"-69.8\" font-family=\"Times,serif\" font-size=\"14.00\">?</text>\n",
       "</g>\n",
       "<!-- 1&#45;&gt;5 -->\n",
       "<g id=\"edge5\" class=\"edge\">\n",
       "<title>1&#45;&gt;5</title>\n",
       "<path fill=\"none\" stroke=\"blue\" d=\"M240.28,-131.89C255.59,-120.36 287.22,-96.54 304.53,-83.51\"/>\n",
       "<polygon fill=\"blue\" stroke=\"blue\" points=\"306.96,-86.07 312.84,-77.26 302.75,-80.47 306.96,-86.07\"/>\n",
       "<text text-anchor=\"middle\" x=\"286.5\" y=\"-102.8\" font-family=\"Times,serif\" font-size=\"14.00\">1</text>\n",
       "</g>\n",
       "<!-- 3 -->\n",
       "<g id=\"node4\" class=\"node\">\n",
       "<title>3</title>\n",
       "<text text-anchor=\"middle\" x=\"128.5\" y=\"-3.8\" font-family=\"Times,serif\" font-size=\"14.00\">?</text>\n",
       "</g>\n",
       "<!-- 2&#45;&gt;3 -->\n",
       "<g id=\"edge3\" class=\"edge\">\n",
       "<title>2&#45;&gt;3</title>\n",
       "<path fill=\"none\" stroke=\"red\" d=\"M144.39,-65.75C142.25,-60.89 139.44,-54.13 137.5,-48 135.14,-40.52 133.13,-32.05 131.61,-24.89\"/>\n",
       "<polygon fill=\"red\" stroke=\"red\" points=\"135.03,-24.14 129.65,-15.02 128.16,-25.51 135.03,-24.14\"/>\n",
       "<text text-anchor=\"middle\" x=\"141.5\" y=\"-36.8\" font-family=\"Times,serif\" font-size=\"14.00\">0</text>\n",
       "</g>\n",
       "<!-- 4 -->\n",
       "<g id=\"node5\" class=\"node\">\n",
       "<title>4</title>\n",
       "<text text-anchor=\"middle\" x=\"167.5\" y=\"-3.8\" font-family=\"Times,serif\" font-size=\"14.00\">* ab d</text>\n",
       "</g>\n",
       "<!-- 2&#45;&gt;4 -->\n",
       "<g id=\"edge4\" class=\"edge\">\n",
       "<title>2&#45;&gt;4</title>\n",
       "<path fill=\"none\" stroke=\"blue\" d=\"M149.64,-65.65C152.66,-55.98 158.28,-38.02 162.4,-24.81\"/>\n",
       "<polygon fill=\"blue\" stroke=\"blue\" points=\"165.79,-25.7 165.43,-15.11 159.11,-23.61 165.79,-25.7\"/>\n",
       "<text text-anchor=\"middle\" x=\"163.5\" y=\"-36.8\" font-family=\"Times,serif\" font-size=\"14.00\">1</text>\n",
       "</g>\n",
       "</g>\n",
       "</svg>\n"
      ],
      "text/plain": [
       "<graphviz.dot.Digraph at 0x116fd7610>"
      ]
     },
     "execution_count": 261,
     "metadata": {},
     "output_type": "execute_result"
    }
   ],
   "source": [
    "display_trace_tree(scf.ct.root)"
   ]
  },
  {
   "cell_type": "markdown",
   "metadata": {
    "slideshow": {
     "slide_type": "subslide"
    }
   },
   "source": [
    "For example, the pattern `00:0` corresponds to the following predicates."
   ]
  },
  {
   "cell_type": "code",
   "execution_count": 262,
   "metadata": {
    "execution": {
     "iopub.execute_input": "2022-01-04T17:42:25.221725Z",
     "iopub.status.busy": "2022-01-04T17:42:25.218943Z",
     "iopub.status.idle": "2022-01-04T17:42:25.226166Z",
     "shell.execute_reply": "2022-01-04T17:42:25.225492Z"
    },
    "slideshow": {
     "slide_type": "fragment"
    }
   },
   "outputs": [
    {
     "data": {
      "text/plain": [
       "PlausibleChild[00:0]"
      ]
     },
     "execution_count": 262,
     "metadata": {},
     "output_type": "execute_result"
    }
   ],
   "source": [
    "scf.ct.leaves['00:0']"
   ]
  },
  {
   "cell_type": "code",
   "execution_count": 263,
   "metadata": {
    "execution": {
     "iopub.execute_input": "2022-01-04T17:42:25.234973Z",
     "iopub.status.busy": "2022-01-04T17:42:25.233923Z",
     "iopub.status.idle": "2022-01-04T17:42:25.242362Z",
     "shell.execute_reply": "2022-01-04T17:42:25.242809Z"
    },
    "slideshow": {
     "slide_type": "fragment"
    }
   },
   "outputs": [
    {
     "data": {
      "text/plain": [
       "[Not(str.substr(hang_if_no_space_s_str_1, 0, 1) == \" \"),\n",
       " Not(str.substr(hang_if_no_space_s_str_1, 1, 1) == \" \"),\n",
       " Not(str.substr(hang_if_no_space_s_str_1, 2, 1) == \" \")]"
      ]
     },
     "execution_count": 263,
     "metadata": {},
     "output_type": "execute_result"
    }
   ],
   "source": [
    "scf.ct.leaves['00:0'].path_expression()"
   ]
  },
  {
   "cell_type": "markdown",
   "metadata": {
    "slideshow": {
     "slide_type": "fragment"
    }
   },
   "source": [
    "Similarly the pattern `:1` corresponds to the following predicates."
   ]
  },
  {
   "cell_type": "code",
   "execution_count": 264,
   "metadata": {
    "execution": {
     "iopub.execute_input": "2022-01-04T17:42:25.248922Z",
     "iopub.status.busy": "2022-01-04T17:42:25.247964Z",
     "iopub.status.idle": "2022-01-04T17:42:25.251305Z",
     "shell.execute_reply": "2022-01-04T17:42:25.251759Z"
    },
    "slideshow": {
     "slide_type": "fragment"
    }
   },
   "outputs": [
    {
     "data": {
      "text/plain": [
       "PlausibleChild[:1]"
      ]
     },
     "execution_count": 264,
     "metadata": {},
     "output_type": "execute_result"
    }
   ],
   "source": [
    "scf.ct.leaves[':1']"
   ]
  },
  {
   "cell_type": "code",
   "execution_count": 265,
   "metadata": {
    "execution": {
     "iopub.execute_input": "2022-01-04T17:42:25.257925Z",
     "iopub.status.busy": "2022-01-04T17:42:25.256617Z",
     "iopub.status.idle": "2022-01-04T17:42:25.262249Z",
     "shell.execute_reply": "2022-01-04T17:42:25.263155Z"
    },
    "slideshow": {
     "slide_type": "fragment"
    }
   },
   "outputs": [
    {
     "data": {
      "text/plain": [
       "[str.substr(hang_if_no_space_s_str_1, 0, 1) == \" \"]"
      ]
     },
     "execution_count": 265,
     "metadata": {},
     "output_type": "execute_result"
    }
   ],
   "source": [
    "scf.ct.leaves[':1'].path_expression()"
   ]
  },
  {
   "cell_type": "markdown",
   "metadata": {
    "slideshow": {
     "slide_type": "subslide"
    }
   },
   "source": [
    "We can now generate the next input to be generated by looking for the a leaf that is incompletely explored. The idea is to collect all leaf nodes, and choose one at random."
   ]
  },
  {
   "cell_type": "code",
   "execution_count": 266,
   "metadata": {
    "execution": {
     "iopub.execute_input": "2022-01-04T17:42:25.269774Z",
     "iopub.status.busy": "2022-01-04T17:42:25.269051Z",
     "iopub.status.idle": "2022-01-04T17:42:25.271129Z",
     "shell.execute_reply": "2022-01-04T17:42:25.271556Z"
    },
    "slideshow": {
     "slide_type": "fragment"
    }
   },
   "outputs": [],
   "source": [
    "class SimpleConcolicFuzzer(SimpleConcolicFuzzer):\n",
    "    def add_trace(self, trace, s):\n",
    "        self.ct.add_trace(trace, s)\n",
    "\n",
    "    def next_choice(self):\n",
    "        #lst = sorted(list(self.ct.leaves.keys()), key=len)\n",
    "        c = random.choice(list(self.ct.leaves.keys()))\n",
    "        #c = lst[0]\n",
    "        return self.ct.leaves[c]"
   ]
  },
  {
   "cell_type": "markdown",
   "metadata": {
    "slideshow": {
     "slide_type": "fragment"
    }
   },
   "source": [
    "We use the `next_choice()` as follows."
   ]
  },
  {
   "cell_type": "code",
   "execution_count": 267,
   "metadata": {
    "execution": {
     "iopub.execute_input": "2022-01-04T17:42:25.276135Z",
     "iopub.status.busy": "2022-01-04T17:42:25.275466Z",
     "iopub.status.idle": "2022-01-04T17:42:25.280395Z",
     "shell.execute_reply": "2022-01-04T17:42:25.279912Z"
    },
    "slideshow": {
     "slide_type": "subslide"
    }
   },
   "outputs": [],
   "source": [
    "scf = SimpleConcolicFuzzer()\n",
    "scf.add_trace(_, 'ab d')\n",
    "node = scf.next_choice()"
   ]
  },
  {
   "cell_type": "code",
   "execution_count": 268,
   "metadata": {
    "execution": {
     "iopub.execute_input": "2022-01-04T17:42:25.284762Z",
     "iopub.status.busy": "2022-01-04T17:42:25.284054Z",
     "iopub.status.idle": "2022-01-04T17:42:25.286830Z",
     "shell.execute_reply": "2022-01-04T17:42:25.287246Z"
    },
    "slideshow": {
     "slide_type": "fragment"
    }
   },
   "outputs": [
    {
     "data": {
      "text/plain": [
       "PlausibleChild[00:0]"
      ]
     },
     "execution_count": 268,
     "metadata": {},
     "output_type": "execute_result"
    }
   ],
   "source": [
    "node"
   ]
  },
  {
   "cell_type": "code",
   "execution_count": 269,
   "metadata": {
    "execution": {
     "iopub.execute_input": "2022-01-04T17:42:25.291744Z",
     "iopub.status.busy": "2022-01-04T17:42:25.291174Z",
     "iopub.status.idle": "2022-01-04T17:42:25.296230Z",
     "shell.execute_reply": "2022-01-04T17:42:25.296655Z"
    },
    "slideshow": {
     "slide_type": "fragment"
    }
   },
   "outputs": [
    {
     "data": {
      "text/plain": [
       "[Not(str.substr(hang_if_no_space_s_str_1, 0, 1) == \" \"),\n",
       " Not(str.substr(hang_if_no_space_s_str_1, 1, 1) == \" \"),\n",
       " Not(str.substr(hang_if_no_space_s_str_1, 2, 1) == \" \")]"
      ]
     },
     "execution_count": 269,
     "metadata": {},
     "output_type": "execute_result"
    }
   ],
   "source": [
    "node.path_expression()"
   ]
  },
  {
   "cell_type": "markdown",
   "metadata": {
    "slideshow": {
     "slide_type": "fragment"
    }
   },
   "source": [
    "We get the next choice for exploration, and expand the path expression, and return it together with a context using `get_newpath()`"
   ]
  },
  {
   "cell_type": "code",
   "execution_count": 270,
   "metadata": {
    "execution": {
     "iopub.execute_input": "2022-01-04T17:42:25.301685Z",
     "iopub.status.busy": "2022-01-04T17:42:25.301020Z",
     "iopub.status.idle": "2022-01-04T17:42:25.302802Z",
     "shell.execute_reply": "2022-01-04T17:42:25.303445Z"
    },
    "slideshow": {
     "slide_type": "subslide"
    }
   },
   "outputs": [],
   "source": [
    "class SimpleConcolicFuzzer(SimpleConcolicFuzzer):\n",
    "    def get_newpath(self):\n",
    "        node = self.next_choice()\n",
    "        path = node.path_expression()\n",
    "        return path, node.cc()"
   ]
  },
  {
   "cell_type": "code",
   "execution_count": 271,
   "metadata": {
    "execution": {
     "iopub.execute_input": "2022-01-04T17:42:25.307776Z",
     "iopub.status.busy": "2022-01-04T17:42:25.307103Z",
     "iopub.status.idle": "2022-01-04T17:42:25.313167Z",
     "shell.execute_reply": "2022-01-04T17:42:25.313600Z"
    },
    "slideshow": {
     "slide_type": "fragment"
    }
   },
   "outputs": [
    {
     "data": {
      "text/plain": [
       "[str.substr(hang_if_no_space_s_str_1, 0, 1) == \" \"]"
      ]
     },
     "execution_count": 271,
     "metadata": {},
     "output_type": "execute_result"
    }
   ],
   "source": [
    "scf = SimpleConcolicFuzzer()\n",
    "scf.add_trace(_, 'abcd')\n",
    "path, cc = scf.get_newpath()\n",
    "path"
   ]
  },
  {
   "cell_type": "markdown",
   "metadata": {
    "slideshow": {
     "slide_type": "subslide"
    }
   },
   "source": [
    "#### The fuzzing method\n",
    "\n",
    "The `fuzz()` method simply generates new lists of predicates, and solves them to produce new inputs."
   ]
  },
  {
   "cell_type": "code",
   "execution_count": 272,
   "metadata": {
    "execution": {
     "iopub.execute_input": "2022-01-04T17:42:25.320958Z",
     "iopub.status.busy": "2022-01-04T17:42:25.320046Z",
     "iopub.status.idle": "2022-01-04T17:42:25.322412Z",
     "shell.execute_reply": "2022-01-04T17:42:25.322875Z"
    },
    "slideshow": {
     "slide_type": "subslide"
    }
   },
   "outputs": [],
   "source": [
    "class SimpleConcolicFuzzer(SimpleConcolicFuzzer):\n",
    "    def fuzz(self):\n",
    "        if self.ct.root.children == {}:\n",
    "            # a random value to generate comparisons. This would be\n",
    "            # the initial value around which we explore with concolic\n",
    "            # fuzzing.\n",
    "            return ' '\n",
    "        for i in range(self.max_tries):\n",
    "            path, last = self.get_newpath()\n",
    "            s, v = zeval_smt(path, last, log=False)\n",
    "            if s != 'sat':\n",
    "                # raise Exception(\"Unexpected UNSAT\")\n",
    "                continue\n",
    "\n",
    "            val = list(v.values())[0]\n",
    "            elt, typ = val\n",
    "\n",
    "            # make sure that we do not retry the tried paths\n",
    "            # The tracer we add here is incomplete. This gets updated when\n",
    "            # the add_trace is called from the concolic fuzzer context.\n",
    "            # self.add_trace(ConcolicTracer((last.decls, path)), elt)\n",
    "            if typ == 'Int':\n",
    "                if len(elt) == 2 and elt[0] == '-':  # negative numbers are [-, x]\n",
    "                    return -1*int(elt[1])\n",
    "                return int(elt)\n",
    "            elif typ == 'String':\n",
    "                return elt\n",
    "            return elt\n",
    "        return None"
   ]
  },
  {
   "cell_type": "markdown",
   "metadata": {
    "slideshow": {
     "slide_type": "subslide"
    }
   },
   "source": [
    "### End of Excursion"
   ]
  },
  {
   "cell_type": "markdown",
   "metadata": {
    "slideshow": {
     "slide_type": "fragment"
    }
   },
   "source": [
    "To illustrate `SimpleConcolicFuzzer`, let us apply it on our example program `cgi_decode()` from the `Coverage` chapter. Note that we cannot use it directly as the hash lookups in `hex_values` can not be used for transferring constraints yet."
   ]
  },
  {
   "cell_type": "code",
   "execution_count": 273,
   "metadata": {
    "execution": {
     "iopub.execute_input": "2022-01-04T17:42:25.327818Z",
     "iopub.status.busy": "2022-01-04T17:42:25.327217Z",
     "iopub.status.idle": "2022-01-04T17:42:25.330758Z",
     "shell.execute_reply": "2022-01-04T17:42:25.331298Z"
    },
    "slideshow": {
     "slide_type": "fragment"
    }
   },
   "outputs": [],
   "source": [
    "with ConcolicTracer() as _:\n",
    "    _[cgi_decode]('a+c')"
   ]
  },
  {
   "cell_type": "code",
   "execution_count": 274,
   "metadata": {
    "execution": {
     "iopub.execute_input": "2022-01-04T17:42:25.335605Z",
     "iopub.status.busy": "2022-01-04T17:42:25.334878Z",
     "iopub.status.idle": "2022-01-04T17:42:25.340301Z",
     "shell.execute_reply": "2022-01-04T17:42:25.340777Z"
    },
    "slideshow": {
     "slide_type": "fragment"
    }
   },
   "outputs": [],
   "source": [
    "scf = SimpleConcolicFuzzer()\n",
    "scf.add_trace(_, 'a+c')"
   ]
  },
  {
   "cell_type": "markdown",
   "metadata": {
    "slideshow": {
     "slide_type": "fragment"
    }
   },
   "source": [
    "The _trace tree_ shows the path conditions encountered so far. Any blue edge towards a \"?\" implies that there is a path not yet taken."
   ]
  },
  {
   "cell_type": "code",
   "execution_count": 275,
   "metadata": {
    "execution": {
     "iopub.execute_input": "2022-01-04T17:42:25.344951Z",
     "iopub.status.busy": "2022-01-04T17:42:25.344344Z",
     "iopub.status.idle": "2022-01-04T17:42:25.887809Z",
     "shell.execute_reply": "2022-01-04T17:42:25.888400Z"
    },
    "slideshow": {
     "slide_type": "fragment"
    }
   },
   "outputs": [
    {
     "data": {
      "image/svg+xml": [
       "<?xml version=\"1.0\" encoding=\"UTF-8\" standalone=\"no\"?>\n",
       "<!DOCTYPE svg PUBLIC \"-//W3C//DTD SVG 1.1//EN\"\n",
       " \"http://www.w3.org/Graphics/SVG/1.1/DTD/svg11.dtd\">\n",
       "<!-- Generated by graphviz version 2.49.3 (20211023.0002)\n",
       " -->\n",
       "<!-- Pages: 1 -->\n",
       "<svg width=\"460pt\" height=\"353pt\"\n",
       " viewBox=\"0.00 0.00 460.00 353.00\" xmlns=\"http://www.w3.org/2000/svg\" xmlns:xlink=\"http://www.w3.org/1999/xlink\">\n",
       "<g id=\"graph0\" class=\"graph\" transform=\"scale(1 1) rotate(0) translate(4 349)\">\n",
       "<polygon fill=\"white\" stroke=\"transparent\" points=\"-4,4 -4,-349 456,-349 456,4 -4,4\"/>\n",
       "<!-- 0 -->\n",
       "<g id=\"node1\" class=\"node\">\n",
       "<title>0</title>\n",
       "<text text-anchor=\"middle\" x=\"321.5\" y=\"-333.8\" font-family=\"Times,serif\" font-size=\"14.00\">(0) str.substr(cgi_decode_s_str_1, 0, 1) == &quot;+&quot;</text>\n",
       "</g>\n",
       "<!-- 1 -->\n",
       "<g id=\"node2\" class=\"node\">\n",
       "<title>1</title>\n",
       "<text text-anchor=\"middle\" x=\"206.5\" y=\"-267.8\" font-family=\"Times,serif\" font-size=\"14.00\">(1) str.substr(cgi_decode_s_str_1, 0, 1) == &quot;%&quot;</text>\n",
       "</g>\n",
       "<!-- 0&#45;&gt;1 -->\n",
       "<g id=\"edge1\" class=\"edge\">\n",
       "<title>0&#45;&gt;1</title>\n",
       "<path fill=\"none\" stroke=\"red\" d=\"M309.63,-329.89C290.26,-319.11 251.61,-297.61 227.52,-284.2\"/>\n",
       "<polygon fill=\"red\" stroke=\"red\" points=\"228.92,-280.97 218.48,-279.17 225.52,-287.09 228.92,-280.97\"/>\n",
       "<text text-anchor=\"middle\" x=\"278.5\" y=\"-300.8\" font-family=\"Times,serif\" font-size=\"14.00\">0</text>\n",
       "</g>\n",
       "<!-- 10 -->\n",
       "<g id=\"node11\" class=\"node\">\n",
       "<title>10</title>\n",
       "<text text-anchor=\"middle\" x=\"360.5\" y=\"-267.8\" font-family=\"Times,serif\" font-size=\"14.00\">?</text>\n",
       "</g>\n",
       "<!-- 0&#45;&gt;10 -->\n",
       "<g id=\"edge10\" class=\"edge\">\n",
       "<title>0&#45;&gt;10</title>\n",
       "<path fill=\"none\" stroke=\"blue\" d=\"M325.67,-329.65C331.81,-319.58 343.42,-300.52 351.55,-287.2\"/>\n",
       "<polygon fill=\"blue\" stroke=\"blue\" points=\"354.71,-288.72 356.93,-278.36 348.73,-285.08 354.71,-288.72\"/>\n",
       "<text text-anchor=\"middle\" x=\"348.5\" y=\"-300.8\" font-family=\"Times,serif\" font-size=\"14.00\">1</text>\n",
       "</g>\n",
       "<!-- 2 -->\n",
       "<g id=\"node3\" class=\"node\">\n",
       "<title>2</title>\n",
       "<text text-anchor=\"middle\" x=\"130.5\" y=\"-201.8\" font-family=\"Times,serif\" font-size=\"14.00\">(2) str.substr(cgi_decode_s_str_1, 1, 1) == &quot;+&quot;</text>\n",
       "</g>\n",
       "<!-- 1&#45;&gt;2 -->\n",
       "<g id=\"edge2\" class=\"edge\">\n",
       "<title>1&#45;&gt;2</title>\n",
       "<path fill=\"none\" stroke=\"red\" d=\"M198.65,-263.89C186.37,-253.54 162.34,-233.31 146.35,-219.85\"/>\n",
       "<polygon fill=\"red\" stroke=\"red\" points=\"148.32,-216.93 138.42,-213.17 143.81,-222.29 148.32,-216.93\"/>\n",
       "<text text-anchor=\"middle\" x=\"179.5\" y=\"-234.8\" font-family=\"Times,serif\" font-size=\"14.00\">0</text>\n",
       "</g>\n",
       "<!-- 9 -->\n",
       "<g id=\"node10\" class=\"node\">\n",
       "<title>9</title>\n",
       "<text text-anchor=\"middle\" x=\"282.5\" y=\"-201.8\" font-family=\"Times,serif\" font-size=\"14.00\">?</text>\n",
       "</g>\n",
       "<!-- 1&#45;&gt;9 -->\n",
       "<g id=\"edge9\" class=\"edge\">\n",
       "<title>1&#45;&gt;9</title>\n",
       "<path fill=\"none\" stroke=\"blue\" d=\"M214.35,-263.89C227.79,-252.57 255.28,-229.42 270.93,-216.24\"/>\n",
       "<polygon fill=\"blue\" stroke=\"blue\" points=\"273.51,-218.64 278.91,-209.52 269.01,-213.29 273.51,-218.64\"/>\n",
       "<text text-anchor=\"middle\" x=\"255.5\" y=\"-234.8\" font-family=\"Times,serif\" font-size=\"14.00\">1</text>\n",
       "</g>\n",
       "<!-- 3 -->\n",
       "<g id=\"node4\" class=\"node\">\n",
       "<title>3</title>\n",
       "<text text-anchor=\"middle\" x=\"115.5\" y=\"-135.8\" font-family=\"Times,serif\" font-size=\"14.00\">?</text>\n",
       "</g>\n",
       "<!-- 2&#45;&gt;3 -->\n",
       "<g id=\"edge3\" class=\"edge\">\n",
       "<title>2&#45;&gt;3</title>\n",
       "<path fill=\"none\" stroke=\"red\" d=\"M128.89,-197.65C126.65,-188.07 122.5,-170.38 119.41,-157.2\"/>\n",
       "<polygon fill=\"red\" stroke=\"red\" points=\"122.74,-156.05 117.05,-147.11 115.92,-157.64 122.74,-156.05\"/>\n",
       "<text text-anchor=\"middle\" x=\"128.5\" y=\"-168.8\" font-family=\"Times,serif\" font-size=\"14.00\">0</text>\n",
       "</g>\n",
       "<!-- 4 -->\n",
       "<g id=\"node5\" class=\"node\">\n",
       "<title>4</title>\n",
       "<text text-anchor=\"middle\" x=\"267.5\" y=\"-135.8\" font-family=\"Times,serif\" font-size=\"14.00\">(3) str.substr(cgi_decode_s_str_1, 2, 1) == &quot;+&quot;</text>\n",
       "</g>\n",
       "<!-- 2&#45;&gt;4 -->\n",
       "<g id=\"edge4\" class=\"edge\">\n",
       "<title>2&#45;&gt;4</title>\n",
       "<path fill=\"none\" stroke=\"blue\" d=\"M144.65,-197.89C168.13,-186.92 215.4,-164.84 243.97,-151.49\"/>\n",
       "<polygon fill=\"blue\" stroke=\"blue\" points=\"245.65,-154.57 253.23,-147.17 242.68,-148.23 245.65,-154.57\"/>\n",
       "<text text-anchor=\"middle\" x=\"215.5\" y=\"-168.8\" font-family=\"Times,serif\" font-size=\"14.00\">1</text>\n",
       "</g>\n",
       "<!-- 5 -->\n",
       "<g id=\"node6\" class=\"node\">\n",
       "<title>5</title>\n",
       "<text text-anchor=\"middle\" x=\"159.5\" y=\"-69.8\" font-family=\"Times,serif\" font-size=\"14.00\">(4) str.substr(cgi_decode_s_str_1, 2, 1) == &quot;%&quot;</text>\n",
       "</g>\n",
       "<!-- 4&#45;&gt;5 -->\n",
       "<g id=\"edge5\" class=\"edge\">\n",
       "<title>4&#45;&gt;5</title>\n",
       "<path fill=\"none\" stroke=\"red\" d=\"M256.35,-131.89C238.24,-121.16 202.19,-99.8 179.55,-86.38\"/>\n",
       "<polygon fill=\"red\" stroke=\"red\" points=\"181.14,-83.26 170.75,-81.17 177.57,-89.28 181.14,-83.26\"/>\n",
       "<text text-anchor=\"middle\" x=\"227.5\" y=\"-102.8\" font-family=\"Times,serif\" font-size=\"14.00\">0</text>\n",
       "</g>\n",
       "<!-- 8 -->\n",
       "<g id=\"node9\" class=\"node\">\n",
       "<title>8</title>\n",
       "<text text-anchor=\"middle\" x=\"313.5\" y=\"-69.8\" font-family=\"Times,serif\" font-size=\"14.00\">?</text>\n",
       "</g>\n",
       "<!-- 4&#45;&gt;8 -->\n",
       "<g id=\"edge8\" class=\"edge\">\n",
       "<title>4&#45;&gt;8</title>\n",
       "<path fill=\"none\" stroke=\"blue\" d=\"M272.42,-131.65C279.88,-121.27 294.2,-101.36 303.8,-88\"/>\n",
       "<polygon fill=\"blue\" stroke=\"blue\" points=\"306.8,-89.82 309.79,-79.66 301.12,-85.73 306.8,-89.82\"/>\n",
       "<text text-anchor=\"middle\" x=\"299.5\" y=\"-102.8\" font-family=\"Times,serif\" font-size=\"14.00\">1</text>\n",
       "</g>\n",
       "<!-- 6 -->\n",
       "<g id=\"node7\" class=\"node\">\n",
       "<title>6</title>\n",
       "<text text-anchor=\"middle\" x=\"141.5\" y=\"-3.8\" font-family=\"Times,serif\" font-size=\"14.00\">* a+c</text>\n",
       "</g>\n",
       "<!-- 5&#45;&gt;6 -->\n",
       "<g id=\"edge6\" class=\"edge\">\n",
       "<title>5&#45;&gt;6</title>\n",
       "<path fill=\"none\" stroke=\"red\" d=\"M155.95,-65.81C153.53,-60.98 150.42,-54.24 148.5,-48 146.24,-40.66 144.63,-32.32 143.53,-25.2\"/>\n",
       "<polygon fill=\"red\" stroke=\"red\" points=\"146.96,-24.49 142.16,-15.05 140.03,-25.42 146.96,-24.49\"/>\n",
       "<text text-anchor=\"middle\" x=\"152.5\" y=\"-36.8\" font-family=\"Times,serif\" font-size=\"14.00\">0</text>\n",
       "</g>\n",
       "<!-- 7 -->\n",
       "<g id=\"node8\" class=\"node\">\n",
       "<title>7</title>\n",
       "<text text-anchor=\"middle\" x=\"178.5\" y=\"-3.8\" font-family=\"Times,serif\" font-size=\"14.00\">?</text>\n",
       "</g>\n",
       "<!-- 5&#45;&gt;7 -->\n",
       "<g id=\"edge7\" class=\"edge\">\n",
       "<title>5&#45;&gt;7</title>\n",
       "<path fill=\"none\" stroke=\"blue\" d=\"M161.53,-65.65C164.41,-55.98 169.74,-38.02 173.66,-24.81\"/>\n",
       "<polygon fill=\"blue\" stroke=\"blue\" points=\"177.05,-25.69 176.54,-15.11 170.34,-23.7 177.05,-25.69\"/>\n",
       "<text text-anchor=\"middle\" x=\"175.5\" y=\"-36.8\" font-family=\"Times,serif\" font-size=\"14.00\">1</text>\n",
       "</g>\n",
       "</g>\n",
       "</svg>\n"
      ],
      "text/plain": [
       "<graphviz.dot.Digraph at 0x11709efa0>"
      ]
     },
     "execution_count": 275,
     "metadata": {},
     "output_type": "execute_result"
    }
   ],
   "source": [
    "display_trace_tree(scf.ct.root)"
   ]
  },
  {
   "cell_type": "markdown",
   "metadata": {
    "slideshow": {
     "slide_type": "fragment"
    }
   },
   "source": [
    "So, we fuzz to get a new path that is not empty."
   ]
  },
  {
   "cell_type": "code",
   "execution_count": 276,
   "metadata": {
    "execution": {
     "iopub.execute_input": "2022-01-04T17:42:25.894423Z",
     "iopub.status.busy": "2022-01-04T17:42:25.893671Z",
     "iopub.status.idle": "2022-01-04T17:42:25.989530Z",
     "shell.execute_reply": "2022-01-04T17:42:25.990111Z"
    },
    "slideshow": {
     "slide_type": "subslide"
    }
   },
   "outputs": [
    {
     "name": "stdout",
     "output_type": "stream",
     "text": [
      "+\\x00\n"
     ]
    }
   ],
   "source": [
    "v = scf.fuzz()\n",
    "while not v:\n",
    "    v = scf.fuzz()\n",
    "print(v)"
   ]
  },
  {
   "cell_type": "markdown",
   "metadata": {
    "slideshow": {
     "slide_type": "fragment"
    }
   },
   "source": [
    "We can now obtain the new trace as before."
   ]
  },
  {
   "cell_type": "code",
   "execution_count": 277,
   "metadata": {
    "execution": {
     "iopub.execute_input": "2022-01-04T17:42:25.997679Z",
     "iopub.status.busy": "2022-01-04T17:42:25.997019Z",
     "iopub.status.idle": "2022-01-04T17:42:26.001915Z",
     "shell.execute_reply": "2022-01-04T17:42:26.002670Z"
    },
    "slideshow": {
     "slide_type": "fragment"
    }
   },
   "outputs": [],
   "source": [
    "with ExpectError():\n",
    "    with ConcolicTracer() as _:\n",
    "        _[cgi_decode](v)"
   ]
  },
  {
   "cell_type": "markdown",
   "metadata": {
    "slideshow": {
     "slide_type": "fragment"
    }
   },
   "source": [
    "The new trace is added to our fuzzer using `add_trace()`"
   ]
  },
  {
   "cell_type": "code",
   "execution_count": 278,
   "metadata": {
    "execution": {
     "iopub.execute_input": "2022-01-04T17:42:26.008990Z",
     "iopub.status.busy": "2022-01-04T17:42:26.008050Z",
     "iopub.status.idle": "2022-01-04T17:42:26.017360Z",
     "shell.execute_reply": "2022-01-04T17:42:26.017928Z"
    },
    "slideshow": {
     "slide_type": "fragment"
    }
   },
   "outputs": [],
   "source": [
    "scf.add_trace(_, v)"
   ]
  },
  {
   "cell_type": "markdown",
   "metadata": {
    "slideshow": {
     "slide_type": "fragment"
    }
   },
   "source": [
    "The updated binary tree is as follows. Note the difference between the child nodes of `Root` node."
   ]
  },
  {
   "cell_type": "code",
   "execution_count": 279,
   "metadata": {
    "execution": {
     "iopub.execute_input": "2022-01-04T17:42:26.027104Z",
     "iopub.status.busy": "2022-01-04T17:42:26.025029Z",
     "iopub.status.idle": "2022-01-04T17:42:26.647884Z",
     "shell.execute_reply": "2022-01-04T17:42:26.648363Z"
    },
    "slideshow": {
     "slide_type": "subslide"
    }
   },
   "outputs": [
    {
     "data": {
      "image/svg+xml": [
       "<?xml version=\"1.0\" encoding=\"UTF-8\" standalone=\"no\"?>\n",
       "<!DOCTYPE svg PUBLIC \"-//W3C//DTD SVG 1.1//EN\"\n",
       " \"http://www.w3.org/Graphics/SVG/1.1/DTD/svg11.dtd\">\n",
       "<!-- Generated by graphviz version 2.49.3 (20211023.0002)\n",
       " -->\n",
       "<!-- Pages: 1 -->\n",
       "<svg width=\"855pt\" height=\"617pt\"\n",
       " viewBox=\"0.00 0.00 855.00 617.00\" xmlns=\"http://www.w3.org/2000/svg\" xmlns:xlink=\"http://www.w3.org/1999/xlink\">\n",
       "<g id=\"graph0\" class=\"graph\" transform=\"scale(1 1) rotate(0) translate(4 613)\">\n",
       "<polygon fill=\"white\" stroke=\"transparent\" points=\"-4,4 -4,-613 851,-613 851,4 -4,4\"/>\n",
       "<!-- 0 -->\n",
       "<g id=\"node1\" class=\"node\">\n",
       "<title>0</title>\n",
       "<text text-anchor=\"middle\" x=\"560.5\" y=\"-597.8\" font-family=\"Times,serif\" font-size=\"14.00\">(0) str.substr(cgi_decode_s_str_1, 0, 1) == &quot;+&quot;</text>\n",
       "</g>\n",
       "<!-- 1 -->\n",
       "<g id=\"node2\" class=\"node\">\n",
       "<title>1</title>\n",
       "<text text-anchor=\"middle\" x=\"420.5\" y=\"-531.8\" font-family=\"Times,serif\" font-size=\"14.00\">(1) str.substr(cgi_decode_s_str_1, 0, 1) == &quot;%&quot;</text>\n",
       "</g>\n",
       "<!-- 0&#45;&gt;1 -->\n",
       "<g id=\"edge1\" class=\"edge\">\n",
       "<title>0&#45;&gt;1</title>\n",
       "<path fill=\"none\" stroke=\"red\" d=\"M546.04,-593.89C522.05,-582.92 473.74,-560.84 444.55,-547.49\"/>\n",
       "<polygon fill=\"red\" stroke=\"red\" points=\"445.64,-544.14 435.09,-543.17 442.73,-550.51 445.64,-544.14\"/>\n",
       "<text text-anchor=\"middle\" x=\"507.5\" y=\"-564.8\" font-family=\"Times,serif\" font-size=\"14.00\">0</text>\n",
       "</g>\n",
       "<!-- 10 -->\n",
       "<g id=\"node11\" class=\"node\">\n",
       "<title>10</title>\n",
       "<text text-anchor=\"middle\" x=\"701.5\" y=\"-531.8\" font-family=\"Times,serif\" font-size=\"14.00\">(1) str.substr(cgi_decode_s_str_1, 1, 1) == &quot;+&quot;</text>\n",
       "</g>\n",
       "<!-- 0&#45;&gt;10 -->\n",
       "<g id=\"edge10\" class=\"edge\">\n",
       "<title>0&#45;&gt;10</title>\n",
       "<path fill=\"none\" stroke=\"blue\" d=\"M575.06,-593.89C599.33,-582.87 648.3,-560.65 677.67,-547.32\"/>\n",
       "<polygon fill=\"blue\" stroke=\"blue\" points=\"679.15,-550.49 686.81,-543.17 676.26,-544.11 679.15,-550.49\"/>\n",
       "<text text-anchor=\"middle\" x=\"648.5\" y=\"-564.8\" font-family=\"Times,serif\" font-size=\"14.00\">1</text>\n",
       "</g>\n",
       "<!-- 2 -->\n",
       "<g id=\"node3\" class=\"node\">\n",
       "<title>2</title>\n",
       "<text text-anchor=\"middle\" x=\"283.5\" y=\"-465.8\" font-family=\"Times,serif\" font-size=\"14.00\">(2) str.substr(cgi_decode_s_str_1, 1, 1) == &quot;+&quot;</text>\n",
       "</g>\n",
       "<!-- 1&#45;&gt;2 -->\n",
       "<g id=\"edge2\" class=\"edge\">\n",
       "<title>1&#45;&gt;2</title>\n",
       "<path fill=\"none\" stroke=\"red\" d=\"M406.35,-527.89C382.87,-516.92 335.6,-494.84 307.03,-481.49\"/>\n",
       "<polygon fill=\"red\" stroke=\"red\" points=\"308.32,-478.23 297.77,-477.17 305.35,-484.57 308.32,-478.23\"/>\n",
       "<text text-anchor=\"middle\" x=\"368.5\" y=\"-498.8\" font-family=\"Times,serif\" font-size=\"14.00\">0</text>\n",
       "</g>\n",
       "<!-- 9 -->\n",
       "<g id=\"node10\" class=\"node\">\n",
       "<title>9</title>\n",
       "<text text-anchor=\"middle\" x=\"435.5\" y=\"-465.8\" font-family=\"Times,serif\" font-size=\"14.00\">?</text>\n",
       "</g>\n",
       "<!-- 1&#45;&gt;9 -->\n",
       "<g id=\"edge9\" class=\"edge\">\n",
       "<title>1&#45;&gt;9</title>\n",
       "<path fill=\"none\" stroke=\"blue\" d=\"M422.11,-527.65C424.35,-518.07 428.5,-500.38 431.59,-487.2\"/>\n",
       "<polygon fill=\"blue\" stroke=\"blue\" points=\"435.08,-487.64 433.95,-477.11 428.26,-486.05 435.08,-487.64\"/>\n",
       "<text text-anchor=\"middle\" x=\"433.5\" y=\"-498.8\" font-family=\"Times,serif\" font-size=\"14.00\">1</text>\n",
       "</g>\n",
       "<!-- 3 -->\n",
       "<g id=\"node4\" class=\"node\">\n",
       "<title>3</title>\n",
       "<text text-anchor=\"middle\" x=\"205.5\" y=\"-399.8\" font-family=\"Times,serif\" font-size=\"14.00\">?</text>\n",
       "</g>\n",
       "<!-- 2&#45;&gt;3 -->\n",
       "<g id=\"edge3\" class=\"edge\">\n",
       "<title>2&#45;&gt;3</title>\n",
       "<path fill=\"none\" stroke=\"red\" d=\"M275.45,-461.89C261.52,-450.47 232.9,-426.98 216.92,-413.87\"/>\n",
       "<polygon fill=\"red\" stroke=\"red\" points=\"219.14,-411.16 209.19,-407.52 214.7,-416.57 219.14,-411.16\"/>\n",
       "<text text-anchor=\"middle\" x=\"255.5\" y=\"-432.8\" font-family=\"Times,serif\" font-size=\"14.00\">0</text>\n",
       "</g>\n",
       "<!-- 4 -->\n",
       "<g id=\"node5\" class=\"node\">\n",
       "<title>4</title>\n",
       "<text text-anchor=\"middle\" x=\"357.5\" y=\"-399.8\" font-family=\"Times,serif\" font-size=\"14.00\">(3) str.substr(cgi_decode_s_str_1, 2, 1) == &quot;+&quot;</text>\n",
       "</g>\n",
       "<!-- 2&#45;&gt;4 -->\n",
       "<g id=\"edge4\" class=\"edge\">\n",
       "<title>2&#45;&gt;4</title>\n",
       "<path fill=\"none\" stroke=\"blue\" d=\"M291.14,-461.89C303.11,-451.54 326.5,-431.31 342.07,-417.85\"/>\n",
       "<polygon fill=\"blue\" stroke=\"blue\" points=\"344.52,-420.36 349.79,-411.17 339.94,-415.06 344.52,-420.36\"/>\n",
       "<text text-anchor=\"middle\" x=\"331.5\" y=\"-432.8\" font-family=\"Times,serif\" font-size=\"14.00\">1</text>\n",
       "</g>\n",
       "<!-- 5 -->\n",
       "<g id=\"node6\" class=\"node\">\n",
       "<title>5</title>\n",
       "<text text-anchor=\"middle\" x=\"208.5\" y=\"-333.8\" font-family=\"Times,serif\" font-size=\"14.00\">(4) str.substr(cgi_decode_s_str_1, 2, 1) == &quot;%&quot;</text>\n",
       "</g>\n",
       "<!-- 4&#45;&gt;5 -->\n",
       "<g id=\"edge5\" class=\"edge\">\n",
       "<title>4&#45;&gt;5</title>\n",
       "<path fill=\"none\" stroke=\"red\" d=\"M342.12,-395.89C316.35,-384.83 264.26,-362.45 233.28,-349.14\"/>\n",
       "<polygon fill=\"red\" stroke=\"red\" points=\"234.59,-345.9 224.02,-345.17 231.83,-352.33 234.59,-345.9\"/>\n",
       "<text text-anchor=\"middle\" x=\"300.5\" y=\"-366.8\" font-family=\"Times,serif\" font-size=\"14.00\">0</text>\n",
       "</g>\n",
       "<!-- 8 -->\n",
       "<g id=\"node9\" class=\"node\">\n",
       "<title>8</title>\n",
       "<text text-anchor=\"middle\" x=\"362.5\" y=\"-333.8\" font-family=\"Times,serif\" font-size=\"14.00\">?</text>\n",
       "</g>\n",
       "<!-- 4&#45;&gt;8 -->\n",
       "<g id=\"edge8\" class=\"edge\">\n",
       "<title>4&#45;&gt;8</title>\n",
       "<path fill=\"none\" stroke=\"blue\" d=\"M358.04,-395.65C358.78,-386.07 360.17,-368.38 361.2,-355.2\"/>\n",
       "<polygon fill=\"blue\" stroke=\"blue\" points=\"364.69,-355.35 361.98,-345.11 357.72,-354.81 364.69,-355.35\"/>\n",
       "<text text-anchor=\"middle\" x=\"364.5\" y=\"-366.8\" font-family=\"Times,serif\" font-size=\"14.00\">1</text>\n",
       "</g>\n",
       "<!-- 6 -->\n",
       "<g id=\"node7\" class=\"node\">\n",
       "<title>6</title>\n",
       "<text text-anchor=\"middle\" x=\"194.5\" y=\"-267.8\" font-family=\"Times,serif\" font-size=\"14.00\">* a+c</text>\n",
       "</g>\n",
       "<!-- 5&#45;&gt;6 -->\n",
       "<g id=\"edge6\" class=\"edge\">\n",
       "<title>5&#45;&gt;6</title>\n",
       "<path fill=\"none\" stroke=\"red\" d=\"M206.35,-329.68C204.86,-324.8 202.89,-318.03 201.5,-312 199.79,-304.61 198.27,-296.35 197.09,-289.31\"/>\n",
       "<polygon fill=\"red\" stroke=\"red\" points=\"200.51,-288.57 195.48,-279.25 193.6,-289.68 200.51,-288.57\"/>\n",
       "<text text-anchor=\"middle\" x=\"205.5\" y=\"-300.8\" font-family=\"Times,serif\" font-size=\"14.00\">0</text>\n",
       "</g>\n",
       "<!-- 7 -->\n",
       "<g id=\"node8\" class=\"node\">\n",
       "<title>7</title>\n",
       "<text text-anchor=\"middle\" x=\"231.5\" y=\"-267.8\" font-family=\"Times,serif\" font-size=\"14.00\">?</text>\n",
       "</g>\n",
       "<!-- 5&#45;&gt;7 -->\n",
       "<g id=\"edge7\" class=\"edge\">\n",
       "<title>5&#45;&gt;7</title>\n",
       "<path fill=\"none\" stroke=\"blue\" d=\"M210.96,-329.65C214.44,-319.98 220.89,-302.02 225.64,-288.81\"/>\n",
       "<polygon fill=\"blue\" stroke=\"blue\" points=\"229.04,-289.7 229.13,-279.11 222.45,-287.34 229.04,-289.7\"/>\n",
       "<text text-anchor=\"middle\" x=\"226.5\" y=\"-300.8\" font-family=\"Times,serif\" font-size=\"14.00\">1</text>\n",
       "</g>\n",
       "<!-- 11 -->\n",
       "<g id=\"node12\" class=\"node\">\n",
       "<title>11</title>\n",
       "<text text-anchor=\"middle\" x=\"689.5\" y=\"-465.8\" font-family=\"Times,serif\" font-size=\"14.00\">(2) str.substr(cgi_decode_s_str_1, 1, 1) == &quot;%&quot;</text>\n",
       "</g>\n",
       "<!-- 10&#45;&gt;11 -->\n",
       "<g id=\"edge11\" class=\"edge\">\n",
       "<title>10&#45;&gt;11</title>\n",
       "<path fill=\"none\" stroke=\"red\" d=\"M700.22,-527.65C698.42,-518.07 695.1,-500.38 692.63,-487.2\"/>\n",
       "<polygon fill=\"red\" stroke=\"red\" points=\"696.02,-486.29 690.74,-477.11 689.14,-487.58 696.02,-486.29\"/>\n",
       "<text text-anchor=\"middle\" x=\"701.5\" y=\"-498.8\" font-family=\"Times,serif\" font-size=\"14.00\">0</text>\n",
       "</g>\n",
       "<!-- 26 -->\n",
       "<g id=\"node27\" class=\"node\">\n",
       "<title>26</title>\n",
       "<text text-anchor=\"middle\" x=\"843.5\" y=\"-465.8\" font-family=\"Times,serif\" font-size=\"14.00\">?</text>\n",
       "</g>\n",
       "<!-- 10&#45;&gt;26 -->\n",
       "<g id=\"edge26\" class=\"edge\">\n",
       "<title>10&#45;&gt;26</title>\n",
       "<path fill=\"none\" stroke=\"blue\" d=\"M716.69,-527.99C740.91,-517.55 789.71,-496.28 830.5,-477 830.6,-476.95 830.69,-476.91 830.79,-476.86\"/>\n",
       "<polygon fill=\"blue\" stroke=\"blue\" points=\"832.24,-480.05 839.65,-472.48 829.14,-473.77 832.24,-480.05\"/>\n",
       "<text text-anchor=\"middle\" x=\"792.5\" y=\"-498.8\" font-family=\"Times,serif\" font-size=\"14.00\">1</text>\n",
       "</g>\n",
       "<!-- 12 -->\n",
       "<g id=\"node13\" class=\"node\">\n",
       "<title>12</title>\n",
       "<text text-anchor=\"middle\" x=\"661.5\" y=\"-399.8\" font-family=\"Times,serif\" font-size=\"14.00\">(3) str.substr(cgi_decode_s_str_1, 2, 1) == &quot;+&quot;</text>\n",
       "</g>\n",
       "<!-- 11&#45;&gt;12 -->\n",
       "<g id=\"edge12\" class=\"edge\">\n",
       "<title>11&#45;&gt;12</title>\n",
       "<path fill=\"none\" stroke=\"red\" d=\"M686.5,-461.65C682.23,-451.88 674.26,-433.66 668.46,-420.41\"/>\n",
       "<polygon fill=\"red\" stroke=\"red\" points=\"671.61,-418.87 664.39,-411.11 665.19,-421.67 671.61,-418.87\"/>\n",
       "<text text-anchor=\"middle\" x=\"682.5\" y=\"-432.8\" font-family=\"Times,serif\" font-size=\"14.00\">0</text>\n",
       "</g>\n",
       "<!-- 25 -->\n",
       "<g id=\"node26\" class=\"node\">\n",
       "<title>25</title>\n",
       "<text text-anchor=\"middle\" x=\"813.5\" y=\"-399.8\" font-family=\"Times,serif\" font-size=\"14.00\">?</text>\n",
       "</g>\n",
       "<!-- 11&#45;&gt;25 -->\n",
       "<g id=\"edge25\" class=\"edge\">\n",
       "<title>11&#45;&gt;25</title>\n",
       "<path fill=\"none\" stroke=\"blue\" d=\"M702.3,-461.89C726.02,-449.65 776.55,-423.57 800.45,-411.24\"/>\n",
       "<polygon fill=\"blue\" stroke=\"blue\" points=\"802.31,-414.21 809.59,-406.52 799.1,-407.99 802.31,-414.21\"/>\n",
       "<text text-anchor=\"middle\" x=\"767.5\" y=\"-432.8\" font-family=\"Times,serif\" font-size=\"14.00\">1</text>\n",
       "</g>\n",
       "<!-- 13 -->\n",
       "<g id=\"node14\" class=\"node\">\n",
       "<title>13</title>\n",
       "<text text-anchor=\"middle\" x=\"532.5\" y=\"-333.8\" font-family=\"Times,serif\" font-size=\"14.00\">(4) str.substr(cgi_decode_s_str_1, 2, 1) == &quot;%&quot;</text>\n",
       "</g>\n",
       "<!-- 12&#45;&gt;13 -->\n",
       "<g id=\"edge13\" class=\"edge\">\n",
       "<title>12&#45;&gt;13</title>\n",
       "<path fill=\"none\" stroke=\"red\" d=\"M648.18,-395.89C626.16,-384.97 581.95,-363.03 555.01,-349.67\"/>\n",
       "<polygon fill=\"red\" stroke=\"red\" points=\"556.45,-346.48 545.94,-345.17 553.34,-352.75 556.45,-346.48\"/>\n",
       "<text text-anchor=\"middle\" x=\"613.5\" y=\"-366.8\" font-family=\"Times,serif\" font-size=\"14.00\">0</text>\n",
       "</g>\n",
       "<!-- 24 -->\n",
       "<g id=\"node25\" class=\"node\">\n",
       "<title>24</title>\n",
       "<text text-anchor=\"middle\" x=\"686.5\" y=\"-333.8\" font-family=\"Times,serif\" font-size=\"14.00\">?</text>\n",
       "</g>\n",
       "<!-- 12&#45;&gt;24 -->\n",
       "<g id=\"edge24\" class=\"edge\">\n",
       "<title>12&#45;&gt;24</title>\n",
       "<path fill=\"none\" stroke=\"blue\" d=\"M664.18,-395.65C667.95,-385.98 674.97,-368.02 680.13,-354.81\"/>\n",
       "<polygon fill=\"blue\" stroke=\"blue\" points=\"683.54,-355.7 683.92,-345.11 677.02,-353.15 683.54,-355.7\"/>\n",
       "<text text-anchor=\"middle\" x=\"680.5\" y=\"-366.8\" font-family=\"Times,serif\" font-size=\"14.00\">1</text>\n",
       "</g>\n",
       "<!-- 14 -->\n",
       "<g id=\"node15\" class=\"node\">\n",
       "<title>14</title>\n",
       "<text text-anchor=\"middle\" x=\"393.5\" y=\"-267.8\" font-family=\"Times,serif\" font-size=\"14.00\">(5) str.substr(cgi_decode_s_str_1, 3, 1) == &quot;+&quot;</text>\n",
       "</g>\n",
       "<!-- 13&#45;&gt;14 -->\n",
       "<g id=\"edge14\" class=\"edge\">\n",
       "<title>13&#45;&gt;14</title>\n",
       "<path fill=\"none\" stroke=\"red\" d=\"M518.15,-329.89C494.32,-318.92 446.36,-296.84 417.37,-283.49\"/>\n",
       "<polygon fill=\"red\" stroke=\"red\" points=\"418.53,-280.17 407.98,-279.17 415.6,-286.53 418.53,-280.17\"/>\n",
       "<text text-anchor=\"middle\" x=\"479.5\" y=\"-300.8\" font-family=\"Times,serif\" font-size=\"14.00\">0</text>\n",
       "</g>\n",
       "<!-- 23 -->\n",
       "<g id=\"node24\" class=\"node\">\n",
       "<title>23</title>\n",
       "<text text-anchor=\"middle\" x=\"545.5\" y=\"-267.8\" font-family=\"Times,serif\" font-size=\"14.00\">?</text>\n",
       "</g>\n",
       "<!-- 13&#45;&gt;23 -->\n",
       "<g id=\"edge23\" class=\"edge\">\n",
       "<title>13&#45;&gt;23</title>\n",
       "<path fill=\"none\" stroke=\"blue\" d=\"M533.89,-329.65C535.84,-320.07 539.43,-302.38 542.11,-289.2\"/>\n",
       "<polygon fill=\"blue\" stroke=\"blue\" points=\"545.6,-289.6 544.16,-279.11 538.74,-288.21 545.6,-289.6\"/>\n",
       "<text text-anchor=\"middle\" x=\"544.5\" y=\"-300.8\" font-family=\"Times,serif\" font-size=\"14.00\">1</text>\n",
       "</g>\n",
       "<!-- 15 -->\n",
       "<g id=\"node16\" class=\"node\">\n",
       "<title>15</title>\n",
       "<text text-anchor=\"middle\" x=\"285.5\" y=\"-201.8\" font-family=\"Times,serif\" font-size=\"14.00\">(6) str.substr(cgi_decode_s_str_1, 3, 1) == &quot;%&quot;</text>\n",
       "</g>\n",
       "<!-- 14&#45;&gt;15 -->\n",
       "<g id=\"edge15\" class=\"edge\">\n",
       "<title>14&#45;&gt;15</title>\n",
       "<path fill=\"none\" stroke=\"red\" d=\"M382.35,-263.89C364.24,-253.16 328.19,-231.8 305.55,-218.38\"/>\n",
       "<polygon fill=\"red\" stroke=\"red\" points=\"307.14,-215.26 296.75,-213.17 303.57,-221.28 307.14,-215.26\"/>\n",
       "<text text-anchor=\"middle\" x=\"353.5\" y=\"-234.8\" font-family=\"Times,serif\" font-size=\"14.00\">0</text>\n",
       "</g>\n",
       "<!-- 22 -->\n",
       "<g id=\"node23\" class=\"node\">\n",
       "<title>22</title>\n",
       "<text text-anchor=\"middle\" x=\"439.5\" y=\"-201.8\" font-family=\"Times,serif\" font-size=\"14.00\">?</text>\n",
       "</g>\n",
       "<!-- 14&#45;&gt;22 -->\n",
       "<g id=\"edge22\" class=\"edge\">\n",
       "<title>14&#45;&gt;22</title>\n",
       "<path fill=\"none\" stroke=\"blue\" d=\"M398.42,-263.65C405.88,-253.27 420.2,-233.36 429.8,-220\"/>\n",
       "<polygon fill=\"blue\" stroke=\"blue\" points=\"432.8,-221.82 435.79,-211.66 427.12,-217.73 432.8,-221.82\"/>\n",
       "<text text-anchor=\"middle\" x=\"425.5\" y=\"-234.8\" font-family=\"Times,serif\" font-size=\"14.00\">1</text>\n",
       "</g>\n",
       "<!-- 16 -->\n",
       "<g id=\"node17\" class=\"node\">\n",
       "<title>16</title>\n",
       "<text text-anchor=\"middle\" x=\"209.5\" y=\"-135.8\" font-family=\"Times,serif\" font-size=\"14.00\">(7) str.substr(cgi_decode_s_str_1, 4, 1) == &quot;+&quot;</text>\n",
       "</g>\n",
       "<!-- 15&#45;&gt;16 -->\n",
       "<g id=\"edge16\" class=\"edge\">\n",
       "<title>15&#45;&gt;16</title>\n",
       "<path fill=\"none\" stroke=\"red\" d=\"M277.65,-197.89C265.37,-187.54 241.34,-167.31 225.35,-153.85\"/>\n",
       "<polygon fill=\"red\" stroke=\"red\" points=\"227.32,-150.93 217.42,-147.17 222.81,-156.29 227.32,-150.93\"/>\n",
       "<text text-anchor=\"middle\" x=\"258.5\" y=\"-168.8\" font-family=\"Times,serif\" font-size=\"14.00\">0</text>\n",
       "</g>\n",
       "<!-- 21 -->\n",
       "<g id=\"node22\" class=\"node\">\n",
       "<title>21</title>\n",
       "<text text-anchor=\"middle\" x=\"361.5\" y=\"-135.8\" font-family=\"Times,serif\" font-size=\"14.00\">?</text>\n",
       "</g>\n",
       "<!-- 15&#45;&gt;21 -->\n",
       "<g id=\"edge21\" class=\"edge\">\n",
       "<title>15&#45;&gt;21</title>\n",
       "<path fill=\"none\" stroke=\"blue\" d=\"M293.35,-197.89C306.79,-186.57 334.28,-163.42 349.93,-150.24\"/>\n",
       "<polygon fill=\"blue\" stroke=\"blue\" points=\"352.51,-152.64 357.91,-143.52 348.01,-147.29 352.51,-152.64\"/>\n",
       "<text text-anchor=\"middle\" x=\"334.5\" y=\"-168.8\" font-family=\"Times,serif\" font-size=\"14.00\">1</text>\n",
       "</g>\n",
       "<!-- 17 -->\n",
       "<g id=\"node18\" class=\"node\">\n",
       "<title>17</title>\n",
       "<text text-anchor=\"middle\" x=\"132.5\" y=\"-69.8\" font-family=\"Times,serif\" font-size=\"14.00\">(8) str.substr(cgi_decode_s_str_1, 4, 1) == &quot;%&quot;</text>\n",
       "</g>\n",
       "<!-- 16&#45;&gt;17 -->\n",
       "<g id=\"edge17\" class=\"edge\">\n",
       "<title>16&#45;&gt;17</title>\n",
       "<path fill=\"none\" stroke=\"red\" d=\"M201.55,-131.89C189.1,-121.54 164.76,-101.31 148.56,-87.85\"/>\n",
       "<polygon fill=\"red\" stroke=\"red\" points=\"150.45,-84.87 140.52,-81.17 145.98,-90.25 150.45,-84.87\"/>\n",
       "<text text-anchor=\"middle\" x=\"182.5\" y=\"-102.8\" font-family=\"Times,serif\" font-size=\"14.00\">0</text>\n",
       "</g>\n",
       "<!-- 20 -->\n",
       "<g id=\"node21\" class=\"node\">\n",
       "<title>20</title>\n",
       "<text text-anchor=\"middle\" x=\"286.5\" y=\"-69.8\" font-family=\"Times,serif\" font-size=\"14.00\">?</text>\n",
       "</g>\n",
       "<!-- 16&#45;&gt;20 -->\n",
       "<g id=\"edge20\" class=\"edge\">\n",
       "<title>16&#45;&gt;20</title>\n",
       "<path fill=\"none\" stroke=\"blue\" d=\"M217.45,-131.89C231.07,-120.57 258.92,-97.42 274.78,-84.24\"/>\n",
       "<polygon fill=\"blue\" stroke=\"blue\" points=\"277.41,-86.61 282.86,-77.52 272.93,-81.22 277.41,-86.61\"/>\n",
       "<text text-anchor=\"middle\" x=\"259.5\" y=\"-102.8\" font-family=\"Times,serif\" font-size=\"14.00\">1</text>\n",
       "</g>\n",
       "<!-- 18 -->\n",
       "<g id=\"node19\" class=\"node\">\n",
       "<title>18</title>\n",
       "<text text-anchor=\"middle\" x=\"110.5\" y=\"-3.8\" font-family=\"Times,serif\" font-size=\"14.00\">* +\\x00</text>\n",
       "</g>\n",
       "<!-- 17&#45;&gt;18 -->\n",
       "<g id=\"edge18\" class=\"edge\">\n",
       "<title>17&#45;&gt;18</title>\n",
       "<path fill=\"none\" stroke=\"red\" d=\"M130.15,-65.65C126.82,-55.98 120.65,-38.02 116.1,-24.81\"/>\n",
       "<polygon fill=\"red\" stroke=\"red\" points=\"119.33,-23.43 112.77,-15.11 112.71,-25.7 119.33,-23.43\"/>\n",
       "<text text-anchor=\"middle\" x=\"127.5\" y=\"-36.8\" font-family=\"Times,serif\" font-size=\"14.00\">0</text>\n",
       "</g>\n",
       "<!-- 19 -->\n",
       "<g id=\"node20\" class=\"node\">\n",
       "<title>19</title>\n",
       "<text text-anchor=\"middle\" x=\"154.5\" y=\"-3.8\" font-family=\"Times,serif\" font-size=\"14.00\">?</text>\n",
       "</g>\n",
       "<!-- 17&#45;&gt;19 -->\n",
       "<g id=\"edge19\" class=\"edge\">\n",
       "<title>17&#45;&gt;19</title>\n",
       "<path fill=\"none\" stroke=\"blue\" d=\"M134.85,-65.65C138.18,-55.98 144.35,-38.02 148.9,-24.81\"/>\n",
       "<polygon fill=\"blue\" stroke=\"blue\" points=\"152.29,-25.7 152.23,-15.11 145.67,-23.43 152.29,-25.7\"/>\n",
       "<text text-anchor=\"middle\" x=\"149.5\" y=\"-36.8\" font-family=\"Times,serif\" font-size=\"14.00\">1</text>\n",
       "</g>\n",
       "</g>\n",
       "</svg>\n"
      ],
      "text/plain": [
       "<graphviz.dot.Digraph at 0x116fb53a0>"
      ]
     },
     "execution_count": 279,
     "metadata": {},
     "output_type": "execute_result"
    }
   ],
   "source": [
    "display_trace_tree(scf.ct.root)"
   ]
  },
  {
   "cell_type": "markdown",
   "metadata": {
    "slideshow": {
     "slide_type": "fragment"
    }
   },
   "source": [
    "A complete fuzzer run is as follows:"
   ]
  },
  {
   "cell_type": "code",
   "execution_count": 280,
   "metadata": {
    "execution": {
     "iopub.execute_input": "2022-01-04T17:42:26.657968Z",
     "iopub.status.busy": "2022-01-04T17:42:26.656876Z",
     "iopub.status.idle": "2022-01-04T17:42:27.701596Z",
     "shell.execute_reply": "2022-01-04T17:42:27.702074Z"
    },
    "slideshow": {
     "slide_type": "subslide"
    }
   },
   "outputs": [
    {
     "name": "stdout",
     "output_type": "stream",
     "text": [
      "' '\n",
      "'+\\\\x00'\n",
      "'%\\\\x00'\n"
     ]
    },
    {
     "name": "stderr",
     "output_type": "stream",
     "text": [
      "ValueError: Invalid encoding (expected)\n",
      "ValueError: Invalid encoding (expected)\n"
     ]
    },
    {
     "name": "stdout",
     "output_type": "stream",
     "text": [
      "'%\\\\x005\\\\x00'\n",
      "'%\\\\x00A\\\\x00'\n"
     ]
    },
    {
     "name": "stderr",
     "output_type": "stream",
     "text": [
      "ValueError: Invalid encoding (expected)\n",
      "ValueError: Invalid encoding (expected)\n",
      "ValueError: Invalid encoding (expected)\n"
     ]
    },
    {
     "name": "stdout",
     "output_type": "stream",
     "text": [
      "'%\\\\x00d\\\\x00'\n",
      "'%\\\\x009\\\\x00'\n",
      "'%1\\\\x00'\n"
     ]
    },
    {
     "name": "stderr",
     "output_type": "stream",
     "text": [
      "ValueError: Invalid encoding (expected)\n",
      "ValueError: Invalid encoding (expected)\n"
     ]
    },
    {
     "name": "stdout",
     "output_type": "stream",
     "text": [
      "'+\\\\x00\\\\x00\\\\x00%\\\\x00'\n",
      "'%1b\\\\x00'\n"
     ]
    }
   ],
   "source": [
    "scf = SimpleConcolicFuzzer()\n",
    "for i in range(10):\n",
    "    v = scf.fuzz()\n",
    "    print(repr(v))\n",
    "    if v is None:\n",
    "        continue\n",
    "    with ConcolicTracer() as _:\n",
    "        with ExpectError(print_traceback=False):\n",
    "            # z3.StringVal(urllib.parse.unquote('%80')) <-- bug in z3\n",
    "            _[cgi_decode](v)\n",
    "    scf.add_trace(_, v)"
   ]
  },
  {
   "cell_type": "code",
   "execution_count": 281,
   "metadata": {
    "execution": {
     "iopub.execute_input": "2022-01-04T17:42:27.709982Z",
     "iopub.status.busy": "2022-01-04T17:42:27.709175Z",
     "iopub.status.idle": "2022-01-04T17:42:28.879384Z",
     "shell.execute_reply": "2022-01-04T17:42:28.880258Z"
    },
    "slideshow": {
     "slide_type": "subslide"
    }
   },
   "outputs": [
    {
     "data": {
      "image/svg+xml": [
       "<?xml version=\"1.0\" encoding=\"UTF-8\" standalone=\"no\"?>\n",
       "<!DOCTYPE svg PUBLIC \"-//W3C//DTD SVG 1.1//EN\"\n",
       " \"http://www.w3.org/Graphics/SVG/1.1/DTD/svg11.dtd\">\n",
       "<!-- Generated by graphviz version 2.49.3 (20211023.0002)\n",
       " -->\n",
       "<!-- Pages: 1 -->\n",
       "<svg width=\"7059pt\" height=\"4709pt\"\n",
       " viewBox=\"0.00 0.00 7059.00 4709.00\" xmlns=\"http://www.w3.org/2000/svg\" xmlns:xlink=\"http://www.w3.org/1999/xlink\">\n",
       "<g id=\"graph0\" class=\"graph\" transform=\"scale(1 1) rotate(0) translate(4 4705)\">\n",
       "<polygon fill=\"white\" stroke=\"transparent\" points=\"-4,4 -4,-4705 7055,-4705 7055,4 -4,4\"/>\n",
       "<!-- 0 -->\n",
       "<g id=\"node1\" class=\"node\">\n",
       "<title>0</title>\n",
       "<text text-anchor=\"middle\" x=\"6752.5\" y=\"-4689.8\" font-family=\"Times,serif\" font-size=\"14.00\">(0) str.substr(cgi_decode_s_str_1, 0, 1) == &quot;+&quot;</text>\n",
       "</g>\n",
       "<!-- 1 -->\n",
       "<g id=\"node2\" class=\"node\">\n",
       "<title>1</title>\n",
       "<text text-anchor=\"middle\" x=\"6612.5\" y=\"-4623.8\" font-family=\"Times,serif\" font-size=\"14.00\">(1) str.substr(cgi_decode_s_str_1, 0, 1) == &quot;%&quot;</text>\n",
       "</g>\n",
       "<!-- 0&#45;&gt;1 -->\n",
       "<g id=\"edge1\" class=\"edge\">\n",
       "<title>0&#45;&gt;1</title>\n",
       "<path fill=\"none\" stroke=\"red\" d=\"M6738.04,-4685.89C6714.05,-4674.92 6665.74,-4652.84 6636.55,-4639.49\"/>\n",
       "<polygon fill=\"red\" stroke=\"red\" points=\"6637.64,-4636.14 6627.09,-4635.17 6634.73,-4642.51 6637.64,-4636.14\"/>\n",
       "<text text-anchor=\"middle\" x=\"6699.5\" y=\"-4656.8\" font-family=\"Times,serif\" font-size=\"14.00\">0</text>\n",
       "</g>\n",
       "<!-- 152 -->\n",
       "<g id=\"node153\" class=\"node\">\n",
       "<title>152</title>\n",
       "<text text-anchor=\"middle\" x=\"6893.5\" y=\"-4623.8\" font-family=\"Times,serif\" font-size=\"14.00\">(1) str.substr(cgi_decode_s_str_1, 1, 1) == &quot;+&quot;</text>\n",
       "</g>\n",
       "<!-- 0&#45;&gt;152 -->\n",
       "<g id=\"edge152\" class=\"edge\">\n",
       "<title>0&#45;&gt;152</title>\n",
       "<path fill=\"none\" stroke=\"blue\" d=\"M6767.06,-4685.89C6791.33,-4674.87 6840.3,-4652.65 6869.67,-4639.32\"/>\n",
       "<polygon fill=\"blue\" stroke=\"blue\" points=\"6871.15,-4642.49 6878.81,-4635.17 6868.26,-4636.11 6871.15,-4642.49\"/>\n",
       "<text text-anchor=\"middle\" x=\"6840.5\" y=\"-4656.8\" font-family=\"Times,serif\" font-size=\"14.00\">1</text>\n",
       "</g>\n",
       "<!-- 2 -->\n",
       "<g id=\"node3\" class=\"node\">\n",
       "<title>2</title>\n",
       "<text text-anchor=\"middle\" x=\"6456.5\" y=\"-4557.8\" font-family=\"Times,serif\" font-size=\"14.00\">* &#160;</text>\n",
       "</g>\n",
       "<!-- 1&#45;&gt;2 -->\n",
       "<g id=\"edge2\" class=\"edge\">\n",
       "<title>1&#45;&gt;2</title>\n",
       "<path fill=\"none\" stroke=\"red\" d=\"M6596.39,-4619.89C6566.86,-4607.77 6504.28,-4582.1 6473.84,-4569.62\"/>\n",
       "<polygon fill=\"red\" stroke=\"red\" points=\"6474.79,-4566.22 6464.21,-4565.66 6472.13,-4572.7 6474.79,-4566.22\"/>\n",
       "<text text-anchor=\"middle\" x=\"6552.5\" y=\"-4590.8\" font-family=\"Times,serif\" font-size=\"14.00\">0</text>\n",
       "</g>\n",
       "<!-- 3 -->\n",
       "<g id=\"node4\" class=\"node\">\n",
       "<title>3</title>\n",
       "<text text-anchor=\"middle\" x=\"6612.5\" y=\"-4557.8\" font-family=\"Times,serif\" font-size=\"14.00\">(2) str.substr(cgi_decode_s_str_1, 1, 1) == &quot;0&quot;</text>\n",
       "</g>\n",
       "<!-- 1&#45;&gt;3 -->\n",
       "<g id=\"edge3\" class=\"edge\">\n",
       "<title>1&#45;&gt;3</title>\n",
       "<path fill=\"none\" stroke=\"blue\" d=\"M6612.5,-4619.65C6612.5,-4610.07 6612.5,-4592.38 6612.5,-4579.2\"/>\n",
       "<polygon fill=\"blue\" stroke=\"blue\" points=\"6616,-4579.11 6612.5,-4569.11 6609,-4579.11 6616,-4579.11\"/>\n",
       "<text text-anchor=\"middle\" x=\"6616.5\" y=\"-4590.8\" font-family=\"Times,serif\" font-size=\"14.00\">1</text>\n",
       "</g>\n",
       "<!-- 4 -->\n",
       "<g id=\"node5\" class=\"node\">\n",
       "<title>4</title>\n",
       "<text text-anchor=\"middle\" x=\"6476.5\" y=\"-4491.8\" font-family=\"Times,serif\" font-size=\"14.00\">(3) str.substr(cgi_decode_s_str_1, 1, 1) == &quot;1&quot;</text>\n",
       "</g>\n",
       "<!-- 3&#45;&gt;4 -->\n",
       "<g id=\"edge4\" class=\"edge\">\n",
       "<title>3&#45;&gt;4</title>\n",
       "<path fill=\"none\" stroke=\"red\" d=\"M6598.46,-4553.89C6575.15,-4542.92 6528.22,-4520.84 6499.86,-4507.49\"/>\n",
       "<polygon fill=\"red\" stroke=\"red\" points=\"6501.21,-4504.26 6490.67,-4503.17 6498.23,-4510.59 6501.21,-4504.26\"/>\n",
       "<text text-anchor=\"middle\" x=\"6561.5\" y=\"-4524.8\" font-family=\"Times,serif\" font-size=\"14.00\">0</text>\n",
       "</g>\n",
       "<!-- 151 -->\n",
       "<g id=\"node152\" class=\"node\">\n",
       "<title>151</title>\n",
       "<text text-anchor=\"middle\" x=\"6628.5\" y=\"-4491.8\" font-family=\"Times,serif\" font-size=\"14.00\">?</text>\n",
       "</g>\n",
       "<!-- 3&#45;&gt;151 -->\n",
       "<g id=\"edge151\" class=\"edge\">\n",
       "<title>3&#45;&gt;151</title>\n",
       "<path fill=\"none\" stroke=\"blue\" d=\"M6614.21,-4553.65C6616.61,-4544.07 6621.03,-4526.38 6624.32,-4513.2\"/>\n",
       "<polygon fill=\"blue\" stroke=\"blue\" points=\"6627.82,-4513.66 6626.85,-4503.11 6621.03,-4511.96 6627.82,-4513.66\"/>\n",
       "<text text-anchor=\"middle\" x=\"6626.5\" y=\"-4524.8\" font-family=\"Times,serif\" font-size=\"14.00\">1</text>\n",
       "</g>\n",
       "<!-- 5 -->\n",
       "<g id=\"node6\" class=\"node\">\n",
       "<title>5</title>\n",
       "<text text-anchor=\"middle\" x=\"6234.5\" y=\"-4425.8\" font-family=\"Times,serif\" font-size=\"14.00\">(4) str.substr(cgi_decode_s_str_1, 1, 1) == &quot;2&quot;</text>\n",
       "</g>\n",
       "<!-- 4&#45;&gt;5 -->\n",
       "<g id=\"edge5\" class=\"edge\">\n",
       "<title>4&#45;&gt;5</title>\n",
       "<path fill=\"none\" stroke=\"red\" d=\"M6451.51,-4487.89C6408.11,-4476.41 6318.69,-4452.77 6269.26,-4439.69\"/>\n",
       "<polygon fill=\"red\" stroke=\"red\" points=\"6269.91,-4436.25 6259.35,-4437.07 6268.12,-4443.01 6269.91,-4436.25\"/>\n",
       "<text text-anchor=\"middle\" x=\"6381.5\" y=\"-4458.8\" font-family=\"Times,serif\" font-size=\"14.00\">0</text>\n",
       "</g>\n",
       "<!-- 90 -->\n",
       "<g id=\"node91\" class=\"node\">\n",
       "<title>90</title>\n",
       "<text text-anchor=\"middle\" x=\"6512.5\" y=\"-4425.8\" font-family=\"Times,serif\" font-size=\"14.00\">(4) str.substr(cgi_decode_s_str_1, 2, 1) == &quot;0&quot;</text>\n",
       "</g>\n",
       "<!-- 4&#45;&gt;90 -->\n",
       "<g id=\"edge90\" class=\"edge\">\n",
       "<title>4&#45;&gt;90</title>\n",
       "<path fill=\"none\" stroke=\"blue\" d=\"M6480.35,-4487.65C6485.9,-4477.78 6496.3,-4459.3 6503.77,-4446.02\"/>\n",
       "<polygon fill=\"blue\" stroke=\"blue\" points=\"6506.93,-4447.54 6508.78,-4437.11 6500.83,-4444.11 6506.93,-4447.54\"/>\n",
       "<text text-anchor=\"middle\" x=\"6502.5\" y=\"-4458.8\" font-family=\"Times,serif\" font-size=\"14.00\">1</text>\n",
       "</g>\n",
       "<!-- 6 -->\n",
       "<g id=\"node7\" class=\"node\">\n",
       "<title>6</title>\n",
       "<text text-anchor=\"middle\" x=\"6090.5\" y=\"-4359.8\" font-family=\"Times,serif\" font-size=\"14.00\">(5) str.substr(cgi_decode_s_str_1, 1, 1) == &quot;3&quot;</text>\n",
       "</g>\n",
       "<!-- 5&#45;&gt;6 -->\n",
       "<g id=\"edge6\" class=\"edge\">\n",
       "<title>5&#45;&gt;6</title>\n",
       "<path fill=\"none\" stroke=\"red\" d=\"M6219.63,-4421.89C6194.84,-4410.87 6144.83,-4388.65 6114.84,-4375.32\"/>\n",
       "<polygon fill=\"red\" stroke=\"red\" points=\"6116.06,-4372.03 6105.5,-4371.17 6113.22,-4378.43 6116.06,-4372.03\"/>\n",
       "<text text-anchor=\"middle\" x=\"6179.5\" y=\"-4392.8\" font-family=\"Times,serif\" font-size=\"14.00\">0</text>\n",
       "</g>\n",
       "<!-- 89 -->\n",
       "<g id=\"node90\" class=\"node\">\n",
       "<title>89</title>\n",
       "<text text-anchor=\"middle\" x=\"6242.5\" y=\"-4359.8\" font-family=\"Times,serif\" font-size=\"14.00\">?</text>\n",
       "</g>\n",
       "<!-- 5&#45;&gt;89 -->\n",
       "<g id=\"edge89\" class=\"edge\">\n",
       "<title>5&#45;&gt;89</title>\n",
       "<path fill=\"none\" stroke=\"blue\" d=\"M6235.36,-4421.65C6236.55,-4412.07 6238.77,-4394.38 6240.41,-4381.2\"/>\n",
       "<polygon fill=\"blue\" stroke=\"blue\" points=\"6243.91,-4381.47 6241.67,-4371.11 6236.96,-4380.6 6243.91,-4381.47\"/>\n",
       "<text text-anchor=\"middle\" x=\"6243.5\" y=\"-4392.8\" font-family=\"Times,serif\" font-size=\"14.00\">1</text>\n",
       "</g>\n",
       "<!-- 7 -->\n",
       "<g id=\"node8\" class=\"node\">\n",
       "<title>7</title>\n",
       "<text text-anchor=\"middle\" x=\"5989.5\" y=\"-4293.8\" font-family=\"Times,serif\" font-size=\"14.00\">(6) str.substr(cgi_decode_s_str_1, 1, 1) == &quot;4&quot;</text>\n",
       "</g>\n",
       "<!-- 6&#45;&gt;7 -->\n",
       "<g id=\"edge7\" class=\"edge\">\n",
       "<title>6&#45;&gt;7</title>\n",
       "<path fill=\"none\" stroke=\"red\" d=\"M6080.07,-4355.89C6063.21,-4345.21 6029.72,-4323.99 6008.53,-4310.56\"/>\n",
       "<polygon fill=\"red\" stroke=\"red\" points=\"6010.34,-4307.56 6000.02,-4305.17 6006.6,-4313.48 6010.34,-4307.56\"/>\n",
       "<text text-anchor=\"middle\" x=\"6053.5\" y=\"-4326.8\" font-family=\"Times,serif\" font-size=\"14.00\">0</text>\n",
       "</g>\n",
       "<!-- 88 -->\n",
       "<g id=\"node89\" class=\"node\">\n",
       "<title>88</title>\n",
       "<text text-anchor=\"middle\" x=\"6141.5\" y=\"-4293.8\" font-family=\"Times,serif\" font-size=\"14.00\">?</text>\n",
       "</g>\n",
       "<!-- 6&#45;&gt;88 -->\n",
       "<g id=\"edge88\" class=\"edge\">\n",
       "<title>6&#45;&gt;88</title>\n",
       "<path fill=\"none\" stroke=\"blue\" d=\"M6095.96,-4355.65C6104.48,-4344.96 6121.06,-4324.16 6131.69,-4310.81\"/>\n",
       "<polygon fill=\"blue\" stroke=\"blue\" points=\"6134.43,-4312.99 6137.92,-4302.99 6128.95,-4308.63 6134.43,-4312.99\"/>\n",
       "<text text-anchor=\"middle\" x=\"6125.5\" y=\"-4326.8\" font-family=\"Times,serif\" font-size=\"14.00\">1</text>\n",
       "</g>\n",
       "<!-- 8 -->\n",
       "<g id=\"node9\" class=\"node\">\n",
       "<title>8</title>\n",
       "<text text-anchor=\"middle\" x=\"5867.5\" y=\"-4227.8\" font-family=\"Times,serif\" font-size=\"14.00\">(7) str.substr(cgi_decode_s_str_1, 1, 1) == &quot;5&quot;</text>\n",
       "</g>\n",
       "<!-- 7&#45;&gt;8 -->\n",
       "<g id=\"edge8\" class=\"edge\">\n",
       "<title>7&#45;&gt;8</title>\n",
       "<path fill=\"none\" stroke=\"red\" d=\"M5976.9,-4289.89C5956.17,-4279.02 5914.63,-4257.22 5889.12,-4243.84\"/>\n",
       "<polygon fill=\"red\" stroke=\"red\" points=\"5890.69,-4240.71 5880.21,-4239.17 5887.44,-4246.91 5890.69,-4240.71\"/>\n",
       "<text text-anchor=\"middle\" x=\"5943.5\" y=\"-4260.8\" font-family=\"Times,serif\" font-size=\"14.00\">0</text>\n",
       "</g>\n",
       "<!-- 87 -->\n",
       "<g id=\"node88\" class=\"node\">\n",
       "<title>87</title>\n",
       "<text text-anchor=\"middle\" x=\"6019.5\" y=\"-4227.8\" font-family=\"Times,serif\" font-size=\"14.00\">?</text>\n",
       "</g>\n",
       "<!-- 7&#45;&gt;87 -->\n",
       "<g id=\"edge87\" class=\"edge\">\n",
       "<title>7&#45;&gt;87</title>\n",
       "<path fill=\"none\" stroke=\"blue\" d=\"M5992.71,-4289.65C5997.29,-4279.88 6005.83,-4261.66 6012.04,-4248.41\"/>\n",
       "<polygon fill=\"blue\" stroke=\"blue\" points=\"6015.33,-4249.65 6016.4,-4239.11 6008.99,-4246.68 6015.33,-4249.65\"/>\n",
       "<text text-anchor=\"middle\" x=\"6011.5\" y=\"-4260.8\" font-family=\"Times,serif\" font-size=\"14.00\">1</text>\n",
       "</g>\n",
       "<!-- 9 -->\n",
       "<g id=\"node10\" class=\"node\">\n",
       "<title>9</title>\n",
       "<text text-anchor=\"middle\" x=\"5759.5\" y=\"-4161.8\" font-family=\"Times,serif\" font-size=\"14.00\">(8) str.substr(cgi_decode_s_str_1, 1, 1) == &quot;6&quot;</text>\n",
       "</g>\n",
       "<!-- 8&#45;&gt;9 -->\n",
       "<g id=\"edge9\" class=\"edge\">\n",
       "<title>8&#45;&gt;9</title>\n",
       "<path fill=\"none\" stroke=\"red\" d=\"M5856.35,-4223.89C5838.24,-4213.16 5802.19,-4191.8 5779.55,-4178.38\"/>\n",
       "<polygon fill=\"red\" stroke=\"red\" points=\"5781.14,-4175.26 5770.75,-4173.17 5777.57,-4181.28 5781.14,-4175.26\"/>\n",
       "<text text-anchor=\"middle\" x=\"5827.5\" y=\"-4194.8\" font-family=\"Times,serif\" font-size=\"14.00\">0</text>\n",
       "</g>\n",
       "<!-- 86 -->\n",
       "<g id=\"node87\" class=\"node\">\n",
       "<title>86</title>\n",
       "<text text-anchor=\"middle\" x=\"5911.5\" y=\"-4161.8\" font-family=\"Times,serif\" font-size=\"14.00\">?</text>\n",
       "</g>\n",
       "<!-- 8&#45;&gt;86 -->\n",
       "<g id=\"edge86\" class=\"edge\">\n",
       "<title>8&#45;&gt;86</title>\n",
       "<path fill=\"none\" stroke=\"blue\" d=\"M5872.21,-4223.65C5879.34,-4213.27 5893.04,-4193.36 5902.22,-4180\"/>\n",
       "<polygon fill=\"blue\" stroke=\"blue\" points=\"5905.17,-4181.88 5907.96,-4171.66 5899.41,-4177.91 5905.17,-4181.88\"/>\n",
       "<text text-anchor=\"middle\" x=\"5897.5\" y=\"-4194.8\" font-family=\"Times,serif\" font-size=\"14.00\">1</text>\n",
       "</g>\n",
       "<!-- 10 -->\n",
       "<g id=\"node11\" class=\"node\">\n",
       "<title>10</title>\n",
       "<text text-anchor=\"middle\" x=\"5622.5\" y=\"-4095.8\" font-family=\"Times,serif\" font-size=\"14.00\">(9) str.substr(cgi_decode_s_str_1, 1, 1) == &quot;7&quot;</text>\n",
       "</g>\n",
       "<!-- 9&#45;&gt;10 -->\n",
       "<g id=\"edge10\" class=\"edge\">\n",
       "<title>9&#45;&gt;10</title>\n",
       "<path fill=\"none\" stroke=\"red\" d=\"M5745.35,-4157.89C5721.87,-4146.92 5674.6,-4124.84 5646.03,-4111.49\"/>\n",
       "<polygon fill=\"red\" stroke=\"red\" points=\"5647.32,-4108.23 5636.77,-4107.17 5644.35,-4114.57 5647.32,-4108.23\"/>\n",
       "<text text-anchor=\"middle\" x=\"5707.5\" y=\"-4128.8\" font-family=\"Times,serif\" font-size=\"14.00\">0</text>\n",
       "</g>\n",
       "<!-- 85 -->\n",
       "<g id=\"node86\" class=\"node\">\n",
       "<title>85</title>\n",
       "<text text-anchor=\"middle\" x=\"5774.5\" y=\"-4095.8\" font-family=\"Times,serif\" font-size=\"14.00\">?</text>\n",
       "</g>\n",
       "<!-- 9&#45;&gt;85 -->\n",
       "<g id=\"edge85\" class=\"edge\">\n",
       "<title>9&#45;&gt;85</title>\n",
       "<path fill=\"none\" stroke=\"blue\" d=\"M5761.11,-4157.65C5763.35,-4148.07 5767.5,-4130.38 5770.59,-4117.2\"/>\n",
       "<polygon fill=\"blue\" stroke=\"blue\" points=\"5774.08,-4117.64 5772.95,-4107.11 5767.26,-4116.05 5774.08,-4117.64\"/>\n",
       "<text text-anchor=\"middle\" x=\"5772.5\" y=\"-4128.8\" font-family=\"Times,serif\" font-size=\"14.00\">1</text>\n",
       "</g>\n",
       "<!-- 11 -->\n",
       "<g id=\"node12\" class=\"node\">\n",
       "<title>11</title>\n",
       "<text text-anchor=\"middle\" x=\"5471.5\" y=\"-4029.8\" font-family=\"Times,serif\" font-size=\"14.00\">(10) str.substr(cgi_decode_s_str_1, 1, 1) == &quot;8&quot;</text>\n",
       "</g>\n",
       "<!-- 10&#45;&gt;11 -->\n",
       "<g id=\"edge11\" class=\"edge\">\n",
       "<title>10&#45;&gt;11</title>\n",
       "<path fill=\"none\" stroke=\"red\" d=\"M5606.91,-4091.89C5580.8,-4080.83 5528.01,-4058.45 5496.61,-4045.14\"/>\n",
       "<polygon fill=\"red\" stroke=\"red\" points=\"5497.81,-4041.85 5487.23,-4041.17 5495.07,-4048.29 5497.81,-4041.85\"/>\n",
       "<text text-anchor=\"middle\" x=\"5565.5\" y=\"-4062.8\" font-family=\"Times,serif\" font-size=\"14.00\">0</text>\n",
       "</g>\n",
       "<!-- 84 -->\n",
       "<g id=\"node85\" class=\"node\">\n",
       "<title>84</title>\n",
       "<text text-anchor=\"middle\" x=\"5626.5\" y=\"-4029.8\" font-family=\"Times,serif\" font-size=\"14.00\">?</text>\n",
       "</g>\n",
       "<!-- 10&#45;&gt;84 -->\n",
       "<g id=\"edge84\" class=\"edge\">\n",
       "<title>10&#45;&gt;84</title>\n",
       "<path fill=\"none\" stroke=\"blue\" d=\"M5622.93,-4091.65C5623.53,-4082.07 5624.63,-4064.38 5625.46,-4051.2\"/>\n",
       "<polygon fill=\"blue\" stroke=\"blue\" points=\"5628.96,-4051.31 5626.09,-4041.11 5621.97,-4050.87 5628.96,-4051.31\"/>\n",
       "<text text-anchor=\"middle\" x=\"5629.5\" y=\"-4062.8\" font-family=\"Times,serif\" font-size=\"14.00\">1</text>\n",
       "</g>\n",
       "<!-- 12 -->\n",
       "<g id=\"node13\" class=\"node\">\n",
       "<title>12</title>\n",
       "<text text-anchor=\"middle\" x=\"5331.5\" y=\"-3963.8\" font-family=\"Times,serif\" font-size=\"14.00\">(11) str.substr(cgi_decode_s_str_1, 1, 1) == &quot;9&quot;</text>\n",
       "</g>\n",
       "<!-- 11&#45;&gt;12 -->\n",
       "<g id=\"edge12\" class=\"edge\">\n",
       "<title>11&#45;&gt;12</title>\n",
       "<path fill=\"none\" stroke=\"red\" d=\"M5457.04,-4025.89C5433.05,-4014.92 5384.74,-3992.84 5355.55,-3979.49\"/>\n",
       "<polygon fill=\"red\" stroke=\"red\" points=\"5356.64,-3976.14 5346.09,-3975.17 5353.73,-3982.51 5356.64,-3976.14\"/>\n",
       "<text text-anchor=\"middle\" x=\"5418.5\" y=\"-3996.8\" font-family=\"Times,serif\" font-size=\"14.00\">0</text>\n",
       "</g>\n",
       "<!-- 83 -->\n",
       "<g id=\"node84\" class=\"node\">\n",
       "<title>83</title>\n",
       "<text text-anchor=\"middle\" x=\"5486.5\" y=\"-3963.8\" font-family=\"Times,serif\" font-size=\"14.00\">?</text>\n",
       "</g>\n",
       "<!-- 11&#45;&gt;83 -->\n",
       "<g id=\"edge83\" class=\"edge\">\n",
       "<title>11&#45;&gt;83</title>\n",
       "<path fill=\"none\" stroke=\"blue\" d=\"M5473.11,-4025.65C5475.35,-4016.07 5479.5,-3998.38 5482.59,-3985.2\"/>\n",
       "<polygon fill=\"blue\" stroke=\"blue\" points=\"5486.08,-3985.64 5484.95,-3975.11 5479.26,-3984.05 5486.08,-3985.64\"/>\n",
       "<text text-anchor=\"middle\" x=\"5484.5\" y=\"-3996.8\" font-family=\"Times,serif\" font-size=\"14.00\">1</text>\n",
       "</g>\n",
       "<!-- 13 -->\n",
       "<g id=\"node14\" class=\"node\">\n",
       "<title>13</title>\n",
       "<text text-anchor=\"middle\" x=\"5188.5\" y=\"-3897.8\" font-family=\"Times,serif\" font-size=\"14.00\">(12) str.substr(cgi_decode_s_str_1, 1, 1) == &quot;a&quot;</text>\n",
       "</g>\n",
       "<!-- 12&#45;&gt;13 -->\n",
       "<g id=\"edge13\" class=\"edge\">\n",
       "<title>12&#45;&gt;13</title>\n",
       "<path fill=\"none\" stroke=\"red\" d=\"M5316.74,-3959.89C5292.12,-3948.87 5242.45,-3926.65 5212.67,-3913.32\"/>\n",
       "<polygon fill=\"red\" stroke=\"red\" points=\"5213.96,-3910.06 5203.4,-3909.17 5211.1,-3916.45 5213.96,-3910.06\"/>\n",
       "<text text-anchor=\"middle\" x=\"5277.5\" y=\"-3930.8\" font-family=\"Times,serif\" font-size=\"14.00\">0</text>\n",
       "</g>\n",
       "<!-- 82 -->\n",
       "<g id=\"node83\" class=\"node\">\n",
       "<title>82</title>\n",
       "<text text-anchor=\"middle\" x=\"5343.5\" y=\"-3897.8\" font-family=\"Times,serif\" font-size=\"14.00\">?</text>\n",
       "</g>\n",
       "<!-- 12&#45;&gt;82 -->\n",
       "<g id=\"edge82\" class=\"edge\">\n",
       "<title>12&#45;&gt;82</title>\n",
       "<path fill=\"none\" stroke=\"blue\" d=\"M5332.78,-3959.65C5334.58,-3950.07 5337.9,-3932.38 5340.37,-3919.2\"/>\n",
       "<polygon fill=\"blue\" stroke=\"blue\" points=\"5343.86,-3919.58 5342.26,-3909.11 5336.98,-3918.29 5343.86,-3919.58\"/>\n",
       "<text text-anchor=\"middle\" x=\"5343.5\" y=\"-3930.8\" font-family=\"Times,serif\" font-size=\"14.00\">1</text>\n",
       "</g>\n",
       "<!-- 14 -->\n",
       "<g id=\"node15\" class=\"node\">\n",
       "<title>14</title>\n",
       "<text text-anchor=\"middle\" x=\"5059.5\" y=\"-3831.8\" font-family=\"Times,serif\" font-size=\"14.00\">(13) str.substr(cgi_decode_s_str_1, 1, 1) == &quot;b&quot;</text>\n",
       "</g>\n",
       "<!-- 13&#45;&gt;14 -->\n",
       "<g id=\"edge14\" class=\"edge\">\n",
       "<title>13&#45;&gt;14</title>\n",
       "<path fill=\"none\" stroke=\"red\" d=\"M5175.18,-3893.89C5153.16,-3882.97 5108.95,-3861.03 5082.01,-3847.67\"/>\n",
       "<polygon fill=\"red\" stroke=\"red\" points=\"5083.45,-3844.48 5072.94,-3843.17 5080.34,-3850.75 5083.45,-3844.48\"/>\n",
       "<text text-anchor=\"middle\" x=\"5140.5\" y=\"-3864.8\" font-family=\"Times,serif\" font-size=\"14.00\">0</text>\n",
       "</g>\n",
       "<!-- 81 -->\n",
       "<g id=\"node82\" class=\"node\">\n",
       "<title>81</title>\n",
       "<text text-anchor=\"middle\" x=\"5214.5\" y=\"-3831.8\" font-family=\"Times,serif\" font-size=\"14.00\">?</text>\n",
       "</g>\n",
       "<!-- 13&#45;&gt;81 -->\n",
       "<g id=\"edge81\" class=\"edge\">\n",
       "<title>13&#45;&gt;81</title>\n",
       "<path fill=\"none\" stroke=\"blue\" d=\"M5191.28,-3893.65C5195.25,-3883.88 5202.65,-3865.66 5208.04,-3852.41\"/>\n",
       "<polygon fill=\"blue\" stroke=\"blue\" points=\"5211.29,-3853.69 5211.82,-3843.11 5204.81,-3851.06 5211.29,-3853.69\"/>\n",
       "<text text-anchor=\"middle\" x=\"5208.5\" y=\"-3864.8\" font-family=\"Times,serif\" font-size=\"14.00\">1</text>\n",
       "</g>\n",
       "<!-- 15 -->\n",
       "<g id=\"node16\" class=\"node\">\n",
       "<title>15</title>\n",
       "<text text-anchor=\"middle\" x=\"4959.5\" y=\"-3765.8\" font-family=\"Times,serif\" font-size=\"14.00\">(14) str.substr(cgi_decode_s_str_1, 1, 1) == &quot;c&quot;</text>\n",
       "</g>\n",
       "<!-- 14&#45;&gt;15 -->\n",
       "<g id=\"edge15\" class=\"edge\">\n",
       "<title>14&#45;&gt;15</title>\n",
       "<path fill=\"none\" stroke=\"red\" d=\"M5049.17,-3827.89C5032.48,-3817.21 4999.33,-3795.99 4978.34,-3782.56\"/>\n",
       "<polygon fill=\"red\" stroke=\"red\" points=\"4980.23,-3779.61 4969.92,-3777.17 4976.45,-3785.51 4980.23,-3779.61\"/>\n",
       "<text text-anchor=\"middle\" x=\"5022.5\" y=\"-3798.8\" font-family=\"Times,serif\" font-size=\"14.00\">0</text>\n",
       "</g>\n",
       "<!-- 80 -->\n",
       "<g id=\"node81\" class=\"node\">\n",
       "<title>80</title>\n",
       "<text text-anchor=\"middle\" x=\"5114.5\" y=\"-3765.8\" font-family=\"Times,serif\" font-size=\"14.00\">?</text>\n",
       "</g>\n",
       "<!-- 14&#45;&gt;80 -->\n",
       "<g id=\"edge80\" class=\"edge\">\n",
       "<title>14&#45;&gt;80</title>\n",
       "<path fill=\"none\" stroke=\"blue\" d=\"M5065.39,-3827.65C5074.66,-3816.86 5092.8,-3795.75 5104.25,-3782.42\"/>\n",
       "<polygon fill=\"blue\" stroke=\"blue\" points=\"5107.05,-3784.53 5110.92,-3774.67 5101.75,-3779.97 5107.05,-3784.53\"/>\n",
       "<text text-anchor=\"middle\" x=\"5096.5\" y=\"-3798.8\" font-family=\"Times,serif\" font-size=\"14.00\">1</text>\n",
       "</g>\n",
       "<!-- 16 -->\n",
       "<g id=\"node17\" class=\"node\">\n",
       "<title>16</title>\n",
       "<text text-anchor=\"middle\" x=\"4808.5\" y=\"-3699.8\" font-family=\"Times,serif\" font-size=\"14.00\">(15) str.substr(cgi_decode_s_str_1, 1, 1) == &quot;d&quot;</text>\n",
       "</g>\n",
       "<!-- 15&#45;&gt;16 -->\n",
       "<g id=\"edge16\" class=\"edge\">\n",
       "<title>15&#45;&gt;16</title>\n",
       "<path fill=\"none\" stroke=\"red\" d=\"M4943.91,-3761.89C4917.8,-3750.83 4865.01,-3728.45 4833.61,-3715.14\"/>\n",
       "<polygon fill=\"red\" stroke=\"red\" points=\"4834.81,-3711.85 4824.23,-3711.17 4832.07,-3718.29 4834.81,-3711.85\"/>\n",
       "<text text-anchor=\"middle\" x=\"4902.5\" y=\"-3732.8\" font-family=\"Times,serif\" font-size=\"14.00\">0</text>\n",
       "</g>\n",
       "<!-- 79 -->\n",
       "<g id=\"node80\" class=\"node\">\n",
       "<title>79</title>\n",
       "<text text-anchor=\"middle\" x=\"4963.5\" y=\"-3699.8\" font-family=\"Times,serif\" font-size=\"14.00\">?</text>\n",
       "</g>\n",
       "<!-- 15&#45;&gt;79 -->\n",
       "<g id=\"edge79\" class=\"edge\">\n",
       "<title>15&#45;&gt;79</title>\n",
       "<path fill=\"none\" stroke=\"blue\" d=\"M4959.93,-3761.65C4960.53,-3752.07 4961.63,-3734.38 4962.46,-3721.2\"/>\n",
       "<polygon fill=\"blue\" stroke=\"blue\" points=\"4965.96,-3721.31 4963.09,-3711.11 4958.97,-3720.87 4965.96,-3721.31\"/>\n",
       "<text text-anchor=\"middle\" x=\"4966.5\" y=\"-3732.8\" font-family=\"Times,serif\" font-size=\"14.00\">1</text>\n",
       "</g>\n",
       "<!-- 17 -->\n",
       "<g id=\"node18\" class=\"node\">\n",
       "<title>17</title>\n",
       "<text text-anchor=\"middle\" x=\"4666.5\" y=\"-3633.8\" font-family=\"Times,serif\" font-size=\"14.00\">(16) str.substr(cgi_decode_s_str_1, 1, 1) == &quot;e&quot;</text>\n",
       "</g>\n",
       "<!-- 16&#45;&gt;17 -->\n",
       "<g id=\"edge17\" class=\"edge\">\n",
       "<title>16&#45;&gt;17</title>\n",
       "<path fill=\"none\" stroke=\"red\" d=\"M4793.84,-3695.89C4769.39,-3684.87 4720.07,-3662.65 4690.5,-3649.32\"/>\n",
       "<polygon fill=\"red\" stroke=\"red\" points=\"4691.85,-3646.09 4681.29,-3645.17 4688.97,-3652.47 4691.85,-3646.09\"/>\n",
       "<text text-anchor=\"middle\" x=\"4754.5\" y=\"-3666.8\" font-family=\"Times,serif\" font-size=\"14.00\">0</text>\n",
       "</g>\n",
       "<!-- 78 -->\n",
       "<g id=\"node79\" class=\"node\">\n",
       "<title>78</title>\n",
       "<text text-anchor=\"middle\" x=\"4821.5\" y=\"-3633.8\" font-family=\"Times,serif\" font-size=\"14.00\">?</text>\n",
       "</g>\n",
       "<!-- 16&#45;&gt;78 -->\n",
       "<g id=\"edge78\" class=\"edge\">\n",
       "<title>16&#45;&gt;78</title>\n",
       "<path fill=\"none\" stroke=\"blue\" d=\"M4809.89,-3695.65C4811.84,-3686.07 4815.43,-3668.38 4818.11,-3655.2\"/>\n",
       "<polygon fill=\"blue\" stroke=\"blue\" points=\"4821.6,-3655.6 4820.16,-3645.11 4814.74,-3654.21 4821.6,-3655.6\"/>\n",
       "<text text-anchor=\"middle\" x=\"4820.5\" y=\"-3666.8\" font-family=\"Times,serif\" font-size=\"14.00\">1</text>\n",
       "</g>\n",
       "<!-- 18 -->\n",
       "<g id=\"node19\" class=\"node\">\n",
       "<title>18</title>\n",
       "<text text-anchor=\"middle\" x=\"4526.5\" y=\"-3567.8\" font-family=\"Times,serif\" font-size=\"14.00\">(17) str.substr(cgi_decode_s_str_1, 1, 1) == &quot;f&quot;</text>\n",
       "</g>\n",
       "<!-- 17&#45;&gt;18 -->\n",
       "<g id=\"edge18\" class=\"edge\">\n",
       "<title>17&#45;&gt;18</title>\n",
       "<path fill=\"none\" stroke=\"red\" d=\"M4652.04,-3629.89C4628.05,-3618.92 4579.74,-3596.84 4550.55,-3583.49\"/>\n",
       "<polygon fill=\"red\" stroke=\"red\" points=\"4551.64,-3580.14 4541.09,-3579.17 4548.73,-3586.51 4551.64,-3580.14\"/>\n",
       "<text text-anchor=\"middle\" x=\"4613.5\" y=\"-3600.8\" font-family=\"Times,serif\" font-size=\"14.00\">0</text>\n",
       "</g>\n",
       "<!-- 77 -->\n",
       "<g id=\"node78\" class=\"node\">\n",
       "<title>77</title>\n",
       "<text text-anchor=\"middle\" x=\"4680.5\" y=\"-3567.8\" font-family=\"Times,serif\" font-size=\"14.00\">?</text>\n",
       "</g>\n",
       "<!-- 17&#45;&gt;77 -->\n",
       "<g id=\"edge77\" class=\"edge\">\n",
       "<title>17&#45;&gt;77</title>\n",
       "<path fill=\"none\" stroke=\"blue\" d=\"M4668,-3629.65C4670.09,-3620.07 4673.96,-3602.38 4676.85,-3589.2\"/>\n",
       "<polygon fill=\"blue\" stroke=\"blue\" points=\"4680.34,-3589.63 4679.05,-3579.11 4673.5,-3588.13 4680.34,-3589.63\"/>\n",
       "<text text-anchor=\"middle\" x=\"4679.5\" y=\"-3600.8\" font-family=\"Times,serif\" font-size=\"14.00\">1</text>\n",
       "</g>\n",
       "<!-- 19 -->\n",
       "<g id=\"node20\" class=\"node\">\n",
       "<title>19</title>\n",
       "<text text-anchor=\"middle\" x=\"4405.5\" y=\"-3501.8\" font-family=\"Times,serif\" font-size=\"14.00\">(18) str.substr(cgi_decode_s_str_1, 1, 1) == &quot;A&quot;</text>\n",
       "</g>\n",
       "<!-- 18&#45;&gt;19 -->\n",
       "<g id=\"edge19\" class=\"edge\">\n",
       "<title>18&#45;&gt;19</title>\n",
       "<path fill=\"none\" stroke=\"red\" d=\"M4514.01,-3563.89C4493.45,-3553.02 4452.24,-3531.22 4426.95,-3517.84\"/>\n",
       "<polygon fill=\"red\" stroke=\"red\" points=\"4428.58,-3514.75 4418.11,-3513.17 4425.31,-3520.94 4428.58,-3514.75\"/>\n",
       "<text text-anchor=\"middle\" x=\"4481.5\" y=\"-3534.8\" font-family=\"Times,serif\" font-size=\"14.00\">0</text>\n",
       "</g>\n",
       "<!-- 76 -->\n",
       "<g id=\"node77\" class=\"node\">\n",
       "<title>76</title>\n",
       "<text text-anchor=\"middle\" x=\"4562.5\" y=\"-3501.8\" font-family=\"Times,serif\" font-size=\"14.00\">?</text>\n",
       "</g>\n",
       "<!-- 18&#45;&gt;76 -->\n",
       "<g id=\"edge76\" class=\"edge\">\n",
       "<title>18&#45;&gt;76</title>\n",
       "<path fill=\"none\" stroke=\"blue\" d=\"M4530.35,-3563.65C4535.96,-3553.68 4546.52,-3534.91 4554,-3521.6\"/>\n",
       "<polygon fill=\"blue\" stroke=\"blue\" points=\"4557.14,-3523.16 4558.99,-3512.73 4551.04,-3519.73 4557.14,-3523.16\"/>\n",
       "<text text-anchor=\"middle\" x=\"4552.5\" y=\"-3534.8\" font-family=\"Times,serif\" font-size=\"14.00\">1</text>\n",
       "</g>\n",
       "<!-- 20 -->\n",
       "<g id=\"node21\" class=\"node\">\n",
       "<title>20</title>\n",
       "<text text-anchor=\"middle\" x=\"4304.5\" y=\"-3435.8\" font-family=\"Times,serif\" font-size=\"14.00\">(19) str.substr(cgi_decode_s_str_1, 1, 1) == &quot;B&quot;</text>\n",
       "</g>\n",
       "<!-- 19&#45;&gt;20 -->\n",
       "<g id=\"edge20\" class=\"edge\">\n",
       "<title>19&#45;&gt;20</title>\n",
       "<path fill=\"none\" stroke=\"red\" d=\"M4395.07,-3497.89C4378.21,-3487.21 4344.72,-3465.99 4323.53,-3452.56\"/>\n",
       "<polygon fill=\"red\" stroke=\"red\" points=\"4325.34,-3449.56 4315.02,-3447.17 4321.6,-3455.48 4325.34,-3449.56\"/>\n",
       "<text text-anchor=\"middle\" x=\"4368.5\" y=\"-3468.8\" font-family=\"Times,serif\" font-size=\"14.00\">0</text>\n",
       "</g>\n",
       "<!-- 75 -->\n",
       "<g id=\"node76\" class=\"node\">\n",
       "<title>75</title>\n",
       "<text text-anchor=\"middle\" x=\"4461.5\" y=\"-3435.8\" font-family=\"Times,serif\" font-size=\"14.00\">?</text>\n",
       "</g>\n",
       "<!-- 19&#45;&gt;75 -->\n",
       "<g id=\"edge75\" class=\"edge\">\n",
       "<title>19&#45;&gt;75</title>\n",
       "<path fill=\"none\" stroke=\"blue\" d=\"M4411.49,-3497.65C4420.94,-3486.86 4439.41,-3465.75 4451.07,-3452.42\"/>\n",
       "<polygon fill=\"blue\" stroke=\"blue\" points=\"4453.9,-3454.5 4457.85,-3444.67 4448.63,-3449.89 4453.9,-3454.5\"/>\n",
       "<text text-anchor=\"middle\" x=\"4443.5\" y=\"-3468.8\" font-family=\"Times,serif\" font-size=\"14.00\">1</text>\n",
       "</g>\n",
       "<!-- 21 -->\n",
       "<g id=\"node22\" class=\"node\">\n",
       "<title>21</title>\n",
       "<text text-anchor=\"middle\" x=\"4159.5\" y=\"-3369.8\" font-family=\"Times,serif\" font-size=\"14.00\">(20) str.substr(cgi_decode_s_str_1, 1, 1) == &quot;C&quot;</text>\n",
       "</g>\n",
       "<!-- 20&#45;&gt;21 -->\n",
       "<g id=\"edge21\" class=\"edge\">\n",
       "<title>20&#45;&gt;21</title>\n",
       "<path fill=\"none\" stroke=\"red\" d=\"M4289.53,-3431.89C4264.57,-3420.87 4214.21,-3398.65 4184.01,-3385.32\"/>\n",
       "<polygon fill=\"red\" stroke=\"red\" points=\"4185.17,-3382 4174.61,-3381.17 4182.34,-3388.41 4185.17,-3382\"/>\n",
       "<text text-anchor=\"middle\" x=\"4249.5\" y=\"-3402.8\" font-family=\"Times,serif\" font-size=\"14.00\">0</text>\n",
       "</g>\n",
       "<!-- 74 -->\n",
       "<g id=\"node75\" class=\"node\">\n",
       "<title>74</title>\n",
       "<text text-anchor=\"middle\" x=\"4316.5\" y=\"-3369.8\" font-family=\"Times,serif\" font-size=\"14.00\">?</text>\n",
       "</g>\n",
       "<!-- 20&#45;&gt;74 -->\n",
       "<g id=\"edge74\" class=\"edge\">\n",
       "<title>20&#45;&gt;74</title>\n",
       "<path fill=\"none\" stroke=\"blue\" d=\"M4305.78,-3431.65C4307.58,-3422.07 4310.9,-3404.38 4313.37,-3391.2\"/>\n",
       "<polygon fill=\"blue\" stroke=\"blue\" points=\"4316.86,-3391.58 4315.26,-3381.11 4309.98,-3390.29 4316.86,-3391.58\"/>\n",
       "<text text-anchor=\"middle\" x=\"4316.5\" y=\"-3402.8\" font-family=\"Times,serif\" font-size=\"14.00\">1</text>\n",
       "</g>\n",
       "<!-- 22 -->\n",
       "<g id=\"node23\" class=\"node\">\n",
       "<title>22</title>\n",
       "<text text-anchor=\"middle\" x=\"4049.5\" y=\"-3303.8\" font-family=\"Times,serif\" font-size=\"14.00\">(21) str.substr(cgi_decode_s_str_1, 1, 1) == &quot;D&quot;</text>\n",
       "</g>\n",
       "<!-- 21&#45;&gt;22 -->\n",
       "<g id=\"edge22\" class=\"edge\">\n",
       "<title>21&#45;&gt;22</title>\n",
       "<path fill=\"none\" stroke=\"red\" d=\"M4148.14,-3365.89C4129.62,-3355.11 4092.65,-3333.61 4069.61,-3320.2\"/>\n",
       "<polygon fill=\"red\" stroke=\"red\" points=\"4071.36,-3317.17 4060.96,-3315.17 4067.84,-3323.22 4071.36,-3317.17\"/>\n",
       "<text text-anchor=\"middle\" x=\"4118.5\" y=\"-3336.8\" font-family=\"Times,serif\" font-size=\"14.00\">0</text>\n",
       "</g>\n",
       "<!-- 73 -->\n",
       "<g id=\"node74\" class=\"node\">\n",
       "<title>73</title>\n",
       "<text text-anchor=\"middle\" x=\"4206.5\" y=\"-3303.8\" font-family=\"Times,serif\" font-size=\"14.00\">?</text>\n",
       "</g>\n",
       "<!-- 21&#45;&gt;73 -->\n",
       "<g id=\"edge73\" class=\"edge\">\n",
       "<title>21&#45;&gt;73</title>\n",
       "<path fill=\"none\" stroke=\"blue\" d=\"M4164.53,-3365.65C4172.23,-3355.17 4187.07,-3334.96 4196.88,-3321.6\"/>\n",
       "<polygon fill=\"blue\" stroke=\"blue\" points=\"4199.86,-3323.45 4202.96,-3313.32 4194.22,-3319.31 4199.86,-3323.45\"/>\n",
       "<text text-anchor=\"middle\" x=\"4191.5\" y=\"-3336.8\" font-family=\"Times,serif\" font-size=\"14.00\">1</text>\n",
       "</g>\n",
       "<!-- 23 -->\n",
       "<g id=\"node24\" class=\"node\">\n",
       "<title>23</title>\n",
       "<text text-anchor=\"middle\" x=\"3936.5\" y=\"-3237.8\" font-family=\"Times,serif\" font-size=\"14.00\">(22) str.substr(cgi_decode_s_str_1, 1, 1) == &quot;E&quot;</text>\n",
       "</g>\n",
       "<!-- 22&#45;&gt;23 -->\n",
       "<g id=\"edge23\" class=\"edge\">\n",
       "<title>22&#45;&gt;23</title>\n",
       "<path fill=\"none\" stroke=\"red\" d=\"M4037.83,-3299.89C4018.8,-3289.11 3980.83,-3267.61 3957.16,-3254.2\"/>\n",
       "<polygon fill=\"red\" stroke=\"red\" points=\"3958.7,-3251.05 3948.27,-3249.17 3955.25,-3257.14 3958.7,-3251.05\"/>\n",
       "<text text-anchor=\"middle\" x=\"4007.5\" y=\"-3270.8\" font-family=\"Times,serif\" font-size=\"14.00\">0</text>\n",
       "</g>\n",
       "<!-- 72 -->\n",
       "<g id=\"node73\" class=\"node\">\n",
       "<title>72</title>\n",
       "<text text-anchor=\"middle\" x=\"4092.5\" y=\"-3237.8\" font-family=\"Times,serif\" font-size=\"14.00\">?</text>\n",
       "</g>\n",
       "<!-- 22&#45;&gt;72 -->\n",
       "<g id=\"edge72\" class=\"edge\">\n",
       "<title>22&#45;&gt;72</title>\n",
       "<path fill=\"none\" stroke=\"blue\" d=\"M4054.1,-3299.65C4061.01,-3289.38 4074.19,-3269.75 4083.16,-3256.4\"/>\n",
       "<polygon fill=\"blue\" stroke=\"blue\" points=\"4086.13,-3258.26 4088.8,-3248.01 4080.32,-3254.35 4086.13,-3258.26\"/>\n",
       "<text text-anchor=\"middle\" x=\"4079.5\" y=\"-3270.8\" font-family=\"Times,serif\" font-size=\"14.00\">1</text>\n",
       "</g>\n",
       "<!-- 24 -->\n",
       "<g id=\"node25\" class=\"node\">\n",
       "<title>24</title>\n",
       "<text text-anchor=\"middle\" x=\"3792.5\" y=\"-3171.8\" font-family=\"Times,serif\" font-size=\"14.00\">(23) str.substr(cgi_decode_s_str_1, 1, 1) == &quot;F&quot;</text>\n",
       "</g>\n",
       "<!-- 23&#45;&gt;24 -->\n",
       "<g id=\"edge24\" class=\"edge\">\n",
       "<title>23&#45;&gt;24</title>\n",
       "<path fill=\"none\" stroke=\"red\" d=\"M3921.63,-3233.89C3896.84,-3222.87 3846.83,-3200.65 3816.84,-3187.32\"/>\n",
       "<polygon fill=\"red\" stroke=\"red\" points=\"3818.06,-3184.03 3807.5,-3183.17 3815.22,-3190.43 3818.06,-3184.03\"/>\n",
       "<text text-anchor=\"middle\" x=\"3881.5\" y=\"-3204.8\" font-family=\"Times,serif\" font-size=\"14.00\">0</text>\n",
       "</g>\n",
       "<!-- 71 -->\n",
       "<g id=\"node72\" class=\"node\">\n",
       "<title>71</title>\n",
       "<text text-anchor=\"middle\" x=\"3948.5\" y=\"-3171.8\" font-family=\"Times,serif\" font-size=\"14.00\">?</text>\n",
       "</g>\n",
       "<!-- 23&#45;&gt;71 -->\n",
       "<g id=\"edge71\" class=\"edge\">\n",
       "<title>23&#45;&gt;71</title>\n",
       "<path fill=\"none\" stroke=\"blue\" d=\"M3937.78,-3233.65C3939.58,-3224.07 3942.9,-3206.38 3945.37,-3193.2\"/>\n",
       "<polygon fill=\"blue\" stroke=\"blue\" points=\"3948.86,-3193.58 3947.26,-3183.11 3941.98,-3192.29 3948.86,-3193.58\"/>\n",
       "<text text-anchor=\"middle\" x=\"3948.5\" y=\"-3204.8\" font-family=\"Times,serif\" font-size=\"14.00\">1</text>\n",
       "</g>\n",
       "<!-- 25 -->\n",
       "<g id=\"node26\" class=\"node\">\n",
       "<title>25</title>\n",
       "<text text-anchor=\"middle\" x=\"3788.5\" y=\"-3105.8\" font-family=\"Times,serif\" font-size=\"14.00\">(24) str.substr(cgi_decode_s_str_1, 2, 1) == &quot;0&quot;</text>\n",
       "</g>\n",
       "<!-- 24&#45;&gt;25 -->\n",
       "<g id=\"edge25\" class=\"edge\">\n",
       "<title>24&#45;&gt;25</title>\n",
       "<path fill=\"none\" stroke=\"red\" d=\"M3792.07,-3167.65C3791.47,-3158.07 3790.37,-3140.38 3789.54,-3127.2\"/>\n",
       "<polygon fill=\"red\" stroke=\"red\" points=\"3793.03,-3126.87 3788.91,-3117.11 3786.04,-3127.31 3793.03,-3126.87\"/>\n",
       "<text text-anchor=\"middle\" x=\"3795.5\" y=\"-3138.8\" font-family=\"Times,serif\" font-size=\"14.00\">0</text>\n",
       "</g>\n",
       "<!-- 70 -->\n",
       "<g id=\"node71\" class=\"node\">\n",
       "<title>70</title>\n",
       "<text text-anchor=\"middle\" x=\"3943.5\" y=\"-3105.8\" font-family=\"Times,serif\" font-size=\"14.00\">?</text>\n",
       "</g>\n",
       "<!-- 24&#45;&gt;70 -->\n",
       "<g id=\"edge70\" class=\"edge\">\n",
       "<title>24&#45;&gt;70</title>\n",
       "<path fill=\"none\" stroke=\"blue\" d=\"M3809.23,-3167.96C3835.35,-3157.66 3887.31,-3136.77 3930.5,-3117 3930.6,-3116.96 3930.7,-3116.91 3930.79,-3116.87\"/>\n",
       "<polygon fill=\"blue\" stroke=\"blue\" points=\"3932.24,-3120.06 3939.67,-3112.5 3929.15,-3113.77 3932.24,-3120.06\"/>\n",
       "<text text-anchor=\"middle\" x=\"3893.5\" y=\"-3138.8\" font-family=\"Times,serif\" font-size=\"14.00\">1</text>\n",
       "</g>\n",
       "<!-- 26 -->\n",
       "<g id=\"node27\" class=\"node\">\n",
       "<title>26</title>\n",
       "<text text-anchor=\"middle\" x=\"3780.5\" y=\"-3039.8\" font-family=\"Times,serif\" font-size=\"14.00\">(25) str.substr(cgi_decode_s_str_1, 2, 1) == &quot;1&quot;</text>\n",
       "</g>\n",
       "<!-- 25&#45;&gt;26 -->\n",
       "<g id=\"edge26\" class=\"edge\">\n",
       "<title>25&#45;&gt;26</title>\n",
       "<path fill=\"none\" stroke=\"red\" d=\"M3787.64,-3101.65C3786.45,-3092.07 3784.23,-3074.38 3782.59,-3061.2\"/>\n",
       "<polygon fill=\"red\" stroke=\"red\" points=\"3786.04,-3060.6 3781.33,-3051.11 3779.09,-3061.47 3786.04,-3060.6\"/>\n",
       "<text text-anchor=\"middle\" x=\"3789.5\" y=\"-3072.8\" font-family=\"Times,serif\" font-size=\"14.00\">0</text>\n",
       "</g>\n",
       "<!-- 69 -->\n",
       "<g id=\"node70\" class=\"node\">\n",
       "<title>69</title>\n",
       "<text text-anchor=\"middle\" x=\"3935.5\" y=\"-3039.8\" font-family=\"Times,serif\" font-size=\"14.00\">?</text>\n",
       "</g>\n",
       "<!-- 25&#45;&gt;69 -->\n",
       "<g id=\"edge69\" class=\"edge\">\n",
       "<title>25&#45;&gt;69</title>\n",
       "<path fill=\"none\" stroke=\"blue\" d=\"M3804.72,-3101.9C3830.06,-3091.5 3880.48,-3070.5 3922.5,-3051 3922.6,-3050.95 3922.69,-3050.91 3922.79,-3050.86\"/>\n",
       "<polygon fill=\"blue\" stroke=\"blue\" points=\"3924.24,-3054.05 3931.66,-3046.49 3921.14,-3047.77 3924.24,-3054.05\"/>\n",
       "<text text-anchor=\"middle\" x=\"3886.5\" y=\"-3072.8\" font-family=\"Times,serif\" font-size=\"14.00\">1</text>\n",
       "</g>\n",
       "<!-- 27 -->\n",
       "<g id=\"node28\" class=\"node\">\n",
       "<title>27</title>\n",
       "<text text-anchor=\"middle\" x=\"3779.5\" y=\"-2973.8\" font-family=\"Times,serif\" font-size=\"14.00\">(26) str.substr(cgi_decode_s_str_1, 2, 1) == &quot;2&quot;</text>\n",
       "</g>\n",
       "<!-- 26&#45;&gt;27 -->\n",
       "<g id=\"edge27\" class=\"edge\">\n",
       "<title>26&#45;&gt;27</title>\n",
       "<path fill=\"none\" stroke=\"red\" d=\"M3780.39,-3035.65C3780.24,-3026.07 3779.97,-3008.38 3779.76,-2995.2\"/>\n",
       "<polygon fill=\"red\" stroke=\"red\" points=\"3783.26,-2995.05 3779.6,-2985.11 3776.26,-2995.16 3783.26,-2995.05\"/>\n",
       "<text text-anchor=\"middle\" x=\"3784.5\" y=\"-3006.8\" font-family=\"Times,serif\" font-size=\"14.00\">0</text>\n",
       "</g>\n",
       "<!-- 68 -->\n",
       "<g id=\"node69\" class=\"node\">\n",
       "<title>68</title>\n",
       "<text text-anchor=\"middle\" x=\"3934.5\" y=\"-2973.8\" font-family=\"Times,serif\" font-size=\"14.00\">?</text>\n",
       "</g>\n",
       "<!-- 26&#45;&gt;68 -->\n",
       "<g id=\"edge68\" class=\"edge\">\n",
       "<title>26&#45;&gt;68</title>\n",
       "<path fill=\"none\" stroke=\"blue\" d=\"M3798.05,-3035.84C3824.9,-3025.54 3877.67,-3004.86 3921.5,-2985 3921.6,-2984.96 3921.7,-2984.91 3921.79,-2984.87\"/>\n",
       "<polygon fill=\"blue\" stroke=\"blue\" points=\"3923.23,-2988.06 3930.67,-2980.51 3920.15,-2981.77 3923.23,-2988.06\"/>\n",
       "<text text-anchor=\"middle\" x=\"3883.5\" y=\"-3006.8\" font-family=\"Times,serif\" font-size=\"14.00\">1</text>\n",
       "</g>\n",
       "<!-- 28 -->\n",
       "<g id=\"node29\" class=\"node\">\n",
       "<title>28</title>\n",
       "<text text-anchor=\"middle\" x=\"3775.5\" y=\"-2907.8\" font-family=\"Times,serif\" font-size=\"14.00\">(27) str.substr(cgi_decode_s_str_1, 2, 1) == &quot;3&quot;</text>\n",
       "</g>\n",
       "<!-- 27&#45;&gt;28 -->\n",
       "<g id=\"edge28\" class=\"edge\">\n",
       "<title>27&#45;&gt;28</title>\n",
       "<path fill=\"none\" stroke=\"red\" d=\"M3779.07,-2969.65C3778.47,-2960.07 3777.37,-2942.38 3776.54,-2929.2\"/>\n",
       "<polygon fill=\"red\" stroke=\"red\" points=\"3780.03,-2928.87 3775.91,-2919.11 3773.04,-2929.31 3780.03,-2928.87\"/>\n",
       "<text text-anchor=\"middle\" x=\"3782.5\" y=\"-2940.8\" font-family=\"Times,serif\" font-size=\"14.00\">0</text>\n",
       "</g>\n",
       "<!-- 67 -->\n",
       "<g id=\"node68\" class=\"node\">\n",
       "<title>67</title>\n",
       "<text text-anchor=\"middle\" x=\"3930.5\" y=\"-2907.8\" font-family=\"Times,serif\" font-size=\"14.00\">?</text>\n",
       "</g>\n",
       "<!-- 27&#45;&gt;67 -->\n",
       "<g id=\"edge67\" class=\"edge\">\n",
       "<title>27&#45;&gt;67</title>\n",
       "<path fill=\"none\" stroke=\"blue\" d=\"M3796.23,-2969.96C3822.35,-2959.66 3874.31,-2938.77 3917.5,-2919 3917.6,-2918.96 3917.7,-2918.91 3917.79,-2918.87\"/>\n",
       "<polygon fill=\"blue\" stroke=\"blue\" points=\"3919.24,-2922.06 3926.67,-2914.5 3916.15,-2915.77 3919.24,-2922.06\"/>\n",
       "<text text-anchor=\"middle\" x=\"3880.5\" y=\"-2940.8\" font-family=\"Times,serif\" font-size=\"14.00\">1</text>\n",
       "</g>\n",
       "<!-- 29 -->\n",
       "<g id=\"node30\" class=\"node\">\n",
       "<title>29</title>\n",
       "<text text-anchor=\"middle\" x=\"3760.5\" y=\"-2841.8\" font-family=\"Times,serif\" font-size=\"14.00\">(28) str.substr(cgi_decode_s_str_1, 2, 1) == &quot;4&quot;</text>\n",
       "</g>\n",
       "<!-- 28&#45;&gt;29 -->\n",
       "<g id=\"edge29\" class=\"edge\">\n",
       "<title>28&#45;&gt;29</title>\n",
       "<path fill=\"none\" stroke=\"red\" d=\"M3773.89,-2903.65C3771.65,-2894.07 3767.5,-2876.38 3764.41,-2863.2\"/>\n",
       "<polygon fill=\"red\" stroke=\"red\" points=\"3767.74,-2862.05 3762.05,-2853.11 3760.92,-2863.64 3767.74,-2862.05\"/>\n",
       "<text text-anchor=\"middle\" x=\"3773.5\" y=\"-2874.8\" font-family=\"Times,serif\" font-size=\"14.00\">0</text>\n",
       "</g>\n",
       "<!-- 66 -->\n",
       "<g id=\"node67\" class=\"node\">\n",
       "<title>66</title>\n",
       "<text text-anchor=\"middle\" x=\"3915.5\" y=\"-2841.8\" font-family=\"Times,serif\" font-size=\"14.00\">?</text>\n",
       "</g>\n",
       "<!-- 28&#45;&gt;66 -->\n",
       "<g id=\"edge66\" class=\"edge\">\n",
       "<title>28&#45;&gt;66</title>\n",
       "<path fill=\"none\" stroke=\"blue\" d=\"M3790.45,-2903.96C3814.27,-2893.47 3862.29,-2872.15 3902.5,-2853 3902.6,-2852.95 3902.69,-2852.91 3902.79,-2852.86\"/>\n",
       "<polygon fill=\"blue\" stroke=\"blue\" points=\"3904.24,-2856.05 3911.65,-2848.47 3901.14,-2849.77 3904.24,-2856.05\"/>\n",
       "<text text-anchor=\"middle\" x=\"3865.5\" y=\"-2874.8\" font-family=\"Times,serif\" font-size=\"14.00\">1</text>\n",
       "</g>\n",
       "<!-- 30 -->\n",
       "<g id=\"node31\" class=\"node\">\n",
       "<title>30</title>\n",
       "<text text-anchor=\"middle\" x=\"3682.5\" y=\"-2775.8\" font-family=\"Times,serif\" font-size=\"14.00\">(29) str.substr(cgi_decode_s_str_1, 2, 1) == &quot;5&quot;</text>\n",
       "</g>\n",
       "<!-- 29&#45;&gt;30 -->\n",
       "<g id=\"edge30\" class=\"edge\">\n",
       "<title>29&#45;&gt;30</title>\n",
       "<path fill=\"none\" stroke=\"red\" d=\"M3752.45,-2837.89C3739.84,-2827.54 3715.17,-2807.31 3698.77,-2793.85\"/>\n",
       "<polygon fill=\"red\" stroke=\"red\" points=\"3700.58,-2790.81 3690.63,-2787.17 3696.14,-2796.22 3700.58,-2790.81\"/>\n",
       "<text text-anchor=\"middle\" x=\"3732.5\" y=\"-2808.8\" font-family=\"Times,serif\" font-size=\"14.00\">0</text>\n",
       "</g>\n",
       "<!-- 65 -->\n",
       "<g id=\"node66\" class=\"node\">\n",
       "<title>65</title>\n",
       "<text text-anchor=\"middle\" x=\"3837.5\" y=\"-2775.8\" font-family=\"Times,serif\" font-size=\"14.00\">?</text>\n",
       "</g>\n",
       "<!-- 29&#45;&gt;65 -->\n",
       "<g id=\"edge65\" class=\"edge\">\n",
       "<title>29&#45;&gt;65</title>\n",
       "<path fill=\"none\" stroke=\"blue\" d=\"M3768.45,-2837.89C3782.07,-2826.57 3809.92,-2803.42 3825.78,-2790.24\"/>\n",
       "<polygon fill=\"blue\" stroke=\"blue\" points=\"3828.41,-2792.61 3833.86,-2783.52 3823.93,-2787.22 3828.41,-2792.61\"/>\n",
       "<text text-anchor=\"middle\" x=\"3810.5\" y=\"-2808.8\" font-family=\"Times,serif\" font-size=\"14.00\">1</text>\n",
       "</g>\n",
       "<!-- 31 -->\n",
       "<g id=\"node32\" class=\"node\">\n",
       "<title>31</title>\n",
       "<text text-anchor=\"middle\" x=\"3574.5\" y=\"-2709.8\" font-family=\"Times,serif\" font-size=\"14.00\">(30) str.substr(cgi_decode_s_str_1, 2, 1) == &quot;6&quot;</text>\n",
       "</g>\n",
       "<!-- 30&#45;&gt;31 -->\n",
       "<g id=\"edge31\" class=\"edge\">\n",
       "<title>30&#45;&gt;31</title>\n",
       "<path fill=\"none\" stroke=\"red\" d=\"M3671.35,-2771.89C3653.24,-2761.16 3617.19,-2739.8 3594.55,-2726.38\"/>\n",
       "<polygon fill=\"red\" stroke=\"red\" points=\"3596.14,-2723.26 3585.75,-2721.17 3592.57,-2729.28 3596.14,-2723.26\"/>\n",
       "<text text-anchor=\"middle\" x=\"3642.5\" y=\"-2742.8\" font-family=\"Times,serif\" font-size=\"14.00\">0</text>\n",
       "</g>\n",
       "<!-- 64 -->\n",
       "<g id=\"node65\" class=\"node\">\n",
       "<title>64</title>\n",
       "<text text-anchor=\"middle\" x=\"3729.5\" y=\"-2709.8\" font-family=\"Times,serif\" font-size=\"14.00\">?</text>\n",
       "</g>\n",
       "<!-- 30&#45;&gt;64 -->\n",
       "<g id=\"edge64\" class=\"edge\">\n",
       "<title>30&#45;&gt;64</title>\n",
       "<path fill=\"none\" stroke=\"blue\" d=\"M3687.53,-2771.65C3695.23,-2761.17 3710.07,-2740.96 3719.88,-2727.6\"/>\n",
       "<polygon fill=\"blue\" stroke=\"blue\" points=\"3722.86,-2729.45 3725.96,-2719.32 3717.22,-2725.31 3722.86,-2729.45\"/>\n",
       "<text text-anchor=\"middle\" x=\"3714.5\" y=\"-2742.8\" font-family=\"Times,serif\" font-size=\"14.00\">1</text>\n",
       "</g>\n",
       "<!-- 32 -->\n",
       "<g id=\"node33\" class=\"node\">\n",
       "<title>32</title>\n",
       "<text text-anchor=\"middle\" x=\"3479.5\" y=\"-2643.8\" font-family=\"Times,serif\" font-size=\"14.00\">(31) str.substr(cgi_decode_s_str_1, 2, 1) == &quot;7&quot;</text>\n",
       "</g>\n",
       "<!-- 31&#45;&gt;32 -->\n",
       "<g id=\"edge32\" class=\"edge\">\n",
       "<title>31&#45;&gt;32</title>\n",
       "<path fill=\"none\" stroke=\"red\" d=\"M3564.69,-2705.89C3548.98,-2695.3 3517.9,-2674.37 3497.94,-2660.92\"/>\n",
       "<polygon fill=\"red\" stroke=\"red\" points=\"3499.65,-2657.85 3489.4,-2655.17 3495.74,-2663.66 3499.65,-2657.85\"/>\n",
       "<text text-anchor=\"middle\" x=\"3540.5\" y=\"-2676.8\" font-family=\"Times,serif\" font-size=\"14.00\">0</text>\n",
       "</g>\n",
       "<!-- 63 -->\n",
       "<g id=\"node64\" class=\"node\">\n",
       "<title>63</title>\n",
       "<text text-anchor=\"middle\" x=\"3634.5\" y=\"-2643.8\" font-family=\"Times,serif\" font-size=\"14.00\">?</text>\n",
       "</g>\n",
       "<!-- 31&#45;&gt;63 -->\n",
       "<g id=\"edge63\" class=\"edge\">\n",
       "<title>31&#45;&gt;63</title>\n",
       "<path fill=\"none\" stroke=\"blue\" d=\"M3580.92,-2705.65C3591.24,-2694.65 3611.6,-2672.92 3624.04,-2659.66\"/>\n",
       "<polygon fill=\"blue\" stroke=\"blue\" points=\"3626.6,-2662.05 3630.88,-2652.36 3621.49,-2657.26 3626.6,-2662.05\"/>\n",
       "<text text-anchor=\"middle\" x=\"3614.5\" y=\"-2676.8\" font-family=\"Times,serif\" font-size=\"14.00\">1</text>\n",
       "</g>\n",
       "<!-- 33 -->\n",
       "<g id=\"node34\" class=\"node\">\n",
       "<title>33</title>\n",
       "<text text-anchor=\"middle\" x=\"3382.5\" y=\"-2577.8\" font-family=\"Times,serif\" font-size=\"14.00\">(32) str.substr(cgi_decode_s_str_1, 2, 1) == &quot;8&quot;</text>\n",
       "</g>\n",
       "<!-- 32&#45;&gt;33 -->\n",
       "<g id=\"edge33\" class=\"edge\">\n",
       "<title>32&#45;&gt;33</title>\n",
       "<path fill=\"none\" stroke=\"red\" d=\"M3469.48,-2639.89C3453.37,-2629.26 3421.42,-2608.18 3401.05,-2594.74\"/>\n",
       "<polygon fill=\"red\" stroke=\"red\" points=\"3402.88,-2591.75 3392.61,-2589.17 3399.03,-2597.6 3402.88,-2591.75\"/>\n",
       "<text text-anchor=\"middle\" x=\"3444.5\" y=\"-2610.8\" font-family=\"Times,serif\" font-size=\"14.00\">0</text>\n",
       "</g>\n",
       "<!-- 62 -->\n",
       "<g id=\"node63\" class=\"node\">\n",
       "<title>62</title>\n",
       "<text text-anchor=\"middle\" x=\"3537.5\" y=\"-2577.8\" font-family=\"Times,serif\" font-size=\"14.00\">?</text>\n",
       "</g>\n",
       "<!-- 32&#45;&gt;62 -->\n",
       "<g id=\"edge62\" class=\"edge\">\n",
       "<title>32&#45;&gt;62</title>\n",
       "<path fill=\"none\" stroke=\"blue\" d=\"M3485.71,-2639.65C3495.49,-2628.86 3514.62,-2607.75 3526.69,-2594.42\"/>\n",
       "<polygon fill=\"blue\" stroke=\"blue\" points=\"3529.6,-2596.43 3533.72,-2586.67 3524.41,-2591.73 3529.6,-2596.43\"/>\n",
       "<text text-anchor=\"middle\" x=\"3518.5\" y=\"-2610.8\" font-family=\"Times,serif\" font-size=\"14.00\">1</text>\n",
       "</g>\n",
       "<!-- 34 -->\n",
       "<g id=\"node35\" class=\"node\">\n",
       "<title>34</title>\n",
       "<text text-anchor=\"middle\" x=\"3242.5\" y=\"-2511.8\" font-family=\"Times,serif\" font-size=\"14.00\">(33) str.substr(cgi_decode_s_str_1, 2, 1) == &quot;9&quot;</text>\n",
       "</g>\n",
       "<!-- 33&#45;&gt;34 -->\n",
       "<g id=\"edge34\" class=\"edge\">\n",
       "<title>33&#45;&gt;34</title>\n",
       "<path fill=\"none\" stroke=\"red\" d=\"M3368.04,-2573.89C3344.05,-2562.92 3295.74,-2540.84 3266.55,-2527.49\"/>\n",
       "<polygon fill=\"red\" stroke=\"red\" points=\"3267.64,-2524.14 3257.09,-2523.17 3264.73,-2530.51 3267.64,-2524.14\"/>\n",
       "<text text-anchor=\"middle\" x=\"3329.5\" y=\"-2544.8\" font-family=\"Times,serif\" font-size=\"14.00\">0</text>\n",
       "</g>\n",
       "<!-- 61 -->\n",
       "<g id=\"node62\" class=\"node\">\n",
       "<title>61</title>\n",
       "<text text-anchor=\"middle\" x=\"3397.5\" y=\"-2511.8\" font-family=\"Times,serif\" font-size=\"14.00\">?</text>\n",
       "</g>\n",
       "<!-- 33&#45;&gt;61 -->\n",
       "<g id=\"edge61\" class=\"edge\">\n",
       "<title>33&#45;&gt;61</title>\n",
       "<path fill=\"none\" stroke=\"blue\" d=\"M3384.11,-2573.65C3386.35,-2564.07 3390.5,-2546.38 3393.59,-2533.2\"/>\n",
       "<polygon fill=\"blue\" stroke=\"blue\" points=\"3397.08,-2533.64 3395.95,-2523.11 3390.26,-2532.05 3397.08,-2533.64\"/>\n",
       "<text text-anchor=\"middle\" x=\"3395.5\" y=\"-2544.8\" font-family=\"Times,serif\" font-size=\"14.00\">1</text>\n",
       "</g>\n",
       "<!-- 35 -->\n",
       "<g id=\"node36\" class=\"node\">\n",
       "<title>35</title>\n",
       "<text text-anchor=\"middle\" x=\"3100.5\" y=\"-2445.8\" font-family=\"Times,serif\" font-size=\"14.00\">(34) str.substr(cgi_decode_s_str_1, 2, 1) == &quot;a&quot;</text>\n",
       "</g>\n",
       "<!-- 34&#45;&gt;35 -->\n",
       "<g id=\"edge35\" class=\"edge\">\n",
       "<title>34&#45;&gt;35</title>\n",
       "<path fill=\"none\" stroke=\"red\" d=\"M3227.84,-2507.89C3203.39,-2496.87 3154.07,-2474.65 3124.5,-2461.32\"/>\n",
       "<polygon fill=\"red\" stroke=\"red\" points=\"3125.85,-2458.09 3115.29,-2457.17 3122.97,-2464.47 3125.85,-2458.09\"/>\n",
       "<text text-anchor=\"middle\" x=\"3188.5\" y=\"-2478.8\" font-family=\"Times,serif\" font-size=\"14.00\">0</text>\n",
       "</g>\n",
       "<!-- 60 -->\n",
       "<g id=\"node61\" class=\"node\">\n",
       "<title>60</title>\n",
       "<text text-anchor=\"middle\" x=\"3255.5\" y=\"-2445.8\" font-family=\"Times,serif\" font-size=\"14.00\">?</text>\n",
       "</g>\n",
       "<!-- 34&#45;&gt;60 -->\n",
       "<g id=\"edge60\" class=\"edge\">\n",
       "<title>34&#45;&gt;60</title>\n",
       "<path fill=\"none\" stroke=\"blue\" d=\"M3243.89,-2507.65C3245.84,-2498.07 3249.43,-2480.38 3252.11,-2467.2\"/>\n",
       "<polygon fill=\"blue\" stroke=\"blue\" points=\"3255.6,-2467.6 3254.16,-2457.11 3248.74,-2466.21 3255.6,-2467.6\"/>\n",
       "<text text-anchor=\"middle\" x=\"3254.5\" y=\"-2478.8\" font-family=\"Times,serif\" font-size=\"14.00\">1</text>\n",
       "</g>\n",
       "<!-- 36 -->\n",
       "<g id=\"node37\" class=\"node\">\n",
       "<title>36</title>\n",
       "<text text-anchor=\"middle\" x=\"3099.5\" y=\"-2379.8\" font-family=\"Times,serif\" font-size=\"14.00\">(35) str.substr(cgi_decode_s_str_1, 2, 1) == &quot;b&quot;</text>\n",
       "</g>\n",
       "<!-- 35&#45;&gt;36 -->\n",
       "<g id=\"edge36\" class=\"edge\">\n",
       "<title>35&#45;&gt;36</title>\n",
       "<path fill=\"none\" stroke=\"red\" d=\"M3100.39,-2441.65C3100.24,-2432.07 3099.97,-2414.38 3099.76,-2401.2\"/>\n",
       "<polygon fill=\"red\" stroke=\"red\" points=\"3103.26,-2401.05 3099.6,-2391.11 3096.26,-2401.16 3103.26,-2401.05\"/>\n",
       "<text text-anchor=\"middle\" x=\"3104.5\" y=\"-2412.8\" font-family=\"Times,serif\" font-size=\"14.00\">0</text>\n",
       "</g>\n",
       "<!-- 59 -->\n",
       "<g id=\"node60\" class=\"node\">\n",
       "<title>59</title>\n",
       "<text text-anchor=\"middle\" x=\"3254.5\" y=\"-2379.8\" font-family=\"Times,serif\" font-size=\"14.00\">?</text>\n",
       "</g>\n",
       "<!-- 35&#45;&gt;59 -->\n",
       "<g id=\"edge59\" class=\"edge\">\n",
       "<title>35&#45;&gt;59</title>\n",
       "<path fill=\"none\" stroke=\"blue\" d=\"M3118.05,-2441.84C3144.9,-2431.54 3197.67,-2410.86 3241.5,-2391 3241.6,-2390.96 3241.7,-2390.91 3241.79,-2390.87\"/>\n",
       "<polygon fill=\"blue\" stroke=\"blue\" points=\"3243.23,-2394.06 3250.67,-2386.51 3240.15,-2387.77 3243.23,-2394.06\"/>\n",
       "<text text-anchor=\"middle\" x=\"3203.5\" y=\"-2412.8\" font-family=\"Times,serif\" font-size=\"14.00\">1</text>\n",
       "</g>\n",
       "<!-- 37 -->\n",
       "<g id=\"node38\" class=\"node\">\n",
       "<title>37</title>\n",
       "<text text-anchor=\"middle\" x=\"2977.5\" y=\"-2313.8\" font-family=\"Times,serif\" font-size=\"14.00\">(36) str.substr(cgi_decode_s_str_1, 2, 1) == &quot;c&quot;</text>\n",
       "</g>\n",
       "<!-- 36&#45;&gt;37 -->\n",
       "<g id=\"edge37\" class=\"edge\">\n",
       "<title>36&#45;&gt;37</title>\n",
       "<path fill=\"none\" stroke=\"red\" d=\"M3086.9,-2375.89C3066.17,-2365.02 3024.63,-2343.22 2999.12,-2329.84\"/>\n",
       "<polygon fill=\"red\" stroke=\"red\" points=\"3000.69,-2326.71 2990.21,-2325.17 2997.44,-2332.91 3000.69,-2326.71\"/>\n",
       "<text text-anchor=\"middle\" x=\"3053.5\" y=\"-2346.8\" font-family=\"Times,serif\" font-size=\"14.00\">0</text>\n",
       "</g>\n",
       "<!-- 58 -->\n",
       "<g id=\"node59\" class=\"node\">\n",
       "<title>58</title>\n",
       "<text text-anchor=\"middle\" x=\"3132.5\" y=\"-2313.8\" font-family=\"Times,serif\" font-size=\"14.00\">?</text>\n",
       "</g>\n",
       "<!-- 36&#45;&gt;58 -->\n",
       "<g id=\"edge58\" class=\"edge\">\n",
       "<title>36&#45;&gt;58</title>\n",
       "<path fill=\"none\" stroke=\"blue\" d=\"M3103.03,-2375.65C3108.12,-2365.78 3117.65,-2347.3 3124.5,-2334.02\"/>\n",
       "<polygon fill=\"blue\" stroke=\"blue\" points=\"3127.62,-2335.6 3129.09,-2325.11 3121.4,-2332.39 3127.62,-2335.6\"/>\n",
       "<text text-anchor=\"middle\" x=\"3123.5\" y=\"-2346.8\" font-family=\"Times,serif\" font-size=\"14.00\">1</text>\n",
       "</g>\n",
       "<!-- 38 -->\n",
       "<g id=\"node39\" class=\"node\">\n",
       "<title>38</title>\n",
       "<text text-anchor=\"middle\" x=\"2900.5\" y=\"-2247.8\" font-family=\"Times,serif\" font-size=\"14.00\">(37) str.substr(cgi_decode_s_str_1, 2, 1) == &quot;d&quot;</text>\n",
       "</g>\n",
       "<!-- 37&#45;&gt;38 -->\n",
       "<g id=\"edge38\" class=\"edge\">\n",
       "<title>37&#45;&gt;38</title>\n",
       "<path fill=\"none\" stroke=\"red\" d=\"M2969.55,-2309.89C2957.1,-2299.54 2932.76,-2279.31 2916.56,-2265.85\"/>\n",
       "<polygon fill=\"red\" stroke=\"red\" points=\"2918.45,-2262.87 2908.52,-2259.17 2913.98,-2268.25 2918.45,-2262.87\"/>\n",
       "<text text-anchor=\"middle\" x=\"2950.5\" y=\"-2280.8\" font-family=\"Times,serif\" font-size=\"14.00\">0</text>\n",
       "</g>\n",
       "<!-- 57 -->\n",
       "<g id=\"node58\" class=\"node\">\n",
       "<title>57</title>\n",
       "<text text-anchor=\"middle\" x=\"3055.5\" y=\"-2247.8\" font-family=\"Times,serif\" font-size=\"14.00\">?</text>\n",
       "</g>\n",
       "<!-- 37&#45;&gt;57 -->\n",
       "<g id=\"edge57\" class=\"edge\">\n",
       "<title>37&#45;&gt;57</title>\n",
       "<path fill=\"none\" stroke=\"blue\" d=\"M2985.55,-2309.89C2999.48,-2298.47 3028.1,-2274.98 3044.08,-2261.87\"/>\n",
       "<polygon fill=\"blue\" stroke=\"blue\" points=\"3046.3,-2264.57 3051.81,-2255.52 3041.86,-2259.16 3046.3,-2264.57\"/>\n",
       "<text text-anchor=\"middle\" x=\"3027.5\" y=\"-2280.8\" font-family=\"Times,serif\" font-size=\"14.00\">1</text>\n",
       "</g>\n",
       "<!-- 39 -->\n",
       "<g id=\"node40\" class=\"node\">\n",
       "<title>39</title>\n",
       "<text text-anchor=\"middle\" x=\"2785.5\" y=\"-2181.8\" font-family=\"Times,serif\" font-size=\"14.00\">(38) str.substr(cgi_decode_s_str_1, 2, 1) == &quot;e&quot;</text>\n",
       "</g>\n",
       "<!-- 38&#45;&gt;39 -->\n",
       "<g id=\"edge39\" class=\"edge\">\n",
       "<title>38&#45;&gt;39</title>\n",
       "<path fill=\"none\" stroke=\"red\" d=\"M2888.63,-2243.89C2869.26,-2233.11 2830.61,-2211.61 2806.52,-2198.2\"/>\n",
       "<polygon fill=\"red\" stroke=\"red\" points=\"2807.92,-2194.97 2797.48,-2193.17 2804.52,-2201.09 2807.92,-2194.97\"/>\n",
       "<text text-anchor=\"middle\" x=\"2857.5\" y=\"-2214.8\" font-family=\"Times,serif\" font-size=\"14.00\">0</text>\n",
       "</g>\n",
       "<!-- 56 -->\n",
       "<g id=\"node57\" class=\"node\">\n",
       "<title>56</title>\n",
       "<text text-anchor=\"middle\" x=\"2940.5\" y=\"-2181.8\" font-family=\"Times,serif\" font-size=\"14.00\">?</text>\n",
       "</g>\n",
       "<!-- 38&#45;&gt;56 -->\n",
       "<g id=\"edge56\" class=\"edge\">\n",
       "<title>38&#45;&gt;56</title>\n",
       "<path fill=\"none\" stroke=\"blue\" d=\"M2904.78,-2243.65C2911.08,-2233.58 2922.99,-2214.52 2931.32,-2201.2\"/>\n",
       "<polygon fill=\"blue\" stroke=\"blue\" points=\"2934.5,-2202.7 2936.84,-2192.36 2928.57,-2198.99 2934.5,-2202.7\"/>\n",
       "<text text-anchor=\"middle\" x=\"2928.5\" y=\"-2214.8\" font-family=\"Times,serif\" font-size=\"14.00\">1</text>\n",
       "</g>\n",
       "<!-- 40 -->\n",
       "<g id=\"node41\" class=\"node\">\n",
       "<title>40</title>\n",
       "<text text-anchor=\"middle\" x=\"2708.5\" y=\"-2115.8\" font-family=\"Times,serif\" font-size=\"14.00\">(39) str.substr(cgi_decode_s_str_1, 2, 1) == &quot;f&quot;</text>\n",
       "</g>\n",
       "<!-- 39&#45;&gt;40 -->\n",
       "<g id=\"edge40\" class=\"edge\">\n",
       "<title>39&#45;&gt;40</title>\n",
       "<path fill=\"none\" stroke=\"red\" d=\"M2777.55,-2177.89C2765.1,-2167.54 2740.76,-2147.31 2724.56,-2133.85\"/>\n",
       "<polygon fill=\"red\" stroke=\"red\" points=\"2726.45,-2130.87 2716.52,-2127.17 2721.98,-2136.25 2726.45,-2130.87\"/>\n",
       "<text text-anchor=\"middle\" x=\"2758.5\" y=\"-2148.8\" font-family=\"Times,serif\" font-size=\"14.00\">0</text>\n",
       "</g>\n",
       "<!-- 55 -->\n",
       "<g id=\"node56\" class=\"node\">\n",
       "<title>55</title>\n",
       "<text text-anchor=\"middle\" x=\"2862.5\" y=\"-2115.8\" font-family=\"Times,serif\" font-size=\"14.00\">?</text>\n",
       "</g>\n",
       "<!-- 39&#45;&gt;55 -->\n",
       "<g id=\"edge55\" class=\"edge\">\n",
       "<title>39&#45;&gt;55</title>\n",
       "<path fill=\"none\" stroke=\"blue\" d=\"M2793.45,-2177.89C2807.07,-2166.57 2834.92,-2143.42 2850.78,-2130.24\"/>\n",
       "<polygon fill=\"blue\" stroke=\"blue\" points=\"2853.41,-2132.61 2858.86,-2123.52 2848.93,-2127.22 2853.41,-2132.61\"/>\n",
       "<text text-anchor=\"middle\" x=\"2835.5\" y=\"-2148.8\" font-family=\"Times,serif\" font-size=\"14.00\">1</text>\n",
       "</g>\n",
       "<!-- 41 -->\n",
       "<g id=\"node42\" class=\"node\">\n",
       "<title>41</title>\n",
       "<text text-anchor=\"middle\" x=\"2563.5\" y=\"-2049.8\" font-family=\"Times,serif\" font-size=\"14.00\">(40) str.substr(cgi_decode_s_str_1, 2, 1) == &quot;A&quot;</text>\n",
       "</g>\n",
       "<!-- 40&#45;&gt;41 -->\n",
       "<g id=\"edge41\" class=\"edge\">\n",
       "<title>40&#45;&gt;41</title>\n",
       "<path fill=\"none\" stroke=\"red\" d=\"M2693.53,-2111.89C2668.57,-2100.87 2618.21,-2078.65 2588.01,-2065.32\"/>\n",
       "<polygon fill=\"red\" stroke=\"red\" points=\"2589.17,-2062 2578.61,-2061.17 2586.34,-2068.41 2589.17,-2062\"/>\n",
       "<text text-anchor=\"middle\" x=\"2653.5\" y=\"-2082.8\" font-family=\"Times,serif\" font-size=\"14.00\">0</text>\n",
       "</g>\n",
       "<!-- 54 -->\n",
       "<g id=\"node55\" class=\"node\">\n",
       "<title>54</title>\n",
       "<text text-anchor=\"middle\" x=\"2720.5\" y=\"-2049.8\" font-family=\"Times,serif\" font-size=\"14.00\">?</text>\n",
       "</g>\n",
       "<!-- 40&#45;&gt;54 -->\n",
       "<g id=\"edge54\" class=\"edge\">\n",
       "<title>40&#45;&gt;54</title>\n",
       "<path fill=\"none\" stroke=\"blue\" d=\"M2709.78,-2111.65C2711.58,-2102.07 2714.9,-2084.38 2717.37,-2071.2\"/>\n",
       "<polygon fill=\"blue\" stroke=\"blue\" points=\"2720.86,-2071.58 2719.26,-2061.11 2713.98,-2070.29 2720.86,-2071.58\"/>\n",
       "<text text-anchor=\"middle\" x=\"2720.5\" y=\"-2082.8\" font-family=\"Times,serif\" font-size=\"14.00\">1</text>\n",
       "</g>\n",
       "<!-- 42 -->\n",
       "<g id=\"node43\" class=\"node\">\n",
       "<title>42</title>\n",
       "<text text-anchor=\"middle\" x=\"2436.5\" y=\"-1983.8\" font-family=\"Times,serif\" font-size=\"14.00\">(41) str.substr(cgi_decode_s_str_1, 2, 1) == &quot;B&quot;</text>\n",
       "</g>\n",
       "<!-- 41&#45;&gt;42 -->\n",
       "<g id=\"edge42\" class=\"edge\">\n",
       "<title>41&#45;&gt;42</title>\n",
       "<path fill=\"none\" stroke=\"red\" d=\"M2550.39,-2045.89C2528.81,-2035.02 2485.56,-2013.22 2459.01,-1999.84\"/>\n",
       "<polygon fill=\"red\" stroke=\"red\" points=\"2460.24,-1996.54 2449.73,-1995.17 2457.09,-2002.79 2460.24,-1996.54\"/>\n",
       "<text text-anchor=\"middle\" x=\"2515.5\" y=\"-2016.8\" font-family=\"Times,serif\" font-size=\"14.00\">0</text>\n",
       "</g>\n",
       "<!-- 53 -->\n",
       "<g id=\"node54\" class=\"node\">\n",
       "<title>53</title>\n",
       "<text text-anchor=\"middle\" x=\"2593.5\" y=\"-1983.8\" font-family=\"Times,serif\" font-size=\"14.00\">?</text>\n",
       "</g>\n",
       "<!-- 41&#45;&gt;53 -->\n",
       "<g id=\"edge53\" class=\"edge\">\n",
       "<title>41&#45;&gt;53</title>\n",
       "<path fill=\"none\" stroke=\"blue\" d=\"M2566.71,-2045.65C2571.29,-2035.88 2579.83,-2017.66 2586.04,-2004.41\"/>\n",
       "<polygon fill=\"blue\" stroke=\"blue\" points=\"2589.33,-2005.65 2590.4,-1995.11 2582.99,-2002.68 2589.33,-2005.65\"/>\n",
       "<text text-anchor=\"middle\" x=\"2585.5\" y=\"-2016.8\" font-family=\"Times,serif\" font-size=\"14.00\">1</text>\n",
       "</g>\n",
       "<!-- 43 -->\n",
       "<g id=\"node44\" class=\"node\">\n",
       "<title>43</title>\n",
       "<text text-anchor=\"middle\" x=\"2291.5\" y=\"-1917.8\" font-family=\"Times,serif\" font-size=\"14.00\">(42) str.substr(cgi_decode_s_str_1, 2, 1) == &quot;C&quot;</text>\n",
       "</g>\n",
       "<!-- 42&#45;&gt;43 -->\n",
       "<g id=\"edge43\" class=\"edge\">\n",
       "<title>42&#45;&gt;43</title>\n",
       "<path fill=\"none\" stroke=\"red\" d=\"M2421.53,-1979.89C2396.57,-1968.87 2346.21,-1946.65 2316.01,-1933.32\"/>\n",
       "<polygon fill=\"red\" stroke=\"red\" points=\"2317.17,-1930 2306.61,-1929.17 2314.34,-1936.41 2317.17,-1930\"/>\n",
       "<text text-anchor=\"middle\" x=\"2381.5\" y=\"-1950.8\" font-family=\"Times,serif\" font-size=\"14.00\">0</text>\n",
       "</g>\n",
       "<!-- 52 -->\n",
       "<g id=\"node53\" class=\"node\">\n",
       "<title>52</title>\n",
       "<text text-anchor=\"middle\" x=\"2448.5\" y=\"-1917.8\" font-family=\"Times,serif\" font-size=\"14.00\">?</text>\n",
       "</g>\n",
       "<!-- 42&#45;&gt;52 -->\n",
       "<g id=\"edge52\" class=\"edge\">\n",
       "<title>42&#45;&gt;52</title>\n",
       "<path fill=\"none\" stroke=\"blue\" d=\"M2437.78,-1979.65C2439.58,-1970.07 2442.9,-1952.38 2445.37,-1939.2\"/>\n",
       "<polygon fill=\"blue\" stroke=\"blue\" points=\"2448.86,-1939.58 2447.26,-1929.11 2441.98,-1938.29 2448.86,-1939.58\"/>\n",
       "<text text-anchor=\"middle\" x=\"2448.5\" y=\"-1950.8\" font-family=\"Times,serif\" font-size=\"14.00\">1</text>\n",
       "</g>\n",
       "<!-- 44 -->\n",
       "<g id=\"node45\" class=\"node\">\n",
       "<title>44</title>\n",
       "<text text-anchor=\"middle\" x=\"2193.5\" y=\"-1851.8\" font-family=\"Times,serif\" font-size=\"14.00\">(43) str.substr(cgi_decode_s_str_1, 2, 1) == &quot;D&quot;</text>\n",
       "</g>\n",
       "<!-- 43&#45;&gt;44 -->\n",
       "<g id=\"edge44\" class=\"edge\">\n",
       "<title>43&#45;&gt;44</title>\n",
       "<path fill=\"none\" stroke=\"red\" d=\"M2281.38,-1913.89C2265.1,-1903.26 2232.82,-1882.18 2212.24,-1868.74\"/>\n",
       "<polygon fill=\"red\" stroke=\"red\" points=\"2214,-1865.71 2203.71,-1863.17 2210.17,-1871.57 2214,-1865.71\"/>\n",
       "<text text-anchor=\"middle\" x=\"2255.5\" y=\"-1884.8\" font-family=\"Times,serif\" font-size=\"14.00\">0</text>\n",
       "</g>\n",
       "<!-- 51 -->\n",
       "<g id=\"node52\" class=\"node\">\n",
       "<title>51</title>\n",
       "<text text-anchor=\"middle\" x=\"2350.5\" y=\"-1851.8\" font-family=\"Times,serif\" font-size=\"14.00\">?</text>\n",
       "</g>\n",
       "<!-- 43&#45;&gt;51 -->\n",
       "<g id=\"edge51\" class=\"edge\">\n",
       "<title>43&#45;&gt;51</title>\n",
       "<path fill=\"none\" stroke=\"blue\" d=\"M2297.81,-1913.65C2307.86,-1902.75 2327.6,-1881.34 2339.86,-1868.04\"/>\n",
       "<polygon fill=\"blue\" stroke=\"blue\" points=\"2342.74,-1870.08 2346.94,-1860.36 2337.59,-1865.34 2342.74,-1870.08\"/>\n",
       "<text text-anchor=\"middle\" x=\"2330.5\" y=\"-1884.8\" font-family=\"Times,serif\" font-size=\"14.00\">1</text>\n",
       "</g>\n",
       "<!-- 45 -->\n",
       "<g id=\"node46\" class=\"node\">\n",
       "<title>45</title>\n",
       "<text text-anchor=\"middle\" x=\"2056.5\" y=\"-1785.8\" font-family=\"Times,serif\" font-size=\"14.00\">(44) str.substr(cgi_decode_s_str_1, 2, 1) == &quot;E&quot;</text>\n",
       "</g>\n",
       "<!-- 44&#45;&gt;45 -->\n",
       "<g id=\"edge45\" class=\"edge\">\n",
       "<title>44&#45;&gt;45</title>\n",
       "<path fill=\"none\" stroke=\"red\" d=\"M2179.35,-1847.89C2155.87,-1836.92 2108.6,-1814.84 2080.03,-1801.49\"/>\n",
       "<polygon fill=\"red\" stroke=\"red\" points=\"2081.32,-1798.23 2070.77,-1797.17 2078.35,-1804.57 2081.32,-1798.23\"/>\n",
       "<text text-anchor=\"middle\" x=\"2141.5\" y=\"-1818.8\" font-family=\"Times,serif\" font-size=\"14.00\">0</text>\n",
       "</g>\n",
       "<!-- 50 -->\n",
       "<g id=\"node51\" class=\"node\">\n",
       "<title>50</title>\n",
       "<text text-anchor=\"middle\" x=\"2212.5\" y=\"-1785.8\" font-family=\"Times,serif\" font-size=\"14.00\">?</text>\n",
       "</g>\n",
       "<!-- 44&#45;&gt;50 -->\n",
       "<g id=\"edge50\" class=\"edge\">\n",
       "<title>44&#45;&gt;50</title>\n",
       "<path fill=\"none\" stroke=\"blue\" d=\"M2195.53,-1847.65C2198.41,-1837.98 2203.74,-1820.02 2207.66,-1806.81\"/>\n",
       "<polygon fill=\"blue\" stroke=\"blue\" points=\"2211.05,-1807.69 2210.54,-1797.11 2204.34,-1805.7 2211.05,-1807.69\"/>\n",
       "<text text-anchor=\"middle\" x=\"2209.5\" y=\"-1818.8\" font-family=\"Times,serif\" font-size=\"14.00\">1</text>\n",
       "</g>\n",
       "<!-- 46 -->\n",
       "<g id=\"node47\" class=\"node\">\n",
       "<title>46</title>\n",
       "<text text-anchor=\"middle\" x=\"1978.5\" y=\"-1719.8\" font-family=\"Times,serif\" font-size=\"14.00\">(45) str.substr(cgi_decode_s_str_1, 2, 1) == &quot;F&quot;</text>\n",
       "</g>\n",
       "<!-- 45&#45;&gt;46 -->\n",
       "<g id=\"edge46\" class=\"edge\">\n",
       "<title>45&#45;&gt;46</title>\n",
       "<path fill=\"none\" stroke=\"red\" d=\"M2048.45,-1781.89C2035.84,-1771.54 2011.17,-1751.31 1994.77,-1737.85\"/>\n",
       "<polygon fill=\"red\" stroke=\"red\" points=\"1996.58,-1734.81 1986.63,-1731.17 1992.14,-1740.22 1996.58,-1734.81\"/>\n",
       "<text text-anchor=\"middle\" x=\"2028.5\" y=\"-1752.8\" font-family=\"Times,serif\" font-size=\"14.00\">0</text>\n",
       "</g>\n",
       "<!-- 49 -->\n",
       "<g id=\"node50\" class=\"node\">\n",
       "<title>49</title>\n",
       "<text text-anchor=\"middle\" x=\"2134.5\" y=\"-1719.8\" font-family=\"Times,serif\" font-size=\"14.00\">?</text>\n",
       "</g>\n",
       "<!-- 45&#45;&gt;49 -->\n",
       "<g id=\"edge49\" class=\"edge\">\n",
       "<title>45&#45;&gt;49</title>\n",
       "<path fill=\"none\" stroke=\"blue\" d=\"M2064.55,-1781.89C2078.48,-1770.47 2107.1,-1746.98 2123.08,-1733.87\"/>\n",
       "<polygon fill=\"blue\" stroke=\"blue\" points=\"2125.3,-1736.57 2130.81,-1727.52 2120.86,-1731.16 2125.3,-1736.57\"/>\n",
       "<text text-anchor=\"middle\" x=\"2106.5\" y=\"-1752.8\" font-family=\"Times,serif\" font-size=\"14.00\">1</text>\n",
       "</g>\n",
       "<!-- 47 -->\n",
       "<g id=\"node48\" class=\"node\">\n",
       "<title>47</title>\n",
       "<text text-anchor=\"middle\" x=\"1955.5\" y=\"-1653.8\" font-family=\"Times,serif\" font-size=\"14.00\">* %\\x00</text>\n",
       "</g>\n",
       "<!-- 46&#45;&gt;47 -->\n",
       "<g id=\"edge47\" class=\"edge\">\n",
       "<title>46&#45;&gt;47</title>\n",
       "<path fill=\"none\" stroke=\"red\" d=\"M1976.04,-1715.65C1972.56,-1705.98 1966.11,-1688.02 1961.36,-1674.81\"/>\n",
       "<polygon fill=\"red\" stroke=\"red\" points=\"1964.55,-1673.34 1957.87,-1665.11 1957.96,-1675.7 1964.55,-1673.34\"/>\n",
       "<text text-anchor=\"middle\" x=\"1973.5\" y=\"-1686.8\" font-family=\"Times,serif\" font-size=\"14.00\">0</text>\n",
       "</g>\n",
       "<!-- 48 -->\n",
       "<g id=\"node49\" class=\"node\">\n",
       "<title>48</title>\n",
       "<text text-anchor=\"middle\" x=\"2001.5\" y=\"-1653.8\" font-family=\"Times,serif\" font-size=\"14.00\">?</text>\n",
       "</g>\n",
       "<!-- 46&#45;&gt;48 -->\n",
       "<g id=\"edge48\" class=\"edge\">\n",
       "<title>46&#45;&gt;48</title>\n",
       "<path fill=\"none\" stroke=\"blue\" d=\"M1980.96,-1715.65C1984.44,-1705.98 1990.89,-1688.02 1995.64,-1674.81\"/>\n",
       "<polygon fill=\"blue\" stroke=\"blue\" points=\"1999.04,-1675.7 1999.13,-1665.11 1992.45,-1673.34 1999.04,-1675.7\"/>\n",
       "<text text-anchor=\"middle\" x=\"1996.5\" y=\"-1686.8\" font-family=\"Times,serif\" font-size=\"14.00\">1</text>\n",
       "</g>\n",
       "<!-- 91 -->\n",
       "<g id=\"node92\" class=\"node\">\n",
       "<title>91</title>\n",
       "<text text-anchor=\"middle\" x=\"6398.5\" y=\"-4359.8\" font-family=\"Times,serif\" font-size=\"14.00\">(5) str.substr(cgi_decode_s_str_1, 2, 1) == &quot;1&quot;</text>\n",
       "</g>\n",
       "<!-- 90&#45;&gt;91 -->\n",
       "<g id=\"edge91\" class=\"edge\">\n",
       "<title>90&#45;&gt;91</title>\n",
       "<path fill=\"none\" stroke=\"red\" d=\"M6500.73,-4421.89C6481.53,-4411.11 6443.22,-4389.61 6419.34,-4376.2\"/>\n",
       "<polygon fill=\"red\" stroke=\"red\" points=\"6420.81,-4373.01 6410.38,-4371.17 6417.38,-4379.12 6420.81,-4373.01\"/>\n",
       "<text text-anchor=\"middle\" x=\"6470.5\" y=\"-4392.8\" font-family=\"Times,serif\" font-size=\"14.00\">0</text>\n",
       "</g>\n",
       "<!-- 150 -->\n",
       "<g id=\"node151\" class=\"node\">\n",
       "<title>150</title>\n",
       "<text text-anchor=\"middle\" x=\"6550.5\" y=\"-4359.8\" font-family=\"Times,serif\" font-size=\"14.00\">?</text>\n",
       "</g>\n",
       "<!-- 90&#45;&gt;150 -->\n",
       "<g id=\"edge150\" class=\"edge\">\n",
       "<title>90&#45;&gt;150</title>\n",
       "<path fill=\"none\" stroke=\"blue\" d=\"M6516.57,-4421.65C6522.49,-4411.68 6533.63,-4392.91 6541.53,-4379.6\"/>\n",
       "<polygon fill=\"blue\" stroke=\"blue\" points=\"6544.7,-4381.12 6546.8,-4370.73 6538.69,-4377.54 6544.7,-4381.12\"/>\n",
       "<text text-anchor=\"middle\" x=\"6539.5\" y=\"-4392.8\" font-family=\"Times,serif\" font-size=\"14.00\">1</text>\n",
       "</g>\n",
       "<!-- 92 -->\n",
       "<g id=\"node93\" class=\"node\">\n",
       "<title>92</title>\n",
       "<text text-anchor=\"middle\" x=\"6326.5\" y=\"-4293.8\" font-family=\"Times,serif\" font-size=\"14.00\">(6) str.substr(cgi_decode_s_str_1, 2, 1) == &quot;2&quot;</text>\n",
       "</g>\n",
       "<!-- 91&#45;&gt;92 -->\n",
       "<g id=\"edge92\" class=\"edge\">\n",
       "<title>91&#45;&gt;92</title>\n",
       "<path fill=\"none\" stroke=\"red\" d=\"M6391.07,-4355.89C6379.42,-4345.54 6356.66,-4325.31 6341.51,-4311.85\"/>\n",
       "<polygon fill=\"red\" stroke=\"red\" points=\"6343.8,-4309.2 6334,-4305.17 6339.15,-4314.43 6343.8,-4309.2\"/>\n",
       "<text text-anchor=\"middle\" x=\"6373.5\" y=\"-4326.8\" font-family=\"Times,serif\" font-size=\"14.00\">0</text>\n",
       "</g>\n",
       "<!-- 149 -->\n",
       "<g id=\"node150\" class=\"node\">\n",
       "<title>149</title>\n",
       "<text text-anchor=\"middle\" x=\"6478.5\" y=\"-4293.8\" font-family=\"Times,serif\" font-size=\"14.00\">?</text>\n",
       "</g>\n",
       "<!-- 91&#45;&gt;149 -->\n",
       "<g id=\"edge149\" class=\"edge\">\n",
       "<title>91&#45;&gt;149</title>\n",
       "<path fill=\"none\" stroke=\"blue\" d=\"M6406.76,-4355.89C6421.04,-4344.47 6450.4,-4320.98 6466.78,-4307.87\"/>\n",
       "<polygon fill=\"blue\" stroke=\"blue\" points=\"6469.1,-4310.5 6474.72,-4301.52 6464.73,-4305.04 6469.1,-4310.5\"/>\n",
       "<text text-anchor=\"middle\" x=\"6450.5\" y=\"-4326.8\" font-family=\"Times,serif\" font-size=\"14.00\">1</text>\n",
       "</g>\n",
       "<!-- 93 -->\n",
       "<g id=\"node94\" class=\"node\">\n",
       "<title>93</title>\n",
       "<text text-anchor=\"middle\" x=\"6208.5\" y=\"-4227.8\" font-family=\"Times,serif\" font-size=\"14.00\">(7) str.substr(cgi_decode_s_str_1, 2, 1) == &quot;3&quot;</text>\n",
       "</g>\n",
       "<!-- 92&#45;&gt;93 -->\n",
       "<g id=\"edge93\" class=\"edge\">\n",
       "<title>92&#45;&gt;93</title>\n",
       "<path fill=\"none\" stroke=\"red\" d=\"M6314.32,-4289.89C6294.35,-4279.07 6254.44,-4257.42 6229.74,-4244.02\"/>\n",
       "<polygon fill=\"red\" stroke=\"red\" points=\"6231.25,-4240.86 6220.79,-4239.17 6227.92,-4247.01 6231.25,-4240.86\"/>\n",
       "<text text-anchor=\"middle\" x=\"6282.5\" y=\"-4260.8\" font-family=\"Times,serif\" font-size=\"14.00\">0</text>\n",
       "</g>\n",
       "<!-- 148 -->\n",
       "<g id=\"node149\" class=\"node\">\n",
       "<title>148</title>\n",
       "<text text-anchor=\"middle\" x=\"6360.5\" y=\"-4227.8\" font-family=\"Times,serif\" font-size=\"14.00\">?</text>\n",
       "</g>\n",
       "<!-- 92&#45;&gt;148 -->\n",
       "<g id=\"edge148\" class=\"edge\">\n",
       "<title>92&#45;&gt;148</title>\n",
       "<path fill=\"none\" stroke=\"blue\" d=\"M6330.14,-4289.65C6335.38,-4279.78 6345.2,-4261.3 6352.26,-4248.02\"/>\n",
       "<polygon fill=\"blue\" stroke=\"blue\" points=\"6355.39,-4249.58 6356.99,-4239.11 6349.21,-4246.3 6355.39,-4249.58\"/>\n",
       "<text text-anchor=\"middle\" x=\"6351.5\" y=\"-4260.8\" font-family=\"Times,serif\" font-size=\"14.00\">1</text>\n",
       "</g>\n",
       "<!-- 94 -->\n",
       "<g id=\"node95\" class=\"node\">\n",
       "<title>94</title>\n",
       "<text text-anchor=\"middle\" x=\"6073.5\" y=\"-4161.8\" font-family=\"Times,serif\" font-size=\"14.00\">(8) str.substr(cgi_decode_s_str_1, 2, 1) == &quot;4&quot;</text>\n",
       "</g>\n",
       "<!-- 93&#45;&gt;94 -->\n",
       "<g id=\"edge94\" class=\"edge\">\n",
       "<title>93&#45;&gt;94</title>\n",
       "<path fill=\"none\" stroke=\"red\" d=\"M6194.56,-4223.89C6171.42,-4212.92 6124.84,-4190.84 6096.69,-4177.49\"/>\n",
       "<polygon fill=\"red\" stroke=\"red\" points=\"6098.1,-4174.29 6087.57,-4173.17 6095.1,-4180.61 6098.1,-4174.29\"/>\n",
       "<text text-anchor=\"middle\" x=\"6157.5\" y=\"-4194.8\" font-family=\"Times,serif\" font-size=\"14.00\">0</text>\n",
       "</g>\n",
       "<!-- 147 -->\n",
       "<g id=\"node148\" class=\"node\">\n",
       "<title>147</title>\n",
       "<text text-anchor=\"middle\" x=\"6225.5\" y=\"-4161.8\" font-family=\"Times,serif\" font-size=\"14.00\">?</text>\n",
       "</g>\n",
       "<!-- 93&#45;&gt;147 -->\n",
       "<g id=\"edge147\" class=\"edge\">\n",
       "<title>93&#45;&gt;147</title>\n",
       "<path fill=\"none\" stroke=\"blue\" d=\"M6210.32,-4223.65C6212.89,-4213.98 6217.66,-4196.02 6221.17,-4182.81\"/>\n",
       "<polygon fill=\"blue\" stroke=\"blue\" points=\"6224.56,-4183.67 6223.74,-4173.11 6217.79,-4181.87 6224.56,-4183.67\"/>\n",
       "<text text-anchor=\"middle\" x=\"6223.5\" y=\"-4194.8\" font-family=\"Times,serif\" font-size=\"14.00\">1</text>\n",
       "</g>\n",
       "<!-- 95 -->\n",
       "<g id=\"node96\" class=\"node\">\n",
       "<title>95</title>\n",
       "<text text-anchor=\"middle\" x=\"5929.5\" y=\"-4095.8\" font-family=\"Times,serif\" font-size=\"14.00\">(9) str.substr(cgi_decode_s_str_1, 2, 1) == &quot;5&quot;</text>\n",
       "</g>\n",
       "<!-- 94&#45;&gt;95 -->\n",
       "<g id=\"edge95\" class=\"edge\">\n",
       "<title>94&#45;&gt;95</title>\n",
       "<path fill=\"none\" stroke=\"red\" d=\"M6058.63,-4157.89C6033.84,-4146.87 5983.83,-4124.65 5953.84,-4111.32\"/>\n",
       "<polygon fill=\"red\" stroke=\"red\" points=\"5955.06,-4108.03 5944.5,-4107.17 5952.22,-4114.43 5955.06,-4108.03\"/>\n",
       "<text text-anchor=\"middle\" x=\"6018.5\" y=\"-4128.8\" font-family=\"Times,serif\" font-size=\"14.00\">0</text>\n",
       "</g>\n",
       "<!-- 146 -->\n",
       "<g id=\"node147\" class=\"node\">\n",
       "<title>146</title>\n",
       "<text text-anchor=\"middle\" x=\"6081.5\" y=\"-4095.8\" font-family=\"Times,serif\" font-size=\"14.00\">?</text>\n",
       "</g>\n",
       "<!-- 94&#45;&gt;146 -->\n",
       "<g id=\"edge146\" class=\"edge\">\n",
       "<title>94&#45;&gt;146</title>\n",
       "<path fill=\"none\" stroke=\"blue\" d=\"M6074.36,-4157.65C6075.55,-4148.07 6077.77,-4130.38 6079.41,-4117.2\"/>\n",
       "<polygon fill=\"blue\" stroke=\"blue\" points=\"6082.91,-4117.47 6080.67,-4107.11 6075.96,-4116.6 6082.91,-4117.47\"/>\n",
       "<text text-anchor=\"middle\" x=\"6082.5\" y=\"-4128.8\" font-family=\"Times,serif\" font-size=\"14.00\">1</text>\n",
       "</g>\n",
       "<!-- 96 -->\n",
       "<g id=\"node97\" class=\"node\">\n",
       "<title>96</title>\n",
       "<text text-anchor=\"middle\" x=\"5787.5\" y=\"-4029.8\" font-family=\"Times,serif\" font-size=\"14.00\">(10) str.substr(cgi_decode_s_str_1, 2, 1) == &quot;6&quot;</text>\n",
       "</g>\n",
       "<!-- 95&#45;&gt;96 -->\n",
       "<g id=\"edge96\" class=\"edge\">\n",
       "<title>95&#45;&gt;96</title>\n",
       "<path fill=\"none\" stroke=\"red\" d=\"M5914.84,-4091.89C5890.39,-4080.87 5841.07,-4058.65 5811.5,-4045.32\"/>\n",
       "<polygon fill=\"red\" stroke=\"red\" points=\"5812.85,-4042.09 5802.29,-4041.17 5809.97,-4048.47 5812.85,-4042.09\"/>\n",
       "<text text-anchor=\"middle\" x=\"5875.5\" y=\"-4062.8\" font-family=\"Times,serif\" font-size=\"14.00\">0</text>\n",
       "</g>\n",
       "<!-- 145 -->\n",
       "<g id=\"node146\" class=\"node\">\n",
       "<title>145</title>\n",
       "<text text-anchor=\"middle\" x=\"5942.5\" y=\"-4029.8\" font-family=\"Times,serif\" font-size=\"14.00\">?</text>\n",
       "</g>\n",
       "<!-- 95&#45;&gt;145 -->\n",
       "<g id=\"edge145\" class=\"edge\">\n",
       "<title>95&#45;&gt;145</title>\n",
       "<path fill=\"none\" stroke=\"blue\" d=\"M5930.89,-4091.65C5932.84,-4082.07 5936.43,-4064.38 5939.11,-4051.2\"/>\n",
       "<polygon fill=\"blue\" stroke=\"blue\" points=\"5942.6,-4051.6 5941.16,-4041.11 5935.74,-4050.21 5942.6,-4051.6\"/>\n",
       "<text text-anchor=\"middle\" x=\"5941.5\" y=\"-4062.8\" font-family=\"Times,serif\" font-size=\"14.00\">1</text>\n",
       "</g>\n",
       "<!-- 97 -->\n",
       "<g id=\"node98\" class=\"node\">\n",
       "<title>97</title>\n",
       "<text text-anchor=\"middle\" x=\"5658.5\" y=\"-3963.8\" font-family=\"Times,serif\" font-size=\"14.00\">(11) str.substr(cgi_decode_s_str_1, 2, 1) == &quot;7&quot;</text>\n",
       "</g>\n",
       "<!-- 96&#45;&gt;97 -->\n",
       "<g id=\"edge97\" class=\"edge\">\n",
       "<title>96&#45;&gt;97</title>\n",
       "<path fill=\"none\" stroke=\"red\" d=\"M5774.18,-4025.89C5752.16,-4014.97 5707.95,-3993.03 5681.01,-3979.67\"/>\n",
       "<polygon fill=\"red\" stroke=\"red\" points=\"5682.45,-3976.48 5671.94,-3975.17 5679.34,-3982.75 5682.45,-3976.48\"/>\n",
       "<text text-anchor=\"middle\" x=\"5739.5\" y=\"-3996.8\" font-family=\"Times,serif\" font-size=\"14.00\">0</text>\n",
       "</g>\n",
       "<!-- 144 -->\n",
       "<g id=\"node145\" class=\"node\">\n",
       "<title>144</title>\n",
       "<text text-anchor=\"middle\" x=\"5813.5\" y=\"-3963.8\" font-family=\"Times,serif\" font-size=\"14.00\">?</text>\n",
       "</g>\n",
       "<!-- 96&#45;&gt;144 -->\n",
       "<g id=\"edge144\" class=\"edge\">\n",
       "<title>96&#45;&gt;144</title>\n",
       "<path fill=\"none\" stroke=\"blue\" d=\"M5790.28,-4025.65C5794.25,-4015.88 5801.65,-3997.66 5807.04,-3984.41\"/>\n",
       "<polygon fill=\"blue\" stroke=\"blue\" points=\"5810.29,-3985.69 5810.82,-3975.11 5803.81,-3983.06 5810.29,-3985.69\"/>\n",
       "<text text-anchor=\"middle\" x=\"5807.5\" y=\"-3996.8\" font-family=\"Times,serif\" font-size=\"14.00\">1</text>\n",
       "</g>\n",
       "<!-- 98 -->\n",
       "<g id=\"node99\" class=\"node\">\n",
       "<title>98</title>\n",
       "<text text-anchor=\"middle\" x=\"5520.5\" y=\"-3897.8\" font-family=\"Times,serif\" font-size=\"14.00\">(12) str.substr(cgi_decode_s_str_1, 2, 1) == &quot;8&quot;</text>\n",
       "</g>\n",
       "<!-- 97&#45;&gt;98 -->\n",
       "<g id=\"edge98\" class=\"edge\">\n",
       "<title>97&#45;&gt;98</title>\n",
       "<path fill=\"none\" stroke=\"red\" d=\"M5644.25,-3959.89C5620.6,-3948.92 5572.98,-3926.84 5544.2,-3913.49\"/>\n",
       "<polygon fill=\"red\" stroke=\"red\" points=\"5545.42,-3910.2 5534.88,-3909.17 5542.48,-3916.55 5545.42,-3910.2\"/>\n",
       "<text text-anchor=\"middle\" x=\"5606.5\" y=\"-3930.8\" font-family=\"Times,serif\" font-size=\"14.00\">0</text>\n",
       "</g>\n",
       "<!-- 143 -->\n",
       "<g id=\"node144\" class=\"node\">\n",
       "<title>143</title>\n",
       "<text text-anchor=\"middle\" x=\"5675.5\" y=\"-3897.8\" font-family=\"Times,serif\" font-size=\"14.00\">?</text>\n",
       "</g>\n",
       "<!-- 97&#45;&gt;143 -->\n",
       "<g id=\"edge143\" class=\"edge\">\n",
       "<title>97&#45;&gt;143</title>\n",
       "<path fill=\"none\" stroke=\"blue\" d=\"M5660.32,-3959.65C5662.89,-3949.98 5667.66,-3932.02 5671.17,-3918.81\"/>\n",
       "<polygon fill=\"blue\" stroke=\"blue\" points=\"5674.56,-3919.67 5673.74,-3909.11 5667.79,-3917.87 5674.56,-3919.67\"/>\n",
       "<text text-anchor=\"middle\" x=\"5673.5\" y=\"-3930.8\" font-family=\"Times,serif\" font-size=\"14.00\">1</text>\n",
       "</g>\n",
       "<!-- 99 -->\n",
       "<g id=\"node100\" class=\"node\">\n",
       "<title>99</title>\n",
       "<text text-anchor=\"middle\" x=\"5420.5\" y=\"-3831.8\" font-family=\"Times,serif\" font-size=\"14.00\">(13) str.substr(cgi_decode_s_str_1, 2, 1) == &quot;9&quot;</text>\n",
       "</g>\n",
       "<!-- 98&#45;&gt;99 -->\n",
       "<g id=\"edge99\" class=\"edge\">\n",
       "<title>98&#45;&gt;99</title>\n",
       "<path fill=\"none\" stroke=\"red\" d=\"M5510.17,-3893.89C5493.48,-3883.21 5460.33,-3861.99 5439.34,-3848.56\"/>\n",
       "<polygon fill=\"red\" stroke=\"red\" points=\"5441.23,-3845.61 5430.92,-3843.17 5437.45,-3851.51 5441.23,-3845.61\"/>\n",
       "<text text-anchor=\"middle\" x=\"5483.5\" y=\"-3864.8\" font-family=\"Times,serif\" font-size=\"14.00\">0</text>\n",
       "</g>\n",
       "<!-- 142 -->\n",
       "<g id=\"node143\" class=\"node\">\n",
       "<title>142</title>\n",
       "<text text-anchor=\"middle\" x=\"5575.5\" y=\"-3831.8\" font-family=\"Times,serif\" font-size=\"14.00\">?</text>\n",
       "</g>\n",
       "<!-- 98&#45;&gt;142 -->\n",
       "<g id=\"edge142\" class=\"edge\">\n",
       "<title>98&#45;&gt;142</title>\n",
       "<path fill=\"none\" stroke=\"blue\" d=\"M5526.39,-3893.65C5535.66,-3882.86 5553.8,-3861.75 5565.25,-3848.42\"/>\n",
       "<polygon fill=\"blue\" stroke=\"blue\" points=\"5568.05,-3850.53 5571.92,-3840.67 5562.75,-3845.97 5568.05,-3850.53\"/>\n",
       "<text text-anchor=\"middle\" x=\"5557.5\" y=\"-3864.8\" font-family=\"Times,serif\" font-size=\"14.00\">1</text>\n",
       "</g>\n",
       "<!-- 100 -->\n",
       "<g id=\"node101\" class=\"node\">\n",
       "<title>100</title>\n",
       "<text text-anchor=\"middle\" x=\"5274.5\" y=\"-3765.8\" font-family=\"Times,serif\" font-size=\"14.00\">(14) str.substr(cgi_decode_s_str_1, 2, 1) == &quot;a&quot;</text>\n",
       "</g>\n",
       "<!-- 99&#45;&gt;100 -->\n",
       "<g id=\"edge100\" class=\"edge\">\n",
       "<title>99&#45;&gt;100</title>\n",
       "<path fill=\"none\" stroke=\"red\" d=\"M5405.43,-3827.89C5380.29,-3816.87 5329.58,-3794.65 5299.18,-3781.32\"/>\n",
       "<polygon fill=\"red\" stroke=\"red\" points=\"5300.28,-3777.98 5289.71,-3777.17 5297.46,-3784.39 5300.28,-3777.98\"/>\n",
       "<text text-anchor=\"middle\" x=\"5365.5\" y=\"-3798.8\" font-family=\"Times,serif\" font-size=\"14.00\">0</text>\n",
       "</g>\n",
       "<!-- 141 -->\n",
       "<g id=\"node142\" class=\"node\">\n",
       "<title>141</title>\n",
       "<text text-anchor=\"middle\" x=\"5429.5\" y=\"-3765.8\" font-family=\"Times,serif\" font-size=\"14.00\">?</text>\n",
       "</g>\n",
       "<!-- 99&#45;&gt;141 -->\n",
       "<g id=\"edge141\" class=\"edge\">\n",
       "<title>99&#45;&gt;141</title>\n",
       "<path fill=\"none\" stroke=\"blue\" d=\"M5421.46,-3827.65C5422.81,-3818.07 5425.3,-3800.38 5427.15,-3787.2\"/>\n",
       "<polygon fill=\"blue\" stroke=\"blue\" points=\"5430.64,-3787.5 5428.57,-3777.11 5423.71,-3786.52 5430.64,-3787.5\"/>\n",
       "<text text-anchor=\"middle\" x=\"5430.5\" y=\"-3798.8\" font-family=\"Times,serif\" font-size=\"14.00\">1</text>\n",
       "</g>\n",
       "<!-- 101 -->\n",
       "<g id=\"node102\" class=\"node\">\n",
       "<title>101</title>\n",
       "<text text-anchor=\"middle\" x=\"5122.5\" y=\"-3699.8\" font-family=\"Times,serif\" font-size=\"14.00\">(15) str.substr(cgi_decode_s_str_1, 2, 1) == &quot;b&quot;</text>\n",
       "</g>\n",
       "<!-- 100&#45;&gt;101 -->\n",
       "<g id=\"edge101\" class=\"edge\">\n",
       "<title>100&#45;&gt;101</title>\n",
       "<path fill=\"none\" stroke=\"red\" d=\"M5258.81,-3761.89C5232.52,-3750.83 5179.39,-3728.45 5147.78,-3715.14\"/>\n",
       "<polygon fill=\"red\" stroke=\"red\" points=\"5148.91,-3711.82 5138.34,-3711.17 5146.19,-3718.27 5148.91,-3711.82\"/>\n",
       "<text text-anchor=\"middle\" x=\"5216.5\" y=\"-3732.8\" font-family=\"Times,serif\" font-size=\"14.00\">0</text>\n",
       "</g>\n",
       "<!-- 140 -->\n",
       "<g id=\"node141\" class=\"node\">\n",
       "<title>140</title>\n",
       "<text text-anchor=\"middle\" x=\"5277.5\" y=\"-3699.8\" font-family=\"Times,serif\" font-size=\"14.00\">?</text>\n",
       "</g>\n",
       "<!-- 100&#45;&gt;140 -->\n",
       "<g id=\"edge140\" class=\"edge\">\n",
       "<title>100&#45;&gt;140</title>\n",
       "<path fill=\"none\" stroke=\"blue\" d=\"M5274.82,-3761.65C5275.27,-3752.07 5276.1,-3734.38 5276.72,-3721.2\"/>\n",
       "<polygon fill=\"blue\" stroke=\"blue\" points=\"5280.22,-3721.26 5277.19,-3711.11 5273.23,-3720.93 5280.22,-3721.26\"/>\n",
       "<text text-anchor=\"middle\" x=\"5280.5\" y=\"-3732.8\" font-family=\"Times,serif\" font-size=\"14.00\">1</text>\n",
       "</g>\n",
       "<!-- 102 -->\n",
       "<g id=\"node103\" class=\"node\">\n",
       "<title>102</title>\n",
       "<text text-anchor=\"middle\" x=\"4989.5\" y=\"-3633.8\" font-family=\"Times,serif\" font-size=\"14.00\">(16) str.substr(cgi_decode_s_str_1, 2, 1) == &quot;c&quot;</text>\n",
       "</g>\n",
       "<!-- 101&#45;&gt;102 -->\n",
       "<g id=\"edge102\" class=\"edge\">\n",
       "<title>101&#45;&gt;102</title>\n",
       "<path fill=\"none\" stroke=\"red\" d=\"M5108.77,-3695.89C5086.07,-3684.97 5040.48,-3663.03 5012.71,-3649.67\"/>\n",
       "<polygon fill=\"red\" stroke=\"red\" points=\"5013.89,-3646.35 5003.36,-3645.17 5010.85,-3652.66 5013.89,-3646.35\"/>\n",
       "<text text-anchor=\"middle\" x=\"5072.5\" y=\"-3666.8\" font-family=\"Times,serif\" font-size=\"14.00\">0</text>\n",
       "</g>\n",
       "<!-- 123 -->\n",
       "<g id=\"node124\" class=\"node\">\n",
       "<title>123</title>\n",
       "<text text-anchor=\"middle\" x=\"5274.5\" y=\"-3633.8\" font-family=\"Times,serif\" font-size=\"14.00\">(16) str.substr(cgi_decode_s_str_1, 3, 1) == &quot;+&quot;</text>\n",
       "</g>\n",
       "<!-- 101&#45;&gt;123 -->\n",
       "<g id=\"edge123\" class=\"edge\">\n",
       "<title>101&#45;&gt;123</title>\n",
       "<path fill=\"none\" stroke=\"blue\" d=\"M5138.19,-3695.89C5164.48,-3684.83 5217.61,-3662.45 5249.22,-3649.14\"/>\n",
       "<polygon fill=\"blue\" stroke=\"blue\" points=\"5250.81,-3652.27 5258.66,-3645.17 5248.09,-3645.82 5250.81,-3652.27\"/>\n",
       "<text text-anchor=\"middle\" x=\"5216.5\" y=\"-3666.8\" font-family=\"Times,serif\" font-size=\"14.00\">1</text>\n",
       "</g>\n",
       "<!-- 103 -->\n",
       "<g id=\"node104\" class=\"node\">\n",
       "<title>103</title>\n",
       "<text text-anchor=\"middle\" x=\"4835.5\" y=\"-3567.8\" font-family=\"Times,serif\" font-size=\"14.00\">(17) str.substr(cgi_decode_s_str_1, 2, 1) == &quot;d&quot;</text>\n",
       "</g>\n",
       "<!-- 102&#45;&gt;103 -->\n",
       "<g id=\"edge103\" class=\"edge\">\n",
       "<title>102&#45;&gt;103</title>\n",
       "<path fill=\"none\" stroke=\"red\" d=\"M4973.6,-3629.89C4946.97,-3618.83 4893.13,-3596.45 4861.11,-3583.14\"/>\n",
       "<polygon fill=\"red\" stroke=\"red\" points=\"4862.12,-3579.77 4851.54,-3579.17 4859.44,-3586.24 4862.12,-3579.77\"/>\n",
       "<text text-anchor=\"middle\" x=\"4930.5\" y=\"-3600.8\" font-family=\"Times,serif\" font-size=\"14.00\">0</text>\n",
       "</g>\n",
       "<!-- 122 -->\n",
       "<g id=\"node123\" class=\"node\">\n",
       "<title>122</title>\n",
       "<text text-anchor=\"middle\" x=\"4990.5\" y=\"-3567.8\" font-family=\"Times,serif\" font-size=\"14.00\">?</text>\n",
       "</g>\n",
       "<!-- 102&#45;&gt;122 -->\n",
       "<g id=\"edge122\" class=\"edge\">\n",
       "<title>102&#45;&gt;122</title>\n",
       "<path fill=\"none\" stroke=\"blue\" d=\"M4989.61,-3629.65C4989.76,-3620.07 4990.03,-3602.38 4990.24,-3589.2\"/>\n",
       "<polygon fill=\"blue\" stroke=\"blue\" points=\"4993.74,-3589.16 4990.4,-3579.11 4986.74,-3589.05 4993.74,-3589.16\"/>\n",
       "<text text-anchor=\"middle\" x=\"4994.5\" y=\"-3600.8\" font-family=\"Times,serif\" font-size=\"14.00\">1</text>\n",
       "</g>\n",
       "<!-- 104 -->\n",
       "<g id=\"node105\" class=\"node\">\n",
       "<title>104</title>\n",
       "<text text-anchor=\"middle\" x=\"4717.5\" y=\"-3501.8\" font-family=\"Times,serif\" font-size=\"14.00\">(18) str.substr(cgi_decode_s_str_1, 2, 1) == &quot;e&quot;</text>\n",
       "</g>\n",
       "<!-- 103&#45;&gt;104 -->\n",
       "<g id=\"edge104\" class=\"edge\">\n",
       "<title>103&#45;&gt;104</title>\n",
       "<path fill=\"none\" stroke=\"red\" d=\"M4823.32,-3563.89C4803.35,-3553.07 4763.44,-3531.42 4738.74,-3518.02\"/>\n",
       "<polygon fill=\"red\" stroke=\"red\" points=\"4740.25,-3514.86 4729.79,-3513.17 4736.92,-3521.01 4740.25,-3514.86\"/>\n",
       "<text text-anchor=\"middle\" x=\"4791.5\" y=\"-3534.8\" font-family=\"Times,serif\" font-size=\"14.00\">0</text>\n",
       "</g>\n",
       "<!-- 121 -->\n",
       "<g id=\"node122\" class=\"node\">\n",
       "<title>121</title>\n",
       "<text text-anchor=\"middle\" x=\"4872.5\" y=\"-3501.8\" font-family=\"Times,serif\" font-size=\"14.00\">?</text>\n",
       "</g>\n",
       "<!-- 103&#45;&gt;121 -->\n",
       "<g id=\"edge121\" class=\"edge\">\n",
       "<title>103&#45;&gt;121</title>\n",
       "<path fill=\"none\" stroke=\"blue\" d=\"M4839.46,-3563.65C4845.22,-3553.68 4856.08,-3534.91 4863.77,-3521.6\"/>\n",
       "<polygon fill=\"blue\" stroke=\"blue\" points=\"4866.92,-3523.14 4868.9,-3512.73 4860.86,-3519.64 4866.92,-3523.14\"/>\n",
       "<text text-anchor=\"middle\" x=\"4861.5\" y=\"-3534.8\" font-family=\"Times,serif\" font-size=\"14.00\">1</text>\n",
       "</g>\n",
       "<!-- 105 -->\n",
       "<g id=\"node106\" class=\"node\">\n",
       "<title>105</title>\n",
       "<text text-anchor=\"middle\" x=\"4616.5\" y=\"-3435.8\" font-family=\"Times,serif\" font-size=\"14.00\">(19) str.substr(cgi_decode_s_str_1, 2, 1) == &quot;f&quot;</text>\n",
       "</g>\n",
       "<!-- 104&#45;&gt;105 -->\n",
       "<g id=\"edge105\" class=\"edge\">\n",
       "<title>104&#45;&gt;105</title>\n",
       "<path fill=\"none\" stroke=\"red\" d=\"M4707.07,-3497.89C4690.21,-3487.21 4656.72,-3465.99 4635.53,-3452.56\"/>\n",
       "<polygon fill=\"red\" stroke=\"red\" points=\"4637.34,-3449.56 4627.02,-3447.17 4633.6,-3455.48 4637.34,-3449.56\"/>\n",
       "<text text-anchor=\"middle\" x=\"4680.5\" y=\"-3468.8\" font-family=\"Times,serif\" font-size=\"14.00\">0</text>\n",
       "</g>\n",
       "<!-- 120 -->\n",
       "<g id=\"node121\" class=\"node\">\n",
       "<title>120</title>\n",
       "<text text-anchor=\"middle\" x=\"4770.5\" y=\"-3435.8\" font-family=\"Times,serif\" font-size=\"14.00\">?</text>\n",
       "</g>\n",
       "<!-- 104&#45;&gt;120 -->\n",
       "<g id=\"edge120\" class=\"edge\">\n",
       "<title>104&#45;&gt;120</title>\n",
       "<path fill=\"none\" stroke=\"blue\" d=\"M4723.17,-3497.65C4732.02,-3486.96 4749.25,-3466.16 4760.3,-3452.81\"/>\n",
       "<polygon fill=\"blue\" stroke=\"blue\" points=\"4763.1,-3454.92 4766.78,-3444.99 4757.71,-3450.46 4763.1,-3454.92\"/>\n",
       "<text text-anchor=\"middle\" x=\"4753.5\" y=\"-3468.8\" font-family=\"Times,serif\" font-size=\"14.00\">1</text>\n",
       "</g>\n",
       "<!-- 106 -->\n",
       "<g id=\"node107\" class=\"node\">\n",
       "<title>106</title>\n",
       "<text text-anchor=\"middle\" x=\"4487.5\" y=\"-3369.8\" font-family=\"Times,serif\" font-size=\"14.00\">(20) str.substr(cgi_decode_s_str_1, 2, 1) == &quot;A&quot;</text>\n",
       "</g>\n",
       "<!-- 105&#45;&gt;106 -->\n",
       "<g id=\"edge106\" class=\"edge\">\n",
       "<title>105&#45;&gt;106</title>\n",
       "<path fill=\"none\" stroke=\"red\" d=\"M4603.18,-3431.89C4581.16,-3420.97 4536.95,-3399.03 4510.01,-3385.67\"/>\n",
       "<polygon fill=\"red\" stroke=\"red\" points=\"4511.45,-3382.48 4500.94,-3381.17 4508.34,-3388.75 4511.45,-3382.48\"/>\n",
       "<text text-anchor=\"middle\" x=\"4568.5\" y=\"-3402.8\" font-family=\"Times,serif\" font-size=\"14.00\">0</text>\n",
       "</g>\n",
       "<!-- 119 -->\n",
       "<g id=\"node120\" class=\"node\">\n",
       "<title>119</title>\n",
       "<text text-anchor=\"middle\" x=\"4644.5\" y=\"-3369.8\" font-family=\"Times,serif\" font-size=\"14.00\">?</text>\n",
       "</g>\n",
       "<!-- 105&#45;&gt;119 -->\n",
       "<g id=\"edge119\" class=\"edge\">\n",
       "<title>105&#45;&gt;119</title>\n",
       "<path fill=\"none\" stroke=\"blue\" d=\"M4619.5,-3431.65C4623.77,-3421.88 4631.74,-3403.66 4637.54,-3390.41\"/>\n",
       "<polygon fill=\"blue\" stroke=\"blue\" points=\"4640.81,-3391.67 4641.61,-3381.11 4634.39,-3388.87 4640.81,-3391.67\"/>\n",
       "<text text-anchor=\"middle\" x=\"4637.5\" y=\"-3402.8\" font-family=\"Times,serif\" font-size=\"14.00\">1</text>\n",
       "</g>\n",
       "<!-- 107 -->\n",
       "<g id=\"node108\" class=\"node\">\n",
       "<title>107</title>\n",
       "<text text-anchor=\"middle\" x=\"4369.5\" y=\"-3303.8\" font-family=\"Times,serif\" font-size=\"14.00\">(21) str.substr(cgi_decode_s_str_1, 2, 1) == &quot;B&quot;</text>\n",
       "</g>\n",
       "<!-- 106&#45;&gt;107 -->\n",
       "<g id=\"edge107\" class=\"edge\">\n",
       "<title>106&#45;&gt;107</title>\n",
       "<path fill=\"none\" stroke=\"red\" d=\"M4475.32,-3365.89C4455.35,-3355.07 4415.44,-3333.42 4390.74,-3320.02\"/>\n",
       "<polygon fill=\"red\" stroke=\"red\" points=\"4392.25,-3316.86 4381.79,-3315.17 4388.92,-3323.01 4392.25,-3316.86\"/>\n",
       "<text text-anchor=\"middle\" x=\"4443.5\" y=\"-3336.8\" font-family=\"Times,serif\" font-size=\"14.00\">0</text>\n",
       "</g>\n",
       "<!-- 118 -->\n",
       "<g id=\"node119\" class=\"node\">\n",
       "<title>118</title>\n",
       "<text text-anchor=\"middle\" x=\"4526.5\" y=\"-3303.8\" font-family=\"Times,serif\" font-size=\"14.00\">?</text>\n",
       "</g>\n",
       "<!-- 106&#45;&gt;118 -->\n",
       "<g id=\"edge118\" class=\"edge\">\n",
       "<title>106&#45;&gt;118</title>\n",
       "<path fill=\"none\" stroke=\"blue\" d=\"M4491.67,-3365.65C4497.81,-3355.58 4509.42,-3336.52 4517.55,-3323.2\"/>\n",
       "<polygon fill=\"blue\" stroke=\"blue\" points=\"4520.71,-3324.72 4522.93,-3314.36 4514.73,-3321.08 4520.71,-3324.72\"/>\n",
       "<text text-anchor=\"middle\" x=\"4514.5\" y=\"-3336.8\" font-family=\"Times,serif\" font-size=\"14.00\">1</text>\n",
       "</g>\n",
       "<!-- 108 -->\n",
       "<g id=\"node109\" class=\"node\">\n",
       "<title>108</title>\n",
       "<text text-anchor=\"middle\" x=\"4255.5\" y=\"-3237.8\" font-family=\"Times,serif\" font-size=\"14.00\">(22) str.substr(cgi_decode_s_str_1, 2, 1) == &quot;C&quot;</text>\n",
       "</g>\n",
       "<!-- 107&#45;&gt;108 -->\n",
       "<g id=\"edge108\" class=\"edge\">\n",
       "<title>107&#45;&gt;108</title>\n",
       "<path fill=\"none\" stroke=\"red\" d=\"M4357.73,-3299.89C4338.53,-3289.11 4300.22,-3267.61 4276.34,-3254.2\"/>\n",
       "<polygon fill=\"red\" stroke=\"red\" points=\"4277.81,-3251.01 4267.38,-3249.17 4274.38,-3257.12 4277.81,-3251.01\"/>\n",
       "<text text-anchor=\"middle\" x=\"4327.5\" y=\"-3270.8\" font-family=\"Times,serif\" font-size=\"14.00\">0</text>\n",
       "</g>\n",
       "<!-- 117 -->\n",
       "<g id=\"node118\" class=\"node\">\n",
       "<title>117</title>\n",
       "<text text-anchor=\"middle\" x=\"4412.5\" y=\"-3237.8\" font-family=\"Times,serif\" font-size=\"14.00\">?</text>\n",
       "</g>\n",
       "<!-- 107&#45;&gt;117 -->\n",
       "<g id=\"edge117\" class=\"edge\">\n",
       "<title>107&#45;&gt;117</title>\n",
       "<path fill=\"none\" stroke=\"blue\" d=\"M4374.1,-3299.65C4381.01,-3289.38 4394.19,-3269.75 4403.16,-3256.4\"/>\n",
       "<polygon fill=\"blue\" stroke=\"blue\" points=\"4406.13,-3258.26 4408.8,-3248.01 4400.32,-3254.35 4406.13,-3258.26\"/>\n",
       "<text text-anchor=\"middle\" x=\"4399.5\" y=\"-3270.8\" font-family=\"Times,serif\" font-size=\"14.00\">1</text>\n",
       "</g>\n",
       "<!-- 109 -->\n",
       "<g id=\"node110\" class=\"node\">\n",
       "<title>109</title>\n",
       "<text text-anchor=\"middle\" x=\"4106.5\" y=\"-3171.8\" font-family=\"Times,serif\" font-size=\"14.00\">(23) str.substr(cgi_decode_s_str_1, 2, 1) == &quot;D&quot;</text>\n",
       "</g>\n",
       "<!-- 108&#45;&gt;109 -->\n",
       "<g id=\"edge109\" class=\"edge\">\n",
       "<title>108&#45;&gt;109</title>\n",
       "<path fill=\"none\" stroke=\"red\" d=\"M4240.12,-3233.89C4214.35,-3222.83 4162.26,-3200.45 4131.28,-3187.14\"/>\n",
       "<polygon fill=\"red\" stroke=\"red\" points=\"4132.59,-3183.9 4122.02,-3183.17 4129.83,-3190.33 4132.59,-3183.9\"/>\n",
       "<text text-anchor=\"middle\" x=\"4198.5\" y=\"-3204.8\" font-family=\"Times,serif\" font-size=\"14.00\">0</text>\n",
       "</g>\n",
       "<!-- 116 -->\n",
       "<g id=\"node117\" class=\"node\">\n",
       "<title>116</title>\n",
       "<text text-anchor=\"middle\" x=\"4263.5\" y=\"-3171.8\" font-family=\"Times,serif\" font-size=\"14.00\">?</text>\n",
       "</g>\n",
       "<!-- 108&#45;&gt;116 -->\n",
       "<g id=\"edge116\" class=\"edge\">\n",
       "<title>108&#45;&gt;116</title>\n",
       "<path fill=\"none\" stroke=\"blue\" d=\"M4256.36,-3233.65C4257.55,-3224.07 4259.77,-3206.38 4261.41,-3193.2\"/>\n",
       "<polygon fill=\"blue\" stroke=\"blue\" points=\"4264.91,-3193.47 4262.67,-3183.11 4257.96,-3192.6 4264.91,-3193.47\"/>\n",
       "<text text-anchor=\"middle\" x=\"4264.5\" y=\"-3204.8\" font-family=\"Times,serif\" font-size=\"14.00\">1</text>\n",
       "</g>\n",
       "<!-- 110 -->\n",
       "<g id=\"node111\" class=\"node\">\n",
       "<title>110</title>\n",
       "<text text-anchor=\"middle\" x=\"4100.5\" y=\"-3105.8\" font-family=\"Times,serif\" font-size=\"14.00\">(24) str.substr(cgi_decode_s_str_1, 2, 1) == &quot;E&quot;</text>\n",
       "</g>\n",
       "<!-- 109&#45;&gt;110 -->\n",
       "<g id=\"edge110\" class=\"edge\">\n",
       "<title>109&#45;&gt;110</title>\n",
       "<path fill=\"none\" stroke=\"red\" d=\"M4105.86,-3167.65C4104.96,-3158.07 4103.3,-3140.38 4102.07,-3127.2\"/>\n",
       "<polygon fill=\"red\" stroke=\"red\" points=\"4105.54,-3126.74 4101.12,-3117.11 4098.57,-3127.39 4105.54,-3126.74\"/>\n",
       "<text text-anchor=\"middle\" x=\"4108.5\" y=\"-3138.8\" font-family=\"Times,serif\" font-size=\"14.00\">0</text>\n",
       "</g>\n",
       "<!-- 115 -->\n",
       "<g id=\"node116\" class=\"node\">\n",
       "<title>115</title>\n",
       "<text text-anchor=\"middle\" x=\"4256.5\" y=\"-3105.8\" font-family=\"Times,serif\" font-size=\"14.00\">?</text>\n",
       "</g>\n",
       "<!-- 109&#45;&gt;115 -->\n",
       "<g id=\"edge115\" class=\"edge\">\n",
       "<title>109&#45;&gt;115</title>\n",
       "<path fill=\"none\" stroke=\"blue\" d=\"M4123.1,-3167.95C4149.03,-3157.62 4200.6,-3136.7 4243.5,-3117 4243.6,-3116.96 4243.7,-3116.91 4243.79,-3116.86\"/>\n",
       "<polygon fill=\"blue\" stroke=\"blue\" points=\"4245.24,-3120.06 4252.66,-3112.5 4242.15,-3113.77 4245.24,-3120.06\"/>\n",
       "<text text-anchor=\"middle\" x=\"4206.5\" y=\"-3138.8\" font-family=\"Times,serif\" font-size=\"14.00\">1</text>\n",
       "</g>\n",
       "<!-- 111 -->\n",
       "<g id=\"node112\" class=\"node\">\n",
       "<title>111</title>\n",
       "<text text-anchor=\"middle\" x=\"4099.5\" y=\"-3039.8\" font-family=\"Times,serif\" font-size=\"14.00\">(25) str.substr(cgi_decode_s_str_1, 2, 1) == &quot;F&quot;</text>\n",
       "</g>\n",
       "<!-- 110&#45;&gt;111 -->\n",
       "<g id=\"edge111\" class=\"edge\">\n",
       "<title>110&#45;&gt;111</title>\n",
       "<path fill=\"none\" stroke=\"red\" d=\"M4100.39,-3101.65C4100.24,-3092.07 4099.97,-3074.38 4099.76,-3061.2\"/>\n",
       "<polygon fill=\"red\" stroke=\"red\" points=\"4103.26,-3061.05 4099.6,-3051.11 4096.26,-3061.16 4103.26,-3061.05\"/>\n",
       "<text text-anchor=\"middle\" x=\"4104.5\" y=\"-3072.8\" font-family=\"Times,serif\" font-size=\"14.00\">0</text>\n",
       "</g>\n",
       "<!-- 114 -->\n",
       "<g id=\"node115\" class=\"node\">\n",
       "<title>114</title>\n",
       "<text text-anchor=\"middle\" x=\"4255.5\" y=\"-3039.8\" font-family=\"Times,serif\" font-size=\"14.00\">?</text>\n",
       "</g>\n",
       "<!-- 110&#45;&gt;114 -->\n",
       "<g id=\"edge114\" class=\"edge\">\n",
       "<title>110&#45;&gt;114</title>\n",
       "<path fill=\"none\" stroke=\"blue\" d=\"M4118.18,-3101.86C4145.22,-3091.58 4198.38,-3070.92 4242.5,-3051 4242.6,-3050.96 4242.7,-3050.91 4242.79,-3050.87\"/>\n",
       "<polygon fill=\"blue\" stroke=\"blue\" points=\"4244.23,-3054.06 4251.67,-3046.51 4241.15,-3047.77 4244.23,-3054.06\"/>\n",
       "<text text-anchor=\"middle\" x=\"4204.5\" y=\"-3072.8\" font-family=\"Times,serif\" font-size=\"14.00\">1</text>\n",
       "</g>\n",
       "<!-- 112 -->\n",
       "<g id=\"node113\" class=\"node\">\n",
       "<title>112</title>\n",
       "<text text-anchor=\"middle\" x=\"4074.5\" y=\"-2973.8\" font-family=\"Times,serif\" font-size=\"14.00\">* %1\\x00</text>\n",
       "</g>\n",
       "<!-- 111&#45;&gt;112 -->\n",
       "<g id=\"edge112\" class=\"edge\">\n",
       "<title>111&#45;&gt;112</title>\n",
       "<path fill=\"none\" stroke=\"red\" d=\"M4096.82,-3035.65C4093.05,-3025.98 4086.03,-3008.02 4080.87,-2994.81\"/>\n",
       "<polygon fill=\"red\" stroke=\"red\" points=\"4083.98,-2993.15 4077.08,-2985.11 4077.46,-2995.7 4083.98,-2993.15\"/>\n",
       "<text text-anchor=\"middle\" x=\"4093.5\" y=\"-3006.8\" font-family=\"Times,serif\" font-size=\"14.00\">0</text>\n",
       "</g>\n",
       "<!-- 113 -->\n",
       "<g id=\"node114\" class=\"node\">\n",
       "<title>113</title>\n",
       "<text text-anchor=\"middle\" x=\"4123.5\" y=\"-2973.8\" font-family=\"Times,serif\" font-size=\"14.00\">?</text>\n",
       "</g>\n",
       "<!-- 111&#45;&gt;113 -->\n",
       "<g id=\"edge113\" class=\"edge\">\n",
       "<title>111&#45;&gt;113</title>\n",
       "<path fill=\"none\" stroke=\"blue\" d=\"M4102.07,-3035.65C4105.7,-3025.98 4112.43,-3008.02 4117.39,-2994.81\"/>\n",
       "<polygon fill=\"blue\" stroke=\"blue\" points=\"4120.79,-2995.7 4121.02,-2985.11 4114.23,-2993.24 4120.79,-2995.7\"/>\n",
       "<text text-anchor=\"middle\" x=\"4118.5\" y=\"-3006.8\" font-family=\"Times,serif\" font-size=\"14.00\">1</text>\n",
       "</g>\n",
       "<!-- 124 -->\n",
       "<g id=\"node125\" class=\"node\">\n",
       "<title>124</title>\n",
       "<text text-anchor=\"middle\" x=\"5148.5\" y=\"-3567.8\" font-family=\"Times,serif\" font-size=\"14.00\">(17) str.substr(cgi_decode_s_str_1, 3, 1) == &quot;%&quot;</text>\n",
       "</g>\n",
       "<!-- 123&#45;&gt;124 -->\n",
       "<g id=\"edge124\" class=\"edge\">\n",
       "<title>123&#45;&gt;124</title>\n",
       "<path fill=\"none\" stroke=\"red\" d=\"M5261.49,-3629.89C5240.08,-3619.02 5197.17,-3597.22 5170.83,-3583.84\"/>\n",
       "<polygon fill=\"red\" stroke=\"red\" points=\"5172.13,-3580.58 5161.63,-3579.17 5168.96,-3586.82 5172.13,-3580.58\"/>\n",
       "<text text-anchor=\"middle\" x=\"5227.5\" y=\"-3600.8\" font-family=\"Times,serif\" font-size=\"14.00\">0</text>\n",
       "</g>\n",
       "<!-- 139 -->\n",
       "<g id=\"node140\" class=\"node\">\n",
       "<title>139</title>\n",
       "<text text-anchor=\"middle\" x=\"5306.5\" y=\"-3567.8\" font-family=\"Times,serif\" font-size=\"14.00\">?</text>\n",
       "</g>\n",
       "<!-- 123&#45;&gt;139 -->\n",
       "<g id=\"edge139\" class=\"edge\">\n",
       "<title>123&#45;&gt;139</title>\n",
       "<path fill=\"none\" stroke=\"blue\" d=\"M5277.92,-3629.65C5282.81,-3619.88 5291.92,-3601.66 5298.54,-3588.41\"/>\n",
       "<polygon fill=\"blue\" stroke=\"blue\" points=\"5301.85,-3589.62 5303.2,-3579.11 5295.59,-3586.49 5301.85,-3589.62\"/>\n",
       "<text text-anchor=\"middle\" x=\"5297.5\" y=\"-3600.8\" font-family=\"Times,serif\" font-size=\"14.00\">1</text>\n",
       "</g>\n",
       "<!-- 125 -->\n",
       "<g id=\"node126\" class=\"node\">\n",
       "<title>125</title>\n",
       "<text text-anchor=\"middle\" x=\"5071.5\" y=\"-3501.8\" font-family=\"Times,serif\" font-size=\"14.00\">(18) str.substr(cgi_decode_s_str_1, 4, 1) == &quot;+&quot;</text>\n",
       "</g>\n",
       "<!-- 124&#45;&gt;125 -->\n",
       "<g id=\"edge125\" class=\"edge\">\n",
       "<title>124&#45;&gt;125</title>\n",
       "<path fill=\"none\" stroke=\"red\" d=\"M5140.55,-3563.89C5128.1,-3553.54 5103.76,-3533.31 5087.56,-3519.85\"/>\n",
       "<polygon fill=\"red\" stroke=\"red\" points=\"5089.45,-3516.87 5079.52,-3513.17 5084.98,-3522.25 5089.45,-3516.87\"/>\n",
       "<text text-anchor=\"middle\" x=\"5121.5\" y=\"-3534.8\" font-family=\"Times,serif\" font-size=\"14.00\">0</text>\n",
       "</g>\n",
       "<!-- 138 -->\n",
       "<g id=\"node139\" class=\"node\">\n",
       "<title>138</title>\n",
       "<text text-anchor=\"middle\" x=\"5227.5\" y=\"-3501.8\" font-family=\"Times,serif\" font-size=\"14.00\">?</text>\n",
       "</g>\n",
       "<!-- 124&#45;&gt;138 -->\n",
       "<g id=\"edge138\" class=\"edge\">\n",
       "<title>124&#45;&gt;138</title>\n",
       "<path fill=\"none\" stroke=\"blue\" d=\"M5156.66,-3563.89C5170.76,-3552.47 5199.75,-3528.98 5215.93,-3515.87\"/>\n",
       "<polygon fill=\"blue\" stroke=\"blue\" points=\"5218.2,-3518.54 5223.77,-3509.52 5213.79,-3513.1 5218.2,-3518.54\"/>\n",
       "<text text-anchor=\"middle\" x=\"5199.5\" y=\"-3534.8\" font-family=\"Times,serif\" font-size=\"14.00\">1</text>\n",
       "</g>\n",
       "<!-- 126 -->\n",
       "<g id=\"node127\" class=\"node\">\n",
       "<title>126</title>\n",
       "<text text-anchor=\"middle\" x=\"4929.5\" y=\"-3435.8\" font-family=\"Times,serif\" font-size=\"14.00\">(19) str.substr(cgi_decode_s_str_1, 4, 1) == &quot;%&quot;</text>\n",
       "</g>\n",
       "<!-- 125&#45;&gt;126 -->\n",
       "<g id=\"edge126\" class=\"edge\">\n",
       "<title>125&#45;&gt;126</title>\n",
       "<path fill=\"none\" stroke=\"red\" d=\"M5056.84,-3497.89C5032.39,-3486.87 4983.07,-3464.65 4953.5,-3451.32\"/>\n",
       "<polygon fill=\"red\" stroke=\"red\" points=\"4954.85,-3448.09 4944.29,-3447.17 4951.97,-3454.47 4954.85,-3448.09\"/>\n",
       "<text text-anchor=\"middle\" x=\"5017.5\" y=\"-3468.8\" font-family=\"Times,serif\" font-size=\"14.00\">0</text>\n",
       "</g>\n",
       "<!-- 137 -->\n",
       "<g id=\"node138\" class=\"node\">\n",
       "<title>137</title>\n",
       "<text text-anchor=\"middle\" x=\"5087.5\" y=\"-3435.8\" font-family=\"Times,serif\" font-size=\"14.00\">?</text>\n",
       "</g>\n",
       "<!-- 125&#45;&gt;137 -->\n",
       "<g id=\"edge137\" class=\"edge\">\n",
       "<title>125&#45;&gt;137</title>\n",
       "<path fill=\"none\" stroke=\"blue\" d=\"M5073.21,-3497.65C5075.61,-3488.07 5080.03,-3470.38 5083.32,-3457.2\"/>\n",
       "<polygon fill=\"blue\" stroke=\"blue\" points=\"5086.82,-3457.66 5085.85,-3447.11 5080.03,-3455.96 5086.82,-3457.66\"/>\n",
       "<text text-anchor=\"middle\" x=\"5085.5\" y=\"-3468.8\" font-family=\"Times,serif\" font-size=\"14.00\">1</text>\n",
       "</g>\n",
       "<!-- 127 -->\n",
       "<g id=\"node128\" class=\"node\">\n",
       "<title>127</title>\n",
       "<text text-anchor=\"middle\" x=\"4834.5\" y=\"-3369.8\" font-family=\"Times,serif\" font-size=\"14.00\">(20) str.substr(cgi_decode_s_str_1, 5, 1) == &quot;+&quot;</text>\n",
       "</g>\n",
       "<!-- 126&#45;&gt;127 -->\n",
       "<g id=\"edge127\" class=\"edge\">\n",
       "<title>126&#45;&gt;127</title>\n",
       "<path fill=\"none\" stroke=\"red\" d=\"M4919.69,-3431.89C4903.98,-3421.3 4872.9,-3400.37 4852.94,-3386.92\"/>\n",
       "<polygon fill=\"red\" stroke=\"red\" points=\"4854.65,-3383.85 4844.4,-3381.17 4850.74,-3389.66 4854.65,-3383.85\"/>\n",
       "<text text-anchor=\"middle\" x=\"4895.5\" y=\"-3402.8\" font-family=\"Times,serif\" font-size=\"14.00\">0</text>\n",
       "</g>\n",
       "<!-- 136 -->\n",
       "<g id=\"node137\" class=\"node\">\n",
       "<title>136</title>\n",
       "<text text-anchor=\"middle\" x=\"4990.5\" y=\"-3369.8\" font-family=\"Times,serif\" font-size=\"14.00\">?</text>\n",
       "</g>\n",
       "<!-- 126&#45;&gt;136 -->\n",
       "<g id=\"edge136\" class=\"edge\">\n",
       "<title>126&#45;&gt;136</title>\n",
       "<path fill=\"none\" stroke=\"blue\" d=\"M4936.03,-3431.65C4946.52,-3420.65 4967.22,-3398.92 4979.87,-3385.66\"/>\n",
       "<polygon fill=\"blue\" stroke=\"blue\" points=\"4982.46,-3388.01 4986.82,-3378.36 4977.39,-3383.18 4982.46,-3388.01\"/>\n",
       "<text text-anchor=\"middle\" x=\"4969.5\" y=\"-3402.8\" font-family=\"Times,serif\" font-size=\"14.00\">1</text>\n",
       "</g>\n",
       "<!-- 128 -->\n",
       "<g id=\"node129\" class=\"node\">\n",
       "<title>128</title>\n",
       "<text text-anchor=\"middle\" x=\"4690.5\" y=\"-3303.8\" font-family=\"Times,serif\" font-size=\"14.00\">(21) str.substr(cgi_decode_s_str_1, 5, 1) == &quot;%&quot;</text>\n",
       "</g>\n",
       "<!-- 127&#45;&gt;128 -->\n",
       "<g id=\"edge128\" class=\"edge\">\n",
       "<title>127&#45;&gt;128</title>\n",
       "<path fill=\"none\" stroke=\"red\" d=\"M4819.63,-3365.89C4794.84,-3354.87 4744.83,-3332.65 4714.84,-3319.32\"/>\n",
       "<polygon fill=\"red\" stroke=\"red\" points=\"4716.06,-3316.03 4705.5,-3315.17 4713.22,-3322.43 4716.06,-3316.03\"/>\n",
       "<text text-anchor=\"middle\" x=\"4779.5\" y=\"-3336.8\" font-family=\"Times,serif\" font-size=\"14.00\">0</text>\n",
       "</g>\n",
       "<!-- 135 -->\n",
       "<g id=\"node136\" class=\"node\">\n",
       "<title>135</title>\n",
       "<text text-anchor=\"middle\" x=\"4848.5\" y=\"-3303.8\" font-family=\"Times,serif\" font-size=\"14.00\">?</text>\n",
       "</g>\n",
       "<!-- 127&#45;&gt;135 -->\n",
       "<g id=\"edge135\" class=\"edge\">\n",
       "<title>127&#45;&gt;135</title>\n",
       "<path fill=\"none\" stroke=\"blue\" d=\"M4836,-3365.65C4838.09,-3356.07 4841.96,-3338.38 4844.85,-3325.2\"/>\n",
       "<polygon fill=\"blue\" stroke=\"blue\" points=\"4848.34,-3325.63 4847.05,-3315.11 4841.5,-3324.13 4848.34,-3325.63\"/>\n",
       "<text text-anchor=\"middle\" x=\"4847.5\" y=\"-3336.8\" font-family=\"Times,serif\" font-size=\"14.00\">1</text>\n",
       "</g>\n",
       "<!-- 129 -->\n",
       "<g id=\"node130\" class=\"node\">\n",
       "<title>129</title>\n",
       "<text text-anchor=\"middle\" x=\"4574.5\" y=\"-3237.8\" font-family=\"Times,serif\" font-size=\"14.00\">(22) str.substr(cgi_decode_s_str_1, 6, 1) == &quot;+&quot;</text>\n",
       "</g>\n",
       "<!-- 128&#45;&gt;129 -->\n",
       "<g id=\"edge129\" class=\"edge\">\n",
       "<title>128&#45;&gt;129</title>\n",
       "<path fill=\"none\" stroke=\"red\" d=\"M4678.52,-3299.89C4658.9,-3289.07 4619.66,-3267.42 4595.38,-3254.02\"/>\n",
       "<polygon fill=\"red\" stroke=\"red\" points=\"4597.03,-3250.93 4586.59,-3249.17 4593.65,-3257.06 4597.03,-3250.93\"/>\n",
       "<text text-anchor=\"middle\" x=\"4647.5\" y=\"-3270.8\" font-family=\"Times,serif\" font-size=\"14.00\">0</text>\n",
       "</g>\n",
       "<!-- 134 -->\n",
       "<g id=\"node135\" class=\"node\">\n",
       "<title>134</title>\n",
       "<text text-anchor=\"middle\" x=\"4730.5\" y=\"-3237.8\" font-family=\"Times,serif\" font-size=\"14.00\">?</text>\n",
       "</g>\n",
       "<!-- 128&#45;&gt;134 -->\n",
       "<g id=\"edge134\" class=\"edge\">\n",
       "<title>128&#45;&gt;134</title>\n",
       "<path fill=\"none\" stroke=\"blue\" d=\"M4694.78,-3299.65C4701.08,-3289.58 4712.99,-3270.52 4721.32,-3257.2\"/>\n",
       "<polygon fill=\"blue\" stroke=\"blue\" points=\"4724.5,-3258.7 4726.84,-3248.36 4718.57,-3254.99 4724.5,-3258.7\"/>\n",
       "<text text-anchor=\"middle\" x=\"4718.5\" y=\"-3270.8\" font-family=\"Times,serif\" font-size=\"14.00\">1</text>\n",
       "</g>\n",
       "<!-- 130 -->\n",
       "<g id=\"node131\" class=\"node\">\n",
       "<title>130</title>\n",
       "<text text-anchor=\"middle\" x=\"4421.5\" y=\"-3171.8\" font-family=\"Times,serif\" font-size=\"14.00\">(23) str.substr(cgi_decode_s_str_1, 6, 1) == &quot;%&quot;</text>\n",
       "</g>\n",
       "<!-- 129&#45;&gt;130 -->\n",
       "<g id=\"edge130\" class=\"edge\">\n",
       "<title>129&#45;&gt;130</title>\n",
       "<path fill=\"none\" stroke=\"red\" d=\"M4558.7,-3233.89C4532.25,-3222.83 4478.76,-3200.45 4446.95,-3187.14\"/>\n",
       "<polygon fill=\"red\" stroke=\"red\" points=\"4448.02,-3183.8 4437.44,-3183.17 4445.32,-3190.26 4448.02,-3183.8\"/>\n",
       "<text text-anchor=\"middle\" x=\"4516.5\" y=\"-3204.8\" font-family=\"Times,serif\" font-size=\"14.00\">0</text>\n",
       "</g>\n",
       "<!-- 133 -->\n",
       "<g id=\"node134\" class=\"node\">\n",
       "<title>133</title>\n",
       "<text text-anchor=\"middle\" x=\"4579.5\" y=\"-3171.8\" font-family=\"Times,serif\" font-size=\"14.00\">?</text>\n",
       "</g>\n",
       "<!-- 129&#45;&gt;133 -->\n",
       "<g id=\"edge133\" class=\"edge\">\n",
       "<title>129&#45;&gt;133</title>\n",
       "<path fill=\"none\" stroke=\"blue\" d=\"M4575.04,-3233.65C4575.78,-3224.07 4577.17,-3206.38 4578.2,-3193.2\"/>\n",
       "<polygon fill=\"blue\" stroke=\"blue\" points=\"4581.69,-3193.35 4578.98,-3183.11 4574.72,-3192.81 4581.69,-3193.35\"/>\n",
       "<text text-anchor=\"middle\" x=\"4581.5\" y=\"-3204.8\" font-family=\"Times,serif\" font-size=\"14.00\">1</text>\n",
       "</g>\n",
       "<!-- 131 -->\n",
       "<g id=\"node132\" class=\"node\">\n",
       "<title>131</title>\n",
       "<text text-anchor=\"middle\" x=\"4380.5\" y=\"-3105.8\" font-family=\"Times,serif\" font-size=\"14.00\">* %1b\\x00</text>\n",
       "</g>\n",
       "<!-- 130&#45;&gt;131 -->\n",
       "<g id=\"edge131\" class=\"edge\">\n",
       "<title>130&#45;&gt;131</title>\n",
       "<path fill=\"none\" stroke=\"red\" d=\"M4417.11,-3167.65C4410.73,-3157.69 4398.72,-3138.93 4390.19,-3125.63\"/>\n",
       "<polygon fill=\"red\" stroke=\"red\" points=\"4393.07,-3123.64 4384.73,-3117.11 4387.18,-3127.42 4393.07,-3123.64\"/>\n",
       "<text text-anchor=\"middle\" x=\"4409.5\" y=\"-3138.8\" font-family=\"Times,serif\" font-size=\"14.00\">0</text>\n",
       "</g>\n",
       "<!-- 132 -->\n",
       "<g id=\"node133\" class=\"node\">\n",
       "<title>132</title>\n",
       "<text text-anchor=\"middle\" x=\"4433.5\" y=\"-3105.8\" font-family=\"Times,serif\" font-size=\"14.00\">?</text>\n",
       "</g>\n",
       "<!-- 130&#45;&gt;132 -->\n",
       "<g id=\"edge132\" class=\"edge\">\n",
       "<title>130&#45;&gt;132</title>\n",
       "<path fill=\"none\" stroke=\"blue\" d=\"M4422.78,-3167.65C4424.58,-3158.07 4427.9,-3140.38 4430.37,-3127.2\"/>\n",
       "<polygon fill=\"blue\" stroke=\"blue\" points=\"4433.86,-3127.58 4432.26,-3117.11 4426.98,-3126.29 4433.86,-3127.58\"/>\n",
       "<text text-anchor=\"middle\" x=\"4433.5\" y=\"-3138.8\" font-family=\"Times,serif\" font-size=\"14.00\">1</text>\n",
       "</g>\n",
       "<!-- 153 -->\n",
       "<g id=\"node154\" class=\"node\">\n",
       "<title>153</title>\n",
       "<text text-anchor=\"middle\" x=\"6893.5\" y=\"-4557.8\" font-family=\"Times,serif\" font-size=\"14.00\">(2) str.substr(cgi_decode_s_str_1, 1, 1) == &quot;%&quot;</text>\n",
       "</g>\n",
       "<!-- 152&#45;&gt;153 -->\n",
       "<g id=\"edge153\" class=\"edge\">\n",
       "<title>152&#45;&gt;153</title>\n",
       "<path fill=\"none\" stroke=\"red\" d=\"M6893.5,-4619.65C6893.5,-4610.07 6893.5,-4592.38 6893.5,-4579.2\"/>\n",
       "<polygon fill=\"red\" stroke=\"red\" points=\"6897,-4579.11 6893.5,-4569.11 6890,-4579.11 6897,-4579.11\"/>\n",
       "<text text-anchor=\"middle\" x=\"6897.5\" y=\"-4590.8\" font-family=\"Times,serif\" font-size=\"14.00\">0</text>\n",
       "</g>\n",
       "<!-- 292 -->\n",
       "<g id=\"node293\" class=\"node\">\n",
       "<title>292</title>\n",
       "<text text-anchor=\"middle\" x=\"7047.5\" y=\"-4557.8\" font-family=\"Times,serif\" font-size=\"14.00\">?</text>\n",
       "</g>\n",
       "<!-- 152&#45;&gt;292 -->\n",
       "<g id=\"edge292\" class=\"edge\">\n",
       "<title>152&#45;&gt;292</title>\n",
       "<path fill=\"none\" stroke=\"blue\" d=\"M6911.05,-4619.84C6937.9,-4609.54 6990.67,-4588.86 7034.5,-4569 7034.6,-4568.96 7034.7,-4568.91 7034.79,-4568.87\"/>\n",
       "<polygon fill=\"blue\" stroke=\"blue\" points=\"7036.23,-4572.06 7043.67,-4564.51 7033.15,-4565.77 7036.23,-4572.06\"/>\n",
       "<text text-anchor=\"middle\" x=\"6996.5\" y=\"-4590.8\" font-family=\"Times,serif\" font-size=\"14.00\">1</text>\n",
       "</g>\n",
       "<!-- 154 -->\n",
       "<g id=\"node155\" class=\"node\">\n",
       "<title>154</title>\n",
       "<text text-anchor=\"middle\" x=\"6888.5\" y=\"-4491.8\" font-family=\"Times,serif\" font-size=\"14.00\">(3) str.substr(cgi_decode_s_str_1, 2, 1) == &quot;+&quot;</text>\n",
       "</g>\n",
       "<!-- 153&#45;&gt;154 -->\n",
       "<g id=\"edge154\" class=\"edge\">\n",
       "<title>153&#45;&gt;154</title>\n",
       "<path fill=\"none\" stroke=\"red\" d=\"M6892.96,-4553.65C6892.22,-4544.07 6890.83,-4526.38 6889.8,-4513.2\"/>\n",
       "<polygon fill=\"red\" stroke=\"red\" points=\"6893.28,-4512.81 6889.02,-4503.11 6886.31,-4513.35 6893.28,-4512.81\"/>\n",
       "<text text-anchor=\"middle\" x=\"6895.5\" y=\"-4524.8\" font-family=\"Times,serif\" font-size=\"14.00\">0</text>\n",
       "</g>\n",
       "<!-- 291 -->\n",
       "<g id=\"node292\" class=\"node\">\n",
       "<title>291</title>\n",
       "<text text-anchor=\"middle\" x=\"7040.5\" y=\"-4491.8\" font-family=\"Times,serif\" font-size=\"14.00\">?</text>\n",
       "</g>\n",
       "<!-- 153&#45;&gt;291 -->\n",
       "<g id=\"edge291\" class=\"edge\">\n",
       "<title>153&#45;&gt;291</title>\n",
       "<path fill=\"none\" stroke=\"blue\" d=\"M6909.72,-4553.9C6935.06,-4543.5 6985.48,-4522.5 7027.5,-4503 7027.6,-4502.95 7027.69,-4502.91 7027.79,-4502.86\"/>\n",
       "<polygon fill=\"blue\" stroke=\"blue\" points=\"7029.24,-4506.05 7036.66,-4498.49 7026.14,-4499.77 7029.24,-4506.05\"/>\n",
       "<text text-anchor=\"middle\" x=\"6991.5\" y=\"-4524.8\" font-family=\"Times,serif\" font-size=\"14.00\">1</text>\n",
       "</g>\n",
       "<!-- 155 -->\n",
       "<g id=\"node156\" class=\"node\">\n",
       "<title>155</title>\n",
       "<text text-anchor=\"middle\" x=\"6820.5\" y=\"-4425.8\" font-family=\"Times,serif\" font-size=\"14.00\">(4) str.substr(cgi_decode_s_str_1, 2, 1) == &quot;%&quot;</text>\n",
       "</g>\n",
       "<!-- 154&#45;&gt;155 -->\n",
       "<g id=\"edge155\" class=\"edge\">\n",
       "<title>154&#45;&gt;155</title>\n",
       "<path fill=\"none\" stroke=\"red\" d=\"M6881.48,-4487.89C6870.59,-4477.64 6849.38,-4457.68 6835.08,-4444.22\"/>\n",
       "<polygon fill=\"red\" stroke=\"red\" points=\"6837.27,-4441.47 6827.58,-4437.17 6832.47,-4446.57 6837.27,-4441.47\"/>\n",
       "<text text-anchor=\"middle\" x=\"6865.5\" y=\"-4458.8\" font-family=\"Times,serif\" font-size=\"14.00\">0</text>\n",
       "</g>\n",
       "<!-- 290 -->\n",
       "<g id=\"node291\" class=\"node\">\n",
       "<title>290</title>\n",
       "<text text-anchor=\"middle\" x=\"6974.5\" y=\"-4425.8\" font-family=\"Times,serif\" font-size=\"14.00\">?</text>\n",
       "</g>\n",
       "<!-- 154&#45;&gt;290 -->\n",
       "<g id=\"edge290\" class=\"edge\">\n",
       "<title>154&#45;&gt;290</title>\n",
       "<path fill=\"none\" stroke=\"blue\" d=\"M6897.38,-4487.89C6912.88,-4476.36 6944.88,-4452.54 6962.39,-4439.51\"/>\n",
       "<polygon fill=\"blue\" stroke=\"blue\" points=\"6964.86,-4442.03 6970.8,-4433.26 6960.69,-4436.42 6964.86,-4442.03\"/>\n",
       "<text text-anchor=\"middle\" x=\"6943.5\" y=\"-4458.8\" font-family=\"Times,serif\" font-size=\"14.00\">1</text>\n",
       "</g>\n",
       "<!-- 156 -->\n",
       "<g id=\"node157\" class=\"node\">\n",
       "<title>156</title>\n",
       "<text text-anchor=\"middle\" x=\"6706.5\" y=\"-4359.8\" font-family=\"Times,serif\" font-size=\"14.00\">(5) str.substr(cgi_decode_s_str_1, 3, 1) == &quot;+&quot;</text>\n",
       "</g>\n",
       "<!-- 155&#45;&gt;156 -->\n",
       "<g id=\"edge156\" class=\"edge\">\n",
       "<title>155&#45;&gt;156</title>\n",
       "<path fill=\"none\" stroke=\"red\" d=\"M6808.73,-4421.89C6789.53,-4411.11 6751.22,-4389.61 6727.34,-4376.2\"/>\n",
       "<polygon fill=\"red\" stroke=\"red\" points=\"6728.81,-4373.01 6718.38,-4371.17 6725.38,-4379.12 6728.81,-4373.01\"/>\n",
       "<text text-anchor=\"middle\" x=\"6778.5\" y=\"-4392.8\" font-family=\"Times,serif\" font-size=\"14.00\">0</text>\n",
       "</g>\n",
       "<!-- 289 -->\n",
       "<g id=\"node290\" class=\"node\">\n",
       "<title>289</title>\n",
       "<text text-anchor=\"middle\" x=\"6858.5\" y=\"-4359.8\" font-family=\"Times,serif\" font-size=\"14.00\">?</text>\n",
       "</g>\n",
       "<!-- 155&#45;&gt;289 -->\n",
       "<g id=\"edge289\" class=\"edge\">\n",
       "<title>155&#45;&gt;289</title>\n",
       "<path fill=\"none\" stroke=\"blue\" d=\"M6824.57,-4421.65C6830.49,-4411.68 6841.63,-4392.91 6849.53,-4379.6\"/>\n",
       "<polygon fill=\"blue\" stroke=\"blue\" points=\"6852.7,-4381.12 6854.8,-4370.73 6846.69,-4377.54 6852.7,-4381.12\"/>\n",
       "<text text-anchor=\"middle\" x=\"6847.5\" y=\"-4392.8\" font-family=\"Times,serif\" font-size=\"14.00\">1</text>\n",
       "</g>\n",
       "<!-- 157 -->\n",
       "<g id=\"node158\" class=\"node\">\n",
       "<title>157</title>\n",
       "<text text-anchor=\"middle\" x=\"6639.5\" y=\"-4293.8\" font-family=\"Times,serif\" font-size=\"14.00\">(6) str.substr(cgi_decode_s_str_1, 3, 1) == &quot;%&quot;</text>\n",
       "</g>\n",
       "<!-- 156&#45;&gt;157 -->\n",
       "<g id=\"edge157\" class=\"edge\">\n",
       "<title>156&#45;&gt;157</title>\n",
       "<path fill=\"none\" stroke=\"red\" d=\"M6699.58,-4355.89C6688.85,-4345.64 6667.96,-4325.68 6653.86,-4312.22\"/>\n",
       "<polygon fill=\"red\" stroke=\"red\" points=\"6656.13,-4309.54 6646.48,-4305.17 6651.29,-4314.61 6656.13,-4309.54\"/>\n",
       "<text text-anchor=\"middle\" x=\"6683.5\" y=\"-4326.8\" font-family=\"Times,serif\" font-size=\"14.00\">0</text>\n",
       "</g>\n",
       "<!-- 288 -->\n",
       "<g id=\"node289\" class=\"node\">\n",
       "<title>288</title>\n",
       "<text text-anchor=\"middle\" x=\"6793.5\" y=\"-4293.8\" font-family=\"Times,serif\" font-size=\"14.00\">?</text>\n",
       "</g>\n",
       "<!-- 156&#45;&gt;288 -->\n",
       "<g id=\"edge288\" class=\"edge\">\n",
       "<title>156&#45;&gt;288</title>\n",
       "<path fill=\"none\" stroke=\"blue\" d=\"M6715.48,-4355.89C6731.23,-4344.3 6763.84,-4320.32 6781.5,-4307.33\"/>\n",
       "<polygon fill=\"blue\" stroke=\"blue\" points=\"6783.77,-4310 6789.75,-4301.26 6779.63,-4304.36 6783.77,-4310\"/>\n",
       "<text text-anchor=\"middle\" x=\"6762.5\" y=\"-4326.8\" font-family=\"Times,serif\" font-size=\"14.00\">1</text>\n",
       "</g>\n",
       "<!-- 158 -->\n",
       "<g id=\"node159\" class=\"node\">\n",
       "<title>158</title>\n",
       "<text text-anchor=\"middle\" x=\"6515.5\" y=\"-4227.8\" font-family=\"Times,serif\" font-size=\"14.00\">(7) str.substr(cgi_decode_s_str_1, 4, 1) == &quot;+&quot;</text>\n",
       "</g>\n",
       "<!-- 157&#45;&gt;158 -->\n",
       "<g id=\"edge158\" class=\"edge\">\n",
       "<title>157&#45;&gt;158</title>\n",
       "<path fill=\"none\" stroke=\"red\" d=\"M6626.7,-4289.89C6605.63,-4279.02 6563.4,-4257.22 6537.48,-4243.84\"/>\n",
       "<polygon fill=\"red\" stroke=\"red\" points=\"6538.91,-4240.64 6528.42,-4239.17 6535.7,-4246.86 6538.91,-4240.64\"/>\n",
       "<text text-anchor=\"middle\" x=\"6593.5\" y=\"-4260.8\" font-family=\"Times,serif\" font-size=\"14.00\">0</text>\n",
       "</g>\n",
       "<!-- 287 -->\n",
       "<g id=\"node288\" class=\"node\">\n",
       "<title>287</title>\n",
       "<text text-anchor=\"middle\" x=\"6667.5\" y=\"-4227.8\" font-family=\"Times,serif\" font-size=\"14.00\">?</text>\n",
       "</g>\n",
       "<!-- 157&#45;&gt;287 -->\n",
       "<g id=\"edge287\" class=\"edge\">\n",
       "<title>157&#45;&gt;287</title>\n",
       "<path fill=\"none\" stroke=\"blue\" d=\"M6642.5,-4289.65C6646.77,-4279.88 6654.74,-4261.66 6660.54,-4248.41\"/>\n",
       "<polygon fill=\"blue\" stroke=\"blue\" points=\"6663.81,-4249.67 6664.61,-4239.11 6657.39,-4246.87 6663.81,-4249.67\"/>\n",
       "<text text-anchor=\"middle\" x=\"6660.5\" y=\"-4260.8\" font-family=\"Times,serif\" font-size=\"14.00\">1</text>\n",
       "</g>\n",
       "<!-- 159 -->\n",
       "<g id=\"node160\" class=\"node\">\n",
       "<title>159</title>\n",
       "<text text-anchor=\"middle\" x=\"6396.5\" y=\"-4161.8\" font-family=\"Times,serif\" font-size=\"14.00\">(8) str.substr(cgi_decode_s_str_1, 4, 1) == &quot;%&quot;</text>\n",
       "</g>\n",
       "<!-- 158&#45;&gt;159 -->\n",
       "<g id=\"edge159\" class=\"edge\">\n",
       "<title>158&#45;&gt;159</title>\n",
       "<path fill=\"none\" stroke=\"red\" d=\"M6503.21,-4223.89C6483.08,-4213.07 6442.83,-4191.42 6417.92,-4178.02\"/>\n",
       "<polygon fill=\"red\" stroke=\"red\" points=\"6419.36,-4174.82 6408.9,-4173.17 6416.05,-4180.99 6419.36,-4174.82\"/>\n",
       "<text text-anchor=\"middle\" x=\"6471.5\" y=\"-4194.8\" font-family=\"Times,serif\" font-size=\"14.00\">0</text>\n",
       "</g>\n",
       "<!-- 286 -->\n",
       "<g id=\"node287\" class=\"node\">\n",
       "<title>286</title>\n",
       "<text text-anchor=\"middle\" x=\"6550.5\" y=\"-4161.8\" font-family=\"Times,serif\" font-size=\"14.00\">?</text>\n",
       "</g>\n",
       "<!-- 158&#45;&gt;286 -->\n",
       "<g id=\"edge286\" class=\"edge\">\n",
       "<title>158&#45;&gt;286</title>\n",
       "<path fill=\"none\" stroke=\"blue\" d=\"M6519.25,-4223.65C6524.64,-4213.78 6534.75,-4195.3 6542.01,-4182.02\"/>\n",
       "<polygon fill=\"blue\" stroke=\"blue\" points=\"6545.16,-4183.56 6546.89,-4173.11 6539.02,-4180.2 6545.16,-4183.56\"/>\n",
       "<text text-anchor=\"middle\" x=\"6540.5\" y=\"-4194.8\" font-family=\"Times,serif\" font-size=\"14.00\">1</text>\n",
       "</g>\n",
       "<!-- 160 -->\n",
       "<g id=\"node161\" class=\"node\">\n",
       "<title>160</title>\n",
       "<text text-anchor=\"middle\" x=\"6260.5\" y=\"-4095.8\" font-family=\"Times,serif\" font-size=\"14.00\">(9) str.substr(cgi_decode_s_str_1, 5, 1) == &quot;+&quot;</text>\n",
       "</g>\n",
       "<!-- 159&#45;&gt;160 -->\n",
       "<g id=\"edge160\" class=\"edge\">\n",
       "<title>159&#45;&gt;160</title>\n",
       "<path fill=\"none\" stroke=\"red\" d=\"M6382.46,-4157.89C6359.15,-4146.92 6312.22,-4124.84 6283.86,-4111.49\"/>\n",
       "<polygon fill=\"red\" stroke=\"red\" points=\"6285.21,-4108.26 6274.67,-4107.17 6282.23,-4114.59 6285.21,-4108.26\"/>\n",
       "<text text-anchor=\"middle\" x=\"6345.5\" y=\"-4128.8\" font-family=\"Times,serif\" font-size=\"14.00\">0</text>\n",
       "</g>\n",
       "<!-- 285 -->\n",
       "<g id=\"node286\" class=\"node\">\n",
       "<title>285</title>\n",
       "<text text-anchor=\"middle\" x=\"6412.5\" y=\"-4095.8\" font-family=\"Times,serif\" font-size=\"14.00\">?</text>\n",
       "</g>\n",
       "<!-- 159&#45;&gt;285 -->\n",
       "<g id=\"edge285\" class=\"edge\">\n",
       "<title>159&#45;&gt;285</title>\n",
       "<path fill=\"none\" stroke=\"blue\" d=\"M6398.21,-4157.65C6400.61,-4148.07 6405.03,-4130.38 6408.32,-4117.2\"/>\n",
       "<polygon fill=\"blue\" stroke=\"blue\" points=\"6411.82,-4117.66 6410.85,-4107.11 6405.03,-4115.96 6411.82,-4117.66\"/>\n",
       "<text text-anchor=\"middle\" x=\"6410.5\" y=\"-4128.8\" font-family=\"Times,serif\" font-size=\"14.00\">1</text>\n",
       "</g>\n",
       "<!-- 161 -->\n",
       "<g id=\"node162\" class=\"node\">\n",
       "<title>161</title>\n",
       "<text text-anchor=\"middle\" x=\"6146.5\" y=\"-4029.8\" font-family=\"Times,serif\" font-size=\"14.00\">(10) str.substr(cgi_decode_s_str_1, 5, 1) == &quot;%&quot;</text>\n",
       "</g>\n",
       "<!-- 160&#45;&gt;161 -->\n",
       "<g id=\"edge161\" class=\"edge\">\n",
       "<title>160&#45;&gt;161</title>\n",
       "<path fill=\"none\" stroke=\"red\" d=\"M6248.73,-4091.89C6229.53,-4081.11 6191.22,-4059.61 6167.34,-4046.2\"/>\n",
       "<polygon fill=\"red\" stroke=\"red\" points=\"6168.81,-4043.01 6158.38,-4041.17 6165.38,-4049.12 6168.81,-4043.01\"/>\n",
       "<text text-anchor=\"middle\" x=\"6218.5\" y=\"-4062.8\" font-family=\"Times,serif\" font-size=\"14.00\">0</text>\n",
       "</g>\n",
       "<!-- 284 -->\n",
       "<g id=\"node285\" class=\"node\">\n",
       "<title>284</title>\n",
       "<text text-anchor=\"middle\" x=\"6304.5\" y=\"-4029.8\" font-family=\"Times,serif\" font-size=\"14.00\">?</text>\n",
       "</g>\n",
       "<!-- 160&#45;&gt;284 -->\n",
       "<g id=\"edge284\" class=\"edge\">\n",
       "<title>160&#45;&gt;284</title>\n",
       "<path fill=\"none\" stroke=\"blue\" d=\"M6265.21,-4091.65C6272.34,-4081.27 6286.04,-4061.36 6295.22,-4048\"/>\n",
       "<polygon fill=\"blue\" stroke=\"blue\" points=\"6298.17,-4049.88 6300.96,-4039.66 6292.41,-4045.91 6298.17,-4049.88\"/>\n",
       "<text text-anchor=\"middle\" x=\"6290.5\" y=\"-4062.8\" font-family=\"Times,serif\" font-size=\"14.00\">1</text>\n",
       "</g>\n",
       "<!-- 162 -->\n",
       "<g id=\"node163\" class=\"node\">\n",
       "<title>162</title>\n",
       "<text text-anchor=\"middle\" x=\"6007.5\" y=\"-3963.8\" font-family=\"Times,serif\" font-size=\"14.00\">(11) str.substr(cgi_decode_s_str_1, 6, 1) == &quot;+&quot;</text>\n",
       "</g>\n",
       "<!-- 161&#45;&gt;162 -->\n",
       "<g id=\"edge162\" class=\"edge\">\n",
       "<title>161&#45;&gt;162</title>\n",
       "<path fill=\"none\" stroke=\"red\" d=\"M6132.15,-4025.89C6108.32,-4014.92 6060.36,-3992.84 6031.37,-3979.49\"/>\n",
       "<polygon fill=\"red\" stroke=\"red\" points=\"6032.53,-3976.17 6021.98,-3975.17 6029.6,-3982.53 6032.53,-3976.17\"/>\n",
       "<text text-anchor=\"middle\" x=\"6093.5\" y=\"-3996.8\" font-family=\"Times,serif\" font-size=\"14.00\">0</text>\n",
       "</g>\n",
       "<!-- 283 -->\n",
       "<g id=\"node284\" class=\"node\">\n",
       "<title>283</title>\n",
       "<text text-anchor=\"middle\" x=\"6163.5\" y=\"-3963.8\" font-family=\"Times,serif\" font-size=\"14.00\">?</text>\n",
       "</g>\n",
       "<!-- 161&#45;&gt;283 -->\n",
       "<g id=\"edge283\" class=\"edge\">\n",
       "<title>161&#45;&gt;283</title>\n",
       "<path fill=\"none\" stroke=\"blue\" d=\"M6148.32,-4025.65C6150.89,-4015.98 6155.66,-3998.02 6159.17,-3984.81\"/>\n",
       "<polygon fill=\"blue\" stroke=\"blue\" points=\"6162.56,-3985.67 6161.74,-3975.11 6155.79,-3983.87 6162.56,-3985.67\"/>\n",
       "<text text-anchor=\"middle\" x=\"6161.5\" y=\"-3996.8\" font-family=\"Times,serif\" font-size=\"14.00\">1</text>\n",
       "</g>\n",
       "<!-- 163 -->\n",
       "<g id=\"node164\" class=\"node\">\n",
       "<title>163</title>\n",
       "<text text-anchor=\"middle\" x=\"5879.5\" y=\"-3897.8\" font-family=\"Times,serif\" font-size=\"14.00\">(12) str.substr(cgi_decode_s_str_1, 6, 1) == &quot;%&quot;</text>\n",
       "</g>\n",
       "<!-- 162&#45;&gt;163 -->\n",
       "<g id=\"edge163\" class=\"edge\">\n",
       "<title>162&#45;&gt;163</title>\n",
       "<path fill=\"none\" stroke=\"red\" d=\"M5994.28,-3959.89C5972.44,-3948.97 5928.56,-3927.03 5901.83,-3913.67\"/>\n",
       "<polygon fill=\"red\" stroke=\"red\" points=\"5903.35,-3910.51 5892.84,-3909.17 5900.22,-3916.77 5903.35,-3910.51\"/>\n",
       "<text text-anchor=\"middle\" x=\"5959.5\" y=\"-3930.8\" font-family=\"Times,serif\" font-size=\"14.00\">0</text>\n",
       "</g>\n",
       "<!-- 282 -->\n",
       "<g id=\"node283\" class=\"node\">\n",
       "<title>282</title>\n",
       "<text text-anchor=\"middle\" x=\"6037.5\" y=\"-3897.8\" font-family=\"Times,serif\" font-size=\"14.00\">?</text>\n",
       "</g>\n",
       "<!-- 162&#45;&gt;282 -->\n",
       "<g id=\"edge282\" class=\"edge\">\n",
       "<title>162&#45;&gt;282</title>\n",
       "<path fill=\"none\" stroke=\"blue\" d=\"M6010.71,-3959.65C6015.29,-3949.88 6023.83,-3931.66 6030.04,-3918.41\"/>\n",
       "<polygon fill=\"blue\" stroke=\"blue\" points=\"6033.33,-3919.65 6034.4,-3909.11 6026.99,-3916.68 6033.33,-3919.65\"/>\n",
       "<text text-anchor=\"middle\" x=\"6029.5\" y=\"-3930.8\" font-family=\"Times,serif\" font-size=\"14.00\">1</text>\n",
       "</g>\n",
       "<!-- 164 -->\n",
       "<g id=\"node165\" class=\"node\">\n",
       "<title>164</title>\n",
       "<text text-anchor=\"middle\" x=\"5738.5\" y=\"-3831.8\" font-family=\"Times,serif\" font-size=\"14.00\">(13) str.substr(cgi_decode_s_str_1, 7, 1) == &quot;+&quot;</text>\n",
       "</g>\n",
       "<!-- 163&#45;&gt;164 -->\n",
       "<g id=\"edge164\" class=\"edge\">\n",
       "<title>163&#45;&gt;164</title>\n",
       "<path fill=\"none\" stroke=\"red\" d=\"M5864.94,-3893.89C5840.67,-3882.87 5791.7,-3860.65 5762.33,-3847.32\"/>\n",
       "<polygon fill=\"red\" stroke=\"red\" points=\"5763.74,-3844.11 5753.19,-3843.17 5760.85,-3850.49 5763.74,-3844.11\"/>\n",
       "<text text-anchor=\"middle\" x=\"5826.5\" y=\"-3864.8\" font-family=\"Times,serif\" font-size=\"14.00\">0</text>\n",
       "</g>\n",
       "<!-- 281 -->\n",
       "<g id=\"node282\" class=\"node\">\n",
       "<title>281</title>\n",
       "<text text-anchor=\"middle\" x=\"5894.5\" y=\"-3831.8\" font-family=\"Times,serif\" font-size=\"14.00\">?</text>\n",
       "</g>\n",
       "<!-- 163&#45;&gt;281 -->\n",
       "<g id=\"edge281\" class=\"edge\">\n",
       "<title>163&#45;&gt;281</title>\n",
       "<path fill=\"none\" stroke=\"blue\" d=\"M5881.11,-3893.65C5883.35,-3884.07 5887.5,-3866.38 5890.59,-3853.2\"/>\n",
       "<polygon fill=\"blue\" stroke=\"blue\" points=\"5894.08,-3853.64 5892.95,-3843.11 5887.26,-3852.05 5894.08,-3853.64\"/>\n",
       "<text text-anchor=\"middle\" x=\"5892.5\" y=\"-3864.8\" font-family=\"Times,serif\" font-size=\"14.00\">1</text>\n",
       "</g>\n",
       "<!-- 165 -->\n",
       "<g id=\"node166\" class=\"node\">\n",
       "<title>165</title>\n",
       "<text text-anchor=\"middle\" x=\"5596.5\" y=\"-3765.8\" font-family=\"Times,serif\" font-size=\"14.00\">(14) str.substr(cgi_decode_s_str_1, 7, 1) == &quot;%&quot;</text>\n",
       "</g>\n",
       "<!-- 164&#45;&gt;165 -->\n",
       "<g id=\"edge165\" class=\"edge\">\n",
       "<title>164&#45;&gt;165</title>\n",
       "<path fill=\"none\" stroke=\"red\" d=\"M5723.84,-3827.89C5699.39,-3816.87 5650.07,-3794.65 5620.5,-3781.32\"/>\n",
       "<polygon fill=\"red\" stroke=\"red\" points=\"5621.85,-3778.09 5611.29,-3777.17 5618.97,-3784.47 5621.85,-3778.09\"/>\n",
       "<text text-anchor=\"middle\" x=\"5684.5\" y=\"-3798.8\" font-family=\"Times,serif\" font-size=\"14.00\">0</text>\n",
       "</g>\n",
       "<!-- 280 -->\n",
       "<g id=\"node281\" class=\"node\">\n",
       "<title>280</title>\n",
       "<text text-anchor=\"middle\" x=\"5754.5\" y=\"-3765.8\" font-family=\"Times,serif\" font-size=\"14.00\">?</text>\n",
       "</g>\n",
       "<!-- 164&#45;&gt;280 -->\n",
       "<g id=\"edge280\" class=\"edge\">\n",
       "<title>164&#45;&gt;280</title>\n",
       "<path fill=\"none\" stroke=\"blue\" d=\"M5740.21,-3827.65C5742.61,-3818.07 5747.03,-3800.38 5750.32,-3787.2\"/>\n",
       "<polygon fill=\"blue\" stroke=\"blue\" points=\"5753.82,-3787.66 5752.85,-3777.11 5747.03,-3785.96 5753.82,-3787.66\"/>\n",
       "<text text-anchor=\"middle\" x=\"5752.5\" y=\"-3798.8\" font-family=\"Times,serif\" font-size=\"14.00\">1</text>\n",
       "</g>\n",
       "<!-- 166 -->\n",
       "<g id=\"node167\" class=\"node\">\n",
       "<title>166</title>\n",
       "<text text-anchor=\"middle\" x=\"5589.5\" y=\"-3699.8\" font-family=\"Times,serif\" font-size=\"14.00\">(15) str.substr(cgi_decode_s_str_1, 8, 1) == &quot;+&quot;</text>\n",
       "</g>\n",
       "<!-- 165&#45;&gt;166 -->\n",
       "<g id=\"edge166\" class=\"edge\">\n",
       "<title>165&#45;&gt;166</title>\n",
       "<path fill=\"none\" stroke=\"red\" d=\"M5595.75,-3761.65C5594.7,-3752.07 5592.77,-3734.38 5591.33,-3721.2\"/>\n",
       "<polygon fill=\"red\" stroke=\"red\" points=\"5594.79,-3720.67 5590.22,-3711.11 5587.83,-3721.43 5594.79,-3720.67\"/>\n",
       "<text text-anchor=\"middle\" x=\"5598.5\" y=\"-3732.8\" font-family=\"Times,serif\" font-size=\"14.00\">0</text>\n",
       "</g>\n",
       "<!-- 279 -->\n",
       "<g id=\"node280\" class=\"node\">\n",
       "<title>279</title>\n",
       "<text text-anchor=\"middle\" x=\"5745.5\" y=\"-3699.8\" font-family=\"Times,serif\" font-size=\"14.00\">?</text>\n",
       "</g>\n",
       "<!-- 165&#45;&gt;279 -->\n",
       "<g id=\"edge279\" class=\"edge\">\n",
       "<title>165&#45;&gt;279</title>\n",
       "<path fill=\"none\" stroke=\"blue\" d=\"M5612.98,-3761.93C5638.71,-3751.58 5689.89,-3730.63 5732.5,-3711 5732.6,-3710.96 5732.7,-3710.91 5732.79,-3710.86\"/>\n",
       "<polygon fill=\"blue\" stroke=\"blue\" points=\"5734.24,-3714.06 5741.66,-3706.5 5731.15,-3707.77 5734.24,-3714.06\"/>\n",
       "<text text-anchor=\"middle\" x=\"5696.5\" y=\"-3732.8\" font-family=\"Times,serif\" font-size=\"14.00\">1</text>\n",
       "</g>\n",
       "<!-- 167 -->\n",
       "<g id=\"node168\" class=\"node\">\n",
       "<title>167</title>\n",
       "<text text-anchor=\"middle\" x=\"5588.5\" y=\"-3633.8\" font-family=\"Times,serif\" font-size=\"14.00\">(16) str.substr(cgi_decode_s_str_1, 8, 1) == &quot;%&quot;</text>\n",
       "</g>\n",
       "<!-- 166&#45;&gt;167 -->\n",
       "<g id=\"edge167\" class=\"edge\">\n",
       "<title>166&#45;&gt;167</title>\n",
       "<path fill=\"none\" stroke=\"red\" d=\"M5589.39,-3695.65C5589.24,-3686.07 5588.97,-3668.38 5588.76,-3655.2\"/>\n",
       "<polygon fill=\"red\" stroke=\"red\" points=\"5592.26,-3655.05 5588.6,-3645.11 5585.26,-3655.16 5592.26,-3655.05\"/>\n",
       "<text text-anchor=\"middle\" x=\"5593.5\" y=\"-3666.8\" font-family=\"Times,serif\" font-size=\"14.00\">0</text>\n",
       "</g>\n",
       "<!-- 278 -->\n",
       "<g id=\"node279\" class=\"node\">\n",
       "<title>278</title>\n",
       "<text text-anchor=\"middle\" x=\"5746.5\" y=\"-3633.8\" font-family=\"Times,serif\" font-size=\"14.00\">?</text>\n",
       "</g>\n",
       "<!-- 166&#45;&gt;278 -->\n",
       "<g id=\"edge278\" class=\"edge\">\n",
       "<title>166&#45;&gt;278</title>\n",
       "<path fill=\"none\" stroke=\"blue\" d=\"M5607.44,-3695.89C5634.88,-3685.66 5688.8,-3665.06 5733.5,-3645 5733.6,-3644.96 5733.7,-3644.91 5733.79,-3644.87\"/>\n",
       "<polygon fill=\"blue\" stroke=\"blue\" points=\"5735.23,-3648.06 5742.67,-3640.52 5732.15,-3641.77 5735.23,-3648.06\"/>\n",
       "<text text-anchor=\"middle\" x=\"5694.5\" y=\"-3666.8\" font-family=\"Times,serif\" font-size=\"14.00\">1</text>\n",
       "</g>\n",
       "<!-- 168 -->\n",
       "<g id=\"node169\" class=\"node\">\n",
       "<title>168</title>\n",
       "<text text-anchor=\"middle\" x=\"5468.5\" y=\"-3567.8\" font-family=\"Times,serif\" font-size=\"14.00\">(17) str.substr(cgi_decode_s_str_1, 9, 1) == &quot;+&quot;</text>\n",
       "</g>\n",
       "<!-- 167&#45;&gt;168 -->\n",
       "<g id=\"edge168\" class=\"edge\">\n",
       "<title>167&#45;&gt;168</title>\n",
       "<path fill=\"none\" stroke=\"red\" d=\"M5576.11,-3629.89C5555.81,-3619.07 5515.22,-3597.42 5490.1,-3584.02\"/>\n",
       "<polygon fill=\"red\" stroke=\"red\" points=\"5491.47,-3580.79 5481,-3579.17 5488.18,-3586.96 5491.47,-3580.79\"/>\n",
       "<text text-anchor=\"middle\" x=\"5543.5\" y=\"-3600.8\" font-family=\"Times,serif\" font-size=\"14.00\">0</text>\n",
       "</g>\n",
       "<!-- 277 -->\n",
       "<g id=\"node278\" class=\"node\">\n",
       "<title>277</title>\n",
       "<text text-anchor=\"middle\" x=\"5624.5\" y=\"-3567.8\" font-family=\"Times,serif\" font-size=\"14.00\">?</text>\n",
       "</g>\n",
       "<!-- 167&#45;&gt;277 -->\n",
       "<g id=\"edge277\" class=\"edge\">\n",
       "<title>167&#45;&gt;277</title>\n",
       "<path fill=\"none\" stroke=\"blue\" d=\"M5592.35,-3629.65C5597.96,-3619.68 5608.52,-3600.91 5616,-3587.6\"/>\n",
       "<polygon fill=\"blue\" stroke=\"blue\" points=\"5619.14,-3589.16 5620.99,-3578.73 5613.04,-3585.73 5619.14,-3589.16\"/>\n",
       "<text text-anchor=\"middle\" x=\"5614.5\" y=\"-3600.8\" font-family=\"Times,serif\" font-size=\"14.00\">1</text>\n",
       "</g>\n",
       "<!-- 169 -->\n",
       "<g id=\"node170\" class=\"node\">\n",
       "<title>169</title>\n",
       "<text text-anchor=\"middle\" x=\"5412.5\" y=\"-3501.8\" font-family=\"Times,serif\" font-size=\"14.00\">(18) str.substr(cgi_decode_s_str_1, 9, 1) == &quot;%&quot;</text>\n",
       "</g>\n",
       "<!-- 168&#45;&gt;169 -->\n",
       "<g id=\"edge169\" class=\"edge\">\n",
       "<title>168&#45;&gt;169</title>\n",
       "<path fill=\"none\" stroke=\"red\" d=\"M5462.51,-3563.65C5453.62,-3553.49 5436.74,-3534.2 5425.07,-3520.86\"/>\n",
       "<polygon fill=\"red\" stroke=\"red\" points=\"5427.5,-3518.33 5418.28,-3513.11 5422.23,-3522.94 5427.5,-3518.33\"/>\n",
       "<text text-anchor=\"middle\" x=\"5450.5\" y=\"-3534.8\" font-family=\"Times,serif\" font-size=\"14.00\">0</text>\n",
       "</g>\n",
       "<!-- 276 -->\n",
       "<g id=\"node277\" class=\"node\">\n",
       "<title>276</title>\n",
       "<text text-anchor=\"middle\" x=\"5570.5\" y=\"-3501.8\" font-family=\"Times,serif\" font-size=\"14.00\">?</text>\n",
       "</g>\n",
       "<!-- 168&#45;&gt;276 -->\n",
       "<g id=\"edge276\" class=\"edge\">\n",
       "<title>168&#45;&gt;276</title>\n",
       "<path fill=\"none\" stroke=\"blue\" d=\"M5479.03,-3563.89C5498.1,-3551.93 5538.25,-3526.74 5558.41,-3514.09\"/>\n",
       "<polygon fill=\"blue\" stroke=\"blue\" points=\"5560.3,-3517.03 5566.91,-3508.75 5556.58,-3511.1 5560.3,-3517.03\"/>\n",
       "<text text-anchor=\"middle\" x=\"5533.5\" y=\"-3534.8\" font-family=\"Times,serif\" font-size=\"14.00\">1</text>\n",
       "</g>\n",
       "<!-- 170 -->\n",
       "<g id=\"node171\" class=\"node\">\n",
       "<title>170</title>\n",
       "<text text-anchor=\"middle\" x=\"5286.5\" y=\"-3435.8\" font-family=\"Times,serif\" font-size=\"14.00\">(19) str.substr(cgi_decode_s_str_1, 10, 1) == &quot;+&quot;</text>\n",
       "</g>\n",
       "<!-- 169&#45;&gt;170 -->\n",
       "<g id=\"edge170\" class=\"edge\">\n",
       "<title>169&#45;&gt;170</title>\n",
       "<path fill=\"none\" stroke=\"red\" d=\"M5399.49,-3497.89C5378.08,-3487.02 5335.17,-3465.22 5308.83,-3451.84\"/>\n",
       "<polygon fill=\"red\" stroke=\"red\" points=\"5310.13,-3448.58 5299.63,-3447.17 5306.96,-3454.82 5310.13,-3448.58\"/>\n",
       "<text text-anchor=\"middle\" x=\"5365.5\" y=\"-3468.8\" font-family=\"Times,serif\" font-size=\"14.00\">0</text>\n",
       "</g>\n",
       "<!-- 275 -->\n",
       "<g id=\"node276\" class=\"node\">\n",
       "<title>275</title>\n",
       "<text text-anchor=\"middle\" x=\"5445.5\" y=\"-3435.8\" font-family=\"Times,serif\" font-size=\"14.00\">?</text>\n",
       "</g>\n",
       "<!-- 169&#45;&gt;275 -->\n",
       "<g id=\"edge275\" class=\"edge\">\n",
       "<title>169&#45;&gt;275</title>\n",
       "<path fill=\"none\" stroke=\"blue\" d=\"M5416.03,-3497.65C5421.12,-3487.78 5430.65,-3469.3 5437.5,-3456.02\"/>\n",
       "<polygon fill=\"blue\" stroke=\"blue\" points=\"5440.62,-3457.6 5442.09,-3447.11 5434.4,-3454.39 5440.62,-3457.6\"/>\n",
       "<text text-anchor=\"middle\" x=\"5436.5\" y=\"-3468.8\" font-family=\"Times,serif\" font-size=\"14.00\">1</text>\n",
       "</g>\n",
       "<!-- 171 -->\n",
       "<g id=\"node172\" class=\"node\">\n",
       "<title>171</title>\n",
       "<text text-anchor=\"middle\" x=\"5151.5\" y=\"-3369.8\" font-family=\"Times,serif\" font-size=\"14.00\">(20) str.substr(cgi_decode_s_str_1, 10, 1) == &quot;%&quot;</text>\n",
       "</g>\n",
       "<!-- 170&#45;&gt;171 -->\n",
       "<g id=\"edge171\" class=\"edge\">\n",
       "<title>170&#45;&gt;171</title>\n",
       "<path fill=\"none\" stroke=\"red\" d=\"M5272.56,-3431.89C5249.42,-3420.92 5202.84,-3398.84 5174.69,-3385.49\"/>\n",
       "<polygon fill=\"red\" stroke=\"red\" points=\"5176.1,-3382.29 5165.57,-3381.17 5173.1,-3388.61 5176.1,-3382.29\"/>\n",
       "<text text-anchor=\"middle\" x=\"5235.5\" y=\"-3402.8\" font-family=\"Times,serif\" font-size=\"14.00\">0</text>\n",
       "</g>\n",
       "<!-- 274 -->\n",
       "<g id=\"node275\" class=\"node\">\n",
       "<title>274</title>\n",
       "<text text-anchor=\"middle\" x=\"5312.5\" y=\"-3369.8\" font-family=\"Times,serif\" font-size=\"14.00\">?</text>\n",
       "</g>\n",
       "<!-- 170&#45;&gt;274 -->\n",
       "<g id=\"edge274\" class=\"edge\">\n",
       "<title>170&#45;&gt;274</title>\n",
       "<path fill=\"none\" stroke=\"blue\" d=\"M5289.28,-3431.65C5293.25,-3421.88 5300.65,-3403.66 5306.04,-3390.41\"/>\n",
       "<polygon fill=\"blue\" stroke=\"blue\" points=\"5309.29,-3391.69 5309.82,-3381.11 5302.81,-3389.06 5309.29,-3391.69\"/>\n",
       "<text text-anchor=\"middle\" x=\"5306.5\" y=\"-3402.8\" font-family=\"Times,serif\" font-size=\"14.00\">1</text>\n",
       "</g>\n",
       "<!-- 172 -->\n",
       "<g id=\"node173\" class=\"node\">\n",
       "<title>172</title>\n",
       "<text text-anchor=\"middle\" x=\"5013.5\" y=\"-3303.8\" font-family=\"Times,serif\" font-size=\"14.00\">(21) str.substr(cgi_decode_s_str_1, 11, 1) == &quot;+&quot;</text>\n",
       "</g>\n",
       "<!-- 171&#45;&gt;172 -->\n",
       "<g id=\"edge172\" class=\"edge\">\n",
       "<title>171&#45;&gt;172</title>\n",
       "<path fill=\"none\" stroke=\"red\" d=\"M5137.25,-3365.89C5113.6,-3354.92 5065.98,-3332.84 5037.2,-3319.49\"/>\n",
       "<polygon fill=\"red\" stroke=\"red\" points=\"5038.42,-3316.2 5027.88,-3315.17 5035.48,-3322.55 5038.42,-3316.2\"/>\n",
       "<text text-anchor=\"middle\" x=\"5099.5\" y=\"-3336.8\" font-family=\"Times,serif\" font-size=\"14.00\">0</text>\n",
       "</g>\n",
       "<!-- 273 -->\n",
       "<g id=\"node274\" class=\"node\">\n",
       "<title>273</title>\n",
       "<text text-anchor=\"middle\" x=\"5172.5\" y=\"-3303.8\" font-family=\"Times,serif\" font-size=\"14.00\">?</text>\n",
       "</g>\n",
       "<!-- 171&#45;&gt;273 -->\n",
       "<g id=\"edge273\" class=\"edge\">\n",
       "<title>171&#45;&gt;273</title>\n",
       "<path fill=\"none\" stroke=\"blue\" d=\"M5153.75,-3365.65C5156.92,-3355.98 5162.81,-3338.02 5167.15,-3324.81\"/>\n",
       "<polygon fill=\"blue\" stroke=\"blue\" points=\"5170.54,-3325.7 5170.33,-3315.11 5163.89,-3323.52 5170.54,-3325.7\"/>\n",
       "<text text-anchor=\"middle\" x=\"5168.5\" y=\"-3336.8\" font-family=\"Times,serif\" font-size=\"14.00\">1</text>\n",
       "</g>\n",
       "<!-- 173 -->\n",
       "<g id=\"node174\" class=\"node\">\n",
       "<title>173</title>\n",
       "<text text-anchor=\"middle\" x=\"4895.5\" y=\"-3237.8\" font-family=\"Times,serif\" font-size=\"14.00\">(22) str.substr(cgi_decode_s_str_1, 11, 1) == &quot;%&quot;</text>\n",
       "</g>\n",
       "<!-- 172&#45;&gt;173 -->\n",
       "<g id=\"edge173\" class=\"edge\">\n",
       "<title>172&#45;&gt;173</title>\n",
       "<path fill=\"none\" stroke=\"red\" d=\"M5001.32,-3299.89C4981.35,-3289.07 4941.44,-3267.42 4916.74,-3254.02\"/>\n",
       "<polygon fill=\"red\" stroke=\"red\" points=\"4918.25,-3250.86 4907.79,-3249.17 4914.92,-3257.01 4918.25,-3250.86\"/>\n",
       "<text text-anchor=\"middle\" x=\"4969.5\" y=\"-3270.8\" font-family=\"Times,serif\" font-size=\"14.00\">0</text>\n",
       "</g>\n",
       "<!-- 272 -->\n",
       "<g id=\"node273\" class=\"node\">\n",
       "<title>272</title>\n",
       "<text text-anchor=\"middle\" x=\"5056.5\" y=\"-3237.8\" font-family=\"Times,serif\" font-size=\"14.00\">?</text>\n",
       "</g>\n",
       "<!-- 172&#45;&gt;272 -->\n",
       "<g id=\"edge272\" class=\"edge\">\n",
       "<title>172&#45;&gt;272</title>\n",
       "<path fill=\"none\" stroke=\"blue\" d=\"M5018.1,-3299.65C5025.01,-3289.38 5038.19,-3269.75 5047.16,-3256.4\"/>\n",
       "<polygon fill=\"blue\" stroke=\"blue\" points=\"5050.13,-3258.26 5052.8,-3248.01 5044.32,-3254.35 5050.13,-3258.26\"/>\n",
       "<text text-anchor=\"middle\" x=\"5043.5\" y=\"-3270.8\" font-family=\"Times,serif\" font-size=\"14.00\">1</text>\n",
       "</g>\n",
       "<!-- 174 -->\n",
       "<g id=\"node175\" class=\"node\">\n",
       "<title>174</title>\n",
       "<text text-anchor=\"middle\" x=\"4740.5\" y=\"-3171.8\" font-family=\"Times,serif\" font-size=\"14.00\">(23) str.substr(cgi_decode_s_str_1, 12, 1) == &quot;+&quot;</text>\n",
       "</g>\n",
       "<!-- 173&#45;&gt;174 -->\n",
       "<g id=\"edge174\" class=\"edge\">\n",
       "<title>173&#45;&gt;174</title>\n",
       "<path fill=\"none\" stroke=\"red\" d=\"M4879.5,-3233.89C4852.69,-3222.83 4798.51,-3200.45 4766.28,-3187.14\"/>\n",
       "<polygon fill=\"red\" stroke=\"red\" points=\"4767.23,-3183.75 4756.65,-3183.17 4764.56,-3190.22 4767.23,-3183.75\"/>\n",
       "<text text-anchor=\"middle\" x=\"4836.5\" y=\"-3204.8\" font-family=\"Times,serif\" font-size=\"14.00\">0</text>\n",
       "</g>\n",
       "<!-- 271 -->\n",
       "<g id=\"node272\" class=\"node\">\n",
       "<title>271</title>\n",
       "<text text-anchor=\"middle\" x=\"4899.5\" y=\"-3171.8\" font-family=\"Times,serif\" font-size=\"14.00\">?</text>\n",
       "</g>\n",
       "<!-- 173&#45;&gt;271 -->\n",
       "<g id=\"edge271\" class=\"edge\">\n",
       "<title>173&#45;&gt;271</title>\n",
       "<path fill=\"none\" stroke=\"blue\" d=\"M4895.93,-3233.65C4896.53,-3224.07 4897.63,-3206.38 4898.46,-3193.2\"/>\n",
       "<polygon fill=\"blue\" stroke=\"blue\" points=\"4901.96,-3193.31 4899.09,-3183.11 4894.97,-3192.87 4901.96,-3193.31\"/>\n",
       "<text text-anchor=\"middle\" x=\"4902.5\" y=\"-3204.8\" font-family=\"Times,serif\" font-size=\"14.00\">1</text>\n",
       "</g>\n",
       "<!-- 175 -->\n",
       "<g id=\"node176\" class=\"node\">\n",
       "<title>175</title>\n",
       "<text text-anchor=\"middle\" x=\"4595.5\" y=\"-3105.8\" font-family=\"Times,serif\" font-size=\"14.00\">(24) str.substr(cgi_decode_s_str_1, 12, 1) == &quot;%&quot;</text>\n",
       "</g>\n",
       "<!-- 174&#45;&gt;175 -->\n",
       "<g id=\"edge175\" class=\"edge\">\n",
       "<title>174&#45;&gt;175</title>\n",
       "<path fill=\"none\" stroke=\"red\" d=\"M4725.53,-3167.89C4700.57,-3156.87 4650.21,-3134.65 4620.01,-3121.32\"/>\n",
       "<polygon fill=\"red\" stroke=\"red\" points=\"4621.17,-3118 4610.61,-3117.17 4618.34,-3124.41 4621.17,-3118\"/>\n",
       "<text text-anchor=\"middle\" x=\"4685.5\" y=\"-3138.8\" font-family=\"Times,serif\" font-size=\"14.00\">0</text>\n",
       "</g>\n",
       "<!-- 270 -->\n",
       "<g id=\"node271\" class=\"node\">\n",
       "<title>270</title>\n",
       "<text text-anchor=\"middle\" x=\"4756.5\" y=\"-3105.8\" font-family=\"Times,serif\" font-size=\"14.00\">?</text>\n",
       "</g>\n",
       "<!-- 174&#45;&gt;270 -->\n",
       "<g id=\"edge270\" class=\"edge\">\n",
       "<title>174&#45;&gt;270</title>\n",
       "<path fill=\"none\" stroke=\"blue\" d=\"M4742.21,-3167.65C4744.61,-3158.07 4749.03,-3140.38 4752.32,-3127.2\"/>\n",
       "<polygon fill=\"blue\" stroke=\"blue\" points=\"4755.82,-3127.66 4754.85,-3117.11 4749.03,-3125.96 4755.82,-3127.66\"/>\n",
       "<text text-anchor=\"middle\" x=\"4754.5\" y=\"-3138.8\" font-family=\"Times,serif\" font-size=\"14.00\">1</text>\n",
       "</g>\n",
       "<!-- 176 -->\n",
       "<g id=\"node177\" class=\"node\">\n",
       "<title>176</title>\n",
       "<text text-anchor=\"middle\" x=\"4442.5\" y=\"-3039.8\" font-family=\"Times,serif\" font-size=\"14.00\">(25) str.substr(cgi_decode_s_str_1, 13, 1) == &quot;+&quot;</text>\n",
       "</g>\n",
       "<!-- 175&#45;&gt;176 -->\n",
       "<g id=\"edge176\" class=\"edge\">\n",
       "<title>175&#45;&gt;176</title>\n",
       "<path fill=\"none\" stroke=\"red\" d=\"M4579.7,-3101.89C4553.25,-3090.83 4499.76,-3068.45 4467.95,-3055.14\"/>\n",
       "<polygon fill=\"red\" stroke=\"red\" points=\"4469.02,-3051.8 4458.44,-3051.17 4466.32,-3058.26 4469.02,-3051.8\"/>\n",
       "<text text-anchor=\"middle\" x=\"4537.5\" y=\"-3072.8\" font-family=\"Times,serif\" font-size=\"14.00\">0</text>\n",
       "</g>\n",
       "<!-- 269 -->\n",
       "<g id=\"node270\" class=\"node\">\n",
       "<title>269</title>\n",
       "<text text-anchor=\"middle\" x=\"4601.5\" y=\"-3039.8\" font-family=\"Times,serif\" font-size=\"14.00\">?</text>\n",
       "</g>\n",
       "<!-- 175&#45;&gt;269 -->\n",
       "<g id=\"edge269\" class=\"edge\">\n",
       "<title>175&#45;&gt;269</title>\n",
       "<path fill=\"none\" stroke=\"blue\" d=\"M4596.14,-3101.65C4597.04,-3092.07 4598.7,-3074.38 4599.93,-3061.2\"/>\n",
       "<polygon fill=\"blue\" stroke=\"blue\" points=\"4603.43,-3061.39 4600.88,-3051.11 4596.46,-3060.74 4603.43,-3061.39\"/>\n",
       "<text text-anchor=\"middle\" x=\"4603.5\" y=\"-3072.8\" font-family=\"Times,serif\" font-size=\"14.00\">1</text>\n",
       "</g>\n",
       "<!-- 177 -->\n",
       "<g id=\"node178\" class=\"node\">\n",
       "<title>177</title>\n",
       "<text text-anchor=\"middle\" x=\"4284.5\" y=\"-2973.8\" font-family=\"Times,serif\" font-size=\"14.00\">(26) str.substr(cgi_decode_s_str_1, 13, 1) == &quot;%&quot;</text>\n",
       "</g>\n",
       "<!-- 176&#45;&gt;177 -->\n",
       "<g id=\"edge177\" class=\"edge\">\n",
       "<title>176&#45;&gt;177</title>\n",
       "<path fill=\"none\" stroke=\"red\" d=\"M4426.19,-3035.89C4398.75,-3024.78 4343.15,-3002.26 4310.35,-2988.97\"/>\n",
       "<polygon fill=\"red\" stroke=\"red\" points=\"4311.54,-2985.68 4300.96,-2985.17 4308.92,-2992.17 4311.54,-2985.68\"/>\n",
       "<text text-anchor=\"middle\" x=\"4382.5\" y=\"-3006.8\" font-family=\"Times,serif\" font-size=\"14.00\">0</text>\n",
       "</g>\n",
       "<!-- 268 -->\n",
       "<g id=\"node269\" class=\"node\">\n",
       "<title>268</title>\n",
       "<text text-anchor=\"middle\" x=\"4445.5\" y=\"-2973.8\" font-family=\"Times,serif\" font-size=\"14.00\">?</text>\n",
       "</g>\n",
       "<!-- 176&#45;&gt;268 -->\n",
       "<g id=\"edge268\" class=\"edge\">\n",
       "<title>176&#45;&gt;268</title>\n",
       "<path fill=\"none\" stroke=\"blue\" d=\"M4442.82,-3035.65C4443.27,-3026.07 4444.1,-3008.38 4444.72,-2995.2\"/>\n",
       "<polygon fill=\"blue\" stroke=\"blue\" points=\"4448.22,-2995.26 4445.19,-2985.11 4441.23,-2994.93 4448.22,-2995.26\"/>\n",
       "<text text-anchor=\"middle\" x=\"4448.5\" y=\"-3006.8\" font-family=\"Times,serif\" font-size=\"14.00\">1</text>\n",
       "</g>\n",
       "<!-- 178 -->\n",
       "<g id=\"node179\" class=\"node\">\n",
       "<title>178</title>\n",
       "<text text-anchor=\"middle\" x=\"4156.5\" y=\"-2907.8\" font-family=\"Times,serif\" font-size=\"14.00\">?</text>\n",
       "</g>\n",
       "<!-- 177&#45;&gt;178 -->\n",
       "<g id=\"edge178\" class=\"edge\">\n",
       "<title>177&#45;&gt;178</title>\n",
       "<path fill=\"none\" stroke=\"red\" d=\"M4271.28,-2969.89C4246.58,-2957.54 4193.7,-2931.1 4169.31,-2918.91\"/>\n",
       "<polygon fill=\"red\" stroke=\"red\" points=\"4170.6,-2915.64 4160.09,-2914.3 4167.47,-2921.9 4170.6,-2915.64\"/>\n",
       "<text text-anchor=\"middle\" x=\"4236.5\" y=\"-2940.8\" font-family=\"Times,serif\" font-size=\"14.00\">0</text>\n",
       "</g>\n",
       "<!-- 179 -->\n",
       "<g id=\"node180\" class=\"node\">\n",
       "<title>179</title>\n",
       "<text text-anchor=\"middle\" x=\"4315.5\" y=\"-2907.8\" font-family=\"Times,serif\" font-size=\"14.00\">(27) str.substr(cgi_decode_s_str_1, 14, 1) == &quot;0&quot;</text>\n",
       "</g>\n",
       "<!-- 177&#45;&gt;179 -->\n",
       "<g id=\"edge179\" class=\"edge\">\n",
       "<title>177&#45;&gt;179</title>\n",
       "<path fill=\"none\" stroke=\"blue\" d=\"M4287.82,-2969.65C4292.55,-2959.88 4301.38,-2941.66 4307.79,-2928.41\"/>\n",
       "<polygon fill=\"blue\" stroke=\"blue\" points=\"4311.09,-2929.63 4312.3,-2919.11 4304.79,-2926.58 4311.09,-2929.63\"/>\n",
       "<text text-anchor=\"middle\" x=\"4307.5\" y=\"-2940.8\" font-family=\"Times,serif\" font-size=\"14.00\">1</text>\n",
       "</g>\n",
       "<!-- 180 -->\n",
       "<g id=\"node181\" class=\"node\">\n",
       "<title>180</title>\n",
       "<text text-anchor=\"middle\" x=\"4172.5\" y=\"-2841.8\" font-family=\"Times,serif\" font-size=\"14.00\">(28) str.substr(cgi_decode_s_str_1, 14, 1) == &quot;1&quot;</text>\n",
       "</g>\n",
       "<!-- 179&#45;&gt;180 -->\n",
       "<g id=\"edge180\" class=\"edge\">\n",
       "<title>179&#45;&gt;180</title>\n",
       "<path fill=\"none\" stroke=\"red\" d=\"M4300.74,-2903.89C4276.12,-2892.87 4226.45,-2870.65 4196.67,-2857.32\"/>\n",
       "<polygon fill=\"red\" stroke=\"red\" points=\"4197.96,-2854.06 4187.4,-2853.17 4195.1,-2860.45 4197.96,-2854.06\"/>\n",
       "<text text-anchor=\"middle\" x=\"4261.5\" y=\"-2874.8\" font-family=\"Times,serif\" font-size=\"14.00\">0</text>\n",
       "</g>\n",
       "<!-- 267 -->\n",
       "<g id=\"node268\" class=\"node\">\n",
       "<title>267</title>\n",
       "<text text-anchor=\"middle\" x=\"4331.5\" y=\"-2841.8\" font-family=\"Times,serif\" font-size=\"14.00\">?</text>\n",
       "</g>\n",
       "<!-- 179&#45;&gt;267 -->\n",
       "<g id=\"edge267\" class=\"edge\">\n",
       "<title>179&#45;&gt;267</title>\n",
       "<path fill=\"none\" stroke=\"blue\" d=\"M4317.21,-2903.65C4319.61,-2894.07 4324.03,-2876.38 4327.32,-2863.2\"/>\n",
       "<polygon fill=\"blue\" stroke=\"blue\" points=\"4330.82,-2863.66 4329.85,-2853.11 4324.03,-2861.96 4330.82,-2863.66\"/>\n",
       "<text text-anchor=\"middle\" x=\"4329.5\" y=\"-2874.8\" font-family=\"Times,serif\" font-size=\"14.00\">1</text>\n",
       "</g>\n",
       "<!-- 181 -->\n",
       "<g id=\"node182\" class=\"node\">\n",
       "<title>181</title>\n",
       "<text text-anchor=\"middle\" x=\"4021.5\" y=\"-2775.8\" font-family=\"Times,serif\" font-size=\"14.00\">(29) str.substr(cgi_decode_s_str_1, 14, 1) == &quot;2&quot;</text>\n",
       "</g>\n",
       "<!-- 180&#45;&gt;181 -->\n",
       "<g id=\"edge181\" class=\"edge\">\n",
       "<title>180&#45;&gt;181</title>\n",
       "<path fill=\"none\" stroke=\"red\" d=\"M4156.91,-2837.89C4130.8,-2826.83 4078.01,-2804.45 4046.61,-2791.14\"/>\n",
       "<polygon fill=\"red\" stroke=\"red\" points=\"4047.81,-2787.85 4037.23,-2787.17 4045.07,-2794.29 4047.81,-2787.85\"/>\n",
       "<text text-anchor=\"middle\" x=\"4115.5\" y=\"-2808.8\" font-family=\"Times,serif\" font-size=\"14.00\">0</text>\n",
       "</g>\n",
       "<!-- 266 -->\n",
       "<g id=\"node267\" class=\"node\">\n",
       "<title>266</title>\n",
       "<text text-anchor=\"middle\" x=\"4180.5\" y=\"-2775.8\" font-family=\"Times,serif\" font-size=\"14.00\">?</text>\n",
       "</g>\n",
       "<!-- 180&#45;&gt;266 -->\n",
       "<g id=\"edge266\" class=\"edge\">\n",
       "<title>180&#45;&gt;266</title>\n",
       "<path fill=\"none\" stroke=\"blue\" d=\"M4173.36,-2837.65C4174.55,-2828.07 4176.77,-2810.38 4178.41,-2797.2\"/>\n",
       "<polygon fill=\"blue\" stroke=\"blue\" points=\"4181.91,-2797.47 4179.67,-2787.11 4174.96,-2796.6 4181.91,-2797.47\"/>\n",
       "<text text-anchor=\"middle\" x=\"4181.5\" y=\"-2808.8\" font-family=\"Times,serif\" font-size=\"14.00\">1</text>\n",
       "</g>\n",
       "<!-- 182 -->\n",
       "<g id=\"node183\" class=\"node\">\n",
       "<title>182</title>\n",
       "<text text-anchor=\"middle\" x=\"3904.5\" y=\"-2709.8\" font-family=\"Times,serif\" font-size=\"14.00\">(30) str.substr(cgi_decode_s_str_1, 14, 1) == &quot;3&quot;</text>\n",
       "</g>\n",
       "<!-- 181&#45;&gt;182 -->\n",
       "<g id=\"edge182\" class=\"edge\">\n",
       "<title>181&#45;&gt;182</title>\n",
       "<path fill=\"none\" stroke=\"red\" d=\"M4009.42,-2771.89C3989.63,-2761.07 3950.05,-2739.42 3925.56,-2726.02\"/>\n",
       "<polygon fill=\"red\" stroke=\"red\" points=\"3927.14,-2722.9 3916.69,-2721.17 3923.78,-2729.04 3927.14,-2722.9\"/>\n",
       "<text text-anchor=\"middle\" x=\"3977.5\" y=\"-2742.8\" font-family=\"Times,serif\" font-size=\"14.00\">0</text>\n",
       "</g>\n",
       "<!-- 265 -->\n",
       "<g id=\"node266\" class=\"node\">\n",
       "<title>265</title>\n",
       "<text text-anchor=\"middle\" x=\"4063.5\" y=\"-2709.8\" font-family=\"Times,serif\" font-size=\"14.00\">?</text>\n",
       "</g>\n",
       "<!-- 181&#45;&gt;265 -->\n",
       "<g id=\"edge265\" class=\"edge\">\n",
       "<title>181&#45;&gt;265</title>\n",
       "<path fill=\"none\" stroke=\"blue\" d=\"M4025.99,-2771.65C4032.74,-2761.38 4045.62,-2741.75 4054.38,-2728.4\"/>\n",
       "<polygon fill=\"blue\" stroke=\"blue\" points=\"4057.33,-2730.29 4059.89,-2720.01 4051.47,-2726.45 4057.33,-2730.29\"/>\n",
       "<text text-anchor=\"middle\" x=\"4050.5\" y=\"-2742.8\" font-family=\"Times,serif\" font-size=\"14.00\">1</text>\n",
       "</g>\n",
       "<!-- 183 -->\n",
       "<g id=\"node184\" class=\"node\">\n",
       "<title>183</title>\n",
       "<text text-anchor=\"middle\" x=\"3794.5\" y=\"-2643.8\" font-family=\"Times,serif\" font-size=\"14.00\">(31) str.substr(cgi_decode_s_str_1, 14, 1) == &quot;4&quot;</text>\n",
       "</g>\n",
       "<!-- 182&#45;&gt;183 -->\n",
       "<g id=\"edge183\" class=\"edge\">\n",
       "<title>182&#45;&gt;183</title>\n",
       "<path fill=\"none\" stroke=\"red\" d=\"M3893.14,-2705.89C3874.62,-2695.11 3837.65,-2673.61 3814.61,-2660.2\"/>\n",
       "<polygon fill=\"red\" stroke=\"red\" points=\"3816.36,-2657.17 3805.96,-2655.17 3812.84,-2663.22 3816.36,-2657.17\"/>\n",
       "<text text-anchor=\"middle\" x=\"3863.5\" y=\"-2676.8\" font-family=\"Times,serif\" font-size=\"14.00\">0</text>\n",
       "</g>\n",
       "<!-- 264 -->\n",
       "<g id=\"node265\" class=\"node\">\n",
       "<title>264</title>\n",
       "<text text-anchor=\"middle\" x=\"3953.5\" y=\"-2643.8\" font-family=\"Times,serif\" font-size=\"14.00\">?</text>\n",
       "</g>\n",
       "<!-- 182&#45;&gt;264 -->\n",
       "<g id=\"edge264\" class=\"edge\">\n",
       "<title>182&#45;&gt;264</title>\n",
       "<path fill=\"none\" stroke=\"blue\" d=\"M3909.74,-2705.65C3917.77,-2695.17 3933.24,-2674.96 3943.47,-2661.6\"/>\n",
       "<polygon fill=\"blue\" stroke=\"blue\" points=\"3946.51,-2663.38 3949.81,-2653.32 3940.95,-2659.13 3946.51,-2663.38\"/>\n",
       "<text text-anchor=\"middle\" x=\"3937.5\" y=\"-2676.8\" font-family=\"Times,serif\" font-size=\"14.00\">1</text>\n",
       "</g>\n",
       "<!-- 184 -->\n",
       "<g id=\"node185\" class=\"node\">\n",
       "<title>184</title>\n",
       "<text text-anchor=\"middle\" x=\"3705.5\" y=\"-2577.8\" font-family=\"Times,serif\" font-size=\"14.00\">(32) str.substr(cgi_decode_s_str_1, 14, 1) == &quot;5&quot;</text>\n",
       "</g>\n",
       "<!-- 183&#45;&gt;184 -->\n",
       "<g id=\"edge184\" class=\"edge\">\n",
       "<title>183&#45;&gt;184</title>\n",
       "<path fill=\"none\" stroke=\"red\" d=\"M3785.31,-2639.89C3770.65,-2629.35 3741.74,-2608.56 3723.03,-2595.1\"/>\n",
       "<polygon fill=\"red\" stroke=\"red\" points=\"3724.93,-2592.16 3714.77,-2589.17 3720.85,-2597.85 3724.93,-2592.16\"/>\n",
       "<text text-anchor=\"middle\" x=\"3762.5\" y=\"-2610.8\" font-family=\"Times,serif\" font-size=\"14.00\">0</text>\n",
       "</g>\n",
       "<!-- 263 -->\n",
       "<g id=\"node264\" class=\"node\">\n",
       "<title>263</title>\n",
       "<text text-anchor=\"middle\" x=\"3864.5\" y=\"-2577.8\" font-family=\"Times,serif\" font-size=\"14.00\">?</text>\n",
       "</g>\n",
       "<!-- 183&#45;&gt;263 -->\n",
       "<g id=\"edge263\" class=\"edge\">\n",
       "<title>183&#45;&gt;263</title>\n",
       "<path fill=\"none\" stroke=\"blue\" d=\"M3801.73,-2639.89C3813.99,-2628.68 3838.96,-2605.85 3853.44,-2592.62\"/>\n",
       "<polygon fill=\"blue\" stroke=\"blue\" points=\"3855.87,-2595.13 3860.89,-2585.8 3851.14,-2589.97 3855.87,-2595.13\"/>\n",
       "<text text-anchor=\"middle\" x=\"3840.5\" y=\"-2610.8\" font-family=\"Times,serif\" font-size=\"14.00\">1</text>\n",
       "</g>\n",
       "<!-- 185 -->\n",
       "<g id=\"node186\" class=\"node\">\n",
       "<title>185</title>\n",
       "<text text-anchor=\"middle\" x=\"3565.5\" y=\"-2511.8\" font-family=\"Times,serif\" font-size=\"14.00\">(33) str.substr(cgi_decode_s_str_1, 14, 1) == &quot;6&quot;</text>\n",
       "</g>\n",
       "<!-- 184&#45;&gt;185 -->\n",
       "<g id=\"edge185\" class=\"edge\">\n",
       "<title>184&#45;&gt;185</title>\n",
       "<path fill=\"none\" stroke=\"red\" d=\"M3691.04,-2573.89C3667.05,-2562.92 3618.74,-2540.84 3589.55,-2527.49\"/>\n",
       "<polygon fill=\"red\" stroke=\"red\" points=\"3590.64,-2524.14 3580.09,-2523.17 3587.73,-2530.51 3590.64,-2524.14\"/>\n",
       "<text text-anchor=\"middle\" x=\"3652.5\" y=\"-2544.8\" font-family=\"Times,serif\" font-size=\"14.00\">0</text>\n",
       "</g>\n",
       "<!-- 262 -->\n",
       "<g id=\"node263\" class=\"node\">\n",
       "<title>262</title>\n",
       "<text text-anchor=\"middle\" x=\"3724.5\" y=\"-2511.8\" font-family=\"Times,serif\" font-size=\"14.00\">?</text>\n",
       "</g>\n",
       "<!-- 184&#45;&gt;262 -->\n",
       "<g id=\"edge262\" class=\"edge\">\n",
       "<title>184&#45;&gt;262</title>\n",
       "<path fill=\"none\" stroke=\"blue\" d=\"M3707.53,-2573.65C3710.41,-2563.98 3715.74,-2546.02 3719.66,-2532.81\"/>\n",
       "<polygon fill=\"blue\" stroke=\"blue\" points=\"3723.05,-2533.69 3722.54,-2523.11 3716.34,-2531.7 3723.05,-2533.69\"/>\n",
       "<text text-anchor=\"middle\" x=\"3721.5\" y=\"-2544.8\" font-family=\"Times,serif\" font-size=\"14.00\">1</text>\n",
       "</g>\n",
       "<!-- 186 -->\n",
       "<g id=\"node187\" class=\"node\">\n",
       "<title>186</title>\n",
       "<text text-anchor=\"middle\" x=\"3496.5\" y=\"-2445.8\" font-family=\"Times,serif\" font-size=\"14.00\">(34) str.substr(cgi_decode_s_str_1, 14, 1) == &quot;7&quot;</text>\n",
       "</g>\n",
       "<!-- 185&#45;&gt;186 -->\n",
       "<g id=\"edge186\" class=\"edge\">\n",
       "<title>185&#45;&gt;186</title>\n",
       "<path fill=\"none\" stroke=\"red\" d=\"M3558.38,-2507.89C3547.32,-2497.64 3525.81,-2477.68 3511.29,-2464.22\"/>\n",
       "<polygon fill=\"red\" stroke=\"red\" points=\"3513.4,-2461.4 3503.69,-2457.17 3508.64,-2466.53 3513.4,-2461.4\"/>\n",
       "<text text-anchor=\"middle\" x=\"3541.5\" y=\"-2478.8\" font-family=\"Times,serif\" font-size=\"14.00\">0</text>\n",
       "</g>\n",
       "<!-- 261 -->\n",
       "<g id=\"node262\" class=\"node\">\n",
       "<title>261</title>\n",
       "<text text-anchor=\"middle\" x=\"3655.5\" y=\"-2445.8\" font-family=\"Times,serif\" font-size=\"14.00\">?</text>\n",
       "</g>\n",
       "<!-- 185&#45;&gt;261 -->\n",
       "<g id=\"edge261\" class=\"edge\">\n",
       "<title>185&#45;&gt;261</title>\n",
       "<path fill=\"none\" stroke=\"blue\" d=\"M3574.79,-2507.89C3591.24,-2496.2 3625.44,-2471.88 3643.59,-2458.97\"/>\n",
       "<polygon fill=\"blue\" stroke=\"blue\" points=\"3645.87,-2461.65 3651.99,-2453 3641.81,-2455.94 3645.87,-2461.65\"/>\n",
       "<text text-anchor=\"middle\" x=\"3623.5\" y=\"-2478.8\" font-family=\"Times,serif\" font-size=\"14.00\">1</text>\n",
       "</g>\n",
       "<!-- 187 -->\n",
       "<g id=\"node188\" class=\"node\">\n",
       "<title>187</title>\n",
       "<text text-anchor=\"middle\" x=\"3436.5\" y=\"-2379.8\" font-family=\"Times,serif\" font-size=\"14.00\">(35) str.substr(cgi_decode_s_str_1, 14, 1) == &quot;8&quot;</text>\n",
       "</g>\n",
       "<!-- 186&#45;&gt;187 -->\n",
       "<g id=\"edge187\" class=\"edge\">\n",
       "<title>186&#45;&gt;187</title>\n",
       "<path fill=\"none\" stroke=\"red\" d=\"M3490.08,-2441.65C3480.47,-2431.4 3462.13,-2411.83 3449.61,-2398.48\"/>\n",
       "<polygon fill=\"red\" stroke=\"red\" points=\"3452.09,-2396.01 3442.7,-2391.11 3446.98,-2400.8 3452.09,-2396.01\"/>\n",
       "<text text-anchor=\"middle\" x=\"3476.5\" y=\"-2412.8\" font-family=\"Times,serif\" font-size=\"14.00\">0</text>\n",
       "</g>\n",
       "<!-- 260 -->\n",
       "<g id=\"node261\" class=\"node\">\n",
       "<title>260</title>\n",
       "<text text-anchor=\"middle\" x=\"3595.5\" y=\"-2379.8\" font-family=\"Times,serif\" font-size=\"14.00\">?</text>\n",
       "</g>\n",
       "<!-- 186&#45;&gt;260 -->\n",
       "<g id=\"edge260\" class=\"edge\">\n",
       "<title>186&#45;&gt;260</title>\n",
       "<path fill=\"none\" stroke=\"blue\" d=\"M3506.72,-2441.89C3525.06,-2430.03 3563.49,-2405.19 3583.22,-2392.44\"/>\n",
       "<polygon fill=\"blue\" stroke=\"blue\" points=\"3585.14,-2395.37 3591.64,-2387 3581.34,-2389.49 3585.14,-2395.37\"/>\n",
       "<text text-anchor=\"middle\" x=\"3559.5\" y=\"-2412.8\" font-family=\"Times,serif\" font-size=\"14.00\">1</text>\n",
       "</g>\n",
       "<!-- 188 -->\n",
       "<g id=\"node189\" class=\"node\">\n",
       "<title>188</title>\n",
       "<text text-anchor=\"middle\" x=\"3301.5\" y=\"-2313.8\" font-family=\"Times,serif\" font-size=\"14.00\">(36) str.substr(cgi_decode_s_str_1, 14, 1) == &quot;9&quot;</text>\n",
       "</g>\n",
       "<!-- 187&#45;&gt;188 -->\n",
       "<g id=\"edge188\" class=\"edge\">\n",
       "<title>187&#45;&gt;188</title>\n",
       "<path fill=\"none\" stroke=\"red\" d=\"M3422.56,-2375.89C3399.42,-2364.92 3352.84,-2342.84 3324.69,-2329.49\"/>\n",
       "<polygon fill=\"red\" stroke=\"red\" points=\"3326.1,-2326.29 3315.57,-2325.17 3323.1,-2332.61 3326.1,-2326.29\"/>\n",
       "<text text-anchor=\"middle\" x=\"3385.5\" y=\"-2346.8\" font-family=\"Times,serif\" font-size=\"14.00\">0</text>\n",
       "</g>\n",
       "<!-- 259 -->\n",
       "<g id=\"node260\" class=\"node\">\n",
       "<title>259</title>\n",
       "<text text-anchor=\"middle\" x=\"3460.5\" y=\"-2313.8\" font-family=\"Times,serif\" font-size=\"14.00\">?</text>\n",
       "</g>\n",
       "<!-- 187&#45;&gt;259 -->\n",
       "<g id=\"edge259\" class=\"edge\">\n",
       "<title>187&#45;&gt;259</title>\n",
       "<path fill=\"none\" stroke=\"blue\" d=\"M3439.07,-2375.65C3442.7,-2365.98 3449.43,-2348.02 3454.39,-2334.81\"/>\n",
       "<polygon fill=\"blue\" stroke=\"blue\" points=\"3457.79,-2335.7 3458.02,-2325.11 3451.23,-2333.24 3457.79,-2335.7\"/>\n",
       "<text text-anchor=\"middle\" x=\"3455.5\" y=\"-2346.8\" font-family=\"Times,serif\" font-size=\"14.00\">1</text>\n",
       "</g>\n",
       "<!-- 189 -->\n",
       "<g id=\"node190\" class=\"node\">\n",
       "<title>189</title>\n",
       "<text text-anchor=\"middle\" x=\"3251.5\" y=\"-2247.8\" font-family=\"Times,serif\" font-size=\"14.00\">(37) str.substr(cgi_decode_s_str_1, 14, 1) == &quot;a&quot;</text>\n",
       "</g>\n",
       "<!-- 188&#45;&gt;189 -->\n",
       "<g id=\"edge189\" class=\"edge\">\n",
       "<title>188&#45;&gt;189</title>\n",
       "<path fill=\"none\" stroke=\"red\" d=\"M3296.15,-2309.65C3288.29,-2299.59 3273.43,-2280.57 3263.02,-2267.24\"/>\n",
       "<polygon fill=\"red\" stroke=\"red\" points=\"3265.58,-2264.83 3256.66,-2259.11 3260.06,-2269.14 3265.58,-2264.83\"/>\n",
       "<text text-anchor=\"middle\" x=\"3285.5\" y=\"-2280.8\" font-family=\"Times,serif\" font-size=\"14.00\">0</text>\n",
       "</g>\n",
       "<!-- 258 -->\n",
       "<g id=\"node259\" class=\"node\">\n",
       "<title>258</title>\n",
       "<text text-anchor=\"middle\" x=\"3409.5\" y=\"-2247.8\" font-family=\"Times,serif\" font-size=\"14.00\">?</text>\n",
       "</g>\n",
       "<!-- 188&#45;&gt;258 -->\n",
       "<g id=\"edge258\" class=\"edge\">\n",
       "<title>188&#45;&gt;258</title>\n",
       "<path fill=\"none\" stroke=\"blue\" d=\"M3312.65,-2309.89C3332.94,-2297.87 3375.74,-2272.51 3396.99,-2259.91\"/>\n",
       "<polygon fill=\"blue\" stroke=\"blue\" points=\"3398.88,-2262.86 3405.7,-2254.75 3395.31,-2256.84 3398.88,-2262.86\"/>\n",
       "<text text-anchor=\"middle\" x=\"3369.5\" y=\"-2280.8\" font-family=\"Times,serif\" font-size=\"14.00\">1</text>\n",
       "</g>\n",
       "<!-- 190 -->\n",
       "<g id=\"node191\" class=\"node\">\n",
       "<title>190</title>\n",
       "<text text-anchor=\"middle\" x=\"3108.5\" y=\"-2181.8\" font-family=\"Times,serif\" font-size=\"14.00\">(38) str.substr(cgi_decode_s_str_1, 14, 1) == &quot;b&quot;</text>\n",
       "</g>\n",
       "<!-- 189&#45;&gt;190 -->\n",
       "<g id=\"edge190\" class=\"edge\">\n",
       "<title>189&#45;&gt;190</title>\n",
       "<path fill=\"none\" stroke=\"red\" d=\"M3236.74,-2243.89C3212.12,-2232.87 3162.45,-2210.65 3132.67,-2197.32\"/>\n",
       "<polygon fill=\"red\" stroke=\"red\" points=\"3133.96,-2194.06 3123.4,-2193.17 3131.1,-2200.45 3133.96,-2194.06\"/>\n",
       "<text text-anchor=\"middle\" x=\"3197.5\" y=\"-2214.8\" font-family=\"Times,serif\" font-size=\"14.00\">0</text>\n",
       "</g>\n",
       "<!-- 257 -->\n",
       "<g id=\"node258\" class=\"node\">\n",
       "<title>257</title>\n",
       "<text text-anchor=\"middle\" x=\"3267.5\" y=\"-2181.8\" font-family=\"Times,serif\" font-size=\"14.00\">?</text>\n",
       "</g>\n",
       "<!-- 189&#45;&gt;257 -->\n",
       "<g id=\"edge257\" class=\"edge\">\n",
       "<title>189&#45;&gt;257</title>\n",
       "<path fill=\"none\" stroke=\"blue\" d=\"M3253.21,-2243.65C3255.61,-2234.07 3260.03,-2216.38 3263.32,-2203.2\"/>\n",
       "<polygon fill=\"blue\" stroke=\"blue\" points=\"3266.82,-2203.66 3265.85,-2193.11 3260.03,-2201.96 3266.82,-2203.66\"/>\n",
       "<text text-anchor=\"middle\" x=\"3265.5\" y=\"-2214.8\" font-family=\"Times,serif\" font-size=\"14.00\">1</text>\n",
       "</g>\n",
       "<!-- 191 -->\n",
       "<g id=\"node192\" class=\"node\">\n",
       "<title>191</title>\n",
       "<text text-anchor=\"middle\" x=\"3029.5\" y=\"-2115.8\" font-family=\"Times,serif\" font-size=\"14.00\">(39) str.substr(cgi_decode_s_str_1, 14, 1) == &quot;c&quot;</text>\n",
       "</g>\n",
       "<!-- 190&#45;&gt;191 -->\n",
       "<g id=\"edge191\" class=\"edge\">\n",
       "<title>190&#45;&gt;191</title>\n",
       "<path fill=\"none\" stroke=\"red\" d=\"M3100.34,-2177.89C3087.45,-2167.45 3062.13,-2146.93 3045.51,-2133.47\"/>\n",
       "<polygon fill=\"red\" stroke=\"red\" points=\"3047.7,-2130.74 3037.73,-2127.17 3043.3,-2136.18 3047.7,-2130.74\"/>\n",
       "<text text-anchor=\"middle\" x=\"3080.5\" y=\"-2148.8\" font-family=\"Times,serif\" font-size=\"14.00\">0</text>\n",
       "</g>\n",
       "<!-- 256 -->\n",
       "<g id=\"node257\" class=\"node\">\n",
       "<title>256</title>\n",
       "<text text-anchor=\"middle\" x=\"3187.5\" y=\"-2115.8\" font-family=\"Times,serif\" font-size=\"14.00\">?</text>\n",
       "</g>\n",
       "<!-- 190&#45;&gt;256 -->\n",
       "<g id=\"edge256\" class=\"edge\">\n",
       "<title>190&#45;&gt;256</title>\n",
       "<path fill=\"none\" stroke=\"blue\" d=\"M3116.66,-2177.89C3130.76,-2166.47 3159.75,-2142.98 3175.93,-2129.87\"/>\n",
       "<polygon fill=\"blue\" stroke=\"blue\" points=\"3178.2,-2132.54 3183.77,-2123.52 3173.79,-2127.1 3178.2,-2132.54\"/>\n",
       "<text text-anchor=\"middle\" x=\"3159.5\" y=\"-2148.8\" font-family=\"Times,serif\" font-size=\"14.00\">1</text>\n",
       "</g>\n",
       "<!-- 192 -->\n",
       "<g id=\"node193\" class=\"node\">\n",
       "<title>192</title>\n",
       "<text text-anchor=\"middle\" x=\"2879.5\" y=\"-2049.8\" font-family=\"Times,serif\" font-size=\"14.00\">(40) str.substr(cgi_decode_s_str_1, 14, 1) == &quot;d&quot;</text>\n",
       "</g>\n",
       "<!-- 191&#45;&gt;192 -->\n",
       "<g id=\"edge192\" class=\"edge\">\n",
       "<title>191&#45;&gt;192</title>\n",
       "<path fill=\"none\" stroke=\"red\" d=\"M3014.01,-2111.89C2988.08,-2100.83 2935.64,-2078.45 2904.45,-2065.14\"/>\n",
       "<polygon fill=\"red\" stroke=\"red\" points=\"2905.7,-2061.87 2895.13,-2061.17 2902.95,-2068.31 2905.7,-2061.87\"/>\n",
       "<text text-anchor=\"middle\" x=\"2972.5\" y=\"-2082.8\" font-family=\"Times,serif\" font-size=\"14.00\">0</text>\n",
       "</g>\n",
       "<!-- 255 -->\n",
       "<g id=\"node256\" class=\"node\">\n",
       "<title>255</title>\n",
       "<text text-anchor=\"middle\" x=\"3038.5\" y=\"-2049.8\" font-family=\"Times,serif\" font-size=\"14.00\">?</text>\n",
       "</g>\n",
       "<!-- 191&#45;&gt;255 -->\n",
       "<g id=\"edge255\" class=\"edge\">\n",
       "<title>191&#45;&gt;255</title>\n",
       "<path fill=\"none\" stroke=\"blue\" d=\"M3030.46,-2111.65C3031.81,-2102.07 3034.3,-2084.38 3036.15,-2071.2\"/>\n",
       "<polygon fill=\"blue\" stroke=\"blue\" points=\"3039.64,-2071.5 3037.57,-2061.11 3032.71,-2070.52 3039.64,-2071.5\"/>\n",
       "<text text-anchor=\"middle\" x=\"3039.5\" y=\"-2082.8\" font-family=\"Times,serif\" font-size=\"14.00\">1</text>\n",
       "</g>\n",
       "<!-- 193 -->\n",
       "<g id=\"node194\" class=\"node\">\n",
       "<title>193</title>\n",
       "<text text-anchor=\"middle\" x=\"2753.5\" y=\"-1983.8\" font-family=\"Times,serif\" font-size=\"14.00\">(41) str.substr(cgi_decode_s_str_1, 14, 1) == &quot;e&quot;</text>\n",
       "</g>\n",
       "<!-- 192&#45;&gt;193 -->\n",
       "<g id=\"edge193\" class=\"edge\">\n",
       "<title>192&#45;&gt;193</title>\n",
       "<path fill=\"none\" stroke=\"red\" d=\"M2866.49,-2045.89C2845.08,-2035.02 2802.17,-2013.22 2775.83,-1999.84\"/>\n",
       "<polygon fill=\"red\" stroke=\"red\" points=\"2777.13,-1996.58 2766.63,-1995.17 2773.96,-2002.82 2777.13,-1996.58\"/>\n",
       "<text text-anchor=\"middle\" x=\"2832.5\" y=\"-2016.8\" font-family=\"Times,serif\" font-size=\"14.00\">0</text>\n",
       "</g>\n",
       "<!-- 254 -->\n",
       "<g id=\"node255\" class=\"node\">\n",
       "<title>254</title>\n",
       "<text text-anchor=\"middle\" x=\"2911.5\" y=\"-1983.8\" font-family=\"Times,serif\" font-size=\"14.00\">?</text>\n",
       "</g>\n",
       "<!-- 192&#45;&gt;254 -->\n",
       "<g id=\"edge254\" class=\"edge\">\n",
       "<title>192&#45;&gt;254</title>\n",
       "<path fill=\"none\" stroke=\"blue\" d=\"M2882.92,-2045.65C2887.81,-2035.88 2896.92,-2017.66 2903.54,-2004.41\"/>\n",
       "<polygon fill=\"blue\" stroke=\"blue\" points=\"2906.85,-2005.62 2908.2,-1995.11 2900.59,-2002.49 2906.85,-2005.62\"/>\n",
       "<text text-anchor=\"middle\" x=\"2902.5\" y=\"-2016.8\" font-family=\"Times,serif\" font-size=\"14.00\">1</text>\n",
       "</g>\n",
       "<!-- 194 -->\n",
       "<g id=\"node195\" class=\"node\">\n",
       "<title>194</title>\n",
       "<text text-anchor=\"middle\" x=\"2635.5\" y=\"-1917.8\" font-family=\"Times,serif\" font-size=\"14.00\">(42) str.substr(cgi_decode_s_str_1, 14, 1) == &quot;f&quot;</text>\n",
       "</g>\n",
       "<!-- 193&#45;&gt;194 -->\n",
       "<g id=\"edge194\" class=\"edge\">\n",
       "<title>193&#45;&gt;194</title>\n",
       "<path fill=\"none\" stroke=\"red\" d=\"M2741.32,-1979.89C2721.35,-1969.07 2681.44,-1947.42 2656.74,-1934.02\"/>\n",
       "<polygon fill=\"red\" stroke=\"red\" points=\"2658.25,-1930.86 2647.79,-1929.17 2654.92,-1937.01 2658.25,-1930.86\"/>\n",
       "<text text-anchor=\"middle\" x=\"2709.5\" y=\"-1950.8\" font-family=\"Times,serif\" font-size=\"14.00\">0</text>\n",
       "</g>\n",
       "<!-- 253 -->\n",
       "<g id=\"node254\" class=\"node\">\n",
       "<title>253</title>\n",
       "<text text-anchor=\"middle\" x=\"2793.5\" y=\"-1917.8\" font-family=\"Times,serif\" font-size=\"14.00\">?</text>\n",
       "</g>\n",
       "<!-- 193&#45;&gt;253 -->\n",
       "<g id=\"edge253\" class=\"edge\">\n",
       "<title>193&#45;&gt;253</title>\n",
       "<path fill=\"none\" stroke=\"blue\" d=\"M2757.78,-1979.65C2764.08,-1969.58 2775.99,-1950.52 2784.32,-1937.2\"/>\n",
       "<polygon fill=\"blue\" stroke=\"blue\" points=\"2787.5,-1938.7 2789.84,-1928.36 2781.57,-1934.99 2787.5,-1938.7\"/>\n",
       "<text text-anchor=\"middle\" x=\"2781.5\" y=\"-1950.8\" font-family=\"Times,serif\" font-size=\"14.00\">1</text>\n",
       "</g>\n",
       "<!-- 195 -->\n",
       "<g id=\"node196\" class=\"node\">\n",
       "<title>195</title>\n",
       "<text text-anchor=\"middle\" x=\"2511.5\" y=\"-1851.8\" font-family=\"Times,serif\" font-size=\"14.00\">(43) str.substr(cgi_decode_s_str_1, 14, 1) == &quot;A&quot;</text>\n",
       "</g>\n",
       "<!-- 194&#45;&gt;195 -->\n",
       "<g id=\"edge195\" class=\"edge\">\n",
       "<title>194&#45;&gt;195</title>\n",
       "<path fill=\"none\" stroke=\"red\" d=\"M2622.7,-1913.89C2601.63,-1903.02 2559.4,-1881.22 2533.48,-1867.84\"/>\n",
       "<polygon fill=\"red\" stroke=\"red\" points=\"2534.91,-1864.64 2524.42,-1863.17 2531.7,-1870.86 2534.91,-1864.64\"/>\n",
       "<text text-anchor=\"middle\" x=\"2589.5\" y=\"-1884.8\" font-family=\"Times,serif\" font-size=\"14.00\">0</text>\n",
       "</g>\n",
       "<!-- 252 -->\n",
       "<g id=\"node253\" class=\"node\">\n",
       "<title>252</title>\n",
       "<text text-anchor=\"middle\" x=\"2671.5\" y=\"-1851.8\" font-family=\"Times,serif\" font-size=\"14.00\">?</text>\n",
       "</g>\n",
       "<!-- 194&#45;&gt;252 -->\n",
       "<g id=\"edge252\" class=\"edge\">\n",
       "<title>194&#45;&gt;252</title>\n",
       "<path fill=\"none\" stroke=\"blue\" d=\"M2639.35,-1913.65C2644.96,-1903.68 2655.52,-1884.91 2663,-1871.6\"/>\n",
       "<polygon fill=\"blue\" stroke=\"blue\" points=\"2666.14,-1873.16 2667.99,-1862.73 2660.04,-1869.73 2666.14,-1873.16\"/>\n",
       "<text text-anchor=\"middle\" x=\"2661.5\" y=\"-1884.8\" font-family=\"Times,serif\" font-size=\"14.00\">1</text>\n",
       "</g>\n",
       "<!-- 196 -->\n",
       "<g id=\"node197\" class=\"node\">\n",
       "<title>196</title>\n",
       "<text text-anchor=\"middle\" x=\"2395.5\" y=\"-1785.8\" font-family=\"Times,serif\" font-size=\"14.00\">(44) str.substr(cgi_decode_s_str_1, 14, 1) == &quot;B&quot;</text>\n",
       "</g>\n",
       "<!-- 195&#45;&gt;196 -->\n",
       "<g id=\"edge196\" class=\"edge\">\n",
       "<title>195&#45;&gt;196</title>\n",
       "<path fill=\"none\" stroke=\"red\" d=\"M2499.52,-1847.89C2479.9,-1837.07 2440.66,-1815.42 2416.38,-1802.02\"/>\n",
       "<polygon fill=\"red\" stroke=\"red\" points=\"2418.03,-1798.93 2407.59,-1797.17 2414.65,-1805.06 2418.03,-1798.93\"/>\n",
       "<text text-anchor=\"middle\" x=\"2468.5\" y=\"-1818.8\" font-family=\"Times,serif\" font-size=\"14.00\">0</text>\n",
       "</g>\n",
       "<!-- 251 -->\n",
       "<g id=\"node252\" class=\"node\">\n",
       "<title>251</title>\n",
       "<text text-anchor=\"middle\" x=\"2555.5\" y=\"-1785.8\" font-family=\"Times,serif\" font-size=\"14.00\">?</text>\n",
       "</g>\n",
       "<!-- 195&#45;&gt;251 -->\n",
       "<g id=\"edge251\" class=\"edge\">\n",
       "<title>195&#45;&gt;251</title>\n",
       "<path fill=\"none\" stroke=\"blue\" d=\"M2516.21,-1847.65C2523.34,-1837.27 2537.04,-1817.36 2546.22,-1804\"/>\n",
       "<polygon fill=\"blue\" stroke=\"blue\" points=\"2549.17,-1805.88 2551.96,-1795.66 2543.41,-1801.91 2549.17,-1805.88\"/>\n",
       "<text text-anchor=\"middle\" x=\"2541.5\" y=\"-1818.8\" font-family=\"Times,serif\" font-size=\"14.00\">1</text>\n",
       "</g>\n",
       "<!-- 197 -->\n",
       "<g id=\"node198\" class=\"node\">\n",
       "<title>197</title>\n",
       "<text text-anchor=\"middle\" x=\"2326.5\" y=\"-1719.8\" font-family=\"Times,serif\" font-size=\"14.00\">(45) str.substr(cgi_decode_s_str_1, 14, 1) == &quot;C&quot;</text>\n",
       "</g>\n",
       "<!-- 196&#45;&gt;197 -->\n",
       "<g id=\"edge197\" class=\"edge\">\n",
       "<title>196&#45;&gt;197</title>\n",
       "<path fill=\"none\" stroke=\"red\" d=\"M2388.38,-1781.89C2377.32,-1771.64 2355.81,-1751.68 2341.29,-1738.22\"/>\n",
       "<polygon fill=\"red\" stroke=\"red\" points=\"2343.4,-1735.4 2333.69,-1731.17 2338.64,-1740.53 2343.4,-1735.4\"/>\n",
       "<text text-anchor=\"middle\" x=\"2371.5\" y=\"-1752.8\" font-family=\"Times,serif\" font-size=\"14.00\">0</text>\n",
       "</g>\n",
       "<!-- 250 -->\n",
       "<g id=\"node251\" class=\"node\">\n",
       "<title>250</title>\n",
       "<text text-anchor=\"middle\" x=\"2486.5\" y=\"-1719.8\" font-family=\"Times,serif\" font-size=\"14.00\">?</text>\n",
       "</g>\n",
       "<!-- 196&#45;&gt;250 -->\n",
       "<g id=\"edge250\" class=\"edge\">\n",
       "<title>196&#45;&gt;250</title>\n",
       "<path fill=\"none\" stroke=\"blue\" d=\"M2404.9,-1781.89C2421.6,-1770.14 2456.43,-1745.65 2474.71,-1732.79\"/>\n",
       "<polygon fill=\"blue\" stroke=\"blue\" points=\"2476.78,-1735.61 2482.95,-1727 2472.76,-1729.89 2476.78,-1735.61\"/>\n",
       "<text text-anchor=\"middle\" x=\"2453.5\" y=\"-1752.8\" font-family=\"Times,serif\" font-size=\"14.00\">1</text>\n",
       "</g>\n",
       "<!-- 198 -->\n",
       "<g id=\"node199\" class=\"node\">\n",
       "<title>198</title>\n",
       "<text text-anchor=\"middle\" x=\"2198.5\" y=\"-1653.8\" font-family=\"Times,serif\" font-size=\"14.00\">(46) str.substr(cgi_decode_s_str_1, 14, 1) == &quot;D&quot;</text>\n",
       "</g>\n",
       "<!-- 197&#45;&gt;198 -->\n",
       "<g id=\"edge198\" class=\"edge\">\n",
       "<title>197&#45;&gt;198</title>\n",
       "<path fill=\"none\" stroke=\"red\" d=\"M2313.28,-1715.89C2291.44,-1704.97 2247.56,-1683.03 2220.83,-1669.67\"/>\n",
       "<polygon fill=\"red\" stroke=\"red\" points=\"2222.35,-1666.51 2211.84,-1665.17 2219.22,-1672.77 2222.35,-1666.51\"/>\n",
       "<text text-anchor=\"middle\" x=\"2278.5\" y=\"-1686.8\" font-family=\"Times,serif\" font-size=\"14.00\">0</text>\n",
       "</g>\n",
       "<!-- 249 -->\n",
       "<g id=\"node250\" class=\"node\">\n",
       "<title>249</title>\n",
       "<text text-anchor=\"middle\" x=\"2358.5\" y=\"-1653.8\" font-family=\"Times,serif\" font-size=\"14.00\">?</text>\n",
       "</g>\n",
       "<!-- 197&#45;&gt;249 -->\n",
       "<g id=\"edge249\" class=\"edge\">\n",
       "<title>197&#45;&gt;249</title>\n",
       "<path fill=\"none\" stroke=\"blue\" d=\"M2329.92,-1715.65C2334.81,-1705.88 2343.92,-1687.66 2350.54,-1674.41\"/>\n",
       "<polygon fill=\"blue\" stroke=\"blue\" points=\"2353.85,-1675.62 2355.2,-1665.11 2347.59,-1672.49 2353.85,-1675.62\"/>\n",
       "<text text-anchor=\"middle\" x=\"2349.5\" y=\"-1686.8\" font-family=\"Times,serif\" font-size=\"14.00\">1</text>\n",
       "</g>\n",
       "<!-- 199 -->\n",
       "<g id=\"node200\" class=\"node\">\n",
       "<title>199</title>\n",
       "<text text-anchor=\"middle\" x=\"2086.5\" y=\"-1587.8\" font-family=\"Times,serif\" font-size=\"14.00\">(47) str.substr(cgi_decode_s_str_1, 14, 1) == &quot;E&quot;</text>\n",
       "</g>\n",
       "<!-- 198&#45;&gt;199 -->\n",
       "<g id=\"edge199\" class=\"edge\">\n",
       "<title>198&#45;&gt;199</title>\n",
       "<path fill=\"none\" stroke=\"red\" d=\"M2186.94,-1649.89C2168.07,-1639.11 2130.44,-1617.61 2106.97,-1604.2\"/>\n",
       "<polygon fill=\"red\" stroke=\"red\" points=\"2108.59,-1601.09 2098.17,-1599.17 2105.11,-1607.17 2108.59,-1601.09\"/>\n",
       "<text text-anchor=\"middle\" x=\"2157.5\" y=\"-1620.8\" font-family=\"Times,serif\" font-size=\"14.00\">0</text>\n",
       "</g>\n",
       "<!-- 248 -->\n",
       "<g id=\"node249\" class=\"node\">\n",
       "<title>248</title>\n",
       "<text text-anchor=\"middle\" x=\"2246.5\" y=\"-1587.8\" font-family=\"Times,serif\" font-size=\"14.00\">?</text>\n",
       "</g>\n",
       "<!-- 198&#45;&gt;248 -->\n",
       "<g id=\"edge248\" class=\"edge\">\n",
       "<title>198&#45;&gt;248</title>\n",
       "<path fill=\"none\" stroke=\"blue\" d=\"M2203.64,-1649.65C2211.5,-1639.17 2226.66,-1618.96 2236.68,-1605.6\"/>\n",
       "<polygon fill=\"blue\" stroke=\"blue\" points=\"2239.69,-1607.42 2242.89,-1597.32 2234.09,-1603.22 2239.69,-1607.42\"/>\n",
       "<text text-anchor=\"middle\" x=\"2231.5\" y=\"-1620.8\" font-family=\"Times,serif\" font-size=\"14.00\">1</text>\n",
       "</g>\n",
       "<!-- 200 -->\n",
       "<g id=\"node201\" class=\"node\">\n",
       "<title>200</title>\n",
       "<text text-anchor=\"middle\" x=\"1975.5\" y=\"-1521.8\" font-family=\"Times,serif\" font-size=\"14.00\">(48) str.substr(cgi_decode_s_str_1, 14, 1) == &quot;F&quot;</text>\n",
       "</g>\n",
       "<!-- 199&#45;&gt;200 -->\n",
       "<g id=\"edge200\" class=\"edge\">\n",
       "<title>199&#45;&gt;200</title>\n",
       "<path fill=\"none\" stroke=\"red\" d=\"M2075.04,-1583.89C2056.34,-1573.11 2019.04,-1551.61 1995.79,-1538.2\"/>\n",
       "<polygon fill=\"red\" stroke=\"red\" points=\"1997.48,-1535.13 1987.06,-1533.17 1993.98,-1541.2 1997.48,-1535.13\"/>\n",
       "<text text-anchor=\"middle\" x=\"2045.5\" y=\"-1554.8\" font-family=\"Times,serif\" font-size=\"14.00\">0</text>\n",
       "</g>\n",
       "<!-- 247 -->\n",
       "<g id=\"node248\" class=\"node\">\n",
       "<title>247</title>\n",
       "<text text-anchor=\"middle\" x=\"2134.5\" y=\"-1521.8\" font-family=\"Times,serif\" font-size=\"14.00\">?</text>\n",
       "</g>\n",
       "<!-- 199&#45;&gt;247 -->\n",
       "<g id=\"edge247\" class=\"edge\">\n",
       "<title>199&#45;&gt;247</title>\n",
       "<path fill=\"none\" stroke=\"blue\" d=\"M2091.64,-1583.65C2099.5,-1573.17 2114.66,-1552.96 2124.68,-1539.6\"/>\n",
       "<polygon fill=\"blue\" stroke=\"blue\" points=\"2127.69,-1541.42 2130.89,-1531.32 2122.09,-1537.22 2127.69,-1541.42\"/>\n",
       "<text text-anchor=\"middle\" x=\"2119.5\" y=\"-1554.8\" font-family=\"Times,serif\" font-size=\"14.00\">1</text>\n",
       "</g>\n",
       "<!-- 201 -->\n",
       "<g id=\"node202\" class=\"node\">\n",
       "<title>201</title>\n",
       "<text text-anchor=\"middle\" x=\"1864.5\" y=\"-1455.8\" font-family=\"Times,serif\" font-size=\"14.00\">(49) str.substr(cgi_decode_s_str_1, 15, 1) == &quot;0&quot;</text>\n",
       "</g>\n",
       "<!-- 200&#45;&gt;201 -->\n",
       "<g id=\"edge201\" class=\"edge\">\n",
       "<title>200&#45;&gt;201</title>\n",
       "<path fill=\"none\" stroke=\"red\" d=\"M1964.04,-1517.89C1945.34,-1507.11 1908.04,-1485.61 1884.79,-1472.2\"/>\n",
       "<polygon fill=\"red\" stroke=\"red\" points=\"1886.48,-1469.13 1876.06,-1467.17 1882.98,-1475.2 1886.48,-1469.13\"/>\n",
       "<text text-anchor=\"middle\" x=\"1934.5\" y=\"-1488.8\" font-family=\"Times,serif\" font-size=\"14.00\">0</text>\n",
       "</g>\n",
       "<!-- 246 -->\n",
       "<g id=\"node247\" class=\"node\">\n",
       "<title>246</title>\n",
       "<text text-anchor=\"middle\" x=\"2023.5\" y=\"-1455.8\" font-family=\"Times,serif\" font-size=\"14.00\">?</text>\n",
       "</g>\n",
       "<!-- 200&#45;&gt;246 -->\n",
       "<g id=\"edge246\" class=\"edge\">\n",
       "<title>200&#45;&gt;246</title>\n",
       "<path fill=\"none\" stroke=\"blue\" d=\"M1980.64,-1517.65C1988.5,-1507.17 2003.66,-1486.96 2013.68,-1473.6\"/>\n",
       "<polygon fill=\"blue\" stroke=\"blue\" points=\"2016.69,-1475.42 2019.89,-1465.32 2011.09,-1471.22 2016.69,-1475.42\"/>\n",
       "<text text-anchor=\"middle\" x=\"2008.5\" y=\"-1488.8\" font-family=\"Times,serif\" font-size=\"14.00\">1</text>\n",
       "</g>\n",
       "<!-- 202 -->\n",
       "<g id=\"node203\" class=\"node\">\n",
       "<title>202</title>\n",
       "<text text-anchor=\"middle\" x=\"1785.5\" y=\"-1389.8\" font-family=\"Times,serif\" font-size=\"14.00\">(50) str.substr(cgi_decode_s_str_1, 15, 1) == &quot;1&quot;</text>\n",
       "</g>\n",
       "<!-- 201&#45;&gt;202 -->\n",
       "<g id=\"edge202\" class=\"edge\">\n",
       "<title>201&#45;&gt;202</title>\n",
       "<path fill=\"none\" stroke=\"red\" d=\"M1856.34,-1451.89C1843.45,-1441.45 1818.13,-1420.93 1801.51,-1407.47\"/>\n",
       "<polygon fill=\"red\" stroke=\"red\" points=\"1803.7,-1404.74 1793.73,-1401.17 1799.3,-1410.18 1803.7,-1404.74\"/>\n",
       "<text text-anchor=\"middle\" x=\"1836.5\" y=\"-1422.8\" font-family=\"Times,serif\" font-size=\"14.00\">0</text>\n",
       "</g>\n",
       "<!-- 245 -->\n",
       "<g id=\"node246\" class=\"node\">\n",
       "<title>245</title>\n",
       "<text text-anchor=\"middle\" x=\"1944.5\" y=\"-1389.8\" font-family=\"Times,serif\" font-size=\"14.00\">?</text>\n",
       "</g>\n",
       "<!-- 201&#45;&gt;245 -->\n",
       "<g id=\"edge245\" class=\"edge\">\n",
       "<title>201&#45;&gt;245</title>\n",
       "<path fill=\"none\" stroke=\"blue\" d=\"M1872.76,-1451.89C1887.04,-1440.47 1916.4,-1416.98 1932.78,-1403.87\"/>\n",
       "<polygon fill=\"blue\" stroke=\"blue\" points=\"1935.1,-1406.5 1940.72,-1397.52 1930.73,-1401.04 1935.1,-1406.5\"/>\n",
       "<text text-anchor=\"middle\" x=\"1916.5\" y=\"-1422.8\" font-family=\"Times,serif\" font-size=\"14.00\">1</text>\n",
       "</g>\n",
       "<!-- 203 -->\n",
       "<g id=\"node204\" class=\"node\">\n",
       "<title>203</title>\n",
       "<text text-anchor=\"middle\" x=\"1674.5\" y=\"-1323.8\" font-family=\"Times,serif\" font-size=\"14.00\">(51) str.substr(cgi_decode_s_str_1, 15, 1) == &quot;2&quot;</text>\n",
       "</g>\n",
       "<!-- 202&#45;&gt;203 -->\n",
       "<g id=\"edge203\" class=\"edge\">\n",
       "<title>202&#45;&gt;203</title>\n",
       "<path fill=\"none\" stroke=\"red\" d=\"M1774.04,-1385.89C1755.34,-1375.11 1718.04,-1353.61 1694.79,-1340.2\"/>\n",
       "<polygon fill=\"red\" stroke=\"red\" points=\"1696.48,-1337.13 1686.06,-1335.17 1692.98,-1343.2 1696.48,-1337.13\"/>\n",
       "<text text-anchor=\"middle\" x=\"1744.5\" y=\"-1356.8\" font-family=\"Times,serif\" font-size=\"14.00\">0</text>\n",
       "</g>\n",
       "<!-- 244 -->\n",
       "<g id=\"node245\" class=\"node\">\n",
       "<title>244</title>\n",
       "<text text-anchor=\"middle\" x=\"1833.5\" y=\"-1323.8\" font-family=\"Times,serif\" font-size=\"14.00\">?</text>\n",
       "</g>\n",
       "<!-- 202&#45;&gt;244 -->\n",
       "<g id=\"edge244\" class=\"edge\">\n",
       "<title>202&#45;&gt;244</title>\n",
       "<path fill=\"none\" stroke=\"blue\" d=\"M1790.64,-1385.65C1798.5,-1375.17 1813.66,-1354.96 1823.68,-1341.6\"/>\n",
       "<polygon fill=\"blue\" stroke=\"blue\" points=\"1826.69,-1343.42 1829.89,-1333.32 1821.09,-1339.22 1826.69,-1343.42\"/>\n",
       "<text text-anchor=\"middle\" x=\"1818.5\" y=\"-1356.8\" font-family=\"Times,serif\" font-size=\"14.00\">1</text>\n",
       "</g>\n",
       "<!-- 204 -->\n",
       "<g id=\"node205\" class=\"node\">\n",
       "<title>204</title>\n",
       "<text text-anchor=\"middle\" x=\"1595.5\" y=\"-1257.8\" font-family=\"Times,serif\" font-size=\"14.00\">(52) str.substr(cgi_decode_s_str_1, 15, 1) == &quot;3&quot;</text>\n",
       "</g>\n",
       "<!-- 203&#45;&gt;204 -->\n",
       "<g id=\"edge204\" class=\"edge\">\n",
       "<title>203&#45;&gt;204</title>\n",
       "<path fill=\"none\" stroke=\"red\" d=\"M1666.34,-1319.89C1653.45,-1309.45 1628.13,-1288.93 1611.51,-1275.47\"/>\n",
       "<polygon fill=\"red\" stroke=\"red\" points=\"1613.7,-1272.74 1603.73,-1269.17 1609.3,-1278.18 1613.7,-1272.74\"/>\n",
       "<text text-anchor=\"middle\" x=\"1646.5\" y=\"-1290.8\" font-family=\"Times,serif\" font-size=\"14.00\">0</text>\n",
       "</g>\n",
       "<!-- 243 -->\n",
       "<g id=\"node244\" class=\"node\">\n",
       "<title>243</title>\n",
       "<text text-anchor=\"middle\" x=\"1754.5\" y=\"-1257.8\" font-family=\"Times,serif\" font-size=\"14.00\">?</text>\n",
       "</g>\n",
       "<!-- 203&#45;&gt;243 -->\n",
       "<g id=\"edge243\" class=\"edge\">\n",
       "<title>203&#45;&gt;243</title>\n",
       "<path fill=\"none\" stroke=\"blue\" d=\"M1682.76,-1319.89C1697.04,-1308.47 1726.4,-1284.98 1742.78,-1271.87\"/>\n",
       "<polygon fill=\"blue\" stroke=\"blue\" points=\"1745.1,-1274.5 1750.72,-1265.52 1740.73,-1269.04 1745.1,-1274.5\"/>\n",
       "<text text-anchor=\"middle\" x=\"1726.5\" y=\"-1290.8\" font-family=\"Times,serif\" font-size=\"14.00\">1</text>\n",
       "</g>\n",
       "<!-- 205 -->\n",
       "<g id=\"node206\" class=\"node\">\n",
       "<title>205</title>\n",
       "<text text-anchor=\"middle\" x=\"1516.5\" y=\"-1191.8\" font-family=\"Times,serif\" font-size=\"14.00\">(53) str.substr(cgi_decode_s_str_1, 15, 1) == &quot;4&quot;</text>\n",
       "</g>\n",
       "<!-- 204&#45;&gt;205 -->\n",
       "<g id=\"edge205\" class=\"edge\">\n",
       "<title>204&#45;&gt;205</title>\n",
       "<path fill=\"none\" stroke=\"red\" d=\"M1587.34,-1253.89C1574.45,-1243.45 1549.13,-1222.93 1532.51,-1209.47\"/>\n",
       "<polygon fill=\"red\" stroke=\"red\" points=\"1534.7,-1206.74 1524.73,-1203.17 1530.3,-1212.18 1534.7,-1206.74\"/>\n",
       "<text text-anchor=\"middle\" x=\"1567.5\" y=\"-1224.8\" font-family=\"Times,serif\" font-size=\"14.00\">0</text>\n",
       "</g>\n",
       "<!-- 242 -->\n",
       "<g id=\"node243\" class=\"node\">\n",
       "<title>242</title>\n",
       "<text text-anchor=\"middle\" x=\"1675.5\" y=\"-1191.8\" font-family=\"Times,serif\" font-size=\"14.00\">?</text>\n",
       "</g>\n",
       "<!-- 204&#45;&gt;242 -->\n",
       "<g id=\"edge242\" class=\"edge\">\n",
       "<title>204&#45;&gt;242</title>\n",
       "<path fill=\"none\" stroke=\"blue\" d=\"M1603.76,-1253.89C1618.04,-1242.47 1647.4,-1218.98 1663.78,-1205.87\"/>\n",
       "<polygon fill=\"blue\" stroke=\"blue\" points=\"1666.1,-1208.5 1671.72,-1199.52 1661.73,-1203.04 1666.1,-1208.5\"/>\n",
       "<text text-anchor=\"middle\" x=\"1647.5\" y=\"-1224.8\" font-family=\"Times,serif\" font-size=\"14.00\">1</text>\n",
       "</g>\n",
       "<!-- 206 -->\n",
       "<g id=\"node207\" class=\"node\">\n",
       "<title>206</title>\n",
       "<text text-anchor=\"middle\" x=\"1437.5\" y=\"-1125.8\" font-family=\"Times,serif\" font-size=\"14.00\">(54) str.substr(cgi_decode_s_str_1, 15, 1) == &quot;5&quot;</text>\n",
       "</g>\n",
       "<!-- 205&#45;&gt;206 -->\n",
       "<g id=\"edge206\" class=\"edge\">\n",
       "<title>205&#45;&gt;206</title>\n",
       "<path fill=\"none\" stroke=\"red\" d=\"M1508.34,-1187.89C1495.45,-1177.45 1470.13,-1156.93 1453.51,-1143.47\"/>\n",
       "<polygon fill=\"red\" stroke=\"red\" points=\"1455.7,-1140.74 1445.73,-1137.17 1451.3,-1146.18 1455.7,-1140.74\"/>\n",
       "<text text-anchor=\"middle\" x=\"1488.5\" y=\"-1158.8\" font-family=\"Times,serif\" font-size=\"14.00\">0</text>\n",
       "</g>\n",
       "<!-- 241 -->\n",
       "<g id=\"node242\" class=\"node\">\n",
       "<title>241</title>\n",
       "<text text-anchor=\"middle\" x=\"1596.5\" y=\"-1125.8\" font-family=\"Times,serif\" font-size=\"14.00\">?</text>\n",
       "</g>\n",
       "<!-- 205&#45;&gt;241 -->\n",
       "<g id=\"edge241\" class=\"edge\">\n",
       "<title>205&#45;&gt;241</title>\n",
       "<path fill=\"none\" stroke=\"blue\" d=\"M1524.76,-1187.89C1539.04,-1176.47 1568.4,-1152.98 1584.78,-1139.87\"/>\n",
       "<polygon fill=\"blue\" stroke=\"blue\" points=\"1587.1,-1142.5 1592.72,-1133.52 1582.73,-1137.04 1587.1,-1142.5\"/>\n",
       "<text text-anchor=\"middle\" x=\"1568.5\" y=\"-1158.8\" font-family=\"Times,serif\" font-size=\"14.00\">1</text>\n",
       "</g>\n",
       "<!-- 207 -->\n",
       "<g id=\"node208\" class=\"node\">\n",
       "<title>207</title>\n",
       "<text text-anchor=\"middle\" x=\"1358.5\" y=\"-1059.8\" font-family=\"Times,serif\" font-size=\"14.00\">(55) str.substr(cgi_decode_s_str_1, 15, 1) == &quot;6&quot;</text>\n",
       "</g>\n",
       "<!-- 206&#45;&gt;207 -->\n",
       "<g id=\"edge207\" class=\"edge\">\n",
       "<title>206&#45;&gt;207</title>\n",
       "<path fill=\"none\" stroke=\"red\" d=\"M1429.34,-1121.89C1416.45,-1111.45 1391.13,-1090.93 1374.51,-1077.47\"/>\n",
       "<polygon fill=\"red\" stroke=\"red\" points=\"1376.7,-1074.74 1366.73,-1071.17 1372.3,-1080.18 1376.7,-1074.74\"/>\n",
       "<text text-anchor=\"middle\" x=\"1409.5\" y=\"-1092.8\" font-family=\"Times,serif\" font-size=\"14.00\">0</text>\n",
       "</g>\n",
       "<!-- 240 -->\n",
       "<g id=\"node241\" class=\"node\">\n",
       "<title>240</title>\n",
       "<text text-anchor=\"middle\" x=\"1517.5\" y=\"-1059.8\" font-family=\"Times,serif\" font-size=\"14.00\">?</text>\n",
       "</g>\n",
       "<!-- 206&#45;&gt;240 -->\n",
       "<g id=\"edge240\" class=\"edge\">\n",
       "<title>206&#45;&gt;240</title>\n",
       "<path fill=\"none\" stroke=\"blue\" d=\"M1445.76,-1121.89C1460.04,-1110.47 1489.4,-1086.98 1505.78,-1073.87\"/>\n",
       "<polygon fill=\"blue\" stroke=\"blue\" points=\"1508.1,-1076.5 1513.72,-1067.52 1503.73,-1071.04 1508.1,-1076.5\"/>\n",
       "<text text-anchor=\"middle\" x=\"1489.5\" y=\"-1092.8\" font-family=\"Times,serif\" font-size=\"14.00\">1</text>\n",
       "</g>\n",
       "<!-- 208 -->\n",
       "<g id=\"node209\" class=\"node\">\n",
       "<title>208</title>\n",
       "<text text-anchor=\"middle\" x=\"1279.5\" y=\"-993.8\" font-family=\"Times,serif\" font-size=\"14.00\">(56) str.substr(cgi_decode_s_str_1, 15, 1) == &quot;7&quot;</text>\n",
       "</g>\n",
       "<!-- 207&#45;&gt;208 -->\n",
       "<g id=\"edge208\" class=\"edge\">\n",
       "<title>207&#45;&gt;208</title>\n",
       "<path fill=\"none\" stroke=\"red\" d=\"M1350.34,-1055.89C1337.45,-1045.45 1312.13,-1024.93 1295.51,-1011.47\"/>\n",
       "<polygon fill=\"red\" stroke=\"red\" points=\"1297.7,-1008.74 1287.73,-1005.17 1293.3,-1014.18 1297.7,-1008.74\"/>\n",
       "<text text-anchor=\"middle\" x=\"1330.5\" y=\"-1026.8\" font-family=\"Times,serif\" font-size=\"14.00\">0</text>\n",
       "</g>\n",
       "<!-- 239 -->\n",
       "<g id=\"node240\" class=\"node\">\n",
       "<title>239</title>\n",
       "<text text-anchor=\"middle\" x=\"1438.5\" y=\"-993.8\" font-family=\"Times,serif\" font-size=\"14.00\">?</text>\n",
       "</g>\n",
       "<!-- 207&#45;&gt;239 -->\n",
       "<g id=\"edge239\" class=\"edge\">\n",
       "<title>207&#45;&gt;239</title>\n",
       "<path fill=\"none\" stroke=\"blue\" d=\"M1366.76,-1055.89C1381.04,-1044.47 1410.4,-1020.98 1426.78,-1007.87\"/>\n",
       "<polygon fill=\"blue\" stroke=\"blue\" points=\"1429.1,-1010.5 1434.72,-1001.52 1424.73,-1005.04 1429.1,-1010.5\"/>\n",
       "<text text-anchor=\"middle\" x=\"1410.5\" y=\"-1026.8\" font-family=\"Times,serif\" font-size=\"14.00\">1</text>\n",
       "</g>\n",
       "<!-- 209 -->\n",
       "<g id=\"node210\" class=\"node\">\n",
       "<title>209</title>\n",
       "<text text-anchor=\"middle\" x=\"1200.5\" y=\"-927.8\" font-family=\"Times,serif\" font-size=\"14.00\">(57) str.substr(cgi_decode_s_str_1, 15, 1) == &quot;8&quot;</text>\n",
       "</g>\n",
       "<!-- 208&#45;&gt;209 -->\n",
       "<g id=\"edge209\" class=\"edge\">\n",
       "<title>208&#45;&gt;209</title>\n",
       "<path fill=\"none\" stroke=\"red\" d=\"M1271.34,-989.89C1258.45,-979.45 1233.13,-958.93 1216.51,-945.47\"/>\n",
       "<polygon fill=\"red\" stroke=\"red\" points=\"1218.7,-942.74 1208.73,-939.17 1214.3,-948.18 1218.7,-942.74\"/>\n",
       "<text text-anchor=\"middle\" x=\"1251.5\" y=\"-960.8\" font-family=\"Times,serif\" font-size=\"14.00\">0</text>\n",
       "</g>\n",
       "<!-- 238 -->\n",
       "<g id=\"node239\" class=\"node\">\n",
       "<title>238</title>\n",
       "<text text-anchor=\"middle\" x=\"1359.5\" y=\"-927.8\" font-family=\"Times,serif\" font-size=\"14.00\">?</text>\n",
       "</g>\n",
       "<!-- 208&#45;&gt;238 -->\n",
       "<g id=\"edge238\" class=\"edge\">\n",
       "<title>208&#45;&gt;238</title>\n",
       "<path fill=\"none\" stroke=\"blue\" d=\"M1287.76,-989.89C1302.04,-978.47 1331.4,-954.98 1347.78,-941.87\"/>\n",
       "<polygon fill=\"blue\" stroke=\"blue\" points=\"1350.1,-944.5 1355.72,-935.52 1345.73,-939.04 1350.1,-944.5\"/>\n",
       "<text text-anchor=\"middle\" x=\"1331.5\" y=\"-960.8\" font-family=\"Times,serif\" font-size=\"14.00\">1</text>\n",
       "</g>\n",
       "<!-- 210 -->\n",
       "<g id=\"node211\" class=\"node\">\n",
       "<title>210</title>\n",
       "<text text-anchor=\"middle\" x=\"1121.5\" y=\"-861.8\" font-family=\"Times,serif\" font-size=\"14.00\">(58) str.substr(cgi_decode_s_str_1, 15, 1) == &quot;9&quot;</text>\n",
       "</g>\n",
       "<!-- 209&#45;&gt;210 -->\n",
       "<g id=\"edge210\" class=\"edge\">\n",
       "<title>209&#45;&gt;210</title>\n",
       "<path fill=\"none\" stroke=\"red\" d=\"M1192.34,-923.89C1179.45,-913.45 1154.13,-892.93 1137.51,-879.47\"/>\n",
       "<polygon fill=\"red\" stroke=\"red\" points=\"1139.7,-876.74 1129.73,-873.17 1135.3,-882.18 1139.7,-876.74\"/>\n",
       "<text text-anchor=\"middle\" x=\"1172.5\" y=\"-894.8\" font-family=\"Times,serif\" font-size=\"14.00\">0</text>\n",
       "</g>\n",
       "<!-- 237 -->\n",
       "<g id=\"node238\" class=\"node\">\n",
       "<title>237</title>\n",
       "<text text-anchor=\"middle\" x=\"1280.5\" y=\"-861.8\" font-family=\"Times,serif\" font-size=\"14.00\">?</text>\n",
       "</g>\n",
       "<!-- 209&#45;&gt;237 -->\n",
       "<g id=\"edge237\" class=\"edge\">\n",
       "<title>209&#45;&gt;237</title>\n",
       "<path fill=\"none\" stroke=\"blue\" d=\"M1208.76,-923.89C1223.04,-912.47 1252.4,-888.98 1268.78,-875.87\"/>\n",
       "<polygon fill=\"blue\" stroke=\"blue\" points=\"1271.1,-878.5 1276.72,-869.52 1266.73,-873.04 1271.1,-878.5\"/>\n",
       "<text text-anchor=\"middle\" x=\"1252.5\" y=\"-894.8\" font-family=\"Times,serif\" font-size=\"14.00\">1</text>\n",
       "</g>\n",
       "<!-- 211 -->\n",
       "<g id=\"node212\" class=\"node\">\n",
       "<title>211</title>\n",
       "<text text-anchor=\"middle\" x=\"1042.5\" y=\"-795.8\" font-family=\"Times,serif\" font-size=\"14.00\">(59) str.substr(cgi_decode_s_str_1, 15, 1) == &quot;a&quot;</text>\n",
       "</g>\n",
       "<!-- 210&#45;&gt;211 -->\n",
       "<g id=\"edge211\" class=\"edge\">\n",
       "<title>210&#45;&gt;211</title>\n",
       "<path fill=\"none\" stroke=\"red\" d=\"M1113.34,-857.89C1100.45,-847.45 1075.13,-826.93 1058.51,-813.47\"/>\n",
       "<polygon fill=\"red\" stroke=\"red\" points=\"1060.7,-810.74 1050.73,-807.17 1056.3,-816.18 1060.7,-810.74\"/>\n",
       "<text text-anchor=\"middle\" x=\"1093.5\" y=\"-828.8\" font-family=\"Times,serif\" font-size=\"14.00\">0</text>\n",
       "</g>\n",
       "<!-- 236 -->\n",
       "<g id=\"node237\" class=\"node\">\n",
       "<title>236</title>\n",
       "<text text-anchor=\"middle\" x=\"1200.5\" y=\"-795.8\" font-family=\"Times,serif\" font-size=\"14.00\">?</text>\n",
       "</g>\n",
       "<!-- 210&#45;&gt;236 -->\n",
       "<g id=\"edge236\" class=\"edge\">\n",
       "<title>210&#45;&gt;236</title>\n",
       "<path fill=\"none\" stroke=\"blue\" d=\"M1129.66,-857.89C1143.76,-846.47 1172.75,-822.98 1188.93,-809.87\"/>\n",
       "<polygon fill=\"blue\" stroke=\"blue\" points=\"1191.2,-812.54 1196.77,-803.52 1186.79,-807.1 1191.2,-812.54\"/>\n",
       "<text text-anchor=\"middle\" x=\"1172.5\" y=\"-828.8\" font-family=\"Times,serif\" font-size=\"14.00\">1</text>\n",
       "</g>\n",
       "<!-- 212 -->\n",
       "<g id=\"node213\" class=\"node\">\n",
       "<title>212</title>\n",
       "<text text-anchor=\"middle\" x=\"963.5\" y=\"-729.8\" font-family=\"Times,serif\" font-size=\"14.00\">(60) str.substr(cgi_decode_s_str_1, 15, 1) == &quot;b&quot;</text>\n",
       "</g>\n",
       "<!-- 211&#45;&gt;212 -->\n",
       "<g id=\"edge212\" class=\"edge\">\n",
       "<title>211&#45;&gt;212</title>\n",
       "<path fill=\"none\" stroke=\"red\" d=\"M1034.34,-791.89C1021.45,-781.45 996.13,-760.93 979.51,-747.47\"/>\n",
       "<polygon fill=\"red\" stroke=\"red\" points=\"981.7,-744.74 971.73,-741.17 977.3,-750.18 981.7,-744.74\"/>\n",
       "<text text-anchor=\"middle\" x=\"1014.5\" y=\"-762.8\" font-family=\"Times,serif\" font-size=\"14.00\">0</text>\n",
       "</g>\n",
       "<!-- 235 -->\n",
       "<g id=\"node236\" class=\"node\">\n",
       "<title>235</title>\n",
       "<text text-anchor=\"middle\" x=\"1122.5\" y=\"-729.8\" font-family=\"Times,serif\" font-size=\"14.00\">?</text>\n",
       "</g>\n",
       "<!-- 211&#45;&gt;235 -->\n",
       "<g id=\"edge235\" class=\"edge\">\n",
       "<title>211&#45;&gt;235</title>\n",
       "<path fill=\"none\" stroke=\"blue\" d=\"M1050.76,-791.89C1065.04,-780.47 1094.4,-756.98 1110.78,-743.87\"/>\n",
       "<polygon fill=\"blue\" stroke=\"blue\" points=\"1113.1,-746.5 1118.72,-737.52 1108.73,-741.04 1113.1,-746.5\"/>\n",
       "<text text-anchor=\"middle\" x=\"1094.5\" y=\"-762.8\" font-family=\"Times,serif\" font-size=\"14.00\">1</text>\n",
       "</g>\n",
       "<!-- 213 -->\n",
       "<g id=\"node214\" class=\"node\">\n",
       "<title>213</title>\n",
       "<text text-anchor=\"middle\" x=\"853.5\" y=\"-663.8\" font-family=\"Times,serif\" font-size=\"14.00\">(61) str.substr(cgi_decode_s_str_1, 15, 1) == &quot;c&quot;</text>\n",
       "</g>\n",
       "<!-- 212&#45;&gt;213 -->\n",
       "<g id=\"edge213\" class=\"edge\">\n",
       "<title>212&#45;&gt;213</title>\n",
       "<path fill=\"none\" stroke=\"red\" d=\"M952.14,-725.89C933.62,-715.11 896.65,-693.61 873.61,-680.2\"/>\n",
       "<polygon fill=\"red\" stroke=\"red\" points=\"875.36,-677.17 864.96,-675.17 871.84,-683.22 875.36,-677.17\"/>\n",
       "<text text-anchor=\"middle\" x=\"922.5\" y=\"-696.8\" font-family=\"Times,serif\" font-size=\"14.00\">0</text>\n",
       "</g>\n",
       "<!-- 234 -->\n",
       "<g id=\"node235\" class=\"node\">\n",
       "<title>234</title>\n",
       "<text text-anchor=\"middle\" x=\"1011.5\" y=\"-663.8\" font-family=\"Times,serif\" font-size=\"14.00\">?</text>\n",
       "</g>\n",
       "<!-- 212&#45;&gt;234 -->\n",
       "<g id=\"edge234\" class=\"edge\">\n",
       "<title>212&#45;&gt;234</title>\n",
       "<path fill=\"none\" stroke=\"blue\" d=\"M968.64,-725.65C976.5,-715.17 991.66,-694.96 1001.68,-681.6\"/>\n",
       "<polygon fill=\"blue\" stroke=\"blue\" points=\"1004.69,-683.42 1007.89,-673.32 999.09,-679.22 1004.69,-683.42\"/>\n",
       "<text text-anchor=\"middle\" x=\"996.5\" y=\"-696.8\" font-family=\"Times,serif\" font-size=\"14.00\">1</text>\n",
       "</g>\n",
       "<!-- 214 -->\n",
       "<g id=\"node215\" class=\"node\">\n",
       "<title>214</title>\n",
       "<text text-anchor=\"middle\" x=\"774.5\" y=\"-597.8\" font-family=\"Times,serif\" font-size=\"14.00\">(62) str.substr(cgi_decode_s_str_1, 15, 1) == &quot;d&quot;</text>\n",
       "</g>\n",
       "<!-- 213&#45;&gt;214 -->\n",
       "<g id=\"edge214\" class=\"edge\">\n",
       "<title>213&#45;&gt;214</title>\n",
       "<path fill=\"none\" stroke=\"red\" d=\"M845.34,-659.89C832.45,-649.45 807.13,-628.93 790.51,-615.47\"/>\n",
       "<polygon fill=\"red\" stroke=\"red\" points=\"792.7,-612.74 782.73,-609.17 788.3,-618.18 792.7,-612.74\"/>\n",
       "<text text-anchor=\"middle\" x=\"825.5\" y=\"-630.8\" font-family=\"Times,serif\" font-size=\"14.00\">0</text>\n",
       "</g>\n",
       "<!-- 233 -->\n",
       "<g id=\"node234\" class=\"node\">\n",
       "<title>233</title>\n",
       "<text text-anchor=\"middle\" x=\"933.5\" y=\"-597.8\" font-family=\"Times,serif\" font-size=\"14.00\">?</text>\n",
       "</g>\n",
       "<!-- 213&#45;&gt;233 -->\n",
       "<g id=\"edge233\" class=\"edge\">\n",
       "<title>213&#45;&gt;233</title>\n",
       "<path fill=\"none\" stroke=\"blue\" d=\"M861.76,-659.89C876.04,-648.47 905.4,-624.98 921.78,-611.87\"/>\n",
       "<polygon fill=\"blue\" stroke=\"blue\" points=\"924.1,-614.5 929.72,-605.52 919.73,-609.04 924.1,-614.5\"/>\n",
       "<text text-anchor=\"middle\" x=\"905.5\" y=\"-630.8\" font-family=\"Times,serif\" font-size=\"14.00\">1</text>\n",
       "</g>\n",
       "<!-- 215 -->\n",
       "<g id=\"node216\" class=\"node\">\n",
       "<title>215</title>\n",
       "<text text-anchor=\"middle\" x=\"695.5\" y=\"-531.8\" font-family=\"Times,serif\" font-size=\"14.00\">(63) str.substr(cgi_decode_s_str_1, 15, 1) == &quot;e&quot;</text>\n",
       "</g>\n",
       "<!-- 214&#45;&gt;215 -->\n",
       "<g id=\"edge215\" class=\"edge\">\n",
       "<title>214&#45;&gt;215</title>\n",
       "<path fill=\"none\" stroke=\"red\" d=\"M766.34,-593.89C753.45,-583.45 728.13,-562.93 711.51,-549.47\"/>\n",
       "<polygon fill=\"red\" stroke=\"red\" points=\"713.7,-546.74 703.73,-543.17 709.3,-552.18 713.7,-546.74\"/>\n",
       "<text text-anchor=\"middle\" x=\"746.5\" y=\"-564.8\" font-family=\"Times,serif\" font-size=\"14.00\">0</text>\n",
       "</g>\n",
       "<!-- 232 -->\n",
       "<g id=\"node233\" class=\"node\">\n",
       "<title>232</title>\n",
       "<text text-anchor=\"middle\" x=\"853.5\" y=\"-531.8\" font-family=\"Times,serif\" font-size=\"14.00\">?</text>\n",
       "</g>\n",
       "<!-- 214&#45;&gt;232 -->\n",
       "<g id=\"edge232\" class=\"edge\">\n",
       "<title>214&#45;&gt;232</title>\n",
       "<path fill=\"none\" stroke=\"blue\" d=\"M782.66,-593.89C796.76,-582.47 825.75,-558.98 841.93,-545.87\"/>\n",
       "<polygon fill=\"blue\" stroke=\"blue\" points=\"844.2,-548.54 849.77,-539.52 839.79,-543.1 844.2,-548.54\"/>\n",
       "<text text-anchor=\"middle\" x=\"825.5\" y=\"-564.8\" font-family=\"Times,serif\" font-size=\"14.00\">1</text>\n",
       "</g>\n",
       "<!-- 216 -->\n",
       "<g id=\"node217\" class=\"node\">\n",
       "<title>216</title>\n",
       "<text text-anchor=\"middle\" x=\"616.5\" y=\"-465.8\" font-family=\"Times,serif\" font-size=\"14.00\">(64) str.substr(cgi_decode_s_str_1, 15, 1) == &quot;f&quot;</text>\n",
       "</g>\n",
       "<!-- 215&#45;&gt;216 -->\n",
       "<g id=\"edge216\" class=\"edge\">\n",
       "<title>215&#45;&gt;216</title>\n",
       "<path fill=\"none\" stroke=\"red\" d=\"M687.34,-527.89C674.45,-517.45 649.13,-496.93 632.51,-483.47\"/>\n",
       "<polygon fill=\"red\" stroke=\"red\" points=\"634.7,-480.74 624.73,-477.17 630.3,-486.18 634.7,-480.74\"/>\n",
       "<text text-anchor=\"middle\" x=\"667.5\" y=\"-498.8\" font-family=\"Times,serif\" font-size=\"14.00\">0</text>\n",
       "</g>\n",
       "<!-- 231 -->\n",
       "<g id=\"node232\" class=\"node\">\n",
       "<title>231</title>\n",
       "<text text-anchor=\"middle\" x=\"774.5\" y=\"-465.8\" font-family=\"Times,serif\" font-size=\"14.00\">?</text>\n",
       "</g>\n",
       "<!-- 215&#45;&gt;231 -->\n",
       "<g id=\"edge231\" class=\"edge\">\n",
       "<title>215&#45;&gt;231</title>\n",
       "<path fill=\"none\" stroke=\"blue\" d=\"M703.66,-527.89C717.76,-516.47 746.75,-492.98 762.93,-479.87\"/>\n",
       "<polygon fill=\"blue\" stroke=\"blue\" points=\"765.2,-482.54 770.77,-473.52 760.79,-477.1 765.2,-482.54\"/>\n",
       "<text text-anchor=\"middle\" x=\"746.5\" y=\"-498.8\" font-family=\"Times,serif\" font-size=\"14.00\">1</text>\n",
       "</g>\n",
       "<!-- 217 -->\n",
       "<g id=\"node218\" class=\"node\">\n",
       "<title>217</title>\n",
       "<text text-anchor=\"middle\" x=\"536.5\" y=\"-399.8\" font-family=\"Times,serif\" font-size=\"14.00\">(65) str.substr(cgi_decode_s_str_1, 15, 1) == &quot;A&quot;</text>\n",
       "</g>\n",
       "<!-- 216&#45;&gt;217 -->\n",
       "<g id=\"edge217\" class=\"edge\">\n",
       "<title>216&#45;&gt;217</title>\n",
       "<path fill=\"none\" stroke=\"red\" d=\"M608.24,-461.89C595.19,-451.45 569.54,-430.93 552.72,-417.47\"/>\n",
       "<polygon fill=\"red\" stroke=\"red\" points=\"554.83,-414.68 544.84,-411.17 550.46,-420.15 554.83,-414.68\"/>\n",
       "<text text-anchor=\"middle\" x=\"588.5\" y=\"-432.8\" font-family=\"Times,serif\" font-size=\"14.00\">0</text>\n",
       "</g>\n",
       "<!-- 230 -->\n",
       "<g id=\"node231\" class=\"node\">\n",
       "<title>230</title>\n",
       "<text text-anchor=\"middle\" x=\"696.5\" y=\"-399.8\" font-family=\"Times,serif\" font-size=\"14.00\">?</text>\n",
       "</g>\n",
       "<!-- 216&#45;&gt;230 -->\n",
       "<g id=\"edge230\" class=\"edge\">\n",
       "<title>216&#45;&gt;230</title>\n",
       "<path fill=\"none\" stroke=\"blue\" d=\"M624.76,-461.89C639.04,-450.47 668.4,-426.98 684.78,-413.87\"/>\n",
       "<polygon fill=\"blue\" stroke=\"blue\" points=\"687.1,-416.5 692.72,-407.52 682.73,-411.04 687.1,-416.5\"/>\n",
       "<text text-anchor=\"middle\" x=\"668.5\" y=\"-432.8\" font-family=\"Times,serif\" font-size=\"14.00\">1</text>\n",
       "</g>\n",
       "<!-- 218 -->\n",
       "<g id=\"node219\" class=\"node\">\n",
       "<title>218</title>\n",
       "<text text-anchor=\"middle\" x=\"456.5\" y=\"-333.8\" font-family=\"Times,serif\" font-size=\"14.00\">(66) str.substr(cgi_decode_s_str_1, 15, 1) == &quot;B&quot;</text>\n",
       "</g>\n",
       "<!-- 217&#45;&gt;218 -->\n",
       "<g id=\"edge218\" class=\"edge\">\n",
       "<title>217&#45;&gt;218</title>\n",
       "<path fill=\"none\" stroke=\"red\" d=\"M528.24,-395.89C515.19,-385.45 489.54,-364.93 472.72,-351.47\"/>\n",
       "<polygon fill=\"red\" stroke=\"red\" points=\"474.83,-348.68 464.84,-345.17 470.46,-354.15 474.83,-348.68\"/>\n",
       "<text text-anchor=\"middle\" x=\"508.5\" y=\"-366.8\" font-family=\"Times,serif\" font-size=\"14.00\">0</text>\n",
       "</g>\n",
       "<!-- 229 -->\n",
       "<g id=\"node230\" class=\"node\">\n",
       "<title>229</title>\n",
       "<text text-anchor=\"middle\" x=\"616.5\" y=\"-333.8\" font-family=\"Times,serif\" font-size=\"14.00\">?</text>\n",
       "</g>\n",
       "<!-- 217&#45;&gt;229 -->\n",
       "<g id=\"edge229\" class=\"edge\">\n",
       "<title>217&#45;&gt;229</title>\n",
       "<path fill=\"none\" stroke=\"blue\" d=\"M544.76,-395.89C559.04,-384.47 588.4,-360.98 604.78,-347.87\"/>\n",
       "<polygon fill=\"blue\" stroke=\"blue\" points=\"607.1,-350.5 612.72,-341.52 602.73,-345.04 607.1,-350.5\"/>\n",
       "<text text-anchor=\"middle\" x=\"588.5\" y=\"-366.8\" font-family=\"Times,serif\" font-size=\"14.00\">1</text>\n",
       "</g>\n",
       "<!-- 219 -->\n",
       "<g id=\"node220\" class=\"node\">\n",
       "<title>219</title>\n",
       "<text text-anchor=\"middle\" x=\"376.5\" y=\"-267.8\" font-family=\"Times,serif\" font-size=\"14.00\">(67) str.substr(cgi_decode_s_str_1, 15, 1) == &quot;C&quot;</text>\n",
       "</g>\n",
       "<!-- 218&#45;&gt;219 -->\n",
       "<g id=\"edge219\" class=\"edge\">\n",
       "<title>218&#45;&gt;219</title>\n",
       "<path fill=\"none\" stroke=\"red\" d=\"M448.24,-329.89C435.19,-319.45 409.54,-298.93 392.72,-285.47\"/>\n",
       "<polygon fill=\"red\" stroke=\"red\" points=\"394.83,-282.68 384.84,-279.17 390.46,-288.15 394.83,-282.68\"/>\n",
       "<text text-anchor=\"middle\" x=\"428.5\" y=\"-300.8\" font-family=\"Times,serif\" font-size=\"14.00\">0</text>\n",
       "</g>\n",
       "<!-- 228 -->\n",
       "<g id=\"node229\" class=\"node\">\n",
       "<title>228</title>\n",
       "<text text-anchor=\"middle\" x=\"536.5\" y=\"-267.8\" font-family=\"Times,serif\" font-size=\"14.00\">?</text>\n",
       "</g>\n",
       "<!-- 218&#45;&gt;228 -->\n",
       "<g id=\"edge228\" class=\"edge\">\n",
       "<title>218&#45;&gt;228</title>\n",
       "<path fill=\"none\" stroke=\"blue\" d=\"M464.76,-329.89C479.04,-318.47 508.4,-294.98 524.78,-281.87\"/>\n",
       "<polygon fill=\"blue\" stroke=\"blue\" points=\"527.1,-284.5 532.72,-275.52 522.73,-279.04 527.1,-284.5\"/>\n",
       "<text text-anchor=\"middle\" x=\"508.5\" y=\"-300.8\" font-family=\"Times,serif\" font-size=\"14.00\">1</text>\n",
       "</g>\n",
       "<!-- 220 -->\n",
       "<g id=\"node221\" class=\"node\">\n",
       "<title>220</title>\n",
       "<text text-anchor=\"middle\" x=\"296.5\" y=\"-201.8\" font-family=\"Times,serif\" font-size=\"14.00\">(68) str.substr(cgi_decode_s_str_1, 15, 1) == &quot;D&quot;</text>\n",
       "</g>\n",
       "<!-- 219&#45;&gt;220 -->\n",
       "<g id=\"edge220\" class=\"edge\">\n",
       "<title>219&#45;&gt;220</title>\n",
       "<path fill=\"none\" stroke=\"red\" d=\"M368.24,-263.89C355.19,-253.45 329.54,-232.93 312.72,-219.47\"/>\n",
       "<polygon fill=\"red\" stroke=\"red\" points=\"314.83,-216.68 304.84,-213.17 310.46,-222.15 314.83,-216.68\"/>\n",
       "<text text-anchor=\"middle\" x=\"348.5\" y=\"-234.8\" font-family=\"Times,serif\" font-size=\"14.00\">0</text>\n",
       "</g>\n",
       "<!-- 227 -->\n",
       "<g id=\"node228\" class=\"node\">\n",
       "<title>227</title>\n",
       "<text text-anchor=\"middle\" x=\"456.5\" y=\"-201.8\" font-family=\"Times,serif\" font-size=\"14.00\">?</text>\n",
       "</g>\n",
       "<!-- 219&#45;&gt;227 -->\n",
       "<g id=\"edge227\" class=\"edge\">\n",
       "<title>219&#45;&gt;227</title>\n",
       "<path fill=\"none\" stroke=\"blue\" d=\"M384.76,-263.89C399.04,-252.47 428.4,-228.98 444.78,-215.87\"/>\n",
       "<polygon fill=\"blue\" stroke=\"blue\" points=\"447.1,-218.5 452.72,-209.52 442.73,-213.04 447.1,-218.5\"/>\n",
       "<text text-anchor=\"middle\" x=\"428.5\" y=\"-234.8\" font-family=\"Times,serif\" font-size=\"14.00\">1</text>\n",
       "</g>\n",
       "<!-- 221 -->\n",
       "<g id=\"node222\" class=\"node\">\n",
       "<title>221</title>\n",
       "<text text-anchor=\"middle\" x=\"216.5\" y=\"-135.8\" font-family=\"Times,serif\" font-size=\"14.00\">(69) str.substr(cgi_decode_s_str_1, 15, 1) == &quot;E&quot;</text>\n",
       "</g>\n",
       "<!-- 220&#45;&gt;221 -->\n",
       "<g id=\"edge221\" class=\"edge\">\n",
       "<title>220&#45;&gt;221</title>\n",
       "<path fill=\"none\" stroke=\"red\" d=\"M288.24,-197.89C275.19,-187.45 249.54,-166.93 232.72,-153.47\"/>\n",
       "<polygon fill=\"red\" stroke=\"red\" points=\"234.83,-150.68 224.84,-147.17 230.46,-156.15 234.83,-150.68\"/>\n",
       "<text text-anchor=\"middle\" x=\"268.5\" y=\"-168.8\" font-family=\"Times,serif\" font-size=\"14.00\">0</text>\n",
       "</g>\n",
       "<!-- 226 -->\n",
       "<g id=\"node227\" class=\"node\">\n",
       "<title>226</title>\n",
       "<text text-anchor=\"middle\" x=\"376.5\" y=\"-135.8\" font-family=\"Times,serif\" font-size=\"14.00\">?</text>\n",
       "</g>\n",
       "<!-- 220&#45;&gt;226 -->\n",
       "<g id=\"edge226\" class=\"edge\">\n",
       "<title>220&#45;&gt;226</title>\n",
       "<path fill=\"none\" stroke=\"blue\" d=\"M304.76,-197.89C319.04,-186.47 348.4,-162.98 364.78,-149.87\"/>\n",
       "<polygon fill=\"blue\" stroke=\"blue\" points=\"367.1,-152.5 372.72,-143.52 362.73,-147.04 367.1,-152.5\"/>\n",
       "<text text-anchor=\"middle\" x=\"348.5\" y=\"-168.8\" font-family=\"Times,serif\" font-size=\"14.00\">1</text>\n",
       "</g>\n",
       "<!-- 222 -->\n",
       "<g id=\"node223\" class=\"node\">\n",
       "<title>222</title>\n",
       "<text text-anchor=\"middle\" x=\"137.5\" y=\"-69.8\" font-family=\"Times,serif\" font-size=\"14.00\">(70) str.substr(cgi_decode_s_str_1, 15, 1) == &quot;F&quot;</text>\n",
       "</g>\n",
       "<!-- 221&#45;&gt;222 -->\n",
       "<g id=\"edge222\" class=\"edge\">\n",
       "<title>221&#45;&gt;222</title>\n",
       "<path fill=\"none\" stroke=\"red\" d=\"M208.34,-131.89C195.45,-121.45 170.13,-100.93 153.51,-87.47\"/>\n",
       "<polygon fill=\"red\" stroke=\"red\" points=\"155.7,-84.74 145.73,-81.17 151.3,-90.18 155.7,-84.74\"/>\n",
       "<text text-anchor=\"middle\" x=\"188.5\" y=\"-102.8\" font-family=\"Times,serif\" font-size=\"14.00\">0</text>\n",
       "</g>\n",
       "<!-- 225 -->\n",
       "<g id=\"node226\" class=\"node\">\n",
       "<title>225</title>\n",
       "<text text-anchor=\"middle\" x=\"296.5\" y=\"-69.8\" font-family=\"Times,serif\" font-size=\"14.00\">?</text>\n",
       "</g>\n",
       "<!-- 221&#45;&gt;225 -->\n",
       "<g id=\"edge225\" class=\"edge\">\n",
       "<title>221&#45;&gt;225</title>\n",
       "<path fill=\"none\" stroke=\"blue\" d=\"M224.76,-131.89C239.04,-120.47 268.4,-96.98 284.78,-83.87\"/>\n",
       "<polygon fill=\"blue\" stroke=\"blue\" points=\"287.1,-86.5 292.72,-77.52 282.73,-81.04 287.1,-86.5\"/>\n",
       "<text text-anchor=\"middle\" x=\"268.5\" y=\"-102.8\" font-family=\"Times,serif\" font-size=\"14.00\">1</text>\n",
       "</g>\n",
       "<!-- 223 -->\n",
       "<g id=\"node224\" class=\"node\">\n",
       "<title>223</title>\n",
       "<text text-anchor=\"middle\" x=\"94.5\" y=\"-3.8\" font-family=\"Times,serif\" font-size=\"14.00\">* +\\x00\\x00\\x00%\\x00</text>\n",
       "</g>\n",
       "<!-- 222&#45;&gt;223 -->\n",
       "<g id=\"edge223\" class=\"edge\">\n",
       "<title>222&#45;&gt;223</title>\n",
       "<path fill=\"none\" stroke=\"red\" d=\"M132.9,-65.65C126.2,-55.69 113.6,-36.93 104.66,-23.63\"/>\n",
       "<polygon fill=\"red\" stroke=\"red\" points=\"107.42,-21.46 98.94,-15.11 101.61,-25.36 107.42,-21.46\"/>\n",
       "<text text-anchor=\"middle\" x=\"124.5\" y=\"-36.8\" font-family=\"Times,serif\" font-size=\"14.00\">0</text>\n",
       "</g>\n",
       "<!-- 224 -->\n",
       "<g id=\"node225\" class=\"node\">\n",
       "<title>224</title>\n",
       "<text text-anchor=\"middle\" x=\"181.5\" y=\"-3.8\" font-family=\"Times,serif\" font-size=\"14.00\">?</text>\n",
       "</g>\n",
       "<!-- 222&#45;&gt;224 -->\n",
       "<g id=\"edge224\" class=\"edge\">\n",
       "<title>222&#45;&gt;224</title>\n",
       "<path fill=\"none\" stroke=\"blue\" d=\"M142.21,-65.65C149.34,-55.27 163.04,-35.36 172.22,-22\"/>\n",
       "<polygon fill=\"blue\" stroke=\"blue\" points=\"175.17,-23.88 177.96,-13.66 169.41,-19.91 175.17,-23.88\"/>\n",
       "<text text-anchor=\"middle\" x=\"167.5\" y=\"-36.8\" font-family=\"Times,serif\" font-size=\"14.00\">1</text>\n",
       "</g>\n",
       "</g>\n",
       "</svg>\n"
      ],
      "text/plain": [
       "<graphviz.dot.Digraph at 0x116fd7e50>"
      ]
     },
     "execution_count": 281,
     "metadata": {},
     "output_type": "execute_result"
    }
   ],
   "source": [
    "display_trace_tree(scf.ct.root)"
   ]
  },
  {
   "cell_type": "markdown",
   "metadata": {
    "slideshow": {
     "slide_type": "subslide"
    }
   },
   "source": [
    "**Note.** Our concolic tracer is limited in that it does not track changes in the string length. This leads it to treat every string with same prefix as the same string."
   ]
  },
  {
   "cell_type": "markdown",
   "metadata": {
    "slideshow": {
     "slide_type": "fragment"
    }
   },
   "source": [
    "The `SimpleConcolicFuzzer` is reasonably efficient at exploring paths near the path followed by a given sample input. However, it is not very intelligent when it comes to choosing which paths to follow. We look at another fuzzer that lifts the predicates obtained to the grammar and achieves better fuzzing."
   ]
  },
  {
   "cell_type": "markdown",
   "metadata": {
    "slideshow": {
     "slide_type": "slide"
    }
   },
   "source": [
    "## Concolic Grammar Fuzzing\n",
    "\n",
    "The concolic framework can be used directly in grammar-based fuzzing. We implement a class `ConcolicGrammarFuzzer` wihich does this."
   ]
  },
  {
   "cell_type": "markdown",
   "metadata": {
    "slideshow": {
     "slide_type": "subslide"
    },
    "tags": []
   },
   "source": [
    "### Excursion: Implementing ConcolicGrammarFuzzer"
   ]
  },
  {
   "cell_type": "markdown",
   "metadata": {
    "slideshow": {
     "slide_type": "fragment"
    }
   },
   "source": [
    "First, we extend our `GrammarFuzzer` with a helper method `tree_to_string()` such that we can retrieve the derivation tree of the fuzz output. We also define `prune_tree()` and `coalesce()` methods to reduce the depth of sub trees. These methods accept a list of tokens types such that a node belonging to the token type gets converted from a tree to a leaf node by calling `tree_to_string()`."
   ]
  },
  {
   "cell_type": "code",
   "execution_count": 282,
   "metadata": {
    "execution": {
     "iopub.execute_input": "2022-01-04T17:42:28.890675Z",
     "iopub.status.busy": "2022-01-04T17:42:28.888339Z",
     "iopub.status.idle": "2022-01-04T17:42:28.893106Z",
     "shell.execute_reply": "2022-01-04T17:42:28.893841Z"
    },
    "slideshow": {
     "slide_type": "skip"
    }
   },
   "outputs": [],
   "source": [
    "from InformationFlow import INVENTORY_GRAMMAR, SQLException"
   ]
  },
  {
   "cell_type": "code",
   "execution_count": 283,
   "metadata": {
    "execution": {
     "iopub.execute_input": "2022-01-04T17:42:28.898679Z",
     "iopub.status.busy": "2022-01-04T17:42:28.897975Z",
     "iopub.status.idle": "2022-01-04T17:42:28.900413Z",
     "shell.execute_reply": "2022-01-04T17:42:28.901381Z"
    },
    "slideshow": {
     "slide_type": "skip"
    }
   },
   "outputs": [],
   "source": [
    "from GrammarFuzzer import GrammarFuzzer"
   ]
  },
  {
   "cell_type": "code",
   "execution_count": 284,
   "metadata": {
    "execution": {
     "iopub.execute_input": "2022-01-04T17:42:28.917006Z",
     "iopub.status.busy": "2022-01-04T17:42:28.915629Z",
     "iopub.status.idle": "2022-01-04T17:42:28.919031Z",
     "shell.execute_reply": "2022-01-04T17:42:28.918490Z"
    },
    "slideshow": {
     "slide_type": "subslide"
    }
   },
   "outputs": [],
   "source": [
    "class ConcolicGrammarFuzzer(GrammarFuzzer):\n",
    "    def tree_to_string(self, tree):\n",
    "        symbol, children, *_ = tree\n",
    "        e = ''\n",
    "        if children:\n",
    "            return e.join([self.tree_to_string(c) for c in children])\n",
    "        else:\n",
    "            return e if symbol in self.grammar else symbol\n",
    "\n",
    "    def prune_tree(self, tree, tokens):\n",
    "        name, children = tree\n",
    "        children = self.coalesce(children)\n",
    "        if name in tokens:\n",
    "            return (name, [(self.tree_to_string(tree), [])])\n",
    "        else:\n",
    "            return (name, [self.prune_tree(c, tokens) for c in children])\n",
    "\n",
    "    def coalesce(self, children):\n",
    "        last = ''\n",
    "        new_lst = []\n",
    "        for cn, cc in children:\n",
    "            if cn not in self.grammar:\n",
    "                last += cn\n",
    "            else:\n",
    "                if last:\n",
    "                    new_lst.append((last, []))\n",
    "                    last = ''\n",
    "                new_lst.append((cn, cc))\n",
    "        if last:\n",
    "            new_lst.append((last, []))\n",
    "        return new_lst"
   ]
  },
  {
   "cell_type": "markdown",
   "metadata": {
    "slideshow": {
     "slide_type": "subslide"
    }
   },
   "source": [
    "We can now use the fuzzer to produce inputs for our DB."
   ]
  },
  {
   "cell_type": "code",
   "execution_count": 285,
   "metadata": {
    "execution": {
     "iopub.execute_input": "2022-01-04T17:42:28.970075Z",
     "iopub.status.busy": "2022-01-04T17:42:28.969307Z",
     "iopub.status.idle": "2022-01-04T17:42:28.972780Z",
     "shell.execute_reply": "2022-01-04T17:42:28.974664Z"
    },
    "slideshow": {
     "slide_type": "fragment"
    }
   },
   "outputs": [],
   "source": [
    "tgf = ConcolicGrammarFuzzer(INVENTORY_GRAMMAR)\n",
    "while True:\n",
    "    qtree = tgf.fuzz_tree()\n",
    "    query = str(tgf.tree_to_string(qtree))\n",
    "    if query.startswith('select'):\n",
    "        break"
   ]
  },
  {
   "cell_type": "code",
   "execution_count": 286,
   "metadata": {
    "execution": {
     "iopub.execute_input": "2022-01-04T17:42:28.981838Z",
     "iopub.status.busy": "2022-01-04T17:42:28.980628Z",
     "iopub.status.idle": "2022-01-04T17:42:28.983456Z",
     "shell.execute_reply": "2022-01-04T17:42:28.984329Z"
    },
    "slideshow": {
     "slide_type": "skip"
    }
   },
   "outputs": [],
   "source": [
    "from ExpectError import ExpectError"
   ]
  },
  {
   "cell_type": "code",
   "execution_count": 287,
   "metadata": {
    "execution": {
     "iopub.execute_input": "2022-01-04T17:42:28.994614Z",
     "iopub.status.busy": "2022-01-04T17:42:28.993826Z",
     "iopub.status.idle": "2022-01-04T17:42:29.002813Z",
     "shell.execute_reply": "2022-01-04T17:42:29.003456Z"
    },
    "slideshow": {
     "slide_type": "subslide"
    }
   },
   "outputs": [
    {
     "name": "stdout",
     "output_type": "stream",
     "text": [
      "'select I/k-z-A(z)/W(q,S) from G.2fN0'\n"
     ]
    },
    {
     "name": "stderr",
     "output_type": "stream",
     "text": [
      "Traceback (most recent call last):\n",
      "  File \"/var/folders/n2/xd9445p97rb3xh7m1dfx8_4h0006ts/T/ipykernel_54938/2536269233.py\", line 4, in <module>\n",
      "    res = _[db_select](str(query))\n",
      "  File \"/var/folders/n2/xd9445p97rb3xh7m1dfx8_4h0006ts/T/ipykernel_54938/2687284210.py\", line 3, in __call__\n",
      "    self.result = self.fn(*self.concolic(args))\n",
      "  File \"/var/folders/n2/xd9445p97rb3xh7m1dfx8_4h0006ts/T/ipykernel_54938/1994573112.py\", line 4, in db_select\n",
      "    r = my_db.sql(s)\n",
      "  File \"/Users/zeller/Projects/fuzzingbook/notebooks/InformationFlow.ipynb\", line 65, in sql\n",
      "    return method(query[len(key):])\n",
      "  File \"/Users/zeller/Projects/fuzzingbook/notebooks/InformationFlow.ipynb\", line 84, in do_select\n",
      "    _, table = self.table(t_name)\n",
      "  File \"/var/folders/n2/xd9445p97rb3xh7m1dfx8_4h0006ts/T/ipykernel_54938/2474817571.py\", line 6, in table\n",
      "    raise SQLException('Table (%s) was not found' % repr(t_name))\n",
      "InformationFlow.SQLException: Table ('G.2fN0') was not found (expected)\n"
     ]
    }
   ],
   "source": [
    "with ExpectError():\n",
    "    print(repr(query))\n",
    "    with ConcolicTracer() as _:\n",
    "        res = _[db_select](str(query))\n",
    "    print(repr(res))"
   ]
  },
  {
   "cell_type": "markdown",
   "metadata": {
    "slideshow": {
     "slide_type": "subslide"
    }
   },
   "source": [
    "Our fuzzer returns with an exception. It is unable to find the specified table. Let us examine the predicates it encountered."
   ]
  },
  {
   "cell_type": "code",
   "execution_count": 288,
   "metadata": {
    "execution": {
     "iopub.execute_input": "2022-01-04T17:42:29.012491Z",
     "iopub.status.busy": "2022-01-04T17:42:29.010094Z",
     "iopub.status.idle": "2022-01-04T17:42:29.053925Z",
     "shell.execute_reply": "2022-01-04T17:42:29.053295Z"
    },
    "slideshow": {
     "slide_type": "subslide"
    }
   },
   "outputs": [
    {
     "name": "stdout",
     "output_type": "stream",
     "text": [
      "0 0 == IndexOf(db_select_s_str_1, \"select \", 0)\n",
      "1 0 == IndexOf(db_select_s_str_1, \"select \", 0)\n",
      "2 Not(0 >\n",
      "    IndexOf(str.substr(db_select_s_str_1, 7, 29),\n",
      "            \" from \",\n",
      "            0))\n",
      "3 Not(29 <\n",
      "    IndexOf(str.substr(db_select_s_str_1, 7, 29),\n",
      "            \" from \",\n",
      "            0))\n",
      "4 Or(0 <\n",
      "   IndexOf(str.substr(db_select_s_str_1, 7, 29),\n",
      "           \" from \",\n",
      "           0),\n",
      "   0 ==\n",
      "   IndexOf(str.substr(db_select_s_str_1, 7, 29),\n",
      "           \" from \",\n",
      "           0))\n",
      "5 Not(Or(0 <\n",
      "       IndexOf(str.substr(db_select_s_str_1, 7, 29),\n",
      "               \" where \",\n",
      "               0),\n",
      "       0 ==\n",
      "       IndexOf(str.substr(db_select_s_str_1, 7, 29),\n",
      "               \" where \",\n",
      "               0)))\n",
      "6 Not(29 <\n",
      "    IndexOf(str.substr(db_select_s_str_1, 7, 29),\n",
      "            \" from \",\n",
      "            0) +\n",
      "    6)\n",
      "7 Or(29 >\n",
      "   IndexOf(str.substr(db_select_s_str_1, 7, 29),\n",
      "           \" from \",\n",
      "           0) +\n",
      "   6,\n",
      "   29 ==\n",
      "   IndexOf(str.substr(db_select_s_str_1, 7, 29),\n",
      "           \" from \",\n",
      "           0) +\n",
      "   6)\n",
      "8 Not(str.substr(str.substr(db_select_s_str_1, 7, 29), 23, 6) ==\n",
      "    \"inventory\")\n"
     ]
    }
   ],
   "source": [
    "for i, p in enumerate(_.path):\n",
    "    print(i, p)"
   ]
  },
  {
   "cell_type": "markdown",
   "metadata": {
    "slideshow": {
     "slide_type": "subslide"
    }
   },
   "source": [
    "Note that we can obtain constraints that are not present in the grammar from using the `ConcolicTracer`. In particular, see how we are able to obtain the condition that the table needs to be `inventory` (Predicate 11) for the fuzzing to succeed."
   ]
  },
  {
   "cell_type": "markdown",
   "metadata": {
    "slideshow": {
     "slide_type": "fragment"
    }
   },
   "source": [
    "How do we lift these to the grammar? and in particular how do we do it automatically? One option we have is to simply switch the last predicate obtained. In our case, the last predicate is (11). Can we simply invert the predicate and solve it again?"
   ]
  },
  {
   "cell_type": "code",
   "execution_count": 289,
   "metadata": {
    "execution": {
     "iopub.execute_input": "2022-01-04T17:42:29.064925Z",
     "iopub.status.busy": "2022-01-04T17:42:29.063951Z",
     "iopub.status.idle": "2022-01-04T17:42:29.066919Z",
     "shell.execute_reply": "2022-01-04T17:42:29.067927Z"
    },
    "slideshow": {
     "slide_type": "fragment"
    }
   },
   "outputs": [],
   "source": [
    "new_path = _.path[0:-1] + [z3.Not(_.path[-1])]"
   ]
  },
  {
   "cell_type": "code",
   "execution_count": 290,
   "metadata": {
    "execution": {
     "iopub.execute_input": "2022-01-04T17:42:29.076997Z",
     "iopub.status.busy": "2022-01-04T17:42:29.075180Z",
     "iopub.status.idle": "2022-01-04T17:42:29.079683Z",
     "shell.execute_reply": "2022-01-04T17:42:29.080645Z"
    },
    "slideshow": {
     "slide_type": "fragment"
    }
   },
   "outputs": [],
   "source": [
    "new_ = ConcolicTracer((_.decls, new_path))\n",
    "new_.fn = _.fn\n",
    "new_.fn_args = _.fn_args"
   ]
  },
  {
   "cell_type": "code",
   "execution_count": 291,
   "metadata": {
    "execution": {
     "iopub.execute_input": "2022-01-04T17:42:29.088947Z",
     "iopub.status.busy": "2022-01-04T17:42:29.087185Z",
     "iopub.status.idle": "2022-01-04T17:42:29.167924Z",
     "shell.execute_reply": "2022-01-04T17:42:29.168789Z"
    },
    "slideshow": {
     "slide_type": "fragment"
    }
   },
   "outputs": [
    {
     "data": {
      "text/plain": [
       "('No Solutions', None)"
      ]
     },
     "execution_count": 291,
     "metadata": {},
     "output_type": "execute_result"
    }
   ],
   "source": [
    "new_.zeval()"
   ]
  },
  {
   "cell_type": "markdown",
   "metadata": {
    "slideshow": {
     "slide_type": "subslide"
    }
   },
   "source": [
    "Indeed, this will not work as the string lengths being compared to are different."
   ]
  },
  {
   "cell_type": "code",
   "execution_count": 292,
   "metadata": {
    "execution": {
     "iopub.execute_input": "2022-01-04T17:42:29.183818Z",
     "iopub.status.busy": "2022-01-04T17:42:29.180653Z",
     "iopub.status.idle": "2022-01-04T17:42:29.232173Z",
     "shell.execute_reply": "2022-01-04T17:42:29.233176Z"
    },
    "slideshow": {
     "slide_type": "fragment"
    }
   },
   "outputs": [
    {
     "name": "stdout",
     "output_type": "stream",
     "text": [
      "Not(str.substr(str.substr(db_select_s_str_1, 7, 29), 23, 6) ==\n",
      "    \"inventory\")\n",
      "no solution\n"
     ]
    }
   ],
   "source": [
    "print(_.path[-1])\n",
    "z3.solve(z3.Not(_.path[-1]))"
   ]
  },
  {
   "cell_type": "markdown",
   "metadata": {
    "slideshow": {
     "slide_type": "fragment"
    }
   },
   "source": [
    "A better idea is to investigate what _string_ comparisons are being made, and associate that with the corresponding nodes in the grammar. Let us examine our derivation tree (pruned to avoid recursive structures, and to focus on important parts)."
   ]
  },
  {
   "cell_type": "code",
   "execution_count": 293,
   "metadata": {
    "execution": {
     "iopub.execute_input": "2022-01-04T17:42:29.240685Z",
     "iopub.status.busy": "2022-01-04T17:42:29.239602Z",
     "iopub.status.idle": "2022-01-04T17:42:29.242071Z",
     "shell.execute_reply": "2022-01-04T17:42:29.242538Z"
    },
    "slideshow": {
     "slide_type": "skip"
    }
   },
   "outputs": [],
   "source": [
    "from GrammarFuzzer import display_tree"
   ]
  },
  {
   "cell_type": "code",
   "execution_count": 294,
   "metadata": {
    "execution": {
     "iopub.execute_input": "2022-01-04T17:42:29.256167Z",
     "iopub.status.busy": "2022-01-04T17:42:29.255457Z",
     "iopub.status.idle": "2022-01-04T17:42:29.889260Z",
     "shell.execute_reply": "2022-01-04T17:42:29.890232Z"
    },
    "slideshow": {
     "slide_type": "subslide"
    }
   },
   "outputs": [
    {
     "data": {
      "image/svg+xml": [
       "<?xml version=\"1.0\" encoding=\"UTF-8\" standalone=\"no\"?>\n",
       "<!DOCTYPE svg PUBLIC \"-//W3C//DTD SVG 1.1//EN\"\n",
       " \"http://www.w3.org/Graphics/SVG/1.1/DTD/svg11.dtd\">\n",
       "<!-- Generated by graphviz version 2.49.3 (20211023.0002)\n",
       " -->\n",
       "<!-- Pages: 1 -->\n",
       "<svg width=\"224pt\" height=\"176pt\"\n",
       " viewBox=\"0.00 0.00 223.50 176.00\" xmlns=\"http://www.w3.org/2000/svg\" xmlns:xlink=\"http://www.w3.org/1999/xlink\">\n",
       "<g id=\"graph0\" class=\"graph\" transform=\"scale(1 1) rotate(0) translate(4 172)\">\n",
       "<polygon fill=\"white\" stroke=\"transparent\" points=\"-4,4 -4,-172 219.5,-172 219.5,4 -4,4\"/>\n",
       "<!-- 0 -->\n",
       "<g id=\"node1\" class=\"node\">\n",
       "<title>0</title>\n",
       "<text text-anchor=\"middle\" x=\"107\" y=\"-156.8\" font-family=\"Times,serif\" font-size=\"14.00\">&lt;start&gt;</text>\n",
       "</g>\n",
       "<!-- 1 -->\n",
       "<g id=\"node2\" class=\"node\">\n",
       "<title>1</title>\n",
       "<text text-anchor=\"middle\" x=\"107\" y=\"-105.8\" font-family=\"Times,serif\" font-size=\"14.00\">&lt;query&gt;</text>\n",
       "</g>\n",
       "<!-- 0&#45;&gt;1 -->\n",
       "<g id=\"edge1\" class=\"edge\">\n",
       "<title>0&#45;&gt;1</title>\n",
       "<path fill=\"none\" stroke=\"black\" d=\"M107,-152.69C107,-146.18 107,-136.1 107,-127.43\"/>\n",
       "<polygon fill=\"black\" stroke=\"black\" points=\"110.5,-127.26 107,-117.26 103.5,-127.26 110.5,-127.26\"/>\n",
       "</g>\n",
       "<!-- 2 -->\n",
       "<g id=\"node3\" class=\"node\">\n",
       "<title>2</title>\n",
       "<text text-anchor=\"middle\" x=\"18\" y=\"-54.8\" font-family=\"Times,serif\" font-size=\"14.00\">select </text>\n",
       "</g>\n",
       "<!-- 1&#45;&gt;2 -->\n",
       "<g id=\"edge2\" class=\"edge\">\n",
       "<title>1&#45;&gt;2</title>\n",
       "<path fill=\"none\" stroke=\"black\" d=\"M95,-101.89C80.58,-93.96 56.17,-80.52 38.7,-70.9\"/>\n",
       "<polygon fill=\"black\" stroke=\"black\" points=\"40.26,-67.76 29.81,-66 36.88,-73.89 40.26,-67.76\"/>\n",
       "</g>\n",
       "<!-- 3 -->\n",
       "<g id=\"node4\" class=\"node\">\n",
       "<title>3</title>\n",
       "<text text-anchor=\"middle\" x=\"78\" y=\"-54.8\" font-family=\"Times,serif\" font-size=\"14.00\">&lt;exprs&gt;</text>\n",
       "</g>\n",
       "<!-- 1&#45;&gt;3 -->\n",
       "<g id=\"edge3\" class=\"edge\">\n",
       "<title>1&#45;&gt;3</title>\n",
       "<path fill=\"none\" stroke=\"black\" d=\"M102.97,-101.69C98.9,-94.81 92.48,-83.96 87.16,-74.98\"/>\n",
       "<polygon fill=\"black\" stroke=\"black\" points=\"90.1,-73.08 82,-66.26 84.08,-76.64 90.1,-73.08\"/>\n",
       "</g>\n",
       "<!-- 5 -->\n",
       "<g id=\"node6\" class=\"node\">\n",
       "<title>5</title>\n",
       "<text text-anchor=\"middle\" x=\"137\" y=\"-54.8\" font-family=\"Times,serif\" font-size=\"14.00\"> from </text>\n",
       "</g>\n",
       "<!-- 1&#45;&gt;5 -->\n",
       "<g id=\"edge5\" class=\"edge\">\n",
       "<title>1&#45;&gt;5</title>\n",
       "<path fill=\"none\" stroke=\"black\" d=\"M111.17,-101.69C115.38,-94.81 122.03,-83.96 127.52,-74.98\"/>\n",
       "<polygon fill=\"black\" stroke=\"black\" points=\"130.63,-76.61 132.86,-66.26 124.66,-72.96 130.63,-76.61\"/>\n",
       "</g>\n",
       "<!-- 6 -->\n",
       "<g id=\"node7\" class=\"node\">\n",
       "<title>6</title>\n",
       "<text text-anchor=\"middle\" x=\"194\" y=\"-54.8\" font-family=\"Times,serif\" font-size=\"14.00\">&lt;table&gt;</text>\n",
       "</g>\n",
       "<!-- 1&#45;&gt;6 -->\n",
       "<g id=\"edge6\" class=\"edge\">\n",
       "<title>1&#45;&gt;6</title>\n",
       "<path fill=\"none\" stroke=\"black\" d=\"M118.73,-101.89C132.69,-94.03 156.24,-80.77 173.29,-71.16\"/>\n",
       "<polygon fill=\"black\" stroke=\"black\" points=\"175.46,-73.96 182.45,-66 172.02,-67.86 175.46,-73.96\"/>\n",
       "</g>\n",
       "<!-- 4 -->\n",
       "<g id=\"node5\" class=\"node\">\n",
       "<title>4</title>\n",
       "<text text-anchor=\"middle\" x=\"78\" y=\"-3.8\" font-family=\"Times,serif\" font-size=\"14.00\">I/k&#45;z&#45;A(z)/W(q,S)</text>\n",
       "</g>\n",
       "<!-- 3&#45;&gt;4 -->\n",
       "<g id=\"edge4\" class=\"edge\">\n",
       "<title>3&#45;&gt;4</title>\n",
       "<path fill=\"none\" stroke=\"black\" d=\"M78,-50.69C78,-44.18 78,-34.1 78,-25.43\"/>\n",
       "<polygon fill=\"black\" stroke=\"black\" points=\"81.5,-25.26 78,-15.26 74.5,-25.26 81.5,-25.26\"/>\n",
       "</g>\n",
       "<!-- 7 -->\n",
       "<g id=\"node8\" class=\"node\">\n",
       "<title>7</title>\n",
       "<text text-anchor=\"middle\" x=\"194\" y=\"-3.8\" font-family=\"Times,serif\" font-size=\"14.00\">G.2fN0</text>\n",
       "</g>\n",
       "<!-- 6&#45;&gt;7 -->\n",
       "<g id=\"edge7\" class=\"edge\">\n",
       "<title>6&#45;&gt;7</title>\n",
       "<path fill=\"none\" stroke=\"black\" d=\"M194,-50.69C194,-44.18 194,-34.1 194,-25.43\"/>\n",
       "<polygon fill=\"black\" stroke=\"black\" points=\"197.5,-25.26 194,-15.26 190.5,-25.26 197.5,-25.26\"/>\n",
       "</g>\n",
       "</g>\n",
       "</svg>\n"
      ],
      "text/plain": [
       "<graphviz.dot.Digraph at 0x117007160>"
      ]
     },
     "execution_count": 294,
     "metadata": {},
     "output_type": "execute_result"
    }
   ],
   "source": [
    "prune_tokens = [\n",
    "    '<value>', '<table>', '<column>', '<literals>', '<exprs>', '<bexpr>'\n",
    "]\n",
    "dt = tgf.prune_tree(qtree, prune_tokens)\n",
    "display_tree(dt)"
   ]
  },
  {
   "cell_type": "markdown",
   "metadata": {
    "slideshow": {
     "slide_type": "fragment"
    }
   },
   "source": [
    "Can we identify which part of the input was supplied by which part of the grammar? We define `span()` that can recover this information from the derivation tree. For a given node, let us assume that the start point is known. Then, for processing the children, we proceed as follows: We choose one child at a time from left to right, and compute the length of the child. The length of the children before the current child in addition to our starting point gives the starting point of the current child. The end point for each node is simply the end point of its last children (or the length of its node if it is a leaf)."
   ]
  },
  {
   "cell_type": "code",
   "execution_count": 295,
   "metadata": {
    "execution": {
     "iopub.execute_input": "2022-01-04T17:42:29.896527Z",
     "iopub.status.busy": "2022-01-04T17:42:29.895631Z",
     "iopub.status.idle": "2022-01-04T17:42:29.897997Z",
     "shell.execute_reply": "2022-01-04T17:42:29.898532Z"
    },
    "slideshow": {
     "slide_type": "skip"
    }
   },
   "outputs": [],
   "source": [
    "from GrammarFuzzer import START_SYMBOL"
   ]
  },
  {
   "cell_type": "code",
   "execution_count": 296,
   "metadata": {
    "execution": {
     "iopub.execute_input": "2022-01-04T17:42:29.906938Z",
     "iopub.status.busy": "2022-01-04T17:42:29.906033Z",
     "iopub.status.idle": "2022-01-04T17:42:29.909816Z",
     "shell.execute_reply": "2022-01-04T17:42:29.908571Z"
    },
    "slideshow": {
     "slide_type": "subslide"
    }
   },
   "outputs": [],
   "source": [
    "def span(node, g, node_start=0):\n",
    "    hm = {}\n",
    "    k, cs = node\n",
    "    end_i = node_start\n",
    "    new_cs = []\n",
    "    for c in cs:\n",
    "        chm, (ck, child_start, child_end, gcs) = span(c, g, end_i)\n",
    "        new_cs.append((ck, child_start, child_end, gcs))\n",
    "        end_i = child_end\n",
    "        hm.update(chm)\n",
    "    node_end = end_i if cs else node_start + len(k)\n",
    "    if k in g and k != START_SYMBOL:\n",
    "        hm[k] = (node_start, node_end - node_start)\n",
    "    return hm, (k, node_start, node_end, new_cs)"
   ]
  },
  {
   "cell_type": "markdown",
   "metadata": {
    "slideshow": {
     "slide_type": "fragment"
    }
   },
   "source": [
    "We use it as follows:"
   ]
  },
  {
   "cell_type": "code",
   "execution_count": 297,
   "metadata": {
    "execution": {
     "iopub.execute_input": "2022-01-04T17:42:29.916244Z",
     "iopub.status.busy": "2022-01-04T17:42:29.915122Z",
     "iopub.status.idle": "2022-01-04T17:42:29.918662Z",
     "shell.execute_reply": "2022-01-04T17:42:29.918030Z"
    },
    "slideshow": {
     "slide_type": "subslide"
    }
   },
   "outputs": [],
   "source": [
    "span_hm, _n = span(dt, INVENTORY_GRAMMAR)"
   ]
  },
  {
   "cell_type": "code",
   "execution_count": 298,
   "metadata": {
    "execution": {
     "iopub.execute_input": "2022-01-04T17:42:29.924684Z",
     "iopub.status.busy": "2022-01-04T17:42:29.923665Z",
     "iopub.status.idle": "2022-01-04T17:42:29.928655Z",
     "shell.execute_reply": "2022-01-04T17:42:29.929348Z"
    },
    "slideshow": {
     "slide_type": "fragment"
    }
   },
   "outputs": [
    {
     "data": {
      "text/plain": [
       "{'<exprs>': (7, 17), '<table>': (30, 6), '<query>': (0, 36)}"
      ]
     },
     "execution_count": 298,
     "metadata": {},
     "output_type": "execute_result"
    }
   ],
   "source": [
    "span_hm"
   ]
  },
  {
   "cell_type": "markdown",
   "metadata": {
    "slideshow": {
     "slide_type": "fragment"
    }
   },
   "source": [
    "We can check if we got the right values as follows."
   ]
  },
  {
   "cell_type": "code",
   "execution_count": 299,
   "metadata": {
    "execution": {
     "iopub.execute_input": "2022-01-04T17:42:29.936247Z",
     "iopub.status.busy": "2022-01-04T17:42:29.935180Z",
     "iopub.status.idle": "2022-01-04T17:42:29.939343Z",
     "shell.execute_reply": "2022-01-04T17:42:29.940224Z"
    },
    "slideshow": {
     "slide_type": "fragment"
    }
   },
   "outputs": [
    {
     "name": "stdout",
     "output_type": "stream",
     "text": [
      "query: select I/k-z-A(z)/W(q,S) from G.2fN0\n",
      "<exprs> I/k-z-A(z)/W(q,S)\n",
      "<table> G.2fN0\n",
      "<query> select I/k-z-A(z)/W(q,S) from G.2fN0\n"
     ]
    }
   ],
   "source": [
    "print(\"query:\", query)\n",
    "for k in span_hm:\n",
    "    start, l = span_hm[k]\n",
    "    print(k, query[start:start + l])"
   ]
  },
  {
   "cell_type": "markdown",
   "metadata": {
    "slideshow": {
     "slide_type": "subslide"
    }
   },
   "source": [
    "Next, we need to obtain all the comparisons made in each predicate. For that, we define two helper functions. The first is `unwrap_substrings()` that translates multiple calls to `z3.SubString` and returns the start, and length of the given z3 string expression."
   ]
  },
  {
   "cell_type": "code",
   "execution_count": 300,
   "metadata": {
    "execution": {
     "iopub.execute_input": "2022-01-04T17:42:29.947291Z",
     "iopub.status.busy": "2022-01-04T17:42:29.946687Z",
     "iopub.status.idle": "2022-01-04T17:42:29.948694Z",
     "shell.execute_reply": "2022-01-04T17:42:29.949127Z"
    },
    "slideshow": {
     "slide_type": "fragment"
    }
   },
   "outputs": [],
   "source": [
    "def unwrap_substrings(s):\n",
    "    assert s.decl().name() == 'str.substr'\n",
    "    cs, frm, l = s.children()\n",
    "    fl = frm.as_long()\n",
    "    ll = l.as_long()\n",
    "    if cs.decl().name() == 'str.substr':\n",
    "        newfrm, _l = unwrap_substrings(cs)\n",
    "        return (fl + newfrm, ll)\n",
    "    else:\n",
    "        return (fl, ll)"
   ]
  },
  {
   "cell_type": "markdown",
   "metadata": {
    "slideshow": {
     "slide_type": "subslide"
    }
   },
   "source": [
    "We define `traverse_z3()` that traverses a given z3 string expression, and collects all direct string comparisons to a substring of the original argument."
   ]
  },
  {
   "cell_type": "code",
   "execution_count": 301,
   "metadata": {
    "execution": {
     "iopub.execute_input": "2022-01-04T17:42:29.961162Z",
     "iopub.status.busy": "2022-01-04T17:42:29.960237Z",
     "iopub.status.idle": "2022-01-04T17:42:29.963349Z",
     "shell.execute_reply": "2022-01-04T17:42:29.964127Z"
    },
    "slideshow": {
     "slide_type": "subslide"
    }
   },
   "outputs": [],
   "source": [
    "def traverse_z3(p, hm):\n",
    "    def z3_as_string(v):\n",
    "        return v.as_string()\n",
    "\n",
    "    n = p.decl().name()\n",
    "    if n == 'not':\n",
    "        return traverse_z3(p.children()[0], hm)\n",
    "    elif n == '=':\n",
    "        i, j = p.children()\n",
    "        if isinstance(i, (int, z3.IntNumRef)):\n",
    "            return traverse_z3(j, hm)\n",
    "        elif isinstance(j, (int, z3.IntNumRef)):\n",
    "            return traverse_z3(i, hm)\n",
    "        else:\n",
    "            if i.is_string() and j.is_string():\n",
    "                if i.is_string_value():\n",
    "                    cs, frm, l = j.children()\n",
    "                    if (isinstance(frm, z3.IntNumRef)\n",
    "                            and isinstance(l, z3.IntNumRef)):\n",
    "                        hm[z3_as_string(i)] = unwrap_substrings(j)\n",
    "                elif j.is_string_value():\n",
    "                    cs, frm, l = i.children()\n",
    "                    if (isinstance(frm, z3.IntNumRef)\n",
    "                            and isinstance(l, z3.IntNumRef)):\n",
    "                        hm[z3_as_string(j)] = unwrap_substrings(i)\n",
    "            else:\n",
    "                assert False  # for now\n",
    "    elif n == '<' or n == '>':\n",
    "        i, j = p.children()\n",
    "        if isinstance(i, (int, z3.IntNumRef)):\n",
    "            return traverse_z3(j, hm)\n",
    "        elif isinstance(j, (int, z3.IntNumRef)):\n",
    "            return traverse_z3(i, hm)\n",
    "        else:\n",
    "            assert False\n",
    "    return p"
   ]
  },
  {
   "cell_type": "code",
   "execution_count": 302,
   "metadata": {
    "execution": {
     "iopub.execute_input": "2022-01-04T17:42:29.972219Z",
     "iopub.status.busy": "2022-01-04T17:42:29.970968Z",
     "iopub.status.idle": "2022-01-04T17:42:29.979734Z",
     "shell.execute_reply": "2022-01-04T17:42:29.980773Z"
    },
    "slideshow": {
     "slide_type": "subslide"
    }
   },
   "outputs": [
    {
     "data": {
      "text/plain": [
       "{'inventory': (30, 6)}"
      ]
     },
     "execution_count": 302,
     "metadata": {},
     "output_type": "execute_result"
    }
   ],
   "source": [
    "comparisons: Dict[str, Tuple] = {}\n",
    "for p in _.path:\n",
    "    traverse_z3(p, comparisons)\n",
    "comparisons"
   ]
  },
  {
   "cell_type": "markdown",
   "metadata": {
    "slideshow": {
     "slide_type": "fragment"
    }
   },
   "source": [
    "All that we need now is to declare string variables that match the substrings in `comparisons`, and solve for them for each item in the path. For that, we define `find_alternatives()`."
   ]
  },
  {
   "cell_type": "code",
   "execution_count": 303,
   "metadata": {
    "execution": {
     "iopub.execute_input": "2022-01-04T17:42:29.990952Z",
     "iopub.status.busy": "2022-01-04T17:42:29.990115Z",
     "iopub.status.idle": "2022-01-04T17:42:29.992147Z",
     "shell.execute_reply": "2022-01-04T17:42:29.992563Z"
    },
    "slideshow": {
     "slide_type": "subslide"
    }
   },
   "outputs": [],
   "source": [
    "def find_alternatives(spans, cmp):\n",
    "    alts = {}\n",
    "    for key in spans:\n",
    "        start, l = spans[key]\n",
    "        rset = set(range(start, start + l))\n",
    "        for ckey in cmp:\n",
    "            cstart, cl = cmp[ckey]\n",
    "            cset = set(range(cstart, cstart + cl))\n",
    "            # if rset.issubset(cset): <- ignoring subsets for now.\n",
    "            if rset == cset:\n",
    "                if key not in alts:\n",
    "                    alts[key] = set()\n",
    "                alts[key].add(ckey)\n",
    "    return alts"
   ]
  },
  {
   "cell_type": "markdown",
   "metadata": {
    "slideshow": {
     "slide_type": "fragment"
    }
   },
   "source": [
    "We use it as follows."
   ]
  },
  {
   "cell_type": "code",
   "execution_count": 304,
   "metadata": {
    "execution": {
     "iopub.execute_input": "2022-01-04T17:42:29.997337Z",
     "iopub.status.busy": "2022-01-04T17:42:29.996641Z",
     "iopub.status.idle": "2022-01-04T17:42:29.999342Z",
     "shell.execute_reply": "2022-01-04T17:42:29.999757Z"
    },
    "slideshow": {
     "slide_type": "subslide"
    }
   },
   "outputs": [
    {
     "data": {
      "text/plain": [
       "{'<table>': {'inventory'}}"
      ]
     },
     "execution_count": 304,
     "metadata": {},
     "output_type": "execute_result"
    }
   ],
   "source": [
    "alternatives = find_alternatives(span_hm, comparisons)\n",
    "alternatives"
   ]
  },
  {
   "cell_type": "markdown",
   "metadata": {
    "slideshow": {
     "slide_type": "fragment"
    }
   },
   "source": [
    "So, we have our alternatives for each key in the grammar. We can now update our grammar as follows."
   ]
  },
  {
   "cell_type": "code",
   "execution_count": 305,
   "metadata": {
    "execution": {
     "iopub.execute_input": "2022-01-04T17:42:30.006103Z",
     "iopub.status.busy": "2022-01-04T17:42:30.004420Z",
     "iopub.status.idle": "2022-01-04T17:42:30.008365Z",
     "shell.execute_reply": "2022-01-04T17:42:30.009291Z"
    },
    "slideshow": {
     "slide_type": "fragment"
    }
   },
   "outputs": [],
   "source": [
    "INVENTORY_GRAMMAR_NEW = dict(INVENTORY_GRAMMAR)"
   ]
  },
  {
   "cell_type": "code",
   "execution_count": 306,
   "metadata": {
    "execution": {
     "iopub.execute_input": "2022-01-04T17:42:30.016942Z",
     "iopub.status.busy": "2022-01-04T17:42:30.016020Z",
     "iopub.status.idle": "2022-01-04T17:42:30.018688Z",
     "shell.execute_reply": "2022-01-04T17:42:30.019685Z"
    },
    "slideshow": {
     "slide_type": "fragment"
    }
   },
   "outputs": [],
   "source": [
    "for k in alternatives:\n",
    "    INVENTORY_GRAMMAR_NEW[k] = INVENTORY_GRAMMAR_NEW[k] + list(alternatives[k])"
   ]
  },
  {
   "cell_type": "markdown",
   "metadata": {
    "slideshow": {
     "slide_type": "fragment"
    }
   },
   "source": [
    "We made a choice here. We could have completely overwritten the definition of `<table>` . Instead, we added our new alternatives to the existing definition. This way, our fuzzer will also attempt other values for `<table>` once in a while."
   ]
  },
  {
   "cell_type": "code",
   "execution_count": 307,
   "metadata": {
    "execution": {
     "iopub.execute_input": "2022-01-04T17:42:30.028428Z",
     "iopub.status.busy": "2022-01-04T17:42:30.027086Z",
     "iopub.status.idle": "2022-01-04T17:42:30.033083Z",
     "shell.execute_reply": "2022-01-04T17:42:30.033874Z"
    },
    "slideshow": {
     "slide_type": "fragment"
    }
   },
   "outputs": [
    {
     "data": {
      "text/plain": [
       "['<word>', 'inventory']"
      ]
     },
     "execution_count": 307,
     "metadata": {},
     "output_type": "execute_result"
    }
   ],
   "source": [
    "INVENTORY_GRAMMAR_NEW['<table>']"
   ]
  },
  {
   "cell_type": "markdown",
   "metadata": {
    "slideshow": {
     "slide_type": "fragment"
    }
   },
   "source": [
    "Let us try fuzzing with our new grammar."
   ]
  },
  {
   "cell_type": "code",
   "execution_count": 308,
   "metadata": {
    "execution": {
     "iopub.execute_input": "2022-01-04T17:42:30.043133Z",
     "iopub.status.busy": "2022-01-04T17:42:30.041826Z",
     "iopub.status.idle": "2022-01-04T17:42:30.044875Z",
     "shell.execute_reply": "2022-01-04T17:42:30.045544Z"
    },
    "slideshow": {
     "slide_type": "subslide"
    }
   },
   "outputs": [],
   "source": [
    "cgf = ConcolicGrammarFuzzer(INVENTORY_GRAMMAR_NEW)"
   ]
  },
  {
   "cell_type": "code",
   "execution_count": 309,
   "metadata": {
    "execution": {
     "iopub.execute_input": "2022-01-04T17:42:30.098996Z",
     "iopub.status.busy": "2022-01-04T17:42:30.096749Z",
     "iopub.status.idle": "2022-01-04T17:42:30.313543Z",
     "shell.execute_reply": "2022-01-04T17:42:30.313933Z"
    },
    "slideshow": {
     "slide_type": "subslide"
    }
   },
   "outputs": [
    {
     "name": "stdout",
     "output_type": "stream",
     "text": [
      "select -089.782+H==(i)/y2(F,t,p)-94424/6180 from C\n",
      "Table ('C') was not found\n",
      "\n",
      "insert into A6_0 (X) values (1.5,1,2,'v')\n",
      "Table ('A6_0') was not found\n",
      "\n",
      "update inventory set f=B,_=h where x-l>c/n\n",
      "Column ('f') was not found\n",
      "\n",
      "delete from B9Se where o*O/a(j)<J+c+C(R,H)*(q)\n",
      "Table ('B9Se') was not found\n",
      "\n",
      "select j1:,k(E) from inventory where a(H)>q/Z/(j!=A)\n",
      "Invalid WHERE ('(a(H)>q/Z/(j!=A))')\n",
      "\n",
      "insert into s (L) values (21,']','+')\n",
      "Table ('s') was not found\n",
      "\n",
      "update mS8 set B=v,y=S,l=E,Q=d where ((M))!=H!=Z\n",
      "Table ('mS8') was not found\n",
      "\n",
      "update inventory set KU=a,t=X where P*t(P)>H+g\n",
      "Column ('KU') was not found\n",
      "\n",
      "insert into PP (Xh) values (4.1)\n",
      "Table ('PP') was not found\n",
      "\n",
      "select (je:(W,T,U)) from J where :!=Y!=z(M)>v+G\n",
      "Table ('J') was not found\n",
      "\n"
     ]
    }
   ],
   "source": [
    "for i in range(10):\n",
    "    qtree = cgf.fuzz_tree()\n",
    "    query = cgf.tree_to_string(qtree)\n",
    "    print(query)\n",
    "    with ExpectError(print_traceback=False):\n",
    "        try:\n",
    "            with ConcolicTracer() as _:\n",
    "                res = _[db_select](query)\n",
    "            print(repr(res))\n",
    "        except SQLException as e:\n",
    "            print(e)\n",
    "        print()"
   ]
  },
  {
   "cell_type": "markdown",
   "metadata": {
    "slideshow": {
     "slide_type": "subslide"
    }
   },
   "source": [
    "That is, we were able to reach the dangerous method `my_eval()`.\n",
    "In effect, what we have done is to lift parts of predicates to the grammar. The new grammar can generate inputs that reach deeper into the program than before. Note that we have only handled the equality predicate. One can also lift the '<' and '>' comparison operators to the grammar if required.\n",
    "\n",
    "Compare the output of our fuzzer to the original `GrammarFuzzer` below."
   ]
  },
  {
   "cell_type": "code",
   "execution_count": 310,
   "metadata": {
    "execution": {
     "iopub.execute_input": "2022-01-04T17:42:30.357547Z",
     "iopub.status.busy": "2022-01-04T17:42:30.322608Z",
     "iopub.status.idle": "2022-01-04T17:42:30.545688Z",
     "shell.execute_reply": "2022-01-04T17:42:30.546418Z"
    },
    "slideshow": {
     "slide_type": "subslide"
    }
   },
   "outputs": [
    {
     "name": "stdout",
     "output_type": "stream",
     "text": [
      "delete from t where Y-Z-V2(d)<G-l-A+v-L\n",
      "Table ('t') was not found\n",
      "\n",
      "select (_),D from lHi where t>x(H)==(r)\n",
      "Table ('lHi') was not found\n",
      "\n",
      "select V2p!=Wy1(t!=I,h)+P8(d,j)>(d+.+z/y) from Cx\n",
      "Table ('Cx') was not found\n",
      "\n",
      "select H+K/z-G+s-s,U*A-(b)-p from W\n",
      "Table ('W') was not found\n",
      "\n",
      "delete from N81 where O6(B!=78,f)>i-K+I*f+f<o\n",
      "Table ('N81') was not found\n",
      "\n",
      "insert into L (LoEW6W) values (6411)\n",
      "Table ('L') was not found\n",
      "\n",
      "select a==g>i!=L from VQ9 where F/a*z-y>z*V\n",
      "Table ('VQ9') was not found\n",
      "\n",
      "insert into MK (IFb) values (')','N')\n",
      "Table ('MK') was not found\n",
      "\n",
      "insert into Yy32AU (ERJhUw,Od) values ('d2=h',7)\n",
      "Table ('Yy32AU') was not found\n",
      "\n",
      "select b==c*k,e,c,V from jm48 where 7!=(C-g(S))\n",
      "Table ('jm48') was not found\n",
      "\n"
     ]
    }
   ],
   "source": [
    "gf = GrammarFuzzer(INVENTORY_GRAMMAR)\n",
    "for i in range(10):\n",
    "    query = gf.fuzz()\n",
    "    print(query)\n",
    "    with ExpectError(print_traceback=False):\n",
    "        try:\n",
    "            res = db_select(query)\n",
    "            print(repr(res))\n",
    "        except SQLException as e:\n",
    "            print(e)\n",
    "        print()"
   ]
  },
  {
   "cell_type": "markdown",
   "metadata": {
    "slideshow": {
     "slide_type": "subslide"
    }
   },
   "source": [
    "As can be seen, the original grammar fuzzer is unable to proceed beyond the table verification."
   ]
  },
  {
   "cell_type": "markdown",
   "metadata": {
    "slideshow": {
     "slide_type": "subslide"
    }
   },
   "source": [
    "#### Pruning and Updating\n",
    "\n",
    "We implement these methods in `ConcolicGrammarFuzzer`. The method `update_grammar()` allows `ConcolicGrammarFuzzer` to collect feedback from concolic fuzzing, and update the grammar used for fuzzing accordingly."
   ]
  },
  {
   "cell_type": "code",
   "execution_count": 311,
   "metadata": {
    "execution": {
     "iopub.execute_input": "2022-01-04T17:42:30.551859Z",
     "iopub.status.busy": "2022-01-04T17:42:30.551329Z",
     "iopub.status.idle": "2022-01-04T17:42:30.552956Z",
     "shell.execute_reply": "2022-01-04T17:42:30.553336Z"
    },
    "slideshow": {
     "slide_type": "subslide"
    }
   },
   "outputs": [],
   "source": [
    "class ConcolicGrammarFuzzer(ConcolicGrammarFuzzer):\n",
    "    def prune_tokens(self, tokens):\n",
    "        self.prune_tokens = tokens\n",
    "\n",
    "    def update_grammar(self, trace):\n",
    "        self.comparisons = {}\n",
    "        for p in trace.path:\n",
    "            traverse_z3(p, self.comparisons)\n",
    "        alternatives = find_alternatives(self.span_range, self.comparisons)\n",
    "        if self.log:\n",
    "            print('Alternatives:', alternatives, 'Span:', self.span_range)\n",
    "        new_grammar = dict(self.grammar)\n",
    "        for k in alternatives:\n",
    "            new_grammar[k] = list(set(new_grammar[k] + list(alternatives[k])))\n",
    "        self.grammar = new_grammar"
   ]
  },
  {
   "cell_type": "markdown",
   "metadata": {
    "slideshow": {
     "slide_type": "subslide"
    }
   },
   "source": [
    "The `fuzz()` method simply generates the derivation tree, computes the span range, and returns the string generated from the derivation tree."
   ]
  },
  {
   "cell_type": "code",
   "execution_count": 312,
   "metadata": {
    "execution": {
     "iopub.execute_input": "2022-01-04T17:42:30.557474Z",
     "iopub.status.busy": "2022-01-04T17:42:30.556867Z",
     "iopub.status.idle": "2022-01-04T17:42:30.558642Z",
     "shell.execute_reply": "2022-01-04T17:42:30.559012Z"
    },
    "slideshow": {
     "slide_type": "fragment"
    }
   },
   "outputs": [],
   "source": [
    "class ConcolicGrammarFuzzer(ConcolicGrammarFuzzer):\n",
    "    def fuzz(self):\n",
    "        qtree = self.fuzz_tree()\n",
    "        self.pruned_tree = self.prune_tree(qtree, self.prune_tokens)\n",
    "        query = self.tree_to_string(qtree)\n",
    "        self.span_range, _n = span(self.pruned_tree, self.grammar)\n",
    "        return query"
   ]
  },
  {
   "cell_type": "markdown",
   "metadata": {
    "slideshow": {
     "slide_type": "fragment"
    }
   },
   "source": [
    "To ensure that our approach works, let us update our tables slightly."
   ]
  },
  {
   "cell_type": "code",
   "execution_count": 313,
   "metadata": {
    "execution": {
     "iopub.execute_input": "2022-01-04T17:42:30.562271Z",
     "iopub.status.busy": "2022-01-04T17:42:30.561745Z",
     "iopub.status.idle": "2022-01-04T17:42:30.563594Z",
     "shell.execute_reply": "2022-01-04T17:42:30.564033Z"
    },
    "slideshow": {
     "slide_type": "fragment"
    }
   },
   "outputs": [],
   "source": [
    "inventory = db.db.pop('inventory', None)"
   ]
  },
  {
   "cell_type": "code",
   "execution_count": 314,
   "metadata": {
    "execution": {
     "iopub.execute_input": "2022-01-04T17:42:30.570024Z",
     "iopub.status.busy": "2022-01-04T17:42:30.569424Z",
     "iopub.status.idle": "2022-01-04T17:42:30.571788Z",
     "shell.execute_reply": "2022-01-04T17:42:30.572169Z"
    },
    "slideshow": {
     "slide_type": "subslide"
    }
   },
   "outputs": [
    {
     "data": {
      "text/plain": [
       "{'vehicles': ({'year': int, 'kind': str, 'company': str, 'model': str},\n",
       "  [{'year': 1997, 'kind': 'van', 'company': 'Ford', 'model': 'E350'},\n",
       "   {'year': 2000, 'kind': 'car', 'company': 'Mercury', 'model': 'Cougar'},\n",
       "   {'year': 1999, 'kind': 'car', 'company': 'Chevy', 'model': 'Venture'}]),\n",
       " 'months': ({'month': int, 'name': str},\n",
       "  [{'month': 1, 'name': 'jan'},\n",
       "   {'month': 2, 'name': 'feb'},\n",
       "   {'month': 3, 'name': 'mar'},\n",
       "   {'month': 4, 'name': 'apr'},\n",
       "   {'month': 5, 'name': 'may'},\n",
       "   {'month': 6, 'name': 'jun'},\n",
       "   {'month': 7, 'name': 'jul'},\n",
       "   {'month': 8, 'name': 'aug'},\n",
       "   {'month': 9, 'name': 'sep'},\n",
       "   {'month': 10, 'name': 'oct'},\n",
       "   {'month': 11, 'name': 'nov'},\n",
       "   {'month': 12, 'name': 'dec'}])}"
      ]
     },
     "execution_count": 314,
     "metadata": {},
     "output_type": "execute_result"
    }
   ],
   "source": [
    "db.db['vehicles'] = inventory\n",
    "db.db['months'] = ({\n",
    "    'month': int,\n",
    "    'name': str\n",
    "}, [{\n",
    "    'month': i + 1,\n",
    "    'name': m\n",
    "} for i, m in enumerate([\n",
    "    'jan', 'feb', 'mar', 'apr', 'may', 'jun', 'jul', 'aug', 'sep', 'oct',\n",
    "    'nov', 'dec'\n",
    "])])\n",
    "db.db"
   ]
  },
  {
   "cell_type": "markdown",
   "metadata": {
    "slideshow": {
     "slide_type": "subslide"
    }
   },
   "source": [
    "### End of Excursion"
   ]
  },
  {
   "cell_type": "markdown",
   "metadata": {
    "slideshow": {
     "slide_type": "fragment"
    }
   },
   "source": [
    "The `ConcolicGrammarFuzzer` is used as follows."
   ]
  },
  {
   "cell_type": "code",
   "execution_count": 315,
   "metadata": {
    "execution": {
     "iopub.execute_input": "2022-01-04T17:42:30.600559Z",
     "iopub.status.busy": "2022-01-04T17:42:30.599877Z",
     "iopub.status.idle": "2022-01-04T17:42:30.796071Z",
     "shell.execute_reply": "2022-01-04T17:42:30.795549Z"
    },
    "slideshow": {
     "slide_type": "subslide"
    }
   },
   "outputs": [
    {
     "name": "stdout",
     "output_type": "stream",
     "text": [
      "update XT set G=D,v=X,B=X where V!=U<Q+e\n",
      "Table ('XT') was not found\n",
      "\n",
      "delete from months where (359)==7.28\n",
      "'0 records were deleted'\n",
      "\n",
      "select (--1.98418) from vehicles\n",
      "[1.98418, 1.98418, 1.98418]\n",
      "\n",
      "select _,l<P!=u!=x,495,w(l)*U-x(T) from vehicles\n",
      "Invalid WHERE ('(_,l<P!=u!=x,495,w(l)*U-x(T))')\n",
      "\n",
      "insert into vehicles (PZe) values ('&',9)\n",
      "Column ('PZe') was not found\n",
      "\n",
      "update vehicles set year=eI,p=wUr,company=q where (i/U)==M71\n",
      "Column ('p') was not found\n",
      "\n",
      "insert into g39yi (company) values (7,-2)\n",
      "Table ('g39yi') was not found\n",
      "\n",
      "select ((X8)) from months\n",
      "Invalid WHERE ('(((X8)))')\n",
      "\n",
      "insert into wc (kind) values ('Cj','D',-36,'Q')\n",
      "Table ('wc') was not found\n",
      "\n",
      "update months set k=SS80 where K/b/z-U-J/m(a)>v(X)+q\n",
      "Column ('k') was not found\n",
      "\n"
     ]
    }
   ],
   "source": [
    "cgf = ConcolicGrammarFuzzer(INVENTORY_GRAMMAR)\n",
    "cgf.prune_tokens(prune_tokens)\n",
    "for i in range(10):\n",
    "    query = cgf.fuzz()\n",
    "    print(query)\n",
    "    with ConcolicTracer() as _:\n",
    "        with ExpectError(print_traceback=False):\n",
    "            try:\n",
    "                res = _[db_select](query)\n",
    "                print(repr(res))\n",
    "            except SQLException as e:\n",
    "                print(e)\n",
    "        cgf.update_grammar(_)\n",
    "        print()"
   ]
  },
  {
   "cell_type": "markdown",
   "metadata": {
    "slideshow": {
     "slide_type": "subslide"
    }
   },
   "source": [
    "As can be seen, the fuzzer starts with no knowledge of the tables `vehicles`, `months` and `years`, but identifies it from the concolic execution, and lifts it to the grammar. This allows us to improve the effectiveness of fuzzing."
   ]
  },
  {
   "cell_type": "markdown",
   "metadata": {
    "slideshow": {
     "slide_type": "slide"
    }
   },
   "source": [
    "## Limitations\n",
    "\n",
    "As with dynamic taint analysis, implicit control flow can obscure the predicates encountered during concolic execution. However, this limitation could be overcome to some extent by wrapping any constants in the source with their respective proxy objects. Similarly, calls to internal C functions can cause the symbolic information to be discarded, and only partial information may be obtained."
   ]
  },
  {
   "cell_type": "markdown",
   "metadata": {
    "slideshow": {
     "slide_type": "slide"
    }
   },
   "source": [
    "## Synopsis"
   ]
  },
  {
   "cell_type": "markdown",
   "metadata": {
    "slideshow": {
     "slide_type": "fragment"
    }
   },
   "source": [
    "This chapter defines two main classes: `SimpleConcolicFuzzer` and `ConcolicGrammarFuzzer`. The `SimpleConcolicFuzzer` first uses a sample input to collect predicates encountered. The fuzzer then negates random predicates to generate new input constraints. These, when solved, produce inputs that explore paths that are close to the original path."
   ]
  },
  {
   "cell_type": "markdown",
   "metadata": {
    "slideshow": {
     "slide_type": "subslide"
    }
   },
   "source": [
    "### ConcolicTracer"
   ]
  },
  {
   "cell_type": "markdown",
   "metadata": {
    "slideshow": {
     "slide_type": "fragment"
    }
   },
   "source": [
    "At the heart of both fuzzers lies the concept of a _concolic tracer_, capturing symbolic variables and path conditions as a program gets executed.\n",
    "\n",
    "`ConcolicTracer` is used in a `with` block; the syntax `tracer[function]` executes `function` within the `tracer` while capturing conditions. Here is an example for the `cgi_decode()` function:"
   ]
  },
  {
   "cell_type": "code",
   "execution_count": 316,
   "metadata": {
    "execution": {
     "iopub.execute_input": "2022-01-04T17:42:30.800051Z",
     "iopub.status.busy": "2022-01-04T17:42:30.799475Z",
     "iopub.status.idle": "2022-01-04T17:42:30.803282Z",
     "shell.execute_reply": "2022-01-04T17:42:30.803773Z"
    },
    "slideshow": {
     "slide_type": "fragment"
    }
   },
   "outputs": [],
   "source": [
    "with ConcolicTracer() as _:\n",
    "    _[cgi_decode]('a%20d')"
   ]
  },
  {
   "cell_type": "markdown",
   "metadata": {
    "slideshow": {
     "slide_type": "fragment"
    }
   },
   "source": [
    "Once executed, we can retrieve the symbolic variables in the `decls` attribute. This is a mapping of symbolic variables to types."
   ]
  },
  {
   "cell_type": "code",
   "execution_count": 317,
   "metadata": {
    "execution": {
     "iopub.execute_input": "2022-01-04T17:42:30.807237Z",
     "iopub.status.busy": "2022-01-04T17:42:30.806695Z",
     "iopub.status.idle": "2022-01-04T17:42:30.809049Z",
     "shell.execute_reply": "2022-01-04T17:42:30.809411Z"
    },
    "slideshow": {
     "slide_type": "fragment"
    }
   },
   "outputs": [
    {
     "data": {
      "text/plain": [
       "{'cgi_decode_s_str_1': 'String'}"
      ]
     },
     "execution_count": 317,
     "metadata": {},
     "output_type": "execute_result"
    }
   ],
   "source": [
    "_.decls"
   ]
  },
  {
   "cell_type": "markdown",
   "metadata": {
    "slideshow": {
     "slide_type": "fragment"
    }
   },
   "source": [
    "The extracted path conditions can be found in the `path` attribute:"
   ]
  },
  {
   "cell_type": "code",
   "execution_count": 318,
   "metadata": {
    "execution": {
     "iopub.execute_input": "2022-01-04T17:42:30.812696Z",
     "iopub.status.busy": "2022-01-04T17:42:30.812178Z",
     "iopub.status.idle": "2022-01-04T17:42:30.820145Z",
     "shell.execute_reply": "2022-01-04T17:42:30.820518Z"
    },
    "slideshow": {
     "slide_type": "subslide"
    }
   },
   "outputs": [
    {
     "data": {
      "text/plain": [
       "[Not(str.substr(cgi_decode_s_str_1, 0, 1) == \"+\"),\n",
       " Not(str.substr(cgi_decode_s_str_1, 0, 1) == \"%\"),\n",
       " Not(str.substr(cgi_decode_s_str_1, 1, 1) == \"+\"),\n",
       " str.substr(cgi_decode_s_str_1, 1, 1) == \"%\",\n",
       " Not(str.substr(cgi_decode_s_str_1, 2, 1) == \"0\"),\n",
       " Not(str.substr(cgi_decode_s_str_1, 2, 1) == \"1\"),\n",
       " str.substr(cgi_decode_s_str_1, 2, 1) == \"2\",\n",
       " str.substr(cgi_decode_s_str_1, 3, 1) == \"0\",\n",
       " Not(str.substr(cgi_decode_s_str_1, 4, 1) == \"+\"),\n",
       " Not(str.substr(cgi_decode_s_str_1, 4, 1) == \"%\")]"
      ]
     },
     "execution_count": 318,
     "metadata": {},
     "output_type": "execute_result"
    }
   ],
   "source": [
    "_.path"
   ]
  },
  {
   "cell_type": "markdown",
   "metadata": {
    "slideshow": {
     "slide_type": "fragment"
    }
   },
   "source": [
    "The `context` attribute holds a pair of `decls` and `path` attributes; this is useful for passing it into the `ConcolicTracer` constructor."
   ]
  },
  {
   "cell_type": "code",
   "execution_count": 319,
   "metadata": {
    "execution": {
     "iopub.execute_input": "2022-01-04T17:42:30.823732Z",
     "iopub.status.busy": "2022-01-04T17:42:30.823215Z",
     "iopub.status.idle": "2022-01-04T17:42:30.825645Z",
     "shell.execute_reply": "2022-01-04T17:42:30.826213Z"
    },
    "slideshow": {
     "slide_type": "fragment"
    }
   },
   "outputs": [],
   "source": [
    "assert _.context == (_.decls, _.path)"
   ]
  },
  {
   "cell_type": "markdown",
   "metadata": {
    "slideshow": {
     "slide_type": "subslide"
    }
   },
   "source": [
    "We can solve these constraints to obtain a value for the function parameters that follow the same path as the original (traced) invocation:"
   ]
  },
  {
   "cell_type": "code",
   "execution_count": 320,
   "metadata": {
    "execution": {
     "iopub.execute_input": "2022-01-04T17:42:30.831275Z",
     "iopub.status.busy": "2022-01-04T17:42:30.830467Z",
     "iopub.status.idle": "2022-01-04T17:42:30.897949Z",
     "shell.execute_reply": "2022-01-04T17:42:30.898387Z"
    },
    "slideshow": {
     "slide_type": "fragment"
    }
   },
   "outputs": [
    {
     "data": {
      "text/plain": [
       "('sat', {'s': ('\\\\x00%20', 'String')})"
      ]
     },
     "execution_count": 320,
     "metadata": {},
     "output_type": "execute_result"
    }
   ],
   "source": [
    "_.zeval()"
   ]
  },
  {
   "cell_type": "markdown",
   "metadata": {
    "slideshow": {
     "slide_type": "fragment"
    }
   },
   "source": [
    "The `zeval()` function also allows to pass _alternate_ or _negated_ constraints. See the chapter for examples."
   ]
  },
  {
   "cell_type": "code",
   "execution_count": 321,
   "metadata": {
    "execution": {
     "iopub.execute_input": "2022-01-04T17:42:30.905427Z",
     "iopub.status.busy": "2022-01-04T17:42:30.904907Z",
     "iopub.status.idle": "2022-01-04T17:42:31.609042Z",
     "shell.execute_reply": "2022-01-04T17:42:31.609465Z"
    },
    "slideshow": {
     "slide_type": "skip"
    }
   },
   "outputs": [
    {
     "data": {
      "image/svg+xml": [
       "<?xml version=\"1.0\" encoding=\"UTF-8\" standalone=\"no\"?>\n",
       "<!DOCTYPE svg PUBLIC \"-//W3C//DTD SVG 1.1//EN\"\n",
       " \"http://www.w3.org/Graphics/SVG/1.1/DTD/svg11.dtd\">\n",
       "<!-- Generated by graphviz version 2.49.3 (20211023.0002)\n",
       " -->\n",
       "<!-- Pages: 1 -->\n",
       "<svg width=\"250pt\" height=\"128pt\"\n",
       " viewBox=\"0.00 0.00 250.00 128.00\" xmlns=\"http://www.w3.org/2000/svg\" xmlns:xlink=\"http://www.w3.org/1999/xlink\">\n",
       "<g id=\"graph0\" class=\"graph\" transform=\"scale(1 1) rotate(0) translate(4 124)\">\n",
       "<g id=\"a_graph0\"><a xlink:title=\"ConcolicTracer class hierarchy\">\n",
       "<polygon fill=\"white\" stroke=\"transparent\" points=\"-4,4 -4,-124 246,-124 246,4 -4,4\"/>\n",
       "</a>\n",
       "</g>\n",
       "<!-- ConcolicTracer -->\n",
       "<g id=\"node1\" class=\"node\">\n",
       "<title>ConcolicTracer</title>\n",
       "<g id=\"a_node1\"><a xlink:href=\"#\" xlink:title=\"class ConcolicTracer:&#10;Trace function execution, tracking variables and path conditions\">\n",
       "<polygon fill=\"none\" stroke=\"black\" points=\"0,-0.5 0,-119.5 106,-119.5 106,-0.5 0,-0.5\"/>\n",
       "<text text-anchor=\"start\" x=\"8\" y=\"-105.3\" font-family=\"Patua One, Helvetica, sans-serif\" font-weight=\"bold\" font-size=\"14.00\" fill=\"#b03a2e\">ConcolicTracer</text>\n",
       "<polyline fill=\"none\" stroke=\"black\" points=\"0,-96.5 106,-96.5 \"/>\n",
       "<g id=\"a_node1_0\"><a xlink:href=\"#\" xlink:title=\"ConcolicTracer\">\n",
       "<g id=\"a_node1_1\"><a xlink:href=\"#\" xlink:title=\"__call__(self, *args):&#10;Call self as a function.\">\n",
       "<text text-anchor=\"start\" x=\"14\" y=\"-85.5\" font-family=\"'Fira Mono', 'Source Code Pro', 'Courier', monospace\" font-weight=\"bold\" font-size=\"10.00\">__call__()</text>\n",
       "</a>\n",
       "</g>\n",
       "<g id=\"a_node1_2\"><a xlink:href=\"#\" xlink:title=\"__init__(self, context=None):&#10;Constructor.\">\n",
       "<text text-anchor=\"start\" x=\"14\" y=\"-74.5\" font-family=\"'Fira Mono', 'Source Code Pro', 'Courier', monospace\" font-weight=\"bold\" font-size=\"10.00\">__init__()</text>\n",
       "</a>\n",
       "</g>\n",
       "<g id=\"a_node1_3\"><a xlink:href=\"#\" xlink:title=\"zeval(self, predicates=None, *, python=False, log=False):&#10;Evaluate `predicates` in current context.&#10;&#45; If `python` is set, use the z3 Python API; otherwise use z3 standalone.&#10;&#45; If `log` is set, show input to z3.&#10;Return a pair (`result`, `solution`) where&#10;&#45; `result` is either `&#39;sat&#39;` (satisfiable); then&#10;solution` is a mapping of variables to (value, type) pairs; or&#10;&#45; `result` is not `&#39;sat&#39;`, indicating an error; then `solution` is `None`\">\n",
       "<text text-anchor=\"start\" x=\"14\" y=\"-63.5\" font-family=\"'Fira Mono', 'Source Code Pro', 'Courier', monospace\" font-weight=\"bold\" font-size=\"10.00\">zeval()</text>\n",
       "</a>\n",
       "</g>\n",
       "<g id=\"a_node1_4\"><a xlink:href=\"#\" xlink:title=\"__enter__(self)\">\n",
       "<text text-anchor=\"start\" x=\"14\" y=\"-51.5\" font-family=\"'Fira Mono', 'Source Code Pro', 'Courier', monospace\" font-size=\"10.00\">__enter__()</text>\n",
       "</a>\n",
       "</g>\n",
       "<g id=\"a_node1_5\"><a xlink:href=\"#\" xlink:title=\"__exit__(self, exc_type, exc_value, tb)\">\n",
       "<text text-anchor=\"start\" x=\"14\" y=\"-40.5\" font-family=\"'Fira Mono', 'Source Code Pro', 'Courier', monospace\" font-size=\"10.00\">__exit__()</text>\n",
       "</a>\n",
       "</g>\n",
       "<g id=\"a_node1_6\"><a xlink:href=\"#\" xlink:title=\"__getitem__(self, fn)\">\n",
       "<text text-anchor=\"start\" x=\"14\" y=\"-29.5\" font-family=\"'Fira Mono', 'Source Code Pro', 'Courier', monospace\" font-size=\"10.00\">__getitem__()</text>\n",
       "</a>\n",
       "</g>\n",
       "<g id=\"a_node1_7\"><a xlink:href=\"#\" xlink:title=\"concolic(self, args)\">\n",
       "<text text-anchor=\"start\" x=\"14\" y=\"-18.5\" font-family=\"'Fira Mono', 'Source Code Pro', 'Courier', monospace\" font-size=\"10.00\">concolic()</text>\n",
       "</a>\n",
       "</g>\n",
       "<g id=\"a_node1_8\"><a xlink:href=\"#\" xlink:title=\"smt_expr(self, show_decl=False, simplify=False, path=[])\">\n",
       "<text text-anchor=\"start\" x=\"14\" y=\"-7.5\" font-family=\"'Fira Mono', 'Source Code Pro', 'Courier', monospace\" font-size=\"10.00\">smt_expr()</text>\n",
       "</a>\n",
       "</g>\n",
       "</a>\n",
       "</g>\n",
       "</a>\n",
       "</g>\n",
       "</g>\n",
       "<!-- Legend -->\n",
       "<g id=\"node2\" class=\"node\">\n",
       "<title>Legend</title>\n",
       "<text text-anchor=\"start\" x=\"124\" y=\"-77.5\" font-family=\"Patua One, Helvetica, sans-serif\" font-weight=\"bold\" font-size=\"10.00\" fill=\"#b03a2e\">Legend</text>\n",
       "<text text-anchor=\"start\" x=\"124\" y=\"-67.5\" font-family=\"Patua One, Helvetica, sans-serif\" font-size=\"10.00\">• </text>\n",
       "<text text-anchor=\"start\" x=\"130\" y=\"-67.5\" font-family=\"'Fira Mono', 'Source Code Pro', 'Courier', monospace\" font-weight=\"bold\" font-size=\"8.00\">public_method()</text>\n",
       "<text text-anchor=\"start\" x=\"124\" y=\"-57.5\" font-family=\"Patua One, Helvetica, sans-serif\" font-size=\"10.00\">• </text>\n",
       "<text text-anchor=\"start\" x=\"130\" y=\"-57.5\" font-family=\"'Fira Mono', 'Source Code Pro', 'Courier', monospace\" font-size=\"8.00\">private_method()</text>\n",
       "<text text-anchor=\"start\" x=\"124\" y=\"-47.5\" font-family=\"Patua One, Helvetica, sans-serif\" font-size=\"10.00\">• </text>\n",
       "<text text-anchor=\"start\" x=\"130\" y=\"-47.5\" font-family=\"'Fira Mono', 'Source Code Pro', 'Courier', monospace\" font-style=\"italic\" font-size=\"8.00\">overloaded_method()</text>\n",
       "<text text-anchor=\"start\" x=\"124\" y=\"-38.3\" font-family=\"Helvetica,sans-Serif\" font-size=\"9.00\">Hover over names to see doc</text>\n",
       "</g>\n",
       "</g>\n",
       "</svg>\n"
      ],
      "text/plain": [
       "<graphviz.dot.Digraph at 0x11734dfa0>"
      ]
     },
     "execution_count": 321,
     "metadata": {},
     "output_type": "execute_result"
    }
   ],
   "source": [
    "from ClassDiagram import display_class_hierarchy\n",
    "display_class_hierarchy(ConcolicTracer)"
   ]
  },
  {
   "cell_type": "markdown",
   "metadata": {
    "slideshow": {
     "slide_type": "subslide"
    }
   },
   "source": [
    "### SimpleConcolicFuzzer"
   ]
  },
  {
   "cell_type": "markdown",
   "metadata": {
    "slideshow": {
     "slide_type": "fragment"
    }
   },
   "source": [
    "The constraints obtained from `ConcolicTracer` are added to the concolic fuzzer as follows:"
   ]
  },
  {
   "cell_type": "code",
   "execution_count": 322,
   "metadata": {
    "execution": {
     "iopub.execute_input": "2022-01-04T17:42:31.614307Z",
     "iopub.status.busy": "2022-01-04T17:42:31.613771Z",
     "iopub.status.idle": "2022-01-04T17:42:31.621202Z",
     "shell.execute_reply": "2022-01-04T17:42:31.621589Z"
    },
    "slideshow": {
     "slide_type": "fragment"
    }
   },
   "outputs": [],
   "source": [
    "scf = SimpleConcolicFuzzer()\n",
    "scf.add_trace(_, 'a%20d')"
   ]
  },
  {
   "cell_type": "markdown",
   "metadata": {
    "slideshow": {
     "slide_type": "fragment"
    }
   },
   "source": [
    "The concolic fuzzer then uses the constraints added to guide its fuzzing as follows:"
   ]
  },
  {
   "cell_type": "code",
   "execution_count": 323,
   "metadata": {
    "execution": {
     "iopub.execute_input": "2022-01-04T17:42:31.628062Z",
     "iopub.status.busy": "2022-01-04T17:42:31.627180Z",
     "iopub.status.idle": "2022-01-04T17:42:33.409630Z",
     "shell.execute_reply": "2022-01-04T17:42:33.410081Z"
    },
    "slideshow": {
     "slide_type": "subslide"
    }
   },
   "outputs": [
    {
     "name": "stdout",
     "output_type": "stream",
     "text": [
      "' '\n",
      "'%\\\\x00'\n",
      "'%7\\\\x00'\n"
     ]
    },
    {
     "name": "stderr",
     "output_type": "stream",
     "text": [
      "ValueError: Invalid encoding (expected)\n",
      "ValueError: Invalid encoding (expected)\n",
      "ValueError: Invalid encoding (expected)\n"
     ]
    },
    {
     "name": "stdout",
     "output_type": "stream",
     "text": [
      "'%\\\\x000\\\\x00'\n",
      "'%\\\\x009\\\\x00'\n",
      "'+\\\\x00'\n"
     ]
    },
    {
     "name": "stderr",
     "output_type": "stream",
     "text": [
      "ValueError: Invalid encoding (expected)\n"
     ]
    },
    {
     "name": "stdout",
     "output_type": "stream",
     "text": [
      "'%7e\\\\x00'\n",
      "'%b\\\\x00'\n",
      "''\n"
     ]
    },
    {
     "name": "stderr",
     "output_type": "stream",
     "text": [
      "ValueError: Invalid encoding (expected)\n"
     ]
    },
    {
     "name": "stdout",
     "output_type": "stream",
     "text": [
      "'%77\\\\x00'\n",
      "'%7E\\\\x00'\n",
      "'%73\\\\x00'\n",
      "'%7'\n",
      "'%77\\\\x00+\\\\x00'\n",
      "'%77\\\\x00\\\\x00\\\\x00+\\\\x00'\n"
     ]
    },
    {
     "name": "stderr",
     "output_type": "stream",
     "text": [
      "IndexError: string index out of range (expected)\n"
     ]
    },
    {
     "name": "stdout",
     "output_type": "stream",
     "text": [
      "'%1\\\\x00'\n",
      "'%7E\\\\x00%\\\\x00'\n"
     ]
    },
    {
     "name": "stderr",
     "output_type": "stream",
     "text": [
      "ValueError: Invalid encoding (expected)\n",
      "ValueError: Invalid encoding (expected)\n"
     ]
    },
    {
     "name": "stdout",
     "output_type": "stream",
     "text": [
      "'%75\\\\x00'\n",
      "'%\\\\x00C\\\\x00'\n",
      "'%73\\\\x00\\\\x00%\\\\x00'\n"
     ]
    },
    {
     "name": "stderr",
     "output_type": "stream",
     "text": [
      "ValueError: Invalid encoding (expected)\n",
      "ValueError: Invalid encoding (expected)\n"
     ]
    }
   ],
   "source": [
    "scf = SimpleConcolicFuzzer()\n",
    "for i in range(20):\n",
    "    v = scf.fuzz()\n",
    "    if v is None:\n",
    "        break\n",
    "    print(repr(v))\n",
    "    with ExpectError(print_traceback=False):\n",
    "        with ConcolicTracer() as _:\n",
    "            _[cgi_decode](v)\n",
    "    scf.add_trace(_, v)"
   ]
  },
  {
   "cell_type": "markdown",
   "metadata": {
    "slideshow": {
     "slide_type": "subslide"
    }
   },
   "source": [
    "We see how the additional inputs generated explore additional paths."
   ]
  },
  {
   "cell_type": "code",
   "execution_count": 324,
   "metadata": {
    "execution": {
     "iopub.execute_input": "2022-01-04T17:42:33.421285Z",
     "iopub.status.busy": "2022-01-04T17:42:33.417663Z",
     "iopub.status.idle": "2022-01-04T17:42:34.115594Z",
     "shell.execute_reply": "2022-01-04T17:42:34.116013Z"
    },
    "slideshow": {
     "slide_type": "fragment"
    }
   },
   "outputs": [
    {
     "data": {
      "image/svg+xml": [
       "<?xml version=\"1.0\" encoding=\"UTF-8\" standalone=\"no\"?>\n",
       "<!DOCTYPE svg PUBLIC \"-//W3C//DTD SVG 1.1//EN\"\n",
       " \"http://www.w3.org/Graphics/SVG/1.1/DTD/svg11.dtd\">\n",
       "<!-- Generated by graphviz version 2.49.3 (20211023.0002)\n",
       " -->\n",
       "<!-- Pages: 1 -->\n",
       "<svg width=\"296pt\" height=\"207pt\"\n",
       " viewBox=\"0.00 0.00 296.00 207.00\" xmlns=\"http://www.w3.org/2000/svg\" xmlns:xlink=\"http://www.w3.org/1999/xlink\">\n",
       "<g id=\"graph0\" class=\"graph\" transform=\"scale(1 1) rotate(0) translate(4 203)\">\n",
       "<g id=\"a_graph0\"><a xlink:title=\"SimpleConcolicFuzzer class hierarchy\">\n",
       "<polygon fill=\"white\" stroke=\"transparent\" points=\"-4,4 -4,-203 292,-203 292,4 -4,4\"/>\n",
       "</a>\n",
       "</g>\n",
       "<!-- SimpleConcolicFuzzer -->\n",
       "<g id=\"node1\" class=\"node\">\n",
       "<title>SimpleConcolicFuzzer</title>\n",
       "<g id=\"a_node1\"><a xlink:href=\"#\" xlink:title=\"class SimpleConcolicFuzzer:&#10;Base class for fuzzers.\">\n",
       "<polygon fill=\"none\" stroke=\"black\" points=\"0,-0.5 0,-86.5 152,-86.5 152,-0.5 0,-0.5\"/>\n",
       "<text text-anchor=\"start\" x=\"8\" y=\"-72.3\" font-family=\"Patua One, Helvetica, sans-serif\" font-weight=\"bold\" font-size=\"14.00\" fill=\"#b03a2e\">SimpleConcolicFuzzer</text>\n",
       "<polyline fill=\"none\" stroke=\"black\" points=\"0,-63.5 152,-63.5 \"/>\n",
       "<g id=\"a_node1_0\"><a xlink:href=\"#\" xlink:title=\"SimpleConcolicFuzzer\">\n",
       "<g id=\"a_node1_1\"><a xlink:href=\"#\" xlink:title=\"__init__(self):&#10;Constructor\">\n",
       "<text text-anchor=\"start\" x=\"37\" y=\"-52\" font-family=\"'Fira Mono', 'Source Code Pro', 'Courier', monospace\" font-weight=\"bold\" font-style=\"italic\" font-size=\"10.00\">__init__()</text>\n",
       "</a>\n",
       "</g>\n",
       "<g id=\"a_node1_2\"><a xlink:href=\"#\" xlink:title=\"fuzz(self):&#10;Return fuzz input\">\n",
       "<text text-anchor=\"start\" x=\"37\" y=\"-41\" font-family=\"'Fira Mono', 'Source Code Pro', 'Courier', monospace\" font-weight=\"bold\" font-style=\"italic\" font-size=\"10.00\">fuzz()</text>\n",
       "</a>\n",
       "</g>\n",
       "<g id=\"a_node1_3\"><a xlink:href=\"#\" xlink:title=\"add_trace(self, trace, s)\">\n",
       "<text text-anchor=\"start\" x=\"37\" y=\"-29\" font-family=\"'Fira Mono', 'Source Code Pro', 'Courier', monospace\" font-size=\"10.00\">add_trace()</text>\n",
       "</a>\n",
       "</g>\n",
       "<g id=\"a_node1_4\"><a xlink:href=\"#\" xlink:title=\"get_newpath(self)\">\n",
       "<text text-anchor=\"start\" x=\"37\" y=\"-18\" font-family=\"'Fira Mono', 'Source Code Pro', 'Courier', monospace\" font-size=\"10.00\">get_newpath()</text>\n",
       "</a>\n",
       "</g>\n",
       "<g id=\"a_node1_5\"><a xlink:href=\"#\" xlink:title=\"next_choice(self)\">\n",
       "<text text-anchor=\"start\" x=\"37\" y=\"-7\" font-family=\"'Fira Mono', 'Source Code Pro', 'Courier', monospace\" font-size=\"10.00\">next_choice()</text>\n",
       "</a>\n",
       "</g>\n",
       "</a>\n",
       "</g>\n",
       "</a>\n",
       "</g>\n",
       "</g>\n",
       "<!-- Fuzzer -->\n",
       "<g id=\"node2\" class=\"node\">\n",
       "<title>Fuzzer</title>\n",
       "<g id=\"a_node2\"><a xlink:href=\"Fuzzer.ipynb\" xlink:title=\"class Fuzzer:&#10;Base class for fuzzers.\">\n",
       "<polygon fill=\"none\" stroke=\"black\" points=\"37.5,-123.5 37.5,-198.5 114.5,-198.5 114.5,-123.5 37.5,-123.5\"/>\n",
       "<text text-anchor=\"start\" x=\"55\" y=\"-184.3\" font-family=\"Patua One, Helvetica, sans-serif\" font-weight=\"bold\" font-size=\"14.00\" fill=\"#b03a2e\">Fuzzer</text>\n",
       "<polyline fill=\"none\" stroke=\"black\" points=\"37.5,-175.5 114.5,-175.5 \"/>\n",
       "<g id=\"a_node2_6\"><a xlink:href=\"#\" xlink:title=\"Fuzzer\">\n",
       "<g id=\"a_node2_7\"><a xlink:href=\"Fuzzer.ipynb\" xlink:title=\"__init__(self) &#45;&gt; None:&#10;Constructor\">\n",
       "<text text-anchor=\"start\" x=\"46\" y=\"-164.5\" font-family=\"'Fira Mono', 'Source Code Pro', 'Courier', monospace\" font-weight=\"bold\" font-style=\"italic\" font-size=\"10.00\">__init__()</text>\n",
       "</a>\n",
       "</g>\n",
       "<g id=\"a_node2_8\"><a xlink:href=\"Fuzzer.ipynb\" xlink:title=\"fuzz(self) &#45;&gt; str:&#10;Return fuzz input\">\n",
       "<text text-anchor=\"start\" x=\"46\" y=\"-153.5\" font-family=\"'Fira Mono', 'Source Code Pro', 'Courier', monospace\" font-weight=\"bold\" font-style=\"italic\" font-size=\"10.00\">fuzz()</text>\n",
       "</a>\n",
       "</g>\n",
       "<g id=\"a_node2_9\"><a xlink:href=\"Fuzzer.ipynb\" xlink:title=\"run(self, runner: Fuzzer.Runner = &lt;Fuzzer.Runner object at 0x112a1a100&gt;) &#45;&gt; Tuple[subprocess.CompletedProcess, str]:&#10;Run `runner` with fuzz input\">\n",
       "<text text-anchor=\"start\" x=\"46\" y=\"-142.5\" font-family=\"'Fira Mono', 'Source Code Pro', 'Courier', monospace\" font-weight=\"bold\" font-size=\"10.00\">run()</text>\n",
       "</a>\n",
       "</g>\n",
       "<g id=\"a_node2_10\"><a xlink:href=\"Fuzzer.ipynb\" xlink:title=\"runs(self, runner: Fuzzer.Runner = &lt;Fuzzer.PrintRunner object at 0x112a1a7c0&gt;, trials: int = 10) &#45;&gt; List[Tuple[subprocess.CompletedProcess, str]]:&#10;Run `runner` with fuzz input, `trials` times\">\n",
       "<text text-anchor=\"start\" x=\"46\" y=\"-131.5\" font-family=\"'Fira Mono', 'Source Code Pro', 'Courier', monospace\" font-weight=\"bold\" font-size=\"10.00\">runs()</text>\n",
       "</a>\n",
       "</g>\n",
       "</a>\n",
       "</g>\n",
       "</a>\n",
       "</g>\n",
       "</g>\n",
       "<!-- SimpleConcolicFuzzer&#45;&gt;Fuzzer -->\n",
       "<g id=\"edge1\" class=\"edge\">\n",
       "<title>SimpleConcolicFuzzer&#45;&gt;Fuzzer</title>\n",
       "<path fill=\"none\" stroke=\"black\" d=\"M76,-86.52C76,-95.15 76,-104.28 76,-113.06\"/>\n",
       "<polygon fill=\"none\" stroke=\"black\" points=\"72.5,-113.16 76,-123.16 79.5,-113.16 72.5,-113.16\"/>\n",
       "</g>\n",
       "<!-- Legend -->\n",
       "<g id=\"node3\" class=\"node\">\n",
       "<title>Legend</title>\n",
       "<text text-anchor=\"start\" x=\"170\" y=\"-61\" font-family=\"Patua One, Helvetica, sans-serif\" font-weight=\"bold\" font-size=\"10.00\" fill=\"#b03a2e\">Legend</text>\n",
       "<text text-anchor=\"start\" x=\"170\" y=\"-51\" font-family=\"Patua One, Helvetica, sans-serif\" font-size=\"10.00\">• </text>\n",
       "<text text-anchor=\"start\" x=\"176\" y=\"-51\" font-family=\"'Fira Mono', 'Source Code Pro', 'Courier', monospace\" font-weight=\"bold\" font-size=\"8.00\">public_method()</text>\n",
       "<text text-anchor=\"start\" x=\"170\" y=\"-41\" font-family=\"Patua One, Helvetica, sans-serif\" font-size=\"10.00\">• </text>\n",
       "<text text-anchor=\"start\" x=\"176\" y=\"-41\" font-family=\"'Fira Mono', 'Source Code Pro', 'Courier', monospace\" font-size=\"8.00\">private_method()</text>\n",
       "<text text-anchor=\"start\" x=\"170\" y=\"-31\" font-family=\"Patua One, Helvetica, sans-serif\" font-size=\"10.00\">• </text>\n",
       "<text text-anchor=\"start\" x=\"176\" y=\"-31\" font-family=\"'Fira Mono', 'Source Code Pro', 'Courier', monospace\" font-style=\"italic\" font-size=\"8.00\">overloaded_method()</text>\n",
       "<text text-anchor=\"start\" x=\"170\" y=\"-21.8\" font-family=\"Helvetica,sans-Serif\" font-size=\"9.00\">Hover over names to see doc</text>\n",
       "</g>\n",
       "</g>\n",
       "</svg>\n"
      ],
      "text/plain": [
       "<graphviz.dot.Digraph at 0x11709e9a0>"
      ]
     },
     "execution_count": 324,
     "metadata": {},
     "output_type": "execute_result"
    }
   ],
   "source": [
    "display_class_hierarchy(SimpleConcolicFuzzer)"
   ]
  },
  {
   "cell_type": "markdown",
   "metadata": {
    "slideshow": {
     "slide_type": "subslide"
    }
   },
   "source": [
    "### ConcolicGrammarFuzzer\n",
    "\n",
    "The `SimpleConcolicFuzzer` simply explores all paths near the original path traversed by the sample input. It uses a simple mechanism to explore the paths that are near the paths that it knows about, and other than code paths, knows nothing about the input.\n",
    "\n",
    "The `ConcolicGrammarFuzzer` on the other hand, knows about the input grammar, and can collect feedback from the subject under fuzzing. It can lift some of the constraints encountered to the grammar, enabling deeper fuzzing. It is used as follows:"
   ]
  },
  {
   "cell_type": "code",
   "execution_count": 325,
   "metadata": {
    "execution": {
     "iopub.execute_input": "2022-01-04T17:42:34.120823Z",
     "iopub.status.busy": "2022-01-04T17:42:34.119995Z",
     "iopub.status.idle": "2022-01-04T17:42:34.122856Z",
     "shell.execute_reply": "2022-01-04T17:42:34.122256Z"
    },
    "slideshow": {
     "slide_type": "skip"
    }
   },
   "outputs": [],
   "source": [
    "from InformationFlow import INVENTORY_GRAMMAR, SQLException"
   ]
  },
  {
   "cell_type": "code",
   "execution_count": 326,
   "metadata": {
    "execution": {
     "iopub.execute_input": "2022-01-04T17:42:34.164989Z",
     "iopub.status.busy": "2022-01-04T17:42:34.164258Z",
     "iopub.status.idle": "2022-01-04T17:42:34.355543Z",
     "shell.execute_reply": "2022-01-04T17:42:34.356115Z"
    },
    "slideshow": {
     "slide_type": "subslide"
    }
   },
   "outputs": [
    {
     "name": "stdout",
     "output_type": "stream",
     "text": [
      "update w set kF=: where w8(y(W)<h)-j!=:BLlf((C>R)!=:)\n",
      "Table ('w') was not found\n",
      "\n",
      "delete from months where (--0==L<c/K)!=H-W>S/N==m==l\n",
      "Invalid WHERE ('(--0==L<c/K)!=H-W>S/N==m==l')\n",
      "\n",
      "select -6.9 from nYD38G47083\n",
      "Table ('nYD38G47083') was not found\n",
      "\n",
      "select (((r)==((L))!=q)) from bhTy where I==i*S==x==F\n",
      "Table ('bhTy') was not found\n",
      "\n",
      "insert into vehicles (Vb,L) values (88.578)\n",
      "Column ('Vb') was not found\n",
      "\n",
      "select (C/c>B(d,n,X)),d,J,R from S\n",
      "Table ('S') was not found\n",
      "\n",
      "insert into PG58 (L) values (5)\n",
      "Table ('PG58') was not found\n",
      "\n",
      "select --932.7==R0Q from r993\n",
      "Table ('r993') was not found\n",
      "\n",
      "insert into S9Iz1C (la,B9) values ('aqu')\n",
      "Table ('S9Iz1C') was not found\n",
      "\n",
      "delete from vehicles where W/V!=A(f)+t<O*E/S-.\n",
      "Invalid WHERE ('W/V!=A(f)+t<O*E/S-.')\n",
      "\n"
     ]
    }
   ],
   "source": [
    "cgf = ConcolicGrammarFuzzer(INVENTORY_GRAMMAR)\n",
    "cgf.prune_tokens(prune_tokens)\n",
    "for i in range(10):\n",
    "    query = cgf.fuzz()\n",
    "    print(query)\n",
    "    with ConcolicTracer() as _:\n",
    "        with ExpectError(print_traceback=False):\n",
    "            try:\n",
    "                res = _[db_select](query)\n",
    "                print(repr(res))\n",
    "            except SQLException as e:\n",
    "                print(e)\n",
    "        cgf.update_grammar(_)\n",
    "        print()"
   ]
  },
  {
   "cell_type": "code",
   "execution_count": 327,
   "metadata": {
    "execution": {
     "iopub.execute_input": "2022-01-04T17:42:34.373662Z",
     "iopub.status.busy": "2022-01-04T17:42:34.372752Z",
     "iopub.status.idle": "2022-01-04T17:42:34.957140Z",
     "shell.execute_reply": "2022-01-04T17:42:34.957595Z"
    },
    "slideshow": {
     "slide_type": "subslide"
    }
   },
   "outputs": [
    {
     "data": {
      "image/svg+xml": [
       "<?xml version=\"1.0\" encoding=\"UTF-8\" standalone=\"no\"?>\n",
       "<!DOCTYPE svg PUBLIC \"-//W3C//DTD SVG 1.1//EN\"\n",
       " \"http://www.w3.org/Graphics/SVG/1.1/DTD/svg11.dtd\">\n",
       "<!-- Generated by graphviz version 2.49.3 (20211023.0002)\n",
       " -->\n",
       "<!-- Pages: 1 -->\n",
       "<svg width=\"318pt\" height=\"539pt\"\n",
       " viewBox=\"0.00 0.00 317.50 539.00\" xmlns=\"http://www.w3.org/2000/svg\" xmlns:xlink=\"http://www.w3.org/1999/xlink\">\n",
       "<g id=\"graph0\" class=\"graph\" transform=\"scale(1 1) rotate(0) translate(4 535)\">\n",
       "<g id=\"a_graph0\"><a xlink:title=\"ConcolicGrammarFuzzer class hierarchy\">\n",
       "<polygon fill=\"white\" stroke=\"transparent\" points=\"-4,4 -4,-535 313.5,-535 313.5,4 -4,4\"/>\n",
       "</a>\n",
       "</g>\n",
       "<!-- ConcolicGrammarFuzzer -->\n",
       "<g id=\"node1\" class=\"node\">\n",
       "<title>ConcolicGrammarFuzzer</title>\n",
       "<g id=\"a_node1\"><a xlink:href=\"#\" xlink:title=\"class ConcolicGrammarFuzzer:&#10;Produce strings from grammars efficiently, using derivation trees.\">\n",
       "<polygon fill=\"none\" stroke=\"black\" points=\"5.5,-0.5 5.5,-97.5 173.5,-97.5 173.5,-0.5 5.5,-0.5\"/>\n",
       "<text text-anchor=\"start\" x=\"13.5\" y=\"-83.3\" font-family=\"Patua One, Helvetica, sans-serif\" font-weight=\"bold\" font-size=\"14.00\" fill=\"#b03a2e\">ConcolicGrammarFuzzer</text>\n",
       "<polyline fill=\"none\" stroke=\"black\" points=\"5.5,-74.5 173.5,-74.5 \"/>\n",
       "<g id=\"a_node1_0\"><a xlink:href=\"#\" xlink:title=\"ConcolicGrammarFuzzer\">\n",
       "<g id=\"a_node1_1\"><a xlink:href=\"#\" xlink:title=\"fuzz(self):&#10;Produce a string from the grammar.\">\n",
       "<text text-anchor=\"start\" x=\"41.5\" y=\"-63.5\" font-family=\"'Fira Mono', 'Source Code Pro', 'Courier', monospace\" font-weight=\"bold\" font-style=\"italic\" font-size=\"10.00\">fuzz()</text>\n",
       "</a>\n",
       "</g>\n",
       "<g id=\"a_node1_2\"><a xlink:href=\"#\" xlink:title=\"coalesce(self, children)\">\n",
       "<text text-anchor=\"start\" x=\"41.5\" y=\"-51.5\" font-family=\"'Fira Mono', 'Source Code Pro', 'Courier', monospace\" font-size=\"10.00\">coalesce()</text>\n",
       "</a>\n",
       "</g>\n",
       "<g id=\"a_node1_3\"><a xlink:href=\"#\" xlink:title=\"prune_tokens(self, tokens)\">\n",
       "<text text-anchor=\"start\" x=\"41.5\" y=\"-40.5\" font-family=\"'Fira Mono', 'Source Code Pro', 'Courier', monospace\" font-size=\"10.00\">prune_tokens()</text>\n",
       "</a>\n",
       "</g>\n",
       "<g id=\"a_node1_4\"><a xlink:href=\"#\" xlink:title=\"prune_tree(self, tree, tokens)\">\n",
       "<text text-anchor=\"start\" x=\"41.5\" y=\"-29.5\" font-family=\"'Fira Mono', 'Source Code Pro', 'Courier', monospace\" font-size=\"10.00\">prune_tree()</text>\n",
       "</a>\n",
       "</g>\n",
       "<g id=\"a_node1_5\"><a xlink:href=\"#\" xlink:title=\"tree_to_string(self, tree)\">\n",
       "<text text-anchor=\"start\" x=\"41.5\" y=\"-18.5\" font-family=\"'Fira Mono', 'Source Code Pro', 'Courier', monospace\" font-size=\"10.00\">tree_to_string()</text>\n",
       "</a>\n",
       "</g>\n",
       "<g id=\"a_node1_6\"><a xlink:href=\"#\" xlink:title=\"update_grammar(self, trace)\">\n",
       "<text text-anchor=\"start\" x=\"41.5\" y=\"-7.5\" font-family=\"'Fira Mono', 'Source Code Pro', 'Courier', monospace\" font-size=\"10.00\">update_grammar()</text>\n",
       "</a>\n",
       "</g>\n",
       "</a>\n",
       "</g>\n",
       "</a>\n",
       "</g>\n",
       "</g>\n",
       "<!-- GrammarFuzzer -->\n",
       "<g id=\"node2\" class=\"node\">\n",
       "<title>GrammarFuzzer</title>\n",
       "<g id=\"a_node2\"><a xlink:href=\"GrammarFuzzer.ipynb\" xlink:title=\"class GrammarFuzzer:&#10;Produce strings from grammars efficiently, using derivation trees.\">\n",
       "<polygon fill=\"none\" stroke=\"black\" points=\"0,-134.5 0,-418.5 179,-418.5 179,-134.5 0,-134.5\"/>\n",
       "<text text-anchor=\"start\" x=\"39.5\" y=\"-404.3\" font-family=\"Patua One, Helvetica, sans-serif\" font-weight=\"bold\" font-size=\"14.00\" fill=\"#b03a2e\">GrammarFuzzer</text>\n",
       "<polyline fill=\"none\" stroke=\"black\" points=\"0,-395.5 179,-395.5 \"/>\n",
       "<g id=\"a_node2_7\"><a xlink:href=\"#\" xlink:title=\"GrammarFuzzer\">\n",
       "<g id=\"a_node2_8\"><a xlink:href=\"GrammarFuzzer.ipynb\" xlink:title=\"__init__(self, grammar: Dict[str, List[Union[str, Tuple[str, Dict[str, Any]]]]], start_symbol: str = &#39;&lt;start&gt;&#39;, min_nonterminals: int = 0, max_nonterminals: int = 10, disp: bool = False, log: Union[bool, int] = False) &#45;&gt; None:&#10;Produce strings from `grammar`, starting with `start_symbol`.&#10;If `min_nonterminals` or `max_nonterminals` is given, use them as limits&#10;for the number of nonterminals produced.&#10;If `disp` is set, display the intermediate derivation trees.&#10;If `log` is set, show intermediate steps as text on standard output.\">\n",
       "<text text-anchor=\"start\" x=\"8.5\" y=\"-384\" font-family=\"'Fira Mono', 'Source Code Pro', 'Courier', monospace\" font-weight=\"bold\" font-style=\"italic\" font-size=\"10.00\">__init__()</text>\n",
       "</a>\n",
       "</g>\n",
       "<g id=\"a_node2_9\"><a xlink:href=\"GrammarFuzzer.ipynb\" xlink:title=\"check_grammar(self) &#45;&gt; None:&#10;Check the grammar passed\">\n",
       "<text text-anchor=\"start\" x=\"8.5\" y=\"-373\" font-family=\"'Fira Mono', 'Source Code Pro', 'Courier', monospace\" font-weight=\"bold\" font-size=\"10.00\">check_grammar()</text>\n",
       "</a>\n",
       "</g>\n",
       "<g id=\"a_node2_10\"><a xlink:href=\"GrammarFuzzer.ipynb\" xlink:title=\"choose_node_expansion(self, node: Tuple[str, Optional[List[Any]]], children_alternatives: List[List[Tuple[str, Optional[List[Any]]]]]) &#45;&gt; int:&#10;Return index of expansion in `children_alternatives` to be selected.&#10;&#39;children_alternatives`: a list of possible children for `node`.&#10;Defaults to random. To be overloaded in subclasses.\">\n",
       "<text text-anchor=\"start\" x=\"8.5\" y=\"-362\" font-family=\"'Fira Mono', 'Source Code Pro', 'Courier', monospace\" font-weight=\"bold\" font-style=\"italic\" font-size=\"10.00\">choose_node_expansion()</text>\n",
       "</a>\n",
       "</g>\n",
       "<g id=\"a_node2_11\"><a xlink:href=\"GrammarFuzzer.ipynb\" xlink:title=\"choose_tree_expansion(self, tree: Tuple[str, Optional[List[Any]]], children: List[Tuple[str, Optional[List[Any]]]]) &#45;&gt; int:&#10;Return index of subtree in `children` to be selected for expansion.&#10;Defaults to random.\">\n",
       "<text text-anchor=\"start\" x=\"8.5\" y=\"-351\" font-family=\"'Fira Mono', 'Source Code Pro', 'Courier', monospace\" font-weight=\"bold\" font-size=\"10.00\">choose_tree_expansion()</text>\n",
       "</a>\n",
       "</g>\n",
       "<g id=\"a_node2_12\"><a xlink:href=\"GrammarFuzzer.ipynb\" xlink:title=\"expand_node_randomly(self, node: Tuple[str, Optional[List[Any]]]) &#45;&gt; Tuple[str, Optional[List[Any]]]:&#10;Choose a random expansion for `node` and return it\">\n",
       "<text text-anchor=\"start\" x=\"8.5\" y=\"-340\" font-family=\"'Fira Mono', 'Source Code Pro', 'Courier', monospace\" font-weight=\"bold\" font-size=\"10.00\">expand_node_randomly()</text>\n",
       "</a>\n",
       "</g>\n",
       "<g id=\"a_node2_13\"><a xlink:href=\"GrammarFuzzer.ipynb\" xlink:title=\"expand_tree(self, tree: Tuple[str, Optional[List[Any]]]) &#45;&gt; Tuple[str, Optional[List[Any]]]:&#10;Expand `tree` in a three&#45;phase strategy until all expansions are complete.\">\n",
       "<text text-anchor=\"start\" x=\"8.5\" y=\"-329\" font-family=\"'Fira Mono', 'Source Code Pro', 'Courier', monospace\" font-weight=\"bold\" font-size=\"10.00\">expand_tree()</text>\n",
       "</a>\n",
       "</g>\n",
       "<g id=\"a_node2_14\"><a xlink:href=\"GrammarFuzzer.ipynb\" xlink:title=\"expand_tree_once(self, tree: Tuple[str, Optional[List[Any]]]) &#45;&gt; Tuple[str, Optional[List[Any]]]:&#10;Choose an unexpanded symbol in tree; expand it.&#10;Can be overloaded in subclasses.\">\n",
       "<text text-anchor=\"start\" x=\"8.5\" y=\"-318\" font-family=\"'Fira Mono', 'Source Code Pro', 'Courier', monospace\" font-weight=\"bold\" font-style=\"italic\" font-size=\"10.00\">expand_tree_once()</text>\n",
       "</a>\n",
       "</g>\n",
       "<g id=\"a_node2_15\"><a xlink:href=\"GrammarFuzzer.ipynb\" xlink:title=\"expand_tree_with_strategy(self, tree: Tuple[str, Optional[List[Any]]], expand_node_method: Callable, limit: Optional[int] = None):&#10;Expand tree using `expand_node_method` as node expansion function&#10;until the number of possible expansions reaches `limit`.\">\n",
       "<text text-anchor=\"start\" x=\"8.5\" y=\"-307\" font-family=\"'Fira Mono', 'Source Code Pro', 'Courier', monospace\" font-weight=\"bold\" font-size=\"10.00\">expand_tree_with_strategy()</text>\n",
       "</a>\n",
       "</g>\n",
       "<g id=\"a_node2_16\"><a xlink:href=\"GrammarFuzzer.ipynb\" xlink:title=\"fuzz(self) &#45;&gt; str:&#10;Produce a string from the grammar.\">\n",
       "<text text-anchor=\"start\" x=\"8.5\" y=\"-296\" font-family=\"'Fira Mono', 'Source Code Pro', 'Courier', monospace\" font-weight=\"bold\" font-style=\"italic\" font-size=\"10.00\">fuzz()</text>\n",
       "</a>\n",
       "</g>\n",
       "<g id=\"a_node2_17\"><a xlink:href=\"GrammarFuzzer.ipynb\" xlink:title=\"fuzz_tree(self) &#45;&gt; Tuple[str, Optional[List[Any]]]:&#10;Produce a derivation tree from the grammar.\">\n",
       "<text text-anchor=\"start\" x=\"8.5\" y=\"-285\" font-family=\"'Fira Mono', 'Source Code Pro', 'Courier', monospace\" font-weight=\"bold\" font-size=\"10.00\">fuzz_tree()</text>\n",
       "</a>\n",
       "</g>\n",
       "<g id=\"a_node2_18\"><a xlink:href=\"GrammarFuzzer.ipynb\" xlink:title=\"log_tree(self, tree: Tuple[str, Optional[List[Any]]]) &#45;&gt; None:&#10;Output a tree if self.log is set; if self.display is also set, show the tree structure\">\n",
       "<text text-anchor=\"start\" x=\"8.5\" y=\"-274\" font-family=\"'Fira Mono', 'Source Code Pro', 'Courier', monospace\" font-weight=\"bold\" font-size=\"10.00\">log_tree()</text>\n",
       "</a>\n",
       "</g>\n",
       "<g id=\"a_node2_19\"><a xlink:href=\"GrammarFuzzer.ipynb\" xlink:title=\"process_chosen_children(self, chosen_children: List[Tuple[str, Optional[List[Any]]]], expansion: Union[str, Tuple[str, Dict[str, Any]]]) &#45;&gt; List[Tuple[str, Optional[List[Any]]]]:&#10;Process children after selection. &#160;By default, does nothing.\">\n",
       "<text text-anchor=\"start\" x=\"8.5\" y=\"-263\" font-family=\"'Fira Mono', 'Source Code Pro', 'Courier', monospace\" font-weight=\"bold\" font-size=\"10.00\">process_chosen_children()</text>\n",
       "</a>\n",
       "</g>\n",
       "<g id=\"a_node2_20\"><a xlink:href=\"GrammarFuzzer.ipynb\" xlink:title=\"supported_opts(self) &#45;&gt; Set[str]:&#10;Set of supported options. To be overloaded in subclasses.\">\n",
       "<text text-anchor=\"start\" x=\"8.5\" y=\"-252\" font-family=\"'Fira Mono', 'Source Code Pro', 'Courier', monospace\" font-weight=\"bold\" font-style=\"italic\" font-size=\"10.00\">supported_opts()</text>\n",
       "</a>\n",
       "</g>\n",
       "<g id=\"a_node2_21\"><a xlink:href=\"GrammarFuzzer.ipynb\" xlink:title=\"any_possible_expansions(self, node: Tuple[str, Optional[List[Any]]]) &#45;&gt; bool\">\n",
       "<text text-anchor=\"start\" x=\"8.5\" y=\"-240\" font-family=\"'Fira Mono', 'Source Code Pro', 'Courier', monospace\" font-size=\"10.00\">any_possible_expansions()</text>\n",
       "</a>\n",
       "</g>\n",
       "<g id=\"a_node2_22\"><a xlink:href=\"GrammarFuzzer.ipynb\" xlink:title=\"expand_node(self, node: Tuple[str, Optional[List[Any]]]) &#45;&gt; Tuple[str, Optional[List[Any]]]\">\n",
       "<text text-anchor=\"start\" x=\"8.5\" y=\"-229\" font-family=\"'Fira Mono', 'Source Code Pro', 'Courier', monospace\" font-size=\"10.00\">expand_node()</text>\n",
       "</a>\n",
       "</g>\n",
       "<g id=\"a_node2_23\"><a xlink:href=\"GrammarFuzzer.ipynb\" xlink:title=\"expand_node_by_cost(self, node: Tuple[str, Optional[List[Any]]], choose: Callable = &lt;built&#45;in function min&gt;) &#45;&gt; Tuple[str, Optional[List[Any]]]\">\n",
       "<text text-anchor=\"start\" x=\"8.5\" y=\"-218\" font-family=\"'Fira Mono', 'Source Code Pro', 'Courier', monospace\" font-size=\"10.00\">expand_node_by_cost()</text>\n",
       "</a>\n",
       "</g>\n",
       "<g id=\"a_node2_24\"><a xlink:href=\"GrammarFuzzer.ipynb\" xlink:title=\"expand_node_max_cost(self, node: Tuple[str, Optional[List[Any]]]) &#45;&gt; Tuple[str, Optional[List[Any]]]\">\n",
       "<text text-anchor=\"start\" x=\"8.5\" y=\"-207\" font-family=\"'Fira Mono', 'Source Code Pro', 'Courier', monospace\" font-size=\"10.00\">expand_node_max_cost()</text>\n",
       "</a>\n",
       "</g>\n",
       "<g id=\"a_node2_25\"><a xlink:href=\"GrammarFuzzer.ipynb\" xlink:title=\"expand_node_min_cost(self, node: Tuple[str, Optional[List[Any]]]) &#45;&gt; Tuple[str, Optional[List[Any]]]\">\n",
       "<text text-anchor=\"start\" x=\"8.5\" y=\"-196\" font-family=\"'Fira Mono', 'Source Code Pro', 'Courier', monospace\" font-size=\"10.00\">expand_node_min_cost()</text>\n",
       "</a>\n",
       "</g>\n",
       "<g id=\"a_node2_26\"><a xlink:href=\"GrammarFuzzer.ipynb\" xlink:title=\"expansion_cost(self, expansion: Union[str, Tuple[str, Dict[str, Any]]], seen: Set[str] = set()) &#45;&gt; Union[int, float]\">\n",
       "<text text-anchor=\"start\" x=\"8.5\" y=\"-185\" font-family=\"'Fira Mono', 'Source Code Pro', 'Courier', monospace\" font-size=\"10.00\">expansion_cost()</text>\n",
       "</a>\n",
       "</g>\n",
       "<g id=\"a_node2_27\"><a xlink:href=\"GrammarFuzzer.ipynb\" xlink:title=\"expansion_to_children(self, expansion: Union[str, Tuple[str, Dict[str, Any]]]) &#45;&gt; List[Tuple[str, Optional[List[Any]]]]\">\n",
       "<text text-anchor=\"start\" x=\"8.5\" y=\"-174\" font-family=\"'Fira Mono', 'Source Code Pro', 'Courier', monospace\" font-size=\"10.00\">expansion_to_children()</text>\n",
       "</a>\n",
       "</g>\n",
       "<g id=\"a_node2_28\"><a xlink:href=\"GrammarFuzzer.ipynb\" xlink:title=\"init_tree(self) &#45;&gt; Tuple[str, Optional[List[Any]]]\">\n",
       "<text text-anchor=\"start\" x=\"8.5\" y=\"-163\" font-family=\"'Fira Mono', 'Source Code Pro', 'Courier', monospace\" font-size=\"10.00\">init_tree()</text>\n",
       "</a>\n",
       "</g>\n",
       "<g id=\"a_node2_29\"><a xlink:href=\"GrammarFuzzer.ipynb\" xlink:title=\"possible_expansions(self, node: Tuple[str, Optional[List[Any]]]) &#45;&gt; int\">\n",
       "<text text-anchor=\"start\" x=\"8.5\" y=\"-152\" font-family=\"'Fira Mono', 'Source Code Pro', 'Courier', monospace\" font-size=\"10.00\">possible_expansions()</text>\n",
       "</a>\n",
       "</g>\n",
       "<g id=\"a_node2_30\"><a xlink:href=\"GrammarFuzzer.ipynb\" xlink:title=\"symbol_cost(self, symbol: str, seen: Set[str] = set()) &#45;&gt; Union[int, float]\">\n",
       "<text text-anchor=\"start\" x=\"8.5\" y=\"-141\" font-family=\"'Fira Mono', 'Source Code Pro', 'Courier', monospace\" font-size=\"10.00\">symbol_cost()</text>\n",
       "</a>\n",
       "</g>\n",
       "</a>\n",
       "</g>\n",
       "</a>\n",
       "</g>\n",
       "</g>\n",
       "<!-- ConcolicGrammarFuzzer&#45;&gt;GrammarFuzzer -->\n",
       "<g id=\"edge1\" class=\"edge\">\n",
       "<title>ConcolicGrammarFuzzer&#45;&gt;GrammarFuzzer</title>\n",
       "<path fill=\"none\" stroke=\"black\" d=\"M89.5,-97.55C89.5,-105.89 89.5,-114.96 89.5,-124.44\"/>\n",
       "<polygon fill=\"none\" stroke=\"black\" points=\"86,-124.45 89.5,-134.45 93,-124.45 86,-124.45\"/>\n",
       "</g>\n",
       "<!-- Fuzzer -->\n",
       "<g id=\"node3\" class=\"node\">\n",
       "<title>Fuzzer</title>\n",
       "<g id=\"a_node3\"><a xlink:href=\"Fuzzer.ipynb\" xlink:title=\"class Fuzzer:&#10;Base class for fuzzers.\">\n",
       "<polygon fill=\"none\" stroke=\"black\" points=\"51,-455.5 51,-530.5 128,-530.5 128,-455.5 51,-455.5\"/>\n",
       "<text text-anchor=\"start\" x=\"68.5\" y=\"-516.3\" font-family=\"Patua One, Helvetica, sans-serif\" font-weight=\"bold\" font-size=\"14.00\" fill=\"#b03a2e\">Fuzzer</text>\n",
       "<polyline fill=\"none\" stroke=\"black\" points=\"51,-507.5 128,-507.5 \"/>\n",
       "<g id=\"a_node3_31\"><a xlink:href=\"#\" xlink:title=\"Fuzzer\">\n",
       "<g id=\"a_node3_32\"><a xlink:href=\"Fuzzer.ipynb\" xlink:title=\"__init__(self) &#45;&gt; None:&#10;Constructor\">\n",
       "<text text-anchor=\"start\" x=\"59.5\" y=\"-496.5\" font-family=\"'Fira Mono', 'Source Code Pro', 'Courier', monospace\" font-weight=\"bold\" font-style=\"italic\" font-size=\"10.00\">__init__()</text>\n",
       "</a>\n",
       "</g>\n",
       "<g id=\"a_node3_33\"><a xlink:href=\"Fuzzer.ipynb\" xlink:title=\"fuzz(self) &#45;&gt; str:&#10;Return fuzz input\">\n",
       "<text text-anchor=\"start\" x=\"59.5\" y=\"-485.5\" font-family=\"'Fira Mono', 'Source Code Pro', 'Courier', monospace\" font-weight=\"bold\" font-style=\"italic\" font-size=\"10.00\">fuzz()</text>\n",
       "</a>\n",
       "</g>\n",
       "<g id=\"a_node3_34\"><a xlink:href=\"Fuzzer.ipynb\" xlink:title=\"run(self, runner: Fuzzer.Runner = &lt;Fuzzer.Runner object at 0x112a1a100&gt;) &#45;&gt; Tuple[subprocess.CompletedProcess, str]:&#10;Run `runner` with fuzz input\">\n",
       "<text text-anchor=\"start\" x=\"59.5\" y=\"-474.5\" font-family=\"'Fira Mono', 'Source Code Pro', 'Courier', monospace\" font-weight=\"bold\" font-size=\"10.00\">run()</text>\n",
       "</a>\n",
       "</g>\n",
       "<g id=\"a_node3_35\"><a xlink:href=\"Fuzzer.ipynb\" xlink:title=\"runs(self, runner: Fuzzer.Runner = &lt;Fuzzer.PrintRunner object at 0x112a1a7c0&gt;, trials: int = 10) &#45;&gt; List[Tuple[subprocess.CompletedProcess, str]]:&#10;Run `runner` with fuzz input, `trials` times\">\n",
       "<text text-anchor=\"start\" x=\"59.5\" y=\"-463.5\" font-family=\"'Fira Mono', 'Source Code Pro', 'Courier', monospace\" font-weight=\"bold\" font-size=\"10.00\">runs()</text>\n",
       "</a>\n",
       "</g>\n",
       "</a>\n",
       "</g>\n",
       "</a>\n",
       "</g>\n",
       "</g>\n",
       "<!-- GrammarFuzzer&#45;&gt;Fuzzer -->\n",
       "<g id=\"edge2\" class=\"edge\">\n",
       "<title>GrammarFuzzer&#45;&gt;Fuzzer</title>\n",
       "<path fill=\"none\" stroke=\"black\" d=\"M89.5,-418.78C89.5,-428.16 89.5,-437.15 89.5,-445.42\"/>\n",
       "<polygon fill=\"none\" stroke=\"black\" points=\"86,-445.49 89.5,-455.49 93,-445.49 86,-445.49\"/>\n",
       "</g>\n",
       "<!-- Legend -->\n",
       "<g id=\"node4\" class=\"node\">\n",
       "<title>Legend</title>\n",
       "<text text-anchor=\"start\" x=\"191.5\" y=\"-66.5\" font-family=\"Patua One, Helvetica, sans-serif\" font-weight=\"bold\" font-size=\"10.00\" fill=\"#b03a2e\">Legend</text>\n",
       "<text text-anchor=\"start\" x=\"191.5\" y=\"-56.5\" font-family=\"Patua One, Helvetica, sans-serif\" font-size=\"10.00\">• </text>\n",
       "<text text-anchor=\"start\" x=\"197.5\" y=\"-56.5\" font-family=\"'Fira Mono', 'Source Code Pro', 'Courier', monospace\" font-weight=\"bold\" font-size=\"8.00\">public_method()</text>\n",
       "<text text-anchor=\"start\" x=\"191.5\" y=\"-46.5\" font-family=\"Patua One, Helvetica, sans-serif\" font-size=\"10.00\">• </text>\n",
       "<text text-anchor=\"start\" x=\"197.5\" y=\"-46.5\" font-family=\"'Fira Mono', 'Source Code Pro', 'Courier', monospace\" font-size=\"8.00\">private_method()</text>\n",
       "<text text-anchor=\"start\" x=\"191.5\" y=\"-36.5\" font-family=\"Patua One, Helvetica, sans-serif\" font-size=\"10.00\">• </text>\n",
       "<text text-anchor=\"start\" x=\"197.5\" y=\"-36.5\" font-family=\"'Fira Mono', 'Source Code Pro', 'Courier', monospace\" font-style=\"italic\" font-size=\"8.00\">overloaded_method()</text>\n",
       "<text text-anchor=\"start\" x=\"191.5\" y=\"-27.3\" font-family=\"Helvetica,sans-Serif\" font-size=\"9.00\">Hover over names to see doc</text>\n",
       "</g>\n",
       "</g>\n",
       "</svg>\n"
      ],
      "text/plain": [
       "<graphviz.dot.Digraph at 0x12769a6a0>"
      ]
     },
     "execution_count": 327,
     "metadata": {},
     "output_type": "execute_result"
    }
   ],
   "source": [
    "display_class_hierarchy(ConcolicGrammarFuzzer)"
   ]
  },
  {
   "cell_type": "markdown",
   "metadata": {
    "button": false,
    "new_sheet": true,
    "run_control": {
     "read_only": false
    },
    "slideshow": {
     "slide_type": "slide"
    }
   },
   "source": [
    "## Lessons Learned\n",
    "\n",
    "* Concolic execution can often provide more information than taint analysis with respect to the program behavior. However, this comes at a much larger runtime cost. Hence, unlike taint analysis, real-time analysis is often not possible.\n",
    "\n",
    "* Similar to taint analysis, concolic execution also suffers from limitations such as indirect control flow and internal function calls.\n",
    "\n",
    "* Predicates from concolic execution can be used in conjunction with fuzzing to provide an even more robust indication of incorrect behavior than taints, and can be used to create grammars that are better at producing valid inputs."
   ]
  },
  {
   "cell_type": "markdown",
   "metadata": {
    "button": false,
    "new_sheet": false,
    "run_control": {
     "read_only": false
    },
    "slideshow": {
     "slide_type": "slide"
    }
   },
   "source": [
    "## Next Steps\n",
    "\n",
    "A costlier but stronger alternative to concolic fuzzing is [symbolic fuzzing](SymbolicFuzzer.ipynb). Similarly, [search based fuzzing](SearchBasedFuzzer.ipynb) can often provide a cheaper exploration strategy than relying on SMT solvers to provide inputs slightly different from the current path."
   ]
  },
  {
   "cell_type": "markdown",
   "metadata": {
    "slideshow": {
     "slide_type": "slide"
    }
   },
   "source": [
    "## Background\n",
    "\n",
    "The technique of concolic execution was originally used to inform and expand the scope of _symbolic execution_ \\cite{king1976symbolic}, a static analysis technique for program analysis. Laron et al. cite{Larson2003} was the first to use the concolic execution technique.\n",
    "\n",
    "The idea of using proxy objects for collecting constraints was pioneered by Cadar et al. \\cite{cadar2005execution}. The concolic execution technique for Python programs used in this chapter was pioneered by PeerCheck \\cite{PeerCheck}, and Python Error Finder \\cite{Barsotti2018}."
   ]
  },
  {
   "cell_type": "markdown",
   "metadata": {
    "button": false,
    "new_sheet": true,
    "run_control": {
     "read_only": false
    },
    "slideshow": {
     "slide_type": "slide"
    }
   },
   "source": [
    "## Exercises"
   ]
  },
  {
   "cell_type": "markdown",
   "metadata": {
    "slideshow": {
     "slide_type": "subslide"
    }
   },
   "source": [
    "### Exercise 1: Implment a Concolic Float Proxy Class\n"
   ]
  },
  {
   "cell_type": "markdown",
   "metadata": {
    "slideshow": {
     "slide_type": "fragment"
    }
   },
   "source": [
    "While implementing the `zint` binary operators, we asserted that the results were `int`. However, that need not be the case. For example, division can result in `float`. Hence, we need proxy objects for `float`. Can you implement a similar proxy object for `float` and fix the `zint` binary operator definition?"
   ]
  },
  {
   "cell_type": "markdown",
   "metadata": {
    "slideshow": {
     "slide_type": "fragment"
    }
   },
   "source": [
    "__Solution.__ The solution is as follows."
   ]
  },
  {
   "cell_type": "markdown",
   "metadata": {
    "slideshow": {
     "slide_type": "fragment"
    }
   },
   "source": [
    "As in the case of `zint`, we first open up `zfloat` for extension."
   ]
  },
  {
   "cell_type": "code",
   "execution_count": 328,
   "metadata": {
    "execution": {
     "iopub.execute_input": "2022-01-04T17:42:34.965870Z",
     "iopub.status.busy": "2022-01-04T17:42:34.965221Z",
     "iopub.status.idle": "2022-01-04T17:42:34.966916Z",
     "shell.execute_reply": "2022-01-04T17:42:34.967316Z"
    },
    "slideshow": {
     "slide_type": "fragment"
    }
   },
   "outputs": [],
   "source": [
    "class zfloat(float):\n",
    "    def __new__(cls, context, zn, v, *args, **kw):\n",
    "        return float.__new__(cls, v, *args, **kw)"
   ]
  },
  {
   "cell_type": "markdown",
   "metadata": {
    "slideshow": {
     "slide_type": "fragment"
    }
   },
   "source": [
    "We then implement the initialization methods."
   ]
  },
  {
   "cell_type": "code",
   "execution_count": 329,
   "metadata": {
    "execution": {
     "iopub.execute_input": "2022-01-04T17:42:34.973562Z",
     "iopub.status.busy": "2022-01-04T17:42:34.972566Z",
     "iopub.status.idle": "2022-01-04T17:42:34.974668Z",
     "shell.execute_reply": "2022-01-04T17:42:34.975558Z"
    },
    "slideshow": {
     "slide_type": "subslide"
    }
   },
   "outputs": [],
   "source": [
    "class zfloat(zfloat):\n",
    "    @classmethod\n",
    "    def create(cls, context, zn, v=None):\n",
    "        return zproxy_create(cls, 'Real', z3.Real, context, zn, v)\n",
    "\n",
    "    def __init__(self, context, z, v=None):\n",
    "        self.z, self.v = z, v\n",
    "        self.context = context"
   ]
  },
  {
   "cell_type": "markdown",
   "metadata": {
    "slideshow": {
     "slide_type": "fragment"
    }
   },
   "source": [
    "The helper for when one of the arguments in a binary operation is not `float`."
   ]
  },
  {
   "cell_type": "code",
   "execution_count": 330,
   "metadata": {
    "execution": {
     "iopub.execute_input": "2022-01-04T17:42:34.980472Z",
     "iopub.status.busy": "2022-01-04T17:42:34.979782Z",
     "iopub.status.idle": "2022-01-04T17:42:34.981645Z",
     "shell.execute_reply": "2022-01-04T17:42:34.982119Z"
    },
    "slideshow": {
     "slide_type": "fragment"
    }
   },
   "outputs": [],
   "source": [
    "class zfloat(zfloat):\n",
    "    def _zv(self, o):\n",
    "        return (o.z, o.v) if isinstance(o, zfloat) else (z3.RealVal(o), o)"
   ]
  },
  {
   "cell_type": "markdown",
   "metadata": {
    "slideshow": {
     "slide_type": "fragment"
    }
   },
   "source": [
    "Coerce `float` into bool value for use in conditionals."
   ]
  },
  {
   "cell_type": "code",
   "execution_count": 331,
   "metadata": {
    "execution": {
     "iopub.execute_input": "2022-01-04T17:42:34.986456Z",
     "iopub.status.busy": "2022-01-04T17:42:34.985585Z",
     "iopub.status.idle": "2022-01-04T17:42:34.987657Z",
     "shell.execute_reply": "2022-01-04T17:42:34.988161Z"
    },
    "slideshow": {
     "slide_type": "subslide"
    }
   },
   "outputs": [],
   "source": [
    "class zfloat(zfloat):\n",
    "    def __bool__(self):\n",
    "        # force registering boolean condition\n",
    "        if self != 0.0:\n",
    "            return True\n",
    "        return False"
   ]
  },
  {
   "cell_type": "markdown",
   "metadata": {
    "slideshow": {
     "slide_type": "fragment"
    }
   },
   "source": [
    "Define the common proxy method for comparison methods"
   ]
  },
  {
   "cell_type": "code",
   "execution_count": 332,
   "metadata": {
    "execution": {
     "iopub.execute_input": "2022-01-04T17:42:34.997613Z",
     "iopub.status.busy": "2022-01-04T17:42:34.996247Z",
     "iopub.status.idle": "2022-01-04T17:42:35.000036Z",
     "shell.execute_reply": "2022-01-04T17:42:35.001117Z"
    },
    "slideshow": {
     "slide_type": "fragment"
    }
   },
   "outputs": [],
   "source": [
    "def make_float_bool_wrapper(fname, fun, zfun):\n",
    "    def proxy(self, other):\n",
    "        z, v = self._zv(other)\n",
    "        z_ = zfun(self.z, z)\n",
    "        v_ = fun(self.v, v)\n",
    "        return zbool(self.context, z_, v_)\n",
    "\n",
    "    return proxy"
   ]
  },
  {
   "cell_type": "markdown",
   "metadata": {
    "slideshow": {
     "slide_type": "subslide"
    }
   },
   "source": [
    "We apply the comparison methods on the defined `zfloat` class."
   ]
  },
  {
   "cell_type": "code",
   "execution_count": 333,
   "metadata": {
    "execution": {
     "iopub.execute_input": "2022-01-04T17:42:35.008480Z",
     "iopub.status.busy": "2022-01-04T17:42:35.007591Z",
     "iopub.status.idle": "2022-01-04T17:42:35.010042Z",
     "shell.execute_reply": "2022-01-04T17:42:35.010517Z"
    },
    "slideshow": {
     "slide_type": "fragment"
    }
   },
   "outputs": [],
   "source": [
    "FLOAT_BOOL_OPS = [\n",
    "    '__eq__',\n",
    "    # '__req__',\n",
    "    '__ne__',\n",
    "    # '__rne__',\n",
    "    '__gt__',\n",
    "    '__lt__',\n",
    "    '__le__',\n",
    "    '__ge__',\n",
    "]"
   ]
  },
  {
   "cell_type": "code",
   "execution_count": 334,
   "metadata": {
    "execution": {
     "iopub.execute_input": "2022-01-04T17:42:35.015327Z",
     "iopub.status.busy": "2022-01-04T17:42:35.014658Z",
     "iopub.status.idle": "2022-01-04T17:42:35.016564Z",
     "shell.execute_reply": "2022-01-04T17:42:35.016965Z"
    },
    "slideshow": {
     "slide_type": "fragment"
    }
   },
   "outputs": [],
   "source": [
    "for fname in FLOAT_BOOL_OPS:\n",
    "    fun = getattr(float, fname)\n",
    "    zfun = getattr(z3.ArithRef, fname)\n",
    "    setattr(zfloat, fname, make_float_bool_wrapper(fname, fun, zfun))"
   ]
  },
  {
   "cell_type": "markdown",
   "metadata": {
    "slideshow": {
     "slide_type": "subslide"
    }
   },
   "source": [
    "Similarly, we define the common proxy method for binary operators."
   ]
  },
  {
   "cell_type": "code",
   "execution_count": 335,
   "metadata": {
    "execution": {
     "iopub.execute_input": "2022-01-04T17:42:35.022300Z",
     "iopub.status.busy": "2022-01-04T17:42:35.021624Z",
     "iopub.status.idle": "2022-01-04T17:42:35.024146Z",
     "shell.execute_reply": "2022-01-04T17:42:35.024891Z"
    },
    "slideshow": {
     "slide_type": "fragment"
    }
   },
   "outputs": [],
   "source": [
    "def make_float_binary_wrapper(fname, fun, zfun):\n",
    "    def proxy(self, other):\n",
    "        z, v = self._zv(other)\n",
    "        z_ = zfun(self.z, z)\n",
    "        v_ = fun(self.v, v)\n",
    "        return zfloat(self.context, z_, v_)\n",
    "\n",
    "    return proxy"
   ]
  },
  {
   "cell_type": "markdown",
   "metadata": {
    "slideshow": {
     "slide_type": "fragment"
    }
   },
   "source": [
    "And apply them on `zfloat`"
   ]
  },
  {
   "cell_type": "code",
   "execution_count": 336,
   "metadata": {
    "execution": {
     "iopub.execute_input": "2022-01-04T17:42:35.031676Z",
     "iopub.status.busy": "2022-01-04T17:42:35.030793Z",
     "iopub.status.idle": "2022-01-04T17:42:35.032647Z",
     "shell.execute_reply": "2022-01-04T17:42:35.033219Z"
    },
    "slideshow": {
     "slide_type": "subslide"
    }
   },
   "outputs": [],
   "source": [
    "FLOAT_BINARY_OPS = [\n",
    "    '__add__',\n",
    "    '__sub__',\n",
    "    '__mul__',\n",
    "    '__truediv__',\n",
    "    # '__div__',\n",
    "    '__mod__',\n",
    "    # '__divmod__',\n",
    "    '__pow__',\n",
    "    # '__lshift__',\n",
    "    # '__rshift__',\n",
    "    # '__and__',\n",
    "    # '__xor__',\n",
    "    # '__or__',\n",
    "    '__radd__',\n",
    "    '__rsub__',\n",
    "    '__rmul__',\n",
    "    '__rtruediv__',\n",
    "    # '__rdiv__',\n",
    "    '__rmod__',\n",
    "    # '__rdivmod__',\n",
    "    '__rpow__',\n",
    "    # '__rlshift__',\n",
    "    # '__rrshift__',\n",
    "    # '__rand__',\n",
    "    # '__rxor__',\n",
    "    # '__ror__',\n",
    "]"
   ]
  },
  {
   "cell_type": "code",
   "execution_count": 337,
   "metadata": {
    "execution": {
     "iopub.execute_input": "2022-01-04T17:42:35.038338Z",
     "iopub.status.busy": "2022-01-04T17:42:35.037463Z",
     "iopub.status.idle": "2022-01-04T17:42:35.039720Z",
     "shell.execute_reply": "2022-01-04T17:42:35.040210Z"
    },
    "slideshow": {
     "slide_type": "subslide"
    }
   },
   "outputs": [],
   "source": [
    "for fname in FLOAT_BINARY_OPS:\n",
    "    fun = getattr(float, fname)\n",
    "    zfun = getattr(z3.ArithRef, fname)\n",
    "    setattr(zfloat, fname, make_float_binary_wrapper(fname, fun, zfun))"
   ]
  },
  {
   "cell_type": "markdown",
   "metadata": {
    "slideshow": {
     "slide_type": "fragment"
    }
   },
   "source": [
    "These are used as follows."
   ]
  },
  {
   "cell_type": "code",
   "execution_count": 338,
   "metadata": {
    "execution": {
     "iopub.execute_input": "2022-01-04T17:42:35.046243Z",
     "iopub.status.busy": "2022-01-04T17:42:35.045519Z",
     "iopub.status.idle": "2022-01-04T17:42:35.049733Z",
     "shell.execute_reply": "2022-01-04T17:42:35.050416Z"
    },
    "slideshow": {
     "slide_type": "fragment"
    }
   },
   "outputs": [],
   "source": [
    "with ConcolicTracer() as _:\n",
    "    za = zfloat.create(_.context, 'float_a', 1.0)\n",
    "    zb = zfloat.create(_.context, 'float_b', 0.0)\n",
    "    if za * zb:\n",
    "        print(1)"
   ]
  },
  {
   "cell_type": "code",
   "execution_count": 339,
   "metadata": {
    "execution": {
     "iopub.execute_input": "2022-01-04T17:42:35.055301Z",
     "iopub.status.busy": "2022-01-04T17:42:35.054734Z",
     "iopub.status.idle": "2022-01-04T17:42:35.058428Z",
     "shell.execute_reply": "2022-01-04T17:42:35.058905Z"
    },
    "slideshow": {
     "slide_type": "fragment"
    }
   },
   "outputs": [
    {
     "data": {
      "text/plain": [
       "({'float_a': 'Real', 'float_b': 'Real'}, [Not(float_a*float_b != 0)])"
      ]
     },
     "execution_count": 339,
     "metadata": {},
     "output_type": "execute_result"
    }
   ],
   "source": [
    "_.context"
   ]
  },
  {
   "cell_type": "markdown",
   "metadata": {
    "slideshow": {
     "slide_type": "fragment"
    }
   },
   "source": [
    "Finally, we fix the `zint` binary wrapper to correctly create `zfloat` when needed."
   ]
  },
  {
   "cell_type": "code",
   "execution_count": 340,
   "metadata": {
    "execution": {
     "iopub.execute_input": "2022-01-04T17:42:35.065435Z",
     "iopub.status.busy": "2022-01-04T17:42:35.064355Z",
     "iopub.status.idle": "2022-01-04T17:42:35.066652Z",
     "shell.execute_reply": "2022-01-04T17:42:35.067083Z"
    },
    "slideshow": {
     "slide_type": "subslide"
    }
   },
   "outputs": [],
   "source": [
    "def make_int_binary_wrapper(fname, fun, zfun):  # type: ignore\n",
    "    def proxy(self, other):\n",
    "        z, v = self._zv(other)\n",
    "        z_ = zfun(self.z, z)\n",
    "        v_ = fun(self.v, v)\n",
    "        if isinstance(v_, float):\n",
    "            return zfloat(self.context, z_, v_)\n",
    "        elif isinstance(v_, int):\n",
    "            return zint(self.context, z_, v_)\n",
    "        else:\n",
    "            assert False\n",
    "\n",
    "    return proxy"
   ]
  },
  {
   "cell_type": "code",
   "execution_count": 341,
   "metadata": {
    "execution": {
     "iopub.execute_input": "2022-01-04T17:42:35.072050Z",
     "iopub.status.busy": "2022-01-04T17:42:35.071379Z",
     "iopub.status.idle": "2022-01-04T17:42:35.073965Z",
     "shell.execute_reply": "2022-01-04T17:42:35.074394Z"
    },
    "slideshow": {
     "slide_type": "subslide"
    }
   },
   "outputs": [],
   "source": [
    "for fname in INT_BINARY_OPS:\n",
    "    fun = getattr(int, fname)\n",
    "    zfun = getattr(z3.ArithRef, fname)\n",
    "    setattr(zint, fname, make_int_binary_wrapper(fname, fun, zfun))"
   ]
  },
  {
   "cell_type": "markdown",
   "metadata": {
    "slideshow": {
     "slide_type": "fragment"
    }
   },
   "source": [
    "Checking whether it worked as expected."
   ]
  },
  {
   "cell_type": "code",
   "execution_count": 342,
   "metadata": {
    "execution": {
     "iopub.execute_input": "2022-01-04T17:42:35.079456Z",
     "iopub.status.busy": "2022-01-04T17:42:35.078771Z",
     "iopub.status.idle": "2022-01-04T17:42:35.085842Z",
     "shell.execute_reply": "2022-01-04T17:42:35.085314Z"
    },
    "slideshow": {
     "slide_type": "fragment"
    }
   },
   "outputs": [],
   "source": [
    "with ConcolicTracer() as _:\n",
    "    v = _[binomial](4, 2)"
   ]
  },
  {
   "cell_type": "code",
   "execution_count": 343,
   "metadata": {
    "execution": {
     "iopub.execute_input": "2022-01-04T17:42:35.090065Z",
     "iopub.status.busy": "2022-01-04T17:42:35.089247Z",
     "iopub.status.idle": "2022-01-04T17:42:35.130296Z",
     "shell.execute_reply": "2022-01-04T17:42:35.130811Z"
    },
    "slideshow": {
     "slide_type": "fragment"
    }
   },
   "outputs": [
    {
     "data": {
      "text/plain": [
       "('sat', {'n': ('4', 'Int'), 'k': ('2', 'Int')})"
      ]
     },
     "execution_count": 343,
     "metadata": {},
     "output_type": "execute_result"
    }
   ],
   "source": [
    "_.zeval()"
   ]
  },
  {
   "cell_type": "markdown",
   "metadata": {
    "slideshow": {
     "slide_type": "subslide"
    }
   },
   "source": [
    "### Exercise 2: Bit Manipulation"
   ]
  },
  {
   "cell_type": "markdown",
   "metadata": {
    "slideshow": {
     "slide_type": "fragment"
    }
   },
   "source": [
    "Similar to floats, implementing the bit manipulation functions such as `xor` involves converting `int` to its bit vector equivalents, performing operations on them, and converting it back to the original type. Can you implement the bit manipulation operations for `zint`?"
   ]
  },
  {
   "cell_type": "markdown",
   "metadata": {
    "slideshow": {
     "slide_type": "fragment"
    }
   },
   "source": [
    "__Solution.__ The solution is as follows."
   ]
  },
  {
   "cell_type": "markdown",
   "metadata": {
    "slideshow": {
     "slide_type": "fragment"
    }
   },
   "source": [
    "We first define the proxy method as before."
   ]
  },
  {
   "cell_type": "code",
   "execution_count": 344,
   "metadata": {
    "execution": {
     "iopub.execute_input": "2022-01-04T17:42:35.138120Z",
     "iopub.status.busy": "2022-01-04T17:42:35.137477Z",
     "iopub.status.idle": "2022-01-04T17:42:35.139246Z",
     "shell.execute_reply": "2022-01-04T17:42:35.139650Z"
    },
    "slideshow": {
     "slide_type": "subslide"
    }
   },
   "outputs": [],
   "source": [
    "def make_int_bit_wrapper(fname, fun, zfun):\n",
    "    def proxy(self, other):\n",
    "        z, v = self._zv(other)\n",
    "        z_ = z3.BV2Int(\n",
    "            zfun(\n",
    "                z3.Int2BV(\n",
    "                    self.z, num_bits=64), z3.Int2BV(\n",
    "                    z, num_bits=64)))\n",
    "        v_ = fun(self.v, v)\n",
    "        return zint(self.context, z_, v_)\n",
    "\n",
    "    return proxy"
   ]
  },
  {
   "cell_type": "markdown",
   "metadata": {
    "slideshow": {
     "slide_type": "fragment"
    }
   },
   "source": [
    "It is then applied to the `zint` class."
   ]
  },
  {
   "cell_type": "code",
   "execution_count": 345,
   "metadata": {
    "execution": {
     "iopub.execute_input": "2022-01-04T17:42:35.144422Z",
     "iopub.status.busy": "2022-01-04T17:42:35.143515Z",
     "iopub.status.idle": "2022-01-04T17:42:35.145701Z",
     "shell.execute_reply": "2022-01-04T17:42:35.146289Z"
    },
    "slideshow": {
     "slide_type": "subslide"
    }
   },
   "outputs": [],
   "source": [
    "BIT_OPS = [\n",
    "    '__lshift__',\n",
    "    '__rshift__',\n",
    "    '__and__',\n",
    "    '__xor__',\n",
    "    '__or__',\n",
    "    '__rlshift__',\n",
    "    '__rrshift__',\n",
    "    '__rand__',\n",
    "    '__rxor__',\n",
    "    '__ror__',\n",
    "]"
   ]
  },
  {
   "cell_type": "code",
   "execution_count": 346,
   "metadata": {
    "execution": {
     "iopub.execute_input": "2022-01-04T17:42:35.150853Z",
     "iopub.status.busy": "2022-01-04T17:42:35.150288Z",
     "iopub.status.idle": "2022-01-04T17:42:35.151991Z",
     "shell.execute_reply": "2022-01-04T17:42:35.152482Z"
    },
    "slideshow": {
     "slide_type": "subslide"
    }
   },
   "outputs": [],
   "source": [
    "def init_concolic_4():\n",
    "    for fname in BIT_OPS:\n",
    "        fun = getattr(int, fname)\n",
    "        zfun = getattr(z3.BitVecRef, fname)\n",
    "        setattr(zint, fname, make_int_bit_wrapper(fname, fun, zfun))"
   ]
  },
  {
   "cell_type": "code",
   "execution_count": 347,
   "metadata": {
    "execution": {
     "iopub.execute_input": "2022-01-04T17:42:35.155991Z",
     "iopub.status.busy": "2022-01-04T17:42:35.155424Z",
     "iopub.status.idle": "2022-01-04T17:42:35.157245Z",
     "shell.execute_reply": "2022-01-04T17:42:35.157674Z"
    },
    "slideshow": {
     "slide_type": "fragment"
    }
   },
   "outputs": [],
   "source": [
    "INITIALIZER_LIST.append(init_concolic_4)"
   ]
  },
  {
   "cell_type": "code",
   "execution_count": 348,
   "metadata": {
    "execution": {
     "iopub.execute_input": "2022-01-04T17:42:35.161531Z",
     "iopub.status.busy": "2022-01-04T17:42:35.160934Z",
     "iopub.status.idle": "2022-01-04T17:42:35.163012Z",
     "shell.execute_reply": "2022-01-04T17:42:35.163511Z"
    },
    "slideshow": {
     "slide_type": "fragment"
    }
   },
   "outputs": [],
   "source": [
    "init_concolic_4()"
   ]
  },
  {
   "cell_type": "markdown",
   "metadata": {
    "slideshow": {
     "slide_type": "fragment"
    }
   },
   "source": [
    "Invert is the only unary bit manipulation method."
   ]
  },
  {
   "cell_type": "code",
   "execution_count": 349,
   "metadata": {
    "execution": {
     "iopub.execute_input": "2022-01-04T17:42:35.168524Z",
     "iopub.status.busy": "2022-01-04T17:42:35.167884Z",
     "iopub.status.idle": "2022-01-04T17:42:35.169815Z",
     "shell.execute_reply": "2022-01-04T17:42:35.170230Z"
    },
    "slideshow": {
     "slide_type": "fragment"
    }
   },
   "outputs": [],
   "source": [
    "class zint(zint):\n",
    "    def __invert__(self):\n",
    "        return zint(self.context, z3.BV2Int(\n",
    "            ~z3.Int2BV(self.z, num_bits=64)), ~self.v)"
   ]
  },
  {
   "cell_type": "markdown",
   "metadata": {
    "slideshow": {
     "slide_type": "fragment"
    }
   },
   "source": [
    "The `my_fn()` computes `xor` and returns `True` if the `xor` results in a non zero value."
   ]
  },
  {
   "cell_type": "code",
   "execution_count": 350,
   "metadata": {
    "execution": {
     "iopub.execute_input": "2022-01-04T17:42:35.176340Z",
     "iopub.status.busy": "2022-01-04T17:42:35.175208Z",
     "iopub.status.idle": "2022-01-04T17:42:35.177647Z",
     "shell.execute_reply": "2022-01-04T17:42:35.178085Z"
    },
    "slideshow": {
     "slide_type": "subslide"
    }
   },
   "outputs": [],
   "source": [
    "def my_fn(a, b):\n",
    "    o_ = (a | b)\n",
    "    a_ = (a & b)\n",
    "    if o_ & ~a_:\n",
    "        return True\n",
    "    else:\n",
    "        return False"
   ]
  },
  {
   "cell_type": "markdown",
   "metadata": {
    "slideshow": {
     "slide_type": "fragment"
    }
   },
   "source": [
    "Using that under `ConcolicTracer`"
   ]
  },
  {
   "cell_type": "code",
   "execution_count": 351,
   "metadata": {
    "execution": {
     "iopub.execute_input": "2022-01-04T17:42:35.182414Z",
     "iopub.status.busy": "2022-01-04T17:42:35.181663Z",
     "iopub.status.idle": "2022-01-04T17:42:35.184873Z",
     "shell.execute_reply": "2022-01-04T17:42:35.185283Z"
    },
    "slideshow": {
     "slide_type": "fragment"
    }
   },
   "outputs": [
    {
     "name": "stdout",
     "output_type": "stream",
     "text": [
      "True\n"
     ]
    }
   ],
   "source": [
    "with ConcolicTracer() as _:\n",
    "    print(_[my_fn](2, 1))"
   ]
  },
  {
   "cell_type": "markdown",
   "metadata": {
    "slideshow": {
     "slide_type": "fragment"
    }
   },
   "source": [
    "We log the computed SMT expression to verify that everything went well."
   ]
  },
  {
   "cell_type": "code",
   "execution_count": 352,
   "metadata": {
    "execution": {
     "iopub.execute_input": "2022-01-04T17:42:35.190944Z",
     "iopub.status.busy": "2022-01-04T17:42:35.190083Z",
     "iopub.status.idle": "2022-01-04T17:42:35.305093Z",
     "shell.execute_reply": "2022-01-04T17:42:35.305522Z"
    },
    "slideshow": {
     "slide_type": "subslide"
    }
   },
   "outputs": [
    {
     "name": "stdout",
     "output_type": "stream",
     "text": [
      "Predicates in path:\n",
      "0 0 !=\n",
      "BV2Int(int2bv(BV2Int(int2bv(my_fn_a_int_1) |\n",
      "                     int2bv(my_fn_b_int_2))) &\n",
      "       int2bv(BV2Int(~int2bv(BV2Int(int2bv(my_fn_a_int_1) &\n",
      "                                    int2bv(my_fn_b_int_2))))))\n",
      "\n",
      "(declare-const my_fn_a_int_1 Int)\n",
      "(declare-const my_fn_b_int_2 Int)\n",
      "(assert (let ((a!1 (bvnot (bvor (bvnot ((_ int2bv 64) my_fn_a_int_1))\n",
      "                        (bvnot ((_ int2bv 64) my_fn_b_int_2))))))\n",
      "(let ((a!2 (bvor (bvnot (bvor ((_ int2bv 64) my_fn_a_int_1)\n",
      "                              ((_ int2bv 64) my_fn_b_int_2)))\n",
      "                 a!1)))\n",
      "  (not (= 0 (bv2int (bvnot a!2)))))))\n",
      "(check-sat)\n",
      "(get-model)\n",
      "unknown\n",
      "(error \"line 10 column 10: model is not available\")\n"
     ]
    },
    {
     "data": {
      "text/plain": [
       "('Gave up', None)"
      ]
     },
     "execution_count": 352,
     "metadata": {},
     "output_type": "execute_result"
    }
   ],
   "source": [
    "_.zeval(log=True)"
   ]
  },
  {
   "cell_type": "markdown",
   "metadata": {
    "slideshow": {
     "slide_type": "subslide"
    }
   },
   "source": [
    "We can confirm from the formulas generated that the bit manipulation functions worked correctly. "
   ]
  },
  {
   "cell_type": "markdown",
   "metadata": {
    "slideshow": {
     "slide_type": "subslide"
    }
   },
   "source": [
    "### Exercise 3: String Translation Functions"
   ]
  },
  {
   "cell_type": "markdown",
   "metadata": {
    "slideshow": {
     "slide_type": "fragment"
    }
   },
   "source": [
    "We have seen how to define `upper()` and `lower()`. Can you define the `capitalize()`, `title()`, and `swapcase()` methods?"
   ]
  },
  {
   "cell_type": "markdown",
   "metadata": {
    "slideshow": {
     "slide_type": "fragment"
    }
   },
   "source": [
    "__Solution.__ Solution not yet available."
   ]
  }
 ],
 "metadata": {
  "ipub": {
   "bibliography": "fuzzingbook.bib",
   "toc": true
  },
  "kernelspec": {
   "display_name": "Python 3 (ipykernel)",
   "language": "python",
   "name": "python3"
  },
  "language_info": {
   "codemirror_mode": {
    "name": "ipython",
    "version": 3
   },
   "file_extension": ".py",
   "mimetype": "text/x-python",
   "name": "python",
   "nbconvert_exporter": "python",
   "pygments_lexer": "ipython3",
   "version": "3.9.7"
  },
  "toc": {
   "base_numbering": 1,
   "nav_menu": {},
   "number_sections": true,
   "sideBar": true,
   "skip_h1_title": true,
   "title_cell": "",
   "title_sidebar": "Contents",
   "toc_cell": false,
   "toc_position": {},
   "toc_section_display": true,
   "toc_window_display": true
  },
  "toc-autonumbering": false,
  "varInspector": {
   "cols": {
    "lenName": 16,
    "lenType": 16,
    "lenVar": 40
   },
   "kernels_config": {
    "python": {
     "delete_cmd_postfix": "",
     "delete_cmd_prefix": "del ",
     "library": "var_list.py",
     "varRefreshCmd": "print(var_dic_list())"
    },
    "r": {
     "delete_cmd_postfix": ") ",
     "delete_cmd_prefix": "rm(",
     "library": "var_list.r",
     "varRefreshCmd": "cat(var_dic_list()) "
    }
   },
   "types_to_exclude": [
    "module",
    "function",
    "builtin_function_or_method",
    "instance",
    "_Feature"
   ],
   "window_display": false
  }
 },
 "nbformat": 4,
 "nbformat_minor": 4
}