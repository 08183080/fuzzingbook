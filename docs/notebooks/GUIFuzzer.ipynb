{
 "cells": [
  {
   "cell_type": "markdown",
   "metadata": {
    "button": false,
    "new_sheet": false,
    "run_control": {
     "read_only": false
    },
    "slideshow": {
     "slide_type": "slide"
    }
   },
   "source": [
    "# Testing Graphical User Interfaces\n",
    "\n",
    "In this chapter, we explore how to generate tests for Graphical User Interfaces (GUIs), abstracting from our [previous examples on Web testing](WebFuzzer.ipynb).  Building on general means to extract user interface elements and to activate them, our techniques generalize to arbitrary graphical user interfaces, from rich Web applications to mobile apps, and systematically explore user interfaces through forms and navigation elements."
   ]
  },
  {
   "cell_type": "markdown",
   "metadata": {
    "button": false,
    "new_sheet": false,
    "run_control": {
     "read_only": false
    },
    "slideshow": {
     "slide_type": "subslide"
    }
   },
   "source": [
    "**Prerequisites**\n",
    "\n",
    "* We build on the Web server introduced in the [chapter on Web testing](WebFuzzer.ipynb)."
   ]
  },
  {
   "cell_type": "markdown",
   "metadata": {
    "button": false,
    "new_sheet": true,
    "run_control": {
     "read_only": false
    },
    "slideshow": {
     "slide_type": "slide"
    }
   },
   "source": [
    "## Automated GUI Interaction\n",
    "\n",
    "In the [chapter on Web testing](WebFuzzer.ipynb), we have shown how to test Web-based interfaces by directly interacting with a Web server using the HTTP protocol, and processing the retrieved HTML pages to identify user interface elements.  While these techniques work well for user interfaces that are based on HTML only, they fail as soon as there are interactive elements that use JavaScript to execute code within the browser, and generate and change the user interface without having to interact with the browser."
   ]
  },
  {
   "cell_type": "markdown",
   "metadata": {
    "button": false,
    "new_sheet": true,
    "run_control": {
     "read_only": false
    },
    "slideshow": {
     "slide_type": "subslide"
    }
   },
   "source": [
    "In this chapter, we therefore take a different approach to user interface testing.  Rather than using HTTP and HTML as the mechanisms for interaction, we leverage a dedicated _UI testing framework_, which allows us to\n",
    "\n",
    "* query the program under test for available user interface elements, and\n",
    "* query the UI elements for how they can be interacted with.\n",
    "\n",
    "Although we will again illustrate our approach using a Web server, the approach easily generalizes to _arbitrary user interfaces_.  In fact, the UI testing framework we use, *Selenium*, also comes in variants that run for Android apps."
   ]
  },
  {
   "cell_type": "markdown",
   "metadata": {
    "button": false,
    "new_sheet": true,
    "run_control": {
     "read_only": false
    },
    "slideshow": {
     "slide_type": "subslide"
    }
   },
   "source": [
    "### Our Web Server, Again\n",
    "\n",
    "As in the [chapter on Web testing](WebFuzzer.ipynb), we run a Web server that allows us to order products."
   ]
  },
  {
   "cell_type": "code",
   "execution_count": 1,
   "metadata": {
    "button": false,
    "new_sheet": false,
    "run_control": {
     "read_only": false
    },
    "slideshow": {
     "slide_type": "skip"
    }
   },
   "outputs": [],
   "source": [
    "import fuzzingbook_utils"
   ]
  },
  {
   "cell_type": "code",
   "execution_count": 2,
   "metadata": {
    "slideshow": {
     "slide_type": "skip"
    }
   },
   "outputs": [],
   "source": [
    "from WebFuzzer import init_db, start_httpd, webbrowser, print_httpd_messages, print_url, ORDERS_DB"
   ]
  },
  {
   "cell_type": "code",
   "execution_count": 3,
   "metadata": {
    "slideshow": {
     "slide_type": "skip"
    }
   },
   "outputs": [],
   "source": [
    "import html"
   ]
  },
  {
   "cell_type": "code",
   "execution_count": 4,
   "metadata": {
    "slideshow": {
     "slide_type": "fragment"
    }
   },
   "outputs": [],
   "source": [
    "db = init_db()"
   ]
  },
  {
   "cell_type": "markdown",
   "metadata": {
    "slideshow": {
     "slide_type": "fragment"
    }
   },
   "source": [
    "This is the address of our web server:"
   ]
  },
  {
   "cell_type": "code",
   "execution_count": 5,
   "metadata": {
    "slideshow": {
     "slide_type": "fragment"
    }
   },
   "outputs": [
    {
     "data": {
      "text/html": [
       "<pre><a href=\"http://127.0.0.1:8800\">http://127.0.0.1:8800</a></pre>"
      ],
      "text/plain": [
       "<IPython.core.display.HTML object>"
      ]
     },
     "metadata": {},
     "output_type": "display_data"
    }
   ],
   "source": [
    "httpd_process, httpd_url = start_httpd()\n",
    "print_url(httpd_url)"
   ]
  },
  {
   "cell_type": "markdown",
   "metadata": {
    "slideshow": {
     "slide_type": "fragment"
    }
   },
   "source": [
    "Using `webbrowser()`, we can retrieve the HTML of the home page, and use `HTML()` to render it."
   ]
  },
  {
   "cell_type": "code",
   "execution_count": 6,
   "metadata": {
    "slideshow": {
     "slide_type": "skip"
    }
   },
   "outputs": [],
   "source": [
    "from IPython.display import display, Image"
   ]
  },
  {
   "cell_type": "code",
   "execution_count": 7,
   "metadata": {
    "slideshow": {
     "slide_type": "skip"
    }
   },
   "outputs": [],
   "source": [
    "from fuzzingbook_utils import HTML, rich_output"
   ]
  },
  {
   "cell_type": "code",
   "execution_count": 8,
   "metadata": {
    "slideshow": {
     "slide_type": "fragment"
    }
   },
   "outputs": [
    {
     "data": {
      "text/html": [
       "<pre style=\"background: NavajoWhite;\">127.0.0.1 - - [29/Apr/2019 18:01:15] \"GET / HTTP/1.1\" 200 -\n",
       "</pre>"
      ],
      "text/plain": [
       "<IPython.core.display.HTML object>"
      ]
     },
     "metadata": {},
     "output_type": "display_data"
    },
    {
     "data": {
      "text/html": [
       "\n",
       "<html><body>\n",
       "<form action=\"/order\" style=\"border:3px; border-style:solid; border-color:#FF0000; padding: 1em;\">\n",
       "  <strong id=\"title\" style=\"font-size: x-large\">Fuzzingbook Swag Order Form</strong>\n",
       "  <p>\n",
       "  Yes! Please send me at your earliest convenience\n",
       "  <select name=\"item\">\n",
       "  <option value=\"tshirt\">One FuzzingBook T-Shirt</option>\n",
       "<option value=\"drill\">One FuzzingBook Rotary Hammer</option>\n",
       "<option value=\"lockset\">One FuzzingBook Lock Set</option>\n",
       "\n",
       "  </select>\n",
       "  <br>\n",
       "  <table>\n",
       "  <tr><td>\n",
       "  <label for=\"name\">Name: </label><input type=\"text\" name=\"name\">\n",
       "  </td><td>\n",
       "  <label for=\"email\">Email: </label><input type=\"email\" name=\"email\"><br>\n",
       "  </td></tr>\n",
       "  <tr><td>\n",
       "  <label for=\"city\">City: </label><input type=\"text\" name=\"city\">\n",
       "  </td><td>\n",
       "  <label for=\"zip\">ZIP Code: </label><input type=\"number\" name=\"zip\">\n",
       "  </tr></tr>\n",
       "  </table>\n",
       "  <input type=\"checkbox\" name=\"terms\"><label for=\"terms\">I have read\n",
       "  the <a href=\"/terms\">terms and conditions</a></label>.<br>\n",
       "  <input type=\"submit\" name=\"submit\" value=\"Place order\">\n",
       "</p>\n",
       "</form>\n",
       "</body></html>\n"
      ],
      "text/plain": [
       "<IPython.core.display.HTML object>"
      ]
     },
     "execution_count": 8,
     "metadata": {},
     "output_type": "execute_result"
    }
   ],
   "source": [
    "HTML(webbrowser(httpd_url))"
   ]
  },
  {
   "cell_type": "markdown",
   "metadata": {
    "button": false,
    "new_sheet": false,
    "run_control": {
     "read_only": false
    },
    "slideshow": {
     "slide_type": "subslide"
    }
   },
   "source": [
    "### Remote Control with Selenium\n",
    "\n",
    "Let us take a look at the GUI above.  In contrast to the [chapter on Web testing](WebFuzzer.ipynb), we do not assume we can access the HTML source of the current page.  All we assume is that there is a set of *user interface elements* we can interact with."
   ]
  },
  {
   "cell_type": "markdown",
   "metadata": {
    "slideshow": {
     "slide_type": "fragment"
    }
   },
   "source": [
    "[Selenium](https://www.seleniumhq.org) is a framework for testing Web applications by _automating interaction in the browser_.  Selenium provides an API that allows one to launch a Web browser, query the state of the user interface, and interact with individual user interface elements.  The Selenium API is available in a number of languages; we use the [Selenium API for Python](https://selenium-python.readthedocs.io/index.html)."
   ]
  },
  {
   "cell_type": "markdown",
   "metadata": {
    "slideshow": {
     "slide_type": "subslide"
    }
   },
   "source": [
    "A Selenium *web driver* is the interface between a program and a browser controlled by the program."
   ]
  },
  {
   "cell_type": "code",
   "execution_count": 9,
   "metadata": {
    "slideshow": {
     "slide_type": "skip"
    }
   },
   "outputs": [],
   "source": [
    "from selenium import webdriver"
   ]
  },
  {
   "cell_type": "markdown",
   "metadata": {
    "slideshow": {
     "slide_type": "fragment"
    }
   },
   "source": [
    "The following code starts a Firefox browser in the background, which we then control through the web driver."
   ]
  },
  {
   "cell_type": "code",
   "execution_count": 10,
   "metadata": {
    "slideshow": {
     "slide_type": "fragment"
    }
   },
   "outputs": [],
   "source": [
    "BROWSER = 'firefox'"
   ]
  },
  {
   "cell_type": "markdown",
   "metadata": {
    "slideshow": {
     "slide_type": "fragment"
    }
   },
   "source": [
    "If you prefer a Chrome browser, uncomment the following line:"
   ]
  },
  {
   "cell_type": "code",
   "execution_count": 11,
   "metadata": {
    "slideshow": {
     "slide_type": "fragment"
    }
   },
   "outputs": [],
   "source": [
    "# Uncomment for using Chrome instead\n",
    "# BROWSER = 'chrome'"
   ]
  },
  {
   "cell_type": "markdown",
   "metadata": {
    "slideshow": {
     "slide_type": "fragment"
    }
   },
   "source": [
    "The browser is _headless_, meaning that it does not show on the screen."
   ]
  },
  {
   "cell_type": "code",
   "execution_count": 12,
   "metadata": {
    "slideshow": {
     "slide_type": "fragment"
    }
   },
   "outputs": [],
   "source": [
    "HEADLESS = True"
   ]
  },
  {
   "cell_type": "markdown",
   "metadata": {
    "slideshow": {
     "slide_type": "subslide"
    }
   },
   "source": [
    "**Note**: If the notebook server runs locally (i.e. on the same machine on which you are seeing this), you can also set `HEADLESS` to `False` and see what happens right on the screen as you execute the notebook cells.  This is very much recommended for interactive sessions."
   ]
  },
  {
   "cell_type": "code",
   "execution_count": 13,
   "metadata": {
    "slideshow": {
     "slide_type": "fragment"
    }
   },
   "outputs": [],
   "source": [
    "# Uncomment for interactive sessions\n",
    "# HEADLESS = False"
   ]
  },
  {
   "cell_type": "markdown",
   "metadata": {
    "slideshow": {
     "slide_type": "fragment"
    }
   },
   "source": [
    "We pass the `HEADLESS` setting to our browser."
   ]
  },
  {
   "cell_type": "code",
   "execution_count": 14,
   "metadata": {
    "slideshow": {
     "slide_type": "fragment"
    }
   },
   "outputs": [],
   "source": [
    "if BROWSER == 'firefox':\n",
    "    options = webdriver.FirefoxOptions()\n",
    "if BROWSER == 'chrome':\n",
    "    options = webdriver.ChromeOptions()"
   ]
  },
  {
   "cell_type": "code",
   "execution_count": 15,
   "metadata": {
    "slideshow": {
     "slide_type": "subslide"
    }
   },
   "outputs": [
    {
     "data": {
      "text/plain": [
       "['-headless']"
      ]
     },
     "execution_count": 15,
     "metadata": {},
     "output_type": "execute_result"
    }
   ],
   "source": [
    "if HEADLESS and BROWSER == 'chrome':\n",
    "    options.add_argument('headless')\n",
    "else:\n",
    "    options.headless = HEADLESS\n",
    "options.arguments"
   ]
  },
  {
   "cell_type": "markdown",
   "metadata": {
    "slideshow": {
     "slide_type": "fragment"
    }
   },
   "source": [
    "Since we want to take screen shots, we set a minimum resolution."
   ]
  },
  {
   "cell_type": "code",
   "execution_count": 16,
   "metadata": {
    "slideshow": {
     "slide_type": "fragment"
    }
   },
   "outputs": [],
   "source": [
    "profile = webdriver.firefox.firefox_profile.FirefoxProfile()\n",
    "ZOOM = 1.4\n",
    "profile.set_preference(\"layout.css.devPixelsPerPx\", repr(ZOOM))"
   ]
  },
  {
   "cell_type": "markdown",
   "metadata": {
    "slideshow": {
     "slide_type": "fragment"
    }
   },
   "source": [
    "All is set! We can now start the browser, and obtain a _web driver_ object such that we can interact with it."
   ]
  },
  {
   "cell_type": "code",
   "execution_count": 17,
   "metadata": {
    "slideshow": {
     "slide_type": "subslide"
    }
   },
   "outputs": [],
   "source": [
    "if BROWSER == 'firefox':\n",
    "    gui_driver = webdriver.Firefox(firefox_profile=profile, options=options)\n",
    "if BROWSER == 'chrome':\n",
    "    gui_driver = webdriver.Chrome(options=options)"
   ]
  },
  {
   "cell_type": "markdown",
   "metadata": {
    "slideshow": {
     "slide_type": "fragment"
    }
   },
   "source": [
    "We set the window size such that it fits our order form exactly; this is useful for not wasting too much space when taking screen shots."
   ]
  },
  {
   "cell_type": "code",
   "execution_count": 18,
   "metadata": {
    "slideshow": {
     "slide_type": "fragment"
    }
   },
   "outputs": [],
   "source": [
    "if BROWSER == 'firefox':\n",
    "    gui_driver.set_window_size(700, 300)\n",
    "if BROWSER == 'chrome':\n",
    "    gui_driver.set_window_size(700, 210 if HEADLESS else 340)"
   ]
  },
  {
   "cell_type": "markdown",
   "metadata": {
    "slideshow": {
     "slide_type": "fragment"
    }
   },
   "source": [
    "We can now interact with the browser programmatically.  First, we have it navigate to the URL of our Web server:"
   ]
  },
  {
   "cell_type": "code",
   "execution_count": 19,
   "metadata": {
    "slideshow": {
     "slide_type": "fragment"
    }
   },
   "outputs": [],
   "source": [
    "gui_driver.get(httpd_url)"
   ]
  },
  {
   "cell_type": "markdown",
   "metadata": {
    "slideshow": {
     "slide_type": "fragment"
    }
   },
   "source": [
    "We see that the home page is actually accessed, together with a (failing) request to get a page icon:"
   ]
  },
  {
   "cell_type": "code",
   "execution_count": 20,
   "metadata": {
    "slideshow": {
     "slide_type": "subslide"
    }
   },
   "outputs": [
    {
     "data": {
      "text/html": [
       "<pre style=\"background: NavajoWhite;\">127.0.0.1 - - [29/Apr/2019 18:01:18] \"GET / HTTP/1.1\" 200 -\n",
       "</pre>"
      ],
      "text/plain": [
       "<IPython.core.display.HTML object>"
      ]
     },
     "metadata": {},
     "output_type": "display_data"
    },
    {
     "data": {
      "text/html": [
       "<pre style=\"background: NavajoWhite;\">127.0.0.1 - - [29/Apr/2019 18:01:18] \"GET /favicon.ico HTTP/1.1\" 404 -\n",
       "</pre>"
      ],
      "text/plain": [
       "<IPython.core.display.HTML object>"
      ]
     },
     "metadata": {},
     "output_type": "display_data"
    }
   ],
   "source": [
    "print_httpd_messages()"
   ]
  },
  {
   "cell_type": "markdown",
   "metadata": {
    "slideshow": {
     "slide_type": "fragment"
    }
   },
   "source": [
    "To see what the \"headless\" browser displays, we can obtain a screenshot.  We see that it actually displays the home page."
   ]
  },
  {
   "cell_type": "code",
   "execution_count": 21,
   "metadata": {
    "slideshow": {
     "slide_type": "fragment"
    }
   },
   "outputs": [
    {
     "data": {
      "image/png": "[encoded data removed]",
      "text/plain": [
       "<IPython.core.display.Image object>"
      ]
     },
     "execution_count": 21,
     "metadata": {},
     "output_type": "execute_result"
    }
   ],
   "source": [
    "Image(gui_driver.get_screenshot_as_png())"
   ]
  },
  {
   "cell_type": "markdown",
   "metadata": {
    "slideshow": {
     "slide_type": "subslide"
    }
   },
   "source": [
    "### Filling out Forms\n",
    "\n",
    "To interact with the Web page through Selenium and the browser, we can _query_ Selenium for individual elements.  For instance, we can access the UI element whose `name` attribute (as defined in HTML) is `\"name\"`."
   ]
  },
  {
   "cell_type": "code",
   "execution_count": 22,
   "metadata": {
    "slideshow": {
     "slide_type": "fragment"
    }
   },
   "outputs": [],
   "source": [
    "name = gui_driver.find_element_by_name(\"name\")"
   ]
  },
  {
   "cell_type": "markdown",
   "metadata": {
    "slideshow": {
     "slide_type": "fragment"
    }
   },
   "source": [
    "Once we have an element, we can interact with it.  Since `name` is a text field, we can send it a string using the `send_keys()` method; the string will be translated into appropriate key strokes."
   ]
  },
  {
   "cell_type": "code",
   "execution_count": 23,
   "metadata": {
    "slideshow": {
     "slide_type": "fragment"
    }
   },
   "outputs": [],
   "source": [
    "name.send_keys(\"Jane Doe\")"
   ]
  },
  {
   "cell_type": "markdown",
   "metadata": {
    "slideshow": {
     "slide_type": "fragment"
    }
   },
   "source": [
    "In the screenshot, we can see that the `name` field is now filled:"
   ]
  },
  {
   "cell_type": "code",
   "execution_count": 24,
   "metadata": {
    "slideshow": {
     "slide_type": "fragment"
    }
   },
   "outputs": [
    {
     "data": {
      "image/png": "[encoded data removed]",
      "text/plain": [
       "<IPython.core.display.Image object>"
      ]
     },
     "execution_count": 24,
     "metadata": {},
     "output_type": "execute_result"
    }
   ],
   "source": [
    "Image(gui_driver.get_screenshot_as_png())"
   ]
  },
  {
   "cell_type": "markdown",
   "metadata": {
    "slideshow": {
     "slide_type": "subslide"
    }
   },
   "source": [
    "In a similar fashion, we can fill out the email, city, and ZIP fields:"
   ]
  },
  {
   "cell_type": "code",
   "execution_count": 25,
   "metadata": {
    "slideshow": {
     "slide_type": "fragment"
    }
   },
   "outputs": [],
   "source": [
    "email = gui_driver.find_element_by_name(\"email\")\n",
    "email.send_keys(\"j.doe@example.com\")"
   ]
  },
  {
   "cell_type": "code",
   "execution_count": 26,
   "metadata": {
    "slideshow": {
     "slide_type": "fragment"
    }
   },
   "outputs": [],
   "source": [
    "city = gui_driver.find_element_by_name('city')\n",
    "city.send_keys(\"Seattle\")"
   ]
  },
  {
   "cell_type": "code",
   "execution_count": 27,
   "metadata": {
    "slideshow": {
     "slide_type": "fragment"
    }
   },
   "outputs": [],
   "source": [
    "zip = gui_driver.find_element_by_name('zip')\n",
    "zip.send_keys(\"98104\")"
   ]
  },
  {
   "cell_type": "code",
   "execution_count": 28,
   "metadata": {
    "slideshow": {
     "slide_type": "fragment"
    }
   },
   "outputs": [
    {
     "data": {
      "image/png": "[encoded data removed]",
      "text/plain": [
       "<IPython.core.display.Image object>"
      ]
     },
     "execution_count": 28,
     "metadata": {},
     "output_type": "execute_result"
    }
   ],
   "source": [
    "Image(gui_driver.get_screenshot_as_png())"
   ]
  },
  {
   "cell_type": "markdown",
   "metadata": {
    "slideshow": {
     "slide_type": "fragment"
    }
   },
   "source": [
    "The check box for terms and conditions is not filled out, but clicked instead using the `click()` method."
   ]
  },
  {
   "cell_type": "code",
   "execution_count": 29,
   "metadata": {
    "slideshow": {
     "slide_type": "fragment"
    }
   },
   "outputs": [],
   "source": [
    "terms = gui_driver.find_element_by_name('terms')\n",
    "terms.click()"
   ]
  },
  {
   "cell_type": "code",
   "execution_count": 30,
   "metadata": {
    "slideshow": {
     "slide_type": "subslide"
    }
   },
   "outputs": [
    {
     "data": {
      "image/png": "[encoded data removed]",
      "text/plain": [
       "<IPython.core.display.Image object>"
      ]
     },
     "execution_count": 30,
     "metadata": {},
     "output_type": "execute_result"
    }
   ],
   "source": [
    "Image(gui_driver.get_screenshot_as_png())"
   ]
  },
  {
   "cell_type": "markdown",
   "metadata": {
    "slideshow": {
     "slide_type": "fragment"
    }
   },
   "source": [
    "The form is now fully filled out.  By clicking on the `submit` button, we can place the order:"
   ]
  },
  {
   "cell_type": "code",
   "execution_count": 31,
   "metadata": {
    "slideshow": {
     "slide_type": "fragment"
    }
   },
   "outputs": [],
   "source": [
    "submit = gui_driver.find_element_by_name('submit')\n",
    "submit.click()"
   ]
  },
  {
   "cell_type": "markdown",
   "metadata": {
    "slideshow": {
     "slide_type": "fragment"
    }
   },
   "source": [
    "We see that the order is being processed, and that the Web browser has switched to the confirmation page."
   ]
  },
  {
   "cell_type": "code",
   "execution_count": 32,
   "metadata": {
    "slideshow": {
     "slide_type": "fragment"
    }
   },
   "outputs": [
    {
     "data": {
      "text/html": [
       "<pre style=\"background: NavajoWhite;\">127.0.0.1 - - [29/Apr/2019 18:01:19] INSERT INTO orders VALUES ('tshirt', 'Jane Doe', 'j.doe@example.com', 'Seattle', '98104')\n",
       "</pre>"
      ],
      "text/plain": [
       "<IPython.core.display.HTML object>"
      ]
     },
     "metadata": {},
     "output_type": "display_data"
    },
    {
     "data": {
      "text/html": [
       "<pre style=\"background: NavajoWhite;\">127.0.0.1 - - [29/Apr/2019 18:01:19] \"GET /order?item=tshirt&name=Jane+Doe&email=j.doe%40example.com&city=Seattle&zip=98104&terms=on&submit=Place+order HTTP/1.1\" 200 -\n",
       "</pre>"
      ],
      "text/plain": [
       "<IPython.core.display.HTML object>"
      ]
     },
     "metadata": {},
     "output_type": "display_data"
    }
   ],
   "source": [
    "print_httpd_messages()"
   ]
  },
  {
   "cell_type": "code",
   "execution_count": 33,
   "metadata": {
    "slideshow": {
     "slide_type": "fragment"
    }
   },
   "outputs": [
    {
     "data": {
      "image/png": "[encoded data removed]",
      "text/plain": [
       "<IPython.core.display.Image object>"
      ]
     },
     "execution_count": 33,
     "metadata": {},
     "output_type": "execute_result"
    }
   ],
   "source": [
    "Image(gui_driver.get_screenshot_as_png())"
   ]
  },
  {
   "cell_type": "markdown",
   "metadata": {
    "slideshow": {
     "slide_type": "subslide"
    }
   },
   "source": [
    "### Navigating\n",
    "\n",
    "Just as we fill out forms, we can also navigate through a Web site by clicking on links.  Let us go back to the home page:"
   ]
  },
  {
   "cell_type": "code",
   "execution_count": 34,
   "metadata": {
    "slideshow": {
     "slide_type": "fragment"
    }
   },
   "outputs": [],
   "source": [
    "gui_driver.back()"
   ]
  },
  {
   "cell_type": "code",
   "execution_count": 35,
   "metadata": {
    "slideshow": {
     "slide_type": "fragment"
    }
   },
   "outputs": [
    {
     "data": {
      "image/png": "[encoded data removed]",
      "text/plain": [
       "<IPython.core.display.Image object>"
      ]
     },
     "execution_count": 35,
     "metadata": {},
     "output_type": "execute_result"
    }
   ],
   "source": [
    "Image(gui_driver.get_screenshot_as_png())"
   ]
  },
  {
   "cell_type": "markdown",
   "metadata": {
    "slideshow": {
     "slide_type": "fragment"
    }
   },
   "source": [
    "We can query the web driver for all elements of a particular type.  Querying for HTML anchor elements (`<a>`) for instance, gives us all links on a page."
   ]
  },
  {
   "cell_type": "code",
   "execution_count": 36,
   "metadata": {
    "button": false,
    "new_sheet": false,
    "run_control": {
     "read_only": false
    },
    "slideshow": {
     "slide_type": "subslide"
    }
   },
   "outputs": [],
   "source": [
    "links = gui_driver.find_elements_by_tag_name(\"a\")"
   ]
  },
  {
   "cell_type": "markdown",
   "metadata": {
    "slideshow": {
     "slide_type": "fragment"
    }
   },
   "source": [
    "We can query the attributes of UI elements – for instance, the URL the first anchor on the page links to:"
   ]
  },
  {
   "cell_type": "code",
   "execution_count": 37,
   "metadata": {
    "slideshow": {
     "slide_type": "fragment"
    }
   },
   "outputs": [
    {
     "data": {
      "text/plain": [
       "'http://127.0.0.1:8800/terms'"
      ]
     },
     "execution_count": 37,
     "metadata": {},
     "output_type": "execute_result"
    }
   ],
   "source": [
    "links[0].get_attribute('href')"
   ]
  },
  {
   "cell_type": "markdown",
   "metadata": {
    "slideshow": {
     "slide_type": "subslide"
    }
   },
   "source": [
    "What happens if we click on it?  Very simple: We switch to the Web page being referenced."
   ]
  },
  {
   "cell_type": "code",
   "execution_count": 38,
   "metadata": {
    "slideshow": {
     "slide_type": "fragment"
    }
   },
   "outputs": [],
   "source": [
    "links[0].click()"
   ]
  },
  {
   "cell_type": "code",
   "execution_count": 39,
   "metadata": {
    "slideshow": {
     "slide_type": "fragment"
    }
   },
   "outputs": [
    {
     "data": {
      "text/html": [
       "<pre style=\"background: NavajoWhite;\">127.0.0.1 - - [29/Apr/2019 18:01:19] \"GET /terms HTTP/1.1\" 200 -\n",
       "</pre>"
      ],
      "text/plain": [
       "<IPython.core.display.HTML object>"
      ]
     },
     "metadata": {},
     "output_type": "display_data"
    }
   ],
   "source": [
    "print_httpd_messages()"
   ]
  },
  {
   "cell_type": "code",
   "execution_count": 40,
   "metadata": {
    "slideshow": {
     "slide_type": "fragment"
    }
   },
   "outputs": [
    {
     "data": {
      "image/png": "[encoded data removed]",
      "text/plain": [
       "<IPython.core.display.Image object>"
      ]
     },
     "execution_count": 40,
     "metadata": {},
     "output_type": "execute_result"
    }
   ],
   "source": [
    "Image(gui_driver.get_screenshot_as_png())"
   ]
  },
  {
   "cell_type": "markdown",
   "metadata": {
    "slideshow": {
     "slide_type": "fragment"
    }
   },
   "source": [
    "Okay.  Let's get back to our home page again."
   ]
  },
  {
   "cell_type": "code",
   "execution_count": 41,
   "metadata": {
    "slideshow": {
     "slide_type": "fragment"
    }
   },
   "outputs": [],
   "source": [
    "gui_driver.back()"
   ]
  },
  {
   "cell_type": "code",
   "execution_count": 42,
   "metadata": {
    "slideshow": {
     "slide_type": "fragment"
    }
   },
   "outputs": [],
   "source": [
    "print_httpd_messages()"
   ]
  },
  {
   "cell_type": "code",
   "execution_count": 43,
   "metadata": {
    "slideshow": {
     "slide_type": "fragment"
    }
   },
   "outputs": [
    {
     "data": {
      "image/png": "[encoded data removed]",
      "text/plain": [
       "<IPython.core.display.Image object>"
      ]
     },
     "execution_count": 43,
     "metadata": {},
     "output_type": "execute_result"
    }
   ],
   "source": [
    "Image(gui_driver.get_screenshot_as_png())"
   ]
  },
  {
   "cell_type": "markdown",
   "metadata": {
    "slideshow": {
     "slide_type": "subslide"
    }
   },
   "source": [
    "### Writing Test Cases\n",
    "\n",
    "The above calls, interacting with a user interface automatically, are typically used in *Selenium tests* – that is, code snippets that interact with a Web site, occasionally checking whether everything works as expected.  The following code, for instance, places an order just as above.  It then retrieves the `title` element and checks whether the title contains a \"Thank you\" message, indicating success."
   ]
  },
  {
   "cell_type": "code",
   "execution_count": 44,
   "metadata": {
    "slideshow": {
     "slide_type": "subslide"
    }
   },
   "outputs": [],
   "source": [
    "def test_successful_order(driver, url):\n",
    "    name = \"Walter White\"\n",
    "    email = \"white@jpwynne.edu\"\n",
    "    city = \"Albuquerque\"\n",
    "    zip_code = \"87101\"\n",
    "    \n",
    "    driver.get(url)\n",
    "    driver.find_element_by_name(\"name\").send_keys(name)\n",
    "    driver.find_element_by_name(\"email\").send_keys(email)\n",
    "    driver.find_element_by_name('city').send_keys(city)\n",
    "    driver.find_element_by_name('zip').send_keys(zip_code)\n",
    "    driver.find_element_by_name('terms').click()\n",
    "    driver.find_element_by_name('submit').click()\n",
    "    \n",
    "    title = driver.find_element_by_id('title')\n",
    "    assert title is not None\n",
    "    assert title.text.find(\"Thank you\") >= 0\n",
    "\n",
    "    confirmation = driver.find_element_by_id(\"confirmation\")\n",
    "    assert confirmation is not None\n",
    "\n",
    "    assert confirmation.text.find(name) >= 0\n",
    "    assert confirmation.text.find(email) >= 0\n",
    "    assert confirmation.text.find(city) >= 0\n",
    "    assert confirmation.text.find(zip_code) >= 0\n",
    "    \n",
    "    return True"
   ]
  },
  {
   "cell_type": "code",
   "execution_count": 45,
   "metadata": {
    "slideshow": {
     "slide_type": "subslide"
    }
   },
   "outputs": [
    {
     "data": {
      "text/plain": [
       "True"
      ]
     },
     "execution_count": 45,
     "metadata": {},
     "output_type": "execute_result"
    }
   ],
   "source": [
    "test_successful_order(gui_driver, httpd_url)"
   ]
  },
  {
   "cell_type": "markdown",
   "metadata": {
    "slideshow": {
     "slide_type": "fragment"
    }
   },
   "source": [
    "In a similar vein, we can set up automated test cases for unsuccessful orders, canceling orders, changing orders, and many more.  All these test cases would be automatically run after any change to the program code, ensuring the Web application still works."
   ]
  },
  {
   "cell_type": "markdown",
   "metadata": {
    "slideshow": {
     "slide_type": "fragment"
    }
   },
   "source": [
    "Of course, writing such tests is quite some effort.  Hence, in the remainder of this chapter, we will again explore how to automatically generate them."
   ]
  },
  {
   "cell_type": "markdown",
   "metadata": {
    "button": false,
    "new_sheet": false,
    "run_control": {
     "read_only": false
    },
    "slideshow": {
     "slide_type": "subslide"
    }
   },
   "source": [
    "## Retrieving User Interface Actions\n",
    "\n",
    "To automatically interact with a user interface, we first need to find out which elements there are, and which user interactions (or short *actions*) they support."
   ]
  },
  {
   "cell_type": "markdown",
   "metadata": {
    "button": false,
    "new_sheet": false,
    "run_control": {
     "read_only": false
    },
    "slideshow": {
     "slide_type": "subslide"
    }
   },
   "source": [
    "### User Interface Elements\n",
    "\n",
    "We start with finding available user elements.  Let us get back to the order form."
   ]
  },
  {
   "cell_type": "code",
   "execution_count": 46,
   "metadata": {
    "slideshow": {
     "slide_type": "fragment"
    }
   },
   "outputs": [],
   "source": [
    "gui_driver.get(httpd_url)"
   ]
  },
  {
   "cell_type": "code",
   "execution_count": 47,
   "metadata": {
    "slideshow": {
     "slide_type": "fragment"
    }
   },
   "outputs": [
    {
     "data": {
      "image/png": "[encoded data removed]",
      "text/plain": [
       "<IPython.core.display.Image object>"
      ]
     },
     "execution_count": 47,
     "metadata": {},
     "output_type": "execute_result"
    }
   ],
   "source": [
    "Image(gui_driver.get_screenshot_as_png())"
   ]
  },
  {
   "cell_type": "markdown",
   "metadata": {
    "slideshow": {
     "slide_type": "fragment"
    }
   },
   "source": [
    "Using `find_elements_by_tag_name()` (and other similar `find_elements_...()` functions), we can retrieve all elements of a particular type, such as HTML `input` elements."
   ]
  },
  {
   "cell_type": "code",
   "execution_count": 48,
   "metadata": {
    "button": false,
    "new_sheet": false,
    "run_control": {
     "read_only": false
    },
    "slideshow": {
     "slide_type": "subslide"
    }
   },
   "outputs": [],
   "source": [
    "ui_elements = gui_driver.find_elements_by_tag_name(\"input\")"
   ]
  },
  {
   "cell_type": "markdown",
   "metadata": {
    "slideshow": {
     "slide_type": "fragment"
    }
   },
   "source": [
    "For each element, we can retrieve its HTML attributes, using `get_attribute()`.  We can thus retrieve the `name` and `type` of each input element (if defined)."
   ]
  },
  {
   "cell_type": "code",
   "execution_count": 49,
   "metadata": {
    "slideshow": {
     "slide_type": "subslide"
    }
   },
   "outputs": [
    {
     "name": "stdout",
     "output_type": "stream",
     "text": [
      "Name: name       | Type: text       | Text: \n",
      "Name: email      | Type: email      | Text: \n",
      "Name: city       | Type: text       | Text: \n",
      "Name: zip        | Type: number     | Text: \n",
      "Name: terms      | Type: checkbox   | Text: \n",
      "Name: submit     | Type: submit     | Text: \n"
     ]
    }
   ],
   "source": [
    "for element in ui_elements:\n",
    "    print(\"Name: %-10s | Type: %-10s | Text: %s\" % (element.get_attribute('name'), element.get_attribute('type'), element.text))"
   ]
  },
  {
   "cell_type": "code",
   "execution_count": 50,
   "metadata": {
    "button": false,
    "new_sheet": false,
    "run_control": {
     "read_only": false
    },
    "slideshow": {
     "slide_type": "subslide"
    }
   },
   "outputs": [],
   "source": [
    "ui_elements = gui_driver.find_elements_by_tag_name(\"a\")"
   ]
  },
  {
   "cell_type": "code",
   "execution_count": 51,
   "metadata": {
    "slideshow": {
     "slide_type": "fragment"
    }
   },
   "outputs": [
    {
     "name": "stdout",
     "output_type": "stream",
     "text": [
      "Name:            | Type:            | Text: terms and conditions\n"
     ]
    }
   ],
   "source": [
    "for element in ui_elements:\n",
    "    print(\"Name: %-10s | Type: %-10s | Text: %s\" % (element.get_attribute('name'), element.get_attribute('type'), element.text))"
   ]
  },
  {
   "cell_type": "markdown",
   "metadata": {
    "slideshow": {
     "slide_type": "subslide"
    }
   },
   "source": [
    "### User Interface Actions\n",
    "\n",
    "Similarly to what we did in the [chapter on Web fuzzing](WebFuzzer.ipynb), our idea is now to mine a _grammar_ for the user interface – first for an individual user interface *page* (i.e., a single Web page), later for all pages offered by the application.  The idea is that a grammar defines _legal sequences of actions_ – clicks and keystrokes – that can be applied on the application."
   ]
  },
  {
   "cell_type": "markdown",
   "metadata": {
    "slideshow": {
     "slide_type": "subslide"
    }
   },
   "source": [
    "We assume the following actions:\n",
    "\n",
    "1. `fill(<name>, <text>)` – fill the UI input element named `<name>` with the text `<text>`.\n",
    "1. `check(<name>, <value>)` – set the UI checkbox `<name>` to the given value `<value>` (True or False)\n",
    "1. `submit(<name>)` – submit the form by clicking on the UI element `<name>`.\n",
    "1. `click(<name>)` – click on the UI element `<name>`, typically for following a link."
   ]
  },
  {
   "cell_type": "markdown",
   "metadata": {
    "slideshow": {
     "slide_type": "subslide"
    }
   },
   "source": [
    "This sequence of actions, for instance would fill out the order form:\n",
    "\n",
    "```python\n",
    "fill('name', \"Walter White\")\n",
    "fill('email', \"white@jpwynne.edu\")\n",
    "fill('city', \"Albuquerque\")\n",
    "fill('zip', \"87101\")\n",
    "check('terms', True)\n",
    "submit('submit')\n",
    "```"
   ]
  },
  {
   "cell_type": "markdown",
   "metadata": {
    "slideshow": {
     "slide_type": "subslide"
    }
   },
   "source": [
    "Our set of actions is deliberately defined to be small – for real user interfaces, one would also have to define interactions such as swipes, double clicks, long clicks, right button clicks, modifier keys, and more.  Selenium supports all of this; but in the interest of simplicity, we focus on the most important set of interactions."
   ]
  },
  {
   "cell_type": "markdown",
   "metadata": {
    "slideshow": {
     "slide_type": "subslide"
    },
    "toc-hr-collapsed": false
   },
   "source": [
    "### Retrieving Actions\n",
    "\n",
    "As a first step in mining an action grammar, we need to be able to retrieve possible interactions.  We introduce a class `GUIGrammarMiner`, which is set to do precisely that."
   ]
  },
  {
   "cell_type": "code",
   "execution_count": 52,
   "metadata": {
    "slideshow": {
     "slide_type": "fragment"
    }
   },
   "outputs": [],
   "source": [
    "class GUIGrammarMiner(object):\n",
    "    def __init__(self, driver, stay_on_host=True):\n",
    "        self.driver = driver\n",
    "        self.stay_on_host = stay_on_host\n",
    "        self.grammar = {}"
   ]
  },
  {
   "cell_type": "markdown",
   "metadata": {
    "slideshow": {
     "slide_type": "subslide"
    }
   },
   "source": [
    "Our first task is to obtain the set of possible interactions.  Given a single UI page, the method `mine_input_actions()` of `GUIGrammarMiner` returns a set of *actions* as defined above.  It first gets all `input` elements, followed by `button` elements, finally followed by links (`a` elements), and merges them into a set.  (We use a `frozenset` here since we want to use the set as an index later.)"
   ]
  },
  {
   "cell_type": "code",
   "execution_count": 53,
   "metadata": {
    "slideshow": {
     "slide_type": "fragment"
    }
   },
   "outputs": [],
   "source": [
    "class GUIGrammarMiner(GUIGrammarMiner):\n",
    "    def mine_state_actions(self):\n",
    "        return frozenset(self.mine_input_element_actions()\n",
    "            | self.mine_button_element_actions()\n",
    "            | self.mine_a_element_actions())"
   ]
  },
  {
   "cell_type": "markdown",
   "metadata": {
    "slideshow": {
     "slide_type": "subslide"
    }
   },
   "source": [
    "#### Input Element Actions\n",
    "\n",
    "Mining input actions goes through the set of input elements, and returns an action depending on the input type.  If the input field is a text, for instance, the associated action is `fill()`; for checkboxes, the action is `check()`."
   ]
  },
  {
   "cell_type": "markdown",
   "metadata": {
    "slideshow": {
     "slide_type": "fragment"
    }
   },
   "source": [
    "The respective values are placeholders depending on the type; if the input field is a number, for instance, the value becomes `<number>`.  As these actions later become part of the grammar, they will be expanded into actual values during grammar expansion."
   ]
  },
  {
   "cell_type": "code",
   "execution_count": 54,
   "metadata": {
    "slideshow": {
     "slide_type": "skip"
    }
   },
   "outputs": [],
   "source": [
    "from selenium.common.exceptions import StaleElementReferenceException"
   ]
  },
  {
   "cell_type": "code",
   "execution_count": 55,
   "metadata": {
    "slideshow": {
     "slide_type": "subslide"
    }
   },
   "outputs": [],
   "source": [
    "class GUIGrammarMiner(GUIGrammarMiner):\n",
    "    def mine_input_element_actions(self):\n",
    "        actions = set()\n",
    "        \n",
    "        for elem in self.driver.find_elements_by_tag_name(\"input\"):\n",
    "            try:\n",
    "                input_type = elem.get_attribute(\"type\")\n",
    "                input_name = elem.get_attribute(\"name\")\n",
    "                if input_name is None:\n",
    "                    input_name = elem.text\n",
    "\n",
    "                if input_type in [\"checkbox\", \"radio\"]:\n",
    "                    actions.add(\"check('%s', <boolean>)\" % html.escape(input_name))\n",
    "                elif input_type in [\"text\", \"number\", \"email\", \"password\"]:\n",
    "                    actions.add(\"fill('%s', '<%s>')\" % (html.escape(input_name), html.escape(input_type)))\n",
    "                elif input_type in [\"button\", \"submit\"]:\n",
    "                    actions.add(\"submit('%s')\" % html.escape(input_name))\n",
    "                elif input_type in [\"hidden\"]:\n",
    "                    pass\n",
    "                else:\n",
    "                    # TODO: Handle more types here\n",
    "                    actions.add(\"fill('%s', <%s>)\" % (html.escape(input_name), html.escape(input_type)))\n",
    "            except StaleElementReferenceException:\n",
    "                pass\n",
    "\n",
    "        return actions"
   ]
  },
  {
   "cell_type": "markdown",
   "metadata": {
    "slideshow": {
     "slide_type": "subslide"
    }
   },
   "source": [
    "Applied on our order form, we see that the method gets us all input actions:"
   ]
  },
  {
   "cell_type": "code",
   "execution_count": 56,
   "metadata": {
    "slideshow": {
     "slide_type": "fragment"
    }
   },
   "outputs": [
    {
     "data": {
      "text/plain": [
       "{\"check('terms', <boolean>)\",\n",
       " \"fill('city', '<text>')\",\n",
       " \"fill('email', '<email>')\",\n",
       " \"fill('name', '<text>')\",\n",
       " \"fill('zip', '<number>')\",\n",
       " \"submit('submit')\"}"
      ]
     },
     "execution_count": 56,
     "metadata": {},
     "output_type": "execute_result"
    }
   ],
   "source": [
    "gui_grammar_miner = GUIGrammarMiner(gui_driver)\n",
    "gui_grammar_miner.mine_input_element_actions()"
   ]
  },
  {
   "cell_type": "markdown",
   "metadata": {
    "slideshow": {
     "slide_type": "subslide"
    }
   },
   "source": [
    "#### Button Element Actions\n",
    "\n",
    "Mining buttons works in a similar way:"
   ]
  },
  {
   "cell_type": "code",
   "execution_count": 57,
   "metadata": {
    "slideshow": {
     "slide_type": "subslide"
    }
   },
   "outputs": [],
   "source": [
    "class GUIGrammarMiner(GUIGrammarMiner):\n",
    "    def mine_button_element_actions(self):\n",
    "        actions = set()\n",
    "        \n",
    "        for elem in self.driver.find_elements_by_tag_name(\"button\"):\n",
    "            try:\n",
    "                button_type = elem.get_attribute(\"type\")\n",
    "                button_name = elem.get_attribute(\"name\")\n",
    "                if button_name is None:\n",
    "                    button_name = elem.text\n",
    "                if button_type == \"submit\":\n",
    "                    actions.add(\"submit('%s')\" % html.escape(button_name))\n",
    "                elif button_type != \"reset\":\n",
    "                    actions.add(\"click('%s')\" % html.escape(button_name))\n",
    "            except StaleElementReferenceException:\n",
    "                pass\n",
    "\n",
    "        return actions"
   ]
  },
  {
   "cell_type": "markdown",
   "metadata": {
    "slideshow": {
     "slide_type": "subslide"
    }
   },
   "source": [
    "Our order form has no `button` elements.  (The `submit` button is an `input` element, and was handled above)."
   ]
  },
  {
   "cell_type": "code",
   "execution_count": 58,
   "metadata": {
    "slideshow": {
     "slide_type": "fragment"
    }
   },
   "outputs": [
    {
     "data": {
      "text/plain": [
       "set()"
      ]
     },
     "execution_count": 58,
     "metadata": {},
     "output_type": "execute_result"
    }
   ],
   "source": [
    "gui_grammar_miner = GUIGrammarMiner(gui_driver)\n",
    "gui_grammar_miner.mine_button_element_actions()"
   ]
  },
  {
   "cell_type": "markdown",
   "metadata": {
    "slideshow": {
     "slide_type": "subslide"
    }
   },
   "source": [
    "#### Link Element Actions\n",
    "\n",
    "When following links, we need to make sure that we stay on the current host – we want to explore a single Web site only, not all of the Internet.  To this end, we check the `href` attribute of the link to check whether it still points to the same host.  If it does not, we give it a special action `ignore()`, which, as the name suggests, will later be ignored as it comes to executing these actions.  We still return an action, though, as we use the set of actions to characterize a state in the application."
   ]
  },
  {
   "cell_type": "code",
   "execution_count": 59,
   "metadata": {
    "slideshow": {
     "slide_type": "subslide"
    }
   },
   "outputs": [],
   "source": [
    "class GUIGrammarMiner(GUIGrammarMiner):\n",
    "    def mine_a_element_actions(self):\n",
    "        actions = set()\n",
    "\n",
    "        for elem in self.driver.find_elements_by_tag_name(\"a\"):\n",
    "            try:\n",
    "                a_href = elem.get_attribute(\"href\")\n",
    "                if a_href is not None:\n",
    "                    if self.follow_link(a_href):\n",
    "                        actions.add(\"click('%s')\" % html.escape(elem.text))\n",
    "                    else:\n",
    "                        actions.add(\"ignore('%s')\" % html.escape(elem.text))\n",
    "            except StaleElementReferenceException:\n",
    "                pass\n",
    "\n",
    "        return actions"
   ]
  },
  {
   "cell_type": "markdown",
   "metadata": {
    "slideshow": {
     "slide_type": "subslide"
    }
   },
   "source": [
    "To check whether we can follow a link, the method `follow_link()` checks the URL:"
   ]
  },
  {
   "cell_type": "code",
   "execution_count": 60,
   "metadata": {
    "slideshow": {
     "slide_type": "skip"
    }
   },
   "outputs": [],
   "source": [
    "from urllib.parse import urljoin, urlsplit"
   ]
  },
  {
   "cell_type": "code",
   "execution_count": 61,
   "metadata": {
    "slideshow": {
     "slide_type": "fragment"
    }
   },
   "outputs": [],
   "source": [
    "class GUIGrammarMiner(GUIGrammarMiner):\n",
    "    def follow_link(self, link):\n",
    "        if not self.stay_on_host:\n",
    "            return True\n",
    "        \n",
    "        current_url = self.driver.current_url\n",
    "        target_url = urljoin(current_url, link)\n",
    "        return urlsplit(current_url).hostname == urlsplit(target_url).hostname       "
   ]
  },
  {
   "cell_type": "markdown",
   "metadata": {
    "slideshow": {
     "slide_type": "fragment"
    }
   },
   "source": [
    "In our application, we would not be allowed to follow a link to `foo.bar`:"
   ]
  },
  {
   "cell_type": "code",
   "execution_count": 62,
   "metadata": {
    "slideshow": {
     "slide_type": "fragment"
    }
   },
   "outputs": [],
   "source": [
    "gui_grammar_miner = GUIGrammarMiner(gui_driver)"
   ]
  },
  {
   "cell_type": "code",
   "execution_count": 63,
   "metadata": {
    "slideshow": {
     "slide_type": "fragment"
    }
   },
   "outputs": [
    {
     "data": {
      "text/plain": [
       "False"
      ]
     },
     "execution_count": 63,
     "metadata": {},
     "output_type": "execute_result"
    }
   ],
   "source": [
    "gui_grammar_miner.follow_link(\"ftp://foo.bar/\")"
   ]
  },
  {
   "cell_type": "markdown",
   "metadata": {
    "slideshow": {
     "slide_type": "subslide"
    }
   },
   "source": [
    "Following a link to `localhost`, though, works well:"
   ]
  },
  {
   "cell_type": "code",
   "execution_count": 64,
   "metadata": {
    "slideshow": {
     "slide_type": "fragment"
    }
   },
   "outputs": [
    {
     "data": {
      "text/plain": [
       "True"
      ]
     },
     "execution_count": 64,
     "metadata": {},
     "output_type": "execute_result"
    }
   ],
   "source": [
    "gui_grammar_miner.follow_link(\"https://127.0.0.1/\")"
   ]
  },
  {
   "cell_type": "markdown",
   "metadata": {
    "slideshow": {
     "slide_type": "fragment"
    }
   },
   "source": [
    "When adapting this for other user interfaces, similar measures would be taken to ensure we stay in the same application."
   ]
  },
  {
   "cell_type": "markdown",
   "metadata": {
    "slideshow": {
     "slide_type": "fragment"
    }
   },
   "source": [
    "Running this method on our page gets us the set of links:"
   ]
  },
  {
   "cell_type": "code",
   "execution_count": 65,
   "metadata": {
    "slideshow": {
     "slide_type": "fragment"
    }
   },
   "outputs": [
    {
     "data": {
      "text/plain": [
       "{\"click('terms and conditions')\"}"
      ]
     },
     "execution_count": 65,
     "metadata": {},
     "output_type": "execute_result"
    }
   ],
   "source": [
    "gui_grammar_miner = GUIGrammarMiner(gui_driver)\n",
    "gui_grammar_miner.mine_a_element_actions()"
   ]
  },
  {
   "cell_type": "markdown",
   "metadata": {
    "slideshow": {
     "slide_type": "subslide"
    }
   },
   "source": [
    "#### All Together\n",
    "\n",
    "Let us now apply `mine_state_actions()` on our current page to retrieve all elements.  We see that we get the union of all three sets."
   ]
  },
  {
   "cell_type": "code",
   "execution_count": 66,
   "metadata": {
    "slideshow": {
     "slide_type": "fragment"
    }
   },
   "outputs": [
    {
     "data": {
      "text/plain": [
       "frozenset({\"check('terms', <boolean>)\",\n",
       "           \"click('terms and conditions')\",\n",
       "           \"fill('city', '<text>')\",\n",
       "           \"fill('email', '<email>')\",\n",
       "           \"fill('name', '<text>')\",\n",
       "           \"fill('zip', '<number>')\",\n",
       "           \"submit('submit')\"})"
      ]
     },
     "execution_count": 66,
     "metadata": {},
     "output_type": "execute_result"
    }
   ],
   "source": [
    "gui_grammar_miner = GUIGrammarMiner(gui_driver)\n",
    "gui_grammar_miner.mine_state_actions()"
   ]
  },
  {
   "cell_type": "markdown",
   "metadata": {
    "slideshow": {
     "slide_type": "subslide"
    }
   },
   "source": [
    "We assume that we can identify a user interface *state* from the set of interactive elements it contains – that is, the current Web page is identified by the set above.  This is in contrast to [Web fuzzing](WebFuzzer.ipynb), where we assumed the URL to uniquely characterize a page – but with JavaScript, the URL can stay unchanged although the page contents change, and UIs other than the Web may have no concept of unique URLs.  Therefore, we say that the way a UI can be interacted with uniquely defines its state."
   ]
  },
  {
   "cell_type": "markdown",
   "metadata": {
    "slideshow": {
     "slide_type": "slide"
    }
   },
   "source": [
    "## Models for User Interfaces"
   ]
  },
  {
   "cell_type": "markdown",
   "metadata": {
    "slideshow": {
     "slide_type": "subslide"
    }
   },
   "source": [
    "### User Interfaces as Finite State Machines\n",
    "\n",
    "Now that we can retrieve UI elements from a page, let us go and systematically explore a user interface.  The idea is to represent the user interface as a *finite state machine* – that is, a sequence of *states* that can be reached by interacting with the individual user interface elements."
   ]
  },
  {
   "cell_type": "markdown",
   "metadata": {
    "slideshow": {
     "slide_type": "fragment"
    }
   },
   "source": [
    "Let us illustrate such a finite state machine by looking our Web server.  The following diagram shows the states our server can be in:"
   ]
  },
  {
   "cell_type": "code",
   "execution_count": 67,
   "metadata": {
    "slideshow": {
     "slide_type": "skip"
    }
   },
   "outputs": [],
   "source": [
    "from graphviz import Digraph"
   ]
  },
  {
   "cell_type": "code",
   "execution_count": 68,
   "metadata": {
    "slideshow": {
     "slide_type": "skip"
    }
   },
   "outputs": [],
   "source": [
    "from IPython.display import display"
   ]
  },
  {
   "cell_type": "code",
   "execution_count": 69,
   "metadata": {
    "slideshow": {
     "slide_type": "skip"
    }
   },
   "outputs": [],
   "source": [
    "from GrammarFuzzer import dot_escape"
   ]
  },
  {
   "cell_type": "code",
   "execution_count": 70,
   "metadata": {
    "slideshow": {
     "slide_type": "subslide"
    }
   },
   "outputs": [
    {
     "data": {
      "image/svg+xml": [
       "<?xml version=\"1.0\" encoding=\"UTF-8\" standalone=\"no\"?>\n",
       "<!DOCTYPE svg PUBLIC \"-//W3C//DTD SVG 1.1//EN\"\n",
       " \"http://www.w3.org/Graphics/SVG/1.1/DTD/svg11.dtd\">\n",
       "<!-- Generated by graphviz version 2.40.1 (20161225.0304)\n",
       " -->\n",
       "<!-- Title: %3 Pages: 1 -->\n",
       "<svg width=\"556pt\" height=\"219pt\"\n",
       " viewBox=\"0.00 0.00 556.04 219.00\" xmlns=\"http://www.w3.org/2000/svg\" xmlns:xlink=\"http://www.w3.org/1999/xlink\">\n",
       "<g id=\"graph0\" class=\"graph\" transform=\"scale(1 1) rotate(0) translate(4 215)\">\n",
       "<title>%3</title>\n",
       "<polygon fill=\"#ffffff\" stroke=\"transparent\" points=\"-4,4 -4,-215 552.0409,-215 552.0409,4 -4,4\"/>\n",
       "<!-- \\&lt;start\\&gt; -->\n",
       "<g id=\"node1\" class=\"node\">\n",
       "<title>\\&lt;start\\&gt;</title>\n",
       "<ellipse fill=\"none\" stroke=\"#000000\" cx=\"286.0409\" cy=\"-193\" rx=\"36.2938\" ry=\"18\"/>\n",
       "<text text-anchor=\"middle\" x=\"286.0409\" y=\"-189.3\" font-family=\"Times,serif\" font-size=\"14.00\" fill=\"#000000\">&lt;start&gt;</text>\n",
       "</g>\n",
       "<!-- \\&lt;Order Form\\&gt; -->\n",
       "<g id=\"node2\" class=\"node\">\n",
       "<title>\\&lt;Order Form\\&gt;</title>\n",
       "<ellipse fill=\"none\" stroke=\"#000000\" cx=\"286.0409\" cy=\"-120\" rx=\"64.189\" ry=\"18\"/>\n",
       "<text text-anchor=\"middle\" x=\"286.0409\" y=\"-116.3\" font-family=\"Times,serif\" font-size=\"14.00\" fill=\"#000000\">&lt;Order Form&gt;</text>\n",
       "</g>\n",
       "<!-- \\&lt;start\\&gt;&#45;&gt;\\&lt;Order Form\\&gt; -->\n",
       "<g id=\"edge1\" class=\"edge\">\n",
       "<title>\\&lt;start\\&gt;&#45;&gt;\\&lt;Order Form\\&gt;</title>\n",
       "<path fill=\"none\" stroke=\"#000000\" d=\"M286.0409,-174.9551C286.0409,-166.8828 286.0409,-157.1764 286.0409,-148.1817\"/>\n",
       "<polygon fill=\"#000000\" stroke=\"#000000\" points=\"289.541,-148.0903 286.0409,-138.0904 282.541,-148.0904 289.541,-148.0903\"/>\n",
       "</g>\n",
       "<!-- \\&lt;Terms and Conditions\\&gt; -->\n",
       "<g id=\"node3\" class=\"node\">\n",
       "<title>\\&lt;Terms and Conditions\\&gt;</title>\n",
       "<ellipse fill=\"none\" stroke=\"#000000\" cx=\"102.0409\" cy=\"-18\" rx=\"102.0819\" ry=\"18\"/>\n",
       "<text text-anchor=\"middle\" x=\"102.0409\" y=\"-14.3\" font-family=\"Times,serif\" font-size=\"14.00\" fill=\"#000000\">&lt;Terms and Conditions&gt;</text>\n",
       "</g>\n",
       "<!-- \\&lt;Order Form\\&gt;&#45;&gt;\\&lt;Terms and Conditions\\&gt; -->\n",
       "<g id=\"edge2\" class=\"edge\">\n",
       "<title>\\&lt;Order Form\\&gt;&#45;&gt;\\&lt;Terms and Conditions\\&gt;</title>\n",
       "<path fill=\"none\" stroke=\"#000000\" d=\"M223.9991,-115.1509C154.8254,-109.1018 51.0175,-97.8486 39.0409,-84 30.3192,-73.9149 32.3486,-65.5321 39.0409,-54 42.0384,-48.8348 46.0861,-44.3482 50.6923,-40.4658\"/>\n",
       "<polygon fill=\"#000000\" stroke=\"#000000\" points=\"52.8686,-43.2106 58.8846,-34.4895 48.7431,-37.5554 52.8686,-43.2106\"/>\n",
       "<text text-anchor=\"middle\" x=\"120.5409\" y=\"-65.3\" font-family=\"Times,serif\" font-size=\"14.00\" fill=\"#000000\">click(&#39;Terms and conditions&#39;)</text>\n",
       "</g>\n",
       "<!-- \\&lt;Thank You\\&gt; -->\n",
       "<g id=\"node4\" class=\"node\">\n",
       "<title>\\&lt;Thank You\\&gt;</title>\n",
       "<ellipse fill=\"none\" stroke=\"#000000\" cx=\"406.0409\" cy=\"-18\" rx=\"62.2891\" ry=\"18\"/>\n",
       "<text text-anchor=\"middle\" x=\"406.0409\" y=\"-14.3\" font-family=\"Times,serif\" font-size=\"14.00\" fill=\"#000000\">&lt;Thank You&gt;</text>\n",
       "</g>\n",
       "<!-- \\&lt;Order Form\\&gt;&#45;&gt;\\&lt;Thank You\\&gt; -->\n",
       "<g id=\"edge3\" class=\"edge\">\n",
       "<title>\\&lt;Order Form\\&gt;&#45;&gt;\\&lt;Thank You\\&gt;</title>\n",
       "<path fill=\"none\" stroke=\"#000000\" d=\"M307.2083,-102.808C313.8136,-97.0828 320.9574,-90.502 327.0409,-84 338.5197,-71.7317 337.6797,-65.3785 350.0409,-54 355.5949,-48.8876 361.96,-44.0406 368.3607,-39.6563\"/>\n",
       "<polygon fill=\"#000000\" stroke=\"#000000\" points=\"370.5836,-42.3847 377.0384,-33.9831 366.7532,-36.5257 370.5836,-42.3847\"/>\n",
       "<text text-anchor=\"start\" x=\"350.0409\" y=\"-72.8\" font-family=\"Times,serif\" font-size=\"14.00\" fill=\"#000000\">fill(...)</text>\n",
       "<text text-anchor=\"middle\" x=\"395.5409\" y=\"-57.8\" font-family=\"Times,serif\" font-size=\"14.00\" fill=\"#000000\">submit(&#39;submit&#39;)</text>\n",
       "</g>\n",
       "<!-- \\&lt;Terms and Conditions\\&gt;&#45;&gt;\\&lt;Order Form\\&gt; -->\n",
       "<g id=\"edge4\" class=\"edge\">\n",
       "<title>\\&lt;Terms and Conditions\\&gt;&#45;&gt;\\&lt;Order Form\\&gt;</title>\n",
       "<path fill=\"none\" stroke=\"#000000\" d=\"M162.518,-32.5559C176.4406,-37.7867 190.5248,-44.7653 202.0409,-54 214.3536,-63.8734 209.5579,-73.1729 221.0409,-84 227.3147,-89.9154 234.7437,-95.1961 242.297,-99.7702\"/>\n",
       "<polygon fill=\"#000000\" stroke=\"#000000\" points=\"240.7365,-102.9091 251.1592,-104.811 244.1974,-96.8245 240.7365,-102.9091\"/>\n",
       "<text text-anchor=\"middle\" x=\"272.0409\" y=\"-65.3\" font-family=\"Times,serif\" font-size=\"14.00\" fill=\"#000000\">click(&#39;order form&#39;)</text>\n",
       "</g>\n",
       "<!-- \\&lt;Thank You\\&gt;&#45;&gt;\\&lt;Order Form\\&gt; -->\n",
       "<g id=\"edge5\" class=\"edge\">\n",
       "<title>\\&lt;Thank You\\&gt;&#45;&gt;\\&lt;Order Form\\&gt;</title>\n",
       "<path fill=\"none\" stroke=\"#000000\" d=\"M427.7489,-34.98C433.1179,-40.4175 438.1554,-46.8925 441.0409,-54 446.0565,-66.354 449.3343,-73.5598 441.0409,-84 430.1641,-97.6926 392.1394,-106.6465 356.4772,-112.1999\"/>\n",
       "<polygon fill=\"#000000\" stroke=\"#000000\" points=\"355.8848,-108.7494 346.5058,-113.6772 356.9107,-115.6738 355.8848,-108.7494\"/>\n",
       "<text text-anchor=\"middle\" x=\"497.0409\" y=\"-65.3\" font-family=\"Times,serif\" font-size=\"14.00\" fill=\"#000000\">click(&#39;order form&#39;)</text>\n",
       "</g>\n",
       "</g>\n",
       "</svg>\n"
      ],
      "text/plain": [
       "<graphviz.dot.Digraph at 0x115f61898>"
      ]
     },
     "metadata": {},
     "output_type": "display_data"
    }
   ],
   "source": [
    "dot = Digraph(comment=\"Finite State Machine\")\n",
    "dot.node(dot_escape('<start>'))\n",
    "dot.edge(dot_escape('<start>'), dot_escape('<Order Form>'))\n",
    "dot.edge(dot_escape('<Order Form>'), dot_escape('<Terms and Conditions>'), \"click('Terms and conditions')\")\n",
    "dot.edge(dot_escape('<Order Form>'), dot_escape('<Thank You>'), \"fill(...)\\lsubmit('submit')\")\n",
    "dot.edge(dot_escape('<Terms and Conditions>'), dot_escape('<Order Form>'), \"click('order form')\")\n",
    "dot.edge(dot_escape('<Thank You>'), dot_escape('<Order Form>'), \"click('order form')\")\n",
    "display(dot)"
   ]
  },
  {
   "cell_type": "markdown",
   "metadata": {
    "slideshow": {
     "slide_type": "subslide"
    }
   },
   "source": [
    "Initially, we are in the `<Order Form>` state.  From here, we can click on `Terms and Conditions`, and we'll be in the `Terms and Conditions` state, showing the page with the same title.  We can also fill out the form and place the order, having us end in the `Thank You` state (again showing the page with the same title).  From both `<Terms and Conditions>` and `<Thank You>`, we can return to the order form by clicking on the `order form` link."
   ]
  },
  {
   "cell_type": "markdown",
   "metadata": {
    "slideshow": {
     "slide_type": "subslide"
    }
   },
   "source": [
    "### State Machines as Grammars\n",
    "\n",
    "To systematically explore a user interface, we must retrieve its finite state machine, and eventually cover all states and transitions.  In the presence of forms, such an exploration is difficult, as we need a special mechanism to fill out forms and submit the values to get to the next state.  There is a trick, though, which allows us to have a single representation for both states and (form) values.  We can *embed the finite state machine into a grammar*, which is then used for both states and form values."
   ]
  },
  {
   "cell_type": "markdown",
   "metadata": {
    "slideshow": {
     "slide_type": "subslide"
    }
   },
   "source": [
    "To embed a finite state machine into a grammar, we proceed as follows:\n",
    "\n",
    "1. Every _state_ $\\langle s \\rangle$ in the finite state machine becomes a _symbol_ $\\langle s \\rangle$ in the grammar.\n",
    "2. Every _transition_ in the finite state machine from $\\langle s \\rangle$ to $\\langle t \\rangle$ and actions $a_1, a_2, \\dots$ becomes an _alternative_ of $\\langle s \\rangle$ in the form $a_1, a_2, dots$ $\\langle t \\rangle$ in the grammar."
   ]
  },
  {
   "cell_type": "markdown",
   "metadata": {
    "slideshow": {
     "slide_type": "subslide"
    }
   },
   "source": [
    "The above finite state machine thus gets encoded into the grammar\n",
    "\n",
    "```\n",
    "<start> ::= <Order Form>\n",
    "<Order Form> ::= click('Terms and Conditions') <Terms and Conditions> | \n",
    "                 fill(...) submit('submit') <Thank You>\n",
    "<Terms and Conditions> ::= click('order form') <Order Form>\n",
    "<Thank You> ::= click('order form') <Order Form>\n",
    "```"
   ]
  },
  {
   "cell_type": "markdown",
   "metadata": {
    "slideshow": {
     "slide_type": "subslide"
    }
   },
   "source": [
    "Expanding this grammar gets us a stream of actions, navigating through the user interface:\n",
    "\n",
    "```\n",
    "fill(...) submit('submit') click('order form') click('Terms and Conditions') click('order form') ...\n",
    "```\n",
    "\n",
    "This stream is actually _infinite_ (as one can interact with the UI forever); to have it end, one can introduce an alternative `<end>` that simply expands to the empty string, without having any expansion (state) follow."
   ]
  },
  {
   "cell_type": "markdown",
   "metadata": {
    "slideshow": {
     "slide_type": "subslide"
    }
   },
   "source": [
    "### Retrieving State Grammars\n",
    "\n",
    "Let us build a method that retrieves a grammar from the _current state_ of a user interface.  We first define a constant `GUI_GRAMMAR` that servers as template for all sorts of input types.  We will use this to fill out forms."
   ]
  },
  {
   "cell_type": "markdown",
   "metadata": {
    "slideshow": {
     "slide_type": "fragment"
    }
   },
   "source": [
    "\\todo{}: Have a generic interface `BaseGrammarMiner` with `__init__()` and `mine_grammar()`"
   ]
  },
  {
   "cell_type": "code",
   "execution_count": 71,
   "metadata": {
    "slideshow": {
     "slide_type": "skip"
    }
   },
   "outputs": [],
   "source": [
    "from Grammars import new_symbol"
   ]
  },
  {
   "cell_type": "code",
   "execution_count": 72,
   "metadata": {
    "slideshow": {
     "slide_type": "skip"
    }
   },
   "outputs": [],
   "source": [
    "from Grammars import nonterminals, START_SYMBOL\n",
    "from Grammars import extend_grammar, unreachable_nonterminals, opts, crange, srange\n",
    "from Grammars import syntax_diagram, is_valid_grammar"
   ]
  },
  {
   "cell_type": "code",
   "execution_count": 73,
   "metadata": {
    "slideshow": {
     "slide_type": "subslide"
    }
   },
   "outputs": [],
   "source": [
    "class GUIGrammarMiner(GUIGrammarMiner):\n",
    "    START_STATE = \"<state>\"\n",
    "    UNEXPLORED_STATE = \"<unexplored>\"\n",
    "    FINAL_STATE = \"<end>\"\n",
    "\n",
    "    GUI_GRAMMAR = ({\n",
    "        START_SYMBOL: [START_STATE],\n",
    "        UNEXPLORED_STATE: [\"\"],\n",
    "        FINAL_STATE: [\"\"],\n",
    "\n",
    "        \"<text>\": [\"<string>\"],\n",
    "        \"<string>\": [\"<character>\", \"<string><character>\"],\n",
    "        \"<character>\": [\"<letter>\", \"<digit>\", \"<special>\"],\n",
    "        \"<letter>\": crange('a', 'z') + crange('A', 'Z'),\n",
    "        \n",
    "        \"<number>\": [\"<digits>\"],\n",
    "        \"<digits>\": [\"<digit>\", \"<digits><digit>\"],\n",
    "        \"<digit>\": crange('0', '9'),\n",
    "        \n",
    "        \"<special>\": srange(\". !\"),\n",
    "\n",
    "        \"<email>\": [\"<letters>@<letters>\"],\n",
    "        \"<letters>\": [\"<letter>\", \"<letters><letter>\"],\n",
    "        \n",
    "        \"<boolean>\": [\"True\", \"False\"],\n",
    "\n",
    "        # Use a fixed password in case we need to repeat it\n",
    "        \"<password>\": [\"abcABC.123\"],\n",
    "        \n",
    "        \"<hidden>\": \"<string>\",\n",
    "    })"
   ]
  },
  {
   "cell_type": "code",
   "execution_count": 74,
   "metadata": {
    "slideshow": {
     "slide_type": "subslide"
    }
   },
   "outputs": [
    {
     "name": "stdout",
     "output_type": "stream",
     "text": [
      "start\n"
     ]
    },
    {
     "data": {
      "image/svg+xml": [
       "<svg class=\"railroad-diagram\" height=\"62\" viewBox=\"0 0 182.5 62\" width=\"182.5\" xmlns=\"http://www.w3.org/2000/svg\">\n",
       "<g transform=\"translate(.5 .5)\">\n",
       "<style>/* <![CDATA[ */\n",
       "    svg.railroad-diagram {\n",
       "        background-color:hsl(100,100%,100%);\n",
       "    }\n",
       "    svg.railroad-diagram path {\n",
       "        stroke-width:3;\n",
       "        stroke:black;\n",
       "        fill:rgba(0,0,0,0);\n",
       "    }\n",
       "    svg.railroad-diagram text {\n",
       "        font:bold 14px monospace;\n",
       "        text-anchor:middle;\n",
       "    }\n",
       "    svg.railroad-diagram text.label{\n",
       "        text-anchor:start;\n",
       "    }\n",
       "    svg.railroad-diagram text.comment{\n",
       "        font:italic 12px monospace;\n",
       "    }\n",
       "    svg.railroad-diagram rect{\n",
       "        stroke-width:3;\n",
       "        stroke:black;\n",
       "        fill:hsl(0,62%,82%);\n",
       "    }\n",
       "\n",
       "/* ]]> */\n",
       "</style><g>\n",
       "<path d=\"M20 21v20m10 -20v20m-10 -10h20\"/></g><g>\n",
       "<path d=\"M40 31h0.0\"/><path d=\"M142.5 31h0.0\"/><path d=\"M40.0 31h20\"/><g>\n",
       "<path d=\"M60.0 31h0.0\"/><path d=\"M122.5 31h0.0\"/><g class=\"non-terminal\">\n",
       "<path d=\"M60.0 31h0.0\"/><path d=\"M122.5 31h0.0\"/><rect height=\"22\" width=\"62.5\" x=\"60.0\" y=\"20\"/><text x=\"91.25\" y=\"35\">state</text></g></g><path d=\"M122.5 31h20\"/></g><path d=\"M 142.5 31 h 20 m -10 -10 v 20 m 10 -20 v 20\"/></g></svg>"
      ],
      "text/plain": [
       "<IPython.core.display.SVG object>"
      ]
     },
     "metadata": {},
     "output_type": "display_data"
    },
    {
     "name": "stdout",
     "output_type": "stream",
     "text": [
      "unexplored\n"
     ]
    },
    {
     "data": {
      "image/svg+xml": [
       "<svg class=\"railroad-diagram\" height=\"62\" viewBox=\"0 0 140.0 62\" width=\"140.0\" xmlns=\"http://www.w3.org/2000/svg\">\n",
       "<g transform=\"translate(.5 .5)\">\n",
       "<style>/* <![CDATA[ */\n",
       "    svg.railroad-diagram {\n",
       "        background-color:hsl(100,100%,100%);\n",
       "    }\n",
       "    svg.railroad-diagram path {\n",
       "        stroke-width:3;\n",
       "        stroke:black;\n",
       "        fill:rgba(0,0,0,0);\n",
       "    }\n",
       "    svg.railroad-diagram text {\n",
       "        font:bold 14px monospace;\n",
       "        text-anchor:middle;\n",
       "    }\n",
       "    svg.railroad-diagram text.label{\n",
       "        text-anchor:start;\n",
       "    }\n",
       "    svg.railroad-diagram text.comment{\n",
       "        font:italic 12px monospace;\n",
       "    }\n",
       "    svg.railroad-diagram rect{\n",
       "        stroke-width:3;\n",
       "        stroke:black;\n",
       "        fill:hsl(0,62%,82%);\n",
       "    }\n",
       "\n",
       "/* ]]> */\n",
       "</style><g>\n",
       "<path d=\"M20 21v20m10 -20v20m-10 -10h20\"/></g><g>\n",
       "<path d=\"M40 31h0.0\"/><path d=\"M100.0 31h0.0\"/><path d=\"M40.0 31h20\"/><g>\n",
       "<path d=\"M60.0 31h0.0\"/><path d=\"M80.0 31h0.0\"/><g class=\"terminal\">\n",
       "<path d=\"M60.0 31h0.0\"/><path d=\"M80.0 31h0.0\"/><rect height=\"22\" rx=\"10\" ry=\"10\" width=\"20.0\" x=\"60.0\" y=\"20\"/><text x=\"70.0\" y=\"35\"/></g></g><path d=\"M80.0 31h20\"/></g><path d=\"M 100.0 31 h 20 m -10 -10 v 20 m 10 -20 v 20\"/></g></svg>"
      ],
      "text/plain": [
       "<IPython.core.display.SVG object>"
      ]
     },
     "metadata": {},
     "output_type": "display_data"
    },
    {
     "name": "stdout",
     "output_type": "stream",
     "text": [
      "end\n"
     ]
    },
    {
     "data": {
      "image/svg+xml": [
       "<svg class=\"railroad-diagram\" height=\"62\" viewBox=\"0 0 140.0 62\" width=\"140.0\" xmlns=\"http://www.w3.org/2000/svg\">\n",
       "<g transform=\"translate(.5 .5)\">\n",
       "<style>/* <![CDATA[ */\n",
       "    svg.railroad-diagram {\n",
       "        background-color:hsl(100,100%,100%);\n",
       "    }\n",
       "    svg.railroad-diagram path {\n",
       "        stroke-width:3;\n",
       "        stroke:black;\n",
       "        fill:rgba(0,0,0,0);\n",
       "    }\n",
       "    svg.railroad-diagram text {\n",
       "        font:bold 14px monospace;\n",
       "        text-anchor:middle;\n",
       "    }\n",
       "    svg.railroad-diagram text.label{\n",
       "        text-anchor:start;\n",
       "    }\n",
       "    svg.railroad-diagram text.comment{\n",
       "        font:italic 12px monospace;\n",
       "    }\n",
       "    svg.railroad-diagram rect{\n",
       "        stroke-width:3;\n",
       "        stroke:black;\n",
       "        fill:hsl(0,62%,82%);\n",
       "    }\n",
       "\n",
       "/* ]]> */\n",
       "</style><g>\n",
       "<path d=\"M20 21v20m10 -20v20m-10 -10h20\"/></g><g>\n",
       "<path d=\"M40 31h0.0\"/><path d=\"M100.0 31h0.0\"/><path d=\"M40.0 31h20\"/><g>\n",
       "<path d=\"M60.0 31h0.0\"/><path d=\"M80.0 31h0.0\"/><g class=\"terminal\">\n",
       "<path d=\"M60.0 31h0.0\"/><path d=\"M80.0 31h0.0\"/><rect height=\"22\" rx=\"10\" ry=\"10\" width=\"20.0\" x=\"60.0\" y=\"20\"/><text x=\"70.0\" y=\"35\"/></g></g><path d=\"M80.0 31h20\"/></g><path d=\"M 100.0 31 h 20 m -10 -10 v 20 m 10 -20 v 20\"/></g></svg>"
      ],
      "text/plain": [
       "<IPython.core.display.SVG object>"
      ]
     },
     "metadata": {},
     "output_type": "display_data"
    },
    {
     "name": "stdout",
     "output_type": "stream",
     "text": [
      "text\n"
     ]
    },
    {
     "data": {
      "image/svg+xml": [
       "<svg class=\"railroad-diagram\" height=\"62\" viewBox=\"0 0 191.0 62\" width=\"191.0\" xmlns=\"http://www.w3.org/2000/svg\">\n",
       "<g transform=\"translate(.5 .5)\">\n",
       "<style>/* <![CDATA[ */\n",
       "    svg.railroad-diagram {\n",
       "        background-color:hsl(100,100%,100%);\n",
       "    }\n",
       "    svg.railroad-diagram path {\n",
       "        stroke-width:3;\n",
       "        stroke:black;\n",
       "        fill:rgba(0,0,0,0);\n",
       "    }\n",
       "    svg.railroad-diagram text {\n",
       "        font:bold 14px monospace;\n",
       "        text-anchor:middle;\n",
       "    }\n",
       "    svg.railroad-diagram text.label{\n",
       "        text-anchor:start;\n",
       "    }\n",
       "    svg.railroad-diagram text.comment{\n",
       "        font:italic 12px monospace;\n",
       "    }\n",
       "    svg.railroad-diagram rect{\n",
       "        stroke-width:3;\n",
       "        stroke:black;\n",
       "        fill:hsl(0,62%,82%);\n",
       "    }\n",
       "\n",
       "/* ]]> */\n",
       "</style><g>\n",
       "<path d=\"M20 21v20m10 -20v20m-10 -10h20\"/></g><g>\n",
       "<path d=\"M40 31h0.0\"/><path d=\"M151.0 31h0.0\"/><path d=\"M40.0 31h20\"/><g>\n",
       "<path d=\"M60.0 31h0.0\"/><path d=\"M131.0 31h0.0\"/><g class=\"non-terminal\">\n",
       "<path d=\"M60.0 31h0.0\"/><path d=\"M131.0 31h0.0\"/><rect height=\"22\" width=\"71.0\" x=\"60.0\" y=\"20\"/><text x=\"95.5\" y=\"35\">string</text></g></g><path d=\"M131.0 31h20\"/></g><path d=\"M 151.0 31 h 20 m -10 -10 v 20 m 10 -20 v 20\"/></g></svg>"
      ],
      "text/plain": [
       "<IPython.core.display.SVG object>"
      ]
     },
     "metadata": {},
     "output_type": "display_data"
    },
    {
     "name": "stdout",
     "output_type": "stream",
     "text": [
      "string\n"
     ]
    },
    {
     "data": {
      "image/svg+xml": [
       "<svg class=\"railroad-diagram\" height=\"92\" viewBox=\"0 0 307.5 92\" width=\"307.5\" xmlns=\"http://www.w3.org/2000/svg\">\n",
       "<g transform=\"translate(.5 .5)\">\n",
       "<style>/* <![CDATA[ */\n",
       "    svg.railroad-diagram {\n",
       "        background-color:hsl(100,100%,100%);\n",
       "    }\n",
       "    svg.railroad-diagram path {\n",
       "        stroke-width:3;\n",
       "        stroke:black;\n",
       "        fill:rgba(0,0,0,0);\n",
       "    }\n",
       "    svg.railroad-diagram text {\n",
       "        font:bold 14px monospace;\n",
       "        text-anchor:middle;\n",
       "    }\n",
       "    svg.railroad-diagram text.label{\n",
       "        text-anchor:start;\n",
       "    }\n",
       "    svg.railroad-diagram text.comment{\n",
       "        font:italic 12px monospace;\n",
       "    }\n",
       "    svg.railroad-diagram rect{\n",
       "        stroke-width:3;\n",
       "        stroke:black;\n",
       "        fill:hsl(0,62%,82%);\n",
       "    }\n",
       "\n",
       "/* ]]> */\n",
       "</style><g>\n",
       "<path d=\"M20 51v20m10 -20v20m-10 -10h20\"/></g><g>\n",
       "<path d=\"M40 61h0.0\"/><path d=\"M267.5 61h0.0\"/><path d=\"M40.0 61a10 10 0 0 0 10 -10v-10a10 10 0 0 1 10 -10\"/><g>\n",
       "<path d=\"M60.0 31h45.5\"/><path d=\"M202.0 31h45.5\"/><g class=\"non-terminal\">\n",
       "<path d=\"M105.5 31h0.0\"/><path d=\"M202.0 31h0.0\"/><rect height=\"22\" width=\"96.5\" x=\"105.5\" y=\"20\"/><text x=\"153.75\" y=\"35\">character</text></g></g><path d=\"M247.5 31a10 10 0 0 1 10 10v10a10 10 0 0 0 10 10\"/><path d=\"M40.0 61h20\"/><g>\n",
       "<path d=\"M60.0 61h0.0\"/><path d=\"M247.5 61h0.0\"/><g class=\"non-terminal\">\n",
       "<path d=\"M60.0 61h0.0\"/><path d=\"M131.0 61h0.0\"/><rect height=\"22\" width=\"71.0\" x=\"60.0\" y=\"50\"/><text x=\"95.5\" y=\"65\">string</text></g><path d=\"M131.0 61h10\"/><path d=\"M141.0 61h10\"/><g class=\"non-terminal\">\n",
       "<path d=\"M151.0 61h0.0\"/><path d=\"M247.5 61h0.0\"/><rect height=\"22\" width=\"96.5\" x=\"151.0\" y=\"50\"/><text x=\"199.25\" y=\"65\">character</text></g></g><path d=\"M247.5 61h20\"/></g><path d=\"M 267.5 61 h 20 m -10 -10 v 20 m 10 -20 v 20\"/></g></svg>"
      ],
      "text/plain": [
       "<IPython.core.display.SVG object>"
      ]
     },
     "metadata": {},
     "output_type": "display_data"
    },
    {
     "name": "stdout",
     "output_type": "stream",
     "text": [
      "character\n"
     ]
    },
    {
     "data": {
      "image/svg+xml": [
       "<svg class=\"railroad-diagram\" height=\"122\" viewBox=\"0 0 199.5 122\" width=\"199.5\" xmlns=\"http://www.w3.org/2000/svg\">\n",
       "<g transform=\"translate(.5 .5)\">\n",
       "<style>/* <![CDATA[ */\n",
       "    svg.railroad-diagram {\n",
       "        background-color:hsl(100,100%,100%);\n",
       "    }\n",
       "    svg.railroad-diagram path {\n",
       "        stroke-width:3;\n",
       "        stroke:black;\n",
       "        fill:rgba(0,0,0,0);\n",
       "    }\n",
       "    svg.railroad-diagram text {\n",
       "        font:bold 14px monospace;\n",
       "        text-anchor:middle;\n",
       "    }\n",
       "    svg.railroad-diagram text.label{\n",
       "        text-anchor:start;\n",
       "    }\n",
       "    svg.railroad-diagram text.comment{\n",
       "        font:italic 12px monospace;\n",
       "    }\n",
       "    svg.railroad-diagram rect{\n",
       "        stroke-width:3;\n",
       "        stroke:black;\n",
       "        fill:hsl(0,62%,82%);\n",
       "    }\n",
       "\n",
       "/* ]]> */\n",
       "</style><g>\n",
       "<path d=\"M20 51v20m10 -20v20m-10 -10h20\"/></g><g>\n",
       "<path d=\"M40 61h0.0\"/><path d=\"M159.5 61h0.0\"/><path d=\"M40.0 61a10 10 0 0 0 10 -10v-10a10 10 0 0 1 10 -10\"/><g>\n",
       "<path d=\"M60.0 31h4.25\"/><path d=\"M135.25 31h4.25\"/><g class=\"non-terminal\">\n",
       "<path d=\"M64.25 31h0.0\"/><path d=\"M135.25 31h0.0\"/><rect height=\"22\" width=\"71.0\" x=\"64.25\" y=\"20\"/><text x=\"99.75\" y=\"35\">letter</text></g></g><path d=\"M139.5 31a10 10 0 0 1 10 10v10a10 10 0 0 0 10 10\"/><path d=\"M40.0 61h20\"/><g>\n",
       "<path d=\"M60.0 61h8.5\"/><path d=\"M131.0 61h8.5\"/><g class=\"non-terminal\">\n",
       "<path d=\"M68.5 61h0.0\"/><path d=\"M131.0 61h0.0\"/><rect height=\"22\" width=\"62.5\" x=\"68.5\" y=\"50\"/><text x=\"99.75\" y=\"65\">digit</text></g></g><path d=\"M139.5 61h20\"/><path d=\"M40.0 61a10 10 0 0 1 10 10v10a10 10 0 0 0 10 10\"/><g>\n",
       "<path d=\"M60.0 91h0.0\"/><path d=\"M139.5 91h0.0\"/><g class=\"non-terminal\">\n",
       "<path d=\"M60.0 91h0.0\"/><path d=\"M139.5 91h0.0\"/><rect height=\"22\" width=\"79.5\" x=\"60.0\" y=\"80\"/><text x=\"99.75\" y=\"95\">special</text></g></g><path d=\"M139.5 91a10 10 0 0 0 10 -10v-10a10 10 0 0 1 10 -10\"/></g><path d=\"M 159.5 61 h 20 m -10 -10 v 20 m 10 -20 v 20\"/></g></svg>"
      ],
      "text/plain": [
       "<IPython.core.display.SVG object>"
      ]
     },
     "metadata": {},
     "output_type": "display_data"
    },
    {
     "name": "stdout",
     "output_type": "stream",
     "text": [
      "letter\n"
     ]
    },
    {
     "data": {
      "image/svg+xml": [
       "<svg class=\"railroad-diagram\" height=\"348\" viewBox=\"0 0 611.0 348\" width=\"611.0\" xmlns=\"http://www.w3.org/2000/svg\">\n",
       "<g transform=\"translate(.5 .5)\">\n",
       "<style>/* <![CDATA[ */\n",
       "    svg.railroad-diagram {\n",
       "        background-color:hsl(100,100%,100%);\n",
       "    }\n",
       "    svg.railroad-diagram path {\n",
       "        stroke-width:3;\n",
       "        stroke:black;\n",
       "        fill:rgba(0,0,0,0);\n",
       "    }\n",
       "    svg.railroad-diagram text {\n",
       "        font:bold 14px monospace;\n",
       "        text-anchor:middle;\n",
       "    }\n",
       "    svg.railroad-diagram text.label{\n",
       "        text-anchor:start;\n",
       "    }\n",
       "    svg.railroad-diagram text.comment{\n",
       "        font:italic 12px monospace;\n",
       "    }\n",
       "    svg.railroad-diagram rect{\n",
       "        stroke-width:3;\n",
       "        stroke:black;\n",
       "        fill:hsl(0,62%,82%);\n",
       "    }\n",
       "\n",
       "/* ]]> */\n",
       "</style><g>\n",
       "<path d=\"M20 179v20m10 -20v20m-10 -10h20\"/></g><g>\n",
       "<path d=\"M40 189h0.0\"/><path d=\"M571.0 189h0.0\"/><path d=\"M40.0 189a10 10 0 0 0 10 -10v-149a10 10 0 0 1 10 -10h412.5\"/><path d=\"M138.5 328h412.5a10 10 0 0 0 10 -10v-119a10 10 0 0 1 10 -10\"/><path d=\"M40.0 189h10\"/><g>\n",
       "<path d=\"M50.0 189h0.0\"/><path d=\"M118.5 189h0.0\"/><path d=\"M50.0 189a10 10 0 0 0 10 -10v-10a10 10 0 0 1 10 -10\"/><g>\n",
       "<path d=\"M70.0 159h0.0\"/><path d=\"M98.5 159h0.0\"/><g class=\"terminal\">\n",
       "<path d=\"M70.0 159h0.0\"/><path d=\"M98.5 159h0.0\"/><rect height=\"22\" rx=\"10\" ry=\"10\" width=\"28.5\" x=\"70.0\" y=\"148\"/><text x=\"84.25\" y=\"163\">e</text></g></g><path d=\"M98.5 159a10 10 0 0 1 10 10v10a10 10 0 0 0 10 10\"/><path d=\"M50.0 189a10 10 0 0 0 10 -10v-40a10 10 0 0 1 10 -10\"/><g>\n",
       "<path d=\"M70.0 129h0.0\"/><path d=\"M98.5 129h0.0\"/><g class=\"terminal\">\n",
       "<path d=\"M70.0 129h0.0\"/><path d=\"M98.5 129h0.0\"/><rect height=\"22\" rx=\"10\" ry=\"10\" width=\"28.5\" x=\"70.0\" y=\"118\"/><text x=\"84.25\" y=\"133\">d</text></g></g><path d=\"M98.5 129a10 10 0 0 1 10 10v40a10 10 0 0 0 10 10\"/><path d=\"M50.0 189a10 10 0 0 0 10 -10v-70a10 10 0 0 1 10 -10\"/><g>\n",
       "<path d=\"M70.0 99h0.0\"/><path d=\"M98.5 99h0.0\"/><g class=\"terminal\">\n",
       "<path d=\"M70.0 99h0.0\"/><path d=\"M98.5 99h0.0\"/><rect height=\"22\" rx=\"10\" ry=\"10\" width=\"28.5\" x=\"70.0\" y=\"88\"/><text x=\"84.25\" y=\"103\">c</text></g></g><path d=\"M98.5 99a10 10 0 0 1 10 10v70a10 10 0 0 0 10 10\"/><path d=\"M50.0 189a10 10 0 0 0 10 -10v-100a10 10 0 0 1 10 -10\"/><g>\n",
       "<path d=\"M70.0 69h0.0\"/><path d=\"M98.5 69h0.0\"/><g class=\"terminal\">\n",
       "<path d=\"M70.0 69h0.0\"/><path d=\"M98.5 69h0.0\"/><rect height=\"22\" rx=\"10\" ry=\"10\" width=\"28.5\" x=\"70.0\" y=\"58\"/><text x=\"84.25\" y=\"73\">b</text></g></g><path d=\"M98.5 69a10 10 0 0 1 10 10v100a10 10 0 0 0 10 10\"/><path d=\"M50.0 189a10 10 0 0 0 10 -10v-130a10 10 0 0 1 10 -10\"/><g>\n",
       "<path d=\"M70.0 39h0.0\"/><path d=\"M98.5 39h0.0\"/><g class=\"terminal\">\n",
       "<path d=\"M70.0 39h0.0\"/><path d=\"M98.5 39h0.0\"/><rect height=\"22\" rx=\"10\" ry=\"10\" width=\"28.5\" x=\"70.0\" y=\"28\"/><text x=\"84.25\" y=\"43\">a</text></g></g><path d=\"M98.5 39a10 10 0 0 1 10 10v130a10 10 0 0 0 10 10\"/><path d=\"M50.0 189h20\"/><g>\n",
       "<path d=\"M70.0 189h0.0\"/><path d=\"M98.5 189h0.0\"/><g class=\"terminal\">\n",
       "<path d=\"M70.0 189h0.0\"/><path d=\"M98.5 189h0.0\"/><rect height=\"22\" rx=\"10\" ry=\"10\" width=\"28.5\" x=\"70.0\" y=\"178\"/><text x=\"84.25\" y=\"193\">f</text></g></g><path d=\"M98.5 189h20\"/><path d=\"M50.0 189a10 10 0 0 1 10 10v10a10 10 0 0 0 10 10\"/><g>\n",
       "<path d=\"M70.0 219h0.0\"/><path d=\"M98.5 219h0.0\"/><g class=\"terminal\">\n",
       "<path d=\"M70.0 219h0.0\"/><path d=\"M98.5 219h0.0\"/><rect height=\"22\" rx=\"10\" ry=\"10\" width=\"28.5\" x=\"70.0\" y=\"208\"/><text x=\"84.25\" y=\"223\">g</text></g></g><path d=\"M98.5 219a10 10 0 0 0 10 -10v-10a10 10 0 0 1 10 -10\"/><path d=\"M50.0 189a10 10 0 0 1 10 10v40a10 10 0 0 0 10 10\"/><g>\n",
       "<path d=\"M70.0 249h0.0\"/><path d=\"M98.5 249h0.0\"/><g class=\"terminal\">\n",
       "<path d=\"M70.0 249h0.0\"/><path d=\"M98.5 249h0.0\"/><rect height=\"22\" rx=\"10\" ry=\"10\" width=\"28.5\" x=\"70.0\" y=\"238\"/><text x=\"84.25\" y=\"253\">h</text></g></g><path d=\"M98.5 249a10 10 0 0 0 10 -10v-40a10 10 0 0 1 10 -10\"/><path d=\"M50.0 189a10 10 0 0 1 10 10v70a10 10 0 0 0 10 10\"/><g>\n",
       "<path d=\"M70.0 279h0.0\"/><path d=\"M98.5 279h0.0\"/><g class=\"terminal\">\n",
       "<path d=\"M70.0 279h0.0\"/><path d=\"M98.5 279h0.0\"/><rect height=\"22\" rx=\"10\" ry=\"10\" width=\"28.5\" x=\"70.0\" y=\"268\"/><text x=\"84.25\" y=\"283\">i</text></g></g><path d=\"M98.5 279a10 10 0 0 0 10 -10v-70a10 10 0 0 1 10 -10\"/><path d=\"M50.0 189a10 10 0 0 1 10 10v100a10 10 0 0 0 10 10\"/><g>\n",
       "<path d=\"M70.0 309h0.0\"/><path d=\"M98.5 309h0.0\"/><g class=\"terminal\">\n",
       "<path d=\"M70.0 309h0.0\"/><path d=\"M98.5 309h0.0\"/><rect height=\"22\" rx=\"10\" ry=\"10\" width=\"28.5\" x=\"70.0\" y=\"298\"/><text x=\"84.25\" y=\"313\">j</text></g></g><path d=\"M98.5 309a10 10 0 0 0 10 -10v-100a10 10 0 0 1 10 -10\"/></g><path d=\"M118.5 189a10 10 0 0 1 10 10v119a10 10 0 0 0 10 10\"/><path d=\"M118.5 20a10 10 0 0 1 10 10v149a10 10 0 0 0 10 10\"/><g>\n",
       "<path d=\"M138.5 189h0.0\"/><path d=\"M207.0 189h0.0\"/><path d=\"M138.5 189a10 10 0 0 0 10 -10v-10a10 10 0 0 1 10 -10\"/><g>\n",
       "<path d=\"M158.5 159h0.0\"/><path d=\"M187.0 159h0.0\"/><g class=\"terminal\">\n",
       "<path d=\"M158.5 159h0.0\"/><path d=\"M187.0 159h0.0\"/><rect height=\"22\" rx=\"10\" ry=\"10\" width=\"28.5\" x=\"158.5\" y=\"148\"/><text x=\"172.75\" y=\"163\">o</text></g></g><path d=\"M187.0 159a10 10 0 0 1 10 10v10a10 10 0 0 0 10 10\"/><path d=\"M138.5 189a10 10 0 0 0 10 -10v-40a10 10 0 0 1 10 -10\"/><g>\n",
       "<path d=\"M158.5 129h0.0\"/><path d=\"M187.0 129h0.0\"/><g class=\"terminal\">\n",
       "<path d=\"M158.5 129h0.0\"/><path d=\"M187.0 129h0.0\"/><rect height=\"22\" rx=\"10\" ry=\"10\" width=\"28.5\" x=\"158.5\" y=\"118\"/><text x=\"172.75\" y=\"133\">n</text></g></g><path d=\"M187.0 129a10 10 0 0 1 10 10v40a10 10 0 0 0 10 10\"/><path d=\"M138.5 189a10 10 0 0 0 10 -10v-70a10 10 0 0 1 10 -10\"/><g>\n",
       "<path d=\"M158.5 99h0.0\"/><path d=\"M187.0 99h0.0\"/><g class=\"terminal\">\n",
       "<path d=\"M158.5 99h0.0\"/><path d=\"M187.0 99h0.0\"/><rect height=\"22\" rx=\"10\" ry=\"10\" width=\"28.5\" x=\"158.5\" y=\"88\"/><text x=\"172.75\" y=\"103\">m</text></g></g><path d=\"M187.0 99a10 10 0 0 1 10 10v70a10 10 0 0 0 10 10\"/><path d=\"M138.5 189a10 10 0 0 0 10 -10v-100a10 10 0 0 1 10 -10\"/><g>\n",
       "<path d=\"M158.5 69h0.0\"/><path d=\"M187.0 69h0.0\"/><g class=\"terminal\">\n",
       "<path d=\"M158.5 69h0.0\"/><path d=\"M187.0 69h0.0\"/><rect height=\"22\" rx=\"10\" ry=\"10\" width=\"28.5\" x=\"158.5\" y=\"58\"/><text x=\"172.75\" y=\"73\">l</text></g></g><path d=\"M187.0 69a10 10 0 0 1 10 10v100a10 10 0 0 0 10 10\"/><path d=\"M138.5 189a10 10 0 0 0 10 -10v-130a10 10 0 0 1 10 -10\"/><g>\n",
       "<path d=\"M158.5 39h0.0\"/><path d=\"M187.0 39h0.0\"/><g class=\"terminal\">\n",
       "<path d=\"M158.5 39h0.0\"/><path d=\"M187.0 39h0.0\"/><rect height=\"22\" rx=\"10\" ry=\"10\" width=\"28.5\" x=\"158.5\" y=\"28\"/><text x=\"172.75\" y=\"43\">k</text></g></g><path d=\"M187.0 39a10 10 0 0 1 10 10v130a10 10 0 0 0 10 10\"/><path d=\"M138.5 189h20\"/><g>\n",
       "<path d=\"M158.5 189h0.0\"/><path d=\"M187.0 189h0.0\"/><g class=\"terminal\">\n",
       "<path d=\"M158.5 189h0.0\"/><path d=\"M187.0 189h0.0\"/><rect height=\"22\" rx=\"10\" ry=\"10\" width=\"28.5\" x=\"158.5\" y=\"178\"/><text x=\"172.75\" y=\"193\">p</text></g></g><path d=\"M187.0 189h20\"/><path d=\"M138.5 189a10 10 0 0 1 10 10v10a10 10 0 0 0 10 10\"/><g>\n",
       "<path d=\"M158.5 219h0.0\"/><path d=\"M187.0 219h0.0\"/><g class=\"terminal\">\n",
       "<path d=\"M158.5 219h0.0\"/><path d=\"M187.0 219h0.0\"/><rect height=\"22\" rx=\"10\" ry=\"10\" width=\"28.5\" x=\"158.5\" y=\"208\"/><text x=\"172.75\" y=\"223\">q</text></g></g><path d=\"M187.0 219a10 10 0 0 0 10 -10v-10a10 10 0 0 1 10 -10\"/><path d=\"M138.5 189a10 10 0 0 1 10 10v40a10 10 0 0 0 10 10\"/><g>\n",
       "<path d=\"M158.5 249h0.0\"/><path d=\"M187.0 249h0.0\"/><g class=\"terminal\">\n",
       "<path d=\"M158.5 249h0.0\"/><path d=\"M187.0 249h0.0\"/><rect height=\"22\" rx=\"10\" ry=\"10\" width=\"28.5\" x=\"158.5\" y=\"238\"/><text x=\"172.75\" y=\"253\">r</text></g></g><path d=\"M187.0 249a10 10 0 0 0 10 -10v-40a10 10 0 0 1 10 -10\"/><path d=\"M138.5 189a10 10 0 0 1 10 10v70a10 10 0 0 0 10 10\"/><g>\n",
       "<path d=\"M158.5 279h0.0\"/><path d=\"M187.0 279h0.0\"/><g class=\"terminal\">\n",
       "<path d=\"M158.5 279h0.0\"/><path d=\"M187.0 279h0.0\"/><rect height=\"22\" rx=\"10\" ry=\"10\" width=\"28.5\" x=\"158.5\" y=\"268\"/><text x=\"172.75\" y=\"283\">s</text></g></g><path d=\"M187.0 279a10 10 0 0 0 10 -10v-70a10 10 0 0 1 10 -10\"/><path d=\"M138.5 189a10 10 0 0 1 10 10v100a10 10 0 0 0 10 10\"/><g>\n",
       "<path d=\"M158.5 309h0.0\"/><path d=\"M187.0 309h0.0\"/><g class=\"terminal\">\n",
       "<path d=\"M158.5 309h0.0\"/><path d=\"M187.0 309h0.0\"/><rect height=\"22\" rx=\"10\" ry=\"10\" width=\"28.5\" x=\"158.5\" y=\"298\"/><text x=\"172.75\" y=\"313\">t</text></g></g><path d=\"M187.0 309a10 10 0 0 0 10 -10v-100a10 10 0 0 1 10 -10\"/></g><path d=\"M207.0 189a10 10 0 0 1 10 10v119a10 10 0 0 0 10 10\"/><path d=\"M207.0 20a10 10 0 0 1 10 10v149a10 10 0 0 0 10 10\"/><g>\n",
       "<path d=\"M227.0 189h0.0\"/><path d=\"M295.5 189h0.0\"/><path d=\"M227.0 189a10 10 0 0 0 10 -10v-10a10 10 0 0 1 10 -10\"/><g>\n",
       "<path d=\"M247.0 159h0.0\"/><path d=\"M275.5 159h0.0\"/><g class=\"terminal\">\n",
       "<path d=\"M247.0 159h0.0\"/><path d=\"M275.5 159h0.0\"/><rect height=\"22\" rx=\"10\" ry=\"10\" width=\"28.5\" x=\"247.0\" y=\"148\"/><text x=\"261.25\" y=\"163\">y</text></g></g><path d=\"M275.5 159a10 10 0 0 1 10 10v10a10 10 0 0 0 10 10\"/><path d=\"M227.0 189a10 10 0 0 0 10 -10v-40a10 10 0 0 1 10 -10\"/><g>\n",
       "<path d=\"M247.0 129h0.0\"/><path d=\"M275.5 129h0.0\"/><g class=\"terminal\">\n",
       "<path d=\"M247.0 129h0.0\"/><path d=\"M275.5 129h0.0\"/><rect height=\"22\" rx=\"10\" ry=\"10\" width=\"28.5\" x=\"247.0\" y=\"118\"/><text x=\"261.25\" y=\"133\">x</text></g></g><path d=\"M275.5 129a10 10 0 0 1 10 10v40a10 10 0 0 0 10 10\"/><path d=\"M227.0 189a10 10 0 0 0 10 -10v-70a10 10 0 0 1 10 -10\"/><g>\n",
       "<path d=\"M247.0 99h0.0\"/><path d=\"M275.5 99h0.0\"/><g class=\"terminal\">\n",
       "<path d=\"M247.0 99h0.0\"/><path d=\"M275.5 99h0.0\"/><rect height=\"22\" rx=\"10\" ry=\"10\" width=\"28.5\" x=\"247.0\" y=\"88\"/><text x=\"261.25\" y=\"103\">w</text></g></g><path d=\"M275.5 99a10 10 0 0 1 10 10v70a10 10 0 0 0 10 10\"/><path d=\"M227.0 189a10 10 0 0 0 10 -10v-100a10 10 0 0 1 10 -10\"/><g>\n",
       "<path d=\"M247.0 69h0.0\"/><path d=\"M275.5 69h0.0\"/><g class=\"terminal\">\n",
       "<path d=\"M247.0 69h0.0\"/><path d=\"M275.5 69h0.0\"/><rect height=\"22\" rx=\"10\" ry=\"10\" width=\"28.5\" x=\"247.0\" y=\"58\"/><text x=\"261.25\" y=\"73\">v</text></g></g><path d=\"M275.5 69a10 10 0 0 1 10 10v100a10 10 0 0 0 10 10\"/><path d=\"M227.0 189a10 10 0 0 0 10 -10v-130a10 10 0 0 1 10 -10\"/><g>\n",
       "<path d=\"M247.0 39h0.0\"/><path d=\"M275.5 39h0.0\"/><g class=\"terminal\">\n",
       "<path d=\"M247.0 39h0.0\"/><path d=\"M275.5 39h0.0\"/><rect height=\"22\" rx=\"10\" ry=\"10\" width=\"28.5\" x=\"247.0\" y=\"28\"/><text x=\"261.25\" y=\"43\">u</text></g></g><path d=\"M275.5 39a10 10 0 0 1 10 10v130a10 10 0 0 0 10 10\"/><path d=\"M227.0 189h20\"/><g>\n",
       "<path d=\"M247.0 189h0.0\"/><path d=\"M275.5 189h0.0\"/><g class=\"terminal\">\n",
       "<path d=\"M247.0 189h0.0\"/><path d=\"M275.5 189h0.0\"/><rect height=\"22\" rx=\"10\" ry=\"10\" width=\"28.5\" x=\"247.0\" y=\"178\"/><text x=\"261.25\" y=\"193\">z</text></g></g><path d=\"M275.5 189h20\"/><path d=\"M227.0 189a10 10 0 0 1 10 10v10a10 10 0 0 0 10 10\"/><g>\n",
       "<path d=\"M247.0 219h0.0\"/><path d=\"M275.5 219h0.0\"/><g class=\"terminal\">\n",
       "<path d=\"M247.0 219h0.0\"/><path d=\"M275.5 219h0.0\"/><rect height=\"22\" rx=\"10\" ry=\"10\" width=\"28.5\" x=\"247.0\" y=\"208\"/><text x=\"261.25\" y=\"223\">A</text></g></g><path d=\"M275.5 219a10 10 0 0 0 10 -10v-10a10 10 0 0 1 10 -10\"/><path d=\"M227.0 189a10 10 0 0 1 10 10v40a10 10 0 0 0 10 10\"/><g>\n",
       "<path d=\"M247.0 249h0.0\"/><path d=\"M275.5 249h0.0\"/><g class=\"terminal\">\n",
       "<path d=\"M247.0 249h0.0\"/><path d=\"M275.5 249h0.0\"/><rect height=\"22\" rx=\"10\" ry=\"10\" width=\"28.5\" x=\"247.0\" y=\"238\"/><text x=\"261.25\" y=\"253\">B</text></g></g><path d=\"M275.5 249a10 10 0 0 0 10 -10v-40a10 10 0 0 1 10 -10\"/><path d=\"M227.0 189a10 10 0 0 1 10 10v70a10 10 0 0 0 10 10\"/><g>\n",
       "<path d=\"M247.0 279h0.0\"/><path d=\"M275.5 279h0.0\"/><g class=\"terminal\">\n",
       "<path d=\"M247.0 279h0.0\"/><path d=\"M275.5 279h0.0\"/><rect height=\"22\" rx=\"10\" ry=\"10\" width=\"28.5\" x=\"247.0\" y=\"268\"/><text x=\"261.25\" y=\"283\">C</text></g></g><path d=\"M275.5 279a10 10 0 0 0 10 -10v-70a10 10 0 0 1 10 -10\"/><path d=\"M227.0 189a10 10 0 0 1 10 10v100a10 10 0 0 0 10 10\"/><g>\n",
       "<path d=\"M247.0 309h0.0\"/><path d=\"M275.5 309h0.0\"/><g class=\"terminal\">\n",
       "<path d=\"M247.0 309h0.0\"/><path d=\"M275.5 309h0.0\"/><rect height=\"22\" rx=\"10\" ry=\"10\" width=\"28.5\" x=\"247.0\" y=\"298\"/><text x=\"261.25\" y=\"313\">D</text></g></g><path d=\"M275.5 309a10 10 0 0 0 10 -10v-100a10 10 0 0 1 10 -10\"/></g><path d=\"M295.5 189a10 10 0 0 1 10 10v119a10 10 0 0 0 10 10\"/><path d=\"M295.5 20a10 10 0 0 1 10 10v149a10 10 0 0 0 10 10\"/><g>\n",
       "<path d=\"M315.5 189h0.0\"/><path d=\"M384.0 189h0.0\"/><path d=\"M315.5 189a10 10 0 0 0 10 -10v-10a10 10 0 0 1 10 -10\"/><g>\n",
       "<path d=\"M335.5 159h0.0\"/><path d=\"M364.0 159h0.0\"/><g class=\"terminal\">\n",
       "<path d=\"M335.5 159h0.0\"/><path d=\"M364.0 159h0.0\"/><rect height=\"22\" rx=\"10\" ry=\"10\" width=\"28.5\" x=\"335.5\" y=\"148\"/><text x=\"349.75\" y=\"163\">I</text></g></g><path d=\"M364.0 159a10 10 0 0 1 10 10v10a10 10 0 0 0 10 10\"/><path d=\"M315.5 189a10 10 0 0 0 10 -10v-40a10 10 0 0 1 10 -10\"/><g>\n",
       "<path d=\"M335.5 129h0.0\"/><path d=\"M364.0 129h0.0\"/><g class=\"terminal\">\n",
       "<path d=\"M335.5 129h0.0\"/><path d=\"M364.0 129h0.0\"/><rect height=\"22\" rx=\"10\" ry=\"10\" width=\"28.5\" x=\"335.5\" y=\"118\"/><text x=\"349.75\" y=\"133\">H</text></g></g><path d=\"M364.0 129a10 10 0 0 1 10 10v40a10 10 0 0 0 10 10\"/><path d=\"M315.5 189a10 10 0 0 0 10 -10v-70a10 10 0 0 1 10 -10\"/><g>\n",
       "<path d=\"M335.5 99h0.0\"/><path d=\"M364.0 99h0.0\"/><g class=\"terminal\">\n",
       "<path d=\"M335.5 99h0.0\"/><path d=\"M364.0 99h0.0\"/><rect height=\"22\" rx=\"10\" ry=\"10\" width=\"28.5\" x=\"335.5\" y=\"88\"/><text x=\"349.75\" y=\"103\">G</text></g></g><path d=\"M364.0 99a10 10 0 0 1 10 10v70a10 10 0 0 0 10 10\"/><path d=\"M315.5 189a10 10 0 0 0 10 -10v-100a10 10 0 0 1 10 -10\"/><g>\n",
       "<path d=\"M335.5 69h0.0\"/><path d=\"M364.0 69h0.0\"/><g class=\"terminal\">\n",
       "<path d=\"M335.5 69h0.0\"/><path d=\"M364.0 69h0.0\"/><rect height=\"22\" rx=\"10\" ry=\"10\" width=\"28.5\" x=\"335.5\" y=\"58\"/><text x=\"349.75\" y=\"73\">F</text></g></g><path d=\"M364.0 69a10 10 0 0 1 10 10v100a10 10 0 0 0 10 10\"/><path d=\"M315.5 189a10 10 0 0 0 10 -10v-130a10 10 0 0 1 10 -10\"/><g>\n",
       "<path d=\"M335.5 39h0.0\"/><path d=\"M364.0 39h0.0\"/><g class=\"terminal\">\n",
       "<path d=\"M335.5 39h0.0\"/><path d=\"M364.0 39h0.0\"/><rect height=\"22\" rx=\"10\" ry=\"10\" width=\"28.5\" x=\"335.5\" y=\"28\"/><text x=\"349.75\" y=\"43\">E</text></g></g><path d=\"M364.0 39a10 10 0 0 1 10 10v130a10 10 0 0 0 10 10\"/><path d=\"M315.5 189h20\"/><g>\n",
       "<path d=\"M335.5 189h0.0\"/><path d=\"M364.0 189h0.0\"/><g class=\"terminal\">\n",
       "<path d=\"M335.5 189h0.0\"/><path d=\"M364.0 189h0.0\"/><rect height=\"22\" rx=\"10\" ry=\"10\" width=\"28.5\" x=\"335.5\" y=\"178\"/><text x=\"349.75\" y=\"193\">J</text></g></g><path d=\"M364.0 189h20\"/><path d=\"M315.5 189a10 10 0 0 1 10 10v10a10 10 0 0 0 10 10\"/><g>\n",
       "<path d=\"M335.5 219h0.0\"/><path d=\"M364.0 219h0.0\"/><g class=\"terminal\">\n",
       "<path d=\"M335.5 219h0.0\"/><path d=\"M364.0 219h0.0\"/><rect height=\"22\" rx=\"10\" ry=\"10\" width=\"28.5\" x=\"335.5\" y=\"208\"/><text x=\"349.75\" y=\"223\">K</text></g></g><path d=\"M364.0 219a10 10 0 0 0 10 -10v-10a10 10 0 0 1 10 -10\"/><path d=\"M315.5 189a10 10 0 0 1 10 10v40a10 10 0 0 0 10 10\"/><g>\n",
       "<path d=\"M335.5 249h0.0\"/><path d=\"M364.0 249h0.0\"/><g class=\"terminal\">\n",
       "<path d=\"M335.5 249h0.0\"/><path d=\"M364.0 249h0.0\"/><rect height=\"22\" rx=\"10\" ry=\"10\" width=\"28.5\" x=\"335.5\" y=\"238\"/><text x=\"349.75\" y=\"253\">L</text></g></g><path d=\"M364.0 249a10 10 0 0 0 10 -10v-40a10 10 0 0 1 10 -10\"/><path d=\"M315.5 189a10 10 0 0 1 10 10v70a10 10 0 0 0 10 10\"/><g>\n",
       "<path d=\"M335.5 279h0.0\"/><path d=\"M364.0 279h0.0\"/><g class=\"terminal\">\n",
       "<path d=\"M335.5 279h0.0\"/><path d=\"M364.0 279h0.0\"/><rect height=\"22\" rx=\"10\" ry=\"10\" width=\"28.5\" x=\"335.5\" y=\"268\"/><text x=\"349.75\" y=\"283\">M</text></g></g><path d=\"M364.0 279a10 10 0 0 0 10 -10v-70a10 10 0 0 1 10 -10\"/><path d=\"M315.5 189a10 10 0 0 1 10 10v100a10 10 0 0 0 10 10\"/><g>\n",
       "<path d=\"M335.5 309h0.0\"/><path d=\"M364.0 309h0.0\"/><g class=\"terminal\">\n",
       "<path d=\"M335.5 309h0.0\"/><path d=\"M364.0 309h0.0\"/><rect height=\"22\" rx=\"10\" ry=\"10\" width=\"28.5\" x=\"335.5\" y=\"298\"/><text x=\"349.75\" y=\"313\">N</text></g></g><path d=\"M364.0 309a10 10 0 0 0 10 -10v-100a10 10 0 0 1 10 -10\"/></g><path d=\"M384.0 189a10 10 0 0 1 10 10v119a10 10 0 0 0 10 10\"/><path d=\"M384.0 20a10 10 0 0 1 10 10v149a10 10 0 0 0 10 10\"/><g>\n",
       "<path d=\"M404.0 189h0.0\"/><path d=\"M472.5 189h0.0\"/><path d=\"M404.0 189a10 10 0 0 0 10 -10v-10a10 10 0 0 1 10 -10\"/><g>\n",
       "<path d=\"M424.0 159h0.0\"/><path d=\"M452.5 159h0.0\"/><g class=\"terminal\">\n",
       "<path d=\"M424.0 159h0.0\"/><path d=\"M452.5 159h0.0\"/><rect height=\"22\" rx=\"10\" ry=\"10\" width=\"28.5\" x=\"424.0\" y=\"148\"/><text x=\"438.25\" y=\"163\">S</text></g></g><path d=\"M452.5 159a10 10 0 0 1 10 10v10a10 10 0 0 0 10 10\"/><path d=\"M404.0 189a10 10 0 0 0 10 -10v-40a10 10 0 0 1 10 -10\"/><g>\n",
       "<path d=\"M424.0 129h0.0\"/><path d=\"M452.5 129h0.0\"/><g class=\"terminal\">\n",
       "<path d=\"M424.0 129h0.0\"/><path d=\"M452.5 129h0.0\"/><rect height=\"22\" rx=\"10\" ry=\"10\" width=\"28.5\" x=\"424.0\" y=\"118\"/><text x=\"438.25\" y=\"133\">R</text></g></g><path d=\"M452.5 129a10 10 0 0 1 10 10v40a10 10 0 0 0 10 10\"/><path d=\"M404.0 189a10 10 0 0 0 10 -10v-70a10 10 0 0 1 10 -10\"/><g>\n",
       "<path d=\"M424.0 99h0.0\"/><path d=\"M452.5 99h0.0\"/><g class=\"terminal\">\n",
       "<path d=\"M424.0 99h0.0\"/><path d=\"M452.5 99h0.0\"/><rect height=\"22\" rx=\"10\" ry=\"10\" width=\"28.5\" x=\"424.0\" y=\"88\"/><text x=\"438.25\" y=\"103\">Q</text></g></g><path d=\"M452.5 99a10 10 0 0 1 10 10v70a10 10 0 0 0 10 10\"/><path d=\"M404.0 189a10 10 0 0 0 10 -10v-100a10 10 0 0 1 10 -10\"/><g>\n",
       "<path d=\"M424.0 69h0.0\"/><path d=\"M452.5 69h0.0\"/><g class=\"terminal\">\n",
       "<path d=\"M424.0 69h0.0\"/><path d=\"M452.5 69h0.0\"/><rect height=\"22\" rx=\"10\" ry=\"10\" width=\"28.5\" x=\"424.0\" y=\"58\"/><text x=\"438.25\" y=\"73\">P</text></g></g><path d=\"M452.5 69a10 10 0 0 1 10 10v100a10 10 0 0 0 10 10\"/><path d=\"M404.0 189a10 10 0 0 0 10 -10v-130a10 10 0 0 1 10 -10\"/><g>\n",
       "<path d=\"M424.0 39h0.0\"/><path d=\"M452.5 39h0.0\"/><g class=\"terminal\">\n",
       "<path d=\"M424.0 39h0.0\"/><path d=\"M452.5 39h0.0\"/><rect height=\"22\" rx=\"10\" ry=\"10\" width=\"28.5\" x=\"424.0\" y=\"28\"/><text x=\"438.25\" y=\"43\">O</text></g></g><path d=\"M452.5 39a10 10 0 0 1 10 10v130a10 10 0 0 0 10 10\"/><path d=\"M404.0 189h20\"/><g>\n",
       "<path d=\"M424.0 189h0.0\"/><path d=\"M452.5 189h0.0\"/><g class=\"terminal\">\n",
       "<path d=\"M424.0 189h0.0\"/><path d=\"M452.5 189h0.0\"/><rect height=\"22\" rx=\"10\" ry=\"10\" width=\"28.5\" x=\"424.0\" y=\"178\"/><text x=\"438.25\" y=\"193\">T</text></g></g><path d=\"M452.5 189h20\"/><path d=\"M404.0 189a10 10 0 0 1 10 10v10a10 10 0 0 0 10 10\"/><g>\n",
       "<path d=\"M424.0 219h0.0\"/><path d=\"M452.5 219h0.0\"/><g class=\"terminal\">\n",
       "<path d=\"M424.0 219h0.0\"/><path d=\"M452.5 219h0.0\"/><rect height=\"22\" rx=\"10\" ry=\"10\" width=\"28.5\" x=\"424.0\" y=\"208\"/><text x=\"438.25\" y=\"223\">U</text></g></g><path d=\"M452.5 219a10 10 0 0 0 10 -10v-10a10 10 0 0 1 10 -10\"/><path d=\"M404.0 189a10 10 0 0 1 10 10v40a10 10 0 0 0 10 10\"/><g>\n",
       "<path d=\"M424.0 249h0.0\"/><path d=\"M452.5 249h0.0\"/><g class=\"terminal\">\n",
       "<path d=\"M424.0 249h0.0\"/><path d=\"M452.5 249h0.0\"/><rect height=\"22\" rx=\"10\" ry=\"10\" width=\"28.5\" x=\"424.0\" y=\"238\"/><text x=\"438.25\" y=\"253\">V</text></g></g><path d=\"M452.5 249a10 10 0 0 0 10 -10v-40a10 10 0 0 1 10 -10\"/><path d=\"M404.0 189a10 10 0 0 1 10 10v70a10 10 0 0 0 10 10\"/><g>\n",
       "<path d=\"M424.0 279h0.0\"/><path d=\"M452.5 279h0.0\"/><g class=\"terminal\">\n",
       "<path d=\"M424.0 279h0.0\"/><path d=\"M452.5 279h0.0\"/><rect height=\"22\" rx=\"10\" ry=\"10\" width=\"28.5\" x=\"424.0\" y=\"268\"/><text x=\"438.25\" y=\"283\">W</text></g></g><path d=\"M452.5 279a10 10 0 0 0 10 -10v-70a10 10 0 0 1 10 -10\"/><path d=\"M404.0 189a10 10 0 0 1 10 10v100a10 10 0 0 0 10 10\"/><g>\n",
       "<path d=\"M424.0 309h0.0\"/><path d=\"M452.5 309h0.0\"/><g class=\"terminal\">\n",
       "<path d=\"M424.0 309h0.0\"/><path d=\"M452.5 309h0.0\"/><rect height=\"22\" rx=\"10\" ry=\"10\" width=\"28.5\" x=\"424.0\" y=\"298\"/><text x=\"438.25\" y=\"313\">X</text></g></g><path d=\"M452.5 309a10 10 0 0 0 10 -10v-100a10 10 0 0 1 10 -10\"/></g><path d=\"M472.5 189a10 10 0 0 1 10 10v119a10 10 0 0 0 10 10\"/><path d=\"M472.5 20a10 10 0 0 1 10 10v149a10 10 0 0 0 10 10\"/><g>\n",
       "<path d=\"M492.5 189h0.0\"/><path d=\"M561.0 189h0.0\"/><path d=\"M492.5 189a10 10 0 0 0 10 -10v-10a10 10 0 0 1 10 -10\"/><g>\n",
       "<path d=\"M512.5 159h0.0\"/><path d=\"M541.0 159h0.0\"/><g class=\"terminal\">\n",
       "<path d=\"M512.5 159h0.0\"/><path d=\"M541.0 159h0.0\"/><rect height=\"22\" rx=\"10\" ry=\"10\" width=\"28.5\" x=\"512.5\" y=\"148\"/><text x=\"526.75\" y=\"163\">Y</text></g></g><path d=\"M541.0 159a10 10 0 0 1 10 10v10a10 10 0 0 0 10 10\"/><path d=\"M492.5 189h20\"/><g>\n",
       "<path d=\"M512.5 189h0.0\"/><path d=\"M541.0 189h0.0\"/><g class=\"terminal\">\n",
       "<path d=\"M512.5 189h0.0\"/><path d=\"M541.0 189h0.0\"/><rect height=\"22\" rx=\"10\" ry=\"10\" width=\"28.5\" x=\"512.5\" y=\"178\"/><text x=\"526.75\" y=\"193\">Z</text></g></g><path d=\"M541.0 189h20\"/></g><path d=\"M561.0 189h10\"/></g><path d=\"M 571.0 189 h 20 m -10 -10 v 20 m 10 -20 v 20\"/></g></svg>"
      ],
      "text/plain": [
       "<IPython.core.display.SVG object>"
      ]
     },
     "metadata": {},
     "output_type": "display_data"
    },
    {
     "name": "stdout",
     "output_type": "stream",
     "text": [
      "number\n"
     ]
    },
    {
     "data": {
      "image/svg+xml": [
       "<svg class=\"railroad-diagram\" height=\"62\" viewBox=\"0 0 191.0 62\" width=\"191.0\" xmlns=\"http://www.w3.org/2000/svg\">\n",
       "<g transform=\"translate(.5 .5)\">\n",
       "<style>/* <![CDATA[ */\n",
       "    svg.railroad-diagram {\n",
       "        background-color:hsl(100,100%,100%);\n",
       "    }\n",
       "    svg.railroad-diagram path {\n",
       "        stroke-width:3;\n",
       "        stroke:black;\n",
       "        fill:rgba(0,0,0,0);\n",
       "    }\n",
       "    svg.railroad-diagram text {\n",
       "        font:bold 14px monospace;\n",
       "        text-anchor:middle;\n",
       "    }\n",
       "    svg.railroad-diagram text.label{\n",
       "        text-anchor:start;\n",
       "    }\n",
       "    svg.railroad-diagram text.comment{\n",
       "        font:italic 12px monospace;\n",
       "    }\n",
       "    svg.railroad-diagram rect{\n",
       "        stroke-width:3;\n",
       "        stroke:black;\n",
       "        fill:hsl(0,62%,82%);\n",
       "    }\n",
       "\n",
       "/* ]]> */\n",
       "</style><g>\n",
       "<path d=\"M20 21v20m10 -20v20m-10 -10h20\"/></g><g>\n",
       "<path d=\"M40 31h0.0\"/><path d=\"M151.0 31h0.0\"/><path d=\"M40.0 31h20\"/><g>\n",
       "<path d=\"M60.0 31h0.0\"/><path d=\"M131.0 31h0.0\"/><g class=\"non-terminal\">\n",
       "<path d=\"M60.0 31h0.0\"/><path d=\"M131.0 31h0.0\"/><rect height=\"22\" width=\"71.0\" x=\"60.0\" y=\"20\"/><text x=\"95.5\" y=\"35\">digits</text></g></g><path d=\"M131.0 31h20\"/></g><path d=\"M 151.0 31 h 20 m -10 -10 v 20 m 10 -20 v 20\"/></g></svg>"
      ],
      "text/plain": [
       "<IPython.core.display.SVG object>"
      ]
     },
     "metadata": {},
     "output_type": "display_data"
    },
    {
     "name": "stdout",
     "output_type": "stream",
     "text": [
      "digits\n"
     ]
    },
    {
     "data": {
      "image/svg+xml": [
       "<svg class=\"railroad-diagram\" height=\"92\" viewBox=\"0 0 273.5 92\" width=\"273.5\" xmlns=\"http://www.w3.org/2000/svg\">\n",
       "<g transform=\"translate(.5 .5)\">\n",
       "<style>/* <![CDATA[ */\n",
       "    svg.railroad-diagram {\n",
       "        background-color:hsl(100,100%,100%);\n",
       "    }\n",
       "    svg.railroad-diagram path {\n",
       "        stroke-width:3;\n",
       "        stroke:black;\n",
       "        fill:rgba(0,0,0,0);\n",
       "    }\n",
       "    svg.railroad-diagram text {\n",
       "        font:bold 14px monospace;\n",
       "        text-anchor:middle;\n",
       "    }\n",
       "    svg.railroad-diagram text.label{\n",
       "        text-anchor:start;\n",
       "    }\n",
       "    svg.railroad-diagram text.comment{\n",
       "        font:italic 12px monospace;\n",
       "    }\n",
       "    svg.railroad-diagram rect{\n",
       "        stroke-width:3;\n",
       "        stroke:black;\n",
       "        fill:hsl(0,62%,82%);\n",
       "    }\n",
       "\n",
       "/* ]]> */\n",
       "</style><g>\n",
       "<path d=\"M20 51v20m10 -20v20m-10 -10h20\"/></g><g>\n",
       "<path d=\"M40 61h0.0\"/><path d=\"M233.5 61h0.0\"/><path d=\"M40.0 61a10 10 0 0 0 10 -10v-10a10 10 0 0 1 10 -10\"/><g>\n",
       "<path d=\"M60.0 31h45.5\"/><path d=\"M168.0 31h45.5\"/><g class=\"non-terminal\">\n",
       "<path d=\"M105.5 31h0.0\"/><path d=\"M168.0 31h0.0\"/><rect height=\"22\" width=\"62.5\" x=\"105.5\" y=\"20\"/><text x=\"136.75\" y=\"35\">digit</text></g></g><path d=\"M213.5 31a10 10 0 0 1 10 10v10a10 10 0 0 0 10 10\"/><path d=\"M40.0 61h20\"/><g>\n",
       "<path d=\"M60.0 61h0.0\"/><path d=\"M213.5 61h0.0\"/><g class=\"non-terminal\">\n",
       "<path d=\"M60.0 61h0.0\"/><path d=\"M131.0 61h0.0\"/><rect height=\"22\" width=\"71.0\" x=\"60.0\" y=\"50\"/><text x=\"95.5\" y=\"65\">digits</text></g><path d=\"M131.0 61h10\"/><path d=\"M141.0 61h10\"/><g class=\"non-terminal\">\n",
       "<path d=\"M151.0 61h0.0\"/><path d=\"M213.5 61h0.0\"/><rect height=\"22\" width=\"62.5\" x=\"151.0\" y=\"50\"/><text x=\"182.25\" y=\"65\">digit</text></g></g><path d=\"M213.5 61h20\"/></g><path d=\"M 233.5 61 h 20 m -10 -10 v 20 m 10 -20 v 20\"/></g></svg>"
      ],
      "text/plain": [
       "<IPython.core.display.SVG object>"
      ]
     },
     "metadata": {},
     "output_type": "display_data"
    },
    {
     "name": "stdout",
     "output_type": "stream",
     "text": [
      "digit\n"
     ]
    },
    {
     "data": {
      "image/svg+xml": [
       "<svg class=\"railroad-diagram\" height=\"109\" viewBox=\"0 0 522.5 109\" width=\"522.5\" xmlns=\"http://www.w3.org/2000/svg\">\n",
       "<g transform=\"translate(.5 .5)\">\n",
       "<style>/* <![CDATA[ */\n",
       "    svg.railroad-diagram {\n",
       "        background-color:hsl(100,100%,100%);\n",
       "    }\n",
       "    svg.railroad-diagram path {\n",
       "        stroke-width:3;\n",
       "        stroke:black;\n",
       "        fill:rgba(0,0,0,0);\n",
       "    }\n",
       "    svg.railroad-diagram text {\n",
       "        font:bold 14px monospace;\n",
       "        text-anchor:middle;\n",
       "    }\n",
       "    svg.railroad-diagram text.label{\n",
       "        text-anchor:start;\n",
       "    }\n",
       "    svg.railroad-diagram text.comment{\n",
       "        font:italic 12px monospace;\n",
       "    }\n",
       "    svg.railroad-diagram rect{\n",
       "        stroke-width:3;\n",
       "        stroke:black;\n",
       "        fill:hsl(0,62%,82%);\n",
       "    }\n",
       "\n",
       "/* ]]> */\n",
       "</style><g>\n",
       "<path d=\"M20 59v20m10 -20v20m-10 -10h20\"/></g><g>\n",
       "<path d=\"M40 69h0.0\"/><path d=\"M482.5 69h0.0\"/><path d=\"M40.0 69a10 10 0 0 0 10 -10v-29a10 10 0 0 1 10 -10h324.0\"/><path d=\"M138.5 89h324.0a10 10 0 0 0 10 -10v0a10 10 0 0 1 10 -10\"/><path d=\"M40.0 69h10\"/><g>\n",
       "<path d=\"M50.0 69h0.0\"/><path d=\"M118.5 69h0.0\"/><path d=\"M50.0 69a10 10 0 0 0 10 -10v-10a10 10 0 0 1 10 -10\"/><g>\n",
       "<path d=\"M70.0 39h0.0\"/><path d=\"M98.5 39h0.0\"/><g class=\"terminal\">\n",
       "<path d=\"M70.0 39h0.0\"/><path d=\"M98.5 39h0.0\"/><rect height=\"22\" rx=\"10\" ry=\"10\" width=\"28.5\" x=\"70.0\" y=\"28\"/><text x=\"84.25\" y=\"43\">0</text></g></g><path d=\"M98.5 39a10 10 0 0 1 10 10v10a10 10 0 0 0 10 10\"/><path d=\"M50.0 69h20\"/><g>\n",
       "<path d=\"M70.0 69h0.0\"/><path d=\"M98.5 69h0.0\"/><g class=\"terminal\">\n",
       "<path d=\"M70.0 69h0.0\"/><path d=\"M98.5 69h0.0\"/><rect height=\"22\" rx=\"10\" ry=\"10\" width=\"28.5\" x=\"70.0\" y=\"58\"/><text x=\"84.25\" y=\"73\">1</text></g></g><path d=\"M98.5 69h20\"/></g><path d=\"M118.5 69a10 10 0 0 1 10 10v0a10 10 0 0 0 10 10\"/><path d=\"M118.5 20a10 10 0 0 1 10 10v29a10 10 0 0 0 10 10\"/><g>\n",
       "<path d=\"M138.5 69h0.0\"/><path d=\"M207.0 69h0.0\"/><path d=\"M138.5 69a10 10 0 0 0 10 -10v-10a10 10 0 0 1 10 -10\"/><g>\n",
       "<path d=\"M158.5 39h0.0\"/><path d=\"M187.0 39h0.0\"/><g class=\"terminal\">\n",
       "<path d=\"M158.5 39h0.0\"/><path d=\"M187.0 39h0.0\"/><rect height=\"22\" rx=\"10\" ry=\"10\" width=\"28.5\" x=\"158.5\" y=\"28\"/><text x=\"172.75\" y=\"43\">2</text></g></g><path d=\"M187.0 39a10 10 0 0 1 10 10v10a10 10 0 0 0 10 10\"/><path d=\"M138.5 69h20\"/><g>\n",
       "<path d=\"M158.5 69h0.0\"/><path d=\"M187.0 69h0.0\"/><g class=\"terminal\">\n",
       "<path d=\"M158.5 69h0.0\"/><path d=\"M187.0 69h0.0\"/><rect height=\"22\" rx=\"10\" ry=\"10\" width=\"28.5\" x=\"158.5\" y=\"58\"/><text x=\"172.75\" y=\"73\">3</text></g></g><path d=\"M187.0 69h20\"/></g><path d=\"M207.0 69a10 10 0 0 1 10 10v0a10 10 0 0 0 10 10\"/><path d=\"M207.0 20a10 10 0 0 1 10 10v29a10 10 0 0 0 10 10\"/><g>\n",
       "<path d=\"M227.0 69h0.0\"/><path d=\"M295.5 69h0.0\"/><path d=\"M227.0 69a10 10 0 0 0 10 -10v-10a10 10 0 0 1 10 -10\"/><g>\n",
       "<path d=\"M247.0 39h0.0\"/><path d=\"M275.5 39h0.0\"/><g class=\"terminal\">\n",
       "<path d=\"M247.0 39h0.0\"/><path d=\"M275.5 39h0.0\"/><rect height=\"22\" rx=\"10\" ry=\"10\" width=\"28.5\" x=\"247.0\" y=\"28\"/><text x=\"261.25\" y=\"43\">4</text></g></g><path d=\"M275.5 39a10 10 0 0 1 10 10v10a10 10 0 0 0 10 10\"/><path d=\"M227.0 69h20\"/><g>\n",
       "<path d=\"M247.0 69h0.0\"/><path d=\"M275.5 69h0.0\"/><g class=\"terminal\">\n",
       "<path d=\"M247.0 69h0.0\"/><path d=\"M275.5 69h0.0\"/><rect height=\"22\" rx=\"10\" ry=\"10\" width=\"28.5\" x=\"247.0\" y=\"58\"/><text x=\"261.25\" y=\"73\">5</text></g></g><path d=\"M275.5 69h20\"/></g><path d=\"M295.5 69a10 10 0 0 1 10 10v0a10 10 0 0 0 10 10\"/><path d=\"M295.5 20a10 10 0 0 1 10 10v29a10 10 0 0 0 10 10\"/><g>\n",
       "<path d=\"M315.5 69h0.0\"/><path d=\"M384.0 69h0.0\"/><path d=\"M315.5 69a10 10 0 0 0 10 -10v-10a10 10 0 0 1 10 -10\"/><g>\n",
       "<path d=\"M335.5 39h0.0\"/><path d=\"M364.0 39h0.0\"/><g class=\"terminal\">\n",
       "<path d=\"M335.5 39h0.0\"/><path d=\"M364.0 39h0.0\"/><rect height=\"22\" rx=\"10\" ry=\"10\" width=\"28.5\" x=\"335.5\" y=\"28\"/><text x=\"349.75\" y=\"43\">6</text></g></g><path d=\"M364.0 39a10 10 0 0 1 10 10v10a10 10 0 0 0 10 10\"/><path d=\"M315.5 69h20\"/><g>\n",
       "<path d=\"M335.5 69h0.0\"/><path d=\"M364.0 69h0.0\"/><g class=\"terminal\">\n",
       "<path d=\"M335.5 69h0.0\"/><path d=\"M364.0 69h0.0\"/><rect height=\"22\" rx=\"10\" ry=\"10\" width=\"28.5\" x=\"335.5\" y=\"58\"/><text x=\"349.75\" y=\"73\">7</text></g></g><path d=\"M364.0 69h20\"/></g><path d=\"M384.0 69a10 10 0 0 1 10 10v0a10 10 0 0 0 10 10\"/><path d=\"M384.0 20a10 10 0 0 1 10 10v29a10 10 0 0 0 10 10\"/><g>\n",
       "<path d=\"M404.0 69h0.0\"/><path d=\"M472.5 69h0.0\"/><path d=\"M404.0 69a10 10 0 0 0 10 -10v-10a10 10 0 0 1 10 -10\"/><g>\n",
       "<path d=\"M424.0 39h0.0\"/><path d=\"M452.5 39h0.0\"/><g class=\"terminal\">\n",
       "<path d=\"M424.0 39h0.0\"/><path d=\"M452.5 39h0.0\"/><rect height=\"22\" rx=\"10\" ry=\"10\" width=\"28.5\" x=\"424.0\" y=\"28\"/><text x=\"438.25\" y=\"43\">8</text></g></g><path d=\"M452.5 39a10 10 0 0 1 10 10v10a10 10 0 0 0 10 10\"/><path d=\"M404.0 69h20\"/><g>\n",
       "<path d=\"M424.0 69h0.0\"/><path d=\"M452.5 69h0.0\"/><g class=\"terminal\">\n",
       "<path d=\"M424.0 69h0.0\"/><path d=\"M452.5 69h0.0\"/><rect height=\"22\" rx=\"10\" ry=\"10\" width=\"28.5\" x=\"424.0\" y=\"58\"/><text x=\"438.25\" y=\"73\">9</text></g></g><path d=\"M452.5 69h20\"/></g><path d=\"M472.5 69h10\"/></g><path d=\"M 482.5 69 h 20 m -10 -10 v 20 m 10 -20 v 20\"/></g></svg>"
      ],
      "text/plain": [
       "<IPython.core.display.SVG object>"
      ]
     },
     "metadata": {},
     "output_type": "display_data"
    },
    {
     "name": "stdout",
     "output_type": "stream",
     "text": [
      "special\n"
     ]
    },
    {
     "data": {
      "image/svg+xml": [
       "<svg class=\"railroad-diagram\" height=\"122\" viewBox=\"0 0 148.5 122\" width=\"148.5\" xmlns=\"http://www.w3.org/2000/svg\">\n",
       "<g transform=\"translate(.5 .5)\">\n",
       "<style>/* <![CDATA[ */\n",
       "    svg.railroad-diagram {\n",
       "        background-color:hsl(100,100%,100%);\n",
       "    }\n",
       "    svg.railroad-diagram path {\n",
       "        stroke-width:3;\n",
       "        stroke:black;\n",
       "        fill:rgba(0,0,0,0);\n",
       "    }\n",
       "    svg.railroad-diagram text {\n",
       "        font:bold 14px monospace;\n",
       "        text-anchor:middle;\n",
       "    }\n",
       "    svg.railroad-diagram text.label{\n",
       "        text-anchor:start;\n",
       "    }\n",
       "    svg.railroad-diagram text.comment{\n",
       "        font:italic 12px monospace;\n",
       "    }\n",
       "    svg.railroad-diagram rect{\n",
       "        stroke-width:3;\n",
       "        stroke:black;\n",
       "        fill:hsl(0,62%,82%);\n",
       "    }\n",
       "\n",
       "/* ]]> */\n",
       "</style><g>\n",
       "<path d=\"M20 51v20m10 -20v20m-10 -10h20\"/></g><g>\n",
       "<path d=\"M40 61h0.0\"/><path d=\"M108.5 61h0.0\"/><path d=\"M40.0 61a10 10 0 0 0 10 -10v-10a10 10 0 0 1 10 -10\"/><g>\n",
       "<path d=\"M60.0 31h0.0\"/><path d=\"M88.5 31h0.0\"/><g class=\"terminal\">\n",
       "<path d=\"M60.0 31h0.0\"/><path d=\"M88.5 31h0.0\"/><rect height=\"22\" rx=\"10\" ry=\"10\" width=\"28.5\" x=\"60.0\" y=\"20\"/><text x=\"74.25\" y=\"35\">.</text></g></g><path d=\"M88.5 31a10 10 0 0 1 10 10v10a10 10 0 0 0 10 10\"/><path d=\"M40.0 61h20\"/><g>\n",
       "<path d=\"M60.0 61h0.0\"/><path d=\"M88.5 61h0.0\"/><g class=\"terminal\">\n",
       "<path d=\"M60.0 61h0.0\"/><path d=\"M88.5 61h0.0\"/><rect height=\"22\" rx=\"10\" ry=\"10\" width=\"28.5\" x=\"60.0\" y=\"50\"/><text x=\"74.25\" y=\"65\"> </text></g></g><path d=\"M88.5 61h20\"/><path d=\"M40.0 61a10 10 0 0 1 10 10v10a10 10 0 0 0 10 10\"/><g>\n",
       "<path d=\"M60.0 91h0.0\"/><path d=\"M88.5 91h0.0\"/><g class=\"terminal\">\n",
       "<path d=\"M60.0 91h0.0\"/><path d=\"M88.5 91h0.0\"/><rect height=\"22\" rx=\"10\" ry=\"10\" width=\"28.5\" x=\"60.0\" y=\"80\"/><text x=\"74.25\" y=\"95\">!</text></g></g><path d=\"M88.5 91a10 10 0 0 0 10 -10v-10a10 10 0 0 1 10 -10\"/></g><path d=\"M 108.5 61 h 20 m -10 -10 v 20 m 10 -20 v 20\"/></g></svg>"
      ],
      "text/plain": [
       "<IPython.core.display.SVG object>"
      ]
     },
     "metadata": {},
     "output_type": "display_data"
    },
    {
     "name": "stdout",
     "output_type": "stream",
     "text": [
      "email\n"
     ]
    },
    {
     "data": {
      "image/svg+xml": [
       "<svg class=\"railroad-diagram\" height=\"62\" viewBox=\"0 0 347.5 62\" width=\"347.5\" xmlns=\"http://www.w3.org/2000/svg\">\n",
       "<g transform=\"translate(.5 .5)\">\n",
       "<style>/* <![CDATA[ */\n",
       "    svg.railroad-diagram {\n",
       "        background-color:hsl(100,100%,100%);\n",
       "    }\n",
       "    svg.railroad-diagram path {\n",
       "        stroke-width:3;\n",
       "        stroke:black;\n",
       "        fill:rgba(0,0,0,0);\n",
       "    }\n",
       "    svg.railroad-diagram text {\n",
       "        font:bold 14px monospace;\n",
       "        text-anchor:middle;\n",
       "    }\n",
       "    svg.railroad-diagram text.label{\n",
       "        text-anchor:start;\n",
       "    }\n",
       "    svg.railroad-diagram text.comment{\n",
       "        font:italic 12px monospace;\n",
       "    }\n",
       "    svg.railroad-diagram rect{\n",
       "        stroke-width:3;\n",
       "        stroke:black;\n",
       "        fill:hsl(0,62%,82%);\n",
       "    }\n",
       "\n",
       "/* ]]> */\n",
       "</style><g>\n",
       "<path d=\"M20 21v20m10 -20v20m-10 -10h20\"/></g><g>\n",
       "<path d=\"M40 31h0.0\"/><path d=\"M307.5 31h0.0\"/><path d=\"M40.0 31h20\"/><g>\n",
       "<path d=\"M60.0 31h0.0\"/><path d=\"M287.5 31h0.0\"/><g class=\"non-terminal\">\n",
       "<path d=\"M60.0 31h0.0\"/><path d=\"M139.5 31h0.0\"/><rect height=\"22\" width=\"79.5\" x=\"60.0\" y=\"20\"/><text x=\"99.75\" y=\"35\">letters</text></g><path d=\"M139.5 31h10\"/><path d=\"M149.5 31h10\"/><g class=\"terminal\">\n",
       "<path d=\"M159.5 31h0.0\"/><path d=\"M188.0 31h0.0\"/><rect height=\"22\" rx=\"10\" ry=\"10\" width=\"28.5\" x=\"159.5\" y=\"20\"/><text x=\"173.75\" y=\"35\">@</text></g><path d=\"M188.0 31h10\"/><path d=\"M198.0 31h10\"/><g class=\"non-terminal\">\n",
       "<path d=\"M208.0 31h0.0\"/><path d=\"M287.5 31h0.0\"/><rect height=\"22\" width=\"79.5\" x=\"208.0\" y=\"20\"/><text x=\"247.75\" y=\"35\">letters</text></g></g><path d=\"M287.5 31h20\"/></g><path d=\"M 307.5 31 h 20 m -10 -10 v 20 m 10 -20 v 20\"/></g></svg>"
      ],
      "text/plain": [
       "<IPython.core.display.SVG object>"
      ]
     },
     "metadata": {},
     "output_type": "display_data"
    },
    {
     "name": "stdout",
     "output_type": "stream",
     "text": [
      "letters\n"
     ]
    },
    {
     "data": {
      "image/svg+xml": [
       "<svg class=\"railroad-diagram\" height=\"92\" viewBox=\"0 0 290.5 92\" width=\"290.5\" xmlns=\"http://www.w3.org/2000/svg\">\n",
       "<g transform=\"translate(.5 .5)\">\n",
       "<style>/* <![CDATA[ */\n",
       "    svg.railroad-diagram {\n",
       "        background-color:hsl(100,100%,100%);\n",
       "    }\n",
       "    svg.railroad-diagram path {\n",
       "        stroke-width:3;\n",
       "        stroke:black;\n",
       "        fill:rgba(0,0,0,0);\n",
       "    }\n",
       "    svg.railroad-diagram text {\n",
       "        font:bold 14px monospace;\n",
       "        text-anchor:middle;\n",
       "    }\n",
       "    svg.railroad-diagram text.label{\n",
       "        text-anchor:start;\n",
       "    }\n",
       "    svg.railroad-diagram text.comment{\n",
       "        font:italic 12px monospace;\n",
       "    }\n",
       "    svg.railroad-diagram rect{\n",
       "        stroke-width:3;\n",
       "        stroke:black;\n",
       "        fill:hsl(0,62%,82%);\n",
       "    }\n",
       "\n",
       "/* ]]> */\n",
       "</style><g>\n",
       "<path d=\"M20 51v20m10 -20v20m-10 -10h20\"/></g><g>\n",
       "<path d=\"M40 61h0.0\"/><path d=\"M250.5 61h0.0\"/><path d=\"M40.0 61a10 10 0 0 0 10 -10v-10a10 10 0 0 1 10 -10\"/><g>\n",
       "<path d=\"M60.0 31h49.75\"/><path d=\"M180.75 31h49.75\"/><g class=\"non-terminal\">\n",
       "<path d=\"M109.75 31h0.0\"/><path d=\"M180.75 31h0.0\"/><rect height=\"22\" width=\"71.0\" x=\"109.75\" y=\"20\"/><text x=\"145.25\" y=\"35\">letter</text></g></g><path d=\"M230.5 31a10 10 0 0 1 10 10v10a10 10 0 0 0 10 10\"/><path d=\"M40.0 61h20\"/><g>\n",
       "<path d=\"M60.0 61h0.0\"/><path d=\"M230.5 61h0.0\"/><g class=\"non-terminal\">\n",
       "<path d=\"M60.0 61h0.0\"/><path d=\"M139.5 61h0.0\"/><rect height=\"22\" width=\"79.5\" x=\"60.0\" y=\"50\"/><text x=\"99.75\" y=\"65\">letters</text></g><path d=\"M139.5 61h10\"/><path d=\"M149.5 61h10\"/><g class=\"non-terminal\">\n",
       "<path d=\"M159.5 61h0.0\"/><path d=\"M230.5 61h0.0\"/><rect height=\"22\" width=\"71.0\" x=\"159.5\" y=\"50\"/><text x=\"195.0\" y=\"65\">letter</text></g></g><path d=\"M230.5 61h20\"/></g><path d=\"M 250.5 61 h 20 m -10 -10 v 20 m 10 -20 v 20\"/></g></svg>"
      ],
      "text/plain": [
       "<IPython.core.display.SVG object>"
      ]
     },
     "metadata": {},
     "output_type": "display_data"
    },
    {
     "name": "stdout",
     "output_type": "stream",
     "text": [
      "boolean\n"
     ]
    },
    {
     "data": {
      "image/svg+xml": [
       "<svg class=\"railroad-diagram\" height=\"92\" viewBox=\"0 0 182.5 92\" width=\"182.5\" xmlns=\"http://www.w3.org/2000/svg\">\n",
       "<g transform=\"translate(.5 .5)\">\n",
       "<style>/* <![CDATA[ */\n",
       "    svg.railroad-diagram {\n",
       "        background-color:hsl(100,100%,100%);\n",
       "    }\n",
       "    svg.railroad-diagram path {\n",
       "        stroke-width:3;\n",
       "        stroke:black;\n",
       "        fill:rgba(0,0,0,0);\n",
       "    }\n",
       "    svg.railroad-diagram text {\n",
       "        font:bold 14px monospace;\n",
       "        text-anchor:middle;\n",
       "    }\n",
       "    svg.railroad-diagram text.label{\n",
       "        text-anchor:start;\n",
       "    }\n",
       "    svg.railroad-diagram text.comment{\n",
       "        font:italic 12px monospace;\n",
       "    }\n",
       "    svg.railroad-diagram rect{\n",
       "        stroke-width:3;\n",
       "        stroke:black;\n",
       "        fill:hsl(0,62%,82%);\n",
       "    }\n",
       "\n",
       "/* ]]> */\n",
       "</style><g>\n",
       "<path d=\"M20 51v20m10 -20v20m-10 -10h20\"/></g><g>\n",
       "<path d=\"M40 61h0.0\"/><path d=\"M142.5 61h0.0\"/><path d=\"M40.0 61a10 10 0 0 0 10 -10v-10a10 10 0 0 1 10 -10\"/><g>\n",
       "<path d=\"M60.0 31h4.25\"/><path d=\"M118.25 31h4.25\"/><g class=\"terminal\">\n",
       "<path d=\"M64.25 31h0.0\"/><path d=\"M118.25 31h0.0\"/><rect height=\"22\" rx=\"10\" ry=\"10\" width=\"54.0\" x=\"64.25\" y=\"20\"/><text x=\"91.25\" y=\"35\">True</text></g></g><path d=\"M122.5 31a10 10 0 0 1 10 10v10a10 10 0 0 0 10 10\"/><path d=\"M40.0 61h20\"/><g>\n",
       "<path d=\"M60.0 61h0.0\"/><path d=\"M122.5 61h0.0\"/><g class=\"terminal\">\n",
       "<path d=\"M60.0 61h0.0\"/><path d=\"M122.5 61h0.0\"/><rect height=\"22\" rx=\"10\" ry=\"10\" width=\"62.5\" x=\"60.0\" y=\"50\"/><text x=\"91.25\" y=\"65\">False</text></g></g><path d=\"M122.5 61h20\"/></g><path d=\"M 142.5 61 h 20 m -10 -10 v 20 m 10 -20 v 20\"/></g></svg>"
      ],
      "text/plain": [
       "<IPython.core.display.SVG object>"
      ]
     },
     "metadata": {},
     "output_type": "display_data"
    },
    {
     "name": "stdout",
     "output_type": "stream",
     "text": [
      "password\n"
     ]
    },
    {
     "data": {
      "image/svg+xml": [
       "<svg class=\"railroad-diagram\" height=\"62\" viewBox=\"0 0 225.0 62\" width=\"225.0\" xmlns=\"http://www.w3.org/2000/svg\">\n",
       "<g transform=\"translate(.5 .5)\">\n",
       "<style>/* <![CDATA[ */\n",
       "    svg.railroad-diagram {\n",
       "        background-color:hsl(100,100%,100%);\n",
       "    }\n",
       "    svg.railroad-diagram path {\n",
       "        stroke-width:3;\n",
       "        stroke:black;\n",
       "        fill:rgba(0,0,0,0);\n",
       "    }\n",
       "    svg.railroad-diagram text {\n",
       "        font:bold 14px monospace;\n",
       "        text-anchor:middle;\n",
       "    }\n",
       "    svg.railroad-diagram text.label{\n",
       "        text-anchor:start;\n",
       "    }\n",
       "    svg.railroad-diagram text.comment{\n",
       "        font:italic 12px monospace;\n",
       "    }\n",
       "    svg.railroad-diagram rect{\n",
       "        stroke-width:3;\n",
       "        stroke:black;\n",
       "        fill:hsl(0,62%,82%);\n",
       "    }\n",
       "\n",
       "/* ]]> */\n",
       "</style><g>\n",
       "<path d=\"M20 21v20m10 -20v20m-10 -10h20\"/></g><g>\n",
       "<path d=\"M40 31h0.0\"/><path d=\"M185.0 31h0.0\"/><path d=\"M40.0 31h20\"/><g>\n",
       "<path d=\"M60.0 31h0.0\"/><path d=\"M165.0 31h0.0\"/><g class=\"terminal\">\n",
       "<path d=\"M60.0 31h0.0\"/><path d=\"M165.0 31h0.0\"/><rect height=\"22\" rx=\"10\" ry=\"10\" width=\"105.0\" x=\"60.0\" y=\"20\"/><text x=\"112.5\" y=\"35\">abcABC.123</text></g></g><path d=\"M165.0 31h20\"/></g><path d=\"M 185.0 31 h 20 m -10 -10 v 20 m 10 -20 v 20\"/></g></svg>"
      ],
      "text/plain": [
       "<IPython.core.display.SVG object>"
      ]
     },
     "metadata": {},
     "output_type": "display_data"
    },
    {
     "name": "stdout",
     "output_type": "stream",
     "text": [
      "hidden\n"
     ]
    },
    {
     "data": {
      "image/svg+xml": [
       "<svg class=\"railroad-diagram\" height=\"80\" viewBox=\"0 0 788.0 80\" width=\"788.0\" xmlns=\"http://www.w3.org/2000/svg\">\n",
       "<g transform=\"translate(.5 .5)\">\n",
       "<style>/* <![CDATA[ */\n",
       "    svg.railroad-diagram {\n",
       "        background-color:hsl(100,100%,100%);\n",
       "    }\n",
       "    svg.railroad-diagram path {\n",
       "        stroke-width:3;\n",
       "        stroke:black;\n",
       "        fill:rgba(0,0,0,0);\n",
       "    }\n",
       "    svg.railroad-diagram text {\n",
       "        font:bold 14px monospace;\n",
       "        text-anchor:middle;\n",
       "    }\n",
       "    svg.railroad-diagram text.label{\n",
       "        text-anchor:start;\n",
       "    }\n",
       "    svg.railroad-diagram text.comment{\n",
       "        font:italic 12px monospace;\n",
       "    }\n",
       "    svg.railroad-diagram rect{\n",
       "        stroke-width:3;\n",
       "        stroke:black;\n",
       "        fill:hsl(0,62%,82%);\n",
       "    }\n",
       "\n",
       "/* ]]> */\n",
       "</style><g>\n",
       "<path d=\"M20 30v20m10 -20v20m-10 -10h20\"/></g><g>\n",
       "<path d=\"M40 40h0.0\"/><path d=\"M748.0 40h0.0\"/><path d=\"M40.0 40a10 10 0 0 0 10 -10v0a10 10 0 0 1 10 -10h589.5\"/><path d=\"M138.5 60h589.5a10 10 0 0 0 10 -10v0a10 10 0 0 1 10 -10\"/><path d=\"M40.0 40h10\"/><g>\n",
       "<path d=\"M50.0 40h0.0\"/><path d=\"M118.5 40h0.0\"/><path d=\"M50.0 40h20\"/><g>\n",
       "<path d=\"M70.0 40h0.0\"/><path d=\"M98.5 40h0.0\"/><g class=\"terminal\">\n",
       "<path d=\"M70.0 40h0.0\"/><path d=\"M98.5 40h0.0\"/><rect height=\"22\" rx=\"10\" ry=\"10\" width=\"28.5\" x=\"70.0\" y=\"29\"/><text x=\"84.25\" y=\"44\">&lt;</text></g></g><path d=\"M98.5 40h20\"/></g><path d=\"M118.5 40a10 10 0 0 1 10 10v0a10 10 0 0 0 10 10\"/><path d=\"M118.5 20a10 10 0 0 1 10 10v0a10 10 0 0 0 10 10\"/><g>\n",
       "<path d=\"M138.5 40h0.0\"/><path d=\"M207.0 40h0.0\"/><path d=\"M138.5 40h20\"/><g>\n",
       "<path d=\"M158.5 40h0.0\"/><path d=\"M187.0 40h0.0\"/><g class=\"terminal\">\n",
       "<path d=\"M158.5 40h0.0\"/><path d=\"M187.0 40h0.0\"/><rect height=\"22\" rx=\"10\" ry=\"10\" width=\"28.5\" x=\"158.5\" y=\"29\"/><text x=\"172.75\" y=\"44\">s</text></g></g><path d=\"M187.0 40h20\"/></g><path d=\"M207.0 40a10 10 0 0 1 10 10v0a10 10 0 0 0 10 10\"/><path d=\"M207.0 20a10 10 0 0 1 10 10v0a10 10 0 0 0 10 10\"/><g>\n",
       "<path d=\"M227.0 40h0.0\"/><path d=\"M295.5 40h0.0\"/><path d=\"M227.0 40h20\"/><g>\n",
       "<path d=\"M247.0 40h0.0\"/><path d=\"M275.5 40h0.0\"/><g class=\"terminal\">\n",
       "<path d=\"M247.0 40h0.0\"/><path d=\"M275.5 40h0.0\"/><rect height=\"22\" rx=\"10\" ry=\"10\" width=\"28.5\" x=\"247.0\" y=\"29\"/><text x=\"261.25\" y=\"44\">t</text></g></g><path d=\"M275.5 40h20\"/></g><path d=\"M295.5 40a10 10 0 0 1 10 10v0a10 10 0 0 0 10 10\"/><path d=\"M295.5 20a10 10 0 0 1 10 10v0a10 10 0 0 0 10 10\"/><g>\n",
       "<path d=\"M315.5 40h0.0\"/><path d=\"M384.0 40h0.0\"/><path d=\"M315.5 40h20\"/><g>\n",
       "<path d=\"M335.5 40h0.0\"/><path d=\"M364.0 40h0.0\"/><g class=\"terminal\">\n",
       "<path d=\"M335.5 40h0.0\"/><path d=\"M364.0 40h0.0\"/><rect height=\"22\" rx=\"10\" ry=\"10\" width=\"28.5\" x=\"335.5\" y=\"29\"/><text x=\"349.75\" y=\"44\">r</text></g></g><path d=\"M364.0 40h20\"/></g><path d=\"M384.0 40a10 10 0 0 1 10 10v0a10 10 0 0 0 10 10\"/><path d=\"M384.0 20a10 10 0 0 1 10 10v0a10 10 0 0 0 10 10\"/><g>\n",
       "<path d=\"M404.0 40h0.0\"/><path d=\"M472.5 40h0.0\"/><path d=\"M404.0 40h20\"/><g>\n",
       "<path d=\"M424.0 40h0.0\"/><path d=\"M452.5 40h0.0\"/><g class=\"terminal\">\n",
       "<path d=\"M424.0 40h0.0\"/><path d=\"M452.5 40h0.0\"/><rect height=\"22\" rx=\"10\" ry=\"10\" width=\"28.5\" x=\"424.0\" y=\"29\"/><text x=\"438.25\" y=\"44\">i</text></g></g><path d=\"M452.5 40h20\"/></g><path d=\"M472.5 40a10 10 0 0 1 10 10v0a10 10 0 0 0 10 10\"/><path d=\"M472.5 20a10 10 0 0 1 10 10v0a10 10 0 0 0 10 10\"/><g>\n",
       "<path d=\"M492.5 40h0.0\"/><path d=\"M561.0 40h0.0\"/><path d=\"M492.5 40h20\"/><g>\n",
       "<path d=\"M512.5 40h0.0\"/><path d=\"M541.0 40h0.0\"/><g class=\"terminal\">\n",
       "<path d=\"M512.5 40h0.0\"/><path d=\"M541.0 40h0.0\"/><rect height=\"22\" rx=\"10\" ry=\"10\" width=\"28.5\" x=\"512.5\" y=\"29\"/><text x=\"526.75\" y=\"44\">n</text></g></g><path d=\"M541.0 40h20\"/></g><path d=\"M561.0 40a10 10 0 0 1 10 10v0a10 10 0 0 0 10 10\"/><path d=\"M561.0 20a10 10 0 0 1 10 10v0a10 10 0 0 0 10 10\"/><g>\n",
       "<path d=\"M581.0 40h0.0\"/><path d=\"M649.5 40h0.0\"/><path d=\"M581.0 40h20\"/><g>\n",
       "<path d=\"M601.0 40h0.0\"/><path d=\"M629.5 40h0.0\"/><g class=\"terminal\">\n",
       "<path d=\"M601.0 40h0.0\"/><path d=\"M629.5 40h0.0\"/><rect height=\"22\" rx=\"10\" ry=\"10\" width=\"28.5\" x=\"601.0\" y=\"29\"/><text x=\"615.25\" y=\"44\">g</text></g></g><path d=\"M629.5 40h20\"/></g><path d=\"M649.5 40a10 10 0 0 1 10 10v0a10 10 0 0 0 10 10\"/><path d=\"M649.5 20a10 10 0 0 1 10 10v0a10 10 0 0 0 10 10\"/><g>\n",
       "<path d=\"M669.5 40h0.0\"/><path d=\"M738.0 40h0.0\"/><path d=\"M669.5 40h20\"/><g>\n",
       "<path d=\"M689.5 40h0.0\"/><path d=\"M718.0 40h0.0\"/><g class=\"terminal\">\n",
       "<path d=\"M689.5 40h0.0\"/><path d=\"M718.0 40h0.0\"/><rect height=\"22\" rx=\"10\" ry=\"10\" width=\"28.5\" x=\"689.5\" y=\"29\"/><text x=\"703.75\" y=\"44\">&gt;</text></g></g><path d=\"M718.0 40h20\"/></g><path d=\"M738.0 40h10\"/></g><path d=\"M 748.0 40 h 20 m -10 -10 v 20 m 10 -20 v 20\"/></g></svg>"
      ],
      "text/plain": [
       "<IPython.core.display.SVG object>"
      ]
     },
     "metadata": {},
     "output_type": "display_data"
    }
   ],
   "source": [
    "syntax_diagram(GUIGrammarMiner.GUI_GRAMMAR)"
   ]
  },
  {
   "cell_type": "markdown",
   "metadata": {
    "slideshow": {
     "slide_type": "subslide"
    }
   },
   "source": [
    "The method `mine_state_grammar()` goes through the actions mined from the page (using `mine_state_actions()`) and creates a grammar for the current state.  For each `click()` and `submit()` action, it assumes a new state follows, and introduces an appropriate state symbol into the grammar – a state symbol that now will be marked as `<unexplored>`, but will be expanded later as the appropriate state is seen."
   ]
  },
  {
   "cell_type": "code",
   "execution_count": 75,
   "metadata": {
    "slideshow": {
     "slide_type": "subslide"
    }
   },
   "outputs": [],
   "source": [
    "class GUIGrammarMiner(GUIGrammarMiner):\n",
    "    def new_state_symbol(self, grammar):\n",
    "        return new_symbol(grammar, self.START_STATE)\n",
    "\n",
    "    def mine_state_grammar(self, grammar={}, state_symbol=None):\n",
    "        grammar = extend_grammar(self.GUI_GRAMMAR, grammar)\n",
    "\n",
    "        if state_symbol is None:\n",
    "            state_symbol = self.new_state_symbol(grammar)\n",
    "            grammar[state_symbol] = []\n",
    "\n",
    "        alternatives = []\n",
    "        form = \"\"\n",
    "        submit = None\n",
    "\n",
    "        for action in self.mine_state_actions():\n",
    "            if action.startswith(\"submit\"):\n",
    "                submit = action\n",
    "                \n",
    "            elif action.startswith(\"click\"):\n",
    "                link_target = self.new_state_symbol(grammar)\n",
    "                grammar[link_target] = [self.UNEXPLORED_STATE]\n",
    "                alternatives.append(action + '\\n' + link_target)\n",
    "                \n",
    "            elif action.startswith(\"ignore\"):\n",
    "                pass\n",
    "\n",
    "            else:  # fill(), check() actions\n",
    "                if len(form) > 0:\n",
    "                    form += '\\n'\n",
    "                form += action\n",
    "\n",
    "        if submit is not None:\n",
    "            if len(form) > 0:\n",
    "                form += '\\n'\n",
    "            form += submit\n",
    "\n",
    "        if len(form) > 0:\n",
    "            form_target = self.new_state_symbol(grammar)\n",
    "            grammar[form_target] = [self.UNEXPLORED_STATE]\n",
    "            alternatives.append(form + '\\n' + form_target)\n",
    "            \n",
    "        alternatives += [self.FINAL_STATE]\n",
    "\n",
    "        grammar[state_symbol] = alternatives\n",
    "        \n",
    "        # Remove unused parts\n",
    "        for nonterminal in unreachable_nonterminals(grammar):\n",
    "            del grammar[nonterminal]\n",
    "\n",
    "        assert is_valid_grammar(grammar)\n",
    "        \n",
    "        return grammar"
   ]
  },
  {
   "cell_type": "markdown",
   "metadata": {
    "slideshow": {
     "slide_type": "subslide"
    }
   },
   "source": [
    "Let us show `mine_state_grammar()` in action.  Here's the grammar for the home page:"
   ]
  },
  {
   "cell_type": "code",
   "execution_count": 76,
   "metadata": {
    "slideshow": {
     "slide_type": "fragment"
    }
   },
   "outputs": [],
   "source": [
    "gui_grammar_miner = GUIGrammarMiner(gui_driver)\n",
    "state_grammar = gui_grammar_miner.mine_state_grammar()"
   ]
  },
  {
   "cell_type": "markdown",
   "metadata": {
    "slideshow": {
     "slide_type": "fragment"
    }
   },
   "source": [
    "From the start state (`<state>`), we can go and either click on \"terms and conditions\", ending in `<state-1>`, or fill out the form, ending in `<state-2>`."
   ]
  },
  {
   "cell_type": "code",
   "execution_count": 77,
   "metadata": {
    "slideshow": {
     "slide_type": "fragment"
    }
   },
   "outputs": [
    {
     "data": {
      "text/plain": [
       "[\"click('terms and conditions')\\n<state-1>\",\n",
       " \"fill('email', '<email>')\\nfill('name', '<text>')\\nfill('zip', '<number>')\\nfill('city', '<text>')\\ncheck('terms', <boolean>)\\nsubmit('submit')\\n<state-2>\",\n",
       " '<end>']"
      ]
     },
     "execution_count": 77,
     "metadata": {},
     "output_type": "execute_result"
    }
   ],
   "source": [
    "state_grammar[GUIGrammarMiner.START_STATE]"
   ]
  },
  {
   "cell_type": "markdown",
   "metadata": {
    "slideshow": {
     "slide_type": "fragment"
    }
   },
   "source": [
    "Both these states are yet unexplored:"
   ]
  },
  {
   "cell_type": "code",
   "execution_count": 78,
   "metadata": {
    "slideshow": {
     "slide_type": "fragment"
    }
   },
   "outputs": [
    {
     "data": {
      "text/plain": [
       "['<unexplored>']"
      ]
     },
     "execution_count": 78,
     "metadata": {},
     "output_type": "execute_result"
    }
   ],
   "source": [
    "state_grammar['<state-1>']"
   ]
  },
  {
   "cell_type": "code",
   "execution_count": 79,
   "metadata": {
    "slideshow": {
     "slide_type": "subslide"
    }
   },
   "outputs": [
    {
     "data": {
      "text/plain": [
       "['<unexplored>']"
      ]
     },
     "execution_count": 79,
     "metadata": {},
     "output_type": "execute_result"
    }
   ],
   "source": [
    "state_grammar['<state-2>']"
   ]
  },
  {
   "cell_type": "code",
   "execution_count": 80,
   "metadata": {
    "slideshow": {
     "slide_type": "fragment"
    }
   },
   "outputs": [
    {
     "data": {
      "text/plain": [
       "['']"
      ]
     },
     "execution_count": 80,
     "metadata": {},
     "output_type": "execute_result"
    }
   ],
   "source": [
    "state_grammar['<unexplored>']"
   ]
  },
  {
   "cell_type": "markdown",
   "metadata": {
    "slideshow": {
     "slide_type": "fragment"
    }
   },
   "source": [
    "To better see the state structure, the function `fsm_diagram()` shows the resulting state grammar as a finite state machine.  (This assumes that the grammar actually encodes a state machine.)"
   ]
  },
  {
   "cell_type": "code",
   "execution_count": 81,
   "metadata": {
    "slideshow": {
     "slide_type": "skip"
    }
   },
   "outputs": [],
   "source": [
    "from collections import deque"
   ]
  },
  {
   "cell_type": "code",
   "execution_count": 82,
   "metadata": {
    "slideshow": {
     "slide_type": "skip"
    }
   },
   "outputs": [],
   "source": [
    "from fuzzingbook_utils import unicode_escape"
   ]
  },
  {
   "cell_type": "code",
   "execution_count": 83,
   "metadata": {
    "slideshow": {
     "slide_type": "subslide"
    }
   },
   "outputs": [],
   "source": [
    "def fsm_diagram(grammar, start_symbol=START_SYMBOL):\n",
    "    def left_align(label):\n",
    "        return dot_escape(label.replace('\\n', r'\\l')).replace(r'\\\\l', '\\\\l')\n",
    "\n",
    "    dot = Digraph(comment=\"Grammar as Finite State Machine\")\n",
    "\n",
    "    symbols = deque([start_symbol])\n",
    "    symbols_seen = set()\n",
    "    \n",
    "    while len(symbols) > 0:\n",
    "        symbol = symbols.popleft()\n",
    "        symbols_seen.add(symbol)\n",
    "        dot.node(symbol, dot_escape(unicode_escape(symbol)))\n",
    "        \n",
    "        for expansion in grammar[symbol]:\n",
    "            nts = nonterminals(expansion)\n",
    "            if len(nts) > 0:\n",
    "                target_symbol = nts[-1]\n",
    "                if target_symbol not in symbols_seen:\n",
    "                    symbols.append(target_symbol)\n",
    "\n",
    "                label = expansion.replace(target_symbol, '')\n",
    "                dot.edge(symbol, target_symbol, left_align(unicode_escape(label)))\n",
    "                         \n",
    "                \n",
    "    return display(dot)"
   ]
  },
  {
   "cell_type": "markdown",
   "metadata": {
    "slideshow": {
     "slide_type": "subslide"
    }
   },
   "source": [
    "Here's our current grammar as a state machine.  We see that it nicely reflects what we can see from our Web server's home page:"
   ]
  },
  {
   "cell_type": "code",
   "execution_count": 84,
   "metadata": {
    "slideshow": {
     "slide_type": "fragment"
    }
   },
   "outputs": [
    {
     "data": {
      "image/svg+xml": [
       "<?xml version=\"1.0\" encoding=\"UTF-8\" standalone=\"no\"?>\n",
       "<!DOCTYPE svg PUBLIC \"-//W3C//DTD SVG 1.1//EN\"\n",
       " \"http://www.w3.org/Graphics/SVG/1.1/DTD/svg11.dtd\">\n",
       "<!-- Generated by graphviz version 2.40.1 (20161225.0304)\n",
       " -->\n",
       "<!-- Title: %3 Pages: 1 -->\n",
       "<svg width=\"412pt\" height=\"352pt\"\n",
       " viewBox=\"0.00 0.00 411.94 352.00\" xmlns=\"http://www.w3.org/2000/svg\" xmlns:xlink=\"http://www.w3.org/1999/xlink\">\n",
       "<g id=\"graph0\" class=\"graph\" transform=\"scale(1 1) rotate(0) translate(4 348)\">\n",
       "<title>%3</title>\n",
       "<polygon fill=\"#ffffff\" stroke=\"transparent\" points=\"-4,4 -4,-348 407.9429,-348 407.9429,4 -4,4\"/>\n",
       "<!-- start -->\n",
       "<g id=\"node1\" class=\"node\">\n",
       "<title>start</title>\n",
       "<ellipse fill=\"none\" stroke=\"#000000\" cx=\"208.496\" cy=\"-326\" rx=\"36.2938\" ry=\"18\"/>\n",
       "<text text-anchor=\"middle\" x=\"208.496\" y=\"-322.3\" font-family=\"Times,serif\" font-size=\"14.00\" fill=\"#000000\">&lt;start&gt;</text>\n",
       "</g>\n",
       "<!-- state -->\n",
       "<g id=\"node2\" class=\"node\">\n",
       "<title>state</title>\n",
       "<ellipse fill=\"none\" stroke=\"#000000\" cx=\"208.496\" cy=\"-253\" rx=\"37.8943\" ry=\"18\"/>\n",
       "<text text-anchor=\"middle\" x=\"208.496\" y=\"-249.3\" font-family=\"Times,serif\" font-size=\"14.00\" fill=\"#000000\">&lt;state&gt;</text>\n",
       "</g>\n",
       "<!-- start&#45;&gt;state -->\n",
       "<g id=\"edge1\" class=\"edge\">\n",
       "<title>start&#45;&gt;state</title>\n",
       "<path fill=\"none\" stroke=\"#000000\" d=\"M208.496,-307.9551C208.496,-299.8828 208.496,-290.1764 208.496,-281.1817\"/>\n",
       "<polygon fill=\"#000000\" stroke=\"#000000\" points=\"211.9961,-281.0903 208.496,-271.0904 204.9961,-281.0904 211.9961,-281.0903\"/>\n",
       "</g>\n",
       "<!-- state&#45;1 -->\n",
       "<g id=\"node3\" class=\"node\">\n",
       "<title>state&#45;1</title>\n",
       "<ellipse fill=\"none\" stroke=\"#000000\" cx=\"45.496\" cy=\"-91\" rx=\"45.4919\" ry=\"18\"/>\n",
       "<text text-anchor=\"middle\" x=\"45.496\" y=\"-87.3\" font-family=\"Times,serif\" font-size=\"14.00\" fill=\"#000000\">&lt;state&#45;1&gt;</text>\n",
       "</g>\n",
       "<!-- state&#45;&gt;state&#45;1 -->\n",
       "<g id=\"edge2\" class=\"edge\">\n",
       "<title>state&#45;&gt;state&#45;1</title>\n",
       "<path fill=\"none\" stroke=\"#000000\" d=\"M170.9534,-251.1602C122.383,-247.9032 41.8089,-239.2201 23.496,-217 -1.944,-186.1324 12.662,-165.5049 23.496,-127 24.4085,-123.7566 25.7035,-120.5164 27.2139,-117.3831\"/>\n",
       "<polygon fill=\"#000000\" stroke=\"#000000\" points=\"30.4065,-118.8446 32.2248,-108.407 24.2944,-115.4325 30.4065,-118.8446\"/>\n",
       "<text text-anchor=\"start\" x=\"23.496\" y=\"-168.3\" font-family=\"Times,serif\" font-size=\"14.00\" fill=\"#000000\">click(&#39;terms and conditions&#39;)</text>\n",
       "</g>\n",
       "<!-- state&#45;2 -->\n",
       "<g id=\"node4\" class=\"node\">\n",
       "<title>state&#45;2</title>\n",
       "<ellipse fill=\"none\" stroke=\"#000000\" cx=\"172.496\" cy=\"-91\" rx=\"45.4919\" ry=\"18\"/>\n",
       "<text text-anchor=\"middle\" x=\"172.496\" y=\"-87.3\" font-family=\"Times,serif\" font-size=\"14.00\" fill=\"#000000\">&lt;state&#45;2&gt;</text>\n",
       "</g>\n",
       "<!-- state&#45;&gt;state&#45;2 -->\n",
       "<g id=\"edge3\" class=\"edge\">\n",
       "<title>state&#45;&gt;state&#45;2</title>\n",
       "<path fill=\"none\" stroke=\"#000000\" d=\"M206.4682,-234.8057C203.4539,-210.084 196.9911,-164.6469 186.496,-127 185.7194,-124.2143 184.8071,-121.3455 183.827,-118.5007\"/>\n",
       "<polygon fill=\"#000000\" stroke=\"#000000\" points=\"187.0907,-117.2353 180.3314,-109.0766 180.5276,-119.6697 187.0907,-117.2353\"/>\n",
       "<text text-anchor=\"start\" x=\"204.496\" y=\"-205.8\" font-family=\"Times,serif\" font-size=\"14.00\" fill=\"#000000\">fill(&#39;email&#39;, &#39;&lt;email&gt;&#39;)</text>\n",
       "<text text-anchor=\"start\" x=\"204.496\" y=\"-190.8\" font-family=\"Times,serif\" font-size=\"14.00\" fill=\"#000000\">fill(&#39;name&#39;, &#39;&lt;text&gt;&#39;)</text>\n",
       "<text text-anchor=\"start\" x=\"204.496\" y=\"-175.8\" font-family=\"Times,serif\" font-size=\"14.00\" fill=\"#000000\">fill(&#39;zip&#39;, &#39;&lt;number&gt;&#39;)</text>\n",
       "<text text-anchor=\"start\" x=\"204.496\" y=\"-160.8\" font-family=\"Times,serif\" font-size=\"14.00\" fill=\"#000000\">fill(&#39;city&#39;, &#39;&lt;text&gt;&#39;)</text>\n",
       "<text text-anchor=\"start\" x=\"204.496\" y=\"-145.8\" font-family=\"Times,serif\" font-size=\"14.00\" fill=\"#000000\">check(&#39;terms&#39;, &lt;boolean&gt;)</text>\n",
       "<text text-anchor=\"start\" x=\"204.496\" y=\"-130.8\" font-family=\"Times,serif\" font-size=\"14.00\" fill=\"#000000\">submit(&#39;submit&#39;)</text>\n",
       "</g>\n",
       "<!-- end -->\n",
       "<g id=\"node5\" class=\"node\">\n",
       "<title>end</title>\n",
       "<ellipse fill=\"none\" stroke=\"#000000\" cx=\"369.496\" cy=\"-91\" rx=\"34.394\" ry=\"18\"/>\n",
       "<text text-anchor=\"middle\" x=\"369.496\" y=\"-87.3\" font-family=\"Times,serif\" font-size=\"14.00\" fill=\"#000000\">&lt;end&gt;</text>\n",
       "</g>\n",
       "<!-- state&#45;&gt;end -->\n",
       "<g id=\"edge4\" class=\"edge\">\n",
       "<title>state&#45;&gt;end</title>\n",
       "<path fill=\"none\" stroke=\"#000000\" d=\"M245.3186,-248.705C283.7048,-243.4287 340.2334,-233.1386 354.496,-217 378.0388,-190.3605 377.8598,-147.235 374.5115,-118.9958\"/>\n",
       "<polygon fill=\"#000000\" stroke=\"#000000\" points=\"377.9609,-118.3892 373.1159,-108.9671 371.0277,-119.3541 377.9609,-118.3892\"/>\n",
       "</g>\n",
       "<!-- unexplored -->\n",
       "<g id=\"node6\" class=\"node\">\n",
       "<title>unexplored</title>\n",
       "<ellipse fill=\"none\" stroke=\"#000000\" cx=\"99.496\" cy=\"-18\" rx=\"61.99\" ry=\"18\"/>\n",
       "<text text-anchor=\"middle\" x=\"99.496\" y=\"-14.3\" font-family=\"Times,serif\" font-size=\"14.00\" fill=\"#000000\">&lt;unexplored&gt;</text>\n",
       "</g>\n",
       "<!-- state&#45;1&#45;&gt;unexplored -->\n",
       "<g id=\"edge5\" class=\"edge\">\n",
       "<title>state&#45;1&#45;&gt;unexplored</title>\n",
       "<path fill=\"none\" stroke=\"#000000\" d=\"M58.2932,-73.7C64.8545,-64.8301 72.9801,-53.8455 80.2768,-43.9815\"/>\n",
       "<polygon fill=\"#000000\" stroke=\"#000000\" points=\"83.2822,-45.8039 86.4155,-35.6829 77.6546,-41.6409 83.2822,-45.8039\"/>\n",
       "</g>\n",
       "<!-- state&#45;2&#45;&gt;unexplored -->\n",
       "<g id=\"edge6\" class=\"edge\">\n",
       "<title>state&#45;2&#45;&gt;unexplored</title>\n",
       "<path fill=\"none\" stroke=\"#000000\" d=\"M155.5648,-74.0688C146.2104,-64.7145 134.4214,-52.9255 124.0701,-42.5742\"/>\n",
       "<polygon fill=\"#000000\" stroke=\"#000000\" points=\"126.3882,-39.9425 116.8422,-35.3463 121.4384,-44.8922 126.3882,-39.9425\"/>\n",
       "</g>\n",
       "</g>\n",
       "</svg>\n"
      ],
      "text/plain": [
       "<graphviz.dot.Digraph at 0x115f56860>"
      ]
     },
     "metadata": {},
     "output_type": "display_data"
    }
   ],
   "source": [
    "fsm_diagram(state_grammar)"
   ]
  },
  {
   "cell_type": "markdown",
   "metadata": {
    "slideshow": {
     "slide_type": "fragment"
    }
   },
   "source": [
    "Given the grammar, we can use any of our grammar fuzzers to create valid input sequences:"
   ]
  },
  {
   "cell_type": "code",
   "execution_count": 85,
   "metadata": {
    "slideshow": {
     "slide_type": "skip"
    }
   },
   "outputs": [],
   "source": [
    "from GrammarFuzzer import GrammarFuzzer"
   ]
  },
  {
   "cell_type": "code",
   "execution_count": 86,
   "metadata": {
    "slideshow": {
     "slide_type": "subslide"
    }
   },
   "outputs": [
    {
     "name": "stdout",
     "output_type": "stream",
     "text": [
      "fill('email', 'C@x')\n",
      "fill('name', '.')\n",
      "fill('zip', '25')\n",
      "fill('city', '6')\n",
      "check('terms', False)\n",
      "submit('submit')\n",
      "\n"
     ]
    }
   ],
   "source": [
    "gui_fuzzer = GrammarFuzzer(state_grammar)\n",
    "while True:\n",
    "    action = gui_fuzzer.fuzz()\n",
    "    if action.find('submit(') > 0:\n",
    "        break\n",
    "print(action)"
   ]
  },
  {
   "cell_type": "markdown",
   "metadata": {
    "slideshow": {
     "slide_type": "subslide"
    }
   },
   "source": [
    "These actions, however, must also be _executed_ such that we can explore the user interface.  This is what we do in the next section."
   ]
  },
  {
   "cell_type": "markdown",
   "metadata": {
    "slideshow": {
     "slide_type": "subslide"
    }
   },
   "source": [
    "### Executing User Interface Actions"
   ]
  },
  {
   "cell_type": "markdown",
   "metadata": {
    "slideshow": {
     "slide_type": "fragment"
    }
   },
   "source": [
    "To execute actions, we introduce a `Runner` class, conveniently named `GUIRunner`.  The aim of its `run()` method is to execute the actions as given in an action string.  The way we do this is fairly simple: We introduce four methods named `fill()`, `check()`, `submit()` and `click()`, and run `exec()` on the action string to have the Python interpreter invoke these methods."
   ]
  },
  {
   "cell_type": "markdown",
   "metadata": {
    "slideshow": {
     "slide_type": "subslide"
    }
   },
   "source": [
    "Running `exec()` on third-party input is dangerous, as the names of UI elements may contain valid Python code.  We restrict access to the four functions defined above, and also set `__builtins__` to the empty dictionary such that built-in Python functions are not available during `exec()`.  This will prevent accidents, but as we will see in the [chapter on information flow](InformationFlow.ipynb), it is still possible to inject Python code.  To prevent such injection attacks, we use `html.escape()` to quote angle and quote characters in all third-party strings."
   ]
  },
  {
   "cell_type": "code",
   "execution_count": 87,
   "metadata": {
    "slideshow": {
     "slide_type": "skip"
    }
   },
   "outputs": [],
   "source": [
    "from Fuzzer import Runner"
   ]
  },
  {
   "cell_type": "code",
   "execution_count": 88,
   "metadata": {
    "slideshow": {
     "slide_type": "subslide"
    }
   },
   "outputs": [],
   "source": [
    "class GUIRunner(Runner):\n",
    "    def __init__(self, driver):\n",
    "        self.driver = driver\n",
    "        \n",
    "    def run(self, inp):\n",
    "        def fill(name, value):\n",
    "            self.do_fill(html.unescape(name), html.unescape(value))\n",
    "        def check(name, state):\n",
    "            self.do_check(html.unescape(name), state)\n",
    "        def submit(name):\n",
    "            self.do_submit(html.unescape(name))\n",
    "        def click(name):\n",
    "            self.do_click(html.unescape(name))\n",
    "        \n",
    "        exec(inp, {'__builtins__': {}},\n",
    "                  {'fill': fill, 'check': check, 'submit': submit, 'click': click})\n",
    "        \n",
    "        return inp, self.PASS"
   ]
  },
  {
   "cell_type": "markdown",
   "metadata": {
    "slideshow": {
     "slide_type": "subslide"
    }
   },
   "source": [
    "To identify elements in an action, we first search them by their name, and then by the displayed link text."
   ]
  },
  {
   "cell_type": "code",
   "execution_count": 89,
   "metadata": {
    "slideshow": {
     "slide_type": "skip"
    }
   },
   "outputs": [],
   "source": [
    "from selenium.common.exceptions import NoSuchElementException\n",
    "from selenium.common.exceptions import ElementClickInterceptedException, ElementNotInteractableException"
   ]
  },
  {
   "cell_type": "code",
   "execution_count": 90,
   "metadata": {
    "slideshow": {
     "slide_type": "fragment"
    }
   },
   "outputs": [],
   "source": [
    "class GUIRunner(GUIRunner):\n",
    "    def find_element(self, name):\n",
    "        try:\n",
    "            return self.driver.find_element_by_name(name)\n",
    "        except NoSuchElementException:\n",
    "            return self.driver.find_element_by_link_text(name)"
   ]
  },
  {
   "cell_type": "markdown",
   "metadata": {
    "slideshow": {
     "slide_type": "fragment"
    }
   },
   "source": [
    "The implementations of the actions simply defer to the appropriate Selenium methods, introducing explicit delays such that the page can reload and refresh."
   ]
  },
  {
   "cell_type": "code",
   "execution_count": 91,
   "metadata": {
    "slideshow": {
     "slide_type": "skip"
    }
   },
   "outputs": [],
   "source": [
    "from selenium.webdriver.support.ui import WebDriverWait"
   ]
  },
  {
   "cell_type": "code",
   "execution_count": 92,
   "metadata": {
    "slideshow": {
     "slide_type": "subslide"
    }
   },
   "outputs": [],
   "source": [
    "class GUIRunner(GUIRunner):\n",
    "    # Delays (in seconds)\n",
    "    DELAY_AFTER_FILL = 0.1\n",
    "    DELAY_AFTER_CHECK = 0.1\n",
    "    DELAY_AFTER_SUBMIT = 1\n",
    "    DELAY_AFTER_CLICK = 1"
   ]
  },
  {
   "cell_type": "code",
   "execution_count": 93,
   "metadata": {
    "slideshow": {
     "slide_type": "fragment"
    }
   },
   "outputs": [],
   "source": [
    "class GUIRunner(GUIRunner):\n",
    "    def do_fill(self, name, value):\n",
    "        element = self.find_element(name)\n",
    "        element.send_keys(value)\n",
    "        WebDriverWait(self.driver, self.DELAY_AFTER_FILL)"
   ]
  },
  {
   "cell_type": "code",
   "execution_count": 94,
   "metadata": {
    "slideshow": {
     "slide_type": "subslide"
    }
   },
   "outputs": [],
   "source": [
    "class GUIRunner(GUIRunner):\n",
    "    def do_check(self, name, state):\n",
    "        element = self.find_element(name)\n",
    "        if bool(state) != bool(element.is_selected()):\n",
    "            element.click()\n",
    "        WebDriverWait(self.driver, self.DELAY_AFTER_CHECK)"
   ]
  },
  {
   "cell_type": "code",
   "execution_count": 95,
   "metadata": {
    "slideshow": {
     "slide_type": "fragment"
    }
   },
   "outputs": [],
   "source": [
    "class GUIRunner(GUIRunner):\n",
    "    def do_submit(self, name):\n",
    "        element = self.find_element(name)\n",
    "        element.click()\n",
    "        WebDriverWait(self.driver, self.DELAY_AFTER_SUBMIT)"
   ]
  },
  {
   "cell_type": "code",
   "execution_count": 96,
   "metadata": {
    "slideshow": {
     "slide_type": "subslide"
    }
   },
   "outputs": [],
   "source": [
    "class GUIRunner(GUIRunner):\n",
    "    def do_click(self, name):\n",
    "        element = self.find_element(name)\n",
    "        element.click()\n",
    "        WebDriverWait(self.driver, self.DELAY_AFTER_CLICK)"
   ]
  },
  {
   "cell_type": "markdown",
   "metadata": {
    "slideshow": {
     "slide_type": "fragment"
    }
   },
   "source": [
    "Let us try out `GUIRunner`.  We create a runner on our Web server, and let it execute a `fill()` action:"
   ]
  },
  {
   "cell_type": "code",
   "execution_count": 97,
   "metadata": {
    "slideshow": {
     "slide_type": "fragment"
    }
   },
   "outputs": [],
   "source": [
    "gui_driver.get(httpd_url)"
   ]
  },
  {
   "cell_type": "code",
   "execution_count": 98,
   "metadata": {
    "slideshow": {
     "slide_type": "fragment"
    }
   },
   "outputs": [],
   "source": [
    "gui_runner = GUIRunner(gui_driver)"
   ]
  },
  {
   "cell_type": "code",
   "execution_count": 99,
   "metadata": {
    "slideshow": {
     "slide_type": "fragment"
    }
   },
   "outputs": [
    {
     "data": {
      "text/plain": [
       "(\"fill('name', 'Walter White')\", 'PASS')"
      ]
     },
     "execution_count": 99,
     "metadata": {},
     "output_type": "execute_result"
    }
   ],
   "source": [
    "gui_runner.run(\"fill('name', 'Walter White')\")"
   ]
  },
  {
   "cell_type": "code",
   "execution_count": 100,
   "metadata": {
    "slideshow": {
     "slide_type": "fragment"
    }
   },
   "outputs": [
    {
     "data": {
      "image/png": "[encoded data removed]",
      "text/plain": [
       "<IPython.core.display.Image object>"
      ]
     },
     "execution_count": 100,
     "metadata": {},
     "output_type": "execute_result"
    }
   ],
   "source": [
    "Image(gui_driver.get_screenshot_as_png())"
   ]
  },
  {
   "cell_type": "markdown",
   "metadata": {
    "slideshow": {
     "slide_type": "fragment"
    }
   },
   "source": [
    "A `submit()` action submits the order.  (Note that our Web server does no effort whatsoever to validate the form.)"
   ]
  },
  {
   "cell_type": "code",
   "execution_count": 101,
   "metadata": {
    "slideshow": {
     "slide_type": "subslide"
    }
   },
   "outputs": [
    {
     "data": {
      "text/plain": [
       "(\"submit('submit')\", 'PASS')"
      ]
     },
     "execution_count": 101,
     "metadata": {},
     "output_type": "execute_result"
    }
   ],
   "source": [
    "gui_runner.run(\"submit('submit')\")"
   ]
  },
  {
   "cell_type": "code",
   "execution_count": 102,
   "metadata": {
    "slideshow": {
     "slide_type": "fragment"
    }
   },
   "outputs": [
    {
     "data": {
      "image/png": "[encoded data removed]",
      "text/plain": [
       "<IPython.core.display.Image object>"
      ]
     },
     "execution_count": 102,
     "metadata": {},
     "output_type": "execute_result"
    }
   ],
   "source": [
    "Image(gui_driver.get_screenshot_as_png())"
   ]
  },
  {
   "cell_type": "markdown",
   "metadata": {
    "slideshow": {
     "slide_type": "fragment"
    }
   },
   "source": [
    "Of course, we can also execute action sequences generated from the grammar.  This allows us to fill the form again and again, using values matching the type given in the form."
   ]
  },
  {
   "cell_type": "code",
   "execution_count": 103,
   "metadata": {
    "slideshow": {
     "slide_type": "fragment"
    }
   },
   "outputs": [],
   "source": [
    "gui_driver.get(httpd_url)"
   ]
  },
  {
   "cell_type": "code",
   "execution_count": 104,
   "metadata": {
    "slideshow": {
     "slide_type": "fragment"
    }
   },
   "outputs": [],
   "source": [
    "gui_fuzzer = GrammarFuzzer(state_grammar)"
   ]
  },
  {
   "cell_type": "code",
   "execution_count": 105,
   "metadata": {
    "slideshow": {
     "slide_type": "fragment"
    }
   },
   "outputs": [],
   "source": [
    "while True:\n",
    "    action = gui_fuzzer.fuzz()\n",
    "    if action.find('submit(') > 0:\n",
    "        break"
   ]
  },
  {
   "cell_type": "code",
   "execution_count": 106,
   "metadata": {
    "slideshow": {
     "slide_type": "subslide"
    }
   },
   "outputs": [
    {
     "name": "stdout",
     "output_type": "stream",
     "text": [
      "fill('email', 'G@L')\n",
      "fill('name', 'X ')\n",
      "fill('zip', '9')\n",
      "fill('city', 'XRMi.F')\n",
      "check('terms', True)\n",
      "submit('submit')\n",
      "\n"
     ]
    }
   ],
   "source": [
    "print(action)"
   ]
  },
  {
   "cell_type": "code",
   "execution_count": 107,
   "metadata": {
    "slideshow": {
     "slide_type": "fragment"
    }
   },
   "outputs": [
    {
     "data": {
      "text/plain": [
       "(\"fill('email', 'G@L')\\nfill('name', 'X ')\\nfill('zip', '9')\\nfill('city', 'XRMi.F')\\ncheck('terms', True)\\nsubmit('submit')\\n\",\n",
       " 'PASS')"
      ]
     },
     "execution_count": 107,
     "metadata": {},
     "output_type": "execute_result"
    }
   ],
   "source": [
    "gui_runner.run(action)"
   ]
  },
  {
   "cell_type": "code",
   "execution_count": 108,
   "metadata": {
    "slideshow": {
     "slide_type": "fragment"
    }
   },
   "outputs": [
    {
     "data": {
      "image/png": "[encoded data removed]",
      "text/plain": [
       "<IPython.core.display.Image object>"
      ]
     },
     "execution_count": 108,
     "metadata": {},
     "output_type": "execute_result"
    }
   ],
   "source": [
    "Image(gui_driver.get_screenshot_as_png())"
   ]
  },
  {
   "cell_type": "markdown",
   "metadata": {
    "slideshow": {
     "slide_type": "slide"
    }
   },
   "source": [
    "## Exploring User Interfaces\n",
    "\n",
    "So far, our grammar retrieval and execution of actions is limited to the current user interface state (i.e., the current page shown).  To systematically explore a user interface, we must explore all states, notably those ending in `<unexplored>` – and whenever we reach a new state, again retrieve its grammar such that we may be able to reach other states.  Since some states can only be reached by generating inputs, test generation and user interface exploration _take place at the same time._  \n",
    "\n",
    "Consequently, we introduce a `GUIFuzzer` class, which generates inputs for all forms and follows all links, and which updates its grammar (i.e., its user interface model as a finite state machine) every time it encounters a new state. "
   ]
  },
  {
   "cell_type": "markdown",
   "metadata": {
    "slideshow": {
     "slide_type": "subslide"
    }
   },
   "source": [
    "Exploring states and updating the grammar at the same time is a fairly complex operation, so we need to introduce quite a number of methods before we can put this to use.  The `GUIFuzzer` constructor sets three important attributes:\n",
    "\n",
    "1. `state_symbol`: This holds the symbol of the current state (e.g. `<state-1>`).\n",
    "2. `state`: This holds the set of actions for the current state, as returned by the `GUIGrammarMiner` method `mine_state_actions()`.\n",
    "3. `states_seen`: This maps the states seen (as in `state`) to the respective symbols.\n",
    "\n",
    "Let us show these three attributes after initialization."
   ]
  },
  {
   "cell_type": "code",
   "execution_count": 109,
   "metadata": {
    "slideshow": {
     "slide_type": "skip"
    }
   },
   "outputs": [],
   "source": [
    "from Grammars import is_nonterminal"
   ]
  },
  {
   "cell_type": "code",
   "execution_count": 110,
   "metadata": {
    "slideshow": {
     "slide_type": "skip"
    }
   },
   "outputs": [],
   "source": [
    "from GrammarFuzzer import GrammarFuzzer"
   ]
  },
  {
   "cell_type": "code",
   "execution_count": 111,
   "metadata": {
    "slideshow": {
     "slide_type": "subslide"
    }
   },
   "outputs": [],
   "source": [
    "class GUIFuzzer(GrammarFuzzer):\n",
    "    def __init__(self, driver, \n",
    "                 stay_on_host=True,\n",
    "                 log_gui_exploration=False, \n",
    "                 disp_gui_exploration=False, \n",
    "                 **kwargs):\n",
    "        self.driver = driver\n",
    "        self.miner = GUIGrammarMiner(driver)\n",
    "        self.stay_on_host = True\n",
    "        self.log_gui_exploration = log_gui_exploration\n",
    "        self.disp_gui_exploration = disp_gui_exploration\n",
    "        self.initial_url = driver.current_url\n",
    "\n",
    "        self.states_seen = {}  # Maps states to symbols\n",
    "        self.state_symbol = GUIGrammarMiner.START_STATE\n",
    "        self.state = self.miner.mine_state_actions()\n",
    "        self.states_seen[self.state] = self.state_symbol\n",
    "        \n",
    "        grammar = self.miner.mine_state_grammar()\n",
    "        super().__init__(grammar, **kwargs)"
   ]
  },
  {
   "cell_type": "code",
   "execution_count": 112,
   "metadata": {
    "slideshow": {
     "slide_type": "subslide"
    }
   },
   "outputs": [],
   "source": [
    "gui_driver.get(httpd_url)"
   ]
  },
  {
   "cell_type": "markdown",
   "metadata": {
    "slideshow": {
     "slide_type": "fragment"
    }
   },
   "source": [
    "The initial state symbol is always `<state>`:"
   ]
  },
  {
   "cell_type": "code",
   "execution_count": 113,
   "metadata": {
    "slideshow": {
     "slide_type": "fragment"
    }
   },
   "outputs": [
    {
     "data": {
      "text/plain": [
       "'<state>'"
      ]
     },
     "execution_count": 113,
     "metadata": {},
     "output_type": "execute_result"
    }
   ],
   "source": [
    "gui_fuzzer = GUIFuzzer(gui_driver)\n",
    "gui_fuzzer.state_symbol"
   ]
  },
  {
   "cell_type": "markdown",
   "metadata": {
    "slideshow": {
     "slide_type": "fragment"
    }
   },
   "source": [
    "The current state is characterized by the available UI actions:"
   ]
  },
  {
   "cell_type": "code",
   "execution_count": 114,
   "metadata": {
    "slideshow": {
     "slide_type": "fragment"
    }
   },
   "outputs": [
    {
     "data": {
      "text/plain": [
       "frozenset({\"check('terms', <boolean>)\",\n",
       "           \"click('terms and conditions')\",\n",
       "           \"fill('city', '<text>')\",\n",
       "           \"fill('email', '<email>')\",\n",
       "           \"fill('name', '<text>')\",\n",
       "           \"fill('zip', '<number>')\",\n",
       "           \"submit('submit')\"})"
      ]
     },
     "execution_count": 114,
     "metadata": {},
     "output_type": "execute_result"
    }
   ],
   "source": [
    "gui_fuzzer.state"
   ]
  },
  {
   "cell_type": "markdown",
   "metadata": {
    "slideshow": {
     "slide_type": "fragment"
    }
   },
   "source": [
    "`states_seen` maps this state to its symbol:"
   ]
  },
  {
   "cell_type": "code",
   "execution_count": 115,
   "metadata": {
    "slideshow": {
     "slide_type": "subslide"
    }
   },
   "outputs": [
    {
     "data": {
      "text/plain": [
       "'<state>'"
      ]
     },
     "execution_count": 115,
     "metadata": {},
     "output_type": "execute_result"
    }
   ],
   "source": [
    "gui_fuzzer.states_seen[gui_fuzzer.state]"
   ]
  },
  {
   "cell_type": "markdown",
   "metadata": {
    "slideshow": {
     "slide_type": "fragment"
    }
   },
   "source": [
    "The `restart()` method gets us back to the initial URL and resets the state.  This is what we use with every new exploration."
   ]
  },
  {
   "cell_type": "code",
   "execution_count": 116,
   "metadata": {
    "slideshow": {
     "slide_type": "fragment"
    }
   },
   "outputs": [],
   "source": [
    "class GUIFuzzer(GUIFuzzer):\n",
    "    def restart(self):\n",
    "        self.driver.get(self.initial_url)\n",
    "        self.state = GUIGrammarMiner.START_STATE"
   ]
  },
  {
   "cell_type": "markdown",
   "metadata": {
    "slideshow": {
     "slide_type": "fragment"
    }
   },
   "source": [
    "When producing a sequence of actions from the grammar, we want to know which final state we are to be in.  We can retrieve this path from the _derivation tree_ produced – it is the last symbol being expanded."
   ]
  },
  {
   "cell_type": "code",
   "execution_count": 117,
   "metadata": {
    "slideshow": {
     "slide_type": "fragment"
    }
   },
   "outputs": [],
   "source": [
    "while True:\n",
    "    action = gui_fuzzer.fuzz()\n",
    "    if action.find('click(') >= 0:\n",
    "        break"
   ]
  },
  {
   "cell_type": "code",
   "execution_count": 118,
   "metadata": {
    "slideshow": {
     "slide_type": "skip"
    }
   },
   "outputs": [],
   "source": [
    "from GrammarFuzzer import display_tree"
   ]
  },
  {
   "cell_type": "code",
   "execution_count": 119,
   "metadata": {
    "slideshow": {
     "slide_type": "subslide"
    }
   },
   "outputs": [
    {
     "data": {
      "image/svg+xml": [
       "<?xml version=\"1.0\" encoding=\"UTF-8\" standalone=\"no\"?>\n",
       "<!DOCTYPE svg PUBLIC \"-//W3C//DTD SVG 1.1//EN\"\n",
       " \"http://www.w3.org/Graphics/SVG/1.1/DTD/svg11.dtd\">\n",
       "<!-- Generated by graphviz version 2.40.1 (20161225.0304)\n",
       " -->\n",
       "<!-- Title: %3 Pages: 1 -->\n",
       "<svg width=\"252pt\" height=\"212pt\"\n",
       " viewBox=\"0.00 0.00 252.00 212.00\" xmlns=\"http://www.w3.org/2000/svg\" xmlns:xlink=\"http://www.w3.org/1999/xlink\">\n",
       "<g id=\"graph0\" class=\"graph\" transform=\"scale(1 1) rotate(0) translate(4 208)\">\n",
       "<title>%3</title>\n",
       "<polygon fill=\"#ffffff\" stroke=\"transparent\" points=\"-4,4 -4,-208 248,-208 248,4 -4,4\"/>\n",
       "<!-- 0 -->\n",
       "<g id=\"node1\" class=\"node\">\n",
       "<title>0</title>\n",
       "<text text-anchor=\"middle\" x=\"141.5\" y=\"-192.8\" font-family=\"Times,serif\" font-size=\"14.00\" fill=\"#000000\">&lt;start&gt;</text>\n",
       "</g>\n",
       "<!-- 1 -->\n",
       "<g id=\"node2\" class=\"node\">\n",
       "<title>1</title>\n",
       "<text text-anchor=\"middle\" x=\"141.5\" y=\"-141.8\" font-family=\"Times,serif\" font-size=\"14.00\" fill=\"#000000\">&lt;state&gt;</text>\n",
       "</g>\n",
       "<!-- 0&#45;&gt;1 -->\n",
       "<g id=\"edge1\" class=\"edge\">\n",
       "<title>0&#45;&gt;1</title>\n",
       "<path fill=\"none\" stroke=\"#000000\" d=\"M141.5,-188.9748C141.5,-182.195 141.5,-171.966 141.5,-163.1331\"/>\n",
       "<polygon fill=\"#000000\" stroke=\"#000000\" points=\"145.0001,-163.0561 141.5,-153.0561 138.0001,-163.0561 145.0001,-163.0561\"/>\n",
       "</g>\n",
       "<!-- 2 -->\n",
       "<g id=\"node3\" class=\"node\">\n",
       "<title>2</title>\n",
       "<text text-anchor=\"middle\" x=\"79.5\" y=\"-90.8\" font-family=\"Times,serif\" font-size=\"14.00\" fill=\"#000000\">click(&#39;terms and conditions&#39;)</text>\n",
       "</g>\n",
       "<!-- 1&#45;&gt;2 -->\n",
       "<g id=\"edge2\" class=\"edge\">\n",
       "<title>1&#45;&gt;2</title>\n",
       "<path fill=\"none\" stroke=\"#000000\" d=\"M132.3517,-137.9748C123.0106,-130.291 108.2838,-118.177 96.7456,-108.6859\"/>\n",
       "<polygon fill=\"#000000\" stroke=\"#000000\" points=\"98.6322,-105.7058 88.6858,-102.0561 94.1853,-111.1119 98.6322,-105.7058\"/>\n",
       "</g>\n",
       "<!-- 3 -->\n",
       "<g id=\"node4\" class=\"node\">\n",
       "<title>3</title>\n",
       "<text text-anchor=\"middle\" x=\"204.5\" y=\"-90.8\" font-family=\"Times,serif\" font-size=\"14.00\" fill=\"#000000\">&lt;state&#45;1&gt;</text>\n",
       "</g>\n",
       "<!-- 1&#45;&gt;3 -->\n",
       "<g id=\"edge3\" class=\"edge\">\n",
       "<title>1&#45;&gt;3</title>\n",
       "<path fill=\"none\" stroke=\"#000000\" d=\"M150.7959,-137.9748C160.3807,-130.2157 175.5459,-117.939 187.3201,-108.4075\"/>\n",
       "<polygon fill=\"#000000\" stroke=\"#000000\" points=\"189.5957,-111.0685 195.166,-102.0561 185.1913,-105.6278 189.5957,-111.0685\"/>\n",
       "</g>\n",
       "<!-- 4 -->\n",
       "<g id=\"node5\" class=\"node\">\n",
       "<title>4</title>\n",
       "<text text-anchor=\"middle\" x=\"204.5\" y=\"-39.8\" font-family=\"Times,serif\" font-size=\"14.00\" fill=\"#000000\">&lt;unexplored&gt;</text>\n",
       "</g>\n",
       "<!-- 3&#45;&gt;4 -->\n",
       "<g id=\"edge4\" class=\"edge\">\n",
       "<title>3&#45;&gt;4</title>\n",
       "<path fill=\"none\" stroke=\"#000000\" d=\"M204.5,-86.9748C204.5,-80.195 204.5,-69.966 204.5,-61.1331\"/>\n",
       "<polygon fill=\"#000000\" stroke=\"#000000\" points=\"208.0001,-61.0561 204.5,-51.0561 201.0001,-61.0561 208.0001,-61.0561\"/>\n",
       "</g>\n",
       "<!-- 5 -->\n",
       "<g id=\"node6\" class=\"node\">\n",
       "<title>5</title>\n",
       "</g>\n",
       "<!-- 4&#45;&gt;5 -->\n",
       "<g id=\"edge5\" class=\"edge\">\n",
       "<title>4&#45;&gt;5</title>\n",
       "<path fill=\"none\" stroke=\"#000000\" d=\"M204.5,-35.9229C204.5,-35.8742 204.5,-35.8253 204.5,-35.7763\"/>\n",
       "<polygon fill=\"#000000\" stroke=\"#000000\" points=\"208.0068,-45.6264 204.5,-35.6288 201.0068,-45.6311 208.0068,-45.6264\"/>\n",
       "</g>\n",
       "</g>\n",
       "</svg>\n"
      ],
      "text/plain": [
       "<graphviz.dot.Digraph at 0x115f35240>"
      ]
     },
     "metadata": {},
     "output_type": "display_data"
    }
   ],
   "source": [
    "tree = gui_fuzzer.derivation_tree\n",
    "display_tree(tree)"
   ]
  },
  {
   "cell_type": "code",
   "execution_count": 120,
   "metadata": {
    "slideshow": {
     "slide_type": "fragment"
    }
   },
   "outputs": [],
   "source": [
    "class GUIFuzzer(GUIFuzzer):\n",
    "    def fsm_path(self, tree):\n",
    "        \"\"\"Return sequence of state symbols\"\"\"\n",
    "        (node, children) = tree\n",
    "        if node == GUIGrammarMiner.UNEXPLORED_STATE:\n",
    "            return []\n",
    "        elif children is None or len(children) == 0:\n",
    "            return [node]\n",
    "        else:\n",
    "            return [node] + self.fsm_path(children[-1])"
   ]
  },
  {
   "cell_type": "markdown",
   "metadata": {
    "slideshow": {
     "slide_type": "fragment"
    }
   },
   "source": [
    "This is the path in the finite state machine towards the \"fuzzed\" state:"
   ]
  },
  {
   "cell_type": "code",
   "execution_count": 121,
   "metadata": {
    "slideshow": {
     "slide_type": "subslide"
    }
   },
   "outputs": [
    {
     "data": {
      "text/plain": [
       "['<start>', '<state>', '<state-1>']"
      ]
     },
     "execution_count": 121,
     "metadata": {},
     "output_type": "execute_result"
    }
   ],
   "source": [
    "gui_fuzzer = GUIFuzzer(gui_driver)\n",
    "gui_fuzzer.fsm_path(tree)"
   ]
  },
  {
   "cell_type": "markdown",
   "metadata": {
    "slideshow": {
     "slide_type": "fragment"
    }
   },
   "source": [
    "This is its last element:"
   ]
  },
  {
   "cell_type": "code",
   "execution_count": 122,
   "metadata": {
    "slideshow": {
     "slide_type": "fragment"
    }
   },
   "outputs": [],
   "source": [
    "class GUIFuzzer(GUIFuzzer):\n",
    "    def fsm_last_state_symbol(self, tree):\n",
    "        \"\"\"Return current (expected) state symbol\"\"\"\n",
    "        for state in reversed(self.fsm_path(tree)):\n",
    "            if is_nonterminal(state):\n",
    "                return state\n",
    "        assert False"
   ]
  },
  {
   "cell_type": "code",
   "execution_count": 123,
   "metadata": {
    "slideshow": {
     "slide_type": "fragment"
    }
   },
   "outputs": [
    {
     "data": {
      "text/plain": [
       "'<state-1>'"
      ]
     },
     "execution_count": 123,
     "metadata": {},
     "output_type": "execute_result"
    }
   ],
   "source": [
    "gui_fuzzer = GUIFuzzer(gui_driver)\n",
    "gui_fuzzer.fsm_last_state_symbol(tree)"
   ]
  },
  {
   "cell_type": "markdown",
   "metadata": {
    "slideshow": {
     "slide_type": "subslide"
    }
   },
   "source": [
    "As we run (`run()`) the fuzzer, we create an action (via `fuzz()`) and retrieve and update the state symbol (`state_symbol`) we are supposed to be in after running this action.  After actually running the action in the given `GUIRunner`, we retrieve and update the current state, using `update_state()`."
   ]
  },
  {
   "cell_type": "code",
   "execution_count": 124,
   "metadata": {
    "slideshow": {
     "slide_type": "subslide"
    }
   },
   "outputs": [],
   "source": [
    "class GUIFuzzer(GUIFuzzer):\n",
    "    def run(self, runner):\n",
    "        assert isinstance(runner, GUIRunner)\n",
    "        \n",
    "        self.restart()\n",
    "        action = self.fuzz()\n",
    "        self.state_symbol = self.fsm_last_state_symbol(self.derivation_tree)\n",
    "\n",
    "        if self.log_gui_exploration:\n",
    "            print(\"Action\", action.strip(), \"->\", self.state_symbol)\n",
    "\n",
    "        result, outcome = runner.run(action)\n",
    "        \n",
    "        if self.state_symbol != GUIGrammarMiner.FINAL_STATE:\n",
    "            self.update_state()\n",
    "\n",
    "        return self.state_symbol, outcome"
   ]
  },
  {
   "cell_type": "markdown",
   "metadata": {
    "slideshow": {
     "slide_type": "subslide"
    }
   },
   "source": [
    "When updating the current state, we check whether we are in a new or in a previously seen state, and invoke `update_new_state()` or `update_existing_state()`, respectively."
   ]
  },
  {
   "cell_type": "code",
   "execution_count": 125,
   "metadata": {
    "slideshow": {
     "slide_type": "fragment"
    }
   },
   "outputs": [],
   "source": [
    "class GUIFuzzer(GUIFuzzer):\n",
    "    def update_state(self):\n",
    "        if self.disp_gui_exploration:\n",
    "            display(Image(self.driver.get_screenshot_as_png()))\n",
    "\n",
    "        self.state = self.miner.mine_state_actions()\n",
    "        if self.state not in self.states_seen:\n",
    "            self.states_seen[self.state] = self.state_symbol\n",
    "            self.update_new_state()\n",
    "        else:\n",
    "            self.update_existing_state()"
   ]
  },
  {
   "cell_type": "markdown",
   "metadata": {
    "slideshow": {
     "slide_type": "subslide"
    }
   },
   "source": [
    "Finding a new state means that we mine a new grammar for the newly found state, and update our existing grammar with it."
   ]
  },
  {
   "cell_type": "code",
   "execution_count": 126,
   "metadata": {
    "slideshow": {
     "slide_type": "fragment"
    }
   },
   "outputs": [],
   "source": [
    "class GUIFuzzer(GUIFuzzer):\n",
    "    def set_grammar(self, new_grammar):\n",
    "        self.grammar = new_grammar\n",
    "        \n",
    "        if self.disp_gui_exploration and rich_output():\n",
    "            display(fsm_diagram(self.grammar))"
   ]
  },
  {
   "cell_type": "code",
   "execution_count": 127,
   "metadata": {
    "slideshow": {
     "slide_type": "subslide"
    }
   },
   "outputs": [],
   "source": [
    "class GUIFuzzer(GUIFuzzer):\n",
    "    def update_new_state(self):\n",
    "        if self.log_gui_exploration:\n",
    "            print(\"In new state\", unicode_escape(self.state_symbol), unicode_escape(repr(self.state)))\n",
    "\n",
    "        state_grammar = self.miner.mine_state_grammar(grammar=self.grammar, \n",
    "                                                      state_symbol=self.state_symbol)\n",
    "        del state_grammar[START_SYMBOL]\n",
    "        del state_grammar[GUIGrammarMiner.START_STATE]\n",
    "        self.set_grammar(extend_grammar(self.grammar, state_grammar))"
   ]
  },
  {
   "cell_type": "markdown",
   "metadata": {
    "slideshow": {
     "slide_type": "subslide"
    }
   },
   "source": [
    "If we find an existing state, we need to _merge_ both states.  If, for instance, we find that we are in existing `<state-1>` rather than in the expected `<state-3>`, we replace all instances of `<state-3>` in the grammar by `<state-1>`.  The method `replace_symbol()` takes care of the renaming; `update_existing_state()` sets the grammar accordingly."
   ]
  },
  {
   "cell_type": "code",
   "execution_count": 128,
   "metadata": {
    "slideshow": {
     "slide_type": "skip"
    }
   },
   "outputs": [],
   "source": [
    "from Grammars import exp_string, exp_opts"
   ]
  },
  {
   "cell_type": "code",
   "execution_count": 129,
   "metadata": {
    "slideshow": {
     "slide_type": "subslide"
    }
   },
   "outputs": [],
   "source": [
    "def replace_symbol(grammar, old_symbol, new_symbol):\n",
    "    \"\"\"Return a grammar in which all occurrences of `old_symbol` are replaced by `new_symbol`\"\"\"\n",
    "    new_grammar = {}\n",
    "    \n",
    "    for symbol in grammar:\n",
    "        new_expansions = []\n",
    "        for expansion in grammar[symbol]:\n",
    "            new_expansion_string = exp_string(expansion).replace(old_symbol, new_symbol)\n",
    "            if len(exp_opts(expansion)) > 0:\n",
    "                new_expansion = (new_expansion_string, exp_opts(expansion))\n",
    "            else:\n",
    "                new_expansion = new_expansion_string\n",
    "            new_expansions.append(new_expansion)\n",
    "                \n",
    "        new_grammar[symbol] = new_expansions\n",
    "        \n",
    "    # Remove unused parts\n",
    "    for nonterminal in unreachable_nonterminals(new_grammar):\n",
    "        del new_grammar[nonterminal]\n",
    "\n",
    "    return new_grammar"
   ]
  },
  {
   "cell_type": "code",
   "execution_count": 130,
   "metadata": {
    "slideshow": {
     "slide_type": "subslide"
    }
   },
   "outputs": [],
   "source": [
    "class GUIFuzzer(GUIFuzzer):            \n",
    "    def update_existing_state(self):\n",
    "        if self.log_gui_exploration:\n",
    "            print(\"In existing state\", self.states_seen[self.state])\n",
    "\n",
    "        if self.state_symbol != self.states_seen[self.state]:\n",
    "            if self.log_gui_exploration:\n",
    "                print(\"Replacing expected state %s by %s\" %\n",
    "                      (self.state_symbol, self.states_seen[self.state]))\n",
    "            \n",
    "            new_grammar = replace_symbol(self.grammar, self.state_symbol, \n",
    "                                         self.states_seen[self.state])\n",
    "            self.state_symbol = self.states_seen[self.state]\n",
    "            self.set_grammar(new_grammar)"
   ]
  },
  {
   "cell_type": "markdown",
   "metadata": {
    "slideshow": {
     "slide_type": "subslide"
    }
   },
   "source": [
    "This concludes our definitions for `GUIFuzzer`.  We can now put it to use, enabling its logging mechanisms to see what it is doing."
   ]
  },
  {
   "cell_type": "code",
   "execution_count": 131,
   "metadata": {
    "slideshow": {
     "slide_type": "fragment"
    }
   },
   "outputs": [],
   "source": [
    "gui_driver.get(httpd_url)"
   ]
  },
  {
   "cell_type": "code",
   "execution_count": 132,
   "metadata": {
    "slideshow": {
     "slide_type": "fragment"
    }
   },
   "outputs": [],
   "source": [
    "gui_fuzzer = GUIFuzzer(gui_driver, log_gui_exploration=True, disp_gui_exploration=True)"
   ]
  },
  {
   "cell_type": "markdown",
   "metadata": {
    "slideshow": {
     "slide_type": "fragment"
    }
   },
   "source": [
    "Running it the first time yields a new state:"
   ]
  },
  {
   "cell_type": "code",
   "execution_count": 133,
   "metadata": {
    "slideshow": {
     "slide_type": "fragment"
    }
   },
   "outputs": [
    {
     "name": "stdout",
     "output_type": "stream",
     "text": [
      "Action  -> <end>\n"
     ]
    },
    {
     "data": {
      "text/plain": [
       "('<end>', 'PASS')"
      ]
     },
     "execution_count": 133,
     "metadata": {},
     "output_type": "execute_result"
    }
   ],
   "source": [
    "gui_fuzzer.run(gui_runner)"
   ]
  },
  {
   "cell_type": "markdown",
   "metadata": {
    "slideshow": {
     "slide_type": "fragment"
    }
   },
   "source": [
    "The next actions fill out the order form."
   ]
  },
  {
   "cell_type": "code",
   "execution_count": 134,
   "metadata": {
    "slideshow": {
     "slide_type": "fragment"
    }
   },
   "outputs": [
    {
     "name": "stdout",
     "output_type": "stream",
     "text": [
      "Action  -> <end>\n"
     ]
    },
    {
     "data": {
      "text/plain": [
       "('<end>', 'PASS')"
      ]
     },
     "execution_count": 134,
     "metadata": {},
     "output_type": "execute_result"
    }
   ],
   "source": [
    "gui_fuzzer.run(gui_runner)"
   ]
  },
  {
   "cell_type": "code",
   "execution_count": 135,
   "metadata": {
    "slideshow": {
     "slide_type": "subslide"
    }
   },
   "outputs": [
    {
     "name": "stdout",
     "output_type": "stream",
     "text": [
      "Action fill('email', 'Uug@P')\n",
      "fill('name', 's9.')\n",
      "fill('zip', '5')\n",
      "fill('city', 'i')\n",
      "check('terms', False)\n",
      "submit('submit') -> <state-2>\n"
     ]
    },
    {
     "data": {
      "image/png": "[encoded data removed]",
      "text/plain": [
       "<IPython.core.display.Image object>"
      ]
     },
     "metadata": {},
     "output_type": "display_data"
    },
    {
     "name": "stdout",
     "output_type": "stream",
     "text": [
      "In new state <state-2> frozenset({\"click('order form')\"})\n"
     ]
    },
    {
     "data": {
      "image/svg+xml": [
       "<?xml version=\"1.0\" encoding=\"UTF-8\" standalone=\"no\"?>\n",
       "<!DOCTYPE svg PUBLIC \"-//W3C//DTD SVG 1.1//EN\"\n",
       " \"http://www.w3.org/Graphics/SVG/1.1/DTD/svg11.dtd\">\n",
       "<!-- Generated by graphviz version 2.40.1 (20161225.0304)\n",
       " -->\n",
       "<!-- Title: %3 Pages: 1 -->\n",
       "<svg width=\"402pt\" height=\"460pt\"\n",
       " viewBox=\"0.00 0.00 401.89 460.00\" xmlns=\"http://www.w3.org/2000/svg\" xmlns:xlink=\"http://www.w3.org/1999/xlink\">\n",
       "<g id=\"graph0\" class=\"graph\" transform=\"scale(1 1) rotate(0) translate(4 456)\">\n",
       "<title>%3</title>\n",
       "<polygon fill=\"#ffffff\" stroke=\"transparent\" points=\"-4,4 -4,-456 397.8873,-456 397.8873,4 -4,4\"/>\n",
       "<!-- start -->\n",
       "<g id=\"node1\" class=\"node\">\n",
       "<title>start</title>\n",
       "<ellipse fill=\"none\" stroke=\"#000000\" cx=\"220.496\" cy=\"-434\" rx=\"36.2938\" ry=\"18\"/>\n",
       "<text text-anchor=\"middle\" x=\"220.496\" y=\"-430.3\" font-family=\"Times,serif\" font-size=\"14.00\" fill=\"#000000\">&lt;start&gt;</text>\n",
       "</g>\n",
       "<!-- state -->\n",
       "<g id=\"node2\" class=\"node\">\n",
       "<title>state</title>\n",
       "<ellipse fill=\"none\" stroke=\"#000000\" cx=\"220.496\" cy=\"-361\" rx=\"37.8943\" ry=\"18\"/>\n",
       "<text text-anchor=\"middle\" x=\"220.496\" y=\"-357.3\" font-family=\"Times,serif\" font-size=\"14.00\" fill=\"#000000\">&lt;state&gt;</text>\n",
       "</g>\n",
       "<!-- start&#45;&gt;state -->\n",
       "<g id=\"edge1\" class=\"edge\">\n",
       "<title>start&#45;&gt;state</title>\n",
       "<path fill=\"none\" stroke=\"#000000\" d=\"M220.496,-415.9551C220.496,-407.8828 220.496,-398.1764 220.496,-389.1817\"/>\n",
       "<polygon fill=\"#000000\" stroke=\"#000000\" points=\"223.9961,-389.0903 220.496,-379.0904 216.9961,-389.0904 223.9961,-389.0903\"/>\n",
       "</g>\n",
       "<!-- state&#45;1 -->\n",
       "<g id=\"node3\" class=\"node\">\n",
       "<title>state&#45;1</title>\n",
       "<ellipse fill=\"none\" stroke=\"#000000\" cx=\"45.496\" cy=\"-145\" rx=\"45.4919\" ry=\"18\"/>\n",
       "<text text-anchor=\"middle\" x=\"45.496\" y=\"-141.3\" font-family=\"Times,serif\" font-size=\"14.00\" fill=\"#000000\">&lt;state&#45;1&gt;</text>\n",
       "</g>\n",
       "<!-- state&#45;&gt;state&#45;1 -->\n",
       "<g id=\"edge2\" class=\"edge\">\n",
       "<title>state&#45;&gt;state&#45;1</title>\n",
       "<path fill=\"none\" stroke=\"#000000\" d=\"M183.1059,-357.8661C140.1638,-353.4266 73.5529,-343.6811 57.496,-325 21.1079,-282.6649 29.5735,-212.0225 38.0734,-173.0142\"/>\n",
       "<polygon fill=\"#000000\" stroke=\"#000000\" points=\"41.5693,-173.4344 40.4344,-162.9005 34.7526,-171.843 41.5693,-173.4344\"/>\n",
       "<text text-anchor=\"start\" x=\"57.496\" y=\"-276.3\" font-family=\"Times,serif\" font-size=\"14.00\" fill=\"#000000\">click(&#39;terms and conditions&#39;)</text>\n",
       "</g>\n",
       "<!-- state&#45;2 -->\n",
       "<g id=\"node4\" class=\"node\">\n",
       "<title>state&#45;2</title>\n",
       "<ellipse fill=\"none\" stroke=\"#000000\" cx=\"220.496\" cy=\"-199\" rx=\"45.4919\" ry=\"18\"/>\n",
       "<text text-anchor=\"middle\" x=\"220.496\" y=\"-195.3\" font-family=\"Times,serif\" font-size=\"14.00\" fill=\"#000000\">&lt;state&#45;2&gt;</text>\n",
       "</g>\n",
       "<!-- state&#45;&gt;state&#45;2 -->\n",
       "<g id=\"edge3\" class=\"edge\">\n",
       "<title>state&#45;&gt;state&#45;2</title>\n",
       "<path fill=\"none\" stroke=\"#000000\" d=\"M220.496,-342.7314C220.496,-314.778 220.496,-261.1418 220.496,-227.882\"/>\n",
       "<polygon fill=\"#000000\" stroke=\"#000000\" points=\"223.9961,-227.4503 220.496,-217.4503 216.9961,-227.4504 223.9961,-227.4503\"/>\n",
       "<text text-anchor=\"start\" x=\"220.496\" y=\"-313.8\" font-family=\"Times,serif\" font-size=\"14.00\" fill=\"#000000\">fill(&#39;email&#39;, &#39;&lt;email&gt;&#39;)</text>\n",
       "<text text-anchor=\"start\" x=\"220.496\" y=\"-298.8\" font-family=\"Times,serif\" font-size=\"14.00\" fill=\"#000000\">fill(&#39;name&#39;, &#39;&lt;text&gt;&#39;)</text>\n",
       "<text text-anchor=\"start\" x=\"220.496\" y=\"-283.8\" font-family=\"Times,serif\" font-size=\"14.00\" fill=\"#000000\">fill(&#39;zip&#39;, &#39;&lt;number&gt;&#39;)</text>\n",
       "<text text-anchor=\"start\" x=\"220.496\" y=\"-268.8\" font-family=\"Times,serif\" font-size=\"14.00\" fill=\"#000000\">fill(&#39;city&#39;, &#39;&lt;text&gt;&#39;)</text>\n",
       "<text text-anchor=\"start\" x=\"220.496\" y=\"-253.8\" font-family=\"Times,serif\" font-size=\"14.00\" fill=\"#000000\">check(&#39;terms&#39;, &lt;boolean&gt;)</text>\n",
       "<text text-anchor=\"start\" x=\"220.496\" y=\"-238.8\" font-family=\"Times,serif\" font-size=\"14.00\" fill=\"#000000\">submit(&#39;submit&#39;)</text>\n",
       "</g>\n",
       "<!-- end -->\n",
       "<g id=\"node5\" class=\"node\">\n",
       "<title>end</title>\n",
       "<ellipse fill=\"none\" stroke=\"#000000\" cx=\"357.496\" cy=\"-91\" rx=\"34.394\" ry=\"18\"/>\n",
       "<text text-anchor=\"middle\" x=\"357.496\" y=\"-87.3\" font-family=\"Times,serif\" font-size=\"14.00\" fill=\"#000000\">&lt;end&gt;</text>\n",
       "</g>\n",
       "<!-- state&#45;&gt;end -->\n",
       "<g id=\"edge4\" class=\"edge\">\n",
       "<title>state&#45;&gt;end</title>\n",
       "<path fill=\"none\" stroke=\"#000000\" d=\"M257.5882,-357.097C296.5689,-352.14 354.0742,-342.1054 367.496,-325 414.9676,-264.4999 386.8411,-165.6801 368.9059,-118.178\"/>\n",
       "<polygon fill=\"#000000\" stroke=\"#000000\" points=\"372.0569,-116.6254 365.1564,-108.5859 365.5373,-119.1739 372.0569,-116.6254\"/>\n",
       "</g>\n",
       "<!-- unexplored -->\n",
       "<g id=\"node6\" class=\"node\">\n",
       "<title>unexplored</title>\n",
       "<ellipse fill=\"none\" stroke=\"#000000\" cx=\"111.496\" cy=\"-18\" rx=\"61.99\" ry=\"18\"/>\n",
       "<text text-anchor=\"middle\" x=\"111.496\" y=\"-14.3\" font-family=\"Times,serif\" font-size=\"14.00\" fill=\"#000000\">&lt;unexplored&gt;</text>\n",
       "</g>\n",
       "<!-- state&#45;1&#45;&gt;unexplored -->\n",
       "<g id=\"edge5\" class=\"edge\">\n",
       "<title>state&#45;1&#45;&gt;unexplored</title>\n",
       "<path fill=\"none\" stroke=\"#000000\" d=\"M54.673,-127.3412C65.7912,-105.947 84.6348,-69.6875 97.5521,-44.8314\"/>\n",
       "<polygon fill=\"#000000\" stroke=\"#000000\" points=\"100.6784,-46.4056 102.1841,-35.9182 94.4671,-43.1776 100.6784,-46.4056\"/>\n",
       "</g>\n",
       "<!-- state&#45;2&#45;&gt;end -->\n",
       "<g id=\"edge7\" class=\"edge\">\n",
       "<title>state&#45;2&#45;&gt;end</title>\n",
       "<path fill=\"none\" stroke=\"#000000\" d=\"M260.6454,-190.3366C278.9107,-184.85 299.8803,-176.2191 315.496,-163 329.6303,-151.0349 340.1286,-133.0408 347.0942,-118.035\"/>\n",
       "<polygon fill=\"#000000\" stroke=\"#000000\" points=\"350.3763,-119.2645 351.1642,-108.699 343.9595,-116.4671 350.3763,-119.2645\"/>\n",
       "</g>\n",
       "<!-- state&#45;3 -->\n",
       "<g id=\"node7\" class=\"node\">\n",
       "<title>state&#45;3</title>\n",
       "<ellipse fill=\"none\" stroke=\"#000000\" cx=\"186.496\" cy=\"-91\" rx=\"45.4919\" ry=\"18\"/>\n",
       "<text text-anchor=\"middle\" x=\"186.496\" y=\"-87.3\" font-family=\"Times,serif\" font-size=\"14.00\" fill=\"#000000\">&lt;state&#45;3&gt;</text>\n",
       "</g>\n",
       "<!-- state&#45;2&#45;&gt;state&#45;3 -->\n",
       "<g id=\"edge6\" class=\"edge\">\n",
       "<title>state&#45;2&#45;&gt;state&#45;3</title>\n",
       "<path fill=\"none\" stroke=\"#000000\" d=\"M214.7283,-180.6793C209.3719,-163.6649 201.3227,-138.0967 195.1877,-118.6091\"/>\n",
       "<polygon fill=\"#000000\" stroke=\"#000000\" points=\"198.5198,-117.5376 192.1784,-109.0502 191.8429,-119.6397 198.5198,-117.5376\"/>\n",
       "<text text-anchor=\"start\" x=\"209.496\" y=\"-141.3\" font-family=\"Times,serif\" font-size=\"14.00\" fill=\"#000000\">click(&#39;order form&#39;)</text>\n",
       "</g>\n",
       "<!-- state&#45;3&#45;&gt;unexplored -->\n",
       "<g id=\"edge8\" class=\"edge\">\n",
       "<title>state&#45;3&#45;&gt;unexplored</title>\n",
       "<path fill=\"none\" stroke=\"#000000\" d=\"M169.1009,-74.0688C159.4903,-64.7145 147.3783,-52.9255 136.7434,-42.5742\"/>\n",
       "<polygon fill=\"#000000\" stroke=\"#000000\" points=\"138.9247,-39.8131 129.3175,-35.3463 134.0422,-44.8293 138.9247,-39.8131\"/>\n",
       "</g>\n",
       "</g>\n",
       "</svg>\n"
      ],
      "text/plain": [
       "<graphviz.dot.Digraph at 0x115f35908>"
      ]
     },
     "metadata": {},
     "output_type": "display_data"
    },
    {
     "data": {
      "text/plain": [
       "None"
      ]
     },
     "metadata": {},
     "output_type": "display_data"
    },
    {
     "data": {
      "text/plain": [
       "('<state-2>', 'PASS')"
      ]
     },
     "execution_count": 135,
     "metadata": {},
     "output_type": "execute_result"
    }
   ],
   "source": [
    "gui_fuzzer.run(gui_runner)"
   ]
  },
  {
   "cell_type": "markdown",
   "metadata": {
    "slideshow": {
     "slide_type": "subslide"
    }
   },
   "source": [
    "At this point, our GUI model is fairly complete already.  In order to systematically cover _all_ states, random exploration is not efficient enough, though."
   ]
  },
  {
   "cell_type": "markdown",
   "metadata": {
    "slideshow": {
     "slide_type": "slide"
    }
   },
   "source": [
    "## Covering States\n",
    "\n",
    "During exploration as well as during testing, we want to _cover_ all states and transitions between states.  How can we achieve this?"
   ]
  },
  {
   "cell_type": "markdown",
   "metadata": {
    "slideshow": {
     "slide_type": "fragment"
    }
   },
   "source": [
    "It turns out that _we already have this._  Our `GrammarCoverageFuzzer` from the [chapter on coverage-based grammar testing](GrammarCoverageFuzzer.ipynb) strives to systematically _cover all expansion alternatives_ in a grammar.  In the finite state model, these expansion alternatives translate into transitions between states.  Hence, applying the coverage strategy from `GrammarCoverageFuzzer` to our state grammars would automatically cover one transition after another."
   ]
  },
  {
   "cell_type": "markdown",
   "metadata": {
    "slideshow": {
     "slide_type": "subslide"
    }
   },
   "source": [
    "How do we get these features into `GUIFuzzer`?  Using _multiple inheritance_, we can create a class `GUICoverageFuzzer` which combines the `run()` method from `GUIFuzzer` with the coverage choices from `GrammarCoverageFuzzer`."
   ]
  },
  {
   "cell_type": "code",
   "execution_count": 136,
   "metadata": {
    "slideshow": {
     "slide_type": "skip"
    }
   },
   "outputs": [],
   "source": [
    "from GrammarCoverageFuzzer import GrammarCoverageFuzzer"
   ]
  },
  {
   "cell_type": "code",
   "execution_count": 137,
   "metadata": {
    "slideshow": {
     "slide_type": "skip"
    }
   },
   "outputs": [],
   "source": [
    "from fuzzingbook_utils import inheritance_conflicts"
   ]
  },
  {
   "cell_type": "markdown",
   "metadata": {
    "slideshow": {
     "slide_type": "fragment"
    }
   },
   "source": [
    "Since the `__init__()` constructor is defined in both superclasses, we need to define our own constructor that serves both:"
   ]
  },
  {
   "cell_type": "code",
   "execution_count": 138,
   "metadata": {
    "slideshow": {
     "slide_type": "fragment"
    }
   },
   "outputs": [
    {
     "data": {
      "text/plain": [
       "['__init__']"
      ]
     },
     "execution_count": 138,
     "metadata": {},
     "output_type": "execute_result"
    }
   ],
   "source": [
    "inheritance_conflicts(GUIFuzzer, GrammarCoverageFuzzer)"
   ]
  },
  {
   "cell_type": "code",
   "execution_count": 139,
   "metadata": {
    "slideshow": {
     "slide_type": "fragment"
    }
   },
   "outputs": [],
   "source": [
    "class GUICoverageFuzzer(GUIFuzzer, GrammarCoverageFuzzer):\n",
    "    def __init__(self, *args, **kwargs):\n",
    "        GUIFuzzer.__init__(self, *args, **kwargs)\n",
    "        self.reset_coverage()"
   ]
  },
  {
   "cell_type": "markdown",
   "metadata": {
    "slideshow": {
     "slide_type": "fragment"
    }
   },
   "source": [
    "With `GUICoverageFuzzer`, we can set up a method `explore_all()` that keeps on running the fuzzer until there are no unexplored states anymore:"
   ]
  },
  {
   "cell_type": "code",
   "execution_count": 140,
   "metadata": {
    "slideshow": {
     "slide_type": "subslide"
    }
   },
   "outputs": [],
   "source": [
    "class GUICoverageFuzzer(GUICoverageFuzzer):            \n",
    "    def explore_all(self, runner, max_actions=100):\n",
    "        actions = 0\n",
    "        while GUIGrammarMiner.UNEXPLORED_STATE in self.grammar and actions < max_actions:\n",
    "            actions += 1\n",
    "            if self.log_gui_exploration:\n",
    "                print(\"Run #\" + repr(actions))\n",
    "            try:\n",
    "                self.run(runner)\n",
    "            except ElementClickInterceptedException:\n",
    "                pass\n",
    "            except ElementNotInteractableException:\n",
    "                pass\n",
    "            except NoSuchElementException:\n",
    "                pass"
   ]
  },
  {
   "cell_type": "markdown",
   "metadata": {
    "slideshow": {
     "slide_type": "subslide"
    }
   },
   "source": [
    "Let us use this to fully explore our Web server:"
   ]
  },
  {
   "cell_type": "code",
   "execution_count": 141,
   "metadata": {
    "slideshow": {
     "slide_type": "fragment"
    }
   },
   "outputs": [],
   "source": [
    "gui_driver.get(httpd_url)"
   ]
  },
  {
   "cell_type": "code",
   "execution_count": 142,
   "metadata": {
    "slideshow": {
     "slide_type": "fragment"
    }
   },
   "outputs": [],
   "source": [
    "gui_fuzzer = GUICoverageFuzzer(gui_driver)"
   ]
  },
  {
   "cell_type": "code",
   "execution_count": 143,
   "metadata": {
    "slideshow": {
     "slide_type": "fragment"
    }
   },
   "outputs": [],
   "source": [
    "gui_fuzzer.explore_all(gui_runner)"
   ]
  },
  {
   "cell_type": "markdown",
   "metadata": {
    "slideshow": {
     "slide_type": "fragment"
    }
   },
   "source": [
    "Success! We have covered all states:"
   ]
  },
  {
   "cell_type": "code",
   "execution_count": 144,
   "metadata": {
    "slideshow": {
     "slide_type": "fragment"
    }
   },
   "outputs": [
    {
     "data": {
      "image/svg+xml": [
       "<?xml version=\"1.0\" encoding=\"UTF-8\" standalone=\"no\"?>\n",
       "<!DOCTYPE svg PUBLIC \"-//W3C//DTD SVG 1.1//EN\"\n",
       " \"http://www.w3.org/Graphics/SVG/1.1/DTD/svg11.dtd\">\n",
       "<!-- Generated by graphviz version 2.40.1 (20161225.0304)\n",
       " -->\n",
       "<!-- Title: %3 Pages: 1 -->\n",
       "<svg width=\"620pt\" height=\"352pt\"\n",
       " viewBox=\"0.00 0.00 620.29 352.00\" xmlns=\"http://www.w3.org/2000/svg\" xmlns:xlink=\"http://www.w3.org/1999/xlink\">\n",
       "<g id=\"graph0\" class=\"graph\" transform=\"scale(1 1) rotate(0) translate(4 348)\">\n",
       "<title>%3</title>\n",
       "<polygon fill=\"#ffffff\" stroke=\"transparent\" points=\"-4,4 -4,-348 616.2856,-348 616.2856,4 -4,4\"/>\n",
       "<!-- start -->\n",
       "<g id=\"node1\" class=\"node\">\n",
       "<title>start</title>\n",
       "<ellipse fill=\"none\" stroke=\"#000000\" cx=\"325.559\" cy=\"-326\" rx=\"36.2938\" ry=\"18\"/>\n",
       "<text text-anchor=\"middle\" x=\"325.559\" y=\"-322.3\" font-family=\"Times,serif\" font-size=\"14.00\" fill=\"#000000\">&lt;start&gt;</text>\n",
       "</g>\n",
       "<!-- state -->\n",
       "<g id=\"node2\" class=\"node\">\n",
       "<title>state</title>\n",
       "<ellipse fill=\"none\" stroke=\"#000000\" cx=\"325.559\" cy=\"-253\" rx=\"37.8943\" ry=\"18\"/>\n",
       "<text text-anchor=\"middle\" x=\"325.559\" y=\"-249.3\" font-family=\"Times,serif\" font-size=\"14.00\" fill=\"#000000\">&lt;state&gt;</text>\n",
       "</g>\n",
       "<!-- start&#45;&gt;state -->\n",
       "<g id=\"edge1\" class=\"edge\">\n",
       "<title>start&#45;&gt;state</title>\n",
       "<path fill=\"none\" stroke=\"#000000\" d=\"M325.559,-307.9551C325.559,-299.8828 325.559,-290.1764 325.559,-281.1817\"/>\n",
       "<polygon fill=\"#000000\" stroke=\"#000000\" points=\"329.0591,-281.0903 325.559,-271.0904 322.0591,-281.0904 329.0591,-281.0903\"/>\n",
       "</g>\n",
       "<!-- state&#45;1 -->\n",
       "<g id=\"node3\" class=\"node\">\n",
       "<title>state&#45;1</title>\n",
       "<ellipse fill=\"none\" stroke=\"#000000\" cx=\"200.559\" cy=\"-91\" rx=\"45.4919\" ry=\"18\"/>\n",
       "<text text-anchor=\"middle\" x=\"200.559\" y=\"-87.3\" font-family=\"Times,serif\" font-size=\"14.00\" fill=\"#000000\">&lt;state&#45;1&gt;</text>\n",
       "</g>\n",
       "<!-- state&#45;&gt;state&#45;1 -->\n",
       "<g id=\"edge2\" class=\"edge\">\n",
       "<title>state&#45;&gt;state&#45;1</title>\n",
       "<path fill=\"none\" stroke=\"#000000\" d=\"M287.9696,-251.326C210.145,-247.4741 37.132,-236.7616 19.559,-217 -7.0216,-187.109 -5.817,-157.9202 19.559,-127 35.276,-107.8491 98.0593,-98.6985 145.3065,-94.4548\"/>\n",
       "<polygon fill=\"#000000\" stroke=\"#000000\" points=\"145.7619,-97.9289 155.4311,-93.5979 145.1715,-90.9538 145.7619,-97.9289\"/>\n",
       "<text text-anchor=\"start\" x=\"19.559\" y=\"-168.3\" font-family=\"Times,serif\" font-size=\"14.00\" fill=\"#000000\">click(&#39;terms and conditions&#39;)</text>\n",
       "</g>\n",
       "<!-- state&#45;2 -->\n",
       "<g id=\"node4\" class=\"node\">\n",
       "<title>state&#45;2</title>\n",
       "<ellipse fill=\"none\" stroke=\"#000000\" cx=\"409.559\" cy=\"-91\" rx=\"45.4919\" ry=\"18\"/>\n",
       "<text text-anchor=\"middle\" x=\"409.559\" y=\"-87.3\" font-family=\"Times,serif\" font-size=\"14.00\" fill=\"#000000\">&lt;state&#45;2&gt;</text>\n",
       "</g>\n",
       "<!-- state&#45;&gt;state&#45;2 -->\n",
       "<g id=\"edge3\" class=\"edge\">\n",
       "<title>state&#45;&gt;state&#45;2</title>\n",
       "<path fill=\"none\" stroke=\"#000000\" d=\"M320.0242,-234.9601C313.1594,-208.7877 304.8239,-159.834 326.559,-127 334.0896,-115.6239 346.0651,-107.8231 358.6022,-102.4812\"/>\n",
       "<polygon fill=\"#000000\" stroke=\"#000000\" points=\"360.1077,-105.6543 368.2346,-98.8569 357.6426,-99.1027 360.1077,-105.6543\"/>\n",
       "<text text-anchor=\"start\" x=\"326.559\" y=\"-205.8\" font-family=\"Times,serif\" font-size=\"14.00\" fill=\"#000000\">fill(&#39;email&#39;, &#39;&lt;email&gt;&#39;)</text>\n",
       "<text text-anchor=\"start\" x=\"326.559\" y=\"-190.8\" font-family=\"Times,serif\" font-size=\"14.00\" fill=\"#000000\">fill(&#39;name&#39;, &#39;&lt;text&gt;&#39;)</text>\n",
       "<text text-anchor=\"start\" x=\"326.559\" y=\"-175.8\" font-family=\"Times,serif\" font-size=\"14.00\" fill=\"#000000\">fill(&#39;zip&#39;, &#39;&lt;number&gt;&#39;)</text>\n",
       "<text text-anchor=\"start\" x=\"326.559\" y=\"-160.8\" font-family=\"Times,serif\" font-size=\"14.00\" fill=\"#000000\">fill(&#39;city&#39;, &#39;&lt;text&gt;&#39;)</text>\n",
       "<text text-anchor=\"start\" x=\"326.559\" y=\"-145.8\" font-family=\"Times,serif\" font-size=\"14.00\" fill=\"#000000\">check(&#39;terms&#39;, &lt;boolean&gt;)</text>\n",
       "<text text-anchor=\"start\" x=\"326.559\" y=\"-130.8\" font-family=\"Times,serif\" font-size=\"14.00\" fill=\"#000000\">submit(&#39;submit&#39;)</text>\n",
       "</g>\n",
       "<!-- end -->\n",
       "<g id=\"node5\" class=\"node\">\n",
       "<title>end</title>\n",
       "<ellipse fill=\"none\" stroke=\"#000000\" cx=\"409.559\" cy=\"-18\" rx=\"34.394\" ry=\"18\"/>\n",
       "<text text-anchor=\"middle\" x=\"409.559\" y=\"-14.3\" font-family=\"Times,serif\" font-size=\"14.00\" fill=\"#000000\">&lt;end&gt;</text>\n",
       "</g>\n",
       "<!-- state&#45;&gt;end -->\n",
       "<g id=\"edge4\" class=\"edge\">\n",
       "<title>state&#45;&gt;end</title>\n",
       "<path fill=\"none\" stroke=\"#000000\" d=\"M363.147,-250.6776C433.5438,-245.9431 579.5487,-234.1529 594.559,-217 620.9007,-186.8982 614.4058,-161.729 594.559,-127 563.7784,-73.1385 494.8403,-43.2426 450.3606,-28.9147\"/>\n",
       "<polygon fill=\"#000000\" stroke=\"#000000\" points=\"451.3032,-25.5427 440.7153,-25.9273 449.2321,-32.2293 451.3032,-25.5427\"/>\n",
       "</g>\n",
       "<!-- state&#45;1&#45;&gt;state -->\n",
       "<g id=\"edge5\" class=\"edge\">\n",
       "<title>state&#45;1&#45;&gt;state</title>\n",
       "<path fill=\"none\" stroke=\"#000000\" d=\"M195.3433,-109.0438C188.8335,-135.6645 181.2799,-185.6845 205.559,-217 214.9283,-229.0847 250.2054,-238.7545 280.1047,-245.0166\"/>\n",
       "<polygon fill=\"#000000\" stroke=\"#000000\" points=\"279.4988,-248.4648 289.9931,-247.0082 280.881,-241.6026 279.4988,-248.4648\"/>\n",
       "<text text-anchor=\"start\" x=\"205.559\" y=\"-168.3\" font-family=\"Times,serif\" font-size=\"14.00\" fill=\"#000000\">click(&#39;order form&#39;)</text>\n",
       "</g>\n",
       "<!-- state&#45;1&#45;&gt;end -->\n",
       "<g id=\"edge6\" class=\"edge\">\n",
       "<title>state&#45;1&#45;&gt;end</title>\n",
       "<path fill=\"none\" stroke=\"#000000\" d=\"M235.0711,-78.9455C272.4281,-65.8974 331.8696,-45.1355 370.805,-31.5361\"/>\n",
       "<polygon fill=\"#000000\" stroke=\"#000000\" points=\"372.4347,-34.6743 380.7213,-28.0725 370.1265,-28.0658 372.4347,-34.6743\"/>\n",
       "</g>\n",
       "<!-- state&#45;2&#45;&gt;state -->\n",
       "<g id=\"edge7\" class=\"edge\">\n",
       "<title>state&#45;2&#45;&gt;state</title>\n",
       "<path fill=\"none\" stroke=\"#000000\" d=\"M444.5179,-102.8416C455.4594,-108.3858 466.2993,-116.2134 472.559,-127 492.6361,-161.5964 497.2512,-185.531 472.559,-217 460.2382,-232.7022 410.7697,-242.4461 372.5835,-247.7735\"/>\n",
       "<polygon fill=\"#000000\" stroke=\"#000000\" points=\"372.1013,-244.3067 362.6512,-249.097 373.0259,-251.2454 372.1013,-244.3067\"/>\n",
       "<text text-anchor=\"start\" x=\"488.559\" y=\"-168.3\" font-family=\"Times,serif\" font-size=\"14.00\" fill=\"#000000\">click(&#39;order form&#39;)</text>\n",
       "</g>\n",
       "<!-- state&#45;2&#45;&gt;end -->\n",
       "<g id=\"edge8\" class=\"edge\">\n",
       "<title>state&#45;2&#45;&gt;end</title>\n",
       "<path fill=\"none\" stroke=\"#000000\" d=\"M409.559,-72.9551C409.559,-64.8828 409.559,-55.1764 409.559,-46.1817\"/>\n",
       "<polygon fill=\"#000000\" stroke=\"#000000\" points=\"413.0591,-46.0903 409.559,-36.0904 406.0591,-46.0904 413.0591,-46.0903\"/>\n",
       "</g>\n",
       "</g>\n",
       "</svg>\n"
      ],
      "text/plain": [
       "<graphviz.dot.Digraph at 0x115e5e6a0>"
      ]
     },
     "metadata": {},
     "output_type": "display_data"
    }
   ],
   "source": [
    "fsm_diagram(gui_fuzzer.grammar)"
   ]
  },
  {
   "cell_type": "markdown",
   "metadata": {
    "slideshow": {
     "slide_type": "fragment"
    }
   },
   "source": [
    "We can retrieve the expansions covered so far, which of course cover all states."
   ]
  },
  {
   "cell_type": "code",
   "execution_count": 145,
   "metadata": {
    "slideshow": {
     "slide_type": "subslide"
    }
   },
   "outputs": [
    {
     "data": {
      "text/plain": [
       "{'<boolean> -> False',\n",
       " '<boolean> -> True',\n",
       " '<character> -> <digit>',\n",
       " '<character> -> <letter>',\n",
       " '<character> -> <special>',\n",
       " '<digit> -> 1',\n",
       " '<digit> -> 2',\n",
       " '<digit> -> 3',\n",
       " '<digit> -> 6',\n",
       " '<digit> -> 8',\n",
       " '<digits> -> <digit>',\n",
       " '<digits> -> <digits><digit>',\n",
       " '<email> -> <letters>@<letters>',\n",
       " '<end> -> ',\n",
       " '<letter> -> L',\n",
       " '<letter> -> N',\n",
       " '<letter> -> P',\n",
       " '<letter> -> T',\n",
       " '<letter> -> U',\n",
       " '<letter> -> V',\n",
       " '<letter> -> e',\n",
       " '<letter> -> g',\n",
       " '<letter> -> l',\n",
       " '<letter> -> n',\n",
       " '<letter> -> t',\n",
       " '<letter> -> u',\n",
       " '<letter> -> v',\n",
       " '<letter> -> w',\n",
       " '<letters> -> <letter>',\n",
       " '<letters> -> <letters><letter>',\n",
       " '<number> -> <digits>',\n",
       " '<special> ->  ',\n",
       " '<start> -> <state>',\n",
       " '<state-1> -> <unexplored>',\n",
       " \"<state-1> -> click('order form')\\n<state-4>\",\n",
       " '<state-2> -> <unexplored>',\n",
       " \"<state-2> -> click('order form')\\n<state-3>\",\n",
       " '<state-3> -> <unexplored>',\n",
       " '<state-4> -> <unexplored>',\n",
       " '<state> -> <end>',\n",
       " \"<state> -> click('terms and conditions')\\n<state-1>\",\n",
       " \"<state> -> fill('email', '<email>')\\nfill('name', '<text>')\\nfill('zip', '<number>')\\nfill('city', '<text>')\\ncheck('terms', <boolean>)\\nsubmit('submit')\\n<state-2>\",\n",
       " '<string> -> <character>',\n",
       " '<string> -> <string><character>',\n",
       " '<text> -> <string>',\n",
       " '<unexplored> -> '}"
      ]
     },
     "execution_count": 145,
     "metadata": {},
     "output_type": "execute_result"
    }
   ],
   "source": [
    "gui_fuzzer.covered_expansions"
   ]
  },
  {
   "cell_type": "markdown",
   "metadata": {
    "slideshow": {
     "slide_type": "subslide"
    }
   },
   "source": [
    "Still, we haven't seen all expansions covered.  A few digits and letters remain to be used."
   ]
  },
  {
   "cell_type": "code",
   "execution_count": 146,
   "metadata": {
    "slideshow": {
     "slide_type": "subslide"
    }
   },
   "outputs": [
    {
     "data": {
      "text/plain": [
       "{'<digit> -> 0',\n",
       " '<digit> -> 4',\n",
       " '<digit> -> 5',\n",
       " '<digit> -> 7',\n",
       " '<digit> -> 9',\n",
       " '<letter> -> A',\n",
       " '<letter> -> B',\n",
       " '<letter> -> C',\n",
       " '<letter> -> D',\n",
       " '<letter> -> E',\n",
       " '<letter> -> F',\n",
       " '<letter> -> G',\n",
       " '<letter> -> H',\n",
       " '<letter> -> I',\n",
       " '<letter> -> J',\n",
       " '<letter> -> K',\n",
       " '<letter> -> M',\n",
       " '<letter> -> O',\n",
       " '<letter> -> Q',\n",
       " '<letter> -> R',\n",
       " '<letter> -> S',\n",
       " '<letter> -> W',\n",
       " '<letter> -> X',\n",
       " '<letter> -> Y',\n",
       " '<letter> -> Z',\n",
       " '<letter> -> a',\n",
       " '<letter> -> b',\n",
       " '<letter> -> c',\n",
       " '<letter> -> d',\n",
       " '<letter> -> f',\n",
       " '<letter> -> h',\n",
       " '<letter> -> i',\n",
       " '<letter> -> j',\n",
       " '<letter> -> k',\n",
       " '<letter> -> m',\n",
       " '<letter> -> o',\n",
       " '<letter> -> p',\n",
       " '<letter> -> q',\n",
       " '<letter> -> r',\n",
       " '<letter> -> s',\n",
       " '<letter> -> x',\n",
       " '<letter> -> y',\n",
       " '<letter> -> z',\n",
       " '<special> -> !',\n",
       " '<special> -> .',\n",
       " '<state-1> -> <end>',\n",
       " \"<state-1> -> click('order form')\\n<state>\",\n",
       " '<state-2> -> <end>',\n",
       " \"<state-2> -> click('order form')\\n<state>\"}"
      ]
     },
     "execution_count": 146,
     "metadata": {},
     "output_type": "execute_result"
    }
   ],
   "source": [
    "gui_fuzzer.missing_expansion_coverage()"
   ]
  },
  {
   "cell_type": "markdown",
   "metadata": {
    "slideshow": {
     "slide_type": "subslide"
    }
   },
   "source": [
    "Running the fuzzer again and again will eventually cover these expansions too, leading to letter and digit coverage within the order form."
   ]
  },
  {
   "cell_type": "markdown",
   "metadata": {
    "button": false,
    "new_sheet": false,
    "run_control": {
     "read_only": false
    },
    "slideshow": {
     "slide_type": "slide"
    }
   },
   "source": [
    "## Exploring Large Sites\n",
    "\n",
    "Our GUI fuzzer is robust enough to handle exploration even on nontrivial sites such as [fuzzingbook.org](https://www.fuzzingbook.org).  Let us demonstrate this:"
   ]
  },
  {
   "cell_type": "code",
   "execution_count": 147,
   "metadata": {
    "slideshow": {
     "slide_type": "fragment"
    }
   },
   "outputs": [],
   "source": [
    "gui_driver.get(\"https://www.fuzzingbook.org/html/Fuzzer.html\")"
   ]
  },
  {
   "cell_type": "code",
   "execution_count": 148,
   "metadata": {
    "slideshow": {
     "slide_type": "fragment"
    }
   },
   "outputs": [
    {
     "data": {
      "image/png": "[encoded data removed]",
      "text/plain": [
       "<IPython.core.display.Image object>"
      ]
     },
     "execution_count": 148,
     "metadata": {},
     "output_type": "execute_result"
    }
   ],
   "source": [
    "Image(gui_driver.get_screenshot_as_png())"
   ]
  },
  {
   "cell_type": "code",
   "execution_count": 149,
   "metadata": {
    "slideshow": {
     "slide_type": "fragment"
    }
   },
   "outputs": [],
   "source": [
    "book_runner = GUIRunner(gui_driver)"
   ]
  },
  {
   "cell_type": "code",
   "execution_count": 150,
   "metadata": {
    "button": false,
    "new_sheet": false,
    "run_control": {
     "read_only": false
    },
    "slideshow": {
     "slide_type": "subslide"
    }
   },
   "outputs": [],
   "source": [
    "book_fuzzer = GUICoverageFuzzer(gui_driver, log_gui_exploration=True)  # , disp_gui_exploration=True)"
   ]
  },
  {
   "cell_type": "markdown",
   "metadata": {
    "slideshow": {
     "slide_type": "fragment"
    }
   },
   "source": [
    "We explore the first few states of the site, defined in `ACTIONS`:"
   ]
  },
  {
   "cell_type": "code",
   "execution_count": 151,
   "metadata": {
    "slideshow": {
     "slide_type": "fragment"
    }
   },
   "outputs": [],
   "source": [
    "ACTIONS = 5"
   ]
  },
  {
   "cell_type": "code",
   "execution_count": 152,
   "metadata": {
    "slideshow": {
     "slide_type": "subslide"
    }
   },
   "outputs": [
    {
     "name": "stdout",
     "output_type": "stream",
     "text": [
      "Run #1\n",
      "Action click('ExpectError') -> <state-9>\n",
      "Run #2\n",
      "Action click('use grammars to specify the input format and thus get many more valid inputs') -> <state-3>\n",
      "In new state <state-3> frozenset({\"ignore('Holler et al, 2012.')\", \"click('Cite')\", \"click('chapter on coverage')\", \"click('RailroadDiagrams')\", \"click('later in this book')\", \"click('MutationFuzzer')\", \"ignore('Backus-Naur form')\", \"click('Generating Software Tests')\", \"ignore('Imprint')\", \"click('probabilistic grammar fuzzing')\", \"ignore('Domato')\", \"ignore('Last change: 2019-04-02 10:40:00+01:00')\", \"click('next chapter')\", \"ignore('Grammarinator')\", \"ignore('JSON specification')\", \"ignore('Use the notebook')\", \"ignore('itertools')\", \"click('fuzzing functions and APIs')\", \"ignore('Yang et al, 2011.')\", \"click('constraints')\", \"click('create an efficient grammar fuzzer')\", \"ignore('Hanford et al, 1970.')\", \"ignore('Hodov\\xc3\\xa1n et al, 2018.')\", \"click('Chapter introducing fuzzing')\", \"ignore('inspect')\", \"ignore('copy')\", \"ignore('Wikipedia page on file formats')\", \"ignore('LangFuzz')\", \"ignore('')\", \"ignore('ast')\", \"ignore('Dak\\xe1\\xb9\\xa3iputra P\\xc4\\x81\\xe1\\xb9\\x87ini, 350 BCE.')\", \"click('our chapter on coverage-based fuzzing')\", \"ignore('Burkhardt et al, 1967.')\", \"click('basic fuzzing')\", \"ignore('Le et al, 2014.')\", \"ignore('random')\", \"ignore('IPython.display')\", \"click('')\", \"ignore('Purdom et al, 1972.')\", \"ignore('CSmith')\", \"ignore('string')\", \"click('probabilities')\", \"click('Fuzzer')\", \"click('&quot;Mutation-Based Fuzzing&quot;')\", \"ignore('fuzzingbook_utils')\", \"click('fuzz configurations')\", \"ignore('sys')\", \"ignore('Chomsky et al, 1956.')\", \"click('mutation-based fuzzing')\", \"ignore('EMI Project')\", \"click('coverage')\", \"ignore('MIT License')\", \"click('fuzzing graphical user interfaces')\", \"ignore('Creative Commons Attribution-NonCommercial-ShareAlike 4.0 International License')\", \"ignore('re')\"})\n",
      "Run #3\n",
      "Action click('reduce failing inputs for efficient debugging') -> <state-14>\n",
      "Run #4\n",
      "Action click('chapter on oracles') -> <state-12>\n",
      "In new state <state-12> frozenset({\"click('Concolic Fuzzing')\", \"click('Mining Function Specifications')\", \"click('Timer')\", \"click('Fuzzing: Breaking Things with Random Inputs')\", \"click('Cite')\", \"click('Mining Input Grammars')\", \"click('Parsing Inputs')\", \"click('Introduction to Software Testing')\", \"click('Fuzzing with Grammars')\", \"click('Sitemap')\", \"click('Symbolic Fuzzing')\", \"click('Generating Software Tests')\", \"click('Testing Graphical User Interfaces')\", \"click('Carving Unit Tests')\", \"ignore('Imprint')\", \"click('Error Handling')\", \"click('Control Flow Graph')\", \"click('Fuzzing with Input Fragments')\", \"click('Railroad Diagrams')\", \"click('Mutation-Based Fuzzing')\", \"click('Tracking Information Flow')\", \"ignore('report an issue')\", \"click('ExpectError')\", \"click('Reducing Failure-Inducing Inputs')\", \"click('home page')\", \"click('Testing Configurations')\", \"click('Getting Coverage')\", \"ignore('')\", \"ignore('follow us on Twitter')\", \"ignore('Last change: 2018-12-20 17:06:00+00:00')\", \"click('Efficient Grammar Fuzzing')\", \"click('Greybox Fuzzing \\xe2\\x80\\xa2')\", \"click('')\", \"click('Testing Web Applications')\", \"click('Search-Based Fuzzing')\", \"click('Fuzzing with Generators')\", \"click('Fuzzing APIs')\", \"ignore('fuzzingbook_utils')\", \"ignore('MIT License')\", \"click('Evaluating Test Effectiveness with Mutation Analysis')\", \"click('Grammar Coverage')\", \"click('Probabilistic Grammar Fuzzing')\", \"click('About this book')\", \"ignore('Creative Commons Attribution-NonCommercial-ShareAlike 4.0 International License')\"})\n",
      "Run #5\n",
      "Action click('Intro_Testing') -> <state-6>\n"
     ]
    }
   ],
   "source": [
    "book_fuzzer.explore_all(book_runner, max_actions=ACTIONS)"
   ]
  },
  {
   "cell_type": "markdown",
   "metadata": {
    "slideshow": {
     "slide_type": "subslide"
    }
   },
   "source": [
    "After the first `ACTIONS` actions already, we can see that the finite state model is quite complex, with dozens of transitions still left to explore.  Most of the yet unexplored states will eventually merge with existing states, yielding one state per chapter.  Still, following _all_ links on _all_ pages will take quite some time."
   ]
  },
  {
   "cell_type": "code",
   "execution_count": 153,
   "metadata": {
    "slideshow": {
     "slide_type": "fragment"
    }
   },
   "outputs": [
    {
     "data": {
      "image/svg+xml": [
       "<?xml version=\"1.0\" encoding=\"UTF-8\" standalone=\"no\"?>\n",
       "<!DOCTYPE svg PUBLIC \"-//W3C//DTD SVG 1.1//EN\"\n",
       " \"http://www.w3.org/Graphics/SVG/1.1/DTD/svg11.dtd\">\n",
       "<!-- Generated by graphviz version 2.40.1 (20161225.0304)\n",
       " -->\n",
       "<!-- Title: %3 Pages: 1 -->\n",
       "<svg width=\"11627pt\" height=\"385pt\"\n",
       " viewBox=\"0.00 0.00 11626.66 385.00\" xmlns=\"http://www.w3.org/2000/svg\" xmlns:xlink=\"http://www.w3.org/1999/xlink\">\n",
       "<g id=\"graph0\" class=\"graph\" transform=\"scale(1 1) rotate(0) translate(4 381)\">\n",
       "<title>%3</title>\n",
       "<polygon fill=\"#ffffff\" stroke=\"transparent\" points=\"-4,4 -4,-381 11622.6623,-381 11622.6623,4 -4,4\"/>\n",
       "<!-- start -->\n",
       "<g id=\"node1\" class=\"node\">\n",
       "<title>start</title>\n",
       "<ellipse fill=\"none\" stroke=\"#000000\" cx=\"4529.496\" cy=\"-359\" rx=\"36.2938\" ry=\"18\"/>\n",
       "<text text-anchor=\"middle\" x=\"4529.496\" y=\"-355.3\" font-family=\"Times,serif\" font-size=\"14.00\" fill=\"#000000\">&lt;start&gt;</text>\n",
       "</g>\n",
       "<!-- state -->\n",
       "<g id=\"node2\" class=\"node\">\n",
       "<title>state</title>\n",
       "<ellipse fill=\"none\" stroke=\"#000000\" cx=\"4529.496\" cy=\"-286\" rx=\"37.8943\" ry=\"18\"/>\n",
       "<text text-anchor=\"middle\" x=\"4529.496\" y=\"-282.3\" font-family=\"Times,serif\" font-size=\"14.00\" fill=\"#000000\">&lt;state&gt;</text>\n",
       "</g>\n",
       "<!-- start&#45;&gt;state -->\n",
       "<g id=\"edge1\" class=\"edge\">\n",
       "<title>start&#45;&gt;state</title>\n",
       "<path fill=\"none\" stroke=\"#000000\" d=\"M4529.496,-340.9551C4529.496,-332.8828 4529.496,-323.1764 4529.496,-314.1817\"/>\n",
       "<polygon fill=\"#000000\" stroke=\"#000000\" points=\"4532.9961,-314.0903 4529.496,-304.0904 4525.9961,-314.0904 4532.9961,-314.0903\"/>\n",
       "</g>\n",
       "<!-- state&#45;1 -->\n",
       "<g id=\"node3\" class=\"node\">\n",
       "<title>state&#45;1</title>\n",
       "<ellipse fill=\"none\" stroke=\"#000000\" cx=\"45.496\" cy=\"-145\" rx=\"45.4919\" ry=\"18\"/>\n",
       "<text text-anchor=\"middle\" x=\"45.496\" y=\"-141.3\" font-family=\"Times,serif\" font-size=\"14.00\" fill=\"#000000\">&lt;state&#45;1&gt;</text>\n",
       "</g>\n",
       "<!-- state&#45;&gt;state&#45;1 -->\n",
       "<g id=\"edge2\" class=\"edge\">\n",
       "<title>state&#45;&gt;state&#45;1</title>\n",
       "<path fill=\"none\" stroke=\"#000000\" d=\"M4491.7443,-285.8246C4139.2422,-284.1144 1418.8854,-269.3337 605.496,-217 377.5915,-202.3366 316.927,-214.7675 94.496,-163 92.0244,-162.4248 89.5074,-161.7601 86.9843,-161.0323\"/>\n",
       "<polygon fill=\"#000000\" stroke=\"#000000\" points=\"87.8967,-157.65 77.3067,-157.9688 85.7841,-164.3236 87.8967,-157.65\"/>\n",
       "<text text-anchor=\"start\" x=\"1482.496\" y=\"-238.8\" font-family=\"Times,serif\" font-size=\"14.00\" fill=\"#000000\">click(&#39;Cite&#39;)</text>\n",
       "</g>\n",
       "<!-- state&#45;2 -->\n",
       "<g id=\"node4\" class=\"node\">\n",
       "<title>state&#45;2</title>\n",
       "<ellipse fill=\"none\" stroke=\"#000000\" cx=\"141.496\" cy=\"-145\" rx=\"45.4919\" ry=\"18\"/>\n",
       "<text text-anchor=\"middle\" x=\"141.496\" y=\"-141.3\" font-family=\"Times,serif\" font-size=\"14.00\" fill=\"#000000\">&lt;state&#45;2&gt;</text>\n",
       "</g>\n",
       "<!-- state&#45;&gt;state&#45;2 -->\n",
       "<g id=\"edge3\" class=\"edge\">\n",
       "<title>state&#45;&gt;state&#45;2</title>\n",
       "<path fill=\"none\" stroke=\"#000000\" d=\"M4491.5292,-285.5997C4290.1403,-283.4163 3326.4157,-272.22 2538.496,-250 2286.1889,-242.8847 519.892,-185.5731 268.496,-163 243.669,-160.7708 216.2725,-157.0496 193.3,-153.5675\"/>\n",
       "<polygon fill=\"#000000\" stroke=\"#000000\" points=\"193.8315,-150.1081 183.4148,-152.0429 192.7645,-157.0263 193.8315,-150.1081\"/>\n",
       "<text text-anchor=\"start\" x=\"2538.496\" y=\"-238.8\" font-family=\"Times,serif\" font-size=\"14.00\" fill=\"#000000\">click(&#39;discussed above&#39;)</text>\n",
       "</g>\n",
       "<!-- state&#45;3 -->\n",
       "<g id=\"node5\" class=\"node\">\n",
       "<title>state&#45;3</title>\n",
       "<ellipse fill=\"none\" stroke=\"#000000\" cx=\"2306.496\" cy=\"-199\" rx=\"45.4919\" ry=\"18\"/>\n",
       "<text text-anchor=\"middle\" x=\"2306.496\" y=\"-195.3\" font-family=\"Times,serif\" font-size=\"14.00\" fill=\"#000000\">&lt;state&#45;3&gt;</text>\n",
       "</g>\n",
       "<!-- state&#45;&gt;state&#45;3 -->\n",
       "<g id=\"edge4\" class=\"edge\">\n",
       "<title>state&#45;&gt;state&#45;3</title>\n",
       "<path fill=\"none\" stroke=\"#000000\" d=\"M4491.7714,-285.5183C4277.332,-282.728 3209.9232,-268.132 2881.496,-250 2689.4603,-239.398 2462.2103,-216.0311 2360.4604,-204.9956\"/>\n",
       "<polygon fill=\"#000000\" stroke=\"#000000\" points=\"2360.7477,-201.5063 2350.4276,-203.9032 2359.99,-208.4652 2360.7477,-201.5063\"/>\n",
       "<text text-anchor=\"start\" x=\"2881.496\" y=\"-238.8\" font-family=\"Times,serif\" font-size=\"14.00\" fill=\"#000000\">click(&#39;use grammars to specify the input format and thus get many more valid inputs&#39;)</text>\n",
       "</g>\n",
       "<!-- state&#45;4 -->\n",
       "<g id=\"node6\" class=\"node\">\n",
       "<title>state&#45;4</title>\n",
       "<ellipse fill=\"none\" stroke=\"#000000\" cx=\"4132.496\" cy=\"-145\" rx=\"45.4919\" ry=\"18\"/>\n",
       "<text text-anchor=\"middle\" x=\"4132.496\" y=\"-141.3\" font-family=\"Times,serif\" font-size=\"14.00\" fill=\"#000000\">&lt;state&#45;4&gt;</text>\n",
       "</g>\n",
       "<!-- state&#45;&gt;state&#45;4 -->\n",
       "<g id=\"edge5\" class=\"edge\">\n",
       "<title>state&#45;&gt;state&#45;4</title>\n",
       "<path fill=\"none\" stroke=\"#000000\" d=\"M4491.5095,-285.492C4298.3676,-282.8213 3433.6413,-269.7735 3414.496,-250 3367.982,-201.96 3107.3271,-258.058 3615.496,-181 3820.858,-149.8592 3878.6046,-202.6439 4082.496,-163 4085.3402,-162.447 4088.2391,-161.7587 4091.1365,-160.9768\"/>\n",
       "<polygon fill=\"#000000\" stroke=\"#000000\" points=\"4092.3449,-164.2678 4100.8996,-158.0174 4090.3143,-157.5688 4092.3449,-164.2678\"/>\n",
       "<text text-anchor=\"start\" x=\"3414.496\" y=\"-238.8\" font-family=\"Times,serif\" font-size=\"14.00\" fill=\"#000000\">click(&#39;Generating Software Tests&#39;)</text>\n",
       "</g>\n",
       "<!-- state&#45;5 -->\n",
       "<g id=\"node7\" class=\"node\">\n",
       "<title>state&#45;5</title>\n",
       "<ellipse fill=\"none\" stroke=\"#000000\" cx=\"4228.496\" cy=\"-145\" rx=\"45.4919\" ry=\"18\"/>\n",
       "<text text-anchor=\"middle\" x=\"4228.496\" y=\"-141.3\" font-family=\"Times,serif\" font-size=\"14.00\" fill=\"#000000\">&lt;state&#45;5&gt;</text>\n",
       "</g>\n",
       "<!-- state&#45;&gt;state&#45;5 -->\n",
       "<g id=\"edge6\" class=\"edge\">\n",
       "<title>state&#45;&gt;state&#45;5</title>\n",
       "<path fill=\"none\" stroke=\"#000000\" d=\"M4491.6843,-285.2133C4321.5799,-281.5869 3634.8527,-265.9762 3619.496,-250 3532.2227,-159.2059 4056.5717,-190.3829 4179.496,-163 4181.9728,-162.4482 4184.4941,-161.8019 4187.0203,-161.0881\"/>\n",
       "<polygon fill=\"#000000\" stroke=\"#000000\" points=\"4188.2063,-164.3845 4196.7058,-158.0593 4186.117,-157.7035 4188.2063,-164.3845\"/>\n",
       "<text text-anchor=\"start\" x=\"3619.496\" y=\"-238.8\" font-family=\"Times,serif\" font-size=\"14.00\" fill=\"#000000\">click(&#39;use mutations on existing inputs to get more valid inputs&#39;)</text>\n",
       "</g>\n",
       "<!-- state&#45;6 -->\n",
       "<g id=\"node8\" class=\"node\">\n",
       "<title>state&#45;6</title>\n",
       "<ellipse fill=\"none\" stroke=\"#000000\" cx=\"4324.496\" cy=\"-145\" rx=\"45.4919\" ry=\"18\"/>\n",
       "<text text-anchor=\"middle\" x=\"4324.496\" y=\"-141.3\" font-family=\"Times,serif\" font-size=\"14.00\" fill=\"#000000\">&lt;state&#45;6&gt;</text>\n",
       "</g>\n",
       "<!-- state&#45;&gt;state&#45;6 -->\n",
       "<g id=\"edge7\" class=\"edge\">\n",
       "<title>state&#45;&gt;state&#45;6</title>\n",
       "<path fill=\"none\" stroke=\"#000000\" d=\"M4491.6299,-284.8506C4372.5318,-281.0537 4012.4306,-268.1147 3995.496,-250 3906.5035,-154.8061 4150.6026,-200.1911 4275.496,-163 4277.6484,-162.359 4279.8433,-161.6735 4282.0523,-160.958\"/>\n",
       "<polygon fill=\"#000000\" stroke=\"#000000\" points=\"4283.3918,-164.1996 4291.739,-157.6747 4281.1447,-157.5701 4283.3918,-164.1996\"/>\n",
       "<text text-anchor=\"start\" x=\"3995.496\" y=\"-238.8\" font-family=\"Times,serif\" font-size=\"14.00\" fill=\"#000000\">click(&#39;Intro_Testing&#39;)</text>\n",
       "</g>\n",
       "<!-- state&#45;7 -->\n",
       "<g id=\"node9\" class=\"node\">\n",
       "<title>state&#45;7</title>\n",
       "<ellipse fill=\"none\" stroke=\"#000000\" cx=\"4420.496\" cy=\"-145\" rx=\"45.4919\" ry=\"18\"/>\n",
       "<text text-anchor=\"middle\" x=\"4420.496\" y=\"-141.3\" font-family=\"Times,serif\" font-size=\"14.00\" fill=\"#000000\">&lt;state&#45;7&gt;</text>\n",
       "</g>\n",
       "<!-- state&#45;&gt;state&#45;7 -->\n",
       "<g id=\"edge8\" class=\"edge\">\n",
       "<title>state&#45;&gt;state&#45;7</title>\n",
       "<path fill=\"none\" stroke=\"#000000\" d=\"M4491.7943,-285.4005C4397.5217,-283.5122 4157.3829,-276.157 4133.496,-250 4110.564,-224.8887 4072.2849,-263.1213 4371.496,-163 4373.5908,-162.299 4375.731,-161.5683 4377.8889,-160.82\"/>\n",
       "<polygon fill=\"#000000\" stroke=\"#000000\" points=\"4379.1175,-164.098 4387.3774,-157.4628 4376.7826,-157.4988 4379.1175,-164.098\"/>\n",
       "<text text-anchor=\"start\" x=\"4133.496\" y=\"-238.8\" font-family=\"Times,serif\" font-size=\"14.00\" fill=\"#000000\">click(&#39;&amp;quot;Introduction to Software Testing&amp;quot;&#39;)</text>\n",
       "</g>\n",
       "<!-- state&#45;8 -->\n",
       "<g id=\"node10\" class=\"node\">\n",
       "<title>state&#45;8</title>\n",
       "<ellipse fill=\"none\" stroke=\"#000000\" cx=\"4516.496\" cy=\"-145\" rx=\"45.4919\" ry=\"18\"/>\n",
       "<text text-anchor=\"middle\" x=\"4516.496\" y=\"-141.3\" font-family=\"Times,serif\" font-size=\"14.00\" fill=\"#000000\">&lt;state&#45;8&gt;</text>\n",
       "</g>\n",
       "<!-- state&#45;&gt;state&#45;8 -->\n",
       "<g id=\"edge9\" class=\"edge\">\n",
       "<title>state&#45;&gt;state&#45;8</title>\n",
       "<path fill=\"none\" stroke=\"#000000\" d=\"M4494.142,-279.5506C4477.2931,-274.5095 4458.6425,-265.6131 4448.496,-250 4429.9149,-221.4082 4459.7041,-188.3919 4485.5208,-167.1331\"/>\n",
       "<polygon fill=\"#000000\" stroke=\"#000000\" points=\"4488.026,-169.614 4493.6968,-160.6646 4483.6828,-164.1243 4488.026,-169.614\"/>\n",
       "<text text-anchor=\"start\" x=\"4448.496\" y=\"-238.8\" font-family=\"Times,serif\" font-size=\"14.00\" fill=\"#000000\">click(&#39;chapter on testing&#39;)</text>\n",
       "</g>\n",
       "<!-- state&#45;9 -->\n",
       "<g id=\"node11\" class=\"node\">\n",
       "<title>state&#45;9</title>\n",
       "<ellipse fill=\"none\" stroke=\"#000000\" cx=\"4612.496\" cy=\"-145\" rx=\"45.4919\" ry=\"18\"/>\n",
       "<text text-anchor=\"middle\" x=\"4612.496\" y=\"-141.3\" font-family=\"Times,serif\" font-size=\"14.00\" fill=\"#000000\">&lt;state&#45;9&gt;</text>\n",
       "</g>\n",
       "<!-- state&#45;&gt;state&#45;9 -->\n",
       "<g id=\"edge10\" class=\"edge\">\n",
       "<title>state&#45;&gt;state&#45;9</title>\n",
       "<path fill=\"none\" stroke=\"#000000\" d=\"M4559.0108,-274.7965C4570.4671,-269.036 4582.6852,-260.8927 4590.496,-250 4606.6116,-227.5256 4611.4338,-195.7982 4612.6417,-173.1124\"/>\n",
       "<polygon fill=\"#000000\" stroke=\"#000000\" points=\"4616.1407,-173.1976 4612.9741,-163.0871 4609.1445,-172.9656 4616.1407,-173.1976\"/>\n",
       "<text text-anchor=\"start\" x=\"4598.496\" y=\"-238.8\" font-family=\"Times,serif\" font-size=\"14.00\" fill=\"#000000\">click(&#39;ExpectError&#39;)</text>\n",
       "</g>\n",
       "<!-- state&#45;10 -->\n",
       "<g id=\"node12\" class=\"node\">\n",
       "<title>state&#45;10</title>\n",
       "<ellipse fill=\"none\" stroke=\"#000000\" cx=\"4717.496\" cy=\"-199\" rx=\"50.0912\" ry=\"18\"/>\n",
       "<text text-anchor=\"middle\" x=\"4717.496\" y=\"-195.3\" font-family=\"Times,serif\" font-size=\"14.00\" fill=\"#000000\">&lt;state&#45;10&gt;</text>\n",
       "</g>\n",
       "<!-- state&#45;&gt;state&#45;10 -->\n",
       "<g id=\"edge11\" class=\"edge\">\n",
       "<title>state&#45;&gt;state&#45;10</title>\n",
       "<path fill=\"none\" stroke=\"#000000\" d=\"M4567.1222,-284.5392C4617.8267,-281.6896 4704.0037,-273.4422 4723.496,-250 4728.845,-243.567 4729.4662,-234.997 4728.1068,-226.7213\"/>\n",
       "<polygon fill=\"#000000\" stroke=\"#000000\" points=\"4731.4801,-225.7834 4725.6512,-216.9361 4724.6906,-227.4873 4731.4801,-225.7834\"/>\n",
       "<text text-anchor=\"start\" x=\"4728.496\" y=\"-238.8\" font-family=\"Times,serif\" font-size=\"14.00\" fill=\"#000000\">click(&#39;runtime verification&#39;)</text>\n",
       "</g>\n",
       "<!-- state&#45;11 -->\n",
       "<g id=\"node13\" class=\"node\">\n",
       "<title>state&#45;11</title>\n",
       "<ellipse fill=\"none\" stroke=\"#000000\" cx=\"4877.496\" cy=\"-199\" rx=\"50.0912\" ry=\"18\"/>\n",
       "<text text-anchor=\"middle\" x=\"4877.496\" y=\"-195.3\" font-family=\"Times,serif\" font-size=\"14.00\" fill=\"#000000\">&lt;state&#45;11&gt;</text>\n",
       "</g>\n",
       "<!-- state&#45;&gt;state&#45;11 -->\n",
       "<g id=\"edge12\" class=\"edge\">\n",
       "<title>state&#45;&gt;state&#45;11</title>\n",
       "<path fill=\"none\" stroke=\"#000000\" d=\"M4567.2015,-284.9869C4654.4495,-282.2543 4864.4328,-273.3006 4885.496,-250 4891.1361,-243.7607 4891.5661,-235.2425 4889.8479,-226.9545\"/>\n",
       "<polygon fill=\"#000000\" stroke=\"#000000\" points=\"4893.1244,-225.6961 4886.8925,-217.1279 4886.421,-227.7123 4893.1244,-225.6961\"/>\n",
       "<text text-anchor=\"start\" x=\"4890.496\" y=\"-238.8\" font-family=\"Times,serif\" font-size=\"14.00\" fill=\"#000000\">click(&#39;Introduction to Testing&#39;)</text>\n",
       "</g>\n",
       "<!-- state&#45;12 -->\n",
       "<g id=\"node14\" class=\"node\">\n",
       "<title>state&#45;12</title>\n",
       "<ellipse fill=\"none\" stroke=\"#000000\" cx=\"7888.496\" cy=\"-199\" rx=\"50.0912\" ry=\"18\"/>\n",
       "<text text-anchor=\"middle\" x=\"7888.496\" y=\"-195.3\" font-family=\"Times,serif\" font-size=\"14.00\" fill=\"#000000\">&lt;state&#45;12&gt;</text>\n",
       "</g>\n",
       "<!-- state&#45;&gt;state&#45;12 -->\n",
       "<g id=\"edge13\" class=\"edge\">\n",
       "<title>state&#45;&gt;state&#45;12</title>\n",
       "<path fill=\"none\" stroke=\"#000000\" d=\"M4567.2191,-285.0229C4904.9528,-276.2755 7406.3228,-211.4886 7828.1701,-200.5625\"/>\n",
       "<polygon fill=\"#000000\" stroke=\"#000000\" points=\"7828.4175,-204.0573 7838.3235,-200.2995 7828.2362,-197.0597 7828.4175,-204.0573\"/>\n",
       "<text text-anchor=\"start\" x=\"6409.496\" y=\"-238.8\" font-family=\"Times,serif\" font-size=\"14.00\" fill=\"#000000\">click(&#39;chapter on oracles&#39;)</text>\n",
       "</g>\n",
       "<!-- state&#45;13 -->\n",
       "<g id=\"node15\" class=\"node\">\n",
       "<title>state&#45;13</title>\n",
       "<ellipse fill=\"none\" stroke=\"#000000\" cx=\"8978.496\" cy=\"-199\" rx=\"50.0912\" ry=\"18\"/>\n",
       "<text text-anchor=\"middle\" x=\"8978.496\" y=\"-195.3\" font-family=\"Times,serif\" font-size=\"14.00\" fill=\"#000000\">&lt;state&#45;13&gt;</text>\n",
       "</g>\n",
       "<!-- state&#45;&gt;state&#45;13 -->\n",
       "<g id=\"edge14\" class=\"edge\">\n",
       "<title>state&#45;&gt;state&#45;13</title>\n",
       "<path fill=\"none\" stroke=\"#000000\" d=\"M4567.4905,-285.3725C4771.1114,-281.9997 5753.8905,-265.5968 6557.496,-250 7498.4867,-231.7368 8645.1389,-206.4138 8918.1331,-200.3453\"/>\n",
       "<polygon fill=\"#000000\" stroke=\"#000000\" points=\"8918.3087,-203.8423 8928.2284,-200.1208 8918.153,-196.8441 8918.3087,-203.8423\"/>\n",
       "<text text-anchor=\"start\" x=\"7289.496\" y=\"-238.8\" font-family=\"Times,serif\" font-size=\"14.00\" fill=\"#000000\">click(&#39;&#39;)</text>\n",
       "</g>\n",
       "<!-- state&#45;14 -->\n",
       "<g id=\"node16\" class=\"node\">\n",
       "<title>state&#45;14</title>\n",
       "<ellipse fill=\"none\" stroke=\"#000000\" cx=\"9517.496\" cy=\"-199\" rx=\"50.0912\" ry=\"18\"/>\n",
       "<text text-anchor=\"middle\" x=\"9517.496\" y=\"-195.3\" font-family=\"Times,serif\" font-size=\"14.00\" fill=\"#000000\">&lt;state&#45;14&gt;</text>\n",
       "</g>\n",
       "<!-- state&#45;&gt;state&#45;14 -->\n",
       "<g id=\"edge15\" class=\"edge\">\n",
       "<title>state&#45;&gt;state&#45;14</title>\n",
       "<path fill=\"none\" stroke=\"#000000\" d=\"M4567.3539,-285.8005C4887.7223,-284.0339 7178.7733,-269.8661 9037.496,-217 9188.7952,-212.6967 9366.8403,-205.4472 9457.6494,-201.5924\"/>\n",
       "<polygon fill=\"#000000\" stroke=\"#000000\" points=\"9457.9114,-205.0845 9467.7534,-201.1622 9457.6136,-198.0908 9457.9114,-205.0845\"/>\n",
       "<text text-anchor=\"start\" x=\"8299.496\" y=\"-238.8\" font-family=\"Times,serif\" font-size=\"14.00\" fill=\"#000000\">click(&#39;reduce failing inputs for efficient debugging&#39;)</text>\n",
       "</g>\n",
       "<!-- state&#45;15 -->\n",
       "<g id=\"node17\" class=\"node\">\n",
       "<title>state&#45;15</title>\n",
       "<ellipse fill=\"none\" stroke=\"#000000\" cx=\"10605.496\" cy=\"-199\" rx=\"50.0912\" ry=\"18\"/>\n",
       "<text text-anchor=\"middle\" x=\"10605.496\" y=\"-195.3\" font-family=\"Times,serif\" font-size=\"14.00\" fill=\"#000000\">&lt;state&#45;15&gt;</text>\n",
       "</g>\n",
       "<!-- state&#45;&gt;state&#45;15 -->\n",
       "<g id=\"edge16\" class=\"edge\">\n",
       "<title>state&#45;&gt;state&#45;15</title>\n",
       "<path fill=\"none\" stroke=\"#000000\" d=\"M4567.5922,-285.9016C4870.7775,-285.0691 6924.4459,-278.5182 8592.496,-250 9363.9484,-236.8107 10301.4121,-208.4566 10545.247,-200.8889\"/>\n",
       "<polygon fill=\"#000000\" stroke=\"#000000\" points=\"10545.4357,-204.3848 10555.3221,-200.5757 10545.2182,-197.3882 10545.4357,-204.3848\"/>\n",
       "<text text-anchor=\"start\" x=\"9256.496\" y=\"-238.8\" font-family=\"Times,serif\" font-size=\"14.00\" fill=\"#000000\">click(&#39;chapter on information flow&#39;)</text>\n",
       "</g>\n",
       "<!-- end -->\n",
       "<g id=\"node18\" class=\"node\">\n",
       "<title>end</title>\n",
       "<ellipse fill=\"none\" stroke=\"#000000\" cx=\"4784.496\" cy=\"-91\" rx=\"34.394\" ry=\"18\"/>\n",
       "<text text-anchor=\"middle\" x=\"4784.496\" y=\"-87.3\" font-family=\"Times,serif\" font-size=\"14.00\" fill=\"#000000\">&lt;end&gt;</text>\n",
       "</g>\n",
       "<!-- state&#45;&gt;end -->\n",
       "<g id=\"edge17\" class=\"edge\">\n",
       "<title>state&#45;&gt;end</title>\n",
       "<path fill=\"none\" stroke=\"#000000\" d=\"M4567.5037,-284.856C4687.0474,-281.0755 5048.4959,-268.1801 5065.496,-250 5124.8719,-186.5024 5311.9131,-280.3604 4936.496,-181 4904.4675,-172.5231 4811.1433,-187.1822 4788.496,-163 4777.7534,-151.5293 4776.5844,-133.9957 4778.1831,-119.1033\"/>\n",
       "<polygon fill=\"#000000\" stroke=\"#000000\" points=\"4781.6989,-119.2625 4779.739,-108.8506 4774.7781,-118.2122 4781.6989,-119.2625\"/>\n",
       "</g>\n",
       "<!-- unexplored -->\n",
       "<g id=\"node19\" class=\"node\">\n",
       "<title>unexplored</title>\n",
       "<ellipse fill=\"none\" stroke=\"#000000\" cx=\"5329.496\" cy=\"-18\" rx=\"61.99\" ry=\"18\"/>\n",
       "<text text-anchor=\"middle\" x=\"5329.496\" y=\"-14.3\" font-family=\"Times,serif\" font-size=\"14.00\" fill=\"#000000\">&lt;unexplored&gt;</text>\n",
       "</g>\n",
       "<!-- state&#45;1&#45;&gt;unexplored -->\n",
       "<g id=\"edge18\" class=\"edge\">\n",
       "<title>state&#45;1&#45;&gt;unexplored</title>\n",
       "<path fill=\"none\" stroke=\"#000000\" d=\"M69.4226,-129.6659C98.2457,-112.1474 148.763,-84.4308 196.496,-73 522.9282,5.1717 615.8809,-59.6024 951.496,-54 2699.5643,-24.8194 4840.6588,-19.0136 5257.3497,-18.1355\"/>\n",
       "<polygon fill=\"#000000\" stroke=\"#000000\" points=\"5257.4568,-21.6354 5267.4495,-18.1145 5257.4422,-14.6354 5257.4568,-21.6354\"/>\n",
       "</g>\n",
       "<!-- state&#45;2&#45;&gt;unexplored -->\n",
       "<g id=\"edge19\" class=\"edge\">\n",
       "<title>state&#45;2&#45;&gt;unexplored</title>\n",
       "<path fill=\"none\" stroke=\"#000000\" d=\"M164.6946,-129.3589C192.159,-111.8298 239.9377,-84.3775 285.496,-73 602.9659,6.2831 694.3236,-59.5896 1021.496,-54 2739.7912,-24.6436 4844.0304,-18.9835 5257.2003,-18.1318\"/>\n",
       "<polygon fill=\"#000000\" stroke=\"#000000\" points=\"5257.5121,-21.6313 5267.505,-18.1108 5257.4978,-14.6313 5257.5121,-21.6313\"/>\n",
       "</g>\n",
       "<!-- state&#45;3&#45;&gt;end -->\n",
       "<g id=\"edge42\" class=\"edge\">\n",
       "<title>state&#45;3&#45;&gt;end</title>\n",
       "<path fill=\"none\" stroke=\"#000000\" d=\"M2352.1582,-198.6361C2675.5357,-196.0186 4608.7885,-179.6914 4666.496,-163 4684.9857,-157.652 4726.6327,-130.738 4755.1576,-111.3836\"/>\n",
       "<polygon fill=\"#000000\" stroke=\"#000000\" points=\"4757.2653,-114.1825 4763.5487,-105.652 4753.317,-108.4022 4757.2653,-114.1825\"/>\n",
       "</g>\n",
       "<!-- state&#45;16 -->\n",
       "<g id=\"node20\" class=\"node\">\n",
       "<title>state&#45;16</title>\n",
       "<ellipse fill=\"none\" stroke=\"#000000\" cx=\"1235.496\" cy=\"-91\" rx=\"50.0912\" ry=\"18\"/>\n",
       "<text text-anchor=\"middle\" x=\"1235.496\" y=\"-87.3\" font-family=\"Times,serif\" font-size=\"14.00\" fill=\"#000000\">&lt;state&#45;16&gt;</text>\n",
       "</g>\n",
       "<!-- state&#45;3&#45;&gt;state&#45;16 -->\n",
       "<g id=\"edge20\" class=\"edge\">\n",
       "<title>state&#45;3&#45;&gt;state&#45;16</title>\n",
       "<path fill=\"none\" stroke=\"#000000\" d=\"M2261.0448,-197.5246C2064.0875,-191.1152 1293.9511,-165.8803 1288.496,-163 1270.1379,-153.3069 1256.4954,-134.0888 1247.6522,-117.9445\"/>\n",
       "<polygon fill=\"#000000\" stroke=\"#000000\" points=\"1250.6833,-116.1852 1243.0007,-108.8894 1244.4567,-119.3837 1250.6833,-116.1852\"/>\n",
       "<text text-anchor=\"start\" x=\"1288.496\" y=\"-141.3\" font-family=\"Times,serif\" font-size=\"14.00\" fill=\"#000000\">click(&#39;Cite&#39;)</text>\n",
       "</g>\n",
       "<!-- state&#45;17 -->\n",
       "<g id=\"node21\" class=\"node\">\n",
       "<title>state&#45;17</title>\n",
       "<ellipse fill=\"none\" stroke=\"#000000\" cx=\"1384.496\" cy=\"-91\" rx=\"50.0912\" ry=\"18\"/>\n",
       "<text text-anchor=\"middle\" x=\"1384.496\" y=\"-87.3\" font-family=\"Times,serif\" font-size=\"14.00\" fill=\"#000000\">&lt;state&#45;17&gt;</text>\n",
       "</g>\n",
       "<!-- state&#45;3&#45;&gt;state&#45;17 -->\n",
       "<g id=\"edge21\" class=\"edge\">\n",
       "<title>state&#45;3&#45;&gt;state&#45;17</title>\n",
       "<path fill=\"none\" stroke=\"#000000\" d=\"M2260.9044,-197.4696C2072.8971,-191.133 1367.4348,-167.0921 1363.496,-163 1351.7558,-150.8031 1357.3573,-132.4238 1365.714,-117.2879\"/>\n",
       "<polygon fill=\"#000000\" stroke=\"#000000\" points=\"1368.9341,-118.7291 1371.1428,-108.367 1362.9543,-115.0901 1368.9341,-118.7291\"/>\n",
       "<text text-anchor=\"start\" x=\"1363.496\" y=\"-141.3\" font-family=\"Times,serif\" font-size=\"14.00\" fill=\"#000000\">click(&#39;chapter on coverage&#39;)</text>\n",
       "</g>\n",
       "<!-- state&#45;18 -->\n",
       "<g id=\"node22\" class=\"node\">\n",
       "<title>state&#45;18</title>\n",
       "<ellipse fill=\"none\" stroke=\"#000000\" cx=\"1542.496\" cy=\"-91\" rx=\"50.0912\" ry=\"18\"/>\n",
       "<text text-anchor=\"middle\" x=\"1542.496\" y=\"-87.3\" font-family=\"Times,serif\" font-size=\"14.00\" fill=\"#000000\">&lt;state&#45;18&gt;</text>\n",
       "</g>\n",
       "<!-- state&#45;3&#45;&gt;state&#45;18 -->\n",
       "<g id=\"edge22\" class=\"edge\">\n",
       "<title>state&#45;3&#45;&gt;state&#45;18</title>\n",
       "<path fill=\"none\" stroke=\"#000000\" d=\"M2261.0578,-197.7355C2096.7162,-193.0565 1542.2016,-176.3079 1529.496,-163 1518.2713,-151.2432 1521.5169,-133.2491 1527.5709,-118.1913\"/>\n",
       "<polygon fill=\"#000000\" stroke=\"#000000\" points=\"1530.8809,-119.3674 1531.831,-108.8152 1524.5078,-116.4717 1530.8809,-119.3674\"/>\n",
       "<text text-anchor=\"start\" x=\"1529.496\" y=\"-141.3\" font-family=\"Times,serif\" font-size=\"14.00\" fill=\"#000000\">click(&#39;RailroadDiagrams&#39;)</text>\n",
       "</g>\n",
       "<!-- state&#45;19 -->\n",
       "<g id=\"node23\" class=\"node\">\n",
       "<title>state&#45;19</title>\n",
       "<ellipse fill=\"none\" stroke=\"#000000\" cx=\"1680.496\" cy=\"-91\" rx=\"50.0912\" ry=\"18\"/>\n",
       "<text text-anchor=\"middle\" x=\"1680.496\" y=\"-87.3\" font-family=\"Times,serif\" font-size=\"14.00\" fill=\"#000000\">&lt;state&#45;19&gt;</text>\n",
       "</g>\n",
       "<!-- state&#45;3&#45;&gt;state&#45;19 -->\n",
       "<g id=\"edge23\" class=\"edge\">\n",
       "<title>state&#45;3&#45;&gt;state&#45;19</title>\n",
       "<path fill=\"none\" stroke=\"#000000\" d=\"M2260.7592,-197.8493C2122.1114,-194.1605 1714.6589,-181.765 1693.496,-163 1681.3724,-152.2501 1678.1031,-134.3362 1677.8743,-119.067\"/>\n",
       "<polygon fill=\"#000000\" stroke=\"#000000\" points=\"1681.3739,-119.1251 1678.1302,-109.039 1674.3762,-118.9464 1681.3739,-119.1251\"/>\n",
       "<text text-anchor=\"start\" x=\"1693.496\" y=\"-141.3\" font-family=\"Times,serif\" font-size=\"14.00\" fill=\"#000000\">click(&#39;later in this book&#39;)</text>\n",
       "</g>\n",
       "<!-- state&#45;20 -->\n",
       "<g id=\"node24\" class=\"node\">\n",
       "<title>state&#45;20</title>\n",
       "<ellipse fill=\"none\" stroke=\"#000000\" cx=\"1837.496\" cy=\"-91\" rx=\"50.0912\" ry=\"18\"/>\n",
       "<text text-anchor=\"middle\" x=\"1837.496\" y=\"-87.3\" font-family=\"Times,serif\" font-size=\"14.00\" fill=\"#000000\">&lt;state&#45;20&gt;</text>\n",
       "</g>\n",
       "<!-- state&#45;3&#45;&gt;state&#45;20 -->\n",
       "<g id=\"edge24\" class=\"edge\">\n",
       "<title>state&#45;3&#45;&gt;state&#45;20</title>\n",
       "<path fill=\"none\" stroke=\"#000000\" d=\"M2260.6426,-198.6021C2150.3495,-197.2004 1877.1331,-190.9176 1847.496,-163 1835.9644,-152.1375 1833.3375,-134.6157 1833.6551,-119.5772\"/>\n",
       "<polygon fill=\"#000000\" stroke=\"#000000\" points=\"1837.1736,-119.4003 1834.3215,-109.1966 1830.188,-118.9517 1837.1736,-119.4003\"/>\n",
       "<text text-anchor=\"start\" x=\"1847.496\" y=\"-141.3\" font-family=\"Times,serif\" font-size=\"14.00\" fill=\"#000000\">click(&#39;MutationFuzzer&#39;)</text>\n",
       "</g>\n",
       "<!-- state&#45;21 -->\n",
       "<g id=\"node25\" class=\"node\">\n",
       "<title>state&#45;21</title>\n",
       "<ellipse fill=\"none\" stroke=\"#000000\" cx=\"2025.496\" cy=\"-91\" rx=\"50.0912\" ry=\"18\"/>\n",
       "<text text-anchor=\"middle\" x=\"2025.496\" y=\"-87.3\" font-family=\"Times,serif\" font-size=\"14.00\" fill=\"#000000\">&lt;state&#45;21&gt;</text>\n",
       "</g>\n",
       "<!-- state&#45;3&#45;&gt;state&#45;21 -->\n",
       "<g id=\"edge25\" class=\"edge\">\n",
       "<title>state&#45;3&#45;&gt;state&#45;21</title>\n",
       "<path fill=\"none\" stroke=\"#000000\" d=\"M2260.9363,-197.124C2177.5456,-193.2197 2007.2491,-182.8834 1989.496,-163 1978.8397,-151.065 1983.373,-141.7821 1989.496,-127 1991.2559,-122.7511 1993.7876,-118.7422 1996.7046,-115.0513\"/>\n",
       "<polygon fill=\"#000000\" stroke=\"#000000\" points=\"1999.4224,-117.2648 2003.5559,-107.5095 1994.2411,-112.5579 1999.4224,-117.2648\"/>\n",
       "<text text-anchor=\"start\" x=\"1989.496\" y=\"-141.3\" font-family=\"Times,serif\" font-size=\"14.00\" fill=\"#000000\">click(&#39;Generating Software Tests&#39;)</text>\n",
       "</g>\n",
       "<!-- state&#45;22 -->\n",
       "<g id=\"node26\" class=\"node\">\n",
       "<title>state&#45;22</title>\n",
       "<ellipse fill=\"none\" stroke=\"#000000\" cx=\"2204.496\" cy=\"-91\" rx=\"50.0912\" ry=\"18\"/>\n",
       "<text text-anchor=\"middle\" x=\"2204.496\" y=\"-87.3\" font-family=\"Times,serif\" font-size=\"14.00\" fill=\"#000000\">&lt;state&#45;22&gt;</text>\n",
       "</g>\n",
       "<!-- state&#45;3&#45;&gt;state&#45;22 -->\n",
       "<g id=\"edge26\" class=\"edge\">\n",
       "<title>state&#45;3&#45;&gt;state&#45;22</title>\n",
       "<path fill=\"none\" stroke=\"#000000\" d=\"M2264.7446,-191.5552C2234.9696,-185.2973 2198.6498,-175.394 2189.496,-163 2180.0043,-150.1487 2183.3746,-132.6596 2189.3012,-118.1364\"/>\n",
       "<polygon fill=\"#000000\" stroke=\"#000000\" points=\"2192.6677,-119.1949 2193.686,-108.6492 2186.3135,-116.2581 2192.6677,-119.1949\"/>\n",
       "<text text-anchor=\"start\" x=\"2189.496\" y=\"-141.3\" font-family=\"Times,serif\" font-size=\"14.00\" fill=\"#000000\">click(&#39;probabilistic grammar fuzzing&#39;)</text>\n",
       "</g>\n",
       "<!-- state&#45;23 -->\n",
       "<g id=\"node27\" class=\"node\">\n",
       "<title>state&#45;23</title>\n",
       "<ellipse fill=\"none\" stroke=\"#000000\" cx=\"2646.496\" cy=\"-91\" rx=\"50.0912\" ry=\"18\"/>\n",
       "<text text-anchor=\"middle\" x=\"2646.496\" y=\"-87.3\" font-family=\"Times,serif\" font-size=\"14.00\" fill=\"#000000\">&lt;state&#45;23&gt;</text>\n",
       "</g>\n",
       "<!-- state&#45;3&#45;&gt;state&#45;23 -->\n",
       "<g id=\"edge27\" class=\"edge\">\n",
       "<title>state&#45;3&#45;&gt;state&#45;23</title>\n",
       "<path fill=\"none\" stroke=\"#000000\" d=\"M2346.4084,-190.0508C2364.6218,-184.5016 2385.6161,-175.9006 2401.496,-163 2416.2326,-151.0281 2408.6301,-137.4292 2424.496,-127 2450.5274,-109.8885 2530.3588,-100.122 2586.8079,-95.1921\"/>\n",
       "<polygon fill=\"#000000\" stroke=\"#000000\" points=\"2587.3876,-98.6557 2597.0578,-94.3272 2586.7989,-91.6805 2587.3876,-98.6557\"/>\n",
       "<text text-anchor=\"start\" x=\"2424.496\" y=\"-141.3\" font-family=\"Times,serif\" font-size=\"14.00\" fill=\"#000000\">click(&#39;next chapter&#39;)</text>\n",
       "</g>\n",
       "<!-- state&#45;24 -->\n",
       "<g id=\"node28\" class=\"node\">\n",
       "<title>state&#45;24</title>\n",
       "<ellipse fill=\"none\" stroke=\"#000000\" cx=\"2926.496\" cy=\"-91\" rx=\"50.0912\" ry=\"18\"/>\n",
       "<text text-anchor=\"middle\" x=\"2926.496\" y=\"-87.3\" font-family=\"Times,serif\" font-size=\"14.00\" fill=\"#000000\">&lt;state&#45;24&gt;</text>\n",
       "</g>\n",
       "<!-- state&#45;3&#45;&gt;state&#45;24 -->\n",
       "<g id=\"edge28\" class=\"edge\">\n",
       "<title>state&#45;3&#45;&gt;state&#45;24</title>\n",
       "<path fill=\"none\" stroke=\"#000000\" d=\"M2351.9139,-196.2566C2409.8333,-192.0183 2506.0229,-182.2719 2535.496,-163 2551.387,-152.6091 2542.3083,-136.9224 2558.496,-127 2565.0026,-123.0117 2765.0138,-105.0746 2867.3754,-96.1196\"/>\n",
       "<polygon fill=\"#000000\" stroke=\"#000000\" points=\"2867.9069,-99.5866 2877.5644,-95.2296 2867.2978,-92.6131 2867.9069,-99.5866\"/>\n",
       "<text text-anchor=\"start\" x=\"2558.496\" y=\"-141.3\" font-family=\"Times,serif\" font-size=\"14.00\" fill=\"#000000\">click(&#39;fuzzing functions and APIs&#39;)</text>\n",
       "</g>\n",
       "<!-- state&#45;25 -->\n",
       "<g id=\"node29\" class=\"node\">\n",
       "<title>state&#45;25</title>\n",
       "<ellipse fill=\"none\" stroke=\"#000000\" cx=\"3125.496\" cy=\"-91\" rx=\"50.0912\" ry=\"18\"/>\n",
       "<text text-anchor=\"middle\" x=\"3125.496\" y=\"-87.3\" font-family=\"Times,serif\" font-size=\"14.00\" fill=\"#000000\">&lt;state&#45;25&gt;</text>\n",
       "</g>\n",
       "<!-- state&#45;3&#45;&gt;state&#45;25 -->\n",
       "<g id=\"edge29\" class=\"edge\">\n",
       "<title>state&#45;3&#45;&gt;state&#45;25</title>\n",
       "<path fill=\"none\" stroke=\"#000000\" d=\"M2352.0814,-197.6145C2459.0444,-194.0403 2719.675,-183.3339 2753.496,-163 2769.7681,-153.2168 2760.251,-136.8283 2776.496,-127 2816.3808,-102.8694 2939.1456,-113.9734 2985.496,-109 3012.8004,-106.0702 3043.0264,-102.2564 3068.3843,-98.8938\"/>\n",
       "<polygon fill=\"#000000\" stroke=\"#000000\" points=\"3069.1196,-102.3267 3078.568,-97.5331 3068.1925,-95.3884 3069.1196,-102.3267\"/>\n",
       "<text text-anchor=\"start\" x=\"2776.496\" y=\"-141.3\" font-family=\"Times,serif\" font-size=\"14.00\" fill=\"#000000\">click(&#39;constraints&#39;)</text>\n",
       "</g>\n",
       "<!-- state&#45;26 -->\n",
       "<g id=\"node30\" class=\"node\">\n",
       "<title>state&#45;26</title>\n",
       "<ellipse fill=\"none\" stroke=\"#000000\" cx=\"3284.496\" cy=\"-91\" rx=\"50.0912\" ry=\"18\"/>\n",
       "<text text-anchor=\"middle\" x=\"3284.496\" y=\"-87.3\" font-family=\"Times,serif\" font-size=\"14.00\" fill=\"#000000\">&lt;state&#45;26&gt;</text>\n",
       "</g>\n",
       "<!-- state&#45;3&#45;&gt;state&#45;26 -->\n",
       "<g id=\"edge30\" class=\"edge\">\n",
       "<title>state&#45;3&#45;&gt;state&#45;26</title>\n",
       "<path fill=\"none\" stroke=\"#000000\" d=\"M2352.3493,-198.4853C2480.2589,-196.7208 2834.5732,-189.4726 2879.496,-163 2895.8537,-153.3605 2886.1431,-136.6476 2902.496,-127 2929.5377,-111.0463 3153.3281,-112.7872 3184.496,-109 3199.5776,-107.1674 3215.8297,-104.5306 3230.7579,-101.8381\"/>\n",
       "<polygon fill=\"#000000\" stroke=\"#000000\" points=\"3231.6524,-105.2322 3240.8505,-99.9744 3230.3812,-98.3486 3231.6524,-105.2322\"/>\n",
       "<text text-anchor=\"start\" x=\"2902.496\" y=\"-141.3\" font-family=\"Times,serif\" font-size=\"14.00\" fill=\"#000000\">click(&#39;create an efficient grammar fuzzer&#39;)</text>\n",
       "</g>\n",
       "<!-- state&#45;27 -->\n",
       "<g id=\"node31\" class=\"node\">\n",
       "<title>state&#45;27</title>\n",
       "<ellipse fill=\"none\" stroke=\"#000000\" cx=\"3422.496\" cy=\"-91\" rx=\"50.0912\" ry=\"18\"/>\n",
       "<text text-anchor=\"middle\" x=\"3422.496\" y=\"-87.3\" font-family=\"Times,serif\" font-size=\"14.00\" fill=\"#000000\">&lt;state&#45;27&gt;</text>\n",
       "</g>\n",
       "<!-- state&#45;3&#45;&gt;state&#45;27 -->\n",
       "<g id=\"edge31\" class=\"edge\">\n",
       "<title>state&#45;3&#45;&gt;state&#45;27</title>\n",
       "<path fill=\"none\" stroke=\"#000000\" d=\"M2352.2205,-198.1805C2521.1864,-195.0023 3102.3451,-182.6811 3136.496,-163 3152.9464,-153.5197 3143.3083,-136.9224 3159.496,-127 3194.5234,-105.5296 3302.9417,-115.5767 3343.496,-109 3352.5714,-107.5282 3362.1622,-105.6347 3371.4136,-103.6307\"/>\n",
       "<polygon fill=\"#000000\" stroke=\"#000000\" points=\"3372.2821,-107.023 3381.2788,-101.4275 3370.7563,-100.1913 3372.2821,-107.023\"/>\n",
       "<text text-anchor=\"start\" x=\"3159.496\" y=\"-141.3\" font-family=\"Times,serif\" font-size=\"14.00\" fill=\"#000000\">click(&#39;Chapter introducing fuzzing&#39;)</text>\n",
       "</g>\n",
       "<!-- state&#45;28 -->\n",
       "<g id=\"node32\" class=\"node\">\n",
       "<title>state&#45;28</title>\n",
       "<ellipse fill=\"none\" stroke=\"#000000\" cx=\"3550.496\" cy=\"-91\" rx=\"50.0912\" ry=\"18\"/>\n",
       "<text text-anchor=\"middle\" x=\"3550.496\" y=\"-87.3\" font-family=\"Times,serif\" font-size=\"14.00\" fill=\"#000000\">&lt;state&#45;28&gt;</text>\n",
       "</g>\n",
       "<!-- state&#45;3&#45;&gt;state&#45;28 -->\n",
       "<g id=\"edge32\" class=\"edge\">\n",
       "<title>state&#45;3&#45;&gt;state&#45;28</title>\n",
       "<path fill=\"none\" stroke=\"#000000\" d=\"M2352.2693,-198.6187C2549.0555,-196.8284 3315.202,-188.2566 3359.496,-163 3375.9897,-153.5952 3366.7304,-137.5802 3382.496,-127 3419.6303,-102.0793 3437.8284,-118.6512 3481.496,-109 3487.6837,-107.6324 3494.1556,-106.0921 3500.5506,-104.5028\"/>\n",
       "<polygon fill=\"#000000\" stroke=\"#000000\" points=\"3501.6524,-107.8342 3510.4848,-101.9827 3499.9312,-101.0491 3501.6524,-107.8342\"/>\n",
       "<text text-anchor=\"start\" x=\"3382.496\" y=\"-141.3\" font-family=\"Times,serif\" font-size=\"14.00\" fill=\"#000000\">click(&#39;our chapter on coverage&#45;based fuzzing&#39;)</text>\n",
       "</g>\n",
       "<!-- state&#45;29 -->\n",
       "<g id=\"node33\" class=\"node\">\n",
       "<title>state&#45;29</title>\n",
       "<ellipse fill=\"none\" stroke=\"#000000\" cx=\"3673.496\" cy=\"-91\" rx=\"50.0912\" ry=\"18\"/>\n",
       "<text text-anchor=\"middle\" x=\"3673.496\" y=\"-87.3\" font-family=\"Times,serif\" font-size=\"14.00\" fill=\"#000000\">&lt;state&#45;29&gt;</text>\n",
       "</g>\n",
       "<!-- state&#45;3&#45;&gt;state&#45;29 -->\n",
       "<g id=\"edge33\" class=\"edge\">\n",
       "<title>state&#45;3&#45;&gt;state&#45;29</title>\n",
       "<path fill=\"none\" stroke=\"#000000\" d=\"M2352.191,-198.4328C2583.365,-195.4818 3614.1282,-181.3149 3641.496,-163 3649.4573,-157.6722 3658.2859,-136.6218 3664.6496,-118.648\"/>\n",
       "<polygon fill=\"#000000\" stroke=\"#000000\" points=\"3667.9911,-119.6929 3667.9103,-109.0984 3661.3667,-117.431 3667.9911,-119.6929\"/>\n",
       "<text text-anchor=\"start\" x=\"3660.496\" y=\"-141.3\" font-family=\"Times,serif\" font-size=\"14.00\" fill=\"#000000\">click(&#39;basic fuzzing&#39;)</text>\n",
       "</g>\n",
       "<!-- state&#45;30 -->\n",
       "<g id=\"node34\" class=\"node\">\n",
       "<title>state&#45;30</title>\n",
       "<ellipse fill=\"none\" stroke=\"#000000\" cx=\"3821.496\" cy=\"-91\" rx=\"50.0912\" ry=\"18\"/>\n",
       "<text text-anchor=\"middle\" x=\"3821.496\" y=\"-87.3\" font-family=\"Times,serif\" font-size=\"14.00\" fill=\"#000000\">&lt;state&#45;30&gt;</text>\n",
       "</g>\n",
       "<!-- state&#45;3&#45;&gt;state&#45;30 -->\n",
       "<g id=\"edge34\" class=\"edge\">\n",
       "<title>state&#45;3&#45;&gt;state&#45;30</title>\n",
       "<path fill=\"none\" stroke=\"#000000\" d=\"M2352.1051,-198.1895C2598.9787,-193.766 3764.7812,-172.3939 3780.496,-163 3785.0054,-160.3043 3797.7206,-137.2369 3807.8073,-117.927\"/>\n",
       "<polygon fill=\"#000000\" stroke=\"#000000\" points=\"3811.0141,-119.3453 3812.5003,-108.8552 3804.7968,-116.1289 3811.0141,-119.3453\"/>\n",
       "<text text-anchor=\"start\" x=\"3802.496\" y=\"-141.3\" font-family=\"Times,serif\" font-size=\"14.00\" fill=\"#000000\">click(&#39;&#39;)</text>\n",
       "</g>\n",
       "<!-- state&#45;31 -->\n",
       "<g id=\"node35\" class=\"node\">\n",
       "<title>state&#45;31</title>\n",
       "<ellipse fill=\"none\" stroke=\"#000000\" cx=\"3959.496\" cy=\"-91\" rx=\"50.0912\" ry=\"18\"/>\n",
       "<text text-anchor=\"middle\" x=\"3959.496\" y=\"-87.3\" font-family=\"Times,serif\" font-size=\"14.00\" fill=\"#000000\">&lt;state&#45;31&gt;</text>\n",
       "</g>\n",
       "<!-- state&#45;3&#45;&gt;state&#45;31 -->\n",
       "<g id=\"edge35\" class=\"edge\">\n",
       "<title>state&#45;3&#45;&gt;state&#45;31</title>\n",
       "<path fill=\"none\" stroke=\"#000000\" d=\"M2352.0183,-198.2249C2605.1681,-193.8797 3828.7941,-172.4045 3845.496,-163 3862.0402,-153.6843 3853.8464,-139.0783 3868.496,-127 3880.1056,-117.4281 3894.5734,-110.1705 3908.5324,-104.7715\"/>\n",
       "<polygon fill=\"#000000\" stroke=\"#000000\" points=\"3909.8575,-108.0142 3918.0737,-101.325 3907.4794,-101.4306 3909.8575,-108.0142\"/>\n",
       "<text text-anchor=\"start\" x=\"3868.496\" y=\"-141.3\" font-family=\"Times,serif\" font-size=\"14.00\" fill=\"#000000\">click(&#39;probabilities&#39;)</text>\n",
       "</g>\n",
       "<!-- state&#45;32 -->\n",
       "<g id=\"node36\" class=\"node\">\n",
       "<title>state&#45;32</title>\n",
       "<ellipse fill=\"none\" stroke=\"#000000\" cx=\"4114.496\" cy=\"-91\" rx=\"50.0912\" ry=\"18\"/>\n",
       "<text text-anchor=\"middle\" x=\"4114.496\" y=\"-87.3\" font-family=\"Times,serif\" font-size=\"14.00\" fill=\"#000000\">&lt;state&#45;32&gt;</text>\n",
       "</g>\n",
       "<!-- state&#45;3&#45;&gt;state&#45;32 -->\n",
       "<g id=\"edge36\" class=\"edge\">\n",
       "<title>state&#45;3&#45;&gt;state&#45;32</title>\n",
       "<path fill=\"none\" stroke=\"#000000\" d=\"M2352.3157,-198.1742C2620.1517,-193.3276 3971.645,-168.6026 3980.496,-163 3995.6109,-153.4324 3984.8607,-138.5792 3998.496,-127 4015.002,-112.9829 4036.9324,-104.4186 4057.2788,-99.1879\"/>\n",
       "<polygon fill=\"#000000\" stroke=\"#000000\" points=\"4058.1746,-102.5728 4067.1091,-96.8786 4056.5737,-95.7583 4058.1746,-102.5728\"/>\n",
       "<text text-anchor=\"start\" x=\"3998.496\" y=\"-141.3\" font-family=\"Times,serif\" font-size=\"14.00\" fill=\"#000000\">click(&#39;Fuzzer&#39;)</text>\n",
       "</g>\n",
       "<!-- state&#45;33 -->\n",
       "<g id=\"node37\" class=\"node\">\n",
       "<title>state&#45;33</title>\n",
       "<ellipse fill=\"none\" stroke=\"#000000\" cx=\"344.496\" cy=\"-91\" rx=\"50.0912\" ry=\"18\"/>\n",
       "<text text-anchor=\"middle\" x=\"344.496\" y=\"-87.3\" font-family=\"Times,serif\" font-size=\"14.00\" fill=\"#000000\">&lt;state&#45;33&gt;</text>\n",
       "</g>\n",
       "<!-- state&#45;3&#45;&gt;state&#45;33 -->\n",
       "<g id=\"edge37\" class=\"edge\">\n",
       "<title>state&#45;3&#45;&gt;state&#45;33</title>\n",
       "<path fill=\"none\" stroke=\"#000000\" d=\"M2261.1815,-197.2202C2166.5247,-193.5708 1940.8842,-185.2287 1751.496,-181 1731.0551,-180.5436 293.8648,-177.5456 279.496,-163 268.2516,-151.6173 271.3729,-140.7846 279.496,-127 284.0149,-119.3315 290.8199,-113.1815 298.3503,-108.2885\"/>\n",
       "<polygon fill=\"#000000\" stroke=\"#000000\" points=\"300.48,-111.103 307.4302,-103.1064 297.0102,-105.0235 300.48,-111.103\"/>\n",
       "<text text-anchor=\"start\" x=\"279.496\" y=\"-141.3\" font-family=\"Times,serif\" font-size=\"14.00\" fill=\"#000000\">click(&#39;&amp;quot;Mutation&#45;Based Fuzzing&amp;quot;&#39;)</text>\n",
       "</g>\n",
       "<!-- state&#45;34 -->\n",
       "<g id=\"node38\" class=\"node\">\n",
       "<title>state&#45;34</title>\n",
       "<ellipse fill=\"none\" stroke=\"#000000\" cx=\"539.496\" cy=\"-91\" rx=\"50.0912\" ry=\"18\"/>\n",
       "<text text-anchor=\"middle\" x=\"539.496\" y=\"-87.3\" font-family=\"Times,serif\" font-size=\"14.00\" fill=\"#000000\">&lt;state&#45;34&gt;</text>\n",
       "</g>\n",
       "<!-- state&#45;3&#45;&gt;state&#45;34 -->\n",
       "<g id=\"edge38\" class=\"edge\">\n",
       "<title>state&#45;3&#45;&gt;state&#45;34</title>\n",
       "<path fill=\"none\" stroke=\"#000000\" d=\"M2261.1805,-197.2651C2166.5217,-193.6995 1940.8779,-185.5054 1751.496,-181 1718.5015,-180.2151 590.1231,-182.4999 563.496,-163 549.8492,-153.006 543.854,-134.9297 541.268,-119.3902\"/>\n",
       "<polygon fill=\"#000000\" stroke=\"#000000\" points=\"544.7019,-118.6474 539.9703,-109.1678 537.7577,-119.529 544.7019,-118.6474\"/>\n",
       "<text text-anchor=\"start\" x=\"563.496\" y=\"-141.3\" font-family=\"Times,serif\" font-size=\"14.00\" fill=\"#000000\">click(&#39;fuzz configurations&#39;)</text>\n",
       "</g>\n",
       "<!-- state&#45;35 -->\n",
       "<g id=\"node39\" class=\"node\">\n",
       "<title>state&#45;35</title>\n",
       "<ellipse fill=\"none\" stroke=\"#000000\" cx=\"742.496\" cy=\"-91\" rx=\"50.0912\" ry=\"18\"/>\n",
       "<text text-anchor=\"middle\" x=\"742.496\" y=\"-87.3\" font-family=\"Times,serif\" font-size=\"14.00\" fill=\"#000000\">&lt;state&#45;35&gt;</text>\n",
       "</g>\n",
       "<!-- state&#45;3&#45;&gt;state&#45;35 -->\n",
       "<g id=\"edge39\" class=\"edge\">\n",
       "<title>state&#45;3&#45;&gt;state&#45;35</title>\n",
       "<path fill=\"none\" stroke=\"#000000\" d=\"M2261.1796,-197.3015C2166.5192,-193.804 1940.8724,-185.7303 1751.496,-181 1722.9727,-180.2875 744.4937,-183.3513 724.496,-163 712.7547,-151.0511 717.5824,-132.6679 725.1777,-117.4681\"/>\n",
       "<polygon fill=\"#000000\" stroke=\"#000000\" points=\"728.3603,-118.9455 730.1411,-108.5014 722.236,-115.5554 728.3603,-118.9455\"/>\n",
       "<text text-anchor=\"start\" x=\"724.496\" y=\"-141.3\" font-family=\"Times,serif\" font-size=\"14.00\" fill=\"#000000\">click(&#39;mutation&#45;based fuzzing&#39;)</text>\n",
       "</g>\n",
       "<!-- state&#45;36 -->\n",
       "<g id=\"node40\" class=\"node\">\n",
       "<title>state&#45;36</title>\n",
       "<ellipse fill=\"none\" stroke=\"#000000\" cx=\"899.496\" cy=\"-91\" rx=\"50.0912\" ry=\"18\"/>\n",
       "<text text-anchor=\"middle\" x=\"899.496\" y=\"-87.3\" font-family=\"Times,serif\" font-size=\"14.00\" fill=\"#000000\">&lt;state&#45;36&gt;</text>\n",
       "</g>\n",
       "<!-- state&#45;3&#45;&gt;state&#45;36 -->\n",
       "<g id=\"edge40\" class=\"edge\">\n",
       "<title>state&#45;3&#45;&gt;state&#45;36</title>\n",
       "<path fill=\"none\" stroke=\"#000000\" d=\"M2261.1779,-197.3657C2166.5144,-193.9882 1940.8621,-186.1265 1751.496,-181 1728.4712,-180.3767 940.948,-176.7859 922.496,-163 909.0007,-152.9175 903.2565,-134.8414 900.8832,-119.3241\"/>\n",
       "<polygon fill=\"#000000\" stroke=\"#000000\" points=\"904.3305,-118.6613 899.7249,-109.1199 897.3752,-119.4509 904.3305,-118.6613\"/>\n",
       "<text text-anchor=\"start\" x=\"922.496\" y=\"-141.3\" font-family=\"Times,serif\" font-size=\"14.00\" fill=\"#000000\">click(&#39;coverage&#39;)</text>\n",
       "</g>\n",
       "<!-- state&#45;37 -->\n",
       "<g id=\"node41\" class=\"node\">\n",
       "<title>state&#45;37</title>\n",
       "<ellipse fill=\"none\" stroke=\"#000000\" cx=\"1054.496\" cy=\"-91\" rx=\"50.0912\" ry=\"18\"/>\n",
       "<text text-anchor=\"middle\" x=\"1054.496\" y=\"-87.3\" font-family=\"Times,serif\" font-size=\"14.00\" fill=\"#000000\">&lt;state&#45;37&gt;</text>\n",
       "</g>\n",
       "<!-- state&#45;3&#45;&gt;state&#45;37 -->\n",
       "<g id=\"edge41\" class=\"edge\">\n",
       "<title>state&#45;3&#45;&gt;state&#45;37</title>\n",
       "<path fill=\"none\" stroke=\"#000000\" d=\"M2261.1766,-197.413C2166.5106,-194.1237 1940.854,-186.418 1751.496,-181 1731.3314,-180.423 1039.5824,-177.4401 1025.496,-163 1013.0306,-150.2218 1021.2309,-131.3891 1032.0474,-116.1893\"/>\n",
       "<polygon fill=\"#000000\" stroke=\"#000000\" points=\"1034.8858,-118.2398 1038.2111,-108.1803 1029.3384,-113.9705 1034.8858,-118.2398\"/>\n",
       "<text text-anchor=\"start\" x=\"1025.496\" y=\"-141.3\" font-family=\"Times,serif\" font-size=\"14.00\" fill=\"#000000\">click(&#39;fuzzing graphical user interfaces&#39;)</text>\n",
       "</g>\n",
       "<!-- state&#45;4&#45;&gt;unexplored -->\n",
       "<g id=\"edge43\" class=\"edge\">\n",
       "<title>state&#45;4&#45;&gt;unexplored</title>\n",
       "<path fill=\"none\" stroke=\"#000000\" d=\"M4158.0083,-129.9343C4188.41,-112.811 4241.2921,-85.6074 4290.496,-73 4383.4559,-49.181 5038.0014,-27.0083 5257.7508,-20.1611\"/>\n",
       "<polygon fill=\"#000000\" stroke=\"#000000\" points=\"5257.9958,-23.6552 5267.8824,-19.8466 5257.7786,-16.6586 5257.9958,-23.6552\"/>\n",
       "</g>\n",
       "<!-- state&#45;5&#45;&gt;unexplored -->\n",
       "<g id=\"edge44\" class=\"edge\">\n",
       "<title>state&#45;5&#45;&gt;unexplored</title>\n",
       "<path fill=\"none\" stroke=\"#000000\" d=\"M4253.8214,-130.0442C4283.7171,-113.1588 4335.4582,-86.3106 4383.496,-73 4466.858,-49.9016 5051.7861,-27.6329 5257.8588,-20.4219\"/>\n",
       "<polygon fill=\"#000000\" stroke=\"#000000\" points=\"5258.0953,-23.9159 5267.9673,-20.0696 5257.8514,-16.9201 5258.0953,-23.9159\"/>\n",
       "</g>\n",
       "<!-- state&#45;6&#45;&gt;unexplored -->\n",
       "<g id=\"edge45\" class=\"edge\">\n",
       "<title>state&#45;6&#45;&gt;unexplored</title>\n",
       "<path fill=\"none\" stroke=\"#000000\" d=\"M4349.481,-129.8198C4378.4506,-112.9897 4428.1679,-86.447 4474.496,-73 4620.5797,-30.5982 5078.9938,-20.8426 5257.4228,-18.6338\"/>\n",
       "<polygon fill=\"#000000\" stroke=\"#000000\" points=\"5257.5358,-22.1328 5267.4933,-18.5135 5257.4522,-15.1333 5257.5358,-22.1328\"/>\n",
       "</g>\n",
       "<!-- state&#45;7&#45;&gt;unexplored -->\n",
       "<g id=\"edge46\" class=\"edge\">\n",
       "<title>state&#45;7&#45;&gt;unexplored</title>\n",
       "<path fill=\"none\" stroke=\"#000000\" d=\"M4443.8015,-129.4653C4469.412,-113.0823 4512.2719,-87.6553 4552.496,-73 4592.5434,-58.4091 4604.2115,-59.3584 4646.496,-54 4763.0884,-39.2252 5107.7459,-25.7747 5258.0542,-20.4345\"/>\n",
       "<polygon fill=\"#000000\" stroke=\"#000000\" points=\"5258.2321,-23.9305 5268.1022,-20.0793 5257.9848,-16.9349 5258.2321,-23.9305\"/>\n",
       "</g>\n",
       "<!-- state&#45;8&#45;&gt;unexplored -->\n",
       "<g id=\"edge47\" class=\"edge\">\n",
       "<title>state&#45;8&#45;&gt;unexplored</title>\n",
       "<path fill=\"none\" stroke=\"#000000\" d=\"M4533.7804,-128.0599C4558.2167,-105.515 4605.3871,-66.9833 4654.496,-54 4711.5317,-38.921 5095.435,-25.319 5257.5141,-20.1774\"/>\n",
       "<polygon fill=\"#000000\" stroke=\"#000000\" points=\"5257.9787,-23.6645 5267.8633,-19.851 5257.758,-16.668 5257.9787,-23.6645\"/>\n",
       "</g>\n",
       "<!-- state&#45;9&#45;&gt;unexplored -->\n",
       "<g id=\"edge48\" class=\"edge\">\n",
       "<title>state&#45;9&#45;&gt;unexplored</title>\n",
       "<path fill=\"none\" stroke=\"#000000\" d=\"M4615.9577,-127.0366C4621.1371,-105.5883 4633.1452,-70.5432 4658.496,-54 4683.257,-37.8416 5089.7021,-24.6963 5257.703,-19.9272\"/>\n",
       "<polygon fill=\"#000000\" stroke=\"#000000\" points=\"5258.0387,-23.4192 5267.9361,-19.6387 5257.8414,-16.422 5258.0387,-23.4192\"/>\n",
       "</g>\n",
       "<!-- state&#45;10&#45;&gt;unexplored -->\n",
       "<g id=\"edge49\" class=\"edge\">\n",
       "<title>state&#45;10&#45;&gt;unexplored</title>\n",
       "<path fill=\"none\" stroke=\"#000000\" d=\"M4712.8795,-180.9546C4707.2198,-154.3319 4701.1299,-104.3094 4725.496,-73 4742.4152,-51.2594 4757.4369,-59.169 4784.496,-54 4873.0509,-37.0836 5130.7472,-25.4353 5257.4527,-20.5624\"/>\n",
       "<polygon fill=\"#000000\" stroke=\"#000000\" points=\"5257.9619,-24.0456 5267.8215,-20.1675 5257.6955,-17.0507 5257.9619,-24.0456\"/>\n",
       "</g>\n",
       "<!-- state&#45;11&#45;&gt;unexplored -->\n",
       "<g id=\"edge50\" class=\"edge\">\n",
       "<title>state&#45;11&#45;&gt;unexplored</title>\n",
       "<path fill=\"none\" stroke=\"#000000\" d=\"M4832.8339,-190.8418C4813.0367,-185.494 4790.4444,-176.8333 4773.496,-163 4740.6071,-136.1561 4712.909,-104.3857 4741.496,-73 4775.6285,-35.5258 5107.899,-23.1279 5257.3309,-19.4262\"/>\n",
       "<polygon fill=\"#000000\" stroke=\"#000000\" points=\"5257.8547,-22.9146 5267.7674,-19.1744 5257.6859,-15.9167 5257.8547,-22.9146\"/>\n",
       "</g>\n",
       "<!-- state&#45;12&#45;&gt;end -->\n",
       "<g id=\"edge87\" class=\"edge\">\n",
       "<title>state&#45;12&#45;&gt;end</title>\n",
       "<path fill=\"none\" stroke=\"#000000\" d=\"M7838.3488,-198.7756C7443.6637,-196.9664 4851.6473,-184.2804 4818.496,-163 4803.3229,-153.2602 4794.7852,-134.7552 4790.0601,-118.9449\"/>\n",
       "<polygon fill=\"#000000\" stroke=\"#000000\" points=\"4793.392,-117.8517 4787.4742,-109.0636 4786.62,-119.624 4793.392,-117.8517\"/>\n",
       "</g>\n",
       "<!-- state&#45;38 -->\n",
       "<g id=\"node42\" class=\"node\">\n",
       "<title>state&#45;38</title>\n",
       "<ellipse fill=\"none\" stroke=\"#000000\" cx=\"4909.496\" cy=\"-91\" rx=\"50.0912\" ry=\"18\"/>\n",
       "<text text-anchor=\"middle\" x=\"4909.496\" y=\"-87.3\" font-family=\"Times,serif\" font-size=\"14.00\" fill=\"#000000\">&lt;state&#45;38&gt;</text>\n",
       "</g>\n",
       "<!-- state&#45;12&#45;&gt;state&#45;38 -->\n",
       "<g id=\"edge51\" class=\"edge\">\n",
       "<title>state&#45;12&#45;&gt;state&#45;38</title>\n",
       "<path fill=\"none\" stroke=\"#000000\" d=\"M7838.4502,-198.891C7444.5738,-197.9763 4858.0789,-190.9095 4830.496,-163 4819.249,-151.6199 4821.8402,-140.4565 4830.496,-127 4836.8655,-117.0977 4846.7038,-109.8866 4857.3007,-104.6463\"/>\n",
       "<polygon fill=\"#000000\" stroke=\"#000000\" points=\"4858.9727,-107.7356 4866.7404,-100.5304 4856.1749,-101.319 4858.9727,-107.7356\"/>\n",
       "<text text-anchor=\"start\" x=\"4830.496\" y=\"-141.3\" font-family=\"Times,serif\" font-size=\"14.00\" fill=\"#000000\">click(&#39;Concolic Fuzzing&#39;)</text>\n",
       "</g>\n",
       "<!-- state&#45;39 -->\n",
       "<g id=\"node43\" class=\"node\">\n",
       "<title>state&#45;39</title>\n",
       "<ellipse fill=\"none\" stroke=\"#000000\" cx=\"5049.496\" cy=\"-91\" rx=\"50.0912\" ry=\"18\"/>\n",
       "<text text-anchor=\"middle\" x=\"5049.496\" y=\"-87.3\" font-family=\"Times,serif\" font-size=\"14.00\" fill=\"#000000\">&lt;state&#45;39&gt;</text>\n",
       "</g>\n",
       "<!-- state&#45;12&#45;&gt;state&#45;39 -->\n",
       "<g id=\"edge52\" class=\"edge\">\n",
       "<title>state&#45;12&#45;&gt;state&#45;39</title>\n",
       "<path fill=\"none\" stroke=\"#000000\" d=\"M7838.2488,-198.8588C7455.1089,-197.7256 5009.6285,-189.4584 4983.496,-163 4972.2526,-151.6164 4975.3285,-140.7584 4983.496,-127 4988.0932,-119.2558 4995.0069,-113.071 5002.6544,-108.1674\"/>\n",
       "<polygon fill=\"#000000\" stroke=\"#000000\" points=\"5004.8732,-110.9352 5011.8742,-102.983 5001.4422,-104.8337 5004.8732,-110.9352\"/>\n",
       "<text text-anchor=\"start\" x=\"4983.496\" y=\"-141.3\" font-family=\"Times,serif\" font-size=\"14.00\" fill=\"#000000\">click(&#39;Mining Function Specifications&#39;)</text>\n",
       "</g>\n",
       "<!-- state&#45;40 -->\n",
       "<g id=\"node44\" class=\"node\">\n",
       "<title>state&#45;40</title>\n",
       "<ellipse fill=\"none\" stroke=\"#000000\" cx=\"5211.496\" cy=\"-91\" rx=\"50.0912\" ry=\"18\"/>\n",
       "<text text-anchor=\"middle\" x=\"5211.496\" y=\"-87.3\" font-family=\"Times,serif\" font-size=\"14.00\" fill=\"#000000\">&lt;state&#45;40&gt;</text>\n",
       "</g>\n",
       "<!-- state&#45;12&#45;&gt;state&#45;40 -->\n",
       "<g id=\"edge53\" class=\"edge\">\n",
       "<title>state&#45;12&#45;&gt;state&#45;40</title>\n",
       "<path fill=\"none\" stroke=\"#000000\" d=\"M7838.3843,-198.7723C7474.0744,-197.0639 5245.8535,-185.6914 5220.496,-163 5208.5211,-152.2842 5206.2455,-134.3704 5206.9764,-119.0927\"/>\n",
       "<polygon fill=\"#000000\" stroke=\"#000000\" points=\"5210.469,-119.3315 5207.8804,-109.0578 5203.4972,-118.7034 5210.469,-119.3315\"/>\n",
       "<text text-anchor=\"start\" x=\"5220.496\" y=\"-141.3\" font-family=\"Times,serif\" font-size=\"14.00\" fill=\"#000000\">click(&#39;Timer&#39;)</text>\n",
       "</g>\n",
       "<!-- state&#45;41 -->\n",
       "<g id=\"node45\" class=\"node\">\n",
       "<title>state&#45;41</title>\n",
       "<ellipse fill=\"none\" stroke=\"#000000\" cx=\"5329.496\" cy=\"-91\" rx=\"50.0912\" ry=\"18\"/>\n",
       "<text text-anchor=\"middle\" x=\"5329.496\" y=\"-87.3\" font-family=\"Times,serif\" font-size=\"14.00\" fill=\"#000000\">&lt;state&#45;41&gt;</text>\n",
       "</g>\n",
       "<!-- state&#45;12&#45;&gt;state&#45;41 -->\n",
       "<g id=\"edge54\" class=\"edge\">\n",
       "<title>state&#45;12&#45;&gt;state&#45;41</title>\n",
       "<path fill=\"none\" stroke=\"#000000\" d=\"M7838.2885,-198.7796C7480.4804,-197.1518 5330.5732,-186.4013 5307.496,-163 5295.4511,-150.786 5301.5384,-132.1719 5310.332,-116.9302\"/>\n",
       "<polygon fill=\"#000000\" stroke=\"#000000\" points=\"5313.3262,-118.7438 5315.7057,-108.4196 5307.4073,-115.0065 5313.3262,-118.7438\"/>\n",
       "<text text-anchor=\"start\" x=\"5307.496\" y=\"-141.3\" font-family=\"Times,serif\" font-size=\"14.00\" fill=\"#000000\">click(&#39;Fuzzing: Breaking Things with Random Inputs&#39;)</text>\n",
       "</g>\n",
       "<!-- state&#45;42 -->\n",
       "<g id=\"node46\" class=\"node\">\n",
       "<title>state&#45;42</title>\n",
       "<ellipse fill=\"none\" stroke=\"#000000\" cx=\"5488.496\" cy=\"-91\" rx=\"50.0912\" ry=\"18\"/>\n",
       "<text text-anchor=\"middle\" x=\"5488.496\" y=\"-87.3\" font-family=\"Times,serif\" font-size=\"14.00\" fill=\"#000000\">&lt;state&#45;42&gt;</text>\n",
       "</g>\n",
       "<!-- state&#45;12&#45;&gt;state&#45;42 -->\n",
       "<g id=\"edge55\" class=\"edge\">\n",
       "<title>state&#45;12&#45;&gt;state&#45;42</title>\n",
       "<path fill=\"none\" stroke=\"#000000\" d=\"M7838.4037,-198.9019C7510.7375,-198.175 5685.0237,-192.7913 5636.496,-163 5621.0778,-153.5348 5631.5788,-138.3571 5617.496,-127 5605.7066,-117.4925 5572.5102,-108.3388 5542.747,-101.6409\"/>\n",
       "<polygon fill=\"#000000\" stroke=\"#000000\" points=\"5543.3383,-98.1875 5532.8209,-99.4667 5541.8404,-105.0254 5543.3383,-98.1875\"/>\n",
       "<text text-anchor=\"start\" x=\"5636.496\" y=\"-141.3\" font-family=\"Times,serif\" font-size=\"14.00\" fill=\"#000000\">click(&#39;Cite&#39;)</text>\n",
       "</g>\n",
       "<!-- state&#45;43 -->\n",
       "<g id=\"node47\" class=\"node\">\n",
       "<title>state&#45;43</title>\n",
       "<ellipse fill=\"none\" stroke=\"#000000\" cx=\"5646.496\" cy=\"-91\" rx=\"50.0912\" ry=\"18\"/>\n",
       "<text text-anchor=\"middle\" x=\"5646.496\" y=\"-87.3\" font-family=\"Times,serif\" font-size=\"14.00\" fill=\"#000000\">&lt;state&#45;43&gt;</text>\n",
       "</g>\n",
       "<!-- state&#45;12&#45;&gt;state&#45;43 -->\n",
       "<g id=\"edge56\" class=\"edge\">\n",
       "<title>state&#45;12&#45;&gt;state&#45;43</title>\n",
       "<path fill=\"none\" stroke=\"#000000\" d=\"M7838.314,-198.8681C7517.9756,-197.9413 5771.0185,-191.5811 5724.496,-163 5709.0809,-153.5298 5717.8845,-140.1846 5705.496,-127 5699.8342,-120.9744 5692.9458,-115.5843 5685.9012,-110.9243\"/>\n",
       "<polygon fill=\"#000000\" stroke=\"#000000\" points=\"5687.324,-107.6896 5676.9753,-105.419 5683.6493,-113.6476 5687.324,-107.6896\"/>\n",
       "<text text-anchor=\"start\" x=\"5724.496\" y=\"-141.3\" font-family=\"Times,serif\" font-size=\"14.00\" fill=\"#000000\">click(&#39;Mining Input Grammars&#39;)</text>\n",
       "</g>\n",
       "<!-- state&#45;44 -->\n",
       "<g id=\"node48\" class=\"node\">\n",
       "<title>state&#45;44</title>\n",
       "<ellipse fill=\"none\" stroke=\"#000000\" cx=\"5847.496\" cy=\"-91\" rx=\"50.0912\" ry=\"18\"/>\n",
       "<text text-anchor=\"middle\" x=\"5847.496\" y=\"-87.3\" font-family=\"Times,serif\" font-size=\"14.00\" fill=\"#000000\">&lt;state&#45;44&gt;</text>\n",
       "</g>\n",
       "<!-- state&#45;12&#45;&gt;state&#45;44 -->\n",
       "<g id=\"edge57\" class=\"edge\">\n",
       "<title>state&#45;12&#45;&gt;state&#45;44</title>\n",
       "<path fill=\"none\" stroke=\"#000000\" d=\"M7838.2015,-198.7793C7535.5716,-197.3663 5968.4283,-188.8106 5926.496,-163 5911.089,-153.5166 5919.9334,-140.1384 5907.496,-127 5901.6135,-120.7861 5894.4258,-115.2662 5887.0965,-110.5289\"/>\n",
       "<polygon fill=\"#000000\" stroke=\"#000000\" points=\"5888.866,-107.5089 5878.4971,-105.3326 5885.2457,-113.5 5888.866,-107.5089\"/>\n",
       "<text text-anchor=\"start\" x=\"5926.496\" y=\"-141.3\" font-family=\"Times,serif\" font-size=\"14.00\" fill=\"#000000\">click(&#39;Parsing Inputs&#39;)</text>\n",
       "</g>\n",
       "<!-- state&#45;45 -->\n",
       "<g id=\"node49\" class=\"node\">\n",
       "<title>state&#45;45</title>\n",
       "<ellipse fill=\"none\" stroke=\"#000000\" cx=\"6020.496\" cy=\"-91\" rx=\"50.0912\" ry=\"18\"/>\n",
       "<text text-anchor=\"middle\" x=\"6020.496\" y=\"-87.3\" font-family=\"Times,serif\" font-size=\"14.00\" fill=\"#000000\">&lt;state&#45;45&gt;</text>\n",
       "</g>\n",
       "<!-- state&#45;12&#45;&gt;state&#45;45 -->\n",
       "<g id=\"edge58\" class=\"edge\">\n",
       "<title>state&#45;12&#45;&gt;state&#45;45</title>\n",
       "<path fill=\"none\" stroke=\"#000000\" d=\"M7838.2443,-198.7034C7549.3121,-196.9131 6111.1236,-186.8158 6072.496,-163 6057.096,-153.5052 6063.9161,-141.7895 6053.496,-127 6050.8422,-123.2334 6047.828,-119.4437 6044.726,-115.8105\"/>\n",
       "<polygon fill=\"#000000\" stroke=\"#000000\" points=\"6047.1752,-113.2986 6037.9009,-108.1762 6041.9566,-117.9641 6047.1752,-113.2986\"/>\n",
       "<text text-anchor=\"start\" x=\"6072.496\" y=\"-141.3\" font-family=\"Times,serif\" font-size=\"14.00\" fill=\"#000000\">click(&#39;Introduction to Software Testing&#39;)</text>\n",
       "</g>\n",
       "<!-- state&#45;46 -->\n",
       "<g id=\"node50\" class=\"node\">\n",
       "<title>state&#45;46</title>\n",
       "<ellipse fill=\"none\" stroke=\"#000000\" cx=\"6230.496\" cy=\"-91\" rx=\"50.0912\" ry=\"18\"/>\n",
       "<text text-anchor=\"middle\" x=\"6230.496\" y=\"-87.3\" font-family=\"Times,serif\" font-size=\"14.00\" fill=\"#000000\">&lt;state&#45;46&gt;</text>\n",
       "</g>\n",
       "<!-- state&#45;12&#45;&gt;state&#45;46 -->\n",
       "<g id=\"edge59\" class=\"edge\">\n",
       "<title>state&#45;12&#45;&gt;state&#45;46</title>\n",
       "<path fill=\"none\" stroke=\"#000000\" d=\"M7838.3817,-198.5431C7574.1443,-196.0492 6353.529,-183.4379 6320.496,-163 6305.1109,-153.4811 6314.3929,-139.6877 6301.496,-127 6293.9553,-119.5817 6284.577,-113.3812 6275.134,-108.3335\"/>\n",
       "<polygon fill=\"#000000\" stroke=\"#000000\" points=\"6276.6302,-105.1686 6266.1184,-103.845 6273.5104,-111.435 6276.6302,-105.1686\"/>\n",
       "<text text-anchor=\"start\" x=\"6320.496\" y=\"-141.3\" font-family=\"Times,serif\" font-size=\"14.00\" fill=\"#000000\">click(&#39;Fuzzing with Grammars&#39;)</text>\n",
       "</g>\n",
       "<!-- state&#45;47 -->\n",
       "<g id=\"node51\" class=\"node\">\n",
       "<title>state&#45;47</title>\n",
       "<ellipse fill=\"none\" stroke=\"#000000\" cx=\"6432.496\" cy=\"-91\" rx=\"50.0912\" ry=\"18\"/>\n",
       "<text text-anchor=\"middle\" x=\"6432.496\" y=\"-87.3\" font-family=\"Times,serif\" font-size=\"14.00\" fill=\"#000000\">&lt;state&#45;47&gt;</text>\n",
       "</g>\n",
       "<!-- state&#45;12&#45;&gt;state&#45;47 -->\n",
       "<g id=\"edge60\" class=\"edge\">\n",
       "<title>state&#45;12&#45;&gt;state&#45;47</title>\n",
       "<path fill=\"none\" stroke=\"#000000\" d=\"M7838.1553,-198.3668C7594.7096,-195.2195 6549.999,-180.7017 6521.496,-163 6506.127,-153.4552 6515.3564,-139.7247 6502.496,-127 6495.1374,-119.7191 6486.0047,-113.595 6476.7921,-108.5806\"/>\n",
       "<polygon fill=\"#000000\" stroke=\"#000000\" points=\"6478.1182,-105.329 6467.6156,-103.9344 6474.9561,-111.5742 6478.1182,-105.329\"/>\n",
       "<text text-anchor=\"start\" x=\"6521.496\" y=\"-141.3\" font-family=\"Times,serif\" font-size=\"14.00\" fill=\"#000000\">click(&#39;Sitemap&#39;)</text>\n",
       "</g>\n",
       "<!-- state&#45;48 -->\n",
       "<g id=\"node52\" class=\"node\">\n",
       "<title>state&#45;48</title>\n",
       "<ellipse fill=\"none\" stroke=\"#000000\" cx=\"6593.496\" cy=\"-91\" rx=\"50.0912\" ry=\"18\"/>\n",
       "<text text-anchor=\"middle\" x=\"6593.496\" y=\"-87.3\" font-family=\"Times,serif\" font-size=\"14.00\" fill=\"#000000\">&lt;state&#45;48&gt;</text>\n",
       "</g>\n",
       "<!-- state&#45;12&#45;&gt;state&#45;48 -->\n",
       "<g id=\"edge61\" class=\"edge\">\n",
       "<title>state&#45;12&#45;&gt;state&#45;48</title>\n",
       "<path fill=\"none\" stroke=\"#000000\" d=\"M7838.4656,-198.2516C7607.9771,-194.7189 6658.5226,-179.2057 6632.496,-163 6617.1381,-153.4373 6622.1117,-142.9084 6613.496,-127 6611.8957,-124.0451 6610.2088,-120.9618 6608.5212,-117.8968\"/>\n",
       "<polygon fill=\"#000000\" stroke=\"#000000\" points=\"6611.4476,-115.9566 6603.5416,-108.9035 6605.3237,-119.3474 6611.4476,-115.9566\"/>\n",
       "<text text-anchor=\"start\" x=\"6632.496\" y=\"-141.3\" font-family=\"Times,serif\" font-size=\"14.00\" fill=\"#000000\">click(&#39;Symbolic Fuzzing&#39;)</text>\n",
       "</g>\n",
       "<!-- state&#45;49 -->\n",
       "<g id=\"node53\" class=\"node\">\n",
       "<title>state&#45;49</title>\n",
       "<ellipse fill=\"none\" stroke=\"#000000\" cx=\"6757.496\" cy=\"-91\" rx=\"50.0912\" ry=\"18\"/>\n",
       "<text text-anchor=\"middle\" x=\"6757.496\" y=\"-87.3\" font-family=\"Times,serif\" font-size=\"14.00\" fill=\"#000000\">&lt;state&#45;49&gt;</text>\n",
       "</g>\n",
       "<!-- state&#45;12&#45;&gt;state&#45;49 -->\n",
       "<g id=\"edge62\" class=\"edge\">\n",
       "<title>state&#45;12&#45;&gt;state&#45;49</title>\n",
       "<path fill=\"none\" stroke=\"#000000\" d=\"M7838.3261,-198.7371C7630.2597,-197.4686 6843.9962,-190.8442 6799.496,-163 6784.1592,-153.4036 6789.5962,-142.6363 6780.496,-127 6778.6878,-123.8931 6776.7398,-120.6722 6774.7698,-117.4918\"/>\n",
       "<polygon fill=\"#000000\" stroke=\"#000000\" points=\"6777.5568,-115.35 6769.2573,-108.7644 6771.6385,-119.0882 6777.5568,-115.35\"/>\n",
       "<text text-anchor=\"start\" x=\"6799.496\" y=\"-141.3\" font-family=\"Times,serif\" font-size=\"14.00\" fill=\"#000000\">click(&#39;Generating Software Tests&#39;)</text>\n",
       "</g>\n",
       "<!-- state&#45;50 -->\n",
       "<g id=\"node54\" class=\"node\">\n",
       "<title>state&#45;50</title>\n",
       "<ellipse fill=\"none\" stroke=\"#000000\" cx=\"6946.496\" cy=\"-91\" rx=\"50.0912\" ry=\"18\"/>\n",
       "<text text-anchor=\"middle\" x=\"6946.496\" y=\"-87.3\" font-family=\"Times,serif\" font-size=\"14.00\" fill=\"#000000\">&lt;state&#45;50&gt;</text>\n",
       "</g>\n",
       "<!-- state&#45;12&#45;&gt;state&#45;50 -->\n",
       "<g id=\"edge63\" class=\"edge\">\n",
       "<title>state&#45;12&#45;&gt;state&#45;50</title>\n",
       "<path fill=\"none\" stroke=\"#000000\" d=\"M7838.3863,-198.3133C7657.7109,-195.6598 7048.5086,-185.1049 7013.496,-163 6998.198,-153.3418 7006.2401,-140.7617 6994.496,-127 6990.236,-122.0081 6985.1657,-117.293 6979.942,-113.0206\"/>\n",
       "<polygon fill=\"#000000\" stroke=\"#000000\" points=\"6981.765,-110.0078 6971.7013,-106.6953 6977.5028,-115.5606 6981.765,-110.0078\"/>\n",
       "<text text-anchor=\"start\" x=\"7013.496\" y=\"-141.3\" font-family=\"Times,serif\" font-size=\"14.00\" fill=\"#000000\">click(&#39;Testing Graphical User Interfaces&#39;)</text>\n",
       "</g>\n",
       "<!-- state&#45;51 -->\n",
       "<g id=\"node55\" class=\"node\">\n",
       "<title>state&#45;51</title>\n",
       "<ellipse fill=\"none\" stroke=\"#000000\" cx=\"7167.496\" cy=\"-91\" rx=\"50.0912\" ry=\"18\"/>\n",
       "<text text-anchor=\"middle\" x=\"7167.496\" y=\"-87.3\" font-family=\"Times,serif\" font-size=\"14.00\" fill=\"#000000\">&lt;state&#45;51&gt;</text>\n",
       "</g>\n",
       "<!-- state&#45;12&#45;&gt;state&#45;51 -->\n",
       "<g id=\"edge64\" class=\"edge\">\n",
       "<title>state&#45;12&#45;&gt;state&#45;51</title>\n",
       "<path fill=\"none\" stroke=\"#000000\" d=\"M7838.6278,-197.441C7695.3823,-192.7871 7291.3814,-178.3618 7267.496,-163 7252.2796,-153.2137 7261.7125,-139.3545 7248.496,-127 7239.3618,-118.4616 7227.8665,-111.7168 7216.4288,-106.4871\"/>\n",
       "<polygon fill=\"#000000\" stroke=\"#000000\" points=\"7217.4609,-103.1232 7206.8878,-102.4444 7214.7298,-109.5685 7217.4609,-103.1232\"/>\n",
       "<text text-anchor=\"start\" x=\"7267.496\" y=\"-141.3\" font-family=\"Times,serif\" font-size=\"14.00\" fill=\"#000000\">click(&#39;Carving Unit Tests&#39;)</text>\n",
       "</g>\n",
       "<!-- state&#45;52 -->\n",
       "<g id=\"node56\" class=\"node\">\n",
       "<title>state&#45;52</title>\n",
       "<ellipse fill=\"none\" stroke=\"#000000\" cx=\"7363.496\" cy=\"-91\" rx=\"50.0912\" ry=\"18\"/>\n",
       "<text text-anchor=\"middle\" x=\"7363.496\" y=\"-87.3\" font-family=\"Times,serif\" font-size=\"14.00\" fill=\"#000000\">&lt;state&#45;52&gt;</text>\n",
       "</g>\n",
       "<!-- state&#45;12&#45;&gt;state&#45;52 -->\n",
       "<g id=\"edge65\" class=\"edge\">\n",
       "<title>state&#45;12&#45;&gt;state&#45;52</title>\n",
       "<path fill=\"none\" stroke=\"#000000\" d=\"M7838.5398,-197.6863C7728.4681,-194.4092 7472.1875,-184.5397 7439.496,-163 7424.3887,-153.0462 7432.7822,-140.2799 7420.496,-127 7415.0189,-121.08 7408.3607,-115.7388 7401.554,-111.0936\"/>\n",
       "<polygon fill=\"#000000\" stroke=\"#000000\" points=\"7403.2431,-108.0196 7392.9305,-105.5907 7399.4776,-113.9205 7403.2431,-108.0196\"/>\n",
       "<text text-anchor=\"start\" x=\"7439.496\" y=\"-141.3\" font-family=\"Times,serif\" font-size=\"14.00\" fill=\"#000000\">click(&#39;Error Handling&#39;)</text>\n",
       "</g>\n",
       "<!-- state&#45;53 -->\n",
       "<g id=\"node57\" class=\"node\">\n",
       "<title>state&#45;53</title>\n",
       "<ellipse fill=\"none\" stroke=\"#000000\" cx=\"7537.496\" cy=\"-91\" rx=\"50.0912\" ry=\"18\"/>\n",
       "<text text-anchor=\"middle\" x=\"7537.496\" y=\"-87.3\" font-family=\"Times,serif\" font-size=\"14.00\" fill=\"#000000\">&lt;state&#45;53&gt;</text>\n",
       "</g>\n",
       "<!-- state&#45;12&#45;&gt;state&#45;53 -->\n",
       "<g id=\"edge66\" class=\"edge\">\n",
       "<title>state&#45;12&#45;&gt;state&#45;53</title>\n",
       "<path fill=\"none\" stroke=\"#000000\" d=\"M7839.1105,-195.5591C7759.4925,-189.6418 7609.6082,-176.8335 7589.496,-163 7574.5898,-152.7474 7580.9161,-141.7895 7570.496,-127 7567.8422,-123.2334 7564.828,-119.4437 7561.726,-115.8105\"/>\n",
       "<polygon fill=\"#000000\" stroke=\"#000000\" points=\"7564.1752,-113.2986 7554.9009,-108.1762 7558.9566,-117.9641 7564.1752,-113.2986\"/>\n",
       "<text text-anchor=\"start\" x=\"7589.496\" y=\"-141.3\" font-family=\"Times,serif\" font-size=\"14.00\" fill=\"#000000\">click(&#39;Control Flow Graph&#39;)</text>\n",
       "</g>\n",
       "<!-- state&#45;54 -->\n",
       "<g id=\"node58\" class=\"node\">\n",
       "<title>state&#45;54</title>\n",
       "<ellipse fill=\"none\" stroke=\"#000000\" cx=\"7713.496\" cy=\"-91\" rx=\"50.0912\" ry=\"18\"/>\n",
       "<text text-anchor=\"middle\" x=\"7713.496\" y=\"-87.3\" font-family=\"Times,serif\" font-size=\"14.00\" fill=\"#000000\">&lt;state&#45;54&gt;</text>\n",
       "</g>\n",
       "<!-- state&#45;12&#45;&gt;state&#45;54 -->\n",
       "<g id=\"edge67\" class=\"edge\">\n",
       "<title>state&#45;12&#45;&gt;state&#45;54</title>\n",
       "<path fill=\"none\" stroke=\"#000000\" d=\"M7840.5365,-193.4726C7816.7421,-188.6752 7788.822,-179.7183 7768.496,-163 7754.5235,-151.5075 7760.235,-141.5596 7749.496,-127 7746.5677,-123.0299 7743.2051,-119.0798 7739.7368,-115.3297\"/>\n",
       "<polygon fill=\"#000000\" stroke=\"#000000\" points=\"7742.0571,-112.6955 7732.5743,-107.9704 7737.0408,-117.5778 7742.0571,-112.6955\"/>\n",
       "<text text-anchor=\"start\" x=\"7768.496\" y=\"-141.3\" font-family=\"Times,serif\" font-size=\"14.00\" fill=\"#000000\">click(&#39;Fuzzing with Input Fragments&#39;)</text>\n",
       "</g>\n",
       "<!-- state&#45;55 -->\n",
       "<g id=\"node59\" class=\"node\">\n",
       "<title>state&#45;55</title>\n",
       "<ellipse fill=\"none\" stroke=\"#000000\" cx=\"7918.496\" cy=\"-91\" rx=\"50.0912\" ry=\"18\"/>\n",
       "<text text-anchor=\"middle\" x=\"7918.496\" y=\"-87.3\" font-family=\"Times,serif\" font-size=\"14.00\" fill=\"#000000\">&lt;state&#45;55&gt;</text>\n",
       "</g>\n",
       "<!-- state&#45;12&#45;&gt;state&#45;55 -->\n",
       "<g id=\"edge68\" class=\"edge\">\n",
       "<title>state&#45;12&#45;&gt;state&#45;55</title>\n",
       "<path fill=\"none\" stroke=\"#000000\" d=\"M7929.3731,-188.5093C7952.0206,-181.781 7976.907,-172.543 7983.496,-163 7992.5867,-149.8335 7991.619,-140.7846 7983.496,-127 7978.977,-119.3315 7972.172,-113.1815 7964.6416,-108.2885\"/>\n",
       "<polygon fill=\"#000000\" stroke=\"#000000\" points=\"7965.9817,-105.0235 7955.5617,-103.1064 7962.5119,-111.103 7965.9817,-105.0235\"/>\n",
       "<text text-anchor=\"start\" x=\"7989.496\" y=\"-141.3\" font-family=\"Times,serif\" font-size=\"14.00\" fill=\"#000000\">click(&#39;Railroad Diagrams&#39;)</text>\n",
       "</g>\n",
       "<!-- state&#45;56 -->\n",
       "<g id=\"node60\" class=\"node\">\n",
       "<title>state&#45;56</title>\n",
       "<ellipse fill=\"none\" stroke=\"#000000\" cx=\"8106.496\" cy=\"-91\" rx=\"50.0912\" ry=\"18\"/>\n",
       "<text text-anchor=\"middle\" x=\"8106.496\" y=\"-87.3\" font-family=\"Times,serif\" font-size=\"14.00\" fill=\"#000000\">&lt;state&#45;56&gt;</text>\n",
       "</g>\n",
       "<!-- state&#45;12&#45;&gt;state&#45;56 -->\n",
       "<g id=\"edge69\" class=\"edge\">\n",
       "<title>state&#45;12&#45;&gt;state&#45;56</title>\n",
       "<path fill=\"none\" stroke=\"#000000\" d=\"M7937.8192,-195.4219C8007.6475,-189.8481 8128.3563,-178.1416 8141.496,-163 8151.9825,-150.9156 8147.5147,-141.8248 8141.496,-127 8139.7898,-122.7976 8137.3314,-118.8163 8134.497,-115.1399\"/>\n",
       "<polygon fill=\"#000000\" stroke=\"#000000\" points=\"8137.0844,-112.7823 8127.8374,-107.6109 8131.8412,-117.4201 8137.0844,-112.7823\"/>\n",
       "<text text-anchor=\"start\" x=\"8147.496\" y=\"-141.3\" font-family=\"Times,serif\" font-size=\"14.00\" fill=\"#000000\">click(&#39;Mutation&#45;Based Fuzzing&#39;)</text>\n",
       "</g>\n",
       "<!-- state&#45;57 -->\n",
       "<g id=\"node61\" class=\"node\">\n",
       "<title>state&#45;57</title>\n",
       "<ellipse fill=\"none\" stroke=\"#000000\" cx=\"8302.496\" cy=\"-91\" rx=\"50.0912\" ry=\"18\"/>\n",
       "<text text-anchor=\"middle\" x=\"8302.496\" y=\"-87.3\" font-family=\"Times,serif\" font-size=\"14.00\" fill=\"#000000\">&lt;state&#45;57&gt;</text>\n",
       "</g>\n",
       "<!-- state&#45;12&#45;&gt;state&#45;57 -->\n",
       "<g id=\"edge70\" class=\"edge\">\n",
       "<title>state&#45;12&#45;&gt;state&#45;57</title>\n",
       "<path fill=\"none\" stroke=\"#000000\" d=\"M7938.5018,-196.7469C8051.797,-191.4005 8319.2905,-177.3195 8332.496,-163 8343.3429,-151.238 8337.9428,-142.0443 8332.496,-127 8331.1328,-123.2349 8329.1849,-119.5868 8326.9274,-116.15\"/>\n",
       "<polygon fill=\"#000000\" stroke=\"#000000\" points=\"8329.6592,-113.9597 8320.8352,-108.0956 8324.0764,-118.1825 8329.6592,-113.9597\"/>\n",
       "<text text-anchor=\"start\" x=\"8338.496\" y=\"-141.3\" font-family=\"Times,serif\" font-size=\"14.00\" fill=\"#000000\">click(&#39;Tracking Information Flow&#39;)</text>\n",
       "</g>\n",
       "<!-- state&#45;58 -->\n",
       "<g id=\"node62\" class=\"node\">\n",
       "<title>state&#45;58</title>\n",
       "<ellipse fill=\"none\" stroke=\"#000000\" cx=\"8509.496\" cy=\"-91\" rx=\"50.0912\" ry=\"18\"/>\n",
       "<text text-anchor=\"middle\" x=\"8509.496\" y=\"-87.3\" font-family=\"Times,serif\" font-size=\"14.00\" fill=\"#000000\">&lt;state&#45;58&gt;</text>\n",
       "</g>\n",
       "<!-- state&#45;12&#45;&gt;state&#45;58 -->\n",
       "<g id=\"edge71\" class=\"edge\">\n",
       "<title>state&#45;12&#45;&gt;state&#45;58</title>\n",
       "<path fill=\"none\" stroke=\"#000000\" d=\"M7938.6507,-198.0794C8087.3865,-195.1066 8516.9927,-184.6721 8537.496,-163 8549.593,-150.2134 8541.9275,-131.6138 8531.5831,-116.5222\"/>\n",
       "<polygon fill=\"#000000\" stroke=\"#000000\" points=\"8534.0957,-114.0367 8525.3121,-108.1123 8528.4841,-118.2212 8534.0957,-114.0367\"/>\n",
       "<text text-anchor=\"start\" x=\"8543.496\" y=\"-141.3\" font-family=\"Times,serif\" font-size=\"14.00\" fill=\"#000000\">click(&#39;ExpectError&#39;)</text>\n",
       "</g>\n",
       "<!-- state&#45;59 -->\n",
       "<g id=\"node63\" class=\"node\">\n",
       "<title>state&#45;59</title>\n",
       "<ellipse fill=\"none\" stroke=\"#000000\" cx=\"8679.496\" cy=\"-91\" rx=\"50.0912\" ry=\"18\"/>\n",
       "<text text-anchor=\"middle\" x=\"8679.496\" y=\"-87.3\" font-family=\"Times,serif\" font-size=\"14.00\" fill=\"#000000\">&lt;state&#45;59&gt;</text>\n",
       "</g>\n",
       "<!-- state&#45;12&#45;&gt;state&#45;59 -->\n",
       "<g id=\"edge72\" class=\"edge\">\n",
       "<title>state&#45;12&#45;&gt;state&#45;59</title>\n",
       "<path fill=\"none\" stroke=\"#000000\" d=\"M7938.5892,-198.231C8104.7886,-195.4752 8629.0984,-185.063 8657.496,-163 8670.7461,-152.7055 8676.2396,-134.6301 8678.4238,-119.1661\"/>\n",
       "<polygon fill=\"#000000\" stroke=\"#000000\" points=\"8681.9273,-119.3092 8679.4619,-109.0052 8674.9636,-118.5977 8681.9273,-119.3092\"/>\n",
       "<text text-anchor=\"start\" x=\"8676.496\" y=\"-141.3\" font-family=\"Times,serif\" font-size=\"14.00\" fill=\"#000000\">click(&#39;Reducing Failure&#45;Inducing Inputs&#39;)</text>\n",
       "</g>\n",
       "<!-- state&#45;60 -->\n",
       "<g id=\"node64\" class=\"node\">\n",
       "<title>state&#45;60</title>\n",
       "<ellipse fill=\"none\" stroke=\"#000000\" cx=\"8891.496\" cy=\"-91\" rx=\"50.0912\" ry=\"18\"/>\n",
       "<text text-anchor=\"middle\" x=\"8891.496\" y=\"-87.3\" font-family=\"Times,serif\" font-size=\"14.00\" fill=\"#000000\">&lt;state&#45;60&gt;</text>\n",
       "</g>\n",
       "<!-- state&#45;12&#45;&gt;state&#45;60 -->\n",
       "<g id=\"edge73\" class=\"edge\">\n",
       "<title>state&#45;12&#45;&gt;state&#45;60</title>\n",
       "<path fill=\"none\" stroke=\"#000000\" d=\"M7938.6884,-198.1742C8142.1389,-194.7101 8895.4008,-180.7067 8912.496,-163 8924.2545,-150.8208 8918.6527,-132.4413 8910.2913,-117.3008\"/>\n",
       "<polygon fill=\"#000000\" stroke=\"#000000\" points=\"8913.0484,-115.0987 8904.8591,-108.3766 8907.069,-118.7384 8913.0484,-115.0987\"/>\n",
       "<text text-anchor=\"start\" x=\"8918.496\" y=\"-141.3\" font-family=\"Times,serif\" font-size=\"14.00\" fill=\"#000000\">click(&#39;home page&#39;)</text>\n",
       "</g>\n",
       "<!-- state&#45;61 -->\n",
       "<g id=\"node65\" class=\"node\">\n",
       "<title>state&#45;61</title>\n",
       "<ellipse fill=\"none\" stroke=\"#000000\" cx=\"9060.496\" cy=\"-91\" rx=\"50.0912\" ry=\"18\"/>\n",
       "<text text-anchor=\"middle\" x=\"9060.496\" y=\"-87.3\" font-family=\"Times,serif\" font-size=\"14.00\" fill=\"#000000\">&lt;state&#45;61&gt;</text>\n",
       "</g>\n",
       "<!-- state&#45;12&#45;&gt;state&#45;61 -->\n",
       "<g id=\"edge74\" class=\"edge\">\n",
       "<title>state&#45;12&#45;&gt;state&#45;61</title>\n",
       "<path fill=\"none\" stroke=\"#000000\" d=\"M7938.72,-198.8493C8152.6813,-198.024 8979.3484,-192.9048 9025.496,-163 9040.7089,-153.1416 9049.5055,-134.6389 9054.4749,-118.8593\"/>\n",
       "<polygon fill=\"#000000\" stroke=\"#000000\" points=\"9057.909,-119.5735 9057.2168,-109.0014 9051.165,-117.6977 9057.909,-119.5735\"/>\n",
       "<text text-anchor=\"start\" x=\"9050.496\" y=\"-141.3\" font-family=\"Times,serif\" font-size=\"14.00\" fill=\"#000000\">click(&#39;Testing Configurations&#39;)</text>\n",
       "</g>\n",
       "<!-- state&#45;62 -->\n",
       "<g id=\"node66\" class=\"node\">\n",
       "<title>state&#45;62</title>\n",
       "<ellipse fill=\"none\" stroke=\"#000000\" cx=\"9242.496\" cy=\"-91\" rx=\"50.0912\" ry=\"18\"/>\n",
       "<text text-anchor=\"middle\" x=\"9242.496\" y=\"-87.3\" font-family=\"Times,serif\" font-size=\"14.00\" fill=\"#000000\">&lt;state&#45;62&gt;</text>\n",
       "</g>\n",
       "<!-- state&#45;12&#45;&gt;state&#45;62 -->\n",
       "<g id=\"edge75\" class=\"edge\">\n",
       "<title>state&#45;12&#45;&gt;state&#45;62</title>\n",
       "<path fill=\"none\" stroke=\"#000000\" d=\"M7938.7512,-198.0591C8180.5129,-193.4824 9212.7746,-173.349 9225.496,-163 9238.2053,-152.6608 9242.4698,-134.7483 9243.5497,-119.3771\"/>\n",
       "<polygon fill=\"#000000\" stroke=\"#000000\" points=\"9247.0515,-119.3663 9243.8532,-109.2658 9240.0546,-119.1562 9247.0515,-119.3663\"/>\n",
       "<text text-anchor=\"start\" x=\"9242.496\" y=\"-141.3\" font-family=\"Times,serif\" font-size=\"14.00\" fill=\"#000000\">click(&#39;Getting Coverage&#39;)</text>\n",
       "</g>\n",
       "<!-- state&#45;63 -->\n",
       "<g id=\"node67\" class=\"node\">\n",
       "<title>state&#45;63</title>\n",
       "<ellipse fill=\"none\" stroke=\"#000000\" cx=\"9415.496\" cy=\"-91\" rx=\"50.0912\" ry=\"18\"/>\n",
       "<text text-anchor=\"middle\" x=\"9415.496\" y=\"-87.3\" font-family=\"Times,serif\" font-size=\"14.00\" fill=\"#000000\">&lt;state&#45;63&gt;</text>\n",
       "</g>\n",
       "<!-- state&#45;12&#45;&gt;state&#45;63 -->\n",
       "<g id=\"edge76\" class=\"edge\">\n",
       "<title>state&#45;12&#45;&gt;state&#45;63</title>\n",
       "<path fill=\"none\" stroke=\"#000000\" d=\"M7938.6753,-198.1704C8197.7289,-193.8421 9372.3309,-173.6434 9387.496,-163 9401.589,-153.109 9408.5888,-135.0323 9412.0654,-119.4669\"/>\n",
       "<polygon fill=\"#000000\" stroke=\"#000000\" points=\"9415.5827,-119.6923 9413.9533,-109.2236 9408.6987,-118.4235 9415.5827,-119.6923\"/>\n",
       "<text text-anchor=\"start\" x=\"9409.496\" y=\"-141.3\" font-family=\"Times,serif\" font-size=\"14.00\" fill=\"#000000\">click(&#39;Efficient Grammar Fuzzing&#39;)</text>\n",
       "</g>\n",
       "<!-- state&#45;64 -->\n",
       "<g id=\"node68\" class=\"node\">\n",
       "<title>state&#45;64</title>\n",
       "<ellipse fill=\"none\" stroke=\"#000000\" cx=\"9611.496\" cy=\"-91\" rx=\"50.0912\" ry=\"18\"/>\n",
       "<text text-anchor=\"middle\" x=\"9611.496\" y=\"-87.3\" font-family=\"Times,serif\" font-size=\"14.00\" fill=\"#000000\">&lt;state&#45;64&gt;</text>\n",
       "</g>\n",
       "<!-- state&#45;12&#45;&gt;state&#45;64 -->\n",
       "<g id=\"edge77\" class=\"edge\">\n",
       "<title>state&#45;12&#45;&gt;state&#45;64</title>\n",
       "<path fill=\"none\" stroke=\"#000000\" d=\"M7938.8301,-198.1805C8221.7793,-193.5461 9601.884,-170.56 9609.496,-163 9620.7419,-151.8309 9621.342,-134.0717 9619.0813,-118.9861\"/>\n",
       "<polygon fill=\"#000000\" stroke=\"#000000\" points=\"9622.5,-118.2309 9617.1548,-109.0833 9615.6289,-119.5676 9622.5,-118.2309\"/>\n",
       "<text text-anchor=\"start\" x=\"9619.496\" y=\"-141.3\" font-family=\"Times,serif\" font-size=\"14.00\" fill=\"#000000\">click(&#39;Greybox Fuzzing \\xe2\\x80\\xa2&#39;)</text>\n",
       "</g>\n",
       "<!-- state&#45;65 -->\n",
       "<g id=\"node69\" class=\"node\">\n",
       "<title>state&#45;65</title>\n",
       "<ellipse fill=\"none\" stroke=\"#000000\" cx=\"9802.496\" cy=\"-91\" rx=\"50.0912\" ry=\"18\"/>\n",
       "<text text-anchor=\"middle\" x=\"9802.496\" y=\"-87.3\" font-family=\"Times,serif\" font-size=\"14.00\" fill=\"#000000\">&lt;state&#45;65&gt;</text>\n",
       "</g>\n",
       "<!-- state&#45;12&#45;&gt;state&#45;65 -->\n",
       "<g id=\"edge78\" class=\"edge\">\n",
       "<title>state&#45;12&#45;&gt;state&#45;65</title>\n",
       "<path fill=\"none\" stroke=\"#000000\" d=\"M7938.6248,-198.134C8243.6494,-192.8575 9837.3498,-165.1861 9839.496,-163 9850.7048,-151.5824 9845.72,-141.7398 9839.496,-127 9837.6819,-122.704 9835.0769,-118.6672 9832.0772,-114.9616\"/>\n",
       "<polygon fill=\"#000000\" stroke=\"#000000\" points=\"9834.4132,-112.3347 9825.0342,-107.4067 9829.2931,-117.1079 9834.4132,-112.3347\"/>\n",
       "<text text-anchor=\"start\" x=\"9845.496\" y=\"-141.3\" font-family=\"Times,serif\" font-size=\"14.00\" fill=\"#000000\">click(&#39;&#39;)</text>\n",
       "</g>\n",
       "<!-- state&#45;66 -->\n",
       "<g id=\"node70\" class=\"node\">\n",
       "<title>state&#45;66</title>\n",
       "<ellipse fill=\"none\" stroke=\"#000000\" cx=\"9956.496\" cy=\"-91\" rx=\"50.0912\" ry=\"18\"/>\n",
       "<text text-anchor=\"middle\" x=\"9956.496\" y=\"-87.3\" font-family=\"Times,serif\" font-size=\"14.00\" fill=\"#000000\">&lt;state&#45;66&gt;</text>\n",
       "</g>\n",
       "<!-- state&#45;12&#45;&gt;state&#45;66 -->\n",
       "<g id=\"edge79\" class=\"edge\">\n",
       "<title>state&#45;12&#45;&gt;state&#45;66</title>\n",
       "<path fill=\"none\" stroke=\"#000000\" d=\"M7938.6823,-198.1316C8248.5703,-192.7652 9888.6296,-164.3049 9891.496,-163 9912.3164,-153.5215 9929.3431,-133.8287 9940.7398,-117.4308\"/>\n",
       "<polygon fill=\"#000000\" stroke=\"#000000\" points=\"9943.8861,-119.0179 9946.4803,-108.7456 9938.0464,-115.1581 9943.8861,-119.0179\"/>\n",
       "<text text-anchor=\"start\" x=\"9932.496\" y=\"-141.3\" font-family=\"Times,serif\" font-size=\"14.00\" fill=\"#000000\">click(&#39;Testing Web Applications&#39;)</text>\n",
       "</g>\n",
       "<!-- state&#45;67 -->\n",
       "<g id=\"node71\" class=\"node\">\n",
       "<title>state&#45;67</title>\n",
       "<ellipse fill=\"none\" stroke=\"#000000\" cx=\"10140.496\" cy=\"-91\" rx=\"50.0912\" ry=\"18\"/>\n",
       "<text text-anchor=\"middle\" x=\"10140.496\" y=\"-87.3\" font-family=\"Times,serif\" font-size=\"14.00\" fill=\"#000000\">&lt;state&#45;67&gt;</text>\n",
       "</g>\n",
       "<!-- state&#45;12&#45;&gt;state&#45;67 -->\n",
       "<g id=\"edge80\" class=\"edge\">\n",
       "<title>state&#45;12&#45;&gt;state&#45;67</title>\n",
       "<path fill=\"none\" stroke=\"#000000\" d=\"M7938.6513,-198.0793C8087.9395,-195.3487 8542.4838,-187.1046 8919.496,-181 8952.9953,-180.4576 10099.6598,-184.3306 10125.496,-163 10138.0561,-152.6302 10141.8234,-134.7176 10142.4421,-119.354\"/>\n",
       "<polygon fill=\"#000000\" stroke=\"#000000\" points=\"10145.9421,-119.247 10142.4367,-109.2489 10138.9421,-119.2508 10145.9421,-119.247\"/>\n",
       "<text text-anchor=\"start\" x=\"10141.496\" y=\"-141.3\" font-family=\"Times,serif\" font-size=\"14.00\" fill=\"#000000\">click(&#39;Search&#45;Based Fuzzing&#39;)</text>\n",
       "</g>\n",
       "<!-- state&#45;68 -->\n",
       "<g id=\"node72\" class=\"node\">\n",
       "<title>state&#45;68</title>\n",
       "<ellipse fill=\"none\" stroke=\"#000000\" cx=\"10327.496\" cy=\"-91\" rx=\"50.0912\" ry=\"18\"/>\n",
       "<text text-anchor=\"middle\" x=\"10327.496\" y=\"-87.3\" font-family=\"Times,serif\" font-size=\"14.00\" fill=\"#000000\">&lt;state&#45;68&gt;</text>\n",
       "</g>\n",
       "<!-- state&#45;12&#45;&gt;state&#45;68 -->\n",
       "<g id=\"edge81\" class=\"edge\">\n",
       "<title>state&#45;12&#45;&gt;state&#45;68</title>\n",
       "<path fill=\"none\" stroke=\"#000000\" d=\"M7938.6508,-198.0436C8087.9374,-195.2142 8542.4779,-186.7252 8919.496,-181 8938.8565,-180.706 10298.6346,-175.4119 10313.496,-163 10325.9636,-152.5873 10329.4823,-134.6745 10329.8748,-119.3215\"/>\n",
       "<polygon fill=\"#000000\" stroke=\"#000000\" points=\"10333.373,-119.1698 10329.7186,-109.2251 10326.3738,-119.2781 10333.373,-119.1698\"/>\n",
       "<text text-anchor=\"start\" x=\"10328.496\" y=\"-141.3\" font-family=\"Times,serif\" font-size=\"14.00\" fill=\"#000000\">click(&#39;Fuzzing with Generators&#39;)</text>\n",
       "</g>\n",
       "<!-- state&#45;69 -->\n",
       "<g id=\"node73\" class=\"node\">\n",
       "<title>state&#45;69</title>\n",
       "<ellipse fill=\"none\" stroke=\"#000000\" cx=\"10522.496\" cy=\"-91\" rx=\"50.0912\" ry=\"18\"/>\n",
       "<text text-anchor=\"middle\" x=\"10522.496\" y=\"-87.3\" font-family=\"Times,serif\" font-size=\"14.00\" fill=\"#000000\">&lt;state&#45;69&gt;</text>\n",
       "</g>\n",
       "<!-- state&#45;12&#45;&gt;state&#45;69 -->\n",
       "<g id=\"edge82\" class=\"edge\">\n",
       "<title>state&#45;12&#45;&gt;state&#45;69</title>\n",
       "<path fill=\"none\" stroke=\"#000000\" d=\"M7938.6503,-198.0149C8087.9358,-195.1064 8542.4734,-186.4212 8919.496,-181 8941.6201,-180.6819 10495.8911,-177.6238 10512.496,-163 10524.5771,-152.3603 10527.1013,-134.4467 10526.5932,-119.1501\"/>\n",
       "<polygon fill=\"#000000\" stroke=\"#000000\" points=\"10530.0775,-118.809 10525.8372,-109.0998 10523.0973,-119.3342 10530.0775,-118.809\"/>\n",
       "<text text-anchor=\"start\" x=\"10525.496\" y=\"-141.3\" font-family=\"Times,serif\" font-size=\"14.00\" fill=\"#000000\">click(&#39;Fuzzing APIs&#39;)</text>\n",
       "</g>\n",
       "<!-- state&#45;70 -->\n",
       "<g id=\"node74\" class=\"node\">\n",
       "<title>state&#45;70</title>\n",
       "<ellipse fill=\"none\" stroke=\"#000000\" cx=\"10691.496\" cy=\"-91\" rx=\"50.0912\" ry=\"18\"/>\n",
       "<text text-anchor=\"middle\" x=\"10691.496\" y=\"-87.3\" font-family=\"Times,serif\" font-size=\"14.00\" fill=\"#000000\">&lt;state&#45;70&gt;</text>\n",
       "</g>\n",
       "<!-- state&#45;12&#45;&gt;state&#45;70 -->\n",
       "<g id=\"edge83\" class=\"edge\">\n",
       "<title>state&#45;12&#45;&gt;state&#45;70</title>\n",
       "<path fill=\"none\" stroke=\"#000000\" d=\"M7938.6501,-197.9991C8087.9349,-195.047 8542.471,-186.2537 8919.496,-181 8943.5088,-180.6654 10627.672,-174.9622 10648.496,-163 10665.1193,-153.4508 10676.018,-134.6773 10682.6833,-118.6945\"/>\n",
       "<polygon fill=\"#000000\" stroke=\"#000000\" points=\"10686.0068,-119.8018 10686.2996,-109.211 10679.4662,-117.3077 10686.0068,-119.8018\"/>\n",
       "<text text-anchor=\"start\" x=\"10678.496\" y=\"-141.3\" font-family=\"Times,serif\" font-size=\"14.00\" fill=\"#000000\">click(&#39;Evaluating Test Effectiveness with Mutation Analysis&#39;)</text>\n",
       "</g>\n",
       "<!-- state&#45;71 -->\n",
       "<g id=\"node75\" class=\"node\">\n",
       "<title>state&#45;71</title>\n",
       "<ellipse fill=\"none\" stroke=\"#000000\" cx=\"10959.496\" cy=\"-91\" rx=\"50.0912\" ry=\"18\"/>\n",
       "<text text-anchor=\"middle\" x=\"10959.496\" y=\"-87.3\" font-family=\"Times,serif\" font-size=\"14.00\" fill=\"#000000\">&lt;state&#45;71&gt;</text>\n",
       "</g>\n",
       "<!-- state&#45;12&#45;&gt;state&#45;71 -->\n",
       "<g id=\"edge84\" class=\"edge\">\n",
       "<title>state&#45;12&#45;&gt;state&#45;71</title>\n",
       "<path fill=\"none\" stroke=\"#000000\" d=\"M7938.6497,-197.9659C8087.9332,-194.9219 8542.4662,-185.9009 8919.496,-181 8948.7723,-180.6194 11006.8813,-183.7915 11027.496,-163 11038.7613,-151.6381 11035.7489,-140.7073 11027.496,-127 11022.5356,-118.7614 11014.9875,-112.3094 11006.6992,-107.2908\"/>\n",
       "<polygon fill=\"#000000\" stroke=\"#000000\" points=\"11008.3396,-104.199 10997.8715,-102.5649 11005.0358,-110.3704 11008.3396,-104.199\"/>\n",
       "<text text-anchor=\"start\" x=\"11034.496\" y=\"-141.3\" font-family=\"Times,serif\" font-size=\"14.00\" fill=\"#000000\">click(&#39;Grammar Coverage&#39;)</text>\n",
       "</g>\n",
       "<!-- state&#45;72 -->\n",
       "<g id=\"node76\" class=\"node\">\n",
       "<title>state&#45;72</title>\n",
       "<ellipse fill=\"none\" stroke=\"#000000\" cx=\"11181.496\" cy=\"-91\" rx=\"50.0912\" ry=\"18\"/>\n",
       "<text text-anchor=\"middle\" x=\"11181.496\" y=\"-87.3\" font-family=\"Times,serif\" font-size=\"14.00\" fill=\"#000000\">&lt;state&#45;72&gt;</text>\n",
       "</g>\n",
       "<!-- state&#45;12&#45;&gt;state&#45;72 -->\n",
       "<g id=\"edge85\" class=\"edge\">\n",
       "<title>state&#45;12&#45;&gt;state&#45;72</title>\n",
       "<path fill=\"none\" stroke=\"#000000\" d=\"M7938.6495,-197.9549C8087.9327,-194.8808 8542.4647,-185.7847 8919.496,-181 8935.273,-180.7998 11180.3833,-174.201 11191.496,-163 11202.8702,-151.5353 11200.3742,-133.5413 11195.0326,-118.4105\"/>\n",
       "<polygon fill=\"#000000\" stroke=\"#000000\" points=\"11198.2149,-116.9434 11191.2287,-108.9782 11191.723,-119.5615 11198.2149,-116.9434\"/>\n",
       "<text text-anchor=\"start\" x=\"11199.496\" y=\"-141.3\" font-family=\"Times,serif\" font-size=\"14.00\" fill=\"#000000\">click(&#39;Probabilistic Grammar Fuzzing&#39;)</text>\n",
       "</g>\n",
       "<!-- state&#45;73 -->\n",
       "<g id=\"node77\" class=\"node\">\n",
       "<title>state&#45;73</title>\n",
       "<ellipse fill=\"none\" stroke=\"#000000\" cx=\"11413.496\" cy=\"-91\" rx=\"50.0912\" ry=\"18\"/>\n",
       "<text text-anchor=\"middle\" x=\"11413.496\" y=\"-87.3\" font-family=\"Times,serif\" font-size=\"14.00\" fill=\"#000000\">&lt;state&#45;73&gt;</text>\n",
       "</g>\n",
       "<!-- state&#45;12&#45;&gt;state&#45;73 -->\n",
       "<g id=\"edge86\" class=\"edge\">\n",
       "<title>state&#45;12&#45;&gt;state&#45;73</title>\n",
       "<path fill=\"none\" stroke=\"#000000\" d=\"M7938.6494,-197.9419C8087.9321,-194.8319 8542.463,-185.6468 8919.496,-181 8936.877,-180.7858 11410.249,-175.3353 11422.496,-163 11433.8539,-151.5601 11431.6077,-133.5661 11426.5202,-118.4291\"/>\n",
       "<polygon fill=\"#000000\" stroke=\"#000000\" points=\"11429.7447,-117.063 11422.8811,-108.9921 11423.2135,-119.5817 11429.7447,-117.063\"/>\n",
       "<text text-anchor=\"start\" x=\"11430.496\" y=\"-141.3\" font-family=\"Times,serif\" font-size=\"14.00\" fill=\"#000000\">click(&#39;About this book&#39;)</text>\n",
       "</g>\n",
       "<!-- state&#45;13&#45;&gt;unexplored -->\n",
       "<g id=\"edge88\" class=\"edge\">\n",
       "<title>state&#45;13&#45;&gt;unexplored</title>\n",
       "<path fill=\"none\" stroke=\"#000000\" d=\"M9028.2339,-196.66C9115.3768,-192.6665 9301.3438,-184.6168 9458.496,-181 9487.7671,-180.3263 11545.8813,-183.7915 11566.496,-163 11577.7613,-151.6381 11574.511,-140.8477 11566.496,-127 11481.5229,19.8106 11397.2315,-66.1422 10447.496,-54 8385.8154,-27.6417 5856.7093,-19.4893 5401.4055,-18.1943\"/>\n",
       "<polygon fill=\"#000000\" stroke=\"#000000\" points=\"5401.3618,-14.6943 5391.3519,-18.1659 5401.3419,-21.6942 5401.3618,-14.6943\"/>\n",
       "</g>\n",
       "<!-- state&#45;14&#45;&gt;unexplored -->\n",
       "<g id=\"edge89\" class=\"edge\">\n",
       "<title>state&#45;14&#45;&gt;unexplored</title>\n",
       "<path fill=\"none\" stroke=\"#000000\" d=\"M9567.5547,-198.1219C9716.5553,-195.5089 10170.2227,-187.5567 10546.496,-181 10575.3015,-180.4981 11563.3018,-183.5477 11583.496,-163 11613.1503,-132.8264 11588.7513,-94.8031 11552.496,-73 11483.1496,-31.2967 6089.2707,-19.4726 5401.3887,-18.1338\"/>\n",
       "<polygon fill=\"#000000\" stroke=\"#000000\" points=\"5401.3737,-14.6338 5391.3669,-18.1144 5401.3601,-21.6338 5401.3737,-14.6338\"/>\n",
       "</g>\n",
       "<!-- state&#45;15&#45;&gt;unexplored -->\n",
       "<g id=\"edge90\" class=\"edge\">\n",
       "<title>state&#45;15&#45;&gt;unexplored</title>\n",
       "<path fill=\"none\" stroke=\"#000000\" d=\"M10655.7662,-198.1257C10856.0134,-194.526 11586.8798,-180.2263 11603.496,-163 11631.8778,-133.5759 11617.3496,-97.3299 11584.496,-73 11519.1233,-24.588 6092.3233,-18.6159 5401.5423,-18.0517\"/>\n",
       "<polygon fill=\"#000000\" stroke=\"#000000\" points=\"5401.4819,-14.5518 5391.479,-18.0436 5401.4762,-21.5518 5401.4819,-14.5518\"/>\n",
       "</g>\n",
       "<!-- state&#45;16&#45;&gt;unexplored -->\n",
       "<g id=\"edge91\" class=\"edge\">\n",
       "<title>state&#45;16&#45;&gt;unexplored</title>\n",
       "<path fill=\"none\" stroke=\"#000000\" d=\"M1277.3893,-81.1059C1292.4681,-77.9476 1309.6642,-74.806 1325.496,-73 1607.3493,-40.8477 1679.8728,-59.7394 1963.496,-54 3285.5578,-27.2467 4900.1374,-19.6622 5257.3348,-18.2614\"/>\n",
       "<polygon fill=\"#000000\" stroke=\"#000000\" points=\"5257.5481,-21.7607 5267.5344,-18.2217 5257.5209,-14.7607 5257.5481,-21.7607\"/>\n",
       "</g>\n",
       "<!-- state&#45;17&#45;&gt;unexplored -->\n",
       "<g id=\"edge92\" class=\"edge\">\n",
       "<title>state&#45;17&#45;&gt;unexplored</title>\n",
       "<path fill=\"none\" stroke=\"#000000\" d=\"M1427.6709,-81.7593C1444.9491,-78.4262 1465.0865,-74.9969 1483.496,-73 1715.1789,-47.8691 1774.5186,-59.4853 2007.496,-54 3311.1129,-23.3071 4903.1134,-18.7488 5257.404,-18.1025\"/>\n",
       "<polygon fill=\"#000000\" stroke=\"#000000\" points=\"5257.5296,-21.6024 5267.5234,-18.0845 5257.5171,-14.6024 5257.5296,-21.6024\"/>\n",
       "</g>\n",
       "<!-- state&#45;18&#45;&gt;unexplored -->\n",
       "<g id=\"edge93\" class=\"edge\">\n",
       "<title>state&#45;18&#45;&gt;unexplored</title>\n",
       "<path fill=\"none\" stroke=\"#000000\" d=\"M1582.8357,-80.3367C1595.1605,-77.4779 1608.8098,-74.7094 1621.496,-73 1812.4003,-47.2767 1861.9388,-59.2816 2054.496,-54 2709.2442,-36.0411 4837.9113,-21.25 5257.3531,-18.4698\"/>\n",
       "<polygon fill=\"#000000\" stroke=\"#000000\" points=\"5257.5479,-21.9687 5267.5245,-18.4025 5257.5015,-14.9688 5257.5479,-21.9687\"/>\n",
       "</g>\n",
       "<!-- state&#45;19&#45;&gt;unexplored -->\n",
       "<g id=\"edge94\" class=\"edge\">\n",
       "<title>state&#45;19&#45;&gt;unexplored</title>\n",
       "<path fill=\"none\" stroke=\"#000000\" d=\"M1723.7094,-81.6074C1740.7029,-78.2966 1760.4346,-74.923 1778.496,-73 2053.9568,-43.6722 2124.5417,-59.9253 2401.496,-54 3540.3282,-29.6352 4928.698,-20.3426 5257.3449,-18.4034\"/>\n",
       "<polygon fill=\"#000000\" stroke=\"#000000\" points=\"5257.6953,-21.9015 5267.6745,-18.3428 5257.6542,-14.9016 5257.6953,-21.9015\"/>\n",
       "</g>\n",
       "<!-- state&#45;20&#45;&gt;unexplored -->\n",
       "<g id=\"edge95\" class=\"edge\">\n",
       "<title>state&#45;20&#45;&gt;unexplored</title>\n",
       "<path fill=\"none\" stroke=\"#000000\" d=\"M1883.0416,-83.5264C1907.6802,-79.7663 1938.6803,-75.4896 1966.496,-73 2177.377,-54.1251 2230.8445,-59.5427 2442.496,-54 3564.0166,-24.6297 4931.2571,-19.0979 5257.2725,-18.1713\"/>\n",
       "<polygon fill=\"#000000\" stroke=\"#000000\" points=\"5257.5328,-21.6707 5267.5229,-18.1427 5257.5132,-14.6707 5257.5328,-21.6707\"/>\n",
       "</g>\n",
       "<!-- state&#45;21&#45;&gt;unexplored -->\n",
       "<g id=\"edge96\" class=\"edge\">\n",
       "<title>state&#45;21&#45;&gt;unexplored</title>\n",
       "<path fill=\"none\" stroke=\"#000000\" d=\"M2070.3502,-82.8508C2092.8284,-79.1298 2120.5145,-75.0932 2145.496,-73 2605.2953,-34.4728 2722.1563,-62.0919 3183.496,-54 3997.7901,-39.7174 4985.9093,-23.5817 5257.4861,-19.1681\"/>\n",
       "<polygon fill=\"#000000\" stroke=\"#000000\" points=\"5257.6633,-22.6657 5267.6051,-19.0036 5257.5495,-15.6667 5257.6633,-22.6657\"/>\n",
       "</g>\n",
       "<!-- state&#45;22&#45;&gt;unexplored -->\n",
       "<g id=\"edge97\" class=\"edge\">\n",
       "<title>state&#45;22&#45;&gt;unexplored</title>\n",
       "<path fill=\"none\" stroke=\"#000000\" d=\"M2254.0594,-88.3025C2327.0482,-84.4136 2467.7512,-77.2352 2587.496,-73 3648.4644,-35.4747 4941.3316,-21.5939 5257.3123,-18.6365\"/>\n",
       "<polygon fill=\"#000000\" stroke=\"#000000\" points=\"5257.7322,-22.1329 5267.6992,-18.54 5257.667,-15.1332 5257.7322,-22.1329\"/>\n",
       "</g>\n",
       "<!-- state&#45;23&#45;&gt;unexplored -->\n",
       "<g id=\"edge98\" class=\"edge\">\n",
       "<title>state&#45;23&#45;&gt;unexplored</title>\n",
       "<path fill=\"none\" stroke=\"#000000\" d=\"M2695.1615,-86.2343C2739.9048,-82.0435 2808.1038,-76.1367 2867.496,-73 3350.7781,-47.4761 4904.7308,-24.0824 5257.711,-19.0127\"/>\n",
       "<polygon fill=\"#000000\" stroke=\"#000000\" points=\"5257.8529,-22.5111 5267.8017,-18.868 5257.7525,-15.5118 5257.8529,-22.5111\"/>\n",
       "</g>\n",
       "<!-- state&#45;24&#45;&gt;unexplored -->\n",
       "<g id=\"edge99\" class=\"edge\">\n",
       "<title>state&#45;24&#45;&gt;unexplored</title>\n",
       "<path fill=\"none\" stroke=\"#000000\" d=\"M2972.7262,-83.9074C2999.9537,-80.0178 3035.105,-75.4923 3066.496,-73 3341.7589,-51.1457 3411.462,-61.2486 3687.496,-54 4294.564,-38.0586 5028.0118,-23.7253 5257.3919,-19.3578\"/>\n",
       "<polygon fill=\"#000000\" stroke=\"#000000\" points=\"5257.6771,-22.8532 5267.6087,-19.1636 5257.544,-15.8544 5257.6771,-22.8532\"/>\n",
       "</g>\n",
       "<!-- state&#45;25&#45;&gt;unexplored -->\n",
       "<g id=\"edge100\" class=\"edge\">\n",
       "<title>state&#45;25&#45;&gt;unexplored</title>\n",
       "<path fill=\"none\" stroke=\"#000000\" d=\"M3169.1137,-81.7851C3186.5673,-78.4555 3206.9071,-75.0219 3225.496,-73 3443.0425,-49.3371 3498.7678,-60.6653 3717.496,-54 4312.3735,-35.8722 5031.0009,-23.0244 5257.5277,-19.1898\"/>\n",
       "<polygon fill=\"#000000\" stroke=\"#000000\" points=\"5257.682,-22.6878 5267.6214,-19.0194 5257.5638,-15.6888 5257.682,-22.6878\"/>\n",
       "</g>\n",
       "<!-- state&#45;26&#45;&gt;unexplored -->\n",
       "<g id=\"edge101\" class=\"edge\">\n",
       "<title>state&#45;26&#45;&gt;unexplored</title>\n",
       "<path fill=\"none\" stroke=\"#000000\" d=\"M3325.2479,-80.2827C3337.466,-77.4585 3350.9536,-74.7225 3363.496,-73 3534.5416,-49.5102 3578.9559,-60.1916 3751.496,-54 4332.0918,-33.1652 5033.3094,-22.1489 5257.1557,-18.9781\"/>\n",
       "<polygon fill=\"#000000\" stroke=\"#000000\" points=\"5257.5022,-22.4736 5267.4518,-18.833 5257.4035,-15.4743 5257.5022,-22.4736\"/>\n",
       "</g>\n",
       "<!-- state&#45;27&#45;&gt;unexplored -->\n",
       "<g id=\"edge102\" class=\"edge\">\n",
       "<title>state&#45;27&#45;&gt;unexplored</title>\n",
       "<path fill=\"none\" stroke=\"#000000\" d=\"M3461.2671,-79.516C3471.055,-76.9966 3481.5974,-74.6051 3491.496,-73 3617.2447,-52.6088 3650.2323,-59.7006 3777.496,-54 4347.6632,-28.46 5036.5197,-20.54 5257.5612,-18.5655\"/>\n",
       "<polygon fill=\"#000000\" stroke=\"#000000\" points=\"5257.7623,-22.064 5267.731,-18.4759 5257.7005,-15.0642 5257.7623,-22.064\"/>\n",
       "</g>\n",
       "<!-- state&#45;28&#45;&gt;unexplored -->\n",
       "<g id=\"edge103\" class=\"edge\">\n",
       "<title>state&#45;28&#45;&gt;unexplored</title>\n",
       "<path fill=\"none\" stroke=\"#000000\" d=\"M3587.7309,-78.9258C3596.4275,-76.5545 3605.7158,-74.3773 3614.496,-73 3839.8961,-37.6434 3899.4675,-61.6374 4127.496,-54 4556.2657,-39.6392 5071.1654,-25.1376 5257.6576,-19.9741\"/>\n",
       "<polygon fill=\"#000000\" stroke=\"#000000\" points=\"5257.9804,-23.4667 5267.8798,-19.6914 5257.7868,-16.4693 5257.9804,-23.4667\"/>\n",
       "</g>\n",
       "<!-- state&#45;29&#45;&gt;unexplored -->\n",
       "<g id=\"edge104\" class=\"edge\">\n",
       "<title>state&#45;29&#45;&gt;unexplored</title>\n",
       "<path fill=\"none\" stroke=\"#000000\" d=\"M3715.8354,-81.0795C3730.5303,-77.9986 3747.1659,-74.9126 3762.496,-73 3934.6999,-51.5161 3979.0933,-60.8752 4152.496,-54 4571.2592,-37.3965 5074.0964,-24.2996 5257.8277,-19.7402\"/>\n",
       "<polygon fill=\"#000000\" stroke=\"#000000\" points=\"5257.9931,-23.2373 5267.9034,-19.4908 5257.8198,-16.2394 5257.9931,-23.2373\"/>\n",
       "</g>\n",
       "<!-- state&#45;30&#45;&gt;unexplored -->\n",
       "<g id=\"edge105\" class=\"edge\">\n",
       "<title>state&#45;30&#45;&gt;unexplored</title>\n",
       "<path fill=\"none\" stroke=\"#000000\" d=\"M3862.2696,-80.4353C3874.4883,-77.6155 3887.9708,-74.8435 3900.496,-73 4023.0198,-54.9669 4054.8054,-60.1591 4178.496,-54 4586.4041,-33.6885 5076.2375,-22.8695 5257.4977,-19.3272\"/>\n",
       "<polygon fill=\"#000000\" stroke=\"#000000\" points=\"5257.772,-22.8226 5267.7022,-19.1291 5257.6361,-15.8239 5257.772,-22.8226\"/>\n",
       "</g>\n",
       "<!-- state&#45;31&#45;&gt;unexplored -->\n",
       "<g id=\"edge106\" class=\"edge\">\n",
       "<title>state&#45;31&#45;&gt;unexplored</title>\n",
       "<path fill=\"none\" stroke=\"#000000\" d=\"M4003.3505,-81.9796C4049.4551,-72.9596 4124.2201,-59.6414 4189.496,-54 4398.276,-35.9563 5041.1069,-23.1403 5257.5308,-19.242\"/>\n",
       "<polygon fill=\"#000000\" stroke=\"#000000\" points=\"5257.8815,-22.7364 5267.8172,-19.0576 5257.756,-15.7375 5257.8815,-22.7364\"/>\n",
       "</g>\n",
       "<!-- state&#45;32&#45;&gt;unexplored -->\n",
       "<g id=\"edge107\" class=\"edge\">\n",
       "<title>state&#45;32&#45;&gt;unexplored</title>\n",
       "<path fill=\"none\" stroke=\"#000000\" d=\"M4141.2571,-75.6957C4156.8414,-67.6208 4177.1733,-58.4798 4196.496,-54 4299.2144,-30.1857 5024.0041,-21.014 5257.3243,-18.6585\"/>\n",
       "<polygon fill=\"#000000\" stroke=\"#000000\" points=\"5257.436,-22.1576 5267.4005,-18.5579 5257.3661,-15.158 5257.436,-22.1576\"/>\n",
       "</g>\n",
       "<!-- state&#45;33&#45;&gt;unexplored -->\n",
       "<g id=\"edge108\" class=\"edge\">\n",
       "<title>state&#45;33&#45;&gt;unexplored</title>\n",
       "<path fill=\"none\" stroke=\"#000000\" d=\"M390.6396,-83.7337C416.9087,-79.8885 450.4684,-75.4645 480.496,-73 741.9749,-51.5394 808.192,-59.3314 1070.496,-54 1934.1508,-36.4461 4769.016,-20.9469 5257.5033,-18.374\"/>\n",
       "<polygon fill=\"#000000\" stroke=\"#000000\" points=\"5257.612,-21.8736 5267.5934,-18.3209 5257.5751,-14.8737 5257.612,-21.8736\"/>\n",
       "</g>\n",
       "<!-- state&#45;34&#45;&gt;unexplored -->\n",
       "<g id=\"edge109\" class=\"edge\">\n",
       "<title>state&#45;34&#45;&gt;unexplored</title>\n",
       "<path fill=\"none\" stroke=\"#000000\" d=\"M586.0907,-84.2228C614.2364,-80.3667 650.8602,-75.7683 683.496,-73 871.0121,-57.0942 918.3735,-59.0252 1106.496,-54 1962.4951,-31.1344 4772.2381,-20.0241 5257.7225,-18.2538\"/>\n",
       "<polygon fill=\"#000000\" stroke=\"#000000\" points=\"5257.7645,-21.7537 5267.7517,-18.2173 5257.739,-14.7538 5257.7645,-21.7537\"/>\n",
       "</g>\n",
       "<!-- state&#45;35&#45;&gt;unexplored -->\n",
       "<g id=\"edge110\" class=\"edge\">\n",
       "<title>state&#45;35&#45;&gt;unexplored</title>\n",
       "<path fill=\"none\" stroke=\"#000000\" d=\"M785.7093,-81.6065C802.7028,-78.2956 822.4345,-74.9221 840.496,-73 1116.8417,-43.5916 1187.6446,-59.5171 1465.496,-54 2996.7327,-23.5955 4869.8207,-18.7895 5257.3214,-18.1053\"/>\n",
       "<polygon fill=\"#000000\" stroke=\"#000000\" points=\"5257.5526,-21.6051 5267.5465,-18.0877 5257.5405,-14.6051 5257.5526,-21.6051\"/>\n",
       "</g>\n",
       "<!-- state&#45;36&#45;&gt;unexplored -->\n",
       "<g id=\"edge111\" class=\"edge\">\n",
       "<title>state&#45;36&#45;&gt;unexplored</title>\n",
       "<path fill=\"none\" stroke=\"#000000\" d=\"M942.3005,-81.5594C958.8384,-78.2848 977.9686,-74.9487 995.496,-73 1227.9936,-47.1505 1287.6264,-59.3284 1521.496,-54 2289.182,-36.5093 4799.0118,-21.1196 5257.3137,-18.4191\"/>\n",
       "<polygon fill=\"#000000\" stroke=\"#000000\" points=\"5257.46,-21.9184 5267.4392,-18.3595 5257.4188,-14.9185 5257.46,-21.9184\"/>\n",
       "</g>\n",
       "<!-- state&#45;37&#45;&gt;unexplored -->\n",
       "<g id=\"edge112\" class=\"edge\">\n",
       "<title>state&#45;37&#45;&gt;unexplored</title>\n",
       "<path fill=\"none\" stroke=\"#000000\" d=\"M1099.8471,-83.2491C1122.7605,-79.6031 1151.035,-75.514 1176.496,-73 1343.4523,-56.5149 1385.803,-59.023 1553.496,-54 2314.3844,-31.2088 4802.114,-20.1426 5257.5521,-18.284\"/>\n",
       "<polygon fill=\"#000000\" stroke=\"#000000\" points=\"5257.6298,-21.7838 5267.6155,-18.2431 5257.6013,-14.7839 5257.6298,-21.7838\"/>\n",
       "</g>\n",
       "<!-- state&#45;38&#45;&gt;unexplored -->\n",
       "<g id=\"edge113\" class=\"edge\">\n",
       "<title>state&#45;38&#45;&gt;unexplored</title>\n",
       "<path fill=\"none\" stroke=\"#000000\" d=\"M4951.8588,-81.1013C4964.2788,-78.3306 4977.9052,-75.4183 4990.496,-73 5085.1765,-54.8151 5195.499,-37.6596 5263.929,-27.4883\"/>\n",
       "<polygon fill=\"#000000\" stroke=\"#000000\" points=\"5264.7491,-30.9051 5274.1285,-25.9778 5263.7236,-23.9806 5264.7491,-30.9051\"/>\n",
       "</g>\n",
       "<!-- state&#45;39&#45;&gt;unexplored -->\n",
       "<g id=\"edge114\" class=\"edge\">\n",
       "<title>state&#45;39&#45;&gt;unexplored</title>\n",
       "<path fill=\"none\" stroke=\"#000000\" d=\"M5090.2104,-80.3852C5138.4725,-67.8026 5219.1668,-46.7644 5273.3414,-32.6403\"/>\n",
       "<polygon fill=\"#000000\" stroke=\"#000000\" points=\"5274.341,-35.9968 5283.1345,-30.0871 5272.575,-29.2232 5274.341,-35.9968\"/>\n",
       "</g>\n",
       "<!-- state&#45;40&#45;&gt;unexplored -->\n",
       "<g id=\"edge115\" class=\"edge\">\n",
       "<title>state&#45;40&#45;&gt;unexplored</title>\n",
       "<path fill=\"none\" stroke=\"#000000\" d=\"M5236.8099,-75.3397C5253.5705,-64.9709 5275.7853,-51.2278 5294.2647,-39.7956\"/>\n",
       "<polygon fill=\"#000000\" stroke=\"#000000\" points=\"5296.3333,-42.6316 5302.9961,-34.394 5292.6505,-36.6786 5296.3333,-42.6316\"/>\n",
       "</g>\n",
       "<!-- state&#45;41&#45;&gt;unexplored -->\n",
       "<g id=\"edge116\" class=\"edge\">\n",
       "<title>state&#45;41&#45;&gt;unexplored</title>\n",
       "<path fill=\"none\" stroke=\"#000000\" d=\"M5329.496,-72.9551C5329.496,-64.8828 5329.496,-55.1764 5329.496,-46.1817\"/>\n",
       "<polygon fill=\"#000000\" stroke=\"#000000\" points=\"5332.9961,-46.0903 5329.496,-36.0904 5325.9961,-46.0904 5332.9961,-46.0903\"/>\n",
       "</g>\n",
       "<!-- state&#45;42&#45;&gt;unexplored -->\n",
       "<g id=\"edge117\" class=\"edge\">\n",
       "<title>state&#45;42&#45;&gt;unexplored</title>\n",
       "<path fill=\"none\" stroke=\"#000000\" d=\"M5457.4617,-76.7516C5433.0471,-65.5423 5398.7711,-49.8056 5371.8371,-37.4396\"/>\n",
       "<polygon fill=\"#000000\" stroke=\"#000000\" points=\"5373.1929,-34.2109 5362.6446,-33.2192 5370.2722,-40.5725 5373.1929,-34.2109\"/>\n",
       "</g>\n",
       "<!-- state&#45;43&#45;&gt;unexplored -->\n",
       "<g id=\"edge118\" class=\"edge\">\n",
       "<title>state&#45;43&#45;&gt;unexplored</title>\n",
       "<path fill=\"none\" stroke=\"#000000\" d=\"M5604.0729,-81.2306C5548.5377,-68.4418 5450.9167,-45.9612 5388.2807,-31.5372\"/>\n",
       "<polygon fill=\"#000000\" stroke=\"#000000\" points=\"5388.6888,-28.0396 5378.1584,-29.2062 5387.1179,-34.8611 5388.6888,-28.0396\"/>\n",
       "</g>\n",
       "<!-- state&#45;44&#45;&gt;unexplored -->\n",
       "<g id=\"edge119\" class=\"edge\">\n",
       "<title>state&#45;44&#45;&gt;unexplored</title>\n",
       "<path fill=\"none\" stroke=\"#000000\" d=\"M5800.6133,-84.393C5707.969,-71.3369 5501.2489,-42.2046 5395.1256,-27.249\"/>\n",
       "<polygon fill=\"#000000\" stroke=\"#000000\" points=\"5395.5675,-23.7767 5385.1769,-25.8469 5394.5906,-30.7082 5395.5675,-23.7767\"/>\n",
       "</g>\n",
       "<!-- state&#45;45&#45;&gt;unexplored -->\n",
       "<g id=\"edge120\" class=\"edge\">\n",
       "<title>state&#45;45&#45;&gt;unexplored</title>\n",
       "<path fill=\"none\" stroke=\"#000000\" d=\"M5975.099,-83.1751C5954.2426,-79.7493 5929.1574,-75.8664 5906.496,-73 5724.1929,-49.9413 5508.3794,-31.7937 5399.6225,-23.2837\"/>\n",
       "<polygon fill=\"#000000\" stroke=\"#000000\" points=\"5399.6782,-19.7775 5389.4366,-22.4904 5399.1346,-26.7564 5399.6782,-19.7775\"/>\n",
       "</g>\n",
       "<!-- state&#45;46&#45;&gt;unexplored -->\n",
       "<g id=\"edge121\" class=\"edge\">\n",
       "<title>state&#45;46&#45;&gt;unexplored</title>\n",
       "<path fill=\"none\" stroke=\"#000000\" d=\"M6183.2871,-84.8136C6153.5431,-81.0546 6114.3163,-76.3504 6079.496,-73 5830.2962,-49.0222 5533.6216,-30.1067 5400.4097,-22.1228\"/>\n",
       "<polygon fill=\"#000000\" stroke=\"#000000\" points=\"5400.5258,-18.6236 5390.3349,-21.5211 5400.1085,-25.6111 5400.5258,-18.6236\"/>\n",
       "</g>\n",
       "<!-- state&#45;47&#45;&gt;unexplored -->\n",
       "<g id=\"edge122\" class=\"edge\">\n",
       "<title>state&#45;47&#45;&gt;unexplored</title>\n",
       "<path fill=\"none\" stroke=\"#000000\" d=\"M6385.8907,-84.3205C6357.9797,-80.5234 6321.7651,-75.9519 6289.496,-73 5958.2507,-42.6989 5561.0833,-26.2477 5401.274,-20.4429\"/>\n",
       "<polygon fill=\"#000000\" stroke=\"#000000\" points=\"5401.2138,-16.9386 5391.0941,-20.0759 5400.9615,-23.934 5401.2138,-16.9386\"/>\n",
       "</g>\n",
       "<!-- state&#45;48&#45;&gt;unexplored -->\n",
       "<g id=\"edge123\" class=\"edge\">\n",
       "<title>state&#45;48&#45;&gt;unexplored</title>\n",
       "<path fill=\"none\" stroke=\"#000000\" d=\"M6549.993,-82.0645C6531.9666,-78.6907 6510.797,-75.151 6491.496,-73 6278.4766,-49.2606 5619.8825,-27.0774 5401.0271,-20.1895\"/>\n",
       "<polygon fill=\"#000000\" stroke=\"#000000\" points=\"5401.0462,-16.6884 5390.9414,-19.8731 5400.8267,-23.685 5401.0462,-16.6884\"/>\n",
       "</g>\n",
       "<!-- state&#45;49&#45;&gt;unexplored -->\n",
       "<g id=\"edge124\" class=\"edge\">\n",
       "<title>state&#45;49&#45;&gt;unexplored</title>\n",
       "<path fill=\"none\" stroke=\"#000000\" d=\"M6713.4724,-82.2253C6694.7482,-78.8129 6672.6281,-75.2015 6652.496,-73 6477.779,-53.894 6433.0889,-61.6289 6257.496,-54 5938.2411,-40.1296 5557.088,-26.1581 5401.2387,-20.5559\"/>\n",
       "<polygon fill=\"#000000\" stroke=\"#000000\" points=\"5400.9753,-17.0443 5390.8561,-20.1831 5400.7241,-24.0398 5400.9753,-17.0443\"/>\n",
       "</g>\n",
       "<!-- state&#45;50&#45;&gt;unexplored -->\n",
       "<g id=\"edge125\" class=\"edge\">\n",
       "<title>state&#45;50&#45;&gt;unexplored</title>\n",
       "<path fill=\"none\" stroke=\"#000000\" d=\"M6900.8992,-83.5426C6876.0216,-79.7629 6844.6415,-75.4628 6816.496,-73 6536.6637,-48.5144 5659.1905,-25.9395 5401.3941,-19.6987\"/>\n",
       "<polygon fill=\"#000000\" stroke=\"#000000\" points=\"5401.4781,-16.1998 5391.3965,-19.4573 5401.3091,-23.1978 5401.4781,-16.1998\"/>\n",
       "</g>\n",
       "<!-- state&#45;51&#45;&gt;unexplored -->\n",
       "<g id=\"edge126\" class=\"edge\">\n",
       "<title>state&#45;51&#45;&gt;unexplored</title>\n",
       "<path fill=\"none\" stroke=\"#000000\" d=\"M7120.4387,-84.8649C7088.1525,-80.8785 7044.2975,-75.9011 7005.496,-73 6686.6169,-49.1584 5680.8848,-25.735 5401.8916,-19.5678\"/>\n",
       "<polygon fill=\"#000000\" stroke=\"#000000\" points=\"5401.5675,-16.0598 5391.4927,-19.3384 5401.4131,-23.0581 5401.5675,-16.0598\"/>\n",
       "</g>\n",
       "<!-- state&#45;52&#45;&gt;unexplored -->\n",
       "<g id=\"edge127\" class=\"edge\">\n",
       "<title>state&#45;52&#45;&gt;unexplored</title>\n",
       "<path fill=\"none\" stroke=\"#000000\" d=\"M7317.3242,-83.7851C7290.8151,-79.9312 7256.8609,-75.4819 7226.496,-73 6967.2235,-51.8086 6901.5164,-61.7899 6641.496,-54 6168.5281,-39.8305 5599.5836,-24.9609 5401.5802,-19.8504\"/>\n",
       "<polygon fill=\"#000000\" stroke=\"#000000\" points=\"5401.3977,-16.3447 5391.3107,-19.5856 5401.2171,-23.3423 5401.3977,-16.3447\"/>\n",
       "</g>\n",
       "<!-- state&#45;53&#45;&gt;unexplored -->\n",
       "<g id=\"edge128\" class=\"edge\">\n",
       "<title>state&#45;53&#45;&gt;unexplored</title>\n",
       "<path fill=\"none\" stroke=\"#000000\" d=\"M7492.8794,-82.6445C7471.6418,-79.0198 7445.8412,-75.1248 7422.496,-73 7017.4976,-36.1382 5721.4909,-21.6964 5401.4607,-18.6434\"/>\n",
       "<polygon fill=\"#000000\" stroke=\"#000000\" points=\"5401.4156,-15.1429 5391.3829,-18.5479 5401.3492,-22.1426 5401.4156,-15.1429\"/>\n",
       "</g>\n",
       "<!-- state&#45;54&#45;&gt;unexplored -->\n",
       "<g id=\"edge129\" class=\"edge\">\n",
       "<title>state&#45;54&#45;&gt;unexplored</title>\n",
       "<path fill=\"none\" stroke=\"#000000\" d=\"M7668.6404,-82.9006C7646.9237,-79.2866 7620.4283,-75.3268 7596.496,-73 7392.3955,-53.1563 7340.463,-60.266 7135.496,-54 6461.4485,-33.3939 5645.5114,-22.0047 5401.6468,-18.8875\"/>\n",
       "<polygon fill=\"#000000\" stroke=\"#000000\" points=\"5401.5385,-15.3859 5391.4947,-18.7583 5401.4493,-22.3853 5401.5385,-15.3859\"/>\n",
       "</g>\n",
       "<!-- state&#45;55&#45;&gt;unexplored -->\n",
       "<g id=\"edge130\" class=\"edge\">\n",
       "<title>state&#45;55&#45;&gt;unexplored</title>\n",
       "<path fill=\"none\" stroke=\"#000000\" d=\"M7871.9208,-84.1573C7843.3023,-80.2269 7805.8531,-75.5738 7772.496,-73 7503.8288,-52.2701 7435.8743,-60.8622 7166.496,-54 6479.6063,-36.502 5648.0521,-22.9625 5401.6041,-19.1086\"/>\n",
       "<polygon fill=\"#000000\" stroke=\"#000000\" points=\"5401.4022,-15.6051 5391.3488,-18.9485 5401.2929,-22.6043 5401.4022,-15.6051\"/>\n",
       "</g>\n",
       "<!-- state&#45;56&#45;&gt;unexplored -->\n",
       "<g id=\"edge131\" class=\"edge\">\n",
       "<title>state&#45;56&#45;&gt;unexplored</title>\n",
       "<path fill=\"none\" stroke=\"#000000\" d=\"M8060.9653,-83.352C8036.331,-79.5416 8005.3302,-75.2726 7977.496,-73 7630.9908,-44.7091 7543.0716,-61.5752 7195.496,-54 6496.5617,-38.7671 5650.2922,-23.6392 5401.5113,-19.2597\"/>\n",
       "<polygon fill=\"#000000\" stroke=\"#000000\" points=\"5401.5724,-15.7604 5391.5123,-19.0838 5401.4492,-22.7593 5401.5724,-15.7604\"/>\n",
       "</g>\n",
       "<!-- state&#45;57&#45;&gt;unexplored -->\n",
       "<g id=\"edge132\" class=\"edge\">\n",
       "<title>state&#45;57&#45;&gt;unexplored</title>\n",
       "<path fill=\"none\" stroke=\"#000000\" d=\"M8256.648,-83.6904C8230.0971,-79.78 8195.9951,-75.3061 8165.496,-73 7750.5946,-41.6289 7645.5016,-62.1634 7229.496,-54 6516.5792,-40.0103 5653.1741,-23.9828 5401.5241,-19.3297\"/>\n",
       "<polygon fill=\"#000000\" stroke=\"#000000\" points=\"5401.4771,-15.8283 5391.4141,-19.1428 5401.3477,-22.8271 5401.4771,-15.8283\"/>\n",
       "</g>\n",
       "<!-- state&#45;58&#45;&gt;unexplored -->\n",
       "<g id=\"edge133\" class=\"edge\">\n",
       "<title>state&#45;58&#45;&gt;unexplored</title>\n",
       "<path fill=\"none\" stroke=\"#000000\" d=\"M8462.9503,-84.1433C8433.8586,-80.1551 8395.5749,-75.4459 8361.496,-73 7983.2637,-45.8536 7887.6298,-61.3543 7508.496,-54 6680.7782,-37.9442 5676.109,-23.0348 5401.6837,-19.0419\"/>\n",
       "<polygon fill=\"#000000\" stroke=\"#000000\" points=\"5401.5116,-15.5391 5391.4617,-18.8933 5401.4097,-22.5384 5401.5116,-15.5391\"/>\n",
       "</g>\n",
       "<!-- state&#45;59&#45;&gt;unexplored -->\n",
       "<g id=\"edge134\" class=\"edge\">\n",
       "<title>state&#45;59&#45;&gt;unexplored</title>\n",
       "<path fill=\"none\" stroke=\"#000000\" d=\"M8635.3871,-82.3687C8615.0984,-78.7801 8590.6623,-74.9927 8568.496,-73 8115.1348,-32.2434 7999.6165,-61.9208 7544.496,-54 6701.6523,-39.3314 5678.3712,-23.3912 5401.465,-19.1095\"/>\n",
       "<polygon fill=\"#000000\" stroke=\"#000000\" points=\"5401.2083,-15.6052 5391.1553,-18.9501 5401.1,-22.6044 5401.2083,-15.6052\"/>\n",
       "</g>\n",
       "<!-- state&#45;60&#45;&gt;unexplored -->\n",
       "<g id=\"edge135\" class=\"edge\">\n",
       "<title>state&#45;60&#45;&gt;unexplored</title>\n",
       "<path fill=\"none\" stroke=\"#000000\" d=\"M8844.7291,-84.3481C8814.4908,-80.332 8774.2466,-75.5183 8738.496,-73 8380.6167,-47.7909 8290.1994,-60.7039 7931.496,-54 6928.2586,-35.2502 5707.2677,-21.9371 5401.5082,-18.7402\"/>\n",
       "<polygon fill=\"#000000\" stroke=\"#000000\" points=\"5401.4816,-15.2398 5391.4456,-18.6352 5401.4085,-22.2394 5401.4816,-15.2398\"/>\n",
       "</g>\n",
       "<!-- state&#45;61&#45;&gt;unexplored -->\n",
       "<g id=\"edge136\" class=\"edge\">\n",
       "<title>state&#45;61&#45;&gt;unexplored</title>\n",
       "<path fill=\"none\" stroke=\"#000000\" d=\"M9016.5224,-82.3273C8996.4695,-78.754 8972.3692,-74.9903 8950.496,-73 8514.4382,-33.3219 8403.2958,-61.2119 7965.496,-54 6947.9811,-37.2384 5709.4406,-22.4356 5401.4164,-18.8337\"/>\n",
       "<polygon fill=\"#000000\" stroke=\"#000000\" points=\"5401.3229,-15.3325 5391.2826,-18.7153 5401.241,-22.332 5401.3229,-15.3325\"/>\n",
       "</g>\n",
       "<!-- state&#45;62&#45;&gt;unexplored -->\n",
       "<g id=\"edge137\" class=\"edge\">\n",
       "<title>state&#45;62&#45;&gt;unexplored</title>\n",
       "<path fill=\"none\" stroke=\"#000000\" d=\"M9197.3753,-83.0615C9174.1787,-79.3203 9145.4083,-75.2031 9119.496,-73 8773.5303,-43.5858 8685.6526,-60.2992 8338.496,-54 7165.5723,-32.717 5735.2278,-21.0728 5401.4765,-18.5329\"/>\n",
       "<polygon fill=\"#000000\" stroke=\"#000000\" points=\"5401.4842,-15.0329 5391.4579,-18.4569 5401.4311,-22.0327 5401.4842,-15.0329\"/>\n",
       "</g>\n",
       "<!-- state&#45;63&#45;&gt;unexplored -->\n",
       "<g id=\"edge138\" class=\"edge\">\n",
       "<title>state&#45;63&#45;&gt;unexplored</title>\n",
       "<path fill=\"none\" stroke=\"#000000\" d=\"M9370.9986,-82.5887C9349.9986,-78.9755 9324.5425,-75.1058 9301.496,-73 8973.4211,-43.0233 8889.8818,-60.0576 8560.496,-54 7294.8428,-30.7239 5750.0128,-20.5106 5401.5724,-18.4164\"/>\n",
       "<polygon fill=\"#000000\" stroke=\"#000000\" points=\"5401.3925,-14.9154 5391.3717,-18.3554 5401.3505,-21.9152 5401.3925,-14.9154\"/>\n",
       "</g>\n",
       "<!-- state&#45;64&#45;&gt;unexplored -->\n",
       "<g id=\"edge139\" class=\"edge\">\n",
       "<title>state&#45;64&#45;&gt;unexplored</title>\n",
       "<path fill=\"none\" stroke=\"#000000\" d=\"M9565.6415,-83.7737C9539.0886,-79.8907 9504.9865,-75.4164 9474.496,-73 9168.6719,-48.7637 9091.2236,-59.8206 8784.496,-54 7424.8859,-28.1993 5763.9412,-19.8633 5401.501,-18.2929\"/>\n",
       "<polygon fill=\"#000000\" stroke=\"#000000\" points=\"5401.425,-14.7927 5391.41,-18.2495 5401.3948,-21.7926 5401.425,-14.7927\"/>\n",
       "</g>\n",
       "<!-- state&#45;65&#45;&gt;unexplored -->\n",
       "<g id=\"edge140\" class=\"edge\">\n",
       "<title>state&#45;65&#45;&gt;unexplored</title>\n",
       "<path fill=\"none\" stroke=\"#000000\" d=\"M9756.8168,-83.4758C9731.4635,-79.6263 9699.3168,-75.2813 9670.496,-73 9295.5739,-43.3227 9200.5403,-60.1592 8824.496,-54 7447.9569,-31.4538 5766.2038,-20.5948 5401.4338,-18.4162\"/>\n",
       "<polygon fill=\"#000000\" stroke=\"#000000\" points=\"5401.3015,-14.9155 5391.2808,-18.3558 5401.2597,-21.9154 5401.3015,-14.9155\"/>\n",
       "</g>\n",
       "<!-- state&#45;66&#45;&gt;unexplored -->\n",
       "<g id=\"edge141\" class=\"edge\">\n",
       "<title>state&#45;66&#45;&gt;unexplored</title>\n",
       "<path fill=\"none\" stroke=\"#000000\" d=\"M9913.6813,-81.3503C9897.4265,-78.093 9878.6897,-74.823 9861.496,-73 9511.7992,-35.9218 9422.1032,-59.9143 9070.496,-54 7590.7308,-29.1092 5781.4063,-20.0073 5401.5229,-18.3071\"/>\n",
       "<polygon fill=\"#000000\" stroke=\"#000000\" points=\"5401.5075,-14.8071 5391.492,-18.2624 5401.4763,-21.807 5401.5075,-14.8071\"/>\n",
       "</g>\n",
       "<!-- state&#45;67&#45;&gt;unexplored -->\n",
       "<g id=\"edge142\" class=\"edge\">\n",
       "<title>state&#45;67&#45;&gt;unexplored</title>\n",
       "<path fill=\"none\" stroke=\"#000000\" d=\"M10095.2176,-83.212C10071.541,-79.4616 10042.0364,-75.2907 10015.496,-73 9727.1116,-48.1094 9653.9,-59.5137 9364.496,-54 7761.1764,-23.4536 5798.9895,-18.7511 5401.6337,-18.0979\"/>\n",
       "<polygon fill=\"#000000\" stroke=\"#000000\" points=\"5401.4398,-14.5977 5391.4341,-18.0815 5401.4284,-21.5977 5401.4398,-14.5977\"/>\n",
       "</g>\n",
       "<!-- state&#45;68&#45;&gt;unexplored -->\n",
       "<g id=\"edge143\" class=\"edge\">\n",
       "<title>state&#45;68&#45;&gt;unexplored</title>\n",
       "<path fill=\"none\" stroke=\"#000000\" d=\"M10282.0238,-83.2985C10257.6294,-79.4979 10227.006,-75.2546 10199.496,-73 9846.3571,-44.0586 9756.7715,-59.7882 9402.496,-54 7783.1245,-27.5425 5801.2506,-19.611 5401.6606,-18.2335\"/>\n",
       "<polygon fill=\"#000000\" stroke=\"#000000\" points=\"5401.4177,-14.7328 5391.4057,-18.1984 5401.3937,-21.7327 5401.4177,-14.7328\"/>\n",
       "</g>\n",
       "<!-- state&#45;69&#45;&gt;unexplored -->\n",
       "<g id=\"edge144\" class=\"edge\">\n",
       "<title>state&#45;69&#45;&gt;unexplored</title>\n",
       "<path fill=\"none\" stroke=\"#000000\" d=\"M10476.67,-83.6974C10450.3572,-79.8152 10416.6508,-75.3667 10386.496,-73 10050.5344,-46.6321 9965.4436,-59.6334 9628.496,-54 7913.7796,-25.3319 5813.9451,-19.1245 5401.6402,-18.1535\"/>\n",
       "<polygon fill=\"#000000\" stroke=\"#000000\" points=\"5401.3653,-14.6529 5391.3572,-18.1295 5401.349,-21.6529 5401.3653,-14.6529\"/>\n",
       "</g>\n",
       "<!-- state&#45;70&#45;&gt;unexplored -->\n",
       "<g id=\"edge145\" class=\"edge\">\n",
       "<title>state&#45;70&#45;&gt;unexplored</title>\n",
       "<path fill=\"none\" stroke=\"#000000\" d=\"M10647.521,-82.3435C10627.4677,-78.7733 10603.3676,-75.0077 10581.496,-73 10178.657,-36.0218 10075.9855,-59.8993 9671.496,-54 7938.211,-28.7208 5815.446,-19.8091 5401.3816,-18.2572\"/>\n",
       "<polygon fill=\"#000000\" stroke=\"#000000\" points=\"5401.3575,-14.7571 5391.3445,-18.2197 5401.3313,-21.7571 5401.3575,-14.7571\"/>\n",
       "</g>\n",
       "<!-- state&#45;71&#45;&gt;unexplored -->\n",
       "<g id=\"edge146\" class=\"edge\">\n",
       "<title>state&#45;71&#45;&gt;unexplored</title>\n",
       "<path fill=\"none\" stroke=\"#000000\" d=\"M10910.9894,-85.9877C10868.6678,-81.8143 10805.5851,-76.0748 10750.496,-73 10421.1227,-54.6162 10338.3361,-59.4915 10008.496,-54 8133.2433,-22.7792 5834.7745,-18.5913 5401.6703,-18.07\"/>\n",
       "<polygon fill=\"#000000\" stroke=\"#000000\" points=\"5401.4917,-14.5699 5391.4875,-18.058 5401.4834,-21.5699 5401.4917,-14.5699\"/>\n",
       "</g>\n",
       "<!-- state&#45;72&#45;&gt;unexplored -->\n",
       "<g id=\"edge147\" class=\"edge\">\n",
       "<title>state&#45;72&#45;&gt;unexplored</title>\n",
       "<path fill=\"none\" stroke=\"#000000\" d=\"M11134.5175,-84.6743C11102.0058,-80.5762 11057.703,-75.5444 11018.496,-73 10589.0941,-45.1337 10480.7611,-59.8629 10050.496,-54 8157.3087,-28.2028 5836.8022,-19.6495 5401.6132,-18.2249\"/>\n",
       "<polygon fill=\"#000000\" stroke=\"#000000\" points=\"5401.395,-14.7242 5391.3837,-18.1916 5401.3722,-21.7242 5401.395,-14.7242\"/>\n",
       "</g>\n",
       "<!-- state&#45;73&#45;&gt;unexplored -->\n",
       "<g id=\"edge148\" class=\"edge\">\n",
       "<title>state&#45;73&#45;&gt;unexplored</title>\n",
       "<path fill=\"none\" stroke=\"#000000\" d=\"M11366.2265,-84.9607C11331.5029,-80.798 11283.1472,-75.5697 11240.496,-73 10735.1197,-42.5515 10607.7515,-60.132 10101.496,-54 8186.7937,-30.8084 5839.7573,-20.1494 5401.6846,-18.2968\"/>\n",
       "<polygon fill=\"#000000\" stroke=\"#000000\" points=\"5401.4041,-14.7957 5391.3894,-18.2534 5401.3746,-21.7956 5401.4041,-14.7957\"/>\n",
       "</g>\n",
       "</g>\n",
       "</svg>\n"
      ],
      "text/plain": [
       "<graphviz.dot.Digraph at 0x115e5e048>"
      ]
     },
     "metadata": {},
     "output_type": "display_data"
    }
   ],
   "source": [
    "# Inspect this graph in the notebook to see it in full glory\n",
    "fsm_diagram(book_fuzzer.grammar)"
   ]
  },
  {
   "cell_type": "markdown",
   "metadata": {
    "slideshow": {
     "slide_type": "fragment"
    }
   },
   "source": [
    "We now have all the basic capabilities we need: We can automatically explore large Web sites; we can explore \"deep\" functionality by filling out forms; and we can have our coverage-based fuzzer automatcially focus on yet unexplored states.  Still, there is a lot more one can do; the [exercises](#Exercises) will give you some ideas."
   ]
  },
  {
   "cell_type": "markdown",
   "metadata": {
    "slideshow": {
     "slide_type": "subslide"
    }
   },
   "source": [
    "We are done, so we clean up. We shut down our Web server, quit the Web driver (and the associated browser), and finally clean up temporary files left by Selenium."
   ]
  },
  {
   "cell_type": "code",
   "execution_count": 154,
   "metadata": {
    "slideshow": {
     "slide_type": "fragment"
    }
   },
   "outputs": [],
   "source": [
    "httpd_process.terminate()"
   ]
  },
  {
   "cell_type": "code",
   "execution_count": 155,
   "metadata": {
    "slideshow": {
     "slide_type": "fragment"
    }
   },
   "outputs": [],
   "source": [
    "gui_driver.quit()"
   ]
  },
  {
   "cell_type": "code",
   "execution_count": 156,
   "metadata": {
    "slideshow": {
     "slide_type": "skip"
    }
   },
   "outputs": [],
   "source": [
    "import os"
   ]
  },
  {
   "cell_type": "code",
   "execution_count": 157,
   "metadata": {
    "slideshow": {
     "slide_type": "fragment"
    }
   },
   "outputs": [],
   "source": [
    "for temp_file in [ORDERS_DB, \"geckodriver.log\", \"ghostdriver.log\"]:\n",
    "    if os.path.exists(temp_file):\n",
    "        os.remove(temp_file)"
   ]
  },
  {
   "cell_type": "markdown",
   "metadata": {
    "button": false,
    "new_sheet": true,
    "run_control": {
     "read_only": false
    },
    "slideshow": {
     "slide_type": "slide"
    }
   },
   "source": [
    "## Lessons Learned\n",
    "\n",
    "* _Selenium_ is a powerful framework for interacting with user interfaces, especially Web-based user interfaces.\n",
    "* A _finite state model_ can encode user interface states and transitions.\n",
    "* Encoding user interface models into a _grammar_ integrates generating text (for forms) and generating user interactions (for navigating)\n",
    "* To systematically explore a user interface, cover all _state transitions_, which is equivalent to covering all _expansion alternatives_ in the equivalent grammar."
   ]
  },
  {
   "cell_type": "markdown",
   "metadata": {
    "button": false,
    "new_sheet": false,
    "run_control": {
     "read_only": false
    },
    "slideshow": {
     "slide_type": "slide"
    }
   },
   "source": [
    "## Next Steps\n",
    "\n",
    "From here, you can learn how to\n",
    "\n",
    "* [fuzz in the large](FuzzingInTheLarge.ipynb). running a myriad of fuzzers on a same system"
   ]
  },
  {
   "cell_type": "markdown",
   "metadata": {
    "slideshow": {
     "slide_type": "slide"
    }
   },
   "source": [
    "## Background\n",
    "\n",
    "Automatic testing of graphical user interfaces is a rich field – in research as in practice.\n",
    "\n",
    "Coverage criteria for GUIs as well as how to achieve them were first discussed in \\cite{Memon2001}.  Memon also introduced the concept of *GUI Ripping* \\cite{Memon2003} – the process in which the software's GUI is automatically traversed by interacting with all its user interface elements.\n",
    "\n",
    "The CrawlJax tool \\cite{Mesbah2012} uses dynamic state changes in Web user interfaces to identify candidate elements to interact with.  As our approach above, it uses the set of interactable user interface elements as a state in a finite-state model.\n",
    "\n",
    "The [Alex framework](https://learnlib.github.io/alex/) uses a similar approach to learn automata for web applications.  Starting from a set of test inputs, it produces a mixed-mode behavioral model of the application."
   ]
  },
  {
   "cell_type": "markdown",
   "metadata": {
    "slideshow": {
     "slide_type": "slide"
    }
   },
   "source": [
    "## Exercises\n",
    "\n",
    "As powerful our GUI fuzzer is at this point, there are still several possibilities left for further optimization and extension.  Here are some ideas to get you started.  Enjoy user interface fuzzing!"
   ]
  },
  {
   "cell_type": "markdown",
   "metadata": {
    "slideshow": {
     "slide_type": "subslide"
    }
   },
   "source": [
    "### Exercise 1: Stay in Local State\n",
    "\n",
    "Rather than having each `run()` start at the very beginning, have the miner start from the current state and explore states reachable from there."
   ]
  },
  {
   "cell_type": "markdown",
   "metadata": {
    "slideshow": {
     "slide_type": "subslide"
    }
   },
   "source": [
    "### Exercise 2: Going Back\n",
    "\n",
    "Make use of the web driver `back()` method and go back to an earlier state, from which we could again start exploration.  (Note that a \"back\" functionality may not be available on non-Web user interfaces.)"
   ]
  },
  {
   "cell_type": "markdown",
   "metadata": {
    "slideshow": {
     "slide_type": "subslide"
    }
   },
   "source": [
    "### Exercise 3: Avoiding Bad Form Values\n",
    "\n",
    "Detect that some form values are _invalid_, such that the miner does not produce them again."
   ]
  },
  {
   "cell_type": "markdown",
   "metadata": {
    "slideshow": {
     "slide_type": "subslide"
    }
   },
   "source": [
    "### Exercise 4: Saving Form Values\n",
    "\n",
    "Save _successful_ form values, such that the tester does not have to infer them again and again."
   ]
  },
  {
   "cell_type": "markdown",
   "metadata": {
    "slideshow": {
     "slide_type": "subslide"
    }
   },
   "source": [
    "### Exercise 5: Same Names, Same States\n",
    "\n",
    "When the miner finds a link with a name it has already seen, it is likely to lead to a state already seen, too; therefore, one could give its exploration a lower priority."
   ]
  },
  {
   "cell_type": "markdown",
   "metadata": {
    "slideshow": {
     "slide_type": "subslide"
    }
   },
   "source": [
    "### Exercise 6: Combinatorial Coverage\n",
    "\n",
    "Extend the grammar miner such that for every boolean value, there is a separate value to be covered."
   ]
  },
  {
   "cell_type": "markdown",
   "metadata": {
    "slideshow": {
     "slide_type": "subslide"
    }
   },
   "source": [
    "### Exercise 7: Implicit Delays\n",
    "\n",
    "Rather than using _explicit_ (given) delays, use _implicit_ delays and wait for specific elements to appear. these elements could stem from previous explorations of the state."
   ]
  },
  {
   "cell_type": "markdown",
   "metadata": {
    "slideshow": {
     "slide_type": "subslide"
    }
   },
   "source": [
    "### Exercise 8: Oracles\n",
    "\n",
    "Extend the grammar miner such that it also produces _oracles_ – for instance, checking for the presence of specific UI elements."
   ]
  },
  {
   "cell_type": "markdown",
   "metadata": {
    "slideshow": {
     "slide_type": "subslide"
    }
   },
   "source": [
    "### Exercise 9: More UI Elements\n",
    "\n",
    "Run the miner on a Web site of your choice.  Find out which other types of user interface elements and actions need to be supported."
   ]
  }
 ],
 "metadata": {
  "ipub": {
   "bibliography": "fuzzingbook.bib",
   "toc": true
  },
  "kernelspec": {
   "display_name": "Python 3",
   "language": "python",
   "name": "python3"
  },
  "language_info": {
   "codemirror_mode": {
    "name": "ipython",
    "version": 3
   },
   "file_extension": ".py",
   "mimetype": "text/x-python",
   "name": "python",
   "nbconvert_exporter": "python",
   "pygments_lexer": "ipython3",
   "version": "3.6.8"
  },
  "toc": {
   "base_numbering": 1,
   "nav_menu": {},
   "number_sections": true,
   "sideBar": true,
   "skip_h1_title": true,
   "title_cell": "",
   "title_sidebar": "Contents",
   "toc_cell": false,
   "toc_position": {},
   "toc_section_display": true,
   "toc_window_display": true
  },
  "toc-autonumbering": false
 },
 "nbformat": 4,
 "nbformat_minor": 2
}

