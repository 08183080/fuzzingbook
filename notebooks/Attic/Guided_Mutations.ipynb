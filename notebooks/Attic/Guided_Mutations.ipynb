{
 "cells": [
  {
   "cell_type": "markdown",
   "metadata": {
    "button": false,
    "deletable": true,
    "new_sheet": false,
    "run_control": {
     "read_only": false
    }
   },
   "source": [
    "# Guided Mutations\n",
    "\n",
    "So far, we have essentially created inputs _randomly_, in the hope that these may eventually trigger a bug.  If we can feed in knowledge about the program behavior, we can be much more efficient in creating useful inputs.  The key to success lies in the idea of _guiding_ these mutations – that is, _keeping those that are especially valuable._  \"Valuable\" might mean that they would be syntactically valid, but also that they help covering more implemented behavior."
   ]
  },
  {
   "cell_type": "markdown",
   "metadata": {
    "button": false,
    "deletable": true,
    "new_sheet": false,
    "run_control": {
     "read_only": false
    }
   },
   "source": [
    "**Prerequisites**\n",
    "\n",
    "* This chapter extends our previous implementation of mutation-based fuzzing from the [\"Mutation-Based Fuzzing\"](Mutation_Fuzzing.ipynb) chapter.\n",
    "* You should understand how to measure code coverage; for instance from the [\"Coverage\"](Coverage.ipynb) chapter."
   ]
  },
  {
   "cell_type": "markdown",
   "metadata": {
    "button": false,
    "deletable": true,
    "new_sheet": false,
    "run_control": {
     "read_only": false
    }
   },
   "source": [
    "## Multiple Mutations\n",
    "\n",
    "So far, we have only applied one single mutation on a sample string.  However, we can also apply _multiple_ mutations, further changing it.  What happens, for instance, if we apply, say, 20 mutations on our sample string?"
   ]
  },
  {
   "cell_type": "code",
   "execution_count": 1,
   "metadata": {
    "button": false,
    "collapsed": true,
    "deletable": true,
    "new_sheet": false,
    "run_control": {
     "read_only": false
    }
   },
   "outputs": [],
   "source": [
    "import fuzzingbook_utils"
   ]
  },
  {
   "cell_type": "code",
   "execution_count": 2,
   "metadata": {
    "button": false,
    "collapsed": true,
    "deletable": true,
    "new_sheet": false,
    "run_control": {
     "read_only": false
    }
   },
   "outputs": [],
   "source": [
    "%%capture\n",
    "from Mutation_Fuzzing import mutate, is_valid_expr, valid_inputs"
   ]
  },
  {
   "cell_type": "code",
   "execution_count": 3,
   "metadata": {
    "button": false,
    "collapsed": true,
    "deletable": true,
    "new_sheet": false,
    "run_control": {
     "read_only": false
    }
   },
   "outputs": [],
   "source": [
    "seed_input = \"1 + 2 * 3 / 4\"\n",
    "MUTATIONS = 20\n",
    "inp = seed_input"
   ]
  },
  {
   "cell_type": "code",
   "execution_count": 4,
   "metadata": {
    "button": false,
    "collapsed": false,
    "deletable": true,
    "new_sheet": false,
    "run_control": {
     "read_only": false
    },
    "scrolled": true
   },
   "outputs": [
    {
     "name": "stdout",
     "output_type": "stream",
     "text": [
      "'1 + 2 * 3 / '\n",
      "'1 + 2 * 3  '\n",
      "'1 + 2 * 3 '\n",
      "'1 + 2 *03 '\n",
      "'1 + 2 *0 '\n",
      "'1 + 2 *0`'\n",
      "'0 + 2 *0`'\n",
      "'0 + 2/ *0`'\n",
      "'0 + 2/ >*0`'\n",
      "'0 + 2/ >*0d'\n",
      "'50 + 2/ >*0d'\n",
      "'50 + 2- >*0d'\n",
      "'50 + 2- >*d'\n",
      "'50 + 2- >*'\n",
      "'50 + - >*'\n",
      "'50 +  >*'\n",
      "'50 +/  >*'\n",
      "'58 +/  >*'\n",
      "'58 :+/  >*'\n",
      "'\"58 :+/  >*'\n"
     ]
    }
   ],
   "source": [
    "for i in range(MUTATIONS):\n",
    "    inp = mutate(inp)\n",
    "    print(repr(inp))"
   ]
  },
  {
   "cell_type": "markdown",
   "metadata": {
    "button": false,
    "deletable": true,
    "new_sheet": false,
    "run_control": {
     "read_only": false
    }
   },
   "source": [
    "As you see, the original seed input is hardly recognizable anymore.  Mutating the input again and again has the advantage of getting a higher variety in the input, but on the other hand further increases the risk of having an invalid input."
   ]
  },
  {
   "cell_type": "markdown",
   "metadata": {
    "button": false,
    "deletable": true,
    "new_sheet": false,
    "run_control": {
     "read_only": false
    }
   },
   "source": [
    "The key to success lies in the idea of _guiding_ these mutations – that is, _keeping those that are especially valuable._  For instance, we may want to keep those samples that happen to be _valid_, and keep on mutating these.  To this end, we proceed as follows:\n",
    "\n",
    "1. We keep a population of seen valid inputs `population`, initialized with the seed input.\n",
    "2. We pick a random (valid) candidate from this set, which we now mutate up to `MAX_MUTATIONS` times.\n",
    "3. If the candidate is valid and new, we add it to `population`.\n",
    "4. In the next iterations, the previous candidates can be chosen again as seeds.\n",
    "\n",
    "Here's the full code:"
   ]
  },
  {
   "cell_type": "code",
   "execution_count": 5,
   "metadata": {
    "button": false,
    "collapsed": false,
    "deletable": true,
    "new_sheet": false,
    "run_control": {
     "read_only": false
    },
    "scrolled": true
   },
   "outputs": [],
   "source": [
    "import random"
   ]
  },
  {
   "cell_type": "code",
   "execution_count": 6,
   "metadata": {
    "button": false,
    "collapsed": false,
    "deletable": true,
    "new_sheet": false,
    "run_control": {
     "read_only": false
    },
    "scrolled": false
   },
   "outputs": [],
   "source": [
    "def create_candidate(population):\n",
    "    MIN_MUTATIONS = 2\n",
    "    MAX_MUTATIONS = 10\n",
    "\n",
    "    candidate = random.choice(population)\n",
    "    trials = random.randint(MIN_MUTATIONS, MAX_MUTATIONS)\n",
    "    for i in range(trials):\n",
    "        candidate = mutate(candidate)\n",
    "    return candidate"
   ]
  },
  {
   "cell_type": "code",
   "execution_count": 7,
   "metadata": {
    "button": false,
    "collapsed": false,
    "deletable": true,
    "new_sheet": false,
    "run_control": {
     "read_only": false
    },
    "scrolled": true
   },
   "outputs": [],
   "source": [
    "def create_population(seed, size):\n",
    "    population = seed\n",
    "    while len(population) < size:\n",
    "        candidate = create_candidate(population)\n",
    "        if is_valid_expr(candidate) and candidate not in valid_inputs:\n",
    "            population.append(candidate)\n",
    "    return population"
   ]
  },
  {
   "cell_type": "code",
   "execution_count": 8,
   "metadata": {
    "button": false,
    "collapsed": false,
    "deletable": true,
    "new_sheet": false,
    "run_control": {
     "read_only": false
    },
    "scrolled": true
   },
   "outputs": [
    {
     "data": {
      "text/plain": [
       "['1 + 2 * 3 / 4',\n",
       " '19+ 2 * 3 / 4',\n",
       " '1 <k2 & 2 / 4',\n",
       " '1 <k2+  2 / 4',\n",
       " '1 <+2 & 2 / 0',\n",
       " '1 \\n<2+0 /9',\n",
       " '1 <  2 / 4',\n",
       " '1 <k+  2 //7',\n",
       " '3 <k+ 2 /7',\n",
       " '1 /2 & 2 / 0',\n",
       " '1<+ 41& 0/ 2',\n",
       " '1 /2 & 2 / 0',\n",
       " '1 <k  =2//7',\n",
       " '\\n2+9',\n",
       " '3<k+2 /7',\n",
       " '0 <k  =3//7',\n",
       " '\\n2+69',\n",
       " ' +4 ',\n",
       " '',\n",
       " '']"
      ]
     },
     "execution_count": 8,
     "metadata": {},
     "output_type": "execute_result"
    }
   ],
   "source": [
    "seed_input = \"1 + 2 * 3 / 4\"\n",
    "POPULATION_SIZE = 20\n",
    "create_population(seed=[seed_input], size=POPULATION_SIZE)"
   ]
  },
  {
   "cell_type": "markdown",
   "metadata": {
    "button": false,
    "deletable": true,
    "new_sheet": false,
    "run_control": {
     "read_only": false
    }
   },
   "source": [
    "As you can see, we now get an even larger variety of inputs.  If you are using the interactive notebook version of this chapter, you can toy with different settings (such as `MAX_MUTATION`) to see how they influence the outputs.  (Also see the [Exercises](#Exercises) below.)"
   ]
  },
  {
   "cell_type": "markdown",
   "metadata": {
    "button": false,
    "deletable": true,
    "new_sheet": false,
    "run_control": {
     "read_only": false
    }
   },
   "source": [
    "## Maximizing Diversity\n",
    "\n",
    "A good set of tests not only consists of valid inputs, but the inputs should also be _as diverse as possible_: If you already have tested `1 + 1`, then testing for `1 + 2` or `1 + 1 + 1` is not going to cover much additional functionality, compared to, say, `15.0 / 7`.  To easily ensure a greater diversity, we can check for two features: _length_ and _input elements_.\n"
   ]
  },
  {
   "cell_type": "markdown",
   "metadata": {
    "button": false,
    "deletable": true,
    "new_sheet": false,
    "run_control": {
     "read_only": false
    }
   },
   "source": [
    "### Diversity through Length\n",
    "\n",
    "A simple way to increase diversity in our setting is ro favor _longer inputs_.  The argument is simple: The longer a randomly generated input is, the higher its chances to cover several program features.  Let us define a function `evolve_population()` that \n",
    "\n",
    "1. Sorts the population in ascending order according to its _fitness_ (the length)\n",
    "2. Replaces the first element in the population by a new, fitter (longer) one\n",
    "\n",
    "This is what this looks like:"
   ]
  },
  {
   "cell_type": "code",
   "execution_count": 9,
   "metadata": {
    "button": false,
    "collapsed": true,
    "deletable": true,
    "new_sheet": false,
    "run_control": {
     "read_only": false
    }
   },
   "outputs": [],
   "source": [
    "def evolve_population(population, fitness=len, steps=100):\n",
    "    evolutions = 0\n",
    "    while evolutions < steps:\n",
    "        population.sort(key=fitness)\n",
    "\n",
    "        candidate = create_candidate(population)\n",
    "        if is_valid_expr(candidate) and fitness(candidate) > fitness(population[0]):\n",
    "            population[0] = candidate\n",
    "            evolutions += 1\n",
    "\n",
    "    return population"
   ]
  },
  {
   "cell_type": "markdown",
   "metadata": {
    "button": false,
    "deletable": true,
    "new_sheet": false,
    "run_control": {
     "read_only": false
    }
   },
   "source": [
    "Let us try out `evolve_population()` with a sample population in which one element `25` is the shortest and thus would be replaced by a new, longer element:"
   ]
  },
  {
   "cell_type": "code",
   "execution_count": 10,
   "metadata": {
    "button": false,
    "collapsed": false,
    "deletable": true,
    "new_sheet": false,
    "run_control": {
     "read_only": false
    }
   },
   "outputs": [
    {
     "data": {
      "text/plain": [
       "['  1', '1 + 1', '1 + 1 + 1']"
      ]
     },
     "execution_count": 10,
     "metadata": {},
     "output_type": "execute_result"
    }
   ],
   "source": [
    "evolve_population(population=['1 + 1', '1 + 1 + 1', '25'], steps=1)"
   ]
  },
  {
   "cell_type": "markdown",
   "metadata": {
    "button": false,
    "deletable": true,
    "new_sheet": false,
    "run_control": {
     "read_only": false
    }
   },
   "source": [
    "We can now use this to evolve a population over several iterations.  We can see that the strings get longer and longer:"
   ]
  },
  {
   "cell_type": "code",
   "execution_count": 11,
   "metadata": {
    "button": false,
    "collapsed": false,
    "deletable": true,
    "new_sheet": false,
    "run_control": {
     "read_only": false
    }
   },
   "outputs": [
    {
     "data": {
      "text/plain": [
       "['\" -*9-6.5925=\\'!\")=5(7',\n",
       " '+ -2*\"<+4)?(693\" /4',\n",
       " '0+ m2*\"*+)?6983\" /4',\n",
       " '+ -72*\"<+$i?,693\" /4',\n",
       " 't21%\"-6.525=\\'!\")/5(7',\n",
       " '0+ -2*\"*+)?6$93\" /45',\n",
       " '421%\"-6,52597\")/5(7 ',\n",
       " '41%\"-652*797\")/+5(7 ',\n",
       " '0+ m2*\"*+)?693<3\" /4',\n",
       " '48%\"v52*)797\")//+5(7 ',\n",
       " '48%\"-v52*797\")//+5(7 ',\n",
       " '42%\".)/6,529\\'n \")/(7 ',\n",
       " '4>23%\"- 6\\x0c7597\")/5(7 ',\n",
       " '421%\"-6,5259\\' \")/5(7 ',\n",
       " '42&1%\"-6,5259\\'. \")/5(7',\n",
       " '+ -72*\"<+$i?,69/$3\" /4',\n",
       " '421%\"-6,5259\\'. \")/5(7 ',\n",
       " '4>23%\"- 6\\x0c7597\")//5(78 ',\n",
       " '42%\".)/6,52%9\\'n \")/5(7 ',\n",
       " '42%\".)/6,52%9\\'n \")/5(7 ']"
      ]
     },
     "execution_count": 11,
     "metadata": {},
     "output_type": "execute_result"
    }
   ],
   "source": [
    "population = create_population(seed=[seed_input], size=POPULATION_SIZE)\n",
    "evolve_population(population)"
   ]
  },
  {
   "cell_type": "markdown",
   "metadata": {
    "button": false,
    "deletable": true,
    "new_sheet": false,
    "run_control": {
     "read_only": false
    }
   },
   "source": [
    "### Diversity in Input Elements\n",
    "\n",
    "Not only do we want long inputs, but we also want diversity in input elements.  For instance, we'd like our inputs to cover as many arithmetic operations as possible: The input `1 + 2 * 3` is shorter than the input `1234567890`, yet covers more operations.  We can achieve this by defining a special fitness function that favors inputs with a large diversity in input characters."
   ]
  },
  {
   "cell_type": "code",
   "execution_count": 12,
   "metadata": {
    "button": false,
    "collapsed": true,
    "deletable": true,
    "new_sheet": false,
    "run_control": {
     "read_only": false
    }
   },
   "outputs": [],
   "source": [
    "def diversity_fitness(s):\n",
    "    return len(set(s))"
   ]
  },
  {
   "cell_type": "markdown",
   "metadata": {
    "button": false,
    "deletable": true,
    "new_sheet": false,
    "run_control": {
     "read_only": false
    }
   },
   "source": [
    "Here, `len(set(s))` returns the size of the set of characters in `s` – that is, the number of different characters:"
   ]
  },
  {
   "cell_type": "code",
   "execution_count": 13,
   "metadata": {
    "button": false,
    "collapsed": false,
    "deletable": true,
    "new_sheet": false,
    "run_control": {
     "read_only": false
    }
   },
   "outputs": [
    {
     "data": {
      "text/plain": [
       "3"
      ]
     },
     "execution_count": 13,
     "metadata": {},
     "output_type": "execute_result"
    }
   ],
   "source": [
    "diversity_fitness(\"1 + 1\")"
   ]
  },
  {
   "cell_type": "markdown",
   "metadata": {
    "button": false,
    "deletable": true,
    "new_sheet": false,
    "run_control": {
     "read_only": false
    }
   },
   "source": [
    "We can see that this gives us even more diverse inputs:"
   ]
  },
  {
   "cell_type": "code",
   "execution_count": 14,
   "metadata": {
    "button": false,
    "collapsed": false,
    "deletable": true,
    "new_sheet": false,
    "run_control": {
     "read_only": false
    }
   },
   "outputs": [
    {
     "data": {
      "text/plain": [
       "['4205+\"-0*7)-\\x0f5,\\x1418u9\\'1d.$\")#/=(?)',\n",
       " 'k-79*-\"9+$7 ?,#6)\\x0f1.&#,86;32\"/4',\n",
       " '42550+\"*7)\\x0f,172xe%9\\'14l.$\")#/%?)2%p:',\n",
       " '405+\"-0*7)-\\x0f5,\\x1418u9\\'1.$\")#//=(?(p',\n",
       " '4255+\"*7)\\x1f,xe%9#1l. \")#!\"/%?)2%p:$:',\n",
       " '4255+\"j7)\\x0f,\\x14,1:2xe%9\\'1l.$\" )#\"%?)2%p:',\n",
       " '4255+\"*7)\\x1f,\\x142xe%9#1l.$\")#!\"/%?)2%p:$:',\n",
       " '4255+\"*7)\\x0f,\\x1412xe%9\\'1l.$\")#\"/%?)2%p:',\n",
       " 'k-7*-\"9+$7i ?8,#67)\\x0f1.&#,86;32\"/4',\n",
       " 'k-79-\"+$>7\\x10,#&v.)\\x0f1&.>,86;\\'!2\"/4',\n",
       " '405+\"-0*7)\\x0f,\\x14128u9\\'1l.$\")#/-?)2p',\n",
       " '555+\"*\\'7q\\x0f\\x16(\\x141)8a9\\'9l\\x0e$\")#\"/2%?)2p',\n",
       " '4255+\"*7)\\x0f6,\\x14128e9\\'1l.$\")#\"/%?)2p',\n",
       " 'k-7*-\"9+$7i ?,#6)\\x0f1.&#,86;32\"/4',\n",
       " '405+\"-0*7)-\\x0f5,\\x1418u9\\'1d.$\")#/=(?)p',\n",
       " '4255+\"*7)\\x0f6,\\x14128e%9\\'1l.$\")#\"/%?)2p:',\n",
       " '455+\"*\\'71)\\x0f6,\\x1418a9\\'9l.$\")#\"/:%?)2p',\n",
       " '455+\"*\\'71)\\x0f6&,\\x1418a9\\'9l.$\")#\"/:%?.)$2p',\n",
       " ' 372*\"#++5\\x0b$y?*)l>#04\\x19\\'?%t<!1=,\" /5',\n",
       " ' 637*2*\"#++5\\x0b$y?*)l>#04\\x19\\'?%t\\'<!1=,>\" /5']"
      ]
     },
     "execution_count": 14,
     "metadata": {},
     "output_type": "execute_result"
    }
   ],
   "source": [
    "evolve_population(population, fitness=diversity_fitness)"
   ]
  },
  {
   "cell_type": "markdown",
   "metadata": {
    "button": false,
    "deletable": true,
    "new_sheet": false,
    "run_control": {
     "read_only": false
    }
   },
   "source": [
    "However, there's a catch: As soon as our input contains a comment (a substring starting with `#`), any characters are allowed after the `#`.  The same holds if our input contains a quoted string (`'...'` or `\"...\"`); then arbitrary characters can be added to the string.  We may thus achieve diversity in comments or strings, but we will miss _diversity in functionality_.\n",
    "\n",
    "This, of course, is one of the central problems of software testing: How can I cover all functionality of the program under test – including all its bugs?  Fortunately, researchers and practitioners have devised a great number of solutions to address this problem."
   ]
  },
  {
   "cell_type": "markdown",
   "metadata": {
    "button": false,
    "deletable": true,
    "new_sheet": false,
    "run_control": {
     "read_only": false
    }
   },
   "source": [
    "## Guiding by Coverage\n",
    "\n",
    "To cover as much functionality as possible, one can rely on either _specified_ or _implemented_ functionality, as discussed in the [\"Coverage\"](Coverage.ipynb) chapter.  For now, we will not assume that there is a specification of program behavior (although it _definitely_ would be good to have one!).  We _will_ assume, though, that the program to be tested exists – and that we can leverage its structure to guide test generation.\n",
    "\n",
    "Since testing always executes the program at hand, one can always gather information about its execution – the least is the information needed to decide whether a test passes or fails.  Since coverage is frequently measured as well to determine test quality, let us also assume we can retrieve coverage of a test run.  The question is then: _How can we leverage coverage to guide test generation?_\n",
    "\n",
    "One particularly successful idea is implemented in the popular fuzzer named [_American fuzzy lop_](http://lcamtuf.coredump.cx/afl/), or AFL for short.  Just like our examples above, AFL evolves test cases that have been successful – but for AFL, \"success\" means _finding a new path through the program execution_.  This way, AFL can keep on mutating inputs that so far have found new paths; and if an input finds another path, it will be retained as well.\n",
    "\n",
    "We can implement such a strategy by maximizing _diversity in coverage_ in our population.\n",
    "\n"
   ]
  },
  {
   "cell_type": "code",
   "execution_count": 15,
   "metadata": {
    "button": false,
    "collapsed": false,
    "deletable": true,
    "new_sheet": false,
    "run_control": {
     "read_only": false
    }
   },
   "outputs": [],
   "source": [
    "%%capture\n",
    "from Coverage import Coverage, cgi_decode, population_coverage_cgi_decode"
   ]
  },
  {
   "cell_type": "code",
   "execution_count": 30,
   "metadata": {
    "button": false,
    "collapsed": true,
    "deletable": true,
    "new_sheet": false,
    "run_control": {
     "read_only": false
    }
   },
   "outputs": [],
   "source": [
    "def evolve_population_by_coverage(seed, trials=100):\n",
    "    population = []\n",
    "    population_coverage = set()\n",
    "    \n",
    "    def evaluate_candidate(candidate):\n",
    "        nonlocal population\n",
    "        nonlocal population_coverage\n",
    "       \n",
    "        with Coverage() as cov:\n",
    "            try:\n",
    "                cgi_decode(candidate)\n",
    "            except:\n",
    "                pass\n",
    "            \n",
    "        # print(repr(candidate))\n",
    "\n",
    "        new_coverage = frozenset(cov.coverage())\n",
    "        if new_coverage not in population_coverage:\n",
    "            # We have new coverage\n",
    "            population.append(candidate)\n",
    "            population_coverage.add(new_coverage)\n",
    "\n",
    "    for candidate in seed:\n",
    "        evaluate_candidate(candidate)\n",
    "   \n",
    "    for i in range(trials):\n",
    "        candidate = create_candidate(population)\n",
    "        evaluate_candidate(candidate)\n",
    "\n",
    "    return population"
   ]
  },
  {
   "cell_type": "code",
   "execution_count": 31,
   "metadata": {
    "button": false,
    "collapsed": false,
    "deletable": true,
    "new_sheet": false,
    "run_control": {
     "read_only": false
    }
   },
   "outputs": [
    {
     "data": {
      "text/plain": [
       "['Hello+world',\n",
       " 'Hello)wnrl',\n",
       " 'H%9lo,#3+wrde',\n",
       " 'nlo+ul%',\n",
       " '%9d\\x7f,3+wrdd.',\n",
       " '%=00d\\x7f,3#.-+wr ld&.',\n",
       " '#%9d\\x7f,,;wrdd.',\n",
       " 'nl$o8*Ul%',\n",
       " '%00d\\x7f,3#3*.-$)w %md&0*',\n",
       " \"%00d\\x7f,3+;*'.-$)w %m&d&0*\",\n",
       " \"!00d\\x7f,3+;*'.-$)'W %m&d&0*\",\n",
       " '%5006! !d\\x7f,3.-+wr7ld&.%',\n",
       " '%5006! !d\\x7f3.-\\x0bwr7ld&.%']"
      ]
     },
     "execution_count": 31,
     "metadata": {},
     "output_type": "execute_result"
    }
   ],
   "source": [
    "population = evolve_population_by_coverage(seed=[\"Hello+world\"], trials=1000)\n",
    "population"
   ]
  },
  {
   "cell_type": "markdown",
   "metadata": {
    "button": false,
    "deletable": true,
    "new_sheet": false,
    "run_control": {
     "read_only": false
    }
   },
   "source": [
    "Success!  In our population, _each and every input_ now has a different coverage, coming from various combinations of `'+'`, `'%'` (valid and invalid ones), and regular characters.  Altogether, they cover the entire program."
   ]
  },
  {
   "cell_type": "code",
   "execution_count": 29,
   "metadata": {
    "button": false,
    "collapsed": false,
    "deletable": true,
    "new_sheet": false,
    "run_control": {
     "read_only": false
    }
   },
   "outputs": [
    {
     "data": {
      "image/png": "[encoded data removed]",
      "text/plain": [
       "<matplotlib.figure.Figure at 0x10e4e3be0>"
      ]
     },
     "metadata": {},
     "output_type": "display_data"
    }
   ],
   "source": [
    "cumulative_coverage = population_coverage_cgi_decode(population)\n",
    "\n",
    "import matplotlib.pyplot as plt\n",
    "plt.plot(cumulative_coverage)\n",
    "plt.title('Coverage of cgi_decode() with random inputs')\n",
    "plt.xlabel('# of inputs')\n",
    "plt.ylabel('lines covered');"
   ]
  },
  {
   "cell_type": "markdown",
   "metadata": {
    "button": false,
    "deletable": true,
    "new_sheet": false,
    "run_control": {
     "read_only": false
    }
   },
   "source": [
    "The nice thing about this strategy is that, applied to larger programs, it will happily explore one path after the other – covering functionality after functionality.  All that is needed is a means to capture the coverage."
   ]
  },
  {
   "cell_type": "markdown",
   "metadata": {
    "button": false,
    "deletable": true,
    "new_sheet": false,
    "run_control": {
     "read_only": false
    }
   },
   "source": [
    "## Lessons Learned\n",
    "\n",
    "* Coverage can help a lot in guiding mutations."
   ]
  },
  {
   "cell_type": "markdown",
   "metadata": {
    "button": false,
    "deletable": true,
    "new_sheet": false,
    "run_control": {
     "read_only": false
    }
   },
   "source": [
    "## Next Steps"
   ]
  },
  {
   "cell_type": "markdown",
   "metadata": {
    "button": false,
    "deletable": true,
    "new_sheet": false,
    "run_control": {
     "read_only": false
    }
   },
   "source": [
    "In the next chapter, we shall try to cover as much _specified_ functionality as possible.  Here, we would need a specification of the input format, distinguishing between individual input elements – and attempting to cover as many of these as possible.  We will explore this as it comes to [grammar-based testing](Grammar_Testing.ipynb).\n",
    "\n",
    "One alternative to pure random testing is [symbolic testing](Symbolic_Testing.ipynb), also known as _constraint-based testing_.  Symbolic testing analyzes the _static_ code structure and attempts to resolve the conditions that lead to yet uncovered paths – and thus, yet uncovered behavior.\n",
    "\n",
    "Finally, the concept of a \"population\" that is systematically \"evolved\" through \"mutations\" will be explored in depth when discussing [search-based testing](Search_Based_Testing.ipynb).  Enjoy!\n"
   ]
  },
  {
   "cell_type": "markdown",
   "metadata": {
    "button": false,
    "collapsed": true,
    "deletable": true,
    "new_sheet": false,
    "run_control": {
     "read_only": false
    }
   },
   "source": [
    "## Exercises\n"
   ]
  },
  {
   "cell_type": "markdown",
   "metadata": {
    "button": false,
    "deletable": true,
    "new_sheet": false,
    "run_control": {
     "read_only": false
    }
   },
   "source": [
    "### Exercise 1\n",
    "\n",
    "Rather than adding elements to the population when a new coverage is discovered, one may also add elenents if they discover a new line.  Does this make a difference?"
   ]
  },
  {
   "cell_type": "markdown",
   "metadata": {
    "button": false,
    "deletable": true,
    "new_sheet": false,
    "run_control": {
     "read_only": false
    }
   },
   "source": [
    "### Exercise 2\n",
    "\n",
    "To achieve diversity in our set of inputs, one may also try to maximize the _difference_ between the individual inputs in the population.  Rather than sorting the population and replace the least fit individual, we could also compare all individuals against each other and pick the one that is most similar to all the others.  For instance, one could define similarity as the ratio of which characters are common in both strings:"
   ]
  },
  {
   "cell_type": "code",
   "execution_count": 21,
   "metadata": {
    "button": false,
    "collapsed": true,
    "deletable": true,
    "new_sheet": false,
    "run_control": {
     "read_only": false
    }
   },
   "outputs": [],
   "source": [
    "def similar(s1, s2):\n",
    "    return len(set(s1) & set(s2)) / len(set(s1) | set(s2))"
   ]
  },
  {
   "cell_type": "code",
   "execution_count": 22,
   "metadata": {
    "button": false,
    "collapsed": true,
    "deletable": true,
    "new_sheet": false,
    "run_control": {
     "read_only": false
    }
   },
   "outputs": [],
   "source": [
    "assert similar(\"A\", \"A\") == 1.0\n",
    "assert similar(\"A\", \"B\") == 0"
   ]
  },
  {
   "cell_type": "markdown",
   "metadata": {
    "button": false,
    "deletable": true,
    "new_sheet": false,
    "run_control": {
     "read_only": false
    }
   },
   "source": [
    "Here, `a & b` and `a | b` denote the intersection and union of two sets, respectively."
   ]
  },
  {
   "cell_type": "markdown",
   "metadata": {
    "button": false,
    "deletable": true,
    "new_sheet": false,
    "run_control": {
     "read_only": false
    }
   },
   "source": [
    "The more the set of characters in two strings is the same, the higer the value of `similar()`:"
   ]
  },
  {
   "cell_type": "code",
   "execution_count": 23,
   "metadata": {
    "button": false,
    "collapsed": false,
    "deletable": true,
    "new_sheet": false,
    "run_control": {
     "read_only": false
    }
   },
   "outputs": [
    {
     "data": {
      "text/plain": [
       "0.0"
      ]
     },
     "execution_count": 23,
     "metadata": {},
     "output_type": "execute_result"
    }
   ],
   "source": [
    "similar(\"Apple\", \"Microsoft\")"
   ]
  },
  {
   "cell_type": "code",
   "execution_count": 24,
   "metadata": {
    "button": false,
    "collapsed": false,
    "deletable": true,
    "new_sheet": false,
    "run_control": {
     "read_only": false
    }
   },
   "outputs": [
    {
     "data": {
      "text/plain": [
       "0.23076923076923078"
      ]
     },
     "execution_count": 24,
     "metadata": {},
     "output_type": "execute_result"
    }
   ],
   "source": [
    "similar(\"Python\", \"Boa constrictor\")"
   ]
  },
  {
   "cell_type": "code",
   "execution_count": 25,
   "metadata": {
    "button": false,
    "collapsed": false,
    "deletable": true,
    "new_sheet": false,
    "run_control": {
     "read_only": false
    }
   },
   "outputs": [
    {
     "data": {
      "text/plain": [
       "0.7777777777777778"
      ]
     },
     "execution_count": 25,
     "metadata": {},
     "output_type": "execute_result"
    }
   ],
   "source": [
    "similar(\"Python 2\", \"Python 3\")"
   ]
  },
  {
   "cell_type": "markdown",
   "metadata": {
    "button": false,
    "deletable": true,
    "new_sheet": false,
    "run_control": {
     "read_only": false
    }
   },
   "source": [
    "When it comes to remove one element from the population, use the above `similar()` implementation to determine the one element that is most similar to all the others.  Report a typical output sample.   How expensive is your approach?"
   ]
  },
  {
   "cell_type": "markdown",
   "metadata": {
    "button": false,
    "deletable": true,
    "new_sheet": false,
    "run_control": {
     "read_only": false
    }
   },
   "source": [
    "### Exercise 3\n",
    "\n",
    "Python brings an [impressive library for computing the difference between strings](https://docs.python.org/3/library/difflib.html), which we can use to measure similarity between two strings including the ordering of characters:"
   ]
  },
  {
   "cell_type": "code",
   "execution_count": 26,
   "metadata": {
    "button": false,
    "collapsed": false,
    "deletable": true,
    "new_sheet": false,
    "run_control": {
     "read_only": false
    }
   },
   "outputs": [],
   "source": [
    "from difflib import SequenceMatcher"
   ]
  },
  {
   "cell_type": "code",
   "execution_count": 27,
   "metadata": {
    "button": false,
    "collapsed": true,
    "deletable": true,
    "new_sheet": false,
    "run_control": {
     "read_only": false
    }
   },
   "outputs": [],
   "source": [
    "def similar(s1, s2):\n",
    "    return SequenceMatcher(None, s1, s2).ratio()"
   ]
  },
  {
   "cell_type": "markdown",
   "metadata": {
    "button": false,
    "deletable": true,
    "new_sheet": false,
    "run_control": {
     "read_only": false
    }
   },
   "source": [
    "Repeat [Exercise 2](#Exercise-2) with the above."
   ]
  }
 ],
 "metadata": {
  "celltoolbar": "Edit Metadata",
  "ipub": {
   "bibliography": "fuzzingbook.bib",
   "listcode": false,
   "listfigures": false,
   "listtables": false,
   "titlepage": {
    "author": "Andreas Zeller, Rahul Gopinath, Gordon Fraser, and Christian Holler",
    "subtitle": "Generating Software Tests",
    "title": "Fuzzing"
   },
   "toc": true
  },
  "kernelspec": {
   "display_name": "Python 3",
   "language": "python",
   "name": "python3"
  },
  "language_info": {
   "codemirror_mode": {
    "name": "ipython",
    "version": 3
   },
   "file_extension": ".py",
   "mimetype": "text/x-python",
   "name": "python",
   "nbconvert_exporter": "python",
   "pygments_lexer": "ipython3",
   "version": "3.5.0"
  },
  "toc": {
   "base_numbering": 1,
   "nav_menu": {},
   "number_sections": true,
   "sideBar": true,
   "skip_h1_title": true,
   "title_cell": "",
   "title_sidebar": "Contents",
   "toc_cell": false,
   "toc_position": {},
   "toc_section_display": true,
   "toc_window_display": true
  }
 },
 "nbformat": 4,
 "nbformat_minor": 2
}
