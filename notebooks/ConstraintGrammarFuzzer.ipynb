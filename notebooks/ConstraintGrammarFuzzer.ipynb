{
 "cells": [
  {
   "cell_type": "markdown",
   "metadata": {
    "button": false,
    "new_sheet": false,
    "run_control": {
     "read_only": false
    }
   },
   "source": [
    "# Fuzzing with Constraints\n",
    "\n",
    "In this chapter, we show how to extend grammars with _constraints_ – conditions that are evaluated while a string is produced, and which have to be satisfied."
   ]
  },
  {
   "cell_type": "markdown",
   "metadata": {
    "button": false,
    "new_sheet": false,
    "run_control": {
     "read_only": false
    }
   },
   "source": [
    "**Prerequisites**\n",
    "\n",
    "* You should have read the [chapter on efficient grammar fuzzing](GrammarFuzzer.ipynb)."
   ]
  },
  {
   "cell_type": "markdown",
   "metadata": {
    "button": false,
    "new_sheet": true,
    "run_control": {
     "read_only": false
    }
   },
   "source": [
    "## Specifying Functions\n"
   ]
  },
  {
   "cell_type": "markdown",
   "metadata": {},
   "source": [
    "\\todo{Have a check on which expansions are supported}"
   ]
  },
  {
   "cell_type": "code",
   "execution_count": null,
   "metadata": {
    "button": false,
    "new_sheet": false,
    "run_control": {
     "read_only": false
    },
    "slideshow": {
     "slide_type": "skip"
    }
   },
   "outputs": [],
   "source": [
    "import fuzzingbook_utils"
   ]
  },
  {
   "cell_type": "code",
   "execution_count": null,
   "metadata": {
    "button": false,
    "new_sheet": false,
    "run_control": {
     "read_only": false
    },
    "slideshow": {
     "slide_type": "skip"
    }
   },
   "outputs": [],
   "source": [
    "from Grammars import EXPR_GRAMMAR, is_valid_grammar\n",
    "from ProbabilisticGrammarFuzzer import opts, exp_opts, exp_string\n",
    "from GrammarFuzzer import GrammarFuzzer, all_terminals\n",
    "import copy"
   ]
  },
  {
   "cell_type": "code",
   "execution_count": null,
   "metadata": {},
   "outputs": [],
   "source": [
    "def exp_pre_expansion_function(expansion):\n",
    "    \"\"\"Return the specified value generator, or None if unspecified\"\"\"\n",
    "    if exp_opts(expansion) is None:\n",
    "        return None\n",
    "    return exp_opts(expansion).get('pre', None)"
   ]
  },
  {
   "cell_type": "markdown",
   "metadata": {},
   "source": [
    "## Generating Elements\n",
    "\n",
    "Make things even faster: define symbols right away"
   ]
  },
  {
   "cell_type": "code",
   "execution_count": null,
   "metadata": {},
   "outputs": [],
   "source": [
    "import random"
   ]
  },
  {
   "cell_type": "code",
   "execution_count": null,
   "metadata": {},
   "outputs": [],
   "source": [
    "constrained_expr_grammar = copy.deepcopy(EXPR_GRAMMAR)\n",
    "\n",
    "constrained_expr_grammar.update(\n",
    "    {\n",
    "     \"<start>\": [\"<expr>\"],\n",
    "     \"<factor>\": [\n",
    "         \"+<factor>\",\n",
    "         \"-<factor>\",\n",
    "         \"(<expr>)\",\n",
    "         (\"<integer>.<integer>\", opts(pre=lambda: (random.randint(100, 200), None))),\n",
    "         (\"<integer>\", opts(pre=lambda: random.randint(100, 200))),\n",
    "        ],\n",
    "    }\n",
    ")"
   ]
  },
  {
   "cell_type": "code",
   "execution_count": null,
   "metadata": {},
   "outputs": [],
   "source": [
    "class ConstraintGrammarFuzzer(GrammarFuzzer):\n",
    "    pass"
   ]
  },
  {
   "cell_type": "code",
   "execution_count": null,
   "metadata": {},
   "outputs": [],
   "source": [
    "class ConstraintGrammarFuzzer(ConstraintGrammarFuzzer):\n",
    "    def expansion_to_children(self, expansion):\n",
    "        children = super().expansion_to_children(expansion)\n",
    "        function = exp_pre_expansion_function(expansion)\n",
    "        if function is None:\n",
    "            return children\n",
    "        \n",
    "        assert callable(function)\n",
    "\n",
    "        result = function()\n",
    "        if self.log:\n",
    "            print(repr(function) + \"()\", \"=\", repr(result))\n",
    "        return self.apply_result(result, children)"
   ]
  },
  {
   "cell_type": "code",
   "execution_count": null,
   "metadata": {},
   "outputs": [],
   "source": [
    "class ConstraintGrammarFuzzer(ConstraintGrammarFuzzer):\n",
    "    def apply_result(self, result, children):\n",
    "        if isinstance(result, bool):\n",
    "            pass\n",
    "        elif isinstance(result, str):\n",
    "            children = [(result, [])]\n",
    "        elif isinstance(result, tuple):\n",
    "            for index, value in enumerate(result):\n",
    "                if value is not None:\n",
    "                    if not isinstance(value, str):\n",
    "                        value = repr(value)\n",
    "                    if self.log:\n",
    "                        print(\"Replacing\", all_terminals(children[index]), \"by\", value)\n",
    "\n",
    "                    children[index] = (value, [])\n",
    "        else:\n",
    "            if self.log:\n",
    "                print(\"Replacing\", \"\".join([all_terminals(c) for c in children]), \"by\", result)\n",
    "\n",
    "            children = [(repr(result), [])]\n",
    "\n",
    "        return children"
   ]
  },
  {
   "cell_type": "code",
   "execution_count": null,
   "metadata": {},
   "outputs": [],
   "source": [
    "evaluating_fuzzer = ConstraintGrammarFuzzer(constrained_expr_grammar, log=True)\n",
    "evaluating_fuzzer.fuzz()"
   ]
  },
  {
   "cell_type": "markdown",
   "metadata": {
    "button": false,
    "new_sheet": false,
    "run_control": {
     "read_only": false
    }
   },
   "source": [
    "## Specifying Constraints"
   ]
  },
  {
   "cell_type": "code",
   "execution_count": null,
   "metadata": {
    "button": false,
    "code_folding": [],
    "new_sheet": false,
    "run_control": {
     "read_only": false
    },
    "slideshow": {
     "slide_type": "subslide"
    }
   },
   "outputs": [],
   "source": [
    "constrained_expr_grammar = copy.deepcopy(EXPR_GRAMMAR)\n",
    "\n",
    "constrained_expr_grammar.update(\n",
    "    {\n",
    "        \"<start>\": [(\"<expr>\", opts(post=lambda s: eval(s) > 5))]\n",
    "    }\n",
    ")\n",
    "\n",
    "assert is_valid_grammar(constrained_expr_grammar)"
   ]
  },
  {
   "cell_type": "code",
   "execution_count": null,
   "metadata": {},
   "outputs": [],
   "source": [
    "def exp_post_expansion_function(expansion):\n",
    "    \"\"\"Return the specified post-expansion function, or None if unspecified\"\"\"\n",
    "    if exp_opts(expansion) is None:\n",
    "        return None\n",
    "    return exp_opts(expansion).get('post', None)"
   ]
  },
  {
   "cell_type": "code",
   "execution_count": null,
   "metadata": {},
   "outputs": [],
   "source": [
    "class ConstraintGrammarFuzzer(ConstraintGrammarFuzzer):\n",
    "    def eval_function(self, tree, function):\n",
    "        symbol, children = tree\n",
    "        # print(\"Does\", all_terminals(tree), \"satisfy\", repr(function) + \"?\")\n",
    "\n",
    "        assert callable(function)\n",
    "\n",
    "        args = []\n",
    "        for (symbol, exp) in children:\n",
    "            if exp != [] and exp is not None:\n",
    "                symbol_value = all_terminals((symbol, exp))\n",
    "                args.append(symbol_value)\n",
    "                \n",
    "        try:\n",
    "            result = function(*args)\n",
    "            if self.log:\n",
    "                print(repr(function) + repr(tuple(args)), \"=\", repr(result))\n",
    "\n",
    "        except Exception as exc:\n",
    "            if self.log:\n",
    "                print(repr(function) + repr(tuple(args)) + \": \" + repr(exc))\n",
    "            result = None\n",
    "\n",
    "        return result"
   ]
  },
  {
   "cell_type": "code",
   "execution_count": null,
   "metadata": {},
   "outputs": [],
   "source": [
    "class ConstraintGrammarFuzzer(ConstraintGrammarFuzzer):\n",
    "    # Return True iff all constraints of grammar are satisfied in TREE\n",
    "    def run_functions(self, tree):\n",
    "        symbol, children = tree\n",
    "        if symbol not in self.grammar:\n",
    "            return True\n",
    "\n",
    "        applied_expansion = \\\n",
    "            \"\".join([child_symbol for child_symbol, _ in children])\n",
    "\n",
    "        result = True\n",
    "        for expansion in self.grammar[symbol]:\n",
    "            if exp_string(expansion) == applied_expansion:\n",
    "                function = exp_post_expansion_function(expansion)\n",
    "                if function is None:\n",
    "                    break\n",
    "                result = self.eval_function(tree, function)\n",
    "                if result:\n",
    "                    children = self.apply_result(result, children)\n",
    "                    break\n",
    "\n",
    "                return False\n",
    "\n",
    "        for c in children:\n",
    "            if not self.run_functions(c):\n",
    "                return False\n",
    "\n",
    "        return result"
   ]
  },
  {
   "cell_type": "markdown",
   "metadata": {},
   "source": [
    "The simplest method to check constraints is to retain only those trees that satisfy them.  Works, but can be very slow."
   ]
  },
  {
   "cell_type": "code",
   "execution_count": null,
   "metadata": {},
   "outputs": [],
   "source": [
    "class ConstraintGrammarFuzzer(ConstraintGrammarFuzzer):\n",
    "    def fuzz_tree(self):\n",
    "        while True:\n",
    "            tree = super().fuzz_tree()\n",
    "            if self.run_functions(tree):\n",
    "                return tree"
   ]
  },
  {
   "cell_type": "code",
   "execution_count": null,
   "metadata": {},
   "outputs": [],
   "source": [
    "constraint_grammar_fuzzer = ConstraintGrammarFuzzer(constrained_expr_grammar)\n",
    "expr = constraint_grammar_fuzzer.fuzz()\n",
    "expr"
   ]
  },
  {
   "cell_type": "code",
   "execution_count": null,
   "metadata": {},
   "outputs": [],
   "source": [
    "from ExpectError import ExpectError"
   ]
  },
  {
   "cell_type": "code",
   "execution_count": null,
   "metadata": {},
   "outputs": [],
   "source": [
    "with ExpectError():\n",
    "    eval(expr)"
   ]
  },
  {
   "cell_type": "code",
   "execution_count": null,
   "metadata": {},
   "outputs": [],
   "source": [
    "constrained_expr_grammar.update(\n",
    "    {\n",
    "     \"<start>\": [\"<expr>\"],\n",
    "     \"<factor>\": [\n",
    "         \"+<factor>\",\n",
    "         \"-<factor>\",\n",
    "         \"(<expr>)\",\n",
    "         # (\"<integer>.<integer>\", opts(constraint=\"int($$) > 10\")),\n",
    "         (\"<integer>.<integer>\", opts(post=lambda s1, s2: float(s1 + \".\" + s2) > 10)),\n",
    "         (\"<integer>\", opts(post=lambda n: int(n) > 10))\n",
    "        ],\n",
    "    }\n",
    ")"
   ]
  },
  {
   "cell_type": "code",
   "execution_count": null,
   "metadata": {},
   "outputs": [],
   "source": [
    "from Timer import Timer"
   ]
  },
  {
   "cell_type": "code",
   "execution_count": null,
   "metadata": {},
   "outputs": [],
   "source": [
    "constraint_grammar_fuzzer = ConstraintGrammarFuzzer(constrained_expr_grammar)\n",
    "with Timer() as timer:\n",
    "    print([constraint_grammar_fuzzer.fuzz() for i in range(10)])"
   ]
  },
  {
   "cell_type": "code",
   "execution_count": null,
   "metadata": {},
   "outputs": [],
   "source": [
    "timer.elapsed_time()"
   ]
  },
  {
   "cell_type": "markdown",
   "metadata": {},
   "source": [
    "## Solving Constraints on the Go"
   ]
  },
  {
   "cell_type": "markdown",
   "metadata": {},
   "source": [
    "Make things faster: Check as soon as (sub)tree is complete"
   ]
  },
  {
   "cell_type": "code",
   "execution_count": null,
   "metadata": {},
   "outputs": [],
   "source": [
    "class ConstraintGrammarFuzzer(ConstraintGrammarFuzzer):\n",
    "    def expand_tree_once(self, tree):\n",
    "        new_tree = super().expand_tree_once(tree)\n",
    "        \n",
    "        (symbol, children) = new_tree\n",
    "        if all([exp_post_expansion_function(expansion) is None for expansion in self.grammar[symbol]]):\n",
    "            # No constraints for this symbol\n",
    "            return new_tree\n",
    "                \n",
    "        if self.any_possible_expansions(tree):\n",
    "            # Still expanding\n",
    "            return new_tree\n",
    "\n",
    "        result = self.run_functions(new_tree)\n",
    "        if result:\n",
    "            # All constraints satisfied\n",
    "            children = self.apply_result(result, children)\n",
    "            new_tree = (symbol, children)\n",
    "            return new_tree\n",
    "\n",
    "        # Replace tree by unexpanded symbol and try again\n",
    "        if self.log:\n",
    "            print(all_terminals(new_tree), \"did not satisfy\", symbol, \"constraints\")\n",
    "            \n",
    "        if self.replacement_attempts_counter > 0:\n",
    "            if self.log:\n",
    "                print(\"Trying another expansion\")\n",
    "            self.replacement_attempts_counter -= 1\n",
    "            return (symbol, None)\n",
    "        \n",
    "        if self.log:\n",
    "            print(\"Starting from scratch\")\n",
    "        raise RestartExpansionException"
   ]
  },
  {
   "cell_type": "code",
   "execution_count": null,
   "metadata": {},
   "outputs": [],
   "source": [
    "class RestartExpansionException(Exception):\n",
    "    pass"
   ]
  },
  {
   "cell_type": "code",
   "execution_count": null,
   "metadata": {},
   "outputs": [],
   "source": [
    "class ConstraintGrammarFuzzer(ConstraintGrammarFuzzer):\n",
    "    def __init__(self, grammar, replacement_attempts=10, **kwargs):\n",
    "        super().__init__(grammar, **kwargs)\n",
    "        self.replacement_attempts = replacement_attempts\n",
    "\n",
    "    def fuzz_tree(self):\n",
    "        while True:\n",
    "            self.replacement_attempts_counter = self.replacement_attempts\n",
    "            try:\n",
    "                tree = super().fuzz_tree()\n",
    "                return tree\n",
    "            except RestartExpansionException:\n",
    "                continue"
   ]
  },
  {
   "cell_type": "code",
   "execution_count": null,
   "metadata": {},
   "outputs": [],
   "source": [
    "constraint_grammar_fuzzer = ConstraintGrammarFuzzer(constrained_expr_grammar)\n",
    "with Timer() as timer:\n",
    "    print([constraint_grammar_fuzzer.fuzz() for i in range(10)])"
   ]
  },
  {
   "cell_type": "code",
   "execution_count": null,
   "metadata": {},
   "outputs": [],
   "source": [
    "timer.elapsed_time()"
   ]
  },
  {
   "cell_type": "markdown",
   "metadata": {},
   "source": [
    "## Usage Examples\n",
    "\n",
    "### Matching Tags"
   ]
  },
  {
   "cell_type": "code",
   "execution_count": null,
   "metadata": {},
   "outputs": [],
   "source": [
    "from Grammars import crange"
   ]
  },
  {
   "cell_type": "code",
   "execution_count": null,
   "metadata": {},
   "outputs": [],
   "source": [
    "XML_GRAMMAR = {\n",
    "    \"<start>\": [\"<xml-tree>\"],\n",
    "    \"<xml-tree>\": [\"<start-tag><xml-content><end-tag>\"],\n",
    "    \"<xml-content>\": [\"Text\", \"<xml-tree>\"],\n",
    "    \"<start-tag>\": [\"<langle><id><rangle>\"],\n",
    "    \"<end-tag>\": [\"<langle>/<id><rangle>\"],\n",
    "    \"<langle>\": [\"<\"],\n",
    "    \"<rangle>\": [\">\"],\n",
    "    \"<id>\": [\"<letter>\", \"<id><letter>\"],\n",
    "    \"<letter>\": crange('a', 'z')\n",
    "}\n",
    "\n",
    "assert is_valid_grammar(XML_GRAMMAR)"
   ]
  },
  {
   "cell_type": "code",
   "execution_count": null,
   "metadata": {},
   "outputs": [],
   "source": [
    "xml_fuzzer = GrammarFuzzer(XML_GRAMMAR)\n",
    "xml_fuzzer.fuzz()"
   ]
  },
  {
   "cell_type": "code",
   "execution_count": null,
   "metadata": {},
   "outputs": [],
   "source": [
    "def random_xml():\n",
    "    xml_id_fuzzer = GrammarFuzzer(XML_GRAMMAR, start_symbol=\"<id>\")\n",
    "    id = xml_id_fuzzer.fuzz()\n",
    "    return (\"<\" + id + \">\", None, \"</\" + id + \">\")\n",
    "\n",
    "XML_GRAMMAR.update({\n",
    "    \"<xml-tree>\": [(\"<start-tag><xml-content><end-tag>\",\n",
    "                    opts(pre=random_xml)\n",
    "                   )]\n",
    "})"
   ]
  },
  {
   "cell_type": "code",
   "execution_count": null,
   "metadata": {},
   "outputs": [],
   "source": [
    "xml_fuzzer = ConstraintGrammarFuzzer(XML_GRAMMAR, log=True, disp=True)\n",
    "xml_fuzzer.fuzz()"
   ]
  },
  {
   "cell_type": "markdown",
   "metadata": {},
   "source": [
    "### Defining and Using Identifiers"
   ]
  },
  {
   "cell_type": "markdown",
   "metadata": {},
   "source": [
    "### Checksums"
   ]
  },
  {
   "cell_type": "markdown",
   "metadata": {},
   "source": [
    "## All Together"
   ]
  },
  {
   "cell_type": "code",
   "execution_count": null,
   "metadata": {},
   "outputs": [],
   "source": [
    "from ProbabilisticGrammarFuzzer import ProbabilisticGrammarFuzzer, ProbabilisticGrammarCoverageFuzzer"
   ]
  },
  {
   "cell_type": "code",
   "execution_count": null,
   "metadata": {},
   "outputs": [],
   "source": [
    "class BigFatGrammarFuzzer(ProbabilisticGrammarFuzzer, ConstraintGrammarFuzzer):\n",
    "    pass"
   ]
  },
  {
   "cell_type": "code",
   "execution_count": null,
   "metadata": {},
   "outputs": [],
   "source": [
    "class BigFatGrammarCoverageFuzzer(ProbabilisticGrammarCoverageFuzzer, ConstraintGrammarFuzzer):\n",
    "    pass"
   ]
  },
  {
   "cell_type": "markdown",
   "metadata": {
    "button": false,
    "new_sheet": true,
    "run_control": {
     "read_only": false
    }
   },
   "source": [
    "## Lessons Learned\n",
    "\n",
    "* _Lesson one_\n",
    "* _Lesson two_\n",
    "* _Lesson three_"
   ]
  },
  {
   "cell_type": "markdown",
   "metadata": {
    "button": false,
    "new_sheet": false,
    "run_control": {
     "read_only": false
    }
   },
   "source": [
    "## Next Steps\n",
    "\n",
    "_Link to subsequent chapters (notebooks) here, as in:_\n",
    "\n",
    "* [use _mutations_ on existing inputs to get more valid inputs](MutationFuzzer.ipynb)\n",
    "* [use _grammars_ (i.e., a specification of the input format) to get even more valid inputs](Grammars.ipynb)\n",
    "* [reduce _failing inputs_ for efficient debugging](Reducer.ipynb)\n"
   ]
  },
  {
   "cell_type": "markdown",
   "metadata": {},
   "source": [
    "## Background\n",
    "\n",
    "_Cite relevant works in the literature and put them into context, as in:_\n",
    "\n",
    "The idea of ensuring that each expansion in the grammar is used at least once goes back to Burkhardt \\cite{Burkhardt1967}, to be later rediscovered by Paul Purdom \\cite{Purdom1972}."
   ]
  },
  {
   "cell_type": "markdown",
   "metadata": {
    "button": false,
    "new_sheet": true,
    "run_control": {
     "read_only": false
    }
   },
   "source": [
    "## Exercises\n",
    "\n",
    "1. Implement a syntax that allows people to refer to subtrees – say $1.$2 is the second child of the first symbol.\n"
   ]
  },
  {
   "cell_type": "markdown",
   "metadata": {
    "button": false,
    "new_sheet": false,
    "run_control": {
     "read_only": false
    }
   },
   "source": [
    "### Exercise 1: _Title_\n",
    "\n",
    "_Text of the exercise_"
   ]
  },
  {
   "cell_type": "code",
   "execution_count": null,
   "metadata": {
    "cell_style": "center"
   },
   "outputs": [],
   "source": [
    "# Some code that is part of the exercise\n",
    "pass"
   ]
  },
  {
   "cell_type": "markdown",
   "metadata": {
    "solution2": "hidden",
    "solution2_first": true
   },
   "source": [
    "_Some more text for the exercise_"
   ]
  },
  {
   "cell_type": "markdown",
   "metadata": {
    "slideshow": {
     "slide_type": "skip"
    },
    "solution2": "hidden"
   },
   "source": [
    "**Solution.** _Some text for the solution_"
   ]
  },
  {
   "cell_type": "code",
   "execution_count": null,
   "metadata": {
    "cell_style": "split",
    "slideshow": {
     "slide_type": "skip"
    },
    "solution2": "hidden"
   },
   "outputs": [],
   "source": [
    "# Some code for the solution\n",
    "2 + 2"
   ]
  },
  {
   "cell_type": "markdown",
   "metadata": {
    "slideshow": {
     "slide_type": "skip"
    },
    "solution2": "hidden"
   },
   "source": [
    "_Some more text for the solution_"
   ]
  },
  {
   "cell_type": "code",
   "execution_count": null,
   "metadata": {},
   "outputs": [],
   "source": [
    "ATTR_GRAMMAR = {\n",
    " \"<clause>\": (\"<xml-open>Text<xml-close>\", opts(constraint=lambda x1, x2: x1.name == x2.name)),\n",
    " \"<xml-open>\": (\"<langle><tag><rangle>\", opts(producer=lambda: (None, opts(name=random_name()), None))),\n",
    " \"<xml-close>\": (\"<langle>/<tag><rangle>\", opts(producer=lambda: (None, find_name(), None))),\n",
    "}"
   ]
  },
  {
   "cell_type": "markdown",
   "metadata": {
    "button": false,
    "new_sheet": false,
    "run_control": {
     "read_only": false
    },
    "solution": "hidden",
    "solution2": "hidden",
    "solution2_first": true,
    "solution_first": true
   },
   "source": [
    "### Exercise 2: _Title_\n",
    "\n",
    "_Text of the exercise_"
   ]
  },
  {
   "cell_type": "markdown",
   "metadata": {
    "button": false,
    "new_sheet": false,
    "run_control": {
     "read_only": false
    },
    "slideshow": {
     "slide_type": "skip"
    },
    "solution": "hidden",
    "solution2": "hidden"
   },
   "source": [
    "**Solution.** _Solution for the exercise_"
   ]
  }
 ],
 "metadata": {
  "ipub": {
   "bibliography": "fuzzingbook.bib",
   "toc": true
  },
  "kernelspec": {
   "display_name": "Python 3",
   "language": "python",
   "name": "python3"
  },
  "language_info": {
   "codemirror_mode": {
    "name": "ipython",
    "version": 3
   },
   "file_extension": ".py",
   "mimetype": "text/x-python",
   "name": "python",
   "nbconvert_exporter": "python",
   "pygments_lexer": "ipython3",
   "version": "3.6.6"
  },
  "toc": {
   "base_numbering": 1,
   "nav_menu": {},
   "number_sections": true,
   "sideBar": true,
   "skip_h1_title": true,
   "title_cell": "",
   "title_sidebar": "Contents",
   "toc_cell": false,
   "toc_position": {},
   "toc_section_display": true,
   "toc_window_display": true
  }
 },
 "nbformat": 4,
 "nbformat_minor": 2
}
