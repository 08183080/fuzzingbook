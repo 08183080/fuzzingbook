{
 "cells": [
  {
   "cell_type": "markdown",
   "metadata": {
    "button": false,
    "new_sheet": false,
    "run_control": {
     "read_only": false
    }
   },
   "source": [
    "# Fuzzing with Constraints\n",
    "\n",
    "In this chapter, we show how to extend grammars with _constraints_ – conditions that are evaluated while a string is produced, and which have to be satisfied."
   ]
  },
  {
   "cell_type": "markdown",
   "metadata": {
    "button": false,
    "new_sheet": false,
    "run_control": {
     "read_only": false
    }
   },
   "source": [
    "**Prerequisites**\n",
    "\n",
    "* You should have read the [chapter on efficient grammar fuzzing](GrammarFuzzer.ipynb)."
   ]
  },
  {
   "cell_type": "markdown",
   "metadata": {
    "button": false,
    "new_sheet": true,
    "run_control": {
     "read_only": false
    }
   },
   "source": [
    "## Specifying Functions\n"
   ]
  },
  {
   "cell_type": "markdown",
   "metadata": {},
   "source": [
    "## Generating Elements during Expansion\n",
    "\n",
    "Define symbols right out of a Python function"
   ]
  },
  {
   "cell_type": "code",
   "execution_count": null,
   "metadata": {},
   "outputs": [],
   "source": [
    "import random"
   ]
  },
  {
   "cell_type": "code",
   "execution_count": null,
   "metadata": {
    "button": false,
    "new_sheet": false,
    "run_control": {
     "read_only": false
    },
    "slideshow": {
     "slide_type": "skip"
    }
   },
   "outputs": [],
   "source": [
    "import fuzzingbook_utils"
   ]
  },
  {
   "cell_type": "code",
   "execution_count": null,
   "metadata": {
    "button": false,
    "new_sheet": false,
    "run_control": {
     "read_only": false
    },
    "slideshow": {
     "slide_type": "skip"
    }
   },
   "outputs": [],
   "source": [
    "from Grammars import EXPR_GRAMMAR, is_valid_grammar, is_nonterminal, opts, exp_opt, exp_string\n",
    "from GrammarFuzzer import GrammarFuzzer, all_terminals\n",
    "import copy"
   ]
  },
  {
   "cell_type": "code",
   "execution_count": null,
   "metadata": {},
   "outputs": [],
   "source": [
    "constrained_expr_grammar = copy.deepcopy(EXPR_GRAMMAR)\n",
    "\n",
    "constrained_expr_grammar.update(\n",
    "    {\n",
    "     \"<start>\": [\"<expr>\"],\n",
    "     \"<factor>\": [\n",
    "         \"+<factor>\",\n",
    "         \"-<factor>\",\n",
    "         \"(<expr>)\",\n",
    "         (\"<integer>.<integer>\", opts(pre=lambda: (random.randint(100, 200), None))),\n",
    "         (\"<integer>\", opts(pre=lambda: random.randint(100, 200))),\n",
    "        ],\n",
    "    }\n",
    ")"
   ]
  },
  {
   "cell_type": "code",
   "execution_count": null,
   "metadata": {},
   "outputs": [],
   "source": [
    "def exp_pre_expansion_function(expansion):\n",
    "    \"\"\"Return the specified pre-expansion function, or None if unspecified\"\"\"\n",
    "    return exp_opt(expansion, 'pre')"
   ]
  },
  {
   "cell_type": "code",
   "execution_count": null,
   "metadata": {},
   "outputs": [],
   "source": [
    "class ConstraintGrammarFuzzer(GrammarFuzzer):\n",
    "    def supported_opts(self):\n",
    "        return super().supported_opts() | {\"pre\", \"post\", \"order\"}"
   ]
  },
  {
   "cell_type": "code",
   "execution_count": null,
   "metadata": {},
   "outputs": [],
   "source": [
    "class ConstraintGrammarFuzzer(ConstraintGrammarFuzzer):\n",
    "    def expansion_to_children(self, expansion):\n",
    "        children = super().expansion_to_children(expansion)\n",
    "        function = exp_pre_expansion_function(expansion)\n",
    "        if function is None:\n",
    "            return children\n",
    "        \n",
    "        assert callable(function)\n",
    "        result = function()\n",
    "\n",
    "        if self.log:\n",
    "            print(repr(function) + \"()\", \"=\", repr(result))\n",
    "        return self.apply_result(result, children)"
   ]
  },
  {
   "cell_type": "markdown",
   "metadata": {},
   "source": [
    "The specified `function` can return one of several types:\n",
    "\n",
    "* _Boolean_ values and `None` values are ignored.\n",
    "* A _string_ $s$ replaces the entire expansion with $s$.\n",
    "* A _tuple_ $(x_1, x_2, \\dots, x_n)$ replaces the $i$-th symbol with $x_i$ for every $x_i$ that is not `None`.  If $x_i$ is not a string, it is converted to a string.\n",
    "* All _other types_ are converted to strings, replacing the entire expansion."
   ]
  },
  {
   "cell_type": "code",
   "execution_count": null,
   "metadata": {},
   "outputs": [],
   "source": [
    "class ConstraintGrammarFuzzer(ConstraintGrammarFuzzer):\n",
    "    def apply_result(self, result, children):\n",
    "        if isinstance(result, bool) or result is None:\n",
    "            pass\n",
    "        elif isinstance(result, str):\n",
    "            children = [(result, [])]\n",
    "        elif isinstance(result, tuple):\n",
    "            symbol_indexes = [i for i, c in enumerate(children) if is_nonterminal(c[0])]\n",
    "\n",
    "            for index, value in enumerate(result):\n",
    "                if value is not None:\n",
    "                    child_index = symbol_indexes[index]\n",
    "                    if not isinstance(value, str):\n",
    "                        value = repr(value)\n",
    "                    if self.log:\n",
    "                        print(\"Replacing\", all_terminals(children[child_index]), \"by\", value)\n",
    "\n",
    "                    # children[child_index] = (value, [])\n",
    "                    (child_symbol, _) = children[child_index]\n",
    "                    children[child_index] = (child_symbol, [(value, [])])\n",
    "        else:\n",
    "            if self.log:\n",
    "                print(\"Replacing\", \"\".join([all_terminals(c) for c in children]), \"by\", result)\n",
    "\n",
    "            children = [(repr(result), [])]\n",
    "\n",
    "        return children"
   ]
  },
  {
   "cell_type": "code",
   "execution_count": null,
   "metadata": {},
   "outputs": [],
   "source": [
    "evaluating_fuzzer = ConstraintGrammarFuzzer(constrained_expr_grammar)\n",
    "evaluating_fuzzer.fuzz()"
   ]
  },
  {
   "cell_type": "markdown",
   "metadata": {
    "button": false,
    "new_sheet": false,
    "run_control": {
     "read_only": false
    }
   },
   "source": [
    "## Checking Elements after Expansion"
   ]
  },
  {
   "cell_type": "code",
   "execution_count": null,
   "metadata": {
    "button": false,
    "code_folding": [],
    "new_sheet": false,
    "run_control": {
     "read_only": false
    },
    "slideshow": {
     "slide_type": "subslide"
    }
   },
   "outputs": [],
   "source": [
    "constrained_expr_grammar = copy.deepcopy(EXPR_GRAMMAR)\n",
    "\n",
    "def eval_with_exception(s):\n",
    "    with ExpectError():\n",
    "        return eval(s)\n",
    "    return False\n",
    "\n",
    "constrained_expr_grammar.update(\n",
    "    {\n",
    "        \"<start>\": [(\"<expr>\", opts(post=lambda s: eval_with_exception(s) > 10))]\n",
    "    }\n",
    ")\n",
    "\n",
    "assert is_valid_grammar(constrained_expr_grammar)"
   ]
  },
  {
   "cell_type": "code",
   "execution_count": null,
   "metadata": {},
   "outputs": [],
   "source": [
    "def exp_post_expansion_function(expansion):\n",
    "    \"\"\"Return the specified post-expansion function, or None if unspecified\"\"\"\n",
    "    return exp_opt(expansion, 'post')"
   ]
  },
  {
   "cell_type": "code",
   "execution_count": null,
   "metadata": {},
   "outputs": [],
   "source": [
    "class ConstraintGrammarFuzzer(ConstraintGrammarFuzzer):\n",
    "    def eval_function(self, tree, function):\n",
    "        symbol, children = tree\n",
    "        # print(\"Does\", all_terminals(tree), \"satisfy\", repr(function) + \"?\")\n",
    "\n",
    "        assert callable(function)\n",
    "\n",
    "        args = []\n",
    "        for (symbol, exp) in children:\n",
    "            if exp != [] and exp is not None:\n",
    "                symbol_value = all_terminals((symbol, exp))\n",
    "                args.append(symbol_value)\n",
    "                \n",
    "        result = function(*args)\n",
    "        if self.log:\n",
    "            print(repr(function) + repr(tuple(args)), \"=\", repr(result))\n",
    "\n",
    "        return result"
   ]
  },
  {
   "cell_type": "markdown",
   "metadata": {},
   "source": [
    "If the `function` returns the Boolean value `False`, the expansion is deemed invalid; and the fuzzer attempts to create another expansion."
   ]
  },
  {
   "cell_type": "code",
   "execution_count": null,
   "metadata": {},
   "outputs": [],
   "source": [
    "class ConstraintGrammarFuzzer(ConstraintGrammarFuzzer):\n",
    "    def find_expansion(self, tree):\n",
    "        symbol, children = tree\n",
    "\n",
    "        applied_expansion = \\\n",
    "            \"\".join([child_symbol for child_symbol, _ in children])\n",
    "\n",
    "        for expansion in self.grammar[symbol]:\n",
    "            if exp_string(expansion) == applied_expansion:\n",
    "                return expansion\n",
    "            \n",
    "        raise KeyError(symbol + \": did not find expansion\" + applied_expansion)\n",
    "    \n",
    "    # Return True iff all constraints of grammar are satisfied in TREE\n",
    "    def run_post_functions(self, tree, depth=float(\"inf\")):\n",
    "        symbol, children = tree\n",
    "        expansion = self.find_expansion(tree)\n",
    "\n",
    "        function = exp_post_expansion_function(expansion)\n",
    "        if function is None:\n",
    "            return None\n",
    "\n",
    "        result = self.eval_function(tree, function)\n",
    "        if isinstance(result, bool) and not result:\n",
    "            if self.log:\n",
    "                print(all_terminals(tree), \"did not satisfy\", symbol, \"constraint\")\n",
    "            return False\n",
    "\n",
    "        children = self.apply_result(result, children)\n",
    "\n",
    "        if depth > 0:\n",
    "            for c in children:\n",
    "                result = self.run_post_functions(c, depth - 1)\n",
    "                if isinstance(result, bool) and not result:\n",
    "                    return False\n",
    "\n",
    "        return result"
   ]
  },
  {
   "cell_type": "markdown",
   "metadata": {},
   "source": [
    "The simplest method to check constraints is to retain only those trees that satisfy them.  Works, but can be very slow."
   ]
  },
  {
   "cell_type": "code",
   "execution_count": null,
   "metadata": {},
   "outputs": [],
   "source": [
    "class ConstraintGrammarFuzzer(ConstraintGrammarFuzzer):\n",
    "    def fuzz_tree(self):\n",
    "        while True:\n",
    "            tree = super().fuzz_tree()\n",
    "            result = self.run_post_functions(tree)\n",
    "            if not isinstance(result, bool) or result:\n",
    "                return tree"
   ]
  },
  {
   "cell_type": "code",
   "execution_count": null,
   "metadata": {},
   "outputs": [],
   "source": [
    "from ExpectError import ExpectError, ExpectTimeout"
   ]
  },
  {
   "cell_type": "code",
   "execution_count": null,
   "metadata": {},
   "outputs": [],
   "source": [
    "constraint_grammar_fuzzer = ConstraintGrammarFuzzer(constrained_expr_grammar)\n",
    "with ExpectTimeout(1):\n",
    "    expr = constraint_grammar_fuzzer.fuzz()\n",
    "expr"
   ]
  },
  {
   "cell_type": "code",
   "execution_count": null,
   "metadata": {},
   "outputs": [],
   "source": [
    "with ExpectError():\n",
    "    eval(expr)"
   ]
  },
  {
   "cell_type": "code",
   "execution_count": null,
   "metadata": {},
   "outputs": [],
   "source": [
    "constrained_expr_grammar.update(\n",
    "    {\n",
    "     \"<start>\": [\"<expr>\"],\n",
    "     \"<factor>\": [\n",
    "         \"+<factor>\",\n",
    "         \"-<factor>\",\n",
    "         \"(<expr>)\",\n",
    "         (\"<integer>.<integer>\", opts(post=lambda s1, s2: float(s1 + \".\" + s2) > 10)),\n",
    "         (\"<integer>\", opts(post=lambda n: int(n) > 10))\n",
    "        ],\n",
    "    }\n",
    ")"
   ]
  },
  {
   "cell_type": "code",
   "execution_count": null,
   "metadata": {},
   "outputs": [],
   "source": [
    "from Timer import Timer"
   ]
  },
  {
   "cell_type": "code",
   "execution_count": null,
   "metadata": {},
   "outputs": [],
   "source": [
    "constraint_grammar_fuzzer = ConstraintGrammarFuzzer(constrained_expr_grammar)\n",
    "with Timer() as timer:\n",
    "    print([constraint_grammar_fuzzer.fuzz() for i in range(10)])"
   ]
  },
  {
   "cell_type": "code",
   "execution_count": null,
   "metadata": {},
   "outputs": [],
   "source": [
    "timer.elapsed_time()"
   ]
  },
  {
   "cell_type": "markdown",
   "metadata": {},
   "source": [
    "## Checking Elements Sooner"
   ]
  },
  {
   "cell_type": "markdown",
   "metadata": {},
   "source": [
    "Make things faster: Check as soon as (sub)tree is complete"
   ]
  },
  {
   "cell_type": "code",
   "execution_count": null,
   "metadata": {},
   "outputs": [],
   "source": [
    "class ConstraintGrammarFuzzer(ConstraintGrammarFuzzer):\n",
    "    def expand_tree_once(self, tree):\n",
    "        new_tree = super().expand_tree_once(tree)\n",
    "        \n",
    "        (symbol, children) = new_tree\n",
    "        if all([exp_post_expansion_function(expansion) is None for expansion in self.grammar[symbol]]):\n",
    "            # No constraints for this symbol\n",
    "            return new_tree\n",
    "                \n",
    "        if self.any_possible_expansions(tree):\n",
    "            # Still expanding\n",
    "            return new_tree\n",
    "\n",
    "        result = self.run_post_functions(new_tree, depth=0)\n",
    "        if not isinstance(result, bool) or result:\n",
    "            # No constraints, or constraint satisfied\n",
    "            children = self.apply_result(result, children)\n",
    "            new_tree = (symbol, children)\n",
    "            return new_tree\n",
    "\n",
    "        # Replace tree by unexpanded symbol and try again\n",
    "        if self.log:\n",
    "            print(all_terminals(new_tree), \"did not satisfy\", symbol, \"constraint\")\n",
    "            \n",
    "        if self.replacement_attempts_counter > 0:\n",
    "            if self.log:\n",
    "                print(\"Trying another expansion\")\n",
    "            self.replacement_attempts_counter -= 1\n",
    "            return (symbol, None)\n",
    "        \n",
    "        if self.log:\n",
    "            print(\"Starting from scratch\")\n",
    "        raise RestartExpansionException"
   ]
  },
  {
   "cell_type": "code",
   "execution_count": null,
   "metadata": {},
   "outputs": [],
   "source": [
    "class RestartExpansionException(Exception):\n",
    "    pass"
   ]
  },
  {
   "cell_type": "code",
   "execution_count": null,
   "metadata": {},
   "outputs": [],
   "source": [
    "class ConstraintGrammarFuzzer(ConstraintGrammarFuzzer):\n",
    "    def __init__(self, grammar, replacement_attempts=10, **kwargs):\n",
    "        super().__init__(grammar, **kwargs)\n",
    "        self.replacement_attempts = replacement_attempts\n",
    "\n",
    "    def fuzz_tree(self):\n",
    "        while True:\n",
    "            self.replacement_attempts_counter = self.replacement_attempts\n",
    "            try:\n",
    "                tree = super().fuzz_tree()\n",
    "                return tree\n",
    "            except RestartExpansionException:\n",
    "                continue"
   ]
  },
  {
   "cell_type": "code",
   "execution_count": null,
   "metadata": {},
   "outputs": [],
   "source": [
    "constraint_grammar_fuzzer = ConstraintGrammarFuzzer(constrained_expr_grammar)\n",
    "with Timer() as timer:\n",
    "    print([constraint_grammar_fuzzer.fuzz() for i in range(10)])"
   ]
  },
  {
   "cell_type": "code",
   "execution_count": null,
   "metadata": {},
   "outputs": [],
   "source": [
    "timer.elapsed_time()"
   ]
  },
  {
   "cell_type": "markdown",
   "metadata": {},
   "source": [
    "## Ordering Expansions"
   ]
  },
  {
   "cell_type": "code",
   "execution_count": null,
   "metadata": {},
   "outputs": [],
   "source": [
    "from IPython.core.display import HTML, display"
   ]
  },
  {
   "cell_type": "code",
   "execution_count": null,
   "metadata": {},
   "outputs": [],
   "source": [
    "from GrammarFuzzer import display_tree"
   ]
  },
  {
   "cell_type": "code",
   "execution_count": null,
   "metadata": {},
   "outputs": [],
   "source": [
    "def exp_order(expansion):\n",
    "    \"\"\"Return the specified expansion ordering, or None if unspecified\"\"\"\n",
    "    return exp_opt(expansion, 'order')"
   ]
  },
  {
   "cell_type": "code",
   "execution_count": null,
   "metadata": {},
   "outputs": [],
   "source": [
    "class ConstraintGrammarFuzzer(ConstraintGrammarFuzzer):\n",
    "    def choose_tree_expansion(self, tree, expandable_children):\n",
    "        \"\"\"Return index of subtree in `children` to be selected for expansion.  Defaults to random.\"\"\"\n",
    "        (symbol, tree_children) = tree\n",
    "        if len(expandable_children) == 1:\n",
    "            # No choice\n",
    "            return super().choose_tree_expansion(tree, expandable_children)\n",
    "\n",
    "        expansion = self.find_expansion(tree)\n",
    "        given_order = exp_order(expansion)\n",
    "        if given_order is None:\n",
    "            # No order specified\n",
    "            return super().choose_tree_expansion(tree, expandable_children)\n",
    "\n",
    "        nonterminal_children = [c for c in tree_children if c[1] != []]\n",
    "        assert len(nonterminal_children) == len(given_order), \"Order must have one element for each nonterminal\"\n",
    "\n",
    "        # print(\"Checking \", expandable_children, \"against\", nonterminal_children, repr(given_order))\n",
    "\n",
    "        # Find expandable child with lowest ordering\n",
    "        min_given_order = None\n",
    "        j = 0\n",
    "        for k, expandable_child in enumerate(expandable_children):\n",
    "            while j < len(nonterminal_children) and expandable_child != nonterminal_children[j]:\n",
    "                j += 1\n",
    "            assert j < len(nonterminal_children), \"Expandable child not found\"\n",
    "            if self.log:\n",
    "                print(\"Expandable child #%d %s has order %d\" % (k, expandable_child[0], given_order[j]))\n",
    "\n",
    "            if min_given_order is None or given_order[j] < min_given_order:\n",
    "                min_given_order = k\n",
    "\n",
    "        assert min_given_order is not None\n",
    "        \n",
    "        if self.log:\n",
    "            print(\"Returning expandable child #%d %s\" % \n",
    "                  (min_given_order, expandable_children[min_given_order][0]))\n",
    "\n",
    "        return min_given_order"
   ]
  },
  {
   "cell_type": "markdown",
   "metadata": {
    "toc-hr-collapsed": false
   },
   "source": [
    "## Usage Examples"
   ]
  },
  {
   "cell_type": "markdown",
   "metadata": {
    "toc-hr-collapsed": false
   },
   "source": [
    "### Matching Tags"
   ]
  },
  {
   "cell_type": "code",
   "execution_count": null,
   "metadata": {},
   "outputs": [],
   "source": [
    "from Grammars import crange"
   ]
  },
  {
   "cell_type": "code",
   "execution_count": null,
   "metadata": {},
   "outputs": [],
   "source": [
    "XML_GRAMMAR = {\n",
    "    \"<start>\": [\"<xml-tree>\"],\n",
    "    \"<xml-tree>\": [\"<<id>><xml-content></<id>>\"],\n",
    "    \"<xml-content>\": [\"Text\", \"<xml-tree>\"],\n",
    "    \"<id>\": [\"<letter>\", \"<id><letter>\"],\n",
    "    \"<letter>\": crange('a', 'z')\n",
    "}\n",
    "\n",
    "assert is_valid_grammar(XML_GRAMMAR)"
   ]
  },
  {
   "cell_type": "code",
   "execution_count": null,
   "metadata": {},
   "outputs": [],
   "source": [
    "xml_fuzzer = GrammarFuzzer(XML_GRAMMAR)\n",
    "xml_fuzzer.fuzz()"
   ]
  },
  {
   "cell_type": "code",
   "execution_count": null,
   "metadata": {},
   "outputs": [],
   "source": [
    "XML_GRAMMAR.update({\n",
    "    \"<xml-tree>\": [(\"<<id>><xml-content></<id>>\",\n",
    "                    opts(post=lambda id1, content, id2: (None, None, id1))\n",
    "                   )]\n",
    "})"
   ]
  },
  {
   "cell_type": "code",
   "execution_count": null,
   "metadata": {},
   "outputs": [],
   "source": [
    "xml_fuzzer = ConstraintGrammarFuzzer(XML_GRAMMAR)\n",
    "xml_fuzzer.fuzz()"
   ]
  },
  {
   "cell_type": "markdown",
   "metadata": {},
   "source": [
    "### Checksums"
   ]
  },
  {
   "cell_type": "code",
   "execution_count": null,
   "metadata": {},
   "outputs": [],
   "source": [
    "def luhn_checksum(s):\n",
    "    LUHN_ODD_LOOKUP = (0, 2, 4, 6, 8, 1, 3, 5, 7, 9)  # sum_of_digits (index * 2)\n",
    "    \n",
    "    evens = sum(int(p) for p in s[-1::-2])\n",
    "    odds = sum(LUHN_ODD_LOOKUP[int(p)] for p in s[-2::-2])\n",
    "    return (evens + odds) % 10\n",
    "\n",
    "def valid_luhn_checksum(s):\n",
    "    return luhn_checksum(s[:-1]) == int(s[-1])\n",
    "\n",
    "def fix_luhn_checksum(s):\n",
    "    return s[:-1] + repr(luhn_checksum(s[:-1]))"
   ]
  },
  {
   "cell_type": "code",
   "execution_count": null,
   "metadata": {},
   "outputs": [],
   "source": [
    "luhn_checksum(\"123\")"
   ]
  },
  {
   "cell_type": "code",
   "execution_count": null,
   "metadata": {},
   "outputs": [],
   "source": [
    "fix_luhn_checksum(\"123x\")"
   ]
  },
  {
   "cell_type": "code",
   "execution_count": null,
   "metadata": {},
   "outputs": [],
   "source": [
    "CREDIT_CARD_GRAMMAR = {\n",
    "    \"<start>\": [\"<credit-card-number>\"],\n",
    "    \"<credit-card-number>\": [(\"<digits>\", opts(post=fix_luhn_checksum))],\n",
    "    \"<digits>\": [\"<digit-block><digit-block><digit-block><digit-block>\"],\n",
    "    \"<digit-block>\": [\"<digit><digit><digit><digit>\"],\n",
    "    \"<digit>\": crange('0', '9')\n",
    "}\n",
    "\n",
    "assert is_valid_grammar(CREDIT_CARD_GRAMMAR)"
   ]
  },
  {
   "cell_type": "code",
   "execution_count": null,
   "metadata": {},
   "outputs": [],
   "source": [
    "g = GrammarFuzzer(CREDIT_CARD_GRAMMAR)\n",
    "cc_number = g.fuzz()\n",
    "cc_number"
   ]
  },
  {
   "cell_type": "code",
   "execution_count": null,
   "metadata": {},
   "outputs": [],
   "source": [
    "valid_luhn_checksum(cc_number)"
   ]
  },
  {
   "cell_type": "code",
   "execution_count": null,
   "metadata": {},
   "outputs": [],
   "source": [
    "fixed_cc_number = fix_luhn_checksum(cc_number)\n",
    "fixed_cc_number"
   ]
  },
  {
   "cell_type": "code",
   "execution_count": null,
   "metadata": {},
   "outputs": [],
   "source": [
    "valid_luhn_checksum(fixed_cc_number)"
   ]
  },
  {
   "cell_type": "code",
   "execution_count": null,
   "metadata": {},
   "outputs": [],
   "source": [
    "fixing_fuzzer = ConstraintGrammarFuzzer(CREDIT_CARD_GRAMMAR)\n",
    "cc_number = fixing_fuzzer.fuzz()\n",
    "cc_number"
   ]
  },
  {
   "cell_type": "code",
   "execution_count": null,
   "metadata": {},
   "outputs": [],
   "source": [
    "valid_luhn_checksum(cc_number)"
   ]
  },
  {
   "cell_type": "markdown",
   "metadata": {},
   "source": [
    "### Defining and Using Identifiers"
   ]
  },
  {
   "cell_type": "code",
   "execution_count": null,
   "metadata": {},
   "outputs": [],
   "source": [
    "from Parser import VAR_GRAMMAR"
   ]
  },
  {
   "cell_type": "code",
   "execution_count": null,
   "metadata": {},
   "outputs": [],
   "source": [
    "SYMBOL_TABLE = set()"
   ]
  },
  {
   "cell_type": "code",
   "execution_count": null,
   "metadata": {},
   "outputs": [],
   "source": [
    "def define_id(id):\n",
    "    SYMBOL_TABLE.add(id)"
   ]
  },
  {
   "cell_type": "code",
   "execution_count": null,
   "metadata": {},
   "outputs": [],
   "source": [
    "def use_id():\n",
    "    if len(SYMBOL_TABLE) == 0:\n",
    "        return False\n",
    "\n",
    "    id = random.choice(list(SYMBOL_TABLE))\n",
    "    return id"
   ]
  },
  {
   "cell_type": "code",
   "execution_count": null,
   "metadata": {},
   "outputs": [],
   "source": [
    "def clear_symbol_table():\n",
    "    global SYMBOL_TABLE\n",
    "    SYMBOL_TABLE = set()"
   ]
  },
  {
   "cell_type": "code",
   "execution_count": null,
   "metadata": {},
   "outputs": [],
   "source": [
    "CONSTRAINED_VAR_GRAMMAR = copy.deepcopy(VAR_GRAMMAR)\n",
    "CONSTRAINED_VAR_GRAMMAR.update({\n",
    "    \"<start>\": [(\"<statements>\", opts(pre=lambda: clear_symbol_table()))],\n",
    "    \"<assignment>\": [(\"<identifier>=<expr>\", opts(post=lambda id, expr: define_id(id),\n",
    "                                                  order=(1, 2)))],\n",
    "    \"<factor>\": ['+<factor>', '-<factor>', '(<expr>)',\n",
    "                 (\"<identifier>\", opts(post=lambda _: use_id())),\n",
    "                 '<number>'],\n",
    "    \"<statements>\": [(\"<statement>;<statements>\", opts(order=(1, 2))),\n",
    "                      \"<statement>\"]\n",
    "})\n",
    "\n",
    "assert is_valid_grammar(CONSTRAINED_VAR_GRAMMAR)"
   ]
  },
  {
   "cell_type": "code",
   "execution_count": null,
   "metadata": {},
   "outputs": [],
   "source": [
    "from ExpectError import ExpectTimeout"
   ]
  },
  {
   "cell_type": "code",
   "execution_count": null,
   "metadata": {},
   "outputs": [],
   "source": [
    "g = ConstraintGrammarFuzzer(CONSTRAINED_VAR_GRAMMAR)\n",
    "for i in range(10):\n",
    "    print(g.fuzz())"
   ]
  },
  {
   "cell_type": "markdown",
   "metadata": {},
   "source": [
    "## All Together"
   ]
  },
  {
   "cell_type": "code",
   "execution_count": null,
   "metadata": {},
   "outputs": [],
   "source": [
    "from ProbabilisticGrammarFuzzer import ProbabilisticGrammarFuzzer, ProbabilisticGrammarCoverageFuzzer"
   ]
  },
  {
   "cell_type": "code",
   "execution_count": null,
   "metadata": {},
   "outputs": [],
   "source": [
    "class BigFatGrammarFuzzer(ProbabilisticGrammarFuzzer, ConstraintGrammarFuzzer):\n",
    "    pass"
   ]
  },
  {
   "cell_type": "code",
   "execution_count": null,
   "metadata": {},
   "outputs": [],
   "source": [
    "class BigFatGrammarCoverageFuzzer(ProbabilisticGrammarCoverageFuzzer, ConstraintGrammarFuzzer):\n",
    "    pass"
   ]
  },
  {
   "cell_type": "markdown",
   "metadata": {
    "button": false,
    "new_sheet": true,
    "run_control": {
     "read_only": false
    }
   },
   "source": [
    "## Lessons Learned\n",
    "\n",
    "* _Lesson one_\n",
    "* _Lesson two_\n",
    "* _Lesson three_"
   ]
  },
  {
   "cell_type": "markdown",
   "metadata": {
    "button": false,
    "new_sheet": false,
    "run_control": {
     "read_only": false
    }
   },
   "source": [
    "## Next Steps\n",
    "\n",
    "_Link to subsequent chapters (notebooks) here, as in:_\n",
    "\n",
    "* [use _mutations_ on existing inputs to get more valid inputs](MutationFuzzer.ipynb)\n",
    "* [use _grammars_ (i.e., a specification of the input format) to get even more valid inputs](Grammars.ipynb)\n",
    "* [reduce _failing inputs_ for efficient debugging](Reducer.ipynb)\n"
   ]
  },
  {
   "cell_type": "markdown",
   "metadata": {},
   "source": [
    "## Background\n",
    "\n",
    "_Cite relevant works in the literature and put them into context, as in:_\n",
    "\n",
    "The idea of ensuring that each expansion in the grammar is used at least once goes back to Burkhardt \\cite{Burkhardt1967}, to be later rediscovered by Paul Purdom \\cite{Purdom1972}."
   ]
  },
  {
   "cell_type": "markdown",
   "metadata": {
    "button": false,
    "new_sheet": true,
    "run_control": {
     "read_only": false
    }
   },
   "source": [
    "## Exercises\n",
    "\n",
    "1. Implement a syntax that allows people to refer to subtrees – say $1.$2 is the second child of the first symbol.\n"
   ]
  },
  {
   "cell_type": "markdown",
   "metadata": {
    "button": false,
    "new_sheet": false,
    "run_control": {
     "read_only": false
    }
   },
   "source": [
    "### Exercise 1: _Title_\n",
    "\n",
    "_Text of the exercise_"
   ]
  },
  {
   "cell_type": "code",
   "execution_count": null,
   "metadata": {
    "cell_style": "center"
   },
   "outputs": [],
   "source": [
    "# Some code that is part of the exercise\n",
    "pass"
   ]
  },
  {
   "cell_type": "markdown",
   "metadata": {
    "solution2": "hidden",
    "solution2_first": true
   },
   "source": [
    "_Some more text for the exercise_"
   ]
  },
  {
   "cell_type": "markdown",
   "metadata": {
    "slideshow": {
     "slide_type": "skip"
    },
    "solution2": "hidden"
   },
   "source": [
    "**Solution.** _Some text for the solution_"
   ]
  },
  {
   "cell_type": "code",
   "execution_count": null,
   "metadata": {
    "cell_style": "split",
    "slideshow": {
     "slide_type": "skip"
    },
    "solution2": "hidden"
   },
   "outputs": [],
   "source": [
    "# Some code for the solution\n",
    "2 + 2"
   ]
  },
  {
   "cell_type": "markdown",
   "metadata": {
    "slideshow": {
     "slide_type": "skip"
    },
    "solution2": "hidden"
   },
   "source": [
    "_Some more text for the solution_"
   ]
  },
  {
   "cell_type": "code",
   "execution_count": null,
   "metadata": {},
   "outputs": [],
   "source": [
    "ATTR_GRAMMAR = {\n",
    " \"<clause>\": (\"<xml-open>Text<xml-close>\", opts(constraint=lambda x1, x2: x1.name == x2.name)),\n",
    " \"<xml-open>\": (\"<langle><tag><rangle>\", opts(producer=lambda: (None, opts(name=random_name()), None))),\n",
    " \"<xml-close>\": (\"<langle>/<tag><rangle>\", opts(producer=lambda: (None, find_name(), None))),\n",
    "}"
   ]
  },
  {
   "cell_type": "markdown",
   "metadata": {
    "button": false,
    "new_sheet": false,
    "run_control": {
     "read_only": false
    },
    "solution": "hidden",
    "solution2": "hidden",
    "solution2_first": true,
    "solution_first": true
   },
   "source": [
    "### Exercise 2: _Title_\n",
    "\n",
    "_Text of the exercise_"
   ]
  },
  {
   "cell_type": "markdown",
   "metadata": {
    "button": false,
    "new_sheet": false,
    "run_control": {
     "read_only": false
    },
    "slideshow": {
     "slide_type": "skip"
    },
    "solution": "hidden",
    "solution2": "hidden"
   },
   "source": [
    "**Solution.** _Solution for the exercise_"
   ]
  }
 ],
 "metadata": {
  "ipub": {
   "bibliography": "fuzzingbook.bib",
   "toc": true
  },
  "kernelspec": {
   "display_name": "Python 3",
   "language": "python",
   "name": "python3"
  },
  "language_info": {
   "codemirror_mode": {
    "name": "ipython",
    "version": 3
   },
   "file_extension": ".py",
   "mimetype": "text/x-python",
   "name": "python",
   "nbconvert_exporter": "python",
   "pygments_lexer": "ipython3",
   "version": "3.6.6"
  },
  "toc": {
   "base_numbering": 1,
   "nav_menu": {},
   "number_sections": true,
   "sideBar": true,
   "skip_h1_title": true,
   "title_cell": "",
   "title_sidebar": "Contents",
   "toc_cell": false,
   "toc_position": {},
   "toc_section_display": true,
   "toc_window_display": true
  }
 },
 "nbformat": 4,
 "nbformat_minor": 2
}
