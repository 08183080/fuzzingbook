{
 "cells": [
  {
   "cell_type": "markdown",
   "metadata": {
    "button": false,
    "new_sheet": false,
    "run_control": {
     "read_only": false
    }
   },
   "source": [
    "# Fuzzing with Constraints\n",
    "\n",
    "In this chapter, we show how to extend grammars with _constraints_ – conditions that are evaluated while a string is produced, and which have to be satisfied."
   ]
  },
  {
   "cell_type": "markdown",
   "metadata": {
    "button": false,
    "new_sheet": false,
    "run_control": {
     "read_only": false
    }
   },
   "source": [
    "**Prerequisites**\n",
    "\n",
    "* You should have read the [chapter on efficient grammar fuzzing](GrammarFuzzer.ipynb)."
   ]
  },
  {
   "cell_type": "markdown",
   "metadata": {
    "button": false,
    "new_sheet": true,
    "run_control": {
     "read_only": false
    }
   },
   "source": [
    "## Specifying Constraints\n"
   ]
  },
  {
   "cell_type": "code",
   "execution_count": null,
   "metadata": {
    "button": false,
    "new_sheet": false,
    "run_control": {
     "read_only": false
    },
    "slideshow": {
     "slide_type": "skip"
    }
   },
   "outputs": [],
   "source": [
    "import fuzzingbook_utils"
   ]
  },
  {
   "cell_type": "code",
   "execution_count": null,
   "metadata": {
    "button": false,
    "new_sheet": false,
    "run_control": {
     "read_only": false
    },
    "slideshow": {
     "slide_type": "skip"
    }
   },
   "outputs": [],
   "source": [
    "from Grammars import EXPR_GRAMMAR, is_valid_grammar\n",
    "from ProbabilisticGrammarFuzzer import opts, exp_opts, exp_string\n",
    "from GrammarFuzzer import GrammarFuzzer, all_terminals\n",
    "import copy"
   ]
  },
  {
   "cell_type": "code",
   "execution_count": null,
   "metadata": {
    "button": false,
    "code_folding": [],
    "new_sheet": false,
    "run_control": {
     "read_only": false
    },
    "slideshow": {
     "slide_type": "subslide"
    }
   },
   "outputs": [],
   "source": [
    "constrained_expr_grammar = copy.deepcopy(EXPR_GRAMMAR)\n",
    "\n",
    "constrained_expr_grammar.update(\n",
    "    {\n",
    "        \"<start>\": [(\"<expr>\", opts(constraint=\"$$ > 5\"))]\n",
    "    }\n",
    ")\n",
    "\n",
    "assert is_valid_grammar(constrained_expr_grammar)"
   ]
  },
  {
   "cell_type": "code",
   "execution_count": null,
   "metadata": {},
   "outputs": [],
   "source": [
    "def exp_constraint(expansion):\n",
    "    \"\"\"Return the specified constraint, or None if unspecified\"\"\"\n",
    "    if exp_opts(expansion) is None:\n",
    "        return None\n",
    "    return exp_opts(expansion).get('constraint', None)"
   ]
  },
  {
   "cell_type": "code",
   "execution_count": null,
   "metadata": {},
   "outputs": [],
   "source": [
    "class SimpleConstraintGrammarFuzzer(GrammarFuzzer):\n",
    "    pass"
   ]
  },
  {
   "cell_type": "markdown",
   "metadata": {
    "button": false,
    "new_sheet": false,
    "run_control": {
     "read_only": false
    }
   },
   "source": [
    "## Evaluating Constraints\n"
   ]
  },
  {
   "cell_type": "code",
   "execution_count": null,
   "metadata": {},
   "outputs": [],
   "source": [
    "class SimpleConstraintGrammarFuzzer(SimpleConstraintGrammarFuzzer):\n",
    "    def eval_constraint(self, tree, constraint):\n",
    "        symbol, children = tree\n",
    "        # print(\"Does\", all_terminals(tree), \"satisfy\", constraint + \"?\")\n",
    "\n",
    "        # Allow constraints to access the entire expression as $$\n",
    "        all_rep = all_terminals(tree)\n",
    "        expr = constraint.replace(\"$$\", all_rep)\n",
    "        # print(\"$$ =\", repr(all_rep))\n",
    "\n",
    "        # Allow constraints to access the symbolic subexpressions as $10, $9, .., $1\n",
    "        symbol_children = [c for c in children if len(c[1]) > 0]\n",
    "\n",
    "        for i in range(len(symbol_children), 0, -1):\n",
    "            child_rep = all_terminals(symbol_children[i - 1])\n",
    "            # print(\"$\" + repr(i), \"=\", repr(child_rep))\n",
    "            expr = expr.replace(\"$\" + repr(i), child_rep)\n",
    "\n",
    "        try:\n",
    "            result = eval(expr)\n",
    "        except Exception as exc:\n",
    "            if self.log:\n",
    "                print(constraint + \": \" + expr + \": \" + repr(exc))\n",
    "            result = False\n",
    "\n",
    "        # print(constraint, \"=\", result)\n",
    "        return result"
   ]
  },
  {
   "cell_type": "markdown",
   "metadata": {
    "button": false,
    "new_sheet": false,
    "run_control": {
     "read_only": false
    },
    "slideshow": {
     "slide_type": "slide"
    }
   },
   "source": [
    "## Checking Constraints\n"
   ]
  },
  {
   "cell_type": "code",
   "execution_count": null,
   "metadata": {},
   "outputs": [],
   "source": [
    "class SimpleConstraintGrammarFuzzer(SimpleConstraintGrammarFuzzer):\n",
    "    # Return True iff all constraints of grammar are satisfied in TREE\n",
    "    def constraints_satisfied(self, tree):\n",
    "        symbol, children = tree\n",
    "        if symbol not in self.grammar:\n",
    "            return True\n",
    "\n",
    "        applied_expansion = \\\n",
    "            \"\".join([child_symbol for child_symbol, _ in children])\n",
    "\n",
    "        for expansion in self.grammar[symbol]:\n",
    "            if exp_string(expansion) != applied_expansion:\n",
    "                continue\n",
    "            constraint = exp_constraint(expansion)\n",
    "            if constraint is None:\n",
    "                continue\n",
    "\n",
    "            satisfied = self.eval_constraint(tree, constraint)\n",
    "            if not satisfied:\n",
    "                return False\n",
    "\n",
    "        for c in children:\n",
    "            if not self.constraints_satisfied(c):\n",
    "                return False\n",
    "\n",
    "        return True"
   ]
  },
  {
   "cell_type": "code",
   "execution_count": null,
   "metadata": {},
   "outputs": [],
   "source": [
    "class SimpleConstraintGrammarFuzzer(SimpleConstraintGrammarFuzzer):\n",
    "    def fuzz_tree(self):\n",
    "        while True:\n",
    "            tree = super().fuzz_tree()\n",
    "            if self.constraints_satisfied(tree):\n",
    "                return tree"
   ]
  },
  {
   "cell_type": "code",
   "execution_count": null,
   "metadata": {},
   "outputs": [],
   "source": [
    "constraint_grammar_fuzzer = SimpleConstraintGrammarFuzzer(constrained_expr_grammar)\n",
    "expr = constraint_grammar_fuzzer.fuzz()\n",
    "expr"
   ]
  },
  {
   "cell_type": "code",
   "execution_count": null,
   "metadata": {},
   "outputs": [],
   "source": [
    "eval(expr)"
   ]
  },
  {
   "cell_type": "code",
   "execution_count": null,
   "metadata": {},
   "outputs": [],
   "source": [
    "constrained_expr_grammar.update(\n",
    "    {\n",
    "     \"<start>\": [\"<expr>\"],\n",
    "     \"<factor>\": [\n",
    "         \"+<factor>\",\n",
    "         \"-<factor>\",\n",
    "         \"(<expr>)\",\n",
    "         (\"<integer>.<integer>\", opts(constraint=\"$$ > 1000\")),\n",
    "         (\"<integer>\", opts(constraint=\"$$ > 1000\"))\n",
    "        ],\n",
    "    }\n",
    ")"
   ]
  },
  {
   "cell_type": "code",
   "execution_count": null,
   "metadata": {},
   "outputs": [],
   "source": [
    "constraint_grammar_fuzzer = SimpleConstraintGrammarFuzzer(constrained_expr_grammar)\n",
    "[constraint_grammar_fuzzer.fuzz() for i in range(10)]"
   ]
  },
  {
   "cell_type": "markdown",
   "metadata": {},
   "source": [
    "## Solving Constraints on the Go"
   ]
  },
  {
   "cell_type": "markdown",
   "metadata": {},
   "source": [
    "\\todo{Make things faster: Check as soon as (sub)tree is complete}"
   ]
  },
  {
   "cell_type": "code",
   "execution_count": null,
   "metadata": {},
   "outputs": [],
   "source": [
    "class FasterConstraintGrammarFuzzer(SimpleConstraintGrammarFuzzer):\n",
    "    pass"
   ]
  },
  {
   "cell_type": "markdown",
   "metadata": {},
   "source": [
    "## Evaluation Shortcuts\n",
    "\n",
    "\\todo{Make things even faster: For `$n == x`, just replace `$n` by x}"
   ]
  },
  {
   "cell_type": "code",
   "execution_count": null,
   "metadata": {},
   "outputs": [],
   "source": [
    "GRAMMAR = {\n",
    "    \"<start>\": [ (\"<iban><checksum>\", opts(value=\"{1: iban_check($1)}\", constraint=\"$$ > 4\")) ]\n",
    "}"
   ]
  },
  {
   "cell_type": "code",
   "execution_count": null,
   "metadata": {},
   "outputs": [],
   "source": [
    "class EvaluatingGrammarFuzzer(GrammarFuzzer):\n",
    "    pass"
   ]
  },
  {
   "cell_type": "markdown",
   "metadata": {},
   "source": [
    "## All Together"
   ]
  },
  {
   "cell_type": "code",
   "execution_count": null,
   "metadata": {},
   "outputs": [],
   "source": [
    "from ProbabilisticGrammarFuzzer import ProbabilisticGrammarFuzzer, ProbabilisticGrammarCoverageFuzzer"
   ]
  },
  {
   "cell_type": "code",
   "execution_count": null,
   "metadata": {},
   "outputs": [],
   "source": [
    "class ConstraintGrammarFuzzer(ProbabilisticGrammarFuzzer,\n",
    "                              FasterConstraintGrammarFuzzer,\n",
    "                              EvaluatingGrammarFuzzer):\n",
    "    pass"
   ]
  },
  {
   "cell_type": "code",
   "execution_count": null,
   "metadata": {},
   "outputs": [],
   "source": [
    "class ConstraintGrammarCoverageFuzzer(ProbabilisticGrammarCoverageFuzzer, \n",
    "                                      FasterConstraintGrammarFuzzer,\n",
    "                                      EvaluatingGrammarFuzzer):\n",
    "    pass"
   ]
  },
  {
   "cell_type": "markdown",
   "metadata": {
    "button": false,
    "new_sheet": true,
    "run_control": {
     "read_only": false
    }
   },
   "source": [
    "## Lessons Learned\n",
    "\n",
    "* _Lesson one_\n",
    "* _Lesson two_\n",
    "* _Lesson three_"
   ]
  },
  {
   "cell_type": "markdown",
   "metadata": {
    "button": false,
    "new_sheet": false,
    "run_control": {
     "read_only": false
    }
   },
   "source": [
    "## Next Steps\n",
    "\n",
    "_Link to subsequent chapters (notebooks) here, as in:_\n",
    "\n",
    "* [use _mutations_ on existing inputs to get more valid inputs](MutationFuzzer.ipynb)\n",
    "* [use _grammars_ (i.e., a specification of the input format) to get even more valid inputs](Grammars.ipynb)\n",
    "* [reduce _failing inputs_ for efficient debugging](Reducer.ipynb)\n"
   ]
  },
  {
   "cell_type": "markdown",
   "metadata": {},
   "source": [
    "## Background\n",
    "\n",
    "_Cite relevant works in the literature and put them into context, as in:_\n",
    "\n",
    "The idea of ensuring that each expansion in the grammar is used at least once goes back to Burkhardt \\cite{Burkhardt1967}, to be later rediscovered by Paul Purdom \\cite{Purdom1972}."
   ]
  },
  {
   "cell_type": "markdown",
   "metadata": {
    "button": false,
    "new_sheet": true,
    "run_control": {
     "read_only": false
    }
   },
   "source": [
    "## Exercises\n",
    "\n",
    "1. Implement a syntax that allows people to refer to subtrees – say $1.$2 is the second child of the first symbol.\n"
   ]
  },
  {
   "cell_type": "markdown",
   "metadata": {
    "button": false,
    "new_sheet": false,
    "run_control": {
     "read_only": false
    }
   },
   "source": [
    "### Exercise 1: _Title_\n",
    "\n",
    "_Text of the exercise_"
   ]
  },
  {
   "cell_type": "code",
   "execution_count": null,
   "metadata": {
    "cell_style": "center"
   },
   "outputs": [],
   "source": [
    "# Some code that is part of the exercise\n",
    "pass"
   ]
  },
  {
   "cell_type": "markdown",
   "metadata": {
    "solution2": "hidden",
    "solution2_first": true
   },
   "source": [
    "_Some more text for the exercise_"
   ]
  },
  {
   "cell_type": "markdown",
   "metadata": {
    "slideshow": {
     "slide_type": "skip"
    },
    "solution2": "hidden"
   },
   "source": [
    "**Solution.** _Some text for the solution_"
   ]
  },
  {
   "cell_type": "code",
   "execution_count": null,
   "metadata": {
    "cell_style": "split",
    "slideshow": {
     "slide_type": "skip"
    },
    "solution2": "hidden"
   },
   "outputs": [],
   "source": [
    "# Some code for the solution\n",
    "2 + 2"
   ]
  },
  {
   "cell_type": "markdown",
   "metadata": {
    "slideshow": {
     "slide_type": "skip"
    },
    "solution2": "hidden"
   },
   "source": [
    "_Some more text for the solution_"
   ]
  },
  {
   "cell_type": "markdown",
   "metadata": {
    "button": false,
    "new_sheet": false,
    "run_control": {
     "read_only": false
    },
    "solution": "hidden",
    "solution2": "hidden",
    "solution2_first": true,
    "solution_first": true
   },
   "source": [
    "### Exercise 2: _Title_\n",
    "\n",
    "_Text of the exercise_"
   ]
  },
  {
   "cell_type": "markdown",
   "metadata": {
    "button": false,
    "new_sheet": false,
    "run_control": {
     "read_only": false
    },
    "slideshow": {
     "slide_type": "skip"
    },
    "solution": "hidden",
    "solution2": "hidden"
   },
   "source": [
    "**Solution.** _Solution for the exercise_"
   ]
  }
 ],
 "metadata": {
  "ipub": {
   "bibliography": "fuzzingbook.bib",
   "toc": true
  },
  "kernelspec": {
   "display_name": "Python 3",
   "language": "python",
   "name": "python3"
  },
  "language_info": {
   "codemirror_mode": {
    "name": "ipython",
    "version": 3
   },
   "file_extension": ".py",
   "mimetype": "text/x-python",
   "name": "python",
   "nbconvert_exporter": "python",
   "pygments_lexer": "ipython3",
   "version": "3.6.6"
  },
  "toc": {
   "base_numbering": 1,
   "nav_menu": {},
   "number_sections": true,
   "sideBar": true,
   "skip_h1_title": true,
   "title_cell": "",
   "title_sidebar": "Contents",
   "toc_cell": false,
   "toc_position": {},
   "toc_section_display": true,
   "toc_window_display": true
  }
 },
 "nbformat": 4,
 "nbformat_minor": 2
}
