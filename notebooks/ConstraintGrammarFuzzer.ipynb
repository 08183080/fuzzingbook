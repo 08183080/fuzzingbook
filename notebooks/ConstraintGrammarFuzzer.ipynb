{
 "cells": [
  {
   "cell_type": "markdown",
   "metadata": {
    "button": false,
    "new_sheet": false,
    "run_control": {
     "read_only": false
    }
   },
   "source": [
    "# Fuzzing with Constraints\n",
    "\n",
    "In this chapter, we show how to extend grammars with _functions_ – pieces of code that get executed during grammar expansion, and that can generate, check, or change elements produced.  Adding functions to a grammar allows for very versatile test generation, bringing together the best of grammar generation and programming."
   ]
  },
  {
   "cell_type": "markdown",
   "metadata": {
    "button": false,
    "new_sheet": false,
    "run_control": {
     "read_only": false
    }
   },
   "source": [
    "**Prerequisites**\n",
    "\n",
    "* As thus chapter deeply interacts with the techniques discussed in the [chapter on efficient grammar fuzzing](GrammarFuzzer.ipynb), a good understanding of the techniques is recommended."
   ]
  },
  {
   "cell_type": "markdown",
   "metadata": {
    "button": false,
    "new_sheet": true,
    "run_control": {
     "read_only": false
    }
   },
   "source": [
    "## Example: Test a Credit Card System\n",
    "\n",
    "Suppose you work with a shopping system that – among several other features – allows customers to pay with a credit card.  Your task is to test the payment functionality.  "
   ]
  },
  {
   "cell_type": "markdown",
   "metadata": {
    "button": false,
    "new_sheet": true,
    "run_control": {
     "read_only": false
    }
   },
   "source": [
    "To make things simple, we will simply assume that we need to pieces of data – a 16-digit credit card number and an amount to be charged.  Both pieces can be easily generated with grammars, as in the following:"
   ]
  },
  {
   "cell_type": "code",
   "execution_count": null,
   "metadata": {
    "button": false,
    "new_sheet": false,
    "run_control": {
     "read_only": false
    },
    "slideshow": {
     "slide_type": "skip"
    }
   },
   "outputs": [],
   "source": [
    "import fuzzingbook_utils"
   ]
  },
  {
   "cell_type": "code",
   "execution_count": null,
   "metadata": {},
   "outputs": [],
   "source": [
    "from Grammars import EXPR_GRAMMAR, is_valid_grammar, is_nonterminal, opts, exp_opt, exp_string"
   ]
  },
  {
   "cell_type": "code",
   "execution_count": null,
   "metadata": {},
   "outputs": [],
   "source": [
    "CHARGE_GRAMMAR = {\n",
    "    \"<start>\": [\"Charge <amount> to my credit card <credit-card-number>\"],\n",
    "    \"<amount>\": [\"$<float>\"],\n",
    "    \"<float>\": [\"<integer>.<digit><digit>\"],\n",
    "    \"<integer>\": [\"<digit>\", \"<integer><digit>\"],\n",
    "    \"<digit>\": crange('0', '9'),\n",
    "\n",
    "    \"<credit-card-number>\": [\"<digits>\"],\n",
    "    \"<digits>\": [\"<digit-block><digit-block><digit-block><digit-block>\"],\n",
    "    \"<digit-block>\": [\"<digit><digit><digit><digit>\"],\n",
    "}\n",
    "\n",
    "assert is_valid_grammar(CHARGE_GRAMMAR)"
   ]
  },
  {
   "cell_type": "markdown",
   "metadata": {},
   "source": [
    "All of this works neatly – we can generate arbitrary amounts and credit card numbers:"
   ]
  },
  {
   "cell_type": "code",
   "execution_count": null,
   "metadata": {},
   "outputs": [],
   "source": [
    "from GrammarFuzzer import GrammarFuzzer, all_terminals"
   ]
  },
  {
   "cell_type": "code",
   "execution_count": null,
   "metadata": {},
   "outputs": [],
   "source": [
    "g = GrammarFuzzer(CHARGE_GRAMMAR)\n",
    "[g.fuzz() for i in range(5)]"
   ]
  },
  {
   "cell_type": "markdown",
   "metadata": {},
   "source": [
    "However, when actually testing our system with this data, we find two problems:\n",
    "\n",
    "1. We'd like to test _specific_ amounts being charged – for instance, amounts that would excess the credit card limit.\n",
    "2. We find that 9 out of 10 credit card numbers are rejected because of having an incorrect checksum.  This is fine if we want to test rejection of credit card numbers – but if we want to test the actual functionality of processing a charge, we need _valid_ numbers."
   ]
  },
  {
   "cell_type": "markdown",
   "metadata": {},
   "source": [
    "We could go and ignore these issues; after all, eventually, it is only a matter of time until large amounts and valid numbers are generated.  As it comes to the first concern, we could also address it by changing the grammar appropriately – say, to only produce charges that have at least six leading digits.  However, generalizing this to arbitrary ranges of values will be cumbersome.\n",
    "\n",
    "The second concern, the checksums of credit card numbers, however, runs deeper – at least as far as grammars are concerned, is that a complex arithmetic operation like a checksum cannot be expressed in a grammar alone – at least not in the _context-free grammars_ we use here.  (In principle, one _could_ do this in a  _context–sensitive_ grammar, but specifying this would be is no fun at all.)  What we want is a mechanism that allows us to _attach programmatic computations_ to our grammars, bringing together the best of both worlds."
   ]
  },
  {
   "cell_type": "markdown",
   "metadata": {
    "button": false,
    "new_sheet": false,
    "run_control": {
     "read_only": false
    },
    "slideshow": {
     "slide_type": "skip"
    }
   },
   "source": [
    "## Attaching Functions to Expansions"
   ]
  },
  {
   "cell_type": "markdown",
   "metadata": {},
   "source": [
    "The key idea of this chapter is to _extend_ grammars such that one can _attach Python functions_ to individual expansions.  These functions can be executed \n",
    "\n",
    "1. _before_ expansion, _replacing_ the element to be expanded by a computed value; or\n",
    "2. _after_ expansion, _checking_ generated elements, and possibly also replacing them.\n",
    "\n",
    "In both cases, functions are specified using the `opts()` expansion mechanism introduced in the [chapter on grammars](Grammars.ipynb).  They are thus tied to a specific expansion $e$ of a symbol $s$."
   ]
  },
  {
   "cell_type": "markdown",
   "metadata": {},
   "source": [
    "### Functions Called Before Expansion\n",
    "\n",
    "A function defined using the `pre` option is invoked _before_ expansion of $s$ into $e$. Its value _replaces_ the expansion $e$ to be produced.  To generate a value for the credit card example, above, we could define a _pre-expansion_ generator function"
   ]
  },
  {
   "cell_type": "code",
   "execution_count": null,
   "metadata": {},
   "outputs": [],
   "source": [
    "import random"
   ]
  },
  {
   "cell_type": "code",
   "execution_count": null,
   "metadata": {},
   "outputs": [],
   "source": [
    "def high_charge():\n",
    "    return random.randint(10000000, 90000000) / 100.0"
   ]
  },
  {
   "cell_type": "code",
   "execution_count": null,
   "metadata": {},
   "outputs": [],
   "source": [
    "high_charge()"
   ]
  },
  {
   "cell_type": "markdown",
   "metadata": {},
   "source": [
    "With `opts()`, we could attach this function to the grammar:"
   ]
  },
  {
   "cell_type": "code",
   "execution_count": null,
   "metadata": {},
   "outputs": [],
   "source": [
    "CHARGE_GRAMMAR.update({\n",
    "    \"<float>\": [(\"<integer>.<digit><digit>\", opts(pre=high_charge))],\n",
    "})"
   ]
  },
  {
   "cell_type": "markdown",
   "metadata": {},
   "source": [
    "with the intention that whenever `<float>` is expanded, the function `high_charge` would be invoked to generate a value for `<float>`."
   ]
  },
  {
   "cell_type": "markdown",
   "metadata": {},
   "source": [
    "Since functions tied to a grammar are frequently very simple, we can also _inline_ them using a *lambda* expression.  A _lambda expression_ is used for _anonymous_ functions that are limited in scope and functionality.  Here's an example:"
   ]
  },
  {
   "cell_type": "code",
   "execution_count": null,
   "metadata": {},
   "outputs": [],
   "source": [
    "def apply_twice(function, x):\n",
    "    return function(function(x))\n",
    "\n",
    "apply_twice(lambda x: x * x, 2)"
   ]
  },
  {
   "cell_type": "markdown",
   "metadata": {},
   "source": [
    "Here, we don't have to give the `function` to be applied twice a name (say, `square()`); instead, we apply it inline within the invocation."
   ]
  },
  {
   "cell_type": "markdown",
   "metadata": {},
   "source": [
    "Using `lambda`, this is what our grammar looks like:"
   ]
  },
  {
   "cell_type": "code",
   "execution_count": null,
   "metadata": {},
   "outputs": [],
   "source": [
    "CHARGE_GRAMMAR.update({\n",
    "    \"<float>\": [(\"<integer>.<digit><digit>\", \n",
    "                 opts(pre=lambda: random.randint(10000000, 90000000) / 100.0))]\n",
    "})"
   ]
  },
  {
   "cell_type": "markdown",
   "metadata": {},
   "source": [
    "### Functions Called After Expansion\n",
    "\n",
    "A function defined using the `post` option is invoked _after_ expansion of $s$ into $e$, passing the expanded values of the symbols in $e$ as arguments.  A post-expansion function can serve in two ways:\n",
    "\n",
    "1. It can serve as a *constraint* or _filter_ on the expanded values, returning `True` if the expansion is valid, and `False` if not; if it returns `False`, another expansion is attempted.\n",
    "2. It can also serve as a *repair*, returning a string value; like pre-expansion functions, the returned value replaces the expansion.\n",
    "\n",
    "For our credit card example, we can chose both ways.  If we have a function `check_credit_card(s)` which returns `True` for a valid number `s` and `False` for invalid ones, we would go for the first option:"
   ]
  },
  {
   "cell_type": "code",
   "execution_count": null,
   "metadata": {},
   "outputs": [],
   "source": [
    "CHARGE_GRAMMAR.update({\n",
    "    \"<credit-card-number>\": [(\"<digits>\", opts(post=lambda digits: check_credit_card(digits)))]\n",
    "})"
   ]
  },
  {
   "cell_type": "markdown",
   "metadata": {},
   "source": [
    "With such a filter, only valid credit cards will be produced.  On average, it will still take 10 attempts for each time `check_credit_card()` is satisfied, but then, we do not have to recourse to the system under test."
   ]
  },
  {
   "cell_type": "markdown",
   "metadata": {},
   "source": [
    "If we have a function `fix_credit_card(s)` which changes the number such that the checksum is valid and returns the \"fixed\" number, we can make use of this one instead:"
   ]
  },
  {
   "cell_type": "code",
   "execution_count": null,
   "metadata": {},
   "outputs": [],
   "source": [
    "CHARGE_GRAMMAR.update({\n",
    "    \"<credit-card-number>\": [(\"<digits>\", opts(post=lambda digits: fix_credit_card(digits)))]\n",
    "})"
   ]
  },
  {
   "cell_type": "markdown",
   "metadata": {},
   "source": [
    "Here, each number is generated only once and then repaired.  This is very efficient."
   ]
  },
  {
   "cell_type": "markdown",
   "metadata": {},
   "source": [
    "The checksum function used for credit cards is the [Luhn algorithm](https://en.wikipedia.org/wiki/Luhn_algorithm), a simple yet effective formula."
   ]
  },
  {
   "cell_type": "code",
   "execution_count": null,
   "metadata": {},
   "outputs": [],
   "source": [
    "def luhn_checksum(s):\n",
    "    \"\"\"Compute Luhn's check digit over a string of digits\"\"\"\n",
    "    LUHN_ODD_LOOKUP = (0, 2, 4, 6, 8, 1, 3, 5, 7, 9)  # sum_of_digits (index * 2)\n",
    "    \n",
    "    evens = sum(int(p) for p in s[-1::-2])\n",
    "    odds = sum(LUHN_ODD_LOOKUP[int(p)] for p in s[-2::-2])\n",
    "    return (evens + odds) % 10"
   ]
  },
  {
   "cell_type": "code",
   "execution_count": null,
   "metadata": {},
   "outputs": [],
   "source": [
    "def valid_luhn_checksum(s):\n",
    "    \"\"\"Check whether the last digit is Luhn's checksum over the earlier digits\"\"\"\n",
    "    return luhn_checksum(s[:-1]) == int(s[-1])\n",
    "\n",
    "def fix_luhn_checksum(s):\n",
    "    \"\"\"Return the given string of digits, with a fixed check digit\"\"\"\n",
    "    return s[:-1] + repr(luhn_checksum(s[:-1]))"
   ]
  },
  {
   "cell_type": "code",
   "execution_count": null,
   "metadata": {},
   "outputs": [],
   "source": [
    "luhn_checksum(\"123\")"
   ]
  },
  {
   "cell_type": "code",
   "execution_count": null,
   "metadata": {},
   "outputs": [],
   "source": [
    "fix_luhn_checksum(\"123x\")"
   ]
  },
  {
   "cell_type": "markdown",
   "metadata": {},
   "source": [
    "We can make use of these functions in our credit card grammar:"
   ]
  },
  {
   "cell_type": "code",
   "execution_count": null,
   "metadata": {},
   "outputs": [],
   "source": [
    "check_credit_card = valid_luhn_checksum\n",
    "fix_credit_card = fix_luhn_checksum\n",
    "\n",
    "fix_credit_card(\"1234567890123456\")"
   ]
  },
  {
   "cell_type": "markdown",
   "metadata": {},
   "source": [
    "## A Class for Integrating Constraints"
   ]
  },
  {
   "cell_type": "markdown",
   "metadata": {},
   "source": [
    "While it is easy to specify functions, our grammar fuzzer will simply ignore them just as it ignores all extensions.  It will issue a warning, though:"
   ]
  },
  {
   "cell_type": "code",
   "execution_count": null,
   "metadata": {},
   "outputs": [],
   "source": [
    "g = GrammarFuzzer(CHARGE_GRAMMAR)\n",
    "g.fuzz()"
   ]
  },
  {
   "cell_type": "markdown",
   "metadata": {},
   "source": [
    "We need to define a special fuzzer that actually invokes the given `pre` and `post` functions and acts accordingly.  We name this a `ConstraintGrammarFuzzer`:"
   ]
  },
  {
   "cell_type": "code",
   "execution_count": null,
   "metadata": {},
   "outputs": [],
   "source": [
    "class ConstraintGrammarFuzzer(GrammarFuzzer):\n",
    "    def supported_opts(self):\n",
    "        return super().supported_opts() | {\"pre\", \"post\", \"order\"}"
   ]
  },
  {
   "cell_type": "markdown",
   "metadata": {},
   "source": [
    "We define custom functions to access the `pre` and `post` options:"
   ]
  },
  {
   "cell_type": "code",
   "execution_count": null,
   "metadata": {},
   "outputs": [],
   "source": [
    "def exp_pre_expansion_function(expansion):\n",
    "    \"\"\"Return the specified pre-expansion function, or None if unspecified\"\"\"\n",
    "    return exp_opt(expansion, 'pre')"
   ]
  },
  {
   "cell_type": "code",
   "execution_count": null,
   "metadata": {},
   "outputs": [],
   "source": [
    "def exp_post_expansion_function(expansion):\n",
    "    \"\"\"Return the specified post-expansion function, or None if unspecified\"\"\"\n",
    "    return exp_opt(expansion, 'post')"
   ]
  },
  {
   "cell_type": "markdown",
   "metadata": {},
   "source": [
    "## Generating Elements before Expansion"
   ]
  },
  {
   "cell_type": "markdown",
   "metadata": {},
   "source": [
    "Our first task will be implementing the pre-expansion functions – that is, the function that would be invoked _before_ expansion to replace the value to be expanded.  To this end, we extend the `expansion_to_children()` method, whose task it is to convert an expansion string into a list of children subtrees.  We set it up such that it invokes the given `pre` function and applies its result on the children, possibly replacing them."
   ]
  },
  {
   "cell_type": "code",
   "execution_count": null,
   "metadata": {},
   "outputs": [],
   "source": [
    "class ConstraintGrammarFuzzer(ConstraintGrammarFuzzer):\n",
    "    def expansion_to_children(self, expansion):\n",
    "        children = super().expansion_to_children(expansion)\n",
    "        function = exp_pre_expansion_function(expansion)\n",
    "        if function is None:\n",
    "            return children\n",
    "        \n",
    "        assert callable(function)\n",
    "        result = function()\n",
    "\n",
    "        if self.log:\n",
    "            print(repr(function) + \"()\", \"=\", repr(result))\n",
    "        return self.apply_result(result, children)"
   ]
  },
  {
   "cell_type": "markdown",
   "metadata": {},
   "source": [
    "The method `apply_result()` takes the result from the pre-expansion function and applies it on the children.  The exact effect depends on the type of the result:\n",
    "\n",
    "* A _string_ $s$ replaces the entire expansion with $s$.\n",
    "* A _list_ $(x_1, x_2, \\dots, x_n)$ replaces the $i$-th symbol with $x_i$ for every $x_i$ that is not `None`.  Specifying `None` as a list element $x_i$ is useful to leave that element unchanged.  If $x_i$ is not a string, it is converted to a string.\n",
    "* A value of `None` is ignored.  This is useful if one wants to simply call a function upon expansion, with no effect on the expanded strings.\n",
    "* _Boolean_ values are ignored.  This is useful for post-expansion functions, discussed below.\n",
    "* All _other types_ are converted to strings, replacing the entire expansion."
   ]
  },
  {
   "cell_type": "code",
   "execution_count": null,
   "metadata": {},
   "outputs": [],
   "source": [
    "class ConstraintGrammarFuzzer(ConstraintGrammarFuzzer):\n",
    "    def apply_result(self, result, children):\n",
    "        if isinstance(result, str):\n",
    "            children = [(result, [])]\n",
    "        elif isinstance(result, list):\n",
    "            symbol_indexes = [i for i, c in enumerate(children) if is_nonterminal(c[0])]\n",
    "\n",
    "            for index, value in enumerate(result):\n",
    "                if value is not None:\n",
    "                    child_index = symbol_indexes[index]\n",
    "                    if not isinstance(value, str):\n",
    "                        value = repr(value)\n",
    "                    if self.log:\n",
    "                        print(\"Replacing\", all_terminals(children[child_index]), \"by\", value)\n",
    "\n",
    "                    # children[child_index] = (value, [])\n",
    "                    (child_symbol, _) = children[child_index]\n",
    "                    children[child_index] = (child_symbol, [(value, [])])\n",
    "        elif result is None:\n",
    "            pass\n",
    "        elif isinstance(result, bool)\n",
    "            pass\n",
    "        else:\n",
    "            if self.log:\n",
    "                print(\"Replacing\", \"\".join([all_terminals(c) for c in children]), \"by\", result)\n",
    "\n",
    "            children = [(repr(result), [])]\n",
    "\n",
    "        return children"
   ]
  },
  {
   "cell_type": "markdown",
   "metadata": {},
   "source": [
    "With this, we have full support for pre-expansion functions.  Using the augmented `CHARGE_GRAMMAR`, we find that the pre-expansion `lambda` function is actually used:"
   ]
  },
  {
   "cell_type": "code",
   "execution_count": null,
   "metadata": {},
   "outputs": [],
   "source": [
    "charge_fuzzer = ConstraintGrammarFuzzer(CHARGE_GRAMMAR)\n",
    "charge_fuzzer.fuzz()"
   ]
  },
  {
   "cell_type": "markdown",
   "metadata": {},
   "source": [
    "The log reveals a bit more details what happens when the pre-expansion function is called.  We see that the expansion `<integer>.<digit><digit>` is directly replaced by the computed value:"
   ]
  },
  {
   "cell_type": "code",
   "execution_count": null,
   "metadata": {},
   "outputs": [],
   "source": [
    "amount_fuzzer = ConstraintGrammarFuzzer(CHARGE_GRAMMAR, start_symbol=\"<amount>\", log=True)\n",
    "amount_fuzzer.fuzz()"
   ]
  },
  {
   "cell_type": "markdown",
   "metadata": {},
   "source": [
    "We can use such pre-expansion functions in other contexts, too.  Suppose we want to generate arithmetic expressions in which each number is between 100 and 200.  We can extend `EXPR_GRAMMAR` accordingly:"
   ]
  },
  {
   "cell_type": "code",
   "execution_count": null,
   "metadata": {
    "button": false,
    "new_sheet": false,
    "run_control": {
     "read_only": false
    },
    "slideshow": {
     "slide_type": "skip"
    }
   },
   "outputs": [],
   "source": [
    "import copy"
   ]
  },
  {
   "cell_type": "code",
   "execution_count": null,
   "metadata": {},
   "outputs": [],
   "source": [
    "constrained_expr_grammar = copy.deepcopy(EXPR_GRAMMAR)\n",
    "\n",
    "constrained_expr_grammar.update(\n",
    "    {\n",
    "     \"<start>\": [\"<expr>\"],\n",
    "     \"<factor>\": [\"+<factor>\", \"-<factor>\", \"(<expr>)\",\n",
    "         # Generate only the integer part with a function;\n",
    "         # the fractional part comes from the grammar\n",
    "         (\"<integer>.<integer>\", opts(pre=lambda: [random.randint(100, 200), None])),\n",
    "         # Generate the entire integer from the function\n",
    "         (\"<integer>\", opts(pre=lambda: random.randint(100, 200))),\n",
    "        ],\n",
    "    }\n",
    ")"
   ]
  },
  {
   "cell_type": "code",
   "execution_count": null,
   "metadata": {},
   "outputs": [],
   "source": [
    "expr_fuzzer = ConstraintGrammarFuzzer(constrained_expr_grammar)\n",
    "expr_fuzzer.fuzz()"
   ]
  },
  {
   "cell_type": "markdown",
   "metadata": {
    "button": false,
    "new_sheet": false,
    "run_control": {
     "read_only": false
    }
   },
   "source": [
    "## Checking Elements after Expansion"
   ]
  },
  {
   "cell_type": "markdown",
   "metadata": {},
   "source": [
    "With this, we can now turn to our second set of functions to be supported."
   ]
  },
  {
   "cell_type": "code",
   "execution_count": null,
   "metadata": {
    "button": false,
    "code_folding": [],
    "new_sheet": false,
    "run_control": {
     "read_only": false
    },
    "slideshow": {
     "slide_type": "subslide"
    }
   },
   "outputs": [],
   "source": [
    "constrained_expr_grammar = copy.deepcopy(EXPR_GRAMMAR)\n",
    "\n",
    "def eval_with_exception(s):\n",
    "    with ExpectError():\n",
    "        return eval(s)\n",
    "    return False\n",
    "\n",
    "constrained_expr_grammar.update(\n",
    "    {\n",
    "        \"<start>\": [(\"<expr>\", opts(post=lambda s: eval_with_exception(s) > 10))]\n",
    "    }\n",
    ")\n",
    "\n",
    "assert is_valid_grammar(constrained_expr_grammar)"
   ]
  },
  {
   "cell_type": "code",
   "execution_count": null,
   "metadata": {},
   "outputs": [],
   "source": [
    "def exp_post_expansion_function(expansion):\n",
    "    \"\"\"Return the specified post-expansion function, or None if unspecified\"\"\"\n",
    "    return exp_opt(expansion, 'post')"
   ]
  },
  {
   "cell_type": "code",
   "execution_count": null,
   "metadata": {},
   "outputs": [],
   "source": [
    "class ConstraintGrammarFuzzer(ConstraintGrammarFuzzer):\n",
    "    def eval_function(self, tree, function):\n",
    "        symbol, children = tree\n",
    "        # print(\"Does\", all_terminals(tree), \"satisfy\", repr(function) + \"?\")\n",
    "\n",
    "        assert callable(function)\n",
    "\n",
    "        args = []\n",
    "        for (symbol, exp) in children:\n",
    "            if exp != [] and exp is not None:\n",
    "                symbol_value = all_terminals((symbol, exp))\n",
    "                args.append(symbol_value)\n",
    "                \n",
    "        result = function(*args)\n",
    "        if self.log:\n",
    "            print(repr(function) + repr(tuple(args)), \"=\", repr(result))\n",
    "\n",
    "        return result"
   ]
  },
  {
   "cell_type": "markdown",
   "metadata": {},
   "source": [
    "If the `function` returns the Boolean value `False`, the expansion is deemed invalid; and the fuzzer attempts to create another expansion."
   ]
  },
  {
   "cell_type": "code",
   "execution_count": null,
   "metadata": {},
   "outputs": [],
   "source": [
    "class ConstraintGrammarFuzzer(ConstraintGrammarFuzzer):\n",
    "    def find_expansion(self, tree):\n",
    "        symbol, children = tree\n",
    "\n",
    "        applied_expansion = \\\n",
    "            \"\".join([child_symbol for child_symbol, _ in children])\n",
    "\n",
    "        for expansion in self.grammar[symbol]:\n",
    "            if exp_string(expansion) == applied_expansion:\n",
    "                return expansion\n",
    "            \n",
    "        raise KeyError(symbol + \": did not find expansion\" + applied_expansion)\n",
    "    \n",
    "    # Return True iff all constraints of grammar are satisfied in TREE\n",
    "    def run_post_functions(self, tree, depth=float(\"inf\")):\n",
    "        symbol, children = tree\n",
    "        expansion = self.find_expansion(tree)\n",
    "\n",
    "        function = exp_post_expansion_function(expansion)\n",
    "        if function is None:\n",
    "            return None\n",
    "\n",
    "        result = self.eval_function(tree, function)\n",
    "        if isinstance(result, bool) and not result:\n",
    "            if self.log:\n",
    "                print(all_terminals(tree), \"did not satisfy\", symbol, \"constraint\")\n",
    "            return False\n",
    "\n",
    "        children = self.apply_result(result, children)\n",
    "\n",
    "        if depth > 0:\n",
    "            for c in children:\n",
    "                result = self.run_post_functions(c, depth - 1)\n",
    "                if isinstance(result, bool) and not result:\n",
    "                    return False\n",
    "\n",
    "        return result"
   ]
  },
  {
   "cell_type": "markdown",
   "metadata": {},
   "source": [
    "The simplest method to check constraints is to retain only those trees that satisfy them.  Works, but can be very slow."
   ]
  },
  {
   "cell_type": "code",
   "execution_count": null,
   "metadata": {},
   "outputs": [],
   "source": [
    "class ConstraintGrammarFuzzer(ConstraintGrammarFuzzer):\n",
    "    def fuzz_tree(self):\n",
    "        while True:\n",
    "            tree = super().fuzz_tree()\n",
    "            result = self.run_post_functions(tree)\n",
    "            if not isinstance(result, bool) or result:\n",
    "                return tree"
   ]
  },
  {
   "cell_type": "code",
   "execution_count": null,
   "metadata": {},
   "outputs": [],
   "source": [
    "from ExpectError import ExpectError, ExpectTimeout"
   ]
  },
  {
   "cell_type": "code",
   "execution_count": null,
   "metadata": {},
   "outputs": [],
   "source": [
    "constraint_grammar_fuzzer = ConstraintGrammarFuzzer(constrained_expr_grammar)\n",
    "with ExpectTimeout(1):\n",
    "    expr = constraint_grammar_fuzzer.fuzz()\n",
    "expr"
   ]
  },
  {
   "cell_type": "code",
   "execution_count": null,
   "metadata": {},
   "outputs": [],
   "source": [
    "with ExpectError():\n",
    "    eval(expr)"
   ]
  },
  {
   "cell_type": "code",
   "execution_count": null,
   "metadata": {},
   "outputs": [],
   "source": [
    "constrained_expr_grammar.update(\n",
    "    {\n",
    "     \"<start>\": [\"<expr>\"],\n",
    "     \"<factor>\": [\n",
    "         \"+<factor>\",\n",
    "         \"-<factor>\",\n",
    "         \"(<expr>)\",\n",
    "         (\"<integer>.<integer>\", opts(post=lambda s1, s2: float(s1 + \".\" + s2) > 10)),\n",
    "         (\"<integer>\", opts(post=lambda n: int(n) > 10))\n",
    "        ],\n",
    "    }\n",
    ")"
   ]
  },
  {
   "cell_type": "code",
   "execution_count": null,
   "metadata": {},
   "outputs": [],
   "source": [
    "from Timer import Timer"
   ]
  },
  {
   "cell_type": "code",
   "execution_count": null,
   "metadata": {},
   "outputs": [],
   "source": [
    "constraint_grammar_fuzzer = ConstraintGrammarFuzzer(constrained_expr_grammar)\n",
    "with Timer() as timer:\n",
    "    print([constraint_grammar_fuzzer.fuzz() for i in range(10)])"
   ]
  },
  {
   "cell_type": "code",
   "execution_count": null,
   "metadata": {},
   "outputs": [],
   "source": [
    "timer.elapsed_time()"
   ]
  },
  {
   "cell_type": "markdown",
   "metadata": {},
   "source": [
    "## Checking Elements Sooner"
   ]
  },
  {
   "cell_type": "markdown",
   "metadata": {},
   "source": [
    "Make things faster: Check as soon as (sub)tree is complete"
   ]
  },
  {
   "cell_type": "code",
   "execution_count": null,
   "metadata": {},
   "outputs": [],
   "source": [
    "class ConstraintGrammarFuzzer(ConstraintGrammarFuzzer):\n",
    "    def expand_tree_once(self, tree):\n",
    "        new_tree = super().expand_tree_once(tree)\n",
    "        \n",
    "        (symbol, children) = new_tree\n",
    "        if all([exp_post_expansion_function(expansion) is None for expansion in self.grammar[symbol]]):\n",
    "            # No constraints for this symbol\n",
    "            return new_tree\n",
    "                \n",
    "        if self.any_possible_expansions(tree):\n",
    "            # Still expanding\n",
    "            return new_tree\n",
    "\n",
    "        result = self.run_post_functions(new_tree, depth=0)\n",
    "        if not isinstance(result, bool) or result:\n",
    "            # No constraints, or constraint satisfied\n",
    "            children = self.apply_result(result, children)\n",
    "            new_tree = (symbol, children)\n",
    "            return new_tree\n",
    "\n",
    "        # Replace tree by unexpanded symbol and try again\n",
    "        if self.log:\n",
    "            print(all_terminals(new_tree), \"did not satisfy\", symbol, \"constraint\")\n",
    "            \n",
    "        if self.replacement_attempts_counter > 0:\n",
    "            if self.log:\n",
    "                print(\"Trying another expansion\")\n",
    "            self.replacement_attempts_counter -= 1\n",
    "            return (symbol, None)\n",
    "        \n",
    "        if self.log:\n",
    "            print(\"Starting from scratch\")\n",
    "        raise RestartExpansionException"
   ]
  },
  {
   "cell_type": "code",
   "execution_count": null,
   "metadata": {},
   "outputs": [],
   "source": [
    "class RestartExpansionException(Exception):\n",
    "    pass"
   ]
  },
  {
   "cell_type": "code",
   "execution_count": null,
   "metadata": {},
   "outputs": [],
   "source": [
    "class ConstraintGrammarFuzzer(ConstraintGrammarFuzzer):\n",
    "    def __init__(self, grammar, replacement_attempts=10, **kwargs):\n",
    "        super().__init__(grammar, **kwargs)\n",
    "        self.replacement_attempts = replacement_attempts\n",
    "\n",
    "    def fuzz_tree(self):\n",
    "        while True:\n",
    "            self.replacement_attempts_counter = self.replacement_attempts\n",
    "            try:\n",
    "                tree = super().fuzz_tree()\n",
    "                return tree\n",
    "            except RestartExpansionException:\n",
    "                continue"
   ]
  },
  {
   "cell_type": "code",
   "execution_count": null,
   "metadata": {},
   "outputs": [],
   "source": [
    "constraint_grammar_fuzzer = ConstraintGrammarFuzzer(constrained_expr_grammar)\n",
    "with Timer() as timer:\n",
    "    print([constraint_grammar_fuzzer.fuzz() for i in range(10)])"
   ]
  },
  {
   "cell_type": "code",
   "execution_count": null,
   "metadata": {},
   "outputs": [],
   "source": [
    "timer.elapsed_time()"
   ]
  },
  {
   "cell_type": "markdown",
   "metadata": {},
   "source": [
    "## Ordering Expansions"
   ]
  },
  {
   "cell_type": "code",
   "execution_count": null,
   "metadata": {},
   "outputs": [],
   "source": [
    "from IPython.core.display import HTML, display"
   ]
  },
  {
   "cell_type": "code",
   "execution_count": null,
   "metadata": {},
   "outputs": [],
   "source": [
    "from GrammarFuzzer import display_tree"
   ]
  },
  {
   "cell_type": "code",
   "execution_count": null,
   "metadata": {},
   "outputs": [],
   "source": [
    "def exp_order(expansion):\n",
    "    \"\"\"Return the specified expansion ordering, or None if unspecified\"\"\"\n",
    "    return exp_opt(expansion, 'order')"
   ]
  },
  {
   "cell_type": "code",
   "execution_count": null,
   "metadata": {},
   "outputs": [],
   "source": [
    "class ConstraintGrammarFuzzer(ConstraintGrammarFuzzer):\n",
    "    def choose_tree_expansion(self, tree, expandable_children):\n",
    "        \"\"\"Return index of subtree in `children` to be selected for expansion.  Defaults to random.\"\"\"\n",
    "        (symbol, tree_children) = tree\n",
    "        if len(expandable_children) == 1:\n",
    "            # No choice\n",
    "            return super().choose_tree_expansion(tree, expandable_children)\n",
    "\n",
    "        expansion = self.find_expansion(tree)\n",
    "        given_order = exp_order(expansion)\n",
    "        if given_order is None:\n",
    "            # No order specified\n",
    "            return super().choose_tree_expansion(tree, expandable_children)\n",
    "\n",
    "        nonterminal_children = [c for c in tree_children if c[1] != []]\n",
    "        assert len(nonterminal_children) == len(given_order), \"Order must have one element for each nonterminal\"\n",
    "\n",
    "        # print(\"Checking \", expandable_children, \"against\", nonterminal_children, repr(given_order))\n",
    "\n",
    "        # Find expandable child with lowest ordering\n",
    "        min_given_order = None\n",
    "        j = 0\n",
    "        for k, expandable_child in enumerate(expandable_children):\n",
    "            while j < len(nonterminal_children) and expandable_child != nonterminal_children[j]:\n",
    "                j += 1\n",
    "            assert j < len(nonterminal_children), \"Expandable child not found\"\n",
    "            if self.log:\n",
    "                print(\"Expandable child #%d %s has order %d\" % (k, expandable_child[0], given_order[j]))\n",
    "\n",
    "            if min_given_order is None or given_order[j] < min_given_order:\n",
    "                min_given_order = k\n",
    "\n",
    "        assert min_given_order is not None\n",
    "        \n",
    "        if self.log:\n",
    "            print(\"Returning expandable child #%d %s\" % \n",
    "                  (min_given_order, expandable_children[min_given_order][0]))\n",
    "\n",
    "        return min_given_order"
   ]
  },
  {
   "cell_type": "markdown",
   "metadata": {
    "toc-hr-collapsed": true
   },
   "source": [
    "## Usage Examples"
   ]
  },
  {
   "cell_type": "markdown",
   "metadata": {
    "toc-hr-collapsed": false
   },
   "source": [
    "### Matching Tags"
   ]
  },
  {
   "cell_type": "code",
   "execution_count": null,
   "metadata": {},
   "outputs": [],
   "source": [
    "from Grammars import crange"
   ]
  },
  {
   "cell_type": "code",
   "execution_count": null,
   "metadata": {},
   "outputs": [],
   "source": [
    "XML_GRAMMAR = {\n",
    "    \"<start>\": [\"<xml-tree>\"],\n",
    "    \"<xml-tree>\": [\"<<id>><xml-content></<id>>\"],\n",
    "    \"<xml-content>\": [\"Text\", \"<xml-tree>\"],\n",
    "    \"<id>\": [\"<letter>\", \"<id><letter>\"],\n",
    "    \"<letter>\": crange('a', 'z')\n",
    "}\n",
    "\n",
    "assert is_valid_grammar(XML_GRAMMAR)"
   ]
  },
  {
   "cell_type": "code",
   "execution_count": null,
   "metadata": {},
   "outputs": [],
   "source": [
    "xml_fuzzer = GrammarFuzzer(XML_GRAMMAR)\n",
    "xml_fuzzer.fuzz()"
   ]
  },
  {
   "cell_type": "code",
   "execution_count": null,
   "metadata": {},
   "outputs": [],
   "source": [
    "XML_GRAMMAR.update({\n",
    "    \"<xml-tree>\": [(\"<<id>><xml-content></<id>>\",\n",
    "                    opts(post=lambda id1, content, id2: [None, None, id1])\n",
    "                   )]\n",
    "})"
   ]
  },
  {
   "cell_type": "code",
   "execution_count": null,
   "metadata": {},
   "outputs": [],
   "source": [
    "xml_fuzzer = ConstraintGrammarFuzzer(XML_GRAMMAR)\n",
    "xml_fuzzer.fuzz()"
   ]
  },
  {
   "cell_type": "markdown",
   "metadata": {},
   "source": [
    "### Checksums"
   ]
  },
  {
   "cell_type": "code",
   "execution_count": null,
   "metadata": {},
   "outputs": [],
   "source": [
    "CREDIT_CARD_GRAMMAR = {\n",
    "    \"<start>\": [\"<credit-card-number>\"],\n",
    "    \"<credit-card-number>\": [(\"<digits>\", opts(post=fix_luhn_checksum))],\n",
    "    \"<digits>\": [\"<digit-block><digit-block><digit-block><digit-block>\"],\n",
    "    \"<digit-block>\": [\"<digit><digit><digit><digit>\"],\n",
    "    \"<digit>\": crange('0', '9')\n",
    "}\n",
    "\n",
    "assert is_valid_grammar(CREDIT_CARD_GRAMMAR)"
   ]
  },
  {
   "cell_type": "code",
   "execution_count": null,
   "metadata": {},
   "outputs": [],
   "source": [
    "g = GrammarFuzzer(CREDIT_CARD_GRAMMAR)\n",
    "cc_number = g.fuzz()\n",
    "cc_number"
   ]
  },
  {
   "cell_type": "code",
   "execution_count": null,
   "metadata": {},
   "outputs": [],
   "source": [
    "valid_luhn_checksum(cc_number)"
   ]
  },
  {
   "cell_type": "code",
   "execution_count": null,
   "metadata": {},
   "outputs": [],
   "source": [
    "fixed_cc_number = fix_luhn_checksum(cc_number)\n",
    "fixed_cc_number"
   ]
  },
  {
   "cell_type": "code",
   "execution_count": null,
   "metadata": {},
   "outputs": [],
   "source": [
    "valid_luhn_checksum(fixed_cc_number)"
   ]
  },
  {
   "cell_type": "code",
   "execution_count": null,
   "metadata": {},
   "outputs": [],
   "source": [
    "fixing_fuzzer = ConstraintGrammarFuzzer(CREDIT_CARD_GRAMMAR)\n",
    "cc_number = fixing_fuzzer.fuzz()\n",
    "cc_number"
   ]
  },
  {
   "cell_type": "code",
   "execution_count": null,
   "metadata": {},
   "outputs": [],
   "source": [
    "valid_luhn_checksum(cc_number)"
   ]
  },
  {
   "cell_type": "markdown",
   "metadata": {},
   "source": [
    "### Defining and Using Identifiers"
   ]
  },
  {
   "cell_type": "code",
   "execution_count": null,
   "metadata": {},
   "outputs": [],
   "source": [
    "from Parser import VAR_GRAMMAR"
   ]
  },
  {
   "cell_type": "code",
   "execution_count": null,
   "metadata": {},
   "outputs": [],
   "source": [
    "g = GrammarFuzzer(VAR_GRAMMAR)\n",
    "for i in range(10):\n",
    "    print(g.fuzz())"
   ]
  },
  {
   "cell_type": "code",
   "execution_count": null,
   "metadata": {},
   "outputs": [],
   "source": [
    "SYMBOL_TABLE = set()"
   ]
  },
  {
   "cell_type": "code",
   "execution_count": null,
   "metadata": {},
   "outputs": [],
   "source": [
    "def define_id(id):\n",
    "    SYMBOL_TABLE.add(id)"
   ]
  },
  {
   "cell_type": "code",
   "execution_count": null,
   "metadata": {},
   "outputs": [],
   "source": [
    "def use_id():\n",
    "    if len(SYMBOL_TABLE) == 0:\n",
    "        return False\n",
    "\n",
    "    id = random.choice(list(SYMBOL_TABLE))\n",
    "    return id"
   ]
  },
  {
   "cell_type": "code",
   "execution_count": null,
   "metadata": {},
   "outputs": [],
   "source": [
    "def clear_symbol_table():\n",
    "    global SYMBOL_TABLE\n",
    "    SYMBOL_TABLE = set()"
   ]
  },
  {
   "cell_type": "code",
   "execution_count": null,
   "metadata": {},
   "outputs": [],
   "source": [
    "CONSTRAINED_VAR_GRAMMAR = copy.deepcopy(VAR_GRAMMAR)\n",
    "CONSTRAINED_VAR_GRAMMAR.update({\n",
    "    \"<start>\": [(\"<statements>\", opts(pre=lambda: clear_symbol_table()))],\n",
    "    \"<assignment>\": [(\"<identifier>=<expr>\", opts(post=lambda id, expr: define_id(id),\n",
    "                                                  order=(1, 2)))],\n",
    "    \"<factor>\": ['+<factor>', '-<factor>', '(<expr>)',\n",
    "                 (\"<identifier>\", opts(post=lambda _: use_id())),\n",
    "                 '<number>'],\n",
    "    \"<statements>\": [(\"<statement>;<statements>\", opts(order=(1, 2))),\n",
    "                      \"<statement>\"]\n",
    "})\n",
    "\n",
    "assert is_valid_grammar(CONSTRAINED_VAR_GRAMMAR)"
   ]
  },
  {
   "cell_type": "code",
   "execution_count": null,
   "metadata": {},
   "outputs": [],
   "source": [
    "from ExpectError import ExpectTimeout"
   ]
  },
  {
   "cell_type": "code",
   "execution_count": null,
   "metadata": {},
   "outputs": [],
   "source": [
    "g = ConstraintGrammarFuzzer(CONSTRAINED_VAR_GRAMMAR)\n",
    "for i in range(10):\n",
    "    print(g.fuzz())"
   ]
  },
  {
   "cell_type": "markdown",
   "metadata": {},
   "source": [
    "## All Together"
   ]
  },
  {
   "cell_type": "code",
   "execution_count": null,
   "metadata": {},
   "outputs": [],
   "source": [
    "from ProbabilisticGrammarFuzzer import ProbabilisticGrammarFuzzer, ProbabilisticGrammarCoverageFuzzer"
   ]
  },
  {
   "cell_type": "code",
   "execution_count": null,
   "metadata": {},
   "outputs": [],
   "source": [
    "class BigFatGrammarFuzzer(ProbabilisticGrammarFuzzer, ConstraintGrammarFuzzer):\n",
    "    pass"
   ]
  },
  {
   "cell_type": "code",
   "execution_count": null,
   "metadata": {},
   "outputs": [],
   "source": [
    "class BigFatGrammarCoverageFuzzer(ProbabilisticGrammarCoverageFuzzer, ConstraintGrammarFuzzer):\n",
    "    pass"
   ]
  },
  {
   "cell_type": "markdown",
   "metadata": {
    "button": false,
    "new_sheet": true,
    "run_control": {
     "read_only": false
    }
   },
   "source": [
    "## Lessons Learned\n",
    "\n",
    "* _Lesson one_\n",
    "* _Lesson two_\n",
    "* _Lesson three_"
   ]
  },
  {
   "cell_type": "markdown",
   "metadata": {
    "button": false,
    "new_sheet": false,
    "run_control": {
     "read_only": false
    }
   },
   "source": [
    "## Next Steps\n",
    "\n",
    "_Link to subsequent chapters (notebooks) here, as in:_\n",
    "\n",
    "* [use _mutations_ on existing inputs to get more valid inputs](MutationFuzzer.ipynb)\n",
    "* [use _grammars_ (i.e., a specification of the input format) to get even more valid inputs](Grammars.ipynb)\n",
    "* [reduce _failing inputs_ for efficient debugging](Reducer.ipynb)\n"
   ]
  },
  {
   "cell_type": "markdown",
   "metadata": {},
   "source": [
    "## Background\n",
    "\n",
    "_Cite relevant works in the literature and put them into context, as in:_\n",
    "\n",
    "The idea of ensuring that each expansion in the grammar is used at least once goes back to Burkhardt \\cite{Burkhardt1967}, to be later rediscovered by Paul Purdom \\cite{Purdom1972}."
   ]
  },
  {
   "cell_type": "markdown",
   "metadata": {
    "button": false,
    "new_sheet": true,
    "run_control": {
     "read_only": false
    }
   },
   "source": [
    "## Exercises\n",
    "\n",
    "1. Implement a syntax that allows people to refer to subtrees – say $1.$2 is the second child of the first symbol.\n"
   ]
  },
  {
   "cell_type": "markdown",
   "metadata": {
    "button": false,
    "new_sheet": false,
    "run_control": {
     "read_only": false
    }
   },
   "source": [
    "### Exercise 1: _Title_\n",
    "\n",
    "_Text of the exercise_"
   ]
  },
  {
   "cell_type": "code",
   "execution_count": null,
   "metadata": {
    "cell_style": "center"
   },
   "outputs": [],
   "source": [
    "# Some code that is part of the exercise\n",
    "pass"
   ]
  },
  {
   "cell_type": "markdown",
   "metadata": {
    "solution2": "hidden",
    "solution2_first": true
   },
   "source": [
    "_Some more text for the exercise_"
   ]
  },
  {
   "cell_type": "markdown",
   "metadata": {
    "slideshow": {
     "slide_type": "skip"
    },
    "solution2": "hidden"
   },
   "source": [
    "**Solution.** _Some text for the solution_"
   ]
  },
  {
   "cell_type": "code",
   "execution_count": null,
   "metadata": {
    "cell_style": "split",
    "slideshow": {
     "slide_type": "skip"
    },
    "solution2": "hidden"
   },
   "outputs": [],
   "source": [
    "# Some code for the solution\n",
    "2 + 2"
   ]
  },
  {
   "cell_type": "markdown",
   "metadata": {
    "slideshow": {
     "slide_type": "skip"
    },
    "solution2": "hidden"
   },
   "source": [
    "_Some more text for the solution_"
   ]
  },
  {
   "cell_type": "code",
   "execution_count": null,
   "metadata": {},
   "outputs": [],
   "source": [
    "ATTR_GRAMMAR = {\n",
    " \"<clause>\": (\"<xml-open>Text<xml-close>\", opts(constraint=lambda x1, x2: x1.name == x2.name)),\n",
    " \"<xml-open>\": (\"<langle><tag><rangle>\", opts(producer=lambda: (None, opts(name=random_name()), None))),\n",
    " \"<xml-close>\": (\"<langle>/<tag><rangle>\", opts(producer=lambda: (None, find_name(), None))),\n",
    "}"
   ]
  },
  {
   "cell_type": "markdown",
   "metadata": {
    "button": false,
    "new_sheet": false,
    "run_control": {
     "read_only": false
    },
    "solution": "hidden",
    "solution2": "hidden",
    "solution2_first": true,
    "solution_first": true
   },
   "source": [
    "### Exercise 2: _Title_\n",
    "\n",
    "_Text of the exercise_"
   ]
  },
  {
   "cell_type": "markdown",
   "metadata": {
    "button": false,
    "new_sheet": false,
    "run_control": {
     "read_only": false
    },
    "slideshow": {
     "slide_type": "skip"
    },
    "solution": "hidden",
    "solution2": "hidden"
   },
   "source": [
    "**Solution.** _Solution for the exercise_"
   ]
  }
 ],
 "metadata": {
  "ipub": {
   "bibliography": "fuzzingbook.bib",
   "toc": true
  },
  "kernelspec": {
   "display_name": "Python 3",
   "language": "python",
   "name": "python3"
  },
  "language_info": {
   "codemirror_mode": {
    "name": "ipython",
    "version": 3
   },
   "file_extension": ".py",
   "mimetype": "text/x-python",
   "name": "python",
   "nbconvert_exporter": "python",
   "pygments_lexer": "ipython3",
   "version": "3.6.6"
  },
  "toc": {
   "base_numbering": 1,
   "nav_menu": {},
   "number_sections": true,
   "sideBar": true,
   "skip_h1_title": true,
   "title_cell": "",
   "title_sidebar": "Contents",
   "toc_cell": false,
   "toc_position": {},
   "toc_section_display": true,
   "toc_window_display": true
  }
 },
 "nbformat": 4,
 "nbformat_minor": 2
}
