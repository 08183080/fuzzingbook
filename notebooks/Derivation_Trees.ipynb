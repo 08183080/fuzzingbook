{
 "cells": [
  {
   "cell_type": "markdown",
   "metadata": {
    "button": false,
    "deletable": true,
    "new_sheet": true,
    "run_control": {
     "read_only": false
    }
   },
   "source": [
    "# Fuzzing with Derivation Trees\n",
    "\n",
    "In the chapter on [\"Grammars\"](Grammars.ipynb), we have introduced the concept of _grammars_ that specify input formats and _producers_ that randomly generate a valid input from a grammar.  Our implementation was not very efficient, though.  In this chapter, we introduce _derivation trees_ that encode a (produced) string as a syntactic structure.  This allows for efficient production of inputs from grammars, as well as easy manipulation."
   ]
  },
  {
   "cell_type": "markdown",
   "metadata": {
    "button": false,
    "deletable": true,
    "new_sheet": false,
    "run_control": {
     "read_only": false
    }
   },
   "source": [
    "**Prerequisites**\n",
    "\n",
    "* You should know how grammar-based fuzzing works, e.g. from the [\"Grammars\" chapter](Grammars.ipynb)."
   ]
  },
  {
   "cell_type": "markdown",
   "metadata": {},
   "source": [
    "## The Trouble with String Replacement\n",
    "\n",
    "In our [previous chapter](Grammars.ipynb), we had introduced a simple fuzzer that would produce a random string from a grammar, using string replacement.  With each iteration, this fuzzer would go search the string produced so far for symbols to expand.  How expensive is this in the long run?  Let us plot the time required for strings of different lengths."
   ]
  },
  {
   "cell_type": "code",
   "execution_count": 2,
   "metadata": {},
   "outputs": [],
   "source": [
    "import gstbook"
   ]
  },
  {
   "cell_type": "code",
   "execution_count": 3,
   "metadata": {},
   "outputs": [],
   "source": [
    "from Grammars import simple_grammar_fuzzer, EXPR_GRAMMAR"
   ]
  },
  {
   "cell_type": "code",
   "execution_count": 4,
   "metadata": {},
   "outputs": [],
   "source": [
    "from Timer import Timer"
   ]
  },
  {
   "cell_type": "code",
   "execution_count": 5,
   "metadata": {},
   "outputs": [
    {
     "name": "stdout",
     "output_type": "stream",
     "text": [
      "0 1 2 3 4 5 6 7 8 9 10 11 12 13 14 15 16 17 18 19 20 21 22 23 24 25 26 27 28 29 30 31 32 33 34 35 36 37 38 39 40 41 42 43 44 45 46 47 48 49 50 51 52 53 54 55 56 57 58 59 60 61 62 63 64 65 66 67 68 69 70 71 72 73 74 75 76 77 78 79 80 81 82 83 84 85 86 87 88 89 90 91 92 93 94 95 96 97 98 99 "
     ]
    }
   ],
   "source": [
    "xs = []\n",
    "ys = []\n",
    "for i in range(100):\n",
    "    with Timer() as t:\n",
    "        s = simple_grammar_fuzzer(EXPR_GRAMMAR, max_symbols=15)\n",
    "    xs.append(len(s))\n",
    "    ys.append(t.elapsed_time())\n",
    "    print(i, end=\" \")"
   ]
  },
  {
   "cell_type": "code",
   "execution_count": 6,
   "metadata": {},
   "outputs": [
    {
     "data": {
      "image/png": "[encoded data removed]",
      "text/plain": [
       "<Figure size 432x288 with 1 Axes>"
      ]
     },
     "metadata": {},
     "output_type": "display_data"
    }
   ],
   "source": [
    "%matplotlib inline\n",
    "\n",
    "import matplotlib.pyplot as plt\n",
    "plt.scatter(xs, ys)\n",
    "plt.title('Time required for generating an output');"
   ]
  },
  {
   "cell_type": "markdown",
   "metadata": {},
   "source": [
    "We see that the effort increases quadratically."
   ]
  },
  {
   "cell_type": "markdown",
   "metadata": {},
   "source": [
    "\\todo{Discuss how we can have outputs that are 20,000 characters long}"
   ]
  },
  {
   "cell_type": "markdown",
   "metadata": {},
   "source": [
    "## Derivation Trees"
   ]
  },
  {
   "cell_type": "markdown",
   "metadata": {},
   "source": [
    "## Representing Derivation\n",
    "\n",
    "e.g. `<expr> + <expr>`"
   ]
  },
  {
   "cell_type": "code",
   "execution_count": 7,
   "metadata": {},
   "outputs": [],
   "source": [
    "import re\n",
    "import random"
   ]
  },
  {
   "cell_type": "code",
   "execution_count": 8,
   "metadata": {},
   "outputs": [],
   "source": [
    "from Grammars import START_SYMBOL, RE_SYMBOL, EXPR_GRAMMAR, symbols"
   ]
  },
  {
   "cell_type": "code",
   "execution_count": 9,
   "metadata": {},
   "outputs": [],
   "source": [
    "derivation_tree = (\"<start>\", \n",
    "        [(\"<expr>\", \n",
    "          [(\"<expr>\", None),\n",
    "           (\" + \", []),\n",
    "           (\"<expr>\", None)]\n",
    "         )])"
   ]
  },
  {
   "cell_type": "markdown",
   "metadata": {},
   "source": [
    "Let's visualize this tree!"
   ]
  },
  {
   "cell_type": "code",
   "execution_count": 10,
   "metadata": {},
   "outputs": [],
   "source": [
    "from pydot import Dot, Edge, Node\n",
    "from IPython.display import Image, display"
   ]
  },
  {
   "cell_type": "code",
   "execution_count": 11,
   "metadata": {},
   "outputs": [],
   "source": [
    "def display_tree(derivation_tree):\n",
    "    \"\"\"Visualize a derivation tree using dot layout.\"\"\"\n",
    "    counter = 0\n",
    "\n",
    "    def unique_id():\n",
    "        nonlocal counter\n",
    "        counter += 1\n",
    "        return counter\n",
    "    \n",
    "    def node(id, symbol):\n",
    "        lbl = symbol.replace(\"\\\\\", \"\\\\\\\\\").replace(\"<\", \"\\\\<\").replace(\">\", \"\\\\>\").replace(\"@\", \"\\\\@\").replace(\":\", \"\\\\:\")\n",
    "        return Node(id, label=lbl, shape=\"plain\")\n",
    "    \n",
    "    def traverse_tree(tree, graph, id=unique_id()):\n",
    "        (symbol, children) = tree\n",
    "        symbol_node = node(id, symbol)\n",
    "        graph.add_node(symbol_node)\n",
    "        if children is not None:\n",
    "            for child in children:\n",
    "                (child_symbol, _) = child\n",
    "                child_id = unique_id()\n",
    "                child_node = node(child_id, child_symbol)\n",
    "                graph.add_edge(Edge(symbol_node, child_node))\n",
    "                traverse_tree(child, graph, child_id)\n",
    "\n",
    "    graph = Dot(graph_type=\"digraph\")\n",
    "    traverse_tree(derivation_tree, graph)\n",
    "    display(Image(graph.create_png()))"
   ]
  },
  {
   "cell_type": "markdown",
   "metadata": {},
   "source": [
    "\\todo{Have a more general way of escaping dot strings.  Maybe just escape everything?}"
   ]
  },
  {
   "cell_type": "code",
   "execution_count": 12,
   "metadata": {},
   "outputs": [
    {
     "data": {
      "image/png": "[encoded data removed]",
      "text/plain": [
       "<IPython.core.display.Image object>"
      ]
     },
     "metadata": {},
     "output_type": "display_data"
    }
   ],
   "source": [
    "display_tree(derivation_tree)"
   ]
  },
  {
   "cell_type": "markdown",
   "metadata": {},
   "source": [
    "## Expanding a Node"
   ]
  },
  {
   "cell_type": "code",
   "execution_count": 13,
   "metadata": {},
   "outputs": [],
   "source": [
    "def init_tree(start_symbol=START_SYMBOL):\n",
    "    return (start_symbol, None)"
   ]
  },
  {
   "cell_type": "code",
   "execution_count": 14,
   "metadata": {},
   "outputs": [],
   "source": [
    "def is_symbol(s):\n",
    "    return re.match(RE_SYMBOL, s)"
   ]
  },
  {
   "cell_type": "code",
   "execution_count": 15,
   "metadata": {},
   "outputs": [],
   "source": [
    "assert is_symbol(\"<abc>\")\n",
    "assert not is_symbol(\"+\")"
   ]
  },
  {
   "cell_type": "code",
   "execution_count": 16,
   "metadata": {},
   "outputs": [],
   "source": [
    "def expansion_to_children(expansion):\n",
    "    # print(\"Converting \" + repr(expansion))\n",
    "    # strings contains all substrings -- both terminals and non-terminals such\n",
    "    # that ''.join(strings) == expansion\n",
    "    strings  = re.split(RE_SYMBOL, expansion)\n",
    "    return [(s, None) if is_symbol(s) else (s, []) for s in strings if len(s) > 0]"
   ]
  },
  {
   "cell_type": "code",
   "execution_count": 17,
   "metadata": {},
   "outputs": [
    {
     "data": {
      "text/plain": [
       "[('<term>', None), (' + ', []), ('<expr>', None)]"
      ]
     },
     "execution_count": 17,
     "metadata": {},
     "output_type": "execute_result"
    }
   ],
   "source": [
    "expansion_to_children(\"<term> + <expr>\")"
   ]
  },
  {
   "cell_type": "code",
   "execution_count": 18,
   "metadata": {},
   "outputs": [],
   "source": [
    "def expand_random_node(node, grammar):\n",
    "    (symbol, children) = node\n",
    "    assert children is None\n",
    "\n",
    "    # Fetch the possible expansions from grammar...\n",
    "    expansions = grammar[symbol]\n",
    "\n",
    "    possible_children = [expansion_to_children(expansion) for expansion in expansions]\n",
    "\n",
    "    # TODO: Consider preferring children not expanded yet,\n",
    "    # and other forms of grammar coverage (or code coverage)\n",
    "    children = random.choice(possible_children)\n",
    "\n",
    "    # Return with a new list\n",
    "    return (symbol, children)"
   ]
  },
  {
   "cell_type": "code",
   "execution_count": 19,
   "metadata": {},
   "outputs": [
    {
     "data": {
      "image/png": "[encoded data removed]",
      "text/plain": [
       "<IPython.core.display.Image object>"
      ]
     },
     "metadata": {},
     "output_type": "display_data"
    }
   ],
   "source": [
    "example_node = (\"<term>\", None)\n",
    "example_tree = expand_random_node(example_node, EXPR_GRAMMAR)\n",
    "display_tree(example_tree)"
   ]
  },
  {
   "cell_type": "markdown",
   "metadata": {},
   "source": [
    "## Expanding a Tree"
   ]
  },
  {
   "cell_type": "code",
   "execution_count": 20,
   "metadata": {},
   "outputs": [],
   "source": [
    "def possible_expansions(tree):\n",
    "    (symbol, children) = tree\n",
    "    if children is None:\n",
    "        return 1\n",
    "\n",
    "    number_of_expansions = sum(possible_expansions(c) for c in children)\n",
    "    return number_of_expansions"
   ]
  },
  {
   "cell_type": "code",
   "execution_count": 21,
   "metadata": {},
   "outputs": [],
   "source": [
    "assert possible_expansions(example_tree) == 2"
   ]
  },
  {
   "cell_type": "code",
   "execution_count": 22,
   "metadata": {},
   "outputs": [],
   "source": [
    "def any_possible_expansions(tree):\n",
    "    (symbol, children) = tree\n",
    "    if children is None: return True\n",
    "\n",
    "    return any(any_possible_expansions(c) for c in children)"
   ]
  },
  {
   "cell_type": "code",
   "execution_count": 23,
   "metadata": {},
   "outputs": [],
   "source": [
    "assert any_possible_expansions(example_tree)"
   ]
  },
  {
   "cell_type": "code",
   "execution_count": 24,
   "metadata": {},
   "outputs": [],
   "source": [
    "def expand_tree_once(tree, grammar, expand_node=expand_random_node):\n",
    "    (symbol, children) = tree\n",
    "    if children is None:\n",
    "        # Expand this node\n",
    "        return expand_node(tree, grammar)\n",
    "\n",
    "    # print(\"Expanding tree \" + repr(tree))\n",
    "\n",
    "    # Find all children with possible expansions\n",
    "    expandable_children = [i for (i, c) in enumerate(children) if any_possible_expansions(c)]\n",
    "\n",
    "    # Select a random child\n",
    "    # TODO: Various heuristics for choosing a child here,\n",
    "    # e.g. grammar or code coverage\n",
    "    child_to_be_expanded = random.choice(expandable_children)\n",
    "\n",
    "    # Expand it\n",
    "    new_child = expand_tree_once(children[child_to_be_expanded], grammar, expand_node)\n",
    "\n",
    "    new_children = (children[:child_to_be_expanded] +\n",
    "                    [new_child] +\n",
    "                    children[child_to_be_expanded + 1:])\n",
    "\n",
    "    new_tree = (symbol, new_children)\n",
    "\n",
    "    # print(\"Expanding tree \" + repr(tree) + \" into \" + repr(new_tree))\n",
    "\n",
    "    return new_tree"
   ]
  },
  {
   "cell_type": "code",
   "execution_count": 25,
   "metadata": {},
   "outputs": [
    {
     "data": {
      "image/png": "[encoded data removed]",
      "text/plain": [
       "<IPython.core.display.Image object>"
      ]
     },
     "metadata": {},
     "output_type": "display_data"
    }
   ],
   "source": [
    "example_tree_expanded = expand_tree_once(example_tree, EXPR_GRAMMAR)\n",
    "display_tree(example_tree_expanded)"
   ]
  },
  {
   "cell_type": "code",
   "execution_count": 26,
   "metadata": {},
   "outputs": [
    {
     "data": {
      "image/png": "[encoded data removed]",
      "text/plain": [
       "<IPython.core.display.Image object>"
      ]
     },
     "metadata": {},
     "output_type": "display_data"
    }
   ],
   "source": [
    "example_tree_expanded_twice = expand_tree_once(example_tree_expanded, EXPR_GRAMMAR)\n",
    "display_tree(example_tree_expanded_twice)"
   ]
  },
  {
   "cell_type": "markdown",
   "metadata": {},
   "source": [
    "## Closing the Expansion"
   ]
  },
  {
   "cell_type": "code",
   "execution_count": 27,
   "metadata": {},
   "outputs": [],
   "source": [
    "def symbol_min_cost(symbol, grammar, seen=set()):\n",
    "    expansions = grammar[symbol]\n",
    "    return min(min_expansions(e, grammar, seen | {symbol}) for e in expansions)"
   ]
  },
  {
   "cell_type": "code",
   "execution_count": 28,
   "metadata": {},
   "outputs": [],
   "source": [
    "def min_expansions(expansion, grammar, seen=set()):\n",
    "    syms = symbols(expansion)\n",
    "    # at least one expansion has no variable to expand.\n",
    "    if len(syms) == 0:\n",
    "        return 1\n",
    "\n",
    "    # if a variable present in the expansion is already in the stack, then it is\n",
    "    # recursion\n",
    "    if any(s in seen for s in syms):\n",
    "        return float('inf')\n",
    "\n",
    "    # the value of a expansion is the sum of all expandable variables inside + 1\n",
    "    return sum(symbol_min_cost(s, grammar, seen) for s in syms) + 1"
   ]
  },
  {
   "cell_type": "code",
   "execution_count": 29,
   "metadata": {},
   "outputs": [],
   "source": [
    "assert symbol_min_cost(\"<digit>\", EXPR_GRAMMAR) == 1"
   ]
  },
  {
   "cell_type": "code",
   "execution_count": 30,
   "metadata": {},
   "outputs": [
    {
     "name": "stdout",
     "output_type": "stream",
     "text": [
      "'<expr> + <term>' has cost inf\n",
      "'<expr> - <term>' has cost inf\n",
      "'<term>' has cost 5\n"
     ]
    }
   ],
   "source": [
    "for expansion in EXPR_GRAMMAR[\"<expr>\"]:\n",
    "    m = min_expansions(expansion, EXPR_GRAMMAR, seen={\"<expr>\"})\n",
    "    print(repr(expansion), \"has cost\", m)"
   ]
  },
  {
   "cell_type": "code",
   "execution_count": 31,
   "metadata": {},
   "outputs": [],
   "source": [
    "assert symbol_min_cost(\"<expr>\", EXPR_GRAMMAR) == 5"
   ]
  },
  {
   "cell_type": "code",
   "execution_count": 32,
   "metadata": {},
   "outputs": [],
   "source": [
    "def expand_min_expansions(node, grammar):\n",
    "    (symbol, children) = node\n",
    "    # print(\"Expanding \" + repr(symbol))\n",
    "    assert children is None\n",
    "\n",
    "    # Fetch the possible expansions from grammar...\n",
    "    expansions = grammar[symbol]\n",
    "\n",
    "    possible_children_with_cost = [(expansion_to_children(expansion),\n",
    "                                    min_expansions(expansion, grammar, {symbol}))\n",
    "                                  for expansion in expansions]\n",
    "\n",
    "    min_cost = min(cost for (child, cost) in possible_children_with_cost)\n",
    "    children_with_min_cost = [child for (child, child_cost) in possible_children_with_cost\n",
    "                              if child_cost == min_cost]\n",
    "\n",
    "    children = random.choice(children_with_min_cost)\n",
    "\n",
    "    # Return with a new list\n",
    "    return (symbol, children)"
   ]
  },
  {
   "cell_type": "markdown",
   "metadata": {},
   "source": [
    "## All Together"
   ]
  },
  {
   "cell_type": "code",
   "execution_count": 33,
   "metadata": {},
   "outputs": [],
   "source": [
    "def expand_tree(tree, grammar, max_symbols=10, disp=False, log=False):\n",
    "    \n",
    "    def _expand_tree_once(tree, grammar, expand_node, disp, log):\n",
    "        tree = expand_tree_once(tree, grammar, expand_node)\n",
    "        if disp:\n",
    "            display_tree(tree)\n",
    "            print(possible_expansions(tree), \"possible expansion(s) left\")\n",
    "        if log:\n",
    "            print(tree)\n",
    "        return tree\n",
    "\n",
    "    if disp or log:\n",
    "        print(\"Stage 1: Expanding until we reach\", max_symbols, \"unexpanded symbols\")\n",
    "\n",
    "    while 0 < possible_expansions(tree) < max_symbols:\n",
    "        tree = _expand_tree_once(tree, grammar, expand_random_node, disp, log)\n",
    "\n",
    "    if disp or log:\n",
    "        print(\"Stage 2: Keep on expanding using shortest expansions only\")\n",
    "\n",
    "    while any_possible_expansions(tree):\n",
    "        tree = _expand_tree_once(tree, grammar, expand_min_expansions, disp, log)\n",
    "        \n",
    "    assert possible_expansions(tree) == 0\n",
    "\n",
    "    return tree"
   ]
  },
  {
   "cell_type": "code",
   "execution_count": 34,
   "metadata": {},
   "outputs": [
    {
     "name": "stdout",
     "output_type": "stream",
     "text": [
      "Final tree\n"
     ]
    },
    {
     "data": {
      "image/png": "[encoded data removed]",
      "text/plain": [
       "<IPython.core.display.Image object>"
      ]
     },
     "metadata": {},
     "output_type": "display_data"
    }
   ],
   "source": [
    "expanded_tree = expand_tree(example_tree, EXPR_GRAMMAR, max_symbols=5, disp=False)\n",
    "print(\"Final tree\")\n",
    "display_tree(expanded_tree)"
   ]
  },
  {
   "cell_type": "code",
   "execution_count": 35,
   "metadata": {},
   "outputs": [],
   "source": [
    "def all_terminals(tree):\n",
    "    (symbol, children) = tree\n",
    "    if children is None:\n",
    "        # This is a nonterminal symbol not expanded yet\n",
    "        return symbol\n",
    "\n",
    "    if len(children) == 0:\n",
    "        # This is a terminal symbol\n",
    "        return symbol\n",
    "\n",
    "    # This is an expanded symbol:\n",
    "    # Concatenate all terminal symbols from all children\n",
    "    return ''.join([all_terminals(c) for c in children])"
   ]
  },
  {
   "cell_type": "code",
   "execution_count": 36,
   "metadata": {},
   "outputs": [
    {
     "data": {
      "text/plain": [
       "'5 * 8 / 6 * -5.9'"
      ]
     },
     "execution_count": 36,
     "metadata": {},
     "output_type": "execute_result"
    }
   ],
   "source": [
    "all_terminals(expanded_tree)"
   ]
  },
  {
   "cell_type": "code",
   "execution_count": 44,
   "metadata": {},
   "outputs": [],
   "source": [
    "def grammar_tree_fuzzer(grammar, max_symbols=10, start_symbol=START_SYMBOL, disp=False, log=False):\n",
    "    # Create an initial derivation tree\n",
    "    tree = init_tree(start_symbol)\n",
    "    # print(tree)\n",
    "\n",
    "    # Expand all nonterminals\n",
    "    tree = expand_tree(tree, grammar, max_symbols)\n",
    "    if disp:\n",
    "        print(repr(all_terminals(tree)))\n",
    "        display_tree(tree)\n",
    "    if log:\n",
    "        print(tree)\n",
    "\n",
    "    # Return the string\n",
    "    return all_terminals(tree)"
   ]
  },
  {
   "cell_type": "code",
   "execution_count": 45,
   "metadata": {},
   "outputs": [],
   "source": [
    "from Grammars import URL_GRAMMAR"
   ]
  },
  {
   "cell_type": "markdown",
   "metadata": {},
   "source": [
    "\\todo{We have trouble with expansions into empty strings - neither visualized, nor taken into account with all_terminals()}"
   ]
  },
  {
   "cell_type": "code",
   "execution_count": 46,
   "metadata": {},
   "outputs": [
    {
     "name": "stdout",
     "output_type": "stream",
     "text": [
      "'http://fuzzingbook.com:8080/<query>'\n",
      "('<start>', [('<call>', [('<url>', [('<scheme>', [('http', [])]), ('://', []), ('<authority>', [('<host>', [('fuzzingbook.com', [])]), (':', []), ('<port>', [('8080', [])])]), ('<path>', [('/', [])]), ('<query>', [])])])])\n"
     ]
    },
    {
     "data": {
      "image/png": "[encoded data removed]",
      "text/plain": [
       "<IPython.core.display.Image object>"
      ]
     },
     "metadata": {},
     "output_type": "display_data"
    }
   ],
   "source": [
    "expanded_tree = expand_tree(init_tree(), URL_GRAMMAR, max_symbols=5)\n",
    "print(repr(all_terminals(expanded_tree)))\n",
    "print(expanded_tree)\n",
    "display_tree(expanded_tree)"
   ]
  },
  {
   "cell_type": "code",
   "execution_count": 47,
   "metadata": {},
   "outputs": [
    {
     "name": "stdout",
     "output_type": "stream",
     "text": [
      "0 1 2 3 4 5 6 7 8 9 10 11 12 13 14 15 16 17 18 19 20 21 22 23 24 25 26 27 28 29 30 31 32 33 34 35 36 37 38 39 40 41 42 43 44 45 46 47 48 49 50 51 52 53 54 55 56 57 58 59 60 61 62 63 64 65 66 67 68 69 70 71 72 73 74 75 76 77 78 79 80 81 82 83 84 85 86 87 88 89 90 91 92 93 94 95 96 97 98 99 "
     ]
    }
   ],
   "source": [
    "xs = []\n",
    "ys = []\n",
    "for i in range(100):\n",
    "    with Timer() as t:\n",
    "        s = grammar_tree_fuzzer(EXPR_GRAMMAR, max_symbols=20)\n",
    "    xs.append(len(s))\n",
    "    ys.append(t.elapsed_time())\n",
    "    print(i, end=\" \")"
   ]
  },
  {
   "cell_type": "code",
   "execution_count": 49,
   "metadata": {},
   "outputs": [
    {
     "data": {
      "image/png": "[encoded data removed]",
      "text/plain": [
       "<Figure size 432x288 with 1 Axes>"
      ]
     },
     "metadata": {},
     "output_type": "display_data"
    }
   ],
   "source": [
    "%matplotlib inline\n",
    "\n",
    "import matplotlib.pyplot as plt\n",
    "plt.scatter(xs, ys)\n",
    "plt.title('Time required for generating an output');"
   ]
  },
  {
   "cell_type": "markdown",
   "metadata": {
    "button": false,
    "deletable": true,
    "new_sheet": true,
    "run_control": {
     "read_only": false
    }
   },
   "source": [
    "## Lessons Learned\n",
    "\n",
    "* _Lesson one_\n",
    "* _Lesson two_\n",
    "* _Lesson three_"
   ]
  },
  {
   "cell_type": "code",
   "execution_count": null,
   "metadata": {},
   "outputs": [],
   "source": []
  },
  {
   "cell_type": "markdown",
   "metadata": {
    "button": false,
    "deletable": true,
    "new_sheet": false,
    "run_control": {
     "read_only": false
    }
   },
   "source": [
    "## Next Steps\n",
    "\n",
    "_Link to subsequent chapters (notebooks) here, as in:_\n",
    "\n",
    "* [use _mutations_ on existing inputs to get more valid inputs](Mutation_Fuzzing.ipynb)\n",
    "* [use _grammars_ (i.e., a specification of the input format) to get even more valid inputs](Grammars.ipynb)\n",
    "* [reduce _failing inputs_ for efficient debugging](Reducing.ipynb)\n"
   ]
  },
  {
   "cell_type": "markdown",
   "metadata": {
    "button": false,
    "deletable": true,
    "new_sheet": false,
    "run_control": {
     "read_only": false
    }
   },
   "source": [
    "## Exercises\n",
    "\n",
    "_Close the chapter with a few exercises such that people have things to do.  Use the Jupyter `Exercise2` nbextension to add solutions that can be interactively viewed or hidden.  (Alternatively, just copy the exercise and solution cells below with their metadata.)  We will set up things such that solutions do not appear in the PDF and HTML formats._"
   ]
  },
  {
   "cell_type": "markdown",
   "metadata": {
    "button": false,
    "deletable": true,
    "new_sheet": false,
    "run_control": {
     "read_only": false
    },
    "solution": "hidden",
    "solution2": "hidden",
    "solution2_first": true,
    "solution_first": true
   },
   "source": [
    "### Exercise 1\n"
   ]
  },
  {
   "cell_type": "markdown",
   "metadata": {
    "button": false,
    "deletable": true,
    "new_sheet": false,
    "run_control": {
     "read_only": false
    },
    "solution": "hidden",
    "solution2": "hidden"
   },
   "source": [
    "_Solution for the exercise_"
   ]
  }
 ],
 "metadata": {
  "celltoolbar": "Edit Metadata",
  "ipub": {
   "bibliography": "gstbook.bib",
   "listcode": false,
   "listfigures": false,
   "listtables": false,
   "titlepage": {
    "author": "Andreas Zeller, Rahul Gopinath, Gordon Fraser, and Christian Holler",
    "subtitle": "Generating Software Tests",
    "title": "A Chapter"
   },
   "toc": true
  },
  "kernelspec": {
   "display_name": "Python 3",
   "language": "python",
   "name": "python3"
  },
  "language_info": {
   "codemirror_mode": {
    "name": "ipython",
    "version": 3
   },
   "file_extension": ".py",
   "mimetype": "text/x-python",
   "name": "python",
   "nbconvert_exporter": "python",
   "pygments_lexer": "ipython3",
   "version": "3.6.5"
  },
  "toc": {
   "base_numbering": 1,
   "nav_menu": {},
   "number_sections": true,
   "sideBar": true,
   "skip_h1_title": true,
   "title_cell": "",
   "title_sidebar": "Contents",
   "toc_cell": false,
   "toc_position": {},
   "toc_section_display": true,
   "toc_window_display": true
  }
 },
 "nbformat": 4,
 "nbformat_minor": 2
}
