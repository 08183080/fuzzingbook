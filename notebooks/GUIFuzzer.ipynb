{
 "cells": [
  {
   "cell_type": "markdown",
   "metadata": {
    "button": false,
    "new_sheet": false,
    "run_control": {
     "read_only": false
    }
   },
   "source": [
    "# Testing Graphical User Interfaces\n",
    "\n",
    "In this chapter, we explore how to generate tests for Graphical User Interfaces (GUIs), abstracting from our [previous examples on Web testing](WebFuzzer.ipynb).  Building on general means to extract user interface elements and to activate them, our techniques generalize to arbitrary graphical user interfaces, from rich Web applications to mobile apps."
   ]
  },
  {
   "cell_type": "markdown",
   "metadata": {
    "button": false,
    "new_sheet": false,
    "run_control": {
     "read_only": false
    }
   },
   "source": [
    "**Prerequisites**\n",
    "\n",
    "* We build on the Web server introduced in the [chapter on Web testing](WebFuzzer.ipynb)."
   ]
  },
  {
   "cell_type": "markdown",
   "metadata": {
    "button": false,
    "new_sheet": true,
    "run_control": {
     "read_only": false
    }
   },
   "source": [
    "## Automated GUI Interaction\n",
    "\n",
    "With our Web server: no JavaScript, no rich interfaces.  Also: Limited to Web.\n",
    "\n",
    "How can we automate interaction?"
   ]
  },
  {
   "cell_type": "markdown",
   "metadata": {
    "button": false,
    "new_sheet": true,
    "run_control": {
     "read_only": false
    }
   },
   "source": [
    "### Our Web Server, Again\n",
    "\n",
    "We (again) run our Web server."
   ]
  },
  {
   "cell_type": "code",
   "execution_count": null,
   "metadata": {
    "button": false,
    "new_sheet": false,
    "run_control": {
     "read_only": false
    },
    "slideshow": {
     "slide_type": "skip"
    }
   },
   "outputs": [],
   "source": [
    "import fuzzingbook_utils"
   ]
  },
  {
   "cell_type": "code",
   "execution_count": null,
   "metadata": {},
   "outputs": [],
   "source": [
    "from WebFuzzer import init_db, start_httpd, webbrowser, print_httpd_messages, print_url, ORDERS_DB"
   ]
  },
  {
   "cell_type": "code",
   "execution_count": null,
   "metadata": {},
   "outputs": [],
   "source": [
    "db = init_db()"
   ]
  },
  {
   "cell_type": "code",
   "execution_count": null,
   "metadata": {},
   "outputs": [],
   "source": [
    "httpd_process, httpd_url = start_httpd()\n",
    "print_url(httpd_url)"
   ]
  },
  {
   "cell_type": "code",
   "execution_count": null,
   "metadata": {},
   "outputs": [],
   "source": [
    "from IPython.core.display import display, Image\n",
    "from fuzzingbook_utils import HTML"
   ]
  },
  {
   "cell_type": "code",
   "execution_count": null,
   "metadata": {},
   "outputs": [],
   "source": [
    "HTML(webbrowser(httpd_url))"
   ]
  },
  {
   "cell_type": "markdown",
   "metadata": {
    "button": false,
    "new_sheet": false,
    "run_control": {
     "read_only": false
    }
   },
   "source": [
    "### Remote Control with Selenium\n",
    "\n",
    "Let us just look at the GUI, above.  We do not assume we can access the HTML source, or even the URL of the current page.  All we assume is that there is a set of *user interface elements* we can interact with."
   ]
  },
  {
   "cell_type": "markdown",
   "metadata": {},
   "source": [
    "Documentation is available [here.](https://selenium-python.readthedocs.io/index.html)"
   ]
  },
  {
   "cell_type": "code",
   "execution_count": null,
   "metadata": {},
   "outputs": [],
   "source": [
    "from selenium import webdriver"
   ]
  },
  {
   "cell_type": "code",
   "execution_count": null,
   "metadata": {},
   "outputs": [],
   "source": [
    "from selenium.webdriver.firefox.options import Options"
   ]
  },
  {
   "cell_type": "code",
   "execution_count": null,
   "metadata": {},
   "outputs": [],
   "source": [
    "options = Options()\n",
    "options.headless = True"
   ]
  },
  {
   "cell_type": "code",
   "execution_count": null,
   "metadata": {},
   "outputs": [],
   "source": [
    "from selenium.webdriver.firefox.firefox_profile import FirefoxProfile"
   ]
  },
  {
   "cell_type": "code",
   "execution_count": null,
   "metadata": {},
   "outputs": [],
   "source": [
    "ZOOM = 1.4\n",
    "profile = FirefoxProfile()\n",
    "profile.set_preference(\"layout.css.devPixelsPerPx\", repr(ZOOM))"
   ]
  },
  {
   "cell_type": "code",
   "execution_count": null,
   "metadata": {},
   "outputs": [],
   "source": [
    "driver = webdriver.Firefox(firefox_profile=profile, options=options)"
   ]
  },
  {
   "cell_type": "code",
   "execution_count": null,
   "metadata": {},
   "outputs": [],
   "source": [
    "# Alternative: Chrome\n",
    "\n",
    "# options = webdriver.ChromeOptions()\n",
    "# options.add_argument('headless')\n",
    "# options.add_argument('window-size=700x230')\n",
    "# driver = webdriver.Chrome(options=options)"
   ]
  },
  {
   "cell_type": "code",
   "execution_count": null,
   "metadata": {},
   "outputs": [],
   "source": [
    "driver.get(httpd_url)"
   ]
  },
  {
   "cell_type": "code",
   "execution_count": null,
   "metadata": {},
   "outputs": [],
   "source": [
    "print_httpd_messages()"
   ]
  },
  {
   "cell_type": "code",
   "execution_count": null,
   "metadata": {},
   "outputs": [],
   "source": [
    "Image(driver.get_screenshot_as_png())"
   ]
  },
  {
   "cell_type": "markdown",
   "metadata": {},
   "source": [
    "### Filling out Forms"
   ]
  },
  {
   "cell_type": "code",
   "execution_count": null,
   "metadata": {},
   "outputs": [],
   "source": [
    "name = driver.find_element_by_name(\"name\")\n",
    "name.send_keys(\"Jane Doe\")"
   ]
  },
  {
   "cell_type": "code",
   "execution_count": null,
   "metadata": {},
   "outputs": [],
   "source": [
    "Image(driver.get_screenshot_as_png())"
   ]
  },
  {
   "cell_type": "code",
   "execution_count": null,
   "metadata": {},
   "outputs": [],
   "source": [
    "email = driver.find_element_by_name(\"email\")\n",
    "email.send_keys(\"j.doe@example.com\")"
   ]
  },
  {
   "cell_type": "code",
   "execution_count": null,
   "metadata": {},
   "outputs": [],
   "source": [
    "Image(driver.get_screenshot_as_png())"
   ]
  },
  {
   "cell_type": "code",
   "execution_count": null,
   "metadata": {},
   "outputs": [],
   "source": [
    "city = driver.find_element_by_name('city')\n",
    "city.send_keys(\"Seattle\")"
   ]
  },
  {
   "cell_type": "code",
   "execution_count": null,
   "metadata": {},
   "outputs": [],
   "source": [
    "zip = driver.find_element_by_name('zip')\n",
    "zip.send_keys(\"98104\")"
   ]
  },
  {
   "cell_type": "code",
   "execution_count": null,
   "metadata": {},
   "outputs": [],
   "source": [
    "terms = driver.find_element_by_name('terms')\n",
    "terms.click()"
   ]
  },
  {
   "cell_type": "code",
   "execution_count": null,
   "metadata": {},
   "outputs": [],
   "source": [
    "Image(driver.get_screenshot_as_png())"
   ]
  },
  {
   "cell_type": "code",
   "execution_count": null,
   "metadata": {},
   "outputs": [],
   "source": [
    "submit = driver.find_element_by_name('submit')\n",
    "submit.click()"
   ]
  },
  {
   "cell_type": "code",
   "execution_count": null,
   "metadata": {},
   "outputs": [],
   "source": [
    "print_httpd_messages()"
   ]
  },
  {
   "cell_type": "code",
   "execution_count": null,
   "metadata": {},
   "outputs": [],
   "source": [
    "Image(driver.get_screenshot_as_png())"
   ]
  },
  {
   "cell_type": "markdown",
   "metadata": {},
   "source": [
    "### Navigating"
   ]
  },
  {
   "cell_type": "code",
   "execution_count": null,
   "metadata": {},
   "outputs": [],
   "source": [
    "driver.back()"
   ]
  },
  {
   "cell_type": "code",
   "execution_count": null,
   "metadata": {},
   "outputs": [],
   "source": [
    "Image(driver.get_screenshot_as_png())"
   ]
  },
  {
   "cell_type": "code",
   "execution_count": null,
   "metadata": {
    "button": false,
    "new_sheet": false,
    "run_control": {
     "read_only": false
    },
    "slideshow": {
     "slide_type": "subslide"
    }
   },
   "outputs": [],
   "source": [
    "links = driver.find_elements_by_tag_name(\"a\")"
   ]
  },
  {
   "cell_type": "code",
   "execution_count": null,
   "metadata": {},
   "outputs": [],
   "source": [
    "links[0].get_attribute('href')"
   ]
  },
  {
   "cell_type": "code",
   "execution_count": null,
   "metadata": {},
   "outputs": [],
   "source": [
    "links[0].click()"
   ]
  },
  {
   "cell_type": "code",
   "execution_count": null,
   "metadata": {},
   "outputs": [],
   "source": [
    "print_httpd_messages()"
   ]
  },
  {
   "cell_type": "code",
   "execution_count": null,
   "metadata": {},
   "outputs": [],
   "source": [
    "Image(driver.get_screenshot_as_png())"
   ]
  },
  {
   "cell_type": "code",
   "execution_count": null,
   "metadata": {},
   "outputs": [],
   "source": [
    "driver.back()"
   ]
  },
  {
   "cell_type": "code",
   "execution_count": null,
   "metadata": {},
   "outputs": [],
   "source": [
    "print_httpd_messages()"
   ]
  },
  {
   "cell_type": "code",
   "execution_count": null,
   "metadata": {},
   "outputs": [],
   "source": [
    "Image(driver.get_screenshot_as_png())"
   ]
  },
  {
   "cell_type": "markdown",
   "metadata": {
    "button": false,
    "new_sheet": false,
    "run_control": {
     "read_only": false
    },
    "slideshow": {
     "slide_type": "subslide"
    }
   },
   "source": [
    "## Retrieving UI Elements"
   ]
  },
  {
   "cell_type": "code",
   "execution_count": null,
   "metadata": {},
   "outputs": [],
   "source": [
    "driver.get(httpd_url)"
   ]
  },
  {
   "cell_type": "code",
   "execution_count": null,
   "metadata": {},
   "outputs": [],
   "source": [
    "Image(driver.get_screenshot_as_png())"
   ]
  },
  {
   "cell_type": "code",
   "execution_count": null,
   "metadata": {
    "button": false,
    "new_sheet": false,
    "run_control": {
     "read_only": false
    },
    "slideshow": {
     "slide_type": "subslide"
    }
   },
   "outputs": [],
   "source": [
    "ui_elements = driver.find_elements_by_tag_name(\"input\")"
   ]
  },
  {
   "cell_type": "code",
   "execution_count": null,
   "metadata": {},
   "outputs": [],
   "source": [
    "for element in ui_elements:\n",
    "    print(element.get_attribute('name'), element.get_attribute('type'), element.text)"
   ]
  },
  {
   "cell_type": "code",
   "execution_count": null,
   "metadata": {
    "button": false,
    "new_sheet": false,
    "run_control": {
     "read_only": false
    },
    "slideshow": {
     "slide_type": "subslide"
    }
   },
   "outputs": [],
   "source": [
    "ui_elements = driver.find_elements_by_tag_name(\"button\")"
   ]
  },
  {
   "cell_type": "code",
   "execution_count": null,
   "metadata": {},
   "outputs": [],
   "source": [
    "for element in ui_elements:\n",
    "    print(element.get_attribute('name'), element.get_attribute('type'), element.text)"
   ]
  },
  {
   "cell_type": "markdown",
   "metadata": {},
   "source": [
    "\\todo{Use a grammar to fill out a set of fields, generating a sequence of calls:}\n",
    "\n",
    "```python\n",
    "name.click()\n",
    "city.send_keys(\"foo\")\n",
    "```"
   ]
  },
  {
   "cell_type": "code",
   "execution_count": null,
   "metadata": {},
   "outputs": [],
   "source": [
    "class UIElement(object):\n",
    "    def __init__(self, name):\n",
    "        self._name = name\n",
    "\n",
    "    def name(self):\n",
    "        return self._name\n",
    "\n",
    "    def find(self, driver):\n",
    "        try:\n",
    "            elem = driver.find_element_by_name(self.name())\n",
    "        except NoSuchElementException:\n",
    "            elem = driver.find_element_by_link_text(self.name())\n",
    "        return elem\n",
    "    \n",
    "    def run(self, driver):\n",
    "        pass"
   ]
  },
  {
   "cell_type": "code",
   "execution_count": null,
   "metadata": {},
   "outputs": [],
   "source": [
    "class ClickUIElement(UIElement):\n",
    "    def __init__(self, name):\n",
    "        super().__init__(name)\n",
    "    def __repr__(self):\n",
    "        return \"click(%s)\" % (repr(self.name()))\n",
    "    \n",
    "    def run(self, driver):\n",
    "        self.find(driver).click()"
   ]
  },
  {
   "cell_type": "code",
   "execution_count": null,
   "metadata": {},
   "outputs": [],
   "source": [
    "class SubmitUIElement(UIElement):\n",
    "    def __init__(self, name):\n",
    "        super().__init__(name)\n",
    "    def __repr__(self):\n",
    "        return \"submit(%s)\" % (repr(self.name()))\n",
    "    \n",
    "    def run(self, driver):\n",
    "        self.find(driver).click()"
   ]
  },
  {
   "cell_type": "code",
   "execution_count": null,
   "metadata": {},
   "outputs": [],
   "source": [
    "class FillUIElement(UIElement):\n",
    "    def __init__(self, name, type):\n",
    "        super().__init__(name)\n",
    "        self._type = type\n",
    "        self._value = None\n",
    "    def type(self):\n",
    "        return self._type\n",
    "    def set_value(self, value):\n",
    "        self._value = value\n",
    "    def value(self):\n",
    "        return self._value\n",
    "\n",
    "    def __repr__(self):\n",
    "        if self.value() is None:\n",
    "            return \"fill(%s, <%s>)\" % (repr(self.name()), self.type())\n",
    "        else:\n",
    "            return \"fill(%s, %s)\" % (repr(self.name()), repr(self.value()))\n",
    "\n",
    "    def run(self, driver):\n",
    "        self.find(driver).send_keys(self.value())"
   ]
  },
  {
   "cell_type": "code",
   "execution_count": null,
   "metadata": {},
   "outputs": [],
   "source": [
    "class UIGrammarMiner(object):\n",
    "    def __init__(self, driver):\n",
    "        self.driver = driver\n",
    "        self.grammar = {}"
   ]
  },
  {
   "cell_type": "code",
   "execution_count": null,
   "metadata": {},
   "outputs": [],
   "source": [
    "class UIGrammarMiner(UIGrammarMiner):\n",
    "    def ui_elements(self):\n",
    "        elements = set()\n",
    "        for elem in driver.find_elements_by_tag_name(\"input\"):\n",
    "            input_type = elem.get_attribute(\"type\")\n",
    "            input_name = elem.get_attribute(\"name\")\n",
    "            if input_name is None:\n",
    "                input_name = elem.text\n",
    "\n",
    "            if input_type in [\"button\", \"checkbox\", \"radio\"]:\n",
    "                elements.add(ClickUIElement(input_name))\n",
    "            elif input_type in [\"text\", \"number\", \"password\"]:\n",
    "                elements.add(FillUIElement(input_name, input_type))\n",
    "            elif input_type in [\"submit\"]:\n",
    "                elements.add(SubmitUIElement(input_name))\n",
    "            else:\n",
    "                # TODO: Handle more types here\n",
    "                elements.add(FillUIElement(input_name, input_type))\n",
    "\n",
    "        for elem in driver.find_elements_by_tag_name(\"button\"):\n",
    "            button_type = elem.get_attribute(\"type\")\n",
    "            button_name = elem.get_attribute(\"name\")\n",
    "            if button_name is None:\n",
    "                button_name = elem.text\n",
    "            if button_type == \"submit\":\n",
    "                elements.add(SubmitUIElement(button_name))\n",
    "            elif button_type != \"reset\":\n",
    "                elements.add(ClickUIElement(button_name))\n",
    "\n",
    "        for elem in driver.find_elements_by_tag_name(\"a\"):\n",
    "            a_href = elem.get_attribute(\"href\")\n",
    "            if a_href is not None:\n",
    "                elements.add(ClickUIElement(elem.text))\n",
    "\n",
    "        return elements"
   ]
  },
  {
   "cell_type": "code",
   "execution_count": null,
   "metadata": {},
   "outputs": [],
   "source": [
    "ui_grammar_miner = UIGrammarMiner(driver)\n",
    "ui_grammar_miner.ui_elements()"
   ]
  },
  {
   "cell_type": "markdown",
   "metadata": {},
   "source": [
    "This set of interactive elements makes up a _page_."
   ]
  },
  {
   "cell_type": "markdown",
   "metadata": {},
   "source": [
    "## Systematic GUI Exploration"
   ]
  },
  {
   "cell_type": "markdown",
   "metadata": {},
   "source": [
    "### Representing States as Grammars"
   ]
  },
  {
   "cell_type": "markdown",
   "metadata": {},
   "source": [
    "\\todo{Fill out forms, click on all links, exploring one page after another}"
   ]
  },
  {
   "cell_type": "markdown",
   "metadata": {},
   "source": [
    "\\todo{Have a generic interface `BaseGrammarMiner` with `__init__()` and `mine_grammar()`}"
   ]
  },
  {
   "cell_type": "code",
   "execution_count": null,
   "metadata": {},
   "outputs": [],
   "source": [
    "from Grammars import new_symbol"
   ]
  },
  {
   "cell_type": "code",
   "execution_count": null,
   "metadata": {},
   "outputs": [],
   "source": [
    "from Grammars import nonterminals, START_SYMBOL"
   ]
  },
  {
   "cell_type": "code",
   "execution_count": null,
   "metadata": {},
   "outputs": [],
   "source": [
    "class UIGrammarMiner(UIGrammarMiner):\n",
    "    UNEXPLORED_STATE = [\"<unknown>\"]\n",
    "    FINAL_STATE = [\"<end>\"]\n",
    "    \n",
    "    def new_state(self, grammar):\n",
    "        return new_symbol(grammar, \"<state>\")\n",
    "\n",
    "    def mine_page_grammar(self, grammar, state=None):\n",
    "        if state is None:\n",
    "            state = self.new_state(grammar)\n",
    "            grammar[state] = []\n",
    "        \n",
    "        alternatives = []\n",
    "        form = \"\"\n",
    "        submit = None\n",
    "        \n",
    "        for element in self.ui_elements():\n",
    "            if isinstance(element, SubmitUIElement):\n",
    "                submit = element\n",
    "            elif isinstance(element, ClickUIElement):\n",
    "                link_target = self.new_state(grammar)\n",
    "                grammar[link_target] = self.UNEXPLORED_STATE\n",
    "                alternatives.append(repr(element) + '\\n' + link_target)\n",
    "            elif isinstance(element, FillUIElement):\n",
    "                if len(form) > 0:\n",
    "                    form += '\\n'\n",
    "                form += repr(element)\n",
    "\n",
    "        if submit is not None:\n",
    "            if len(form) > 0:\n",
    "                form += '\\n'\n",
    "            form += repr(submit)\n",
    "            \n",
    "        if len(form) > 0:\n",
    "            form_target = self.new_state(grammar)\n",
    "            grammar[form_target] = self.UNEXPLORED_STATE\n",
    "            alternatives.append(form + '\\n' + form_target)\n",
    "            \n",
    "        alternatives += self.FINAL_STATE\n",
    "\n",
    "        grammar[state] = alternatives\n",
    "        return grammar"
   ]
  },
  {
   "cell_type": "code",
   "execution_count": null,
   "metadata": {},
   "outputs": [],
   "source": [
    "ui_grammar_miner = UIGrammarMiner(driver)\n",
    "page_grammar = ui_grammar_miner.mine_page_grammar(grammar={})\n",
    "page_grammar[START_SYMBOL] = [\"<state>\"]\n",
    "page_grammar['<unknown>'] = [\"\"]\n",
    "page_grammar['<end>'] = [\"\"]\n",
    "page_grammar"
   ]
  },
  {
   "cell_type": "markdown",
   "metadata": {},
   "source": [
    "The grammar actually encodes a Finite State Machine:"
   ]
  },
  {
   "cell_type": "code",
   "execution_count": null,
   "metadata": {},
   "outputs": [],
   "source": [
    "from graphviz import Digraph\n",
    "from IPython.display import display\n",
    "from GrammarFuzzer import dot_escape\n",
    "from collections import deque"
   ]
  },
  {
   "cell_type": "code",
   "execution_count": null,
   "metadata": {},
   "outputs": [],
   "source": [
    "def fsm_diagram(grammar, start_symbol=START_SYMBOL):\n",
    "    dot = Digraph(comment=\"Grammar as Finite State Machine\")\n",
    "\n",
    "    symbols = deque([start_symbol])\n",
    "    symbols_seen = set()\n",
    "    \n",
    "    while len(symbols) > 0:\n",
    "        symbol = symbols.popleft()\n",
    "        symbols_seen.add(symbol)\n",
    "        dot.node(symbol, dot_escape(symbol))\n",
    "        \n",
    "        for expansion in grammar[symbol]:\n",
    "            nts = nonterminals(expansion)\n",
    "            if len(nts) > 0:\n",
    "                target_symbol = nts[-1]\n",
    "                symbols.append(target_symbol)\n",
    "                transition_label = expansion[:expansion.find(target_symbol)]\n",
    "                dot.edge(symbol, target_symbol, transition_label.replace('\\n', r'\\l'))\n",
    "\n",
    "    display(dot)"
   ]
  },
  {
   "cell_type": "code",
   "execution_count": null,
   "metadata": {},
   "outputs": [],
   "source": [
    "fsm_diagram(page_grammar)"
   ]
  },
  {
   "cell_type": "markdown",
   "metadata": {},
   "source": [
    "### Exploring States"
   ]
  },
  {
   "cell_type": "markdown",
   "metadata": {},
   "source": [
    "What is in unknown?"
   ]
  },
  {
   "cell_type": "markdown",
   "metadata": {
    "button": false,
    "new_sheet": false,
    "run_control": {
     "read_only": false
    },
    "slideshow": {
     "slide_type": "slide"
    }
   },
   "source": [
    "## Fun with FuzzingBook\n",
    "\n",
    "\\todo{Create a full map of fuzzingbook.org, only by navigating}"
   ]
  },
  {
   "cell_type": "code",
   "execution_count": null,
   "metadata": {},
   "outputs": [],
   "source": [
    "driver.get(\"https://www.fuzzingbook.org/\")"
   ]
  },
  {
   "cell_type": "code",
   "execution_count": null,
   "metadata": {},
   "outputs": [],
   "source": [
    "Image(driver.get_screenshot_as_png())"
   ]
  },
  {
   "cell_type": "code",
   "execution_count": null,
   "metadata": {
    "button": false,
    "new_sheet": false,
    "run_control": {
     "read_only": false
    },
    "slideshow": {
     "slide_type": "subslide"
    }
   },
   "outputs": [],
   "source": [
    "pass\n",
    "# links = driver.find_elements_by_tag_name(\"a\")\n",
    "# for link in links:\n",
    "#     print(link.tag_name, link.text, link.get_attribute(\"href\"))"
   ]
  },
  {
   "cell_type": "markdown",
   "metadata": {},
   "source": [
    "That's it – we're done!"
   ]
  },
  {
   "cell_type": "code",
   "execution_count": null,
   "metadata": {},
   "outputs": [],
   "source": [
    "driver.quit()"
   ]
  },
  {
   "cell_type": "code",
   "execution_count": null,
   "metadata": {},
   "outputs": [],
   "source": [
    "httpd_process.terminate()"
   ]
  },
  {
   "cell_type": "code",
   "execution_count": null,
   "metadata": {},
   "outputs": [],
   "source": [
    "import os"
   ]
  },
  {
   "cell_type": "code",
   "execution_count": null,
   "metadata": {},
   "outputs": [],
   "source": [
    "for temp_file in [ORDERS_DB, \"geckodriver.log\", \"ghostdriver.log\"]:\n",
    "    if os.path.exists(temp_file):\n",
    "        os.remove(temp_file)"
   ]
  },
  {
   "cell_type": "markdown",
   "metadata": {
    "button": false,
    "new_sheet": true,
    "run_control": {
     "read_only": false
    }
   },
   "source": [
    "## Lessons Learned\n",
    "\n",
    "* _Lesson one_\n",
    "* _Lesson two_\n",
    "* _Lesson three_"
   ]
  },
  {
   "cell_type": "markdown",
   "metadata": {
    "button": false,
    "new_sheet": false,
    "run_control": {
     "read_only": false
    }
   },
   "source": [
    "## Next Steps\n",
    "\n",
    "_Link to subsequent chapters (notebooks) here, as in:_\n",
    "\n",
    "* [use _mutations_ on existing inputs to get more valid inputs](MutationFuzzer.ipynb)\n",
    "* [use _grammars_ (i.e., a specification of the input format) to get even more valid inputs](Grammars.ipynb)\n",
    "* [reduce _failing inputs_ for efficient debugging](Reducer.ipynb)\n"
   ]
  },
  {
   "cell_type": "markdown",
   "metadata": {},
   "source": [
    "## Background\n",
    "\n",
    "_Cite relevant works in the literature and put them into context, as in:_\n",
    "\n",
    "The idea of ensuring that each expansion in the grammar is used at least once goes back to Burkhardt \\cite{Burkhardt1967}, to be later rediscovered by Paul Purdom \\cite{Purdom1972}."
   ]
  },
  {
   "cell_type": "markdown",
   "metadata": {
    "button": false,
    "new_sheet": true,
    "run_control": {
     "read_only": false
    }
   },
   "source": [
    "## Exercises\n",
    "\n",
    "_Close the chapter with a few exercises such that people have things to do.  To make the solutions hidden (to be revealed by the user), have them start with_\n",
    "\n",
    "```markdown\n",
    "**Solution.**\n",
    "```\n",
    "\n",
    "_Your solution can then extend up to the next title (i.e., any markdown cell starting with `#`)._\n",
    "\n",
    "_Running `make metadata` will automatically add metadata to the cells such that the cells will be hidden by default, and can be uncovered by the user.  The button will be introduced above the solution._"
   ]
  },
  {
   "cell_type": "markdown",
   "metadata": {
    "button": false,
    "new_sheet": false,
    "run_control": {
     "read_only": false
    }
   },
   "source": [
    "### Exercise 1: _Title_\n",
    "\n",
    "_Text of the exercise_"
   ]
  },
  {
   "cell_type": "code",
   "execution_count": null,
   "metadata": {
    "cell_style": "center"
   },
   "outputs": [],
   "source": [
    "# Some code that is part of the exercise\n",
    "pass"
   ]
  },
  {
   "cell_type": "markdown",
   "metadata": {
    "solution2": "hidden",
    "solution2_first": true
   },
   "source": [
    "_Some more text for the exercise_"
   ]
  },
  {
   "cell_type": "markdown",
   "metadata": {
    "slideshow": {
     "slide_type": "skip"
    },
    "solution2": "hidden"
   },
   "source": [
    "**Solution.** _Some text for the solution_"
   ]
  },
  {
   "cell_type": "code",
   "execution_count": null,
   "metadata": {
    "cell_style": "split",
    "slideshow": {
     "slide_type": "skip"
    },
    "solution2": "hidden"
   },
   "outputs": [],
   "source": [
    "# Some code for the solution\n",
    "2 + 2"
   ]
  },
  {
   "cell_type": "markdown",
   "metadata": {
    "slideshow": {
     "slide_type": "skip"
    },
    "solution2": "hidden"
   },
   "source": [
    "_Some more text for the solution_"
   ]
  },
  {
   "cell_type": "markdown",
   "metadata": {
    "button": false,
    "new_sheet": false,
    "run_control": {
     "read_only": false
    },
    "solution": "hidden",
    "solution2": "hidden",
    "solution2_first": true,
    "solution_first": true
   },
   "source": [
    "### Exercise 2: _Title_\n",
    "\n",
    "_Text of the exercise_"
   ]
  },
  {
   "cell_type": "markdown",
   "metadata": {
    "button": false,
    "new_sheet": false,
    "run_control": {
     "read_only": false
    },
    "slideshow": {
     "slide_type": "skip"
    },
    "solution": "hidden",
    "solution2": "hidden"
   },
   "source": [
    "**Solution.** _Solution for the exercise_"
   ]
  }
 ],
 "metadata": {
  "ipub": {
   "bibliography": "fuzzingbook.bib",
   "toc": true
  },
  "kernelspec": {
   "display_name": "Python 3",
   "language": "python",
   "name": "python3"
  },
  "language_info": {
   "codemirror_mode": {
    "name": "ipython",
    "version": 3
   },
   "file_extension": ".py",
   "mimetype": "text/x-python",
   "name": "python",
   "nbconvert_exporter": "python",
   "pygments_lexer": "ipython3",
   "version": "3.6.6"
  },
  "toc": {
   "base_numbering": 1,
   "nav_menu": {},
   "number_sections": true,
   "sideBar": true,
   "skip_h1_title": true,
   "title_cell": "",
   "title_sidebar": "Contents",
   "toc_cell": false,
   "toc_position": {},
   "toc_section_display": true,
   "toc_window_display": true
  },
  "toc-autonumbering": false
 },
 "nbformat": 4,
 "nbformat_minor": 2
}
