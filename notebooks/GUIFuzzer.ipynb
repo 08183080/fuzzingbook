{
 "cells": [
  {
   "cell_type": "markdown",
   "metadata": {
    "button": false,
    "new_sheet": false,
    "run_control": {
     "read_only": false
    }
   },
   "source": [
    "# Testing Graphical User Interfaces\n",
    "\n",
    "In this chapter, we explore how to generate tests for Graphical User Interfaces (GUIs), abstracting from our [previous examples on Web testing](WebFuzzer.ipynb).  Building on general means to extract user interface elements and to activate them, our techniques generalize to arbitrary graphical user interfaces, from rich Web applications to mobile apps."
   ]
  },
  {
   "cell_type": "markdown",
   "metadata": {
    "button": false,
    "new_sheet": false,
    "run_control": {
     "read_only": false
    }
   },
   "source": [
    "**Prerequisites**\n",
    "\n",
    "* We build on the Web server introduced in the [chapter on Web testing](WebFuzzer.ipynb)."
   ]
  },
  {
   "cell_type": "markdown",
   "metadata": {
    "button": false,
    "new_sheet": true,
    "run_control": {
     "read_only": false
    }
   },
   "source": [
    "## Automated GUI Interaction\n",
    "\n",
    "With our Web server: no JavaScript, no rich interfaces.  Also: Limited to Web.\n",
    "\n",
    "How can we automate interaction?"
   ]
  },
  {
   "cell_type": "markdown",
   "metadata": {
    "button": false,
    "new_sheet": true,
    "run_control": {
     "read_only": false
    }
   },
   "source": [
    "### Our Web Server, Again\n",
    "\n",
    "We (again) run our Web server."
   ]
  },
  {
   "cell_type": "code",
   "execution_count": null,
   "metadata": {
    "button": false,
    "new_sheet": false,
    "run_control": {
     "read_only": false
    },
    "slideshow": {
     "slide_type": "skip"
    }
   },
   "outputs": [],
   "source": [
    "import fuzzingbook_utils"
   ]
  },
  {
   "cell_type": "code",
   "execution_count": null,
   "metadata": {},
   "outputs": [],
   "source": [
    "from WebFuzzer import init_db, start_httpd, webbrowser, print_httpd_messages, print_url, ORDERS_DB"
   ]
  },
  {
   "cell_type": "code",
   "execution_count": null,
   "metadata": {},
   "outputs": [],
   "source": [
    "import html"
   ]
  },
  {
   "cell_type": "code",
   "execution_count": null,
   "metadata": {},
   "outputs": [],
   "source": [
    "db = init_db()"
   ]
  },
  {
   "cell_type": "code",
   "execution_count": null,
   "metadata": {},
   "outputs": [],
   "source": [
    "httpd_process, httpd_url = start_httpd()\n",
    "print_url(httpd_url)"
   ]
  },
  {
   "cell_type": "code",
   "execution_count": null,
   "metadata": {},
   "outputs": [],
   "source": [
    "from IPython.core.display import display, Image\n",
    "from fuzzingbook_utils import HTML, rich_output"
   ]
  },
  {
   "cell_type": "code",
   "execution_count": null,
   "metadata": {},
   "outputs": [],
   "source": [
    "HTML(webbrowser(httpd_url))"
   ]
  },
  {
   "cell_type": "markdown",
   "metadata": {
    "button": false,
    "new_sheet": false,
    "run_control": {
     "read_only": false
    }
   },
   "source": [
    "### Remote Control with Selenium\n",
    "\n",
    "Let us just look at the GUI, above.  We do not assume we can access the HTML source, or even the URL of the current page.  All we assume is that there is a set of *user interface elements* we can interact with."
   ]
  },
  {
   "cell_type": "markdown",
   "metadata": {},
   "source": [
    "Documentation is available [here.](https://selenium-python.readthedocs.io/index.html)"
   ]
  },
  {
   "cell_type": "code",
   "execution_count": null,
   "metadata": {},
   "outputs": [],
   "source": [
    "from selenium import webdriver"
   ]
  },
  {
   "cell_type": "code",
   "execution_count": null,
   "metadata": {},
   "outputs": [],
   "source": [
    "from selenium.webdriver.firefox.options import Options"
   ]
  },
  {
   "cell_type": "code",
   "execution_count": null,
   "metadata": {},
   "outputs": [],
   "source": [
    "options = Options()\n",
    "options.headless = True"
   ]
  },
  {
   "cell_type": "code",
   "execution_count": null,
   "metadata": {},
   "outputs": [],
   "source": [
    "from selenium.webdriver.firefox.firefox_profile import FirefoxProfile"
   ]
  },
  {
   "cell_type": "code",
   "execution_count": null,
   "metadata": {},
   "outputs": [],
   "source": [
    "ZOOM = 1.4\n",
    "profile = FirefoxProfile()\n",
    "profile.set_preference(\"layout.css.devPixelsPerPx\", repr(ZOOM))"
   ]
  },
  {
   "cell_type": "code",
   "execution_count": null,
   "metadata": {},
   "outputs": [],
   "source": [
    "driver = webdriver.Firefox(firefox_profile=profile, options=options)"
   ]
  },
  {
   "cell_type": "code",
   "execution_count": null,
   "metadata": {},
   "outputs": [],
   "source": [
    "# Alternative: Chrome\n",
    "\n",
    "# options = webdriver.ChromeOptions()\n",
    "# options.add_argument('headless')\n",
    "# options.add_argument('window-size=700x230')\n",
    "# driver = webdriver.Chrome(options=options)"
   ]
  },
  {
   "cell_type": "code",
   "execution_count": null,
   "metadata": {},
   "outputs": [],
   "source": [
    "driver.get(httpd_url)"
   ]
  },
  {
   "cell_type": "code",
   "execution_count": null,
   "metadata": {},
   "outputs": [],
   "source": [
    "print_httpd_messages()"
   ]
  },
  {
   "cell_type": "code",
   "execution_count": null,
   "metadata": {},
   "outputs": [],
   "source": [
    "Image(driver.get_screenshot_as_png())"
   ]
  },
  {
   "cell_type": "markdown",
   "metadata": {},
   "source": [
    "### Filling out Forms"
   ]
  },
  {
   "cell_type": "code",
   "execution_count": null,
   "metadata": {},
   "outputs": [],
   "source": [
    "name = driver.find_element_by_name(\"name\")\n",
    "name.send_keys(\"Jane Doe\")"
   ]
  },
  {
   "cell_type": "code",
   "execution_count": null,
   "metadata": {},
   "outputs": [],
   "source": [
    "Image(driver.get_screenshot_as_png())"
   ]
  },
  {
   "cell_type": "code",
   "execution_count": null,
   "metadata": {},
   "outputs": [],
   "source": [
    "email = driver.find_element_by_name(\"email\")\n",
    "email.send_keys(\"j.doe@example.com\")"
   ]
  },
  {
   "cell_type": "code",
   "execution_count": null,
   "metadata": {},
   "outputs": [],
   "source": [
    "Image(driver.get_screenshot_as_png())"
   ]
  },
  {
   "cell_type": "code",
   "execution_count": null,
   "metadata": {},
   "outputs": [],
   "source": [
    "city = driver.find_element_by_name('city')\n",
    "city.send_keys(\"Seattle\")"
   ]
  },
  {
   "cell_type": "code",
   "execution_count": null,
   "metadata": {},
   "outputs": [],
   "source": [
    "zip = driver.find_element_by_name('zip')\n",
    "zip.send_keys(\"98104\")"
   ]
  },
  {
   "cell_type": "code",
   "execution_count": null,
   "metadata": {},
   "outputs": [],
   "source": [
    "terms = driver.find_element_by_name('terms')\n",
    "terms.click()"
   ]
  },
  {
   "cell_type": "code",
   "execution_count": null,
   "metadata": {},
   "outputs": [],
   "source": [
    "Image(driver.get_screenshot_as_png())"
   ]
  },
  {
   "cell_type": "code",
   "execution_count": null,
   "metadata": {},
   "outputs": [],
   "source": [
    "submit = driver.find_element_by_name('submit')\n",
    "submit.click()"
   ]
  },
  {
   "cell_type": "code",
   "execution_count": null,
   "metadata": {},
   "outputs": [],
   "source": [
    "print_httpd_messages()"
   ]
  },
  {
   "cell_type": "code",
   "execution_count": null,
   "metadata": {},
   "outputs": [],
   "source": [
    "Image(driver.get_screenshot_as_png())"
   ]
  },
  {
   "cell_type": "markdown",
   "metadata": {},
   "source": [
    "### Navigating"
   ]
  },
  {
   "cell_type": "code",
   "execution_count": null,
   "metadata": {},
   "outputs": [],
   "source": [
    "driver.back()"
   ]
  },
  {
   "cell_type": "code",
   "execution_count": null,
   "metadata": {},
   "outputs": [],
   "source": [
    "Image(driver.get_screenshot_as_png())"
   ]
  },
  {
   "cell_type": "code",
   "execution_count": null,
   "metadata": {
    "button": false,
    "new_sheet": false,
    "run_control": {
     "read_only": false
    },
    "slideshow": {
     "slide_type": "subslide"
    }
   },
   "outputs": [],
   "source": [
    "links = driver.find_elements_by_tag_name(\"a\")"
   ]
  },
  {
   "cell_type": "code",
   "execution_count": null,
   "metadata": {},
   "outputs": [],
   "source": [
    "links[0].get_attribute('href')"
   ]
  },
  {
   "cell_type": "code",
   "execution_count": null,
   "metadata": {},
   "outputs": [],
   "source": [
    "links[0].click()"
   ]
  },
  {
   "cell_type": "code",
   "execution_count": null,
   "metadata": {},
   "outputs": [],
   "source": [
    "print_httpd_messages()"
   ]
  },
  {
   "cell_type": "code",
   "execution_count": null,
   "metadata": {},
   "outputs": [],
   "source": [
    "Image(driver.get_screenshot_as_png())"
   ]
  },
  {
   "cell_type": "code",
   "execution_count": null,
   "metadata": {},
   "outputs": [],
   "source": [
    "driver.back()"
   ]
  },
  {
   "cell_type": "code",
   "execution_count": null,
   "metadata": {},
   "outputs": [],
   "source": [
    "print_httpd_messages()"
   ]
  },
  {
   "cell_type": "code",
   "execution_count": null,
   "metadata": {},
   "outputs": [],
   "source": [
    "Image(driver.get_screenshot_as_png())"
   ]
  },
  {
   "cell_type": "markdown",
   "metadata": {
    "button": false,
    "new_sheet": false,
    "run_control": {
     "read_only": false
    },
    "slideshow": {
     "slide_type": "subslide"
    }
   },
   "source": [
    "## Retrieving UI Elements"
   ]
  },
  {
   "cell_type": "code",
   "execution_count": null,
   "metadata": {},
   "outputs": [],
   "source": [
    "driver.get(httpd_url)"
   ]
  },
  {
   "cell_type": "code",
   "execution_count": null,
   "metadata": {},
   "outputs": [],
   "source": [
    "Image(driver.get_screenshot_as_png())"
   ]
  },
  {
   "cell_type": "code",
   "execution_count": null,
   "metadata": {
    "button": false,
    "new_sheet": false,
    "run_control": {
     "read_only": false
    },
    "slideshow": {
     "slide_type": "subslide"
    }
   },
   "outputs": [],
   "source": [
    "ui_elements = driver.find_elements_by_tag_name(\"input\")"
   ]
  },
  {
   "cell_type": "code",
   "execution_count": null,
   "metadata": {},
   "outputs": [],
   "source": [
    "for element in ui_elements:\n",
    "    print(element.get_attribute('name'), element.get_attribute('type'), element.text)"
   ]
  },
  {
   "cell_type": "code",
   "execution_count": null,
   "metadata": {},
   "outputs": [],
   "source": [
    "from selenium.common.exceptions import StaleElementReferenceException"
   ]
  },
  {
   "cell_type": "code",
   "execution_count": null,
   "metadata": {
    "button": false,
    "new_sheet": false,
    "run_control": {
     "read_only": false
    },
    "slideshow": {
     "slide_type": "subslide"
    }
   },
   "outputs": [],
   "source": [
    "ui_elements = driver.find_elements_by_tag_name(\"button\")"
   ]
  },
  {
   "cell_type": "code",
   "execution_count": null,
   "metadata": {},
   "outputs": [],
   "source": [
    "for element in ui_elements:\n",
    "    print(element.get_attribute('name'), element.get_attribute('type'), element.text)"
   ]
  },
  {
   "cell_type": "code",
   "execution_count": null,
   "metadata": {},
   "outputs": [],
   "source": [
    "class GUIGrammarMiner(object):\n",
    "    def __init__(self, driver, stay_on_host=True):\n",
    "        self.driver = driver\n",
    "        self.stay_on_host = stay_on_host\n",
    "        self.grammar = {}"
   ]
  },
  {
   "cell_type": "code",
   "execution_count": null,
   "metadata": {},
   "outputs": [],
   "source": [
    "class GUIGrammarMiner(GUIGrammarMiner):\n",
    "    def mine_state_actions(self):\n",
    "        return frozenset(self.mine_input_actions()\n",
    "            | self.mine_button_actions()\n",
    "            | self.mine_a_actions())"
   ]
  },
  {
   "cell_type": "code",
   "execution_count": null,
   "metadata": {},
   "outputs": [],
   "source": [
    "class GUIGrammarMiner(GUIGrammarMiner):\n",
    "    def mine_input_actions(self):\n",
    "        actions = set()\n",
    "        \n",
    "        for elem in self.driver.find_elements_by_tag_name(\"input\"):\n",
    "            try:\n",
    "                input_type = elem.get_attribute(\"type\")\n",
    "                input_name = elem.get_attribute(\"name\")\n",
    "                if input_name is None:\n",
    "                    input_name = elem.text\n",
    "\n",
    "                if input_type in [\"checkbox\", \"radio\"]:\n",
    "                    actions.add(\"check('%s', <boolean>)\" % html.escape(input_name))\n",
    "                elif input_type in [\"text\", \"number\", \"email\", \"password\"]:\n",
    "                    actions.add(\"fill('%s', '<%s>')\" % (html.escape(input_name), html.escape(input_type)))\n",
    "                elif input_type in [\"button\", \"submit\"]:\n",
    "                    actions.add(\"submit('%s')\" % html.escape(input_name))\n",
    "                elif input_type in [\"hidden\"]:\n",
    "                    pass\n",
    "                else:\n",
    "                    # TODO: Handle more types here\n",
    "                    actions.add(\"fill('%s', <%s>)\" % (html.escape(input_name), html.escape(input_type)))\n",
    "            except StaleElementReferenceException:\n",
    "                pass\n",
    "\n",
    "        return actions"
   ]
  },
  {
   "cell_type": "code",
   "execution_count": null,
   "metadata": {},
   "outputs": [],
   "source": [
    "class GUIGrammarMiner(GUIGrammarMiner):\n",
    "    def mine_button_actions(self):\n",
    "        actions = set()\n",
    "        \n",
    "        for elem in self.driver.find_elements_by_tag_name(\"button\"):\n",
    "            try:\n",
    "                button_type = elem.get_attribute(\"type\")\n",
    "                button_name = elem.get_attribute(\"name\")\n",
    "                if button_name is None:\n",
    "                    button_name = elem.text\n",
    "                if button_type == \"submit\":\n",
    "                    actions.add(\"submit('%s')\" % html.escape(button_name))\n",
    "                elif button_type != \"reset\":\n",
    "                    actions.add(\"click('%s')\" % html.escape(button_name))\n",
    "            except StaleElementReferenceException:\n",
    "                pass\n",
    "\n",
    "        return actions"
   ]
  },
  {
   "cell_type": "code",
   "execution_count": null,
   "metadata": {},
   "outputs": [],
   "source": [
    "class GUIGrammarMiner(GUIGrammarMiner):\n",
    "    def mine_a_actions(self):\n",
    "        actions = set()\n",
    "\n",
    "        for elem in self.driver.find_elements_by_tag_name(\"a\"):\n",
    "            try:\n",
    "                a_href = elem.get_attribute(\"href\")\n",
    "                if a_href is not None:\n",
    "                    if self.follow_link(a_href):\n",
    "                        actions.add(\"click('%s')\" % html.escape(elem.text))\n",
    "                    else:\n",
    "                        actions.add(\"ignore('%s')\" % html.escape(elem.text))\n",
    "            except StaleElementReferenceException:\n",
    "                pass\n",
    "\n",
    "        return actions"
   ]
  },
  {
   "cell_type": "code",
   "execution_count": null,
   "metadata": {},
   "outputs": [],
   "source": [
    "from urllib.parse import urljoin, urlsplit"
   ]
  },
  {
   "cell_type": "code",
   "execution_count": null,
   "metadata": {},
   "outputs": [],
   "source": [
    "class GUIGrammarMiner(GUIGrammarMiner):\n",
    "    def follow_link(self, link):\n",
    "        if not self.stay_on_host:\n",
    "            return True\n",
    "        \n",
    "        current_url = self.driver.current_url\n",
    "        target_url = urljoin(current_url, link)\n",
    "        return urlsplit(current_url).hostname == urlsplit(target_url).hostname       "
   ]
  },
  {
   "cell_type": "code",
   "execution_count": null,
   "metadata": {},
   "outputs": [],
   "source": [
    "gui_grammar_miner = GUIGrammarMiner(driver)"
   ]
  },
  {
   "cell_type": "code",
   "execution_count": null,
   "metadata": {},
   "outputs": [],
   "source": [
    "gui_grammar_miner.follow_link(\"ftp://foo.bar/\")"
   ]
  },
  {
   "cell_type": "code",
   "execution_count": null,
   "metadata": {},
   "outputs": [],
   "source": [
    "gui_grammar_miner.follow_link(\"https://127.0.0.1/\")"
   ]
  },
  {
   "cell_type": "code",
   "execution_count": null,
   "metadata": {},
   "outputs": [],
   "source": [
    "gui_grammar_miner = GUIGrammarMiner(driver)\n",
    "gui_grammar_miner.mine_state_actions()"
   ]
  },
  {
   "cell_type": "markdown",
   "metadata": {},
   "source": [
    "This set of interactive elements makes up a _page_."
   ]
  },
  {
   "cell_type": "markdown",
   "metadata": {},
   "source": [
    "## Systematic GUI Exploration"
   ]
  },
  {
   "cell_type": "markdown",
   "metadata": {},
   "source": [
    "### Representing States as Grammars"
   ]
  },
  {
   "cell_type": "markdown",
   "metadata": {},
   "source": [
    "\\todo{}: Have a generic interface `BaseGrammarMiner` with `__init__()` and `mine_grammar()`"
   ]
  },
  {
   "cell_type": "code",
   "execution_count": null,
   "metadata": {},
   "outputs": [],
   "source": [
    "from Grammars import new_symbol"
   ]
  },
  {
   "cell_type": "code",
   "execution_count": null,
   "metadata": {},
   "outputs": [],
   "source": [
    "from Grammars import nonterminals, START_SYMBOL\n",
    "from Grammars import extend_grammar, unreachable_nonterminals, opts, crange, srange\n",
    "from Grammars import syntax_diagram, is_valid_grammar"
   ]
  },
  {
   "cell_type": "code",
   "execution_count": null,
   "metadata": {},
   "outputs": [],
   "source": [
    "from WebFuzzer import HTMLGrammarMiner"
   ]
  },
  {
   "cell_type": "code",
   "execution_count": null,
   "metadata": {},
   "outputs": [],
   "source": [
    "class GUIGrammarMiner(GUIGrammarMiner):\n",
    "    START_STATE = \"<state>\"\n",
    "    UNEXPLORED_STATE = \"<unexplored>\"\n",
    "    FINAL_STATE = \"<end>\"\n",
    "\n",
    "    GUI_GRAMMAR = ({\n",
    "        START_SYMBOL: [START_STATE],\n",
    "        UNEXPLORED_STATE: [\"\"],\n",
    "        FINAL_STATE: [\"\"],\n",
    "\n",
    "        \"<text>\": [\"<string>\"],\n",
    "        \"<string>\": [\"<character>\", \"<string><character>\"],\n",
    "        \"<character>\": [\"<letter>\", \"<digit>\", \"<special>\"],\n",
    "        \"<letter>\": crange('a', 'z') + crange('A', 'Z'),\n",
    "        \n",
    "        \"<number>\": [\"<digits>\"],\n",
    "        \"<digits>\": [\"<digit>\", \"<digits><digit>\"],\n",
    "        \"<digit>\": crange('0', '9'),\n",
    "        \n",
    "        \"<special>\": srange(\". !\"),\n",
    "\n",
    "        \"<email>\": [\"<letters>@<letters>\"],\n",
    "        \"<letters>\": [\"<letter>\", \"<letters><letter>\"],\n",
    "        \n",
    "        \"<boolean>\": [\"True\", \"False\"],\n",
    "\n",
    "        # Use a fixed password in case we need to repeat it\n",
    "        \"<password>\": [\"abcABC.123\"],\n",
    "        \n",
    "        \"<hidden>\": \"<string>\",\n",
    "    })"
   ]
  },
  {
   "cell_type": "code",
   "execution_count": null,
   "metadata": {},
   "outputs": [],
   "source": [
    "syntax_diagram(GUIGrammarMiner.GUI_GRAMMAR)"
   ]
  },
  {
   "cell_type": "code",
   "execution_count": null,
   "metadata": {},
   "outputs": [],
   "source": [
    "class GUIGrammarMiner(GUIGrammarMiner):\n",
    "    def new_state_symbol(self, grammar):\n",
    "        return new_symbol(grammar, self.START_STATE)\n",
    "\n",
    "    def mine_state_grammar(self, grammar={}, state_symbol=None):\n",
    "        grammar = extend_grammar(self.GUI_GRAMMAR, grammar)\n",
    "\n",
    "        if state_symbol is None:\n",
    "            state_symbol = self.new_state_symbol(grammar)\n",
    "            grammar[state_symbol] = []\n",
    "\n",
    "        alternatives = []\n",
    "        form = \"\"\n",
    "        submit = None\n",
    "\n",
    "        for action in self.mine_state_actions():\n",
    "            if action.startswith(\"submit\"):\n",
    "                submit = action\n",
    "                \n",
    "            elif action.startswith(\"click\"):\n",
    "                link_target = self.new_state_symbol(grammar)\n",
    "                grammar[link_target] = [self.UNEXPLORED_STATE]\n",
    "                alternatives.append(action + '\\n' + link_target)\n",
    "                \n",
    "            elif action.startswith(\"ignore\"):\n",
    "                pass\n",
    "\n",
    "            else:  # fill(), check() actions\n",
    "                if len(form) > 0:\n",
    "                    form += '\\n'\n",
    "                form += action\n",
    "\n",
    "        if submit is not None:\n",
    "            if len(form) > 0:\n",
    "                form += '\\n'\n",
    "            form += submit\n",
    "\n",
    "        if len(form) > 0:\n",
    "            form_target = self.new_state_symbol(grammar)\n",
    "            grammar[form_target] = [self.UNEXPLORED_STATE]\n",
    "            alternatives.append(form + '\\n' + form_target)\n",
    "            \n",
    "        alternatives += [self.FINAL_STATE]\n",
    "\n",
    "        grammar[state_symbol] = alternatives\n",
    "        \n",
    "        # Remove unused parts\n",
    "        for nonterminal in unreachable_nonterminals(grammar):\n",
    "            del grammar[nonterminal]\n",
    "\n",
    "        assert is_valid_grammar(grammar)\n",
    "        \n",
    "        return grammar"
   ]
  },
  {
   "cell_type": "code",
   "execution_count": null,
   "metadata": {},
   "outputs": [],
   "source": [
    "gui_grammar_miner = GUIGrammarMiner(driver)\n",
    "state_grammar = gui_grammar_miner.mine_state_grammar()\n",
    "state_grammar"
   ]
  },
  {
   "cell_type": "code",
   "execution_count": null,
   "metadata": {},
   "outputs": [],
   "source": [
    "state_grammar[GUIGrammarMiner.START_STATE]"
   ]
  },
  {
   "cell_type": "markdown",
   "metadata": {},
   "source": [
    "The grammar actually encodes a Finite State Machine:"
   ]
  },
  {
   "cell_type": "code",
   "execution_count": null,
   "metadata": {},
   "outputs": [],
   "source": [
    "from graphviz import Digraph\n",
    "from IPython.display import display\n",
    "from GrammarFuzzer import dot_escape\n",
    "from collections import deque"
   ]
  },
  {
   "cell_type": "code",
   "execution_count": null,
   "metadata": {},
   "outputs": [],
   "source": [
    "def fsm_diagram(grammar, start_symbol=START_SYMBOL):\n",
    "    dot = Digraph(comment=\"Grammar as Finite State Machine\")\n",
    "\n",
    "    symbols = deque([start_symbol])\n",
    "    symbols_seen = set()\n",
    "    \n",
    "    while len(symbols) > 0:\n",
    "        symbol = symbols.popleft()\n",
    "        symbols_seen.add(symbol)\n",
    "        dot.node(symbol, dot_escape(symbol))\n",
    "        \n",
    "        for expansion in grammar[symbol]:\n",
    "            nts = nonterminals(expansion)\n",
    "            if len(nts) > 0:\n",
    "                target_symbol = nts[-1]\n",
    "                if target_symbol not in symbols_seen:\n",
    "                    symbols.append(target_symbol)\n",
    "\n",
    "                label = expansion.replace(target_symbol, '')\n",
    "                dot.edge(symbol, target_symbol, label.replace('\\n', r'\\l'))\n",
    "                \n",
    "    if rich_output():\n",
    "        display(dot)"
   ]
  },
  {
   "cell_type": "code",
   "execution_count": null,
   "metadata": {},
   "outputs": [],
   "source": [
    "fsm_diagram(state_grammar)"
   ]
  },
  {
   "cell_type": "code",
   "execution_count": null,
   "metadata": {},
   "outputs": [],
   "source": [
    "# Remove unused parts\n",
    "for nonterminal in unreachable_nonterminals(state_grammar):\n",
    "    del state_grammar[nonterminal]"
   ]
  },
  {
   "cell_type": "code",
   "execution_count": null,
   "metadata": {},
   "outputs": [],
   "source": [
    "from GeneratorGrammarFuzzer import GeneratorGrammarFuzzer"
   ]
  },
  {
   "cell_type": "code",
   "execution_count": null,
   "metadata": {},
   "outputs": [],
   "source": [
    "gui_fuzzer = GeneratorGrammarFuzzer(state_grammar)\n",
    "print(gui_fuzzer.fuzz())"
   ]
  },
  {
   "cell_type": "markdown",
   "metadata": {},
   "source": [
    "### Fuzzing GUI Forms"
   ]
  },
  {
   "cell_type": "code",
   "execution_count": null,
   "metadata": {},
   "outputs": [],
   "source": [
    "from Fuzzer import Runner"
   ]
  },
  {
   "cell_type": "code",
   "execution_count": null,
   "metadata": {},
   "outputs": [],
   "source": [
    "class GUIRunner(Runner):\n",
    "    def __init__(self, driver):\n",
    "        self.driver = driver\n",
    "        \n",
    "    def run(self, inp):\n",
    "        def fill(name, value):\n",
    "            self.do_fill(html.unescape(name), html.unescape(value))\n",
    "        def check(name, state):\n",
    "            self.do_check(html.unescape(name), state)\n",
    "        def submit(name):\n",
    "            self.do_submit(html.unescape(name))\n",
    "        def click(name):\n",
    "            self.do_click(html.unescape(name))\n",
    "        \n",
    "        exec(inp, {}, {'fill': fill, 'check': check, \n",
    "                       'submit': submit, 'click': click})\n",
    "        \n",
    "        return inp, self.PASS"
   ]
  },
  {
   "cell_type": "code",
   "execution_count": null,
   "metadata": {},
   "outputs": [],
   "source": [
    "from selenium.common.exceptions import NoSuchElementException\n",
    "from selenium.common.exceptions import ElementClickInterceptedException, ElementNotInteractableException"
   ]
  },
  {
   "cell_type": "code",
   "execution_count": null,
   "metadata": {},
   "outputs": [],
   "source": [
    "class GUIRunner(GUIRunner):\n",
    "    def find_element(self, name):\n",
    "        try:\n",
    "            return self.driver.find_element_by_name(name)\n",
    "        except NoSuchElementException:\n",
    "            return self.driver.find_element_by_link_text(name)"
   ]
  },
  {
   "cell_type": "markdown",
   "metadata": {},
   "source": [
    "We need delays (in seconds):"
   ]
  },
  {
   "cell_type": "code",
   "execution_count": null,
   "metadata": {},
   "outputs": [],
   "source": [
    "from selenium.webdriver.support.ui import WebDriverWait"
   ]
  },
  {
   "cell_type": "code",
   "execution_count": null,
   "metadata": {},
   "outputs": [],
   "source": [
    "class GUIRunner(GUIRunner):\n",
    "    DELAY_AFTER_FILL = 0.1\n",
    "    DELAY_AFTER_CHECK = 0.1\n",
    "    DELAY_AFTER_SUBMIT = 1\n",
    "    DELAY_AFTER_CLICK = 1"
   ]
  },
  {
   "cell_type": "code",
   "execution_count": null,
   "metadata": {},
   "outputs": [],
   "source": [
    "class GUIRunner(GUIRunner):\n",
    "    def do_fill(self, name, value):\n",
    "        element = self.find_element(name)\n",
    "        element.send_keys(value)\n",
    "        WebDriverWait(self.driver, self.DELAY_AFTER_FILL)"
   ]
  },
  {
   "cell_type": "code",
   "execution_count": null,
   "metadata": {},
   "outputs": [],
   "source": [
    "class GUIRunner(GUIRunner):\n",
    "    def do_check(self, name, state):\n",
    "        element = self.find_element(name)\n",
    "        if bool(state) != bool(element.is_selected()):\n",
    "            element.click()\n",
    "        WebDriverWait(self.driver, self.DELAY_AFTER_CHECK)"
   ]
  },
  {
   "cell_type": "code",
   "execution_count": null,
   "metadata": {},
   "outputs": [],
   "source": [
    "class GUIRunner(GUIRunner):\n",
    "    def do_submit(self, name):\n",
    "        element = self.find_element(name)\n",
    "        element.click()\n",
    "        WebDriverWait(self.driver, self.DELAY_AFTER_SUBMIT)"
   ]
  },
  {
   "cell_type": "code",
   "execution_count": null,
   "metadata": {},
   "outputs": [],
   "source": [
    "class GUIRunner(GUIRunner):\n",
    "    def do_click(self, name):\n",
    "        element = self.find_element(name)\n",
    "        element.click()\n",
    "        WebDriverWait(self.driver, self.DELAY_AFTER_CLICK)"
   ]
  },
  {
   "cell_type": "code",
   "execution_count": null,
   "metadata": {},
   "outputs": [],
   "source": [
    "driver.get(httpd_url)"
   ]
  },
  {
   "cell_type": "code",
   "execution_count": null,
   "metadata": {},
   "outputs": [],
   "source": [
    "gui_runner = GUIRunner(driver)"
   ]
  },
  {
   "cell_type": "code",
   "execution_count": null,
   "metadata": {},
   "outputs": [],
   "source": [
    "gui_runner.run(\"fill('name', 'Walter White')\")"
   ]
  },
  {
   "cell_type": "code",
   "execution_count": null,
   "metadata": {},
   "outputs": [],
   "source": [
    "Image(driver.get_screenshot_as_png())"
   ]
  },
  {
   "cell_type": "code",
   "execution_count": null,
   "metadata": {},
   "outputs": [],
   "source": [
    "gui_runner.run(\"submit('submit')\")"
   ]
  },
  {
   "cell_type": "code",
   "execution_count": null,
   "metadata": {},
   "outputs": [],
   "source": [
    "Image(driver.get_screenshot_as_png())"
   ]
  },
  {
   "cell_type": "code",
   "execution_count": null,
   "metadata": {},
   "outputs": [],
   "source": [
    "driver.get(httpd_url)"
   ]
  },
  {
   "cell_type": "code",
   "execution_count": null,
   "metadata": {},
   "outputs": [],
   "source": [
    "gui_fuzzer = GeneratorGrammarFuzzer(state_grammar)"
   ]
  },
  {
   "cell_type": "code",
   "execution_count": null,
   "metadata": {},
   "outputs": [],
   "source": [
    "while True:\n",
    "    action = gui_fuzzer.fuzz()\n",
    "    if action.find('submit(') > 0:\n",
    "        break"
   ]
  },
  {
   "cell_type": "code",
   "execution_count": null,
   "metadata": {},
   "outputs": [],
   "source": [
    "print(action)"
   ]
  },
  {
   "cell_type": "code",
   "execution_count": null,
   "metadata": {},
   "outputs": [],
   "source": [
    "gui_runner.run(action)"
   ]
  },
  {
   "cell_type": "code",
   "execution_count": null,
   "metadata": {},
   "outputs": [],
   "source": [
    "Image(driver.get_screenshot_as_png())"
   ]
  },
  {
   "cell_type": "markdown",
   "metadata": {},
   "source": [
    "### Exploring States"
   ]
  },
  {
   "cell_type": "code",
   "execution_count": null,
   "metadata": {},
   "outputs": [],
   "source": [
    "from Grammars import is_nonterminal"
   ]
  },
  {
   "cell_type": "code",
   "execution_count": null,
   "metadata": {},
   "outputs": [],
   "source": [
    "from GrammarCoverageFuzzer import GrammarCoverageFuzzer"
   ]
  },
  {
   "cell_type": "code",
   "execution_count": null,
   "metadata": {},
   "outputs": [],
   "source": [
    "class GUIFuzzer(GrammarCoverageFuzzer):\n",
    "    def __init__(self, driver, \n",
    "                 stay_on_host=True,\n",
    "                 log_gui_exploration=False, \n",
    "                 disp_gui_exploration=False, \n",
    "                 **kwargs):\n",
    "        self.driver = driver\n",
    "        self.miner = GUIGrammarMiner(driver)\n",
    "        self.stay_on_host = True\n",
    "        self.log_gui_exploration = log_gui_exploration\n",
    "        self.disp_gui_exploration = disp_gui_exploration\n",
    "        self.initial_url = driver.current_url\n",
    "\n",
    "        self.states_seen = {}  # Maps states to symbols\n",
    "        self.state_symbol = GUIGrammarMiner.START_STATE\n",
    "        self.state = self.miner.mine_state_actions()\n",
    "        self.states_seen[self.state] = self.state_symbol\n",
    "        \n",
    "        grammar = self.miner.mine_state_grammar()\n",
    "        super().__init__(grammar, **kwargs)"
   ]
  },
  {
   "cell_type": "code",
   "execution_count": null,
   "metadata": {},
   "outputs": [],
   "source": [
    "class GUIFuzzer(GUIFuzzer):\n",
    "    def restart(self):\n",
    "        self.driver.get(self.initial_url)\n",
    "        self.state = GUIGrammarMiner.START_STATE"
   ]
  },
  {
   "cell_type": "code",
   "execution_count": null,
   "metadata": {},
   "outputs": [],
   "source": [
    "class GUIFuzzer(GUIFuzzer):\n",
    "    def fsm_path(self, tree):\n",
    "        \"\"\"Return sequence of state symbols\"\"\"\n",
    "        (node, children) = tree\n",
    "        if node == GUIGrammarMiner.UNEXPLORED_STATE:\n",
    "            return []\n",
    "        elif children is None or len(children) == 0:\n",
    "            return [node]\n",
    "        else:\n",
    "            return [node] + self.fsm_path(children[-1])"
   ]
  },
  {
   "cell_type": "code",
   "execution_count": null,
   "metadata": {},
   "outputs": [],
   "source": [
    "class GUIFuzzer(GUIFuzzer):\n",
    "    def fsm_last_state_symbol(self, tree):\n",
    "        \"\"\"Return current (expected) state symbol\"\"\"\n",
    "        for state in reversed(self.fsm_path(tree)):\n",
    "            if is_nonterminal(state):\n",
    "                return state\n",
    "        assert False"
   ]
  },
  {
   "cell_type": "code",
   "execution_count": null,
   "metadata": {},
   "outputs": [],
   "source": [
    "class GUIFuzzer(GUIFuzzer):\n",
    "    def run(self, gui_runner):\n",
    "        assert isinstance(gui_runner, GUIRunner)\n",
    "        \n",
    "        self.restart()\n",
    "        action = self.fuzz()\n",
    "        self.state_symbol = self.fsm_last_state_symbol(self.derivation_tree)\n",
    "\n",
    "        if self.log_gui_exploration:\n",
    "            print(\"Action\", action.strip(), \"->\", self.state_symbol)\n",
    "\n",
    "        result, outcome = gui_runner.run(action)\n",
    "        \n",
    "        if self.state_symbol != GUIGrammarMiner.FINAL_STATE:\n",
    "            self.update_state()\n",
    "\n",
    "        return self.state_symbol, outcome"
   ]
  },
  {
   "cell_type": "code",
   "execution_count": null,
   "metadata": {},
   "outputs": [],
   "source": [
    "class GUIFuzzer(GUIFuzzer):\n",
    "    def update_state(self):\n",
    "        if self.disp_gui_exploration:\n",
    "            display(Image(self.driver.get_screenshot_as_png()))\n",
    "\n",
    "        self.state = self.miner.mine_state_actions()\n",
    "        if self.state not in self.states_seen:\n",
    "            self.states_seen[self.state] = self.state_symbol\n",
    "            self.update_new_state()\n",
    "        else:\n",
    "            self.update_existing_state()"
   ]
  },
  {
   "cell_type": "code",
   "execution_count": null,
   "metadata": {},
   "outputs": [],
   "source": [
    "class GUIFuzzer(GUIFuzzer):\n",
    "    def set_grammar(self, new_grammar):\n",
    "        self.grammar = new_grammar\n",
    "        \n",
    "        if self.disp_gui_exploration:\n",
    "            display(fsm_diagram(self.grammar))"
   ]
  },
  {
   "cell_type": "code",
   "execution_count": null,
   "metadata": {},
   "outputs": [],
   "source": [
    "class GUIFuzzer(GUIFuzzer):\n",
    "    def update_new_state(self):\n",
    "        if self.log_gui_exploration:\n",
    "            print(\"In new state\", repr(self.state_symbol).encode('utf-8'), repr(self.state).encode('utf-8'))\n",
    "\n",
    "        state_grammar = self.miner.mine_state_grammar(grammar=self.grammar, \n",
    "                                                      state_symbol=self.state_symbol)\n",
    "        del state_grammar[START_SYMBOL]\n",
    "        del state_grammar[GUIGrammarMiner.START_STATE]\n",
    "        self.set_grammar(extend_grammar(self.grammar, state_grammar))"
   ]
  },
  {
   "cell_type": "code",
   "execution_count": null,
   "metadata": {},
   "outputs": [],
   "source": [
    "from Grammars import exp_string, exp_opts"
   ]
  },
  {
   "cell_type": "code",
   "execution_count": null,
   "metadata": {},
   "outputs": [],
   "source": [
    "def replace_symbol(grammar, old_symbol, new_symbol):\n",
    "    \"\"\"Return a grammar in which all occurrences of `old_symbol` are replaced by `new_symbol`\"\"\"\n",
    "    new_grammar = {}\n",
    "    \n",
    "    for symbol in grammar:\n",
    "        new_expansions = []\n",
    "        for expansion in grammar[symbol]:\n",
    "            new_expansion_string = exp_string(expansion).replace(old_symbol, new_symbol)\n",
    "            if len(exp_opts(expansion)) > 0:\n",
    "                new_expansion = (new_expansion_string, exp_opts(expansion))\n",
    "            else:\n",
    "                new_expansion = new_expansion_string\n",
    "            new_expansions.append(new_expansion)\n",
    "                \n",
    "        new_grammar[symbol] = new_expansions\n",
    "        \n",
    "    # Remove unused parts\n",
    "    for nonterminal in unreachable_nonterminals(new_grammar):\n",
    "        del new_grammar[nonterminal]\n",
    "\n",
    "    return new_grammar"
   ]
  },
  {
   "cell_type": "code",
   "execution_count": null,
   "metadata": {},
   "outputs": [],
   "source": [
    "class GUIFuzzer(GUIFuzzer):            \n",
    "    def update_existing_state(self):\n",
    "        if self.log_gui_exploration:\n",
    "            print(\"In existing state\", self.states_seen[self.state])\n",
    "\n",
    "        if self.state_symbol != self.states_seen[self.state]:\n",
    "            if self.log_gui_exploration:\n",
    "                print(\"Replacing expected state %s by %s\" %\n",
    "                      (self.state_symbol, self.states_seen[self.state]))\n",
    "            \n",
    "            new_grammar = replace_symbol(self.grammar, self.state_symbol, \n",
    "                                         self.states_seen[self.state])\n",
    "            self.state_symbol = self.states_seen[self.state]\n",
    "            self.set_grammar(new_grammar)"
   ]
  },
  {
   "cell_type": "code",
   "execution_count": null,
   "metadata": {},
   "outputs": [],
   "source": [
    "driver.get(httpd_url)"
   ]
  },
  {
   "cell_type": "code",
   "execution_count": null,
   "metadata": {},
   "outputs": [],
   "source": [
    "gui_fuzzer = GUIFuzzer(driver, log_gui_exploration=True, disp_gui_exploration=True)"
   ]
  },
  {
   "cell_type": "code",
   "execution_count": null,
   "metadata": {},
   "outputs": [],
   "source": [
    "gui_fuzzer.fuzz()"
   ]
  },
  {
   "cell_type": "code",
   "execution_count": null,
   "metadata": {},
   "outputs": [],
   "source": [
    "from GrammarFuzzer import display_tree"
   ]
  },
  {
   "cell_type": "code",
   "execution_count": null,
   "metadata": {},
   "outputs": [],
   "source": [
    "gui_fuzzer.run(gui_runner)"
   ]
  },
  {
   "cell_type": "code",
   "execution_count": null,
   "metadata": {},
   "outputs": [],
   "source": [
    "Image(driver.get_screenshot_as_png())"
   ]
  },
  {
   "cell_type": "code",
   "execution_count": null,
   "metadata": {},
   "outputs": [],
   "source": [
    "gui_fuzzer.restart()"
   ]
  },
  {
   "cell_type": "code",
   "execution_count": null,
   "metadata": {},
   "outputs": [],
   "source": [
    "Image(driver.get_screenshot_as_png())"
   ]
  },
  {
   "cell_type": "code",
   "execution_count": null,
   "metadata": {},
   "outputs": [],
   "source": [
    "fsm_diagram(gui_fuzzer.grammar)"
   ]
  },
  {
   "cell_type": "code",
   "execution_count": null,
   "metadata": {},
   "outputs": [],
   "source": [
    "class GUIFuzzer(GUIFuzzer):            \n",
    "    def explore_all(self, runner, max_actions=100):\n",
    "        actions = 0\n",
    "        while GUIGrammarMiner.UNEXPLORED_STATE in self.grammar and actions < max_actions:\n",
    "            actions += 1\n",
    "            if self.log_gui_exploration:\n",
    "                print(\"Run #\" + repr(actions))\n",
    "            try:\n",
    "                self.run(runner)\n",
    "            except ElementClickInterceptedException:\n",
    "                pass\n",
    "            except ElementNotInteractableException:\n",
    "                pass\n",
    "            except NoSuchElementException:\n",
    "                pass"
   ]
  },
  {
   "cell_type": "code",
   "execution_count": null,
   "metadata": {},
   "outputs": [],
   "source": [
    "gui_fuzzer = GUIFuzzer(driver)"
   ]
  },
  {
   "cell_type": "code",
   "execution_count": null,
   "metadata": {},
   "outputs": [],
   "source": [
    "gui_fuzzer.explore_all(gui_runner)"
   ]
  },
  {
   "cell_type": "code",
   "execution_count": null,
   "metadata": {},
   "outputs": [],
   "source": [
    "fsm_diagram(gui_fuzzer.grammar)"
   ]
  },
  {
   "cell_type": "markdown",
   "metadata": {},
   "source": [
    "## Covering States"
   ]
  },
  {
   "cell_type": "code",
   "execution_count": null,
   "metadata": {},
   "outputs": [],
   "source": [
    "gui_fuzzer.covered_expansions"
   ]
  },
  {
   "cell_type": "code",
   "execution_count": null,
   "metadata": {},
   "outputs": [],
   "source": [
    "gui_fuzzer.missing_expansion_coverage()"
   ]
  },
  {
   "cell_type": "markdown",
   "metadata": {},
   "source": [
    "### Optimizations"
   ]
  },
  {
   "cell_type": "markdown",
   "metadata": {},
   "source": [
    "\\todo{Special challenge: We need to go back to get to earlier state.}"
   ]
  },
  {
   "cell_type": "code",
   "execution_count": null,
   "metadata": {},
   "outputs": [],
   "source": [
    "httpd_process.terminate()"
   ]
  },
  {
   "cell_type": "code",
   "execution_count": null,
   "metadata": {},
   "outputs": [],
   "source": [
    "del gui_fuzzer"
   ]
  },
  {
   "cell_type": "code",
   "execution_count": null,
   "metadata": {},
   "outputs": [],
   "source": [
    "del gui_runner"
   ]
  },
  {
   "cell_type": "markdown",
   "metadata": {
    "button": false,
    "new_sheet": false,
    "run_control": {
     "read_only": false
    },
    "slideshow": {
     "slide_type": "slide"
    }
   },
   "source": [
    "## Fun with FuzzingBook\n",
    "\n",
    "\\todo{Create a full map of fuzzingbook.org, only by navigating}"
   ]
  },
  {
   "cell_type": "code",
   "execution_count": null,
   "metadata": {},
   "outputs": [],
   "source": [
    "driver.get(\"https://www.fuzzingbook.org/\")"
   ]
  },
  {
   "cell_type": "code",
   "execution_count": null,
   "metadata": {},
   "outputs": [],
   "source": [
    "Image(driver.get_screenshot_as_png())"
   ]
  },
  {
   "cell_type": "code",
   "execution_count": null,
   "metadata": {},
   "outputs": [],
   "source": [
    "book_runner = GUIRunner(driver)"
   ]
  },
  {
   "cell_type": "code",
   "execution_count": null,
   "metadata": {
    "button": false,
    "new_sheet": false,
    "run_control": {
     "read_only": false
    },
    "slideshow": {
     "slide_type": "subslide"
    }
   },
   "outputs": [],
   "source": [
    "book_fuzzer = GUIFuzzer(driver, log_gui_exploration=True)  # , disp_gui_exploration=True)"
   ]
  },
  {
   "cell_type": "code",
   "execution_count": null,
   "metadata": {},
   "outputs": [],
   "source": [
    "book_fuzzer.initial_url"
   ]
  },
  {
   "cell_type": "code",
   "execution_count": null,
   "metadata": {},
   "outputs": [],
   "source": [
    "driver.get(\"https://www.fuzzingbook.org/\")"
   ]
  },
  {
   "cell_type": "code",
   "execution_count": null,
   "metadata": {},
   "outputs": [],
   "source": [
    "book_fuzzer.explore_all(book_runner, max_actions=10)"
   ]
  },
  {
   "cell_type": "markdown",
   "metadata": {},
   "source": [
    "That's it – we're done!"
   ]
  },
  {
   "cell_type": "code",
   "execution_count": null,
   "metadata": {},
   "outputs": [],
   "source": [
    "fsm_diagram(book_fuzzer.grammar)"
   ]
  },
  {
   "cell_type": "markdown",
   "metadata": {},
   "source": [
    "## Cleaning up"
   ]
  },
  {
   "cell_type": "code",
   "execution_count": null,
   "metadata": {},
   "outputs": [],
   "source": [
    "driver.quit()"
   ]
  },
  {
   "cell_type": "code",
   "execution_count": null,
   "metadata": {},
   "outputs": [],
   "source": [
    "import os"
   ]
  },
  {
   "cell_type": "code",
   "execution_count": null,
   "metadata": {},
   "outputs": [],
   "source": [
    "for temp_file in [ORDERS_DB, \"geckodriver.log\", \"ghostdriver.log\"]:\n",
    "    if os.path.exists(temp_file):\n",
    "        os.remove(temp_file)"
   ]
  },
  {
   "cell_type": "markdown",
   "metadata": {
    "button": false,
    "new_sheet": true,
    "run_control": {
     "read_only": false
    }
   },
   "source": [
    "## Lessons Learned\n",
    "\n",
    "* _Lesson one_\n",
    "* _Lesson two_\n",
    "* _Lesson three_"
   ]
  },
  {
   "cell_type": "markdown",
   "metadata": {
    "button": false,
    "new_sheet": false,
    "run_control": {
     "read_only": false
    }
   },
   "source": [
    "## Next Steps\n",
    "\n",
    "_Link to subsequent chapters (notebooks) here, as in:_\n",
    "\n",
    "* [use _mutations_ on existing inputs to get more valid inputs](MutationFuzzer.ipynb)\n",
    "* [use _grammars_ (i.e., a specification of the input format) to get even more valid inputs](Grammars.ipynb)\n",
    "* [reduce _failing inputs_ for efficient debugging](Reducer.ipynb)\n"
   ]
  },
  {
   "cell_type": "markdown",
   "metadata": {},
   "source": [
    "## Background\n",
    "\n",
    "_Cite relevant works in the literature and put them into context, as in:_\n",
    "\n",
    "The idea of ensuring that each expansion in the grammar is used at least once goes back to Burkhardt \\cite{Burkhardt1967}, to be later rediscovered by Paul Purdom \\cite{Purdom1972}."
   ]
  },
  {
   "cell_type": "markdown",
   "metadata": {
    "button": false,
    "new_sheet": true,
    "run_control": {
     "read_only": false
    }
   },
   "source": [
    "## Exercises\n",
    "\n",
    "1. Combinatorial testing: Extend the grammar miner such that for every boolean value, there is a separate value to be covered.\n",
    "\n",
    "2. During testing, prefer paths to yet uncovered states.\n",
    "\n",
    "_Close the chapter with a few exercises such that people have things to do.  To make the solutions hidden (to be revealed by the user), have them start with_\n",
    "\n",
    "```markdown\n",
    "**Solution.**\n",
    "```\n",
    "\n",
    "_Your solution can then extend up to the next title (i.e., any markdown cell starting with `#`)._\n",
    "\n",
    "_Running `make metadata` will automatically add metadata to the cells such that the cells will be hidden by default, and can be uncovered by the user.  The button will be introduced above the solution._"
   ]
  },
  {
   "cell_type": "markdown",
   "metadata": {
    "button": false,
    "new_sheet": false,
    "run_control": {
     "read_only": false
    }
   },
   "source": [
    "### Exercise 1: _Title_\n",
    "\n",
    "_Text of the exercise_"
   ]
  },
  {
   "cell_type": "code",
   "execution_count": null,
   "metadata": {
    "cell_style": "center"
   },
   "outputs": [],
   "source": [
    "# Some code that is part of the exercise\n",
    "pass"
   ]
  },
  {
   "cell_type": "markdown",
   "metadata": {
    "solution2": "hidden",
    "solution2_first": true
   },
   "source": [
    "_Some more text for the exercise_"
   ]
  },
  {
   "cell_type": "markdown",
   "metadata": {
    "slideshow": {
     "slide_type": "skip"
    },
    "solution2": "hidden"
   },
   "source": [
    "**Solution.** _Some text for the solution_"
   ]
  },
  {
   "cell_type": "code",
   "execution_count": null,
   "metadata": {
    "cell_style": "split",
    "slideshow": {
     "slide_type": "skip"
    },
    "solution2": "hidden"
   },
   "outputs": [],
   "source": [
    "# Some code for the solution\n",
    "2 + 2"
   ]
  },
  {
   "cell_type": "markdown",
   "metadata": {
    "slideshow": {
     "slide_type": "skip"
    },
    "solution2": "hidden"
   },
   "source": [
    "_Some more text for the solution_"
   ]
  },
  {
   "cell_type": "markdown",
   "metadata": {
    "button": false,
    "new_sheet": false,
    "run_control": {
     "read_only": false
    },
    "solution": "hidden",
    "solution2": "hidden",
    "solution2_first": true,
    "solution_first": true
   },
   "source": [
    "### Exercise 2: _Title_\n",
    "\n",
    "_Text of the exercise_"
   ]
  }
 ],
 "metadata": {
  "ipub": {
   "bibliography": "fuzzingbook.bib",
   "toc": true
  },
  "kernelspec": {
   "display_name": "Python 3",
   "language": "python",
   "name": "python3"
  },
  "language_info": {
   "codemirror_mode": {
    "name": "ipython",
    "version": 3
   },
   "file_extension": ".py",
   "mimetype": "text/x-python",
   "name": "python",
   "nbconvert_exporter": "python",
   "pygments_lexer": "ipython3",
   "version": "3.6.6"
  },
  "toc": {
   "base_numbering": 1,
   "nav_menu": {},
   "number_sections": true,
   "sideBar": true,
   "skip_h1_title": true,
   "title_cell": "",
   "title_sidebar": "Contents",
   "toc_cell": false,
   "toc_position": {},
   "toc_section_display": true,
   "toc_window_display": true
  },
  "toc-autonumbering": false
 },
 "nbformat": 4,
 "nbformat_minor": 2
}
