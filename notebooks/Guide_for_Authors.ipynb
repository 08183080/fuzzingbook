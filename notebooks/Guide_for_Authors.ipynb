{
 "cells": [
  {
   "cell_type": "markdown",
   "metadata": {
    "button": false,
    "collapsed": true,
    "deletable": true,
    "new_sheet": false,
    "run_control": {
     "read_only": false
    },
    "slideshow": {
     "slide_type": "slide"
    }
   },
   "source": [
    "# Guide for Authors\n",
    "\n",
    "This workbook compiles the most important conventions for all book chapters.\n"
   ]
  },
  {
   "cell_type": "markdown",
   "metadata": {
    "button": false,
    "deletable": true,
    "new_sheet": false,
    "run_control": {
     "read_only": false
    },
    "slideshow": {
     "slide_type": "slide"
    }
   },
   "source": [
    "## Organization of this Book"
   ]
  },
  {
   "cell_type": "markdown",
   "metadata": {
    "button": false,
    "deletable": true,
    "new_sheet": false,
    "run_control": {
     "read_only": false
    },
    "slideshow": {
     "slide_type": "subslide"
    }
   },
   "source": [
    "### Chapters  as Notebooks\n",
    "\n",
    "Each chapter comes in its own _Jupyter notebook_.  A single notebook (= a chapter) should cover the material (text and code, possibly slides) for a 90-minute lecture.\n",
    "\n",
    "A chapter notebook should be named `Topic.ipynb`, where `Topic` is the topic.  `Topic` must be usable as a Python module, so `Topic` should:\n",
    "\n",
    "* start with an upercase letter\n",
    "* consist of letters and underscores (`_`) only\n",
    "* should use underscores (`_`) to separate words.\n",
    "\n",
    "All non-notebook files and folders come with lowercase letters; this may make it easier to differentiate them.\n",
    "\n",
    "Notebooks are stored in the `notebooks` folder."
   ]
  },
  {
   "cell_type": "markdown",
   "metadata": {
    "button": false,
    "deletable": true,
    "new_sheet": false,
    "run_control": {
     "read_only": false
    },
    "slideshow": {
     "slide_type": "subslide"
    }
   },
   "source": [
    "### Output Formats\n",
    "\n",
    "The notebooks by themselves can be used by instructors and students to toy around with.  They can edit code (and text) as they like and even run them as a slide show.\n",
    "\n",
    "The notebook can be _exported_ to multiple (non-interactive) formats:\n",
    "\n",
    "* HTML – for placing this material online.\n",
    "* PDF – for printing (and selling :-)\n",
    "* Python – for coding\n",
    "* Slides – for presenting\n",
    "\n",
    "The default export options already do a good job in producing these formats; however, there also is a Makefile that generates all of these automatically."
   ]
  },
  {
   "cell_type": "markdown",
   "metadata": {
    "button": false,
    "deletable": true,
    "new_sheet": false,
    "run_control": {
     "read_only": false
    },
    "slideshow": {
     "slide_type": "subslide"
    }
   },
   "source": [
    "### The Book\n",
    "\n",
    "The book is compiled automatically from the individual notebooks.  Each notebook becomes a chapter; references are compiled in the final chapter."
   ]
  },
  {
   "cell_type": "markdown",
   "metadata": {
    "button": false,
    "deletable": true,
    "new_sheet": false,
    "run_control": {
     "read_only": false
    }
   },
   "source": [
    "## Creating and Building"
   ]
  },
  {
   "cell_type": "markdown",
   "metadata": {
    "button": false,
    "deletable": true,
    "new_sheet": false,
    "run_control": {
     "read_only": false
    }
   },
   "source": [
    "### Tools you will need\n",
    "\n",
    "To work on the notebook files, you need the following:\n",
    "\n",
    "1. Jupyter notebook.  The easiest way to install this is via the [Anaconda distribution](https://www.anaconda.com/download/)\n",
    "\n",
    "2. Once you have the Jupyter notebook installed, you can start editing and coding right away by starting `jupyter notebook` in the topmost folder.  You can download PDF versions from the environment.\n",
    "\n",
    "3. On the Mac, the `Pineapple` app integrates a nice editor with a local server.  This is easy to use, but misses a few features.\n",
    "\n",
    "4. To create the entire book (with citations, references, and all), you also need the [ipybublish](https://github.com/chrisjsewell/ipypublish) package.  This allows you to merge multiple chapters into a single PDF or HTML file, create slides, and more.  A Makefile provides the essential tools for creation.\n"
   ]
  },
  {
   "cell_type": "markdown",
   "metadata": {
    "button": false,
    "deletable": true,
    "new_sheet": false,
    "run_control": {
     "read_only": false
    }
   },
   "source": [
    "### Version Control\n",
    "\n",
    "We use git in a single strand of revisions.  Do not branch, do not merge. Sync early; sync often.  Only push if everything (\"make all\") builds and passes.\n"
   ]
  },
  {
   "cell_type": "markdown",
   "metadata": {
    "button": false,
    "deletable": true,
    "new_sheet": false,
    "run_control": {
     "read_only": false
    }
   },
   "source": [
    "The [nbdime](https://github.com/jupyter/nbdime) package gives you tools such as `nbdiff` (and even better, `nbdiff-web`) to compare notebooks against each other; this ensures that cell _contents_ are compared rather than the binary format.\n",
    "\n",
    "\n",
    "`nbdime config-git --enable` integrates nbdime with git such that `git diff` runs the above tools; merging should also be notebook-specific."
   ]
  },
  {
   "cell_type": "markdown",
   "metadata": {
    "button": false,
    "deletable": true,
    "new_sheet": false,
    "run_control": {
     "read_only": false
    }
   },
   "source": [
    "### Creating Derived Formats (HTML, PDF, code, ...)\n",
    "\n",
    "The `Makefile` provides rules for all targets.  Type `make help` for instructions.\n",
    "\n",
    "The Makefile should work with GNU make and a standard Jupyter Notebook installation.  To create the multi-chapter book and BibTeX citation support, you need to install the  [iPyPublish](https://github.com/chrisjsewell/ipypublish) package (which includes the `nbpublish` command)."
   ]
  },
  {
   "cell_type": "markdown",
   "metadata": {
    "button": false,
    "deletable": true,
    "new_sheet": false,
    "run_control": {
     "read_only": false
    }
   },
   "source": [
    "### Creating a New Chapter\n",
    "\n",
    "To create a new chapter for the book,\n",
    "\n",
    "1. Set up a new `.ipynb` notebook file.  You can create one from scratch, or\n",
    "   by copying an existing one and deleting cells. (This latter option makes it easier to preserve metadata.)\n",
    "\n",
    "2. Include it in the `CHAPTERS` list in the `Makefile`\n",
    "\n",
    "3. Add it to the git repository."
   ]
  },
  {
   "cell_type": "markdown",
   "metadata": {
    "button": false,
    "deletable": true,
    "new_sheet": false,
    "run_control": {
     "read_only": false
    },
    "slideshow": {
     "slide_type": "slide"
    }
   },
   "source": [
    "## Coding"
   ]
  },
  {
   "cell_type": "markdown",
   "metadata": {
    "button": false,
    "deletable": true,
    "new_sheet": false,
    "run_control": {
     "read_only": false
    },
    "slideshow": {
     "slide_type": "slide"
    }
   },
   "source": [
    "### Set up\n",
    "\n",
    "The first code block in each notebook should be"
   ]
  },
  {
   "cell_type": "code",
   "execution_count": 1,
   "metadata": {
    "button": false,
    "collapsed": true,
    "deletable": true,
    "new_sheet": false,
    "run_control": {
     "read_only": false
    },
    "slideshow": {
     "slide_type": "fragment"
    }
   },
   "outputs": [],
   "source": [
    "import gstbook"
   ]
  },
  {
   "cell_type": "markdown",
   "metadata": {
    "button": false,
    "deletable": true,
    "new_sheet": false,
    "run_control": {
     "read_only": false
    },
    "slideshow": {
     "slide_type": "fragment"
    }
   },
   "source": [
    "This sets up stuff such that notebooks can import each other's code (see below). This import statement is removed in the exported Python code, as the .py files would import each other directly."
   ]
  },
  {
   "cell_type": "markdown",
   "metadata": {
    "button": false,
    "deletable": true,
    "new_sheet": false,
    "run_control": {
     "read_only": false
    }
   },
   "source": [
    "### Coding Style and Consistency\n",
    "\n",
    "We use Python 3 (specifically, Python 3.5) for all code.  If you can, try to write code that can be easily backported to Python 2.\n",
    "\n",
    "We use standard Python coding conventions according to [PEP 8](https://www.python.org/dev/peps/pep-0008/).  \n",
    "\n",
    "Your code must pass the `pycodestyle` style checks which you get by invoking `make style`.  The `code prettify` notebook extension allows you to automatically make your code adhere to PEP 8.\n",
    "\n",
    "Beyond simple syntactical things, here's a [very nice guide](https://docs.python-guide.org/writing/style/) to get you started writing \"pythonic\" code.\n"
   ]
  },
  {
   "cell_type": "markdown",
   "metadata": {
    "button": false,
    "deletable": true,
    "new_sheet": false,
    "run_control": {
     "read_only": false
    }
   },
   "source": [
    "### Design and Architecture\n",
    "\n",
    "Stick to simple functions and data types.  We want our readers to focus on functionality, not Python.  You are encouraged to write in a \"pythonic\" style, making use of elegant Python features such as list comprehensions, sets, and more; however, if you do so, be sure to explain the code such that readers familiar with, say, C or Java can still understand things.\n",
    "\n",
    "Do not use object orientation - in notebooks, you can only define classes as a whole, which clashes with the notebook style of incrementally developing a program."
   ]
  },
  {
   "cell_type": "markdown",
   "metadata": {
    "button": false,
    "deletable": true,
    "new_sheet": false,
    "run_control": {
     "read_only": false
    },
    "slideshow": {
     "slide_type": "slide"
    }
   },
   "source": [
    "### Using Notebooks as Modules\n",
    "\n",
    "Each notebook becomes a _module_ in Python which can be imported by others.\n",
    "\n",
    "Unfortunately, code that has side effects (say, `print` statements) will also be executed during import.  If that is a problem, guard statements to be run in the notebook only with\n",
    "\n",
    "```python\n",
    "if __name__ == '__main__':\n",
    "    code_to_be_executed_in_notebook_only()\n",
    "```\n",
    "\n",
    "Since this clutters up notebooks quite a bit, use it ony when needed."
   ]
  },
  {
   "cell_type": "markdown",
   "metadata": {
    "button": false,
    "deletable": true,
    "new_sheet": false,
    "run_control": {
     "read_only": false
    },
    "slideshow": {
     "slide_type": "slide"
    }
   },
   "source": [
    "### Importing Code from Other Modules\n",
    "\n",
    "To import the code of individual notebooks, you can import directly from .ipynb notebook files.  Since notebooks may perform calculations and print results (see above), use the `%%capture` magic at the beginning of a cell to suppress output."
   ]
  },
  {
   "cell_type": "code",
   "execution_count": 6,
   "metadata": {
    "button": false,
    "collapsed": false,
    "deletable": true,
    "new_sheet": false,
    "run_control": {
     "read_only": false
    },
    "scrolled": true,
    "slideshow": {
     "slide_type": "slide"
    }
   },
   "outputs": [],
   "source": [
    "%%capture\n",
    "from Basic_Fuzzing import fuzzer"
   ]
  },
  {
   "cell_type": "code",
   "execution_count": 7,
   "metadata": {
    "button": false,
    "collapsed": false,
    "deletable": true,
    "new_sheet": false,
    "run_control": {
     "read_only": false
    }
   },
   "outputs": [
    {
     "data": {
      "text/plain": [
       "'90337667134788079943802799571210536741217107132040797894394591889846996'"
      ]
     },
     "execution_count": 7,
     "metadata": {},
     "output_type": "execute_result"
    }
   ],
   "source": [
    "fuzzer(100, ord('0'), 10)"
   ]
  },
  {
   "cell_type": "markdown",
   "metadata": {
    "button": false,
    "deletable": true,
    "new_sheet": false,
    "run_control": {
     "read_only": false
    },
    "slideshow": {
     "slide_type": "fragment"
    }
   },
   "source": [
    "The exported Python code will import from the respective .py file instead."
   ]
  },
  {
   "cell_type": "markdown",
   "metadata": {
    "button": false,
    "deletable": true,
    "new_sheet": false,
    "run_control": {
     "read_only": false
    },
    "slideshow": {
     "slide_type": "fragment"
    }
   },
   "source": [
    "Please have all imports at the beginning of the workbook, such that dependencies are clear."
   ]
  },
  {
   "cell_type": "markdown",
   "metadata": {
    "button": false,
    "deletable": true,
    "new_sheet": false,
    "run_control": {
     "read_only": false
    }
   },
   "source": [
    "### Quality Assurance\n",
    "\n",
    "In your code, make use of plenty of assertions that allow to catch errors quickly.  You can also add _hidden assertions_ that would not be included in the final PDF, but still run (and break the build if they fail)."
   ]
  },
  {
   "cell_type": "markdown",
   "metadata": {
    "button": false,
    "deletable": true,
    "new_sheet": false,
    "run_control": {
     "read_only": false
    }
   },
   "source": [
    "### Issue Tracker\n",
    "\n",
    "The GitLab project page allows to enter and track issues."
   ]
  },
  {
   "cell_type": "markdown",
   "metadata": {
    "button": false,
    "deletable": true,
    "new_sheet": false,
    "run_control": {
     "read_only": false
    },
    "slideshow": {
     "slide_type": "slide"
    }
   },
   "source": [
    "## Writing Text\n",
    "\n",
    "Text blocks use Markdown syntax.  [Here is a handy guide](https://github.com/adam-p/markdown-here/wiki/Markdown-Cheatsheet).\n"
   ]
  },
  {
   "cell_type": "markdown",
   "metadata": {
    "button": false,
    "deletable": true,
    "new_sheet": false,
    "run_control": {
     "read_only": false
    },
    "slideshow": {
     "slide_type": "subslide"
    }
   },
   "source": [
    "### Sections\n",
    "\n",
    "Any chapter notebook must begin with `# TITLE`, and sections and subsections should then follow by `## SECTION` and `### SUBSECTION`.\n",
    "\n",
    "Sections should start with their own block, to facilitate cross-referencing.\n"
   ]
  },
  {
   "cell_type": "markdown",
   "metadata": {
    "button": false,
    "deletable": true,
    "new_sheet": false,
    "run_control": {
     "read_only": false
    },
    "slideshow": {
     "slide_type": "subslide"
    }
   },
   "source": [
    "### Highlighting\n",
    "\n",
    "Use\n",
    "\n",
    "* _emphasis_ for highlighting,\n",
    "* `backticks` for code and other verbatim elements.\n"
   ]
  },
  {
   "cell_type": "markdown",
   "metadata": {
    "button": false,
    "deletable": true,
    "new_sheet": false,
    "run_control": {
     "read_only": false
    }
   },
   "source": [
    "### Hyphens and Dashes\n",
    "\n",
    "Use – for em-dashes, - for hyphens, and $-$ for minus."
   ]
  },
  {
   "cell_type": "markdown",
   "metadata": {
    "button": false,
    "deletable": true,
    "new_sheet": false,
    "run_control": {
     "read_only": false
    },
    "slideshow": {
     "slide_type": "subslide"
    }
   },
   "source": [
    "### Lists and enumerations\n",
    "\n",
    "You can use bulleted lists:\n",
    "\n",
    "* Item A\n",
    "* Item B\n",
    "\n",
    "and enumerations:\n",
    "\n",
    "1. item 1\n",
    "1. item 2\n",
    "\n",
    "For description lists, use a combination of bulleted lists and highlights:\n",
    "\n",
    "* **PDF** is great for reading offline\n",
    "* **HTML** is great for reading online\n"
   ]
  },
  {
   "cell_type": "markdown",
   "metadata": {
    "button": false,
    "deletable": true,
    "new_sheet": false,
    "run_control": {
     "read_only": false
    },
    "slideshow": {
     "slide_type": "subslide"
    }
   },
   "source": [
    "\n",
    "### Math\n",
    "\n",
    "LaTeX math formatting works, too.\n",
    "\n",
    "`$x = \\sum_{n = 1}^{\\infty}\\frac{1}{n}$` gets you\n",
    "$x = \\sum_{n = 1}^{\\infty}\\frac{1}{n}$.\n"
   ]
  },
  {
   "cell_type": "markdown",
   "metadata": {
    "button": false,
    "deletable": true,
    "new_sheet": false,
    "run_control": {
     "read_only": false
    },
    "slideshow": {
     "slide_type": "subslide"
    }
   },
   "source": [
    "### Inline Code\n",
    "\n",
    "Python code normally goes into its own cells, but you can also have it in the text:\n",
    "\n",
    "```python\n",
    "s = \"Python syntax highlighting\"\n",
    "print s\n",
    "```"
   ]
  },
  {
   "cell_type": "markdown",
   "metadata": {
    "button": false,
    "deletable": true,
    "ipub": {
     "figure": {
      "caption": "Figure caption.",
      "height": 0.4,
      "label": "fig:flabel",
      "placement": "H",
      "widefigure": false
     }
    },
    "new_sheet": false,
    "run_control": {
     "read_only": false
    }
   },
   "source": [
    "## Images\n",
    "\n",
    "To insert images, use Markdown syntax `![Andreas Zeller](PICS/Zeller.jpg){width=100%}` inserts a picture from the `PICS` folder."
   ]
  },
  {
   "cell_type": "markdown",
   "metadata": {
    "button": false,
    "deletable": true,
    "ipub": {
     "figure": {
      "caption": "This is Andreas Zeller",
      "label": "fig:zeller",
      "placement": "H",
      "widefigure": false,
      "width": 1
     }
    },
    "new_sheet": false,
    "run_control": {
     "read_only": false
    }
   },
   "source": [
    "![Andreas Zeller](PICS/Zeller.jpg){width=100%}"
   ]
  },
  {
   "cell_type": "markdown",
   "metadata": {
    "button": false,
    "deletable": true,
    "new_sheet": false,
    "run_control": {
     "read_only": false
    }
   },
   "source": [
    "All pictures go to `PICS/`, both in source as well as derived formats; both are stored in git, too.  (Not all of us have all tools to recreate diagrams, etc.)"
   ]
  },
  {
   "cell_type": "markdown",
   "metadata": {
    "button": false,
    "deletable": true,
    "new_sheet": false,
    "run_control": {
     "read_only": false
    }
   },
   "source": [
    "## Floating Elements and References\n",
    "\n",
    "\\todo[inline]{I haven't gotten this to work yet -- AZ}\n",
    "\n",
    "To produce floating elements in LaTeX and PDF, edit the metadata of the cell which contains it. (In the Jupyter Notebook Toolbar go to View -> Cell Toolbar -> Edit Metadata and a button will appear above each cell.) This allows you to control placement and create labels.\n",
    "\n",
    "### Floating Figures\n",
    "\n",
    "Edit metadata as follows:\n",
    "\n",
    "```json\n",
    "{\n",
    "\"ipub\": {\n",
    "  \"figure\": {\n",
    "    \"caption\": \"Figure caption.\",\n",
    "    \"label\": \"fig:flabel\",\n",
    "    \"placement\": \"H\",\n",
    "\t\"height\":0.4,\n",
    "    \"widefigure\": false,\n",
    "    }\n",
    "  }\n",
    "}\n",
    "```\n",
    "\n",
    "- all tags are optional\n",
    "- height/width correspond to the fraction of the page height/width, only one should be used (aspect ratio will be maintained automatically)\n",
    "- `placement` is optional and constitutes using a placement arguments for the figure (e.g. \\begin{figure}[H]). See [Positioning_images_and_tables](https://www.sharelatex.com/learn/Positioning_images_and_tables).\n",
    "- `widefigure` is optional and constitutes expanding the figure to the page width (i.e. \\begin{figure*}) (placement arguments will then be ignored)\n",
    "\n",
    "\n",
    "### Floating Tables\n",
    "\n",
    "For  **tables** (e.g. those output by `pandas`), enter in cell metadata:\n",
    "\n",
    "```json\n",
    "{\n",
    "\"ipub\": {\n",
    "     \"table\": {\n",
    "\t    \"caption\": \"Table caption.\",\n",
    "\t    \"label\": \"tbl:tlabel\",\n",
    "\t    \"placement\": \"H\",\n",
    "            \"alternate\": \"gray!20\"\n",
    "\t  }\n",
    "   }\n",
    "}\n",
    "```\n",
    "\n",
    "- `caption` and `label` are optional\n",
    "- `placement` is optional and constitutes using a placement arguments for the table (e.g. \\begin{table}[H]). See [Positioning_images_and_tables](https://www.sharelatex.com/learn/Positioning_images_and_tables).\n",
    "- `alternate` is optional and constitutes using alternating colors for the table rows (e.g. \\rowcolors{2}{gray!25}{white}). See (https://tex.stackexchange.com/a/5365/107738)[https://tex.stackexchange.com/a/5365/107738].\n",
    "- if tables exceed the text width, in latex, they will be shrunk to fit \n",
    "\n",
    "\n",
    "### Floating Equations\n",
    "\n",
    "For  **equations** (e.g. those output by `sympy`), enter in cell metadata:\n",
    "\n",
    "```json\n",
    "{\n",
    "  \"ipub\": {\n",
    "\t  \"equation\": {\n",
    "        \"environment\": \"equation\",\n",
    "\t    \"label\": \"eqn:elabel\"\n",
    "\t  }\n",
    "  }\n",
    "}\n",
    "```\n",
    "\n",
    "- environment is optional and can be 'none' or any of those available in [amsmath](https://www.sharelatex.com/learn/Aligning_equations_with_amsmath); 'equation', 'align','multline','gather', or their \\* variants. Additionaly, 'breqn' or 'breqn\\*' will select the experimental [breqn](https://ctan.org/pkg/breqn) environment to *smart* wrap long equations. \n",
    "- label is optional and will only be used if the equation is in an environment\n",
    "\n",
    "\n",
    "### References\n",
    "\n",
    "To reference to a floating object, use `\\cref`, e.g. \\cref{eq:texdemo}\n",
    "\n"
   ]
  },
  {
   "cell_type": "markdown",
   "metadata": {
    "button": false,
    "deletable": true,
    "new_sheet": false,
    "run_control": {
     "read_only": false
    },
    "slideshow": {
     "slide_type": "subslide"
    }
   },
   "source": [
    "## Cross-Referencing\n",
    "\n",
    "###  Section References\n",
    "\n",
    "* To refer to sections in the same notebook, use the header name as anchor, e.g. \n",
    "`[Code](#Code)` gives you [Code](#Code).  For multi-word titles, replace spaces by hyphens (`-`), as in [Using Notebooks as Modules](#Using-Notebooks-as-Modules).\n",
    "\n",
    "* To refer to cells (e.g. equations or figures), you can define a label as cell metadata.  See [Floating Elements and References](#Floating-Elements-and-References) for details.\n",
    "\n",
    "* To refer to other notebooks, use a Markdown cross-reference to the notebook file, e.g. [the \"Fuzzing\" chapter](Basic_Fuzzing.ipynb).  A special script will be run to take care of these links.  Reference chapters by name, not by number."
   ]
  },
  {
   "cell_type": "markdown",
   "metadata": {
    "button": false,
    "deletable": true,
    "new_sheet": false,
    "run_control": {
     "read_only": false
    },
    "slideshow": {
     "slide_type": "subslide"
    }
   },
   "source": [
    "### Citations\n",
    "\n",
    "To cite papers, cite in LaTeX style: `\\cite{purdom1972}`, which gets you \\cite{purdom1972}.  The keys refer to BibTeX entries in [gstbook.bib](gstbook.bib).  \n",
    "\n",
    "* LaTeX/PDF output will have a \"References\" section appended.\n",
    "* HTML output will link to the URL field from the BibTeX entry. Be sure it points to the DOI."
   ]
  },
  {
   "cell_type": "markdown",
   "metadata": {
    "button": false,
    "deletable": true,
    "new_sheet": false,
    "run_control": {
     "read_only": false
    },
    "slideshow": {
     "slide_type": "subslide"
    }
   },
   "source": [
    "## Todo's\n",
    "\n",
    "* To mark todo's, use `\\todo{Thing to be done}.`  \\todo{Expand this}"
   ]
  },
  {
   "cell_type": "markdown",
   "metadata": {
    "button": false,
    "deletable": true,
    "new_sheet": false,
    "run_control": {
     "read_only": false
    },
    "slideshow": {
     "slide_type": "slide"
    }
   },
   "source": [
    "## Tables\n",
    "\n",
    "Tables with fixed contents can be produced using Markdown syntax:\n",
    "\n",
    "| Tables | Are | Cool |\n",
    "| ------ | ---:| ----:|\n",
    "| Zebra  | 2   |   30 |\n",
    "| Gnu    | 20  |  400 |\n"
   ]
  },
  {
   "cell_type": "markdown",
   "metadata": {
    "button": false,
    "deletable": true,
    "new_sheet": false,
    "run_control": {
     "read_only": false
    },
    "slideshow": {
     "slide_type": "fragment"
    }
   },
   "source": [
    "If you want to produce tables from Python data, the `PrettyTable` package (included in the book) allows to [produce tables with LaTeX-style formatting.](http://blog.juliusschulz.de/blog/ultimate-ipython-notebook)"
   ]
  },
  {
   "cell_type": "code",
   "execution_count": 4,
   "metadata": {
    "button": false,
    "collapsed": false,
    "deletable": true,
    "new_sheet": false,
    "run_control": {
     "read_only": false
    },
    "slideshow": {
     "slide_type": "fragment"
    }
   },
   "outputs": [
    {
     "data": {
      "text/html": [
       "<table><tr><td>$\\frac{a}{b}$</td><td>$b$</td><td>$c$</td></tr><tr><td>1</td><td>2</td><td>30</td></tr><tr><td>2</td><td>3</td><td>400</td></tr></table>"
      ],
      "text/latex": [
       "\\begin{tabular}{l|l|l}\n",
       "$\\frac{a}{b}$ & $b$ & $c$\\\\ \n",
       "1 & 2 & 30\\\\ \n",
       "2 & 3 & 400\\\\ \n",
       "\\end{tabular}"
      ],
      "text/plain": [
       "[['$\\\\frac{a}{b}$', '$b$', '$c$'], array([ 1,  2, 30]), array([  2,   3, 400])]"
      ]
     },
     "execution_count": 4,
     "metadata": {},
     "output_type": "execute_result"
    }
   ],
   "source": [
    "import numpy as np\n",
    "import gstbook.PrettyTable as pt\n",
    "\n",
    "data = np.array([[1, 2, 30], [2, 3, 400]])\n",
    "pt.PrettyTable(data, [r\"$\\frac{a}{b}$\", r\"$b$\", r\"$c$\"], print_latex_longtable=False)"
   ]
  },
  {
   "cell_type": "markdown",
   "metadata": {
    "button": false,
    "collapsed": true,
    "deletable": true,
    "new_sheet": false,
    "run_control": {
     "read_only": false
    },
    "slideshow": {
     "slide_type": "slide"
    }
   },
   "source": [
    "## Plots and Data\n",
    "\n",
    "It is possible to include plots in notebooks.  Here is an example of plotting a function:"
   ]
  },
  {
   "cell_type": "code",
   "execution_count": 5,
   "metadata": {
    "button": false,
    "collapsed": false,
    "deletable": true,
    "new_sheet": false,
    "run_control": {
     "read_only": false
    },
    "scrolled": true,
    "slideshow": {
     "slide_type": "fragment"
    }
   },
   "outputs": [
    {
     "data": {
      "image/png": "[encoded data removed]",
      "text/plain": [
       "<matplotlib.figure.Figure at 0x10e8e38d0>"
      ]
     },
     "metadata": {},
     "output_type": "display_data"
    }
   ],
   "source": [
    "%matplotlib inline\n",
    "\n",
    "import matplotlib.pyplot as plt\n",
    "\n",
    "x = np.linspace(0, 3 * np.pi, 500)\n",
    "plt.plot(x, np.sin(x ** 2))\n",
    "plt.title('A simple chirp');"
   ]
  },
  {
   "cell_type": "markdown",
   "metadata": {
    "button": false,
    "deletable": true,
    "new_sheet": false,
    "run_control": {
     "read_only": false
    }
   },
   "source": [
    "And here's an example of plotting data:"
   ]
  },
  {
   "cell_type": "code",
   "execution_count": 9,
   "metadata": {
    "button": false,
    "collapsed": false,
    "deletable": true,
    "new_sheet": false,
    "run_control": {
     "read_only": false
    },
    "slideshow": {
     "slide_type": "fragment"
    }
   },
   "outputs": [
    {
     "data": {
      "image/png": "[encoded data removed]",
      "text/plain": [
       "<matplotlib.figure.Figure at 0x110180f98>"
      ]
     },
     "metadata": {},
     "output_type": "display_data"
    }
   ],
   "source": [
    "%matplotlib inline\n",
    "\n",
    "import matplotlib.pyplot as plt\n",
    "data = [25, 36, 57]\n",
    "plt.plot(data)\n",
    "plt.title('Increase in data');"
   ]
  },
  {
   "cell_type": "markdown",
   "metadata": {
    "button": false,
    "deletable": true,
    "new_sheet": false,
    "run_control": {
     "read_only": false
    },
    "slideshow": {
     "slide_type": "fragment"
    }
   },
   "source": [
    "Plots are available in all derived versions (HTML, PDF, etc.)"
   ]
  },
  {
   "cell_type": "markdown",
   "metadata": {
    "button": false,
    "deletable": true,
    "new_sheet": false,
    "run_control": {
     "read_only": false
    },
    "slideshow": {
     "slide_type": "slide"
    }
   },
   "source": [
    "## Slides\n",
    "\n",
    "You can set up the notebooks such that they also can be presented as slides.  In the browser, select View -> Cell Toolbar -> Slideshow.  You can then select a slide type for each cell:\n",
    "\n",
    "* `New slide` starts a new slide with the cell\n",
    "* `Sub-slide` starts a new slide (which you navigate \"down\" to)\n",
    "* `Fragment` is a cell that gets revealed after a click\n",
    "* `Skip` is skipped during the slide show\n",
    "* `Notes` goes into presenter notes\n",
    "\n",
    "To create slides, do `make slides`; to view them, change into the `slides/` folder and open the created HTML files.  (The `reveal.js` package has to be in the same folder as the slide to be presented.)\n",
    "\n",
    "I am not sure how many people will use the notebooks as slide shows, but it comes as a nice extra.\n",
    "\n"
   ]
  },
  {
   "cell_type": "markdown",
   "metadata": {
    "button": false,
    "deletable": true,
    "new_sheet": false,
    "run_control": {
     "read_only": false
    },
    "slideshow": {
     "slide_type": "notes"
    }
   },
   "source": [
    "(Hint: In a slide presentation, type `s` to see presenter notes.)"
   ]
  },
  {
   "cell_type": "markdown",
   "metadata": {
    "button": false,
    "deletable": true,
    "new_sheet": false,
    "run_control": {
     "read_only": false
    },
    "slideshow": {
     "slide_type": "slide"
    }
   },
   "source": [
    "## Writing Tools\n",
    "\n",
    "When you're editing in the browser, you may find these extensions helpful:  [Jupyter Notebook Extensions](https://github.com/ipython-contrib/jupyter_contrib_nbextensions) is a collection of productivity-enhancing tools (including spellcheckers).\n",
    "\n",
    "I found these extensions to be particularly useful:\n",
    "\n",
    "  * Code prettify (to produce \"nice\" syntax)\n",
    "  \n",
    "  * Codefolding\n",
    "  \n",
    "  * Live Markdown Preview (while you're editing)\n",
    "  \n",
    "  * Spell Checker (while you're editing)\n",
    "  \n",
    "  * Table of contents (for quick navigation)"
   ]
  },
  {
   "cell_type": "markdown",
   "metadata": {
    "button": false,
    "deletable": true,
    "new_sheet": false,
    "run_control": {
     "read_only": false
    },
    "slideshow": {
     "slide_type": "slide"
    }
   },
   "source": [
    "## Interaction\n",
    "\n",
    "It is possible to include interactive elements in a notebook, as in the following example:"
   ]
  },
  {
   "cell_type": "markdown",
   "metadata": {
    "button": false,
    "collapsed": true,
    "deletable": true,
    "new_sheet": false,
    "run_control": {
     "read_only": false
    },
    "slideshow": {
     "slide_type": "fragment"
    }
   },
   "source": [
    "```python\n",
    "try:\n",
    "    from ipywidgets import interact, interactive, fixed, interact_manual\n",
    "\n",
    "    x = interact(fuzzer, char_start=(32, 128), char_range=(0, 96))\n",
    "except ImportError:\n",
    "    pass\n",
    "```"
   ]
  },
  {
   "cell_type": "markdown",
   "metadata": {
    "button": false,
    "deletable": true,
    "new_sheet": false,
    "run_control": {
     "read_only": false
    },
    "slideshow": {
     "slide_type": "fragment"
    }
   },
   "source": [
    "Note that such elements will be present in the notebook versions only, but not in the HTML and PDF versions, so use them sparingly (if at all).  To avoid errors during production of derived files, protect against `ImportError` exceptions as in the above example."
   ]
  },
  {
   "cell_type": "markdown",
   "metadata": {
    "button": false,
    "collapsed": true,
    "deletable": true,
    "new_sheet": false,
    "run_control": {
     "read_only": false
    },
    "slideshow": {
     "slide_type": "slide"
    }
   },
   "source": [
    "## Read More\n",
    "\n",
    "Here is some documentation on the tools we use:\n",
    "\n",
    "1. [Markdown Cheatsheet](https://github.com/adam-p/markdown-here/wiki/Markdown-Cheatsheet) - general introduction to Markdown\n",
    "\n",
    "1. [iPyPublish](https://github.com/chrisjsewell/ipypublish) - rich set of tools to create documents with citations and references\n"
   ]
  },
  {
   "cell_type": "markdown",
   "metadata": {
    "button": false,
    "deletable": true,
    "new_sheet": false,
    "run_control": {
     "read_only": false
    },
    "slideshow": {
     "slide_type": "slide"
    }
   },
   "source": [
    "\n",
    "\n",
    "## Alternative Tool Sets\n",
    "\n",
    "We don't currently use these, but they are worth learning:\n",
    "\n",
    "1. [Making Publication-Ready Python Notebooks](http://blog.juliusschulz.de/blog/ultimate-ipython-notebook) - Another tool set on how to produce book chapters from notebooks\n",
    "\n",
    "1. [Writing academic papers in plain text with Markdown and Jupyter notebook](https://sylvaindeville.net/2015/07/17/writing-academic-papers-in-plain-text-with-markdown-and-jupyter-notebook/) - Alternate ways on how to generate citations\n",
    "\n",
    "1. [A Jupyter LaTeX template](https://gist.github.com/goerz/d5019bedacf5956bcf03ca8683dc5217#file-revtex-tplx) - How to define a LaTeX template\n",
    "\n",
    "1. [Boost Your Jupyter Notebook Productivity](https://towardsdatascience.com/jupyter-notebook-hints-1f26b08429ad) - a collection of hints for debugging and profiling Jupyter notebooks\n",
    "\n"
   ]
  }
 ],
 "metadata": {
  "celltoolbar": "Edit Metadata",
  "ipub": {
   "bibliography": "gstbook.bib",
   "listcode": false,
   "listfigures": false,
   "listtables": false,
   "titlepage": {
    "author": "Andreas Zeller",
    "subtitle": "Generating Software Tests",
    "title": "Guide for Authors"
   },
   "toc": true
  },
  "kernelspec": {
   "display_name": "Python 3",
   "language": "python",
   "name": "python3"
  },
  "language_info": {
   "codemirror_mode": {
    "name": "ipython",
    "version": 3
   },
   "file_extension": ".py",
   "mimetype": "text/x-python",
   "name": "python",
   "nbconvert_exporter": "python",
   "pygments_lexer": "ipython3",
   "version": "3.5.0"
  },
  "toc": {
   "base_numbering": 1,
   "nav_menu": {},
   "number_sections": true,
   "sideBar": true,
   "skip_h1_title": true,
   "title_cell": "",
   "title_sidebar": "Contents",
   "toc_cell": false,
   "toc_position": {},
   "toc_section_display": true,
   "toc_window_display": true
  }
 },
 "nbformat": 4,
 "nbformat_minor": 1
}
