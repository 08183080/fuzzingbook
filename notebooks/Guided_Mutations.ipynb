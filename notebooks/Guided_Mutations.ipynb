{
 "cells": [
  {
   "cell_type": "markdown",
   "metadata": {
    "button": false,
    "deletable": true,
    "new_sheet": false,
    "run_control": {
     "read_only": false
    }
   },
   "source": [
    "# Guided Mutations\n",
    "\n",
    "So far, we have essentially created inputs _randomly_, in the hope that these may eventually trigger a bug.  If we can feed in knowledge about the program behavior, we can be much more efficient in creating useful inputs.  The key to success lies in the idea of _guiding_ these mutations – that is, _keeping those that are especially valuable._  \"Valuable\" might mean that they would be syntactically valid, but also that they help covering more implemented behavior."
   ]
  },
  {
   "cell_type": "markdown",
   "metadata": {
    "button": false,
    "deletable": true,
    "new_sheet": false,
    "run_control": {
     "read_only": false
    }
   },
   "source": [
    "**Prerequisites**\n",
    "\n",
    "* This chapter extends our previous implementation of mutation-based fuzzing from the [\"Mutation-Based Fuzzing\"](Mutation_Based_Fuzzing.ipynb) chapter.\n",
    "* You should understand how to measure code coverage; for instance from the [\"Coverage\"](Coverage.ipynb) chapter."
   ]
  },
  {
   "cell_type": "markdown",
   "metadata": {
    "button": false,
    "deletable": true,
    "new_sheet": false,
    "run_control": {
     "read_only": false
    }
   },
   "source": [
    "## Multiple Mutations\n",
    "\n",
    "So far, we have only applied one single mutation on a sample string.  However, we can also apply _multiple_ mutations, further changing it.  What happens, for instance, if we apply, say, 20 mutations on our sample string?"
   ]
  },
  {
   "cell_type": "code",
   "execution_count": 14,
   "metadata": {
    "collapsed": true
   },
   "outputs": [],
   "source": [
    "import gstbook"
   ]
  },
  {
   "cell_type": "code",
   "execution_count": 18,
   "metadata": {
    "collapsed": true,
    "run_control": {}
   },
   "outputs": [],
   "source": [
    "%%capture\n",
    "from Mutation_Fuzzing import mutate, is_valid_expr, valid_inputs"
   ]
  },
  {
   "cell_type": "code",
   "execution_count": 19,
   "metadata": {
    "button": false,
    "collapsed": false,
    "deletable": true,
    "new_sheet": false,
    "run_control": {
     "read_only": false
    },
    "scrolled": true
   },
   "outputs": [
    {
     "name": "stdout",
     "output_type": "stream",
     "text": [
      "'\\x11 + 2 * 3 / 4'\n",
      "'\\x11 + 2 \" 3 / 4'\n",
      "'\\x11 + 2 \" 3 . 4'\n",
      "'\\x11 + 2 \" 3 . '\n",
      "'\\x11 + 2 \" 3? . '\n",
      "'\\x11 + 2 \" 3 . '\n",
      "'\\x11 + 2 \" 3`. '\n",
      "'\\x11 \\x0b 2 \" 3`. '\n",
      "'\\x11 \\x0b 2 #\" 3`. '\n",
      "'\\x11 \\x0b 2 \"\" 3`. '\n",
      "'\\x11 \\x0b 2 \"\" 3`.'\n",
      "'\\x11 \\x0b 2 \"\" 3a.'\n",
      "'\\x11 \\x0b 2 \" 3a.'\n",
      "'\\x11# \\x0b 2 \" 3a.'\n",
      "'\\x11# \\x0b 6 \" 3a.'\n",
      "'\\x11# \\x0b 68 \" 3a.'\n",
      "'\\x11# \\x0b \\'68 \" 3a.'\n",
      "'\\x11 \\x0b \\'68 \" 3a.'\n",
      "'\\x11 \\x0b \\'68 \" 3.'\n",
      "'\\x11 \\x0b \\'68 \"! 3.'\n"
     ]
    }
   ],
   "source": [
    "seed_input = \"1 + 2 * 3 / 4\"\n",
    "MUTATIONS = 20\n",
    "\n",
    "input = seed_input\n",
    "for i in range(MUTATIONS):\n",
    "    input = mutate(input)\n",
    "    print(repr(input))"
   ]
  },
  {
   "cell_type": "markdown",
   "metadata": {
    "button": false,
    "deletable": true,
    "new_sheet": false,
    "run_control": {
     "read_only": false
    }
   },
   "source": [
    "As you see, the original seed input is hardly recognizable anymore.  Mutating the input again and again has the advantage of getting a higher variety in the input, but on the other hand further increases the risk of having an invalid input."
   ]
  },
  {
   "cell_type": "markdown",
   "metadata": {
    "button": false,
    "deletable": true,
    "new_sheet": false,
    "run_control": {
     "read_only": false
    }
   },
   "source": [
    "The key to success lies in the idea of _guiding_ these mutations – that is, _keeping those that are especially valuable._  For instance, we may want to keep those samples that happen to be _valid_, and keep on mutating these.  To this end, we proceed as follows:\n",
    "\n",
    "1. We keep a population of seen valid inputs `population`, initialized with the seed input.\n",
    "2. We pick a random (valid) candidate from this set, which we now mutate up to `MAX_MUTATIONS` times.\n",
    "3. If the candidate is valid and new, we add it to `population`.\n",
    "4. In the next iterations, the previous candidates can be chosen again as seeds.\n",
    "\n",
    "Here's the full code:"
   ]
  },
  {
   "cell_type": "code",
   "execution_count": 20,
   "metadata": {
    "button": false,
    "collapsed": false,
    "deletable": true,
    "new_sheet": false,
    "run_control": {
     "read_only": false
    }
   },
   "outputs": [
    {
     "data": {
      "text/plain": [
       "['1 + 2 * 3 / 4',\n",
       " '1 + 2 * 30< 4',\n",
       " '1 +-  3/ 41',\n",
       " '1 + 2 * 30',\n",
       " '1 + 2* 3',\n",
       " '9874+ 2* 8',\n",
       " '9878+ 2* 18',\n",
       " ' + 24* 3 / 4',\n",
       " '9+2* 3',\n",
       " '1',\n",
       " 'g',\n",
       " '',\n",
       " '997<+2* 8',\n",
       " '974+ 5*48',\n",
       " '',\n",
       " '',\n",
       " '3',\n",
       " 'gg',\n",
       " '39',\n",
       " '']"
      ]
     },
     "execution_count": 20,
     "metadata": {},
     "output_type": "execute_result"
    }
   ],
   "source": [
    "import random\n",
    "\n",
    "def create_candidate(population):\n",
    "    MIN_MUTATIONS = 2\n",
    "    MAX_MUTATIONS = 10\n",
    "\n",
    "    candidate = random.choice(population)\n",
    "    trials = random.randint(MIN_MUTATIONS, MAX_MUTATIONS)\n",
    "    for i in range(trials):\n",
    "        candidate = mutate(candidate)\n",
    "    return candidate\n",
    "\n",
    "def create_population(seed, size):\n",
    "    population = seed\n",
    "    while len(population) < size:\n",
    "        candidate = create_candidate(population)\n",
    "        if is_valid_expr(candidate) and candidate not in valid_inputs:\n",
    "            population.append(candidate)\n",
    "    return population\n",
    "\n",
    "seed_input = \"1 + 2 * 3 / 4\"\n",
    "POPULATION_SIZE = 20\n",
    "\n",
    "create_population(seed = [seed_input], size = POPULATION_SIZE)"
   ]
  },
  {
   "cell_type": "markdown",
   "metadata": {
    "button": false,
    "deletable": true,
    "new_sheet": false,
    "run_control": {
     "read_only": false
    }
   },
   "source": [
    "As you can see, we now get an even larger variety of inputs.  If you are using the interactive notebook version of this chapter, you can toy with different settings (such as `MAX_MUTATION`) to see how they influence the outputs.  (Also see the [Exercises](#Exercises) below.)"
   ]
  },
  {
   "cell_type": "markdown",
   "metadata": {
    "button": false,
    "deletable": true,
    "new_sheet": false,
    "run_control": {
     "read_only": false
    }
   },
   "source": [
    "## Maximizing Diversity\n",
    "\n",
    "A good set of tests not only consists of valid inputs, but the inputs should also be _as diverse as possible_: If you already have tested `1 + 1`, then testing for `1 + 2` or `1 + 1 + 1` is not going to cover much additional functionality, compared to, say, `15.0 / 7`.  To easily ensure a greater diversity, we can check for two features: _length_ and _input elements_.\n"
   ]
  },
  {
   "cell_type": "markdown",
   "metadata": {
    "button": false,
    "deletable": true,
    "new_sheet": false,
    "run_control": {
     "read_only": false
    }
   },
   "source": [
    "### Diversity through Length\n",
    "\n",
    "A simple way to increase diversity in our setting is ro favor _longer inputs_.  The argument is simple: The longer a randomly generated input is, the higher its chances to cover several program features.  Let us define a function `evolve_population()` that \n",
    "\n",
    "1. Sorts the population in ascending order according to its _fitness_ (the length)\n",
    "2. Replaces the first element in the population by a new, fitter (longer) one\n",
    "\n",
    "This is what this looks like:"
   ]
  },
  {
   "cell_type": "code",
   "execution_count": 21,
   "metadata": {
    "button": false,
    "collapsed": true,
    "deletable": true,
    "new_sheet": false,
    "run_control": {
     "read_only": false
    }
   },
   "outputs": [],
   "source": [
    "def evolve_population(population, fitness = len, steps = 100):\n",
    "    evolutions = 0\n",
    "    while evolutions < steps:\n",
    "        population.sort(key=fitness)\n",
    "        \n",
    "        candidate = create_candidate(population)\n",
    "        if is_valid_expr(candidate) and fitness(candidate) > fitness(population[0]):\n",
    "            population[0] = candidate\n",
    "            evolutions += 1\n",
    "\n",
    "    return population"
   ]
  },
  {
   "cell_type": "markdown",
   "metadata": {
    "button": false,
    "deletable": true,
    "new_sheet": false,
    "run_control": {
     "read_only": false
    }
   },
   "source": [
    "Let us try out `evolve_population()` with a sample population in which one element `25` is the shortest and thus would be replaced by a new, longer element:"
   ]
  },
  {
   "cell_type": "code",
   "execution_count": 22,
   "metadata": {
    "button": false,
    "collapsed": false,
    "deletable": true,
    "new_sheet": false,
    "run_control": {
     "read_only": false
    }
   },
   "outputs": [
    {
     "data": {
      "text/plain": [
       "['375', '1 + 1', '1 + 1 + 1']"
      ]
     },
     "execution_count": 22,
     "metadata": {},
     "output_type": "execute_result"
    }
   ],
   "source": [
    "evolve_population(population = ['1 + 1', '1 + 1 + 1', '25'], steps = 1)"
   ]
  },
  {
   "cell_type": "markdown",
   "metadata": {
    "button": false,
    "deletable": true,
    "new_sheet": false,
    "run_control": {
     "read_only": false
    }
   },
   "source": [
    "We can now use this to evolve a population over several iterations.  We can see that the strings get longer and longer:"
   ]
  },
  {
   "cell_type": "code",
   "execution_count": 23,
   "metadata": {
    "button": false,
    "collapsed": false,
    "deletable": true,
    "new_sheet": false,
    "run_control": {
     "read_only": false
    }
   },
   "outputs": [
    {
     "data": {
      "text/plain": [
       "['10%+ 2  >  9*2938=1',\n",
       " '1+0 * 2  > 9*938=1',\n",
       " '10. *6 *  -93\\n=9<3',\n",
       " '1/90* 2 *  88-9=43',\n",
       " '11/9* 2 *  8-90943',\n",
       " '92*6+35<=6&586-+147',\n",
       " '92*6+35<=6&4586-+47',\n",
       " '11/9* 2 * 5 <-10943',\n",
       " '1/y0* 2 *  88-95+43',\n",
       " '92 *+6 +8-6&1958+47',\n",
       " '92 *+6 +88-61958-47',\n",
       " '92 *6+38-6&19586-+47',\n",
       " '10. *6 *  -3/\\n2=9<23',\n",
       " '10. *6 * 8 -963J=9<3',\n",
       " '11/9* 2 *  8-90+-943',\n",
       " '92*6+358-6&19456-+475',\n",
       " '92 *+6 +38-6&19586+47',\n",
       " '92 *6+35<=6&194586-+47',\n",
       " '92 *6+358-6&194586-+47',\n",
       " '11/+98* 2 *  (8-909&43)']"
      ]
     },
     "execution_count": 23,
     "metadata": {},
     "output_type": "execute_result"
    }
   ],
   "source": [
    "population = create_population(seed = [seed_input], size = POPULATION_SIZE)\n",
    "evolve_population(population)"
   ]
  },
  {
   "cell_type": "markdown",
   "metadata": {
    "button": false,
    "deletable": true,
    "new_sheet": false,
    "run_control": {
     "read_only": false
    }
   },
   "source": [
    "### Diversity in Input Elements\n",
    "\n",
    "Not only do we want long inputs, but we also want diversity in input elements.  For instance, we'd like our inputs to cover as many arithmetic operations as possible: The input `1 + 2 * 3` is shorter than the input `1234567890`, yet covers more operations.  We can achieve this by defining a special fitness function that favors inputs with a large diversity in input characters."
   ]
  },
  {
   "cell_type": "code",
   "execution_count": 24,
   "metadata": {
    "button": false,
    "collapsed": true,
    "deletable": true,
    "new_sheet": false,
    "run_control": {
     "read_only": false
    }
   },
   "outputs": [],
   "source": [
    "def diversity_fitness(s):\n",
    "    return len(set(s))"
   ]
  },
  {
   "cell_type": "markdown",
   "metadata": {
    "button": false,
    "deletable": true,
    "new_sheet": false,
    "run_control": {
     "read_only": false
    }
   },
   "source": [
    "Here, `len(set(s))` returns the size of the set of characters in `s` – that is, the number of different characters:"
   ]
  },
  {
   "cell_type": "code",
   "execution_count": 25,
   "metadata": {
    "button": false,
    "collapsed": false,
    "deletable": true,
    "new_sheet": false,
    "run_control": {
     "read_only": false
    }
   },
   "outputs": [
    {
     "data": {
      "text/plain": [
       "3"
      ]
     },
     "execution_count": 25,
     "metadata": {},
     "output_type": "execute_result"
    }
   ],
   "source": [
    "diversity_fitness(\"1 + 1\")"
   ]
  },
  {
   "cell_type": "markdown",
   "metadata": {
    "button": false,
    "deletable": true,
    "new_sheet": false,
    "run_control": {
     "read_only": false
    }
   },
   "source": [
    "We can see that this gives us even more diverse inputs:"
   ]
  },
  {
   "cell_type": "code",
   "execution_count": 26,
   "metadata": {
    "button": false,
    "collapsed": false,
    "deletable": true,
    "new_sheet": false,
    "run_control": {
     "read_only": false
    }
   },
   "outputs": [
    {
     "data": {
      "text/plain": [
       "['y>p*32+w318=21%75|5 //4-+3.78',\n",
       " '9%26 *656<=6&1943.836-+74/7',\n",
       " 'y>0*36+3158=2179<58/4-+.7',\n",
       " '9%2&+6 *65<=6&1943.863-k74/7',\n",
       " 'y>0*36+33,8=217>8<5 /54-+.7',\n",
       " 'y>p*32+w318=21%75|58 /4-+3.7',\n",
       " 'y>0*36+7121%9< 58 /4-+3.',\n",
       " 'y>p*36+78=21%79< 8 /4-+3.7 ',\n",
       " 'y>0*36+31,8=2178<5 /54-+.7',\n",
       " 'y>0*36+78=21%79< 8 /4-+3.7',\n",
       " 'y>0*3*6+731=21%7|58 /4-+3.7',\n",
       " 'y>0 *36+31,8=2179<58 /5<-+.7',\n",
       " '96%29 *656<=6.&194+3>836-+7/74',\n",
       " 'y>0*36+7318=21%75|58 /4-+3.7',\n",
       " 'y0*36+318=21%79<58 /4-+3.57',\n",
       " 'y>0*36+318=2179<58 /4-+.7',\n",
       " 'y>0*36+31,8=2179<8 /54-.7',\n",
       " 'y>0*36+31,8=2179<58 /54-+.7',\n",
       " 'y>0*36+718=21%79< 58 /4-+3.7',\n",
       " 'y>0*36+318=21%79<58 /4-+3.7']"
      ]
     },
     "execution_count": 26,
     "metadata": {},
     "output_type": "execute_result"
    }
   ],
   "source": [
    "evolve_population(population, fitness = diversity_fitness)"
   ]
  },
  {
   "cell_type": "markdown",
   "metadata": {
    "button": false,
    "deletable": true,
    "new_sheet": false,
    "run_control": {
     "read_only": false
    }
   },
   "source": [
    "However, there's a catch: As soon as our input contains a comment (a substring starting with `#`), any characters are allowed after the `#`.  The same holds if our input contains a quoted string (`'...'` or `\"...\"`); then arbitrary characters can be added to the string.  We may thus achieve diversity in comments or strings, but not necessarily in functionality.  \n",
    "\n",
    "This, of course, is one of the central problems of software testing: How can I cover all functionality of the program under test – including all its bugs?  Fortunately, researchers and practitioners have devised a great number of solutions to address this problem."
   ]
  },
  {
   "cell_type": "markdown",
   "metadata": {
    "run_control": {}
   },
   "source": [
    "## Guiding by Coverage\n",
    "\n",
    "\\todo{add}"
   ]
  },
  {
   "cell_type": "markdown",
   "metadata": {
    "button": false,
    "deletable": true,
    "new_sheet": false,
    "run_control": {
     "read_only": false
    }
   },
   "source": [
    "## Next Steps"
   ]
  },
  {
   "cell_type": "markdown",
   "metadata": {
    "button": false,
    "deletable": true,
    "new_sheet": false,
    "run_control": {
     "read_only": false
    }
   },
   "source": [
    "\n",
    "How can we sufficiently cover functionality?  Essentially, we have two options:\n",
    "\n",
    "1. Try to cover as much _implemented_ functionality as possible.  To this end, we need to access the program implementation, measure which parts would actually be reached with our inputs, and use this _coverage_ to guide our search.  We will explore this in the next chapter, which discusses [coverage](Coverage.ipynb).\n",
    "\n",
    "2. Try to cover as much _specified_ functionality as possible.  Here, we would need a specification of the input format, distinguishing between individual input elements such as (in our case) numbers, operators, comments, and strings – and attempting to cover as many of these as possible.  We will explore this as it comes to [grammar-based testing](Grammar_Testing.ipynb).\n",
    "\n",
    "Finally, the concept of a \"population\" that is systematically \"evolved\" trhough \"mutations\" will be explored in depth when discussing [search-based testing](Search_Based_Testing.ipynb).  Enjoy!\n"
   ]
  },
  {
   "cell_type": "markdown",
   "metadata": {
    "button": false,
    "collapsed": true,
    "deletable": true,
    "new_sheet": false,
    "run_control": {
     "read_only": false
    }
   },
   "source": [
    "## Exercises\n"
   ]
  },
  {
   "cell_type": "markdown",
   "metadata": {
    "button": false,
    "deletable": true,
    "new_sheet": false,
    "run_control": {
     "read_only": false
    }
   },
   "source": [
    "### Exercise 1\n",
    "\n",
    "Apply the above mutation-based fuzzing technique on `bc`, using files, as in our [Introduction to Fuzzing](Basic_Fuzzing.ipynb)."
   ]
  },
  {
   "cell_type": "markdown",
   "metadata": {
    "button": false,
    "deletable": true,
    "new_sheet": false,
    "run_control": {
     "read_only": false
    }
   },
   "source": [
    "### Exercise 2\n",
    "\n",
    "To achieve diversity in our set of inputs, one may also try to maximize the _difference_ between the individual inputs in the population.  Rather than sorting the population and replace the least fit individual, we could also compare all individuals against each other and pick the one that is most similar to all the others.  For instance, one could define similarity as the ratio of which characters are common in both strings:"
   ]
  },
  {
   "cell_type": "code",
   "execution_count": null,
   "metadata": {
    "button": false,
    "collapsed": true,
    "deletable": true,
    "new_sheet": false,
    "run_control": {
     "read_only": false
    }
   },
   "outputs": [],
   "source": [
    "def similar(s1, s2):\n",
    "    return len(set(s1) & set(s2)) / len(set(s1) | set(s2))\n",
    "\n",
    "assert similar(\"A\", \"A\") == 1.0\n",
    "assert similar(\"A\", \"B\") == 0"
   ]
  },
  {
   "cell_type": "markdown",
   "metadata": {
    "button": false,
    "deletable": true,
    "new_sheet": false,
    "run_control": {
     "read_only": false
    }
   },
   "source": [
    "Here, `a & b` and `a | b` denote the intersection and union of two sets, respectively."
   ]
  },
  {
   "cell_type": "markdown",
   "metadata": {
    "button": false,
    "deletable": true,
    "new_sheet": false,
    "run_control": {
     "read_only": false
    }
   },
   "source": [
    "The more the set of characters in two strings is the same, the higer the value of `similar()`:"
   ]
  },
  {
   "cell_type": "code",
   "execution_count": null,
   "metadata": {
    "button": false,
    "collapsed": false,
    "deletable": true,
    "new_sheet": false,
    "run_control": {
     "read_only": false
    }
   },
   "outputs": [],
   "source": [
    "similar(\"Apple\", \"Microsoft\")"
   ]
  },
  {
   "cell_type": "code",
   "execution_count": null,
   "metadata": {
    "button": false,
    "collapsed": false,
    "deletable": true,
    "new_sheet": false,
    "run_control": {
     "read_only": false
    }
   },
   "outputs": [],
   "source": [
    "similar(\"Python\", \"Boa constrictor\")"
   ]
  },
  {
   "cell_type": "code",
   "execution_count": null,
   "metadata": {
    "button": false,
    "collapsed": false,
    "deletable": true,
    "new_sheet": false,
    "run_control": {
     "read_only": false
    }
   },
   "outputs": [],
   "source": [
    "similar(\"Python 2\", \"Python 3\")"
   ]
  },
  {
   "cell_type": "markdown",
   "metadata": {
    "button": false,
    "deletable": true,
    "new_sheet": false,
    "run_control": {
     "read_only": false
    }
   },
   "source": [
    "When it comes to remove one element from the population, use the above `similar()` implementation to determine the one element that is most similar to all the others.  Report a typical output sample.   How expensive is your approach?"
   ]
  },
  {
   "cell_type": "markdown",
   "metadata": {
    "button": false,
    "deletable": true,
    "new_sheet": false,
    "run_control": {
     "read_only": false
    }
   },
   "source": [
    "### Exercise 3\n",
    "\n",
    "Python brings an [impressive library for computing the difference between strings](https://docs.python.org/3/library/difflib.html), which we can use to measure similarity between two strings including the ordering of characters:"
   ]
  },
  {
   "cell_type": "code",
   "execution_count": null,
   "metadata": {
    "button": false,
    "collapsed": false,
    "deletable": true,
    "new_sheet": false,
    "run_control": {
     "read_only": false
    }
   },
   "outputs": [],
   "source": [
    "from difflib import SequenceMatcher\n",
    "\n",
    "def similar(s1, s2):\n",
    "    return SequenceMatcher(None, s1, s2).ratio()"
   ]
  },
  {
   "cell_type": "markdown",
   "metadata": {
    "button": false,
    "deletable": true,
    "new_sheet": false,
    "run_control": {
     "read_only": false
    }
   },
   "source": [
    "Repeat [Exercise 2](#Exercise-2) with the above."
   ]
  }
 ],
 "metadata": {
  "celltoolbar": "Edit Metadata",
  "ipub": {
   "bibliography": "gstbook.bib",
   "listcode": false,
   "listfigures": false,
   "listtables": false,
   "titlepage": {
    "author": "Andreas Zeller, Rahul Gopinath, Gordon Fraser, and Christian Holler",
    "subtitle": "Generating Software Tests",
    "title": "Fuzzing"
   },
   "toc": true
  },
  "kernelspec": {
   "display_name": "Python 3",
   "language": "python",
   "name": "python3"
  },
  "language_info": {
   "codemirror_mode": {
    "name": "ipython",
    "version": 3
   },
   "file_extension": ".py",
   "mimetype": "text/x-python",
   "name": "python",
   "nbconvert_exporter": "python",
   "pygments_lexer": "ipython3",
   "version": "3.5.0"
  },
  "toc": {
   "base_numbering": 1,
   "nav_menu": {},
   "number_sections": true,
   "sideBar": true,
   "skip_h1_title": true,
   "title_cell": "",
   "title_sidebar": "Contents",
   "toc_cell": false,
   "toc_position": {},
   "toc_section_display": true,
   "toc_window_display": true
  }
 },
 "nbformat": 4,
 "nbformat_minor": 2
}
