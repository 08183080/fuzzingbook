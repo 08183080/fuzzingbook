{
 "cells": [
  {
   "cell_type": "markdown",
   "metadata": {},
   "source": [
    "_This notebook is a chapter of the book \"[Generating Software Tests](https://www.fuzzingbook.org/)\"._ <br>\n",
    "<a href=\"https://mybinder.org/v2/gh/uds-se/fuzzingbook/master?filepath=notebooks/CHAPTER.ipynb\" target=\"_blank\"><img style=\"float:right\" src=\"https://mybinder.org/badge.svg\" alt=\"Launch Binder (beta)\"></a>\n",
    "* _This chapter:_\n",
    "[Open as interactive notebook (beta)](https://mybinder.org/v2/gh/uds-se/fuzzingbook/master?filepathnnotebooks/CHAPTER.ipynb) • \n",
    "[Download code](http://www.fuzzingbook.org/code/CHAPTER.py) • \n",
    "[View slides](http://www.fuzzingbook.org/slides/CHAPTER.slides.html) • \n",
    "[Change history](https://github.com/uds-se/fuzzingbook/commits/master/notebooks/CHAPTER.ipynb)<br>\n",
    "* _The book:_\n",
    "[Table of contents](http://www.fuzzingbook.org/html/Main.html) • \n",
    "[Issues and comments](https://github.com/uds-se/fuzzingbook/issues) • \n",
    "[Development page](https://github.com/uds-se/fuzzingbook/)\n",
    "<hr>"
   ]
  }
 ],
 "metadata": {
  "ipub": {
   "bibliography": "fuzzingbook.bib",
   "toc": true
  },
  "kernelspec": {
   "display_name": "Python 3",
   "language": "python",
   "name": "python3"
  },
  "language_info": {
   "codemirror_mode": {
    "name": "ipython",
    "version": 3
   },
   "file_extension": ".py",
   "mimetype": "text/x-python",
   "name": "python",
   "nbconvert_exporter": "python",
   "pygments_lexer": "ipython3",
   "version": "3.6.5"
  },
  "toc": {
   "base_numbering": 1,
   "nav_menu": {},
   "number_sections": true,
   "sideBar": true,
   "skip_h1_title": true,
   "title_cell": "Table of Contents",
   "title_sidebar": "Contents",
   "toc_cell": false,
   "toc_position": {},
   "toc_section_display": true,
   "toc_window_display": false
  }
 },
 "nbformat": 4,
 "nbformat_minor": 2
}
