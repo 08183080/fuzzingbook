{
 "cells": [
  {
   "cell_type": "markdown",
   "metadata": {},
   "source": [
    "_This notebook is a chapter of the book [\"Generating Software Tests\"](https://github.com/uds-se/fuzzingbook/tree/master/html/Main.html)._ <br>\n",
    "<a href=\"https://mybinder.org/v2/gh/uds-se/fuzzingbook/master?filepath=notebooks/CHAPTER.ipynb\"><img style=\"float:right\" src=\"https://mybinder.org/badge.svg\" alt=\"Launch Binder (beta)\"></a>\n",
    "[Read-only version](https://github.com/uds-se/fuzzingbook/tree/master/html/CHAPTER.html) • [Interactive version (beta)](https://mybinder.org/v2/gh/uds-se/fuzzingbook/master?filepath=notebooks/CHAPTER.ipynb) • [Code](https://github.com/uds-se/fuzzingbook/tree/master/code/CHAPTER.py) • \n",
    "[Table of contents](https://github.com/uds-se/fuzzingbook/tree/master/html/Main.html) • [Main project page](https://github.com/uds-se/fuzzingbook/)\n",
    "<hr>"
   ]
  }
 ],
 "metadata": {
  "kernelspec": {
   "display_name": "Python 3",
   "language": "python",
   "name": "python3"
  },
  "language_info": {
   "codemirror_mode": {
    "name": "ipython",
    "version": 3
   },
   "file_extension": ".py",
   "mimetype": "text/x-python",
   "name": "python",
   "nbconvert_exporter": "python",
   "pygments_lexer": "ipython3",
   "version": "3.6.5"
  }
 },
 "nbformat": 4,
 "nbformat_minor": 2
}
