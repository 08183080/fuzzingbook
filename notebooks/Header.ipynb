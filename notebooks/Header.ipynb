{
 "cells": [
  {
   "cell_type": "markdown",
   "metadata": {},
   "source": [
    "_This notebook is a chapter of the book [Generating Software Tests](https://github.com/uds-se/fuzzingbook/notebooks/Main.html).  You can:_\n",
    "\n",
    "* **[read this notebook in the browser](https://github.com/uds-se/fuzzingbook/notebooks/CHAPTER.html)**\n",
    "* **[interact with the notebook](https://mybinder.org/v2/gh/uds-se/fuzzingbook.git/master?filepath=notebooks/CHAPTER.ipynb)** _using the mybinder service_\n",
    "* **[download the code](https://github.com/uds-se/fuzzingbook/code/CHAPTER.py)**, _or_\n",
    "* **[go to the table of contents](https://github.com/uds-se/fuzzingbook/notebooks/Main.html)**.\n",
    "\n",
    "_For announcements, follow [@FuzzingBook on Twitter](https://twitter.com/FuzzingBook).\n",
    "To contribute or provide feedback, see the [project page](https://github.com/uds-se/fuzzingbook/)._\n",
    "\n",
    "<hr>"
   ]
  }
 ],
 "metadata": {
  "kernelspec": {
   "display_name": "Python 3",
   "language": "python",
   "name": "python3"
  },
  "language_info": {
   "codemirror_mode": {
    "name": "ipython",
    "version": 3
   },
   "file_extension": ".py",
   "mimetype": "text/x-python",
   "name": "python",
   "nbconvert_exporter": "python",
   "pygments_lexer": "ipython3",
   "version": "3.6.5"
  }
 },
 "nbformat": 4,
 "nbformat_minor": 2
}
