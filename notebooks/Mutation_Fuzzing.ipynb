{
 "cells": [
  {
   "cell_type": "markdown",
   "metadata": {
    "button": false,
    "deletable": true,
    "new_sheet": false,
    "run_control": {
     "read_only": false
    }
   },
   "source": [
    "# Mutation-Based Fuzzing\n",
    "\n",
    "Most [randomly generated inputs](Basic_Fuzzing.ipynb) are syntactically _invalid_ and thus are quickly rejected by the processing program.  To exercise functionality beyond input processing, we must increase chances to obtain valid inputs.  One such way is by _mutating_ existing valid inputs - that is, introducing small changes that may still keep the input valid, yet exercise new behavior."
   ]
  },
  {
   "cell_type": "markdown",
   "metadata": {
    "button": false,
    "deletable": true,
    "new_sheet": false,
    "run_control": {
     "read_only": false
    }
   },
   "source": [
    "**Prerequisites**\n",
    "\n",
    "* You should know how basic fuzzing works; for instance, from the [\"Fuzzing\"](Basic_Fuzzing.ipynb) chapter."
   ]
  },
  {
   "cell_type": "markdown",
   "metadata": {
    "button": false,
    "deletable": true,
    "new_sheet": false,
    "run_control": {
     "read_only": false
    }
   },
   "source": [
    "## The Problem\n",
    "\n",
    "Most modern programs do a good job in _validating_ their inputs before they actually process them.  As an example, think of a _compiler_ translating program code into a lower-level language.  The processing steps of a compiler are typically depicted as a pipeline of components, each processing the input of its predecessors and producing output for its successors.  In the beginning, we typically have a lexical analysis that puts letters together into words, a syntactic analysis that puts sequences of words and items into structures, and then the actual compilation steps that translate these structures into code:\n",
    "\n",
    "![Compiler Pipeline](PICS/Compiler.pdf)\n",
    "\n",
    "The problem is that with random inputs, you will be able to exercise a lot of functionality in the leftmost stages (i.e., the lexical and possibly syntactical analyses), but the chances of actually producing a _valid_ input that will make it to the later stages are slim."
   ]
  },
  {
   "cell_type": "markdown",
   "metadata": {
    "button": false,
    "deletable": true,
    "new_sheet": false,
    "run_control": {
     "read_only": false
    }
   },
   "source": [
    "\n",
    "### Fuzzing Python Expressions\n",
    "\n",
    "To illustrate just how low the chances are, let us _illustrate the problem on the Python interpreter._  Let us get the fuzzing function from  the [\"Fuzzing\"](Basic_Fuzzing.ipynb) chapter."
   ]
  },
  {
   "cell_type": "code",
   "execution_count": 636,
   "metadata": {
    "button": false,
    "collapsed": false,
    "deletable": true,
    "new_sheet": false,
    "run_control": {
     "read_only": false
    },
    "slideshow": {
     "slide_type": "skip"
    }
   },
   "outputs": [],
   "source": [
    "import gstbook\n",
    "from Basic_Fuzzing import fuzzer"
   ]
  },
  {
   "cell_type": "markdown",
   "metadata": {
    "button": false,
    "collapsed": true,
    "deletable": true,
    "new_sheet": false,
    "run_control": {
     "read_only": false
    },
    "slideshow": {
     "slide_type": "skip"
    }
   },
   "source": [
    "We can use the `fuzzer()` function to generate random inputs.  Would this be a valid Python expression?"
   ]
  },
  {
   "cell_type": "code",
   "execution_count": 637,
   "metadata": {
    "button": false,
    "collapsed": false,
    "deletable": true,
    "new_sheet": false,
    "run_control": {
     "read_only": false
    }
   },
   "outputs": [
    {
     "data": {
      "text/plain": [
       "'%%<#4.\"2\\'9$+6=!>74#:\\'6:288?+4;+>,?(.-(=?2:<+8 >4/#4?4>3)9=\\'=)2>98\\':%$<25-:>8#;\",#>\"+?7'"
      ]
     },
     "execution_count": 637,
     "metadata": {},
     "output_type": "execute_result"
    }
   ],
   "source": [
    "fuzzer()"
   ]
  },
  {
   "cell_type": "markdown",
   "metadata": {
    "button": false,
    "deletable": true,
    "new_sheet": false,
    "run_control": {
     "read_only": false
    }
   },
   "source": [
    "To test which inputs are actually valid, we use the Python `parser` module.  `parser.suite(_source_)` returns an internal object (actually, a parse tree) if _source_ is a valid command:"
   ]
  },
  {
   "cell_type": "code",
   "execution_count": 638,
   "metadata": {
    "button": false,
    "collapsed": false,
    "deletable": true,
    "new_sheet": false,
    "run_control": {
     "read_only": false
    }
   },
   "outputs": [
    {
     "data": {
      "text/plain": [
       "<parser.st at 0x10da68d30>"
      ]
     },
     "execution_count": 638,
     "metadata": {},
     "output_type": "execute_result"
    }
   ],
   "source": [
    "import parser\n",
    "\n",
    "parser.suite(\"print(2 + 2)\")"
   ]
  },
  {
   "cell_type": "markdown",
   "metadata": {
    "button": false,
    "deletable": true,
    "new_sheet": false,
    "run_control": {
     "read_only": false
    }
   },
   "source": [
    "Note that the command is _not_ executed.  That is because evaluating or otherwise executing randomly generated strings would be quite a risk: What happens if by chance, we create a command that deletes your files?"
   ]
  },
  {
   "cell_type": "markdown",
   "metadata": {
    "button": false,
    "deletable": true,
    "new_sheet": false,
    "run_control": {
     "read_only": false
    }
   },
   "source": [
    "If _source_ is invalid, `parser.suite()` raises an exception:"
   ]
  },
  {
   "cell_type": "code",
   "execution_count": 639,
   "metadata": {
    "button": false,
    "collapsed": false,
    "deletable": true,
    "new_sheet": false,
    "run_control": {
     "read_only": false
    }
   },
   "outputs": [
    {
     "name": "stderr",
     "output_type": "stream",
     "text": [
      "Traceback (most recent call last):\n",
      "  File \"<ipython-input-639-69f39c18ad19>\", line 4, in <module>\n",
      "    parser.suite(\"print(2 +<>^& 37)\")\n",
      "  File \"<string>\", line 1\n",
      "    print(2 +<>^& 37)\n",
      "              ^\n",
      "SyntaxError: invalid syntax\n"
     ]
    }
   ],
   "source": [
    "from ExpectError import ExpectError\n",
    "\n",
    "with ExpectError():\n",
    "    parser.suite(\"print(2 +<>^& 37)\")"
   ]
  },
  {
   "cell_type": "markdown",
   "metadata": {
    "button": false,
    "deletable": true,
    "new_sheet": false,
    "run_control": {
     "read_only": false
    }
   },
   "source": [
    "We can thus write a function `is_valid_expr()` that checks whether an expression is valid in Python:"
   ]
  },
  {
   "cell_type": "code",
   "execution_count": 640,
   "metadata": {
    "button": false,
    "collapsed": false,
    "deletable": true,
    "new_sheet": false,
    "run_control": {
     "read_only": false
    }
   },
   "outputs": [],
   "source": [
    "def is_valid_expr(source):\n",
    "    \"\"\"Returns true iff source is a valid Python expression\"\"\"\n",
    "    if '#' in source:\n",
    "        return False\n",
    "    try:\n",
    "        parser.suite(\"print(\" + source + \")\")\n",
    "        return True\n",
    "    except SyntaxError:\n",
    "        return False\n",
    "    except ValueError:\n",
    "        return False\n",
    "\n",
    "assert is_valid_expr(\"4 + 4\")\n",
    "assert not is_valid_expr(\"37 !@#$ 564\")"
   ]
  },
  {
   "cell_type": "markdown",
   "metadata": {
    "button": false,
    "deletable": true,
    "new_sheet": false,
    "run_control": {
     "read_only": false
    }
   },
   "source": [
    "### Invalid Inputs\n",
    "\n",
    "Let us see how many of the `fuzzer()` outputs are actually valid:"
   ]
  },
  {
   "cell_type": "code",
   "execution_count": 641,
   "metadata": {
    "button": false,
    "collapsed": false,
    "deletable": true,
    "new_sheet": false,
    "run_control": {
     "read_only": false
    }
   },
   "outputs": [
    {
     "data": {
      "text/plain": [
       "0.008"
      ]
     },
     "execution_count": 641,
     "metadata": {},
     "output_type": "execute_result"
    }
   ],
   "source": [
    "valid_inputs = set()\n",
    "TRIALS = 1000\n",
    "\n",
    "for i in range(TRIALS):\n",
    "    input = fuzzer()\n",
    "    if is_valid_expr(input):\n",
    "        valid_inputs.add(input)\n",
    "        \n",
    "len(valid_inputs) / TRIALS"
   ]
  },
  {
   "cell_type": "markdown",
   "metadata": {
    "button": false,
    "deletable": true,
    "new_sheet": false,
    "run_control": {
     "read_only": false
    }
   },
   "source": [
    "About 99% of all generated inputs are invalid - that's not very many.  What are the valid ones we get?"
   ]
  },
  {
   "cell_type": "code",
   "execution_count": 642,
   "metadata": {
    "button": false,
    "collapsed": false,
    "deletable": true,
    "new_sheet": false,
    "run_control": {
     "read_only": false
    }
   },
   "outputs": [
    {
     "data": {
      "text/plain": [
       "{'', '2', '24,', '4', '41', '59', '73', '9'}"
      ]
     },
     "execution_count": 642,
     "metadata": {},
     "output_type": "execute_result"
    }
   ],
   "source": [
    "valid_inputs"
   ]
  },
  {
   "cell_type": "markdown",
   "metadata": {
    "button": false,
    "deletable": true,
    "new_sheet": false,
    "run_control": {
     "read_only": false
    }
   },
   "source": [
    "While we do have a chance to create numbers and very simple arithmetic expressions, we are going to miss plenty of Python data types and functionality - and of course, we are not going to cover the code that handles these.  \n",
    "\n",
    "What are the odds of producing a Python set, for instance? It would have to start with `set(`.  In its default configuration, for instance, `get_fuzzer()` does not even produce letters.  If we give it a range of say, 64 characters, we have a chance of $1 : 64^4$ to have an input that starts with `\"set(\"`.  How much is that, again?"
   ]
  },
  {
   "cell_type": "code",
   "execution_count": 643,
   "metadata": {
    "button": false,
    "collapsed": false,
    "deletable": true,
    "new_sheet": false,
    "run_control": {
     "read_only": false
    }
   },
   "outputs": [
    {
     "data": {
      "text/plain": [
       "16777216"
      ]
     },
     "execution_count": 643,
     "metadata": {},
     "output_type": "execute_result"
    }
   ],
   "source": [
    "64 ** 4"
   ]
  },
  {
   "cell_type": "markdown",
   "metadata": {
    "button": false,
    "deletable": true,
    "new_sheet": false,
    "run_control": {
     "read_only": false
    }
   },
   "source": [
    "Indeed, less than one in a million.  Plus, we'd also need the closing `')'` character..."
   ]
  },
  {
   "cell_type": "markdown",
   "metadata": {
    "button": false,
    "deletable": true,
    "new_sheet": false,
    "run_control": {
     "read_only": false
    }
   },
   "source": [
    "## Mutating Inputs\n",
    "\n",
    "The alternative to generating random strings from scratch is to start with a guiven _valid_ input, and then to subsequently _mutate_ it.  A _mutation_ in this context is a simple string manipulation - say, inserting a (random) character, deleting a character, or flipping a bit in a character representation.  Here are some mutations to get you started:"
   ]
  },
  {
   "cell_type": "code",
   "execution_count": 644,
   "metadata": {
    "button": false,
    "collapsed": true,
    "deletable": true,
    "new_sheet": false,
    "run_control": {
     "read_only": false
    }
   },
   "outputs": [],
   "source": [
    "import random"
   ]
  },
  {
   "cell_type": "code",
   "execution_count": 645,
   "metadata": {
    "button": false,
    "collapsed": false,
    "deletable": true,
    "new_sheet": false,
    "run_control": {
     "read_only": false
    }
   },
   "outputs": [
    {
     "name": "stdout",
     "output_type": "stream",
     "text": [
      "A quick brownfox\n",
      "A quick bown fox\n",
      "A quick brownfox\n",
      "A quick bown fox\n",
      "A quickbrown fox\n",
      "A uick brown fox\n",
      "A quick brownfox\n",
      "A quck brown fox\n",
      "A quick brownfox\n",
      "Aquick brown fox\n"
     ]
    }
   ],
   "source": [
    "def delete_random_character(s):\n",
    "    \"\"\"Returns s with a random character deleted\"\"\"\n",
    "    if s == \"\":\n",
    "        return s\n",
    "\n",
    "    pos = random.randint(0, len(s) - 1)\n",
    "    # print(\"Deleting\", repr(s[pos]), \"at\", pos)\n",
    "    return s[:pos] + s[pos + 1:]\n",
    "\n",
    "for i in range(10):\n",
    "    x = delete_random_character(\"A quick brown fox\")\n",
    "    print(x)"
   ]
  },
  {
   "cell_type": "code",
   "execution_count": 646,
   "metadata": {
    "button": false,
    "collapsed": false,
    "deletable": true,
    "new_sheet": false,
    "run_control": {
     "read_only": false
    }
   },
   "outputs": [
    {
     "name": "stdout",
     "output_type": "stream",
     "text": [
      "1A quick brown fox\n",
      "A quick br/own fox\n",
      "A quick brow'n fox\n",
      "A quick brown: fox\n",
      "A quick br8own fox\n",
      "A quick brown 1fox\n",
      "A quick brown f<ox\n",
      "A 5quick brown fox\n",
      "A q!uick brown fox\n",
      "A <quick brown fox\n"
     ]
    }
   ],
   "source": [
    "def insert_random_character(s):\n",
    "    \"\"\"Returns s with a random character inserted\"\"\"\n",
    "    pos = random.randint(0, len(s))\n",
    "    random_character = chr(random.randrange(32, 64))\n",
    "    # print(\"Inserting\", repr(random_character), \"at\", pos)\n",
    "    return s[:pos] + random_character + s[pos:]\n",
    "\n",
    "for i in range(10):\n",
    "    print(insert_random_character(\"A quick brown fox\"))"
   ]
  },
  {
   "cell_type": "code",
   "execution_count": 647,
   "metadata": {
    "button": false,
    "collapsed": false,
    "deletable": true,
    "new_sheet": false,
    "run_control": {
     "read_only": false
    }
   },
   "outputs": [
    {
     "name": "stdout",
     "output_type": "stream",
     "text": [
      "A quick brown\"fox\n",
      "A qtick brown fox\n",
      "A quikk brown fox\n",
      "A quick$brown fox\n",
      "A quick brkwn fox\n",
      "A quick brgwn fox\n",
      "A qqick brown fox\n",
      "A quick\u0000brown fox\n",
      "A quick`brown fox\n",
      "A quick brown\"fox\n"
     ]
    }
   ],
   "source": [
    "def flip_random_character(s):\n",
    "    \"\"\"Returns s with a random bit flipped in a random position\"\"\"\n",
    "    if s == \"\":\n",
    "        return s\n",
    "\n",
    "    pos = random.randint(0, len(s) - 1)\n",
    "    c = s[pos]\n",
    "    bit = 1 << random.randint(0, 6)\n",
    "    new_c = chr(ord(c) ^ bit)\n",
    "    # print(\"Flipping\", bit, \"in\", repr(c) + \", giving\", repr(new_c))\n",
    "    return s[:pos] + new_c + s[pos + 1:]\n",
    "\n",
    "for i in range(10):\n",
    "    print(flip_random_character(\"A quick brown fox\"))"
   ]
  },
  {
   "cell_type": "markdown",
   "metadata": {
    "button": false,
    "deletable": true,
    "new_sheet": false,
    "run_control": {
     "read_only": false
    }
   },
   "source": [
    "Let us now create a random mutator that randomly chooses which mutation to apply:"
   ]
  },
  {
   "cell_type": "code",
   "execution_count": 648,
   "metadata": {
    "button": false,
    "collapsed": false,
    "deletable": true,
    "new_sheet": false,
    "run_control": {
     "read_only": false
    }
   },
   "outputs": [
    {
     "name": "stdout",
     "output_type": "stream",
     "text": [
      "A quick brow fox\n",
      "A quick brown ox\n",
      "A quick brkwn fox\n",
      "A quick brown, fox\n",
      "A quick brown fo\n",
      "A quick brown fo\n",
      "A quick b0rown fox\n",
      "A q5ick brown fox\n",
      "A <quick brown fox\n",
      " quick brown fox\n"
     ]
    }
   ],
   "source": [
    "mutators = [delete_random_character, insert_random_character, flip_random_character]\n",
    "\n",
    "def mutate(s):\n",
    "    \"\"\"Return s with a random mutation applied\"\"\"\n",
    "    mutator = random.choice(mutators)\n",
    "    # print(mutator)\n",
    "    return mutator(s)\n",
    "\n",
    "\n",
    "for i in range(10):\n",
    "    print(mutate(\"A quick brown fox\"))"
   ]
  },
  {
   "cell_type": "markdown",
   "metadata": {
    "button": false,
    "deletable": true,
    "new_sheet": false,
    "run_control": {
     "read_only": false
    }
   },
   "source": [
    "Let us now apply the `mutate()` function on a Python expression and see how many valid inputs we obtain."
   ]
  },
  {
   "cell_type": "code",
   "execution_count": 649,
   "metadata": {
    "button": false,
    "collapsed": false,
    "deletable": true,
    "new_sheet": false,
    "run_control": {
     "read_only": false
    }
   },
   "outputs": [],
   "source": [
    "seed_input = \"1 + 2 * 3 / 4\"\n",
    "valid_inputs = set()\n",
    "TRIALS = 1000\n",
    "\n",
    "for i in range(TRIALS):\n",
    "    input = mutate(seed_input)\n",
    "    if is_valid_expr(input):\n",
    "        valid_inputs.add(input)"
   ]
  },
  {
   "cell_type": "markdown",
   "metadata": {
    "button": false,
    "deletable": true,
    "new_sheet": false,
    "run_control": {
     "read_only": false
    }
   },
   "source": [
    "The first thing we observe is that the number of valid inputs is now much higher.  We are still far away from 100% valid inputs, but this is an improvement:"
   ]
  },
  {
   "cell_type": "code",
   "execution_count": 650,
   "metadata": {
    "button": false,
    "collapsed": false,
    "deletable": true,
    "new_sheet": false,
    "run_control": {
     "read_only": false
    }
   },
   "outputs": [
    {
     "data": {
      "text/plain": [
       "0.104"
      ]
     },
     "execution_count": 650,
     "metadata": {},
     "output_type": "execute_result"
    }
   ],
   "source": [
    "len(valid_inputs) / TRIALS"
   ]
  },
  {
   "cell_type": "markdown",
   "metadata": {
    "button": false,
    "deletable": true,
    "new_sheet": false,
    "run_control": {
     "read_only": false
    }
   },
   "source": [
    "Most important, though, is that the valid inputs now cover many more Python expression features – additional operands, identifiers, and more:"
   ]
  },
  {
   "cell_type": "code",
   "execution_count": 651,
   "metadata": {
    "button": false,
    "collapsed": false,
    "deletable": true,
    "new_sheet": false,
    "run_control": {
     "read_only": false
    }
   },
   "outputs": [
    {
     "name": "stdout",
     "output_type": "stream",
     "text": [
      "{'1 + 2 * 3 / 0', '1 + 2 * 3 / 4.', '9 + 2 * 3 / 4', '1 + 22 * 3 / 4', '1 + 82 * 3 / 4', '1 + r * 3 / 4', '1+ + 2 * 3 / 4', '0 + 2 * 3 / 4', '1 + 2 * 3 / 6', '1 + 2 * 32 / 4', '1 + 2 * 83 / 4', '1< + 2 * 3 / 4', '19 + 2 * 3 / 4', '1 + 3 * 3 / 4', '1 + 2 * 3 / 24', '1 + 2 * 3 / 5', '-1 + 2 * 3 / 4', '12 + 2 * 3 / 4', ' 1 + 2 * 3 / 4', '1 + 2 * 3 / 45', '1 + 2 * 3 / 49', '1 + 2 * 3/ 4', '1 + 2 * 38 / 4', '51 + 2 * 3 / 4', '1 + -2 * 3 / 4', '1 + 21 * 3 / 4', '1 / 2 * 3 / 4', '1 + 2 * 53 / 4', '1 + 2 * 2 / 4', '10+ 2 * 3 / 4', '1 + 2 * 7 / 4', '1 + 2 * 36 / 4', '1 + 0 * 3 / 4', '1 + 2 * -3 / 4', '1 + 2 * s / 4', '1 + 2 * 3 /4', '1 + 2 * 3. / 4', '1 + 2 *3 / 4', '1 + 2 * 34 / 4', '1 + 2 * 1 / 4', '1 + 2 * 3  / 4', '1 + 2 + 3 / 4', '1 * 2 * 3 / 4', '1 + 2 * 3 / -4', '3 + 2 * 3 / 4', '1 + 20 * 3 / 4', '1 + 2 * 3 + 4', '1 + 2 * 93 / 4', ' + 2 * 3 / 4', '1. + 2 * 3 / 4', '1 + 2  * 3 / 4', '10 + 2 * 3 / 4', '1 + 2 * 3 - 4', '17 + 2 * 3 / 4', '1 + 2 * 3 // 4', '1 <+ 2 * 3 / 4', '1 + 2 * 63 / 4', 'q + 2 * 3 / 4', '1 + 72 * 3 / 4', '1 + 2 * 3 /- 4', '1  + 2 * 3 / 4', '1 + 2 * 30/ 4', '1 + 2 *+ 3 / 4', '5 + 2 * 3 / 4', '1 + 2 * 3 / 47', '1 + 2, * 3 / 4', '1 + 2 ** 3 / 4', '1 +  2 * 3 / 4', '61 + 2 * 3 / 4', '1 + 2* 3 / 4', '1 + 62 * 3 / 4', '31 + 2 * 3 / 4', '1 -+ 2 * 3 / 4', '71 + 2 * 3 / 4', '1 &+ 2 * 3 / 4', '*1 + 2 * 3 / 4', '1 + 2 * 3 / t', '1 + 29 * 3 / 4', '1 + 2 * 3 / +4', '1 + 32 * 3 / 4', '1 + 2 * 3 / 43', '1 + 2 * 3 / 46', '1 + 2 * 3 / 4 ', '+1 + 2 * 3 / 4', '1 %+ 2 * 3 / 4', '1 ++ 2 * 3 / 4', '1/ + 2 * 3 / 4', '1 + 52 * 3 / 4', '1 +- 2 * 3 / 4', '1% + 2 * 3 / 4', '1 + 2. * 3 / 4', '1 + 6 * 3 / 4', '1, + 2 * 3 / 4', '1+ 2 * 3 / 4', '1 + 25 * 3 / 4', '1 +2 * 3 / 4', '11 + 2 * 3 / 4', '1 + 20* 3 / 4', '1 + 23 * 3 / 4', '1 + 92 * 3 / 4', '1 + 2 * 3 / 42', '18 + 2 * 3 / 4', '1 + 2 * 3 / 64', '1 + 2 * 3 / 40'}\n"
     ]
    }
   ],
   "source": [
    "print(valid_inputs)"
   ]
  },
  {
   "cell_type": "markdown",
   "metadata": {
    "button": false,
    "deletable": true,
    "new_sheet": false,
    "run_control": {
     "read_only": false
    }
   },
   "source": [
    "## Guided Mutations\n",
    "\n",
    "So far, we have only applied one single mutation on a sample string.  However, we can also apply _multiple_ mutations, further changing it.  What happens, for instance, if we apply, say, 20 mutations on our sample string?"
   ]
  },
  {
   "cell_type": "code",
   "execution_count": 652,
   "metadata": {
    "button": false,
    "collapsed": false,
    "deletable": true,
    "new_sheet": false,
    "run_control": {
     "read_only": false
    },
    "scrolled": true
   },
   "outputs": [
    {
     "name": "stdout",
     "output_type": "stream",
     "text": [
      "'1 + 2 *  / 4'\n",
      "'1 + $2 *  / 4'\n",
      "'1 + $2 *   4'\n",
      "'1 +< $2 *   4'\n",
      "'1 +< $ *   4'\n",
      "'1!+< $ *   4'\n",
      "'*1!+< $ *   4'\n",
      "'*1!+< $ *0  4'\n",
      "'*1!+<$ *0  4'\n",
      "'*1!+<$ *0 (4'\n",
      "'$*1!+<$ *0 (4'\n",
      "'$*1!+<$ * (4'\n",
      "'$*1!+<$ 9* (4'\n",
      "'$*1!<$ 9* (4'\n",
      "'$*1#!<$ 9* (4'\n",
      "'*1#!<$ 9* (4'\n",
      "'*1#!<$!9* (4'\n",
      "'*1#!<$!\\x19* (4'\n",
      "'*#!<$!\\x19* (4'\n",
      "'*#!<$-!\\x19* (4'\n"
     ]
    }
   ],
   "source": [
    "seed_input = \"1 + 2 * 3 / 4\"\n",
    "MUTATIONS = 20\n",
    "\n",
    "input = seed_input\n",
    "for i in range(MUTATIONS):\n",
    "    input = mutate(input)\n",
    "    print(repr(input))"
   ]
  },
  {
   "cell_type": "markdown",
   "metadata": {
    "button": false,
    "deletable": true,
    "new_sheet": false,
    "run_control": {
     "read_only": false
    }
   },
   "source": [
    "As you see, the original seed input is hardly recognizable anymore.  Mutating the input again and again has the advantage of getting a higher variety in the input, but on the other hand further increases the risk of having an invalid input."
   ]
  },
  {
   "cell_type": "markdown",
   "metadata": {
    "button": false,
    "deletable": true,
    "new_sheet": false,
    "run_control": {
     "read_only": false
    }
   },
   "source": [
    "The key to success lies in the idea of _guiding_ these mutations – that is, keeping those that are especially valuable.  For instance, we may want to keep those samples that happen to be _valid_, and keep on mutating these.  To this end, we proceed as follows:\n",
    "\n",
    "1. We keep a population of seen valid inputs `population`, initialized with the seed input.\n",
    "2. We pick a random (valid) candidate from this set, which we now mutate up to `MAX_MUTATIONS` times.\n",
    "3. If the candidate is valid and new, we add it to `population`.\n",
    "4. In the next iterations, the previous candidates can be chosen again as seeds.\n",
    "\n",
    "Here's the full code:"
   ]
  },
  {
   "cell_type": "code",
   "execution_count": 653,
   "metadata": {
    "button": false,
    "collapsed": false,
    "deletable": true,
    "new_sheet": false,
    "run_control": {
     "read_only": false
    }
   },
   "outputs": [
    {
     "data": {
      "text/plain": [
       "['1 + 2 * 3 / 4',\n",
       " '1 %+ 2 * 35 /4',\n",
       " '1 % 2* 35 / 4',\n",
       " '1 % \\n 35/0',\n",
       " '1 %2 *345 /34',\n",
       " '1-2 *45 /34',\n",
       " '1 %+ 2*35 /4',\n",
       " ' 9+ 2 * 3 / 2',\n",
       " '81 % \\n 75.<9/74',\n",
       " ' 22 *3945 +34',\n",
       " '1 %35/x6',\n",
       " '8 % \\n7.<9/74',\n",
       " ' 242 *9-45 +3',\n",
       " '1 % -\\n 5.59/7',\n",
       " '10 %+ 0 * 5 /4',\n",
       " 'r %5/x6',\n",
       " '1 % \\n  s50/0',\n",
       " 'q% \\ns54',\n",
       " 's%\\ns74',\n",
       " '1 %2 *34,5 /3,4']"
      ]
     },
     "execution_count": 653,
     "metadata": {},
     "output_type": "execute_result"
    }
   ],
   "source": [
    "def create_candidate(population):\n",
    "    MIN_MUTATIONS = 2\n",
    "    MAX_MUTATIONS = 10\n",
    "\n",
    "    candidate = random.choice(population)\n",
    "    trials = random.randint(MIN_MUTATIONS, MAX_MUTATIONS)\n",
    "    for i in range(trials):\n",
    "        candidate = mutate(candidate)\n",
    "    return candidate\n",
    "\n",
    "def create_population(seed, size):\n",
    "    population = seed\n",
    "    while len(population) < size:\n",
    "        candidate = create_candidate(population)\n",
    "        if is_valid_expr(candidate) and candidate not in valid_inputs:\n",
    "            population.append(candidate)\n",
    "    return population\n",
    "\n",
    "seed_input = \"1 + 2 * 3 / 4\"\n",
    "POPULATION_SIZE = 20\n",
    "\n",
    "create_population(seed = [seed_input], size = POPULATION_SIZE)"
   ]
  },
  {
   "cell_type": "markdown",
   "metadata": {
    "button": false,
    "deletable": true,
    "new_sheet": false,
    "run_control": {
     "read_only": false
    }
   },
   "source": [
    "As you can see, we now get an even larger variety of inputs.  If you are using the interactive notebook version of this chapter, you can toy with different settings (such as `MAX_MUTATION`) to see how they influence the outputs.  (Also see the [Exercises](#Exercises) below.)"
   ]
  },
  {
   "cell_type": "markdown",
   "metadata": {
    "button": false,
    "deletable": true,
    "new_sheet": false,
    "run_control": {
     "read_only": false
    }
   },
   "source": [
    "## Maximizing Diversity\n",
    "\n",
    "A good set of tests not only consists of valid inputs, but the inputs should also be _as diverse as possible_: If you already have tested `1 + 1`, then testing for `1 + 2` or `1 + 1 + 1` is not going to cover much additional functionality, compared to, say, `15.0 / 7`.  To easily ensure a greater diversity, we can check for two features: _length_ and _input elements_.\n"
   ]
  },
  {
   "cell_type": "markdown",
   "metadata": {
    "button": false,
    "deletable": true,
    "new_sheet": false,
    "run_control": {
     "read_only": false
    }
   },
   "source": [
    "### Diversity through Length\n",
    "\n",
    "A simple way to increase diversity in our setting is ro favor _longer inputs_.  The argument is simple: The longer a randomly generated input is, the higher its chances to cover several program features.  Let us define a function `evolve_population()` that \n",
    "\n",
    "1. Sorts the population in ascending order according to its _fitness_ (the length)\n",
    "2. Replaces the first element in the population by a new, fitter (longer) one\n",
    "\n",
    "This is what this looks like:"
   ]
  },
  {
   "cell_type": "code",
   "execution_count": 654,
   "metadata": {
    "button": false,
    "collapsed": true,
    "deletable": true,
    "new_sheet": false,
    "run_control": {
     "read_only": false
    }
   },
   "outputs": [],
   "source": [
    "def evolve_population(population, fitness = len, steps = 100):\n",
    "    evolutions = 0\n",
    "    while evolutions < steps:\n",
    "        population.sort(key=fitness)\n",
    "        \n",
    "        candidate = create_candidate(population)\n",
    "        if is_valid_expr(candidate) and fitness(candidate) > fitness(population[0]):\n",
    "            population[0] = candidate\n",
    "            evolutions += 1\n",
    "\n",
    "    return population"
   ]
  },
  {
   "cell_type": "markdown",
   "metadata": {
    "button": false,
    "deletable": true,
    "new_sheet": false,
    "run_control": {
     "read_only": false
    }
   },
   "source": [
    "Let us try out `evolve_population()` with a sample population in which one element `25` is the shortest and thus would be replaced by a new, longer element:"
   ]
  },
  {
   "cell_type": "code",
   "execution_count": 655,
   "metadata": {
    "button": false,
    "collapsed": false,
    "deletable": true,
    "new_sheet": false,
    "run_control": {
     "read_only": false
    }
   },
   "outputs": [
    {
     "data": {
      "text/plain": [
       "['1 + 1 + 3', '1 + 1', '1 + 1 + 1']"
      ]
     },
     "execution_count": 655,
     "metadata": {},
     "output_type": "execute_result"
    }
   ],
   "source": [
    "evolve_population(population = ['1 + 1', '1 + 1 + 1', '25'], steps = 1)"
   ]
  },
  {
   "cell_type": "markdown",
   "metadata": {
    "button": false,
    "deletable": true,
    "new_sheet": false,
    "run_control": {
     "read_only": false
    }
   },
   "source": [
    "We can now use this to evolve a population over several iterations.  We can see that the strings get longer and longer:"
   ]
  },
  {
   "cell_type": "code",
   "execution_count": 656,
   "metadata": {
    "button": false,
    "collapsed": false,
    "deletable": true,
    "new_sheet": false,
    "run_control": {
     "read_only": false
    }
   },
   "outputs": [
    {
     "data": {
      "text/plain": [
       "[' 98&6 % + 44+rue93  / 0',\n",
       " 'q=8,  6+- +9* 1  -8+ 4',\n",
       " '98&6 % + 44+ru%93  / 0',\n",
       " '1=8,  +- +r9* 1  /8+ 4',\n",
       " '58+ 9-  6+0%9+ 83  /+4',\n",
       " '1=8  +- 4+r9* 1  /8+ 4',\n",
       " '1 ,96)/+2, 2 (363/ 473',\n",
       " '18 %7 + 6+r%99* 23 /+4',\n",
       " '1 , 6)/+2, 2 -(308/ 47',\n",
       " '18 % + 4+r%9* 1  /8+ 4',\n",
       " '1 ,96)+=2, 3 +(363/ 471',\n",
       " '58+ - - 6+0%9* 835  /+4',\n",
       " '186 %+ 4+s5%9* 3  /+ t8',\n",
       " '1 , 6)/+2, 124-(348/ 47',\n",
       " '1 ,96)/+2, 3 +(363/ 471',\n",
       " '58+ -  - 6+p%9* 835  +4,',\n",
       " '186 % + 4+r5%9* 3  /+ 48',\n",
       " '58+ - - 6+10%9* 83= 7/0+4',\n",
       " '58+ - - 6+10%9* 835  /0+4',\n",
       " '1866 % + 44+r5%9* 3  / 48']"
      ]
     },
     "execution_count": 656,
     "metadata": {},
     "output_type": "execute_result"
    }
   ],
   "source": [
    "population = create_population(seed = [seed_input], size = POPULATION_SIZE)\n",
    "evolve_population(population)"
   ]
  },
  {
   "cell_type": "markdown",
   "metadata": {
    "button": false,
    "deletable": true,
    "new_sheet": false,
    "run_control": {
     "read_only": false
    }
   },
   "source": [
    "### Diversity in Input Elements\n",
    "\n",
    "Not only do we want long inputs, but we also want diversity in input elements.  For instance, we'd like our inputs to cover as many arithmetic operations as possible: The input `1 + 2 * 3` is shorter than the input `1234567890`, yet covers more operations.  We can achieve this by defining a special fitness function that favors inputs with a large diversity in input characters."
   ]
  },
  {
   "cell_type": "code",
   "execution_count": 657,
   "metadata": {
    "button": false,
    "collapsed": true,
    "deletable": true,
    "new_sheet": false,
    "run_control": {
     "read_only": false
    }
   },
   "outputs": [],
   "source": [
    "def diversity_fitness(s):\n",
    "    return len(set(s))"
   ]
  },
  {
   "cell_type": "markdown",
   "metadata": {
    "button": false,
    "deletable": true,
    "new_sheet": false,
    "run_control": {
     "read_only": false
    }
   },
   "source": [
    "Here, `len(set(s))` returns the size of the set of characters in `s` – that is, the number of different characters:"
   ]
  },
  {
   "cell_type": "code",
   "execution_count": 658,
   "metadata": {
    "button": false,
    "collapsed": false,
    "deletable": true,
    "new_sheet": false,
    "run_control": {
     "read_only": false
    }
   },
   "outputs": [
    {
     "data": {
      "text/plain": [
       "3"
      ]
     },
     "execution_count": 658,
     "metadata": {},
     "output_type": "execute_result"
    }
   ],
   "source": [
    "diversity_fitness(\"1 + 1\")"
   ]
  },
  {
   "cell_type": "markdown",
   "metadata": {
    "button": false,
    "deletable": true,
    "new_sheet": false,
    "run_control": {
     "read_only": false
    }
   },
   "source": [
    "We can see that this gives us even more diverse inputs:"
   ]
  },
  {
   "cell_type": "code",
   "execution_count": 659,
   "metadata": {
    "button": false,
    "collapsed": false,
    "deletable": true,
    "new_sheet": false,
    "run_control": {
     "read_only": false
    }
   },
   "outputs": [
    {
     "data": {
      "text/plain": [
       "['k906=758>60%+4<+ry*213 - t71',\n",
       " 'k968>60 +4<+r5y*213 ,-t71',\n",
       " 'k986>0% +4%4+r/5-y*31/4, t7',\n",
       " 'k98e260% +44+r5-x* 31/ t7',\n",
       " 'k98e%260% +44+r5-y* 31/ t7',\n",
       " 'k59&846.1% 36+r5-y* 0&3/ t7',\n",
       " '59&846.%1% 36+r5<5-y* 0&23/ t/7',\n",
       " 'k59&846.-1%.32+r5,* 0&2/ t7',\n",
       " 'k984>0% +4e4+r/5-y*7%361/4,t7',\n",
       " 'k906=58>60% +4<+r5y*213 - t71',\n",
       " 'k59&846.-1%.32+r5,* 0&23/ t7',\n",
       " 'k59&846.-1% 36+r5,x* 4&2/ t7',\n",
       " 'j59&846.1% 6+r<5-y* 0&3/ t7',\n",
       " 'k59&846.%1% 6+v15-y* 0&23/ t7',\n",
       " 'k59&8,6.%1% 36+r5my *0&23/ t7',\n",
       " 'k59&8,6.%1% 36+r5-y* 0&23/ t7',\n",
       " 'k59&846.%1% 36+r5-y* 0&23/ t7',\n",
       " 'k9068>60% +4<+r5y*213 ,- t71',\n",
       " 'k906>60% +4<+r5-y*213 / t=7',\n",
       " 'k59&846.-1% 36+r5,x* 0&23/ t7']"
      ]
     },
     "execution_count": 659,
     "metadata": {},
     "output_type": "execute_result"
    }
   ],
   "source": [
    "evolve_population(population, fitness = diversity_fitness)"
   ]
  },
  {
   "cell_type": "markdown",
   "metadata": {
    "button": false,
    "deletable": true,
    "new_sheet": false,
    "run_control": {
     "read_only": false
    }
   },
   "source": [
    "However, there's a catch: As soon as our input contains a comment (a substring starting with `#`), any characters are allowed after the `#`.  The same holds if our input contains a quoted string (`'...'` or `\"...\"`); then arbitrary characters can be added to the string.  We may thus achieve diversity in comments or strings, but not necessarily in functionality.  \n",
    "\n",
    "This, of course, is one of the central problems of software testing: How can I cover all functionality of the program under test – including all its bugs?  Fortunately, researchers and practitioners have devised a great number of solutions to address this problem; and the best of these will be covered in the subsequent chapters."
   ]
  },
  {
   "cell_type": "markdown",
   "metadata": {
    "button": false,
    "deletable": true,
    "new_sheet": false,
    "run_control": {
     "read_only": false
    }
   },
   "source": [
    "## Next Steps"
   ]
  },
  {
   "cell_type": "markdown",
   "metadata": {
    "button": false,
    "deletable": true,
    "new_sheet": false,
    "run_control": {
     "read_only": false
    }
   },
   "source": [
    "\n",
    "How can we sufficiently cover functionality?  Essentially, we have two options:\n",
    "\n",
    "1. Try to cover as much _implemented_ functionality as possible.  To this end, we need to access the program implementation, measure which parts would actually be reached with our inputs, and use this _coverage_ to guide our search.  We will explore this in the next chapter, which discusses [coverage](Coverage.ipynb).\n",
    "\n",
    "2. Try to cover as much _specified_ functionality as possible.  Here, we would need a specification of the input format, distinguishing between individual input elements such as (in our case) numbers, operators, comments, and strings – and attempting to cover as many of these as possible.  We will explore this as it comes to [grammar-based testing](Grammar_Testing.ipynb).\n",
    "\n",
    "Finally, the concept of a \"population\" that is systematically \"evolved\" trhough \"mutations\" will be explored in depth when discussing [search-based testing](Search_Based_Testing.ipynb).  Enjoy!\n"
   ]
  },
  {
   "cell_type": "markdown",
   "metadata": {
    "button": false,
    "collapsed": true,
    "deletable": true,
    "new_sheet": false,
    "run_control": {
     "read_only": false
    }
   },
   "source": [
    "## Exercises\n"
   ]
  },
  {
   "cell_type": "markdown",
   "metadata": {
    "button": false,
    "deletable": true,
    "new_sheet": false,
    "run_control": {
     "read_only": false
    }
   },
   "source": [
    "### Exercise 1\n",
    "\n",
    "Apply the above mutation-based fuzzing technique on `bc`, using files, as in our [Introduction to Fuzzing](Basic_Fuzzing.ipynb)."
   ]
  },
  {
   "cell_type": "markdown",
   "metadata": {
    "button": false,
    "deletable": true,
    "new_sheet": false,
    "run_control": {
     "read_only": false
    }
   },
   "source": [
    "### Exercise 2\n",
    "\n",
    "To achieve diversity in our set of inputs, one may also try to maximize the _difference_ between the individual inputs in the population.  Rather than sorting the population and replace the least fit individual, we could also compare all individuals against each other and pick the one that is most similar to all the others.  For instance, one could define similarity as the ratio of which characters are common in both strings:"
   ]
  },
  {
   "cell_type": "code",
   "execution_count": 660,
   "metadata": {
    "button": false,
    "collapsed": true,
    "deletable": true,
    "new_sheet": false,
    "run_control": {
     "read_only": false
    }
   },
   "outputs": [],
   "source": [
    "def similar(s1, s2):\n",
    "    return len(set(s1) & set(s2)) / len(set(s1) | set(s2))\n",
    "\n",
    "assert similar(\"A\", \"A\") == 1.0\n",
    "assert similar(\"A\", \"B\") == 0"
   ]
  },
  {
   "cell_type": "markdown",
   "metadata": {
    "button": false,
    "deletable": true,
    "new_sheet": false,
    "run_control": {
     "read_only": false
    }
   },
   "source": [
    "Here, `a & b` and `a | b` denote the intersection and union of two sets, respectively."
   ]
  },
  {
   "cell_type": "markdown",
   "metadata": {
    "button": false,
    "deletable": true,
    "new_sheet": false,
    "run_control": {
     "read_only": false
    }
   },
   "source": [
    "The more the set of characters in two strings is the same, the higer the value of `similar()`:"
   ]
  },
  {
   "cell_type": "code",
   "execution_count": 661,
   "metadata": {
    "button": false,
    "collapsed": false,
    "deletable": true,
    "new_sheet": false,
    "run_control": {
     "read_only": false
    }
   },
   "outputs": [
    {
     "data": {
      "text/plain": [
       "0.0"
      ]
     },
     "execution_count": 661,
     "metadata": {},
     "output_type": "execute_result"
    }
   ],
   "source": [
    "similar(\"Apple\", \"Microsoft\")"
   ]
  },
  {
   "cell_type": "code",
   "execution_count": 662,
   "metadata": {
    "button": false,
    "collapsed": false,
    "deletable": true,
    "new_sheet": false,
    "run_control": {
     "read_only": false
    }
   },
   "outputs": [
    {
     "data": {
      "text/plain": [
       "0.23076923076923078"
      ]
     },
     "execution_count": 662,
     "metadata": {},
     "output_type": "execute_result"
    }
   ],
   "source": [
    "similar(\"Python\", \"Boa constrictor\")"
   ]
  },
  {
   "cell_type": "code",
   "execution_count": 663,
   "metadata": {
    "button": false,
    "collapsed": false,
    "deletable": true,
    "new_sheet": false,
    "run_control": {
     "read_only": false
    }
   },
   "outputs": [
    {
     "data": {
      "text/plain": [
       "0.7777777777777778"
      ]
     },
     "execution_count": 663,
     "metadata": {},
     "output_type": "execute_result"
    }
   ],
   "source": [
    "similar(\"Python 2\", \"Python 3\")"
   ]
  },
  {
   "cell_type": "markdown",
   "metadata": {
    "button": false,
    "deletable": true,
    "new_sheet": false,
    "run_control": {
     "read_only": false
    }
   },
   "source": [
    "When it comes to remove one element from the population, use the above `similar()` implementation to determine the one element that is most similar to all the others.  Report a typical output sample.   How expensive is your approach?"
   ]
  },
  {
   "cell_type": "markdown",
   "metadata": {
    "button": false,
    "deletable": true,
    "new_sheet": false,
    "run_control": {
     "read_only": false
    }
   },
   "source": [
    "### Exercise 3\n",
    "\n",
    "Python brings an [impressive library for computing the difference between strings](https://docs.python.org/3/library/difflib.html), which we can use to measure similarity between two strings including the ordering of characters:"
   ]
  },
  {
   "cell_type": "code",
   "execution_count": 664,
   "metadata": {
    "button": false,
    "collapsed": false,
    "deletable": true,
    "new_sheet": false,
    "run_control": {
     "read_only": false
    }
   },
   "outputs": [],
   "source": [
    "from difflib import SequenceMatcher\n",
    "\n",
    "def similar(s1, s2):\n",
    "    return SequenceMatcher(None, s1, s2).ratio()"
   ]
  },
  {
   "cell_type": "markdown",
   "metadata": {
    "button": false,
    "deletable": true,
    "new_sheet": false,
    "run_control": {
     "read_only": false
    }
   },
   "source": [
    "Repeat [Exercise 2](#Exercise-2) with the above."
   ]
  }
 ],
 "metadata": {
  "celltoolbar": "Edit Metadata",
  "ipub": {
   "bibliography": "gstbook.bib",
   "listcode": false,
   "listfigures": false,
   "listtables": false,
   "titlepage": {
    "author": "Andreas Zeller, Rahul Gopinath, Gordon Fraser, and Christian Holler",
    "subtitle": "Generating Software Tests",
    "title": "Fuzzing"
   },
   "toc": true
  },
  "kernelspec": {
   "display_name": "Python 3",
   "language": "python",
   "name": "python3"
  },
  "language_info": {
   "codemirror_mode": {
    "name": "ipython",
    "version": 3
   },
   "file_extension": ".py",
   "mimetype": "text/x-python",
   "name": "python",
   "nbconvert_exporter": "python",
   "pygments_lexer": "ipython3",
   "version": "3.5.0"
  },
  "toc": {
   "base_numbering": 1,
   "nav_menu": {},
   "number_sections": true,
   "sideBar": true,
   "skip_h1_title": true,
   "title_cell": "",
   "title_sidebar": "Contents",
   "toc_cell": false,
   "toc_position": {},
   "toc_section_display": true,
   "toc_window_display": true
  }
 },
 "nbformat": 4,
 "nbformat_minor": 2
}
