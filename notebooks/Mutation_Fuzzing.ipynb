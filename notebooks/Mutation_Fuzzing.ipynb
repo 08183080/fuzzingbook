{
 "cells": [
  {
   "cell_type": "markdown",
   "metadata": {
    "button": false,
    "deletable": true,
    "new_sheet": false,
    "run_control": {
     "read_only": false
    }
   },
   "source": [
    "# Mutation-Based Fuzzing\n",
    "\n",
    "Most [randomly generated inputs](Basic_Fuzzing.ipynb) are syntactically _invalid_ and thus are quickly rejected by the processing program.  To exercise functionality beyond input processing, we must increase chances to obtain valid inputs.  One such way is by _mutating_ existing valid inputs - that is, introducing small changes that may still keep the input valid, yet exercise new behavior."
   ]
  },
  {
   "cell_type": "markdown",
   "metadata": {
    "button": false,
    "deletable": true,
    "new_sheet": false,
    "run_control": {
     "read_only": false
    }
   },
   "source": [
    "**Prerequisites**\n",
    "\n",
    "* You should know how basic fuzzing works; for instance, from the [\"Fuzzing\"](Basic_Fuzzing.ipynb) chapter."
   ]
  },
  {
   "cell_type": "markdown",
   "metadata": {
    "button": false,
    "deletable": true,
    "new_sheet": false,
    "run_control": {
     "read_only": false
    }
   },
   "source": [
    "## The Problem\n",
    "\n",
    "Most modern programs do a good job in _validating_ their inputs before they actually process them.  As an example, think of a _compiler_ translating program code into a lower-level language.  The processing steps of a compiler are typically depicted as a pipeline of components, each processing the input of its predecessors and producing output for its successors.  In the beginning, we typically have a lexical analysis that puts letters together into words, a syntactic analysis that puts sequences of words and items into structures, and then the actual compilation steps that translate these structures into code:\n",
    "\n",
    "![Compiler Pipeline](PICS/Compiler.pdf)\n",
    "\n",
    "The problem is that with random inputs, you will be able to exercise a lot of functionality in the leftmost stages (i.e., the lexical and possibly syntactical analyses), but the chances of actually producing a _valid_ input that will make it to the later stages are slim."
   ]
  },
  {
   "cell_type": "markdown",
   "metadata": {
    "button": false,
    "deletable": true,
    "new_sheet": false,
    "run_control": {
     "read_only": false
    }
   },
   "source": [
    "\n",
    "### Fuzzing Python Expressions\n",
    "\n",
    "To illustrate just how low the chances are, let us _illustrate the problem on the Python interpreter._  Let us get the fuzzing function from  the [\"Fuzzing\"](Basic_Fuzzing.ipynb) chapter."
   ]
  },
  {
   "cell_type": "code",
   "execution_count": 665,
   "metadata": {
    "button": false,
    "collapsed": false,
    "deletable": true,
    "new_sheet": false,
    "run_control": {
     "read_only": false
    },
    "slideshow": {
     "slide_type": "skip"
    }
   },
   "outputs": [],
   "source": [
    "import gstbook\n",
    "from Basic_Fuzzing import fuzzer"
   ]
  },
  {
   "cell_type": "markdown",
   "metadata": {
    "button": false,
    "collapsed": true,
    "deletable": true,
    "new_sheet": false,
    "run_control": {
     "read_only": false
    },
    "slideshow": {
     "slide_type": "skip"
    }
   },
   "source": [
    "We can use the `fuzzer()` function to generate random inputs.  Would this be a valid Python expression?"
   ]
  },
  {
   "cell_type": "code",
   "execution_count": 666,
   "metadata": {
    "button": false,
    "collapsed": false,
    "deletable": true,
    "new_sheet": false,
    "run_control": {
     "read_only": false
    }
   },
   "outputs": [
    {
     "data": {
      "text/plain": [
       "\"5'-5.1%\""
      ]
     },
     "execution_count": 666,
     "metadata": {},
     "output_type": "execute_result"
    }
   ],
   "source": [
    "fuzzer()"
   ]
  },
  {
   "cell_type": "markdown",
   "metadata": {
    "button": false,
    "deletable": true,
    "new_sheet": false,
    "run_control": {
     "read_only": false
    }
   },
   "source": [
    "To test which inputs are actually valid, we use the Python `parser` module.  `parser.suite(_source_)` returns an internal object (actually, a parse tree) if _source_ is a valid command:"
   ]
  },
  {
   "cell_type": "code",
   "execution_count": 667,
   "metadata": {
    "button": false,
    "collapsed": false,
    "deletable": true,
    "new_sheet": false,
    "run_control": {
     "read_only": false
    }
   },
   "outputs": [
    {
     "data": {
      "text/plain": [
       "<parser.st at 0x10dbbc110>"
      ]
     },
     "execution_count": 667,
     "metadata": {},
     "output_type": "execute_result"
    }
   ],
   "source": [
    "import parser\n",
    "\n",
    "parser.suite(\"print(2 + 2)\")"
   ]
  },
  {
   "cell_type": "markdown",
   "metadata": {
    "button": false,
    "deletable": true,
    "new_sheet": false,
    "run_control": {
     "read_only": false
    }
   },
   "source": [
    "Note that the command is _not_ executed.  That is because evaluating or otherwise executing randomly generated strings would be quite a risk: What happens if by chance, we create a command that deletes your files?"
   ]
  },
  {
   "cell_type": "markdown",
   "metadata": {
    "button": false,
    "deletable": true,
    "new_sheet": false,
    "run_control": {
     "read_only": false
    }
   },
   "source": [
    "If _source_ is invalid, `parser.suite()` raises an exception:"
   ]
  },
  {
   "cell_type": "code",
   "execution_count": 668,
   "metadata": {
    "button": false,
    "collapsed": false,
    "deletable": true,
    "new_sheet": false,
    "run_control": {
     "read_only": false
    }
   },
   "outputs": [
    {
     "name": "stderr",
     "output_type": "stream",
     "text": [
      "Traceback (most recent call last):\n",
      "  File \"<ipython-input-668-69f39c18ad19>\", line 4, in <module>\n",
      "    parser.suite(\"print(2 +<>^& 37)\")\n",
      "  File \"<string>\", line 1\n",
      "    print(2 +<>^& 37)\n",
      "              ^\n",
      "SyntaxError: invalid syntax\n"
     ]
    }
   ],
   "source": [
    "from ExpectError import ExpectError\n",
    "\n",
    "with ExpectError():\n",
    "    parser.suite(\"print(2 +<>^& 37)\")"
   ]
  },
  {
   "cell_type": "markdown",
   "metadata": {
    "button": false,
    "deletable": true,
    "new_sheet": false,
    "run_control": {
     "read_only": false
    }
   },
   "source": [
    "We can thus write a function `is_valid_expr()` that checks whether an expression is valid in Python:"
   ]
  },
  {
   "cell_type": "code",
   "execution_count": 669,
   "metadata": {
    "button": false,
    "collapsed": false,
    "deletable": true,
    "new_sheet": false,
    "run_control": {
     "read_only": false
    }
   },
   "outputs": [],
   "source": [
    "def is_valid_expr(source):\n",
    "    \"\"\"Returns true iff source is a valid Python expression\"\"\"\n",
    "    if '#' in source:\n",
    "        return False\n",
    "    try:\n",
    "        parser.suite(\"print(\" + source + \")\")\n",
    "        return True\n",
    "    except SyntaxError:\n",
    "        return False\n",
    "    except ValueError:\n",
    "        return False\n",
    "\n",
    "assert is_valid_expr(\"4 + 4\")\n",
    "assert not is_valid_expr(\"37 !@#$ 564\")"
   ]
  },
  {
   "cell_type": "markdown",
   "metadata": {
    "button": false,
    "deletable": true,
    "new_sheet": false,
    "run_control": {
     "read_only": false
    }
   },
   "source": [
    "### Invalid Inputs\n",
    "\n",
    "Let us see how many of the `fuzzer()` outputs are actually valid:"
   ]
  },
  {
   "cell_type": "code",
   "execution_count": 670,
   "metadata": {
    "button": false,
    "collapsed": false,
    "deletable": true,
    "new_sheet": false,
    "run_control": {
     "read_only": false
    }
   },
   "outputs": [
    {
     "data": {
      "text/plain": [
       "0.011"
      ]
     },
     "execution_count": 670,
     "metadata": {},
     "output_type": "execute_result"
    }
   ],
   "source": [
    "valid_inputs = set()\n",
    "TRIALS = 1000\n",
    "\n",
    "for i in range(TRIALS):\n",
    "    input = fuzzer()\n",
    "    if is_valid_expr(input):\n",
    "        valid_inputs.add(input)\n",
    "        \n",
    "len(valid_inputs) / TRIALS"
   ]
  },
  {
   "cell_type": "markdown",
   "metadata": {
    "button": false,
    "deletable": true,
    "new_sheet": false,
    "run_control": {
     "read_only": false
    }
   },
   "source": [
    "About 99% of all generated inputs are invalid - that's not very many.  What are the valid ones we get?"
   ]
  },
  {
   "cell_type": "code",
   "execution_count": 671,
   "metadata": {
    "button": false,
    "collapsed": false,
    "deletable": true,
    "new_sheet": false,
    "run_control": {
     "read_only": false
    }
   },
   "outputs": [
    {
     "data": {
      "text/plain": [
       "{'', '(5)', '*1&6., ', '*5', '*9', '+5', '2', '6,', '635', '7', '7+8452,'}"
      ]
     },
     "execution_count": 671,
     "metadata": {},
     "output_type": "execute_result"
    }
   ],
   "source": [
    "valid_inputs"
   ]
  },
  {
   "cell_type": "markdown",
   "metadata": {
    "button": false,
    "deletable": true,
    "new_sheet": false,
    "run_control": {
     "read_only": false
    }
   },
   "source": [
    "While we do have a chance to create numbers and very simple arithmetic expressions, we are going to miss plenty of Python data types and functionality - and of course, we are not going to cover the code that handles these.  \n",
    "\n",
    "What are the odds of producing a Python set, for instance? It would have to start with `set(`.  In its default configuration, for instance, `get_fuzzer()` does not even produce letters.  If we give it a range of say, 64 characters, we have a chance of $1 : 64^4$ to have an input that starts with `\"set(\"`.  How much is that, again?"
   ]
  },
  {
   "cell_type": "code",
   "execution_count": 672,
   "metadata": {
    "button": false,
    "collapsed": false,
    "deletable": true,
    "new_sheet": false,
    "run_control": {
     "read_only": false
    }
   },
   "outputs": [
    {
     "data": {
      "text/plain": [
       "16777216"
      ]
     },
     "execution_count": 672,
     "metadata": {},
     "output_type": "execute_result"
    }
   ],
   "source": [
    "64 ** 4"
   ]
  },
  {
   "cell_type": "markdown",
   "metadata": {
    "button": false,
    "deletable": true,
    "new_sheet": false,
    "run_control": {
     "read_only": false
    }
   },
   "source": [
    "Indeed, less than one in a million.  Plus, we'd also need the closing `')'` character..."
   ]
  },
  {
   "cell_type": "markdown",
   "metadata": {
    "button": false,
    "deletable": true,
    "new_sheet": false,
    "run_control": {
     "read_only": false
    }
   },
   "source": [
    "## Mutating Inputs\n",
    "\n",
    "The alternative to generating random strings from scratch is to start with a guiven _valid_ input, and then to subsequently _mutate_ it.  A _mutation_ in this context is a simple string manipulation - say, inserting a (random) character, deleting a character, or flipping a bit in a character representation.  Here are some mutations to get you started:"
   ]
  },
  {
   "cell_type": "code",
   "execution_count": 673,
   "metadata": {
    "button": false,
    "collapsed": true,
    "deletable": true,
    "new_sheet": false,
    "run_control": {
     "read_only": false
    }
   },
   "outputs": [],
   "source": [
    "import random"
   ]
  },
  {
   "cell_type": "code",
   "execution_count": 674,
   "metadata": {
    "button": false,
    "collapsed": false,
    "deletable": true,
    "new_sheet": false,
    "run_control": {
     "read_only": false
    }
   },
   "outputs": [
    {
     "name": "stdout",
     "output_type": "stream",
     "text": [
      "A quick rown fox\n",
      "A quick bron fox\n",
      "A quick brown fo\n",
      "A quick brown ox\n",
      "A qick brown fox\n",
      "A quick rown fox\n",
      "A quick brown fx\n",
      "A quick brown fx\n",
      "A quick brwn fox\n",
      "A quick brown ox\n"
     ]
    }
   ],
   "source": [
    "def delete_random_character(s):\n",
    "    \"\"\"Returns s with a random character deleted\"\"\"\n",
    "    if s == \"\":\n",
    "        return s\n",
    "\n",
    "    pos = random.randint(0, len(s) - 1)\n",
    "    # print(\"Deleting\", repr(s[pos]), \"at\", pos)\n",
    "    return s[:pos] + s[pos + 1:]\n",
    "\n",
    "for i in range(10):\n",
    "    x = delete_random_character(\"A quick brown fox\")\n",
    "    print(x)"
   ]
  },
  {
   "cell_type": "code",
   "execution_count": 675,
   "metadata": {
    "button": false,
    "collapsed": false,
    "deletable": true,
    "new_sheet": false,
    "run_control": {
     "read_only": false
    }
   },
   "outputs": [
    {
     "name": "stdout",
     "output_type": "stream",
     "text": [
      "A! quick brown fox\n",
      "A quick !brown fox\n",
      "A) quick brown fox\n",
      "A quick brown f$ox\n",
      "A quick brown fo,x\n",
      "A qui-ck brown fox\n",
      "<A quick brown fox\n",
      ")A quick brown fox\n",
      "A quick brow*n fox\n",
      "A quick brown fo7x\n"
     ]
    }
   ],
   "source": [
    "def insert_random_character(s):\n",
    "    \"\"\"Returns s with a random character inserted\"\"\"\n",
    "    pos = random.randint(0, len(s))\n",
    "    random_character = chr(random.randrange(32, 64))\n",
    "    # print(\"Inserting\", repr(random_character), \"at\", pos)\n",
    "    return s[:pos] + random_character + s[pos:]\n",
    "\n",
    "for i in range(10):\n",
    "    print(insert_random_character(\"A quick brown fox\"))"
   ]
  },
  {
   "cell_type": "code",
   "execution_count": 676,
   "metadata": {
    "button": false,
    "collapsed": false,
    "deletable": true,
    "new_sheet": false,
    "run_control": {
     "read_only": false
    }
   },
   "outputs": [
    {
     "name": "stdout",
     "output_type": "stream",
     "text": [
      "A quick brown fmx\n",
      "A quiak brown fox\n",
      "A qUick brown fox\n",
      "A quick brown!fox\n",
      "A Quick brown fox\n",
      "A qumck brown fox\n",
      "A!quick brown fox\n",
      "A quick brown nox\n",
      "A quick brwn fox\n",
      "A quick$brown fox\n"
     ]
    }
   ],
   "source": [
    "def flip_random_character(s):\n",
    "    \"\"\"Returns s with a random bit flipped in a random position\"\"\"\n",
    "    if s == \"\":\n",
    "        return s\n",
    "\n",
    "    pos = random.randint(0, len(s) - 1)\n",
    "    c = s[pos]\n",
    "    bit = 1 << random.randint(0, 6)\n",
    "    new_c = chr(ord(c) ^ bit)\n",
    "    # print(\"Flipping\", bit, \"in\", repr(c) + \", giving\", repr(new_c))\n",
    "    return s[:pos] + new_c + s[pos + 1:]\n",
    "\n",
    "for i in range(10):\n",
    "    print(flip_random_character(\"A quick brown fox\"))"
   ]
  },
  {
   "cell_type": "markdown",
   "metadata": {
    "button": false,
    "deletable": true,
    "new_sheet": false,
    "run_control": {
     "read_only": false
    }
   },
   "source": [
    "Let us now create a random mutator that randomly chooses which mutation to apply:"
   ]
  },
  {
   "cell_type": "code",
   "execution_count": 677,
   "metadata": {
    "button": false,
    "collapsed": false,
    "deletable": true,
    "new_sheet": false,
    "run_control": {
     "read_only": false
    }
   },
   "outputs": [
    {
     "name": "stdout",
     "output_type": "stream",
     "text": [
      "A quick brown`fox\n",
      "A quick brown foX\n",
      "A quick brown f,ox\n",
      "A quick brow n fox\n",
      "A% quick brown fox\n",
      "A quick brown f>ox\n",
      "A quick bro#wn fox\n",
      "A quick brnwn fox\n",
      "A9 quick brown fox\n",
      "A quickbrown fox\n"
     ]
    }
   ],
   "source": [
    "mutators = [delete_random_character, insert_random_character, flip_random_character]\n",
    "\n",
    "def mutate(s):\n",
    "    \"\"\"Return s with a random mutation applied\"\"\"\n",
    "    mutator = random.choice(mutators)\n",
    "    # print(mutator)\n",
    "    return mutator(s)\n",
    "\n",
    "\n",
    "for i in range(10):\n",
    "    print(mutate(\"A quick brown fox\"))"
   ]
  },
  {
   "cell_type": "markdown",
   "metadata": {
    "button": false,
    "deletable": true,
    "new_sheet": false,
    "run_control": {
     "read_only": false
    }
   },
   "source": [
    "Let us now apply the `mutate()` function on a Python expression and see how many valid inputs we obtain."
   ]
  },
  {
   "cell_type": "code",
   "execution_count": 678,
   "metadata": {
    "button": false,
    "collapsed": false,
    "deletable": true,
    "new_sheet": false,
    "run_control": {
     "read_only": false
    }
   },
   "outputs": [],
   "source": [
    "seed_input = \"1 + 2 * 3 / 4\"\n",
    "valid_inputs = set()\n",
    "TRIALS = 1000\n",
    "\n",
    "for i in range(TRIALS):\n",
    "    input = mutate(seed_input)\n",
    "    if is_valid_expr(input):\n",
    "        valid_inputs.add(input)"
   ]
  },
  {
   "cell_type": "markdown",
   "metadata": {
    "button": false,
    "deletable": true,
    "new_sheet": false,
    "run_control": {
     "read_only": false
    }
   },
   "source": [
    "The first thing we observe is that the number of valid inputs is now much higher.  We are still far away from 100% valid inputs, but this is an improvement:"
   ]
  },
  {
   "cell_type": "code",
   "execution_count": 679,
   "metadata": {
    "button": false,
    "collapsed": false,
    "deletable": true,
    "new_sheet": false,
    "run_control": {
     "read_only": false
    }
   },
   "outputs": [
    {
     "data": {
      "text/plain": [
       "0.103"
      ]
     },
     "execution_count": 679,
     "metadata": {},
     "output_type": "execute_result"
    }
   ],
   "source": [
    "len(valid_inputs) / TRIALS"
   ]
  },
  {
   "cell_type": "markdown",
   "metadata": {
    "button": false,
    "deletable": true,
    "new_sheet": false,
    "run_control": {
     "read_only": false
    }
   },
   "source": [
    "Most important, though, is that the valid inputs now cover many more Python expression features – additional operands, identifiers, and more:"
   ]
  },
  {
   "cell_type": "code",
   "execution_count": 680,
   "metadata": {
    "button": false,
    "collapsed": false,
    "deletable": true,
    "new_sheet": false,
    "run_control": {
     "read_only": false
    }
   },
   "outputs": [
    {
     "name": "stdout",
     "output_type": "stream",
     "text": [
      "{'15 + 2 * 3 / 4', '1 + 2 *  3 / 4', '1 + 2 * 3 / 0', '9 + 2 * 3 / 4', '1 + 22 * 3 / 4', '1 + 2 * 3 / 84', '1 + 82 * 3 / 4', '1 + r * 3 / 4', '1+ + 2 * 3 / 4', '1 + 2 * 3 / 6', '1 + 2 * 83 / 4', '1 + 3 * 3 / 4', '1 + 2 * 31 / 4', '1 + 2 * 3 / 24', '1 + 2 * 3 / 5', '-1 + 2 * 3 / 4', '1 + 2 * 3 /  4', '1 + 2 * 3/ 4', '1 + 2 * 38 / 4', '51 + 2 * 3 / 4', '1 + 21 * 3 / 4', '1 / 2 * 3 / 4', '1 + 2 * 2 / 4', '1 + 2 * 53 / 4', '1 >+ 2 * 3 / 4', '1 =+ 2 * 3 / 4', '1 + 2 * 7 / 4', '10+ 2 * 3 / 4', '1 + 2 * 36 / 4', '1 *+ 2 * 3 / 4', '1 + 0 * 3 / 4', '1 + 2 * -3 / 4', '1 + 2 * 35 / 4', '1 + 2 * s / 4', '1 + 2 * 3 /4', '1 + 2 * 3. / 4', '1 + 2 *3 / 4', '1 + 2 * +3 / 4', '1 + 2 * 1 / 4', '1 + 2 * 3  / 4', '1 + 27 * 3 / 4', '1 + 2 + 3 / 4', '1 * 2 * 3 / 4', '1 + 2 * 3 / -4', '3 + 2 * 3 / 4', '1 + 20 * 3 / 4', '1 + 2 * 3 + 4', '91 + 2 * 3 / 4', '1 + 2 * 93 / 4', ' + 2 * 3 / 4', '1. + 2 * 3 / 4', '1 + 2  * 3 / 4', '10 + 2 * 3 / 4', '1 + 2 * 3 - 4', '17 + 2 * 3 / 4', '1 + 2 * 3 // 4', '1 <+ 2 * 3 / 4', '1 + 2 * 63 / 4', 'q + 2 * 3 / 4', '1 + 72 * 3 / 4', '81 + 2 * 3 / 4', '1 + 2 * 30/ 4', '1  + 2 * 3 / 4', '1 + 2 *+ 3 / 4', '5 + 2 * 3 / 4', '1 + 2 ** 3 / 4', '1 +  2 * 3 / 4', '13 + 2 * 3 / 4', '1 + 2* 3 / 4', '1 + 2 *- 3 / 4', '1 + 62 * 3 / 4', '31 + 2 * 3 / 4', '1 + 2 * 3 / 54', '71 + 2 * 3 / 4', '1& + 2 * 3 / 4', '1 + 28 * 3 / 4', '1 + 2 * 3 / t', '1 + 2 * 3 / 14', '1 + 2 * .3 / 4', '1 + 2 * 3 / +4', '1 + 32 * 3 / 4', '1 + 2 * 3 / 46', '1- + 2 * 3 / 4', '1 %+ 2 * 3 / 4', '+1 + 2 * 3 / 4', '1= + 2 * 3 / 4', '1 +- 2 * 3 / 4', '1 + 12 * 3 / 4', '1> + 2 * 3 / 4', '1 + 2. * 3 / 4', '1 + 2 * 3 /+ 4', '1 + 2 * 3 / 44', '1 + 6 * 3 / 4', '1+ 2 * 3 / 4', '1 +2 * 3 / 4', '11 + 2 * 3 / 4', '1 + 20* 3 / 4', '1 + 23 * 3 / 4', '1 + 2 * 3 / 42', '18 + 2 * 3 / 4', '1 + 2 * 3 / 64', '41 + 2 * 3 / 4', '1 + 2 * 3 / 40'}\n"
     ]
    }
   ],
   "source": [
    "print(valid_inputs)"
   ]
  },
  {
   "cell_type": "markdown",
   "metadata": {
    "run_control": {}
   },
   "source": [
    "## Mutation Fuzzing vs Basic Fuzzing\n",
    "\n",
    "\\todo{Compare coverage}"
   ]
  },
  {
   "cell_type": "markdown",
   "metadata": {
    "button": false,
    "deletable": true,
    "new_sheet": false,
    "run_control": {
     "read_only": false
    }
   },
   "source": [
    "## Next Steps"
   ]
  },
  {
   "cell_type": "markdown",
   "metadata": {
    "button": false,
    "deletable": true,
    "new_sheet": false,
    "run_control": {
     "read_only": false
    }
   },
   "source": [
    "\n",
    "\\todo{Rework}\n",
    "\n",
    "How can we sufficiently cover functionality?  Essentially, we have two options:\n",
    "\n",
    "1. Try to cover as much _implemented_ functionality as possible.  To this end, we need to access the program implementation, measure which parts would actually be reached with our inputs, and use this _coverage_ to guide our search.  We will explore this in the next chapter, which discusses [coverage](Coverage.ipynb).\n",
    "\n",
    "2. Try to cover as much _specified_ functionality as possible.  Here, we would need a specification of the input format, distinguishing between individual input elements such as (in our case) numbers, operators, comments, and strings – and attempting to cover as many of these as possible.  We will explore this as it comes to [grammar-based testing](Grammar_Testing.ipynb).\n",
    "\n",
    "Finally, the concept of a \"population\" that is systematically \"evolved\" trhough \"mutations\" will be explored in depth when discussing [search-based testing](Search_Based_Testing.ipynb).  Enjoy!\n"
   ]
  },
  {
   "cell_type": "markdown",
   "metadata": {
    "button": false,
    "collapsed": true,
    "deletable": true,
    "new_sheet": false,
    "run_control": {
     "read_only": false
    }
   },
   "source": [
    "## Exercises\n"
   ]
  },
  {
   "cell_type": "markdown",
   "metadata": {
    "button": false,
    "deletable": true,
    "new_sheet": false,
    "run_control": {
     "read_only": false
    }
   },
   "source": [
    "### Exercise 1\n",
    "\n",
    "Apply the above mutation-based fuzzing technique on `bc`, using files, as in our [Introduction to Fuzzing](Basic_Fuzzing.ipynb)."
   ]
  }
 ],
 "metadata": {
  "celltoolbar": "Edit Metadata",
  "ipub": {
   "bibliography": "gstbook.bib",
   "listcode": false,
   "listfigures": false,
   "listtables": false,
   "titlepage": {
    "author": "Andreas Zeller, Rahul Gopinath, Gordon Fraser, and Christian Holler",
    "subtitle": "Generating Software Tests",
    "title": "Fuzzing"
   },
   "toc": true
  },
  "kernelspec": {
   "display_name": "Python 3",
   "language": "python",
   "name": "python3"
  },
  "language_info": {
   "codemirror_mode": {
    "name": "ipython",
    "version": 3
   },
   "file_extension": ".py",
   "mimetype": "text/x-python",
   "name": "python",
   "nbconvert_exporter": "python",
   "pygments_lexer": "ipython3",
   "version": "3.5.0"
  },
  "toc": {
   "base_numbering": 1,
   "nav_menu": {},
   "number_sections": true,
   "sideBar": true,
   "skip_h1_title": true,
   "title_cell": "",
   "title_sidebar": "Contents",
   "toc_cell": false,
   "toc_position": {},
   "toc_section_display": true,
   "toc_window_display": true
  }
 },
 "nbformat": 4,
 "nbformat_minor": 2
}
