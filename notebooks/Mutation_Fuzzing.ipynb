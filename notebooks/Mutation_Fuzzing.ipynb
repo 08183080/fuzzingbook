{
 "cells": [
  {
   "cell_type": "markdown",
   "metadata": {
    "button": false,
    "deletable": true,
    "new_sheet": false,
    "run_control": {
     "read_only": false
    }
   },
   "source": [
    "# Mutation-Based Fuzzing\n",
    "\n",
    "Most [randomly generated inputs](Basic_Fuzzing.ipynb) are syntactically _invalid_ and thus are quickly rejected by the processing program.  To exercise functionality beyond input processing, we must increase chances to obtain valid inputs.  One such way is by _mutating_ existing valid inputs - that is, introducing small changes that may still keep the input valid, yet exercise new behavior."
   ]
  },
  {
   "cell_type": "markdown",
   "metadata": {
    "button": false,
    "deletable": true,
    "new_sheet": false,
    "run_control": {
     "read_only": false
    }
   },
   "source": [
    "**Prerequisites**\n",
    "\n",
    "* You should know how basic fuzzing works; for instance, from the [\"Fuzzing\"](Basic_Fuzzing.ipynb) chapter."
   ]
  },
  {
   "cell_type": "markdown",
   "metadata": {
    "run_control": {}
   },
   "source": [
    "## The Problem\n",
    "\n",
    "Most modern programs do a good job in _validating_ their inputs before they actually process them.  As an example, think of a _compiler_ translating program code into a lower-level language.  The processing steps of a compiler are typically depicted as a pipeline of components, each processing the input of its predecessors and producing output for its successors.  In the beginning, we typically have a lexical analysis that puts letters together into words, a syntactic analysis that puts sequences of words and items into structures, and then the actual compilation steps that translate these structures into code:\n",
    "\n",
    "![Compiler Pipeline](PICS/Compiler.pdf)\n",
    "\n",
    "The problem is that with random inputs, you will be able to exercise a lot of functionality in the leftmost stages (i.e., the lexical and possibly syntactical analyses), but the chances of actually producing a _valid_ input that will make it to the later stages are slim."
   ]
  },
  {
   "cell_type": "markdown",
   "metadata": {
    "run_control": {}
   },
   "source": [
    "\n",
    "### Fuzzing Python Expressions\n",
    "\n",
    "To illustrate just how low the chances are, let us _illustrate the problem on the Python interpreter._  Let us get the fuzzing function from  the [\"Fuzzing\"](Basic_Fuzzing.ipynb) chapter."
   ]
  },
  {
   "cell_type": "code",
   "execution_count": 193,
   "metadata": {
    "button": false,
    "collapsed": false,
    "deletable": true,
    "new_sheet": false,
    "run_control": {
     "read_only": false
    },
    "slideshow": {
     "slide_type": "skip"
    }
   },
   "outputs": [],
   "source": [
    "import gstbook\n",
    "from Basic_Fuzzing import fuzzer"
   ]
  },
  {
   "cell_type": "markdown",
   "metadata": {
    "button": false,
    "collapsed": true,
    "deletable": true,
    "new_sheet": false,
    "run_control": {
     "read_only": false
    },
    "slideshow": {
     "slide_type": "skip"
    }
   },
   "source": [
    "We can use the `fuzzer` function to generate random inputs.  Would this be a valid Python expression?"
   ]
  },
  {
   "cell_type": "code",
   "execution_count": 194,
   "metadata": {
    "collapsed": false,
    "run_control": {}
   },
   "outputs": [
    {
     "data": {
      "text/plain": [
       "'$ 8)6*:?1(643\"<4/$,;;!86!!<,8&(% =#::3.6,2%0;;70'"
      ]
     },
     "execution_count": 194,
     "metadata": {},
     "output_type": "execute_result"
    }
   ],
   "source": [
    "fuzzer()"
   ]
  },
  {
   "cell_type": "markdown",
   "metadata": {
    "run_control": {}
   },
   "source": [
    "To test which inputs are actually valid, we use the Python `parser` module.  `parser.suite(_source_)` returns an internal object (actually, a parse tree) if _source_ is a valid command:"
   ]
  },
  {
   "cell_type": "code",
   "execution_count": 195,
   "metadata": {
    "collapsed": false,
    "run_control": {}
   },
   "outputs": [
    {
     "data": {
      "text/plain": [
       "<parser.st at 0x10c879310>"
      ]
     },
     "execution_count": 195,
     "metadata": {},
     "output_type": "execute_result"
    }
   ],
   "source": [
    "import parser\n",
    "\n",
    "parser.suite(\"print(2 + 2)\")"
   ]
  },
  {
   "cell_type": "markdown",
   "metadata": {
    "run_control": {}
   },
   "source": [
    "Note that the command is _not_ executed.  (Actually, evaluating or otherwise executing randomly generated strings would be quite a risk: What happens if by chance, a string that deletes your files would be created?)"
   ]
  },
  {
   "cell_type": "markdown",
   "metadata": {
    "run_control": {}
   },
   "source": [
    "If _source_ is invalid, `parser.suite()` raises an exception:"
   ]
  },
  {
   "cell_type": "code",
   "execution_count": 196,
   "metadata": {
    "collapsed": false,
    "run_control": {}
   },
   "outputs": [
    {
     "name": "stderr",
     "output_type": "stream",
     "text": [
      "Traceback (most recent call last):\n",
      "  File \"<ipython-input-196-ce2975f6a20e>\", line 4, in <module>\n",
      "    parser.suite(\"print(2 +<>^& 37)\")\n",
      "  File \"<string>\", line 1\n",
      "    print(2 +<>^& 37)\n",
      "              ^\n",
      "SyntaxError: invalid syntax\n"
     ]
    }
   ],
   "source": [
    "import traceback\n",
    "\n",
    "try:\n",
    "    parser.suite(\"print(2 +<>^& 37)\")\n",
    "except SyntaxError:\n",
    "    traceback.print_exc()"
   ]
  },
  {
   "cell_type": "markdown",
   "metadata": {
    "run_control": {}
   },
   "source": [
    "We can thus write a function `is_valid_expr()` that checks whether an expression is valid in Python:"
   ]
  },
  {
   "cell_type": "code",
   "execution_count": 197,
   "metadata": {
    "collapsed": false,
    "run_control": {}
   },
   "outputs": [],
   "source": [
    "def is_valid_expr(source):\n",
    "    \"\"\"Returns true iff source is a valid Python expression\"\"\"\n",
    "    try:\n",
    "        parser.suite(\"print(\" + source + \")\")\n",
    "        return True\n",
    "    except SyntaxError:\n",
    "        return False\n",
    "    except ValueError:\n",
    "        return False\n",
    "\n",
    "assert is_valid_expr(\"4 + 4\")\n",
    "assert not is_valid_expr(\"37 !@#$ 564\")"
   ]
  },
  {
   "cell_type": "markdown",
   "metadata": {
    "run_control": {}
   },
   "source": [
    "### Invalid Inputs\n",
    "\n",
    "Let us see how many of the `fuzzer()` outputs are actually valid:W"
   ]
  },
  {
   "cell_type": "code",
   "execution_count": 198,
   "metadata": {
    "collapsed": false,
    "run_control": {}
   },
   "outputs": [
    {
     "data": {
      "text/plain": [
       "0.011"
      ]
     },
     "execution_count": 198,
     "metadata": {},
     "output_type": "execute_result"
    }
   ],
   "source": [
    "valid_inputs = set()\n",
    "TRIALS = 1000\n",
    "\n",
    "for i in range(TRIALS):\n",
    "    input = fuzzer()\n",
    "    if is_valid_expr(input):\n",
    "        valid_inputs.add(input)\n",
    "        \n",
    "len(valid_inputs) / TRIALS"
   ]
  },
  {
   "cell_type": "markdown",
   "metadata": {
    "run_control": {}
   },
   "source": [
    "About 99% of all generated inputs are invalid - that's not very many.  What are the valid ones we get?"
   ]
  },
  {
   "cell_type": "code",
   "execution_count": 199,
   "metadata": {
    "collapsed": false,
    "run_control": {}
   },
   "outputs": [
    {
     "data": {
      "text/plain": [
       "{'',\n",
       " ' ',\n",
       " '\"0;<2%,/:/6>7=) !#(\\'<;8!451\\'#;*\"',\n",
       " \"'<$*(,&;+0<<)8,<'\",\n",
       " '+\\'*4,4.;23%04(5:%\"*<$329;\"& - *3>/\\'',\n",
       " '0',\n",
       " '3',\n",
       " '35=8)(*0',\n",
       " '7',\n",
       " '8',\n",
       " '95'}"
      ]
     },
     "execution_count": 199,
     "metadata": {},
     "output_type": "execute_result"
    }
   ],
   "source": [
    "valid_inputs"
   ]
  },
  {
   "cell_type": "markdown",
   "metadata": {
    "run_control": {}
   },
   "source": [
    "While we do have a chance to create numbers and very simple arithmetic expressions, we are going to miss plenty of Python data types and functionality - and of course, we are not going to cover the code that handles these.  \n",
    "\n",
    "What are the odds of producing a Python set, for instance? It would have to start with `set(`.  In its default configuration, for instance, `get_fuzzer()` does not even produce letters.  If we give it a range of say, 64 characters, we have a chance of $1 : 64^4$ to have an input that starts with `set(`.  How much is that, again?"
   ]
  },
  {
   "cell_type": "code",
   "execution_count": 200,
   "metadata": {
    "collapsed": false,
    "run_control": {}
   },
   "outputs": [
    {
     "data": {
      "text/plain": [
       "16777216"
      ]
     },
     "execution_count": 200,
     "metadata": {},
     "output_type": "execute_result"
    }
   ],
   "source": [
    "64 ** 4"
   ]
  },
  {
   "cell_type": "markdown",
   "metadata": {
    "run_control": {}
   },
   "source": [
    "Indeed, less than one in a million.  Plus, we'd also need the closing `)`..."
   ]
  },
  {
   "cell_type": "markdown",
   "metadata": {
    "run_control": {}
   },
   "source": [
    "## Mutating Inputs\n",
    "\n",
    "The alternative to generating random strings from scratch is to start with a guiven _valid_ input, and then to subsequently _mutate_ it.  A _mutation_ in this context is a simple string manipulation - say, inserting a (random) character, deleting a character, or flipping a bit in a character representation.  Here are some mutations to get you started:"
   ]
  },
  {
   "cell_type": "code",
   "execution_count": 201,
   "metadata": {
    "collapsed": true,
    "run_control": {}
   },
   "outputs": [],
   "source": [
    "import random"
   ]
  },
  {
   "cell_type": "code",
   "execution_count": 202,
   "metadata": {
    "collapsed": false,
    "run_control": {}
   },
   "outputs": [
    {
     "name": "stdout",
     "output_type": "stream",
     "text": [
      "A quic brown fox\n",
      "A quick rown fox\n",
      "Aquick brown fox\n",
      "A quik brown fox\n",
      "A quck brown fox\n",
      "A quic brown fox\n",
      "A quick brwn fox\n",
      "Aquick brown fox\n",
      "A uick brown fox\n",
      "A quck brown fox\n"
     ]
    }
   ],
   "source": [
    "def delete_random_character(s):\n",
    "    \"\"\"Returns s with a random character deleted\"\"\"\n",
    "    pos = random.randint(0, len(s) - 1)\n",
    "    # print(\"Deleting\", repr(s[pos]), \"at\", pos)\n",
    "    return s[:pos] + s[pos + 1:]\n",
    "\n",
    "for i in range(10):\n",
    "    x = delete_random_character(\"A quick brown fox\")\n",
    "    print(x)"
   ]
  },
  {
   "cell_type": "code",
   "execution_count": 203,
   "metadata": {
    "collapsed": false,
    "run_control": {}
   },
   "outputs": [
    {
     "name": "stdout",
     "output_type": "stream",
     "text": [
      "A quick bro0wn fox\n",
      "A quick br.own fox\n",
      "A quic>k brown fox\n",
      "A quick brown fo2x\n",
      "A qui4ck brown fox\n",
      "A quic:k brown fox\n",
      "A quick brown7 fox\n",
      "A 8quick brown fox\n",
      "A quick bro&wn fox\n",
      "1A quick brown fox\n"
     ]
    }
   ],
   "source": [
    "def insert_random_character(s):\n",
    "    \"\"\"Returns s with a random character inserted\"\"\"\n",
    "    pos = random.randint(0, len(s))\n",
    "    random_character = chr(random.randrange(32, 64))\n",
    "    # print(\"Inserting\", repr(random_character), \"at\", pos)\n",
    "    return s[:pos] + random_character + s[pos:]\n",
    "\n",
    "for i in range(10):\n",
    "    print(insert_random_character(\"A quick brown fox\"))"
   ]
  },
  {
   "cell_type": "code",
   "execution_count": 204,
   "metadata": {
    "collapsed": false,
    "run_control": {}
   },
   "outputs": [
    {
     "name": "stdout",
     "output_type": "stream",
     "text": [
      "A quick$brown fox\n",
      "A qUick brown fox\n",
      "A qUick brown fox\n",
      "A quick brow~ fox\n",
      "A qu)ck brown fox\n",
      "A`quick brown fox\n",
      "A quick brogn fox\n",
      "A Quick brown fox\n",
      "A quick brogn fox\n",
      "A quIck brown fox\n"
     ]
    }
   ],
   "source": [
    "def flip_random_character(s):\n",
    "    \"\"\"Returns s with a random bit flipped in a random position\"\"\"\n",
    "    pos = random.randint(0, len(s) - 1)\n",
    "    c = s[pos]\n",
    "    bit = 1 << random.randint(0, 6)\n",
    "    new_c = chr(ord(c) ^ bit)\n",
    "    # print(\"Flipping\", bit, \"in\", repr(c) + \", giving\", repr(new_c))\n",
    "    return s[:pos] + new_c + s[pos + 1:]\n",
    "\n",
    "for i in range(10):\n",
    "    print(flip_random_character(\"A quick brown fox\"))"
   ]
  },
  {
   "cell_type": "markdown",
   "metadata": {
    "run_control": {}
   },
   "source": [
    "Let us now create a random mutator that randomly chooses which mutation to apply:"
   ]
  },
  {
   "cell_type": "code",
   "execution_count": 205,
   "metadata": {
    "collapsed": false
   },
   "outputs": [
    {
     "name": "stdout",
     "output_type": "stream",
     "text": [
      "A qu<ick brown fox\n",
      "A quic=k brown fox\n",
      "A quick br=own fox\n",
      "A 1quick brown fox\n",
      "A quick brown fx\n",
      "A quick brown fop\n",
      "A q;uick brown fox\n",
      "A uick brown fox\n",
      "A quick brown fo\n",
      "A quick `rown fox\n"
     ]
    }
   ],
   "source": [
    "mutators = [delete_random_character, insert_random_character, flip_random_character]\n",
    "\n",
    "def mutate(s):\n",
    "    \"\"\"Return s with a random mutation applied\"\"\"\n",
    "    mutator = random.choice(mutators)\n",
    "    # print(mutator)\n",
    "    return mutator(s)\n",
    "\n",
    "\n",
    "for i in range(10):\n",
    "    print(mutate(\"A quick brown fox\"))"
   ]
  },
  {
   "cell_type": "markdown",
   "metadata": {
    "run_control": {}
   },
   "source": [
    "Let us now apply the `mutate()` function on a Python expression and see how many valid inputs we obtain."
   ]
  },
  {
   "cell_type": "code",
   "execution_count": 206,
   "metadata": {
    "collapsed": false,
    "run_control": {}
   },
   "outputs": [],
   "source": [
    "seed_input = \"1 + 2 * 3 / 4\"\n",
    "valid_inputs = set()\n",
    "TRIALS = 1000\n",
    "\n",
    "for i in range(TRIALS):\n",
    "    input = mutate(seed_input)\n",
    "    if is_valid_expr(input):\n",
    "        valid_inputs.add(input)"
   ]
  },
  {
   "cell_type": "markdown",
   "metadata": {
    "run_control": {}
   },
   "source": [
    "The first thing we observe is that the number of valid inputs is now much higher:"
   ]
  },
  {
   "cell_type": "code",
   "execution_count": 209,
   "metadata": {
    "collapsed": false,
    "run_control": {}
   },
   "outputs": [
    {
     "data": {
      "text/plain": [
       "99"
      ]
     },
     "execution_count": 209,
     "metadata": {},
     "output_type": "execute_result"
    }
   ],
   "source": [
    "len(valid_inputs)"
   ]
  },
  {
   "cell_type": "markdown",
   "metadata": {
    "run_control": {}
   },
   "source": [
    "Most important, though, is that the valid inputs now cover many more Python expression features - additional operands, identifiers, and more:"
   ]
  },
  {
   "cell_type": "code",
   "execution_count": 216,
   "metadata": {
    "collapsed": false,
    "run_control": {}
   },
   "outputs": [
    {
     "name": "stdout",
     "output_type": "stream",
     "text": [
      "{'15 + 2 * 3 / 4', '1 + 2 *  3 / 4', '1 + 2 * 3 / 0', '1 + 2 * 3 / 4.', '9 + 2 * 3 / 4', '1 + 22 * 3 / 4', '1 + r * 3 / 4', '0 + 2 * 3 / 4', '1 + 2 * 3 / 6', '1 + 2 * 83 / 4', '1< + 2 * 3 / 4', '1 + 2 * 39 / 4', '1 + .2 * 3 / 4', '19 + 2 * 3 / 4', '1 + 3 * 3 / 4', '1 + 2 * 3 / 5', ' 1 + 2 * 3 / 4', '1 + 2 * 3/ 4', '1 + 2 * 38 / 4', '1 + 21 * 3 / 4', '1 / 2 * 3 / 4', '1 + 2 * 2 / 4', '1 =+ 2 * 3 / 4', '1 + 2 * 7 / 4', '10+ 2 * 3 / 4', '1 + 26 * 3 / 4', '1 *+ 2 * 3 / 4', '1 + 0 * 3 / 4', '1 + 2 * s / 4', '1 + 2 * 35 / 4', '1 + 2 * 3 / 94', '1 + 2 * 3 /4', '1 + 2 * 3. / 4', '1 + 24 * 3 / 4', '1 + 2 *3 / 4', '1 + 2 * 1 / 4', '1 + 2 * 3  / 4', '1 + 2 + 3 / 4', '1 * 2 * 3 / 4', '1 + 2 * 33 / 4', '1 + 2 * 3 / .4', '3 + 2 * 3 / 4', '1 + 20 * 3 / 4', '1 + 2 * 3 + 4', '91 + 2 * 3 / 4', '1 ,+ 2 * 3 / 4', ' + 2 * 3 / 4', '1 + 2  * 3 / 4', '1 + 2 * 3 - 4', '17 + 2 * 3 / 4', '1 + 2 * 3 // 4', '1 <+ 2 * 3 / 4', 'q + 2 * 3 / 4', '1 + 72 * 3 / 4', '81 + 2 * 3 / 4', '1 + 2 * 3 /- 4', '1 + 2 * 30/ 4', '1  + 2 * 3 / 4', '5 + 2 * 3 / 4', '1 + 2 * 3 / 47', '1 +  2 * 3 / 4', '13 + 2 * 3 / 4', '61 + 2 * 3 / 4', '1* + 2 * 3 / 4', '1 + 2* 3 / 4', '1 + 2 *- 3 / 4', '1 + 62 * 3 / 4', '31 + 2 * 3 / 4', '.1 + 2 * 3 / 4', '1& + 2 * 3 / 4', '1 + 2 * 3 / t', '1 + 2 * .3 / 4', '1 + 2 * 3 / +4', '1 + 2 * 3 / 74', '1 + 2 * 23 / 4', '1 + 2 * 3 / 43', '1 + 2 * 3 / 46', '1 %+ 2 * 3 / 4', '+1 + 2 * 3 / 4', '1 ++ 2 * 3 / 4', '1/ + 2 * 3 / 4', '1 + 52 * 3 / 4', '1 +- 2 * 3 / 4', '1% + 2 * 3 / 4', '1 + 12 * 3 / 4', '1 + 2 * 3 /+ 4', '1 + 2 * 3 / 44', '1 + 6 * 3 / 4', '1+ 2 * 3 / 4', '21 + 2 * 3 / 4', '1 +2 * 3 / 4', '1 + 2 * 73 / 4', '11 + 2 * 3 / 4', '1 + 20* 3 / 4', '1 + 2 * 3 / 42', '18 + 2 * 3 / 4', '1 + 2 * 3 / 64', '41 + 2 * 3 / 4', '1 + 2 * 3 / 40'}\n"
     ]
    }
   ],
   "source": [
    "print(valid_inputs)"
   ]
  },
  {
   "cell_type": "markdown",
   "metadata": {
    "run_control": {}
   },
   "source": [
    "## Next Steps\n",
    "\n",
    "* Apply on files\n",
    "* Make this guided by coverage, as AFL does"
   ]
  },
  {
   "cell_type": "code",
   "execution_count": null,
   "metadata": {
    "collapsed": true,
    "run_control": {}
   },
   "outputs": [],
   "source": []
  }
 ],
 "metadata": {
  "celltoolbar": "Edit Metadata",
  "ipub": {
   "bibliography": "gstbook.bib",
   "listcode": false,
   "listfigures": false,
   "listtables": false,
   "titlepage": {
    "author": "Andreas Zeller, Rahul Gopinath, Gordon Fraser, and Christian Holler",
    "subtitle": "Generating Software Tests",
    "title": "Fuzzing"
   },
   "toc": true
  },
  "kernelspec": {
   "display_name": "Python 3",
   "language": "python",
   "name": "python3"
  },
  "language_info": {
   "codemirror_mode": {
    "name": "ipython",
    "version": 3
   },
   "file_extension": ".py",
   "mimetype": "text/x-python",
   "name": "python",
   "nbconvert_exporter": "python",
   "pygments_lexer": "ipython3",
   "version": "3.5.0"
  },
  "toc": {
   "base_numbering": 1,
   "nav_menu": {},
   "number_sections": true,
   "sideBar": true,
   "skip_h1_title": true,
   "title_cell": "",
   "title_sidebar": "Contents",
   "toc_cell": false,
   "toc_position": {},
   "toc_section_display": true,
   "toc_window_display": true
  }
 },
 "nbformat": 4,
 "nbformat_minor": 2
}
