{
 "cells": [
  {
   "cell_type": "markdown",
   "metadata": {
    "button": false,
    "deletable": true,
    "new_sheet": false,
    "run_control": {
     "read_only": false
    }
   },
   "source": [
    "# Mutation-Based Fuzzing\n",
    "\n",
    "Most [randomly generated inputs](Basic_Fuzzing.ipynb) are syntactically _invalid_ and thus are quickly rejected by the processing program.  To exercise functionality beyond input processing, we must increase chances to obtain valid inputs.  One such way is by _mutating_ existing valid inputs - that is, introducing small changes that may still keep the input valid, yet exercise new behavior."
   ]
  },
  {
   "cell_type": "markdown",
   "metadata": {
    "button": false,
    "deletable": true,
    "new_sheet": false,
    "run_control": {
     "read_only": false
    }
   },
   "source": [
    "**Prerequisites**\n",
    "\n",
    "* You should know how basic fuzzing works; for instance, from the [\"Fuzzing\"](Basic_Fuzzing.ipynb) chapter."
   ]
  },
  {
   "cell_type": "markdown",
   "metadata": {
    "button": false,
    "deletable": true,
    "new_sheet": false,
    "run_control": {
     "read_only": false
    }
   },
   "source": [
    "## The Problem\n",
    "\n",
    "Most modern programs do a good job in _validating_ their inputs before they actually process them.  As an example, think of a _compiler_ translating program code into a lower-level language.  The processing steps of a compiler are typically depicted as a pipeline of components, each processing the input of its predecessors and producing output for its successors.  In the beginning, we typically have a lexical analysis that puts letters together into words, a syntactic analysis that puts sequences of words and items into structures, and then the actual compilation steps that translate these structures into code:\n",
    "\n",
    "![Compiler Pipeline](PICS/Compiler.pdf)\n",
    "\n",
    "The problem is that with random inputs, you will be able to exercise a lot of functionality in the leftmost stages (i.e., the lexical and possibly syntactical analyses), but the chances of actually producing a _valid_ input that will make it to the later stages are slim."
   ]
  },
  {
   "cell_type": "markdown",
   "metadata": {
    "button": false,
    "deletable": true,
    "new_sheet": false,
    "run_control": {
     "read_only": false
    }
   },
   "source": [
    "\n",
    "### Fuzzing Python Expressions\n",
    "\n",
    "To illustrate just how low the chances are, let us _illustrate the problem on the Python interpreter._  Let us get the fuzzing function from  the [\"Fuzzing\"](Basic_Fuzzing.ipynb) chapter."
   ]
  },
  {
   "cell_type": "code",
   "execution_count": 606,
   "metadata": {
    "button": false,
    "collapsed": false,
    "deletable": true,
    "new_sheet": false,
    "run_control": {
     "read_only": false
    },
    "slideshow": {
     "slide_type": "skip"
    }
   },
   "outputs": [],
   "source": [
    "import gstbook\n",
    "from Basic_Fuzzing import fuzzer"
   ]
  },
  {
   "cell_type": "markdown",
   "metadata": {
    "button": false,
    "collapsed": true,
    "deletable": true,
    "new_sheet": false,
    "run_control": {
     "read_only": false
    },
    "slideshow": {
     "slide_type": "skip"
    }
   },
   "source": [
    "We can use the `fuzzer()` function to generate random inputs.  Would this be a valid Python expression?"
   ]
  },
  {
   "cell_type": "code",
   "execution_count": 607,
   "metadata": {
    "button": false,
    "collapsed": false,
    "deletable": true,
    "new_sheet": false,
    "run_control": {
     "read_only": false
    }
   },
   "outputs": [
    {
     "data": {
      "text/plain": [
       "\"=+8!1=)'9.)\""
      ]
     },
     "execution_count": 607,
     "metadata": {},
     "output_type": "execute_result"
    }
   ],
   "source": [
    "fuzzer()"
   ]
  },
  {
   "cell_type": "markdown",
   "metadata": {
    "button": false,
    "deletable": true,
    "new_sheet": false,
    "run_control": {
     "read_only": false
    }
   },
   "source": [
    "To test which inputs are actually valid, we use the Python `parser` module.  `parser.suite(_source_)` returns an internal object (actually, a parse tree) if _source_ is a valid command:"
   ]
  },
  {
   "cell_type": "code",
   "execution_count": 608,
   "metadata": {
    "button": false,
    "collapsed": false,
    "deletable": true,
    "new_sheet": false,
    "run_control": {
     "read_only": false
    }
   },
   "outputs": [
    {
     "data": {
      "text/plain": [
       "<parser.st at 0x10da68730>"
      ]
     },
     "execution_count": 608,
     "metadata": {},
     "output_type": "execute_result"
    }
   ],
   "source": [
    "import parser\n",
    "\n",
    "parser.suite(\"print(2 + 2)\")"
   ]
  },
  {
   "cell_type": "markdown",
   "metadata": {
    "button": false,
    "deletable": true,
    "new_sheet": false,
    "run_control": {
     "read_only": false
    }
   },
   "source": [
    "Note that the command is _not_ executed.  That is because evaluating or otherwise executing randomly generated strings would be quite a risk: What happens if by chance, we create a command that deletes your files?"
   ]
  },
  {
   "cell_type": "markdown",
   "metadata": {
    "button": false,
    "deletable": true,
    "new_sheet": false,
    "run_control": {
     "read_only": false
    }
   },
   "source": [
    "If _source_ is invalid, `parser.suite()` raises an exception:"
   ]
  },
  {
   "cell_type": "code",
   "execution_count": 609,
   "metadata": {
    "button": false,
    "collapsed": false,
    "deletable": true,
    "new_sheet": false,
    "run_control": {
     "read_only": false
    }
   },
   "outputs": [
    {
     "name": "stderr",
     "output_type": "stream",
     "text": [
      "Traceback (most recent call last):\n",
      "  File \"<ipython-input-609-a6d15798aa29>\", line 4, in <module>\n",
      "    parser.suite(\"print(2 +<>^& 37)\")\n",
      "  File \"<string>\", line 1\n",
      "    print(2 +<>^& 37)\n",
      "              ^\n",
      "SyntaxError: invalid syntax\n"
     ]
    }
   ],
   "source": [
    "from gstbook.expect_error import ExpectError\n",
    "\n",
    "with ExpectError():\n",
    "    parser.suite(\"print(2 +<>^& 37)\")"
   ]
  },
  {
   "cell_type": "markdown",
   "metadata": {
    "button": false,
    "deletable": true,
    "new_sheet": false,
    "run_control": {
     "read_only": false
    }
   },
   "source": [
    "We can thus write a function `is_valid_expr()` that checks whether an expression is valid in Python:"
   ]
  },
  {
   "cell_type": "code",
   "execution_count": 610,
   "metadata": {
    "button": false,
    "collapsed": false,
    "deletable": true,
    "new_sheet": false,
    "run_control": {
     "read_only": false
    }
   },
   "outputs": [],
   "source": [
    "def is_valid_expr(source):\n",
    "    \"\"\"Returns true iff source is a valid Python expression\"\"\"\n",
    "    if '#' in source:\n",
    "        return False\n",
    "    try:\n",
    "        parser.suite(\"print(\" + source + \")\")\n",
    "        return True\n",
    "    except SyntaxError:\n",
    "        return False\n",
    "    except ValueError:\n",
    "        return False\n",
    "\n",
    "assert is_valid_expr(\"4 + 4\")\n",
    "assert not is_valid_expr(\"37 !@#$ 564\")"
   ]
  },
  {
   "cell_type": "markdown",
   "metadata": {
    "button": false,
    "deletable": true,
    "new_sheet": false,
    "run_control": {
     "read_only": false
    }
   },
   "source": [
    "### Invalid Inputs\n",
    "\n",
    "Let us see how many of the `fuzzer()` outputs are actually valid:"
   ]
  },
  {
   "cell_type": "code",
   "execution_count": 611,
   "metadata": {
    "button": false,
    "collapsed": false,
    "deletable": true,
    "new_sheet": false,
    "run_control": {
     "read_only": false
    }
   },
   "outputs": [
    {
     "data": {
      "text/plain": [
       "0.01"
      ]
     },
     "execution_count": 611,
     "metadata": {},
     "output_type": "execute_result"
    }
   ],
   "source": [
    "valid_inputs = set()\n",
    "TRIALS = 1000\n",
    "\n",
    "for i in range(TRIALS):\n",
    "    input = fuzzer()\n",
    "    if is_valid_expr(input):\n",
    "        valid_inputs.add(input)\n",
    "        \n",
    "len(valid_inputs) / TRIALS"
   ]
  },
  {
   "cell_type": "markdown",
   "metadata": {
    "button": false,
    "deletable": true,
    "new_sheet": false,
    "run_control": {
     "read_only": false
    }
   },
   "source": [
    "About 99% of all generated inputs are invalid - that's not very many.  What are the valid ones we get?"
   ]
  },
  {
   "cell_type": "code",
   "execution_count": 612,
   "metadata": {
    "button": false,
    "collapsed": false,
    "deletable": true,
    "new_sheet": false,
    "run_control": {
     "read_only": false
    }
   },
   "outputs": [
    {
     "data": {
      "text/plain": [
       "{'',\n",
       " ' 24',\n",
       " \"'/5-1>(>0382?7+?/8 '\",\n",
       " '\\'9-):;%)& ?\"+\\'',\n",
       " '.0',\n",
       " '44&+\"48.?*+*8<$:&:)(3)!\"',\n",
       " '5',\n",
       " '6',\n",
       " '7',\n",
       " '9'}"
      ]
     },
     "execution_count": 612,
     "metadata": {},
     "output_type": "execute_result"
    }
   ],
   "source": [
    "valid_inputs"
   ]
  },
  {
   "cell_type": "markdown",
   "metadata": {
    "button": false,
    "deletable": true,
    "new_sheet": false,
    "run_control": {
     "read_only": false
    }
   },
   "source": [
    "While we do have a chance to create numbers and very simple arithmetic expressions, we are going to miss plenty of Python data types and functionality - and of course, we are not going to cover the code that handles these.  \n",
    "\n",
    "What are the odds of producing a Python set, for instance? It would have to start with `set(`.  In its default configuration, for instance, `get_fuzzer()` does not even produce letters.  If we give it a range of say, 64 characters, we have a chance of $1 : 64^4$ to have an input that starts with `\"set(\"`.  How much is that, again?"
   ]
  },
  {
   "cell_type": "code",
   "execution_count": 613,
   "metadata": {
    "button": false,
    "collapsed": false,
    "deletable": true,
    "new_sheet": false,
    "run_control": {
     "read_only": false
    }
   },
   "outputs": [
    {
     "data": {
      "text/plain": [
       "16777216"
      ]
     },
     "execution_count": 613,
     "metadata": {},
     "output_type": "execute_result"
    }
   ],
   "source": [
    "64 ** 4"
   ]
  },
  {
   "cell_type": "markdown",
   "metadata": {
    "button": false,
    "deletable": true,
    "new_sheet": false,
    "run_control": {
     "read_only": false
    }
   },
   "source": [
    "Indeed, less than one in a million.  Plus, we'd also need the closing `')'` character..."
   ]
  },
  {
   "cell_type": "markdown",
   "metadata": {
    "button": false,
    "deletable": true,
    "new_sheet": false,
    "run_control": {
     "read_only": false
    }
   },
   "source": [
    "## Mutating Inputs\n",
    "\n",
    "The alternative to generating random strings from scratch is to start with a guiven _valid_ input, and then to subsequently _mutate_ it.  A _mutation_ in this context is a simple string manipulation - say, inserting a (random) character, deleting a character, or flipping a bit in a character representation.  Here are some mutations to get you started:"
   ]
  },
  {
   "cell_type": "code",
   "execution_count": 614,
   "metadata": {
    "button": false,
    "collapsed": true,
    "deletable": true,
    "new_sheet": false,
    "run_control": {
     "read_only": false
    }
   },
   "outputs": [],
   "source": [
    "import random"
   ]
  },
  {
   "cell_type": "code",
   "execution_count": 615,
   "metadata": {
    "button": false,
    "collapsed": false,
    "deletable": true,
    "new_sheet": false,
    "run_control": {
     "read_only": false
    }
   },
   "outputs": [
    {
     "name": "stdout",
     "output_type": "stream",
     "text": [
      " quick brown fox\n",
      " quick brown fox\n",
      "A quck brown fox\n",
      "A quick bown fox\n",
      "A quick brow fox\n",
      "A quickbrown fox\n",
      "A qick brown fox\n",
      "A quick brown ox\n",
      "A quick brow fox\n",
      "A quick brownfox\n"
     ]
    }
   ],
   "source": [
    "def delete_random_character(s):\n",
    "    \"\"\"Returns s with a random character deleted\"\"\"\n",
    "    if s == \"\":\n",
    "        return s\n",
    "\n",
    "    pos = random.randint(0, len(s) - 1)\n",
    "    # print(\"Deleting\", repr(s[pos]), \"at\", pos)\n",
    "    return s[:pos] + s[pos + 1:]\n",
    "\n",
    "for i in range(10):\n",
    "    x = delete_random_character(\"A quick brown fox\")\n",
    "    print(x)"
   ]
  },
  {
   "cell_type": "code",
   "execution_count": 616,
   "metadata": {
    "button": false,
    "collapsed": false,
    "deletable": true,
    "new_sheet": false,
    "run_control": {
     "read_only": false
    }
   },
   "outputs": [
    {
     "name": "stdout",
     "output_type": "stream",
     "text": [
      "A (quick brown fox\n",
      "A quic/k brown fox\n",
      "A quick 'brown fox\n",
      "A quick: brown fox\n",
      "A quick b%rown fox\n",
      "A quick br&own fox\n",
      "A quick brown$ fox\n",
      "A quick bro)wn fox\n",
      "5A quick brown fox\n",
      "A quick br,own fox\n"
     ]
    }
   ],
   "source": [
    "def insert_random_character(s):\n",
    "    \"\"\"Returns s with a random character inserted\"\"\"\n",
    "    pos = random.randint(0, len(s))\n",
    "    random_character = chr(random.randrange(32, 64))\n",
    "    # print(\"Inserting\", repr(random_character), \"at\", pos)\n",
    "    return s[:pos] + random_character + s[pos:]\n",
    "\n",
    "for i in range(10):\n",
    "    print(insert_random_character(\"A quick brown fox\"))"
   ]
  },
  {
   "cell_type": "code",
   "execution_count": 617,
   "metadata": {
    "button": false,
    "collapsed": false,
    "deletable": true,
    "new_sheet": false,
    "run_control": {
     "read_only": false
    }
   },
   "outputs": [
    {
     "name": "stdout",
     "output_type": "stream",
     "text": [
      "A quick bvown fox\n",
      "A quick brown fkx\n",
      "A qUick brown fox\n",
      "A quisk brown fox\n",
      "A\u0000quick brown fox\n",
      "A quick brgwn fox\n",
      "A quick brown vox\n",
      "@ quick brown fox\n",
      "A quick brmwn fox\n",
      "A quick brown fkx\n"
     ]
    }
   ],
   "source": [
    "def flip_random_character(s):\n",
    "    \"\"\"Returns s with a random bit flipped in a random position\"\"\"\n",
    "    if s == \"\":\n",
    "        return s\n",
    "\n",
    "    pos = random.randint(0, len(s) - 1)\n",
    "    c = s[pos]\n",
    "    bit = 1 << random.randint(0, 6)\n",
    "    new_c = chr(ord(c) ^ bit)\n",
    "    # print(\"Flipping\", bit, \"in\", repr(c) + \", giving\", repr(new_c))\n",
    "    return s[:pos] + new_c + s[pos + 1:]\n",
    "\n",
    "for i in range(10):\n",
    "    print(flip_random_character(\"A quick brown fox\"))"
   ]
  },
  {
   "cell_type": "markdown",
   "metadata": {
    "button": false,
    "deletable": true,
    "new_sheet": false,
    "run_control": {
     "read_only": false
    }
   },
   "source": [
    "Let us now create a random mutator that randomly chooses which mutation to apply:"
   ]
  },
  {
   "cell_type": "code",
   "execution_count": 618,
   "metadata": {
    "button": false,
    "collapsed": false,
    "deletable": true,
    "new_sheet": false,
    "run_control": {
     "read_only": false
    }
   },
   "outputs": [
    {
     "name": "stdout",
     "output_type": "stream",
     "text": [
      "A quick brown fx\n",
      "A quick browo fox\n",
      "A quik brown fox\n",
      "Q quick brown fox\n",
      "A quck brown fox\n",
      "A quick 3brown fox\n",
      "A$ quick brown fox\n",
      "A quik brown fox\n",
      "A quick brown fo,x\n",
      "A quick brownfox\n"
     ]
    }
   ],
   "source": [
    "mutators = [delete_random_character, insert_random_character, flip_random_character]\n",
    "\n",
    "def mutate(s):\n",
    "    \"\"\"Return s with a random mutation applied\"\"\"\n",
    "    mutator = random.choice(mutators)\n",
    "    # print(mutator)\n",
    "    return mutator(s)\n",
    "\n",
    "\n",
    "for i in range(10):\n",
    "    print(mutate(\"A quick brown fox\"))"
   ]
  },
  {
   "cell_type": "markdown",
   "metadata": {
    "button": false,
    "deletable": true,
    "new_sheet": false,
    "run_control": {
     "read_only": false
    }
   },
   "source": [
    "Let us now apply the `mutate()` function on a Python expression and see how many valid inputs we obtain."
   ]
  },
  {
   "cell_type": "code",
   "execution_count": 619,
   "metadata": {
    "button": false,
    "collapsed": false,
    "deletable": true,
    "new_sheet": false,
    "run_control": {
     "read_only": false
    }
   },
   "outputs": [],
   "source": [
    "seed_input = \"1 + 2 * 3 / 4\"\n",
    "valid_inputs = set()\n",
    "TRIALS = 1000\n",
    "\n",
    "for i in range(TRIALS):\n",
    "    input = mutate(seed_input)\n",
    "    if is_valid_expr(input):\n",
    "        valid_inputs.add(input)"
   ]
  },
  {
   "cell_type": "markdown",
   "metadata": {
    "button": false,
    "deletable": true,
    "new_sheet": false,
    "run_control": {
     "read_only": false
    }
   },
   "source": [
    "The first thing we observe is that the number of valid inputs is now much higher.  We are still far away from 100% valid inputs, but this is an improvement:"
   ]
  },
  {
   "cell_type": "code",
   "execution_count": 620,
   "metadata": {
    "button": false,
    "collapsed": false,
    "deletable": true,
    "new_sheet": false,
    "run_control": {
     "read_only": false
    }
   },
   "outputs": [
    {
     "data": {
      "text/plain": [
       "0.097"
      ]
     },
     "execution_count": 620,
     "metadata": {},
     "output_type": "execute_result"
    }
   ],
   "source": [
    "len(valid_inputs) / TRIALS"
   ]
  },
  {
   "cell_type": "markdown",
   "metadata": {
    "button": false,
    "deletable": true,
    "new_sheet": false,
    "run_control": {
     "read_only": false
    }
   },
   "source": [
    "Most important, though, is that the valid inputs now cover many more Python expression features – additional operands, identifiers, and more:"
   ]
  },
  {
   "cell_type": "code",
   "execution_count": 621,
   "metadata": {
    "button": false,
    "collapsed": false,
    "deletable": true,
    "new_sheet": false,
    "run_control": {
     "read_only": false
    }
   },
   "outputs": [
    {
     "name": "stdout",
     "output_type": "stream",
     "text": [
      "{'15 + 2 * 3 / 4', '1 + 2 *  3 / 4', '1 + 2 * 3 / 0', '9 + 2 * 3 / 4', '1 + r * 3 / 4', '1+ + 2 * 3 / 4', '0 + 2 * 3 / 4', '1 + 2 * 3 / 6', '1 + 2 * 83 / 4', '19 + 2 * 3 / 4', '1 + 3 * 3 / 4', '1 + 2 * 3 / 24', '1 + 2 * 3 / 5', '-1 + 2 * 3 / 4', ' 1 + 2 * 3 / 4', '1 + 2 * 3 / 45', '1 + 2 * 3 / 49', '1 + 2 * 30 / 4', '1 + 2 * 3/ 4', '1 + 2 * 38 / 4', '1 + 2 * 3 /  4', '1 / 2 * 3 / 4', '1 + 2 * 2 / 4', '1 =+ 2 * 3 / 4', '1 + 2 * 7 / 4', '10+ 2 * 3 / 4', '1 + 2 * 36 / 4', '1 *+ 2 * 3 / 4', '1 + 0 * 3 / 4', '1 + 2 * s / 4', '1 + 2 * 35 / 4', '1 + 2 * 3 / 94', '1 + 2 * 3 /4', '1 + 24 * 3 / 4', '1 + 2 *3 / 4', '1 + 2 * +3 / 4', '1 + 2 * 1 / 4', '1 + 2 * 3  / 4', '1 + 2 + 3 / 4', '1 * 2 * 3 / 4', '1 + 2 * 33 / 4', '14 + 2 * 3 / 4', '3 + 2 * 3 / 4', '1 + 20 * 3 / 4', '1 + 2 * 3 + 4', '91 + 2 * 3 / 4', '1 ,+ 2 * 3 / 4', '1 + 2 * 93 / 4', ' + 2 * 3 / 4', '1. + 2 * 3 / 4', '1 + 2  * 3 / 4', '1 + 2 * 3 - 4', '1 + 2 * 3 // 4', '16 + 2 * 3 / 4', 'q + 2 * 3 / 4', '1 + 2 * 3 / 4,', '1 + 72 * 3 / 4', '81 + 2 * 3 / 4', '1 + 2 * 30/ 4', '1  + 2 * 3 / 4', '1 + 2 *+ 3 / 4', '5 + 2 * 3 / 4', '1 + 2 * 3 / 47', '1 + 2 ** 3 / 4', '1 +  2 * 3 / 4', '61 + 2 * 3 / 4', '1* + 2 * 3 / 4', '1 + 2* 3 / 4', '1 + 2 * 43 / 4', '31 + 2 * 3 / 4', '*1 + 2 * 3 / 4', '1 + 28 * 3 / 4', '1 + 2 * 3 / t', '1 + 2 * 3 / 14', '1 + 2 * 3 / 74', '1 + 32 * 3 / 4', '1 + 2 * 23 / 4', '1 + 2 * 3 / 43', '1 + 2 * 3 / 46', '1 + 2 * 3 / 4 ', '+1 + 2 * 3 / 4', '1 ++ 2 * 3 / 4', '1/ + 2 * 3 / 4', '1= + 2 * 3 / 4', '1% + 2 * 3 / 4', '1 + 12 * 3 / 4', '1> + 2 * 3 / 4', '1 + 2. * 3 / 4', '1 + 2 * 3 /+ 4', '1 + 6 * 3 / 4', '1+ 2 * 3 / 4', '1 +2 * 3 / 4', '11 + 2 * 3 / 4', '1 + 20* 3 / 4', '1 + 23 * 3 / 4', '1 + 2 * 3 / 42', '1 + 2 * 3 / 40'}\n"
     ]
    }
   ],
   "source": [
    "print(valid_inputs)"
   ]
  },
  {
   "cell_type": "markdown",
   "metadata": {
    "run_control": {}
   },
   "source": [
    "## Guided Mutations\n",
    "\n",
    "So far, we have only applied one single mutation on a sample string.  However, we can also apply _multiple_ mutations, further changing it.  What happens, for instance, if we apply, say, 20 mutations on our sample string?"
   ]
  },
  {
   "cell_type": "code",
   "execution_count": 622,
   "metadata": {
    "collapsed": false,
    "run_control": {},
    "scrolled": true
   },
   "outputs": [
    {
     "name": "stdout",
     "output_type": "stream",
     "text": [
      "'1 +\"2 * 3 / 4'\n",
      "'1 +\"2 * 3 :/ 4'\n",
      "'1 +\"2 * 3:/ 4'\n",
      "'1 +\"2 * 3:-/ 4'\n",
      "'1 +\"2 * 2:-/ 4'\n",
      "'1 +\"2 * 2:-/4'\n",
      "'1 +\"2 * 2-/4'\n",
      "'1 +\"2 * \\x12-/4'\n",
      "'1 +\"2 * \\x12-?/4'\n",
      "'1 +\"2 * \\x12-7/4'\n",
      "'1 +\"2 * \\x12\\r7/4'\n",
      "'1 +\"+2 * \\x12\\r7/4'\n",
      "'1 )\"+2 * \\x12\\r7/4'\n",
      "'1 )\"+2 * 5\\x12\\r7/4'\n",
      "'1 )\"+2 \\'* 5\\x12\\r7/4'\n",
      "'1 )\"+2 \\'* %\\x12\\r7/4'\n",
      "'1 )\"+2 \\'*%\\x12\\r7/4'\n",
      "'1 )\"+2 \\'*%\\x12\\r71/4'\n",
      "'1 )\"+2 \\'*%\\x12\\r\\'1/4'\n",
      "'1 )\"+2!\\'*%\\x12\\r\\'1/4'\n"
     ]
    }
   ],
   "source": [
    "seed_input = \"1 + 2 * 3 / 4\"\n",
    "MUTATIONS = 20\n",
    "\n",
    "input = seed_input\n",
    "for i in range(MUTATIONS):\n",
    "    input = mutate(input)\n",
    "    print(repr(input))"
   ]
  },
  {
   "cell_type": "markdown",
   "metadata": {
    "run_control": {}
   },
   "source": [
    "As you see, the original seed input is hardly recognizable anymore.  Mutating the input again and again has the advantage of getting a higher variety in the input, but on the other hand further increases the risk of having an invalid input."
   ]
  },
  {
   "cell_type": "markdown",
   "metadata": {
    "run_control": {}
   },
   "source": [
    "The key to success lies in the idea of _guiding_ these mutations – that is, keeping those that are especially valuable.  For instance, we may want to keep those samples that happen to be _valid_, and keep on mutating these.  To this end, we proceed as follows:\n",
    "\n",
    "1. We keep a population of seen valid inputs `population`, initialized with the seed input.\n",
    "2. We pick a random (valid) candidate from this set, which we now mutate up to `MAX_MUTATIONS` times.\n",
    "3. If the candidate is valid and new, we add it to `population`.\n",
    "4. In the next iterations, the previous candidates can be chosen again as seeds.\n",
    "\n",
    "Here's the full code:"
   ]
  },
  {
   "cell_type": "code",
   "execution_count": 623,
   "metadata": {
    "collapsed": false,
    "run_control": {}
   },
   "outputs": [
    {
     "data": {
      "text/plain": [
       "['1 + 2 * 3 / 4',\n",
       " '14+ 22* 3 / 94',\n",
       " '+ 22.3 / 94',\n",
       " '1422* 3 / 94',\n",
       " '+ 292.3/ 9=4',\n",
       " '1+2 *  3 / 4',\n",
       " '1+ 2* 3 / 94',\n",
       " '1+ 2* 3 / 94',\n",
       " 'k923/ 9,4',\n",
       " '1+ 2  / 94',\n",
       " '+2+   94',\n",
       " '61+3  / 4',\n",
       " '1402* 3 /94',\n",
       " 'k9%3/92,4',\n",
       " ' + 22. / 94',\n",
       " ' 22. / 94',\n",
       " '923/ 9,6',\n",
       " 'k93/9,4',\n",
       " '3+9,',\n",
       " '+9.']"
      ]
     },
     "execution_count": 623,
     "metadata": {},
     "output_type": "execute_result"
    }
   ],
   "source": [
    "def create_candidate(population):\n",
    "    MIN_MUTATIONS = 2\n",
    "    MAX_MUTATIONS = 10\n",
    "\n",
    "    candidate = random.choice(population)\n",
    "    trials = random.randint(MIN_MUTATIONS, MAX_MUTATIONS)\n",
    "    for i in range(trials):\n",
    "        candidate = mutate(candidate)\n",
    "    return candidate\n",
    "\n",
    "def create_population(seed, size):\n",
    "    population = seed\n",
    "    while len(population) < size:\n",
    "        candidate = create_candidate(population)\n",
    "        if is_valid_expr(candidate) and candidate not in valid_inputs:\n",
    "            population.append(candidate)\n",
    "    return population\n",
    "\n",
    "seed_input = \"1 + 2 * 3 / 4\"\n",
    "POPULATION_SIZE = 20\n",
    "\n",
    "create_population(seed = [seed_input], size = POPULATION_SIZE)"
   ]
  },
  {
   "cell_type": "markdown",
   "metadata": {
    "run_control": {}
   },
   "source": [
    "As you can see, we now get an even larger variety of inputs.  If you are using the interactive notebook version of this chapter, you can toy with different settings (such as `MAX_MUTATION`) to see how they influence the outputs.  (Also see the [Exercises](#Exercises) below.)"
   ]
  },
  {
   "cell_type": "markdown",
   "metadata": {
    "run_control": {}
   },
   "source": [
    "## Maximizing Diversity\n",
    "\n",
    "A good set of tests not only consists of valid inputs, but the inputs should also be _as diverse as possible_: If you already have tested `1 + 1`, then testing for `1 + 2` or `1 + 1 + 1` is not going to cover much additional functionality, compared to, say, `15.0 / 7`.  To easily ensure a greater diversity, we can check for two features: _length_ and _input elements_.\n"
   ]
  },
  {
   "cell_type": "markdown",
   "metadata": {
    "run_control": {}
   },
   "source": [
    "### Diversity through Length\n",
    "\n",
    "A simple way to increase diversity in our setting is ro favor _longer inputs_.  The argument is simple: The longer a randomly generated input is, the higher its chances to cover several program features.  Let us define a function `evolve_population()` that \n",
    "\n",
    "1. Sorts the population in ascending order according to its _fitness_ (the length)\n",
    "2. Replaces the first element in the population by a new, fitter (longer) one\n",
    "\n",
    "This is what this looks like:"
   ]
  },
  {
   "cell_type": "code",
   "execution_count": 624,
   "metadata": {
    "collapsed": true,
    "run_control": {}
   },
   "outputs": [],
   "source": [
    "def evolve_population(population, fitness = len, steps = 100):\n",
    "    evolutions = 0\n",
    "    while evolutions < steps:\n",
    "        population.sort(key=fitness)\n",
    "        \n",
    "        candidate = create_candidate(population)\n",
    "        if is_valid_expr(candidate) and fitness(candidate) > fitness(population[0]):\n",
    "            population[0] = candidate\n",
    "            evolutions += 1\n",
    "\n",
    "    return population"
   ]
  },
  {
   "cell_type": "markdown",
   "metadata": {
    "run_control": {}
   },
   "source": [
    "Let us try out `evolve_population()` with a sample population in which one element `25` is the shortest and thus would be replaced by a new, longer element:"
   ]
  },
  {
   "cell_type": "code",
   "execution_count": 625,
   "metadata": {
    "collapsed": false,
    "run_control": {}
   },
   "outputs": [
    {
     "data": {
      "text/plain": [
       "[' +9* 1', '1 + 1', '1 + 1 + 1']"
      ]
     },
     "execution_count": 625,
     "metadata": {},
     "output_type": "execute_result"
    }
   ],
   "source": [
    "evolve_population(population = ['1 + 1', '1 + 1 + 1', '25'], steps = 1)"
   ]
  },
  {
   "cell_type": "markdown",
   "metadata": {
    "run_control": {}
   },
   "source": [
    "We can now use this to evolve a population over several iterations.  We can see that the strings get longer and longer:"
   ]
  },
  {
   "cell_type": "code",
   "execution_count": 626,
   "metadata": {
    "collapsed": false,
    "run_control": {}
   },
   "outputs": [
    {
     "data": {
      "text/plain": [
       "['q&6<<642> + 251=73,+21/ 32=6',\n",
       " 'q&6+62+ 217720/  7925',\n",
       " 'q&6+62+ 2177,+20/ 725',\n",
       " 'p%4>6=9+55 +8* 863, 1',\n",
       " '9%4>6=9+5 +8* 86>3, -1',\n",
       " 'q&6<62>+ 2173,+2/ 72=6',\n",
       " 'q&8+692+ 3157>0/ 792.5',\n",
       " 'a&+6.92+ 21-5760/ 7925',\n",
       " 'p4144>6==+57 +8* 83- 1',\n",
       " 'q&8+692+ 215760/  7925',\n",
       " 'q&262+ 2173,+20/ 7/256',\n",
       " 'q&8+6.9+ 21-55760/ 7925',\n",
       " 'q&262+ 2173,k30/ 17/256',\n",
       " 'q&8+6.92+ 21-5760/ 7925',\n",
       " 'p%t>6 ==0+55 +8*+ 83- 3',\n",
       " 'p%4>6 ==+55 +8*+ 83- 31',\n",
       " 'q&6590=-36+ 27.220/ 725',\n",
       " 'q&6<<62>+ 25173,+2/ 72=6',\n",
       " 'q&22762+ 2173,k30/ 17/2.6',\n",
       " 'q&6<<642> + 25173,+21/ 72=6']"
      ]
     },
     "execution_count": 626,
     "metadata": {},
     "output_type": "execute_result"
    }
   ],
   "source": [
    "population = create_population(seed = [seed_input], size = POPULATION_SIZE)\n",
    "evolve_population(population)"
   ]
  },
  {
   "cell_type": "markdown",
   "metadata": {
    "run_control": {}
   },
   "source": [
    "### Diversity in Input Elements\n",
    "\n",
    "Not only do we want long inputs, but we also want diversity in input elements.  For instance, we'd like our inputs to cover as many arithmetic operations as possible: The input `1 + 2 * 3` is shorter than the input `1234567890`, yet covers more operations.  We can achieve this by defining a special fitness function that favors inputs with a large diversity in input characters."
   ]
  },
  {
   "cell_type": "code",
   "execution_count": 627,
   "metadata": {
    "collapsed": true,
    "run_control": {}
   },
   "outputs": [],
   "source": [
    "def diversity_fitness(s):\n",
    "    return len(set(s))"
   ]
  },
  {
   "cell_type": "markdown",
   "metadata": {
    "run_control": {}
   },
   "source": [
    "Here, `len(set(s))` returns the size of the set of characters in `s` – that is, the number of different characters:"
   ]
  },
  {
   "cell_type": "code",
   "execution_count": 628,
   "metadata": {
    "collapsed": false
   },
   "outputs": [
    {
     "data": {
      "text/plain": [
       "3"
      ]
     },
     "execution_count": 628,
     "metadata": {},
     "output_type": "execute_result"
    }
   ],
   "source": [
    "diversity_fitness(\"1 + 1\")"
   ]
  },
  {
   "cell_type": "markdown",
   "metadata": {
    "run_control": {}
   },
   "source": [
    "We can see that this gives us even more diverse inputs:"
   ]
  },
  {
   "cell_type": "code",
   "execution_count": 629,
   "metadata": {
    "collapsed": false,
    "run_control": {}
   },
   "outputs": [
    {
     "data": {
      "text/plain": [
       "['q&96<.864>k885!=57. -2031/36,',\n",
       " 'q&96<.40>85!=1-77 +237/356',\n",
       " 'q&9<.40>585!=1>4.*72 +27-316',\n",
       " 'q&96<64>+85=0&7 +231./s2.v',\n",
       " 'q&y6<.40>857!=15,74 *27/355',\n",
       " 'q&96<.647>+8285!=5*7. -+231/56',\n",
       " 'q&96<.40>857!=15,743 *23/356',\n",
       " 'u&96<.40>85!=157 +3/3,52',\n",
       " 'q&96<.64>+88!=53. -+67,10/36',\n",
       " 'q&92<.64>9+825!=57 -+2*31/56',\n",
       " 'q&96<.40>857!=15,74 *237/356',\n",
       " 'q&96<.64>+88!=53. -+27,18/36',\n",
       " 'q&96<.40>857!=15,7 +237/356',\n",
       " 'q&96<644>+85=0&7 +231./s2v',\n",
       " 'q&9<.40>585!=14*7 +27-316',\n",
       " 'q&96<.64>j85!=0571. -2031+53516,',\n",
       " 'q&96<.64>k88!=3. -+27,*18/36',\n",
       " 'q&96<.64>j85!=0571.  -2031/3516,',\n",
       " 'q&96<.64>j885!=0571. -2031/3516,',\n",
       " 'q&96<.64>k885!=57. -2031/356,']"
      ]
     },
     "execution_count": 629,
     "metadata": {},
     "output_type": "execute_result"
    }
   ],
   "source": [
    "evolve_population(population, fitness = diversity_fitness)"
   ]
  },
  {
   "cell_type": "markdown",
   "metadata": {
    "run_control": {}
   },
   "source": [
    "However, there's a catch: As soon as our input contains a comment (a substring starting with `#`), any characters are allowed after the `#`.  The same holds if our input contains a quoted string (`'...'` or `\"...\"`); then arbitrary characters can be added to the string.  We may thus achieve diversity in comments or strings, but not necessarily in functionality.  \n",
    "\n",
    "This, of course, is one of the central problems of software testing: How can I cover all functionality of the program under test – including all its bugs?  Fortunately, researchers and practitioners have devised a great number of solutions to address this problem; and the best of these will be covered in the subsequent chapters."
   ]
  },
  {
   "cell_type": "markdown",
   "metadata": {
    "run_control": {}
   },
   "source": [
    "## Next Steps"
   ]
  },
  {
   "cell_type": "markdown",
   "metadata": {
    "run_control": {}
   },
   "source": [
    "\n",
    "How can we sufficiently cover functionality?  Essentially, we have two options:\n",
    "\n",
    "1. Try to cover as much _implemented_ functionality as possible.  To this end, we need to access the program implementation, measure which parts would actually be reached with our inputs, and use this _coverage_ to guide our search.  We will explore this in the next chapter, which discusses [coverage](Coverage.ipynb).\n",
    "\n",
    "2. Try to cover as much _specified_ functionality as possible.  Here, we would need a specification of the input format, distinguishing between individual input elements such as (in our case) numbers, operators, comments, and strings – and attempting to cover as many of these as possible.  We will explore this as it comes to [grammar-based testing](Grammar_Testing.ipynb).\n",
    "\n",
    "Finally, the concept of a \"population\" that is systematically \"evolved\" trhough \"mutations\" will be explored in depth when discussing [search-based testing](Search_Based_Testing.ipynb).  Enjoy!\n"
   ]
  },
  {
   "cell_type": "markdown",
   "metadata": {
    "button": false,
    "collapsed": true,
    "deletable": true,
    "new_sheet": false,
    "run_control": {
     "read_only": false
    }
   },
   "source": [
    "## Exercises\n"
   ]
  },
  {
   "cell_type": "markdown",
   "metadata": {
    "run_control": {}
   },
   "source": [
    "### Exercise 1\n",
    "\n",
    "Apply the above mutation-based fuzzing technique on `bc`, using files, as in our [Introduction to Fuzzing](Basic_Fuzzing.ipynb)."
   ]
  },
  {
   "cell_type": "markdown",
   "metadata": {
    "run_control": {}
   },
   "source": [
    "### Exercise 2\n",
    "\n",
    "To achieve diversity in our set of inputs, one may also try to maximize the _difference_ between the individual inputs in the population.  Rather than sorting the population and replace the least fit individual, we could also compare all individuals against each other and pick the one that is most similar to all the others.  For instance, one could define similarity as the ratio of which characters are common in both strings:"
   ]
  },
  {
   "cell_type": "code",
   "execution_count": 630,
   "metadata": {
    "collapsed": true
   },
   "outputs": [],
   "source": [
    "def similar(s1, s2):\n",
    "    return len(set(s1) & set(s2)) / len(set(s1) | set(s2))\n",
    "\n",
    "assert similar(\"A\", \"A\") == 1.0\n",
    "assert similar(\"A\", \"B\") == 0"
   ]
  },
  {
   "cell_type": "markdown",
   "metadata": {
    "run_control": {}
   },
   "source": [
    "Here, `a & b` and `a | b` denote the intersection and union of two sets, respectively."
   ]
  },
  {
   "cell_type": "markdown",
   "metadata": {
    "run_control": {}
   },
   "source": [
    "The more the set of characters in two strings is the same, the higer the value of `similar()`:"
   ]
  },
  {
   "cell_type": "code",
   "execution_count": 631,
   "metadata": {
    "collapsed": false
   },
   "outputs": [
    {
     "data": {
      "text/plain": [
       "0.0"
      ]
     },
     "execution_count": 631,
     "metadata": {},
     "output_type": "execute_result"
    }
   ],
   "source": [
    "similar(\"Apple\", \"Microsoft\")"
   ]
  },
  {
   "cell_type": "code",
   "execution_count": 632,
   "metadata": {
    "collapsed": false,
    "run_control": {}
   },
   "outputs": [
    {
     "data": {
      "text/plain": [
       "0.23076923076923078"
      ]
     },
     "execution_count": 632,
     "metadata": {},
     "output_type": "execute_result"
    }
   ],
   "source": [
    "similar(\"Python\", \"Boa constrictor\")"
   ]
  },
  {
   "cell_type": "code",
   "execution_count": 633,
   "metadata": {
    "collapsed": false,
    "run_control": {}
   },
   "outputs": [
    {
     "data": {
      "text/plain": [
       "0.7777777777777778"
      ]
     },
     "execution_count": 633,
     "metadata": {},
     "output_type": "execute_result"
    }
   ],
   "source": [
    "similar(\"Python 2\", \"Python 3\")"
   ]
  },
  {
   "cell_type": "markdown",
   "metadata": {
    "run_control": {}
   },
   "source": [
    "When it comes to remove one element from the population, use the above `similar()` implementation to determine the one element that is most similar to all the others.  Report a typical output sample.   How expensive is your approach?"
   ]
  },
  {
   "cell_type": "markdown",
   "metadata": {
    "run_control": {}
   },
   "source": [
    "### Exercise 3\n",
    "\n",
    "Python brings an [impressive library for computing the difference between strings](https://docs.python.org/3/library/difflib.html), which we can use to measure similarity between two strings including the ordering of characters:"
   ]
  },
  {
   "cell_type": "code",
   "execution_count": 634,
   "metadata": {
    "collapsed": false,
    "run_control": {}
   },
   "outputs": [],
   "source": [
    "from difflib import SequenceMatcher\n",
    "\n",
    "def similar(s1, s2):\n",
    "    return SequenceMatcher(None, s1, s2).ratio()"
   ]
  },
  {
   "cell_type": "markdown",
   "metadata": {
    "run_control": {}
   },
   "source": [
    "Repeat [Exercise 2](#Exercise-2) with the above."
   ]
  }
 ],
 "metadata": {
  "celltoolbar": "Edit Metadata",
  "ipub": {
   "bibliography": "gstbook.bib",
   "listcode": false,
   "listfigures": false,
   "listtables": false,
   "titlepage": {
    "author": "Andreas Zeller, Rahul Gopinath, Gordon Fraser, and Christian Holler",
    "subtitle": "Generating Software Tests",
    "title": "Fuzzing"
   },
   "toc": true
  },
  "kernelspec": {
   "display_name": "Python 3",
   "language": "python",
   "name": "python3"
  },
  "language_info": {
   "codemirror_mode": {
    "name": "ipython",
    "version": 3
   },
   "file_extension": ".py",
   "mimetype": "text/x-python",
   "name": "python",
   "nbconvert_exporter": "python",
   "pygments_lexer": "ipython3",
   "version": "3.5.0"
  },
  "toc": {
   "base_numbering": 1,
   "nav_menu": {},
   "number_sections": true,
   "sideBar": true,
   "skip_h1_title": true,
   "title_cell": "",
   "title_sidebar": "Contents",
   "toc_cell": false,
   "toc_position": {},
   "toc_section_display": true,
   "toc_window_display": true
  }
 },
 "nbformat": 4,
 "nbformat_minor": 2
}
