{
 "cells": [
  {
   "cell_type": "markdown",
   "metadata": {
    "button": false,
    "deletable": true,
    "new_sheet": false,
    "run_control": {
     "read_only": false
    }
   },
   "source": [
    "# Mutation-Based Fuzzing\n",
    "\n",
    "Most [randomly generated inputs](Basic_Fuzzing.ipynb) are syntactically _invalid_ and thus are quickly rejected by the processing program.  To exercise functionality beyond input processing, we must increase chances to obtain valid inputs.  One such way is by _mutating_ existing valid inputs - that is, introducing small changes that may still keep the input valid, yet exercise new behavior."
   ]
  },
  {
   "cell_type": "markdown",
   "metadata": {
    "button": false,
    "deletable": true,
    "new_sheet": false,
    "run_control": {
     "read_only": false
    }
   },
   "source": [
    "**Prerequisites**\n",
    "\n",
    "* You should know how basic fuzzing works; for instance, from the [\"Fuzzing\"](Basic_Fuzzing.ipynb) chapter."
   ]
  },
  {
   "cell_type": "markdown",
   "metadata": {
    "button": false,
    "deletable": true,
    "new_sheet": false,
    "run_control": {
     "read_only": false
    }
   },
   "source": [
    "## Fuzzing a URL Parser\n",
    "\n",
    "Many programs expect their inputs to come in a very specific format before they would actually process them.  As an example, think of a program that accepts a URL (a Web address).  The URL has to be in a valid format (i.e., the URL format) such that the program can deal with it.  When fuzzing with random inputs, what are our chances to actually produce a valid URL?\n",
    "\n",
    "To get deeper into the problem, let us explore what URLs are made of.  A URL consists of a number of elements:\n",
    "\n",
    "    scheme://netloc/path?query#fragment\n",
    "    \n",
    "where\n",
    "* `scheme` is the protocol to be used, including `http`, `https`, `ftp`, `file`...\n",
    "* `netloc` is the name of the host to connect to, such as `www.google.com`\n",
    "* `path` is the path on that very host, such as `search`\n",
    "* `query` is a list of key/value pairs, such as `q=fuzzing`\n",
    "* `fragment` is a marker for a location in the retrieved document, such as `#result`\n",
    "\n",
    "In Python, we can use the `urlparse()` function to parse and decompose a URL into its parts."
   ]
  },
  {
   "cell_type": "code",
   "execution_count": 75,
   "metadata": {
    "button": false,
    "collapsed": true,
    "deletable": true,
    "new_sheet": false,
    "run_control": {
     "read_only": false
    }
   },
   "outputs": [],
   "source": [
    "import gstbook"
   ]
  },
  {
   "cell_type": "code",
   "execution_count": 76,
   "metadata": {
    "button": false,
    "collapsed": false,
    "deletable": true,
    "new_sheet": false,
    "run_control": {
     "read_only": false
    }
   },
   "outputs": [
    {
     "data": {
      "text/plain": [
       "ParseResult(scheme='http', netloc='www.google.com', path='/search', params='', query='q=fuzzing', fragment='')"
      ]
     },
     "execution_count": 76,
     "metadata": {},
     "output_type": "execute_result"
    }
   ],
   "source": [
    "try:\n",
    "    from urlparse import urlparse      # Python 2\n",
    "except ImportError:\n",
    "    from urllib.parse import urlparse  # Python 3\n",
    "\n",
    "urlparse(\"http://www.google.com/search?q=fuzzing\")"
   ]
  },
  {
   "cell_type": "markdown",
   "metadata": {
    "button": false,
    "deletable": true,
    "new_sheet": false,
    "run_control": {
     "read_only": false
    }
   },
   "source": [
    "We see how the result encodes the individual parts of the URL in different attributes."
   ]
  },
  {
   "cell_type": "markdown",
   "metadata": {
    "button": false,
    "deletable": true,
    "new_sheet": false,
    "run_control": {
     "read_only": false
    }
   },
   "source": [
    "Let us now assume we have a program that takes a URL as input.  To simplify things, we won't let it do very much; we simply have it check the passed URL for validity.  If the URL is valid, it returns True; otherwise, it raises an exception."
   ]
  },
  {
   "cell_type": "code",
   "execution_count": 77,
   "metadata": {
    "button": false,
    "collapsed": true,
    "deletable": true,
    "new_sheet": false,
    "run_control": {
     "read_only": false
    }
   },
   "outputs": [],
   "source": [
    "def http_program(url):\n",
    "    supported_schemes = [\"http\", \"https\"]\n",
    "    result = urlparse(url)\n",
    "    if result.scheme not in supported_schemes:\n",
    "        raise ValueError(\"Scheme must be one of \" + repr(supported_schemes))\n",
    "    if result.netloc == '':\n",
    "        raise ValueError(\"Host must be non-empty\")\n",
    "    \n",
    "    # Do something with the URL\n",
    "    return True"
   ]
  },
  {
   "cell_type": "markdown",
   "metadata": {
    "button": false,
    "deletable": true,
    "new_sheet": false,
    "run_control": {
     "read_only": false
    }
   },
   "source": [
    "Let us now go and fuzz `http_program()`.  To fuzz, we use the full range of printable ASCII characters, such that `:`, `/`, and lowercase letters are included."
   ]
  },
  {
   "cell_type": "code",
   "execution_count": 78,
   "metadata": {
    "button": false,
    "collapsed": true,
    "deletable": true,
    "new_sheet": false,
    "run_control": {
     "read_only": false
    }
   },
   "outputs": [],
   "source": [
    "%%capture\n",
    "from Basic_Fuzzing import fuzzer"
   ]
  },
  {
   "cell_type": "code",
   "execution_count": 79,
   "metadata": {
    "button": false,
    "collapsed": false,
    "deletable": true,
    "new_sheet": false,
    "run_control": {
     "read_only": false
    }
   },
   "outputs": [
    {
     "data": {
      "text/plain": [
       "'[{ofU#Y<)D-b2KgTnO;) '"
      ]
     },
     "execution_count": 79,
     "metadata": {},
     "output_type": "execute_result"
    }
   ],
   "source": [
    "fuzzer(char_start=32, char_range=96)"
   ]
  },
  {
   "cell_type": "markdown",
   "metadata": {
    "button": false,
    "deletable": true,
    "new_sheet": false,
    "run_control": {
     "read_only": false
    }
   },
   "source": [
    "Let's try to fuzz with 1000 random inputs and see whether we have some success."
   ]
  },
  {
   "cell_type": "code",
   "execution_count": 80,
   "metadata": {
    "button": false,
    "collapsed": false,
    "deletable": true,
    "new_sheet": false,
    "run_control": {
     "read_only": false
    }
   },
   "outputs": [],
   "source": [
    "for i in range(1000):\n",
    "    try:\n",
    "        url = fuzzer()\n",
    "        result = http_program(url)\n",
    "        print(\"Success!\")\n",
    "    except ValueError:\n",
    "        pass"
   ]
  },
  {
   "cell_type": "markdown",
   "metadata": {
    "button": false,
    "deletable": true,
    "new_sheet": false,
    "run_control": {
     "read_only": false
    }
   },
   "source": [
    "What are the chances of actually getting a valid URL?  We need our string to start with `\"http://\"` or `\"https://\"`.  Let's take the `\"http://\"` case first.  That's seven very specific characters we need to start with.  The chances of producing these seven characters randomly (with a character range of 96 different characters) is $1 : 96^7$, or"
   ]
  },
  {
   "cell_type": "code",
   "execution_count": 81,
   "metadata": {
    "button": false,
    "collapsed": false,
    "deletable": true,
    "new_sheet": false,
    "run_control": {
     "read_only": false
    }
   },
   "outputs": [
    {
     "data": {
      "text/plain": [
       "75144747810816"
      ]
     },
     "execution_count": 81,
     "metadata": {},
     "output_type": "execute_result"
    }
   ],
   "source": [
    "96 ** 7"
   ]
  },
  {
   "cell_type": "markdown",
   "metadata": {
    "button": false,
    "deletable": true,
    "new_sheet": false,
    "run_control": {
     "read_only": false
    }
   },
   "source": [
    "The odds of producing a `\"https://\"` prefix are even worse, at $1 : 96^8$:"
   ]
  },
  {
   "cell_type": "code",
   "execution_count": 82,
   "metadata": {
    "button": false,
    "collapsed": false,
    "deletable": true,
    "new_sheet": false,
    "run_control": {
     "read_only": false
    }
   },
   "outputs": [
    {
     "data": {
      "text/plain": [
       "7213895789838336"
      ]
     },
     "execution_count": 82,
     "metadata": {},
     "output_type": "execute_result"
    }
   ],
   "source": [
    "96 ** 8"
   ]
  },
  {
   "cell_type": "markdown",
   "metadata": {
    "button": false,
    "deletable": true,
    "new_sheet": false,
    "run_control": {
     "read_only": false
    }
   },
   "source": [
    "which gives us a total chance of"
   ]
  },
  {
   "cell_type": "code",
   "execution_count": 83,
   "metadata": {
    "button": false,
    "collapsed": false,
    "deletable": true,
    "new_sheet": false,
    "run_control": {
     "read_only": false
    }
   },
   "outputs": [
    {
     "data": {
      "text/plain": [
       "1.344627131107667e-14"
      ]
     },
     "execution_count": 83,
     "metadata": {},
     "output_type": "execute_result"
    }
   ],
   "source": [
    "likelihood = 1 / (96 ** 7) + 1 / (96 ** 8)\n",
    "likelihood"
   ]
  },
  {
   "cell_type": "markdown",
   "metadata": {
    "button": false,
    "deletable": true,
    "new_sheet": false,
    "run_control": {
     "read_only": false
    }
   },
   "source": [
    "And this is the number of runs (on average) we'd need to produce a valid URL:"
   ]
  },
  {
   "cell_type": "code",
   "execution_count": 84,
   "metadata": {
    "button": false,
    "collapsed": false,
    "deletable": true,
    "new_sheet": false,
    "run_control": {
     "read_only": false
    }
   },
   "outputs": [
    {
     "data": {
      "text/plain": [
       "74370059689055.02"
      ]
     },
     "execution_count": 84,
     "metadata": {},
     "output_type": "execute_result"
    }
   ],
   "source": [
    "1 / likelihood"
   ]
  },
  {
   "cell_type": "markdown",
   "metadata": {
    "button": false,
    "deletable": true,
    "new_sheet": false,
    "run_control": {
     "read_only": false
    }
   },
   "source": [
    "Let's measure how long one run of `http_program()` takes:"
   ]
  },
  {
   "cell_type": "code",
   "execution_count": 87,
   "metadata": {
    "collapsed": true
   },
   "outputs": [],
   "source": [
    "%%capture\n",
    "from Timer import Timer"
   ]
  },
  {
   "cell_type": "code",
   "execution_count": 88,
   "metadata": {
    "button": false,
    "collapsed": false,
    "deletable": true,
    "new_sheet": false,
    "run_control": {
     "read_only": false
    }
   },
   "outputs": [
    {
     "data": {
      "text/plain": [
       "0.00012160542001947761"
      ]
     },
     "execution_count": 88,
     "metadata": {},
     "output_type": "execute_result"
    }
   ],
   "source": [
    "\n",
    "TRIALS = 1000\n",
    "with Timer() as t:\n",
    "    for i in range(TRIALS):\n",
    "        try:\n",
    "            url = fuzzer()\n",
    "            result = http_program(url)\n",
    "            print(\"Success!\")\n",
    "        except ValueError:\n",
    "            pass\n",
    "\n",
    "duration_per_run_in_seconds = t.elapsed_time() / TRIALS\n",
    "duration_per_run_in_seconds"
   ]
  },
  {
   "cell_type": "markdown",
   "metadata": {
    "button": false,
    "deletable": true,
    "new_sheet": false,
    "run_control": {
     "read_only": false
    }
   },
   "source": [
    "That's pretty fast, isn't it?  Unfortunately, we have a lot of runs to cover."
   ]
  },
  {
   "cell_type": "code",
   "execution_count": 89,
   "metadata": {
    "button": false,
    "collapsed": false,
    "deletable": true,
    "new_sheet": false,
    "run_control": {
     "read_only": false
    }
   },
   "outputs": [
    {
     "data": {
      "text/plain": [
       "9043802345.361156"
      ]
     },
     "execution_count": 89,
     "metadata": {},
     "output_type": "execute_result"
    }
   ],
   "source": [
    "seconds_until_success = duration_per_run_in_seconds * (1 / likelihood)\n",
    "seconds_until_success"
   ]
  },
  {
   "cell_type": "markdown",
   "metadata": {
    "button": false,
    "deletable": true,
    "new_sheet": false,
    "run_control": {
     "read_only": false
    }
   },
   "source": [
    "which translates into"
   ]
  },
  {
   "cell_type": "code",
   "execution_count": 90,
   "metadata": {
    "button": false,
    "collapsed": false,
    "deletable": true,
    "new_sheet": false,
    "run_control": {
     "read_only": false
    }
   },
   "outputs": [
    {
     "data": {
      "text/plain": [
       "286.5808028925253"
      ]
     },
     "execution_count": 90,
     "metadata": {},
     "output_type": "execute_result"
    }
   ],
   "source": [
    "hours_until_success = seconds_until_success / 3600\n",
    "days_until_success = hours_until_success / 24\n",
    "years_until_success = days_until_success / 365.25\n",
    "years_until_success"
   ]
  },
  {
   "cell_type": "markdown",
   "metadata": {
    "button": false,
    "deletable": true,
    "new_sheet": false,
    "run_control": {
     "read_only": false
    }
   },
   "source": [
    "Even if we parallelize things a lot, we're still in for months to years of waiting.  And that's for getting _one_ successful run that will get deeper into `http_program()`."
   ]
  },
  {
   "cell_type": "markdown",
   "metadata": {
    "button": false,
    "deletable": true,
    "new_sheet": false,
    "run_control": {
     "read_only": false
    }
   },
   "source": [
    "What basic fuzzing will do well is to test `urlparse()`, and if there is an error in this parsing function, it has good chances of uncovering it.  But as long as we cannot produce a valid input, we are out of luck in reaching any deeper functionality."
   ]
  },
  {
   "cell_type": "markdown",
   "metadata": {
    "button": false,
    "deletable": true,
    "new_sheet": false,
    "run_control": {
     "read_only": false
    }
   },
   "source": [
    "## Mutating Inputs\n",
    "\n",
    "The alternative to generating random strings from scratch is to start with a guiven _valid_ input, and then to subsequently _mutate_ it.  A _mutation_ in this context is a simple string manipulation - say, inserting a (random) character, deleting a character, or flipping a bit in a character representation.  Here are some mutations to get you started:"
   ]
  },
  {
   "cell_type": "code",
   "execution_count": 91,
   "metadata": {
    "button": false,
    "collapsed": true,
    "deletable": true,
    "new_sheet": false,
    "run_control": {
     "read_only": false
    }
   },
   "outputs": [],
   "source": [
    "import random"
   ]
  },
  {
   "cell_type": "code",
   "execution_count": 92,
   "metadata": {
    "button": false,
    "collapsed": false,
    "deletable": true,
    "new_sheet": false,
    "run_control": {
     "read_only": false
    }
   },
   "outputs": [],
   "source": [
    "def delete_random_character(s):\n",
    "    \"\"\"Returns s with a random character deleted\"\"\"\n",
    "    if s == \"\":\n",
    "        return s\n",
    "\n",
    "    pos = random.randint(0, len(s) - 1)\n",
    "    # print(\"Deleting\", repr(s[pos]), \"at\", pos)\n",
    "    return s[:pos] + s[pos + 1:]"
   ]
  },
  {
   "cell_type": "code",
   "execution_count": 93,
   "metadata": {
    "button": false,
    "collapsed": false,
    "deletable": true,
    "new_sheet": false,
    "run_control": {
     "read_only": false
    }
   },
   "outputs": [
    {
     "name": "stdout",
     "output_type": "stream",
     "text": [
      "A quick brow fox\n",
      "A quick brown fx\n",
      "A quik brown fox\n",
      "A quick bron fox\n",
      "A quick bron fox\n",
      "A quck brown fox\n",
      "A quickbrown fox\n",
      "A quickbrown fox\n",
      "A quick brwn fox\n",
      "A qick brown fox\n"
     ]
    }
   ],
   "source": [
    "seed_input = \"A quick brown fox\"\n",
    "for i in range(10):\n",
    "    x = delete_random_character(seed_input)\n",
    "    print(x)"
   ]
  },
  {
   "cell_type": "code",
   "execution_count": 94,
   "metadata": {
    "button": false,
    "collapsed": false,
    "deletable": true,
    "new_sheet": false,
    "run_control": {
     "read_only": false
    }
   },
   "outputs": [],
   "source": [
    "def insert_random_character(s):\n",
    "    \"\"\"Returns s with a random character inserted\"\"\"\n",
    "    pos = random.randint(0, len(s))\n",
    "    random_character = chr(random.randrange(32, 128))\n",
    "    # print(\"Inserting\", repr(random_character), \"at\", pos)\n",
    "    return s[:pos] + random_character + s[pos:]"
   ]
  },
  {
   "cell_type": "code",
   "execution_count": 95,
   "metadata": {
    "button": false,
    "collapsed": false,
    "deletable": true,
    "new_sheet": false,
    "run_control": {
     "read_only": false
    }
   },
   "outputs": [
    {
     "name": "stdout",
     "output_type": "stream",
     "text": [
      "A Fquick brown fox\n",
      "A quickM brown fox\n",
      "A Iquick brown fox\n",
      "A qutick brown fox\n",
      "A quic]k brown fox\n",
      "A Gquick brown fox\n",
      "A qui\\ck brown fox\n",
      "A quick brown tfox\n",
      "A qu&ick brown fox\n",
      "A quick brown f$ox\n"
     ]
    }
   ],
   "source": [
    "for i in range(10):\n",
    "    print(insert_random_character(seed_input))"
   ]
  },
  {
   "cell_type": "code",
   "execution_count": 96,
   "metadata": {
    "button": false,
    "collapsed": false,
    "deletable": true,
    "new_sheet": false,
    "run_control": {
     "read_only": false
    }
   },
   "outputs": [],
   "source": [
    "def flip_random_character(s):\n",
    "    \"\"\"Returns s with a random bit flipped in a random position\"\"\"\n",
    "    if s == \"\":\n",
    "        return s\n",
    "\n",
    "    pos = random.randint(0, len(s) - 1)\n",
    "    c = s[pos]\n",
    "    bit = 1 << random.randint(0, 6)\n",
    "    new_c = chr(ord(c) ^ bit)\n",
    "    # print(\"Flipping\", bit, \"in\", repr(c) + \", giving\", repr(new_c))\n",
    "    return s[:pos] + new_c + s[pos + 1:]\n"
   ]
  },
  {
   "cell_type": "code",
   "execution_count": 97,
   "metadata": {
    "button": false,
    "collapsed": false,
    "deletable": true,
    "new_sheet": false,
    "run_control": {
     "read_only": false
    }
   },
   "outputs": [
    {
     "name": "stdout",
     "output_type": "stream",
     "text": [
      "A quick bvown fox\n",
      "A suick brown fox\n",
      "A quick bzown fox\n",
      "A quick bRown fox\n",
      "A quick brown fmx\n",
      "A quick bbown fox\n",
      "A quick browN fox\n",
      "A quick brown fo|\n",
      "A!quick brown fox\n",
      "I quick brown fox\n"
     ]
    }
   ],
   "source": [
    "for i in range(10):\n",
    "    print(flip_random_character(seed_input))"
   ]
  },
  {
   "cell_type": "markdown",
   "metadata": {
    "button": false,
    "deletable": true,
    "new_sheet": false,
    "run_control": {
     "read_only": false
    }
   },
   "source": [
    "Let us now create a random mutator that randomly chooses which mutation to apply:"
   ]
  },
  {
   "cell_type": "code",
   "execution_count": 98,
   "metadata": {
    "button": false,
    "collapsed": false,
    "deletable": true,
    "new_sheet": false,
    "run_control": {
     "read_only": false
    }
   },
   "outputs": [],
   "source": [
    "mutators = [delete_random_character, insert_random_character, flip_random_character]"
   ]
  },
  {
   "cell_type": "code",
   "execution_count": 99,
   "metadata": {
    "button": false,
    "collapsed": false,
    "deletable": true,
    "new_sheet": false,
    "run_control": {
     "read_only": false
    }
   },
   "outputs": [],
   "source": [
    "def mutate(s):\n",
    "    \"\"\"Return s with a random mutation applied\"\"\"\n",
    "    mutator = random.choice(mutators)\n",
    "    # print(mutator)\n",
    "    return mutator(s)"
   ]
  },
  {
   "cell_type": "code",
   "execution_count": 100,
   "metadata": {
    "button": false,
    "collapsed": false,
    "deletable": true,
    "new_sheet": false,
    "run_control": {
     "read_only": false
    }
   },
   "outputs": [
    {
     "name": "stdout",
     "output_type": "stream",
     "text": [
      "E quick brown fox\n",
      "A quick ;brown fox\n",
      "A quick bown fox\n",
      "A quic brown fox\n",
      "A quick brown foxN\n",
      "A quibk brown fox\n",
      "A yuick brown fox\n",
      "A quickb brown fox\n",
      "A quick rown fox\n",
      "A quick bro\"wn fox\n"
     ]
    }
   ],
   "source": [
    "for i in range(10):\n",
    "    print(mutate(\"A quick brown fox\"))"
   ]
  },
  {
   "cell_type": "markdown",
   "metadata": {
    "button": false,
    "deletable": true,
    "new_sheet": false,
    "run_control": {
     "read_only": false
    }
   },
   "source": [
    "The idea is now that _if_ we have some valid input(s) to begin with, we may create more input candidates by applying one of the above mutations.  To see how this works, let's get back to URLs."
   ]
  },
  {
   "cell_type": "markdown",
   "metadata": {
    "button": false,
    "deletable": true,
    "new_sheet": false,
    "run_control": {
     "read_only": false
    }
   },
   "source": [
    "## Mutating URLs"
   ]
  },
  {
   "cell_type": "markdown",
   "metadata": {
    "button": false,
    "deletable": true,
    "new_sheet": false,
    "run_control": {
     "read_only": false
    }
   },
   "source": [
    "Let us now get back to our URL parsing problem.  Let us create a function `is_valid_url()` that checks whether `http_program()` accepts the input."
   ]
  },
  {
   "cell_type": "code",
   "execution_count": 101,
   "metadata": {
    "button": false,
    "collapsed": false,
    "deletable": true,
    "new_sheet": false,
    "run_control": {
     "read_only": false
    }
   },
   "outputs": [],
   "source": [
    "def is_valid_url(url):\n",
    "    try:\n",
    "        result = http_program(url)\n",
    "        return True\n",
    "    except ValueError:\n",
    "        return False\n",
    "\n",
    "assert is_valid_url(\"http://www.google.com/search?q=fuzzing\")\n",
    "assert not is_valid_url(\"xyzzy\")"
   ]
  },
  {
   "cell_type": "markdown",
   "metadata": {
    "button": false,
    "deletable": true,
    "new_sheet": false,
    "run_control": {
     "read_only": false
    }
   },
   "source": [
    "Let us now apply the `mutate()` function on a given URL and see how many valid inputs we obtain."
   ]
  },
  {
   "cell_type": "code",
   "execution_count": 102,
   "metadata": {
    "button": false,
    "collapsed": false,
    "deletable": true,
    "new_sheet": false,
    "run_control": {
     "read_only": false
    }
   },
   "outputs": [],
   "source": [
    "seed_input = \"http://www.google.com/search?q=fuzzing\"\n",
    "valid_inputs = set()\n",
    "TRIALS = 20\n",
    "\n",
    "for i in range(TRIALS):\n",
    "    inp = mutate(seed_input)\n",
    "    if is_valid_url(inp):\n",
    "        valid_inputs.add(inp)"
   ]
  },
  {
   "cell_type": "markdown",
   "metadata": {
    "button": false,
    "deletable": true,
    "new_sheet": false,
    "run_control": {
     "read_only": false
    }
   },
   "source": [
    "We can now observe that by _mutating_ the original input, we get a high proportion of valid inputs:"
   ]
  },
  {
   "cell_type": "code",
   "execution_count": 103,
   "metadata": {
    "button": false,
    "collapsed": false,
    "deletable": true,
    "new_sheet": false,
    "run_control": {
     "read_only": false
    }
   },
   "outputs": [
    {
     "data": {
      "text/plain": [
       "0.9"
      ]
     },
     "execution_count": 103,
     "metadata": {},
     "output_type": "execute_result"
    }
   ],
   "source": [
    "len(valid_inputs) / TRIALS"
   ]
  },
  {
   "cell_type": "markdown",
   "metadata": {
    "button": false,
    "deletable": true,
    "new_sheet": false,
    "run_control": {
     "read_only": false
    }
   },
   "source": [
    "What are the odds of also producing a `https:` prefix by mutating a `http:` sample seed input?  We have to insert ($1 : 3$) the right character `'s'` ($1 : 96$) into the correct position ($1 : l$), where $l$ is the length of our seed input.  This means that on average, we need this many runs:"
   ]
  },
  {
   "cell_type": "code",
   "execution_count": 104,
   "metadata": {
    "button": false,
    "collapsed": false,
    "deletable": true,
    "new_sheet": false,
    "run_control": {
     "read_only": false
    }
   },
   "outputs": [
    {
     "data": {
      "text/plain": [
       "10944"
      ]
     },
     "execution_count": 104,
     "metadata": {},
     "output_type": "execute_result"
    }
   ],
   "source": [
    "trials = 3 * 96 * len(seed_input)\n",
    "trials"
   ]
  },
  {
   "cell_type": "markdown",
   "metadata": {
    "button": false,
    "deletable": true,
    "new_sheet": false,
    "run_control": {
     "read_only": false
    }
   },
   "source": [
    "We can actually afford this.  Let's try:"
   ]
  },
  {
   "cell_type": "code",
   "execution_count": 105,
   "metadata": {
    "button": false,
    "collapsed": false,
    "deletable": true,
    "new_sheet": false,
    "run_control": {
     "read_only": false
    }
   },
   "outputs": [
    {
     "name": "stdout",
     "output_type": "stream",
     "text": [
      "Success after 10107 trials in 0.057416556985117495 seconds\n"
     ]
    }
   ],
   "source": [
    "start_time = clock()\n",
    "trials = 0\n",
    "while True:\n",
    "    trials += 1\n",
    "    inp = mutate(seed_input)\n",
    "    if inp.startswith(\"https://\"):\n",
    "        print(\"Success after\", trials, \"trials in\", clock() - start_time, \"seconds\")\n",
    "        break"
   ]
  },
  {
   "cell_type": "markdown",
   "metadata": {
    "button": false,
    "deletable": true,
    "new_sheet": false,
    "run_control": {
     "read_only": false
    }
   },
   "source": [
    "Of course, if we wanted to get, say, an `\"ftp://\"` prefix, we would need more mutations and more runs – most important, though, we would need to apply _multiple_ mutations.  This raises the question on whether we can _guide_ these mutations in some way; and this is what we will explore in the next chapter on [\"Guided Mutations\"](Guided_Mutations.ipynb)."
   ]
  },
  {
   "cell_type": "markdown",
   "metadata": {
    "button": false,
    "deletable": true,
    "new_sheet": false,
    "run_control": {
     "read_only": false
    }
   },
   "source": [
    "## Multiple Mutations\n",
    "\n",
    "So far, we have only applied one single mutation on a sample string.  However, we can also apply _multiple_ mutations, further changing it.  What happens, for instance, if we apply, say, 20 mutations on our sample string?"
   ]
  },
  {
   "cell_type": "code",
   "execution_count": 106,
   "metadata": {
    "button": false,
    "collapsed": true,
    "deletable": true,
    "new_sheet": false,
    "run_control": {
     "read_only": false
    }
   },
   "outputs": [],
   "source": [
    "seed_input = \"http://www.google.com/search?q=fuzzing\"\n",
    "MUTATIONS = 50"
   ]
  },
  {
   "cell_type": "code",
   "execution_count": 107,
   "metadata": {
    "button": false,
    "collapsed": false,
    "deletable": true,
    "new_sheet": false,
    "run_control": {
     "read_only": false
    },
    "scrolled": true
   },
   "outputs": [
    {
     "name": "stdout",
     "output_type": "stream",
     "text": [
      "0 mutations: 'http://www.google.com/search?q=fuzzing'\n",
      "5 mutations: 'http://ww.goPgle.com/saarcH?q=fuzzing'\n",
      "10 mutations: 'hp//ww.goPgle.c//saarcH?q=fuzzing'\n",
      "15 mutations: 'hp//wv.goP+gle.//saar{cH?q=fuzzin*g'\n",
      "20 mutations: 'hp=/1/wv.goP+gle.//saar{H?1=fuzzn*g'\n",
      "25 mutations: 'hp=/0/wv.goP+wle.}/+saar{H?1=fuzzng'\n",
      "30 mutations: 'hp\\x0f0D/wv.goP+wle.^}/+saar{8H?1=fuzzng'\n",
      "35 mutations: 'hp\\x0fD6/wv.goP+wlef.^}/+saAr{8H?1=fuzzno'\n",
      "40 mutations: 'hpD&/wv.goP+wlef.}/+saAr{8H?1=fuzno'\n",
      "45 mutations: 'hp&/wv.goP+lef.}/+saAr{8H?1f!uzn'\n"
     ]
    }
   ],
   "source": [
    "inp = seed_input\n",
    "for i in range(MUTATIONS):\n",
    "    if i % 5 == 0:\n",
    "        print(i, \"mutations:\", repr(inp))\n",
    "    inp = mutate(inp)"
   ]
  },
  {
   "cell_type": "markdown",
   "metadata": {
    "button": false,
    "deletable": true,
    "new_sheet": false,
    "run_control": {
     "read_only": false
    }
   },
   "source": [
    "As you see, the original seed input is hardly recognizable anymore.  Mutating the input again and again has the advantage of getting a higher variety in the input, but on the other hand further increases the risk of having an invalid input.  The key to success lies in the idea of _guiding_ these mutations – that is, _keeping those that are especially valuable._"
   ]
  },
  {
   "cell_type": "markdown",
   "metadata": {
    "button": false,
    "deletable": true,
    "new_sheet": false,
    "run_control": {
     "read_only": false
    }
   },
   "source": [
    "## Guiding by Coverage\n",
    "\n",
    "To cover as much functionality as possible, one can rely on either _specified_ or _implemented_ functionality, as discussed in the [\"Coverage\"](Coverage.ipynb) chapter.  For now, we will not assume that there is a specification of program behavior (although it _definitely_ would be good to have one!).  We _will_ assume, though, that the program to be tested exists – and that we can leverage its structure to guide test generation.\n",
    "\n",
    "Since testing always executes the program at hand, one can always gather information about its execution – the least is the information needed to decide whether a test passes or fails.  Since coverage is frequently measured as well to determine test quality, let us also assume we can retrieve coverage of a test run.  The question is then: _How can we leverage coverage to guide test generation?_\n",
    "\n",
    "One particularly successful idea is implemented in the popular fuzzer named [_American fuzzy lop_](http://lcamtuf.coredump.cx/afl/), or AFL for short.  Just like our examples above, AFL evolves test cases that have been successful – but for AFL, \"success\" means _finding a new path through the program execution_.  This way, AFL can keep on mutating inputs that so far have found new paths; and if an input finds another path, it will be retained as well.\n",
    "\n",
    "We can implement such a strategy by maximizing _diversity in coverage_ in our population.\n",
    "\n"
   ]
  },
  {
   "cell_type": "code",
   "execution_count": 108,
   "metadata": {
    "button": false,
    "collapsed": false,
    "deletable": true,
    "new_sheet": false,
    "run_control": {
     "read_only": false
    }
   },
   "outputs": [],
   "source": [
    "%%capture\n",
    "from Coverage import Coverage, cgi_decode, population_coverage"
   ]
  },
  {
   "cell_type": "code",
   "execution_count": 109,
   "metadata": {
    "button": false,
    "collapsed": true,
    "deletable": true,
    "new_sheet": false,
    "run_control": {
     "read_only": false
    }
   },
   "outputs": [],
   "source": [
    "def create_candidate(population):\n",
    "    MIN_MUTATIONS = 2\n",
    "    MAX_MUTATIONS = 10\n",
    "\n",
    "    candidate = random.choice(population)\n",
    "    trials = random.randint(MIN_MUTATIONS, MAX_MUTATIONS)\n",
    "    for i in range(trials):\n",
    "        candidate = mutate(candidate)\n",
    "    return candidate"
   ]
  },
  {
   "cell_type": "code",
   "execution_count": 110,
   "metadata": {
    "button": false,
    "collapsed": true,
    "deletable": true,
    "new_sheet": false,
    "run_control": {
     "read_only": false
    }
   },
   "outputs": [],
   "source": [
    "def evolve_population_by_coverage(seed, trials=100):\n",
    "    population = []\n",
    "    population_coverage = set()\n",
    "    \n",
    "    def evaluate_candidate(candidate):\n",
    "        nonlocal population\n",
    "        nonlocal population_coverage\n",
    "       \n",
    "        with Coverage() as cov:\n",
    "            try:\n",
    "                valid = http_program(candidate)\n",
    "            except:\n",
    "                valid = False\n",
    "            \n",
    "        # print(repr(candidate))\n",
    "\n",
    "        new_coverage = frozenset(cov.coverage())\n",
    "        if valid and new_coverage not in population_coverage:\n",
    "            # We have new coverage\n",
    "            population.append(candidate)\n",
    "            population_coverage.add(new_coverage)\n",
    "\n",
    "    for candidate in seed:\n",
    "        evaluate_candidate(candidate)\n",
    "   \n",
    "    for i in range(trials):\n",
    "        candidate = create_candidate(population)\n",
    "        evaluate_candidate(candidate)\n",
    "\n",
    "    return population"
   ]
  },
  {
   "cell_type": "code",
   "execution_count": 111,
   "metadata": {
    "button": false,
    "collapsed": false,
    "deletable": true,
    "new_sheet": false,
    "run_control": {
     "read_only": false
    }
   },
   "outputs": [
    {
     "data": {
      "text/plain": [
       "['http://www.google.com/search?q=fuzzing',\n",
       " 'http://www.goog=le.com/search7q=fuzzing',\n",
       " \"http://www.gogg=le.com'search71=fuzzing\",\n",
       " 'http://ww:go/g=vle.cm/search7q=fuzing',\n",
       " 'http://ww:go/g=vLu.cm/search#-q=fzing',\n",
       " \"http://www.oogg=le.c?om'searc#h1=f3uzzkJng\",\n",
       " 'http://ww:go/g=le?.cm/search7q\\x1dnuzingg',\n",
       " \"http://wwIw.oogg=le|.c?om'searc#h!=f3uz8z{Jng\",\n",
       " 'http://www.gogg=le.#omysiear71=uzring',\n",
       " \"Http://w\\x7fw.gogg=le.co-'sarch71=Qfuz6ing\",\n",
       " 'hTtp://ww:go/g=vle.cmsearch7q=fuuziOng',\n",
       " \"Http://w\\x7fw.gog\\x03g=le.co-'sarch)71=Quz6ing\",\n",
       " 'hTtp://ww:go/Sg=6le.cmsearch7q=fuuziO*ng',\n",
       " 'hTtp://ww:go/g=vle.cmsearch7;q=fuziOng',\n",
       " 'hTtp://ww:go?Sgfa-6l.c:Msearch7s=fuuziO*ng',\n",
       " \"http://wwwW.goggle\\x0ecom'secH71=fuzzioG\",\n",
       " \"htTp://wwIw.oogg=le\\\\.c?om'sarc#h!=f3uz8<z{Jog\",\n",
       " 'hTtp://ww:go/=vme.#mEsearch7;)q=fuzhOn',\n",
       " 'hTtp://w~w:go/g5la*qcmsearch7;q=fuzing',\n",
       " 'hTtp://w~w:go/g5la*qc3cmsearch7;q=/fu:ng',\n",
       " \"htTp://www.o(og=l\\x7f\\\\.c?o'saSc#h!=f3uz8<z{Jog\",\n",
       " 'http://ww:o/g;}vLu.cmseaDsch#-q=zing',\n",
       " 'hTtp://ws:go/=vmpe.#msearch7;)q=duxhOnM',\n",
       " 'http://w~w:<goA/gula*qmseach7;q=fuzi.g',\n",
       " 'http://w~w:<goA/gula*1mseachv7;4q=fuz&ie.g',\n",
       " 'http://ww:o/g;}vLu.mseadh#q=zing',\n",
       " 'hTtp://w~w:go/gla*qmsearch7;q-?fuing',\n",
       " \"htTp://ww.o(XoglK\\x7f\\\\.c?ogsaSC'h!=f3uz8<z{jog\",\n",
       " 'hTtp://w~s:go/Kgla*qm{eazrch7;q-?fuing',\n",
       " 'http://sw*o:/;}8vL.msseadh?#q=zRng',\n",
       " 'http://5w~w:<GoA/gula*1rmseachv7;4q=/fur&i%.g',\n",
       " 'http://qwo:/;}8L.mseadh?cq=zzRn+g',\n",
       " 'Http://xww:o/g;}vLw.cmsaDsch#AC-q=zing',\n",
       " 'http://sw*ozc/;}8vL.mssmadh?#q=zRng',\n",
       " 'hTtp://sw*oz%/;}8vL/mssDmAdh?\"q=NzRngt',\n",
       " 'http://5w~w\\x1a<GoA/gula*1rmsEachv7;4q=/fur&i%.g',\n",
       " 'HTtp://xww:/g;}!vL4w?cmsaDsch#AC-q=zing',\n",
       " 'http://5w~w\\x1a<GoA/gula*1rmsLEKach4vm7;4q=/fur&k%#.g^',\n",
       " 'HTtp://x=ww:/g;}!vL4w?cmsaDsch#AC-qU=zing',\n",
       " 'http://sw*o:/;}8vL.osseadh?q$=zRng?',\n",
       " 'hTtp://sw.oz%/;}8vL/mss,DmAdh?\"q=Nznot',\n",
       " 'http://sw*o/;}8vL./s&ecdh?q$=zRng',\n",
       " 'hTtp://w~w:go/g5laP*qg3cImsearchww;q=/du:ng',\n",
       " 'htTp://5w~w\\x1a<GmA/gula*1rmsLEKach4vm7;4q=/fur&]k%#.g^',\n",
       " 'htTp://5w~w\\x1a<GmA/gula*1msLEKch4vm7;4q=/fur&]k%#.g^',\n",
       " 'Http://xww:o/g;uvLw.cXmsaDasch#AC-q=zing']"
      ]
     },
     "execution_count": 111,
     "metadata": {},
     "output_type": "execute_result"
    }
   ],
   "source": [
    "seed_input = \"http://www.google.com/search?q=fuzzing\"\n",
    "population = evolve_population_by_coverage(seed=[seed_input], trials=10000)\n",
    "population"
   ]
  },
  {
   "cell_type": "markdown",
   "metadata": {
    "button": false,
    "deletable": true,
    "new_sheet": false,
    "run_control": {
     "read_only": false
    }
   },
   "source": [
    "Success!  In our population, _each and every input_ now is valid and has a different coverage, coming from various combinations of schemes, paths, queries, and fragments."
   ]
  },
  {
   "cell_type": "code",
   "execution_count": 73,
   "metadata": {
    "button": false,
    "collapsed": false,
    "deletable": true,
    "new_sheet": false,
    "run_control": {
     "read_only": false
    }
   },
   "outputs": [
    {
     "data": {
      "image/png": "[encoded data removed]",
      "text/plain": [
       "<matplotlib.figure.Figure at 0x10e5425f8>"
      ]
     },
     "metadata": {},
     "output_type": "display_data"
    }
   ],
   "source": [
    "cumulative_coverage = population_coverage(population, http_program)\n",
    "\n",
    "import matplotlib.pyplot as plt\n",
    "plt.plot(cumulative_coverage)\n",
    "plt.title('Coverage of cgi_decode() with random inputs')\n",
    "plt.xlabel('# of inputs')\n",
    "plt.ylabel('lines covered');"
   ]
  },
  {
   "cell_type": "markdown",
   "metadata": {
    "button": false,
    "deletable": true,
    "new_sheet": false,
    "run_control": {
     "read_only": false
    }
   },
   "source": [
    "The nice thing about this strategy is that, applied to larger programs, it will happily explore one path after the other – covering functionality after functionality.  All that is needed is a means to capture the coverage."
   ]
  },
  {
   "cell_type": "markdown",
   "metadata": {
    "button": false,
    "deletable": true,
    "new_sheet": false,
    "run_control": {
     "read_only": false
    }
   },
   "source": [
    "## Lessons Learned\n",
    "\n",
    "* Randomly generated inputs are frequently invalid – and thus exercise mostly input processing functionality.\n",
    "* Mutations from existing valid inputs have much higher chances to be valid, and thus to exercise functionality beyond input processing.\n"
   ]
  },
  {
   "cell_type": "markdown",
   "metadata": {
    "button": false,
    "deletable": true,
    "new_sheet": false,
    "run_control": {
     "read_only": false
    }
   },
   "source": [
    "## Next Steps\n",
    "\n",
    "Our aim is still to sufficiently cover functionality.  From here, we can continue with:\n",
    "\n",
    "1. Try to cover as much _implemented_ functionality as possible.  To this end, we need to access the program implementation, measure which parts would actually be reached with our inputs, and use this _coverage_ to guide our search.  We will explore this in the next chapter, which discusses [guided mutations](Guided_Mutations.ipynb).\n",
    "\n",
    "2. Try to cover as much _specified_ functionality as possible.  Here, we would need a _specification of the input format,_ distinguishing between individual input elements such as (in our case) numbers, operators, comments, and strings – and attempting to cover as many of these as possible.  We will explore this as it comes to [grammar-based testing](Grammar_Testing.ipynb), and especially in [grammar-based mutations](Grammar_Mutations.ipynb).\n",
    "\n",
    "Finally, the concept of a \"population\" that is systematically \"evolved\" through \"mutations\" will be explored in depth when discussing [search-based testing](Search_Based_Testing.ipynb).  Enjoy!\n"
   ]
  },
  {
   "cell_type": "markdown",
   "metadata": {
    "button": false,
    "collapsed": true,
    "deletable": true,
    "new_sheet": false,
    "run_control": {
     "read_only": false
    }
   },
   "source": [
    "## Exercises\n"
   ]
  },
  {
   "cell_type": "markdown",
   "metadata": {
    "button": false,
    "deletable": true,
    "new_sheet": false,
    "run_control": {
     "read_only": false
    }
   },
   "source": [
    "### Exercise 1\n",
    "\n",
    "Apply the above (non-guided) mutation-based fuzzing technique on `bc`, using files, as in the chapter [\"Introduction to Fuzzing\"](Basic_Fuzzing.ipynb)."
   ]
  },
  {
   "cell_type": "markdown",
   "metadata": {
    "button": false,
    "deletable": true,
    "new_sheet": false,
    "run_control": {
     "read_only": false
    }
   },
   "source": [
    "### Exercise 2\n",
    "\n",
    "Apply the above guided mutation-based fuzzing technique on `cgi_decode()` from the [\"Coverage\"](Coverage.ipynb) chapter."
   ]
  },
  {
   "cell_type": "markdown",
   "metadata": {
    "button": false,
    "deletable": true,
    "new_sheet": false,
    "run_control": {
     "read_only": false
    }
   },
   "source": [
    "### Exercise 3\n",
    "\n",
    "In this [blog post](https://lcamtuf.blogspot.com/2014/08/binary-fuzzing-strategies-what-works.html), the author of _American Fuzzy Lop_ (AFL), a very popular mutation-based fuzzer discusses the efficiency of various mutation operators.  Implement four of them and evaluate their efficiency as in the examples above."
   ]
  },
  {
   "cell_type": "markdown",
   "metadata": {
    "button": false,
    "deletable": true,
    "new_sheet": false,
    "run_control": {
     "read_only": false
    }
   },
   "source": [
    "### Exercise 4\n",
    "\n",
    "When adding a new element to the list of candidates, AFL does actually not compare the _coverage_, but adds an element if it exercises a new _branch_.  Using branch coverage from the exercises of the [\"Coverage\"](Coverage.ipynb) chapter, implement this \"branch\" strategy and compare it against the \"coverage\" strategy, above."
   ]
  },
  {
   "cell_type": "markdown",
   "metadata": {
    "button": false,
    "deletable": true,
    "new_sheet": false,
    "run_control": {
     "read_only": false
    }
   },
   "source": [
    "### Exercise 5\n",
    "\n",
    "Design and implement a system that will gather a population of URLs from the Web.  Can you achieve a higher coverage with these samples?  What if you use them as intiial population for further mutation?"
   ]
  }
 ],
 "metadata": {
  "celltoolbar": "Edit Metadata",
  "ipub": {
   "bibliography": "gstbook.bib",
   "listcode": false,
   "listfigures": false,
   "listtables": false,
   "titlepage": {
    "author": "Andreas Zeller, Rahul Gopinath, Gordon Fraser, and Christian Holler",
    "subtitle": "Generating Software Tests",
    "title": "Fuzzing"
   },
   "toc": true
  },
  "kernelspec": {
   "display_name": "Python 3",
   "language": "python",
   "name": "python3"
  },
  "language_info": {
   "codemirror_mode": {
    "name": "ipython",
    "version": 3
   },
   "file_extension": ".py",
   "mimetype": "text/x-python",
   "name": "python",
   "nbconvert_exporter": "python",
   "pygments_lexer": "ipython3",
   "version": "3.5.0"
  },
  "toc": {
   "base_numbering": 1,
   "nav_menu": {},
   "number_sections": true,
   "sideBar": true,
   "skip_h1_title": true,
   "title_cell": "",
   "title_sidebar": "Contents",
   "toc_cell": false,
   "toc_position": {},
   "toc_section_display": true,
   "toc_window_display": true
  }
 },
 "nbformat": 4,
 "nbformat_minor": 2
}
