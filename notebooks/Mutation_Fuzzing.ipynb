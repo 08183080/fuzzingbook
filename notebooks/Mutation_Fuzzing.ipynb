{
 "cells": [
  {
   "cell_type": "markdown",
   "metadata": {
    "button": false,
    "deletable": true,
    "new_sheet": false,
    "run_control": {
     "read_only": false
    }
   },
   "source": [
    "# Mutation-Based Fuzzing\n",
    "\n",
    "Most [randomly generated inputs](Basic_Fuzzing.ipynb) are syntactically _invalid_ and thus are quickly rejected by the processing program.  To exercise functionality beyond input processing, we must increase chances to obtain valid inputs.  One such way is by _mutating_ existing valid inputs - that is, introducing small changes that may still keep the input valid, yet exercise new behavior."
   ]
  },
  {
   "cell_type": "markdown",
   "metadata": {
    "button": false,
    "deletable": true,
    "new_sheet": false,
    "run_control": {
     "read_only": false
    }
   },
   "source": [
    "**Prerequisites**\n",
    "\n",
    "* You should know how basic fuzzing works; for instance, from the [\"Fuzzing\"](Basic_Fuzzing.ipynb) chapter."
   ]
  },
  {
   "cell_type": "markdown",
   "metadata": {
    "button": false,
    "deletable": true,
    "new_sheet": false,
    "run_control": {
     "read_only": false
    }
   },
   "source": [
    "## Fuzzing a URL Parser\n",
    "\n",
    "Many programs expect their inputs to come in a very specific format before they would actually process them.  As an example, think of a program that accepts a URL (a Web address).  The URL has to be in a valid format (i.e., the URL format) such that the program can deal with it.  When fuzzing with random inputs, what are our chances to actually produce a valid URL?\n",
    "\n",
    "To get deeper into the problem, let us explore what URLs are made of.  A URL consists of a number of elements:\n",
    "\n",
    "    scheme://netloc/path?query#fragment\n",
    "    \n",
    "where\n",
    "* `scheme` is the protocol to be used, including `http`, `https`, `ftp`, `file`...\n",
    "* `netloc` is the name of the host to connect to, such as `www.google.com`\n",
    "* `path` is the path on that very host, such as `search`\n",
    "* `query` is a list of key/value pairs, such as `q=fuzzing`\n",
    "* `fragment` is a marker for a location in the retrieved document, such as `#result`\n",
    "\n",
    "In Python, we can use the `urlparse()` function to parse and decompose a URL into its parts."
   ]
  },
  {
   "cell_type": "code",
   "execution_count": 78,
   "metadata": {
    "button": false,
    "collapsed": true,
    "deletable": true,
    "new_sheet": false,
    "run_control": {
     "read_only": false
    }
   },
   "outputs": [],
   "source": [
    "import gstbook"
   ]
  },
  {
   "cell_type": "code",
   "execution_count": 79,
   "metadata": {
    "button": false,
    "collapsed": false,
    "deletable": true,
    "new_sheet": false,
    "run_control": {
     "read_only": false
    }
   },
   "outputs": [
    {
     "data": {
      "text/plain": [
       "ParseResult(scheme='http', netloc='www.google.com', path='/search', params='', query='q=fuzzing', fragment='')"
      ]
     },
     "execution_count": 79,
     "metadata": {},
     "output_type": "execute_result"
    }
   ],
   "source": [
    "try:\n",
    "    from urlparse import urlparse      # Python 2\n",
    "except ImportError:\n",
    "    from urllib.parse import urlparse  # Python 3\n",
    "\n",
    "urlparse(\"http://www.google.com/search?q=fuzzing\")"
   ]
  },
  {
   "cell_type": "markdown",
   "metadata": {
    "button": false,
    "deletable": true,
    "new_sheet": false,
    "run_control": {
     "read_only": false
    }
   },
   "source": [
    "We see how the result encodes the individual parts of the URL in different attributes."
   ]
  },
  {
   "cell_type": "markdown",
   "metadata": {
    "button": false,
    "deletable": true,
    "new_sheet": false,
    "run_control": {
     "read_only": false
    }
   },
   "source": [
    "Let us now assume we have a program that takes a URL as input.  To simplify things, we won't let it do very much; we simply have it check the passed URL for validity.  If the URL is valid, it returns True; otherwise, it raises an exception."
   ]
  },
  {
   "cell_type": "code",
   "execution_count": 80,
   "metadata": {
    "button": false,
    "collapsed": true,
    "deletable": true,
    "new_sheet": false,
    "run_control": {
     "read_only": false
    }
   },
   "outputs": [],
   "source": [
    "def http_program(url):\n",
    "    supported_schemes = [\"http\", \"https\"]\n",
    "    result = urlparse(url)\n",
    "    if result.scheme not in supported_schemes:\n",
    "        raise ValueError(\"Scheme must be one of \" + repr(supported_schemes))\n",
    "    if result.netloc == '':\n",
    "        raise ValueError(\"Host must be non-empty\")\n",
    "\n",
    "    # Do something with the URL\n",
    "    return True"
   ]
  },
  {
   "cell_type": "markdown",
   "metadata": {
    "button": false,
    "deletable": true,
    "new_sheet": false,
    "run_control": {
     "read_only": false
    }
   },
   "source": [
    "Let us now go and fuzz `http_program()`.  To fuzz, we use the full range of printable ASCII characters, such that `:`, `/`, and lowercase letters are included."
   ]
  },
  {
   "cell_type": "code",
   "execution_count": 81,
   "metadata": {
    "button": false,
    "collapsed": true,
    "deletable": true,
    "new_sheet": false,
    "run_control": {
     "read_only": false
    }
   },
   "outputs": [],
   "source": [
    "%%capture\n",
    "from Basic_Fuzzing import fuzzer"
   ]
  },
  {
   "cell_type": "code",
   "execution_count": 82,
   "metadata": {
    "button": false,
    "collapsed": false,
    "deletable": true,
    "new_sheet": false,
    "run_control": {
     "read_only": false
    }
   },
   "outputs": [
    {
     "data": {
      "text/plain": [
       "\"zaT2C?RV0&Y\\x7f^jOQ]R2e;|/,{6pLmt*:cC7=il'>b'Y~/_0g<4X}h{'st?Vqxtv@n\""
      ]
     },
     "execution_count": 82,
     "metadata": {},
     "output_type": "execute_result"
    }
   ],
   "source": [
    "fuzzer(char_start=32, char_range=96)"
   ]
  },
  {
   "cell_type": "markdown",
   "metadata": {
    "button": false,
    "deletable": true,
    "new_sheet": false,
    "run_control": {
     "read_only": false
    }
   },
   "source": [
    "Let's try to fuzz with 1000 random inputs and see whether we have some success."
   ]
  },
  {
   "cell_type": "code",
   "execution_count": 83,
   "metadata": {
    "button": false,
    "collapsed": false,
    "deletable": true,
    "new_sheet": false,
    "run_control": {
     "read_only": false
    }
   },
   "outputs": [],
   "source": [
    "for i in range(1000):\n",
    "    try:\n",
    "        url = fuzzer()\n",
    "        result = http_program(url)\n",
    "        print(\"Success!\")\n",
    "    except ValueError:\n",
    "        pass"
   ]
  },
  {
   "cell_type": "markdown",
   "metadata": {
    "button": false,
    "deletable": true,
    "new_sheet": false,
    "run_control": {
     "read_only": false
    }
   },
   "source": [
    "What are the chances of actually getting a valid URL?  We need our string to start with `\"http://\"` or `\"https://\"`.  Let's take the `\"http://\"` case first.  That's seven very specific characters we need to start with.  The chances of producing these seven characters randomly (with a character range of 96 different characters) is $1 : 96^7$, or"
   ]
  },
  {
   "cell_type": "code",
   "execution_count": 84,
   "metadata": {
    "button": false,
    "collapsed": false,
    "deletable": true,
    "new_sheet": false,
    "run_control": {
     "read_only": false
    }
   },
   "outputs": [
    {
     "data": {
      "text/plain": [
       "75144747810816"
      ]
     },
     "execution_count": 84,
     "metadata": {},
     "output_type": "execute_result"
    }
   ],
   "source": [
    "96 ** 7"
   ]
  },
  {
   "cell_type": "markdown",
   "metadata": {
    "button": false,
    "deletable": true,
    "new_sheet": false,
    "run_control": {
     "read_only": false
    }
   },
   "source": [
    "The odds of producing a `\"https://\"` prefix are even worse, at $1 : 96^8$:"
   ]
  },
  {
   "cell_type": "code",
   "execution_count": 85,
   "metadata": {
    "button": false,
    "collapsed": false,
    "deletable": true,
    "new_sheet": false,
    "run_control": {
     "read_only": false
    }
   },
   "outputs": [
    {
     "data": {
      "text/plain": [
       "7213895789838336"
      ]
     },
     "execution_count": 85,
     "metadata": {},
     "output_type": "execute_result"
    }
   ],
   "source": [
    "96 ** 8"
   ]
  },
  {
   "cell_type": "markdown",
   "metadata": {
    "button": false,
    "deletable": true,
    "new_sheet": false,
    "run_control": {
     "read_only": false
    }
   },
   "source": [
    "which gives us a total chance of"
   ]
  },
  {
   "cell_type": "code",
   "execution_count": 86,
   "metadata": {
    "button": false,
    "collapsed": false,
    "deletable": true,
    "new_sheet": false,
    "run_control": {
     "read_only": false
    }
   },
   "outputs": [
    {
     "data": {
      "text/plain": [
       "1.344627131107667e-14"
      ]
     },
     "execution_count": 86,
     "metadata": {},
     "output_type": "execute_result"
    }
   ],
   "source": [
    "likelihood = 1 / (96 ** 7) + 1 / (96 ** 8)\n",
    "likelihood"
   ]
  },
  {
   "cell_type": "markdown",
   "metadata": {
    "button": false,
    "deletable": true,
    "new_sheet": false,
    "run_control": {
     "read_only": false
    }
   },
   "source": [
    "And this is the number of runs (on average) we'd need to produce a valid URL:"
   ]
  },
  {
   "cell_type": "code",
   "execution_count": 87,
   "metadata": {
    "button": false,
    "collapsed": false,
    "deletable": true,
    "new_sheet": false,
    "run_control": {
     "read_only": false
    }
   },
   "outputs": [
    {
     "data": {
      "text/plain": [
       "74370059689055.02"
      ]
     },
     "execution_count": 87,
     "metadata": {},
     "output_type": "execute_result"
    }
   ],
   "source": [
    "1 / likelihood"
   ]
  },
  {
   "cell_type": "markdown",
   "metadata": {
    "button": false,
    "deletable": true,
    "new_sheet": false,
    "run_control": {
     "read_only": false
    }
   },
   "source": [
    "Let's measure how long one run of `http_program()` takes:"
   ]
  },
  {
   "cell_type": "code",
   "execution_count": 88,
   "metadata": {
    "button": false,
    "collapsed": true,
    "deletable": true,
    "new_sheet": false,
    "run_control": {
     "read_only": false
    }
   },
   "outputs": [],
   "source": [
    "%%capture\n",
    "from Timer import Timer"
   ]
  },
  {
   "cell_type": "code",
   "execution_count": 89,
   "metadata": {
    "button": false,
    "collapsed": false,
    "deletable": true,
    "new_sheet": false,
    "run_control": {
     "read_only": false
    }
   },
   "outputs": [
    {
     "data": {
      "text/plain": [
       "0.00013728549506049603"
      ]
     },
     "execution_count": 89,
     "metadata": {},
     "output_type": "execute_result"
    }
   ],
   "source": [
    "TRIALS = 1000\n",
    "with Timer() as t:\n",
    "    for i in range(TRIALS):\n",
    "        try:\n",
    "            url = fuzzer()\n",
    "            result = http_program(url)\n",
    "            print(\"Success!\")\n",
    "        except ValueError:\n",
    "            pass\n",
    "\n",
    "duration_per_run_in_seconds = t.elapsed_time() / TRIALS\n",
    "duration_per_run_in_seconds"
   ]
  },
  {
   "cell_type": "markdown",
   "metadata": {
    "button": false,
    "deletable": true,
    "new_sheet": false,
    "run_control": {
     "read_only": false
    }
   },
   "source": [
    "That's pretty fast, isn't it?  Unfortunately, we have a lot of runs to cover."
   ]
  },
  {
   "cell_type": "code",
   "execution_count": 90,
   "metadata": {
    "button": false,
    "collapsed": false,
    "deletable": true,
    "new_sheet": false,
    "run_control": {
     "read_only": false
    }
   },
   "outputs": [
    {
     "data": {
      "text/plain": [
       "10209930462.090557"
      ]
     },
     "execution_count": 90,
     "metadata": {},
     "output_type": "execute_result"
    }
   ],
   "source": [
    "seconds_until_success = duration_per_run_in_seconds * (1 / likelihood)\n",
    "seconds_until_success"
   ]
  },
  {
   "cell_type": "markdown",
   "metadata": {
    "button": false,
    "deletable": true,
    "new_sheet": false,
    "run_control": {
     "read_only": false
    }
   },
   "source": [
    "which translates into"
   ]
  },
  {
   "cell_type": "code",
   "execution_count": 91,
   "metadata": {
    "button": false,
    "collapsed": false,
    "deletable": true,
    "new_sheet": false,
    "run_control": {
     "read_only": false
    }
   },
   "outputs": [
    {
     "data": {
      "text/plain": [
       "323.5331730578548"
      ]
     },
     "execution_count": 91,
     "metadata": {},
     "output_type": "execute_result"
    }
   ],
   "source": [
    "hours_until_success = seconds_until_success / 3600\n",
    "days_until_success = hours_until_success / 24\n",
    "years_until_success = days_until_success / 365.25\n",
    "years_until_success"
   ]
  },
  {
   "cell_type": "markdown",
   "metadata": {
    "button": false,
    "deletable": true,
    "new_sheet": false,
    "run_control": {
     "read_only": false
    }
   },
   "source": [
    "Even if we parallelize things a lot, we're still in for months to years of waiting.  And that's for getting _one_ successful run that will get deeper into `http_program()`."
   ]
  },
  {
   "cell_type": "markdown",
   "metadata": {
    "button": false,
    "deletable": true,
    "new_sheet": false,
    "run_control": {
     "read_only": false
    }
   },
   "source": [
    "What basic fuzzing will do well is to test `urlparse()`, and if there is an error in this parsing function, it has good chances of uncovering it.  But as long as we cannot produce a valid input, we are out of luck in reaching any deeper functionality."
   ]
  },
  {
   "cell_type": "markdown",
   "metadata": {
    "button": false,
    "deletable": true,
    "new_sheet": false,
    "run_control": {
     "read_only": false
    }
   },
   "source": [
    "## Mutating Inputs\n",
    "\n",
    "The alternative to generating random strings from scratch is to start with a guiven _valid_ input, and then to subsequently _mutate_ it.  A _mutation_ in this context is a simple string manipulation - say, inserting a (random) character, deleting a character, or flipping a bit in a character representation.  Here are some mutations to get you started:"
   ]
  },
  {
   "cell_type": "code",
   "execution_count": 92,
   "metadata": {
    "button": false,
    "collapsed": true,
    "deletable": true,
    "new_sheet": false,
    "run_control": {
     "read_only": false
    }
   },
   "outputs": [],
   "source": [
    "import random"
   ]
  },
  {
   "cell_type": "code",
   "execution_count": 93,
   "metadata": {
    "button": false,
    "collapsed": false,
    "deletable": true,
    "new_sheet": false,
    "run_control": {
     "read_only": false
    }
   },
   "outputs": [],
   "source": [
    "def delete_random_character(s):\n",
    "    \"\"\"Returns s with a random character deleted\"\"\"\n",
    "    if s == \"\":\n",
    "        return s\n",
    "\n",
    "    pos = random.randint(0, len(s) - 1)\n",
    "    # print(\"Deleting\", repr(s[pos]), \"at\", pos)\n",
    "    return s[:pos] + s[pos + 1:]"
   ]
  },
  {
   "cell_type": "code",
   "execution_count": 94,
   "metadata": {
    "button": false,
    "collapsed": false,
    "deletable": true,
    "new_sheet": false,
    "run_control": {
     "read_only": false
    }
   },
   "outputs": [
    {
     "name": "stdout",
     "output_type": "stream",
     "text": [
      "A quickbrown fox\n",
      "A quck brown fox\n",
      "A quick brwn fox\n",
      "A uick brown fox\n",
      "A quick brown fo\n",
      "A quick rown fox\n",
      "A quick brownfox\n",
      "A quic brown fox\n",
      "A quickbrown fox\n",
      "A quick brown fo\n"
     ]
    }
   ],
   "source": [
    "seed_input = \"A quick brown fox\"\n",
    "for i in range(10):\n",
    "    x = delete_random_character(seed_input)\n",
    "    print(x)"
   ]
  },
  {
   "cell_type": "code",
   "execution_count": 95,
   "metadata": {
    "button": false,
    "collapsed": false,
    "deletable": true,
    "new_sheet": false,
    "run_control": {
     "read_only": false
    }
   },
   "outputs": [],
   "source": [
    "def insert_random_character(s):\n",
    "    \"\"\"Returns s with a random character inserted\"\"\"\n",
    "    pos = random.randint(0, len(s))\n",
    "    random_character = chr(random.randrange(32, 128))\n",
    "    # print(\"Inserting\", repr(random_character), \"at\", pos)\n",
    "    return s[:pos] + random_character + s[pos:]"
   ]
  },
  {
   "cell_type": "code",
   "execution_count": 96,
   "metadata": {
    "button": false,
    "collapsed": false,
    "deletable": true,
    "new_sheet": false,
    "run_control": {
     "read_only": false
    }
   },
   "outputs": [
    {
     "name": "stdout",
     "output_type": "stream",
     "text": [
      "A% quick brown fox\n",
      "A quick brown fo{x\n",
      "A qu4ick brown fox\n",
      "AA quick brown fox\n",
      "A quick bOrown fox\n",
      "A qu)ick brown fox\n",
      "A quick brow_n fox\n",
      "A qMuick brown fox\n",
      "A quick browhn fox\n",
      "A &quick brown fox\n"
     ]
    }
   ],
   "source": [
    "for i in range(10):\n",
    "    print(insert_random_character(seed_input))"
   ]
  },
  {
   "cell_type": "code",
   "execution_count": 97,
   "metadata": {
    "button": false,
    "collapsed": false,
    "deletable": true,
    "new_sheet": false,
    "run_control": {
     "read_only": false
    }
   },
   "outputs": [],
   "source": [
    "def flip_random_character(s):\n",
    "    \"\"\"Returns s with a random bit flipped in a random position\"\"\"\n",
    "    if s == \"\":\n",
    "        return s\n",
    "\n",
    "    pos = random.randint(0, len(s) - 1)\n",
    "    c = s[pos]\n",
    "    bit = 1 << random.randint(0, 6)\n",
    "    new_c = chr(ord(c) ^ bit)\n",
    "    # print(\"Flipping\", bit, \"in\", repr(c) + \", giving\", repr(new_c))\n",
    "    return s[:pos] + new_c + s[pos + 1:]\n"
   ]
  },
  {
   "cell_type": "code",
   "execution_count": 98,
   "metadata": {
    "button": false,
    "collapsed": false,
    "deletable": true,
    "new_sheet": false,
    "run_control": {
     "read_only": false
    }
   },
   "outputs": [
    {
     "name": "stdout",
     "output_type": "stream",
     "text": [
      "a quick brown fox\n",
      "A quick brown fmx\n",
      "A`quick brown fox\n",
      "A quick broun fox\n",
      "A quick broun fox\n",
      "A quick brown gox\n",
      "A qukck brown fox\n",
      "A quiak brown fox\n",
      "A quick\u0000brown fox\n",
      "A quibk brown fox\n"
     ]
    }
   ],
   "source": [
    "for i in range(10):\n",
    "    print(flip_random_character(seed_input))"
   ]
  },
  {
   "cell_type": "markdown",
   "metadata": {
    "button": false,
    "deletable": true,
    "new_sheet": false,
    "run_control": {
     "read_only": false
    }
   },
   "source": [
    "Let us now create a random mutator that randomly chooses which mutation to apply:"
   ]
  },
  {
   "cell_type": "code",
   "execution_count": 99,
   "metadata": {
    "button": false,
    "collapsed": false,
    "deletable": true,
    "new_sheet": false,
    "run_control": {
     "read_only": false
    }
   },
   "outputs": [],
   "source": [
    "mutators = [delete_random_character, insert_random_character, flip_random_character]"
   ]
  },
  {
   "cell_type": "code",
   "execution_count": 100,
   "metadata": {
    "button": false,
    "collapsed": false,
    "deletable": true,
    "new_sheet": false,
    "run_control": {
     "read_only": false
    }
   },
   "outputs": [],
   "source": [
    "def mutate(s):\n",
    "    \"\"\"Return s with a random mutation applied\"\"\"\n",
    "    mutator = random.choice(mutators)\n",
    "    # print(mutator)\n",
    "    return mutator(s)"
   ]
  },
  {
   "cell_type": "code",
   "execution_count": 101,
   "metadata": {
    "button": false,
    "collapsed": false,
    "deletable": true,
    "new_sheet": false,
    "run_control": {
     "read_only": false
    }
   },
   "outputs": [
    {
     "name": "stdout",
     "output_type": "stream",
     "text": [
      "A quic?k brown fox\n",
      "A quYick brown fox\n",
      "A quick brow fox\n",
      "/A quick brown fox\n",
      "A quick brow. fox\n",
      "A quick crown fox\n",
      "A uick brown fox\n",
      " quick brown fox\n",
      "A quiak brown fox\n",
      "A uick brown fox\n"
     ]
    }
   ],
   "source": [
    "for i in range(10):\n",
    "    print(mutate(\"A quick brown fox\"))"
   ]
  },
  {
   "cell_type": "markdown",
   "metadata": {
    "button": false,
    "deletable": true,
    "new_sheet": false,
    "run_control": {
     "read_only": false
    }
   },
   "source": [
    "The idea is now that _if_ we have some valid input(s) to begin with, we may create more input candidates by applying one of the above mutations.  To see how this works, let's get back to URLs."
   ]
  },
  {
   "cell_type": "markdown",
   "metadata": {
    "button": false,
    "deletable": true,
    "new_sheet": false,
    "run_control": {
     "read_only": false
    }
   },
   "source": [
    "## Mutating URLs"
   ]
  },
  {
   "cell_type": "markdown",
   "metadata": {
    "button": false,
    "deletable": true,
    "new_sheet": false,
    "run_control": {
     "read_only": false
    }
   },
   "source": [
    "Let us now get back to our URL parsing problem.  Let us create a function `is_valid_url()` that checks whether `http_program()` accepts the input."
   ]
  },
  {
   "cell_type": "code",
   "execution_count": 102,
   "metadata": {
    "button": false,
    "collapsed": false,
    "deletable": true,
    "new_sheet": false,
    "run_control": {
     "read_only": false
    }
   },
   "outputs": [],
   "source": [
    "def is_valid_url(url):\n",
    "    try:\n",
    "        result = http_program(url)\n",
    "        return True\n",
    "    except ValueError:\n",
    "        return False"
   ]
  },
  {
   "cell_type": "code",
   "execution_count": 103,
   "metadata": {
    "collapsed": true
   },
   "outputs": [],
   "source": [
    "assert is_valid_url(\"http://www.google.com/search?q=fuzzing\")\n",
    "assert not is_valid_url(\"xyzzy\")"
   ]
  },
  {
   "cell_type": "markdown",
   "metadata": {
    "button": false,
    "deletable": true,
    "new_sheet": false,
    "run_control": {
     "read_only": false
    }
   },
   "source": [
    "Let us now apply the `mutate()` function on a given URL and see how many valid inputs we obtain."
   ]
  },
  {
   "cell_type": "code",
   "execution_count": 104,
   "metadata": {
    "button": false,
    "collapsed": false,
    "deletable": true,
    "new_sheet": false,
    "run_control": {
     "read_only": false
    }
   },
   "outputs": [],
   "source": [
    "seed_input = \"http://www.google.com/search?q=fuzzing\"\n",
    "valid_inputs = set()\n",
    "TRIALS = 20\n",
    "\n",
    "for i in range(TRIALS):\n",
    "    inp = mutate(seed_input)\n",
    "    if is_valid_url(inp):\n",
    "        valid_inputs.add(inp)"
   ]
  },
  {
   "cell_type": "markdown",
   "metadata": {
    "button": false,
    "deletable": true,
    "new_sheet": false,
    "run_control": {
     "read_only": false
    }
   },
   "source": [
    "We can now observe that by _mutating_ the original input, we get a high proportion of valid inputs:"
   ]
  },
  {
   "cell_type": "code",
   "execution_count": 105,
   "metadata": {
    "button": false,
    "collapsed": false,
    "deletable": true,
    "new_sheet": false,
    "run_control": {
     "read_only": false
    }
   },
   "outputs": [
    {
     "data": {
      "text/plain": [
       "0.7"
      ]
     },
     "execution_count": 105,
     "metadata": {},
     "output_type": "execute_result"
    }
   ],
   "source": [
    "len(valid_inputs) / TRIALS"
   ]
  },
  {
   "cell_type": "markdown",
   "metadata": {
    "button": false,
    "deletable": true,
    "new_sheet": false,
    "run_control": {
     "read_only": false
    }
   },
   "source": [
    "What are the odds of also producing a `https:` prefix by mutating a `http:` sample seed input?  We have to insert ($1 : 3$) the right character `'s'` ($1 : 96$) into the correct position ($1 : l$), where $l$ is the length of our seed input.  This means that on average, we need this many runs:"
   ]
  },
  {
   "cell_type": "code",
   "execution_count": 106,
   "metadata": {
    "button": false,
    "collapsed": false,
    "deletable": true,
    "new_sheet": false,
    "run_control": {
     "read_only": false
    }
   },
   "outputs": [
    {
     "data": {
      "text/plain": [
       "10944"
      ]
     },
     "execution_count": 106,
     "metadata": {},
     "output_type": "execute_result"
    }
   ],
   "source": [
    "trials = 3 * 96 * len(seed_input)\n",
    "trials"
   ]
  },
  {
   "cell_type": "markdown",
   "metadata": {
    "button": false,
    "deletable": true,
    "new_sheet": false,
    "run_control": {
     "read_only": false
    }
   },
   "source": [
    "We can actually afford this.  Let's try:"
   ]
  },
  {
   "cell_type": "code",
   "execution_count": 107,
   "metadata": {
    "button": false,
    "collapsed": false,
    "deletable": true,
    "new_sheet": false,
    "run_control": {
     "read_only": false
    }
   },
   "outputs": [],
   "source": [
    "%%capture\n",
    "from Timer import Timer"
   ]
  },
  {
   "cell_type": "code",
   "execution_count": 108,
   "metadata": {
    "button": false,
    "collapsed": false,
    "deletable": true,
    "new_sheet": false,
    "run_control": {
     "read_only": false
    }
   },
   "outputs": [
    {
     "name": "stdout",
     "output_type": "stream",
     "text": [
      "Success after 846 trials in 0.005797673016786575 seconds\n"
     ]
    }
   ],
   "source": [
    "trials = 0\n",
    "with Timer() as t:\n",
    "    while True:\n",
    "        trials += 1\n",
    "        inp = mutate(seed_input)\n",
    "        if inp.startswith(\"https://\"):\n",
    "            print(\"Success after\", trials, \"trials in\", t.elapsed_time(), \"seconds\")\n",
    "            break"
   ]
  },
  {
   "cell_type": "markdown",
   "metadata": {
    "button": false,
    "deletable": true,
    "new_sheet": false,
    "run_control": {
     "read_only": false
    }
   },
   "source": [
    "Of course, if we wanted to get, say, an `\"ftp://\"` prefix, we would need more mutations and more runs – most important, though, we would need to apply _multiple_ mutations."
   ]
  },
  {
   "cell_type": "markdown",
   "metadata": {
    "button": false,
    "deletable": true,
    "new_sheet": false,
    "run_control": {
     "read_only": false
    }
   },
   "source": [
    "## Multiple Mutations\n",
    "\n",
    "So far, we have only applied one single mutation on a sample string.  However, we can also apply _multiple_ mutations, further changing it.  What happens, for instance, if we apply, say, 20 mutations on our sample string?"
   ]
  },
  {
   "cell_type": "code",
   "execution_count": 109,
   "metadata": {
    "button": false,
    "collapsed": true,
    "deletable": true,
    "new_sheet": false,
    "run_control": {
     "read_only": false
    }
   },
   "outputs": [],
   "source": [
    "seed_input = \"http://www.google.com/search?q=fuzzing\"\n",
    "MUTATIONS = 50"
   ]
  },
  {
   "cell_type": "code",
   "execution_count": 110,
   "metadata": {
    "button": false,
    "collapsed": false,
    "deletable": true,
    "new_sheet": false,
    "run_control": {
     "read_only": false
    },
    "scrolled": true
   },
   "outputs": [
    {
     "name": "stdout",
     "output_type": "stream",
     "text": [
      "0 mutations: 'http://www.google.com/search?q=fuzzing'\n",
      "5 mutations: 'http://w.9google.com/searh?q=fwzzing'\n",
      "10 mutations: 'h\\x7fttp://.9oogle.com/sarh?q=fwzing'\n",
      "15 mutations: 'h\\x7fttp//.oogle.ckm/sarh\\x1fq=fwzig'\n",
      "20 mutations: 'h\\x7ftt//.oogle.cm/sgar\\x1fq=fwzi@g'\n",
      "25 mutations: 'h\\x7fSttn//.ongjle.cm/sgar\\x1fu=fwzi@g'\n",
      "30 mutations: 'h\\x7fSttn//.Ogjle.cm/sgar\\x1f9uC=fzi@g'\n",
      "35 mutations: 'h\\x7fSttnm//.OgjlTe.cm/sgar\\x1f9qC=fzw\\x7fi@g'\n",
      "40 mutations: 'h\\x7fSttnm//.Og nlT.cm/{gar\\x1f9qC=fzw\\x7fi@gP'\n",
      "45 mutations: 'h\\x7fSttnm//.Og nT.cm/{gar?9qC=z\\x7fi@gP('\n"
     ]
    }
   ],
   "source": [
    "inp = seed_input\n",
    "for i in range(MUTATIONS):\n",
    "    if i % 5 == 0:\n",
    "        print(i, \"mutations:\", repr(inp))\n",
    "    inp = mutate(inp)"
   ]
  },
  {
   "cell_type": "markdown",
   "metadata": {
    "button": false,
    "deletable": true,
    "new_sheet": false,
    "run_control": {
     "read_only": false
    }
   },
   "source": [
    "As you see, the original seed input is hardly recognizable anymore.  Mutating the input again and again has the advantage of getting a higher variety in the input, but on the other hand further increases the risk of having an invalid input.  The key to success lies in the idea of _guiding_ these mutations – that is, _keeping those that are especially valuable._"
   ]
  },
  {
   "cell_type": "markdown",
   "metadata": {
    "button": false,
    "deletable": true,
    "new_sheet": false,
    "run_control": {
     "read_only": false
    }
   },
   "source": [
    "## Guiding by Coverage\n",
    "\n",
    "To cover as much functionality as possible, one can rely on either _specified_ or _implemented_ functionality, as discussed in the [\"Coverage\"](Coverage.ipynb) chapter.  For now, we will not assume that there is a specification of program behavior (although it _definitely_ would be good to have one!).  We _will_ assume, though, that the program to be tested exists – and that we can leverage its structure to guide test generation.\n",
    "\n",
    "Since testing always executes the program at hand, one can always gather information about its execution – the least is the information needed to decide whether a test passes or fails.  Since coverage is frequently measured as well to determine test quality, let us also assume we can retrieve coverage of a test run.  The question is then: _How can we leverage coverage to guide test generation?_\n",
    "\n",
    "One particularly successful idea is implemented in the popular fuzzer named [_American fuzzy lop_](http://lcamtuf.coredump.cx/afl/), or AFL for short.  Just like our examples above, AFL evolves test cases that have been successful – but for AFL, \"success\" means _finding a new path through the program execution_.  This way, AFL can keep on mutating inputs that so far have found new paths; and if an input finds another path, it will be retained as well.\n",
    "\n",
    "We can implement such a strategy by maximizing _diversity in coverage_ in our population.  First, let us create a function `create_candidate()` which randomly picks some input from a given population, and then applies between `min_mutations` and `max_mutations` mutation steps, returning the final result:"
   ]
  },
  {
   "cell_type": "code",
   "execution_count": 116,
   "metadata": {
    "button": false,
    "collapsed": true,
    "deletable": true,
    "new_sheet": false,
    "run_control": {
     "read_only": false
    }
   },
   "outputs": [],
   "source": [
    "def create_candidate(population, min_mutations=2, max_mutations=10):\n",
    "    candidate = random.choice(population)\n",
    "    trials = random.randint(min_mutations, max_mutations)\n",
    "    for i in range(trials):\n",
    "        candidate = mutate(candidate)\n",
    "    return candidate"
   ]
  },
  {
   "cell_type": "markdown",
   "metadata": {
    "run_control": {}
   },
   "source": [
    "Now for the main function.  We maintain a list of inputs (`population`) and a set of coverages already achieved (`coverages_seen`).  The `fuzz()` helper function takes an input and runs the given `function()` on it.  If its coverage is new (i.e. not in `coverages_seen`), the input is added to `population` and the coverage to `coverages_seen`.\n",
    "\n",
    "The main `coverage_fuzzer()` function first runs `fuzz()` on the provided seed population (adding to the population), and then keeps on creating and testing new candidates coming from `create_candidate()`."
   ]
  },
  {
   "cell_type": "code",
   "execution_count": 117,
   "metadata": {
    "button": false,
    "collapsed": false,
    "deletable": true,
    "new_sheet": false,
    "run_control": {
     "read_only": false
    }
   },
   "outputs": [],
   "source": [
    "%%capture\n",
    "from Coverage import Coverage, population_coverage"
   ]
  },
  {
   "cell_type": "code",
   "execution_count": 118,
   "metadata": {
    "button": false,
    "collapsed": true,
    "deletable": true,
    "new_sheet": false,
    "run_control": {
     "read_only": false
    }
   },
   "outputs": [],
   "source": [
    "def coverage_fuzzer(seed, function, trials=100):\n",
    "    population = []\n",
    "    coverages_seen = set()\n",
    "\n",
    "    def fuzz(inp):\n",
    "        \"\"\"Run function(inp) while tracking coverage.  \n",
    "           If we reach new coverage, \n",
    "           add inp to population and its coverage to population_coverage\n",
    "        \"\"\"\n",
    "        nonlocal population  # Access \"outer\" variables\n",
    "        nonlocal coverages_seen\n",
    "\n",
    "        with Coverage() as cov:\n",
    "            try:\n",
    "                function(inp)\n",
    "                valid = True\n",
    "            except:\n",
    "                valid = False\n",
    "\n",
    "        print(repr(inp))\n",
    "\n",
    "        new_coverage = frozenset(cov.coverage())\n",
    "        if valid and new_coverage not in coverages_seen:\n",
    "            # We have new coverage\n",
    "            population.append(inp)\n",
    "            coverages_seen.add(new_coverage)\n",
    "\n",
    "    for inp in seed:\n",
    "        fuzz(inp)\n",
    "\n",
    "    for i in range(trials):\n",
    "        candidate = create_candidate(population)\n",
    "        fuzz(candidate)\n",
    "\n",
    "    return population"
   ]
  },
  {
   "cell_type": "markdown",
   "metadata": {
    "run_control": {}
   },
   "source": [
    "Let us now put this to use:"
   ]
  },
  {
   "cell_type": "code",
   "execution_count": 119,
   "metadata": {
    "button": false,
    "collapsed": false,
    "deletable": true,
    "new_sheet": false,
    "run_control": {
     "read_only": false
    }
   },
   "outputs": [
    {
     "name": "stdout",
     "output_type": "stream",
     "text": [
      "'http://www.google.com/search?q=fuzzing'\n",
      "\"'http:\\x0f/wwwgoZole.col/searc?q=fUuzzhlg\"\n",
      "'http://wwg\\x0ego;ogle.comsarch?q=fuzzng'\n",
      "'http://www.googlencom/searc?q=fuxzing'\n",
      "'ht\\\\Op//wwg\\x0ego;ogle\\x0ecFgmsrch/q=fuzzn'\n",
      "'htup://nwww.gooolencomsarch?qP=fuzgzing'\n",
      "'http://wg\\x0eGo?og#lg.coqaRch?q=u/zzng'\n",
      "'http://wwg\\x0ego;ogle.comsar;ch?q=fuzng'\n",
      "'hptp//wbg\\x0eGo?og#lggoqRch?q=u/zzng'\n",
      "'hptp:/-www.gzoog|e.com/search?q=fuzzing'\n",
      "'httt://wg\\x0eGo?g#lg.coqaRch?q=u/zzng'\n",
      "'hvt:/wg\\x0eGo?og#lg.mcoqach?q+w=u/zzng'\n",
      "'1http:/wg\\x0eGo?og#Lg.coqa2Rch?q=u/zzng'\n",
      "'http://wg\\x0eGo/og#lg.cgqaRch?q=u/zzng'\n",
      "'htp://wvw.googme.com/search?q=f|5ujzng'\n",
      "'he6tpc://wg\\nGo?og#|Dg.coqRch?q=u/zzn'\n",
      "\"h$tHt:/wwg\\x0ego;oglE.co#sjarch?q=fuzn'\"\n",
      "'http://wwgU\\x0egooglge.#omr#tH7q=fuzzng'\n",
      "'http://wwg\\x0ego;ogle.comsarSh?q=fuzzng'\n",
      "\"http://wf\\x0eGo?og#l'.coqaRch?q=\\\\u/zzng\"\n",
      "'http://wg\\x0eFo?ow#lg.coqaRch?q=u/zng'\n",
      "\"ht(tp://wwwgoogle.co/se!arcj?`=fuzzi'ng\"\n",
      "'httpK://wg\\x0eGo?og#lw.coqaRch`q=u/zzng'\n",
      "'http://g\\x0eGSo?g#lg.boqaRch7q=uzznNg'\n",
      "'http:///wg\\x0egUo;mgle.c/msarb h?qfuzzcng'\n",
      "'htt://uww.google.kom/sHeabch?q=fuzzing'\n",
      "'http://wG\\x0eGo?og#lug.oaRch?q=5/zzng'\n",
      "'http:/w@wg\\x0ego;ogLe.comarchq=fwzjng'\n",
      "'AhtGtp://wgG$oog#lg.cgqach?q=Zu/zdzxng'\n",
      "'http://w\"wg\\x0ego;owle.Xcomsarch?q=fuzzng'\n",
      "'http:/www.google.com/s`earch?q=uzzing'\n",
      "'xtp://wg\\x0eG/og#lg.cgqaRh?q=u/zzng'\n",
      "'http://wg\\x0eGbg?og#lg.coqaRh?q=U/zzUng'\n",
      "'htt,p:/wwg\\x0ego;ogle.comsrarch?q=buzn'\n",
      "'http//wg\\x0eo/B og\"lg.cgqaRch?q?u/zzne'\n",
      "'httEp://wg\\x0eGn\\x7fog#lg.oqaRch??q=u/zzng'\n",
      "'http//wg\\x0eGob?og#lg.ucoqaYSchF?q\\x1dt/zzn=g'\n",
      "'hvtp://wg\\x0bo?og#lg.coqaRch?q=u/zzng'\n",
      "'http//wwg\\x0ego;ogle.comOsarch?1=fvzvzng'\n",
      "'http:/wg\\x0ego;ogle.comsarch?(q=fuzzng'\n",
      "'htp://wg\\x0eGo/o#lg.cgqaRch?qJ&=u/zzng'\n",
      "'Ttp:/wwg\\x0ego;ogle.comsa_rch?qv=fuzzng'\n",
      "'htt3p://wwe\\x0ego;ogle.comsarch?q=Afuz:ng'\n",
      "'http://wwg\\x0ego;ogle.com`sarch?q=hfuzzng'\n",
      "'ittp:/|gg\\x0eGo?o\\x03lg.coq9aRch?q=+u/zzng'\n",
      "\"http:/'wg\\x0eGo?Og#l.coqaWRch?=u/zznf\"\n",
      "'http://wg\\x0eGo/oo#lg.cgaRch?q=u/zzng'\n",
      "\"http://w\\x0eGo/o#glw.OoqaRch?q=u/zzn'\"\n",
      "'http://wg\\x0eGo?og#lg-coqaRch?q=u/zzng'\n",
      "'httt://wg.\\x0eGo?sog#lg.cOqaRah?q=uPzzg'\n",
      "'http://wgU\\x1eGo/og#g.cgqaRch?q=u/zzGng'\n",
      "'httpz/k/wg\\x0eGoog#l.cgqaRWhqu/uzng'\n",
      "'htt@p://www.Ygoo(le.com/search?q=fuzTzin'\n",
      "'ttp://wg\\x0eG\\x7f?oglg.cqaRch?Q=u/zz4ng'\n",
      "'http://cwg&\\x0eGo?og#lg.coqaRch?q=u/zzng'\n",
      "'http\\x1a//Wg\\x0eGo?og#lg.coqaRch?q=u/zzng'\n",
      "'htt:h//wwg\\x0eg;ogle.comsarh?q#=f-uYzzg'\n",
      "'http://wg\\x0eGo/og#lg.cgqach?q=u/PzznG'\n",
      "\"http:j//g\\x0eGo/og'.cqaRc>q=5/zzngI\"\n",
      "'Mhutp:,//wng\\x0eGo?og#l.cNoqaRhq=u/zzg'\n",
      "'(nttp>//wwg\\x0egoP;\\\\ogle.cosa2nch?q=fuzzg'\n",
      "'tap://1wg\\x0eGo/og+Gn.cgqRch?q=u?zzng'\n",
      "'http://wg\\x0eGo/ow#lg.sgqaRch?q=u/zzng'\n",
      "'htp://www.gooe.com/earcl?q=fu4zzing'\n",
      "'ht4p://wgGo?og#lg.coqARbh?q=u/zzng'\n",
      "'http://g\\x0eGo?og#lg.co1aRch?q=u/zzng'\n",
      "'htp://g\\x0eGo/og#lg.cgqaRch?q=u/zzng'\n",
      "'http:\\x0f/www.google.com/search?q=fuZzing'\n",
      "'http://wgk\\x0eGo?og#lg.cosaRch?q=u/\\x7fzzng'\n",
      "'ittp://wg\\x0eGo/og#lg.cg51aRch?q=/:zng'\n",
      "'http://wg\\x0eGso?og#lg.cMoqaRch?q~=uS/zng'\n",
      "'htu://wg\\x0fGo?og#lg.coqRcGh?q=u/z:ng'\n",
      "'http:/</wwg\\x0ef;pgle.coxmsah?q=fuzzng'\n",
      "'ttp://w6wg\\x0ego;oglecomsarFch?q=fuzzng'\n",
      "'htp://wg\\x0eGo?g#lg.coqaRch?q=u/zzng'\n",
      "'hutp//w2g\\x0cG-o?oggoqaRkh?q=u/zzng'\n",
      "'ht|p:o/wg\\x0eGo/og#lg.ScgyaR#hN?q=u/zzNg'\n",
      "'http://www.g\"oogle.com/jsearchq<fuzzing'\n",
      "'http://wg\\x0eGo/og3lf.cgaRch?q=u/zzng'\n",
      "'http://ww\\x0ego;gle.comsahp?,q=fuzzng'\n",
      "'httx:/?www.g\"oogle.bom/jsarchq<fuzing6'\n",
      "'http://g\\x0eGo?og#lg.coaRcLh?q}u/zzng'\n",
      "'http:/\\x7f/www.google^&comearci?Hq=fuzzij&g'\n",
      "'http:/swgLgo;ogle.coFSarch?B8q=fuzzNg'\n",
      "'\\x7fhttr://wg\\x0eGo/o#lg.c:gqaRch?q=w/zznu'\n",
      "'Phttp://www\"g\"oogle.com/jsgarcq<fuzing'\n",
      "'hutp://w\\x7fg;\\x0ewo;oglekomsArch?q=fuzzg'\n",
      "'tt/wwg\\x0ego;ogle.comsarch?q=fuzzn'\n",
      "'http://wuw.g\"oogle.com/ksearchq<fuzzing'\n",
      "'http://wCww.g*oogl.com/jsearchq<fuzzing'\n",
      "'http://ww.google6.coo/seaOrcvh?q=fuzing'\n",
      "\"http://wg\\x0eGo/ogylg.cgqaRcmh7yq9u/zzn'\"\n",
      "'htt0://ww.coowle.comserw[ch?q=furzing'\n",
      "'http://www.gooWgle\\\\.om/searc6h?=fuzzing'\n",
      "'http://www.g\"oglu.com/jsearcHq<fzzinG'\n",
      "'htp\\x1a//www.g\"oogle.comEjsearchq<fuzzing'\n",
      "'httEp://wg\\x0eG:o\\\\/og#mg.cgqaRch?qn=uzng'\n",
      "'http://wwg\\x0ego4+oele.cgmsa4rch?q=fuzzng'\n",
      "'htt`://wg\\x0ego3ogle.comsazch?q=Fuzng'\n",
      "'http://ug\\x0eGho.uo#lg.cg^qaRh?q=Wu/zzng'\n",
      "'http:/wg2\\x0eGPo?og3lg.oqaPch?q<w/zznG'\n",
      "'http://wwg\\x0ego;ogle.comsNarch?q=nuzzng'\n",
      "'(ttp:/w\\x7fww\\x0egooYgle.comsFearRch?q=fuzzing'\n",
      "'http:/owww.googlr.c&m/sealr#hE?yq=fuzzing'\n",
      "'http;//mwg\\x0eG/oo#lg.cgqUaRh?q=um/zzng'\n",
      "'lttp://wg\\x0ego4+oee1.cgosa4rc?Bq=fuzzng'\n",
      "'http:I//ww.goohe.comsearch?q=furz)ng'\n",
      "'http://w7g\\x0egooele.cg?msa4rc)h?q=uzz~g'\n",
      "'ittp:/w\\x0eGo?og#lg.co1aR#8h?q=u/zzng]'\n",
      "'http://wwW.g\"oogle.com/jsearchq<fuzzing7'\n",
      "'http:/www.google.com/Se-arc?q=fuzzing'\n",
      "'h&ttp:/wfg\\x0eGo?oG#lg.koqaRkqu/nzzng'\n",
      "'httz//ww\\x0ego4+oee.cgMsa4rch?qW=fuzz~%6'\n",
      "'http://wg\\x0e/Fo/og#lg.CgqaRh?=u/zzng'\n",
      "'http://wg\\x0ego;ogle/cmsarfch?q=fu`\\\\zzng'\n",
      "'htp://wwg\\x0ego4?+oele.cgmsa6rch?|q=fuzzng'\n",
      "'http://wwg\\x0ego9oghe_E.scomsarch?qfjuzzng'\n",
      "'http://wg\\x0eGo/oBg#lg.ggqaRch?qu/zzng'\n",
      "'hDttp://www.g\"oole.com/jsearchq<fuzing'\n",
      "'http://ww.oog|.com/search?qfuzzing{3'\n",
      "'htt://wg\\x0eGo/og#lg.cgsaRch=q=u/zzng'\n",
      "'hnttt:/wg\\x0eGm?og#lg.c1aRcChp=u/zrng'\n",
      "'httP1www.google&comm/serUch?q=fuzing'\n",
      "'ttp://wg\\x0eoa?og#lg.cqaRch?q=u/zzng'\n",
      "'httpc://wg-\\x0eOo/og#lg.cxgqaRch?q=U/zzngm'\n",
      "'http://ww\\x0eGo/oBgF#PgD.ggqaRch?qu/z\"znNg'\n",
      "'http://www\\x0egoogle.c/m/sapch;s=fzing5`'\n",
      "'hutKp//g\\x0cGo/og#lgcgqaRcq=u/zng'\n",
      "'http://wwG\\x0ego4+oele.cgmsa4rch?q=fu{zng'\n",
      "'http:D//www\\x0egoogle.c;/-spch;s=fzing5`'\n",
      "'http//wg\\x0eGo/og#\\x7flg.cgqaRch?q=u_/~~ng'\n",
      "'http:o/wwg\\x0e@go;ogle*.comwarc;q=&zzng'\n",
      "'xttp://www\\x0egoo6gle.c/m/sapch;s=fzing5`'\n",
      "'hvttp:W//wwv.g\"ogle.cm/Zjseciq<fuzzing'\n",
      "'hvtp://wg\\nGo?og#lg.coqaRch+?q=u/zzng'\n",
      "'http://\\x7fwg\\x0eo;ogle%.comsarch>s=guFzzng'\n",
      "'http://wwg\\x0ego;ole.omsarch?q=fzzng'\n",
      "'htBtp://www\\x0egoogle.c/m/pc;s=bszjg`'\n",
      "'h4tp://wwuw.goo[gle.comL/earch?jq<fuzzng'\n",
      "';huttp://wvg\\x0ego4+oele.cGms4rch?q=!fuzzng'\n",
      "'h4t;p://wc\\x0eGo/og#h4lg.cg1Rch?q=u/zzn'\n",
      "'Phtp://wwPego;oglecomwarch?q=fuvzz\"ng'\n",
      "\"htup://wg\\x0eGk/oBg#Algng'qaRch?qug/z{zng\"\n",
      "'htt$p://www.google.conm/seach?q=fuzzing'\n",
      "'{http:./wWg\\x0eg;og@le.cosarc(?q=fuozzng'\n",
      "'http://wwg\\x0ego4+oele.#cgms4rch?q=fuzzng'\n",
      "'chtp://www\\x0egoogle.c/m/sapch;s=fzing=`'\n",
      "'http://w\\x7fw/g\"oAogde.comr/j3earchq<fuzing'\n",
      "'htpV://\\x7fwg\\x0eo;og|le%.comwarch>q=guFzzng'\n",
      "\"httrp://wg\\x0eGo?o#l'.coqaRcWh?q=u/zzng\"\n",
      "'http:/www\\x0egoogle.c/m/sapch?s=fzing5`'\n",
      "'(ttpi://wg\\x0eGo?og#lg.ckqaRch?=u?zzng'\n",
      "'httpg://www.gooPgle.com{/sevh?q=fuzXing'\n",
      "'http://wg\\x0eG/n8Bg#lg.eoqayR0ch?qu/zzng'\n",
      "'http:/wg\\x0eMGo/kbg#lg.ggqaRch?qu/zzng'\n",
      "\"http{://\\x7fwg\\x0eo;ogle%.c'omsarch>s=guFzzng\"\n",
      "'http://www\\x0egomgle.c/m/sapch;hs=fzingr5`'\n",
      "'htp//wwg\\x0ego;ogle.bosarch?q}=9fuzzng'\n",
      "'htp:/\\x0fwwwx\\x0egogle.Ic/m/saph3s=f7zing5`'\n",
      "\"+http://wg\\x0eGo/oBg#lg.ggqaRch?qu'zzng\"\n",
      "'ttp:/wg\\x0eGo\\x0fog3lg.wqaRch=q=u/z|zznHg'\n",
      "'http://wg\\x0eGo/oBg#lg.egnq`Rch?u/zznG'\n",
      "'http://www\\x0egoole.c//sapc;s=fzing5`'\n",
      "'ittp:/ww\\x0ego4+alecg/{$a4rch?q=fuzzng'\n",
      "'http://w\\x0eGo?og#lg.coqaRch>q=u/zzng'\n",
      "'http://wwg\\x0ego4+oeleX.cgms~.a4rch?q=fqzzng'\n",
      "'httxz?/www.googl3e.com/search?q=fuzzin,g'\n",
      "'http2//www.googlencom/search?q=fNuzzi'\n",
      "'hldXtp://wg\\x0eGo\\x0fg#lg.gg5[qeaRch?qu/zz.g'\n",
      "'1htp:/?/wg\\x0eGo/og#lg.cgqaRch?q=u/zzng'\n",
      "'http://www.oog#le.com/search?q=fuzzing'\n",
      "'http://www.goNole.m/search?q=fuzzing'\n",
      "\"ht|p:/ /wg\\x0eGo/u\\x7fo#lg.c'gqaRch?q=u/z9zjB\"\n",
      "'htu://wwg\\x0ego4+oelDe.cemsarch=vzzng'\n",
      "'ju}p://7\\x7fTwg\\x0eo;\\x7fgle%.#omsarch>sA=gduFzzng'\n",
      "\">ohttrp:'wwg\\x0ego4+oelu.cgmsa4rah?q=fuzzng9\"\n",
      "'htr://wgg\\x0ego;ogle.comsarch?q=furng'\n",
      "'http://wwg\\x0ego4+oel}e.cgmsa4=sch?=fuzzng'\n",
      "'http/?www.gmole.com/searh?q=fuzjk=ng'\n",
      "'httph:W/u/www.Wgx/le.c/m/rapch;s=fzing5`'\n",
      "'http:d//www.google.om:/search?q=fuzzing'\n",
      "'htt00://wg\\x0eGo/oUBg#lFg.ggqaRbh?4\\\\qu/zzng'\n",
      "\"http/'wwg\\x0ego4+ole.cgmsa4rch?q=fuzzng\"\n",
      "'http://wg\\x0eGK/oHg#lg.cgqaRch?q=u/zzng'\n",
      "'http//ww\\x0egoogle.s/m/sapch;s=fzing5`'\n",
      "'http:j//www.c\"oowle.kom/jseachq<zzig'\n",
      "'hptp://\\x7f\\x7fg\\x0eo;ogle%.comsarch>s=guzzn'\n",
      "'http://ngww.g\"dokgle.cm/jSearchs<FuzziHng9'\n",
      "'http://wuw.Lg\"\\x7foglecol/je-archq<fguzzng'\n",
      "'http://wwg\\x0ego;ogle.comsrch?q=fuzzn'\n",
      "'hNttp://ww.google|.ck/search?q=7fuzzIng'\n",
      "'http://gwg\\x0ee o4+omle.cgmsaA4rch?q=fudzzng'\n",
      "'http:/\\x7fe\\x0eo;ogle%.comsarh>s=guFzzng'\n",
      "\"htp:/wg\\x0eGo/og#lg.cgqaRch?q=u/rzn'\"\n",
      "'http://Nwg\\x0eo/o#lg.gqaR[cCLh?q=/zzg'\n",
      "'htp://w~.google.com/searci?q=fuzzing'\n",
      "'http://www.g\"oogle.ckm/jsearchpq<fezzng'\n",
      "'htTp2/wwM\\x0egoowlench/m/sapc;s=fzing5`'\n",
      "'http://\\x7fsg\\x0eo;ogle%&omhsarkh>q=guFzzng'\n",
      "'htp://wG\\x0eGj{o/oEBg#lg.ZpggqaRch?qu/z{ng'\n",
      "\"ht|p:-/wg\\x0eGo/oBg#lg.ggqaRcqu/Fzzn'\"\n",
      "'http:/www\\x0egoogle.c/m/sapch;s9fzin5`'\n",
      "'(http:+/bwww.eoog3le.com/qearch?=fuzzing'\n",
      "'http://wg\\x0eGo?og#lg.c/qaRch?q=u/zzBg'\n",
      "\"htp:\\x0f/www.gmoglg>somW/search?q=f'zing\"\n",
      "'h?ttp://ww\\x0eg[oogle>c/m/sa`h;s=ding5=`'\n",
      "'http://\\x7fs\\x0eo;ogle%&ohsarkh>:q=guFzzng'\n",
      "'htpD://w.g\"o\\x7fgnlecom/Jsearchq<fuzzing'\n",
      "'http://wg\\x0e%Go?ogy#lg.co;qaRkh?q=u/zng'\n",
      "'httq://wVg\\x0eGo/og#g.cgqa>Rch?q=u/zzno'\n",
      "'http://www.g\"oole\\x0ecom/jseachq0<fuzing'\n",
      "'http://\\x7fwg\\x0eo;ogle%.comcarch?s=guFzzng'\n",
      "'http:/K?we\\x0eGo/og#lg&cg?qaRch?qu/zzn9g'\n",
      "'http://www.g\"ogle.com/jsearchq<fuzzing'\n",
      "'http://wws.googleJ.com/seargh?q=fzzin'\n",
      "'ttp-/wgp\\x0eGo/o=Bg#lg.ggqagRchQ?qu/zzng'\n",
      "'http//\\x7fwg\\x0eo\\x1bogle%.ecoisarch>s=guFzzng'\n",
      "':http://ww\".google.com/sech?q=fuzzi7ng'\n",
      "'ttp/iwg\\x0eGo/oBg#lo.gnguaRkh?u/zzng'\n",
      "'http://uww.g\"oogle.c2om/jsearc[hq<fuzzing'\n",
      "'htt://Sg,\\x0eoogl<e%&nmh{arkbh>q=guFzzng'\n",
      "'http//wfGo/oBg#lg.ggqaRch?qu/zzng'\n",
      "'\\\\http://ww\\x0eGooBg#h.ggqaRch?/qu/zzno'\n",
      "'http://w\\x7fw3.g\"oogle.com/jearVchqfuzzin'\n",
      "'http://wwg\\x0eooogLe.coearch?quzzng'\n",
      "'http://www.g\"oogleuncom/jsearchq<fuzzinf'\n",
      "\"http:'/wwv.google.kgm/earch?=f+uzzng\"\n",
      "'http\\x1a//wwg\\x0ego;ogle.comsach?q=fuzzng'\n",
      "'htp:/R/ww\\x0egoo}glc/m/sachs=fzi1ng5`C'\n",
      "'vjttp://_se\\x0eo;ogle%&oihsakh>q=guFzzng'\n",
      "'htp:/N/g\\x0eGoBg#lg,gqaRc?qu/zzng~'\n",
      "'http://wg\\x0eGo^/tog#lgf.cgqaRch?a=u/zznbcg'\n",
      "'http:/ww.g\"oowgl3e.om/jearchq<fuzzing'\n",
      "'http:S//wg\\x0eGo?og#lg.coqaRc?q=cu/zzng'\n",
      "'http://wcw\\x0egg4+oele/cgmsa4rch?q=fuzzng'\n",
      "'http:-/ww\\x0egoogle.c/Zm/sapch;s=fzqy}ng5'\n",
      "'http:/?/\\x7fsg\\x0eo;oglBe%&ormhsazkx>q=geFzzng'\n",
      "\"http://wg\\x0e/Bg'lg.gGqaRch?q<-`u/zzng\"\n",
      "'http:/7g\\x0eGo/oBg#lg.ggq3aRch?qu/zzfgY'\n",
      "'http://www.gokgle.pcm/search?q=fuzzig'\n",
      "'`ttp://www.g\"oog]le.com/jsearhq<fuzzLing'\n",
      "'http://\\x7fsf\\x0eo;gle%&ohsarkh>q=guFz~g'\n",
      "'tpp://wwg\\x0ego;3ogle.comsarchq=uzzng'\n",
      "'h3tt:+/kwww\\x0egoogle.cm\\x0fsach;s=fzing5`'\n",
      "'http:+/\\x7fAwg\\x0eo;%ogl%.gPomsarch>s=guFzg'\n",
      "'http://*w\\x7fw\\x0egoogle.c/m/sapcH;s=fzVinf5`'\n",
      "'http://ww.goomgYle.coLm/search?q=fuzzing'\n",
      "'http://wwggo;ogle.copmsarcDh?q=fuzzn'\n",
      "'http:z//ww.go/gle,gm/earch?q=fuzzi9c'\n",
      "'h#ttp//www\\x0egnogle.c/mqaph;s=>fIzing5`'\n",
      "'htp>//wf\\x0ego;ogle.cmsarch?Nq=fuzzng'\n",
      "'http://wg\\x0eGo/og+lg.gRch?q=u/Yzzng'\n",
      "'http//wg\\x0ego;ogle.comsarch?q=buzzng'\n",
      "'http://www.g\"oggme.#om/jse3archq<fuzzing'\n",
      "'http//wg\\x0eGo?og#lg.goqaRch?q=u/zznG'\n",
      "'http://vwg\\x0eGo/oBg#lg.ggqaRkh?qu/zzng'\n",
      "'http<://_wg\\x0eo;ogle.c%msarch>\\x1dgwFzzng'\n",
      "'hWttp//w\\x0eo;ge%.coms!rch>s=guyFzzng'\n",
      "'http://www.\"oogle.comM/jsearchq<fuzzin'\n",
      "'h^ttp:o/wc\\x0eGo?og#lg.coqaRch.?q=u/zzng'\n",
      "'\"Qhttp:/\\x0fwwUg\\x0ego4)oele.cgmsa\\x14rch\\x1fq=fuzzng'\n",
      "'jt-tp://www.g\"oogle.com/jsearchq<u{ziing'\n",
      "'http://wg\\x0ego+oele>cgmsa4rch?q=fUzzng'\n",
      "'http://\\x7fwg\\x0eo;ogle$.oarch>s=guFzzng'\n",
      "'http://wwg\\x0e}go;ogl.co`mSarcj?=fuzzngf'\n",
      "'http://>wg\\x0eGo/oBg#lg.gqaARch?qu/zzfg'\n",
      "'http://(wg\\x0eGo/og#lg.cgqaRch?q=u/yzzn'\n",
      "'http://wg\\x0eGo/o#lg.cgqaRch;q=u/zzng'\n",
      "'http://www.g\"oogle.comu/jsearchhqfuzzing'\n",
      "'htjtp://ww.\":ooglecmM/jseapgh5q(<fuzz5in'\n",
      "'ltphp:/.w.wwgoogAle.c/m/sapcj;s=fzing5`'\n",
      "'hSttp:/owww\\x0egoogle/m/shapch;s=fzing5`'\n",
      "'yyhttp//wwg\\x0ego4oele.cgesa4rch>q=fuzzng'\n",
      "'htt`://ww\\x7f\\x0egokle.c-m/sapch;s=fzine=`'\n",
      "'ttp://\\x7fwg\\x0eo{ogle%.comsarch>s=gjFzzng'\n",
      "'http//ww.\"ooleR.csom^M/jsearhq<fuzin'\n",
      "'htp://www\"oog\"le.co/jsuearchq<fuzz'\n",
      "'ttpg://hwwg\\x0eo;ole.comsar$ch?+Uq=fuyzszng'\n",
      "'http:/t/ wwg\\x0ego4+oele.cgsa4rch?q=fuzzng'\n",
      "'http://\\x7fwg\\x0eo;oglve%.\\x7fmsqrch>s=guFzzng'\n",
      "'http://www.g\"oogle.coMm/jserchq<fuzzing'\n",
      "'http:\\'/wg\\x0eGo/oB\"g#g.ggqaRch?qu/zzng'\n",
      "'http:/>/www.google.com/searcfh?qg=fuzzng'\n",
      "'htt://wg\\x0e[Go/\\x7foBg#lggqaiRch?qu/:zng'\n",
      "'http:/www.\"o\\'ogle.comM/js)Dar2chq<fuzzin'\n",
      "'hp\\x7fp:/K/wg\\x0eGo/odBg#lg.gga_Rsh?Qyu/zzng'\n",
      "'http://g\\x0e7Go/og#lg.cgqaRch?q=u/zzn'\n",
      "'http://\\x7fsg\\x0eo;og,e%&Cohsarkh>q=guFzz~g'\n",
      "'http://\\x7fqo\\x0eo:oge%&mhsrkh>q=guFzzng'\n",
      "'h4tp://wwg\\x0ego;ogle.comsarch?qO=fuzz!ng'\n",
      "':h4tp//wgGo?o{g#lg.coqaRch?q=u/zng'\n",
      "'xttp://\\x7fs(g\\x1eo;ogle%&omhsearkhq=guFzzng'\n",
      "'ttfp://wwwY\\x0eg7oggde.c/m/sapch?s=fzingi5`'\n",
      "'http//wgf\\x0eW4o/oBglg.ggqaRch!?q/zzngQ'\n",
      "'http://wwoogl pe.com/seAMrc?q=fuzzing'\n",
      "'http://wwFw.gsoogjlecom/Csarch?q=fuzing'\n",
      "'http://wf\\x0eo;yogle%.comsarchs=gwFzng'\n",
      "'http://wg\\x0ego9ogle.omsarcj?=fzzng'\n",
      "'http://wg\\x0eG/oBg#lgngqaRch?qu/zzng'\n",
      "'h6ttp://\\x7fg\\x0eo;gle%&omhsarkh>q=gqFzng'\n",
      "'htp://wwjg\\x0egn;ogle.comsarch?qfuz!~ng'\n",
      "'ttp://w\\x0eGoog#lg.coqaRch?q=u/zzng'\n",
      "'http://wwg9\\x0egn4+Yoele.cga4rch?u=f~uzGzng'\n",
      "'http:/?\\x7fgo;oxle%.comsac;h|>s=gumFzzn1g'\n",
      "'ht|p://www.goOogle.com/search?q=fuzzing'\n",
      "'htvp:`//\\x7fwg\\x0eo;ogle%.comqazc>s=oFz\"zn'\n",
      "'http://\\x7fwg\\x7f\\x0em;ogle(%comsarchsgUFzzng'\n",
      "'http:+/www\\x0egoog&le.c/m/sapch;s=fzing5`'\n",
      "'http:/wog\\x0eGo/og#lg,cgqaRch?y=u/zzn|g'\n",
      "'ittp://wg\\x0eG?g?ogclg.coqaRc?q=ou/QZzng'\n",
      "'http://wwg\\x0ego4+o$le.cgmsa4rch?q=fuzzng'\n",
      "'http*//wg\\x0eGooBg#lg.ggaSch?qu/zzw'\n",
      "'htv<p://wg\\x0eGo/oBg#lg.ggqaRch?qu/zzng'\n",
      "'http:/-wsw.Qg\"ogle.coM/jsearuchq<nuzzing%'\n",
      "'http://wg\\x0eGo?oeg#_lg.coqaRch7q=u/zng4'\n",
      "'http:/\\x0fwwg\\x0ego;ogle.cyomsarch?q=bu{Zng'\n",
      "'tvp://ww\\x0fGo/gg#.lg.cgqaRchq=u/zznng'\n",
      "'htpp://wg\\x0eGo/oBg#lg.ggqsaRch?qu/zzng'\n",
      "'httpx:\\x0f/wg\\x0eGJo?og#l*coqaRch?q=u/zz$ng'\n",
      "'http:/\\x7fwg\\x0fo;ogle%.cosarcxh>s-guzng'\n",
      "'Zhttp://www.g{oog`Yde.comsearch?qfuzzig'\n",
      "'htp:o/wgGo?og#ilc*k+qaRh?q=u/zzng'\n",
      "'http://rg{\\x0eo;ogme%&omhcs!rkhZq=guFzzg'\n",
      "'http:/>/wg!\\x0eGo/oglg.cgqaRcH?a=u/Hzzng'\n",
      "'h!tt://wg\\x0eGo/nBg#lg.ggqaRch?qu/zzng'\n",
      "'htp://wwg\\x0egk4+oele.cgmsa4rch?q=fuzzngW'\n",
      "'tt0://wg\\x0eGo/Bglg.ggqa\\x12ch?qu/zzog'\n",
      "'http://wwg\\x0ego;ogyle.comsarch?q=fuzzng'\n",
      "'Tht&tp:/?\\x7fwg\\x0eo;ogne%.comsarch>s=guFzzng'\n",
      "'b1http:./wwew\\x0eoogle.pcm/saph;s=Fzing5`'\n",
      "'h|tp://www.\"oogl.c2omM/jselac3hy<f5xzzhn'\n",
      "\"hdtp:/3/ww'\\x0ego;Lolge.cosarcj?q=fu2zng\"\n",
      "'http://wwg\\x0ego;ocle&.comsarch?=5fzzng'\n",
      "'http://\\x7fsg\\x0eo;ogle%&omHsarsh>=q=wBzzng'\n",
      "'hZttp:o+vw\\x7f\\x0e/ogc4le.c/m/sapkh;s=fzing5`'\n",
      "'Htt:/we\\x0eGo/og+lg.cg:QaRh?q=u/zzng'\n",
      "'http:/\\x7fw\\x0e\\x7f;ome%.comsarch>s=guwFFzzg'\n",
      "'ttp://wwg\\x0ego4+oele.cgmsa4rch?q=fqzzng'\n",
      "'http://www\\x0egoogle.c/m/spch;s=fjing5`'\n",
      "'ht,tp://www\\x0e/ogle.c/m/sapch;s=fzing5`'\n",
      "'http://w\\x0eGo?g#lg.coqaRch?q=u/zzng'\n",
      "'hutp://\\x7fwgw\\x0eo;ogle%.comsqrch>as=guFzzng'\n",
      "'http:6g//www.google.com/search?q=fuzzing'\n",
      "'htTp://ww\\x0egooglm.#/m/sapch;bs=fzi3ng5`'\n",
      "'http://wwggo;ogl|e/comc+arch?q=gzrng'\n",
      "'htt://\\x7fwg\\x0e{oglu%.comqach>s9)guFzzng'\n",
      "'http!://wwgg^o;og]Le.comsarch?Js=uzzng'\n",
      "'htTp://ww>googlm/./m/Archs=fzi3ng%5`'\n",
      "'http://wg\\x0egoq;ogle.gomsarNZch?q=dzzng'\n",
      "'http://wwg\\x0ehgo4+Yoele.cgmsa4rch?q=fuzzng'\n",
      "'htp:/w7g\\x0ego-;>ogl.com_saHrch?q=.fuzzg'\n",
      "'htTxA:/wwgooglm/.:/m/Arfch=fzing\\x05\\x15`'\n",
      "'http:-/wwg\\x0egm4+oele.c}gmsa4rch?q=fuzzng'\n",
      "'xtdp*//\\x7fsg\\x0eo;zogle%&omhsar\\\\k6q=EguFzzng'\n",
      "'hXttp:+/wg\\x0e:Go/og#lg.Y#cwqah?q=u/{z$ng'\n",
      "'http://\\x7fsg\\x0eo!;oge%&omF(sarkh>q=gFzzng'\n",
      "'http://Hwwg\\x0ego4+oele.cgmsa4rch?q=f5zzng'\n",
      "'htv://ww.\"lOogle.comMjearch<f_uzin'\n",
      "'htTp:/Z/ww>googl3m/./m/rchs=fz`i3ng%5`'\n",
      "'htt://\\x7fsg\\x0eoN;ogle%&omh\"sirkh>q=guzAZng'\n",
      "'htp://v\\x0eGo/oBg#lg.ggqaRch?qt.z|zng'\n",
      "'http:o/ww\\x0ego;ogle7.cosarch?sfuzzng'\n",
      "'http://Mwwg\\x0ego4+oel.cgmp3usa4r?q=fzzng'\n",
      "'http://\\x7fsg\\x0eo;ogle%&\\x7fmhsark9h>q=guFzzng'\n",
      "'h4p://www.ogle.com/se\\x7farch?q=fuzzing'\n",
      "'http://www.g\"ooglecom/jserchq<fuzzing'\n",
      "'htt2p:/!/ww-wgoogle.co&m/search?q=fuzzing'\n",
      "'http://7g\\x0eGo7/og#lxg%.cgqaRch?q=q/:zw'\n",
      "'hnttp://\\x7fg\\x0eo;oqgle%&o}hsaklh>q=guFzzng'\n",
      "'http://www\\x0egoogle.c/Mm/sapch;s=fzino5`'\n",
      "'httpQ://wg\\x0eGo/g#lg.cgqaRch?q=u/zxng'\n",
      "'http://wwg\\x0ego;gle.Comsarch?q=fuzzng'\n",
      "'htt://wg\\x0eo/oB&g#lg-.geqaRch?qu/zrng'\n",
      "'jttp:/UB/\\x7fsg\\x0eo;oglaD%yomh9sarkh6q=cuFzzng'\n",
      "\"http://www.gvoohe.com'bse[archq<fuzzin\"\n",
      "'http:k//wwg\\x0ego+oglex.comsaRch?q=fuzjng'\n",
      "'htptp://wg\\x0eGo?Cog#lg.coa#aRch?q=/zzng'\n",
      "'http://ww2ggo;ogle.comsarch?q=fuzzng'\n",
      "'http:/wwg\\x0egoK4ozele.sgmsach?q=fqzzLng'\n",
      "'hvtp://(wwg\\x0ego;ogzle.comsarch?q=fuzzng'\n",
      "'http2//www\\x0egoogle.c/m/spch;s=fz)G5`'\n",
      "'htTp://ww\\x0egooglm.#/m/spch;bs=fziy3ng5`'\n",
      "'hvtcp://0wg\\x0eGo/oBg#lg.ggqaRch?qu/zzng'\n",
      "'httq:\\x0f.w@gww.g\\x02Roogle.com/jMsearchq<fuzzing'\n",
      "'http://wg\\x0eGo?o#lg.coq aRch?ql=u/zzng'\n",
      "\"htp://wwg\\x0ego;ogle.comsarkh?qc=fu5'zzng\"\n",
      "'htTp://ww~goomglm/./m/Archs1=fzi3n%5`'\n",
      "'htp://\\x7fwgo;oc%\\x0ecoescrch>sgu~Fzzng'\n",
      "'`ttp://wg\\x0eGow/o#lg.ggXqaRch?auq/zzn'\n",
      "'http://wwgr\\x0ego;sogle.omsarch/q=fuzzng'\n",
      "'http:k//www-.\"oogle.comM+jsArchq<fuizzin'\n",
      "'hhtt8p://www\\x0eg\\x7foglec/m-sapch;s=fzing5`'\n",
      "'Http://wg\\x0eGo/og#lg0nc[fqaRch?q=e/zzng'\n",
      "'ghTtp://ww\\x0eBgmkglm.#/m/sapch;bs=fza3ng5`'\n",
      "'htVtz0://wg\\x0e\\x07o/o#lg.cwqaRch?q=u/zznXg'\n",
      "'http://vg\\x0e|\\x1aGoooglg.cgqaRch?q=u+zz\\\\l\\\\g'\n",
      "'ittdp//wwg\\x0ego;ogle.coms#rch\\x7fu=fuzzng'\n",
      "'http://wg\\x0eG`/og#lg.cgqrch\\\\?=u/zzng'\n",
      "'http:/t\\x7fwg\\x0co;Ogle%=.coamsarh>sguBzzng'\n",
      "'http:+/wwg\\x0eg4+oee&cgsa4rch?q=fzznGg'\n",
      "\"httpg:/.wwgb\\x0egO;owleJ'omsarc?q=fuzzng\"\n",
      "'httP://\\x7fwg\\x0eo;ogle%.comsarch:>s=?guFzzng'\n",
      "'http:-/\\x7fse\\x0eo;ogle&omharkh>q=guFzzng'\n",
      "'oh-tXtp:/ww\\x7f.g\"oogle.coo/jsearchq<fuzzing'\n",
      "'http:+wg\\x0eGo?g#lg.c\\x7fq!aRch?q=u/zzng'\n",
      "'http://www.P\"ooglE.comM/*searchq<fuzzin'\n",
      "'h4Tp://ww\\x0e]goowglm.#/m/sapch;bs]fzi3otg5`'\n",
      "'http:?/1www.google.com/sevch?q=fuzzsing'\n",
      "'h ttP:\\x0f/\\x7f_g\\x0eo;ocle%.comsarch>[=?guFfzzng'\n",
      "'htTp://ww\\x0egmolrm.\"/m/saphbs=fzi3ng5`'\n",
      "'htp://wwwg+4\"oogle.com/jsearchq<fuzz\"iwgQ'\n",
      "'htTSp:/?lww\\x0egooglmb.#/msacOh;bs=zi3n[g`'\n",
      "'htTp://wwgmogDlm\\x0e#/msapch;bs=fzi3ng5`'\n",
      "'http://wwwg\"kogle.com/jsearchq<fuzzing'\n",
      "'http:-/w\\x0eGo?og#lg.coqaRch?q=u/zze'\n",
      "\"hv:/wg\\x0eGo/og#g.gqaRh?q=u'zz.g\"\n",
      "'http://www.gogle.com/searsh?q=fuzzing'\n",
      "'htTp://www.g\"ooglE.com/jsearchq<fuzzing'\n",
      "'htt.8p://Uww\\x0egoogle.c/m/sapch;s=jfzing5'\n",
      "'http://wg\\x0eGU/og#lg.cgqaRch?q-u/0zzg'\n",
      "'httpz//\\x7fsg\\x0eo;ogle%&omharkh>q=guFzzng'\n",
      "'http:e//wwg\\x0ego4+oelecmsa4rch?q=fLuzFzng'\n",
      "'h;ttp://g\\x0eGo/oBg#lg.ggqaR&ch?qu/jzng'\n",
      "'htt`://www.G+\"oogle.com*5/jsearch<<fuzzan'\n",
      "'htp://\\x7fSg\\x0e`o;ogl/e%&omsarkTh>q=guFzzn;g'\n",
      "'http://www.google.com/serch?q=fpzzing'\n",
      "'http://www.\"oogle.comM/*seNarchq<fuz~in'\n",
      "'http://wg\\x0cgo+oele.cgmsa4rch?q=fuzzg'\n",
      "'hTtp://g\\x0eGoBo#lg.ggSch?qu/zzng'\n",
      "\"http://wgGo/og#lg.cgqaRch?q=u'zzng\"\n",
      "'http://wg\\x0eGo?glg.:coqaRch=q=u/zzng'\n",
      "'htt0:/w&g\\x0eGo/kBTg#g.gSgqaRc/h?quzzng'\n",
      "'http://www.o\\x7foge.com/se3b\\x7fc?q=fuzzng'\n",
      "'htuq:/?www\\x0egoogle.ckm/SseQpch;s=fzi7n5`'\n",
      "'hTtp://sg\\x0eol;ogl;e%&omhsarkh>q=jguGzzng'\n",
      "'htp://wwg\\x0eg4+ole.cgms4rch?q=fzzng'\n",
      "'ltTpF://ww>gogglm/./mnArchs=fz3g%5\"`'\n",
      "'Thdtp//vg\\x0eGo?o#g.coqaRch?q=u/zzng'\n",
      "'http://www.g\"oogle.coRm/jsearchq<fuzzin'\n",
      "\"httSp://'\\x7fsg\\x0e\\x7f;ogl&omhavkh>qw=gFzzng\"\n",
      "'htp://www<google7./m/sapch;fzing5L`'\n",
      "'htUp://www.google.com/search7q=fu{zing'\n",
      "'htp://Qww\\x0egoglm.#/m/sapCh;b=zi3ng1`'\n",
      "'htEtpB:/wg\\x0eGo/osg#dg.cgqaRch/q=u/zzng'\n",
      "'http://w=g\\x0eVo/ogu#L\\x0cg.cgqaRch?q=u/zzng'\n",
      "'tp://wg\\x0eGo/oBg#lg.ggqaRchqu/zzng'\n",
      "'tTp//ww>googlm\\x0f,/m/ArcjS9zi3n%5`'\n",
      "\"hTt:'/w\\x0eGo?og#lg>.coqaRcx?q\\x1du/zznZg\"\n",
      "'Lhttp:/www\\x0egoogble.c/m/s8apch;s=fzing`'\n",
      "'httet://v1ww.w\"oogle.comjsearchq<fuzing'\n",
      "'http://www.\"oogle.omM/jsearchq<f7uzzin'\n",
      "'http://\\x7fsg;ogl&omhsafkhq=g}FzznG'\n",
      "'htp>//\\x7fwg\\x0eo;ogle%.comsarchs=guFzzng'\n",
      "'http://wwg\\x0ego2;ogle.cgms2arah?q=uxzg'\n",
      "'hTtp://sg\\x0eol;ogle%&omhTsarkh>q=jguGzzfg'\n",
      "'XhOtdp://www.g\"otogle.com/jsearhq<fuzzing'\n",
      "\"http:'/www\\x0egogle./m/apchy;3=fzing5\"\n",
      "'httP://\\x7fwg\\x0eo;o8gle%.comsarch:>s=?uFzzng'\n",
      "'http://wg\\x0e+Go/ov=g#hg.cgqaRch?q=u/zzng'\n",
      "'htp://wg\\x0eOo/oBg#lg.egqaRc?qu/zzng'\n",
      "'ht4p://wg\\x0eGo/og#lg.cgbqaRch?q=u/zzA1ng'\n",
      "'httpa://www\\x0egogle.c/m/sapyc;s=fxing85`'\n",
      "'http://wwwg\"oogle.`com/jsgarchq<fu{zing'\n",
      "'htp:/-\\x7f4cw\\x0eo;oglE%.c|omsa2h>s=guFzzng'\n",
      "'htT://ww>google/./m/Arch=zi3ng%5`'\n",
      "'httP://\\x7fwg\\x0emo;ogle!%.comsarch>>s=Y?gFzzng'\n",
      "'htTpd://ww>goolu/.M/\\x7f/Archs=fi3n%5`'\n",
      "'jttp://wg\\x0eo?Kog#g.coqaRch?q=u/zzng'\n",
      "'htTp://ww$\\x0egoelm.#/m/sapch;bs=fzi3ng5`'\n",
      "'hdtP://www.gooGle.co?search?q=fuzzig'\n",
      "'http:/wwL.g\"oogle.coSm/jsearchq<fuzzingb('\n",
      "'hTtp://sg\\x0eo|3ogl;e%&omhsarkh>q=jgSuGzzng'\n",
      "'http://\\x7fsg\\x0e;oge%&omhsarkhq=uFzzngh'\n",
      "\"htTp//ww>'ooglm/./m/Archs=fzi3ng%5`\"\n",
      "\"tmtp://wg\\x0eGo/oBg#lg*g'qRc`?qu/zzng\"\n",
      "'httq://www.\"oogle.com/jseachq<fwzz+ing'\n",
      "'hTtp:/sg\\x06oL;ogl;e%&omhs#akh>Mq=jgePGzzng'\n",
      "'http?//Zwww.\"oogle.comM/jserceh<fU~zi'\n",
      "'htp/oww\\x06google.c/m/Dsaph;sfzinvg5`'\n",
      "'http://wwg\\x0eo;ole.Cowsrchq=fuzzjg'\n",
      "\"Hhttp://wg\\x0eGo/oBg#l.'gqaRch?qu/zAzng\"\n",
      "'uhttp://wwg\\x0ego;ogla&comsarc?q=fQuzng'\n",
      "'http://wg\\x0eG/oBg#g.ggqa)chAqu/zzng'\n",
      "'ttp/:/Zf?wwg\\x0e=go;obgle.comsarch?Dq=Bfuzz+ng'\n",
      "'htp://\\x7fEsg\\x0eo;Nofle%omhsahrkh<q=guFRzzng'\n",
      "'h2!ttp://wg\\x0eGo/og+lg.cgqiVohZ?q=u/zze'\n",
      "'http://wSgGo0/oBg#lg.ggqaRch?qu/zzg'\n",
      "'http://wg\\x0eZGo?oc#l.coqaRcj?Qq=u/zzng'\n",
      "' htt+p@://wg\\x0eGo/og#lg.cqaRch?q=u/zzng'\n",
      "'htTp:&//ww\\x0egEooglm.#/m/sapch;b=fi3ng5R`'\n",
      "'http://wg\\x0eGo?og#lg.cqaRch?q=u/zng'\n",
      "'hptp://wg\\x0eFo?og#lg.coeRc#h?q=u/zzng'\n",
      "'http://w)Wg\\x0eGo/og#lG.cqaRch?q=u/zzng'\n",
      "'http://wg\\x0eGoI/oBg#lg.ggqaRchquzng'\n",
      "\"http:9\\x7fv'\\x0eo;ogle%.osarch>s=gqFzzng\"\n",
      "'h|ttP://\\x7fwg\\x0eo;ogle%.comsarch:>s=?guFzzng'\n",
      "'Ttp~://x\\x7fs!g\\x0eo;ogleH%omhsarkh>q=7guVFzzng'\n",
      "'http://wwg\\x0ego4*oel%.cgms/a4zch?qfuzzng'\n",
      "'htTp://ww\\x0egooglmu.#\\x0fm/apcDh;bs=fzi3ng5`'\n",
      "\"hlttp:/.g\\x1eGo?og#lgm.coqaRc?q=u/zzng'\"\n",
      "\"hTtp:'/sgo;\\x7fgL;e%&omsa4orkhq=jguGzzng\"\n",
      "'http://wg\\x0eGo/o#lg.cgqRch?qu/zz~ng'\n",
      "'http://www.g\"o\\x7fgle.com/jseVarchq<fu~zing'\n",
      "'http://www.\"oogle.comM/searchq<fuzpin'\n",
      "'h4tp://wo\\x0egZo;oglm.co6sarch?q=fuzzng'\n",
      "'hdTp://ww>googm/./m/Arcs=fzi3ng%5`'\n",
      "'http:O//w#wg\\x0eeg;ogle.comqarh?5fvuzxng'\n",
      "'http://\\\\wg\\x06GooBg#lgco,wgqach?q}/zzng'\n",
      "'httpr://wwg\\x0ego;ogle.comsarch?q=fuzng'\n",
      "\"htTp://ww>googlm/.'m/Archs=fza3ng%5`\"\n",
      "'http://wg\\x0eWooc#lg.cgqach?q=u/~zg'\n",
      "'htt://wg\\x0eGo/og#logqaZch?u=u/zng'\n",
      "'httP://\\x7fwg\\x0e(9ou;ogle%co[msarch:>3=N?geNzzno'\n",
      "'-Http://wg\\x0eGo?og#lQg.coqaZch?q=uzznrg'\n",
      "'http://ww\\x0egOogleP.c/m/ sapch;s=fzinYg5`'\n",
      "'htt://ww.Rgoogle,com/seArch?q<fuzzing'\n",
      "'http://w`ww.g\"oogle.com/jse8archq<<fuzzin3g'\n",
      "'htP//\\x7fwg\\x0eo;ogle:%.+comabh:>s=?gouFzzg'\n",
      "'httr://wgoglEce.om/seZarch?q=fuz~ing'\n",
      "'hTtp://jg\\x0e\\x7f;ogl;e%&omhsarkl>qs=jguGzzng'\n",
      "'http//www.\"%oogle[.comM/jsea%rchq<fuzzk.'\n",
      "'htt%PJ://uww.c\"oogle.com/jserchqfuzin'\n",
      "'http://Dwg\\x0ego4+oele.cgmsa4rchqZduzzng'\n",
      "'htp:/wwg\\x0ego;ole>comcarh?q=fuzng'\n",
      "'ttp:/o\\x7fsg\\x0eGo;oglMe%omharkh>q}guFzLng'\n",
      "'fhtvp://wg\\x0fGo?og#l.coqaRch?q=u/zzng'\n",
      "'htatzrHT:/www.\"oogle.comMQ/jsearchq<fzin'\n",
      "'http:i/^/www\\x0egoogec/m/sapch;s=fzing5`J'\n",
      "'htp://\\x7fsg\\x0eo;ogle%&omsakh>q=guFzzng'\n",
      "'htt:(//\\x7fwg\\x0eo;\\x7fgle%comsrch:>s=guFzzng'\n",
      "'htvtp://www.google.comseVa\\\\rch?q=fuzjine'\n",
      "'hStp://wg\\x0ego;ogle.#omsarch?qfuzZng'\n",
      "'hfTt://sg\\x0eol;og@leK%&omhsrk#gh>q=jcuGzng'\n",
      "'http:/wg\\x0eGo>oglg.caRch?q=u/zzng'\n",
      "'httpn://wg\\x0eo/og#lg.cgqaRch?q=u/zzng'\n",
      "'http://ww\"oogle.comM/j{arch<fuzzin'\n",
      "'httP:/\\x7fwg\\x0e;ogie%.cm%msar+ch:>s=?guFzt~ng'\n",
      "'Jhtp://wDww.googl\"e.\\\\com/searchq=fuzzin'\n",
      "'hatT2pz/\\x0fw>googlm/./m/ArchscW=fzi3ng%5`'\n",
      "'http:/7-www.gomgle.com/search?q=fuzzing9'\n",
      "'(tt5r://ww.g\"oogle.Vcom/jearchBq\\\\<guzzing'\n",
      "'http://gww\\x0egoog|e.c/m/sapch;Gs=fzing5`'\n",
      "'http;//www,Z\"oogle.comM/jsearcchq<fzziTn'\n",
      "'htNtp:b//wwg\\x0ego4+oel%.cgms4rch?q=fuzzng'\n",
      "'hTtp://sg\\x0e~ol;okgl;e%&omhserkh>q]=jg0uGzznPg'\n",
      "'http://wgI\\x0eGo/og#lgj.cgqaRch?q=u/zzng'\n",
      "'http://www.google.com/se.arch?q=fuzzang'\n",
      "'htp://wg\\x0eG/oBg#lg*ggqaRch?q|u/zznIg'\n",
      "\"htP://\\x7fwg\\x0eo;ogtlqe%.'coosrch:>s=?guFRzzng\"\n",
      "'http:/-wg\\x0eGo.oBglg.gqaRch?qu/zzngG'\n",
      "'http://\\x7fwg\\x0eo;oge%comsrc>s=guFzzng'\n",
      "'\\x7fhttp://ww\"koge.comM/jseaYrchhq<fuzjin'\n",
      "'htTp://ww>goolm/./m/Archs=fzi3n!`'\n",
      "'htTp://ww\\x0eooglm.#/m/Sapch;bs=fzi3ng5`'\n",
      "'htp://www\\x0eg(oogle.c/mJ/sapcj;s=fzing5'\n",
      "'hTtp://sg\\x0eol;ogl;e%&omhsark>qL=jguGzzng'\n",
      "'http8-/ww.gogme.;com/searc5h?q=fuzzin'\n",
      "'http:G//\\x7fwg\\x0eo(;og,e%.comsarch>s=guFzzng'\n",
      "'Nhttp://wg\\x0eG{o/gBg#lg.ggqaRh?qu/zzng'\n",
      "'_http:/-w8g\\x0eGo.Bg#lg.ggqaRch>qu/yzzfg'\n",
      "'htTp://ww>Egogglm/./m/Archs=fQzi3ng%5`'\n",
      "'http:/\\'www.g\"oogle.?cdomjsearchq<fKuzzingf'\n",
      "'ZhTtp://sg\\x0eol;ogl;e%&omhsarkh>q=jguGzz~g'\n",
      "'h|:tp://w\\x06G/Oog#\\x7flg.cgqaRc?q=u/zzo'\n",
      "'hTxEt://sgNola\\\\;ogSl;pez%&omhsarkh>q=jguzzng'\n",
      "'huT/p://ww\\x0egooglmn.m/sapc;bs=fzi3ng5`'\n",
      "'Ttp:/?sg\\x0eol;5kgl{e%&omhsarkh>q9MjcuGzzn(g'\n",
      "'htstp://\\x7fwg\\x0eo;ogle%.comsarch6{=guFzzonY#g'\n",
      "'htt0://}wg\\x0eo;ogle%1*comarch>s=guFzznsg'\n",
      "'htTp://wwagooglm.#/m/sapch;bs=fzi3ng5`'\n",
      "'httpx://wo\\x0eG\\x7f/og#lg.qaXRchq=u/zzne'\n",
      "'httP://\\x7fwg\\x0eo;ogle%<co7msqrch:>s9?guFzzng'\n",
      "'htTp://w^w\\x0egooglm.#/m/sapch;bs=fxi3ng5`'\n",
      "'ht Tp://gww>googlm/./m/A/rch=fzi3n;g%u'\n",
      "'http;owg\\x0eGoo/oBe#lg.gWqaRc`?qu/zzno'\n",
      "'http:+//\\x7fsg\\x0ei;6ogle%&oharkh>q=guFzzng'\n",
      "'hthTp://ww\\x0egooglm.#/m/spch;bs=fzki3n5`S'\n",
      "'htctp2//wg\\x0eFoz/og#lgncgaaRch?q=uzng'\n",
      "'httP://\\x7fwg\\x0eo;:wogle%.coesah:<s=?g}uFzzOn'\n",
      "'htTp://ww>gLooglm/./m/Archs=fzi3ng5`'\n",
      "'hUttp:/>/wg\\x0eGo/oBg#lg.ggqaRch?qu/zzng'\n",
      "'http://wg\\x0eGk?og#lg.coqaRch?q=uO/zzng'\n",
      "\"hTtp:/spg\\x0eol;ogl;e%&omhsarh;>q5jguGzzl'\"\n",
      "'h4tp://\\x7fwg\\x0eo:ogle%.comsarch>s=guFzzng'\n",
      "'ht|:p2/]-www.gokgle.co\\x7fm/search?q=fuzzng'\n",
      "'ttp:+/\\x7f:sg\\x0eo;ogle%&omhsarkhq=guFzzg'\n",
      "'ttgp://wg\\x0eGo?og#lg.coaRch?q=/zzng'\n",
      "'http://wwg\\x0ego4+nelecgmsa4rch?q=fuzzng'\n",
      "'xtp:/1/ww\\x0egoogle.#/m/sapch;bs=zPi3ng<5h'\n",
      "'h|pttp://\\x7fwg\\x0eo;ogle%.comsarch>s=SguFzzng'\n",
      "'mhttp://wg\\x0eGrO/Jog#lg.cgqaRhg?qu`/zzng'\n",
      "'http://wg\\x0eGo/oBg#lg.ggq\"aRch?u/zzng'\n",
      "'h^ttp://www.\"ofme.bomfM/jsearcchqfuzif'\n",
      "'http:/\\x7f{g\\x0eo;ogle%&omhsarkH>q=ouFzzng'\n",
      "'ht\\x14p://wwA.googlm.#/m/sapah;bs\\x1dfzi0sng5`'\n",
      "'htTp://ww\\x0ego\\x7fglm.#//sarchbs=fzi3ng5`'\n",
      "'http://www.\"okgle.omI/jqearc1hq<fuzzin'\n",
      "'hvtp/wg\\x0eo?gg#lg.coqaRch?q=u/zzng'\n",
      "'ltitp://www.Cgoogl.com/search?p=fuzzing'\n",
      "'ttp://2\\x7f{g\\x0eSo;ole%&omhsah>q=guFzzg'\n",
      "'#http://gw\\x0egoogle.c/m/sapch;s=fin=`'\n",
      "'tt4p://wgw\\x0egoogle.c/rm/sa\"pch;s t=fzing`'\n",
      "'htp://wg\\x0eGo;og$le.coms!c/q=fuzzng'\n",
      "'http://\\x7fsg\\x0eo;ogld%&omhsark8h>q=guFzzng'\n",
      "'zhttp/>/\\x7f\\x7fg\\x0eo;ogCle%.cmsarch>=guFzz$g'\n",
      "'http:/wwg\\x0ego;ogle.:comsa8rch?q-fuzz2n%ug'\n",
      "'phtTp://ww\\x0egokglm.#Xm/a0c;bs=fzi3ng{5`'\n",
      "'hTp://sg\\x0eon;oglu;e%&oc1mhsarkh>q=hgduzzng'\n",
      "'http://\\x7fwg\\x0eo;ogle%/k#Omsarch>=guFWzzng'\n",
      "'htTp://ww\\x0egooglm.#/m/sapch;br=fz~i3ng5`'\n",
      "'htTp://ww\\x0egooglm.#/m/sapch;s=vzi3ng5`'\n",
      "'hdtTp://ww\\x0egooglm.#-m/sapbh9bsfzi3no5`'\n",
      "'htpp://wg\\x0eG/og#lg.cgqaRch?q=u/zzng'\n",
      "'http://\\x7fsg\\x0e;og>le%omhsarkh>q=guFzzg'\n",
      "'htTqC://wow>gokglm/./m/Ircs=fzig%5`'\n",
      "'htt://ww.\"oggld.comM/jsgarchm<uzzin'\n",
      "'http:+/wg\\x0eGo?og#lg.coqaRch?q=u/zng'\n",
      "'http:Yo/\\x7fsg\\x0ek;ogle%fo~mhsarkh>5=guFzznt'\n",
      "'httP/\\x7fwg\\x0eo;ogle%.solsarch:>s=?g}Fzzng'\n",
      "'hTp:ww> gfooglm/>./mArchs=fzi3ng%`'\n",
      "'ttP//,\\x7fwg\\x0e;ole%.cosarcl:>s=?SguVzzng'\n",
      "'httpS://wwg\\x0eg2o4+ole.cgmsa4rch?q=fuzRzne'\n",
      "\"http://wg\\x06Go'og#lPgnggqaRcj?q=u/zZ\"\n",
      "'htP://\\x7fwg\\x0eo;ogl%.co-saRch*\\x1es=?guFzzNg'\n",
      "'htP://\\x7fwg\\x0eo;ogle[%.comsarci:>s=?guFzng'\n",
      "'htFTp://ww\\x0eMgooglLm.#/m/sapch;bs=fza3ng5`'\n",
      "'http:/\\x7fwg\\x0eo;ole%.cfmrarch>s=guFz~ng'\n",
      "'~htp:u/J/\\x7fsg\\x0eo\\x1bogle%q&omhsarkh>_=guFzzng'\n",
      "'hTtp://sg\\x0eol;ogl;g%b&hsarkh>q=jlg:uGZz~g'\n",
      "\"http:/wwg\\x0eg/;ogle.comscrc'h?q=fuzzng\"\n",
      "'http://www.g\"oogle.c1om/jsearchq<fzzing'\n",
      "'htTp:v//ww\\x0egooglm#/sapch;bs<fzm3ng5`'\n",
      "'http://wwg\\x0egot+oele.jcgEmsa4rch?q\\x1dfuzyz'\n",
      "'htp:/`/ww.\"omled.com/jsearchq<fuzin5'\n",
      "'httr://wg\\x0eGo/og#lg,cgqaRch?p=u/zZnZg'\n",
      "'httSp://wg\\x0e\\x07o/oBg#lg.gqaRcH=q}/dzzg'\n",
      "'http://\\x7fwg\\x0eo;ogle%.cosarOch>.s=guzzng'\n",
      "'h|tp:-/ww\\x0ego:ogle.comsar(7q=\"fuzzng'\n",
      "'h4tp2//www.google\\\\.com/seapch?q=fuz{no'\n",
      "\"ittp:/U'w\\x0ego;ogle.omsarch:?qfuzzlg\"\n",
      "'htTp:v//ww>googlE./m/Archs=fzi3ng%5`{'\n",
      "'hOTp://w2>googll/./m/Arcs=fzi3ng%`'\n",
      "'htt://wsg\\x0ego;wle.comsarch?q=fuzzng'\n",
      "'http://www.\"oogle.coKmM/*earcXhq<fuzzin'\n",
      "'http\\x02://w5g\\x0eGo/J\\x02g#lg.gqaRch?qHu/\"zzng'\n",
      "'httP://www.\"oogle.comM/jsearch<fuzzmj'\n",
      "'hTtQp:/.sg\\x0eolY;ogl;e%&omhsarkh>q=VjguGzzn,'\n",
      "'htp%:\\x0f/uww.(\"oogl%.comM/jsearchLq<fuz:i.'\n",
      "'http://wcg\\x0eGn?oOg#6lg.coqARch?q=u/zng'\n",
      "'http://www.g\"oole.com/jsearchq<fuzxing'\n",
      "'http://w=w\\x0egoogl+.c/m/sapcl;s\\x1dfLzi ng5`'\n",
      "'hTt<0Y:/sg\\x0eol;ogd;e%&omharkh>q=jguGzzing'\n",
      "\"htt://\\x7fu'\\x0co;ogle%.co$msarh>q=?guDzzng\"\n",
      "'http://\\x7fwg\\x0eo;oge%.bosarch>s=guFzzow'\n",
      "'httP:m//\\x7fwf\\x0eoI;Uogl?e%.comsarch:>?guFzzng'\n",
      "'http:+/wl\\x0eo;Qole!.comsarch>s=fuFzjng'\n",
      "']htt//wg\\x0eG/of#lg.cgqajRch?q=u.zzng'\n",
      "'8http>//www.*oogl&e.conmjsearchqfuzzin'\n",
      "'ht+p://wwg)\\x0eDoo4+oeGle/cgosa4rchh?q=fzzng'\n",
      "'http://www.g\"ogle.com/jsearLbxq<fuzzing'\n",
      "'htTp:t//ww>googlm/v./m/Archs=fzi3ng%5L`'\n",
      "'http*//wwg\\x0ego4+oele.cgmsxa4rch?q=fwzzn'\n",
      "'http/\\x7fsg\\x0eo;oe%&ohsqrkh>qC=guFrzng'\n",
      "'http://www.\"oogle.coM/hsearchq<fuzzin'\n",
      "'http://wwg\\x0ego4+oele.cgsmsa4rch?q=fkuzng'\n",
      "'htCtpf://w\\x0eGo/oBg#g.geyac?q/zzng'\n",
      "'htTpw://ww\\x0egooglm/#/m/sapchP;bs=fzi3ng5`'\n",
      "'hTtp://qg\\x0el;og;e%&omhsarkhq=jguGzng'\n",
      "'hTvp://sg\\x0eol;ogl;u%&zomhsrjh>q=jguGzzng'\n",
      "'ghttp://wg\\x0eG/5mBg#lg.ggqoRch?Qu/zzng'\n",
      "'yeht_tp:/wg\\x0eGo/oBg#lg.ggyaRch?qu/zzyng'\n",
      "'htp:/\\x0fwG\\x0eGog/og#lg.gqiaRch?q=uz$zn#g'\n",
      "'http://uww.2ogfle.com/jsear~chq<fuzzin'\n",
      "'http://wg\\x0eGo?og\\x7f#lg.c\\x7foqaScz?q=u/zzng'\n",
      "'http://wgGo?Og#lg.co5qach?q<zz(ng'\n",
      "'\\x7fhttp://www.g\"oogle.com/jsearcq<fuzzing7'\n",
      "'htTp://ww>goglm/Y./m/NAschs=fzi3\\\\ng%5`'\n",
      "'http://wwg\\x0ego+oglYengosarch?=fu\\x7fzVxng'\n",
      "'http://wg\\x0eGo/oB#lg.ggqaRch?qScu/zZng'\n",
      "'xttp://\\x7fwg\\x0eo;ogle%c[osArh>s=GuNzzng'\n",
      "'htVpO://ww>gogm/.m/Archs=fzi3ng%5`'\n",
      "'hg5ttp:/.wgT>g\\x0ego;ogle.comsrch?q=fuzzyng'\n",
      "'http://wg\\x0eo;og#lg.coqARVch?=u/zzGng'\n",
      "'htp://wvw.gioogle.com/sea^rch?q=ffzzing'\n",
      "'hTtr0://sg\\x0eol;nel;e%&om(sarkh>=5jguGzzng'\n",
      "'http://www.gogle.com/se`ar_chq=fuzzing'\n",
      "'hTtp://sg\\x0eol;ogl;e%&omhsarfkh>q=jgwGzng'\n",
      "'htTp://ww\\x0egoowglm.#/m/sapch;bs=fzi3jg5b'\n",
      "'htp://ww\\x0egoogll.#/msch;s=fi3ng5`'\n",
      "'hVtu:/+Hw7g\\x0ego4+ele.cgmsagrch?qfuzzng'\n",
      "'HtTP://\\x7fw~#g\\x0eoogl%.comsarch2>s=?5guFzzng'\n",
      "'http://1wwg\\x0ego;oYgle.comsavrch?q=fuzzng'\n",
      "'tit@p://wg\\x0eGo/oBg#mg.ggqaRch?qu/zrog'\n",
      "'htTp://ww>gk#nglm/./9m.Archs=fi3ng5`'\n",
      "'http://wwIg\\x0ego4+oelg.cgmsa4rch?q=fuzzng'\n",
      "'http://wg\\x0eGo?og#lg.coqaRch?qI=u/z~zng'\n",
      "'http://\\x7fsg\\x0eo;kgle%&omhs&ark>q=gFzz/ng'\n",
      "'http://wg\\x0eGo.oBg%lg.ggqaRch?qu/zzng'\n",
      "'hvtp\\x1a./w9wg\\x0ego4+oele.cgmcya4rch?qfuzzng'\n",
      "'dht|p://wg\\x0eGo?og#lg.coqaRch?1=u/zzng'\n",
      "'hTtp://g\\x0el;ogl;g%&om(Sarkh>q=jguG:zng'\n",
      "'h$Atp2S//w\\x7fw\\x0egqoogle.c/m/sapch;s=fxing`'\n",
      "\"http://wg\\x0eGo?og#lg.coqaRch?q=u/azzn'\"\n",
      "'hpTp:/C\\x0fww+>googlm/.-om/Ar\\x7fchsK=fzi3n%5`'\n",
      "'hTtp:\\x0f/qg\\x0eol;ogl;e%&omhsarkh>q=jguGzzng'\n",
      "'htUTp:/ww\\x0egoglm./msap>h;bszi3ng5`'\n",
      "'http://www.g\"oogle.c;m/jsear#hqfuzzing'\n",
      "'hTtp://sg\\x0eol;oFgl;e&omhsarkh>q=jgGzzng'\n",
      "'tpH://www\\x0egoogleC&c/msafpch:s=fzkng5p'\n",
      "'htTp://wwo\\x0eeooglm9.W#/@m/sap;bs=fzi3nG5`'\n",
      "'http://wwg\\x0e>Qgg;ole.comsarch/q=fuzzng'\n",
      "'http://wwg\\x0eg\\x7fo;ogle.#omsarch?q=fuzzng'\n",
      "'http://www.google.ck/searuch?q=fuzzing'\n",
      "'ht]t//!g\\x0eGo/oBg#lg.ggUqaR7ch?qu/zzng'\n",
      "'httP://wweg\\x0eg4+odle.cgmsa4rch?q=fuzzng'\n",
      "'http;//\\x7fwg\\x0eo;ogle%.cosarch>s=guFzzng'\n",
      "'http:^//wgGo/oBg#glc/ggqaRcSh?qu/z0zng'\n",
      "'hTtp:/+Sg\\x0eold;ogl;he%&oomhsardkx>p=jguGzzng'\n",
      "'htEtP://\\x7fwgo;ogle%./Ucomsa0ch:>s=?guDjzng'\n",
      "'htdx:/r/www.\"oogle.DcmM/jsearchq<uzzin'\n",
      "\"h2ttp:'\\x7fwgR\\x0eo;ogle%.comsarch>sC=guFzzng\"\n",
      "'mhTtp://s\\x0e\\x7f~l;gl;e5&omhsarkh>q=jguzzng&>'\n",
      "\"http:'O//\\x7fsg\\x0eo:eowle%&omhsayrkh>q=g}Fzng\"\n",
      "'htvp;//www\\x0egoogle.c/m/sapch;s=fzing5`'\n",
      "'htp://wg\\x0eGo/oglg.cgqRNc?q=u/zzng'\n",
      "'jttp://w-g\\x0eGo/oBg#lg.gqaRJch?qu/zzng'\n",
      "'httpz://wg\\x0eGo?o#lg.coqaRech?q=u/{znug'\n",
      "'htTp://ww\\x0egooglm.#/m/epch;bQs=fzi3ng5`'\n",
      "'httP:wg\\x0eGo/oBg#lg.ggqaRc?qdu_/zzngN'\n",
      "'http://www.\"oogle.comM/jseadrkhq<fuzzin'\n",
      "'Ttp://sg\\x0eol;ogl;se%&omhQarkh>q=jgGzzng'\n",
      "'Ttp&://sg\\x0eol;ogl;e%&omhs-arkh>q=jguGzzng'\n",
      "'htAtp://www.g\"oogle.co/jsarch<fuzzing'\n",
      "'http://www.\"oogle.cmM/jsearchpfuzzIn'\n",
      "'httpM://wg\\x0eGo/oBg#lg.ggqRch?qu/zzng'\n",
      "'http://\\x7fsg\\x0e;oghe%&omxsarkh>q=guzz~g'\n",
      "\"http:/wgNGo'?/oBg#lAg.ggqRch?qu/z{ng\"\n",
      "'htt:/\\x7frg\\x0eo;ogle%&omhsarkh>q=guFzzng'\n",
      "'http:-/wg\\x0edG/?og#lg.cqaRch?a=u/z{og'\n",
      "'jttp://w\\x0eG8+o/oBgLg.ggqaR%ch?u/zng'\n",
      "'jttp:/-www\\x0egoogle.cm/sapch;s=fzing5`'\n",
      "'htt://Twwg\\x0egon4+oele.cgmsa4Rch?qH=sfu~zng'\n",
      "'http://\\x7fwg\\x0eo9ogle%.c%omsarch>s=gu#Fzn<g'\n",
      "'h4tp://www.google.co-searMch?q=fur3zCiJng'\n",
      "'htTp:/+ww\\x0egooglm.#/mn/sapch;b3=fzi3ng5`'\n",
      "'http://wwg\\x0ego4+oele.cgmsa&4rch?q=fuzzlg'\n",
      "'hptP://\\x7fwgv\\x0eo;ogle%.comsarcxh:>s=?g5Fzn'\n",
      "'httJ://wwg\\ngo;ogle.comsarch?q=fuzz1jxg'\n",
      "'http://w<wg\\x0ego4+oSele.c[gmsa4rch?a=fuzzng'\n",
      "'http://\\x7fs!g\\x0e;ogl-e%&omhsirkhq=guFzzng'\n",
      "'htT6p://sw\\x0eooglm.#/m/sapcx;bs=fzig5`'\n",
      "'httzp:/~/www.\"oogle.comMjwearchq<fuzzin'\n",
      "'ht+p://\\x7fwg\\x0eo;oe%.comsarch|>s=cu\\x06zzjg'\n",
      "'ht:/+ww\\x0egoog|lm.#/m/apch3bs=fzi3ng5`'\n",
      "'http:/\\x7fsgoyI\\x0eo9ole%&omhsArkh>=guFzng'\n",
      "';hfdtP://w#wg\\x0ego;ogle.c/msArch?q=furzng'\n",
      "'h}tp://\\x7fwg\\x0eo;og,e%.cma{rc>s=;guOAFzzng'\n",
      "'hTtp://sg\\x0eol;ogl$;e%nmhwarkh>qjguOzznw'\n",
      "'ltP://\\x7fw\\x0eoowle%.comsac:>s=?guz;znf'\n",
      "'htetp://wwwr\\x0egoog&|e.cm/sapch;sfzingd'\n",
      "'it^pp://www.googe.Kcom/xsTdarch?q=fuz{ing'\n",
      "'http:/www.g\"oogle.com/jsearchq<fuzLzing'\n",
      "'htt://www.goog~le:.co/seasc?q=fuzzing'\n",
      "'h~ttp:/C/\\x7fw\\x0eo;ole%.cmsarch>sM=guFzzng'\n",
      "'http://wwv.g\"oogle.com/jsearychq<fuzzinc'\n",
      "'http:/www>goglecoo/search?q=nuzzi3ng'\n",
      "'http:www\\x0eo~4+oehe.cgmsach?q=fuz6zNg'\n",
      "'http://wwg\\x0eoo;ogle.comsarch?q<fuzzng'\n",
      "'itp://\\x7fsg\\x0eo;ogle-&\\x7fmhnsarkh>q<guFzzng'\n",
      "'hhttp://wg\\x0eGoOg#ldtg.coqYaSch?qNY=u/zzng'\n",
      "'ht\\\\t://www.Qgoogle.com/search?q=fzzi?jg'\n",
      "'http://wg\\x0eGo?og#lo.coqaRch?q=/zzng'\n",
      "'httP:m//\\x7fwg\\x0eo:ogle%.comsarch:>s=;guFzzng'\n",
      "'hptp://wg\\x0eo/gBg#mg.gq@aRh?qJu/zzng'\n",
      "'http://www.\"oogle.comM/jsarchq<Nfuzzin'\n",
      "'http:/?wwg\\x0egooWle.comsazch?=fuzxng'\n",
      "'http:o/wVg\\x0eoo6\\x1bogle.comsarch?q=fmuzzmng'\n",
      "'htp<://www\\x0egomgl2e.c/md/sap#h:s}fzhng5`'\n",
      "'\\x01htp*//wwg\\x0ego4+oede.cgma0r&ch?q=zzng'\n",
      "'http://ww.google.-com/searjch?q=fuzzing/'\n",
      "'http://w\\x7f2wg\\x0eeo4+ole.cgms*arch/q=fujzng'\n",
      "'httpQ://www.g\"oogBle.cOe/ksear#hq<uzzing'\n",
      "\"htt://wgNGo'oBg#lg.ggqach?qu/zzjg\"\n",
      "'hfttP~://wwg\\x0ek;ogle%.comsarch:>s=?guFzzng'\n",
      "\"http:'/wg\\x0e/e#lg.ccqaRch?q=u/zzng\"\n",
      "'ht4p://wg\\x0eGo?o}glg\\x0eco~qARc4h?qu/zzng'\n",
      "'h4Tp://ww\\x0egooglm.#/m/sapch;br=fzi3ng5`'\n",
      "'ittp://wg\\x0eGo/og#lg.cgqaRch?q=u/zng'\n",
      "'http://wwg\\x0eg4+oele.cgmsa4rch?q=fuzzng'\n",
      "'http://wG\\x0eGo?og#lg.coqaRch?q=u-gjng'\n",
      "'httt:/\\x7fwg\\x0eo;ogle%.comsarch>s=guFzzng'\n",
      "\"http://ww\\x0egoogle.c'+}/saxch;s=fZing5`\"\n",
      "'http://wwW.L\"oWogle.co\\x7fmM/jsearchq<fuzzin'\n",
      "'http://wQ\\nGo/og#lgncoyach?q=u/zzng'\n",
      "'htT://w>gop\\x7foglm/.-oArcj=fzi3ng%5'\n",
      "'http://wwg\\x0e(go0+oele.cgma4rchqfuzzg^'\n",
      "'lttp:?wwg\\x0ego;ogXle$.comarch?q=fuzzng'\n",
      "'http://%wgg\\x0eGo?oglgncoqaRch?=u/zng'\n",
      "'httP:a//\\x7fwg\\x0eo;5ougle%.[comscrch:8>s=?gu\\x06zzng'\n",
      "'htp:-/w ww.g\"oogDle.cm/searchq<Fuzzifn'\n",
      "'http://wg\\x0eCo/og#g.cgqaRch?q=u/zzn'\n",
      "'http://wg\\x0eo/og#lg.cgqaSch?qr=u/zzynZg'\n",
      "'htt://wg\\x0eGo/grVdg.ycqaRch?qu/zzng'\n",
      "'http:/\\x7fwg\\x0eo;oglEe%*cnmsarch>s=guFzzng'\n",
      "\"httP://{\\x7f;wg\\x0eo;ogle'.com_sach:>s??guFzzng\"\n",
      "'htTp://gu>ga]oolm/.//Archs=fzi3ng%5`'\n",
      "'htt`:+^/wwng%\"oogle.com/nsearc<vuzzing'\n",
      "'htT;//ww>goolm/./m/hAch=f&zi3ng%`'\n",
      "\"http:/'wwgo\\x0ego$+oele.cgmsa4rch?q=fuzzng\"\n",
      "\"http\\x1a/www{\\x0eggomgle.c'm/sepch;s=f[zing5`\"\n",
      "'htTp://ww>googlm/./m/Archs=fzi3Nng%T5`'\n",
      "'httP/o\\x7fwg\\x0eo;~ole%comsarch:>s=?guFzzng'\n",
      "'http:/wg\\x0eGo/oBg#lg.gqaRch;qu/zzng'\n",
      "'ht|p://\\x7fS\\x0em!;ogle%&omhsaRkh>q=gu^Fzzng'\n",
      "'http://\\x7fwg\\x0eo;ole%.comarch6s=EguFzzng'\n",
      "'htp://~s\\x0eo;ogle%q&omhsarkh>q=ftuFzzng'\n",
      "'tup:\\x0f/ww. oogle.comM/jsearchq<fuzin'\n",
      "'httP://\\x7fwg\\x0eo;ole%.comsarch:>s=?gwFzzng'\n",
      "'http://cwoww\\x0egzoogle.c/m/saxch;s=fz~ing5`'\n",
      "'htt$p://ww\\x0ego4+oele.gcgmsa4rh?qR=fzzng'\n",
      "\"hT't://sg\\x0eol;ogl;ce&omhsarkh>q=guGzzng\"\n",
      "'hTtp:/.sg\\x0eol;Ogl;e%&om-hsakh>q=jguGzzg'\n",
      "'http\\x1aS//www\\x0eg9ogle.c/m/wa0ch;s=fjing5`'\n",
      "\"ht|p:G/wwg\\x0e'`o;ogle&comsarc\\x7fh?q=fuzznf\"\n",
      "'http:./ww*\"oogle.cmM/jsearahq<fuzzi~n'\n",
      "'http://www\\x0egkkgle.cm/sapch;s=fzing5`'\n",
      "'httP://\\x7fwg\\x0eo;ole%.comsarch:>s=?GuFzzng'\n",
      "'h4tp://wg\\x0e>Cyo?g#g.coqaRch?q=u/zzng'\n",
      "'http://w\\x7fw.g$oole.com/wearch?qfuzzig'\n",
      "\"http:/owg\\x0eGo/oBgl'p.ggqaRch?qu/zjng\"\n",
      "'hptp://www@gD\"g`ogle.coSm/jsearchq<fuZzing'\n",
      "'hptp:/www&\"ogle9.bomM/jsarchq7<fuzzin'\n",
      "'http://o\\x7fsg\\x0eo;oghe%&oEmhsarkh>q=gqFzng'\n",
      "'hTp:./3g\\x0eol;ogl;%8&omsarkh>q\\x1djguGzzfCg'\n",
      "'httP://\\x7fwg\\x0eoi;ongle%+.comarwc/h:>s?oUFzzng'\n",
      "\"http://wwg\\x0ego;o'le.cyomwsarch?q=fuzzg\"\n",
      "'hTtp:://sg\\x0eol;oxg=;e%&omhsarkh>q=jgGzzng'\n",
      "'ht://lwg\\x0eGo/oB#lg.gglqaRch1?qu/zzng'\n",
      "'htp://\\x7fsg\\x0eio;gle%&omhsar7k>6q=guFzzng'\n",
      "'ht|p//wg\\x0eGoog#lw.coVqaRch?q=u/\\x0ezzng'\n",
      "'itTp://ww\\x0egog|m.#/m/sazch3bsfzi3ng5`'\n",
      "'ittDp:Y//wg\\x0eg;ogle.coms!rch?q=fuzzg^`'\n",
      "'ht4tp:/wwg\\x0ego;ogle.cmarch?q=fuzzng'\n",
      "'ittp:/www.\"o\\x7flgle.comM/jsearchq<fuzz@kn'\n",
      "'hTt#1p:/?sg\\x0eolh;ogl;e%&omhsakh>q=guGzzng'\n",
      "'hTp://ww\\x0e[googlm.#/m/sapch;bJs=f3ngu`'\n",
      "'hTtp://sg\\x0eol;ogl;e%&omha2r.kh>q=*guGzzng'\n",
      "'http://\\x7fwg\\x0e;oE&gle.comsarch>q=guF<zzng'\n",
      "'httpk:/wwg\\x0ego4+oele.cg{a4rchq=uzzg'\n",
      "'nhtTp://eww>goog1m./l/AG2!chs=fzi3n%5`'\n",
      "'http:owww.\"oogle.comM/jsarchq<fuzzin'\n",
      "'ttp://www\"oogle.com/jsearchq<fuPzzin'\n",
      "'htTp:/ww\\x0egoohg0l.#//saph;bs=fz3zng5`Z'\n",
      "'http://wwg\\x0efo4+ole.cgmsa4rch?q=fuzAzng'\n",
      "'*http://sww\"gle.omLM/js}earchq<fujzin'\n",
      "'http://www\\x0egool0e.c/m/sapch;s=fzing5`'\n",
      "'http:./wg\\x0egn4+oele.cgmXsa4rCh?q=nuZzng'\n",
      "'http://www.g\"oogle.coFm/jsearchq<fuzzijg'\n",
      "'h4ttp:_//wg\\x0eG7o?og#lg.goqRch?q=u/{zfgC'\n",
      "'htTp://ww>googlm/./m/Archs=fzi_3ng%v5`'\n",
      "'hTp:\\x0f.w>gogll/./m/Archs=fz3nG%5`'\n",
      "\"htp://wwg\\x0ego;ogle.comsarch?q=fuzzn'\"\n",
      "'htp:-/wg\\x0eGo/og#lg.ucgqach?q=u/zzng'\n",
      "'http://swg\\x0ego4+oele.cgmsa4rch?q=fu:Lzng'\n",
      "'h|Tp://ww>googlm?\\x0e/mN/chs=fzi;ng2%5`'\n",
      "'qtp://\\x7fwg\\x0eo;}ogne%.cIomsarch>H~s=guFzzfUg'\n",
      "'http://www.googe.com/search?q=fuzzmng'\n",
      "'ittp|G://w;uw.googleco/searcx?q=fuzzig'\n",
      "'qhtTp:/t/ww\\x0egKoOglm.#/m/sach;bs=fzi3ogX5C`'\n",
      "'http:/J</wg\\x0eGo/g#lg.CgqaRch\\x1fq=u/zzng'\n",
      "'http:/www.\"_oocle.comMR/jsearch)q<!fuzzin'\n",
      "'tTp:+www.g\"ogGle.com/[jsearchq<fz=zing'\n",
      "\"http:/'\\x7fs\\x0eo;ozgl%&omhsarEc>q=gsuFzzng\"\n",
      "'http*//uwg\\x0ego4+oele.cgmsa4rch?quzzg'\n",
      "'http://\\x7fwg\\x0eo;ogle%.comsarch>s=guFzzng'\n",
      "'Tt8pm://s\\x0eol;ogle%&mhsarkh>q=ngugzzng'\n",
      "'hTtpE://qg\\x06l;ogl;e%&omjsabkh>q\\x1djguzzg'\n",
      "'http:/\\x7fsg\\x0eo\\x1bogle%&omhsarkh>!q=guFzzng'\n",
      "'http://wg\\x0eGo/oBg#ng.ggqRch?qu/#zzng'\n",
      "':htp://wg\\x0eGo;og#lg.coqaR>ch?q=}/*zzn'\n",
      "'Chttp:/wwg\\x0eoo4+oele.cgmjsa4rch?q=fuzzng'\n",
      "'htp://\\x7fsg.o;ogle\"%A&o*mhsarkh>q=guFz\\'zg'\n",
      "'Rhttp://\\x7fwg\\x0eo+ogle%.comsrc>sgqFzzzng'\n",
      "'http://\\x7fsg\\x0eo;ogle!&omhsrk6=guWFzzng-'\n",
      "'http:/\\x7fwg\\x0eo@;ogle.comsarch>s=guFzzng'\n",
      "'Ttp://www.ogle/com/searchq=fzzing'\n",
      "'htTQp:/uwgoowlm/./~0m/@rchs=fzi3ng%5`'\n",
      "'htTp:y//ww>googmm/>/m/:Archs=fzi3og%5`'\n",
      "\"httvp:/?sww\\x0egoogle.c'm/wcpch;s=fzing5`\"\n",
      "'htp:/ww\\x0ego4+oedle.c*gmsa4rch?Q=f^uszzng'\n",
      "'httT://\\x7fwg\\x0eo;ogle%.cmsarch>s=guFzzfjg'\n",
      "'htp://ww\\x0egoogle.c/m/jsapch;s=zig5`'\n",
      "'Whttp://wg\\x0e8Go/oBg3lgggqrch?qu/zzng'\n",
      "\"htTp-/w7>ooglM,/./m/Archs=fzi3ng'5`\"\n",
      "\"http:'/\\x7fsg\\x0eo;ogle%&omhsarq=guFzzng\"\n",
      "'http://vww.\"ogle.comMg/jsecrch<fzzin'\n",
      "'hnttp://\\x7fs\\x0eo;ogle-&xomhSrk>q=guFzzng'\n",
      "'httP2//\\x7fwg\\x0eo2;ogle%.comsarch:>}?guFzng'\n",
      "'http:/V/w\\x0eCo/oBNg#pL.ggs)aRch?qu/xzng'\n",
      "'htp://w\\x0eG/mg#glg.zcgqaRchq=w/zzng'\n",
      "'http6:?/www.g\"oogle.cOom/jsearc q<fuzzi,ng'\n",
      "'http://wwwO.\"oogle.comM{/jsearchq<fuzzin'\n",
      "'tt://gwg\\x0ego;ogecomsach?q=fuzzng'\n",
      "'ht://\\x7fg\\x0eo;ogle%.comsarch.cguFzzn'\n",
      "'http://\\x7fsgp\\x0eo;ogle%&nmhsak(>q=guFzzng'\n",
      "'http://\\x7fsg\\x0eo;ogle%omhxsavkh>qg}uFzzng'\n",
      "'http://ww\\x0egoogle.c/m/gsapch;gw=fzin5`'\n",
      "'httP://\\x7fwg\\x0eo;ogle%.comsarch:Hs=?guFzzng'\n",
      "\"htp://W\\x0eGo/og#lg&cgqaRc?Lqu/zn'\"\n",
      "'httkp//wwwoogle.ce/m/sapch=fzEing5`'\n",
      "'htt://wwg\\x0ego;gle.comsarch?q=fuzzng'\n",
      "'http://wwg\\x0egol9ogle.cocarc`?q=ftuzzng'\n",
      "'http://w\\x0eGo?og#lg.coqaRch?q=zxng'\n",
      "'ltt://wvg\\x0eGQoo#Lg.coqQaRch;q=u/zzng'\n",
      "'htTp://ww>googlm/./pm/Archs=fxi3ng%5`'\n",
      "'(t://wg\\x0eGo?og#lg.cosAR0ch/u=u/zzng'\n",
      "'hptp://www\\x0egoogle.c/m/sapch;s=fzmng5`'\n",
      "'http>+//\\x7fwgo;wogde.cotmsarh>s=guFzzng'\n",
      "'htP://\\x7fwg\\x0eqo9ogle%.comsarTch:o>>s=?guF/zzng'\n",
      "'http://kw7w.google.com/wearh?q=fuzzing'\n",
      "'htTp://gww+?g8oowlm/./m/Aupchs=fzk3ng%5`'\n",
      "'http//wg\\x0eGo?og#g.coqaRchu=u/zzng'\n",
      "'http://www.google.Qcom/jsearchq<fuzzing'\n",
      "'hC4tp://\\x7fwg\\x0eo;ogle%comsarch>s=cuFzzn'\n",
      "'`tTp:h//ww\\x0egooglm.#/m/sapch;bs=fzi3ng5`'\n",
      "'xttp://oSg\\x0eo;oge%om`sarkh9gFzzng'\n",
      "'h@titp://wg\\x0ego;ogle.cosergh?=fyuzng'\n",
      "\"h`ttp://[w'\\x0eo};oge%&omhsFarkh>q=guFzn\"\n",
      "'http://wwg\\x0ego;ogle.comsarch=q=fuzzng\"'\n",
      "'http://www\\x0egoo(g+lec/mu7Rszpch;s=fzing5`'\n",
      "\"http://wwg\\x0eg'o4+foale.cgma4rc\\x7fh?u=fuzgzng\"\n",
      "\"htTp:/'ww>goog|m/>/m/\\x01rchks=fgi3.fg\\x7f%5`\"\n",
      "'h2ttp://wwg\\x0ego;olm.comarch?q=fuzznge'\n",
      "'http://ww.\"oogle.comM/njsearchq<fuzzin'\n",
      "'http://www\\x0egboogle.c/m/sJach;s?fzing5`'\n",
      "'(tTp:/ww>goglm/.-m/Acrcx!hs=fzi3ng%5`'\n",
      "'http:/\\x18wg\\x0eGo/oBg#lg.ggqaRch?qu/zzng'\n",
      "'htTp:-/W\\x0egooglm.#V/m/sapc;bs=fzi3n5p'\n",
      "'http://wwg\\x0egnF4+oele.cgmsa4rch?y9fuzzng'\n",
      "'iTp://ww>googYlm/./m/Apchws=fzk;ng5d'\n",
      "'htTtp://wwGg\\x0cgo4+elecgosa4ch?qfuzzng'\n",
      "'http://www.g\"oomleco/jseaprchqfuzzing'\n",
      "'http:7//www\\x0egboogxle./m/sJ!ch;s?fziBng5`'\n",
      "'http://swg\\x0ego4+oeme.cgsa4rh?q=fuzzng'\n",
      "'http://w\\x0ego4+o*elTe.bgmsarc?fqbuzzng'\n",
      "'Fhttp://www.Ne\"oogle.com/jsearchq<fuzzang'\n",
      "\"htup:/owg\\x0fG/oBg#lg.ggqaRch?qu/zz'ng\"\n",
      "'http://ww\\x0egon,gle.c/m/sa]pch\\x1bs=pfzyng7,`H'\n",
      "'htp://g\\x0eGo?og#lg.coqaRch?(q=5+zzng'\n",
      "'http:/-wg_\\x0eGOK/oig#l.cgqaRch?q=u/zzng'\n",
      "'hMttp://wwg\\x0e}go;kele.mc\\x7fmsac?q=fuzzjg'\n",
      "'`Ttx;%//sg\\x0e_ol;ogl;e%&omhsarkh>q=jguzzn/g'\n",
      "'htTp://ww\\x0egooglcm#/m/sapc\\x7fh:bs}fZi3ng5`'\n",
      "'http:4/www\\x0egbogc|e>c/m/sJvach;s?fzing5`'\n",
      "'http://wg\\x0eG?g#lg.coqaRch?q=u/z:ng'\n",
      "'h|tp>//\\x7fsgo;/gle%G&omhsrk.h>q=guFzzng'\n",
      "'ht8-tP:S-/\\x7fwg\\x0eo;gle%.comarchi:>s}?guFzzog'\n",
      "'ltTp://ww\\x0eg/o(glmn#/m/sepch;bs=fzi1ng5`'\n",
      "'http://\\x7fsg\\x0eo;ogle%&omhsarh>q=gzzng'\n",
      "'h)ttp://wWw.goooleR.com/jsearchq<fuzAzing'\n",
      "'http://www>\"oogele.comM/searchq<fuzzin'\n",
      "'htp:X//v_wg\\x0ego;ogle.comsach?q=fzzg'\n",
      "'http:/\\x7fwg\\x0eo;gle%comsarc`>s=#gfzzng'\n",
      "\"ttp:'/ww<g\\x0egoogle.comsdrcl?q=fuzzng\"\n",
      "'http://www.google.com/search?q=9uzzi\\x7fng'\n",
      "'http://www.\"oole.FcomM/jsearbhq<fu{zin'\n",
      "'htVp://ww>googhm/./m/Archs=fzi3n5`E'\n",
      "'http://ws\\x0egboogple.c/m/sJach{sb?f0zing5`'\n",
      "'htTp://ww\\x0eg,ognlm.#/m/sapch;bs=fi3ng5`'\n",
      "'http!://www.gboogle.c/Dm/sJach;s?zing5`'\n",
      "'httpY:/j/ww\\x0egbooglue.c/m/sFJ$ch;s?fxi>ng5`'\n",
      "'htdp://\\x7fs\\x0eo;oge%&mhisiarkhk>p=gu%Fzzng'\n",
      "'htr://wwg\\x0e&go;ogBle.wcomsarch?q=fuzzng'\n",
      "'htp/www\\x0egboohd.c/m\\x0fsJach:s?fzing5`'\n",
      "'http://.\\x7fwg\\x0eo;ogle%.om.sarch>s=guFzzng'\n",
      "'htTp://ww>googzlm/K./-/Archsfzing%5`'\n",
      "'itTp;//ww\\x0eg,ognlm.#/m/sapch;bs=fi7ng5`'\n",
      "'htt:p://g\\x0eo;gl%&omhsar{h>q=guFwzzng'\n",
      "'http://\\x7fwg\\x0eo;ogle%.comsach>q=guFzzng'\n",
      "'http://www<.google.com/searc7q=fuzring'\n",
      "'jt?tp://www\\x0egb/ogiIle.c?isJach;s?fzing5`'\n",
      "'httP://\\x7fwg\\x0eoogle%Z.comsarch:>3=?guFzznG'\n",
      "'http:\\x7fwg\\x0eo;ggle%.comarVch>s=guPFzzg'\n",
      "'htTPp:./ww\\x0egooglm.#/m/sapci;bs=fzi3ng5`'\n",
      "'hT\\\\p:/sg\\x0etol;ogl;e-&omhsarkh>q=jguGzzng'\n",
      "'http://osg\\x0eoogmel%&omhark>a=gUFzrng'\n",
      "'http://w.wW.\"oogle.comM/j^searchq<fuzzin'\n",
      "'httpp://www\\x0egoogle.cm/sapch;s=fzing5`'\n",
      "'htUtP:\\x0f/\\x7fwg\\x0eo;mgl%.comwarch>s=?guFzzn'\n",
      "\"ht4R://\\x7fwg\\x0eo;ogle5.comsarch8>s=?gu:Fz'zng\"\n",
      "'http:?/w8ww\\x0egoogle.c/m/sapch;s=!dzilg`1'\n",
      "'htp:/-\\x12\\x7fsg\\x0eo;oe%&omhsakh>q= guFzzn'\n",
      "'http:/g\\x0eGo/og<#lg0gqaRcE?q=5/zzn;g'\n",
      "'http://wg\\x0efGo?og#lg.coqaRch?q=Mu/zzng'\n",
      "'http:/wg\\x0eG/Bg3l.gacl?qul/zzng'\n",
      "'httMp//Swg\\x0eGo/oglf\\x0ecgqaRch?q=e/zzng'\n",
      "'http://www.google*cm/srch?q=vuz$zicng'\n",
      "'http:u//wwg\\x0ego4U+ou~le.Hdcgmsarch?q=vuzzng'\n",
      "'htTp:/ww>goofgl]m/.-mAzchs=mfzi3n%5`'\n",
      "'htT:/~/w\\x0epg,og.nlm#/m/spch;cs=fi3ng5`'\n",
      "'hdtp:/*wwV<w\\x0egboogle.c/m/sach;s?fzing5`'\n"
     ]
    },
    {
     "data": {
      "text/plain": [
       "['http://www.google.com/search?q=fuzzing',\n",
       " 'http://wwg\\x0ego;ogle.comsarch?q=fuzzng',\n",
       " 'http://wg\\x0eGo?og#lg.coqaRch?q=u/zzng',\n",
       " 'http://wg\\x0eGo/og#lg.cgqaRch?q=u/zzng',\n",
       " 'http://www.g\"oogle.com/jsearchq<fuzzing',\n",
       " 'http://wwg\\x0ego4+oele.cgmsa4rch?q=fuzzng',\n",
       " 'http://wg\\x0eGo/oBg#lg.ggqaRch?qu/zzng',\n",
       " 'http://www\\x0egoogle.c/m/sapch;s=fzing5`',\n",
       " 'http://\\x7fwg\\x0eo;ogle%.comsarch>s=guFzzng',\n",
       " 'http://\\x7fsg\\x0eo;ogle%&omhsarkh>q=guFzzng',\n",
       " 'http://www.\"oogle.comM/jsearchq<fuzzin',\n",
       " 'htTp://ww\\x0egooglm.#/m/sapch;bs=fzi3ng5`',\n",
       " 'htTp://ww>googlm/./m/Archs=fzi3ng%5`',\n",
       " 'httP://\\x7fwg\\x0eo;ogle%.comsarch:>s=?guFzzng',\n",
       " 'hTtp://sg\\x0eol;ogl;e%&omhsarkh>q=jguGzzng',\n",
       " 'http://www\\x0egboogle.c/m/sJach;s?fzing5`',\n",
       " 'htTp://ww\\x0eg,ognlm.#/m/sapch;bs=fi3ng5`']"
      ]
     },
     "execution_count": 119,
     "metadata": {},
     "output_type": "execute_result"
    }
   ],
   "source": [
    "seed_input = \"http://www.google.com/search?q=fuzzing\"\n",
    "population = coverage_fuzzer(\n",
    "    seed=[seed_input], function=http_program, trials=1000)\n",
    "population"
   ]
  },
  {
   "cell_type": "markdown",
   "metadata": {
    "button": false,
    "deletable": true,
    "new_sheet": false,
    "run_control": {
     "read_only": false
    }
   },
   "source": [
    "Success!  In our population, _each and every input_ now is valid and has a different coverage, coming from various combinations of schemes, paths, queries, and fragments."
   ]
  },
  {
   "cell_type": "code",
   "execution_count": 120,
   "metadata": {
    "button": false,
    "collapsed": false,
    "deletable": true,
    "new_sheet": false,
    "run_control": {
     "read_only": false
    }
   },
   "outputs": [
    {
     "data": {
      "image/png": "[encoded data removed]",
      "text/plain": [
       "<Figure size 432x288 with 1 Axes>"
      ]
     },
     "metadata": {},
     "output_type": "display_data"
    }
   ],
   "source": [
    "cumulative_coverage = population_coverage(population, http_program)\n",
    "\n",
    "import matplotlib.pyplot as plt\n",
    "plt.plot(cumulative_coverage)\n",
    "plt.title('Coverage of urlparse() with random inputs')\n",
    "plt.xlabel('# of inputs')\n",
    "plt.ylabel('lines covered');"
   ]
  },
  {
   "cell_type": "markdown",
   "metadata": {
    "button": false,
    "deletable": true,
    "new_sheet": false,
    "run_control": {
     "read_only": false
    }
   },
   "source": [
    "The nice thing about this strategy is that, applied to larger programs, it will happily explore one path after the other – covering functionality after functionality.  All that is needed is a means to capture the coverage."
   ]
  },
  {
   "cell_type": "markdown",
   "metadata": {
    "button": false,
    "deletable": true,
    "new_sheet": false,
    "run_control": {
     "read_only": false
    }
   },
   "source": [
    "## Lessons Learned\n",
    "\n",
    "* Randomly generated inputs are frequently invalid – and thus exercise mostly input processing functionality.\n",
    "* Mutations from existing valid inputs have much higher chances to be valid, and thus to exercise functionality beyond input processing.\n"
   ]
  },
  {
   "cell_type": "markdown",
   "metadata": {
    "button": false,
    "deletable": true,
    "new_sheet": false,
    "run_control": {
     "read_only": false
    }
   },
   "source": [
    "## Next Steps\n",
    "\n",
    "Our aim is still to sufficiently cover functionality.  From here, we can continue with:\n",
    "\n",
    "1. Try to cover as much _implemented_ functionality as possible.  To this end, we need to access the program implementation, measure which parts would actually be reached with our inputs, and use this _coverage_ to guide our search.  We will explore this in the next chapter, which discusses [guided mutations](Guided_Mutations.ipynb).\n",
    "\n",
    "2. Try to cover as much _specified_ functionality as possible.  Here, we would need a _specification of the input format,_ distinguishing between individual input elements such as (in our case) numbers, operators, comments, and strings – and attempting to cover as many of these as possible.  We will explore this as it comes to [grammar-based testing](Grammar_Testing.ipynb), and especially in [grammar-based mutations](Grammar_Mutations.ipynb).\n",
    "\n",
    "Finally, the concept of a \"population\" that is systematically \"evolved\" through \"mutations\" will be explored in depth when discussing [search-based testing](Search_Based_Testing.ipynb).  Enjoy!\n"
   ]
  },
  {
   "cell_type": "markdown",
   "metadata": {
    "button": false,
    "deletable": true,
    "new_sheet": false,
    "run_control": {
     "read_only": false
    }
   },
   "source": [
    "## Exercises\n"
   ]
  },
  {
   "cell_type": "markdown",
   "metadata": {
    "button": false,
    "deletable": true,
    "new_sheet": false,
    "run_control": {
     "read_only": false
    }
   },
   "source": [
    "### Exercise 1\n",
    "\n",
    "Apply the above non-guided mutation-based fuzzing technique on `bc`, using files, as in the chapter [\"Introduction to Fuzzing\"](Basic_Fuzzing.ipynb)."
   ]
  },
  {
   "cell_type": "markdown",
   "metadata": {
    "button": false,
    "deletable": true,
    "new_sheet": false,
    "run_control": {
     "read_only": false
    }
   },
   "source": [
    "### Exercise 2\n",
    "\n",
    "Apply the above guided mutation-based fuzzing technique on `cgi_decode()` from the [\"Coverage\"](Coverage.ipynb) chapter.  How many trials do you need until you cover all variations of `+`, `%` (valid and invalid), and regular characters?"
   ]
  },
  {
   "cell_type": "code",
   "execution_count": null,
   "metadata": {
    "collapsed": true,
    "run_control": {}
   },
   "outputs": [],
   "source": [
    "%%capture\n",
    "from Coverage import cgi_decode"
   ]
  },
  {
   "cell_type": "code",
   "execution_count": null,
   "metadata": {
    "collapsed": false,
    "run_control": {}
   },
   "outputs": [],
   "source": [
    "if __name__ == \"__main__\":   # Long-running input\n",
    "    seed_input = \"Hello World\"\n",
    "    population = coverage_fuzzer(\n",
    "        seed=[seed_input], function=cgi_decode, trials=100000)\n",
    "    print(population)"
   ]
  },
  {
   "cell_type": "code",
   "execution_count": null,
   "metadata": {
    "button": false,
    "collapsed": false,
    "new_sheet": false,
    "run_control": {
     "read_only": false
    }
   },
   "outputs": [],
   "source": [
    "cumulative_coverage = population_coverage(population, cgi_decode)\n",
    "\n",
    "import matplotlib.pyplot as plt\n",
    "plt.plot(cumulative_coverage)\n",
    "plt.title('Coverage of cgi_decode() with random inputs')\n",
    "plt.xlabel('# of inputs')\n",
    "plt.ylabel('lines covered');"
   ]
  },
  {
   "cell_type": "markdown",
   "metadata": {
    "button": false,
    "deletable": true,
    "new_sheet": false,
    "run_control": {
     "read_only": false
    }
   },
   "source": [
    "### Exercise 3\n",
    "\n",
    "In this [blog post](https://lcamtuf.blogspot.com/2014/08/binary-fuzzing-strategies-what-works.html), the author of _American Fuzzy Lop_ (AFL), a very popular mutation-based fuzzer discusses the efficiency of various mutation operators.  Implement four of them and evaluate their efficiency as in the examples above."
   ]
  },
  {
   "cell_type": "markdown",
   "metadata": {
    "button": false,
    "deletable": true,
    "new_sheet": false,
    "run_control": {
     "read_only": false
    }
   },
   "source": [
    "### Exercise 4\n",
    "\n",
    "When adding a new element to the list of candidates, AFL does actually not compare the _coverage_, but adds an element if it exercises a new _branch_.  Using branch coverage from the exercises of the [\"Coverage\"](Coverage.ipynb) chapter, implement this \"branch\" strategy and compare it against the \"coverage\" strategy, above."
   ]
  },
  {
   "cell_type": "markdown",
   "metadata": {
    "button": false,
    "deletable": true,
    "new_sheet": false,
    "run_control": {
     "read_only": false
    }
   },
   "source": [
    "### Exercise 5\n",
    "\n",
    "Design and implement a system that will gather a population of URLs from the Web.  Can you achieve a higher coverage with these samples?  What if you use them as intiial population for further mutation?"
   ]
  }
 ],
 "metadata": {
  "celltoolbar": "Edit Metadata",
  "ipub": {
   "bibliography": "gstbook.bib",
   "listcode": false,
   "listfigures": false,
   "listtables": false,
   "titlepage": {
    "author": "Andreas Zeller, Rahul Gopinath, Gordon Fraser, and Christian Holler",
    "subtitle": "Generating Software Tests",
    "title": "Fuzzing"
   },
   "toc": true
  },
  "kernelspec": {
   "display_name": "Python 3",
   "language": "python",
   "name": "python3"
  },
  "language_info": {
   "codemirror_mode": {
    "name": "ipython",
    "version": 3
   },
   "file_extension": ".py",
   "mimetype": "text/x-python",
   "name": "python",
   "nbconvert_exporter": "python",
   "pygments_lexer": "ipython3",
   "version": "3.6.5"
  },
  "toc": {
   "base_numbering": 1,
   "nav_menu": {},
   "number_sections": true,
   "sideBar": true,
   "skip_h1_title": true,
   "title_cell": "",
   "title_sidebar": "Contents",
   "toc_cell": false,
   "toc_position": {},
   "toc_section_display": true,
   "toc_window_display": true
  }
 },
 "nbformat": 4,
 "nbformat_minor": 2
}
