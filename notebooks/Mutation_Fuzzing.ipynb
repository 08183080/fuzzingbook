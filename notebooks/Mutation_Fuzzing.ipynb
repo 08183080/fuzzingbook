{
 "cells": [
  {
   "cell_type": "markdown",
   "metadata": {
    "button": false,
    "deletable": true,
    "new_sheet": false,
    "run_control": {
     "read_only": false
    }
   },
   "source": [
    "# Mutation-Based Fuzzing\n",
    "\n",
    "Most [randomly generated inputs](Basic_Fuzzing.ipynb) are syntactically _invalid_ and thus are quickly rejected by the processing program.  To exercise functionality beyond input processing, we must increase chances to obtain valid inputs.  One such way is by _mutating_ existing valid inputs - that is, introducing small changes that may still keep the input valid, yet exercise new behavior."
   ]
  },
  {
   "cell_type": "markdown",
   "metadata": {
    "button": false,
    "deletable": true,
    "new_sheet": false,
    "run_control": {
     "read_only": false
    }
   },
   "source": [
    "**Prerequisites**\n",
    "\n",
    "* You should know how basic fuzzing works; for instance, from the [\"Fuzzing\"](Basic_Fuzzing.ipynb) chapter."
   ]
  },
  {
   "cell_type": "markdown",
   "metadata": {
    "button": false,
    "deletable": true,
    "new_sheet": false,
    "run_control": {
     "read_only": false
    }
   },
   "source": [
    "## The Problem\n",
    "\n",
    "Most modern programs do a good job in _validating_ their inputs before they actually process them.  As an example, think of a _compiler_ translating program code into a lower-level language.  The processing steps of a compiler are typically depicted as a pipeline of components, each processing the input of its predecessors and producing output for its successors.  In the beginning, we typically have a lexical analysis that puts letters together into words, a syntactic analysis that puts sequences of words and items into structures, and then the actual compilation steps that translate these structures into code:\n",
    "\n",
    "![Compiler Pipeline](PICS/Compiler.pdf)\n",
    "\n",
    "The problem is that with random inputs, you will be able to exercise a lot of functionality in the leftmost stages (i.e., the lexical and possibly syntactical analyses), but the chances of actually producing a _valid_ input that will make it to the later stages are slim."
   ]
  },
  {
   "cell_type": "markdown",
   "metadata": {
    "button": false,
    "deletable": true,
    "new_sheet": false,
    "run_control": {
     "read_only": false
    }
   },
   "source": [
    "\n",
    "### Fuzzing Python Expressions\n",
    "\n",
    "To illustrate just how low the chances are, let us _illustrate the problem on the Python interpreter._  Let us get the fuzzing function from  the [\"Fuzzing\"](Basic_Fuzzing.ipynb) chapter."
   ]
  },
  {
   "cell_type": "code",
   "execution_count": 238,
   "metadata": {
    "button": false,
    "collapsed": false,
    "deletable": true,
    "new_sheet": false,
    "run_control": {
     "read_only": false
    },
    "slideshow": {
     "slide_type": "skip"
    }
   },
   "outputs": [],
   "source": [
    "import gstbook\n",
    "from Basic_Fuzzing import fuzzer"
   ]
  },
  {
   "cell_type": "markdown",
   "metadata": {
    "button": false,
    "collapsed": true,
    "deletable": true,
    "new_sheet": false,
    "run_control": {
     "read_only": false
    },
    "slideshow": {
     "slide_type": "skip"
    }
   },
   "source": [
    "We can use the `fuzzer` function to generate random inputs.  Would this be a valid Python expression?"
   ]
  },
  {
   "cell_type": "code",
   "execution_count": 239,
   "metadata": {
    "button": false,
    "collapsed": false,
    "deletable": true,
    "new_sheet": false,
    "run_control": {
     "read_only": false
    }
   },
   "outputs": [
    {
     "data": {
      "text/plain": [
       "'22 \\' 0,4/&<3\"#>)!?*%.(7<-4-\" ,*?&#$)4*8.?9?5+:>3,>3/\"-*6-53>0*4035(2;#$4:+&\\':88-\"\\'!?07:$8'"
      ]
     },
     "execution_count": 239,
     "metadata": {},
     "output_type": "execute_result"
    }
   ],
   "source": [
    "fuzzer()"
   ]
  },
  {
   "cell_type": "markdown",
   "metadata": {
    "button": false,
    "deletable": true,
    "new_sheet": false,
    "run_control": {
     "read_only": false
    }
   },
   "source": [
    "To test which inputs are actually valid, we use the Python `parser` module.  `parser.suite(_source_)` returns an internal object (actually, a parse tree) if _source_ is a valid command:"
   ]
  },
  {
   "cell_type": "code",
   "execution_count": 240,
   "metadata": {
    "button": false,
    "collapsed": false,
    "deletable": true,
    "new_sheet": false,
    "run_control": {
     "read_only": false
    }
   },
   "outputs": [
    {
     "data": {
      "text/plain": [
       "<parser.st at 0x10c879250>"
      ]
     },
     "execution_count": 240,
     "metadata": {},
     "output_type": "execute_result"
    }
   ],
   "source": [
    "import parser\n",
    "\n",
    "parser.suite(\"print(2 + 2)\")"
   ]
  },
  {
   "cell_type": "markdown",
   "metadata": {
    "button": false,
    "deletable": true,
    "new_sheet": false,
    "run_control": {
     "read_only": false
    }
   },
   "source": [
    "Note that the command is _not_ executed.  (Actually, evaluating or otherwise executing randomly generated strings would be quite a risk: What happens if by chance, a string that deletes your files would be created?)"
   ]
  },
  {
   "cell_type": "markdown",
   "metadata": {
    "button": false,
    "deletable": true,
    "new_sheet": false,
    "run_control": {
     "read_only": false
    }
   },
   "source": [
    "If _source_ is invalid, `parser.suite()` raises an exception:"
   ]
  },
  {
   "cell_type": "code",
   "execution_count": 241,
   "metadata": {
    "button": false,
    "collapsed": false,
    "deletable": true,
    "new_sheet": false,
    "run_control": {
     "read_only": false
    }
   },
   "outputs": [
    {
     "name": "stderr",
     "output_type": "stream",
     "text": [
      "Traceback (most recent call last):\n",
      "  File \"<ipython-input-241-a6d15798aa29>\", line 4, in <module>\n",
      "    parser.suite(\"print(2 +<>^& 37)\")\n",
      "  File \"<string>\", line 1\n",
      "    print(2 +<>^& 37)\n",
      "              ^\n",
      "SyntaxError: invalid syntax\n"
     ]
    }
   ],
   "source": [
    "from gstbook.expect_error import ExpectError\n",
    "\n",
    "with ExpectError():\n",
    "    parser.suite(\"print(2 +<>^& 37)\")"
   ]
  },
  {
   "cell_type": "markdown",
   "metadata": {
    "button": false,
    "deletable": true,
    "new_sheet": false,
    "run_control": {
     "read_only": false
    }
   },
   "source": [
    "We can thus write a function `is_valid_expr()` that checks whether an expression is valid in Python:"
   ]
  },
  {
   "cell_type": "code",
   "execution_count": 242,
   "metadata": {
    "button": false,
    "collapsed": false,
    "deletable": true,
    "new_sheet": false,
    "run_control": {
     "read_only": false
    }
   },
   "outputs": [],
   "source": [
    "def is_valid_expr(source):\n",
    "    \"\"\"Returns true iff source is a valid Python expression\"\"\"\n",
    "    try:\n",
    "        parser.suite(\"print(\" + source + \")\")\n",
    "        return True\n",
    "    except SyntaxError:\n",
    "        return False\n",
    "    except ValueError:\n",
    "        return False\n",
    "\n",
    "assert is_valid_expr(\"4 + 4\")\n",
    "assert not is_valid_expr(\"37 !@#$ 564\")"
   ]
  },
  {
   "cell_type": "markdown",
   "metadata": {
    "button": false,
    "deletable": true,
    "new_sheet": false,
    "run_control": {
     "read_only": false
    }
   },
   "source": [
    "### Invalid Inputs\n",
    "\n",
    "Let us see how many of the `fuzzer()` outputs are actually valid:W"
   ]
  },
  {
   "cell_type": "code",
   "execution_count": 243,
   "metadata": {
    "button": false,
    "collapsed": false,
    "deletable": true,
    "new_sheet": false,
    "run_control": {
     "read_only": false
    }
   },
   "outputs": [
    {
     "data": {
      "text/plain": [
       "0.007"
      ]
     },
     "execution_count": 243,
     "metadata": {},
     "output_type": "execute_result"
    }
   ],
   "source": [
    "valid_inputs = set()\n",
    "TRIALS = 1000\n",
    "\n",
    "for i in range(TRIALS):\n",
    "    input = fuzzer()\n",
    "    if is_valid_expr(input):\n",
    "        valid_inputs.add(input)\n",
    "        \n",
    "len(valid_inputs) / TRIALS"
   ]
  },
  {
   "cell_type": "markdown",
   "metadata": {
    "button": false,
    "deletable": true,
    "new_sheet": false,
    "run_control": {
     "read_only": false
    }
   },
   "source": [
    "About 99% of all generated inputs are invalid - that's not very many.  What are the valid ones we get?"
   ]
  },
  {
   "cell_type": "code",
   "execution_count": 244,
   "metadata": {
    "button": false,
    "collapsed": false,
    "deletable": true,
    "new_sheet": false,
    "run_control": {
     "read_only": false
    }
   },
   "outputs": [
    {
     "data": {
      "text/plain": [
       "{'',\n",
       " ')/9#+39?(\"%4!910(.;!\\'5!0)7>>4*;98+\"&#\"0.,=&#\\' >;355>,#,=<6!?59',\n",
       " '0',\n",
       " '1)#\"1;?;\"50;3,$?26:0>',\n",
       " '1);#-2:>#)&:3+2.;1/-$4> 4= ;6#8# #$)#!8$2!:3<(4?#\\'$6+6.\"%>)9/0(29!,;4+(\\'0<)$$16<7(\".>4%>#4*$',\n",
       " '2',\n",
       " '5'}"
      ]
     },
     "execution_count": 244,
     "metadata": {},
     "output_type": "execute_result"
    }
   ],
   "source": [
    "valid_inputs"
   ]
  },
  {
   "cell_type": "markdown",
   "metadata": {
    "button": false,
    "deletable": true,
    "new_sheet": false,
    "run_control": {
     "read_only": false
    }
   },
   "source": [
    "While we do have a chance to create numbers and very simple arithmetic expressions, we are going to miss plenty of Python data types and functionality - and of course, we are not going to cover the code that handles these.  \n",
    "\n",
    "What are the odds of producing a Python set, for instance? It would have to start with `set(`.  In its default configuration, for instance, `get_fuzzer()` does not even produce letters.  If we give it a range of say, 64 characters, we have a chance of $1 : 64^4$ to have an input that starts with `set(`.  How much is that, again?"
   ]
  },
  {
   "cell_type": "code",
   "execution_count": 245,
   "metadata": {
    "button": false,
    "collapsed": false,
    "deletable": true,
    "new_sheet": false,
    "run_control": {
     "read_only": false
    }
   },
   "outputs": [
    {
     "data": {
      "text/plain": [
       "16777216"
      ]
     },
     "execution_count": 245,
     "metadata": {},
     "output_type": "execute_result"
    }
   ],
   "source": [
    "64 ** 4"
   ]
  },
  {
   "cell_type": "markdown",
   "metadata": {
    "button": false,
    "deletable": true,
    "new_sheet": false,
    "run_control": {
     "read_only": false
    }
   },
   "source": [
    "Indeed, less than one in a million.  Plus, we'd also need the closing `)`..."
   ]
  },
  {
   "cell_type": "markdown",
   "metadata": {
    "button": false,
    "deletable": true,
    "new_sheet": false,
    "run_control": {
     "read_only": false
    }
   },
   "source": [
    "## Mutating Inputs\n",
    "\n",
    "The alternative to generating random strings from scratch is to start with a guiven _valid_ input, and then to subsequently _mutate_ it.  A _mutation_ in this context is a simple string manipulation - say, inserting a (random) character, deleting a character, or flipping a bit in a character representation.  Here are some mutations to get you started:"
   ]
  },
  {
   "cell_type": "code",
   "execution_count": 246,
   "metadata": {
    "button": false,
    "collapsed": true,
    "deletable": true,
    "new_sheet": false,
    "run_control": {
     "read_only": false
    }
   },
   "outputs": [],
   "source": [
    "import random"
   ]
  },
  {
   "cell_type": "code",
   "execution_count": 247,
   "metadata": {
    "button": false,
    "collapsed": false,
    "deletable": true,
    "new_sheet": false,
    "run_control": {
     "read_only": false
    }
   },
   "outputs": [
    {
     "name": "stdout",
     "output_type": "stream",
     "text": [
      "A quick bron fox\n",
      "A quickbrown fox\n",
      "A quick brow fox\n",
      "A uick brown fox\n",
      "A quck brown fox\n",
      "A quic brown fox\n",
      "A quick brow fox\n",
      "A quickbrown fox\n",
      "A quick brown fo\n",
      "A quick rown fox\n"
     ]
    }
   ],
   "source": [
    "def delete_random_character(s):\n",
    "    \"\"\"Returns s with a random character deleted\"\"\"\n",
    "    pos = random.randint(0, len(s) - 1)\n",
    "    # print(\"Deleting\", repr(s[pos]), \"at\", pos)\n",
    "    return s[:pos] + s[pos + 1:]\n",
    "\n",
    "for i in range(10):\n",
    "    x = delete_random_character(\"A quick brown fox\")\n",
    "    print(x)"
   ]
  },
  {
   "cell_type": "code",
   "execution_count": 248,
   "metadata": {
    "button": false,
    "collapsed": false,
    "deletable": true,
    "new_sheet": false,
    "run_control": {
     "read_only": false
    }
   },
   "outputs": [
    {
     "name": "stdout",
     "output_type": "stream",
     "text": [
      "A qui$ck brown fox\n",
      "A quick brown /fox\n",
      "A quick brown fox \n",
      "A quick brown 0fox\n",
      "A quick 4brown fox\n",
      "A quick brow>n fox\n",
      "A quick brown fox(\n",
      "A quick, brown fox\n",
      "A quick brown =fox\n",
      "A q8uick brown fox\n"
     ]
    }
   ],
   "source": [
    "def insert_random_character(s):\n",
    "    \"\"\"Returns s with a random character inserted\"\"\"\n",
    "    pos = random.randint(0, len(s))\n",
    "    random_character = chr(random.randrange(32, 64))\n",
    "    # print(\"Inserting\", repr(random_character), \"at\", pos)\n",
    "    return s[:pos] + random_character + s[pos:]\n",
    "\n",
    "for i in range(10):\n",
    "    print(insert_random_character(\"A quick brown fox\"))"
   ]
  },
  {
   "cell_type": "code",
   "execution_count": 249,
   "metadata": {
    "button": false,
    "collapsed": false,
    "deletable": true,
    "new_sheet": false,
    "run_control": {
     "read_only": false
    }
   },
   "outputs": [
    {
     "name": "stdout",
     "output_type": "stream",
     "text": [
      "A quick bzown fox\n",
      "A quick brow~ fox\n",
      "A quico brown fox\n",
      "A quick browN fox\n",
      "A0quick brown fox\n",
      "A qtick brown fox\n",
      "A quick crown fox\n",
      "C quick brown fox\n",
      "A qumck brown fox\n",
      "A quick brosn fox\n"
     ]
    }
   ],
   "source": [
    "def flip_random_character(s):\n",
    "    \"\"\"Returns s with a random bit flipped in a random position\"\"\"\n",
    "    pos = random.randint(0, len(s) - 1)\n",
    "    c = s[pos]\n",
    "    bit = 1 << random.randint(0, 6)\n",
    "    new_c = chr(ord(c) ^ bit)\n",
    "    # print(\"Flipping\", bit, \"in\", repr(c) + \", giving\", repr(new_c))\n",
    "    return s[:pos] + new_c + s[pos + 1:]\n",
    "\n",
    "for i in range(10):\n",
    "    print(flip_random_character(\"A quick brown fox\"))"
   ]
  },
  {
   "cell_type": "markdown",
   "metadata": {
    "button": false,
    "deletable": true,
    "new_sheet": false,
    "run_control": {
     "read_only": false
    }
   },
   "source": [
    "Let us now create a random mutator that randomly chooses which mutation to apply:"
   ]
  },
  {
   "cell_type": "code",
   "execution_count": 250,
   "metadata": {
    "button": false,
    "collapsed": false,
    "deletable": true,
    "new_sheet": false,
    "run_control": {
     "read_only": false
    }
   },
   "outputs": [
    {
     "name": "stdout",
     "output_type": "stream",
     "text": [
      "A quick brow fox\n",
      "A quic%k brown fox\n",
      "A qu=ick brown fox\n",
      "A quick brown fo3x\n",
      "A quick broun fox\n",
      "A quick brown &ox\n",
      "A' quick brown fox\n",
      "A qick brown fox\n",
      " A quick brown fox\n",
      "A quickbrown fox\n"
     ]
    }
   ],
   "source": [
    "mutators = [delete_random_character, insert_random_character, flip_random_character]\n",
    "\n",
    "def mutate(s):\n",
    "    \"\"\"Return s with a random mutation applied\"\"\"\n",
    "    mutator = random.choice(mutators)\n",
    "    # print(mutator)\n",
    "    return mutator(s)\n",
    "\n",
    "\n",
    "for i in range(10):\n",
    "    print(mutate(\"A quick brown fox\"))"
   ]
  },
  {
   "cell_type": "markdown",
   "metadata": {
    "button": false,
    "deletable": true,
    "new_sheet": false,
    "run_control": {
     "read_only": false
    }
   },
   "source": [
    "Let us now apply the `mutate()` function on a Python expression and see how many valid inputs we obtain."
   ]
  },
  {
   "cell_type": "code",
   "execution_count": 251,
   "metadata": {
    "button": false,
    "collapsed": false,
    "deletable": true,
    "new_sheet": false,
    "run_control": {
     "read_only": false
    }
   },
   "outputs": [],
   "source": [
    "seed_input = \"1 + 2 * 3 / 4\"\n",
    "valid_inputs = set()\n",
    "TRIALS = 1000\n",
    "\n",
    "for i in range(TRIALS):\n",
    "    input = mutate(seed_input)\n",
    "    if is_valid_expr(input):\n",
    "        valid_inputs.add(input)"
   ]
  },
  {
   "cell_type": "markdown",
   "metadata": {
    "button": false,
    "deletable": true,
    "new_sheet": false,
    "run_control": {
     "read_only": false
    }
   },
   "source": [
    "The first thing we observe is that the number of valid inputs is now much higher.  We are still far away from 100% valid inputs, but this is an improvement:"
   ]
  },
  {
   "cell_type": "code",
   "execution_count": 252,
   "metadata": {
    "button": false,
    "collapsed": false,
    "deletable": true,
    "new_sheet": false,
    "run_control": {
     "read_only": false
    }
   },
   "outputs": [
    {
     "data": {
      "text/plain": [
       "0.096"
      ]
     },
     "execution_count": 252,
     "metadata": {},
     "output_type": "execute_result"
    }
   ],
   "source": [
    "len(valid_inputs) / TRIALS"
   ]
  },
  {
   "cell_type": "markdown",
   "metadata": {
    "button": false,
    "deletable": true,
    "new_sheet": false,
    "run_control": {
     "read_only": false
    }
   },
   "source": [
    "Most important, though, is that the valid inputs now cover many more Python expression features - additional operands, identifiers, and more:"
   ]
  },
  {
   "cell_type": "code",
   "execution_count": 253,
   "metadata": {
    "button": false,
    "collapsed": false,
    "deletable": true,
    "new_sheet": false,
    "run_control": {
     "read_only": false
    }
   },
   "outputs": [
    {
     "name": "stdout",
     "output_type": "stream",
     "text": [
      "{'1 + 2 *  3 / 4', '1 + 2 * 3 / 0', '9 + 2 * 3 / 4', '1 + 82 * 3 / 4', '1 + r * 3 / 4', '1+ + 2 * 3 / 4', '0 + 2 * 3 / 4', '1 + 2 * 3 / 6', '1 + 2 * 32 / 4', '1 + 2 * 83 / 4', '1< + 2 * 3 / 4', '1 + .2 * 3 / 4', '1 + 2 * 39 / 4', '19 + 2 * 3 / 4', '1 + 3 * 3 / 4', '1 + 2 * 3 / 5', '-1 + 2 * 3 / 4', ' 1 + 2 * 3 / 4', '1 + 2 * 3 / 45', '1 + 2 * 3 /  4', '1 + 2 * 3/ 4', '1 + 2 * 30 / 4', '1 / 2 * 3 / 4', '1 + 2 * 53 / 4', '1 =+ 2 * 3 / 4', '1 + 2 * 2 / 4', '10+ 2 * 3 / 4', '1 + 26 * 3 / 4', '1 + 2 * 7 / 4', '1 + 2 * 36 / 4', '1 + 2 * 3 / 41', '1 + 0 * 3 / 4', '1 /+ 2 * 3 / 4', '1 + 2 * -3 / 4', '1 + 2 * s / 4', '1 + 2 * 35 / 4', '1 + 2 * 3 /4', '1 + 2 * 3. / 4', '1 + 2 *3 / 4', '1 + 2 * 1 / 4', '1 + 2 * 3  / 4', '1 + 2 + 3 / 4', '1 * 2 * 3 / 4', '1 + 2 * 33 / 4', '3 + 2 * 3 / 4', '1 + 20 * 3 / 4', '1 + 2 * 3 + 4', ' + 2 * 3 / 4', '1. + 2 * 3 / 4', '1 + 2  * 3 / 4', '10 + 2 * 3 / 4', '1 + 2 * 3 - 4', '1 + +2 * 3 / 4', '1 + 2 * 3 // 4', '1 + 2 * 63 / 4', 'q + 2 * 3 / 4', '1 + 72 * 3 / 4', '1 + 2 * 30/ 4', '1  + 2 * 3 / 4', '1 + 2 * 37 / 4', '5 + 2 * 3 / 4', '1 + 2 * 3 / 47', '1 + 2, * 3 / 4', '1 + 2 ** 3 / 4', '1 +  2 * 3 / 4', '1* + 2 * 3 / 4', '1 + 2* 3 / 4', '1 + 2 *- 3 / 4', '1 -+ 2 * 3 / 4', '1 &+ 2 * 3 / 4', '*1 + 2 * 3 / 4', '1 + 2 * 3 / t', '1 + 2 * 3 / 14', '1 + 2 * .3 / 4', '1 + 2 * 3 / +4', '1 + 2 * 3 / 74', '1 + 2 * 23 / 4', '1 + 2 * 3 / 46', '1- + 2 * 3 / 4', '1 ++ 2 * 3 / 4', '1 +- 2 * 3 / 4', '1% + 2 * 3 / 4', '1 + 2 * 3 /+ 4', '1 + 6 * 3 / 4', '1, + 2 * 3 / 4', '1+ 2 * 3 / 4', '1 + 25 * 3 / 4', '21 + 2 * 3 / 4', '1 +2 * 3 / 4', '1 + 2 * 73 / 4', '11 + 2 * 3 / 4', '1 + 20* 3 / 4', '1 + 92 * 3 / 4', '18 + 2 * 3 / 4', '1 + 2 * 3 / 64', '1 + 2 * 3 / 40'}\n"
     ]
    }
   ],
   "source": [
    "print(valid_inputs)"
   ]
  },
  {
   "cell_type": "markdown",
   "metadata": {
    "button": false,
    "deletable": true,
    "new_sheet": false,
    "run_control": {
     "read_only": false
    }
   },
   "source": [
    "## Next Steps\n",
    "\n",
    "* Apply on files\n",
    "* Make this guided by coverage, as AFL does"
   ]
  },
  {
   "cell_type": "code",
   "execution_count": null,
   "metadata": {
    "button": false,
    "collapsed": true,
    "deletable": true,
    "new_sheet": false,
    "run_control": {
     "read_only": false
    }
   },
   "outputs": [],
   "source": []
  }
 ],
 "metadata": {
  "celltoolbar": "Edit Metadata",
  "ipub": {
   "bibliography": "gstbook.bib",
   "listcode": false,
   "listfigures": false,
   "listtables": false,
   "titlepage": {
    "author": "Andreas Zeller, Rahul Gopinath, Gordon Fraser, and Christian Holler",
    "subtitle": "Generating Software Tests",
    "title": "Fuzzing"
   },
   "toc": true
  },
  "kernelspec": {
   "display_name": "Python 3",
   "language": "python",
   "name": "python3"
  },
  "language_info": {
   "codemirror_mode": {
    "name": "ipython",
    "version": 3
   },
   "file_extension": ".py",
   "mimetype": "text/x-python",
   "name": "python",
   "nbconvert_exporter": "python",
   "pygments_lexer": "ipython3",
   "version": "3.5.0"
  },
  "toc": {
   "base_numbering": 1,
   "nav_menu": {},
   "number_sections": true,
   "sideBar": true,
   "skip_h1_title": true,
   "title_cell": "",
   "title_sidebar": "Contents",
   "toc_cell": false,
   "toc_position": {},
   "toc_section_display": true,
   "toc_window_display": true
  }
 },
 "nbformat": 4,
 "nbformat_minor": 2
}
