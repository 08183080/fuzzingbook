{
 "cells": [
  {
   "cell_type": "markdown",
   "metadata": {
    "button": false,
    "new_sheet": false,
    "run_control": {
     "read_only": false
    }
   },
   "source": [
    "# Parsing and Recombining Inputs\n",
    "\n",
    "In the chapter on [Grammars](Grammars.ipynb), we discussed how grammars can be\n",
    "used to represent various languages. We also saw how grammars can be used to\n",
    "generate strings of the corresponding language. Grammars can also perform the\n",
    "reverse. That is, given a string, one can decompose the string into its\n",
    "constituent parts that correspond to the parts grammar used to generate it\n",
    "-- the derivation tree of that string. These parts (and parts from other similar\n",
    "strings) can later be recombined using the same grammar to produce new strings.\n",
    "\n",
    "In this chapter, we use grammars to parse and decompose inputs to\n",
    "their corresponding derivation trees, allowing us to recombine them\n",
    "arbitrarily."
   ]
  },
  {
   "cell_type": "markdown",
   "metadata": {},
   "source": [
    "**Prerequisites**\n",
    "\n",
    "* You should have read the [chapter on grammars](Grammars.ipynb).\n",
    "* An understanding of derivation trees from the [chapter on grammar fuzzer](GrammarFuzzer.ipynb)\n",
    "  is also required."
   ]
  },
  {
   "cell_type": "code",
   "execution_count": null,
   "metadata": {},
   "outputs": [],
   "source": [
    "import fuzzingbook_utils\n",
    "from Grammars import EXPR_GRAMMAR, START_SYMBOL, RE_NONTERMINAL\n",
    "from GrammarFuzzer import display_tree, all_terminals"
   ]
  },
  {
   "cell_type": "markdown",
   "metadata": {},
   "source": [
    "In order to parse a string, one needs to identify the language, and the\n",
    "corresponding grammar. For example, here is a string that we would like to parse"
   ]
  },
  {
   "cell_type": "code",
   "execution_count": null,
   "metadata": {},
   "outputs": [],
   "source": [
    "mystring = '1+2'"
   ]
  },
  {
   "cell_type": "markdown",
   "metadata": {},
   "source": [
    "This string is an arithmetic expression for addition, which may be specified using a grammar."
   ]
  },
  {
   "cell_type": "code",
   "execution_count": null,
   "metadata": {},
   "outputs": [],
   "source": [
    "A1_GRAMMAR = {\n",
    "   \"<start>\":\n",
    "       [\"<expr>\"],\n",
    "   \"<expr>\":\n",
    "       [\"<expr>+<expr>\", \"<expr>-<expr>\", \"<integer>\"],\n",
    "   \"<integer>\":\n",
    "       [\"<digit><integer>\", \"<digit>\"],\n",
    "   \"<digit>\":\n",
    "        [\"0\", \"1\", \"2\", \"3\", \"4\", \"5\", \"6\", \"7\", \"8\", \"9\"]\n",
    "}"
   ]
  },
  {
   "cell_type": "markdown",
   "metadata": {},
   "source": [
    "The parse tree for our expression from this grammar is given by:"
   ]
  },
  {
   "cell_type": "code",
   "execution_count": null,
   "metadata": {},
   "outputs": [],
   "source": [
    "tree = ('<start>',[\n",
    "    ('<expr>',[\n",
    "        ('<expr>',[('<integer>',[('<digit>',[('1',[])])])]),\n",
    "        ('+',[]),                           \n",
    "        ('<expr>',[('<integer>',[('<digit>',[('2',[])])])])])])\n",
    "assert mystring == all_terminals(tree)\n",
    "display_tree(tree)"
   ]
  },
  {
   "cell_type": "markdown",
   "metadata": {},
   "source": [
    "While a grammar can be used to specify a given language, there could be multiple\n",
    "grammars that correspond to the same language. For example, here is another \n",
    "grammar to describe the same addition expression."
   ]
  },
  {
   "cell_type": "code",
   "execution_count": null,
   "metadata": {},
   "outputs": [],
   "source": [
    "A2_GRAMMAR = {\n",
    "   \"<start>\":\n",
    "      [\"<expr>\"],\n",
    "   \"<expr>\":\n",
    "      [\"<integer><expr_>\"],\n",
    "   \"<expr_>\":\n",
    "      [\"+<expr>\", \"-<expr>\", \"\"],\n",
    "   \"<integer>\":\n",
    "      [\"<digit><integer_>\"],\n",
    "   \"<integer_>\":\n",
    "      [\"<integer>\", \"\"],\n",
    "   \"<digit>\":\n",
    "      [\"0\", \"1\", \"2\", \"3\", \"4\", \"5\", \"6\", \"7\", \"8\", \"9\"]\n",
    "}"
   ]
  },
  {
   "cell_type": "markdown",
   "metadata": {},
   "source": [
    "The corresponding derivation tree is given by:"
   ]
  },
  {
   "cell_type": "code",
   "execution_count": null,
   "metadata": {},
   "outputs": [],
   "source": [
    "tree = ('<start>', [\n",
    "    ('<expr>', [('<integer>',\n",
    "                 [('<digit>', [('1', [])]), ('<integer_>', [('',[])])]),\n",
    "                ('<expr_>', [('+', []), \n",
    "                             ('<expr>', [\n",
    "                                 ('<integer>', [\n",
    "                                     ('<digit>', [('2', [])]),\n",
    "                                     ('<integer_>', [('',[])])]),\n",
    "                                 ('<expr_>', [('',[])])])])])])\n",
    "assert mystring == all_terminals(tree)\n",
    "display_tree(tree)"
   ]
  },
  {
   "cell_type": "markdown",
   "metadata": {},
   "source": [
    "Indeed, there could be different classes of grammars that\n",
    "describe the same language. For example, the first grammar `A1_GRAMMAR`\n",
    "is a grammar that sports both _right_ and _left_ recursion, while the\n",
    "second grammar `A2_GRAMMAR` does not have left recursion in the\n",
    "non-terminals in any of its productions, but contains _epsilon_ productions.\n",
    "(An epsilon production is a production that has empty string in its right\n",
    "hand side.)\n",
    "\n",
    "A grammar is left recursive if any of its non-terminals are left recursive,\n",
    "and a non-terminal is directly left-recursive if the left-most symbol of\n",
    "any of its productions is itself. It is indirectly left-recursive if any\n",
    "of the left-most symbols can be expanded using their definitions to\n",
    "produce the non-terminal as the left-most symbol of the expansion.\n",
    "Right recursive grammars are defined similarly.\n",
    "\n",
    "For example, in `A1_GRAMMAR`, the definition of `<expr>` is\n",
    "left-recursive, and right recursive directly. However in `A2_GRAMMAR`,\n",
    "`<expr>` is right recursive indirectly through the expansion of `<expr_>`.\n",
    "\n",
    "To complicate matters further, there could be\n",
    "multiple derivation trees -- also called _parses_ -- corresponding to the\n",
    "same string from the same grammar. For example, a string `1+2+3` can be parsed\n",
    "in two ways as we see below using the `A1_GRAMMAR`"
   ]
  },
  {
   "cell_type": "code",
   "execution_count": null,
   "metadata": {},
   "outputs": [],
   "source": [
    "mystring = '1+2+3'\n",
    "tree = ('<start>', [\n",
    "    ('<expr>', [\n",
    "        ('<expr>', [\n",
    "            ('<expr>', [('<integer>', [('<digit>', [('1', [])])])]),\n",
    "            ('+', []),\n",
    "            ('<expr>', [('<integer>', [('<digit>', [('2', [])])])])]), \n",
    "        ('+', []), \n",
    "        ('<expr>', [('<integer>', [('<digit>', [('3', [])])])])])])\n",
    "assert mystring == all_terminals(tree)\n",
    "display_tree(tree)"
   ]
  },
  {
   "cell_type": "code",
   "execution_count": null,
   "metadata": {},
   "outputs": [],
   "source": [
    "tree = ('<start>', [\n",
    "    ('<expr>', [\n",
    "        ('<expr>', [('<integer>', [('<digit>', [('1', [])])])]), \n",
    "        ('+', []), \n",
    "        ('<expr>', [\n",
    "            ('<expr>', [('<integer>', [('<digit>', [('2', [])])])]), \n",
    "            ('+', []), \n",
    "            ('<expr>', [('<integer>', [('<digit>', [('3', [])])])])]) ])])\n",
    "assert all_terminals(tree) == mystring\n",
    "display_tree(tree)"
   ]
  },
  {
   "cell_type": "markdown",
   "metadata": {},
   "source": [
    "Numerous parsing techniques exist that can take a grammar and the given\n",
    "string, and produce the corresponding derivation tree or trees. However,\n",
    "some of these techniques work only on specific classes of grammars.\n",
    "These classes of grammars are named after the specific kind of parser\n",
    "that can accept grammars of that category. That is, the upperbound for\n",
    "the capabilities of the parser defines the grammar class named after that\n",
    "parser."
   ]
  },
  {
   "cell_type": "markdown",
   "metadata": {},
   "source": [
    "Different classes of grammars differ in the features that are available to\n",
    "the user for writing a grammar of that class. That is, the corresponding\n",
    "kind of parser will be unable to parse a grammar that makes use of more\n",
    "features than is allowed. For example, the `A2_GRAMMAR` is an _LL(1)_\n",
    "grammar because it lacks left recursion, while `A1_GRAMMAR` is not an\n",
    "_LL(1)_ grammar. This is because an _LL_ parser is a parser that parses\n",
    "its input from left to right, and constructs a leftmost derivation of its\n",
    "input by expanding the non-terminals it encounters. If there is a left\n",
    "recursion in one of these rules, an _LL_ parser will enter an infinite loop.\n",
    "\n",
    "We will examine a few classes of parsers next. First we define a few common\n",
    "features required by all parsers we implement."
   ]
  },
  {
   "cell_type": "code",
   "execution_count": null,
   "metadata": {},
   "outputs": [],
   "source": [
    "import functools\n",
    "import re"
   ]
  },
  {
   "cell_type": "markdown",
   "metadata": {},
   "source": [
    "The  `EXPR_GRAMMAR` we import from the [chapter on grammars](Grammars.ipynb) is oriented towards generation. In particular, the production rules are stored as strings. We need to massage this representation a little to conform to a canonical representation where each token in a rule is represented separately."
   ]
  },
  {
   "cell_type": "code",
   "execution_count": null,
   "metadata": {},
   "outputs": [],
   "source": [
    "def split(rule):\n",
    "    return [s for s in re.split(RE_NONTERMINAL, rule) if s]\n",
    "\n",
    "def canonical(grammar):\n",
    "    return  {k: [split(l) for l in rules] for k, rules in grammar.items()}"
   ]
  },
  {
   "cell_type": "markdown",
   "metadata": {},
   "source": [
    "We define a minimal interface for parsing, that is obeyed by all parsers."
   ]
  },
  {
   "cell_type": "code",
   "execution_count": null,
   "metadata": {},
   "outputs": [],
   "source": [
    "class Parser(object):\n",
    "    def __init__(self, grammar, start_symbol=START_SYMBOL):\n",
    "        self.start_symbol = start_symbol\n",
    "        self.grammar = grammar\n",
    "        \n",
    "    def parse_prefix(self, text):\n",
    "        \"\"\"Return pair (cursor, forest) for longest prefix of text\"\"\"\n",
    "        raise NotImplemented()\n",
    "        \n",
    "    def parse(self, text):\n",
    "        cursor, forest = self.parse_prefix(text)\n",
    "        if cursor < len(text):\n",
    "            raise SyntaxError(\"at \" + repr(text[cursor:]))\n",
    "        return forest"
   ]
  },
  {
   "cell_type": "markdown",
   "metadata": {},
   "source": [
    "## Packrat Parsing for _Parsing Expression Grammars_"
   ]
  },
  {
   "cell_type": "markdown",
   "metadata": {},
   "source": [
    "Short of handrolling a parser, _Packrat_ parsing is one of the simplest parsing techniques, and the class of grammar it accepts is called a _Parsing Expression Grammar_ (Packrat is one of the techniques for parsing PEGs)."
   ]
  },
  {
   "cell_type": "markdown",
   "metadata": {},
   "source": [
    "A _Parsing Expression Grammar_ comes is very similar to a _Context-Free-Grammar_. As in a _Context Free Grammar_, the grammar is represented by a set of non-terminals and corresponding **choice expressions** representing how to match each. For example, here is a PEG that matches `a` or `b`."
   ]
  },
  {
   "cell_type": "code",
   "execution_count": null,
   "metadata": {},
   "outputs": [],
   "source": [
    "peg = {\n",
    "    '<start>': [['a'],['b']]\n",
    "}"
   ]
  },
  {
   "cell_type": "markdown",
   "metadata": {},
   "source": [
    "However, unlike the _CFG_, the choice expression is an **ordered choice**. That is, rather than choosing all rules that can potentially match, we stop at the first match that succeed. For example, the below _PEG_ can match `ab` but not `abc` unlike a _CFG_ which will match both."
   ]
  },
  {
   "cell_type": "code",
   "execution_count": null,
   "metadata": {},
   "outputs": [],
   "source": [
    "peg = {\n",
    "    '<start>': [['ab'],['abc']]\n",
    "}"
   ]
  },
  {
   "cell_type": "markdown",
   "metadata": {},
   "source": [
    "Each choice in a _choice expression_ represents a rule on how to satisfy that particular choice. The choice is a sequence of tokens (terminals and non-terminals) that are matched against a given text as in a _CFG_."
   ]
  },
  {
   "cell_type": "markdown",
   "metadata": {},
   "source": [
    "Beyond the syntax of grammar definitions we have seen so far, a _PEG_ can can also contain a few additional elements. See the exercises at the end of the chapter for additional information."
   ]
  },
  {
   "cell_type": "markdown",
   "metadata": {},
   "source": [
    "The parsing expression grammars model the typical practice in handwritten recursive descent parsers, and hence it may be considered more intuitive to understand. Further, it comes with attractive properties such as linear time parsing (the time required to parse increases linearly with the increase in input length).\n",
    "\n",
    "We look at the implementation of a simple PEG parser next."
   ]
  },
  {
   "cell_type": "markdown",
   "metadata": {},
   "source": [
    "We derive from the `Parser` base class first, and we accept the text to be parsed in the `parse` method, which in turn calls `unify_key` with the `start_symbol` which is the starting point of parsing."
   ]
  },
  {
   "cell_type": "code",
   "execution_count": null,
   "metadata": {},
   "outputs": [],
   "source": [
    "class PEGParser(Parser):\n",
    "    def __init__(self, grammar, start_symbol):\n",
    "        super().__init__(canonical(grammar), start_symbol)\n",
    "        \n",
    "    def parse_prefix(self, text):\n",
    "        return self.unify_key(self.start_symbol, text, 0)"
   ]
  },
  {
   "cell_type": "markdown",
   "metadata": {},
   "source": [
    "The `unify_key` algorithm is simple. If given a terminal symbol, it tries to match the symbol with the current position in the text. If the symbol and text match, it returns successfully with the new parse index `at`.\n",
    "\n",
    "If on the other hand, it was given a non-terminal, it retrieves the choice expression corresponding to the key, and tries to match each choice in order using `unify_rule`. If **any** of the rules succeed in being unified with the given text, the parse is considered a success, and we return with the new parse index returned by `unify_rule`."
   ]
  },
  {
   "cell_type": "code",
   "execution_count": null,
   "metadata": {
    "button": false,
    "code_folding": [],
    "new_sheet": false,
    "run_control": {
     "read_only": false
    },
    "slideshow": {
     "slide_type": "subslide"
    }
   },
   "outputs": [],
   "source": [
    "class PEGParser(PEGParser):\n",
    "    @functools.lru_cache(maxsize=None)\n",
    "    def unify_key(self, key, text, at=0):\n",
    "        if key not in self.grammar:\n",
    "            if text[at:].startswith(key): return at + len(key), (key, [])\n",
    "            else: return at, None\n",
    "        for rule in self.grammar[key]:\n",
    "            l, res = self.unify_rule(rule, text, at)\n",
    "            if res: return (l, (key, res))\n",
    "        return 0, None"
   ]
  },
  {
   "cell_type": "markdown",
   "metadata": {},
   "source": [
    "The `unify_rule` is similar. It retrieves the tokens corresponding to the rule that it needs to unify with the text, and calls `unify_key` on them in sequence. If **all** tokens are successfully unified with the text, the parse is a success."
   ]
  },
  {
   "cell_type": "code",
   "execution_count": null,
   "metadata": {},
   "outputs": [],
   "source": [
    "class PEGParser(PEGParser):\n",
    "    def unify_rule(self, rule, text, at):\n",
    "        results = []\n",
    "        for token in rule:\n",
    "            at, res = self.unify_key(token, text, at)\n",
    "            if res is None: return at, None\n",
    "            results.append(res)\n",
    "        return at, results"
   ]
  },
  {
   "cell_type": "markdown",
   "metadata": {},
   "source": [
    "The two methods are mutually recursive, and given that `unify_key` tries each alternative until it succeeds, `unify_key` can be called multiple times with the same arguments. Hence, we memoize the results of `unify_key` with `functools.lru_cache` decorator. This memoization gives the algorithm its name -- packrat.\n",
    "\n",
    "We wrap initialization and calling of PEGParser in a method `parse` that accepts the text to be parsed along with the grammar."
   ]
  },
  {
   "cell_type": "code",
   "execution_count": null,
   "metadata": {},
   "outputs": [],
   "source": [
    "def parse(text, grammar):\n",
    "    peg = PEGParser(grammar, START_SYMBOL)\n",
    "    return peg.parse(text)  "
   ]
  },
  {
   "cell_type": "markdown",
   "metadata": {},
   "source": [
    "Here are a few examples of our parser in action."
   ]
  },
  {
   "cell_type": "code",
   "execution_count": null,
   "metadata": {},
   "outputs": [],
   "source": [
    "mystring = \"1 + (2 * 3)\"\n",
    "tree = parse(mystring, EXPR_GRAMMAR)\n",
    "assert all_terminals(tree) == mystring\n",
    "display_tree(tree)"
   ]
  },
  {
   "cell_type": "code",
   "execution_count": null,
   "metadata": {},
   "outputs": [],
   "source": [
    "mystring = \"1 * (2 + 3.35)\"\n",
    "tree = parse(mystring, EXPR_GRAMMAR)\n",
    "assert all_terminals(tree) == mystring\n",
    "display_tree(tree)"
   ]
  },
  {
   "cell_type": "markdown",
   "metadata": {},
   "source": [
    "One should be aware that while the grammar looks like a Context Free Grammar, the language described by a PEG may be different (only LL(1) grammars are guaranteed to represent the same language for both PEGs and other parsers), while other behaviors could be surprising~\\cite{redziejowski2008}. \n",
    "\n",
    "While _Parsing Expression Grammars_ are simple at first sight, their behavior in some cases might be a bit unintuitive. For example, here is an example from Redziejowski~\\cite{redziejowski}"
   ]
  },
  {
   "cell_type": "code",
   "execution_count": null,
   "metadata": {},
   "outputs": [],
   "source": [
    "PEG_SURPRISE = {\n",
    "    \"A\": [\"a<A>a\",\"aa\"]\n",
    "}"
   ]
  },
  {
   "cell_type": "markdown",
   "metadata": {},
   "source": [
    "When interpreted as a context free grammar and used as a string generator, it will produce strings of the form `a, aa, aaaa, aaaaaa` that is, it produces strings where the number of `a` is \\Latex{2*n}. However, the PEG can only recognize strings of the form `a, aa, aaaa, aaaaaaaa`, that is where the number of `a` is \\Latex{2^n}."
   ]
  },
  {
   "cell_type": "markdown",
   "metadata": {},
   "source": [
    "## Parsers for Context Free Grammars"
   ]
  },
  {
   "cell_type": "code",
   "execution_count": null,
   "metadata": {},
   "outputs": [],
   "source": []
  },
  {
   "cell_type": "code",
   "execution_count": null,
   "metadata": {},
   "outputs": [],
   "source": [
    "EOF = '\\0'\n",
    "EPSILON = ''"
   ]
  },
  {
   "cell_type": "markdown",
   "metadata": {},
   "source": [
    "LL(1) grammars are rather restrictive. Specifically, the grammar should not contain left recursion. Hence, we have to\n",
    "update our original grammar to remove left-recursion."
   ]
  },
  {
   "cell_type": "code",
   "execution_count": null,
   "metadata": {},
   "outputs": [],
   "source": [
    "def rules(g): return [(k, e) for k, a in g.items() for e in a]"
   ]
  },
  {
   "cell_type": "code",
   "execution_count": null,
   "metadata": {},
   "outputs": [],
   "source": [
    "def terminals(g):\n",
    "    return set(t for k, expr in rules(g) for t in expr if t not in g)"
   ]
  },
  {
   "cell_type": "markdown",
   "metadata": {},
   "source": [
    "### First and Follow sets\n",
    "\n",
    "\\todo{Define first and follow sets}\n",
    "We first define the fixpiont\n",
    "\\todo{Define what is a fixpoint of a function}"
   ]
  },
  {
   "cell_type": "code",
   "execution_count": null,
   "metadata": {},
   "outputs": [],
   "source": [
    "def fixpoint(f):\n",
    "    def helper(*args):\n",
    "        while True:\n",
    "            sargs = repr(args)\n",
    "            args_ = f(*args)\n",
    "            if repr(args_) == sargs:\n",
    "                return args\n",
    "            args = args_\n",
    "    return helper"
   ]
  },
  {
   "cell_type": "code",
   "execution_count": null,
   "metadata": {},
   "outputs": [],
   "source": [
    "@fixpoint\n",
    "def nullable_(rules, e):\n",
    "    for A, expression in rules:\n",
    "        if all((token in e)  for token in expression): e |= {A}\n",
    "    return (rules, e)\n",
    "\n",
    "def nullable(grammar):\n",
    "    return nullable_(rules(grammar), set())[1]"
   ]
  },
  {
   "cell_type": "code",
   "execution_count": null,
   "metadata": {},
   "outputs": [],
   "source": [
    "@fixpoint\n",
    "def firstset_(rules, first, epsilon):\n",
    "    for A, expression in rules:\n",
    "        for token in expression:\n",
    "            first[A] |= first[token]\n",
    "            if token not in epsilon:\n",
    "                break\n",
    "    return (rules, first, epsilon)\n",
    "\n",
    "def firstset(grammar, epsilon):\n",
    "    first = {i:{i} for i in terminals(grammar)}\n",
    "    for k in grammar:\n",
    "        first[k] = {EPSILON} if k in epsilon else set()\n",
    "    return firstset_(rules(grammar), first, epsilon)[1]\n",
    "\n",
    "@fixpoint\n",
    "def followset_(grammar, epsilon, first, follow):\n",
    "    for A, expression in rules(grammar):\n",
    "        f_B = follow[A]\n",
    "        for t in reversed(expression):\n",
    "            if t in grammar:\n",
    "                follow[t] |= f_B  # only bother with nt\n",
    "            f_B = f_B | first[t] if t in epsilon else (first[t] - {EPSILON})\n",
    "\n",
    "    return (grammar, epsilon, first, follow)"
   ]
  },
  {
   "cell_type": "code",
   "execution_count": null,
   "metadata": {},
   "outputs": [],
   "source": [
    "def followset(grammar, start):\n",
    "    # Initialize first and follow sets for non-terminals\n",
    "    follow = {i: set() for i in grammar}\n",
    "    follow[start] = {EOF}\n",
    "\n",
    "    epsilon = nullable(grammar)\n",
    "    first = firstset(grammar, epsilon)\n",
    "    return followset_(grammar, epsilon, first, follow)"
   ]
  },
  {
   "cell_type": "markdown",
   "metadata": {},
   "source": [
    "### Earley parser"
   ]
  },
  {
   "cell_type": "code",
   "execution_count": null,
   "metadata": {},
   "outputs": [],
   "source": [
    "def shrink(rule): return [i.strip() for i in rule]"
   ]
  },
  {
   "cell_type": "code",
   "execution_count": null,
   "metadata": {},
   "outputs": [],
   "source": [
    "new_grammar = {k: [shrink(split(e)) for e in EXPR_GRAMMAR[k]] for k in EXPR_GRAMMAR}\n",
    "new_grammar"
   ]
  },
  {
   "cell_type": "code",
   "execution_count": null,
   "metadata": {},
   "outputs": [],
   "source": [
    "@fixpoint\n",
    "def nullable_(rules, e):\n",
    "    for A, expression in rules:\n",
    "        if all((token in e)  for token in expression): e |= {A}\n",
    "    return (rules, e)\n",
    "\n",
    "def nullable(grammar):\n",
    "    return nullable_(rules(grammar), set())[1]"
   ]
  },
  {
   "cell_type": "code",
   "execution_count": null,
   "metadata": {},
   "outputs": [],
   "source": [
    "class State(object):\n",
    "    def __init__(self, name, expr, dot, origin, children=[]):\n",
    "        self.name, self.expr, self.dot, self.origin = name, expr, dot, origin\n",
    "        self.children = children[:]\n",
    "    def finished(self): return self.dot >= len(self.expr)\n",
    "    def shift(self):\n",
    "        return State(self.name, self.expr, self.dot+1, self.origin, self.children)\n",
    "    def symbol(self): return self.expr[self.dot]\n",
    "\n",
    "    def _t(self): return (self.name, self.expr, self.dot, self.origin.i, tuple(self.children))\n",
    "    def __hash__(self): return hash(self._t())\n",
    "    def __eq__(self, other): return  self._t() == other._t()\n",
    "\n",
    "class Column(object):\n",
    "    def __init__(self, i, token):\n",
    "        self.token, self.states, self._unique, self.i = token, [], {}, i\n",
    "\n",
    "    def add(self, state):\n",
    "        if state in self._unique: return self._unique[state]\n",
    "        self._unique[state] = state\n",
    "        self.states.append(state)\n",
    "        return self._unique[state]\n",
    "\n",
    "def predict(col, sym, grammar):\n",
    "    for alt in grammar[sym]:\n",
    "        col.add(State(sym, tuple(alt), 0, col))\n",
    "\n",
    "def scan(col, state, token):\n",
    "    if token == col.token:\n",
    "        col.add(state.shift())\n",
    "\n",
    "def complete(col, state, grammar):\n",
    "    for st in state.origin.states:\n",
    "        if st.finished(): continue\n",
    "        if state.name != st.symbol(): continue\n",
    "        col.add(st.shift()).children.append(state)\n",
    "        \n",
    "class EarleyParser(Parser):\n",
    "    def __init__(self, grammar, start_symbol):\n",
    "        super().__init__(canonical(grammar), start_symbol)\n",
    "\n",
    "    # http://courses.washington.edu/ling571/ling571_fall_2010/slides/parsing_earley.pdf\n",
    "    # https://github.com/tomerfiliba/tau/blob/master/earley3.py\n",
    "    def _parse(words, grammar, start):\n",
    "        # Aycock 2002 Practical Earley Parsing -- treatment of epsilon\n",
    "        epsilon = nullable(grammar)\n",
    "        alt = tuple(*grammar[start])\n",
    "        chart = [Column(i, tok) for i,tok in enumerate([None, *words])]\n",
    "        chart[0].add(State(start, alt, 0, chart[0], []))\n",
    "\n",
    "        for i, col in enumerate(chart):\n",
    "            for state in col.states:\n",
    "                if state.finished():\n",
    "                    complete(col, state, grammar)\n",
    "                else:\n",
    "                    sym = state.symbol()\n",
    "                    if sym in grammar:\n",
    "                        predict(col, sym, grammar)\n",
    "                        if sym in epsilon:\n",
    "                            # note that precomputation of epsilon derivation can result in infinite\n",
    "                            # loops for certain grammars. Hence, we mark a nullable non-terminal\n",
    "                            # but do not expand it.\n",
    "                            col.add(state.shift()).children.append(State(sym + '*', tuple(), 0, col))\n",
    "                    else:\n",
    "                        if i + 1 >= len(chart): continue\n",
    "                        scan(chart[i+1], state, sym)\n",
    "        return chart\n",
    "    \n",
    "    def parse(self, text):\n",
    "        table = self._parse(text, )\n",
    "        "
   ]
  },
  {
   "cell_type": "code",
   "execution_count": null,
   "metadata": {},
   "outputs": [],
   "source": [
    "def process_expr(expr, children, grammar):\n",
    "    terms = iter([(i,[]) for i in expr if i not in grammar])\n",
    "    nts = iter([node_translator(i, grammar) for i in  children])\n",
    "    return [next(terms if i not in grammar else nts) for i in expr]\n",
    "\n",
    "def node_translator(state, grammar):\n",
    "    return (state.name, process_expr(state.expr, state.children, grammar))"
   ]
  },
  {
   "cell_type": "code",
   "execution_count": null,
   "metadata": {},
   "outputs": [],
   "source": [
    "new_grammar = {k: [shrink(split(e)) for e in EXPR_GRAMMAR[k]] for k in EXPR_GRAMMAR}\n",
    "table = parse(list('1+2+3'), new_grammar, '<start>')\n",
    "states = [st for st in table[-1].states if st.name == '<start>' and st.finished()]\n",
    "for state in states:\n",
    "    display_tree(node_translator(state, new_grammar))"
   ]
  },
  {
   "cell_type": "markdown",
   "metadata": {},
   "source": [
    "#### Ambiguous grammars generates parse forests"
   ]
  },
  {
   "cell_type": "code",
   "execution_count": null,
   "metadata": {},
   "outputs": [],
   "source": [
    "grammar= {\n",
    "        '<start>': ['<A>'],\n",
    "        '<A>': ['<A>+<A>', 'a'],\n",
    "        }"
   ]
  },
  {
   "cell_type": "code",
   "execution_count": null,
   "metadata": {},
   "outputs": [],
   "source": [
    "new_grammar = {k: [shrink(split(e)) for e in grammar[k]] for k in grammar}\n",
    "table = parse(list('a+a+a'), new_grammar, '<start>')\n",
    "states = [st for st in table[-1].states if st.name == '<start>' and st.finished()]\n",
    "for state in states:\n",
    "    display_tree(node_translator(state, new_grammar))"
   ]
  },
  {
   "cell_type": "markdown",
   "metadata": {
    "button": false,
    "new_sheet": true,
    "run_control": {
     "read_only": false
    }
   },
   "source": [
    "## Lessons Learned\n",
    "\n",
    "* _Lesson one_\n",
    "* _Lesson two_\n",
    "* _Lesson three_"
   ]
  },
  {
   "cell_type": "markdown",
   "metadata": {
    "button": false,
    "new_sheet": false,
    "run_control": {
     "read_only": false
    }
   },
   "source": [
    "## Next Steps\n",
    "\n",
    "_Link to subsequent chapters (notebooks) here, as in:_\n",
    "\n",
    "* [use _mutations_ on existing inputs to get more valid inputs](MutationFuzzer.ipynb)\n",
    "* [use _grammars_ (i.e., a specification of the input format) to get even more valid inputs](Grammars.ipynb)\n",
    "* [reduce _failing inputs_ for efficient debugging](Reducer.ipynb)\n"
   ]
  },
  {
   "cell_type": "markdown",
   "metadata": {
    "button": false,
    "new_sheet": true,
    "run_control": {
     "read_only": false
    }
   },
   "source": [
    "## Exercises\n",
    "\n",
    "Close the chapter with a few exercises such that people have things to do.  In Jupyter Notebook, use the `exercise2` nbextension to add solutions that can be interactively viewed or hidden:\n",
    "\n",
    "* Mark the _last_ cell of the exercise (this should be a _text_ cell) as well as _all_ cells of the solution.  (Use the `rubberband` nbextension and use Shift+Drag to mark multiple cells.)\n",
    "* Click on the `solution` button at the top.\n",
    "\n",
    "(Alternatively, just copy the exercise and solution cells below with their metadata.)"
   ]
  },
  {
   "cell_type": "markdown",
   "metadata": {
    "button": false,
    "new_sheet": false,
    "run_control": {
     "read_only": false
    }
   },
   "source": [
    "### Exercise 1\n",
    "\n",
    "The _PEG_ syntax provides a few notational conveniences reminiscent of regular expressions. For example, it supports the following operators (letters `T` and `A` represents tokens that can be either terminal or non-terminal. `ε` is an empty string):\n",
    "\n",
    "* `T*` represents zero or more greedy matches of `T`.\n",
    "* `T+` represents one or more greedy matches -- equivalent to `TT*`\n",
    "* `T?` represents an optional greedy match of T -- equivalent to `T|ε`\n",
    "\n",
    "Enable these operations in our _PEG_ parser."
   ]
  },
  {
   "cell_type": "markdown",
   "metadata": {
    "solution2": "hidden"
   },
   "source": [
    "_No solution yet_"
   ]
  },
  {
   "cell_type": "code",
   "execution_count": null,
   "metadata": {
    "cell_style": "split",
    "solution2": "hidden"
   },
   "outputs": [],
   "source": [
    "pass"
   ]
  },
  {
   "cell_type": "markdown",
   "metadata": {
    "solution2": "hidden"
   },
   "source": [
    "_Some more text for the solution_"
   ]
  },
  {
   "cell_type": "markdown",
   "metadata": {
    "button": false,
    "new_sheet": false,
    "run_control": {
     "read_only": false
    },
    "solution": "hidden",
    "solution2": "hidden",
    "solution2_first": true,
    "solution_first": true
   },
   "source": [
    "### Exercise 2\n",
    "\n",
    "Beyond these notational conveniences, it also supports two predicates that can provide a powerful lookahead facility that does not consume any input.\n",
    "\n",
    "* `T&A` represents an _And-predicate_ that matches `T` if `T` is matched, and it is immediately followed by `A`\n",
    "* `T!A` represents a _Not-predicate_ that matches `T` if `T` is matched, and it is *not* immediately followed by `A`\n",
    "\n",
    "Implement these predicates in our _PEG_ parser."
   ]
  },
  {
   "cell_type": "markdown",
   "metadata": {
    "button": false,
    "new_sheet": false,
    "run_control": {
     "read_only": false
    },
    "solution": "hidden",
    "solution2": "hidden"
   },
   "source": [
    "_No solution yet_"
   ]
  },
  {
   "cell_type": "code",
   "execution_count": null,
   "metadata": {},
   "outputs": [],
   "source": [
    "pass"
   ]
  }
 ],
 "metadata": {
  "ipub": {
   "bibliography": "fuzzingbook.bib",
   "toc": true
  },
  "kernelspec": {
   "display_name": "Python 3",
   "language": "python",
   "name": "python3"
  },
  "language_info": {
   "codemirror_mode": {
    "name": "ipython",
    "version": 3
   },
   "file_extension": ".py",
   "mimetype": "text/x-python",
   "name": "python",
   "nbconvert_exporter": "python",
   "pygments_lexer": "ipython3",
   "version": "3.6.5"
  },
  "toc": {
   "base_numbering": 1,
   "nav_menu": {},
   "number_sections": true,
   "sideBar": true,
   "skip_h1_title": true,
   "title_cell": "",
   "title_sidebar": "Contents",
   "toc_cell": false,
   "toc_position": {},
   "toc_section_display": true,
   "toc_window_display": true
  }
 },
 "nbformat": 4,
 "nbformat_minor": 2
}
