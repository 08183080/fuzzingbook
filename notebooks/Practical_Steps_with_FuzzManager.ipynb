{
 "cells": [
  {
   "cell_type": "markdown",
   "metadata": {},
   "source": [
    "# Practical Steps with FuzzManager\n",
    "\n",
    "In this chapter we will perform basic steps around FuzzManager, including crash submission and triage as well as coverage measurement tasks."
   ]
  },
  {
   "cell_type": "markdown",
   "metadata": {},
   "source": [
    "**Prerequisites**\n",
    "\n",
    "* This chapter builds directly upon the contents of the [last chapter](Fuzzing_in_the_Large.ipynb), so we recommend you read that before proceeding.\n",
    "* This chapter requires you to be reading the book using the **Docker image**, as it uses a pre-installed demo instance of FuzzManager. Starting the Docker image is really straightforward...\n",
    "* C/C++ knowledge is helpful if you would like to understand the crash examples. It is not required though to do so and you can perfectly learn the concepts of this chapter without fully understanding why these programs behave the way they do."
   ]
  },
  {
   "cell_type": "markdown",
   "metadata": {},
   "source": [
    "## Basic Crash Processing\n",
    "\n",
    "To get started with basic steps in crash processing, let's take a look at *simply-buggy*, an example repository containing trivial C++ programs for illustration purposes."
   ]
  },
  {
   "cell_type": "code",
   "execution_count": 1,
   "metadata": {},
   "outputs": [
    {
     "name": "stdout",
     "output_type": "stream",
     "text": [
      "Cloning into 'simply-buggy'...\n",
      "remote: Enumerating objects: 13, done.\u001b[K\n",
      "remote: Counting objects: 100% (13/13), done.\u001b[K\n",
      "remote: Compressing objects: 100% (10/10), done.\u001b[K\n",
      "remote: Total 13 (delta 4), reused 8 (delta 3), pack-reused 0\u001b[K\n",
      "Unpacking objects: 100% (13/13), done.\n",
      "clang++ -fsanitize=address -g -o simple-crash simple-crash.cpp\n",
      "clang++ -fsanitize=address -g -o out-of-bounds out-of-bounds.cpp\n"
     ]
    }
   ],
   "source": [
    "!git clone https://github.com/choller/simply-buggy\n",
    "!(cd simply-buggy && make)"
   ]
  },
  {
   "cell_type": "markdown",
   "metadata": {},
   "source": [
    "The make command compiles our target program, including our first target, the *simple-crash* example. Alongside the program, there is also a configuration file generated. Let's take a look at that file and the source code:"
   ]
  },
  {
   "cell_type": "code",
   "execution_count": 2,
   "metadata": {},
   "outputs": [
    {
     "name": "stdout",
     "output_type": "stream",
     "text": [
      "/*\r\n",
      " * simple-crash - A simple NULL crash.\r\n",
      " *\r\n",
      " * WARNING: This program neither makes sense nor should you code like it is\r\n",
      " *          done in this program. It is purely for demo purposes and uses\r\n",
      " *          bad and meaningless coding habits on purpose.\r\n",
      " */\r\n",
      "\r\n",
      "int crash() {\r\n",
      "  int* p = (int*)0x1;\r\n",
      "  *p = 0xDEADBEEF;\r\n",
      "  return *p;\r\n",
      "}\r\n",
      "\r\n",
      "int main(int argc, char** argv) {\r\n",
      "  return crash();\r\n",
      "}\r\n"
     ]
    }
   ],
   "source": [
    "!cat simply-buggy/simple-crash.cpp"
   ]
  },
  {
   "cell_type": "code",
   "execution_count": 3,
   "metadata": {},
   "outputs": [
    {
     "name": "stdout",
     "output_type": "stream",
     "text": [
      "[Main]\r\n",
      "platform = x86-64\r\n",
      "product = simple-crash-simple-crash\r\n",
      "product_version = 60fc0b7d366288a8b0362a0c81ed3e2df13d6d3c\r\n",
      "os = linux\r\n",
      "\r\n",
      "[Metadata]\r\n",
      "pathPrefix = /home/decoder/Mozilla/repos/fuzzingbook/notebooks/simply-buggy/\r\n",
      "buildFlags = -fsanitize=address -g\r\n"
     ]
    }
   ],
   "source": [
    "!cat simply-buggy/simple-crash.fuzzmanagerconf"
   ]
  },
  {
   "cell_type": "markdown",
   "metadata": {},
   "source": [
    "As you can see, the source code is fairly simple: A forced crash by writing to a (near)-NULL pointer. The configuration file generated for the the binary also contains some straightforward information, like the revision of the program and other metadata that is required or at least useful later on when submitting things."
   ]
  },
  {
   "cell_type": "markdown",
   "metadata": {},
   "source": [
    "Running the program shows us a crash trace as expected:"
   ]
  },
  {
   "cell_type": "code",
   "execution_count": 6,
   "metadata": {},
   "outputs": [
    {
     "name": "stdout",
     "output_type": "stream",
     "text": [
      "AddressSanitizer:DEADLYSIGNAL\n",
      "=================================================================\n",
      "\u001b[1m\u001b[31m==25633==ERROR: AddressSanitizer: SEGV on unknown address 0x000000000001 (pc 0x000000516c4d bp 0x7ffd120e1700 sp 0x7ffd120e16d0 T0)\n",
      "\u001b[1m\u001b[0m==25633==The signal is caused by a WRITE memory access.\n",
      "==25633==Hint: address points to the zero page.\n",
      "    #0 0x516c4c in crash() /home/decoder/Mozilla/repos/fuzzingbook/notebooks/simply-buggy/simple-crash.cpp:11:6\n",
      "    #1 0x516cca in main /home/decoder/Mozilla/repos/fuzzingbook/notebooks/simply-buggy/simple-crash.cpp:16:10\n",
      "    #2 0x7f5e0c178b96 in __libc_start_main /build/glibc-OTsEL5/glibc-2.27/csu/../csu/libc-start.c:310\n",
      "    #3 0x41a399 in _start (/home/decoder/Mozilla/repos/fuzzingbook/notebooks/simply-buggy/simple-crash+0x41a399)\n",
      "\n",
      "AddressSanitizer can not provide additional info.\n",
      "SUMMARY: AddressSanitizer: SEGV /home/decoder/Mozilla/repos/fuzzingbook/notebooks/simply-buggy/simple-crash.cpp:11:6 in crash()\n",
      "==25633==ABORTING\n"
     ]
    }
   ],
   "source": [
    "!simply-buggy/simple-crash"
   ]
  },
  {
   "cell_type": "markdown",
   "metadata": {},
   "source": [
    "Now, what we would actually like to do is to run this binary from Python instead, detect that it crashed, collect the trace and submit it to the server. Let's start with a simple script that would just run the program we give it and detect the presence of the ASan trace:"
   ]
  },
  {
   "cell_type": "code",
   "execution_count": 14,
   "metadata": {},
   "outputs": [
    {
     "name": "stdout",
     "output_type": "stream",
     "text": [
      "Yay, we crashed!\n"
     ]
    }
   ],
   "source": [
    "import subprocess\n",
    "\n",
    "cmd = [\"simply-buggy/simple-crash\"]\n",
    "\n",
    "result = subprocess.run(cmd, stderr=subprocess.PIPE)\n",
    "stderr = result.stderr.decode().splitlines()\n",
    "crashed = False\n",
    "\n",
    "for line in stderr:\n",
    "    if \"ERROR: AddressSanitizer\" in line:\n",
    "        crashed = True\n",
    "        break\n",
    "\n",
    "if crashed:\n",
    "    print(\"Yay, we crashed!\")\n",
    "else:\n",
    "    print(\"Move along, nothing to see...\")"
   ]
  },
  {
   "cell_type": "markdown",
   "metadata": {},
   "source": [
    "Nice, we can now run the binary and detect that it crashed. But how do we send this information to the server now? Let's make a few modifications..."
   ]
  },
  {
   "cell_type": "code",
   "execution_count": 23,
   "metadata": {},
   "outputs": [
    {
     "name": "stdout",
     "output_type": "stream",
     "text": [
      "Yay, we crashed, processing...\n",
      "Crash submitted!\n"
     ]
    }
   ],
   "source": [
    "import subprocess\n",
    "\n",
    "from Collector.Collector import Collector\n",
    "from FTB.ProgramConfiguration import ProgramConfiguration\n",
    "from FTB.Signatures.CrashInfo import CrashInfo\n",
    "\n",
    "# Instantiate the collector instance, this will be our entry point\n",
    "# for talking to the server.\n",
    "collector = Collector()\n",
    "\n",
    "cmd = [\"simply-buggy/simple-crash\"]\n",
    "\n",
    "result = subprocess.run(cmd, stderr=subprocess.PIPE)\n",
    "stderr = result.stderr.decode().splitlines()\n",
    "crashed = False\n",
    "\n",
    "for line in stderr:\n",
    "    if \"ERROR: AddressSanitizer\" in line:\n",
    "        crashed = True\n",
    "        break\n",
    "\n",
    "if crashed:\n",
    "    print(\"Yay, we crashed, processing...\")\n",
    "    \n",
    "    # This reads the simple-crash.fuzzmanagerconf file\n",
    "    configuration = ProgramConfiguration.fromBinary(cmd[0])\n",
    "    \n",
    "    # This reads and parses our ASan trace into a more generic format,\n",
    "    # returning us a generic \"CrashInfo\" object that we can inspect\n",
    "    # and/or submit to the server.\n",
    "    crashInfo = CrashInfo.fromRawCrashData([], stderr, configuration)\n",
    "    \n",
    "    # Submit the crash\n",
    "    collector.submit(crashInfo)\n",
    "    \n",
    "    print(\"Crash submitted!\")\n",
    "else:\n",
    "    print(\"Move along, nothing to see...\")"
   ]
  },
  {
   "cell_type": "markdown",
   "metadata": {},
   "source": [
    "We now submitted something to our local FuzzManager demo instance. If you go to https://127.0.0.1:8000/crashmanager/crashes/ you should see your crash. Now click on the crash to inspect the submitted data. Then click the orange *Create* button to create a bucket for this crash. A *crash signature* will be proposed to you for matching this and future crashes of the same type, accept it by clicking *Save*. You will be redirected to the newly created bucket, which shows you the size (how many crashes it holds), it's bug report status (buckets can be linked to bugs in an external bug tracker like Bugzilla) and many other useful information. If you click on the *Signatures* entry in the top menu, you should also see your newly created entry."
   ]
  },
  {
   "cell_type": "markdown",
   "metadata": {},
   "source": [
    "Buckets and their signatures are a central concept in FuzzManager. If you receive a lot of crash reports from various sources, bucketing allows you to easily group crashes and filter duplicates. The flexible signature system starts out with an initially proposed fine-grained signature, but it can be adjusted as needed to capture variations of the same bug and make tracking easier. In the next example, we will look at a more complex example that reads data from a file and creates multiple crash signatures."
   ]
  },
  {
   "cell_type": "code",
   "execution_count": 26,
   "metadata": {},
   "outputs": [
    {
     "name": "stdout",
     "output_type": "stream",
     "text": [
      "/*\r\n",
      " * out-of-bounds - A simple multi-signature out-of-bounds demo.\r\n",
      " *\r\n",
      " * WARNING: This program neither makes sense nor should you code like it is\r\n",
      " *          done in this program. It is purely for demo purposes and uses\r\n",
      " *          bad and meaningless coding habits on purpose.\r\n",
      " */\r\n",
      "#include <cstring>\r\n",
      "#include <fstream>\r\n",
      "#include <iostream>\r\n",
      "\r\n",
      "void printFirst(char* data, size_t count) {\r\n",
      "  std::string first(data, count);\r\n",
      "  std::cout << first << std::endl;\r\n",
      "}\r\n",
      "\r\n",
      "void printLast(char* data, size_t count) {\r\n",
      "  std::string last(data + strlen(data) - count, count);\r\n",
      "  std::cout << last << std::endl;\r\n",
      "}\r\n",
      "\r\n",
      "int validateAndPerformAction(char* buffer, size_t size) {\r\n",
      "  if (size < 2) {\r\n",
      "    std::cerr << \"Buffer is too short.\" << std::endl;\r\n",
      "    return 1;\r\n",
      "  }\r\n",
      "\r\n",
      "  uint8_t action = buffer[0];\r\n",
      "  uint8_t count = buffer[1];\r\n",
      "  char* data = buffer + 2;\r\n",
      "\r\n",
      "  if (!count) {\r\n",
      "    std::cerr << \"count must be non-zero.\" << std::endl;\r\n",
      "    return 1;\r\n",
      "  }\r\n",
      "\r\n",
      "  // Forgot to check count vs. the length of data here, doh!\r\n",
      "\r\n",
      "  if (!action) {\r\n",
      "    printFirst(data, count);\r\n",
      "    return 0;\r\n",
      "  } else if (action == 1) {\r\n",
      "    printLast(data, count);\r\n",
      "    return 0;\r\n",
      "  } else {\r\n",
      "    std::cerr << \"Action must either be 'first' or 'last'.\" << std::endl;\r\n",
      "    return 1;\r\n",
      "  }\r\n",
      "}\r\n",
      "\r\n",
      "int main(int argc, char** argv) {\r\n",
      "  if (argc < 2) {\r\n",
      "    std::cerr << \"Usage is: \" << argv[0] << \" <file>\" << std::endl;\r\n",
      "    exit(1);\r\n",
      "  }\r\n",
      "\r\n",
      "  std::ifstream input(argv[1], std::ifstream::binary);\r\n",
      "  if (!input) {\r\n",
      "    std::cerr << \"Error opening file.\" << std::endl;\r\n",
      "    exit(1);\r\n",
      "  }\r\n",
      "\r\n",
      "  input.seekg(0, input.end);\r\n",
      "  int size = input.tellg();\r\n",
      "  input.seekg(0, input.beg);\r\n",
      "\r\n",
      "  if (size < 0) {\r\n",
      "    std::cerr << \"Error seeking in file.\" << std::endl;\r\n",
      "    exit(1);\r\n",
      "  }\r\n",
      "\r\n",
      "  char* buffer = new char[size];\r\n",
      "  input.read(buffer, size);\r\n",
      "\r\n",
      "  if (!input) {\r\n",
      "    std::cerr << \"Error while reading file.\" << std::endl;\r\n",
      "    exit(1);\r\n",
      "  }\r\n",
      "\r\n",
      "  int ret = validateAndPerformAction(buffer, size);\r\n",
      "\r\n",
      "  delete[] buffer;\r\n",
      "  return ret;\r\n",
      "}\r\n"
     ]
    }
   ],
   "source": [
    "!cat simply-buggy/out-of-bounds.cpp"
   ]
  },
  {
   "cell_type": "markdown",
   "metadata": {},
   "source": [
    "This program looks way more elaborate compared to the last one, but don't worry, it isn't really doing a whole lot. The code in the `main` function simply reads a file provided on the command line and puts its contents into a buffer that is passed to `validateAndPerformAction`. That function pulls out two bytes of the buffer (`action` and `count`) and considers the rest `data`. Depending on the value of `action`, it then calls either `printFirst` or `printLast`, which prints either the first or the last `count` bytes of `data`. Sounds pointless, and yes, it is. The whole idea of this program is that the security check (that `count` is not larger than the length of `data`) is missing in `validateAndPerformAction` but that the illegal access happens later in either of the two print functions. Hence, we would expect this program to generate at least two (slightly) different crash signatures. Let's try it out with very simple fuzzing based on the last Python script:"
   ]
  },
  {
   "cell_type": "code",
   "execution_count": 34,
   "metadata": {},
   "outputs": [
    {
     "name": "stdout",
     "output_type": "stream",
     "text": [
      "Done, submitted 3 crashes.\n"
     ]
    }
   ],
   "source": [
    "import random\n",
    "import subprocess\n",
    "import tempfile\n",
    "\n",
    "from Collector.Collector import Collector\n",
    "from FTB.ProgramConfiguration import ProgramConfiguration\n",
    "from FTB.Signatures.CrashInfo import CrashInfo\n",
    "\n",
    "# Instantiate the collector instance, this will be our entry point\n",
    "# for talking to the server.\n",
    "collector = Collector()\n",
    "\n",
    "cmd = [\"simply-buggy/out-of-bounds\"]\n",
    "\n",
    "crash_count = 0\n",
    "\n",
    "for itnum in range(0,1000):\n",
    "    rand_len = random.randint(1, 1024)\n",
    "    rand_data = bytearray(os.urandom(rand_len))\n",
    "    \n",
    "    (fd, current_file) = tempfile.mkstemp(prefix=\"fuzztest\")\n",
    "    os.write(fd, rand_data)\n",
    "    os.close(fd)\n",
    "    \n",
    "    current_cmd = []\n",
    "    current_cmd.extend(cmd)\n",
    "    current_cmd.append(current_file)\n",
    "    \n",
    "    result = subprocess.run(current_cmd, stderr=subprocess.PIPE)\n",
    "    stderr = result.stderr.decode().splitlines()\n",
    "    crashed = False\n",
    "\n",
    "    for line in stderr:\n",
    "        if \"ERROR: AddressSanitizer\" in line:\n",
    "            crashed = True\n",
    "            break\n",
    "\n",
    "    if crashed:\n",
    "        # This reads the simple-crash.fuzzmanagerconf file\n",
    "        configuration = ProgramConfiguration.fromBinary(cmd[0])\n",
    "\n",
    "        # This reads and parses our ASan trace into a more generic format,\n",
    "        # returning us a generic \"CrashInfo\" object that we can inspect\n",
    "        # and/or submit to the server.\n",
    "        crashInfo = CrashInfo.fromRawCrashData([], stderr, configuration)\n",
    "\n",
    "        # Submit the crash\n",
    "        collector.submit(crashInfo, testCase = current_file)\n",
    "        \n",
    "        crash_count += 1\n",
    "    \n",
    "    os.remove(current_file)\n",
    "\n",
    "print(\"Done, submitted %s crashes.\" % crash_count)"
   ]
  },
  {
   "cell_type": "markdown",
   "metadata": {},
   "source": []
  }
 ],
 "metadata": {
  "kernelspec": {
   "display_name": "Python 3",
   "language": "python",
   "name": "python3"
  },
  "language_info": {
   "codemirror_mode": {
    "name": "ipython",
    "version": 3
   },
   "file_extension": ".py",
   "mimetype": "text/x-python",
   "name": "python",
   "nbconvert_exporter": "python",
   "pygments_lexer": "ipython3",
   "version": "3.6.7"
  }
 },
 "nbformat": 4,
 "nbformat_minor": 2
}
