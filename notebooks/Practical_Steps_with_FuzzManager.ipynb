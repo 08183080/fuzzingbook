{
 "cells": [
  {
   "cell_type": "markdown",
   "metadata": {},
   "source": [
    "# Practical Steps with FuzzManager\n",
    "\n",
    "In this chapter we will perform basic steps around FuzzManager, including crash submission and triage as well as coverage measurement tasks."
   ]
  },
  {
   "cell_type": "markdown",
   "metadata": {},
   "source": [
    "**Prerequisites**\n",
    "\n",
    "* This chapter builds directly upon the contents of the [last chapter](Fuzzing_in_the_Large.ipynb), so we recommend you read that before proceeding.\n",
    "* This chapter requires you to be reading the book using the **Docker image**, as it uses a pre-installed demo instance of FuzzManager. Starting the Docker image is really straightforward...\n",
    "* C/C++ knowledge is helpful if you would like to understand the crash examples. It is not required though to do so and you can perfectly learn the concepts of this chapter without fully understanding why these programs behave the way they do."
   ]
  },
  {
   "cell_type": "markdown",
   "metadata": {},
   "source": [
    "## Server Setup\n",
    "\n",
    "This Docker image already has a FuzzManager Demo Server running in the background for you. It will be used during the following exercises. If you are prompted to login at any point in time, use the following credentials:"
   ]
  },
  {
   "cell_type": "markdown",
   "metadata": {},
   "source": [
    "<center>**Username: demo**</center>\n",
    "<center>**Password: demo**</center>"
   ]
  },
  {
   "cell_type": "markdown",
   "metadata": {},
   "source": [
    "At the end of the chapter, you will find a link to setup instructions, in case you would like to run your own instance for future fuzzing work."
   ]
  },
  {
   "cell_type": "markdown",
   "metadata": {},
   "source": [
    "## Basic Crash Processing\n",
    "\n",
    "To get started with basic steps in crash processing, let's take a look at *simply-buggy*, an example repository containing trivial C++ programs for illustration purposes."
   ]
  },
  {
   "cell_type": "code",
   "execution_count": null,
   "metadata": {},
   "outputs": [],
   "source": [
    "!git clone https://github.com/choller/simply-buggy\n",
    "!(cd simply-buggy && make)"
   ]
  },
  {
   "cell_type": "markdown",
   "metadata": {},
   "source": [
    "The make command compiles our target program, including our first target, the *simple-crash* example. Alongside the program, there is also a configuration file generated. Let's take a look at that file and the source code:"
   ]
  },
  {
   "cell_type": "code",
   "execution_count": null,
   "metadata": {},
   "outputs": [],
   "source": [
    "!cat simply-buggy/simple-crash.cpp"
   ]
  },
  {
   "cell_type": "code",
   "execution_count": null,
   "metadata": {},
   "outputs": [],
   "source": [
    "!cat simply-buggy/simple-crash.fuzzmanagerconf"
   ]
  },
  {
   "cell_type": "markdown",
   "metadata": {},
   "source": [
    "As you can see, the source code is fairly simple: A forced crash by writing to a (near)-NULL pointer. The configuration file generated for the the binary also contains some straightforward information, like the revision of the program and other metadata that is required or at least useful later on when submitting things."
   ]
  },
  {
   "cell_type": "markdown",
   "metadata": {},
   "source": [
    "Running the program shows us a crash trace as expected:"
   ]
  },
  {
   "cell_type": "code",
   "execution_count": null,
   "metadata": {},
   "outputs": [],
   "source": [
    "!simply-buggy/simple-crash"
   ]
  },
  {
   "cell_type": "markdown",
   "metadata": {},
   "source": [
    "Now, what we would actually like to do is to run this binary from Python instead, detect that it crashed, collect the trace and submit it to the server. Let's start with a simple script that would just run the program we give it and detect the presence of the ASan trace:"
   ]
  },
  {
   "cell_type": "code",
   "execution_count": null,
   "metadata": {},
   "outputs": [],
   "source": [
    "import subprocess\n",
    "\n",
    "cmd = [\"simply-buggy/simple-crash\"]\n",
    "\n",
    "result = subprocess.run(cmd, stderr=subprocess.PIPE)\n",
    "stderr = result.stderr.decode().splitlines()\n",
    "crashed = False\n",
    "\n",
    "for line in stderr:\n",
    "    if \"ERROR: AddressSanitizer\" in line:\n",
    "        crashed = True\n",
    "        break\n",
    "\n",
    "if crashed:\n",
    "    print(\"Yay, we crashed!\")\n",
    "else:\n",
    "    print(\"Move along, nothing to see...\")"
   ]
  },
  {
   "cell_type": "markdown",
   "metadata": {},
   "source": [
    "Nice, we can now run the binary and detect that it crashed. But how do we send this information to the server now? Let's make a few modifications..."
   ]
  },
  {
   "cell_type": "code",
   "execution_count": null,
   "metadata": {},
   "outputs": [],
   "source": [
    "import subprocess\n",
    "\n",
    "from Collector.Collector import Collector\n",
    "from FTB.ProgramConfiguration import ProgramConfiguration\n",
    "from FTB.Signatures.CrashInfo import CrashInfo\n",
    "\n",
    "# Instantiate the collector instance, this will be our entry point\n",
    "# for talking to the server.\n",
    "collector = Collector()\n",
    "\n",
    "cmd = [\"simply-buggy/simple-crash\"]\n",
    "\n",
    "result = subprocess.run(cmd, stderr=subprocess.PIPE)\n",
    "stderr = result.stderr.decode().splitlines()\n",
    "crashed = False\n",
    "\n",
    "for line in stderr:\n",
    "    if \"ERROR: AddressSanitizer\" in line:\n",
    "        crashed = True\n",
    "        break\n",
    "\n",
    "if crashed:\n",
    "    print(\"Yay, we crashed, processing...\")\n",
    "    \n",
    "    # This reads the simple-crash.fuzzmanagerconf file\n",
    "    configuration = ProgramConfiguration.fromBinary(cmd[0])\n",
    "    \n",
    "    # This reads and parses our ASan trace into a more generic format,\n",
    "    # returning us a generic \"CrashInfo\" object that we can inspect\n",
    "    # and/or submit to the server.\n",
    "    crashInfo = CrashInfo.fromRawCrashData([], stderr, configuration)\n",
    "    \n",
    "    # Submit the crash\n",
    "    collector.submit(crashInfo)\n",
    "    \n",
    "    print(\"Crash submitted!\")\n",
    "else:\n",
    "    print(\"Move along, nothing to see...\")"
   ]
  },
  {
   "cell_type": "markdown",
   "metadata": {},
   "source": [
    "We now submitted something to our local FuzzManager demo instance. If you go to http://127.0.0.1:8000/crashmanager/crashes/ you should see your crash. Now click on the crash to inspect the submitted data. Then click the orange *Create* button to create a bucket for this crash. A *crash signature* will be proposed to you for matching this and future crashes of the same type, accept it by clicking *Save*. You will be redirected to the newly created bucket, which shows you the size (how many crashes it holds), it's bug report status (buckets can be linked to bugs in an external bug tracker like Bugzilla) and many other useful information. If you click on the *Signatures* entry in the top menu, you should also see your newly created entry."
   ]
  },
  {
   "cell_type": "markdown",
   "metadata": {},
   "source": [
    "Buckets and their signatures are a central concept in FuzzManager. If you receive a lot of crash reports from various sources, bucketing allows you to easily group crashes and filter duplicates. The flexible signature system starts out with an initially proposed fine-grained signature, but it can be adjusted as needed to capture variations of the same bug and make tracking easier. In the next example, we will look at a more complex example that reads data from a file and creates multiple crash signatures."
   ]
  },
  {
   "cell_type": "code",
   "execution_count": null,
   "metadata": {},
   "outputs": [],
   "source": [
    "!cat simply-buggy/out-of-bounds.cpp"
   ]
  },
  {
   "cell_type": "markdown",
   "metadata": {},
   "source": [
    "This program looks way more elaborate compared to the last one, but don't worry, it isn't really doing a whole lot. The code in the `main` function simply reads a file provided on the command line and puts its contents into a buffer that is passed to `validateAndPerformAction`. That function pulls out two bytes of the buffer (`action` and `count`) and considers the rest `data`. Depending on the value of `action`, it then calls either `printFirst` or `printLast`, which prints either the first or the last `count` bytes of `data`. Sounds pointless, and yes, it is. The whole idea of this program is that the security check (that `count` is not larger than the length of `data`) is missing in `validateAndPerformAction` but that the illegal access happens later in either of the two print functions. Hence, we would expect this program to generate at least two (slightly) different crash signatures. Let's try it out with very simple fuzzing based on the last Python script:"
   ]
  },
  {
   "cell_type": "code",
   "execution_count": null,
   "metadata": {},
   "outputs": [],
   "source": [
    "import os\n",
    "import random\n",
    "import subprocess\n",
    "import tempfile\n",
    "import sys\n",
    "\n",
    "from Collector.Collector import Collector\n",
    "from FTB.ProgramConfiguration import ProgramConfiguration\n",
    "from FTB.Signatures.CrashInfo import CrashInfo\n",
    "\n",
    "# Instantiate the collector instance, this will be our entry point\n",
    "# for talking to the server.\n",
    "collector = Collector()\n",
    "\n",
    "cmd = [\"simply-buggy/out-of-bounds\"]\n",
    "\n",
    "crash_count = 0\n",
    "\n",
    "for itnum in range(0,100):\n",
    "    rand_len = random.randint(1, 1024)\n",
    "    rand_data = bytearray(os.urandom(rand_len))\n",
    "    \n",
    "    (fd, current_file) = tempfile.mkstemp(prefix=\"fuzztest\")\n",
    "    os.write(fd, rand_data)\n",
    "    os.close(fd)\n",
    "    \n",
    "    current_cmd = []\n",
    "    current_cmd.extend(cmd)\n",
    "    current_cmd.append(current_file)\n",
    "    \n",
    "    result = subprocess.run(current_cmd, stderr=subprocess.PIPE)\n",
    "    stderr = result.stderr.decode().splitlines()\n",
    "    crashed = False\n",
    "\n",
    "    for line in stderr:\n",
    "        if \"ERROR: AddressSanitizer\" in line:\n",
    "            crashed = True\n",
    "            break\n",
    "\n",
    "    if crashed:\n",
    "        sys.stdout.write(\"C\")\n",
    "\n",
    "        # This reads the simple-crash.fuzzmanagerconf file\n",
    "        configuration = ProgramConfiguration.fromBinary(cmd[0])\n",
    "\n",
    "        # This reads and parses our ASan trace into a more generic format,\n",
    "        # returning us a generic \"CrashInfo\" object that we can inspect\n",
    "        # and/or submit to the server.\n",
    "        crashInfo = CrashInfo.fromRawCrashData([], stderr, configuration)\n",
    "\n",
    "        # Submit the crash\n",
    "        collector.submit(crashInfo, testCase = current_file)\n",
    "        \n",
    "        crash_count += 1\n",
    "    else:\n",
    "        sys.stdout.write(\".\")\n",
    "    \n",
    "    os.remove(current_file)\n",
    "\n",
    "print(\"\")\n",
    "print(\"Done, submitted %s crashes.\" % crash_count)"
   ]
  },
  {
   "cell_type": "markdown",
   "metadata": {},
   "source": [
    "If you run this script, you will see it's progress and notice that it produces quite a few crashes. And indeed, if you visit [FuzzManager](http://127.0.0.1:8000/crashmanager/crashes/), you will notice a variety of crashes that have accumulated. Pick the first crash and create a bucket for it, like you did the last time. After saving, you will notice that not all of your crashes went into the bucket. The reason is that our program created several different stacks that are somewhat similar but not exactly identical. This is a common problem when fuzzing real world applications. Fortunately, there is an easy way to deal with this. While on the bucket page, hit the *Optimize* button for the bucket. FuzzManager will then automatically propose you to change your signature. Accept the change by hitting *Edit with Changes* and then *Save*. Repeat these steps until all crashes are part of the bucket. After 3 to 4 iterations, your signature will likely look like this:\n",
    "\n",
    "```{\n",
    "  \"symptoms\": [\n",
    "    {\n",
    "      \"type\": \"output\",\n",
    "      \"src\": \"stderr\",\n",
    "      \"value\": \"/ERROR: AddressSanitizer: heap-buffer-overflow/\"\n",
    "    },\n",
    "    {\n",
    "      \"type\": \"stackFrames\",\n",
    "      \"functionNames\": [\n",
    "        \"?\",\n",
    "        \"?\",\n",
    "        \"?\",\n",
    "        \"validateAndPerformAction\",\n",
    "        \"main\",\n",
    "        \"__libc_start_main\",\n",
    "        \"_start\"\n",
    "      ]\n",
    "    },\n",
    "    {\n",
    "      \"type\": \"crashAddress\",\n",
    "      \"address\": \"> 0xFF\"\n",
    "    }\n",
    "  ]\n",
    "}```\n",
    "\n",
    "As you can see in the *stackFrames* symptom, the `validateAndPerformAction` stack frame is still present because it is common in all crashes (in fact, this is where the bug lives). But the lower stack parts have been removed because they vary across the set of submitted crashes.\n",
    "\n",
    "The *Optimize* function is designed to automate this process as much as possible: It attempts to broaden the signature by fitting it to untriaged crashes and then checks if the modified signature would touch other existing buckets. This works with the assumption that other buckets are indeed other bugs, i.e. if you had created two buckets from your crashes first, optimizing wouldn't work anymore. Also, if the existing bucket data is sparse and you have a lot of untriaged crashes, the algorithm could propose changes that include crashes of different bugs in the same bucket. There is no way to fully automatically detect and prevent this, hence the process is semi-automated and requires you to review all proposed changes."
   ]
  },
  {
   "cell_type": "code",
   "execution_count": null,
   "metadata": {},
   "outputs": [],
   "source": []
  },
  {
   "cell_type": "code",
   "execution_count": null,
   "metadata": {},
   "outputs": [],
   "source": []
  },
  {
   "cell_type": "code",
   "execution_count": null,
   "metadata": {},
   "outputs": [],
   "source": []
  }
 ],
 "metadata": {
  "kernelspec": {
   "display_name": "Python 3",
   "language": "python",
   "name": "python3"
  },
  "language_info": {
   "codemirror_mode": {
    "name": "ipython",
    "version": 3
   },
   "file_extension": ".py",
   "mimetype": "text/x-python",
   "name": "python",
   "nbconvert_exporter": "python",
   "pygments_lexer": "ipython3",
   "version": "3.6.7"
  }
 },
 "nbformat": 4,
 "nbformat_minor": 2
}
