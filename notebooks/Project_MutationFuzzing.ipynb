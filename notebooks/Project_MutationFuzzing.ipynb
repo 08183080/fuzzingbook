{
 "cells": [
  {
   "cell_type": "code",
   "execution_count": null,
   "metadata": {},
   "outputs": [],
   "source": [
    "import fuzzingbook_utils"
   ]
  },
  {
   "cell_type": "markdown",
   "metadata": {},
   "source": [
    "# Project 1 - Mutation Fuzzing\n",
    "\n",
    "The goal of this project is to utilize mutation fuzzing to cover as much code as possible during testing.\n",
    "\n",
    "The target is the [svglib](https://pypi.org/project/svglib/) SVG rendering library written in python.\n",
    "\n",
    "For an easier integration the library we provide a wrapped function __parse_svg(string)__, which receives a string with the SVG content and invokes the parsing library. \n",
    "\n",
    "To ensure that all converted elements are correct, the wrapper function internally converts the parsed SVG into PDF and PNG formats. Finally, the wrapper function returns an _RLG Drawing_ object, which can be discarded.\n",
    "\n",
    "<!-- ### Available functionality in the project package: \n",
    "\n",
    "1. All required functionality is in the package \"project_utils/project1\"\n",
    "    \n",
    "2. The initial seed can be obtained by the __get_seed()__ function\n",
    "    \n",
    "3. Each SVG can be converted into an [ElementTree](https://docs.python.org/3/library/xml.etree.elementtree.html) with the function __svg_to_tree(string)__. This functions returns the tree's root.\n",
    "\n",
    "4. An [ElementTree](https://docs.python.org/3/library/xml.etree.elementtree.html) can be converted back into a string using __tree_to_string(root)__ function\n",
    "\n",
    "5. The class [Coverage](notebooks/Coverage.ipynb) allows for coverage monitoring.\n",
    "\n",
    "### Site notes:\n",
    "\n",
    "1. Overall seed coverage is 4083 statements.\n",
    "2. The __parse_svg(string)__ function has no error handling and any exception trown by the library will be propagated to the caller.\n",
    "3. Mutations can be applied nodes or parts of a node. -->\n",
    "<!-- 4. Tests reach an overall of 8498 unique statements -->"
   ]
  },
  {
   "cell_type": "code",
   "execution_count": null,
   "metadata": {},
   "outputs": [],
   "source": [
    "import logging\n",
    "from svglib.svglib import svg2rlg\n",
    "from reportlab.graphics import renderPDF, renderPM\n",
    "\n",
    "# Required to run svglib on Python3\n",
    "xrange = range\n",
    "\n",
    "def parse_svg(data):\n",
    "    try:\n",
    "        with open(\"tmp.svg\", \"w\") as f:\n",
    "            f.write(data)\n",
    "            f.close()\n",
    "\n",
    "        logging.disable(logging.WARNING)\n",
    "        drawing = svg2rlg(\"tmp.svg\")\n",
    "        #logging.enable(logging.WARNING)\n",
    "\n",
    "        assert(drawing is not None)\n",
    "\n",
    "        pdf_file = 'tmp.pdf'\n",
    "        png_file = 'tmp.png'    \n",
    "        renderPDF.drawToFile(drawing, pdf_file)\n",
    "        renderPM.drawToFile(drawing, png_file)\n",
    "        return drawing\n",
    "    finally:\n",
    "        if os.path.exists(\"tmp.svg\"):\n",
    "            os.remove(\"tmp.svg\")\n",
    "            \n",
    "        if os.path.exists(\"tmp.png\"):\n",
    "            os.remove(\"tmp.png\")\n",
    "            \n",
    "        if os.path.exists(\"tmp.pdf\"):\n",
    "            os.remove(\"tmp.pdf\")            "
   ]
  },
  {
   "cell_type": "markdown",
   "metadata": {},
   "source": [
    "## Auxiliary functions\n",
    "\n",
    "In order to aid the fuzzer's implementation we provide the following auxiliary functions aimed at converting SVG string representations into Python's [ElementTree](https://docs.python.org/2/library/xml.etree.elementtree.html)."
   ]
  },
  {
   "cell_type": "code",
   "execution_count": null,
   "metadata": {},
   "outputs": [],
   "source": [
    "import sys\n",
    "import os\n",
    "from lxml import etree\n",
    "\n",
    "def svg_as_tree(data):\n",
    "    \"\"\"Converts a String representation of an SVG into an ElementTree and returns its root\n",
    "\n",
    "    :param data: String representation of an SVG\n",
    "    :return: ElementTree https://docs.python.org/3/library/xml.etree.elementtree.html\n",
    "    \"\"\"\n",
    "    parser = etree.XMLParser()\n",
    "    root = etree.fromstring(data, parser=parser)\n",
    "    return root"
   ]
  },
  {
   "cell_type": "markdown",
   "metadata": {},
   "source": [
    "The tree representation can be used to apply mutations on internal components of the nodes, as well as move, add or remove elements. The following code illustrates how to convert from a String into an [ElementTree](https://docs.python.org/2/library/xml.etree.elementtree.html)."
   ]
  },
  {
   "cell_type": "code",
   "execution_count": null,
   "metadata": {},
   "outputs": [],
   "source": [
    "svg_string = \"\"\"<svg xmlns=\"http://www.w3.org/2000/svg\" viewBox=\"0 0 100 100\">\n",
    "  <path d=\"M19,19h58v58h-58z\" stroke=\"#000\" fill=\"none\" stroke-width=\"4\"/>\n",
    "  <path d=\"M17,30l19-12l43,54l-17,15zM14,84c12-20 46-61 61-72l13,19 c-17,10-50,50-60,64z\" fill=\"#C30\" stroke-linejoin=\"round\" stroke-width=\"6\" stroke=\"#C30\"/>\n",
    "</svg>\n",
    "\"\"\"\n",
    "root_node = svg_as_tree(svg_string)\n",
    "print(\"%s - %s\" % (root_node.tag, root_node.attrib))"
   ]
  },
  {
   "cell_type": "markdown",
   "metadata": {},
   "source": [
    "After converting the String representation into a tree it is possible ot iterate over the nodes"
   ]
  },
  {
   "cell_type": "code",
   "execution_count": null,
   "metadata": {},
   "outputs": [],
   "source": [
    "# Printing immediate child nodes:\n",
    "for child in root_node:\n",
    "    print(\"%s - %s\" % (child.tag, child.attrib))"
   ]
  },
  {
   "cell_type": "markdown",
   "metadata": {},
   "source": [
    "As well are access and manipulate the node type (_tag_) and its attributes (_attrib_)"
   ]
  },
  {
   "cell_type": "code",
   "execution_count": null,
   "metadata": {},
   "outputs": [],
   "source": [
    "# Accessing and chancing properties\n",
    "first_child = root_node[0]\n",
    "print(\"old value of stroke-width: %s\" % first_child.attrib['stroke-width'])\n",
    "\n",
    "first_child.attrib['stroke-width'] = \"99\"\n",
    "print(\"new value of stroke-width: %s\" % first_child.attrib['stroke-width'])"
   ]
  },
  {
   "cell_type": "markdown",
   "metadata": {},
   "source": [
    "After the changes the tree can be converted back into a string to be used in _parse_svg()_ function."
   ]
  },
  {
   "cell_type": "code",
   "execution_count": null,
   "metadata": {},
   "outputs": [],
   "source": [
    "new_string = etree.tostring(root_node)\n",
    "print(new_string)"
   ]
  },
  {
   "cell_type": "markdown",
   "metadata": {},
   "source": [
    "## Fuzzer template\n",
    "\n",
    "The basic template from our fuzzer is based on the [MutationCoverageFuzzer](MutationFuzzer.ipynb).\n",
    "\n",
    "This template automatically loads a set of 10 SVG files as an initial seed."
   ]
  },
  {
   "cell_type": "code",
   "execution_count": null,
   "metadata": {},
   "outputs": [],
   "source": [
    "from Coverage import Coverage, population_coverage\n",
    "from MutationFuzzer import MutationCoverageFuzzer, FunctionCoverageRunner"
   ]
  },
  {
   "cell_type": "code",
   "execution_count": null,
   "metadata": {},
   "outputs": [],
   "source": [
    "class Project1MutationCoverageFuzzer(MutationCoverageFuzzer):\n",
    "    def __init__(self, min_mutations=2, max_mutations=10):\n",
    "        seed = self.__get_initial_seed()\n",
    "        super(Project1MutationCoverageFuzzer, self).__init__(seed, min_mutations, max_mutations)\n",
    "\n",
    "    def __get_initial_seed(self):\n",
    "        \"\"\"Gets the initial seed for the fuzzer\n",
    "\n",
    "        :return: List of SVG in string format\n",
    "        \"\"\"\n",
    "\n",
    "        seed_dir = \"./data/svg/\"\n",
    "        seed_files = list(filter(lambda f: \".svg\" in f, os.listdir(seed_dir)))\n",
    "\n",
    "        seed = []\n",
    "        for f in seed_files:\n",
    "            print(seed_dir + f)\n",
    "            with open(seed_dir + f) as x:\n",
    "                s = ''.join(x.readlines()).strip()\n",
    "                seed.append(s)\n",
    "\n",
    "        print(\"Seed size: \" + str(len(seed)) + \" files\")\n",
    "        return seed"
   ]
  },
  {
   "cell_type": "markdown",
   "metadata": {},
   "source": [
    "## Fuzzing the _svglib_\n",
    "\n",
    "To fuzz _svglib_ it must execute it and inspect the obtained coverage. We will reuse the [FunctionCoverageRunner](MutationFuzzer.ipynb) class from the lecture to perform this task."
   ]
  },
  {
   "cell_type": "code",
   "execution_count": null,
   "metadata": {},
   "outputs": [],
   "source": [
    "parse_svg_runner = FunctionCoverageRunner(parse_svg)"
   ]
  },
  {
   "cell_type": "markdown",
   "metadata": {},
   "source": [
    "We then initialize our fuzzer"
   ]
  },
  {
   "cell_type": "code",
   "execution_count": null,
   "metadata": {},
   "outputs": [],
   "source": [
    "mutation_fuzzer = Project1MutationCoverageFuzzer()"
   ]
  },
  {
   "cell_type": "markdown",
   "metadata": {},
   "source": [
    "And execute it multiple times to test it."
   ]
  },
  {
   "cell_type": "code",
   "execution_count": null,
   "metadata": {},
   "outputs": [],
   "source": [
    "mutation_fuzzer.reset()\n",
    "mutation_fuzzer.runs(runner=parse_svg_runner, trials=1000)"
   ]
  },
  {
   "cell_type": "markdown",
   "metadata": {},
   "source": [
    "## Obtaining the population coverage\n",
    "\n",
    "In order to obtain the overal coverage achieved by the fuzzer's population we will exploit the [population_coverage](Coverage.ipynb) function from the lecture.\n",
    "\n",
    "The following code calculates the overall coverage from a fuzzer's population:"
   ]
  },
  {
   "cell_type": "code",
   "execution_count": null,
   "metadata": {},
   "outputs": [],
   "source": [
    "from Coverage import population_coverage\n",
    "import matplotlib.pyplot as plt"
   ]
  },
  {
   "cell_type": "code",
   "execution_count": null,
   "metadata": {},
   "outputs": [],
   "source": [
    "all_coverage, cumulative_coverage = population_coverage(\n",
    "    mutation_fuzzer.population, parse_svg)\n",
    "\n",
    "plt.plot(cumulative_coverage)\n",
    "plt.title('Coverage of parse_svg() with random inputs')\n",
    "plt.xlabel('# of inputs')\n",
    "plt.ylabel('lines covered');"
   ]
  }
 ],
 "metadata": {
  "kernelspec": {
   "display_name": "Python 3",
   "language": "python",
   "name": "python3"
  },
  "language_info": {
   "codemirror_mode": {
    "name": "ipython",
    "version": 3
   },
   "file_extension": ".py",
   "mimetype": "text/x-python",
   "name": "python",
   "nbconvert_exporter": "python",
   "pygments_lexer": "ipython3",
   "version": "3.6.5"
  }
 },
 "nbformat": 4,
 "nbformat_minor": 2
}
