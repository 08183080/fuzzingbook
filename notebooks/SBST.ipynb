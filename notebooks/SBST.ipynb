{
 "cells": [
  {
   "cell_type": "markdown",
   "metadata": {
    "button": false,
    "new_sheet": false,
    "run_control": {
     "read_only": false
    }
   },
   "source": [
    "# Search-based Fuzzing\n",
    "\n",
    "Sometimes we are interested not only in fuzzing diverse program inputs, but in deriving specific test inputs that achieve some objective, such as reaching specific statements in a program, or achieving code coverage. When we have an idea what we are looking for, then we can *search* it. Search algorithms are at the core of computer science, but classic search algorithms like breadth or depth first search potentially require us to look at all possible inputs, which is not realistically possible with program inputs. However, domain-knowledge can be used to overcome this problem. If we know or can estimate which of several program inputs is closer to the one we are looking for, then this information can guide us to reach the target quicker -- this information is known as a *heuristic*. The way heuristics are applied systematically is captured in *meta-heuristic* search algorithms. The \"meta\" denotes that these algorithm are generic and can be instantiated differently to different problems. Meta-heuristics often take inspiration from processes observed in nature. For example, there are algorithms mimicking evolutionary processes, swarm intelligence, or chemical reactions. In general they are so much more efficient than exhaustive search approaches such that they can be applied to vast search spaces --- search spaces as vast and vaster as the domain of program inputs are no problem for them."
   ]
  },
  {
   "cell_type": "markdown",
   "metadata": {
    "button": false,
    "new_sheet": false,
    "run_control": {
     "read_only": false
    }
   },
   "source": [
    "**Prerequisites**\n",
    "\n",
    "* You should know how code coverage works, e.g. from the [chapter on coverage](Coverage.ipynb)."
   ]
  },
  {
   "cell_type": "markdown",
   "metadata": {
    "button": false,
    "new_sheet": true,
    "run_control": {
     "read_only": false
    }
   },
   "source": [
    "## Test Generation as a Search Problem\n",
    "\n",
    "If we want to apply a meta-heuristic search algorithm to generate test data for a program, then we have to make several choices: First, we need to decide on what exactly our search space is in the first place. The search space is defined by how we *represent* what we are looking for. Are we looking for single integer values? Tuples of values? Objects? XML documents? "
   ]
  },
  {
   "cell_type": "markdown",
   "metadata": {},
   "source": [
    "### Representing program inputs as a search problem\n",
    "\n",
    "The representation is highly dependent on the particular testing problem we are solving --- we know which program we are testing, so the representation needs to encode whatever an input to our target program is. Let's consider the example function `testMe` as our function under test: "
   ]
  },
  {
   "cell_type": "code",
   "execution_count": null,
   "metadata": {},
   "outputs": [],
   "source": [
    "def testMe(x, y):\n",
    "    if x == 2 * (y + 1):\n",
    "        return True \n",
    "    else:\n",
    "        return False"
   ]
  },
  {
   "cell_type": "markdown",
   "metadata": {},
   "source": [
    "The `testMe` function has two input parameters, and returns `True` or `False` depending on how the two relate to each other. A test input to `testMe` consists of a pair of values, one for `x` and one for `y`. Thus, a simple representation for test data would be tuples `(x, y)`, and each tuple would have eight neighbours:\n",
    "\n",
    "- x-1, y-1\n",
    "- x-1, y\n",
    "- x-1, y+1\n",
    "- x, y+1\n",
    "- x+1, y+1\n",
    "- x+1, y\n",
    "- x, y-1\n",
    "\n",
    "To get from an individual candidate solution to the entire search space, we need to explicitly explore the neighborhood of an individual. Let's restrict our search space to values in the range -10000 to 10000:"
   ]
  },
  {
   "cell_type": "code",
   "execution_count": null,
   "metadata": {},
   "outputs": [],
   "source": [
    "MIN=-10000\n",
    "MAX=10000"
   ]
  },
  {
   "cell_type": "markdown",
   "metadata": {},
   "source": [
    "The neighborhood for a tuple `(x,y)` could be determined as follows:"
   ]
  },
  {
   "cell_type": "code",
   "execution_count": null,
   "metadata": {},
   "outputs": [],
   "source": [
    "def neighbours(x, y):\n",
    "    return [(x+dx, y+dy) for dx in [-1,0,1] for dy in [-1,0,1] if (dx != 0 or dy != 0) and ((MIN <= x+dx <= MAX) and (MIN <= y+dy <= MAX))]"
   ]
  },
  {
   "cell_type": "markdown",
   "metadata": {},
   "source": [
    "### A simple search algorithm: Hillclimbing\n",
    "\n",
    "Now let's explore this search space using the simplest possible meta-heuristic algorithm: Hillclimbing. The metaphor captures aptly what is happening: The algorithm tries to climb a hill in the search space defined by our representation. So what is the hill we are climbing? This is the *search landscape*. All meta-heuristics are based on the use of a heuristic function that estimates how good a given candidate solution is; this \"goodness\" is typically called the *fitness* of an individual, and the heuristic that estimates the fitness is the *fitness function*. The fitness function is a function that maps any candidate solution to a numerical value, the fitness value. If you plot each point in the search space with its fitness value as the height, you get a landscape with the optimal solution represented as the highest peak.\n",
    "\n",
    "The hillclimbing algorithm itself is very simple: \n",
    "1. Take a random starting point\n",
    "2. Determine fitness value of all neighbours\n",
    "3. Choose neighbour with best value\n",
    "4. If solution is not found, continue with step 2\n",
    "\n",
    "But what is the fitness function that we should use to determine fitness values?"
   ]
  },
  {
   "cell_type": "markdown",
   "metadata": {},
   "source": [
    "### Example fitness function\n",
    "\n",
    "The fitness function depends on the objective one would like to achieve with generating the test data. Very often, automated test data generation will be guided by coverage criteria, and the objective of one run of a search algorithm will be to cover one particular coverage item. Let's assume that we are interested in covering the true branch of the if-condition in the `testMe` function. How close is a given input tuple for this function from reaching the target branch?\n",
    "\n",
    "Let's consider what our hillclimber would need from the fitness function. It would typically start with a random test input, i.e., random values for `x` and `y`. For any pair of random integer numbers, the chances of them satisfying the condition `x == 2 * (y + 1)` are rather slim. Suppose the random values are `(274, 153)`. The right hand side of the equation, `2 * (y + 1)`, evaluates to 308, so the condition is clearly false. Where should the hillclimber go to now? The neighborhood of `(274, 153)` consists of the tuples `(273, 153)`, `(275, 153)`, `(274, 152)`, `(274, 154)`, `(273, 152)`, `(275, 154)`, `(273, 154)`, and `(275, 152)`; that is, all immediate numerical neighbors. Increasing `y` by one increases the value of the right hand side of the equation to `310`. Thus, the value on the left hand side of the equation thus differs *even more* to the value on the right hand side of the equation than it did before the increase! So, increasing `y` does not seem like a good idea. On the other hand, increasing `x` by one improves things: The left hand side and the right hand side of the equation become more similar; they are \"less unequal\". Thus, out of the eight possible neighbors of `(274, 153)`, the neighbor that increases `x` and decreases `y` seems best intuitively --- the outcome of the condition is still false, but it is \"less so\" than for the original value.\n",
    "\n",
    "We need to capture this intuition of what is \"more\" or \"less\" true or false numerically for the hillclimber, such that it can automatically choose the best neighbor. Fortunately, this is quite easy: In the example we have an equality check, and intuitively the further the left hand side and the right hand side of the comparison are apart, the \"more\" false the equation is. Thus, we can quantify \"how false\" the comparison is by calculating the difference between `x` and `2 * (y + 1)`. For input `(274, 153)` this distance is `|274 - 308| = 34`. For the best neighbor `(275, 152)` this distance is `|275 - 306| = 31`. One important thing to note here is that, in this example, \"better\" means *lower* distance values. Thus, to use the branch distance as fitness function to guide the search we need to aim to minimize this distance, rather than maximizing it --- rather than climbing hills, we need to descend cavities. Fortunately, this is simple enough --- all we have to do to switch a hillclimber from maximizing to minimizing fitness values is to change the direction of the relational comparison `>` to `<`. \n",
    "\n",
    "For any test input `(x, y)` we can calculate this distance as `abs(x - 2 * (y + 1))`. Thus, for each value in the search space of integer tuples, this distance value defines the elevation in our search landscape. "
   ]
  },
  {
   "cell_type": "markdown",
   "metadata": {},
   "source": [
    "### Instrumentation\n",
    "\n",
    "The question now is how to inform the hillclimber of this value. The branching condition is hidden within the source code of the target function, and its value may in principle be the result of various calculations along the execution path reaching it. Even though in our example the condition is an equation using the input values of the function directly, this may not be the case in general; it might as well be derived values. Thus, the values we need to calculate our distance metric need to be observed directly at the conditional statement.  This is typically done with *instrumentation*: We add new code immediately before or after the branching condition to keep track of the values observed and calculate the distance using these values. The following is an instrumented version of our program under test:"
   ]
  },
  {
   "cell_type": "code",
   "execution_count": null,
   "metadata": {},
   "outputs": [],
   "source": [
    "import sys\n",
    "\n",
    "distance = sys.maxint\n",
    "\n",
    "def testMe_instrumented(x, y):\n",
    "    global distance\n",
    "    distance = min(distance, abs(x - 2*(y+1)))\n",
    "    if x == 2*(y+1):\n",
    "        return True \n",
    "    else:\n",
    "        return False"
   ]
  },
  {
   "cell_type": "markdown",
   "metadata": {},
   "source": [
    "The instrumented version of `testMe` contains two additions: We added a global variable `distance`; this variable is assigned the result of the distance calculation. Thus, after the function has been executed with a concrete input `(x, y)`, the global variable `distance` will contain the branch distance towards reaching the true branch of the conditional statement. Because the same branch can be executed several times for any test input in general (although not in this specific case), we need to decide what to do when given several values. For any given execution, the value that is of most interest is the one *closest* to making the branch true. Thus, we store the new distance value only if it is smaller than any executions observed so far. Therefore, `distance` is initialised with the largest possible value (`sys.maxint`), such that *any* execution (except the very worst case) will lead to a smaller value than the one assigned when the branching condition is not executed at all. "
   ]
  },
  {
   "cell_type": "markdown",
   "metadata": {},
   "source": [
    "Using this instrumented version of `testMe`, we can now finally define our fitness function, which simply runs the instrumented `testMe` function, and then retrieves the `distance` value:"
   ]
  },
  {
   "cell_type": "code",
   "execution_count": null,
   "metadata": {},
   "outputs": [],
   "source": [
    "def get_fitness(x, y):\n",
    "    global distance\n",
    "    testMe_instrumented(x, y)\n",
    "    fitness = distance\n",
    "    return fitness"
   ]
  },
  {
   "cell_type": "markdown",
   "metadata": {},
   "source": [
    "### Hillclimbing the example\n",
    "\n",
    "Having decided on a representation (2-tuples of integers) and a fitness function (distance to target branch), we can now finally go ahead and implement our search algorithm. "
   ]
  },
  {
   "cell_type": "code",
   "execution_count": null,
   "metadata": {},
   "outputs": [],
   "source": [
    "x, y = random.randint(MIN, MAX), random.randint(MIN, MAX)\n",
    "fitness = get_fitness(x, y)\n",
    "\n",
    "while fitness > 0:\n",
    "    changed = False\n",
    "    for (nextx, nexty) in neighbours(x,y):\n",
    "        new_fitness = get_fitness(nextx, nexty)\n",
    "        if new_fitness < fitness:\n",
    "            x, y = nextx, nexty\n",
    "            fitness = new_fitness\n",
    "            changed = True\n",
    "            print(\"New value: %d, %d at fitness %.4f\" %(x, y, fitness))\n",
    "            break\n",
    "\n",
    "    if not changed:\n",
    "        x, y = random.randint(MIN, MAX), random.randint(MIN, MAX)\n",
    "        fitness = get_fitness(x, y)\n",
    "\n",
    "print(\"Optimum at %d\" % (x, y))"
   ]
  },
  {
   "cell_type": "markdown",
   "metadata": {},
   "source": [
    "The hillclimber starts by choosing random values for `x` and `y`. We use low values in the range of `0`--`1000` to reduce the time search takes when playing with the example. Then, we determine the fitness value of this starting point by calling `get_fitness`. Recall that we are trying to find the smallest possible fitness value, therefore we now loop until we have either found a fitness value of `0` (i.e., an optimal value) or until we have reached a local optimum (i.e., all neighbours have same or worse fitness). \n",
    "\n",
    "In this loop, we iterate over all neighbours (`neighbours`), and evaluate the fitness value of each of the neighbours. As soon as we have found a neighbour with better (smaller) fitness, the hillclimber exits the loop and uses this as the new starting point. An alternative variant of this simple hillclimbing algorithm would be to remove the `break` statement: By doing so, *all* neighbours would be evaluated and the best neighbour would be chosen --- this is known as *steepest ascent hillclimbing*.\n",
    "\n",
    "Our example program has a very nice fitness landscape --- there is a perfect gradient, and the hillclimber will always find a solution. Things become more tricky if that is not the case. The hillclimber only works well as long as there is at least one neighbour that has a better fitness value. If one has reached a local optimum, then no neighbour has a better fitness. If one is stuck on a plateau, then all neighbours have the same fitness value. In these cases, the only way out is a random restart. \n"
   ]
  },
  {
   "cell_type": "markdown",
   "metadata": {},
   "source": [
    "Exercises:\n",
    "- Different function under test\n",
    "- Random restarts\n",
    "- Steepest descent"
   ]
  },
  {
   "cell_type": "markdown",
   "metadata": {
    "button": false,
    "new_sheet": false,
    "run_control": {
     "read_only": false
    }
   },
   "source": [
    "## Testing a More Complex Program\n",
    "\n",
    "The hillclimber found the solution to the `testMe` example quickly. However, there are several points to note about this example: First, there is just only one local optimum. Second, we restricted initial values of `x` and `y` to the range `[0, 1000]`. The latter is a common trick in test generation, as in *most* cases solutions tend to consist of small values, and using small values to start the search makes the search quicker in many cases. However, what if the solution we need is at a completely different place in our search space? Our bias towards smaller solutions would mean that the hillclimber would take very long to find the solution, and given a fixed search budget it would thus be less likely to actually find a solution. To see what effects this would have, simply try replacing the `1000` with `sys.maxint` in the example and run the hillclimber again: You will note that in most cases the search now will take extremely long until a solution is found --- much longer than we are prepared to wait for such a simple example function! How is this ever going to work on \"real\" examples? Not to imagine if there were even more parameters!"
   ]
  },
  {
   "cell_type": "code",
   "execution_count": null,
   "metadata": {},
   "outputs": [],
   "source": [
    "MAX=sys.maxint\n",
    "MIN=-sys.maxint\n",
    "# TODO: Call hillclimber again"
   ]
  },
  {
   "cell_type": "markdown",
   "metadata": {},
   "source": [
    "### CGI Decoder as a Search Problem\n",
    "\n",
    "Let's turn to a slightly more complex program: The CGI decoder you already know from chapter TODO. This function has one input of type string, and one possible way to define the neighbourhood of a string is by all possible strings that have an edit distance of 1. For example, string `test` would have two neighbours for each character:\n",
    "\n",
    "- `uest`\n",
    "- `tfst`\n",
    "- `tett`\n",
    "- `tesu`\n",
    "- `sest`\n",
    "- `tdst`\n",
    "- `tert`\n",
    "- `tess`\n",
    "\n",
    "In addition, prepending any character or appending any character would also have an edit distance of 1 and could be considered neighbours. To keep things simple, let's keep the length of our input strings fixed to a reasonable value (e.g. 10). In this case, each individual has 20 neighbours.\n",
    "\n",
    "TODO: explain neighbours function"
   ]
  },
  {
   "cell_type": "code",
   "execution_count": null,
   "metadata": {},
   "outputs": [],
   "source": [
    "def neighbours(x):\n",
    "    n = []\n",
    "    for pos in range(len(x)):\n",
    "      c = ord(x[pos])\n",
    "      if c < 256:\n",
    "        n += [ x[:pos] + chr(c + 1) + x[pos + 1:] ]\n",
    "      if c > 0:\n",
    "        n += [ x[:pos] + chr(c - 1) + x[pos + 1:] ]"
   ]
  },
  {
   "cell_type": "markdown",
   "metadata": {
    "heading_collapsed": true
   },
   "source": [
    "### Branch Distances\n",
    "\n",
    "Deriving a fitness function for the `testMe` function was easy, but the way we added a global variable and method call to the program seems like a rather clumsy approach --- surely we cannot start thinking about every branch in our program on its own and instrument the program we want to test manually, in particular if programs have multiple branches like the `cgi_decode` function. Rather, we should be looking at how to automatically instrument programs to contain the necessary added statements such that we can calculate fitness values.\n",
    "\n",
    "The fitness calculation we used in the simple example was based on estimating the distance to making a branch evaluate to a desired outcome; this is generally referred to as its *branch distance*. Branching conditions may be more complex than the simple equality check in our example. However, the concept of branch distance can be very easily extended to other types of equations.\n",
    "\n",
    "The following table shows how to calculate the distance for different types of comparisons:\n",
    "\n",
    "| Condition | Distance True | Distance False |\n",
    "| ------------- |:-------------:| -----:|\n",
    "| a == b      | abs(a - b) | 1 |\n",
    "| a != b      | 1          | abs(a - b) |\n",
    "| a < b       | b - a + 1  | a - b      |\n",
    "| a <= b      | b - a      | a - b + 1  |\n",
    "| a > b       | a - b + 1  | b - a      |\n",
    "\n",
    "\n",
    "For each type of comparison, there are two possible distances: The distance to making the comparison true, and the distance to making the comparison false. In general, the branch distance is defined as `0` if the branch already evaluates to the target outcome. That is, if `a` is smaller than `b`, then the true-distance of `a < b` is `0` by definition. Similarly, if `a` differs from `b` then the false-distance of `a == b` is `0`. Note that several of the calculations add a constant `1`. The reason for this is quite simple: Suppose we want to have `a < b` evaluate to true, and let `a = 27` and `b = 27`. The condition is not true, but simply taking the difference would give us a result of `0`. To avoid this, we have to add a constant value. It is not important whether this value is `1` -- any positive constant works.\n",
    "\n",
    "TODO: `digit_high in hex_values`\n"
   ]
  },
  {
   "cell_type": "markdown",
   "metadata": {},
   "source": [
    "### Dealing with Complex Conditions\n",
    "\n",
    "In the `cgi_decode` function, we can also find a somewhat more complex predicate which consists of several comparisons:\n",
    "\n",
    "`\n",
    "if digit_high in hex_values and digit_low in hex_values:\n",
    "`\n",
    "\n",
    "In principle, the branch distance is defined such that the distance to make a conjunction `A and B` true equals the sum of the branch distances for `A` and `B`, as both of the two conditions would need to be true. Similarly, the branch distance to make `A or B` true would be the minimum of the two branch distances of `A` and `B`, as it suffices if one of the two conditions is true to make the entire expression true. \n",
    "\n",
    "However, it is not as easy as that in practice: Predicates can consist of nested conditions and negations, and one would need to convert the expression to canonical form before being able to apply this calculation. Furthermore, most modern programming languages use *short-circuit evaluation*: If there is a condition `A or B`, and `A` is true, then `B` is never evaluated. If `B` is an expression with side-effects, then by calculating the branch distance of `B` even though short-circuit evaluation would avoid its execution, we would potentially be changing the program behavior (by invoking the side-effect that would in normal behavior not be executed), and that is not acceptable.\n",
    "\n",
    "\n",
    "Furthermore, what if the branching condition has side-effects? For example, suppose that the branching condition were `x == 2 * foo(y)`, where `foo` is a function that takes an integer as input. Naively instrumenting would lead to the following code:\n",
    "\n",
    "```\n",
    "    distance = abs(x - 2 * foo(y))\n",
    "\tif x == 2 * foo(y):\n",
    "\t...\n",
    "```\n",
    "\n",
    "Thus, the instrumentation would lead to `foo` being executed *twice*. Suppose `foo` changes the state of the system (e.g., by printing something, accessing the filesystem, changing some state variables, etc.), then clearly invoking `foo` a second time is a bad idea. One way to overcome this problem is to transform the conditions, rather than adding tracing calls. For example, one can create temporary variables that hold the values necessary for the distance calculation and then use these in the branching condition:\n",
    "\n",
    "```\n",
    "\ttmp1 = x\n",
    "\ttmp2 = 2 * foo(y)\n",
    "\tdistance = abs(tmp1, tmp2)\n",
    "\tif tmp1 == tmp2:\n",
    "\t...\n",
    "```\n",
    "\n",
    "The same effect can be achieved without temporary variables by replacing the actual comparison with a call to a helper function, where the original expressions are evaluated as arguments, and the operator is an additional argument. Assume a `BranchPredicate` function which takes four parameters: `num` is a unique id that identifies the branching predicate; `op` is the operator of the comparison; `lhs` and `rhs` are the operands. The function calculates two distances for the predicate: The distance to the predicate evaluating to true and the distance to the predicate evaluating to false. One of the two outcomes will always be true, and thus one of them will always have distance `0`. The function returns true or false, depending on which distance is `0`. That means, the example expression \n",
    "\n",
    "```\n",
    "    if x == 2 * foo(y)\n",
    "```\n",
    "    \n",
    "would be replaced by \n",
    "\n",
    "```\n",
    "    if BranchPredicate(0, \"==\", x, 2 * foo(y))\n",
    "```\n",
    "\n",
    "such that the arguments are only evaluated once, and side-effects are thus handled correctly. Here is how the `BranchPredicate` function looks like:\n",
    "\n",
    "TODO: Explain global map instead of global variable\n",
    "TODO: Point out that `BranchPredicate` needs to return true or false\n"
   ]
  },
  {
   "cell_type": "code",
   "execution_count": null,
   "metadata": {},
   "outputs": [],
   "source": [
    "def update_maps(num, distance_true, distance_false):\n",
    "    global distanceMapTrue, distanceMapFalse\n",
    "    \n",
    "    if num in distanceMapTrue.keys():\n",
    "        distanceMapTrue[num]  = min(distanceMapTrue[num], distanceTrue)\n",
    "    else:\n",
    "        distanceMapTrue[num]  = distanceTrue\n",
    "\n",
    "    if num in distanceMapFalse.keys():\n",
    "        distanceMapFalse[num] = min(distanceMapFalse[num], distanceFalse)\n",
    "    else:\n",
    "        distanceMapFalse[num] = distanceFalse\n"
   ]
  },
  {
   "cell_type": "code",
   "execution_count": null,
   "metadata": {},
   "outputs": [],
   "source": [
    "def BranchPredicate(num, op, lhs, rhs) :\n",
    "    distanceTrue  = 0.0\n",
    "    distanceFalse = 0.0\n",
    "    if type(lhs) is str:\n",
    "        lhs = ord(lhs)\n",
    "    if type(rhs) is str:\n",
    "        rhs = ord(rhs)\n",
    "\n",
    "    if op == \"Eq\":\n",
    "        if lhs == rhs:\n",
    "            distanceFalse = 1.0\n",
    "        else:\n",
    "            distanceTrue = abs(lhs - rhs)\n",
    "\n",
    "    # ...\n",
    "    # handle other comparison operators\n",
    "    # ...\n",
    "    \n",
    "    elif op == \"In\":\n",
    "        minimum = 1000000\n",
    "        for elem in rhs.keys():\n",
    "            distance = abs(lhs - ord(elem))\n",
    "            if distance < minimum:\n",
    "                minimum = distance\n",
    "\n",
    "        distanceTrue = minimum\n",
    "        if distanceTrue == 0:\n",
    "            distanceFalse = 1\n",
    "\n",
    "    # TODO: Add this function\n",
    "    update_maps(num, distanceTrue, distanceFalse)\n",
    "            \n",
    "    if distanceTrue == 0:\n",
    "        return True\n",
    "    else:\n",
    "        return False"
   ]
  },
  {
   "cell_type": "markdown",
   "metadata": {},
   "source": [
    "The following shows the instrumentation of the conjunction from `cgi_decode`: There are two calls to `BranchDistance` corresponding to the two conditions, and the `and` with which they are conjoined ensures that the original short-circuiting behavior is preserved:\n",
    "\n",
    "`\n",
    "if (BranchPredicate(4, 'In', digit_high, hex_values) and BranchPredicate(5, 'In', digit_low, hex_values))\n",
    "`\n"
   ]
  },
  {
   "cell_type": "markdown",
   "metadata": {},
   "source": [
    "TODO: Remainder of complex conditions"
   ]
  },
  {
   "cell_type": "markdown",
   "metadata": {},
   "source": [
    "### Instrumenting source code automatically\n",
    "\n",
    "Replacing comparisons automatically is quite easy on the abstract syntax tree (AST) of the program. In the AST, a comparison will typically be a tree node with an operator attribute and two children for the left-hand and right-hand operators. To replace such comparisons with a call to `BranchDistance` one simply needs to replace the comparison node in the AST with a function call node, and this is what the `BranchDistanceTransformation` function does:\n"
   ]
  },
  {
   "cell_type": "code",
   "execution_count": null,
   "metadata": {},
   "outputs": [],
   "source": [
    "import ast\n",
    "import sys\n",
    "import codegen\n",
    "\n",
    "class BranchTransformer(ast.NodeTransformer):\n",
    "\n",
    "    branchNum = 0\n",
    "\n",
    "    def visit_Module(self, node):\n",
    "        import_stmt = ast.ImportFrom(module = \"Instrumentation\", names=[\"BranchPredicate\"], level=0)\n",
    "        node.body = [import_stmt] + node.body\n",
    "        return self.generic_visit(node)\n",
    "\n",
    "    def visit_Compare(self, node):\n",
    "        if node.ops[0] in [ast.Is, ast.IsNot, ast.In, ast.NotIn]:\n",
    "            return node\n",
    "\n",
    "        self.branchNum += 1\n",
    "        return ast.Call(func = ast.Name(\"BranchPredicate\", ast.Load()),\n",
    "                        args = [ast.Num(self.branchNum),\n",
    "                                ast.Str(node.ops[0].__class__.__name__),\n",
    "                                node.left,\n",
    "                                node.comparators[0]],\n",
    "                        keywords=[],\n",
    "                        starargs=None,\n",
    "                        kwargs=None)"
   ]
  },
  {
   "cell_type": "markdown",
   "metadata": {},
   "source": [
    "The `BranchDistanceTransformer` parses a target Python program using the built-in parser `ast.parse`, which returns the AST. Python provides API to traverse and modify this AST. To replace the comparison with a function call we use an `ast.NodeTransformer`, which uses the visitor pattern where there is one `visit_*` function for each type of node in the AST. As we are interested in replacing comparisons, we override `visit_Compare`, where instead of the original comparison node we return a new node of type `ast.Func`, which is a function call node. The first parameter of this node is the name of the function `BranchDistance`), and the arguments are the four arguments that our `BranchDistance` function expects: Number of branch (for which we keep a count in `branchNum`), the operator (for which we simply use the class name), the left-hand side, and the right-hand side. Note that Python allows comparisons of multiple expressions (e.g. `1 < x < 10`); to keep the code simple we only deal with individual comparisons here, but it would be straight forward to extend the code by treating each comparison with an individual call to `BranchPredicate`.\n"
   ]
  },
  {
   "cell_type": "code",
   "execution_count": null,
   "metadata": {},
   "outputs": [],
   "source": [
    "sourcefile = open(\"CGI.py\", \"r\")\n",
    "text = sourcefile.read()\n",
    "node = ast.parse(text)\n",
    "\n",
    "BranchTransformer().visit(node)\n",
    "\n",
    "node = ast.fix_missing_locations(node)\n",
    "print(codegen.to_source(node))"
   ]
  },
  {
   "cell_type": "markdown",
   "metadata": {},
   "source": [
    "The following shows the output of this instrumentation:"
   ]
  },
  {
   "cell_type": "code",
   "execution_count": 1,
   "metadata": {},
   "outputs": [
    {
     "ename": "ModuleNotFoundError",
     "evalue": "No module named 'Instrumentation'",
     "output_type": "error",
     "traceback": [
      "\u001b[0;31m---------------------------------------------------------------------------\u001b[0m",
      "\u001b[0;31mModuleNotFoundError\u001b[0m                       Traceback (most recent call last)",
      "\u001b[0;32m<ipython-input-1-26a2c187fc49>\u001b[0m in \u001b[0;36m<module>\u001b[0;34m\u001b[0m\n\u001b[0;32m----> 1\u001b[0;31m \u001b[0;32mfrom\u001b[0m \u001b[0mInstrumentation\u001b[0m \u001b[0;32mimport\u001b[0m \u001b[0mBranchPredicate\u001b[0m\u001b[0;34m\u001b[0m\u001b[0;34m\u001b[0m\u001b[0m\n\u001b[0m\u001b[1;32m      2\u001b[0m \u001b[0;34m\u001b[0m\u001b[0m\n\u001b[1;32m      3\u001b[0m \u001b[0;32mdef\u001b[0m \u001b[0mcgi_decode_instrumented\u001b[0m\u001b[0;34m(\u001b[0m\u001b[0ms\u001b[0m\u001b[0;34m)\u001b[0m\u001b[0;34m:\u001b[0m\u001b[0;34m\u001b[0m\u001b[0;34m\u001b[0m\u001b[0m\n\u001b[1;32m      4\u001b[0m     \u001b[0;34m'Decode the CGI-encoded string `s`:\\n       * replace \"+\" by \" \"\\n       * replace \"%xx\" by the character with hex number xx.\\n       Return the decoded string.  Raise `ValueError` for invalid inputs.'\u001b[0m\u001b[0;34m\u001b[0m\u001b[0;34m\u001b[0m\u001b[0m\n\u001b[1;32m      5\u001b[0m     \u001b[0mhex_values\u001b[0m \u001b[0;34m=\u001b[0m \u001b[0;34m{\u001b[0m\u001b[0;34m'0'\u001b[0m\u001b[0;34m:\u001b[0m \u001b[0;36m0\u001b[0m\u001b[0;34m,\u001b[0m \u001b[0;34m'1'\u001b[0m\u001b[0;34m:\u001b[0m \u001b[0;36m1\u001b[0m\u001b[0;34m,\u001b[0m \u001b[0;34m'2'\u001b[0m\u001b[0;34m:\u001b[0m \u001b[0;36m2\u001b[0m\u001b[0;34m,\u001b[0m \u001b[0;34m'3'\u001b[0m\u001b[0;34m:\u001b[0m \u001b[0;36m3\u001b[0m\u001b[0;34m,\u001b[0m \u001b[0;34m'4'\u001b[0m\u001b[0;34m:\u001b[0m \u001b[0;36m4\u001b[0m\u001b[0;34m,\u001b[0m \u001b[0;34m'5'\u001b[0m\u001b[0;34m:\u001b[0m \u001b[0;36m5\u001b[0m\u001b[0;34m,\u001b[0m \u001b[0;34m'6'\u001b[0m\u001b[0;34m:\u001b[0m \u001b[0;36m6\u001b[0m\u001b[0;34m,\u001b[0m \u001b[0;34m'7'\u001b[0m\u001b[0;34m:\u001b[0m \u001b[0;36m7\u001b[0m\u001b[0;34m,\u001b[0m \u001b[0;34m'8'\u001b[0m\u001b[0;34m:\u001b[0m \u001b[0;36m8\u001b[0m\u001b[0;34m,\u001b[0m \u001b[0;34m'9'\u001b[0m\u001b[0;34m:\u001b[0m \u001b[0;36m9\u001b[0m\u001b[0;34m,\u001b[0m \u001b[0;34m'a'\u001b[0m\u001b[0;34m:\u001b[0m \u001b[0;36m10\u001b[0m\u001b[0;34m,\u001b[0m \u001b[0;34m'b'\u001b[0m\u001b[0;34m:\u001b[0m \u001b[0;36m11\u001b[0m\u001b[0;34m,\u001b[0m \u001b[0;34m'c'\u001b[0m\u001b[0;34m:\u001b[0m \u001b[0;36m12\u001b[0m\u001b[0;34m,\u001b[0m \u001b[0;34m'd'\u001b[0m\u001b[0;34m:\u001b[0m \u001b[0;36m13\u001b[0m\u001b[0;34m,\u001b[0m \u001b[0;34m'e'\u001b[0m\u001b[0;34m:\u001b[0m \u001b[0;36m14\u001b[0m\u001b[0;34m,\u001b[0m \u001b[0;34m'f'\u001b[0m\u001b[0;34m:\u001b[0m \u001b[0;36m15\u001b[0m\u001b[0;34m,\u001b[0m \u001b[0;34m'A'\u001b[0m\u001b[0;34m:\u001b[0m \u001b[0;36m10\u001b[0m\u001b[0;34m,\u001b[0m \u001b[0;34m'B'\u001b[0m\u001b[0;34m:\u001b[0m \u001b[0;36m11\u001b[0m\u001b[0;34m,\u001b[0m \u001b[0;34m'C'\u001b[0m\u001b[0;34m:\u001b[0m \u001b[0;36m12\u001b[0m\u001b[0;34m,\u001b[0m \u001b[0;34m'D'\u001b[0m\u001b[0;34m:\u001b[0m \u001b[0;36m13\u001b[0m\u001b[0;34m,\u001b[0m \u001b[0;34m'E'\u001b[0m\u001b[0;34m:\u001b[0m \u001b[0;36m14\u001b[0m\u001b[0;34m,\u001b[0m \u001b[0;34m'F'\u001b[0m\u001b[0;34m:\u001b[0m \u001b[0;36m15\u001b[0m\u001b[0;34m}\u001b[0m\u001b[0;34m\u001b[0m\u001b[0;34m\u001b[0m\u001b[0m\n",
      "\u001b[0;31mModuleNotFoundError\u001b[0m: No module named 'Instrumentation'"
     ]
    }
   ],
   "source": [
    "from Instrumentation import BranchPredicate\n",
    "\n",
    "def cgi_decode_instrumented(s):\n",
    "    'Decode the CGI-encoded string `s`:\\n       * replace \"+\" by \" \"\\n       * replace \"%xx\" by the character with hex number xx.\\n       Return the decoded string.  Raise `ValueError` for invalid inputs.'\n",
    "    hex_values = {'0': 0, '1': 1, '2': 2, '3': 3, '4': 4, '5': 5, '6': 6, '7': 7, '8': 8, '9': 9, 'a': 10, 'b': 11, 'c': 12, 'd': 13, 'e': 14, 'f': 15, 'A': 10, 'B': 11, 'C': 12, 'D': 13, 'E': 14, 'F': 15}\n",
    "    t = ''\n",
    "    i = 0\n",
    "    while BranchPredicate(1, 'Lt', i, len(s)):\n",
    "        c = s[i]\n",
    "        if BranchPredicate(2, 'Eq', c, '+'):\n",
    "            t += ' '\n",
    "        elif BranchPredicate(3, 'Eq', c, '%'):\n",
    "            (digit_high, digit_low) = (s[i + 1], s[i + 2])\n",
    "            i += 2\n",
    "            if (BranchPredicate(4, 'In', digit_high, hex_values) and BranchPredicate(5, 'In', digit_low, hex_values)):\n",
    "                v = hex_values[digit_high] * 16 + hex_values[digit_low]\n",
    "                t += chr(v)\n",
    "            else:\n",
    "                raise ValueError('Invalid encoding')\n",
    "        else:\n",
    "            t += c\n",
    "        i += 1\n",
    "    return t"
   ]
  },
  {
   "cell_type": "markdown",
   "metadata": {},
   "source": [
    "### Fitness function to create valid hexadecimal inputs\n",
    "\n",
    "As an example, suppose our test target is the part of `cgi_decode` that decodes valid hexadecimal codes. This means that we want to make branch predicate 1 true, 2 false, 3 true, and 4 true. To represent such a path, we can simply sum up the branch distances for exactly these branches. However, there is a potential issue with simply summing up branch distances: If the distance for one branch depends on a comparison of very large values and the distance calculation for another branch depends on small values, then an improvement of the large values would very likely lead to a better fitness improvement, and thus bias the search. To avoid this, we need to *normalize* branch distances before adding them up."
   ]
  },
  {
   "cell_type": "markdown",
   "metadata": {},
   "source": [
    "A normalisation function for a range `[a, b]` takes a number as input and returns a value that is `>=` and `<=`. The important thing about the function is that for any two numbers `x` and `y` the ordering needs to be preserved by the normalisation. That is, if `x<y` then it must also hold that `normalize(x) < normalize(y)`. There are many different functions that could achieve this result; a simple one is `normalize(x) = x/(x+k)`: It is computationally cheap, and will normalise any positive value in the range `[0,1]` (to change this to `[0,b]` one would just need to multiply by `b`). If we use this normalisation function, we know our `K` exactly: it is `1.0`. The function assumes that the value to be normalised is positive. The value of the factor `k` defines the steepness of the curve. For example, for `k=1` (which is a good default value) the curve is very steep, with values quickly approaching, but never reaching, `1`."
   ]
  },
  {
   "cell_type": "code",
   "execution_count": 4,
   "metadata": {},
   "outputs": [],
   "source": [
    "def normalise(x):\n",
    "    return x/(1.0+x)"
   ]
  },
  {
   "cell_type": "markdown",
   "metadata": {},
   "source": [
    "Using this normalization function, we can calculate a fitness value by running the instrumented program under test, and then adding up the normalized values of the relevant branches. However, not every if statement will be executed by every test case. What is the branch distance for a branch that wasn't even executed? We need to make sure that the branch distance for branches that weren't even executed is higher than any of the branch distances observed during execution. If we use normalization, then we know this maximum value is 1. Thus, the fitness function could look like this:"
   ]
  },
  {
   "cell_type": "code",
   "execution_count": null,
   "metadata": {},
   "outputs": [],
   "source": [
    "def get_fitness(x):\n",
    "    Instrumentation.distanceMapTrue  = {}\n",
    "    Instrumentation.distanceMapFalse = {}\n",
    "    try:\n",
    "        CGI_Instrumented.cgi_decode(x)\n",
    "    except:\n",
    "        pass\n",
    "    fitness = 0.0\n",
    "    for branch in [1,3,4,5]:\n",
    "        if branch in Instrumentation.distanceMapTrue:\n",
    "            fitness += normalize(Instrumentation.distanceMapTrue[x]\n",
    "        else:\n",
    "            fitness += 1.0\n",
    "                                 \n",
    "    for branch in [2]:\n",
    "        if branch in Instrumentation.distanceMapFalse:\n",
    "            fitness += normalize(Instrumentation.distanceMapFalse[x]\n",
    "        else:\n",
    "            fitness += 1.0\n",
    "    \n",
    "    return fitness"
   ]
  },
  {
   "cell_type": "markdown",
   "metadata": {},
   "source": [
    "### Hillclimbing valid hexadecimal inputs\n",
    "\n",
    "We have now defined the search space through our `neighbours` function, and we have derived a new fitness function, so before we can apply the hillclimber to the problem of finding strings that contain valid 2 digit hex codes, the only remaining point is to derive a random starting point, which you've already done previously in chapter TODO:"
   ]
  },
  {
   "cell_type": "code",
   "execution_count": null,
   "metadata": {},
   "outputs": [],
   "source": [
    "def random_string(l):\n",
    "    s = \"\"\n",
    "    for i in range(l):\n",
    "        random_character = chr(random.randrange(32, 127))\n",
    "        s = s + random_character\n",
    "    return s"
   ]
  },
  {
   "cell_type": "markdown",
   "metadata": {},
   "source": [
    "Now we can put it all together and use the identical hillclimbing algorithm again, and just make it generate random strings instead of numbers, and use the new fitness function:"
   ]
  },
  {
   "cell_type": "code",
   "execution_count": null,
   "metadata": {},
   "outputs": [],
   "source": [
    "x = random_string(10)\n",
    "fitness = get_fitness(x)\n",
    "\n",
    "while fitness > 0:\n",
    "    changed = False\n",
    "    for (nextx) in neighbours(x):\n",
    "        new_fitness = get_fitness(nextx)\n",
    "        if new_fitness < fitness:\n",
    "            x = nextx\n",
    "            fitness = new_fitness\n",
    "            changed = True\n",
    "            print(\"New value: %s at fitness %.4f\" %(x, fitness))\n",
    "            # TODO: Steepest ascent or not?\n",
    "            break\n",
    "\n",
    "    if not changed:\n",
    "        x = random_string(10)\n",
    "        fitness = get_fitness(x)\n",
    "        #pass\n",
    "        # TODO: Random restart if necessary\n",
    "\n",
    "\n",
    "print(\"Optimum at %s, fitness %.4f\" % (x, fitness))"
   ]
  },
  {
   "cell_type": "markdown",
   "metadata": {},
   "source": [
    "TODO: Run/discuss example\n",
    "\n",
    "Exercises:\n",
    "- Target different branch"
   ]
  },
  {
   "cell_type": "markdown",
   "metadata": {
    "heading_collapsed": true
   },
   "source": [
    "### The Alternating Variable Method\n",
    "\n",
    "TODO: Maybe not use it at all -- delete this section"
   ]
  },
  {
   "cell_type": "code",
   "execution_count": null,
   "metadata": {
    "hidden": true
   },
   "outputs": [],
   "source": [
    "def random_string(l):\n",
    "    s = \"\"\n",
    "    for i in range(l):\n",
    "        random_character = chr(random.randrange(32, 127))\n",
    "        s = s + random_character\n",
    "    return s"
   ]
  },
  {
   "cell_type": "code",
   "execution_count": null,
   "metadata": {
    "hidden": true
   },
   "outputs": [],
   "source": [
    "def flip_random_character(s):\n",
    "    \"\"\"Returns s with a random bit flipped in a random position\"\"\"\n",
    "    if s == \"\":\n",
    "        return s\n",
    "\n",
    "    pos = random.randint(0, len(s) - 1)\n",
    "    new_c = random_character = chr(random.randrange(32, 127))\n",
    "    return s[:pos] + new_c + s[pos + 1:]"
   ]
  },
  {
   "cell_type": "code",
   "execution_count": null,
   "metadata": {
    "hidden": true
   },
   "outputs": [],
   "source": [
    "def pattern_search(text, pos, direction, fitness):\n",
    "    print(\"Current pattern search: position %d of %s, direction %d, fitness %.4f\" % (pos, text, direction, fitness))\n",
    "\n",
    "    new_c = chr((ord(text[pos]) + 2 * direction) % 256)\n",
    "    new_text = text[:pos] + new_c + text[pos + 1:]\n",
    "    new_fitness = get_fitness(new_text)\n",
    "    print(\"Trying %d: %s / %.4f\" % (2*direction, new_text, new_fitness))\n",
    "    if new_fitness < fitness:\n",
    "        print(\"New value: %s at fitness %.4f\" % (new_text, fitness))\n",
    "        return pattern_search(new_text, pos, 2 * direction, new_fitness)\n",
    "    else:\n",
    "        print(\"Restoring value: %s at fitness %.4f\" % (text, fitness))\n",
    "        return (text, fitness)"
   ]
  },
  {
   "cell_type": "code",
   "execution_count": null,
   "metadata": {
    "hidden": true
   },
   "outputs": [],
   "source": [
    "x = random_string(10)\n",
    "fitness = get_fitness(x)\n",
    "print(\"Initial value: %s at fitness %.4f\" % (x, fitness))\n",
    "\n",
    "while fitness > 0:\n",
    "    changed = True\n",
    "    while changed:\n",
    "        changed = False\n",
    "        # Apply search on each character\n",
    "        for pos in range(len(x)):\n",
    "            print(\"Current parameter: %d\" % pos)\n",
    "\n",
    "            (new_value, new_fitness) = pattern_search(x, pos, +1, fitness)\n",
    "            (new_value, new_fitness) = pattern_search(new_value, pos, -1, new_fitness)\n",
    "            if new_fitness < fitness:\n",
    "              x, fitness = new_value, new_fitness\n",
    "              changed = True\n",
    "\n",
    "            print(\"New value after pattern search: %s at fitness %.4f\" %(x, fitness))\n",
    "    if fitness > 0:\n",
    "        x = random_string(10)\n",
    "        print(\"Restarting with %s \" % x)\n",
    "        fitness = get_fitness(x)\n",
    "\n",
    "print(\"Optimum at %s, fitness %.4f\" % (x, fitness))"
   ]
  },
  {
   "cell_type": "markdown",
   "metadata": {
    "button": false,
    "new_sheet": false,
    "run_control": {
     "read_only": false
    },
    "slideshow": {
     "slide_type": "subslide"
    }
   },
   "source": [
    "## Evolutionary Search\n",
    "\n",
    "TODO: Apply on same problem, just replacing algorithm\n",
    "\n",
    "Hillclimbing works well, if the neighbourhood is reasonably small. This was the case so far in the `cgi_decode` example because we limited ourselves to a fixed number of characters (10) and limited the character range to 256. But imagine what happens if we are not looking for ASCII characters, but  UTF-16 unicode characters? These are not allowed in URLs really, but let's see what happens if we change our search space:"
   ]
  },
  {
   "cell_type": "code",
   "execution_count": null,
   "metadata": {},
   "outputs": [],
   "source": [
    "def random_string(l):\n",
    "    s = \"\"\n",
    "    for i in range(l):\n",
    "        random_character = chr(random.randrange(0, 65536))\n",
    "        s = s + random_character\n",
    "    return s\n",
    "\n",
    "def neighbours(x):\n",
    "    n = []\n",
    "    for pos in range(len(x)):\n",
    "      c = ord(x[pos])\n",
    "      if c < 65536:\n",
    "        n += [ x[:pos] + chr(c + 1) + x[pos + 1:] ]\n",
    "      if c > 0:\n",
    "        n += [ x[:pos] + chr(c - 1) + x[pos + 1:] ]\n",
    "\n",
    "    return n"
   ]
  },
  {
   "cell_type": "markdown",
   "metadata": {},
   "source": [
    "### Global search\n",
    "\n",
    "The hillclimber explores the local neighbourhood of an individual in each step of the search, and if the neighbourhood is too large, then this takes too long. An alternative strategy is to not restrict the search to the local neighbourhood, but to search the search space *globally*. That is, the search algorithm is allowed to make larger steps around the search space. A simple modification of the hillclimber converts it from a local to a global search algorithm: Instead of looking at all the immediate neighbours, the individual is *mutated* in a way that allows larger modifications. Then, the resulting offspring individual is compared to its parent, and the better of the two is the new point in the search space, and used for the next iteration of mutation. This is called \"randomized hillclimbing\":"
   ]
  },
  {
   "cell_type": "code",
   "execution_count": null,
   "metadata": {},
   "outputs": [],
   "source": [
    "x = random_string(10)\n",
    "fitness = get_fitness(x)\n",
    "print(\"Initial value: %s at fitness %.4f\" % (x, fitness))\n",
    "while fitness > 0:\n",
    "    mutated = flip_random_character(x)\n",
    "    new_fitness = get_fitness(mutated)\n",
    "    if new_fitness <= fitness:\n",
    "        x = mutated\n",
    "        fitness = new_fitness\n",
    "        print(\"New value: %s at fitness %.4f\" %(x, fitness))\n",
    "\n",
    "\n",
    "print(\"Optimum at %s, fitness %.4f\" % (x, fitness))"
   ]
  },
  {
   "cell_type": "markdown",
   "metadata": {},
   "source": [
    "TODO: Explain importance of `<=` instead of `<`."
   ]
  },
  {
   "cell_type": "markdown",
   "metadata": {},
   "source": [
    "TODO: Explain that this is also called \"1+1 Evolutionary Algorithm\". What is an evolutionary algorithm?"
   ]
  },
  {
   "cell_type": "markdown",
   "metadata": {},
   "source": [
    "### Genetic Algorithms\n",
    "\n",
    "General concept: Population, selection, crossover, mutation"
   ]
  },
  {
   "cell_type": "code",
   "execution_count": null,
   "metadata": {},
   "outputs": [],
   "source": [
    "def selection(population, tournament_size):\n",
    "    selected = random.choice(population)\n",
    "    champion_fitness = fitness(selected)\n",
    "    competition = random.sample(population, tournament_size)\n",
    "    for competitor in competition:\n",
    "        challenger_fitness = fitness(competitor)\n",
    "        if challenger_fitness < champion_fitness:\n",
    "            selected = competitor\n",
    "            champion_fitness = challenger_fitness\n",
    "\n",
    "    # Return a copy of the selected individual\n",
    "    return selected[:]"
   ]
  },
  {
   "cell_type": "markdown",
   "metadata": {},
   "source": [
    "Crossover:"
   ]
  },
  {
   "cell_type": "code",
   "execution_count": null,
   "metadata": {},
   "outputs": [],
   "source": [
    "def crossover(parent1, parent2):\n",
    "    pos = random.randint(0,len(parent1))\n",
    "\n",
    "    offspring1 = parent1[:pos] + parent2[pos:]\n",
    "    offspring2 = parent2[:pos] + parent1[pos:]\n",
    "\n",
    "    return (offspring1, offspring2)"
   ]
  },
  {
   "cell_type": "markdown",
   "metadata": {},
   "source": [
    "General algorithm"
   ]
  },
  {
   "cell_type": "code",
   "execution_count": null,
   "metadata": {},
   "outputs": [],
   "source": [
    "POPULATION_SIZE=20\n",
    "generation = 0\n",
    "best_fitness = sys.maxint\n",
    "\n",
    "population = [random_string(4) for i in range(POPULATION_SIZE)]\n",
    "population.sort(key=lambda individual: fitness(individual))\n",
    "\n",
    "while best_fitness > 0 and generation < 5000:\n",
    "\n",
    "    best_fitness = fitness(population[0])\n",
    "    print(\"Best fitness at generation %d: %.10f\" % (generation, best_fitness))\n",
    "    generation += 1\n",
    "\n",
    "    new_population = []\n",
    "    while len(new_population) < len(population):\n",
    "        # selection\n",
    "        offspring1 = selection(population, 5)\n",
    "        offspring2 = selection(population, 5)\n",
    "\n",
    "        # crossover\n",
    "        if random.random() < 0.7:\n",
    "            (offspring1, offspring2) = crossover(offspring1, offspring2)\n",
    "\n",
    "        # mutation\n",
    "        if random.random() < 0.1:\n",
    "            offspring1 = mutate(offspring1)\n",
    "\n",
    "        if random.random() < 0.1:\n",
    "            offspring2 = mutate(offspring2)\n",
    "\n",
    "        new_population.append(offspring1)\n",
    "        new_population.append(offspring2)\n",
    "\n",
    "    # Once full, the new population replaces the old one\n",
    "    population = new_population\n",
    "\n",
    "    # Sort population by fitness\n",
    "    population.sort(key=lambda individual: fitness(individual))\n",
    "\n",
    "print(\"Best individual: %s, fitness %.10f\" % (population[0], fitness(population[0])))"
   ]
  },
  {
   "cell_type": "markdown",
   "metadata": {},
   "source": []
  },
  {
   "cell_type": "markdown",
   "metadata": {
    "button": false,
    "new_sheet": true,
    "run_control": {
     "read_only": false
    }
   },
   "source": [
    "## Lessons Learned\n",
    "\n",
    "* _Lesson one_\n",
    "* _Lesson two_\n",
    "* _Lesson three_"
   ]
  },
  {
   "cell_type": "markdown",
   "metadata": {
    "button": false,
    "new_sheet": false,
    "run_control": {
     "read_only": false
    }
   },
   "source": [
    "## Next Steps\n",
    "\n",
    "_Link to subsequent chapters (notebooks) here, as in:_\n",
    "\n",
    "* [use _mutations_ on existing inputs to get more valid inputs](MutationFuzzer.ipynb)\n",
    "* [use _grammars_ (i.e., a specification of the input format) to get even more valid inputs](Grammars.ipynb)\n",
    "* [reduce _failing inputs_ for efficient debugging](Reducer.ipynb)\n"
   ]
  },
  {
   "cell_type": "markdown",
   "metadata": {},
   "source": [
    "## Background\n",
    "\n",
    "_Cite relevant works in the literature and put them into context, as in:_\n",
    "\n",
    "The idea of ensuring that each expansion in the grammar is used at least once goes back to Burkhardt \\cite{Burkhardt1967}, to be later rediscovered by Paul Purdom \\cite{Purdom1972}."
   ]
  },
  {
   "cell_type": "markdown",
   "metadata": {
    "button": false,
    "new_sheet": true,
    "run_control": {
     "read_only": false
    }
   },
   "source": [
    "## Exercises\n",
    "\n",
    "_Close the chapter with a few exercises such that people have things to do.  To make the solutions hidden (to be revealed by the user), have them start with_\n",
    "\n",
    "```markdown\n",
    "**Solution.**\n",
    "```\n",
    "\n",
    "_Your solution can then extend up to the next title (i.e., any markdown cell starting with `#`)._\n",
    "\n",
    "_Running `make metadata` will automatically add metadata to the cells such that the cells will be hidden by default, and can be uncovered by the user.  The button will be introduced above the solution._"
   ]
  },
  {
   "cell_type": "markdown",
   "metadata": {
    "button": false,
    "new_sheet": false,
    "run_control": {
     "read_only": false
    }
   },
   "source": [
    "### Exercise 1: _Title_\n",
    "\n",
    "_Text of the exercise_"
   ]
  },
  {
   "cell_type": "code",
   "execution_count": null,
   "metadata": {
    "cell_style": "center"
   },
   "outputs": [],
   "source": [
    "# Some code that is part of the exercise\n",
    "pass"
   ]
  },
  {
   "cell_type": "markdown",
   "metadata": {
    "solution2": "hidden",
    "solution2_first": true
   },
   "source": [
    "_Some more text for the exercise_"
   ]
  },
  {
   "cell_type": "markdown",
   "metadata": {
    "slideshow": {
     "slide_type": "skip"
    },
    "solution2": "hidden"
   },
   "source": [
    "**Solution.** _Some text for the solution_"
   ]
  },
  {
   "cell_type": "code",
   "execution_count": null,
   "metadata": {
    "cell_style": "split",
    "slideshow": {
     "slide_type": "skip"
    },
    "solution2": "hidden"
   },
   "outputs": [],
   "source": [
    "# Some code for the solution\n",
    "2 + 2"
   ]
  },
  {
   "cell_type": "markdown",
   "metadata": {
    "slideshow": {
     "slide_type": "skip"
    },
    "solution2": "hidden"
   },
   "source": [
    "_Some more text for the solution_"
   ]
  },
  {
   "cell_type": "markdown",
   "metadata": {
    "button": false,
    "new_sheet": false,
    "run_control": {
     "read_only": false
    },
    "solution": "hidden",
    "solution2": "hidden",
    "solution2_first": true,
    "solution_first": true
   },
   "source": [
    "### Exercise 2: _Title_\n",
    "\n",
    "_Text of the exercise_"
   ]
  },
  {
   "cell_type": "markdown",
   "metadata": {
    "button": false,
    "new_sheet": false,
    "run_control": {
     "read_only": false
    },
    "slideshow": {
     "slide_type": "skip"
    },
    "solution": "hidden",
    "solution2": "hidden"
   },
   "source": [
    "**Solution.** _Solution for the exercise_"
   ]
  }
 ],
 "metadata": {
  "ipub": {
   "bibliography": "fuzzingbook.bib",
   "toc": true
  },
  "kernelspec": {
   "display_name": "Python 3",
   "language": "python",
   "name": "python3"
  },
  "language_info": {
   "codemirror_mode": {
    "name": "ipython",
    "version": 3
   },
   "file_extension": ".py",
   "mimetype": "text/x-python",
   "name": "python",
   "nbconvert_exporter": "python",
   "pygments_lexer": "ipython3",
   "version": "3.6.7"
  },
  "toc": {
   "base_numbering": 1,
   "nav_menu": {},
   "number_sections": true,
   "sideBar": true,
   "skip_h1_title": true,
   "title_cell": "",
   "title_sidebar": "Contents",
   "toc_cell": false,
   "toc_position": {},
   "toc_section_display": true,
   "toc_window_display": true
  },
  "varInspector": {
   "cols": {
    "lenName": 16,
    "lenType": 16,
    "lenVar": 40
   },
   "kernels_config": {
    "python": {
     "delete_cmd_postfix": "",
     "delete_cmd_prefix": "del ",
     "library": "var_list.py",
     "varRefreshCmd": "print(var_dic_list())"
    },
    "r": {
     "delete_cmd_postfix": ") ",
     "delete_cmd_prefix": "rm(",
     "library": "var_list.r",
     "varRefreshCmd": "cat(var_dic_list()) "
    }
   },
   "types_to_exclude": [
    "module",
    "function",
    "builtin_function_or_method",
    "instance",
    "_Feature"
   ],
   "window_display": false
  }
 },
 "nbformat": 4,
 "nbformat_minor": 2
}
