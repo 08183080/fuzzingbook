{
 "cells": [
  {
   "cell_type": "markdown",
   "metadata": {
    "button": false,
    "new_sheet": false,
    "run_control": {
     "read_only": false
    }
   },
   "source": [
    "# Search-based Fuzzing\n",
    "\n",
    "Sometimes we are not only interested in fuzzing as many as possible diverse program inputs, but in deriving *specific* test inputs that achieve some objective, such as reaching specific statements in a program. When we have an idea of what we are looking for, then we can *search* for it. Search algorithms are at the core of computer science, but applying classic search algorithms like breadth or depth first search to search for tests is unrealistic, because these algorithms potentially require us to look at all possible inputs. However, domain-knowledge can be used to overcome this problem. For example, if we can estimate which of several program inputs is closer to the one we are looking for, then this information can guide us to reach the target quicker -- this information is known as a *heuristic*. The way heuristics are applied systematically is captured in *meta-heuristic* search algorithms. The \"meta\" denotes that these algorithm are generic and can be instantiated differently to different problems. Meta-heuristics often take inspiration from processes observed in nature. For example, there are algorithms mimicking evolutionary processes, swarm intelligence, or chemical reactions. In general they are much more efficient than exhaustive search approaches such that they can be applied to vast search spaces --- search spaces as vast as the domain of program inputs are no problem for them."
   ]
  },
  {
   "cell_type": "markdown",
   "metadata": {
    "button": false,
    "new_sheet": false,
    "run_control": {
     "read_only": false
    }
   },
   "source": [
    "**Prerequisites**\n",
    "\n",
    "* You should know how code coverage works, e.g. from the [chapter on coverage](Coverage.ipynb)."
   ]
  },
  {
   "cell_type": "markdown",
   "metadata": {
    "button": false,
    "new_sheet": true,
    "run_control": {
     "read_only": false
    }
   },
   "source": [
    "## Test Generation as a Search Problem\n",
    "\n",
    "If we want to apply a meta-heuristic search algorithm to generate test data for a program, then we have to make several choices: First, we need to decide on what exactly our *search space* is in the first place. The search space is defined by how we *represent* what we are looking for. Are we looking for single integer values? Tuples of values? Objects? XML documents? "
   ]
  },
  {
   "cell_type": "markdown",
   "metadata": {},
   "source": [
    "### Representing program inputs as a search problem\n",
    "\n",
    "The representation is highly dependent on the particular testing problem we are solving --- we know which program we are testing, so the representation needs to encode whatever an input to our target program is. Let's consider the example function `test_me` as our function under test: "
   ]
  },
  {
   "cell_type": "code",
   "execution_count": 1,
   "metadata": {},
   "outputs": [],
   "source": [
    "def test_me(x, y):\n",
    "    if x == 2 * (y + 1):\n",
    "        return True \n",
    "    else:\n",
    "        return False"
   ]
  },
  {
   "cell_type": "markdown",
   "metadata": {},
   "source": [
    "The `test_me` function has two input parameters, and returns `True` or `False` depending on how the two relate to each other. A test input to `test_me` consists of a pair of values, one for `x` and one for `y`. For example:"
   ]
  },
  {
   "cell_type": "code",
   "execution_count": 2,
   "metadata": {},
   "outputs": [
    {
     "name": "stdout",
     "output_type": "stream",
     "text": [
      "False\n",
      "False\n",
      "True\n"
     ]
    }
   ],
   "source": [
    "print(test_me(0, 0))\n",
    "print(test_me(4, 2))\n",
    "print(test_me(22, 10))"
   ]
  },
  {
   "cell_type": "markdown",
   "metadata": {},
   "source": [
    "Our search space is only concerned with inputs, thus a simple representation for test data would be input tuples `(x, y)`. Each point in this input space has eight *neighbours*:\n",
    "\n",
    "- `x-1, y-1`\n",
    "- `x-1, y`\n",
    "- `x-1, y+1`\n",
    "- `x, y+1`\n",
    "- `x+1, y+1`\n",
    "- `x+1, y`\n",
    "- `x, y-1`\n",
    "\n",
    "To keep things simple, let's restrict the size of our search space to start with (we will change this later). For example, let's assume we only want values in the range of -1000 to 1000:"
   ]
  },
  {
   "cell_type": "code",
   "execution_count": 101,
   "metadata": {},
   "outputs": [],
   "source": [
    "MAX=1000\n",
    "MIN=-MAX"
   ]
  },
  {
   "cell_type": "markdown",
   "metadata": {},
   "source": [
    "To retrieve the neighbours for any point in our search space, we define the function `neighbours`, which implements a basic Moore neighbourhood. That is, we look at all 8 immediate neighbours, while considering the boundaries we just defined with `MAX` and `MIN`:"
   ]
  },
  {
   "cell_type": "code",
   "execution_count": 102,
   "metadata": {},
   "outputs": [],
   "source": [
    "def neighbours(x, y):\n",
    "    return [(x+dx, y+dy) for dx in [-1,0,1] \\\n",
    "                         for dy in [-1,0,1] \\\n",
    "                         if (dx != 0 or dy != 0)\\\n",
    "                            and ((MIN <= x+dx <= MAX) \\\n",
    "                            and (MIN <= y+dy <= MAX))]"
   ]
  },
  {
   "cell_type": "code",
   "execution_count": 104,
   "metadata": {},
   "outputs": [
    {
     "name": "stdout",
     "output_type": "stream",
     "text": [
      "[(9, 9), (9, 10), (9, 11), (10, 9), (10, 11), (11, 9), (11, 10), (11, 11)]\n"
     ]
    }
   ],
   "source": [
    "print(neighbours(10, 10))"
   ]
  },
  {
   "cell_type": "markdown",
   "metadata": {},
   "source": [
    "This fully defines our search space: We have a representation, and we know how individuals are related to each other through their neighbourhood. Now we just need to find an algorithm to explore this neighbourhood, and a heuristic that guides the algorithm."
   ]
  },
  {
   "cell_type": "markdown",
   "metadata": {},
   "source": [
    "### Defining a search landscape: Fitness functions\n",
    "\n",
    "All meta-heuristics are based on the use of a heuristic function that estimates how good a given candidate solution is; this \"goodness\" is typically called the *fitness* of an individual, and the heuristic that estimates the fitness is the *fitness function*. The fitness function is a function that maps any point in the search space to a numerical value, the fitness value. The better a candidate solution in the search space with respect to being an optimal solution, the better its fitness value. Thus, if you plot each point in the search space with its fitness value as the height, you get a landscape with the optimal solution represented as the highest peak."
   ]
  },
  {
   "cell_type": "markdown",
   "metadata": {},
   "source": [
    "The fitness function depends on the objective one would like to achieve with generating the test data. Suppose that we are interested in covering the true branch of the if-condition in the `test_me` function, i.e. `x == 2 * (y + 1)`.\n",
    "\n",
    "How close is a given input tuple for this function from reaching the target branch? Let's consider an arbitrary point in the search space, e.g. `(274, 153)`. The if-condition compares the following values:"
   ]
  },
  {
   "cell_type": "code",
   "execution_count": 6,
   "metadata": {},
   "outputs": [
    {
     "name": "stdout",
     "output_type": "stream",
     "text": [
      "274\n",
      "308\n"
     ]
    }
   ],
   "source": [
    "x = 274\n",
    "y = 153\n",
    "print(x)\n",
    "print(2 * (y + 1))"
   ]
  },
  {
   "cell_type": "markdown",
   "metadata": {},
   "source": [
    "In order to make the branch true, both values need to be the same. Thus, the more they differ, the further we are away from making the comparison true, and the less they differ, the closer we are from making the comparison true. Thus, we can quantify \"how false\" the comparison is by calculating the difference between `x` and `2 * (y + 1)`. Thus, we can calculate this distance as `abs(x - 2 * (y + 1))`:"
   ]
  },
  {
   "cell_type": "code",
   "execution_count": 7,
   "metadata": {},
   "outputs": [
    {
     "name": "stdout",
     "output_type": "stream",
     "text": [
      "34\n"
     ]
    }
   ],
   "source": [
    "def calculate_distance(x, y):\n",
    "    return abs(x - 2 * (y + 1))\n",
    "\n",
    "print(calculate_distance(274, 153))"
   ]
  },
  {
   "cell_type": "markdown",
   "metadata": {},
   "source": [
    "We can use this distance value as out fitness function, since we can nicely measure how close we are to an optimal solution. Note, however, that \"better\" doesn't mean \"bigger\" in this case; the smaller the distance the better. This is not a problem, since any algorithm that can maximize a value can also be made to minimize it instead.\n",
    "\n",
    "For each value in the search space of integer tuples, this distance value defines the elevation in our search landscape. Since our example search space is two-dimensional, the search landscape is three-dimensional and we can plot it to see what it looks like:"
   ]
  },
  {
   "cell_type": "code",
   "execution_count": 8,
   "metadata": {},
   "outputs": [
    {
     "data": {
      "text/plain": [
       "<mpl_toolkits.mplot3d.art3d.Poly3DCollection at 0x7ffa2a1de4a8>"
      ]
     },
     "execution_count": 8,
     "metadata": {},
     "output_type": "execute_result"
    },
    {
     "data": {
      "image/png": "[encoded data removed]",
      "text/plain": [
       "<Figure size 432x288 with 1 Axes>"
      ]
     },
     "metadata": {
      "needs_background": "light"
     },
     "output_type": "display_data"
    }
   ],
   "source": [
    "%matplotlib inline \n",
    "\n",
    "from mpl_toolkits.mplot3d import Axes3D\n",
    "import matplotlib.pyplot as plt\n",
    "\n",
    "x = np.outer(np.linspace(-10, 10, 30), np.ones(30))\n",
    "y = x.copy().T\n",
    "z = calculate_distance(x, y)\n",
    "\n",
    "fig = plt.figure()\n",
    "ax = plt.axes(projection='3d')\n",
    "\n",
    "ax.plot_surface(x, y, z, cmap=plt.cm.jet, rstride=1, cstride=1, linewidth=0)\n"
   ]
  },
  {
   "cell_type": "markdown",
   "metadata": {},
   "source": [
    "The optimal values, i.e. those that make the if-condition true, have fitness value 0 and can be clearly seen at the bottom of the plot. The further away from the optimal values, the higher elevated the points in the search space."
   ]
  },
  {
   "cell_type": "markdown",
   "metadata": {},
   "source": [
    "### Instrumentation\n",
    "\n",
    "The fitness function should calculate the distance value for concrete test executions. That is, we want to run the program, and then learn the distance value of this execution. However, the branching condition is hidden within the source code of the target function, and its value may in principle be the result of various calculations along the execution path reaching it. Even though in our example the condition is an equation using the input values of the function directly, this may not be the case in general; it might as well be derived values. Thus, the values we need to calculate our distance metric need to be observed directly at the conditional statement.\n",
    "\n",
    "This is typically done with *instrumentation*: We add new code immediately before or after the branching condition to keep track of the values observed and calculate the distance using these values. The following is an instrumented version of our program under test, which prints out the distance values as it is executed:"
   ]
  },
  {
   "cell_type": "code",
   "execution_count": 9,
   "metadata": {},
   "outputs": [],
   "source": [
    "def test_me_instrumented(x, y):\n",
    "    \n",
    "    print(\"Instrumentation: Input = (%d, %d), distance = %d\" % (x, y, calculate_distance(x,y)))\n",
    "    if x == 2*(y+1):\n",
    "        return True \n",
    "    else:\n",
    "        return False"
   ]
  },
  {
   "cell_type": "markdown",
   "metadata": {},
   "source": [
    "Let's try this out for a couple of example values:"
   ]
  },
  {
   "cell_type": "code",
   "execution_count": 10,
   "metadata": {},
   "outputs": [
    {
     "name": "stdout",
     "output_type": "stream",
     "text": [
      "Instrumentation: Input = (0, 0), distance = 2\n",
      "Instrumentation: Input = (5, 2), distance = 1\n",
      "Instrumentation: Input = (22, 10), distance = 0\n"
     ]
    },
    {
     "data": {
      "text/plain": [
       "True"
      ]
     },
     "execution_count": 10,
     "metadata": {},
     "output_type": "execute_result"
    }
   ],
   "source": [
    "test_me_instrumented(0, 0)\n",
    "test_me_instrumented(5, 2)\n",
    "test_me_instrumented(22, 10)"
   ]
  },
  {
   "cell_type": "markdown",
   "metadata": {},
   "source": [
    "When calculating a fitness value, we will execute the instrumented program version, but we need some means to access the distance value calculated during that execution. As a simple first solution to this problem, we can just add a global variable and store the value of the distance calculation there. "
   ]
  },
  {
   "cell_type": "code",
   "execution_count": 11,
   "metadata": {},
   "outputs": [],
   "source": [
    "distance = 0\n",
    "def test_me_instrumented(x, y):\n",
    "    global distance\n",
    "    distance = calculate_distance(x, y)\n",
    "    if x == 2*(y+1):\n",
    "        return True \n",
    "    else:\n",
    "        return False"
   ]
  },
  {
   "cell_type": "markdown",
   "metadata": {},
   "source": [
    "Using this instrumented version of `test_me`, we can now finally define our fitness function, which simply runs the instrumented `test_me_instrumented` function, and then retrieves the value of the global `distance` variable:"
   ]
  },
  {
   "cell_type": "code",
   "execution_count": 106,
   "metadata": {},
   "outputs": [],
   "source": [
    "def get_fitness(x, y):\n",
    "    global distance\n",
    "    test_me_instrumented(x, y)\n",
    "    fitness = distance\n",
    "    return fitness"
   ]
  },
  {
   "cell_type": "markdown",
   "metadata": {},
   "source": [
    "Let's try this on some example inputs:"
   ]
  },
  {
   "cell_type": "code",
   "execution_count": 107,
   "metadata": {},
   "outputs": [
    {
     "name": "stdout",
     "output_type": "stream",
     "text": [
      "Fitness of (0, 0)  = 2\n",
      "Fitness of (1, 2)  = 5\n",
      "Fitness of (22,10) = 0\n"
     ]
    }
   ],
   "source": [
    "print(\"Fitness of (0, 0)  = %d\" % get_fitness(0, 0))\n",
    "print(\"Fitness of (1, 2)  = %d\" % get_fitness(1, 2))\n",
    "print(\"Fitness of (22,10) = %d\" % get_fitness(22,10))"
   ]
  },
  {
   "cell_type": "markdown",
   "metadata": {},
   "source": [
    "### Hillclimbing the example\n",
    "\n",
    "Having decided on a representation (2-tuples of integers) and a fitness function (distance to target branch), we can now finally go ahead and implement our search algorithm. Let's explore this search space using the simplest possible meta-heuristic algorithm: Hillclimbing. The metaphor captures aptly what is happening: The algorithm tries to climb a hill in the search space defined by our representation. Except, that in our search landscape the best values are not those high up but down low, so technically we are are descending into valleys.\n",
    "\n",
    "The hillclimbing algorithm itself is very simple: \n",
    "1. Take a random starting point\n",
    "2. Determine fitness value of all neighbours\n",
    "3. Move to neighbour with the best fitness value\n",
    "4. If solution is not found, continue with step 2"
   ]
  },
  {
   "cell_type": "markdown",
   "metadata": {},
   "source": [
    "The hillclimber starts with a random test input, i.e., random values for `x` and `y`. For any pair of random integer numbers, the chances of them satisfying the condition `x == 2 * (y + 1)` are rather slim. Suppose the random values are `(274, 153)`. The right hand side of the equation, `2 * (y + 1)`, evaluates to 308, so the condition is clearly false. Where should the hillclimber go to now? Let's look at the fitness values of this test input and its neighbours:"
   ]
  },
  {
   "cell_type": "code",
   "execution_count": 108,
   "metadata": {},
   "outputs": [
    {
     "name": "stdout",
     "output_type": "stream",
     "text": [
      "Origin 274, 153 has fitness 34\n",
      "Neighbour 273, 152 has fitness 33\n",
      "Neighbour 273, 153 has fitness 35\n",
      "Neighbour 273, 154 has fitness 37\n",
      "Neighbour 274, 152 has fitness 32\n",
      "Neighbour 274, 154 has fitness 36\n",
      "Neighbour 275, 152 has fitness 31\n",
      "Neighbour 275, 153 has fitness 33\n",
      "Neighbour 275, 154 has fitness 35\n"
     ]
    }
   ],
   "source": [
    "x, y = 274, 153\n",
    "print(\"Origin %d, %d has fitness %d\" % (x, y, get_fitness(x, y)))\n",
    "for nx, ny in neighbours(x, y):\n",
    "    print(\"Neighbour %d, %d has fitness %d\" % (nx, ny, get_fitness(nx, ny)))"
   ]
  },
  {
   "cell_type": "markdown",
   "metadata": {},
   "source": [
    "Increasing `y` by one increases the value of the right hand side of the equation to `310`. Thus, the value on the left hand side of the equation thus differs *even more* to the value on the right hand side of the equation than it did before the increase! So, increasing `y` does not seem like a good idea. On the other hand, increasing `x` by one improves things: The left hand side and the right hand side of the equation become more similar; they are \"less unequal\". Thus, out of the eight possible neighbors of `(274, 153)`, the neighbor that increases `x` and decreases `y` (`(275, 152)`) seems best intuitively --- the outcome of the condition is still false, but it is \"less so\" than for the original value."
   ]
  },
  {
   "cell_type": "markdown",
   "metadata": {},
   "source": [
    "Let's now implement the hillcimbing algorithm. "
   ]
  },
  {
   "cell_type": "code",
   "execution_count": 110,
   "metadata": {},
   "outputs": [
    {
     "name": "stdout",
     "output_type": "stream",
     "text": [
      "Initial value: 548, 541 at fitness 536.0000\n",
      "New value: 547, 540 at fitness 535.0000\n",
      "New value: 546, 539 at fitness 534.0000\n",
      "New value: 545, 538 at fitness 533.0000\n",
      "New value: 544, 537 at fitness 532.0000\n",
      "New value: 543, 536 at fitness 531.0000\n",
      "New value: 542, 535 at fitness 530.0000\n",
      "New value: 541, 534 at fitness 529.0000\n",
      "New value: 540, 533 at fitness 528.0000\n",
      "New value: 539, 532 at fitness 527.0000\n",
      "New value: 538, 531 at fitness 526.0000\n",
      "New value: 537, 530 at fitness 525.0000\n",
      "New value: 536, 529 at fitness 524.0000\n",
      "New value: 535, 528 at fitness 523.0000\n",
      "New value: 534, 527 at fitness 522.0000\n",
      "New value: 533, 526 at fitness 521.0000\n",
      "New value: 532, 525 at fitness 520.0000\n",
      "New value: 531, 524 at fitness 519.0000\n",
      "New value: 530, 523 at fitness 518.0000\n",
      "New value: 529, 522 at fitness 517.0000\n",
      "New value: 528, 521 at fitness 516.0000\n",
      "New value: 527, 520 at fitness 515.0000\n",
      "New value: 526, 519 at fitness 514.0000\n",
      "New value: 525, 518 at fitness 513.0000\n",
      "New value: 524, 517 at fitness 512.0000\n",
      "New value: 523, 516 at fitness 511.0000\n",
      "New value: 522, 515 at fitness 510.0000\n",
      "New value: 521, 514 at fitness 509.0000\n",
      "New value: 520, 513 at fitness 508.0000\n",
      "New value: 519, 512 at fitness 507.0000\n",
      "New value: 518, 511 at fitness 506.0000\n",
      "New value: 517, 510 at fitness 505.0000\n",
      "New value: 516, 509 at fitness 504.0000\n",
      "New value: 515, 508 at fitness 503.0000\n",
      "New value: 514, 507 at fitness 502.0000\n",
      "New value: 513, 506 at fitness 501.0000\n",
      "New value: 512, 505 at fitness 500.0000\n",
      "New value: 511, 504 at fitness 499.0000\n",
      "New value: 510, 503 at fitness 498.0000\n",
      "New value: 509, 502 at fitness 497.0000\n",
      "New value: 508, 501 at fitness 496.0000\n",
      "New value: 507, 500 at fitness 495.0000\n",
      "New value: 506, 499 at fitness 494.0000\n",
      "New value: 505, 498 at fitness 493.0000\n",
      "New value: 504, 497 at fitness 492.0000\n",
      "New value: 503, 496 at fitness 491.0000\n",
      "New value: 502, 495 at fitness 490.0000\n",
      "New value: 501, 494 at fitness 489.0000\n",
      "New value: 500, 493 at fitness 488.0000\n",
      "New value: 499, 492 at fitness 487.0000\n",
      "New value: 498, 491 at fitness 486.0000\n",
      "New value: 497, 490 at fitness 485.0000\n",
      "New value: 496, 489 at fitness 484.0000\n",
      "New value: 495, 488 at fitness 483.0000\n",
      "New value: 494, 487 at fitness 482.0000\n",
      "New value: 493, 486 at fitness 481.0000\n",
      "New value: 492, 485 at fitness 480.0000\n",
      "New value: 491, 484 at fitness 479.0000\n",
      "New value: 490, 483 at fitness 478.0000\n",
      "New value: 489, 482 at fitness 477.0000\n",
      "New value: 488, 481 at fitness 476.0000\n",
      "New value: 487, 480 at fitness 475.0000\n",
      "New value: 486, 479 at fitness 474.0000\n",
      "New value: 485, 478 at fitness 473.0000\n",
      "New value: 484, 477 at fitness 472.0000\n",
      "New value: 483, 476 at fitness 471.0000\n",
      "New value: 482, 475 at fitness 470.0000\n",
      "New value: 481, 474 at fitness 469.0000\n",
      "New value: 480, 473 at fitness 468.0000\n",
      "New value: 479, 472 at fitness 467.0000\n",
      "New value: 478, 471 at fitness 466.0000\n",
      "New value: 477, 470 at fitness 465.0000\n",
      "New value: 476, 469 at fitness 464.0000\n",
      "New value: 475, 468 at fitness 463.0000\n",
      "New value: 474, 467 at fitness 462.0000\n",
      "New value: 473, 466 at fitness 461.0000\n",
      "New value: 472, 465 at fitness 460.0000\n",
      "New value: 471, 464 at fitness 459.0000\n",
      "New value: 470, 463 at fitness 458.0000\n",
      "New value: 469, 462 at fitness 457.0000\n",
      "New value: 468, 461 at fitness 456.0000\n",
      "New value: 467, 460 at fitness 455.0000\n",
      "New value: 466, 459 at fitness 454.0000\n",
      "New value: 465, 458 at fitness 453.0000\n",
      "New value: 464, 457 at fitness 452.0000\n",
      "New value: 463, 456 at fitness 451.0000\n",
      "New value: 462, 455 at fitness 450.0000\n",
      "New value: 461, 454 at fitness 449.0000\n",
      "New value: 460, 453 at fitness 448.0000\n",
      "New value: 459, 452 at fitness 447.0000\n",
      "New value: 458, 451 at fitness 446.0000\n",
      "New value: 457, 450 at fitness 445.0000\n",
      "New value: 456, 449 at fitness 444.0000\n",
      "New value: 455, 448 at fitness 443.0000\n",
      "New value: 454, 447 at fitness 442.0000\n",
      "New value: 453, 446 at fitness 441.0000\n",
      "New value: 452, 445 at fitness 440.0000\n",
      "New value: 451, 444 at fitness 439.0000\n",
      "New value: 450, 443 at fitness 438.0000\n",
      "New value: 449, 442 at fitness 437.0000\n",
      "New value: 448, 441 at fitness 436.0000\n",
      "New value: 447, 440 at fitness 435.0000\n",
      "New value: 446, 439 at fitness 434.0000\n",
      "New value: 445, 438 at fitness 433.0000\n",
      "New value: 444, 437 at fitness 432.0000\n",
      "New value: 443, 436 at fitness 431.0000\n",
      "New value: 442, 435 at fitness 430.0000\n",
      "New value: 441, 434 at fitness 429.0000\n",
      "New value: 440, 433 at fitness 428.0000\n",
      "New value: 439, 432 at fitness 427.0000\n",
      "New value: 438, 431 at fitness 426.0000\n",
      "New value: 437, 430 at fitness 425.0000\n",
      "New value: 436, 429 at fitness 424.0000\n",
      "New value: 435, 428 at fitness 423.0000\n",
      "New value: 434, 427 at fitness 422.0000\n",
      "New value: 433, 426 at fitness 421.0000\n",
      "New value: 432, 425 at fitness 420.0000\n",
      "New value: 431, 424 at fitness 419.0000\n",
      "New value: 430, 423 at fitness 418.0000\n",
      "New value: 429, 422 at fitness 417.0000\n",
      "New value: 428, 421 at fitness 416.0000\n",
      "New value: 427, 420 at fitness 415.0000\n",
      "New value: 426, 419 at fitness 414.0000\n",
      "New value: 425, 418 at fitness 413.0000\n",
      "New value: 424, 417 at fitness 412.0000\n",
      "New value: 423, 416 at fitness 411.0000\n",
      "New value: 422, 415 at fitness 410.0000\n",
      "New value: 421, 414 at fitness 409.0000\n",
      "New value: 420, 413 at fitness 408.0000\n",
      "New value: 419, 412 at fitness 407.0000\n",
      "New value: 418, 411 at fitness 406.0000\n",
      "New value: 417, 410 at fitness 405.0000\n",
      "New value: 416, 409 at fitness 404.0000\n",
      "New value: 415, 408 at fitness 403.0000\n",
      "New value: 414, 407 at fitness 402.0000\n",
      "New value: 413, 406 at fitness 401.0000\n",
      "New value: 412, 405 at fitness 400.0000\n",
      "New value: 411, 404 at fitness 399.0000\n",
      "New value: 410, 403 at fitness 398.0000\n",
      "New value: 409, 402 at fitness 397.0000\n",
      "New value: 408, 401 at fitness 396.0000\n",
      "New value: 407, 400 at fitness 395.0000\n",
      "New value: 406, 399 at fitness 394.0000\n",
      "New value: 405, 398 at fitness 393.0000\n",
      "New value: 404, 397 at fitness 392.0000\n",
      "New value: 403, 396 at fitness 391.0000\n",
      "New value: 402, 395 at fitness 390.0000\n",
      "New value: 401, 394 at fitness 389.0000\n",
      "New value: 400, 393 at fitness 388.0000\n",
      "New value: 399, 392 at fitness 387.0000\n",
      "New value: 398, 391 at fitness 386.0000\n",
      "New value: 397, 390 at fitness 385.0000\n",
      "New value: 396, 389 at fitness 384.0000\n",
      "New value: 395, 388 at fitness 383.0000\n",
      "New value: 394, 387 at fitness 382.0000\n",
      "New value: 393, 386 at fitness 381.0000\n",
      "New value: 392, 385 at fitness 380.0000\n",
      "New value: 391, 384 at fitness 379.0000\n",
      "New value: 390, 383 at fitness 378.0000\n",
      "New value: 389, 382 at fitness 377.0000\n",
      "New value: 388, 381 at fitness 376.0000\n",
      "New value: 387, 380 at fitness 375.0000\n",
      "New value: 386, 379 at fitness 374.0000\n",
      "New value: 385, 378 at fitness 373.0000\n",
      "New value: 384, 377 at fitness 372.0000\n",
      "New value: 383, 376 at fitness 371.0000\n",
      "New value: 382, 375 at fitness 370.0000\n",
      "New value: 381, 374 at fitness 369.0000\n",
      "New value: 380, 373 at fitness 368.0000\n",
      "New value: 379, 372 at fitness 367.0000\n",
      "New value: 378, 371 at fitness 366.0000\n",
      "New value: 377, 370 at fitness 365.0000\n",
      "New value: 376, 369 at fitness 364.0000\n",
      "New value: 375, 368 at fitness 363.0000\n",
      "New value: 374, 367 at fitness 362.0000\n",
      "New value: 373, 366 at fitness 361.0000\n",
      "New value: 372, 365 at fitness 360.0000\n",
      "New value: 371, 364 at fitness 359.0000\n",
      "New value: 370, 363 at fitness 358.0000\n",
      "New value: 369, 362 at fitness 357.0000\n",
      "New value: 368, 361 at fitness 356.0000\n",
      "New value: 367, 360 at fitness 355.0000\n",
      "New value: 366, 359 at fitness 354.0000\n",
      "New value: 365, 358 at fitness 353.0000\n",
      "New value: 364, 357 at fitness 352.0000\n",
      "New value: 363, 356 at fitness 351.0000\n",
      "New value: 362, 355 at fitness 350.0000\n",
      "New value: 361, 354 at fitness 349.0000\n",
      "New value: 360, 353 at fitness 348.0000\n",
      "New value: 359, 352 at fitness 347.0000\n",
      "New value: 358, 351 at fitness 346.0000\n",
      "New value: 357, 350 at fitness 345.0000\n",
      "New value: 356, 349 at fitness 344.0000\n",
      "New value: 355, 348 at fitness 343.0000\n",
      "New value: 354, 347 at fitness 342.0000\n",
      "New value: 353, 346 at fitness 341.0000\n",
      "New value: 352, 345 at fitness 340.0000\n",
      "New value: 351, 344 at fitness 339.0000\n",
      "New value: 350, 343 at fitness 338.0000\n",
      "New value: 349, 342 at fitness 337.0000\n",
      "New value: 348, 341 at fitness 336.0000\n",
      "New value: 347, 340 at fitness 335.0000\n",
      "New value: 346, 339 at fitness 334.0000\n",
      "New value: 345, 338 at fitness 333.0000\n",
      "New value: 344, 337 at fitness 332.0000\n",
      "New value: 343, 336 at fitness 331.0000\n",
      "New value: 342, 335 at fitness 330.0000\n",
      "New value: 341, 334 at fitness 329.0000\n",
      "New value: 340, 333 at fitness 328.0000\n",
      "New value: 339, 332 at fitness 327.0000\n",
      "New value: 338, 331 at fitness 326.0000\n",
      "New value: 337, 330 at fitness 325.0000\n",
      "New value: 336, 329 at fitness 324.0000\n",
      "New value: 335, 328 at fitness 323.0000\n",
      "New value: 334, 327 at fitness 322.0000\n",
      "New value: 333, 326 at fitness 321.0000\n",
      "New value: 332, 325 at fitness 320.0000\n",
      "New value: 331, 324 at fitness 319.0000\n",
      "New value: 330, 323 at fitness 318.0000\n",
      "New value: 329, 322 at fitness 317.0000\n",
      "New value: 328, 321 at fitness 316.0000\n",
      "New value: 327, 320 at fitness 315.0000\n",
      "New value: 326, 319 at fitness 314.0000\n",
      "New value: 325, 318 at fitness 313.0000\n",
      "New value: 324, 317 at fitness 312.0000\n",
      "New value: 323, 316 at fitness 311.0000\n",
      "New value: 322, 315 at fitness 310.0000\n",
      "New value: 321, 314 at fitness 309.0000\n",
      "New value: 320, 313 at fitness 308.0000\n",
      "New value: 319, 312 at fitness 307.0000\n",
      "New value: 318, 311 at fitness 306.0000\n",
      "New value: 317, 310 at fitness 305.0000\n",
      "New value: 316, 309 at fitness 304.0000\n",
      "New value: 315, 308 at fitness 303.0000\n",
      "New value: 314, 307 at fitness 302.0000\n",
      "New value: 313, 306 at fitness 301.0000\n",
      "New value: 312, 305 at fitness 300.0000\n",
      "New value: 311, 304 at fitness 299.0000\n",
      "New value: 310, 303 at fitness 298.0000\n",
      "New value: 309, 302 at fitness 297.0000\n",
      "New value: 308, 301 at fitness 296.0000\n",
      "New value: 307, 300 at fitness 295.0000\n",
      "New value: 306, 299 at fitness 294.0000\n",
      "New value: 305, 298 at fitness 293.0000\n",
      "New value: 304, 297 at fitness 292.0000\n",
      "New value: 303, 296 at fitness 291.0000\n",
      "New value: 302, 295 at fitness 290.0000\n",
      "New value: 301, 294 at fitness 289.0000\n",
      "New value: 300, 293 at fitness 288.0000\n",
      "New value: 299, 292 at fitness 287.0000\n",
      "New value: 298, 291 at fitness 286.0000\n",
      "New value: 297, 290 at fitness 285.0000\n",
      "New value: 296, 289 at fitness 284.0000\n",
      "New value: 295, 288 at fitness 283.0000\n",
      "New value: 294, 287 at fitness 282.0000\n",
      "New value: 293, 286 at fitness 281.0000\n",
      "New value: 292, 285 at fitness 280.0000\n",
      "New value: 291, 284 at fitness 279.0000\n",
      "New value: 290, 283 at fitness 278.0000\n",
      "New value: 289, 282 at fitness 277.0000\n",
      "New value: 288, 281 at fitness 276.0000\n",
      "New value: 287, 280 at fitness 275.0000\n",
      "New value: 286, 279 at fitness 274.0000\n",
      "New value: 285, 278 at fitness 273.0000\n",
      "New value: 284, 277 at fitness 272.0000\n",
      "New value: 283, 276 at fitness 271.0000\n",
      "New value: 282, 275 at fitness 270.0000\n",
      "New value: 281, 274 at fitness 269.0000\n",
      "New value: 280, 273 at fitness 268.0000\n",
      "New value: 279, 272 at fitness 267.0000\n",
      "New value: 278, 271 at fitness 266.0000\n",
      "New value: 277, 270 at fitness 265.0000\n",
      "New value: 276, 269 at fitness 264.0000\n",
      "New value: 275, 268 at fitness 263.0000\n",
      "New value: 274, 267 at fitness 262.0000\n",
      "New value: 273, 266 at fitness 261.0000\n",
      "New value: 272, 265 at fitness 260.0000\n",
      "New value: 271, 264 at fitness 259.0000\n",
      "New value: 270, 263 at fitness 258.0000\n",
      "New value: 269, 262 at fitness 257.0000\n",
      "New value: 268, 261 at fitness 256.0000\n",
      "New value: 267, 260 at fitness 255.0000\n",
      "New value: 266, 259 at fitness 254.0000\n",
      "New value: 265, 258 at fitness 253.0000\n",
      "New value: 264, 257 at fitness 252.0000\n",
      "New value: 263, 256 at fitness 251.0000\n",
      "New value: 262, 255 at fitness 250.0000\n",
      "New value: 261, 254 at fitness 249.0000\n",
      "New value: 260, 253 at fitness 248.0000\n",
      "New value: 259, 252 at fitness 247.0000\n",
      "New value: 258, 251 at fitness 246.0000\n",
      "New value: 257, 250 at fitness 245.0000\n",
      "New value: 256, 249 at fitness 244.0000\n",
      "New value: 255, 248 at fitness 243.0000\n",
      "New value: 254, 247 at fitness 242.0000\n",
      "New value: 253, 246 at fitness 241.0000\n",
      "New value: 252, 245 at fitness 240.0000\n",
      "New value: 251, 244 at fitness 239.0000\n",
      "New value: 250, 243 at fitness 238.0000\n",
      "New value: 249, 242 at fitness 237.0000\n",
      "New value: 248, 241 at fitness 236.0000\n",
      "New value: 247, 240 at fitness 235.0000\n",
      "New value: 246, 239 at fitness 234.0000\n",
      "New value: 245, 238 at fitness 233.0000\n",
      "New value: 244, 237 at fitness 232.0000\n",
      "New value: 243, 236 at fitness 231.0000\n",
      "New value: 242, 235 at fitness 230.0000\n",
      "New value: 241, 234 at fitness 229.0000\n",
      "New value: 240, 233 at fitness 228.0000\n",
      "New value: 239, 232 at fitness 227.0000\n",
      "New value: 238, 231 at fitness 226.0000\n",
      "New value: 237, 230 at fitness 225.0000\n",
      "New value: 236, 229 at fitness 224.0000\n",
      "New value: 235, 228 at fitness 223.0000\n",
      "New value: 234, 227 at fitness 222.0000\n",
      "New value: 233, 226 at fitness 221.0000\n",
      "New value: 232, 225 at fitness 220.0000\n",
      "New value: 231, 224 at fitness 219.0000\n",
      "New value: 230, 223 at fitness 218.0000\n",
      "New value: 229, 222 at fitness 217.0000\n",
      "New value: 228, 221 at fitness 216.0000\n",
      "New value: 227, 220 at fitness 215.0000\n",
      "New value: 226, 219 at fitness 214.0000\n",
      "New value: 225, 218 at fitness 213.0000\n",
      "New value: 224, 217 at fitness 212.0000\n",
      "New value: 223, 216 at fitness 211.0000\n",
      "New value: 222, 215 at fitness 210.0000\n",
      "New value: 221, 214 at fitness 209.0000\n",
      "New value: 220, 213 at fitness 208.0000\n",
      "New value: 219, 212 at fitness 207.0000\n",
      "New value: 218, 211 at fitness 206.0000\n",
      "New value: 217, 210 at fitness 205.0000\n",
      "New value: 216, 209 at fitness 204.0000\n",
      "New value: 215, 208 at fitness 203.0000\n",
      "New value: 214, 207 at fitness 202.0000\n",
      "New value: 213, 206 at fitness 201.0000\n",
      "New value: 212, 205 at fitness 200.0000\n",
      "New value: 211, 204 at fitness 199.0000\n",
      "New value: 210, 203 at fitness 198.0000\n",
      "New value: 209, 202 at fitness 197.0000\n",
      "New value: 208, 201 at fitness 196.0000\n",
      "New value: 207, 200 at fitness 195.0000\n",
      "New value: 206, 199 at fitness 194.0000\n",
      "New value: 205, 198 at fitness 193.0000\n",
      "New value: 204, 197 at fitness 192.0000\n",
      "New value: 203, 196 at fitness 191.0000\n",
      "New value: 202, 195 at fitness 190.0000\n",
      "New value: 201, 194 at fitness 189.0000\n",
      "New value: 200, 193 at fitness 188.0000\n",
      "New value: 199, 192 at fitness 187.0000\n",
      "New value: 198, 191 at fitness 186.0000\n",
      "New value: 197, 190 at fitness 185.0000\n",
      "New value: 196, 189 at fitness 184.0000\n",
      "New value: 195, 188 at fitness 183.0000\n",
      "New value: 194, 187 at fitness 182.0000\n",
      "New value: 193, 186 at fitness 181.0000\n",
      "New value: 192, 185 at fitness 180.0000\n",
      "New value: 191, 184 at fitness 179.0000\n",
      "New value: 190, 183 at fitness 178.0000\n",
      "New value: 189, 182 at fitness 177.0000\n",
      "New value: 188, 181 at fitness 176.0000\n",
      "New value: 187, 180 at fitness 175.0000\n",
      "New value: 186, 179 at fitness 174.0000\n",
      "New value: 185, 178 at fitness 173.0000\n",
      "New value: 184, 177 at fitness 172.0000\n",
      "New value: 183, 176 at fitness 171.0000\n",
      "New value: 182, 175 at fitness 170.0000\n",
      "New value: 181, 174 at fitness 169.0000\n",
      "New value: 180, 173 at fitness 168.0000\n",
      "New value: 179, 172 at fitness 167.0000\n",
      "New value: 178, 171 at fitness 166.0000\n",
      "New value: 177, 170 at fitness 165.0000\n",
      "New value: 176, 169 at fitness 164.0000\n",
      "New value: 175, 168 at fitness 163.0000\n",
      "New value: 174, 167 at fitness 162.0000\n",
      "New value: 173, 166 at fitness 161.0000\n",
      "New value: 172, 165 at fitness 160.0000\n",
      "New value: 171, 164 at fitness 159.0000\n",
      "New value: 170, 163 at fitness 158.0000\n",
      "New value: 169, 162 at fitness 157.0000\n",
      "New value: 168, 161 at fitness 156.0000\n",
      "New value: 167, 160 at fitness 155.0000\n",
      "New value: 166, 159 at fitness 154.0000\n",
      "New value: 165, 158 at fitness 153.0000\n",
      "New value: 164, 157 at fitness 152.0000\n",
      "New value: 163, 156 at fitness 151.0000\n",
      "New value: 162, 155 at fitness 150.0000\n",
      "New value: 161, 154 at fitness 149.0000\n",
      "New value: 160, 153 at fitness 148.0000\n",
      "New value: 159, 152 at fitness 147.0000\n",
      "New value: 158, 151 at fitness 146.0000\n",
      "New value: 157, 150 at fitness 145.0000\n",
      "New value: 156, 149 at fitness 144.0000\n",
      "New value: 155, 148 at fitness 143.0000\n",
      "New value: 154, 147 at fitness 142.0000\n",
      "New value: 153, 146 at fitness 141.0000\n",
      "New value: 152, 145 at fitness 140.0000\n",
      "New value: 151, 144 at fitness 139.0000\n",
      "New value: 150, 143 at fitness 138.0000\n",
      "New value: 149, 142 at fitness 137.0000\n",
      "New value: 148, 141 at fitness 136.0000\n",
      "New value: 147, 140 at fitness 135.0000\n",
      "New value: 146, 139 at fitness 134.0000\n",
      "New value: 145, 138 at fitness 133.0000\n",
      "New value: 144, 137 at fitness 132.0000\n",
      "New value: 143, 136 at fitness 131.0000\n",
      "New value: 142, 135 at fitness 130.0000\n",
      "New value: 141, 134 at fitness 129.0000\n",
      "New value: 140, 133 at fitness 128.0000\n",
      "New value: 139, 132 at fitness 127.0000\n",
      "New value: 138, 131 at fitness 126.0000\n",
      "New value: 137, 130 at fitness 125.0000\n",
      "New value: 136, 129 at fitness 124.0000\n",
      "New value: 135, 128 at fitness 123.0000\n",
      "New value: 134, 127 at fitness 122.0000\n",
      "New value: 133, 126 at fitness 121.0000\n",
      "New value: 132, 125 at fitness 120.0000\n",
      "New value: 131, 124 at fitness 119.0000\n",
      "New value: 130, 123 at fitness 118.0000\n",
      "New value: 129, 122 at fitness 117.0000\n",
      "New value: 128, 121 at fitness 116.0000\n",
      "New value: 127, 120 at fitness 115.0000\n",
      "New value: 126, 119 at fitness 114.0000\n",
      "New value: 125, 118 at fitness 113.0000\n",
      "New value: 124, 117 at fitness 112.0000\n",
      "New value: 123, 116 at fitness 111.0000\n",
      "New value: 122, 115 at fitness 110.0000\n",
      "New value: 121, 114 at fitness 109.0000\n",
      "New value: 120, 113 at fitness 108.0000\n",
      "New value: 119, 112 at fitness 107.0000\n",
      "New value: 118, 111 at fitness 106.0000\n",
      "New value: 117, 110 at fitness 105.0000\n",
      "New value: 116, 109 at fitness 104.0000\n",
      "New value: 115, 108 at fitness 103.0000\n",
      "New value: 114, 107 at fitness 102.0000\n",
      "New value: 113, 106 at fitness 101.0000\n",
      "New value: 112, 105 at fitness 100.0000\n",
      "New value: 111, 104 at fitness 99.0000\n",
      "New value: 110, 103 at fitness 98.0000\n",
      "New value: 109, 102 at fitness 97.0000\n",
      "New value: 108, 101 at fitness 96.0000\n",
      "New value: 107, 100 at fitness 95.0000\n",
      "New value: 106, 99 at fitness 94.0000\n",
      "New value: 105, 98 at fitness 93.0000\n",
      "New value: 104, 97 at fitness 92.0000\n",
      "New value: 103, 96 at fitness 91.0000\n",
      "New value: 102, 95 at fitness 90.0000\n",
      "New value: 101, 94 at fitness 89.0000\n",
      "New value: 100, 93 at fitness 88.0000\n",
      "New value: 99, 92 at fitness 87.0000\n",
      "New value: 98, 91 at fitness 86.0000\n",
      "New value: 97, 90 at fitness 85.0000\n",
      "New value: 96, 89 at fitness 84.0000\n",
      "New value: 95, 88 at fitness 83.0000\n",
      "New value: 94, 87 at fitness 82.0000\n",
      "New value: 93, 86 at fitness 81.0000\n",
      "New value: 92, 85 at fitness 80.0000\n",
      "New value: 91, 84 at fitness 79.0000\n",
      "New value: 90, 83 at fitness 78.0000\n",
      "New value: 89, 82 at fitness 77.0000\n",
      "New value: 88, 81 at fitness 76.0000\n",
      "New value: 87, 80 at fitness 75.0000\n",
      "New value: 86, 79 at fitness 74.0000\n",
      "New value: 85, 78 at fitness 73.0000\n",
      "New value: 84, 77 at fitness 72.0000\n",
      "New value: 83, 76 at fitness 71.0000\n",
      "New value: 82, 75 at fitness 70.0000\n",
      "New value: 81, 74 at fitness 69.0000\n",
      "New value: 80, 73 at fitness 68.0000\n",
      "New value: 79, 72 at fitness 67.0000\n",
      "New value: 78, 71 at fitness 66.0000\n",
      "New value: 77, 70 at fitness 65.0000\n",
      "New value: 76, 69 at fitness 64.0000\n",
      "New value: 75, 68 at fitness 63.0000\n",
      "New value: 74, 67 at fitness 62.0000\n",
      "New value: 73, 66 at fitness 61.0000\n",
      "New value: 72, 65 at fitness 60.0000\n",
      "New value: 71, 64 at fitness 59.0000\n",
      "New value: 70, 63 at fitness 58.0000\n",
      "New value: 69, 62 at fitness 57.0000\n",
      "New value: 68, 61 at fitness 56.0000\n",
      "New value: 67, 60 at fitness 55.0000\n",
      "New value: 66, 59 at fitness 54.0000\n",
      "New value: 65, 58 at fitness 53.0000\n",
      "New value: 64, 57 at fitness 52.0000\n",
      "New value: 63, 56 at fitness 51.0000\n",
      "New value: 62, 55 at fitness 50.0000\n",
      "New value: 61, 54 at fitness 49.0000\n",
      "New value: 60, 53 at fitness 48.0000\n",
      "New value: 59, 52 at fitness 47.0000\n",
      "New value: 58, 51 at fitness 46.0000\n",
      "New value: 57, 50 at fitness 45.0000\n",
      "New value: 56, 49 at fitness 44.0000\n",
      "New value: 55, 48 at fitness 43.0000\n",
      "New value: 54, 47 at fitness 42.0000\n",
      "New value: 53, 46 at fitness 41.0000\n",
      "New value: 52, 45 at fitness 40.0000\n",
      "New value: 51, 44 at fitness 39.0000\n",
      "New value: 50, 43 at fitness 38.0000\n",
      "New value: 49, 42 at fitness 37.0000\n",
      "New value: 48, 41 at fitness 36.0000\n",
      "New value: 47, 40 at fitness 35.0000\n",
      "New value: 46, 39 at fitness 34.0000\n",
      "New value: 45, 38 at fitness 33.0000\n",
      "New value: 44, 37 at fitness 32.0000\n",
      "New value: 43, 36 at fitness 31.0000\n",
      "New value: 42, 35 at fitness 30.0000\n",
      "New value: 41, 34 at fitness 29.0000\n",
      "New value: 40, 33 at fitness 28.0000\n",
      "New value: 39, 32 at fitness 27.0000\n",
      "New value: 38, 31 at fitness 26.0000\n",
      "New value: 37, 30 at fitness 25.0000\n",
      "New value: 36, 29 at fitness 24.0000\n",
      "New value: 35, 28 at fitness 23.0000\n",
      "New value: 34, 27 at fitness 22.0000\n",
      "New value: 33, 26 at fitness 21.0000\n",
      "New value: 32, 25 at fitness 20.0000\n",
      "New value: 31, 24 at fitness 19.0000\n",
      "New value: 30, 23 at fitness 18.0000\n",
      "New value: 29, 22 at fitness 17.0000\n",
      "New value: 28, 21 at fitness 16.0000\n",
      "New value: 27, 20 at fitness 15.0000\n",
      "New value: 26, 19 at fitness 14.0000\n",
      "New value: 25, 18 at fitness 13.0000\n",
      "New value: 24, 17 at fitness 12.0000\n",
      "New value: 23, 16 at fitness 11.0000\n",
      "New value: 22, 15 at fitness 10.0000\n",
      "New value: 21, 14 at fitness 9.0000\n",
      "New value: 20, 13 at fitness 8.0000\n",
      "New value: 19, 12 at fitness 7.0000\n",
      "New value: 18, 11 at fitness 6.0000\n",
      "New value: 17, 10 at fitness 5.0000\n",
      "New value: 16, 9 at fitness 4.0000\n",
      "New value: 15, 8 at fitness 3.0000\n",
      "New value: 14, 7 at fitness 2.0000\n",
      "New value: 13, 6 at fitness 1.0000\n",
      "New value: 12, 5 at fitness 0.0000\n",
      "Found optimum after 536 iterations at 12, 5\n"
     ]
    }
   ],
   "source": [
    "import random\n",
    "\n",
    "def hillclimber():\n",
    "    # Create and evaluate starting point\n",
    "    x, y = random.randint(MIN, MAX), random.randint(MIN, MAX)\n",
    "    fitness = get_fitness(x, y)\n",
    "    print(\"Initial value: %d, %d at fitness %.4f\" %(x, y, fitness))\n",
    "    iterations = 0\n",
    "    \n",
    "    # Stop once we have found an optimal solution\n",
    "    while fitness > 0:\n",
    "        iterations += 1\n",
    "        # Move to first neighbour with a better fitness \n",
    "        for (nextx, nexty) in neighbours(x,y):\n",
    "            new_fitness = get_fitness(nextx, nexty)\n",
    "            \n",
    "            # Smaller fitness values are better\n",
    "            if new_fitness < fitness:\n",
    "                x, y = nextx, nexty\n",
    "                fitness = new_fitness\n",
    "                print(\"New value: %d, %d at fitness %.4f\" %(x, y, fitness))\n",
    "                break\n",
    "\n",
    "    print(\"Found optimum after %d iterations at %d, %d\" % (iterations, x, y))\n",
    "    \n",
    "hillclimber()"
   ]
  },
  {
   "cell_type": "markdown",
   "metadata": {},
   "source": [
    "The hillclimber starts by choosing random values for `x` and `y`. We use low values in the range of `-1000`--`1000` (which we defined `MIN` and `MAX` to be earlier) to reduce the time search takes when playing with the example. Then, we determine the fitness value of this starting point by calling `get_fitness`. Recall that we are trying to find the smallest possible fitness value, therefore we now loop until we have found a fitness value of `0` (i.e., an optimal value). \n",
    "\n",
    "In this loop, we iterate over all neighbours (`neighbours`), and evaluate the fitness value of each of the neighbours. As soon as we have found a neighbour with better (smaller) fitness, the hillclimber exits the loop and uses this as the new starting point. An alternative variant of this simple hillclimbing algorithm would be to remove the `break` statement: By doing so, *all* neighbours would be evaluated and the best neighbour would be chosen. This is known as *steepest ascent hillclimbing*. You will see that the number of iterations necessary to reach the optimum is lower, although for each iteration more tests are executed."
   ]
  },
  {
   "cell_type": "code",
   "execution_count": 111,
   "metadata": {
    "scrolled": true
   },
   "outputs": [
    {
     "name": "stdout",
     "output_type": "stream",
     "text": [
      "Initial value: -53, 105 at fitness 265.0000\n",
      "New value: -54, 104 at fitness 264.0000\n",
      "New value: -53, 104 at fitness 263.0000\n",
      "New value: -52, 104 at fitness 262.0000\n",
      "New value: -53, 103 at fitness 261.0000\n",
      "New value: -52, 103 at fitness 260.0000\n",
      "New value: -51, 103 at fitness 259.0000\n",
      "New value: -52, 102 at fitness 258.0000\n",
      "New value: -51, 102 at fitness 257.0000\n",
      "New value: -50, 102 at fitness 256.0000\n",
      "New value: -51, 101 at fitness 255.0000\n",
      "New value: -50, 101 at fitness 254.0000\n",
      "New value: -49, 101 at fitness 253.0000\n",
      "New value: -50, 100 at fitness 252.0000\n",
      "New value: -49, 100 at fitness 251.0000\n",
      "New value: -48, 100 at fitness 250.0000\n",
      "New value: -49, 99 at fitness 249.0000\n",
      "New value: -48, 99 at fitness 248.0000\n",
      "New value: -47, 99 at fitness 247.0000\n",
      "New value: -48, 98 at fitness 246.0000\n",
      "New value: -47, 98 at fitness 245.0000\n",
      "New value: -46, 98 at fitness 244.0000\n",
      "New value: -47, 97 at fitness 243.0000\n",
      "New value: -46, 97 at fitness 242.0000\n",
      "New value: -45, 97 at fitness 241.0000\n",
      "New value: -46, 96 at fitness 240.0000\n",
      "New value: -45, 96 at fitness 239.0000\n",
      "New value: -44, 96 at fitness 238.0000\n",
      "New value: -45, 95 at fitness 237.0000\n",
      "New value: -44, 95 at fitness 236.0000\n",
      "New value: -43, 95 at fitness 235.0000\n",
      "New value: -44, 94 at fitness 234.0000\n",
      "New value: -43, 94 at fitness 233.0000\n",
      "New value: -42, 94 at fitness 232.0000\n",
      "New value: -43, 93 at fitness 231.0000\n",
      "New value: -42, 93 at fitness 230.0000\n",
      "New value: -41, 93 at fitness 229.0000\n",
      "New value: -42, 92 at fitness 228.0000\n",
      "New value: -41, 92 at fitness 227.0000\n",
      "New value: -40, 92 at fitness 226.0000\n",
      "New value: -41, 91 at fitness 225.0000\n",
      "New value: -40, 91 at fitness 224.0000\n",
      "New value: -39, 91 at fitness 223.0000\n",
      "New value: -40, 90 at fitness 222.0000\n",
      "New value: -39, 90 at fitness 221.0000\n",
      "New value: -38, 90 at fitness 220.0000\n",
      "New value: -39, 89 at fitness 219.0000\n",
      "New value: -38, 89 at fitness 218.0000\n",
      "New value: -37, 89 at fitness 217.0000\n",
      "New value: -38, 88 at fitness 216.0000\n",
      "New value: -37, 88 at fitness 215.0000\n",
      "New value: -36, 88 at fitness 214.0000\n",
      "New value: -37, 87 at fitness 213.0000\n",
      "New value: -36, 87 at fitness 212.0000\n",
      "New value: -35, 87 at fitness 211.0000\n",
      "New value: -36, 86 at fitness 210.0000\n",
      "New value: -35, 86 at fitness 209.0000\n",
      "New value: -34, 86 at fitness 208.0000\n",
      "New value: -35, 85 at fitness 207.0000\n",
      "New value: -34, 85 at fitness 206.0000\n",
      "New value: -33, 85 at fitness 205.0000\n",
      "New value: -34, 84 at fitness 204.0000\n",
      "New value: -33, 84 at fitness 203.0000\n",
      "New value: -32, 84 at fitness 202.0000\n",
      "New value: -33, 83 at fitness 201.0000\n",
      "New value: -32, 83 at fitness 200.0000\n",
      "New value: -31, 83 at fitness 199.0000\n",
      "New value: -32, 82 at fitness 198.0000\n",
      "New value: -31, 82 at fitness 197.0000\n",
      "New value: -30, 82 at fitness 196.0000\n",
      "New value: -31, 81 at fitness 195.0000\n",
      "New value: -30, 81 at fitness 194.0000\n",
      "New value: -29, 81 at fitness 193.0000\n",
      "New value: -30, 80 at fitness 192.0000\n",
      "New value: -29, 80 at fitness 191.0000\n",
      "New value: -28, 80 at fitness 190.0000\n",
      "New value: -29, 79 at fitness 189.0000\n",
      "New value: -28, 79 at fitness 188.0000\n",
      "New value: -27, 79 at fitness 187.0000\n",
      "New value: -28, 78 at fitness 186.0000\n",
      "New value: -27, 78 at fitness 185.0000\n",
      "New value: -26, 78 at fitness 184.0000\n",
      "New value: -27, 77 at fitness 183.0000\n",
      "New value: -26, 77 at fitness 182.0000\n",
      "New value: -25, 77 at fitness 181.0000\n",
      "New value: -26, 76 at fitness 180.0000\n",
      "New value: -25, 76 at fitness 179.0000\n",
      "New value: -24, 76 at fitness 178.0000\n",
      "New value: -25, 75 at fitness 177.0000\n",
      "New value: -24, 75 at fitness 176.0000\n",
      "New value: -23, 75 at fitness 175.0000\n",
      "New value: -24, 74 at fitness 174.0000\n",
      "New value: -23, 74 at fitness 173.0000\n",
      "New value: -22, 74 at fitness 172.0000\n",
      "New value: -23, 73 at fitness 171.0000\n",
      "New value: -22, 73 at fitness 170.0000\n",
      "New value: -21, 73 at fitness 169.0000\n",
      "New value: -22, 72 at fitness 168.0000\n",
      "New value: -21, 72 at fitness 167.0000\n",
      "New value: -20, 72 at fitness 166.0000\n",
      "New value: -21, 71 at fitness 165.0000\n",
      "New value: -20, 71 at fitness 164.0000\n",
      "New value: -19, 71 at fitness 163.0000\n",
      "New value: -20, 70 at fitness 162.0000\n",
      "New value: -19, 70 at fitness 161.0000\n",
      "New value: -18, 70 at fitness 160.0000\n",
      "New value: -19, 69 at fitness 159.0000\n",
      "New value: -18, 69 at fitness 158.0000\n",
      "New value: -17, 69 at fitness 157.0000\n",
      "New value: -18, 68 at fitness 156.0000\n",
      "New value: -17, 68 at fitness 155.0000\n",
      "New value: -16, 68 at fitness 154.0000\n",
      "New value: -17, 67 at fitness 153.0000\n",
      "New value: -16, 67 at fitness 152.0000\n",
      "New value: -15, 67 at fitness 151.0000\n",
      "New value: -16, 66 at fitness 150.0000\n",
      "New value: -15, 66 at fitness 149.0000\n",
      "New value: -14, 66 at fitness 148.0000\n",
      "New value: -15, 65 at fitness 147.0000\n",
      "New value: -14, 65 at fitness 146.0000\n",
      "New value: -13, 65 at fitness 145.0000\n",
      "New value: -14, 64 at fitness 144.0000\n",
      "New value: -13, 64 at fitness 143.0000\n",
      "New value: -12, 64 at fitness 142.0000\n",
      "New value: -13, 63 at fitness 141.0000\n",
      "New value: -12, 63 at fitness 140.0000\n",
      "New value: -11, 63 at fitness 139.0000\n",
      "New value: -12, 62 at fitness 138.0000\n",
      "New value: -11, 62 at fitness 137.0000\n",
      "New value: -10, 62 at fitness 136.0000\n",
      "New value: -11, 61 at fitness 135.0000\n",
      "New value: -10, 61 at fitness 134.0000\n",
      "New value: -9, 61 at fitness 133.0000\n",
      "New value: -10, 60 at fitness 132.0000\n",
      "New value: -9, 60 at fitness 131.0000\n",
      "New value: -8, 60 at fitness 130.0000\n",
      "New value: -9, 59 at fitness 129.0000\n",
      "New value: -8, 59 at fitness 128.0000\n",
      "New value: -7, 59 at fitness 127.0000\n",
      "New value: -8, 58 at fitness 126.0000\n",
      "New value: -7, 58 at fitness 125.0000\n",
      "New value: -6, 58 at fitness 124.0000\n",
      "New value: -7, 57 at fitness 123.0000\n",
      "New value: -6, 57 at fitness 122.0000\n",
      "New value: -5, 57 at fitness 121.0000\n",
      "New value: -6, 56 at fitness 120.0000\n",
      "New value: -5, 56 at fitness 119.0000\n",
      "New value: -4, 56 at fitness 118.0000\n",
      "New value: -5, 55 at fitness 117.0000\n",
      "New value: -4, 55 at fitness 116.0000\n",
      "New value: -3, 55 at fitness 115.0000\n",
      "New value: -4, 54 at fitness 114.0000\n",
      "New value: -3, 54 at fitness 113.0000\n",
      "New value: -2, 54 at fitness 112.0000\n",
      "New value: -3, 53 at fitness 111.0000\n",
      "New value: -2, 53 at fitness 110.0000\n",
      "New value: -1, 53 at fitness 109.0000\n",
      "New value: -2, 52 at fitness 108.0000\n",
      "New value: -1, 52 at fitness 107.0000\n",
      "New value: 0, 52 at fitness 106.0000\n",
      "New value: -1, 51 at fitness 105.0000\n",
      "New value: 0, 51 at fitness 104.0000\n",
      "New value: 1, 51 at fitness 103.0000\n",
      "New value: 0, 50 at fitness 102.0000\n",
      "New value: 1, 50 at fitness 101.0000\n",
      "New value: 2, 50 at fitness 100.0000\n",
      "New value: 1, 49 at fitness 99.0000\n",
      "New value: 2, 49 at fitness 98.0000\n",
      "New value: 3, 49 at fitness 97.0000\n",
      "New value: 2, 48 at fitness 96.0000\n",
      "New value: 3, 48 at fitness 95.0000\n",
      "New value: 4, 48 at fitness 94.0000\n",
      "New value: 3, 47 at fitness 93.0000\n",
      "New value: 4, 47 at fitness 92.0000\n",
      "New value: 5, 47 at fitness 91.0000\n",
      "New value: 4, 46 at fitness 90.0000\n",
      "New value: 5, 46 at fitness 89.0000\n",
      "New value: 6, 46 at fitness 88.0000\n",
      "New value: 5, 45 at fitness 87.0000\n",
      "New value: 6, 45 at fitness 86.0000\n",
      "New value: 7, 45 at fitness 85.0000\n",
      "New value: 6, 44 at fitness 84.0000\n",
      "New value: 7, 44 at fitness 83.0000\n",
      "New value: 8, 44 at fitness 82.0000\n",
      "New value: 7, 43 at fitness 81.0000\n",
      "New value: 8, 43 at fitness 80.0000\n",
      "New value: 9, 43 at fitness 79.0000\n",
      "New value: 8, 42 at fitness 78.0000\n",
      "New value: 9, 42 at fitness 77.0000\n",
      "New value: 10, 42 at fitness 76.0000\n",
      "New value: 9, 41 at fitness 75.0000\n",
      "New value: 10, 41 at fitness 74.0000\n",
      "New value: 11, 41 at fitness 73.0000\n",
      "New value: 10, 40 at fitness 72.0000\n",
      "New value: 11, 40 at fitness 71.0000\n",
      "New value: 12, 40 at fitness 70.0000\n",
      "New value: 11, 39 at fitness 69.0000\n",
      "New value: 12, 39 at fitness 68.0000\n",
      "New value: 13, 39 at fitness 67.0000\n",
      "New value: 12, 38 at fitness 66.0000\n",
      "New value: 13, 38 at fitness 65.0000\n",
      "New value: 14, 38 at fitness 64.0000\n",
      "New value: 13, 37 at fitness 63.0000\n",
      "New value: 14, 37 at fitness 62.0000\n",
      "New value: 15, 37 at fitness 61.0000\n",
      "New value: 14, 36 at fitness 60.0000\n",
      "New value: 15, 36 at fitness 59.0000\n",
      "New value: 16, 36 at fitness 58.0000\n",
      "New value: 15, 35 at fitness 57.0000\n",
      "New value: 16, 35 at fitness 56.0000\n",
      "New value: 17, 35 at fitness 55.0000\n",
      "New value: 16, 34 at fitness 54.0000\n",
      "New value: 17, 34 at fitness 53.0000\n",
      "New value: 18, 34 at fitness 52.0000\n",
      "New value: 17, 33 at fitness 51.0000\n",
      "New value: 18, 33 at fitness 50.0000\n",
      "New value: 19, 33 at fitness 49.0000\n",
      "New value: 18, 32 at fitness 48.0000\n",
      "New value: 19, 32 at fitness 47.0000\n",
      "New value: 20, 32 at fitness 46.0000\n",
      "New value: 19, 31 at fitness 45.0000\n",
      "New value: 20, 31 at fitness 44.0000\n",
      "New value: 21, 31 at fitness 43.0000\n",
      "New value: 20, 30 at fitness 42.0000\n",
      "New value: 21, 30 at fitness 41.0000\n",
      "New value: 22, 30 at fitness 40.0000\n",
      "New value: 21, 29 at fitness 39.0000\n",
      "New value: 22, 29 at fitness 38.0000\n",
      "New value: 23, 29 at fitness 37.0000\n",
      "New value: 22, 28 at fitness 36.0000\n",
      "New value: 23, 28 at fitness 35.0000\n",
      "New value: 24, 28 at fitness 34.0000\n",
      "New value: 23, 27 at fitness 33.0000\n",
      "New value: 24, 27 at fitness 32.0000\n",
      "New value: 25, 27 at fitness 31.0000\n",
      "New value: 24, 26 at fitness 30.0000\n",
      "New value: 25, 26 at fitness 29.0000\n",
      "New value: 26, 26 at fitness 28.0000\n",
      "New value: 25, 25 at fitness 27.0000\n",
      "New value: 26, 25 at fitness 26.0000\n",
      "New value: 27, 25 at fitness 25.0000\n",
      "New value: 26, 24 at fitness 24.0000\n",
      "New value: 27, 24 at fitness 23.0000\n",
      "New value: 28, 24 at fitness 22.0000\n",
      "New value: 27, 23 at fitness 21.0000\n",
      "New value: 28, 23 at fitness 20.0000\n",
      "New value: 29, 23 at fitness 19.0000\n",
      "New value: 28, 22 at fitness 18.0000\n",
      "New value: 29, 22 at fitness 17.0000\n",
      "New value: 30, 22 at fitness 16.0000\n",
      "New value: 29, 21 at fitness 15.0000\n",
      "New value: 30, 21 at fitness 14.0000\n",
      "New value: 31, 21 at fitness 13.0000\n",
      "New value: 30, 20 at fitness 12.0000\n",
      "New value: 31, 20 at fitness 11.0000\n",
      "New value: 32, 20 at fitness 10.0000\n",
      "New value: 31, 19 at fitness 9.0000\n",
      "New value: 32, 19 at fitness 8.0000\n",
      "New value: 33, 19 at fitness 7.0000\n",
      "New value: 32, 18 at fitness 6.0000\n",
      "New value: 33, 18 at fitness 5.0000\n",
      "New value: 34, 18 at fitness 4.0000\n",
      "New value: 33, 17 at fitness 3.0000\n",
      "New value: 34, 17 at fitness 2.0000\n",
      "New value: 35, 17 at fitness 1.0000\n",
      "New value: 34, 16 at fitness 0.0000\n",
      "Found optimum after 89 iterations at 34, 16\n"
     ]
    }
   ],
   "source": [
    "def steepest_ascent_hillclimber():\n",
    "    # Create and evaluate starting point\n",
    "    x, y = random.randint(MIN, MAX), random.randint(MIN, MAX)\n",
    "    fitness = get_fitness(x, y)\n",
    "    print(\"Initial value: %d, %d at fitness %.4f\" %(x, y, fitness))\n",
    "    iterations = 0\n",
    "    \n",
    "    # Stop once we have found an optimal solution\n",
    "    while fitness > 0:\n",
    "        iterations += 1\n",
    "        # Move to first neighbour with a better fitness \n",
    "        for (nextx, nexty) in neighbours(x,y):\n",
    "            new_fitness = get_fitness(nextx, nexty)\n",
    "            if new_fitness < fitness:\n",
    "                x, y = nextx, nexty\n",
    "                fitness = new_fitness\n",
    "                print(\"New value: %d, %d at fitness %.4f\" %(x, y, fitness))\n",
    "\n",
    "    print(\"Found optimum after %d iterations at %d, %d\" % (iterations, x, y))\n",
    "    \n",
    "steepest_ascent_hillclimber()"
   ]
  },
  {
   "cell_type": "markdown",
   "metadata": {},
   "source": [
    "Our example program has a very nice fitness landscape --- there is a perfect gradient, and the hillclimber will always find a solution. We can see this nice gradient if we plot the fitness values observed over time:"
   ]
  },
  {
   "cell_type": "code",
   "execution_count": 116,
   "metadata": {},
   "outputs": [
    {
     "name": "stdout",
     "output_type": "stream",
     "text": [
      "Found optimum after 1659 iterations at -1000, -501\n"
     ]
    },
    {
     "data": {
      "image/png": "[encoded data removed]",
      "text/plain": [
       "<Figure size 432x288 with 1 Axes>"
      ]
     },
     "metadata": {
      "needs_background": "light"
     },
     "output_type": "display_data"
    }
   ],
   "source": [
    "def plotting_hillclimber(fitness_function):\n",
    "    data = []\n",
    "    \n",
    "    # Create and evaluate starting point\n",
    "    x, y = random.randint(MIN, MAX), random.randint(MIN, MAX)\n",
    "    fitness = fitness_function(x, y)\n",
    "    data += [fitness]\n",
    "    iterations = 0\n",
    "    \n",
    "    # Stop once we have found an optimal solution\n",
    "    while fitness > 0:\n",
    "        iterations += 1\n",
    "        # Move to first neighbour with a better fitness \n",
    "        for (nextx, nexty) in neighbours(x,y):\n",
    "            new_fitness = fitness_function(nextx, nexty)\n",
    "            if new_fitness < fitness:\n",
    "                x, y = nextx, nexty\n",
    "                fitness = new_fitness\n",
    "                data += [fitness]\n",
    "                break\n",
    "\n",
    "    print(\"Found optimum after %d iterations at %d, %d\" % (iterations, x, y))\n",
    "    return data\n",
    "    \n",
    "data = plotting_hillclimber(get_fitness)\n",
    "\n",
    "import matplotlib.pyplot as plt\n",
    "fig = plt.figure()\n",
    "ax = plt.axes()\n",
    "\n",
    "x = range(len(data))\n",
    "ax.plot(x, data);\n"
   ]
  },
  {
   "cell_type": "markdown",
   "metadata": {},
   "source": [
    "This gradient is the result of an ideal fitness landscape. In practice, we won't always have such a nice gradient. In particular, our hillclimber only works well as long as there is at least one neighbour that has a better fitness value. What if we reach a point where _none_ of the neighbours actually has a better fitness value? Consider the following function `test_me2`:"
   ]
  },
  {
   "cell_type": "code",
   "execution_count": null,
   "metadata": {},
   "outputs": [],
   "source": [
    "def test_me2(x, y):\n",
    "    if(x*x == y*y*(x%20)):\n",
    "        return True\n",
    "    else:\n",
    "        return False"
   ]
  },
  {
   "cell_type": "markdown",
   "metadata": {},
   "source": [
    "If we want to cover the true-branch of the if-condition in `test_me2` again, then we can calculate the distance in the same way as previously, i.e., by calculating the difference between the two sides of the comparison. Let's instrument the `test_me2` function:"
   ]
  },
  {
   "cell_type": "code",
   "execution_count": 122,
   "metadata": {},
   "outputs": [],
   "source": [
    "def test_me2_instrumented(x, y):\n",
    "    global distance\n",
    "    distance = abs(x*x - y*y * (x % 20))\n",
    "    if(x*x == y*y*(x%20)):\n",
    "        return True\n",
    "    else:\n",
    "        return False"
   ]
  },
  {
   "cell_type": "markdown",
   "metadata": {},
   "source": [
    "With this instrumented version, we just need a fitness function that calls the instrumented version and reads out the global `distance` variable."
   ]
  },
  {
   "cell_type": "code",
   "execution_count": 121,
   "metadata": {},
   "outputs": [],
   "source": [
    "def bad_fitness(x, y):\n",
    "    global distance\n",
    "    test_me2_instrumented(x, y)\n",
    "    fitness = distance\n",
    "    return fitness"
   ]
  },
  {
   "cell_type": "markdown",
   "metadata": {},
   "source": [
    "Before we run the hillclimber on this example, let's have a look at the search landscape again by plotting it:"
   ]
  },
  {
   "cell_type": "code",
   "execution_count": 118,
   "metadata": {},
   "outputs": [
    {
     "data": {
      "text/plain": [
       "<mpl_toolkits.mplot3d.art3d.Poly3DCollection at 0x7ff9f8f9e7b8>"
      ]
     },
     "execution_count": 118,
     "metadata": {},
     "output_type": "execute_result"
    },
    {
     "data": {
      "image/png": "[encoded data removed]",
      "text/plain": [
       "<Figure size 432x288 with 1 Axes>"
      ]
     },
     "metadata": {
      "needs_background": "light"
     },
     "output_type": "display_data"
    }
   ],
   "source": [
    "from mpl_toolkits.mplot3d import Axes3D\n",
    "from math import exp, tan\n",
    "\n",
    "x = np.outer(np.linspace(-10, 10, 30), np.ones(30))\n",
    "y = x.copy().T\n",
    "z = abs(x*x - y*y * (x % 20))\n",
    "    \n",
    "\n",
    "fig = plt.figure()\n",
    "ax = plt.axes(projection='3d')\n",
    "\n",
    "ax.plot_surface(x, y, z, cmap=plt.cm.jet, rstride=1, cstride=1, linewidth=0)\n"
   ]
  },
  {
   "cell_type": "markdown",
   "metadata": {},
   "source": [
    "At this point it would be nice to run the hillclimber using the new fitness function, but there is a problem: Running our hillclimber with this fitness function is not a good idea, because it might never terminate. Suppose we've reached a point where all neighbours have the same or a worse fitness value. The hillclimber can move no where and is stuck there forever! Such a point in the search landscape is called a *local optimum*. If one reaches such a point, the easiest way out is to give up and restart from a new random point. This is what we will do in our hillclimber with *random restarts*. "
   ]
  },
  {
   "cell_type": "code",
   "execution_count": 123,
   "metadata": {},
   "outputs": [],
   "source": [
    "def restarting_hillclimber(fitness_function):\n",
    "    data = []\n",
    "    \n",
    "    # Create and evaluate starting point\n",
    "    x, y = random.randint(MIN, MAX), random.randint(MIN, MAX)\n",
    "    fitness = fitness_function(x, y)\n",
    "    data += [fitness]\n",
    "    print(\"Initial value: %d, %d at fitness %.4f\" %(x, y, fitness))\n",
    "    iterations = 0\n",
    "    \n",
    "    # Stop once we have found an optimal solution\n",
    "    while fitness > 0:\n",
    "        changed = False\n",
    "        iterations += 1\n",
    "        # Move to first neighbour with a better fitness \n",
    "        for (nextx, nexty) in neighbours(x,y):\n",
    "            new_fitness = fitness_function(nextx, nexty)\n",
    "            if new_fitness < fitness:\n",
    "                x, y = nextx, nexty\n",
    "                fitness = new_fitness\n",
    "                data += [fitness]\n",
    "                changed = True\n",
    "                break\n",
    "        if not changed:\n",
    "            x, y = random.randint(MIN, MAX), random.randint(MIN, MAX)\n",
    "            fitness = fitness_function(x, y)\n",
    "            data += [fitness]\n",
    "\n",
    "    print(\"Found optimum after %d iterations at %d, %d\" % (iterations, x, y))\n",
    "    return data"
   ]
  },
  {
   "cell_type": "markdown",
   "metadata": {},
   "source": [
    "The change is trivial: We simply keep track whether any movement has occurred with a boolean flag, and if we did not move to any of the neighbours, we pick a new random position to start over at. For convenience, we also made the hillclimber parameterizable with fitness functions. Let's try it out with our `bad_fitness` and plot the resulting fitness values we observe:"
   ]
  },
  {
   "cell_type": "code",
   "execution_count": 126,
   "metadata": {},
   "outputs": [
    {
     "name": "stdout",
     "output_type": "stream",
     "text": [
      "Initial value: -393, 110 at fitness 69749.0000\n",
      "Found optimum after 166 iterations at 621, -621\n"
     ]
    },
    {
     "data": {
      "image/png": "[encoded data removed]",
      "text/plain": [
       "<Figure size 432x288 with 1 Axes>"
      ]
     },
     "metadata": {
      "needs_background": "light"
     },
     "output_type": "display_data"
    }
   ],
   "source": [
    "MAX=1000\n",
    "MIN=-MAX\n",
    "\n",
    "data = restarting_hillclimber(bad_fitness)\n",
    "\n",
    "import matplotlib.pyplot as plt\n",
    "fig = plt.figure()\n",
    "ax = plt.axes()\n",
    "\n",
    "x = range(len(data))\n",
    "ax.plot(x, data);\n"
   ]
  },
  {
   "cell_type": "markdown",
   "metadata": {},
   "source": [
    "Run the example a couple of times. Sometimes, we are lucky and there is a gradient that takes is straight to an optimal solution. But sometimes you'll see restarts throughout the search before reaching an optimal value."
   ]
  },
  {
   "cell_type": "markdown",
   "metadata": {},
   "source": [
    "We restricted initial values of `x` and `y` to  rather small range of `[MIN, MAX]`. This is a common trick in test generation, as in *most* cases solutions tend to consist of small values, and using small values to start the search makes the search quicker in many cases. However, what if the solution we need is at a completely different place in our search space? Our bias towards smaller solutions would mean that the hillclimber would take very long to find the solution, and given a fixed search budget it would thus be less likely to actually find a solution. To see what effects this would have, we could simple replace the `1000` with, say, `1000000` or more. We can play around with the range to see the performance we get for our simple search problems."
   ]
  },
  {
   "cell_type": "code",
   "execution_count": 129,
   "metadata": {},
   "outputs": [
    {
     "name": "stdout",
     "output_type": "stream",
     "text": [
      "Initial value: -78792, 62039 at fitness 202872.0000\n",
      "Found optimum after 112040 iterations at -100000, -50001\n",
      "Search time: 0.65s\n"
     ]
    }
   ],
   "source": [
    "MAX =  100000\n",
    "MIN = -MAX\n",
    "\n",
    "import time\n",
    "start = time.process_time()\n",
    "restarting_hillclimber(get_fitness)\n",
    "duration = time.process_time() - start\n",
    "print(\"Search time: %.2fs\" % duration)"
   ]
  },
  {
   "cell_type": "markdown",
   "metadata": {},
   "source": [
    "In most cases the search now will take much longer until a solution is found --- likely longer than we are prepared to wait for such a simple example function! (Although sometimes we will get lucky and randomly hit a good starting position). How is this ever going to work on \"real\" examples? Not to imagine if there were even more parameters and a bigger neighbourhood!"
   ]
  },
  {
   "cell_type": "markdown",
   "metadata": {
    "button": false,
    "new_sheet": false,
    "run_control": {
     "read_only": false
    }
   },
   "source": [
    "## Testing a More Complex Program\n",
    "\n",
    "Let's turn to a slightly more complex program: The CGI decoder you already know from [the Coverage chapter](Coverage.ipynb). "
   ]
  },
  {
   "cell_type": "code",
   "execution_count": 24,
   "metadata": {},
   "outputs": [],
   "source": [
    "def cgi_decode(s):\n",
    "    \"\"\"Decode the CGI-encoded string `s`:\n",
    "       * replace \"+\" by \" \"\n",
    "       * replace \"%xx\" by the character with hex number xx.\n",
    "       Return the decoded string.  Raise `ValueError` for invalid inputs.\"\"\"\n",
    "\n",
    "    # Mapping of hex digits to their integer values\n",
    "    hex_values = {\n",
    "        '0': 0, '1': 1, '2': 2, '3': 3, '4': 4,\n",
    "        '5': 5, '6': 6, '7': 7, '8': 8, '9': 9,\n",
    "        'a': 10, 'b': 11, 'c': 12, 'd': 13, 'e': 14, 'f': 15,\n",
    "        'A': 10, 'B': 11, 'C': 12, 'D': 13, 'E': 14, 'F': 15,\n",
    "    }\n",
    "\n",
    "    t = \"\"\n",
    "    i = 0\n",
    "    while i < len(s):\n",
    "        c = s[i]\n",
    "        if c == '+':\n",
    "            t += ' '\n",
    "        elif c == '%':\n",
    "            digit_high, digit_low = s[i + 1], s[i + 2]\n",
    "            i += 2\n",
    "            if digit_high in hex_values and digit_low in hex_values:\n",
    "                v = hex_values[digit_high] * 16 + hex_values[digit_low]\n",
    "                t += chr(v)\n",
    "            else:\n",
    "                raise ValueError(\"Invalid encoding\")\n",
    "        else:\n",
    "            t += c\n",
    "        i += 1\n",
    "    return t\n"
   ]
  },
  {
   "cell_type": "markdown",
   "metadata": {},
   "source": [
    "### CGI Decoder as a Search Problem\n",
    "\n",
    "The `cgi_decode` function has one input of type string, and one possible way to define the neighbourhood of a string is by all possible strings that have an edit distance of 1. For example, string `test` would have two neighbours for each of its four characters:\n",
    "\n",
    "- `uest`\n",
    "- `tfst`\n",
    "- `tett`\n",
    "- `tesu`\n",
    "- `sest`\n",
    "- `tdst`\n",
    "- `tert`\n",
    "- `tess`\n",
    "\n",
    "In addition, prepending any character or appending any character would also have an edit distance of 1 and could be considered neighbours. To keep things simple, let's keep the length of our input strings fixed to a reasonable value (e.g. 10). In this case, each individual has 20 neighbours (i.e., each character has two neighbours).\n",
    "\n",
    "Let's implement a new `neighbour_strings` function that produces these neighbouring strings:"
   ]
  },
  {
   "cell_type": "code",
   "execution_count": 159,
   "metadata": {},
   "outputs": [],
   "source": [
    "def neighbour_strings(x):\n",
    "    n = []\n",
    "    for pos in range(len(x)):\n",
    "      c = ord(x[pos])\n",
    "      if c < 127:\n",
    "        n += [ x[:pos] + chr(c + 1) + x[pos + 1:] ]\n",
    "      if c > 20:\n",
    "        n += [ x[:pos] + chr(c - 1) + x[pos + 1:] ]\n",
    "    return n"
   ]
  },
  {
   "cell_type": "markdown",
   "metadata": {},
   "source": [
    "The `neighbour_strings` function gets the numerical value of each character in the input string, and creates a new string with the character replaced with the preceding and succeeding characters in the alphabet. To start with, we only consider printable ASCII characters, which are in the range 20--127."
   ]
  },
  {
   "cell_type": "code",
   "execution_count": 130,
   "metadata": {},
   "outputs": [
    {
     "name": "stdout",
     "output_type": "stream",
     "text": [
      "['Iello', 'Gello', 'Hfllo', 'Hdllo', 'Hemlo', 'Heklo', 'Helmo', 'Helko', 'Hellp', 'Helln']\n"
     ]
    }
   ],
   "source": [
    "print(neighbour_strings(\"Hello\"))"
   ]
  },
  {
   "cell_type": "markdown",
   "metadata": {},
   "source": [
    "Thus we have defined the search space for the `cgi_decode` function. The next ingredient to searching for individuals in this search space is a fitness function."
   ]
  },
  {
   "cell_type": "markdown",
   "metadata": {},
   "source": [
    "### Branch Distances\n",
    "\n",
    "The `test_me` function consisted of a single if-condition, in which two integer numbers were compared. In the `cgi_decode` function we have three if-conditions and one while loop, and they all compare characters. Fortunately, as we have already seen, we can treat characters like numbers, so we can use the same distance estimate we used in the `test_me` example. However, there are also two conditions which check whether a character is contained in a set, e.g. `digit_high in hex_values`. How close is a value to being contained in the set? An obvious solution would be to consider the distance to the closest value in the set as the estimate."
   ]
  },
  {
   "cell_type": "code",
   "execution_count": 131,
   "metadata": {},
   "outputs": [
    {
     "name": "stdout",
     "output_type": "stream",
     "text": [
      "2\n",
      "10\n"
     ]
    }
   ],
   "source": [
    "import sys\n",
    "\n",
    "def distance_character(target, values):\n",
    "    \n",
    "    # Initialize with very large value so that any comparison is better\n",
    "    minimum = sys.maxsize\n",
    "    \n",
    "    for elem in values:\n",
    "        distance = abs(target - elem)\n",
    "        if distance < minimum:\n",
    "            minimum = distance\n",
    "    return minimum\n",
    "\n",
    "print(distance_character(10, [1, 5, 12, 100]))\n",
    "print(distance_character(10, [0, 50, 80, 200]))\n"
   ]
  },
  {
   "cell_type": "markdown",
   "metadata": {},
   "source": [
    "A further simplification we have made so far was to assume that we would always want conditions to evaluate to true. In practice, we might want to have if-conditions evaluate to false just as well. Thus, each if-condition actually has two distance estimates, one to estimate how close it is to being true, and one how close it is to being false. If the condition is true, then the true distance is 0; if the condition is false, then the false distance is 0. That is, in a comparison `a == b`, if `a` is smaller than `b`, then the false distance of is `0` by definition. "
   ]
  },
  {
   "cell_type": "markdown",
   "metadata": {},
   "source": [
    "What is the distance of `a == b` being false when `a` equals `b`? Any change to either `a` or `b` would make the condition evaluate to false, so we can define the distance simply as 1 in this case."
   ]
  },
  {
   "cell_type": "markdown",
   "metadata": {},
   "source": [
    "More generally, there can be other types of comparisons, for example using relational operators. Consider the loop condition in `cgi_decode`: `i < len(s)`, i.e., it uses a less-than comparison operator. It is quite straight forward to extend our notion of branch distance to cover different types of comparisons, and to calculate true and false distances.  The following table shows how to calculate the distance for different types of comparisons:\n",
    "\n",
    "| Condition | Distance True | Distance False |\n",
    "| ------------- |:-------------:| -----:|\n",
    "| a == b      | abs(a - b) | 1 |\n",
    "| a != b      | 1          | abs(a - b) |\n",
    "| a < b       | b - a + 1  | a - b      |\n",
    "| a <= b      | b - a      | a - b + 1  |\n",
    "| a > b       | a - b + 1  | b - a      |\n",
    "\n",
    "\n",
    "Note that several of the calculations add a constant `1`. The reason for this is quite simple: Suppose we want to have `a < b` evaluate to true, and let `a = 27` and `b = 27`. The condition is not true, but simply taking the difference would give us a result of `0`. To avoid this, we have to add a constant value. It is not important whether this value is `1` -- any positive constant works."
   ]
  },
  {
   "cell_type": "markdown",
   "metadata": {},
   "source": [
    "### Dealing with Complex Conditions\n",
    "\n",
    "In the `cgi_decode` function, we can also find a somewhat more complex predicate which consists of two conditions joined by a logical `and`:\n",
    "\n",
    "`\n",
    "if digit_high in hex_values and digit_low in hex_values:\n",
    "`\n",
    "\n",
    "In principle, the branch distance is defined such that the distance to make a conjunction `A and B` true equals the sum of the branch distances for `A` and `B`, as both of the two conditions would need to be true. Similarly, the branch distance to make `A or B` true would be the minimum of the two branch distances of `A` and `B`, as it suffices if one of the two conditions is true to make the entire expression true. \n",
    "\n",
    "However, it is not as easy as that in practice: Predicates can consist of nested conditions and negations, and one would need to convert the expression to canonical form before being able to apply this calculation. Furthermore, most modern programming languages use *short-circuit evaluation*: If there is a condition `A or B`, and `A` is true, then `B` is never evaluated. If `B` is an expression with side-effects, then by calculating the branch distance of `B` even though short-circuit evaluation would avoid its execution, we would potentially be changing the program behavior (by invoking the side-effect that would in normal behavior not be executed), and that is not acceptable.\n",
    "\n",
    "\n",
    "Furthermore, what if the branching condition has side-effects? For example, suppose that the branching condition were `x == 2 * foo(y)`, where `foo` is a function that takes an integer as input. Naively instrumenting would lead to the following code:\n",
    "\n",
    "```\n",
    "    distance = abs(x - 2 * foo(y))\n",
    "\tif x == 2 * foo(y):\n",
    "\t...\n",
    "```\n",
    "\n",
    "Thus, the instrumentation would lead to `foo` being executed *twice*. Suppose `foo` changes the state of the system (e.g., by printing something, accessing the filesystem, changing some state variables, etc.), then clearly invoking `foo` a second time is a bad idea. One way to overcome this problem is to _transform_ the conditions, rather than _adding_ tracing calls. For example, one can create temporary variables that hold the values necessary for the distance calculation and then use these in the branching condition:\n",
    "\n",
    "```\n",
    "\ttmp1 = x\n",
    "\ttmp2 = 2 * foo(y)\n",
    "\tdistance = abs(tmp1 - tmp2)\n",
    "\tif tmp1 == tmp2:\n",
    "\t...\n",
    "```\n",
    "\n",
    "Besides these issues, the approach of adding a global variable and method call to the program seems like a rather clumsy approach --- surely we cannot start thinking about every branch in our program on its own and instrument the program we want to test manually, in particular if programs have multiple branches like the `cgi_decode` function. Rather, we should be looking at how to _automatically_ instrument programs to contain the necessary added statements such that we can calculate fitness values."
   ]
  },
  {
   "cell_type": "markdown",
   "metadata": {},
   "source": [
    "### Instrumentation for Atomic Conditions\n",
    "\n",
    "An alternative approach to using the global and temporary variables is to replace the actual comparison with a call to a helper function, where the original expressions are evaluated as arguments, and the operator is an additional argument. Assume we have a function `evaluate_condition` which takes four parameters: `num` is a unique id that identifies the condition; `op` is the operator of the comparison; `lhs` and `rhs` are the operands. The function calculates two distances for the condition: The distance to the condition evaluating to true, and the distance to the condition evaluating to false. One of the two outcomes will always be true, and thus one of them will always have distance `0`. Since the function replaces the original comparison, it returns true or false, depending on which distance is `0`. That means, the example expression \n",
    "\n",
    "```\n",
    "    if x == 2 * foo(y)\n",
    "```\n",
    "    \n",
    "would be replaced by \n",
    "\n",
    "```\n",
    "    if evaluate_condition(0, \"Eq\", x, 2 * foo(y))\n",
    "```\n",
    "\n",
    "such that the arguments are only evaluated once, and side-effects are thus handled correctly. Here is how the `evaluate_condition` function looks like:\n"
   ]
  },
  {
   "cell_type": "code",
   "execution_count": 28,
   "metadata": {},
   "outputs": [],
   "source": [
    "def evaluate_condition(num, op, lhs, rhs):\n",
    "    distance_true  = 0\n",
    "    distance_false = 0\n",
    "    if op == \"Eq\":\n",
    "        if lhs == rhs:\n",
    "            distance_false = 1\n",
    "        else:\n",
    "            distance_true = abs(lhs - rhs)\n",
    "\n",
    "    # ... code for other types of conditions\n",
    "    \n",
    "    if distance_true == 0:\n",
    "        return True\n",
    "    else:\n",
    "        return False"
   ]
  },
  {
   "cell_type": "markdown",
   "metadata": {},
   "source": [
    "Note that we are initializing `distance_true` and `distance_false` with `0`. Thus, if `lhs` equals `rhs`, then the variable `distance_true` remains 0, and vice versa."
   ]
  },
  {
   "cell_type": "code",
   "execution_count": 132,
   "metadata": {},
   "outputs": [
    {
     "data": {
      "text/plain": [
       "False"
      ]
     },
     "execution_count": 132,
     "metadata": {},
     "output_type": "execute_result"
    }
   ],
   "source": [
    "evaluate_condition(1, \"Eq\", 10, 20)"
   ]
  },
  {
   "cell_type": "code",
   "execution_count": 133,
   "metadata": {},
   "outputs": [
    {
     "data": {
      "text/plain": [
       "True"
      ]
     },
     "execution_count": 133,
     "metadata": {},
     "output_type": "execute_result"
    }
   ],
   "source": [
    "evaluate_condition(2, \"Eq\", 20, 20)"
   ]
  },
  {
   "cell_type": "markdown",
   "metadata": {},
   "source": [
    "What the `evaluate_condition` function does not yet do is store the distances observed. Obviously, we will need to store the values somewhere so that we can access it from our fitness function. Since the `cgi_decode` program consists of several conditions, and for each condition we might be interested in the true and the false distance, we simply use two global dictionaries, `distances_true` and `distances_false`, and define a helper function that stores the distance values observed in the dictionary:"
   ]
  },
  {
   "cell_type": "code",
   "execution_count": 134,
   "metadata": {},
   "outputs": [],
   "source": [
    "def update_maps(condition_num, d_true, d_false):\n",
    "    global distances_true, distances_false\n",
    "    \n",
    "    if condition_num in distances_true.keys():\n",
    "        distances_true[condition_num]  = min(distances_true[condition_num], d_true)\n",
    "    else:\n",
    "        distances_true[condition_num]  = d_true\n",
    "\n",
    "    if condition_num in distances_false.keys():\n",
    "        distances_false[condition_num] = min(distances_false[condition_num], d_false)\n",
    "    else:\n",
    "        distances_false[condition_num] = d_false\n"
   ]
  },
  {
   "cell_type": "markdown",
   "metadata": {},
   "source": [
    "The variable `condition_num` is the unique ID of the condition that we've just evaluated. If this is the first time that we have executed this particular condition, then the true and false distances are simply stored in the corresponding dictionaries. However, it is possible that the same test executions a condition multiple times. For example, the loop condition `i < len(s)` in the `cgi_decode` function is evaluated before every single loop iteration. In the end, however, we want to have a single fitness value for a test. As covering a branch just requires that at least one of the executions reaches the branch, we consider only the closest one. Therefore, if the `distances_true` and `distances_false` dictionaries already contain the distance from a previous execution, we only replace that value if the new execution was closer to reaching the branch; this is implemented using the `min` functions."
   ]
  },
  {
   "cell_type": "markdown",
   "metadata": {},
   "source": [
    "We now need to call this function from within `evaluate_condition`. Let's also add the calculation of distance for the `in` operator and the `<` comparison, since we need both of them for the `cgi_decode` example. Furthermore, `cgi_decode` actually compares characters and numbers. To make sure we use the correct types, we first have to convert the characters to numbers to calculate the distances. This is done using Python's `ord` function."
   ]
  },
  {
   "cell_type": "code",
   "execution_count": 203,
   "metadata": {},
   "outputs": [],
   "source": [
    "def evaluate_condition(num, op, lhs, rhs):\n",
    "    distance_true  = 0\n",
    "    distance_false = 0\n",
    "    \n",
    "    # Make sure the distance can be calculated on number and character comparisons\n",
    "    if type(lhs) == str:\n",
    "        lhs = ord(lhs)\n",
    "    if type(rhs) == str:\n",
    "        rhs = ord(rhs)\n",
    "    \n",
    "    if op == \"Eq\":\n",
    "        if lhs == rhs:\n",
    "            distance_false = 1\n",
    "        else:\n",
    "            distance_true = abs(lhs - rhs)\n",
    "\n",
    "    elif op == \"Lt\":\n",
    "        if lhs < rhs:\n",
    "            distance_false = rhs - lhs\n",
    "        else:\n",
    "            distance_true  = lhs - rhs + 1\n",
    "    # ...\n",
    "    # handle other comparison operators\n",
    "    # ...\n",
    "    \n",
    "    elif op == \"In\":\n",
    "        minimum = sys.maxsize\n",
    "        for elem in rhs.keys():\n",
    "            distance = abs(lhs - ord(elem))\n",
    "            if distance < minimum:\n",
    "                minimum = distance\n",
    "\n",
    "        distance_true = minimum\n",
    "        if distance_true == 0:\n",
    "            distance_false = 1\n",
    "\n",
    "    update_maps(num, distance_true, distance_false)\n",
    "            \n",
    "    if distance_true == 0:\n",
    "        return True\n",
    "    else:\n",
    "        return False"
   ]
  },
  {
   "cell_type": "markdown",
   "metadata": {},
   "source": [
    "The following shows the instrumentation of the conjunction from `cgi_decode` to make use of the `evaluate_condition` function. There are two calls to `evaluate_condition` corresponding to the two conditions, and the `and` with which they are conjoined ensures that the original short-circuiting behavior is preserved:\n",
    "\n",
    "`\n",
    "if (evaluate_condition(4, 'In', digit_high, hex_values) and evaluate_condition(5, 'In', digit_low, hex_values))\n",
    "`\n",
    "\n",
    "Of course we would like to automatically produce this instrumented varion."
   ]
  },
  {
   "cell_type": "markdown",
   "metadata": {},
   "source": [
    "### Instrumenting Source Code Automatically\n",
    "\n",
    "Replacing comparisons automatically is actually quite easy in Python, using the abstract syntax tree (AST) of the program. In the AST, a comparison will typically be a tree node with an operator attribute and two children for the left-hand and right-hand operators. To replace such comparisons with a call to `evaluate_condition` one simply needs to replace the comparison node in the AST with a function call node, and this is what the `BranchTransformer` class does using a NodeTransformer from Python's `ast` module:\n"
   ]
  },
  {
   "cell_type": "code",
   "execution_count": 150,
   "metadata": {},
   "outputs": [],
   "source": [
    "import ast\n",
    "\n",
    "class BranchTransformer(ast.NodeTransformer):\n",
    "\n",
    "    branch_num = 0\n",
    "\n",
    "    def visit_FunctionDef(self, node):\n",
    "        node.name = node.name + \"_instrumented\"\n",
    "        return self.generic_visit(node)\n",
    "    \n",
    "    def visit_Compare(self, node):\n",
    "        if node.ops[0] in [ast.Is, ast.IsNot, ast.In, ast.NotIn]:\n",
    "            return node\n",
    "\n",
    "        self.branch_num += 1\n",
    "        return ast.Call(func = ast.Name(\"evaluate_condition\", ast.Load()),\n",
    "                        args = [ast.Num(self.branch_num),\n",
    "                                ast.Str(node.ops[0].__class__.__name__),\n",
    "                                node.left,\n",
    "                                node.comparators[0]],\n",
    "                        keywords=[],\n",
    "                        starargs=None,\n",
    "                        kwargs=None)"
   ]
  },
  {
   "cell_type": "markdown",
   "metadata": {},
   "source": [
    "The `BranchTransformer` parses a target Python program using the built-in parser `ast.parse`, which returns the AST. Python provides API to traverse and modify this AST. To replace the comparison with a function call we use an `ast.NodeTransformer`, which uses the visitor pattern where there is one `visit_*` function for each type of node in the AST. As we are interested in replacing comparisons, we override `visit_Compare`, where instead of the original comparison node we return a new node of type `ast.Func`, which is a function call node. The first parameter of this node is the name of the function `evaluate_condition`, and the arguments are the four arguments that our `evaluate_condition` function expects: Number of branch (for which we keep a count in `branch_num`), the operator (for which we simply use the class name), the left-hand side, and the right-hand side. Note that Python allows comparisons of multiple expressions (e.g. `1 < x < 10`); to keep the code simple we only deal with individual comparisons here, but it would be straight forward to extend the code by treating each comparison with an individual call to `evaluate_condition`. You will notice that we also override `visit_FunctionDef`; this is just to change the name of the method by appending `_instrumented`, so that we can continue to use the original function together with the instrumented one."
   ]
  },
  {
   "cell_type": "markdown",
   "metadata": {},
   "source": [
    "The following code parses the source code of the `cgi_decode` function to an AST, then transforms it, and prints it out again (using the `to_source` function from the `astor` library):"
   ]
  },
  {
   "cell_type": "code",
   "execution_count": 151,
   "metadata": {},
   "outputs": [
    {
     "name": "stdout",
     "output_type": "stream",
     "text": [
      "def cgi_decode_instrumented(s):\n",
      "    \"\"\"Decode the CGI-encoded string `s`:\n",
      "       * replace \"+\" by \" \"\n",
      "       * replace \"%xx\" by the character with hex number xx.\n",
      "       Return the decoded string.  Raise `ValueError` for invalid inputs.\"\"\"\n",
      "    hex_values = {'0': 0, '1': 1, '2': 2, '3': 3, '4': 4, '5': 5, '6': 6,\n",
      "        '7': 7, '8': 8, '9': 9, 'a': 10, 'b': 11, 'c': 12, 'd': 13, 'e': 14,\n",
      "        'f': 15, 'A': 10, 'B': 11, 'C': 12, 'D': 13, 'E': 14, 'F': 15}\n",
      "    t = ''\n",
      "    i = 0\n",
      "    while evaluate_condition(1, 'Lt', i, len(s)):\n",
      "        c = s[i]\n",
      "        if evaluate_condition(2, 'Eq', c, '+'):\n",
      "            t += ' '\n",
      "        elif evaluate_condition(3, 'Eq', c, '%'):\n",
      "            digit_high, digit_low = s[i + 1], s[i + 2]\n",
      "            i += 2\n",
      "            if evaluate_condition(4, 'In', digit_high, hex_values\n",
      "                ) and evaluate_condition(5, 'In', digit_low, hex_values):\n",
      "                v = hex_values[digit_high] * 16 + hex_values[digit_low]\n",
      "                t += chr(v)\n",
      "            else:\n",
      "                raise ValueError('Invalid encoding')\n",
      "        else:\n",
      "            t += c\n",
      "        i += 1\n",
      "    return t\n",
      "\n"
     ]
    }
   ],
   "source": [
    "import inspect\n",
    "import ast\n",
    "from astor import to_source\n",
    "\n",
    "source = inspect.getsource(cgi_decode)\n",
    "node = ast.parse(source)\n",
    "BranchTransformer().visit(node)\n",
    "\n",
    "# Make sure the line numbers are ok before printing\n",
    "node = ast.fix_missing_locations(node)\n",
    "print(to_source(node))"
   ]
  },
  {
   "cell_type": "markdown",
   "metadata": {},
   "source": [
    "To calculate a fitness value with the instrumented version, we need to compile the instrumented AST again, which is done using Python's `compile` function. We then need to make the compiled function accessible, for which first retrieve the current module from `sys.modules`, and then add the compiled code of the instrumented function to the list of functions of the current module using `exec`. After this, the `cgi_decode_instrumented` function can be accessed."
   ]
  },
  {
   "cell_type": "code",
   "execution_count": 202,
   "metadata": {},
   "outputs": [
    {
     "name": "stdout",
     "output_type": "stream",
     "text": [
      "Original    : Hello Reader\n",
      "{}\n",
      "{}\n",
      "Instrumented: Hello Reader\n",
      "{1: 0, 2: 0, 3: 35}\n",
      "{1: 0, 2: 0, 3: 0}\n"
     ]
    }
   ],
   "source": [
    "def create_instrumented_function(f):\n",
    "    source = inspect.getsource(f)\n",
    "    node = ast.parse(source)\n",
    "    node = BranchTransformer().visit(node)\n",
    "\n",
    "    # Make sure the line numbers are ok so that it compiles\n",
    "    node = ast.fix_missing_locations(node)    \n",
    "\n",
    "    # Compile and add the instrumented function to the current module\n",
    "    current_module = sys.modules[__name__]\n",
    "    code = compile(node, filename=\"<ast>\", mode=\"exec\")    \n",
    "    exec(code, current_module.__dict__)    \n",
    "    \n",
    "# Set up the global maps\n",
    "distances_true = {}\n",
    "distances_false = {}\n",
    "\n",
    "# Create instrumented function\n",
    "#cgi_decode_instrumented = \n",
    "create_instrumented_function(cgi_decode)\n",
    "\n",
    "# Outputs should be the same\n",
    "print(\"Original    : %s\" % cgi_decode(\"Hello+Reader\"))\n",
    "print(distances_true)\n",
    "print(distances_false)\n",
    "\n",
    "print(\"Instrumented: %s\" % cgi_decode_instrumented(\"Hello+Reader\"))\n",
    "print(distances_true)\n",
    "print(distances_false)"
   ]
  },
  {
   "cell_type": "markdown",
   "metadata": {},
   "source": [
    "As we can see from the `distances_true` and `distances_false` maps, conditions 1 and 2 have evaluated to true and to false, whereas condition 3 has only evaluated to false, when executed on `cgi_decode_instrumented`. This is as expected, since the while-loop was entered and left, and there was one white space but no `%`-character in the input string."
   ]
  },
  {
   "cell_type": "markdown",
   "metadata": {},
   "source": [
    "### Fitness Function to Create Valid Hexadecimal Inputs\n",
    "\n",
    "As an example, let's take as objective to test the part of `cgi_decode` that decodes valid hexadecimal codes. This means that we want to make condition 1 true, 2 false, 3 true, and 4 true. To represent such a path, we can simply sum up the branch distances for exactly these branches. However, there is a potential issue with simply summing up branch distances: If the distance for one condition depends on a comparison of very large values and the distance calculation for another condition depends on small values, then an improvement of the large values would very likely lead to a better fitness improvement, and thus bias the search. To avoid this, we need to *normalize* branch distances before adding them up."
   ]
  },
  {
   "cell_type": "markdown",
   "metadata": {},
   "source": [
    "A normalisation function for a range `[a, b]` takes a number as input and returns a value that is `>=a` and `<=b`. The important thing about the function is that for any two numbers `x` and `y` the ordering needs to be preserved by the normalisation. That is, if `x<y` then it must also hold that `normalize(x) < normalize(y)`. There are many different functions that could achieve this result; a simple one is `normalize(x) = x/(x+k)`: It is computationally cheap, and will normalise any positive value in the range `[0,1]` (to change this to `[0,b]` one would just need to multiply by `b`). If we use this normalisation function, we also know the maximum value: it is `1.0`. The function assumes that the value to be normalised is positive. The value of the factor `k` defines the steepness of the curve. For example, for `k=1` (which is a good default value) the curve is very steep, with values quickly approaching, but never reaching, `1`."
   ]
  },
  {
   "cell_type": "code",
   "execution_count": 36,
   "metadata": {},
   "outputs": [],
   "source": [
    "def normalize(x):\n",
    "    return x/(1.0+x)"
   ]
  },
  {
   "cell_type": "markdown",
   "metadata": {},
   "source": [
    "To see how this normalisation function works, we can plot a range of values. The x-axis contains the original values, the y-axis shows the corresponding normalised value:"
   ]
  },
  {
   "cell_type": "code",
   "execution_count": 154,
   "metadata": {},
   "outputs": [
    {
     "data": {
      "image/png": "[encoded data removed]",
      "text/plain": [
       "<Figure size 432x288 with 1 Axes>"
      ]
     },
     "metadata": {
      "needs_background": "light"
     },
     "output_type": "display_data"
    }
   ],
   "source": [
    "import matplotlib.pyplot as plt\n",
    "fig = plt.figure()\n",
    "ax = plt.axes()\n",
    "\n",
    "x = range(100)\n",
    "y = [value/(value+1.0) for value in x]\n",
    "ax.plot(x, y);"
   ]
  },
  {
   "cell_type": "markdown",
   "metadata": {},
   "source": [
    "Using this normalization function, we can calculate a fitness value by running the instrumented program under test, and then adding up the normalized values of the relevant branches. However, not every if statement will be executed by every test case. What is the branch distance for a branch that wasn't even executed? We need to make sure that the branch distance for branches that weren't even executed is higher than any of the branch distances observed during execution. Given our normalization, we know this maximum value is 1. Thus, the fitness function could look like this:"
   ]
  },
  {
   "cell_type": "code",
   "execution_count": 204,
   "metadata": {},
   "outputs": [],
   "source": [
    "def get_fitness(x):\n",
    "    \n",
    "    # Reset any distance values from previous executions\n",
    "    global distances_true, distances_false\n",
    "    distances_true = {}\n",
    "    distances_false = {}\n",
    "    \n",
    "    # Run the function under test\n",
    "    try:\n",
    "        cgi_decode_instrumented(x)\n",
    "    except:\n",
    "        pass\n",
    "    \n",
    "    # Sum up branch distances\n",
    "    fitness = 0.0\n",
    "    for branch in [1,3,4,5]:\n",
    "        if branch in distances_true:\n",
    "            fitness += normalize(distances_true[branch])\n",
    "        else:\n",
    "            fitness += 1.0\n",
    "                                 \n",
    "    for branch in [2]:\n",
    "        if branch in distances_false:\n",
    "            fitness += normalize(distances_false[branch])\n",
    "        else:\n",
    "            fitness += 1.0\n",
    "    \n",
    "    return fitness"
   ]
  },
  {
   "cell_type": "markdown",
   "metadata": {},
   "source": [
    "To see our instrumentation in action, let's calculate fitness values for a couple of example inputs, progressively getting closer to the target."
   ]
  },
  {
   "cell_type": "code",
   "execution_count": 205,
   "metadata": {},
   "outputs": [
    {
     "name": "stdout",
     "output_type": "stream",
     "text": [
      "4.5\n",
      "2.9722222222222223\n",
      "1.9230769230769231\n",
      "0.9230769230769231\n",
      "0.0\n"
     ]
    }
   ],
   "source": [
    "# Empty string does not even enter the loop\n",
    "print(get_fitness(\"\"))\n",
    "\n",
    "# String contains no percentage character\n",
    "print(get_fitness(\"Hello+Reader\"))\n",
    "\n",
    "# String contains a percentage character, but no valid hex char\n",
    "print(get_fitness(\"%UU\"))\n",
    "\n",
    "# String contains a percentage character, but only one valid hex char\n",
    "print(get_fitness(\"%AU\"))\n",
    "\n",
    "# String contains a percentage character and two valid hex chars\n",
    "print(get_fitness(\"%AA\"))"
   ]
  },
  {
   "cell_type": "markdown",
   "metadata": {},
   "source": [
    "### Hillclimbing Valid Hexadecimal Inputs\n",
    "\n",
    "We have now defined the search space through our `neighbour_strings` function, and we have derived a new fitness function, so before we can apply the hillclimber to the problem of finding strings that contain valid 2-digit hex codes, the only remaining point is to derive a random starting point, which you've already done previously in the [MutationFuzzer chapter](MutationFuzzer.ipynb):"
   ]
  },
  {
   "cell_type": "code",
   "execution_count": 158,
   "metadata": {},
   "outputs": [],
   "source": [
    "def random_string(l):\n",
    "    s = \"\"\n",
    "    for i in range(l):\n",
    "        random_character = chr(random.randrange(32, 127))\n",
    "        s = s + random_character\n",
    "    return s"
   ]
  },
  {
   "cell_type": "markdown",
   "metadata": {},
   "source": [
    "Now we can put it all together and use the identical hillclimbing algorithm again, and just make it generate random strings instead of numbers, and use the new fitness function:"
   ]
  },
  {
   "cell_type": "code",
   "execution_count": 160,
   "metadata": {},
   "outputs": [
    {
     "name": "stdout",
     "output_type": "stream",
     "text": [
      "Initial input: 42I] j9Y\"\\ at fitness 2.7500\n",
      "New value: 42I] j9Y#\\ at fitness 2.6667\n",
      "New value: 42I] j9Y$\\ at fitness 2.5000\n",
      "New value: 42I] j9Y%\\ at fitness 2.0000\n",
      "New value: XJ\"qb<im6? at fitness 2.7500\n",
      "New value: XJ#qb<im6? at fitness 2.6667\n",
      "New value: XJ$qb<im6? at fitness 2.5000\n",
      "New value: XJ%qb<im6? at fitness 1.9167\n",
      "New value: XJ%pb<im6? at fitness 1.9091\n",
      "New value: XJ%ob<im6? at fitness 1.9000\n",
      "New value: XJ%nb<im6? at fitness 1.8889\n",
      "New value: XJ%mb<im6? at fitness 1.8750\n",
      "New value: XJ%lb<im6? at fitness 1.8571\n",
      "New value: XJ%kb<im6? at fitness 1.8333\n",
      "New value: XJ%jb<im6? at fitness 1.8000\n",
      "New value: XJ%ib<im6? at fitness 1.7500\n",
      "New value: XJ%hb<im6? at fitness 1.6667\n",
      "New value: XJ%gb<im6? at fitness 1.5000\n",
      "New value: XJ%fb<im6? at fitness 0.0000\n",
      "Optimum at XJ%fb<im6?, fitness 0.0000\n"
     ]
    }
   ],
   "source": [
    "def hillclimb_cgi():\n",
    "    x = random_string(10)\n",
    "    fitness = get_fitness(x)\n",
    "    print(\"Initial input: %s at fitness %.4f\" %(x, fitness))                \n",
    "\n",
    "    while fitness > 0:\n",
    "        changed = False\n",
    "        for (nextx) in neighbour_strings(x):\n",
    "            new_fitness = get_fitness(nextx)\n",
    "            if new_fitness < fitness:\n",
    "                x = nextx\n",
    "                fitness = new_fitness\n",
    "                changed = True\n",
    "                print(\"New value: %s at fitness %.4f\" %(x, fitness))                \n",
    "                break\n",
    "\n",
    "        # Random restart if necessary\n",
    "        if not changed:\n",
    "            x = random_string(10)\n",
    "            fitness = get_fitness(x)\n",
    "\n",
    "    print(\"Optimum at %s, fitness %.4f\" % (x, fitness))\n",
    "    \n",
    "hillclimb_cgi()"
   ]
  },
  {
   "cell_type": "markdown",
   "metadata": {},
   "source": [
    "Run the hillclimber a couple of times to see it generate strings with valid hex characters. Sometimes it only takes a couple of steps, sometimes it takes longer, but at the end it always solves the problem and generates the string we want to have."
   ]
  },
  {
   "cell_type": "markdown",
   "metadata": {
    "button": false,
    "new_sheet": false,
    "run_control": {
     "read_only": false
    },
    "slideshow": {
     "slide_type": "subslide"
    }
   },
   "source": [
    "## Evolutionary Search\n",
    "\n",
    "Hillclimbing works well, if the neighbourhood is reasonably small. This was the case so far in the `cgi_decode` example because we limited ourselves to a fixed number of characters (10) and limited the character range to printable ASCII characters. But imagine what happens if we are not looking for ASCII characters, but  UTF-16 unicode characters? These are not allowed in URLs really, but let's see what happens if we change our search space:"
   ]
  },
  {
   "cell_type": "code",
   "execution_count": 162,
   "metadata": {},
   "outputs": [],
   "source": [
    "def random_unicode_string(l):\n",
    "    s = \"\"\n",
    "    for i in range(l):\n",
    "        # Limits to reflect range of UTF-16\n",
    "        random_character = chr(random.randrange(0, 65536))\n",
    "        s = s + random_character\n",
    "    return s\n",
    "\n",
    "def unicode_string_neighbours(x):\n",
    "    n = []\n",
    "    for pos in range(len(x)):\n",
    "      c = ord(x[pos])\n",
    "      # Limits to reflect range of UTF-16\n",
    "      if c < 65536:\n",
    "        n += [ x[:pos] + chr(c + 1) + x[pos + 1:] ]\n",
    "      if c > 0:\n",
    "        n += [ x[:pos] + chr(c - 1) + x[pos + 1:] ]\n",
    "\n",
    "    return n"
   ]
  },
  {
   "cell_type": "markdown",
   "metadata": {},
   "source": [
    "UTF-8 characters are represented with 16 bits, and this gives us a range of 65536 possible characters. The functions above are adapted to these boundaries. Before we run the hillclimber again, let's make one more change: We will add an iteration limit so that we can give up the search, rather than waiting forever for it to complete."
   ]
  },
  {
   "cell_type": "code",
   "execution_count": 206,
   "metadata": {},
   "outputs": [
    {
     "name": "stdout",
     "output_type": "stream",
     "text": [
      "Initial input: ᒛ✢쾲㲶儷䙧䕛冶 at fitness 2.9998\n",
      "New value: ᒚ✢쾲㲶儷䙧䕛冶 at fitness 2.9998\n",
      "New value: ᒙ✢쾲㲶儷䙧䕛冶 at fitness 2.9998\n",
      "New value: ᒘ✢쾲㲶儷䙧䕛冶 at fitness 2.9998\n",
      "New value: ᒗ✢쾲㲶儷䙧䕛冶 at fitness 2.9998\n",
      "New value: ᒖ✢쾲㲶儷䙧䕛冶 at fitness 2.9998\n",
      "New value: ᒕ✢쾲㲶儷䙧䕛冶 at fitness 2.9998\n",
      "New value: ᒔ✢쾲㲶儷䙧䕛冶 at fitness 2.9998\n",
      "New value: ᒓ✢쾲㲶儷䙧䕛冶 at fitness 2.9998\n",
      "New value: ᒒ✢쾲㲶儷䙧䕛冶 at fitness 2.9998\n",
      "New value: ᒑ✢쾲㲶儷䙧䕛冶 at fitness 2.9998\n",
      "New value: ᒐ✢쾲㲶儷䙧䕛冶 at fitness 2.9998\n",
      "New value: ᒏ✢쾲㲶儷䙧䕛冶 at fitness 2.9998\n",
      "New value: ᒎ✢쾲㲶儷䙧䕛冶 at fitness 2.9998\n",
      "New value: ᒍ✢쾲㲶儷䙧䕛冶 at fitness 2.9998\n",
      "New value: ᒌ✢쾲㲶儷䙧䕛冶 at fitness 2.9998\n",
      "New value: ᒋ✢쾲㲶儷䙧䕛冶 at fitness 2.9998\n",
      "New value: ᒊ✢쾲㲶儷䙧䕛冶 at fitness 2.9998\n",
      "New value: ᒉ✢쾲㲶儷䙧䕛冶 at fitness 2.9998\n",
      "New value: ᒈ✢쾲㲶儷䙧䕛冶 at fitness 2.9998\n",
      "New value: ᒇ✢쾲㲶儷䙧䕛冶 at fitness 2.9998\n",
      "New value: ᒆ✢쾲㲶儷䙧䕛冶 at fitness 2.9998\n",
      "New value: ᒅ✢쾲㲶儷䙧䕛冶 at fitness 2.9998\n",
      "New value: ᒄ✢쾲㲶儷䙧䕛冶 at fitness 2.9998\n",
      "New value: ᒃ✢쾲㲶儷䙧䕛冶 at fitness 2.9998\n",
      "New value: ᒂ✢쾲㲶儷䙧䕛冶 at fitness 2.9998\n",
      "New value: ᒁ✢쾲㲶儷䙧䕛冶 at fitness 2.9998\n",
      "New value: ᒀ✢쾲㲶儷䙧䕛冶 at fitness 2.9998\n",
      "New value: ᑿ✢쾲㲶儷䙧䕛冶 at fitness 2.9998\n",
      "New value: ᑾ✢쾲㲶儷䙧䕛冶 at fitness 2.9998\n",
      "New value: ᑽ✢쾲㲶儷䙧䕛冶 at fitness 2.9998\n",
      "New value: ᑼ✢쾲㲶儷䙧䕛冶 at fitness 2.9998\n",
      "New value: ᑻ✢쾲㲶儷䙧䕛冶 at fitness 2.9998\n",
      "New value: ᑺ✢쾲㲶儷䙧䕛冶 at fitness 2.9998\n",
      "New value: ᑹ✢쾲㲶儷䙧䕛冶 at fitness 2.9998\n",
      "New value: ᑸ✢쾲㲶儷䙧䕛冶 at fitness 2.9998\n",
      "New value: ᑷ✢쾲㲶儷䙧䕛冶 at fitness 2.9998\n",
      "New value: ᑶ✢쾲㲶儷䙧䕛冶 at fitness 2.9998\n",
      "New value: ᑵ✢쾲㲶儷䙧䕛冶 at fitness 2.9998\n",
      "New value: ᑴ✢쾲㲶儷䙧䕛冶 at fitness 2.9998\n",
      "New value: ᑳ✢쾲㲶儷䙧䕛冶 at fitness 2.9998\n",
      "New value: ᑲ✢쾲㲶儷䙧䕛冶 at fitness 2.9998\n",
      "New value: ᑱ✢쾲㲶儷䙧䕛冶 at fitness 2.9998\n",
      "New value: ᑰ✢쾲㲶儷䙧䕛冶 at fitness 2.9998\n",
      "New value: ᑯ✢쾲㲶儷䙧䕛冶 at fitness 2.9998\n",
      "New value: ᑮ✢쾲㲶儷䙧䕛冶 at fitness 2.9998\n",
      "New value: ᑭ✢쾲㲶儷䙧䕛冶 at fitness 2.9998\n",
      "New value: ᑬ✢쾲㲶儷䙧䕛冶 at fitness 2.9998\n",
      "New value: ᑫ✢쾲㲶儷䙧䕛冶 at fitness 2.9998\n",
      "New value: ᑪ✢쾲㲶儷䙧䕛冶 at fitness 2.9998\n",
      "New value: ᑩ✢쾲㲶儷䙧䕛冶 at fitness 2.9998\n",
      "New value: ᑨ✢쾲㲶儷䙧䕛冶 at fitness 2.9998\n",
      "New value: ᑧ✢쾲㲶儷䙧䕛冶 at fitness 2.9998\n",
      "New value: ᑦ✢쾲㲶儷䙧䕛冶 at fitness 2.9998\n",
      "New value: ᑥ✢쾲㲶儷䙧䕛冶 at fitness 2.9998\n",
      "New value: ᑤ✢쾲㲶儷䙧䕛冶 at fitness 2.9998\n",
      "New value: ᑣ✢쾲㲶儷䙧䕛冶 at fitness 2.9998\n",
      "New value: ᑢ✢쾲㲶儷䙧䕛冶 at fitness 2.9998\n",
      "New value: ᑡ✢쾲㲶儷䙧䕛冶 at fitness 2.9998\n",
      "New value: ᑠ✢쾲㲶儷䙧䕛冶 at fitness 2.9998\n",
      "New value: ᑟ✢쾲㲶儷䙧䕛冶 at fitness 2.9998\n",
      "New value: ᑞ✢쾲㲶儷䙧䕛冶 at fitness 2.9998\n",
      "New value: ᑝ✢쾲㲶儷䙧䕛冶 at fitness 2.9998\n",
      "New value: ᑜ✢쾲㲶儷䙧䕛冶 at fitness 2.9998\n",
      "New value: ᑛ✢쾲㲶儷䙧䕛冶 at fitness 2.9998\n",
      "New value: ᑚ✢쾲㲶儷䙧䕛冶 at fitness 2.9998\n",
      "New value: ᑙ✢쾲㲶儷䙧䕛冶 at fitness 2.9998\n",
      "New value: ᑘ✢쾲㲶儷䙧䕛冶 at fitness 2.9998\n",
      "New value: ᑗ✢쾲㲶儷䙧䕛冶 at fitness 2.9998\n",
      "New value: ᑖ✢쾲㲶儷䙧䕛冶 at fitness 2.9998\n",
      "New value: ᑕ✢쾲㲶儷䙧䕛冶 at fitness 2.9998\n",
      "New value: ᑔ✢쾲㲶儷䙧䕛冶 at fitness 2.9998\n",
      "New value: ᑓ✢쾲㲶儷䙧䕛冶 at fitness 2.9998\n",
      "New value: ᑒ✢쾲㲶儷䙧䕛冶 at fitness 2.9998\n",
      "New value: ᑑ✢쾲㲶儷䙧䕛冶 at fitness 2.9998\n",
      "New value: ᑐ✢쾲㲶儷䙧䕛冶 at fitness 2.9998\n",
      "New value: ᑏ✢쾲㲶儷䙧䕛冶 at fitness 2.9998\n",
      "New value: ᑎ✢쾲㲶儷䙧䕛冶 at fitness 2.9998\n",
      "New value: ᑍ✢쾲㲶儷䙧䕛冶 at fitness 2.9998\n",
      "New value: ᑌ✢쾲㲶儷䙧䕛冶 at fitness 2.9998\n",
      "New value: ᑋ✢쾲㲶儷䙧䕛冶 at fitness 2.9998\n",
      "New value: ᑊ✢쾲㲶儷䙧䕛冶 at fitness 2.9998\n",
      "New value: ᑉ✢쾲㲶儷䙧䕛冶 at fitness 2.9998\n",
      "New value: ᑈ✢쾲㲶儷䙧䕛冶 at fitness 2.9998\n",
      "New value: ᑇ✢쾲㲶儷䙧䕛冶 at fitness 2.9998\n",
      "New value: ᑆ✢쾲㲶儷䙧䕛冶 at fitness 2.9998\n",
      "New value: ᑅ✢쾲㲶儷䙧䕛冶 at fitness 2.9998\n",
      "New value: ᑄ✢쾲㲶儷䙧䕛冶 at fitness 2.9998\n",
      "New value: ᑃ✢쾲㲶儷䙧䕛冶 at fitness 2.9998\n",
      "New value: ᑂ✢쾲㲶儷䙧䕛冶 at fitness 2.9998\n",
      "New value: ᑁ✢쾲㲶儷䙧䕛冶 at fitness 2.9998\n",
      "New value: ᑀ✢쾲㲶儷䙧䕛冶 at fitness 2.9998\n",
      "New value: ᐿ✢쾲㲶儷䙧䕛冶 at fitness 2.9998\n",
      "New value: ᐾ✢쾲㲶儷䙧䕛冶 at fitness 2.9998\n",
      "New value: ᐽ✢쾲㲶儷䙧䕛冶 at fitness 2.9998\n",
      "New value: ᐼ✢쾲㲶儷䙧䕛冶 at fitness 2.9998\n",
      "New value: ᐻ✢쾲㲶儷䙧䕛冶 at fitness 2.9998\n",
      "New value: ᐺ✢쾲㲶儷䙧䕛冶 at fitness 2.9998\n",
      "New value: ᐹ✢쾲㲶儷䙧䕛冶 at fitness 2.9998\n",
      "New value: ᐸ✢쾲㲶儷䙧䕛冶 at fitness 2.9998\n",
      "New value: ᐷ✢쾲㲶儷䙧䕛冶 at fitness 2.9998\n",
      "Optimum at ᐷ✢쾲㲶儷䙧䕛冶, fitness 2.9998\n"
     ]
    }
   ],
   "source": [
    "# This takes a loooooooong time\n",
    "# You can either believe us, or try uncommenting it and wait.\n",
    "\n",
    "def hillclimb_cgi_limited(max_iterations):\n",
    "    x = random_unicode_string(10)\n",
    "    fitness = get_fitness(x)\n",
    "    print(\"Initial input: %s at fitness %.4f\" %(x.encode('utf-8', 'replace').decode('utf-8'), fitness))                \n",
    "\n",
    "    iteration = 0\n",
    "    while fitness > 0 and iteration < max_iterations:\n",
    "        changed = False\n",
    "        for (nextx) in unicode_string_neighbours(x):\n",
    "            new_fitness = get_fitness(nextx)\n",
    "            if new_fitness < fitness:\n",
    "                x = nextx\n",
    "                fitness = new_fitness\n",
    "                changed = True\n",
    "                print(\"New value: %s at fitness %.4f\" %(x.encode('utf-8', 'replace').decode('utf-8'), fitness))                \n",
    "                break\n",
    "\n",
    "        # Random restart if necessary\n",
    "        if not changed:\n",
    "            x = random_string(10)\n",
    "            fitness = get_fitness(x)\n",
    "        iteration += 1\n",
    "\n",
    "    print(\"Optimum at %s, fitness %.4f\" % (x.encode('utf-8', 'replace').decode('utf-8'), fitness))\n",
    "    \n",
    "hillclimb_cgi_limited(100)\n"
   ]
  },
  {
   "cell_type": "markdown",
   "metadata": {},
   "source": [
    "You can play around with the iteration limit and see how long it takes to find a solution in this search space. Unless you are lucky with the random starting point, this usually takes really unreasonably long."
   ]
  },
  {
   "cell_type": "markdown",
   "metadata": {},
   "source": [
    "### Global Search\n",
    "\n",
    "The hillclimber explores the local neighbourhood of an individual in each step of the search, and if the neighbourhood is too large, then this takes too long. An alternative strategy is to not restrict the search to the local neighbourhood, but to search the search space *globally*. That is, the search algorithm is allowed to make larger steps around the search space. A simple modification of the hillclimber converts it from a local to a global search algorithm: Instead of looking at all the immediate neighbours, the individual is *mutated* in a way that allows larger modifications."
   ]
  },
  {
   "cell_type": "markdown",
   "metadata": {},
   "source": [
    "A *mutation* is a change that represents such a larger step around the search space. An important decision when implementing a mutation is that it should, theoretically, be possible to reach any point in the search space simply by applying mutation successively. However, mutation usually should not completely replace an individual with a random one. It is important for the search to be effective that the mutation constitutes a reasonable change to an individual that still maintains most of its traits. For our search problem of 10-character strings, a possible mutation would be to replace only _1_ out of the 10 characters, as follows:"
   ]
  },
  {
   "cell_type": "code",
   "execution_count": 207,
   "metadata": {},
   "outputs": [],
   "source": [
    "def flip_random_character(s):\n",
    "    pos = random.randint(0, len(s) - 1)\n",
    "    new_c = chr(random.randrange(0, 65536))\n",
    "    return s[:pos] + new_c + s[pos + 1:]"
   ]
  },
  {
   "cell_type": "markdown",
   "metadata": {},
   "source": [
    "A simple modification of the hillclimber is to replace the exploration of the neighbourhood with mutations. In each iteration, the current individual is mutated. The resulting offspring individual is compared to its parent, and the better of the two is the new point in the search space, and used for the next iteration of mutation. This is called \"randomized hillclimbing\"."
   ]
  },
  {
   "cell_type": "code",
   "execution_count": 209,
   "metadata": {},
   "outputs": [
    {
     "name": "stdout",
     "output_type": "stream",
     "text": [
      "Initial value: 袍⿊쎜脊猴撏憎薯 at fitness 2.9999\n",
      "Optimum at 绸덯楏ዓ%bA涽ꘁ after 122437 iterations\n"
     ]
    }
   ],
   "source": [
    "def randomized_hillclimb():\n",
    "    x = random_unicode_string(10)\n",
    "    fitness = get_fitness(x)    \n",
    "    print(\"Initial value: %s at fitness %.4f\" % (x.encode('utf-8', 'replace').decode('utf-8'), fitness))\n",
    "\n",
    "    iterations = 0\n",
    "    while fitness > 0:\n",
    "        mutated = flip_random_character(x)\n",
    "        new_fitness = get_fitness(mutated)\n",
    "        if new_fitness <= fitness:\n",
    "            x = mutated\n",
    "            fitness = new_fitness\n",
    "            #print(\"New value: %s at fitness %.4f\" %(x, fitness))\n",
    "        iterations += 1\n",
    "\n",
    "    print(\"Optimum at %s after %d iterations\" % (x.encode('utf-8', 'replace').decode('utf-8'), iterations))\n",
    "    \n",
    "randomized_hillclimb()"
   ]
  },
  {
   "cell_type": "markdown",
   "metadata": {},
   "source": [
    "This algorithm usually finds the solution quicker than the standard hillclimber, although it is still rather slow! \n",
    "\n",
    "There is one subtle, but crucial, change between the hillclimber and the randomized version that is worth pointing out: Note the comparison `new_fitness <= fitness`, whereas in the hillclimber we used `new_fitness < fitness`. This is important because the search landscape may have areas with equal fitness values (plateaus) which we somehow need to overcome. In the standard hillcimber we did this with random restarts. If the randomized hillclimber would reject offspring with identical fitness, it would keep mutating the identical individual, and possibly struggle to escape the plateau. If we replace also with equal fitness, we allow the search to move around the plateau, increasing chances of escaping it eventually.\n"
   ]
  },
  {
   "cell_type": "markdown",
   "metadata": {},
   "source": [
    "The randomized hillclimber is also known as *1+1 Evolutionary Algorithm* (*(1+1)EA*). An evolutionary algorithm is a meta-heuristic search algorithm that tries to mimic the natural processes of evolution. Natural evolution is based\n",
    "on populations where environmental pressure causes natural selection: Only the fittest survive, while those that are not fit enough will die, and thus the overall fitness of the population gradually improves. The (1+1)EA is a very specific evolutionary algorithm with a population size of 1, which produces exactly 1 offspring. However, the most common search algorithm in practice is a genetic algorithm."
   ]
  },
  {
   "cell_type": "markdown",
   "metadata": {},
   "source": [
    "### Genetic Algorithms\n",
    "\n",
    "One of the best known evolutionary algorithms is the *Genetic Algorithm* (GA). A GA is based on the idea that problem solutions can be genetically encoded: A chromosome consists of a sequence of genes, where each gene encodes one trait of the individual (e.g., eye colour, hair colour, etc.). A fitness function can take the information contained in this description, the so called genotype, and evaluates the properties of the resulting phenotype, i.e., the actual solution represented by this genetic encoding. The fitness value of an individual is measured on the phenotype."
   ]
  },
  {
   "cell_type": "markdown",
   "metadata": {},
   "source": [
    "For our `cgi_decode` example, we could consider individual characters to be the genes, and then a chromosome is a sequences of characters. In other words, the genetic encoding is exactly what we already used so far! However, for the GA the representation requires different operations than the enumeration of the neighbourhood."
   ]
  },
  {
   "cell_type": "markdown",
   "metadata": {},
   "source": [
    "The GA emulates natural evolution with the following process:\n",
    "\n",
    "- Create an initial population of random chromosomes\n",
    "- Select fit individuals for reproduction\n",
    "- Generate new population through reproduction of selected individuals\n",
    "- Continue doing so until an optimal solution has been found, or some other limit has been reached.\n",
    "\n",
    "The first step, creating an initial population, is trivial:"
   ]
  },
  {
   "cell_type": "code",
   "execution_count": 189,
   "metadata": {},
   "outputs": [],
   "source": [
    "def create_population(size):\n",
    "    return [random_unicode_string(10) for i in range(size)]"
   ]
  },
  {
   "cell_type": "code",
   "execution_count": 167,
   "metadata": {},
   "outputs": [
    {
     "data": {
      "text/plain": [
       "['䶁悪\\uf023踭蜖ﰙ腘\\uec20롳䝬',\n",
       " '똴뺶溚믐燄䓲굅\\ue9a0쏺\\ue067',\n",
       " '勢偿㬗곴微훞䊩ưᥗ⇫',\n",
       " '\\ufd49ℙ撟䍝⨎昀賠ⵑꃿl',\n",
       " '膘Ｒ혧⌠ꚢ笵⩮⮎燖涮',\n",
       " 'Ⲣ拉ꬹ㍝炖\\uf2f6\\ue370\\uf013䈄\\ue6ba',\n",
       " '皈沦꙽༠ᢎ늈⌫㎈㣋呷',\n",
       " '퐨㧘\\ue14bǽ餯\\ue2e6\\uef66䱯ጾ瓫',\n",
       " '咠掸湲団琉眵겺䂯⍀듵',\n",
       " 'േ\\u2028\\uef3f垿璇Ἐ\\uda7d\\ue26b첵埜']"
      ]
     },
     "execution_count": 167,
     "metadata": {},
     "output_type": "execute_result"
    }
   ],
   "source": [
    "create_population(10)"
   ]
  },
  {
   "cell_type": "markdown",
   "metadata": {},
   "source": [
    "The selection process prefers fitter individuals, therefore we need to determine the fitness values for all the individuals in our population. As we are going to need the fitness value for each individual at several places in the algorithm, we are going to store it by making fitness a list of _tuples_, each tuple consisting of an individual and its fitness value."
   ]
  },
  {
   "cell_type": "code",
   "execution_count": 48,
   "metadata": {},
   "outputs": [],
   "source": [
    "def evaluate_population(population):\n",
    "    fitness = [get_fitness(x) for x in population]\n",
    "    return list(zip(population, fitness))\n"
   ]
  },
  {
   "cell_type": "code",
   "execution_count": 168,
   "metadata": {},
   "outputs": [
    {
     "name": "stdout",
     "output_type": "stream",
     "text": [
      "湺왨?虑ᣪⱣﳄ鶨쯆: 2.9998\n",
      "ᩣѕ㥟칕聯藺픳婻聅퍜: 2.9991\n",
      "瑗팍㸊鹔냍埑턻稼鷊: 2.9999\n",
      "䃏䛈꣯乖遶甉螺ຮ긩: 2.9997\n",
      "?麗뤲㒮쭊香횛瓒뷡橑: 2.9999\n",
      "ᥞ䢊㋜㟕་퉭獭嫝執: 2.9997\n",
      "鎁㣬⭃ᴸ㖊㹫岍៏쨱쎥: 2.9998\n",
      "⽴㟐癓⿇㬃㠃⵾둮䊿: 2.9999\n",
      "視쎓ꐚכֿ〵嵞搇꾎维: 2.9999\n",
      "䈳㖘ᚥ벒᤭؆?ﭥ쮖: 2.9993\n"
     ]
    }
   ],
   "source": [
    "population = create_population(10)\n",
    "for (individual, fitness) in evaluate_population(population):\n",
    "    print(\"%s: %.4f\" % (individual.encode('utf-8', 'replace').decode('utf-8'), fitness))"
   ]
  },
  {
   "cell_type": "markdown",
   "metadata": {},
   "source": [
    "The use of a fitness value in the search is typically explained using \"survival of the fittest\", but one of Darwin’s key insights on evolution was that selection is not only defined by survival -- individuals reproduce sexually, and sexual selection describes the selection pressure during reproduction. This selection is typically influenced by either combat: rivalling males fighting over a female, and the stronger (fitter) male wins; the selection is also influenced by display. Darwin’s example for this is the peacock: The peacock has long, beautiful tail feathers that appear to serve no purpose, and do not seem to support the concept of natural selection. However, peahens are influenced in their selection of a sexual partner by his appearance. Impressive ornaments suggest that a male is genetically particularly healthy and will lead to healthy offspring. This is reflected in a GA: The better the fitness value an individual, the more likely it is to mate with another individual. A simple selection algorithm that reflects this concept is *tournament selection*: A small number of randomly chosen individual compete to be selected, and the best is selected:"
   ]
  },
  {
   "cell_type": "code",
   "execution_count": 169,
   "metadata": {},
   "outputs": [],
   "source": [
    "def selection(evaluated_population, tournament_size):\n",
    "    competition = random.sample(evaluated_population, tournament_size)    \n",
    "    winner = min(competition, key=lambda individual: individual[1])[0]\n",
    "\n",
    "    # Return a copy of the selected individual\n",
    "    return winner[:]\n"
   ]
  },
  {
   "cell_type": "markdown",
   "metadata": {},
   "source": [
    "The `tournament_size` parameter specifies how many randomly selected individuals out of the population participate in the tournament. This is an important choice as it determines *selective pressure*: The larger the tournament size, the larger the probability of very good individuals being included in the tournament. This, in turn, increases the probability of these very good individuals of dominating the next generation, thus reducing the diversity and leading to premature convergence. In contrast, if the tournament size is too small, then this inhibits evolution. The best value for the tournament size depends on the population size, but usually it is fairly small (e.g. 5). Let's run a tournament using all individuals of an example population to see that the best one is selected:"
   ]
  },
  {
   "cell_type": "code",
   "execution_count": 190,
   "metadata": {},
   "outputs": [
    {
     "name": "stdout",
     "output_type": "stream",
     "text": [
      "ူ⫍쪺맇⹜ଲ㹴: 2.9996\n",
      "ꁀ칫총퍓㠅뎝葢抯㺚㟯: 2.9999\n",
      "ꋜ剧剨孽˶핁쇢⯪: 2.9986\n",
      "醼ꭅ칮拓ךּᳲ: 2.9999\n",
      "澧᫺ᩫ剣쫻⵨켵ᷫ炶둅: 2.9999\n",
      "碤삳⹶ᙿ똃韬惡: 2.9998\n",
      "錐ﲅ㳴百싇ꀪ쨬賩: 2.9999\n",
      "₶䡌?숊⌧ᩪ␋⒴踄?: 2.9999\n",
      "໑곟厣஑쨄䩩쭻궇䁂珚: 2.9997\n",
      "녠苬匳절㥨╲ﵲ: 2.9999\n",
      "Winner: ꋜ剧剨孽˶핁쇢⯪\n"
     ]
    }
   ],
   "source": [
    "population = create_population(10)\n",
    "fitness = evaluate_population(population)\n",
    "selected = selection(fitness, 10)\n",
    "\n",
    "for (individual, fitness_value) in fitness:\n",
    "    print(\"%s: %.4f\" % (individual.encode('utf-8', 'replace').decode('utf-8'), fitness_value))\n",
    "\n",
    "print(\"Winner: %s\" % selected.encode('utf-8', 'replace').decode('utf-8'))"
   ]
  },
  {
   "cell_type": "markdown",
   "metadata": {},
   "source": [
    "Like in natural evolution, the individuals selected based on their fitness reproduce, to form a new generation. During this reproduction, like in natural reproduction, genetic material of the selected parents is combined. This is typically done by a process known as *crossover*, where an offspring chromosome is produced from the genes of its parents. In our case, a chromosome is a sequence of characters, and crossing over two parent sequences of characters can simply be done by chosing a cutoff random point, and creating offspring by combining the halves of the parents chromosomes based on the cutoff point."
   ]
  },
  {
   "cell_type": "code",
   "execution_count": 188,
   "metadata": {},
   "outputs": [
    {
     "data": {
      "text/plain": [
       "('Hellbye Book', 'Goodo World')"
      ]
     },
     "execution_count": 188,
     "metadata": {},
     "output_type": "execute_result"
    }
   ],
   "source": [
    "def crossover(parent1, parent2):\n",
    "    pos = random.randint(1,len(parent1))\n",
    "\n",
    "    offspring1 = parent1[:pos] + parent2[pos:]\n",
    "    offspring2 = parent2[:pos] + parent1[pos:]\n",
    "\n",
    "    return (offspring1, offspring2)\n",
    "\n",
    "\n",
    "parent1 = \"Hello World\"\n",
    "parent2 = \"Goodbye Book\"\n",
    "\n",
    "crossover(parent1, parent2)"
   ]
  },
  {
   "cell_type": "markdown",
   "metadata": {},
   "source": [
    "A further essential ingredient of genetic evolution is the concept of mutation: Sometimes, offspring contain small changes in their genes, which represent new genetic material and new physiological traits. If the mutation introduced new genetic material that represents useful traits leading to better fitness values, then this genetic material will survive. If the mutation introduced useless genetic material, then the resulting individuals will likely have bad fitness values and die off quickly.\n",
    "\n",
    "An important aspect is that both, mutation and crossover, are probabilistic actions. They do not always happen, and their effects are different every time they do happen. For a sequence genetic encoding, a common approach is to first use a probability to decide whether to apply mutation, and then to select one gene and change it a bit. Alternatively, we can probabilistically mutate genes such that on average one is changed. We do this by calculating a probability `P` of each gene being mutated as 1/(number of genes). Then, if a gene is mutated, we don't just replace it by a random character, but make it more likely that there is only a small change. This is achieved by sampling from a Gaussian distribution with the current value as the mean. We arbitrarily use a standard deviation of 100 to make small changes more likely than large changes."
   ]
  },
  {
   "cell_type": "code",
   "execution_count": 225,
   "metadata": {},
   "outputs": [],
   "source": [
    "def mutate(chromosome):\n",
    "    mutated = chromosome[:]\n",
    "    P = 1.0/len(mutated)\n",
    "\n",
    "    for pos in range(len(mutated)):\n",
    "        if random.random() < P:            \n",
    "            new_c = chr(int(random.gauss(ord(mutated[pos]), 100) % 65536))\n",
    "            mutated = mutated[:pos] + new_c + mutated[pos + 1:]\n",
    "    return mutated"
   ]
  },
  {
   "cell_type": "markdown",
   "metadata": {},
   "source": [
    "Now at last we have all the ingredients to build the full algorithm:"
   ]
  },
  {
   "cell_type": "code",
   "execution_count": 217,
   "metadata": {},
   "outputs": [],
   "source": [
    "def genetic_algorithm():\n",
    "    \n",
    "    # Generate and evaluate initial population\n",
    "    generation = 0\n",
    "    population = create_population(100)\n",
    "    fitness = evaluate_population(population)\n",
    "    best = min(fitness, key=lambda item:item[1])\n",
    "    best_individual = best[0]\n",
    "    best_fitness    = best[1]\n",
    "    print(\"Best fitness of initial population: %s - %.10f\" % (best_individual.encode('utf-8', 'replace').decode('utf-8'), best_fitness))\n",
    "\n",
    "    # Stop when optimum found, or we run out of patience\n",
    "    while best_fitness > 0 and generation < 1000:\n",
    "\n",
    "        # The next generation will have the same size as the current one\n",
    "        new_population = []\n",
    "        while len(new_population) < len(population):\n",
    "            # Selection\n",
    "            offspring1 = selection(fitness, 10)\n",
    "            offspring2 = selection(fitness, 10)\n",
    "\n",
    "            # Crossover\n",
    "            if random.random() < 0.7:\n",
    "                (offspring1, offspring2) = crossover(offspring1, offspring2)\n",
    "\n",
    "            # Mutation\n",
    "            offspring1 = mutate(offspring1)\n",
    "            offspring2 = mutate(offspring2)\n",
    "\n",
    "            new_population.append(offspring1)\n",
    "            new_population.append(offspring2)\n",
    "\n",
    "        # Once full, the new population replaces the old one\n",
    "        generation += 1\n",
    "        population = new_population\n",
    "        fitness = evaluate_population(population)\n",
    "\n",
    "        best = min(fitness, key=lambda item:item[1])\n",
    "        best_individual = best[0]\n",
    "        best_fitness    = best[1]\n",
    "        print(\"Best fitness at generation %d: %s - %.8f\" % (generation, best_individual.encode('utf-8', 'replace').decode('utf-8'), best_fitness))\n",
    "\n",
    "\n",
    "    print(\"Best individual: %s, fitness %.10f\" % (best_individual.encode('utf-8', 'replace').decode('utf-8'), best_fitness))"
   ]
  },
  {
   "cell_type": "markdown",
   "metadata": {},
   "source": [
    "Let's see how this works on our unicode example."
   ]
  },
  {
   "cell_type": "code",
   "execution_count": 226,
   "metadata": {},
   "outputs": [
    {
     "name": "stdout",
     "output_type": "stream",
     "text": [
      "Best fitness of initial population: 癝 뫏撲溈銌䥨䃩铰旄 - 2.9919354839\n",
      "Best fitness at generation 1: Z恺闗ḯ궫⿭轴䄪揇꾻 - 2.98148148\n",
      "Best fitness at generation 2: 唘Q࿉ũ蠇嵱䋶윂旂貟 - 2.97777778\n",
      "Best fitness at generation 3: Z恺뫏撲渺銌%ꤩ躺栝 - 1.99997685\n",
      "Best fitness at generation 4: Z恺문撲渺銌%ꤩ躺栝 - 1.99997685\n",
      "Best fitness at generation 5: ~恺뫏撲渺銌%ꠀ躺栜 - 1.99997669\n",
      "Best fitness at generation 6: ~恺뫏撲渺銌%ꟓ躺栜 - 1.99997667\n",
      "Best fitness at generation 7: ~恺뫏撲渺銌%ꟓ躺栜 - 1.99997667\n",
      "Best fitness at generation 8: ~惠뫏撲渺鉞%Ʞ軳栜 - 1.99997665\n",
      "Best fitness at generation 9: %恺뫋撲滾銌%ꟓ軁桐 - 1.99995934\n",
      "Best fitness at generation 10: %恺뫋撲滾銩%ꟓ軁桐 - 1.99995934\n",
      "Best fitness at generation 11: %怟뫋撲渺銌%Ꜩ躺桱 - 1.99995919\n",
      "Best fitness at generation 12: %忿뫋撲渺釺Ꜩ躺桱 - 1.99995914\n",
      "Best fitness at generation 13: %徖뫋撲渺釺Ꜩ躺桱 - 1.99995896\n",
      "Best fitness at generation 14: %彜뫋撲渺釺ꛯ輋桱 - 1.99995887\n",
      "Best fitness at generation 15: %引몁撲湀酾꜏躺桱 - 1.99995875\n",
      "Best fitness at generation 16: %廽뫇撤滁銌GꝾ軁桐 - 1.99995870\n",
      "Best fitness at generation 17: %廗맙擝渺銏\u0017Ꜩ輋柲 - 1.99995864\n",
      "Best fitness at generation 18: %帪몫撤滁銌GꝾ軁桐 - 1.99995834\n",
      "Best fitness at generation 19: %巀몫撤滁鋌GꝾ躺桱 - 1.99995816\n",
      "Best fitness at generation 20: %嵝몫撤滁酞꜏躺栟 - 1.99995798\n",
      "Best fitness at generation 21: %峳몶撤滁鋌GꝾ軋桱 - 1.99995780\n",
      "Best fitness at generation 22: %峳몶撤滁鋌GꝾ軋桱 - 1.99995780\n",
      "Best fitness at generation 23: %尕몶摳滁鋌G꜏躺柰 - 1.99995740\n",
      "Best fitness at generation 24: %寏몶摲滁鋌n꜏躺柰 - 1.99995727\n",
      "Best fitness at generation 25: %孒몉摳滁鋌Gꙺ輊栟 - 1.99995704\n",
      "Best fitness at generation 26: %嬭멈攺滁郡꜏躺椗 - 1.99995697\n",
      "Best fitness at generation 27: %嬗몉摳滁銯n꜏蹙梹 - 1.99995693\n",
      "Best fitness at generation 28: %婽먒攺滁郡꜏躺椥 - 1.99995664\n",
      "Best fitness at generation 29: %娩먒摳滁銯n꜏輊栟 - 1.99995648\n",
      "Best fitness at generation 30: %姹먒攺滁郡꜍躺椗 - 1.99995639\n",
      "Best fitness at generation 31: %妪먒攺滁郡꜍躺椗 - 1.99995624\n",
      "Best fitness at generation 32: %奤먒攺滁郡J꜍躺椗 - 1.99995611\n",
      "Best fitness at generation 33: %奂먒擐澋邑꜍躺椗 - 1.99995604\n",
      "Best fitness at generation 34: %夊먒擐澋邑꜍躺椗 - 1.99995593\n",
      "Best fitness at generation 35: %墦먒擐澋邑ꜻ躺椗 - 1.99995574\n",
      "Best fitness at generation 36: %墦먒攺滁郗ￂꙵ躺椗 - 1.99995574\n",
      "Best fitness at generation 37: %塅먒攺滁郗ￂꙵ躺椗 - 1.99995555\n",
      "Best fitness at generation 38: %埫몌擐滩郗ꚽ蹀椗 - 1.99995537\n",
      "Best fitness at generation 39: %埫몌擐滩郗ꛋ躺椗 - 1.99995537\n",
      "Best fitness at generation 40: %坓멨敍潅邑cꚽ蹀椗 - 1.99995506\n",
      "Best fitness at generation 41: %坄먒擼澆郗>ꙵ躺棏 - 1.99995503\n",
      "Best fitness at generation 42: %噷멨敍湫邑cꙵ躺椗 - 1.99995462\n",
      "Best fitness at generation 43: %嘄멨攮潅邑²ꚽ跩椗 - 1.99995438\n",
      "Best fitness at generation 44: %啨많撰潅鄇cꚽ跩椗 - 1.99995405\n",
      "Best fitness at generation 45: %哒멨攮潅郑²ꚽ跩椗 - 1.99995373\n",
      "Best fitness at generation 46: %咩멨攮潅邑cꝀ跩椗 - 1.99995364\n",
      "Best fitness at generation 47: %収멨攮湫邑cꞫ跩椗 - 1.99995317\n",
      "Best fitness at generation 48: %卷멨攮湫邑cꞫ赬椗 - 1.99995298\n",
      "Best fitness at generation 49: %卡멨敶湫邑cꚽ跩椗 - 1.99995293\n",
      "Best fitness at generation 50: %匰멳攮湵酦cꞫ趟椗 - 1.99995282\n",
      "Best fitness at generation 51: %勓멳攮湵醹cꞫ趟椗 - 1.99995261\n",
      "Best fitness at generation 52: %劋멳攮湞鄛²ꚽ跩柲 - 1.99995245\n",
      "Best fitness at generation 53: %刡멳攮湞鄛²ꚽ趐柲 - 1.99995221\n",
      "Best fitness at generation 54: %冾멳攮湵酹\u0003꟟趫椗 - 1.99995198\n",
      "Best fitness at generation 55: %冾멳撶湵酷ﻶꝝ躒椗 - 1.99995198\n",
      "Best fitness at generation 56: %冨멳撶湵酷ﻶꝝ躒椗 - 1.99995193\n",
      "Best fitness at generation 57: %儴뫈撶湵酷ﻶꜶ躒椗 - 1.99995166\n",
      "Best fitness at generation 58: %傽뫈撶湵酷ﻶꜶ赵椗 - 1.99995138\n",
      "Best fitness at generation 59: %俷뫈撶湵酷ﻶꜶ赵椗 - 1.99995091\n",
      "Best fitness at generation 60: %俷뫈撶湵酷ﻶꜶ躇椗 - 1.99995091\n",
      "Best fitness at generation 61: %侚뫈撶湵釭ﻶꜶ赵椗 - 1.99995068\n",
      "Best fitness at generation 62: %伳뫈撶滂酷ﹹꜶ趓棐 - 1.99995043\n",
      "Best fitness at generation 63: %亴뫈撶滼酷ﻶꜶ赵極 - 1.99995012\n",
      "Best fitness at generation 64: %丙뫈撶湵釭ﻶꛁ赵極 - 1.99994973\n",
      "Best fitness at generation 65: %䶮뫈撶湵醫ﻶꝢ赵梓 - 1.99994946\n",
      "Best fitness at generation 66: %䵱뫈摬湵釭ﻶꛁ赵榄 - 1.99994930\n",
      "Best fitness at generation 67: %䴆뫈摬溊釭ﻶꛁ赵榄 - 1.99994902\n",
      "Best fitness at generation 68: %䲝먏摬湵釔ﺘꠋ赵梓 - 1.99994875\n",
      "Best fitness at generation 69: %䰾뫈揌溊釭ﻶ꙰赵榄 - 1.99994850\n",
      "Best fitness at generation 70: %䯫먏摬湵釔ﺘꠋ赵梓 - 1.99994828\n",
      "Best fitness at generation 71: %䯒묡摭湵釔﹄ꠙ赵極 - 1.99994821\n",
      "Best fitness at generation 72: %䮡뫈揌溊釭ﺯꛁ赵榄 - 1.99994808\n",
      "Best fitness at generation 73: %䭺묍摭漏釔﹄ꗇ赵榄 - 1.99994797\n",
      "Best fitness at generation 74: %䬚뫈揶溊釭ﺯꟾ赵極 - 1.99994771\n",
      "Best fitness at generation 75: %䪻뫈揌溊釭ﻻꛁ赵榄 - 1.99994745\n",
      "Best fitness at generation 76: %䩷뫈揌溊釭ﻻꛁ赵榄 - 1.99994726\n",
      "Best fitness at generation 77: %䩨뫈揌溊釭ﻻꛁ賵榄 - 1.99994722\n",
      "Best fitness at generation 78: %䩣뫈揌溊釭ﺦꛁ賵榄 - 1.99994721\n",
      "Best fitness at generation 79: %䨠뫈揃溊釭ﺦꚴ賵榄 - 1.99994702\n",
      "Best fitness at generation 80: %䥛뫈揌溊釭ﻑꛁ賵榄 - 1.99994646\n",
      "Best fitness at generation 81: %䥅뫈揃溊釭ﺦꚴ賵椴 - 1.99994640\n",
      "Best fitness at generation 82: %䢹뫈揌溊釭｠ꛁ賵榄 - 1.99994599\n",
      "Best fitness at generation 83: %䠻뫈揌溊醕ﺑꞝ赫榄 - 1.99994562\n",
      "Best fitness at generation 84: %䠻뫈揌溷醕ﺑꝡ赫榄 - 1.99994562\n",
      "Best fitness at generation 85: %䟬뫈揌溊醕ﺑꞝ赧榄 - 1.99994539\n",
      "Best fitness at generation 86: %䟬뫈揌溊醕ﺑꝀ赧榄 - 1.99994539\n",
      "Best fitness at generation 87: %䝠뫈揌溊醕ﺑꛗ赫榄 - 1.99994497\n",
      "Best fitness at generation 88: %䜌뫈揌溊郕ﺑꛗ赫榄 - 1.99994471\n",
      "Best fitness at generation 89: %䜀뫈揌溊鄈ﻂꚴ贄榝 - 1.99994467\n",
      "Best fitness at generation 90: %䚷뫈揌溊郕﹝ꛗ賑榄 - 1.99994445\n",
      "Best fitness at generation 91: %䚕뫈揌溊醕ﺑꘪ贛榦 - 1.99994435\n",
      "Best fitness at generation 92: %䗠뫈揌溊郕﹝ꛗ賑榄 - 1.99994378\n",
      "Best fitness at generation 93: %䗠뫈揌溊郕［ꛗ赫榄 - 1.99994378\n",
      "Best fitness at generation 94: %䕜뫈揌溊郕﹝ꛗ贛槀 - 1.99994336\n",
      "Best fitness at generation 95: %䓋뫈揌溊郕［ꛗ赫楀 - 1.99994289\n",
      "Best fitness at generation 96: %䓋뫈撃溊郕［ꛗ赫楀 - 1.99994289\n",
      "Best fitness at generation 97: %䏨뫈撃溊鄺［ꛗ貤楀 - 1.99994214\n",
      "Best fitness at generation 98: %䏨뫒撃溊鄺ﹾꚪ贄楢 - 1.99994214\n",
      "Best fitness at generation 99: %䏨뫈撃溊醞［ꛨ貤楽 - 1.99994214\n",
      "Best fitness at generation 100: %䌦뫈撃溊釧［ꛗ践楀 - 1.99994148\n",
      "Best fitness at generation 101: %䉢멞撃溊酒ﻚꚪ贄楢 - 1.99994080\n",
      "Best fitness at generation 102: %䉢멞撳溊郟ﻚꚪ賲楢 - 1.99994080\n",
      "Best fitness at generation 103: %䇈멞撃溊釧［ꛗ跇楀 - 1.99994026\n",
      "Best fitness at generation 104: %䆾먝撃溊醙ￗ꟏貤樴 - 1.99994022\n",
      "Best fitness at generation 105: %䃢멞撃溊銡ￗꛗ跇檚 - 1.99993943\n",
      "Best fitness at generation 106: %䂪멞撃溊銡ￗꛗ跇檚 - 1.99993922\n",
      "Best fitness at generation 107: %䂪멞撃溊銡ￗꛗ跇檚 - 1.99993922\n",
      "Best fitness at generation 108: %䀮멞撃湆銡ￗꛗ贄榎 - 1.99993876\n",
      "Best fitness at generation 109: %㿔멞撃湆銡\u000b",
      "ꛗ贄榎 - 1.99993842\n",
      "Best fitness at generation 110: %㿉멞撃湆銡ￗ꜕豴樴 - 1.99993838\n",
      "Best fitness at generation 111: %㽟멞撃湆銡\u000b",
      "ꛗ趘榎 - 1.99993797\n",
      "Best fitness at generation 112: %㽆멞撃滭銼ￗ꜕豴槧 - 1.99993788\n",
      "Best fitness at generation 113: %㼂멞撃湆録\u000b",
      "꜕豴樴 - 1.99993761\n",
      "Best fitness at generation 114: %㺇멞撃湆鉎æꛔ踔榎 - 1.99993713\n",
      "Best fitness at generation 115: %㷎멞撃漆銡￳꜕豴樴 - 1.99993639\n",
      "Best fitness at generation 116: %㷎멞撃漪銡￳꜕豴樴 - 1.99993639\n",
      "Best fitness at generation 117: %㵼멞撃湆銡B꜕豴樴 - 1.99993606\n",
      "Best fitness at generation 118: %㴺륲撃滆銼ﾅ꜖踊榎 - 1.99993579\n",
      "Best fitness at generation 119: %㴙멞描湆銡B꜕豴榎 - 1.99993565\n",
      "Best fitness at generation 120: %㳆륲撃湆鍴�꜕豴椸 - 1.99993530\n",
      "Best fitness at generation 121: %㱿륲撃湆鍴￡꜕豴椸 - 1.99993501\n",
      "Best fitness at generation 122: %㱿륲摼湆銼�꜕賁椸 - 1.99993501\n",
      "Best fitness at generation 123: %㯡륲撃湆鍴￡꜕豴椛 - 1.99993433\n",
      "Best fitness at generation 124: %㭭륲撃湆鍴￡꜕豴棢 - 1.99993383\n",
      "Best fitness at generation 125: %㬶륲撃湢鍴￡꜕豴椇 - 1.99993359\n",
      "Best fitness at generation 126: %㫔륲撃湆鋩�ꛡ踊榎 - 1.99993315\n",
      "Best fitness at generation 127: %㫓륲撃溃鍴￡Ꝏ豴椛 - 1.99993315\n",
      "Best fitness at generation 128: %㩤룢撃湆鋩Yꛡ踊樐 - 1.99993265\n",
      "Best fitness at generation 129: %㧴룢撃湆鋩Yꛡ踊橁 - 1.99993213\n",
      "Best fitness at generation 130: %㦦룢撃湆鋩�ꛡ蹜槔 - 1.99993177\n",
      "Best fitness at generation 131: %㦦룢撃湆鋏Yꚉ踊椛 - 1.99993177\n",
      "Best fitness at generation 132: %㤭렷撃湆錗�ꛡ蹜槔 - 1.99993121\n",
      "Best fitness at generation 133: %㡸룢撃滑鋩�ꛡ蹜槔 - 1.99993034\n",
      "Best fitness at generation 134: %㡧룢撃滑鋩�ꛡ蹜槔 - 1.99993026\n",
      "Best fitness at generation 135: %㠼룢撃滑鋩óꜝ蹜椵 - 1.99993005\n",
      "Best fitness at generation 136: %㟷뢣撨湯鋩�Ꞿ蹜槔 - 1.99992971\n",
      "Best fitness at generation 137: %㞴룢撃滑鋩śꜝ蹜槒 - 1.99992937\n",
      "Best fitness at generation 138: %㝻뢣撨湯鋩ś꙯蹜槒 - 1.99992909\n",
      "Best fitness at generation 139: %㛚룢撃滑鋩�꘸跣槔 - 1.99992827\n",
      "Best fitness at generation 140: %㚸룢撃滑銡śꞽ蹜槒 - 1.99992809\n",
      "Best fitness at generation 141: %㚸룢撃滑銡śꞽ蹜槔 - 1.99992809\n",
      "Best fitness at generation 142: %㘱룎撃滑鋩śꞽ蹟椠 - 1.99992739\n",
      "Best fitness at generation 143: %㘆룎撃滑銡Ŗꞽ蹜槒 - 1.99992716\n",
      "Best fitness at generation 144: %㗔룢攴湸鉴śꞽ蹜榕 - 1.99992690\n",
      "Best fitness at generation 145: %㖶뢉撃滑銡Ŗꞽ趀槒 - 1.99992673\n",
      "Best fitness at generation 146: %㖙뢽攴滑銡śꝿ輍棪 - 1.99992658\n",
      "Best fitness at generation 147: %㔱뢉撃滑銡śꞸ軚椠 - 1.99992601\n",
      "Best fitness at generation 148: %㔱뢉撃滑銣śꞸ蹜槁 - 1.99992601\n",
      "Best fitness at generation 149: %㓿뢉撃滑銡ƲꞸ軄楚 - 1.99992574\n",
      "Best fitness at generation 150: %㓿럖撃滑銡ƲꞸ蹜槁 - 1.99992574\n",
      "Best fitness at generation 151: %㐲뢉撃滑銡Ʋꠒ輘椠 - 1.99992459\n",
      "Best fitness at generation 152: %㐲뢉撃滑銡śꞸ軚椱 - 1.99992459\n",
      "Best fitness at generation 153: %㏏뤏摒溾銡śꞸ軚椱 - 1.99992402\n",
      "Best fitness at generation 154: %㍤뢉撃滑銡Ʋꢴ輘槡 - 1.99992340\n",
      "Best fitness at generation 155: %㍅뢉撃漹鉟ƲꞸ軚椱 - 1.99992322\n",
      "Best fitness at generation 156: %㋍뢕撃滑銡Ʋꢴ遍槡 - 1.99992250\n",
      "Best fitness at generation 157: %㋍뢕撃湽銡Ʋꢴ遍槡 - 1.99992250\n",
      "Best fitness at generation 158: %㉘뢛撃滑銄Ʋꢴ輘槡 - 1.99992180\n",
      "Best fitness at generation 159: %㉔뢕撃滑銡Ʋꢴ輎槡 - 1.99992177\n",
      "Best fitness at generation 160: %㇫뢛撃滑鉈Əꢴ速槡 - 1.99992112\n",
      "Best fitness at generation 161: %ㅱ룀撃滑銄Ʋꢴ輘槡 - 1.99992036\n",
      "Best fitness at generation 162: %ㅱ뢛撃滑銄Ʋꢴ遍槡 - 1.99992036\n",
      "Best fitness at generation 163: %ㅩ룀撃滑銄Ʋꢴ輘槡 - 1.99992031\n",
      "Best fitness at generation 164: %プ룀搭滑銄Ʋꥇ輎槡 - 1.99991937\n",
      "Best fitness at generation 165: %プ룀揚滑銄Ʋꥇ輎槃 - 1.99991937\n",
      "Best fitness at generation 166: %〞룀搭滑銄Ʋꥇ达槡 - 1.99991815\n",
      "Best fitness at generation 167: %〞룀搭滑銄Ʋꥇ达槡 - 1.99991815\n",
      "Best fitness at generation 168: %⿅롘搭滑銄Ʋꥇ达槡 - 1.99991755\n",
      "Best fitness at generation 169: %⽔뤾搭滑銄Ʋꥇ达槡 - 1.99991677\n",
      "Best fitness at generation 170: %⽔뤾搭漫銄ɜꢴ速槡 - 1.99991677\n",
      "Best fitness at generation 171: %⺰룭撆湪銄əꢴ郖槡 - 1.99991562\n",
      "Best fitness at generation 172: %⺰룭撆湪銄əꢴ郖槡 - 1.99991562\n",
      "Best fitness at generation 173: %⹗룭撆湪鈏əꢴ达槡 - 1.99991498\n",
      "Best fitness at generation 174: %ⶡ룭撆湪銄əꢴ达槡 - 1.99991364\n",
      "Best fitness at generation 175: %ⶡ뤾揺滑銄ǚ꣭辍槡 - 1.99991364\n",
      "Best fitness at generation 176: %ⴴ멽撆湪鋅əꢴ辮槡 - 1.99991282\n",
      "Best fitness at generation 177: %ⴴ멽撆湪鋅əꢴ辮槡 - 1.99991282\n",
      "Best fitness at generation 178: %ⱶ멽撉湪鋅əꢴ辮槡 - 1.99991136\n",
      "Best fitness at generation 179: %Ⱆ뢉敼湾銄əꢇ辍槡 - 1.99991059\n",
      "Best fitness at generation 180: %⯲멽撆湪鋅əꢴ辮槡 - 1.99991031\n",
      "Best fitness at generation 181: %⯜뢉敼湾銄əꢇ辍槡 - 1.99991013\n",
      "Best fitness at generation 182: %⭭뢉敋湾銄əꢧ辍槣 - 1.99990922\n",
      "Best fitness at generation 183: %⬾뢉撆湜鋅əꢧ輰槡 - 1.99990883\n",
      "Best fitness at generation 184: %⩥뢉敋湐鈝ɖꠚ辁槣 - 1.99990699\n",
      "Best fitness at generation 185: %⨥뢉擺添鈝ɖꟙ辁檁 - 1.99990644\n",
      "Best fitness at generation 186: %⨉룀敋湐鈝ɖꠚ轄樸 - 1.99990619\n",
      "Best fitness at generation 187: %⧎뢉擺添鈝ɖꞩ辁欎 - 1.99990567\n",
      "Best fitness at generation 188: %⦭룀敋湐鈝ɖꠚ轸樸 - 1.99990537\n",
      "Best fitness at generation 189: %⥑뢉擺添郪ʘꞩ辁欎 - 1.99990454\n",
      "Best fitness at generation 190: %⤲뢉擺添鈵ɖꟙ軚檋 - 1.99990426\n",
      "Best fitness at generation 191: %⣨뢉擺添郪ɖꞩ辇欎 - 1.99990358\n",
      "Best fitness at generation 192: %⡤뢉攵添郥ʘꞩ辁欎 - 1.99990233\n",
      "Best fitness at generation 193: %⡤뢉擺淊逘ʘꛤ軰樸 - 1.99990233\n",
      "Best fitness at generation 194: %⠐룥攵添郥ʘꞩ辁欎 - 1.99990153\n",
      "Best fitness at generation 195: %⟈룥撻添郥ʘꞩ軚檋 - 1.99990082\n",
      "Best fitness at generation 196: %⟁룥攳添郥͸ꛤ軰樸 - 1.99990075\n",
      "Best fitness at generation 197: %➀룥撻渕郥ʘꞩ辁欎 - 1.99990011\n",
      "Best fitness at generation 198: %⛦룥撻渀郥ʘꞩ軣樲 - 1.99989855\n",
      "Best fitness at generation 199: %⛦룥撻渕郥ʘꞩ辁欎 - 1.99989855\n",
      "Best fitness at generation 200: %⚠룥撻渕郥ʘꞩ辁欎 - 1.99989782\n",
      "Best fitness at generation 201: %☐룥攳湎郙΄ꛤ軰樸 - 1.99989630\n",
      "Best fitness at generation 202: %◯룥攳湎郙θꛤ軰樸 - 1.99989594\n",
      "Best fitness at generation 203: %╱룥攳湎郙΄ꛤ軰檵 - 1.99989456\n",
      "Best fitness at generation 204: %╱룥攳湎郙΄ꛤ軰檵 - 1.99989456\n",
      "Best fitness at generation 205: %Ⓛ룋攳溊郙΄ꛤ軰橼 - 1.99989257\n",
      "Best fitness at generation 206: %⒦룋攳溊郙Иꛤ跳樂 - 1.99989225\n",
      "Best fitness at generation 207: %␂룹攳溊鄚΄ꛤ軰橼 - 1.99989031\n",
      "Best fitness at generation 208: %␂룹攳溊鄚΄ꛤ軰橼 - 1.99989031\n",
      "Best fitness at generation 209: %⏆룋攳溊逴΄ꛤ軰橼 - 1.99988959\n",
      "Best fitness at generation 210: %⍵룋撹溛鄖Иꛤ跳檻 - 1.99988859\n",
      "Best fitness at generation 211: %⌁롣攳溊郙Иꛤ軰橼 - 1.99988713\n",
      "Best fitness at generation 212: %⋧뢛擢漣郬Иꛤ軰檬 - 1.99988680\n",
      "Best fitness at generation 213: %≊롣攳溊釓΄ꛤ軰橼 - 1.99988475\n",
      "Best fitness at generation 214: %≊롣攳溊釓γꞭ軰橼 - 1.99988475\n",
      "Best fitness at generation 215: %∟롣攳溊鈢Ϛꛤ輈檬 - 1.99988418\n",
      "Best fitness at generation 216: %↓롡攊溊釓΄ꛤ軰橼 - 1.99988227\n",
      "Best fitness at generation 217: %⃩롣攳溊酒Іꛤ軰檥 - 1.99987987\n",
      "Best fitness at generation 218: %⃩롣攳溊酒΄ꛤ軰橼 - 1.99987987\n",
      "Best fitness at generation 219: %₩롣攳溊酒΄ꛤ软橼 - 1.99987893\n",
      "Best fitness at generation 220: %⁴롣攳浌酒Іꛤ軟檥 - 1.99987815\n",
      "Best fitness at generation 221: %ᾄ롣攳浌酒Ѩꛤ辦橼 - 1.99987448\n",
      "Best fitness at generation 222: %὏롣攳渳酒Ѩꛤ辦橼 - 1.99987364\n",
      "Best fitness at generation 223: %ἃ롣攳渳酒Ѩꛤ辦橼 - 1.99987242\n",
      "Best fitness at generation 224: %Ợ롣擥涓選Ѩꚭ轉檥 - 1.99987188\n",
      "Best fitness at generation 225: %Ẳ롣攳渉酒Іꛤ辦橼 - 1.99987108\n",
      "Best fitness at generation 226: %ṻ롣擥渳酒Ѩꛤ辈橼 - 1.99987016\n",
      "Best fitness at generation 227: %ṻ롣擥渳酒Ѩꛤ辦橼 - 1.99987016\n",
      "Best fitness at generation 228: %᷁롣攳渉部Іꛤ輣榾 - 1.99986695\n",
      "Best fitness at generation 229: %᷁롣攳渉邵Іꛤ輣榾 - 1.99986695\n",
      "Best fitness at generation 230: %ᴚ롼攳湑酒ζꛤ辦楥 - 1.99986393\n",
      "Best fitness at generation 231: %ᴚ룲攳湑酒ζꛤ輣榾 - 1.99986393\n",
      "Best fitness at generation 232: %Მ롼攳湑酒ζꛤ辦楥 - 1.99986153\n"
     ]
    },
    {
     "name": "stdout",
     "output_type": "stream",
     "text": [
      "Best fitness at generation 233: %Მ랪攳湑酒ζꛤ辦欙 - 1.99986153\n",
      "Best fitness at generation 234: %ᯆ렦攆湑醌ζꛤ辦楳 - 1.99985733\n",
      "Best fitness at generation 235: %᮰롼攳湑酒ϰꛤ辋楥 - 1.99985688\n",
      "Best fitness at generation 236: %᮰롼攳渲酒ϰꜳ辦楳 - 1.99985688\n",
      "Best fitness at generation 237: %᭘렦攆湉釀ζꛍ辦楳 - 1.99985505\n",
      "Best fitness at generation 238: %᭗럣擲混酒ϰꛤ辦楥 - 1.99985503\n",
      "Best fitness at generation 239: %᫑럣撡混酒ϰꛤ辦楳 - 1.99985216\n",
      "Best fitness at generation 240: %ᩉ렦攤湉釤ζꛍ辦椾 - 1.99984912\n",
      "Best fitness at generation 241: %ᩃ럣撡湟鋁ζꚧ逫楳 - 1.99984899\n",
      "Best fitness at generation 242: %ᦗ렦攤湉釤ζꛍ辦椾 - 1.99984496\n",
      "Best fitness at generation 243: %ᦗ렦攤湉釤ζꛤ退樒 - 1.99984496\n",
      "Best fitness at generation 244: %ᡶ렦攤湶鈢ζꛍ辦椾 - 1.99983769\n",
      "Best fitness at generation 245: %ᡶ렭攤湶鈢Ζꜩ辦椾 - 1.99983769\n",
      "Best fitness at generation 246: %៭렦攤湉鈆ζꚝ辦棧 - 1.99983400\n",
      "Best fitness at generation 247: %ᝰ렦攤湶鈢ζꝂ辦椾 - 1.99983048\n",
      "Best fitness at generation 248: %ᜤ렭攤溵鈢Ζꜩ辦棘 - 1.99982827\n",
      "Best fitness at generation 249: %ᜤ뢤攤溵鈢Ζ꟠辦棘 - 1.99982827\n",
      "Best fitness at generation 250: %ᛅ렦攤渮銗ζꛣ辦椨 - 1.99982542\n",
      "Best fitness at generation 251: %ᚆ렭攤溵鈢ζꛣ辦椨 - 1.99982348\n",
      "Best fitness at generation 252: %ᘭ롺攤溵鈢ζꛣ辦椨 - 1.99982066\n",
      "Best fitness at generation 253: %ᘭ롺攤溵鈢ζꛣ軖椟 - 1.99982066\n",
      "Best fitness at generation 254: %ᗦ렭攤源銗ζꛣ辦椟 - 1.99981835\n",
      "Best fitness at generation 255: %ᓹ뤌敯滗鉪ϑꚝ辦棻 - 1.99981017\n",
      "Best fitness at generation 256: %ᒆ렭料源銗ζꛣ辦棧 - 1.99980594\n",
      "Best fitness at generation 257: %ᐨ렭料源鉪ϑꚝ辦椨 - 1.99980233\n",
      "Best fitness at generation 258: %Ꮆ렭料源銂Љꛣ辦椟 - 1.99979778\n",
      "Best fitness at generation 259: %Ꮆ렭昒源銂Љꛣ辦椟 - 1.99979778\n",
      "Best fitness at generation 260: %ዶ렭敒溝銗̽꜓辦棧 - 1.99978961\n",
      "Best fitness at generation 261: %ኤ렭敒溝銗̽꜓辦棧 - 1.99978591\n",
      "Best fitness at generation 262: %ኅ렭敒溝銗̽꜓過栎 - 1.99978448\n",
      "Best fitness at generation 263: %ቂ렭敒漄銗ξꚡ辦榊 - 1.99978133\n",
      "Best fitness at generation 264: %ᇥ렭敒漄銗̽꜓過栎 - 1.99977679\n",
      "Best fitness at generation 265: %ᆴ렭敒滋銗ξꚡ追榊 - 1.99977432\n",
      "Best fitness at generation 266: %ᆴ렭敒滹銗̽ꝇ過桟 - 1.99977432\n",
      "Best fitness at generation 267: %ᄶ렭敒漄銗ΝꚚ辦榊 - 1.99976771\n",
      "Best fitness at generation 268: %ნ렳敒滋銗ξꚡ過桟 - 1.99976275\n",
      "Best fitness at generation 269: %၈럢擮滹銗̽꜏遑桟 - 1.99975412\n",
      "Best fitness at generation 270: %၈럢擮滹錾͘꜏遑桟 - 1.99975412\n",
      "Best fitness at generation 271: %࿟렳敒漅銊̽꜏辦榊 - 1.99974760\n",
      "Best fitness at generation 272: %྿렳敒漅銊̽꜏遑桟 - 1.99974555\n",
      "Best fitness at generation 273: %ེ렳擈潞銗̵꜏辦榊 - 1.99974100\n",
      "Best fitness at generation 274: %ຶ럢撹滹銼̽Ꚛ辦榞 - 1.99972715\n",
      "Best fitness at generation 275: %ຶ렩撹滹銗̵꜏辦查 - 1.99972715\n",
      "Best fitness at generation 276: %ร럎撹滹銗̵ꝲ遳桟 - 1.99971575\n",
      "Best fitness at generation 277: %ร럎撹滹銗̵꜏辦查 - 1.99971575\n",
      "Best fitness at generation 278: %න럎撹溹銗̵꜈邵桟 - 1.99970623\n",
      "Best fitness at generation 279: %൐럎撹滹鋦̵ꝲ遳栅 - 1.99969761\n",
      "Best fitness at generation 280: %ು럎撹滹鋦̵ꝲ遳栅 - 1.99968394\n",
      "Best fitness at generation 281: %ಓ럎撹濏銗̵ꝲ迱桥 - 1.99967928\n",
      "Best fitness at generation 282: %౟럌撹滹鋛̵ꝲ遳栅 - 1.99967384\n",
      "Best fitness at generation 283: %஥럎撹濏鍄̵ꛌ迱桥 - 1.99965278\n",
      "Best fitness at generation 284: %஀럎撹滹鋦χꟀ酫柤 - 1.99964826\n",
      "Best fitness at generation 285: %஀럎撹滹鋦χꞀ迱梬 - 1.99964826\n",
      "Best fitness at generation 286: %૦렴撹滹醻̡Ꟁ酫柤 - 1.99962811\n",
      "Best fitness at generation 287: %૤렴撹滹醻̡Ꟁ酫柤 - 1.99962784\n",
      "Best fitness at generation 288: %ૣ렴撹滹醻̡Ꟁ酫柤 - 1.99962770\n",
      "Best fitness at generation 289: %ਁ렴撹滹醻̡Ꟁ釂栝 - 1.99959350\n",
      "Best fitness at generation 290: %ਁ렴撹滹醻̋Ꟁ釂栝 - 1.99959350\n",
      "Best fitness at generation 291: %আ렴撣滹錼˳ꟻ郃柤 - 1.99957210\n",
      "Best fitness at generation 292: %॥렴摉滹醻̡Ꟁ酫柜 - 1.99956597\n",
      "Best fitness at generation 293: %ख뢏撹滹醻ˌꟘ郆柤 - 1.99955056\n",
      "Best fitness at generation 294: %ࣩ뢏撹滹醻ˌꟀ酫桩 - 1.99954128\n",
      "Best fitness at generation 295: %࡛뢏攑滹醻ˌꠐ酫桩 - 1.99950932\n",
      "Best fitness at generation 296: %ࠝ롎撹滹醻ˌꟀ酫柜 - 1.99949393\n",
      "Best fitness at generation 297: %ߑ롎摙滹醻ˌꠐ酫桩 - 1.99947368\n",
      "Best fitness at generation 298: %ވ롎攗滹醻ˌꟀ酫柜 - 1.99945265\n",
      "Best fitness at generation 299: %݆롎撞滔醻ˌꟀ酫柜 - 1.99943214\n",
      "Best fitness at generation 300: %݄롎摙滹醻ˌꟀ酫梈 - 1.99943150\n",
      "Best fitness at generation 301: %ڮ롎撞滔釖ˌꟀ酫柜 - 1.99937850\n",
      "Best fitness at generation 302: %ڮ롎撞滔釖ˌꟀ酫柜 - 1.99937850\n",
      "Best fitness at generation 303: %׵롎撞滔鈨ˌꟀ酫柜 - 1.99929775\n",
      "Best fitness at generation 304: %֑롎撞滵醜ˌꟀ酫柜 - 1.99924471\n",
      "Best fitness at generation 305: %Ӱ롎摋滵醜ˌꟀ酫柜 - 1.99914015\n",
      "Best fitness at generation 306: %Ӱ롎摋滵酶ˌꟀ酫柜 - 1.99914015\n",
      "Best fitness at generation 307: %҆롎摋滵醜ˌꟀ酫杧 - 1.99905393\n",
      "Best fitness at generation 308: %҆롎摋滵鄊ˌꟀ酫杧 - 1.99905393\n",
      "Best fitness at generation 309: %Л롎摋滵鄊ˌꟀ酫杧 - 1.99894737\n",
      "Best fitness at generation 310: %ϼ롎捲滵醜ʲꟀ酫栠 - 1.99891186\n",
      "Best fitness at generation 311: %β롎摋澇鄢ˌꟀ釟柜 - 1.99881657\n",
      "Best fitness at generation 312: %ʹ럭捲溗鄊̣Ꟁ酫杧 - 1.99872286\n",
      "Best fitness at generation 313: %ͦ럭摋澇鄢ˌꟀ釟柜 - 1.99869961\n",
      "Best fitness at generation 314: %˕럭捲溗鄊ɒꟀ酫杧 - 1.99839744\n",
      "Best fitness at generation 315: %Ǻ럭捲溗鄊ɒꟀ酫杧 - 1.99753086\n",
      "Best fitness at generation 316: %Ǻ럭捲溗郑̣Ꟁ釟枠 - 1.99753086\n",
      "Best fitness at generation 317: %Ģ럭捲溗鄊ɒꟀ酫朣 - 1.99470899\n",
      "Best fitness at generation 318: %Ģ럭捠溆鄊əꟀ酫杧 - 1.99470899\n",
      "Best fitness at generation 319: %û럭挵溗鄊ɒꟀ酫曢 - 1.99333333\n",
      "Best fitness at generation 320: %û럭挵溗鄊ɒ꤅酫柶 - 1.99333333\n",
      "Best fitness at generation 321: %H럭捠溆鄊ə꠺鄘柕 - 1.66666667\n",
      "Best fitness at generation 322: %H럭捠溆鄊ə꠺鄘柕 - 1.66666667\n",
      "Best fitness at generation 323: %G럭捠溆鄊ə꠺鄘柕 - 1.50000000\n",
      "Best fitness at generation 324: %f럭捠溆鄊ə꟤醓晟 - 0.99997872\n",
      "Best fitness at generation 325: %f럭捠溆鄊ȴ꠺鄘杧 - 0.99997872\n",
      "Best fitness at generation 326: %f뜽掲溆鄊əꜦ酡晟 - 0.99997864\n",
      "Best fitness at generation 327: %f뛬掲溆鄊ə꟤醈晴 - 0.99997860\n",
      "Best fitness at generation 328: %f뛬掲湶鄊ə꟤醈晴 - 0.99997860\n",
      "Best fitness at generation 329: %f뗬掲湶鄊ə꟤醈晴 - 0.99997848\n",
      "Best fitness at generation 330: %f뗬掲湶鄊ə꟤醈晴 - 0.99997848\n",
      "Best fitness at generation 331: %f땸掲湶鄊ə꟤醈晴 - 0.99997843\n",
      "Best fitness at generation 332: %f땸掲湶鄊ə꟤醈晴 - 0.99997843\n",
      "Best fitness at generation 333: %f듞掲湶鄊ə꟤醈晴 - 0.99997836\n",
      "Best fitness at generation 334: %f듂搤潙鄊ə꟤醈晴 - 0.99997834\n",
      "Best fitness at generation 335: %f뒒搤潙鄊ə꟤酅晴 - 0.99997832\n",
      "Best fitness at generation 336: %f뎿搤潙鄊ə꟤醼晧 - 0.99997822\n",
      "Best fitness at generation 337: %f뎙搤潙鄊əꜧ鄮晴 - 0.99997820\n",
      "Best fitness at generation 338: %0닟搤潙鄊ə꟤邻晴 - 0.99997811\n",
      "Best fitness at generation 339: %0닟摯潙鄊ə꟤邻晴 - 0.99997811\n",
      "Best fitness at generation 340: %0뉓搤潙鄊əꜝ郱晴 - 0.99997805\n",
      "Best fitness at generation 341: %0뉓搤潙鄊ə꟤醼晘 - 0.99997805\n",
      "Best fitness at generation 342: %0놹搤潙鄊əꜝ郱晴 - 0.99997797\n",
      "Best fitness at generation 343: %0넚搤潙鄊əꜝ鄑晴 - 0.99997789\n",
      "Best fitness at generation 344: %0넚搤潙鄊əꜝ鄑晴 - 0.99997789\n",
      "Best fitness at generation 345: %0나搤潙鄊əꜝ鄑晴 - 0.99997783\n",
      "Best fitness at generation 346: %0끫搤潙鄊əꜝ酗旸 - 0.99997781\n",
      "Best fitness at generation 347: %0뀪搤潙鄊əꜨ鄑朖 - 0.99997778\n",
      "Best fitness at generation 348: %0꾳撑滲鄊əꜝ邺暷 - 0.99997772\n",
      "Best fitness at generation 349: %0꾳撑滲鄊˞꜋酎晴 - 0.99997772\n",
      "Best fitness at generation 350: %0꼵撑滗鄊əꜝ鄑晴 - 0.99997765\n",
      "Best fitness at generation 351: %0꼵撑滆鄊əꜝ酈晴 - 0.99997765\n",
      "Best fitness at generation 352: %0껕撑漩鄊əꜝ鄑晜 - 0.99997761\n",
      "Best fitness at generation 353: %0깹撑滗鄊ə꠮邗朖 - 0.99997756\n",
      "Best fitness at generation 354: %0깣撑漩鄊əꜝ酤晵 - 0.99997755\n",
      "Best fitness at generation 355: %0긄撑漩鄊əꜝ醣暎 - 0.99997750\n",
      "Best fitness at generation 356: %0궺撑漩鄊əꜝ鄑暌 - 0.99997746\n",
      "Best fitness at generation 357: %0궭撑漩醘ȟꜝ鄑暌 - 0.99997746\n",
      "Best fitness at generation 358: %0괪撑漩鄊ʖꛠ鄑暐 - 0.99997739\n",
      "Best fitness at generation 359: %0곉撑漨鄊Ș꜈鄑晇 - 0.99997734\n",
      "Best fitness at generation 360: %0곉撑潎鄒Ș꜈鄑晇 - 0.99997734\n",
      "Best fitness at generation 361: %0걺攅漨醡Ș꜈鄑晇 - 0.99997730\n",
      "Best fitness at generation 362: %0ꯒ撑滺鄊əꜝ鄛朁 - 0.99997721\n",
      "Best fitness at generation 363: %0ꯒ撑滺鄊əꜝ鄛朁 - 0.99997721\n",
      "Best fitness at generation 364: %0꫗撑滺鄊əꜝ鄛朁 - 0.99997708\n",
      "Best fitness at generation 365: %0꫗撑滺鄊əꜝ鄛朁 - 0.99997708\n",
      "Best fitness at generation 366: %0ꩆ撽滺鄊əꜝ醞朁 - 0.99997701\n",
      "Best fitness at generation 367: %0꨼撽滺鄊əꜝ醞朁 - 0.99997700\n",
      "Best fitness at generation 368: %0ꤸ撽滺鄊əꟸ鄛朁 - 0.99997686\n",
      "Best fitness at generation 369: %0ꤸ撽滺鄊əꟸ鄛朁 - 0.99997686\n",
      "Best fitness at generation 370: %0꤮撽滺鄊ɍꟸ鄛朁 - 0.99997686\n",
      "Best fitness at generation 371: %0ꢭ撽溞鄊əꟸ鄛朁 - 0.99997679\n",
      "Best fitness at generation 372: %0ꠔ撽溞鄊ɍꟸ鄛更 - 0.99997670\n",
      "Best fitness at generation 373: %0ꠔ撽溞鄊ɍꟸ鄛更 - 0.99997670\n",
      "Best fitness at generation 374: %0Ꟊ撽滺鄯əꟸ鄛朁 - 0.99997666\n",
      "Best fitness at generation 375: %0Ꞹ撽溞郹ɍꞵ鄛朁 - 0.99997665\n",
      "Best fitness at generation 376: %0ꝳ撽溞郹ɍꡄ邺朁 - 0.99997662\n",
      "Best fitness at generation 377: %0꛻撽溞郹ɍꡄ鄀朁 - 0.99997655\n",
      "Best fitness at generation 378: %0ꛩ撽溞鄯̈꠨鄛枨 - 0.99997654\n",
      "Best fitness at generation 379: %0ꛩ撽溞郹ɍꡄ酧替 - 0.99997654\n",
      "Best fitness at generation 380: %0Ꙗ敉溞郹ȧꡄ鄀暉 - 0.99997646\n",
      "Best fitness at generation 381: %0ꘘ掺渧鄯̈꠨鄛杛 - 0.99997643\n",
      "Best fitness at generation 382: %0ꖠ掺渧鄯̈꠨鄛曎 - 0.99997636\n",
      "Best fitness at generation 383: %0ꖎ敉溞釁ɢꡄ鄛杛 - 0.99997635\n",
      "Best fitness at generation 384: %0ꓢ掺渧鄯̦꠨鄛曎 - 0.99997625\n",
      "Best fitness at generation 385: %0ꑐ掺溞郹ɍꡄ鄈曎 - 0.99997617\n",
      "Best fitness at generation 386: %0ꏕ掺溞郹ɍꡄ郲曎 - 0.99997610\n",
      "Best fitness at generation 387: %0ꏕ掺溞郹ɍꡄ郲曎 - 0.99997610\n",
      "Best fitness at generation 388: %0ꌀ掺溞郹ɍꡄ郲曎 - 0.99997598\n",
      "Best fitness at generation 389: %0ꌀ掺溞郹ɍꡄ郲曎 - 0.99997598\n",
      "Best fitness at generation 390: %0ꊇ掶溞郹ɍꡄ鄛曎 - 0.99997591\n",
      "Best fitness at generation 391: %0ꉥ掶溞郹ɍꡄ郜曎 - 0.99997589\n",
      "Best fitness at generation 392: %0ꇑ掶溞郹ɍꡄ鄛曎 - 0.99997580\n"
     ]
    },
    {
     "name": "stdout",
     "output_type": "stream",
     "text": [
      "Best fitness at generation 393: %0ꅤ掶溒郹ɍꡄ鄛曎 - 0.99997574\n",
      "Best fitness at generation 394: %0ꃧ掺溋郹ɍꠇ鄛暧 - 0.99997566\n",
      "Best fitness at generation 395: %0ꃧ掺溋郹ɍꠇ鄛暧 - 0.99997566\n",
      "Best fitness at generation 396: %0ꁢ掺溋郹ɍꠉ鄛暧 - 0.99997558\n",
      "Best fitness at generation 397: %0ꀐ掺溋邵ɍꠇ鄛暧 - 0.99997554\n",
      "Best fitness at generation 398: %0龱掺溋邵ɾꡄ鄛曎 - 0.99997548\n",
      "Best fitness at generation 399: %0鼮掺溋邵ɾꡄ鄛暧 - 0.99997540\n",
      "Best fitness at generation 400: %0鹨挳溋邵ɾꡄ鄛曎 - 0.99997528\n",
      "Best fitness at generation 401: %0鹨挳溋邵ɾꡄ鄛曎 - 0.99997528\n",
      "Best fitness at generation 402: %0鹨挳溋邵ɾꡄ鄛曎 - 0.99997528\n",
      "Best fitness at generation 403: %0鷯扡溋邵ɾꡄ鄛暧 - 0.99997520\n",
      "Best fitness at generation 404: %0鶑挳溋邵ɾꟍ鄛暧 - 0.99997515\n",
      "Best fitness at generation 405: %0鶀挳溋都ɾꡄ鄐暧 - 0.99997514\n",
      "Best fitness at generation 406: %a鲻挳溋邵ɾꟍ鄛暧 - 0.99997501\n",
      "Best fitness at generation 407: %a鲻挳溋都ɾꡄ鄐曈 - 0.99997501\n",
      "Best fitness at generation 408: %a鰿挳溋邒ɾꡄ鄐曈 - 0.99997494\n",
      "Best fitness at generation 409: %0鯿拮溋都ʠꢕ鄐曈 - 0.99997490\n",
      "Best fitness at generation 410: %a鯘挳溋邒ʓꡄ鄐曈 - 0.99997487\n",
      "Best fitness at generation 411: %0鮵拮湮都ʠꡔ鄐曈 - 0.99997485\n",
      "Best fitness at generation 412: %a魦挳溋鄉ʓꡄ鄐曈 - 0.99997480\n",
      "Best fitness at generation 413: %0鬕捃湮都фꠦ酅曈 - 0.99997475\n",
      "Best fitness at generation 414: %0骈捉湮都фꠦ鄐曈 - 0.99997466\n",
      "Best fitness at generation 415: %a驤挳渲邒ɾꡤ郾曈 - 0.99997463\n",
      "Best fitness at generation 416: %a駟挳渲遼ʓꡄ鄐曈 - 0.99997455\n",
      "Best fitness at generation 417: %a駟挳渲遼ʓꡄ鄐曈 - 0.99997455\n",
      "Best fitness at generation 418: %a餔挳湾遼ʓꡄ鄐曈 - 0.99997442\n",
      "Best fitness at generation 419: %a颔挳湾遼ɮꡄ鄐曈 - 0.99997433\n",
      "Best fitness at generation 420: %a韧掁潸遼ʱꡄ醙曔 - 0.99997422\n",
      "Best fitness at generation 421: %a韧掁潸遼ʱꡄ醙曔 - 0.99997422\n",
      "Best fitness at generation 422: %a韧扼溹迯ʿꡄ鄐晠 - 0.99997422\n",
      "Best fitness at generation 423: %a靀掁潸遼ʱꠢ醻曔 - 0.99997411\n",
      "Best fitness at generation 424: %a霫掁潸逝Ʋꡄ醙暨 - 0.99997409\n",
      "Best fitness at generation 425: %a陗掁瀙遾ʱꠢ醙曔 - 0.99997395\n",
      "Best fitness at generation 426: %a闙掁瀙遾Ʋꡄ醙暨 - 0.99997386\n",
      "Best fitness at generation 427: %a闋掁瀙遾Ʋꡄ醕曔 - 0.99997385\n",
      "Best fitness at generation 428: %a锱掁瀙遾Ʋꠕ醕曔 - 0.99997375\n",
      "Best fitness at generation 429: %a铔掁瀙遾Ʋꠕ醕曔 - 0.99997368\n",
      "Best fitness at generation 430: %a针拏瀙遾Ʋꡇ醕暱 - 0.99997363\n",
      "Best fitness at generation 431: %a鐼拏瀙遾Ʋꡇ醀暱 - 0.99997358\n",
      "Best fitness at generation 432: %a鐼拏瀙遾Ňꡇ醀曭 - 0.99997358\n",
      "Best fitness at generation 433: %a鍱拏瀙遾Ʋꡇ醀曦 - 0.99997344\n",
      "Best fitness at generation 434: %a鍱拏濜遾Ʋꡇ醀曦 - 0.99997344\n",
      "Best fitness at generation 435: %a鋆拏瀙邶ªꡇ鄨曦 - 0.99997331\n",
      "Best fitness at generation 436: %a鈪拏瀙鄼ªꡇ鄨曦 - 0.99997320\n",
      "Best fitness at generation 437: %a鈪拏瀙鄼ªꡇ鄨曦 - 0.99997320\n",
      "Best fitness at generation 438: %a釢拏瀙鄼Qꡇ鄨曦 - 0.99997315\n",
      "Best fitness at generation 439: %a醕拏瀙邶ªꡇ鄨曦 - 0.99997310\n",
      "Best fitness at generation 440: %a酘拏瀙鄼Qꡇ鄨柔 - 0.99997305\n",
      "Best fitness at generation 441: %a配拏瀙鄚æꠟ醞曦 - 0.99997304\n",
      "Best fitness at generation 442: %a邕拏瀙鄼Qꡇ郼桘 - 0.99997291\n",
      "Best fitness at generation 443: %a遻拏瀙鄼Qꡇ郔柔 - 0.99997289\n",
      "Best fitness at generation 444: %a遆拏瀙郍Qꡇ郼柔 - 0.99997285\n",
      "Best fitness at generation 445: %a逵拏瀙鄼Qꡇ郼曥 - 0.99997284\n",
      "Best fitness at generation 446: %a迱拏瀙郍Qꡇ郼曦 - 0.99997279\n",
      "Best fitness at generation 447: %a轐拏瀙酖Qꡇ郱桘 - 0.99997267\n",
      "Best fitness at generation 448: %a轎拏瀙郍Qꡇ郼曬 - 0.99997267\n",
      "Best fitness at generation 449: %a躆拏濝酖Qꡇ郱條 - 0.99997252\n",
      "Best fitness at generation 450: %a躆挍濝酖Qꡇ郱條 - 0.99997252\n",
      "Best fitness at generation 451: %a趒拏濝酖Qꡇ郱梖 - 0.99997233\n",
      "Best fitness at generation 452: %a趒拏濝酖Qꡇ郱梖 - 0.99997233\n",
      "Best fitness at generation 453: %a賶拏濝酖Qꡇ遶梪 - 0.99997221\n",
      "Best fitness at generation 454: %a賶拏濝酖Qꡇ遶梪 - 0.99997221\n",
      "Best fitness at generation 455: %a谯拏濝酖\\ꢹ醗桘 - 0.99997206\n",
      "Best fitness at generation 456: %a谯挗澣酖\\ꢹ醗桘 - 0.99997206\n",
      "Best fitness at generation 457: %a谯拏濝酖\\ꢹ醗桘 - 0.99997206\n",
      "Best fitness at generation 458: %a训拏濝酖\\ꢹ酬桘 - 0.99997195\n",
      "Best fitness at generation 459: %a譏拏濝酖\\ꢹ酬桘 - 0.99997188\n",
      "Best fitness at generation 460: %a諲拏濝醂￮ꡇ逰椩 - 0.99997181\n",
      "Best fitness at generation 461: %a誑拏濝醂￮ꡇ逰椩 - 0.99997173\n",
      "Best fitness at generation 462: %a覦拏濝醂￮ꢠ酬桘 - 0.99997154\n",
      "Best fitness at generation 463: %a襶拏濝酖\\ꢠ酬桘 - 0.99997150\n",
      "Best fitness at generation 464: %a裰拏濝酖\\ꢠ酬桘 - 0.99997139\n",
      "Best fitness at generation 465: %a裄拏濝醻Lꢠ酬棕 - 0.99997136\n",
      "Best fitness at generation 466: %a衄拏濝醉Mꢠ酬桘 - 0.99997125\n",
      "Best fitness at generation 467: %a蟄拏濝醉Mꢠ酬桘 - 0.99997114\n",
      "Best fitness at generation 468: %a蟂拏濝醉Mꢠ酬桘 - 0.99997114\n",
      "Best fitness at generation 469: %a螌拏濝醉Mꢠ酬桘 - 0.99997110\n",
      "Best fitness at generation 470: %a蝀拏濝醉Úꢠ酬桘 - 0.99997103\n",
      "Best fitness at generation 471: %a蛈拏濝醉Úꢠ酬桘 - 0.99997093\n",
      "Best fitness at generation 472: %a蛈拏濝醉Úꢠ酬桘 - 0.99997093\n",
      "Best fitness at generation 473: %a虤挞濝醉ñꢠ酬桘 - 0.99997085\n",
      "Best fitness at generation 474: %a虤挞濝醉¥ꢠ酬桘 - 0.99997085\n",
      "Best fitness at generation 475: %a蘥拏濝醉Úꢠ酬桄 - 0.99997079\n",
      "Best fitness at generation 476: %a薐拏濝醉Úꢠ酬桄 - 0.99997067\n",
      "Best fitness at generation 477: %a蔣拏濝醉Úꢠ酬桘 - 0.99997057\n",
      "Best fitness at generation 478: %a蓇拏濝醉Úꢠ酬桘 - 0.99997049\n",
      "Best fitness at generation 479: %a葚拏濝酤Ú꤮酬柩 - 0.99997040\n",
      "Best fitness at generation 480: %a葙拏濝醉Ú꣜酬桘 - 0.99997040\n",
      "Best fitness at generation 481: %a菧拏濝醉Ú꣜鄳桘 - 0.99997030\n",
      "Best fitness at generation 482: %a莬拏濝釵Úꢠ邜桘 - 0.99997024\n",
      "Best fitness at generation 483: %a莬拏濝鈐Úꟻ邜桘 - 0.99997024\n",
      "Best fitness at generation 484: %a茆拏澩釵Ăꢠ邜桘 - 0.99997010\n",
      "Best fitness at generation 485: %a苯拏濉釲Ú꣜鄳柡 - 0.99997008\n",
      "Best fitness at generation 486: %a艣拏澩釶¾ꢠ鄶桘 - 0.99996995\n",
      "Best fitness at generation 487: %a臲拏澩釶¾ꢠ鄶桘 - 0.99996985\n",
      "Best fitness at generation 488: %a膼拏澩釶¾ꢹ鄶桏 - 0.99996980\n",
      "Best fitness at generation 489: %a腳拏澩釶¾ꢹ鄶桏 - 0.99996973\n",
      "Best fitness at generation 490: %a腳拏澩鈴¾ꢹ鄶桘 - 0.99996973\n",
      "Best fitness at generation 491: %a脔技澩釶¾ꥧ鄶桏 - 0.99996964\n",
      "Best fitness at generation 492: %a肻拏澩鄾åꢠ邜桘 - 0.99996956\n",
      "Best fitness at generation 493: %a肳技澩釶åꢠ鄶桏 - 0.99996955\n",
      "Best fitness at generation 494: %a聜拏澩鄾åꢠ邜桢 - 0.99996947\n",
      "Best fitness at generation 495: %a聜拏澩邌åꢠ邜桢 - 0.99996947\n",
      "Best fitness at generation 496: %a翯戲澩鄾Åꢠ邜桢 - 0.99996937\n",
      "Best fitness at generation 497: %a羢戲澩鄾Åꢠ酂枼 - 0.99996930\n",
      "Best fitness at generation 498: %a羢戲澩鄾Åꢠ酂枼 - 0.99996930\n",
      "Best fitness at generation 499: %a绢戲澩鄾Åꢠ酂枼 - 0.99996912\n",
      "Best fitness at generation 500: %a纰戲澩鄾Åꡬ酂枼 - 0.99996907\n",
      "Best fitness at generation 501: %a縣戲澩鄾Öꢠ酂杤 - 0.99996893\n",
      "Best fitness at generation 502: %a縗愖漽鄾Åꟲ酂枼 - 0.99996892\n",
      "Best fitness at generation 503: %a緓戲澩鄾Öꢠ酂杤 - 0.99996886\n",
      "Best fitness at generation 504: %a紨戲澩鄾Åꡬ酂枼 - 0.99996869\n",
      "Best fitness at generation 505: %a紨戲澵郵ěꡘ酂枼 - 0.99996869\n",
      "Best fitness at generation 506: %a紙戲激鄾Åꡬ酂枼 - 0.99996868\n",
      "Best fitness at generation 507: %a粬慈漽鄾¹ꡬ酂枙 - 0.99996857\n",
      "Best fitness at generation 508: %a籠戲澩鄾Öꢠ酂柦 - 0.99996849\n",
      "Best fitness at generation 509: %a籌戲溧鄾¹ꡬ酂枙 - 0.99996847\n",
      "Best fitness at generation 510: %a篽慈漽鄾ĥꡬ酂枼 - 0.99996839\n",
      "Best fitness at generation 511: %a箣戲溧鄾¾ꡬ酂枭 - 0.99996830\n",
      "Best fitness at generation 512: %a箣戲溧鄾¾ꡬ酂栕 - 0.99996830\n",
      "Best fitness at generation 513: %a笪戲溧鄾¾ꡬ郪枙 - 0.99996818\n",
      "Best fitness at generation 514: %a窌戲溧鄾¾ꡬ酂枼 - 0.99996802\n",
      "Best fitness at generation 515: %a稔戲溧鄾¾ꡬ郪枙 - 0.99996790\n",
      "Best fitness at generation 516: %a禢戲溧鄾¾ꡬ郪枙 - 0.99996778\n",
      "Best fitness at generation 517: %a禢戲溧鄾¾ꡬ郪枙 - 0.99996778\n",
      "Best fitness at generation 518: %a祹戲溧鄿¾ꡬ郪枙 - 0.99996774\n",
      "Best fitness at generation 519: %a祴扏溧鄿¾ꡬ郪柍 - 0.99996773\n",
      "Best fitness at generation 520: %a磄戲溧鄿¾꠿鄡枙 - 0.99996755\n",
      "Best fitness at generation 521: %a磄懰溧鄿¾ꡊ鄡枙 - 0.99996755\n",
      "Best fitness at generation 522: %a碇戲溧鄧¾꠿鄡枙 - 0.99996748\n",
      "Best fitness at generation 523: %a砤扚淜鄿¾꠿鄡枙 - 0.99996738\n",
      "Best fitness at generation 524: %a矓戲溧鄖¾꠿鄡枙 - 0.99996729\n",
      "Best fitness at generation 525: %a眳戲溧鄧¾꠿鄡枙 - 0.99996712\n",
      "Best fitness at generation 526: %a眳戲溧鄧¾ꠧ鄡枙 - 0.99996712\n",
      "Best fitness at generation 527: %a眃扚溧鄧¾ꢋ鄡枙 - 0.99996707\n",
      "Best fitness at generation 528: %a皍扚渕鄧¾꣖鄡杫 - 0.99996694\n",
      "Best fitness at generation 529: %a癡扚溧鄧¾꠹鄉栗 - 0.99996689\n",
      "Best fitness at generation 530: %a痱扚溧鄧¾꠹鄉栗 - 0.99996677\n",
      "Best fitness at generation 531: %a痖扚溧鄧¾꠹醊杫 - 0.99996674\n",
      "Best fitness at generation 532: %a痖扚溧鄧¾꣖酟束 - 0.99996674\n",
      "Best fitness at generation 533: %a番扚溧郰ꡦ郫栗 - 0.99996662\n",
      "Best fitness at generation 534: %a番扚溧郰¾꠹酊杫 - 0.99996662\n",
      "Best fitness at generation 535: %a申扚溧郰¾꠹酊杫 - 0.99996656\n",
      "Best fitness at generation 536: %a瓳扚漂鄧¾꠹醍栔 - 0.99996649\n",
      "Best fitness at generation 537: %a璓戵溧郰¾꠹酊枛 - 0.99996638\n",
      "Best fitness at generation 538: %a珺抰溧郰¾꠹酊枛 - 0.99996620\n",
      "Best fitness at generation 539: %a珠戵溧郰¾꠹酊枛 - 0.99996617\n",
      "Best fitness at generation 540: %a獓抰溝郰¾꠹酊枛 - 0.99996601\n",
      "Best fitness at generation 541: %a獎抵溧郰¾꠹酊枛 - 0.99996601\n",
      "Best fitness at generation 542: %a状抰漛郰0ꠛ酯枛 - 0.99996583\n",
      "Best fitness at generation 543: %a爒抰漛郰0ꠛ酯枛 - 0.99996564\n",
      "Best fitness at generation 544: %a燲抰漛郰¾꠮酊枛 - 0.99996560\n",
      "Best fitness at generation 545: %a熆抰漛郰0ꠛ酯枛 - 0.99996547\n"
     ]
    },
    {
     "name": "stdout",
     "output_type": "stream",
     "text": [
      "Best fitness at generation 546: %a熆抰漛郰0ꠛ酯枛 - 0.99996547\n",
      "Best fitness at generation 547: %e煅抰漛鄤øꠛ鄟枛 - 0.99996539\n",
      "Best fitness at generation 548: %a焯抰湦邜0ꠛ鄟枛 - 0.99996537\n",
      "Best fitness at generation 549: %e炴拰漛鄤øꠛ鄟枛 - 0.99996522\n",
      "Best fitness at generation 550: %a灮抰漛邺｢ꤨ郼枛 - 0.99996513\n",
      "Best fitness at generation 551: %e濣捞濥鄤øꠛ鈂枆 - 0.99996496\n",
      "Best fitness at generation 552: %e濣捞濥鄤øꤨ郼枛 - 0.99996496\n",
      "Best fitness at generation 553: %e澗捨漛鄤øꞽ鉄枛 - 0.99996487\n",
      "Best fitness at generation 554: %e潄捞漛邺ﻊꤝ鈂朹 - 0.99996477\n",
      "Best fitness at generation 555: %e滂捞濥酽Ŀꤨ郼枛 - 0.99996461\n",
      "Best fitness at generation 556: %e渖捞瀋酽Ŀꤨ郼枛 - 0.99996439\n",
      "Best fitness at generation 557: %e淏捞瀋酽Ŀꤨ郼枛 - 0.99996430\n",
      "Best fitness at generation 558: %e涭捞濥酽Ŀ꤁郼柴 - 0.99996426\n",
      "Best fitness at generation 559: %e泮捞瀼酽Ŀꤨ郼枛 - 0.99996401\n",
      "Best fitness at generation 560: %e泮捞瀼酽Ŀ꧜郼枛 - 0.99996401\n",
      "Best fitness at generation 561: %e汚捞瀼酽Ŀ꧜郼枛 - 0.99996382\n",
      "Best fitness at generation 562: %e汔控灓酽Ŀꤨ郧枛 - 0.99996381\n",
      "Best fitness at generation 563: %e毆捞瀼酽ꦛ郼柞 - 0.99996362\n",
      "Best fitness at generation 564: %e毆捞瀼酽ꦛ邨栌 - 0.99996362\n",
      "Best fitness at generation 565: %e歃捎焞酽ꦋ郼柞 - 0.99996345\n",
      "Best fitness at generation 566: %e歃捎焞酽ꦛ郼杢 - 0.99996345\n",
      "Best fitness at generation 567: %e櫮捎焞酽꧜郩栌 - 0.99996333\n",
      "Best fitness at generation 568: %e檊捎焞酽꧜郼栌 - 0.99996320\n",
      "Best fitness at generation 569: %e樜戲焞酽꧜郩柀 - 0.99996305\n",
      "Best fitness at generation 570: %e椻捎熕酽ꦚ邨柗 - 0.99996274\n",
      "Best fitness at generation 571: %e椻捎熕酽ꦚ邨柗 - 0.99996274\n",
      "Best fitness at generation 572: %e桐捎熕酽ꦑ郼栌 - 0.99996241\n",
      "Best fitness at generation 573: %e桐捎熕酽ꤦ郼栌 - 0.99996241\n",
      "Best fitness at generation 574: %e柽捎熕酽ꦚ逶梎 - 0.99996229\n",
      "Best fitness at generation 575: %e柍捎爘酽ꦚ逶梎 - 0.99996222\n",
      "Best fitness at generation 576: %e柍捎爘酽ꦑ逶梎 - 0.99996222\n",
      "Best fitness at generation 577: %e术捎熕鄣Zꦚ逶梎 - 0.99996200\n",
      "Best fitness at generation 578: %e朖捐爘酽ꦚ逶梎 - 0.99996196\n",
      "Best fitness at generation 579: %e月捎爘酽ꦚ逶棗 - 0.99996194\n",
      "Best fitness at generation 580: %e曄捎爘酽ꦚ逶棗 - 0.99996184\n",
      "Best fitness at generation 581: %e暬捐狦酽ꦚ逶梦 - 0.99996181\n",
      "Best fitness at generation 582: %e晧捐狦酽ꦚ逶梎 - 0.99996171\n",
      "Best fitness at generation 583: %e斪捍爘酽ꦚ迦棗 - 0.99996143\n",
      "Best fitness at generation 584: %e斪捍爘酽ꦚ迦棗 - 0.99996143\n",
      "Best fitness at generation 585: %e擡捍爘酽ꦚ逶棓 - 0.99996113\n",
      "Best fitness at generation 586: %e摏捍爘酽ꦚ逶棓 - 0.99996090\n",
      "Best fitness at generation 587: %e摏捧爘酽ꦚ逶棓 - 0.99996090\n",
      "Best fitness at generation 588: %e掾捍爘酽ꦚ逗棓 - 0.99996068\n",
      "Best fitness at generation 589: %e损捍爘酳|ꤏ逶桀 - 0.99996053\n",
      "Best fitness at generation 590: %e拮捍牜郩ꦅ逶棓 - 0.99996036\n",
      "Best fitness at generation 591: %e拡捍營酳|ꤏ逶桭 - 0.99996034\n",
      "Best fitness at generation 592: %e抸捍牜郩ꦅ邖桀 - 0.99996027\n",
      "Best fitness at generation 593: %e抂挅爘酽ꨐ逗棓 - 0.99996019\n",
      "Best fitness at generation 594: %e扼捍牜郩áꦅ逶棓 - 0.99996018\n",
      "Best fitness at generation 595: %e懽挅爘醋ꨐ逗棓 - 0.99995997\n",
      "Best fitness at generation 596: %e懜挙營鄅þꤏ逗棓 - 0.99995992\n",
      "Best fitness at generation 597: %e憠挬爘醡ꨐ逗梖 - 0.99995982\n",
      "Best fitness at generation 598: %e憙挙營鄅þ꣹逗椺 - 0.99995981\n",
      "Best fitness at generation 599: %e悼挬爘醡ꪀ逗栫 - 0.99995945\n",
      "Best fitness at generation 600: %e怈挅爘醡ꪀ逗梖 - 0.99995916\n",
      "Best fitness at generation 601: %e怈挅爘醡ꪀ逗梖 - 0.99995916\n",
      "Best fitness at generation 602: %e彩挅爘醡ꪀ逗栫 - 0.99995889\n",
      "Best fitness at generation 603: %e弋挅爘醡ꪀ遂析 - 0.99995873\n",
      "Best fitness at generation 604: %e幬挅爘醫ꪀ輜梖 - 0.99995846\n",
      "Best fitness at generation 605: %e幬挅爘醫ꪀ輜梖 - 0.99995846\n",
      "Best fitness at generation 606: %e巛挅爘釳ꪀ遀梖 - 0.99995820\n",
      "Best fitness at generation 607: %e嶿挅爘醫ꪀ邖析 - 0.99995816\n",
      "Best fitness at generation 608: %e嶄挅爯醫gꪀ逗枲 - 0.99995805\n",
      "Best fitness at generation 609: %e嵟挍爯醫gꪀ逗枲 - 0.99995799\n",
      "Best fitness at generation 610: %e岢挅牫鉗pꪀ遀梖 - 0.99995765\n",
      "Best fitness at generation 611: %e岢挅牫鉗pꪀ遀梖 - 0.99995765\n",
      "Best fitness at generation 612: %e尔掤爨鉗pꪀ遀梕 - 0.99995739\n",
      "Best fitness at generation 613: %e寏挅牫鉗pꪀ遀梕 - 0.99995727\n",
      "Best fitness at generation 614: %e寏挅牫鉗p꫚遀梕 - 0.99995727\n",
      "Best fitness at generation 615: %e孹挅犷鉗p꩎遂桂 - 0.99995711\n",
      "Best fitness at generation 616: %e嫭描爨鈆½ꪀ迏梕 - 0.99995685\n",
      "Best fitness at generation 617: %e嫭描爨鈀½ꪀ遀梕 - 0.99995685\n",
      "Best fitness at generation 618: %e婥搘爨鉗lꪀ迪椯 - 0.99995660\n",
      "Best fitness at generation 619: %e婖描爨鈆½ꪀ迏棓 - 0.99995657\n",
      "Best fitness at generation 620: %e娈掩爨鉗lꪀ迪椯 - 0.99995642\n",
      "Best fitness at generation 621: %e妪掩煾鉗^ꪀ迪椯 - 0.99995624\n",
      "Best fitness at generation 622: %e奻掩爨鉗lꪀ迪梕 - 0.99995615\n",
      "Best fitness at generation 623: %e奋摏爨鉐ﾔꪀ迏梕 - 0.99995606\n",
      "Best fitness at generation 624: %e央摏爨鉐lꪀ迪梕 - 0.99995600\n",
      "Best fitness at generation 625: %e墺摏爨鉐ﾔ꫆遥棓 - 0.99995578\n",
      "Best fitness at generation 626: %e堹摏牉鉎ﾔꪀ迪楕 - 0.99995552\n",
      "Best fitness at generation 627: %e垰摏牉鉎ﾔ꫸辦楕 - 0.99995525\n",
      "Best fitness at generation 628: %e圤摏牉鉎ﾔꪀ边楕 - 0.99995497\n",
      "Best fitness at generation 629: %e團摏牉鉎ﾔꩳ遥棓 - 0.99995494\n",
      "Best fitness at generation 630: %e噾摏犇鉨ﾔꪀ边楕 - 0.99995463\n",
      "Best fitness at generation 631: %e嘰摏犇鉨ﾔꪀ边楕 - 0.99995447\n",
      "Best fitness at generation 632: %e嗈摏犇鉨ﾔꪀ边楕 - 0.99995425\n",
      "Best fitness at generation 633: %e啑掊牵鉨￞ꪀ车楒 - 0.99995400\n",
      "Best fitness at generation 634: %e哼摏犇鉨ﾔꩳ迪椹 - 0.99995382\n",
      "Best fitness at generation 635: %e哭摏犇鉨︼꩔车楒 - 0.99995379\n",
      "Best fitness at generation 636: %e叝摏犇銠￫ꪚ逖楕 - 0.99995320\n",
      "Best fitness at generation 637: %e叝撰犇銠￫ꪚ逖楕 - 0.99995320\n",
      "Best fitness at generation 638: %e卉摏犇鉨︼꩔车楒 - 0.99995287\n",
      "Best fitness at generation 639: %e卉摏犇鉨Ｄ꩔车楒 - 0.99995287\n",
      "Best fitness at generation 640: %e匙摏犇銠￫ꪚ邭楒 - 0.99995277\n",
      "Best fitness at generation 641: %e凉摏犇鉌￫ꪚ輩楒 - 0.99995201\n",
      "Best fitness at generation 642: %e冎摏犇鉌￫ꪚ輩楒 - 0.99995187\n",
      "Best fitness at generation 643: %e儿摏爱鉨︼ꪚ逖楕 - 0.99995169\n",
      "Best fitness at generation 644: %e儗揾犇鉰︼꩔輑榰 - 0.99995159\n",
      "Best fitness at generation 645: %e儗揾犇鉰︼꩔輑榰 - 0.99995159\n",
      "Best fitness at generation 646: %e傓擕熻銠￫ꪚ週楕 - 0.99995128\n",
      "Best fitness at generation 647: %e健掝犇鉰︼꩔輑椥 - 0.99995117\n",
      "Best fitness at generation 648: %e倈擕熻銠￫ꫥ週楕 - 0.99995095\n",
      "Best fitness at generation 649: %e倁掗犇錌￫ꩧ輩楒 - 0.99995093\n",
      "Best fitness at generation 650: %e侪擕犇鉰﷋ꩩ遫榏 - 0.99995072\n",
      "Best fitness at generation 651: %e伤掗犇銣￫ꫭ週楕 - 0.99995039\n",
      "Best fitness at generation 652: %e伤掗牒銣￫ꫭ週楕 - 0.99995039\n",
      "Best fitness at generation 653: %e仡擕犇鋕﷋ꩩ逎桰 - 0.99995023\n",
      "Best fitness at generation 654: %e亦摎犇銣￫ꫭ週楕 - 0.99995008\n",
      "Best fitness at generation 655: %e乐掗犇銣￫ꫭ違棻 - 0.99994987\n",
      "Best fitness at generation 656: %e䵧摎犇鋢￫ꫭ郃梻 - 0.99994927\n",
      "Best fitness at generation 657: %e䵧摎犇鋢￫ꫭ郃梻 - 0.99994927\n",
      "Best fitness at generation 658: %e䲭摎犇鋢￫ꫭ郃梻 - 0.99994879\n",
      "Best fitness at generation 659: %e䲭摎爹鍨dꬑ邗梻 - 0.99994879\n",
      "Best fitness at generation 660: %e䰣擿爔鋢￫ꫭ郳棻 - 0.99994843\n",
      "Best fitness at generation 661: %e䰣擿爔鋇￫ꫭ郳棻 - 0.99994843\n",
      "Best fitness at generation 662: %e䯘摎獒銧￫꫃鄦棻 - 0.99994823\n",
      "Best fitness at generation 663: %e䭸擿爔錍\u0017ꫧ郺梻 - 0.99994797\n",
      "Best fitness at generation 664: %e䭝敖牳鋇￫ꬋ郺梗 - 0.99994789\n",
      "Best fitness at generation 665: %e䫌擿爔錍\u0017ꫧ郺梻 - 0.99994750\n",
      "Best fitness at generation 666: %e䪙擿爔鋇￫ꬋ郳梎 - 0.99994736\n",
      "Best fitness at generation 667: %e䩛擿爔錍\u0017ꫧ郺棘 - 0.99994718\n",
      "Best fitness at generation 668: %e䧬擿爔錍Bꫧ郺棘 - 0.99994687\n",
      "Best fitness at generation 669: %e䥸撿爔錍\u0017ꫧ郺梎 - 0.99994654\n",
      "Best fitness at generation 670: %e䥸撿爔錍Bꫧ郺棘 - 0.99994654\n",
      "Best fitness at generation 671: %e䤇撿燷醅\u0017ꫧ鄛梻 - 0.99994622\n",
      "Best fitness at generation 672: %e䤇撿燷醅\u0017ꫧ鄛梻 - 0.99994622\n",
      "Best fitness at generation 673: %9䢛撕燷釨¥ꫧ酿桊 - 0.99994591\n",
      "Best fitness at generation 674: %e䢎撿燷醅\u0017ꭝ酜棘 - 0.99994587\n",
      "Best fitness at generation 675: %e䞙敆燷釨¥ꫧ酿桊 - 0.99994514\n",
      "Best fitness at generation 676: %e䞙敆燷采¥ꫧ酿桊 - 0.99994514\n",
      "Best fitness at generation 677: %e䞙敦燷釨\u001fꭝ酜棘 - 0.99994514\n",
      "Best fitness at generation 678: %e䜕敆燷釨¥ꭏ酿桊 - 0.99994474\n",
      "Best fitness at generation 679: %e䙽旡燷采¥ꫧ酿桊 - 0.99994427\n",
      "Best fitness at generation 680: %e䙽旡燷采¥ꫧ酿桊 - 0.99994427\n",
      "Best fitness at generation 681: %e䙫旎燿鉆ĥ꫔酿桊 - 0.99994422\n",
      "Best fitness at generation 682: %e䘶旎燿鉆ĥ꫔酿桊 - 0.99994405\n",
      "Best fitness at generation 683: %e䕼旎燿鉆ĥ꫔酿枼 - 0.99994346\n",
      "Best fitness at generation 684: %e䔩旎燿銯ĥ꫔醜桊 - 0.99994319\n",
      "Best fitness at generation 685: %e䓓旎燿鈏ĥ꫔酿枼 - 0.99994292\n",
      "Best fitness at generation 686: %e䑦昢燿鉆rꨝ释桊 - 0.99994256\n",
      "Best fitness at generation 687: %e䐤昢燿鉆rꨝ释桊 - 0.99994234\n",
      "Best fitness at generation 688: %e䎾旎燿釰ĥ꫕酿栀 - 0.99994200\n",
      "Best fitness at generation 689: %e䎬旎燿釰ĥ꫕酿栀 - 0.99994194\n",
      "Best fitness at generation 690: %e䊇旎猟釰ĥ꫕酿栀 - 0.99994093\n",
      "Best fitness at generation 691: %e䊀旎燿釰ĥ꫕酿栜 - 0.99994091\n",
      "Best fitness at generation 692: %e䊀旎燿釰ĥ꫕釐栜 - 0.99994091\n",
      "Best fitness at generation 693: %e䆥旎犓醺ĥ꫕酿栀 - 0.99994013\n",
      "Best fitness at generation 694: %e䆥旎犓醺ĥꪘ酿栀 - 0.99994013\n",
      "Best fitness at generation 695: %e䅪旎犓醺ĥ꫕酿栀 - 0.99993992\n",
      "Best fitness at generation 696: %e䁞旅犓醺ĥꨳ酪栜 - 0.99993894\n"
     ]
    },
    {
     "name": "stdout",
     "output_type": "stream",
     "text": [
      "Best fitness at generation 697: %e䁞旅犓醺ĥꭋ酿栜 - 0.99993894\n",
      "Best fitness at generation 698: %e㾏旅犓郫Æ꫕酿栀 - 0.99993816\n",
      "Best fitness at generation 699: %e㽶旅犓醺ĥꧾ酪栜 - 0.99993806\n",
      "Best fitness at generation 700: %e㺭旅犓郫Æ꫕酿栀 - 0.99993728\n",
      "Best fitness at generation 701: %e㺫旅犓郫Æ꫕酿栀 - 0.99993727\n",
      "Best fitness at generation 702: %e㺡旅犓酗ĥꨳ酪栄 - 0.99993723\n",
      "Best fitness at generation 703: %e㸡旅犓郫Æꬼ酿机 - 0.99993672\n",
      "Best fitness at generation 704: %e㶳旅犓郫ź꫕酿栀 - 0.99993628\n",
      "Best fitness at generation 705: %e㶳旅犓郫ź꫕酪栀 - 0.99993628\n",
      "Best fitness at generation 706: %e㶳旅犓郫ĭ꫕酪栀 - 0.99993628\n",
      "Best fitness at generation 707: %e㵦旅犓郥ź꫕酿栀 - 0.99993597\n",
      "Best fitness at generation 708: %e㴒旅犓邋ź꫕酿柩 - 0.99993562\n",
      "Best fitness at generation 709: %e㳲旅犓邋ź꫕鄟栀 - 0.99993549\n",
      "Best fitness at generation 710: %e㳕旅犓邋ź꬟酿柩 - 0.99993537\n",
      "Best fitness at generation 711: %e㳕旅犓邋Ů꬟酿柩 - 0.99993537\n",
      "Best fitness at generation 712: %e㱇據犓邋ź꬟酿柩 - 0.99993477\n",
      "Best fitness at generation 713: %e㰭旅犓邋ź꬟酿柩 - 0.99993466\n",
      "Best fitness at generation 714: %e㯼據犓邋ǎ꬟酿柍 - 0.99993445\n",
      "Best fitness at generation 715: %e㮨旅犓邋ź꬟酿柩 - 0.99993408\n",
      "Best fitness at generation 716: %e㬕據犓邋ņ꬟酿柩 - 0.99993344\n",
      "Best fitness at generation 717: %e㬕攘犓邋ņ꬟酿柩 - 0.99993344\n",
      "Best fitness at generation 718: %e㩖據猼邋ņ꬟酿柩 - 0.99993258\n",
      "Best fitness at generation 719: %e㧡據猼邋ņ꬟酿柩 - 0.99993205\n",
      "Best fitness at generation 720: %e㦪攘犓邋Ż꬟鄦柩 - 0.99993179\n",
      "Best fitness at generation 721: %e㤓據猼邋ņ꬟酿柩 - 0.99993108\n",
      "Best fitness at generation 722: %e㤓攓猼邋ņ꬟酿柩 - 0.99993108\n",
      "Best fitness at generation 723: %e㡺據猼邋ņ꬟酿枴 - 0.99993035\n",
      "Best fitness at generation 724: %e㠙據猼邋ņ꬟酿枺 - 0.99992987\n",
      "Best fitness at generation 725: %e㠖據猼邋ņ꬟酿枴 - 0.99992986\n",
      "Best fitness at generation 726: %e㞍敃獚邰ņ꬟酿朔 - 0.99992918\n",
      "Best fitness at generation 727: %e㝐撶猼邋ņ꬟鄖枴 - 0.99992887\n",
      "Best fitness at generation 728: %e㝐擻猼邋ņꫯ鄖枴 - 0.99992887\n",
      "Best fitness at generation 729: %e㛋撶猼邋ņ꬟鄖枴 - 0.99992819\n",
      "Best fitness at generation 730: %e㛋撶猼邋ņ꬟鄖枴 - 0.99992819\n",
      "Best fitness at generation 731: %e㚏撶猼邒ņ꬟酆枺 - 0.99992788\n",
      "Best fitness at generation 732: %e㙹撯獽邋î꬟酆杂 - 0.99992777\n",
      "Best fitness at generation 733: %e㙃撶獽邋ņ꬟鄖枴 - 0.99992748\n",
      "Best fitness at generation 734: %e㔪撶獽邋ņ꬟鄖枴 - 0.99992598\n",
      "Best fitness at generation 735: %e㔪撶獽邋ņꭇ郚枴 - 0.99992598\n",
      "Best fitness at generation 736: %e㓿撶獉邋ņ꬟鄖枴 - 0.99992574\n",
      "Best fitness at generation 737: %e㑦撶玊遆ņꭇ郚枴 - 0.99992489\n",
      "Best fitness at generation 738: %e㑦撶玊遆ņ꬟鄖枴 - 0.99992489\n",
      "Best fitness at generation 739: %e㏕撶玊遆ņꭇ郚枴 - 0.99992406\n",
      "Best fitness at generation 740: %e㎘撶玳遆ņꭇ郚枴 - 0.99992370\n",
      "Best fitness at generation 741: %e㍓撶玍遆ņꭇ酫枴 - 0.99992330\n",
      "Best fitness at generation 742: %e㌇撶玳遆ņ꫹郚枴 - 0.99992285\n",
      "Best fitness at generation 743: %e㊯撶玳遆ĭ꫔郇枴 - 0.99992232\n",
      "Best fitness at generation 744: %e㉍撶玳遆ĭ꫔郇枴 - 0.99992173\n",
      "Best fitness at generation 745: %eㇾ撶玳遆é꫹醜枴 - 0.99992124\n",
      "Best fitness at generation 746: %eㇾ撶猚遆ĭ꫔鄑杩 - 0.99992124\n",
      "Best fitness at generation 747: %eㆉ撶玳遆Ŗꩦ郇曊 - 0.99992051\n",
      "Best fitness at generation 748: %eㅙ撶玳遆Ŗꦿ郇曊 - 0.99992020\n",
      "Best fitness at generation 749: %eへ撶玳遆Ŗꦿ郇曊 - 0.99991875\n",
      "Best fitness at generation 750: %eへ撶玳逜Ęꬕ醜枴 - 0.99991875\n",
      "Best fitness at generation 751: %e⿉撶玳遆Ŗꦿ郇曊 - 0.99991757\n",
      "Best fitness at generation 752: %e⾧撶玳遆Qꮠ酭枴 - 0.99991734\n",
      "Best fitness at generation 753: %e⾠撶玳遆Ŗꤻ郇曊 - 0.99991729\n",
      "Best fitness at generation 754: %e⽊撶玳遆Ŗꨦ郇曊 - 0.99991670\n",
      "Best fitness at generation 755: %e⼱撶玅遆Ŗꤻ郇暢 - 0.99991653\n",
      "Best fitness at generation 756: %e⺋撶珐遆ņꬕ郭柵 - 0.99991535\n",
      "Best fitness at generation 757: %e⹉撶瓞遆ņꬕ郭柵 - 0.99991488\n",
      "Best fitness at generation 758: %e⸃撜珐遆Ȁꤻ郇暢 - 0.99991437\n",
      "Best fitness at generation 759: %e⸃撜瑻遆¹ꤻ郇暢 - 0.99991437\n",
      "Best fitness at generation 760: %eⵅ撜瑻遆¹꥘郇暢 - 0.99991295\n",
      "Best fitness at generation 761: %eⵅ撜瑻郆Ȁꬒ郭枳 - 0.99991295\n",
      "Best fitness at generation 762: %e⳻撜珐遆Ȁꤻ郇暢 - 0.99991239\n",
      "Best fitness at generation 763: %e⳻撜珐遆Ȁꤻ郇暢 - 0.99991239\n",
      "Best fitness at generation 764: %eⳂ撜珐逹Ȁꤳ違暢 - 0.99991195\n",
      "Best fitness at generation 765: %eⲕ撜珐逹Ȁꣂ逇曋 - 0.99991160\n",
      "Best fitness at generation 766: %eⰘ撜珐逹Ȁꤳ遳暢 - 0.99991061\n",
      "Best fitness at generation 767: %e⮝撖珐遆X꧊鄓曖 - 0.99990962\n",
      "Best fitness at generation 768: %e⮃撖珐遆X꧊鄓曖 - 0.99990940\n",
      "Best fitness at generation 769: %e⬓撜珐郢ｄ꧊鄓杄 - 0.99990848\n",
      "Best fitness at generation 770: %e⬓撜琝郢ｄ꧊鄓杄 - 0.99990848\n",
      "Best fitness at generation 771: %e⩉撖珐郠Ƴ꧖鄓曖 - 0.99990675\n",
      "Best fitness at generation 772: %e⧦擶珐郢ｄ꧊酗曖 - 0.99990588\n",
      "Best fitness at generation 773: %e⧦擶珐郢ｄ꧊酗曖 - 0.99990588\n",
      "Best fitness at generation 774: %e⤺擶珐郢ｄ꧊酗曖 - 0.99990433\n",
      "Best fitness at generation 775: %e⤁擶珐郠ǔ꧊酗曖 - 0.99990381\n",
      "Best fitness at generation 776: %e⣖擶珐郢ｄ꧊鄽曖 - 0.99990341\n",
      "Best fitness at generation 777: %e⢓擶珐郠ﻼ꧊酗暕 - 0.99990278\n",
      "Best fitness at generation 778: %e⠚撖狮醗Ƴ꧃酤曖 - 0.99990162\n",
      "Best fitness at generation 779: %e➴擶玜郠Ｘꦅ鄽晖 - 0.99990063\n",
      "Best fitness at generation 780: %e➤攡珐邥ﻼꨘ郠暕 - 0.99990047\n",
      "Best fitness at generation 781: %e❦擶玜郠Ｘꦅ鄽曖 - 0.99989985\n",
      "Best fitness at generation 782: %e✧攡珐邥Ǔꨎ郲暬 - 0.99989921\n",
      "Best fitness at generation 783: %e✧攡珐邥ﻡꨘ郠暕 - 0.99989921\n",
      "Best fitness at generation 784: %e⛠旃珐郠＃ꦅ過晋 - 0.99989849\n",
      "Best fitness at generation 785: %e⚉攡玼鄃）ꨘ郠暁 - 0.99989758\n",
      "Best fitness at generation 786: %e▬攡玼鄃）ꨘ郠暁 - 0.99989521\n",
      "Best fitness at generation 787: %e▬攡玼鄃）ꨘ郠暕 - 0.99989521\n",
      "Best fitness at generation 788: %e╾攡玼鄃ﻅꨀ邕暁 - 0.99989470\n",
      "Best fitness at generation 789: %eⓐ攡玼鄃）ꨘ郠暕 - 0.99989274\n",
      "Best fitness at generation 790: %eⒻ攡玼鄃）ꨘ郠暁 - 0.99989250\n",
      "Best fitness at generation 791: %e⏴攐獦鄃）ꨘ郡暕 - 0.99989015\n",
      "Best fitness at generation 792: %e⍬操狧鄃＇ꦓ逦暁 - 0.99988848\n",
      "Best fitness at generation 793: %e⍍操狧鄃＇ꨘ郾暕 - 0.99988809\n",
      "Best fitness at generation 794: %e⌕操犗鄃＇ꨘ郾暕 - 0.99988739\n",
      "Best fitness at generation 795: %e⊥操狧部＇ꦓ逦暁 - 0.99988595\n",
      "Best fitness at generation 796: %e≙操璻鄃＇꨹郾暕 - 0.99988495\n",
      "Best fitness at generation 797: %e∠操犈鄃＇ꨘ郾暕 - 0.99988419\n",
      "Best fitness at generation 798: %e↛操瓅鄃＇ꨙ鄱梎 - 0.99988238\n",
      "Best fitness at generation 799: %eⅧ操瓅鄃＇꨹酊暕 - 0.99988166\n",
      "Best fitness at generation 800: %e⃰操琾鄃＇꨹酊暕 - 0.99987997\n",
      "Best fitness at generation 801: %e⁹摎犈鄃ﻢ꨹鄫暕 - 0.99987823\n",
      "Best fitness at generation 802: %e„操琾鄃＇꨹酊暕 - 0.99987686\n",
      "Best fitness at generation 803: %e„操璧鄃ﻢ꫖鄱暕 - 0.99987686\n",
      "Best fitness at generation 804: %eῂ攉琾鄃＇ꦟ酛暕 - 0.99987545\n",
      "Best fitness at generation 805: %eὂ操琾鄃＇꨹邽晬 - 0.99987343\n",
      "Best fitness at generation 806: %eἸ操琺郃＇ꩄ酊暕 - 0.99987327\n",
      "Best fitness at generation 807: %eẪ操琺邩＇ꨃ酊暘 - 0.99987095\n",
      "Best fitness at generation 808: %eẪ操琺邩＇ꨃ邽本 - 0.99987095\n",
      "Best fitness at generation 809: %eẪ操琺邩＇ꨃ酊暘 - 0.99987095\n",
      "Best fitness at generation 810: %eṻ操琾鄃％꨹酊暘 - 0.99987016\n",
      "Best fitness at generation 811: %eᷥ擱琾鄃％ꪩ酊暕 - 0.99986758\n",
      "Best fitness at generation 812: %Cᶧ操琾鄏ﻤꦀ邽晱 - 0.99986649\n",
      "Best fitness at generation 813: %eᴷ擱琾鄃％꨹釥暘 - 0.99986446\n",
      "Best fitness at generation 814: %Cᴱ擋琾鄈ﻤꦀ邽晱 - 0.99986435\n",
      "Best fitness at generation 815: %C᱃擋琾鄈＿꩹遷暘 - 0.99985983\n",
      "Best fitness at generation 816: %C᱃擋琾鄈＿꩹遷暘 - 0.99985983\n",
      "Best fitness at generation 817: %C᭛搣琾邩ﻤ꥙邽晱 - 0.99985511\n",
      "Best fitness at generation 818: %C᭛搣琾达ﻤ꩹遷暘 - 0.99985511\n",
      "Best fitness at generation 819: %C᫳提琾邩ﻤ꥙邽晱 - 0.99985290\n",
      "Best fitness at generation 820: %C᪻提琾邩ﻤ꥙邽晱 - 0.99985168\n",
      "Best fitness at generation 821: %C᪄提琾遾ﻤ꥙酛晽 - 0.99985046\n",
      "Best fitness at generation 822: %C᧤提琾邩ﻤ꥙邽晱 - 0.99984679\n",
      "Best fitness at generation 823: %Cᦍ提珉邩ﻤ꥙邽晱 - 0.99984472\n",
      "Best fitness at generation 824: %Cᦍ提珉逌ﻤ꥙邽晱 - 0.99984472\n",
      "Best fitness at generation 825: %Cᤋ搣璇邩﷼ꪍ迥暘 - 0.99984152\n",
      "Best fitness at generation 826: %Cᤋ搣璇邩﷼ꪍ迥暘 - 0.99984152\n",
      "Best fitness at generation 827: %Cᣍ掺琾邩ﻤ꥙邽晱 - 0.99983995\n",
      "Best fitness at generation 828: %Cᡣ搣璇遈ﺉꪍ迥暘 - 0.99983719\n",
      "Best fitness at generation 829: %Cᡄ摷璇邩︮ꪍ迥晱 - 0.99983636\n",
      "Best fitness at generation 830: %Cឍ摷璇邩︮ꪍ迥晱 - 0.99983131\n",
      "Best fitness at generation 831: %Cᜦ摷璇邩︮ꪍ迥晱 - 0.99982833\n",
      "Best fitness at generation 832: %Cᜦ摷璇邀︮ꪍ迥晱 - 0.99982833\n",
      "Best fitness at generation 833: %Cᚅ摷班邀︮ꪍ迥晱 - 0.99982345\n",
      "Best fitness at generation 834: %Cᙃ摷琶邩ﶋꪍ迥晱 - 0.99982136\n",
      "Best fitness at generation 835: %Cᘱ摷班邀︮ꪍ迥晚 - 0.99982079\n",
      "Best fitness at generation 836: %Cᗝ摷琶醈ﵠꪍ迥晱 - 0.99981805\n",
      "Best fitness at generation 837: %Cᗝ摷琶醈ﵠꪍ迥昱 - 0.99981805\n",
      "Best fitness at generation 838: %Cᕘ摷琶釘ﵠꪍ这晱 - 0.99981354\n",
      "Best fitness at generation 839: %Cᕘ摷琶釘ﵠꪍ这晱 - 0.99981354\n",
      "Best fitness at generation 840: %Cᔢ摷琶釘ﵠꪍ这晱 - 0.99981164\n",
      "Best fitness at generation 841: %Cᓏ摷琶釘ﶜꪧ这晱 - 0.99980865\n",
      "Best fitness at generation 842: %Cᓅ摷璐釘ﵠꪍ辔旖 - 0.99980828\n",
      "Best fitness at generation 843: %Cᒉ摷琶釘ﶜꪧ这晱 - 0.99980605\n",
      "Best fitness at generation 844: %Cᑗ摷璐釘ﵠꪍ遭昷 - 0.99980415\n",
      "Best fitness at generation 845: %CᏱ摷琶釘ﵠꪍ遭昷 - 0.99980016\n",
      "Best fitness at generation 846: %C᎟摷琶釘ﶜ꨷这晱 - 0.99979683\n",
      "Best fitness at generation 847: %Cጵ摷琶釘ﳭꪪ迡晳 - 0.99979236\n",
      "Best fitness at generation 848: %Cዿ摂琶釘ﵒꪍ辔斘 - 0.99979000\n",
      "Best fitness at generation 849: %Cቴ撪琶釘ﷁ꨷軶晱 - 0.99978369\n",
      "Best fitness at generation 850: %Cሢ摷瓦釘ﷁ꨷辔敒 - 0.99977978\n",
      "Best fitness at generation 851: %Cሢ摷瓦釘ﷁ꨷辔旎 - 0.99977978\n",
      "Best fitness at generation 852: %Cᆌ摫琶釲ﳑꩩ迡晳 - 0.99977226\n",
      "Best fitness at generation 853: %Cᆌ摫琶釲ﳑꩩ迡晳 - 0.99977226\n",
      "Best fitness at generation 854: %Cᅞ摫琶釲ﳑꩩ迡晳 - 0.99976985\n",
      "Best fitness at generation 855: %Cვ摫珅鉯ﷁꩇ还敢 - 0.99976236\n",
      "Best fitness at generation 856: %Cვ摫獔銄ﷁꩇ还敢 - 0.99976236\n",
      "Best fitness at generation 857: %Cည摫珅鉯ﷁꩩ邃暣 - 0.99975031\n",
      "Best fitness at generation 858: %Cည摫瑑鉯ﷁꩩ邃斬 - 0.99975031\n",
      "Best fitness at generation 859: %Cཐ摫珅鉯ﷁꪡ遖暣 - 0.99973815\n",
      "Best fitness at generation 860: %Cཐ摫珅鉯ﷁꪡ遖暣 - 0.99973815\n",
      "Best fitness at generation 861: %C༅摕珅鉯ﷁꪡ遖晳 - 0.99973291\n",
      "Best fitness at generation 862: %C຦摕理鉯ﷁꪡ逩暣 - 0.99972595\n",
      "Best fitness at generation 863: %Cຆ摕理鉯ﷁꪡ逩朎 - 0.99972353\n",
      "Best fitness at generation 864: %C෸摕珅鉯ﷁꫭ鄫暣 - 0.99971223\n",
      "Best fitness at generation 865: %C෤摕珅鉯ﷁꫭ鄫暣 - 0.99971056\n",
      "Best fitness at generation 866: %Cക擕珅鉯ﷁꫭ鄫暣 - 0.99969212\n",
      "Best fitness at generation 867: %Cക擕珅鉯ﷁꫭ鄫暣 - 0.99969212\n",
      "Best fitness at generation 868: %C೹擕珅釞﹯ꫭ郫朕 - 0.99968944\n",
      "Best fitness at generation 869: %Cೀ擴珅鉯ﶓꫭ鄫暣 - 0.99968384\n",
      "Best fitness at generation 870: %C఍斋珅鉯ﶓꭡ鄫暸 - 0.99966488\n",
      "Best fitness at generation 871: %C௶擴珅鉯ﷁꪍ鄥昣 - 0.99966228\n",
      "Best fitness at generation 872: %Cஊ斋珅鉯﹯ꫭ郫朕 - 0.99964949\n"
     ]
    },
    {
     "name": "stdout",
     "output_type": "stream",
     "text": [
      "Best fitness at generation 873: %Cଅ擴珅鉯ﶓꬱ鄫晊 - 0.99963235\n",
      "Best fitness at generation 874: %C૿斋珅鉯ﶓꬱ郭晊 - 0.99963154\n",
      "Best fitness at generation 875: %C੫攈獓鉯ﶓꭡ遨暸 - 0.99961029\n",
      "Best fitness at generation 876: %Cਪ擴璑鉯ﺿꪖ郭暊 - 0.99960016\n",
      "Best fitness at generation 877: %C঍攈獓釻﹯ꪳ酜朲 - 0.99957338\n",
      "Best fitness at generation 878: %Cे攈獓銟ﶓꩲ郫朕 - 0.99956025\n",
      "Best fitness at generation 879: %Cऎ攈獓釻ﶓꪼ郫朗 - 0.99954894\n",
      "Best fitness at generation 880: %Cऎ攈獓釻ﶓꪼ郫朲 - 0.99954894\n",
      "Best fitness at generation 881: %Cࡪ攈獓鉯ﶓꪼ郫朲 - 0.99951291\n",
      "Best fitness at generation 882: %Cࠇ攈獓釻ﶓꪼ郭暊 - 0.99948823\n",
      "Best fitness at generation 883: %Cޱ攈獓釻ﶓꪼ郫朗 - 0.99946467\n",
      "Best fitness at generation 884: %Cܟ敮猇鉯ﶓꪼ郫朗 - 0.99941928\n",
      "Best fitness at generation 885: %Cܙ敝獓鉯ﷲꩣ郫晭 - 0.99941725\n",
      "Best fitness at generation 886: %Cۙ敮猇銓ﴗꩣ鄮晊 - 0.99939467\n",
      "Best fitness at generation 887: %Cۙ敮猇鉿ﳾꪼ酛朗 - 0.99939467\n",
      "Best fitness at generation 888: %Cۙ敮猇鉿ﳾꪼ酛朗 - 0.99939467\n",
      "Best fitness at generation 889: %Cڂ旳猇鉯﷕ꩬ酛晭 - 0.99936102\n",
      "Best fitness at generation 890: %Cڂ敮猇鉯ﷲꩣ郫晊 - 0.99936102\n",
      "Best fitness at generation 891: %Cה旳猇鉯﷕꩕鄡晭 - 0.99928109\n",
      "Best fitness at generation 892: %C֣旳狱鉯﹡꩕郫晭 - 0.99925484\n",
      "Best fitness at generation 893: %C֘旳猇鉯﷕ꩣ郣昛 - 0.99924869\n",
      "Best fitness at generation 894: %Cӭ旳猶鉯﹡ꩣ鄤晊 - 0.99913793\n",
      "Best fitness at generation 895: %Cӭ旳猶鉯﹡ꩣ鄤晊 - 0.99913793\n",
      "Best fitness at generation 896: %CЫ旳狱鋝﹡꩕郹斵 - 0.99896480\n",
      "Best fitness at generation 897: %Cρ旳猶鉯﹡ꩣ鄤晊 - 0.99883721\n",
      "Best fitness at generation 898: %C͞旳狱鋝﹡꩕郹斵 - 0.99868594\n",
      "Best fitness at generation 899: %C͑旳狱鋝﹡꩕郹斵 - 0.99866310\n",
      "Best fitness at generation 900: %C˴方狱鋝﹡꩕郹斵 - 0.99847328\n",
      "Best fitness at generation 901: %C˴昻狱鋝﹡꩕郹斵 - 0.99847328\n",
      "Best fitness at generation 902: %CɊ斳狱鋝︔ꩂ郹斵 - 0.99793814\n",
      "Best fitness at generation 903: %CɊ斳狱鋝︔ꩂ郹斬 - 0.99793814\n",
      "Best fitness at generation 904: %Cȏ斳猢鍪︔ꩂ郹斬 - 0.99765258\n",
      "Best fitness at generation 905: %Cǉ斳狱鍐︔ꩂ郹斬 - 0.99719101\n",
      "Best fitness at generation 906: %CƆ旛狱鎤︔ꩂ邩斵 - 0.99653979\n",
      "Best fitness at generation 907: %Cã斳猢鍪︔꩕邟晧 - 0.99206349\n",
      "Best fitness at generation 908: %C×斳狱鋝︔ꪅ郹斬 - 0.99122807\n",
      "Best fitness at generation 909: %C¥旑猢鍪︔ꪋ邧晧 - 0.98437500\n",
      "Best fitness at generation 910: %CX斳猢銨︔ꩂ酷斵 - 0.90000000\n",
      "Best fitness at generation 911: %CB斳猢鍪︔ꩂ遶昔 - 0.00000000\n",
      "Best individual: %CB斳猢鍪︔ꩂ遶昔, fitness 0.0000000000\n"
     ]
    }
   ],
   "source": [
    "genetic_algorithm()"
   ]
  },
  {
   "cell_type": "markdown",
   "metadata": {
    "button": false,
    "new_sheet": true,
    "run_control": {
     "read_only": false
    }
   },
   "source": [
    "## Lessons Learned\n",
    "\n",
    "* A meta-heuristic search problem consists of an algorithm, a representation, and a fitness function.\n",
    "* For test generation, fitness functions typically estimate how close an execution comes to a target location. To determine this distance, we use instrumentation to calculate the distance during test execution.\n",
    "* Local search algorithms like hillcimbing work well when the neighbourhood is well defined and not too large.\n",
    "* Global search algorithms like genetic algorithms are very flexible and scale up well to larger test problems."
   ]
  },
  {
   "cell_type": "markdown",
   "metadata": {
    "button": false,
    "new_sheet": false,
    "run_control": {
     "read_only": false
    }
   },
   "source": [
    "## Next Steps\n",
    "\n",
    "In this chapter we looked at rather simple program inputs. We can apply the same search algorithms also to evolve complex test inputs\n",
    "\n",
    "* [e.g. for web fuzzing](WebFuzzer.ipynb)"
   ]
  },
  {
   "cell_type": "markdown",
   "metadata": {},
   "source": [
    "## Background\n",
    "\n",
    "The targets of the search are typically related to coverage. For discussions, see the books in the [Introduction to Testing](Intro_Testing.ipynb)."
   ]
  },
  {
   "cell_type": "markdown",
   "metadata": {
    "slideshow": {
     "slide_type": "skip"
    },
    "solution2": "hidden"
   },
   "source": [
    "**Solution.** _Some text for the solution_"
   ]
  },
  {
   "cell_type": "code",
   "execution_count": null,
   "metadata": {
    "cell_style": "split",
    "slideshow": {
     "slide_type": "skip"
    },
    "solution2": "hidden"
   },
   "outputs": [],
   "source": [
    "def hillclimber():\n",
    "    # Create and evaluate starting point\n",
    "    x, y = random.randint(MIN, MAX), random.randint(MIN, MAX)\n",
    "    fitness = get_fitness(x, y)\n",
    "    print(\"Initial value: %d, %d at fitness %.4f\" %(x, y, fitness))\n",
    "    iterations = 0\n",
    "    \n",
    "    # Stop once we have found an optimal solution\n",
    "    while fitness > 0:\n",
    "        iterations += 1\n",
    "        # Move to first neighbour with a better fitness \n",
    "        for (nextx, nexty) in neighbours(x,y):\n",
    "            new_fitness = get_fitness(nextx, nexty)\n",
    "            if new_fitness < fitness:\n",
    "                x, y = nextx, nexty\n",
    "                fitness = new_fitness\n",
    "                changed = True\n",
    "                print(\"New value: %d, %d at fitness %.4f\" %(x, y, fitness))\n",
    "                break\n",
    "\n",
    "    print(\"Found optimum after %d iterations at %d, %d\" % (iterations, x, y))\n",
    "    \n",
    "hillclimber()"
   ]
  },
  {
   "cell_type": "markdown",
   "metadata": {
    "slideshow": {
     "slide_type": "skip"
    },
    "solution2": "hidden"
   },
   "source": [
    "_Some more text for the solution_"
   ]
  }
 ],
 "metadata": {
  "ipub": {
   "bibliography": "fuzzingbook.bib",
   "toc": true
  },
  "kernelspec": {
   "display_name": "Python 3",
   "language": "python",
   "name": "python3"
  },
  "language_info": {
   "codemirror_mode": {
    "name": "ipython",
    "version": 3
   },
   "file_extension": ".py",
   "mimetype": "text/x-python",
   "name": "python",
   "nbconvert_exporter": "python",
   "pygments_lexer": "ipython3",
   "version": "3.6.7"
  },
  "toc": {
   "base_numbering": 1,
   "nav_menu": {},
   "number_sections": true,
   "sideBar": true,
   "skip_h1_title": true,
   "title_cell": "",
   "title_sidebar": "Contents",
   "toc_cell": false,
   "toc_position": {},
   "toc_section_display": true,
   "toc_window_display": true
  },
  "varInspector": {
   "cols": {
    "lenName": 16,
    "lenType": 16,
    "lenVar": 40
   },
   "kernels_config": {
    "python": {
     "delete_cmd_postfix": "",
     "delete_cmd_prefix": "del ",
     "library": "var_list.py",
     "varRefreshCmd": "print(var_dic_list())"
    },
    "r": {
     "delete_cmd_postfix": ") ",
     "delete_cmd_prefix": "rm(",
     "library": "var_list.r",
     "varRefreshCmd": "cat(var_dic_list()) "
    }
   },
   "types_to_exclude": [
    "module",
    "function",
    "builtin_function_or_method",
    "instance",
    "_Feature"
   ],
   "window_display": false
  }
 },
 "nbformat": 4,
 "nbformat_minor": 2
}
