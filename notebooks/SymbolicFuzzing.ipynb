{
 "cells": [
  {
   "cell_type": "markdown",
   "metadata": {
    "button": false,
    "new_sheet": false,
    "run_control": {
     "read_only": false
    }
   },
   "source": [
    "# Symbolic Fuzzing\n",
    "\n",
    "One of the problems with traditional methods of fuzzing is that they fail to penetrate deeply into the program. Quite often the execution of a specific branch of execution may happen only with very specific inputs, which may represent an extremely small fraction of the input space. The traditional fuzzing methods relies on chance to produce inputs they need. However, relying on randomness to generate values that we want is a bad idea when the space to be explored is large. For example, given a function that accepts a string, even if one only considers the first $10$ characters, already has $2^{80}$ possible inputs. If one is looking for a specific string, random generation of values will take a few thousand years even in one of the super computers.\n",
    "\n",
    "Symbolic execution is a way out of this problem. A program is a computation that can be treated as a system of equations that obtains the output values from the given inputs. Executing the program symbolically -- that is, solving these mathematically -- along with any specified objective such as covering a particular branch or obtaining a particular output will get us inputs that can accomplish this task. Unfortunately, symbolic execution can rapidly become unwieldy as the paths through the program increases. A practical alternative is called *Concolic* execution, which combines symbolic and concrete execution, with concrete execution guiding symbolic execution through a path through the program.\n",
    "\n",
    "In this chapter, we investigate how **concolic execution** can be implemented, and how it can be used to obtain interesting values for fuzzing."
   ]
  },
  {
   "cell_type": "markdown",
   "metadata": {
    "button": false,
    "new_sheet": false,
    "run_control": {
     "read_only": false
    }
   },
   "source": [
    "**Prerequisites**\n",
    "\n",
    "* You should have read the [chapter on coverage](Coverage.ipynb).\n",
    "* Some knowledge of inheritance in Python is required.\n",
    "* A familiarity with the [chapter on search based fuzzing](SearchBasedFuzzer.ipynb) would be useful.\n",
    "* A familiarity with the basic idea of [SMT solvers](https://en.wikipedia.org/wiki/Satisfiability_modulo_theories) would be useful."
   ]
  },
  {
   "cell_type": "markdown",
   "metadata": {},
   "source": [
    "## Using Symbolic Variables for Coverage"
   ]
  },
  {
   "cell_type": "markdown",
   "metadata": {},
   "source": [
    "In the chapter on [parsing and recombining inputs](SearchBasedFuzzer.ipynb), we saw how difficult it was to generate inputs for `process_vehicle()` -- a simple function that accepts a string. The solution given there was to rely on preexisting sample inputs. However, this solution is inadequate as it assumes the existence of sample inputs. What if there are sample inputs at hand?\n",
    "\n",
    "For a simpler example, let us consider the following function. Can we generate inputs to cover all the paths?"
   ]
  },
  {
   "cell_type": "code",
   "execution_count": null,
   "metadata": {},
   "outputs": [],
   "source": [
    "def check_triangle(a,b,c):\n",
    "    if a == b:\n",
    "        if a == c:\n",
    "            if b == c:\n",
    "                return \"Equilateral\"\n",
    "            else:\n",
    "                return \"Isosceles\"\n",
    "        else:\n",
    "            return \"Isosceles\"\n",
    "    else:\n",
    "        if b != c:\n",
    "            if a == c:\n",
    "                return \"Isosceles\"\n",
    "            else:\n",
    "                return \"Scalene\"\n",
    "        else:\n",
    "              return \"Isosceles\""
   ]
  },
  {
   "cell_type": "markdown",
   "metadata": {},
   "source": [
    "The control flow graph of this function can be represented as follows:"
   ]
  },
  {
   "cell_type": "code",
   "execution_count": null,
   "metadata": {},
   "outputs": [],
   "source": [
    "import fuzzingbook_utils"
   ]
  },
  {
   "cell_type": "code",
   "execution_count": null,
   "metadata": {},
   "outputs": [],
   "source": [
    "from ControlFlow import PyCFG, CFGNode, to_graph, gen_cfg"
   ]
  },
  {
   "cell_type": "code",
   "execution_count": null,
   "metadata": {},
   "outputs": [],
   "source": [
    "import inspect"
   ]
  },
  {
   "cell_type": "code",
   "execution_count": null,
   "metadata": {},
   "outputs": [],
   "source": [
    "from graphviz import Source, Graph"
   ]
  },
  {
   "cell_type": "code",
   "execution_count": null,
   "metadata": {},
   "outputs": [],
   "source": [
    "Source(to_graph(gen_cfg(inspect.getsource(check_triangle))))"
   ]
  },
  {
   "cell_type": "markdown",
   "metadata": {},
   "source": [
    "The possible execution paths traced by the program can be represented as follows, with the numbers indicating the specific line numbers executed."
   ]
  },
  {
   "cell_type": "markdown",
   "metadata": {},
   "source": [
    "```python\n",
    "<path 1> [1, 2, 3, 4, 5, Equilateral]\n",
    "<path 2> [1, 2, 3, 4, 7, Isosceles]\n",
    "<path 3> [1, 2, 3, 9, Isosceles]\n",
    "<path 4> [1, 2, 11, 12, 13, Isosceles]\n",
    "<path 5> [1, 2, 11, 12, 15, Scalene]\n",
    "<path 6> [1, 2, 11, 17, Isosceles]\n",
    "```"
   ]
  },
  {
   "cell_type": "markdown",
   "metadata": {},
   "source": [
    "Consider the `<path 1>`. If we want to trace this path, we need to execute the following statements in order."
   ]
  },
  {
   "cell_type": "markdown",
   "metadata": {},
   "source": [
    "```python\n",
    "1: check_triangle(a, b, c)\n",
    "2: if (a == b) -> True\n",
    "3: if (a == c) -> True\n",
    "4: if (b == c) -> True\n",
    "5: return 'Equilateral'\n",
    "```"
   ]
  },
  {
   "cell_type": "markdown",
   "metadata": {},
   "source": [
    "That is, any execution that traces this path has to start with values for `a`, `b`, and `c` that obeys the constraints in line numbers `2: (a == b)` evaluates to `True`, `3: (a == c)` evaluates to `True`, and `4: (b == c)` evaluates to `True`. Can we generate inputs such that these constraints are satisfied?"
   ]
  },
  {
   "cell_type": "markdown",
   "metadata": {},
   "source": [
    "One of the ways to solve such constraints is to use an [SMT solver](https://en.wikipedia.org/wiki/Satisfiability_modulo_theories) such as [z3](http://theory.stanford.edu/~nikolaj/programmingz3.html). Here is how one would go about solving the set of equations using *z3*."
   ]
  },
  {
   "cell_type": "code",
   "execution_count": null,
   "metadata": {},
   "outputs": [],
   "source": [
    "import z3"
   ]
  },
  {
   "cell_type": "markdown",
   "metadata": {},
   "source": [
    "First, we declare a set of variables as symbolic integers using *z3*."
   ]
  },
  {
   "cell_type": "code",
   "execution_count": null,
   "metadata": {},
   "outputs": [],
   "source": [
    "a, b, c = z3.Int('a'), z3.Int('b'), z3.Int('c')"
   ]
  },
  {
   "cell_type": "markdown",
   "metadata": {},
   "source": [
    "We can now ask *z3* to solve the set of equations for us as follows."
   ]
  },
  {
   "cell_type": "code",
   "execution_count": null,
   "metadata": {},
   "outputs": [],
   "source": [
    "z3.solve(a == b, a == c, b == c)"
   ]
  },
  {
   "cell_type": "markdown",
   "metadata": {},
   "source": [
    "Indeed, we find the first problem in our program. Our program seems to not check whether the sides are natural numbers. Assume for now that we do not have that restriction. Does our program correctly follow the path described?"
   ]
  },
  {
   "cell_type": "code",
   "execution_count": null,
   "metadata": {},
   "outputs": [],
   "source": [
    "from Coverage import Coverage"
   ]
  },
  {
   "cell_type": "code",
   "execution_count": null,
   "metadata": {},
   "outputs": [],
   "source": [
    "with Coverage() as cov:\n",
    "    assert check_triangle(0, 0, 0) == 'Equilateral'"
   ]
  },
  {
   "cell_type": "markdown",
   "metadata": {},
   "source": [
    "To plot the path taken, we need to extract edges from the coverage.\n",
    "We define a procedure `cov_to_arcs()` to translate our coverage to a list of edges."
   ]
  },
  {
   "cell_type": "code",
   "execution_count": null,
   "metadata": {},
   "outputs": [],
   "source": [
    "def cov_to_arcs(cov):\n",
    "    arcs = []\n",
    "    last = None\n",
    "    for fn, ln in cov._trace:\n",
    "        if last is not None:\n",
    "            arcs.append((last, ln))\n",
    "        last = ln\n",
    "    return arcs"
   ]
  },
  {
   "cell_type": "code",
   "execution_count": null,
   "metadata": {},
   "outputs": [],
   "source": [
    "cov_to_arcs(cov)"
   ]
  },
  {
   "cell_type": "markdown",
   "metadata": {},
   "source": [
    "We can now determine the path taken."
   ]
  },
  {
   "cell_type": "code",
   "execution_count": null,
   "metadata": {},
   "outputs": [],
   "source": [
    "check_triangle_src = inspect.getsource(check_triangle).strip()"
   ]
  },
  {
   "cell_type": "code",
   "execution_count": null,
   "metadata": {},
   "outputs": [],
   "source": [
    "Source(to_graph(gen_cfg(check_triangle_src), arcs=cov_to_arcs(cov)))"
   ]
  },
  {
   "cell_type": "markdown",
   "metadata": {},
   "source": [
    "The path taken is indeed `<path 1>`."
   ]
  },
  {
   "cell_type": "markdown",
   "metadata": {},
   "source": [
    "Similarly, for solving `<path 2>` we need to simply invert the condition at <line 2>:"
   ]
  },
  {
   "cell_type": "code",
   "execution_count": null,
   "metadata": {},
   "outputs": [],
   "source": [
    "a, b, c = z3.Ints('a b c')"
   ]
  },
  {
   "cell_type": "code",
   "execution_count": null,
   "metadata": {},
   "outputs": [],
   "source": [
    "z3.solve(a == b, a == c, z3.Not(b == c))"
   ]
  },
  {
   "cell_type": "markdown",
   "metadata": {},
   "source": [
    "The symbolic execution suggests that there is no solution. A moment's reflection will convince us that it is indeed true. Let us proceed with the other paths. The `<path 3>` can be obtained by inverting the condition at `<line 4>`."
   ]
  },
  {
   "cell_type": "code",
   "execution_count": null,
   "metadata": {},
   "outputs": [],
   "source": [
    "a, b, c = z3.Ints('a b c')"
   ]
  },
  {
   "cell_type": "code",
   "execution_count": null,
   "metadata": {},
   "outputs": [],
   "source": [
    "z3.solve(a == b, z3.Not(a==c))"
   ]
  },
  {
   "cell_type": "code",
   "execution_count": null,
   "metadata": {},
   "outputs": [],
   "source": [
    "with Coverage() as cov:\n",
    "    assert check_triangle(1, 1, 0) == 'Isosceles'\n",
    "[i for fn, i in cov._trace if fn == 'check_triangle']"
   ]
  },
  {
   "cell_type": "markdown",
   "metadata": {},
   "source": [
    "How about path <4>?"
   ]
  },
  {
   "cell_type": "code",
   "execution_count": null,
   "metadata": {},
   "outputs": [],
   "source": [
    "a, b, c = z3.Ints('a b c')"
   ]
  },
  {
   "cell_type": "code",
   "execution_count": null,
   "metadata": {},
   "outputs": [],
   "source": [
    "z3.solve(z3.Not(a == b), b!= c, a == c)"
   ]
  },
  {
   "cell_type": "markdown",
   "metadata": {},
   "source": [
    "As we mentioned earlier, our program does not account for sides with zero or negative length. We can modify our program to check for zero and negative input. However, do we always have to make sure that every function has to account for all possible inputs? It is possible that the `check_triangle` is not directly exposed to the user, and it is called from another function that already guarantees that the inputs would be positive.\n",
    "\n",
    "We can easily add such a precondition here."
   ]
  },
  {
   "cell_type": "code",
   "execution_count": null,
   "metadata": {},
   "outputs": [],
   "source": [
    "pre_condition = z3.And(a > 0, b > 0, c > 0)"
   ]
  },
  {
   "cell_type": "code",
   "execution_count": null,
   "metadata": {},
   "outputs": [],
   "source": [
    "z3.solve(pre_condition, z3.Not(a == b), b!= c, a == c)"
   ]
  },
  {
   "cell_type": "code",
   "execution_count": null,
   "metadata": {},
   "outputs": [],
   "source": [
    "with Coverage() as cov:\n",
    "    assert check_triangle(1, 2, 1) == 'Isosceles'\n",
    "[i for fn, i in cov._trace if fn == 'check_triangle']"
   ]
  },
  {
   "cell_type": "markdown",
   "metadata": {},
   "source": [
    "Continuing to path <5>:"
   ]
  },
  {
   "cell_type": "code",
   "execution_count": null,
   "metadata": {},
   "outputs": [],
   "source": [
    "a, b, c = z3.Ints('a b c')"
   ]
  },
  {
   "cell_type": "code",
   "execution_count": null,
   "metadata": {
    "scrolled": true
   },
   "outputs": [],
   "source": [
    "z3.solve(pre_condition,z3.Not(a == b), b!= c, z3.Not(a == c))"
   ]
  },
  {
   "cell_type": "markdown",
   "metadata": {},
   "source": [
    "And indeed it is a *Scalene* triangle."
   ]
  },
  {
   "cell_type": "code",
   "execution_count": null,
   "metadata": {},
   "outputs": [],
   "source": [
    "with Coverage() as cov:\n",
    "    assert check_triangle(3, 1, 2) == 'Scalene'\n",
    "[i for fn, i in cov._trace if fn == 'check_triangle']"
   ]
  },
  {
   "cell_type": "markdown",
   "metadata": {},
   "source": [
    "Finally, for `<path 6>` the procedure is similar."
   ]
  },
  {
   "cell_type": "code",
   "execution_count": null,
   "metadata": {},
   "outputs": [],
   "source": [
    "z3.solve(pre_condition, z3.Not(a == b), z3.Not(b!= c))"
   ]
  },
  {
   "cell_type": "code",
   "execution_count": null,
   "metadata": {},
   "outputs": [],
   "source": [
    "with Coverage() as cov:\n",
    "    assert check_triangle(2, 1, 1) == 'Isosceles'\n",
    "[i for fn, i in cov._trace if fn == 'check_triangle']"
   ]
  },
  {
   "cell_type": "markdown",
   "metadata": {},
   "source": [
    "That is, using simple symbolic computation, we were able to easily see that (1) some of the paths are not reachable, and (2) some of the conditions were insufficient -- that is, we needed preconditions. What about the total coverage obtained?"
   ]
  },
  {
   "cell_type": "code",
   "execution_count": null,
   "metadata": {},
   "outputs": [],
   "source": [
    "with Coverage() as cov:\n",
    "    assert check_triangle(0, 0, 0) == 'Equilateral'\n",
    "    assert check_triangle(1, 1, 0) == 'Isosceles'\n",
    "    assert check_triangle(1, 2, 1) == 'Isosceles'\n",
    "    assert check_triangle(3, 1, 2) == 'Scalene'\n",
    "    assert check_triangle(2, 1, 1) == 'Isosceles'"
   ]
  },
  {
   "cell_type": "code",
   "execution_count": null,
   "metadata": {},
   "outputs": [],
   "source": [
    "covered = set([lineno for method,lineno in cov._trace])\n",
    "for i,s in enumerate(check_triangle_src.split('\\n')):\n",
    "    print('%s %2d: %s' % ('#' if i+1 in covered else ' ', i+1, s))"
   ]
  },
  {
   "cell_type": "markdown",
   "metadata": {},
   "source": [
    "The coverage is as expected. The generated values does seem to cover all code that can be covered. However, doing this by hand is tedious and error prone. What we need is the ability to extract *all paths* in the program, and symbolically execute each path, which will generate the inputs required to cover all reachable portions of the program."
   ]
  },
  {
   "cell_type": "markdown",
   "metadata": {},
   "source": [
    "Doing this is fairly simple for a program such as `check_triangle()` which does not contain loops or reassignments. We first define `get_all_paths()` that, given a starting point, will recursively examine all child nodes, and return the traversed paths."
   ]
  },
  {
   "cell_type": "markdown",
   "metadata": {},
   "source": [
    "### Simple Symbolic Fuzzer"
   ]
  },
  {
   "cell_type": "markdown",
   "metadata": {},
   "source": [
    "We define a simple *symbolic fuzzer* that can generate input values *symbolically* with the following assumptions:\n",
    "\n",
    "* There are no loops in the program\n",
    "* The function is self contained.\n",
    "* No recursion.\n",
    "* No reassignments for variables.\n",
    "\n",
    "The key idea is as follows: We traverse through the control flow graph from the entry point, and generate all possible paths to a given depth. Then we collect constraints that we encountered along the path, and generate inputs that will traverse the program up to that point."
   ]
  },
  {
   "cell_type": "code",
   "execution_count": null,
   "metadata": {},
   "outputs": [],
   "source": [
    "from Fuzzer import Fuzzer"
   ]
  },
  {
   "cell_type": "markdown",
   "metadata": {},
   "source": [
    "We start by extracting the control flow graph of the function passed."
   ]
  },
  {
   "cell_type": "code",
   "execution_count": null,
   "metadata": {},
   "outputs": [],
   "source": [
    "class SimpleSymbolicFuzzer(Fuzzer):\n",
    "    def __init__(self, fn, **kwargs):\n",
    "        self.fn = fn\n",
    "        self.fn_src =  inspect.getsource(fn)\n",
    "        self.fn_args = list(inspect.signature(fn).parameters)\n",
    "        self.py_cfg = PyCFG()\n",
    "        self.py_cfg.gen_cfg(self.fn_src)\n",
    "        self.fnenter, self.fnexit = self.py_cfg.functions[fn.__name__]\n",
    "        self.paths = None\n",
    "        self.last_path = None\n",
    "        self.removed_solutions = []\n",
    "        self.z3 = z3.Solver()\n",
    "        self.options(kwargs)"
   ]
  },
  {
   "cell_type": "markdown",
   "metadata": {},
   "source": [
    "We define `MAX_DEPTH` as the depth to which one should attempt to trace the execution."
   ]
  },
  {
   "cell_type": "code",
   "execution_count": null,
   "metadata": {},
   "outputs": [],
   "source": [
    "MAX_DEPTH = 100"
   ]
  },
  {
   "cell_type": "markdown",
   "metadata": {},
   "source": [
    "Since some of the paths may not be satisfied, we define `MAX_TRIES` as the maximum number of attempts we will try to produce a value before giving up."
   ]
  },
  {
   "cell_type": "code",
   "execution_count": null,
   "metadata": {},
   "outputs": [],
   "source": [
    "MAX_TRIES = 100"
   ]
  },
  {
   "cell_type": "code",
   "execution_count": null,
   "metadata": {},
   "outputs": [],
   "source": [
    "MAX_ITER = 100"
   ]
  },
  {
   "cell_type": "code",
   "execution_count": null,
   "metadata": {},
   "outputs": [],
   "source": [
    "class SimpleSymbolicFuzzer(SimpleSymbolicFuzzer):\n",
    "    def options(self, kwargs):\n",
    "        self.max_depth = kwargs.get('max_depth', MAX_DEPTH)\n",
    "        self.max_tries = kwargs.get('max_tries', MAX_TRIES)\n",
    "        self.max_iter = kwargs.get('max_iter', MAX_ITER)\n",
    "        self.symbolic_fn = kwargs.get('symbolic_fn', 'z3.Int')\n",
    "        self._options = kwargs"
   ]
  },
  {
   "cell_type": "markdown",
   "metadata": {},
   "source": [
    "The initialization generates a control flow graph and hooks it to `fnenter` and `fnexit`."
   ]
  },
  {
   "cell_type": "code",
   "execution_count": null,
   "metadata": {},
   "outputs": [],
   "source": [
    "symfz_ct = SimpleSymbolicFuzzer(check_triangle)"
   ]
  },
  {
   "cell_type": "code",
   "execution_count": null,
   "metadata": {},
   "outputs": [],
   "source": [
    "symfz_ct.fnenter, symfz_ct.fnexit"
   ]
  },
  {
   "cell_type": "markdown",
   "metadata": {},
   "source": [
    "#### get_all_paths\n",
    "We can use the `fnenter` to recursively retrieve all paths in the function."
   ]
  },
  {
   "cell_type": "code",
   "execution_count": null,
   "metadata": {},
   "outputs": [],
   "source": [
    "class SimpleSymbolicFuzzer(SimpleSymbolicFuzzer):\n",
    "    def get_all_paths(self, fenter, depth=0):\n",
    "        if depth > self.max_depth:\n",
    "            raise Exception('Maximum depth exceeded')\n",
    "        if not fenter.children:\n",
    "            return [[(0, fenter)]]\n",
    "\n",
    "        fnpaths = []\n",
    "        for idx, child in enumerate(fenter.children):\n",
    "            child_paths = self.get_all_paths(child, depth+1)\n",
    "            for path in child_paths:\n",
    "                fnpaths.append([(idx, fenter)] + path)\n",
    "        return fnpaths"
   ]
  },
  {
   "cell_type": "code",
   "execution_count": null,
   "metadata": {
    "scrolled": true
   },
   "outputs": [],
   "source": [
    "symfz_ct = SimpleSymbolicFuzzer(check_triangle)\n",
    "paths = symfz_ct.get_all_paths(symfz_ct.fnenter)\n",
    "paths[1]"
   ]
  },
  {
   "cell_type": "code",
   "execution_count": null,
   "metadata": {},
   "outputs": [],
   "source": [
    "import ast, astunparse"
   ]
  },
  {
   "cell_type": "markdown",
   "metadata": {},
   "source": [
    "The function `to_src()` allows us to *unparse* an expression."
   ]
  },
  {
   "cell_type": "code",
   "execution_count": null,
   "metadata": {},
   "outputs": [],
   "source": [
    "def to_src(astnode):\n",
    "    return astunparse.unparse(astnode).strip()"
   ]
  },
  {
   "cell_type": "markdown",
   "metadata": {},
   "source": [
    "#### names"
   ]
  },
  {
   "cell_type": "markdown",
   "metadata": {},
   "source": [
    "We need the names of variables used in an expression to declare the to declare them. The method `names()` extracts variables used."
   ]
  },
  {
   "cell_type": "code",
   "execution_count": null,
   "metadata": {},
   "outputs": [],
   "source": [
    "def names(astnode):\n",
    "    lst = []\n",
    "    if isinstance(astnode, ast.BoolOp):\n",
    "        for i in astnode.values:\n",
    "            lst.extend(names(i))\n",
    "    elif isinstance(astnode, ast.BinOp):\n",
    "        lst.extend(names(astnode.left))\n",
    "        lst.extend(names(astnode.right))\n",
    "    elif isinstance(astnode, ast.UnaryOp):\n",
    "        lst.extend(names(astnode.operand))\n",
    "    elif isinstance(astnode, ast.Call):\n",
    "        for i in astnode.args:\n",
    "            lst.extend(names(i))\n",
    "    elif isinstance(astnode, ast.Compare):\n",
    "        lst.extend(names(astnode.left))\n",
    "        for i in astnode.comparators:\n",
    "            lst.extend(names(i))\n",
    "    elif isinstance(astnode, ast.Name):\n",
    "        lst.append(astnode.id)\n",
    "    elif isinstance(astnode, ast.Expr):\n",
    "        lst.extend(names(astnode.value))\n",
    "    elif isinstance(astnode, (ast.Num, ast.Str, ast.Tuple, ast.NameConstant)):\n",
    "        pass\n",
    "    elif isinstance(astnode, ast.Assign):\n",
    "        for t in astnode.targets:\n",
    "            lst.extend(names(t))\n",
    "        lst.extend(names(astnode.value))\n",
    "    elif isinstance(astnode, ast.Module):\n",
    "        for b in astnode.body:\n",
    "            lst.extend(names(b))\n",
    "    else:\n",
    "        raise Exception(str(astnode))\n",
    "    return lst"
   ]
  },
  {
   "cell_type": "markdown",
   "metadata": {},
   "source": [
    "With this, we can now extract the variables used in an expression."
   ]
  },
  {
   "cell_type": "code",
   "execution_count": null,
   "metadata": {},
   "outputs": [],
   "source": [
    "v = ast.parse('fn(x+z,y>(a+b)) == c')\n",
    "names(v)"
   ]
  },
  {
   "cell_type": "markdown",
   "metadata": {},
   "source": [
    "#### extract_constraints\n",
    "\n",
    "For any given path, we define a function `extract_constraints()` to extract the constraints in `z3` format."
   ]
  },
  {
   "cell_type": "code",
   "execution_count": null,
   "metadata": {},
   "outputs": [],
   "source": [
    "class SimpleSymbolicFuzzer(SimpleSymbolicFuzzer):\n",
    "    def extract_constraints(self, path):\n",
    "        last = None\n",
    "        predicates = []\n",
    "        my_names = []\n",
    "        for (idx, elt) in path:\n",
    "            if last is not None:\n",
    "                order = {c.i(): i for i,c in enumerate(last.children)}\n",
    "                if isinstance(last.ast_node, ast.AnnAssign):\n",
    "                    if last.ast_node.target.id in {'_if'}:\n",
    "                        s = to_src(last.ast_node.annotation)\n",
    "                        my_names.extend(names(ast.parse(s)))\n",
    "                        predicates.append((\"%s\" if order[elt.i()] == 0 else \"z3.Not%s\") % s)\n",
    "                elif isinstance(last.ast_node, ast.Assign):\n",
    "                    my_names.extend(names(last.ast_node))\n",
    "                    predicates.append(to_src(last.ast_node))\n",
    "                else:\n",
    "                    pass\n",
    "            last = elt\n",
    "        return list(set(my_names)), predicates"
   ]
  },
  {
   "cell_type": "code",
   "execution_count": null,
   "metadata": {},
   "outputs": [],
   "source": [
    "symfz_ct = SimpleSymbolicFuzzer(check_triangle)\n",
    "paths = symfz_ct.get_all_paths(symfz_ct.fnenter)\n",
    "symfz_ct.extract_constraints(paths[1])"
   ]
  },
  {
   "cell_type": "markdown",
   "metadata": {},
   "source": [
    "#### Fuzz"
   ]
  },
  {
   "cell_type": "markdown",
   "metadata": {},
   "source": [
    "To actually generate solutions, we need to first extract all paths. Then choose a particular path, and extract the constraints in that path, which is then solved using *z3*."
   ]
  },
  {
   "cell_type": "code",
   "execution_count": null,
   "metadata": {},
   "outputs": [],
   "source": [
    "class SimpleSymbolicFuzzer(SimpleSymbolicFuzzer):\n",
    "    def fuzz(self):\n",
    "        init = False\n",
    "        if self.paths is None:\n",
    "            self.paths = self.get_all_paths(self.fnenter)\n",
    "            self.last_path = len(self.paths)\n",
    "            init = True\n",
    "        for i in range(1, self.max_tries):\n",
    "            self.last_path -= 1\n",
    "            if self.last_path == -1:\n",
    "                self.last_path = len(self.paths) - 1\n",
    "                \n",
    "            # re-initializing does not seem problematic.\n",
    "            # a = z3.Int('a').get_id() remains the same.\n",
    "            my_names, constraints = self.extract_constraints(self.paths[self.last_path])\n",
    "            st = \"%s = %ss('%s')\" % (', '.join(my_names), self.symbolic_fn, ' '.join(my_names))\n",
    "            exec(st)\n",
    "\n",
    "            self.z3.push()\n",
    "            st = 'self.z3.add(%s)' % ', '.join(constraints)\n",
    "            eval(st)\n",
    "            result = {}\n",
    "            predicate = None\n",
    "            if self.z3.check() == z3.sat:\n",
    "                m = self.z3.model()\n",
    "                result = {d.name(): m[d] for d in m.decls()}\n",
    "                predicate = 'z3.And(%s)' % ','.join([\"%s == %s\" % (d.name(), m[d]) for d in m.decls()])\n",
    "                self.removed_solutions.append(predicate)\n",
    "            self.z3.pop()\n",
    "            if predicate:\n",
    "                st = 'self.z3.add(z3.Not(%s))' % self.removed_solutions[-1]\n",
    "                eval(st)\n",
    "            if result:\n",
    "                return result\n",
    "        return {}"
   ]
  },
  {
   "cell_type": "markdown",
   "metadata": {},
   "source": [
    "The fuzzer can be used as follows."
   ]
  },
  {
   "cell_type": "code",
   "execution_count": null,
   "metadata": {
    "scrolled": false
   },
   "outputs": [],
   "source": [
    "a, b, c = None, None, None\n",
    "symfz_ct = SimpleSymbolicFuzzer(check_triangle)\n",
    "for i in range(1,10):\n",
    "    r = symfz_ct.fuzz()\n",
    "    v = check_triangle(r['a'].as_long(), r['b'].as_long(), r['c'].as_long())\n",
    "    print(r, v)"
   ]
  },
  {
   "cell_type": "markdown",
   "metadata": {},
   "source": [
    "#### Problems with the Simple Fuzzer"
   ]
  },
  {
   "cell_type": "markdown",
   "metadata": {},
   "source": [
    "As we mentioned earlier, the `SimpleSymbolicFuzzer` cannot yet deal with variable reassignments. Further, it also fails to account for any loops. For example, consider the following program."
   ]
  },
  {
   "cell_type": "code",
   "execution_count": null,
   "metadata": {},
   "outputs": [],
   "source": [
    "def gcd(a, b):\n",
    "    if a<b:\n",
    "        c = a\n",
    "        a = b\n",
    "        b = c\n",
    "\n",
    "    while b != 0 :\n",
    "        c = a\n",
    "        a = b\n",
    "        b = c % b\n",
    "    return a"
   ]
  },
  {
   "cell_type": "code",
   "execution_count": null,
   "metadata": {},
   "outputs": [],
   "source": [
    "Source(to_graph(gen_cfg(inspect.getsource(gcd))))"
   ]
  },
  {
   "cell_type": "code",
   "execution_count": null,
   "metadata": {},
   "outputs": [],
   "source": [
    "from ExpectError import ExpectError"
   ]
  },
  {
   "cell_type": "code",
   "execution_count": null,
   "metadata": {
    "scrolled": false
   },
   "outputs": [],
   "source": [
    "with ExpectError():\n",
    "    symfz_gcd = SimpleSymbolicFuzzer(gcd)\n",
    "    for i in range(1,100):\n",
    "        r = symfz_gcd.fuzz()\n",
    "        v = gcd(r['a'].as_long(), r['b'].as_long())\n",
    "        print(r, v)"
   ]
  },
  {
   "cell_type": "markdown",
   "metadata": {},
   "source": [
    "### Advanced Symbolic Fuzzer"
   ]
  },
  {
   "cell_type": "markdown",
   "metadata": {},
   "source": [
    "We next define `AdvancedSymbolicFuzzer` that can deal with reassignments and loops."
   ]
  },
  {
   "cell_type": "code",
   "execution_count": null,
   "metadata": {},
   "outputs": [],
   "source": [
    "class AdvancedSymbolicFuzzer(SimpleSymbolicFuzzer):\n",
    "    def options(self, kwargs):\n",
    "        super().options(kwargs)"
   ]
  },
  {
   "cell_type": "markdown",
   "metadata": {},
   "source": [
    " First, we import the AST."
   ]
  },
  {
   "cell_type": "code",
   "execution_count": null,
   "metadata": {},
   "outputs": [],
   "source": [
    "import ast\n",
    "import astunparse"
   ]
  },
  {
   "cell_type": "markdown",
   "metadata": {},
   "source": [
    "The ast module can be used to extract the AST of an expression."
   ]
  },
  {
   "cell_type": "code",
   "execution_count": null,
   "metadata": {},
   "outputs": [],
   "source": [
    "ast.parse('x == y')"
   ]
  },
  {
   "cell_type": "markdown",
   "metadata": {},
   "source": [
    "The parsed *AST* contains expressions within an AST module. We define a shorthand `get_expression()` to extract the contents of the module."
   ]
  },
  {
   "cell_type": "code",
   "execution_count": null,
   "metadata": {},
   "outputs": [],
   "source": [
    "def get_expression(src):\n",
    "    return ast.parse(src).body[0].value"
   ]
  },
  {
   "cell_type": "code",
   "execution_count": null,
   "metadata": {},
   "outputs": [],
   "source": [
    "get_expression('x == y')"
   ]
  },
  {
   "cell_type": "code",
   "execution_count": null,
   "metadata": {},
   "outputs": [],
   "source": [
    "to_src(get_expression('x == y'))"
   ]
  },
  {
   "cell_type": "markdown",
   "metadata": {},
   "source": [
    "#### rename_variables"
   ]
  },
  {
   "cell_type": "markdown",
   "metadata": {},
   "source": [
    "Next, we want to rename all variables present in an expression such that the variables are annotated with their usage count. This makes it possible to determine variable reassignments.\n",
    "\n",
    "We define the `rename_variables()` function that, when given an `env` that contains the current usage index of different variables, renames the variables in the passed in AST node with the annotations.\n",
    "\n",
    "That is, if the expression is `env[v] == 1`, `v` is renamed to `_v_1`"
   ]
  },
  {
   "cell_type": "code",
   "execution_count": null,
   "metadata": {},
   "outputs": [],
   "source": [
    "def rename_variables(astnode, env):\n",
    "    if isinstance(astnode, ast.BoolOp):\n",
    "        fn = 'z3.And' if isinstance(astnode.op, ast.And) else 'z3.Or'\n",
    "        return ast.Call(\n",
    "            ast.Name(fn, None),\n",
    "            [rename_variables(i, env) for i in astnode.values], [])\n",
    "    elif isinstance(astnode, ast.BinOp):\n",
    "        return ast.BinOp(\n",
    "            rename_variables(astnode.left, env), astnode.op,\n",
    "            rename_variables(astnode.right, env))\n",
    "    elif isinstance(astnode, ast.UnaryOp):\n",
    "        if isinstance(astnode.op, ast.Not):\n",
    "            return ast.Call(\n",
    "                ast.Name('z3.Not', None),\n",
    "                [rename_variables(astnode.operand, env)], [])\n",
    "        else:\n",
    "            return ast.UnaryOp(astnode.op,\n",
    "                               rename_variables(astnode.operand, env))\n",
    "    elif type(astnode) is ast.Call:\n",
    "        return ast.Call(astnode.func,\n",
    "                        [rename_variables(i, env) for i in astnode.args],\n",
    "                        astnode.keywords)\n",
    "    elif type(astnode) is ast.Compare:\n",
    "        return ast.Compare(\n",
    "            rename_variables(astnode.left, env), astnode.ops,\n",
    "            [rename_variables(i, env) for i in astnode.comparators])\n",
    "    elif type(astnode) is ast.Name:\n",
    "        if astnode.id not in env:\n",
    "            env[astnode.id] = 0\n",
    "        num = env[astnode.id]\n",
    "        return ast.Name('_%s_%d' % (astnode.id, num), astnode.ctx)\n",
    "    elif type(astnode) is ast.Return:\n",
    "        return ast.Return(rename_variables(astnode.value, env))\n",
    "    else:\n",
    "        return astnode"
   ]
  },
  {
   "cell_type": "markdown",
   "metadata": {},
   "source": [
    "To verify that it works ans intended, we start with an environment."
   ]
  },
  {
   "cell_type": "code",
   "execution_count": null,
   "metadata": {},
   "outputs": [],
   "source": [
    "env = {'x':1}"
   ]
  },
  {
   "cell_type": "code",
   "execution_count": null,
   "metadata": {},
   "outputs": [],
   "source": [
    "ba = get_expression('x == 1 and y == 2')\n",
    "type(ba)"
   ]
  },
  {
   "cell_type": "code",
   "execution_count": null,
   "metadata": {},
   "outputs": [],
   "source": [
    "assert to_src(rename_variables(ba, env)) == 'z3.And((_x_1 == 1), (_y_0 == 2))'"
   ]
  },
  {
   "cell_type": "code",
   "execution_count": null,
   "metadata": {},
   "outputs": [],
   "source": [
    "bo = get_expression('x == 1 or y == 2')\n",
    "type(bo.op)"
   ]
  },
  {
   "cell_type": "code",
   "execution_count": null,
   "metadata": {},
   "outputs": [],
   "source": [
    "assert to_src(rename_variables(bo, env)) == 'z3.Or((_x_1 == 1), (_y_0 == 2))'"
   ]
  },
  {
   "cell_type": "code",
   "execution_count": null,
   "metadata": {},
   "outputs": [],
   "source": [
    "b = get_expression('x + y')\n",
    "type(b)"
   ]
  },
  {
   "cell_type": "code",
   "execution_count": null,
   "metadata": {},
   "outputs": [],
   "source": [
    "assert to_src(rename_variables(b, env)) == '(_x_1 + _y_0)'"
   ]
  },
  {
   "cell_type": "code",
   "execution_count": null,
   "metadata": {},
   "outputs": [],
   "source": [
    "u = get_expression('-y')\n",
    "type(u)"
   ]
  },
  {
   "cell_type": "code",
   "execution_count": null,
   "metadata": {},
   "outputs": [],
   "source": [
    "assert to_src(rename_variables(u, env)) == '(- _y_0)'"
   ]
  },
  {
   "cell_type": "code",
   "execution_count": null,
   "metadata": {},
   "outputs": [],
   "source": [
    "un = get_expression('not y')\n",
    "type(un.op)"
   ]
  },
  {
   "cell_type": "code",
   "execution_count": null,
   "metadata": {},
   "outputs": [],
   "source": [
    "assert to_src(rename_variables(un, env)) == 'z3.Not(_y_0)'"
   ]
  },
  {
   "cell_type": "code",
   "execution_count": null,
   "metadata": {},
   "outputs": [],
   "source": [
    "c = get_expression('x == y')\n",
    "type(c)"
   ]
  },
  {
   "cell_type": "code",
   "execution_count": null,
   "metadata": {},
   "outputs": [],
   "source": [
    "assert to_src(rename_variables(c, env)) == '(_x_1 == _y_0)'"
   ]
  },
  {
   "cell_type": "code",
   "execution_count": null,
   "metadata": {},
   "outputs": [],
   "source": [
    "f = get_expression('fn(x,y)')\n",
    "type(f)"
   ]
  },
  {
   "cell_type": "code",
   "execution_count": null,
   "metadata": {},
   "outputs": [],
   "source": [
    "assert to_src(rename_variables(f, env)) == 'fn(_x_1, _y_0)'"
   ]
  },
  {
   "cell_type": "code",
   "execution_count": null,
   "metadata": {
    "scrolled": false
   },
   "outputs": [],
   "source": [
    "env"
   ]
  },
  {
   "cell_type": "markdown",
   "metadata": {},
   "source": [
    "Next, we want to process the CFG, and correctly transform the paths."
   ]
  },
  {
   "cell_type": "markdown",
   "metadata": {},
   "source": [
    "#### PNode"
   ]
  },
  {
   "cell_type": "markdown",
   "metadata": {},
   "source": [
    "For keeping track of assignments in the CFG, We define a data structure `PNode` that stores the current CFG node."
   ]
  },
  {
   "cell_type": "code",
   "execution_count": null,
   "metadata": {},
   "outputs": [],
   "source": [
    "class PNode:\n",
    "    def __init__(self, idx, cfgnode, parent=None, order=0):\n",
    "        self.idx, self.cfgnode, self.parent, self.order = idx, cfgnode, parent, order\n",
    "\n",
    "    def __repr__(self):\n",
    "        return \"PNode:%d[%s order:%d]\" % (self.idx, str(self.cfgnode),\n",
    "                                          self.order)"
   ]
  },
  {
   "cell_type": "markdown",
   "metadata": {},
   "source": [
    "Defining a new `PNode` is done as follows."
   ]
  },
  {
   "cell_type": "code",
   "execution_count": null,
   "metadata": {},
   "outputs": [],
   "source": [
    "cfg = PyCFG()\n",
    "cfg.gen_cfg(inspect.getsource(gcd))\n",
    "fnenter, fnexit = cfg.functions['gcd']"
   ]
  },
  {
   "cell_type": "code",
   "execution_count": null,
   "metadata": {},
   "outputs": [],
   "source": [
    "PNode(0, fnenter)"
   ]
  },
  {
   "cell_type": "markdown",
   "metadata": {},
   "source": [
    "##### copy\n",
    "The `copy()` method generates a copy for the child's keep, indicating which path was taken (with `order` of the child)."
   ]
  },
  {
   "cell_type": "code",
   "execution_count": null,
   "metadata": {},
   "outputs": [],
   "source": [
    "class PNode(PNode):\n",
    "    def copy(self, order):\n",
    "        return PNode(self.idx, self.cfgnode, self.parent, order)"
   ]
  },
  {
   "cell_type": "markdown",
   "metadata": {},
   "source": [
    "Using the copy operation."
   ]
  },
  {
   "cell_type": "code",
   "execution_count": null,
   "metadata": {},
   "outputs": [],
   "source": [
    "PNode(0, fnenter).copy(1)"
   ]
  },
  {
   "cell_type": "markdown",
   "metadata": {},
   "source": [
    "##### explore"
   ]
  },
  {
   "cell_type": "markdown",
   "metadata": {},
   "source": [
    "A problem we had with our `SimpleSymbolicFuzzer` is that it explored a path to completion before attempting another. However, this is non-optimal. One may want to explore the graph in a more step-wise manner, expanding every possible execution one step at a time.\n",
    "\n",
    "Hence, we define `explore()`  which explores the children of a node if any, one step at a time. If done exhaustively, this will generate all paths from a starting node until no more children are left. We made `PNode` to a container class so that this iteration can be driven from outside, and stopped if say a maximum iteration is complete, or certain paths need to be prioritized."
   ]
  },
  {
   "cell_type": "code",
   "execution_count": null,
   "metadata": {},
   "outputs": [],
   "source": [
    "class PNode(PNode):\n",
    "    def explore(self):\n",
    "        return [\n",
    "            PNode(self.idx + 1, n, self.copy(i))\n",
    "            for (i, n) in enumerate(self.cfgnode.children)\n",
    "        ]"
   ]
  },
  {
   "cell_type": "markdown",
   "metadata": {},
   "source": [
    "We can use `explore()` as follows."
   ]
  },
  {
   "cell_type": "code",
   "execution_count": null,
   "metadata": {},
   "outputs": [],
   "source": [
    "PNode(0, fnenter).explore()"
   ]
  },
  {
   "cell_type": "code",
   "execution_count": null,
   "metadata": {},
   "outputs": [],
   "source": [
    "PNode(0, fnenter).explore()[0].explore()"
   ]
  },
  {
   "cell_type": "markdown",
   "metadata": {},
   "source": [
    "##### get_path_to_root"
   ]
  },
  {
   "cell_type": "markdown",
   "metadata": {},
   "source": [
    "The method `get_path_to_root()` recursively goes up through child->parent chain retrieving the complete chain to the topmost parent."
   ]
  },
  {
   "cell_type": "code",
   "execution_count": null,
   "metadata": {
    "code_folding": []
   },
   "outputs": [],
   "source": [
    "class PNode(PNode):\n",
    "    def get_path_to_root(self):\n",
    "        path = []\n",
    "        n = self\n",
    "        while n:\n",
    "            path.append(n)\n",
    "            n = n.parent\n",
    "        return list(reversed(path))"
   ]
  },
  {
   "cell_type": "code",
   "execution_count": null,
   "metadata": {
    "scrolled": true
   },
   "outputs": [],
   "source": [
    "p = PNode(0, fnenter)\n",
    "[s.get_path_to_root() for s in p.explore()[0].explore()[0].explore()[0].explore()]"
   ]
  },
  {
   "cell_type": "markdown",
   "metadata": {},
   "source": [
    "The string representation of the node is in `z3` solvable form."
   ]
  },
  {
   "cell_type": "code",
   "execution_count": null,
   "metadata": {},
   "outputs": [],
   "source": [
    "class PNode(PNode):\n",
    "    def __str__(self):\n",
    "        path = self.get_path_to_root()\n",
    "        #print([p.cfgnode.lineno() for p in path])\n",
    "        ssa_path = to_single_assignment(path)\n",
    "        return ', '.join([to_src(p) for p in ssa_path])"
   ]
  },
  {
   "cell_type": "markdown",
   "metadata": {},
   "source": [
    "However, before using it, we need to define the `rename_variables()`. But first, we define `names()`."
   ]
  },
  {
   "cell_type": "markdown",
   "metadata": {},
   "source": [
    "###### to_single_assignment"
   ]
  },
  {
   "cell_type": "markdown",
   "metadata": {},
   "source": [
    "We need to rename used variables. Any variable `v = xxx` should be renamed to `_v_0` and any later assignment such as `v = v + 1` should be transformed to `_v_1 = _v_0 + 1` and later conditionals such as `v == x` should be transformed to `(_v_1 == _x_0)`. The method `to_single_assignment()` does this for a given path."
   ]
  },
  {
   "cell_type": "code",
   "execution_count": null,
   "metadata": {},
   "outputs": [],
   "source": [
    "def to_single_assignment(path):\n",
    "    env = {}\n",
    "    my_vars = set()\n",
    "    new_path = []\n",
    "    for node in path:\n",
    "        ast_node = node.cfgnode.ast_node\n",
    "        new_node = None\n",
    "        if isinstance(ast_node, ast.AnnAssign) and ast_node.target.id in {'exit'}:\n",
    "            new_path.append(None)\n",
    "        elif isinstance(ast_node, ast.AnnAssign) and ast_node.target.id in {'enter'}:\n",
    "            args = [ast.parse(\"%s == _%s_0\" %(a.id, a.id)).body[0].value for a in ast_node.annotation.args]\n",
    "            new_node = ast.Call(ast.Name('z3.And', None), args, [])\n",
    "            new_path.append(new_node)\n",
    "        elif isinstance(ast_node, ast.AnnAssign) and ast_node.target.id in {'_if', '_while'}:\n",
    "            new_node = rename_variables(ast_node.annotation, env)\n",
    "            if node.order != 0:\n",
    "                assert node.order == 1\n",
    "                new_node = ast.Call(ast.Name('z3.Not', None), [new_node], [])\n",
    "            new_path.append(new_node)\n",
    "        elif isinstance(ast_node, ast.Assign):\n",
    "            assigned = ast_node.targets[0].id\n",
    "            val = [rename_variables(ast_node.value, env)]\n",
    "            if assigned not in env:\n",
    "                env[assigned] = 0\n",
    "            else:\n",
    "                env[assigned] += 1\n",
    "            target = ast.Name('_%s_%d' % (ast_node.targets[0].id, env[assigned]), None)\n",
    "            new_node = ast.Expr(ast.Compare(target, [ast.Eq()], val))\n",
    "            new_path.append(new_node)\n",
    "        elif isinstance(ast_node, ast.Return):\n",
    "            new_path.append(None)\n",
    "        elif isinstance(ast_node, ast.Pass):\n",
    "            new_path.append(None)\n",
    "        else:\n",
    "            s = \"NI %s %s\" %(type(ast_node), ast_node.target.id)\n",
    "            raise Exception(s)\n",
    "    return list(zip(path, new_path))"
   ]
  },
  {
   "cell_type": "code",
   "execution_count": null,
   "metadata": {},
   "outputs": [],
   "source": [
    "p = PNode(0, fnenter)\n",
    "path = p.explore()[0].explore()[0].explore()[0].get_path_to_root()\n",
    "pathpair = to_single_assignment(path)\n",
    "spath = [(p,s) for p, s in pathpair if s is not None]"
   ]
  },
  {
   "cell_type": "code",
   "execution_count": null,
   "metadata": {
    "scrolled": false
   },
   "outputs": [],
   "source": [
    "[to_src(s) for p,s in spath]"
   ]
  },
  {
   "cell_type": "code",
   "execution_count": null,
   "metadata": {},
   "outputs": [],
   "source": [
    "assert set(q for p,s in spath for q in names(s)) == {'_a_0', '_a_1', '_b_0', '_c_0', 'a', 'b'}"
   ]
  },
  {
   "cell_type": "markdown",
   "metadata": {},
   "source": [
    "##### can_be_satisfied\n",
    "\n",
    "One of the ways in which the *concolic* execution simplifies *symbolic* execution is in the treatment of loops. Rather than trying to determine an invariant for a loop, we simply *unroll* the loops a number of times until we hit the `MAX_DEPTH` limit. However, not all loops will need to be unrolled until `MAX_DEPTH` is reached. Some of them may exit before. Hence, it is necessary to check whether the given set of constraints can be satisfied before continuing to explore further. "
   ]
  },
  {
   "cell_type": "code",
   "execution_count": null,
   "metadata": {},
   "outputs": [],
   "source": [
    "class AdvancedSymbolicFuzzer(AdvancedSymbolicFuzzer):\n",
    "    def can_be_satisfied(self, p):\n",
    "        defs, s2 = self.extract_constraints(p.get_path_to_root())\n",
    "        s = z3.Solver()\n",
    "        exec(defs, globals(), locals())\n",
    "        exec(\"s.add(%s)\" % s2, globals(), locals())\n",
    "        return s.check() == z3.sat"
   ]
  },
  {
   "cell_type": "markdown",
   "metadata": {},
   "source": [
    "#### extract_constraints\n",
    "\n",
    "The `extract_constraints()` generates the `z3` constraints from a path."
   ]
  },
  {
   "cell_type": "code",
   "execution_count": null,
   "metadata": {},
   "outputs": [],
   "source": [
    "class AdvancedSymbolicFuzzer(AdvancedSymbolicFuzzer):\n",
    "    def extract_constraints(self, path):\n",
    "        spath_pair_ = to_single_assignment(path)\n",
    "        spath = [(p,s) for p, s in spath_pair_ if s is not None]\n",
    "        my_names = [q for p,s in spath for q in names(s)]\n",
    "        defs = \"%s = %ss('%s')\" % (', '.join(my_names), self.symbolic_fn, ' '.join(my_names))\n",
    "        predicates = []\n",
    "        last = None\n",
    "        for p_node,ast_node in spath:\n",
    "            cfgnode = p_node.cfgnode\n",
    "            if last is not None:\n",
    "                order = {c.i(): i for i,c in enumerate(last[0].children)}\n",
    "                if isinstance(last[0].ast_node, ast.AnnAssign):\n",
    "                    if last[0].ast_node.target.id in {'_if', '_while'}:\n",
    "                        s = to_src(last[1])\n",
    "                        my_names.extend(names(last[1]))\n",
    "                        predicates.append(s)\n",
    "                    elif last[0].ast_node.target.id in {'enter'}:\n",
    "                        s = to_src(last[1])\n",
    "                        my_names.extend(names(last[1]))\n",
    "                        predicates.append(s)\n",
    "                    else:\n",
    "                        print(last[0].ast_node.target.id)\n",
    "                elif isinstance(last[0].ast_node, ast.Assign):\n",
    "                    my_names.extend(names(last[1]))\n",
    "                    predicates.append(to_src(last[1]))\n",
    "                else:\n",
    "                    print(last[0].ast_node)\n",
    "                    pass\n",
    "            last = (cfgnode, ast_node)\n",
    "        umy_names = list(set(my_names))\n",
    "        defs = \"%s = %ss('%s')\" % (', '.join(umy_names), self.symbolic_fn, ' '.join(umy_names))\n",
    "        return defs, ','.join(predicates)"
   ]
  },
  {
   "cell_type": "markdown",
   "metadata": {},
   "source": [
    "#### get_all_paths"
   ]
  },
  {
   "cell_type": "markdown",
   "metadata": {},
   "source": [
    "Get all paths one can generate from function enter node (`fenter`) subject to max_depth limit."
   ]
  },
  {
   "cell_type": "code",
   "execution_count": null,
   "metadata": {},
   "outputs": [],
   "source": [
    "class AdvancedSymbolicFuzzer(AdvancedSymbolicFuzzer):\n",
    "    def get_all_paths(self, fenter):\n",
    "        path_lst = [PNode(0, fenter)]\n",
    "        completed = []\n",
    "        for i in range(self.max_iter):\n",
    "            new_paths = [PNode(0, fenter)]\n",
    "            #new_paths = []\n",
    "            for path in path_lst:\n",
    "                # explore each path once\n",
    "                if path.cfgnode.children:\n",
    "                    np = path.explore()\n",
    "                    for p in np:\n",
    "                        if path.idx > self.max_depth:\n",
    "                            break\n",
    "                        if self.can_be_satisfied(p):\n",
    "                            new_paths.append(p)\n",
    "                        else:\n",
    "                            pass\n",
    "                else:\n",
    "                    completed.append(path)\n",
    "            path_lst = new_paths\n",
    "        return completed + path_lst"
   ]
  },
  {
   "cell_type": "code",
   "execution_count": null,
   "metadata": {
    "scrolled": false
   },
   "outputs": [],
   "source": [
    "asymfz_gcd = AdvancedSymbolicFuzzer(gcd, max_iter=10, max_tries=10, max_depth=10)\n",
    "paths = asymfz_gcd.get_all_paths(asymfz_gcd.fnenter)\n",
    "print(len(paths))\n",
    "paths[37].get_path_to_root()"
   ]
  },
  {
   "cell_type": "code",
   "execution_count": null,
   "metadata": {
    "scrolled": false
   },
   "outputs": [],
   "source": [
    "for p,s in to_single_assignment(paths[37].get_path_to_root()):\n",
    "    if s is not None:\n",
    "        print(to_src(s))"
   ]
  },
  {
   "cell_type": "code",
   "execution_count": null,
   "metadata": {},
   "outputs": [],
   "source": [
    "my_names, constraints = asymfz_gcd.extract_constraints(paths[37].get_path_to_root())"
   ]
  },
  {
   "cell_type": "code",
   "execution_count": null,
   "metadata": {},
   "outputs": [],
   "source": [
    "constraints"
   ]
  },
  {
   "cell_type": "code",
   "execution_count": null,
   "metadata": {},
   "outputs": [],
   "source": [
    "my_names"
   ]
  },
  {
   "cell_type": "code",
   "execution_count": null,
   "metadata": {},
   "outputs": [],
   "source": [
    "class AdvancedSymbolicFuzzer(AdvancedSymbolicFuzzer):\n",
    "    def fuzz(self):\n",
    "        def to_original(k):\n",
    "            if not k.startswith('_'):\n",
    "                return k\n",
    "            else:\n",
    "                assert False\n",
    "        if self.paths is None:\n",
    "            self.paths = self.get_all_paths(self.fnenter)\n",
    "            self.last_path = len(self.paths)\n",
    "            assert self.last_path > 0\n",
    "        for i in range(self.max_tries):\n",
    "            self.last_path -= 1\n",
    "            if self.last_path == -1:\n",
    "                self.last_path = len(self.paths) - 1\n",
    "                assert self.last_path > 0\n",
    "            to_root = self.paths[self.last_path].get_path_to_root()\n",
    "            my_names, constraints = self.extract_constraints(to_root)\n",
    "            exec(my_names)\n",
    "            \n",
    "            cons = \"self.z3.add(%s)\" % constraints\n",
    "            self.z3.push()\n",
    "            eval(cons)\n",
    "            result = {}\n",
    "            if self.z3.check() == z3.sat:\n",
    "                m = self.z3.model()\n",
    "                result = {d.name(): m[d] for d in m.decls() if d.name() in self.fn_args}\n",
    "                if len(result) != len(self.fn_args):\n",
    "                    print(self.z3, \"model:\", m, 'last:', cons, 'to_root:', to_root )\n",
    "                    result = {r:result[r] if r in result else None for r in self.fn_args}\n",
    "                predicate = 'z3.And(%s)' % ','.join([\"%s == %s\" % (k,v) for k,v in result.items()])\n",
    "                self.removed_solutions.append(predicate)\n",
    "            self.z3.pop()\n",
    "            st = 'self.z3.add(z3.Not(%s))' % self.removed_solutions[-1]\n",
    "            eval(st)\n",
    "            if result:\n",
    "                return result\n",
    "        return {}"
   ]
  },
  {
   "cell_type": "code",
   "execution_count": null,
   "metadata": {
    "scrolled": false
   },
   "outputs": [],
   "source": [
    "asymfz_gcd = AdvancedSymbolicFuzzer(gcd, max_tries=10, max_iter=10, max_depth=10)\n",
    "data = []\n",
    "for i in range(10):\n",
    "    r = asymfz_gcd.fuzz()\n",
    "    print(r)\n",
    "    data.append((r['a'].as_long(), r['b'].as_long()))\n",
    "    v = gcd(*data[-1])\n",
    "    print(\">\", repr(v))"
   ]
  },
  {
   "cell_type": "code",
   "execution_count": null,
   "metadata": {},
   "outputs": [],
   "source": [
    "with Coverage() as cov:\n",
    "    for a,b in data:\n",
    "        gcd(a,b)"
   ]
  },
  {
   "cell_type": "code",
   "execution_count": null,
   "metadata": {
    "scrolled": true
   },
   "outputs": [],
   "source": [
    "covered = set([lineno for method,lineno in cov._trace])\n",
    "source = inspect.getsource(gcd).strip().split('\\n')\n",
    "for i,s in enumerate(source):\n",
    "    print('%s %2d: %s' % ('#' if i+1 in covered else ' ', i+1, s))"
   ]
  },
  {
   "cell_type": "code",
   "execution_count": null,
   "metadata": {},
   "outputs": [],
   "source": [
    "Source(to_graph(gen_cfg(inspect.getsource(gcd)), arcs=cov_to_arcs(cov)))"
   ]
  },
  {
   "cell_type": "markdown",
   "metadata": {},
   "source": [
    "#### Example: roots\n",
    "Let us explore our new symbolic fuzzer a little more. Here is the famous equation for finding the roots of quadratic equations."
   ]
  },
  {
   "cell_type": "code",
   "execution_count": null,
   "metadata": {},
   "outputs": [],
   "source": [
    "def roots(a, b, c):\n",
    "    d = b*b - 4 * a * c\n",
    "    ax = 0.5 * d\n",
    "    bx = 0\n",
    "    while (ax - bx) > 0.1:\n",
    "        bx = 0.5 * (ax + d/ax)\n",
    "        ax = bx\n",
    "    s = bx\n",
    "    \n",
    "    a2 = 2*a\n",
    "    ba2 = b/a2\n",
    "    return -ba2 + s/a2, -ba2 - s/a2"
   ]
  },
  {
   "cell_type": "code",
   "execution_count": null,
   "metadata": {},
   "outputs": [],
   "source": [
    "def sym_to_float(v):\n",
    "    if v is None:\n",
    "        return math.inf\n",
    "    return v.numerator_as_long() / v.denominator_as_long()"
   ]
  },
  {
   "cell_type": "markdown",
   "metadata": {},
   "source": [
    "Let us investigate."
   ]
  },
  {
   "cell_type": "code",
   "execution_count": null,
   "metadata": {
    "scrolled": false
   },
   "outputs": [],
   "source": [
    "asymfz_roots = AdvancedSymbolicFuzzer(roots, max_tries=10, max_iter=10, max_depth=10, symbolic_fn='z3.Real')\n",
    "with ExpectError():\n",
    "    for i in range(100):\n",
    "        r = asymfz_roots.fuzz()\n",
    "        d = [sym_to_float(r[i]) for i in ['a', 'b', 'c']]\n",
    "        v = roots(*d)\n",
    "        print(d, v)"
   ]
  },
  {
   "cell_type": "markdown",
   "metadata": {},
   "source": [
    "#####  roots - take 2"
   ]
  },
  {
   "cell_type": "code",
   "execution_count": null,
   "metadata": {},
   "outputs": [],
   "source": [
    "def roots(a, b, c):\n",
    "    d = b*b - 4 * a * c\n",
    "    \n",
    "    xa = 0.5 * d\n",
    "    xb = 0\n",
    "    while (xa - xb) > 0.1:\n",
    "        xb = 0.5 * (xa + d/xa)\n",
    "        xa = xb\n",
    "    s = xb\n",
    "    \n",
    "    if a == 0:\n",
    "        return -c/b\n",
    "\n",
    "    a2 = 2*a\n",
    "    ba2 = b/a2\n",
    "    return -ba2 + s/a2, -ba2 - s/a2"
   ]
  },
  {
   "cell_type": "code",
   "execution_count": null,
   "metadata": {},
   "outputs": [],
   "source": [
    "asymfz_roots = AdvancedSymbolicFuzzer(roots, max_tries=10, max_iter=10, max_depth=10, symbolic_fn='z3.Real')\n",
    "with ExpectError():\n",
    "    for i in range(100):\n",
    "        r = asymfz_roots.fuzz()\n",
    "        d = [sym_to_float(r[i]) for i in ['a', 'b', 'c']]\n",
    "        v = roots(*d)\n",
    "        print(d, v)"
   ]
  },
  {
   "cell_type": "markdown",
   "metadata": {},
   "source": [
    "#####  roots - take 3"
   ]
  },
  {
   "cell_type": "code",
   "execution_count": null,
   "metadata": {},
   "outputs": [],
   "source": [
    "import math"
   ]
  },
  {
   "cell_type": "code",
   "execution_count": null,
   "metadata": {},
   "outputs": [],
   "source": [
    "def roots(a, b, c):\n",
    "    d = b*b - 4 * a * c\n",
    "    \n",
    "    xa = 0.5 * d\n",
    "    xb = 0\n",
    "    while (xa - xb) > 0.1:\n",
    "        xb = 0.5 * (xa + d/xa)\n",
    "        xa = xb\n",
    "    s = xb\n",
    "    \n",
    "    if a == 0:\n",
    "        if b == 0:\n",
    "            return math.inf\n",
    "        return -c/b\n",
    "\n",
    "    a2 = 2*a\n",
    "    ba2 = b/a2\n",
    "    return -ba2 + s/a2, -ba2 - s/a2"
   ]
  },
  {
   "cell_type": "code",
   "execution_count": null,
   "metadata": {
    "scrolled": false
   },
   "outputs": [],
   "source": [
    "asymfz_roots = AdvancedSymbolicFuzzer(roots, max_tries=10, max_iter=10, max_depth=10, symbolic_fn='z3.Real')\n",
    "#with ExpectError():\n",
    "for i in range(100):\n",
    "        r = asymfz_roots.fuzz()\n",
    "        print(r)\n",
    "        d = [sym_to_float(r[i]) for i in ['a', 'b', 'c']]\n",
    "        v = roots(*d)\n",
    "        print(d, v)"
   ]
  },
  {
   "cell_type": "markdown",
   "metadata": {},
   "source": [
    "Why are we not able to detect the problem of negative roots? Because we stop execution at a pre-determined depth without throwing an error.\n",
    "\n",
    "Our symbolic fuzzer is reasonable for single functions that use `Int` or `Real` values. However, real world applications often contain multiple recursive method calls, which will not be handled by our implementation. Nor are real applications restricted to using just numbers. Further, when adding functions, there are functions that we cannot adequately solve symbolically (for e.g. a hash function). One of the ways to handle such functions is to go for *Dynamic Symbolic Execution*. The DSE can work around such calls by replacing the concrete values with seeded symbolic values when necessary.\n",
    "\n",
    "We will examine an implementation that can handle practical programs next."
   ]
  },
  {
   "cell_type": "markdown",
   "metadata": {
    "button": false,
    "new_sheet": true,
    "run_control": {
     "read_only": false
    }
   },
   "source": [
    "## Concolic Execution with PyExZ3"
   ]
  },
  {
   "cell_type": "markdown",
   "metadata": {},
   "source": [
    "[PyExZ3](https://www.microsoft.com/en-us/research/wp-content/uploads/2016/02/dse.pdf) is a concolic evaluator of programs that takes a different strategy from what we did here. Similar to our dynamic taint approach, the PyExZ3 wraps the Python data structures so that they are symbolic equivalents. These data structures are then traced through program execution, and constraints are collected at the end."
   ]
  },
  {
   "cell_type": "code",
   "execution_count": null,
   "metadata": {},
   "outputs": [],
   "source": [
    "import PyExZ3.pyloader"
   ]
  },
  {
   "cell_type": "code",
   "execution_count": null,
   "metadata": {},
   "outputs": [],
   "source": [
    "import symbolic.symbolic_types as st"
   ]
  },
  {
   "cell_type": "code",
   "execution_count": null,
   "metadata": {},
   "outputs": [],
   "source": [
    "generatedInputs, returnVals, path = PyExZ3.pyloader.exploreFunction(check_triangle)"
   ]
  },
  {
   "cell_type": "code",
   "execution_count": null,
   "metadata": {},
   "outputs": [],
   "source": [
    "Source(path.toDot())"
   ]
  },
  {
   "cell_type": "code",
   "execution_count": null,
   "metadata": {},
   "outputs": [],
   "source": [
    "generatedInputs, returnVals, path = PyExZ3.pyloader.exploreFunction(gcd, max_iters=5)"
   ]
  },
  {
   "cell_type": "code",
   "execution_count": null,
   "metadata": {},
   "outputs": [],
   "source": [
    "Source(path.toDot())"
   ]
  },
  {
   "cell_type": "code",
   "execution_count": null,
   "metadata": {},
   "outputs": [],
   "source": [
    "def factorial(n):\n",
    "    if n <= 1:\n",
    "        return 1\n",
    "    return n * factorial(n-1)"
   ]
  },
  {
   "cell_type": "code",
   "execution_count": null,
   "metadata": {},
   "outputs": [],
   "source": [
    "generatedInputs, returnVals, path = PyExZ3.pyloader.exploreFunction(factorial, max_iters=10)"
   ]
  },
  {
   "cell_type": "code",
   "execution_count": null,
   "metadata": {
    "scrolled": false
   },
   "outputs": [],
   "source": [
    "Source(path.toDot())"
   ]
  },
  {
   "cell_type": "code",
   "execution_count": null,
   "metadata": {},
   "outputs": [],
   "source": [
    "import math"
   ]
  },
  {
   "cell_type": "code",
   "execution_count": null,
   "metadata": {},
   "outputs": [],
   "source": [
    "def discriminant(a, b, c):\n",
    "    return b*b - 4 * a * c\n",
    "\n",
    "def roots(a, b, c):\n",
    "    if a == 0:\n",
    "        if b == 0:\n",
    "            return math.inf\n",
    "        return -c/b\n",
    "    d = discriminant(a, b, c)\n",
    "    a2 = 2*a\n",
    "    ba2 = b/a2\n",
    "    if d == 0:\n",
    "        return -ba2\n",
    "    s = math.sqrt(d)\n",
    "    return -ba2 + s/a2, -ba2 - s/a2\n",
    "    #elif d < 0:\n",
    "    #    s = math.sqrt(-d)\n",
    "    #    return (-ba2, s/a2), (-ba2, -s/a2)\n",
    "    #else:"
   ]
  },
  {
   "cell_type": "code",
   "execution_count": null,
   "metadata": {
    "scrolled": false
   },
   "outputs": [],
   "source": [
    "generatedInputs, returnVals, path = PyExZ3.pyloader.exploreFunction(roots)"
   ]
  },
  {
   "cell_type": "code",
   "execution_count": null,
   "metadata": {},
   "outputs": [],
   "source": [
    "Source(path.toDot())"
   ]
  },
  {
   "cell_type": "code",
   "execution_count": null,
   "metadata": {},
   "outputs": [],
   "source": [
    "with ExpectError():\n",
    "    generatedInputs, returnVals, path = PyExZ3.pyloader.exploreFunction(math.sqrt)"
   ]
  },
  {
   "cell_type": "markdown",
   "metadata": {},
   "source": [
    "The problem here is that *PyExZ3* does not know about *math.sqrt*. Can we help it?"
   ]
  },
  {
   "cell_type": "code",
   "execution_count": null,
   "metadata": {},
   "outputs": [],
   "source": [
    "def sqrt(d):\n",
    "    if d < 0:\n",
    "        assert False\n",
    "    xa = 0.5 * d\n",
    "    xb = 0\n",
    "    while (xa - xb) > 0.1:\n",
    "        xb = 0.5 * (xa + d/xa)\n",
    "        xa = xb\n",
    "    s = xb\n",
    "    return s\n",
    "    \n",
    "def discriminant(a, b, c):\n",
    "    return b*b - 4 * a * c\n",
    "\n",
    "def roots(a, b, c):\n",
    "    if a == 0:\n",
    "        if b == 0:\n",
    "            return math.inf\n",
    "        return -c/b\n",
    "    d = discriminant(a, b, c)\n",
    "    a2 = 2*a\n",
    "    ba2 = b/a2\n",
    "    if d == 0:\n",
    "        return -ba2\n",
    "    s = sqrt(d)\n",
    "    return -ba2 + s/a2, -ba2 - s/a2"
   ]
  },
  {
   "cell_type": "code",
   "execution_count": null,
   "metadata": {},
   "outputs": [],
   "source": [
    "with ExpectError():\n",
    "    generatedInputs, returnVals, path = PyExZ3.pyloader.exploreFunction(roots, max_iters=1000)"
   ]
  },
  {
   "cell_type": "code",
   "execution_count": null,
   "metadata": {},
   "outputs": [],
   "source": [
    "def sqrt(d):\n",
    "    if d < 0:\n",
    "        assert False\n",
    "    xa = 0.5 * d\n",
    "    xb = 0\n",
    "    while (xa - xb) > 0.1:\n",
    "        xb = 0.5 * (xa + d/xa)\n",
    "        xa = xb\n",
    "    s = xb\n",
    "    return s\n",
    "    \n",
    "def discriminant(a, b, c):\n",
    "    return b*b - 4 * a * c\n",
    "\n",
    "def roots(a, b, c):\n",
    "    if a == 0:\n",
    "        if b == 0:\n",
    "            return math.inf\n",
    "        return -c/b\n",
    "    d = discriminant(a, b, c)\n",
    "    a2 = 2*a\n",
    "    ba2 = b/a2\n",
    "    if d == 0:\n",
    "        return -ba2\n",
    "    elif d < 0:\n",
    "        s = sqrt(-d)\n",
    "        return (-ba2, s/a2), (-ba2, -s/a2)\n",
    "    else:\n",
    "        s = sqrt(d)\n",
    "        return -ba2 + s/a2, -ba2 - s/a2"
   ]
  },
  {
   "cell_type": "code",
   "execution_count": null,
   "metadata": {},
   "outputs": [],
   "source": [
    "generatedInputs, returnVals, path = PyExZ3.pyloader.exploreFunction(roots, max_iters=1000)"
   ]
  },
  {
   "cell_type": "markdown",
   "metadata": {
    "button": false,
    "new_sheet": true,
    "run_control": {
     "read_only": false
    }
   },
   "source": [
    "## Lessons Learned\n",
    "\n",
    "* One can use symbolic execution to augment the inputs that explore all characteristics of a program."
   ]
  },
  {
   "cell_type": "markdown",
   "metadata": {
    "button": false,
    "new_sheet": false,
    "run_control": {
     "read_only": false
    }
   },
   "source": [
    "## Next Steps\n",
    "\n",
    "_Link to subsequent chapters (notebooks) here:_"
   ]
  },
  {
   "cell_type": "markdown",
   "metadata": {},
   "source": [
    "## Background\n",
    "\n",
    "\\cite{KLEE}"
   ]
  },
  {
   "cell_type": "markdown",
   "metadata": {
    "button": false,
    "new_sheet": true,
    "run_control": {
     "read_only": false
    }
   },
   "source": [
    "## Exercises\n",
    "\n",
    "_Close the chapter with a few exercises such that people have things to do.  To make the solutions hidden (to be revealed by the user), have them start with_\n",
    "\n",
    "```markdown\n",
    "**Solution.**\n",
    "```\n",
    "\n",
    "_Your solution can then extend up to the next title (i.e., any markdown cell starting with `#`)._\n",
    "\n",
    "_Running `make metadata` will automatically add metadata to the cells such that the cells will be hidden by default, and can be uncovered by the user.  The button will be introduced above the solution._"
   ]
  },
  {
   "cell_type": "markdown",
   "metadata": {
    "button": false,
    "new_sheet": false,
    "run_control": {
     "read_only": false
    }
   },
   "source": [
    "### Exercise 1: _Title_\n",
    "\n",
    "_Text of the exercise_"
   ]
  },
  {
   "cell_type": "code",
   "execution_count": null,
   "metadata": {
    "cell_style": "center"
   },
   "outputs": [],
   "source": [
    "# Some code that is part of the exercise\n",
    "pass"
   ]
  },
  {
   "cell_type": "markdown",
   "metadata": {
    "solution2": "hidden",
    "solution2_first": true
   },
   "source": [
    "_Some more text for the exercise_"
   ]
  },
  {
   "cell_type": "markdown",
   "metadata": {
    "slideshow": {
     "slide_type": "skip"
    },
    "solution2": "hidden"
   },
   "source": [
    "**Solution.** _Some text for the solution_"
   ]
  },
  {
   "cell_type": "code",
   "execution_count": null,
   "metadata": {
    "cell_style": "split",
    "slideshow": {
     "slide_type": "skip"
    },
    "solution2": "hidden"
   },
   "outputs": [],
   "source": [
    "# Some code for the solution\n",
    "2 + 2"
   ]
  },
  {
   "cell_type": "markdown",
   "metadata": {
    "slideshow": {
     "slide_type": "skip"
    },
    "solution2": "hidden"
   },
   "source": [
    "_Some more text for the solution_"
   ]
  },
  {
   "cell_type": "markdown",
   "metadata": {
    "button": false,
    "new_sheet": false,
    "run_control": {
     "read_only": false
    },
    "solution": "hidden",
    "solution2": "shown",
    "solution2_first": true,
    "solution_first": true
   },
   "source": [
    "### Exercise 2: _Title_\n",
    "\n",
    "_Text of the exercise_"
   ]
  },
  {
   "cell_type": "markdown",
   "metadata": {
    "button": false,
    "new_sheet": false,
    "run_control": {
     "read_only": false
    },
    "slideshow": {
     "slide_type": "skip"
    },
    "solution": "hidden",
    "solution2": "shown"
   },
   "source": [
    "**Solution.** _Solution for the exercise_"
   ]
  }
 ],
 "metadata": {
  "ipub": {
   "bibliography": "fuzzingbook.bib",
   "toc": true
  },
  "kernelspec": {
   "display_name": "Python 3",
   "language": "python",
   "name": "python3"
  },
  "language_info": {
   "codemirror_mode": {
    "name": "ipython",
    "version": 3
   },
   "file_extension": ".py",
   "mimetype": "text/x-python",
   "name": "python",
   "nbconvert_exporter": "python",
   "pygments_lexer": "ipython3",
   "version": "3.6.6"
  },
  "toc": {
   "base_numbering": 1,
   "nav_menu": {},
   "number_sections": true,
   "sideBar": true,
   "skip_h1_title": true,
   "title_cell": "",
   "title_sidebar": "Contents",
   "toc_cell": false,
   "toc_position": {
    "height": "calc(100% - 180px)",
    "left": "10px",
    "top": "150px",
    "width": "644.8px"
   },
   "toc_section_display": true,
   "toc_window_display": true
  },
  "toc-autonumbering": false,
  "varInspector": {
   "cols": {
    "lenName": 16,
    "lenType": 16,
    "lenVar": 40
   },
   "kernels_config": {
    "python": {
     "delete_cmd_postfix": "",
     "delete_cmd_prefix": "del ",
     "library": "var_list.py",
     "varRefreshCmd": "print(var_dic_list())"
    },
    "r": {
     "delete_cmd_postfix": ") ",
     "delete_cmd_prefix": "rm(",
     "library": "var_list.r",
     "varRefreshCmd": "cat(var_dic_list()) "
    }
   },
   "types_to_exclude": [
    "module",
    "function",
    "builtin_function_or_method",
    "instance",
    "_Feature"
   ],
   "window_display": false
  }
 },
 "nbformat": 4,
 "nbformat_minor": 2
}
