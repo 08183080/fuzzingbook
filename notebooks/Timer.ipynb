{
 "cells": [
  {
   "cell_type": "markdown",
   "metadata": {
    "button": false,
    "deletable": true,
    "new_sheet": false,
    "run_control": {
     "read_only": false
    }
   },
   "source": [
    "# Timer\n",
    "\n",
    "The code in this notebook helps with measuring time."
   ]
  },
  {
   "cell_type": "markdown",
   "metadata": {
    "button": false,
    "deletable": true,
    "new_sheet": false,
    "run_control": {
     "read_only": false
    }
   },
   "source": [
    "**Prerequisites**\n",
    "\n",
    "* This notebook needs some understanding on advanced concepts in Python, notably \n",
    "    * classes\n",
    "    * the Python `with` statement\n",
    "    * measuring time"
   ]
  },
  {
   "cell_type": "markdown",
   "metadata": {
    "button": false,
    "deletable": true,
    "new_sheet": false,
    "run_control": {
     "read_only": false
    }
   },
   "source": [
    "## Measuring Time\n",
    "\n",
    "The class `Timer` allows to measure the elapsed time during some code execution.  A typical usage looks as follows:\n",
    "\n",
    "```Python\n",
    "from Timer import Timer\n",
    "\n",
    "with Timer() as t:\n",
    "    function_that_is_supposed_to_be_timed()\n",
    "\n",
    "print(t.elapsed_time())\n",
    "```\n"
   ]
  },
  {
   "cell_type": "code",
   "execution_count": 27,
   "metadata": {
    "button": false,
    "collapsed": true,
    "deletable": true,
    "new_sheet": false,
    "run_control": {
     "read_only": false
    },
    "slideshow": {
     "slide_type": "skip"
    }
   },
   "outputs": [],
   "source": [
    "import gstbook"
   ]
  },
  {
   "cell_type": "code",
   "execution_count": 28,
   "metadata": {
    "button": false,
    "collapsed": true,
    "deletable": true,
    "new_sheet": false,
    "run_control": {
     "read_only": false
    }
   },
   "outputs": [],
   "source": [
    "import time"
   ]
  },
  {
   "cell_type": "code",
   "execution_count": 29,
   "metadata": {
    "button": false,
    "collapsed": true,
    "deletable": true,
    "new_sheet": false,
    "run_control": {
     "read_only": false
    }
   },
   "outputs": [],
   "source": [
    "def clock():\n",
    "    try:\n",
    "        return time.perf_counter()  # Python 3\n",
    "    except:\n",
    "        return time.clock()         # Python 2"
   ]
  },
  {
   "cell_type": "code",
   "execution_count": 30,
   "metadata": {
    "button": false,
    "collapsed": true,
    "deletable": true,
    "new_sheet": false,
    "run_control": {
     "read_only": false
    }
   },
   "outputs": [],
   "source": [
    "class Timer(object):\n",
    "    # Begin of `with` block\n",
    "    def __enter__(self):\n",
    "        self.start_time = clock()\n",
    "        return self\n",
    "\n",
    "    # End of `with` block\n",
    "    def __exit__(self, exc_type, exc_value, tb):\n",
    "        self.end_time = clock()\n",
    "\n",
    "    def elapsed_time(self):\n",
    "        \"\"\"Return elapsed time in seconds\"\"\"\n",
    "        return self.end_time - self.start_time"
   ]
  },
  {
   "cell_type": "markdown",
   "metadata": {
    "button": false,
    "deletable": true,
    "new_sheet": false,
    "run_control": {
     "read_only": false
    }
   },
   "source": [
    "Here's an example:"
   ]
  },
  {
   "cell_type": "code",
   "execution_count": 31,
   "metadata": {
    "button": false,
    "collapsed": false,
    "deletable": true,
    "new_sheet": false,
    "run_control": {
     "read_only": false
    }
   },
   "outputs": [
    {
     "name": "stdout",
     "output_type": "stream",
     "text": [
      "0.09553764999145642\n"
     ]
    }
   ],
   "source": [
    "if __name__ == \"__main__\":\n",
    "    def some_long_running_function():\n",
    "        i = 1000000\n",
    "        while i > 0:\n",
    "            i -= 1\n",
    "\n",
    "    with Timer() as t:\n",
    "        some_long_running_function()\n",
    "    print(t.elapsed_time())"
   ]
  },
  {
   "cell_type": "markdown",
   "metadata": {
    "button": false,
    "deletable": true,
    "new_sheet": false,
    "run_control": {
     "read_only": false
    }
   },
   "source": [
    "That's it, folks – enjoy!"
   ]
  }
 ],
 "metadata": {
  "celltoolbar": "Edit Metadata",
  "ipub": {
   "bibliography": "gstbook.bib",
   "listcode": false,
   "listfigures": false,
   "listtables": false,
   "titlepage": {
    "author": "Andreas Zeller, Rahul Gopinath, Gordon Fraser, and Christian Holler",
    "subtitle": "Generating Software Tests",
    "title": "A Chapter"
   },
   "toc": true
  },
  "kernelspec": {
   "display_name": "Python 3",
   "language": "python",
   "name": "python3"
  },
  "language_info": {
   "codemirror_mode": {
    "name": "ipython",
    "version": 3
   },
   "file_extension": ".py",
   "mimetype": "text/x-python",
   "name": "python",
   "nbconvert_exporter": "python",
   "pygments_lexer": "ipython3",
   "version": "3.5.0"
  },
  "toc": {
   "base_numbering": 1,
   "nav_menu": {},
   "number_sections": true,
   "sideBar": true,
   "skip_h1_title": true,
   "title_cell": "",
   "title_sidebar": "Contents",
   "toc_cell": false,
   "toc_position": {},
   "toc_section_display": true,
   "toc_window_display": true
  }
 },
 "nbformat": 4,
 "nbformat_minor": 2
}
