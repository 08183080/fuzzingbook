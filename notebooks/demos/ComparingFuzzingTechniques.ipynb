{
 "cells": [
  {
   "cell_type": "markdown",
   "metadata": {},
   "source": [
    "# Comparing Fuzzing Techniques\n",
    "\n",
    "1. Evaluate [grammar-based delta debugging](Reducer.ipynb), especially against the cited alternatives (book, paper)\n",
    "2. Evaluate [grammar-based GUI fuzzing](GUIFuzzer.ipynb), notably with the ability to automatically model text input (book, paper)\n",
    "3. Evaluate [probabilistic fuzzing](ProbabilisticGrammarFuzzer.ipynb), notably the \"learning\" ability (book)\n",
    "4. Evaluate [configuration fuzzing](ConfigurationFuzzer.ipynb) (book, paper)\n",
    "5. Evaluate [carver](Carver.ipynb) (book)\n",
    "6. Evaluate [coverage-based grammar fuzzing](GrammarCoverageFuzzer.ipynb) (book)\n",
    "7. Evaluate [grammar miner](GrammarMiner.ipynb) (book)\n",
    "8. Evaluate [lang fuzzer](LangFuzzer.ipynb) (book, paper if combined with concolic)\n",
    "9. Evaluate [evolutionary grammar fuzzing](EvoGrammarFuzzer.ipynb) (book)\n",
    "10. Evaluate [concolic fuzzer](ConcolicFuzzer.ipynb) (book, implement extras)\n",
    "11. Evaluate grammar-based mutations (book, paper)\n",
    "\n"
   ]
  }
 ],
 "metadata": {
  "kernelspec": {
   "display_name": "Python 3",
   "language": "python",
   "name": "python3"
  },
  "language_info": {
   "codemirror_mode": {
    "name": "ipython",
    "version": 3
   },
   "file_extension": ".py",
   "mimetype": "text/x-python",
   "name": "python",
   "nbconvert_exporter": "python",
   "pygments_lexer": "ipython3",
   "version": "3.6.8"
  }
 },
 "nbformat": 4,
 "nbformat_minor": 2
}
