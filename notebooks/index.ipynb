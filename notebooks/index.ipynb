{
 "cells": [
  {
   "cell_type": "markdown",
   "metadata": {},
   "source": [
    "# About this Book\n",
    "\n",
    "__Welcome to \"Generating Software Tests\"!__ \n",
    "Software has bugs, and catching bugs can involve lots of effort.  This book addresses this problem by _automating_ software testing, specifically by _generating tests automatically_.  Recent years have seen the development of novel techniques that lead to dramatic improvements in test generation and software testing.  They now are mature enough to be assembled in a book – even with executable code. "
   ]
  },
  {
   "cell_type": "markdown",
   "metadata": {},
   "source": [
    "## A Textbook for Paper, Screen, and Keyboard\n",
    "\n",
    "You can use this book in three ways:\n",
    "\n",
    "* You can __read chapters in your browser__.  Check out the list of chapters in the menu above, or start right away with the \n",
    "<a href=\"https://www.fuzzingbook.org/html/Intro_Testing.html\">introduction to testing</a> or the\n",
    "<a href=\"https://www.fuzzingbook.org/html/Fuzzer.html\">introduction to fuzzing</a>.  All code is available for download.\n",
    "\n",
    "* You can __interact with chapters as Jupyter Notebooks__ (beta).  This allows you edit and extend the code, experimenting _live in your browser._  Just click on \"Resources $\\rightarrow$ Edit as Notebook\" at the top of each chapter. <a href=\"https://mybinder.org/v2/gh/uds-se/fuzzingbook/master?filepath=docs/notebooks/Fuzzer.ipynb\" target=_blank>Try interacting with the introduction to fuzzing.</a>\n",
    "\n",
    "* You can __present chapters as slides__ (beta).  This allows for presenting the material in lectures.  Just click on \"Resources $\\rightarrow$ View slides\" at the top of each chapter. <a href=\"https://www.fuzzingbook.org/slides/Fuzzer.slides.html\" target=_blank>Try viewing slides on the introduction to fuzzing.</a>"
   ]
  },
  {
   "cell_type": "markdown",
   "metadata": {},
   "source": [
    "## Who this Book is for\n",
    "\n",
    "This work is designed as a _textbook_ for a course in software testing; as _supplementary material_ in a software testing or software engineering course; and as a _resource for software developers_. We cover random fuzzing, mutation-based fuzzing, grammar-based test generation, symbolic testing, and much more, illustrating all techniques with code examples that you can try out yourself."
   ]
  },
  {
   "cell_type": "markdown",
   "metadata": {},
   "source": [
    "## News\n",
    "\n",
    "This book is _work in progress,_ with new chapters coming out every week.  To get notified when a new chapter comes out, <a href=\"https://twitter.com/FuzzingBook?ref_src=twsrc%5Etfw\" data-show-count=\"false\">follow us on Twitter</a>.\n",
    "\n",
    "<a class=\"twitter-timeline\" data-width=\"500\" data-chrome=\"noheader nofooter noborders transparent\" data-link-color=\"#A93226\" data-align=\"center\" href=\"https://twitter.com/FuzzingBook?ref_src=twsrc%5Etfw\">News from @FuzzingBook</a> <script async src=\"https://platform.twitter.com/widgets.js\" charset=\"utf-8\"></script>\n"
   ]
  },
  {
   "cell_type": "markdown",
   "metadata": {},
   "source": [
    "## About the Authors\n",
    "\n",
    "This book is written by _Andreas Zeller, Rahul Gopinath, Marcel Böhme, Gordon Fraser, and Christian Holler_.  All of us are long-standing experts in software testing and test generation; and we have written or contributed to some of the most important test generators and fuzzers on the planet.  As an example, if you are reading this in a Firefox, Chrome, or Edge Web browser, you can do so safely partly because of us, as _the very techniques listed in this book have found more than 2,600 bugs in their JavaScript interpreters so far._  We are happy to share our expertise and making it accessible to the public."
   ]
  },
  {
   "cell_type": "markdown",
   "metadata": {},
   "source": [
    "## Frequently Asked Questions"
   ]
  },
  {
   "cell_type": "markdown",
   "metadata": {},
   "source": [
    "### Technical Issues"
   ]
  },
  {
   "cell_type": "markdown",
   "metadata": {},
   "source": [
    "#### Why does it take so long to start an interactive notebook?\n",
    "\n",
    "The interactive notebook uses the [mybinder.org](https://mybinder.org) service, which runs notebooks on their own servers.  Starting Jupyter through mybinder.org normally takes about 30 seconds, depending on your Internet connection. If, however, you are the first to invoke binder after a book update, binder recreates its environment, which will take a few minutes.  Reload the page occasionally."
   ]
  },
  {
   "cell_type": "markdown",
   "metadata": {},
   "source": [
    "#### The interactive notebook does not work!\n",
    "\n",
    "mybinder.org imposes a [limit of 100 concurrent users for a repository](https://mybinder.readthedocs.io/en/latest/user-guidelines.html).  Also, as listed on the [mybinder.org status and reliability page](https://mybinder.readthedocs.io/en/latest/reliability.html),\n",
    "\n",
    "> As mybinder.org is a research pilot project, the main goal for the project is to understand usage patterns and workloads for future project evolution. While we strive for site reliability and availability, we want our users to understand the intent of this service is research and we offer no guarantees of its performance in mission critical uses."
   ]
  },
  {
   "cell_type": "markdown",
   "metadata": {},
   "source": [
    "There are alternatives to mybinder.org; see below."
   ]
  },
  {
   "cell_type": "markdown",
   "metadata": {},
   "source": [
    "#### Do I have alternatives to the interactive notebook?\n",
    "\n",
    "If mybinder.org does not work or match your needs, you have a number of alternatives:\n",
    "\n",
    "1. Download the Python code (using the menu at the top) and edit and run it in your favourite environment.  This is easy to do and does not require lots of resources.\n",
    "\n",
    "2. [Install jupyter notebook on your machine](https://www.dataquest.io/blog/jupyter-notebook-tutorial/) and clone the `fuzzingbook` project repository [from the Github project page](https://github.com/uds-se/fuzzingbook).  Go to the `notebooks/` folder, where you can then open, edit, and run all notebooks at your leisure.\n",
    "\n",
    "3. If you want to use the book in a classroom, and depend on your users having access to the interactive notebooks, consider using or deploying a [JupyterHub](http://jupyter.org/hub) or [BinderHub](https://github.com/jupyterhub/binderhub) instance."
   ]
  },
  {
   "cell_type": "markdown",
   "metadata": {},
   "source": [
    "#### Do you provide PDFs of your material?\n",
    "\n",
    "At this point, we do not provide support for PDF versions.  We will be producing PDF and paper versions once the book is complete."
   ]
  },
  {
   "cell_type": "markdown",
   "metadata": {},
   "source": [
    "### Content"
   ]
  },
  {
   "cell_type": "markdown",
   "metadata": {},
   "source": [
    "#### Which content will be coming up?\n",
    "\n",
    "The contents of this book will include topics such as:\n",
    "\n",
    "1. Introduction to Testing\n",
    "2. Basic Fuzzing\n",
    "3. Coverage\n",
    "4. Mutation-Based Fuzzing\n",
    "5. Fuzzing with Grammars\n",
    "6. Efficient Grammar Fuzzing\n",
    "7. Grammar Coverage\n",
    "8. Configuration Fuzzing\n",
    "9. Parsing and Mutating Inputs\n",
    "10. Probabilistic Testing\n",
    "11. Reducing Failure-Inducing Inputs\n",
    "12. Fuzzing Function Calls\n",
    "13. Fuzzing User Interfaces\n",
    "14. Search-Based Testing\n",
    "15. Symbolic Testing\n",
    "16. Mining Grammars\n",
    "17. Fuzzing and Invariants\n",
    "18. Protection and Repair\n",
    "\n",
    "See the table of contents in the menu above for those chapters that are already done."
   ]
  },
  {
   "cell_type": "markdown",
   "metadata": {},
   "source": [
    "#### How do I cite your work?\n",
    "\n",
    "Thanks for referring to our work!  Once the book is complete, you will be able to cite it in the traditional way.  In the meantime, just click on the \"cite\" button at the bottom of the Web page for each chapter to get a citation entry."
   ]
  },
  {
   "cell_type": "markdown",
   "metadata": {},
   "source": [
    "### Other Issues"
   ]
  },
  {
   "cell_type": "markdown",
   "metadata": {},
   "source": [
    "#### I have a question, comment, or a suggestion.  What do I do?\n",
    "\n",
    "You can [tweet to @fuzzingbook on Twitter](https://twitter.com/fuzzingbook), allowing the community of readers to chime in.  For bugs you'd like to get fixed, report an issue on the [development page](https://github.com/uds-se/fuzzingbook/issues)."
   ]
  },
  {
   "cell_type": "markdown",
   "metadata": {},
   "source": [
    "#### I have reported an issue two weeks ago.  When will it be addressed?\n",
    "\n",
    "We prioritize issues as follows:\n",
    "\n",
    "1. Bugs in code published on fuzzingbook.org\n",
    "2. Bugs in text published on fuzzingbook.org\n",
    "3. Writing missing chapters\n",
    "4. Issues in yet unpublished code or text\n",
    "5. Issues related to development or construction\n",
    "6. Things marked as \"beta\"\n",
    "7. Everything else"
   ]
  },
  {
   "cell_type": "markdown",
   "metadata": {},
   "source": [
    "#### How can I solve problems myself?\n",
    "\n",
    "We're glad you ask that.  The [development page](https://github.com/uds-se/fuzzingbook/) has all sources and some supplementary material.  Pull requests that fix issues are very welcome."
   ]
  },
  {
   "cell_type": "markdown",
   "metadata": {},
   "source": [
    "#### How can I contribute?\n",
    "\n",
    "Again, we're glad you're here!  See our [Guide for Authors](Guide_for_Authors.ipynb) for instructions on coding and writing."
   ]
  }
 ],
 "metadata": {
  "ipub": {
   "bibliography": "fuzzingbook.bib",
   "listcode": true,
   "listfigures": true,
   "listtables": true,
   "titlepage": {
    "author": "Andreas Zeller, Rahul Gopinath, Marcel Böhme, Gordon Fraser, and Christian Holler",
    "subtitle": "Breaking Software for Fun and Profit",
    "title": "Generating Software Tests"
   },
   "toc": true
  },
  "kernelspec": {
   "display_name": "Python 3",
   "language": "python",
   "name": "python3"
  },
  "language_info": {
   "codemirror_mode": {
    "name": "ipython",
    "version": 3
   },
   "file_extension": ".py",
   "mimetype": "text/x-python",
   "name": "python",
   "nbconvert_exporter": "python",
   "pygments_lexer": "ipython3",
   "version": "3.6.5"
  },
  "toc": {
   "base_numbering": 1,
   "nav_menu": {},
   "number_sections": true,
   "sideBar": true,
   "skip_h1_title": true,
   "title_cell": "",
   "title_sidebar": "Contents",
   "toc_cell": false,
   "toc_position": {},
   "toc_section_display": true,
   "toc_window_display": true
  }
 },
 "nbformat": 4,
 "nbformat_minor": 2
}
