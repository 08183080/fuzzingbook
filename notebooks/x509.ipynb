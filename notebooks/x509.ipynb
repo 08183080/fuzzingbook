{
 "cells": [
  {
   "cell_type": "markdown",
   "id": "efda53c4-6b13-41c4-b984-f00fc7f8e700",
   "metadata": {},
   "source": [
    "# Fuzzing Certificates"
   ]
  },
  {
   "cell_type": "markdown",
   "id": "27bfa451-6b4a-4924-89ea-d1240ea4b1ec",
   "metadata": {},
   "source": [
    "In this notebook, I will try to decipher and fuzz digital certificates, also known as x.509 certificates."
   ]
  },
  {
   "cell_type": "code",
   "execution_count": null,
   "id": "c4ed1bb4-cc7a-4d0f-964a-5fbb22723ec0",
   "metadata": {},
   "outputs": [],
   "source": [
    "import bookutils"
   ]
  },
  {
   "cell_type": "markdown",
   "id": "6bfacea2-ceb8-41aa-aac8-72f77f0d225f",
   "metadata": {},
   "source": [
    "We'll start by _parsing_ certificates."
   ]
  },
  {
   "cell_type": "markdown",
   "id": "2efb7edc-a749-4c01-b5cc-314ac05f658d",
   "metadata": {},
   "source": [
    "## Human-Readable Certificates"
   ]
  },
  {
   "cell_type": "markdown",
   "id": "e8cecda4-2ccd-46c2-94f9-72e384f1df7e",
   "metadata": {},
   "source": [
    "This is my certificate, coming in PEM format."
   ]
  },
  {
   "cell_type": "code",
   "execution_count": null,
   "id": "a164a8b4-b4a9-4e04-b0e3-43bf4c09db9c",
   "metadata": {},
   "outputs": [],
   "source": [
    "CERT_PEM = '''\n",
    "-----BEGIN CERTIFICATE-----\n",
    "MIIGGDCCBQCgAwIBAgIMJGWlX/uTZaODs3uIMA0GCSqGSIb3DQEBCwUAMIGNMQsw\n",
    "CQYDVQQGEwJERTFFMEMGA1UECgw8VmVyZWluIHp1ciBGb2VyZGVydW5nIGVpbmVz\n",
    "IERldXRzY2hlbiBGb3JzY2h1bmdzbmV0emVzIGUuIFYuMRAwDgYDVQQLDAdERk4t\n",
    "UEtJMSUwIwYDVQQDDBxERk4tVmVyZWluIEdsb2JhbCBJc3N1aW5nIENBMB4XDTIx\n",
    "MDMwODEzMzQwOVoXDTI0MDMwNzEzMzQwOVowgbkxCzAJBgNVBAYTAkRFMREwDwYD\n",
    "VQQIDAhTYWFybGFuZDEVMBMGA1UEBwwMU2FhcmJydWVja2VuMUQwQgYDVQQKDDtD\n",
    "SVNQQSAtIEhlbG1ob2x0ei1aZW50cnVtIGZ1ZXIgSW5mb3JtYXRpb25zc2ljaGVy\n",
    "aGVpdCBnR21iSDEQMA4GA1UEBAwHQW5kcmVhczEPMA0GA1UEKgwGWmVsbGVyMRcw\n",
    "FQYDVQQDDA5aZWxsZXIgQW5kcmVhczCCASIwDQYJKoZIhvcNAQEBBQADggEPADCC\n",
    "AQoCggEBALo6h1hJw92V8MnN38ry/Spc2G6v+YTTWsWODY2/7pPBizYIefCjDXCL\n",
    "mkxu7oDUwm7Mbeg+gASeI1wJYpiKc8FknPkMDEAHYmZFpLbyfWJsCRTsu1WEO5So\n",
    "2nOvedPTjpy7IwHHG7p7H9l5LCzWcA0XBqaGNj0yHwpOD67CA8jcbZ5I41dG3xUW\n",
    "ApM51M+UqOAzhh0SlRkEgBnRE06jUj+zTVIKlLb9Ho9Bw3CEPdKRpBs6yjouKxwf\n",
    "apwpaBru/NnEW7gwAwKNIoRlZmiKQniHoE4uMM7e5zWPxaV/co+cn3u8SwnqJjG0\n",
    "jR07EF+l9Fb3cWGwSQrhp0lFjudp0aUCAwEAAaOCAkgwggJEMD4GA1UdIAQ3MDUw\n",
    "DwYNKwYBBAGBrSGCLAEBBDAQBg4rBgEEAYGtIYIsAQEECDAQBg4rBgEEAYGtIYIs\n",
    "AgEECDAJBgNVHRMEAjAAMA4GA1UdDwEB/wQEAwIF4DAdBgNVHSUEFjAUBggrBgEF\n",
    "BQcDAgYIKwYBBQUHAwQwHQYDVR0OBBYEFJlDyZ5yzYQjHgDxf31rCqDITfLkMB8G\n",
    "A1UdIwQYMBaAFGs6mIv58lOJ2uCtsjIeCR/oqjt0MBoGA1UdEQQTMBGBD3plbGxl\n",
    "ckBjaXNwYS5kZTCBjQYDVR0fBIGFMIGCMD+gPaA7hjlodHRwOi8vY2RwMS5wY2Eu\n",
    "ZGZuLmRlL2Rmbi1jYS1nbG9iYWwtZzIvcHViL2NybC9jYWNybC5jcmwwP6A9oDuG\n",
    "OWh0dHA6Ly9jZHAyLnBjYS5kZm4uZGUvZGZuLWNhLWdsb2JhbC1nMi9wdWIvY3Js\n",
    "L2NhY3JsLmNybDCB2wYIKwYBBQUHAQEEgc4wgcswMwYIKwYBBQUHMAGGJ2h0dHA6\n",
    "Ly9vY3NwLnBjYS5kZm4uZGUvT0NTUC1TZXJ2ZXIvT0NTUDBJBggrBgEFBQcwAoY9\n",
    "aHR0cDovL2NkcDEucGNhLmRmbi5kZS9kZm4tY2EtZ2xvYmFsLWcyL3B1Yi9jYWNl\n",
    "cnQvY2FjZXJ0LmNydDBJBggrBgEFBQcwAoY9aHR0cDovL2NkcDIucGNhLmRmbi5k\n",
    "ZS9kZm4tY2EtZ2xvYmFsLWcyL3B1Yi9jYWNlcnQvY2FjZXJ0LmNydDANBgkqhkiG\n",
    "9w0BAQsFAAOCAQEAS7Ok9N8qAVgG6t5fa6rMEY4xU2DYIh1Xx8rXgHUa25ULktde\n",
    "z+hEL2/3GRpA9fiQBccjJ3YVTuE0HuZ0hixbZie4L2aetQMrAO2wTzak42PGww5l\n",
    "ERbtacNuW7t64s/LmLROKsWeeLDYChyJW1Ql5Wl7kkI9NV1BRPcGgtHqqhQ3CN/J\n",
    "V4wK0JWPpD1lIQo/IaN/4RXq6unMZ/u1ZbXosXc8NlphAee1W2ZHI4ObWbpvpdBR\n",
    "sj6PGMKESyLzODcuRMjib+qryiTp1e3PGmunmqS+kjNDsd3iohGQlej/Dsxx9gHT\n",
    "UbbHFCEoTsnxEte5FcC1djFLrpQxklinOh/xnA==\n",
    "-----END CERTIFICATE-----\n",
    "'''"
   ]
  },
  {
   "cell_type": "markdown",
   "id": "1c748682-0180-405b-980b-397c1a8d613d",
   "metadata": {},
   "source": [
    "We can view the contents of this certificate using `openssl`:"
   ]
  },
  {
   "cell_type": "code",
   "execution_count": null,
   "id": "64492128-0250-4097-ab05-d7428856b232",
   "metadata": {
    "tags": []
   },
   "outputs": [],
   "source": [
    "CERT_PEM_FILE = 'certificate.pem'"
   ]
  },
  {
   "cell_type": "code",
   "execution_count": null,
   "id": "e1ee4cc2-63ca-4659-926b-5d4a8b17a39f",
   "metadata": {},
   "outputs": [],
   "source": [
    "with open(CERT_PEM_FILE, 'w') as fp:\n",
    "    fp.write(CERT_PEM)"
   ]
  },
  {
   "cell_type": "code",
   "execution_count": null,
   "id": "aa8784f0-f5fa-423d-acb7-bf937093dda9",
   "metadata": {},
   "outputs": [],
   "source": [
    "!openssl x509 -in {CERT_PEM_FILE} -text -noout "
   ]
  },
  {
   "cell_type": "markdown",
   "id": "11093fc9-18b3-4684-82a1-9fd9343dc8f9",
   "metadata": {},
   "source": [
    "## Analyzing Binary Certificates"
   ]
  },
  {
   "cell_type": "markdown",
   "id": "6ded4892-7b74-490a-8c8b-c785384247a0",
   "metadata": {},
   "source": [
    "Let us convert this certificate into DER (binary) form. This is what we will work with."
   ]
  },
  {
   "cell_type": "code",
   "execution_count": null,
   "id": "bfac8b1f-ca49-4b8c-aa75-fcb6e39facdc",
   "metadata": {
    "tags": []
   },
   "outputs": [],
   "source": [
    "CERT_DER_FILE = 'certificate.der'"
   ]
  },
  {
   "cell_type": "code",
   "execution_count": null,
   "id": "38cb5671-6865-4c73-aca8-4d177fd9adff",
   "metadata": {},
   "outputs": [],
   "source": [
    "!openssl x509 -outform der -in {CERT_PEM_FILE} -out {CERT_DER_FILE}"
   ]
  },
  {
   "cell_type": "markdown",
   "id": "5051c50a-3931-4072-bbd0-192b252cd65e",
   "metadata": {},
   "source": [
    "We can analyze file contents again using `openssl`:"
   ]
  },
  {
   "cell_type": "code",
   "execution_count": null,
   "id": "74f59e3a-6b23-4933-9782-0ee3d2ddbdc8",
   "metadata": {},
   "outputs": [],
   "source": [
    "!openssl asn1parse -i -in {CERT_DER_FILE} -inform DER"
   ]
  },
  {
   "cell_type": "markdown",
   "id": "0cb52803-4366-4b3c-baeb-84fb8784926e",
   "metadata": {},
   "source": [
    "To decode ASN.1, we make use of the [Python ASN.1 module](https://github.com/andrivet/python-asn1) (Here's the [documentation](https://python-asn1.readthedocs.io/en/latest/)).\n",
    "We find that our DER file consists of a sequence (0x10 = 16): "
   ]
  },
  {
   "cell_type": "code",
   "execution_count": null,
   "id": "f9c4adcc-8277-4e1b-bebd-182ba4bd71e6",
   "metadata": {},
   "outputs": [],
   "source": [
    "import asn1"
   ]
  },
  {
   "cell_type": "code",
   "execution_count": null,
   "id": "836df302-b64f-4dd4-b33e-08421d9dfefe",
   "metadata": {},
   "outputs": [],
   "source": [
    "CERT_DER = open(CERT_DER_FILE, 'br').read()\n",
    "CERT_DER[:10]"
   ]
  },
  {
   "cell_type": "code",
   "execution_count": null,
   "id": "aa57a1b3-32bc-4819-84e1-351f2f8ab3c1",
   "metadata": {},
   "outputs": [],
   "source": [
    "decoder_1 = asn1.Decoder()\n",
    "decoder_1.start(CERT_DER)"
   ]
  },
  {
   "cell_type": "code",
   "execution_count": null,
   "id": "2cbb82e7-5b0a-4623-8d30-f07f1a4850a5",
   "metadata": {},
   "outputs": [],
   "source": [
    "tag_1, value_1 = decoder_1.read()"
   ]
  },
  {
   "cell_type": "code",
   "execution_count": null,
   "id": "cb6d4047-668f-41ba-9d80-fc339b6ab7ca",
   "metadata": {},
   "outputs": [],
   "source": [
    "tag_1"
   ]
  },
  {
   "cell_type": "code",
   "execution_count": null,
   "id": "2e64b0d8-70f1-4a26-9717-284eef1da480",
   "metadata": {},
   "outputs": [],
   "source": [
    "assert tag_1.nr == asn1.Numbers.Sequence\n",
    "assert tag_1.typ == asn1.Types.Constructed"
   ]
  },
  {
   "cell_type": "code",
   "execution_count": null,
   "id": "d4fb2814-bdbf-498f-927d-2befb48281b1",
   "metadata": {},
   "outputs": [],
   "source": [
    "value_1[:10]"
   ]
  },
  {
   "cell_type": "markdown",
   "id": "dc7ea77d-8e82-4819-b8dd-d5f7d9da23c8",
   "metadata": {},
   "source": [
    "This starts with another sequence:"
   ]
  },
  {
   "cell_type": "code",
   "execution_count": null,
   "id": "706a7316-c505-419f-ad92-6fc5087c3bec",
   "metadata": {},
   "outputs": [],
   "source": [
    "decoder_2 = asn1.Decoder()\n",
    "decoder_2.start(value_1)"
   ]
  },
  {
   "cell_type": "code",
   "execution_count": null,
   "id": "8ad8ab0a-e438-4aab-8494-f9fb85ddd541",
   "metadata": {},
   "outputs": [],
   "source": [
    "tag_2, value_2 = decoder_2.read()"
   ]
  },
  {
   "cell_type": "code",
   "execution_count": null,
   "id": "55177ff4-1d37-44f2-b24f-5bbb04d65c0d",
   "metadata": {},
   "outputs": [],
   "source": [
    "tag_2"
   ]
  },
  {
   "cell_type": "code",
   "execution_count": null,
   "id": "20996e3f-9aa9-4a0d-b311-c35955558825",
   "metadata": {},
   "outputs": [],
   "source": [
    "assert tag_2.nr == asn1.Numbers.Sequence\n",
    "assert tag_1.typ == asn1.Types.Constructed"
   ]
  },
  {
   "cell_type": "code",
   "execution_count": null,
   "id": "cf138c5e-937a-4f04-beb5-d56aaaa42605",
   "metadata": {},
   "outputs": [],
   "source": [
    "value_2[:10]"
   ]
  },
  {
   "cell_type": "markdown",
   "id": "a13c353d-6129-4dd0-9c8f-637b711851f0",
   "metadata": {},
   "source": [
    "This starts with another sequence:"
   ]
  },
  {
   "cell_type": "code",
   "execution_count": null,
   "id": "c0d76c4c-26ec-4113-ab84-3e29248c6534",
   "metadata": {},
   "outputs": [],
   "source": [
    "decoder_3 = asn1.Decoder()\n",
    "decoder_3.start(value_2)"
   ]
  },
  {
   "cell_type": "code",
   "execution_count": null,
   "id": "ec78ff7a-92e9-4e25-b478-151d07e54a48",
   "metadata": {},
   "outputs": [],
   "source": [
    "tag_3, value_3 = decoder_3.read()"
   ]
  },
  {
   "cell_type": "code",
   "execution_count": null,
   "id": "e35721cc-edad-48d5-977f-5b32221e0586",
   "metadata": {},
   "outputs": [],
   "source": [
    "tag_3"
   ]
  },
  {
   "cell_type": "code",
   "execution_count": null,
   "id": "40450338-4a9c-4ff0-b4fa-58d89151f4f3",
   "metadata": {},
   "outputs": [],
   "source": [
    "assert tag_3.typ == asn1.Types.Constructed\n",
    "assert tag_3.cls == asn1.Classes.Context"
   ]
  },
  {
   "cell_type": "code",
   "execution_count": null,
   "id": "0aa6e617-f3c8-4402-8f53-bd324fa0a6cb",
   "metadata": {},
   "outputs": [],
   "source": [
    "value_3"
   ]
  },
  {
   "cell_type": "markdown",
   "id": "614bb98e-8abb-42f0-999a-311f82f964d6",
   "metadata": {},
   "source": [
    "This is an encoding for an integer 2:"
   ]
  },
  {
   "cell_type": "code",
   "execution_count": null,
   "id": "e330bab0-74db-4f6f-9523-b1d67abc6714",
   "metadata": {},
   "outputs": [],
   "source": [
    "decoder_4 = asn1.Decoder()\n",
    "decoder_4.start(value_3)"
   ]
  },
  {
   "cell_type": "code",
   "execution_count": null,
   "id": "669047f6-65f6-477b-9a7f-c3cde4f6a3b9",
   "metadata": {},
   "outputs": [],
   "source": [
    "tag_4, value_4 = decoder_4.read()"
   ]
  },
  {
   "cell_type": "code",
   "execution_count": null,
   "id": "53073d11-21ad-4383-a8d5-6cbdef91fe69",
   "metadata": {},
   "outputs": [],
   "source": [
    "tag_4"
   ]
  },
  {
   "cell_type": "code",
   "execution_count": null,
   "id": "5774ae8b-766c-45a3-964d-aa64cd5c3d10",
   "metadata": {},
   "outputs": [],
   "source": [
    "value_4"
   ]
  },
  {
   "cell_type": "code",
   "execution_count": null,
   "id": "57098db3-77d2-4902-8ca3-ac29ab169187",
   "metadata": {},
   "outputs": [],
   "source": [
    "assert tag_4.nr == asn1.Numbers.Integer\n",
    "assert tag_4.typ == asn1.Types.Primitive"
   ]
  },
  {
   "cell_type": "markdown",
   "id": "4ee59365-8b57-4f92-9dc7-559981d9d493",
   "metadata": {
    "tags": []
   },
   "source": [
    "## Constructing a Grammar"
   ]
  },
  {
   "cell_type": "markdown",
   "id": "511cbfb8-aa13-4552-9242-1e6dd5dbcef3",
   "metadata": {},
   "source": [
    "See [A Layman's Guide to a Subset of ASN.1, BER, and DER](http://luca.ntop.org/Teaching/Appunti/asn1.html) for details."
   ]
  },
  {
   "cell_type": "code",
   "execution_count": null,
   "id": "84558c7e-c928-4eba-8c65-9554e6ec3a56",
   "metadata": {
    "tags": []
   },
   "outputs": [],
   "source": [
    "from Grammars import Grammar, crange, is_valid_grammar, convert_ebnf_grammar\n",
    "from GrammarFuzzer import display_tree"
   ]
  },
  {
   "cell_type": "markdown",
   "id": "abd35f7e-339c-4f8e-9e1b-67281f4872c5",
   "metadata": {},
   "source": [
    "We start with simple values."
   ]
  },
  {
   "cell_type": "code",
   "execution_count": null,
   "id": "8d4c40fd-9367-44e9-ac5d-3e5545fb5bc0",
   "metadata": {},
   "outputs": [],
   "source": [
    "ASN1_EBNF_GRAMMAR: Grammar = {\n",
    "    '<start>': ['<value>'],\n",
    "    '<value>': [],  # will be updated later\n",
    "}"
   ]
  },
  {
   "cell_type": "code",
   "execution_count": null,
   "id": "2e72bf6e-dd0b-405a-9b93-036713845386",
   "metadata": {},
   "outputs": [],
   "source": [
    "ASN1_CONSTRAINTS = {}"
   ]
  },
  {
   "cell_type": "markdown",
   "id": "c927c1c2-6227-45a6-8acf-f1161d5a4d3e",
   "metadata": {},
   "source": [
    "### Simple Types"
   ]
  },
  {
   "cell_type": "markdown",
   "id": "5a777cf6-3910-48ad-b60d-604c87323efd",
   "metadata": {},
   "source": [
    "Every tag identifier can have bits 4-7 set, identifying types and classes. For efficient parsing, we enumerate the variations explicitly in the grammar (rather than identifying via constraints)."
   ]
  },
  {
   "cell_type": "code",
   "execution_count": null,
   "id": "61b8a582-ff14-4c98-99bc-03a98b987fa7",
   "metadata": {},
   "outputs": [],
   "source": [
    "def tag_variations(tag):\n",
    "    variations = []\n",
    "    for typ_tag, typ in [\n",
    "                ('<constructed>', asn1.Types.Constructed),   # 0x20\n",
    "                ('<primitive>', asn1.Types.Primitive)        # 0x00\n",
    "               ]:  \n",
    "        for cls_tag, cls in [\n",
    "                ('<universal>', asn1.Classes.Universal),     # 0x00\n",
    "                ('<application>', asn1.Classes.Application), # 0x40\n",
    "                ('<context>', asn1.Classes.Context),         # 0x80\n",
    "                ('<private>', asn1.Classes.Private)          # 0xc0\n",
    "            ]:\n",
    "            variations += [chr(tag | typ | cls) + \n",
    "                           typ_tag + cls_tag]\n",
    "\n",
    "    return variations"
   ]
  },
  {
   "cell_type": "code",
   "execution_count": null,
   "id": "b5d2d37a-9da6-4807-a12d-a099036f26c9",
   "metadata": {},
   "outputs": [],
   "source": [
    "ASN1_EBNF_GRAMMAR.update({\n",
    "      '<constructed>': [''],\n",
    "      '<primitive>': [''],\n",
    "\n",
    "      '<universal>': [''],\n",
    "      '<application>': [''],\n",
    "      '<context>': [''],\n",
    "      '<private>': [''],\n",
    "})"
   ]
  },
  {
   "cell_type": "markdown",
   "id": "8bfc9cea-d595-4a0a-be12-4c6c2f895f24",
   "metadata": {},
   "source": [
    "For each tag, we define length and value expansions."
   ]
  },
  {
   "cell_type": "code",
   "execution_count": null,
   "id": "956040a0-5146-468b-90a9-0c579550580b",
   "metadata": {},
   "outputs": [],
   "source": [
    "USED_TAGS = set()"
   ]
  },
  {
   "cell_type": "code",
   "execution_count": null,
   "id": "cf19b484-d4c1-43fd-a4e7-c0a2f333a612",
   "metadata": {},
   "outputs": [],
   "source": [
    "from pprint import pprint"
   ]
  },
  {
   "cell_type": "code",
   "execution_count": null,
   "id": "7b7df151-1ba2-40c8-b117-105340c26327",
   "metadata": {},
   "outputs": [],
   "source": [
    "def add_tag(name, tag, expansions=None, length=None, \n",
    "            log=False, test=False):\n",
    "    # FIXME: Make this a class\n",
    "    global ASN1_EBNF_GRAMMAR\n",
    "    global ASN1_CONSTRAINTS\n",
    "    global USED_TAGS\n",
    "    \n",
    "    if expansions is None:\n",
    "        expansions = ['<any-value>']\n",
    "    if length is None:\n",
    "        length = ['<length>']\n",
    "        \n",
    "    assert f'<{name}>' not in ASN1_EBNF_GRAMMAR\n",
    "    assert f'<{name}>' not in ASN1_EBNF_GRAMMAR['<value>']\n",
    "        \n",
    "    new_rules = {\n",
    "        f'<{name}>': [\n",
    "            f'<{name}-tag><{name}-length><{name}-value>'\n",
    "        ],\n",
    "        f'<{name}-tag>': tag_variations(tag),\n",
    "        f'<{name}-length>': length,\n",
    "        f'<{name}-value>': expansions,\n",
    "    }\n",
    "    new_constraints = f'''\n",
    "forall <{name}>:\n",
    "    str.to_code(<{name}>.<{name}-length>) = \n",
    "        str.len(<{name}>.<{name}-value>)\n",
    "    '''\n",
    "\n",
    "    ASN1_EBNF_GRAMMAR['<value>'].append(f'<{name}>')\n",
    "    ASN1_EBNF_GRAMMAR.update(new_rules)\n",
    "    ASN1_CONSTRAINTS[f'<{name}>'] = new_constraints\n",
    "    USED_TAGS.add(chr(tag))\n",
    "\n",
    "    if log:\n",
    "        print(f\"New tag: <{name}>\") \n",
    "        print(\"New rules:\")\n",
    "        pprint(new_rules)\n",
    "        print(\"\\nNew constraints:\", end=\"\")\n",
    "        print(new_constraints)\n",
    "        \n",
    "    assert f'<{name}>' in ASN1_EBNF_GRAMMAR\n",
    "    assert f'<{name}>' in ASN1_EBNF_GRAMMAR['<value>']\n",
    "\n",
    "    assert is_valid_grammar(ASN1_EBNF_GRAMMAR)\n",
    "    \n",
    "    if test:\n",
    "        tree = test_solve(name)\n",
    "        print(f\"Test solving <{name}>: {repr(str(tree))} {len(str(tree))}\")\n",
    "        return display_tree(tree)"
   ]
  },
  {
   "cell_type": "code",
   "execution_count": null,
   "id": "93e5787b-5e72-406c-9302-11ff12f2c118",
   "metadata": {
    "tags": []
   },
   "outputs": [],
   "source": [
    "from isla.solver import ISLaSolver"
   ]
  },
  {
   "cell_type": "code",
   "execution_count": null,
   "id": "b1076718-bbe3-4415-a635-b04476bfd677",
   "metadata": {},
   "outputs": [],
   "source": [
    "from Grammars import unreachable_nonterminals"
   ]
  },
  {
   "cell_type": "code",
   "execution_count": null,
   "id": "a10f74f7-8616-43c5-b424-991036b98063",
   "metadata": {},
   "outputs": [],
   "source": [
    "def test_solve(name):\n",
    "    # FEATURE-REQUEST: allow to specify a start symbol for solve()\n",
    "    grammar = ASN1_EBNF_GRAMMAR.copy()\n",
    "    constraints = ASN1_CONSTRAINTS.copy()\n",
    "    \n",
    "    grammar['<start>'] = [f'<{name}>']\n",
    "    for elem in unreachable_nonterminals(grammar):\n",
    "        del grammar[elem]\n",
    "        if elem in constraints:\n",
    "            del constraints[elem]\n",
    "        \n",
    "    grammar = convert_ebnf_grammar(grammar)\n",
    "\n",
    "    solver = ISLaSolver(grammar, \"\".join(constraints.values()))\n",
    "    tree = solver.solve()\n",
    "    return tree"
   ]
  },
  {
   "cell_type": "markdown",
   "id": "95263ff3-5d91-44d5-b8ab-a06fa4828406",
   "metadata": {},
   "source": [
    "#### Booleans"
   ]
  },
  {
   "cell_type": "markdown",
   "id": "1e2c2551-fce9-443a-93e2-ddb661692dce",
   "metadata": {},
   "source": [
    "Booleans are simply `0x00` (False) or `0xff` (True)"
   ]
  },
  {
   "cell_type": "code",
   "execution_count": null,
   "id": "ca96bfd8-1cd5-41ef-939e-eaaa7767b09e",
   "metadata": {},
   "outputs": [],
   "source": [
    "add_tag(\n",
    "    name='boolean',\n",
    "    tag=asn1.Numbers.Boolean,\n",
    "    length=['\\x01'],\n",
    "    expansions=['\\x00', '\\xff'],\n",
    "    log=True,\n",
    "    test=True\n",
    ")"
   ]
  },
  {
   "cell_type": "markdown",
   "id": "41dfdae7-f234-4bca-a758-d193109b1b25",
   "metadata": {},
   "source": [
    "#### Bytes and Lengths"
   ]
  },
  {
   "cell_type": "markdown",
   "id": "e5494315-1b72-4330-8ea0-32324d16cc14",
   "metadata": {},
   "source": [
    "Let us now introduce bytes and lengths."
   ]
  },
  {
   "cell_type": "code",
   "execution_count": null,
   "id": "c05418b9-7604-4276-9107-6137d1846c3f",
   "metadata": {},
   "outputs": [],
   "source": [
    "ASN1_EBNF_GRAMMAR.update({\n",
    "    '<byte>': crange('\\x00', '\\xff'),\n",
    "    '<byte0-127>': crange('\\x00', '\\x7f'),\n",
    "    '<byte128-255>': crange('\\x80', '\\xff'),\n",
    "\n",
    "    '<length>': ['<short-length>', \n",
    "                 '<long-length>'],\n",
    "    '<short-length>': ['<byte0-127>'],\n",
    "    '<long-length>': ['<byte128-255><length-value>'],\n",
    "    '<length-value>': ['<byte>', '<byte><length-value>'],\n",
    "    \n",
    "    '<any-value>': ['<byte>*'],\n",
    "})"
   ]
  },
  {
   "cell_type": "markdown",
   "id": "eaf5d927-9c74-44a8-ac66-292d97eb1dd7",
   "metadata": {},
   "source": [
    "#### Integers"
   ]
  },
  {
   "cell_type": "code",
   "execution_count": null,
   "id": "df30dcd7-1778-424e-9d87-695369faaf82",
   "metadata": {},
   "outputs": [],
   "source": [
    "add_tag(\n",
    "    name='integer',\n",
    "    tag=asn1.Numbers.Integer,\n",
    "    log=True,\n",
    "    test=True\n",
    ")                            "
   ]
  },
  {
   "cell_type": "code",
   "execution_count": null,
   "id": "f8e4016f-600d-46fb-a365-e94cafc6373a",
   "metadata": {
    "tags": []
   },
   "outputs": [],
   "source": [
    "tree = test_solve('integer')"
   ]
  },
  {
   "cell_type": "code",
   "execution_count": null,
   "id": "396ff933-1935-446a-aaa5-044734c38cd6",
   "metadata": {},
   "outputs": [],
   "source": [
    "str(tree), len(str(tree))"
   ]
  },
  {
   "cell_type": "code",
   "execution_count": null,
   "id": "5e4f8c94-472a-47e5-8e0b-a612b59f7737",
   "metadata": {},
   "outputs": [],
   "source": [
    "display_tree(tree)"
   ]
  },
  {
   "cell_type": "markdown",
   "id": "39ad117d-d961-472b-883b-98a4bf420a60",
   "metadata": {},
   "source": [
    "FIXME: Add constraints re: integers"
   ]
  },
  {
   "cell_type": "markdown",
   "id": "0e3a93d6-d605-4013-8b76-cdba9fe07370",
   "metadata": {},
   "source": [
    "#### Null"
   ]
  },
  {
   "cell_type": "code",
   "execution_count": null,
   "id": "457b9d59-3c4b-4f8d-a32e-50c65f200b12",
   "metadata": {},
   "outputs": [],
   "source": [
    "add_tag(\n",
    "    name='null',\n",
    "    tag=asn1.Numbers.Null,\n",
    "    length=['\\x00'],\n",
    "    expansions=['']\n",
    ")                            "
   ]
  },
  {
   "cell_type": "markdown",
   "id": "5193d9e8-b28e-49e3-a7b2-38d7f6f9d57c",
   "metadata": {},
   "source": [
    "#### More Simple Types"
   ]
  },
  {
   "cell_type": "code",
   "execution_count": null,
   "id": "9ce9d1d3-0637-4fda-b8be-7784c85b7ac5",
   "metadata": {},
   "outputs": [],
   "source": [
    "add_tag(\n",
    "    name='bit-string',\n",
    "    tag=asn1.Numbers.BitString,\n",
    ")                            "
   ]
  },
  {
   "cell_type": "code",
   "execution_count": null,
   "id": "719cb06f-b1ba-4f6e-b6db-57d435748c99",
   "metadata": {},
   "outputs": [],
   "source": [
    "add_tag(\n",
    "    name='octet-string',\n",
    "    tag=asn1.Numbers.OctetString,\n",
    ")                            "
   ]
  },
  {
   "cell_type": "code",
   "execution_count": null,
   "id": "9f1ad243-bfea-4fc7-a66b-7e4018f0b546",
   "metadata": {},
   "outputs": [],
   "source": [
    "add_tag(\n",
    "    name='object-identifier',\n",
    "    tag=asn1.Numbers.ObjectIdentifier,\n",
    ")                            "
   ]
  },
  {
   "cell_type": "code",
   "execution_count": null,
   "id": "7cc42ab0-824d-4b32-a3c9-ceec49fc6f1d",
   "metadata": {},
   "outputs": [],
   "source": [
    "add_tag(\n",
    "    name='enumerated',\n",
    "    tag=asn1.Numbers.Enumerated,\n",
    ")                            "
   ]
  },
  {
   "cell_type": "code",
   "execution_count": null,
   "id": "923cae95-405e-4f84-a0b6-9bcb24021a05",
   "metadata": {},
   "outputs": [],
   "source": [
    "add_tag(\n",
    "    name='utf8-string',\n",
    "    tag=asn1.Numbers.UTF8String,\n",
    ")                            "
   ]
  },
  {
   "cell_type": "code",
   "execution_count": null,
   "id": "30211f33-4ce0-48e7-8a3b-423c18709ae3",
   "metadata": {},
   "outputs": [],
   "source": [
    "add_tag(\n",
    "    name='printable-string',\n",
    "    tag=asn1.Numbers.PrintableString,\n",
    ")                            "
   ]
  },
  {
   "cell_type": "code",
   "execution_count": null,
   "id": "f64694f0-5531-484c-82ea-c58a35eab070",
   "metadata": {},
   "outputs": [],
   "source": [
    "add_tag(\n",
    "    name='ia5-string',\n",
    "    tag=asn1.Numbers.IA5String,\n",
    ")                            "
   ]
  },
  {
   "cell_type": "code",
   "execution_count": null,
   "id": "32285a42-3ebe-4cb9-9a91-0f8ae9dbb94a",
   "metadata": {},
   "outputs": [],
   "source": [
    "add_tag(\n",
    "    name='utc-time',\n",
    "    tag=asn1.Numbers.UTCTime,\n",
    ")                            "
   ]
  },
  {
   "cell_type": "code",
   "execution_count": null,
   "id": "52d437a9-be9d-4968-881b-72e8b91f2d99",
   "metadata": {},
   "outputs": [],
   "source": [
    "add_tag(\n",
    "    name='generalized-time',\n",
    "    tag=asn1.Numbers.GeneralizedTime,\n",
    ")                            "
   ]
  },
  {
   "cell_type": "code",
   "execution_count": null,
   "id": "7d3c2208-07b6-4feb-8d64-969a6b1c3093",
   "metadata": {},
   "outputs": [],
   "source": [
    "add_tag(\n",
    "    name='unicode-string',\n",
    "    tag=asn1.Numbers.UnicodeString,\n",
    ")                            "
   ]
  },
  {
   "cell_type": "markdown",
   "id": "6828956b-0d45-4b27-a18b-0c1a11caea82",
   "metadata": {},
   "source": [
    "### Structured Types"
   ]
  },
  {
   "cell_type": "code",
   "execution_count": null,
   "id": "7d86c6f3-fba9-40fa-bdc3-568287864d0b",
   "metadata": {
    "tags": []
   },
   "outputs": [],
   "source": [
    "add_tag(\n",
    "    name='sequence',\n",
    "    tag=asn1.Numbers.Sequence,\n",
    "    expansions=['<value>+']\n",
    ")                            "
   ]
  },
  {
   "cell_type": "code",
   "execution_count": null,
   "id": "33a16fe6-3532-488a-9954-980394def32f",
   "metadata": {
    "tags": []
   },
   "outputs": [],
   "source": [
    "add_tag(\n",
    "    name='set',\n",
    "    tag=asn1.Numbers.Set,\n",
    "    expansions=['<value>*']\n",
    ")                            "
   ]
  },
  {
   "cell_type": "markdown",
   "id": "9802b446-74c0-4fcf-b35f-c3fd0948967c",
   "metadata": {
    "tags": []
   },
   "source": [
    "### Other Types"
   ]
  },
  {
   "cell_type": "markdown",
   "id": "386bed7b-cd85-4d69-a9f7-123a4f3f68cd",
   "metadata": {},
   "source": [
    "We define a generic means to read in values whose tags we haven't seen before"
   ]
  },
  {
   "cell_type": "code",
   "execution_count": null,
   "id": "d338fbde-7e0d-46e3-8a21-7f97963d594a",
   "metadata": {},
   "outputs": [],
   "source": [
    "UNUSED_TAGS = set()\n",
    "for tag in range(0, 0x1f):\n",
    "    if chr(tag) not in USED_TAGS:\n",
    "        UNUSED_TAGS.add(chr(tag))"
   ]
  },
  {
   "cell_type": "code",
   "execution_count": null,
   "id": "e73db08c-e7eb-4707-948a-f6355297fc69",
   "metadata": {},
   "outputs": [],
   "source": [
    "ASN1_EBNF_GRAMMAR.update({\n",
    "    '<other>': ['<other-tag><other-length><other-value>'],\n",
    "    '<other-tag>': \n",
    "                ['<other-low-tag>', \n",
    "                 '<other-high-tag>'],\n",
    "    '<other-low-tag>': list(UNUSED_TAGS),\n",
    "    '<other-high-tag>': ['<high-tag><byte>+'],\n",
    "    '<high-tag>': tag_variations(0x1f),\n",
    "\n",
    "    '<other-length>': ['<length>'],\n",
    "    '<other-value>': ['<byte>*'],\n",
    "})\n",
    "\n",
    "ASN1_EBNF_GRAMMAR['<value>'].append('<other>')"
   ]
  },
  {
   "cell_type": "markdown",
   "id": "d5f16866-0918-4291-8f48-d389c2df14c2",
   "metadata": {
    "tags": []
   },
   "source": [
    "## Producing"
   ]
  },
  {
   "cell_type": "code",
   "execution_count": null,
   "id": "24312f56-41df-4e23-b05a-91ab20d72632",
   "metadata": {},
   "outputs": [],
   "source": [
    "print(\"\".join(ASN1_CONSTRAINTS))"
   ]
  },
  {
   "cell_type": "code",
   "execution_count": null,
   "id": "e51f5604-5088-4c58-98dd-25fe1c92894a",
   "metadata": {},
   "outputs": [],
   "source": [
    "ASN1_EBNF_GRAMMAR['<start>'] = ['<sequence>']"
   ]
  },
  {
   "cell_type": "code",
   "execution_count": null,
   "id": "014faedf-6d84-4352-80f9-9d42b9ada032",
   "metadata": {},
   "outputs": [],
   "source": [
    "assert is_valid_grammar(ASN1_EBNF_GRAMMAR)"
   ]
  },
  {
   "cell_type": "code",
   "execution_count": null,
   "id": "2cb42756-e3cb-4a36-abd6-a746d6367a7d",
   "metadata": {},
   "outputs": [],
   "source": [
    "ASN1_GRAMMAR = convert_ebnf_grammar(ASN1_EBNF_GRAMMAR)"
   ]
  },
  {
   "cell_type": "code",
   "execution_count": null,
   "id": "fe46becb-972a-437a-ab43-d603e0d2cac5",
   "metadata": {},
   "outputs": [],
   "source": [
    "assert is_valid_grammar(ASN1_GRAMMAR)"
   ]
  },
  {
   "cell_type": "code",
   "execution_count": null,
   "id": "222affb1-2a81-48ab-93a7-bf042c5d2004",
   "metadata": {},
   "outputs": [],
   "source": [
    "solver = ISLaSolver(ASN1_GRAMMAR, \"\".join(ASN1_CONSTRAINTS.values()))"
   ]
  },
  {
   "cell_type": "markdown",
   "id": "231d2a2b-9434-407a-8b6e-720f697a4155",
   "metadata": {},
   "source": [
    "## Parsing"
   ]
  },
  {
   "cell_type": "code",
   "execution_count": null,
   "id": "3b5d04f9-e09e-4b1b-96cc-2db2d632947c",
   "metadata": {},
   "outputs": [],
   "source": [
    "ASN1_EBNF_GRAMMAR['<start>'] = ['<value>']"
   ]
  },
  {
   "cell_type": "code",
   "execution_count": null,
   "id": "3751dfe4-99c9-4664-b107-4691353c6a32",
   "metadata": {},
   "outputs": [],
   "source": [
    "ASN1_GRAMMAR = convert_ebnf_grammar(ASN1_EBNF_GRAMMAR)"
   ]
  },
  {
   "cell_type": "code",
   "execution_count": null,
   "id": "c3c6aaec-96a8-422b-b44b-bf4250e1e2f3",
   "metadata": {},
   "outputs": [],
   "source": [
    "solver = ISLaSolver(ASN1_GRAMMAR, ASN1_CONSTRAINTS)"
   ]
  },
  {
   "cell_type": "code",
   "execution_count": null,
   "id": "ec18340b-dd91-4e85-99e1-85b8d7074aa0",
   "metadata": {},
   "outputs": [],
   "source": [
    "tree = solver.parse('\\x02\\x01\\x02')"
   ]
  },
  {
   "cell_type": "code",
   "execution_count": null,
   "id": "11b6cff5-eaec-405d-b4e5-fe1643f5f0c4",
   "metadata": {},
   "outputs": [],
   "source": [
    "display_tree(tree)"
   ]
  },
  {
   "cell_type": "code",
   "execution_count": null,
   "id": "b18bcf8c-bdff-45ef-975c-a2d286ae5a04",
   "metadata": {},
   "outputs": [],
   "source": []
  }
 ],
 "metadata": {
  "kernelspec": {
   "display_name": "Python 3 (ipykernel)",
   "language": "python",
   "name": "python3"
  },
  "language_info": {
   "codemirror_mode": {
    "name": "ipython",
    "version": 3
   },
   "file_extension": ".py",
   "mimetype": "text/x-python",
   "name": "python",
   "nbconvert_exporter": "python",
   "pygments_lexer": "ipython3",
   "version": "3.10.2"
  }
 },
 "nbformat": 4,
 "nbformat_minor": 5
}
